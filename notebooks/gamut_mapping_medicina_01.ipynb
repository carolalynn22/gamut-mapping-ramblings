{
 "cells": [
  {
   "cell_type": "markdown",
   "metadata": {
    "colab_type": "text",
    "id": "pRS6nhpu1R6y"
   },
   "source": [
    "# Gamut Mapping - Medicina 01"
   ]
  },
  {
   "cell_type": "markdown",
   "metadata": {},
   "source": [
    "## Introduction"
   ]
  },
  {
   "cell_type": "markdown",
   "metadata": {},
   "source": [
    "This notebook implements an interactive widget used to investigate various gamut models in the context for the [ACES VWG on Gamut Mapping](https://community.acescentral.com/c/aces-development-acesnext/vwg-aces-gamut-mapping-working-group/).\n",
    "\n",
    "It is assumed that the reader has basic knowledge about image processing and colour management in the Media and Entertainment Industry. An introductory publication on the topic is [Cinematic Color: From Your Monitor to the Big Screen](https://cinematiccolor.org/) by Selan (2012).\n",
    "\n",
    "Images courtesy of:\n",
    "\n",
    "- [Justin Holt](https://www.dropbox.com/sh/u6z2a0jboo4vno8/AAB-10qcflhpr0C5LWhs7Kq4a?dl=0)\n",
    "- [Thomas Mansencal](https://community.acescentral.com/t/spectral-images-generation-and-processing/)\n",
    "- [Fabian Matas](https://www.dropbox.com/sh/u6z2a0jboo4vno8/AAB-10qcflhpr0C5LWhs7Kq4a?dl=0)\n",
    "- [Carol Payne](https://www.dropbox.com/sh/u6z2a0jboo4vno8/AAB-10qcflhpr0C5LWhs7Kq4a?dl=0)\n",
    "- [Martin Smekal](https://community.acescentral.com/t/vfx-work-in-acescg-with-out-of-gamut-devices/2385)"
   ]
  },
  {
   "cell_type": "markdown",
   "metadata": {},
   "source": [
    "## Imports & Overall Settings"
   ]
  },
  {
   "cell_type": "code",
   "execution_count": 1,
   "metadata": {},
   "outputs": [],
   "source": [
    "%matplotlib widget"
   ]
  },
  {
   "cell_type": "code",
   "execution_count": 2,
   "metadata": {},
   "outputs": [],
   "source": [
    "!export COLOUR_SCIENCE__FLOAT_PRECISION=float32"
   ]
  },
  {
   "cell_type": "code",
   "execution_count": 3,
   "metadata": {
    "colab": {
     "base_uri": "https://localhost:8080/",
     "height": 340
    },
    "colab_type": "code",
    "id": "OydMmtZRxd3c",
    "outputId": "297a43b9-f566-405d-e8bc-cfae56b50959"
   },
   "outputs": [
    {
     "name": "stdout",
     "output_type": "stream",
     "text": [
      "===============================================================================\n",
      "*                                                                             *\n",
      "*   Interpreter :                                                             *\n",
      "*       python : 3.7.6 (default, Dec 30 2019, 19:38:26)                       *\n",
      "*                [Clang 11.0.0 (clang-1100.0.33.16)]                          *\n",
      "*                                                                             *\n",
      "*   colour-science.org :                                                      *\n",
      "*       colour : v0.3.15-141-g3bebd7e9                                        *\n",
      "*                                                                             *\n",
      "*   Runtime :                                                                 *\n",
      "*       imageio : 2.8.0                                                       *\n",
      "*       matplotlib : 3.0.3                                                    *\n",
      "*       numpy : 1.18.4                                                        *\n",
      "*       scipy : 1.4.1                                                         *\n",
      "*       six : 1.14.0                                                          *\n",
      "*                                                                             *\n",
      "===============================================================================\n"
     ]
    }
   ],
   "source": [
    "from __future__ import division, unicode_literals\n",
    "\n",
    "import colour\n",
    "import ipympl.backend_nbagg\n",
    "import ipywidgets\n",
    "import matplotlib.gridspec as gridspec\n",
    "import matplotlib.patches as patches\n",
    "import matplotlib.pyplot as plt\n",
    "import numpy as np\n",
    "import os\n",
    "import scipy.interpolate\n",
    "from matplotlib.collections import PathCollection\n",
    "from matplotlib._layoutbox import plot_children\n",
    "\n",
    "DEFAULT_BOX_DECORATION_WIDTH = 4\n",
    "MPL_BOX_DECORATION_WIDTH = 28\n",
    "\n",
    "COLOUR_STYLE = colour.plotting.colour_style()\n",
    "COLOUR_STYLE.update({\n",
    "    'legend.framealpha':\n",
    "    colour.plotting.COLOUR_STYLE_CONSTANTS.opacity.low\n",
    "})\n",
    "\n",
    "plt.style.use(COLOUR_STYLE)\n",
    "\n",
    "plt.style.use('dark_background')\n",
    "\n",
    "colour.utilities.describe_environment()\n",
    "\n",
    "colour.utilities.filter_warnings(*[True] * 4);"
   ]
  },
  {
   "cell_type": "markdown",
   "metadata": {},
   "source": [
    "## Widgets Styling"
   ]
  },
  {
   "cell_type": "markdown",
   "metadata": {},
   "source": [
    "CSS style for various widgets to improve overall presentation."
   ]
  },
  {
   "cell_type": "code",
   "execution_count": 4,
   "metadata": {},
   "outputs": [
    {
     "data": {
      "text/html": [
       "<style>\n",
       ".widget-button {\n",
       "    margin-left: 10px;\n",
       "    margin-right: 10px;\n",
       "}\n",
       "</style>\n"
      ],
      "text/plain": [
       "<IPython.core.display.HTML object>"
      ]
     },
     "metadata": {},
     "output_type": "display_data"
    }
   ],
   "source": [
    "%%html\n",
    "<style>\n",
    ".widget-button {\n",
    "    margin-left: 10px;\n",
    "    margin-right: 10px;\n",
    "}\n",
    "</style>"
   ]
  },
  {
   "cell_type": "markdown",
   "metadata": {},
   "source": [
    "## Computations Precision"
   ]
  },
  {
   "cell_type": "code",
   "execution_count": 5,
   "metadata": {},
   "outputs": [],
   "source": [
    "colour.utilities.set_float_precision(np.float32)"
   ]
  },
  {
   "cell_type": "markdown",
   "metadata": {
    "colab_type": "text",
    "id": "5yCeFpnnp_wh"
   },
   "source": [
    "## Colour Wheel Generation"
   ]
  },
  {
   "cell_type": "markdown",
   "metadata": {},
   "source": [
    "Utility function responsible to produce a scene-referred colour wheel."
   ]
  },
  {
   "cell_type": "code",
   "execution_count": 6,
   "metadata": {
    "colab": {},
    "colab_type": "code",
    "id": "RshonIbOI4Ij"
   },
   "outputs": [],
   "source": [
    "def colour_wheel(samples=1024, clip_circle=False, method='Colour'):\n",
    "    xx, yy = np.meshgrid(\n",
    "        np.linspace(-1, 1, samples), np.linspace(-1, 1, samples))\n",
    "\n",
    "    S = np.sqrt(xx ** 2 + yy ** 2)    \n",
    "    H = (np.arctan2(xx, yy) + np.pi) / (np.pi * 2)\n",
    "\n",
    "    HSV = colour.utilities.tstack([H, S, np.ones(H.shape)])\n",
    "    RGB = colour.HSV_to_RGB(HSV)\n",
    "\n",
    "    if clip_circle == True:\n",
    "        RGB[S > 1] = 0\n",
    "        A = np.where(S > 1, 0, 1)\n",
    "    else:\n",
    "        A = np.ones(S.shape)\n",
    "\n",
    "    if method.lower()== 'matplotlib':\n",
    "        RGB = colour.utilities.orient(RGB, '90 CW')\n",
    "    elif method.lower()== 'nuke':\n",
    "        RGB = colour.utilities.orient(RGB, 'Flip')\n",
    "        RGB = colour.utilities.orient(RGB, '90 CW')\n",
    "\n",
    "    R, G, B = colour.utilities.tsplit(RGB)\n",
    "    \n",
    "    return colour.utilities.tstack([R, G, B, A])"
   ]
  },
  {
   "cell_type": "markdown",
   "metadata": {},
   "source": [
    "## Utility Functions & Objects"
   ]
  },
  {
   "cell_type": "markdown",
   "metadata": {},
   "source": [
    "Various random utility functions and objects."
   ]
  },
  {
   "cell_type": "code",
   "execution_count": 7,
   "metadata": {},
   "outputs": [],
   "source": [
    "def batch(sequence, count):\n",
    "    for i in range(0, len(sequence), count):\n",
    "        yield sequence[i:i + count]\n",
    "        \n",
    "\n",
    "def border_layout():\n",
    "    return ipywidgets.widgets.Layout(\n",
    "        border='solid {0}px #222'.format(4),\n",
    "        margin='{0}px'.format(DEFAULT_BOX_DECORATION_WIDTH),\n",
    "        padding='0')\n",
    "\n",
    "\n",
    "def adjust_exposure(a, EV):\n",
    "    a = colour.utilities.as_float_array(a)\n",
    "\n",
    "    return a * pow(2, EV)"
   ]
  },
  {
   "cell_type": "markdown",
   "metadata": {},
   "source": [
    "## View Transforms"
   ]
  },
  {
   "cell_type": "markdown",
   "metadata": {},
   "source": [
    "Because the imagery represents scene-referred exposure values, the gamut mapped images should ideally be viewed with an appropriate *View Transform*, typically an *ACES RRT + sRGB ODT* transforms combination.\n",
    "\n",
    "The notebook implements the following *View Transforms*:\n",
    "\n",
    "- *sRGB*: Performs a transformation from the working space to the *sRGB* colourspace and applies the *sRGB* inverse *Electro-Optical Transfer Function*.\n",
    "- *ACES (sRGB)*: Performs a transformation from the working space to the *[ACES sRGB Output Device Transform](https://github.com/ampas/aces-dev/blob/master/transforms/ctl/odt/sRGB/ODT.Academy.sRGB_100nits_dim.ctl)*."
   ]
  },
  {
   "cell_type": "code",
   "execution_count": 8,
   "metadata": {},
   "outputs": [],
   "source": [
    "def view_transform_sRGB(RGB, working_space):\n",
    "    RGB = colour.RGB_to_RGB(RGB, working_space, colour.models.sRGB_COLOURSPACE,\n",
    "                            apply_encoding_cctf=True)\n",
    "\n",
    "    return np.clip(RGB, 0, 1)\n",
    "\n",
    "\n",
    "ACES_sRGB_LUT = colour.read_LUT('../resources/luts/ACES2065-1_sRGB_OT_64.csp')\n",
    "\n",
    "\n",
    "def view_transform_ACES_sRGB(RGB, working_space):\n",
    "    RGB = colour.RGB_to_RGB(RGB, working_space,\n",
    "                            colour.models.ACES_2065_1_COLOURSPACE)\n",
    "    RGB = ACES_sRGB_LUT.apply(np.clip(RGB, 0.002, 16.29))\n",
    "\n",
    "    return np.clip(RGB, 0, 1)\n",
    "\n",
    "\n",
    "VIEW_TRANSFORMS = {\n",
    "    'sRGB': view_transform_sRGB,\n",
    "    'ACES (sRGB)': view_transform_ACES_sRGB,\n",
    "}"
   ]
  },
  {
   "cell_type": "markdown",
   "metadata": {},
   "source": [
    "## Gamut Medicina Base Widget"
   ]
  },
  {
   "cell_type": "markdown",
   "metadata": {},
   "source": [
    "The `GamutMedicinaBaseWidget` base widget class is inherited by the concrete sub-classes implementing the various gamut mapping study models.\n",
    "\n",
    "At its core it is itself an `ipywidgets.widgets.Box` sub-class which outputs a [Matplotlib](http://matplotlib.org/) figure composed of three sub-plots:\n",
    "\n",
    "- **Reference Image**: Required, 1 cartesian `Axes`\n",
    "- **Colour Wheel**: Optional, 1 cartesian `Axes` and 1 polar `Axes`\n",
    "- **Chromaticity Diagram**: Optional, 1 cartesian `Axes`\n",
    "\n",
    "Trivial layout heuristic is implemented to support optionally enabling or disabling the **Colour Wheel** and **Chromaticity Diagram** sub-plots."
   ]
  },
  {
   "cell_type": "markdown",
   "metadata": {},
   "source": [
    "### Reference Image"
   ]
  },
  {
   "cell_type": "markdown",
   "metadata": {},
   "source": [
    "The **Reference Image** sub-plot is responsible for displaying the gamut mapped scene-referred imagery.\n",
    "\n",
    "*Note*\n",
    "\n",
    "> To improve the performance of the notebook, the *View Transform*, i.e. a S-Curve, converting the scene-referred imagery to output-referred values is omitted."
   ]
  },
  {
   "cell_type": "markdown",
   "metadata": {},
   "source": [
    "### Colour Wheel"
   ]
  },
  {
   "cell_type": "markdown",
   "metadata": {},
   "source": [
    "The **Colour Wheel** sub-plot is used to represent the controls for the gamut mapping study models adopting a cylindrical or conic working space.\n",
    "\n",
    "The colour wheel is drawn on a cartesian `Axes` on top of which is overlayed a polar `Axes` used to draw the control regions."
   ]
  },
  {
   "cell_type": "markdown",
   "metadata": {},
   "source": [
    "### Chromaticity Diagram"
   ]
  },
  {
   "cell_type": "markdown",
   "metadata": {},
   "source": [
    "The **Chromaticity Diagram** sub-plot is also used to represent the controls for the gamut mapping study models into the *Chromaticity Diagram 1976 UCS* based on the [CIE L\\*u\\*v\\*](https://fr.wikipedia.org/wiki/L*u*v*_CIE_1976) colourspace.\n",
    "\n",
    "It also features the following elements:\n",
    "\n",
    "- *RGB Working Space* gamut, i.e. *ACEScg/AP1*, large triangle\n",
    "- *RGB Display Space* gamut, i.e. *sRGB*, small triangle\n",
    "- Scatter of the decimated **Reference Image** data\n",
    "- Scatter of the ColorChecker Classic data, white scatter points\n"
   ]
  },
  {
   "cell_type": "code",
   "execution_count": 9,
   "metadata": {},
   "outputs": [
    {
     "data": {
      "application/vnd.jupyter.widget-view+json": {
       "model_id": "7a81988bb752454a8e44300ccf7b3047",
       "version_major": 2,
       "version_minor": 0
      },
      "text/plain": [
       "GamutMedicinaBaseWidget(children=(Output(layout=Layout(border='solid 4px #222', margin='4px', padding='0')), T…"
      ]
     },
     "metadata": {},
     "output_type": "display_data"
    }
   ],
   "source": [
    "class GamutMedicinaBaseWidget(ipywidgets.widgets.Box):\n",
    "    def __init__(self,\n",
    "                 reference_image_path=None,\n",
    "                 working_space=colour.models.ACES_CG_COLOURSPACE,\n",
    "                 reference_space=colour.models.ACES_2065_1_COLOURSPACE,\n",
    "                 display_space=colour.models.sRGB_COLOURSPACE,\n",
    "                 view_transform='sRGB',\n",
    "                 colour_wheel_samples=256,\n",
    "                 image_decimation=10,\n",
    "                 reference_image_exposure=0,\n",
    "                 figure_size=(11, None),\n",
    "                 padding=0.005,\n",
    "                 spacing=0.005,\n",
    "                 show_labels=False,\n",
    "                 enable_colour_wheel=True,\n",
    "                 enable_chromaticity_diagram=True,\n",
    "                 show_out_of_gamut=False,\n",
    "                 enable_medicina=True,\n",
    "                 debug_layout=False):\n",
    "        super().__init__()\n",
    "\n",
    "        self._reference_image_path = reference_image_path\n",
    "        self._working_space = working_space\n",
    "        self._reference_space = reference_space\n",
    "        self._display_space = display_space\n",
    "        self._view_transform = view_transform\n",
    "        self._colour_wheel_samples = colour_wheel_samples\n",
    "        self._image_decimation = image_decimation\n",
    "        self._reference_image_exposure = reference_image_exposure\n",
    "        self._figure_size = figure_size\n",
    "        self._padding = padding\n",
    "        self._spacing = spacing\n",
    "        self._show_labels = show_labels\n",
    "        self._enable_colour_wheel = enable_colour_wheel\n",
    "        self._enable_chromaticity_diagram = enable_chromaticity_diagram\n",
    "\n",
    "        self._show_out_of_gamut = show_out_of_gamut\n",
    "        self._enable_medicina = enable_medicina\n",
    "\n",
    "        self._reference_image = None\n",
    "        self._reference_image_pre_working = None\n",
    "        self._reference_image_working = None\n",
    "        self._reference_image_mapped = None\n",
    "        self._reference_image_display = None\n",
    "\n",
    "        if self._enable_colour_wheel:\n",
    "            self._colour_wheel = None\n",
    "\n",
    "        if self._enable_chromaticity_diagram:\n",
    "            self._decimated_image_pre_working = None\n",
    "            self._decimated_image_working = None\n",
    "            self._decimated_image_display = None\n",
    "\n",
    "        self._colour_checker = None\n",
    "        self._colour_checker_uv = None\n",
    "\n",
    "        self._output = None\n",
    "        self._figure = None\n",
    "        self._grid_spec = None\n",
    "        self._reference_image_axes = None\n",
    "        self._reference_image_imshow = None\n",
    "\n",
    "        if self._enable_colour_wheel:\n",
    "            self._colour_wheel_cartersian_axes = None\n",
    "            self._colour_wheel_imshow = None\n",
    "            self._colour_wheel_polar_axes = None\n",
    "\n",
    "        if self._enable_chromaticity_diagram:\n",
    "            self._chromaticity_diagram_axes = None\n",
    "\n",
    "        self._disable_medidicina_CheckBox = None\n",
    "        self._export_reference_image_Button = None\n",
    "        self._save_figure_image_Button = None\n",
    "        self._view_transform_DropDown = None\n",
    "        self._reset_exposure_Button = None\n",
    "        self._exposure_FloatSlider = None\n",
    "        self._show_out_of_gamut_CheckBox = None\n",
    "        self._global_controls_HBox = None\n",
    "        self._viewer_controls_HBox = None\n",
    "        self._controls_Tab = None\n",
    "\n",
    "        self.initialize_data()\n",
    "        self.initialize_axes()\n",
    "        self.initialise_widgets()\n",
    "        self.attach_callbacks()\n",
    "\n",
    "        if debug_layout:\n",
    "            plot_children(self._figure, self._figure._layoutbox, printit=False)\n",
    "\n",
    "    def initialize_data(self):\n",
    "        # *** Reference Image ***\n",
    "        self._reference_image = colour.utilities.as_float_array((\n",
    "            colour.read_image(self._reference_image_path))\n",
    "                                 if self._reference_image_path is not None else\n",
    "                                 np.random.rand(540, 960, 3))\n",
    "        self._reference_image_path = (self._reference_image_path\n",
    "                                      if self._reference_image_path is not None\n",
    "                                      else 'Random.exr')\n",
    "        self._reference_image_pre_working = self.reference_space_to_working_space(\n",
    "            self._reference_image)\n",
    "\n",
    "        self._reference_image_working = self._reference_image_pre_working\n",
    "        self._reference_image_mapped = self._reference_image_pre_working\n",
    "        self._reference_image_display = self.working_space_to_display_space(\n",
    "            self._reference_image_working)\n",
    "\n",
    "        # *** Colour Wheel ***\n",
    "        if self._enable_colour_wheel:\n",
    "            self._colour_wheel = colour_wheel(\n",
    "                self._colour_wheel_samples, method='Matplotlib')[..., 0:3]\n",
    "\n",
    "        # *** Decimated Image, i.e. Scatter ***\n",
    "        if self._enable_chromaticity_diagram:\n",
    "            self._decimated_image_pre_working = (\n",
    "                self._reference_image_working[::self._image_decimation, ::self.\n",
    "                                              _image_decimation, :]).reshape(\n",
    "                                                  -1, 3)\n",
    "            self._decimated_image_working = self._decimated_image_pre_working\n",
    "            self._decimated_image_display = (\n",
    "                self.working_space_to_display_space(\n",
    "                    self._decimated_image_working))\n",
    "\n",
    "        # *** Colour Checker\n",
    "        colour_checker = colour.COLOURCHECKERS[\n",
    "            'ColorChecker24 - After November 2014']\n",
    "        colour_checker_data = colour.utilities.as_float_array(\n",
    "            list(colour_checker.data.values()))\n",
    "        self._colour_checker_uv = colour.xy_to_Luv_uv(\n",
    "            colour_checker_data[:, 0:2])\n",
    "\n",
    "    def initialize_axes(self):\n",
    "        self._output = ipywidgets.widgets.Output()\n",
    "\n",
    "        image_height, image_width, channels = self._reference_image.shape\n",
    "        if self._figure_size[-1] is None:\n",
    "            if self._enable_colour_wheel and self._enable_chromaticity_diagram:\n",
    "                width = image_height / 2 + image_width\n",
    "                height = image_height - self._padding * 100 - self._spacing * 100\n",
    "                # Unresolved fudge factor to ensure plots line up.\n",
    "                height -= int(height * 0.05)\n",
    "            elif self._enable_colour_wheel or self._enable_chromaticity_diagram:\n",
    "                width = image_height + image_width\n",
    "                height = image_height\n",
    "            else:\n",
    "                width = image_width\n",
    "                height = image_height\n",
    "            ratio = self._figure_size[0] * 100 / width\n",
    "            figure_size = (width / 100 * ratio, height / 100 * ratio)\n",
    "        else:\n",
    "            figure_size = self._figure_size\n",
    "\n",
    "        with self._output:\n",
    "            self._figure = plt.figure(\n",
    "                figsize=figure_size,\n",
    "                constrained_layout=True,\n",
    "                facecolor=[2 / 3 / 10] * 3)\n",
    "            self._figure.canvas.toolbar_visible = False\n",
    "            self._figure.canvas.header_visible = False\n",
    "            self._figure.canvas.footer_visible = True\n",
    "            self._figure.canvas.resizable = False\n",
    "            self._figure.tight_layout()\n",
    "\n",
    "        if self._enable_colour_wheel and self._enable_chromaticity_diagram:\n",
    "            rows = columns = 2\n",
    "            colour_wheel_indices = 0, 0\n",
    "            chromaticity_diagram_indices = 1, 0\n",
    "            reference_image_indices = slice(0, None, None), slice(\n",
    "                1, None, None)\n",
    "            width_ratios = [1, 2 * image_width / image_height]\n",
    "        elif not self._enable_colour_wheel and not self._enable_chromaticity_diagram:\n",
    "            rows = columns = 1\n",
    "            colour_wheel_indices = chromaticity_diagram_indices = None\n",
    "            reference_image_indices = 0, 0\n",
    "            width_ratios = [1]\n",
    "        else:\n",
    "            rows = 1\n",
    "            columns = 2\n",
    "            colour_wheel_indices = chromaticity_diagram_indices = 0, 0\n",
    "            reference_image_indices = 0, 1\n",
    "            width_ratios = [1, image_width / image_height]\n",
    "\n",
    "        self._grid_spec = gridspec.GridSpec(\n",
    "            ncols=columns,\n",
    "            nrows=rows,\n",
    "            figure=self._figure,\n",
    "            width_ratios=width_ratios,\n",
    "            wspace=self._spacing,\n",
    "            hspace=self._spacing)\n",
    "        self._figure.set_constrained_layout_pads(\n",
    "            w_pad=self._padding, h_pad=self._padding)\n",
    "\n",
    "        # Colour Wheel Axes\n",
    "        if self._enable_colour_wheel:\n",
    "            self._colour_wheel_cartersian_axes = self._figure.add_subplot(\n",
    "                self._grid_spec[colour_wheel_indices[0], colour_wheel_indices[\n",
    "                    1]],\n",
    "                label='Cartesian Axes')\n",
    "            self._colour_wheel_cartersian_axes.axis('off')\n",
    "            circle = patches.Circle(\n",
    "                [0.5, 0.5],\n",
    "                radius=0.5,\n",
    "                transform=self._colour_wheel_cartersian_axes.transData)\n",
    "            self._colour_wheel_imshow = self._colour_wheel_cartersian_axes.imshow(\n",
    "                np.clip(self._colour_wheel, 0, 1),\n",
    "                extent=[0, 1, 0, 1],\n",
    "                clip_path=None)\n",
    "            self._colour_wheel_imshow.set_clip_path(circle)\n",
    "\n",
    "            self._colour_wheel_polar_axes = self._figure.add_subplot(\n",
    "                self._grid_spec[colour_wheel_indices[0], colour_wheel_indices[\n",
    "                    1]],\n",
    "                projection='polar',\n",
    "                label='Polar Axes')\n",
    "            self._colour_wheel_polar_axes.set_xlim(0, np.pi * 2)\n",
    "            self._colour_wheel_polar_axes.set_ylim(0, 1)\n",
    "            self._colour_wheel_polar_axes.patch.set_alpha(0)\n",
    "            self._colour_wheel_polar_axes.grid(alpha=0.15)\n",
    "            if not self._show_labels:\n",
    "                self._colour_wheel_polar_axes.set_xticklabels([])\n",
    "            self._colour_wheel_polar_axes.set_yticklabels([])\n",
    "\n",
    "        # Chromaticity Diagram Axes\n",
    "        if self._enable_chromaticity_diagram:\n",
    "            self._chromaticity_diagram_axes = self._figure.add_subplot(\n",
    "                self._grid_spec[chromaticity_diagram_indices[0],\n",
    "                                chromaticity_diagram_indices[1]])\n",
    "            self._chromaticity_diagram_axes.patch.set_alpha(0)\n",
    "            (colour.plotting.\n",
    "             plot_RGB_chromaticities_in_chromaticity_diagram_CIE1976UCS(\n",
    "                 self._decimated_image_working,\n",
    "                 colourspace=self._working_space,\n",
    "                 colourspaces=['sRGB'],\n",
    "                 axes=self._chromaticity_diagram_axes,\n",
    "                 standalone=False,\n",
    "                 transparent_background=False,\n",
    "                 spectral_locus_colours='RGB',\n",
    "                 spectral_locus_labels=[],\n",
    "                 diagram_opacity=0,\n",
    "                 scatter_kwargs={'s': 1},\n",
    "                 title=str(),\n",
    "                 x_label=str(),\n",
    "                 y_label=str(),\n",
    "                 legend=False))\n",
    "            self._chromaticity_diagram_axes.tick_params(\n",
    "                axis='y', which='both', direction='in')\n",
    "            self._chromaticity_diagram_axes.tick_params(\n",
    "                axis='x', which='both', direction='in')\n",
    "            self._chromaticity_diagram_axes.minorticks_off()\n",
    "            self._chromaticity_diagram_axes.grid(alpha=0.15)\n",
    "            for collection in self._chromaticity_diagram_axes.collections:\n",
    "                if isinstance(collection, PathCollection):\n",
    "                    self._scatter_path_collection = collection\n",
    "                    break\n",
    "\n",
    "            if not self._show_labels:\n",
    "                self._chromaticity_diagram_axes.set_xticklabels([])\n",
    "                self._chromaticity_diagram_axes.set_yticklabels([])\n",
    "\n",
    "            self._chromaticity_diagram_axes.scatter(\n",
    "                self._colour_checker_uv[:, 0],\n",
    "                self._colour_checker_uv[:, 1],\n",
    "                c='white',\n",
    "                marker='D',\n",
    "                s=5)\n",
    "\n",
    "        # Reference Image Axes\n",
    "        self._reference_image_axes = self._figure.add_subplot(self._grid_spec[\n",
    "            reference_image_indices[0], reference_image_indices[1]])\n",
    "        self._reference_image_axes.set_xticks([])\n",
    "        self._reference_image_axes.set_yticks([])\n",
    "        self._reference_image_imshow = self._reference_image_axes.imshow(\n",
    "            self.working_space_to_display_space(self._reference_image_working))\n",
    "\n",
    "    def initialise_widgets(self):\n",
    "        # *** Widgets ***\n",
    "        self._disable_medidicina_CheckBox = (ipywidgets.widgets.Checkbox(\n",
    "            value=not self._enable_medicina, description='Disable Medicina'))\n",
    "        self._export_reference_image_Button = (\n",
    "            ipywidgets.widgets.Button(description=\"Export Image\"))\n",
    "        self._save_figure_image_Button = (\n",
    "            ipywidgets.widgets.Button(description=\"Save Figure\"))\n",
    "\n",
    "        view_transforms = list(VIEW_TRANSFORMS.keys())\n",
    "        self._view_transform_DropDown = ipywidgets.widgets.Dropdown(\n",
    "            options=view_transforms,\n",
    "            value=self._view_transform,\n",
    "            description='View Transform:',\n",
    "        )\n",
    "        self._reset_exposure_Button = (\n",
    "            ipywidgets.widgets.Button(description=\"Reset Exposure\"))\n",
    "        self._exposure_FloatSlider = (ipywidgets.widgets.FloatSlider(\n",
    "            min=-8.0,\n",
    "            max=8.0,\n",
    "            step=0.1,\n",
    "            value=self._reference_image_exposure,\n",
    "            description='Exposure'))\n",
    "        self._show_out_of_gamut_CheckBox = (ipywidgets.widgets.Checkbox(\n",
    "            value=self._show_out_of_gamut, description='Show Out-of-Gamut'))\n",
    "\n",
    "        # *** Layout ***\n",
    "        self.layout.display = 'flex'\n",
    "        self.layout.flex_flow = 'column'\n",
    "        self.layout.align_items = 'stretch'\n",
    "        self.layout.width = '{0}px'.format(self._figure_size[0] * 100 +\n",
    "                                           MPL_BOX_DECORATION_WIDTH)\n",
    "\n",
    "        self._global_controls_HBox = ipywidgets.widgets.HBox([\n",
    "            self._disable_medidicina_CheckBox,\n",
    "            self._export_reference_image_Button,\n",
    "            self._save_figure_image_Button,\n",
    "        ])\n",
    "\n",
    "        self._viewer_controls_HBox = ipywidgets.widgets.HBox([\n",
    "            self._view_transform_DropDown,\n",
    "            self._reset_exposure_Button,\n",
    "            self._exposure_FloatSlider,\n",
    "            self._show_out_of_gamut_CheckBox,\n",
    "        ])\n",
    "\n",
    "        self._controls_Tab = ipywidgets.widgets.Tab(children=[\n",
    "            self._global_controls_HBox,\n",
    "            self._viewer_controls_HBox,\n",
    "        ])\n",
    "        self._controls_Tab.set_title(0, 'Global Controls')\n",
    "        self._controls_Tab.set_title(1, 'Viewer Controls')\n",
    "\n",
    "        self._controls_Tab.layout = border_layout()\n",
    "\n",
    "        self._output.layout = border_layout()\n",
    "        self.children = [self._output, self._controls_Tab]\n",
    "\n",
    "    def attach_callbacks(self):\n",
    "        self._disable_medidicina_CheckBox.observe(self.toggle_medidicina)\n",
    "        self._export_reference_image_Button.on_click(\n",
    "            self.export_reference_image)\n",
    "        self._save_figure_image_Button.on_click(self.save_figure)\n",
    "        self._show_out_of_gamut_CheckBox.observe(self.toggle_out_of_gamut)\n",
    "        self._reset_exposure_Button.on_click(self.reset_exposure)\n",
    "        self._exposure_FloatSlider.observe(self.set_exposure, 'value')\n",
    "        self._view_transform_DropDown.observe(self.update_widget, 'value')\n",
    "\n",
    "    def reference_space_to_working_space(self, RGB):\n",
    "        return colour.RGB_to_RGB(RGB, self._reference_space,\n",
    "                                 self._working_space)\n",
    "\n",
    "    def working_space_to_reference_space(self, RGB):\n",
    "        return colour.RGB_to_RGB(RGB, self._working_space,\n",
    "                                 self._reference_space)\n",
    "\n",
    "    def working_space_to_display_space(self, RGB, show_out_of_gamut=False):\n",
    "        RGB = np.copy(RGB)\n",
    "\n",
    "        if show_out_of_gamut:\n",
    "            RGB[RGB > 0] = 0\n",
    "            RGB[RGB < 0] = 1\n",
    "\n",
    "        return VIEW_TRANSFORMS[self._view_transform](RGB, self._working_space)\n",
    "\n",
    "    def update_scatter_plot(self, RGB):\n",
    "        if self._enable_chromaticity_diagram:\n",
    "            RGB = RGB[RGB[:, 1].argsort()]\n",
    "            XYZ = colour.RGB_to_XYZ(RGB, self._working_space.whitepoint,\n",
    "                                    self._working_space.whitepoint,\n",
    "                                    self._working_space.RGB_to_XYZ_matrix)\n",
    "            uv = colour.Luv_to_uv(\n",
    "                colour.XYZ_to_Luv(XYZ, self._working_space.whitepoint),\n",
    "                self._working_space.whitepoint)\n",
    "            \n",
    "            self._scatter_path_collection.set_offsets(uv)\n",
    "            self._scatter_path_collection.set_facecolor(\n",
    "                self.working_space_to_display_space(\n",
    "                    RGB,\n",
    "                    show_out_of_gamut=self._show_out_of_gamut_CheckBox.value))\n",
    "\n",
    "    def toggle_medidicina(self, change):\n",
    "        if not change:\n",
    "            return\n",
    "\n",
    "        if change['name'] == 'value':\n",
    "            self._enable_medicina = not change['new']\n",
    "\n",
    "            self.update_widget(None)\n",
    "\n",
    "    def toggle_odt(self, change):\n",
    "        if not change:\n",
    "            return\n",
    "\n",
    "        if change['name'] == 'value':\n",
    "            self._enable = not change['new']\n",
    "\n",
    "            self.update_widget(None)\n",
    "\n",
    "    def export_reference_image(self, change):\n",
    "        path = os.path.splitext(self._reference_image_path)[0]\n",
    "\n",
    "        colour.write_image(\n",
    "            self.working_space_to_reference_space(\n",
    "                self._reference_image_mapped), '{0}_{1}.exr'.format(\n",
    "                    path, self.__class__.__name__))\n",
    "\n",
    "    def save_figure(self, change):\n",
    "        path = os.path.splitext(self._reference_image_path)[0]\n",
    "        plt.savefig(\n",
    "            '{0}_{1}.png'.format(path, self.__class__.__name__),\n",
    "            facecolor=[2 / 3 / 10] * 3,\n",
    "            transparent=False,\n",
    "            bbox_inches='tight')\n",
    "\n",
    "    def reset_exposure(self, change):\n",
    "        self._exposure_FloatSlider.value = 0\n",
    "\n",
    "        self.set_exposure(0)\n",
    "\n",
    "    def toggle_out_of_gamut(self, change):\n",
    "        if not change:\n",
    "            return\n",
    "\n",
    "        if change['name'] == 'value':\n",
    "            self.update_widget(None)\n",
    "\n",
    "    def set_exposure(self, change):\n",
    "        if not change:\n",
    "            return\n",
    "\n",
    "        if change['name'] == 'value':\n",
    "            EV = self._exposure_FloatSlider.value\n",
    "            self._reference_image_working = adjust_exposure(\n",
    "                self._reference_image_pre_working, EV)\n",
    "\n",
    "            if self._enable_chromaticity_diagram:\n",
    "                self._decimated_image_working = adjust_exposure(\n",
    "                    self._decimated_image_pre_working, EV)\n",
    "\n",
    "            self.update_widget(None)\n",
    "\n",
    "    def update_widget(self, change):\n",
    "        self._view_transform = self._view_transform_DropDown.value\n",
    "\n",
    "        if (not self._enable_medicina\n",
    "                or self.__class__.__name__ == 'GamutMedicinaBaseWidget'):\n",
    "            self._reference_image_imshow.set_data(\n",
    "                self.working_space_to_display_space(\n",
    "                    self._reference_image_working,\n",
    "                    show_out_of_gamut=self._show_out_of_gamut_CheckBox.value))\n",
    "\n",
    "            if self._enable_chromaticity_diagram:\n",
    "                self.update_scatter_plot(self._decimated_image_working)\n",
    "\n",
    "            self._figure.canvas.draw_idle()\n",
    "\n",
    "\n",
    "GamutMedicinaBaseWidget()"
   ]
  },
  {
   "cell_type": "code",
   "execution_count": 10,
   "metadata": {},
   "outputs": [
    {
     "data": {
      "application/vnd.jupyter.widget-view+json": {
       "model_id": "ab9e36dc0bc442cfa09aae3cd6c998d0",
       "version_major": 2,
       "version_minor": 0
      },
      "text/plain": [
       "GamutMedicinaBaseWidget(children=(Output(layout=Layout(border='solid 4px #222', margin='4px', padding='0')), T…"
      ]
     },
     "metadata": {},
     "output_type": "display_data"
    }
   ],
   "source": [
    "GamutMedicinaBaseWidget(enable_colour_wheel=False)"
   ]
  },
  {
   "cell_type": "code",
   "execution_count": 11,
   "metadata": {},
   "outputs": [
    {
     "data": {
      "application/vnd.jupyter.widget-view+json": {
       "model_id": "dfc7d47bdad94c6a88dc73c543ba9aa8",
       "version_major": 2,
       "version_minor": 0
      },
      "text/plain": [
       "GamutMedicinaBaseWidget(children=(Output(layout=Layout(border='solid 4px #222', margin='4px', padding='0')), T…"
      ]
     },
     "metadata": {},
     "output_type": "display_data"
    }
   ],
   "source": [
    "GamutMedicinaBaseWidget(enable_chromaticity_diagram=False)"
   ]
  },
  {
   "cell_type": "code",
   "execution_count": 12,
   "metadata": {},
   "outputs": [
    {
     "data": {
      "application/vnd.jupyter.widget-view+json": {
       "model_id": "2fe4857e87eb4e2c94b89311da53b801",
       "version_major": 2,
       "version_minor": 0
      },
      "text/plain": [
       "GamutMedicinaBaseWidget(children=(Output(layout=Layout(border='solid 4px #222', margin='4px', padding='0')), T…"
      ]
     },
     "metadata": {},
     "output_type": "display_data"
    }
   ],
   "source": [
    "GamutMedicinaBaseWidget(\n",
    "    enable_colour_wheel=False, enable_chromaticity_diagram=False)"
   ]
  },
  {
   "cell_type": "markdown",
   "metadata": {},
   "source": [
    "## Compression & Blending Functions"
   ]
  },
  {
   "cell_type": "markdown",
   "metadata": {},
   "source": [
    "Gamut mapping commonly involves compressing data from a larger space to a smaller space.\n",
    "\n",
    "Three sigmoid compression functions are defined:\n",
    "\n",
    "- **tanh**, a function based on the *Hyperbolic Tangent*:\n",
    "$$a + b \\cdot tanh\\bigg(\\cfrac{x - a}{b}\\bigg)$$ where $a$ is the compression threshold, i.e. the point at which the function starts compressing the value $x$ and $b$ is the compression limit, i.e. the point at which the compression reaches the limit.\n",
    "- **atan**, a function based on the *Arc Tangent*:\n",
    "$$a + b \\cdot\\cfrac{2}{\\pi}\\cdot atan\\Bigg(\\cfrac{\\cfrac{\\pi}{2}\\cdot\\big(x - a\\big)}{b}\\Bigg)$$\n",
    "- **Simple**, a simple compression function:\n",
    "$$a + \\Bigg(\\cfrac{-1}{\\bigg(\\cfrac{x - a}{b} + 1\\bigg)} + 1 \\Bigg) \\cdot b$$"
   ]
  },
  {
   "cell_type": "code",
   "execution_count": 13,
   "metadata": {},
   "outputs": [],
   "source": [
    "def tanh_compression_function(x, a=0.8, b=1 - 0.8):\n",
    "    x = colour.utilities.as_float_array(x)\n",
    "\n",
    "    return np.where(x > a, a + b * np.tanh((x - a) / b), x)\n",
    "\n",
    "\n",
    "def atan_compression_function(x, a=0.8, b=1 - 0.8):\n",
    "    x = colour.utilities.as_float_array(x)\n",
    "\n",
    "    return np.where(x > a, a + b * 2 / np.pi * np.arctan(((np.pi / 2) * (x - a)) / b), x)\n",
    "\n",
    "\n",
    "def simple_compression_function(x, a=0.8, b=1 - 0.8):\n",
    "    x = colour.utilities.as_float_array(x)\n",
    "\n",
    "    return np.where(x > a, a + (-1 / ((x - a) / b + 1) + 1) * b, x)\n",
    "\n",
    "\n",
    "COMPRESSION_FUNCTIONS = {\n",
    "    'tanh' : tanh_compression_function,\n",
    "    'atan' : atan_compression_function,\n",
    "    'simple' : simple_compression_function,\n",
    "}\n",
    "\n",
    "\n",
    "def smoothstep(x, a=0, b=1):\n",
    "    i = np.clip((x - a) / (b - a), 0, 1)\n",
    "\n",
    "    return i**2 * (3 - 2 * i)\n",
    "\n",
    "\n",
    "def derivative(x, func, d=1e-4):\n",
    "    return (func(x + d) - func(x - d)) / (2 * d)"
   ]
  },
  {
   "cell_type": "code",
   "execution_count": 14,
   "metadata": {},
   "outputs": [
    {
     "data": {
      "application/vnd.jupyter.widget-view+json": {
       "model_id": "0cd27254c5714ad7a7c1012c88112f3b",
       "version_major": 2,
       "version_minor": 0
      },
      "text/plain": [
       "Canvas(toolbar=Toolbar(toolitems=[('Home', 'Reset original view', 'home', 'home'), ('Back', 'Back to previous …"
      ]
     },
     "metadata": {},
     "output_type": "display_data"
    }
   ],
   "source": [
    "colour.plotting.plot_multi_functions(\n",
    "    {\n",
    "        'tanh': tanh_compression_function,\n",
    "        'd/dx(tanh)': lambda x: derivative(x, tanh_compression_function),\n",
    "        'atan': atan_compression_function,\n",
    "        'd/dx(atan)': lambda x: derivative(x, atan_compression_function),\n",
    "        'simple': simple_compression_function,\n",
    "        'd/dx(simple)': lambda x: derivative(x, simple_compression_function),\n",
    "    },\n",
    "    **{\n",
    "        'figure.figsize': (11, 11),\n",
    "        'bounding_box': (0.5, 1.75, 0, 1.25),\n",
    "        'samples':\n",
    "        np.linspace(0, 2, 1000),\n",
    "        'plot_kwargs': [\n",
    "            {\n",
    "                'c': 'r',\n",
    "                'linestyle': 'dashdot'\n",
    "            },\n",
    "            {\n",
    "                'c': 'r'\n",
    "            },\n",
    "            {\n",
    "                'c': 'g',\n",
    "                'linestyle': 'dashdot'\n",
    "            },\n",
    "            {\n",
    "                'c': 'g'\n",
    "            },\n",
    "            {\n",
    "                'c': 'b',\n",
    "                'linestyle': 'dashdot'\n",
    "            },\n",
    "            {\n",
    "                'c': 'b'\n",
    "            },\n",
    "        ]\n",
    "    },\n",
    ");"
   ]
  },
  {
   "cell_type": "markdown",
   "metadata": {},
   "source": [
    "## Mansencal and Scharfenberg (2020) - HSV Control Based Study Model"
   ]
  },
  {
   "cell_type": "markdown",
   "metadata": {},
   "source": [
    "*Mansencal and Scharfenberg (2020)* gamut mapping study model is built on top of the [HSV colourspace](https://en.wikipedia.org/wiki/HSL_and_HSV):\n",
    "\n",
    "- Scene-referred RGB exposure values are converted to HSV.\n",
    "- The saturation component $S$ is compressed with a cherry-picked compression function, e.g. $tanh$.\n",
    "- The hue component $H$ is warped according to user defined control values.\n",
    "- The HSV values are converted back to scene-referred RGB exposure values and then blended with the original scene-referred RGB exposure values function through a smoothstep function.\n",
    "\n",
    "The model offers good controls but might tend to exhibit excessive saturation of secondary colours, i.e. cyan, yellow and especially magenta.\n",
    "This can be tuned with the hue controls.\n",
    "\n",
    "More information is available on [ACEScentral](https://community.acescentral.com/t/gamut-mapping-in-cylindrical-and-conic-spaces/)."
   ]
  },
  {
   "cell_type": "code",
   "execution_count": 15,
   "metadata": {},
   "outputs": [
    {
     "data": {
      "application/vnd.jupyter.widget-view+json": {
       "model_id": "d0a5713c4f0c4a4283b1cae9da575fd5",
       "version_major": 2,
       "version_minor": 0
      },
      "text/plain": [
       "GamutMedicinaHSVControlWidget(children=(Output(layout=Layout(border='solid 4px #222', margin='4px', padding='0…"
      ]
     },
     "metadata": {},
     "output_type": "display_data"
    }
   ],
   "source": [
    "def medicina_HSV_control(RGB, H, S, V, H_x, H_y, S_c, S_m, C_f, HSV_to_RGB):\n",
    "    S_m = S_m[..., np.newaxis]\n",
    "\n",
    "    interpolator = scipy.interpolate.interp1d(H_x, H_y)\n",
    "\n",
    "    HSV_c = colour.utilities.tstack(\n",
    "        [interpolator(H) % 1, C_f(S, S_c, 1 - S_c), V])\n",
    "\n",
    "    return HSV_to_RGB(HSV_c) * S_m + RGB * (1 - S_m)\n",
    "\n",
    "\n",
    "class GamutMedicinaHSVControlWidget(GamutMedicinaBaseWidget):\n",
    "    def __init__(self,\n",
    "                 reference_image=None,\n",
    "                 hue_wedge=45,\n",
    "                 protected_area_threshold=0.7,\n",
    "                 compression_threshold=0.8,\n",
    "                 compression_function='tanh',\n",
    "                 RGB_to_HSV=colour.RGB_to_HSV,\n",
    "                 HSV_to_RGB=colour.HSV_to_RGB,\n",
    "                 *args,\n",
    "                 **kwargs):\n",
    "\n",
    "        self._hue_wedge = hue_wedge\n",
    "        self._protected_area_threshold = protected_area_threshold\n",
    "        self._compression_threshold = compression_threshold\n",
    "        self._compression_function = compression_function\n",
    "\n",
    "        self.RGB_to_HSV = RGB_to_HSV\n",
    "        self.HSV_to_RGB = HSV_to_RGB\n",
    "\n",
    "        super().__init__(reference_image, *args, **kwargs)\n",
    "\n",
    "        self._RGB_r = None\n",
    "        self._H_r = self._S_r = self._V_r = None\n",
    "        self._S_r_m = None\n",
    "\n",
    "        if self._enable_colour_wheel:\n",
    "            self._RGB_w = None\n",
    "            self._H_w = self._S_w = self._V_w = None\n",
    "            self._S_w_m = None\n",
    "\n",
    "        if self._enable_chromaticity_diagram:\n",
    "            self._RGB_d = None\n",
    "            self._H_d = self._S_d = self._V_d = None\n",
    "            self._S_d_m = None\n",
    "\n",
    "        self._angles = None\n",
    "        self._x_i = self._y_i = self._y_i = None\n",
    "\n",
    "        if self._enable_colour_wheel:\n",
    "            self._protected_area_threshold_colour_wheel_plot = None\n",
    "            self._compression_threshold_colour_wheel_plot = None\n",
    "            self._hue_controls_plot = None\n",
    "\n",
    "        if self._enable_chromaticity_diagram:\n",
    "            self._protected_area_threshold_chromaticity_diagram_plot = None\n",
    "            self._compression_threshold_chromaticity_diagram_plot = None\n",
    "\n",
    "        self._reset_protected_area_controls_Button = None\n",
    "        self._protected_area_threshold_FloatSlider = None\n",
    "        self._reset_compression_controls_Button = None\n",
    "        self._compression_threshold_FloatSlider = None\n",
    "        self._reset_hue_controls_Button = None\n",
    "        self._wedge_controls = None\n",
    "        self._protected_area_controls_HBox = None\n",
    "        self._saturation_controls_HBox = None\n",
    "        self._hue_controls_HBox = None\n",
    "\n",
    "        self.initialize_data()\n",
    "        self.initialize_axes()\n",
    "        self.initialise_widgets()\n",
    "        self.attach_callbacks()\n",
    "\n",
    "        self.update_widget(None)\n",
    "\n",
    "    def initialize_data(self):\n",
    "        super().initialize_data()\n",
    "\n",
    "        # *** Reference Image ***\n",
    "        self._RGB_r = self._reference_image_working\n",
    "        self._H_r, self._S_r, self._V_r = colour.utilities.tsplit(\n",
    "            self.RGB_to_HSV(self._reference_image_working))\n",
    "        self._S_r_m = smoothstep(self._S_r, self._protected_area_threshold,\n",
    "                                 self._compression_threshold)\n",
    "\n",
    "        # *** Colour Wheel ***\n",
    "        if self._enable_colour_wheel:\n",
    "            self._RGB_w = self._colour_wheel[..., 0:3]\n",
    "            self._H_w, self._S_w, self._V_w = colour.utilities.tsplit(\n",
    "                self.RGB_to_HSV(self._RGB_w))\n",
    "            self._S_w_m = smoothstep(self._S_w, self._protected_area_threshold,\n",
    "                                     self._compression_threshold)\n",
    "\n",
    "        # *** Decimated Image, i.e. Scatter ***\n",
    "        if self._enable_chromaticity_diagram:\n",
    "            self._RGB_d = self._decimated_image_working\n",
    "            self._H_d, self._S_d, self._V_d = colour.utilities.tsplit(\n",
    "                self.RGB_to_HSV(self._decimated_image_working))\n",
    "            self._S_d_m = smoothstep(self._S_d, self._protected_area_threshold,\n",
    "                                     self._compression_threshold)\n",
    "\n",
    "        # *** Angles ***\n",
    "        self._angles = np.arange(0, 360, self._hue_wedge) / 360\n",
    "\n",
    "        # *** Initial State ***\n",
    "        self._x_i = np.hstack([self._angles, 1])\n",
    "        self._y_i = self._angles\n",
    "        self._y_i = np.hstack([self._y_i, self._y_i[0] + 1])\n",
    "\n",
    "    def initialize_axes(self):\n",
    "        super().initialize_axes()\n",
    "\n",
    "        circumference = np.linspace(0, np.pi * 2, self._colour_wheel_samples)\n",
    "        # Colour Wheel Axes\n",
    "        if self._enable_colour_wheel:\n",
    "            self._protected_area_threshold_colour_wheel_plot = (\n",
    "                self._colour_wheel_polar_axes.plot(\n",
    "                    circumference,\n",
    "                    np.full(self._colour_wheel_samples,\n",
    "                            self._protected_area_threshold),\n",
    "                    linestyle='dotted',\n",
    "                    color='yellow')[0])\n",
    "            self._compression_threshold_colour_wheel_plot = (\n",
    "                self._colour_wheel_polar_axes.plot(\n",
    "                    circumference,\n",
    "                    np.full(self._colour_wheel_samples,\n",
    "                            self._compression_threshold),\n",
    "                    linestyle='dashdot',\n",
    "                    color='cyan')[0])\n",
    "\n",
    "            self._hue_controls_plot = (self._colour_wheel_polar_axes.plot(\n",
    "                self._y_i * np.pi * 2,\n",
    "                np.ones(self._y_i.shape),\n",
    "                'o-',\n",
    "                color='white')[0])\n",
    "\n",
    "        # Chromaticity Diagram Axes\n",
    "        if self._enable_chromaticity_diagram:\n",
    "            self._protected_area_threshold_chromaticity_diagram_plot = (\n",
    "                self._chromaticity_diagram_axes.plot(\n",
    "                    circumference * 0,\n",
    "                    circumference * 0,\n",
    "                    linestyle='dotted',\n",
    "                    color='yellow')[0])\n",
    "            self._compression_threshold_chromaticity_diagram_plot = (\n",
    "                self._chromaticity_diagram_axes.plot(\n",
    "                    circumference * 0,\n",
    "                    circumference * 0,\n",
    "                    linestyle='dashdot',\n",
    "                    color='cyan')[0])\n",
    "\n",
    "    def initialise_widgets(self):\n",
    "        super().initialise_widgets()\n",
    "\n",
    "        # *** Widgets ***\n",
    "        self._reset_protected_area_controls_Button = (\n",
    "            ipywidgets.widgets.Button(description=\"Reset Protected Area\"))\n",
    "        self._protected_area_threshold_FloatSlider = (\n",
    "            ipywidgets.widgets.FloatSlider(\n",
    "                min=0.0,\n",
    "                max=1.0,\n",
    "                step=0.01,\n",
    "                value=self._protected_area_threshold,\n",
    "                description='Protected Area Threshold'))\n",
    "\n",
    "        self._reset_compression_controls_Button = (\n",
    "            ipywidgets.widgets.Button(description=\"Reset Saturation Controls\"))\n",
    "        compression_functions = list(COMPRESSION_FUNCTIONS.keys())\n",
    "        self._compression_function_DropDown = ipywidgets.widgets.Dropdown(\n",
    "            options=compression_functions,\n",
    "            value=self._compression_function,\n",
    "            description='Compression Function:',\n",
    "        )\n",
    "        self._compression_threshold_FloatSlider = (\n",
    "            ipywidgets.widgets.FloatSlider(\n",
    "                min=0.0,\n",
    "                max=1.0,\n",
    "                step=0.01,\n",
    "                value=self._compression_threshold,\n",
    "                description='Compression Threshold'))\n",
    "\n",
    "        self._reset_hue_controls_Button = ipywidgets.widgets.Button(\n",
    "            description=\"Reset Hue Controls\")\n",
    "        self._wedge_controls = [\n",
    "            ipywidgets.widgets.FloatSlider(\n",
    "                min=-1,\n",
    "                max=1,\n",
    "                step=0.01,\n",
    "                value=0,\n",
    "                description='{0}°'.format(int(angle * 360)))\n",
    "            for angle in self._angles\n",
    "        ]\n",
    "\n",
    "        # *** Layout ***\n",
    "        self._protected_area_controls_HBox = ipywidgets.widgets.HBox([\n",
    "            self._reset_protected_area_controls_Button,\n",
    "            self._protected_area_threshold_FloatSlider,\n",
    "        ])\n",
    "\n",
    "        self._saturation_controls_HBox = ipywidgets.widgets.HBox([\n",
    "            self._reset_compression_controls_Button,\n",
    "            self._compression_function_DropDown,\n",
    "            self._compression_threshold_FloatSlider\n",
    "        ])\n",
    "\n",
    "        wedge_controls_batches = batch(self._wedge_controls, 3)\n",
    "        self._hue_controls_HBox = ipywidgets.widgets.HBox(\n",
    "            [ipywidgets.widgets.VBox([self._reset_hue_controls_Button])] + [\n",
    "                ipywidgets.widgets.VBox(wedge_controls)\n",
    "                for wedge_controls in wedge_controls_batches\n",
    "            ])\n",
    "\n",
    "        self._controls_Tab.children += (\n",
    "            self._protected_area_controls_HBox,\n",
    "            self._saturation_controls_HBox,\n",
    "            self._hue_controls_HBox,\n",
    "        )\n",
    "\n",
    "        self._controls_Tab.set_title(2, 'Protected Area Controls')\n",
    "        self._controls_Tab.set_title(3, 'Saturation Controls')\n",
    "        self._controls_Tab.set_title(4, 'Hue Controls')\n",
    "\n",
    "    def attach_callbacks(self):\n",
    "        super().attach_callbacks()\n",
    "\n",
    "        self._reset_protected_area_controls_Button.on_click(\n",
    "            self.reset_protected_area_controls)\n",
    "        self._protected_area_threshold_FloatSlider.observe(\n",
    "            self.update_protected_area_mask, 'value')\n",
    "\n",
    "        self._reset_compression_controls_Button.on_click(\n",
    "            self.reset_compression_controls)\n",
    "        self._compression_function_DropDown.observe(self.update_widget,\n",
    "                                                    'value')\n",
    "        self._compression_threshold_FloatSlider.observe(\n",
    "            self.update_widget, 'value')\n",
    "\n",
    "        self._reset_hue_controls_Button.on_click(self.reset_hue_controls)\n",
    "        for slider in self._wedge_controls:\n",
    "            slider.observe(self.update_widget, 'value')\n",
    "\n",
    "    def set_exposure(self, change):\n",
    "        if not change:\n",
    "            return\n",
    "\n",
    "        if change['name'] == 'value':\n",
    "            EV = self._exposure_FloatSlider.value\n",
    "\n",
    "            self._RGB_r = adjust_exposure(self._reference_image_pre_working,\n",
    "                                          EV)\n",
    "            self._H_r, self._S_r, self._V_r = colour.utilities.tsplit(\n",
    "                self.RGB_to_HSV(self._RGB_r))\n",
    "\n",
    "            if self._enable_chromaticity_diagram:\n",
    "                self._RGB_d = adjust_exposure(\n",
    "                    self._decimated_image_pre_working, EV)\n",
    "                self._H_d, self._S_d, self._V_d = colour.utilities.tsplit(\n",
    "                    self.RGB_to_HSV(self._RGB_d))\n",
    "\n",
    "            self.update_protected_area_mask({'name': 'value'})\n",
    "\n",
    "    def update_region_colour_wheel_plot(self, V_r, region_colour_wheel_plot):\n",
    "        if self._enable_colour_wheel:\n",
    "            region_colour_wheel_plot.set_ydata(\n",
    "                np.full(self._colour_wheel_samples, V_r))\n",
    "\n",
    "    def update_protected_area_threshold_colour_wheel_plot(self, U_r):\n",
    "        if self._enable_colour_wheel:\n",
    "            self.update_region_colour_wheel_plot(\n",
    "                U_r, self._protected_area_threshold_colour_wheel_plot)\n",
    "\n",
    "    def update_compression_threshold_colour_wheel_plot(self, S_c):\n",
    "        if self._enable_colour_wheel:\n",
    "            self.update_region_colour_wheel_plot(\n",
    "                S_c, self._compression_threshold_colour_wheel_plot)\n",
    "\n",
    "    def update_region_chromaticity_diagram_plot(\n",
    "            self, V_r, region_chromaticity_diagram_plot):\n",
    "        if self._enable_chromaticity_diagram:\n",
    "            HSV = colour.utilities.tstack([\n",
    "                np.linspace(0, 1, self._colour_wheel_samples),\n",
    "                np.full(self._colour_wheel_samples, V_r),\n",
    "                np.ones(self._colour_wheel_samples)\n",
    "            ])\n",
    "            uv = colour.Luv_to_uv(\n",
    "                colour.XYZ_to_Luv(\n",
    "                    colour.RGB_to_XYZ(\n",
    "                        self.HSV_to_RGB(HSV), self._working_space.whitepoint,\n",
    "                        self._working_space.whitepoint,\n",
    "                        self._working_space.RGB_to_XYZ_matrix),\n",
    "                    self._working_space.whitepoint))\n",
    "\n",
    "            region_chromaticity_diagram_plot.set_data(uv[:, 0], uv[:, 1])\n",
    "\n",
    "    def update_protected_area_threshold_chromaticity_diagram_plot(self, U_r):\n",
    "        if self._enable_chromaticity_diagram:\n",
    "            self.update_region_chromaticity_diagram_plot(\n",
    "                U_r, self._protected_area_threshold_chromaticity_diagram_plot)\n",
    "\n",
    "    def update_compression_threshold_chromaticity_diagram_plot(self, S_c):\n",
    "        if self._enable_chromaticity_diagram:\n",
    "            self.update_region_chromaticity_diagram_plot(\n",
    "                S_c, self._compression_threshold_chromaticity_diagram_plot)\n",
    "\n",
    "    def update_protected_area_mask(self, change):\n",
    "        if not change:\n",
    "            return\n",
    "\n",
    "        if change['name'] == 'value':\n",
    "            U_r = self._protected_area_threshold_FloatSlider.value\n",
    "            S_c = self._compression_threshold_FloatSlider.value\n",
    "\n",
    "            self._S_d_m = smoothstep(self._S_d, U_r, S_c)\n",
    "\n",
    "            if self._enable_colour_wheel:\n",
    "                self._S_w_m = smoothstep(self._S_w, U_r, S_c)\n",
    "\n",
    "            if self._enable_chromaticity_diagram:\n",
    "                self._S_r_m = smoothstep(self._S_r, U_r, S_c)\n",
    "\n",
    "        self.update_widget(None)\n",
    "\n",
    "    def wedge_control_to_hue_offset(self, value):\n",
    "        slider = self._wedge_controls[0]\n",
    "\n",
    "        return colour.utilities.linear_conversion(\n",
    "            value, [slider.min, slider.max],\n",
    "            [-self._hue_wedge / 360, self._hue_wedge / 360])\n",
    "\n",
    "    def reset_protected_area_controls(self, change):\n",
    "        self._protected_area_threshold_FloatSlider.value = (\n",
    "            self._protected_area_threshold)\n",
    "\n",
    "        self.update_protected_area_mask(None)\n",
    "\n",
    "    def reset_compression_controls(self, change):\n",
    "        self._compression_threshold_FloatSlider.value = (\n",
    "            self._compression_threshold)\n",
    "\n",
    "        self.update_widget(None)\n",
    "\n",
    "    def reset_hue_controls(self, change):\n",
    "        for slider in self._wedge_controls:\n",
    "            slider.value = 0\n",
    "\n",
    "        self.update_widget(None)\n",
    "\n",
    "    def update_reference_image_axes(self, S_c, H_y, C_f, show_out_of_gamut):\n",
    "        RGB_r = medicina_HSV_control(self._RGB_r, self._H_r, self._S_r,\n",
    "                                     self._V_r, self._x_i, H_y, S_c,\n",
    "                                     self._S_r_m, C_f, self.HSV_to_RGB)\n",
    "        self._reference_image_mapped = RGB_r\n",
    "        self._reference_image_imshow.set_data(\n",
    "            self.working_space_to_display_space(\n",
    "                RGB_r, show_out_of_gamut=show_out_of_gamut))\n",
    "\n",
    "    def update_colour_wheel_axes(self, U_r, S_c, H_y, H_o, C_f):\n",
    "        if self._enable_colour_wheel:\n",
    "            RGB_w = medicina_HSV_control(self._RGB_w, self._H_w, self._S_w,\n",
    "                                     self._V_w, self._x_i, H_y, S_c,\n",
    "                                     self._S_w_m, C_f, self.HSV_to_RGB)\n",
    "            self._colour_wheel_imshow.set_data(np.clip(RGB_w, 0, 1))\n",
    "            self.update_protected_area_threshold_colour_wheel_plot(U_r)\n",
    "            self.update_compression_threshold_colour_wheel_plot(S_c)\n",
    "\n",
    "            H_x = H_o + self._angles\n",
    "            H_x = np.hstack([H_x, H_x[0]])\n",
    "            self._hue_controls_plot.set_xdata(H_x * np.pi * 2)\n",
    "\n",
    "    def update_chromaticity_diagram_axes(self, U_r, S_c, H_y, C_f):\n",
    "        if self._enable_chromaticity_diagram:\n",
    "            RGB_r_s = medicina_HSV_control(self._RGB_d, self._H_d, self._S_d,\n",
    "                                           self._V_d, self._x_i, H_y, S_c,\n",
    "                                           self._S_d_m, C_f, self.HSV_to_RGB)\n",
    "            self.update_scatter_plot(RGB_r_s)\n",
    "            self.update_protected_area_threshold_chromaticity_diagram_plot(U_r)\n",
    "            self.update_compression_threshold_chromaticity_diagram_plot(S_c)\n",
    "\n",
    "    def update_widget(self, change):\n",
    "        super().update_widget(change)\n",
    "\n",
    "        if self._enable_medicina:\n",
    "            U_r = self._protected_area_threshold_FloatSlider.value\n",
    "            S_c = self._compression_threshold_FloatSlider.value\n",
    "            C_f = COMPRESSION_FUNCTIONS[\n",
    "                self._compression_function_DropDown.value]\n",
    "            show_out_of_gamut = self._show_out_of_gamut_CheckBox.value\n",
    "\n",
    "            hue_offsets = np.array([\n",
    "                self.wedge_control_to_hue_offset(slider.value)\n",
    "                for slider in self._wedge_controls\n",
    "            ])\n",
    "\n",
    "            H_y = -hue_offsets + self._angles\n",
    "            H_y = np.hstack([H_y, H_y[0] + 1])\n",
    "\n",
    "            self.update_reference_image_axes(S_c, H_y, C_f, show_out_of_gamut)\n",
    "\n",
    "            if self._enable_colour_wheel:\n",
    "                self.update_colour_wheel_axes(U_r, S_c, H_y, hue_offsets, C_f)\n",
    "\n",
    "            if self._enable_chromaticity_diagram:\n",
    "                self.update_chromaticity_diagram_axes(U_r, S_c, H_y, C_f)\n",
    "\n",
    "            self._figure.canvas.draw_idle()\n",
    "\n",
    "\n",
    "GamutMedicinaHSVControlWidget(\n",
    "    '../resources/images/A009C002_190210_R0EI_Alexa_LogCWideGamut.exr')"
   ]
  },
  {
   "cell_type": "code",
   "execution_count": 16,
   "metadata": {},
   "outputs": [
    {
     "data": {
      "application/vnd.jupyter.widget-view+json": {
       "model_id": "e6c78549c16e446ca243081b454f6714",
       "version_major": 2,
       "version_minor": 0
      },
      "text/plain": [
       "GamutMedicinaHSVControlWidget(children=(Output(layout=Layout(border='solid 4px #222', margin='4px', padding='0…"
      ]
     },
     "metadata": {},
     "output_type": "display_data"
    }
   ],
   "source": [
    "GamutMedicinaHSVControlWidget('../resources/images/A002_C029_06025K.exr')"
   ]
  },
  {
   "cell_type": "code",
   "execution_count": 17,
   "metadata": {},
   "outputs": [
    {
     "data": {
      "application/vnd.jupyter.widget-view+json": {
       "model_id": "db6e207ab55846aab085793e0908f32d",
       "version_major": 2,
       "version_minor": 0
      },
      "text/plain": [
       "GamutMedicinaHSVControlWidget(children=(Output(layout=Layout(border='solid 4px #222', margin='4px', padding='0…"
      ]
     },
     "metadata": {},
     "output_type": "display_data"
    }
   ],
   "source": [
    "GamutMedicinaHSVControlWidget(\n",
    "    '../resources/images/Cornell_Box_Rigid_Spheres_190_Patch_Roughplastic_Point_Grey_Grasshopper_50S5C_RGB_W_A.exr')"
   ]
  },
  {
   "cell_type": "code",
   "execution_count": 18,
   "metadata": {},
   "outputs": [
    {
     "data": {
      "application/vnd.jupyter.widget-view+json": {
       "model_id": "127351773b4049fa8212445a5d6e222e",
       "version_major": 2,
       "version_minor": 0
      },
      "text/plain": [
       "GamutMedicinaHSVControlWidget(children=(Output(layout=Layout(border='solid 4px #222', margin='4px', padding='0…"
      ]
     },
     "metadata": {},
     "output_type": "display_data"
    }
   ],
   "source": [
    "GamutMedicinaHSVControlWidget(\n",
    "    '../resources/images/5DMarkII_Spac-o-ween_001.exr',\n",
    "    enable_colour_wheel=False)"
   ]
  },
  {
   "cell_type": "code",
   "execution_count": 19,
   "metadata": {},
   "outputs": [
    {
     "data": {
      "application/vnd.jupyter.widget-view+json": {
       "model_id": "e2b896fb9d2e4ae0ae8582af988a7618",
       "version_major": 2,
       "version_minor": 0
      },
      "text/plain": [
       "GamutMedicinaHSVControlWidget(children=(Output(layout=Layout(border='solid 4px #222', margin='4px', padding='0…"
      ]
     },
     "metadata": {},
     "output_type": "display_data"
    }
   ],
   "source": [
    "GamutMedicinaHSVControlWidget(\n",
    "    '../resources/images/Collage_01.exr',\n",
    "    enable_colour_wheel=False)"
   ]
  },
  {
   "cell_type": "markdown",
   "metadata": {},
   "source": [
    "## Smith (2020) - RGB Saturation Study Model"
   ]
  },
  {
   "cell_type": "markdown",
   "metadata": {},
   "source": [
    "*Smith (2020)* gamut mapping study model is directly operating in the [RGB colourspace](https://en.wikipedia.org/wiki/Color_spaces_with_RGB_primaries):\n",
    "\n",
    "- Like with the HSV colourspace, an achromatic axis is computed for the scene-referred RGB exposure values.\n",
    "- The pseudo-distance between the individual $R$, $G$ and $B$ components and the achromatic axis is compressed with a cherry-picked compression function, e.g. $tanh$.\n",
    "\n",
    "The model is extremely simple and elegant while offering good computational speed.\n",
    "\n",
    "More information is available on [ACEScentral](https://community.acescentral.com/t/rgb-saturation-gamut-mapping-approach-and-a-comp-vfx-perspective/)."
   ]
  },
  {
   "cell_type": "code",
   "execution_count": 20,
   "metadata": {},
   "outputs": [
    {
     "data": {
      "application/vnd.jupyter.widget-view+json": {
       "model_id": "2e7ad89c060f46b184c06f05b000b299",
       "version_major": 2,
       "version_minor": 0
      },
      "text/plain": [
       "GamutMedicinaRGBSaturationWidget(children=(Output(layout=Layout(border='solid 4px #222', margin='4px', padding…"
      ]
     },
     "metadata": {},
     "output_type": "display_data"
    }
   ],
   "source": [
    "def medicina_RGB_saturation(RGB, C_t, C_f):\n",
    "    C_t = 1 - C_t\n",
    "\n",
    "    L = np.max(RGB, axis=-1)[..., np.newaxis]\n",
    "\n",
    "    D = np.abs(RGB - L) / L\n",
    "\n",
    "    D_c = C_f(D, C_t, 1 - C_t)\n",
    "\n",
    "    RGB_c = L - D_c * L\n",
    "\n",
    "    return RGB_c\n",
    "\n",
    "\n",
    "class GamutMedicinaRGBSaturationWidget(GamutMedicinaBaseWidget):\n",
    "    def __init__(self,\n",
    "                 reference_image=None,\n",
    "                 compression_threshold=0.8,\n",
    "                 compression_function='tanh',\n",
    "                 *args,\n",
    "                 **kwargs):\n",
    "        self._compression_threshold = compression_threshold\n",
    "        self._compression_function = compression_function\n",
    "\n",
    "        kwargs['enable_colour_wheel'] = False\n",
    "\n",
    "        super().__init__(reference_image, *args, **kwargs)\n",
    "\n",
    "        self._RGB_w = None\n",
    "        self._RGB_r = None\n",
    "        self._RGB_d = None\n",
    "\n",
    "        self._compression_threshold_chromaticity_diagram_plot = None\n",
    "\n",
    "        self._reset_compression_controls_Button = None\n",
    "        self._compression_threshold_FloatSlider = None\n",
    "\n",
    "        self.initialize_data()\n",
    "        self.initialize_axes()\n",
    "        self.initialise_widgets()\n",
    "        self.attach_callbacks()\n",
    "\n",
    "        self.update_widget(None)\n",
    "\n",
    "    def initialize_data(self):\n",
    "        super().initialize_data()\n",
    "\n",
    "    def initialize_axes(self):\n",
    "        super().initialize_axes()\n",
    "\n",
    "    def initialise_widgets(self):\n",
    "        super().initialise_widgets()\n",
    "\n",
    "        # *** Widgets ***\n",
    "        self._reset_compression_controls_Button = (ipywidgets.widgets.Button(\n",
    "            description=\"Reset Compression Controls\"))\n",
    "        compression_functions = list(COMPRESSION_FUNCTIONS.keys())\n",
    "        self._compression_function_DropDown = ipywidgets.widgets.Dropdown(\n",
    "            options=compression_functions,\n",
    "            value=self._compression_function,\n",
    "            description='Compression Function:',\n",
    "        )\n",
    "        self._compression_threshold_FloatSlider = (\n",
    "            ipywidgets.widgets.FloatSlider(\n",
    "                min=0.0,\n",
    "                max=1.0,\n",
    "                step=0.01,\n",
    "                value=self._compression_threshold,\n",
    "                description='Compression Threshold'))\n",
    "\n",
    "        # *** Layout ***\n",
    "        self._compression_controls_HBox = ipywidgets.widgets.HBox([\n",
    "            self._reset_compression_controls_Button,\n",
    "            self._compression_function_DropDown,\n",
    "            self._compression_threshold_FloatSlider,\n",
    "        ])\n",
    "\n",
    "        self._controls_Tab.children += (self._compression_controls_HBox, )\n",
    "\n",
    "        self._controls_Tab.set_title(2, 'Compression Controls')\n",
    "\n",
    "    def attach_callbacks(self):\n",
    "        super().attach_callbacks()\n",
    "\n",
    "        self._reset_compression_controls_Button.on_click(\n",
    "            self.reset_compression_controls)\n",
    "        self._compression_function_DropDown.observe(self.update_widget,\n",
    "                                                    'value')\n",
    "        self._compression_threshold_FloatSlider.observe(\n",
    "            self.update_widget, 'value')\n",
    "\n",
    "    def reset_compression_controls(self, change):\n",
    "        self._compression_threshold_FloatSlider.value = (\n",
    "            self._compression_threshold)\n",
    "\n",
    "        self.update_widget(None)\n",
    "\n",
    "    def update_reference_image_axes(self, C_t, C_f, show_out_of_gamut):\n",
    "        RGB_r = medicina_RGB_saturation(self._reference_image_working, C_t,\n",
    "                                        C_f)\n",
    "        self._reference_image_mapped = RGB_r\n",
    "        self._reference_image_imshow.set_data(\n",
    "            self.working_space_to_display_space(\n",
    "                RGB_r, show_out_of_gamut=show_out_of_gamut))\n",
    "\n",
    "    def update_chromaticity_diagram_axes(self, C_t, C_f):\n",
    "        RGB_r_s = medicina_RGB_saturation(self._decimated_image_working, C_t,\n",
    "                                          C_f)\n",
    "        self.update_scatter_plot(RGB_r_s)\n",
    "\n",
    "    def update_widget(self, change):\n",
    "        super().update_widget(change)\n",
    "\n",
    "        if self._enable_medicina:\n",
    "            C_t = 1 - self._compression_threshold_FloatSlider.value\n",
    "            C_f = COMPRESSION_FUNCTIONS[\n",
    "                self._compression_function_DropDown.value]\n",
    "            show_out_of_gamut = self._show_out_of_gamut_CheckBox.value\n",
    "\n",
    "            self.update_reference_image_axes(C_t, C_f, show_out_of_gamut)\n",
    "            self.update_chromaticity_diagram_axes(C_t, C_f)\n",
    "\n",
    "            self._figure.canvas.draw_idle()\n",
    "\n",
    "\n",
    "GamutMedicinaRGBSaturationWidget(\n",
    "    '../resources/images/A009C002_190210_R0EI_Alexa_LogCWideGamut.exr')\n"
   ]
  },
  {
   "cell_type": "markdown",
   "metadata": {},
   "source": [
    "Note\n",
    "----\n",
    "\n",
    "> *Mansencal and Scharfenberg (2020)* gamut mapping study model twists the woodbard ceiling hues toward magenta in this example which is not pleasing but can be corrected with the Hue Controls. *Smith (2020)* gamut mapping study model is producing more appealing colours here."
   ]
  },
  {
   "cell_type": "code",
   "execution_count": 21,
   "metadata": {},
   "outputs": [
    {
     "data": {
      "application/vnd.jupyter.widget-view+json": {
       "model_id": "5bd4e4ae4b494554826d759ac2416876",
       "version_major": 2,
       "version_minor": 0
      },
      "text/plain": [
       "GamutMedicinaHSVControlWidget(children=(Output(layout=Layout(border='solid 4px #222', margin='4px', padding='0…"
      ]
     },
     "metadata": {},
     "output_type": "display_data"
    }
   ],
   "source": [
    "GamutMedicinaHSVControlWidget(\n",
    "    '../resources/images/A009C002_190210_R0EI_Alexa_LogCWideGamut.exr',\n",
    "    enable_colour_wheel=False)"
   ]
  },
  {
   "cell_type": "code",
   "execution_count": 22,
   "metadata": {},
   "outputs": [
    {
     "data": {
      "application/vnd.jupyter.widget-view+json": {
       "model_id": "82433a85ae804ca4a20b18551215f9dd",
       "version_major": 2,
       "version_minor": 0
      },
      "text/plain": [
       "GamutMedicinaRGBSaturationWidget(children=(Output(layout=Layout(border='solid 4px #222', margin='4px', padding…"
      ]
     },
     "metadata": {},
     "output_type": "display_data"
    }
   ],
   "source": [
    "GamutMedicinaRGBSaturationWidget(\n",
    "    '../resources/images/Cornell_Box_Rigid_Spheres_190_Patch_Roughplastic_Point_Grey_Grasshopper_50S5C_RGB_W_A.exr')"
   ]
  },
  {
   "cell_type": "code",
   "execution_count": 23,
   "metadata": {},
   "outputs": [
    {
     "data": {
      "application/vnd.jupyter.widget-view+json": {
       "model_id": "954e7b421f2e4fb3ab4a7c728988c7e6",
       "version_major": 2,
       "version_minor": 0
      },
      "text/plain": [
       "GamutMedicinaRGBSaturationWidget(children=(Output(layout=Layout(border='solid 4px #222', margin='4px', padding…"
      ]
     },
     "metadata": {},
     "output_type": "display_data"
    }
   ],
   "source": [
    "GamutMedicinaRGBSaturationWidget(\n",
    "    '../resources/images/5DMarkII_Spac-o-ween_001.exr')"
   ]
  },
  {
   "cell_type": "code",
   "execution_count": 24,
   "metadata": {},
   "outputs": [
    {
     "data": {
      "application/vnd.jupyter.widget-view+json": {
       "model_id": "ddc8370ffd2246b591ba854e4746cd58",
       "version_major": 2,
       "version_minor": 0
      },
      "text/plain": [
       "GamutMedicinaRGBSaturationWidget(children=(Output(layout=Layout(border='solid 4px #222', margin='4px', padding…"
      ]
     },
     "metadata": {},
     "output_type": "display_data"
    }
   ],
   "source": [
    "GamutMedicinaRGBSaturationWidget(\n",
    "    '../resources/images/Collage_01.exr')"
   ]
  },
  {
   "cell_type": "markdown",
   "metadata": {},
   "source": [
    "## Compared Model Distortions"
   ]
  },
  {
   "cell_type": "markdown",
   "metadata": {},
   "source": [
    "Various model distortions comparisons.\n",
    "\n",
    "Note\n",
    "----\n",
    "\n",
    "> *Mansencal and Scharfenberg (2020)* gamut mapping study model tends to produce rounder surface area compared to that of *Smith (2020)*. Note also how the magenta area along the line of purples is much more compressed."
   ]
  },
  {
   "cell_type": "code",
   "execution_count": 25,
   "metadata": {},
   "outputs": [],
   "source": [
    "colour.write_image(\n",
    "    colour_wheel(clip_circle=False)[..., 0:3],\n",
    "    '../resources/images/Colour_Wheel.exr')"
   ]
  },
  {
   "cell_type": "code",
   "execution_count": 26,
   "metadata": {},
   "outputs": [
    {
     "data": {
      "application/vnd.jupyter.widget-view+json": {
       "model_id": "7d64900df34c4683ae03139fab08d509",
       "version_major": 2,
       "version_minor": 0
      },
      "text/plain": [
       "GamutMedicinaHSVControlWidget(children=(Output(layout=Layout(border='solid 4px #222', margin='4px', padding='0…"
      ]
     },
     "metadata": {},
     "output_type": "display_data"
    }
   ],
   "source": [
    "GamutMedicinaHSVControlWidget(\n",
    "    '../resources/images/Colour_Wheel.exr',\n",
    "    image_decimation=20,\n",
    "    protected_area_threshold=0.5,\n",
    "    compression_threshold=0.5,\n",
    "    enable_colour_wheel=False)"
   ]
  },
  {
   "cell_type": "code",
   "execution_count": 27,
   "metadata": {},
   "outputs": [
    {
     "data": {
      "application/vnd.jupyter.widget-view+json": {
       "model_id": "c64bc5fcb4984a118636f0c3efd48def",
       "version_major": 2,
       "version_minor": 0
      },
      "text/plain": [
       "GamutMedicinaRGBSaturationWidget(children=(Output(layout=Layout(border='solid 4px #222', margin='4px', padding…"
      ]
     },
     "metadata": {},
     "output_type": "display_data"
    }
   ],
   "source": [
    "GamutMedicinaRGBSaturationWidget(\n",
    "    '../resources/images/Colour_Wheel.exr',\n",
    "    image_decimation=20,\n",
    "    compression_threshold=0.5)"
   ]
  },
  {
   "cell_type": "markdown",
   "metadata": {},
   "source": [
    "## Jhepc Extra Figures"
   ]
  },
  {
   "cell_type": "code",
   "execution_count": 28,
   "metadata": {},
   "outputs": [
    {
     "data": {
      "application/vnd.jupyter.widget-view+json": {
       "model_id": "4501c73300fe49f084d29a9da9d887ab",
       "version_major": 2,
       "version_minor": 0
      },
      "text/plain": [
       "GamutMedicinaHSVControlWidget(children=(Output(layout=Layout(border='solid 4px #222', margin='4px', padding='0…"
      ]
     },
     "metadata": {},
     "output_type": "display_data"
    }
   ],
   "source": [
    "GamutMedicinaHSVControlWidget(\n",
    "    '../resources/images/5DMarkII_Spac-o-ween_001.exr',\n",
    "    enable_colour_wheel=False,\n",
    "    enable_medicina=False)"
   ]
  },
  {
   "cell_type": "code",
   "execution_count": 29,
   "metadata": {},
   "outputs": [
    {
     "data": {
      "application/vnd.jupyter.widget-view+json": {
       "model_id": "e9aad03c9813499f91c0fdc3b3ed07bf",
       "version_major": 2,
       "version_minor": 0
      },
      "text/plain": [
       "GamutMedicinaHSVControlWidget(children=(Output(layout=Layout(border='solid 4px #222', margin='4px', padding='0…"
      ]
     },
     "metadata": {},
     "output_type": "display_data"
    }
   ],
   "source": [
    "GamutMedicinaHSVControlWidget(\n",
    "    '../resources/images/5DMarkII_Spac-o-ween_001.exr',\n",
    "    enable_colour_wheel=False,\n",
    "    show_out_of_gamut=True,\n",
    "    enable_medicina=False)"
   ]
  }
 ],
 "metadata": {
  "colab": {
   "collapsed_sections": [],
   "name": "gamut_mapping_ramblings_01",
   "provenance": []
  },
  "kernelspec": {
   "display_name": "Python 3",
   "language": "python",
   "name": "python3"
  },
  "language_info": {
   "codemirror_mode": {
    "name": "ipython",
    "version": 3
   },
   "file_extension": ".py",
   "mimetype": "text/x-python",
   "name": "python",
   "nbconvert_exporter": "python",
   "pygments_lexer": "ipython3",
   "version": "3.7.6"
  },
  "widgets": {
   "application/vnd.jupyter.widget-state+json": {
    "state": {
     "00335263f2524be499d75dd5c7a9eb83": {
      "model_module": "@jupyter-widgets/base",
      "model_module_version": "1.2.0",
      "model_name": "LayoutModel",
      "state": {}
     },
     "004d241304a148af81fde2e9b6b3419a": {
      "model_module": "@jupyter-widgets/controls",
      "model_module_version": "1.5.0",
      "model_name": "ButtonModel",
      "state": {
       "description": "Save Figure",
       "layout": "IPY_MODEL_86d967ccff2d43f0bb9f8e4c0005f9ff",
       "style": "IPY_MODEL_3abee584ebcc4a0c9b982287a0a404d4"
      }
     },
     "006b1e86308a46d89791481e7f9aecbd": {
      "model_module": "@jupyter-widgets/controls",
      "model_module_version": "1.5.0",
      "model_name": "HBoxModel",
      "state": {
       "children": [
        "IPY_MODEL_2648fe31fc68487492614986465af5dc",
        "IPY_MODEL_ec0cb6dede1b442ca029edc18cb74fee",
        "IPY_MODEL_15064591166a4028b7a43d8e841beb7f"
       ],
       "layout": "IPY_MODEL_cac11729bd444383aa8cf0d7fbe3a8a5"
      }
     },
     "00852e0b7945477498251e3d657e1451": {
      "model_module": "@jupyter-widgets/controls",
      "model_module_version": "1.5.0",
      "model_name": "SliderStyleModel",
      "state": {
       "description_width": ""
      }
     },
     "008a6cb8c32245848a0b4a6fd57d8d55": {
      "model_module": "@jupyter-widgets/base",
      "model_module_version": "1.2.0",
      "model_name": "LayoutModel",
      "state": {}
     },
     "00a340f84bfb45bb83a2ba23c7a3755a": {
      "model_module": "@jupyter-widgets/base",
      "model_module_version": "1.2.0",
      "model_name": "LayoutModel",
      "state": {}
     },
     "00b4c896c4dc4f7f94085ae4af0d36b7": {
      "model_module": "jupyter-matplotlib",
      "model_module_version": "^0.7.2",
      "model_name": "MPLCanvasModel",
      "state": {
       "_figure_label": "Figure 11",
       "_height": 696,
       "_width": 1100,
       "header_visible": false,
       "layout": "IPY_MODEL_a5dfe9c3f47346119fb0bb5a147ab84d",
       "resizable": false,
       "toolbar": "IPY_MODEL_aa53f011edb047749343f32d64410b91",
       "toolbar_position": "left",
       "toolbar_visible": false
      }
     },
     "00c441d47b114191b13468edfcfbdcaf": {
      "model_module": "@jupyter-widgets/controls",
      "model_module_version": "1.5.0",
      "model_name": "ButtonModel",
      "state": {
       "description": "Save Figure",
       "layout": "IPY_MODEL_741763690d5240e9be46f15596408297",
       "style": "IPY_MODEL_9a5237c7603e4ccda3d422d5a751198b"
      }
     },
     "00dda0d1d1304e68905b14d8bf34b000": {
      "model_module": "@jupyter-widgets/base",
      "model_module_version": "1.2.0",
      "model_name": "LayoutModel",
      "state": {}
     },
     "010bf5f031e74e8b8deb55777ea49933": {
      "model_module": "@jupyter-widgets/base",
      "model_module_version": "1.2.0",
      "model_name": "LayoutModel",
      "state": {}
     },
     "01148b9c0db3473692ce2ac33630af43": {
      "model_module": "@jupyter-widgets/base",
      "model_module_version": "1.2.0",
      "model_name": "LayoutModel",
      "state": {}
     },
     "01606f15cce7443c9b8325b87e9047d7": {
      "model_module": "@jupyter-widgets/base",
      "model_module_version": "1.2.0",
      "model_name": "LayoutModel",
      "state": {}
     },
     "01836e2052d74e50b61f7a1149078eaa": {
      "model_module": "@jupyter-widgets/controls",
      "model_module_version": "1.5.0",
      "model_name": "ButtonModel",
      "state": {
       "description": "Reset Compression Controls",
       "layout": "IPY_MODEL_b6df7c4d319845c482a927eb84f66dbb",
       "style": "IPY_MODEL_92bffdde943b4d18b5334292df10b73b"
      }
     },
     "01b71ccf7da24ffbb823fd1e3d2e83a6": {
      "model_module": "jupyter-matplotlib",
      "model_module_version": "^0.7.2",
      "model_name": "MPLCanvasModel",
      "state": {
       "_figure_label": "Figure 10",
       "_height": 696,
       "_width": 1100,
       "header_visible": false,
       "layout": "IPY_MODEL_9a971efba7ba4a95bce93bd335af5620",
       "resizable": false,
       "toolbar": "IPY_MODEL_15693c97d4744f94b63cebf70b5a4239",
       "toolbar_position": "left",
       "toolbar_visible": false
      }
     },
     "01c15ceedad54a53b29395dab1db3da2": {
      "model_module": "@jupyter-widgets/controls",
      "model_module_version": "1.5.0",
      "model_name": "VBoxModel",
      "state": {
       "children": [
        "IPY_MODEL_618c7699dabd4f2895c1e8b60923c8e8"
       ],
       "layout": "IPY_MODEL_a336869c69f74e74a8ac397f33e3a82e"
      }
     },
     "01dd098413e3401b824b1ab0425dc395": {
      "model_module": "@jupyter-widgets/base",
      "model_module_version": "1.2.0",
      "model_name": "LayoutModel",
      "state": {}
     },
     "01decbbf3b13498ebdfdcacdd41db6e2": {
      "model_module": "@jupyter-widgets/base",
      "model_module_version": "1.2.0",
      "model_name": "LayoutModel",
      "state": {
       "align_items": "stretch",
       "display": "flex",
       "flex_flow": "column",
       "width": "1128px"
      }
     },
     "01ee3fd69edc4a55adbcdefe87d897d9": {
      "model_module": "@jupyter-widgets/base",
      "model_module_version": "1.2.0",
      "model_name": "LayoutModel",
      "state": {}
     },
     "022385da9f9e425ca7152879df8875d0": {
      "model_module": "@jupyter-widgets/controls",
      "model_module_version": "1.5.0",
      "model_name": "ButtonModel",
      "state": {
       "description": "Reset Exposure",
       "layout": "IPY_MODEL_cd9b6a83d98b4307ace59a8b76d93be3",
       "style": "IPY_MODEL_4ce40f32dfd04bcaa05a1f45efea09da"
      }
     },
     "0237f7001a48497b94cd065a264ff4a4": {
      "model_module": "@jupyter-widgets/controls",
      "model_module_version": "1.5.0",
      "model_name": "SliderStyleModel",
      "state": {
       "description_width": ""
      }
     },
     "024402c199ec435eb5b8c23e1986a075": {
      "model_module": "@jupyter-widgets/controls",
      "model_module_version": "1.5.0",
      "model_name": "ButtonModel",
      "state": {
       "description": "Save Figure",
       "layout": "IPY_MODEL_dfa9b175533844f7ad1d5cff40f6ebb7",
       "style": "IPY_MODEL_8f019ad7a3bc43099751c9f175aa89d8"
      }
     },
     "025464d4aec847ceaa7582973fff17ac": {
      "model_module": "@jupyter-widgets/base",
      "model_module_version": "1.2.0",
      "model_name": "LayoutModel",
      "state": {}
     },
     "0267bad795264bc2bb1ba18aad5ab69a": {
      "model_module": "@jupyter-widgets/base",
      "model_module_version": "1.2.0",
      "model_name": "LayoutModel",
      "state": {}
     },
     "026c47ea2dbf454fa43bd411dfae7b3c": {
      "model_module": "@jupyter-widgets/base",
      "model_module_version": "1.2.0",
      "model_name": "LayoutModel",
      "state": {
       "border": "solid 4px #222",
       "margin": "4px",
       "padding": "0"
      }
     },
     "028f46ea23cc4ae3890e258df611351e": {
      "model_module": "@jupyter-widgets/controls",
      "model_module_version": "1.5.0",
      "model_name": "CheckboxModel",
      "state": {
       "description": "Show Out-of-Gamut",
       "disabled": false,
       "layout": "IPY_MODEL_f8c28add4ea14c9ab8390848d5ba8b8e",
       "style": "IPY_MODEL_815268327696458f844ff08444af1afb",
       "value": false
      }
     },
     "028f4a013264490d938a196232443b5c": {
      "model_module": "@jupyter-widgets/controls",
      "model_module_version": "1.5.0",
      "model_name": "SliderStyleModel",
      "state": {
       "description_width": ""
      }
     },
     "0290005e88e54c65872c15ca97aedc60": {
      "model_module": "@jupyter-widgets/controls",
      "model_module_version": "1.5.0",
      "model_name": "SliderStyleModel",
      "state": {
       "description_width": ""
      }
     },
     "02ae957750bf4969bbeebf6ad57997b0": {
      "model_module": "@jupyter-widgets/controls",
      "model_module_version": "1.5.0",
      "model_name": "SliderStyleModel",
      "state": {
       "description_width": ""
      }
     },
     "02bfed14e009430789e686bd48cabf9a": {
      "model_module": "jupyter-matplotlib",
      "model_module_version": "^0.7.2",
      "model_name": "MPLCanvasModel",
      "state": {
       "header_visible": false,
       "layout": "IPY_MODEL_d52b202144b74eb793ed22221186203d",
       "resizable": false,
       "toolbar": "IPY_MODEL_a80ea9e526ae408d8bd423ed59d1817b",
       "toolbar_position": "left",
       "toolbar_visible": false
      }
     },
     "02d918ff739f4581977e7b29312a19aa": {
      "model_module": "@jupyter-widgets/controls",
      "model_module_version": "1.5.0",
      "model_name": "HBoxModel",
      "state": {
       "children": [
        "IPY_MODEL_b4a8a42e918f406c8cfb4eb662ba554a",
        "IPY_MODEL_c496fdb064c24857915d6fabbdcc0257"
       ],
       "layout": "IPY_MODEL_792c8421fc644546b1e4cd64a4861303"
      }
     },
     "02ec848787e34431a2cade6b49e29e2c": {
      "model_module": "@jupyter-widgets/controls",
      "model_module_version": "1.5.0",
      "model_name": "VBoxModel",
      "state": {
       "children": [
        "IPY_MODEL_39c7dc95e0ae404d986c9c3a21f2d25b",
        "IPY_MODEL_984e1aaa1d804013a8b2f9a1ea68c521",
        "IPY_MODEL_e99af45c0b7b4dffb3f23e5ee06b34cd"
       ],
       "layout": "IPY_MODEL_31234619df23401fbb6a944618832127"
      }
     },
     "02fc1c675c5c457db08b49112d3b3930": {
      "model_module": "@jupyter-widgets/controls",
      "model_module_version": "1.5.0",
      "model_name": "ButtonStyleModel",
      "state": {}
     },
     "032b11b0071544cfb33b6c0a4e9bdc75": {
      "model_module": "@jupyter-widgets/base",
      "model_module_version": "1.2.0",
      "model_name": "LayoutModel",
      "state": {}
     },
     "0331879b3a3e4ee6a3214f360c60019b": {
      "model_module": "@jupyter-widgets/controls",
      "model_module_version": "1.5.0",
      "model_name": "ButtonModel",
      "state": {
       "description": "Export Image",
       "layout": "IPY_MODEL_c4fba52ef5664664b2112ad32cd3f6f9",
       "style": "IPY_MODEL_703960627ab74608aa26f765db790f34"
      }
     },
     "0390c4a9c64e48f9b727de43fcbbb121": {
      "model_module": "@jupyter-widgets/base",
      "model_module_version": "1.2.0",
      "model_name": "LayoutModel",
      "state": {}
     },
     "039fb126664b48839c45beb06f3ed3e5": {
      "model_module": "@jupyter-widgets/controls",
      "model_module_version": "1.5.0",
      "model_name": "ButtonStyleModel",
      "state": {}
     },
     "03a6f01229ec4ae9bcc56d78d6a53ee0": {
      "model_module": "@jupyter-widgets/base",
      "model_module_version": "1.2.0",
      "model_name": "LayoutModel",
      "state": {}
     },
     "03bf3568880648f0980042463bc7d765": {
      "model_module": "@jupyter-widgets/controls",
      "model_module_version": "1.5.0",
      "model_name": "SliderStyleModel",
      "state": {
       "description_width": ""
      }
     },
     "03c3a1cda61849bcaccf28774265b0d2": {
      "model_module": "@jupyter-widgets/controls",
      "model_module_version": "1.5.0",
      "model_name": "TabModel",
      "state": {
       "_titles": {
        "0": "Global Controls",
        "1": "Viewer Controls",
        "2": "Protected Area Controls",
        "3": "Saturation Controls",
        "4": "Hue Controls"
       },
       "children": [
        "IPY_MODEL_465f11e4c8d04623a489e3af32e683df",
        "IPY_MODEL_5b536f9d86464804948fe6ed8c6a7dd7",
        "IPY_MODEL_839caacbe7c1459fbc8afb0317840bd1",
        "IPY_MODEL_2cc626e1aaff4a67b44aa2f1d458b233",
        "IPY_MODEL_b305c0c28ae440d99c14e280d405f43c"
       ],
       "layout": "IPY_MODEL_89eee8262620442ab3d85feb0198acf3"
      }
     },
     "03d14c43cdc14ecc828f0a9dff42d635": {
      "model_module": "@jupyter-widgets/controls",
      "model_module_version": "1.5.0",
      "model_name": "ButtonStyleModel",
      "state": {}
     },
     "03deff7b30a34c25a9425d94c2716349": {
      "model_module": "@jupyter-widgets/controls",
      "model_module_version": "1.5.0",
      "model_name": "DropdownModel",
      "state": {
       "_options_labels": [
        "sRGB",
        "ACES (sRGB)"
       ],
       "description": "View Transform:",
       "index": 0,
       "layout": "IPY_MODEL_e2b9a189d169440c9ea670eba4f06e7f",
       "style": "IPY_MODEL_f47f187e7f874ac180677451974e8262"
      }
     },
     "03e392cf5f5c4538b60121cc7a29e9ec": {
      "model_module": "@jupyter-widgets/controls",
      "model_module_version": "1.5.0",
      "model_name": "ButtonStyleModel",
      "state": {}
     },
     "03ebeab73bf2451ba3251455cca3af17": {
      "model_module": "@jupyter-widgets/base",
      "model_module_version": "1.2.0",
      "model_name": "LayoutModel",
      "state": {}
     },
     "03eceb6399cd48c3910ceb213c24767a": {
      "model_module": "@jupyter-widgets/controls",
      "model_module_version": "1.5.0",
      "model_name": "CheckboxModel",
      "state": {
       "description": "Disable Medicina",
       "disabled": false,
       "layout": "IPY_MODEL_967104f21a5c4c539e18a5bdc663e457",
       "style": "IPY_MODEL_65fd52ea5114415fa76cff19cbff06dd",
       "value": false
      }
     },
     "03f9e3d746f04e4f821e9c988e8268bb": {
      "model_module": "@jupyter-widgets/base",
      "model_module_version": "1.2.0",
      "model_name": "LayoutModel",
      "state": {}
     },
     "041185953cab4b2b8d6af090b022f4a9": {
      "model_module": "@jupyter-widgets/controls",
      "model_module_version": "1.5.0",
      "model_name": "FloatSliderModel",
      "state": {
       "description": "225°",
       "layout": "IPY_MODEL_be98f4de54534120bce43399c3154446",
       "max": 1,
       "min": -1,
       "step": 0.01,
       "style": "IPY_MODEL_2a4e38886fb74e44b828f0e29ed45a27"
      }
     },
     "043fc2405047417999435e3d4c48f34d": {
      "model_module": "@jupyter-widgets/controls",
      "model_module_version": "1.5.0",
      "model_name": "FloatSliderModel",
      "state": {
       "description": "Protected Area Threshold",
       "layout": "IPY_MODEL_388c1beb013c41e8932d949f1af9f61b",
       "max": 1,
       "step": 0.01,
       "style": "IPY_MODEL_a6a1d0cf43cf48cf82a703f9dea783ef",
       "value": 0.7
      }
     },
     "044db7665bea441d95f74f0679a47948": {
      "model_module": "@jupyter-widgets/controls",
      "model_module_version": "1.5.0",
      "model_name": "ButtonStyleModel",
      "state": {}
     },
     "0487e1cca71b4d5398e23844c2489037": {
      "model_module": "@jupyter-widgets/controls",
      "model_module_version": "1.5.0",
      "model_name": "ButtonModel",
      "state": {
       "description": "Reset Exposure",
       "layout": "IPY_MODEL_33c722a82c38499dad201a888c96cfe7",
       "style": "IPY_MODEL_cbdb70ff538641189306eceee20be471"
      }
     },
     "049dc509e63f4a90ae19f6b0737dd38f": {
      "model_module": "@jupyter-widgets/controls",
      "model_module_version": "1.5.0",
      "model_name": "ButtonModel",
      "state": {
       "description": "Reset Protected Area",
       "layout": "IPY_MODEL_34fa099a23054319bf3d9c885fa8d3e1",
       "style": "IPY_MODEL_640e32a760a14b48a95264165178e180"
      }
     },
     "04a1ae3d04d04d1fa7cf0113655818d6": {
      "model_module": "@jupyter-widgets/controls",
      "model_module_version": "1.5.0",
      "model_name": "SliderStyleModel",
      "state": {
       "description_width": ""
      }
     },
     "04a46027c21b4a009efcc8757816e146": {
      "model_module": "@jupyter-widgets/controls",
      "model_module_version": "1.5.0",
      "model_name": "FloatSliderModel",
      "state": {
       "description": "Compression Threshold",
       "layout": "IPY_MODEL_373e789c763d42e08b0981ac6690d101",
       "max": 1,
       "step": 0.01,
       "style": "IPY_MODEL_3d55142f88794344bf8ccd97a8cc3e7d",
       "value": 0.8
      }
     },
     "04b3275eb95b4203b1b47f132bfc348b": {
      "model_module": "@jupyter-widgets/output",
      "model_module_version": "1.0.0",
      "model_name": "OutputModel",
      "state": {
       "layout": "IPY_MODEL_d48e686741ad4b7786a89e94d8215305",
       "outputs": [
        {
         "data": {
          "application/vnd.jupyter.widget-view+json": {
           "model_id": "626af3e1e3d6496ead3af4a6906255ef",
           "version_major": 2,
           "version_minor": 0
          },
          "text/plain": "Canvas(toolbar=Toolbar(toolitems=[('Home', 'Reset original view', 'home', 'home'), ('Back', 'Back to previous …"
         },
         "metadata": {},
         "output_type": "display_data"
        }
       ]
      }
     },
     "04ff8d52620b4f4db961c562ca663d04": {
      "model_module": "@jupyter-widgets/controls",
      "model_module_version": "1.5.0",
      "model_name": "SliderStyleModel",
      "state": {
       "description_width": ""
      }
     },
     "0540815d98cf4b92b3caa388dba60513": {
      "model_module": "@jupyter-widgets/base",
      "model_module_version": "1.2.0",
      "model_name": "LayoutModel",
      "state": {}
     },
     "0551bdc6ca364428aeeb425f6b626b50": {
      "model_module": "@jupyter-widgets/base",
      "model_module_version": "1.2.0",
      "model_name": "LayoutModel",
      "state": {}
     },
     "0568abd1647d415498ed35814ae313c6": {
      "model_module": "@jupyter-widgets/base",
      "model_module_version": "1.2.0",
      "model_name": "LayoutModel",
      "state": {}
     },
     "057aa684a1ef4fa4ab45cc081072a850": {
      "model_module": "@jupyter-widgets/controls",
      "model_module_version": "1.5.0",
      "model_name": "DescriptionStyleModel",
      "state": {
       "description_width": ""
      }
     },
     "05c0bb9d79234fe899b98807b0f88e78": {
      "model_module": "@jupyter-widgets/base",
      "model_module_version": "1.2.0",
      "model_name": "LayoutModel",
      "state": {}
     },
     "05c341d66fb94ce4ae107fa4765fffe8": {
      "model_module": "@jupyter-widgets/controls",
      "model_module_version": "1.5.0",
      "model_name": "HBoxModel",
      "state": {
       "children": [
        "IPY_MODEL_9ad5958bc1e44b7b8e78c46d5f36e338",
        "IPY_MODEL_8043eda6bf08424caa8cd0668e4c5d78",
        "IPY_MODEL_7234a11c2aee42ec90696d2b9dcc7934"
       ],
       "layout": "IPY_MODEL_d1ddaa808c6f4566a3b7449e8d798fb1"
      }
     },
     "05c52c9b0f4f42c4bbe8fb48a854bda3": {
      "model_module": "@jupyter-widgets/base",
      "model_module_version": "1.2.0",
      "model_name": "LayoutModel",
      "state": {}
     },
     "05c8b43478c04af0988ba2e96d8ab53f": {
      "model_module": "@jupyter-widgets/controls",
      "model_module_version": "1.5.0",
      "model_name": "DescriptionStyleModel",
      "state": {
       "description_width": ""
      }
     },
     "05d09bf9fc7e45d89a960c1be042716e": {
      "model_module": "@jupyter-widgets/controls",
      "model_module_version": "1.5.0",
      "model_name": "HBoxModel",
      "state": {
       "children": [
        "IPY_MODEL_89b16475460f40b082329bec045ffd0b",
        "IPY_MODEL_cec60c9252534ef2b7549320f054e976"
       ],
       "layout": "IPY_MODEL_9273ef291ec543f6a78bb4175e9ab60d"
      }
     },
     "05d2d553deca4a1491f27a9c3467eb3f": {
      "model_module": "@jupyter-widgets/base",
      "model_module_version": "1.2.0",
      "model_name": "LayoutModel",
      "state": {}
     },
     "05ee89c7fef7424897f9e228fb798df2": {
      "model_module": "@jupyter-widgets/output",
      "model_module_version": "1.0.0",
      "model_name": "OutputModel",
      "state": {
       "layout": "IPY_MODEL_16163ef5edd14046999d66a240725d0a",
       "outputs": [
        {
         "data": {
          "application/vnd.jupyter.widget-view+json": {
           "model_id": "00b4c896c4dc4f7f94085ae4af0d36b7",
           "version_major": 2,
           "version_minor": 0
          },
          "text/plain": "Canvas(toolbar=Toolbar(toolitems=[('Home', 'Reset original view', 'home', 'home'), ('Back', 'Back to previous …"
         },
         "metadata": {},
         "output_type": "display_data"
        }
       ]
      }
     },
     "05f3b796d8ef49689e6c2287c8201f94": {
      "model_module": "@jupyter-widgets/base",
      "model_module_version": "1.2.0",
      "model_name": "LayoutModel",
      "state": {}
     },
     "0623086d43a744a782e7cea925e26614": {
      "model_module": "@jupyter-widgets/base",
      "model_module_version": "1.2.0",
      "model_name": "LayoutModel",
      "state": {}
     },
     "063aef9f2ca74e1d9807221e15949d1f": {
      "model_module": "@jupyter-widgets/base",
      "model_module_version": "1.2.0",
      "model_name": "LayoutModel",
      "state": {}
     },
     "064eab2b3a9d49cdb4e90269b52e0328": {
      "model_module": "@jupyter-widgets/base",
      "model_module_version": "1.2.0",
      "model_name": "LayoutModel",
      "state": {}
     },
     "06a70423b4754b55b29b337d34837d35": {
      "model_module": "@jupyter-widgets/controls",
      "model_module_version": "1.5.0",
      "model_name": "FloatSliderModel",
      "state": {
       "description": "0°",
       "layout": "IPY_MODEL_508d0b316e4644b5babe57d1f1e27699",
       "max": 1,
       "min": -1,
       "step": 0.01,
       "style": "IPY_MODEL_ad023664b5cf410394939df7a96754d3"
      }
     },
     "06d208fced624ebb9190417fb9816791": {
      "model_module": "@jupyter-widgets/output",
      "model_module_version": "1.0.0",
      "model_name": "OutputModel",
      "state": {
       "layout": "IPY_MODEL_c1e13826dfe34278a304fc999d4d7107",
       "outputs": [
        {
         "data": {
          "application/vnd.jupyter.widget-view+json": {
           "model_id": "9d2a364d8ac94930ab8790a8be2e234a",
           "version_major": 2,
           "version_minor": 0
          },
          "text/plain": "Canvas(toolbar=Toolbar(toolitems=[('Home', 'Reset original view', 'home', 'home'), ('Back', 'Back to previous …"
         },
         "metadata": {},
         "output_type": "display_data"
        }
       ]
      }
     },
     "06ea8d3718db485fb7ce00ef22d39dfc": {
      "model_module": "@jupyter-widgets/base",
      "model_module_version": "1.2.0",
      "model_name": "LayoutModel",
      "state": {}
     },
     "06f61527568c4b8bbe0581e4bbcfaeca": {
      "model_module": "@jupyter-widgets/controls",
      "model_module_version": "1.5.0",
      "model_name": "VBoxModel",
      "state": {
       "children": [
        "IPY_MODEL_3803b6e80ceb487c979fb5d585163b8a",
        "IPY_MODEL_981025dec6d2489a9cf7ea4df4d3ef3c"
       ],
       "layout": "IPY_MODEL_dbcb6f1e0055427e9a1589c486eabffb"
      }
     },
     "0765c648952246098ce39b11410cf866": {
      "model_module": "@jupyter-widgets/base",
      "model_module_version": "1.2.0",
      "model_name": "LayoutModel",
      "state": {}
     },
     "07ddd1a9c0b842bda465ec93963b5c09": {
      "model_module": "@jupyter-widgets/controls",
      "model_module_version": "1.5.0",
      "model_name": "DropdownModel",
      "state": {
       "_options_labels": [
        "sRGB",
        "ACES (sRGB)"
       ],
       "description": "View Transform:",
       "index": 0,
       "layout": "IPY_MODEL_d4db39e195fe41059f5e6d001324ac3b",
       "style": "IPY_MODEL_a5e23e0794e84385bee5a5c46d2ac2fc"
      }
     },
     "07e0dabf5e3f4cc0acaf7257abe5d93d": {
      "model_module": "@jupyter-widgets/controls",
      "model_module_version": "1.5.0",
      "model_name": "DescriptionStyleModel",
      "state": {
       "description_width": ""
      }
     },
     "07f57576ba9041f68fea96e4413e34ed": {
      "model_module": "@jupyter-widgets/base",
      "model_module_version": "1.2.0",
      "model_name": "LayoutModel",
      "state": {}
     },
     "0817289aa39a4322879571b62e25c5d4": {
      "model_module": "@jupyter-widgets/base",
      "model_module_version": "1.2.0",
      "model_name": "LayoutModel",
      "state": {}
     },
     "0871d9e681b64d309147ad8ada6cfe9f": {
      "model_module": "@jupyter-widgets/base",
      "model_module_version": "1.2.0",
      "model_name": "LayoutModel",
      "state": {}
     },
     "087f26d73e0b48688124a0ec0a34d9ec": {
      "model_module": "@jupyter-widgets/controls",
      "model_module_version": "1.5.0",
      "model_name": "ButtonStyleModel",
      "state": {}
     },
     "08b8a9048b564d37b6e0a37c23070f83": {
      "model_module": "jupyter-matplotlib",
      "model_module_version": "^0.7.2",
      "model_name": "ToolbarModel",
      "state": {
       "layout": "IPY_MODEL_d4c966a8141241339591e15474635d86",
       "toolitems": [
        [
         "Home",
         "Reset original view",
         "home",
         "home"
        ],
        [
         "Back",
         "Back to previous view",
         "arrow-left",
         "back"
        ],
        [
         "Forward",
         "Forward to next view",
         "arrow-right",
         "forward"
        ],
        [
         "Pan",
         "Pan axes with left mouse, zoom with right",
         "arrows",
         "pan"
        ],
        [
         "Zoom",
         "Zoom to rectangle",
         "square-o",
         "zoom"
        ],
        [
         "Download",
         "Download plot",
         "floppy-o",
         "save_figure"
        ]
       ]
      }
     },
     "08c82ed376d64674a2aaaa843dbcb75a": {
      "model_module": "@jupyter-widgets/base",
      "model_module_version": "1.2.0",
      "model_name": "LayoutModel",
      "state": {}
     },
     "08ca7eaff7114608a970158c5433d20d": {
      "model_module": "@jupyter-widgets/controls",
      "model_module_version": "1.5.0",
      "model_name": "SliderStyleModel",
      "state": {
       "description_width": ""
      }
     },
     "08e9adb26a174a9f88083546c5f2559a": {
      "model_module": "@jupyter-widgets/base",
      "model_module_version": "1.2.0",
      "model_name": "LayoutModel",
      "state": {}
     },
     "09079a90a74042f4bfab0735c53f97b2": {
      "model_module": "@jupyter-widgets/controls",
      "model_module_version": "1.5.0",
      "model_name": "FloatSliderModel",
      "state": {
       "description": "0°",
       "layout": "IPY_MODEL_e137b67bec014eaca698f65262565d31",
       "max": 1,
       "min": -1,
       "step": 0.01,
       "style": "IPY_MODEL_5df1480cefe04e3a908f454a0ab1d50c"
      }
     },
     "0920059054b1459fa85c55025a9029c0": {
      "model_module": "@jupyter-widgets/controls",
      "model_module_version": "1.5.0",
      "model_name": "FloatSliderModel",
      "state": {
       "description": "Compression Threshold",
       "layout": "IPY_MODEL_688b500a1b6244a6a08407e9bffe33ef",
       "max": 1,
       "step": 0.01,
       "style": "IPY_MODEL_a0aeda4bb25545828bd834b0e65e8a73",
       "value": 0.8
      }
     },
     "0929d1e41bcf414ab2bcab3f3934cbb3": {
      "model_module": "@jupyter-widgets/base",
      "model_module_version": "1.2.0",
      "model_name": "LayoutModel",
      "state": {}
     },
     "092a3b6d49f34769918b7aa939574e98": {
      "model_module": "@jupyter-widgets/controls",
      "model_module_version": "1.5.0",
      "model_name": "CheckboxModel",
      "state": {
       "description": "Disable Medicina",
       "disabled": false,
       "layout": "IPY_MODEL_0267bad795264bc2bb1ba18aad5ab69a",
       "style": "IPY_MODEL_d61719fdc9af437aa4ede91ceaf22092",
       "value": true
      }
     },
     "095ee3cefced4ea691970eda6712651e": {
      "model_module": "@jupyter-widgets/controls",
      "model_module_version": "1.5.0",
      "model_name": "ButtonModel",
      "state": {
       "description": "Export Image",
       "layout": "IPY_MODEL_3bdf12803ff3423eaba394110af885d2",
       "style": "IPY_MODEL_4dc983ead30a4ed290a3a0368b0e7ff9"
      }
     },
     "097dfeaea6564400a2b6dad391f4a8f8": {
      "model_module": "@jupyter-widgets/controls",
      "model_module_version": "1.5.0",
      "model_name": "DropdownModel",
      "state": {
       "_options_labels": [
        "sRGB",
        "ACES (sRGB)"
       ],
       "description": "View Transform:",
       "index": 0,
       "layout": "IPY_MODEL_cea0b1b6fe2d41f0af86b11e21c7cf9e",
       "style": "IPY_MODEL_78dbb6c657ad4835ba46888e91f1dda1"
      }
     },
     "098a7b22017b4c019d857cf17ba56474": {
      "model_module": "@jupyter-widgets/controls",
      "model_module_version": "1.5.0",
      "model_name": "SliderStyleModel",
      "state": {
       "description_width": ""
      }
     },
     "098a91c5e709496ba7fa8dbf1353a32f": {
      "model_module": "@jupyter-widgets/base",
      "model_module_version": "1.2.0",
      "model_name": "LayoutModel",
      "state": {}
     },
     "098b8847bffc41adb43af07114e8ad6b": {
      "model_module": "@jupyter-widgets/base",
      "model_module_version": "1.2.0",
      "model_name": "LayoutModel",
      "state": {}
     },
     "098f970fcad44d3683062a52e5140c6d": {
      "model_module": "@jupyter-widgets/base",
      "model_module_version": "1.2.0",
      "model_name": "LayoutModel",
      "state": {
       "border": "solid 4px #222",
       "margin": "4px",
       "padding": "0"
      }
     },
     "099102a979e64679b0f36fb56e9b5908": {
      "model_module": "@jupyter-widgets/controls",
      "model_module_version": "1.5.0",
      "model_name": "FloatSliderModel",
      "state": {
       "description": "270°",
       "layout": "IPY_MODEL_7955b23ac6814e86a508a640602443d9",
       "max": 1,
       "min": -1,
       "step": 0.01,
       "style": "IPY_MODEL_f8fc9d9e6d2e45808739d3f98e527bbb"
      }
     },
     "09aa33f7aaa94e519dd8af00e530ea9d": {
      "model_module": "@jupyter-widgets/base",
      "model_module_version": "1.2.0",
      "model_name": "LayoutModel",
      "state": {}
     },
     "09b73f9d9d97412f80fc752639e65e57": {
      "model_module": "@jupyter-widgets/controls",
      "model_module_version": "1.5.0",
      "model_name": "ButtonStyleModel",
      "state": {}
     },
     "09fa8d7f08374240b6a874f993ef390f": {
      "model_module": "@jupyter-widgets/controls",
      "model_module_version": "1.5.0",
      "model_name": "TabModel",
      "state": {
       "_titles": {
        "0": "Global Controls",
        "1": "Viewer Controls",
        "2": "Protected Area Controls",
        "3": "Saturation Controls",
        "4": "Hue Controls"
       },
       "children": [
        "IPY_MODEL_d409c8e9f5a349a5a855172e8f0dbc01",
        "IPY_MODEL_10a0d6523eec451fad37a8fa5dfb33a5",
        "IPY_MODEL_d4048f3c1bcc4999b164a324e141293b",
        "IPY_MODEL_e169750e2f424c00bde0dda23d7fcb8b",
        "IPY_MODEL_9e9e0384149a45cba3b806dd1190a9e8"
       ],
       "layout": "IPY_MODEL_47ad2ac340834ae68cf8ca7973310ccc"
      }
     },
     "0a0db933a42d4c8cb61836ed706b25eb": {
      "model_module": "@jupyter-widgets/base",
      "model_module_version": "1.2.0",
      "model_name": "LayoutModel",
      "state": {}
     },
     "0a30c040750f4c2c9adbdac5f281ae5e": {
      "model_module": "@jupyter-widgets/controls",
      "model_module_version": "1.5.0",
      "model_name": "FloatSliderModel",
      "state": {
       "description": "90°",
       "layout": "IPY_MODEL_ddeb93788f274c83896d4d6a2413cc2c",
       "max": 1,
       "min": -1,
       "step": 0.01,
       "style": "IPY_MODEL_80c05fdd9b0548b68be5d49aa89ae221"
      }
     },
     "0a8b7d4c6c6c4254b7311f65315b23cb": {
      "model_module": "@jupyter-widgets/base",
      "model_module_version": "1.2.0",
      "model_name": "LayoutModel",
      "state": {}
     },
     "0a9c0a149174497b989ff2115652e06d": {
      "model_module": "@jupyter-widgets/controls",
      "model_module_version": "1.5.0",
      "model_name": "FloatSliderModel",
      "state": {
       "description": "90°",
       "layout": "IPY_MODEL_24039298a6354077b229c4e570c1d15f",
       "max": 1,
       "min": -1,
       "step": 0.01,
       "style": "IPY_MODEL_e0a77e387e434dad967f6644aad33809"
      }
     },
     "0a9c40afe29348afa996ab32274aa245": {
      "model_module": "@jupyter-widgets/base",
      "model_module_version": "1.2.0",
      "model_name": "LayoutModel",
      "state": {}
     },
     "0ab9527b69ad4c3bb2a332ef549e7d21": {
      "model_module": "@jupyter-widgets/base",
      "model_module_version": "1.2.0",
      "model_name": "LayoutModel",
      "state": {}
     },
     "0ac2c193737146ebbfa38f1c6f18017b": {
      "model_module": "@jupyter-widgets/controls",
      "model_module_version": "1.5.0",
      "model_name": "ButtonModel",
      "state": {
       "description": "Reset Exposure",
       "layout": "IPY_MODEL_35b9ab549e484c6c8501745d63854d1b",
       "style": "IPY_MODEL_a1a401f5ed91436ba3e4b5290804d353"
      }
     },
     "0ac35c1e82144071bb797f4746f2ca67": {
      "model_module": "@jupyter-widgets/base",
      "model_module_version": "1.2.0",
      "model_name": "LayoutModel",
      "state": {}
     },
     "0addd48a9fe24d388c351b8933e6322d": {
      "model_module": "@jupyter-widgets/base",
      "model_module_version": "1.2.0",
      "model_name": "LayoutModel",
      "state": {}
     },
     "0b0efcd9d4b34751bdd09fd273ee984d": {
      "model_module": "@jupyter-widgets/controls",
      "model_module_version": "1.5.0",
      "model_name": "ButtonModel",
      "state": {
       "description": "Reset Exposure",
       "layout": "IPY_MODEL_acc6ce654bf542ae80c537717f58b330",
       "style": "IPY_MODEL_21d7aada89f342eaa2f4ed96ee7f9e8f"
      }
     },
     "0b31b06b5eb344b4a73441a4e4800ce0": {
      "model_module": "jupyter-matplotlib",
      "model_module_version": "^0.7.2",
      "model_name": "MPLCanvasModel",
      "state": {
       "_figure_label": "Figure 17",
       "_height": 430,
       "_width": 1099,
       "header_visible": false,
       "layout": "IPY_MODEL_0ac35c1e82144071bb797f4746f2ca67",
       "resizable": false,
       "toolbar": "IPY_MODEL_08b8a9048b564d37b6e0a37c23070f83",
       "toolbar_position": "left",
       "toolbar_visible": false
      }
     },
     "0b41815d87ec40088ea7c5e2e677ba95": {
      "model_module": "@jupyter-widgets/base",
      "model_module_version": "1.2.0",
      "model_name": "LayoutModel",
      "state": {}
     },
     "0b513784784147c7bbe9761152023f09": {
      "model_module": "@jupyter-widgets/base",
      "model_module_version": "1.2.0",
      "model_name": "LayoutModel",
      "state": {}
     },
     "0b620096d4aa4a77ae431154652f6234": {
      "model_module": "@jupyter-widgets/controls",
      "model_module_version": "1.5.0",
      "model_name": "ButtonStyleModel",
      "state": {}
     },
     "0b6e18d171584e6da66f865f7167d2ec": {
      "model_module": "@jupyter-widgets/base",
      "model_module_version": "1.2.0",
      "model_name": "LayoutModel",
      "state": {}
     },
     "0b906547da3f484fb86f2d6fb2f2e60c": {
      "model_module": "@jupyter-widgets/controls",
      "model_module_version": "1.5.0",
      "model_name": "ButtonModel",
      "state": {
       "description": "Export Image",
       "layout": "IPY_MODEL_9d7e8549f6024869b32fa9f2bce3fb73",
       "style": "IPY_MODEL_43270b9042f240c2a7742cf6d7927749"
      }
     },
     "0b92644ba351462a83137b97820566b6": {
      "model_module": "@jupyter-widgets/controls",
      "model_module_version": "1.5.0",
      "model_name": "HBoxModel",
      "state": {
       "children": [
        "IPY_MODEL_01836e2052d74e50b61f7a1149078eaa",
        "IPY_MODEL_25e39d74e3f54d0d95218fa631c4ccf3",
        "IPY_MODEL_caa1e8daa2c041dd85ca710edb415c86"
       ],
       "layout": "IPY_MODEL_32d508c8b24649869e2964be893f8c3d"
      }
     },
     "0ba27cb723e8493dbf5f4ccef487c55a": {
      "model_module": "@jupyter-widgets/base",
      "model_module_version": "1.2.0",
      "model_name": "LayoutModel",
      "state": {}
     },
     "0bae5c5ab1204933b5853217516f2458": {
      "model_module": "@jupyter-widgets/base",
      "model_module_version": "1.2.0",
      "model_name": "LayoutModel",
      "state": {}
     },
     "0bb79a97d0044f1fa331adf8331c545a": {
      "model_module": "@jupyter-widgets/controls",
      "model_module_version": "1.5.0",
      "model_name": "ButtonModel",
      "state": {
       "description": "Export Image",
       "layout": "IPY_MODEL_c904760ab12247c882d9b30ff9c20ea9",
       "style": "IPY_MODEL_86200a1ad9f046e5a5455f7602158bd0"
      }
     },
     "0bc3c39b36a54b008d7f5e8404c40f9f": {
      "model_module": "@jupyter-widgets/controls",
      "model_module_version": "1.5.0",
      "model_name": "DropdownModel",
      "state": {
       "_options_labels": [
        "sRGB",
        "ACES (sRGB)"
       ],
       "description": "View Transform:",
       "index": 0,
       "layout": "IPY_MODEL_72bd94eaa0bb4a38945ba2b39e98fb78",
       "style": "IPY_MODEL_cd79f03ae9e84401af4b083bdc6c989c"
      }
     },
     "0bc66ea97f0b4babb23f5ad047c573f5": {
      "model_module": "@jupyter-widgets/base",
      "model_module_version": "1.2.0",
      "model_name": "LayoutModel",
      "state": {}
     },
     "0bcc865d84a34ae1b63994691c9b06bf": {
      "model_module": "@jupyter-widgets/controls",
      "model_module_version": "1.5.0",
      "model_name": "ButtonStyleModel",
      "state": {}
     },
     "0c030185d68d4ef1b6513567f6a3a4b0": {
      "model_module": "@jupyter-widgets/controls",
      "model_module_version": "1.5.0",
      "model_name": "ButtonStyleModel",
      "state": {}
     },
     "0c36e8e12ccc40c7be4b6ecefc3874e4": {
      "model_module": "@jupyter-widgets/controls",
      "model_module_version": "1.5.0",
      "model_name": "DescriptionStyleModel",
      "state": {
       "description_width": ""
      }
     },
     "0c57f786b7954a04b6e41eaad60d90a1": {
      "model_module": "@jupyter-widgets/controls",
      "model_module_version": "1.5.0",
      "model_name": "ButtonModel",
      "state": {
       "description": "Reset Compression Controls",
       "layout": "IPY_MODEL_be78a6d952ba496dbdf2ebf3b9d75187",
       "style": "IPY_MODEL_d880db54af97480792271e245e86c286"
      }
     },
     "0c679c95b17c4ae889e81ca8abf023d7": {
      "model_module": "@jupyter-widgets/base",
      "model_module_version": "1.2.0",
      "model_name": "LayoutModel",
      "state": {}
     },
     "0c7491a7a7044589afc370061d32164c": {
      "model_module": "@jupyter-widgets/controls",
      "model_module_version": "1.5.0",
      "model_name": "SliderStyleModel",
      "state": {
       "description_width": ""
      }
     },
     "0c862ca5d97441fd84054c1424785e35": {
      "model_module": "@jupyter-widgets/base",
      "model_module_version": "1.2.0",
      "model_name": "LayoutModel",
      "state": {
       "border": "solid 4px #222",
       "margin": "4px",
       "padding": "0"
      }
     },
     "0ca2d11b456b4ec8b25f50473dff6f16": {
      "model_module": "@jupyter-widgets/base",
      "model_module_version": "1.2.0",
      "model_name": "LayoutModel",
      "state": {}
     },
     "0cb5c2e076c74694894b44e201a4a9b3": {
      "model_module": "@jupyter-widgets/controls",
      "model_module_version": "1.5.0",
      "model_name": "TabModel",
      "state": {
       "_titles": {
        "0": "Global Controls",
        "1": "Viewer Controls"
       },
       "children": [
        "IPY_MODEL_4e25a0ee2c2d475ca2aa693fa3b99cfe",
        "IPY_MODEL_623186247ea14d638bdc08a8796a434a"
       ],
       "layout": "IPY_MODEL_c315381c6f13483db4c238be58b3e4fa"
      }
     },
     "0cd27254c5714ad7a7c1012c88112f3b": {
      "model_module": "jupyter-matplotlib",
      "model_module_version": "^0.7.2",
      "model_name": "MPLCanvasModel",
      "state": {
       "_figure_label": "Figure 5",
       "_height": 1100,
       "_width": 1100,
       "layout": "IPY_MODEL_d6c69d69b35c4a1483d9d7812eac4c66",
       "toolbar": "IPY_MODEL_f580eb4c01fa40b086c4183a54aaad01",
       "toolbar_position": "left"
      }
     },
     "0cda2474d1c24bd7a645faafb1b57ddf": {
      "model_module": "jupyter-matplotlib",
      "model_module_version": "^0.7.2",
      "model_name": "ToolbarModel",
      "state": {
       "layout": "IPY_MODEL_23e8d6d2a039491183748d02ba01101b",
       "toolitems": [
        [
         "Home",
         "Reset original view",
         "home",
         "home"
        ],
        [
         "Back",
         "Back to previous view",
         "arrow-left",
         "back"
        ],
        [
         "Forward",
         "Forward to next view",
         "arrow-right",
         "forward"
        ],
        [
         "Pan",
         "Pan axes with left mouse, zoom with right",
         "arrows",
         "pan"
        ],
        [
         "Zoom",
         "Zoom to rectangle",
         "square-o",
         "zoom"
        ],
        [
         "Download",
         "Download plot",
         "floppy-o",
         "save_figure"
        ]
       ]
      }
     },
     "0ce3ff647a9f463a8b0a35a9bf4ab324": {
      "model_module": "@jupyter-widgets/base",
      "model_module_version": "1.2.0",
      "model_name": "LayoutModel",
      "state": {}
     },
     "0d0fab72a60645c088ebaf1ef6520765": {
      "model_module": "@jupyter-widgets/controls",
      "model_module_version": "1.5.0",
      "model_name": "VBoxModel",
      "state": {
       "children": [
        "IPY_MODEL_bdd66b8a1d8f4bba9ea770493f228613",
        "IPY_MODEL_12b51637b64f461784c2e61c9befaeec",
        "IPY_MODEL_f80b8a976fa94536ba41311ec5d4d205"
       ],
       "layout": "IPY_MODEL_acff269da64b40df8dc99806b2472bb7"
      }
     },
     "0d1d486b6ddd4d3f8ca5452325475eb5": {
      "model_module": "@jupyter-widgets/base",
      "model_module_version": "1.2.0",
      "model_name": "LayoutModel",
      "state": {
       "align_items": "stretch",
       "display": "flex",
       "flex_flow": "column",
       "width": "1128px"
      }
     },
     "0d1de33a00564e81af52c72c34e6c4ba": {
      "model_module": "@jupyter-widgets/controls",
      "model_module_version": "1.5.0",
      "model_name": "VBoxModel",
      "state": {
       "children": [
        "IPY_MODEL_2e4580cc2a0a4d15811c1014ff2a930a"
       ],
       "layout": "IPY_MODEL_edfebb4c26684d2eb89140edb8f9f817"
      }
     },
     "0d5790d5bf6c4d01b54f5211c462347d": {
      "model_module": "@jupyter-widgets/base",
      "model_module_version": "1.2.0",
      "model_name": "LayoutModel",
      "state": {}
     },
     "0d7102bf47a241f2a4415bfa0a87c8c9": {
      "model_module": "@jupyter-widgets/controls",
      "model_module_version": "1.5.0",
      "model_name": "DropdownModel",
      "state": {
       "_options_labels": [
        "tanh",
        "atan",
        "simple"
       ],
       "description": "Compression Function:",
       "index": 0,
       "layout": "IPY_MODEL_08c82ed376d64674a2aaaa843dbcb75a",
       "style": "IPY_MODEL_dd7c5f70ac0c46da8f2fe3f4e6de5cb3"
      }
     },
     "0d8fa54174e24777955aa0b87165a73f": {
      "model_module": "@jupyter-widgets/controls",
      "model_module_version": "1.5.0",
      "model_name": "FloatSliderModel",
      "state": {
       "description": "225°",
       "layout": "IPY_MODEL_f5fbe680a6c9493fab77aaade638ffad",
       "max": 1,
       "min": -1,
       "step": 0.01,
       "style": "IPY_MODEL_8b118a6507ca40bdaaa8b8c0ceb4e477"
      }
     },
     "0db0602ad2ec49e792a5f6cf45a9a71d": {
      "model_module": "@jupyter-widgets/controls",
      "model_module_version": "1.5.0",
      "model_name": "HBoxModel",
      "state": {
       "children": [
        "IPY_MODEL_8162f8ca7aec4a8d94d95ff96c6b1000",
        "IPY_MODEL_bb4b8653e348472a908bb15d23362ed7",
        "IPY_MODEL_44e2cc713d51402bb6edeef02425cad3",
        "IPY_MODEL_d7525b84eb414da2bec6383634c4aa3f"
       ],
       "layout": "IPY_MODEL_edd889ba7b754ed1a642d2aada07cedb"
      }
     },
     "0db7e5d59a104f199356a4f2e7d7feae": {
      "model_module": "jupyter-matplotlib",
      "model_module_version": "^0.7.2",
      "model_name": "MPLCanvasModel",
      "state": {
       "_figure_label": "Figure 27",
       "_height": 1100,
       "_width": 2200,
       "header_visible": false,
       "layout": "IPY_MODEL_ac0c921332e2496c84eedd7689573637",
       "resizable": false,
       "toolbar": "IPY_MODEL_ef9eee3ac8d64fefb6dcd3245aed10d8",
       "toolbar_position": "left",
       "toolbar_visible": false
      }
     },
     "0dc1bded2354462a83ff09454ae5e13f": {
      "model_module": "@jupyter-widgets/base",
      "model_module_version": "1.2.0",
      "model_name": "LayoutModel",
      "state": {}
     },
     "0deeaa3153894ac2b5e6be31400e2df7": {
      "model_module": "@jupyter-widgets/controls",
      "model_module_version": "1.5.0",
      "model_name": "FloatSliderModel",
      "state": {
       "description": "180°",
       "layout": "IPY_MODEL_c5f47fb9e45449dd80ebaa5aacb642a0",
       "max": 1,
       "min": -1,
       "step": 0.01,
       "style": "IPY_MODEL_fcf43ae36df246cd9d3b3fff3e243512"
      }
     },
     "0dfbe68e823944e4a166aacfbc05752f": {
      "model_module": "@jupyter-widgets/controls",
      "model_module_version": "1.5.0",
      "model_name": "VBoxModel",
      "state": {
       "children": [
        "IPY_MODEL_24242dc76cb444dcac538b614eea6e87",
        "IPY_MODEL_800bfb183b154da083e3ee0bc7f2e618",
        "IPY_MODEL_041185953cab4b2b8d6af090b022f4a9"
       ],
       "layout": "IPY_MODEL_2d651c0a8d5646549f68701d8a92f4d8"
      }
     },
     "0e3cec7d032642d49557f7b0ec0324b5": {
      "model_module": "@jupyter-widgets/controls",
      "model_module_version": "1.5.0",
      "model_name": "SliderStyleModel",
      "state": {
       "description_width": ""
      }
     },
     "0e79df491bf64df9987570749b83eaff": {
      "model_module": "@jupyter-widgets/base",
      "model_module_version": "1.2.0",
      "model_name": "LayoutModel",
      "state": {}
     },
     "0e8f8c328cd0476ca88870c37488a406": {
      "model_module": "@jupyter-widgets/base",
      "model_module_version": "1.2.0",
      "model_name": "LayoutModel",
      "state": {}
     },
     "0e9eaef1244f4104bbc22c9f1317cdca": {
      "model_module": "@jupyter-widgets/controls",
      "model_module_version": "1.5.0",
      "model_name": "HBoxModel",
      "state": {
       "children": [
        "IPY_MODEL_fe6534058dcd43ab87ced56df4a6cd23",
        "IPY_MODEL_c2fce5fde95c4ff5adcd7c40c747e9d7",
        "IPY_MODEL_e45095d9869b417fb879dad0d26975d0",
        "IPY_MODEL_bcdc7c052fb24930b663adeef218f809"
       ],
       "layout": "IPY_MODEL_a14443a834bf429f96b4c8ec95e75f78"
      }
     },
     "0eb4bc879a414625926124ae44c75806": {
      "model_module": "@jupyter-widgets/base",
      "model_module_version": "1.2.0",
      "model_name": "LayoutModel",
      "state": {}
     },
     "0ebf6cc4ebc34e8e825128ba9cdeb018": {
      "model_module": "@jupyter-widgets/controls",
      "model_module_version": "1.5.0",
      "model_name": "CheckboxModel",
      "state": {
       "description": "Show Out-of-Gamut",
       "disabled": false,
       "layout": "IPY_MODEL_a698bec5129e45f1b3df2c2375c5be2f",
       "style": "IPY_MODEL_7e99d5ab489d486db0793750448a2e31",
       "value": false
      }
     },
     "0ec459f9b9a245b4b52763aa5d31c3b1": {
      "model_module": "@jupyter-widgets/base",
      "model_module_version": "1.2.0",
      "model_name": "LayoutModel",
      "state": {
       "border": "solid 4px #222",
       "margin": "4px",
       "padding": "0"
      }
     },
     "0ee0b9e0fcc74f299031aeb3912059e6": {
      "model_module": "@jupyter-widgets/base",
      "model_module_version": "1.2.0",
      "model_name": "LayoutModel",
      "state": {}
     },
     "0efd2626d75f4bde838054541cf9c211": {
      "model_module": "@jupyter-widgets/controls",
      "model_module_version": "1.5.0",
      "model_name": "VBoxModel",
      "state": {
       "children": [
        "IPY_MODEL_239fc256d5c14a90a681f3f9cdc16652",
        "IPY_MODEL_d455fa16c35644298a0260a6f99b3d2e",
        "IPY_MODEL_c865f375193442e19c672542ccfe6a2a"
       ],
       "layout": "IPY_MODEL_f8ea689a5bd145929cd8674476cab21e"
      }
     },
     "0f13a1d85953447084bac14c664f467a": {
      "model_module": "@jupyter-widgets/controls",
      "model_module_version": "1.5.0",
      "model_name": "DescriptionStyleModel",
      "state": {
       "description_width": ""
      }
     },
     "0f3092d11d614f748d8241e9ecea7046": {
      "model_module": "@jupyter-widgets/controls",
      "model_module_version": "1.5.0",
      "model_name": "FloatSliderModel",
      "state": {
       "description": "Compression Threshold",
       "layout": "IPY_MODEL_cc3cdb24540446aeb31109019993be01",
       "max": 1,
       "step": 0.01,
       "style": "IPY_MODEL_abae671bca884f7ea0f7b3196892bf0b",
       "value": 0.8
      }
     },
     "0f3bf4364fb74e738a3cba0ee0bf6891": {
      "model_module": "@jupyter-widgets/base",
      "model_module_version": "1.2.0",
      "model_name": "LayoutModel",
      "state": {}
     },
     "0f9ad8eb636542d3a3f497aafac94b8f": {
      "model_module": "@jupyter-widgets/controls",
      "model_module_version": "1.5.0",
      "model_name": "SliderStyleModel",
      "state": {
       "description_width": ""
      }
     },
     "0fd1b5155a574c61a914d57c37ac4c35": {
      "model_module": "@jupyter-widgets/controls",
      "model_module_version": "1.5.0",
      "model_name": "HBoxModel",
      "state": {
       "children": [
        "IPY_MODEL_0c57f786b7954a04b6e41eaad60d90a1",
        "IPY_MODEL_2a65da382a064f41a984c7d802ef7771",
        "IPY_MODEL_2d22b7fbda6b4954b7443ee8833fc6f2"
       ],
       "layout": "IPY_MODEL_a5514dfbd83c4548a0710b36079d5358"
      }
     },
     "0fdc696776164dae9750b6dd4bfb6dd6": {
      "model_module": "@jupyter-widgets/controls",
      "model_module_version": "1.5.0",
      "model_name": "SliderStyleModel",
      "state": {
       "description_width": ""
      }
     },
     "0fe11258aa00417da20370310d94a106": {
      "model_module": "@jupyter-widgets/base",
      "model_module_version": "1.2.0",
      "model_name": "LayoutModel",
      "state": {}
     },
     "10637d2737e046debfc04b986c19ed00": {
      "model_module": "@jupyter-widgets/base",
      "model_module_version": "1.2.0",
      "model_name": "LayoutModel",
      "state": {}
     },
     "106d582d9f0442e48ada8484826cc471": {
      "model_module": "@jupyter-widgets/controls",
      "model_module_version": "1.5.0",
      "model_name": "SliderStyleModel",
      "state": {
       "description_width": ""
      }
     },
     "107cab543e034299b3784d5189c583a7": {
      "model_module": "@jupyter-widgets/controls",
      "model_module_version": "1.5.0",
      "model_name": "DescriptionStyleModel",
      "state": {
       "description_width": ""
      }
     },
     "10a0d6523eec451fad37a8fa5dfb33a5": {
      "model_module": "@jupyter-widgets/controls",
      "model_module_version": "1.5.0",
      "model_name": "HBoxModel",
      "state": {
       "children": [
        "IPY_MODEL_804c5d3b6bed4ffd830cf165df5f29d9",
        "IPY_MODEL_2d0eb649676b4f4791de8b8af4dbfb1e",
        "IPY_MODEL_ea46336df40a4e0aa97cad3e21e6abe1",
        "IPY_MODEL_fd034d144f6e459287f1d2aab5052e08"
       ],
       "layout": "IPY_MODEL_449c2a7c997242a39ba97ca6388f009d"
      }
     },
     "10b3508c49b84df1828bae9d9b4559d6": {
      "model_module": "@jupyter-widgets/controls",
      "model_module_version": "1.5.0",
      "model_name": "ButtonStyleModel",
      "state": {}
     },
     "10c1d818e2f440a881ef8720f7a7571b": {
      "model_module": "@jupyter-widgets/controls",
      "model_module_version": "1.5.0",
      "model_name": "SliderStyleModel",
      "state": {
       "description_width": ""
      }
     },
     "10d9e70c4ab4455aa5a303f628d4cacb": {
      "model_module": "@jupyter-widgets/controls",
      "model_module_version": "1.5.0",
      "model_name": "DescriptionStyleModel",
      "state": {
       "description_width": ""
      }
     },
     "10ee7b5473694c6181896ef921d1d270": {
      "model_module": "@jupyter-widgets/base",
      "model_module_version": "1.2.0",
      "model_name": "LayoutModel",
      "state": {}
     },
     "10f457ed5704423fa210051b33d9fbb3": {
      "model_module": "@jupyter-widgets/controls",
      "model_module_version": "1.5.0",
      "model_name": "ButtonModel",
      "state": {
       "description": "Reset Compression Controls",
       "layout": "IPY_MODEL_6c4dc26f3ff74fc6abb48f1c5c5a0855",
       "style": "IPY_MODEL_4a607de28a9544558ed4531d42b9d096"
      }
     },
     "110180dadd314232996fe83ab5b99faf": {
      "model_module": "@jupyter-widgets/controls",
      "model_module_version": "1.5.0",
      "model_name": "SliderStyleModel",
      "state": {
       "description_width": ""
      }
     },
     "1105eb71d57340a0911def2abc8b4d8d": {
      "model_module": "@jupyter-widgets/base",
      "model_module_version": "1.2.0",
      "model_name": "LayoutModel",
      "state": {}
     },
     "111b9d7009514c369cc63abaea60a533": {
      "model_module": "@jupyter-widgets/controls",
      "model_module_version": "1.5.0",
      "model_name": "VBoxModel",
      "state": {
       "children": [
        "IPY_MODEL_6254c23b9c38480db3dac6f9fbd0b0ca",
        "IPY_MODEL_86041417e62d47bcb30d0b784e501002"
       ],
       "layout": "IPY_MODEL_10ee7b5473694c6181896ef921d1d270"
      }
     },
     "113494f638334d3fb7fe074576be6729": {
      "model_module": "@jupyter-widgets/base",
      "model_module_version": "1.2.0",
      "model_name": "LayoutModel",
      "state": {
       "border": "solid 4px #222",
       "margin": "4px",
       "padding": "0"
      }
     },
     "113caae5f40c42f38b8a594f02d969c4": {
      "model_module": "@jupyter-widgets/controls",
      "model_module_version": "1.5.0",
      "model_name": "ButtonStyleModel",
      "state": {}
     },
     "1146b958105c4e9cb895926413193b97": {
      "model_module": "@jupyter-widgets/controls",
      "model_module_version": "1.5.0",
      "model_name": "SliderStyleModel",
      "state": {
       "description_width": ""
      }
     },
     "11885952572d4b1792fc5e65b0aec533": {
      "model_module": "@jupyter-widgets/controls",
      "model_module_version": "1.5.0",
      "model_name": "ButtonModel",
      "state": {
       "description": "Reset Exposure",
       "layout": "IPY_MODEL_d47080d39dcd493ebc8a5347bb8a9ddb",
       "style": "IPY_MODEL_5d63b8e6bc664b09be8ea39ce8b5581a"
      }
     },
     "119c929c2dc84946bb7d0d8abf07a433": {
      "model_module": "@jupyter-widgets/base",
      "model_module_version": "1.2.0",
      "model_name": "LayoutModel",
      "state": {}
     },
     "11be2e49adae4c1bb2a2fab2ee1bde83": {
      "model_module": "@jupyter-widgets/controls",
      "model_module_version": "1.5.0",
      "model_name": "VBoxModel",
      "state": {
       "children": [
        "IPY_MODEL_58d72346840c49108e5861c9a89aea38",
        "IPY_MODEL_4d81864ce93f483fad52caaa0f3ddd52",
        "IPY_MODEL_81b27fbef35f422d9638d333dcdd8ba4"
       ],
       "layout": "IPY_MODEL_98835b8fdeeb4c6fae8000ba679f11f9"
      }
     },
     "11d0ff4810c349e2bbf8a6e388eeb6d0": {
      "model_module": "@jupyter-widgets/base",
      "model_module_version": "1.2.0",
      "model_name": "LayoutModel",
      "state": {}
     },
     "11e0ff138cb84c2689282e73cee6278d": {
      "model_module": "@jupyter-widgets/base",
      "model_module_version": "1.2.0",
      "model_name": "LayoutModel",
      "state": {}
     },
     "11ec3dab75e64097803af5e32fa6a182": {
      "model_module": "@jupyter-widgets/controls",
      "model_module_version": "1.5.0",
      "model_name": "HBoxModel",
      "state": {
       "children": [
        "IPY_MODEL_8e34969b5bf1414e99e4a61ea61b42c6",
        "IPY_MODEL_47134bda8429404e9be2b1da0eaaf6df",
        "IPY_MODEL_1c6487c638094c86a180630ee4e8098a"
       ],
       "layout": "IPY_MODEL_b50ab9e260ab418398ead84b69e26f77"
      }
     },
     "11f90d0931324fea8af5f614c066dd86": {
      "model_module": "@jupyter-widgets/controls",
      "model_module_version": "1.5.0",
      "model_name": "FloatSliderModel",
      "state": {
       "description": "Protected Area Threshold",
       "layout": "IPY_MODEL_d90ee8725bc54efd8b5175de1cae923b",
       "max": 1,
       "step": 0.01,
       "style": "IPY_MODEL_c9d3efa971db47ab993b1ef1da364415",
       "value": 0.7
      }
     },
     "11f92246de86475a874b42bb192b2914": {
      "model_module": "jupyter-matplotlib",
      "model_module_version": "^0.7.2",
      "model_name": "ToolbarModel",
      "state": {
       "layout": "IPY_MODEL_3969621da9d04632abe4f8c76a1923b0",
       "toolitems": [
        [
         "Home",
         "Reset original view",
         "home",
         "home"
        ],
        [
         "Back",
         "Back to previous view",
         "arrow-left",
         "back"
        ],
        [
         "Forward",
         "Forward to next view",
         "arrow-right",
         "forward"
        ],
        [
         "Pan",
         "Pan axes with left mouse, zoom with right",
         "arrows",
         "pan"
        ],
        [
         "Zoom",
         "Zoom to rectangle",
         "square-o",
         "zoom"
        ],
        [
         "Download",
         "Download plot",
         "floppy-o",
         "save_figure"
        ]
       ]
      }
     },
     "11fef061d0e844519da6bac36355bf4a": {
      "model_module": "@jupyter-widgets/controls",
      "model_module_version": "1.5.0",
      "model_name": "DropdownModel",
      "state": {
       "_options_labels": [
        "sRGB",
        "ACES (sRGB)"
       ],
       "description": "View Transform:",
       "index": 0,
       "layout": "IPY_MODEL_4c343665a3b843498acc16381df989aa",
       "style": "IPY_MODEL_982ee051149b4d89b1633ec34df8a528"
      }
     },
     "127351773b4049fa8212445a5d6e222e": {
      "model_module": "@jupyter-widgets/controls",
      "model_module_version": "1.5.0",
      "model_name": "BoxModel",
      "state": {
       "children": [
        "IPY_MODEL_a896bde61e504a3488ffad1e7c0cf819",
        "IPY_MODEL_bbb43166b5c54059b762875efef45a28"
       ],
       "layout": "IPY_MODEL_c0c37119cd3349f788deb02852ac79da"
      }
     },
     "1285f6bb51564b1899ae49b62a313bdd": {
      "model_module": "@jupyter-widgets/controls",
      "model_module_version": "1.5.0",
      "model_name": "VBoxModel",
      "state": {
       "children": [
        "IPY_MODEL_75fb1dc4f53a4f6f93040f0c170898ab",
        "IPY_MODEL_d3569cd2c4a94082bfafa02753021b07",
        "IPY_MODEL_9ff61e27a82d494caad0d9edec19a0a8"
       ],
       "layout": "IPY_MODEL_31a0d9ca09924fa190996c5ded7d04a7"
      }
     },
     "129bd898b1e34f03bb35b6c4bbd4dbd6": {
      "model_module": "@jupyter-widgets/base",
      "model_module_version": "1.2.0",
      "model_name": "LayoutModel",
      "state": {}
     },
     "129e64b7c1c14d3caab6ba91cc7e4772": {
      "model_module": "@jupyter-widgets/controls",
      "model_module_version": "1.5.0",
      "model_name": "ButtonModel",
      "state": {
       "description": "Export Image",
       "layout": "IPY_MODEL_d86cf5f67cd84ed881ff26feae7fae75",
       "style": "IPY_MODEL_f28f59bb4f744631af5fb3665b66b6ab"
      }
     },
     "12a386203bf4487f9e4c9ef49da4760a": {
      "model_module": "@jupyter-widgets/controls",
      "model_module_version": "1.5.0",
      "model_name": "SliderStyleModel",
      "state": {
       "description_width": ""
      }
     },
     "12b51637b64f461784c2e61c9befaeec": {
      "model_module": "@jupyter-widgets/controls",
      "model_module_version": "1.5.0",
      "model_name": "FloatSliderModel",
      "state": {
       "description": "45°",
       "layout": "IPY_MODEL_f6b1ea2a0dde4f8285d588f2bda9306a",
       "max": 1,
       "min": -1,
       "step": 0.01,
       "style": "IPY_MODEL_c909a47656df4c2db53ec0d9bf9473d6"
      }
     },
     "12bdf82b51f649ceac7ba7d3036499df": {
      "model_module": "@jupyter-widgets/base",
      "model_module_version": "1.2.0",
      "model_name": "LayoutModel",
      "state": {}
     },
     "12bf9de2a7b44c9d8a03ef52058d01aa": {
      "model_module": "@jupyter-widgets/controls",
      "model_module_version": "1.5.0",
      "model_name": "SliderStyleModel",
      "state": {
       "description_width": ""
      }
     },
     "12dde3fdf21c4defb2d049c42722e3ba": {
      "model_module": "@jupyter-widgets/controls",
      "model_module_version": "1.5.0",
      "model_name": "SliderStyleModel",
      "state": {
       "description_width": ""
      }
     },
     "131cc361d6c94bda894cdf68fcdafe52": {
      "model_module": "@jupyter-widgets/controls",
      "model_module_version": "1.5.0",
      "model_name": "DropdownModel",
      "state": {
       "_options_labels": [
        "tanh",
        "atan",
        "simple"
       ],
       "description": "Compression Function:",
       "index": 0,
       "layout": "IPY_MODEL_0c679c95b17c4ae889e81ca8abf023d7",
       "style": "IPY_MODEL_54f192ced8984381b04a083d7b46505f"
      }
     },
     "13262d62275f4aca8497505084299266": {
      "model_module": "@jupyter-widgets/controls",
      "model_module_version": "1.5.0",
      "model_name": "ButtonModel",
      "state": {
       "description": "Reset Saturation Controls",
       "layout": "IPY_MODEL_c2a71a880fe946518b100ee3c84a6233",
       "style": "IPY_MODEL_6d52798251f34b28b10a566ea6b53709"
      }
     },
     "132b6023f7174456b89667af8f6a6319": {
      "model_module": "@jupyter-widgets/base",
      "model_module_version": "1.2.0",
      "model_name": "LayoutModel",
      "state": {}
     },
     "1396074cd7d24eb8aa7cff02c616f218": {
      "model_module": "@jupyter-widgets/output",
      "model_module_version": "1.0.0",
      "model_name": "OutputModel",
      "state": {
       "layout": "IPY_MODEL_ec25fda71a46415b9bf6f08c97891e83",
       "outputs": [
        {
         "data": {
          "application/vnd.jupyter.widget-view+json": {
           "model_id": "4d04320b656c411ba710fcf50620728e",
           "version_major": 2,
           "version_minor": 0
          },
          "text/plain": "Canvas(toolbar=Toolbar(toolitems=[('Home', 'Reset original view', 'home', 'home'), ('Back', 'Back to previous …"
         },
         "metadata": {},
         "output_type": "display_data"
        }
       ]
      }
     },
     "13f03d6f2a3a4744aea297ad39f44a0b": {
      "model_module": "@jupyter-widgets/controls",
      "model_module_version": "1.5.0",
      "model_name": "ButtonStyleModel",
      "state": {}
     },
     "14138a2f6acf4bc0a84e25d7ce580304": {
      "model_module": "@jupyter-widgets/controls",
      "model_module_version": "1.5.0",
      "model_name": "DescriptionStyleModel",
      "state": {
       "description_width": ""
      }
     },
     "14144dfb612e45b590e6eb9c555ae4ff": {
      "model_module": "@jupyter-widgets/base",
      "model_module_version": "1.2.0",
      "model_name": "LayoutModel",
      "state": {
       "border": "solid 4px #222",
       "margin": "4px",
       "padding": "0"
      }
     },
     "141dccbf435c430abf787afb7378b2ef": {
      "model_module": "@jupyter-widgets/controls",
      "model_module_version": "1.5.0",
      "model_name": "HBoxModel",
      "state": {
       "children": [
        "IPY_MODEL_f4d4795a478e4d49bf8f38bad2523084",
        "IPY_MODEL_fa011f1df48b42caa8aab802d61bf9d1",
        "IPY_MODEL_611c51f6d2dd47ddaa5c3f8c2c27c585"
       ],
       "layout": "IPY_MODEL_5dee301f6a5349cc88f025114c9dfc6d"
      }
     },
     "1422d60d80e84c3e9172c89a57b00eef": {
      "model_module": "@jupyter-widgets/base",
      "model_module_version": "1.2.0",
      "model_name": "LayoutModel",
      "state": {}
     },
     "1484adc68a3f4c619b9a5d83758ffb7b": {
      "model_module": "@jupyter-widgets/controls",
      "model_module_version": "1.5.0",
      "model_name": "FloatSliderModel",
      "state": {
       "description": "135°",
       "layout": "IPY_MODEL_d6f720e9662c406985edc7eeac56af9a",
       "max": 1,
       "min": -1,
       "step": 0.01,
       "style": "IPY_MODEL_b4472d20391e4e788e3d4a98247b6ec0"
      }
     },
     "1498740632544fcd87fd5ffcd830f032": {
      "model_module": "@jupyter-widgets/base",
      "model_module_version": "1.2.0",
      "model_name": "LayoutModel",
      "state": {}
     },
     "14e05c4ef6104c9088ebf6da3f28b2de": {
      "model_module": "@jupyter-widgets/controls",
      "model_module_version": "1.5.0",
      "model_name": "HBoxModel",
      "state": {
       "children": [
        "IPY_MODEL_3cfe8d1dda134ee68bceaf3ede3adabf",
        "IPY_MODEL_2f417645cfa84a1381f1701262b5f59d",
        "IPY_MODEL_69651b97355840319bc49352f649ab6a",
        "IPY_MODEL_111b9d7009514c369cc63abaea60a533"
       ],
       "layout": "IPY_MODEL_7a9d4e9279844d75934955adffd14351"
      }
     },
     "14f5ba7560ba432bb755e6e2c007091b": {
      "model_module": "@jupyter-widgets/controls",
      "model_module_version": "1.5.0",
      "model_name": "ButtonStyleModel",
      "state": {}
     },
     "15064591166a4028b7a43d8e841beb7f": {
      "model_module": "@jupyter-widgets/controls",
      "model_module_version": "1.5.0",
      "model_name": "ButtonModel",
      "state": {
       "description": "Save Figure",
       "layout": "IPY_MODEL_97b776b518ed4ba78fb8d9756d7ac9f7",
       "style": "IPY_MODEL_306187c2fa9c4993bdaf63511806ca5e"
      }
     },
     "15642cff92bb4609b4e3eafbfe5cd9df": {
      "model_module": "@jupyter-widgets/base",
      "model_module_version": "1.2.0",
      "model_name": "LayoutModel",
      "state": {}
     },
     "156465dae92e4e8fa8309047da784f5a": {
      "model_module": "@jupyter-widgets/base",
      "model_module_version": "1.2.0",
      "model_name": "LayoutModel",
      "state": {}
     },
     "1564962e56f04b3dbbd713fb8065483e": {
      "model_module": "@jupyter-widgets/base",
      "model_module_version": "1.2.0",
      "model_name": "LayoutModel",
      "state": {}
     },
     "15693c97d4744f94b63cebf70b5a4239": {
      "model_module": "jupyter-matplotlib",
      "model_module_version": "^0.7.2",
      "model_name": "ToolbarModel",
      "state": {
       "layout": "IPY_MODEL_c5e374e060444667bda8c45a7020e276",
       "toolitems": [
        [
         "Home",
         "Reset original view",
         "home",
         "home"
        ],
        [
         "Back",
         "Back to previous view",
         "arrow-left",
         "back"
        ],
        [
         "Forward",
         "Forward to next view",
         "arrow-right",
         "forward"
        ],
        [
         "Pan",
         "Pan axes with left mouse, zoom with right",
         "arrows",
         "pan"
        ],
        [
         "Zoom",
         "Zoom to rectangle",
         "square-o",
         "zoom"
        ],
        [
         "Download",
         "Download plot",
         "floppy-o",
         "save_figure"
        ]
       ]
      }
     },
     "1583b228e2bb4e21a29afba0555b874b": {
      "model_module": "@jupyter-widgets/controls",
      "model_module_version": "1.5.0",
      "model_name": "ButtonStyleModel",
      "state": {}
     },
     "15e59d4c33bc4aa998fb171230c2cfaf": {
      "model_module": "@jupyter-widgets/controls",
      "model_module_version": "1.5.0",
      "model_name": "HBoxModel",
      "state": {
       "children": [
        "IPY_MODEL_c80ae289f8c043a187cba92f9f2d44d6",
        "IPY_MODEL_862e1baccb1f4e0fac7f7d772ee50f59",
        "IPY_MODEL_2d8a403eb58540609b8042f0e070d7da"
       ],
       "layout": "IPY_MODEL_1fb048256be245f4af9abad3b01fc58a"
      }
     },
     "15f2470b905946f1bd78dea0fec7606f": {
      "model_module": "@jupyter-widgets/controls",
      "model_module_version": "1.5.0",
      "model_name": "ButtonStyleModel",
      "state": {}
     },
     "15f3766fefaa48abafb9170874698eec": {
      "model_module": "@jupyter-widgets/base",
      "model_module_version": "1.2.0",
      "model_name": "LayoutModel",
      "state": {
       "border": "solid 4px #222",
       "margin": "4px",
       "padding": "0"
      }
     },
     "15fb56e1881445daa05bd1ed31a46bbe": {
      "model_module": "@jupyter-widgets/base",
      "model_module_version": "1.2.0",
      "model_name": "LayoutModel",
      "state": {}
     },
     "16163ef5edd14046999d66a240725d0a": {
      "model_module": "@jupyter-widgets/base",
      "model_module_version": "1.2.0",
      "model_name": "LayoutModel",
      "state": {
       "border": "solid 4px #222",
       "margin": "4px",
       "padding": "0"
      }
     },
     "16653d5987d8432abfde401fea8d97d0": {
      "model_module": "@jupyter-widgets/controls",
      "model_module_version": "1.5.0",
      "model_name": "CheckboxModel",
      "state": {
       "description": "Show Out-of-Gamut",
       "disabled": false,
       "layout": "IPY_MODEL_8078a5e0eac64874b530909ce7313d4d",
       "style": "IPY_MODEL_a21767f1d2a7418ca278ef814621fca9",
       "value": false
      }
     },
     "16840bd35c03403ca13656958fbfef83": {
      "model_module": "@jupyter-widgets/base",
      "model_module_version": "1.2.0",
      "model_name": "LayoutModel",
      "state": {}
     },
     "168cc4778c1c46e1b8da92c86eb20ce7": {
      "model_module": "@jupyter-widgets/controls",
      "model_module_version": "1.5.0",
      "model_name": "ButtonModel",
      "state": {
       "description": "Save Figure",
       "layout": "IPY_MODEL_7c750342ab6244f48d54eb4dcbae6237",
       "style": "IPY_MODEL_fc4c475d3066404887297416f58b3311"
      }
     },
     "16f1169a221c4754b10877a30540f3b7": {
      "model_module": "@jupyter-widgets/base",
      "model_module_version": "1.2.0",
      "model_name": "LayoutModel",
      "state": {}
     },
     "171fc90bcd5d4720a7915f0b6d6e06fc": {
      "model_module": "@jupyter-widgets/base",
      "model_module_version": "1.2.0",
      "model_name": "LayoutModel",
      "state": {}
     },
     "17a785e546b2477ab93054dc2c9b6aa4": {
      "model_module": "@jupyter-widgets/base",
      "model_module_version": "1.2.0",
      "model_name": "LayoutModel",
      "state": {}
     },
     "17c4d176370e4a9bb76ba50ca8de5953": {
      "model_module": "@jupyter-widgets/base",
      "model_module_version": "1.2.0",
      "model_name": "LayoutModel",
      "state": {}
     },
     "17c58b2a49fe45a4b624bc72bb6b7afa": {
      "model_module": "@jupyter-widgets/controls",
      "model_module_version": "1.5.0",
      "model_name": "SliderStyleModel",
      "state": {
       "description_width": ""
      }
     },
     "17e97c8589da4d08952d33e5d330472f": {
      "model_module": "@jupyter-widgets/base",
      "model_module_version": "1.2.0",
      "model_name": "LayoutModel",
      "state": {}
     },
     "17eaccab9c8549ba82772fae35c48300": {
      "model_module": "@jupyter-widgets/base",
      "model_module_version": "1.2.0",
      "model_name": "LayoutModel",
      "state": {}
     },
     "1802ad62d2bc4abe90745cc7647653bc": {
      "model_module": "@jupyter-widgets/base",
      "model_module_version": "1.2.0",
      "model_name": "LayoutModel",
      "state": {}
     },
     "18087f59c5964fb893f77b851cb153ea": {
      "model_module": "@jupyter-widgets/base",
      "model_module_version": "1.2.0",
      "model_name": "LayoutModel",
      "state": {}
     },
     "180eaa7ad053421ab580a9cadd4fc40f": {
      "model_module": "@jupyter-widgets/base",
      "model_module_version": "1.2.0",
      "model_name": "LayoutModel",
      "state": {}
     },
     "1818f1762a8d45a1ac187ff6439e9e99": {
      "model_module": "@jupyter-widgets/controls",
      "model_module_version": "1.5.0",
      "model_name": "FloatSliderModel",
      "state": {
       "description": "45°",
       "layout": "IPY_MODEL_ab187ef95dd94ecaa15f65a98c766f52",
       "max": 1,
       "min": -1,
       "step": 0.01,
       "style": "IPY_MODEL_939024eee6694c8ca75bb06374272200"
      }
     },
     "184540c09fd2437091574898b8724815": {
      "model_module": "@jupyter-widgets/base",
      "model_module_version": "1.2.0",
      "model_name": "LayoutModel",
      "state": {}
     },
     "18558cf169404113ac9dfab3f4d29690": {
      "model_module": "@jupyter-widgets/controls",
      "model_module_version": "1.5.0",
      "model_name": "FloatSliderModel",
      "state": {
       "description": "Compression Threshold",
       "layout": "IPY_MODEL_97322ae31b1849158a7075b644706913",
       "max": 1,
       "step": 0.01,
       "style": "IPY_MODEL_48529c8750c84348a47725e23d00daa4",
       "value": 0.5
      }
     },
     "185b06b98f5649fa88709586b0511d12": {
      "model_module": "@jupyter-widgets/base",
      "model_module_version": "1.2.0",
      "model_name": "LayoutModel",
      "state": {}
     },
     "1867a13dade244b9915152aece70f054": {
      "model_module": "@jupyter-widgets/controls",
      "model_module_version": "1.5.0",
      "model_name": "DropdownModel",
      "state": {
       "_options_labels": [
        "sRGB",
        "ACES (sRGB)"
       ],
       "description": "View Transform:",
       "index": 0,
       "layout": "IPY_MODEL_1ac5aaa61c4f4a078c793d2142e0b742",
       "style": "IPY_MODEL_75a709cce38f4c17ae73598c11fbbb13"
      }
     },
     "18709b5114b448659897836680617517": {
      "model_module": "@jupyter-widgets/base",
      "model_module_version": "1.2.0",
      "model_name": "LayoutModel",
      "state": {}
     },
     "1884892336c7487ab336555dc2a6bd1b": {
      "model_module": "@jupyter-widgets/controls",
      "model_module_version": "1.5.0",
      "model_name": "DescriptionStyleModel",
      "state": {
       "description_width": ""
      }
     },
     "189562f9e395437ca96f8f0ff8231215": {
      "model_module": "@jupyter-widgets/base",
      "model_module_version": "1.2.0",
      "model_name": "LayoutModel",
      "state": {}
     },
     "18d1cb88ff514099858aa2d31b1ff8c7": {
      "model_module": "@jupyter-widgets/controls",
      "model_module_version": "1.5.0",
      "model_name": "SliderStyleModel",
      "state": {
       "description_width": ""
      }
     },
     "18e3117cab5e4c9e852977df9d57f4f6": {
      "model_module": "jupyter-matplotlib",
      "model_module_version": "^0.7.2",
      "model_name": "MPLCanvasModel",
      "state": {
       "header_visible": false,
       "layout": "IPY_MODEL_2c4463fcd1a346c09aeeb92226cb1ef4",
       "resizable": false,
       "toolbar": "IPY_MODEL_69724c2ccb194e4795131a994dee92d3",
       "toolbar_position": "left",
       "toolbar_visible": false
      }
     },
     "190dd2d7b92c4a9387525ca63e3c58bb": {
      "model_module": "@jupyter-widgets/base",
      "model_module_version": "1.2.0",
      "model_name": "LayoutModel",
      "state": {}
     },
     "194dcb5a5758467ea2557e34931b4737": {
      "model_module": "@jupyter-widgets/controls",
      "model_module_version": "1.5.0",
      "model_name": "ButtonStyleModel",
      "state": {}
     },
     "195cb06ed2a04b549e0e0cf6eec6ced1": {
      "model_module": "@jupyter-widgets/base",
      "model_module_version": "1.2.0",
      "model_name": "LayoutModel",
      "state": {
       "border": "solid 4px #222",
       "margin": "4px",
       "padding": "0"
      }
     },
     "1972e22e9b5d49de85304f6b6dd6ea56": {
      "model_module": "@jupyter-widgets/controls",
      "model_module_version": "1.5.0",
      "model_name": "DescriptionStyleModel",
      "state": {
       "description_width": ""
      }
     },
     "19a1de125b9445d0b4f5f27d48b4c009": {
      "model_module": "@jupyter-widgets/controls",
      "model_module_version": "1.5.0",
      "model_name": "ButtonStyleModel",
      "state": {}
     },
     "19af0a884d404ca398026b1cd8c9d085": {
      "model_module": "@jupyter-widgets/controls",
      "model_module_version": "1.5.0",
      "model_name": "ButtonStyleModel",
      "state": {}
     },
     "19baebbddb2449a3b58f59b43e35fbb4": {
      "model_module": "@jupyter-widgets/controls",
      "model_module_version": "1.5.0",
      "model_name": "FloatSliderModel",
      "state": {
       "description": "Exposure",
       "layout": "IPY_MODEL_cf4091e4471a4cca93fba69835a04ce7",
       "max": 8,
       "min": -8,
       "step": 0.1,
       "style": "IPY_MODEL_37012a1c44be4117be8626e787a4415d"
      }
     },
     "19c3ee4ea83e4fcfbaf38170bf75ee4b": {
      "model_module": "@jupyter-widgets/base",
      "model_module_version": "1.2.0",
      "model_name": "LayoutModel",
      "state": {}
     },
     "19d5c220b8ed486eb3259a9efbde57b7": {
      "model_module": "@jupyter-widgets/base",
      "model_module_version": "1.2.0",
      "model_name": "LayoutModel",
      "state": {}
     },
     "19e20a29af9e45898ec137dc680a108f": {
      "model_module": "@jupyter-widgets/controls",
      "model_module_version": "1.5.0",
      "model_name": "DropdownModel",
      "state": {
       "_options_labels": [
        "sRGB",
        "ACES (sRGB)"
       ],
       "description": "View Transform:",
       "index": 0,
       "layout": "IPY_MODEL_d02deed8e95346ccb1f4537bf49f409b",
       "style": "IPY_MODEL_277498f044a541498ee0bbe063a9f5e7"
      }
     },
     "19eab5cdab0242a2a9a4ee62fb3e4967": {
      "model_module": "jupyter-matplotlib",
      "model_module_version": "^0.7.2",
      "model_name": "ToolbarModel",
      "state": {
       "layout": "IPY_MODEL_317c767ff7f441f99692428e1645bf07",
       "toolitems": [
        [
         "Home",
         "Reset original view",
         "home",
         "home"
        ],
        [
         "Back",
         "Back to previous view",
         "arrow-left",
         "back"
        ],
        [
         "Forward",
         "Forward to next view",
         "arrow-right",
         "forward"
        ],
        [
         "Pan",
         "Pan axes with left mouse, zoom with right",
         "arrows",
         "pan"
        ],
        [
         "Zoom",
         "Zoom to rectangle",
         "square-o",
         "zoom"
        ],
        [
         "Download",
         "Download plot",
         "floppy-o",
         "save_figure"
        ]
       ]
      }
     },
     "1a174f7da90d4b8d8da40cec49b78807": {
      "model_module": "@jupyter-widgets/controls",
      "model_module_version": "1.5.0",
      "model_name": "DropdownModel",
      "state": {
       "_options_labels": [
        "tanh",
        "atan",
        "simple"
       ],
       "description": "Compression Function:",
       "index": 0,
       "layout": "IPY_MODEL_87ff485d51254d7cb3497e13fdd22b00",
       "style": "IPY_MODEL_e69a079e27a54af8948eae306ad72848"
      }
     },
     "1a7fb1a50b5f4890813ae493413348a6": {
      "model_module": "@jupyter-widgets/base",
      "model_module_version": "1.2.0",
      "model_name": "LayoutModel",
      "state": {}
     },
     "1a9d93ee36bd4316bd1470a2cc82ba5a": {
      "model_module": "@jupyter-widgets/base",
      "model_module_version": "1.2.0",
      "model_name": "LayoutModel",
      "state": {}
     },
     "1aa7f933f7924ee789dddeeaae8e3ec9": {
      "model_module": "@jupyter-widgets/base",
      "model_module_version": "1.2.0",
      "model_name": "LayoutModel",
      "state": {}
     },
     "1ab3cd99a2d64261a2c005073fe69248": {
      "model_module": "@jupyter-widgets/controls",
      "model_module_version": "1.5.0",
      "model_name": "TabModel",
      "state": {
       "_titles": {
        "0": "Global Controls",
        "1": "Viewer Controls",
        "2": "Compression Controls"
       },
       "children": [
        "IPY_MODEL_4fe332860add4725886b0af2a6e872bc",
        "IPY_MODEL_566729a7c86b4e86bdbb1376ae2d941d",
        "IPY_MODEL_05c341d66fb94ce4ae107fa4765fffe8"
       ],
       "layout": "IPY_MODEL_260e63c9236b4ee9b60a4523adad7b85"
      }
     },
     "1abcdd08b43f4d2bbeeeeec29a2490a7": {
      "model_module": "@jupyter-widgets/base",
      "model_module_version": "1.2.0",
      "model_name": "LayoutModel",
      "state": {}
     },
     "1ac5aaa61c4f4a078c793d2142e0b742": {
      "model_module": "@jupyter-widgets/base",
      "model_module_version": "1.2.0",
      "model_name": "LayoutModel",
      "state": {}
     },
     "1ae8de602dea47e3bcd7f525ee45b4c6": {
      "model_module": "jupyter-matplotlib",
      "model_module_version": "^0.7.2",
      "model_name": "MPLCanvasModel",
      "state": {
       "_figure_label": "Figure 7",
       "_height": 508,
       "_width": 1100,
       "header_visible": false,
       "layout": "IPY_MODEL_1c9bc81b409143b2898be30439b21a77",
       "resizable": false,
       "toolbar": "IPY_MODEL_339611b2c9ef489389981a308edd5954",
       "toolbar_position": "left",
       "toolbar_visible": false
      }
     },
     "1b0c0b342b604d8993b4ff3b30142796": {
      "model_module": "@jupyter-widgets/controls",
      "model_module_version": "1.5.0",
      "model_name": "VBoxModel",
      "state": {
       "children": [
        "IPY_MODEL_7db94b13a2de49bda93460d5b2957e98"
       ],
       "layout": "IPY_MODEL_34f06b63ca5d4e4f9761f650d51f993e"
      }
     },
     "1b3b932f6d9c4710a9a126d89205d062": {
      "model_module": "@jupyter-widgets/base",
      "model_module_version": "1.2.0",
      "model_name": "LayoutModel",
      "state": {}
     },
     "1b4ebb0d321c435b8bd01637f9524b00": {
      "model_module": "@jupyter-widgets/base",
      "model_module_version": "1.2.0",
      "model_name": "LayoutModel",
      "state": {}
     },
     "1b9a2021da35415692d8ad62ce42c72d": {
      "model_module": "@jupyter-widgets/base",
      "model_module_version": "1.2.0",
      "model_name": "LayoutModel",
      "state": {}
     },
     "1bae71e1039a4aaeb9bf6bbb78824307": {
      "model_module": "@jupyter-widgets/base",
      "model_module_version": "1.2.0",
      "model_name": "LayoutModel",
      "state": {}
     },
     "1bd611da0f704f2c80698afeb4e1b2ef": {
      "model_module": "@jupyter-widgets/controls",
      "model_module_version": "1.5.0",
      "model_name": "CheckboxModel",
      "state": {
       "description": "Show Out-of-Gamut",
       "disabled": false,
       "layout": "IPY_MODEL_0bc66ea97f0b4babb23f5ad047c573f5",
       "style": "IPY_MODEL_5ab14eb68c24425e96711cdaaaacebb4",
       "value": false
      }
     },
     "1bdaaec78c3e419197d9264a42e22801": {
      "model_module": "@jupyter-widgets/controls",
      "model_module_version": "1.5.0",
      "model_name": "HBoxModel",
      "state": {
       "children": [
        "IPY_MODEL_84a12c33da804a39bd2eaeae29cee881",
        "IPY_MODEL_2fa161bd5c4e4712af8b426a42ffb30b",
        "IPY_MODEL_98f42d1f636943408f31a7ec2532d4af"
       ],
       "layout": "IPY_MODEL_ea62142d70f245238dcaf32dca2144a6"
      }
     },
     "1bec1b081ed24b61871d1100da45ba3c": {
      "model_module": "@jupyter-widgets/controls",
      "model_module_version": "1.5.0",
      "model_name": "SliderStyleModel",
      "state": {
       "description_width": ""
      }
     },
     "1c0c29f35f724bd89f4fae0e4079097d": {
      "model_module": "@jupyter-widgets/base",
      "model_module_version": "1.2.0",
      "model_name": "LayoutModel",
      "state": {}
     },
     "1c1daa4a636047e19c4ef0c8a023233b": {
      "model_module": "@jupyter-widgets/base",
      "model_module_version": "1.2.0",
      "model_name": "LayoutModel",
      "state": {}
     },
     "1c6487c638094c86a180630ee4e8098a": {
      "model_module": "@jupyter-widgets/controls",
      "model_module_version": "1.5.0",
      "model_name": "ButtonModel",
      "state": {
       "description": "Save Figure",
       "layout": "IPY_MODEL_032b11b0071544cfb33b6c0a4e9bdc75",
       "style": "IPY_MODEL_19af0a884d404ca398026b1cd8c9d085"
      }
     },
     "1c84543fb6a14200a50ffaf281e26ff5": {
      "model_module": "@jupyter-widgets/controls",
      "model_module_version": "1.5.0",
      "model_name": "SliderStyleModel",
      "state": {
       "description_width": ""
      }
     },
     "1c8a70581d724241a3c3108a6f8b751b": {
      "model_module": "@jupyter-widgets/base",
      "model_module_version": "1.2.0",
      "model_name": "LayoutModel",
      "state": {}
     },
     "1c9bc81b409143b2898be30439b21a77": {
      "model_module": "@jupyter-widgets/base",
      "model_module_version": "1.2.0",
      "model_name": "LayoutModel",
      "state": {}
     },
     "1ca3a8072a2e425d808ebd79549b4cb6": {
      "model_module": "@jupyter-widgets/controls",
      "model_module_version": "1.5.0",
      "model_name": "FloatSliderModel",
      "state": {
       "description": "45°",
       "layout": "IPY_MODEL_6897775e59b74b37abc4ba1a36765ec9",
       "max": 1,
       "min": -1,
       "step": 0.01,
       "style": "IPY_MODEL_445d181d251548d7a196f26ed6f2a91d"
      }
     },
     "1cafc367018a4427808a92bf5ebdacd8": {
      "model_module": "@jupyter-widgets/base",
      "model_module_version": "1.2.0",
      "model_name": "LayoutModel",
      "state": {}
     },
     "1cd4a5d7d1104e91864b1b344c151f5a": {
      "model_module": "@jupyter-widgets/controls",
      "model_module_version": "1.5.0",
      "model_name": "SliderStyleModel",
      "state": {
       "description_width": ""
      }
     },
     "1d118182832a45ada1cf2cfb0f0c590a": {
      "model_module": "@jupyter-widgets/base",
      "model_module_version": "1.2.0",
      "model_name": "LayoutModel",
      "state": {
       "align_items": "stretch",
       "display": "flex",
       "flex_flow": "column",
       "width": "1128px"
      }
     },
     "1d2b4229c8dc41d3a7dcd08d02102918": {
      "model_module": "@jupyter-widgets/base",
      "model_module_version": "1.2.0",
      "model_name": "LayoutModel",
      "state": {
       "border": "solid 4px #222",
       "margin": "4px",
       "padding": "0"
      }
     },
     "1d5a3a0a3e3e4e539ec02bc1d890716a": {
      "model_module": "@jupyter-widgets/controls",
      "model_module_version": "1.5.0",
      "model_name": "DropdownModel",
      "state": {
       "_options_labels": [
        "sRGB",
        "ACES (sRGB)"
       ],
       "description": "View Transform:",
       "index": 0,
       "layout": "IPY_MODEL_1498740632544fcd87fd5ffcd830f032",
       "style": "IPY_MODEL_2eb0191c361e4ec4a5800339cf91ad7d"
      }
     },
     "1d955a7e5c71492fb9c21241fcece93b": {
      "model_module": "@jupyter-widgets/controls",
      "model_module_version": "1.5.0",
      "model_name": "ButtonModel",
      "state": {
       "description": "Reset Compression Controls",
       "layout": "IPY_MODEL_e30ae7f1d0bc40fdbf47f5738ed49cd1",
       "style": "IPY_MODEL_7394f879f43e4f91aef8b7d18944aef2"
      }
     },
     "1d9ee41921284c839cdbb696076262a6": {
      "model_module": "@jupyter-widgets/base",
      "model_module_version": "1.2.0",
      "model_name": "LayoutModel",
      "state": {}
     },
     "1da35badc8a54ae797957535ee148634": {
      "model_module": "@jupyter-widgets/controls",
      "model_module_version": "1.5.0",
      "model_name": "SliderStyleModel",
      "state": {
       "description_width": ""
      }
     },
     "1daeee67a6f74108bc21f975b3cf3fe8": {
      "model_module": "@jupyter-widgets/base",
      "model_module_version": "1.2.0",
      "model_name": "LayoutModel",
      "state": {}
     },
     "1de065326bda4de0bffc151353978231": {
      "model_module": "@jupyter-widgets/controls",
      "model_module_version": "1.5.0",
      "model_name": "ButtonStyleModel",
      "state": {}
     },
     "1e23794e19044cc791ad184c8c1a6a65": {
      "model_module": "@jupyter-widgets/controls",
      "model_module_version": "1.5.0",
      "model_name": "ButtonModel",
      "state": {
       "description": "Reset Saturation Controls",
       "layout": "IPY_MODEL_264c2a0591614d528c2c999c072af30a",
       "style": "IPY_MODEL_264098d8c068454eaad2bfb606cf5d3c"
      }
     },
     "1e26836c2985467588eb2ea326592778": {
      "model_module": "@jupyter-widgets/controls",
      "model_module_version": "1.5.0",
      "model_name": "FloatSliderModel",
      "state": {
       "description": "Protected Area Threshold",
       "layout": "IPY_MODEL_36aece59623b4118a75d7d434272b54d",
       "max": 1,
       "step": 0.01,
       "style": "IPY_MODEL_e9bb4e55d897484c89e15c761452033f",
       "value": 0.7
      }
     },
     "1e426b17cd9345f986c84e97da695212": {
      "model_module": "@jupyter-widgets/base",
      "model_module_version": "1.2.0",
      "model_name": "LayoutModel",
      "state": {}
     },
     "1e6d578ca35a4898b18e3fa88c466a42": {
      "model_module": "@jupyter-widgets/base",
      "model_module_version": "1.2.0",
      "model_name": "LayoutModel",
      "state": {}
     },
     "1e7c55d70fd3415394c6353b7b7cbff4": {
      "model_module": "@jupyter-widgets/base",
      "model_module_version": "1.2.0",
      "model_name": "LayoutModel",
      "state": {}
     },
     "1e84dd3d2fa84b9f97bb8f0e298406a5": {
      "model_module": "@jupyter-widgets/controls",
      "model_module_version": "1.5.0",
      "model_name": "DescriptionStyleModel",
      "state": {
       "description_width": ""
      }
     },
     "1ee11d60fe5c4315a836643e8dc15971": {
      "model_module": "@jupyter-widgets/controls",
      "model_module_version": "1.5.0",
      "model_name": "SliderStyleModel",
      "state": {
       "description_width": ""
      }
     },
     "1efad2cbfc0e4d48aca0b531bd39d1a1": {
      "model_module": "@jupyter-widgets/base",
      "model_module_version": "1.2.0",
      "model_name": "LayoutModel",
      "state": {
       "border": "solid 4px #222",
       "margin": "4px",
       "padding": "0"
      }
     },
     "1efe75bc9dd140479210328ec264db4e": {
      "model_module": "@jupyter-widgets/controls",
      "model_module_version": "1.5.0",
      "model_name": "DescriptionStyleModel",
      "state": {
       "description_width": ""
      }
     },
     "1f2640239d8e4972abf9291eea5a559a": {
      "model_module": "@jupyter-widgets/controls",
      "model_module_version": "1.5.0",
      "model_name": "FloatSliderModel",
      "state": {
       "description": "Protected Area Threshold",
       "layout": "IPY_MODEL_0f3bf4364fb74e738a3cba0ee0bf6891",
       "max": 1,
       "step": 0.01,
       "style": "IPY_MODEL_c6215f91b4c04270bece73a938124a5d",
       "value": 0.7
      }
     },
     "1f590f611ac94d478cfa9df7865741aa": {
      "model_module": "@jupyter-widgets/controls",
      "model_module_version": "1.5.0",
      "model_name": "ButtonModel",
      "state": {
       "description": "Reset Saturation Controls",
       "layout": "IPY_MODEL_c916baac1e9c48269c102e176656cb0a",
       "style": "IPY_MODEL_804603c06e6e489d93c0de976c1927a1"
      }
     },
     "1f6706fa86dc4679be37028e19a9e6b1": {
      "model_module": "@jupyter-widgets/controls",
      "model_module_version": "1.5.0",
      "model_name": "ButtonModel",
      "state": {
       "description": "Export Image",
       "layout": "IPY_MODEL_735569e5906b4e99a11b3d37814267a1",
       "style": "IPY_MODEL_4e836cc2e99a475b8be5edca71eb5bf2"
      }
     },
     "1f6b42d9771340dd8c5f15df6fa5d321": {
      "model_module": "@jupyter-widgets/controls",
      "model_module_version": "1.5.0",
      "model_name": "SliderStyleModel",
      "state": {
       "description_width": ""
      }
     },
     "1fb048256be245f4af9abad3b01fc58a": {
      "model_module": "@jupyter-widgets/base",
      "model_module_version": "1.2.0",
      "model_name": "LayoutModel",
      "state": {}
     },
     "1fb51fedd4bb49b2a988f0a3f8789294": {
      "model_module": "@jupyter-widgets/controls",
      "model_module_version": "1.5.0",
      "model_name": "FloatSliderModel",
      "state": {
       "description": "180°",
       "layout": "IPY_MODEL_623c6073fe96403e8c87d58b56aa6c8e",
       "max": 1,
       "min": -1,
       "step": 0.01,
       "style": "IPY_MODEL_bdacaccffcd645d2a4cbde6d9477bad6"
      }
     },
     "1fcf8d3c483d414f864a1782e302a28e": {
      "model_module": "@jupyter-widgets/controls",
      "model_module_version": "1.5.0",
      "model_name": "DropdownModel",
      "state": {
       "_options_labels": [
        "sRGB",
        "ACES (sRGB)"
       ],
       "description": "View Transform:",
       "index": 0,
       "layout": "IPY_MODEL_5cee45bc7fec4c49821b5aa52e65ee0b",
       "style": "IPY_MODEL_69dd5218a86c4f349af6d9c41933b1f2"
      }
     },
     "1fd10f1abb4443f3a569d61ce27efc18": {
      "model_module": "@jupyter-widgets/controls",
      "model_module_version": "1.5.0",
      "model_name": "VBoxModel",
      "state": {
       "children": [
        "IPY_MODEL_8706b60c00e145298303bbef8a4ce16a"
       ],
       "layout": "IPY_MODEL_f40973ab351442629a19a13e35bbde74"
      }
     },
     "20077a5b513e42a28ef925549adc5e2d": {
      "model_module": "@jupyter-widgets/controls",
      "model_module_version": "1.5.0",
      "model_name": "FloatSliderModel",
      "state": {
       "description": "45°",
       "layout": "IPY_MODEL_8e49916375d14139817055df86ac49ef",
       "max": 1,
       "min": -1,
       "step": 0.01,
       "style": "IPY_MODEL_028f4a013264490d938a196232443b5c"
      }
     },
     "20137b75d6f942a6ba95635ff88a26fe": {
      "model_module": "@jupyter-widgets/base",
      "model_module_version": "1.2.0",
      "model_name": "LayoutModel",
      "state": {}
     },
     "20237b52e2054198ba0f624eafa13965": {
      "model_module": "@jupyter-widgets/base",
      "model_module_version": "1.2.0",
      "model_name": "LayoutModel",
      "state": {}
     },
     "20327435db834a67b07e2d41217734ad": {
      "model_module": "@jupyter-widgets/base",
      "model_module_version": "1.2.0",
      "model_name": "LayoutModel",
      "state": {}
     },
     "2038a3e64fb54c6caa9e8da4cc965ca2": {
      "model_module": "@jupyter-widgets/base",
      "model_module_version": "1.2.0",
      "model_name": "LayoutModel",
      "state": {}
     },
     "204f6cc19e684c5c989aa9dc1b172fd2": {
      "model_module": "@jupyter-widgets/controls",
      "model_module_version": "1.5.0",
      "model_name": "DescriptionStyleModel",
      "state": {
       "description_width": ""
      }
     },
     "2061bac836ab4988a0ee5571893dc225": {
      "model_module": "@jupyter-widgets/controls",
      "model_module_version": "1.5.0",
      "model_name": "HBoxModel",
      "state": {
       "children": [
        "IPY_MODEL_44e3c1f3e7f946ae902e56ade4d0ef8e",
        "IPY_MODEL_59435f27bb2a4b4eaad904e72be1ea09",
        "IPY_MODEL_bf08b0c2182b4231a44494ebd85c2da7"
       ],
       "layout": "IPY_MODEL_75d97dd74f6849b689579c856ae5775e"
      }
     },
     "20764e5930fc439c8a13e3b4cde87b98": {
      "model_module": "@jupyter-widgets/base",
      "model_module_version": "1.2.0",
      "model_name": "LayoutModel",
      "state": {}
     },
     "20940864d1474560adf3a2dcac069ccd": {
      "model_module": "@jupyter-widgets/controls",
      "model_module_version": "1.5.0",
      "model_name": "SliderStyleModel",
      "state": {
       "description_width": ""
      }
     },
     "20b488eb3af6404aa50b04fb7f80e3ce": {
      "model_module": "@jupyter-widgets/controls",
      "model_module_version": "1.5.0",
      "model_name": "FloatSliderModel",
      "state": {
       "description": "Exposure",
       "layout": "IPY_MODEL_820c32007bd1406ba6aa21214db3ec8a",
       "max": 8,
       "min": -8,
       "step": 0.1,
       "style": "IPY_MODEL_65ee7faf63ad49db8f8e5d2179623c45"
      }
     },
     "20f465d126d342029d7c358eccae3bbd": {
      "model_module": "@jupyter-widgets/base",
      "model_module_version": "1.2.0",
      "model_name": "LayoutModel",
      "state": {
       "border": "solid 4px #222",
       "margin": "4px",
       "padding": "0"
      }
     },
     "21014de8e2ad4e11bd924b8a9131d77d": {
      "model_module": "@jupyter-widgets/controls",
      "model_module_version": "1.5.0",
      "model_name": "VBoxModel",
      "state": {
       "children": [
        "IPY_MODEL_dc99a3d9598e4dc2b3f148bf5cea6688",
        "IPY_MODEL_1ca3a8072a2e425d808ebd79549b4cb6",
        "IPY_MODEL_2823ea238cd047b48a9ec99482642abc"
       ],
       "layout": "IPY_MODEL_263d64278f6b4df582eaf6343be5a643"
      }
     },
     "213fe8703093463b9c938e50a81b87e5": {
      "model_module": "@jupyter-widgets/controls",
      "model_module_version": "1.5.0",
      "model_name": "VBoxModel",
      "state": {
       "children": [
        "IPY_MODEL_e7a19da9b373458c8449584fc40e1cd4",
        "IPY_MODEL_5045701ec5004606bd77a8b20b8d3dd8"
       ],
       "layout": "IPY_MODEL_433c1552f83f4db0b6ab345594b4cc41"
      }
     },
     "2165d72f2dce4540ad678b33bbbdd01e": {
      "model_module": "@jupyter-widgets/base",
      "model_module_version": "1.2.0",
      "model_name": "LayoutModel",
      "state": {}
     },
     "216bb687526c4f039b5621e287ce7a3b": {
      "model_module": "@jupyter-widgets/base",
      "model_module_version": "1.2.0",
      "model_name": "LayoutModel",
      "state": {}
     },
     "21b9b5ea036446f0ba8a3336d32d4384": {
      "model_module": "jupyter-matplotlib",
      "model_module_version": "^0.7.2",
      "model_name": "ToolbarModel",
      "state": {
       "layout": "IPY_MODEL_774ea8c07f8a40e68c133ccceeb42a78",
       "toolitems": [
        [
         "Home",
         "Reset original view",
         "home",
         "home"
        ],
        [
         "Back",
         "Back to previous view",
         "arrow-left",
         "back"
        ],
        [
         "Forward",
         "Forward to next view",
         "arrow-right",
         "forward"
        ],
        [
         "Pan",
         "Pan axes with left mouse, zoom with right",
         "arrows",
         "pan"
        ],
        [
         "Zoom",
         "Zoom to rectangle",
         "square-o",
         "zoom"
        ],
        [
         "Download",
         "Download plot",
         "floppy-o",
         "save_figure"
        ]
       ]
      }
     },
     "21bf259a64a74275aeb207826da911db": {
      "model_module": "@jupyter-widgets/controls",
      "model_module_version": "1.5.0",
      "model_name": "FloatSliderModel",
      "state": {
       "description": "Compression Threshold",
       "layout": "IPY_MODEL_bf486a10655649f0a55a20e863878214",
       "max": 1,
       "step": 0.01,
       "style": "IPY_MODEL_481a2bb4aa3d441292f1477e7f749134",
       "value": 0.8
      }
     },
     "21d7aada89f342eaa2f4ed96ee7f9e8f": {
      "model_module": "@jupyter-widgets/controls",
      "model_module_version": "1.5.0",
      "model_name": "ButtonStyleModel",
      "state": {}
     },
     "2209384f620c4f20826b460d194d6a8a": {
      "model_module": "@jupyter-widgets/base",
      "model_module_version": "1.2.0",
      "model_name": "LayoutModel",
      "state": {}
     },
     "222356b2fb79428aa69106f51475f7ea": {
      "model_module": "@jupyter-widgets/controls",
      "model_module_version": "1.5.0",
      "model_name": "FloatSliderModel",
      "state": {
       "description": "270°",
       "layout": "IPY_MODEL_fa7c87d661f746b584c968b952de9c5f",
       "max": 1,
       "min": -1,
       "step": 0.01,
       "style": "IPY_MODEL_04a1ae3d04d04d1fa7cf0113655818d6"
      }
     },
     "223eec53af6a48b6aef7d23c0627ef7f": {
      "model_module": "@jupyter-widgets/base",
      "model_module_version": "1.2.0",
      "model_name": "LayoutModel",
      "state": {}
     },
     "227f908787b24b2cac3aa43702357e9b": {
      "model_module": "@jupyter-widgets/controls",
      "model_module_version": "1.5.0",
      "model_name": "FloatSliderModel",
      "state": {
       "description": "Exposure",
       "layout": "IPY_MODEL_4de8d30961bc461f831d003f5e2187a9",
       "max": 8,
       "min": -8,
       "step": 0.1,
       "style": "IPY_MODEL_8beddb9004df4253968ac864aaaf93b7"
      }
     },
     "22842cc80de747babc9c7a0f28fc708b": {
      "model_module": "@jupyter-widgets/base",
      "model_module_version": "1.2.0",
      "model_name": "LayoutModel",
      "state": {}
     },
     "22bcd9a9be5b4001806f54f47b9de9f2": {
      "model_module": "@jupyter-widgets/controls",
      "model_module_version": "1.5.0",
      "model_name": "DropdownModel",
      "state": {
       "_options_labels": [
        "sRGB",
        "ACES (sRGB)"
       ],
       "description": "View Transform:",
       "index": 0,
       "layout": "IPY_MODEL_a5f25adede6e4e64905c9a73bfce9c78",
       "style": "IPY_MODEL_05c8b43478c04af0988ba2e96d8ab53f"
      }
     },
     "22efeccf40ca46e3b4d55a004de34efd": {
      "model_module": "@jupyter-widgets/base",
      "model_module_version": "1.2.0",
      "model_name": "LayoutModel",
      "state": {}
     },
     "2303c754ca07477b8a0f7424488a49f0": {
      "model_module": "@jupyter-widgets/controls",
      "model_module_version": "1.5.0",
      "model_name": "ButtonStyleModel",
      "state": {}
     },
     "2345387068de4bddaa3f66979426e65d": {
      "model_module": "@jupyter-widgets/base",
      "model_module_version": "1.2.0",
      "model_name": "LayoutModel",
      "state": {}
     },
     "239fc256d5c14a90a681f3f9cdc16652": {
      "model_module": "@jupyter-widgets/controls",
      "model_module_version": "1.5.0",
      "model_name": "FloatSliderModel",
      "state": {
       "description": "0°",
       "layout": "IPY_MODEL_e82cbafd77384c33b82970361106cd06",
       "max": 1,
       "min": -1,
       "step": 0.01,
       "style": "IPY_MODEL_1146b958105c4e9cb895926413193b97"
      }
     },
     "23b4b4044a6a43fc866a47fc1c8e3442": {
      "model_module": "jupyter-matplotlib",
      "model_module_version": "^0.7.2",
      "model_name": "MPLCanvasModel",
      "state": {
       "_figure_label": "Figure 26",
       "_height": 550,
       "_width": 1100,
       "header_visible": false,
       "layout": "IPY_MODEL_a4a2ddc04b92406098b4dffa25c62f08",
       "resizable": false,
       "toolbar": "IPY_MODEL_e5c1a105b0b64e908da34c3c2b17bd64",
       "toolbar_position": "left",
       "toolbar_visible": false
      }
     },
     "23bd96bc127d4f12b08efb0e9c58312c": {
      "model_module": "@jupyter-widgets/controls",
      "model_module_version": "1.5.0",
      "model_name": "SliderStyleModel",
      "state": {
       "description_width": ""
      }
     },
     "23e0cc1fa5fd40479de4a676e95b8f49": {
      "model_module": "@jupyter-widgets/controls",
      "model_module_version": "1.5.0",
      "model_name": "VBoxModel",
      "state": {
       "children": [
        "IPY_MODEL_6d0beafce32e44f4b8d00018d8dbd10c",
        "IPY_MODEL_7c76fafbae714966bff2f4bb233ef478",
        "IPY_MODEL_5abe6bb5938c4baea7906fffb26fbfac"
       ],
       "layout": "IPY_MODEL_e3a041929e8047ed9c91f5556bc39301"
      }
     },
     "23e706cf322747b58b0000bbbef595b3": {
      "model_module": "@jupyter-widgets/base",
      "model_module_version": "1.2.0",
      "model_name": "LayoutModel",
      "state": {
       "border": "solid 4px #222",
       "margin": "4px",
       "padding": "0"
      }
     },
     "23e738a481db4329881a4de31e41030b": {
      "model_module": "@jupyter-widgets/base",
      "model_module_version": "1.2.0",
      "model_name": "LayoutModel",
      "state": {}
     },
     "23e8d6d2a039491183748d02ba01101b": {
      "model_module": "@jupyter-widgets/base",
      "model_module_version": "1.2.0",
      "model_name": "LayoutModel",
      "state": {}
     },
     "24039298a6354077b229c4e570c1d15f": {
      "model_module": "@jupyter-widgets/base",
      "model_module_version": "1.2.0",
      "model_name": "LayoutModel",
      "state": {}
     },
     "24242dc76cb444dcac538b614eea6e87": {
      "model_module": "@jupyter-widgets/controls",
      "model_module_version": "1.5.0",
      "model_name": "FloatSliderModel",
      "state": {
       "description": "135°",
       "layout": "IPY_MODEL_1e7c55d70fd3415394c6353b7b7cbff4",
       "max": 1,
       "min": -1,
       "step": 0.01,
       "style": "IPY_MODEL_d4a35d3114f849138adf8151c5a99521"
      }
     },
     "24472bf9b3ea4f0690cc5c9f7cd3763d": {
      "model_module": "@jupyter-widgets/base",
      "model_module_version": "1.2.0",
      "model_name": "LayoutModel",
      "state": {}
     },
     "2458a6abb83542b8bd270ad720cc1b17": {
      "model_module": "@jupyter-widgets/base",
      "model_module_version": "1.2.0",
      "model_name": "LayoutModel",
      "state": {
       "align_items": "stretch",
       "display": "flex",
       "flex_flow": "column",
       "width": "1128px"
      }
     },
     "2469d703cf064e0785bbd00cb8daa83b": {
      "model_module": "@jupyter-widgets/controls",
      "model_module_version": "1.5.0",
      "model_name": "ButtonStyleModel",
      "state": {}
     },
     "246eef94dec544589986f5e10ef2f75e": {
      "model_module": "@jupyter-widgets/base",
      "model_module_version": "1.2.0",
      "model_name": "LayoutModel",
      "state": {}
     },
     "24870fe1670e4928af3d24bffc26cddb": {
      "model_module": "@jupyter-widgets/controls",
      "model_module_version": "1.5.0",
      "model_name": "ButtonModel",
      "state": {
       "description": "Reset Exposure",
       "layout": "IPY_MODEL_5361feb0144a466f94eba63315413c8e",
       "style": "IPY_MODEL_26df1eaeeea847bda0907cd7bc63b37e"
      }
     },
     "24a2219355e74a848c072f1f1bf826ed": {
      "model_module": "@jupyter-widgets/base",
      "model_module_version": "1.2.0",
      "model_name": "LayoutModel",
      "state": {}
     },
     "24afd220884f443c9674de602f9a32ec": {
      "model_module": "@jupyter-widgets/controls",
      "model_module_version": "1.5.0",
      "model_name": "HBoxModel",
      "state": {
       "children": [
        "IPY_MODEL_612baa2e6f7443de836d3b03ab9d4ecb",
        "IPY_MODEL_11f90d0931324fea8af5f614c066dd86"
       ],
       "layout": "IPY_MODEL_01dd098413e3401b824b1ab0425dc395"
      }
     },
     "24fb372b0edc4a5b8439d6c2c99ed7c0": {
      "model_module": "@jupyter-widgets/controls",
      "model_module_version": "1.5.0",
      "model_name": "FloatSliderModel",
      "state": {
       "description": "45°",
       "layout": "IPY_MODEL_aa67848dfce941078fd1b9a750726349",
       "max": 1,
       "min": -1,
       "step": 0.01,
       "style": "IPY_MODEL_110180dadd314232996fe83ab5b99faf"
      }
     },
     "25006aeaa971441bbca544cfd30db0f6": {
      "model_module": "@jupyter-widgets/controls",
      "model_module_version": "1.5.0",
      "model_name": "ButtonModel",
      "state": {
       "description": "Save Figure",
       "layout": "IPY_MODEL_ef6d9cbbc54c4d83849b32e5ca5767df",
       "style": "IPY_MODEL_e71134715d5549d88c5db37f00bbbf75"
      }
     },
     "250c754b1b424aac9651f3ce36e4ac30": {
      "model_module": "@jupyter-widgets/base",
      "model_module_version": "1.2.0",
      "model_name": "LayoutModel",
      "state": {}
     },
     "25401ae0181d44f9bf39f0ac51cd6c87": {
      "model_module": "@jupyter-widgets/base",
      "model_module_version": "1.2.0",
      "model_name": "LayoutModel",
      "state": {}
     },
     "25526e8dbb644a7195f386011ae0cd5d": {
      "model_module": "@jupyter-widgets/base",
      "model_module_version": "1.2.0",
      "model_name": "LayoutModel",
      "state": {}
     },
     "2559c4f0ee774a738be698cc24bd6736": {
      "model_module": "@jupyter-widgets/controls",
      "model_module_version": "1.5.0",
      "model_name": "SliderStyleModel",
      "state": {
       "description_width": ""
      }
     },
     "258fd132c88b417fbb50f1c7cf036270": {
      "model_module": "@jupyter-widgets/controls",
      "model_module_version": "1.5.0",
      "model_name": "FloatSliderModel",
      "state": {
       "description": "180°",
       "layout": "IPY_MODEL_525b1da483e440c5850733dc8227f095",
       "max": 1,
       "min": -1,
       "step": 0.01,
       "style": "IPY_MODEL_aab693771b5a45cfbfb29699261fc8da"
      }
     },
     "25d91f93430d4b72a5f90b3c8ae121cb": {
      "model_module": "@jupyter-widgets/controls",
      "model_module_version": "1.5.0",
      "model_name": "DropdownModel",
      "state": {
       "_options_labels": [
        "tanh",
        "atan",
        "simple"
       ],
       "description": "Compression Function:",
       "index": 0,
       "layout": "IPY_MODEL_f4c51380d9cc4f66b5eef534586b2aed",
       "style": "IPY_MODEL_f73e0cb4466a40e399300e02aa98f32f"
      }
     },
     "25e39d74e3f54d0d95218fa631c4ccf3": {
      "model_module": "@jupyter-widgets/controls",
      "model_module_version": "1.5.0",
      "model_name": "DropdownModel",
      "state": {
       "_options_labels": [
        "tanh",
        "atan",
        "simple"
       ],
       "description": "Compression Function:",
       "index": 0,
       "layout": "IPY_MODEL_16f1169a221c4754b10877a30540f3b7",
       "style": "IPY_MODEL_30f2b72176f9499cb10bb63fc805506d"
      }
     },
     "25ecfcd0b0084f619b8594257493da0d": {
      "model_module": "@jupyter-widgets/controls",
      "model_module_version": "1.5.0",
      "model_name": "ButtonModel",
      "state": {
       "description": "Export Image",
       "layout": "IPY_MODEL_ddb2889838004c278f6cf83382dc7a6d",
       "style": "IPY_MODEL_3f37a18f8eff48559bb80689dc793a1f"
      }
     },
     "260e63c9236b4ee9b60a4523adad7b85": {
      "model_module": "@jupyter-widgets/base",
      "model_module_version": "1.2.0",
      "model_name": "LayoutModel",
      "state": {
       "border": "solid 4px #222",
       "margin": "4px",
       "padding": "0"
      }
     },
     "2631a5bc457a4d07bf327b791ad86171": {
      "model_module": "@jupyter-widgets/controls",
      "model_module_version": "1.5.0",
      "model_name": "DropdownModel",
      "state": {
       "_options_labels": [
        "sRGB",
        "ACES (sRGB)"
       ],
       "description": "View Transform:",
       "index": 0,
       "layout": "IPY_MODEL_0390c4a9c64e48f9b727de43fcbbb121",
       "style": "IPY_MODEL_b17554df93984dc18cadaf1a2c654747"
      }
     },
     "263ba06c73834a1db36449f899e1eee4": {
      "model_module": "@jupyter-widgets/controls",
      "model_module_version": "1.5.0",
      "model_name": "FloatSliderModel",
      "state": {
       "description": "Exposure",
       "layout": "IPY_MODEL_44e0240ce9ff443aa1ff8330adf7a7c1",
       "max": 8,
       "min": -8,
       "step": 0.1,
       "style": "IPY_MODEL_3bed5bf0eb664a10bce53881cdfaa76a"
      }
     },
     "263d64278f6b4df582eaf6343be5a643": {
      "model_module": "@jupyter-widgets/base",
      "model_module_version": "1.2.0",
      "model_name": "LayoutModel",
      "state": {}
     },
     "264098d8c068454eaad2bfb606cf5d3c": {
      "model_module": "@jupyter-widgets/controls",
      "model_module_version": "1.5.0",
      "model_name": "ButtonStyleModel",
      "state": {}
     },
     "2648fe31fc68487492614986465af5dc": {
      "model_module": "@jupyter-widgets/controls",
      "model_module_version": "1.5.0",
      "model_name": "CheckboxModel",
      "state": {
       "description": "Disable Medicina",
       "disabled": false,
       "layout": "IPY_MODEL_48bd6747b70d41bb90e9761558ad1046",
       "style": "IPY_MODEL_6e982057f62c41b8853059ee1558e557",
       "value": true
      }
     },
     "264c2a0591614d528c2c999c072af30a": {
      "model_module": "@jupyter-widgets/base",
      "model_module_version": "1.2.0",
      "model_name": "LayoutModel",
      "state": {}
     },
     "267b61975e1a42d6aa396f5fd8224825": {
      "model_module": "@jupyter-widgets/controls",
      "model_module_version": "1.5.0",
      "model_name": "SliderStyleModel",
      "state": {
       "description_width": ""
      }
     },
     "26981902494c4bafaafee78fbcfd3808": {
      "model_module": "@jupyter-widgets/base",
      "model_module_version": "1.2.0",
      "model_name": "LayoutModel",
      "state": {}
     },
     "2698c0ac3b184dea973c84912eaaf10a": {
      "model_module": "@jupyter-widgets/controls",
      "model_module_version": "1.5.0",
      "model_name": "ButtonModel",
      "state": {
       "description": "Reset Hue Controls",
       "layout": "IPY_MODEL_5ea85344fcd94efcbfc750bbd2d54a25",
       "style": "IPY_MODEL_a510cccfa1be43819b2fa3e0417ef160"
      }
     },
     "26bbefce0a3242f18b1ee808aecdae5c": {
      "model_module": "@jupyter-widgets/base",
      "model_module_version": "1.2.0",
      "model_name": "LayoutModel",
      "state": {}
     },
     "26bfbce5760b42ffbbcaaa6fdfc5f238": {
      "model_module": "@jupyter-widgets/base",
      "model_module_version": "1.2.0",
      "model_name": "LayoutModel",
      "state": {}
     },
     "26d0bdd5a3af4c749098d94aaf9e87de": {
      "model_module": "@jupyter-widgets/base",
      "model_module_version": "1.2.0",
      "model_name": "LayoutModel",
      "state": {}
     },
     "26d81a0eccd744cea42e542488f34d5b": {
      "model_module": "@jupyter-widgets/controls",
      "model_module_version": "1.5.0",
      "model_name": "FloatSliderModel",
      "state": {
       "description": "90°",
       "layout": "IPY_MODEL_fc3c49b31b494f0794aefe7da668a756",
       "max": 1,
       "min": -1,
       "step": 0.01,
       "style": "IPY_MODEL_1da35badc8a54ae797957535ee148634"
      }
     },
     "26df1eaeeea847bda0907cd7bc63b37e": {
      "model_module": "@jupyter-widgets/controls",
      "model_module_version": "1.5.0",
      "model_name": "ButtonStyleModel",
      "state": {}
     },
     "271e0eefd02f4754844cac626c5de88f": {
      "model_module": "@jupyter-widgets/base",
      "model_module_version": "1.2.0",
      "model_name": "LayoutModel",
      "state": {}
     },
     "274b6b2648554ba19e34c5c40609e96c": {
      "model_module": "@jupyter-widgets/controls",
      "model_module_version": "1.5.0",
      "model_name": "ButtonStyleModel",
      "state": {}
     },
     "2762179046e449b9874c17d3e31e127d": {
      "model_module": "jupyter-matplotlib",
      "model_module_version": "^0.7.2",
      "model_name": "MPLCanvasModel",
      "state": {
       "_figure_label": "Figure 24",
       "_height": 440,
       "_width": 1100,
       "header_visible": false,
       "layout": "IPY_MODEL_d6bcf7b4b78b4f309a9798f9250cd714",
       "resizable": false,
       "toolbar": "IPY_MODEL_b91e3078e31c4b0e98c37b5fb5cad3e1",
       "toolbar_position": "left",
       "toolbar_visible": false
      }
     },
     "277498f044a541498ee0bbe063a9f5e7": {
      "model_module": "@jupyter-widgets/controls",
      "model_module_version": "1.5.0",
      "model_name": "DescriptionStyleModel",
      "state": {
       "description_width": ""
      }
     },
     "27c5ffb58ff348c88b7bca1288df15ca": {
      "model_module": "@jupyter-widgets/controls",
      "model_module_version": "1.5.0",
      "model_name": "FloatSliderModel",
      "state": {
       "description": "45°",
       "layout": "IPY_MODEL_b1153bffaeb446de84a3b48fd760a7f5",
       "max": 1,
       "min": -1,
       "step": 0.01,
       "style": "IPY_MODEL_4ded0f86b9c64e67a4f69f904f0d1f67"
      }
     },
     "27d4ffbe8d0141f5980fd1f0f22ccb9e": {
      "model_module": "@jupyter-widgets/controls",
      "model_module_version": "1.5.0",
      "model_name": "TabModel",
      "state": {
       "_titles": {
        "0": "Global Controls",
        "1": "Viewer Controls",
        "2": "Compression Controls"
       },
       "children": [
        "IPY_MODEL_9a605a999ffc42b98b67c3c3dfaa61d6",
        "IPY_MODEL_0e9eaef1244f4104bbc22c9f1317cdca",
        "IPY_MODEL_1bdaaec78c3e419197d9264a42e22801"
       ],
       "layout": "IPY_MODEL_1efad2cbfc0e4d48aca0b531bd39d1a1"
      }
     },
     "27f6a2e98c094be6b90a9cf98f5e3925": {
      "model_module": "@jupyter-widgets/controls",
      "model_module_version": "1.5.0",
      "model_name": "ButtonStyleModel",
      "state": {}
     },
     "2823ea238cd047b48a9ec99482642abc": {
      "model_module": "@jupyter-widgets/controls",
      "model_module_version": "1.5.0",
      "model_name": "FloatSliderModel",
      "state": {
       "description": "90°",
       "layout": "IPY_MODEL_b87b251cabee4798be449122e00503fd",
       "max": 1,
       "min": -1,
       "step": 0.01,
       "style": "IPY_MODEL_7447dc1f6b0e44c7bcd77ed1a16359e2"
      }
     },
     "2854a26fc2ec47c8bbb6b31d7dcf9a2d": {
      "model_module": "@jupyter-widgets/controls",
      "model_module_version": "1.5.0",
      "model_name": "DropdownModel",
      "state": {
       "_options_labels": [
        "sRGB",
        "ACES (sRGB)"
       ],
       "description": "View Transform:",
       "index": 0,
       "layout": "IPY_MODEL_b90cd54c3b58473c9131267c8a27d0d0",
       "style": "IPY_MODEL_0c36e8e12ccc40c7be4b6ecefc3874e4"
      }
     },
     "286317e56954476a8ac95de3ad57c02c": {
      "model_module": "@jupyter-widgets/base",
      "model_module_version": "1.2.0",
      "model_name": "LayoutModel",
      "state": {
       "border": "solid 4px #222",
       "margin": "4px",
       "padding": "0"
      }
     },
     "286cb40b50e84b6e8a283b39b00da8d3": {
      "model_module": "@jupyter-widgets/base",
      "model_module_version": "1.2.0",
      "model_name": "LayoutModel",
      "state": {}
     },
     "286e1fd2dbeb49e29505048636bde029": {
      "model_module": "@jupyter-widgets/controls",
      "model_module_version": "1.5.0",
      "model_name": "SliderStyleModel",
      "state": {
       "description_width": ""
      }
     },
     "288136821a8c4644afb1f587c8b5b808": {
      "model_module": "@jupyter-widgets/controls",
      "model_module_version": "1.5.0",
      "model_name": "HBoxModel",
      "state": {
       "children": [
        "IPY_MODEL_4704fed4f9ab4b939077b5bb9c2c443e",
        "IPY_MODEL_dd5b9a38d5c3459dbca89b5179cf5db5"
       ],
       "layout": "IPY_MODEL_4473c8b585eb47c7923fba690d0b21d5"
      }
     },
     "28bfbd4a560a4891ab85b8af6bb531df": {
      "model_module": "@jupyter-widgets/controls",
      "model_module_version": "1.5.0",
      "model_name": "HBoxModel",
      "state": {
       "children": [
        "IPY_MODEL_561b0e3d67a941fb9e26b9c3e841350c",
        "IPY_MODEL_6cd66b447e1e4a58b46586fa0cef4b49",
        "IPY_MODEL_e18431592e7d48c691de3919c92f8ace"
       ],
       "layout": "IPY_MODEL_b755aebb38b64501abcda500b6a3a2f0"
      }
     },
     "28d1ca3c2d05436ea60a2ee7c066af42": {
      "model_module": "@jupyter-widgets/base",
      "model_module_version": "1.2.0",
      "model_name": "LayoutModel",
      "state": {}
     },
     "28df0cd28c2b48879ea1bcf1a4eea9ec": {
      "model_module": "@jupyter-widgets/base",
      "model_module_version": "1.2.0",
      "model_name": "LayoutModel",
      "state": {}
     },
     "2917ce357f8b4176809317764ab13002": {
      "model_module": "@jupyter-widgets/base",
      "model_module_version": "1.2.0",
      "model_name": "LayoutModel",
      "state": {}
     },
     "292f316c1dd74f5397dced784f7328fa": {
      "model_module": "@jupyter-widgets/base",
      "model_module_version": "1.2.0",
      "model_name": "LayoutModel",
      "state": {}
     },
     "292fe61264a44dfeb036c53466882b1c": {
      "model_module": "@jupyter-widgets/controls",
      "model_module_version": "1.5.0",
      "model_name": "ButtonModel",
      "state": {
       "description": "Reset Exposure",
       "layout": "IPY_MODEL_6c3343a5bb244fd09d9510439cb92998",
       "style": "IPY_MODEL_5e8b5c1e8f4649e9a2db7ab0a4a04ee2"
      }
     },
     "29353a425cf04070a5f19d7392b3e3ac": {
      "model_module": "@jupyter-widgets/controls",
      "model_module_version": "1.5.0",
      "model_name": "SliderStyleModel",
      "state": {
       "description_width": ""
      }
     },
     "297b55d7cc2f409d97982e0e07a58a16": {
      "model_module": "@jupyter-widgets/controls",
      "model_module_version": "1.5.0",
      "model_name": "SliderStyleModel",
      "state": {
       "description_width": ""
      }
     },
     "2996664f539e428aa7d510551f583421": {
      "model_module": "@jupyter-widgets/controls",
      "model_module_version": "1.5.0",
      "model_name": "FloatSliderModel",
      "state": {
       "description": "Protected Area Threshold",
       "layout": "IPY_MODEL_39666e6c81d24e00b937eb4ce503ca89",
       "max": 1,
       "step": 0.01,
       "style": "IPY_MODEL_ae56805f1f484d4ea53c85bb1081ddfa",
       "value": 0.7
      }
     },
     "29ebf3be670b4dc9a6bc9573fa8ca422": {
      "model_module": "@jupyter-widgets/controls",
      "model_module_version": "1.5.0",
      "model_name": "SliderStyleModel",
      "state": {
       "description_width": ""
      }
     },
     "2a4e38886fb74e44b828f0e29ed45a27": {
      "model_module": "@jupyter-widgets/controls",
      "model_module_version": "1.5.0",
      "model_name": "SliderStyleModel",
      "state": {
       "description_width": ""
      }
     },
     "2a65da382a064f41a984c7d802ef7771": {
      "model_module": "@jupyter-widgets/controls",
      "model_module_version": "1.5.0",
      "model_name": "DropdownModel",
      "state": {
       "_options_labels": [
        "tanh",
        "atan",
        "simple"
       ],
       "description": "Compression Function:",
       "index": 0,
       "layout": "IPY_MODEL_7d26c4ec33de4637bccff73cb393d65b",
       "style": "IPY_MODEL_64c8c9abea304be29c80e8ceb49548df"
      }
     },
     "2a8e34926efc4ae9aee04ac0cc024138": {
      "model_module": "@jupyter-widgets/base",
      "model_module_version": "1.2.0",
      "model_name": "LayoutModel",
      "state": {}
     },
     "2a99b9c16b3548c39db8aa5f72f1e360": {
      "model_module": "@jupyter-widgets/controls",
      "model_module_version": "1.5.0",
      "model_name": "ButtonModel",
      "state": {
       "description": "Reset Saturation Controls",
       "layout": "IPY_MODEL_3627cecc3adc4ce48cf0103c5ece53ba",
       "style": "IPY_MODEL_f6660c98bedb48b9a5ae3dbf2e28d821"
      }
     },
     "2aff52db35f44f74a31000576df340bf": {
      "model_module": "@jupyter-widgets/controls",
      "model_module_version": "1.5.0",
      "model_name": "ButtonStyleModel",
      "state": {}
     },
     "2b00dbb6d97b4e9b8d3182663b967f1e": {
      "model_module": "@jupyter-widgets/controls",
      "model_module_version": "1.5.0",
      "model_name": "ButtonStyleModel",
      "state": {}
     },
     "2b3e21d9d30c427887cd2af0636220cb": {
      "model_module": "@jupyter-widgets/controls",
      "model_module_version": "1.5.0",
      "model_name": "DescriptionStyleModel",
      "state": {
       "description_width": ""
      }
     },
     "2b725fb8f81e4616a0fecfec1fa52b31": {
      "model_module": "@jupyter-widgets/output",
      "model_module_version": "1.0.0",
      "model_name": "OutputModel",
      "state": {
       "layout": "IPY_MODEL_2d7cd7bdcd804078a90ba050dfa5adb2",
       "outputs": [
        {
         "data": {
          "application/vnd.jupyter.widget-view+json": {
           "model_id": "9be27f30042a4b76b73734c46e2e3854",
           "version_major": 2,
           "version_minor": 0
          },
          "text/plain": "Canvas(toolbar=Toolbar(toolitems=[('Home', 'Reset original view', 'home', 'home'), ('Back', 'Back to previous …"
         },
         "metadata": {},
         "output_type": "display_data"
        }
       ]
      }
     },
     "2b967f5e59ac4794b22eba2259681014": {
      "model_module": "@jupyter-widgets/base",
      "model_module_version": "1.2.0",
      "model_name": "LayoutModel",
      "state": {}
     },
     "2ba420107e864d6c862e27ee22713210": {
      "model_module": "@jupyter-widgets/controls",
      "model_module_version": "1.5.0",
      "model_name": "CheckboxModel",
      "state": {
       "description": "Disable Medicina",
       "disabled": false,
       "layout": "IPY_MODEL_ac39b2b1a87b449598027084721d6336",
       "style": "IPY_MODEL_4f43bde087f54232abf7c9fe162778b7",
       "value": false
      }
     },
     "2bad6669cba14c0e9cd32249264c7bcb": {
      "model_module": "@jupyter-widgets/controls",
      "model_module_version": "1.5.0",
      "model_name": "CheckboxModel",
      "state": {
       "description": "Show Out-of-Gamut",
       "disabled": false,
       "layout": "IPY_MODEL_de8f9da8121e45409a3004bacaaf1e40",
       "style": "IPY_MODEL_c2963c9b9872444c925d0fccfd999408",
       "value": false
      }
     },
     "2bb2bce685d043d78026e993e9c87e88": {
      "model_module": "@jupyter-widgets/base",
      "model_module_version": "1.2.0",
      "model_name": "LayoutModel",
      "state": {}
     },
     "2beb0ba056624ee5b58fe252a4fd60c8": {
      "model_module": "@jupyter-widgets/controls",
      "model_module_version": "1.5.0",
      "model_name": "ButtonStyleModel",
      "state": {}
     },
     "2bfbb40a4a964db5af946f2d999048e8": {
      "model_module": "@jupyter-widgets/base",
      "model_module_version": "1.2.0",
      "model_name": "LayoutModel",
      "state": {}
     },
     "2c1c729730344733bba076f7697e6dbb": {
      "model_module": "@jupyter-widgets/base",
      "model_module_version": "1.2.0",
      "model_name": "LayoutModel",
      "state": {}
     },
     "2c3ff406fa01402e8fc2f2c94b660fd9": {
      "model_module": "@jupyter-widgets/base",
      "model_module_version": "1.2.0",
      "model_name": "LayoutModel",
      "state": {
       "align_items": "stretch",
       "display": "flex",
       "flex_flow": "column",
       "width": "1128px"
      }
     },
     "2c4463fcd1a346c09aeeb92226cb1ef4": {
      "model_module": "@jupyter-widgets/base",
      "model_module_version": "1.2.0",
      "model_name": "LayoutModel",
      "state": {}
     },
     "2c5f964a99784df887bafa77ef4d5f47": {
      "model_module": "@jupyter-widgets/controls",
      "model_module_version": "1.5.0",
      "model_name": "CheckboxModel",
      "state": {
       "description": "Show Out-of-Gamut",
       "disabled": false,
       "layout": "IPY_MODEL_8517b4e26b53494a8353bdf9399b5b06",
       "style": "IPY_MODEL_10d9e70c4ab4455aa5a303f628d4cacb",
       "value": false
      }
     },
     "2c7db1bcc60e48dea800a6b7eed2c96f": {
      "model_module": "@jupyter-widgets/controls",
      "model_module_version": "1.5.0",
      "model_name": "DropdownModel",
      "state": {
       "_options_labels": [
        "sRGB",
        "ACES (sRGB)"
       ],
       "description": "View Transform:",
       "index": 0,
       "layout": "IPY_MODEL_43621e01c84d4c27b0333c91148a7b33",
       "style": "IPY_MODEL_cd00435c54de4958940f3a1a3b106c0b"
      }
     },
     "2c92745fc541435bb36135be28052f1e": {
      "model_module": "jupyter-matplotlib",
      "model_module_version": "^0.7.2",
      "model_name": "MPLCanvasModel",
      "state": {
       "header_visible": false,
       "layout": "IPY_MODEL_6423c86adefb4318ab096a125be5ba69",
       "resizable": false,
       "toolbar": "IPY_MODEL_5216fd278feb4b1389f73dafab2a2fcf",
       "toolbar_position": "left",
       "toolbar_visible": false
      }
     },
     "2c9ec0322a7d416c99ed2146d9cb9b15": {
      "model_module": "@jupyter-widgets/controls",
      "model_module_version": "1.5.0",
      "model_name": "DescriptionStyleModel",
      "state": {
       "description_width": ""
      }
     },
     "2cb7917461c14be18b3d2d0b37b2d6d2": {
      "model_module": "@jupyter-widgets/base",
      "model_module_version": "1.2.0",
      "model_name": "LayoutModel",
      "state": {}
     },
     "2cc626e1aaff4a67b44aa2f1d458b233": {
      "model_module": "@jupyter-widgets/controls",
      "model_module_version": "1.5.0",
      "model_name": "HBoxModel",
      "state": {
       "children": [
        "IPY_MODEL_13262d62275f4aca8497505084299266",
        "IPY_MODEL_4bdbae03cd664dc9bb1e51bd5a002e3a",
        "IPY_MODEL_57be9971bd904af9b559757e42cf564e"
       ],
       "layout": "IPY_MODEL_7d435620d31a44c6ba7ef2ff29cc97b9"
      }
     },
     "2cd99ffb5f014d82a110e7077a4fccda": {
      "model_module": "@jupyter-widgets/base",
      "model_module_version": "1.2.0",
      "model_name": "LayoutModel",
      "state": {}
     },
     "2ce723f204604e8788167c7f24ae5d3b": {
      "model_module": "@jupyter-widgets/controls",
      "model_module_version": "1.5.0",
      "model_name": "CheckboxModel",
      "state": {
       "description": "Disable Medicina",
       "disabled": false,
       "layout": "IPY_MODEL_ee8fda6ec99a41fb9db3fc371f16baf4",
       "style": "IPY_MODEL_e6d8fce0be6846cea5073c16539ea55e",
       "value": false
      }
     },
     "2cf5d801dde94a7383d9d44da37eb13b": {
      "model_module": "@jupyter-widgets/base",
      "model_module_version": "1.2.0",
      "model_name": "LayoutModel",
      "state": {}
     },
     "2cfd9a4087e34cb79fdee49fc0523c18": {
      "model_module": "@jupyter-widgets/controls",
      "model_module_version": "1.5.0",
      "model_name": "FloatSliderModel",
      "state": {
       "description": "270°",
       "layout": "IPY_MODEL_f6538c3ecb3e4bc9b80456a4afff46a2",
       "max": 1,
       "min": -1,
       "step": 0.01,
       "style": "IPY_MODEL_d7cae406fd684a989baf59c08046e5de"
      }
     },
     "2cfe185e01a848f1bf4738862d3b0cea": {
      "model_module": "@jupyter-widgets/controls",
      "model_module_version": "1.5.0",
      "model_name": "DropdownModel",
      "state": {
       "_options_labels": [
        "tanh",
        "atan",
        "simple"
       ],
       "description": "Compression Function:",
       "index": 0,
       "layout": "IPY_MODEL_4e9798967bd94ade861b9b5b4d4b6471",
       "style": "IPY_MODEL_730a29eada864e16bbb6d95a1340f733"
      }
     },
     "2d0eb649676b4f4791de8b8af4dbfb1e": {
      "model_module": "@jupyter-widgets/controls",
      "model_module_version": "1.5.0",
      "model_name": "ButtonModel",
      "state": {
       "description": "Reset Exposure",
       "layout": "IPY_MODEL_9bcf811cf4ca4770adc91402d5546294",
       "style": "IPY_MODEL_eb82c051c0924d91ae08a636c98eb3bb"
      }
     },
     "2d2230a6c8ac4d55a519fc95110627c5": {
      "model_module": "@jupyter-widgets/controls",
      "model_module_version": "1.5.0",
      "model_name": "CheckboxModel",
      "state": {
       "description": "Show Out-of-Gamut",
       "disabled": false,
       "layout": "IPY_MODEL_907c502ffded44a4a5d807d6ea62010d",
       "style": "IPY_MODEL_978727ff5175491c93707e474f4873a3",
       "value": true
      }
     },
     "2d22b7fbda6b4954b7443ee8833fc6f2": {
      "model_module": "@jupyter-widgets/controls",
      "model_module_version": "1.5.0",
      "model_name": "FloatSliderModel",
      "state": {
       "description": "Compression Threshold",
       "layout": "IPY_MODEL_2f17e9ad5c8148eb924dcb35b491f048",
       "max": 1,
       "step": 0.01,
       "style": "IPY_MODEL_44c93f0ea82e4b72bd3efdc7f8abd6c5",
       "value": 0.5
      }
     },
     "2d307c18262c43d8b341c6d3bee4e17b": {
      "model_module": "@jupyter-widgets/controls",
      "model_module_version": "1.5.0",
      "model_name": "FloatSliderModel",
      "state": {
       "description": "135°",
       "layout": "IPY_MODEL_5d1e5906090a4bd8b23bd5a0c73b53dc",
       "max": 1,
       "min": -1,
       "step": 0.01,
       "style": "IPY_MODEL_b1409fb34998467aa9526222e9a61e9d"
      }
     },
     "2d651c0a8d5646549f68701d8a92f4d8": {
      "model_module": "@jupyter-widgets/base",
      "model_module_version": "1.2.0",
      "model_name": "LayoutModel",
      "state": {}
     },
     "2d7cd7bdcd804078a90ba050dfa5adb2": {
      "model_module": "@jupyter-widgets/base",
      "model_module_version": "1.2.0",
      "model_name": "LayoutModel",
      "state": {
       "border": "solid 4px #222",
       "margin": "4px",
       "padding": "0"
      }
     },
     "2d8a403eb58540609b8042f0e070d7da": {
      "model_module": "@jupyter-widgets/controls",
      "model_module_version": "1.5.0",
      "model_name": "ButtonModel",
      "state": {
       "description": "Save Figure",
       "layout": "IPY_MODEL_1c8a70581d724241a3c3108a6f8b751b",
       "style": "IPY_MODEL_2aff52db35f44f74a31000576df340bf"
      }
     },
     "2db4a9f2421d4a3b9a083ef5607319a8": {
      "model_module": "@jupyter-widgets/controls",
      "model_module_version": "1.5.0",
      "model_name": "FloatSliderModel",
      "state": {
       "description": "0°",
       "layout": "IPY_MODEL_de347a39613145a08b294b422fc1fd4a",
       "max": 1,
       "min": -1,
       "step": 0.01,
       "style": "IPY_MODEL_7626ba3c78284734a6edcf5b043ca169"
      }
     },
     "2dd35d3176ae40cbb4a77f5f5b665ed1": {
      "model_module": "@jupyter-widgets/controls",
      "model_module_version": "1.5.0",
      "model_name": "VBoxModel",
      "state": {
       "children": [
        "IPY_MODEL_47efbca496b04fcb8257e61eab902dd0",
        "IPY_MODEL_4d3d06ebef9c41dcbcaab66559ff575e",
        "IPY_MODEL_56f83f40c55f4b589dd4fb0dcba59f36"
       ],
       "layout": "IPY_MODEL_8c51f95eac65410fb1d10049aa9a77b3"
      }
     },
     "2e085c1e82ff473cb1030cab04326145": {
      "model_module": "@jupyter-widgets/controls",
      "model_module_version": "1.5.0",
      "model_name": "ButtonStyleModel",
      "state": {}
     },
     "2e18d72cc8564be19a5dfa378e4322c8": {
      "model_module": "@jupyter-widgets/output",
      "model_module_version": "1.0.0",
      "model_name": "OutputModel",
      "state": {
       "layout": "IPY_MODEL_5e100d7740314944b74f71bc5e5b5a1a",
       "outputs": [
        {
         "data": {
          "application/vnd.jupyter.widget-view+json": {
           "model_id": "5fb04a7d1a914d6b99c8029a313047ca",
           "version_major": 2,
           "version_minor": 0
          },
          "text/plain": "Canvas(toolbar=Toolbar(toolitems=[('Home', 'Reset original view', 'home', 'home'), ('Back', 'Back to previous …"
         },
         "metadata": {},
         "output_type": "display_data"
        }
       ]
      }
     },
     "2e288b7c45bb4301a72d5fde0fd4ee03": {
      "model_module": "@jupyter-widgets/controls",
      "model_module_version": "1.5.0",
      "model_name": "FloatSliderModel",
      "state": {
       "description": "0°",
       "layout": "IPY_MODEL_c6854d31361e42e5afacfd9bb5bd746a",
       "max": 1,
       "min": -1,
       "step": 0.01,
       "style": "IPY_MODEL_7f37019bbaa4490e96273f142aafbed8"
      }
     },
     "2e4580cc2a0a4d15811c1014ff2a930a": {
      "model_module": "@jupyter-widgets/controls",
      "model_module_version": "1.5.0",
      "model_name": "ButtonModel",
      "state": {
       "description": "Reset Hue Controls",
       "layout": "IPY_MODEL_40d30d384d2c4fe9ad04b6a3e9d5e7bb",
       "style": "IPY_MODEL_14f5ba7560ba432bb755e6e2c007091b"
      }
     },
     "2e7ad89c060f46b184c06f05b000b299": {
      "model_module": "@jupyter-widgets/controls",
      "model_module_version": "1.5.0",
      "model_name": "BoxModel",
      "state": {
       "children": [
        "IPY_MODEL_87ff88a880164b978decf08ecd526670",
        "IPY_MODEL_27d4ffbe8d0141f5980fd1f0f22ccb9e"
       ],
       "layout": "IPY_MODEL_0d1d486b6ddd4d3f8ca5452325475eb5"
      }
     },
     "2eb0191c361e4ec4a5800339cf91ad7d": {
      "model_module": "@jupyter-widgets/controls",
      "model_module_version": "1.5.0",
      "model_name": "DescriptionStyleModel",
      "state": {
       "description_width": ""
      }
     },
     "2ec3291220564948b15f29d277046176": {
      "model_module": "@jupyter-widgets/base",
      "model_module_version": "1.2.0",
      "model_name": "LayoutModel",
      "state": {}
     },
     "2ec93497ba4e48e99196de165bba0c9b": {
      "model_module": "@jupyter-widgets/controls",
      "model_module_version": "1.5.0",
      "model_name": "DescriptionStyleModel",
      "state": {
       "description_width": ""
      }
     },
     "2ee1f19d129b4b6aa7b27429460aa8e3": {
      "model_module": "@jupyter-widgets/controls",
      "model_module_version": "1.5.0",
      "model_name": "ButtonModel",
      "state": {
       "description": "Reset Hue Controls",
       "layout": "IPY_MODEL_d13cbeadd70e4f2dbc9228d654e1cae6",
       "style": "IPY_MODEL_f0f90829dbc64181af0e6bebaba5db26"
      }
     },
     "2f022cda84fa445bb5588a19e9b796f7": {
      "model_module": "@jupyter-widgets/base",
      "model_module_version": "1.2.0",
      "model_name": "LayoutModel",
      "state": {}
     },
     "2f02612e13d548e8817570175b285d9c": {
      "model_module": "@jupyter-widgets/controls",
      "model_module_version": "1.5.0",
      "model_name": "SliderStyleModel",
      "state": {
       "description_width": ""
      }
     },
     "2f17e9ad5c8148eb924dcb35b491f048": {
      "model_module": "@jupyter-widgets/base",
      "model_module_version": "1.2.0",
      "model_name": "LayoutModel",
      "state": {}
     },
     "2f194e500f9846b7b7bee5f6218f2ce3": {
      "model_module": "@jupyter-widgets/controls",
      "model_module_version": "1.5.0",
      "model_name": "ButtonModel",
      "state": {
       "description": "Save Figure",
       "layout": "IPY_MODEL_ac4536c3957446f98aa4447aa1e54800",
       "style": "IPY_MODEL_8a5961daf5e74e67a2080957f29022c8"
      }
     },
     "2f329a8294294d6fb1f9b793e817a1cc": {
      "model_module": "@jupyter-widgets/controls",
      "model_module_version": "1.5.0",
      "model_name": "FloatSliderModel",
      "state": {
       "description": "315°",
       "layout": "IPY_MODEL_7f912d1fb5254f96a2ceab40fdc95c6e",
       "max": 1,
       "min": -1,
       "step": 0.01,
       "style": "IPY_MODEL_5a04c4f1486448668e698dd66bbe4d46"
      }
     },
     "2f417645cfa84a1381f1701262b5f59d": {
      "model_module": "@jupyter-widgets/controls",
      "model_module_version": "1.5.0",
      "model_name": "VBoxModel",
      "state": {
       "children": [
        "IPY_MODEL_c056400010b841da80ad99e4d5627943",
        "IPY_MODEL_b9c9ca369383408fba0b478d2a950acc",
        "IPY_MODEL_71c85e7b25014fedae24e7f3a531fdf8"
       ],
       "layout": "IPY_MODEL_189562f9e395437ca96f8f0ff8231215"
      }
     },
     "2f44aa3ef8d9472f964cc940eabaa4f8": {
      "model_module": "@jupyter-widgets/controls",
      "model_module_version": "1.5.0",
      "model_name": "VBoxModel",
      "state": {
       "children": [
        "IPY_MODEL_f3dd8e74eb2f4855b4c939032fdda4ef",
        "IPY_MODEL_4884baf7ad6b4ea6bb4c76feaf1a1752",
        "IPY_MODEL_cafab99946bf430dbc52501b9aad0a06"
       ],
       "layout": "IPY_MODEL_1abcdd08b43f4d2bbeeeeec29a2490a7"
      }
     },
     "2fa161bd5c4e4712af8b426a42ffb30b": {
      "model_module": "@jupyter-widgets/controls",
      "model_module_version": "1.5.0",
      "model_name": "DropdownModel",
      "state": {
       "_options_labels": [
        "tanh",
        "atan",
        "simple"
       ],
       "description": "Compression Function:",
       "index": 0,
       "layout": "IPY_MODEL_271e0eefd02f4754844cac626c5de88f",
       "style": "IPY_MODEL_847eb1beb6764c72b12839f028e0adca"
      }
     },
     "2fa1ad07e8e84af29d8e848a3a22f6a4": {
      "model_module": "jupyter-matplotlib",
      "model_module_version": "^0.7.2",
      "model_name": "ToolbarModel",
      "state": {
       "layout": "IPY_MODEL_180eaa7ad053421ab580a9cadd4fc40f",
       "toolitems": [
        [
         "Home",
         "Reset original view",
         "home",
         "home"
        ],
        [
         "Back",
         "Back to previous view",
         "arrow-left",
         "back"
        ],
        [
         "Forward",
         "Forward to next view",
         "arrow-right",
         "forward"
        ],
        [
         "Pan",
         "Pan axes with left mouse, zoom with right",
         "arrows",
         "pan"
        ],
        [
         "Zoom",
         "Zoom to rectangle",
         "square-o",
         "zoom"
        ],
        [
         "Download",
         "Download plot",
         "floppy-o",
         "save_figure"
        ]
       ]
      }
     },
     "2fac5fc979e249be95d9a39c711f3e5c": {
      "model_module": "@jupyter-widgets/base",
      "model_module_version": "1.2.0",
      "model_name": "LayoutModel",
      "state": {}
     },
     "2fb5c1b4f7f44446a68fffa0d358876b": {
      "model_module": "@jupyter-widgets/base",
      "model_module_version": "1.2.0",
      "model_name": "LayoutModel",
      "state": {}
     },
     "2fcd1c184a03454393689a1d5c775d22": {
      "model_module": "@jupyter-widgets/base",
      "model_module_version": "1.2.0",
      "model_name": "LayoutModel",
      "state": {}
     },
     "2fe4857e87eb4e2c94b89311da53b801": {
      "model_module": "@jupyter-widgets/controls",
      "model_module_version": "1.5.0",
      "model_name": "BoxModel",
      "state": {
       "children": [
        "IPY_MODEL_2b725fb8f81e4616a0fecfec1fa52b31",
        "IPY_MODEL_c7d44a47046949e3890a59c0ecbf6e89"
       ],
       "layout": "IPY_MODEL_f373bd6e4fcf423ca157c0d2294e86ef"
      }
     },
     "305dba75b11a48c0972c33d99225c68b": {
      "model_module": "@jupyter-widgets/base",
      "model_module_version": "1.2.0",
      "model_name": "LayoutModel",
      "state": {}
     },
     "306187c2fa9c4993bdaf63511806ca5e": {
      "model_module": "@jupyter-widgets/controls",
      "model_module_version": "1.5.0",
      "model_name": "ButtonStyleModel",
      "state": {}
     },
     "306739b666754799b8591a4b7f577e2d": {
      "model_module": "@jupyter-widgets/base",
      "model_module_version": "1.2.0",
      "model_name": "LayoutModel",
      "state": {}
     },
     "308f592a58dd413caf0bbefdc843e91b": {
      "model_module": "@jupyter-widgets/controls",
      "model_module_version": "1.5.0",
      "model_name": "FloatSliderModel",
      "state": {
       "description": "90°",
       "layout": "IPY_MODEL_6413fbda52d34b0db4342b08f8266b0b",
       "max": 1,
       "min": -1,
       "step": 0.01,
       "style": "IPY_MODEL_623076bcfbe2469982377bd2fddf6a89"
      }
     },
     "30a5ee477578458f84aec9266cd39c04": {
      "model_module": "@jupyter-widgets/base",
      "model_module_version": "1.2.0",
      "model_name": "LayoutModel",
      "state": {}
     },
     "30b32e06a72b487d951a3cc54a95b977": {
      "model_module": "@jupyter-widgets/controls",
      "model_module_version": "1.5.0",
      "model_name": "SliderStyleModel",
      "state": {
       "description_width": ""
      }
     },
     "30f2b72176f9499cb10bb63fc805506d": {
      "model_module": "@jupyter-widgets/controls",
      "model_module_version": "1.5.0",
      "model_name": "DescriptionStyleModel",
      "state": {
       "description_width": ""
      }
     },
     "31234619df23401fbb6a944618832127": {
      "model_module": "@jupyter-widgets/base",
      "model_module_version": "1.2.0",
      "model_name": "LayoutModel",
      "state": {}
     },
     "313eb256d40d406f838292d5f9ab939e": {
      "model_module": "@jupyter-widgets/controls",
      "model_module_version": "1.5.0",
      "model_name": "DropdownModel",
      "state": {
       "_options_labels": [
        "sRGB",
        "ACES (sRGB)"
       ],
       "description": "View Transform:",
       "index": 0,
       "layout": "IPY_MODEL_c4485830911f4122a280c4f19a33322e",
       "style": "IPY_MODEL_2ec93497ba4e48e99196de165bba0c9b"
      }
     },
     "3164e4462eee43858652bc4ffeb240e9": {
      "model_module": "@jupyter-widgets/controls",
      "model_module_version": "1.5.0",
      "model_name": "ButtonStyleModel",
      "state": {}
     },
     "31699aaf806c43aba594304b174c4036": {
      "model_module": "@jupyter-widgets/controls",
      "model_module_version": "1.5.0",
      "model_name": "ButtonModel",
      "state": {
       "description": "Reset Saturation Controls",
       "layout": "IPY_MODEL_0a8b7d4c6c6c4254b7311f65315b23cb",
       "style": "IPY_MODEL_d8757c1e517744599f834edb6982f086"
      }
     },
     "317c767ff7f441f99692428e1645bf07": {
      "model_module": "@jupyter-widgets/base",
      "model_module_version": "1.2.0",
      "model_name": "LayoutModel",
      "state": {}
     },
     "318517b8dc664adfb621af1c0fe84ec3": {
      "model_module": "@jupyter-widgets/base",
      "model_module_version": "1.2.0",
      "model_name": "LayoutModel",
      "state": {}
     },
     "31a0d9ca09924fa190996c5ded7d04a7": {
      "model_module": "@jupyter-widgets/base",
      "model_module_version": "1.2.0",
      "model_name": "LayoutModel",
      "state": {}
     },
     "31c8599505d4466091cbeb301004f741": {
      "model_module": "@jupyter-widgets/controls",
      "model_module_version": "1.5.0",
      "model_name": "FloatSliderModel",
      "state": {
       "description": "Protected Area Threshold",
       "layout": "IPY_MODEL_bfa9dbbd57c0457181c2b59f0ecf830d",
       "max": 1,
       "step": 0.01,
       "style": "IPY_MODEL_3b3287c0fa2f423eb158ad1451d130db",
       "value": 0.7
      }
     },
     "31d01b26e42c4cc384a31587bf392e5b": {
      "model_module": "@jupyter-widgets/controls",
      "model_module_version": "1.5.0",
      "model_name": "TabModel",
      "state": {
       "_titles": {
        "0": "Global Controls",
        "1": "Viewer Controls",
        "2": "Compression Controls"
       },
       "children": [
        "IPY_MODEL_e0827974dda04ef4815d8bd65677855b",
        "IPY_MODEL_a5ef5394db5445a5b9c418906c989cf1",
        "IPY_MODEL_febf557a123c4f22850616421a761382"
       ],
       "layout": "IPY_MODEL_651f57cc0afd458dafb783cfce2ea21c"
      }
     },
     "31dc0a56e40c47338a889c563c96d458": {
      "model_module": "@jupyter-widgets/base",
      "model_module_version": "1.2.0",
      "model_name": "LayoutModel",
      "state": {}
     },
     "31ee86f7b13e46b4ac1b37aa1b97425b": {
      "model_module": "@jupyter-widgets/output",
      "model_module_version": "1.0.0",
      "model_name": "OutputModel",
      "state": {
       "layout": "IPY_MODEL_c8b3785a40744c37b4953b39a198566c",
       "outputs": [
        {
         "data": {
          "application/vnd.jupyter.widget-view+json": {
           "model_id": "7780229e8ee54c5ebcb0ed5bddaa5492",
           "version_major": 2,
           "version_minor": 0
          },
          "text/plain": "Canvas(toolbar=Toolbar(toolitems=[('Home', 'Reset original view', 'home', 'home'), ('Back', 'Back to previous …"
         },
         "metadata": {},
         "output_type": "display_data"
        }
       ]
      }
     },
     "31fd5bdea30b458b9f02a3dc71812e2c": {
      "model_module": "@jupyter-widgets/base",
      "model_module_version": "1.2.0",
      "model_name": "LayoutModel",
      "state": {}
     },
     "3205f7da9c5d4c3c9cfcbd60be32d77a": {
      "model_module": "@jupyter-widgets/controls",
      "model_module_version": "1.5.0",
      "model_name": "SliderStyleModel",
      "state": {
       "description_width": ""
      }
     },
     "320dbe48d1b7471abee4d80128e1d0dc": {
      "model_module": "@jupyter-widgets/base",
      "model_module_version": "1.2.0",
      "model_name": "LayoutModel",
      "state": {}
     },
     "324d9a3e441849a5819de873aed09873": {
      "model_module": "@jupyter-widgets/controls",
      "model_module_version": "1.5.0",
      "model_name": "HBoxModel",
      "state": {
       "children": [
        "IPY_MODEL_3b4a1e9121b04721bd413d457998ef0f",
        "IPY_MODEL_61e089c5940e40cd8f7d3661aeb7db0a"
       ],
       "layout": "IPY_MODEL_ed3455068eb64c96b0a94968f2aaa100"
      }
     },
     "32544890b709490cabfd217a7fb0552f": {
      "model_module": "@jupyter-widgets/base",
      "model_module_version": "1.2.0",
      "model_name": "LayoutModel",
      "state": {}
     },
     "325d404d9890400a940305572da6baa1": {
      "model_module": "@jupyter-widgets/base",
      "model_module_version": "1.2.0",
      "model_name": "LayoutModel",
      "state": {}
     },
     "328cbeb5cbb94ecbb7e2087d52bf635d": {
      "model_module": "@jupyter-widgets/controls",
      "model_module_version": "1.5.0",
      "model_name": "HBoxModel",
      "state": {
       "children": [
        "IPY_MODEL_619e8469c8da43149153023ad8e9fdd6",
        "IPY_MODEL_7c79cd4adf5843b89aa029b95152d7e7",
        "IPY_MODEL_2f44aa3ef8d9472f964cc940eabaa4f8",
        "IPY_MODEL_7a9ea5e2e71945bdb3c58179e564414d"
       ],
       "layout": "IPY_MODEL_99cb1b1fb1744690b4477542237b4d93"
      }
     },
     "329397cd4dda449697d4172e899405d0": {
      "model_module": "@jupyter-widgets/controls",
      "model_module_version": "1.5.0",
      "model_name": "FloatSliderModel",
      "state": {
       "description": "45°",
       "layout": "IPY_MODEL_025464d4aec847ceaa7582973fff17ac",
       "max": 1,
       "min": -1,
       "step": 0.01,
       "style": "IPY_MODEL_b425fd925fb441b792dab75754c15a0b"
      }
     },
     "32a2af6cb4d947b0b7847c76d4102e2d": {
      "model_module": "@jupyter-widgets/base",
      "model_module_version": "1.2.0",
      "model_name": "LayoutModel",
      "state": {}
     },
     "32a91bf6427f4d5d9e7db36050982ee1": {
      "model_module": "@jupyter-widgets/base",
      "model_module_version": "1.2.0",
      "model_name": "LayoutModel",
      "state": {}
     },
     "32d508c8b24649869e2964be893f8c3d": {
      "model_module": "@jupyter-widgets/base",
      "model_module_version": "1.2.0",
      "model_name": "LayoutModel",
      "state": {}
     },
     "32d9a61fc4584b05a0c7f2351492f0ed": {
      "model_module": "@jupyter-widgets/base",
      "model_module_version": "1.2.0",
      "model_name": "LayoutModel",
      "state": {}
     },
     "32f2dd248e564a159b86341318a14ec5": {
      "model_module": "@jupyter-widgets/base",
      "model_module_version": "1.2.0",
      "model_name": "LayoutModel",
      "state": {}
     },
     "339611b2c9ef489389981a308edd5954": {
      "model_module": "jupyter-matplotlib",
      "model_module_version": "^0.7.2",
      "model_name": "ToolbarModel",
      "state": {
       "layout": "IPY_MODEL_f37e93fbcac34414a2983a76af51d70f",
       "toolitems": [
        [
         "Home",
         "Reset original view",
         "home",
         "home"
        ],
        [
         "Back",
         "Back to previous view",
         "arrow-left",
         "back"
        ],
        [
         "Forward",
         "Forward to next view",
         "arrow-right",
         "forward"
        ],
        [
         "Pan",
         "Pan axes with left mouse, zoom with right",
         "arrows",
         "pan"
        ],
        [
         "Zoom",
         "Zoom to rectangle",
         "square-o",
         "zoom"
        ],
        [
         "Download",
         "Download plot",
         "floppy-o",
         "save_figure"
        ]
       ]
      }
     },
     "33a35bc9082248508dea28b1491fcffc": {
      "model_module": "@jupyter-widgets/controls",
      "model_module_version": "1.5.0",
      "model_name": "DescriptionStyleModel",
      "state": {
       "description_width": ""
      }
     },
     "33bf65024f574732b315b4ed8065775f": {
      "model_module": "@jupyter-widgets/base",
      "model_module_version": "1.2.0",
      "model_name": "LayoutModel",
      "state": {}
     },
     "33c722a82c38499dad201a888c96cfe7": {
      "model_module": "@jupyter-widgets/base",
      "model_module_version": "1.2.0",
      "model_name": "LayoutModel",
      "state": {}
     },
     "34352e6271ce40b79453a88a8a649b4a": {
      "model_module": "@jupyter-widgets/controls",
      "model_module_version": "1.5.0",
      "model_name": "ButtonModel",
      "state": {
       "description": "Reset Exposure",
       "layout": "IPY_MODEL_9616f853828345258eaef57dfb9bd94f",
       "style": "IPY_MODEL_ff004972b3a14616a267f745278989d1"
      }
     },
     "34778f80065e43a5b12b04bd3f5b6a11": {
      "model_module": "@jupyter-widgets/controls",
      "model_module_version": "1.5.0",
      "model_name": "SliderStyleModel",
      "state": {
       "description_width": ""
      }
     },
     "34a0a32c849a4259a665d608bb3d3a59": {
      "model_module": "@jupyter-widgets/base",
      "model_module_version": "1.2.0",
      "model_name": "LayoutModel",
      "state": {}
     },
     "34a9269b58174e71b3a2d48f65977f38": {
      "model_module": "@jupyter-widgets/base",
      "model_module_version": "1.2.0",
      "model_name": "LayoutModel",
      "state": {}
     },
     "34ad77c817004229b0ce6643e4463c02": {
      "model_module": "@jupyter-widgets/base",
      "model_module_version": "1.2.0",
      "model_name": "LayoutModel",
      "state": {}
     },
     "34c6b0f6b1f04df38e44894b8122c74e": {
      "model_module": "@jupyter-widgets/controls",
      "model_module_version": "1.5.0",
      "model_name": "ButtonModel",
      "state": {
       "description": "Export Image",
       "layout": "IPY_MODEL_8ee7386053b845cf82d7228ca68e50d2",
       "style": "IPY_MODEL_f741201b9ff14ee89b2e00aae59cc938"
      }
     },
     "34c7f86442114221955aa9ac9e65e70f": {
      "model_module": "@jupyter-widgets/controls",
      "model_module_version": "1.5.0",
      "model_name": "DescriptionStyleModel",
      "state": {
       "description_width": ""
      }
     },
     "34f06b63ca5d4e4f9761f650d51f993e": {
      "model_module": "@jupyter-widgets/base",
      "model_module_version": "1.2.0",
      "model_name": "LayoutModel",
      "state": {}
     },
     "34fa099a23054319bf3d9c885fa8d3e1": {
      "model_module": "@jupyter-widgets/base",
      "model_module_version": "1.2.0",
      "model_name": "LayoutModel",
      "state": {}
     },
     "352a0de2736c4dbeb3374ef91c5c5b29": {
      "model_module": "@jupyter-widgets/controls",
      "model_module_version": "1.5.0",
      "model_name": "FloatSliderModel",
      "state": {
       "description": "315°",
       "layout": "IPY_MODEL_72085dc04464443fb2471dad2ecf7914",
       "max": 1,
       "min": -1,
       "step": 0.01,
       "style": "IPY_MODEL_81fcb3263e814e5fa040082ba5e4ce0a"
      }
     },
     "35352d5a59704f0dbc196660ffa1f233": {
      "model_module": "@jupyter-widgets/controls",
      "model_module_version": "1.5.0",
      "model_name": "DropdownModel",
      "state": {
       "_options_labels": [
        "sRGB",
        "ACES (sRGB)"
       ],
       "description": "View Transform:",
       "index": 0,
       "layout": "IPY_MODEL_61d2525707f4466cbaf12dd9fd05ff74",
       "style": "IPY_MODEL_64ae88eb8db3492cbb7d528388fadc89"
      }
     },
     "353ae1fd2a31455ebfb902c5d32a1877": {
      "model_module": "@jupyter-widgets/base",
      "model_module_version": "1.2.0",
      "model_name": "LayoutModel",
      "state": {}
     },
     "356f72678be74d7192a6babe21e48ca5": {
      "model_module": "@jupyter-widgets/base",
      "model_module_version": "1.2.0",
      "model_name": "LayoutModel",
      "state": {}
     },
     "357e18d60fd14046a3a77dd9b98a3196": {
      "model_module": "@jupyter-widgets/base",
      "model_module_version": "1.2.0",
      "model_name": "LayoutModel",
      "state": {}
     },
     "35b9ab549e484c6c8501745d63854d1b": {
      "model_module": "@jupyter-widgets/base",
      "model_module_version": "1.2.0",
      "model_name": "LayoutModel",
      "state": {}
     },
     "36030af0ccfb491393f9cef6ca306f4d": {
      "model_module": "@jupyter-widgets/controls",
      "model_module_version": "1.5.0",
      "model_name": "HBoxModel",
      "state": {
       "children": [
        "IPY_MODEL_55678fa355df49cdbd23e8bd9a3e4e35",
        "IPY_MODEL_ff2ae56b382d4a4ca5f35b70490ca4ac",
        "IPY_MODEL_3a327544e8d441899ef84cc4b9917b52",
        "IPY_MODEL_5e5d76f35a8646abbd810133fb8be2bd"
       ],
       "layout": "IPY_MODEL_8854dee3d7324f36aeff6b05d81e330f"
      }
     },
     "36099b42e5214ba297101fb770c6d95d": {
      "model_module": "@jupyter-widgets/base",
      "model_module_version": "1.2.0",
      "model_name": "LayoutModel",
      "state": {}
     },
     "361e4eb125df4f1e828dbb4e468f0c7f": {
      "model_module": "@jupyter-widgets/controls",
      "model_module_version": "1.5.0",
      "model_name": "FloatSliderModel",
      "state": {
       "description": "Compression Threshold",
       "layout": "IPY_MODEL_51345f7c23564962ac1778075db48e5f",
       "max": 1,
       "step": 0.01,
       "style": "IPY_MODEL_12a386203bf4487f9e4c9ef49da4760a",
       "value": 0.8
      }
     },
     "3627cecc3adc4ce48cf0103c5ece53ba": {
      "model_module": "@jupyter-widgets/base",
      "model_module_version": "1.2.0",
      "model_name": "LayoutModel",
      "state": {}
     },
     "36a6070c901e4c1ab4f6bfc6da0db2c1": {
      "model_module": "@jupyter-widgets/controls",
      "model_module_version": "1.5.0",
      "model_name": "FloatSliderModel",
      "state": {
       "description": "315°",
       "layout": "IPY_MODEL_b07998764e26490d8a981ca305cfdc3e",
       "max": 1,
       "min": -1,
       "step": 0.01,
       "style": "IPY_MODEL_f0a7d857266849f48fcd3d788b9b03b7"
      }
     },
     "36aece59623b4118a75d7d434272b54d": {
      "model_module": "@jupyter-widgets/base",
      "model_module_version": "1.2.0",
      "model_name": "LayoutModel",
      "state": {}
     },
     "36c2ba66ac5e4fe29dd466b0097ed89b": {
      "model_module": "@jupyter-widgets/base",
      "model_module_version": "1.2.0",
      "model_name": "LayoutModel",
      "state": {
       "border": "solid 4px #222",
       "margin": "4px",
       "padding": "0"
      }
     },
     "36f2000987084a85a57e5114c8058bd8": {
      "model_module": "jupyter-matplotlib",
      "model_module_version": "^0.7.2",
      "model_name": "ToolbarModel",
      "state": {
       "layout": "IPY_MODEL_7d5bf85fb090434784635a1cffa563be",
       "toolitems": [
        [
         "Home",
         "Reset original view",
         "home",
         "home"
        ],
        [
         "Back",
         "Back to previous view",
         "arrow-left",
         "back"
        ],
        [
         "Forward",
         "Forward to next view",
         "arrow-right",
         "forward"
        ],
        [
         "Pan",
         "Pan axes with left mouse, zoom with right",
         "arrows",
         "pan"
        ],
        [
         "Zoom",
         "Zoom to rectangle",
         "square-o",
         "zoom"
        ],
        [
         "Download",
         "Download plot",
         "floppy-o",
         "save_figure"
        ]
       ]
      }
     },
     "37012a1c44be4117be8626e787a4415d": {
      "model_module": "@jupyter-widgets/controls",
      "model_module_version": "1.5.0",
      "model_name": "SliderStyleModel",
      "state": {
       "description_width": ""
      }
     },
     "371cc2a419514760b230347de8120bdc": {
      "model_module": "@jupyter-widgets/controls",
      "model_module_version": "1.5.0",
      "model_name": "ButtonModel",
      "state": {
       "description": "Reset Exposure",
       "layout": "IPY_MODEL_f8b21a1dc3d14598b409cebaa234f503",
       "style": "IPY_MODEL_274b6b2648554ba19e34c5c40609e96c"
      }
     },
     "3724255781bd4be8beb23b4b4e0c3366": {
      "model_module": "@jupyter-widgets/controls",
      "model_module_version": "1.5.0",
      "model_name": "SliderStyleModel",
      "state": {
       "description_width": ""
      }
     },
     "373e789c763d42e08b0981ac6690d101": {
      "model_module": "@jupyter-widgets/base",
      "model_module_version": "1.2.0",
      "model_name": "LayoutModel",
      "state": {}
     },
     "3803b6e80ceb487c979fb5d585163b8a": {
      "model_module": "@jupyter-widgets/controls",
      "model_module_version": "1.5.0",
      "model_name": "FloatSliderModel",
      "state": {
       "description": "270°",
       "layout": "IPY_MODEL_20764e5930fc439c8a13e3b4cde87b98",
       "max": 1,
       "min": -1,
       "step": 0.01,
       "style": "IPY_MODEL_38fe7bb8f53743e3b267b6af0a3b30ff"
      }
     },
     "3860a21676f54255baed50e7e16eda7b": {
      "model_module": "@jupyter-widgets/base",
      "model_module_version": "1.2.0",
      "model_name": "LayoutModel",
      "state": {}
     },
     "3865073fb00c42739bc6281bcf8ad708": {
      "model_module": "@jupyter-widgets/base",
      "model_module_version": "1.2.0",
      "model_name": "LayoutModel",
      "state": {
       "border": "solid 4px #222",
       "margin": "4px",
       "padding": "0"
      }
     },
     "388c1beb013c41e8932d949f1af9f61b": {
      "model_module": "@jupyter-widgets/base",
      "model_module_version": "1.2.0",
      "model_name": "LayoutModel",
      "state": {}
     },
     "38a3556837734a5ebca4d797b18aa943": {
      "model_module": "@jupyter-widgets/base",
      "model_module_version": "1.2.0",
      "model_name": "LayoutModel",
      "state": {}
     },
     "38d7041397384eacbf247bbcef99662b": {
      "model_module": "@jupyter-widgets/controls",
      "model_module_version": "1.5.0",
      "model_name": "CheckboxModel",
      "state": {
       "description": "Show Out-of-Gamut",
       "disabled": false,
       "layout": "IPY_MODEL_5719e6eb2af741c78a240eaf95a4c13f",
       "style": "IPY_MODEL_91e60b955024490e87b31effb44c40b5",
       "value": false
      }
     },
     "38fe7bb8f53743e3b267b6af0a3b30ff": {
      "model_module": "@jupyter-widgets/controls",
      "model_module_version": "1.5.0",
      "model_name": "SliderStyleModel",
      "state": {
       "description_width": ""
      }
     },
     "39148139ea29419f8e22f8c47a797422": {
      "model_module": "@jupyter-widgets/controls",
      "model_module_version": "1.5.0",
      "model_name": "SliderStyleModel",
      "state": {
       "description_width": ""
      }
     },
     "39150d0eec3e476ba25603904d7a5a8b": {
      "model_module": "@jupyter-widgets/controls",
      "model_module_version": "1.5.0",
      "model_name": "DropdownModel",
      "state": {
       "_options_labels": [
        "tanh",
        "atan",
        "simple"
       ],
       "description": "Compression Function:",
       "index": 0,
       "layout": "IPY_MODEL_f417163496be4990bddc572381cd44aa",
       "style": "IPY_MODEL_d101c82f12d545278fc095ae351c80f4"
      }
     },
     "39548cbd443c4e9698756931bdd95c2c": {
      "model_module": "@jupyter-widgets/base",
      "model_module_version": "1.2.0",
      "model_name": "LayoutModel",
      "state": {}
     },
     "39666e6c81d24e00b937eb4ce503ca89": {
      "model_module": "@jupyter-widgets/base",
      "model_module_version": "1.2.0",
      "model_name": "LayoutModel",
      "state": {}
     },
     "3969621da9d04632abe4f8c76a1923b0": {
      "model_module": "@jupyter-widgets/base",
      "model_module_version": "1.2.0",
      "model_name": "LayoutModel",
      "state": {}
     },
     "39706bfbc2564d9fb40ee80cf0b0ed0c": {
      "model_module": "@jupyter-widgets/controls",
      "model_module_version": "1.5.0",
      "model_name": "SliderStyleModel",
      "state": {
       "description_width": ""
      }
     },
     "397d5d39069441b480be633316a74da2": {
      "model_module": "@jupyter-widgets/base",
      "model_module_version": "1.2.0",
      "model_name": "LayoutModel",
      "state": {}
     },
     "39c7dc95e0ae404d986c9c3a21f2d25b": {
      "model_module": "@jupyter-widgets/controls",
      "model_module_version": "1.5.0",
      "model_name": "FloatSliderModel",
      "state": {
       "description": "135°",
       "layout": "IPY_MODEL_8af6955b52404520a53ecfed877bee64",
       "max": 1,
       "min": -1,
       "step": 0.01,
       "style": "IPY_MODEL_c9c484e08de74a1bb972bed4af6272e0"
      }
     },
     "39dfd58831ba49aca15c59936abe0e56": {
      "model_module": "@jupyter-widgets/controls",
      "model_module_version": "1.5.0",
      "model_name": "SliderStyleModel",
      "state": {
       "description_width": ""
      }
     },
     "39e4d40ee5534e7bb0f198d9b7407511": {
      "model_module": "@jupyter-widgets/base",
      "model_module_version": "1.2.0",
      "model_name": "LayoutModel",
      "state": {}
     },
     "3a327544e8d441899ef84cc4b9917b52": {
      "model_module": "@jupyter-widgets/controls",
      "model_module_version": "1.5.0",
      "model_name": "VBoxModel",
      "state": {
       "children": [
        "IPY_MODEL_6de227f596fd4123a0d2d42ddb7beca7",
        "IPY_MODEL_0deeaa3153894ac2b5e6be31400e2df7",
        "IPY_MODEL_7758a2a017754a7b9ed9d777721066a6"
       ],
       "layout": "IPY_MODEL_7deda6b9f41a441ca8cd5a5963cf4926"
      }
     },
     "3a61a69527ea446785ed7eb37feb86b5": {
      "model_module": "@jupyter-widgets/base",
      "model_module_version": "1.2.0",
      "model_name": "LayoutModel",
      "state": {}
     },
     "3a7a6de8de03467392af82c992cf9658": {
      "model_module": "@jupyter-widgets/base",
      "model_module_version": "1.2.0",
      "model_name": "LayoutModel",
      "state": {}
     },
     "3a7b656f73d64ea2bf58ed26084b5a24": {
      "model_module": "@jupyter-widgets/controls",
      "model_module_version": "1.5.0",
      "model_name": "DescriptionStyleModel",
      "state": {
       "description_width": ""
      }
     },
     "3a8c37b8ed8d40e8952a8e351b6d1f8c": {
      "model_module": "@jupyter-widgets/base",
      "model_module_version": "1.2.0",
      "model_name": "LayoutModel",
      "state": {}
     },
     "3a8caa91a64244eb9918d3c911f30dc5": {
      "model_module": "@jupyter-widgets/controls",
      "model_module_version": "1.5.0",
      "model_name": "HBoxModel",
      "state": {
       "children": [
        "IPY_MODEL_815b2c844a154e83a3b5d2d19bbdd1c3",
        "IPY_MODEL_b7b58171805145ba8feee56e882a2a4e",
        "IPY_MODEL_577567ec968e4cddbab9b800bc9747c0"
       ],
       "layout": "IPY_MODEL_8c93cc4218f94dc798c2615564221c61"
      }
     },
     "3a96f618011a49f589338eac510325f8": {
      "model_module": "@jupyter-widgets/controls",
      "model_module_version": "1.5.0",
      "model_name": "HBoxModel",
      "state": {
       "children": [
        "IPY_MODEL_45456cf9add64b02b451a6885e58effc",
        "IPY_MODEL_d393a4a455c947b68a0d42d294e592e8",
        "IPY_MODEL_0dfbe68e823944e4a166aacfbc05752f",
        "IPY_MODEL_607d28276333412388cb109e7964e4e3"
       ],
       "layout": "IPY_MODEL_81b801c52e844bf2a30d4f1ef2586319"
      }
     },
     "3abee584ebcc4a0c9b982287a0a404d4": {
      "model_module": "@jupyter-widgets/controls",
      "model_module_version": "1.5.0",
      "model_name": "ButtonStyleModel",
      "state": {}
     },
     "3b2ea11e5fe5480ea27f17e063785cf5": {
      "model_module": "@jupyter-widgets/base",
      "model_module_version": "1.2.0",
      "model_name": "LayoutModel",
      "state": {}
     },
     "3b3287c0fa2f423eb158ad1451d130db": {
      "model_module": "@jupyter-widgets/controls",
      "model_module_version": "1.5.0",
      "model_name": "SliderStyleModel",
      "state": {
       "description_width": ""
      }
     },
     "3b4a1e9121b04721bd413d457998ef0f": {
      "model_module": "@jupyter-widgets/controls",
      "model_module_version": "1.5.0",
      "model_name": "ButtonModel",
      "state": {
       "description": "Reset Protected Area",
       "layout": "IPY_MODEL_7730b4af51fe4da7b51316ff914e8353",
       "style": "IPY_MODEL_b7cc47053e2c4a7099be6a3e28efaf26"
      }
     },
     "3b6244d989724436ab44910504914142": {
      "model_module": "@jupyter-widgets/controls",
      "model_module_version": "1.5.0",
      "model_name": "CheckboxModel",
      "state": {
       "description": "Disable Medicina",
       "disabled": false,
       "layout": "IPY_MODEL_b5966f9d9b56476c864cadacffc8153b",
       "style": "IPY_MODEL_2c9ec0322a7d416c99ed2146d9cb9b15",
       "value": false
      }
     },
     "3bacae7731da4ce6b9cccbb4adc1f59a": {
      "model_module": "@jupyter-widgets/controls",
      "model_module_version": "1.5.0",
      "model_name": "VBoxModel",
      "state": {
       "children": [
        "IPY_MODEL_e9e9fed595d64659a2fef2e4ddb763fa",
        "IPY_MODEL_b8816ef904c84254a4a81a0e08fbef45",
        "IPY_MODEL_0d8fa54174e24777955aa0b87165a73f"
       ],
       "layout": "IPY_MODEL_b52ee18aad7e456585523a6b95601e50"
      }
     },
     "3bc28c9a395a4a67b4d0d3cef0b9eaa6": {
      "model_module": "@jupyter-widgets/base",
      "model_module_version": "1.2.0",
      "model_name": "LayoutModel",
      "state": {
       "align_items": "stretch",
       "display": "flex",
       "flex_flow": "column",
       "width": "1128px"
      }
     },
     "3bdf12803ff3423eaba394110af885d2": {
      "model_module": "@jupyter-widgets/base",
      "model_module_version": "1.2.0",
      "model_name": "LayoutModel",
      "state": {}
     },
     "3bed5bf0eb664a10bce53881cdfaa76a": {
      "model_module": "@jupyter-widgets/controls",
      "model_module_version": "1.5.0",
      "model_name": "SliderStyleModel",
      "state": {
       "description_width": ""
      }
     },
     "3bf5d56527eb4aaeb88b648d44ab395b": {
      "model_module": "@jupyter-widgets/base",
      "model_module_version": "1.2.0",
      "model_name": "LayoutModel",
      "state": {}
     },
     "3c18d760e4c14a6fb283b3876843f443": {
      "model_module": "@jupyter-widgets/controls",
      "model_module_version": "1.5.0",
      "model_name": "CheckboxModel",
      "state": {
       "description": "Show Out-of-Gamut",
       "disabled": false,
       "layout": "IPY_MODEL_ad34e278919c4f5d9fa7cf5e7842c461",
       "style": "IPY_MODEL_a1b6d896a9ec4d15858badc836402d7e",
       "value": false
      }
     },
     "3c2e52a8fac947c5bf04e0b53a2bbfc6": {
      "model_module": "@jupyter-widgets/controls",
      "model_module_version": "1.5.0",
      "model_name": "ButtonModel",
      "state": {
       "description": "Reset Exposure",
       "layout": "IPY_MODEL_cdd3ac8df6404412bf173d100b27edac",
       "style": "IPY_MODEL_8f8783f9e25947078e3f30ee78983178"
      }
     },
     "3c653affd07540b0a745c15ff1287632": {
      "model_module": "jupyter-matplotlib",
      "model_module_version": "^0.7.2",
      "model_name": "ToolbarModel",
      "state": {
       "layout": "IPY_MODEL_306739b666754799b8591a4b7f577e2d",
       "toolitems": [
        [
         "Home",
         "Reset original view",
         "home",
         "home"
        ],
        [
         "Back",
         "Back to previous view",
         "arrow-left",
         "back"
        ],
        [
         "Forward",
         "Forward to next view",
         "arrow-right",
         "forward"
        ],
        [
         "Pan",
         "Pan axes with left mouse, zoom with right",
         "arrows",
         "pan"
        ],
        [
         "Zoom",
         "Zoom to rectangle",
         "square-o",
         "zoom"
        ],
        [
         "Download",
         "Download plot",
         "floppy-o",
         "save_figure"
        ]
       ]
      }
     },
     "3c81dc8c0310415397f1952b70aab698": {
      "model_module": "@jupyter-widgets/base",
      "model_module_version": "1.2.0",
      "model_name": "LayoutModel",
      "state": {}
     },
     "3c9414ee99464686a58eccb600546c9b": {
      "model_module": "@jupyter-widgets/controls",
      "model_module_version": "1.5.0",
      "model_name": "SliderStyleModel",
      "state": {
       "description_width": ""
      }
     },
     "3c976466d51641d9a9e1ac021c98302f": {
      "model_module": "@jupyter-widgets/controls",
      "model_module_version": "1.5.0",
      "model_name": "VBoxModel",
      "state": {
       "children": [
        "IPY_MODEL_42178c4deb6c43689980ac3488140815"
       ],
       "layout": "IPY_MODEL_c3beaed03413402c84968adb50f2b8a0"
      }
     },
     "3c9d5c4cc483451cbf611f94a186901a": {
      "model_module": "jupyter-matplotlib",
      "model_module_version": "^0.7.2",
      "model_name": "ToolbarModel",
      "state": {
       "layout": "IPY_MODEL_0b6e18d171584e6da66f865f7167d2ec",
       "toolitems": [
        [
         "Home",
         "Reset original view",
         "home",
         "home"
        ],
        [
         "Back",
         "Back to previous view",
         "arrow-left",
         "back"
        ],
        [
         "Forward",
         "Forward to next view",
         "arrow-right",
         "forward"
        ],
        [
         "Pan",
         "Pan axes with left mouse, zoom with right",
         "arrows",
         "pan"
        ],
        [
         "Zoom",
         "Zoom to rectangle",
         "square-o",
         "zoom"
        ],
        [
         "Download",
         "Download plot",
         "floppy-o",
         "save_figure"
        ]
       ]
      }
     },
     "3c9db705cab4443eb9b97cbb1df38d7c": {
      "model_module": "@jupyter-widgets/base",
      "model_module_version": "1.2.0",
      "model_name": "LayoutModel",
      "state": {
       "border": "solid 4px #222",
       "margin": "4px",
       "padding": "0"
      }
     },
     "3cc5006929c14529b109401ad9d59cd6": {
      "model_module": "@jupyter-widgets/base",
      "model_module_version": "1.2.0",
      "model_name": "LayoutModel",
      "state": {}
     },
     "3cd91abed9354449a8a487755bade90c": {
      "model_module": "@jupyter-widgets/base",
      "model_module_version": "1.2.0",
      "model_name": "LayoutModel",
      "state": {
       "border": "solid 4px #222",
       "margin": "4px",
       "padding": "0"
      }
     },
     "3cfe8d1dda134ee68bceaf3ede3adabf": {
      "model_module": "@jupyter-widgets/controls",
      "model_module_version": "1.5.0",
      "model_name": "VBoxModel",
      "state": {
       "children": [
        "IPY_MODEL_d07ddd73b3314469933430446bd2dca3"
       ],
       "layout": "IPY_MODEL_e2bc7eadc1d2467db4587e3a5508ba99"
      }
     },
     "3d2b0c5f3e3a4842abd84404434bd8d2": {
      "model_module": "@jupyter-widgets/controls",
      "model_module_version": "1.5.0",
      "model_name": "FloatSliderModel",
      "state": {
       "description": "Protected Area Threshold",
       "layout": "IPY_MODEL_42fa4004bc4a486483c9c77a8ae3f271",
       "max": 1,
       "step": 0.01,
       "style": "IPY_MODEL_61aab9e7769a4551b1e4773f54460065",
       "value": 0.7
      }
     },
     "3d44685b601245b5a9aac61dbed674d0": {
      "model_module": "@jupyter-widgets/controls",
      "model_module_version": "1.5.0",
      "model_name": "FloatSliderModel",
      "state": {
       "description": "Compression Threshold",
       "layout": "IPY_MODEL_25526e8dbb644a7195f386011ae0cd5d",
       "max": 1,
       "step": 0.01,
       "style": "IPY_MODEL_39dfd58831ba49aca15c59936abe0e56",
       "value": 0.8
      }
     },
     "3d4781a699024ed4a5d4382d4fce9bb1": {
      "model_module": "@jupyter-widgets/controls",
      "model_module_version": "1.5.0",
      "model_name": "DescriptionStyleModel",
      "state": {
       "description_width": ""
      }
     },
     "3d55142f88794344bf8ccd97a8cc3e7d": {
      "model_module": "@jupyter-widgets/controls",
      "model_module_version": "1.5.0",
      "model_name": "SliderStyleModel",
      "state": {
       "description_width": ""
      }
     },
     "3db3d34fb5744c938547b2cabb42fd7c": {
      "model_module": "@jupyter-widgets/controls",
      "model_module_version": "1.5.0",
      "model_name": "ButtonStyleModel",
      "state": {}
     },
     "3de4f040034449828ddcd75985a62753": {
      "model_module": "@jupyter-widgets/base",
      "model_module_version": "1.2.0",
      "model_name": "LayoutModel",
      "state": {}
     },
     "3e081467d0804d22bb3f6b6c7ebce740": {
      "model_module": "@jupyter-widgets/controls",
      "model_module_version": "1.5.0",
      "model_name": "FloatSliderModel",
      "state": {
       "description": "315°",
       "layout": "IPY_MODEL_07f57576ba9041f68fea96e4413e34ed",
       "max": 1,
       "min": -1,
       "step": 0.01,
       "style": "IPY_MODEL_1cd4a5d7d1104e91864b1b344c151f5a"
      }
     },
     "3e2dcacf55d6463c8b9ebc84575582eb": {
      "model_module": "@jupyter-widgets/controls",
      "model_module_version": "1.5.0",
      "model_name": "DescriptionStyleModel",
      "state": {
       "description_width": ""
      }
     },
     "3e6c480f0edb41b0ac8b7f30f4aa5fdb": {
      "model_module": "@jupyter-widgets/base",
      "model_module_version": "1.2.0",
      "model_name": "LayoutModel",
      "state": {}
     },
     "3e87af875f0248c9b6a0737ba4852b08": {
      "model_module": "@jupyter-widgets/base",
      "model_module_version": "1.2.0",
      "model_name": "LayoutModel",
      "state": {}
     },
     "3f37a18f8eff48559bb80689dc793a1f": {
      "model_module": "@jupyter-widgets/controls",
      "model_module_version": "1.5.0",
      "model_name": "ButtonStyleModel",
      "state": {}
     },
     "3f9c729e4a9a4312b55597a029d69e41": {
      "model_module": "@jupyter-widgets/output",
      "model_module_version": "1.0.0",
      "model_name": "OutputModel",
      "state": {
       "layout": "IPY_MODEL_9a061769505f46fcafb8f4e82ac52cf3",
       "outputs": [
        {
         "data": {
          "application/vnd.jupyter.widget-view+json": {
           "model_id": "6b67522aba244de380ddcb8746b74de0",
           "version_major": 2,
           "version_minor": 0
          },
          "text/plain": "Canvas(toolbar=Toolbar(toolitems=[('Home', 'Reset original view', 'home', 'home'), ('Back', 'Back to previous …"
         },
         "metadata": {},
         "output_type": "display_data"
        }
       ]
      }
     },
     "3fa774fc6f604dc3a794435fce7ee9ea": {
      "model_module": "@jupyter-widgets/base",
      "model_module_version": "1.2.0",
      "model_name": "LayoutModel",
      "state": {}
     },
     "3fc1e383885f485da44838968b79dcb2": {
      "model_module": "@jupyter-widgets/controls",
      "model_module_version": "1.5.0",
      "model_name": "CheckboxModel",
      "state": {
       "description": "Disable Medicina",
       "disabled": false,
       "layout": "IPY_MODEL_40d6b354a6c7436f8ec47b293d764216",
       "style": "IPY_MODEL_ab79ad18055e4987a3a6191508e814c6",
       "value": false
      }
     },
     "4026ef28d4d246eb891621711ad69ad2": {
      "model_module": "@jupyter-widgets/base",
      "model_module_version": "1.2.0",
      "model_name": "LayoutModel",
      "state": {}
     },
     "402acad0827144ff87d651d782ec3629": {
      "model_module": "@jupyter-widgets/controls",
      "model_module_version": "1.5.0",
      "model_name": "HBoxModel",
      "state": {
       "children": [
        "IPY_MODEL_2854a26fc2ec47c8bbb6b31d7dcf9a2d",
        "IPY_MODEL_34352e6271ce40b79453a88a8a649b4a",
        "IPY_MODEL_53a4824202394179a3ee803b69c84c3d",
        "IPY_MODEL_028f46ea23cc4ae3890e258df611351e"
       ],
       "layout": "IPY_MODEL_32d9a61fc4584b05a0c7f2351492f0ed"
      }
     },
     "408c29d383df4075a9a5dde06649d20a": {
      "model_module": "@jupyter-widgets/base",
      "model_module_version": "1.2.0",
      "model_name": "LayoutModel",
      "state": {}
     },
     "40d30d384d2c4fe9ad04b6a3e9d5e7bb": {
      "model_module": "@jupyter-widgets/base",
      "model_module_version": "1.2.0",
      "model_name": "LayoutModel",
      "state": {}
     },
     "40d6b354a6c7436f8ec47b293d764216": {
      "model_module": "@jupyter-widgets/base",
      "model_module_version": "1.2.0",
      "model_name": "LayoutModel",
      "state": {}
     },
     "40feb25ccc06474c91ae11df4fb80b6e": {
      "model_module": "@jupyter-widgets/controls",
      "model_module_version": "1.5.0",
      "model_name": "CheckboxModel",
      "state": {
       "description": "Disable Medicina",
       "disabled": false,
       "layout": "IPY_MODEL_d9589f9603564c339b5a429477a83f48",
       "style": "IPY_MODEL_5dbcc316c1b24c2893d11c3abee58d0d",
       "value": true
      }
     },
     "411e1c433a714f5181f2bc51414979ab": {
      "model_module": "@jupyter-widgets/controls",
      "model_module_version": "1.5.0",
      "model_name": "TabModel",
      "state": {
       "_titles": {
        "0": "Global Controls",
        "1": "Viewer Controls",
        "2": "Protected Area Controls",
        "3": "Saturation Controls",
        "4": "Hue Controls"
       },
       "children": [
        "IPY_MODEL_c925048340f34c469eaf6d46ebd7caf9",
        "IPY_MODEL_0db0602ad2ec49e792a5f6cf45a9a71d",
        "IPY_MODEL_e85bf79bd0984a7ea991d5de90d10b8b",
        "IPY_MODEL_e7309f72131d41c5a304d0b9a6ed1930",
        "IPY_MODEL_36030af0ccfb491393f9cef6ca306f4d"
       ],
       "layout": "IPY_MODEL_14144dfb612e45b590e6eb9c555ae4ff"
      }
     },
     "41411a8d24f34c11870703b604b7c030": {
      "model_module": "@jupyter-widgets/base",
      "model_module_version": "1.2.0",
      "model_name": "LayoutModel",
      "state": {}
     },
     "415db8ecb00c4a9a96ceca99c9274710": {
      "model_module": "@jupyter-widgets/base",
      "model_module_version": "1.2.0",
      "model_name": "LayoutModel",
      "state": {}
     },
     "41831d0a0e9845eab61c9307300d4c68": {
      "model_module": "@jupyter-widgets/controls",
      "model_module_version": "1.5.0",
      "model_name": "DescriptionStyleModel",
      "state": {
       "description_width": ""
      }
     },
     "41aefce59762479e851a9738304493f2": {
      "model_module": "@jupyter-widgets/base",
      "model_module_version": "1.2.0",
      "model_name": "LayoutModel",
      "state": {}
     },
     "41b55e8472a14c2ba9b0d092a67bbbf5": {
      "model_module": "@jupyter-widgets/controls",
      "model_module_version": "1.5.0",
      "model_name": "FloatSliderModel",
      "state": {
       "description": "270°",
       "layout": "IPY_MODEL_2a8e34926efc4ae9aee04ac0cc024138",
       "max": 1,
       "min": -1,
       "step": 0.01,
       "style": "IPY_MODEL_0237f7001a48497b94cd065a264ff4a4"
      }
     },
     "41d2a8d85eee495bbb346e41fb5ffe8c": {
      "model_module": "@jupyter-widgets/controls",
      "model_module_version": "1.5.0",
      "model_name": "DropdownModel",
      "state": {
       "_options_labels": [
        "tanh",
        "atan",
        "simple"
       ],
       "description": "Compression Function:",
       "index": 0,
       "layout": "IPY_MODEL_db743a70eca342beba5d28eb0514ac9a",
       "style": "IPY_MODEL_c32812e3f70d4030b471a6e35428bdb8"
      }
     },
     "420a13bbd0e24513856f6208c1a51c23": {
      "model_module": "@jupyter-widgets/controls",
      "model_module_version": "1.5.0",
      "model_name": "ButtonModel",
      "state": {
       "description": "Reset Exposure",
       "layout": "IPY_MODEL_6e28dce286a9402188e574c509476667",
       "style": "IPY_MODEL_6cc5edcf834d466a9140bb0a99690ad1"
      }
     },
     "42178c4deb6c43689980ac3488140815": {
      "model_module": "@jupyter-widgets/controls",
      "model_module_version": "1.5.0",
      "model_name": "ButtonModel",
      "state": {
       "description": "Reset Hue Controls",
       "layout": "IPY_MODEL_8f8c3b9934c34025ae10e75df7b1d04c",
       "style": "IPY_MODEL_700f2f3b36304de78d3612e57c6e222e"
      }
     },
     "4233da693d9845b483936b1d3da98981": {
      "model_module": "@jupyter-widgets/controls",
      "model_module_version": "1.5.0",
      "model_name": "ButtonStyleModel",
      "state": {}
     },
     "4267b34e07f94c41a8f935a117c63836": {
      "model_module": "@jupyter-widgets/controls",
      "model_module_version": "1.5.0",
      "model_name": "ButtonStyleModel",
      "state": {}
     },
     "42a6d0b603514e6090c5e4b7356456d3": {
      "model_module": "@jupyter-widgets/base",
      "model_module_version": "1.2.0",
      "model_name": "LayoutModel",
      "state": {}
     },
     "42de344265df460397ba623b0ac386d5": {
      "model_module": "@jupyter-widgets/controls",
      "model_module_version": "1.5.0",
      "model_name": "HBoxModel",
      "state": {
       "children": [
        "IPY_MODEL_2ba420107e864d6c862e27ee22713210",
        "IPY_MODEL_095ee3cefced4ea691970eda6712651e",
        "IPY_MODEL_bb4c1473e5c74a4f9f76b06165408a55"
       ],
       "layout": "IPY_MODEL_7bb51acc3db14bc9ae0f8e6c4df38084"
      }
     },
     "42fa4004bc4a486483c9c77a8ae3f271": {
      "model_module": "@jupyter-widgets/base",
      "model_module_version": "1.2.0",
      "model_name": "LayoutModel",
      "state": {}
     },
     "4321e9aed7ab4279bf71f53ab1e77dc0": {
      "model_module": "@jupyter-widgets/base",
      "model_module_version": "1.2.0",
      "model_name": "LayoutModel",
      "state": {
       "align_items": "stretch",
       "display": "flex",
       "flex_flow": "column",
       "width": "1128px"
      }
     },
     "43270b9042f240c2a7742cf6d7927749": {
      "model_module": "@jupyter-widgets/controls",
      "model_module_version": "1.5.0",
      "model_name": "ButtonStyleModel",
      "state": {}
     },
     "433c1552f83f4db0b6ab345594b4cc41": {
      "model_module": "@jupyter-widgets/base",
      "model_module_version": "1.2.0",
      "model_name": "LayoutModel",
      "state": {}
     },
     "43621e01c84d4c27b0333c91148a7b33": {
      "model_module": "@jupyter-widgets/base",
      "model_module_version": "1.2.0",
      "model_name": "LayoutModel",
      "state": {}
     },
     "43720583e36f4976b342376370d2d4af": {
      "model_module": "@jupyter-widgets/controls",
      "model_module_version": "1.5.0",
      "model_name": "ButtonStyleModel",
      "state": {}
     },
     "438cd67310ed46889c32278a08277678": {
      "model_module": "@jupyter-widgets/controls",
      "model_module_version": "1.5.0",
      "model_name": "ButtonStyleModel",
      "state": {}
     },
     "43970a00725047eba6c7c7bcfc4e7805": {
      "model_module": "@jupyter-widgets/controls",
      "model_module_version": "1.5.0",
      "model_name": "CheckboxModel",
      "state": {
       "description": "Disable Medicina",
       "disabled": false,
       "layout": "IPY_MODEL_b7b4bc4d9a124816a091a2e6e8fc8e9c",
       "style": "IPY_MODEL_d2849ba8fb9a41d1a1570192ba4a752d",
       "value": false
      }
     },
     "43dbfafe913747bf85d855a0583a5f7c": {
      "model_module": "@jupyter-widgets/controls",
      "model_module_version": "1.5.0",
      "model_name": "ButtonModel",
      "state": {
       "description": "Save Figure",
       "layout": "IPY_MODEL_b69521a99f974b949b17c0ec7f43c55b",
       "style": "IPY_MODEL_7ebbade78ed0495298c3adb968774cd6"
      }
     },
     "440e9d47f2be492896fd6218edbb1d86": {
      "model_module": "@jupyter-widgets/controls",
      "model_module_version": "1.5.0",
      "model_name": "SliderStyleModel",
      "state": {
       "description_width": ""
      }
     },
     "442f08d618f84f12b5439c86f9af2b53": {
      "model_module": "@jupyter-widgets/base",
      "model_module_version": "1.2.0",
      "model_name": "LayoutModel",
      "state": {}
     },
     "445d181d251548d7a196f26ed6f2a91d": {
      "model_module": "@jupyter-widgets/controls",
      "model_module_version": "1.5.0",
      "model_name": "SliderStyleModel",
      "state": {
       "description_width": ""
      }
     },
     "4462751e42444f3cab2509c102df1cf1": {
      "model_module": "@jupyter-widgets/base",
      "model_module_version": "1.2.0",
      "model_name": "LayoutModel",
      "state": {}
     },
     "4473c8b585eb47c7923fba690d0b21d5": {
      "model_module": "@jupyter-widgets/base",
      "model_module_version": "1.2.0",
      "model_name": "LayoutModel",
      "state": {}
     },
     "447fcd9c0f974bc9be12981f8cdef92d": {
      "model_module": "@jupyter-widgets/base",
      "model_module_version": "1.2.0",
      "model_name": "LayoutModel",
      "state": {}
     },
     "448a2a5eeb914106a2d0878a63ab0708": {
      "model_module": "@jupyter-widgets/controls",
      "model_module_version": "1.5.0",
      "model_name": "SliderStyleModel",
      "state": {
       "description_width": ""
      }
     },
     "449945e8b7234c41902d89c93458c385": {
      "model_module": "@jupyter-widgets/base",
      "model_module_version": "1.2.0",
      "model_name": "LayoutModel",
      "state": {}
     },
     "449c2a7c997242a39ba97ca6388f009d": {
      "model_module": "@jupyter-widgets/base",
      "model_module_version": "1.2.0",
      "model_name": "LayoutModel",
      "state": {}
     },
     "44a6f96156704d07a2bf3945e5b999dc": {
      "model_module": "@jupyter-widgets/base",
      "model_module_version": "1.2.0",
      "model_name": "LayoutModel",
      "state": {}
     },
     "44c93f0ea82e4b72bd3efdc7f8abd6c5": {
      "model_module": "@jupyter-widgets/controls",
      "model_module_version": "1.5.0",
      "model_name": "SliderStyleModel",
      "state": {
       "description_width": ""
      }
     },
     "44c96095bd314c4f85d21461424beeb8": {
      "model_module": "@jupyter-widgets/base",
      "model_module_version": "1.2.0",
      "model_name": "LayoutModel",
      "state": {}
     },
     "44df6316091842f8a78b630fc923b350": {
      "model_module": "@jupyter-widgets/controls",
      "model_module_version": "1.5.0",
      "model_name": "SliderStyleModel",
      "state": {
       "description_width": ""
      }
     },
     "44e0240ce9ff443aa1ff8330adf7a7c1": {
      "model_module": "@jupyter-widgets/base",
      "model_module_version": "1.2.0",
      "model_name": "LayoutModel",
      "state": {}
     },
     "44e2cc713d51402bb6edeef02425cad3": {
      "model_module": "@jupyter-widgets/controls",
      "model_module_version": "1.5.0",
      "model_name": "FloatSliderModel",
      "state": {
       "description": "Exposure",
       "layout": "IPY_MODEL_763668a09c574492923e42b9957a4f98",
       "max": 8,
       "min": -8,
       "step": 0.1,
       "style": "IPY_MODEL_02ae957750bf4969bbeebf6ad57997b0"
      }
     },
     "44e335a0ba474206bc1ded91aa19c09b": {
      "model_module": "@jupyter-widgets/controls",
      "model_module_version": "1.5.0",
      "model_name": "SliderStyleModel",
      "state": {
       "description_width": ""
      }
     },
     "44e3c1f3e7f946ae902e56ade4d0ef8e": {
      "model_module": "@jupyter-widgets/controls",
      "model_module_version": "1.5.0",
      "model_name": "ButtonModel",
      "state": {
       "description": "Reset Saturation Controls",
       "layout": "IPY_MODEL_66be5046cedc4cc0a7e922ff794f3458",
       "style": "IPY_MODEL_91c232ffb57b4e1c926d014316fbe8e5"
      }
     },
     "44e5a400acb84d00b4105537a77c6b5b": {
      "model_module": "@jupyter-widgets/base",
      "model_module_version": "1.2.0",
      "model_name": "LayoutModel",
      "state": {}
     },
     "4501c73300fe49f084d29a9da9d887ab": {
      "model_module": "@jupyter-widgets/controls",
      "model_module_version": "1.5.0",
      "model_name": "BoxModel",
      "state": {
       "children": [
        "IPY_MODEL_dec852dc43b64531b876b3067b52f37e",
        "IPY_MODEL_de4c0f6622bc41c2a40a032949cfd60e"
       ],
       "layout": "IPY_MODEL_d2656a7c84c04fd7805feceb0dfdaa04"
      }
     },
     "45456cf9add64b02b451a6885e58effc": {
      "model_module": "@jupyter-widgets/controls",
      "model_module_version": "1.5.0",
      "model_name": "VBoxModel",
      "state": {
       "children": [
        "IPY_MODEL_b80d58e4a8454eb38a82ba1dd0801fb6"
       ],
       "layout": "IPY_MODEL_1e426b17cd9345f986c84e97da695212"
      }
     },
     "454bf0f1b71e4073bcdc83d852e5abd3": {
      "model_module": "@jupyter-widgets/controls",
      "model_module_version": "1.5.0",
      "model_name": "ButtonModel",
      "state": {
       "description": "Reset Saturation Controls",
       "layout": "IPY_MODEL_e3803033449c42e0831e9aa32263e1fe",
       "style": "IPY_MODEL_52ea60cd40334c9d887d7e6c9f9af9ce"
      }
     },
     "4566389e42764741b23756de7bcde78e": {
      "model_module": "@jupyter-widgets/controls",
      "model_module_version": "1.5.0",
      "model_name": "FloatSliderModel",
      "state": {
       "description": "270°",
       "layout": "IPY_MODEL_82ac4e07367a4cbe9a365d33c08831c3",
       "max": 1,
       "min": -1,
       "step": 0.01,
       "style": "IPY_MODEL_f365de28139c45678e95aba6f935c23d"
      }
     },
     "4593f9a2131c4f9ca806d64560dfe524": {
      "model_module": "@jupyter-widgets/base",
      "model_module_version": "1.2.0",
      "model_name": "LayoutModel",
      "state": {}
     },
     "45c43c4a204f40c99a233388e24fb2d0": {
      "model_module": "@jupyter-widgets/base",
      "model_module_version": "1.2.0",
      "model_name": "LayoutModel",
      "state": {}
     },
     "45cd4e11f7d84c93b6a545dffb1f9712": {
      "model_module": "@jupyter-widgets/controls",
      "model_module_version": "1.5.0",
      "model_name": "FloatSliderModel",
      "state": {
       "description": "180°",
       "layout": "IPY_MODEL_9867fbb86cdc47d396ce4a64276c6951",
       "max": 1,
       "min": -1,
       "step": 0.01,
       "style": "IPY_MODEL_29ebf3be670b4dc9a6bc9573fa8ca422"
      }
     },
     "460317d0a090447bb9fccc77f8aaa53c": {
      "model_module": "@jupyter-widgets/controls",
      "model_module_version": "1.5.0",
      "model_name": "ButtonModel",
      "state": {
       "description": "Reset Exposure",
       "layout": "IPY_MODEL_39548cbd443c4e9698756931bdd95c2c",
       "style": "IPY_MODEL_70f27f9b1cb1480a9854cc87154b6f9a"
      }
     },
     "464d8f9a727e4aea872d5743e105a373": {
      "model_module": "@jupyter-widgets/base",
      "model_module_version": "1.2.0",
      "model_name": "LayoutModel",
      "state": {}
     },
     "4659271859c24fb3af0e1af62d94056f": {
      "model_module": "@jupyter-widgets/base",
      "model_module_version": "1.2.0",
      "model_name": "LayoutModel",
      "state": {}
     },
     "465f11e4c8d04623a489e3af32e683df": {
      "model_module": "@jupyter-widgets/controls",
      "model_module_version": "1.5.0",
      "model_name": "HBoxModel",
      "state": {
       "children": [
        "IPY_MODEL_628f84ffb20b4bc88af046a3402f25d8",
        "IPY_MODEL_8410cbfb687047b9af1cd1c0220b23e8",
        "IPY_MODEL_004d241304a148af81fde2e9b6b3419a"
       ],
       "layout": "IPY_MODEL_b61b7ef4b15f451d9d294ebe1cb58fa4"
      }
     },
     "466bf5249f4243fea458b307158251d6": {
      "model_module": "@jupyter-widgets/controls",
      "model_module_version": "1.5.0",
      "model_name": "FloatSliderModel",
      "state": {
       "description": "0°",
       "layout": "IPY_MODEL_865786ffcac3417ebab68311a06528f2",
       "max": 1,
       "min": -1,
       "step": 0.01,
       "style": "IPY_MODEL_a01e3b25cfdb4209957bdcca03ef98aa"
      }
     },
     "46e77eb91e9b446b8ffa016e73b9b0ca": {
      "model_module": "@jupyter-widgets/controls",
      "model_module_version": "1.5.0",
      "model_name": "HBoxModel",
      "state": {
       "children": [
        "IPY_MODEL_a95ac61061034e9b83d831e9d43f6a4c",
        "IPY_MODEL_a875f3ec1c784073b68aef4dcf12f2e6"
       ],
       "layout": "IPY_MODEL_72bd6ae045f94ad4a19a35a4639c3dac"
      }
     },
     "4704fed4f9ab4b939077b5bb9c2c443e": {
      "model_module": "@jupyter-widgets/controls",
      "model_module_version": "1.5.0",
      "model_name": "ButtonModel",
      "state": {
       "description": "Reset Protected Area",
       "layout": "IPY_MODEL_ac48e82117a44125bcba063915735acf",
       "style": "IPY_MODEL_b52742d50b654539a83be8bee603dca2"
      }
     },
     "47134bda8429404e9be2b1da0eaaf6df": {
      "model_module": "@jupyter-widgets/controls",
      "model_module_version": "1.5.0",
      "model_name": "ButtonModel",
      "state": {
       "description": "Export Image",
       "layout": "IPY_MODEL_92b35f6e9b06449fa09a9444ce6b1936",
       "style": "IPY_MODEL_c762333521ad4c6b8f4067a870232274"
      }
     },
     "4733c1c293ef440fbe4e9782f3ed7bbd": {
      "model_module": "@jupyter-widgets/controls",
      "model_module_version": "1.5.0",
      "model_name": "ButtonStyleModel",
      "state": {}
     },
     "474e77fb15434ee8afdee3c0a0922270": {
      "model_module": "@jupyter-widgets/controls",
      "model_module_version": "1.5.0",
      "model_name": "CheckboxModel",
      "state": {
       "description": "Show Out-of-Gamut",
       "disabled": false,
       "layout": "IPY_MODEL_82def17f65c74bdd99008374bb38b154",
       "style": "IPY_MODEL_7c8ae257c9f642b2bb6f1f62db14208f",
       "value": false
      }
     },
     "4761a507221f4989aa7f129e5a8154e3": {
      "model_module": "@jupyter-widgets/controls",
      "model_module_version": "1.5.0",
      "model_name": "FloatSliderModel",
      "state": {
       "description": "Exposure",
       "layout": "IPY_MODEL_0addd48a9fe24d388c351b8933e6322d",
       "max": 8,
       "min": -8,
       "step": 0.1,
       "style": "IPY_MODEL_8cc899cdd3e84295bb12596ba226d8b5"
      }
     },
     "47ad2ac340834ae68cf8ca7973310ccc": {
      "model_module": "@jupyter-widgets/base",
      "model_module_version": "1.2.0",
      "model_name": "LayoutModel",
      "state": {
       "border": "solid 4px #222",
       "margin": "4px",
       "padding": "0"
      }
     },
     "47c2106d38d949d89e3e231019942865": {
      "model_module": "@jupyter-widgets/base",
      "model_module_version": "1.2.0",
      "model_name": "LayoutModel",
      "state": {}
     },
     "47c7cb6159f34c6389aa825f77b2b398": {
      "model_module": "@jupyter-widgets/controls",
      "model_module_version": "1.5.0",
      "model_name": "DescriptionStyleModel",
      "state": {
       "description_width": ""
      }
     },
     "47e476f5f5c74f0b909b79808e3f346b": {
      "model_module": "@jupyter-widgets/controls",
      "model_module_version": "1.5.0",
      "model_name": "ButtonModel",
      "state": {
       "description": "Reset Compression Controls",
       "layout": "IPY_MODEL_ec4eae0ee09c4d5c84dbb040cd7b0af4",
       "style": "IPY_MODEL_039fb126664b48839c45beb06f3ed3e5"
      }
     },
     "47e56e4f60364de4a88997262236b2ca": {
      "model_module": "@jupyter-widgets/base",
      "model_module_version": "1.2.0",
      "model_name": "LayoutModel",
      "state": {}
     },
     "47efbca496b04fcb8257e61eab902dd0": {
      "model_module": "@jupyter-widgets/controls",
      "model_module_version": "1.5.0",
      "model_name": "FloatSliderModel",
      "state": {
       "description": "135°",
       "layout": "IPY_MODEL_2fac5fc979e249be95d9a39c711f3e5c",
       "max": 1,
       "min": -1,
       "step": 0.01,
       "style": "IPY_MODEL_1ee11d60fe5c4315a836643e8dc15971"
      }
     },
     "47f189ef466a4e2da83da88b5f42b25e": {
      "model_module": "@jupyter-widgets/controls",
      "model_module_version": "1.5.0",
      "model_name": "DescriptionStyleModel",
      "state": {
       "description_width": ""
      }
     },
     "47ff5c4aa5aa46d488339fa6d1e1441f": {
      "model_module": "@jupyter-widgets/controls",
      "model_module_version": "1.5.0",
      "model_name": "DropdownModel",
      "state": {
       "_options_labels": [
        "tanh",
        "atan",
        "simple"
       ],
       "description": "Compression Function:",
       "index": 0,
       "layout": "IPY_MODEL_132b6023f7174456b89667af8f6a6319",
       "style": "IPY_MODEL_3e2dcacf55d6463c8b9ebc84575582eb"
      }
     },
     "480bf3daf9044bfc9fb286e7a2c26e26": {
      "model_module": "@jupyter-widgets/controls",
      "model_module_version": "1.5.0",
      "model_name": "ButtonStyleModel",
      "state": {}
     },
     "481a2bb4aa3d441292f1477e7f749134": {
      "model_module": "@jupyter-widgets/controls",
      "model_module_version": "1.5.0",
      "model_name": "SliderStyleModel",
      "state": {
       "description_width": ""
      }
     },
     "48529c8750c84348a47725e23d00daa4": {
      "model_module": "@jupyter-widgets/controls",
      "model_module_version": "1.5.0",
      "model_name": "SliderStyleModel",
      "state": {
       "description_width": ""
      }
     },
     "487381193ca24e62bb0273ecf46f1868": {
      "model_module": "@jupyter-widgets/controls",
      "model_module_version": "1.5.0",
      "model_name": "FloatSliderModel",
      "state": {
       "description": "135°",
       "layout": "IPY_MODEL_9725b622f3a34cc8b894e89c06ef1fe3",
       "max": 1,
       "min": -1,
       "step": 0.01,
       "style": "IPY_MODEL_9af79ab10c2943678f4726086c3a61c3"
      }
     },
     "4879841f663141a7985aff489484e924": {
      "model_module": "@jupyter-widgets/base",
      "model_module_version": "1.2.0",
      "model_name": "LayoutModel",
      "state": {}
     },
     "4884baf7ad6b4ea6bb4c76feaf1a1752": {
      "model_module": "@jupyter-widgets/controls",
      "model_module_version": "1.5.0",
      "model_name": "FloatSliderModel",
      "state": {
       "description": "180°",
       "layout": "IPY_MODEL_6097f5d180fd494392c2f93223250c51",
       "max": 1,
       "min": -1,
       "step": 0.01,
       "style": "IPY_MODEL_75ae5156c68445a7a21eef49406ca4bb"
      }
     },
     "48ab72acdbe544c583d1be1d899e0de9": {
      "model_module": "@jupyter-widgets/controls",
      "model_module_version": "1.5.0",
      "model_name": "HBoxModel",
      "state": {
       "children": [
        "IPY_MODEL_092a3b6d49f34769918b7aa939574e98",
        "IPY_MODEL_5103a877abf54362b281b9039edea79c",
        "IPY_MODEL_c21a450f107d45fb99e2b77c35a70612"
       ],
       "layout": "IPY_MODEL_c46c8165056a45a89dbf7234db826a52"
      }
     },
     "48bd6747b70d41bb90e9761558ad1046": {
      "model_module": "@jupyter-widgets/base",
      "model_module_version": "1.2.0",
      "model_name": "LayoutModel",
      "state": {}
     },
     "48cb3623fc904ad39c7e902ae8714167": {
      "model_module": "@jupyter-widgets/controls",
      "model_module_version": "1.5.0",
      "model_name": "DescriptionStyleModel",
      "state": {
       "description_width": ""
      }
     },
     "48d5804d1e334e18bc1c52eff5de9d44": {
      "model_module": "@jupyter-widgets/base",
      "model_module_version": "1.2.0",
      "model_name": "LayoutModel",
      "state": {}
     },
     "493e8c7848c245e48245659957f7fd95": {
      "model_module": "@jupyter-widgets/controls",
      "model_module_version": "1.5.0",
      "model_name": "CheckboxModel",
      "state": {
       "description": "Show Out-of-Gamut",
       "disabled": false,
       "layout": "IPY_MODEL_623d4456f1bb4c519986ad3e1fbb46ff",
       "style": "IPY_MODEL_54ba44190da7478f97b35cbd19e82863",
       "value": false
      }
     },
     "494ba64a6f0645ceb804037f3c7c341e": {
      "model_module": "@jupyter-widgets/base",
      "model_module_version": "1.2.0",
      "model_name": "LayoutModel",
      "state": {}
     },
     "495e9c4241a3479b977103068e44494c": {
      "model_module": "@jupyter-widgets/controls",
      "model_module_version": "1.5.0",
      "model_name": "HBoxModel",
      "state": {
       "children": [
        "IPY_MODEL_8ad3a3991ece445ebe042cb8bda31fe4",
        "IPY_MODEL_cbc37549158b400d940d14678ad03e73",
        "IPY_MODEL_a3e85a22c7df4529955194ba6dcf43a0",
        "IPY_MODEL_38d7041397384eacbf247bbcef99662b"
       ],
       "layout": "IPY_MODEL_5f1e33ebd49646ca82497591c6e0b624"
      }
     },
     "4974b12476eb46bcae47ee10b3bd5dd9": {
      "model_module": "@jupyter-widgets/controls",
      "model_module_version": "1.5.0",
      "model_name": "HBoxModel",
      "state": {
       "children": [
        "IPY_MODEL_537875251cbc47dcbad6e56717d1e1c1",
        "IPY_MODEL_73afbf7de84e4cbb852bd8a21e408d51",
        "IPY_MODEL_23e0cc1fa5fd40479de4a676e95b8f49",
        "IPY_MODEL_5295c872b57d470cbd8e5693833d4199"
       ],
       "layout": "IPY_MODEL_ff19c5f3c8dd4db7ae5ec8a25b4c8785"
      }
     },
     "498697cecb1645b2ad055760e41a206b": {
      "model_module": "@jupyter-widgets/base",
      "model_module_version": "1.2.0",
      "model_name": "LayoutModel",
      "state": {}
     },
     "4987422199eb495387b6d04a0ae1af63": {
      "model_module": "@jupyter-widgets/base",
      "model_module_version": "1.2.0",
      "model_name": "LayoutModel",
      "state": {}
     },
     "49a2e9b09bb049c1999c41b4dfad9278": {
      "model_module": "@jupyter-widgets/controls",
      "model_module_version": "1.5.0",
      "model_name": "DescriptionStyleModel",
      "state": {
       "description_width": ""
      }
     },
     "4a0add594ba94917acdec69d0d8b0b83": {
      "model_module": "@jupyter-widgets/base",
      "model_module_version": "1.2.0",
      "model_name": "LayoutModel",
      "state": {
       "border": "solid 4px #222",
       "margin": "4px",
       "padding": "0"
      }
     },
     "4a607de28a9544558ed4531d42b9d096": {
      "model_module": "@jupyter-widgets/controls",
      "model_module_version": "1.5.0",
      "model_name": "ButtonStyleModel",
      "state": {}
     },
     "4a7eb4e334fa456eadfaacaa68bea9c4": {
      "model_module": "@jupyter-widgets/base",
      "model_module_version": "1.2.0",
      "model_name": "LayoutModel",
      "state": {}
     },
     "4a9ee71f59e44196a7ca4dd51b61212b": {
      "model_module": "@jupyter-widgets/controls",
      "model_module_version": "1.5.0",
      "model_name": "FloatSliderModel",
      "state": {
       "description": "Compression Threshold",
       "layout": "IPY_MODEL_5f5cebf7c38e4ab2bde179d134efb9f5",
       "max": 1,
       "step": 0.01,
       "style": "IPY_MODEL_b4c2bb4daa634ee5ad8d37cbc472afaf",
       "value": 0.8
      }
     },
     "4ade754276eb44e7a5e6ace5fff79663": {
      "model_module": "@jupyter-widgets/base",
      "model_module_version": "1.2.0",
      "model_name": "LayoutModel",
      "state": {}
     },
     "4b1ab1476997436da4d9fd46d7a36e78": {
      "model_module": "@jupyter-widgets/base",
      "model_module_version": "1.2.0",
      "model_name": "LayoutModel",
      "state": {}
     },
     "4b8ab97f866b4b9ca169ef2d42d2d13c": {
      "model_module": "jupyter-matplotlib",
      "model_module_version": "^0.7.2",
      "model_name": "ToolbarModel",
      "state": {
       "layout": "IPY_MODEL_927311d422c54e5c90eadd373ac95bf9",
       "toolitems": [
        [
         "Home",
         "Reset original view",
         "home",
         "home"
        ],
        [
         "Back",
         "Back to previous view",
         "arrow-left",
         "back"
        ],
        [
         "Forward",
         "Forward to next view",
         "arrow-right",
         "forward"
        ],
        [
         "Pan",
         "Pan axes with left mouse, zoom with right",
         "arrows",
         "pan"
        ],
        [
         "Zoom",
         "Zoom to rectangle",
         "square-o",
         "zoom"
        ],
        [
         "Download",
         "Download plot",
         "floppy-o",
         "save_figure"
        ]
       ]
      }
     },
     "4bd1bee77f8e4cc9a7f1b5a247b047b5": {
      "model_module": "@jupyter-widgets/output",
      "model_module_version": "1.0.0",
      "model_name": "OutputModel",
      "state": {
       "layout": "IPY_MODEL_9c569df6c4be48afb88831302c983d8e",
       "outputs": [
        {
         "data": {
          "application/vnd.jupyter.widget-view+json": {
           "model_id": "d3fe9811298c47afb3774336c1a448cc",
           "version_major": 2,
           "version_minor": 0
          },
          "text/plain": "Canvas(toolbar=Toolbar(toolitems=[('Home', 'Reset original view', 'home', 'home'), ('Back', 'Back to previous …"
         },
         "metadata": {},
         "output_type": "display_data"
        }
       ]
      }
     },
     "4bdbae03cd664dc9bb1e51bd5a002e3a": {
      "model_module": "@jupyter-widgets/controls",
      "model_module_version": "1.5.0",
      "model_name": "DropdownModel",
      "state": {
       "_options_labels": [
        "tanh",
        "atan",
        "simple"
       ],
       "description": "Compression Function:",
       "index": 0,
       "layout": "IPY_MODEL_f0c94aac99eb473a90574f2bce2a83d5",
       "style": "IPY_MODEL_4cc93fe4ab224e859db18d3699b65c1a"
      }
     },
     "4be5db72f72f46e3892f3780c9bac455": {
      "model_module": "@jupyter-widgets/base",
      "model_module_version": "1.2.0",
      "model_name": "LayoutModel",
      "state": {}
     },
     "4c0d47791057413e852963542055a9b8": {
      "model_module": "@jupyter-widgets/base",
      "model_module_version": "1.2.0",
      "model_name": "LayoutModel",
      "state": {}
     },
     "4c343665a3b843498acc16381df989aa": {
      "model_module": "@jupyter-widgets/base",
      "model_module_version": "1.2.0",
      "model_name": "LayoutModel",
      "state": {}
     },
     "4cc93fe4ab224e859db18d3699b65c1a": {
      "model_module": "@jupyter-widgets/controls",
      "model_module_version": "1.5.0",
      "model_name": "DescriptionStyleModel",
      "state": {
       "description_width": ""
      }
     },
     "4ce032f5ccc749dcb59973d4190c1597": {
      "model_module": "@jupyter-widgets/controls",
      "model_module_version": "1.5.0",
      "model_name": "ButtonStyleModel",
      "state": {}
     },
     "4ce40f32dfd04bcaa05a1f45efea09da": {
      "model_module": "@jupyter-widgets/controls",
      "model_module_version": "1.5.0",
      "model_name": "ButtonStyleModel",
      "state": {}
     },
     "4cf007a38efa482fb32492c71e882461": {
      "model_module": "@jupyter-widgets/base",
      "model_module_version": "1.2.0",
      "model_name": "LayoutModel",
      "state": {}
     },
     "4d04320b656c411ba710fcf50620728e": {
      "model_module": "jupyter-matplotlib",
      "model_module_version": "^0.7.2",
      "model_name": "MPLCanvasModel",
      "state": {
       "_figure_label": "Figure 22",
       "_height": 396,
       "_width": 1100,
       "header_visible": false,
       "layout": "IPY_MODEL_17c4d176370e4a9bb76ba50ca8de5953",
       "resizable": false,
       "toolbar": "IPY_MODEL_6cb06c7bcf0447a191dba11c1a88863b",
       "toolbar_position": "left",
       "toolbar_visible": false
      }
     },
     "4d075adae35743d081d2733ee210a31d": {
      "model_module": "@jupyter-widgets/controls",
      "model_module_version": "1.5.0",
      "model_name": "ButtonStyleModel",
      "state": {}
     },
     "4d19bd15e3ba487096bb5db271af6abb": {
      "model_module": "@jupyter-widgets/base",
      "model_module_version": "1.2.0",
      "model_name": "LayoutModel",
      "state": {}
     },
     "4d3d06ebef9c41dcbcaab66559ff575e": {
      "model_module": "@jupyter-widgets/controls",
      "model_module_version": "1.5.0",
      "model_name": "FloatSliderModel",
      "state": {
       "description": "180°",
       "layout": "IPY_MODEL_3e87af875f0248c9b6a0737ba4852b08",
       "max": 1,
       "min": -1,
       "step": 0.01,
       "style": "IPY_MODEL_ce8281ff9a014301ab39673375974c05"
      }
     },
     "4d47be2282ed4f3d85a062b46177a8a4": {
      "model_module": "jupyter-matplotlib",
      "model_module_version": "^0.7.2",
      "model_name": "MPLCanvasModel",
      "state": {
       "_figure_label": "Figure 16",
       "_height": 430,
       "_width": 1099,
       "header_visible": false,
       "layout": "IPY_MODEL_639887d74ad0463fa4f9b47a37a88567",
       "resizable": false,
       "toolbar": "IPY_MODEL_4b8ab97f866b4b9ca169ef2d42d2d13c",
       "toolbar_position": "left",
       "toolbar_visible": false
      }
     },
     "4d81864ce93f483fad52caaa0f3ddd52": {
      "model_module": "@jupyter-widgets/controls",
      "model_module_version": "1.5.0",
      "model_name": "FloatSliderModel",
      "state": {
       "description": "45°",
       "layout": "IPY_MODEL_72c259e9eeb344628a82f47e70e9b9a4",
       "max": 1,
       "min": -1,
       "step": 0.01,
       "style": "IPY_MODEL_0fdc696776164dae9750b6dd4bfb6dd6"
      }
     },
     "4d8d2253b18240c38564302599d7d618": {
      "model_module": "@jupyter-widgets/controls",
      "model_module_version": "1.5.0",
      "model_name": "SliderStyleModel",
      "state": {
       "description_width": ""
      }
     },
     "4d92ac7ecef74fdc8687ae671c5061eb": {
      "model_module": "@jupyter-widgets/controls",
      "model_module_version": "1.5.0",
      "model_name": "SliderStyleModel",
      "state": {
       "description_width": ""
      }
     },
     "4da1293562164840ac3fc2e4506f24aa": {
      "model_module": "@jupyter-widgets/controls",
      "model_module_version": "1.5.0",
      "model_name": "SliderStyleModel",
      "state": {
       "description_width": ""
      }
     },
     "4db3b71a193245858fb74a6c3c270611": {
      "model_module": "jupyter-matplotlib",
      "model_module_version": "^0.7.2",
      "model_name": "MPLCanvasModel",
      "state": {
       "_figure_label": "Figure 21",
       "_height": 550,
       "_width": 1100,
       "header_visible": false,
       "layout": "IPY_MODEL_e9cebe78ad364f1cad5314cf0c448ba6",
       "resizable": false,
       "toolbar": "IPY_MODEL_3c653affd07540b0a745c15ff1287632",
       "toolbar_position": "left",
       "toolbar_visible": false
      }
     },
     "4dc983ead30a4ed290a3a0368b0e7ff9": {
      "model_module": "@jupyter-widgets/controls",
      "model_module_version": "1.5.0",
      "model_name": "ButtonStyleModel",
      "state": {}
     },
     "4dcca6d455574dd1b012b9d32c5524b0": {
      "model_module": "@jupyter-widgets/controls",
      "model_module_version": "1.5.0",
      "model_name": "SliderStyleModel",
      "state": {
       "description_width": ""
      }
     },
     "4dd2bf5fc6f04d368510fd63db572fcc": {
      "model_module": "@jupyter-widgets/output",
      "model_module_version": "1.0.0",
      "model_name": "OutputModel",
      "state": {
       "layout": "IPY_MODEL_098f970fcad44d3683062a52e5140c6d",
       "outputs": [
        {
         "data": {
          "application/vnd.jupyter.widget-view+json": {
           "model_id": "ca69039806b240908f266371ade1b7e5",
           "version_major": 2,
           "version_minor": 0
          },
          "text/plain": "Canvas(toolbar=Toolbar(toolitems=[('Home', 'Reset original view', 'home', 'home'), ('Back', 'Back to previous …"
         },
         "metadata": {},
         "output_type": "display_data"
        }
       ]
      }
     },
     "4dd6e356ab814d1ba0817a553f6f6530": {
      "model_module": "@jupyter-widgets/controls",
      "model_module_version": "1.5.0",
      "model_name": "HBoxModel",
      "state": {
       "children": [
        "IPY_MODEL_f2304828eb4b4f48a8ddafd3bc43c87f",
        "IPY_MODEL_8df2e5f508484a718c2237988198ed60",
        "IPY_MODEL_02ec848787e34431a2cade6b49e29e2c",
        "IPY_MODEL_a198df38f12f464ba0e00ce28f57ae11"
       ],
       "layout": "IPY_MODEL_c2df6c647a804a00b5f54f643bbf667c"
      }
     },
     "4de8d30961bc461f831d003f5e2187a9": {
      "model_module": "@jupyter-widgets/base",
      "model_module_version": "1.2.0",
      "model_name": "LayoutModel",
      "state": {}
     },
     "4ded0f86b9c64e67a4f69f904f0d1f67": {
      "model_module": "@jupyter-widgets/controls",
      "model_module_version": "1.5.0",
      "model_name": "SliderStyleModel",
      "state": {
       "description_width": ""
      }
     },
     "4df7bd46ee034f3ab46e041bb0429bbb": {
      "model_module": "@jupyter-widgets/controls",
      "model_module_version": "1.5.0",
      "model_name": "SliderStyleModel",
      "state": {
       "description_width": ""
      }
     },
     "4e015e074234471485badff1e500fc12": {
      "model_module": "@jupyter-widgets/controls",
      "model_module_version": "1.5.0",
      "model_name": "DescriptionStyleModel",
      "state": {
       "description_width": ""
      }
     },
     "4e25a0ee2c2d475ca2aa693fa3b99cfe": {
      "model_module": "@jupyter-widgets/controls",
      "model_module_version": "1.5.0",
      "model_name": "HBoxModel",
      "state": {
       "children": [
        "IPY_MODEL_885453b930be43f7a29567fda3a00c53",
        "IPY_MODEL_c2e6986128b24afb9ce5d861f5bebb22",
        "IPY_MODEL_58a6d98f6c294e1da9506fa38d86ea82"
       ],
       "layout": "IPY_MODEL_afc813f4ab4b40fd94ed309a21d6295b"
      }
     },
     "4e28077ba6e0460092a84d2bceb967da": {
      "model_module": "@jupyter-widgets/controls",
      "model_module_version": "1.5.0",
      "model_name": "VBoxModel",
      "state": {
       "children": [
        "IPY_MODEL_f04422a419824006b921facf945e7e61",
        "IPY_MODEL_5f5f03d741c14c489e672bec16e1a43c"
       ],
       "layout": "IPY_MODEL_df188a3ab86d4f1eb4773961b0721f04"
      }
     },
     "4e5b912c51ea4933af2d35d2d328f9f4": {
      "model_module": "@jupyter-widgets/base",
      "model_module_version": "1.2.0",
      "model_name": "LayoutModel",
      "state": {}
     },
     "4e72e1a15d114179af7936a0d4a3ac2f": {
      "model_module": "@jupyter-widgets/base",
      "model_module_version": "1.2.0",
      "model_name": "LayoutModel",
      "state": {}
     },
     "4e836cc2e99a475b8be5edca71eb5bf2": {
      "model_module": "@jupyter-widgets/controls",
      "model_module_version": "1.5.0",
      "model_name": "ButtonStyleModel",
      "state": {}
     },
     "4e87de458d314323911d40fe4de95602": {
      "model_module": "@jupyter-widgets/base",
      "model_module_version": "1.2.0",
      "model_name": "LayoutModel",
      "state": {}
     },
     "4e8c32adafcc4f1ab72e5894d14f2af6": {
      "model_module": "@jupyter-widgets/output",
      "model_module_version": "1.0.0",
      "model_name": "OutputModel",
      "state": {
       "layout": "IPY_MODEL_543b508299b0479ba0931606923372ef",
       "outputs": [
        {
         "data": {
          "application/vnd.jupyter.widget-view+json": {
           "model_id": "2c92745fc541435bb36135be28052f1e",
           "version_major": 2,
           "version_minor": 0
          },
          "text/plain": "Canvas(toolbar=Toolbar(toolitems=[('Home', 'Reset original view', 'home', 'home'), ('Back', 'Back to previous …"
         },
         "metadata": {},
         "output_type": "display_data"
        }
       ]
      }
     },
     "4e9798967bd94ade861b9b5b4d4b6471": {
      "model_module": "@jupyter-widgets/base",
      "model_module_version": "1.2.0",
      "model_name": "LayoutModel",
      "state": {}
     },
     "4ea1e47461f944dbaa4f90d302b41d0e": {
      "model_module": "@jupyter-widgets/controls",
      "model_module_version": "1.5.0",
      "model_name": "DropdownModel",
      "state": {
       "_options_labels": [
        "tanh",
        "atan",
        "simple"
       ],
       "description": "Compression Function:",
       "index": 0,
       "layout": "IPY_MODEL_7d153f09d7034b20a344ee02628c14e8",
       "style": "IPY_MODEL_b530511784454fb58d514ca4c87e5c70"
      }
     },
     "4ed0eb271cfc410483906002aa1cdafc": {
      "model_module": "@jupyter-widgets/base",
      "model_module_version": "1.2.0",
      "model_name": "LayoutModel",
      "state": {}
     },
     "4f43bde087f54232abf7c9fe162778b7": {
      "model_module": "@jupyter-widgets/controls",
      "model_module_version": "1.5.0",
      "model_name": "DescriptionStyleModel",
      "state": {
       "description_width": ""
      }
     },
     "4f9a86e551e94c779bed7a5db37379cc": {
      "model_module": "@jupyter-widgets/base",
      "model_module_version": "1.2.0",
      "model_name": "LayoutModel",
      "state": {}
     },
     "4fa7ca9a28c043d4bb6152dc5b072429": {
      "model_module": "@jupyter-widgets/controls",
      "model_module_version": "1.5.0",
      "model_name": "ButtonStyleModel",
      "state": {}
     },
     "4fe332860add4725886b0af2a6e872bc": {
      "model_module": "@jupyter-widgets/controls",
      "model_module_version": "1.5.0",
      "model_name": "HBoxModel",
      "state": {
       "children": [
        "IPY_MODEL_646c71944251479fba2362af2eddb635",
        "IPY_MODEL_129e64b7c1c14d3caab6ba91cc7e4772",
        "IPY_MODEL_8415643f10d94b1e9bf50cc8937bff5a"
       ],
       "layout": "IPY_MODEL_c1d7f145f3b5419fb9acb9c71721de85"
      }
     },
     "5020734710f644518e32035ea104cc3d": {
      "model_module": "@jupyter-widgets/base",
      "model_module_version": "1.2.0",
      "model_name": "LayoutModel",
      "state": {}
     },
     "5045701ec5004606bd77a8b20b8d3dd8": {
      "model_module": "@jupyter-widgets/controls",
      "model_module_version": "1.5.0",
      "model_name": "FloatSliderModel",
      "state": {
       "description": "315°",
       "layout": "IPY_MODEL_9c7773d5c1ed4f6bb95e3eae8c7adbe8",
       "max": 1,
       "min": -1,
       "step": 0.01,
       "style": "IPY_MODEL_3205f7da9c5d4c3c9cfcbd60be32d77a"
      }
     },
     "505427ff15f44634811791a019dc4d0d": {
      "model_module": "@jupyter-widgets/controls",
      "model_module_version": "1.5.0",
      "model_name": "SliderStyleModel",
      "state": {
       "description_width": ""
      }
     },
     "5089cce6198a4b38b48f6a43f3be234f": {
      "model_module": "@jupyter-widgets/controls",
      "model_module_version": "1.5.0",
      "model_name": "VBoxModel",
      "state": {
       "children": [
        "IPY_MODEL_2d307c18262c43d8b341c6d3bee4e17b",
        "IPY_MODEL_258fd132c88b417fbb50f1c7cf036270",
        "IPY_MODEL_9db58c24864749149cc9b594daeed59d"
       ],
       "layout": "IPY_MODEL_f0e208c65aab4c1493ec6adb76f05c9d"
      }
     },
     "508d0b316e4644b5babe57d1f1e27699": {
      "model_module": "@jupyter-widgets/base",
      "model_module_version": "1.2.0",
      "model_name": "LayoutModel",
      "state": {}
     },
     "5103a877abf54362b281b9039edea79c": {
      "model_module": "@jupyter-widgets/controls",
      "model_module_version": "1.5.0",
      "model_name": "ButtonModel",
      "state": {
       "description": "Export Image",
       "layout": "IPY_MODEL_f638f3dad8eb48d5849a253d18b859ff",
       "style": "IPY_MODEL_ee1ebdf65c52418ebbff1e784882f160"
      }
     },
     "51077047e3f54b18a9e0a0f3758e1efe": {
      "model_module": "@jupyter-widgets/base",
      "model_module_version": "1.2.0",
      "model_name": "LayoutModel",
      "state": {}
     },
     "510ce38d165048649896fb53386310ba": {
      "model_module": "@jupyter-widgets/controls",
      "model_module_version": "1.5.0",
      "model_name": "HBoxModel",
      "state": {
       "children": [
        "IPY_MODEL_adc24cfd136b4460b55e7472ebbc3ad0",
        "IPY_MODEL_d132d50345024a7d9d59e04f7039c11b",
        "IPY_MODEL_b44180c46fdb4d30b6cf26927bce7f0e",
        "IPY_MODEL_0ebf6cc4ebc34e8e825128ba9cdeb018"
       ],
       "layout": "IPY_MODEL_cae94a43604c4787bbb483e4a1e28a4f"
      }
     },
     "51345f7c23564962ac1778075db48e5f": {
      "model_module": "@jupyter-widgets/base",
      "model_module_version": "1.2.0",
      "model_name": "LayoutModel",
      "state": {}
     },
     "517fc499f5044fcdb0ea46a26f48be50": {
      "model_module": "@jupyter-widgets/base",
      "model_module_version": "1.2.0",
      "model_name": "LayoutModel",
      "state": {}
     },
     "51b7ae73719d43f88765e4469b47beda": {
      "model_module": "@jupyter-widgets/base",
      "model_module_version": "1.2.0",
      "model_name": "LayoutModel",
      "state": {}
     },
     "520720e2b9db463793c03e97feb40bf1": {
      "model_module": "@jupyter-widgets/controls",
      "model_module_version": "1.5.0",
      "model_name": "TabModel",
      "state": {
       "_titles": {
        "0": "Global Controls",
        "1": "Viewer Controls",
        "2": "Protected Area Controls",
        "3": "Saturation Controls",
        "4": "Hue Controls"
       },
       "children": [
        "IPY_MODEL_28bfbd4a560a4891ab85b8af6bb531df",
        "IPY_MODEL_73b92f8957bf4e36a343475c37b37083",
        "IPY_MODEL_24afd220884f443c9674de602f9a32ec",
        "IPY_MODEL_dd94c8686a2b4169ab6134f60c39ee6d",
        "IPY_MODEL_d765d39b3cb24f3ca375234072b6caeb"
       ],
       "layout": "IPY_MODEL_a0ce2156a93a4137b269bddf56861359"
      }
     },
     "5216fd278feb4b1389f73dafab2a2fcf": {
      "model_module": "jupyter-matplotlib",
      "model_module_version": "^0.7.2",
      "model_name": "ToolbarModel",
      "state": {
       "layout": "IPY_MODEL_7ff2635156fb4d2e97a4480d9a43b113",
       "toolitems": [
        [
         "Home",
         "Reset original view",
         "home",
         "home"
        ],
        [
         "Back",
         "Back to previous view",
         "arrow-left",
         "back"
        ],
        [
         "Forward",
         "Forward to next view",
         "arrow-right",
         "forward"
        ],
        [
         "Pan",
         "Pan axes with left mouse, zoom with right",
         "arrows",
         "pan"
        ],
        [
         "Zoom",
         "Zoom to rectangle",
         "square-o",
         "zoom"
        ],
        [
         "Download",
         "Download plot",
         "floppy-o",
         "save_figure"
        ]
       ]
      }
     },
     "525b1da483e440c5850733dc8227f095": {
      "model_module": "@jupyter-widgets/base",
      "model_module_version": "1.2.0",
      "model_name": "LayoutModel",
      "state": {}
     },
     "525dce4b28324f7b9f231cc4562ec9b9": {
      "model_module": "@jupyter-widgets/base",
      "model_module_version": "1.2.0",
      "model_name": "LayoutModel",
      "state": {}
     },
     "5295c872b57d470cbd8e5693833d4199": {
      "model_module": "@jupyter-widgets/controls",
      "model_module_version": "1.5.0",
      "model_name": "VBoxModel",
      "state": {
       "children": [
        "IPY_MODEL_582ac4e9b53046919d3a4fbdd152c27e",
        "IPY_MODEL_960bf2d27b4c472ea1842686a98aaed1"
       ],
       "layout": "IPY_MODEL_900a396e204d49daa0f3137102a5a66e"
      }
     },
     "52b41fe673614d1185b3b5c30c8281b7": {
      "model_module": "@jupyter-widgets/base",
      "model_module_version": "1.2.0",
      "model_name": "LayoutModel",
      "state": {}
     },
     "52c3b8dff27d44739dd310ec707092a4": {
      "model_module": "@jupyter-widgets/controls",
      "model_module_version": "1.5.0",
      "model_name": "TabModel",
      "state": {
       "_titles": {
        "0": "Global Controls",
        "1": "Viewer Controls",
        "2": "Protected Area Controls",
        "3": "Saturation Controls",
        "4": "Hue Controls"
       },
       "children": [
        "IPY_MODEL_42de344265df460397ba623b0ac386d5",
        "IPY_MODEL_83cf06ab28cd4fd0a20358e54f481690",
        "IPY_MODEL_f7cf492b499c457da20ba19abcba39ad",
        "IPY_MODEL_7072e9e9f1244c9f838b02180b7d23e4",
        "IPY_MODEL_93f5a345c986490ea41b0aa755142d43"
       ],
       "layout": "IPY_MODEL_e39c502cd00f45dcb097013c133acd33"
      }
     },
     "52dc412f97704d7d8a6bdde26bd54cba": {
      "model_module": "@jupyter-widgets/base",
      "model_module_version": "1.2.0",
      "model_name": "LayoutModel",
      "state": {}
     },
     "52dd389e614f46ffbdd60823e8805f11": {
      "model_module": "@jupyter-widgets/controls",
      "model_module_version": "1.5.0",
      "model_name": "DescriptionStyleModel",
      "state": {
       "description_width": ""
      }
     },
     "52ea60cd40334c9d887d7e6c9f9af9ce": {
      "model_module": "@jupyter-widgets/controls",
      "model_module_version": "1.5.0",
      "model_name": "ButtonStyleModel",
      "state": {}
     },
     "5312688f2cbc4201bf6f0bdca6cb0979": {
      "model_module": "@jupyter-widgets/base",
      "model_module_version": "1.2.0",
      "model_name": "LayoutModel",
      "state": {}
     },
     "5325bebf16504a23ae2cc92bdba1ef9b": {
      "model_module": "@jupyter-widgets/base",
      "model_module_version": "1.2.0",
      "model_name": "LayoutModel",
      "state": {
       "border": "solid 4px #222",
       "margin": "4px",
       "padding": "0"
      }
     },
     "534f59547bc340f1a72d82a32f58444f": {
      "model_module": "@jupyter-widgets/controls",
      "model_module_version": "1.5.0",
      "model_name": "ButtonModel",
      "state": {
       "description": "Reset Protected Area",
       "layout": "IPY_MODEL_61b1b6e2c41b46b284b40d0258e61a38",
       "style": "IPY_MODEL_4d075adae35743d081d2733ee210a31d"
      }
     },
     "5361feb0144a466f94eba63315413c8e": {
      "model_module": "@jupyter-widgets/base",
      "model_module_version": "1.2.0",
      "model_name": "LayoutModel",
      "state": {}
     },
     "537875251cbc47dcbad6e56717d1e1c1": {
      "model_module": "@jupyter-widgets/controls",
      "model_module_version": "1.5.0",
      "model_name": "VBoxModel",
      "state": {
       "children": [
        "IPY_MODEL_86da6df3838b4876b2ff7d0e585f9dfe"
       ],
       "layout": "IPY_MODEL_ab169efc90a340acac412547ecd26c1a"
      }
     },
     "5378d84071384510aef788a6f89ddf69": {
      "model_module": "@jupyter-widgets/base",
      "model_module_version": "1.2.0",
      "model_name": "LayoutModel",
      "state": {}
     },
     "5384b1df852b4fd098ef6314d53e892a": {
      "model_module": "@jupyter-widgets/controls",
      "model_module_version": "1.5.0",
      "model_name": "TabModel",
      "state": {
       "_titles": {
        "0": "Global Controls",
        "1": "Viewer Controls",
        "2": "Compression Controls"
       },
       "children": [
        "IPY_MODEL_65b959c167564f8fb6b63258f38cc479",
        "IPY_MODEL_79c0878d8aaa40f68db3bfbb130cd2a4",
        "IPY_MODEL_f7cd8c68b554446b838ec4b2401a4522"
       ],
       "layout": "IPY_MODEL_0ec459f9b9a245b4b52763aa5d31c3b1"
      }
     },
     "5395782c296b4fefa858d303664a1eec": {
      "model_module": "@jupyter-widgets/controls",
      "model_module_version": "1.5.0",
      "model_name": "DropdownModel",
      "state": {
       "_options_labels": [
        "tanh",
        "atan",
        "simple"
       ],
       "description": "Compression Function:",
       "index": 0,
       "layout": "IPY_MODEL_33bf65024f574732b315b4ed8065775f",
       "style": "IPY_MODEL_5cf5094f0fdc4e81ac802543fc64cad0"
      }
     },
     "53a4824202394179a3ee803b69c84c3d": {
      "model_module": "@jupyter-widgets/controls",
      "model_module_version": "1.5.0",
      "model_name": "FloatSliderModel",
      "state": {
       "description": "Exposure",
       "layout": "IPY_MODEL_fb4ae77ba07f4dd698073aa89981f697",
       "max": 8,
       "min": -8,
       "step": 0.1,
       "style": "IPY_MODEL_fa6a18cc28ee4789b23babe3d788488e"
      }
     },
     "53a574c5d0554ceb9be265c5219e66c3": {
      "model_module": "@jupyter-widgets/controls",
      "model_module_version": "1.5.0",
      "model_name": "ButtonModel",
      "state": {
       "description": "Reset Protected Area",
       "layout": "IPY_MODEL_dc5deeaa1a7d492091e093a9de7c8ec9",
       "style": "IPY_MODEL_0b620096d4aa4a77ae431154652f6234"
      }
     },
     "53dd5bd6b93f444390bb9ab8b2015d76": {
      "model_module": "@jupyter-widgets/controls",
      "model_module_version": "1.5.0",
      "model_name": "VBoxModel",
      "state": {
       "children": [
        "IPY_MODEL_2ee1f19d129b4b6aa7b27429460aa8e3"
       ],
       "layout": "IPY_MODEL_6e710d902b79420680ab9e1431d3e361"
      }
     },
     "53f602d940ab42cf8f404d35415f69ed": {
      "model_module": "@jupyter-widgets/base",
      "model_module_version": "1.2.0",
      "model_name": "LayoutModel",
      "state": {}
     },
     "543b508299b0479ba0931606923372ef": {
      "model_module": "@jupyter-widgets/base",
      "model_module_version": "1.2.0",
      "model_name": "LayoutModel",
      "state": {
       "border": "solid 4px #222",
       "margin": "4px",
       "padding": "0"
      }
     },
     "54577062c3aa46d599681f15354ef11b": {
      "model_module": "@jupyter-widgets/base",
      "model_module_version": "1.2.0",
      "model_name": "LayoutModel",
      "state": {}
     },
     "5466ceee2f77464b9c5d9f596ee689f1": {
      "model_module": "@jupyter-widgets/base",
      "model_module_version": "1.2.0",
      "model_name": "LayoutModel",
      "state": {}
     },
     "54ba44190da7478f97b35cbd19e82863": {
      "model_module": "@jupyter-widgets/controls",
      "model_module_version": "1.5.0",
      "model_name": "DescriptionStyleModel",
      "state": {
       "description_width": ""
      }
     },
     "54ddedd4b3124a108f033405ad7306e9": {
      "model_module": "@jupyter-widgets/controls",
      "model_module_version": "1.5.0",
      "model_name": "SliderStyleModel",
      "state": {
       "description_width": ""
      }
     },
     "54f192ced8984381b04a083d7b46505f": {
      "model_module": "@jupyter-widgets/controls",
      "model_module_version": "1.5.0",
      "model_name": "DescriptionStyleModel",
      "state": {
       "description_width": ""
      }
     },
     "552fbdf40fef495181b6e55dd86623ca": {
      "model_module": "@jupyter-widgets/base",
      "model_module_version": "1.2.0",
      "model_name": "LayoutModel",
      "state": {}
     },
     "555c8d34ad024fada012d117486facf6": {
      "model_module": "@jupyter-widgets/output",
      "model_module_version": "1.0.0",
      "model_name": "OutputModel",
      "state": {
       "layout": "IPY_MODEL_d9ed28caaad649e58ca3946b860ab5e1",
       "outputs": [
        {
         "data": {
          "application/vnd.jupyter.widget-view+json": {
           "model_id": "01b71ccf7da24ffbb823fd1e3d2e83a6",
           "version_major": 2,
           "version_minor": 0
          },
          "text/plain": "Canvas(toolbar=Toolbar(toolitems=[('Home', 'Reset original view', 'home', 'home'), ('Back', 'Back to previous …"
         },
         "metadata": {},
         "output_type": "display_data"
        }
       ]
      }
     },
     "55678fa355df49cdbd23e8bd9a3e4e35": {
      "model_module": "@jupyter-widgets/controls",
      "model_module_version": "1.5.0",
      "model_name": "VBoxModel",
      "state": {
       "children": [
        "IPY_MODEL_75439290f8354fd8b499fd9c3e7d309f"
       ],
       "layout": "IPY_MODEL_d174571568d24f47a15142b1d83a6706"
      }
     },
     "556e0325c5af4c86bd76c9fd0d8823b0": {
      "model_module": "@jupyter-widgets/controls",
      "model_module_version": "1.5.0",
      "model_name": "SliderStyleModel",
      "state": {
       "description_width": ""
      }
     },
     "55700a95490d42ad808ca7928d5c8598": {
      "model_module": "@jupyter-widgets/output",
      "model_module_version": "1.0.0",
      "model_name": "OutputModel",
      "state": {
       "layout": "IPY_MODEL_a8e3db14d9d0481ebbdba4b6a050c0c8",
       "outputs": [
        {
         "data": {
          "application/vnd.jupyter.widget-view+json": {
           "model_id": "c36dcff7559d4e1c98c67881a67d3565",
           "version_major": 2,
           "version_minor": 0
          },
          "text/plain": "Canvas(toolbar=Toolbar(toolitems=[('Home', 'Reset original view', 'home', 'home'), ('Back', 'Back to previous …"
         },
         "metadata": {},
         "output_type": "display_data"
        }
       ]
      }
     },
     "558283d35d00437ca30eb9db39a65c31": {
      "model_module": "@jupyter-widgets/controls",
      "model_module_version": "1.5.0",
      "model_name": "FloatSliderModel",
      "state": {
       "description": "Exposure",
       "layout": "IPY_MODEL_bc63e96c66d04d01bdf3dd5bea9ebd1d",
       "max": 8,
       "min": -8,
       "step": 0.1,
       "style": "IPY_MODEL_0e3cec7d032642d49557f7b0ec0324b5"
      }
     },
     "55cd84f32931496885998efa3778bfc4": {
      "model_module": "@jupyter-widgets/controls",
      "model_module_version": "1.5.0",
      "model_name": "DescriptionStyleModel",
      "state": {
       "description_width": ""
      }
     },
     "55d7fce1c17341e985aa9ecbe86487bf": {
      "model_module": "@jupyter-widgets/output",
      "model_module_version": "1.0.0",
      "model_name": "OutputModel",
      "state": {
       "layout": "IPY_MODEL_3cd91abed9354449a8a487755bade90c",
       "outputs": [
        {
         "data": {
          "application/vnd.jupyter.widget-view+json": {
           "model_id": "4d47be2282ed4f3d85a062b46177a8a4",
           "version_major": 2,
           "version_minor": 0
          },
          "text/plain": "Canvas(toolbar=Toolbar(toolitems=[('Home', 'Reset original view', 'home', 'home'), ('Back', 'Back to previous …"
         },
         "metadata": {},
         "output_type": "display_data"
        }
       ]
      }
     },
     "56074997322643d69f4d950caa70afe8": {
      "model_module": "@jupyter-widgets/base",
      "model_module_version": "1.2.0",
      "model_name": "LayoutModel",
      "state": {}
     },
     "561b0e3d67a941fb9e26b9c3e841350c": {
      "model_module": "@jupyter-widgets/controls",
      "model_module_version": "1.5.0",
      "model_name": "CheckboxModel",
      "state": {
       "description": "Disable Medicina",
       "disabled": false,
       "layout": "IPY_MODEL_00335263f2524be499d75dd5c7a9eb83",
       "style": "IPY_MODEL_2b3e21d9d30c427887cd2af0636220cb",
       "value": false
      }
     },
     "56502a942b46410b80665ba20bf1393a": {
      "model_module": "@jupyter-widgets/controls",
      "model_module_version": "1.5.0",
      "model_name": "ButtonStyleModel",
      "state": {}
     },
     "5662fa2409854eb8b5f99151a5cc8f19": {
      "model_module": "@jupyter-widgets/controls",
      "model_module_version": "1.5.0",
      "model_name": "HBoxModel",
      "state": {
       "children": [
        "IPY_MODEL_b49c76901dc24e5484d3b3ea62635d87",
        "IPY_MODEL_0ac2c193737146ebbfa38f1c6f18017b",
        "IPY_MODEL_227f908787b24b2cac3aa43702357e9b",
        "IPY_MODEL_2bad6669cba14c0e9cd32249264c7bcb"
       ],
       "layout": "IPY_MODEL_6fa2548f0b1b409385201a2da2259dc2"
      }
     },
     "5666c20099d142379a6a6db562e45cc8": {
      "model_module": "@jupyter-widgets/base",
      "model_module_version": "1.2.0",
      "model_name": "LayoutModel",
      "state": {}
     },
     "566729a7c86b4e86bdbb1376ae2d941d": {
      "model_module": "@jupyter-widgets/controls",
      "model_module_version": "1.5.0",
      "model_name": "HBoxModel",
      "state": {
       "children": [
        "IPY_MODEL_19e20a29af9e45898ec137dc680a108f",
        "IPY_MODEL_916787071b5e451bad8bbedb5d668eba",
        "IPY_MODEL_a3f0779844034aab8ca6046451303db8",
        "IPY_MODEL_d914668e4f944a7bb3d1a10d6f141eba"
       ],
       "layout": "IPY_MODEL_03ebeab73bf2451ba3251455cca3af17"
      }
     },
     "56f83f40c55f4b589dd4fb0dcba59f36": {
      "model_module": "@jupyter-widgets/controls",
      "model_module_version": "1.5.0",
      "model_name": "FloatSliderModel",
      "state": {
       "description": "225°",
       "layout": "IPY_MODEL_a19d86a0c16d416d9bea09885376aa59",
       "max": 1,
       "min": -1,
       "step": 0.01,
       "style": "IPY_MODEL_7809c784690a438ba992f25b29ccf865"
      }
     },
     "5719e6eb2af741c78a240eaf95a4c13f": {
      "model_module": "@jupyter-widgets/base",
      "model_module_version": "1.2.0",
      "model_name": "LayoutModel",
      "state": {}
     },
     "57289c15a5064f2982dd322db1fcaf94": {
      "model_module": "@jupyter-widgets/controls",
      "model_module_version": "1.5.0",
      "model_name": "ButtonStyleModel",
      "state": {}
     },
     "5750e53f5c8c4a369dc2be607b8a3e78": {
      "model_module": "@jupyter-widgets/controls",
      "model_module_version": "1.5.0",
      "model_name": "SliderStyleModel",
      "state": {
       "description_width": ""
      }
     },
     "577567ec968e4cddbab9b800bc9747c0": {
      "model_module": "@jupyter-widgets/controls",
      "model_module_version": "1.5.0",
      "model_name": "ButtonModel",
      "state": {
       "description": "Save Figure",
       "layout": "IPY_MODEL_41aefce59762479e851a9738304493f2",
       "style": "IPY_MODEL_a7818ed0e01249ac8b40a2dd2f7805a4"
      }
     },
     "5795b942935448d8b730f3f2bbc55562": {
      "model_module": "@jupyter-widgets/base",
      "model_module_version": "1.2.0",
      "model_name": "LayoutModel",
      "state": {}
     },
     "57be9971bd904af9b559757e42cf564e": {
      "model_module": "@jupyter-widgets/controls",
      "model_module_version": "1.5.0",
      "model_name": "FloatSliderModel",
      "state": {
       "description": "Compression Threshold",
       "layout": "IPY_MODEL_d2695ea6fe7a475fbd2a2c70012ae78f",
       "max": 1,
       "step": 0.01,
       "style": "IPY_MODEL_03bf3568880648f0980042463bc7d765",
       "value": 0.8
      }
     },
     "57ec16a1b5f6449f909a207c55fbcdc2": {
      "model_module": "@jupyter-widgets/controls",
      "model_module_version": "1.5.0",
      "model_name": "DescriptionStyleModel",
      "state": {
       "description_width": ""
      }
     },
     "582ac4e9b53046919d3a4fbdd152c27e": {
      "model_module": "@jupyter-widgets/controls",
      "model_module_version": "1.5.0",
      "model_name": "FloatSliderModel",
      "state": {
       "description": "270°",
       "layout": "IPY_MODEL_e8bf862e725a4389b6d26e12ab2a7984",
       "max": 1,
       "min": -1,
       "step": 0.01,
       "style": "IPY_MODEL_5bae5db75fd7418b9278226cadd4b223"
      }
     },
     "585279e69f484ceda7c89dec00436735": {
      "model_module": "@jupyter-widgets/controls",
      "model_module_version": "1.5.0",
      "model_name": "VBoxModel",
      "state": {
       "children": [
        "IPY_MODEL_c9d551508c4c4f9b87a1aca8ec3e0f07"
       ],
       "layout": "IPY_MODEL_778c9eb8b2074d6d8a6952ebd770d589"
      }
     },
     "5858fafe85fb47efb7738a323f204337": {
      "model_module": "@jupyter-widgets/base",
      "model_module_version": "1.2.0",
      "model_name": "LayoutModel",
      "state": {}
     },
     "587493a6a07a4a2ca5f4ba213cd3045a": {
      "model_module": "@jupyter-widgets/base",
      "model_module_version": "1.2.0",
      "model_name": "LayoutModel",
      "state": {}
     },
     "5888a6f51d69415699e9df32def24540": {
      "model_module": "@jupyter-widgets/controls",
      "model_module_version": "1.5.0",
      "model_name": "DescriptionStyleModel",
      "state": {
       "description_width": ""
      }
     },
     "58a3a6437c9b4f7aa314b464cab972b7": {
      "model_module": "@jupyter-widgets/base",
      "model_module_version": "1.2.0",
      "model_name": "LayoutModel",
      "state": {}
     },
     "58a6d98f6c294e1da9506fa38d86ea82": {
      "model_module": "@jupyter-widgets/controls",
      "model_module_version": "1.5.0",
      "model_name": "ButtonModel",
      "state": {
       "description": "Save Figure",
       "layout": "IPY_MODEL_38a3556837734a5ebca4d797b18aa943",
       "style": "IPY_MODEL_889b59a5720b4960ab69702107dadb20"
      }
     },
     "58b420f4348049cbad84f449c8b325f9": {
      "model_module": "@jupyter-widgets/base",
      "model_module_version": "1.2.0",
      "model_name": "LayoutModel",
      "state": {}
     },
     "58d72346840c49108e5861c9a89aea38": {
      "model_module": "@jupyter-widgets/controls",
      "model_module_version": "1.5.0",
      "model_name": "FloatSliderModel",
      "state": {
       "description": "0°",
       "layout": "IPY_MODEL_ea62dbb25c104297a4137945209da669",
       "max": 1,
       "min": -1,
       "step": 0.01,
       "style": "IPY_MODEL_5c9ebef60599450781cdf73798422ae2"
      }
     },
     "5910d5c76ec849d499bfe613a84150f7": {
      "model_module": "@jupyter-widgets/controls",
      "model_module_version": "1.5.0",
      "model_name": "CheckboxModel",
      "state": {
       "description": "Show Out-of-Gamut",
       "disabled": false,
       "layout": "IPY_MODEL_325d404d9890400a940305572da6baa1",
       "style": "IPY_MODEL_b59c4b4f6022400db0765aed4f51321a",
       "value": false
      }
     },
     "59435f27bb2a4b4eaad904e72be1ea09": {
      "model_module": "@jupyter-widgets/controls",
      "model_module_version": "1.5.0",
      "model_name": "DropdownModel",
      "state": {
       "_options_labels": [
        "tanh",
        "atan",
        "simple"
       ],
       "description": "Compression Function:",
       "index": 0,
       "layout": "IPY_MODEL_97db5a4953094e39869540ed88b519e0",
       "style": "IPY_MODEL_14138a2f6acf4bc0a84e25d7ce580304"
      }
     },
     "599f5192fddd4f60a3e65e0f5b1c1f42": {
      "model_module": "@jupyter-widgets/output",
      "model_module_version": "1.0.0",
      "model_name": "OutputModel",
      "state": {
       "layout": "IPY_MODEL_8383893f938648e685605efb6df5fe70",
       "outputs": [
        {
         "data": {
          "application/vnd.jupyter.widget-view+json": {
           "model_id": "18e3117cab5e4c9e852977df9d57f4f6",
           "version_major": 2,
           "version_minor": 0
          },
          "text/plain": "Canvas(toolbar=Toolbar(toolitems=[('Home', 'Reset original view', 'home', 'home'), ('Back', 'Back to previous …"
         },
         "metadata": {},
         "output_type": "display_data"
        }
       ]
      }
     },
     "5a0059746e3741548d48f9a2a70b2fd5": {
      "model_module": "@jupyter-widgets/base",
      "model_module_version": "1.2.0",
      "model_name": "LayoutModel",
      "state": {}
     },
     "5a04c4f1486448668e698dd66bbe4d46": {
      "model_module": "@jupyter-widgets/controls",
      "model_module_version": "1.5.0",
      "model_name": "SliderStyleModel",
      "state": {
       "description_width": ""
      }
     },
     "5a20e4703be04fcb972e4fd803255c4d": {
      "model_module": "@jupyter-widgets/controls",
      "model_module_version": "1.5.0",
      "model_name": "SliderStyleModel",
      "state": {
       "description_width": ""
      }
     },
     "5a87197a27d447edbae316134f3d8ed1": {
      "model_module": "@jupyter-widgets/base",
      "model_module_version": "1.2.0",
      "model_name": "LayoutModel",
      "state": {}
     },
     "5ab14eb68c24425e96711cdaaaacebb4": {
      "model_module": "@jupyter-widgets/controls",
      "model_module_version": "1.5.0",
      "model_name": "DescriptionStyleModel",
      "state": {
       "description_width": ""
      }
     },
     "5abe6bb5938c4baea7906fffb26fbfac": {
      "model_module": "@jupyter-widgets/controls",
      "model_module_version": "1.5.0",
      "model_name": "FloatSliderModel",
      "state": {
       "description": "225°",
       "layout": "IPY_MODEL_b0405f89d0de4960b4cff5ff4750901d",
       "max": 1,
       "min": -1,
       "step": 0.01,
       "style": "IPY_MODEL_4d92ac7ecef74fdc8687ae671c5061eb"
      }
     },
     "5abedf5d4f854750b7d1dc33b2f58f41": {
      "model_module": "@jupyter-widgets/controls",
      "model_module_version": "1.5.0",
      "model_name": "ButtonModel",
      "state": {
       "description": "Reset Exposure",
       "layout": "IPY_MODEL_b64040f450734e4a9b33e86ceca3f87a",
       "style": "IPY_MODEL_ddf92500cef84ec3aad0dc9a0e2cab68"
      }
     },
     "5b1969727e4549ac8e5d1c194755bfcf": {
      "model_module": "@jupyter-widgets/controls",
      "model_module_version": "1.5.0",
      "model_name": "ButtonStyleModel",
      "state": {}
     },
     "5b536f9d86464804948fe6ed8c6a7dd7": {
      "model_module": "@jupyter-widgets/controls",
      "model_module_version": "1.5.0",
      "model_name": "HBoxModel",
      "state": {
       "children": [
        "IPY_MODEL_1867a13dade244b9915152aece70f054",
        "IPY_MODEL_70b7a782786e47999201f46fba7bc87b",
        "IPY_MODEL_b2e1de58f8c74530a698fd0c663c0b8f",
        "IPY_MODEL_474e77fb15434ee8afdee3c0a0922270"
       ],
       "layout": "IPY_MODEL_01148b9c0db3473692ce2ac33630af43"
      }
     },
     "5b87d3b2c44e426388aa0def53640adc": {
      "model_module": "@jupyter-widgets/base",
      "model_module_version": "1.2.0",
      "model_name": "LayoutModel",
      "state": {}
     },
     "5baacfe78f624ce8a07e412b05723d99": {
      "model_module": "@jupyter-widgets/controls",
      "model_module_version": "1.5.0",
      "model_name": "TabModel",
      "state": {
       "_titles": {
        "0": "Global Controls",
        "1": "Viewer Controls",
        "2": "Protected Area Controls",
        "3": "Saturation Controls",
        "4": "Hue Controls"
       },
       "children": [
        "IPY_MODEL_b08a0b170c8b4f10ab87b8f5873f66d6",
        "IPY_MODEL_5662fa2409854eb8b5f99151a5cc8f19",
        "IPY_MODEL_74c7a95aba7f475cb576f02d50f4d181",
        "IPY_MODEL_d00067a8ad594a40893e47162f2e3ddf",
        "IPY_MODEL_d389cbb321f64450b82d6ac3a3993177"
       ],
       "layout": "IPY_MODEL_026c47ea2dbf454fa43bd411dfae7b3c"
      }
     },
     "5bae5db75fd7418b9278226cadd4b223": {
      "model_module": "@jupyter-widgets/controls",
      "model_module_version": "1.5.0",
      "model_name": "SliderStyleModel",
      "state": {
       "description_width": ""
      }
     },
     "5bd4e4ae4b494554826d759ac2416876": {
      "model_module": "@jupyter-widgets/controls",
      "model_module_version": "1.5.0",
      "model_name": "BoxModel",
      "state": {
       "children": [
        "IPY_MODEL_06d208fced624ebb9190417fb9816791",
        "IPY_MODEL_520720e2b9db463793c03e97feb40bf1"
       ],
       "layout": "IPY_MODEL_3bc28c9a395a4a67b4d0d3cef0b9eaa6"
      }
     },
     "5bf9fc60b8e640c69c38dfdfda3edb2e": {
      "model_module": "@jupyter-widgets/base",
      "model_module_version": "1.2.0",
      "model_name": "LayoutModel",
      "state": {}
     },
     "5c06e48404304b7987d806113a9af9ab": {
      "model_module": "@jupyter-widgets/base",
      "model_module_version": "1.2.0",
      "model_name": "LayoutModel",
      "state": {}
     },
     "5c0c98b1dd954aa9af07f0449caf41ff": {
      "model_module": "@jupyter-widgets/base",
      "model_module_version": "1.2.0",
      "model_name": "LayoutModel",
      "state": {}
     },
     "5c0ca0308d5e4db789982b00d6f4522c": {
      "model_module": "@jupyter-widgets/controls",
      "model_module_version": "1.5.0",
      "model_name": "ButtonStyleModel",
      "state": {}
     },
     "5c274a7677624bc981a3b9718ee77a08": {
      "model_module": "@jupyter-widgets/controls",
      "model_module_version": "1.5.0",
      "model_name": "HBoxModel",
      "state": {
       "children": [
        "IPY_MODEL_cf88330c6abe48f5ab3bff9282eb6652",
        "IPY_MODEL_cb7f8759bf28420d9729f5cafa919af3",
        "IPY_MODEL_19baebbddb2449a3b58f59b43e35fbb4",
        "IPY_MODEL_3c18d760e4c14a6fb283b3876843f443"
       ],
       "layout": "IPY_MODEL_9fad44740ff5481da9201794162093dd"
      }
     },
     "5c2cc6c79d8c4823a806b00491cc7e15": {
      "model_module": "@jupyter-widgets/base",
      "model_module_version": "1.2.0",
      "model_name": "LayoutModel",
      "state": {}
     },
     "5c6b68404b284eb0897c7b2e5c6d0689": {
      "model_module": "@jupyter-widgets/base",
      "model_module_version": "1.2.0",
      "model_name": "LayoutModel",
      "state": {}
     },
     "5c7cc8e8b85d4031b05f17c8d3e0ab5f": {
      "model_module": "@jupyter-widgets/base",
      "model_module_version": "1.2.0",
      "model_name": "LayoutModel",
      "state": {
       "border": "solid 4px #222",
       "margin": "4px",
       "padding": "0"
      }
     },
     "5c9ebef60599450781cdf73798422ae2": {
      "model_module": "@jupyter-widgets/controls",
      "model_module_version": "1.5.0",
      "model_name": "SliderStyleModel",
      "state": {
       "description_width": ""
      }
     },
     "5ca9db309e78415187bbd74f51186396": {
      "model_module": "@jupyter-widgets/controls",
      "model_module_version": "1.5.0",
      "model_name": "HBoxModel",
      "state": {
       "children": [
        "IPY_MODEL_0d1de33a00564e81af52c72c34e6c4ba",
        "IPY_MODEL_927263b814584a28993eb478517a7c61",
        "IPY_MODEL_3bacae7731da4ce6b9cccbb4adc1f59a",
        "IPY_MODEL_ee6c293837454235abc74f9f7a2a4ccb"
       ],
       "layout": "IPY_MODEL_129bd898b1e34f03bb35b6c4bbd4dbd6"
      }
     },
     "5cb3f707ae324819a1ff979641eba603": {
      "model_module": "@jupyter-widgets/controls",
      "model_module_version": "1.5.0",
      "model_name": "ButtonStyleModel",
      "state": {}
     },
     "5cd0da482a09439289f4f65802713d78": {
      "model_module": "@jupyter-widgets/controls",
      "model_module_version": "1.5.0",
      "model_name": "CheckboxModel",
      "state": {
       "description": "Disable Medicina",
       "disabled": false,
       "layout": "IPY_MODEL_6ff8d59f97c8423886a690988d028cfd",
       "style": "IPY_MODEL_b2577651a9664342937534dd49136c64",
       "value": true
      }
     },
     "5cd6ad267f304cb18e8b76e56c4c89ec": {
      "model_module": "@jupyter-widgets/controls",
      "model_module_version": "1.5.0",
      "model_name": "DropdownModel",
      "state": {
       "_options_labels": [
        "tanh",
        "atan",
        "simple"
       ],
       "description": "Compression Function:",
       "index": 0,
       "layout": "IPY_MODEL_22842cc80de747babc9c7a0f28fc708b",
       "style": "IPY_MODEL_c6b53903f92146d4b6371aa23cc83622"
      }
     },
     "5cee45bc7fec4c49821b5aa52e65ee0b": {
      "model_module": "@jupyter-widgets/base",
      "model_module_version": "1.2.0",
      "model_name": "LayoutModel",
      "state": {}
     },
     "5cf5094f0fdc4e81ac802543fc64cad0": {
      "model_module": "@jupyter-widgets/controls",
      "model_module_version": "1.5.0",
      "model_name": "DescriptionStyleModel",
      "state": {
       "description_width": ""
      }
     },
     "5d1e5906090a4bd8b23bd5a0c73b53dc": {
      "model_module": "@jupyter-widgets/base",
      "model_module_version": "1.2.0",
      "model_name": "LayoutModel",
      "state": {}
     },
     "5d254eeaa5ed494499290a8582b51d28": {
      "model_module": "@jupyter-widgets/base",
      "model_module_version": "1.2.0",
      "model_name": "LayoutModel",
      "state": {}
     },
     "5d3a1dc71a1d4077936897e0fe4d6fe8": {
      "model_module": "@jupyter-widgets/controls",
      "model_module_version": "1.5.0",
      "model_name": "ButtonStyleModel",
      "state": {}
     },
     "5d63b8e6bc664b09be8ea39ce8b5581a": {
      "model_module": "@jupyter-widgets/controls",
      "model_module_version": "1.5.0",
      "model_name": "ButtonStyleModel",
      "state": {}
     },
     "5d717d1184cf4bc0b8a9fd68a0441f8b": {
      "model_module": "@jupyter-widgets/base",
      "model_module_version": "1.2.0",
      "model_name": "LayoutModel",
      "state": {}
     },
     "5dbcc316c1b24c2893d11c3abee58d0d": {
      "model_module": "@jupyter-widgets/controls",
      "model_module_version": "1.5.0",
      "model_name": "DescriptionStyleModel",
      "state": {
       "description_width": ""
      }
     },
     "5dd12d1949de4160b30cfdcc0d706b5f": {
      "model_module": "@jupyter-widgets/base",
      "model_module_version": "1.2.0",
      "model_name": "LayoutModel",
      "state": {}
     },
     "5dd7b963117d4a7c949d366642567472": {
      "model_module": "@jupyter-widgets/controls",
      "model_module_version": "1.5.0",
      "model_name": "DropdownModel",
      "state": {
       "_options_labels": [
        "sRGB",
        "ACES (sRGB)"
       ],
       "description": "View Transform:",
       "index": 0,
       "layout": "IPY_MODEL_6f8507b2785b403d94b15926cee6fe10",
       "style": "IPY_MODEL_b3df3ae99fde4c1189145d9f5ab64bfc"
      }
     },
     "5dee301f6a5349cc88f025114c9dfc6d": {
      "model_module": "@jupyter-widgets/base",
      "model_module_version": "1.2.0",
      "model_name": "LayoutModel",
      "state": {}
     },
     "5df1480cefe04e3a908f454a0ab1d50c": {
      "model_module": "@jupyter-widgets/controls",
      "model_module_version": "1.5.0",
      "model_name": "SliderStyleModel",
      "state": {
       "description_width": ""
      }
     },
     "5e100d7740314944b74f71bc5e5b5a1a": {
      "model_module": "@jupyter-widgets/base",
      "model_module_version": "1.2.0",
      "model_name": "LayoutModel",
      "state": {
       "border": "solid 4px #222",
       "margin": "4px",
       "padding": "0"
      }
     },
     "5e1e557e1e81454590b917a1a6f1ab4c": {
      "model_module": "@jupyter-widgets/base",
      "model_module_version": "1.2.0",
      "model_name": "LayoutModel",
      "state": {}
     },
     "5e38498fa7d74c8791d7f114106444e6": {
      "model_module": "@jupyter-widgets/controls",
      "model_module_version": "1.5.0",
      "model_name": "ButtonStyleModel",
      "state": {}
     },
     "5e5bcb8c2b59436b8e8acf1d5ab6a131": {
      "model_module": "@jupyter-widgets/base",
      "model_module_version": "1.2.0",
      "model_name": "LayoutModel",
      "state": {}
     },
     "5e5d76f35a8646abbd810133fb8be2bd": {
      "model_module": "@jupyter-widgets/controls",
      "model_module_version": "1.5.0",
      "model_name": "VBoxModel",
      "state": {
       "children": [
        "IPY_MODEL_c5d5069ba9dd4434b7474ae6cacbdeea",
        "IPY_MODEL_87a667ed05d7420ca6ee7efb9b595acc"
       ],
       "layout": "IPY_MODEL_8fe05f19550f4944b25f29e0b368648f"
      }
     },
     "5e8b5c1e8f4649e9a2db7ab0a4a04ee2": {
      "model_module": "@jupyter-widgets/controls",
      "model_module_version": "1.5.0",
      "model_name": "ButtonStyleModel",
      "state": {}
     },
     "5ea85344fcd94efcbfc750bbd2d54a25": {
      "model_module": "@jupyter-widgets/base",
      "model_module_version": "1.2.0",
      "model_name": "LayoutModel",
      "state": {}
     },
     "5eb7e6f504c54f7b91a3670158eb978c": {
      "model_module": "@jupyter-widgets/base",
      "model_module_version": "1.2.0",
      "model_name": "LayoutModel",
      "state": {}
     },
     "5ec06f1b9b5b436a90f0f0248339435b": {
      "model_module": "@jupyter-widgets/output",
      "model_module_version": "1.0.0",
      "model_name": "OutputModel",
      "state": {
       "layout": "IPY_MODEL_9b7afaa614b0454f9ede0ca198418ea9",
       "outputs": [
        {
         "data": {
          "application/vnd.jupyter.widget-view+json": {
           "model_id": "79fe229a982343219e6930ad69d0e509",
           "version_major": 2,
           "version_minor": 0
          },
          "text/plain": "Canvas(toolbar=Toolbar(toolitems=[('Home', 'Reset original view', 'home', 'home'), ('Back', 'Back to previous …"
         },
         "metadata": {},
         "output_type": "display_data"
        }
       ]
      }
     },
     "5ec32555d8344bdebcfc69bf0e65ff1d": {
      "model_module": "@jupyter-widgets/base",
      "model_module_version": "1.2.0",
      "model_name": "LayoutModel",
      "state": {
       "border": "solid 4px #222",
       "margin": "4px",
       "padding": "0"
      }
     },
     "5ee3b52fc10c4a69beb1dc9b9d5be644": {
      "model_module": "@jupyter-widgets/controls",
      "model_module_version": "1.5.0",
      "model_name": "SliderStyleModel",
      "state": {
       "description_width": ""
      }
     },
     "5eefe542dd974c80ad36608ef92e95e1": {
      "model_module": "@jupyter-widgets/base",
      "model_module_version": "1.2.0",
      "model_name": "LayoutModel",
      "state": {}
     },
     "5ef6e2f52d1f41be87281df83659b811": {
      "model_module": "@jupyter-widgets/base",
      "model_module_version": "1.2.0",
      "model_name": "LayoutModel",
      "state": {}
     },
     "5f1e2f1c691041879a622a26881944a9": {
      "model_module": "@jupyter-widgets/controls",
      "model_module_version": "1.5.0",
      "model_name": "HBoxModel",
      "state": {
       "children": [
        "IPY_MODEL_1f590f611ac94d478cfa9df7865741aa",
        "IPY_MODEL_4ea1e47461f944dbaa4f90d302b41d0e",
        "IPY_MODEL_f5f879cd05f84d969480ea8489af8479"
       ],
       "layout": "IPY_MODEL_def5a6aef3df4c3d90d46e5c5bca3e56"
      }
     },
     "5f1e33ebd49646ca82497591c6e0b624": {
      "model_module": "@jupyter-widgets/base",
      "model_module_version": "1.2.0",
      "model_name": "LayoutModel",
      "state": {}
     },
     "5f23e3ac77c7402f9124b546cbeb0d22": {
      "model_module": "@jupyter-widgets/controls",
      "model_module_version": "1.5.0",
      "model_name": "ButtonModel",
      "state": {
       "description": "Save Figure",
       "layout": "IPY_MODEL_62a00d8a7e18481d9de3b825ae78d79b",
       "style": "IPY_MODEL_ffd89022016845a3b2ad85e957d6fedb"
      }
     },
     "5f2992477752483fbf36d1032f6f0d14": {
      "model_module": "@jupyter-widgets/base",
      "model_module_version": "1.2.0",
      "model_name": "LayoutModel",
      "state": {}
     },
     "5f5cebf7c38e4ab2bde179d134efb9f5": {
      "model_module": "@jupyter-widgets/base",
      "model_module_version": "1.2.0",
      "model_name": "LayoutModel",
      "state": {}
     },
     "5f5f03d741c14c489e672bec16e1a43c": {
      "model_module": "@jupyter-widgets/controls",
      "model_module_version": "1.5.0",
      "model_name": "FloatSliderModel",
      "state": {
       "description": "315°",
       "layout": "IPY_MODEL_afdb5c98df8a4d5ea9bfd19b4235a3fb",
       "max": 1,
       "min": -1,
       "step": 0.01,
       "style": "IPY_MODEL_dcc33cd2dac340f6971defd015a8595a"
      }
     },
     "5f638c1b7780495d975ffc4c22c6be43": {
      "model_module": "@jupyter-widgets/controls",
      "model_module_version": "1.5.0",
      "model_name": "DropdownModel",
      "state": {
       "_options_labels": [
        "tanh",
        "atan",
        "simple"
       ],
       "description": "Compression Function:",
       "index": 0,
       "layout": "IPY_MODEL_fea1d338914c4c55a47d607e7a9a3afc",
       "style": "IPY_MODEL_bd09322d20514f1193d4698ec98a8dea"
      }
     },
     "5f6a2c0c49624c7495efef603c940710": {
      "model_module": "@jupyter-widgets/controls",
      "model_module_version": "1.5.0",
      "model_name": "FloatSliderModel",
      "state": {
       "description": "Protected Area Threshold",
       "layout": "IPY_MODEL_a367014f5cd140da89c53b447364769b",
       "max": 1,
       "step": 0.01,
       "style": "IPY_MODEL_6b10b555ed7c4780921a41422665a18a",
       "value": 0.5
      }
     },
     "5fa5fecf45254b279736998dda349a32": {
      "model_module": "@jupyter-widgets/output",
      "model_module_version": "1.0.0",
      "model_name": "OutputModel",
      "state": {
       "layout": "IPY_MODEL_6fb63ce904644c6f872ec1f2a0a7c7cf",
       "outputs": [
        {
         "data": {
          "application/vnd.jupyter.widget-view+json": {
           "model_id": "ee7f171a79894cefa95f5dbda1ee91d9",
           "version_major": 2,
           "version_minor": 0
          },
          "text/plain": "Canvas(toolbar=Toolbar(toolitems=[('Home', 'Reset original view', 'home', 'home'), ('Back', 'Back to previous …"
         },
         "metadata": {},
         "output_type": "display_data"
        }
       ]
      }
     },
     "5fb04a7d1a914d6b99c8029a313047ca": {
      "model_module": "jupyter-matplotlib",
      "model_module_version": "^0.7.2",
      "model_name": "MPLCanvasModel",
      "state": {
       "_figure_label": "Figure 14",
       "_height": 440,
       "_width": 1100,
       "header_visible": false,
       "layout": "IPY_MODEL_69343a7db37548748b13b99bc9aade55",
       "resizable": false,
       "toolbar": "IPY_MODEL_7da74f67f7c5482a8a7e83604ac9fd40",
       "toolbar_position": "left",
       "toolbar_visible": false
      }
     },
     "5fcd8d5ee2c643aa9b0e001b20680475": {
      "model_module": "@jupyter-widgets/controls",
      "model_module_version": "1.5.0",
      "model_name": "SliderStyleModel",
      "state": {
       "description_width": ""
      }
     },
     "6028aae94a864b05900d26e8ff1d222b": {
      "model_module": "@jupyter-widgets/controls",
      "model_module_version": "1.5.0",
      "model_name": "SliderStyleModel",
      "state": {
       "description_width": ""
      }
     },
     "607d28276333412388cb109e7964e4e3": {
      "model_module": "@jupyter-widgets/controls",
      "model_module_version": "1.5.0",
      "model_name": "VBoxModel",
      "state": {
       "children": [
        "IPY_MODEL_6a39a32a36534d608ca974ba2f04437b",
        "IPY_MODEL_aa231be4eaab43cf957a812aea1a35de"
       ],
       "layout": "IPY_MODEL_7ba491173d2a43e19f68e458e9ecbe32"
      }
     },
     "6087b8c53a6b4b449eaa718d6c465e78": {
      "model_module": "@jupyter-widgets/controls",
      "model_module_version": "1.5.0",
      "model_name": "SliderStyleModel",
      "state": {
       "description_width": ""
      }
     },
     "6097f5d180fd494392c2f93223250c51": {
      "model_module": "@jupyter-widgets/base",
      "model_module_version": "1.2.0",
      "model_name": "LayoutModel",
      "state": {}
     },
     "60a2bf173bcf4a628f91818cfe87346f": {
      "model_module": "@jupyter-widgets/base",
      "model_module_version": "1.2.0",
      "model_name": "LayoutModel",
      "state": {}
     },
     "61038e6fc36f4984be0473176328ecaa": {
      "model_module": "@jupyter-widgets/controls",
      "model_module_version": "1.5.0",
      "model_name": "TabModel",
      "state": {
       "_titles": {
        "0": "Global Controls",
        "1": "Viewer Controls",
        "2": "Protected Area Controls",
        "3": "Saturation Controls",
        "4": "Hue Controls"
       },
       "children": [
        "IPY_MODEL_67c47254592846bca06b21f4d143a80c",
        "IPY_MODEL_dc7b6e54f977479bb6bf5f8166b705e1",
        "IPY_MODEL_fd5e4b600f8e488bad44929456973b42",
        "IPY_MODEL_6dfef14fa5ea47f0be988b6c7ea0c0c0",
        "IPY_MODEL_f79de7800a954d9096d02437e20adc23"
       ],
       "layout": "IPY_MODEL_805936c3b9d74ae287ad1aa6c8050e04"
      }
     },
     "6119eb493d254ea5aeefd5540f453a3b": {
      "model_module": "@jupyter-widgets/controls",
      "model_module_version": "1.5.0",
      "model_name": "VBoxModel",
      "state": {
       "children": [
        "IPY_MODEL_965ce854f52b439eb84b25e0743b0391",
        "IPY_MODEL_1fb51fedd4bb49b2a988f0a3f8789294",
        "IPY_MODEL_7de1b1ebc7a844379e23c7ead2232835"
       ],
       "layout": "IPY_MODEL_96ed9e34bfe14644bd75a1f0eeb85644"
      }
     },
     "611c51f6d2dd47ddaa5c3f8c2c27c585": {
      "model_module": "@jupyter-widgets/controls",
      "model_module_version": "1.5.0",
      "model_name": "ButtonModel",
      "state": {
       "description": "Save Figure",
       "layout": "IPY_MODEL_61c13bb50ff44832ae3659377b03be9c",
       "style": "IPY_MODEL_7c3e42b58ac645a293e5fea2cfa9a8b3"
      }
     },
     "612baa2e6f7443de836d3b03ab9d4ecb": {
      "model_module": "@jupyter-widgets/controls",
      "model_module_version": "1.5.0",
      "model_name": "ButtonModel",
      "state": {
       "description": "Reset Protected Area",
       "layout": "IPY_MODEL_89796e2a3eb14159b26dfcaedae9bfe3",
       "style": "IPY_MODEL_c49b0f65938d4c0982e80db5934f1d29"
      }
     },
     "618c7699dabd4f2895c1e8b60923c8e8": {
      "model_module": "@jupyter-widgets/controls",
      "model_module_version": "1.5.0",
      "model_name": "ButtonModel",
      "state": {
       "description": "Reset Hue Controls",
       "layout": "IPY_MODEL_db71c06318584f31bf0e86bb6cb5535c",
       "style": "IPY_MODEL_7c0a11b277924e73b1d26bbb72d51c24"
      }
     },
     "619e8469c8da43149153023ad8e9fdd6": {
      "model_module": "@jupyter-widgets/controls",
      "model_module_version": "1.5.0",
      "model_name": "VBoxModel",
      "state": {
       "children": [
        "IPY_MODEL_ed2b52259ee04fd99e0914313cb5ab92"
       ],
       "layout": "IPY_MODEL_0e8f8c328cd0476ca88870c37488a406"
      }
     },
     "61aab9e7769a4551b1e4773f54460065": {
      "model_module": "@jupyter-widgets/controls",
      "model_module_version": "1.5.0",
      "model_name": "SliderStyleModel",
      "state": {
       "description_width": ""
      }
     },
     "61b1b6e2c41b46b284b40d0258e61a38": {
      "model_module": "@jupyter-widgets/base",
      "model_module_version": "1.2.0",
      "model_name": "LayoutModel",
      "state": {}
     },
     "61c13bb50ff44832ae3659377b03be9c": {
      "model_module": "@jupyter-widgets/base",
      "model_module_version": "1.2.0",
      "model_name": "LayoutModel",
      "state": {}
     },
     "61d2525707f4466cbaf12dd9fd05ff74": {
      "model_module": "@jupyter-widgets/base",
      "model_module_version": "1.2.0",
      "model_name": "LayoutModel",
      "state": {}
     },
     "61e089c5940e40cd8f7d3661aeb7db0a": {
      "model_module": "@jupyter-widgets/controls",
      "model_module_version": "1.5.0",
      "model_name": "FloatSliderModel",
      "state": {
       "description": "Protected Area Threshold",
       "layout": "IPY_MODEL_c0e018541fac4385905cea9452ecceb7",
       "max": 1,
       "step": 0.01,
       "style": "IPY_MODEL_bf0a2882bb494d9bbbc4a0314b853104",
       "value": 0.7
      }
     },
     "623076bcfbe2469982377bd2fddf6a89": {
      "model_module": "@jupyter-widgets/controls",
      "model_module_version": "1.5.0",
      "model_name": "SliderStyleModel",
      "state": {
       "description_width": ""
      }
     },
     "623186247ea14d638bdc08a8796a434a": {
      "model_module": "@jupyter-widgets/controls",
      "model_module_version": "1.5.0",
      "model_name": "HBoxModel",
      "state": {
       "children": [
        "IPY_MODEL_097dfeaea6564400a2b6dad391f4a8f8",
        "IPY_MODEL_0b0efcd9d4b34751bdd09fd273ee984d",
        "IPY_MODEL_f7b6e1b57e6f4543ae66f9ef19a8265c",
        "IPY_MODEL_9152b99d6ceb43f6ba162d7b11a81916"
       ],
       "layout": "IPY_MODEL_ab3df778398544f4ba4601851ee7ba4f"
      }
     },
     "623c6073fe96403e8c87d58b56aa6c8e": {
      "model_module": "@jupyter-widgets/base",
      "model_module_version": "1.2.0",
      "model_name": "LayoutModel",
      "state": {}
     },
     "623d4456f1bb4c519986ad3e1fbb46ff": {
      "model_module": "@jupyter-widgets/base",
      "model_module_version": "1.2.0",
      "model_name": "LayoutModel",
      "state": {}
     },
     "6254c23b9c38480db3dac6f9fbd0b0ca": {
      "model_module": "@jupyter-widgets/controls",
      "model_module_version": "1.5.0",
      "model_name": "FloatSliderModel",
      "state": {
       "description": "270°",
       "layout": "IPY_MODEL_20327435db834a67b07e2d41217734ad",
       "max": 1,
       "min": -1,
       "step": 0.01,
       "style": "IPY_MODEL_67fd1d0baa8847639accb09e3f884ca4"
      }
     },
     "62673e03651f4ae398192925c8e2b386": {
      "model_module": "@jupyter-widgets/base",
      "model_module_version": "1.2.0",
      "model_name": "LayoutModel",
      "state": {
       "border": "solid 4px #222",
       "margin": "4px",
       "padding": "0"
      }
     },
     "6267eb4ea350434fbf49a3130a5ecaef": {
      "model_module": "@jupyter-widgets/controls",
      "model_module_version": "1.5.0",
      "model_name": "FloatSliderModel",
      "state": {
       "description": "90°",
       "layout": "IPY_MODEL_8335fd120239410e8cb5bb5a8b2644dc",
       "max": 1,
       "min": -1,
       "step": 0.01,
       "style": "IPY_MODEL_7183a7caf9894de68f345911f7e33d70"
      }
     },
     "626af3e1e3d6496ead3af4a6906255ef": {
      "model_module": "jupyter-matplotlib",
      "model_module_version": "^0.7.2",
      "model_name": "MPLCanvasModel",
      "state": {
       "_figure_label": "Figure 18",
       "_height": 430,
       "_width": 1099,
       "header_visible": false,
       "layout": "IPY_MODEL_0dc1bded2354462a83ff09454ae5e13f",
       "resizable": false,
       "toolbar": "IPY_MODEL_11f92246de86475a874b42bb192b2914",
       "toolbar_position": "left",
       "toolbar_visible": false
      }
     },
     "6270edd3b5c84e10aec6ef76201361bd": {
      "model_module": "@jupyter-widgets/base",
      "model_module_version": "1.2.0",
      "model_name": "LayoutModel",
      "state": {}
     },
     "6277bc7f493846f1a1a78be6bbc2441a": {
      "model_module": "@jupyter-widgets/controls",
      "model_module_version": "1.5.0",
      "model_name": "SliderStyleModel",
      "state": {
       "description_width": ""
      }
     },
     "628f84ffb20b4bc88af046a3402f25d8": {
      "model_module": "@jupyter-widgets/controls",
      "model_module_version": "1.5.0",
      "model_name": "CheckboxModel",
      "state": {
       "description": "Disable Medicina",
       "disabled": false,
       "layout": "IPY_MODEL_6fde55fb8a30497b8f25dccee4cf9d30",
       "style": "IPY_MODEL_9589505602d343bea215170cc66f481d",
       "value": false
      }
     },
     "62a00d8a7e18481d9de3b825ae78d79b": {
      "model_module": "@jupyter-widgets/base",
      "model_module_version": "1.2.0",
      "model_name": "LayoutModel",
      "state": {}
     },
     "62a0fb4141e24583ad3c5d3c6cdc0d27": {
      "model_module": "@jupyter-widgets/controls",
      "model_module_version": "1.5.0",
      "model_name": "SliderStyleModel",
      "state": {
       "description_width": ""
      }
     },
     "62cd5b80aee041b3b07eabf89df1682f": {
      "model_module": "@jupyter-widgets/base",
      "model_module_version": "1.2.0",
      "model_name": "LayoutModel",
      "state": {}
     },
     "62e2cff540bb4bdb8aaa7a1710cd2a67": {
      "model_module": "@jupyter-widgets/base",
      "model_module_version": "1.2.0",
      "model_name": "LayoutModel",
      "state": {}
     },
     "63000b12da96494d94caa0c0cf4605f1": {
      "model_module": "@jupyter-widgets/base",
      "model_module_version": "1.2.0",
      "model_name": "LayoutModel",
      "state": {}
     },
     "630bdecaa51f4efeb4913a8a00b49505": {
      "model_module": "@jupyter-widgets/base",
      "model_module_version": "1.2.0",
      "model_name": "LayoutModel",
      "state": {}
     },
     "63179342c90e4d9bbfc760b55550800c": {
      "model_module": "@jupyter-widgets/base",
      "model_module_version": "1.2.0",
      "model_name": "LayoutModel",
      "state": {}
     },
     "6333c8e8fd4842df8c5b982389a53d28": {
      "model_module": "@jupyter-widgets/controls",
      "model_module_version": "1.5.0",
      "model_name": "ButtonStyleModel",
      "state": {}
     },
     "635a04f8d3754299810049da0b59014b": {
      "model_module": "@jupyter-widgets/controls",
      "model_module_version": "1.5.0",
      "model_name": "FloatSliderModel",
      "state": {
       "description": "45°",
       "layout": "IPY_MODEL_1c1daa4a636047e19c4ef0c8a023233b",
       "max": 1,
       "min": -1,
       "step": 0.01,
       "style": "IPY_MODEL_a6b3ae74654248fcb0c015f83e37fa17"
      }
     },
     "639887d74ad0463fa4f9b47a37a88567": {
      "model_module": "@jupyter-widgets/base",
      "model_module_version": "1.2.0",
      "model_name": "LayoutModel",
      "state": {}
     },
     "63b44f3dfef44b8cae85934200c98e8e": {
      "model_module": "@jupyter-widgets/base",
      "model_module_version": "1.2.0",
      "model_name": "LayoutModel",
      "state": {}
     },
     "63c1182942254762929a22aa62f50094": {
      "model_module": "@jupyter-widgets/controls",
      "model_module_version": "1.5.0",
      "model_name": "DescriptionStyleModel",
      "state": {
       "description_width": ""
      }
     },
     "63de55210ae04addbbbd4e1253f5d899": {
      "model_module": "@jupyter-widgets/controls",
      "model_module_version": "1.5.0",
      "model_name": "DropdownModel",
      "state": {
       "_options_labels": [
        "sRGB",
        "ACES (sRGB)"
       ],
       "description": "View Transform:",
       "index": 0,
       "layout": "IPY_MODEL_b981a0ce13624d4194662c3dc76e9f52",
       "style": "IPY_MODEL_6d437a3cd2204105893a48ecfec1f13f"
      }
     },
     "63fae58b21a24f2ca9762b83a2e961e9": {
      "model_module": "@jupyter-widgets/controls",
      "model_module_version": "1.5.0",
      "model_name": "ButtonStyleModel",
      "state": {}
     },
     "640e32a760a14b48a95264165178e180": {
      "model_module": "@jupyter-widgets/controls",
      "model_module_version": "1.5.0",
      "model_name": "ButtonStyleModel",
      "state": {}
     },
     "6413fbda52d34b0db4342b08f8266b0b": {
      "model_module": "@jupyter-widgets/base",
      "model_module_version": "1.2.0",
      "model_name": "LayoutModel",
      "state": {}
     },
     "6423c86adefb4318ab096a125be5ba69": {
      "model_module": "@jupyter-widgets/base",
      "model_module_version": "1.2.0",
      "model_name": "LayoutModel",
      "state": {}
     },
     "646c71944251479fba2362af2eddb635": {
      "model_module": "@jupyter-widgets/controls",
      "model_module_version": "1.5.0",
      "model_name": "CheckboxModel",
      "state": {
       "description": "Disable Medicina",
       "disabled": false,
       "layout": "IPY_MODEL_77f36a18446a44c5b3a68616ca6ae88e",
       "style": "IPY_MODEL_6e89f3634c2b4d87b06d1a704bdcb854",
       "value": false
      }
     },
     "646db4ab944e4b569e78b33f3adc1d49": {
      "model_module": "@jupyter-widgets/base",
      "model_module_version": "1.2.0",
      "model_name": "LayoutModel",
      "state": {}
     },
     "64ad2ab5e39547218d6befe9f0f64c2a": {
      "model_module": "@jupyter-widgets/controls",
      "model_module_version": "1.5.0",
      "model_name": "ButtonStyleModel",
      "state": {}
     },
     "64ae88eb8db3492cbb7d528388fadc89": {
      "model_module": "@jupyter-widgets/controls",
      "model_module_version": "1.5.0",
      "model_name": "DescriptionStyleModel",
      "state": {
       "description_width": ""
      }
     },
     "64c126d89e984f5cb6c51c603f1e2025": {
      "model_module": "@jupyter-widgets/controls",
      "model_module_version": "1.5.0",
      "model_name": "SliderStyleModel",
      "state": {
       "description_width": ""
      }
     },
     "64c8c9abea304be29c80e8ceb49548df": {
      "model_module": "@jupyter-widgets/controls",
      "model_module_version": "1.5.0",
      "model_name": "DescriptionStyleModel",
      "state": {
       "description_width": ""
      }
     },
     "64dd0921204d4f14a947e17b9260703b": {
      "model_module": "@jupyter-widgets/controls",
      "model_module_version": "1.5.0",
      "model_name": "SliderStyleModel",
      "state": {
       "description_width": ""
      }
     },
     "64f1046fb18e4d25a50db194a6b33527": {
      "model_module": "@jupyter-widgets/controls",
      "model_module_version": "1.5.0",
      "model_name": "FloatSliderModel",
      "state": {
       "description": "225°",
       "layout": "IPY_MODEL_3e6c480f0edb41b0ac8b7f30f4aa5fdb",
       "max": 1,
       "min": -1,
       "step": 0.01,
       "style": "IPY_MODEL_34778f80065e43a5b12b04bd3f5b6a11"
      }
     },
     "64f336ce6d7d44d49c5c3d2f2956d46b": {
      "model_module": "@jupyter-widgets/controls",
      "model_module_version": "1.5.0",
      "model_name": "FloatSliderModel",
      "state": {
       "description": "225°",
       "layout": "IPY_MODEL_96db54f8c0424021a195fac8594c4cc2",
       "max": 1,
       "min": -1,
       "step": 0.01,
       "style": "IPY_MODEL_0f9ad8eb636542d3a3f497aafac94b8f"
      }
     },
     "650206a2ef894696ad0b24d6cfd4fec3": {
      "model_module": "@jupyter-widgets/controls",
      "model_module_version": "1.5.0",
      "model_name": "ButtonStyleModel",
      "state": {}
     },
     "651d2ab0e8e94de2b2a3272f659595e6": {
      "model_module": "@jupyter-widgets/controls",
      "model_module_version": "1.5.0",
      "model_name": "FloatSliderModel",
      "state": {
       "description": "0°",
       "layout": "IPY_MODEL_88126e84dd444a90883234271a588ea2",
       "max": 1,
       "min": -1,
       "step": 0.01,
       "style": "IPY_MODEL_ea517ba3411b4ddba2405ead0e98c0df"
      }
     },
     "651f57cc0afd458dafb783cfce2ea21c": {
      "model_module": "@jupyter-widgets/base",
      "model_module_version": "1.2.0",
      "model_name": "LayoutModel",
      "state": {
       "border": "solid 4px #222",
       "margin": "4px",
       "padding": "0"
      }
     },
     "6564ae7b375949d081765971ab3bbcaf": {
      "model_module": "@jupyter-widgets/controls",
      "model_module_version": "1.5.0",
      "model_name": "ButtonModel",
      "state": {
       "description": "Reset Exposure",
       "layout": "IPY_MODEL_f02641ea92bb49f6a911c889ba9c60da",
       "style": "IPY_MODEL_e330fd00c55c42c49ec1fc53d2ec2564"
      }
     },
     "65784e9a6dcb4375b25e28c26c9ceb7a": {
      "model_module": "@jupyter-widgets/controls",
      "model_module_version": "1.5.0",
      "model_name": "ButtonModel",
      "state": {
       "description": "Save Figure",
       "layout": "IPY_MODEL_e98290dd084444ff93a7f8e743587d71",
       "style": "IPY_MODEL_d5d16ec63f944272b916c97d54dda8ce"
      }
     },
     "65a7138b134a4d6491725aa1877eb6cf": {
      "model_module": "jupyter-matplotlib",
      "model_module_version": "^0.7.2",
      "model_name": "ToolbarModel",
      "state": {
       "layout": "IPY_MODEL_e9131c0b35234d81a699edc50541ac85",
       "toolitems": [
        [
         "Home",
         "Reset original view",
         "home",
         "home"
        ],
        [
         "Back",
         "Back to previous view",
         "arrow-left",
         "back"
        ],
        [
         "Forward",
         "Forward to next view",
         "arrow-right",
         "forward"
        ],
        [
         "Pan",
         "Pan axes with left mouse, zoom with right",
         "arrows",
         "pan"
        ],
        [
         "Zoom",
         "Zoom to rectangle",
         "square-o",
         "zoom"
        ],
        [
         "Download",
         "Download plot",
         "floppy-o",
         "save_figure"
        ]
       ]
      }
     },
     "65b959c167564f8fb6b63258f38cc479": {
      "model_module": "@jupyter-widgets/controls",
      "model_module_version": "1.5.0",
      "model_name": "HBoxModel",
      "state": {
       "children": [
        "IPY_MODEL_7252bb402d7a425b880cf772452f2b7e",
        "IPY_MODEL_df895afdc8ee4314a897e27484296f67",
        "IPY_MODEL_024402c199ec435eb5b8c23e1986a075"
       ],
       "layout": "IPY_MODEL_f64bb4512a0a4c45ac4186cd5b6b7e94"
      }
     },
     "65c1071028234b5fb28242da315260d3": {
      "model_module": "@jupyter-widgets/controls",
      "model_module_version": "1.5.0",
      "model_name": "VBoxModel",
      "state": {
       "children": [
        "IPY_MODEL_a34fa0187f604959bf80edb215cbac2a",
        "IPY_MODEL_8d005ed2d56f4b128309077695f4e474"
       ],
       "layout": "IPY_MODEL_22efeccf40ca46e3b4d55a004de34efd"
      }
     },
     "65ee7faf63ad49db8f8e5d2179623c45": {
      "model_module": "@jupyter-widgets/controls",
      "model_module_version": "1.5.0",
      "model_name": "SliderStyleModel",
      "state": {
       "description_width": ""
      }
     },
     "65fd52ea5114415fa76cff19cbff06dd": {
      "model_module": "@jupyter-widgets/controls",
      "model_module_version": "1.5.0",
      "model_name": "DescriptionStyleModel",
      "state": {
       "description_width": ""
      }
     },
     "6622acabac264ab483785276019973f6": {
      "model_module": "@jupyter-widgets/base",
      "model_module_version": "1.2.0",
      "model_name": "LayoutModel",
      "state": {}
     },
     "66a39de9b9df48c8a4cdc063af11d555": {
      "model_module": "@jupyter-widgets/controls",
      "model_module_version": "1.5.0",
      "model_name": "ButtonStyleModel",
      "state": {}
     },
     "66be5046cedc4cc0a7e922ff794f3458": {
      "model_module": "@jupyter-widgets/base",
      "model_module_version": "1.2.0",
      "model_name": "LayoutModel",
      "state": {}
     },
     "672952afc47549b39529ddfaab0f868b": {
      "model_module": "jupyter-matplotlib",
      "model_module_version": "^0.7.2",
      "model_name": "MPLCanvasModel",
      "state": {
       "_figure_label": "Figure 8",
       "_height": 458,
       "_width": 1099,
       "header_visible": false,
       "layout": "IPY_MODEL_51b7ae73719d43f88765e4469b47beda",
       "resizable": false,
       "toolbar": "IPY_MODEL_fece55c997be470bba36ba1701c34533",
       "toolbar_position": "left",
       "toolbar_visible": false
      }
     },
     "67323d154f5b4dd4880b52f1cea06b07": {
      "model_module": "@jupyter-widgets/controls",
      "model_module_version": "1.5.0",
      "model_name": "SliderStyleModel",
      "state": {
       "description_width": ""
      }
     },
     "67470cd40b814b2e9704f687cb69a866": {
      "model_module": "@jupyter-widgets/controls",
      "model_module_version": "1.5.0",
      "model_name": "ButtonModel",
      "state": {
       "description": "Save Figure",
       "layout": "IPY_MODEL_f738d01d9dca4b7e893ddd626467e339",
       "style": "IPY_MODEL_fc65424bbae64e83abce88b964fad162"
      }
     },
     "6761a96b5f6345c5b5efe9652fbcd447": {
      "model_module": "@jupyter-widgets/controls",
      "model_module_version": "1.5.0",
      "model_name": "ButtonStyleModel",
      "state": {}
     },
     "67ac7ef4ffbc4c878e9aa09306f7fa17": {
      "model_module": "@jupyter-widgets/controls",
      "model_module_version": "1.5.0",
      "model_name": "HBoxModel",
      "state": {
       "children": [
        "IPY_MODEL_79dac74f8a1b4f65868351e565a9d5dc",
        "IPY_MODEL_ad1589a1131d457a91aebea1d082ace5",
        "IPY_MODEL_c1ff3f8ade2b47889e55de46d9a22696"
       ],
       "layout": "IPY_MODEL_fba23a739658488bb245779a5553aa3a"
      }
     },
     "67c47254592846bca06b21f4d143a80c": {
      "model_module": "@jupyter-widgets/controls",
      "model_module_version": "1.5.0",
      "model_name": "HBoxModel",
      "state": {
       "children": [
        "IPY_MODEL_2ce723f204604e8788167c7f24ae5d3b",
        "IPY_MODEL_1f6706fa86dc4679be37028e19a9e6b1",
        "IPY_MODEL_a0239d8dba734d20813edbe12dbacbed"
       ],
       "layout": "IPY_MODEL_5d254eeaa5ed494499290a8582b51d28"
      }
     },
     "67e499cf62a54b6c88f425936951b07a": {
      "model_module": "@jupyter-widgets/controls",
      "model_module_version": "1.5.0",
      "model_name": "DescriptionStyleModel",
      "state": {
       "description_width": ""
      }
     },
     "67fd1d0baa8847639accb09e3f884ca4": {
      "model_module": "@jupyter-widgets/controls",
      "model_module_version": "1.5.0",
      "model_name": "SliderStyleModel",
      "state": {
       "description_width": ""
      }
     },
     "683975406d13436084f905c4a1e8fc9f": {
      "model_module": "@jupyter-widgets/base",
      "model_module_version": "1.2.0",
      "model_name": "LayoutModel",
      "state": {}
     },
     "68601e607fa84b8e89929daef32a0585": {
      "model_module": "@jupyter-widgets/base",
      "model_module_version": "1.2.0",
      "model_name": "LayoutModel",
      "state": {}
     },
     "688b500a1b6244a6a08407e9bffe33ef": {
      "model_module": "@jupyter-widgets/base",
      "model_module_version": "1.2.0",
      "model_name": "LayoutModel",
      "state": {}
     },
     "6897775e59b74b37abc4ba1a36765ec9": {
      "model_module": "@jupyter-widgets/base",
      "model_module_version": "1.2.0",
      "model_name": "LayoutModel",
      "state": {}
     },
     "68cbde5848c744d2a8c62245646db1fa": {
      "model_module": "@jupyter-widgets/controls",
      "model_module_version": "1.5.0",
      "model_name": "SliderStyleModel",
      "state": {
       "description_width": ""
      }
     },
     "68f544bd478e41d291c0e7ea1e974fbf": {
      "model_module": "@jupyter-widgets/controls",
      "model_module_version": "1.5.0",
      "model_name": "DescriptionStyleModel",
      "state": {
       "description_width": ""
      }
     },
     "690fb90d88e74d95a555f96c302c8ee6": {
      "model_module": "@jupyter-widgets/controls",
      "model_module_version": "1.5.0",
      "model_name": "SliderStyleModel",
      "state": {
       "description_width": ""
      }
     },
     "69111f5fc66e41d6826eceffa63583c8": {
      "model_module": "@jupyter-widgets/base",
      "model_module_version": "1.2.0",
      "model_name": "LayoutModel",
      "state": {}
     },
     "6913003d7585486fabdc04fff3340fd6": {
      "model_module": "@jupyter-widgets/controls",
      "model_module_version": "1.5.0",
      "model_name": "SliderStyleModel",
      "state": {
       "description_width": ""
      }
     },
     "69343a7db37548748b13b99bc9aade55": {
      "model_module": "@jupyter-widgets/base",
      "model_module_version": "1.2.0",
      "model_name": "LayoutModel",
      "state": {}
     },
     "6937a1af5f4648119be059b8eb93a244": {
      "model_module": "@jupyter-widgets/controls",
      "model_module_version": "1.5.0",
      "model_name": "SliderStyleModel",
      "state": {
       "description_width": ""
      }
     },
     "69651b97355840319bc49352f649ab6a": {
      "model_module": "@jupyter-widgets/controls",
      "model_module_version": "1.5.0",
      "model_name": "VBoxModel",
      "state": {
       "children": [
        "IPY_MODEL_6c79ad961d1a465ea4baf4506753bd2c",
        "IPY_MODEL_45cd4e11f7d84c93b6a545dffb1f9712",
        "IPY_MODEL_a54610be83db42f69f6ba2731318b4ba"
       ],
       "layout": "IPY_MODEL_c6f264f2691f4fce89cb6ee22d3302b3"
      }
     },
     "69724c2ccb194e4795131a994dee92d3": {
      "model_module": "jupyter-matplotlib",
      "model_module_version": "^0.7.2",
      "model_name": "ToolbarModel",
      "state": {
       "layout": "IPY_MODEL_b035334b07e74df7b7096dc85344738d",
       "toolitems": [
        [
         "Home",
         "Reset original view",
         "home",
         "home"
        ],
        [
         "Back",
         "Back to previous view",
         "arrow-left",
         "back"
        ],
        [
         "Forward",
         "Forward to next view",
         "arrow-right",
         "forward"
        ],
        [
         "Pan",
         "Pan axes with left mouse, zoom with right",
         "arrows",
         "pan"
        ],
        [
         "Zoom",
         "Zoom to rectangle",
         "square-o",
         "zoom"
        ],
        [
         "Download",
         "Download plot",
         "floppy-o",
         "save_figure"
        ]
       ]
      }
     },
     "697c3579cdc940559912da0c0cb4324d": {
      "model_module": "@jupyter-widgets/controls",
      "model_module_version": "1.5.0",
      "model_name": "FloatSliderModel",
      "state": {
       "description": "180°",
       "layout": "IPY_MODEL_867487607f5645c799ef95bb7c80fb0e",
       "max": 1,
       "min": -1,
       "step": 0.01,
       "style": "IPY_MODEL_6028aae94a864b05900d26e8ff1d222b"
      }
     },
     "6982802656ba401795d7b950c46fe83d": {
      "model_module": "@jupyter-widgets/base",
      "model_module_version": "1.2.0",
      "model_name": "LayoutModel",
      "state": {}
     },
     "69b5d4857eaf4d31b080603b27a20242": {
      "model_module": "@jupyter-widgets/base",
      "model_module_version": "1.2.0",
      "model_name": "LayoutModel",
      "state": {}
     },
     "69c78c0e097643e18217aa6d93bd1bd0": {
      "model_module": "@jupyter-widgets/base",
      "model_module_version": "1.2.0",
      "model_name": "LayoutModel",
      "state": {}
     },
     "69d6ca417b5c447ab374195a0f192764": {
      "model_module": "@jupyter-widgets/base",
      "model_module_version": "1.2.0",
      "model_name": "LayoutModel",
      "state": {}
     },
     "69daa75a23bb401cb260fd3021c0c151": {
      "model_module": "@jupyter-widgets/base",
      "model_module_version": "1.2.0",
      "model_name": "LayoutModel",
      "state": {}
     },
     "69dd5218a86c4f349af6d9c41933b1f2": {
      "model_module": "@jupyter-widgets/controls",
      "model_module_version": "1.5.0",
      "model_name": "DescriptionStyleModel",
      "state": {
       "description_width": ""
      }
     },
     "6a39a32a36534d608ca974ba2f04437b": {
      "model_module": "@jupyter-widgets/controls",
      "model_module_version": "1.5.0",
      "model_name": "FloatSliderModel",
      "state": {
       "description": "270°",
       "layout": "IPY_MODEL_edc8b033a7444b43a5bc981c153ab2b8",
       "max": 1,
       "min": -1,
       "step": 0.01,
       "style": "IPY_MODEL_e871015738da453a8e194c8bd236ba8b"
      }
     },
     "6a7bf7f037d34edf828965cbbb04d710": {
      "model_module": "@jupyter-widgets/controls",
      "model_module_version": "1.5.0",
      "model_name": "CheckboxModel",
      "state": {
       "description": "Show Out-of-Gamut",
       "disabled": false,
       "layout": "IPY_MODEL_292f316c1dd74f5397dced784f7328fa",
       "style": "IPY_MODEL_9efbdeb155e447eb8f306b1037c36973",
       "value": false
      }
     },
     "6b10b555ed7c4780921a41422665a18a": {
      "model_module": "@jupyter-widgets/controls",
      "model_module_version": "1.5.0",
      "model_name": "SliderStyleModel",
      "state": {
       "description_width": ""
      }
     },
     "6b2f5e3040c5479f881726d497addedb": {
      "model_module": "@jupyter-widgets/base",
      "model_module_version": "1.2.0",
      "model_name": "LayoutModel",
      "state": {}
     },
     "6b4e449482e44f0c800d590e27ba8202": {
      "model_module": "@jupyter-widgets/base",
      "model_module_version": "1.2.0",
      "model_name": "LayoutModel",
      "state": {}
     },
     "6b6417b01d934529a91dd095640b7db9": {
      "model_module": "@jupyter-widgets/base",
      "model_module_version": "1.2.0",
      "model_name": "LayoutModel",
      "state": {}
     },
     "6b67522aba244de380ddcb8746b74de0": {
      "model_module": "jupyter-matplotlib",
      "model_module_version": "^0.7.2",
      "model_name": "MPLCanvasModel",
      "state": {
       "_figure_label": "Figure 6",
       "_height": 508,
       "_width": 1100,
       "header_visible": false,
       "layout": "IPY_MODEL_8b3f865975ba489381f5a7ddd66fae7c",
       "resizable": false,
       "toolbar": "IPY_MODEL_d2b90607812c4968a4ee5cb9ffc15ec7",
       "toolbar_position": "left",
       "toolbar_visible": false
      }
     },
     "6b803be0f7b34cb49878ef2dbf4e2603": {
      "model_module": "@jupyter-widgets/base",
      "model_module_version": "1.2.0",
      "model_name": "LayoutModel",
      "state": {}
     },
     "6b928c94b2934e3b85aa4ae9833bcf24": {
      "model_module": "@jupyter-widgets/base",
      "model_module_version": "1.2.0",
      "model_name": "LayoutModel",
      "state": {}
     },
     "6ba3ac7b45eb4e558386f355ef8a068d": {
      "model_module": "@jupyter-widgets/base",
      "model_module_version": "1.2.0",
      "model_name": "LayoutModel",
      "state": {}
     },
     "6ba80706424346ef9823c76dc1442d1c": {
      "model_module": "@jupyter-widgets/base",
      "model_module_version": "1.2.0",
      "model_name": "LayoutModel",
      "state": {}
     },
     "6baec475a61c4727890efeb99e562a3a": {
      "model_module": "@jupyter-widgets/base",
      "model_module_version": "1.2.0",
      "model_name": "LayoutModel",
      "state": {}
     },
     "6bd9ce41ba9847e5b7678f7a0abdaee8": {
      "model_module": "@jupyter-widgets/controls",
      "model_module_version": "1.5.0",
      "model_name": "FloatSliderModel",
      "state": {
       "description": "Exposure",
       "layout": "IPY_MODEL_c2ccb19acc2e477883cbe452dc8cccfc",
       "max": 8,
       "min": -8,
       "step": 0.1,
       "style": "IPY_MODEL_a0fc2ce50d904d759cca0c4d6aab088c"
      }
     },
     "6c158893dd2b4445a9863c4815d3e6c8": {
      "model_module": "@jupyter-widgets/controls",
      "model_module_version": "1.5.0",
      "model_name": "ButtonModel",
      "state": {
       "description": "Save Figure",
       "layout": "IPY_MODEL_c6ca36fd35eb488a81932872b31d8dc0",
       "style": "IPY_MODEL_10b3508c49b84df1828bae9d9b4559d6"
      }
     },
     "6c3343a5bb244fd09d9510439cb92998": {
      "model_module": "@jupyter-widgets/base",
      "model_module_version": "1.2.0",
      "model_name": "LayoutModel",
      "state": {}
     },
     "6c474e72f6354fe2a26b07786903ed94": {
      "model_module": "@jupyter-widgets/base",
      "model_module_version": "1.2.0",
      "model_name": "LayoutModel",
      "state": {}
     },
     "6c4dc26f3ff74fc6abb48f1c5c5a0855": {
      "model_module": "@jupyter-widgets/base",
      "model_module_version": "1.2.0",
      "model_name": "LayoutModel",
      "state": {}
     },
     "6c79ad961d1a465ea4baf4506753bd2c": {
      "model_module": "@jupyter-widgets/controls",
      "model_module_version": "1.5.0",
      "model_name": "FloatSliderModel",
      "state": {
       "description": "135°",
       "layout": "IPY_MODEL_26bfbce5760b42ffbbcaaa6fdfc5f238",
       "max": 1,
       "min": -1,
       "step": 0.01,
       "style": "IPY_MODEL_8c8751ec80c64ef28a0f4f4c8aefbd95"
      }
     },
     "6cb06c7bcf0447a191dba11c1a88863b": {
      "model_module": "jupyter-matplotlib",
      "model_module_version": "^0.7.2",
      "model_name": "ToolbarModel",
      "state": {
       "layout": "IPY_MODEL_c277ac7a699848a797a8205874c0847f",
       "toolitems": [
        [
         "Home",
         "Reset original view",
         "home",
         "home"
        ],
        [
         "Back",
         "Back to previous view",
         "arrow-left",
         "back"
        ],
        [
         "Forward",
         "Forward to next view",
         "arrow-right",
         "forward"
        ],
        [
         "Pan",
         "Pan axes with left mouse, zoom with right",
         "arrows",
         "pan"
        ],
        [
         "Zoom",
         "Zoom to rectangle",
         "square-o",
         "zoom"
        ],
        [
         "Download",
         "Download plot",
         "floppy-o",
         "save_figure"
        ]
       ]
      }
     },
     "6cb8bf310bd1468caaa8ce6f969ff54f": {
      "model_module": "@jupyter-widgets/controls",
      "model_module_version": "1.5.0",
      "model_name": "SliderStyleModel",
      "state": {
       "description_width": ""
      }
     },
     "6cc5edcf834d466a9140bb0a99690ad1": {
      "model_module": "@jupyter-widgets/controls",
      "model_module_version": "1.5.0",
      "model_name": "ButtonStyleModel",
      "state": {}
     },
     "6cd66b447e1e4a58b46586fa0cef4b49": {
      "model_module": "@jupyter-widgets/controls",
      "model_module_version": "1.5.0",
      "model_name": "ButtonModel",
      "state": {
       "description": "Export Image",
       "layout": "IPY_MODEL_3bf5d56527eb4aaeb88b648d44ab395b",
       "style": "IPY_MODEL_e3e71c2eaf2d4f75989c8ecc5c86d965"
      }
     },
     "6cf5ce2eb7054a909dae7384c1323216": {
      "model_module": "@jupyter-widgets/base",
      "model_module_version": "1.2.0",
      "model_name": "LayoutModel",
      "state": {}
     },
     "6d0beafce32e44f4b8d00018d8dbd10c": {
      "model_module": "@jupyter-widgets/controls",
      "model_module_version": "1.5.0",
      "model_name": "FloatSliderModel",
      "state": {
       "description": "135°",
       "layout": "IPY_MODEL_df50a340a1d346d3b1780fa1eead5100",
       "max": 1,
       "min": -1,
       "step": 0.01,
       "style": "IPY_MODEL_f89ce777fcdb462ca0099708cf1f41df"
      }
     },
     "6d3c1a676ca14139a883ca1a1415380d": {
      "model_module": "@jupyter-widgets/controls",
      "model_module_version": "1.5.0",
      "model_name": "CheckboxModel",
      "state": {
       "description": "Disable Medicina",
       "disabled": false,
       "layout": "IPY_MODEL_8f417351cece45c1a775d49bd01830dc",
       "style": "IPY_MODEL_33a35bc9082248508dea28b1491fcffc",
       "value": false
      }
     },
     "6d437a3cd2204105893a48ecfec1f13f": {
      "model_module": "@jupyter-widgets/controls",
      "model_module_version": "1.5.0",
      "model_name": "DescriptionStyleModel",
      "state": {
       "description_width": ""
      }
     },
     "6d52798251f34b28b10a566ea6b53709": {
      "model_module": "@jupyter-widgets/controls",
      "model_module_version": "1.5.0",
      "model_name": "ButtonStyleModel",
      "state": {}
     },
     "6d750c584e94489bbae9e8c86a33fef2": {
      "model_module": "@jupyter-widgets/base",
      "model_module_version": "1.2.0",
      "model_name": "LayoutModel",
      "state": {}
     },
     "6d9a652ee68949888f61720aa147c2ff": {
      "model_module": "@jupyter-widgets/controls",
      "model_module_version": "1.5.0",
      "model_name": "SliderStyleModel",
      "state": {
       "description_width": ""
      }
     },
     "6dcbc7132fd34dac832e6c48d2968b25": {
      "model_module": "@jupyter-widgets/base",
      "model_module_version": "1.2.0",
      "model_name": "LayoutModel",
      "state": {}
     },
     "6de227f596fd4123a0d2d42ddb7beca7": {
      "model_module": "@jupyter-widgets/controls",
      "model_module_version": "1.5.0",
      "model_name": "FloatSliderModel",
      "state": {
       "description": "135°",
       "layout": "IPY_MODEL_a1a4df49f4814c8aa60ddad19a2c2098",
       "max": 1,
       "min": -1,
       "step": 0.01,
       "style": "IPY_MODEL_2559c4f0ee774a738be698cc24bd6736"
      }
     },
     "6dfef14fa5ea47f0be988b6c7ea0c0c0": {
      "model_module": "@jupyter-widgets/controls",
      "model_module_version": "1.5.0",
      "model_name": "HBoxModel",
      "state": {
       "children": [
        "IPY_MODEL_b026f7f8703d4c019cf7f5a988324b05",
        "IPY_MODEL_1a174f7da90d4b8d8da40cec49b78807",
        "IPY_MODEL_ee6f494e6fd34cc08d1151def127337b"
       ],
       "layout": "IPY_MODEL_44e5a400acb84d00b4105537a77c6b5b"
      }
     },
     "6e19c3c0934240c1867809548f9be38a": {
      "model_module": "@jupyter-widgets/controls",
      "model_module_version": "1.5.0",
      "model_name": "HBoxModel",
      "state": {
       "children": [
        "IPY_MODEL_cbf980089990427fafe0852a2dbf14de",
        "IPY_MODEL_292fe61264a44dfeb036c53466882b1c",
        "IPY_MODEL_dc0c59ccec2c4a1db1410bded35cdb9f",
        "IPY_MODEL_e510fc0679794631ace9f8fcd45bcc32"
       ],
       "layout": "IPY_MODEL_098a91c5e709496ba7fa8dbf1353a32f"
      }
     },
     "6e28dce286a9402188e574c509476667": {
      "model_module": "@jupyter-widgets/base",
      "model_module_version": "1.2.0",
      "model_name": "LayoutModel",
      "state": {}
     },
     "6e58b6288ea447948c2a83a3ee27bd50": {
      "model_module": "@jupyter-widgets/base",
      "model_module_version": "1.2.0",
      "model_name": "LayoutModel",
      "state": {}
     },
     "6e5c63062d6b423aac8e8e6af6f53399": {
      "model_module": "@jupyter-widgets/base",
      "model_module_version": "1.2.0",
      "model_name": "LayoutModel",
      "state": {}
     },
     "6e6d33ce26074938927d08da65da4199": {
      "model_module": "@jupyter-widgets/controls",
      "model_module_version": "1.5.0",
      "model_name": "CheckboxModel",
      "state": {
       "description": "Disable Medicina",
       "disabled": false,
       "layout": "IPY_MODEL_94f31d6272ff45b4b586aca68f2d36e2",
       "style": "IPY_MODEL_828506a8eb1a43edb4ce2acd5aba4b8a",
       "value": false
      }
     },
     "6e710d902b79420680ab9e1431d3e361": {
      "model_module": "@jupyter-widgets/base",
      "model_module_version": "1.2.0",
      "model_name": "LayoutModel",
      "state": {}
     },
     "6e8390947acc4631b506dad789a24a95": {
      "model_module": "@jupyter-widgets/controls",
      "model_module_version": "1.5.0",
      "model_name": "SliderStyleModel",
      "state": {
       "description_width": ""
      }
     },
     "6e89f3634c2b4d87b06d1a704bdcb854": {
      "model_module": "@jupyter-widgets/controls",
      "model_module_version": "1.5.0",
      "model_name": "DescriptionStyleModel",
      "state": {
       "description_width": ""
      }
     },
     "6e982057f62c41b8853059ee1558e557": {
      "model_module": "@jupyter-widgets/controls",
      "model_module_version": "1.5.0",
      "model_name": "DescriptionStyleModel",
      "state": {
       "description_width": ""
      }
     },
     "6eb6b1a105a54533977f0dbd96b95a7e": {
      "model_module": "@jupyter-widgets/base",
      "model_module_version": "1.2.0",
      "model_name": "LayoutModel",
      "state": {}
     },
     "6f3f201033de4c4d8bdaac0821454471": {
      "model_module": "@jupyter-widgets/controls",
      "model_module_version": "1.5.0",
      "model_name": "FloatSliderModel",
      "state": {
       "description": "315°",
       "layout": "IPY_MODEL_8aa4f59b341a42bb8bebbc040ceb6ec7",
       "max": 1,
       "min": -1,
       "step": 0.01,
       "style": "IPY_MODEL_db69a4af1ce74f2d84ae91cbe987d9c0"
      }
     },
     "6f77e2f5ec8d4d4cb1918a6e96007308": {
      "model_module": "@jupyter-widgets/output",
      "model_module_version": "1.0.0",
      "model_name": "OutputModel",
      "state": {
       "layout": "IPY_MODEL_db19fac52f2e4a6facbff5fa4b7782e7",
       "outputs": [
        {
         "data": {
          "application/vnd.jupyter.widget-view+json": {
           "model_id": "4db3b71a193245858fb74a6c3c270611",
           "version_major": 2,
           "version_minor": 0
          },
          "text/plain": "Canvas(toolbar=Toolbar(toolitems=[('Home', 'Reset original view', 'home', 'home'), ('Back', 'Back to previous …"
         },
         "metadata": {},
         "output_type": "display_data"
        }
       ]
      }
     },
     "6f84c4c5dbe44aaaaf913ec5aa02c419": {
      "model_module": "@jupyter-widgets/controls",
      "model_module_version": "1.5.0",
      "model_name": "SliderStyleModel",
      "state": {
       "description_width": ""
      }
     },
     "6f8507b2785b403d94b15926cee6fe10": {
      "model_module": "@jupyter-widgets/base",
      "model_module_version": "1.2.0",
      "model_name": "LayoutModel",
      "state": {}
     },
     "6fa2548f0b1b409385201a2da2259dc2": {
      "model_module": "@jupyter-widgets/base",
      "model_module_version": "1.2.0",
      "model_name": "LayoutModel",
      "state": {}
     },
     "6fb63ce904644c6f872ec1f2a0a7c7cf": {
      "model_module": "@jupyter-widgets/base",
      "model_module_version": "1.2.0",
      "model_name": "LayoutModel",
      "state": {
       "border": "solid 4px #222",
       "margin": "4px",
       "padding": "0"
      }
     },
     "6fda55b8109d46348082c35d14a68390": {
      "model_module": "@jupyter-widgets/controls",
      "model_module_version": "1.5.0",
      "model_name": "FloatSliderModel",
      "state": {
       "description": "Exposure",
       "layout": "IPY_MODEL_47e56e4f60364de4a88997262236b2ca",
       "max": 8,
       "min": -8,
       "step": 0.1,
       "style": "IPY_MODEL_17c58b2a49fe45a4b624bc72bb6b7afa"
      }
     },
     "6fdbbcae836146b9936ba1c6129a916e": {
      "model_module": "@jupyter-widgets/base",
      "model_module_version": "1.2.0",
      "model_name": "LayoutModel",
      "state": {}
     },
     "6fde55fb8a30497b8f25dccee4cf9d30": {
      "model_module": "@jupyter-widgets/base",
      "model_module_version": "1.2.0",
      "model_name": "LayoutModel",
      "state": {}
     },
     "6fecce198926485ca8b161ae972db1b3": {
      "model_module": "@jupyter-widgets/output",
      "model_module_version": "1.0.0",
      "model_name": "OutputModel",
      "state": {
       "layout": "IPY_MODEL_62673e03651f4ae398192925c8e2b386",
       "outputs": [
        {
         "data": {
          "application/vnd.jupyter.widget-view+json": {
           "model_id": "23b4b4044a6a43fc866a47fc1c8e3442",
           "version_major": 2,
           "version_minor": 0
          },
          "text/plain": "Canvas(toolbar=Toolbar(toolitems=[('Home', 'Reset original view', 'home', 'home'), ('Back', 'Back to previous …"
         },
         "metadata": {},
         "output_type": "display_data"
        }
       ]
      }
     },
     "6ff8d59f97c8423886a690988d028cfd": {
      "model_module": "@jupyter-widgets/base",
      "model_module_version": "1.2.0",
      "model_name": "LayoutModel",
      "state": {}
     },
     "700f2f3b36304de78d3612e57c6e222e": {
      "model_module": "@jupyter-widgets/controls",
      "model_module_version": "1.5.0",
      "model_name": "ButtonStyleModel",
      "state": {}
     },
     "703960627ab74608aa26f765db790f34": {
      "model_module": "@jupyter-widgets/controls",
      "model_module_version": "1.5.0",
      "model_name": "ButtonStyleModel",
      "state": {}
     },
     "7052fc53b40644898db81b562894a87d": {
      "model_module": "@jupyter-widgets/controls",
      "model_module_version": "1.5.0",
      "model_name": "HBoxModel",
      "state": {
       "children": [
        "IPY_MODEL_5cd0da482a09439289f4f65802713d78",
        "IPY_MODEL_8c8529696701444493ed0889f7996eba",
        "IPY_MODEL_5f23e3ac77c7402f9124b546cbeb0d22"
       ],
       "layout": "IPY_MODEL_0551bdc6ca364428aeeb425f6b626b50"
      }
     },
     "7072e9e9f1244c9f838b02180b7d23e4": {
      "model_module": "@jupyter-widgets/controls",
      "model_module_version": "1.5.0",
      "model_name": "HBoxModel",
      "state": {
       "children": [
        "IPY_MODEL_e5cea108c6b64cc9be97d8cf954a6a86",
        "IPY_MODEL_c777286597ce44b3808b096773837a90",
        "IPY_MODEL_b74a15a79af34cdc93008c1f01de6cf6"
       ],
       "layout": "IPY_MODEL_890a2b3365194c1c8d8d0f3bf760165e"
      }
     },
     "7073e691a8db475f99ee24acded01f33": {
      "model_module": "@jupyter-widgets/controls",
      "model_module_version": "1.5.0",
      "model_name": "FloatSliderModel",
      "state": {
       "description": "0°",
       "layout": "IPY_MODEL_fed0fe7774cf4551b4b1808ed482e301",
       "max": 1,
       "min": -1,
       "step": 0.01,
       "style": "IPY_MODEL_098a7b22017b4c019d857cf17ba56474"
      }
     },
     "70b7a782786e47999201f46fba7bc87b": {
      "model_module": "@jupyter-widgets/controls",
      "model_module_version": "1.5.0",
      "model_name": "ButtonModel",
      "state": {
       "description": "Reset Exposure",
       "layout": "IPY_MODEL_7ea858692f9c4d73b588ab7a4eaf83b3",
       "style": "IPY_MODEL_1583b228e2bb4e21a29afba0555b874b"
      }
     },
     "70ec6b4ca21f4765931fea5ff5daf6bb": {
      "model_module": "@jupyter-widgets/controls",
      "model_module_version": "1.5.0",
      "model_name": "FloatSliderModel",
      "state": {
       "description": "Exposure",
       "layout": "IPY_MODEL_286cb40b50e84b6e8a283b39b00da8d3",
       "max": 8,
       "min": -8,
       "step": 0.1,
       "style": "IPY_MODEL_18d1cb88ff514099858aa2d31b1ff8c7"
      }
     },
     "70f27f9b1cb1480a9854cc87154b6f9a": {
      "model_module": "@jupyter-widgets/controls",
      "model_module_version": "1.5.0",
      "model_name": "ButtonStyleModel",
      "state": {}
     },
     "70fcb3c8ee8347afb0f5112548408954": {
      "model_module": "@jupyter-widgets/controls",
      "model_module_version": "1.5.0",
      "model_name": "HBoxModel",
      "state": {
       "children": [
        "IPY_MODEL_818f0b985d904149b49c9e338190c788",
        "IPY_MODEL_9926b93a2bed46b5a4a397a191acb264",
        "IPY_MODEL_86b0faac1a7a4f578d82b56ef6e70637"
       ],
       "layout": "IPY_MODEL_5eefe542dd974c80ad36608ef92e95e1"
      }
     },
     "7123e01929a6435c835fcb346e019ad4": {
      "model_module": "@jupyter-widgets/base",
      "model_module_version": "1.2.0",
      "model_name": "LayoutModel",
      "state": {}
     },
     "71341f105b904c02a2a37c25079aee67": {
      "model_module": "@jupyter-widgets/controls",
      "model_module_version": "1.5.0",
      "model_name": "FloatSliderModel",
      "state": {
       "description": "135°",
       "layout": "IPY_MODEL_2038a3e64fb54c6caa9e8da4cc965ca2",
       "max": 1,
       "min": -1,
       "step": 0.01,
       "style": "IPY_MODEL_4df7bd46ee034f3ab46e041bb0429bbb"
      }
     },
     "7183a7caf9894de68f345911f7e33d70": {
      "model_module": "@jupyter-widgets/controls",
      "model_module_version": "1.5.0",
      "model_name": "SliderStyleModel",
      "state": {
       "description_width": ""
      }
     },
     "71ac564840b748b7ac46dbbb60b055b9": {
      "model_module": "@jupyter-widgets/controls",
      "model_module_version": "1.5.0",
      "model_name": "ButtonModel",
      "state": {
       "description": "Save Figure",
       "layout": "IPY_MODEL_3c81dc8c0310415397f1952b70aab698",
       "style": "IPY_MODEL_782f57b1fc5143d092fe3df1a691a5dd"
      }
     },
     "71c85e7b25014fedae24e7f3a531fdf8": {
      "model_module": "@jupyter-widgets/controls",
      "model_module_version": "1.5.0",
      "model_name": "FloatSliderModel",
      "state": {
       "description": "90°",
       "layout": "IPY_MODEL_646db4ab944e4b569e78b33f3adc1d49",
       "max": 1,
       "min": -1,
       "step": 0.01,
       "style": "IPY_MODEL_5fcd8d5ee2c643aa9b0e001b20680475"
      }
     },
     "72085dc04464443fb2471dad2ecf7914": {
      "model_module": "@jupyter-widgets/base",
      "model_module_version": "1.2.0",
      "model_name": "LayoutModel",
      "state": {}
     },
     "7227ee03451d48e5ae30fb90d8f6af6b": {
      "model_module": "@jupyter-widgets/controls",
      "model_module_version": "1.5.0",
      "model_name": "CheckboxModel",
      "state": {
       "description": "Show Out-of-Gamut",
       "disabled": false,
       "layout": "IPY_MODEL_e9f24edac9b7417e9259e9372b3e9862",
       "style": "IPY_MODEL_107cab543e034299b3784d5189c583a7",
       "value": false
      }
     },
     "7234a11c2aee42ec90696d2b9dcc7934": {
      "model_module": "@jupyter-widgets/controls",
      "model_module_version": "1.5.0",
      "model_name": "FloatSliderModel",
      "state": {
       "description": "Compression Threshold",
       "layout": "IPY_MODEL_2345387068de4bddaa3f66979426e65d",
       "max": 1,
       "step": 0.01,
       "style": "IPY_MODEL_8e5f9c1f3ee748c2b3644d4bc87fb336",
       "value": 0.8
      }
     },
     "7248be1429ef4578b900708b1298c693": {
      "model_module": "@jupyter-widgets/controls",
      "model_module_version": "1.5.0",
      "model_name": "DescriptionStyleModel",
      "state": {
       "description_width": ""
      }
     },
     "7252bb402d7a425b880cf772452f2b7e": {
      "model_module": "@jupyter-widgets/controls",
      "model_module_version": "1.5.0",
      "model_name": "CheckboxModel",
      "state": {
       "description": "Disable Medicina",
       "disabled": false,
       "layout": "IPY_MODEL_8e8cc8732e444df2b6a7bfbcfe63269f",
       "style": "IPY_MODEL_99bf67605dab431ab6ca6d7ec09fa0bb",
       "value": false
      }
     },
     "728b419e59734d8e876aa8d1c446ecd0": {
      "model_module": "@jupyter-widgets/base",
      "model_module_version": "1.2.0",
      "model_name": "LayoutModel",
      "state": {}
     },
     "7298becc9f2049d8a6b4f88cd8477248": {
      "model_module": "@jupyter-widgets/controls",
      "model_module_version": "1.5.0",
      "model_name": "ButtonModel",
      "state": {
       "description": "Reset Compression Controls",
       "layout": "IPY_MODEL_de16b19d221b4f6593e3abca49674cba",
       "style": "IPY_MODEL_8e753002d74d4836b1d5e13d19d50736"
      }
     },
     "72993da754404147b5976a4675912130": {
      "model_module": "@jupyter-widgets/controls",
      "model_module_version": "1.5.0",
      "model_name": "ButtonModel",
      "state": {
       "description": "Reset Saturation Controls",
       "layout": "IPY_MODEL_cf8c6e26ffde4a0ab68889fcfc1c1539",
       "style": "IPY_MODEL_f28ef7f5e3a5401091238489203f6705"
      }
     },
     "72b97a03af2f4d40a921d4b2be4c6e8e": {
      "model_module": "@jupyter-widgets/controls",
      "model_module_version": "1.5.0",
      "model_name": "TabModel",
      "state": {
       "_titles": {
        "0": "Global Controls",
        "1": "Viewer Controls",
        "2": "Compression Controls"
       },
       "children": [
        "IPY_MODEL_ad4edfeb38214a3d8ca653c9118a4cae",
        "IPY_MODEL_495e9c4241a3479b977103068e44494c",
        "IPY_MODEL_f52fdcd1fcbd412a9d3dab72bc6be64d"
       ],
       "layout": "IPY_MODEL_9417e879baec4c449fa09f6dc1c19aaf"
      }
     },
     "72bd6ae045f94ad4a19a35a4639c3dac": {
      "model_module": "@jupyter-widgets/base",
      "model_module_version": "1.2.0",
      "model_name": "LayoutModel",
      "state": {}
     },
     "72bd94eaa0bb4a38945ba2b39e98fb78": {
      "model_module": "@jupyter-widgets/base",
      "model_module_version": "1.2.0",
      "model_name": "LayoutModel",
      "state": {}
     },
     "72c259e9eeb344628a82f47e70e9b9a4": {
      "model_module": "@jupyter-widgets/base",
      "model_module_version": "1.2.0",
      "model_name": "LayoutModel",
      "state": {}
     },
     "7309900cfa4f44cdb62a2d4a9352d844": {
      "model_module": "@jupyter-widgets/base",
      "model_module_version": "1.2.0",
      "model_name": "LayoutModel",
      "state": {}
     },
     "730a29eada864e16bbb6d95a1340f733": {
      "model_module": "@jupyter-widgets/controls",
      "model_module_version": "1.5.0",
      "model_name": "DescriptionStyleModel",
      "state": {
       "description_width": ""
      }
     },
     "73267d5c1d9f412f8707686011374cc5": {
      "model_module": "@jupyter-widgets/controls",
      "model_module_version": "1.5.0",
      "model_name": "ButtonStyleModel",
      "state": {}
     },
     "735569e5906b4e99a11b3d37814267a1": {
      "model_module": "@jupyter-widgets/base",
      "model_module_version": "1.2.0",
      "model_name": "LayoutModel",
      "state": {}
     },
     "73716cc413054eb48c360f8f9e87f90f": {
      "model_module": "@jupyter-widgets/base",
      "model_module_version": "1.2.0",
      "model_name": "LayoutModel",
      "state": {}
     },
     "7380f900c9994127bdc137170e9aacfb": {
      "model_module": "@jupyter-widgets/controls",
      "model_module_version": "1.5.0",
      "model_name": "ButtonModel",
      "state": {
       "description": "Reset Exposure",
       "layout": "IPY_MODEL_812a12586757451680aa538aa1a1bed8",
       "style": "IPY_MODEL_43720583e36f4976b342376370d2d4af"
      }
     },
     "7394f879f43e4f91aef8b7d18944aef2": {
      "model_module": "@jupyter-widgets/controls",
      "model_module_version": "1.5.0",
      "model_name": "ButtonStyleModel",
      "state": {}
     },
     "73afbf7de84e4cbb852bd8a21e408d51": {
      "model_module": "@jupyter-widgets/controls",
      "model_module_version": "1.5.0",
      "model_name": "VBoxModel",
      "state": {
       "children": [
        "IPY_MODEL_a69081aed3114ac9b9d3fbd15a7e469a",
        "IPY_MODEL_1818f1762a8d45a1ac187ff6439e9e99",
        "IPY_MODEL_9e4ea25e4dcb41ff84d3abb693ba4d31"
       ],
       "layout": "IPY_MODEL_ecd4243809644a73aedc6e8c8b70b990"
      }
     },
     "73b92f8957bf4e36a343475c37b37083": {
      "model_module": "@jupyter-widgets/controls",
      "model_module_version": "1.5.0",
      "model_name": "HBoxModel",
      "state": {
       "children": [
        "IPY_MODEL_5dd7b963117d4a7c949d366642567472",
        "IPY_MODEL_9f8ac2c4ffbc497d9c3fb36f119fe267",
        "IPY_MODEL_77569380a55a4c3f8c0968b640370275",
        "IPY_MODEL_861d06d315b94b13aa37bc156cc44e58"
       ],
       "layout": "IPY_MODEL_d4a52a0aeb1b4e4e877665cd9475f939"
      }
     },
     "73b99186672647b3bea94fa9c8368432": {
      "model_module": "jupyter-matplotlib",
      "model_module_version": "^0.7.2",
      "model_name": "ToolbarModel",
      "state": {
       "layout": "IPY_MODEL_7aaa346397714f9e9ad93b5017016a10",
       "toolitems": [
        [
         "Home",
         "Reset original view",
         "home",
         "home"
        ],
        [
         "Back",
         "Back to previous view",
         "arrow-left",
         "back"
        ],
        [
         "Forward",
         "Forward to next view",
         "arrow-right",
         "forward"
        ],
        [
         "Pan",
         "Pan axes with left mouse, zoom with right",
         "arrows",
         "pan"
        ],
        [
         "Zoom",
         "Zoom to rectangle",
         "square-o",
         "zoom"
        ],
        [
         "Download",
         "Download plot",
         "floppy-o",
         "save_figure"
        ]
       ]
      }
     },
     "73d916ec7c47446ea77e97f523226eff": {
      "model_module": "@jupyter-widgets/base",
      "model_module_version": "1.2.0",
      "model_name": "LayoutModel",
      "state": {}
     },
     "73e49f8646684836b5ef0dec0835ebdd": {
      "model_module": "@jupyter-widgets/base",
      "model_module_version": "1.2.0",
      "model_name": "LayoutModel",
      "state": {
       "align_items": "stretch",
       "display": "flex",
       "flex_flow": "column",
       "width": "1128px"
      }
     },
     "73f3460e4462449ebcd46c4fdd8b9e72": {
      "model_module": "@jupyter-widgets/base",
      "model_module_version": "1.2.0",
      "model_name": "LayoutModel",
      "state": {}
     },
     "7405386126794f14b0799d1ed3cbb1cb": {
      "model_module": "@jupyter-widgets/base",
      "model_module_version": "1.2.0",
      "model_name": "LayoutModel",
      "state": {}
     },
     "741763690d5240e9be46f15596408297": {
      "model_module": "@jupyter-widgets/base",
      "model_module_version": "1.2.0",
      "model_name": "LayoutModel",
      "state": {}
     },
     "743b2a7b39ff4af28220655724432635": {
      "model_module": "@jupyter-widgets/controls",
      "model_module_version": "1.5.0",
      "model_name": "ButtonModel",
      "state": {
       "description": "Save Figure",
       "layout": "IPY_MODEL_442f08d618f84f12b5439c86f9af2b53",
       "style": "IPY_MODEL_93e8c5a2eae042f7ae93563685a3e49b"
      }
     },
     "74414e7f7e194beca6492994be920a81": {
      "model_module": "@jupyter-widgets/controls",
      "model_module_version": "1.5.0",
      "model_name": "DescriptionStyleModel",
      "state": {
       "description_width": ""
      }
     },
     "7447dc1f6b0e44c7bcd77ed1a16359e2": {
      "model_module": "@jupyter-widgets/controls",
      "model_module_version": "1.5.0",
      "model_name": "SliderStyleModel",
      "state": {
       "description_width": ""
      }
     },
     "746d5b80df0848c4bd5c7d900933341c": {
      "model_module": "@jupyter-widgets/base",
      "model_module_version": "1.2.0",
      "model_name": "LayoutModel",
      "state": {
       "border": "solid 4px #222",
       "margin": "4px",
       "padding": "0"
      }
     },
     "74c7a95aba7f475cb576f02d50f4d181": {
      "model_module": "@jupyter-widgets/controls",
      "model_module_version": "1.5.0",
      "model_name": "HBoxModel",
      "state": {
       "children": [
        "IPY_MODEL_534f59547bc340f1a72d82a32f58444f",
        "IPY_MODEL_5f6a2c0c49624c7495efef603c940710"
       ],
       "layout": "IPY_MODEL_c3c0b8ff23524328b54c8f3d90cc1f92"
      }
     },
     "74f96c9ecc174fb4851c3cff5d90e0b8": {
      "model_module": "@jupyter-widgets/base",
      "model_module_version": "1.2.0",
      "model_name": "LayoutModel",
      "state": {}
     },
     "74fc7550f555433a9a72a5dddbcb3568": {
      "model_module": "@jupyter-widgets/controls",
      "model_module_version": "1.5.0",
      "model_name": "ButtonModel",
      "state": {
       "description": "Reset Exposure",
       "layout": "IPY_MODEL_fa17edd0b4b44368ace2a7890b039159",
       "style": "IPY_MODEL_ec84beafbb194a43af00d1ed064251cc"
      }
     },
     "753658d4e7714599aba7d0566b8e6fbc": {
      "model_module": "@jupyter-widgets/base",
      "model_module_version": "1.2.0",
      "model_name": "LayoutModel",
      "state": {}
     },
     "75439290f8354fd8b499fd9c3e7d309f": {
      "model_module": "@jupyter-widgets/controls",
      "model_module_version": "1.5.0",
      "model_name": "ButtonModel",
      "state": {
       "description": "Reset Hue Controls",
       "layout": "IPY_MODEL_11d0ff4810c349e2bbf8a6e388eeb6d0",
       "style": "IPY_MODEL_194dcb5a5758467ea2557e34931b4737"
      }
     },
     "75a709cce38f4c17ae73598c11fbbb13": {
      "model_module": "@jupyter-widgets/controls",
      "model_module_version": "1.5.0",
      "model_name": "DescriptionStyleModel",
      "state": {
       "description_width": ""
      }
     },
     "75ae5156c68445a7a21eef49406ca4bb": {
      "model_module": "@jupyter-widgets/controls",
      "model_module_version": "1.5.0",
      "model_name": "SliderStyleModel",
      "state": {
       "description_width": ""
      }
     },
     "75d82a4210e74f82ba12e12a8510544f": {
      "model_module": "@jupyter-widgets/controls",
      "model_module_version": "1.5.0",
      "model_name": "SliderStyleModel",
      "state": {
       "description_width": ""
      }
     },
     "75d97dd74f6849b689579c856ae5775e": {
      "model_module": "@jupyter-widgets/base",
      "model_module_version": "1.2.0",
      "model_name": "LayoutModel",
      "state": {}
     },
     "75dc2319273c459d8a22c00e7a5da66d": {
      "model_module": "@jupyter-widgets/controls",
      "model_module_version": "1.5.0",
      "model_name": "ButtonModel",
      "state": {
       "description": "Reset Protected Area",
       "layout": "IPY_MODEL_83fe7f1068c8499c877375616c3a65b3",
       "style": "IPY_MODEL_fbc4c95fdcb2489b994876e47947fc8f"
      }
     },
     "75fb1dc4f53a4f6f93040f0c170898ab": {
      "model_module": "@jupyter-widgets/controls",
      "model_module_version": "1.5.0",
      "model_name": "FloatSliderModel",
      "state": {
       "description": "135°",
       "layout": "IPY_MODEL_728b419e59734d8e876aa8d1c446ecd0",
       "max": 1,
       "min": -1,
       "step": 0.01,
       "style": "IPY_MODEL_da99de98ffbe4330aade7a17180bbf16"
      }
     },
     "760aeff7e38c428c9426d01b15eaf297": {
      "model_module": "@jupyter-widgets/controls",
      "model_module_version": "1.5.0",
      "model_name": "TabModel",
      "state": {
       "_titles": {
        "0": "Global Controls",
        "1": "Viewer Controls",
        "2": "Protected Area Controls",
        "3": "Saturation Controls",
        "4": "Hue Controls"
       },
       "children": [
        "IPY_MODEL_006b1e86308a46d89791481e7f9aecbd",
        "IPY_MODEL_acbd9a938c4d46d5b4addfa321adf7e8",
        "IPY_MODEL_ae7a9c9b97a9405386c1b91d8984729e",
        "IPY_MODEL_f5e0304826fb499f9a5a2a690d8e0df9",
        "IPY_MODEL_328cbeb5cbb94ecbb7e2087d52bf635d"
       ],
       "layout": "IPY_MODEL_c4d970d5a81d4aaa95401fc3d3f0003e"
      }
     },
     "7626ba3c78284734a6edcf5b043ca169": {
      "model_module": "@jupyter-widgets/controls",
      "model_module_version": "1.5.0",
      "model_name": "SliderStyleModel",
      "state": {
       "description_width": ""
      }
     },
     "763668a09c574492923e42b9957a4f98": {
      "model_module": "@jupyter-widgets/base",
      "model_module_version": "1.2.0",
      "model_name": "LayoutModel",
      "state": {}
     },
     "76f5c727c4354eaa9f883fabf4b5cfaa": {
      "model_module": "@jupyter-widgets/controls",
      "model_module_version": "1.5.0",
      "model_name": "FloatSliderModel",
      "state": {
       "description": "270°",
       "layout": "IPY_MODEL_e575a408917049acb3c265aa8f373d71",
       "max": 1,
       "min": -1,
       "step": 0.01,
       "style": "IPY_MODEL_f68b28173c7a4607bee83485c0a77905"
      }
     },
     "76fa89ba98bb41d9a4760167dc0b7a64": {
      "model_module": "@jupyter-widgets/base",
      "model_module_version": "1.2.0",
      "model_name": "LayoutModel",
      "state": {}
     },
     "772c347140f2436b9c91397693da525c": {
      "model_module": "@jupyter-widgets/controls",
      "model_module_version": "1.5.0",
      "model_name": "SliderStyleModel",
      "state": {
       "description_width": ""
      }
     },
     "772e2d4616f44ffc90b1761a07440796": {
      "model_module": "@jupyter-widgets/controls",
      "model_module_version": "1.5.0",
      "model_name": "SliderStyleModel",
      "state": {
       "description_width": ""
      }
     },
     "7730b4af51fe4da7b51316ff914e8353": {
      "model_module": "@jupyter-widgets/base",
      "model_module_version": "1.2.0",
      "model_name": "LayoutModel",
      "state": {}
     },
     "774c0456fd164ff6bf770786aa8a0406": {
      "model_module": "@jupyter-widgets/controls",
      "model_module_version": "1.5.0",
      "model_name": "SliderStyleModel",
      "state": {
       "description_width": ""
      }
     },
     "774ea8c07f8a40e68c133ccceeb42a78": {
      "model_module": "@jupyter-widgets/base",
      "model_module_version": "1.2.0",
      "model_name": "LayoutModel",
      "state": {}
     },
     "77569380a55a4c3f8c0968b640370275": {
      "model_module": "@jupyter-widgets/controls",
      "model_module_version": "1.5.0",
      "model_name": "FloatSliderModel",
      "state": {
       "description": "Exposure",
       "layout": "IPY_MODEL_6270edd3b5c84e10aec6ef76201361bd",
       "max": 8,
       "min": -8,
       "step": 0.1,
       "style": "IPY_MODEL_6cb8bf310bd1468caaa8ce6f969ff54f"
      }
     },
     "7758a2a017754a7b9ed9d777721066a6": {
      "model_module": "@jupyter-widgets/controls",
      "model_module_version": "1.5.0",
      "model_name": "FloatSliderModel",
      "state": {
       "description": "225°",
       "layout": "IPY_MODEL_31dc0a56e40c47338a889c563c96d458",
       "max": 1,
       "min": -1,
       "step": 0.01,
       "style": "IPY_MODEL_39148139ea29419f8e22f8c47a797422"
      }
     },
     "7780229e8ee54c5ebcb0ed5bddaa5492": {
      "model_module": "jupyter-matplotlib",
      "model_module_version": "^0.7.2",
      "model_name": "MPLCanvasModel",
      "state": {
       "_figure_label": "Figure 25",
       "_height": 440,
       "_width": 1100,
       "header_visible": false,
       "layout": "IPY_MODEL_f5cf409843564a04b24b3eeec8b05787",
       "resizable": false,
       "toolbar": "IPY_MODEL_f665eacad15a4992a1be03ca4dab0762",
       "toolbar_position": "left",
       "toolbar_visible": false
      }
     },
     "778c9eb8b2074d6d8a6952ebd770d589": {
      "model_module": "@jupyter-widgets/base",
      "model_module_version": "1.2.0",
      "model_name": "LayoutModel",
      "state": {}
     },
     "77aedb88787247aa81e1f7348e267929": {
      "model_module": "@jupyter-widgets/controls",
      "model_module_version": "1.5.0",
      "model_name": "SliderStyleModel",
      "state": {
       "description_width": ""
      }
     },
     "77b1c4c8ffca4ba6964f99bf6112939d": {
      "model_module": "@jupyter-widgets/base",
      "model_module_version": "1.2.0",
      "model_name": "LayoutModel",
      "state": {}
     },
     "77f36a18446a44c5b3a68616ca6ae88e": {
      "model_module": "@jupyter-widgets/base",
      "model_module_version": "1.2.0",
      "model_name": "LayoutModel",
      "state": {}
     },
     "7802d9b4efea48b8b1aba80144531059": {
      "model_module": "@jupyter-widgets/controls",
      "model_module_version": "1.5.0",
      "model_name": "SliderStyleModel",
      "state": {
       "description_width": ""
      }
     },
     "7809c784690a438ba992f25b29ccf865": {
      "model_module": "@jupyter-widgets/controls",
      "model_module_version": "1.5.0",
      "model_name": "SliderStyleModel",
      "state": {
       "description_width": ""
      }
     },
     "7810d988469d4fbc9ef982c602660c8c": {
      "model_module": "@jupyter-widgets/controls",
      "model_module_version": "1.5.0",
      "model_name": "HBoxModel",
      "state": {
       "children": [
        "IPY_MODEL_c2cb8a6c8b5a45ffbe2259af5f74bfc9",
        "IPY_MODEL_a77fa046f0a3472ca487163145e3ce4b",
        "IPY_MODEL_eb26ae293c06406eb99b95d224bcde1a",
        "IPY_MODEL_b17d155270e0481cae1e935bf3cb4bd4"
       ],
       "layout": "IPY_MODEL_eb204c0bde9e49f5b3f6055a23eace1d"
      }
     },
     "782f57b1fc5143d092fe3df1a691a5dd": {
      "model_module": "@jupyter-widgets/controls",
      "model_module_version": "1.5.0",
      "model_name": "ButtonStyleModel",
      "state": {}
     },
     "786d3562e0e14af5be4e57a59edbe3d4": {
      "model_module": "@jupyter-widgets/controls",
      "model_module_version": "1.5.0",
      "model_name": "FloatSliderModel",
      "state": {
       "description": "Exposure",
       "layout": "IPY_MODEL_73716cc413054eb48c360f8f9e87f90f",
       "max": 8,
       "min": -8,
       "step": 0.1,
       "style": "IPY_MODEL_2f02612e13d548e8817570175b285d9c"
      }
     },
     "788ef8b8093444b5805a048e3164f2be": {
      "model_module": "@jupyter-widgets/base",
      "model_module_version": "1.2.0",
      "model_name": "LayoutModel",
      "state": {}
     },
     "789a4987d81341c6bd3725a4f757d4c7": {
      "model_module": "@jupyter-widgets/controls",
      "model_module_version": "1.5.0",
      "model_name": "SliderStyleModel",
      "state": {
       "description_width": ""
      }
     },
     "78b3f2ccc3414ec7a611a9c1a1ac2b66": {
      "model_module": "@jupyter-widgets/controls",
      "model_module_version": "1.5.0",
      "model_name": "ButtonStyleModel",
      "state": {}
     },
     "78dbb6c657ad4835ba46888e91f1dda1": {
      "model_module": "@jupyter-widgets/controls",
      "model_module_version": "1.5.0",
      "model_name": "DescriptionStyleModel",
      "state": {
       "description_width": ""
      }
     },
     "78dd5c56d66142a78bde119a0aa53917": {
      "model_module": "@jupyter-widgets/base",
      "model_module_version": "1.2.0",
      "model_name": "LayoutModel",
      "state": {}
     },
     "792c8421fc644546b1e4cd64a4861303": {
      "model_module": "@jupyter-widgets/base",
      "model_module_version": "1.2.0",
      "model_name": "LayoutModel",
      "state": {}
     },
     "7955b23ac6814e86a508a640602443d9": {
      "model_module": "@jupyter-widgets/base",
      "model_module_version": "1.2.0",
      "model_name": "LayoutModel",
      "state": {}
     },
     "797dacc914274873804e835ca7f943a3": {
      "model_module": "@jupyter-widgets/base",
      "model_module_version": "1.2.0",
      "model_name": "LayoutModel",
      "state": {}
     },
     "79942979b1a849efbe6154b9d6cf3747": {
      "model_module": "@jupyter-widgets/controls",
      "model_module_version": "1.5.0",
      "model_name": "SliderStyleModel",
      "state": {
       "description_width": ""
      }
     },
     "79c0878d8aaa40f68db3bfbb130cd2a4": {
      "model_module": "@jupyter-widgets/controls",
      "model_module_version": "1.5.0",
      "model_name": "HBoxModel",
      "state": {
       "children": [
        "IPY_MODEL_963fa21ed43a49e3b7a39fb11ff2129c",
        "IPY_MODEL_7380f900c9994127bdc137170e9aacfb",
        "IPY_MODEL_263ba06c73834a1db36449f899e1eee4",
        "IPY_MODEL_851a40766acc475d9dee8c19ec4461ad"
       ],
       "layout": "IPY_MODEL_a43bf27762eb44af9bdba8157a83b6d2"
      }
     },
     "79daad25ca2d4d019c1695e19d80e241": {
      "model_module": "@jupyter-widgets/base",
      "model_module_version": "1.2.0",
      "model_name": "LayoutModel",
      "state": {}
     },
     "79dac74f8a1b4f65868351e565a9d5dc": {
      "model_module": "@jupyter-widgets/controls",
      "model_module_version": "1.5.0",
      "model_name": "CheckboxModel",
      "state": {
       "description": "Disable Medicina",
       "disabled": false,
       "layout": "IPY_MODEL_1b4ebb0d321c435b8bd01637f9524b00",
       "style": "IPY_MODEL_7248be1429ef4578b900708b1298c693",
       "value": false
      }
     },
     "79fe229a982343219e6930ad69d0e509": {
      "model_module": "jupyter-matplotlib",
      "model_module_version": "^0.7.2",
      "model_name": "MPLCanvasModel",
      "state": {
       "_figure_label": "Figure 1",
       "_height": 458,
       "_width": 1100,
       "header_visible": false,
       "layout": "IPY_MODEL_4659271859c24fb3af0e1af62d94056f",
       "resizable": false,
       "toolbar": "IPY_MODEL_73b99186672647b3bea94fa9c8368432",
       "toolbar_position": "left",
       "toolbar_visible": false
      }
     },
     "7a12afd3860943ec8738e2935e83fd94": {
      "model_module": "@jupyter-widgets/base",
      "model_module_version": "1.2.0",
      "model_name": "LayoutModel",
      "state": {}
     },
     "7a1c970c57874174988f03563b1ab5c6": {
      "model_module": "@jupyter-widgets/base",
      "model_module_version": "1.2.0",
      "model_name": "LayoutModel",
      "state": {}
     },
     "7a34089c810f4c7cb92b07aa43e4a27d": {
      "model_module": "@jupyter-widgets/base",
      "model_module_version": "1.2.0",
      "model_name": "LayoutModel",
      "state": {
       "align_items": "stretch",
       "display": "flex",
       "flex_flow": "column",
       "width": "1128px"
      }
     },
     "7a81988bb752454a8e44300ccf7b3047": {
      "model_module": "@jupyter-widgets/controls",
      "model_module_version": "1.5.0",
      "model_name": "BoxModel",
      "state": {
       "children": [
        "IPY_MODEL_5ec06f1b9b5b436a90f0f0248339435b",
        "IPY_MODEL_0cb5c2e076c74694894b44e201a4a9b3"
       ],
       "layout": "IPY_MODEL_73e49f8646684836b5ef0dec0835ebdd"
      }
     },
     "7a85a0e736854dcfa688cd8d7d0648e7": {
      "model_module": "@jupyter-widgets/controls",
      "model_module_version": "1.5.0",
      "model_name": "ButtonStyleModel",
      "state": {}
     },
     "7a9d4e9279844d75934955adffd14351": {
      "model_module": "@jupyter-widgets/base",
      "model_module_version": "1.2.0",
      "model_name": "LayoutModel",
      "state": {}
     },
     "7a9ea5e2e71945bdb3c58179e564414d": {
      "model_module": "@jupyter-widgets/controls",
      "model_module_version": "1.5.0",
      "model_name": "VBoxModel",
      "state": {
       "children": [
        "IPY_MODEL_bbd23e606b084dd1a39de906bfb77586",
        "IPY_MODEL_de4bf8a54a0e473c8017bd257220d8a0"
       ],
       "layout": "IPY_MODEL_63b44f3dfef44b8cae85934200c98e8e"
      }
     },
     "7aaa346397714f9e9ad93b5017016a10": {
      "model_module": "@jupyter-widgets/base",
      "model_module_version": "1.2.0",
      "model_name": "LayoutModel",
      "state": {}
     },
     "7af4f5ce5a764253b7ab36ab29455c17": {
      "model_module": "@jupyter-widgets/base",
      "model_module_version": "1.2.0",
      "model_name": "LayoutModel",
      "state": {}
     },
     "7b41c2b9c7084a91b780ec80ae25bc09": {
      "model_module": "@jupyter-widgets/controls",
      "model_module_version": "1.5.0",
      "model_name": "ButtonModel",
      "state": {
       "description": "Export Image",
       "layout": "IPY_MODEL_efdff4285b0f426fac5755b96a7f5fcc",
       "style": "IPY_MODEL_902cc94715094bb68eb6e23e5af097e1"
      }
     },
     "7b76cd6f1dd74d7baf594b3cf02a5af7": {
      "model_module": "@jupyter-widgets/base",
      "model_module_version": "1.2.0",
      "model_name": "LayoutModel",
      "state": {}
     },
     "7b7deba2d2fa4989ae3a28d601577cd7": {
      "model_module": "@jupyter-widgets/controls",
      "model_module_version": "1.5.0",
      "model_name": "DescriptionStyleModel",
      "state": {
       "description_width": ""
      }
     },
     "7ba491173d2a43e19f68e458e9ecbe32": {
      "model_module": "@jupyter-widgets/base",
      "model_module_version": "1.2.0",
      "model_name": "LayoutModel",
      "state": {}
     },
     "7bb51acc3db14bc9ae0f8e6c4df38084": {
      "model_module": "@jupyter-widgets/base",
      "model_module_version": "1.2.0",
      "model_name": "LayoutModel",
      "state": {}
     },
     "7bf48689d1eb478bb05575dea6d6ca9c": {
      "model_module": "@jupyter-widgets/base",
      "model_module_version": "1.2.0",
      "model_name": "LayoutModel",
      "state": {}
     },
     "7c0a11b277924e73b1d26bbb72d51c24": {
      "model_module": "@jupyter-widgets/controls",
      "model_module_version": "1.5.0",
      "model_name": "ButtonStyleModel",
      "state": {}
     },
     "7c0c89b06cb3474e99b51746a09b181f": {
      "model_module": "@jupyter-widgets/controls",
      "model_module_version": "1.5.0",
      "model_name": "SliderStyleModel",
      "state": {
       "description_width": ""
      }
     },
     "7c3e42b58ac645a293e5fea2cfa9a8b3": {
      "model_module": "@jupyter-widgets/controls",
      "model_module_version": "1.5.0",
      "model_name": "ButtonStyleModel",
      "state": {}
     },
     "7c43ff71e15b47bb9435c4d39ef825d8": {
      "model_module": "@jupyter-widgets/base",
      "model_module_version": "1.2.0",
      "model_name": "LayoutModel",
      "state": {
       "border": "solid 4px #222",
       "margin": "4px",
       "padding": "0"
      }
     },
     "7c6d9fa9b04842f6b1d2cd7dc07dfcb1": {
      "model_module": "@jupyter-widgets/controls",
      "model_module_version": "1.5.0",
      "model_name": "ButtonModel",
      "state": {
       "description": "Export Image",
       "layout": "IPY_MODEL_877971a90cd948ad8ce40b7c2b66ca3e",
       "style": "IPY_MODEL_fdc6dbb25102472db75daf08fa989bbb"
      }
     },
     "7c750342ab6244f48d54eb4dcbae6237": {
      "model_module": "@jupyter-widgets/base",
      "model_module_version": "1.2.0",
      "model_name": "LayoutModel",
      "state": {}
     },
     "7c76fafbae714966bff2f4bb233ef478": {
      "model_module": "@jupyter-widgets/controls",
      "model_module_version": "1.5.0",
      "model_name": "FloatSliderModel",
      "state": {
       "description": "180°",
       "layout": "IPY_MODEL_caa117e2c8dd41fab2537e023c5afe2c",
       "max": 1,
       "min": -1,
       "step": 0.01,
       "style": "IPY_MODEL_267b61975e1a42d6aa396f5fd8224825"
      }
     },
     "7c79cd4adf5843b89aa029b95152d7e7": {
      "model_module": "@jupyter-widgets/controls",
      "model_module_version": "1.5.0",
      "model_name": "VBoxModel",
      "state": {
       "children": [
        "IPY_MODEL_7073e691a8db475f99ee24acded01f33",
        "IPY_MODEL_a6a9a60d870549fc952746104b99e81c",
        "IPY_MODEL_0a9c0a149174497b989ff2115652e06d"
       ],
       "layout": "IPY_MODEL_552fbdf40fef495181b6e55dd86623ca"
      }
     },
     "7c8ae257c9f642b2bb6f1f62db14208f": {
      "model_module": "@jupyter-widgets/controls",
      "model_module_version": "1.5.0",
      "model_name": "DescriptionStyleModel",
      "state": {
       "description_width": ""
      }
     },
     "7cad767cc12d48378ce35b33756ea2db": {
      "model_module": "@jupyter-widgets/controls",
      "model_module_version": "1.5.0",
      "model_name": "HBoxModel",
      "state": {
       "children": [
        "IPY_MODEL_43970a00725047eba6c7c7bcfc4e7805",
        "IPY_MODEL_c34ea7df907d43adbf81358ee33d2a44",
        "IPY_MODEL_71ac564840b748b7ac46dbbb60b055b9"
       ],
       "layout": "IPY_MODEL_01606f15cce7443c9b8325b87e9047d7"
      }
     },
     "7cad9b507e2d45189b7d5f5d282c78e4": {
      "model_module": "@jupyter-widgets/base",
      "model_module_version": "1.2.0",
      "model_name": "LayoutModel",
      "state": {}
     },
     "7cc933d57810430b90e009fc6461dd63": {
      "model_module": "@jupyter-widgets/base",
      "model_module_version": "1.2.0",
      "model_name": "LayoutModel",
      "state": {}
     },
     "7ce04a7f5a6a4250b0b2500f6f8ca3cf": {
      "model_module": "@jupyter-widgets/controls",
      "model_module_version": "1.5.0",
      "model_name": "ButtonStyleModel",
      "state": {}
     },
     "7ce279c6973141089e5bf30564496cb2": {
      "model_module": "@jupyter-widgets/base",
      "model_module_version": "1.2.0",
      "model_name": "LayoutModel",
      "state": {}
     },
     "7cfef39092864dc0bb53b6e01c21a9d7": {
      "model_module": "@jupyter-widgets/base",
      "model_module_version": "1.2.0",
      "model_name": "LayoutModel",
      "state": {}
     },
     "7d09d62414fa40558000e3341bea2c74": {
      "model_module": "@jupyter-widgets/controls",
      "model_module_version": "1.5.0",
      "model_name": "DescriptionStyleModel",
      "state": {
       "description_width": ""
      }
     },
     "7d153f09d7034b20a344ee02628c14e8": {
      "model_module": "@jupyter-widgets/base",
      "model_module_version": "1.2.0",
      "model_name": "LayoutModel",
      "state": {}
     },
     "7d26c4ec33de4637bccff73cb393d65b": {
      "model_module": "@jupyter-widgets/base",
      "model_module_version": "1.2.0",
      "model_name": "LayoutModel",
      "state": {}
     },
     "7d435620d31a44c6ba7ef2ff29cc97b9": {
      "model_module": "@jupyter-widgets/base",
      "model_module_version": "1.2.0",
      "model_name": "LayoutModel",
      "state": {}
     },
     "7d5bf85fb090434784635a1cffa563be": {
      "model_module": "@jupyter-widgets/base",
      "model_module_version": "1.2.0",
      "model_name": "LayoutModel",
      "state": {}
     },
     "7d64900df34c4683ae03139fab08d509": {
      "model_module": "@jupyter-widgets/controls",
      "model_module_version": "1.5.0",
      "model_name": "BoxModel",
      "state": {
       "children": [
        "IPY_MODEL_ac7f012df0c04063a4a1589b87877b30",
        "IPY_MODEL_5baacfe78f624ce8a07e412b05723d99"
       ],
       "layout": "IPY_MODEL_a8e91b3a32434f39b6e35b782e884296"
      }
     },
     "7d65e028097249c68117f2d0b1c9f513": {
      "model_module": "@jupyter-widgets/controls",
      "model_module_version": "1.5.0",
      "model_name": "HBoxModel",
      "state": {
       "children": [
        "IPY_MODEL_35352d5a59704f0dbc196660ffa1f233",
        "IPY_MODEL_74fc7550f555433a9a72a5dddbcb3568",
        "IPY_MODEL_558283d35d00437ca30eb9db39a65c31",
        "IPY_MODEL_7227ee03451d48e5ae30fb90d8f6af6b"
       ],
       "layout": "IPY_MODEL_1bae71e1039a4aaeb9bf6bbb78824307"
      }
     },
     "7da74f67f7c5482a8a7e83604ac9fd40": {
      "model_module": "jupyter-matplotlib",
      "model_module_version": "^0.7.2",
      "model_name": "ToolbarModel",
      "state": {
       "layout": "IPY_MODEL_c4b0b5b4731d46318ea6ce27db80ad17",
       "toolitems": [
        [
         "Home",
         "Reset original view",
         "home",
         "home"
        ],
        [
         "Back",
         "Back to previous view",
         "arrow-left",
         "back"
        ],
        [
         "Forward",
         "Forward to next view",
         "arrow-right",
         "forward"
        ],
        [
         "Pan",
         "Pan axes with left mouse, zoom with right",
         "arrows",
         "pan"
        ],
        [
         "Zoom",
         "Zoom to rectangle",
         "square-o",
         "zoom"
        ],
        [
         "Download",
         "Download plot",
         "floppy-o",
         "save_figure"
        ]
       ]
      }
     },
     "7db94b13a2de49bda93460d5b2957e98": {
      "model_module": "@jupyter-widgets/controls",
      "model_module_version": "1.5.0",
      "model_name": "ButtonModel",
      "state": {
       "description": "Reset Hue Controls",
       "layout": "IPY_MODEL_0765c648952246098ce39b11410cf866",
       "style": "IPY_MODEL_2469d703cf064e0785bbd00cb8daa83b"
      }
     },
     "7ddcb71ba28743aebc7274a15a117558": {
      "model_module": "@jupyter-widgets/base",
      "model_module_version": "1.2.0",
      "model_name": "LayoutModel",
      "state": {}
     },
     "7de1b1ebc7a844379e23c7ead2232835": {
      "model_module": "@jupyter-widgets/controls",
      "model_module_version": "1.5.0",
      "model_name": "FloatSliderModel",
      "state": {
       "description": "225°",
       "layout": "IPY_MODEL_959986c5592a4ca1ac328b1b2ba5db2d",
       "max": 1,
       "min": -1,
       "step": 0.01,
       "style": "IPY_MODEL_a162ba40fe0c42ea93083c2a84c46691"
      }
     },
     "7de8bbf3d3904d4b8cd10c2d7054fbe2": {
      "model_module": "@jupyter-widgets/base",
      "model_module_version": "1.2.0",
      "model_name": "LayoutModel",
      "state": {}
     },
     "7deda6b9f41a441ca8cd5a5963cf4926": {
      "model_module": "@jupyter-widgets/base",
      "model_module_version": "1.2.0",
      "model_name": "LayoutModel",
      "state": {}
     },
     "7deeda24bb0f48768505aad36c16aa75": {
      "model_module": "@jupyter-widgets/controls",
      "model_module_version": "1.5.0",
      "model_name": "FloatSliderModel",
      "state": {
       "description": "225°",
       "layout": "IPY_MODEL_7e3760a36daa4d699a4a119ae235a21a",
       "max": 1,
       "min": -1,
       "step": 0.01,
       "style": "IPY_MODEL_30b32e06a72b487d951a3cc54a95b977"
      }
     },
     "7e0262b902ce42a3a96de6a3d126665e": {
      "model_module": "@jupyter-widgets/base",
      "model_module_version": "1.2.0",
      "model_name": "LayoutModel",
      "state": {
       "align_items": "stretch",
       "display": "flex",
       "flex_flow": "column",
       "width": "1128px"
      }
     },
     "7e3760a36daa4d699a4a119ae235a21a": {
      "model_module": "@jupyter-widgets/base",
      "model_module_version": "1.2.0",
      "model_name": "LayoutModel",
      "state": {}
     },
     "7e6da2b12efc4076b2bef36131738199": {
      "model_module": "@jupyter-widgets/base",
      "model_module_version": "1.2.0",
      "model_name": "LayoutModel",
      "state": {}
     },
     "7e99d5ab489d486db0793750448a2e31": {
      "model_module": "@jupyter-widgets/controls",
      "model_module_version": "1.5.0",
      "model_name": "DescriptionStyleModel",
      "state": {
       "description_width": ""
      }
     },
     "7ea858692f9c4d73b588ab7a4eaf83b3": {
      "model_module": "@jupyter-widgets/base",
      "model_module_version": "1.2.0",
      "model_name": "LayoutModel",
      "state": {}
     },
     "7ebbade78ed0495298c3adb968774cd6": {
      "model_module": "@jupyter-widgets/controls",
      "model_module_version": "1.5.0",
      "model_name": "ButtonStyleModel",
      "state": {}
     },
     "7f186813b33441769d190ede675fbc0b": {
      "model_module": "@jupyter-widgets/base",
      "model_module_version": "1.2.0",
      "model_name": "LayoutModel",
      "state": {}
     },
     "7f37019bbaa4490e96273f142aafbed8": {
      "model_module": "@jupyter-widgets/controls",
      "model_module_version": "1.5.0",
      "model_name": "SliderStyleModel",
      "state": {
       "description_width": ""
      }
     },
     "7f3cf4a35a754fbe9f264c2f7a7abab0": {
      "model_module": "@jupyter-widgets/controls",
      "model_module_version": "1.5.0",
      "model_name": "SliderStyleModel",
      "state": {
       "description_width": ""
      }
     },
     "7f912d1fb5254f96a2ceab40fdc95c6e": {
      "model_module": "@jupyter-widgets/base",
      "model_module_version": "1.2.0",
      "model_name": "LayoutModel",
      "state": {}
     },
     "7fb052d600dc4f63829126b3e7eb51be": {
      "model_module": "@jupyter-widgets/base",
      "model_module_version": "1.2.0",
      "model_name": "LayoutModel",
      "state": {}
     },
     "7ff2635156fb4d2e97a4480d9a43b113": {
      "model_module": "@jupyter-widgets/base",
      "model_module_version": "1.2.0",
      "model_name": "LayoutModel",
      "state": {}
     },
     "800bfb183b154da083e3ee0bc7f2e618": {
      "model_module": "@jupyter-widgets/controls",
      "model_module_version": "1.5.0",
      "model_name": "FloatSliderModel",
      "state": {
       "description": "180°",
       "layout": "IPY_MODEL_1a7fb1a50b5f4890813ae493413348a6",
       "max": 1,
       "min": -1,
       "step": 0.01,
       "style": "IPY_MODEL_c0d40f881fcd4155b6f01d7c5389a0e9"
      }
     },
     "800cba2a47f14a44961e5027896d9a48": {
      "model_module": "@jupyter-widgets/base",
      "model_module_version": "1.2.0",
      "model_name": "LayoutModel",
      "state": {}
     },
     "802acc1ab42c4cf985a55998dee367bf": {
      "model_module": "@jupyter-widgets/controls",
      "model_module_version": "1.5.0",
      "model_name": "FloatSliderModel",
      "state": {
       "description": "Exposure",
       "layout": "IPY_MODEL_cb351f7bf0544765aba1bbb549b9a958",
       "max": 8,
       "min": -8,
       "step": 0.1,
       "style": "IPY_MODEL_67323d154f5b4dd4880b52f1cea06b07"
      }
     },
     "8035e82fa9114a7eba3a5ebabde9bc27": {
      "model_module": "@jupyter-widgets/controls",
      "model_module_version": "1.5.0",
      "model_name": "DropdownModel",
      "state": {
       "_options_labels": [
        "sRGB",
        "ACES (sRGB)"
       ],
       "description": "View Transform:",
       "index": 0,
       "layout": "IPY_MODEL_fc58886b6d974cfa89e2bd956b217100",
       "style": "IPY_MODEL_74414e7f7e194beca6492994be920a81"
      }
     },
     "803a011b315c439287c806bb3a54ef77": {
      "model_module": "@jupyter-widgets/controls",
      "model_module_version": "1.5.0",
      "model_name": "FloatSliderModel",
      "state": {
       "description": "180°",
       "layout": "IPY_MODEL_7de8bbf3d3904d4b8cd10c2d7054fbe2",
       "max": 1,
       "min": -1,
       "step": 0.01,
       "style": "IPY_MODEL_fc9e9e7c3bdf461c97c02135d4e6245d"
      }
     },
     "8043eda6bf08424caa8cd0668e4c5d78": {
      "model_module": "@jupyter-widgets/controls",
      "model_module_version": "1.5.0",
      "model_name": "DropdownModel",
      "state": {
       "_options_labels": [
        "tanh",
        "atan",
        "simple"
       ],
       "description": "Compression Function:",
       "index": 0,
       "layout": "IPY_MODEL_517fc499f5044fcdb0ea46a26f48be50",
       "style": "IPY_MODEL_49a2e9b09bb049c1999c41b4dfad9278"
      }
     },
     "804603c06e6e489d93c0de976c1927a1": {
      "model_module": "@jupyter-widgets/controls",
      "model_module_version": "1.5.0",
      "model_name": "ButtonStyleModel",
      "state": {}
     },
     "804c5d3b6bed4ffd830cf165df5f29d9": {
      "model_module": "@jupyter-widgets/controls",
      "model_module_version": "1.5.0",
      "model_name": "DropdownModel",
      "state": {
       "_options_labels": [
        "sRGB",
        "ACES (sRGB)"
       ],
       "description": "View Transform:",
       "index": 0,
       "layout": "IPY_MODEL_0568abd1647d415498ed35814ae313c6",
       "style": "IPY_MODEL_d9bb5251c91c484591aea814a3424137"
      }
     },
     "805936c3b9d74ae287ad1aa6c8050e04": {
      "model_module": "@jupyter-widgets/base",
      "model_module_version": "1.2.0",
      "model_name": "LayoutModel",
      "state": {
       "border": "solid 4px #222",
       "margin": "4px",
       "padding": "0"
      }
     },
     "8078a5e0eac64874b530909ce7313d4d": {
      "model_module": "@jupyter-widgets/base",
      "model_module_version": "1.2.0",
      "model_name": "LayoutModel",
      "state": {}
     },
     "807b77100ce043f490ee04a789c4ed6e": {
      "model_module": "@jupyter-widgets/controls",
      "model_module_version": "1.5.0",
      "model_name": "FloatSliderModel",
      "state": {
       "description": "45°",
       "layout": "IPY_MODEL_0ab9527b69ad4c3bb2a332ef549e7d21",
       "max": 1,
       "min": -1,
       "step": 0.01,
       "style": "IPY_MODEL_12bf9de2a7b44c9d8a03ef52058d01aa"
      }
     },
     "80c05fdd9b0548b68be5d49aa89ae221": {
      "model_module": "@jupyter-widgets/controls",
      "model_module_version": "1.5.0",
      "model_name": "SliderStyleModel",
      "state": {
       "description_width": ""
      }
     },
     "80c74a00a20744698e40c40a1490db74": {
      "model_module": "@jupyter-widgets/controls",
      "model_module_version": "1.5.0",
      "model_name": "FloatSliderModel",
      "state": {
       "description": "Protected Area Threshold",
       "layout": "IPY_MODEL_812e90c1883b459991ca0ee48a08617d",
       "max": 1,
       "step": 0.01,
       "style": "IPY_MODEL_e86ee57c4fba47909b76bef8da8cf475",
       "value": 0.7
      }
     },
     "80da0eb69ec9474bbfad17aa6ed358b7": {
      "model_module": "@jupyter-widgets/base",
      "model_module_version": "1.2.0",
      "model_name": "LayoutModel",
      "state": {}
     },
     "80f0f60617744cba9f70661c7a560cac": {
      "model_module": "@jupyter-widgets/controls",
      "model_module_version": "1.5.0",
      "model_name": "DropdownModel",
      "state": {
       "_options_labels": [
        "sRGB",
        "ACES (sRGB)"
       ],
       "description": "View Transform:",
       "index": 0,
       "layout": "IPY_MODEL_846fe2facf2a4e9fa840c4d1aa29ddfe",
       "style": "IPY_MODEL_1884892336c7487ab336555dc2a6bd1b"
      }
     },
     "812a12586757451680aa538aa1a1bed8": {
      "model_module": "@jupyter-widgets/base",
      "model_module_version": "1.2.0",
      "model_name": "LayoutModel",
      "state": {}
     },
     "812e90c1883b459991ca0ee48a08617d": {
      "model_module": "@jupyter-widgets/base",
      "model_module_version": "1.2.0",
      "model_name": "LayoutModel",
      "state": {}
     },
     "815268327696458f844ff08444af1afb": {
      "model_module": "@jupyter-widgets/controls",
      "model_module_version": "1.5.0",
      "model_name": "DescriptionStyleModel",
      "state": {
       "description_width": ""
      }
     },
     "815b2c844a154e83a3b5d2d19bbdd1c3": {
      "model_module": "@jupyter-widgets/controls",
      "model_module_version": "1.5.0",
      "model_name": "CheckboxModel",
      "state": {
       "description": "Disable Medicina",
       "disabled": false,
       "layout": "IPY_MODEL_1aa7f933f7924ee789dddeeaae8e3ec9",
       "style": "IPY_MODEL_3a7b656f73d64ea2bf58ed26084b5a24",
       "value": false
      }
     },
     "8162f8ca7aec4a8d94d95ff96c6b1000": {
      "model_module": "@jupyter-widgets/controls",
      "model_module_version": "1.5.0",
      "model_name": "DropdownModel",
      "state": {
       "_options_labels": [
        "sRGB",
        "ACES (sRGB)"
       ],
       "description": "View Transform:",
       "index": 0,
       "layout": "IPY_MODEL_098b8847bffc41adb43af07114e8ad6b",
       "style": "IPY_MODEL_48cb3623fc904ad39c7e902ae8714167"
      }
     },
     "818c8ce988094caeaaa35ea2d7e2186a": {
      "model_module": "@jupyter-widgets/base",
      "model_module_version": "1.2.0",
      "model_name": "LayoutModel",
      "state": {}
     },
     "818f0b985d904149b49c9e338190c788": {
      "model_module": "@jupyter-widgets/controls",
      "model_module_version": "1.5.0",
      "model_name": "ButtonModel",
      "state": {
       "description": "Reset Saturation Controls",
       "layout": "IPY_MODEL_51077047e3f54b18a9e0a0f3758e1efe",
       "style": "IPY_MODEL_eaace036732946c9a91f0a255252c811"
      }
     },
     "81b27fbef35f422d9638d333dcdd8ba4": {
      "model_module": "@jupyter-widgets/controls",
      "model_module_version": "1.5.0",
      "model_name": "FloatSliderModel",
      "state": {
       "description": "90°",
       "layout": "IPY_MODEL_dc4af12d92ed4a718f864711c738885b",
       "max": 1,
       "min": -1,
       "step": 0.01,
       "style": "IPY_MODEL_c6a7de2fcd0f4a969eba907f7e0d193f"
      }
     },
     "81b801c52e844bf2a30d4f1ef2586319": {
      "model_module": "@jupyter-widgets/base",
      "model_module_version": "1.2.0",
      "model_name": "LayoutModel",
      "state": {}
     },
     "81e7430604764b82997af72451f4c5d6": {
      "model_module": "@jupyter-widgets/controls",
      "model_module_version": "1.5.0",
      "model_name": "SliderStyleModel",
      "state": {
       "description_width": ""
      }
     },
     "81fcb3263e814e5fa040082ba5e4ce0a": {
      "model_module": "@jupyter-widgets/controls",
      "model_module_version": "1.5.0",
      "model_name": "SliderStyleModel",
      "state": {
       "description_width": ""
      }
     },
     "820c32007bd1406ba6aa21214db3ec8a": {
      "model_module": "@jupyter-widgets/base",
      "model_module_version": "1.2.0",
      "model_name": "LayoutModel",
      "state": {}
     },
     "82140853827e419090816101911620fa": {
      "model_module": "@jupyter-widgets/controls",
      "model_module_version": "1.5.0",
      "model_name": "DropdownModel",
      "state": {
       "_options_labels": [
        "sRGB",
        "ACES (sRGB)"
       ],
       "description": "View Transform:",
       "index": 0,
       "layout": "IPY_MODEL_80da0eb69ec9474bbfad17aa6ed358b7",
       "style": "IPY_MODEL_1972e22e9b5d49de85304f6b6dd6ea56"
      }
     },
     "82433a85ae804ca4a20b18551215f9dd": {
      "model_module": "@jupyter-widgets/controls",
      "model_module_version": "1.5.0",
      "model_name": "BoxModel",
      "state": {
       "children": [
        "IPY_MODEL_6f77e2f5ec8d4d4cb1918a6e96007308",
        "IPY_MODEL_31d01b26e42c4cc384a31587bf392e5b"
       ],
       "layout": "IPY_MODEL_85d0a8afff734be4b958f0bc04ee1741"
      }
     },
     "8256394a15924dbd915f9a9efab92d9f": {
      "model_module": "@jupyter-widgets/controls",
      "model_module_version": "1.5.0",
      "model_name": "CheckboxModel",
      "state": {
       "description": "Disable Medicina",
       "disabled": false,
       "layout": "IPY_MODEL_0ee0b9e0fcc74f299031aeb3912059e6",
       "style": "IPY_MODEL_7d09d62414fa40558000e3341bea2c74",
       "value": false
      }
     },
     "826a58f710db48a9b19e49e3eb16fd82": {
      "model_module": "@jupyter-widgets/controls",
      "model_module_version": "1.5.0",
      "model_name": "SliderStyleModel",
      "state": {
       "description_width": ""
      }
     },
     "826fac1a161b494d9e55ba9c7fff0bcc": {
      "model_module": "@jupyter-widgets/controls",
      "model_module_version": "1.5.0",
      "model_name": "FloatSliderModel",
      "state": {
       "description": "90°",
       "layout": "IPY_MODEL_9ac4239a84a1431a91b7551397fb8f07",
       "max": 1,
       "min": -1,
       "step": 0.01,
       "style": "IPY_MODEL_4da1293562164840ac3fc2e4506f24aa"
      }
     },
     "82743896f5a74f7d89b62aff38be5a59": {
      "model_module": "@jupyter-widgets/base",
      "model_module_version": "1.2.0",
      "model_name": "LayoutModel",
      "state": {}
     },
     "828506a8eb1a43edb4ce2acd5aba4b8a": {
      "model_module": "@jupyter-widgets/controls",
      "model_module_version": "1.5.0",
      "model_name": "DescriptionStyleModel",
      "state": {
       "description_width": ""
      }
     },
     "82a5d9054bc04e35ad5027c990ef87f3": {
      "model_module": "@jupyter-widgets/controls",
      "model_module_version": "1.5.0",
      "model_name": "ButtonStyleModel",
      "state": {}
     },
     "82ac4e07367a4cbe9a365d33c08831c3": {
      "model_module": "@jupyter-widgets/base",
      "model_module_version": "1.2.0",
      "model_name": "LayoutModel",
      "state": {}
     },
     "82ace9884a3443cfaddbe16d21733a55": {
      "model_module": "jupyter-matplotlib",
      "model_module_version": "^0.7.2",
      "model_name": "MPLCanvasModel",
      "state": {
       "_figure_label": "Figure 15",
       "_height": 440,
       "_width": 1100,
       "header_visible": false,
       "layout": "IPY_MODEL_f000fc6b4bd643b4bae7e2c216604d5a",
       "resizable": false,
       "toolbar": "IPY_MODEL_36f2000987084a85a57e5114c8058bd8",
       "toolbar_position": "left",
       "toolbar_visible": false
      }
     },
     "82c1416fc9144d5a9ba3cc0ef3bd280f": {
      "model_module": "@jupyter-widgets/base",
      "model_module_version": "1.2.0",
      "model_name": "LayoutModel",
      "state": {
       "border": "solid 4px #222",
       "margin": "4px",
       "padding": "0"
      }
     },
     "82def17f65c74bdd99008374bb38b154": {
      "model_module": "@jupyter-widgets/base",
      "model_module_version": "1.2.0",
      "model_name": "LayoutModel",
      "state": {}
     },
     "82f802f75fa8456cb05acbfb39b984d5": {
      "model_module": "@jupyter-widgets/controls",
      "model_module_version": "1.5.0",
      "model_name": "FloatSliderModel",
      "state": {
       "description": "0°",
       "layout": "IPY_MODEL_d0786006a0464144a449eed50c8b171a",
       "max": 1,
       "min": -1,
       "step": 0.01,
       "style": "IPY_MODEL_e47f173bb73444349d767a29201485ae"
      }
     },
     "830e77ff75c944369972029523ce459b": {
      "model_module": "@jupyter-widgets/controls",
      "model_module_version": "1.5.0",
      "model_name": "SliderStyleModel",
      "state": {
       "description_width": ""
      }
     },
     "832834853ce24098a0cc60efac7a9898": {
      "model_module": "@jupyter-widgets/controls",
      "model_module_version": "1.5.0",
      "model_name": "ButtonModel",
      "state": {
       "description": "Reset Protected Area",
       "layout": "IPY_MODEL_5378d84071384510aef788a6f89ddf69",
       "style": "IPY_MODEL_a00311f7fe014016a91bf94d511336ca"
      }
     },
     "8335fd120239410e8cb5bb5a8b2644dc": {
      "model_module": "@jupyter-widgets/base",
      "model_module_version": "1.2.0",
      "model_name": "LayoutModel",
      "state": {}
     },
     "8366c8313dc345879dc7d6b44f13b11e": {
      "model_module": "@jupyter-widgets/base",
      "model_module_version": "1.2.0",
      "model_name": "LayoutModel",
      "state": {}
     },
     "8383893f938648e685605efb6df5fe70": {
      "model_module": "@jupyter-widgets/base",
      "model_module_version": "1.2.0",
      "model_name": "LayoutModel",
      "state": {
       "border": "solid 4px #222",
       "margin": "4px",
       "padding": "0"
      }
     },
     "8386c50469b24b7893404f2cfe720be4": {
      "model_module": "@jupyter-widgets/controls",
      "model_module_version": "1.5.0",
      "model_name": "SliderStyleModel",
      "state": {
       "description_width": ""
      }
     },
     "83971950abf84ffbaf9988543af545e5": {
      "model_module": "@jupyter-widgets/base",
      "model_module_version": "1.2.0",
      "model_name": "LayoutModel",
      "state": {
       "border": "solid 4px #222",
       "margin": "4px",
       "padding": "0"
      }
     },
     "839caacbe7c1459fbc8afb0317840bd1": {
      "model_module": "@jupyter-widgets/controls",
      "model_module_version": "1.5.0",
      "model_name": "HBoxModel",
      "state": {
       "children": [
        "IPY_MODEL_832834853ce24098a0cc60efac7a9898",
        "IPY_MODEL_1e26836c2985467588eb2ea326592778"
       ],
       "layout": "IPY_MODEL_ee3bbedb49744c73bda367bfa2b1fbf9"
      }
     },
     "83cf06ab28cd4fd0a20358e54f481690": {
      "model_module": "@jupyter-widgets/controls",
      "model_module_version": "1.5.0",
      "model_name": "HBoxModel",
      "state": {
       "children": [
        "IPY_MODEL_1fcf8d3c483d414f864a1782e302a28e",
        "IPY_MODEL_d685212328da4b87a8ed26d059e3b34a",
        "IPY_MODEL_6bd9ce41ba9847e5b7678f7a0abdaee8",
        "IPY_MODEL_16653d5987d8432abfde401fea8d97d0"
       ],
       "layout": "IPY_MODEL_b1c57018defc4f6386521a2b68fe715b"
      }
     },
     "83de532d675b405c856ef79a83806cd9": {
      "model_module": "@jupyter-widgets/controls",
      "model_module_version": "1.5.0",
      "model_name": "VBoxModel",
      "state": {
       "children": [
        "IPY_MODEL_487381193ca24e62bb0273ecf46f1868",
        "IPY_MODEL_933e7a85bd724ea285ad45aefd448af0",
        "IPY_MODEL_a252e24e36fc43d0b6dd9e7d9244aa32"
       ],
       "layout": "IPY_MODEL_e240b5ec9322407c9939377f78862a83"
      }
     },
     "83fe7f1068c8499c877375616c3a65b3": {
      "model_module": "@jupyter-widgets/base",
      "model_module_version": "1.2.0",
      "model_name": "LayoutModel",
      "state": {}
     },
     "8408033d174b445b8ca60dc80f0904bf": {
      "model_module": "@jupyter-widgets/controls",
      "model_module_version": "1.5.0",
      "model_name": "HBoxModel",
      "state": {
       "children": [
        "IPY_MODEL_63de55210ae04addbbbd4e1253f5d899",
        "IPY_MODEL_6564ae7b375949d081765971ab3bbcaf",
        "IPY_MODEL_c80afda89e42432d97493eda018be94f",
        "IPY_MODEL_ff90fa2df36c4be2b545c1b5a269b9c4"
       ],
       "layout": "IPY_MODEL_305dba75b11a48c0972c33d99225c68b"
      }
     },
     "8410cbfb687047b9af1cd1c0220b23e8": {
      "model_module": "@jupyter-widgets/controls",
      "model_module_version": "1.5.0",
      "model_name": "ButtonModel",
      "state": {
       "description": "Export Image",
       "layout": "IPY_MODEL_73f3460e4462449ebcd46c4fdd8b9e72",
       "style": "IPY_MODEL_b04cfdac46c9423c83b442a32ffa359b"
      }
     },
     "8412b9d3102b4b28b11d805f5c987183": {
      "model_module": "@jupyter-widgets/controls",
      "model_module_version": "1.5.0",
      "model_name": "CheckboxModel",
      "state": {
       "description": "Disable Medicina",
       "disabled": false,
       "layout": "IPY_MODEL_5bf9fc60b8e640c69c38dfdfda3edb2e",
       "style": "IPY_MODEL_eb647e49d0934944a76cf9d39ea23929",
       "value": false
      }
     },
     "8415643f10d94b1e9bf50cc8937bff5a": {
      "model_module": "@jupyter-widgets/controls",
      "model_module_version": "1.5.0",
      "model_name": "ButtonModel",
      "state": {
       "description": "Save Figure",
       "layout": "IPY_MODEL_f8e76044bcd34ac49922a3bdcd2502fa",
       "style": "IPY_MODEL_044db7665bea441d95f74f0679a47948"
      }
     },
     "8434f0e0c97b476582d2525c27088fd8": {
      "model_module": "@jupyter-widgets/base",
      "model_module_version": "1.2.0",
      "model_name": "LayoutModel",
      "state": {
       "border": "solid 4px #222",
       "margin": "4px",
       "padding": "0"
      }
     },
     "844459d918c842cca52650895449b3df": {
      "model_module": "@jupyter-widgets/base",
      "model_module_version": "1.2.0",
      "model_name": "LayoutModel",
      "state": {}
     },
     "84563f1c963b496f91a0b63f576029eb": {
      "model_module": "@jupyter-widgets/controls",
      "model_module_version": "1.5.0",
      "model_name": "SliderStyleModel",
      "state": {
       "description_width": ""
      }
     },
     "846fe2facf2a4e9fa840c4d1aa29ddfe": {
      "model_module": "@jupyter-widgets/base",
      "model_module_version": "1.2.0",
      "model_name": "LayoutModel",
      "state": {}
     },
     "847c535e33d54ca9bc12816a33942c39": {
      "model_module": "@jupyter-widgets/controls",
      "model_module_version": "1.5.0",
      "model_name": "HBoxModel",
      "state": {
       "children": [
        "IPY_MODEL_6e6d33ce26074938927d08da65da4199",
        "IPY_MODEL_d6216680feb8408dae2fc67aa53b3e73",
        "IPY_MODEL_25006aeaa971441bbca544cfd30db0f6"
       ],
       "layout": "IPY_MODEL_397d5d39069441b480be633316a74da2"
      }
     },
     "847eb1beb6764c72b12839f028e0adca": {
      "model_module": "@jupyter-widgets/controls",
      "model_module_version": "1.5.0",
      "model_name": "DescriptionStyleModel",
      "state": {
       "description_width": ""
      }
     },
     "84a12c33da804a39bd2eaeae29cee881": {
      "model_module": "@jupyter-widgets/controls",
      "model_module_version": "1.5.0",
      "model_name": "ButtonModel",
      "state": {
       "description": "Reset Compression Controls",
       "layout": "IPY_MODEL_c26e29a817824d579e4e114f747d0267",
       "style": "IPY_MODEL_9fd08d26414841e2bac9ca6e1a6b4445"
      }
     },
     "84e8ded387e943ffae37505b8522d5f6": {
      "model_module": "@jupyter-widgets/controls",
      "model_module_version": "1.5.0",
      "model_name": "ButtonModel",
      "state": {
       "description": "Reset Protected Area",
       "layout": "IPY_MODEL_9afd91f60dc34ce38653fd97bd1a08fd",
       "style": "IPY_MODEL_6333c8e8fd4842df8c5b982389a53d28"
      }
     },
     "850e841bc16b4d03b2d199985bcb40de": {
      "model_module": "@jupyter-widgets/base",
      "model_module_version": "1.2.0",
      "model_name": "LayoutModel",
      "state": {}
     },
     "8517b4e26b53494a8353bdf9399b5b06": {
      "model_module": "@jupyter-widgets/base",
      "model_module_version": "1.2.0",
      "model_name": "LayoutModel",
      "state": {}
     },
     "851a40766acc475d9dee8c19ec4461ad": {
      "model_module": "@jupyter-widgets/controls",
      "model_module_version": "1.5.0",
      "model_name": "CheckboxModel",
      "state": {
       "description": "Show Out-of-Gamut",
       "disabled": false,
       "layout": "IPY_MODEL_ca49c6a0945d490c81fd9eac8a4dd683",
       "style": "IPY_MODEL_4e015e074234471485badff1e500fc12",
       "value": false
      }
     },
     "8526df7fe34e4ed7bcf1e58cfd46f91b": {
      "model_module": "@jupyter-widgets/base",
      "model_module_version": "1.2.0",
      "model_name": "LayoutModel",
      "state": {}
     },
     "852c08733fdf4b2583e3cac1b788bccf": {
      "model_module": "@jupyter-widgets/base",
      "model_module_version": "1.2.0",
      "model_name": "LayoutModel",
      "state": {}
     },
     "854a482c5f3b4550b5b494ee31f4e561": {
      "model_module": "@jupyter-widgets/controls",
      "model_module_version": "1.5.0",
      "model_name": "ButtonModel",
      "state": {
       "description": "Reset Saturation Controls",
       "layout": "IPY_MODEL_c631e7b62b8041a5b7594f6ece66266c",
       "style": "IPY_MODEL_480bf3daf9044bfc9fb286e7a2c26e26"
      }
     },
     "857e011aa8c64f82bc38277e82a5d6b4": {
      "model_module": "@jupyter-widgets/base",
      "model_module_version": "1.2.0",
      "model_name": "LayoutModel",
      "state": {}
     },
     "85d0a8afff734be4b958f0bc04ee1741": {
      "model_module": "@jupyter-widgets/base",
      "model_module_version": "1.2.0",
      "model_name": "LayoutModel",
      "state": {
       "align_items": "stretch",
       "display": "flex",
       "flex_flow": "column",
       "width": "1128px"
      }
     },
     "85d5ade51aff4cc596fec7b1c17a6cd4": {
      "model_module": "@jupyter-widgets/output",
      "model_module_version": "1.0.0",
      "model_name": "OutputModel",
      "state": {
       "layout": "IPY_MODEL_195cb06ed2a04b549e0e0cf6eec6ced1",
       "outputs": [
        {
         "data": {
          "application/vnd.jupyter.widget-view+json": {
           "model_id": "672952afc47549b39529ddfaab0f868b",
           "version_major": 2,
           "version_minor": 0
          },
          "text/plain": "Canvas(toolbar=Toolbar(toolitems=[('Home', 'Reset original view', 'home', 'home'), ('Back', 'Back to previous …"
         },
         "metadata": {},
         "output_type": "display_data"
        }
       ]
      }
     },
     "86041417e62d47bcb30d0b784e501002": {
      "model_module": "@jupyter-widgets/controls",
      "model_module_version": "1.5.0",
      "model_name": "FloatSliderModel",
      "state": {
       "description": "315°",
       "layout": "IPY_MODEL_a7501f578e9c48b284506e54f8c868a3",
       "max": 1,
       "min": -1,
       "step": 0.01,
       "style": "IPY_MODEL_08ca7eaff7114608a970158c5433d20d"
      }
     },
     "8616fbab3a974fcbb9ddd5b4e0a5b58f": {
      "model_module": "@jupyter-widgets/base",
      "model_module_version": "1.2.0",
      "model_name": "LayoutModel",
      "state": {
       "border": "solid 4px #222",
       "margin": "4px",
       "padding": "0"
      }
     },
     "861d06d315b94b13aa37bc156cc44e58": {
      "model_module": "@jupyter-widgets/controls",
      "model_module_version": "1.5.0",
      "model_name": "CheckboxModel",
      "state": {
       "description": "Show Out-of-Gamut",
       "disabled": false,
       "layout": "IPY_MODEL_2917ce357f8b4176809317764ab13002",
       "style": "IPY_MODEL_b04aa0aa90c04c5ab01353ae106656ad",
       "value": false
      }
     },
     "86200a1ad9f046e5a5455f7602158bd0": {
      "model_module": "@jupyter-widgets/controls",
      "model_module_version": "1.5.0",
      "model_name": "ButtonStyleModel",
      "state": {}
     },
     "862448e1698348318dbe5ac69990dc9a": {
      "model_module": "@jupyter-widgets/base",
      "model_module_version": "1.2.0",
      "model_name": "LayoutModel",
      "state": {}
     },
     "862e1baccb1f4e0fac7f7d772ee50f59": {
      "model_module": "@jupyter-widgets/controls",
      "model_module_version": "1.5.0",
      "model_name": "ButtonModel",
      "state": {
       "description": "Export Image",
       "layout": "IPY_MODEL_4f9a86e551e94c779bed7a5db37379cc",
       "style": "IPY_MODEL_087f26d73e0b48688124a0ec0a34d9ec"
      }
     },
     "864318d36faf49e39dd3ddf4cff5e46c": {
      "model_module": "@jupyter-widgets/base",
      "model_module_version": "1.2.0",
      "model_name": "LayoutModel",
      "state": {}
     },
     "864e8f49c4334f03a9a7c54ad774b486": {
      "model_module": "@jupyter-widgets/controls",
      "model_module_version": "1.5.0",
      "model_name": "SliderStyleModel",
      "state": {
       "description_width": ""
      }
     },
     "865786ffcac3417ebab68311a06528f2": {
      "model_module": "@jupyter-widgets/base",
      "model_module_version": "1.2.0",
      "model_name": "LayoutModel",
      "state": {}
     },
     "867487607f5645c799ef95bb7c80fb0e": {
      "model_module": "@jupyter-widgets/base",
      "model_module_version": "1.2.0",
      "model_name": "LayoutModel",
      "state": {}
     },
     "8683b80f6aff420fb4e43b596fcceb0a": {
      "model_module": "@jupyter-widgets/controls",
      "model_module_version": "1.5.0",
      "model_name": "ButtonModel",
      "state": {
       "description": "Reset Saturation Controls",
       "layout": "IPY_MODEL_a3de3d2602764a958a46e8e192f27e9a",
       "style": "IPY_MODEL_63fae58b21a24f2ca9762b83a2e961e9"
      }
     },
     "86b0faac1a7a4f578d82b56ef6e70637": {
      "model_module": "@jupyter-widgets/controls",
      "model_module_version": "1.5.0",
      "model_name": "FloatSliderModel",
      "state": {
       "description": "Compression Threshold",
       "layout": "IPY_MODEL_28df0cd28c2b48879ea1bcf1a4eea9ec",
       "max": 1,
       "step": 0.01,
       "style": "IPY_MODEL_9c5dcaf4d726429091e6cb2f8cf61dc6",
       "value": 0.8
      }
     },
     "86d967ccff2d43f0bb9f8e4c0005f9ff": {
      "model_module": "@jupyter-widgets/base",
      "model_module_version": "1.2.0",
      "model_name": "LayoutModel",
      "state": {}
     },
     "86da6df3838b4876b2ff7d0e585f9dfe": {
      "model_module": "@jupyter-widgets/controls",
      "model_module_version": "1.5.0",
      "model_name": "ButtonModel",
      "state": {
       "description": "Reset Hue Controls",
       "layout": "IPY_MODEL_a3773286c64f41bd8dc63d0b694a961a",
       "style": "IPY_MODEL_6761a96b5f6345c5b5efe9652fbcd447"
      }
     },
     "86f60c0ec0344f6ba83dadf575768b06": {
      "model_module": "@jupyter-widgets/base",
      "model_module_version": "1.2.0",
      "model_name": "LayoutModel",
      "state": {}
     },
     "8706b60c00e145298303bbef8a4ce16a": {
      "model_module": "@jupyter-widgets/controls",
      "model_module_version": "1.5.0",
      "model_name": "ButtonModel",
      "state": {
       "description": "Reset Hue Controls",
       "layout": "IPY_MODEL_c3b001acf6d842a29127fd1a2608e85e",
       "style": "IPY_MODEL_64ad2ab5e39547218d6befe9f0f64c2a"
      }
     },
     "877971a90cd948ad8ce40b7c2b66ca3e": {
      "model_module": "@jupyter-widgets/base",
      "model_module_version": "1.2.0",
      "model_name": "LayoutModel",
      "state": {}
     },
     "87a667ed05d7420ca6ee7efb9b595acc": {
      "model_module": "@jupyter-widgets/controls",
      "model_module_version": "1.5.0",
      "model_name": "FloatSliderModel",
      "state": {
       "description": "315°",
       "layout": "IPY_MODEL_fd242a2460864a7baa5d71da60d34dd3",
       "max": 1,
       "min": -1,
       "step": 0.01,
       "style": "IPY_MODEL_6277bc7f493846f1a1a78be6bbc2441a"
      }
     },
     "87ff485d51254d7cb3497e13fdd22b00": {
      "model_module": "@jupyter-widgets/base",
      "model_module_version": "1.2.0",
      "model_name": "LayoutModel",
      "state": {}
     },
     "87ff88a880164b978decf08ecd526670": {
      "model_module": "@jupyter-widgets/output",
      "model_module_version": "1.0.0",
      "model_name": "OutputModel",
      "state": {
       "layout": "IPY_MODEL_b457fafc66344f0b9484c6940906ec37",
       "outputs": [
        {
         "data": {
          "application/vnd.jupyter.widget-view+json": {
           "model_id": "0b31b06b5eb344b4a73441a4e4800ce0",
           "version_major": 2,
           "version_minor": 0
          },
          "text/plain": "Canvas(toolbar=Toolbar(toolitems=[('Home', 'Reset original view', 'home', 'home'), ('Back', 'Back to previous …"
         },
         "metadata": {},
         "output_type": "display_data"
        }
       ]
      }
     },
     "880ebd2fb5144dc2802973c6407d87fd": {
      "model_module": "@jupyter-widgets/controls",
      "model_module_version": "1.5.0",
      "model_name": "ButtonModel",
      "state": {
       "description": "Reset Protected Area",
       "layout": "IPY_MODEL_6fdbbcae836146b9936ba1c6129a916e",
       "style": "IPY_MODEL_4ce032f5ccc749dcb59973d4190c1597"
      }
     },
     "88126e84dd444a90883234271a588ea2": {
      "model_module": "@jupyter-widgets/base",
      "model_module_version": "1.2.0",
      "model_name": "LayoutModel",
      "state": {}
     },
     "883b9c0997a341748aafb23ccdded51e": {
      "model_module": "@jupyter-widgets/base",
      "model_module_version": "1.2.0",
      "model_name": "LayoutModel",
      "state": {}
     },
     "885453b930be43f7a29567fda3a00c53": {
      "model_module": "@jupyter-widgets/controls",
      "model_module_version": "1.5.0",
      "model_name": "CheckboxModel",
      "state": {
       "description": "Disable Medicina",
       "disabled": false,
       "layout": "IPY_MODEL_5c0c98b1dd954aa9af07f0449caf41ff",
       "style": "IPY_MODEL_f19c5e87db6c46f88494f455654b2b04",
       "value": false
      }
     },
     "8854dee3d7324f36aeff6b05d81e330f": {
      "model_module": "@jupyter-widgets/base",
      "model_module_version": "1.2.0",
      "model_name": "LayoutModel",
      "state": {}
     },
     "8888a83cd282487481fa6ce8dbf40f84": {
      "model_module": "@jupyter-widgets/controls",
      "model_module_version": "1.5.0",
      "model_name": "ButtonModel",
      "state": {
       "description": "Reset Protected Area",
       "layout": "IPY_MODEL_69daa75a23bb401cb260fd3021c0c151",
       "style": "IPY_MODEL_82a5d9054bc04e35ad5027c990ef87f3"
      }
     },
     "889b59a5720b4960ab69702107dadb20": {
      "model_module": "@jupyter-widgets/controls",
      "model_module_version": "1.5.0",
      "model_name": "ButtonStyleModel",
      "state": {}
     },
     "88a7fd24b92c456babaf7be08176da6e": {
      "model_module": "@jupyter-widgets/controls",
      "model_module_version": "1.5.0",
      "model_name": "ButtonStyleModel",
      "state": {}
     },
     "890a2b3365194c1c8d8d0f3bf760165e": {
      "model_module": "@jupyter-widgets/base",
      "model_module_version": "1.2.0",
      "model_name": "LayoutModel",
      "state": {}
     },
     "8911146c1a3b4909920a4da39e3481f5": {
      "model_module": "@jupyter-widgets/controls",
      "model_module_version": "1.5.0",
      "model_name": "VBoxModel",
      "state": {
       "children": [
        "IPY_MODEL_c2cd869ae1d24c46b0874379d581f868",
        "IPY_MODEL_36a6070c901e4c1ab4f6bfc6da0db2c1"
       ],
       "layout": "IPY_MODEL_2bfbb40a4a964db5af946f2d999048e8"
      }
     },
     "89796e2a3eb14159b26dfcaedae9bfe3": {
      "model_module": "@jupyter-widgets/base",
      "model_module_version": "1.2.0",
      "model_name": "LayoutModel",
      "state": {}
     },
     "89b16475460f40b082329bec045ffd0b": {
      "model_module": "@jupyter-widgets/controls",
      "model_module_version": "1.5.0",
      "model_name": "ButtonModel",
      "state": {
       "description": "Reset Protected Area",
       "layout": "IPY_MODEL_4879841f663141a7985aff489484e924",
       "style": "IPY_MODEL_f1c2ec62657747e397d607b75d66cb1e"
      }
     },
     "89b8e6d1369c4481bf942c3003799e54": {
      "model_module": "@jupyter-widgets/controls",
      "model_module_version": "1.5.0",
      "model_name": "SliderStyleModel",
      "state": {
       "description_width": ""
      }
     },
     "89eee8262620442ab3d85feb0198acf3": {
      "model_module": "@jupyter-widgets/base",
      "model_module_version": "1.2.0",
      "model_name": "LayoutModel",
      "state": {
       "border": "solid 4px #222",
       "margin": "4px",
       "padding": "0"
      }
     },
     "8a41846208dd4ca98fcdf3de12e3532c": {
      "model_module": "@jupyter-widgets/base",
      "model_module_version": "1.2.0",
      "model_name": "LayoutModel",
      "state": {}
     },
     "8a5961daf5e74e67a2080957f29022c8": {
      "model_module": "@jupyter-widgets/controls",
      "model_module_version": "1.5.0",
      "model_name": "ButtonStyleModel",
      "state": {}
     },
     "8a66e165eb7043228db14712d2710943": {
      "model_module": "@jupyter-widgets/controls",
      "model_module_version": "1.5.0",
      "model_name": "FloatSliderModel",
      "state": {
       "description": "0°",
       "layout": "IPY_MODEL_6cf5ce2eb7054a909dae7384c1323216",
       "max": 1,
       "min": -1,
       "step": 0.01,
       "style": "IPY_MODEL_d70517678c4b4a0dafb8f16bd11e960d"
      }
     },
     "8a8981f14dd146538c41a16e63330714": {
      "model_module": "@jupyter-widgets/controls",
      "model_module_version": "1.5.0",
      "model_name": "CheckboxModel",
      "state": {
       "description": "Show Out-of-Gamut",
       "disabled": false,
       "layout": "IPY_MODEL_1daeee67a6f74108bc21f975b3cf3fe8",
       "style": "IPY_MODEL_f24c20eba5834e00843f853a15a28adc",
       "value": false
      }
     },
     "8aa4f59b341a42bb8bebbc040ceb6ec7": {
      "model_module": "@jupyter-widgets/base",
      "model_module_version": "1.2.0",
      "model_name": "LayoutModel",
      "state": {}
     },
     "8aa6ba7cea794d2fbc658c08da33c246": {
      "model_module": "@jupyter-widgets/controls",
      "model_module_version": "1.5.0",
      "model_name": "FloatSliderModel",
      "state": {
       "description": "315°",
       "layout": "IPY_MODEL_5c06e48404304b7987d806113a9af9ab",
       "max": 1,
       "min": -1,
       "step": 0.01,
       "style": "IPY_MODEL_1bec1b081ed24b61871d1100da45ba3c"
      }
     },
     "8aaf26fd9681414ca5ef1c7a54f8c221": {
      "model_module": "@jupyter-widgets/controls",
      "model_module_version": "1.5.0",
      "model_name": "ButtonStyleModel",
      "state": {}
     },
     "8ad3a3991ece445ebe042cb8bda31fe4": {
      "model_module": "@jupyter-widgets/controls",
      "model_module_version": "1.5.0",
      "model_name": "DropdownModel",
      "state": {
       "_options_labels": [
        "sRGB",
        "ACES (sRGB)"
       ],
       "description": "View Transform:",
       "index": 0,
       "layout": "IPY_MODEL_0fe11258aa00417da20370310d94a106",
       "style": "IPY_MODEL_b85b6aae437044be943efb8e471f60a7"
      }
     },
     "8aeda4ca05af402094e46cd629f2c00b": {
      "model_module": "@jupyter-widgets/controls",
      "model_module_version": "1.5.0",
      "model_name": "FloatSliderModel",
      "state": {
       "description": "180°",
       "layout": "IPY_MODEL_1105eb71d57340a0911def2abc8b4d8d",
       "max": 1,
       "min": -1,
       "step": 0.01,
       "style": "IPY_MODEL_04ff8d52620b4f4db961c562ca663d04"
      }
     },
     "8af66600f61f4f4c9ca418fd6460ffd0": {
      "model_module": "@jupyter-widgets/base",
      "model_module_version": "1.2.0",
      "model_name": "LayoutModel",
      "state": {}
     },
     "8af6955b52404520a53ecfed877bee64": {
      "model_module": "@jupyter-widgets/base",
      "model_module_version": "1.2.0",
      "model_name": "LayoutModel",
      "state": {}
     },
     "8b00832167e947ec988ba97195095b1e": {
      "model_module": "@jupyter-widgets/controls",
      "model_module_version": "1.5.0",
      "model_name": "FloatSliderModel",
      "state": {
       "description": "Compression Threshold",
       "layout": "IPY_MODEL_44c96095bd314c4f85d21461424beeb8",
       "max": 1,
       "step": 0.01,
       "style": "IPY_MODEL_0290005e88e54c65872c15ca97aedc60",
       "value": 0.8
      }
     },
     "8b118a6507ca40bdaaa8b8c0ceb4e477": {
      "model_module": "@jupyter-widgets/controls",
      "model_module_version": "1.5.0",
      "model_name": "SliderStyleModel",
      "state": {
       "description_width": ""
      }
     },
     "8b3f865975ba489381f5a7ddd66fae7c": {
      "model_module": "@jupyter-widgets/base",
      "model_module_version": "1.2.0",
      "model_name": "LayoutModel",
      "state": {}
     },
     "8bbb2ae5771042af8b5777fe365497fb": {
      "model_module": "@jupyter-widgets/base",
      "model_module_version": "1.2.0",
      "model_name": "LayoutModel",
      "state": {}
     },
     "8bd5dcac5075433a9a174916a06e4d57": {
      "model_module": "@jupyter-widgets/controls",
      "model_module_version": "1.5.0",
      "model_name": "ButtonModel",
      "state": {
       "description": "Reset Hue Controls",
       "layout": "IPY_MODEL_c0a770d7dc824bcab546dd08912678bf",
       "style": "IPY_MODEL_3db3d34fb5744c938547b2cabb42fd7c"
      }
     },
     "8beddb9004df4253968ac864aaaf93b7": {
      "model_module": "@jupyter-widgets/controls",
      "model_module_version": "1.5.0",
      "model_name": "SliderStyleModel",
      "state": {
       "description_width": ""
      }
     },
     "8c48662e9fba45ddad774cabfe2bb3f7": {
      "model_module": "@jupyter-widgets/controls",
      "model_module_version": "1.5.0",
      "model_name": "HBoxModel",
      "state": {
       "children": [
        "IPY_MODEL_a2fe4d7ba1f34dbfbd1879bae8ab4588",
        "IPY_MODEL_0331879b3a3e4ee6a3214f360c60019b",
        "IPY_MODEL_168cc4778c1c46e1b8da92c86eb20ce7"
       ],
       "layout": "IPY_MODEL_357e18d60fd14046a3a77dd9b98a3196"
      }
     },
     "8c4bdfff868c443dbff40a726deee31e": {
      "model_module": "@jupyter-widgets/controls",
      "model_module_version": "1.5.0",
      "model_name": "DescriptionStyleModel",
      "state": {
       "description_width": ""
      }
     },
     "8c51f95eac65410fb1d10049aa9a77b3": {
      "model_module": "@jupyter-widgets/base",
      "model_module_version": "1.2.0",
      "model_name": "LayoutModel",
      "state": {}
     },
     "8c8529696701444493ed0889f7996eba": {
      "model_module": "@jupyter-widgets/controls",
      "model_module_version": "1.5.0",
      "model_name": "ButtonModel",
      "state": {
       "description": "Export Image",
       "layout": "IPY_MODEL_68601e607fa84b8e89929daef32a0585",
       "style": "IPY_MODEL_2e085c1e82ff473cb1030cab04326145"
      }
     },
     "8c8751ec80c64ef28a0f4f4c8aefbd95": {
      "model_module": "@jupyter-widgets/controls",
      "model_module_version": "1.5.0",
      "model_name": "SliderStyleModel",
      "state": {
       "description_width": ""
      }
     },
     "8c93cc4218f94dc798c2615564221c61": {
      "model_module": "@jupyter-widgets/base",
      "model_module_version": "1.2.0",
      "model_name": "LayoutModel",
      "state": {}
     },
     "8cc899cdd3e84295bb12596ba226d8b5": {
      "model_module": "@jupyter-widgets/controls",
      "model_module_version": "1.5.0",
      "model_name": "SliderStyleModel",
      "state": {
       "description_width": ""
      }
     },
     "8d005ed2d56f4b128309077695f4e474": {
      "model_module": "@jupyter-widgets/controls",
      "model_module_version": "1.5.0",
      "model_name": "FloatSliderModel",
      "state": {
       "description": "315°",
       "layout": "IPY_MODEL_74f96c9ecc174fb4851c3cff5d90e0b8",
       "max": 1,
       "min": -1,
       "step": 0.01,
       "style": "IPY_MODEL_e2ad5c48daa74753b9caafa6370720f3"
      }
     },
     "8d589ef07a0f4865a6b92d60c04abd94": {
      "model_module": "@jupyter-widgets/controls",
      "model_module_version": "1.5.0",
      "model_name": "FloatSliderModel",
      "state": {
       "description": "90°",
       "layout": "IPY_MODEL_6b2f5e3040c5479f881726d497addedb",
       "max": 1,
       "min": -1,
       "step": 0.01,
       "style": "IPY_MODEL_cb2b1de21d614586813d6227bc8575a0"
      }
     },
     "8d81f260e54740b983c504b6688ba151": {
      "model_module": "@jupyter-widgets/base",
      "model_module_version": "1.2.0",
      "model_name": "LayoutModel",
      "state": {}
     },
     "8d981393ec784d41a6cc774bbddb56c8": {
      "model_module": "@jupyter-widgets/controls",
      "model_module_version": "1.5.0",
      "model_name": "ButtonModel",
      "state": {
       "description": "Reset Saturation Controls",
       "layout": "IPY_MODEL_69b5d4857eaf4d31b080603b27a20242",
       "style": "IPY_MODEL_d53ae7d644164c97867159ebdd3238de"
      }
     },
     "8dbebfca53734ad9a8c53deefccc6cf1": {
      "model_module": "@jupyter-widgets/base",
      "model_module_version": "1.2.0",
      "model_name": "LayoutModel",
      "state": {}
     },
     "8de54cd89b5e4d60a0c85d5fceb86bfa": {
      "model_module": "@jupyter-widgets/base",
      "model_module_version": "1.2.0",
      "model_name": "LayoutModel",
      "state": {}
     },
     "8df2e5f508484a718c2237988198ed60": {
      "model_module": "@jupyter-widgets/controls",
      "model_module_version": "1.5.0",
      "model_name": "VBoxModel",
      "state": {
       "children": [
        "IPY_MODEL_2db4a9f2421d4a3b9a083ef5607319a8",
        "IPY_MODEL_cd3fb7d338ea414088a49f6c91c39e96",
        "IPY_MODEL_c5cbdc487d3b4cdc86c6a0e2017863ce"
       ],
       "layout": "IPY_MODEL_34a0a32c849a4259a665d608bb3d3a59"
      }
     },
     "8e34969b5bf1414e99e4a61ea61b42c6": {
      "model_module": "@jupyter-widgets/controls",
      "model_module_version": "1.5.0",
      "model_name": "CheckboxModel",
      "state": {
       "description": "Disable Medicina",
       "disabled": false,
       "layout": "IPY_MODEL_7a1c970c57874174988f03563b1ab5c6",
       "style": "IPY_MODEL_c959141a705d4aeea2902736026bf1bd",
       "value": false
      }
     },
     "8e4664d5e63a479286cadaa4140ae77a": {
      "model_module": "@jupyter-widgets/base",
      "model_module_version": "1.2.0",
      "model_name": "LayoutModel",
      "state": {}
     },
     "8e49916375d14139817055df86ac49ef": {
      "model_module": "@jupyter-widgets/base",
      "model_module_version": "1.2.0",
      "model_name": "LayoutModel",
      "state": {}
     },
     "8e5f9c1f3ee748c2b3644d4bc87fb336": {
      "model_module": "@jupyter-widgets/controls",
      "model_module_version": "1.5.0",
      "model_name": "SliderStyleModel",
      "state": {
       "description_width": ""
      }
     },
     "8e5fe5aa560241f89dd3a5b5b3a3d793": {
      "model_module": "@jupyter-widgets/controls",
      "model_module_version": "1.5.0",
      "model_name": "SliderStyleModel",
      "state": {
       "description_width": ""
      }
     },
     "8e753002d74d4836b1d5e13d19d50736": {
      "model_module": "@jupyter-widgets/controls",
      "model_module_version": "1.5.0",
      "model_name": "ButtonStyleModel",
      "state": {}
     },
     "8e7db82df6d24e07ae426b7c1e89bde3": {
      "model_module": "@jupyter-widgets/controls",
      "model_module_version": "1.5.0",
      "model_name": "ButtonStyleModel",
      "state": {}
     },
     "8e8cc8732e444df2b6a7bfbcfe63269f": {
      "model_module": "@jupyter-widgets/base",
      "model_module_version": "1.2.0",
      "model_name": "LayoutModel",
      "state": {}
     },
     "8ec4680e4caf44a3826cdbdf6a1524fc": {
      "model_module": "@jupyter-widgets/base",
      "model_module_version": "1.2.0",
      "model_name": "LayoutModel",
      "state": {}
     },
     "8ee7386053b845cf82d7228ca68e50d2": {
      "model_module": "@jupyter-widgets/base",
      "model_module_version": "1.2.0",
      "model_name": "LayoutModel",
      "state": {}
     },
     "8f019ad7a3bc43099751c9f175aa89d8": {
      "model_module": "@jupyter-widgets/controls",
      "model_module_version": "1.5.0",
      "model_name": "ButtonStyleModel",
      "state": {}
     },
     "8f11f62ecef44cae81c593ffc33a7102": {
      "model_module": "@jupyter-widgets/controls",
      "model_module_version": "1.5.0",
      "model_name": "VBoxModel",
      "state": {
       "children": [
        "IPY_MODEL_bf11b53c6f434c66bfc2032eccf47e48",
        "IPY_MODEL_8aeda4ca05af402094e46cd629f2c00b",
        "IPY_MODEL_64f1046fb18e4d25a50db194a6b33527"
       ],
       "layout": "IPY_MODEL_498697cecb1645b2ad055760e41a206b"
      }
     },
     "8f36f487ec934c0581bc0c2fff9e8812": {
      "model_module": "@jupyter-widgets/controls",
      "model_module_version": "1.5.0",
      "model_name": "ButtonModel",
      "state": {
       "description": "Reset Compression Controls",
       "layout": "IPY_MODEL_3a8c37b8ed8d40e8952a8e351b6d1f8c",
       "style": "IPY_MODEL_0c030185d68d4ef1b6513567f6a3a4b0"
      }
     },
     "8f38a5ef848b4b57b9d39aaae207d652": {
      "model_module": "@jupyter-widgets/controls",
      "model_module_version": "1.5.0",
      "model_name": "FloatSliderModel",
      "state": {
       "description": "270°",
       "layout": "IPY_MODEL_8d81f260e54740b983c504b6688ba151",
       "max": 1,
       "min": -1,
       "step": 0.01,
       "style": "IPY_MODEL_a11c652936284534aa57117960cbc1a2"
      }
     },
     "8f417351cece45c1a775d49bd01830dc": {
      "model_module": "@jupyter-widgets/base",
      "model_module_version": "1.2.0",
      "model_name": "LayoutModel",
      "state": {}
     },
     "8f423f1d732e43b7a260fdbf84d5a9ba": {
      "model_module": "@jupyter-widgets/base",
      "model_module_version": "1.2.0",
      "model_name": "LayoutModel",
      "state": {}
     },
     "8f7bf6ce12a3429ab47637c463f25020": {
      "model_module": "@jupyter-widgets/controls",
      "model_module_version": "1.5.0",
      "model_name": "FloatSliderModel",
      "state": {
       "description": "180°",
       "layout": "IPY_MODEL_d5b63e559bfa42f88880067391c8adb0",
       "max": 1,
       "min": -1,
       "step": 0.01,
       "style": "IPY_MODEL_9978616fbf73499799d4082479709ef2"
      }
     },
     "8f8783f9e25947078e3f30ee78983178": {
      "model_module": "@jupyter-widgets/controls",
      "model_module_version": "1.5.0",
      "model_name": "ButtonStyleModel",
      "state": {}
     },
     "8f8c3b9934c34025ae10e75df7b1d04c": {
      "model_module": "@jupyter-widgets/base",
      "model_module_version": "1.2.0",
      "model_name": "LayoutModel",
      "state": {}
     },
     "8fc0febbb7bd4a34a8ea1f5971cac67b": {
      "model_module": "@jupyter-widgets/base",
      "model_module_version": "1.2.0",
      "model_name": "LayoutModel",
      "state": {}
     },
     "8fdc5e5d372843d2969fbfa548f6ce4c": {
      "model_module": "@jupyter-widgets/base",
      "model_module_version": "1.2.0",
      "model_name": "LayoutModel",
      "state": {
       "border": "solid 4px #222",
       "margin": "4px",
       "padding": "0"
      }
     },
     "8fe05f19550f4944b25f29e0b368648f": {
      "model_module": "@jupyter-widgets/base",
      "model_module_version": "1.2.0",
      "model_name": "LayoutModel",
      "state": {}
     },
     "8fefd6d2bdde49b7a17adc9c0a32cf36": {
      "model_module": "@jupyter-widgets/controls",
      "model_module_version": "1.5.0",
      "model_name": "CheckboxModel",
      "state": {
       "description": "Disable Medicina",
       "disabled": false,
       "layout": "IPY_MODEL_d6e5d2b23f8c424c890727e3c8e70af2",
       "style": "IPY_MODEL_47f189ef466a4e2da83da88b5f42b25e",
       "value": false
      }
     },
     "900a396e204d49daa0f3137102a5a66e": {
      "model_module": "@jupyter-widgets/base",
      "model_module_version": "1.2.0",
      "model_name": "LayoutModel",
      "state": {}
     },
     "902cc94715094bb68eb6e23e5af097e1": {
      "model_module": "@jupyter-widgets/controls",
      "model_module_version": "1.5.0",
      "model_name": "ButtonStyleModel",
      "state": {}
     },
     "907c502ffded44a4a5d807d6ea62010d": {
      "model_module": "@jupyter-widgets/base",
      "model_module_version": "1.2.0",
      "model_name": "LayoutModel",
      "state": {}
     },
     "90e3f12ac5df424c825e08fba7831e89": {
      "model_module": "@jupyter-widgets/controls",
      "model_module_version": "1.5.0",
      "model_name": "DescriptionStyleModel",
      "state": {
       "description_width": ""
      }
     },
     "90fa375a732c4b07af3bd3c2befa4abf": {
      "model_module": "@jupyter-widgets/controls",
      "model_module_version": "1.5.0",
      "model_name": "ButtonModel",
      "state": {
       "description": "Reset Protected Area",
       "layout": "IPY_MODEL_4e72e1a15d114179af7936a0d4a3ac2f",
       "style": "IPY_MODEL_ed5b6acf72f44759b1b54f2702039a5a"
      }
     },
     "9127af1a4a3d437f8bd0190f8a466c59": {
      "model_module": "@jupyter-widgets/controls",
      "model_module_version": "1.5.0",
      "model_name": "FloatSliderModel",
      "state": {
       "description": "0°",
       "layout": "IPY_MODEL_c8b80dcdf2264f7ea922b403cc8300bc",
       "max": 1,
       "min": -1,
       "step": 0.01,
       "style": "IPY_MODEL_c56cd586b88442eaa190e346e68b6006"
      }
     },
     "9152b99d6ceb43f6ba162d7b11a81916": {
      "model_module": "@jupyter-widgets/controls",
      "model_module_version": "1.5.0",
      "model_name": "CheckboxModel",
      "state": {
       "description": "Show Out-of-Gamut",
       "disabled": false,
       "layout": "IPY_MODEL_2cb7917461c14be18b3d2d0b37b2d6d2",
       "style": "IPY_MODEL_ce808729825b4156b3032e897da35661",
       "value": false
      }
     },
     "916787071b5e451bad8bbedb5d668eba": {
      "model_module": "@jupyter-widgets/controls",
      "model_module_version": "1.5.0",
      "model_name": "ButtonModel",
      "state": {
       "description": "Reset Exposure",
       "layout": "IPY_MODEL_935128040f3c4025bcc5230dc1507180",
       "style": "IPY_MODEL_78b3f2ccc3414ec7a611a9c1a1ac2b66"
      }
     },
     "91bd0a8e7b4447cf9bc57fae2527d856": {
      "model_module": "@jupyter-widgets/output",
      "model_module_version": "1.0.0",
      "model_name": "OutputModel",
      "state": {
       "layout": "IPY_MODEL_746d5b80df0848c4bd5c7d900933341c",
       "outputs": [
        {
         "data": {
          "application/vnd.jupyter.widget-view+json": {
           "model_id": "c9c1f4a9fdc84f4391f0e43ad1fe63a3",
           "version_major": 2,
           "version_minor": 0
          },
          "text/plain": "Canvas(toolbar=Toolbar(toolitems=[('Home', 'Reset original view', 'home', 'home'), ('Back', 'Back to previous …"
         },
         "metadata": {},
         "output_type": "display_data"
        }
       ]
      }
     },
     "91c232ffb57b4e1c926d014316fbe8e5": {
      "model_module": "@jupyter-widgets/controls",
      "model_module_version": "1.5.0",
      "model_name": "ButtonStyleModel",
      "state": {}
     },
     "91e39e9fa69e45c9849d60fd1b31214d": {
      "model_module": "@jupyter-widgets/controls",
      "model_module_version": "1.5.0",
      "model_name": "SliderStyleModel",
      "state": {
       "description_width": ""
      }
     },
     "91e592b734314144afb5e627189611fe": {
      "model_module": "@jupyter-widgets/output",
      "model_module_version": "1.0.0",
      "model_name": "OutputModel",
      "state": {
       "layout": "IPY_MODEL_0c862ca5d97441fd84054c1424785e35",
       "outputs": [
        {
         "data": {
          "application/vnd.jupyter.widget-view+json": {
           "model_id": "1ae8de602dea47e3bcd7f525ee45b4c6",
           "version_major": 2,
           "version_minor": 0
          },
          "text/plain": "Canvas(toolbar=Toolbar(toolitems=[('Home', 'Reset original view', 'home', 'home'), ('Back', 'Back to previous …"
         },
         "metadata": {},
         "output_type": "display_data"
        }
       ]
      }
     },
     "91e60b955024490e87b31effb44c40b5": {
      "model_module": "@jupyter-widgets/controls",
      "model_module_version": "1.5.0",
      "model_name": "DescriptionStyleModel",
      "state": {
       "description_width": ""
      }
     },
     "9202d5a0be3f4546b347d905902d37f4": {
      "model_module": "@jupyter-widgets/output",
      "model_module_version": "1.0.0",
      "model_name": "OutputModel",
      "state": {
       "layout": "IPY_MODEL_83971950abf84ffbaf9988543af545e5",
       "outputs": [
        {
         "data": {
          "application/vnd.jupyter.widget-view+json": {
           "model_id": "a587ab678f7b4bababdb938874a8a112",
           "version_major": 2,
           "version_minor": 0
          },
          "text/plain": "Canvas(toolbar=Toolbar(toolitems=[('Home', 'Reset original view', 'home', 'home'), ('Back', 'Back to previous …"
         },
         "metadata": {},
         "output_type": "display_data"
        }
       ]
      }
     },
     "927263b814584a28993eb478517a7c61": {
      "model_module": "@jupyter-widgets/controls",
      "model_module_version": "1.5.0",
      "model_name": "VBoxModel",
      "state": {
       "children": [
        "IPY_MODEL_82f802f75fa8456cb05acbfb39b984d5",
        "IPY_MODEL_635a04f8d3754299810049da0b59014b",
        "IPY_MODEL_8d589ef07a0f4865a6b92d60c04abd94"
       ],
       "layout": "IPY_MODEL_185b06b98f5649fa88709586b0511d12"
      }
     },
     "927311d422c54e5c90eadd373ac95bf9": {
      "model_module": "@jupyter-widgets/base",
      "model_module_version": "1.2.0",
      "model_name": "LayoutModel",
      "state": {}
     },
     "9273ef291ec543f6a78bb4175e9ab60d": {
      "model_module": "@jupyter-widgets/base",
      "model_module_version": "1.2.0",
      "model_name": "LayoutModel",
      "state": {}
     },
     "929dcbb85fd446a2ac055eccbc4ff4ed": {
      "model_module": "@jupyter-widgets/base",
      "model_module_version": "1.2.0",
      "model_name": "LayoutModel",
      "state": {}
     },
     "92b35f6e9b06449fa09a9444ce6b1936": {
      "model_module": "@jupyter-widgets/base",
      "model_module_version": "1.2.0",
      "model_name": "LayoutModel",
      "state": {}
     },
     "92bffdde943b4d18b5334292df10b73b": {
      "model_module": "@jupyter-widgets/controls",
      "model_module_version": "1.5.0",
      "model_name": "ButtonStyleModel",
      "state": {}
     },
     "931296b5efe4403d8c3cf6739e83a188": {
      "model_module": "@jupyter-widgets/controls",
      "model_module_version": "1.5.0",
      "model_name": "HBoxModel",
      "state": {
       "children": [
        "IPY_MODEL_3b6244d989724436ab44910504914142",
        "IPY_MODEL_f83b2db27e7f4b52b2c39da91da43ac5",
        "IPY_MODEL_b767d316b8e647eda401373ef7d32eb8"
       ],
       "layout": "IPY_MODEL_fb2c61874bb8487db687ed7edffc1bc3"
      }
     },
     "9321ddfa487742248153a7265d658847": {
      "model_module": "@jupyter-widgets/base",
      "model_module_version": "1.2.0",
      "model_name": "LayoutModel",
      "state": {
       "align_items": "stretch",
       "display": "flex",
       "flex_flow": "column",
       "width": "1128px"
      }
     },
     "932404175ca34309b0175ebaac04f649": {
      "model_module": "@jupyter-widgets/base",
      "model_module_version": "1.2.0",
      "model_name": "LayoutModel",
      "state": {}
     },
     "93269cd0ba5a48278e85c6c42adffc4a": {
      "model_module": "@jupyter-widgets/controls",
      "model_module_version": "1.5.0",
      "model_name": "DescriptionStyleModel",
      "state": {
       "description_width": ""
      }
     },
     "933b92d23ee440508e04eb89f25232f3": {
      "model_module": "@jupyter-widgets/base",
      "model_module_version": "1.2.0",
      "model_name": "LayoutModel",
      "state": {}
     },
     "933e7a85bd724ea285ad45aefd448af0": {
      "model_module": "@jupyter-widgets/controls",
      "model_module_version": "1.5.0",
      "model_name": "FloatSliderModel",
      "state": {
       "description": "180°",
       "layout": "IPY_MODEL_c037f24395f743a99f6de3fe324ffed3",
       "max": 1,
       "min": -1,
       "step": 0.01,
       "style": "IPY_MODEL_64c126d89e984f5cb6c51c603f1e2025"
      }
     },
     "935128040f3c4025bcc5230dc1507180": {
      "model_module": "@jupyter-widgets/base",
      "model_module_version": "1.2.0",
      "model_name": "LayoutModel",
      "state": {}
     },
     "937a32a7ac5945b4858323fe448d3a41": {
      "model_module": "@jupyter-widgets/controls",
      "model_module_version": "1.5.0",
      "model_name": "ButtonModel",
      "state": {
       "description": "Save Figure",
       "layout": "IPY_MODEL_15fb56e1881445daa05bd1ed31a46bbe",
       "style": "IPY_MODEL_eb9ee91527a64761aea0b91f7a9397fb"
      }
     },
     "939024eee6694c8ca75bb06374272200": {
      "model_module": "@jupyter-widgets/controls",
      "model_module_version": "1.5.0",
      "model_name": "SliderStyleModel",
      "state": {
       "description_width": ""
      }
     },
     "93e8c5a2eae042f7ae93563685a3e49b": {
      "model_module": "@jupyter-widgets/controls",
      "model_module_version": "1.5.0",
      "model_name": "ButtonStyleModel",
      "state": {}
     },
     "93f5a345c986490ea41b0aa755142d43": {
      "model_module": "@jupyter-widgets/controls",
      "model_module_version": "1.5.0",
      "model_name": "HBoxModel",
      "state": {
       "children": [
        "IPY_MODEL_1fd10f1abb4443f3a569d61ce27efc18",
        "IPY_MODEL_c4a8c7beb6de4d61b8df1f25fe3641f6",
        "IPY_MODEL_efc152a22fd64e92becd48b7dca6c4e5",
        "IPY_MODEL_65c1071028234b5fb28242da315260d3"
       ],
       "layout": "IPY_MODEL_6b4e449482e44f0c800d590e27ba8202"
      }
     },
     "93fb22ff2b054fb2b8c1025f79fd229d": {
      "model_module": "@jupyter-widgets/base",
      "model_module_version": "1.2.0",
      "model_name": "LayoutModel",
      "state": {}
     },
     "9400a10f1b374e0788fbae425ff25c69": {
      "model_module": "@jupyter-widgets/base",
      "model_module_version": "1.2.0",
      "model_name": "LayoutModel",
      "state": {}
     },
     "9417e879baec4c449fa09f6dc1c19aaf": {
      "model_module": "@jupyter-widgets/base",
      "model_module_version": "1.2.0",
      "model_name": "LayoutModel",
      "state": {
       "border": "solid 4px #222",
       "margin": "4px",
       "padding": "0"
      }
     },
     "9463b501ff4d4ab0b3f3091ede04a849": {
      "model_module": "@jupyter-widgets/controls",
      "model_module_version": "1.5.0",
      "model_name": "FloatSliderModel",
      "state": {
       "description": "225°",
       "layout": "IPY_MODEL_0bae5c5ab1204933b5853217516f2458",
       "max": 1,
       "min": -1,
       "step": 0.01,
       "style": "IPY_MODEL_39706bfbc2564d9fb40ee80cf0b0ed0c"
      }
     },
     "94f31d6272ff45b4b586aca68f2d36e2": {
      "model_module": "@jupyter-widgets/base",
      "model_module_version": "1.2.0",
      "model_name": "LayoutModel",
      "state": {}
     },
     "954e7b421f2e4fb3ab4a7c728988c7e6": {
      "model_module": "@jupyter-widgets/controls",
      "model_module_version": "1.5.0",
      "model_name": "BoxModel",
      "state": {
       "children": [
        "IPY_MODEL_4bd1bee77f8e4cc9a7f1b5a247b047b5",
        "IPY_MODEL_be8e11756a594d34a54cd37bb3dd02a0"
       ],
       "layout": "IPY_MODEL_cf4913e1b3c544869d72af5a1d76ff15"
      }
     },
     "955f1048f94548ba871e5e307e58b912": {
      "model_module": "@jupyter-widgets/base",
      "model_module_version": "1.2.0",
      "model_name": "LayoutModel",
      "state": {}
     },
     "95761ca67c614ae28da8d5a0b4f03aa9": {
      "model_module": "@jupyter-widgets/base",
      "model_module_version": "1.2.0",
      "model_name": "LayoutModel",
      "state": {}
     },
     "9589505602d343bea215170cc66f481d": {
      "model_module": "@jupyter-widgets/controls",
      "model_module_version": "1.5.0",
      "model_name": "DescriptionStyleModel",
      "state": {
       "description_width": ""
      }
     },
     "959986c5592a4ca1ac328b1b2ba5db2d": {
      "model_module": "@jupyter-widgets/base",
      "model_module_version": "1.2.0",
      "model_name": "LayoutModel",
      "state": {}
     },
     "959b9a43abf542a3900fb9ac55c35367": {
      "model_module": "@jupyter-widgets/base",
      "model_module_version": "1.2.0",
      "model_name": "LayoutModel",
      "state": {}
     },
     "9609237b37264f30a2fef4d02ed33e99": {
      "model_module": "@jupyter-widgets/base",
      "model_module_version": "1.2.0",
      "model_name": "LayoutModel",
      "state": {}
     },
     "960bf2d27b4c472ea1842686a98aaed1": {
      "model_module": "@jupyter-widgets/controls",
      "model_module_version": "1.5.0",
      "model_name": "FloatSliderModel",
      "state": {
       "description": "315°",
       "layout": "IPY_MODEL_b5740cd7ed1743d097fb0437aa19db2e",
       "max": 1,
       "min": -1,
       "step": 0.01,
       "style": "IPY_MODEL_4dcca6d455574dd1b012b9d32c5524b0"
      }
     },
     "9616f853828345258eaef57dfb9bd94f": {
      "model_module": "@jupyter-widgets/base",
      "model_module_version": "1.2.0",
      "model_name": "LayoutModel",
      "state": {}
     },
     "9618a73fdc624420a8de13b6a5481c92": {
      "model_module": "@jupyter-widgets/base",
      "model_module_version": "1.2.0",
      "model_name": "LayoutModel",
      "state": {}
     },
     "963fa21ed43a49e3b7a39fb11ff2129c": {
      "model_module": "@jupyter-widgets/controls",
      "model_module_version": "1.5.0",
      "model_name": "DropdownModel",
      "state": {
       "_options_labels": [
        "sRGB",
        "ACES (sRGB)"
       ],
       "description": "View Transform:",
       "index": 0,
       "layout": "IPY_MODEL_b0fba69e1c0c4fe183ef16cc5d497124",
       "style": "IPY_MODEL_d930cfcca11047a79a043f1c0cb786a4"
      }
     },
     "965ce854f52b439eb84b25e0743b0391": {
      "model_module": "@jupyter-widgets/controls",
      "model_module_version": "1.5.0",
      "model_name": "FloatSliderModel",
      "state": {
       "description": "135°",
       "layout": "IPY_MODEL_9eed8ab3e69b43f6a944cbb01444ebe7",
       "max": 1,
       "min": -1,
       "step": 0.01,
       "style": "IPY_MODEL_23bd96bc127d4f12b08efb0e9c58312c"
      }
     },
     "967104f21a5c4c539e18a5bdc663e457": {
      "model_module": "@jupyter-widgets/base",
      "model_module_version": "1.2.0",
      "model_name": "LayoutModel",
      "state": {}
     },
     "9672434c32764b3fa8f5457970c2e57c": {
      "model_module": "@jupyter-widgets/base",
      "model_module_version": "1.2.0",
      "model_name": "LayoutModel",
      "state": {}
     },
     "968b8eefa75a4e6882c501670e791d1c": {
      "model_module": "@jupyter-widgets/base",
      "model_module_version": "1.2.0",
      "model_name": "LayoutModel",
      "state": {}
     },
     "96cf7ee6eaaf4f38bd9bb3f22def8b85": {
      "model_module": "@jupyter-widgets/base",
      "model_module_version": "1.2.0",
      "model_name": "LayoutModel",
      "state": {}
     },
     "96db54f8c0424021a195fac8594c4cc2": {
      "model_module": "@jupyter-widgets/base",
      "model_module_version": "1.2.0",
      "model_name": "LayoutModel",
      "state": {}
     },
     "96ed9e34bfe14644bd75a1f0eeb85644": {
      "model_module": "@jupyter-widgets/base",
      "model_module_version": "1.2.0",
      "model_name": "LayoutModel",
      "state": {}
     },
     "971ed032059c46ae94dce550fb1d3fad": {
      "model_module": "@jupyter-widgets/controls",
      "model_module_version": "1.5.0",
      "model_name": "FloatSliderModel",
      "state": {
       "description": "Exposure",
       "layout": "IPY_MODEL_b3cd1bcde65b445086c60a3aa7b86a1e",
       "max": 8,
       "min": -8,
       "step": 0.1,
       "style": "IPY_MODEL_00852e0b7945477498251e3d657e1451"
      }
     },
     "9725b622f3a34cc8b894e89c06ef1fe3": {
      "model_module": "@jupyter-widgets/base",
      "model_module_version": "1.2.0",
      "model_name": "LayoutModel",
      "state": {}
     },
     "972f7bdafadd43e6907ff7ec20469bdd": {
      "model_module": "@jupyter-widgets/base",
      "model_module_version": "1.2.0",
      "model_name": "LayoutModel",
      "state": {}
     },
     "97322ae31b1849158a7075b644706913": {
      "model_module": "@jupyter-widgets/base",
      "model_module_version": "1.2.0",
      "model_name": "LayoutModel",
      "state": {}
     },
     "978727ff5175491c93707e474f4873a3": {
      "model_module": "@jupyter-widgets/controls",
      "model_module_version": "1.5.0",
      "model_name": "DescriptionStyleModel",
      "state": {
       "description_width": ""
      }
     },
     "97b776b518ed4ba78fb8d9756d7ac9f7": {
      "model_module": "@jupyter-widgets/base",
      "model_module_version": "1.2.0",
      "model_name": "LayoutModel",
      "state": {}
     },
     "97d2f162a1cb49669e620c1f808e783b": {
      "model_module": "@jupyter-widgets/controls",
      "model_module_version": "1.5.0",
      "model_name": "HBoxModel",
      "state": {
       "children": [
        "IPY_MODEL_8412b9d3102b4b28b11d805f5c987183",
        "IPY_MODEL_0b906547da3f484fb86f2d6fb2f2e60c",
        "IPY_MODEL_00c441d47b114191b13468edfcfbdcaf"
       ],
       "layout": "IPY_MODEL_52dc412f97704d7d8a6bdde26bd54cba"
      }
     },
     "97db5a4953094e39869540ed88b519e0": {
      "model_module": "@jupyter-widgets/base",
      "model_module_version": "1.2.0",
      "model_name": "LayoutModel",
      "state": {}
     },
     "97ecbd321524452eb5e1b558ad31055f": {
      "model_module": "@jupyter-widgets/controls",
      "model_module_version": "1.5.0",
      "model_name": "DropdownModel",
      "state": {
       "_options_labels": [
        "tanh",
        "atan",
        "simple"
       ],
       "description": "Compression Function:",
       "index": 0,
       "layout": "IPY_MODEL_216bb687526c4f039b5621e287ce7a3b",
       "style": "IPY_MODEL_5888a6f51d69415699e9df32def24540"
      }
     },
     "980a74de42364581bbe9ad2fecadcd31": {
      "model_module": "@jupyter-widgets/controls",
      "model_module_version": "1.5.0",
      "model_name": "HBoxModel",
      "state": {
       "children": [
        "IPY_MODEL_1d5a3a0a3e3e4e539ec02bc1d890716a",
        "IPY_MODEL_0487e1cca71b4d5398e23844c2489037",
        "IPY_MODEL_f25c724716b94b259f33adf23251c540",
        "IPY_MODEL_6a7bf7f037d34edf828965cbbb04d710"
       ],
       "layout": "IPY_MODEL_af00ff1e0c9c403f82d2bd1e51f47574"
      }
     },
     "981025dec6d2489a9cf7ea4df4d3ef3c": {
      "model_module": "@jupyter-widgets/controls",
      "model_module_version": "1.5.0",
      "model_name": "FloatSliderModel",
      "state": {
       "description": "315°",
       "layout": "IPY_MODEL_1d9ee41921284c839cdbb696076262a6",
       "max": 1,
       "min": -1,
       "step": 0.01,
       "style": "IPY_MODEL_6e8390947acc4631b506dad789a24a95"
      }
     },
     "982ee051149b4d89b1633ec34df8a528": {
      "model_module": "@jupyter-widgets/controls",
      "model_module_version": "1.5.0",
      "model_name": "DescriptionStyleModel",
      "state": {
       "description_width": ""
      }
     },
     "984e1aaa1d804013a8b2f9a1ea68c521": {
      "model_module": "@jupyter-widgets/controls",
      "model_module_version": "1.5.0",
      "model_name": "FloatSliderModel",
      "state": {
       "description": "180°",
       "layout": "IPY_MODEL_25401ae0181d44f9bf39f0ac51cd6c87",
       "max": 1,
       "min": -1,
       "step": 0.01,
       "style": "IPY_MODEL_6d9a652ee68949888f61720aa147c2ff"
      }
     },
     "985c121e403d4bd7ac0f94d34b7cad85": {
      "model_module": "@jupyter-widgets/controls",
      "model_module_version": "1.5.0",
      "model_name": "FloatSliderModel",
      "state": {
       "description": "225°",
       "layout": "IPY_MODEL_ea60b871b5d243fb88bb856afe2aad2b",
       "max": 1,
       "min": -1,
       "step": 0.01,
       "style": "IPY_MODEL_505427ff15f44634811791a019dc4d0d"
      }
     },
     "9867fbb86cdc47d396ce4a64276c6951": {
      "model_module": "@jupyter-widgets/base",
      "model_module_version": "1.2.0",
      "model_name": "LayoutModel",
      "state": {}
     },
     "98835b8fdeeb4c6fae8000ba679f11f9": {
      "model_module": "@jupyter-widgets/base",
      "model_module_version": "1.2.0",
      "model_name": "LayoutModel",
      "state": {}
     },
     "98af5c9b1ec94475847f2caef5bae794": {
      "model_module": "@jupyter-widgets/base",
      "model_module_version": "1.2.0",
      "model_name": "LayoutModel",
      "state": {}
     },
     "98b2d8454f1244c983e947560de57fa3": {
      "model_module": "@jupyter-widgets/controls",
      "model_module_version": "1.5.0",
      "model_name": "DropdownModel",
      "state": {
       "_options_labels": [
        "tanh",
        "atan",
        "simple"
       ],
       "description": "Compression Function:",
       "index": 0,
       "layout": "IPY_MODEL_bafbf6211d844eb4ae67a20bb527c26b",
       "style": "IPY_MODEL_7b7deba2d2fa4989ae3a28d601577cd7"
      }
     },
     "98f42d1f636943408f31a7ec2532d4af": {
      "model_module": "@jupyter-widgets/controls",
      "model_module_version": "1.5.0",
      "model_name": "FloatSliderModel",
      "state": {
       "description": "Compression Threshold",
       "layout": "IPY_MODEL_6b928c94b2934e3b85aa4ae9833bcf24",
       "max": 1,
       "step": 0.01,
       "style": "IPY_MODEL_75d82a4210e74f82ba12e12a8510544f",
       "value": 0.8
      }
     },
     "9926b93a2bed46b5a4a397a191acb264": {
      "model_module": "@jupyter-widgets/controls",
      "model_module_version": "1.5.0",
      "model_name": "DropdownModel",
      "state": {
       "_options_labels": [
        "tanh",
        "atan",
        "simple"
       ],
       "description": "Compression Function:",
       "index": 0,
       "layout": "IPY_MODEL_353ae1fd2a31455ebfb902c5d32a1877",
       "style": "IPY_MODEL_52dd389e614f46ffbdd60823e8805f11"
      }
     },
     "99714a6ae29e4a369d5cf914f7d1386b": {
      "model_module": "@jupyter-widgets/base",
      "model_module_version": "1.2.0",
      "model_name": "LayoutModel",
      "state": {}
     },
     "9978616fbf73499799d4082479709ef2": {
      "model_module": "@jupyter-widgets/controls",
      "model_module_version": "1.5.0",
      "model_name": "SliderStyleModel",
      "state": {
       "description_width": ""
      }
     },
     "998c024978b44ccb82c15390f550fa17": {
      "model_module": "@jupyter-widgets/controls",
      "model_module_version": "1.5.0",
      "model_name": "CheckboxModel",
      "state": {
       "description": "Disable Medicina",
       "disabled": false,
       "layout": "IPY_MODEL_7f186813b33441769d190ede675fbc0b",
       "style": "IPY_MODEL_057aa684a1ef4fa4ab45cc081072a850",
       "value": false
      }
     },
     "99bf67605dab431ab6ca6d7ec09fa0bb": {
      "model_module": "@jupyter-widgets/controls",
      "model_module_version": "1.5.0",
      "model_name": "DescriptionStyleModel",
      "state": {
       "description_width": ""
      }
     },
     "99cb1b1fb1744690b4477542237b4d93": {
      "model_module": "@jupyter-widgets/base",
      "model_module_version": "1.2.0",
      "model_name": "LayoutModel",
      "state": {}
     },
     "9a061769505f46fcafb8f4e82ac52cf3": {
      "model_module": "@jupyter-widgets/base",
      "model_module_version": "1.2.0",
      "model_name": "LayoutModel",
      "state": {
       "border": "solid 4px #222",
       "margin": "4px",
       "padding": "0"
      }
     },
     "9a5237c7603e4ccda3d422d5a751198b": {
      "model_module": "@jupyter-widgets/controls",
      "model_module_version": "1.5.0",
      "model_name": "ButtonStyleModel",
      "state": {}
     },
     "9a605a999ffc42b98b67c3c3dfaa61d6": {
      "model_module": "@jupyter-widgets/controls",
      "model_module_version": "1.5.0",
      "model_name": "HBoxModel",
      "state": {
       "children": [
        "IPY_MODEL_d8237617d55c4c36886fcf3c7434c9e0",
        "IPY_MODEL_0bb79a97d0044f1fa331adf8331c545a",
        "IPY_MODEL_a28495bdf7c34289a3721e00a10a1183"
       ],
       "layout": "IPY_MODEL_dc32e23cba29475eacf2ff460f01871c"
      }
     },
     "9a971efba7ba4a95bce93bd335af5620": {
      "model_module": "@jupyter-widgets/base",
      "model_module_version": "1.2.0",
      "model_name": "LayoutModel",
      "state": {}
     },
     "9abaa1c10a164082bf441376d96f586e": {
      "model_module": "@jupyter-widgets/base",
      "model_module_version": "1.2.0",
      "model_name": "LayoutModel",
      "state": {}
     },
     "9ac4239a84a1431a91b7551397fb8f07": {
      "model_module": "@jupyter-widgets/base",
      "model_module_version": "1.2.0",
      "model_name": "LayoutModel",
      "state": {}
     },
     "9ad5958bc1e44b7b8e78c46d5f36e338": {
      "model_module": "@jupyter-widgets/controls",
      "model_module_version": "1.5.0",
      "model_name": "ButtonModel",
      "state": {
       "description": "Reset Compression Controls",
       "layout": "IPY_MODEL_a1b490ba36584a64b66d9cf0f615eb94",
       "style": "IPY_MODEL_4267b34e07f94c41a8f935a117c63836"
      }
     },
     "9af294bc59894da9a1a118d6d274af1b": {
      "model_module": "@jupyter-widgets/controls",
      "model_module_version": "1.5.0",
      "model_name": "HBoxModel",
      "state": {
       "children": [
        "IPY_MODEL_f627a41cb3164bc3b8702dceb1a84681",
        "IPY_MODEL_11be2e49adae4c1bb2a2fab2ee1bde83",
        "IPY_MODEL_8f11f62ecef44cae81c593ffc33a7102",
        "IPY_MODEL_a788043e47154e16b9b88499f8fc4155"
       ],
       "layout": "IPY_MODEL_8de54cd89b5e4d60a0c85d5fceb86bfa"
      }
     },
     "9af79ab10c2943678f4726086c3a61c3": {
      "model_module": "@jupyter-widgets/controls",
      "model_module_version": "1.5.0",
      "model_name": "SliderStyleModel",
      "state": {
       "description_width": ""
      }
     },
     "9afa39666c284b80aba2d1b66e546c55": {
      "model_module": "@jupyter-widgets/controls",
      "model_module_version": "1.5.0",
      "model_name": "SliderStyleModel",
      "state": {
       "description_width": ""
      }
     },
     "9afd91f60dc34ce38653fd97bd1a08fd": {
      "model_module": "@jupyter-widgets/base",
      "model_module_version": "1.2.0",
      "model_name": "LayoutModel",
      "state": {}
     },
     "9b4f2cfced4e4e92895da5deb74487d5": {
      "model_module": "@jupyter-widgets/base",
      "model_module_version": "1.2.0",
      "model_name": "LayoutModel",
      "state": {
       "border": "solid 4px #222",
       "margin": "4px",
       "padding": "0"
      }
     },
     "9b61b77fcdd847c4870d39ef1402ed1e": {
      "model_module": "@jupyter-widgets/output",
      "model_module_version": "1.0.0",
      "model_name": "OutputModel",
      "state": {
       "layout": "IPY_MODEL_20f465d126d342029d7c358eccae3bbd",
       "outputs": [
        {
         "data": {
          "application/vnd.jupyter.widget-view+json": {
           "model_id": "b9a60585b2dd483089f49c71bebba262",
           "version_major": 2,
           "version_minor": 0
          },
          "text/plain": "Canvas(toolbar=Toolbar(toolitems=[('Home', 'Reset original view', 'home', 'home'), ('Back', 'Back to previous …"
         },
         "metadata": {},
         "output_type": "display_data"
        }
       ]
      }
     },
     "9b7afaa614b0454f9ede0ca198418ea9": {
      "model_module": "@jupyter-widgets/base",
      "model_module_version": "1.2.0",
      "model_name": "LayoutModel",
      "state": {
       "border": "solid 4px #222",
       "margin": "4px",
       "padding": "0"
      }
     },
     "9bcf811cf4ca4770adc91402d5546294": {
      "model_module": "@jupyter-widgets/base",
      "model_module_version": "1.2.0",
      "model_name": "LayoutModel",
      "state": {}
     },
     "9be27f30042a4b76b73734c46e2e3854": {
      "model_module": "jupyter-matplotlib",
      "model_module_version": "^0.7.2",
      "model_name": "MPLCanvasModel",
      "state": {
       "_figure_label": "Figure 4",
       "_height": 618,
       "_width": 1099,
       "header_visible": false,
       "layout": "IPY_MODEL_5312688f2cbc4201bf6f0bdca6cb0979",
       "resizable": false,
       "toolbar": "IPY_MODEL_19eab5cdab0242a2a9a4ee62fb3e4967",
       "toolbar_position": "left",
       "toolbar_visible": false
      }
     },
     "9c569df6c4be48afb88831302c983d8e": {
      "model_module": "@jupyter-widgets/base",
      "model_module_version": "1.2.0",
      "model_name": "LayoutModel",
      "state": {
       "border": "solid 4px #222",
       "margin": "4px",
       "padding": "0"
      }
     },
     "9c5cf254bd22476cae2a8413a2b7c326": {
      "model_module": "@jupyter-widgets/controls",
      "model_module_version": "1.5.0",
      "model_name": "DropdownModel",
      "state": {
       "_options_labels": [
        "sRGB",
        "ACES (sRGB)"
       ],
       "description": "View Transform:",
       "index": 0,
       "layout": "IPY_MODEL_7309900cfa4f44cdb62a2d4a9352d844",
       "style": "IPY_MODEL_55cd84f32931496885998efa3778bfc4"
      }
     },
     "9c5dcaf4d726429091e6cb2f8cf61dc6": {
      "model_module": "@jupyter-widgets/controls",
      "model_module_version": "1.5.0",
      "model_name": "SliderStyleModel",
      "state": {
       "description_width": ""
      }
     },
     "9c74554a43044da4a936b43d301019d0": {
      "model_module": "@jupyter-widgets/controls",
      "model_module_version": "1.5.0",
      "model_name": "VBoxModel",
      "state": {
       "children": [
        "IPY_MODEL_db0b1e7ebefa42d49d8e2345d4389397",
        "IPY_MODEL_807b77100ce043f490ee04a789c4ed6e",
        "IPY_MODEL_da99e6cd7c084af0883628331b4320ac"
       ],
       "layout": "IPY_MODEL_1e6d578ca35a4898b18e3fa88c466a42"
      }
     },
     "9c7773d5c1ed4f6bb95e3eae8c7adbe8": {
      "model_module": "@jupyter-widgets/base",
      "model_module_version": "1.2.0",
      "model_name": "LayoutModel",
      "state": {}
     },
     "9c950a1b5240457ebe0acac8968278d9": {
      "model_module": "@jupyter-widgets/controls",
      "model_module_version": "1.5.0",
      "model_name": "SliderStyleModel",
      "state": {
       "description_width": ""
      }
     },
     "9d03e57cff80404184ce87931202e5bd": {
      "model_module": "@jupyter-widgets/base",
      "model_module_version": "1.2.0",
      "model_name": "LayoutModel",
      "state": {}
     },
     "9d168c62067e4c309c19142495cccfc6": {
      "model_module": "@jupyter-widgets/controls",
      "model_module_version": "1.5.0",
      "model_name": "DropdownModel",
      "state": {
       "_options_labels": [
        "tanh",
        "atan",
        "simple"
       ],
       "description": "Compression Function:",
       "index": 0,
       "layout": "IPY_MODEL_c258ddc09937442585f1bb25887e5602",
       "style": "IPY_MODEL_93269cd0ba5a48278e85c6c42adffc4a"
      }
     },
     "9d2a364d8ac94930ab8790a8be2e234a": {
      "model_module": "jupyter-matplotlib",
      "model_module_version": "^0.7.2",
      "model_name": "MPLCanvasModel",
      "state": {
       "_figure_label": "Figure 19",
       "_height": 430,
       "_width": 1099,
       "header_visible": false,
       "layout": "IPY_MODEL_5e1e557e1e81454590b917a1a6f1ab4c",
       "resizable": false,
       "toolbar": "IPY_MODEL_fa427a41ffb6403294ecceeca722b369",
       "toolbar_position": "left",
       "toolbar_visible": false
      }
     },
     "9d7e8549f6024869b32fa9f2bce3fb73": {
      "model_module": "@jupyter-widgets/base",
      "model_module_version": "1.2.0",
      "model_name": "LayoutModel",
      "state": {}
     },
     "9d81f06d598c4971bf071174148f72dc": {
      "model_module": "@jupyter-widgets/base",
      "model_module_version": "1.2.0",
      "model_name": "LayoutModel",
      "state": {}
     },
     "9db58c24864749149cc9b594daeed59d": {
      "model_module": "@jupyter-widgets/controls",
      "model_module_version": "1.5.0",
      "model_name": "FloatSliderModel",
      "state": {
       "description": "225°",
       "layout": "IPY_MODEL_929dcbb85fd446a2ac055eccbc4ff4ed",
       "max": 1,
       "min": -1,
       "step": 0.01,
       "style": "IPY_MODEL_e1a243b4e08d419f8665cfc7479370cb"
      }
     },
     "9dc1d28fa326456abe1c667bd84161e7": {
      "model_module": "@jupyter-widgets/controls",
      "model_module_version": "1.5.0",
      "model_name": "CheckboxModel",
      "state": {
       "description": "Disable Medicina",
       "disabled": false,
       "layout": "IPY_MODEL_f372772985f44eedac60fa9df41b473e",
       "style": "IPY_MODEL_67e499cf62a54b6c88f425936951b07a",
       "value": false
      }
     },
     "9dc22e98e537477098a38b4fa292a296": {
      "model_module": "@jupyter-widgets/controls",
      "model_module_version": "1.5.0",
      "model_name": "HBoxModel",
      "state": {
       "children": [
        "IPY_MODEL_75dc2319273c459d8a22c00e7a5da66d",
        "IPY_MODEL_2996664f539e428aa7d510551f583421"
       ],
       "layout": "IPY_MODEL_a0fac48d296145edaeec39e1622dcb18"
      }
     },
     "9dc6763427b94003b8e568757bd046b1": {
      "model_module": "@jupyter-widgets/base",
      "model_module_version": "1.2.0",
      "model_name": "LayoutModel",
      "state": {}
     },
     "9dd6b9761a8b45a08b206ceebbabef11": {
      "model_module": "@jupyter-widgets/controls",
      "model_module_version": "1.5.0",
      "model_name": "ButtonStyleModel",
      "state": {}
     },
     "9dd7d62e42eb464985c42e8e395cfa6e": {
      "model_module": "@jupyter-widgets/base",
      "model_module_version": "1.2.0",
      "model_name": "LayoutModel",
      "state": {}
     },
     "9e2ef38c30c740cfb4bff098d64f2edd": {
      "model_module": "@jupyter-widgets/controls",
      "model_module_version": "1.5.0",
      "model_name": "FloatSliderModel",
      "state": {
       "description": "315°",
       "layout": "IPY_MODEL_93fb22ff2b054fb2b8c1025f79fd229d",
       "max": 1,
       "min": -1,
       "step": 0.01,
       "style": "IPY_MODEL_ed14b61022d949eb93b4d7c1d7342b9c"
      }
     },
     "9e3f53c1e1194d43a7d4f0413d9e1a10": {
      "model_module": "@jupyter-widgets/controls",
      "model_module_version": "1.5.0",
      "model_name": "HBoxModel",
      "state": {
       "children": [
        "IPY_MODEL_d739eb3b0db0421bbced4d70f0834104",
        "IPY_MODEL_b4f607240ad445c7ae1bc7bfbe4fd235",
        "IPY_MODEL_a937da6152cc4f439530841beb7321c2"
       ],
       "layout": "IPY_MODEL_d33a83cc269d4108b67a570ecd43e724"
      }
     },
     "9e4ea25e4dcb41ff84d3abb693ba4d31": {
      "model_module": "@jupyter-widgets/controls",
      "model_module_version": "1.5.0",
      "model_name": "FloatSliderModel",
      "state": {
       "description": "90°",
       "layout": "IPY_MODEL_7bf48689d1eb478bb05575dea6d6ca9c",
       "max": 1,
       "min": -1,
       "step": 0.01,
       "style": "IPY_MODEL_297b55d7cc2f409d97982e0e07a58a16"
      }
     },
     "9e8bc76da6834d33813ffe46a8cb321b": {
      "model_module": "@jupyter-widgets/controls",
      "model_module_version": "1.5.0",
      "model_name": "ButtonModel",
      "state": {
       "description": "Reset Protected Area",
       "layout": "IPY_MODEL_d6b69da1ed85473b884621bc163dcc75",
       "style": "IPY_MODEL_ab17bf6d622d479198a3e1463b56e564"
      }
     },
     "9e9e0384149a45cba3b806dd1190a9e8": {
      "model_module": "@jupyter-widgets/controls",
      "model_module_version": "1.5.0",
      "model_name": "HBoxModel",
      "state": {
       "children": [
        "IPY_MODEL_eb193298fef74654a49ada94bf72a757",
        "IPY_MODEL_cdf1c2aec729482c8625e51d51c34f2f",
        "IPY_MODEL_1285f6bb51564b1899ae49b62a313bdd",
        "IPY_MODEL_06f61527568c4b8bbe0581e4bbcfaeca"
       ],
       "layout": "IPY_MODEL_df07e6388e5048a9a60c7887616720ad"
      }
     },
     "9ec7cd07e7184670b93d7c70df0f6b0e": {
      "model_module": "@jupyter-widgets/base",
      "model_module_version": "1.2.0",
      "model_name": "LayoutModel",
      "state": {}
     },
     "9eed8ab3e69b43f6a944cbb01444ebe7": {
      "model_module": "@jupyter-widgets/base",
      "model_module_version": "1.2.0",
      "model_name": "LayoutModel",
      "state": {}
     },
     "9efbdeb155e447eb8f306b1037c36973": {
      "model_module": "@jupyter-widgets/controls",
      "model_module_version": "1.5.0",
      "model_name": "DescriptionStyleModel",
      "state": {
       "description_width": ""
      }
     },
     "9f56ceaf1f654dda95fd8fe03b5454a9": {
      "model_module": "@jupyter-widgets/controls",
      "model_module_version": "1.5.0",
      "model_name": "HBoxModel",
      "state": {
       "children": [
        "IPY_MODEL_3c976466d51641d9a9e1ac021c98302f",
        "IPY_MODEL_cb73a9106ec94e698b391c7d0c74e735",
        "IPY_MODEL_aa3a2c4e30c14693bf3770386bfc9489",
        "IPY_MODEL_a63c3ec58bb8406b983ef42c76d409dc"
       ],
       "layout": "IPY_MODEL_c1c128b4610e428ab1071c6196a4108f"
      }
     },
     "9f7f962e4f2a4a4ab6384f8989fcda83": {
      "model_module": "@jupyter-widgets/controls",
      "model_module_version": "1.5.0",
      "model_name": "SliderStyleModel",
      "state": {
       "description_width": ""
      }
     },
     "9f8ac2c4ffbc497d9c3fb36f119fe267": {
      "model_module": "@jupyter-widgets/controls",
      "model_module_version": "1.5.0",
      "model_name": "ButtonModel",
      "state": {
       "description": "Reset Exposure",
       "layout": "IPY_MODEL_3860a21676f54255baed50e7e16eda7b",
       "style": "IPY_MODEL_da3fb2f34f754a6c88efb32b4937d6ff"
      }
     },
     "9f8e3314cd3d4ff78dad18cfd6aa4412": {
      "model_module": "@jupyter-widgets/base",
      "model_module_version": "1.2.0",
      "model_name": "LayoutModel",
      "state": {
       "border": "solid 4px #222",
       "margin": "4px",
       "padding": "0"
      }
     },
     "9fad44740ff5481da9201794162093dd": {
      "model_module": "@jupyter-widgets/base",
      "model_module_version": "1.2.0",
      "model_name": "LayoutModel",
      "state": {}
     },
     "9fd08d26414841e2bac9ca6e1a6b4445": {
      "model_module": "@jupyter-widgets/controls",
      "model_module_version": "1.5.0",
      "model_name": "ButtonStyleModel",
      "state": {}
     },
     "9fe14e85e51d4eccaeca5c848f1e878f": {
      "model_module": "@jupyter-widgets/base",
      "model_module_version": "1.2.0",
      "model_name": "LayoutModel",
      "state": {}
     },
     "9ff61e27a82d494caad0d9edec19a0a8": {
      "model_module": "@jupyter-widgets/controls",
      "model_module_version": "1.5.0",
      "model_name": "FloatSliderModel",
      "state": {
       "description": "225°",
       "layout": "IPY_MODEL_a90879ae76594bed8e9a59253febce9d",
       "max": 1,
       "min": -1,
       "step": 0.01,
       "style": "IPY_MODEL_830e77ff75c944369972029523ce459b"
      }
     },
     "a00311f7fe014016a91bf94d511336ca": {
      "model_module": "@jupyter-widgets/controls",
      "model_module_version": "1.5.0",
      "model_name": "ButtonStyleModel",
      "state": {}
     },
     "a01e3b25cfdb4209957bdcca03ef98aa": {
      "model_module": "@jupyter-widgets/controls",
      "model_module_version": "1.5.0",
      "model_name": "SliderStyleModel",
      "state": {
       "description_width": ""
      }
     },
     "a0239d8dba734d20813edbe12dbacbed": {
      "model_module": "@jupyter-widgets/controls",
      "model_module_version": "1.5.0",
      "model_name": "ButtonModel",
      "state": {
       "description": "Save Figure",
       "layout": "IPY_MODEL_8fc0febbb7bd4a34a8ea1f5971cac67b",
       "style": "IPY_MODEL_88a7fd24b92c456babaf7be08176da6e"
      }
     },
     "a04a85e6533945698efe9fa2730ac491": {
      "model_module": "@jupyter-widgets/controls",
      "model_module_version": "1.5.0",
      "model_name": "SliderStyleModel",
      "state": {
       "description_width": ""
      }
     },
     "a07456d8bcc147e29c68505c18282361": {
      "model_module": "@jupyter-widgets/controls",
      "model_module_version": "1.5.0",
      "model_name": "SliderStyleModel",
      "state": {
       "description_width": ""
      }
     },
     "a0aeda4bb25545828bd834b0e65e8a73": {
      "model_module": "@jupyter-widgets/controls",
      "model_module_version": "1.5.0",
      "model_name": "SliderStyleModel",
      "state": {
       "description_width": ""
      }
     },
     "a0ce2156a93a4137b269bddf56861359": {
      "model_module": "@jupyter-widgets/base",
      "model_module_version": "1.2.0",
      "model_name": "LayoutModel",
      "state": {
       "border": "solid 4px #222",
       "margin": "4px",
       "padding": "0"
      }
     },
     "a0d4789464eb40d0a41e9bbb2ce038b8": {
      "model_module": "@jupyter-widgets/base",
      "model_module_version": "1.2.0",
      "model_name": "LayoutModel",
      "state": {}
     },
     "a0fac48d296145edaeec39e1622dcb18": {
      "model_module": "@jupyter-widgets/base",
      "model_module_version": "1.2.0",
      "model_name": "LayoutModel",
      "state": {}
     },
     "a0fc2ce50d904d759cca0c4d6aab088c": {
      "model_module": "@jupyter-widgets/controls",
      "model_module_version": "1.5.0",
      "model_name": "SliderStyleModel",
      "state": {
       "description_width": ""
      }
     },
     "a11c652936284534aa57117960cbc1a2": {
      "model_module": "@jupyter-widgets/controls",
      "model_module_version": "1.5.0",
      "model_name": "SliderStyleModel",
      "state": {
       "description_width": ""
      }
     },
     "a14443a834bf429f96b4c8ec95e75f78": {
      "model_module": "@jupyter-widgets/base",
      "model_module_version": "1.2.0",
      "model_name": "LayoutModel",
      "state": {}
     },
     "a162ba40fe0c42ea93083c2a84c46691": {
      "model_module": "@jupyter-widgets/controls",
      "model_module_version": "1.5.0",
      "model_name": "SliderStyleModel",
      "state": {
       "description_width": ""
      }
     },
     "a164104194a943668052814528b16d5a": {
      "model_module": "@jupyter-widgets/base",
      "model_module_version": "1.2.0",
      "model_name": "LayoutModel",
      "state": {}
     },
     "a198df38f12f464ba0e00ce28f57ae11": {
      "model_module": "@jupyter-widgets/controls",
      "model_module_version": "1.5.0",
      "model_name": "VBoxModel",
      "state": {
       "children": [
        "IPY_MODEL_76f5c727c4354eaa9f883fabf4b5cfaa",
        "IPY_MODEL_d195e4cac59c4ea992ab53f9da56f6f7"
       ],
       "layout": "IPY_MODEL_69111f5fc66e41d6826eceffa63583c8"
      }
     },
     "a19d86a0c16d416d9bea09885376aa59": {
      "model_module": "@jupyter-widgets/base",
      "model_module_version": "1.2.0",
      "model_name": "LayoutModel",
      "state": {}
     },
     "a1a401f5ed91436ba3e4b5290804d353": {
      "model_module": "@jupyter-widgets/controls",
      "model_module_version": "1.5.0",
      "model_name": "ButtonStyleModel",
      "state": {}
     },
     "a1a4df49f4814c8aa60ddad19a2c2098": {
      "model_module": "@jupyter-widgets/base",
      "model_module_version": "1.2.0",
      "model_name": "LayoutModel",
      "state": {}
     },
     "a1af8c07b47d4952a176d03b9ab79bda": {
      "model_module": "@jupyter-widgets/base",
      "model_module_version": "1.2.0",
      "model_name": "LayoutModel",
      "state": {}
     },
     "a1b490ba36584a64b66d9cf0f615eb94": {
      "model_module": "@jupyter-widgets/base",
      "model_module_version": "1.2.0",
      "model_name": "LayoutModel",
      "state": {}
     },
     "a1b6d896a9ec4d15858badc836402d7e": {
      "model_module": "@jupyter-widgets/controls",
      "model_module_version": "1.5.0",
      "model_name": "DescriptionStyleModel",
      "state": {
       "description_width": ""
      }
     },
     "a1f7b329a1e6463694d907123029d110": {
      "model_module": "@jupyter-widgets/base",
      "model_module_version": "1.2.0",
      "model_name": "LayoutModel",
      "state": {}
     },
     "a2079105a8be4c83bf1123427d6f7389": {
      "model_module": "@jupyter-widgets/controls",
      "model_module_version": "1.5.0",
      "model_name": "TabModel",
      "state": {
       "_titles": {
        "0": "Global Controls",
        "1": "Viewer Controls",
        "2": "Compression Controls"
       },
       "children": [
        "IPY_MODEL_931296b5efe4403d8c3cf6739e83a188",
        "IPY_MODEL_510ce38d165048649896fb53386310ba",
        "IPY_MODEL_e5b7637feb494e5e8068583a3ecefc85"
       ],
       "layout": "IPY_MODEL_15f3766fefaa48abafb9170874698eec"
      }
     },
     "a21767f1d2a7418ca278ef814621fca9": {
      "model_module": "@jupyter-widgets/controls",
      "model_module_version": "1.5.0",
      "model_name": "DescriptionStyleModel",
      "state": {
       "description_width": ""
      }
     },
     "a252e24e36fc43d0b6dd9e7d9244aa32": {
      "model_module": "@jupyter-widgets/controls",
      "model_module_version": "1.5.0",
      "model_name": "FloatSliderModel",
      "state": {
       "description": "225°",
       "layout": "IPY_MODEL_e4e47788aa374f15aeb3c7c2a63f1a87",
       "max": 1,
       "min": -1,
       "step": 0.01,
       "style": "IPY_MODEL_12dde3fdf21c4defb2d049c42722e3ba"
      }
     },
     "a255101e8bc84a28876123d130f5aa19": {
      "model_module": "@jupyter-widgets/controls",
      "model_module_version": "1.5.0",
      "model_name": "ButtonStyleModel",
      "state": {}
     },
     "a28495bdf7c34289a3721e00a10a1183": {
      "model_module": "@jupyter-widgets/controls",
      "model_module_version": "1.5.0",
      "model_name": "ButtonModel",
      "state": {
       "description": "Save Figure",
       "layout": "IPY_MODEL_e143692eadae4fb58b49455895a39c13",
       "style": "IPY_MODEL_4233da693d9845b483936b1d3da98981"
      }
     },
     "a28f24d850484bacbaed6927e1146937": {
      "model_module": "@jupyter-widgets/controls",
      "model_module_version": "1.5.0",
      "model_name": "VBoxModel",
      "state": {
       "children": [
        "IPY_MODEL_2cfd9a4087e34cb79fdee49fc0523c18",
        "IPY_MODEL_6f3f201033de4c4d8bdaac0821454471"
       ],
       "layout": "IPY_MODEL_47c2106d38d949d89e3e231019942865"
      }
     },
     "a2ad2f66c60c4bd3bc71bc63faef8c41": {
      "model_module": "@jupyter-widgets/controls",
      "model_module_version": "1.5.0",
      "model_name": "ButtonModel",
      "state": {
       "description": "Reset Hue Controls",
       "layout": "IPY_MODEL_c545c031228346008f264e94669ec11a",
       "style": "IPY_MODEL_be746ed3ea5f4cb58ed8736d43531cad"
      }
     },
     "a2fe4d7ba1f34dbfbd1879bae8ab4588": {
      "model_module": "@jupyter-widgets/controls",
      "model_module_version": "1.5.0",
      "model_name": "CheckboxModel",
      "state": {
       "description": "Disable Medicina",
       "disabled": false,
       "layout": "IPY_MODEL_7405386126794f14b0799d1ed3cbb1cb",
       "style": "IPY_MODEL_1efe75bc9dd140479210328ec264db4e",
       "value": false
      }
     },
     "a336869c69f74e74a8ac397f33e3a82e": {
      "model_module": "@jupyter-widgets/base",
      "model_module_version": "1.2.0",
      "model_name": "LayoutModel",
      "state": {}
     },
     "a34fa0187f604959bf80edb215cbac2a": {
      "model_module": "@jupyter-widgets/controls",
      "model_module_version": "1.5.0",
      "model_name": "FloatSliderModel",
      "state": {
       "description": "270°",
       "layout": "IPY_MODEL_7cc933d57810430b90e009fc6461dd63",
       "max": 1,
       "min": -1,
       "step": 0.01,
       "style": "IPY_MODEL_556e0325c5af4c86bd76c9fd0d8823b0"
      }
     },
     "a367014f5cd140da89c53b447364769b": {
      "model_module": "@jupyter-widgets/base",
      "model_module_version": "1.2.0",
      "model_name": "LayoutModel",
      "state": {}
     },
     "a3773286c64f41bd8dc63d0b694a961a": {
      "model_module": "@jupyter-widgets/base",
      "model_module_version": "1.2.0",
      "model_name": "LayoutModel",
      "state": {}
     },
     "a3bb822950504bd0b19614dd7ad521e3": {
      "model_module": "@jupyter-widgets/controls",
      "model_module_version": "1.5.0",
      "model_name": "VBoxModel",
      "state": {
       "children": [
        "IPY_MODEL_4566389e42764741b23756de7bcde78e",
        "IPY_MODEL_352a0de2736c4dbeb3374ef91c5c5b29"
       ],
       "layout": "IPY_MODEL_34ad77c817004229b0ce6643e4463c02"
      }
     },
     "a3bfc5b21d11447085d8205d989264b6": {
      "model_module": "@jupyter-widgets/controls",
      "model_module_version": "1.5.0",
      "model_name": "SliderStyleModel",
      "state": {
       "description_width": ""
      }
     },
     "a3c7ed0df7144ecebdaf2c7ca6d55dd9": {
      "model_module": "@jupyter-widgets/controls",
      "model_module_version": "1.5.0",
      "model_name": "ButtonModel",
      "state": {
       "description": "Export Image",
       "layout": "IPY_MODEL_2cf5d801dde94a7383d9d44da37eb13b",
       "style": "IPY_MODEL_4733c1c293ef440fbe4e9782f3ed7bbd"
      }
     },
     "a3de3d2602764a958a46e8e192f27e9a": {
      "model_module": "@jupyter-widgets/base",
      "model_module_version": "1.2.0",
      "model_name": "LayoutModel",
      "state": {}
     },
     "a3df36e637f24103884d13ec82c7bd0c": {
      "model_module": "@jupyter-widgets/base",
      "model_module_version": "1.2.0",
      "model_name": "LayoutModel",
      "state": {}
     },
     "a3e85a22c7df4529955194ba6dcf43a0": {
      "model_module": "@jupyter-widgets/controls",
      "model_module_version": "1.5.0",
      "model_name": "FloatSliderModel",
      "state": {
       "description": "Exposure",
       "layout": "IPY_MODEL_797dacc914274873804e835ca7f943a3",
       "max": 8,
       "min": -8,
       "step": 0.1,
       "style": "IPY_MODEL_b1610e71de6a4461812c0f2784487c88"
      }
     },
     "a3f0779844034aab8ca6046451303db8": {
      "model_module": "@jupyter-widgets/controls",
      "model_module_version": "1.5.0",
      "model_name": "FloatSliderModel",
      "state": {
       "description": "Exposure",
       "layout": "IPY_MODEL_d1ed6a0da4b545bfa86a0e05a7d99b26",
       "max": 8,
       "min": -8,
       "step": 0.1,
       "style": "IPY_MODEL_6937a1af5f4648119be059b8eb93a244"
      }
     },
     "a439b88e08dd4367ae86dd2da1782362": {
      "model_module": "@jupyter-widgets/controls",
      "model_module_version": "1.5.0",
      "model_name": "FloatSliderModel",
      "state": {
       "description": "Compression Threshold",
       "layout": "IPY_MODEL_d3af208501a443179e0a3a6c5d7b6bdd",
       "max": 1,
       "step": 0.01,
       "style": "IPY_MODEL_7802d9b4efea48b8b1aba80144531059",
       "value": 0.8
      }
     },
     "a43bf27762eb44af9bdba8157a83b6d2": {
      "model_module": "@jupyter-widgets/base",
      "model_module_version": "1.2.0",
      "model_name": "LayoutModel",
      "state": {}
     },
     "a46153bc506444a4bf62fd2bda1f1164": {
      "model_module": "@jupyter-widgets/controls",
      "model_module_version": "1.5.0",
      "model_name": "DropdownModel",
      "state": {
       "_options_labels": [
        "tanh",
        "atan",
        "simple"
       ],
       "description": "Compression Function:",
       "index": 0,
       "layout": "IPY_MODEL_883b9c0997a341748aafb23ccdded51e",
       "style": "IPY_MODEL_d81c72fe426c416f8721c12ba04d4c2e"
      }
     },
     "a487c1e90c86402a89d98ecc1f4257db": {
      "model_module": "@jupyter-widgets/controls",
      "model_module_version": "1.5.0",
      "model_name": "FloatSliderModel",
      "state": {
       "description": "Compression Threshold",
       "layout": "IPY_MODEL_eb4f595fcc124898abc2e54cd685ef74",
       "max": 1,
       "step": 0.01,
       "style": "IPY_MODEL_64dd0921204d4f14a947e17b9260703b",
       "value": 0.8
      }
     },
     "a48c4fd3ee1040fab5dc4f3e5091ec78": {
      "model_module": "@jupyter-widgets/base",
      "model_module_version": "1.2.0",
      "model_name": "LayoutModel",
      "state": {}
     },
     "a49d5d6a957046e8b449b516f215b2ed": {
      "model_module": "@jupyter-widgets/controls",
      "model_module_version": "1.5.0",
      "model_name": "ButtonStyleModel",
      "state": {}
     },
     "a4a2ddc04b92406098b4dffa25c62f08": {
      "model_module": "@jupyter-widgets/base",
      "model_module_version": "1.2.0",
      "model_name": "LayoutModel",
      "state": {}
     },
     "a4d864b5a2784760806b975ad0d41a06": {
      "model_module": "@jupyter-widgets/base",
      "model_module_version": "1.2.0",
      "model_name": "LayoutModel",
      "state": {}
     },
     "a4f50aa7963e42bd9bf3d34938699264": {
      "model_module": "@jupyter-widgets/controls",
      "model_module_version": "1.5.0",
      "model_name": "HBoxModel",
      "state": {
       "children": [
        "IPY_MODEL_8f36f487ec934c0581bc0c2fff9e8812",
        "IPY_MODEL_9d168c62067e4c309c19142495cccfc6",
        "IPY_MODEL_d65fed9c4bf74977a2309e29601c8ed1"
       ],
       "layout": "IPY_MODEL_1422d60d80e84c3e9172c89a57b00eef"
      }
     },
     "a510cccfa1be43819b2fa3e0417ef160": {
      "model_module": "@jupyter-widgets/controls",
      "model_module_version": "1.5.0",
      "model_name": "ButtonStyleModel",
      "state": {}
     },
     "a54610be83db42f69f6ba2731318b4ba": {
      "model_module": "@jupyter-widgets/controls",
      "model_module_version": "1.5.0",
      "model_name": "FloatSliderModel",
      "state": {
       "description": "225°",
       "layout": "IPY_MODEL_587493a6a07a4a2ca5f4ba213cd3045a",
       "max": 1,
       "min": -1,
       "step": 0.01,
       "style": "IPY_MODEL_ce17cc62180c41419450070500f9a7f3"
      }
     },
     "a5514dfbd83c4548a0710b36079d5358": {
      "model_module": "@jupyter-widgets/base",
      "model_module_version": "1.2.0",
      "model_name": "LayoutModel",
      "state": {}
     },
     "a587ab678f7b4bababdb938874a8a112": {
      "model_module": "jupyter-matplotlib",
      "model_module_version": "^0.7.2",
      "model_name": "MPLCanvasModel",
      "state": {
       "_figure_label": "Figure 9",
       "_height": 458,
       "_width": 1099,
       "header_visible": false,
       "layout": "IPY_MODEL_b1bb20ec3a1542b79415767fa2e53161",
       "resizable": false,
       "toolbar": "IPY_MODEL_c1383220449646df85e857e1d053ace9",
       "toolbar_position": "left",
       "toolbar_visible": false
      }
     },
     "a5be5de384464c67ac71e702828dd3c8": {
      "model_module": "@jupyter-widgets/controls",
      "model_module_version": "1.5.0",
      "model_name": "ButtonStyleModel",
      "state": {}
     },
     "a5c319d1deb14b2b99d294c1ea418804": {
      "model_module": "@jupyter-widgets/base",
      "model_module_version": "1.2.0",
      "model_name": "LayoutModel",
      "state": {}
     },
     "a5dd915608ee4776860691fd91fe7558": {
      "model_module": "@jupyter-widgets/base",
      "model_module_version": "1.2.0",
      "model_name": "LayoutModel",
      "state": {}
     },
     "a5dfe9c3f47346119fb0bb5a147ab84d": {
      "model_module": "@jupyter-widgets/base",
      "model_module_version": "1.2.0",
      "model_name": "LayoutModel",
      "state": {}
     },
     "a5e23e0794e84385bee5a5c46d2ac2fc": {
      "model_module": "@jupyter-widgets/controls",
      "model_module_version": "1.5.0",
      "model_name": "DescriptionStyleModel",
      "state": {
       "description_width": ""
      }
     },
     "a5ef5394db5445a5b9c418906c989cf1": {
      "model_module": "@jupyter-widgets/controls",
      "model_module_version": "1.5.0",
      "model_name": "HBoxModel",
      "state": {
       "children": [
        "IPY_MODEL_0bc3c39b36a54b008d7f5e8404c40f9f",
        "IPY_MODEL_460317d0a090447bb9fccc77f8aaa53c",
        "IPY_MODEL_a7b79a6260014d0dbdbc58e5c1a9f76f",
        "IPY_MODEL_2c5f964a99784df887bafa77ef4d5f47"
       ],
       "layout": "IPY_MODEL_41411a8d24f34c11870703b604b7c030"
      }
     },
     "a5f143f8d0f64ee2bc5c15acfca76568": {
      "model_module": "@jupyter-widgets/controls",
      "model_module_version": "1.5.0",
      "model_name": "CheckboxModel",
      "state": {
       "description": "Show Out-of-Gamut",
       "disabled": false,
       "layout": "IPY_MODEL_98af5c9b1ec94475847f2caef5bae794",
       "style": "IPY_MODEL_07e0dabf5e3f4cc0acaf7257abe5d93d",
       "value": false
      }
     },
     "a5f25adede6e4e64905c9a73bfce9c78": {
      "model_module": "@jupyter-widgets/base",
      "model_module_version": "1.2.0",
      "model_name": "LayoutModel",
      "state": {}
     },
     "a613038139f54964aa9ab8becd2ff2c1": {
      "model_module": "@jupyter-widgets/controls",
      "model_module_version": "1.5.0",
      "model_name": "ButtonModel",
      "state": {
       "description": "Export Image",
       "layout": "IPY_MODEL_c51b602642124f249eca909716a01057",
       "style": "IPY_MODEL_c70980f163c34b1ab46b204792bed6d5"
      }
     },
     "a63c3ec58bb8406b983ef42c76d409dc": {
      "model_module": "@jupyter-widgets/controls",
      "model_module_version": "1.5.0",
      "model_name": "VBoxModel",
      "state": {
       "children": [
        "IPY_MODEL_41b55e8472a14c2ba9b0d092a67bbbf5",
        "IPY_MODEL_e20c328970e84d9b90a574ff820d8044"
       ],
       "layout": "IPY_MODEL_1802ad62d2bc4abe90745cc7647653bc"
      }
     },
     "a64fffa527c0402ebbd92ba79b3d7e3a": {
      "model_module": "@jupyter-widgets/controls",
      "model_module_version": "1.5.0",
      "model_name": "SliderStyleModel",
      "state": {
       "description_width": ""
      }
     },
     "a6720b24f2034e09b4d8b22ce907204b": {
      "model_module": "@jupyter-widgets/base",
      "model_module_version": "1.2.0",
      "model_name": "LayoutModel",
      "state": {}
     },
     "a68dd1d340914130bd0c1d82b8fc0e20": {
      "model_module": "@jupyter-widgets/base",
      "model_module_version": "1.2.0",
      "model_name": "LayoutModel",
      "state": {}
     },
     "a69081aed3114ac9b9d3fbd15a7e469a": {
      "model_module": "@jupyter-widgets/controls",
      "model_module_version": "1.5.0",
      "model_name": "FloatSliderModel",
      "state": {
       "description": "0°",
       "layout": "IPY_MODEL_a164104194a943668052814528b16d5a",
       "max": 1,
       "min": -1,
       "step": 0.01,
       "style": "IPY_MODEL_d235de786fc14996abec06eac634e3f4"
      }
     },
     "a698bec5129e45f1b3df2c2375c5be2f": {
      "model_module": "@jupyter-widgets/base",
      "model_module_version": "1.2.0",
      "model_name": "LayoutModel",
      "state": {}
     },
     "a6a1d0cf43cf48cf82a703f9dea783ef": {
      "model_module": "@jupyter-widgets/controls",
      "model_module_version": "1.5.0",
      "model_name": "SliderStyleModel",
      "state": {
       "description_width": ""
      }
     },
     "a6a9a60d870549fc952746104b99e81c": {
      "model_module": "@jupyter-widgets/controls",
      "model_module_version": "1.5.0",
      "model_name": "FloatSliderModel",
      "state": {
       "description": "45°",
       "layout": "IPY_MODEL_e7444431a7c0423696ff3281accf4eb7",
       "max": 1,
       "min": -1,
       "step": 0.01,
       "style": "IPY_MODEL_e0fcc64ad403440b94ce913fa310c5ef"
      }
     },
     "a6ae07bdcc0241aabc4058816c1de6e5": {
      "model_module": "@jupyter-widgets/controls",
      "model_module_version": "1.5.0",
      "model_name": "HBoxModel",
      "state": {
       "children": [
        "IPY_MODEL_e54b0d93f1ca4dd0a24a520b00e4e248",
        "IPY_MODEL_c60b9f82f98b40aea71f1af3a404a843",
        "IPY_MODEL_6119eb493d254ea5aeefd5540f453a3b",
        "IPY_MODEL_8911146c1a3b4909920a4da39e3481f5"
       ],
       "layout": "IPY_MODEL_24472bf9b3ea4f0690cc5c9f7cd3763d"
      }
     },
     "a6b3ae74654248fcb0c015f83e37fa17": {
      "model_module": "@jupyter-widgets/controls",
      "model_module_version": "1.5.0",
      "model_name": "SliderStyleModel",
      "state": {
       "description_width": ""
      }
     },
     "a6b92b3f7d1946e2bba8576d670b9cf6": {
      "model_module": "@jupyter-widgets/controls",
      "model_module_version": "1.5.0",
      "model_name": "ButtonStyleModel",
      "state": {}
     },
     "a6bda903b28e41f8ba6217111364dde0": {
      "model_module": "@jupyter-widgets/controls",
      "model_module_version": "1.5.0",
      "model_name": "DropdownModel",
      "state": {
       "_options_labels": [
        "tanh",
        "atan",
        "simple"
       ],
       "description": "Compression Function:",
       "index": 0,
       "layout": "IPY_MODEL_0ca2d11b456b4ec8b25f50473dff6f16",
       "style": "IPY_MODEL_41831d0a0e9845eab61c9307300d4c68"
      }
     },
     "a6c0bf1e261645c692a7afcc4468e47d": {
      "model_module": "@jupyter-widgets/base",
      "model_module_version": "1.2.0",
      "model_name": "LayoutModel",
      "state": {}
     },
     "a72c227bc0c0426e8b86ad1b03bdc9fc": {
      "model_module": "@jupyter-widgets/base",
      "model_module_version": "1.2.0",
      "model_name": "LayoutModel",
      "state": {}
     },
     "a73cbdf243514be2959559f5d0df9317": {
      "model_module": "@jupyter-widgets/controls",
      "model_module_version": "1.5.0",
      "model_name": "FloatSliderModel",
      "state": {
       "description": "90°",
       "layout": "IPY_MODEL_4e5b912c51ea4933af2d35d2d328f9f4",
       "max": 1,
       "min": -1,
       "step": 0.01,
       "style": "IPY_MODEL_68cbde5848c744d2a8c62245646db1fa"
      }
     },
     "a7501f578e9c48b284506e54f8c868a3": {
      "model_module": "@jupyter-widgets/base",
      "model_module_version": "1.2.0",
      "model_name": "LayoutModel",
      "state": {}
     },
     "a77ed756e3d54a13a518f2fb031de32b": {
      "model_module": "@jupyter-widgets/controls",
      "model_module_version": "1.5.0",
      "model_name": "SliderStyleModel",
      "state": {
       "description_width": ""
      }
     },
     "a77fa046f0a3472ca487163145e3ce4b": {
      "model_module": "@jupyter-widgets/controls",
      "model_module_version": "1.5.0",
      "model_name": "ButtonModel",
      "state": {
       "description": "Reset Exposure",
       "layout": "IPY_MODEL_6eb6b1a105a54533977f0dbd96b95a7e",
       "style": "IPY_MODEL_03d14c43cdc14ecc828f0a9dff42d635"
      }
     },
     "a7818ed0e01249ac8b40a2dd2f7805a4": {
      "model_module": "@jupyter-widgets/controls",
      "model_module_version": "1.5.0",
      "model_name": "ButtonStyleModel",
      "state": {}
     },
     "a788043e47154e16b9b88499f8fc4155": {
      "model_module": "@jupyter-widgets/controls",
      "model_module_version": "1.5.0",
      "model_name": "VBoxModel",
      "state": {
       "children": [
        "IPY_MODEL_222356b2fb79428aa69106f51475f7ea",
        "IPY_MODEL_3e081467d0804d22bb3f6b6c7ebce740"
       ],
       "layout": "IPY_MODEL_15642cff92bb4609b4e3eafbfe5cd9df"
      }
     },
     "a78a93061ac34ac99dd28a1419e65e34": {
      "model_module": "@jupyter-widgets/controls",
      "model_module_version": "1.5.0",
      "model_name": "SliderStyleModel",
      "state": {
       "description_width": ""
      }
     },
     "a78b2bffad50462d9ddc7c3a11aa22ef": {
      "model_module": "@jupyter-widgets/controls",
      "model_module_version": "1.5.0",
      "model_name": "SliderStyleModel",
      "state": {
       "description_width": ""
      }
     },
     "a7b79a6260014d0dbdbc58e5c1a9f76f": {
      "model_module": "@jupyter-widgets/controls",
      "model_module_version": "1.5.0",
      "model_name": "FloatSliderModel",
      "state": {
       "description": "Exposure",
       "layout": "IPY_MODEL_2c1c729730344733bba076f7697e6dbb",
       "max": 8,
       "min": -8,
       "step": 0.1,
       "style": "IPY_MODEL_8386c50469b24b7893404f2cfe720be4"
      }
     },
     "a80ea9e526ae408d8bd423ed59d1817b": {
      "model_module": "jupyter-matplotlib",
      "model_module_version": "^0.7.2",
      "model_name": "ToolbarModel",
      "state": {
       "layout": "IPY_MODEL_7123e01929a6435c835fcb346e019ad4",
       "toolitems": [
        [
         "Home",
         "Reset original view",
         "home",
         "home"
        ],
        [
         "Back",
         "Back to previous view",
         "arrow-left",
         "back"
        ],
        [
         "Forward",
         "Forward to next view",
         "arrow-right",
         "forward"
        ],
        [
         "Pan",
         "Pan axes with left mouse, zoom with right",
         "arrows",
         "pan"
        ],
        [
         "Zoom",
         "Zoom to rectangle",
         "square-o",
         "zoom"
        ],
        [
         "Download",
         "Download plot",
         "floppy-o",
         "save_figure"
        ]
       ]
      }
     },
     "a8303a40c7bd410197a85752c8a2f92e": {
      "model_module": "@jupyter-widgets/controls",
      "model_module_version": "1.5.0",
      "model_name": "CheckboxModel",
      "state": {
       "description": "Show Out-of-Gamut",
       "disabled": false,
       "layout": "IPY_MODEL_08e9adb26a174a9f88083546c5f2559a",
       "style": "IPY_MODEL_c93fc33063fd413ead98a7d2757ef8d4",
       "value": false
      }
     },
     "a875f3ec1c784073b68aef4dcf12f2e6": {
      "model_module": "@jupyter-widgets/controls",
      "model_module_version": "1.5.0",
      "model_name": "FloatSliderModel",
      "state": {
       "description": "Protected Area Threshold",
       "layout": "IPY_MODEL_6982802656ba401795d7b950c46fe83d",
       "max": 1,
       "step": 0.01,
       "style": "IPY_MODEL_6913003d7585486fabdc04fff3340fd6",
       "value": 0.7
      }
     },
     "a896bde61e504a3488ffad1e7c0cf819": {
      "model_module": "@jupyter-widgets/output",
      "model_module_version": "1.0.0",
      "model_name": "OutputModel",
      "state": {
       "layout": "IPY_MODEL_5325bebf16504a23ae2cc92bdba1ef9b",
       "outputs": [
        {
         "data": {
          "application/vnd.jupyter.widget-view+json": {
           "model_id": "b25738623dae4d0e9a153041dcc795b9",
           "version_major": 2,
           "version_minor": 0
          },
          "text/plain": "Canvas(toolbar=Toolbar(toolitems=[('Home', 'Reset original view', 'home', 'home'), ('Back', 'Back to previous …"
         },
         "metadata": {},
         "output_type": "display_data"
        }
       ]
      }
     },
     "a8b1ba90d2c34ad0827683bb585d958f": {
      "model_module": "@jupyter-widgets/controls",
      "model_module_version": "1.5.0",
      "model_name": "VBoxModel",
      "state": {
       "children": [
        "IPY_MODEL_f94c3d810a714d74a882693813ec3c24",
        "IPY_MODEL_803a011b315c439287c806bb3a54ef77",
        "IPY_MODEL_64f336ce6d7d44d49c5c3d2f2956d46b"
       ],
       "layout": "IPY_MODEL_dca352851c6a486c8806f035a2f3a1e3"
      }
     },
     "a8b6206c1bb7409e8dc37b2ee57e2263": {
      "model_module": "@jupyter-widgets/base",
      "model_module_version": "1.2.0",
      "model_name": "LayoutModel",
      "state": {}
     },
     "a8e3db14d9d0481ebbdba4b6a050c0c8": {
      "model_module": "@jupyter-widgets/base",
      "model_module_version": "1.2.0",
      "model_name": "LayoutModel",
      "state": {
       "border": "solid 4px #222",
       "margin": "4px",
       "padding": "0"
      }
     },
     "a8e91b3a32434f39b6e35b782e884296": {
      "model_module": "@jupyter-widgets/base",
      "model_module_version": "1.2.0",
      "model_name": "LayoutModel",
      "state": {
       "align_items": "stretch",
       "display": "flex",
       "flex_flow": "column",
       "width": "1128px"
      }
     },
     "a90879ae76594bed8e9a59253febce9d": {
      "model_module": "@jupyter-widgets/base",
      "model_module_version": "1.2.0",
      "model_name": "LayoutModel",
      "state": {}
     },
     "a937da6152cc4f439530841beb7321c2": {
      "model_module": "@jupyter-widgets/controls",
      "model_module_version": "1.5.0",
      "model_name": "ButtonModel",
      "state": {
       "description": "Save Figure",
       "layout": "IPY_MODEL_17eaccab9c8549ba82772fae35c48300",
       "style": "IPY_MODEL_56502a942b46410b80665ba20bf1393a"
      }
     },
     "a94661b78938434885b34f6be0f672ad": {
      "model_module": "@jupyter-widgets/controls",
      "model_module_version": "1.5.0",
      "model_name": "HBoxModel",
      "state": {
       "children": [
        "IPY_MODEL_cb30b729bdcf40a48ade42d7f94b9db3",
        "IPY_MODEL_24870fe1670e4928af3d24bffc26cddb",
        "IPY_MODEL_b4d99907dff84a879b6aa90bc81c69b1",
        "IPY_MODEL_d67a5d47f91f44f58ce256968948c6e5"
       ],
       "layout": "IPY_MODEL_b5e37b1d5a57437ab78f9a995684b636"
      }
     },
     "a95ac61061034e9b83d831e9d43f6a4c": {
      "model_module": "@jupyter-widgets/controls",
      "model_module_version": "1.5.0",
      "model_name": "ButtonModel",
      "state": {
       "description": "Reset Protected Area",
       "layout": "IPY_MODEL_862448e1698348318dbe5ac69990dc9a",
       "style": "IPY_MODEL_ee507562012e4cf6ab3924bb40eaae6b"
      }
     },
     "a9f6b2f8814b4bcda97eae735819b18c": {
      "model_module": "@jupyter-widgets/controls",
      "model_module_version": "1.5.0",
      "model_name": "ButtonModel",
      "state": {
       "description": "Reset Exposure",
       "layout": "IPY_MODEL_69d6ca417b5c447ab374195a0f192764",
       "style": "IPY_MODEL_9dd6b9761a8b45a08b206ceebbabef11"
      }
     },
     "aa231be4eaab43cf957a812aea1a35de": {
      "model_module": "@jupyter-widgets/controls",
      "model_module_version": "1.5.0",
      "model_name": "FloatSliderModel",
      "state": {
       "description": "315°",
       "layout": "IPY_MODEL_d4a5133b7341499a82441cb84bbaeb01",
       "max": 1,
       "min": -1,
       "step": 0.01,
       "style": "IPY_MODEL_29353a425cf04070a5f19d7392b3e3ac"
      }
     },
     "aa3a2c4e30c14693bf3770386bfc9489": {
      "model_module": "@jupyter-widgets/controls",
      "model_module_version": "1.5.0",
      "model_name": "VBoxModel",
      "state": {
       "children": [
        "IPY_MODEL_1484adc68a3f4c619b9a5d83758ffb7b",
        "IPY_MODEL_8f7bf6ce12a3429ab47637c463f25020",
        "IPY_MODEL_7deeda24bb0f48768505aad36c16aa75"
       ],
       "layout": "IPY_MODEL_1a9d93ee36bd4316bd1470a2cc82ba5a"
      }
     },
     "aa53f011edb047749343f32d64410b91": {
      "model_module": "jupyter-matplotlib",
      "model_module_version": "^0.7.2",
      "model_name": "ToolbarModel",
      "state": {
       "layout": "IPY_MODEL_9dd7d62e42eb464985c42e8e395cfa6e",
       "toolitems": [
        [
         "Home",
         "Reset original view",
         "home",
         "home"
        ],
        [
         "Back",
         "Back to previous view",
         "arrow-left",
         "back"
        ],
        [
         "Forward",
         "Forward to next view",
         "arrow-right",
         "forward"
        ],
        [
         "Pan",
         "Pan axes with left mouse, zoom with right",
         "arrows",
         "pan"
        ],
        [
         "Zoom",
         "Zoom to rectangle",
         "square-o",
         "zoom"
        ],
        [
         "Download",
         "Download plot",
         "floppy-o",
         "save_figure"
        ]
       ]
      }
     },
     "aa57c21501c14aff8ca43724651342be": {
      "model_module": "@jupyter-widgets/output",
      "model_module_version": "1.0.0",
      "model_name": "OutputModel",
      "state": {
       "layout": "IPY_MODEL_36c2ba66ac5e4fe29dd466b0097ed89b",
       "outputs": [
        {
         "data": {
          "application/vnd.jupyter.widget-view+json": {
           "model_id": "efe4f458c4a0457b9bd92ab5bf7a1fb4",
           "version_major": 2,
           "version_minor": 0
          },
          "text/plain": "Canvas(toolbar=Toolbar(toolitems=[('Home', 'Reset original view', 'home', 'home'), ('Back', 'Back to previous …"
         },
         "metadata": {},
         "output_type": "display_data"
        }
       ]
      }
     },
     "aa67848dfce941078fd1b9a750726349": {
      "model_module": "@jupyter-widgets/base",
      "model_module_version": "1.2.0",
      "model_name": "LayoutModel",
      "state": {}
     },
     "aa916c15af0946abb229cd6e4d5153eb": {
      "model_module": "@jupyter-widgets/base",
      "model_module_version": "1.2.0",
      "model_name": "LayoutModel",
      "state": {}
     },
     "aa9bf7e7349a4a0898cd138150e8fe79": {
      "model_module": "@jupyter-widgets/base",
      "model_module_version": "1.2.0",
      "model_name": "LayoutModel",
      "state": {}
     },
     "aab693771b5a45cfbfb29699261fc8da": {
      "model_module": "@jupyter-widgets/controls",
      "model_module_version": "1.5.0",
      "model_name": "SliderStyleModel",
      "state": {
       "description_width": ""
      }
     },
     "ab169efc90a340acac412547ecd26c1a": {
      "model_module": "@jupyter-widgets/base",
      "model_module_version": "1.2.0",
      "model_name": "LayoutModel",
      "state": {}
     },
     "ab17bf6d622d479198a3e1463b56e564": {
      "model_module": "@jupyter-widgets/controls",
      "model_module_version": "1.5.0",
      "model_name": "ButtonStyleModel",
      "state": {}
     },
     "ab187ef95dd94ecaa15f65a98c766f52": {
      "model_module": "@jupyter-widgets/base",
      "model_module_version": "1.2.0",
      "model_name": "LayoutModel",
      "state": {}
     },
     "ab2131509bec4c0c906ca1c5ecf02097": {
      "model_module": "@jupyter-widgets/controls",
      "model_module_version": "1.5.0",
      "model_name": "SliderStyleModel",
      "state": {
       "description_width": ""
      }
     },
     "ab3df778398544f4ba4601851ee7ba4f": {
      "model_module": "@jupyter-widgets/base",
      "model_module_version": "1.2.0",
      "model_name": "LayoutModel",
      "state": {}
     },
     "ab634be3d7f6409a8cb7850e72659854": {
      "model_module": "@jupyter-widgets/controls",
      "model_module_version": "1.5.0",
      "model_name": "ButtonStyleModel",
      "state": {}
     },
     "ab79ad18055e4987a3a6191508e814c6": {
      "model_module": "@jupyter-widgets/controls",
      "model_module_version": "1.5.0",
      "model_name": "DescriptionStyleModel",
      "state": {
       "description_width": ""
      }
     },
     "ab9e36dc0bc442cfa09aae3cd6c998d0": {
      "model_module": "@jupyter-widgets/controls",
      "model_module_version": "1.5.0",
      "model_name": "BoxModel",
      "state": {
       "children": [
        "IPY_MODEL_4dd2bf5fc6f04d368510fd63db572fcc",
        "IPY_MODEL_db3130b8a0454bfcb9f372fcca9cf353"
       ],
       "layout": "IPY_MODEL_1d118182832a45ada1cf2cfb0f0c590a"
      }
     },
     "abae671bca884f7ea0f7b3196892bf0b": {
      "model_module": "@jupyter-widgets/controls",
      "model_module_version": "1.5.0",
      "model_name": "SliderStyleModel",
      "state": {
       "description_width": ""
      }
     },
     "abcb0f496b9940b9820db5389b837e01": {
      "model_module": "@jupyter-widgets/controls",
      "model_module_version": "1.5.0",
      "model_name": "FloatSliderModel",
      "state": {
       "description": "Exposure",
       "layout": "IPY_MODEL_d8cd923bdbb24ed685dfc0c0e58e7d32",
       "max": 8,
       "min": -8,
       "step": 0.1,
       "style": "IPY_MODEL_3724255781bd4be8beb23b4b4e0c3366"
      }
     },
     "abed08603e064d48aead60e853068e1b": {
      "model_module": "@jupyter-widgets/base",
      "model_module_version": "1.2.0",
      "model_name": "LayoutModel",
      "state": {}
     },
     "ac0c921332e2496c84eedd7689573637": {
      "model_module": "@jupyter-widgets/base",
      "model_module_version": "1.2.0",
      "model_name": "LayoutModel",
      "state": {}
     },
     "ac39b2b1a87b449598027084721d6336": {
      "model_module": "@jupyter-widgets/base",
      "model_module_version": "1.2.0",
      "model_name": "LayoutModel",
      "state": {}
     },
     "ac4536c3957446f98aa4447aa1e54800": {
      "model_module": "@jupyter-widgets/base",
      "model_module_version": "1.2.0",
      "model_name": "LayoutModel",
      "state": {}
     },
     "ac48e82117a44125bcba063915735acf": {
      "model_module": "@jupyter-widgets/base",
      "model_module_version": "1.2.0",
      "model_name": "LayoutModel",
      "state": {}
     },
     "ac587513635c412eb2c19ab59930ce19": {
      "model_module": "@jupyter-widgets/base",
      "model_module_version": "1.2.0",
      "model_name": "LayoutModel",
      "state": {}
     },
     "ac7f012df0c04063a4a1589b87877b30": {
      "model_module": "@jupyter-widgets/output",
      "model_module_version": "1.0.0",
      "model_name": "OutputModel",
      "state": {
       "layout": "IPY_MODEL_286317e56954476a8ac95de3ad57c02c",
       "outputs": [
        {
         "data": {
          "application/vnd.jupyter.widget-view+json": {
           "model_id": "0db7e5d59a104f199356a4f2e7d7feae",
           "version_major": 2,
           "version_minor": 0
          },
          "text/plain": "Canvas(toolbar=Toolbar(toolitems=[('Home', 'Reset original view', 'home', 'home'), ('Back', 'Back to previous …"
         },
         "metadata": {},
         "output_type": "display_data"
        }
       ]
      }
     },
     "acb261a3fd164648a2facc4bb363c934": {
      "model_module": "@jupyter-widgets/controls",
      "model_module_version": "1.5.0",
      "model_name": "SliderStyleModel",
      "state": {
       "description_width": ""
      }
     },
     "acbd9a938c4d46d5b4addfa321adf7e8": {
      "model_module": "@jupyter-widgets/controls",
      "model_module_version": "1.5.0",
      "model_name": "HBoxModel",
      "state": {
       "children": [
        "IPY_MODEL_9c5cf254bd22476cae2a8413a2b7c326",
        "IPY_MODEL_5abedf5d4f854750b7d1dc33b2f58f41",
        "IPY_MODEL_f84dd25a7af942a4b67ac1d3be151014",
        "IPY_MODEL_2d2230a6c8ac4d55a519fc95110627c5"
       ],
       "layout": "IPY_MODEL_54577062c3aa46d599681f15354ef11b"
      }
     },
     "acc6ce654bf542ae80c537717f58b330": {
      "model_module": "@jupyter-widgets/base",
      "model_module_version": "1.2.0",
      "model_name": "LayoutModel",
      "state": {}
     },
     "acff269da64b40df8dc99806b2472bb7": {
      "model_module": "@jupyter-widgets/base",
      "model_module_version": "1.2.0",
      "model_name": "LayoutModel",
      "state": {}
     },
     "ad023664b5cf410394939df7a96754d3": {
      "model_module": "@jupyter-widgets/controls",
      "model_module_version": "1.5.0",
      "model_name": "SliderStyleModel",
      "state": {
       "description_width": ""
      }
     },
     "ad1589a1131d457a91aebea1d082ace5": {
      "model_module": "@jupyter-widgets/controls",
      "model_module_version": "1.5.0",
      "model_name": "ButtonModel",
      "state": {
       "description": "Export Image",
       "layout": "IPY_MODEL_0b513784784147c7bbe9761152023f09",
       "style": "IPY_MODEL_a49d5d6a957046e8b449b516f215b2ed"
      }
     },
     "ad2556b0f4cc4a2ea475c36ae54b18be": {
      "model_module": "@jupyter-widgets/base",
      "model_module_version": "1.2.0",
      "model_name": "LayoutModel",
      "state": {}
     },
     "ad34e278919c4f5d9fa7cf5e7842c461": {
      "model_module": "@jupyter-widgets/base",
      "model_module_version": "1.2.0",
      "model_name": "LayoutModel",
      "state": {}
     },
     "ad4edfeb38214a3d8ca653c9118a4cae": {
      "model_module": "@jupyter-widgets/controls",
      "model_module_version": "1.5.0",
      "model_name": "HBoxModel",
      "state": {
       "children": [
        "IPY_MODEL_6d3c1a676ca14139a883ca1a1415380d",
        "IPY_MODEL_c9c99674fd8440b8bd6ea0b96e6c2897",
        "IPY_MODEL_937a32a7ac5945b4858323fe448d3a41"
       ],
       "layout": "IPY_MODEL_2bb2bce685d043d78026e993e9c87e88"
      }
     },
     "adabdfbb0b9f49d083485cd5f580ae11": {
      "model_module": "@jupyter-widgets/controls",
      "model_module_version": "1.5.0",
      "model_name": "FloatSliderModel",
      "state": {
       "description": "Compression Threshold",
       "layout": "IPY_MODEL_119c929c2dc84946bb7d0d8abf07a433",
       "max": 1,
       "step": 0.01,
       "style": "IPY_MODEL_79942979b1a849efbe6154b9d6cf3747",
       "value": 0.8
      }
     },
     "adc24cfd136b4460b55e7472ebbc3ad0": {
      "model_module": "@jupyter-widgets/controls",
      "model_module_version": "1.5.0",
      "model_name": "DropdownModel",
      "state": {
       "_options_labels": [
        "sRGB",
        "ACES (sRGB)"
       ],
       "description": "View Transform:",
       "index": 0,
       "layout": "IPY_MODEL_9400a10f1b374e0788fbae425ff25c69",
       "style": "IPY_MODEL_63c1182942254762929a22aa62f50094"
      }
     },
     "ae12615e5a0e46a2a75bcca4451c1146": {
      "model_module": "@jupyter-widgets/base",
      "model_module_version": "1.2.0",
      "model_name": "LayoutModel",
      "state": {}
     },
     "ae56805f1f484d4ea53c85bb1081ddfa": {
      "model_module": "@jupyter-widgets/controls",
      "model_module_version": "1.5.0",
      "model_name": "SliderStyleModel",
      "state": {
       "description_width": ""
      }
     },
     "ae7a9c9b97a9405386c1b91d8984729e": {
      "model_module": "@jupyter-widgets/controls",
      "model_module_version": "1.5.0",
      "model_name": "HBoxModel",
      "state": {
       "children": [
        "IPY_MODEL_880ebd2fb5144dc2802973c6407d87fd",
        "IPY_MODEL_043fc2405047417999435e3d4c48f34d"
       ],
       "layout": "IPY_MODEL_1cafc367018a4427808a92bf5ebdacd8"
      }
     },
     "af00ff1e0c9c403f82d2bd1e51f47574": {
      "model_module": "@jupyter-widgets/base",
      "model_module_version": "1.2.0",
      "model_name": "LayoutModel",
      "state": {}
     },
     "af3a8c16ad934733b0fe8913e19e7cea": {
      "model_module": "@jupyter-widgets/base",
      "model_module_version": "1.2.0",
      "model_name": "LayoutModel",
      "state": {}
     },
     "af7330f8fe1e4803b9a94b13e2dd330f": {
      "model_module": "@jupyter-widgets/controls",
      "model_module_version": "1.5.0",
      "model_name": "FloatSliderModel",
      "state": {
       "description": "Exposure",
       "layout": "IPY_MODEL_03f9e3d746f04e4f821e9c988e8268bb",
       "max": 8,
       "min": -8,
       "step": 0.1,
       "style": "IPY_MODEL_5a20e4703be04fcb972e4fd803255c4d"
      }
     },
     "afbf2dc677984bbdad658279b492dd46": {
      "model_module": "@jupyter-widgets/base",
      "model_module_version": "1.2.0",
      "model_name": "LayoutModel",
      "state": {}
     },
     "afc813f4ab4b40fd94ed309a21d6295b": {
      "model_module": "@jupyter-widgets/base",
      "model_module_version": "1.2.0",
      "model_name": "LayoutModel",
      "state": {}
     },
     "afd10bc6498541c28d862c46b853d4d6": {
      "model_module": "@jupyter-widgets/base",
      "model_module_version": "1.2.0",
      "model_name": "LayoutModel",
      "state": {}
     },
     "afdb5c98df8a4d5ea9bfd19b4235a3fb": {
      "model_module": "@jupyter-widgets/base",
      "model_module_version": "1.2.0",
      "model_name": "LayoutModel",
      "state": {}
     },
     "b026f7f8703d4c019cf7f5a988324b05": {
      "model_module": "@jupyter-widgets/controls",
      "model_module_version": "1.5.0",
      "model_name": "ButtonModel",
      "state": {
       "description": "Reset Saturation Controls",
       "layout": "IPY_MODEL_cfd32bf1cdbd46b2b7231c39405fdaf0",
       "style": "IPY_MODEL_57289c15a5064f2982dd322db1fcaf94"
      }
     },
     "b035334b07e74df7b7096dc85344738d": {
      "model_module": "@jupyter-widgets/base",
      "model_module_version": "1.2.0",
      "model_name": "LayoutModel",
      "state": {}
     },
     "b0405f89d0de4960b4cff5ff4750901d": {
      "model_module": "@jupyter-widgets/base",
      "model_module_version": "1.2.0",
      "model_name": "LayoutModel",
      "state": {}
     },
     "b04aa0aa90c04c5ab01353ae106656ad": {
      "model_module": "@jupyter-widgets/controls",
      "model_module_version": "1.5.0",
      "model_name": "DescriptionStyleModel",
      "state": {
       "description_width": ""
      }
     },
     "b04cfdac46c9423c83b442a32ffa359b": {
      "model_module": "@jupyter-widgets/controls",
      "model_module_version": "1.5.0",
      "model_name": "ButtonStyleModel",
      "state": {}
     },
     "b07998764e26490d8a981ca305cfdc3e": {
      "model_module": "@jupyter-widgets/base",
      "model_module_version": "1.2.0",
      "model_name": "LayoutModel",
      "state": {}
     },
     "b08a0b170c8b4f10ab87b8f5873f66d6": {
      "model_module": "@jupyter-widgets/controls",
      "model_module_version": "1.5.0",
      "model_name": "HBoxModel",
      "state": {
       "children": [
        "IPY_MODEL_b58fe8cea1c3499ab682a1852def90d7",
        "IPY_MODEL_c77b91db3fe5421eb9c10e1487beb0d1",
        "IPY_MODEL_6c158893dd2b4445a9863c4815d3e6c8"
       ],
       "layout": "IPY_MODEL_5795b942935448d8b730f3f2bbc55562"
      }
     },
     "b0fba69e1c0c4fe183ef16cc5d497124": {
      "model_module": "@jupyter-widgets/base",
      "model_module_version": "1.2.0",
      "model_name": "LayoutModel",
      "state": {}
     },
     "b1153bffaeb446de84a3b48fd760a7f5": {
      "model_module": "@jupyter-widgets/base",
      "model_module_version": "1.2.0",
      "model_name": "LayoutModel",
      "state": {}
     },
     "b1382cc15a6c492085f47f85bf900890": {
      "model_module": "@jupyter-widgets/controls",
      "model_module_version": "1.5.0",
      "model_name": "TabModel",
      "state": {
       "_titles": {
        "0": "Global Controls",
        "1": "Viewer Controls",
        "2": "Protected Area Controls",
        "3": "Saturation Controls",
        "4": "Hue Controls"
       },
       "children": [
        "IPY_MODEL_9e3f53c1e1194d43a7d4f0413d9e1a10",
        "IPY_MODEL_8408033d174b445b8ca60dc80f0904bf",
        "IPY_MODEL_b36dcb79d509405b93719d81a9c07bdd",
        "IPY_MODEL_e30e94bfa43d43ef8c1786249947ba58",
        "IPY_MODEL_4974b12476eb46bcae47ee10b3bd5dd9"
       ],
       "layout": "IPY_MODEL_8434f0e0c97b476582d2525c27088fd8"
      }
     },
     "b1409fb34998467aa9526222e9a61e9d": {
      "model_module": "@jupyter-widgets/controls",
      "model_module_version": "1.5.0",
      "model_name": "SliderStyleModel",
      "state": {
       "description_width": ""
      }
     },
     "b1610e71de6a4461812c0f2784487c88": {
      "model_module": "@jupyter-widgets/controls",
      "model_module_version": "1.5.0",
      "model_name": "SliderStyleModel",
      "state": {
       "description_width": ""
      }
     },
     "b17554df93984dc18cadaf1a2c654747": {
      "model_module": "@jupyter-widgets/controls",
      "model_module_version": "1.5.0",
      "model_name": "DescriptionStyleModel",
      "state": {
       "description_width": ""
      }
     },
     "b17d155270e0481cae1e935bf3cb4bd4": {
      "model_module": "@jupyter-widgets/controls",
      "model_module_version": "1.5.0",
      "model_name": "CheckboxModel",
      "state": {
       "description": "Show Out-of-Gamut",
       "disabled": false,
       "layout": "IPY_MODEL_5f2992477752483fbf36d1032f6f0d14",
       "style": "IPY_MODEL_d99dcf35d11b4ac1a204b0a7d5bcd568",
       "value": false
      }
     },
     "b1bb20ec3a1542b79415767fa2e53161": {
      "model_module": "@jupyter-widgets/base",
      "model_module_version": "1.2.0",
      "model_name": "LayoutModel",
      "state": {}
     },
     "b1c57018defc4f6386521a2b68fe715b": {
      "model_module": "@jupyter-widgets/base",
      "model_module_version": "1.2.0",
      "model_name": "LayoutModel",
      "state": {}
     },
     "b1da3000b2a149a0b4903ebdba8982a2": {
      "model_module": "@jupyter-widgets/controls",
      "model_module_version": "1.5.0",
      "model_name": "SliderStyleModel",
      "state": {
       "description_width": ""
      }
     },
     "b1dd9dced15042fb929570822f47edfe": {
      "model_module": "@jupyter-widgets/base",
      "model_module_version": "1.2.0",
      "model_name": "LayoutModel",
      "state": {
       "border": "solid 4px #222",
       "margin": "4px",
       "padding": "0"
      }
     },
     "b2498137cfb046109279dd4c10ec650e": {
      "model_module": "@jupyter-widgets/controls",
      "model_module_version": "1.5.0",
      "model_name": "SliderStyleModel",
      "state": {
       "description_width": ""
      }
     },
     "b24add61ffda440495d596b287321dcc": {
      "model_module": "@jupyter-widgets/controls",
      "model_module_version": "1.5.0",
      "model_name": "SliderStyleModel",
      "state": {
       "description_width": ""
      }
     },
     "b25738623dae4d0e9a153041dcc795b9": {
      "model_module": "jupyter-matplotlib",
      "model_module_version": "^0.7.2",
      "model_name": "MPLCanvasModel",
      "state": {
       "_figure_label": "Figure 13",
       "_height": 396,
       "_width": 1100,
       "header_visible": false,
       "layout": "IPY_MODEL_becbc52b02684057b7a5e24af8e22c47",
       "resizable": false,
       "toolbar": "IPY_MODEL_f463f712c7ce48c7bee98eafd1a261b7",
       "toolbar_position": "left",
       "toolbar_visible": false
      }
     },
     "b2577651a9664342937534dd49136c64": {
      "model_module": "@jupyter-widgets/controls",
      "model_module_version": "1.5.0",
      "model_name": "DescriptionStyleModel",
      "state": {
       "description_width": ""
      }
     },
     "b2e1de58f8c74530a698fd0c663c0b8f": {
      "model_module": "@jupyter-widgets/controls",
      "model_module_version": "1.5.0",
      "model_name": "FloatSliderModel",
      "state": {
       "description": "Exposure",
       "layout": "IPY_MODEL_76fa89ba98bb41d9a4760167dc0b7a64",
       "max": 8,
       "min": -8,
       "step": 0.1,
       "style": "IPY_MODEL_f8a3dbbfde8d4b6bb26e982b55d9f685"
      }
     },
     "b2fc197b345d40cb83f78d63613e58a0": {
      "model_module": "@jupyter-widgets/base",
      "model_module_version": "1.2.0",
      "model_name": "LayoutModel",
      "state": {}
     },
     "b2fc6e441e994719a2e82b27225b093a": {
      "model_module": "@jupyter-widgets/controls",
      "model_module_version": "1.5.0",
      "model_name": "HBoxModel",
      "state": {
       "children": [
        "IPY_MODEL_8256394a15924dbd915f9a9efab92d9f",
        "IPY_MODEL_25ecfcd0b0084f619b8594257493da0d",
        "IPY_MODEL_c75f3585a27841dd8f9fb66172832ed6"
       ],
       "layout": "IPY_MODEL_5b87d3b2c44e426388aa0def53640adc"
      }
     },
     "b305c0c28ae440d99c14e280d405f43c": {
      "model_module": "@jupyter-widgets/controls",
      "model_module_version": "1.5.0",
      "model_name": "HBoxModel",
      "state": {
       "children": [
        "IPY_MODEL_01c15ceedad54a53b29395dab1db3da2",
        "IPY_MODEL_f53f3db3562b46058a1cc12a0dd005fe",
        "IPY_MODEL_83de532d675b405c856ef79a83806cd9",
        "IPY_MODEL_4e28077ba6e0460092a84d2bceb967da"
       ],
       "layout": "IPY_MODEL_36099b42e5214ba297101fb770c6d95d"
      }
     },
     "b36dcb79d509405b93719d81a9c07bdd": {
      "model_module": "@jupyter-widgets/controls",
      "model_module_version": "1.5.0",
      "model_name": "HBoxModel",
      "state": {
       "children": [
        "IPY_MODEL_e31ea1a65b3e4981b40bd10ac34e7e5c",
        "IPY_MODEL_1f2640239d8e4972abf9291eea5a559a"
       ],
       "layout": "IPY_MODEL_4a7eb4e334fa456eadfaacaa68bea9c4"
      }
     },
     "b37a8f3cdaf24c8c8808a60941d9cab3": {
      "model_module": "@jupyter-widgets/controls",
      "model_module_version": "1.5.0",
      "model_name": "ButtonStyleModel",
      "state": {}
     },
     "b3cd1bcde65b445086c60a3aa7b86a1e": {
      "model_module": "@jupyter-widgets/base",
      "model_module_version": "1.2.0",
      "model_name": "LayoutModel",
      "state": {}
     },
     "b3df3ae99fde4c1189145d9f5ab64bfc": {
      "model_module": "@jupyter-widgets/controls",
      "model_module_version": "1.5.0",
      "model_name": "DescriptionStyleModel",
      "state": {
       "description_width": ""
      }
     },
     "b3f5890bae48444c9fc4a568676cb50a": {
      "model_module": "@jupyter-widgets/controls",
      "model_module_version": "1.5.0",
      "model_name": "ButtonStyleModel",
      "state": {}
     },
     "b425fd925fb441b792dab75754c15a0b": {
      "model_module": "@jupyter-widgets/controls",
      "model_module_version": "1.5.0",
      "model_name": "SliderStyleModel",
      "state": {
       "description_width": ""
      }
     },
     "b42886f1d15343a8bca073b927da7c58": {
      "model_module": "@jupyter-widgets/base",
      "model_module_version": "1.2.0",
      "model_name": "LayoutModel",
      "state": {}
     },
     "b44180c46fdb4d30b6cf26927bce7f0e": {
      "model_module": "@jupyter-widgets/controls",
      "model_module_version": "1.5.0",
      "model_name": "FloatSliderModel",
      "state": {
       "description": "Exposure",
       "layout": "IPY_MODEL_5a0059746e3741548d48f9a2a70b2fd5",
       "max": 8,
       "min": -8,
       "step": 0.1,
       "style": "IPY_MODEL_c19a4cfc143640419dfe24420ed3d38f"
      }
     },
     "b4472d20391e4e788e3d4a98247b6ec0": {
      "model_module": "@jupyter-widgets/controls",
      "model_module_version": "1.5.0",
      "model_name": "SliderStyleModel",
      "state": {
       "description_width": ""
      }
     },
     "b457fafc66344f0b9484c6940906ec37": {
      "model_module": "@jupyter-widgets/base",
      "model_module_version": "1.2.0",
      "model_name": "LayoutModel",
      "state": {
       "border": "solid 4px #222",
       "margin": "4px",
       "padding": "0"
      }
     },
     "b49c76901dc24e5484d3b3ea62635d87": {
      "model_module": "@jupyter-widgets/controls",
      "model_module_version": "1.5.0",
      "model_name": "DropdownModel",
      "state": {
       "_options_labels": [
        "sRGB",
        "ACES (sRGB)"
       ],
       "description": "View Transform:",
       "index": 0,
       "layout": "IPY_MODEL_f6afebc38d004b8989eeb7b110470e4b",
       "style": "IPY_MODEL_b8139eb9e4fa401c9c662344b7910ffe"
      }
     },
     "b4a8a42e918f406c8cfb4eb662ba554a": {
      "model_module": "@jupyter-widgets/controls",
      "model_module_version": "1.5.0",
      "model_name": "ButtonModel",
      "state": {
       "description": "Reset Protected Area",
       "layout": "IPY_MODEL_4cf007a38efa482fb32492c71e882461",
       "style": "IPY_MODEL_02fc1c675c5c457db08b49112d3b3930"
      }
     },
     "b4c2bb4daa634ee5ad8d37cbc472afaf": {
      "model_module": "@jupyter-widgets/controls",
      "model_module_version": "1.5.0",
      "model_name": "SliderStyleModel",
      "state": {
       "description_width": ""
      }
     },
     "b4d99907dff84a879b6aa90bc81c69b1": {
      "model_module": "@jupyter-widgets/controls",
      "model_module_version": "1.5.0",
      "model_name": "FloatSliderModel",
      "state": {
       "description": "Exposure",
       "layout": "IPY_MODEL_6e58b6288ea447948c2a83a3ee27bd50",
       "max": 8,
       "min": -8,
       "step": 0.1,
       "style": "IPY_MODEL_774c0456fd164ff6bf770786aa8a0406"
      }
     },
     "b4f4346a96924199b92d8b1f7df8d46d": {
      "model_module": "@jupyter-widgets/controls",
      "model_module_version": "1.5.0",
      "model_name": "TabModel",
      "state": {
       "_titles": {
        "0": "Global Controls",
        "1": "Viewer Controls",
        "2": "Protected Area Controls",
        "3": "Saturation Controls",
        "4": "Hue Controls"
       },
       "children": [
        "IPY_MODEL_3a8caa91a64244eb9918d3c911f30dc5",
        "IPY_MODEL_f2848cf721754b16906154f1b17cf3d4",
        "IPY_MODEL_02d918ff739f4581977e7b29312a19aa",
        "IPY_MODEL_ef4991e5793149a1b78c7a394e962298",
        "IPY_MODEL_3a96f618011a49f589338eac510325f8"
       ],
       "layout": "IPY_MODEL_7c43ff71e15b47bb9435c4d39ef825d8"
      }
     },
     "b4f607240ad445c7ae1bc7bfbe4fd235": {
      "model_module": "@jupyter-widgets/controls",
      "model_module_version": "1.5.0",
      "model_name": "ButtonModel",
      "state": {
       "description": "Export Image",
       "layout": "IPY_MODEL_cbf4ec63efaf4b4b8b233ca327fb37f3",
       "style": "IPY_MODEL_1de065326bda4de0bffc151353978231"
      }
     },
     "b50ab9e260ab418398ead84b69e26f77": {
      "model_module": "@jupyter-widgets/base",
      "model_module_version": "1.2.0",
      "model_name": "LayoutModel",
      "state": {}
     },
     "b52742d50b654539a83be8bee603dca2": {
      "model_module": "@jupyter-widgets/controls",
      "model_module_version": "1.5.0",
      "model_name": "ButtonStyleModel",
      "state": {}
     },
     "b52ee18aad7e456585523a6b95601e50": {
      "model_module": "@jupyter-widgets/base",
      "model_module_version": "1.2.0",
      "model_name": "LayoutModel",
      "state": {}
     },
     "b530511784454fb58d514ca4c87e5c70": {
      "model_module": "@jupyter-widgets/controls",
      "model_module_version": "1.5.0",
      "model_name": "DescriptionStyleModel",
      "state": {
       "description_width": ""
      }
     },
     "b5740cd7ed1743d097fb0437aa19db2e": {
      "model_module": "@jupyter-widgets/base",
      "model_module_version": "1.2.0",
      "model_name": "LayoutModel",
      "state": {}
     },
     "b58fe8cea1c3499ab682a1852def90d7": {
      "model_module": "@jupyter-widgets/controls",
      "model_module_version": "1.5.0",
      "model_name": "CheckboxModel",
      "state": {
       "description": "Disable Medicina",
       "disabled": false,
       "layout": "IPY_MODEL_818c8ce988094caeaaa35ea2d7e2186a",
       "style": "IPY_MODEL_bd1d7f40fd2240e69d32c176d567ab89",
       "value": false
      }
     },
     "b5966f9d9b56476c864cadacffc8153b": {
      "model_module": "@jupyter-widgets/base",
      "model_module_version": "1.2.0",
      "model_name": "LayoutModel",
      "state": {}
     },
     "b59c4b4f6022400db0765aed4f51321a": {
      "model_module": "@jupyter-widgets/controls",
      "model_module_version": "1.5.0",
      "model_name": "DescriptionStyleModel",
      "state": {
       "description_width": ""
      }
     },
     "b5bce040d4cd46d59ca4d2fc88cf6d19": {
      "model_module": "@jupyter-widgets/controls",
      "model_module_version": "1.5.0",
      "model_name": "HBoxModel",
      "state": {
       "children": [
        "IPY_MODEL_ebd1dde73a684f559784a5ff05574a1d",
        "IPY_MODEL_c583205b63334051a56d7624f06fc2ec",
        "IPY_MODEL_21bf259a64a74275aeb207826da911db"
       ],
       "layout": "IPY_MODEL_10637d2737e046debfc04b986c19ed00"
      }
     },
     "b5c2023497df4c16840d0b68121b2ee6": {
      "model_module": "@jupyter-widgets/controls",
      "model_module_version": "1.5.0",
      "model_name": "FloatSliderModel",
      "state": {
       "description": "135°",
       "layout": "IPY_MODEL_3cc5006929c14529b109401ad9d59cd6",
       "max": 1,
       "min": -1,
       "step": 0.01,
       "style": "IPY_MODEL_84563f1c963b496f91a0b63f576029eb"
      }
     },
     "b5c79c6f19af46119797e566489f52a0": {
      "model_module": "jupyter-matplotlib",
      "model_module_version": "^0.7.2",
      "model_name": "ToolbarModel",
      "state": {
       "layout": "IPY_MODEL_01ee3fd69edc4a55adbcdefe87d897d9",
       "toolitems": [
        [
         "Home",
         "Reset original view",
         "home",
         "home"
        ],
        [
         "Back",
         "Back to previous view",
         "arrow-left",
         "back"
        ],
        [
         "Forward",
         "Forward to next view",
         "arrow-right",
         "forward"
        ],
        [
         "Pan",
         "Pan axes with left mouse, zoom with right",
         "arrows",
         "pan"
        ],
        [
         "Zoom",
         "Zoom to rectangle",
         "square-o",
         "zoom"
        ],
        [
         "Download",
         "Download plot",
         "floppy-o",
         "save_figure"
        ]
       ]
      }
     },
     "b5e37b1d5a57437ab78f9a995684b636": {
      "model_module": "@jupyter-widgets/base",
      "model_module_version": "1.2.0",
      "model_name": "LayoutModel",
      "state": {}
     },
     "b5fe0e0dad2647bd884c6c6dc5334575": {
      "model_module": "@jupyter-widgets/controls",
      "model_module_version": "1.5.0",
      "model_name": "ButtonStyleModel",
      "state": {}
     },
     "b60a71d448b54c94bdbf6228c8b4c68c": {
      "model_module": "@jupyter-widgets/controls",
      "model_module_version": "1.5.0",
      "model_name": "HBoxModel",
      "state": {
       "children": [
        "IPY_MODEL_22bcd9a9be5b4001806f54f47b9de9f2",
        "IPY_MODEL_e53339db42be44aa8c9838ed402b2ddd",
        "IPY_MODEL_db48c796fda14c9e818bc3517ca5522a",
        "IPY_MODEL_a5f143f8d0f64ee2bc5c15acfca76568"
       ],
       "layout": "IPY_MODEL_56074997322643d69f4d950caa70afe8"
      }
     },
     "b61b7ef4b15f451d9d294ebe1cb58fa4": {
      "model_module": "@jupyter-widgets/base",
      "model_module_version": "1.2.0",
      "model_name": "LayoutModel",
      "state": {}
     },
     "b63892dffec44eae8f7801accbbc5764": {
      "model_module": "@jupyter-widgets/base",
      "model_module_version": "1.2.0",
      "model_name": "LayoutModel",
      "state": {}
     },
     "b64040f450734e4a9b33e86ceca3f87a": {
      "model_module": "@jupyter-widgets/base",
      "model_module_version": "1.2.0",
      "model_name": "LayoutModel",
      "state": {}
     },
     "b69521a99f974b949b17c0ec7f43c55b": {
      "model_module": "@jupyter-widgets/base",
      "model_module_version": "1.2.0",
      "model_name": "LayoutModel",
      "state": {}
     },
     "b6ab7b499ecf489a8997f61fdb6c39ce": {
      "model_module": "@jupyter-widgets/controls",
      "model_module_version": "1.5.0",
      "model_name": "HBoxModel",
      "state": {
       "children": [
        "IPY_MODEL_f773806d5c5c4eac9e42c4ecd9ed95ff",
        "IPY_MODEL_98b2d8454f1244c983e947560de57fa3",
        "IPY_MODEL_0f3092d11d614f748d8241e9ecea7046"
       ],
       "layout": "IPY_MODEL_5e5bcb8c2b59436b8e8acf1d5ab6a131"
      }
     },
     "b6df7c4d319845c482a927eb84f66dbb": {
      "model_module": "@jupyter-widgets/base",
      "model_module_version": "1.2.0",
      "model_name": "LayoutModel",
      "state": {}
     },
     "b7253af1455a46429eb50352996fdee0": {
      "model_module": "@jupyter-widgets/base",
      "model_module_version": "1.2.0",
      "model_name": "LayoutModel",
      "state": {}
     },
     "b74a15a79af34cdc93008c1f01de6cf6": {
      "model_module": "@jupyter-widgets/controls",
      "model_module_version": "1.5.0",
      "model_name": "FloatSliderModel",
      "state": {
       "description": "Compression Threshold",
       "layout": "IPY_MODEL_9672434c32764b3fa8f5457970c2e57c",
       "max": 1,
       "step": 0.01,
       "style": "IPY_MODEL_448a2a5eeb914106a2d0878a63ab0708",
       "value": 0.8
      }
     },
     "b7546f6933664a7f85d90f92f12092cf": {
      "model_module": "@jupyter-widgets/base",
      "model_module_version": "1.2.0",
      "model_name": "LayoutModel",
      "state": {}
     },
     "b755aebb38b64501abcda500b6a3a2f0": {
      "model_module": "@jupyter-widgets/base",
      "model_module_version": "1.2.0",
      "model_name": "LayoutModel",
      "state": {}
     },
     "b767d316b8e647eda401373ef7d32eb8": {
      "model_module": "@jupyter-widgets/controls",
      "model_module_version": "1.5.0",
      "model_name": "ButtonModel",
      "state": {
       "description": "Save Figure",
       "layout": "IPY_MODEL_0ba27cb723e8493dbf5f4ccef487c55a",
       "style": "IPY_MODEL_a255101e8bc84a28876123d130f5aa19"
      }
     },
     "b7b4bc4d9a124816a091a2e6e8fc8e9c": {
      "model_module": "@jupyter-widgets/base",
      "model_module_version": "1.2.0",
      "model_name": "LayoutModel",
      "state": {}
     },
     "b7b58171805145ba8feee56e882a2a4e": {
      "model_module": "@jupyter-widgets/controls",
      "model_module_version": "1.5.0",
      "model_name": "ButtonModel",
      "state": {
       "description": "Export Image",
       "layout": "IPY_MODEL_afd10bc6498541c28d862c46b853d4d6",
       "style": "IPY_MODEL_f245a4fe23a3491583befff19fd7a658"
      }
     },
     "b7cc47053e2c4a7099be6a3e28efaf26": {
      "model_module": "@jupyter-widgets/controls",
      "model_module_version": "1.5.0",
      "model_name": "ButtonStyleModel",
      "state": {}
     },
     "b7e370cd5cf44014ab66f22bdb9f2364": {
      "model_module": "@jupyter-widgets/controls",
      "model_module_version": "1.5.0",
      "model_name": "FloatSliderModel",
      "state": {
       "description": "180°",
       "layout": "IPY_MODEL_dd1825afb7d14362bd1ec2f4b2006758",
       "max": 1,
       "min": -1,
       "step": 0.01,
       "style": "IPY_MODEL_91e39e9fa69e45c9849d60fd1b31214d"
      }
     },
     "b7e3af3fb3f84502907668238aba625e": {
      "model_module": "@jupyter-widgets/controls",
      "model_module_version": "1.5.0",
      "model_name": "DescriptionStyleModel",
      "state": {
       "description_width": ""
      }
     },
     "b80d58e4a8454eb38a82ba1dd0801fb6": {
      "model_module": "@jupyter-widgets/controls",
      "model_module_version": "1.5.0",
      "model_name": "ButtonModel",
      "state": {
       "description": "Reset Hue Controls",
       "layout": "IPY_MODEL_0817289aa39a4322879571b62e25c5d4",
       "style": "IPY_MODEL_b5fe0e0dad2647bd884c6c6dc5334575"
      }
     },
     "b8139eb9e4fa401c9c662344b7910ffe": {
      "model_module": "@jupyter-widgets/controls",
      "model_module_version": "1.5.0",
      "model_name": "DescriptionStyleModel",
      "state": {
       "description_width": ""
      }
     },
     "b85b6aae437044be943efb8e471f60a7": {
      "model_module": "@jupyter-widgets/controls",
      "model_module_version": "1.5.0",
      "model_name": "DescriptionStyleModel",
      "state": {
       "description_width": ""
      }
     },
     "b87b251cabee4798be449122e00503fd": {
      "model_module": "@jupyter-widgets/base",
      "model_module_version": "1.2.0",
      "model_name": "LayoutModel",
      "state": {}
     },
     "b8816ef904c84254a4a81a0e08fbef45": {
      "model_module": "@jupyter-widgets/controls",
      "model_module_version": "1.5.0",
      "model_name": "FloatSliderModel",
      "state": {
       "description": "180°",
       "layout": "IPY_MODEL_00a340f84bfb45bb83a2ba23c7a3755a",
       "max": 1,
       "min": -1,
       "step": 0.01,
       "style": "IPY_MODEL_1c84543fb6a14200a50ffaf281e26ff5"
      }
     },
     "b90cd54c3b58473c9131267c8a27d0d0": {
      "model_module": "@jupyter-widgets/base",
      "model_module_version": "1.2.0",
      "model_name": "LayoutModel",
      "state": {}
     },
     "b91e3078e31c4b0e98c37b5fb5cad3e1": {
      "model_module": "jupyter-matplotlib",
      "model_module_version": "^0.7.2",
      "model_name": "ToolbarModel",
      "state": {
       "layout": "IPY_MODEL_20237b52e2054198ba0f624eafa13965",
       "toolitems": [
        [
         "Home",
         "Reset original view",
         "home",
         "home"
        ],
        [
         "Back",
         "Back to previous view",
         "arrow-left",
         "back"
        ],
        [
         "Forward",
         "Forward to next view",
         "arrow-right",
         "forward"
        ],
        [
         "Pan",
         "Pan axes with left mouse, zoom with right",
         "arrows",
         "pan"
        ],
        [
         "Zoom",
         "Zoom to rectangle",
         "square-o",
         "zoom"
        ],
        [
         "Download",
         "Download plot",
         "floppy-o",
         "save_figure"
        ]
       ]
      }
     },
     "b9417abf68c1450b9731bdeddbc27172": {
      "model_module": "@jupyter-widgets/base",
      "model_module_version": "1.2.0",
      "model_name": "LayoutModel",
      "state": {}
     },
     "b95f3163b49e4af8acaeb8635fcc4641": {
      "model_module": "@jupyter-widgets/controls",
      "model_module_version": "1.5.0",
      "model_name": "ButtonStyleModel",
      "state": {}
     },
     "b976ac54b5e64668bd45c4836d75f1d0": {
      "model_module": "@jupyter-widgets/controls",
      "model_module_version": "1.5.0",
      "model_name": "FloatSliderModel",
      "state": {
       "description": "Protected Area Threshold",
       "layout": "IPY_MODEL_9abaa1c10a164082bf441376d96f586e",
       "max": 1,
       "step": 0.01,
       "style": "IPY_MODEL_de497b2662274418a86510ab02c6cfa6",
       "value": 0.7
      }
     },
     "b981a0ce13624d4194662c3dc76e9f52": {
      "model_module": "@jupyter-widgets/base",
      "model_module_version": "1.2.0",
      "model_name": "LayoutModel",
      "state": {}
     },
     "b9891071d9314c71970aec5c99007bb2": {
      "model_module": "@jupyter-widgets/base",
      "model_module_version": "1.2.0",
      "model_name": "LayoutModel",
      "state": {}
     },
     "b9a60585b2dd483089f49c71bebba262": {
      "model_module": "jupyter-matplotlib",
      "model_module_version": "^0.7.2",
      "model_name": "MPLCanvasModel",
      "state": {
       "_figure_label": "Figure 20",
       "_height": 550,
       "_width": 1100,
       "header_visible": false,
       "layout": "IPY_MODEL_c93cd9139ca2420f92ea0afe3d70db28",
       "resizable": false,
       "toolbar": "IPY_MODEL_2fa1ad07e8e84af29d8e848a3a22f6a4",
       "toolbar_position": "left",
       "toolbar_visible": false
      }
     },
     "b9c9ca369383408fba0b478d2a950acc": {
      "model_module": "@jupyter-widgets/controls",
      "model_module_version": "1.5.0",
      "model_name": "FloatSliderModel",
      "state": {
       "description": "45°",
       "layout": "IPY_MODEL_972f7bdafadd43e6907ff7ec20469bdd",
       "max": 1,
       "min": -1,
       "step": 0.01,
       "style": "IPY_MODEL_ca48b092576b4550a8b454e05612c2bf"
      }
     },
     "b9e28c00c42c4ead8530f818d0ee3743": {
      "model_module": "@jupyter-widgets/base",
      "model_module_version": "1.2.0",
      "model_name": "LayoutModel",
      "state": {}
     },
     "ba1191c3e1b84cd4b06834130f7ac706": {
      "model_module": "@jupyter-widgets/base",
      "model_module_version": "1.2.0",
      "model_name": "LayoutModel",
      "state": {}
     },
     "ba34834f7cb74d6ba5251c0d7cbf8ebc": {
      "model_module": "@jupyter-widgets/base",
      "model_module_version": "1.2.0",
      "model_name": "LayoutModel",
      "state": {}
     },
     "bad16d675de044a98be13d6c211a9b6d": {
      "model_module": "@jupyter-widgets/base",
      "model_module_version": "1.2.0",
      "model_name": "LayoutModel",
      "state": {}
     },
     "badc203382fb41c1b1c42e4d67d8d9f9": {
      "model_module": "@jupyter-widgets/controls",
      "model_module_version": "1.5.0",
      "model_name": "ButtonModel",
      "state": {
       "description": "Save Figure",
       "layout": "IPY_MODEL_6c474e72f6354fe2a26b07786903ed94",
       "style": "IPY_MODEL_bb09ef460f5c44198bdaf78444d25d72"
      }
     },
     "bafbf6211d844eb4ae67a20bb527c26b": {
      "model_module": "@jupyter-widgets/base",
      "model_module_version": "1.2.0",
      "model_name": "LayoutModel",
      "state": {}
     },
     "bb09ef460f5c44198bdaf78444d25d72": {
      "model_module": "@jupyter-widgets/controls",
      "model_module_version": "1.5.0",
      "model_name": "ButtonStyleModel",
      "state": {}
     },
     "bb4b8653e348472a908bb15d23362ed7": {
      "model_module": "@jupyter-widgets/controls",
      "model_module_version": "1.5.0",
      "model_name": "ButtonModel",
      "state": {
       "description": "Reset Exposure",
       "layout": "IPY_MODEL_4c0d47791057413e852963542055a9b8",
       "style": "IPY_MODEL_27f6a2e98c094be6b90a9cf98f5e3925"
      }
     },
     "bb4c1473e5c74a4f9f76b06165408a55": {
      "model_module": "@jupyter-widgets/controls",
      "model_module_version": "1.5.0",
      "model_name": "ButtonModel",
      "state": {
       "description": "Save Figure",
       "layout": "IPY_MODEL_a6720b24f2034e09b4d8b22ce907204b",
       "style": "IPY_MODEL_03e392cf5f5c4538b60121cc7a29e9ec"
      }
     },
     "bbaabd7b8d7e4211a886b7291e744b12": {
      "model_module": "@jupyter-widgets/controls",
      "model_module_version": "1.5.0",
      "model_name": "TabModel",
      "state": {
       "_titles": {
        "0": "Global Controls",
        "1": "Viewer Controls",
        "2": "Protected Area Controls",
        "3": "Saturation Controls",
        "4": "Hue Controls"
       },
       "children": [
        "IPY_MODEL_dc51d440c99948899c70f7f72ce7ee85",
        "IPY_MODEL_402acad0827144ff87d651d782ec3629",
        "IPY_MODEL_288136821a8c4644afb1f587c8b5b808",
        "IPY_MODEL_5f1e2f1c691041879a622a26881944a9",
        "IPY_MODEL_4dd6e356ab814d1ba0817a553f6f6530"
       ],
       "layout": "IPY_MODEL_4a0add594ba94917acdec69d0d8b0b83"
      }
     },
     "bbb43166b5c54059b762875efef45a28": {
      "model_module": "@jupyter-widgets/controls",
      "model_module_version": "1.5.0",
      "model_name": "TabModel",
      "state": {
       "_titles": {
        "0": "Global Controls",
        "1": "Viewer Controls",
        "2": "Protected Area Controls",
        "3": "Saturation Controls",
        "4": "Hue Controls"
       },
       "children": [
        "IPY_MODEL_8c48662e9fba45ddad774cabfe2bb3f7",
        "IPY_MODEL_980a74de42364581bbe9ad2fecadcd31",
        "IPY_MODEL_46e77eb91e9b446b8ffa016e73b9b0ca",
        "IPY_MODEL_deacee2496054fab984c5dbffe8c60e2",
        "IPY_MODEL_f735f728bed34fe39431a1846e1fb6ca"
       ],
       "layout": "IPY_MODEL_c048e1b766744305b9298f1cb9d0e262"
      }
     },
     "bbd23e606b084dd1a39de906bfb77586": {
      "model_module": "@jupyter-widgets/controls",
      "model_module_version": "1.5.0",
      "model_name": "FloatSliderModel",
      "state": {
       "description": "270°",
       "layout": "IPY_MODEL_79daad25ca2d4d019c1695e19d80e241",
       "max": 1,
       "min": -1,
       "step": 0.01,
       "style": "IPY_MODEL_772c347140f2436b9c91397693da525c"
      }
     },
     "bc4e5e32f21a4f499dc02eb22172e582": {
      "model_module": "@jupyter-widgets/controls",
      "model_module_version": "1.5.0",
      "model_name": "ButtonModel",
      "state": {
       "description": "Reset Saturation Controls",
       "layout": "IPY_MODEL_73d916ec7c47446ea77e97f523226eff",
       "style": "IPY_MODEL_ab634be3d7f6409a8cb7850e72659854"
      }
     },
     "bc63e96c66d04d01bdf3dd5bea9ebd1d": {
      "model_module": "@jupyter-widgets/base",
      "model_module_version": "1.2.0",
      "model_name": "LayoutModel",
      "state": {}
     },
     "bcdc7c052fb24930b663adeef218f809": {
      "model_module": "@jupyter-widgets/controls",
      "model_module_version": "1.5.0",
      "model_name": "CheckboxModel",
      "state": {
       "description": "Show Out-of-Gamut",
       "disabled": false,
       "layout": "IPY_MODEL_09aa33f7aaa94e519dd8af00e530ea9d",
       "style": "IPY_MODEL_c9553632661d49739be84d7e7c59f778",
       "value": false
      }
     },
     "bd09322d20514f1193d4698ec98a8dea": {
      "model_module": "@jupyter-widgets/controls",
      "model_module_version": "1.5.0",
      "model_name": "DescriptionStyleModel",
      "state": {
       "description_width": ""
      }
     },
     "bd0d2f3c17bc4d019875d22a328bae0e": {
      "model_module": "@jupyter-widgets/controls",
      "model_module_version": "1.5.0",
      "model_name": "HBoxModel",
      "state": {
       "children": [
        "IPY_MODEL_80f0f60617744cba9f70661c7a560cac",
        "IPY_MODEL_d39cad07cdac472a8c9da1b32a2c1682",
        "IPY_MODEL_70ec6b4ca21f4765931fea5ff5daf6bb",
        "IPY_MODEL_5910d5c76ec849d499bfe613a84150f7"
       ],
       "layout": "IPY_MODEL_223eec53af6a48b6aef7d23c0627ef7f"
      }
     },
     "bd14f2e6b01c455abfd839d28f0ec309": {
      "model_module": "@jupyter-widgets/controls",
      "model_module_version": "1.5.0",
      "model_name": "FloatSliderModel",
      "state": {
       "description": "Compression Threshold",
       "layout": "IPY_MODEL_959b9a43abf542a3900fb9ac55c35367",
       "max": 1,
       "step": 0.01,
       "style": "IPY_MODEL_b1da3000b2a149a0b4903ebdba8982a2",
       "value": 0.8
      }
     },
     "bd1d7f40fd2240e69d32c176d567ab89": {
      "model_module": "@jupyter-widgets/controls",
      "model_module_version": "1.5.0",
      "model_name": "DescriptionStyleModel",
      "state": {
       "description_width": ""
      }
     },
     "bd8ee8aedbfb4c31921d5dabbb6c4b0e": {
      "model_module": "@jupyter-widgets/output",
      "model_module_version": "1.0.0",
      "model_name": "OutputModel",
      "state": {
       "layout": "IPY_MODEL_8616fbab3a974fcbb9ddd5b4e0a5b58f",
       "outputs": [
        {
         "data": {
          "application/vnd.jupyter.widget-view+json": {
           "model_id": "82ace9884a3443cfaddbe16d21733a55",
           "version_major": 2,
           "version_minor": 0
          },
          "text/plain": "Canvas(toolbar=Toolbar(toolitems=[('Home', 'Reset original view', 'home', 'home'), ('Back', 'Back to previous …"
         },
         "metadata": {},
         "output_type": "display_data"
        }
       ]
      }
     },
     "bdacaccffcd645d2a4cbde6d9477bad6": {
      "model_module": "@jupyter-widgets/controls",
      "model_module_version": "1.5.0",
      "model_name": "SliderStyleModel",
      "state": {
       "description_width": ""
      }
     },
     "bdb50f4f65754ebf98ddf43aedc51876": {
      "model_module": "@jupyter-widgets/controls",
      "model_module_version": "1.5.0",
      "model_name": "DescriptionStyleModel",
      "state": {
       "description_width": ""
      }
     },
     "bdcf6e1a1d5a4f0ba52aebc1af68e397": {
      "model_module": "@jupyter-widgets/base",
      "model_module_version": "1.2.0",
      "model_name": "LayoutModel",
      "state": {
       "border": "solid 4px #222",
       "margin": "4px",
       "padding": "0"
      }
     },
     "bdd66b8a1d8f4bba9ea770493f228613": {
      "model_module": "@jupyter-widgets/controls",
      "model_module_version": "1.5.0",
      "model_name": "FloatSliderModel",
      "state": {
       "description": "0°",
       "layout": "IPY_MODEL_447fcd9c0f974bc9be12981f8cdef92d",
       "max": 1,
       "min": -1,
       "step": 0.01,
       "style": "IPY_MODEL_77aedb88787247aa81e1f7348e267929"
      }
     },
     "be57e3010c3342789a0b2b3770808949": {
      "model_module": "@jupyter-widgets/controls",
      "model_module_version": "1.5.0",
      "model_name": "DescriptionStyleModel",
      "state": {
       "description_width": ""
      }
     },
     "be746ed3ea5f4cb58ed8736d43531cad": {
      "model_module": "@jupyter-widgets/controls",
      "model_module_version": "1.5.0",
      "model_name": "ButtonStyleModel",
      "state": {}
     },
     "be78a6d952ba496dbdf2ebf3b9d75187": {
      "model_module": "@jupyter-widgets/base",
      "model_module_version": "1.2.0",
      "model_name": "LayoutModel",
      "state": {}
     },
     "be8e11756a594d34a54cd37bb3dd02a0": {
      "model_module": "@jupyter-widgets/controls",
      "model_module_version": "1.5.0",
      "model_name": "TabModel",
      "state": {
       "_titles": {
        "0": "Global Controls",
        "1": "Viewer Controls",
        "2": "Compression Controls"
       },
       "children": [
        "IPY_MODEL_97d2f162a1cb49669e620c1f808e783b",
        "IPY_MODEL_7d65e028097249c68117f2d0b1c9f513",
        "IPY_MODEL_f18449bc702046529cf7a30e8253387e"
       ],
       "layout": "IPY_MODEL_5ec32555d8344bdebcfc69bf0e65ff1d"
      }
     },
     "be98f4de54534120bce43399c3154446": {
      "model_module": "@jupyter-widgets/base",
      "model_module_version": "1.2.0",
      "model_name": "LayoutModel",
      "state": {}
     },
     "bea07110a5e64eb0b18783c875f8dec9": {
      "model_module": "@jupyter-widgets/base",
      "model_module_version": "1.2.0",
      "model_name": "LayoutModel",
      "state": {}
     },
     "beb741d0f4b9415481d0a0b615d43790": {
      "model_module": "@jupyter-widgets/controls",
      "model_module_version": "1.5.0",
      "model_name": "HBoxModel",
      "state": {
       "children": [
        "IPY_MODEL_11fef061d0e844519da6bac36355bf4a",
        "IPY_MODEL_022385da9f9e425ca7152879df8875d0",
        "IPY_MODEL_6fda55b8109d46348082c35d14a68390",
        "IPY_MODEL_8a8981f14dd146538c41a16e63330714"
       ],
       "layout": "IPY_MODEL_7af4f5ce5a764253b7ab36ab29455c17"
      }
     },
     "becbc52b02684057b7a5e24af8e22c47": {
      "model_module": "@jupyter-widgets/base",
      "model_module_version": "1.2.0",
      "model_name": "LayoutModel",
      "state": {}
     },
     "bf08b0c2182b4231a44494ebd85c2da7": {
      "model_module": "@jupyter-widgets/controls",
      "model_module_version": "1.5.0",
      "model_name": "FloatSliderModel",
      "state": {
       "description": "Compression Threshold",
       "layout": "IPY_MODEL_171fc90bcd5d4720a7915f0b6d6e06fc",
       "max": 1,
       "step": 0.01,
       "style": "IPY_MODEL_a04a85e6533945698efe9fa2730ac491",
       "value": 0.8
      }
     },
     "bf0a2882bb494d9bbbc4a0314b853104": {
      "model_module": "@jupyter-widgets/controls",
      "model_module_version": "1.5.0",
      "model_name": "SliderStyleModel",
      "state": {
       "description_width": ""
      }
     },
     "bf11b53c6f434c66bfc2032eccf47e48": {
      "model_module": "@jupyter-widgets/controls",
      "model_module_version": "1.5.0",
      "model_name": "FloatSliderModel",
      "state": {
       "description": "135°",
       "layout": "IPY_MODEL_32a2af6cb4d947b0b7847c76d4102e2d",
       "max": 1,
       "min": -1,
       "step": 0.01,
       "style": "IPY_MODEL_cf632cdbce9b4afcacdac7757b622e1d"
      }
     },
     "bf486a10655649f0a55a20e863878214": {
      "model_module": "@jupyter-widgets/base",
      "model_module_version": "1.2.0",
      "model_name": "LayoutModel",
      "state": {}
     },
     "bf59a09dd6ee4bdfba35ea3e3cd622fc": {
      "model_module": "@jupyter-widgets/base",
      "model_module_version": "1.2.0",
      "model_name": "LayoutModel",
      "state": {}
     },
     "bf7c47aad1ff4e8da4221320cc9d76e4": {
      "model_module": "@jupyter-widgets/controls",
      "model_module_version": "1.5.0",
      "model_name": "VBoxModel",
      "state": {
       "children": [
        "IPY_MODEL_71341f105b904c02a2a37c25079aee67",
        "IPY_MODEL_f692d83ec6e94101a4ae40410c5e4e3a",
        "IPY_MODEL_9463b501ff4d4ab0b3f3091ede04a849"
       ],
       "layout": "IPY_MODEL_0a9c40afe29348afa996ab32274aa245"
      }
     },
     "bf97ed0e34ec42cc995800a1404b3f9a": {
      "model_module": "@jupyter-widgets/controls",
      "model_module_version": "1.5.0",
      "model_name": "ButtonModel",
      "state": {
       "description": "Export Image",
       "layout": "IPY_MODEL_31fd5bdea30b458b9f02a3dc71812e2c",
       "style": "IPY_MODEL_2b00dbb6d97b4e9b8d3182663b967f1e"
      }
     },
     "bfa9dbbd57c0457181c2b59f0ecf830d": {
      "model_module": "@jupyter-widgets/base",
      "model_module_version": "1.2.0",
      "model_name": "LayoutModel",
      "state": {}
     },
     "bfdc0de5d6c1488f858474c09238b216": {
      "model_module": "@jupyter-widgets/base",
      "model_module_version": "1.2.0",
      "model_name": "LayoutModel",
      "state": {}
     },
     "c011080f4cab4204a35c2ae3729c3b0a": {
      "model_module": "@jupyter-widgets/base",
      "model_module_version": "1.2.0",
      "model_name": "LayoutModel",
      "state": {}
     },
     "c035a6b64fa94f318ed443ce8520d121": {
      "model_module": "@jupyter-widgets/base",
      "model_module_version": "1.2.0",
      "model_name": "LayoutModel",
      "state": {}
     },
     "c037f24395f743a99f6de3fe324ffed3": {
      "model_module": "@jupyter-widgets/base",
      "model_module_version": "1.2.0",
      "model_name": "LayoutModel",
      "state": {}
     },
     "c048e1b766744305b9298f1cb9d0e262": {
      "model_module": "@jupyter-widgets/base",
      "model_module_version": "1.2.0",
      "model_name": "LayoutModel",
      "state": {
       "border": "solid 4px #222",
       "margin": "4px",
       "padding": "0"
      }
     },
     "c056400010b841da80ad99e4d5627943": {
      "model_module": "@jupyter-widgets/controls",
      "model_module_version": "1.5.0",
      "model_name": "FloatSliderModel",
      "state": {
       "description": "0°",
       "layout": "IPY_MODEL_ed124ebcffe149a0b6e91ea26f8d20d4",
       "max": 1,
       "min": -1,
       "step": 0.01,
       "style": "IPY_MODEL_286e1fd2dbeb49e29505048636bde029"
      }
     },
     "c0899037f4cc41beb85ddb0474a1ff9a": {
      "model_module": "@jupyter-widgets/base",
      "model_module_version": "1.2.0",
      "model_name": "LayoutModel",
      "state": {}
     },
     "c09fd84e2cb74995a81c285003f6651c": {
      "model_module": "@jupyter-widgets/controls",
      "model_module_version": "1.5.0",
      "model_name": "HBoxModel",
      "state": {
       "children": [
        "IPY_MODEL_2c7db1bcc60e48dea800a6b7eed2c96f",
        "IPY_MODEL_3c2e52a8fac947c5bf04e0b53a2bbfc6",
        "IPY_MODEL_20b488eb3af6404aa50b04fb7f80e3ce",
        "IPY_MODEL_1bd611da0f704f2c80698afeb4e1b2ef"
       ],
       "layout": "IPY_MODEL_e14df0cf13694e6a8805c61fe169520f"
      }
     },
     "c0a770d7dc824bcab546dd08912678bf": {
      "model_module": "@jupyter-widgets/base",
      "model_module_version": "1.2.0",
      "model_name": "LayoutModel",
      "state": {}
     },
     "c0c37119cd3349f788deb02852ac79da": {
      "model_module": "@jupyter-widgets/base",
      "model_module_version": "1.2.0",
      "model_name": "LayoutModel",
      "state": {
       "align_items": "stretch",
       "display": "flex",
       "flex_flow": "column",
       "width": "1128px"
      }
     },
     "c0d40f881fcd4155b6f01d7c5389a0e9": {
      "model_module": "@jupyter-widgets/controls",
      "model_module_version": "1.5.0",
      "model_name": "SliderStyleModel",
      "state": {
       "description_width": ""
      }
     },
     "c0e018541fac4385905cea9452ecceb7": {
      "model_module": "@jupyter-widgets/base",
      "model_module_version": "1.2.0",
      "model_name": "LayoutModel",
      "state": {}
     },
     "c1383220449646df85e857e1d053ace9": {
      "model_module": "jupyter-matplotlib",
      "model_module_version": "^0.7.2",
      "model_name": "ToolbarModel",
      "state": {
       "layout": "IPY_MODEL_2165d72f2dce4540ad678b33bbbdd01e",
       "toolitems": [
        [
         "Home",
         "Reset original view",
         "home",
         "home"
        ],
        [
         "Back",
         "Back to previous view",
         "arrow-left",
         "back"
        ],
        [
         "Forward",
         "Forward to next view",
         "arrow-right",
         "forward"
        ],
        [
         "Pan",
         "Pan axes with left mouse, zoom with right",
         "arrows",
         "pan"
        ],
        [
         "Zoom",
         "Zoom to rectangle",
         "square-o",
         "zoom"
        ],
        [
         "Download",
         "Download plot",
         "floppy-o",
         "save_figure"
        ]
       ]
      }
     },
     "c19a4cfc143640419dfe24420ed3d38f": {
      "model_module": "@jupyter-widgets/controls",
      "model_module_version": "1.5.0",
      "model_name": "SliderStyleModel",
      "state": {
       "description_width": ""
      }
     },
     "c1aa6748bd934098a459511dbc47537d": {
      "model_module": "@jupyter-widgets/base",
      "model_module_version": "1.2.0",
      "model_name": "LayoutModel",
      "state": {}
     },
     "c1c128b4610e428ab1071c6196a4108f": {
      "model_module": "@jupyter-widgets/base",
      "model_module_version": "1.2.0",
      "model_name": "LayoutModel",
      "state": {}
     },
     "c1d7f145f3b5419fb9acb9c71721de85": {
      "model_module": "@jupyter-widgets/base",
      "model_module_version": "1.2.0",
      "model_name": "LayoutModel",
      "state": {}
     },
     "c1e13826dfe34278a304fc999d4d7107": {
      "model_module": "@jupyter-widgets/base",
      "model_module_version": "1.2.0",
      "model_name": "LayoutModel",
      "state": {
       "border": "solid 4px #222",
       "margin": "4px",
       "padding": "0"
      }
     },
     "c1e3fbe52bc144ef91ee48686d908af3": {
      "model_module": "@jupyter-widgets/controls",
      "model_module_version": "1.5.0",
      "model_name": "SliderStyleModel",
      "state": {
       "description_width": ""
      }
     },
     "c1eac173382c4ec9934865d5e09ea984": {
      "model_module": "@jupyter-widgets/controls",
      "model_module_version": "1.5.0",
      "model_name": "ButtonStyleModel",
      "state": {}
     },
     "c1f7a95a1e744e54b179d30777391545": {
      "model_module": "@jupyter-widgets/controls",
      "model_module_version": "1.5.0",
      "model_name": "DescriptionStyleModel",
      "state": {
       "description_width": ""
      }
     },
     "c1ff3f8ade2b47889e55de46d9a22696": {
      "model_module": "@jupyter-widgets/controls",
      "model_module_version": "1.5.0",
      "model_name": "ButtonModel",
      "state": {
       "description": "Save Figure",
       "layout": "IPY_MODEL_c011080f4cab4204a35c2ae3729c3b0a",
       "style": "IPY_MODEL_73267d5c1d9f412f8707686011374cc5"
      }
     },
     "c21a450f107d45fb99e2b77c35a70612": {
      "model_module": "@jupyter-widgets/controls",
      "model_module_version": "1.5.0",
      "model_name": "ButtonModel",
      "state": {
       "description": "Save Figure",
       "layout": "IPY_MODEL_7a12afd3860943ec8738e2935e83fd94",
       "style": "IPY_MODEL_c1eac173382c4ec9934865d5e09ea984"
      }
     },
     "c258ddc09937442585f1bb25887e5602": {
      "model_module": "@jupyter-widgets/base",
      "model_module_version": "1.2.0",
      "model_name": "LayoutModel",
      "state": {}
     },
     "c26e29a817824d579e4e114f747d0267": {
      "model_module": "@jupyter-widgets/base",
      "model_module_version": "1.2.0",
      "model_name": "LayoutModel",
      "state": {}
     },
     "c2761f8c3d9b4a57be3fd5e5ac449caa": {
      "model_module": "@jupyter-widgets/controls",
      "model_module_version": "1.5.0",
      "model_name": "DescriptionStyleModel",
      "state": {
       "description_width": ""
      }
     },
     "c277ac7a699848a797a8205874c0847f": {
      "model_module": "@jupyter-widgets/base",
      "model_module_version": "1.2.0",
      "model_name": "LayoutModel",
      "state": {}
     },
     "c2963c9b9872444c925d0fccfd999408": {
      "model_module": "@jupyter-widgets/controls",
      "model_module_version": "1.5.0",
      "model_name": "DescriptionStyleModel",
      "state": {
       "description_width": ""
      }
     },
     "c2a71a880fe946518b100ee3c84a6233": {
      "model_module": "@jupyter-widgets/base",
      "model_module_version": "1.2.0",
      "model_name": "LayoutModel",
      "state": {}
     },
     "c2cb8a6c8b5a45ffbe2259af5f74bfc9": {
      "model_module": "@jupyter-widgets/controls",
      "model_module_version": "1.5.0",
      "model_name": "DropdownModel",
      "state": {
       "_options_labels": [
        "sRGB",
        "ACES (sRGB)"
       ],
       "description": "View Transform:",
       "index": 0,
       "layout": "IPY_MODEL_b63892dffec44eae8f7801accbbc5764",
       "style": "IPY_MODEL_47c7cb6159f34c6389aa825f77b2b398"
      }
     },
     "c2ccb19acc2e477883cbe452dc8cccfc": {
      "model_module": "@jupyter-widgets/base",
      "model_module_version": "1.2.0",
      "model_name": "LayoutModel",
      "state": {}
     },
     "c2cd869ae1d24c46b0874379d581f868": {
      "model_module": "@jupyter-widgets/controls",
      "model_module_version": "1.5.0",
      "model_name": "FloatSliderModel",
      "state": {
       "description": "270°",
       "layout": "IPY_MODEL_1564962e56f04b3dbbd713fb8065483e",
       "max": 1,
       "min": -1,
       "step": 0.01,
       "style": "IPY_MODEL_54ddedd4b3124a108f033405ad7306e9"
      }
     },
     "c2df6c647a804a00b5f54f643bbf667c": {
      "model_module": "@jupyter-widgets/base",
      "model_module_version": "1.2.0",
      "model_name": "LayoutModel",
      "state": {}
     },
     "c2e6986128b24afb9ce5d861f5bebb22": {
      "model_module": "@jupyter-widgets/controls",
      "model_module_version": "1.5.0",
      "model_name": "ButtonModel",
      "state": {
       "description": "Export Image",
       "layout": "IPY_MODEL_e2fffb108b2f453d8ddde1cffaa25ea4",
       "style": "IPY_MODEL_5e38498fa7d74c8791d7f114106444e6"
      }
     },
     "c2fce5fde95c4ff5adcd7c40c747e9d7": {
      "model_module": "@jupyter-widgets/controls",
      "model_module_version": "1.5.0",
      "model_name": "ButtonModel",
      "state": {
       "description": "Reset Exposure",
       "layout": "IPY_MODEL_86f60c0ec0344f6ba83dadf575768b06",
       "style": "IPY_MODEL_2beb0ba056624ee5b58fe252a4fd60c8"
      }
     },
     "c30c359768934c6fbb86e6183685cb3b": {
      "model_module": "@jupyter-widgets/controls",
      "model_module_version": "1.5.0",
      "model_name": "FloatSliderModel",
      "state": {
       "description": "225°",
       "layout": "IPY_MODEL_32544890b709490cabfd217a7fb0552f",
       "max": 1,
       "min": -1,
       "step": 0.01,
       "style": "IPY_MODEL_a77ed756e3d54a13a518f2fb031de32b"
      }
     },
     "c315381c6f13483db4c238be58b3e4fa": {
      "model_module": "@jupyter-widgets/base",
      "model_module_version": "1.2.0",
      "model_name": "LayoutModel",
      "state": {
       "border": "solid 4px #222",
       "margin": "4px",
       "padding": "0"
      }
     },
     "c32812e3f70d4030b471a6e35428bdb8": {
      "model_module": "@jupyter-widgets/controls",
      "model_module_version": "1.5.0",
      "model_name": "DescriptionStyleModel",
      "state": {
       "description_width": ""
      }
     },
     "c34ea7df907d43adbf81358ee33d2a44": {
      "model_module": "@jupyter-widgets/controls",
      "model_module_version": "1.5.0",
      "model_name": "ButtonModel",
      "state": {
       "description": "Export Image",
       "layout": "IPY_MODEL_5858fafe85fb47efb7738a323f204337",
       "style": "IPY_MODEL_e96403e88a3d4938af2f08ee76685d7b"
      }
     },
     "c35daa47faaf487fa08bc9b13ae4a3b7": {
      "model_module": "@jupyter-widgets/base",
      "model_module_version": "1.2.0",
      "model_name": "LayoutModel",
      "state": {
       "border": "solid 4px #222",
       "margin": "4px",
       "padding": "0"
      }
     },
     "c36dcff7559d4e1c98c67881a67d3565": {
      "model_module": "jupyter-matplotlib",
      "model_module_version": "^0.7.2",
      "model_name": "MPLCanvasModel",
      "state": {
       "_figure_label": "Figure 12",
       "_height": 396,
       "_width": 1100,
       "header_visible": false,
       "layout": "IPY_MODEL_ec06682cea6a4aafbb57b50305ba7470",
       "resizable": false,
       "toolbar": "IPY_MODEL_b5c79c6f19af46119797e566489f52a0",
       "toolbar_position": "left",
       "toolbar_visible": false
      }
     },
     "c3b001acf6d842a29127fd1a2608e85e": {
      "model_module": "@jupyter-widgets/base",
      "model_module_version": "1.2.0",
      "model_name": "LayoutModel",
      "state": {}
     },
     "c3beaed03413402c84968adb50f2b8a0": {
      "model_module": "@jupyter-widgets/base",
      "model_module_version": "1.2.0",
      "model_name": "LayoutModel",
      "state": {}
     },
     "c3c0b8ff23524328b54c8f3d90cc1f92": {
      "model_module": "@jupyter-widgets/base",
      "model_module_version": "1.2.0",
      "model_name": "LayoutModel",
      "state": {}
     },
     "c4284f9883684f16a5251f615f2ba0c8": {
      "model_module": "@jupyter-widgets/base",
      "model_module_version": "1.2.0",
      "model_name": "LayoutModel",
      "state": {}
     },
     "c42c23cf16744e58b24533923b5fc65f": {
      "model_module": "@jupyter-widgets/controls",
      "model_module_version": "1.5.0",
      "model_name": "SliderStyleModel",
      "state": {
       "description_width": ""
      }
     },
     "c43965420e2942cabfd31ec196e982d4": {
      "model_module": "@jupyter-widgets/controls",
      "model_module_version": "1.5.0",
      "model_name": "ButtonModel",
      "state": {
       "description": "Export Image",
       "layout": "IPY_MODEL_8366c8313dc345879dc7d6b44f13b11e",
       "style": "IPY_MODEL_3164e4462eee43858652bc4ffeb240e9"
      }
     },
     "c4485830911f4122a280c4f19a33322e": {
      "model_module": "@jupyter-widgets/base",
      "model_module_version": "1.2.0",
      "model_name": "LayoutModel",
      "state": {}
     },
     "c46c8165056a45a89dbf7234db826a52": {
      "model_module": "@jupyter-widgets/base",
      "model_module_version": "1.2.0",
      "model_name": "LayoutModel",
      "state": {}
     },
     "c496fdb064c24857915d6fabbdcc0257": {
      "model_module": "@jupyter-widgets/controls",
      "model_module_version": "1.5.0",
      "model_name": "FloatSliderModel",
      "state": {
       "description": "Protected Area Threshold",
       "layout": "IPY_MODEL_b7546f6933664a7f85d90f92f12092cf",
       "max": 1,
       "step": 0.01,
       "style": "IPY_MODEL_0c7491a7a7044589afc370061d32164c",
       "value": 0.5
      }
     },
     "c499a030e88a48d79c2439f18b0cfa8d": {
      "model_module": "@jupyter-widgets/controls",
      "model_module_version": "1.5.0",
      "model_name": "CheckboxModel",
      "state": {
       "description": "Show Out-of-Gamut",
       "disabled": false,
       "layout": "IPY_MODEL_26981902494c4bafaafee78fbcfd3808",
       "style": "IPY_MODEL_68f544bd478e41d291c0e7ea1e974fbf",
       "value": false
      }
     },
     "c49b0f65938d4c0982e80db5934f1d29": {
      "model_module": "@jupyter-widgets/controls",
      "model_module_version": "1.5.0",
      "model_name": "ButtonStyleModel",
      "state": {}
     },
     "c4a8c7beb6de4d61b8df1f25fe3641f6": {
      "model_module": "@jupyter-widgets/controls",
      "model_module_version": "1.5.0",
      "model_name": "VBoxModel",
      "state": {
       "children": [
        "IPY_MODEL_466bf5249f4243fea458b307158251d6",
        "IPY_MODEL_d2efe0d4769d4d54b88c096cdd78200c",
        "IPY_MODEL_0a30c040750f4c2c9adbdac5f281ae5e"
       ],
       "layout": "IPY_MODEL_c4e86b00a98e46c5bbe4a8e3067c2076"
      }
     },
     "c4b0b5b4731d46318ea6ce27db80ad17": {
      "model_module": "@jupyter-widgets/base",
      "model_module_version": "1.2.0",
      "model_name": "LayoutModel",
      "state": {}
     },
     "c4d970d5a81d4aaa95401fc3d3f0003e": {
      "model_module": "@jupyter-widgets/base",
      "model_module_version": "1.2.0",
      "model_name": "LayoutModel",
      "state": {
       "border": "solid 4px #222",
       "margin": "4px",
       "padding": "0"
      }
     },
     "c4e86b00a98e46c5bbe4a8e3067c2076": {
      "model_module": "@jupyter-widgets/base",
      "model_module_version": "1.2.0",
      "model_name": "LayoutModel",
      "state": {}
     },
     "c4fba52ef5664664b2112ad32cd3f6f9": {
      "model_module": "@jupyter-widgets/base",
      "model_module_version": "1.2.0",
      "model_name": "LayoutModel",
      "state": {}
     },
     "c51b602642124f249eca909716a01057": {
      "model_module": "@jupyter-widgets/base",
      "model_module_version": "1.2.0",
      "model_name": "LayoutModel",
      "state": {}
     },
     "c545c031228346008f264e94669ec11a": {
      "model_module": "@jupyter-widgets/base",
      "model_module_version": "1.2.0",
      "model_name": "LayoutModel",
      "state": {}
     },
     "c55ac26406ae437da6b1f6396c9d7443": {
      "model_module": "@jupyter-widgets/controls",
      "model_module_version": "1.5.0",
      "model_name": "SliderStyleModel",
      "state": {
       "description_width": ""
      }
     },
     "c56cd586b88442eaa190e346e68b6006": {
      "model_module": "@jupyter-widgets/controls",
      "model_module_version": "1.5.0",
      "model_name": "SliderStyleModel",
      "state": {
       "description_width": ""
      }
     },
     "c57641bd098e418ebd0e962380330841": {
      "model_module": "@jupyter-widgets/controls",
      "model_module_version": "1.5.0",
      "model_name": "ButtonModel",
      "state": {
       "description": "Reset Hue Controls",
       "layout": "IPY_MODEL_e6becaaff1504ed483a68f2ae2d638d1",
       "style": "IPY_MODEL_8aaf26fd9681414ca5ef1c7a54f8c221"
      }
     },
     "c583205b63334051a56d7624f06fc2ec": {
      "model_module": "@jupyter-widgets/controls",
      "model_module_version": "1.5.0",
      "model_name": "DropdownModel",
      "state": {
       "_options_labels": [
        "tanh",
        "atan",
        "simple"
       ],
       "description": "Compression Function:",
       "index": 0,
       "layout": "IPY_MODEL_2cd99ffb5f014d82a110e7077a4fccda",
       "style": "IPY_MODEL_1e84dd3d2fa84b9f97bb8f0e298406a5"
      }
     },
     "c5cbdc487d3b4cdc86c6a0e2017863ce": {
      "model_module": "@jupyter-widgets/controls",
      "model_module_version": "1.5.0",
      "model_name": "FloatSliderModel",
      "state": {
       "description": "90°",
       "layout": "IPY_MODEL_69c78c0e097643e18217aa6d93bd1bd0",
       "max": 1,
       "min": -1,
       "step": 0.01,
       "style": "IPY_MODEL_f22f9d9d5c6548ddbcae3a8858e70f7e"
      }
     },
     "c5d5069ba9dd4434b7474ae6cacbdeea": {
      "model_module": "@jupyter-widgets/controls",
      "model_module_version": "1.5.0",
      "model_name": "FloatSliderModel",
      "state": {
       "description": "270°",
       "layout": "IPY_MODEL_4593f9a2131c4f9ca806d64560dfe524",
       "max": 1,
       "min": -1,
       "step": 0.01,
       "style": "IPY_MODEL_e65a6e84913f414c8c24a7153e76d27e"
      }
     },
     "c5e374e060444667bda8c45a7020e276": {
      "model_module": "@jupyter-widgets/base",
      "model_module_version": "1.2.0",
      "model_name": "LayoutModel",
      "state": {}
     },
     "c5f47fb9e45449dd80ebaa5aacb642a0": {
      "model_module": "@jupyter-widgets/base",
      "model_module_version": "1.2.0",
      "model_name": "LayoutModel",
      "state": {}
     },
     "c60b9f82f98b40aea71f1af3a404a843": {
      "model_module": "@jupyter-widgets/controls",
      "model_module_version": "1.5.0",
      "model_name": "VBoxModel",
      "state": {
       "children": [
        "IPY_MODEL_8a66e165eb7043228db14712d2710943",
        "IPY_MODEL_329397cd4dda449697d4172e899405d0",
        "IPY_MODEL_26d81a0eccd744cea42e542488f34d5b"
       ],
       "layout": "IPY_MODEL_9fe14e85e51d4eccaeca5c848f1e878f"
      }
     },
     "c6215f91b4c04270bece73a938124a5d": {
      "model_module": "@jupyter-widgets/controls",
      "model_module_version": "1.5.0",
      "model_name": "SliderStyleModel",
      "state": {
       "description_width": ""
      }
     },
     "c631e7b62b8041a5b7594f6ece66266c": {
      "model_module": "@jupyter-widgets/base",
      "model_module_version": "1.2.0",
      "model_name": "LayoutModel",
      "state": {}
     },
     "c64bc5fcb4984a118636f0c3efd48def": {
      "model_module": "@jupyter-widgets/controls",
      "model_module_version": "1.5.0",
      "model_name": "BoxModel",
      "state": {
       "children": [
        "IPY_MODEL_599f5192fddd4f60a3e65e0f5b1c1f42",
        "IPY_MODEL_dccb3b6872624007844ac7a117a480de"
       ],
       "layout": "IPY_MODEL_7e0262b902ce42a3a96de6a3d126665e"
      }
     },
     "c6854d31361e42e5afacfd9bb5bd746a": {
      "model_module": "@jupyter-widgets/base",
      "model_module_version": "1.2.0",
      "model_name": "LayoutModel",
      "state": {}
     },
     "c6a7de2fcd0f4a969eba907f7e0d193f": {
      "model_module": "@jupyter-widgets/controls",
      "model_module_version": "1.5.0",
      "model_name": "SliderStyleModel",
      "state": {
       "description_width": ""
      }
     },
     "c6b53903f92146d4b6371aa23cc83622": {
      "model_module": "@jupyter-widgets/controls",
      "model_module_version": "1.5.0",
      "model_name": "DescriptionStyleModel",
      "state": {
       "description_width": ""
      }
     },
     "c6b9311d896f45e3af2045ff67ffdb92": {
      "model_module": "@jupyter-widgets/base",
      "model_module_version": "1.2.0",
      "model_name": "LayoutModel",
      "state": {}
     },
     "c6ca36fd35eb488a81932872b31d8dc0": {
      "model_module": "@jupyter-widgets/base",
      "model_module_version": "1.2.0",
      "model_name": "LayoutModel",
      "state": {}
     },
     "c6f264f2691f4fce89cb6ee22d3302b3": {
      "model_module": "@jupyter-widgets/base",
      "model_module_version": "1.2.0",
      "model_name": "LayoutModel",
      "state": {}
     },
     "c6f5b5c37800413489added63913fd75": {
      "model_module": "@jupyter-widgets/controls",
      "model_module_version": "1.5.0",
      "model_name": "FloatSliderModel",
      "state": {
       "description": "45°",
       "layout": "IPY_MODEL_184540c09fd2437091574898b8724815",
       "max": 1,
       "min": -1,
       "step": 0.01,
       "style": "IPY_MODEL_db0f2d51e2554232b82d7db7cdcb3602"
      }
     },
     "c6f7277fcf8b4387b37987519864105a": {
      "model_module": "@jupyter-widgets/output",
      "model_module_version": "1.0.0",
      "model_name": "OutputModel",
      "state": {
       "layout": "IPY_MODEL_5c7cc8e8b85d4031b05f17c8d3e0ab5f",
       "outputs": [
        {
         "data": {
          "application/vnd.jupyter.widget-view+json": {
           "model_id": "02bfed14e009430789e686bd48cabf9a",
           "version_major": 2,
           "version_minor": 0
          },
          "text/plain": "Canvas(toolbar=Toolbar(toolitems=[('Home', 'Reset original view', 'home', 'home'), ('Back', 'Back to previous …"
         },
         "metadata": {},
         "output_type": "display_data"
        }
       ]
      }
     },
     "c70980f163c34b1ab46b204792bed6d5": {
      "model_module": "@jupyter-widgets/controls",
      "model_module_version": "1.5.0",
      "model_name": "ButtonStyleModel",
      "state": {}
     },
     "c75f3585a27841dd8f9fb66172832ed6": {
      "model_module": "@jupyter-widgets/controls",
      "model_module_version": "1.5.0",
      "model_name": "ButtonModel",
      "state": {
       "description": "Save Figure",
       "layout": "IPY_MODEL_a4d864b5a2784760806b975ad0d41a06",
       "style": "IPY_MODEL_7a85a0e736854dcfa688cd8d7d0648e7"
      }
     },
     "c762333521ad4c6b8f4067a870232274": {
      "model_module": "@jupyter-widgets/controls",
      "model_module_version": "1.5.0",
      "model_name": "ButtonStyleModel",
      "state": {}
     },
     "c777286597ce44b3808b096773837a90": {
      "model_module": "@jupyter-widgets/controls",
      "model_module_version": "1.5.0",
      "model_name": "DropdownModel",
      "state": {
       "_options_labels": [
        "tanh",
        "atan",
        "simple"
       ],
       "description": "Compression Function:",
       "index": 0,
       "layout": "IPY_MODEL_e581a819858e4247a691a6561fa6ff33",
       "style": "IPY_MODEL_e7f8c41781a34026a4e1312292722930"
      }
     },
     "c77b91db3fe5421eb9c10e1487beb0d1": {
      "model_module": "@jupyter-widgets/controls",
      "model_module_version": "1.5.0",
      "model_name": "ButtonModel",
      "state": {
       "description": "Export Image",
       "layout": "IPY_MODEL_8526df7fe34e4ed7bcf1e58cfd46f91b",
       "style": "IPY_MODEL_5c0ca0308d5e4db789982b00d6f4522c"
      }
     },
     "c7d44a47046949e3890a59c0ecbf6e89": {
      "model_module": "@jupyter-widgets/controls",
      "model_module_version": "1.5.0",
      "model_name": "TabModel",
      "state": {
       "_titles": {
        "0": "Global Controls",
        "1": "Viewer Controls"
       },
       "children": [
        "IPY_MODEL_11ec3dab75e64097803af5e32fa6a182",
        "IPY_MODEL_d22a7d14c9e344c199d67ff6e2006d2d"
       ],
       "layout": "IPY_MODEL_b1dd9dced15042fb929570822f47edfe"
      }
     },
     "c80ae289f8c043a187cba92f9f2d44d6": {
      "model_module": "@jupyter-widgets/controls",
      "model_module_version": "1.5.0",
      "model_name": "CheckboxModel",
      "state": {
       "description": "Disable Medicina",
       "disabled": false,
       "layout": "IPY_MODEL_0e79df491bf64df9987570749b83eaff",
       "style": "IPY_MODEL_be57e3010c3342789a0b2b3770808949",
       "value": false
      }
     },
     "c80afda89e42432d97493eda018be94f": {
      "model_module": "@jupyter-widgets/controls",
      "model_module_version": "1.5.0",
      "model_name": "FloatSliderModel",
      "state": {
       "description": "Exposure",
       "layout": "IPY_MODEL_bfdc0de5d6c1488f858474c09238b216",
       "max": 8,
       "min": -8,
       "step": 0.1,
       "style": "IPY_MODEL_f60570d19dd941f1bd8616b30280642e"
      }
     },
     "c86102d0c9514a15b8f77d54f13c9525": {
      "model_module": "@jupyter-widgets/base",
      "model_module_version": "1.2.0",
      "model_name": "LayoutModel",
      "state": {}
     },
     "c865f375193442e19c672542ccfe6a2a": {
      "model_module": "@jupyter-widgets/controls",
      "model_module_version": "1.5.0",
      "model_name": "FloatSliderModel",
      "state": {
       "description": "90°",
       "layout": "IPY_MODEL_c944cf0be9f843139cad71bea281ced1",
       "max": 1,
       "min": -1,
       "step": 0.01,
       "style": "IPY_MODEL_acb261a3fd164648a2facc4bb363c934"
      }
     },
     "c8b3785a40744c37b4953b39a198566c": {
      "model_module": "@jupyter-widgets/base",
      "model_module_version": "1.2.0",
      "model_name": "LayoutModel",
      "state": {
       "border": "solid 4px #222",
       "margin": "4px",
       "padding": "0"
      }
     },
     "c8b80dcdf2264f7ea922b403cc8300bc": {
      "model_module": "@jupyter-widgets/base",
      "model_module_version": "1.2.0",
      "model_name": "LayoutModel",
      "state": {}
     },
     "c8d6190f91c748b2a4ec19895a00c749": {
      "model_module": "@jupyter-widgets/controls",
      "model_module_version": "1.5.0",
      "model_name": "ButtonModel",
      "state": {
       "description": "Reset Exposure",
       "layout": "IPY_MODEL_dd854392315a4c91bb057728eef36043",
       "style": "IPY_MODEL_09b73f9d9d97412f80fc752639e65e57"
      }
     },
     "c8e19f5543c64ba1ae19220847508d6e": {
      "model_module": "@jupyter-widgets/controls",
      "model_module_version": "1.5.0",
      "model_name": "HBoxModel",
      "state": {
       "children": [
        "IPY_MODEL_07ddd1a9c0b842bda465ec93963b5c09",
        "IPY_MODEL_420a13bbd0e24513856f6208c1a51c23",
        "IPY_MODEL_abcb0f496b9940b9820db5389b837e01",
        "IPY_MODEL_c499a030e88a48d79c2439f18b0cfa8d"
       ],
       "layout": "IPY_MODEL_d3620f7b2adc4499b5477d3ce0100934"
      }
     },
     "c904760ab12247c882d9b30ff9c20ea9": {
      "model_module": "@jupyter-widgets/base",
      "model_module_version": "1.2.0",
      "model_name": "LayoutModel",
      "state": {}
     },
     "c909a47656df4c2db53ec0d9bf9473d6": {
      "model_module": "@jupyter-widgets/controls",
      "model_module_version": "1.5.0",
      "model_name": "SliderStyleModel",
      "state": {
       "description_width": ""
      }
     },
     "c916baac1e9c48269c102e176656cb0a": {
      "model_module": "@jupyter-widgets/base",
      "model_module_version": "1.2.0",
      "model_name": "LayoutModel",
      "state": {}
     },
     "c925048340f34c469eaf6d46ebd7caf9": {
      "model_module": "@jupyter-widgets/controls",
      "model_module_version": "1.5.0",
      "model_name": "HBoxModel",
      "state": {
       "children": [
        "IPY_MODEL_3fc1e383885f485da44838968b79dcb2",
        "IPY_MODEL_7c6d9fa9b04842f6b1d2cd7dc07dfcb1",
        "IPY_MODEL_2f194e500f9846b7b7bee5f6218f2ce3"
       ],
       "layout": "IPY_MODEL_dac89e0e3ad1487e8fc44ac39dfba331"
      }
     },
     "c93cd9139ca2420f92ea0afe3d70db28": {
      "model_module": "@jupyter-widgets/base",
      "model_module_version": "1.2.0",
      "model_name": "LayoutModel",
      "state": {}
     },
     "c93fc33063fd413ead98a7d2757ef8d4": {
      "model_module": "@jupyter-widgets/controls",
      "model_module_version": "1.5.0",
      "model_name": "DescriptionStyleModel",
      "state": {
       "description_width": ""
      }
     },
     "c944cf0be9f843139cad71bea281ced1": {
      "model_module": "@jupyter-widgets/base",
      "model_module_version": "1.2.0",
      "model_name": "LayoutModel",
      "state": {}
     },
     "c9553632661d49739be84d7e7c59f778": {
      "model_module": "@jupyter-widgets/controls",
      "model_module_version": "1.5.0",
      "model_name": "DescriptionStyleModel",
      "state": {
       "description_width": ""
      }
     },
     "c959141a705d4aeea2902736026bf1bd": {
      "model_module": "@jupyter-widgets/controls",
      "model_module_version": "1.5.0",
      "model_name": "DescriptionStyleModel",
      "state": {
       "description_width": ""
      }
     },
     "c9c1f4a9fdc84f4391f0e43ad1fe63a3": {
      "model_module": "jupyter-matplotlib",
      "model_module_version": "^0.7.2",
      "model_name": "MPLCanvasModel",
      "state": {
       "_figure_label": "Figure 3",
       "_height": 396,
       "_width": 1100,
       "header_visible": false,
       "layout": "IPY_MODEL_fe08f28daecd4a84b425e2666c87a135",
       "resizable": false,
       "toolbar": "IPY_MODEL_3c9d5c4cc483451cbf611f94a186901a",
       "toolbar_position": "left",
       "toolbar_visible": false
      }
     },
     "c9c484e08de74a1bb972bed4af6272e0": {
      "model_module": "@jupyter-widgets/controls",
      "model_module_version": "1.5.0",
      "model_name": "SliderStyleModel",
      "state": {
       "description_width": ""
      }
     },
     "c9c99674fd8440b8bd6ea0b96e6c2897": {
      "model_module": "@jupyter-widgets/controls",
      "model_module_version": "1.5.0",
      "model_name": "ButtonModel",
      "state": {
       "description": "Export Image",
       "layout": "IPY_MODEL_d2c08b323b0a48baa6b9b40bde78235e",
       "style": "IPY_MODEL_66a39de9b9df48c8a4cdc063af11d555"
      }
     },
     "c9cc2ec0429643318f5f5a15053376f2": {
      "model_module": "@jupyter-widgets/controls",
      "model_module_version": "1.5.0",
      "model_name": "FloatSliderModel",
      "state": {
       "description": "45°",
       "layout": "IPY_MODEL_e56c3f2414de4a608445b60faf0ed2cb",
       "max": 1,
       "min": -1,
       "step": 0.01,
       "style": "IPY_MODEL_44df6316091842f8a78b630fc923b350"
      }
     },
     "c9d3efa971db47ab993b1ef1da364415": {
      "model_module": "@jupyter-widgets/controls",
      "model_module_version": "1.5.0",
      "model_name": "SliderStyleModel",
      "state": {
       "description_width": ""
      }
     },
     "c9d551508c4c4f9b87a1aca8ec3e0f07": {
      "model_module": "@jupyter-widgets/controls",
      "model_module_version": "1.5.0",
      "model_name": "ButtonModel",
      "state": {
       "description": "Reset Hue Controls",
       "layout": "IPY_MODEL_03a6f01229ec4ae9bcc56d78d6a53ee0",
       "style": "IPY_MODEL_a6b92b3f7d1946e2bba8576d670b9cf6"
      }
     },
     "ca22ed8024c84ec8bae3215851431597": {
      "model_module": "@jupyter-widgets/controls",
      "model_module_version": "1.5.0",
      "model_name": "FloatSliderModel",
      "state": {
       "description": "45°",
       "layout": "IPY_MODEL_0b41815d87ec40088ea7c5e2e677ba95",
       "max": 1,
       "min": -1,
       "step": 0.01,
       "style": "IPY_MODEL_1f6b42d9771340dd8c5f15df6fa5d321"
      }
     },
     "ca2969e0e2fd4c31b311bd9c9dd38fb6": {
      "model_module": "@jupyter-widgets/controls",
      "model_module_version": "1.5.0",
      "model_name": "FloatSliderModel",
      "state": {
       "description": "Compression Threshold",
       "layout": "IPY_MODEL_6d750c584e94489bbae9e8c86a33fef2",
       "max": 1,
       "step": 0.01,
       "style": "IPY_MODEL_d9c3f4104e7a4be09362b8dc14ba7ae5",
       "value": 0.8
      }
     },
     "ca48b092576b4550a8b454e05612c2bf": {
      "model_module": "@jupyter-widgets/controls",
      "model_module_version": "1.5.0",
      "model_name": "SliderStyleModel",
      "state": {
       "description_width": ""
      }
     },
     "ca49c6a0945d490c81fd9eac8a4dd683": {
      "model_module": "@jupyter-widgets/base",
      "model_module_version": "1.2.0",
      "model_name": "LayoutModel",
      "state": {}
     },
     "ca69039806b240908f266371ade1b7e5": {
      "model_module": "jupyter-matplotlib",
      "model_module_version": "^0.7.2",
      "model_name": "MPLCanvasModel",
      "state": {
       "_figure_label": "Figure 2",
       "_height": 396,
       "_width": 1100,
       "header_visible": false,
       "layout": "IPY_MODEL_190dd2d7b92c4a9387525ca63e3c58bb",
       "resizable": false,
       "toolbar": "IPY_MODEL_d8373367e8054a40b8c237a405b271c8",
       "toolbar_position": "left",
       "toolbar_visible": false
      }
     },
     "ca947695d77348d68e7006759b3d4047": {
      "model_module": "@jupyter-widgets/controls",
      "model_module_version": "1.5.0",
      "model_name": "ButtonStyleModel",
      "state": {}
     },
     "caa117e2c8dd41fab2537e023c5afe2c": {
      "model_module": "@jupyter-widgets/base",
      "model_module_version": "1.2.0",
      "model_name": "LayoutModel",
      "state": {}
     },
     "caa1e8daa2c041dd85ca710edb415c86": {
      "model_module": "@jupyter-widgets/controls",
      "model_module_version": "1.5.0",
      "model_name": "FloatSliderModel",
      "state": {
       "description": "Compression Threshold",
       "layout": "IPY_MODEL_320dbe48d1b7471abee4d80128e1d0dc",
       "max": 1,
       "step": 0.01,
       "style": "IPY_MODEL_ce9d622487694ae4a97f08d26f24415f",
       "value": 0.5
      }
     },
     "cac11729bd444383aa8cf0d7fbe3a8a5": {
      "model_module": "@jupyter-widgets/base",
      "model_module_version": "1.2.0",
      "model_name": "LayoutModel",
      "state": {}
     },
     "cae94a43604c4787bbb483e4a1e28a4f": {
      "model_module": "@jupyter-widgets/base",
      "model_module_version": "1.2.0",
      "model_name": "LayoutModel",
      "state": {}
     },
     "cafab99946bf430dbc52501b9aad0a06": {
      "model_module": "@jupyter-widgets/controls",
      "model_module_version": "1.5.0",
      "model_name": "FloatSliderModel",
      "state": {
       "description": "225°",
       "layout": "IPY_MODEL_0540815d98cf4b92b3caa388dba60513",
       "max": 1,
       "min": -1,
       "step": 0.01,
       "style": "IPY_MODEL_772e2d4616f44ffc90b1761a07440796"
      }
     },
     "cb2b1de21d614586813d6227bc8575a0": {
      "model_module": "@jupyter-widgets/controls",
      "model_module_version": "1.5.0",
      "model_name": "SliderStyleModel",
      "state": {
       "description_width": ""
      }
     },
     "cb30b729bdcf40a48ade42d7f94b9db3": {
      "model_module": "@jupyter-widgets/controls",
      "model_module_version": "1.5.0",
      "model_name": "DropdownModel",
      "state": {
       "_options_labels": [
        "sRGB",
        "ACES (sRGB)"
       ],
       "description": "View Transform:",
       "index": 0,
       "layout": "IPY_MODEL_5666c20099d142379a6a6db562e45cc8",
       "style": "IPY_MODEL_fdb81690ad554428b06cdc9f346cd98c"
      }
     },
     "cb351f7bf0544765aba1bbb549b9a958": {
      "model_module": "@jupyter-widgets/base",
      "model_module_version": "1.2.0",
      "model_name": "LayoutModel",
      "state": {}
     },
     "cb73a9106ec94e698b391c7d0c74e735": {
      "model_module": "@jupyter-widgets/controls",
      "model_module_version": "1.5.0",
      "model_name": "VBoxModel",
      "state": {
       "children": [
        "IPY_MODEL_2e288b7c45bb4301a72d5fde0fd4ee03",
        "IPY_MODEL_24fb372b0edc4a5b8439d6c2c99ed7c0",
        "IPY_MODEL_308f592a58dd413caf0bbefdc843e91b"
       ],
       "layout": "IPY_MODEL_a68dd1d340914130bd0c1d82b8fc0e20"
      }
     },
     "cb7f8759bf28420d9729f5cafa919af3": {
      "model_module": "@jupyter-widgets/controls",
      "model_module_version": "1.5.0",
      "model_name": "ButtonModel",
      "state": {
       "description": "Reset Exposure",
       "layout": "IPY_MODEL_d568fa0c11c241a3b6891000e71598ee",
       "style": "IPY_MODEL_e57a1f282f11463b80a38d4dd53eef6d"
      }
     },
     "cbc37549158b400d940d14678ad03e73": {
      "model_module": "@jupyter-widgets/controls",
      "model_module_version": "1.5.0",
      "model_name": "ButtonModel",
      "state": {
       "description": "Reset Exposure",
       "layout": "IPY_MODEL_3b2ea11e5fe5480ea27f17e063785cf5",
       "style": "IPY_MODEL_7ce04a7f5a6a4250b0b2500f6f8ca3cf"
      }
     },
     "cbdb70ff538641189306eceee20be471": {
      "model_module": "@jupyter-widgets/controls",
      "model_module_version": "1.5.0",
      "model_name": "ButtonStyleModel",
      "state": {}
     },
     "cbf4ec63efaf4b4b8b233ca327fb37f3": {
      "model_module": "@jupyter-widgets/base",
      "model_module_version": "1.2.0",
      "model_name": "LayoutModel",
      "state": {}
     },
     "cbf980089990427fafe0852a2dbf14de": {
      "model_module": "@jupyter-widgets/controls",
      "model_module_version": "1.5.0",
      "model_name": "DropdownModel",
      "state": {
       "_options_labels": [
        "sRGB",
        "ACES (sRGB)"
       ],
       "description": "View Transform:",
       "index": 0,
       "layout": "IPY_MODEL_bf59a09dd6ee4bdfba35ea3e3cd622fc",
       "style": "IPY_MODEL_c1f7a95a1e744e54b179d30777391545"
      }
     },
     "cc339d43377a4ef8a6c4ad1a4ab5d7aa": {
      "model_module": "@jupyter-widgets/controls",
      "model_module_version": "1.5.0",
      "model_name": "TabModel",
      "state": {
       "_titles": {
        "0": "Global Controls",
        "1": "Viewer Controls",
        "2": "Protected Area Controls",
        "3": "Saturation Controls",
        "4": "Hue Controls"
       },
       "children": [
        "IPY_MODEL_847c535e33d54ca9bc12816a33942c39",
        "IPY_MODEL_5c274a7677624bc981a3b9718ee77a08",
        "IPY_MODEL_324d9a3e441849a5819de873aed09873",
        "IPY_MODEL_b6ab7b499ecf489a8997f61fdb6c39ce",
        "IPY_MODEL_14e05c4ef6104c9088ebf6da3f28b2de"
       ],
       "layout": "IPY_MODEL_3c9db705cab4443eb9b97cbb1df38d7c"
      }
     },
     "cc3cdb24540446aeb31109019993be01": {
      "model_module": "@jupyter-widgets/base",
      "model_module_version": "1.2.0",
      "model_name": "LayoutModel",
      "state": {}
     },
     "cc871bc9421a4692a9aed122d086c63d": {
      "model_module": "@jupyter-widgets/controls",
      "model_module_version": "1.5.0",
      "model_name": "HBoxModel",
      "state": {
       "children": [
        "IPY_MODEL_998c024978b44ccb82c15390f550fa17",
        "IPY_MODEL_a3c7ed0df7144ecebdaf2c7ca6d55dd9",
        "IPY_MODEL_67470cd40b814b2e9704f687cb69a866"
       ],
       "layout": "IPY_MODEL_b9e28c00c42c4ead8530f818d0ee3743"
      }
     },
     "cce1f9271eaf4fe6bafba4cb9aa53b2d": {
      "model_module": "@jupyter-widgets/base",
      "model_module_version": "1.2.0",
      "model_name": "LayoutModel",
      "state": {}
     },
     "cd00435c54de4958940f3a1a3b106c0b": {
      "model_module": "@jupyter-widgets/controls",
      "model_module_version": "1.5.0",
      "model_name": "DescriptionStyleModel",
      "state": {
       "description_width": ""
      }
     },
     "cd3fb7d338ea414088a49f6c91c39e96": {
      "model_module": "@jupyter-widgets/controls",
      "model_module_version": "1.5.0",
      "model_name": "FloatSliderModel",
      "state": {
       "description": "45°",
       "layout": "IPY_MODEL_b9417abf68c1450b9731bdeddbc27172",
       "max": 1,
       "min": -1,
       "step": 0.01,
       "style": "IPY_MODEL_c42c23cf16744e58b24533923b5fc65f"
      }
     },
     "cd45e99f0fb24045aa4d8d651326919e": {
      "model_module": "@jupyter-widgets/base",
      "model_module_version": "1.2.0",
      "model_name": "LayoutModel",
      "state": {}
     },
     "cd79f03ae9e84401af4b083bdc6c989c": {
      "model_module": "@jupyter-widgets/controls",
      "model_module_version": "1.5.0",
      "model_name": "DescriptionStyleModel",
      "state": {
       "description_width": ""
      }
     },
     "cd9b6a83d98b4307ace59a8b76d93be3": {
      "model_module": "@jupyter-widgets/base",
      "model_module_version": "1.2.0",
      "model_name": "LayoutModel",
      "state": {}
     },
     "cdd3ac8df6404412bf173d100b27edac": {
      "model_module": "@jupyter-widgets/base",
      "model_module_version": "1.2.0",
      "model_name": "LayoutModel",
      "state": {}
     },
     "cdf1c2aec729482c8625e51d51c34f2f": {
      "model_module": "@jupyter-widgets/controls",
      "model_module_version": "1.5.0",
      "model_name": "VBoxModel",
      "state": {
       "children": [
        "IPY_MODEL_d34afb1b341e4551913ea833ed021529",
        "IPY_MODEL_ca22ed8024c84ec8bae3215851431597",
        "IPY_MODEL_d97f0492e39942db92b1813b70a85846"
       ],
       "layout": "IPY_MODEL_f1f99324ee9a42d787609bbcbb0c7517"
      }
     },
     "ce17cc62180c41419450070500f9a7f3": {
      "model_module": "@jupyter-widgets/controls",
      "model_module_version": "1.5.0",
      "model_name": "SliderStyleModel",
      "state": {
       "description_width": ""
      }
     },
     "ce808729825b4156b3032e897da35661": {
      "model_module": "@jupyter-widgets/controls",
      "model_module_version": "1.5.0",
      "model_name": "DescriptionStyleModel",
      "state": {
       "description_width": ""
      }
     },
     "ce8281ff9a014301ab39673375974c05": {
      "model_module": "@jupyter-widgets/controls",
      "model_module_version": "1.5.0",
      "model_name": "SliderStyleModel",
      "state": {
       "description_width": ""
      }
     },
     "ce9d622487694ae4a97f08d26f24415f": {
      "model_module": "@jupyter-widgets/controls",
      "model_module_version": "1.5.0",
      "model_name": "SliderStyleModel",
      "state": {
       "description_width": ""
      }
     },
     "cea0b1b6fe2d41f0af86b11e21c7cf9e": {
      "model_module": "@jupyter-widgets/base",
      "model_module_version": "1.2.0",
      "model_name": "LayoutModel",
      "state": {}
     },
     "cec60c9252534ef2b7549320f054e976": {
      "model_module": "@jupyter-widgets/controls",
      "model_module_version": "1.5.0",
      "model_name": "FloatSliderModel",
      "state": {
       "description": "Protected Area Threshold",
       "layout": "IPY_MODEL_7e6da2b12efc4076b2bef36131738199",
       "max": 1,
       "step": 0.01,
       "style": "IPY_MODEL_6f84c4c5dbe44aaaaf913ec5aa02c419",
       "value": 0.7
      }
     },
     "cee8ce5e29bd462fa129e91372a3db32": {
      "model_module": "@jupyter-widgets/base",
      "model_module_version": "1.2.0",
      "model_name": "LayoutModel",
      "state": {}
     },
     "cf4091e4471a4cca93fba69835a04ce7": {
      "model_module": "@jupyter-widgets/base",
      "model_module_version": "1.2.0",
      "model_name": "LayoutModel",
      "state": {}
     },
     "cf4913e1b3c544869d72af5a1d76ff15": {
      "model_module": "@jupyter-widgets/base",
      "model_module_version": "1.2.0",
      "model_name": "LayoutModel",
      "state": {
       "align_items": "stretch",
       "display": "flex",
       "flex_flow": "column",
       "width": "1128px"
      }
     },
     "cf632cdbce9b4afcacdac7757b622e1d": {
      "model_module": "@jupyter-widgets/controls",
      "model_module_version": "1.5.0",
      "model_name": "SliderStyleModel",
      "state": {
       "description_width": ""
      }
     },
     "cf72814293234a3eaff151d9548f8bfe": {
      "model_module": "@jupyter-widgets/base",
      "model_module_version": "1.2.0",
      "model_name": "LayoutModel",
      "state": {}
     },
     "cf88330c6abe48f5ab3bff9282eb6652": {
      "model_module": "@jupyter-widgets/controls",
      "model_module_version": "1.5.0",
      "model_name": "DropdownModel",
      "state": {
       "_options_labels": [
        "sRGB",
        "ACES (sRGB)"
       ],
       "description": "View Transform:",
       "index": 0,
       "layout": "IPY_MODEL_1b3b932f6d9c4710a9a126d89205d062",
       "style": "IPY_MODEL_eea46c60f8104797847688370dd8bedd"
      }
     },
     "cf8c6e26ffde4a0ab68889fcfc1c1539": {
      "model_module": "@jupyter-widgets/base",
      "model_module_version": "1.2.0",
      "model_name": "LayoutModel",
      "state": {}
     },
     "cfd32bf1cdbd46b2b7231c39405fdaf0": {
      "model_module": "@jupyter-widgets/base",
      "model_module_version": "1.2.0",
      "model_name": "LayoutModel",
      "state": {}
     },
     "d00067a8ad594a40893e47162f2e3ddf": {
      "model_module": "@jupyter-widgets/controls",
      "model_module_version": "1.5.0",
      "model_name": "HBoxModel",
      "state": {
       "children": [
        "IPY_MODEL_2a99b9c16b3548c39db8aa5f72f1e360",
        "IPY_MODEL_5f638c1b7780495d975ffc4c22c6be43",
        "IPY_MODEL_18558cf169404113ac9dfab3f4d29690"
       ],
       "layout": "IPY_MODEL_d0beecd1e3a34bab8108bb2d2679ae40"
      }
     },
     "d015fd83edc74aadb02567ca64ee82e5": {
      "model_module": "@jupyter-widgets/base",
      "model_module_version": "1.2.0",
      "model_name": "LayoutModel",
      "state": {}
     },
     "d025bd8eb9f14acab47168761e623ec9": {
      "model_module": "@jupyter-widgets/base",
      "model_module_version": "1.2.0",
      "model_name": "LayoutModel",
      "state": {}
     },
     "d02deed8e95346ccb1f4537bf49f409b": {
      "model_module": "@jupyter-widgets/base",
      "model_module_version": "1.2.0",
      "model_name": "LayoutModel",
      "state": {}
     },
     "d0786006a0464144a449eed50c8b171a": {
      "model_module": "@jupyter-widgets/base",
      "model_module_version": "1.2.0",
      "model_name": "LayoutModel",
      "state": {}
     },
     "d07ddd73b3314469933430446bd2dca3": {
      "model_module": "@jupyter-widgets/controls",
      "model_module_version": "1.5.0",
      "model_name": "ButtonModel",
      "state": {
       "description": "Reset Hue Controls",
       "layout": "IPY_MODEL_cce1f9271eaf4fe6bafba4cb9aa53b2d",
       "style": "IPY_MODEL_b37a8f3cdaf24c8c8808a60941d9cab3"
      }
     },
     "d08f8a84da4c40a5986b6f06db15546d": {
      "model_module": "@jupyter-widgets/controls",
      "model_module_version": "1.5.0",
      "model_name": "HBoxModel",
      "state": {
       "children": [
        "IPY_MODEL_84e8ded387e943ffae37505b8522d5f6",
        "IPY_MODEL_80c74a00a20744698e40c40a1490db74"
       ],
       "layout": "IPY_MODEL_494ba64a6f0645ceb804037f3c7c341e"
      }
     },
     "d0a5713c4f0c4a4283b1cae9da575fd5": {
      "model_module": "@jupyter-widgets/controls",
      "model_module_version": "1.5.0",
      "model_name": "BoxModel",
      "state": {
       "children": [
        "IPY_MODEL_91e592b734314144afb5e627189611fe",
        "IPY_MODEL_daeb972e707246c595ea7a82ca3a8307"
       ],
       "layout": "IPY_MODEL_2458a6abb83542b8bd270ad720cc1b17"
      }
     },
     "d0bc2f70b2ab453484b7c8995a061bf1": {
      "model_module": "@jupyter-widgets/base",
      "model_module_version": "1.2.0",
      "model_name": "LayoutModel",
      "state": {}
     },
     "d0beecd1e3a34bab8108bb2d2679ae40": {
      "model_module": "@jupyter-widgets/base",
      "model_module_version": "1.2.0",
      "model_name": "LayoutModel",
      "state": {}
     },
     "d101c82f12d545278fc095ae351c80f4": {
      "model_module": "@jupyter-widgets/controls",
      "model_module_version": "1.5.0",
      "model_name": "DescriptionStyleModel",
      "state": {
       "description_width": ""
      }
     },
     "d132d083c9a04bd5b466b19edf65382d": {
      "model_module": "@jupyter-widgets/controls",
      "model_module_version": "1.5.0",
      "model_name": "SliderStyleModel",
      "state": {
       "description_width": ""
      }
     },
     "d132d50345024a7d9d59e04f7039c11b": {
      "model_module": "@jupyter-widgets/controls",
      "model_module_version": "1.5.0",
      "model_name": "ButtonModel",
      "state": {
       "description": "Reset Exposure",
       "layout": "IPY_MODEL_d7e0275af5fd40d09e31409044df1ed0",
       "style": "IPY_MODEL_19a1de125b9445d0b4f5f27d48b4c009"
      }
     },
     "d13cbeadd70e4f2dbc9228d654e1cae6": {
      "model_module": "@jupyter-widgets/base",
      "model_module_version": "1.2.0",
      "model_name": "LayoutModel",
      "state": {}
     },
     "d1443f9259ae4f27a173fad1428abb0a": {
      "model_module": "@jupyter-widgets/controls",
      "model_module_version": "1.5.0",
      "model_name": "DescriptionStyleModel",
      "state": {
       "description_width": ""
      }
     },
     "d150f8a31dc841d49f4bbdfaaf2a6f22": {
      "model_module": "@jupyter-widgets/base",
      "model_module_version": "1.2.0",
      "model_name": "LayoutModel",
      "state": {}
     },
     "d174571568d24f47a15142b1d83a6706": {
      "model_module": "@jupyter-widgets/base",
      "model_module_version": "1.2.0",
      "model_name": "LayoutModel",
      "state": {}
     },
     "d195e4cac59c4ea992ab53f9da56f6f7": {
      "model_module": "@jupyter-widgets/controls",
      "model_module_version": "1.5.0",
      "model_name": "FloatSliderModel",
      "state": {
       "description": "315°",
       "layout": "IPY_MODEL_6ba3ac7b45eb4e558386f355ef8a068d",
       "max": 1,
       "min": -1,
       "step": 0.01,
       "style": "IPY_MODEL_3c9414ee99464686a58eccb600546c9b"
      }
     },
     "d1ddaa808c6f4566a3b7449e8d798fb1": {
      "model_module": "@jupyter-widgets/base",
      "model_module_version": "1.2.0",
      "model_name": "LayoutModel",
      "state": {}
     },
     "d1ed6a0da4b545bfa86a0e05a7d99b26": {
      "model_module": "@jupyter-widgets/base",
      "model_module_version": "1.2.0",
      "model_name": "LayoutModel",
      "state": {}
     },
     "d22a7d14c9e344c199d67ff6e2006d2d": {
      "model_module": "@jupyter-widgets/controls",
      "model_module_version": "1.5.0",
      "model_name": "HBoxModel",
      "state": {
       "children": [
        "IPY_MODEL_313eb256d40d406f838292d5f9ab939e",
        "IPY_MODEL_11885952572d4b1792fc5e65b0aec533",
        "IPY_MODEL_786d3562e0e14af5be4e57a59edbe3d4",
        "IPY_MODEL_e07eda1139ce4c2f8dd2baf0f47a28e6"
       ],
       "layout": "IPY_MODEL_52b41fe673614d1185b3b5c30c8281b7"
      }
     },
     "d235de786fc14996abec06eac634e3f4": {
      "model_module": "@jupyter-widgets/controls",
      "model_module_version": "1.5.0",
      "model_name": "SliderStyleModel",
      "state": {
       "description_width": ""
      }
     },
     "d2656a7c84c04fd7805feceb0dfdaa04": {
      "model_module": "@jupyter-widgets/base",
      "model_module_version": "1.2.0",
      "model_name": "LayoutModel",
      "state": {
       "align_items": "stretch",
       "display": "flex",
       "flex_flow": "column",
       "width": "1128px"
      }
     },
     "d2695ea6fe7a475fbd2a2c70012ae78f": {
      "model_module": "@jupyter-widgets/base",
      "model_module_version": "1.2.0",
      "model_name": "LayoutModel",
      "state": {}
     },
     "d28257a0ecd34a69b2cb4e3052ebadf6": {
      "model_module": "@jupyter-widgets/base",
      "model_module_version": "1.2.0",
      "model_name": "LayoutModel",
      "state": {}
     },
     "d2849ba8fb9a41d1a1570192ba4a752d": {
      "model_module": "@jupyter-widgets/controls",
      "model_module_version": "1.5.0",
      "model_name": "DescriptionStyleModel",
      "state": {
       "description_width": ""
      }
     },
     "d2b90607812c4968a4ee5cb9ffc15ec7": {
      "model_module": "jupyter-matplotlib",
      "model_module_version": "^0.7.2",
      "model_name": "ToolbarModel",
      "state": {
       "layout": "IPY_MODEL_17e97c8589da4d08952d33e5d330472f",
       "toolitems": [
        [
         "Home",
         "Reset original view",
         "home",
         "home"
        ],
        [
         "Back",
         "Back to previous view",
         "arrow-left",
         "back"
        ],
        [
         "Forward",
         "Forward to next view",
         "arrow-right",
         "forward"
        ],
        [
         "Pan",
         "Pan axes with left mouse, zoom with right",
         "arrows",
         "pan"
        ],
        [
         "Zoom",
         "Zoom to rectangle",
         "square-o",
         "zoom"
        ],
        [
         "Download",
         "Download plot",
         "floppy-o",
         "save_figure"
        ]
       ]
      }
     },
     "d2c08b323b0a48baa6b9b40bde78235e": {
      "model_module": "@jupyter-widgets/base",
      "model_module_version": "1.2.0",
      "model_name": "LayoutModel",
      "state": {}
     },
     "d2e8261e5c7344238f656efe95d57649": {
      "model_module": "@jupyter-widgets/controls",
      "model_module_version": "1.5.0",
      "model_name": "SliderStyleModel",
      "state": {
       "description_width": ""
      }
     },
     "d2efe0d4769d4d54b88c096cdd78200c": {
      "model_module": "@jupyter-widgets/controls",
      "model_module_version": "1.5.0",
      "model_name": "FloatSliderModel",
      "state": {
       "description": "45°",
       "layout": "IPY_MODEL_bea07110a5e64eb0b18783c875f8dec9",
       "max": 1,
       "min": -1,
       "step": 0.01,
       "style": "IPY_MODEL_9c950a1b5240457ebe0acac8968278d9"
      }
     },
     "d31e930589254ce4aa0689d5a19383d7": {
      "model_module": "@jupyter-widgets/controls",
      "model_module_version": "1.5.0",
      "model_name": "SliderStyleModel",
      "state": {
       "description_width": ""
      }
     },
     "d33a83cc269d4108b67a570ecd43e724": {
      "model_module": "@jupyter-widgets/base",
      "model_module_version": "1.2.0",
      "model_name": "LayoutModel",
      "state": {}
     },
     "d34afb1b341e4551913ea833ed021529": {
      "model_module": "@jupyter-widgets/controls",
      "model_module_version": "1.5.0",
      "model_name": "FloatSliderModel",
      "state": {
       "description": "0°",
       "layout": "IPY_MODEL_9ec7cd07e7184670b93d7c70df0f6b0e",
       "max": 1,
       "min": -1,
       "step": 0.01,
       "style": "IPY_MODEL_f19732d4bca7408381d87a1911514fe1"
      }
     },
     "d3569cd2c4a94082bfafa02753021b07": {
      "model_module": "@jupyter-widgets/controls",
      "model_module_version": "1.5.0",
      "model_name": "FloatSliderModel",
      "state": {
       "description": "180°",
       "layout": "IPY_MODEL_db65aad9dbba4a59b7faee05c331bffb",
       "max": 1,
       "min": -1,
       "step": 0.01,
       "style": "IPY_MODEL_a78b2bffad50462d9ddc7c3a11aa22ef"
      }
     },
     "d3620f7b2adc4499b5477d3ce0100934": {
      "model_module": "@jupyter-widgets/base",
      "model_module_version": "1.2.0",
      "model_name": "LayoutModel",
      "state": {}
     },
     "d389cbb321f64450b82d6ac3a3993177": {
      "model_module": "@jupyter-widgets/controls",
      "model_module_version": "1.5.0",
      "model_name": "HBoxModel",
      "state": {
       "children": [
        "IPY_MODEL_53dd5bd6b93f444390bb9ab8b2015d76",
        "IPY_MODEL_0efd2626d75f4bde838054541cf9c211",
        "IPY_MODEL_2dd35d3176ae40cbb4a77f5f5b665ed1",
        "IPY_MODEL_a28f24d850484bacbaed6927e1146937"
       ],
       "layout": "IPY_MODEL_de05c54b5d884a199472309bf3aeecb0"
      }
     },
     "d393a4a455c947b68a0d42d294e592e8": {
      "model_module": "@jupyter-widgets/controls",
      "model_module_version": "1.5.0",
      "model_name": "VBoxModel",
      "state": {
       "children": [
        "IPY_MODEL_9127af1a4a3d437f8bd0190f8a466c59",
        "IPY_MODEL_c6f5b5c37800413489added63913fd75",
        "IPY_MODEL_826fac1a161b494d9e55ba9c7fff0bcc"
       ],
       "layout": "IPY_MODEL_60a2bf173bcf4a628f91818cfe87346f"
      }
     },
     "d39cad07cdac472a8c9da1b32a2c1682": {
      "model_module": "@jupyter-widgets/controls",
      "model_module_version": "1.5.0",
      "model_name": "ButtonModel",
      "state": {
       "description": "Reset Exposure",
       "layout": "IPY_MODEL_1c0c29f35f724bd89f4fae0e4079097d",
       "style": "IPY_MODEL_ed7ec3d7d4874e158ce85a74aaff8c7f"
      }
     },
     "d3af208501a443179e0a3a6c5d7b6bdd": {
      "model_module": "@jupyter-widgets/base",
      "model_module_version": "1.2.0",
      "model_name": "LayoutModel",
      "state": {}
     },
     "d3b3e703ec184eca96ac6bc10f655166": {
      "model_module": "@jupyter-widgets/controls",
      "model_module_version": "1.5.0",
      "model_name": "ButtonStyleModel",
      "state": {}
     },
     "d3fe9811298c47afb3774336c1a448cc": {
      "model_module": "jupyter-matplotlib",
      "model_module_version": "^0.7.2",
      "model_name": "MPLCanvasModel",
      "state": {
       "_figure_label": "Figure 23",
       "_height": 396,
       "_width": 1100,
       "header_visible": false,
       "layout": "IPY_MODEL_3a61a69527ea446785ed7eb37feb86b5",
       "resizable": false,
       "toolbar": "IPY_MODEL_e294b13a84ef40f1a8d531eea742fdf2",
       "toolbar_position": "left",
       "toolbar_visible": false
      }
     },
     "d4048f3c1bcc4999b164a324e141293b": {
      "model_module": "@jupyter-widgets/controls",
      "model_module_version": "1.5.0",
      "model_name": "HBoxModel",
      "state": {
       "children": [
        "IPY_MODEL_da0a14fb938545dca627123891d36df3",
        "IPY_MODEL_3d2b0c5f3e3a4842abd84404434bd8d2"
       ],
       "layout": "IPY_MODEL_5a87197a27d447edbae316134f3d8ed1"
      }
     },
     "d409c8e9f5a349a5a855172e8f0dbc01": {
      "model_module": "@jupyter-widgets/controls",
      "model_module_version": "1.5.0",
      "model_name": "HBoxModel",
      "state": {
       "children": [
        "IPY_MODEL_9dc1d28fa326456abe1c667bd84161e7",
        "IPY_MODEL_34c6b0f6b1f04df38e44894b8122c74e",
        "IPY_MODEL_db7d788183c445609580342ac150c06f"
       ],
       "layout": "IPY_MODEL_6ba80706424346ef9823c76dc1442d1c"
      }
     },
     "d438582a39314c3dbc40563fee47aa9f": {
      "model_module": "@jupyter-widgets/base",
      "model_module_version": "1.2.0",
      "model_name": "LayoutModel",
      "state": {}
     },
     "d455fa16c35644298a0260a6f99b3d2e": {
      "model_module": "@jupyter-widgets/controls",
      "model_module_version": "1.5.0",
      "model_name": "FloatSliderModel",
      "state": {
       "description": "45°",
       "layout": "IPY_MODEL_c4284f9883684f16a5251f615f2ba0c8",
       "max": 1,
       "min": -1,
       "step": 0.01,
       "style": "IPY_MODEL_6087b8c53a6b4b449eaa718d6c465e78"
      }
     },
     "d47080d39dcd493ebc8a5347bb8a9ddb": {
      "model_module": "@jupyter-widgets/base",
      "model_module_version": "1.2.0",
      "model_name": "LayoutModel",
      "state": {}
     },
     "d473fe31d70041218e3104ef40083c43": {
      "model_module": "@jupyter-widgets/base",
      "model_module_version": "1.2.0",
      "model_name": "LayoutModel",
      "state": {}
     },
     "d48e686741ad4b7786a89e94d8215305": {
      "model_module": "@jupyter-widgets/base",
      "model_module_version": "1.2.0",
      "model_name": "LayoutModel",
      "state": {
       "border": "solid 4px #222",
       "margin": "4px",
       "padding": "0"
      }
     },
     "d49d0fcc098340f58bc48d87191951fd": {
      "model_module": "@jupyter-widgets/controls",
      "model_module_version": "1.5.0",
      "model_name": "TabModel",
      "state": {
       "_titles": {
        "0": "Global Controls",
        "1": "Viewer Controls",
        "2": "Protected Area Controls",
        "3": "Saturation Controls",
        "4": "Hue Controls"
       },
       "children": [
        "IPY_MODEL_7cad767cc12d48378ce35b33756ea2db",
        "IPY_MODEL_7810d988469d4fbc9ef982c602660c8c",
        "IPY_MODEL_dd9e56a5b2db49b49ff0e1a7065f7fe2",
        "IPY_MODEL_70fcb3c8ee8347afb0f5112548408954",
        "IPY_MODEL_5ca9db309e78415187bbd74f51186396"
       ],
       "layout": "IPY_MODEL_c35daa47faaf487fa08bc9b13ae4a3b7"
      }
     },
     "d4a35d3114f849138adf8151c5a99521": {
      "model_module": "@jupyter-widgets/controls",
      "model_module_version": "1.5.0",
      "model_name": "SliderStyleModel",
      "state": {
       "description_width": ""
      }
     },
     "d4a5133b7341499a82441cb84bbaeb01": {
      "model_module": "@jupyter-widgets/base",
      "model_module_version": "1.2.0",
      "model_name": "LayoutModel",
      "state": {}
     },
     "d4a52a0aeb1b4e4e877665cd9475f939": {
      "model_module": "@jupyter-widgets/base",
      "model_module_version": "1.2.0",
      "model_name": "LayoutModel",
      "state": {}
     },
     "d4c966a8141241339591e15474635d86": {
      "model_module": "@jupyter-widgets/base",
      "model_module_version": "1.2.0",
      "model_name": "LayoutModel",
      "state": {}
     },
     "d4db39e195fe41059f5e6d001324ac3b": {
      "model_module": "@jupyter-widgets/base",
      "model_module_version": "1.2.0",
      "model_name": "LayoutModel",
      "state": {}
     },
     "d4fadc9aa1ec4b27a4dce336ce8c93ca": {
      "model_module": "@jupyter-widgets/base",
      "model_module_version": "1.2.0",
      "model_name": "LayoutModel",
      "state": {}
     },
     "d510962683754439ab71ffbcb0fac421": {
      "model_module": "@jupyter-widgets/base",
      "model_module_version": "1.2.0",
      "model_name": "LayoutModel",
      "state": {}
     },
     "d52b202144b74eb793ed22221186203d": {
      "model_module": "@jupyter-widgets/base",
      "model_module_version": "1.2.0",
      "model_name": "LayoutModel",
      "state": {}
     },
     "d53ae7d644164c97867159ebdd3238de": {
      "model_module": "@jupyter-widgets/controls",
      "model_module_version": "1.5.0",
      "model_name": "ButtonStyleModel",
      "state": {}
     },
     "d53ef2878c294cdab16bb6e1662744ba": {
      "model_module": "@jupyter-widgets/output",
      "model_module_version": "1.0.0",
      "model_name": "OutputModel",
      "state": {
       "layout": "IPY_MODEL_e23b1d949d574c4c83169a5ecd933eae",
       "outputs": [
        {
         "data": {
          "application/vnd.jupyter.widget-view+json": {
           "model_id": "2762179046e449b9874c17d3e31e127d",
           "version_major": 2,
           "version_minor": 0
          },
          "text/plain": "Canvas(toolbar=Toolbar(toolitems=[('Home', 'Reset original view', 'home', 'home'), ('Back', 'Back to previous …"
         },
         "metadata": {},
         "output_type": "display_data"
        }
       ]
      }
     },
     "d568fa0c11c241a3b6891000e71598ee": {
      "model_module": "@jupyter-widgets/base",
      "model_module_version": "1.2.0",
      "model_name": "LayoutModel",
      "state": {}
     },
     "d5b63e559bfa42f88880067391c8adb0": {
      "model_module": "@jupyter-widgets/base",
      "model_module_version": "1.2.0",
      "model_name": "LayoutModel",
      "state": {}
     },
     "d5d16ec63f944272b916c97d54dda8ce": {
      "model_module": "@jupyter-widgets/controls",
      "model_module_version": "1.5.0",
      "model_name": "ButtonStyleModel",
      "state": {}
     },
     "d61719fdc9af437aa4ede91ceaf22092": {
      "model_module": "@jupyter-widgets/controls",
      "model_module_version": "1.5.0",
      "model_name": "DescriptionStyleModel",
      "state": {
       "description_width": ""
      }
     },
     "d6216680feb8408dae2fc67aa53b3e73": {
      "model_module": "@jupyter-widgets/controls",
      "model_module_version": "1.5.0",
      "model_name": "ButtonModel",
      "state": {
       "description": "Export Image",
       "layout": "IPY_MODEL_0a0db933a42d4c8cb61836ed706b25eb",
       "style": "IPY_MODEL_15f2470b905946f1bd78dea0fec7606f"
      }
     },
     "d65fed9c4bf74977a2309e29601c8ed1": {
      "model_module": "@jupyter-widgets/controls",
      "model_module_version": "1.5.0",
      "model_name": "FloatSliderModel",
      "state": {
       "description": "Compression Threshold",
       "layout": "IPY_MODEL_844459d918c842cca52650895449b3df",
       "max": 1,
       "step": 0.01,
       "style": "IPY_MODEL_44e335a0ba474206bc1ded91aa19c09b",
       "value": 0.8
      }
     },
     "d67a5d47f91f44f58ce256968948c6e5": {
      "model_module": "@jupyter-widgets/controls",
      "model_module_version": "1.5.0",
      "model_name": "CheckboxModel",
      "state": {
       "description": "Show Out-of-Gamut",
       "disabled": false,
       "layout": "IPY_MODEL_c035a6b64fa94f318ed443ce8520d121",
       "style": "IPY_MODEL_34c7f86442114221955aa9ac9e65e70f",
       "value": false
      }
     },
     "d685212328da4b87a8ed26d059e3b34a": {
      "model_module": "@jupyter-widgets/controls",
      "model_module_version": "1.5.0",
      "model_name": "ButtonModel",
      "state": {
       "description": "Reset Exposure",
       "layout": "IPY_MODEL_d015fd83edc74aadb02567ca64ee82e5",
       "style": "IPY_MODEL_0bcc865d84a34ae1b63994691c9b06bf"
      }
     },
     "d6b642b18cdf4e759317b9a79b4b896c": {
      "model_module": "@jupyter-widgets/base",
      "model_module_version": "1.2.0",
      "model_name": "LayoutModel",
      "state": {}
     },
     "d6b69da1ed85473b884621bc163dcc75": {
      "model_module": "@jupyter-widgets/base",
      "model_module_version": "1.2.0",
      "model_name": "LayoutModel",
      "state": {}
     },
     "d6bcf7b4b78b4f309a9798f9250cd714": {
      "model_module": "@jupyter-widgets/base",
      "model_module_version": "1.2.0",
      "model_name": "LayoutModel",
      "state": {}
     },
     "d6c69d69b35c4a1483d9d7812eac4c66": {
      "model_module": "@jupyter-widgets/base",
      "model_module_version": "1.2.0",
      "model_name": "LayoutModel",
      "state": {}
     },
     "d6e5d2b23f8c424c890727e3c8e70af2": {
      "model_module": "@jupyter-widgets/base",
      "model_module_version": "1.2.0",
      "model_name": "LayoutModel",
      "state": {}
     },
     "d6f720e9662c406985edc7eeac56af9a": {
      "model_module": "@jupyter-widgets/base",
      "model_module_version": "1.2.0",
      "model_name": "LayoutModel",
      "state": {}
     },
     "d70517678c4b4a0dafb8f16bd11e960d": {
      "model_module": "@jupyter-widgets/controls",
      "model_module_version": "1.5.0",
      "model_name": "SliderStyleModel",
      "state": {
       "description_width": ""
      }
     },
     "d739eb3b0db0421bbced4d70f0834104": {
      "model_module": "@jupyter-widgets/controls",
      "model_module_version": "1.5.0",
      "model_name": "CheckboxModel",
      "state": {
       "description": "Disable Medicina",
       "disabled": false,
       "layout": "IPY_MODEL_0ce3ff647a9f463a8b0a35a9bf4ab324",
       "style": "IPY_MODEL_0f13a1d85953447084bac14c664f467a",
       "value": false
      }
     },
     "d7525b84eb414da2bec6383634c4aa3f": {
      "model_module": "@jupyter-widgets/controls",
      "model_module_version": "1.5.0",
      "model_name": "CheckboxModel",
      "state": {
       "description": "Show Out-of-Gamut",
       "disabled": false,
       "layout": "IPY_MODEL_d945729a6f8e4b7e9249f2e51c40777f",
       "style": "IPY_MODEL_e7feb913d9ec4360a31ebddf1ac2e576",
       "value": false
      }
     },
     "d765d39b3cb24f3ca375234072b6caeb": {
      "model_module": "@jupyter-widgets/controls",
      "model_module_version": "1.5.0",
      "model_name": "HBoxModel",
      "state": {
       "children": [
        "IPY_MODEL_585279e69f484ceda7c89dec00436735",
        "IPY_MODEL_0d0fab72a60645c088ebaf1ef6520765",
        "IPY_MODEL_f148a79534ac438f805fb8bce3b41dde",
        "IPY_MODEL_ed7298c809bf4732a2192071639fe7d5"
       ],
       "layout": "IPY_MODEL_26bbefce0a3242f18b1ee808aecdae5c"
      }
     },
     "d7b56ae1041048b290af92865b1eeacb": {
      "model_module": "@jupyter-widgets/controls",
      "model_module_version": "1.5.0",
      "model_name": "DropdownModel",
      "state": {
       "_options_labels": [
        "tanh",
        "atan",
        "simple"
       ],
       "description": "Compression Function:",
       "index": 0,
       "layout": "IPY_MODEL_3fa774fc6f604dc3a794435fce7ee9ea",
       "style": "IPY_MODEL_3d4781a699024ed4a5d4382d4fce9bb1"
      }
     },
     "d7cae406fd684a989baf59c08046e5de": {
      "model_module": "@jupyter-widgets/controls",
      "model_module_version": "1.5.0",
      "model_name": "SliderStyleModel",
      "state": {
       "description_width": ""
      }
     },
     "d7e0275af5fd40d09e31409044df1ed0": {
      "model_module": "@jupyter-widgets/base",
      "model_module_version": "1.2.0",
      "model_name": "LayoutModel",
      "state": {}
     },
     "d81c72fe426c416f8721c12ba04d4c2e": {
      "model_module": "@jupyter-widgets/controls",
      "model_module_version": "1.5.0",
      "model_name": "DescriptionStyleModel",
      "state": {
       "description_width": ""
      }
     },
     "d8237617d55c4c36886fcf3c7434c9e0": {
      "model_module": "@jupyter-widgets/controls",
      "model_module_version": "1.5.0",
      "model_name": "CheckboxModel",
      "state": {
       "description": "Disable Medicina",
       "disabled": false,
       "layout": "IPY_MODEL_5ef6e2f52d1f41be87281df83659b811",
       "style": "IPY_MODEL_c2761f8c3d9b4a57be3fd5e5ac449caa",
       "value": false
      }
     },
     "d8373367e8054a40b8c237a405b271c8": {
      "model_module": "jupyter-matplotlib",
      "model_module_version": "^0.7.2",
      "model_name": "ToolbarModel",
      "state": {
       "layout": "IPY_MODEL_5c2cc6c79d8c4823a806b00491cc7e15",
       "toolitems": [
        [
         "Home",
         "Reset original view",
         "home",
         "home"
        ],
        [
         "Back",
         "Back to previous view",
         "arrow-left",
         "back"
        ],
        [
         "Forward",
         "Forward to next view",
         "arrow-right",
         "forward"
        ],
        [
         "Pan",
         "Pan axes with left mouse, zoom with right",
         "arrows",
         "pan"
        ],
        [
         "Zoom",
         "Zoom to rectangle",
         "square-o",
         "zoom"
        ],
        [
         "Download",
         "Download plot",
         "floppy-o",
         "save_figure"
        ]
       ]
      }
     },
     "d86cf5f67cd84ed881ff26feae7fae75": {
      "model_module": "@jupyter-widgets/base",
      "model_module_version": "1.2.0",
      "model_name": "LayoutModel",
      "state": {}
     },
     "d8757c1e517744599f834edb6982f086": {
      "model_module": "@jupyter-widgets/controls",
      "model_module_version": "1.5.0",
      "model_name": "ButtonStyleModel",
      "state": {}
     },
     "d880db54af97480792271e245e86c286": {
      "model_module": "@jupyter-widgets/controls",
      "model_module_version": "1.5.0",
      "model_name": "ButtonStyleModel",
      "state": {}
     },
     "d895674711984f37a000c7f00dde5ece": {
      "model_module": "@jupyter-widgets/controls",
      "model_module_version": "1.5.0",
      "model_name": "HBoxModel",
      "state": {
       "children": [
        "IPY_MODEL_f826f84f50c64ac689e14ad85d9c3837",
        "IPY_MODEL_21014de8e2ad4e11bd924b8a9131d77d",
        "IPY_MODEL_5089cce6198a4b38b48f6a43f3be234f",
        "IPY_MODEL_f23b9ef94f154c39ba1c60b4c6c0d03a"
       ],
       "layout": "IPY_MODEL_4d19bd15e3ba487096bb5db271af6abb"
      }
     },
     "d8b903b4fde64228bfae69802d3bbbdf": {
      "model_module": "@jupyter-widgets/controls",
      "model_module_version": "1.5.0",
      "model_name": "DescriptionStyleModel",
      "state": {
       "description_width": ""
      }
     },
     "d8cd923bdbb24ed685dfc0c0e58e7d32": {
      "model_module": "@jupyter-widgets/base",
      "model_module_version": "1.2.0",
      "model_name": "LayoutModel",
      "state": {}
     },
     "d90ee8725bc54efd8b5175de1cae923b": {
      "model_module": "@jupyter-widgets/base",
      "model_module_version": "1.2.0",
      "model_name": "LayoutModel",
      "state": {}
     },
     "d914668e4f944a7bb3d1a10d6f141eba": {
      "model_module": "@jupyter-widgets/controls",
      "model_module_version": "1.5.0",
      "model_name": "CheckboxModel",
      "state": {
       "description": "Show Out-of-Gamut",
       "disabled": false,
       "layout": "IPY_MODEL_c86102d0c9514a15b8f77d54f13c9525",
       "style": "IPY_MODEL_f420158db6194b5f846d17b4a658c395",
       "value": false
      }
     },
     "d930cfcca11047a79a043f1c0cb786a4": {
      "model_module": "@jupyter-widgets/controls",
      "model_module_version": "1.5.0",
      "model_name": "DescriptionStyleModel",
      "state": {
       "description_width": ""
      }
     },
     "d93939bb1440401296231684a3b83fe2": {
      "model_module": "@jupyter-widgets/controls",
      "model_module_version": "1.5.0",
      "model_name": "FloatSliderModel",
      "state": {
       "description": "135°",
       "layout": "IPY_MODEL_8dbebfca53734ad9a8c53deefccc6cf1",
       "max": 1,
       "min": -1,
       "step": 0.01,
       "style": "IPY_MODEL_864e8f49c4334f03a9a7c54ad774b486"
      }
     },
     "d945729a6f8e4b7e9249f2e51c40777f": {
      "model_module": "@jupyter-widgets/base",
      "model_module_version": "1.2.0",
      "model_name": "LayoutModel",
      "state": {}
     },
     "d9589f9603564c339b5a429477a83f48": {
      "model_module": "@jupyter-widgets/base",
      "model_module_version": "1.2.0",
      "model_name": "LayoutModel",
      "state": {}
     },
     "d97f0492e39942db92b1813b70a85846": {
      "model_module": "@jupyter-widgets/controls",
      "model_module_version": "1.5.0",
      "model_name": "FloatSliderModel",
      "state": {
       "description": "90°",
       "layout": "IPY_MODEL_1b9a2021da35415692d8ad62ce42c72d",
       "max": 1,
       "min": -1,
       "step": 0.01,
       "style": "IPY_MODEL_ab2131509bec4c0c906ca1c5ecf02097"
      }
     },
     "d99dcf35d11b4ac1a204b0a7d5bcd568": {
      "model_module": "@jupyter-widgets/controls",
      "model_module_version": "1.5.0",
      "model_name": "DescriptionStyleModel",
      "state": {
       "description_width": ""
      }
     },
     "d9bb5251c91c484591aea814a3424137": {
      "model_module": "@jupyter-widgets/controls",
      "model_module_version": "1.5.0",
      "model_name": "DescriptionStyleModel",
      "state": {
       "description_width": ""
      }
     },
     "d9c3f4104e7a4be09362b8dc14ba7ae5": {
      "model_module": "@jupyter-widgets/controls",
      "model_module_version": "1.5.0",
      "model_name": "SliderStyleModel",
      "state": {
       "description_width": ""
      }
     },
     "d9ed28caaad649e58ca3946b860ab5e1": {
      "model_module": "@jupyter-widgets/base",
      "model_module_version": "1.2.0",
      "model_name": "LayoutModel",
      "state": {
       "border": "solid 4px #222",
       "margin": "4px",
       "padding": "0"
      }
     },
     "d9f969a90cb9454a8ca1e9fb85737083": {
      "model_module": "@jupyter-widgets/base",
      "model_module_version": "1.2.0",
      "model_name": "LayoutModel",
      "state": {}
     },
     "da0a14fb938545dca627123891d36df3": {
      "model_module": "@jupyter-widgets/controls",
      "model_module_version": "1.5.0",
      "model_name": "ButtonModel",
      "state": {
       "description": "Reset Protected Area",
       "layout": "IPY_MODEL_48d5804d1e334e18bc1c52eff5de9d44",
       "style": "IPY_MODEL_5d3a1dc71a1d4077936897e0fe4d6fe8"
      }
     },
     "da3fb2f34f754a6c88efb32b4937d6ff": {
      "model_module": "@jupyter-widgets/controls",
      "model_module_version": "1.5.0",
      "model_name": "ButtonStyleModel",
      "state": {}
     },
     "da99de98ffbe4330aade7a17180bbf16": {
      "model_module": "@jupyter-widgets/controls",
      "model_module_version": "1.5.0",
      "model_name": "SliderStyleModel",
      "state": {
       "description_width": ""
      }
     },
     "da99e6cd7c084af0883628331b4320ac": {
      "model_module": "@jupyter-widgets/controls",
      "model_module_version": "1.5.0",
      "model_name": "FloatSliderModel",
      "state": {
       "description": "90°",
       "layout": "IPY_MODEL_7ce279c6973141089e5bf30564496cb2",
       "max": 1,
       "min": -1,
       "step": 0.01,
       "style": "IPY_MODEL_c1e3fbe52bc144ef91ee48686d908af3"
      }
     },
     "daa825eb2e0c41708975a8cdaf31f2ae": {
      "model_module": "@jupyter-widgets/controls",
      "model_module_version": "1.5.0",
      "model_name": "FloatSliderModel",
      "state": {
       "description": "Protected Area Threshold",
       "layout": "IPY_MODEL_00dda0d1d1304e68905b14d8bf34b000",
       "max": 1,
       "step": 0.01,
       "style": "IPY_MODEL_a3bfc5b21d11447085d8205d989264b6",
       "value": 0.7
      }
     },
     "daad0236f4a2486798a6cd4fd9fa1b01": {
      "model_module": "@jupyter-widgets/base",
      "model_module_version": "1.2.0",
      "model_name": "LayoutModel",
      "state": {
       "border": "solid 4px #222",
       "margin": "4px",
       "padding": "0"
      }
     },
     "dac89e0e3ad1487e8fc44ac39dfba331": {
      "model_module": "@jupyter-widgets/base",
      "model_module_version": "1.2.0",
      "model_name": "LayoutModel",
      "state": {}
     },
     "daeb972e707246c595ea7a82ca3a8307": {
      "model_module": "@jupyter-widgets/controls",
      "model_module_version": "1.5.0",
      "model_name": "TabModel",
      "state": {
       "_titles": {
        "0": "Global Controls",
        "1": "Viewer Controls",
        "2": "Protected Area Controls",
        "3": "Saturation Controls",
        "4": "Hue Controls"
       },
       "children": [
        "IPY_MODEL_f41a3ffdc9b441f1b2efeb8a41f0765e",
        "IPY_MODEL_c09fd84e2cb74995a81c285003f6651c",
        "IPY_MODEL_f364baf57bb14f729660633392e51f7e",
        "IPY_MODEL_b5bce040d4cd46d59ca4d2fc88cf6d19",
        "IPY_MODEL_9f56ceaf1f654dda95fd8fe03b5454a9"
       ],
       "layout": "IPY_MODEL_8fdc5e5d372843d2969fbfa548f6ce4c"
      }
     },
     "db0b1e7ebefa42d49d8e2345d4389397": {
      "model_module": "@jupyter-widgets/controls",
      "model_module_version": "1.5.0",
      "model_name": "FloatSliderModel",
      "state": {
       "description": "0°",
       "layout": "IPY_MODEL_afbf2dc677984bbdad658279b492dd46",
       "max": 1,
       "min": -1,
       "step": 0.01,
       "style": "IPY_MODEL_a64fffa527c0402ebbd92ba79b3d7e3a"
      }
     },
     "db0f2d51e2554232b82d7db7cdcb3602": {
      "model_module": "@jupyter-widgets/controls",
      "model_module_version": "1.5.0",
      "model_name": "SliderStyleModel",
      "state": {
       "description_width": ""
      }
     },
     "db19fac52f2e4a6facbff5fa4b7782e7": {
      "model_module": "@jupyter-widgets/base",
      "model_module_version": "1.2.0",
      "model_name": "LayoutModel",
      "state": {
       "border": "solid 4px #222",
       "margin": "4px",
       "padding": "0"
      }
     },
     "db3130b8a0454bfcb9f372fcca9cf353": {
      "model_module": "@jupyter-widgets/controls",
      "model_module_version": "1.5.0",
      "model_name": "TabModel",
      "state": {
       "_titles": {
        "0": "Global Controls",
        "1": "Viewer Controls"
       },
       "children": [
        "IPY_MODEL_b2fc6e441e994719a2e82b27225b093a",
        "IPY_MODEL_fffd63f078ad40428d45bdd79655adb6"
       ],
       "layout": "IPY_MODEL_3865073fb00c42739bc6281bcf8ad708"
      }
     },
     "db48c796fda14c9e818bc3517ca5522a": {
      "model_module": "@jupyter-widgets/controls",
      "model_module_version": "1.5.0",
      "model_name": "FloatSliderModel",
      "state": {
       "description": "Exposure",
       "layout": "IPY_MODEL_a5c319d1deb14b2b99d294c1ea418804",
       "max": 8,
       "min": -8,
       "step": 0.1,
       "style": "IPY_MODEL_9f7f962e4f2a4a4ab6384f8989fcda83"
      }
     },
     "db65aad9dbba4a59b7faee05c331bffb": {
      "model_module": "@jupyter-widgets/base",
      "model_module_version": "1.2.0",
      "model_name": "LayoutModel",
      "state": {}
     },
     "db69a4af1ce74f2d84ae91cbe987d9c0": {
      "model_module": "@jupyter-widgets/controls",
      "model_module_version": "1.5.0",
      "model_name": "SliderStyleModel",
      "state": {
       "description_width": ""
      }
     },
     "db6e207ab55846aab085793e0908f32d": {
      "model_module": "@jupyter-widgets/controls",
      "model_module_version": "1.5.0",
      "model_name": "BoxModel",
      "state": {
       "children": [
        "IPY_MODEL_05ee89c7fef7424897f9e228fb798df2",
        "IPY_MODEL_d49d0fcc098340f58bc48d87191951fd"
       ],
       "layout": "IPY_MODEL_01decbbf3b13498ebdfdcacdd41db6e2"
      }
     },
     "db71c06318584f31bf0e86bb6cb5535c": {
      "model_module": "@jupyter-widgets/base",
      "model_module_version": "1.2.0",
      "model_name": "LayoutModel",
      "state": {}
     },
     "db721a6850e942ceb283edd876731abe": {
      "model_module": "@jupyter-widgets/controls",
      "model_module_version": "1.5.0",
      "model_name": "SliderStyleModel",
      "state": {
       "description_width": ""
      }
     },
     "db743a70eca342beba5d28eb0514ac9a": {
      "model_module": "@jupyter-widgets/base",
      "model_module_version": "1.2.0",
      "model_name": "LayoutModel",
      "state": {}
     },
     "db7d788183c445609580342ac150c06f": {
      "model_module": "@jupyter-widgets/controls",
      "model_module_version": "1.5.0",
      "model_name": "ButtonModel",
      "state": {
       "description": "Save Figure",
       "layout": "IPY_MODEL_26d0bdd5a3af4c749098d94aaf9e87de",
       "style": "IPY_MODEL_b3f5890bae48444c9fc4a568676cb50a"
      }
     },
     "dbcb6f1e0055427e9a1589c486eabffb": {
      "model_module": "@jupyter-widgets/base",
      "model_module_version": "1.2.0",
      "model_name": "LayoutModel",
      "state": {}
     },
     "dc0c59ccec2c4a1db1410bded35cdb9f": {
      "model_module": "@jupyter-widgets/controls",
      "model_module_version": "1.5.0",
      "model_name": "FloatSliderModel",
      "state": {
       "description": "Exposure",
       "layout": "IPY_MODEL_18709b5114b448659897836680617517",
       "max": 8,
       "min": -8,
       "step": 0.1,
       "style": "IPY_MODEL_62a0fb4141e24583ad3c5d3c6cdc0d27"
      }
     },
     "dc32e23cba29475eacf2ff460f01871c": {
      "model_module": "@jupyter-widgets/base",
      "model_module_version": "1.2.0",
      "model_name": "LayoutModel",
      "state": {}
     },
     "dc4af12d92ed4a718f864711c738885b": {
      "model_module": "@jupyter-widgets/base",
      "model_module_version": "1.2.0",
      "model_name": "LayoutModel",
      "state": {}
     },
     "dc51d440c99948899c70f7f72ce7ee85": {
      "model_module": "@jupyter-widgets/controls",
      "model_module_version": "1.5.0",
      "model_name": "HBoxModel",
      "state": {
       "children": [
        "IPY_MODEL_40feb25ccc06474c91ae11df4fb80b6e",
        "IPY_MODEL_c43965420e2942cabfd31ec196e982d4",
        "IPY_MODEL_743b2a7b39ff4af28220655724432635"
       ],
       "layout": "IPY_MODEL_63179342c90e4d9bbfc760b55550800c"
      }
     },
     "dc5deeaa1a7d492091e093a9de7c8ec9": {
      "model_module": "@jupyter-widgets/base",
      "model_module_version": "1.2.0",
      "model_name": "LayoutModel",
      "state": {}
     },
     "dc7b6e54f977479bb6bf5f8166b705e1": {
      "model_module": "@jupyter-widgets/controls",
      "model_module_version": "1.5.0",
      "model_name": "HBoxModel",
      "state": {
       "children": [
        "IPY_MODEL_82140853827e419090816101911620fa",
        "IPY_MODEL_dfa37863b16442479c7d4e481e033300",
        "IPY_MODEL_4761a507221f4989aa7f129e5a8154e3",
        "IPY_MODEL_493e8c7848c245e48245659957f7fd95"
       ],
       "layout": "IPY_MODEL_77b1c4c8ffca4ba6964f99bf6112939d"
      }
     },
     "dc99a3d9598e4dc2b3f148bf5cea6688": {
      "model_module": "@jupyter-widgets/controls",
      "model_module_version": "1.5.0",
      "model_name": "FloatSliderModel",
      "state": {
       "description": "0°",
       "layout": "IPY_MODEL_683975406d13436084f905c4a1e8fc9f",
       "max": 1,
       "min": -1,
       "step": 0.01,
       "style": "IPY_MODEL_db721a6850e942ceb283edd876731abe"
      }
     },
     "dca352851c6a486c8806f035a2f3a1e3": {
      "model_module": "@jupyter-widgets/base",
      "model_module_version": "1.2.0",
      "model_name": "LayoutModel",
      "state": {}
     },
     "dcc33cd2dac340f6971defd015a8595a": {
      "model_module": "@jupyter-widgets/controls",
      "model_module_version": "1.5.0",
      "model_name": "SliderStyleModel",
      "state": {
       "description_width": ""
      }
     },
     "dccb3b6872624007844ac7a117a480de": {
      "model_module": "@jupyter-widgets/controls",
      "model_module_version": "1.5.0",
      "model_name": "TabModel",
      "state": {
       "_titles": {
        "0": "Global Controls",
        "1": "Viewer Controls",
        "2": "Compression Controls"
       },
       "children": [
        "IPY_MODEL_15e59d4c33bc4aa998fb171230c2cfaf",
        "IPY_MODEL_c8e19f5543c64ba1ae19220847508d6e",
        "IPY_MODEL_0b92644ba351462a83137b97820566b6"
       ],
       "layout": "IPY_MODEL_daad0236f4a2486798a6cd4fd9fa1b01"
      }
     },
     "dd0814482a5445b8aa75ae0c2a020f62": {
      "model_module": "@jupyter-widgets/base",
      "model_module_version": "1.2.0",
      "model_name": "LayoutModel",
      "state": {}
     },
     "dd1825afb7d14362bd1ec2f4b2006758": {
      "model_module": "@jupyter-widgets/base",
      "model_module_version": "1.2.0",
      "model_name": "LayoutModel",
      "state": {}
     },
     "dd5b9a38d5c3459dbca89b5179cf5db5": {
      "model_module": "@jupyter-widgets/controls",
      "model_module_version": "1.5.0",
      "model_name": "FloatSliderModel",
      "state": {
       "description": "Protected Area Threshold",
       "layout": "IPY_MODEL_c1aa6748bd934098a459511dbc47537d",
       "max": 1,
       "step": 0.01,
       "style": "IPY_MODEL_826a58f710db48a9b19e49e3eb16fd82",
       "value": 0.7
      }
     },
     "dd7c5f70ac0c46da8f2fe3f4e6de5cb3": {
      "model_module": "@jupyter-widgets/controls",
      "model_module_version": "1.5.0",
      "model_name": "DescriptionStyleModel",
      "state": {
       "description_width": ""
      }
     },
     "dd854392315a4c91bb057728eef36043": {
      "model_module": "@jupyter-widgets/base",
      "model_module_version": "1.2.0",
      "model_name": "LayoutModel",
      "state": {}
     },
     "dd94c8686a2b4169ab6134f60c39ee6d": {
      "model_module": "@jupyter-widgets/controls",
      "model_module_version": "1.5.0",
      "model_name": "HBoxModel",
      "state": {
       "children": [
        "IPY_MODEL_454bf0f1b71e4073bcdc83d852e5abd3",
        "IPY_MODEL_2cfe185e01a848f1bf4738862d3b0cea",
        "IPY_MODEL_3d44685b601245b5a9aac61dbed674d0"
       ],
       "layout": "IPY_MODEL_62cd5b80aee041b3b07eabf89df1682f"
      }
     },
     "dd9e56a5b2db49b49ff0e1a7065f7fe2": {
      "model_module": "@jupyter-widgets/controls",
      "model_module_version": "1.5.0",
      "model_name": "HBoxModel",
      "state": {
       "children": [
        "IPY_MODEL_049dc509e63f4a90ae19f6b0737dd38f",
        "IPY_MODEL_fa4dad36f89248f3bef390abcc6a3b32"
       ],
       "layout": "IPY_MODEL_45c43c4a204f40c99a233388e24fb2d0"
      }
     },
     "ddb2889838004c278f6cf83382dc7a6d": {
      "model_module": "@jupyter-widgets/base",
      "model_module_version": "1.2.0",
      "model_name": "LayoutModel",
      "state": {}
     },
     "ddc8370ffd2246b591ba854e4746cd58": {
      "model_module": "@jupyter-widgets/controls",
      "model_module_version": "1.5.0",
      "model_name": "BoxModel",
      "state": {
       "children": [
        "IPY_MODEL_31ee86f7b13e46b4ac1b37aa1b97425b",
        "IPY_MODEL_72b97a03af2f4d40a921d4b2be4c6e8e"
       ],
       "layout": "IPY_MODEL_9321ddfa487742248153a7265d658847"
      }
     },
     "ddeb93788f274c83896d4d6a2413cc2c": {
      "model_module": "@jupyter-widgets/base",
      "model_module_version": "1.2.0",
      "model_name": "LayoutModel",
      "state": {}
     },
     "ddf92500cef84ec3aad0dc9a0e2cab68": {
      "model_module": "@jupyter-widgets/controls",
      "model_module_version": "1.5.0",
      "model_name": "ButtonStyleModel",
      "state": {}
     },
     "de05c54b5d884a199472309bf3aeecb0": {
      "model_module": "@jupyter-widgets/base",
      "model_module_version": "1.2.0",
      "model_name": "LayoutModel",
      "state": {}
     },
     "de16b19d221b4f6593e3abca49674cba": {
      "model_module": "@jupyter-widgets/base",
      "model_module_version": "1.2.0",
      "model_name": "LayoutModel",
      "state": {}
     },
     "de347a39613145a08b294b422fc1fd4a": {
      "model_module": "@jupyter-widgets/base",
      "model_module_version": "1.2.0",
      "model_name": "LayoutModel",
      "state": {}
     },
     "de40a247365a4fbcbbcef035108fba9b": {
      "model_module": "@jupyter-widgets/controls",
      "model_module_version": "1.5.0",
      "model_name": "CheckboxModel",
      "state": {
       "description": "Show Out-of-Gamut",
       "disabled": false,
       "layout": "IPY_MODEL_30a5ee477578458f84aec9266cd39c04",
       "style": "IPY_MODEL_8c4bdfff868c443dbff40a726deee31e",
       "value": true
      }
     },
     "de497b2662274418a86510ab02c6cfa6": {
      "model_module": "@jupyter-widgets/controls",
      "model_module_version": "1.5.0",
      "model_name": "SliderStyleModel",
      "state": {
       "description_width": ""
      }
     },
     "de4bf8a54a0e473c8017bd257220d8a0": {
      "model_module": "@jupyter-widgets/controls",
      "model_module_version": "1.5.0",
      "model_name": "FloatSliderModel",
      "state": {
       "description": "315°",
       "layout": "IPY_MODEL_753658d4e7714599aba7d0566b8e6fbc",
       "max": 1,
       "min": -1,
       "step": 0.01,
       "style": "IPY_MODEL_d31e930589254ce4aa0689d5a19383d7"
      }
     },
     "de4c0f6622bc41c2a40a032949cfd60e": {
      "model_module": "@jupyter-widgets/controls",
      "model_module_version": "1.5.0",
      "model_name": "TabModel",
      "state": {
       "_titles": {
        "0": "Global Controls",
        "1": "Viewer Controls",
        "2": "Protected Area Controls",
        "3": "Saturation Controls",
        "4": "Hue Controls"
       },
       "children": [
        "IPY_MODEL_48ab72acdbe544c583d1be1d899e0de9",
        "IPY_MODEL_b60a71d448b54c94bdbf6228c8b4c68c",
        "IPY_MODEL_d08f8a84da4c40a5986b6f06db15546d",
        "IPY_MODEL_f42ea58e90b54017ba70fb079967d703",
        "IPY_MODEL_9af294bc59894da9a1a118d6d274af1b"
       ],
       "layout": "IPY_MODEL_9f8e3314cd3d4ff78dad18cfd6aa4412"
      }
     },
     "de65f40235434ddbb2b66666d06e216a": {
      "model_module": "@jupyter-widgets/controls",
      "model_module_version": "1.5.0",
      "model_name": "TabModel",
      "state": {
       "_titles": {
        "0": "Global Controls",
        "1": "Viewer Controls"
       },
       "children": [
        "IPY_MODEL_67ac7ef4ffbc4c878e9aa09306f7fa17",
        "IPY_MODEL_bd0d2f3c17bc4d019875d22a328bae0e"
       ],
       "layout": "IPY_MODEL_9b4f2cfced4e4e92895da5deb74487d5"
      }
     },
     "de8f9da8121e45409a3004bacaaf1e40": {
      "model_module": "@jupyter-widgets/base",
      "model_module_version": "1.2.0",
      "model_name": "LayoutModel",
      "state": {}
     },
     "deacee2496054fab984c5dbffe8c60e2": {
      "model_module": "@jupyter-widgets/controls",
      "model_module_version": "1.5.0",
      "model_name": "HBoxModel",
      "state": {
       "children": [
        "IPY_MODEL_854a482c5f3b4550b5b494ee31f4e561",
        "IPY_MODEL_97ecbd321524452eb5e1b558ad31055f",
        "IPY_MODEL_a439b88e08dd4367ae86dd2da1782362"
       ],
       "layout": "IPY_MODEL_0d5790d5bf6c4d01b54f5211c462347d"
      }
     },
     "dec852dc43b64531b876b3067b52f37e": {
      "model_module": "@jupyter-widgets/output",
      "model_module_version": "1.0.0",
      "model_name": "OutputModel",
      "state": {
       "layout": "IPY_MODEL_82c1416fc9144d5a9ba3cc0ef3bd280f",
       "outputs": [
        {
         "data": {
          "application/vnd.jupyter.widget-view+json": {
           "model_id": "e5943933230841ceb1c55b353ec0c2b2",
           "version_major": 2,
           "version_minor": 0
          },
          "text/plain": "Canvas(toolbar=Toolbar(toolitems=[('Home', 'Reset original view', 'home', 'home'), ('Back', 'Back to previous …"
         },
         "metadata": {},
         "output_type": "display_data"
        }
       ]
      }
     },
     "def5a6aef3df4c3d90d46e5c5bca3e56": {
      "model_module": "@jupyter-widgets/base",
      "model_module_version": "1.2.0",
      "model_name": "LayoutModel",
      "state": {}
     },
     "df07e6388e5048a9a60c7887616720ad": {
      "model_module": "@jupyter-widgets/base",
      "model_module_version": "1.2.0",
      "model_name": "LayoutModel",
      "state": {}
     },
     "df188a3ab86d4f1eb4773961b0721f04": {
      "model_module": "@jupyter-widgets/base",
      "model_module_version": "1.2.0",
      "model_name": "LayoutModel",
      "state": {}
     },
     "df50a340a1d346d3b1780fa1eead5100": {
      "model_module": "@jupyter-widgets/base",
      "model_module_version": "1.2.0",
      "model_name": "LayoutModel",
      "state": {}
     },
     "df895afdc8ee4314a897e27484296f67": {
      "model_module": "@jupyter-widgets/controls",
      "model_module_version": "1.5.0",
      "model_name": "ButtonModel",
      "state": {
       "description": "Export Image",
       "layout": "IPY_MODEL_ad2556b0f4cc4a2ea475c36ae54b18be",
       "style": "IPY_MODEL_dfa2986b0f3848fd92b1ed4b5d08326d"
      }
     },
     "dfa2986b0f3848fd92b1ed4b5d08326d": {
      "model_module": "@jupyter-widgets/controls",
      "model_module_version": "1.5.0",
      "model_name": "ButtonStyleModel",
      "state": {}
     },
     "dfa37863b16442479c7d4e481e033300": {
      "model_module": "@jupyter-widgets/controls",
      "model_module_version": "1.5.0",
      "model_name": "ButtonModel",
      "state": {
       "description": "Reset Exposure",
       "layout": "IPY_MODEL_857e011aa8c64f82bc38277e82a5d6b4",
       "style": "IPY_MODEL_5cb3f707ae324819a1ff979641eba603"
      }
     },
     "dfa9b175533844f7ad1d5cff40f6ebb7": {
      "model_module": "@jupyter-widgets/base",
      "model_module_version": "1.2.0",
      "model_name": "LayoutModel",
      "state": {}
     },
     "dfc7d47bdad94c6a88dc73c543ba9aa8": {
      "model_module": "@jupyter-widgets/controls",
      "model_module_version": "1.5.0",
      "model_name": "BoxModel",
      "state": {
       "children": [
        "IPY_MODEL_91bd0a8e7b4447cf9bc57fae2527d856",
        "IPY_MODEL_de65f40235434ddbb2b66666d06e216a"
       ],
       "layout": "IPY_MODEL_4321e9aed7ab4279bf71f53ab1e77dc0"
      }
     },
     "e05d34a089ca451a80a6a10663cd0d50": {
      "model_module": "@jupyter-widgets/base",
      "model_module_version": "1.2.0",
      "model_name": "LayoutModel",
      "state": {}
     },
     "e07eda1139ce4c2f8dd2baf0f47a28e6": {
      "model_module": "@jupyter-widgets/controls",
      "model_module_version": "1.5.0",
      "model_name": "CheckboxModel",
      "state": {
       "description": "Show Out-of-Gamut",
       "disabled": false,
       "layout": "IPY_MODEL_ba1191c3e1b84cd4b06834130f7ac706",
       "style": "IPY_MODEL_d1443f9259ae4f27a173fad1428abb0a",
       "value": false
      }
     },
     "e0827974dda04ef4815d8bd65677855b": {
      "model_module": "@jupyter-widgets/controls",
      "model_module_version": "1.5.0",
      "model_name": "HBoxModel",
      "state": {
       "children": [
        "IPY_MODEL_8fefd6d2bdde49b7a17adc9c0a32cf36",
        "IPY_MODEL_bf97ed0e34ec42cc995800a1404b3f9a",
        "IPY_MODEL_65784e9a6dcb4375b25e28c26c9ceb7a"
       ],
       "layout": "IPY_MODEL_d9f969a90cb9454a8ca1e9fb85737083"
      }
     },
     "e090fa1273b74f38a15dd2f6c62659f2": {
      "model_module": "@jupyter-widgets/controls",
      "model_module_version": "1.5.0",
      "model_name": "TabModel",
      "state": {
       "_titles": {
        "0": "Global Controls",
        "1": "Viewer Controls",
        "2": "Compression Controls"
       },
       "children": [
        "IPY_MODEL_e0e509f589014975a5fe1a0788abf67f",
        "IPY_MODEL_6e19c3c0934240c1867809548f9be38a",
        "IPY_MODEL_a4f50aa7963e42bd9bf3d34938699264"
       ],
       "layout": "IPY_MODEL_1d2b4229c8dc41d3a7dcd08d02102918"
      }
     },
     "e0a77e387e434dad967f6644aad33809": {
      "model_module": "@jupyter-widgets/controls",
      "model_module_version": "1.5.0",
      "model_name": "SliderStyleModel",
      "state": {
       "description_width": ""
      }
     },
     "e0e509f589014975a5fe1a0788abf67f": {
      "model_module": "@jupyter-widgets/controls",
      "model_module_version": "1.5.0",
      "model_name": "HBoxModel",
      "state": {
       "children": [
        "IPY_MODEL_fac818126f914b56b646a97bdefe2686",
        "IPY_MODEL_7b41c2b9c7084a91b780ec80ae25bc09",
        "IPY_MODEL_badc203382fb41c1b1c42e4d67d8d9f9"
       ],
       "layout": "IPY_MODEL_2ec3291220564948b15f29d277046176"
      }
     },
     "e0fcc64ad403440b94ce913fa310c5ef": {
      "model_module": "@jupyter-widgets/controls",
      "model_module_version": "1.5.0",
      "model_name": "SliderStyleModel",
      "state": {
       "description_width": ""
      }
     },
     "e137b67bec014eaca698f65262565d31": {
      "model_module": "@jupyter-widgets/base",
      "model_module_version": "1.2.0",
      "model_name": "LayoutModel",
      "state": {}
     },
     "e143692eadae4fb58b49455895a39c13": {
      "model_module": "@jupyter-widgets/base",
      "model_module_version": "1.2.0",
      "model_name": "LayoutModel",
      "state": {}
     },
     "e14df0cf13694e6a8805c61fe169520f": {
      "model_module": "@jupyter-widgets/base",
      "model_module_version": "1.2.0",
      "model_name": "LayoutModel",
      "state": {}
     },
     "e169750e2f424c00bde0dda23d7fcb8b": {
      "model_module": "@jupyter-widgets/controls",
      "model_module_version": "1.5.0",
      "model_name": "HBoxModel",
      "state": {
       "children": [
        "IPY_MODEL_8d981393ec784d41a6cc774bbddb56c8",
        "IPY_MODEL_d7b56ae1041048b290af92865b1eeacb",
        "IPY_MODEL_4a9ee71f59e44196a7ca4dd51b61212b"
       ],
       "layout": "IPY_MODEL_008a6cb8c32245848a0b4a6fd57d8d55"
      }
     },
     "e18431592e7d48c691de3919c92f8ace": {
      "model_module": "@jupyter-widgets/controls",
      "model_module_version": "1.5.0",
      "model_name": "ButtonModel",
      "state": {
       "description": "Save Figure",
       "layout": "IPY_MODEL_864318d36faf49e39dd3ddf4cff5e46c",
       "style": "IPY_MODEL_8e7db82df6d24e07ae426b7c1e89bde3"
      }
     },
     "e1a243b4e08d419f8665cfc7479370cb": {
      "model_module": "@jupyter-widgets/controls",
      "model_module_version": "1.5.0",
      "model_name": "SliderStyleModel",
      "state": {
       "description_width": ""
      }
     },
     "e20c328970e84d9b90a574ff820d8044": {
      "model_module": "@jupyter-widgets/controls",
      "model_module_version": "1.5.0",
      "model_name": "FloatSliderModel",
      "state": {
       "description": "315°",
       "layout": "IPY_MODEL_852c08733fdf4b2583e3cac1b788bccf",
       "max": 1,
       "min": -1,
       "step": 0.01,
       "style": "IPY_MODEL_5ee3b52fc10c4a69beb1dc9b9d5be644"
      }
     },
     "e214c3c33d8146c58989c6906915c3b2": {
      "model_module": "@jupyter-widgets/base",
      "model_module_version": "1.2.0",
      "model_name": "LayoutModel",
      "state": {}
     },
     "e23b1d949d574c4c83169a5ecd933eae": {
      "model_module": "@jupyter-widgets/base",
      "model_module_version": "1.2.0",
      "model_name": "LayoutModel",
      "state": {
       "border": "solid 4px #222",
       "margin": "4px",
       "padding": "0"
      }
     },
     "e240b5ec9322407c9939377f78862a83": {
      "model_module": "@jupyter-widgets/base",
      "model_module_version": "1.2.0",
      "model_name": "LayoutModel",
      "state": {}
     },
     "e294b13a84ef40f1a8d531eea742fdf2": {
      "model_module": "jupyter-matplotlib",
      "model_module_version": "^0.7.2",
      "model_name": "ToolbarModel",
      "state": {
       "layout": "IPY_MODEL_6dcbc7132fd34dac832e6c48d2968b25",
       "toolitems": [
        [
         "Home",
         "Reset original view",
         "home",
         "home"
        ],
        [
         "Back",
         "Back to previous view",
         "arrow-left",
         "back"
        ],
        [
         "Forward",
         "Forward to next view",
         "arrow-right",
         "forward"
        ],
        [
         "Pan",
         "Pan axes with left mouse, zoom with right",
         "arrows",
         "pan"
        ],
        [
         "Zoom",
         "Zoom to rectangle",
         "square-o",
         "zoom"
        ],
        [
         "Download",
         "Download plot",
         "floppy-o",
         "save_figure"
        ]
       ]
      }
     },
     "e2ad5c48daa74753b9caafa6370720f3": {
      "model_module": "@jupyter-widgets/controls",
      "model_module_version": "1.5.0",
      "model_name": "SliderStyleModel",
      "state": {
       "description_width": ""
      }
     },
     "e2b896fb9d2e4ae0ae8582af988a7618": {
      "model_module": "@jupyter-widgets/controls",
      "model_module_version": "1.5.0",
      "model_name": "BoxModel",
      "state": {
       "children": [
        "IPY_MODEL_bd8ee8aedbfb4c31921d5dabbb6c4b0e",
        "IPY_MODEL_52c3b8dff27d44739dd310ec707092a4"
       ],
       "layout": "IPY_MODEL_2c3ff406fa01402e8fc2f2c94b660fd9"
      }
     },
     "e2b9a189d169440c9ea670eba4f06e7f": {
      "model_module": "@jupyter-widgets/base",
      "model_module_version": "1.2.0",
      "model_name": "LayoutModel",
      "state": {}
     },
     "e2bc7eadc1d2467db4587e3a5508ba99": {
      "model_module": "@jupyter-widgets/base",
      "model_module_version": "1.2.0",
      "model_name": "LayoutModel",
      "state": {}
     },
     "e2c4117514e1429ead1d2461401ca4e2": {
      "model_module": "@jupyter-widgets/controls",
      "model_module_version": "1.5.0",
      "model_name": "SliderStyleModel",
      "state": {
       "description_width": ""
      }
     },
     "e2fbe1def6f44edc96fcb41d7804bd82": {
      "model_module": "@jupyter-widgets/controls",
      "model_module_version": "1.5.0",
      "model_name": "ButtonStyleModel",
      "state": {}
     },
     "e2fffb108b2f453d8ddde1cffaa25ea4": {
      "model_module": "@jupyter-widgets/base",
      "model_module_version": "1.2.0",
      "model_name": "LayoutModel",
      "state": {}
     },
     "e30ae7f1d0bc40fdbf47f5738ed49cd1": {
      "model_module": "@jupyter-widgets/base",
      "model_module_version": "1.2.0",
      "model_name": "LayoutModel",
      "state": {}
     },
     "e30e94bfa43d43ef8c1786249947ba58": {
      "model_module": "@jupyter-widgets/controls",
      "model_module_version": "1.5.0",
      "model_name": "HBoxModel",
      "state": {
       "children": [
        "IPY_MODEL_bc4e5e32f21a4f499dc02eb22172e582",
        "IPY_MODEL_47ff5c4aa5aa46d488339fa6d1e1441f",
        "IPY_MODEL_04a46027c21b4a009efcc8757816e146"
       ],
       "layout": "IPY_MODEL_f70651d971584a7995936152276f61d7"
      }
     },
     "e31ea1a65b3e4981b40bd10ac34e7e5c": {
      "model_module": "@jupyter-widgets/controls",
      "model_module_version": "1.5.0",
      "model_name": "ButtonModel",
      "state": {
       "description": "Reset Protected Area",
       "layout": "IPY_MODEL_e6b92dcfaf3045b6b445fc839ee5b995",
       "style": "IPY_MODEL_a5be5de384464c67ac71e702828dd3c8"
      }
     },
     "e330fd00c55c42c49ec1fc53d2ec2564": {
      "model_module": "@jupyter-widgets/controls",
      "model_module_version": "1.5.0",
      "model_name": "ButtonStyleModel",
      "state": {}
     },
     "e34a23425daf4cf59d524e27287880e4": {
      "model_module": "@jupyter-widgets/controls",
      "model_module_version": "1.5.0",
      "model_name": "SliderStyleModel",
      "state": {
       "description_width": ""
      }
     },
     "e3803033449c42e0831e9aa32263e1fe": {
      "model_module": "@jupyter-widgets/base",
      "model_module_version": "1.2.0",
      "model_name": "LayoutModel",
      "state": {}
     },
     "e39c502cd00f45dcb097013c133acd33": {
      "model_module": "@jupyter-widgets/base",
      "model_module_version": "1.2.0",
      "model_name": "LayoutModel",
      "state": {
       "border": "solid 4px #222",
       "margin": "4px",
       "padding": "0"
      }
     },
     "e3a041929e8047ed9c91f5556bc39301": {
      "model_module": "@jupyter-widgets/base",
      "model_module_version": "1.2.0",
      "model_name": "LayoutModel",
      "state": {}
     },
     "e3e71c2eaf2d4f75989c8ecc5c86d965": {
      "model_module": "@jupyter-widgets/controls",
      "model_module_version": "1.5.0",
      "model_name": "ButtonStyleModel",
      "state": {}
     },
     "e45095d9869b417fb879dad0d26975d0": {
      "model_module": "@jupyter-widgets/controls",
      "model_module_version": "1.5.0",
      "model_name": "FloatSliderModel",
      "state": {
       "description": "Exposure",
       "layout": "IPY_MODEL_5d717d1184cf4bc0b8a9fd68a0441f8b",
       "max": 8,
       "min": -8,
       "step": 0.1,
       "style": "IPY_MODEL_9afa39666c284b80aba2d1b66e546c55"
      }
     },
     "e47f173bb73444349d767a29201485ae": {
      "model_module": "@jupyter-widgets/controls",
      "model_module_version": "1.5.0",
      "model_name": "SliderStyleModel",
      "state": {
       "description_width": ""
      }
     },
     "e4e47788aa374f15aeb3c7c2a63f1a87": {
      "model_module": "@jupyter-widgets/base",
      "model_module_version": "1.2.0",
      "model_name": "LayoutModel",
      "state": {}
     },
     "e510c5ccc70f447c97e23ca92155d2a9": {
      "model_module": "@jupyter-widgets/controls",
      "model_module_version": "1.5.0",
      "model_name": "ButtonModel",
      "state": {
       "description": "Reset Hue Controls",
       "layout": "IPY_MODEL_7b76cd6f1dd74d7baf594b3cf02a5af7",
       "style": "IPY_MODEL_eff4199914b74687ae944b0a25b958a1"
      }
     },
     "e510fc0679794631ace9f8fcd45bcc32": {
      "model_module": "@jupyter-widgets/controls",
      "model_module_version": "1.5.0",
      "model_name": "CheckboxModel",
      "state": {
       "description": "Show Out-of-Gamut",
       "disabled": false,
       "layout": "IPY_MODEL_bad16d675de044a98be13d6c211a9b6d",
       "style": "IPY_MODEL_57ec16a1b5f6449f909a207c55fbcdc2",
       "value": false
      }
     },
     "e53339db42be44aa8c9838ed402b2ddd": {
      "model_module": "@jupyter-widgets/controls",
      "model_module_version": "1.5.0",
      "model_name": "ButtonModel",
      "state": {
       "description": "Reset Exposure",
       "layout": "IPY_MODEL_d510962683754439ab71ffbcb0fac421",
       "style": "IPY_MODEL_113caae5f40c42f38b8a594f02d969c4"
      }
     },
     "e54b0d93f1ca4dd0a24a520b00e4e248": {
      "model_module": "@jupyter-widgets/controls",
      "model_module_version": "1.5.0",
      "model_name": "VBoxModel",
      "state": {
       "children": [
        "IPY_MODEL_e510c5ccc70f447c97e23ca92155d2a9"
       ],
       "layout": "IPY_MODEL_0623086d43a744a782e7cea925e26614"
      }
     },
     "e56c3f2414de4a608445b60faf0ed2cb": {
      "model_module": "@jupyter-widgets/base",
      "model_module_version": "1.2.0",
      "model_name": "LayoutModel",
      "state": {}
     },
     "e575a408917049acb3c265aa8f373d71": {
      "model_module": "@jupyter-widgets/base",
      "model_module_version": "1.2.0",
      "model_name": "LayoutModel",
      "state": {}
     },
     "e57a1f282f11463b80a38d4dd53eef6d": {
      "model_module": "@jupyter-widgets/controls",
      "model_module_version": "1.5.0",
      "model_name": "ButtonStyleModel",
      "state": {}
     },
     "e581a819858e4247a691a6561fa6ff33": {
      "model_module": "@jupyter-widgets/base",
      "model_module_version": "1.2.0",
      "model_name": "LayoutModel",
      "state": {}
     },
     "e592cc5423c94a83a41db534c5d21e2e": {
      "model_module": "@jupyter-widgets/controls",
      "model_module_version": "1.5.0",
      "model_name": "DescriptionStyleModel",
      "state": {
       "description_width": ""
      }
     },
     "e5943933230841ceb1c55b353ec0c2b2": {
      "model_module": "jupyter-matplotlib",
      "model_module_version": "^0.7.2",
      "model_name": "MPLCanvasModel",
      "state": {
       "header_visible": false,
       "layout": "IPY_MODEL_8ec4680e4caf44a3826cdbdf6a1524fc",
       "resizable": false,
       "toolbar": "IPY_MODEL_65a7138b134a4d6491725aa1877eb6cf",
       "toolbar_position": "left",
       "toolbar_visible": false
      }
     },
     "e5b7637feb494e5e8068583a3ecefc85": {
      "model_module": "@jupyter-widgets/controls",
      "model_module_version": "1.5.0",
      "model_name": "HBoxModel",
      "state": {
       "children": [
        "IPY_MODEL_47e476f5f5c74f0b909b79808e3f346b",
        "IPY_MODEL_41d2a8d85eee495bbb346e41fb5ffe8c",
        "IPY_MODEL_8b00832167e947ec988ba97195095b1e"
       ],
       "layout": "IPY_MODEL_5dd12d1949de4160b30cfdcc0d706b5f"
      }
     },
     "e5c1a105b0b64e908da34c3c2b17bd64": {
      "model_module": "jupyter-matplotlib",
      "model_module_version": "^0.7.2",
      "model_name": "ToolbarModel",
      "state": {
       "layout": "IPY_MODEL_12bdf82b51f649ceac7ba7d3036499df",
       "toolitems": [
        [
         "Home",
         "Reset original view",
         "home",
         "home"
        ],
        [
         "Back",
         "Back to previous view",
         "arrow-left",
         "back"
        ],
        [
         "Forward",
         "Forward to next view",
         "arrow-right",
         "forward"
        ],
        [
         "Pan",
         "Pan axes with left mouse, zoom with right",
         "arrows",
         "pan"
        ],
        [
         "Zoom",
         "Zoom to rectangle",
         "square-o",
         "zoom"
        ],
        [
         "Download",
         "Download plot",
         "floppy-o",
         "save_figure"
        ]
       ]
      }
     },
     "e5cea108c6b64cc9be97d8cf954a6a86": {
      "model_module": "@jupyter-widgets/controls",
      "model_module_version": "1.5.0",
      "model_name": "ButtonModel",
      "state": {
       "description": "Reset Saturation Controls",
       "layout": "IPY_MODEL_05c52c9b0f4f42c4bbe8fb48a854bda3",
       "style": "IPY_MODEL_4fa7ca9a28c043d4bb6152dc5b072429"
      }
     },
     "e65a6e84913f414c8c24a7153e76d27e": {
      "model_module": "@jupyter-widgets/controls",
      "model_module_version": "1.5.0",
      "model_name": "SliderStyleModel",
      "state": {
       "description_width": ""
      }
     },
     "e69a079e27a54af8948eae306ad72848": {
      "model_module": "@jupyter-widgets/controls",
      "model_module_version": "1.5.0",
      "model_name": "DescriptionStyleModel",
      "state": {
       "description_width": ""
      }
     },
     "e6b92dcfaf3045b6b445fc839ee5b995": {
      "model_module": "@jupyter-widgets/base",
      "model_module_version": "1.2.0",
      "model_name": "LayoutModel",
      "state": {}
     },
     "e6becaaff1504ed483a68f2ae2d638d1": {
      "model_module": "@jupyter-widgets/base",
      "model_module_version": "1.2.0",
      "model_name": "LayoutModel",
      "state": {}
     },
     "e6c78549c16e446ca243081b454f6714": {
      "model_module": "@jupyter-widgets/controls",
      "model_module_version": "1.5.0",
      "model_name": "BoxModel",
      "state": {
       "children": [
        "IPY_MODEL_9202d5a0be3f4546b347d905902d37f4",
        "IPY_MODEL_cc339d43377a4ef8a6c4ad1a4ab5d7aa"
       ],
       "layout": "IPY_MODEL_f93222825b294e7491fcaf5815b5fe0c"
      }
     },
     "e6d8fce0be6846cea5073c16539ea55e": {
      "model_module": "@jupyter-widgets/controls",
      "model_module_version": "1.5.0",
      "model_name": "DescriptionStyleModel",
      "state": {
       "description_width": ""
      }
     },
     "e6dffe0f5b1d4657a4879a6532065fdf": {
      "model_module": "@jupyter-widgets/controls",
      "model_module_version": "1.5.0",
      "model_name": "ButtonModel",
      "state": {
       "description": "Reset Saturation Controls",
       "layout": "IPY_MODEL_7cad9b507e2d45189b7d5f5d282c78e4",
       "style": "IPY_MODEL_2303c754ca07477b8a0f7424488a49f0"
      }
     },
     "e71134715d5549d88c5db37f00bbbf75": {
      "model_module": "@jupyter-widgets/controls",
      "model_module_version": "1.5.0",
      "model_name": "ButtonStyleModel",
      "state": {}
     },
     "e7309f72131d41c5a304d0b9a6ed1930": {
      "model_module": "@jupyter-widgets/controls",
      "model_module_version": "1.5.0",
      "model_name": "HBoxModel",
      "state": {
       "children": [
        "IPY_MODEL_1e23794e19044cc791ad184c8c1a6a65",
        "IPY_MODEL_5cd6ad267f304cb18e8b76e56c4c89ec",
        "IPY_MODEL_adabdfbb0b9f49d083485cd5f580ae11"
       ],
       "layout": "IPY_MODEL_c6b9311d896f45e3af2045ff67ffdb92"
      }
     },
     "e7444431a7c0423696ff3281accf4eb7": {
      "model_module": "@jupyter-widgets/base",
      "model_module_version": "1.2.0",
      "model_name": "LayoutModel",
      "state": {}
     },
     "e7a19da9b373458c8449584fc40e1cd4": {
      "model_module": "@jupyter-widgets/controls",
      "model_module_version": "1.5.0",
      "model_name": "FloatSliderModel",
      "state": {
       "description": "270°",
       "layout": "IPY_MODEL_063aef9f2ca74e1d9807221e15949d1f",
       "max": 1,
       "min": -1,
       "step": 0.01,
       "style": "IPY_MODEL_4d8d2253b18240c38564302599d7d618"
      }
     },
     "e7c6cf063e814760850b605a8e74fea5": {
      "model_module": "@jupyter-widgets/controls",
      "model_module_version": "1.5.0",
      "model_name": "DescriptionStyleModel",
      "state": {
       "description_width": ""
      }
     },
     "e7f8c41781a34026a4e1312292722930": {
      "model_module": "@jupyter-widgets/controls",
      "model_module_version": "1.5.0",
      "model_name": "DescriptionStyleModel",
      "state": {
       "description_width": ""
      }
     },
     "e7feb913d9ec4360a31ebddf1ac2e576": {
      "model_module": "@jupyter-widgets/controls",
      "model_module_version": "1.5.0",
      "model_name": "DescriptionStyleModel",
      "state": {
       "description_width": ""
      }
     },
     "e82cbafd77384c33b82970361106cd06": {
      "model_module": "@jupyter-widgets/base",
      "model_module_version": "1.2.0",
      "model_name": "LayoutModel",
      "state": {}
     },
     "e85bf79bd0984a7ea991d5de90d10b8b": {
      "model_module": "@jupyter-widgets/controls",
      "model_module_version": "1.5.0",
      "model_name": "HBoxModel",
      "state": {
       "children": [
        "IPY_MODEL_9e8bc76da6834d33813ffe46a8cb321b",
        "IPY_MODEL_b976ac54b5e64668bd45c4836d75f1d0"
       ],
       "layout": "IPY_MODEL_5466ceee2f77464b9c5d9f596ee689f1"
      }
     },
     "e86ee57c4fba47909b76bef8da8cf475": {
      "model_module": "@jupyter-widgets/controls",
      "model_module_version": "1.5.0",
      "model_name": "SliderStyleModel",
      "state": {
       "description_width": ""
      }
     },
     "e871015738da453a8e194c8bd236ba8b": {
      "model_module": "@jupyter-widgets/controls",
      "model_module_version": "1.5.0",
      "model_name": "SliderStyleModel",
      "state": {
       "description_width": ""
      }
     },
     "e8b13dd6e897478ba8bb2389bf082252": {
      "model_module": "@jupyter-widgets/controls",
      "model_module_version": "1.5.0",
      "model_name": "FloatSliderModel",
      "state": {
       "description": "Compression Threshold",
       "layout": "IPY_MODEL_d473fe31d70041218e3104ef40083c43",
       "max": 1,
       "step": 0.01,
       "style": "IPY_MODEL_e34a23425daf4cf59d524e27287880e4",
       "value": 0.8
      }
     },
     "e8bf862e725a4389b6d26e12ab2a7984": {
      "model_module": "@jupyter-widgets/base",
      "model_module_version": "1.2.0",
      "model_name": "LayoutModel",
      "state": {}
     },
     "e9131c0b35234d81a699edc50541ac85": {
      "model_module": "@jupyter-widgets/base",
      "model_module_version": "1.2.0",
      "model_name": "LayoutModel",
      "state": {}
     },
     "e92f178fc1ce4a1a8be259bc920856fe": {
      "model_module": "@jupyter-widgets/base",
      "model_module_version": "1.2.0",
      "model_name": "LayoutModel",
      "state": {}
     },
     "e943f188a7a84a4bad0962097f16c9e4": {
      "model_module": "@jupyter-widgets/base",
      "model_module_version": "1.2.0",
      "model_name": "LayoutModel",
      "state": {}
     },
     "e96403e88a3d4938af2f08ee76685d7b": {
      "model_module": "@jupyter-widgets/controls",
      "model_module_version": "1.5.0",
      "model_name": "ButtonStyleModel",
      "state": {}
     },
     "e98290dd084444ff93a7f8e743587d71": {
      "model_module": "@jupyter-widgets/base",
      "model_module_version": "1.2.0",
      "model_name": "LayoutModel",
      "state": {}
     },
     "e99af45c0b7b4dffb3f23e5ee06b34cd": {
      "model_module": "@jupyter-widgets/controls",
      "model_module_version": "1.5.0",
      "model_name": "FloatSliderModel",
      "state": {
       "description": "225°",
       "layout": "IPY_MODEL_ae12615e5a0e46a2a75bcca4451c1146",
       "max": 1,
       "min": -1,
       "step": 0.01,
       "style": "IPY_MODEL_10c1d818e2f440a881ef8720f7a7571b"
      }
     },
     "e9aad03c9813499f91c0fdc3b3ed07bf": {
      "model_module": "@jupyter-widgets/controls",
      "model_module_version": "1.5.0",
      "model_name": "BoxModel",
      "state": {
       "children": [
        "IPY_MODEL_c6f7277fcf8b4387b37987519864105a",
        "IPY_MODEL_760aeff7e38c428c9426d01b15eaf297"
       ],
       "layout": "IPY_MODEL_7a34089c810f4c7cb92b07aa43e4a27d"
      }
     },
     "e9bb4e55d897484c89e15c761452033f": {
      "model_module": "@jupyter-widgets/controls",
      "model_module_version": "1.5.0",
      "model_name": "SliderStyleModel",
      "state": {
       "description_width": ""
      }
     },
     "e9cebe78ad364f1cad5314cf0c448ba6": {
      "model_module": "@jupyter-widgets/base",
      "model_module_version": "1.2.0",
      "model_name": "LayoutModel",
      "state": {}
     },
     "e9e9fed595d64659a2fef2e4ddb763fa": {
      "model_module": "@jupyter-widgets/controls",
      "model_module_version": "1.5.0",
      "model_name": "FloatSliderModel",
      "state": {
       "description": "135°",
       "layout": "IPY_MODEL_d6b642b18cdf4e759317b9a79b4b896c",
       "max": 1,
       "min": -1,
       "step": 0.01,
       "style": "IPY_MODEL_789a4987d81341c6bd3725a4f757d4c7"
      }
     },
     "e9f24edac9b7417e9259e9372b3e9862": {
      "model_module": "@jupyter-widgets/base",
      "model_module_version": "1.2.0",
      "model_name": "LayoutModel",
      "state": {}
     },
     "ea46336df40a4e0aa97cad3e21e6abe1": {
      "model_module": "@jupyter-widgets/controls",
      "model_module_version": "1.5.0",
      "model_name": "FloatSliderModel",
      "state": {
       "description": "Exposure",
       "layout": "IPY_MODEL_5c6b68404b284eb0897c7b2e5c6d0689",
       "max": 8,
       "min": -8,
       "step": 0.1,
       "style": "IPY_MODEL_106d582d9f0442e48ada8484826cc471"
      }
     },
     "ea517ba3411b4ddba2405ead0e98c0df": {
      "model_module": "@jupyter-widgets/controls",
      "model_module_version": "1.5.0",
      "model_name": "SliderStyleModel",
      "state": {
       "description_width": ""
      }
     },
     "ea60b871b5d243fb88bb856afe2aad2b": {
      "model_module": "@jupyter-widgets/base",
      "model_module_version": "1.2.0",
      "model_name": "LayoutModel",
      "state": {}
     },
     "ea62142d70f245238dcaf32dca2144a6": {
      "model_module": "@jupyter-widgets/base",
      "model_module_version": "1.2.0",
      "model_name": "LayoutModel",
      "state": {}
     },
     "ea62dbb25c104297a4137945209da669": {
      "model_module": "@jupyter-widgets/base",
      "model_module_version": "1.2.0",
      "model_name": "LayoutModel",
      "state": {}
     },
     "eaace036732946c9a91f0a255252c811": {
      "model_module": "@jupyter-widgets/controls",
      "model_module_version": "1.5.0",
      "model_name": "ButtonStyleModel",
      "state": {}
     },
     "eb193298fef74654a49ada94bf72a757": {
      "model_module": "@jupyter-widgets/controls",
      "model_module_version": "1.5.0",
      "model_name": "VBoxModel",
      "state": {
       "children": [
        "IPY_MODEL_a2ad2f66c60c4bd3bc71bc63faef8c41"
       ],
       "layout": "IPY_MODEL_d28257a0ecd34a69b2cb4e3052ebadf6"
      }
     },
     "eb204c0bde9e49f5b3f6055a23eace1d": {
      "model_module": "@jupyter-widgets/base",
      "model_module_version": "1.2.0",
      "model_name": "LayoutModel",
      "state": {}
     },
     "eb26ae293c06406eb99b95d224bcde1a": {
      "model_module": "@jupyter-widgets/controls",
      "model_module_version": "1.5.0",
      "model_name": "FloatSliderModel",
      "state": {
       "description": "Exposure",
       "layout": "IPY_MODEL_7fb052d600dc4f63829126b3e7eb51be",
       "max": 8,
       "min": -8,
       "step": 0.1,
       "style": "IPY_MODEL_20940864d1474560adf3a2dcac069ccd"
      }
     },
     "eb4587b990914252bd00d25a89aed425": {
      "model_module": "@jupyter-widgets/controls",
      "model_module_version": "1.5.0",
      "model_name": "TabModel",
      "state": {
       "_titles": {
        "0": "Global Controls",
        "1": "Viewer Controls",
        "2": "Protected Area Controls",
        "3": "Saturation Controls",
        "4": "Hue Controls"
       },
       "children": [
        "IPY_MODEL_7052fc53b40644898db81b562894a87d",
        "IPY_MODEL_f927d6c6e30a49dd9d18f9679a88eb39",
        "IPY_MODEL_05d09bf9fc7e45d89a960c1be042716e",
        "IPY_MODEL_f5f2f0c48d034c8391ee7c015dccacb6",
        "IPY_MODEL_d895674711984f37a000c7f00dde5ece"
       ],
       "layout": "IPY_MODEL_bdcf6e1a1d5a4f0ba52aebc1af68e397"
      }
     },
     "eb4f595fcc124898abc2e54cd685ef74": {
      "model_module": "@jupyter-widgets/base",
      "model_module_version": "1.2.0",
      "model_name": "LayoutModel",
      "state": {}
     },
     "eb647e49d0934944a76cf9d39ea23929": {
      "model_module": "@jupyter-widgets/controls",
      "model_module_version": "1.5.0",
      "model_name": "DescriptionStyleModel",
      "state": {
       "description_width": ""
      }
     },
     "eb82c051c0924d91ae08a636c98eb3bb": {
      "model_module": "@jupyter-widgets/controls",
      "model_module_version": "1.5.0",
      "model_name": "ButtonStyleModel",
      "state": {}
     },
     "eb9ee91527a64761aea0b91f7a9397fb": {
      "model_module": "@jupyter-widgets/controls",
      "model_module_version": "1.5.0",
      "model_name": "ButtonStyleModel",
      "state": {}
     },
     "ebd1dde73a684f559784a5ff05574a1d": {
      "model_module": "@jupyter-widgets/controls",
      "model_module_version": "1.5.0",
      "model_name": "ButtonModel",
      "state": {
       "description": "Reset Saturation Controls",
       "layout": "IPY_MODEL_9d03e57cff80404184ce87931202e5bd",
       "style": "IPY_MODEL_5b1969727e4549ac8e5d1c194755bfcf"
      }
     },
     "ec06682cea6a4aafbb57b50305ba7470": {
      "model_module": "@jupyter-widgets/base",
      "model_module_version": "1.2.0",
      "model_name": "LayoutModel",
      "state": {}
     },
     "ec0cb6dede1b442ca029edc18cb74fee": {
      "model_module": "@jupyter-widgets/controls",
      "model_module_version": "1.5.0",
      "model_name": "ButtonModel",
      "state": {
       "description": "Export Image",
       "layout": "IPY_MODEL_d4fadc9aa1ec4b27a4dce336ce8c93ca",
       "style": "IPY_MODEL_ca947695d77348d68e7006759b3d4047"
      }
     },
     "ec25fda71a46415b9bf6f08c97891e83": {
      "model_module": "@jupyter-widgets/base",
      "model_module_version": "1.2.0",
      "model_name": "LayoutModel",
      "state": {
       "border": "solid 4px #222",
       "margin": "4px",
       "padding": "0"
      }
     },
     "ec4eae0ee09c4d5c84dbb040cd7b0af4": {
      "model_module": "@jupyter-widgets/base",
      "model_module_version": "1.2.0",
      "model_name": "LayoutModel",
      "state": {}
     },
     "ec84beafbb194a43af00d1ed064251cc": {
      "model_module": "@jupyter-widgets/controls",
      "model_module_version": "1.5.0",
      "model_name": "ButtonStyleModel",
      "state": {}
     },
     "ecd4243809644a73aedc6e8c8b70b990": {
      "model_module": "@jupyter-widgets/base",
      "model_module_version": "1.2.0",
      "model_name": "LayoutModel",
      "state": {}
     },
     "ed124ebcffe149a0b6e91ea26f8d20d4": {
      "model_module": "@jupyter-widgets/base",
      "model_module_version": "1.2.0",
      "model_name": "LayoutModel",
      "state": {}
     },
     "ed14b61022d949eb93b4d7c1d7342b9c": {
      "model_module": "@jupyter-widgets/controls",
      "model_module_version": "1.5.0",
      "model_name": "SliderStyleModel",
      "state": {
       "description_width": ""
      }
     },
     "ed2b52259ee04fd99e0914313cb5ab92": {
      "model_module": "@jupyter-widgets/controls",
      "model_module_version": "1.5.0",
      "model_name": "ButtonModel",
      "state": {
       "description": "Reset Hue Controls",
       "layout": "IPY_MODEL_16840bd35c03403ca13656958fbfef83",
       "style": "IPY_MODEL_650206a2ef894696ad0b24d6cfd4fec3"
      }
     },
     "ed3455068eb64c96b0a94968f2aaa100": {
      "model_module": "@jupyter-widgets/base",
      "model_module_version": "1.2.0",
      "model_name": "LayoutModel",
      "state": {}
     },
     "ed5b6acf72f44759b1b54f2702039a5a": {
      "model_module": "@jupyter-widgets/controls",
      "model_module_version": "1.5.0",
      "model_name": "ButtonStyleModel",
      "state": {}
     },
     "ed7298c809bf4732a2192071639fe7d5": {
      "model_module": "@jupyter-widgets/controls",
      "model_module_version": "1.5.0",
      "model_name": "VBoxModel",
      "state": {
       "children": [
        "IPY_MODEL_099102a979e64679b0f36fb56e9b5908",
        "IPY_MODEL_2f329a8294294d6fb1f9b793e817a1cc"
       ],
       "layout": "IPY_MODEL_f3d3059620b2414faa3585168981a145"
      }
     },
     "ed7ec3d7d4874e158ce85a74aaff8c7f": {
      "model_module": "@jupyter-widgets/controls",
      "model_module_version": "1.5.0",
      "model_name": "ButtonStyleModel",
      "state": {}
     },
     "edc8b033a7444b43a5bc981c153ab2b8": {
      "model_module": "@jupyter-widgets/base",
      "model_module_version": "1.2.0",
      "model_name": "LayoutModel",
      "state": {}
     },
     "edd889ba7b754ed1a642d2aada07cedb": {
      "model_module": "@jupyter-widgets/base",
      "model_module_version": "1.2.0",
      "model_name": "LayoutModel",
      "state": {}
     },
     "edfebb4c26684d2eb89140edb8f9f817": {
      "model_module": "@jupyter-widgets/base",
      "model_module_version": "1.2.0",
      "model_name": "LayoutModel",
      "state": {}
     },
     "ee1ebdf65c52418ebbff1e784882f160": {
      "model_module": "@jupyter-widgets/controls",
      "model_module_version": "1.5.0",
      "model_name": "ButtonStyleModel",
      "state": {}
     },
     "ee3bbedb49744c73bda367bfa2b1fbf9": {
      "model_module": "@jupyter-widgets/base",
      "model_module_version": "1.2.0",
      "model_name": "LayoutModel",
      "state": {}
     },
     "ee507562012e4cf6ab3924bb40eaae6b": {
      "model_module": "@jupyter-widgets/controls",
      "model_module_version": "1.5.0",
      "model_name": "ButtonStyleModel",
      "state": {}
     },
     "ee6c293837454235abc74f9f7a2a4ccb": {
      "model_module": "@jupyter-widgets/controls",
      "model_module_version": "1.5.0",
      "model_name": "VBoxModel",
      "state": {
       "children": [
        "IPY_MODEL_8f38a5ef848b4b57b9d39aaae207d652",
        "IPY_MODEL_8aa6ba7cea794d2fbc658c08da33c246"
       ],
       "layout": "IPY_MODEL_f4dc393497624db591878a1c9769b8a2"
      }
     },
     "ee6f494e6fd34cc08d1151def127337b": {
      "model_module": "@jupyter-widgets/controls",
      "model_module_version": "1.5.0",
      "model_name": "FloatSliderModel",
      "state": {
       "description": "Compression Threshold",
       "layout": "IPY_MODEL_abed08603e064d48aead60e853068e1b",
       "max": 1,
       "step": 0.01,
       "style": "IPY_MODEL_e2c4117514e1429ead1d2461401ca4e2",
       "value": 0.8
      }
     },
     "ee7f171a79894cefa95f5dbda1ee91d9": {
      "model_module": "jupyter-matplotlib",
      "model_module_version": "^0.7.2",
      "model_name": "MPLCanvasModel",
      "state": {
       "header_visible": false,
       "layout": "IPY_MODEL_95761ca67c614ae28da8d5a0b4f03aa9",
       "resizable": false,
       "toolbar": "IPY_MODEL_0cda2474d1c24bd7a645faafb1b57ddf",
       "toolbar_position": "left",
       "toolbar_visible": false
      }
     },
     "ee8fda6ec99a41fb9db3fc371f16baf4": {
      "model_module": "@jupyter-widgets/base",
      "model_module_version": "1.2.0",
      "model_name": "LayoutModel",
      "state": {}
     },
     "eea46c60f8104797847688370dd8bedd": {
      "model_module": "@jupyter-widgets/controls",
      "model_module_version": "1.5.0",
      "model_name": "DescriptionStyleModel",
      "state": {
       "description_width": ""
      }
     },
     "ef4991e5793149a1b78c7a394e962298": {
      "model_module": "@jupyter-widgets/controls",
      "model_module_version": "1.5.0",
      "model_name": "HBoxModel",
      "state": {
       "children": [
        "IPY_MODEL_8683b80f6aff420fb4e43b596fcceb0a",
        "IPY_MODEL_a6bda903b28e41f8ba6217111364dde0",
        "IPY_MODEL_f81c13bb7a004dac825ee9d47447542d"
       ],
       "layout": "IPY_MODEL_156465dae92e4e8fa8309047da784f5a"
      }
     },
     "ef6bd15bc88649c8b9494f22af18013e": {
      "model_module": "@jupyter-widgets/base",
      "model_module_version": "1.2.0",
      "model_name": "LayoutModel",
      "state": {}
     },
     "ef6d9cbbc54c4d83849b32e5ca5767df": {
      "model_module": "@jupyter-widgets/base",
      "model_module_version": "1.2.0",
      "model_name": "LayoutModel",
      "state": {}
     },
     "ef7bd18e7b46417985ee76cf8c8d3623": {
      "model_module": "@jupyter-widgets/controls",
      "model_module_version": "1.5.0",
      "model_name": "TabModel",
      "state": {
       "_titles": {
        "0": "Global Controls",
        "1": "Viewer Controls",
        "2": "Compression Controls"
       },
       "children": [
        "IPY_MODEL_cc871bc9421a4692a9aed122d086c63d",
        "IPY_MODEL_beb741d0f4b9415481d0a0b615d43790",
        "IPY_MODEL_0fd1b5155a574c61a914d57c37ac4c35"
       ],
       "layout": "IPY_MODEL_113494f638334d3fb7fe074576be6729"
      }
     },
     "ef9eee3ac8d64fefb6dcd3245aed10d8": {
      "model_module": "jupyter-matplotlib",
      "model_module_version": "^0.7.2",
      "model_name": "ToolbarModel",
      "state": {
       "layout": "IPY_MODEL_ac587513635c412eb2c19ab59930ce19",
       "toolitems": [
        [
         "Home",
         "Reset original view",
         "home",
         "home"
        ],
        [
         "Back",
         "Back to previous view",
         "arrow-left",
         "back"
        ],
        [
         "Forward",
         "Forward to next view",
         "arrow-right",
         "forward"
        ],
        [
         "Pan",
         "Pan axes with left mouse, zoom with right",
         "arrows",
         "pan"
        ],
        [
         "Zoom",
         "Zoom to rectangle",
         "square-o",
         "zoom"
        ],
        [
         "Download",
         "Download plot",
         "floppy-o",
         "save_figure"
        ]
       ]
      }
     },
     "efc152a22fd64e92becd48b7dca6c4e5": {
      "model_module": "@jupyter-widgets/controls",
      "model_module_version": "1.5.0",
      "model_name": "VBoxModel",
      "state": {
       "children": [
        "IPY_MODEL_b5c2023497df4c16840d0b68121b2ee6",
        "IPY_MODEL_697c3579cdc940559912da0c0cb4324d",
        "IPY_MODEL_985c121e403d4bd7ac0f94d34b7cad85"
       ],
       "layout": "IPY_MODEL_fc56c2e2bc24493db7563dde85ed6f91"
      }
     },
     "efdff4285b0f426fac5755b96a7f5fcc": {
      "model_module": "@jupyter-widgets/base",
      "model_module_version": "1.2.0",
      "model_name": "LayoutModel",
      "state": {}
     },
     "efe4f458c4a0457b9bd92ab5bf7a1fb4": {
      "model_module": "jupyter-matplotlib",
      "model_module_version": "^0.7.2",
      "model_name": "MPLCanvasModel",
      "state": {
       "header_visible": false,
       "layout": "IPY_MODEL_42a6d0b603514e6090c5e4b7356456d3",
       "resizable": false,
       "toolbar": "IPY_MODEL_21b9b5ea036446f0ba8a3336d32d4384",
       "toolbar_position": "left",
       "toolbar_visible": false
      }
     },
     "efedd9361f314119821c4be4900db543": {
      "model_module": "@jupyter-widgets/base",
      "model_module_version": "1.2.0",
      "model_name": "LayoutModel",
      "state": {}
     },
     "efef57460d43409f93381a15afb19f5b": {
      "model_module": "@jupyter-widgets/controls",
      "model_module_version": "1.5.0",
      "model_name": "VBoxModel",
      "state": {
       "children": [
        "IPY_MODEL_c57641bd098e418ebd0e962380330841"
       ],
       "layout": "IPY_MODEL_4be5db72f72f46e3892f3780c9bac455"
      }
     },
     "eff4199914b74687ae944b0a25b958a1": {
      "model_module": "@jupyter-widgets/controls",
      "model_module_version": "1.5.0",
      "model_name": "ButtonStyleModel",
      "state": {}
     },
     "f000fc6b4bd643b4bae7e2c216604d5a": {
      "model_module": "@jupyter-widgets/base",
      "model_module_version": "1.2.0",
      "model_name": "LayoutModel",
      "state": {}
     },
     "f02641ea92bb49f6a911c889ba9c60da": {
      "model_module": "@jupyter-widgets/base",
      "model_module_version": "1.2.0",
      "model_name": "LayoutModel",
      "state": {}
     },
     "f04422a419824006b921facf945e7e61": {
      "model_module": "@jupyter-widgets/controls",
      "model_module_version": "1.5.0",
      "model_name": "FloatSliderModel",
      "state": {
       "description": "270°",
       "layout": "IPY_MODEL_e943f188a7a84a4bad0962097f16c9e4",
       "max": 1,
       "min": -1,
       "step": 0.01,
       "style": "IPY_MODEL_a78a93061ac34ac99dd28a1419e65e34"
      }
     },
     "f053b50465dd49d68ada82a85399389d": {
      "model_module": "@jupyter-widgets/controls",
      "model_module_version": "1.5.0",
      "model_name": "FloatSliderModel",
      "state": {
       "description": "Compression Threshold",
       "layout": "IPY_MODEL_32f2dd248e564a159b86341318a14ec5",
       "max": 1,
       "step": 0.01,
       "style": "IPY_MODEL_690fb90d88e74d95a555f96c302c8ee6",
       "value": 0.8
      }
     },
     "f096f5e3655c4afd81fc8772f739b873": {
      "model_module": "@jupyter-widgets/controls",
      "model_module_version": "1.5.0",
      "model_name": "DropdownModel",
      "state": {
       "_options_labels": [
        "tanh",
        "atan",
        "simple"
       ],
       "description": "Compression Function:",
       "index": 0,
       "layout": "IPY_MODEL_6b803be0f7b34cb49878ef2dbf4e2603",
       "style": "IPY_MODEL_e592cc5423c94a83a41db534c5d21e2e"
      }
     },
     "f0a7d857266849f48fcd3d788b9b03b7": {
      "model_module": "@jupyter-widgets/controls",
      "model_module_version": "1.5.0",
      "model_name": "SliderStyleModel",
      "state": {
       "description_width": ""
      }
     },
     "f0c94aac99eb473a90574f2bce2a83d5": {
      "model_module": "@jupyter-widgets/base",
      "model_module_version": "1.2.0",
      "model_name": "LayoutModel",
      "state": {}
     },
     "f0e208c65aab4c1493ec6adb76f05c9d": {
      "model_module": "@jupyter-widgets/base",
      "model_module_version": "1.2.0",
      "model_name": "LayoutModel",
      "state": {}
     },
     "f0f90829dbc64181af0e6bebaba5db26": {
      "model_module": "@jupyter-widgets/controls",
      "model_module_version": "1.5.0",
      "model_name": "ButtonStyleModel",
      "state": {}
     },
     "f119d28d2fec4553a24574cc5f9482af": {
      "model_module": "@jupyter-widgets/base",
      "model_module_version": "1.2.0",
      "model_name": "LayoutModel",
      "state": {}
     },
     "f148a79534ac438f805fb8bce3b41dde": {
      "model_module": "@jupyter-widgets/controls",
      "model_module_version": "1.5.0",
      "model_name": "VBoxModel",
      "state": {
       "children": [
        "IPY_MODEL_d93939bb1440401296231684a3b83fe2",
        "IPY_MODEL_b7e370cd5cf44014ab66f22bdb9f2364",
        "IPY_MODEL_c30c359768934c6fbb86e6183685cb3b"
       ],
       "layout": "IPY_MODEL_6622acabac264ab483785276019973f6"
      }
     },
     "f18449bc702046529cf7a30e8253387e": {
      "model_module": "@jupyter-widgets/controls",
      "model_module_version": "1.5.0",
      "model_name": "HBoxModel",
      "state": {
       "children": [
        "IPY_MODEL_10f457ed5704423fa210051b33d9fbb3",
        "IPY_MODEL_a46153bc506444a4bf62fd2bda1f1164",
        "IPY_MODEL_0920059054b1459fa85c55025a9029c0"
       ],
       "layout": "IPY_MODEL_4b1ab1476997436da4d9fd46d7a36e78"
      }
     },
     "f19732d4bca7408381d87a1911514fe1": {
      "model_module": "@jupyter-widgets/controls",
      "model_module_version": "1.5.0",
      "model_name": "SliderStyleModel",
      "state": {
       "description_width": ""
      }
     },
     "f19c5e87db6c46f88494f455654b2b04": {
      "model_module": "@jupyter-widgets/controls",
      "model_module_version": "1.5.0",
      "model_name": "DescriptionStyleModel",
      "state": {
       "description_width": ""
      }
     },
     "f1c2ec62657747e397d607b75d66cb1e": {
      "model_module": "@jupyter-widgets/controls",
      "model_module_version": "1.5.0",
      "model_name": "ButtonStyleModel",
      "state": {}
     },
     "f1f0c680aadf446aaaabf75711c0b28f": {
      "model_module": "@jupyter-widgets/base",
      "model_module_version": "1.2.0",
      "model_name": "LayoutModel",
      "state": {}
     },
     "f1f99324ee9a42d787609bbcbb0c7517": {
      "model_module": "@jupyter-widgets/base",
      "model_module_version": "1.2.0",
      "model_name": "LayoutModel",
      "state": {}
     },
     "f22f9d9d5c6548ddbcae3a8858e70f7e": {
      "model_module": "@jupyter-widgets/controls",
      "model_module_version": "1.5.0",
      "model_name": "SliderStyleModel",
      "state": {
       "description_width": ""
      }
     },
     "f2304828eb4b4f48a8ddafd3bc43c87f": {
      "model_module": "@jupyter-widgets/controls",
      "model_module_version": "1.5.0",
      "model_name": "VBoxModel",
      "state": {
       "children": [
        "IPY_MODEL_f5fbc1ba34da4da19e29c157933a8e4a"
       ],
       "layout": "IPY_MODEL_250c754b1b424aac9651f3ce36e4ac30"
      }
     },
     "f23b9ef94f154c39ba1c60b4c6c0d03a": {
      "model_module": "@jupyter-widgets/controls",
      "model_module_version": "1.5.0",
      "model_name": "VBoxModel",
      "state": {
       "children": [
        "IPY_MODEL_ff99ba4712b7480682dccffe48d7ace7",
        "IPY_MODEL_9e2ef38c30c740cfb4bff098d64f2edd"
       ],
       "layout": "IPY_MODEL_2209384f620c4f20826b460d194d6a8a"
      }
     },
     "f245a4fe23a3491583befff19fd7a658": {
      "model_module": "@jupyter-widgets/controls",
      "model_module_version": "1.5.0",
      "model_name": "ButtonStyleModel",
      "state": {}
     },
     "f24c20eba5834e00843f853a15a28adc": {
      "model_module": "@jupyter-widgets/controls",
      "model_module_version": "1.5.0",
      "model_name": "DescriptionStyleModel",
      "state": {
       "description_width": ""
      }
     },
     "f25c724716b94b259f33adf23251c540": {
      "model_module": "@jupyter-widgets/controls",
      "model_module_version": "1.5.0",
      "model_name": "FloatSliderModel",
      "state": {
       "description": "Exposure",
       "layout": "IPY_MODEL_05d2d553deca4a1491f27a9c3467eb3f",
       "max": 8,
       "min": -8,
       "step": 0.1,
       "style": "IPY_MODEL_c55ac26406ae437da6b1f6396c9d7443"
      }
     },
     "f2848cf721754b16906154f1b17cf3d4": {
      "model_module": "@jupyter-widgets/controls",
      "model_module_version": "1.5.0",
      "model_name": "HBoxModel",
      "state": {
       "children": [
        "IPY_MODEL_2631a5bc457a4d07bf327b791ad86171",
        "IPY_MODEL_a9f6b2f8814b4bcda97eae735819b18c",
        "IPY_MODEL_971ed032059c46ae94dce550fb1d3fad",
        "IPY_MODEL_a8303a40c7bd410197a85752c8a2f92e"
       ],
       "layout": "IPY_MODEL_9618a73fdc624420a8de13b6a5481c92"
      }
     },
     "f28ef7f5e3a5401091238489203f6705": {
      "model_module": "@jupyter-widgets/controls",
      "model_module_version": "1.5.0",
      "model_name": "ButtonStyleModel",
      "state": {}
     },
     "f28f59bb4f744631af5fb3665b66b6ab": {
      "model_module": "@jupyter-widgets/controls",
      "model_module_version": "1.5.0",
      "model_name": "ButtonStyleModel",
      "state": {}
     },
     "f295966e4b99490f8274d82f1b906b0c": {
      "model_module": "@jupyter-widgets/controls",
      "model_module_version": "1.5.0",
      "model_name": "FloatSliderModel",
      "state": {
       "description": "Protected Area Threshold",
       "layout": "IPY_MODEL_c0899037f4cc41beb85ddb0474a1ff9a",
       "max": 1,
       "step": 0.01,
       "style": "IPY_MODEL_b2498137cfb046109279dd4c10ec650e",
       "value": 0.7
      }
     },
     "f364baf57bb14f729660633392e51f7e": {
      "model_module": "@jupyter-widgets/controls",
      "model_module_version": "1.5.0",
      "model_name": "HBoxModel",
      "state": {
       "children": [
        "IPY_MODEL_8888a83cd282487481fa6ce8dbf40f84",
        "IPY_MODEL_31c8599505d4466091cbeb301004f741"
       ],
       "layout": "IPY_MODEL_58b420f4348049cbad84f449c8b325f9"
      }
     },
     "f365de28139c45678e95aba6f935c23d": {
      "model_module": "@jupyter-widgets/controls",
      "model_module_version": "1.5.0",
      "model_name": "SliderStyleModel",
      "state": {
       "description_width": ""
      }
     },
     "f372772985f44eedac60fa9df41b473e": {
      "model_module": "@jupyter-widgets/base",
      "model_module_version": "1.2.0",
      "model_name": "LayoutModel",
      "state": {}
     },
     "f373bd6e4fcf423ca157c0d2294e86ef": {
      "model_module": "@jupyter-widgets/base",
      "model_module_version": "1.2.0",
      "model_name": "LayoutModel",
      "state": {
       "align_items": "stretch",
       "display": "flex",
       "flex_flow": "column",
       "width": "1128px"
      }
     },
     "f37e93fbcac34414a2983a76af51d70f": {
      "model_module": "@jupyter-widgets/base",
      "model_module_version": "1.2.0",
      "model_name": "LayoutModel",
      "state": {}
     },
     "f3d3059620b2414faa3585168981a145": {
      "model_module": "@jupyter-widgets/base",
      "model_module_version": "1.2.0",
      "model_name": "LayoutModel",
      "state": {}
     },
     "f3dd8e74eb2f4855b4c939032fdda4ef": {
      "model_module": "@jupyter-widgets/controls",
      "model_module_version": "1.5.0",
      "model_name": "FloatSliderModel",
      "state": {
       "description": "135°",
       "layout": "IPY_MODEL_a5dd915608ee4776860691fd91fe7558",
       "max": 1,
       "min": -1,
       "step": 0.01,
       "style": "IPY_MODEL_d132d083c9a04bd5b466b19edf65382d"
      }
     },
     "f40973ab351442629a19a13e35bbde74": {
      "model_module": "@jupyter-widgets/base",
      "model_module_version": "1.2.0",
      "model_name": "LayoutModel",
      "state": {}
     },
     "f417163496be4990bddc572381cd44aa": {
      "model_module": "@jupyter-widgets/base",
      "model_module_version": "1.2.0",
      "model_name": "LayoutModel",
      "state": {}
     },
     "f4196d5539c04a9d9f168724c6b6e16c": {
      "model_module": "@jupyter-widgets/controls",
      "model_module_version": "1.5.0",
      "model_name": "TabModel",
      "state": {
       "_titles": {
        "0": "Global Controls",
        "1": "Viewer Controls",
        "2": "Protected Area Controls",
        "3": "Saturation Controls",
        "4": "Hue Controls"
       },
       "children": [
        "IPY_MODEL_141dccbf435c430abf787afb7378b2ef",
        "IPY_MODEL_a94661b78938434885b34f6be0f672ad",
        "IPY_MODEL_9dc22e98e537477098a38b4fa292a296",
        "IPY_MODEL_2061bac836ab4988a0ee5571893dc225",
        "IPY_MODEL_a6ae07bdcc0241aabc4058816c1de6e5"
       ],
       "layout": "IPY_MODEL_23e706cf322747b58b0000bbbef595b3"
      }
     },
     "f41a3ffdc9b441f1b2efeb8a41f0765e": {
      "model_module": "@jupyter-widgets/controls",
      "model_module_version": "1.5.0",
      "model_name": "HBoxModel",
      "state": {
       "children": [
        "IPY_MODEL_03eceb6399cd48c3910ceb213c24767a",
        "IPY_MODEL_a613038139f54964aa9ab8becd2ff2c1",
        "IPY_MODEL_43dbfafe913747bf85d855a0583a5f7c"
       ],
       "layout": "IPY_MODEL_a1af8c07b47d4952a176d03b9ab79bda"
      }
     },
     "f420158db6194b5f846d17b4a658c395": {
      "model_module": "@jupyter-widgets/controls",
      "model_module_version": "1.5.0",
      "model_name": "DescriptionStyleModel",
      "state": {
       "description_width": ""
      }
     },
     "f42ea58e90b54017ba70fb079967d703": {
      "model_module": "@jupyter-widgets/controls",
      "model_module_version": "1.5.0",
      "model_name": "HBoxModel",
      "state": {
       "children": [
        "IPY_MODEL_e6dffe0f5b1d4657a4879a6532065fdf",
        "IPY_MODEL_25d91f93430d4b72a5f90b3c8ae121cb",
        "IPY_MODEL_e8b13dd6e897478ba8bb2389bf082252"
       ],
       "layout": "IPY_MODEL_8f423f1d732e43b7a260fdbf84d5a9ba"
      }
     },
     "f463f712c7ce48c7bee98eafd1a261b7": {
      "model_module": "jupyter-matplotlib",
      "model_module_version": "^0.7.2",
      "model_name": "ToolbarModel",
      "state": {
       "layout": "IPY_MODEL_246eef94dec544589986f5e10ef2f75e",
       "toolitems": [
        [
         "Home",
         "Reset original view",
         "home",
         "home"
        ],
        [
         "Back",
         "Back to previous view",
         "arrow-left",
         "back"
        ],
        [
         "Forward",
         "Forward to next view",
         "arrow-right",
         "forward"
        ],
        [
         "Pan",
         "Pan axes with left mouse, zoom with right",
         "arrows",
         "pan"
        ],
        [
         "Zoom",
         "Zoom to rectangle",
         "square-o",
         "zoom"
        ],
        [
         "Download",
         "Download plot",
         "floppy-o",
         "save_figure"
        ]
       ]
      }
     },
     "f47f187e7f874ac180677451974e8262": {
      "model_module": "@jupyter-widgets/controls",
      "model_module_version": "1.5.0",
      "model_name": "DescriptionStyleModel",
      "state": {
       "description_width": ""
      }
     },
     "f4c51380d9cc4f66b5eef534586b2aed": {
      "model_module": "@jupyter-widgets/base",
      "model_module_version": "1.2.0",
      "model_name": "LayoutModel",
      "state": {}
     },
     "f4d4795a478e4d49bf8f38bad2523084": {
      "model_module": "@jupyter-widgets/controls",
      "model_module_version": "1.5.0",
      "model_name": "CheckboxModel",
      "state": {
       "description": "Disable Medicina",
       "disabled": false,
       "layout": "IPY_MODEL_464d8f9a727e4aea872d5743e105a373",
       "style": "IPY_MODEL_d8b903b4fde64228bfae69802d3bbbdf",
       "value": false
      }
     },
     "f4dc393497624db591878a1c9769b8a2": {
      "model_module": "@jupyter-widgets/base",
      "model_module_version": "1.2.0",
      "model_name": "LayoutModel",
      "state": {}
     },
     "f4e74e6ff48842d386fc68034004af31": {
      "model_module": "@jupyter-widgets/base",
      "model_module_version": "1.2.0",
      "model_name": "LayoutModel",
      "state": {}
     },
     "f52fdcd1fcbd412a9d3dab72bc6be64d": {
      "model_module": "@jupyter-widgets/controls",
      "model_module_version": "1.5.0",
      "model_name": "HBoxModel",
      "state": {
       "children": [
        "IPY_MODEL_7298becc9f2049d8a6b4f88cd8477248",
        "IPY_MODEL_131cc361d6c94bda894cdf68fcdafe52",
        "IPY_MODEL_a487c1e90c86402a89d98ecc1f4257db"
       ],
       "layout": "IPY_MODEL_800cba2a47f14a44961e5027896d9a48"
      }
     },
     "f53f3db3562b46058a1cc12a0dd005fe": {
      "model_module": "@jupyter-widgets/controls",
      "model_module_version": "1.5.0",
      "model_name": "VBoxModel",
      "state": {
       "children": [
        "IPY_MODEL_06a70423b4754b55b29b337d34837d35",
        "IPY_MODEL_c9cc2ec0429643318f5f5a15053376f2",
        "IPY_MODEL_f7fcc3fb05784a2cab11c1a10779e050"
       ],
       "layout": "IPY_MODEL_0eb4bc879a414625926124ae44c75806"
      }
     },
     "f580eb4c01fa40b086c4183a54aaad01": {
      "model_module": "jupyter-matplotlib",
      "model_module_version": "^0.7.2",
      "model_name": "ToolbarModel",
      "state": {
       "layout": "IPY_MODEL_ef6bd15bc88649c8b9494f22af18013e",
       "toolitems": [
        [
         "Home",
         "Reset original view",
         "home",
         "home"
        ],
        [
         "Back",
         "Back to previous view",
         "arrow-left",
         "back"
        ],
        [
         "Forward",
         "Forward to next view",
         "arrow-right",
         "forward"
        ],
        [
         "Pan",
         "Pan axes with left mouse, zoom with right",
         "arrows",
         "pan"
        ],
        [
         "Zoom",
         "Zoom to rectangle",
         "square-o",
         "zoom"
        ],
        [
         "Download",
         "Download plot",
         "floppy-o",
         "save_figure"
        ]
       ]
      }
     },
     "f5cf409843564a04b24b3eeec8b05787": {
      "model_module": "@jupyter-widgets/base",
      "model_module_version": "1.2.0",
      "model_name": "LayoutModel",
      "state": {}
     },
     "f5e0304826fb499f9a5a2a690d8e0df9": {
      "model_module": "@jupyter-widgets/controls",
      "model_module_version": "1.5.0",
      "model_name": "HBoxModel",
      "state": {
       "children": [
        "IPY_MODEL_72993da754404147b5976a4675912130",
        "IPY_MODEL_5395782c296b4fefa858d303664a1eec",
        "IPY_MODEL_361e4eb125df4f1e828dbb4e468f0c7f"
       ],
       "layout": "IPY_MODEL_525dce4b28324f7b9f231cc4562ec9b9"
      }
     },
     "f5f2f0c48d034c8391ee7c015dccacb6": {
      "model_module": "@jupyter-widgets/controls",
      "model_module_version": "1.5.0",
      "model_name": "HBoxModel",
      "state": {
       "children": [
        "IPY_MODEL_31699aaf806c43aba594304b174c4036",
        "IPY_MODEL_f096f5e3655c4afd81fc8772f739b873",
        "IPY_MODEL_ca2969e0e2fd4c31b311bd9c9dd38fb6"
       ],
       "layout": "IPY_MODEL_78dd5c56d66142a78bde119a0aa53917"
      }
     },
     "f5f879cd05f84d969480ea8489af8479": {
      "model_module": "@jupyter-widgets/controls",
      "model_module_version": "1.5.0",
      "model_name": "FloatSliderModel",
      "state": {
       "description": "Compression Threshold",
       "layout": "IPY_MODEL_05c0bb9d79234fe899b98807b0f88e78",
       "max": 1,
       "step": 0.01,
       "style": "IPY_MODEL_89b8e6d1369c4481bf942c3003799e54",
       "value": 0.8
      }
     },
     "f5fbc1ba34da4da19e29c157933a8e4a": {
      "model_module": "@jupyter-widgets/controls",
      "model_module_version": "1.5.0",
      "model_name": "ButtonModel",
      "state": {
       "description": "Reset Hue Controls",
       "layout": "IPY_MODEL_99714a6ae29e4a369d5cf914f7d1386b",
       "style": "IPY_MODEL_e2fbe1def6f44edc96fcb41d7804bd82"
      }
     },
     "f5fbe680a6c9493fab77aaade638ffad": {
      "model_module": "@jupyter-widgets/base",
      "model_module_version": "1.2.0",
      "model_name": "LayoutModel",
      "state": {}
     },
     "f60570d19dd941f1bd8616b30280642e": {
      "model_module": "@jupyter-widgets/controls",
      "model_module_version": "1.5.0",
      "model_name": "SliderStyleModel",
      "state": {
       "description_width": ""
      }
     },
     "f627a41cb3164bc3b8702dceb1a84681": {
      "model_module": "@jupyter-widgets/controls",
      "model_module_version": "1.5.0",
      "model_name": "VBoxModel",
      "state": {
       "children": [
        "IPY_MODEL_8bd5dcac5075433a9a174916a06e4d57"
       ],
       "layout": "IPY_MODEL_18087f59c5964fb893f77b851cb153ea"
      }
     },
     "f638f3dad8eb48d5849a253d18b859ff": {
      "model_module": "@jupyter-widgets/base",
      "model_module_version": "1.2.0",
      "model_name": "LayoutModel",
      "state": {}
     },
     "f64bb4512a0a4c45ac4186cd5b6b7e94": {
      "model_module": "@jupyter-widgets/base",
      "model_module_version": "1.2.0",
      "model_name": "LayoutModel",
      "state": {}
     },
     "f6538c3ecb3e4bc9b80456a4afff46a2": {
      "model_module": "@jupyter-widgets/base",
      "model_module_version": "1.2.0",
      "model_name": "LayoutModel",
      "state": {}
     },
     "f665eacad15a4992a1be03ca4dab0762": {
      "model_module": "jupyter-matplotlib",
      "model_module_version": "^0.7.2",
      "model_name": "ToolbarModel",
      "state": {
       "layout": "IPY_MODEL_850e841bc16b4d03b2d199985bcb40de",
       "toolitems": [
        [
         "Home",
         "Reset original view",
         "home",
         "home"
        ],
        [
         "Back",
         "Back to previous view",
         "arrow-left",
         "back"
        ],
        [
         "Forward",
         "Forward to next view",
         "arrow-right",
         "forward"
        ],
        [
         "Pan",
         "Pan axes with left mouse, zoom with right",
         "arrows",
         "pan"
        ],
        [
         "Zoom",
         "Zoom to rectangle",
         "square-o",
         "zoom"
        ],
        [
         "Download",
         "Download plot",
         "floppy-o",
         "save_figure"
        ]
       ]
      }
     },
     "f6660c98bedb48b9a5ae3dbf2e28d821": {
      "model_module": "@jupyter-widgets/controls",
      "model_module_version": "1.5.0",
      "model_name": "ButtonStyleModel",
      "state": {}
     },
     "f68b28173c7a4607bee83485c0a77905": {
      "model_module": "@jupyter-widgets/controls",
      "model_module_version": "1.5.0",
      "model_name": "SliderStyleModel",
      "state": {
       "description_width": ""
      }
     },
     "f692d83ec6e94101a4ae40410c5e4e3a": {
      "model_module": "@jupyter-widgets/controls",
      "model_module_version": "1.5.0",
      "model_name": "FloatSliderModel",
      "state": {
       "description": "180°",
       "layout": "IPY_MODEL_63000b12da96494d94caa0c0cf4605f1",
       "max": 1,
       "min": -1,
       "step": 0.01,
       "style": "IPY_MODEL_b24add61ffda440495d596b287321dcc"
      }
     },
     "f6afebc38d004b8989eeb7b110470e4b": {
      "model_module": "@jupyter-widgets/base",
      "model_module_version": "1.2.0",
      "model_name": "LayoutModel",
      "state": {}
     },
     "f6b1ea2a0dde4f8285d588f2bda9306a": {
      "model_module": "@jupyter-widgets/base",
      "model_module_version": "1.2.0",
      "model_name": "LayoutModel",
      "state": {}
     },
     "f70651d971584a7995936152276f61d7": {
      "model_module": "@jupyter-widgets/base",
      "model_module_version": "1.2.0",
      "model_name": "LayoutModel",
      "state": {}
     },
     "f735f728bed34fe39431a1846e1fb6ca": {
      "model_module": "@jupyter-widgets/controls",
      "model_module_version": "1.5.0",
      "model_name": "HBoxModel",
      "state": {
       "children": [
        "IPY_MODEL_efef57460d43409f93381a15afb19f5b",
        "IPY_MODEL_9c74554a43044da4a936b43d301019d0",
        "IPY_MODEL_a8b1ba90d2c34ad0827683bb585d958f",
        "IPY_MODEL_a3bb822950504bd0b19614dd7ad521e3"
       ],
       "layout": "IPY_MODEL_064eab2b3a9d49cdb4e90269b52e0328"
      }
     },
     "f738d01d9dca4b7e893ddd626467e339": {
      "model_module": "@jupyter-widgets/base",
      "model_module_version": "1.2.0",
      "model_name": "LayoutModel",
      "state": {}
     },
     "f73e0cb4466a40e399300e02aa98f32f": {
      "model_module": "@jupyter-widgets/controls",
      "model_module_version": "1.5.0",
      "model_name": "DescriptionStyleModel",
      "state": {
       "description_width": ""
      }
     },
     "f741201b9ff14ee89b2e00aae59cc938": {
      "model_module": "@jupyter-widgets/controls",
      "model_module_version": "1.5.0",
      "model_name": "ButtonStyleModel",
      "state": {}
     },
     "f773806d5c5c4eac9e42c4ecd9ed95ff": {
      "model_module": "@jupyter-widgets/controls",
      "model_module_version": "1.5.0",
      "model_name": "ButtonModel",
      "state": {
       "description": "Reset Saturation Controls",
       "layout": "IPY_MODEL_62e2cff540bb4bdb8aaa7a1710cd2a67",
       "style": "IPY_MODEL_d3b3e703ec184eca96ac6bc10f655166"
      }
     },
     "f79de7800a954d9096d02437e20adc23": {
      "model_module": "@jupyter-widgets/controls",
      "model_module_version": "1.5.0",
      "model_name": "HBoxModel",
      "state": {
       "children": [
        "IPY_MODEL_1b0c0b342b604d8993b4ff3b30142796",
        "IPY_MODEL_f8f606a495d7447f934da3c9d61bd412",
        "IPY_MODEL_bf7c47aad1ff4e8da4221320cc9d76e4",
        "IPY_MODEL_213fe8703093463b9c938e50a81b87e5"
       ],
       "layout": "IPY_MODEL_06ea8d3718db485fb7ce00ef22d39dfc"
      }
     },
     "f7b6e1b57e6f4543ae66f9ef19a8265c": {
      "model_module": "@jupyter-widgets/controls",
      "model_module_version": "1.5.0",
      "model_name": "FloatSliderModel",
      "state": {
       "description": "Exposure",
       "layout": "IPY_MODEL_356f72678be74d7192a6babe21e48ca5",
       "max": 8,
       "min": -8,
       "step": 0.1,
       "style": "IPY_MODEL_440e9d47f2be492896fd6218edbb1d86"
      }
     },
     "f7cd8c68b554446b838ec4b2401a4522": {
      "model_module": "@jupyter-widgets/controls",
      "model_module_version": "1.5.0",
      "model_name": "HBoxModel",
      "state": {
       "children": [
        "IPY_MODEL_1d955a7e5c71492fb9c21241fcece93b",
        "IPY_MODEL_39150d0eec3e476ba25603904d7a5a8b",
        "IPY_MODEL_bd14f2e6b01c455abfd839d28f0ec309"
       ],
       "layout": "IPY_MODEL_788ef8b8093444b5805a048e3164f2be"
      }
     },
     "f7cf492b499c457da20ba19abcba39ad": {
      "model_module": "@jupyter-widgets/controls",
      "model_module_version": "1.5.0",
      "model_name": "HBoxModel",
      "state": {
       "children": [
        "IPY_MODEL_53a574c5d0554ceb9be265c5219e66c3",
        "IPY_MODEL_daa825eb2e0c41708975a8cdaf31f2ae"
       ],
       "layout": "IPY_MODEL_e05d34a089ca451a80a6a10663cd0d50"
      }
     },
     "f7fcc3fb05784a2cab11c1a10779e050": {
      "model_module": "@jupyter-widgets/controls",
      "model_module_version": "1.5.0",
      "model_name": "FloatSliderModel",
      "state": {
       "description": "90°",
       "layout": "IPY_MODEL_aa916c15af0946abb229cd6e4d5153eb",
       "max": 1,
       "min": -1,
       "step": 0.01,
       "style": "IPY_MODEL_d2e8261e5c7344238f656efe95d57649"
      }
     },
     "f80a51b051b14e228488374aef6b8c75": {
      "model_module": "@jupyter-widgets/base",
      "model_module_version": "1.2.0",
      "model_name": "LayoutModel",
      "state": {}
     },
     "f80b8a976fa94536ba41311ec5d4d205": {
      "model_module": "@jupyter-widgets/controls",
      "model_module_version": "1.5.0",
      "model_name": "FloatSliderModel",
      "state": {
       "description": "90°",
       "layout": "IPY_MODEL_96cf7ee6eaaf4f38bd9bb3f22def8b85",
       "max": 1,
       "min": -1,
       "step": 0.01,
       "style": "IPY_MODEL_7f3cf4a35a754fbe9f264c2f7a7abab0"
      }
     },
     "f81c13bb7a004dac825ee9d47447542d": {
      "model_module": "@jupyter-widgets/controls",
      "model_module_version": "1.5.0",
      "model_name": "FloatSliderModel",
      "state": {
       "description": "Compression Threshold",
       "layout": "IPY_MODEL_8e4664d5e63a479286cadaa4140ae77a",
       "max": 1,
       "step": 0.01,
       "style": "IPY_MODEL_8e5fe5aa560241f89dd3a5b5b3a3d793",
       "value": 0.5
      }
     },
     "f826f84f50c64ac689e14ad85d9c3837": {
      "model_module": "@jupyter-widgets/controls",
      "model_module_version": "1.5.0",
      "model_name": "VBoxModel",
      "state": {
       "children": [
        "IPY_MODEL_2698c0ac3b184dea973c84912eaaf10a"
       ],
       "layout": "IPY_MODEL_a72c227bc0c0426e8b86ad1b03bdc9fc"
      }
     },
     "f83b2db27e7f4b52b2c39da91da43ac5": {
      "model_module": "@jupyter-widgets/controls",
      "model_module_version": "1.5.0",
      "model_name": "ButtonModel",
      "state": {
       "description": "Export Image",
       "layout": "IPY_MODEL_f119d28d2fec4553a24574cc5f9482af",
       "style": "IPY_MODEL_b95f3163b49e4af8acaeb8635fcc4641"
      }
     },
     "f84dd25a7af942a4b67ac1d3be151014": {
      "model_module": "@jupyter-widgets/controls",
      "model_module_version": "1.5.0",
      "model_name": "FloatSliderModel",
      "state": {
       "description": "Exposure",
       "layout": "IPY_MODEL_44a6f96156704d07a2bf3945e5b999dc",
       "max": 8,
       "min": -8,
       "step": 0.1,
       "style": "IPY_MODEL_a07456d8bcc147e29c68505c18282361"
      }
     },
     "f89ce777fcdb462ca0099708cf1f41df": {
      "model_module": "@jupyter-widgets/controls",
      "model_module_version": "1.5.0",
      "model_name": "SliderStyleModel",
      "state": {
       "description_width": ""
      }
     },
     "f8a3dbbfde8d4b6bb26e982b55d9f685": {
      "model_module": "@jupyter-widgets/controls",
      "model_module_version": "1.5.0",
      "model_name": "SliderStyleModel",
      "state": {
       "description_width": ""
      }
     },
     "f8b21a1dc3d14598b409cebaa234f503": {
      "model_module": "@jupyter-widgets/base",
      "model_module_version": "1.2.0",
      "model_name": "LayoutModel",
      "state": {}
     },
     "f8c28add4ea14c9ab8390848d5ba8b8e": {
      "model_module": "@jupyter-widgets/base",
      "model_module_version": "1.2.0",
      "model_name": "LayoutModel",
      "state": {}
     },
     "f8e76044bcd34ac49922a3bdcd2502fa": {
      "model_module": "@jupyter-widgets/base",
      "model_module_version": "1.2.0",
      "model_name": "LayoutModel",
      "state": {}
     },
     "f8ea689a5bd145929cd8674476cab21e": {
      "model_module": "@jupyter-widgets/base",
      "model_module_version": "1.2.0",
      "model_name": "LayoutModel",
      "state": {}
     },
     "f8f606a495d7447f934da3c9d61bd412": {
      "model_module": "@jupyter-widgets/controls",
      "model_module_version": "1.5.0",
      "model_name": "VBoxModel",
      "state": {
       "children": [
        "IPY_MODEL_651d2ab0e8e94de2b2a3272f659595e6",
        "IPY_MODEL_20077a5b513e42a28ef925549adc5e2d",
        "IPY_MODEL_a73cbdf243514be2959559f5d0df9317"
       ],
       "layout": "IPY_MODEL_4ed0eb271cfc410483906002aa1cdafc"
      }
     },
     "f8fc9d9e6d2e45808739d3f98e527bbb": {
      "model_module": "@jupyter-widgets/controls",
      "model_module_version": "1.5.0",
      "model_name": "SliderStyleModel",
      "state": {
       "description_width": ""
      }
     },
     "f927d6c6e30a49dd9d18f9679a88eb39": {
      "model_module": "@jupyter-widgets/controls",
      "model_module_version": "1.5.0",
      "model_name": "HBoxModel",
      "state": {
       "children": [
        "IPY_MODEL_8035e82fa9114a7eba3a5ebabde9bc27",
        "IPY_MODEL_371cc2a419514760b230347de8120bdc",
        "IPY_MODEL_af7330f8fe1e4803b9a94b13e2dd330f",
        "IPY_MODEL_de40a247365a4fbcbbcef035108fba9b"
       ],
       "layout": "IPY_MODEL_7ddcb71ba28743aebc7274a15a117558"
      }
     },
     "f93222825b294e7491fcaf5815b5fe0c": {
      "model_module": "@jupyter-widgets/base",
      "model_module_version": "1.2.0",
      "model_name": "LayoutModel",
      "state": {
       "align_items": "stretch",
       "display": "flex",
       "flex_flow": "column",
       "width": "1128px"
      }
     },
     "f94c3d810a714d74a882693813ec3c24": {
      "model_module": "@jupyter-widgets/controls",
      "model_module_version": "1.5.0",
      "model_name": "FloatSliderModel",
      "state": {
       "description": "135°",
       "layout": "IPY_MODEL_932404175ca34309b0175ebaac04f649",
       "max": 1,
       "min": -1,
       "step": 0.01,
       "style": "IPY_MODEL_7c0c89b06cb3474e99b51746a09b181f"
      }
     },
     "f9bd3f523f4544a394ec3734375485ea": {
      "model_module": "@jupyter-widgets/base",
      "model_module_version": "1.2.0",
      "model_name": "LayoutModel",
      "state": {}
     },
     "fa011f1df48b42caa8aab802d61bf9d1": {
      "model_module": "@jupyter-widgets/controls",
      "model_module_version": "1.5.0",
      "model_name": "ButtonModel",
      "state": {
       "description": "Export Image",
       "layout": "IPY_MODEL_b7253af1455a46429eb50352996fdee0",
       "style": "IPY_MODEL_438cd67310ed46889c32278a08277678"
      }
     },
     "fa17edd0b4b44368ace2a7890b039159": {
      "model_module": "@jupyter-widgets/base",
      "model_module_version": "1.2.0",
      "model_name": "LayoutModel",
      "state": {}
     },
     "fa427a41ffb6403294ecceeca722b369": {
      "model_module": "jupyter-matplotlib",
      "model_module_version": "^0.7.2",
      "model_name": "ToolbarModel",
      "state": {
       "layout": "IPY_MODEL_8af66600f61f4f4c9ca418fd6460ffd0",
       "toolitems": [
        [
         "Home",
         "Reset original view",
         "home",
         "home"
        ],
        [
         "Back",
         "Back to previous view",
         "arrow-left",
         "back"
        ],
        [
         "Forward",
         "Forward to next view",
         "arrow-right",
         "forward"
        ],
        [
         "Pan",
         "Pan axes with left mouse, zoom with right",
         "arrows",
         "pan"
        ],
        [
         "Zoom",
         "Zoom to rectangle",
         "square-o",
         "zoom"
        ],
        [
         "Download",
         "Download plot",
         "floppy-o",
         "save_figure"
        ]
       ]
      }
     },
     "fa4dad36f89248f3bef390abcc6a3b32": {
      "model_module": "@jupyter-widgets/controls",
      "model_module_version": "1.5.0",
      "model_name": "FloatSliderModel",
      "state": {
       "description": "Protected Area Threshold",
       "layout": "IPY_MODEL_933b92d23ee440508e04eb89f25232f3",
       "max": 1,
       "step": 0.01,
       "style": "IPY_MODEL_5750e53f5c8c4a369dc2be607b8a3e78",
       "value": 0.7
      }
     },
     "fa6a18cc28ee4789b23babe3d788488e": {
      "model_module": "@jupyter-widgets/controls",
      "model_module_version": "1.5.0",
      "model_name": "SliderStyleModel",
      "state": {
       "description_width": ""
      }
     },
     "fa7c87d661f746b584c968b952de9c5f": {
      "model_module": "@jupyter-widgets/base",
      "model_module_version": "1.2.0",
      "model_name": "LayoutModel",
      "state": {}
     },
     "fac818126f914b56b646a97bdefe2686": {
      "model_module": "@jupyter-widgets/controls",
      "model_module_version": "1.5.0",
      "model_name": "CheckboxModel",
      "state": {
       "description": "Disable Medicina",
       "disabled": false,
       "layout": "IPY_MODEL_8a41846208dd4ca98fcdf3de12e3532c",
       "style": "IPY_MODEL_90e3f12ac5df424c825e08fba7831e89",
       "value": false
      }
     },
     "fb2c61874bb8487db687ed7edffc1bc3": {
      "model_module": "@jupyter-widgets/base",
      "model_module_version": "1.2.0",
      "model_name": "LayoutModel",
      "state": {}
     },
     "fb4ae77ba07f4dd698073aa89981f697": {
      "model_module": "@jupyter-widgets/base",
      "model_module_version": "1.2.0",
      "model_name": "LayoutModel",
      "state": {}
     },
     "fba23a739658488bb245779a5553aa3a": {
      "model_module": "@jupyter-widgets/base",
      "model_module_version": "1.2.0",
      "model_name": "LayoutModel",
      "state": {}
     },
     "fbc4c95fdcb2489b994876e47947fc8f": {
      "model_module": "@jupyter-widgets/controls",
      "model_module_version": "1.5.0",
      "model_name": "ButtonStyleModel",
      "state": {}
     },
     "fbe3a9bf85fa4472aa3f187dbe0f1068": {
      "model_module": "@jupyter-widgets/base",
      "model_module_version": "1.2.0",
      "model_name": "LayoutModel",
      "state": {}
     },
     "fc3c49b31b494f0794aefe7da668a756": {
      "model_module": "@jupyter-widgets/base",
      "model_module_version": "1.2.0",
      "model_name": "LayoutModel",
      "state": {}
     },
     "fc4c475d3066404887297416f58b3311": {
      "model_module": "@jupyter-widgets/controls",
      "model_module_version": "1.5.0",
      "model_name": "ButtonStyleModel",
      "state": {}
     },
     "fc56c2e2bc24493db7563dde85ed6f91": {
      "model_module": "@jupyter-widgets/base",
      "model_module_version": "1.2.0",
      "model_name": "LayoutModel",
      "state": {}
     },
     "fc58886b6d974cfa89e2bd956b217100": {
      "model_module": "@jupyter-widgets/base",
      "model_module_version": "1.2.0",
      "model_name": "LayoutModel",
      "state": {}
     },
     "fc65424bbae64e83abce88b964fad162": {
      "model_module": "@jupyter-widgets/controls",
      "model_module_version": "1.5.0",
      "model_name": "ButtonStyleModel",
      "state": {}
     },
     "fc9e9e7c3bdf461c97c02135d4e6245d": {
      "model_module": "@jupyter-widgets/controls",
      "model_module_version": "1.5.0",
      "model_name": "SliderStyleModel",
      "state": {
       "description_width": ""
      }
     },
     "fcf43ae36df246cd9d3b3fff3e243512": {
      "model_module": "@jupyter-widgets/controls",
      "model_module_version": "1.5.0",
      "model_name": "SliderStyleModel",
      "state": {
       "description_width": ""
      }
     },
     "fd034d144f6e459287f1d2aab5052e08": {
      "model_module": "@jupyter-widgets/controls",
      "model_module_version": "1.5.0",
      "model_name": "CheckboxModel",
      "state": {
       "description": "Show Out-of-Gamut",
       "disabled": false,
       "layout": "IPY_MODEL_8bbb2ae5771042af8b5777fe365497fb",
       "style": "IPY_MODEL_204f6cc19e684c5c989aa9dc1b172fd2",
       "value": false
      }
     },
     "fd242a2460864a7baa5d71da60d34dd3": {
      "model_module": "@jupyter-widgets/base",
      "model_module_version": "1.2.0",
      "model_name": "LayoutModel",
      "state": {}
     },
     "fd5e4b600f8e488bad44929456973b42": {
      "model_module": "@jupyter-widgets/controls",
      "model_module_version": "1.5.0",
      "model_name": "HBoxModel",
      "state": {
       "children": [
        "IPY_MODEL_90fa375a732c4b07af3bd3c2befa4abf",
        "IPY_MODEL_f295966e4b99490f8274d82f1b906b0c"
       ],
       "layout": "IPY_MODEL_24a2219355e74a848c072f1f1bf826ed"
      }
     },
     "fd64cb07fbe243d69f6853ae77f73ea3": {
      "model_module": "@jupyter-widgets/controls",
      "model_module_version": "1.5.0",
      "model_name": "CheckboxModel",
      "state": {
       "description": "Show Out-of-Gamut",
       "disabled": false,
       "layout": "IPY_MODEL_f80a51b051b14e228488374aef6b8c75",
       "style": "IPY_MODEL_e7c6cf063e814760850b605a8e74fea5",
       "value": false
      }
     },
     "fdb81690ad554428b06cdc9f346cd98c": {
      "model_module": "@jupyter-widgets/controls",
      "model_module_version": "1.5.0",
      "model_name": "DescriptionStyleModel",
      "state": {
       "description_width": ""
      }
     },
     "fdc6dbb25102472db75daf08fa989bbb": {
      "model_module": "@jupyter-widgets/controls",
      "model_module_version": "1.5.0",
      "model_name": "ButtonStyleModel",
      "state": {}
     },
     "fe08f28daecd4a84b425e2666c87a135": {
      "model_module": "@jupyter-widgets/base",
      "model_module_version": "1.2.0",
      "model_name": "LayoutModel",
      "state": {}
     },
     "fe6534058dcd43ab87ced56df4a6cd23": {
      "model_module": "@jupyter-widgets/controls",
      "model_module_version": "1.5.0",
      "model_name": "DropdownModel",
      "state": {
       "_options_labels": [
        "sRGB",
        "ACES (sRGB)"
       ],
       "description": "View Transform:",
       "index": 0,
       "layout": "IPY_MODEL_5020734710f644518e32035ea104cc3d",
       "style": "IPY_MODEL_b7e3af3fb3f84502907668238aba625e"
      }
     },
     "fea1d338914c4c55a47d607e7a9a3afc": {
      "model_module": "@jupyter-widgets/base",
      "model_module_version": "1.2.0",
      "model_name": "LayoutModel",
      "state": {}
     },
     "febf557a123c4f22850616421a761382": {
      "model_module": "@jupyter-widgets/controls",
      "model_module_version": "1.5.0",
      "model_name": "HBoxModel",
      "state": {
       "children": [
        "IPY_MODEL_ff173a6601b0444d814a02f13aa73857",
        "IPY_MODEL_0d7102bf47a241f2a4415bfa0a87c8c9",
        "IPY_MODEL_f053b50465dd49d68ada82a85399389d"
       ],
       "layout": "IPY_MODEL_010bf5f031e74e8b8deb55777ea49933"
      }
     },
     "fece55c997be470bba36ba1701c34533": {
      "model_module": "jupyter-matplotlib",
      "model_module_version": "^0.7.2",
      "model_name": "ToolbarModel",
      "state": {
       "layout": "IPY_MODEL_b2fc197b345d40cb83f78d63613e58a0",
       "toolitems": [
        [
         "Home",
         "Reset original view",
         "home",
         "home"
        ],
        [
         "Back",
         "Back to previous view",
         "arrow-left",
         "back"
        ],
        [
         "Forward",
         "Forward to next view",
         "arrow-right",
         "forward"
        ],
        [
         "Pan",
         "Pan axes with left mouse, zoom with right",
         "arrows",
         "pan"
        ],
        [
         "Zoom",
         "Zoom to rectangle",
         "square-o",
         "zoom"
        ],
        [
         "Download",
         "Download plot",
         "floppy-o",
         "save_figure"
        ]
       ]
      }
     },
     "fed0fe7774cf4551b4b1808ed482e301": {
      "model_module": "@jupyter-widgets/base",
      "model_module_version": "1.2.0",
      "model_name": "LayoutModel",
      "state": {}
     },
     "ff004972b3a14616a267f745278989d1": {
      "model_module": "@jupyter-widgets/controls",
      "model_module_version": "1.5.0",
      "model_name": "ButtonStyleModel",
      "state": {}
     },
     "ff173a6601b0444d814a02f13aa73857": {
      "model_module": "@jupyter-widgets/controls",
      "model_module_version": "1.5.0",
      "model_name": "ButtonModel",
      "state": {
       "description": "Reset Compression Controls",
       "layout": "IPY_MODEL_20137b75d6f942a6ba95635ff88a26fe",
       "style": "IPY_MODEL_13f03d6f2a3a4744aea297ad39f44a0b"
      }
     },
     "ff19c5f3c8dd4db7ae5ec8a25b4c8785": {
      "model_module": "@jupyter-widgets/base",
      "model_module_version": "1.2.0",
      "model_name": "LayoutModel",
      "state": {}
     },
     "ff2ae56b382d4a4ca5f35b70490ca4ac": {
      "model_module": "@jupyter-widgets/controls",
      "model_module_version": "1.5.0",
      "model_name": "VBoxModel",
      "state": {
       "children": [
        "IPY_MODEL_09079a90a74042f4bfab0735c53f97b2",
        "IPY_MODEL_27c5ffb58ff348c88b7bca1288df15ca",
        "IPY_MODEL_6267eb4ea350434fbf49a3130a5ecaef"
       ],
       "layout": "IPY_MODEL_19c3ee4ea83e4fcfbaf38170bf75ee4b"
      }
     },
     "ff842ee5054546e1b9a1646191464c20": {
      "model_module": "@jupyter-widgets/base",
      "model_module_version": "1.2.0",
      "model_name": "LayoutModel",
      "state": {}
     },
     "ff90fa2df36c4be2b545c1b5a269b9c4": {
      "model_module": "@jupyter-widgets/controls",
      "model_module_version": "1.5.0",
      "model_name": "CheckboxModel",
      "state": {
       "description": "Show Out-of-Gamut",
       "disabled": false,
       "layout": "IPY_MODEL_ba34834f7cb74d6ba5251c0d7cbf8ebc",
       "style": "IPY_MODEL_bdb50f4f65754ebf98ddf43aedc51876",
       "value": false
      }
     },
     "ff99ba4712b7480682dccffe48d7ace7": {
      "model_module": "@jupyter-widgets/controls",
      "model_module_version": "1.5.0",
      "model_name": "FloatSliderModel",
      "state": {
       "description": "270°",
       "layout": "IPY_MODEL_aa9bf7e7349a4a0898cd138150e8fe79",
       "max": 1,
       "min": -1,
       "step": 0.01,
       "style": "IPY_MODEL_81e7430604764b82997af72451f4c5d6"
      }
     },
     "ffd89022016845a3b2ad85e957d6fedb": {
      "model_module": "@jupyter-widgets/controls",
      "model_module_version": "1.5.0",
      "model_name": "ButtonStyleModel",
      "state": {}
     },
     "fffd63f078ad40428d45bdd79655adb6": {
      "model_module": "@jupyter-widgets/controls",
      "model_module_version": "1.5.0",
      "model_name": "HBoxModel",
      "state": {
       "children": [
        "IPY_MODEL_03deff7b30a34c25a9425d94c2716349",
        "IPY_MODEL_c8d6190f91c748b2a4ec19895a00c749",
        "IPY_MODEL_802acc1ab42c4cf985a55998dee367bf",
        "IPY_MODEL_fd64cb07fbe243d69f6853ae77f73ea3"
       ],
       "layout": "IPY_MODEL_11e0ff138cb84c2689282e73cee6278d"
      }
     }
    },
    "version_major": 2,
    "version_minor": 0
   }
  }
 },
 "nbformat": 4,
 "nbformat_minor": 4
}
