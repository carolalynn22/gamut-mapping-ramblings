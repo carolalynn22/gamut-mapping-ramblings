{
 "cells": [
  {
   "cell_type": "markdown",
   "metadata": {
    "colab_type": "text",
    "id": "pRS6nhpu1R6y"
   },
   "source": [
    "# Gamut Mapping - Medicina 01"
   ]
  },
  {
   "cell_type": "markdown",
   "metadata": {},
   "source": [
    "## Introduction"
   ]
  },
  {
   "cell_type": "markdown",
   "metadata": {},
   "source": [
    "This notebook implements an interactive widget used to investigate various gamut models in the context for the [ACES VWG on Gamut Mapping](https://community.acescentral.com/c/aces-development-acesnext/vwg-aces-gamut-mapping-working-group/).\n",
    "\n",
    "It is assumed that the reader has some knowledge about image processing and colour management pipelines in the Media and Entertainment Industry. An introductory publication on the topic is [Cinematic Color: From Your Monitor to the Big Screen](https://cinematiccolor.org/) by Selan (2012).\n",
    "\n",
    "Because the imagery represents scene-referred exposure values, the gamut mapped images should ideally be exported and viewed with an appropriate *View Transform*, typically an *ACES RRT + sRGB ODT* transform combination.\n",
    "\n",
    "\n",
    "Images courtesy of:\n",
    "\n",
    "- [Thomas Mansencal](https://community.acescentral.com/t/spectral-images-generation-and-processing/)\n",
    "- [Carol Payne](https://www.dropbox.com/sh/u6z2a0jboo4vno8/AAB-10qcflhpr0C5LWhs7Kq4a?dl=0)\n",
    "- [Martin Smekal](https://community.acescentral.com/t/vfx-work-in-acescg-with-out-of-gamut-devices/2385)"
   ]
  },
  {
   "cell_type": "markdown",
   "metadata": {},
   "source": [
    "## Imports & Overall Settings"
   ]
  },
  {
   "cell_type": "code",
   "execution_count": 1,
   "metadata": {},
   "outputs": [],
   "source": [
    "%matplotlib widget"
   ]
  },
  {
   "cell_type": "code",
   "execution_count": 2,
   "metadata": {
    "colab": {
     "base_uri": "https://localhost:8080/",
     "height": 340
    },
    "colab_type": "code",
    "id": "OydMmtZRxd3c",
    "outputId": "297a43b9-f566-405d-e8bc-cfae56b50959"
   },
   "outputs": [
    {
     "name": "stdout",
     "output_type": "stream",
     "text": [
      "===============================================================================\n",
      "*                                                                             *\n",
      "*   Interpreter :                                                             *\n",
      "*       python : 3.7.6 (default, Dec 30 2019, 19:38:26)                       *\n",
      "*                [Clang 11.0.0 (clang-1100.0.33.16)]                          *\n",
      "*                                                                             *\n",
      "*   colour-science.org :                                                      *\n",
      "*       colour : v0.3.15-132-g8ed24e8e                                        *\n",
      "*                                                                             *\n",
      "*   Runtime :                                                                 *\n",
      "*       imageio : 2.8.0                                                       *\n",
      "*       matplotlib : 3.0.3                                                    *\n",
      "*       numpy : 1.18.4                                                        *\n",
      "*       scipy : 1.4.1                                                         *\n",
      "*       six : 1.14.0                                                          *\n",
      "*                                                                             *\n",
      "===============================================================================\n"
     ]
    }
   ],
   "source": [
    "from __future__ import division, unicode_literals\n",
    "\n",
    "import colour\n",
    "import ipympl.backend_nbagg\n",
    "import ipywidgets\n",
    "import matplotlib.gridspec as gridspec\n",
    "import matplotlib.pyplot as plt\n",
    "import numpy as np\n",
    "import os\n",
    "import scipy.interpolate\n",
    "from matplotlib.collections import PathCollection\n",
    "from matplotlib._layoutbox import plot_children\n",
    "\n",
    "DEFAULT_BOX_DECORATION_WIDTH = 4\n",
    "MPL_BOX_DECORATION_WIDTH = 28\n",
    "\n",
    "COLOUR_STYLE = colour.plotting.colour_style()\n",
    "COLOUR_STYLE.update({\n",
    "    'legend.framealpha':\n",
    "    colour.plotting.COLOUR_STYLE_CONSTANTS.opacity.low\n",
    "})\n",
    "\n",
    "plt.style.use(COLOUR_STYLE)\n",
    "\n",
    "plt.style.use('dark_background')\n",
    "\n",
    "colour.utilities.describe_environment()\n",
    "\n",
    "colour.utilities.filter_warnings(*[True] * 4);"
   ]
  },
  {
   "cell_type": "markdown",
   "metadata": {},
   "source": [
    "## Widgets Styling"
   ]
  },
  {
   "cell_type": "markdown",
   "metadata": {},
   "source": [
    "CSS style for various widgets to improve overall presentation."
   ]
  },
  {
   "cell_type": "code",
   "execution_count": 3,
   "metadata": {},
   "outputs": [
    {
     "data": {
      "text/html": [
       "<style>\n",
       ".widget-button {\n",
       "    margin-left: 10px;\n",
       "    margin-right: 10px;\n",
       "}\n",
       "</style>\n"
      ],
      "text/plain": [
       "<IPython.core.display.HTML object>"
      ]
     },
     "metadata": {},
     "output_type": "display_data"
    }
   ],
   "source": [
    "%%html\n",
    "<style>\n",
    ".widget-button {\n",
    "    margin-left: 10px;\n",
    "    margin-right: 10px;\n",
    "}\n",
    "</style>"
   ]
  },
  {
   "cell_type": "markdown",
   "metadata": {
    "colab_type": "text",
    "id": "5yCeFpnnp_wh"
   },
   "source": [
    "## Colour Wheel Generation"
   ]
  },
  {
   "cell_type": "markdown",
   "metadata": {},
   "source": [
    "Utility function responsible to produce a scene-referred colour wheel."
   ]
  },
  {
   "cell_type": "code",
   "execution_count": 4,
   "metadata": {
    "colab": {},
    "colab_type": "code",
    "id": "RshonIbOI4Ij"
   },
   "outputs": [],
   "source": [
    "def colour_wheel(samples=1024, clip_circle=True, method='Colour'):\n",
    "    xx, yy = np.meshgrid(\n",
    "        np.linspace(-1, 1, samples), np.linspace(-1, 1, samples))\n",
    "\n",
    "    S = np.sqrt(xx ** 2 + yy ** 2)    \n",
    "    H = (np.arctan2(xx, yy) + np.pi) / (np.pi * 2)\n",
    "\n",
    "    HSV = colour.utilities.tstack([H, S, np.ones(H.shape)])\n",
    "    RGB = colour.HSV_to_RGB(HSV)\n",
    "\n",
    "    if clip_circle == True:\n",
    "        RGB[S > 1] = 0\n",
    "        A = np.where(S > 1, 0, 1)\n",
    "    else:\n",
    "        A = np.ones(S.shape)\n",
    "\n",
    "    if method.lower()== 'matplotlib':\n",
    "        RGB = colour.utilities.orient(RGB, '90 CW')\n",
    "    elif method.lower()== 'nuke':\n",
    "        RGB = colour.utilities.orient(RGB, 'Flip')\n",
    "        RGB = colour.utilities.orient(RGB, '90 CW')\n",
    "\n",
    "    R, G, B = colour.utilities.tsplit(RGB)\n",
    "    \n",
    "    return colour.utilities.tstack([R, G, B, A])"
   ]
  },
  {
   "cell_type": "markdown",
   "metadata": {},
   "source": [
    "## Utility Functions & Objects"
   ]
  },
  {
   "cell_type": "markdown",
   "metadata": {},
   "source": [
    "Various random utility functions and objects."
   ]
  },
  {
   "cell_type": "code",
   "execution_count": 5,
   "metadata": {},
   "outputs": [],
   "source": [
    "def batch(sequence, count):\n",
    "    for i in range(0, len(sequence), count):\n",
    "        yield sequence[i:i + count]\n",
    "        \n",
    "\n",
    "def border_layout():\n",
    "    return ipywidgets.widgets.Layout(\n",
    "        border='solid {0}px #222'.format(4),\n",
    "        margin='{0}px'.format(DEFAULT_BOX_DECORATION_WIDTH),\n",
    "        padding='0')"
   ]
  },
  {
   "cell_type": "markdown",
   "metadata": {},
   "source": [
    "## Gamut Medicina Base Widget"
   ]
  },
  {
   "cell_type": "markdown",
   "metadata": {},
   "source": [
    "The `GamutMedicinaBaseWidget` base widget class is inherited by the concrete sub-classes implementing the various gamut mapping study models.\n",
    "\n",
    "At its core it is itself an `ipywidgets.widgets.Box` sub-class which outputs a [Matplotlib](http://matplotlib.org/) figure composed of three sub-plots:\n",
    "\n",
    "- **Reference Image**: Required, 1 cartesian `Axes`\n",
    "- **Colour Wheel**: Optional, 1 cartesian `Axes` and 1 polar `Axes`\n",
    "- **Chromaticity Diagram**: Optional, 1 cartesian `Axes`\n",
    "\n",
    "Trivial layout heuristic is implemented to support optionally enabling or disabling the **Colour Wheel** and **Chromaticity Diagram** sub-plots."
   ]
  },
  {
   "cell_type": "markdown",
   "metadata": {},
   "source": [
    "### Reference Image"
   ]
  },
  {
   "cell_type": "markdown",
   "metadata": {},
   "source": [
    "The **Reference Image** sub-plot is responsible for displaying the gamut mapped scene-referred imagery.\n",
    "\n",
    "*Note*\n",
    "\n",
    "> To improve the performance of the notebook, the *View Transform*, i.e. a S-Curve, converting the scene-referred imagery to output-referred values is omitted."
   ]
  },
  {
   "cell_type": "markdown",
   "metadata": {},
   "source": [
    "### Colour Wheel"
   ]
  },
  {
   "cell_type": "markdown",
   "metadata": {},
   "source": [
    "The **Colour Wheel** sub-plot is used to represent the controls for the gamut mapping study models adopting a cylindrical or conic working space.\n",
    "\n",
    "The colour wheel is drawn on a cartesian `Axes` on top of which is overlayed a polar `Axes` used to draw the control regions."
   ]
  },
  {
   "cell_type": "markdown",
   "metadata": {},
   "source": [
    "### Chromaticity Diagram"
   ]
  },
  {
   "cell_type": "markdown",
   "metadata": {},
   "source": [
    "The **Chromaticity Diagram** sub-plot is also used to represent the controls for the gamut mapping study models into the *Chromaticity Diagram 1976 UCS* based on the [CIE L\\*u\\*v\\*](https://fr.wikipedia.org/wiki/L*u*v*_CIE_1976) colourspace.\n",
    "\n",
    "It also features the following elements:\n",
    "\n",
    "- *RGB Working Space* gamut, i.e. *ACEScg/AP1*, large triangle\n",
    "- *RGB Display Space* gamut, i.e. *sRGB*, small triangle\n",
    "- Scatter of the decimated **Reference Image** data\n",
    "- Scatter of the ColorChecker Classic data, white scatter points\n"
   ]
  },
  {
   "cell_type": "code",
   "execution_count": 6,
   "metadata": {},
   "outputs": [
    {
     "data": {
      "application/vnd.jupyter.widget-view+json": {
       "model_id": "4e8d03315d144f30a1ae7eb0fd06ca16",
       "version_major": 2,
       "version_minor": 0
      },
      "text/plain": [
       "GamutMedicinaBaseWidget(children=(Output(layout=Layout(border='solid 4px #222', margin='4px', padding='0')), T…"
      ]
     },
     "metadata": {},
     "output_type": "display_data"
    }
   ],
   "source": [
    "class GamutMedicinaBaseWidget(ipywidgets.widgets.Box):\n",
    "    def __init__(self,\n",
    "                 reference_image_path=None,\n",
    "                 working_space=colour.models.ACES_CG_COLOURSPACE,\n",
    "                 reference_space=colour.models.ACES_2065_1_COLOURSPACE,\n",
    "                 display_space=colour.models.sRGB_COLOURSPACE,\n",
    "                 colour_wheel_samples=256,\n",
    "                 image_decimation=10,\n",
    "                 figure_size=(11, None),\n",
    "                 padding=0.005,\n",
    "                 spacing=0.005,\n",
    "                 show_labels=False,\n",
    "                 enable_colour_wheel=True,\n",
    "                 enable_chromaticity_diagram=True,\n",
    "                 debug_layout=False):\n",
    "        super().__init__()\n",
    "\n",
    "        self._reference_image_path = reference_image_path\n",
    "        self._working_space = working_space\n",
    "        self._reference_space = reference_space\n",
    "        self._display_space = display_space\n",
    "        self._colour_wheel_samples = colour_wheel_samples\n",
    "        self._image_decimation = image_decimation\n",
    "        self._figure_size = figure_size\n",
    "        self._padding = padding\n",
    "        self._spacing = spacing\n",
    "        self._show_labels = show_labels\n",
    "        self._enable_colour_wheel = enable_colour_wheel\n",
    "        self._enable_chromaticity_diagram = enable_chromaticity_diagram\n",
    "\n",
    "        self._enable = True\n",
    "\n",
    "        self._reference_image = None\n",
    "        self._reference_image_working = None\n",
    "        self._reference_image_mapped = None\n",
    "        self._reference_image_display = None\n",
    "\n",
    "        if self._enable_colour_wheel:\n",
    "            self._colour_wheel = None\n",
    "\n",
    "        if self._enable_chromaticity_diagram:\n",
    "            self._decimated_image_working = None\n",
    "            self._decimated_image_display = None\n",
    "\n",
    "        self._colour_checker = None\n",
    "        self._colour_checker_uv = None\n",
    "\n",
    "        self._output = None\n",
    "        self._figure = None\n",
    "        self._grid_spec = None\n",
    "        self._reference_image_axes = None\n",
    "        self._reference_image_imshow = None\n",
    "\n",
    "        if self._enable_colour_wheel:\n",
    "            self._colour_wheel_cartersian_axes = None\n",
    "            self._colour_wheel_imshow = None\n",
    "            self._colour_wheel_polar_axes = None\n",
    "\n",
    "        if self._enable_chromaticity_diagram:\n",
    "            self._chromaticity_diagram_axes = None\n",
    "            self._scatter_offsets_i = None\n",
    "            self._scatter_facecolor_i = None\n",
    "\n",
    "        self._disable_medidicina_CheckBox = None\n",
    "        self._global_controls_HBox = None\n",
    "        self._controls_Tab = None\n",
    "\n",
    "        self.initialize_data()\n",
    "        self.initialize_axes()\n",
    "        self.initialise_widgets()\n",
    "        self.attach_callbacks()\n",
    "\n",
    "        if debug_layout:\n",
    "            plot_children(self._figure, self._figure._layoutbox, printit=False)\n",
    "\n",
    "    def initialize_data(self):\n",
    "        # *** Reference Image ***\n",
    "        self._reference_image = (colour.read_image(self._reference_image_path)\n",
    "                                 if self._reference_image_path is not None else\n",
    "                                 np.random.rand(540, 960, 3))\n",
    "        self._reference_image_path = (self._reference_image_path\n",
    "                                      if self._reference_image_path is not None\n",
    "                                      else 'Random.exr')\n",
    "        self._reference_image_working = self.reference_space_to_working_space(\n",
    "            self._reference_image)\n",
    "\n",
    "        self._reference_image_mapped = self._reference_image\n",
    "        self._reference_image_display = self.working_space_to_display_space(\n",
    "            self._reference_image_working)\n",
    "\n",
    "        # *** Colour Wheel ***\n",
    "        if self._enable_colour_wheel:\n",
    "            self._colour_wheel = colour_wheel(\n",
    "                self._colour_wheel_samples,\n",
    "                clip_circle=True,\n",
    "                method='Matplotlib')\n",
    "\n",
    "        # *** Decimated Image, i.e. Scatter ***\n",
    "        if self._enable_chromaticity_diagram:\n",
    "            self._decimated_image_working = (\n",
    "                self._reference_image_working[::self._image_decimation, ::\n",
    "                                              self._image_decimation, :])\n",
    "            self._decimated_image_display = (\n",
    "                self.working_space_to_display_space(\n",
    "                    self._decimated_image_working))\n",
    "\n",
    "        # *** Colour Checker\n",
    "        colour_checker = colour.COLOURCHECKERS[\n",
    "            'ColorChecker24 - After November 2014']\n",
    "        colour_checker_data = colour.utilities.as_float_array(\n",
    "            list(colour_checker.data.values()))\n",
    "        self._colour_checker_uv = colour.xy_to_Luv_uv(\n",
    "            colour_checker_data[:, 0:2])\n",
    "\n",
    "    def initialize_axes(self):\n",
    "        self._output = ipywidgets.widgets.Output()\n",
    "\n",
    "        image_height, image_width, channels = self._reference_image.shape\n",
    "        if self._figure_size[-1] is None:\n",
    "            if self._enable_colour_wheel and self._enable_chromaticity_diagram:\n",
    "                width = image_height / 2 + image_width\n",
    "                height = image_height - self._padding * 100 - self._spacing * 100\n",
    "                # Unresolved fudge factor to ensure plots line up.\n",
    "                height -= int(height * 0.05)\n",
    "            elif self._enable_colour_wheel or self._enable_chromaticity_diagram:\n",
    "                width = image_height + image_width\n",
    "                height = image_height\n",
    "            else:\n",
    "                width = image_width\n",
    "                height = image_height\n",
    "            ratio = self._figure_size[0] * 100 / width\n",
    "            figure_size = (width / 100 * ratio, height / 100 * ratio)\n",
    "        else:\n",
    "            figure_size = self._figure_size\n",
    "\n",
    "        with self._output:\n",
    "            self._figure = plt.figure(\n",
    "                figsize=figure_size,\n",
    "                constrained_layout=True,\n",
    "                facecolor=[2 / 3 / 10] * 3)\n",
    "            self._figure.canvas.toolbar_visible = False\n",
    "            self._figure.canvas.header_visible = False\n",
    "            self._figure.canvas.footer_visible = True\n",
    "            self._figure.canvas.resizable = False\n",
    "            self._figure.tight_layout()\n",
    "\n",
    "        if self._enable_colour_wheel and self._enable_chromaticity_diagram:\n",
    "            rows = columns = 2\n",
    "            colour_wheel_indices = 0, 0\n",
    "            chromaticity_diagram_indices = 1, 0\n",
    "            reference_image_indices = slice(0, None, None), slice(\n",
    "                1, None, None)\n",
    "            width_ratios = [1, 2 * image_width / image_height]\n",
    "        elif not self._enable_colour_wheel and not self._enable_chromaticity_diagram:\n",
    "            rows = columns = 1\n",
    "            colour_wheel_indices = chromaticity_diagram_indices = None\n",
    "            reference_image_indices = 0, 0\n",
    "            width_ratios = [1]\n",
    "        else:\n",
    "            rows = 1\n",
    "            columns = 2\n",
    "            colour_wheel_indices = chromaticity_diagram_indices = 0, 0\n",
    "            reference_image_indices = 0, 1\n",
    "            width_ratios = [1, image_width / image_height]\n",
    "\n",
    "        self._grid_spec = gridspec.GridSpec(\n",
    "            ncols=columns,\n",
    "            nrows=rows,\n",
    "            figure=self._figure,\n",
    "            width_ratios=width_ratios,\n",
    "            wspace=self._spacing,\n",
    "            hspace=self._spacing)\n",
    "        self._figure.set_constrained_layout_pads(\n",
    "            w_pad=self._padding,\n",
    "            h_pad=self._padding)\n",
    "\n",
    "        # Colour Wheel Axes\n",
    "        if self._enable_colour_wheel:\n",
    "            self._colour_wheel_cartersian_axes = self._figure.add_subplot(\n",
    "                self._grid_spec[colour_wheel_indices[0], colour_wheel_indices[\n",
    "                    1]],\n",
    "                label='Cartesian Axes')\n",
    "            self._colour_wheel_cartersian_axes.axis('off')\n",
    "            self._colour_wheel_imshow = self._colour_wheel_cartersian_axes.imshow(\n",
    "                np.clip(self._colour_wheel, 0, 1), extent=[0, 1, 0, 1])\n",
    "\n",
    "            self._colour_wheel_polar_axes = self._figure.add_subplot(\n",
    "                self._grid_spec[colour_wheel_indices[0], colour_wheel_indices[\n",
    "                    1]],\n",
    "                projection='polar',\n",
    "                label='Polar Axes')\n",
    "            self._colour_wheel_polar_axes.set_xlim(0, np.pi * 2)\n",
    "            self._colour_wheel_polar_axes.set_ylim(0, 1)\n",
    "            self._colour_wheel_polar_axes.patch.set_alpha(0)\n",
    "            self._colour_wheel_polar_axes.grid(alpha=0.15)\n",
    "            if not self._show_labels:\n",
    "                self._colour_wheel_polar_axes.set_xticklabels([])\n",
    "            self._colour_wheel_polar_axes.set_yticklabels([])\n",
    "\n",
    "        # Chromaticity Diagram Axes\n",
    "        if self._enable_chromaticity_diagram:\n",
    "            self._chromaticity_diagram_axes = self._figure.add_subplot(\n",
    "                self._grid_spec[chromaticity_diagram_indices[0],\n",
    "                                chromaticity_diagram_indices[1]])\n",
    "            self._chromaticity_diagram_axes.patch.set_alpha(0)\n",
    "            (colour.plotting.\n",
    "             plot_RGB_chromaticities_in_chromaticity_diagram_CIE1976UCS(\n",
    "                 self._decimated_image_working,\n",
    "                 colourspace=self._working_space,\n",
    "                 colourspaces=['sRGB'],\n",
    "                 axes=self._chromaticity_diagram_axes,\n",
    "                 standalone=False,\n",
    "                 transparent_background=False,\n",
    "                 spectral_locus_colours='RGB',\n",
    "                 spectral_locus_labels=[],\n",
    "                 diagram_opacity=0,\n",
    "                 scatter_kwargs={'s': 1},\n",
    "                 title=str(),\n",
    "                 x_label=str(),\n",
    "                 y_label=str(),\n",
    "                 legend=False))\n",
    "            self._chromaticity_diagram_axes.tick_params(\n",
    "                axis='y', which='both', direction='in')\n",
    "            self._chromaticity_diagram_axes.tick_params(\n",
    "                axis='x', which='both', direction='in')\n",
    "            self._chromaticity_diagram_axes.minorticks_off()\n",
    "            self._chromaticity_diagram_axes.grid(alpha=0.15)\n",
    "            for collection in self._chromaticity_diagram_axes.collections:\n",
    "                if isinstance(collection, PathCollection):\n",
    "                    self._scatter_path_collection = collection\n",
    "                    break\n",
    "            if not self._show_labels:\n",
    "                self._chromaticity_diagram_axes.set_xticklabels([])\n",
    "                self._chromaticity_diagram_axes.set_yticklabels([])\n",
    "\n",
    "            self._scatter_offsets_i = self._scatter_path_collection.get_offsets(\n",
    "            )\n",
    "            self._scatter_facecolor_i = self._scatter_path_collection.get_facecolor(\n",
    "            )\n",
    "            self._chromaticity_diagram_axes.scatter(\n",
    "                self._colour_checker_uv[:, 0],\n",
    "                self._colour_checker_uv[:, 1],\n",
    "                c='white',\n",
    "                marker='D',\n",
    "                s=5)\n",
    "\n",
    "        # Reference Image Axes\n",
    "        self._reference_image_axes = self._figure.add_subplot(self._grid_spec[\n",
    "            reference_image_indices[0], reference_image_indices[1]])\n",
    "        self._reference_image_axes.set_xticks([])\n",
    "        self._reference_image_axes.set_yticks([])\n",
    "        self._reference_image_imshow = self._reference_image_axes.imshow(\n",
    "            self.working_space_to_display_space(self._reference_image_working))\n",
    "\n",
    "    def initialise_widgets(self):\n",
    "        # *** Widgets ***\n",
    "        self._disable_medidicina_CheckBox = (\n",
    "            ipywidgets.widgets.Checkbox(description='Disable Medicina'))\n",
    "        self._export_reference_image_Button = (\n",
    "            ipywidgets.widgets.Button(description=\"Export Image\"))\n",
    "        self._save_figure_image_Button = (\n",
    "            ipywidgets.widgets.Button(description=\"Save Figure\"))\n",
    "\n",
    "        # *** Layout ***\n",
    "        self.layout.display = 'flex'\n",
    "        self.layout.flex_flow = 'column'\n",
    "        self.layout.align_items = 'stretch'\n",
    "        self.layout.width = '{0}px'.format(self._figure_size[0] * 100 +\n",
    "                                           MPL_BOX_DECORATION_WIDTH)\n",
    "\n",
    "        self._global_controls_HBox = ipywidgets.widgets.HBox([\n",
    "            self._disable_medidicina_CheckBox,\n",
    "            self._export_reference_image_Button,\n",
    "            self._save_figure_image_Button,\n",
    "        ])\n",
    "\n",
    "        self._controls_Tab = ipywidgets.widgets.Tab(children=[\n",
    "            self._global_controls_HBox,\n",
    "        ])\n",
    "        self._controls_Tab.set_title(0, 'Global Controls')\n",
    "\n",
    "        self._controls_Tab.layout = border_layout()\n",
    "\n",
    "        self._output.layout = border_layout()\n",
    "        self.children = [self._output, self._controls_Tab]\n",
    "\n",
    "    def attach_callbacks(self):\n",
    "        self._disable_medidicina_CheckBox.observe(self.toggle_medidicina)\n",
    "        self._export_reference_image_Button.on_click(\n",
    "            self.export_reference_image)\n",
    "        self._save_figure_image_Button.on_click(self.save_figure)\n",
    "\n",
    "    def reference_space_to_working_space(self, RGB):\n",
    "        return colour.RGB_to_RGB(RGB, self._reference_space,\n",
    "                                 self._working_space)\n",
    "\n",
    "    def working_space_to_reference_space(self, RGB):\n",
    "        return colour.RGB_to_RGB(RGB, self._working_space,\n",
    "                                 self._reference_space)\n",
    "\n",
    "    def working_space_to_display_space(self,\n",
    "                                       RGB,\n",
    "                                       apply_encoding_cctf=True,\n",
    "                                       clip=True):\n",
    "        RGB = colour.RGB_to_RGB(\n",
    "            RGB,\n",
    "            self._working_space,\n",
    "            self._display_space,\n",
    "            apply_encoding_cctf=apply_encoding_cctf)\n",
    "\n",
    "        if clip:\n",
    "            return np.clip(RGB, 0, 1)\n",
    "        else:\n",
    "            return RGB\n",
    "\n",
    "    def update_scatter_plot(self, RGB):\n",
    "        if self._enable:\n",
    "            RGB = RGB[RGB[:, 1].argsort()]\n",
    "            XYZ = colour.RGB_to_XYZ(RGB, self._working_space.whitepoint,\n",
    "                                    self._working_space.whitepoint,\n",
    "                                    self._working_space.RGB_to_XYZ_matrix)\n",
    "            uv = colour.Luv_to_uv(\n",
    "                colour.XYZ_to_Luv(XYZ, self._working_space.whitepoint),\n",
    "                self._working_space.whitepoint)\n",
    "            self._scatter_path_collection.set_offsets(uv)\n",
    "            self._scatter_path_collection.set_facecolor(\n",
    "                self.working_space_to_display_space(RGB))\n",
    "        else:\n",
    "            self._scatter_path_collection.set_offsets(self._scatter_offsets_i)\n",
    "            self._scatter_path_collection.set_facecolor(\n",
    "                self._scatter_facecolor_i)\n",
    "\n",
    "    def toggle_medidicina(self, change):\n",
    "        if not change:\n",
    "            return\n",
    "\n",
    "        if change['name'] == 'value':\n",
    "            self._enable = not change['new']\n",
    "\n",
    "            self.update_widget(None)\n",
    "\n",
    "    def export_reference_image(self, change):\n",
    "        path = os.path.splitext(self._reference_image_path)[0]\n",
    "\n",
    "        colour.write_image(\n",
    "            self.working_space_to_reference_space(\n",
    "                self._reference_image_mapped), '{0}_{1}.exr'.format(\n",
    "                    path, self.__class__.__name__))\n",
    "\n",
    "    def save_figure(self, change):\n",
    "        path = os.path.splitext(self._reference_image_path)[0]\n",
    "        plt.savefig('{0}_{1}.png'.format(path, self.__class__.__name__),\n",
    "                   facecolor=[2 / 3 / 10] * 3, transparent=False, bbox_inches='tight')\n",
    "\n",
    "    def update_widget(self, change):\n",
    "        if not self._enable:\n",
    "            if self._enable_chromaticity_diagram:\n",
    "                self.update_scatter_plot(None)\n",
    "\n",
    "            self._reference_image_imshow.set_data(\n",
    "                self._reference_image_display)\n",
    "\n",
    "            self._figure.canvas.draw_idle()\n",
    "\n",
    "\n",
    "GamutMedicinaBaseWidget()"
   ]
  },
  {
   "cell_type": "code",
   "execution_count": 7,
   "metadata": {},
   "outputs": [
    {
     "data": {
      "application/vnd.jupyter.widget-view+json": {
       "model_id": "518f77d5807e4fa58cbe62b655553af0",
       "version_major": 2,
       "version_minor": 0
      },
      "text/plain": [
       "GamutMedicinaBaseWidget(children=(Output(layout=Layout(border='solid 4px #222', margin='4px', padding='0')), T…"
      ]
     },
     "metadata": {},
     "output_type": "display_data"
    }
   ],
   "source": [
    "GamutMedicinaBaseWidget(enable_colour_wheel=False)"
   ]
  },
  {
   "cell_type": "code",
   "execution_count": 8,
   "metadata": {},
   "outputs": [
    {
     "data": {
      "application/vnd.jupyter.widget-view+json": {
       "model_id": "5e1af7a639ea47bcbe6a2a41dab96ab8",
       "version_major": 2,
       "version_minor": 0
      },
      "text/plain": [
       "GamutMedicinaBaseWidget(children=(Output(layout=Layout(border='solid 4px #222', margin='4px', padding='0')), T…"
      ]
     },
     "metadata": {},
     "output_type": "display_data"
    }
   ],
   "source": [
    "GamutMedicinaBaseWidget(enable_chromaticity_diagram=False)"
   ]
  },
  {
   "cell_type": "code",
   "execution_count": 9,
   "metadata": {},
   "outputs": [
    {
     "data": {
      "application/vnd.jupyter.widget-view+json": {
       "model_id": "c3e8c34ca1e943a283061de428d61823",
       "version_major": 2,
       "version_minor": 0
      },
      "text/plain": [
       "GamutMedicinaBaseWidget(children=(Output(layout=Layout(border='solid 4px #222', margin='4px', padding='0')), T…"
      ]
     },
     "metadata": {},
     "output_type": "display_data"
    }
   ],
   "source": [
    "GamutMedicinaBaseWidget(\n",
    "    enable_colour_wheel=False, enable_chromaticity_diagram=False)"
   ]
  },
  {
   "cell_type": "markdown",
   "metadata": {},
   "source": [
    "## Compression & Blending Functions"
   ]
  },
  {
   "cell_type": "markdown",
   "metadata": {},
   "source": [
    "Gamut mapping commonly involves compressing data from a larger space to a smaller space.\n",
    "\n",
    "Two compression functions are defined:\n",
    "\n",
    "- **Hyperbolic Tangent** (tanh), a function based on the *Hyperbolic Tangent*:\n",
    "\n",
    "$$a + b \\cdot tanh\\bigg(\\cfrac{x - a}{b}\\bigg)$$ where $a$ is the compression threshold, i.e. where the function starts compressing the value $x$ and $b$ is the compression limit, i.e. where the compression has reached its limit.\n",
    "\n",
    "- **Simple** (simple), a function based on the *Hyperbolic Tangent*:\n",
    "\n",
    "$$a + \\Bigg(\\cfrac{-1}{\\bigg(\\cfrac{x - a}{b} + 1\\bigg)} + 1 \\Bigg) \\cdot b$$"
   ]
  },
  {
   "cell_type": "code",
   "execution_count": 10,
   "metadata": {},
   "outputs": [],
   "source": [
    "def tanh_compression_function(x, a=0.8, b=1 - 0.8):\n",
    "    x = colour.utilities.as_float_array(x)\n",
    "\n",
    "    return np.where(x > a, a + b * np.tanh((x - a) / b), x)\n",
    "\n",
    "\n",
    "def simple_compression_function(x, a=0.8, b=1 - 0.8):\n",
    "    x = colour.utilities.as_float_array(x)\n",
    "\n",
    "    return np.where(x > a, a + (-1 / ((x - a) / b + 1) + 1) * b, x)\n",
    "\n",
    "\n",
    "COMPRESSION_FUNCTIONS = {\n",
    "    'tanh' : tanh_compression_function,\n",
    "    'simple' : simple_compression_function,\n",
    "}\n",
    "\n",
    "\n",
    "def smoothstep(x, a=0, b=1):\n",
    "    i = np.clip((x - a) / (b - a), 0, 1)\n",
    "\n",
    "    return i**2 * (3 - 2 * i)\n",
    "\n",
    "\n",
    "def derivative(x, func, d=1e-7):\n",
    "    return (func(x + d) - func(x - d)) / (2 * d)"
   ]
  },
  {
   "cell_type": "code",
   "execution_count": 11,
   "metadata": {},
   "outputs": [
    {
     "data": {
      "application/vnd.jupyter.widget-view+json": {
       "model_id": "980a50a7aa7744a59647e0e70f3dcdab",
       "version_major": 2,
       "version_minor": 0
      },
      "text/plain": [
       "Canvas(toolbar=Toolbar(toolitems=[('Home', 'Reset original view', 'home', 'home'), ('Back', 'Back to previous …"
      ]
     },
     "metadata": {},
     "output_type": "display_data"
    }
   ],
   "source": [
    "colour.plotting.plot_multi_functions(\n",
    "    {\n",
    "        'tanh': tanh_compression_function,\n",
    "        'd/dx(tanh)': lambda x: derivative(x, tanh_compression_function),\n",
    "        'simple': simple_compression_function,\n",
    "        'd/dx(simple)': lambda x: derivative(x, simple_compression_function),\n",
    "    },\n",
    "    **{\n",
    "        'figure.figsize': (11, 11),\n",
    "        'samples':\n",
    "        np.linspace(0, 2, 1000),\n",
    "        'plot_kwargs': [\n",
    "            {\n",
    "                'c': 'r',\n",
    "                'linestyle': 'dashdot'\n",
    "            },\n",
    "            {\n",
    "                'c': 'r'\n",
    "            },\n",
    "            {\n",
    "                'c': 'g',\n",
    "                'linestyle': 'dashdot'\n",
    "            },\n",
    "            {\n",
    "                'c': 'g'\n",
    "            },\n",
    "        ]\n",
    "    },\n",
    ");"
   ]
  },
  {
   "cell_type": "markdown",
   "metadata": {},
   "source": [
    "## Mansencal and Scharfenberg (2020) - HSV Control Based Study Model"
   ]
  },
  {
   "cell_type": "markdown",
   "metadata": {},
   "source": [
    "*Mansencal and Scharfenberg (2020)* gamut mapping study model is built on top of the [HSV colourspace](https://en.wikipedia.org/wiki/HSL_and_HSV):\n",
    "\n",
    "- Scene-referred RGB exposure values are converted to HSV.\n",
    "- The saturation component $S$ is compressed with a cherry-picked compression function, e.g. $tanh$.\n",
    "- The hue component $H$ is warped according to user defined control values.\n",
    "- The HSV values are converted back to scene-referred RGB exposure values and then blended with the original scene-referred RGB exposure values function through a smoothstep function.\n",
    "\n",
    "The model offers good controls but might tend to exhibit excessive saturation of secondary colours, i.e. cyan, yellow and especially magenta.\n",
    "This can be tuned with the hue controls.\n",
    "\n",
    "More information is available on [ACEScentral](https://community.acescentral.com/t/gamut-mapping-in-cylindrical-and-conic-spaces/)."
   ]
  },
  {
   "cell_type": "code",
   "execution_count": 12,
   "metadata": {},
   "outputs": [
    {
     "data": {
      "application/vnd.jupyter.widget-view+json": {
       "model_id": "055812cbe06642049a852109cce0170c",
       "version_major": 2,
       "version_minor": 0
      },
      "text/plain": [
       "GamutMedicinaHSVControlWidget(children=(Output(layout=Layout(border='solid 4px #222', margin='4px', padding='0…"
      ]
     },
     "metadata": {},
     "output_type": "display_data"
    }
   ],
   "source": [
    "def medicina_HSV_control(RGB, H, S, V, H_x, H_y, S_c, S_m, C_f, HSV_to_RGB):\n",
    "    S_m = S_m[..., np.newaxis]\n",
    "\n",
    "    interpolator = scipy.interpolate.interp1d(H_x, H_y)\n",
    "\n",
    "    HSV_c = colour.utilities.tstack(\n",
    "        [interpolator(H) % 1, C_f(S, S_c, 1 - S_c), V])\n",
    "\n",
    "    return HSV_to_RGB(HSV_c) * S_m + RGB * (1 - S_m)\n",
    "\n",
    "\n",
    "class GamutMedicinaHSVControlWidget(GamutMedicinaBaseWidget):\n",
    "    def __init__(self,\n",
    "                 reference_image=None,\n",
    "                 hue_wedge=45,\n",
    "                 protected_area_threshold=0.7,\n",
    "                 compression_threshold=0.8,\n",
    "                 compression_function='tanh',\n",
    "                 RGB_to_HSV=colour.RGB_to_HSV,\n",
    "                 HSV_to_RGB=colour.HSV_to_RGB,\n",
    "                 *args,\n",
    "                 **kwargs):\n",
    "\n",
    "        self._hue_wedge = hue_wedge\n",
    "        self._protected_area_threshold = protected_area_threshold\n",
    "        self._compression_threshold = compression_threshold\n",
    "        self._compression_function = compression_function\n",
    "\n",
    "        self.RGB_to_HSV = RGB_to_HSV\n",
    "        self.HSV_to_RGB = HSV_to_RGB\n",
    "\n",
    "        super().__init__(reference_image, *args, **kwargs)\n",
    "\n",
    "        self._RGB_r = None\n",
    "        self._H_r = self._S_r = self._V_r = None\n",
    "        self._S_r_m = None\n",
    "\n",
    "        if self._enable_colour_wheel:\n",
    "            self._RGB_w = None\n",
    "            self._H_w = self._S_w = self._V_w = None\n",
    "            self._S_w_m = None\n",
    "\n",
    "        if self._enable_chromaticity_diagram:\n",
    "            self._RGB_d = None\n",
    "            self._H_d = self._S_d = self._V_d = None\n",
    "            self._S_d_m = None\n",
    "\n",
    "        self._angles = None\n",
    "        self._x_i = self._y_i = self._y_i = None\n",
    "\n",
    "        if self._enable_colour_wheel:\n",
    "            self._protected_area_threshold_colour_wheel_plot = None\n",
    "            self._compression_threshold_colour_wheel_plot = None\n",
    "            self._hue_controls_plot = None\n",
    "\n",
    "        if self._enable_chromaticity_diagram:\n",
    "            self._protected_area_threshold_chromaticity_diagram_plot = None\n",
    "            self._compression_threshold_chromaticity_diagram_plot = None\n",
    "\n",
    "        self._reset_protected_area_controls_Button = None\n",
    "        self._protected_area_threshold_FloatSlider = None\n",
    "        self._reset_compression_controls_Button = None\n",
    "        self._compression_threshold_FloatSlider = None\n",
    "        self._reset_hue_controls_Button = None\n",
    "        self._wedge_controls = None\n",
    "        self._protected_area_controls_HBox = None\n",
    "        self._saturation_controls_HBox = None\n",
    "        self._hue_controls_HBox = None\n",
    "\n",
    "        self.initialize_data()\n",
    "        self.initialize_axes()\n",
    "        self.initialise_widgets()\n",
    "        self.attach_callbacks()\n",
    "\n",
    "        self.update_widget(None)\n",
    "\n",
    "    def initialize_data(self):\n",
    "        super().initialize_data()\n",
    "\n",
    "        # *** Colour Wheel ***\n",
    "        if self._enable_colour_wheel:\n",
    "            self._RGB_w = self._colour_wheel[..., 0:3]\n",
    "            self._H_w, self._S_w, self._V_w = colour.utilities.tsplit(\n",
    "                self.RGB_to_HSV(self._RGB_w))\n",
    "            self._S_w_m = smoothstep(self._S_w, self._protected_area_threshold,\n",
    "                                     self._compression_threshold)\n",
    "\n",
    "        # *** Decimated Image, i.e. Scatter ***\n",
    "        if self._enable_chromaticity_diagram:\n",
    "            self._RGB_d = self._decimated_image_working\n",
    "            self._H_d, self._S_d, self._V_d = colour.utilities.tsplit(\n",
    "                self.RGB_to_HSV(self._decimated_image_working))\n",
    "            self._S_d_m = smoothstep(self._S_d, self._protected_area_threshold,\n",
    "                                     self._compression_threshold)\n",
    "\n",
    "        # *** Reference Image ***\n",
    "        self._RGB_r = self._reference_image_working\n",
    "        self._H_r, self._S_r, self._V_r = colour.utilities.tsplit(\n",
    "            self.RGB_to_HSV(self._reference_image_working))\n",
    "        self._S_r_m = smoothstep(self._S_r, self._protected_area_threshold,\n",
    "                                 self._compression_threshold)\n",
    "\n",
    "        # *** Angles ***\n",
    "        self._angles = np.arange(0, 360, self._hue_wedge) / 360\n",
    "\n",
    "        # *** Initial State ***\n",
    "        self._x_i = np.hstack([self._angles, 1])\n",
    "        self._y_i = self._angles\n",
    "        self._y_i = np.hstack([self._y_i, self._y_i[0] + 1])\n",
    "\n",
    "    def initialize_axes(self):\n",
    "        super().initialize_axes()\n",
    "\n",
    "        circumference = np.linspace(0, np.pi * 2, self._colour_wheel_samples)\n",
    "        # Colour Wheel Axes\n",
    "        if self._enable_colour_wheel:\n",
    "            self._protected_area_threshold_colour_wheel_plot = (\n",
    "                self._colour_wheel_polar_axes.plot(\n",
    "                    circumference,\n",
    "                    np.full(self._colour_wheel_samples,\n",
    "                            self._protected_area_threshold),\n",
    "                    linestyle='dotted',\n",
    "                    color='yellow')[0])\n",
    "            self._compression_threshold_colour_wheel_plot = (\n",
    "                self._colour_wheel_polar_axes.plot(\n",
    "                    circumference,\n",
    "                    np.full(self._colour_wheel_samples,\n",
    "                            self._compression_threshold),\n",
    "                    linestyle='dashdot',\n",
    "                    color='cyan')[0])\n",
    "\n",
    "            self._hue_controls_plot = (self._colour_wheel_polar_axes.plot(\n",
    "                self._y_i * np.pi * 2,\n",
    "                np.ones(self._y_i.shape),\n",
    "                'o-',\n",
    "                color='white')[0])\n",
    "\n",
    "        # Chromaticity Diagram Axes\n",
    "        if self._enable_chromaticity_diagram:\n",
    "            self._protected_area_threshold_chromaticity_diagram_plot = (\n",
    "                self._chromaticity_diagram_axes.plot(\n",
    "                    circumference,\n",
    "                    circumference,\n",
    "                    linestyle='dotted',\n",
    "                    color='yellow')[0])\n",
    "            self._compression_threshold_chromaticity_diagram_plot = (\n",
    "                self._chromaticity_diagram_axes.plot(\n",
    "                    circumference,\n",
    "                    circumference,\n",
    "                    linestyle='dashdot',\n",
    "                    color='cyan')[0])\n",
    "\n",
    "    def initialise_widgets(self):\n",
    "        super().initialise_widgets()\n",
    "\n",
    "        # *** Widgets ***\n",
    "        self._reset_protected_area_controls_Button = (\n",
    "            ipywidgets.widgets.Button(description=\"Reset Protected Area\"))\n",
    "        self._protected_area_threshold_FloatSlider = (\n",
    "            ipywidgets.widgets.FloatSlider(\n",
    "                min=0.0,\n",
    "                max=1.0,\n",
    "                step=0.01,\n",
    "                value=self._protected_area_threshold,\n",
    "                description='Protected Area Threshold'))\n",
    "\n",
    "        self._reset_compression_controls_Button = (\n",
    "            ipywidgets.widgets.Button(description=\"Reset Saturation Controls\"))\n",
    "        compression_functions = list(COMPRESSION_FUNCTIONS.keys())\n",
    "        self._compression_function_DropDown = ipywidgets.widgets.Dropdown(\n",
    "            options=compression_functions,\n",
    "            value=self._compression_function,\n",
    "            description='Compression Function:',\n",
    "        )\n",
    "        self._compression_threshold_FloatSlider = (\n",
    "            ipywidgets.widgets.FloatSlider(\n",
    "                min=0.0,\n",
    "                max=1.0,\n",
    "                step=0.01,\n",
    "                value=self._compression_threshold,\n",
    "                description='Compression Threshold'))\n",
    "\n",
    "        self._reset_hue_controls_Button = ipywidgets.widgets.Button(\n",
    "            description=\"Reset Hue Controls\")\n",
    "        self._wedge_controls = [\n",
    "            ipywidgets.widgets.FloatSlider(\n",
    "                min=-1,\n",
    "                max=1,\n",
    "                step=0.01,\n",
    "                value=0,\n",
    "                description='{0}°'.format(int(angle * 360)))\n",
    "            for angle in self._angles\n",
    "        ]\n",
    "\n",
    "        # *** Layout ***\n",
    "        self._protected_area_controls_HBox = ipywidgets.widgets.HBox([\n",
    "            self._reset_protected_area_controls_Button,\n",
    "            self._protected_area_threshold_FloatSlider,\n",
    "        ])\n",
    "\n",
    "        self._saturation_controls_HBox = ipywidgets.widgets.HBox([\n",
    "            self._reset_compression_controls_Button,\n",
    "            self._compression_function_DropDown,\n",
    "            self._compression_threshold_FloatSlider\n",
    "        ])\n",
    "\n",
    "        wedge_controls_batches = batch(self._wedge_controls, 3)\n",
    "        self._hue_controls_HBox = ipywidgets.widgets.HBox(\n",
    "            [ipywidgets.widgets.VBox([self._reset_hue_controls_Button])] + [\n",
    "                ipywidgets.widgets.VBox(wedge_controls)\n",
    "                for wedge_controls in wedge_controls_batches\n",
    "            ])\n",
    "\n",
    "        self._controls_Tab.children += (\n",
    "            self._protected_area_controls_HBox,\n",
    "            self._saturation_controls_HBox,\n",
    "            self._hue_controls_HBox,\n",
    "        )\n",
    "\n",
    "        self._controls_Tab.set_title(1, 'Protected Area Controls')\n",
    "        self._controls_Tab.set_title(2, 'Saturation Controls')\n",
    "        self._controls_Tab.set_title(3, 'Hue Controls')\n",
    "\n",
    "    def attach_callbacks(self):\n",
    "        super().attach_callbacks()\n",
    "\n",
    "        self._reset_protected_area_controls_Button.on_click(\n",
    "            self.reset_protected_area_controls)\n",
    "        self._protected_area_threshold_FloatSlider.observe(\n",
    "            self.update_protected_area_mask, 'value')\n",
    "\n",
    "        self._reset_compression_controls_Button.on_click(\n",
    "            self.reset_compression_controls)\n",
    "        self._compression_function_DropDown.observe(self.update_widget,\n",
    "                                                    'value')\n",
    "        self._compression_threshold_FloatSlider.observe(\n",
    "            self.update_widget, 'value')\n",
    "\n",
    "        self._reset_hue_controls_Button.on_click(self.reset_hue_controls)\n",
    "        for slider in self._wedge_controls:\n",
    "            slider.observe(self.update_widget, 'value')\n",
    "\n",
    "    def update_region_colour_wheel_plot(self, V_r, region_colour_wheel_plot):\n",
    "        if self._enable_colour_wheel:\n",
    "            region_colour_wheel_plot.set_ydata(\n",
    "                np.full(self._colour_wheel_samples, V_r))\n",
    "\n",
    "    def update_protected_area_threshold_colour_wheel_plot(self, U_r):\n",
    "        if self._enable_colour_wheel:\n",
    "            self.update_region_colour_wheel_plot(\n",
    "                U_r, self._protected_area_threshold_colour_wheel_plot)\n",
    "\n",
    "    def update_compression_threshold_colour_wheel_plot(self, S_c):\n",
    "        if self._enable_colour_wheel:\n",
    "            self.update_region_colour_wheel_plot(\n",
    "                S_c, self._compression_threshold_colour_wheel_plot)\n",
    "\n",
    "    def update_region_chromaticity_diagram_plot(\n",
    "            self, V_r, region_chromaticity_diagram_plot):\n",
    "        if self._enable_chromaticity_diagram:\n",
    "            HSV = colour.utilities.tstack([\n",
    "                np.linspace(0, 1, self._colour_wheel_samples),\n",
    "                np.full(self._colour_wheel_samples, V_r),\n",
    "                np.ones(self._colour_wheel_samples)\n",
    "            ])\n",
    "            uv = colour.Luv_to_uv(\n",
    "                colour.XYZ_to_Luv(\n",
    "                    colour.RGB_to_XYZ(\n",
    "                        self.HSV_to_RGB(HSV), self._working_space.whitepoint,\n",
    "                        self._working_space.whitepoint,\n",
    "                        self._working_space.RGB_to_XYZ_matrix),\n",
    "                    self._working_space.whitepoint))\n",
    "\n",
    "            region_chromaticity_diagram_plot.set_data(uv[:, 0], uv[:, 1])\n",
    "\n",
    "    def update_protected_area_threshold_chromaticity_diagram_plot(self, U_r):\n",
    "        if self._enable_chromaticity_diagram:\n",
    "            self.update_region_chromaticity_diagram_plot(\n",
    "                U_r, self._protected_area_threshold_chromaticity_diagram_plot)\n",
    "\n",
    "    def update_compression_threshold_chromaticity_diagram_plot(self, S_c):\n",
    "        if self._enable_chromaticity_diagram:\n",
    "            self.update_region_chromaticity_diagram_plot(\n",
    "                S_c, self._compression_threshold_chromaticity_diagram_plot)\n",
    "\n",
    "    def update_protected_area_mask(self, change):\n",
    "        if not change:\n",
    "            return\n",
    "\n",
    "        if change['name'] == 'value':\n",
    "            U_r = self._protected_area_threshold_FloatSlider.value\n",
    "            S_c = self._compression_threshold_FloatSlider.value\n",
    "\n",
    "            if self._enable_colour_wheel:\n",
    "                self._S_w_m = smoothstep(self._S_w, U_r, S_c)\n",
    "\n",
    "            if self._enable_chromaticity_diagram:\n",
    "                self._S_r_m = smoothstep(self._S_r, U_r, S_c)\n",
    "\n",
    "            self._S_d_m = smoothstep(self._S_d, U_r, S_c)\n",
    "\n",
    "        self.update_widget(None)\n",
    "\n",
    "    def wedge_control_to_hue_offset(self, value):\n",
    "        slider = self._wedge_controls[0]\n",
    "\n",
    "        return colour.utilities.linear_conversion(\n",
    "            value, [slider.min, slider.max],\n",
    "            [-self._hue_wedge / 360, self._hue_wedge / 360])\n",
    "\n",
    "    def reset_protected_area_controls(self, change):\n",
    "        self._protected_area_threshold_FloatSlider.value = (\n",
    "            self._protected_area_threshold)\n",
    "\n",
    "        self.update_protected_area_mask(None)\n",
    "\n",
    "    def reset_compression_controls(self, change):\n",
    "        self._compression_threshold_FloatSlider.value = (\n",
    "            self._compression_threshold)\n",
    "\n",
    "        self.update_widget(None)\n",
    "\n",
    "    def reset_hue_controls(self, change):\n",
    "        for slider in self._wedge_controls:\n",
    "            slider.value = 0\n",
    "\n",
    "        self.update_widget(None)\n",
    "\n",
    "    def update_colour_wheel_axes(self, U_r, S_c, H_y, H_o, C_f):\n",
    "        if self._enable_colour_wheel:\n",
    "            R_w, G_w, B_w = colour.utilities.tsplit(\n",
    "                medicina_HSV_control(self._RGB_w, self._H_w, self._S_w,\n",
    "                                     self._V_w, self._x_i, H_y, S_c,\n",
    "                                     self._S_w_m, C_f, self.HSV_to_RGB))\n",
    "            self._colour_wheel_imshow.set_data(\n",
    "                np.clip(\n",
    "                    colour.tstack([R_w, G_w, B_w,\n",
    "                                   self._colour_wheel[..., -1]]), 0, 1))\n",
    "            self.update_protected_area_threshold_colour_wheel_plot(U_r)\n",
    "            self.update_compression_threshold_colour_wheel_plot(S_c)\n",
    "\n",
    "            H_x = H_o + self._angles\n",
    "            H_x = np.hstack([H_x, H_x[0]])\n",
    "            self._hue_controls_plot.set_xdata(H_x * np.pi * 2)\n",
    "\n",
    "    def update_chromaticity_diagram_axes(self, U_r, S_c, H_y, C_f):\n",
    "        if self._enable_chromaticity_diagram:\n",
    "            RGB_r_s = medicina_HSV_control(\n",
    "                self._RGB_d, self._H_d, self._S_d, self._V_d, self._x_i, H_y,\n",
    "                S_c, self._S_d_m, C_f, self.HSV_to_RGB).reshape(-1, 3)\n",
    "            self.update_scatter_plot(RGB_r_s)\n",
    "            self.update_protected_area_threshold_chromaticity_diagram_plot(U_r)\n",
    "            self.update_compression_threshold_chromaticity_diagram_plot(S_c)\n",
    "\n",
    "    def update_reference_image_axes(self, S_c, H_y, C_f):\n",
    "        RGB_r = medicina_HSV_control(self._RGB_r, self._H_r, self._S_r,\n",
    "                                     self._V_r, self._x_i, H_y, S_c,\n",
    "                                     self._S_r_m, C_f, self.HSV_to_RGB)\n",
    "        self._reference_image_mapped = RGB_r\n",
    "        self._reference_image_imshow.set_data(\n",
    "            self.working_space_to_display_space(RGB_r))\n",
    "\n",
    "    def update_widget(self, change):\n",
    "        super().update_widget(change)\n",
    "\n",
    "        if self._enable:\n",
    "            U_r = self._protected_area_threshold_FloatSlider.value\n",
    "            S_c = self._compression_threshold_FloatSlider.value\n",
    "            C_f = COMPRESSION_FUNCTIONS[\n",
    "                self._compression_function_DropDown.value]\n",
    "\n",
    "            hue_offsets = np.array([\n",
    "                self.wedge_control_to_hue_offset(slider.value)\n",
    "                for slider in self._wedge_controls\n",
    "            ])\n",
    "\n",
    "            H_y = -hue_offsets + self._angles\n",
    "            H_y = np.hstack([H_y, H_y[0] + 1])\n",
    "\n",
    "            if self._enable_colour_wheel:\n",
    "                self.update_colour_wheel_axes(U_r, S_c, H_y, hue_offsets, C_f)\n",
    "\n",
    "            if self._enable_chromaticity_diagram:\n",
    "                self.update_chromaticity_diagram_axes(U_r, S_c, H_y, C_f)\n",
    "\n",
    "            self.update_reference_image_axes(S_c, H_y, C_f)\n",
    "\n",
    "            self._figure.canvas.draw_idle()\n",
    "\n",
    "\n",
    "GamutMedicinaHSVControlWidget(\n",
    "    '../resources/images/A009C002_190210_R0EI_Alexa_LogCWideGamut.exr')"
   ]
  },
  {
   "cell_type": "code",
   "execution_count": 13,
   "metadata": {},
   "outputs": [
    {
     "data": {
      "application/vnd.jupyter.widget-view+json": {
       "model_id": "4dac47fedc394f4ea02e14953f527bda",
       "version_major": 2,
       "version_minor": 0
      },
      "text/plain": [
       "GamutMedicinaHSVControlWidget(children=(Output(layout=Layout(border='solid 4px #222', margin='4px', padding='0…"
      ]
     },
     "metadata": {},
     "output_type": "display_data"
    }
   ],
   "source": [
    "GamutMedicinaHSVControlWidget('../resources/images/A002_C029_06025K.exr')"
   ]
  },
  {
   "cell_type": "code",
   "execution_count": 14,
   "metadata": {},
   "outputs": [
    {
     "data": {
      "application/vnd.jupyter.widget-view+json": {
       "model_id": "280af0f93759416c95324de894ac04ca",
       "version_major": 2,
       "version_minor": 0
      },
      "text/plain": [
       "GamutMedicinaHSVControlWidget(children=(Output(layout=Layout(border='solid 4px #222', margin='4px', padding='0…"
      ]
     },
     "metadata": {},
     "output_type": "display_data"
    }
   ],
   "source": [
    "GamutMedicinaHSVControlWidget(\n",
    "    '../resources/images/Cornell_Box_Rigid_Spheres_190_Patch_Roughplastic_Point_Grey_Grasshopper_50S5C_RGB_W.exr')"
   ]
  },
  {
   "cell_type": "code",
   "execution_count": 15,
   "metadata": {},
   "outputs": [
    {
     "data": {
      "application/vnd.jupyter.widget-view+json": {
       "model_id": "5fa58bf192cc4a149598ad974d16ecf1",
       "version_major": 2,
       "version_minor": 0
      },
      "text/plain": [
       "GamutMedicinaHSVControlWidget(children=(Output(layout=Layout(border='solid 4px #222', margin='4px', padding='0…"
      ]
     },
     "metadata": {},
     "output_type": "display_data"
    }
   ],
   "source": [
    "GamutMedicinaHSVControlWidget(\n",
    "    '../resources/images/Cornell_Box_Rigid_Spheres_190_Patch_Roughplastic_Point_Grey_Grasshopper_50S5C_RGB_W.exr',\n",
    "    enable_colour_wheel=False)"
   ]
  },
  {
   "cell_type": "markdown",
   "metadata": {},
   "source": [
    "## Smith (2020) - RGB Saturation Study Model"
   ]
  },
  {
   "cell_type": "markdown",
   "metadata": {},
   "source": [
    "*Smith (2020)* gamut mapping study model is directly operating in the RGB colourspace:\n",
    "\n",
    "- Like with the HSV colourspace, an achromatic axis is computed for the scene-referred RGB exposure values.\n",
    "- The distance from the individual $R$, $G$ and $B$ to the achromatic axis is compressed with a cherry-picked compression function, e.g. $tanh$.\n",
    "\n",
    "The model is extremely simple and elegant while offering good computational speed.\n",
    "\n",
    "More information is available on [ACEScentral](https://community.acescentral.com/t/rgb-saturation-gamut-mapping-approach-and-a-comp-vfx-perspective/)."
   ]
  },
  {
   "cell_type": "code",
   "execution_count": 16,
   "metadata": {},
   "outputs": [
    {
     "data": {
      "application/vnd.jupyter.widget-view+json": {
       "model_id": "0d1305ccf27e4106a9454b51c3b97d18",
       "version_major": 2,
       "version_minor": 0
      },
      "text/plain": [
       "GamutMedicinaRGBSaturationWidget(children=(Output(layout=Layout(border='solid 4px #222', margin='4px', padding…"
      ]
     },
     "metadata": {},
     "output_type": "display_data"
    }
   ],
   "source": [
    "def medicina_RGB_saturation(RGB, C_t, C_f):\n",
    "    C_t = 1 - C_t\n",
    "\n",
    "    L = np.max(RGB, axis=-1)[..., np.newaxis]\n",
    "\n",
    "    D = np.abs(RGB - L) / L\n",
    "\n",
    "    D_c = C_f(D, C_t, 1 - C_t)\n",
    "\n",
    "    RGB_c = L - D_c * L\n",
    "\n",
    "    return RGB_c\n",
    "\n",
    "\n",
    "class GamutMedicinaRGBSaturationWidget(GamutMedicinaBaseWidget):\n",
    "    def __init__(self,\n",
    "                 reference_image=None,\n",
    "                 compression_threshold=0.8,\n",
    "                 compression_function='tanh',\n",
    "                 *args,\n",
    "                 **kwargs):\n",
    "        self._compression_threshold = compression_threshold\n",
    "        self._compression_function = compression_function\n",
    "\n",
    "        kwargs['enable_colour_wheel'] = False\n",
    "\n",
    "        super().__init__(reference_image, *args, **kwargs)\n",
    "\n",
    "        self._RGB_w = None\n",
    "        self._RGB_r = None\n",
    "        self._RGB_d = None\n",
    "\n",
    "        self._compression_threshold_chromaticity_diagram_plot = None\n",
    "\n",
    "        self._reset_compression_controls_Button = None\n",
    "        self._compression_threshold_FloatSlider = None\n",
    "\n",
    "        self.initialize_data()\n",
    "        self.initialize_axes()\n",
    "        self.initialise_widgets()\n",
    "        self.attach_callbacks()\n",
    "\n",
    "        self.update_widget(None)\n",
    "\n",
    "    def initialize_data(self):\n",
    "        super().initialize_data()\n",
    "\n",
    "        # *** Reference Image ***\n",
    "        self._RGB_r = self._reference_image_working\n",
    "\n",
    "        # *** Decimated Image, i.e. Scatter ***\n",
    "        self._RGB_d = self._decimated_image_working\n",
    "\n",
    "    def initialize_axes(self):\n",
    "        super().initialize_axes()\n",
    "\n",
    "\n",
    "    def initialise_widgets(self):\n",
    "        super().initialise_widgets()\n",
    "\n",
    "        # *** Widgets ***\n",
    "        self._reset_compression_controls_Button = (\n",
    "            ipywidgets.widgets.Button(\n",
    "                description=\"Reset Compression Controls\"))\n",
    "        compression_functions = list(COMPRESSION_FUNCTIONS.keys())\n",
    "        self._compression_function_DropDown = ipywidgets.widgets.Dropdown(\n",
    "            options=compression_functions,\n",
    "            value=self._compression_function,\n",
    "            description='Compression Function:',\n",
    "        )\n",
    "        self._compression_threshold_FloatSlider = (\n",
    "            ipywidgets.widgets.FloatSlider(\n",
    "                min=0.0,\n",
    "                max=1.0,\n",
    "                step=0.01,\n",
    "                value=self._compression_threshold,\n",
    "                description='Compression Threshold'))\n",
    "\n",
    "        # *** Layout ***\n",
    "        self._compression_controls_HBox = ipywidgets.widgets.HBox([\n",
    "            self._reset_compression_controls_Button,\n",
    "            self._compression_function_DropDown,\n",
    "            self._compression_threshold_FloatSlider,\n",
    "        ])\n",
    "\n",
    "        self._controls_Tab.children += (\n",
    "            self._compression_controls_HBox,\n",
    "        )\n",
    "\n",
    "        self._controls_Tab.set_title(1, 'Compression Controls')\n",
    "\n",
    "    def attach_callbacks(self):\n",
    "        super().attach_callbacks()\n",
    "\n",
    "        self._reset_compression_controls_Button.on_click(\n",
    "            self.reset_compression_controls)\n",
    "        self._compression_function_DropDown.observe(self.update_widget,\n",
    "                                                    'value')\n",
    "        self._compression_threshold_FloatSlider.observe(\n",
    "            self.update_widget, 'value')\n",
    "\n",
    "    def reset_compression_controls(self, change):\n",
    "        self._compression_threshold_FloatSlider.value = (\n",
    "            self._compression_threshold)\n",
    "\n",
    "        self.update_widget(None)\n",
    "\n",
    "    def update_chromaticity_diagram_axes(self, C_t, C_f):\n",
    "        RGB_r_s = medicina_RGB_saturation(self._RGB_d, C_t, C_f).reshape(-1, 3)\n",
    "        self.update_scatter_plot(RGB_r_s)\n",
    "\n",
    "    def update_reference_image_axes(self, C_t, C_f):\n",
    "        RGB_r = medicina_RGB_saturation(self._RGB_r, C_t, C_f)\n",
    "        self._reference_image_mapped = RGB_r\n",
    "        self._reference_image_imshow.set_data(\n",
    "            self.working_space_to_display_space(RGB_r))\n",
    "\n",
    "    def update_widget(self, change):\n",
    "        super().update_widget(change)\n",
    "\n",
    "        if self._enable:\n",
    "            C_t = 1 - self._compression_threshold_FloatSlider.value\n",
    "            C_f = COMPRESSION_FUNCTIONS[\n",
    "                self._compression_function_DropDown.value]\n",
    "\n",
    "            self.update_chromaticity_diagram_axes(C_t, C_f)\n",
    "            self.update_reference_image_axes(C_t, C_f)\n",
    "\n",
    "            self._figure.canvas.draw_idle()\n",
    "\n",
    "\n",
    "GamutMedicinaRGBSaturationWidget(\n",
    "    '../resources/images/A009C002_190210_R0EI_Alexa_LogCWideGamut.exr')"
   ]
  },
  {
   "cell_type": "code",
   "execution_count": 17,
   "metadata": {},
   "outputs": [
    {
     "data": {
      "application/vnd.jupyter.widget-view+json": {
       "model_id": "4b0f1ec73f6440b9b52a8fdee96ddbf2",
       "version_major": 2,
       "version_minor": 0
      },
      "text/plain": [
       "GamutMedicinaHSVControlWidget(children=(Output(layout=Layout(border='solid 4px #222', margin='4px', padding='0…"
      ]
     },
     "metadata": {},
     "output_type": "display_data"
    }
   ],
   "source": [
    "GamutMedicinaHSVControlWidget(\n",
    "    '../resources/images/A009C002_190210_R0EI_Alexa_LogCWideGamut.exr',\n",
    "    enable_colour_wheel=False)"
   ]
  },
  {
   "cell_type": "code",
   "execution_count": 18,
   "metadata": {},
   "outputs": [
    {
     "data": {
      "application/vnd.jupyter.widget-view+json": {
       "model_id": "671e4c8231af474496f19f9905961168",
       "version_major": 2,
       "version_minor": 0
      },
      "text/plain": [
       "GamutMedicinaRGBSaturationWidget(children=(Output(layout=Layout(border='solid 4px #222', margin='4px', padding…"
      ]
     },
     "metadata": {},
     "output_type": "display_data"
    }
   ],
   "source": [
    "GamutMedicinaRGBSaturationWidget(\n",
    "    '../resources/images/Carol Payne - J001_C001_08178N_001.exr')"
   ]
  },
  {
   "cell_type": "code",
   "execution_count": 19,
   "metadata": {},
   "outputs": [
    {
     "data": {
      "application/vnd.jupyter.widget-view+json": {
       "model_id": "79a57365545348908f3e894bbc79de89",
       "version_major": 2,
       "version_minor": 0
      },
      "text/plain": [
       "GamutMedicinaRGBSaturationWidget(children=(Output(layout=Layout(border='solid 4px #222', margin='4px', padding…"
      ]
     },
     "metadata": {},
     "output_type": "display_data"
    }
   ],
   "source": [
    "GamutMedicinaRGBSaturationWidget(\n",
    "    '../resources/images/Cornell_Box_Rigid_Spheres_190_Patch_Roughplastic_Point_Grey_Grasshopper_50S5C_RGB_W.exr')"
   ]
  },
  {
   "cell_type": "markdown",
   "metadata": {},
   "source": [
    "## Compared Model Distortions"
   ]
  },
  {
   "cell_type": "markdown",
   "metadata": {},
   "source": [
    "Various model distortions comparisons."
   ]
  },
  {
   "cell_type": "code",
   "execution_count": 20,
   "metadata": {},
   "outputs": [],
   "source": [
    "colour.write_image(\n",
    "    colour_wheel(clip_circle=False)[..., 0:3],\n",
    "    '../resources/images/Colour_Wheel.exr')"
   ]
  },
  {
   "cell_type": "code",
   "execution_count": 21,
   "metadata": {},
   "outputs": [
    {
     "data": {
      "application/vnd.jupyter.widget-view+json": {
       "model_id": "24b0535265da4548b4f42b1d7bc06f59",
       "version_major": 2,
       "version_minor": 0
      },
      "text/plain": [
       "GamutMedicinaHSVControlWidget(children=(Output(layout=Layout(border='solid 4px #222', margin='4px', padding='0…"
      ]
     },
     "metadata": {},
     "output_type": "display_data"
    }
   ],
   "source": [
    "GamutMedicinaHSVControlWidget(\n",
    "    '../resources/images/Colour_Wheel.exr',\n",
    "    image_decimation=20,\n",
    "    protected_area_threshold=0.5,\n",
    "    compression_threshold=0.5,\n",
    "    enable_colour_wheel=False)"
   ]
  },
  {
   "cell_type": "code",
   "execution_count": 22,
   "metadata": {},
   "outputs": [
    {
     "data": {
      "application/vnd.jupyter.widget-view+json": {
       "model_id": "1bd6ada67c154d0e92e6724e68bf853f",
       "version_major": 2,
       "version_minor": 0
      },
      "text/plain": [
       "GamutMedicinaRGBSaturationWidget(children=(Output(layout=Layout(border='solid 4px #222', margin='4px', padding…"
      ]
     },
     "metadata": {},
     "output_type": "display_data"
    }
   ],
   "source": [
    "GamutMedicinaRGBSaturationWidget(\n",
    "    '../resources/images/Colour_Wheel.exr',\n",
    "    image_decimation=20,\n",
    "    compression_threshold=0.5)"
   ]
  }
 ],
 "metadata": {
  "colab": {
   "collapsed_sections": [],
   "name": "gamut_mapping_ramblings_01",
   "provenance": []
  },
  "kernelspec": {
   "display_name": "Python 3",
   "language": "python",
   "name": "python3"
  },
  "language_info": {
   "codemirror_mode": {
    "name": "ipython",
    "version": 3
   },
   "file_extension": ".py",
   "mimetype": "text/x-python",
   "name": "python",
   "nbconvert_exporter": "python",
   "pygments_lexer": "ipython3",
   "version": "3.7.6"
  },
  "widgets": {
   "application/vnd.jupyter.widget-state+json": {
    "state": {
     "0013cc7ada234371a3806da8c3fa02ee": {
      "model_module": "@jupyter-widgets/controls",
      "model_module_version": "1.5.0",
      "model_name": "SliderStyleModel",
      "state": {
       "description_width": ""
      }
     },
     "00560b7b655e485b928ce7f227cbdb60": {
      "model_module": "@jupyter-widgets/base",
      "model_module_version": "1.2.0",
      "model_name": "LayoutModel",
      "state": {}
     },
     "0058301b111f4425bb409cde4f29cbb7": {
      "model_module": "@jupyter-widgets/controls",
      "model_module_version": "1.5.0",
      "model_name": "FloatSliderModel",
      "state": {
       "description": "270°",
       "layout": "IPY_MODEL_b0a24a7f7b7642e9806c6c74d78b1108",
       "max": 1,
       "min": -1,
       "step": 0.01,
       "style": "IPY_MODEL_fad2fac0204346158ecb22a7dfe2c679"
      }
     },
     "00d247f0ecca424193af94467db67ad0": {
      "model_module": "@jupyter-widgets/base",
      "model_module_version": "1.2.0",
      "model_name": "LayoutModel",
      "state": {}
     },
     "018f7375117d454ba630160be2a773af": {
      "model_module": "@jupyter-widgets/output",
      "model_module_version": "1.0.0",
      "model_name": "OutputModel",
      "state": {
       "layout": "IPY_MODEL_c597d7c1a21244dc90f21684af606fa0",
       "outputs": [
        {
         "data": {
          "application/vnd.jupyter.widget-view+json": {
           "model_id": "277cf70324b44d1190946d31a6eccfb1",
           "version_major": 2,
           "version_minor": 0
          },
          "text/plain": "Canvas(toolbar=Toolbar(toolitems=[('Home', 'Reset original view', 'home', 'home'), ('Back', 'Back to previous …"
         },
         "metadata": {},
         "output_type": "display_data"
        }
       ]
      }
     },
     "018fcce05d79419db90c07841c384c23": {
      "model_module": "@jupyter-widgets/controls",
      "model_module_version": "1.5.0",
      "model_name": "ButtonStyleModel",
      "state": {}
     },
     "01c4c82dfdc645688a624c7f743fe9ad": {
      "model_module": "@jupyter-widgets/controls",
      "model_module_version": "1.5.0",
      "model_name": "ButtonStyleModel",
      "state": {}
     },
     "01da071aa92046d78410f859e816cf68": {
      "model_module": "@jupyter-widgets/controls",
      "model_module_version": "1.5.0",
      "model_name": "SliderStyleModel",
      "state": {
       "description_width": ""
      }
     },
     "0211a7eaa69f49789b29c35e153ba273": {
      "model_module": "@jupyter-widgets/base",
      "model_module_version": "1.2.0",
      "model_name": "LayoutModel",
      "state": {}
     },
     "022cd465b5704829b594d1bc83132c33": {
      "model_module": "@jupyter-widgets/base",
      "model_module_version": "1.2.0",
      "model_name": "LayoutModel",
      "state": {}
     },
     "025a1a1eef614fa4811ee7b91a8ce833": {
      "model_module": "@jupyter-widgets/controls",
      "model_module_version": "1.5.0",
      "model_name": "ButtonModel",
      "state": {
       "description": "Save Figure",
       "layout": "IPY_MODEL_7e7de67591e044419dc5a26954a27115",
       "style": "IPY_MODEL_ecfcce51abb64312b50bf98f90e5aea9"
      }
     },
     "0270a988a2aa4ccc9fde6e1f34558508": {
      "model_module": "@jupyter-widgets/base",
      "model_module_version": "1.2.0",
      "model_name": "LayoutModel",
      "state": {}
     },
     "029fa45759c540fbbeff606f6b7faa02": {
      "model_module": "@jupyter-widgets/output",
      "model_module_version": "1.0.0",
      "model_name": "OutputModel",
      "state": {
       "layout": "IPY_MODEL_5448f94761d848b5b41dad05a36adea3",
       "outputs": [
        {
         "data": {
          "application/vnd.jupyter.widget-view+json": {
           "model_id": "640419ef2c2c45a1a8d0e40e4b5010cf",
           "version_major": 2,
           "version_minor": 0
          },
          "text/plain": "Canvas(toolbar=Toolbar(toolitems=[('Home', 'Reset original view', 'home', 'home'), ('Back', 'Back to previous …"
         },
         "metadata": {},
         "output_type": "display_data"
        }
       ]
      }
     },
     "02b93d52e0da421c94f1ca04a95c7e06": {
      "model_module": "@jupyter-widgets/base",
      "model_module_version": "1.2.0",
      "model_name": "LayoutModel",
      "state": {}
     },
     "02cccaf5333c450299adfc587193273b": {
      "model_module": "@jupyter-widgets/base",
      "model_module_version": "1.2.0",
      "model_name": "LayoutModel",
      "state": {}
     },
     "02d89b9470394ddc82c1fd0f20f8afef": {
      "model_module": "@jupyter-widgets/base",
      "model_module_version": "1.2.0",
      "model_name": "LayoutModel",
      "state": {}
     },
     "02eb23957dc4461daa7aea0bcf4e2752": {
      "model_module": "@jupyter-widgets/controls",
      "model_module_version": "1.5.0",
      "model_name": "ButtonStyleModel",
      "state": {}
     },
     "030c2aaa17d74b76a5d0e448fa536c08": {
      "model_module": "@jupyter-widgets/controls",
      "model_module_version": "1.5.0",
      "model_name": "FloatSliderModel",
      "state": {
       "description": "Protected Area Threshold",
       "layout": "IPY_MODEL_89359efa54734061aef9f25d634eef69",
       "max": 1,
       "step": 0.01,
       "style": "IPY_MODEL_451ef004087f4e52b123b0a0d2d722bf",
       "value": 0.7
      }
     },
     "036461d13aba41fda546c9267e37ed6c": {
      "model_module": "@jupyter-widgets/controls",
      "model_module_version": "1.5.0",
      "model_name": "VBoxModel",
      "state": {
       "children": [
        "IPY_MODEL_f007c44cc77a4aae9716fa4a1abc18ec"
       ],
       "layout": "IPY_MODEL_aacc7e0371f7497cbc3f7f2b7e7e7bd9"
      }
     },
     "03d388475db640d28e335eaff6e07960": {
      "model_module": "@jupyter-widgets/controls",
      "model_module_version": "1.5.0",
      "model_name": "ButtonStyleModel",
      "state": {}
     },
     "0431692e8f654823a571b1a92cf8bf47": {
      "model_module": "@jupyter-widgets/base",
      "model_module_version": "1.2.0",
      "model_name": "LayoutModel",
      "state": {}
     },
     "0446578235c246059bdf54411c1da695": {
      "model_module": "@jupyter-widgets/base",
      "model_module_version": "1.2.0",
      "model_name": "LayoutModel",
      "state": {}
     },
     "04673d582c5144f39d372d08fbc8bb4a": {
      "model_module": "@jupyter-widgets/base",
      "model_module_version": "1.2.0",
      "model_name": "LayoutModel",
      "state": {}
     },
     "051ef79302ce494082c533eed2548cbe": {
      "model_module": "@jupyter-widgets/controls",
      "model_module_version": "1.5.0",
      "model_name": "ButtonModel",
      "state": {
       "description": "Reset Protected Area",
       "layout": "IPY_MODEL_b63a71537a4f41f5a8d44dccba704b0c",
       "style": "IPY_MODEL_ca32b124fc124eb99f24a7e10d838fe1"
      }
     },
     "0538e97c7cf14c989bf73535a40dd43e": {
      "model_module": "@jupyter-widgets/base",
      "model_module_version": "1.2.0",
      "model_name": "LayoutModel",
      "state": {}
     },
     "055812cbe06642049a852109cce0170c": {
      "model_module": "@jupyter-widgets/controls",
      "model_module_version": "1.5.0",
      "model_name": "BoxModel",
      "state": {
       "children": [
        "IPY_MODEL_907cc3d66ea34491999c07505f1961a2",
        "IPY_MODEL_0c0ffbd746b14a59ba0c38cf29ec0ece"
       ],
       "layout": "IPY_MODEL_acbedc220f58482dbd2532fea0229630"
      }
     },
     "05767004e2e149568c95d163a4eba836": {
      "model_module": "@jupyter-widgets/controls",
      "model_module_version": "1.5.0",
      "model_name": "ButtonStyleModel",
      "state": {}
     },
     "058bb3f838cc402aa09bb72fc8175755": {
      "model_module": "@jupyter-widgets/controls",
      "model_module_version": "1.5.0",
      "model_name": "FloatSliderModel",
      "state": {
       "description": "225°",
       "layout": "IPY_MODEL_b440ea38d76b4a5ba4c533e0226e818e",
       "max": 1,
       "min": -1,
       "step": 0.01,
       "style": "IPY_MODEL_74b3e0d4ecd44bec8ec2987246e4ac4d"
      }
     },
     "05dc6dc1474745a887b79c5cb59cc6f2": {
      "model_module": "@jupyter-widgets/base",
      "model_module_version": "1.2.0",
      "model_name": "LayoutModel",
      "state": {}
     },
     "061890dd69714db1a91d30559cc8ac99": {
      "model_module": "@jupyter-widgets/controls",
      "model_module_version": "1.5.0",
      "model_name": "HBoxModel",
      "state": {
       "children": [
        "IPY_MODEL_6861a285c4334e9e94e4962488d9e122",
        "IPY_MODEL_1d5b34f793a14395b78d98e5a440b8f8",
        "IPY_MODEL_29abf01d86ef4b22be9c3fd30426d8b9"
       ],
       "layout": "IPY_MODEL_ef3ff31ed1c44fce8a658367d299a73a"
      }
     },
     "0637c87b3b6b42a3b9c79b48c4833731": {
      "model_module": "@jupyter-widgets/controls",
      "model_module_version": "1.5.0",
      "model_name": "VBoxModel",
      "state": {
       "children": [
        "IPY_MODEL_181f743724fa4c24afc38835580fa97f",
        "IPY_MODEL_ba130a9edc5e4c39b0e45f28cc4df137"
       ],
       "layout": "IPY_MODEL_b1ce6bddef6b46b49f8a3a63efe74aff"
      }
     },
     "069e46707e504beaa46a860b975d14e5": {
      "model_module": "@jupyter-widgets/controls",
      "model_module_version": "1.5.0",
      "model_name": "ButtonStyleModel",
      "state": {}
     },
     "06ecb2958472496e9b4a863c24ce4dce": {
      "model_module": "@jupyter-widgets/base",
      "model_module_version": "1.2.0",
      "model_name": "LayoutModel",
      "state": {}
     },
     "06f22a61a6d8455e9dec9ea48bc6e85b": {
      "model_module": "@jupyter-widgets/controls",
      "model_module_version": "1.5.0",
      "model_name": "SliderStyleModel",
      "state": {
       "description_width": ""
      }
     },
     "070ac03764474863a2d80e1509f5cee8": {
      "model_module": "@jupyter-widgets/controls",
      "model_module_version": "1.5.0",
      "model_name": "SliderStyleModel",
      "state": {
       "description_width": ""
      }
     },
     "071d3029be7e49f199aee23adc160f18": {
      "model_module": "@jupyter-widgets/base",
      "model_module_version": "1.2.0",
      "model_name": "LayoutModel",
      "state": {}
     },
     "07569f7cb8284d50b4ddb3de77260560": {
      "model_module": "@jupyter-widgets/base",
      "model_module_version": "1.2.0",
      "model_name": "LayoutModel",
      "state": {}
     },
     "0811ab8c298f42fd99f3654c808f396c": {
      "model_module": "@jupyter-widgets/controls",
      "model_module_version": "1.5.0",
      "model_name": "SliderStyleModel",
      "state": {
       "description_width": ""
      }
     },
     "0825506e50dc449cbac2702a9df78611": {
      "model_module": "@jupyter-widgets/base",
      "model_module_version": "1.2.0",
      "model_name": "LayoutModel",
      "state": {}
     },
     "0873b3e341574483867d14f9243fc3ab": {
      "model_module": "@jupyter-widgets/base",
      "model_module_version": "1.2.0",
      "model_name": "LayoutModel",
      "state": {}
     },
     "0887f69f2d45423c8a88f927560a17fb": {
      "model_module": "@jupyter-widgets/controls",
      "model_module_version": "1.5.0",
      "model_name": "HBoxModel",
      "state": {
       "children": [
        "IPY_MODEL_f8e7c819df6744bfb090000fb1f160e1",
        "IPY_MODEL_b9f9338ee34446ccbec7d6bed6798c96",
        "IPY_MODEL_595780072f2f4eb6961ec2ac75a964ab"
       ],
       "layout": "IPY_MODEL_bf20eb4a5edb48098d2e5356cad3ad94"
      }
     },
     "088fc940cb00445ea613902d3c53a58b": {
      "model_module": "@jupyter-widgets/controls",
      "model_module_version": "1.5.0",
      "model_name": "CheckboxModel",
      "state": {
       "description": "Disable Medicina",
       "disabled": false,
       "layout": "IPY_MODEL_022cd465b5704829b594d1bc83132c33",
       "style": "IPY_MODEL_fb9bac5e3f9b4968b1a4569e55329295",
       "value": false
      }
     },
     "09421f96879a45caa964a9c9c7101fac": {
      "model_module": "@jupyter-widgets/controls",
      "model_module_version": "1.5.0",
      "model_name": "SliderStyleModel",
      "state": {
       "description_width": ""
      }
     },
     "096ed840f9d4460e808dd13563f71baf": {
      "model_module": "@jupyter-widgets/base",
      "model_module_version": "1.2.0",
      "model_name": "LayoutModel",
      "state": {}
     },
     "096fa27b28704d6dbba2134a3be2d892": {
      "model_module": "@jupyter-widgets/controls",
      "model_module_version": "1.5.0",
      "model_name": "ButtonStyleModel",
      "state": {}
     },
     "09781da9a77d4a619bb91e186df8fb25": {
      "model_module": "jupyter-matplotlib",
      "model_module_version": "^0.7.2",
      "model_name": "MPLCanvasModel",
      "state": {
       "_figure_label": "Figure 10",
       "_height": 696,
       "_width": 1100,
       "header_visible": false,
       "layout": "IPY_MODEL_c191db0b44914d2b9c0fabd7b17774dc",
       "resizable": false,
       "toolbar": "IPY_MODEL_dfdb5d6fef4142d095f29b9a4808ae8c",
       "toolbar_position": "left",
       "toolbar_visible": false
      }
     },
     "09af9ac7bf80430093c0a8465e443a1f": {
      "model_module": "@jupyter-widgets/base",
      "model_module_version": "1.2.0",
      "model_name": "LayoutModel",
      "state": {}
     },
     "09fc16ddfc724d329bf99418cec3cf7a": {
      "model_module": "@jupyter-widgets/controls",
      "model_module_version": "1.5.0",
      "model_name": "VBoxModel",
      "state": {
       "children": [
        "IPY_MODEL_b8809478cfe94512864c64fd20989943",
        "IPY_MODEL_3cd7b6c71dae4e358ab46e3324bf996d",
        "IPY_MODEL_c7383ed0b46f4539a4cc8b78d61dbe1b"
       ],
       "layout": "IPY_MODEL_41a53c8843b3464cafbd72798c213c1b"
      }
     },
     "0a19fce0612d4071a87250fd3341d9a3": {
      "model_module": "jupyter-matplotlib",
      "model_module_version": "^0.7.2",
      "model_name": "MPLCanvasModel",
      "state": {
       "_figure_label": "Figure 20",
       "_height": 550,
       "_width": 1100,
       "header_visible": false,
       "layout": "IPY_MODEL_43aae2f23e6441098a4d71761c38e6ac",
       "resizable": false,
       "toolbar": "IPY_MODEL_847e541e5213488ea0410652d3cc8308",
       "toolbar_position": "left",
       "toolbar_visible": false
      }
     },
     "0a619a0009d3471d92363d64d1b3e7f5": {
      "model_module": "@jupyter-widgets/base",
      "model_module_version": "1.2.0",
      "model_name": "LayoutModel",
      "state": {}
     },
     "0a7bb06570934f4a827968fd92f04b96": {
      "model_module": "@jupyter-widgets/controls",
      "model_module_version": "1.5.0",
      "model_name": "VBoxModel",
      "state": {
       "children": [
        "IPY_MODEL_9b0af9cea3084bb38340a89022553b18",
        "IPY_MODEL_c36ede7d3dad44b9b4c4a9d46c563637",
        "IPY_MODEL_151c1113bfb946f099ecedb6b1d2fae2"
       ],
       "layout": "IPY_MODEL_5e6c00249bc34bf9bbc203b749cb093b"
      }
     },
     "0af61fd6d4884c32a1786562ac7618e0": {
      "model_module": "@jupyter-widgets/controls",
      "model_module_version": "1.5.0",
      "model_name": "DescriptionStyleModel",
      "state": {
       "description_width": ""
      }
     },
     "0b245290272342658b4e4c498a52b461": {
      "model_module": "@jupyter-widgets/controls",
      "model_module_version": "1.5.0",
      "model_name": "DescriptionStyleModel",
      "state": {
       "description_width": ""
      }
     },
     "0b24d6a59622474898189ce8c2ca9d35": {
      "model_module": "@jupyter-widgets/base",
      "model_module_version": "1.2.0",
      "model_name": "LayoutModel",
      "state": {}
     },
     "0ba2de8d03ea4920bc72001c72d475eb": {
      "model_module": "@jupyter-widgets/base",
      "model_module_version": "1.2.0",
      "model_name": "LayoutModel",
      "state": {}
     },
     "0babef674e72439bb2eb5d9eb830e6aa": {
      "model_module": "@jupyter-widgets/base",
      "model_module_version": "1.2.0",
      "model_name": "LayoutModel",
      "state": {}
     },
     "0bb3c30788174cdda02fa47c8154a0de": {
      "model_module": "@jupyter-widgets/controls",
      "model_module_version": "1.5.0",
      "model_name": "FloatSliderModel",
      "state": {
       "description": "225°",
       "layout": "IPY_MODEL_0ccdbcdbadae4b8f9e085988b42f55ee",
       "max": 1,
       "min": -1,
       "step": 0.01,
       "style": "IPY_MODEL_9783fb18831e491c861b1fe12ff1fc70"
      }
     },
     "0bbd4a5e4912452d9cefd7c3e51680e9": {
      "model_module": "@jupyter-widgets/controls",
      "model_module_version": "1.5.0",
      "model_name": "TabModel",
      "state": {
       "_titles": {
        "0": "Global Controls"
       },
       "children": [
        "IPY_MODEL_38178b95cfaf4977a56e8a1aa1d1856a"
       ],
       "layout": "IPY_MODEL_56672907532348fd9a770960e17f04c7"
      }
     },
     "0be289f9d5444943ad49918628726ac4": {
      "model_module": "@jupyter-widgets/controls",
      "model_module_version": "1.5.0",
      "model_name": "FloatSliderModel",
      "state": {
       "description": "0°",
       "layout": "IPY_MODEL_47e132b73319457d87b2997ff9167ee8",
       "max": 1,
       "min": -1,
       "step": 0.01,
       "style": "IPY_MODEL_76f6b0db5514459690a80c6ba899f2e4"
      }
     },
     "0bfabd9ff3dd49009a587ed1d66bfb02": {
      "model_module": "@jupyter-widgets/controls",
      "model_module_version": "1.5.0",
      "model_name": "FloatSliderModel",
      "state": {
       "description": "270°",
       "layout": "IPY_MODEL_c4849e335d6b492ead0f349e99f020d9",
       "max": 1,
       "min": -1,
       "step": 0.01,
       "style": "IPY_MODEL_3bbeac3e12f64a08b8bbb5be9174d5fa"
      }
     },
     "0c0ffbd746b14a59ba0c38cf29ec0ece": {
      "model_module": "@jupyter-widgets/controls",
      "model_module_version": "1.5.0",
      "model_name": "TabModel",
      "state": {
       "_titles": {
        "0": "Global Controls",
        "1": "Protected Area Controls",
        "2": "Saturation Controls",
        "3": "Hue Controls"
       },
       "children": [
        "IPY_MODEL_710bc997725e4fcf9eb8fbb59c03df48",
        "IPY_MODEL_a643f05ba6ca497c85c238317fa68bf0",
        "IPY_MODEL_17118240c39f4466b03828885fcf899d",
        "IPY_MODEL_10f893e3ac5243259bc9fee55ceca798"
       ],
       "layout": "IPY_MODEL_1842f1ccda024b7e8995331d83a0d460"
      }
     },
     "0c63797f387a436cb5ccbaab5ea3d54b": {
      "model_module": "@jupyter-widgets/controls",
      "model_module_version": "1.5.0",
      "model_name": "DescriptionStyleModel",
      "state": {
       "description_width": ""
      }
     },
     "0c8ad9c27ecd400186856e1af2566381": {
      "model_module": "@jupyter-widgets/controls",
      "model_module_version": "1.5.0",
      "model_name": "ButtonStyleModel",
      "state": {}
     },
     "0caf6bab31754f4c8b904b33844e520c": {
      "model_module": "@jupyter-widgets/controls",
      "model_module_version": "1.5.0",
      "model_name": "DescriptionStyleModel",
      "state": {
       "description_width": ""
      }
     },
     "0ccdbcdbadae4b8f9e085988b42f55ee": {
      "model_module": "@jupyter-widgets/base",
      "model_module_version": "1.2.0",
      "model_name": "LayoutModel",
      "state": {}
     },
     "0cf657c32f6f4a33bdf58972c47a1fdc": {
      "model_module": "@jupyter-widgets/base",
      "model_module_version": "1.2.0",
      "model_name": "LayoutModel",
      "state": {}
     },
     "0d1305ccf27e4106a9454b51c3b97d18": {
      "model_module": "@jupyter-widgets/controls",
      "model_module_version": "1.5.0",
      "model_name": "BoxModel",
      "state": {
       "children": [
        "IPY_MODEL_cb76ad6f24514859a1569e78f494b52f",
        "IPY_MODEL_298d293f682c45ee9e37dd15b682f9bb"
       ],
       "layout": "IPY_MODEL_0d83fd7fc6e246e0a6e55f6ee9569bce"
      }
     },
     "0d2470bd18354a83ad4e57822af702c7": {
      "model_module": "@jupyter-widgets/controls",
      "model_module_version": "1.5.0",
      "model_name": "ButtonStyleModel",
      "state": {}
     },
     "0d71ce25306c46f3978a93708c6bc1ca": {
      "model_module": "@jupyter-widgets/base",
      "model_module_version": "1.2.0",
      "model_name": "LayoutModel",
      "state": {}
     },
     "0d83fd7fc6e246e0a6e55f6ee9569bce": {
      "model_module": "@jupyter-widgets/base",
      "model_module_version": "1.2.0",
      "model_name": "LayoutModel",
      "state": {
       "align_items": "stretch",
       "display": "flex",
       "flex_flow": "column",
       "width": "1128px"
      }
     },
     "0d8b399d03054034befc7a3ab0f6ae49": {
      "model_module": "@jupyter-widgets/base",
      "model_module_version": "1.2.0",
      "model_name": "LayoutModel",
      "state": {}
     },
     "0dbe490dd688486698b6543e19e789f6": {
      "model_module": "@jupyter-widgets/base",
      "model_module_version": "1.2.0",
      "model_name": "LayoutModel",
      "state": {}
     },
     "0dc32ce2a0a54972a395fb398b6ecd4c": {
      "model_module": "jupyter-matplotlib",
      "model_module_version": "^0.7.2",
      "model_name": "ToolbarModel",
      "state": {
       "layout": "IPY_MODEL_f69ef39bf1684d7da608822e2bbe3663",
       "toolitems": [
        [
         "Home",
         "Reset original view",
         "home",
         "home"
        ],
        [
         "Back",
         "Back to previous view",
         "arrow-left",
         "back"
        ],
        [
         "Forward",
         "Forward to next view",
         "arrow-right",
         "forward"
        ],
        [
         "Pan",
         "Pan axes with left mouse, zoom with right",
         "arrows",
         "pan"
        ],
        [
         "Zoom",
         "Zoom to rectangle",
         "square-o",
         "zoom"
        ],
        [
         "Download",
         "Download plot",
         "floppy-o",
         "save_figure"
        ]
       ]
      }
     },
     "0e9acdcea96e4678a4721744c39e5a3b": {
      "model_module": "@jupyter-widgets/controls",
      "model_module_version": "1.5.0",
      "model_name": "FloatSliderModel",
      "state": {
       "description": "45°",
       "layout": "IPY_MODEL_89f5b0d2d2d84118805169e87ee8d2dd",
       "max": 1,
       "min": -1,
       "step": 0.01,
       "style": "IPY_MODEL_6f0e9c5eff054951ace585e679815686"
      }
     },
     "0ea04581a5e547fea914acb9a4bf377c": {
      "model_module": "@jupyter-widgets/base",
      "model_module_version": "1.2.0",
      "model_name": "LayoutModel",
      "state": {
       "border": "solid 4px #222",
       "margin": "4px",
       "padding": "0"
      }
     },
     "0ec9c3be18804802aedb108bef990213": {
      "model_module": "@jupyter-widgets/base",
      "model_module_version": "1.2.0",
      "model_name": "LayoutModel",
      "state": {}
     },
     "0edd49499a0b4af39f6dfa8dfb2dc227": {
      "model_module": "@jupyter-widgets/base",
      "model_module_version": "1.2.0",
      "model_name": "LayoutModel",
      "state": {}
     },
     "0f219d363bd14fa68a5fac4c68775be0": {
      "model_module": "@jupyter-widgets/base",
      "model_module_version": "1.2.0",
      "model_name": "LayoutModel",
      "state": {}
     },
     "0f3032b107054a939132272b17c5f083": {
      "model_module": "@jupyter-widgets/controls",
      "model_module_version": "1.5.0",
      "model_name": "SliderStyleModel",
      "state": {
       "description_width": ""
      }
     },
     "0f36b1a3bf5b4f1b91103eca9716a138": {
      "model_module": "@jupyter-widgets/controls",
      "model_module_version": "1.5.0",
      "model_name": "ButtonStyleModel",
      "state": {}
     },
     "0f3a8745c9f7464ca49d3ad31af30d92": {
      "model_module": "@jupyter-widgets/base",
      "model_module_version": "1.2.0",
      "model_name": "LayoutModel",
      "state": {}
     },
     "0f55c651d10b44bfa91ba15bde298e11": {
      "model_module": "@jupyter-widgets/base",
      "model_module_version": "1.2.0",
      "model_name": "LayoutModel",
      "state": {}
     },
     "0f5619d358ae4a6a8b2bfb4b24f49ecc": {
      "model_module": "@jupyter-widgets/controls",
      "model_module_version": "1.5.0",
      "model_name": "DescriptionStyleModel",
      "state": {
       "description_width": ""
      }
     },
     "0f68161ea04649ea875075db84c23304": {
      "model_module": "@jupyter-widgets/controls",
      "model_module_version": "1.5.0",
      "model_name": "CheckboxModel",
      "state": {
       "description": "Disable Medicina",
       "disabled": false,
       "layout": "IPY_MODEL_b245e07bcc2843cb801f5cca72e08d37",
       "style": "IPY_MODEL_e711a2735eb04288a9228636df65a172",
       "value": false
      }
     },
     "0f8b721f57914d9b897a5196524d70b6": {
      "model_module": "@jupyter-widgets/base",
      "model_module_version": "1.2.0",
      "model_name": "LayoutModel",
      "state": {}
     },
     "0fb99629e7864d6cafe127463fcdb742": {
      "model_module": "jupyter-matplotlib",
      "model_module_version": "^0.7.2",
      "model_name": "ToolbarModel",
      "state": {
       "layout": "IPY_MODEL_a842726c12294167943ee6b9103dc90a",
       "toolitems": [
        [
         "Home",
         "Reset original view",
         "home",
         "home"
        ],
        [
         "Back",
         "Back to previous view",
         "arrow-left",
         "back"
        ],
        [
         "Forward",
         "Forward to next view",
         "arrow-right",
         "forward"
        ],
        [
         "Pan",
         "Pan axes with left mouse, zoom with right",
         "arrows",
         "pan"
        ],
        [
         "Zoom",
         "Zoom to rectangle",
         "square-o",
         "zoom"
        ],
        [
         "Download",
         "Download plot",
         "floppy-o",
         "save_figure"
        ]
       ]
      }
     },
     "0ff9030a894f45eb827818737a6d5303": {
      "model_module": "@jupyter-widgets/output",
      "model_module_version": "1.0.0",
      "model_name": "OutputModel",
      "state": {
       "layout": "IPY_MODEL_3a347b01f52a469d9269185002be7f2a",
       "outputs": [
        {
         "data": {
          "application/vnd.jupyter.widget-view+json": {
           "model_id": "e532a26475744018a1ad27aef2a23fb2",
           "version_major": 2,
           "version_minor": 0
          },
          "text/plain": "Canvas(toolbar=Toolbar(toolitems=[('Home', 'Reset original view', 'home', 'home'), ('Back', 'Back to previous …"
         },
         "metadata": {},
         "output_type": "display_data"
        }
       ]
      }
     },
     "0ffbd21c85a14bd3adb6b681a09b19b4": {
      "model_module": "@jupyter-widgets/base",
      "model_module_version": "1.2.0",
      "model_name": "LayoutModel",
      "state": {}
     },
     "10159226d888481dbb809c1708469a01": {
      "model_module": "@jupyter-widgets/controls",
      "model_module_version": "1.5.0",
      "model_name": "TabModel",
      "state": {
       "_titles": {
        "0": "Global Controls",
        "1": "Protected Area Controls",
        "2": "Saturation Controls",
        "3": "Hue Controls"
       },
       "children": [
        "IPY_MODEL_39bb7e2a5f1a44bf9c7c317866e78e51",
        "IPY_MODEL_b66fb30312ca4d99a8d0ac4b845ce906",
        "IPY_MODEL_6c4968c658554208988a7b1b4a3a9859",
        "IPY_MODEL_afc20258ae61415c95c8b33cb0054de9"
       ],
       "layout": "IPY_MODEL_3b0a2bc8680c4bafb481ebae88abca47"
      }
     },
     "1019947196d74f27ba4777b039965272": {
      "model_module": "@jupyter-widgets/base",
      "model_module_version": "1.2.0",
      "model_name": "LayoutModel",
      "state": {}
     },
     "1072f0c48391413cac5f4179f3a077d8": {
      "model_module": "@jupyter-widgets/controls",
      "model_module_version": "1.5.0",
      "model_name": "VBoxModel",
      "state": {
       "children": [
        "IPY_MODEL_7cb932641e2a4cefa4a12240ab43e453",
        "IPY_MODEL_4d34899f22954c17874e7a7a45aec389"
       ],
       "layout": "IPY_MODEL_8e88175e542d451eb81e285e51f995e5"
      }
     },
     "107d5a2bc43746759092b63fc5c859c9": {
      "model_module": "@jupyter-widgets/controls",
      "model_module_version": "1.5.0",
      "model_name": "ButtonStyleModel",
      "state": {}
     },
     "10d7e6ebcf83471b8790b54cffd49b8a": {
      "model_module": "@jupyter-widgets/base",
      "model_module_version": "1.2.0",
      "model_name": "LayoutModel",
      "state": {}
     },
     "10eba386b02b4a229f2eff6b4918b9b0": {
      "model_module": "@jupyter-widgets/base",
      "model_module_version": "1.2.0",
      "model_name": "LayoutModel",
      "state": {}
     },
     "10f893e3ac5243259bc9fee55ceca798": {
      "model_module": "@jupyter-widgets/controls",
      "model_module_version": "1.5.0",
      "model_name": "HBoxModel",
      "state": {
       "children": [
        "IPY_MODEL_f282fc9b1846479fa4f0247feefa1443",
        "IPY_MODEL_ee4724460cad44559f22fa83e511d1a1",
        "IPY_MODEL_d052f802ca0d4afc8d75cf4f9f62e221",
        "IPY_MODEL_a1c2c85b692245ef9e56e57d03f2ecc5"
       ],
       "layout": "IPY_MODEL_d4bf137aab784388a70247c5f1cd0453"
      }
     },
     "11a874aba7d649388006d92e12eca958": {
      "model_module": "jupyter-matplotlib",
      "model_module_version": "^0.7.2",
      "model_name": "ToolbarModel",
      "state": {
       "layout": "IPY_MODEL_46166efc9eca4fd4b538d5a6ed95e829",
       "toolitems": [
        [
         "Home",
         "Reset original view",
         "home",
         "home"
        ],
        [
         "Back",
         "Back to previous view",
         "arrow-left",
         "back"
        ],
        [
         "Forward",
         "Forward to next view",
         "arrow-right",
         "forward"
        ],
        [
         "Pan",
         "Pan axes with left mouse, zoom with right",
         "arrows",
         "pan"
        ],
        [
         "Zoom",
         "Zoom to rectangle",
         "square-o",
         "zoom"
        ],
        [
         "Download",
         "Download plot",
         "floppy-o",
         "save_figure"
        ]
       ]
      }
     },
     "11e7f74764024b13930ae2cc513fb0bd": {
      "model_module": "@jupyter-widgets/base",
      "model_module_version": "1.2.0",
      "model_name": "LayoutModel",
      "state": {}
     },
     "11f6bc5d65d74296a76328eda7dea156": {
      "model_module": "@jupyter-widgets/base",
      "model_module_version": "1.2.0",
      "model_name": "LayoutModel",
      "state": {}
     },
     "1260ca62c2cc471da9204ccec2dd15a6": {
      "model_module": "@jupyter-widgets/base",
      "model_module_version": "1.2.0",
      "model_name": "LayoutModel",
      "state": {}
     },
     "1286fa0a3c92492e864e7a1433072d79": {
      "model_module": "@jupyter-widgets/base",
      "model_module_version": "1.2.0",
      "model_name": "LayoutModel",
      "state": {}
     },
     "12aa9b76c8654ada859f57ec995355ff": {
      "model_module": "@jupyter-widgets/controls",
      "model_module_version": "1.5.0",
      "model_name": "SliderStyleModel",
      "state": {
       "description_width": ""
      }
     },
     "12b8f5f34cea43269594006c48ed134d": {
      "model_module": "@jupyter-widgets/controls",
      "model_module_version": "1.5.0",
      "model_name": "FloatSliderModel",
      "state": {
       "description": "135°",
       "layout": "IPY_MODEL_33e37fed9a2f4c2ea39ad904c842f67d",
       "max": 1,
       "min": -1,
       "step": 0.01,
       "style": "IPY_MODEL_a2d89e4f101e4f118ddd82cc2db21b26"
      }
     },
     "13a14712056846138a3da9eff04af3ee": {
      "model_module": "@jupyter-widgets/base",
      "model_module_version": "1.2.0",
      "model_name": "LayoutModel",
      "state": {}
     },
     "13b1136caa6c4e07b3d70cc313e278d6": {
      "model_module": "@jupyter-widgets/base",
      "model_module_version": "1.2.0",
      "model_name": "LayoutModel",
      "state": {}
     },
     "13eb6a9a9d00477381236be457204088": {
      "model_module": "@jupyter-widgets/controls",
      "model_module_version": "1.5.0",
      "model_name": "SliderStyleModel",
      "state": {
       "description_width": ""
      }
     },
     "13f8011fc3854049bd884a5e17693633": {
      "model_module": "@jupyter-widgets/controls",
      "model_module_version": "1.5.0",
      "model_name": "ButtonModel",
      "state": {
       "description": "Export Image",
       "layout": "IPY_MODEL_9119029e25b64bb190000d9828a145c9",
       "style": "IPY_MODEL_5be08e91a1c54b40a46af0d23ead0726"
      }
     },
     "1431c92b842a496d888173996d3b0c84": {
      "model_module": "@jupyter-widgets/controls",
      "model_module_version": "1.5.0",
      "model_name": "ButtonStyleModel",
      "state": {}
     },
     "144d6a8d8c1a41a19d2bc4d2a26ca8ea": {
      "model_module": "@jupyter-widgets/controls",
      "model_module_version": "1.5.0",
      "model_name": "FloatSliderModel",
      "state": {
       "description": "315°",
       "layout": "IPY_MODEL_53f0744344aa45d7b73b525731366211",
       "max": 1,
       "min": -1,
       "step": 0.01,
       "style": "IPY_MODEL_66bae18d127145c8ab74e84b532e4efe"
      }
     },
     "145ddc9ca50242bdb26af5a5e853df4e": {
      "model_module": "@jupyter-widgets/controls",
      "model_module_version": "1.5.0",
      "model_name": "ButtonModel",
      "state": {
       "description": "Reset Hue Controls",
       "layout": "IPY_MODEL_1f4eea01f22d44f7aae0658e01c29215",
       "style": "IPY_MODEL_a4cd31c87349466bbb58b3f34743ec00"
      }
     },
     "1474caefa0c34184b9c979fdf000a663": {
      "model_module": "@jupyter-widgets/base",
      "model_module_version": "1.2.0",
      "model_name": "LayoutModel",
      "state": {}
     },
     "14813dd44d22423ab2c86072a4d16543": {
      "model_module": "@jupyter-widgets/controls",
      "model_module_version": "1.5.0",
      "model_name": "FloatSliderModel",
      "state": {
       "description": "270°",
       "layout": "IPY_MODEL_9dfbc5830f194d99bf2bc19fd32df64d",
       "max": 1,
       "min": -1,
       "step": 0.01,
       "style": "IPY_MODEL_7a4df141b0884fdbac34632246da825b"
      }
     },
     "14a20dbda7b747368b89ca7b8e904cf5": {
      "model_module": "@jupyter-widgets/base",
      "model_module_version": "1.2.0",
      "model_name": "LayoutModel",
      "state": {}
     },
     "14fc7567fa6842abb5ee6527b87b233f": {
      "model_module": "@jupyter-widgets/base",
      "model_module_version": "1.2.0",
      "model_name": "LayoutModel",
      "state": {}
     },
     "151675c8c6074e1aaaa62fe068fe12f4": {
      "model_module": "@jupyter-widgets/controls",
      "model_module_version": "1.5.0",
      "model_name": "HBoxModel",
      "state": {
       "children": [
        "IPY_MODEL_d82eabf1be334491b73b0aecab4cc627",
        "IPY_MODEL_7416936bd9df4ccf9be1793b741c1b48",
        "IPY_MODEL_c1c85493f1db472e935fed4a9d43a18f"
       ],
       "layout": "IPY_MODEL_92756e5deb3741bab3b847e7ff252b5e"
      }
     },
     "151c1113bfb946f099ecedb6b1d2fae2": {
      "model_module": "@jupyter-widgets/controls",
      "model_module_version": "1.5.0",
      "model_name": "FloatSliderModel",
      "state": {
       "description": "225°",
       "layout": "IPY_MODEL_4b4065ec1a9949ada6c7f5b233f7a53b",
       "max": 1,
       "min": -1,
       "step": 0.01,
       "style": "IPY_MODEL_09421f96879a45caa964a9c9c7101fac"
      }
     },
     "1541ec7272ae453eab5a7ce93aef4832": {
      "model_module": "@jupyter-widgets/controls",
      "model_module_version": "1.5.0",
      "model_name": "SliderStyleModel",
      "state": {
       "description_width": ""
      }
     },
     "155ae805219d4c31a7963f7ef821b031": {
      "model_module": "jupyter-matplotlib",
      "model_module_version": "^0.7.2",
      "model_name": "ToolbarModel",
      "state": {
       "layout": "IPY_MODEL_b1cd7cc8b3994a12956d56bc9bf277f0",
       "toolitems": [
        [
         "Home",
         "Reset original view",
         "home",
         "home"
        ],
        [
         "Back",
         "Back to previous view",
         "arrow-left",
         "back"
        ],
        [
         "Forward",
         "Forward to next view",
         "arrow-right",
         "forward"
        ],
        [
         "Pan",
         "Pan axes with left mouse, zoom with right",
         "arrows",
         "pan"
        ],
        [
         "Zoom",
         "Zoom to rectangle",
         "square-o",
         "zoom"
        ],
        [
         "Download",
         "Download plot",
         "floppy-o",
         "save_figure"
        ]
       ]
      }
     },
     "15765cb1ddb046a49ac25e3bdb739640": {
      "model_module": "@jupyter-widgets/controls",
      "model_module_version": "1.5.0",
      "model_name": "FloatSliderModel",
      "state": {
       "description": "0°",
       "layout": "IPY_MODEL_071d3029be7e49f199aee23adc160f18",
       "max": 1,
       "min": -1,
       "step": 0.01,
       "style": "IPY_MODEL_675547cfbcd643e481d2db1b603006db"
      }
     },
     "157a61fd5fc8460fb2b37cbdd08dfa49": {
      "model_module": "@jupyter-widgets/controls",
      "model_module_version": "1.5.0",
      "model_name": "FloatSliderModel",
      "state": {
       "description": "180°",
       "layout": "IPY_MODEL_8c1df57d244c4714aa71b3717b9253e6",
       "max": 1,
       "min": -1,
       "step": 0.01,
       "style": "IPY_MODEL_d0b1a61378614ac0818d320aa32d3837"
      }
     },
     "159b73322deb438b8c712d9eb02de4f8": {
      "model_module": "@jupyter-widgets/controls",
      "model_module_version": "1.5.0",
      "model_name": "ButtonStyleModel",
      "state": {}
     },
     "15a10c320bdc45b1bbee36c0bb12f2f7": {
      "model_module": "@jupyter-widgets/base",
      "model_module_version": "1.2.0",
      "model_name": "LayoutModel",
      "state": {}
     },
     "15f8f869e8b146bba965ff4a016b6fd2": {
      "model_module": "@jupyter-widgets/base",
      "model_module_version": "1.2.0",
      "model_name": "LayoutModel",
      "state": {
       "align_items": "stretch",
       "display": "flex",
       "flex_flow": "column",
       "width": "1128px"
      }
     },
     "1603c6bd7ecb4924bd96462b9125de2d": {
      "model_module": "@jupyter-widgets/base",
      "model_module_version": "1.2.0",
      "model_name": "LayoutModel",
      "state": {}
     },
     "161fa47cebee48818bfe2a693b8a25ae": {
      "model_module": "@jupyter-widgets/controls",
      "model_module_version": "1.5.0",
      "model_name": "DescriptionStyleModel",
      "state": {
       "description_width": ""
      }
     },
     "1626a2690ea4430590ddd9b2e8004576": {
      "model_module": "@jupyter-widgets/controls",
      "model_module_version": "1.5.0",
      "model_name": "SliderStyleModel",
      "state": {
       "description_width": ""
      }
     },
     "1660ebeee0bc4a4088fdee55aa1005a6": {
      "model_module": "@jupyter-widgets/controls",
      "model_module_version": "1.5.0",
      "model_name": "ButtonStyleModel",
      "state": {}
     },
     "17118240c39f4466b03828885fcf899d": {
      "model_module": "@jupyter-widgets/controls",
      "model_module_version": "1.5.0",
      "model_name": "HBoxModel",
      "state": {
       "children": [
        "IPY_MODEL_38dc7420b60d409abfe6d7bfd20b037e",
        "IPY_MODEL_81f31e85574e4341853e0b7d80ed59b5",
        "IPY_MODEL_244e1613cb994cf9beface697ace73fe"
       ],
       "layout": "IPY_MODEL_642e7844aba24ce3a6c2564e04d9402f"
      }
     },
     "1713033ac3f34c2297f476277c526dd4": {
      "model_module": "@jupyter-widgets/base",
      "model_module_version": "1.2.0",
      "model_name": "LayoutModel",
      "state": {}
     },
     "1777b413ab734387a35b4265169a82bc": {
      "model_module": "@jupyter-widgets/base",
      "model_module_version": "1.2.0",
      "model_name": "LayoutModel",
      "state": {}
     },
     "1799fc7cb2ca48348552d600e39d65c8": {
      "model_module": "@jupyter-widgets/base",
      "model_module_version": "1.2.0",
      "model_name": "LayoutModel",
      "state": {}
     },
     "17c55826838e4641889083d73db9954b": {
      "model_module": "@jupyter-widgets/base",
      "model_module_version": "1.2.0",
      "model_name": "LayoutModel",
      "state": {}
     },
     "17c6518a791c4b73a731d702eadabecc": {
      "model_module": "@jupyter-widgets/controls",
      "model_module_version": "1.5.0",
      "model_name": "SliderStyleModel",
      "state": {
       "description_width": ""
      }
     },
     "17e2baba3ea3489080459841e9f0c7cf": {
      "model_module": "@jupyter-widgets/base",
      "model_module_version": "1.2.0",
      "model_name": "LayoutModel",
      "state": {}
     },
     "181f743724fa4c24afc38835580fa97f": {
      "model_module": "@jupyter-widgets/controls",
      "model_module_version": "1.5.0",
      "model_name": "FloatSliderModel",
      "state": {
       "description": "270°",
       "layout": "IPY_MODEL_0431692e8f654823a571b1a92cf8bf47",
       "max": 1,
       "min": -1,
       "step": 0.01,
       "style": "IPY_MODEL_e012369b0f6642fd88fc7e1546b862b0"
      }
     },
     "1842f1ccda024b7e8995331d83a0d460": {
      "model_module": "@jupyter-widgets/base",
      "model_module_version": "1.2.0",
      "model_name": "LayoutModel",
      "state": {
       "border": "solid 4px #222",
       "margin": "4px",
       "padding": "0"
      }
     },
     "18b800dbf6bf496ba7b1647d580075e0": {
      "model_module": "@jupyter-widgets/controls",
      "model_module_version": "1.5.0",
      "model_name": "ButtonStyleModel",
      "state": {}
     },
     "18e818a23eca4626a9842035a03bceb8": {
      "model_module": "@jupyter-widgets/controls",
      "model_module_version": "1.5.0",
      "model_name": "SliderStyleModel",
      "state": {
       "description_width": ""
      }
     },
     "18e8f17f26b94e25bd3cd78fb8cbfb62": {
      "model_module": "@jupyter-widgets/controls",
      "model_module_version": "1.5.0",
      "model_name": "TabModel",
      "state": {
       "_titles": {
        "0": "Global Controls",
        "1": "Protected Area Controls",
        "2": "Saturation Controls",
        "3": "Hue Controls"
       },
       "children": [
        "IPY_MODEL_5bcca6a62f6e45e6878e5a838645524a",
        "IPY_MODEL_1d9624e1f5bc4553bb590aea63d2f9bd",
        "IPY_MODEL_69a3e77609874f8bb9507198c9261f74",
        "IPY_MODEL_63976865d41f4a9db9d3aa9cf6a7b20a"
       ],
       "layout": "IPY_MODEL_5064be3b8fe343aa9e2526db5cc14b11"
      }
     },
     "1922a820c77f47b8a3b83112992110e4": {
      "model_module": "@jupyter-widgets/controls",
      "model_module_version": "1.5.0",
      "model_name": "SliderStyleModel",
      "state": {
       "description_width": ""
      }
     },
     "193ff8c83c6546479b953455555726d9": {
      "model_module": "@jupyter-widgets/controls",
      "model_module_version": "1.5.0",
      "model_name": "DescriptionStyleModel",
      "state": {
       "description_width": ""
      }
     },
     "1957e121e33841d6ab7b96375ac963a7": {
      "model_module": "@jupyter-widgets/controls",
      "model_module_version": "1.5.0",
      "model_name": "ButtonStyleModel",
      "state": {}
     },
     "197c028fc4c84861800f1be938fbf57b": {
      "model_module": "@jupyter-widgets/base",
      "model_module_version": "1.2.0",
      "model_name": "LayoutModel",
      "state": {}
     },
     "197c7f33f83b435b99f08e69e164a24d": {
      "model_module": "jupyter-matplotlib",
      "model_module_version": "^0.7.2",
      "model_name": "MPLCanvasModel",
      "state": {
       "_figure_label": "Figure 6",
       "_height": 508,
       "_width": 1100,
       "header_visible": false,
       "layout": "IPY_MODEL_3987b153c5b04d8c950dd5a245488441",
       "resizable": false,
       "toolbar": "IPY_MODEL_40f0748b8f5943819418192733465c63",
       "toolbar_position": "left",
       "toolbar_visible": false
      }
     },
     "1aad28c263cf4e5a8fd94381c3c3db97": {
      "model_module": "@jupyter-widgets/base",
      "model_module_version": "1.2.0",
      "model_name": "LayoutModel",
      "state": {}
     },
     "1affb1af61b6469a959fc1e1b0a8d0b6": {
      "model_module": "@jupyter-widgets/base",
      "model_module_version": "1.2.0",
      "model_name": "LayoutModel",
      "state": {}
     },
     "1b3dae65dc0d4b779821579d9863d1b6": {
      "model_module": "@jupyter-widgets/base",
      "model_module_version": "1.2.0",
      "model_name": "LayoutModel",
      "state": {}
     },
     "1b4a6e8ea86043d393edf101b127da76": {
      "model_module": "@jupyter-widgets/controls",
      "model_module_version": "1.5.0",
      "model_name": "HBoxModel",
      "state": {
       "children": [
        "IPY_MODEL_99255300a6cc47da926a43cfbc04ce35",
        "IPY_MODEL_9bda94a97b4f49de8bf506a7263a64ca",
        "IPY_MODEL_0a7bb06570934f4a827968fd92f04b96",
        "IPY_MODEL_7f6eda1020934ccd8863d0ebb34ff22c"
       ],
       "layout": "IPY_MODEL_4cbcc5dea83946a68304e2ac2856c676"
      }
     },
     "1b5f9d35fa554c22bfc7c24d93d3848d": {
      "model_module": "@jupyter-widgets/base",
      "model_module_version": "1.2.0",
      "model_name": "LayoutModel",
      "state": {}
     },
     "1ba350584c994e42a3766553863909be": {
      "model_module": "@jupyter-widgets/controls",
      "model_module_version": "1.5.0",
      "model_name": "DropdownModel",
      "state": {
       "_options_labels": [
        "tanh",
        "simple"
       ],
       "description": "Compression Function:",
       "index": 0,
       "layout": "IPY_MODEL_197c028fc4c84861800f1be938fbf57b",
       "style": "IPY_MODEL_e370486a7a04452eb6d7424a1142989b"
      }
     },
     "1bd6ada67c154d0e92e6724e68bf853f": {
      "model_module": "@jupyter-widgets/controls",
      "model_module_version": "1.5.0",
      "model_name": "BoxModel",
      "state": {
       "children": [
        "IPY_MODEL_38f2efd94f584a2d8c636198efe12011",
        "IPY_MODEL_a16059e2d665497db79d1db4bc71f90f"
       ],
       "layout": "IPY_MODEL_f1a7b920eb4e44bd962cb2dac6ad0976"
      }
     },
     "1bfb93e478af433da966c97c0c6653a6": {
      "model_module": "@jupyter-widgets/base",
      "model_module_version": "1.2.0",
      "model_name": "LayoutModel",
      "state": {}
     },
     "1c643c12bd4e4d0f9de389fd73a1da9b": {
      "model_module": "@jupyter-widgets/base",
      "model_module_version": "1.2.0",
      "model_name": "LayoutModel",
      "state": {
       "align_items": "stretch",
       "display": "flex",
       "flex_flow": "column",
       "width": "1128px"
      }
     },
     "1cc23d9efbcd4fc5a2a86bd6979ca9a5": {
      "model_module": "@jupyter-widgets/base",
      "model_module_version": "1.2.0",
      "model_name": "LayoutModel",
      "state": {}
     },
     "1d218e637f484e4391b630c33ecdeacc": {
      "model_module": "@jupyter-widgets/base",
      "model_module_version": "1.2.0",
      "model_name": "LayoutModel",
      "state": {}
     },
     "1d2caa174ee241baa8a9c13973afdc00": {
      "model_module": "@jupyter-widgets/controls",
      "model_module_version": "1.5.0",
      "model_name": "ButtonStyleModel",
      "state": {}
     },
     "1d5b34f793a14395b78d98e5a440b8f8": {
      "model_module": "@jupyter-widgets/controls",
      "model_module_version": "1.5.0",
      "model_name": "ButtonModel",
      "state": {
       "description": "Export Image",
       "layout": "IPY_MODEL_a948395fff784d7a800d6e3d2621a031",
       "style": "IPY_MODEL_b60146bc72cd4983b28ec396408f8164"
      }
     },
     "1d63271e6b79402a854fa28b50eaa099": {
      "model_module": "@jupyter-widgets/base",
      "model_module_version": "1.2.0",
      "model_name": "LayoutModel",
      "state": {}
     },
     "1d6e007e492345cfa8aa60a1c37341e7": {
      "model_module": "@jupyter-widgets/output",
      "model_module_version": "1.0.0",
      "model_name": "OutputModel",
      "state": {
       "layout": "IPY_MODEL_2a9e4e276ac64221abbb1d784aa7412b",
       "outputs": [
        {
         "data": {
          "application/vnd.jupyter.widget-view+json": {
           "model_id": "48961c161182481890f34d12bd959ed6",
           "version_major": 2,
           "version_minor": 0
          },
          "text/plain": "Canvas(toolbar=Toolbar(toolitems=[('Home', 'Reset original view', 'home', 'home'), ('Back', 'Back to previous …"
         },
         "metadata": {},
         "output_type": "display_data"
        }
       ]
      }
     },
     "1d9624e1f5bc4553bb590aea63d2f9bd": {
      "model_module": "@jupyter-widgets/controls",
      "model_module_version": "1.5.0",
      "model_name": "HBoxModel",
      "state": {
       "children": [
        "IPY_MODEL_a7695f39d609424785cddbb57fcf61bd",
        "IPY_MODEL_890cc7db8c19418786f622276fb50913"
       ],
       "layout": "IPY_MODEL_0a619a0009d3471d92363d64d1b3e7f5"
      }
     },
     "1ddeae9685684c809f203733d10b6550": {
      "model_module": "@jupyter-widgets/base",
      "model_module_version": "1.2.0",
      "model_name": "LayoutModel",
      "state": {}
     },
     "1e42dfe3d88d41d9b75ff41de6932fec": {
      "model_module": "@jupyter-widgets/controls",
      "model_module_version": "1.5.0",
      "model_name": "ButtonStyleModel",
      "state": {}
     },
     "1e554ffe2a3d43b38d3ce91aacd0518c": {
      "model_module": "@jupyter-widgets/output",
      "model_module_version": "1.0.0",
      "model_name": "OutputModel",
      "state": {
       "layout": "IPY_MODEL_614a51e79b954882a431c04e5a3c8251",
       "outputs": [
        {
         "data": {
          "application/vnd.jupyter.widget-view+json": {
           "model_id": "197c7f33f83b435b99f08e69e164a24d",
           "version_major": 2,
           "version_minor": 0
          },
          "text/plain": "Canvas(toolbar=Toolbar(toolitems=[('Home', 'Reset original view', 'home', 'home'), ('Back', 'Back to previous …"
         },
         "metadata": {},
         "output_type": "display_data"
        }
       ]
      }
     },
     "1e82ddec41044897b3bfe87705265c63": {
      "model_module": "@jupyter-widgets/controls",
      "model_module_version": "1.5.0",
      "model_name": "SliderStyleModel",
      "state": {
       "description_width": ""
      }
     },
     "1f34ec71eed4495e8a4f16cf09b46712": {
      "model_module": "@jupyter-widgets/controls",
      "model_module_version": "1.5.0",
      "model_name": "SliderStyleModel",
      "state": {
       "description_width": ""
      }
     },
     "1f4eea01f22d44f7aae0658e01c29215": {
      "model_module": "@jupyter-widgets/base",
      "model_module_version": "1.2.0",
      "model_name": "LayoutModel",
      "state": {}
     },
     "1f7b8546f8fe474eb3f4fb4c05ebcdd1": {
      "model_module": "@jupyter-widgets/base",
      "model_module_version": "1.2.0",
      "model_name": "LayoutModel",
      "state": {}
     },
     "1fb89746da5a44148e68076b4c7c7904": {
      "model_module": "@jupyter-widgets/controls",
      "model_module_version": "1.5.0",
      "model_name": "SliderStyleModel",
      "state": {
       "description_width": ""
      }
     },
     "2010db6d13914b02811bcf89f8ed1daa": {
      "model_module": "@jupyter-widgets/base",
      "model_module_version": "1.2.0",
      "model_name": "LayoutModel",
      "state": {}
     },
     "204f92655e9f41309e4aabdadfcf9d67": {
      "model_module": "@jupyter-widgets/controls",
      "model_module_version": "1.5.0",
      "model_name": "DropdownModel",
      "state": {
       "_options_labels": [
        "tanh",
        "simple"
       ],
       "description": "Compression Function:",
       "index": 0,
       "layout": "IPY_MODEL_cf8d46363a8448dc8a27a9ffab5ed82c",
       "style": "IPY_MODEL_ece2957494f141e6b396a4b35c21464f"
      }
     },
     "2089f3e4317d47ed91435d7e78ff8082": {
      "model_module": "@jupyter-widgets/controls",
      "model_module_version": "1.5.0",
      "model_name": "ButtonModel",
      "state": {
       "description": "Reset Saturation Controls",
       "layout": "IPY_MODEL_51685e9e371346718aae2b8a373c4a5a",
       "style": "IPY_MODEL_37070d8bf2354aaca105672ddf12d040"
      }
     },
     "209bafca58d843fa9000f6f36c4470a9": {
      "model_module": "@jupyter-widgets/base",
      "model_module_version": "1.2.0",
      "model_name": "LayoutModel",
      "state": {}
     },
     "20a8d22f68504294b9114202ee2107d2": {
      "model_module": "@jupyter-widgets/controls",
      "model_module_version": "1.5.0",
      "model_name": "ButtonModel",
      "state": {
       "description": "Reset Protected Area",
       "layout": "IPY_MODEL_9df063070dd74c2fa31319ee745533df",
       "style": "IPY_MODEL_4e39b7f2370740869f68c8097cfa3ffc"
      }
     },
     "20cac78412b64c30b09d2a4372109390": {
      "model_module": "@jupyter-widgets/controls",
      "model_module_version": "1.5.0",
      "model_name": "HBoxModel",
      "state": {
       "children": [
        "IPY_MODEL_8631332b59f94a8da21547d54e27cd7f",
        "IPY_MODEL_5538595ee1684ecfab8e688be9998a18",
        "IPY_MODEL_64022e210f444f36aa60a4b23d64db1c",
        "IPY_MODEL_a58e4c74edc4458dba44cece5a3ffc26"
       ],
       "layout": "IPY_MODEL_0babef674e72439bb2eb5d9eb830e6aa"
      }
     },
     "20dd919f56334470b9b331ce9f035f54": {
      "model_module": "@jupyter-widgets/base",
      "model_module_version": "1.2.0",
      "model_name": "LayoutModel",
      "state": {}
     },
     "21199e1c10d2490ca8b6d838154e08eb": {
      "model_module": "@jupyter-widgets/controls",
      "model_module_version": "1.5.0",
      "model_name": "ButtonStyleModel",
      "state": {}
     },
     "2159809a7573415d8d4bd7293d56d629": {
      "model_module": "@jupyter-widgets/controls",
      "model_module_version": "1.5.0",
      "model_name": "FloatSliderModel",
      "state": {
       "description": "135°",
       "layout": "IPY_MODEL_13b1136caa6c4e07b3d70cc313e278d6",
       "max": 1,
       "min": -1,
       "step": 0.01,
       "style": "IPY_MODEL_b6f20ba0d3d547de983e6b8de2121eae"
      }
     },
     "216f05b0273640bb8d028ec90665aa81": {
      "model_module": "@jupyter-widgets/base",
      "model_module_version": "1.2.0",
      "model_name": "LayoutModel",
      "state": {}
     },
     "21c896a648104f9d981b5aac8d3cc9e0": {
      "model_module": "@jupyter-widgets/base",
      "model_module_version": "1.2.0",
      "model_name": "LayoutModel",
      "state": {}
     },
     "21f51ffa5b8d47a18326aaa8c67b721a": {
      "model_module": "jupyter-matplotlib",
      "model_module_version": "^0.7.2",
      "model_name": "ToolbarModel",
      "state": {
       "layout": "IPY_MODEL_c521c9cc02c944748cc25140bfc810f3",
       "toolitems": [
        [
         "Home",
         "Reset original view",
         "home",
         "home"
        ],
        [
         "Back",
         "Back to previous view",
         "arrow-left",
         "back"
        ],
        [
         "Forward",
         "Forward to next view",
         "arrow-right",
         "forward"
        ],
        [
         "Pan",
         "Pan axes with left mouse, zoom with right",
         "arrows",
         "pan"
        ],
        [
         "Zoom",
         "Zoom to rectangle",
         "square-o",
         "zoom"
        ],
        [
         "Download",
         "Download plot",
         "floppy-o",
         "save_figure"
        ]
       ]
      }
     },
     "2256cb0e1d324f17b0bba66042b103a6": {
      "model_module": "@jupyter-widgets/base",
      "model_module_version": "1.2.0",
      "model_name": "LayoutModel",
      "state": {}
     },
     "22616e77beec41889f2a4f405fee1b4e": {
      "model_module": "@jupyter-widgets/base",
      "model_module_version": "1.2.0",
      "model_name": "LayoutModel",
      "state": {}
     },
     "229560a2298a4d78b1bf68aba6905d3c": {
      "model_module": "@jupyter-widgets/controls",
      "model_module_version": "1.5.0",
      "model_name": "SliderStyleModel",
      "state": {
       "description_width": ""
      }
     },
     "229fe5dc94f44aadb4fbae3448749d56": {
      "model_module": "@jupyter-widgets/base",
      "model_module_version": "1.2.0",
      "model_name": "LayoutModel",
      "state": {}
     },
     "22a4564b43884c2ebd219877547aee4b": {
      "model_module": "@jupyter-widgets/base",
      "model_module_version": "1.2.0",
      "model_name": "LayoutModel",
      "state": {}
     },
     "23357d1972f748219d7786580ece9320": {
      "model_module": "@jupyter-widgets/controls",
      "model_module_version": "1.5.0",
      "model_name": "ButtonModel",
      "state": {
       "description": "Save Figure",
       "layout": "IPY_MODEL_d38b1d9b7b4e4d359e978352fb8ebfc4",
       "style": "IPY_MODEL_8abdd066543c4584b5bbcc6407d1ac3a"
      }
     },
     "2373e30abb0f4e61819073a3bbde08b8": {
      "model_module": "@jupyter-widgets/base",
      "model_module_version": "1.2.0",
      "model_name": "LayoutModel",
      "state": {}
     },
     "240233e96be44d8db3f6bbfe1afa6be4": {
      "model_module": "@jupyter-widgets/controls",
      "model_module_version": "1.5.0",
      "model_name": "FloatSliderModel",
      "state": {
       "description": "0°",
       "layout": "IPY_MODEL_6e883ca1da4540b8aea144a0b6b5196e",
       "max": 1,
       "min": -1,
       "step": 0.01,
       "style": "IPY_MODEL_e1100bb790354549a39e293868b35067"
      }
     },
     "24152cce80924342aa2f6f2c5f1b1198": {
      "model_module": "@jupyter-widgets/base",
      "model_module_version": "1.2.0",
      "model_name": "LayoutModel",
      "state": {
       "border": "solid 4px #222",
       "margin": "4px",
       "padding": "0"
      }
     },
     "2421222ee67743ff87f83fc941ce54a1": {
      "model_module": "@jupyter-widgets/base",
      "model_module_version": "1.2.0",
      "model_name": "LayoutModel",
      "state": {}
     },
     "244e1613cb994cf9beface697ace73fe": {
      "model_module": "@jupyter-widgets/controls",
      "model_module_version": "1.5.0",
      "model_name": "FloatSliderModel",
      "state": {
       "description": "Compression Threshold",
       "layout": "IPY_MODEL_1260ca62c2cc471da9204ccec2dd15a6",
       "max": 1,
       "step": 0.01,
       "style": "IPY_MODEL_985edd9eb78741d3841a77673957a8e9",
       "value": 0.8
      }
     },
     "245c2ea1a41c42898f63e131ef3b2aea": {
      "model_module": "@jupyter-widgets/base",
      "model_module_version": "1.2.0",
      "model_name": "LayoutModel",
      "state": {}
     },
     "2473b165e7d94c23b43c2362cf9da92d": {
      "model_module": "@jupyter-widgets/base",
      "model_module_version": "1.2.0",
      "model_name": "LayoutModel",
      "state": {}
     },
     "249d21e55f744af8845fa8d9354f593c": {
      "model_module": "jupyter-matplotlib",
      "model_module_version": "^0.7.2",
      "model_name": "MPLCanvasModel",
      "state": {
       "_figure_label": "Figure 1",
       "_height": 458,
       "_width": 1100,
       "header_visible": false,
       "layout": "IPY_MODEL_a814a755484a43e986c60f9b57b81adc",
       "resizable": false,
       "toolbar": "IPY_MODEL_331351465f2b4a1db2d3821f6485f2ba",
       "toolbar_position": "left",
       "toolbar_visible": false
      }
     },
     "24b0535265da4548b4f42b1d7bc06f59": {
      "model_module": "@jupyter-widgets/controls",
      "model_module_version": "1.5.0",
      "model_name": "BoxModel",
      "state": {
       "children": [
        "IPY_MODEL_91c756416a644d6797cc839dbf7ccced",
        "IPY_MODEL_4b093bb8f9fe4a5fb3ec98379835a05e"
       ],
       "layout": "IPY_MODEL_600d74b278c5411fb7564f6994c353f1"
      }
     },
     "24b1c71b0166441185d2c2e00908fe3e": {
      "model_module": "@jupyter-widgets/controls",
      "model_module_version": "1.5.0",
      "model_name": "FloatSliderModel",
      "state": {
       "description": "0°",
       "layout": "IPY_MODEL_bb33df6b88f54410896486ce68ac3fdb",
       "max": 1,
       "min": -1,
       "step": 0.01,
       "style": "IPY_MODEL_5d5b7c27f16440eca657bfa9f7c7f879"
      }
     },
     "24deef5f827744f38d001ec38c554364": {
      "model_module": "@jupyter-widgets/base",
      "model_module_version": "1.2.0",
      "model_name": "LayoutModel",
      "state": {}
     },
     "25eac3fbfc9941c88b33c80ed1bff9d6": {
      "model_module": "@jupyter-widgets/base",
      "model_module_version": "1.2.0",
      "model_name": "LayoutModel",
      "state": {
       "border": "solid 4px #222",
       "margin": "4px",
       "padding": "0"
      }
     },
     "266b7e11c6e143d884a4c4f4057da5ba": {
      "model_module": "@jupyter-widgets/controls",
      "model_module_version": "1.5.0",
      "model_name": "ButtonStyleModel",
      "state": {}
     },
     "26f6d389b359455099c4ba055f572603": {
      "model_module": "@jupyter-widgets/base",
      "model_module_version": "1.2.0",
      "model_name": "LayoutModel",
      "state": {}
     },
     "27040dbc917a4932b11f5e7df0737a13": {
      "model_module": "@jupyter-widgets/controls",
      "model_module_version": "1.5.0",
      "model_name": "ButtonModel",
      "state": {
       "description": "Save Figure",
       "layout": "IPY_MODEL_f5600b5b1aab4c9e88b69fe060f711bd",
       "style": "IPY_MODEL_069e46707e504beaa46a860b975d14e5"
      }
     },
     "275ffd7ff7854b479b01d5875b958a3e": {
      "model_module": "@jupyter-widgets/controls",
      "model_module_version": "1.5.0",
      "model_name": "ButtonStyleModel",
      "state": {}
     },
     "277c0e9bd7264e45a97bbd4ffa433a2b": {
      "model_module": "@jupyter-widgets/controls",
      "model_module_version": "1.5.0",
      "model_name": "ButtonStyleModel",
      "state": {}
     },
     "277cf70324b44d1190946d31a6eccfb1": {
      "model_module": "jupyter-matplotlib",
      "model_module_version": "^0.7.2",
      "model_name": "MPLCanvasModel",
      "state": {
       "_figure_label": "Figure 13",
       "_height": 550,
       "_image_mode": "diff",
       "_width": 1100,
       "header_visible": false,
       "layout": "IPY_MODEL_3d3a6cccb6844c5ab63a674d9e60bb3a",
       "resizable": false,
       "toolbar": "IPY_MODEL_a6a99f993fdf483cad7cc296d2d75064",
       "toolbar_position": "left",
       "toolbar_visible": false
      }
     },
     "27b621630efb427b855b8cca7e2805c9": {
      "model_module": "@jupyter-widgets/base",
      "model_module_version": "1.2.0",
      "model_name": "LayoutModel",
      "state": {}
     },
     "27c0b99578ac4f6cad520b04f5188052": {
      "model_module": "@jupyter-widgets/base",
      "model_module_version": "1.2.0",
      "model_name": "LayoutModel",
      "state": {}
     },
     "280af0f93759416c95324de894ac04ca": {
      "model_module": "@jupyter-widgets/controls",
      "model_module_version": "1.5.0",
      "model_name": "BoxModel",
      "state": {
       "children": [
        "IPY_MODEL_df05946f6f904070bdd9e6b97cfec66e",
        "IPY_MODEL_18e8f17f26b94e25bd3cd78fb8cbfb62"
       ],
       "layout": "IPY_MODEL_8cce9f51a03140d2ac82605a768e36bd"
      }
     },
     "284eab4fd91f44b391d6939cf796de9a": {
      "model_module": "@jupyter-widgets/controls",
      "model_module_version": "1.5.0",
      "model_name": "SliderStyleModel",
      "state": {
       "description_width": ""
      }
     },
     "295f03b946874111978bbe8d1137dc62": {
      "model_module": "@jupyter-widgets/controls",
      "model_module_version": "1.5.0",
      "model_name": "SliderStyleModel",
      "state": {
       "description_width": ""
      }
     },
     "29671f4392bd4eda95bfedcc984f1453": {
      "model_module": "@jupyter-widgets/base",
      "model_module_version": "1.2.0",
      "model_name": "LayoutModel",
      "state": {}
     },
     "296b80b8381d41b8a81c922f365d34e9": {
      "model_module": "@jupyter-widgets/controls",
      "model_module_version": "1.5.0",
      "model_name": "SliderStyleModel",
      "state": {
       "description_width": ""
      }
     },
     "298d293f682c45ee9e37dd15b682f9bb": {
      "model_module": "@jupyter-widgets/controls",
      "model_module_version": "1.5.0",
      "model_name": "TabModel",
      "state": {
       "_titles": {
        "0": "Global Controls",
        "1": "Compression Controls"
       },
       "children": [
        "IPY_MODEL_3f8771d23e594bf5ada463c89263001c",
        "IPY_MODEL_b79cfab5a9d846cdb89692ac9c45a90b"
       ],
       "layout": "IPY_MODEL_a9c1240f5d854d1ab3622bf6ea4cbc35"
      }
     },
     "29abf01d86ef4b22be9c3fd30426d8b9": {
      "model_module": "@jupyter-widgets/controls",
      "model_module_version": "1.5.0",
      "model_name": "ButtonModel",
      "state": {
       "description": "Save Figure",
       "layout": "IPY_MODEL_7a377064e7834fe2aa227da9122c7cdb",
       "style": "IPY_MODEL_03d388475db640d28e335eaff6e07960"
      }
     },
     "2a9e4e276ac64221abbb1d784aa7412b": {
      "model_module": "@jupyter-widgets/base",
      "model_module_version": "1.2.0",
      "model_name": "LayoutModel",
      "state": {
       "border": "solid 4px #222",
       "margin": "4px",
       "padding": "0"
      }
     },
     "2ab06d00086e4dfeb9deb033c5c034be": {
      "model_module": "@jupyter-widgets/controls",
      "model_module_version": "1.5.0",
      "model_name": "DescriptionStyleModel",
      "state": {
       "description_width": ""
      }
     },
     "2b252fff09fb468a833b1a5ea651b0ae": {
      "model_module": "@jupyter-widgets/controls",
      "model_module_version": "1.5.0",
      "model_name": "ButtonStyleModel",
      "state": {}
     },
     "2b2d964b5a2b41de91869a3608df1c16": {
      "model_module": "@jupyter-widgets/controls",
      "model_module_version": "1.5.0",
      "model_name": "FloatSliderModel",
      "state": {
       "description": "315°",
       "layout": "IPY_MODEL_7502e63f2fad48e8b553d1e1fc23dfa5",
       "max": 1,
       "min": -1,
       "step": 0.01,
       "style": "IPY_MODEL_361f33ce52304cd4b9cc6a54aca496cd"
      }
     },
     "2b30220316424e7e89d07341add5236a": {
      "model_module": "@jupyter-widgets/base",
      "model_module_version": "1.2.0",
      "model_name": "LayoutModel",
      "state": {}
     },
     "2b517a7d0f7648ebaee7e1766ad6783d": {
      "model_module": "@jupyter-widgets/base",
      "model_module_version": "1.2.0",
      "model_name": "LayoutModel",
      "state": {}
     },
     "2b644ca4cd75420983d3fbaab6e34b86": {
      "model_module": "@jupyter-widgets/base",
      "model_module_version": "1.2.0",
      "model_name": "LayoutModel",
      "state": {}
     },
     "2b6afa8ee04b4194aaf048fa995dd6b9": {
      "model_module": "@jupyter-widgets/controls",
      "model_module_version": "1.5.0",
      "model_name": "ButtonModel",
      "state": {
       "description": "Export Image",
       "layout": "IPY_MODEL_3cc154392769428eb13ea835560971f6",
       "style": "IPY_MODEL_1431c92b842a496d888173996d3b0c84"
      }
     },
     "2baec89683f54f1fa7114c4b33e16bb3": {
      "model_module": "@jupyter-widgets/controls",
      "model_module_version": "1.5.0",
      "model_name": "CheckboxModel",
      "state": {
       "description": "Disable Medicina",
       "disabled": false,
       "layout": "IPY_MODEL_3c1ab37696ae42d1acd33ae8604cfc3e",
       "style": "IPY_MODEL_0b245290272342658b4e4c498a52b461",
       "value": false
      }
     },
     "2c4692c9f6ff4bc09a823c89610cd9f2": {
      "model_module": "@jupyter-widgets/base",
      "model_module_version": "1.2.0",
      "model_name": "LayoutModel",
      "state": {}
     },
     "2c6cbeb31d9145f8b0e9541f565e6c3b": {
      "model_module": "@jupyter-widgets/base",
      "model_module_version": "1.2.0",
      "model_name": "LayoutModel",
      "state": {}
     },
     "2cabfe5a3cb9476597c7e91e6883e7f6": {
      "model_module": "@jupyter-widgets/controls",
      "model_module_version": "1.5.0",
      "model_name": "ButtonStyleModel",
      "state": {}
     },
     "2cebcb21d1e34674aa00d2c4b24fbd03": {
      "model_module": "@jupyter-widgets/base",
      "model_module_version": "1.2.0",
      "model_name": "LayoutModel",
      "state": {
       "border": "solid 4px #222",
       "margin": "4px",
       "padding": "0"
      }
     },
     "2d1a0a406c9a480c9d1372bd2594c118": {
      "model_module": "@jupyter-widgets/base",
      "model_module_version": "1.2.0",
      "model_name": "LayoutModel",
      "state": {}
     },
     "2d24096a28da4666a81a403e8ca58848": {
      "model_module": "@jupyter-widgets/base",
      "model_module_version": "1.2.0",
      "model_name": "LayoutModel",
      "state": {}
     },
     "2e5658e5026348f5a53bc884cb7f9e7b": {
      "model_module": "@jupyter-widgets/controls",
      "model_module_version": "1.5.0",
      "model_name": "FloatSliderModel",
      "state": {
       "description": "135°",
       "layout": "IPY_MODEL_801b7971c971437c8d79ae100ee22e3f",
       "max": 1,
       "min": -1,
       "step": 0.01,
       "style": "IPY_MODEL_8926962a72604690958356415b63989f"
      }
     },
     "2f0c4c315ba749838aafefbc4f35368e": {
      "model_module": "@jupyter-widgets/base",
      "model_module_version": "1.2.0",
      "model_name": "LayoutModel",
      "state": {}
     },
     "2f1be6225bfa4e939b22bfd5a3b1572e": {
      "model_module": "@jupyter-widgets/base",
      "model_module_version": "1.2.0",
      "model_name": "LayoutModel",
      "state": {}
     },
     "2f2617a7f9574be19b738c8ae3b24755": {
      "model_module": "@jupyter-widgets/controls",
      "model_module_version": "1.5.0",
      "model_name": "TabModel",
      "state": {
       "_titles": {
        "0": "Global Controls",
        "1": "Compression Controls"
       },
       "children": [
        "IPY_MODEL_bebec2b47d9d4210baf5a944f4018f0f",
        "IPY_MODEL_3c9c0f1910aa4672beb046bf645d8748"
       ],
       "layout": "IPY_MODEL_e4354abad26740be8f464da29eb6f3a2"
      }
     },
     "2f7ca976b7b54777b9798e84ed03a413": {
      "model_module": "@jupyter-widgets/base",
      "model_module_version": "1.2.0",
      "model_name": "LayoutModel",
      "state": {}
     },
     "2fa4a92bf53147ee841b23e7640cbe4d": {
      "model_module": "@jupyter-widgets/controls",
      "model_module_version": "1.5.0",
      "model_name": "FloatSliderModel",
      "state": {
       "description": "Compression Threshold",
       "layout": "IPY_MODEL_64f13b23f7ad4c09bd9a4df5933e2858",
       "max": 1,
       "step": 0.01,
       "style": "IPY_MODEL_a804f1b6f77d4faeb4fa4fc8dbbfa0f6",
       "value": 0.8
      }
     },
     "2fb87179b9f54c13b3e93d2ea7f0992d": {
      "model_module": "@jupyter-widgets/base",
      "model_module_version": "1.2.0",
      "model_name": "LayoutModel",
      "state": {}
     },
     "2ff2c72b09584ab3a74c866b55927c96": {
      "model_module": "@jupyter-widgets/base",
      "model_module_version": "1.2.0",
      "model_name": "LayoutModel",
      "state": {}
     },
     "3025fcd1d412477195a36013edad6553": {
      "model_module": "@jupyter-widgets/controls",
      "model_module_version": "1.5.0",
      "model_name": "CheckboxModel",
      "state": {
       "description": "Disable Medicina",
       "disabled": false,
       "layout": "IPY_MODEL_8105bb6302ca40ba9dee937804f88129",
       "style": "IPY_MODEL_acba8d68b6744e32921d32ef980c0deb",
       "value": false
      }
     },
     "303f2a025c3745858cef442d5cf6ba5a": {
      "model_module": "@jupyter-widgets/controls",
      "model_module_version": "1.5.0",
      "model_name": "TabModel",
      "state": {
       "_titles": {
        "0": "Global Controls",
        "1": "Protected Area Controls",
        "2": "Saturation Controls",
        "3": "Hue Controls"
       },
       "children": [
        "IPY_MODEL_eeaed8d9d0cb493284d082b503924fa6",
        "IPY_MODEL_f390d9f564fa4b359fdc3173f408bcad",
        "IPY_MODEL_dce3d42440f64ee4989d0dfe80da1280",
        "IPY_MODEL_9888c4e060ca4de2821e8e62c8499e87"
       ],
       "layout": "IPY_MODEL_7a37eb0dc5394e248256310999d4507a"
      }
     },
     "3067f2f5bcad404e9fd15c0345d97d8f": {
      "model_module": "@jupyter-widgets/base",
      "model_module_version": "1.2.0",
      "model_name": "LayoutModel",
      "state": {}
     },
     "30a1589be08340dfae05d17ab1d2bb83": {
      "model_module": "@jupyter-widgets/controls",
      "model_module_version": "1.5.0",
      "model_name": "CheckboxModel",
      "state": {
       "description": "Disable Medicina",
       "disabled": false,
       "layout": "IPY_MODEL_a26dd8a65902472ea3a8de3f776594f2",
       "style": "IPY_MODEL_922b464b48cc483f9219aeb99f804943",
       "value": false
      }
     },
     "30f073dfb6494a069ff2a2e8f0351e6a": {
      "model_module": "@jupyter-widgets/controls",
      "model_module_version": "1.5.0",
      "model_name": "VBoxModel",
      "state": {
       "children": [
        "IPY_MODEL_81996d35b81346bfac486531268fac8e",
        "IPY_MODEL_7369c78934c84100aa965bb66967668d",
        "IPY_MODEL_ff9f4e80ca30490e8a9555b3fda68c04"
       ],
       "layout": "IPY_MODEL_2473b165e7d94c23b43c2362cf9da92d"
      }
     },
     "30ffb0c60d4f47b69977606817d819b0": {
      "model_module": "@jupyter-widgets/output",
      "model_module_version": "1.0.0",
      "model_name": "OutputModel",
      "state": {
       "layout": "IPY_MODEL_5cac01c1dda94ef1a1f22c0f5bac7c57",
       "outputs": [
        {
         "data": {
          "application/vnd.jupyter.widget-view+json": {
           "model_id": "09781da9a77d4a619bb91e186df8fb25",
           "version_major": 2,
           "version_minor": 0
          },
          "text/plain": "Canvas(toolbar=Toolbar(toolitems=[('Home', 'Reset original view', 'home', 'home'), ('Back', 'Back to previous …"
         },
         "metadata": {},
         "output_type": "display_data"
        }
       ]
      }
     },
     "311805350a464644ba6a72d387d53b70": {
      "model_module": "@jupyter-widgets/base",
      "model_module_version": "1.2.0",
      "model_name": "LayoutModel",
      "state": {}
     },
     "3196443142104e57b11919e8df9e3f2c": {
      "model_module": "@jupyter-widgets/controls",
      "model_module_version": "1.5.0",
      "model_name": "ButtonStyleModel",
      "state": {}
     },
     "31ad3250113d4a578595a9a6b0d51542": {
      "model_module": "@jupyter-widgets/base",
      "model_module_version": "1.2.0",
      "model_name": "LayoutModel",
      "state": {}
     },
     "323ddf9350d64801ae274fcd3f9d06f9": {
      "model_module": "@jupyter-widgets/controls",
      "model_module_version": "1.5.0",
      "model_name": "FloatSliderModel",
      "state": {
       "description": "135°",
       "layout": "IPY_MODEL_71e4153688ab4ca49c16b39f30763d16",
       "max": 1,
       "min": -1,
       "step": 0.01,
       "style": "IPY_MODEL_0013cc7ada234371a3806da8c3fa02ee"
      }
     },
     "32614fa0ea1d4372b8dcb1fb216e7f6f": {
      "model_module": "@jupyter-widgets/controls",
      "model_module_version": "1.5.0",
      "model_name": "HBoxModel",
      "state": {
       "children": [
        "IPY_MODEL_a4209047dd0f4a5a84abf224424302ae",
        "IPY_MODEL_6aa766aaa1154c5fa085761650052ee7",
        "IPY_MODEL_36f401b534ee40b28170f4f2966816f1"
       ],
       "layout": "IPY_MODEL_59e74b9555324b5281838a8252c30589"
      }
     },
     "327a62305ca84f87bb39332fd69e11ce": {
      "model_module": "@jupyter-widgets/controls",
      "model_module_version": "1.5.0",
      "model_name": "FloatSliderModel",
      "state": {
       "description": "0°",
       "layout": "IPY_MODEL_0270a988a2aa4ccc9fde6e1f34558508",
       "max": 1,
       "min": -1,
       "step": 0.01,
       "style": "IPY_MODEL_8e7bf886768941a490ad0941509604d3"
      }
     },
     "327cb1aa0b94496db6f1907b6e6e93d5": {
      "model_module": "@jupyter-widgets/base",
      "model_module_version": "1.2.0",
      "model_name": "LayoutModel",
      "state": {}
     },
     "329bcb69a2e8416b9d9231e3d67115e6": {
      "model_module": "@jupyter-widgets/controls",
      "model_module_version": "1.5.0",
      "model_name": "ButtonModel",
      "state": {
       "description": "Reset Hue Controls",
       "layout": "IPY_MODEL_e9c8d757b8284447b789078ca4ed1e79",
       "style": "IPY_MODEL_2b252fff09fb468a833b1a5ea651b0ae"
      }
     },
     "32bc141f28c94ceea7c0229292142120": {
      "model_module": "@jupyter-widgets/controls",
      "model_module_version": "1.5.0",
      "model_name": "HBoxModel",
      "state": {
       "children": [
        "IPY_MODEL_8d065363f0994be0b1606bba30e3f515",
        "IPY_MODEL_c4344963dad34554876aa9e24ad099e5",
        "IPY_MODEL_d1efa3093f1747e4a88e08985c6aea4b",
        "IPY_MODEL_b482835ba87241508641353daf0e28ea"
       ],
       "layout": "IPY_MODEL_3e0dde2563a64f68b2a80d751ea74a5e"
      }
     },
     "32ca9f8f748b4a0ba8c492f4175d6cbe": {
      "model_module": "@jupyter-widgets/controls",
      "model_module_version": "1.5.0",
      "model_name": "VBoxModel",
      "state": {
       "children": [
        "IPY_MODEL_15765cb1ddb046a49ac25e3bdb739640",
        "IPY_MODEL_0e9acdcea96e4678a4721744c39e5a3b",
        "IPY_MODEL_8f1e1018507c484b9ad2b340b757e39d"
       ],
       "layout": "IPY_MODEL_90478452429a4a6c90f9ba313257ee60"
      }
     },
     "331351465f2b4a1db2d3821f6485f2ba": {
      "model_module": "jupyter-matplotlib",
      "model_module_version": "^0.7.2",
      "model_name": "ToolbarModel",
      "state": {
       "layout": "IPY_MODEL_5636c92d1b3d4a08b21d21dd61183745",
       "toolitems": [
        [
         "Home",
         "Reset original view",
         "home",
         "home"
        ],
        [
         "Back",
         "Back to previous view",
         "arrow-left",
         "back"
        ],
        [
         "Forward",
         "Forward to next view",
         "arrow-right",
         "forward"
        ],
        [
         "Pan",
         "Pan axes with left mouse, zoom with right",
         "arrows",
         "pan"
        ],
        [
         "Zoom",
         "Zoom to rectangle",
         "square-o",
         "zoom"
        ],
        [
         "Download",
         "Download plot",
         "floppy-o",
         "save_figure"
        ]
       ]
      }
     },
     "33934f0ad71948ffa3ec9355a60983c8": {
      "model_module": "@jupyter-widgets/controls",
      "model_module_version": "1.5.0",
      "model_name": "TabModel",
      "state": {
       "_titles": {
        "0": "Global Controls",
        "1": "Compression Controls"
       },
       "children": [
        "IPY_MODEL_d40aca4e90354d01a8bdae25a8f4b2c4",
        "IPY_MODEL_9245ff1b2d93442f8df0c75d2eba24ae"
       ],
       "layout": "IPY_MODEL_924b5cfb3bcc4737b082bfed702864e4"
      }
     },
     "33dceb0342294914b0774617d7a174fb": {
      "model_module": "@jupyter-widgets/controls",
      "model_module_version": "1.5.0",
      "model_name": "CheckboxModel",
      "state": {
       "description": "Disable Medicina",
       "disabled": false,
       "layout": "IPY_MODEL_2256cb0e1d324f17b0bba66042b103a6",
       "style": "IPY_MODEL_2ab06d00086e4dfeb9deb033c5c034be",
       "value": false
      }
     },
     "33e37fed9a2f4c2ea39ad904c842f67d": {
      "model_module": "@jupyter-widgets/base",
      "model_module_version": "1.2.0",
      "model_name": "LayoutModel",
      "state": {}
     },
     "340a64983b564f549ead1017f3f6a723": {
      "model_module": "@jupyter-widgets/base",
      "model_module_version": "1.2.0",
      "model_name": "LayoutModel",
      "state": {}
     },
     "340b08bf335b4f018d81d98c764f55c8": {
      "model_module": "@jupyter-widgets/base",
      "model_module_version": "1.2.0",
      "model_name": "LayoutModel",
      "state": {}
     },
     "345673ba796d4d97a2f269bead0df4ba": {
      "model_module": "@jupyter-widgets/base",
      "model_module_version": "1.2.0",
      "model_name": "LayoutModel",
      "state": {}
     },
     "34d0af206f0d48d9a2170f60553a5d79": {
      "model_module": "@jupyter-widgets/controls",
      "model_module_version": "1.5.0",
      "model_name": "ButtonModel",
      "state": {
       "description": "Export Image",
       "layout": "IPY_MODEL_be89cb5a63fd41598c9e81e34f852785",
       "style": "IPY_MODEL_dc0c9c45fd1f490a9eac4e99a53fff0f"
      }
     },
     "34e23fce5cd2497c874bb6c553fdb383": {
      "model_module": "@jupyter-widgets/base",
      "model_module_version": "1.2.0",
      "model_name": "LayoutModel",
      "state": {}
     },
     "34e2714b5d0b4bd98299dbe82d5d55db": {
      "model_module": "@jupyter-widgets/controls",
      "model_module_version": "1.5.0",
      "model_name": "SliderStyleModel",
      "state": {
       "description_width": ""
      }
     },
     "357ba65378b64a5c9079af50e0e701af": {
      "model_module": "@jupyter-widgets/base",
      "model_module_version": "1.2.0",
      "model_name": "LayoutModel",
      "state": {}
     },
     "35c1eda3cf744a1b81341a68c822cc0c": {
      "model_module": "@jupyter-widgets/controls",
      "model_module_version": "1.5.0",
      "model_name": "ButtonStyleModel",
      "state": {}
     },
     "35f128e4dd0f405caa43ee31076b8a61": {
      "model_module": "@jupyter-widgets/base",
      "model_module_version": "1.2.0",
      "model_name": "LayoutModel",
      "state": {}
     },
     "361f33ce52304cd4b9cc6a54aca496cd": {
      "model_module": "@jupyter-widgets/controls",
      "model_module_version": "1.5.0",
      "model_name": "SliderStyleModel",
      "state": {
       "description_width": ""
      }
     },
     "36690af4810046d2bde9c211f1218cdc": {
      "model_module": "@jupyter-widgets/controls",
      "model_module_version": "1.5.0",
      "model_name": "ButtonModel",
      "state": {
       "description": "Save Figure",
       "layout": "IPY_MODEL_fab7ec30acbb4bc7bf4af51070e00fd0",
       "style": "IPY_MODEL_159b73322deb438b8c712d9eb02de4f8"
      }
     },
     "3678bd741a84433a8c0e8dbf57a88491": {
      "model_module": "@jupyter-widgets/base",
      "model_module_version": "1.2.0",
      "model_name": "LayoutModel",
      "state": {}
     },
     "36f401b534ee40b28170f4f2966816f1": {
      "model_module": "@jupyter-widgets/controls",
      "model_module_version": "1.5.0",
      "model_name": "ButtonModel",
      "state": {
       "description": "Save Figure",
       "layout": "IPY_MODEL_c88a818d64ca4ccabafd235eb7ecb673",
       "style": "IPY_MODEL_90e94b1dd2e240d0af19cbbe3d64a511"
      }
     },
     "36f4682b9ed24471bea81d6322235192": {
      "model_module": "@jupyter-widgets/base",
      "model_module_version": "1.2.0",
      "model_name": "LayoutModel",
      "state": {}
     },
     "37070d8bf2354aaca105672ddf12d040": {
      "model_module": "@jupyter-widgets/controls",
      "model_module_version": "1.5.0",
      "model_name": "ButtonStyleModel",
      "state": {}
     },
     "38178b95cfaf4977a56e8a1aa1d1856a": {
      "model_module": "@jupyter-widgets/controls",
      "model_module_version": "1.5.0",
      "model_name": "HBoxModel",
      "state": {
       "children": [
        "IPY_MODEL_f97e44e924da4349a1025b0643b6e099",
        "IPY_MODEL_96bc20686178449bbb173ccc89d0efe5",
        "IPY_MODEL_713eba50cff4490d822979c1be6f1dc6"
       ],
       "layout": "IPY_MODEL_e1f45d163c534fda885075632b1c7013"
      }
     },
     "384d29457a7549c1bdd28a7af3e29f1f": {
      "model_module": "@jupyter-widgets/controls",
      "model_module_version": "1.5.0",
      "model_name": "DropdownModel",
      "state": {
       "_options_labels": [
        "tanh",
        "simple"
       ],
       "description": "Compression Function:",
       "index": 0,
       "layout": "IPY_MODEL_3067f2f5bcad404e9fd15c0345d97d8f",
       "style": "IPY_MODEL_9f7acfdc7c5a470c9161bf5b335a4721"
      }
     },
     "38737f273a6e49d2921cb3ca48cbb344": {
      "model_module": "@jupyter-widgets/base",
      "model_module_version": "1.2.0",
      "model_name": "LayoutModel",
      "state": {}
     },
     "3884226b474a46e687408684ab46b5ac": {
      "model_module": "jupyter-matplotlib",
      "model_module_version": "^0.7.2",
      "model_name": "ToolbarModel",
      "state": {
       "layout": "IPY_MODEL_3678bd741a84433a8c0e8dbf57a88491",
       "toolitems": [
        [
         "Home",
         "Reset original view",
         "home",
         "home"
        ],
        [
         "Back",
         "Back to previous view",
         "arrow-left",
         "back"
        ],
        [
         "Forward",
         "Forward to next view",
         "arrow-right",
         "forward"
        ],
        [
         "Pan",
         "Pan axes with left mouse, zoom with right",
         "arrows",
         "pan"
        ],
        [
         "Zoom",
         "Zoom to rectangle",
         "square-o",
         "zoom"
        ],
        [
         "Download",
         "Download plot",
         "floppy-o",
         "save_figure"
        ]
       ]
      }
     },
     "38caad87999e452093df9ccdfa3b2bd3": {
      "model_module": "@jupyter-widgets/controls",
      "model_module_version": "1.5.0",
      "model_name": "HBoxModel",
      "state": {
       "children": [
        "IPY_MODEL_de04bea1d508496ba2f0ca45e63b30a3",
        "IPY_MODEL_4cdfb7d058e8425fb1b998b64cb74fc9",
        "IPY_MODEL_9607436dc481468597ba0e7426d7169a"
       ],
       "layout": "IPY_MODEL_0ffbd21c85a14bd3adb6b681a09b19b4"
      }
     },
     "38dc7420b60d409abfe6d7bfd20b037e": {
      "model_module": "@jupyter-widgets/controls",
      "model_module_version": "1.5.0",
      "model_name": "ButtonModel",
      "state": {
       "description": "Reset Saturation Controls",
       "layout": "IPY_MODEL_c427761d117f4569af6553de8a6a0fb3",
       "style": "IPY_MODEL_0d2470bd18354a83ad4e57822af702c7"
      }
     },
     "38e6710504564b8c92b61897ff3061d3": {
      "model_module": "@jupyter-widgets/controls",
      "model_module_version": "1.5.0",
      "model_name": "SliderStyleModel",
      "state": {
       "description_width": ""
      }
     },
     "38e92260e3994a108bf5b63b77e7f043": {
      "model_module": "jupyter-matplotlib",
      "model_module_version": "^0.7.2",
      "model_name": "ToolbarModel",
      "state": {
       "layout": "IPY_MODEL_8de7db4fb090499391ab3cc94340e2fc",
       "toolitems": [
        [
         "Home",
         "Reset original view",
         "home",
         "home"
        ],
        [
         "Back",
         "Back to previous view",
         "arrow-left",
         "back"
        ],
        [
         "Forward",
         "Forward to next view",
         "arrow-right",
         "forward"
        ],
        [
         "Pan",
         "Pan axes with left mouse, zoom with right",
         "arrows",
         "pan"
        ],
        [
         "Zoom",
         "Zoom to rectangle",
         "square-o",
         "zoom"
        ],
        [
         "Download",
         "Download plot",
         "floppy-o",
         "save_figure"
        ]
       ]
      }
     },
     "38f2efd94f584a2d8c636198efe12011": {
      "model_module": "@jupyter-widgets/output",
      "model_module_version": "1.0.0",
      "model_name": "OutputModel",
      "state": {
       "layout": "IPY_MODEL_ba629f222dfc4b088e1f12952b3224c1",
       "outputs": [
        {
         "data": {
          "application/vnd.jupyter.widget-view+json": {
           "model_id": "ccdef824bd21424990b84432768e0170",
           "version_major": 2,
           "version_minor": 0
          },
          "text/plain": "Canvas(toolbar=Toolbar(toolitems=[('Home', 'Reset original view', 'home', 'home'), ('Back', 'Back to previous …"
         },
         "metadata": {},
         "output_type": "display_data"
        }
       ]
      }
     },
     "38ff73c901fe4ee1ad87ac2b57638ea5": {
      "model_module": "@jupyter-widgets/controls",
      "model_module_version": "1.5.0",
      "model_name": "ButtonModel",
      "state": {
       "description": "Export Image",
       "layout": "IPY_MODEL_e8a48e2b70ee41b887cf84d0a7ccda2f",
       "style": "IPY_MODEL_51b9443010ee43758a5738cd0b1af7af"
      }
     },
     "391c4f81142141449d5d47df2625dab5": {
      "model_module": "@jupyter-widgets/base",
      "model_module_version": "1.2.0",
      "model_name": "LayoutModel",
      "state": {}
     },
     "394dd9a910c4479daff4d045bd6c98e1": {
      "model_module": "@jupyter-widgets/controls",
      "model_module_version": "1.5.0",
      "model_name": "ButtonStyleModel",
      "state": {}
     },
     "3987b153c5b04d8c950dd5a245488441": {
      "model_module": "@jupyter-widgets/base",
      "model_module_version": "1.2.0",
      "model_name": "LayoutModel",
      "state": {}
     },
     "39bb7e2a5f1a44bf9c7c317866e78e51": {
      "model_module": "@jupyter-widgets/controls",
      "model_module_version": "1.5.0",
      "model_name": "HBoxModel",
      "state": {
       "children": [
        "IPY_MODEL_6426d011699a4df7bbf93c03a9eb3be8",
        "IPY_MODEL_7a4fdb35470e463b937a4942f7d8969b",
        "IPY_MODEL_f1d41cca25124fde97c7b6bf80f068e8"
       ],
       "layout": "IPY_MODEL_d25227f36f244a02aeb766c7c5c79a5a"
      }
     },
     "3a237fc92eac430495c36c43b0a00ae2": {
      "model_module": "jupyter-matplotlib",
      "model_module_version": "^0.7.2",
      "model_name": "MPLCanvasModel",
      "state": {
       "_figure_label": "Figure 11",
       "_height": 696,
       "_image_mode": "diff",
       "_width": 1100,
       "header_visible": false,
       "layout": "IPY_MODEL_78d4fc104d044e7185ad69de5c891f3d",
       "resizable": false,
       "toolbar": "IPY_MODEL_a35b7bca6ae94921a1995741421ae8fd",
       "toolbar_position": "left",
       "toolbar_visible": false
      }
     },
     "3a347b01f52a469d9269185002be7f2a": {
      "model_module": "@jupyter-widgets/base",
      "model_module_version": "1.2.0",
      "model_name": "LayoutModel",
      "state": {
       "border": "solid 4px #222",
       "margin": "4px",
       "padding": "0"
      }
     },
     "3aae22814136440b9698eb28b5d7a96d": {
      "model_module": "@jupyter-widgets/base",
      "model_module_version": "1.2.0",
      "model_name": "LayoutModel",
      "state": {}
     },
     "3b08785aa10d4c3eb9fc4f650806ade1": {
      "model_module": "@jupyter-widgets/base",
      "model_module_version": "1.2.0",
      "model_name": "LayoutModel",
      "state": {}
     },
     "3b0a2bc8680c4bafb481ebae88abca47": {
      "model_module": "@jupyter-widgets/base",
      "model_module_version": "1.2.0",
      "model_name": "LayoutModel",
      "state": {
       "border": "solid 4px #222",
       "margin": "4px",
       "padding": "0"
      }
     },
     "3b1a36e91827448cb7a6dd2249f3f428": {
      "model_module": "@jupyter-widgets/controls",
      "model_module_version": "1.5.0",
      "model_name": "DescriptionStyleModel",
      "state": {
       "description_width": ""
      }
     },
     "3b234ad1704e4526bb65511ee3dcbc2d": {
      "model_module": "@jupyter-widgets/controls",
      "model_module_version": "1.5.0",
      "model_name": "ButtonModel",
      "state": {
       "description": "Export Image",
       "layout": "IPY_MODEL_e46e05ccc0d04edea8376e9f1abc5151",
       "style": "IPY_MODEL_3e24aacaddd04f9897d3fd897a534fde"
      }
     },
     "3bbeac3e12f64a08b8bbb5be9174d5fa": {
      "model_module": "@jupyter-widgets/controls",
      "model_module_version": "1.5.0",
      "model_name": "SliderStyleModel",
      "state": {
       "description_width": ""
      }
     },
     "3c1ab37696ae42d1acd33ae8604cfc3e": {
      "model_module": "@jupyter-widgets/base",
      "model_module_version": "1.2.0",
      "model_name": "LayoutModel",
      "state": {}
     },
     "3c9c0f1910aa4672beb046bf645d8748": {
      "model_module": "@jupyter-widgets/controls",
      "model_module_version": "1.5.0",
      "model_name": "HBoxModel",
      "state": {
       "children": [
        "IPY_MODEL_50f7704596db444caf66488722cab1d6",
        "IPY_MODEL_384d29457a7549c1bdd28a7af3e29f1f",
        "IPY_MODEL_c49671f338394b5491acfb05756ead41"
       ],
       "layout": "IPY_MODEL_9ac3b9c7742b40f6950cec38a44855cc"
      }
     },
     "3cc154392769428eb13ea835560971f6": {
      "model_module": "@jupyter-widgets/base",
      "model_module_version": "1.2.0",
      "model_name": "LayoutModel",
      "state": {}
     },
     "3cd7b6c71dae4e358ab46e3324bf996d": {
      "model_module": "@jupyter-widgets/controls",
      "model_module_version": "1.5.0",
      "model_name": "FloatSliderModel",
      "state": {
       "description": "180°",
       "layout": "IPY_MODEL_f93b3cb6202744cab27cf614f3d35be3",
       "max": 1,
       "min": -1,
       "step": 0.01,
       "style": "IPY_MODEL_d3d8bf43318c45c6ba367bd5d9835f20"
      }
     },
     "3d20f9e581c64813b72aa9cc91a5ccba": {
      "model_module": "@jupyter-widgets/controls",
      "model_module_version": "1.5.0",
      "model_name": "SliderStyleModel",
      "state": {
       "description_width": ""
      }
     },
     "3d3a6cccb6844c5ab63a674d9e60bb3a": {
      "model_module": "@jupyter-widgets/base",
      "model_module_version": "1.2.0",
      "model_name": "LayoutModel",
      "state": {}
     },
     "3da4f07f9acf4f4786e74f9aafb3b640": {
      "model_module": "@jupyter-widgets/base",
      "model_module_version": "1.2.0",
      "model_name": "LayoutModel",
      "state": {}
     },
     "3dc9f2011733421da7cd19526de8a712": {
      "model_module": "@jupyter-widgets/base",
      "model_module_version": "1.2.0",
      "model_name": "LayoutModel",
      "state": {}
     },
     "3e0dde2563a64f68b2a80d751ea74a5e": {
      "model_module": "@jupyter-widgets/base",
      "model_module_version": "1.2.0",
      "model_name": "LayoutModel",
      "state": {}
     },
     "3e19e4abb8a44ccabed698851c42b1e6": {
      "model_module": "jupyter-matplotlib",
      "model_module_version": "^0.7.2",
      "model_name": "MPLCanvasModel",
      "state": {
       "_figure_label": "Figure 12",
       "_height": 550,
       "_width": 1100,
       "header_visible": false,
       "layout": "IPY_MODEL_6deb0973d4e644bcaff322dc3ff989f5",
       "resizable": false,
       "toolbar": "IPY_MODEL_3884226b474a46e687408684ab46b5ac",
       "toolbar_position": "left",
       "toolbar_visible": false
      }
     },
     "3e24aacaddd04f9897d3fd897a534fde": {
      "model_module": "@jupyter-widgets/controls",
      "model_module_version": "1.5.0",
      "model_name": "ButtonStyleModel",
      "state": {}
     },
     "3e35751f653743969f43695b671f12b0": {
      "model_module": "@jupyter-widgets/controls",
      "model_module_version": "1.5.0",
      "model_name": "TabModel",
      "state": {
       "_titles": {
        "0": "Global Controls",
        "1": "Compression Controls"
       },
       "children": [
        "IPY_MODEL_b137d1a9cf1f4647bbfd7fdf069586ee",
        "IPY_MODEL_e42c57e3e76f4cf2bd7874f471f9cb8e"
       ],
       "layout": "IPY_MODEL_403f83c1b0284301b355eed8bbc916f1"
      }
     },
     "3e5100f7b78c46a7a99845ad320f3efa": {
      "model_module": "@jupyter-widgets/base",
      "model_module_version": "1.2.0",
      "model_name": "LayoutModel",
      "state": {
       "align_items": "stretch",
       "display": "flex",
       "flex_flow": "column",
       "width": "1128px"
      }
     },
     "3e9e7473c8334242b8c62d5a83fdfabc": {
      "model_module": "@jupyter-widgets/controls",
      "model_module_version": "1.5.0",
      "model_name": "VBoxModel",
      "state": {
       "children": [
        "IPY_MODEL_e7b228bda45a401c9eda2e86e0de7736"
       ],
       "layout": "IPY_MODEL_8b1bfb7840c44637b1eb9b40866bc457"
      }
     },
     "3eba17689c93432ebb0216ae36485343": {
      "model_module": "@jupyter-widgets/base",
      "model_module_version": "1.2.0",
      "model_name": "LayoutModel",
      "state": {}
     },
     "3edfc089b9b547ac8ee3852ce5d9b30b": {
      "model_module": "@jupyter-widgets/output",
      "model_module_version": "1.0.0",
      "model_name": "OutputModel",
      "state": {
       "layout": "IPY_MODEL_558e44daa3fd4b61b5eb84c67663b1ba",
       "outputs": [
        {
         "data": {
          "application/vnd.jupyter.widget-view+json": {
           "model_id": "c827afe90ddc4a90b38bc394af6bf2b0",
           "version_major": 2,
           "version_minor": 0
          },
          "text/plain": "Canvas(toolbar=Toolbar(toolitems=[('Home', 'Reset original view', 'home', 'home'), ('Back', 'Back to previous …"
         },
         "metadata": {},
         "output_type": "display_data"
        }
       ]
      }
     },
     "3f8771d23e594bf5ada463c89263001c": {
      "model_module": "@jupyter-widgets/controls",
      "model_module_version": "1.5.0",
      "model_name": "HBoxModel",
      "state": {
       "children": [
        "IPY_MODEL_82934fec01e64a4880e09037cc9ccf1c",
        "IPY_MODEL_dc87aaeebaed4cdd8eb514cead1d4650",
        "IPY_MODEL_ca1c4675ca864b1d8ff8ed5f8bcdf20b"
       ],
       "layout": "IPY_MODEL_27b621630efb427b855b8cca7e2805c9"
      }
     },
     "3fd0992e0e854ed180c9de8b44f35f07": {
      "model_module": "@jupyter-widgets/output",
      "model_module_version": "1.0.0",
      "model_name": "OutputModel",
      "state": {
       "layout": "IPY_MODEL_b535a0693d1f44259e69d243448289df",
       "outputs": [
        {
         "data": {
          "application/vnd.jupyter.widget-view+json": {
           "model_id": "4a9a591086934be4af01046050e7e9f3",
           "version_major": 2,
           "version_minor": 0
          },
          "text/plain": "Canvas(toolbar=Toolbar(toolitems=[('Home', 'Reset original view', 'home', 'home'), ('Back', 'Back to previous …"
         },
         "metadata": {},
         "output_type": "display_data"
        }
       ]
      }
     },
     "402359aedec443deab0b8906693e5043": {
      "model_module": "@jupyter-widgets/controls",
      "model_module_version": "1.5.0",
      "model_name": "HBoxModel",
      "state": {
       "children": [
        "IPY_MODEL_c25a8021f66d42a5ba9698d9ff352704",
        "IPY_MODEL_b4059e1b14c24bfa83846a7d75465a69",
        "IPY_MODEL_ccda8871c9d1448a88207b7bfeea9033"
       ],
       "layout": "IPY_MODEL_4c36dd53e77042aeaa10b42d92fa8486"
      }
     },
     "403f83c1b0284301b355eed8bbc916f1": {
      "model_module": "@jupyter-widgets/base",
      "model_module_version": "1.2.0",
      "model_name": "LayoutModel",
      "state": {
       "border": "solid 4px #222",
       "margin": "4px",
       "padding": "0"
      }
     },
     "40f0748b8f5943819418192733465c63": {
      "model_module": "jupyter-matplotlib",
      "model_module_version": "^0.7.2",
      "model_name": "ToolbarModel",
      "state": {
       "layout": "IPY_MODEL_89b05d5e72dd499ca6d74db4be81fd55",
       "toolitems": [
        [
         "Home",
         "Reset original view",
         "home",
         "home"
        ],
        [
         "Back",
         "Back to previous view",
         "arrow-left",
         "back"
        ],
        [
         "Forward",
         "Forward to next view",
         "arrow-right",
         "forward"
        ],
        [
         "Pan",
         "Pan axes with left mouse, zoom with right",
         "arrows",
         "pan"
        ],
        [
         "Zoom",
         "Zoom to rectangle",
         "square-o",
         "zoom"
        ],
        [
         "Download",
         "Download plot",
         "floppy-o",
         "save_figure"
        ]
       ]
      }
     },
     "4109316eb20545198aaf0b8ac2d79d4a": {
      "model_module": "@jupyter-widgets/base",
      "model_module_version": "1.2.0",
      "model_name": "LayoutModel",
      "state": {}
     },
     "41370ea1126e445485acaf76453337f0": {
      "model_module": "@jupyter-widgets/base",
      "model_module_version": "1.2.0",
      "model_name": "LayoutModel",
      "state": {
       "border": "solid 4px #222",
       "margin": "4px",
       "padding": "0"
      }
     },
     "415b7046669546989faae50b11d2ad46": {
      "model_module": "@jupyter-widgets/base",
      "model_module_version": "1.2.0",
      "model_name": "LayoutModel",
      "state": {}
     },
     "418acc0b539e4f0582f04ea95cae93a8": {
      "model_module": "@jupyter-widgets/base",
      "model_module_version": "1.2.0",
      "model_name": "LayoutModel",
      "state": {}
     },
     "41972f8193d948e290c60504b83ea545": {
      "model_module": "@jupyter-widgets/controls",
      "model_module_version": "1.5.0",
      "model_name": "ButtonModel",
      "state": {
       "description": "Export Image",
       "layout": "IPY_MODEL_b14362ea16504fe2a01ce000e1bf14cd",
       "style": "IPY_MODEL_4c22971000c247eba4c933832270fb45"
      }
     },
     "41a53c8843b3464cafbd72798c213c1b": {
      "model_module": "@jupyter-widgets/base",
      "model_module_version": "1.2.0",
      "model_name": "LayoutModel",
      "state": {}
     },
     "42008621882b40e1b178ad29bdad4aad": {
      "model_module": "@jupyter-widgets/controls",
      "model_module_version": "1.5.0",
      "model_name": "SliderStyleModel",
      "state": {
       "description_width": ""
      }
     },
     "4200884dc91448739b078b7ab6c84602": {
      "model_module": "jupyter-matplotlib",
      "model_module_version": "^0.7.2",
      "model_name": "MPLCanvasModel",
      "state": {
       "_figure_label": "Figure 19",
       "_height": 396,
       "_image_mode": "diff",
       "_width": 1100,
       "header_visible": false,
       "layout": "IPY_MODEL_9fb79ead54d648f6be5cd7723d212986",
       "resizable": false,
       "toolbar": "IPY_MODEL_5281a779aa714a27902c8ac50bb07e64",
       "toolbar_position": "left",
       "toolbar_visible": false
      }
     },
     "420702f2ace14b4587338911b502160e": {
      "model_module": "@jupyter-widgets/controls",
      "model_module_version": "1.5.0",
      "model_name": "CheckboxModel",
      "state": {
       "description": "Disable Medicina",
       "disabled": false,
       "layout": "IPY_MODEL_2d24096a28da4666a81a403e8ca58848",
       "style": "IPY_MODEL_0c63797f387a436cb5ccbaab5ea3d54b",
       "value": false
      }
     },
     "4242defa107e44aca327959020fa5422": {
      "model_module": "@jupyter-widgets/controls",
      "model_module_version": "1.5.0",
      "model_name": "ButtonStyleModel",
      "state": {}
     },
     "424d351ff3e7486baccb60f6e823952b": {
      "model_module": "@jupyter-widgets/controls",
      "model_module_version": "1.5.0",
      "model_name": "DescriptionStyleModel",
      "state": {
       "description_width": ""
      }
     },
     "424f9df147a2498f8ab0d074c6ee22c7": {
      "model_module": "@jupyter-widgets/controls",
      "model_module_version": "1.5.0",
      "model_name": "FloatSliderModel",
      "state": {
       "description": "225°",
       "layout": "IPY_MODEL_d12e73fa9d5d4002a9f4819d6e3d8a5e",
       "max": 1,
       "min": -1,
       "step": 0.01,
       "style": "IPY_MODEL_1922a820c77f47b8a3b83112992110e4"
      }
     },
     "425d1a1ce67947d48c3cf4fa40ad5879": {
      "model_module": "@jupyter-widgets/controls",
      "model_module_version": "1.5.0",
      "model_name": "ButtonModel",
      "state": {
       "description": "Reset Saturation Controls",
       "layout": "IPY_MODEL_6d6b22acc08e4921928325ce0d0ce703",
       "style": "IPY_MODEL_4c8b56e1c57a4d059903ab49ba9d460a"
      }
     },
     "4267b1f2a91f4a93b332589f5f8444da": {
      "model_module": "@jupyter-widgets/base",
      "model_module_version": "1.2.0",
      "model_name": "LayoutModel",
      "state": {}
     },
     "42cd064b899e4a729625958cd8deed52": {
      "model_module": "@jupyter-widgets/controls",
      "model_module_version": "1.5.0",
      "model_name": "FloatSliderModel",
      "state": {
       "description": "315°",
       "layout": "IPY_MODEL_d53f027b3dfd4a7cb602ab39021304b9",
       "max": 1,
       "min": -1,
       "step": 0.01,
       "style": "IPY_MODEL_86db49e55fd4461881b9674334c6714c"
      }
     },
     "42e396fdb6db41bc84bd2f4145fd5efc": {
      "model_module": "@jupyter-widgets/controls",
      "model_module_version": "1.5.0",
      "model_name": "DropdownModel",
      "state": {
       "_options_labels": [
        "tanh",
        "simple"
       ],
       "description": "Compression Function:",
       "index": 0,
       "layout": "IPY_MODEL_327cb1aa0b94496db6f1907b6e6e93d5",
       "style": "IPY_MODEL_4c85833ffd694275a5cb62b7c74e3a23"
      }
     },
     "430ff31846df4fe2a5252619c2215ce6": {
      "model_module": "jupyter-matplotlib",
      "model_module_version": "^0.7.2",
      "model_name": "ToolbarModel",
      "state": {
       "layout": "IPY_MODEL_05dc6dc1474745a887b79c5cb59cc6f2",
       "toolitems": [
        [
         "Home",
         "Reset original view",
         "home",
         "home"
        ],
        [
         "Back",
         "Back to previous view",
         "arrow-left",
         "back"
        ],
        [
         "Forward",
         "Forward to next view",
         "arrow-right",
         "forward"
        ],
        [
         "Pan",
         "Pan axes with left mouse, zoom with right",
         "arrows",
         "pan"
        ],
        [
         "Zoom",
         "Zoom to rectangle",
         "square-o",
         "zoom"
        ],
        [
         "Download",
         "Download plot",
         "floppy-o",
         "save_figure"
        ]
       ]
      }
     },
     "4382dca86db64d88b0fd640eb15adb6f": {
      "model_module": "@jupyter-widgets/controls",
      "model_module_version": "1.5.0",
      "model_name": "FloatSliderModel",
      "state": {
       "description": "180°",
       "layout": "IPY_MODEL_c50f95f020d04f2dab26c03463f577f2",
       "max": 1,
       "min": -1,
       "step": 0.01,
       "style": "IPY_MODEL_34e2714b5d0b4bd98299dbe82d5d55db"
      }
     },
     "43aae2f23e6441098a4d71761c38e6ac": {
      "model_module": "@jupyter-widgets/base",
      "model_module_version": "1.2.0",
      "model_name": "LayoutModel",
      "state": {}
     },
     "43b0aa66015746958bd3f396f9bd2f84": {
      "model_module": "@jupyter-widgets/controls",
      "model_module_version": "1.5.0",
      "model_name": "SliderStyleModel",
      "state": {
       "description_width": ""
      }
     },
     "43c6258a54184d7a937d8f0fe49a6067": {
      "model_module": "@jupyter-widgets/controls",
      "model_module_version": "1.5.0",
      "model_name": "DescriptionStyleModel",
      "state": {
       "description_width": ""
      }
     },
     "43e6fbec9d10470587de7033ce4c72d3": {
      "model_module": "@jupyter-widgets/controls",
      "model_module_version": "1.5.0",
      "model_name": "FloatSliderModel",
      "state": {
       "description": "Protected Area Threshold",
       "layout": "IPY_MODEL_dcc3b93da8f442378c2c84487cc794ab",
       "max": 1,
       "step": 0.01,
       "style": "IPY_MODEL_c1f11589f58b41e1b3a498fcfa5939e4",
       "value": 0.5
      }
     },
     "4460e0307e8145ee9d07a232e20e6558": {
      "model_module": "@jupyter-widgets/base",
      "model_module_version": "1.2.0",
      "model_name": "LayoutModel",
      "state": {}
     },
     "45110cc003224c67a52a59cf4c665c96": {
      "model_module": "@jupyter-widgets/controls",
      "model_module_version": "1.5.0",
      "model_name": "HBoxModel",
      "state": {
       "children": [
        "IPY_MODEL_7e9124e5971742babe6da0a06b590145",
        "IPY_MODEL_a77cfe2050b441d28926336343d51236"
       ],
       "layout": "IPY_MODEL_21c896a648104f9d981b5aac8d3cc9e0"
      }
     },
     "451ef004087f4e52b123b0a0d2d722bf": {
      "model_module": "@jupyter-widgets/controls",
      "model_module_version": "1.5.0",
      "model_name": "SliderStyleModel",
      "state": {
       "description_width": ""
      }
     },
     "454ca46c0ae5466281b86375165eda54": {
      "model_module": "@jupyter-widgets/controls",
      "model_module_version": "1.5.0",
      "model_name": "SliderStyleModel",
      "state": {
       "description_width": ""
      }
     },
     "45775479fff24432991cd78ea23025ab": {
      "model_module": "@jupyter-widgets/base",
      "model_module_version": "1.2.0",
      "model_name": "LayoutModel",
      "state": {}
     },
     "457d80f2873f459bba7f94d0ba71eab1": {
      "model_module": "@jupyter-widgets/controls",
      "model_module_version": "1.5.0",
      "model_name": "FloatSliderModel",
      "state": {
       "description": "Compression Threshold",
       "layout": "IPY_MODEL_fac897b7f18c4def9a3fa4a016441098",
       "max": 1,
       "step": 0.01,
       "style": "IPY_MODEL_8cc1d620e9114fb9bd13049689cb841a",
       "value": 0.8
      }
     },
     "45b0539fced84a098dec3542a492ad3e": {
      "model_module": "@jupyter-widgets/controls",
      "model_module_version": "1.5.0",
      "model_name": "FloatSliderModel",
      "state": {
       "description": "45°",
       "layout": "IPY_MODEL_5f6b998f7a584dd28efe106e7f5639f0",
       "max": 1,
       "min": -1,
       "step": 0.01,
       "style": "IPY_MODEL_fb670356e7184e7582dd2bc9d3a56930"
      }
     },
     "45f0df758ae546c58b8666a150c0262e": {
      "model_module": "@jupyter-widgets/controls",
      "model_module_version": "1.5.0",
      "model_name": "HBoxModel",
      "state": {
       "children": [
        "IPY_MODEL_088fc940cb00445ea613902d3c53a58b",
        "IPY_MODEL_38ff73c901fe4ee1ad87ac2b57638ea5",
        "IPY_MODEL_d7a5f98f72c84cb9864469ddf55b571c"
       ],
       "layout": "IPY_MODEL_dcdb2d74257441328fc21cb6bb29726f"
      }
     },
     "460738e19b144a53be81003a1ce44fd6": {
      "model_module": "@jupyter-widgets/controls",
      "model_module_version": "1.5.0",
      "model_name": "CheckboxModel",
      "state": {
       "description": "Disable Medicina",
       "disabled": false,
       "layout": "IPY_MODEL_cf199127381c4ee990e2243f9080fdd7",
       "style": "IPY_MODEL_6b1cffc9625a4a8ca1ccbbc93bfb105a",
       "value": false
      }
     },
     "460f0d2ec7644b04809f86599a2194a4": {
      "model_module": "@jupyter-widgets/base",
      "model_module_version": "1.2.0",
      "model_name": "LayoutModel",
      "state": {}
     },
     "46166efc9eca4fd4b538d5a6ed95e829": {
      "model_module": "@jupyter-widgets/base",
      "model_module_version": "1.2.0",
      "model_name": "LayoutModel",
      "state": {}
     },
     "461fe3d0c5c6489bbaf3f55adc06b91e": {
      "model_module": "@jupyter-widgets/controls",
      "model_module_version": "1.5.0",
      "model_name": "ButtonStyleModel",
      "state": {}
     },
     "46b3aa41fde24e228f22a81a2fa4d754": {
      "model_module": "@jupyter-widgets/base",
      "model_module_version": "1.2.0",
      "model_name": "LayoutModel",
      "state": {}
     },
     "46ce237337934386974295214b6ee5e9": {
      "model_module": "@jupyter-widgets/base",
      "model_module_version": "1.2.0",
      "model_name": "LayoutModel",
      "state": {}
     },
     "473eb03df9de47b9b3f90b033ea801d5": {
      "model_module": "@jupyter-widgets/controls",
      "model_module_version": "1.5.0",
      "model_name": "HBoxModel",
      "state": {
       "children": [
        "IPY_MODEL_635211da3b54417eacca9ed4cfe8bf89",
        "IPY_MODEL_b128dc46499d49bba40d169a3595f6a6",
        "IPY_MODEL_025a1a1eef614fa4811ee7b91a8ce833"
       ],
       "layout": "IPY_MODEL_10eba386b02b4a229f2eff6b4918b9b0"
      }
     },
     "475c84117b6940ebb0088a3ab07ae465": {
      "model_module": "@jupyter-widgets/controls",
      "model_module_version": "1.5.0",
      "model_name": "FloatSliderModel",
      "state": {
       "description": "Compression Threshold",
       "layout": "IPY_MODEL_57d02c429e804ad8972320011999be2f",
       "max": 1,
       "step": 0.01,
       "style": "IPY_MODEL_0f3032b107054a939132272b17c5f083",
       "value": 0.5
      }
     },
     "476265850e8b485a960f2e3321f55b11": {
      "model_module": "@jupyter-widgets/controls",
      "model_module_version": "1.5.0",
      "model_name": "FloatSliderModel",
      "state": {
       "description": "45°",
       "layout": "IPY_MODEL_77f9e46877714dd49c27e4fe72000340",
       "max": 1,
       "min": -1,
       "step": 0.01,
       "style": "IPY_MODEL_0811ab8c298f42fd99f3654c808f396c"
      }
     },
     "47bcdb5e762e450dae5529d9ae92cddd": {
      "model_module": "@jupyter-widgets/base",
      "model_module_version": "1.2.0",
      "model_name": "LayoutModel",
      "state": {}
     },
     "47bf91efa95c42f596d1f7d011d87551": {
      "model_module": "jupyter-matplotlib",
      "model_module_version": "^0.7.2",
      "model_name": "ToolbarModel",
      "state": {
       "layout": "IPY_MODEL_26f6d389b359455099c4ba055f572603",
       "toolitems": [
        [
         "Home",
         "Reset original view",
         "home",
         "home"
        ],
        [
         "Back",
         "Back to previous view",
         "arrow-left",
         "back"
        ],
        [
         "Forward",
         "Forward to next view",
         "arrow-right",
         "forward"
        ],
        [
         "Pan",
         "Pan axes with left mouse, zoom with right",
         "arrows",
         "pan"
        ],
        [
         "Zoom",
         "Zoom to rectangle",
         "square-o",
         "zoom"
        ],
        [
         "Download",
         "Download plot",
         "floppy-o",
         "save_figure"
        ]
       ]
      }
     },
     "47e132b73319457d87b2997ff9167ee8": {
      "model_module": "@jupyter-widgets/base",
      "model_module_version": "1.2.0",
      "model_name": "LayoutModel",
      "state": {}
     },
     "4873fc20b3b140e5878c41bfa1aa7317": {
      "model_module": "@jupyter-widgets/base",
      "model_module_version": "1.2.0",
      "model_name": "LayoutModel",
      "state": {}
     },
     "48961c161182481890f34d12bd959ed6": {
      "model_module": "jupyter-matplotlib",
      "model_module_version": "^0.7.2",
      "model_name": "MPLCanvasModel",
      "state": {
       "_figure_label": "Figure 16",
       "_height": 430,
       "_width": 1099,
       "header_visible": false,
       "layout": "IPY_MODEL_84824d512e244e389aa581d9543fac09",
       "resizable": false,
       "toolbar": "IPY_MODEL_4dced209e1f4426093f5d8fd0b1ba61a",
       "toolbar_position": "left",
       "toolbar_visible": false
      }
     },
     "48975aadf7f24a6080e9a6d79b2c30ad": {
      "model_module": "@jupyter-widgets/controls",
      "model_module_version": "1.5.0",
      "model_name": "SliderStyleModel",
      "state": {
       "description_width": ""
      }
     },
     "48c6093f5f654741902007db7b368352": {
      "model_module": "@jupyter-widgets/base",
      "model_module_version": "1.2.0",
      "model_name": "LayoutModel",
      "state": {}
     },
     "4921a17bb6144a8bb8c72afc516bb8f0": {
      "model_module": "@jupyter-widgets/controls",
      "model_module_version": "1.5.0",
      "model_name": "SliderStyleModel",
      "state": {
       "description_width": ""
      }
     },
     "49480b73f2344f2eba039c5080b8dd36": {
      "model_module": "@jupyter-widgets/base",
      "model_module_version": "1.2.0",
      "model_name": "LayoutModel",
      "state": {}
     },
     "4968f274e1c84f469b92ba0d375c9807": {
      "model_module": "@jupyter-widgets/controls",
      "model_module_version": "1.5.0",
      "model_name": "DescriptionStyleModel",
      "state": {
       "description_width": ""
      }
     },
     "49aae0aab0dc4b3b903a1d41054c4382": {
      "model_module": "@jupyter-widgets/base",
      "model_module_version": "1.2.0",
      "model_name": "LayoutModel",
      "state": {}
     },
     "49c916b82835445db753af8ec4c6bff5": {
      "model_module": "@jupyter-widgets/controls",
      "model_module_version": "1.5.0",
      "model_name": "FloatSliderModel",
      "state": {
       "description": "270°",
       "layout": "IPY_MODEL_15a10c320bdc45b1bbee36c0bb12f2f7",
       "max": 1,
       "min": -1,
       "step": 0.01,
       "style": "IPY_MODEL_1626a2690ea4430590ddd9b2e8004576"
      }
     },
     "4a801a35de9d4f328d15b3c7927b5e43": {
      "model_module": "@jupyter-widgets/base",
      "model_module_version": "1.2.0",
      "model_name": "LayoutModel",
      "state": {}
     },
     "4a921c33037447cdbfdb349dc697d8f1": {
      "model_module": "@jupyter-widgets/controls",
      "model_module_version": "1.5.0",
      "model_name": "ButtonStyleModel",
      "state": {}
     },
     "4a9a591086934be4af01046050e7e9f3": {
      "model_module": "jupyter-matplotlib",
      "model_module_version": "^0.7.2",
      "model_name": "MPLCanvasModel",
      "state": {
       "_figure_label": "Figure 4",
       "_height": 618,
       "_width": 1099,
       "header_visible": false,
       "layout": "IPY_MODEL_f7ba885331bc453d862e01a45ba4477b",
       "resizable": false,
       "toolbar": "IPY_MODEL_155ae805219d4c31a7963f7ef821b031",
       "toolbar_position": "left",
       "toolbar_visible": false
      }
     },
     "4aa6fd69a0014fdb95125b28e59efcbc": {
      "model_module": "@jupyter-widgets/controls",
      "model_module_version": "1.5.0",
      "model_name": "ButtonStyleModel",
      "state": {}
     },
     "4ac1dc3070d1420a9f0c91e3dcdeaa32": {
      "model_module": "@jupyter-widgets/controls",
      "model_module_version": "1.5.0",
      "model_name": "VBoxModel",
      "state": {
       "children": [
        "IPY_MODEL_24b1c71b0166441185d2c2e00908fe3e",
        "IPY_MODEL_7a5f2fa39d5848cf9b912b0bf7744437",
        "IPY_MODEL_cdb9f62c8be147d6be4f349f04ae751f"
       ],
       "layout": "IPY_MODEL_c33bf3d0a816453ab9d6f809e915d6c0"
      }
     },
     "4b093bb8f9fe4a5fb3ec98379835a05e": {
      "model_module": "@jupyter-widgets/controls",
      "model_module_version": "1.5.0",
      "model_name": "TabModel",
      "state": {
       "_titles": {
        "0": "Global Controls",
        "1": "Protected Area Controls",
        "2": "Saturation Controls",
        "3": "Hue Controls"
       },
       "children": [
        "IPY_MODEL_e1a8e4f0fbb649e3ac4689440f8e9d70",
        "IPY_MODEL_fd6d16b8faeb46ee9b40d67a4faf45ee",
        "IPY_MODEL_f9c9d25add9b41d2b200154aed073f3e",
        "IPY_MODEL_c09f8e9dc7014e0e9e1812aaf1cee257"
       ],
       "layout": "IPY_MODEL_83cbeec342414e909b99385f2d43d089"
      }
     },
     "4b0f1ec73f6440b9b52a8fdee96ddbf2": {
      "model_module": "@jupyter-widgets/controls",
      "model_module_version": "1.5.0",
      "model_name": "BoxModel",
      "state": {
       "children": [
        "IPY_MODEL_9c43f3d607bf4ef8ab28e4b7d8d8bd6a",
        "IPY_MODEL_51386de9dddf43bba51e4d4fba7ee1c9"
       ],
       "layout": "IPY_MODEL_5842de751a0a483183079bb6f11b5b5d"
      }
     },
     "4b4065ec1a9949ada6c7f5b233f7a53b": {
      "model_module": "@jupyter-widgets/base",
      "model_module_version": "1.2.0",
      "model_name": "LayoutModel",
      "state": {}
     },
     "4b509a615e6543cdbbaa99bf865c7e72": {
      "model_module": "@jupyter-widgets/base",
      "model_module_version": "1.2.0",
      "model_name": "LayoutModel",
      "state": {}
     },
     "4b53a67eb8164134b802a01e11eaad73": {
      "model_module": "@jupyter-widgets/controls",
      "model_module_version": "1.5.0",
      "model_name": "ButtonStyleModel",
      "state": {}
     },
     "4b6d7eadd39b4cc0962d15d3088c8e89": {
      "model_module": "@jupyter-widgets/controls",
      "model_module_version": "1.5.0",
      "model_name": "FloatSliderModel",
      "state": {
       "description": "Compression Threshold",
       "layout": "IPY_MODEL_ba104b037a4647fdbb5e4250164abe10",
       "max": 1,
       "step": 0.01,
       "style": "IPY_MODEL_070ac03764474863a2d80e1509f5cee8",
       "value": 0.8
      }
     },
     "4c22971000c247eba4c933832270fb45": {
      "model_module": "@jupyter-widgets/controls",
      "model_module_version": "1.5.0",
      "model_name": "ButtonStyleModel",
      "state": {}
     },
     "4c36dd53e77042aeaa10b42d92fa8486": {
      "model_module": "@jupyter-widgets/base",
      "model_module_version": "1.2.0",
      "model_name": "LayoutModel",
      "state": {}
     },
     "4c53ae0591be44a5a3da1a9abb339062": {
      "model_module": "@jupyter-widgets/base",
      "model_module_version": "1.2.0",
      "model_name": "LayoutModel",
      "state": {}
     },
     "4c6d6c38486e4b9fbf56a693367fc815": {
      "model_module": "@jupyter-widgets/base",
      "model_module_version": "1.2.0",
      "model_name": "LayoutModel",
      "state": {}
     },
     "4c85833ffd694275a5cb62b7c74e3a23": {
      "model_module": "@jupyter-widgets/controls",
      "model_module_version": "1.5.0",
      "model_name": "DescriptionStyleModel",
      "state": {
       "description_width": ""
      }
     },
     "4c8b56e1c57a4d059903ab49ba9d460a": {
      "model_module": "@jupyter-widgets/controls",
      "model_module_version": "1.5.0",
      "model_name": "ButtonStyleModel",
      "state": {}
     },
     "4c9abfdecf9c4ac69aa4a6a4592c86ef": {
      "model_module": "@jupyter-widgets/controls",
      "model_module_version": "1.5.0",
      "model_name": "FloatSliderModel",
      "state": {
       "description": "Protected Area Threshold",
       "layout": "IPY_MODEL_fe77580a9c3c4eef81ec14c9ae8bed9f",
       "max": 1,
       "step": 0.01,
       "style": "IPY_MODEL_06f22a61a6d8455e9dec9ea48bc6e85b",
       "value": 0.7
      }
     },
     "4c9bd689cf36403097845f3b2ccd838d": {
      "model_module": "@jupyter-widgets/base",
      "model_module_version": "1.2.0",
      "model_name": "LayoutModel",
      "state": {
       "border": "solid 4px #222",
       "margin": "4px",
       "padding": "0"
      }
     },
     "4cb0969bb8e34465b9697bcacd7e8bda": {
      "model_module": "@jupyter-widgets/base",
      "model_module_version": "1.2.0",
      "model_name": "LayoutModel",
      "state": {}
     },
     "4cbcc5dea83946a68304e2ac2856c676": {
      "model_module": "@jupyter-widgets/base",
      "model_module_version": "1.2.0",
      "model_name": "LayoutModel",
      "state": {}
     },
     "4cdfb7d058e8425fb1b998b64cb74fc9": {
      "model_module": "@jupyter-widgets/controls",
      "model_module_version": "1.5.0",
      "model_name": "DropdownModel",
      "state": {
       "_options_labels": [
        "tanh",
        "simple"
       ],
       "description": "Compression Function:",
       "index": 0,
       "layout": "IPY_MODEL_1d218e637f484e4391b630c33ecdeacc",
       "style": "IPY_MODEL_a6a85ef8b43149ecb9b5724f2fe0fc8f"
      }
     },
     "4d34899f22954c17874e7a7a45aec389": {
      "model_module": "@jupyter-widgets/controls",
      "model_module_version": "1.5.0",
      "model_name": "FloatSliderModel",
      "state": {
       "description": "315°",
       "layout": "IPY_MODEL_06ecb2958472496e9b4a863c24ce4dce",
       "max": 1,
       "min": -1,
       "step": 0.01,
       "style": "IPY_MODEL_cd472b0621cb4f949b19e799ea71a52f"
      }
     },
     "4dac47fedc394f4ea02e14953f527bda": {
      "model_module": "@jupyter-widgets/controls",
      "model_module_version": "1.5.0",
      "model_name": "BoxModel",
      "state": {
       "children": [
        "IPY_MODEL_9f9cd16c37bf4dea8b7a65450100fea1",
        "IPY_MODEL_651b5adcde61486ea6a50a4e8ff1c066"
       ],
       "layout": "IPY_MODEL_97265e00af8b46e2894dd23162c45b10"
      }
     },
     "4dced209e1f4426093f5d8fd0b1ba61a": {
      "model_module": "jupyter-matplotlib",
      "model_module_version": "^0.7.2",
      "model_name": "ToolbarModel",
      "state": {
       "layout": "IPY_MODEL_d4a72d18f7fa462d96a8c29045de0022",
       "toolitems": [
        [
         "Home",
         "Reset original view",
         "home",
         "home"
        ],
        [
         "Back",
         "Back to previous view",
         "arrow-left",
         "back"
        ],
        [
         "Forward",
         "Forward to next view",
         "arrow-right",
         "forward"
        ],
        [
         "Pan",
         "Pan axes with left mouse, zoom with right",
         "arrows",
         "pan"
        ],
        [
         "Zoom",
         "Zoom to rectangle",
         "square-o",
         "zoom"
        ],
        [
         "Download",
         "Download plot",
         "floppy-o",
         "save_figure"
        ]
       ]
      }
     },
     "4e0ba14b30ef4915a954221947a1c1ce": {
      "model_module": "@jupyter-widgets/controls",
      "model_module_version": "1.5.0",
      "model_name": "VBoxModel",
      "state": {
       "children": [
        "IPY_MODEL_145ddc9ca50242bdb26af5a5e853df4e"
       ],
       "layout": "IPY_MODEL_c97e269e6d884b9695102e4d240c24de"
      }
     },
     "4e253e5d211d483d8a84ea6a9ba39b31": {
      "model_module": "@jupyter-widgets/controls",
      "model_module_version": "1.5.0",
      "model_name": "FloatSliderModel",
      "state": {
       "description": "270°",
       "layout": "IPY_MODEL_4e861b6be82c4a0b974567056d8988b5",
       "max": 1,
       "min": -1,
       "step": 0.01,
       "style": "IPY_MODEL_5d1f189396634f38b7866bd6fb7e2edd"
      }
     },
     "4e33ebbc882d4c869681069727807587": {
      "model_module": "@jupyter-widgets/controls",
      "model_module_version": "1.5.0",
      "model_name": "SliderStyleModel",
      "state": {
       "description_width": ""
      }
     },
     "4e39b7f2370740869f68c8097cfa3ffc": {
      "model_module": "@jupyter-widgets/controls",
      "model_module_version": "1.5.0",
      "model_name": "ButtonStyleModel",
      "state": {}
     },
     "4e7b4b5ef43f4a32b82d5570d5fdec4a": {
      "model_module": "@jupyter-widgets/controls",
      "model_module_version": "1.5.0",
      "model_name": "ButtonModel",
      "state": {
       "description": "Save Figure",
       "layout": "IPY_MODEL_3b08785aa10d4c3eb9fc4f650806ade1",
       "style": "IPY_MODEL_dbb1a60cadc24366af80195bc996511d"
      }
     },
     "4e861b6be82c4a0b974567056d8988b5": {
      "model_module": "@jupyter-widgets/base",
      "model_module_version": "1.2.0",
      "model_name": "LayoutModel",
      "state": {}
     },
     "4e8d03315d144f30a1ae7eb0fd06ca16": {
      "model_module": "@jupyter-widgets/controls",
      "model_module_version": "1.5.0",
      "model_name": "BoxModel",
      "state": {
       "children": [
        "IPY_MODEL_781494af6ae846d0abd3de1e0e0cd106",
        "IPY_MODEL_0bbd4a5e4912452d9cefd7c3e51680e9"
       ],
       "layout": "IPY_MODEL_6fd0ad55974a4c6396c609377f72e5a9"
      }
     },
     "4e9dd762248f4bef874ee71261a86bf2": {
      "model_module": "@jupyter-widgets/base",
      "model_module_version": "1.2.0",
      "model_name": "LayoutModel",
      "state": {}
     },
     "4f57074139ad434eac81b539638043e8": {
      "model_module": "@jupyter-widgets/base",
      "model_module_version": "1.2.0",
      "model_name": "LayoutModel",
      "state": {}
     },
     "5064be3b8fe343aa9e2526db5cc14b11": {
      "model_module": "@jupyter-widgets/base",
      "model_module_version": "1.2.0",
      "model_name": "LayoutModel",
      "state": {
       "border": "solid 4px #222",
       "margin": "4px",
       "padding": "0"
      }
     },
     "506a00763b8947f49efa3cfed78c53b5": {
      "model_module": "@jupyter-widgets/base",
      "model_module_version": "1.2.0",
      "model_name": "LayoutModel",
      "state": {}
     },
     "508c590e528241a7bfa88258505b0db0": {
      "model_module": "@jupyter-widgets/controls",
      "model_module_version": "1.5.0",
      "model_name": "SliderStyleModel",
      "state": {
       "description_width": ""
      }
     },
     "50aa0f9b3af147f4bedd1604ed55eef0": {
      "model_module": "@jupyter-widgets/controls",
      "model_module_version": "1.5.0",
      "model_name": "SliderStyleModel",
      "state": {
       "description_width": ""
      }
     },
     "50f7704596db444caf66488722cab1d6": {
      "model_module": "@jupyter-widgets/controls",
      "model_module_version": "1.5.0",
      "model_name": "ButtonModel",
      "state": {
       "description": "Reset Compression Controls",
       "layout": "IPY_MODEL_6ccdd3e1e6c643309d6051549777d0d4",
       "style": "IPY_MODEL_b8513288fe26486aa1d1031351cb07b6"
      }
     },
     "5111d25e531d4f629845b4f010b7dbfb": {
      "model_module": "@jupyter-widgets/base",
      "model_module_version": "1.2.0",
      "model_name": "LayoutModel",
      "state": {}
     },
     "5131b2343d3f4871b6f6f292dc53f202": {
      "model_module": "@jupyter-widgets/base",
      "model_module_version": "1.2.0",
      "model_name": "LayoutModel",
      "state": {}
     },
     "51386de9dddf43bba51e4d4fba7ee1c9": {
      "model_module": "@jupyter-widgets/controls",
      "model_module_version": "1.5.0",
      "model_name": "TabModel",
      "state": {
       "_titles": {
        "0": "Global Controls",
        "1": "Protected Area Controls",
        "2": "Saturation Controls",
        "3": "Hue Controls"
       },
       "children": [
        "IPY_MODEL_71d85a95eb7e4ca9ba49c95244eac07d",
        "IPY_MODEL_cdea5f5b6436474a91862dcc1cd60203",
        "IPY_MODEL_538fdadbeeb245b0a6eb8b7e08dd1783",
        "IPY_MODEL_a8822ffcaa114030af5a3afb1bca1cbe"
       ],
       "layout": "IPY_MODEL_860cfeb438784d1fad54e221d34b58da"
      }
     },
     "51685e9e371346718aae2b8a373c4a5a": {
      "model_module": "@jupyter-widgets/base",
      "model_module_version": "1.2.0",
      "model_name": "LayoutModel",
      "state": {}
     },
     "518f77d5807e4fa58cbe62b655553af0": {
      "model_module": "@jupyter-widgets/controls",
      "model_module_version": "1.5.0",
      "model_name": "BoxModel",
      "state": {
       "children": [
        "IPY_MODEL_029fa45759c540fbbeff606f6b7faa02",
        "IPY_MODEL_62901d94cc464d54b71d9cfa9b1792e1"
       ],
       "layout": "IPY_MODEL_73a319b53e3345a99eabf8faf4f0e9a8"
      }
     },
     "519173486c374fb3bc00eaa0f6f263c6": {
      "model_module": "@jupyter-widgets/controls",
      "model_module_version": "1.5.0",
      "model_name": "VBoxModel",
      "state": {
       "children": [
        "IPY_MODEL_cb6556157809459a856980ee0b2e89ed"
       ],
       "layout": "IPY_MODEL_bb1288ba3347417d92bc3addac357f27"
      }
     },
     "519c6a8468d447ea9687c7089fb836ef": {
      "model_module": "@jupyter-widgets/controls",
      "model_module_version": "1.5.0",
      "model_name": "SliderStyleModel",
      "state": {
       "description_width": ""
      }
     },
     "51b9443010ee43758a5738cd0b1af7af": {
      "model_module": "@jupyter-widgets/controls",
      "model_module_version": "1.5.0",
      "model_name": "ButtonStyleModel",
      "state": {}
     },
     "520cc4fab47b4226aa3910551a036758": {
      "model_module": "@jupyter-widgets/controls",
      "model_module_version": "1.5.0",
      "model_name": "SliderStyleModel",
      "state": {
       "description_width": ""
      }
     },
     "522719c8bd564bf987564fc3ef8043c3": {
      "model_module": "@jupyter-widgets/controls",
      "model_module_version": "1.5.0",
      "model_name": "SliderStyleModel",
      "state": {
       "description_width": ""
      }
     },
     "5259dbd5e23b4e6eb456050f44114ab4": {
      "model_module": "@jupyter-widgets/base",
      "model_module_version": "1.2.0",
      "model_name": "LayoutModel",
      "state": {}
     },
     "5281a779aa714a27902c8ac50bb07e64": {
      "model_module": "jupyter-matplotlib",
      "model_module_version": "^0.7.2",
      "model_name": "ToolbarModel",
      "state": {
       "layout": "IPY_MODEL_0edd49499a0b4af39f6dfa8dfb2dc227",
       "toolitems": [
        [
         "Home",
         "Reset original view",
         "home",
         "home"
        ],
        [
         "Back",
         "Back to previous view",
         "arrow-left",
         "back"
        ],
        [
         "Forward",
         "Forward to next view",
         "arrow-right",
         "forward"
        ],
        [
         "Pan",
         "Pan axes with left mouse, zoom with right",
         "arrows",
         "pan"
        ],
        [
         "Zoom",
         "Zoom to rectangle",
         "square-o",
         "zoom"
        ],
        [
         "Download",
         "Download plot",
         "floppy-o",
         "save_figure"
        ]
       ]
      }
     },
     "5287d5c1afd145eabff26a7ded0a7960": {
      "model_module": "@jupyter-widgets/base",
      "model_module_version": "1.2.0",
      "model_name": "LayoutModel",
      "state": {}
     },
     "529649b4a83d49a8b6c37203607b6b7d": {
      "model_module": "@jupyter-widgets/controls",
      "model_module_version": "1.5.0",
      "model_name": "SliderStyleModel",
      "state": {
       "description_width": ""
      }
     },
     "52b28afc70734594b9159a8e2f813b6b": {
      "model_module": "@jupyter-widgets/base",
      "model_module_version": "1.2.0",
      "model_name": "LayoutModel",
      "state": {
       "border": "solid 4px #222",
       "margin": "4px",
       "padding": "0"
      }
     },
     "52b65d69a7ac4b90b22320d3e90ac83d": {
      "model_module": "@jupyter-widgets/base",
      "model_module_version": "1.2.0",
      "model_name": "LayoutModel",
      "state": {}
     },
     "530636aa6c0a4d7aba19a7e753f98882": {
      "model_module": "@jupyter-widgets/controls",
      "model_module_version": "1.5.0",
      "model_name": "SliderStyleModel",
      "state": {
       "description_width": ""
      }
     },
     "538fdadbeeb245b0a6eb8b7e08dd1783": {
      "model_module": "@jupyter-widgets/controls",
      "model_module_version": "1.5.0",
      "model_name": "HBoxModel",
      "state": {
       "children": [
        "IPY_MODEL_95fb169412eb43ee9d7a33de97470b40",
        "IPY_MODEL_f235eac55c4a4bc4b3f355f38043fbe9",
        "IPY_MODEL_fb470ab190a94cf5808471e53152a564"
       ],
       "layout": "IPY_MODEL_0ec9c3be18804802aedb108bef990213"
      }
     },
     "53e28247105a4894b8aa13d21b55d2ac": {
      "model_module": "@jupyter-widgets/controls",
      "model_module_version": "1.5.0",
      "model_name": "FloatSliderModel",
      "state": {
       "description": "90°",
       "layout": "IPY_MODEL_4a801a35de9d4f328d15b3c7927b5e43",
       "max": 1,
       "min": -1,
       "step": 0.01,
       "style": "IPY_MODEL_ccf6f104746d46bc8fcee5dd5e955bfe"
      }
     },
     "53f0744344aa45d7b73b525731366211": {
      "model_module": "@jupyter-widgets/base",
      "model_module_version": "1.2.0",
      "model_name": "LayoutModel",
      "state": {}
     },
     "540003ffdf37433e8228faeb1f1c3c7c": {
      "model_module": "@jupyter-widgets/controls",
      "model_module_version": "1.5.0",
      "model_name": "VBoxModel",
      "state": {
       "children": [
        "IPY_MODEL_12b8f5f34cea43269594006c48ed134d",
        "IPY_MODEL_a3ada2363f2a4f168d05ea0fc5d8ae69",
        "IPY_MODEL_b005799a81d445a288b3996770d89cdc"
       ],
       "layout": "IPY_MODEL_0d71ce25306c46f3978a93708c6bc1ca"
      }
     },
     "5448f94761d848b5b41dad05a36adea3": {
      "model_module": "@jupyter-widgets/base",
      "model_module_version": "1.2.0",
      "model_name": "LayoutModel",
      "state": {
       "border": "solid 4px #222",
       "margin": "4px",
       "padding": "0"
      }
     },
     "544dfcda92494d388033e159038ec1f2": {
      "model_module": "@jupyter-widgets/controls",
      "model_module_version": "1.5.0",
      "model_name": "ButtonStyleModel",
      "state": {}
     },
     "544ee9cac66b4ab9bf510eeab13f409c": {
      "model_module": "@jupyter-widgets/controls",
      "model_module_version": "1.5.0",
      "model_name": "ButtonStyleModel",
      "state": {}
     },
     "54518b4967a041a5bd031509baee3946": {
      "model_module": "@jupyter-widgets/controls",
      "model_module_version": "1.5.0",
      "model_name": "FloatSliderModel",
      "state": {
       "description": "0°",
       "layout": "IPY_MODEL_dd43daec27d14134a543689dcaf09232",
       "max": 1,
       "min": -1,
       "step": 0.01,
       "style": "IPY_MODEL_9367d9072d19464fb9385cd6cdb6d35d"
      }
     },
     "54d4b45f6855495694c1edbe85330aaf": {
      "model_module": "@jupyter-widgets/base",
      "model_module_version": "1.2.0",
      "model_name": "LayoutModel",
      "state": {}
     },
     "55314427d62c436686c67a231ca2ac10": {
      "model_module": "@jupyter-widgets/base",
      "model_module_version": "1.2.0",
      "model_name": "LayoutModel",
      "state": {}
     },
     "5538595ee1684ecfab8e688be9998a18": {
      "model_module": "@jupyter-widgets/controls",
      "model_module_version": "1.5.0",
      "model_name": "VBoxModel",
      "state": {
       "children": [
        "IPY_MODEL_240233e96be44d8db3f6bbfe1afa6be4",
        "IPY_MODEL_7f77cf0428d6404ebc6aa56c4a45d1f5",
        "IPY_MODEL_ebf61137351d4af88b6e4e59b532eceb"
       ],
       "layout": "IPY_MODEL_dac780eb5b294837a07d919fc1220055"
      }
     },
     "558e44daa3fd4b61b5eb84c67663b1ba": {
      "model_module": "@jupyter-widgets/base",
      "model_module_version": "1.2.0",
      "model_name": "LayoutModel",
      "state": {
       "border": "solid 4px #222",
       "margin": "4px",
       "padding": "0"
      }
     },
     "55cb5364fe034fc59ca89dd07977a45c": {
      "model_module": "@jupyter-widgets/controls",
      "model_module_version": "1.5.0",
      "model_name": "FloatSliderModel",
      "state": {
       "description": "225°",
       "layout": "IPY_MODEL_5111d25e531d4f629845b4f010b7dbfb",
       "max": 1,
       "min": -1,
       "step": 0.01,
       "style": "IPY_MODEL_48975aadf7f24a6080e9a6d79b2c30ad"
      }
     },
     "55ccf1cafa9e4a48a924abe845ab82be": {
      "model_module": "@jupyter-widgets/controls",
      "model_module_version": "1.5.0",
      "model_name": "SliderStyleModel",
      "state": {
       "description_width": ""
      }
     },
     "55e21a47902342bda9d5438b70028140": {
      "model_module": "jupyter-matplotlib",
      "model_module_version": "^0.7.2",
      "model_name": "ToolbarModel",
      "state": {
       "layout": "IPY_MODEL_f93b30a8506c453ca8f0b287e1fcb606",
       "toolitems": [
        [
         "Home",
         "Reset original view",
         "home",
         "home"
        ],
        [
         "Back",
         "Back to previous view",
         "arrow-left",
         "back"
        ],
        [
         "Forward",
         "Forward to next view",
         "arrow-right",
         "forward"
        ],
        [
         "Pan",
         "Pan axes with left mouse, zoom with right",
         "arrows",
         "pan"
        ],
        [
         "Zoom",
         "Zoom to rectangle",
         "square-o",
         "zoom"
        ],
        [
         "Download",
         "Download plot",
         "floppy-o",
         "save_figure"
        ]
       ]
      }
     },
     "55f747a7f419408ca15310edcc74c35a": {
      "model_module": "@jupyter-widgets/base",
      "model_module_version": "1.2.0",
      "model_name": "LayoutModel",
      "state": {}
     },
     "56162c683c384fc5988a7414c4759709": {
      "model_module": "@jupyter-widgets/base",
      "model_module_version": "1.2.0",
      "model_name": "LayoutModel",
      "state": {}
     },
     "5636c92d1b3d4a08b21d21dd61183745": {
      "model_module": "@jupyter-widgets/base",
      "model_module_version": "1.2.0",
      "model_name": "LayoutModel",
      "state": {}
     },
     "56672907532348fd9a770960e17f04c7": {
      "model_module": "@jupyter-widgets/base",
      "model_module_version": "1.2.0",
      "model_name": "LayoutModel",
      "state": {
       "border": "solid 4px #222",
       "margin": "4px",
       "padding": "0"
      }
     },
     "56aac044d4a44f3a8ab37b5276ab30aa": {
      "model_module": "@jupyter-widgets/controls",
      "model_module_version": "1.5.0",
      "model_name": "FloatSliderModel",
      "state": {
       "description": "Compression Threshold",
       "layout": "IPY_MODEL_02b93d52e0da421c94f1ca04a95c7e06",
       "max": 1,
       "step": 0.01,
       "style": "IPY_MODEL_43b0aa66015746958bd3f396f9bd2f84",
       "value": 0.8
      }
     },
     "56b79a6bf51445778bbb9da018e3f36b": {
      "model_module": "@jupyter-widgets/controls",
      "model_module_version": "1.5.0",
      "model_name": "SliderStyleModel",
      "state": {
       "description_width": ""
      }
     },
     "578698eba6704745bb6affbeb0f84e9b": {
      "model_module": "@jupyter-widgets/base",
      "model_module_version": "1.2.0",
      "model_name": "LayoutModel",
      "state": {}
     },
     "57874011907a45d494c82f75d24add41": {
      "model_module": "@jupyter-widgets/base",
      "model_module_version": "1.2.0",
      "model_name": "LayoutModel",
      "state": {}
     },
     "57a01c58890a4e828c30679af5223525": {
      "model_module": "@jupyter-widgets/controls",
      "model_module_version": "1.5.0",
      "model_name": "FloatSliderModel",
      "state": {
       "description": "225°",
       "layout": "IPY_MODEL_88f3d694c04e4633bc0d1284ac4cd15e",
       "max": 1,
       "min": -1,
       "step": 0.01,
       "style": "IPY_MODEL_be88ba0eb32b450aad2361d2f9adf7fd"
      }
     },
     "57a63e55dd6f4050adcb6e6d2b50c099": {
      "model_module": "@jupyter-widgets/controls",
      "model_module_version": "1.5.0",
      "model_name": "SliderStyleModel",
      "state": {
       "description_width": ""
      }
     },
     "57bf33a21cb54dd6b575c7ed43a7b1ed": {
      "model_module": "@jupyter-widgets/base",
      "model_module_version": "1.2.0",
      "model_name": "LayoutModel",
      "state": {}
     },
     "57d02c429e804ad8972320011999be2f": {
      "model_module": "@jupyter-widgets/base",
      "model_module_version": "1.2.0",
      "model_name": "LayoutModel",
      "state": {}
     },
     "580b409925374fa5a33441e0180b631b": {
      "model_module": "@jupyter-widgets/base",
      "model_module_version": "1.2.0",
      "model_name": "LayoutModel",
      "state": {}
     },
     "580b4bf269cb4d9b9fd2998fae0adf56": {
      "model_module": "@jupyter-widgets/base",
      "model_module_version": "1.2.0",
      "model_name": "LayoutModel",
      "state": {}
     },
     "58347ad2019e4889930f361c5b8a29c2": {
      "model_module": "jupyter-matplotlib",
      "model_module_version": "^0.7.2",
      "model_name": "MPLCanvasModel",
      "state": {
       "_figure_label": "Figure 23",
       "_height": 550,
       "_image_mode": "diff",
       "_width": 1100,
       "header_visible": false,
       "layout": "IPY_MODEL_bd3f76e6fe3844458e672f31ad498048",
       "resizable": false,
       "toolbar": "IPY_MODEL_55e21a47902342bda9d5438b70028140",
       "toolbar_position": "left",
       "toolbar_visible": false
      }
     },
     "583cfeeed3944fd8887a5aee65bb7c06": {
      "model_module": "@jupyter-widgets/base",
      "model_module_version": "1.2.0",
      "model_name": "LayoutModel",
      "state": {}
     },
     "5842de751a0a483183079bb6f11b5b5d": {
      "model_module": "@jupyter-widgets/base",
      "model_module_version": "1.2.0",
      "model_name": "LayoutModel",
      "state": {
       "align_items": "stretch",
       "display": "flex",
       "flex_flow": "column",
       "width": "1128px"
      }
     },
     "585651fa8cda40a7b6b4bb755f813446": {
      "model_module": "@jupyter-widgets/base",
      "model_module_version": "1.2.0",
      "model_name": "LayoutModel",
      "state": {}
     },
     "58614265804240cea77a2e127f9767bd": {
      "model_module": "@jupyter-widgets/controls",
      "model_module_version": "1.5.0",
      "model_name": "ButtonStyleModel",
      "state": {}
     },
     "587885e9653d47498f05df95f06a0b3c": {
      "model_module": "@jupyter-widgets/controls",
      "model_module_version": "1.5.0",
      "model_name": "SliderStyleModel",
      "state": {
       "description_width": ""
      }
     },
     "5899b5d88e744f3d9a7e1845c07a66f8": {
      "model_module": "@jupyter-widgets/base",
      "model_module_version": "1.2.0",
      "model_name": "LayoutModel",
      "state": {}
     },
     "58d69b9b15b14b3984e99891b0f7ff23": {
      "model_module": "@jupyter-widgets/controls",
      "model_module_version": "1.5.0",
      "model_name": "DescriptionStyleModel",
      "state": {
       "description_width": ""
      }
     },
     "594fd228be3a49789c6ebd33a4369776": {
      "model_module": "@jupyter-widgets/base",
      "model_module_version": "1.2.0",
      "model_name": "LayoutModel",
      "state": {
       "border": "solid 4px #222",
       "margin": "4px",
       "padding": "0"
      }
     },
     "5951145dd37c45a2863fa84c422ae115": {
      "model_module": "@jupyter-widgets/controls",
      "model_module_version": "1.5.0",
      "model_name": "SliderStyleModel",
      "state": {
       "description_width": ""
      }
     },
     "595780072f2f4eb6961ec2ac75a964ab": {
      "model_module": "@jupyter-widgets/controls",
      "model_module_version": "1.5.0",
      "model_name": "FloatSliderModel",
      "state": {
       "description": "Compression Threshold",
       "layout": "IPY_MODEL_1286fa0a3c92492e864e7a1433072d79",
       "max": 1,
       "step": 0.01,
       "style": "IPY_MODEL_e389453cfae64f02bb20d997dbec75aa",
       "value": 0.8
      }
     },
     "59a17f3777a545289feb35def484aad4": {
      "model_module": "@jupyter-widgets/controls",
      "model_module_version": "1.5.0",
      "model_name": "FloatSliderModel",
      "state": {
       "description": "Compression Threshold",
       "layout": "IPY_MODEL_62cffaa058524f6db6f2ee253423a8da",
       "max": 1,
       "step": 0.01,
       "style": "IPY_MODEL_c2cdfb1e01b748cbbc7a67d4ab7dd734",
       "value": 0.5
      }
     },
     "59bfdb286a044191a9fdef734fec180f": {
      "model_module": "@jupyter-widgets/base",
      "model_module_version": "1.2.0",
      "model_name": "LayoutModel",
      "state": {}
     },
     "59e74b9555324b5281838a8252c30589": {
      "model_module": "@jupyter-widgets/base",
      "model_module_version": "1.2.0",
      "model_name": "LayoutModel",
      "state": {}
     },
     "59fb1d1ef3c4469ea165c8b7e8348055": {
      "model_module": "@jupyter-widgets/controls",
      "model_module_version": "1.5.0",
      "model_name": "VBoxModel",
      "state": {
       "children": [
        "IPY_MODEL_0bfabd9ff3dd49009a587ed1d66bfb02",
        "IPY_MODEL_bfb3864cb9d645019777201d125209e7"
       ],
       "layout": "IPY_MODEL_34e23fce5cd2497c874bb6c553fdb383"
      }
     },
     "5a174a9471474b719f779a248d39dd15": {
      "model_module": "@jupyter-widgets/controls",
      "model_module_version": "1.5.0",
      "model_name": "TabModel",
      "state": {
       "_titles": {
        "0": "Global Controls",
        "1": "Protected Area Controls",
        "2": "Saturation Controls",
        "3": "Hue Controls"
       },
       "children": [
        "IPY_MODEL_32614fa0ea1d4372b8dcb1fb216e7f6f",
        "IPY_MODEL_e0a9cf4f92204d6081962f10ba937e54",
        "IPY_MODEL_74986bea1894483e838caceae2d72c52",
        "IPY_MODEL_5d8ff1814aed4d31b5a2274bbcde9cca"
       ],
       "layout": "IPY_MODEL_73c0e041e3ab42e984af9d24eadbeebe"
      }
     },
     "5a4cdf9180204678b888621732447ffb": {
      "model_module": "@jupyter-widgets/controls",
      "model_module_version": "1.5.0",
      "model_name": "ButtonModel",
      "state": {
       "description": "Reset Protected Area",
       "layout": "IPY_MODEL_17e2baba3ea3489080459841e9f0c7cf",
       "style": "IPY_MODEL_603949b4471d46af96fcc27f36800748"
      }
     },
     "5a51ef12546a4e6a994739c36a0a3636": {
      "model_module": "@jupyter-widgets/controls",
      "model_module_version": "1.5.0",
      "model_name": "ButtonModel",
      "state": {
       "description": "Reset Hue Controls",
       "layout": "IPY_MODEL_e1624045f50c4e589a18378d63602648",
       "style": "IPY_MODEL_461fe3d0c5c6489bbaf3f55adc06b91e"
      }
     },
     "5a978ec031e44083ad6c7e124ddf7147": {
      "model_module": "@jupyter-widgets/controls",
      "model_module_version": "1.5.0",
      "model_name": "ButtonModel",
      "state": {
       "description": "Save Figure",
       "layout": "IPY_MODEL_cbd6322544e7462eb2c0c0af98cb2b5a",
       "style": "IPY_MODEL_6ebee8e810ac442893874ec100157d91"
      }
     },
     "5a9d0433e9af42d2901d4bcb1b66292c": {
      "model_module": "jupyter-matplotlib",
      "model_module_version": "^0.7.2",
      "model_name": "MPLCanvasModel",
      "state": {
       "_figure_label": "Figure 8",
       "_height": 458,
       "_width": 1099,
       "header_visible": false,
       "layout": "IPY_MODEL_55f747a7f419408ca15310edcc74c35a",
       "resizable": false,
       "toolbar": "IPY_MODEL_fc27703fa39547339b8ba58f2355af64",
       "toolbar_position": "left",
       "toolbar_visible": false
      }
     },
     "5bc1f1f1f4b74d7f867e7014132ddb71": {
      "model_module": "@jupyter-widgets/controls",
      "model_module_version": "1.5.0",
      "model_name": "FloatSliderModel",
      "state": {
       "description": "270°",
       "layout": "IPY_MODEL_657b5758b92449cd879ace3c37c21a66",
       "max": 1,
       "min": -1,
       "step": 0.01,
       "style": "IPY_MODEL_01da071aa92046d78410f859e816cf68"
      }
     },
     "5bcca6a62f6e45e6878e5a838645524a": {
      "model_module": "@jupyter-widgets/controls",
      "model_module_version": "1.5.0",
      "model_name": "HBoxModel",
      "state": {
       "children": [
        "IPY_MODEL_420702f2ace14b4587338911b502160e",
        "IPY_MODEL_985781308bad4622b51411f879b3374a",
        "IPY_MODEL_abe8e99dc1ca4c989e82e7717d5527ed"
       ],
       "layout": "IPY_MODEL_d4a2a40c118a4d52bb590cb0e86bd59b"
      }
     },
     "5be08e91a1c54b40a46af0d23ead0726": {
      "model_module": "@jupyter-widgets/controls",
      "model_module_version": "1.5.0",
      "model_name": "ButtonStyleModel",
      "state": {}
     },
     "5c4556af2f11439e8b4afd477a455230": {
      "model_module": "@jupyter-widgets/controls",
      "model_module_version": "1.5.0",
      "model_name": "VBoxModel",
      "state": {
       "children": [
        "IPY_MODEL_0058301b111f4425bb409cde4f29cbb7",
        "IPY_MODEL_d506f96d7b9a4677b1784e57797d275c"
       ],
       "layout": "IPY_MODEL_35f128e4dd0f405caa43ee31076b8a61"
      }
     },
     "5c4bf464ef004cc6bd537fb44c955d18": {
      "model_module": "@jupyter-widgets/controls",
      "model_module_version": "1.5.0",
      "model_name": "SliderStyleModel",
      "state": {
       "description_width": ""
      }
     },
     "5c68307af33948348ad8b1b28fb38d92": {
      "model_module": "@jupyter-widgets/base",
      "model_module_version": "1.2.0",
      "model_name": "LayoutModel",
      "state": {}
     },
     "5cac01c1dda94ef1a1f22c0f5bac7c57": {
      "model_module": "@jupyter-widgets/base",
      "model_module_version": "1.2.0",
      "model_name": "LayoutModel",
      "state": {
       "border": "solid 4px #222",
       "margin": "4px",
       "padding": "0"
      }
     },
     "5d1f189396634f38b7866bd6fb7e2edd": {
      "model_module": "@jupyter-widgets/controls",
      "model_module_version": "1.5.0",
      "model_name": "SliderStyleModel",
      "state": {
       "description_width": ""
      }
     },
     "5d5b7c27f16440eca657bfa9f7c7f879": {
      "model_module": "@jupyter-widgets/controls",
      "model_module_version": "1.5.0",
      "model_name": "SliderStyleModel",
      "state": {
       "description_width": ""
      }
     },
     "5d8ff1814aed4d31b5a2274bbcde9cca": {
      "model_module": "@jupyter-widgets/controls",
      "model_module_version": "1.5.0",
      "model_name": "HBoxModel",
      "state": {
       "children": [
        "IPY_MODEL_519173486c374fb3bc00eaa0f6f263c6",
        "IPY_MODEL_7f83a839293b4caf9f478af51f359629",
        "IPY_MODEL_09fc16ddfc724d329bf99418cec3cf7a",
        "IPY_MODEL_a1fab2c6d03f4ad59c8ed7d4d448e71d"
       ],
       "layout": "IPY_MODEL_7ba31bda438245e29495aaa699d2486d"
      }
     },
     "5dfb29fd206248f7849c1ca32b86c3a6": {
      "model_module": "@jupyter-widgets/controls",
      "model_module_version": "1.5.0",
      "model_name": "ButtonModel",
      "state": {
       "description": "Reset Protected Area",
       "layout": "IPY_MODEL_89acffa025364b9b972f5c100aec2ae5",
       "style": "IPY_MODEL_b9c323c4e9ad4bc3818c52880dd3cab9"
      }
     },
     "5e1af7a639ea47bcbe6a2a41dab96ab8": {
      "model_module": "@jupyter-widgets/controls",
      "model_module_version": "1.5.0",
      "model_name": "BoxModel",
      "state": {
       "children": [
        "IPY_MODEL_d0154054fb0343dab8ae6335a50aa5ee",
        "IPY_MODEL_ff91833b90c148f3b7a6608e40c55800"
       ],
       "layout": "IPY_MODEL_ec5e24383da04dedafb9e64f5d7177c2"
      }
     },
     "5e29725e4a494483be341cdca141a281": {
      "model_module": "@jupyter-widgets/base",
      "model_module_version": "1.2.0",
      "model_name": "LayoutModel",
      "state": {}
     },
     "5e6c00249bc34bf9bbc203b749cb093b": {
      "model_module": "@jupyter-widgets/base",
      "model_module_version": "1.2.0",
      "model_name": "LayoutModel",
      "state": {}
     },
     "5ea507136df94b50a886f45f650e6dbe": {
      "model_module": "@jupyter-widgets/controls",
      "model_module_version": "1.5.0",
      "model_name": "VBoxModel",
      "state": {
       "children": [
        "IPY_MODEL_ce6cb28719654ff0bf000e475d05822b",
        "IPY_MODEL_476265850e8b485a960f2e3321f55b11",
        "IPY_MODEL_65edd9c7ae354f9e9836fb4a5ae17eec"
       ],
       "layout": "IPY_MODEL_5899b5d88e744f3d9a7e1845c07a66f8"
      }
     },
     "5f6b998f7a584dd28efe106e7f5639f0": {
      "model_module": "@jupyter-widgets/base",
      "model_module_version": "1.2.0",
      "model_name": "LayoutModel",
      "state": {}
     },
     "5fa58bf192cc4a149598ad974d16ecf1": {
      "model_module": "@jupyter-widgets/controls",
      "model_module_version": "1.5.0",
      "model_name": "BoxModel",
      "state": {
       "children": [
        "IPY_MODEL_018f7375117d454ba630160be2a773af",
        "IPY_MODEL_10159226d888481dbb809c1708469a01"
       ],
       "layout": "IPY_MODEL_15f8f869e8b146bba965ff4a016b6fd2"
      }
     },
     "600d74b278c5411fb7564f6994c353f1": {
      "model_module": "@jupyter-widgets/base",
      "model_module_version": "1.2.0",
      "model_name": "LayoutModel",
      "state": {
       "align_items": "stretch",
       "display": "flex",
       "flex_flow": "column",
       "width": "1128px"
      }
     },
     "60346ea748414361836c9a9a2885380a": {
      "model_module": "@jupyter-widgets/controls",
      "model_module_version": "1.5.0",
      "model_name": "FloatSliderModel",
      "state": {
       "description": "225°",
       "layout": "IPY_MODEL_93ad137f1da4447698f415f7469abca8",
       "max": 1,
       "min": -1,
       "step": 0.01,
       "style": "IPY_MODEL_e43e4146be0f45889cf4cef6d1dbe806"
      }
     },
     "603949b4471d46af96fcc27f36800748": {
      "model_module": "@jupyter-widgets/controls",
      "model_module_version": "1.5.0",
      "model_name": "ButtonStyleModel",
      "state": {}
     },
     "608b5af7adb64918a0b3f0eff8f051bd": {
      "model_module": "@jupyter-widgets/base",
      "model_module_version": "1.2.0",
      "model_name": "LayoutModel",
      "state": {}
     },
     "60ae1ce14a88410594c07044d177dd41": {
      "model_module": "@jupyter-widgets/base",
      "model_module_version": "1.2.0",
      "model_name": "LayoutModel",
      "state": {}
     },
     "60ddeac35bed4c16b4b505041763f3ff": {
      "model_module": "@jupyter-widgets/output",
      "model_module_version": "1.0.0",
      "model_name": "OutputModel",
      "state": {
       "layout": "IPY_MODEL_8fddd0fff7904f75a483438ee48a23e3",
       "outputs": [
        {
         "data": {
          "application/vnd.jupyter.widget-view+json": {
           "model_id": "aa382f6bd7c44ca28363b90663f063c9",
           "version_major": 2,
           "version_minor": 0
          },
          "text/plain": "Canvas(toolbar=Toolbar(toolitems=[('Home', 'Reset original view', 'home', 'home'), ('Back', 'Back to previous …"
         },
         "metadata": {},
         "output_type": "display_data"
        }
       ]
      }
     },
     "60eed475dc134855a775b499a359b5b3": {
      "model_module": "@jupyter-widgets/base",
      "model_module_version": "1.2.0",
      "model_name": "LayoutModel",
      "state": {}
     },
     "614a51e79b954882a431c04e5a3c8251": {
      "model_module": "@jupyter-widgets/base",
      "model_module_version": "1.2.0",
      "model_name": "LayoutModel",
      "state": {
       "border": "solid 4px #222",
       "margin": "4px",
       "padding": "0"
      }
     },
     "614fc22047974348864d12759f9a7aed": {
      "model_module": "@jupyter-widgets/controls",
      "model_module_version": "1.5.0",
      "model_name": "SliderStyleModel",
      "state": {
       "description_width": ""
      }
     },
     "6158458fd1dc4eb68d7bbe060cbc6a00": {
      "model_module": "@jupyter-widgets/base",
      "model_module_version": "1.2.0",
      "model_name": "LayoutModel",
      "state": {
       "border": "solid 4px #222",
       "margin": "4px",
       "padding": "0"
      }
     },
     "61645c894447472eb435ac9136c03e8a": {
      "model_module": "@jupyter-widgets/controls",
      "model_module_version": "1.5.0",
      "model_name": "HBoxModel",
      "state": {
       "children": [
        "IPY_MODEL_4e0ba14b30ef4915a954221947a1c1ce",
        "IPY_MODEL_b3ebbbe7632c40f193e755e3f5ab7467",
        "IPY_MODEL_540003ffdf37433e8228faeb1f1c3c7c",
        "IPY_MODEL_5c4556af2f11439e8b4afd477a455230"
       ],
       "layout": "IPY_MODEL_585651fa8cda40a7b6b4bb755f813446"
      }
     },
     "62612cfca9a64a18b85b837fe6729d82": {
      "model_module": "@jupyter-widgets/base",
      "model_module_version": "1.2.0",
      "model_name": "LayoutModel",
      "state": {}
     },
     "62901d94cc464d54b71d9cfa9b1792e1": {
      "model_module": "@jupyter-widgets/controls",
      "model_module_version": "1.5.0",
      "model_name": "TabModel",
      "state": {
       "_titles": {
        "0": "Global Controls"
       },
       "children": [
        "IPY_MODEL_f7f326f6dbb54983971cf84bd73277ea"
       ],
       "layout": "IPY_MODEL_2cebcb21d1e34674aa00d2c4b24fbd03"
      }
     },
     "629c8dca878a41d6a36e0e688319b277": {
      "model_module": "@jupyter-widgets/controls",
      "model_module_version": "1.5.0",
      "model_name": "ButtonModel",
      "state": {
       "description": "Reset Protected Area",
       "layout": "IPY_MODEL_1713033ac3f34c2297f476277c526dd4",
       "style": "IPY_MODEL_97c967a9cddf42318d8d6fb218da958d"
      }
     },
     "62bc96d959864d6c8392d086839654cf": {
      "model_module": "jupyter-matplotlib",
      "model_module_version": "^0.7.2",
      "model_name": "ToolbarModel",
      "state": {
       "layout": "IPY_MODEL_b7feecee9895479aa92d84dd5a71d338",
       "toolitems": [
        [
         "Home",
         "Reset original view",
         "home",
         "home"
        ],
        [
         "Back",
         "Back to previous view",
         "arrow-left",
         "back"
        ],
        [
         "Forward",
         "Forward to next view",
         "arrow-right",
         "forward"
        ],
        [
         "Pan",
         "Pan axes with left mouse, zoom with right",
         "arrows",
         "pan"
        ],
        [
         "Zoom",
         "Zoom to rectangle",
         "square-o",
         "zoom"
        ],
        [
         "Download",
         "Download plot",
         "floppy-o",
         "save_figure"
        ]
       ]
      }
     },
     "62c683f25abe4883b491d23f8ec8457b": {
      "model_module": "@jupyter-widgets/controls",
      "model_module_version": "1.5.0",
      "model_name": "CheckboxModel",
      "state": {
       "description": "Disable Medicina",
       "disabled": false,
       "layout": "IPY_MODEL_f8f1d308704f4376914e2ff8dac6c4fa",
       "style": "IPY_MODEL_f81e91f500044f2c81ea843fce0b3f37",
       "value": false
      }
     },
     "62c839034f7e41009b0302d04fe362dd": {
      "model_module": "@jupyter-widgets/base",
      "model_module_version": "1.2.0",
      "model_name": "LayoutModel",
      "state": {}
     },
     "62cffaa058524f6db6f2ee253423a8da": {
      "model_module": "@jupyter-widgets/base",
      "model_module_version": "1.2.0",
      "model_name": "LayoutModel",
      "state": {}
     },
     "635211da3b54417eacca9ed4cfe8bf89": {
      "model_module": "@jupyter-widgets/controls",
      "model_module_version": "1.5.0",
      "model_name": "CheckboxModel",
      "state": {
       "description": "Disable Medicina",
       "disabled": false,
       "layout": "IPY_MODEL_b83c2dfbe4954ce38c05115ec76389f9",
       "style": "IPY_MODEL_836916a699fa40c29b242f16f4845b52",
       "value": false
      }
     },
     "638a338ed10f4fb791b2831b265241cb": {
      "model_module": "@jupyter-widgets/base",
      "model_module_version": "1.2.0",
      "model_name": "LayoutModel",
      "state": {}
     },
     "63976865d41f4a9db9d3aa9cf6a7b20a": {
      "model_module": "@jupyter-widgets/controls",
      "model_module_version": "1.5.0",
      "model_name": "HBoxModel",
      "state": {
       "children": [
        "IPY_MODEL_3e9e7473c8334242b8c62d5a83fdfabc",
        "IPY_MODEL_f99ace2b33374139aeb35a29df736eb6",
        "IPY_MODEL_e04c0df2206b4c0b968ab23ed225ff7f",
        "IPY_MODEL_0637c87b3b6b42a3b9c79b48c4833731"
       ],
       "layout": "IPY_MODEL_357ba65378b64a5c9079af50e0e701af"
      }
     },
     "64022e210f444f36aa60a4b23d64db1c": {
      "model_module": "@jupyter-widgets/controls",
      "model_module_version": "1.5.0",
      "model_name": "VBoxModel",
      "state": {
       "children": [
        "IPY_MODEL_2e5658e5026348f5a53bc884cb7f9e7b",
        "IPY_MODEL_9d55b6f572af43b3b911eff098cc8110",
        "IPY_MODEL_60346ea748414361836c9a9a2885380a"
       ],
       "layout": "IPY_MODEL_506a00763b8947f49efa3cfed78c53b5"
      }
     },
     "640419ef2c2c45a1a8d0e40e4b5010cf": {
      "model_module": "jupyter-matplotlib",
      "model_module_version": "^0.7.2",
      "model_name": "MPLCanvasModel",
      "state": {
       "_figure_label": "Figure 2",
       "_height": 396,
       "_width": 1100,
       "header_visible": false,
       "layout": "IPY_MODEL_a2583f059fbb48ba9a102cd7451d2fb7",
       "resizable": false,
       "toolbar": "IPY_MODEL_95b366e964924ca280237bb10e138ed7",
       "toolbar_position": "left",
       "toolbar_visible": false
      }
     },
     "6426d011699a4df7bbf93c03a9eb3be8": {
      "model_module": "@jupyter-widgets/controls",
      "model_module_version": "1.5.0",
      "model_name": "CheckboxModel",
      "state": {
       "description": "Disable Medicina",
       "disabled": false,
       "layout": "IPY_MODEL_55314427d62c436686c67a231ca2ac10",
       "style": "IPY_MODEL_6d3201942157420b86c6e4742b8ed737",
       "value": false
      }
     },
     "642e7844aba24ce3a6c2564e04d9402f": {
      "model_module": "@jupyter-widgets/base",
      "model_module_version": "1.2.0",
      "model_name": "LayoutModel",
      "state": {}
     },
     "6446ecea5332464bba46c683ec907855": {
      "model_module": "@jupyter-widgets/controls",
      "model_module_version": "1.5.0",
      "model_name": "ButtonModel",
      "state": {
       "description": "Export Image",
       "layout": "IPY_MODEL_e80ac0c112ae4b53823ab9fd8beba559",
       "style": "IPY_MODEL_b0e47323df6d4ba092d299d4174b333e"
      }
     },
     "64eecffb4d2f4d9e910cdf56d6ae09e8": {
      "model_module": "@jupyter-widgets/base",
      "model_module_version": "1.2.0",
      "model_name": "LayoutModel",
      "state": {}
     },
     "64f13b23f7ad4c09bd9a4df5933e2858": {
      "model_module": "@jupyter-widgets/base",
      "model_module_version": "1.2.0",
      "model_name": "LayoutModel",
      "state": {}
     },
     "651b5adcde61486ea6a50a4e8ff1c066": {
      "model_module": "@jupyter-widgets/controls",
      "model_module_version": "1.5.0",
      "model_name": "TabModel",
      "state": {
       "_titles": {
        "0": "Global Controls",
        "1": "Protected Area Controls",
        "2": "Saturation Controls",
        "3": "Hue Controls"
       },
       "children": [
        "IPY_MODEL_8fb28d871433402dbd660538cae4b416",
        "IPY_MODEL_d9e312ac410740c7b1adb8068356bb2c",
        "IPY_MODEL_0887f69f2d45423c8a88f927560a17fb",
        "IPY_MODEL_1b4a6e8ea86043d393edf101b127da76"
       ],
       "layout": "IPY_MODEL_e68f7b7a66404b5099641386eeba8138"
      }
     },
     "657b5758b92449cd879ace3c37c21a66": {
      "model_module": "@jupyter-widgets/base",
      "model_module_version": "1.2.0",
      "model_name": "LayoutModel",
      "state": {}
     },
     "65edd9c7ae354f9e9836fb4a5ae17eec": {
      "model_module": "@jupyter-widgets/controls",
      "model_module_version": "1.5.0",
      "model_name": "FloatSliderModel",
      "state": {
       "description": "90°",
       "layout": "IPY_MODEL_b06a9be21d164748925fbcd0f1d07a4f",
       "max": 1,
       "min": -1,
       "step": 0.01,
       "style": "IPY_MODEL_57a63e55dd6f4050adcb6e6d2b50c099"
      }
     },
     "66a566b639354fbaa40cfe0237c639ae": {
      "model_module": "@jupyter-widgets/controls",
      "model_module_version": "1.5.0",
      "model_name": "ButtonStyleModel",
      "state": {}
     },
     "66b71c24ea7f4fa18fb8aefdb16f5f82": {
      "model_module": "@jupyter-widgets/base",
      "model_module_version": "1.2.0",
      "model_name": "LayoutModel",
      "state": {}
     },
     "66bae18d127145c8ab74e84b532e4efe": {
      "model_module": "@jupyter-widgets/controls",
      "model_module_version": "1.5.0",
      "model_name": "SliderStyleModel",
      "state": {
       "description_width": ""
      }
     },
     "671e4c8231af474496f19f9905961168": {
      "model_module": "@jupyter-widgets/controls",
      "model_module_version": "1.5.0",
      "model_name": "BoxModel",
      "state": {
       "children": [
        "IPY_MODEL_95bad9c1f5ed4094bea2049b7019295e",
        "IPY_MODEL_3e35751f653743969f43695b671f12b0"
       ],
       "layout": "IPY_MODEL_3e5100f7b78c46a7a99845ad320f3efa"
      }
     },
     "674af6c5cd4e4e6484b407654f29d00b": {
      "model_module": "@jupyter-widgets/controls",
      "model_module_version": "1.5.0",
      "model_name": "FloatSliderModel",
      "state": {
       "description": "45°",
       "layout": "IPY_MODEL_d9613fab4e1b4890a5332be8e75bd074",
       "max": 1,
       "min": -1,
       "step": 0.01,
       "style": "IPY_MODEL_4921a17bb6144a8bb8c72afc516bb8f0"
      }
     },
     "675547cfbcd643e481d2db1b603006db": {
      "model_module": "@jupyter-widgets/controls",
      "model_module_version": "1.5.0",
      "model_name": "SliderStyleModel",
      "state": {
       "description_width": ""
      }
     },
     "680f5b5264cc4867973165c819307491": {
      "model_module": "jupyter-matplotlib",
      "model_module_version": "^0.7.2",
      "model_name": "MPLCanvasModel",
      "state": {
       "_figure_label": "Figure 3",
       "_height": 396,
       "_width": 1100,
       "header_visible": false,
       "layout": "IPY_MODEL_b0dd0999daf543d7ac1ae145ee60c16a",
       "resizable": false,
       "toolbar": "IPY_MODEL_11a874aba7d649388006d92e12eca958",
       "toolbar_position": "left",
       "toolbar_visible": false
      }
     },
     "685c9cf2dd2a4577b87ebca4400c31cf": {
      "model_module": "@jupyter-widgets/controls",
      "model_module_version": "1.5.0",
      "model_name": "FloatSliderModel",
      "state": {
       "description": "315°",
       "layout": "IPY_MODEL_f3743fa935644a43b488247867cfa00a",
       "max": 1,
       "min": -1,
       "step": 0.01,
       "style": "IPY_MODEL_ff1e808a703f404e8a161d134fc75d16"
      }
     },
     "6861a285c4334e9e94e4962488d9e122": {
      "model_module": "@jupyter-widgets/controls",
      "model_module_version": "1.5.0",
      "model_name": "CheckboxModel",
      "state": {
       "description": "Disable Medicina",
       "disabled": false,
       "layout": "IPY_MODEL_df469d38241f4d09b9079ca74b4d61e3",
       "style": "IPY_MODEL_d8de10723cfc47188e66c64e8ce62368",
       "value": false
      }
     },
     "68afdb280afe4ba4a7d559d072bea35f": {
      "model_module": "@jupyter-widgets/controls",
      "model_module_version": "1.5.0",
      "model_name": "HBoxModel",
      "state": {
       "children": [
        "IPY_MODEL_eaff0116722a4b559bf2a76e2285eb58",
        "IPY_MODEL_a4e121abcff74994beb25d757ec0c365",
        "IPY_MODEL_9ec5bb7d74e745be8d11ac76990cb97e",
        "IPY_MODEL_fc20bdc5922446fbb9e05a287516b584"
       ],
       "layout": "IPY_MODEL_68d6df1fa53d4ce2bcf9afef73345447"
      }
     },
     "68d6df1fa53d4ce2bcf9afef73345447": {
      "model_module": "@jupyter-widgets/base",
      "model_module_version": "1.2.0",
      "model_name": "LayoutModel",
      "state": {}
     },
     "696d988c27d74002a844f04f316e5f72": {
      "model_module": "@jupyter-widgets/base",
      "model_module_version": "1.2.0",
      "model_name": "LayoutModel",
      "state": {}
     },
     "69a3e77609874f8bb9507198c9261f74": {
      "model_module": "@jupyter-widgets/controls",
      "model_module_version": "1.5.0",
      "model_name": "HBoxModel",
      "state": {
       "children": [
        "IPY_MODEL_e0459b2e163a4f688aac221ff7383980",
        "IPY_MODEL_87a7ed2d11134105b7ba7a8449579f3a",
        "IPY_MODEL_912fac56c2b0450888e8aa86c158d583"
       ],
       "layout": "IPY_MODEL_cef9649a97d14ada8d914e94105c3d24"
      }
     },
     "6a5d520432da49e59c6334d8a846bbe8": {
      "model_module": "@jupyter-widgets/output",
      "model_module_version": "1.0.0",
      "model_name": "OutputModel",
      "state": {
       "layout": "IPY_MODEL_ac846661cbe34ba493ff1f96e4d927da",
       "outputs": [
        {
         "data": {
          "application/vnd.jupyter.widget-view+json": {
           "model_id": "5a9d0433e9af42d2901d4bcb1b66292c",
           "version_major": 2,
           "version_minor": 0
          },
          "text/plain": "Canvas(toolbar=Toolbar(toolitems=[('Home', 'Reset original view', 'home', 'home'), ('Back', 'Back to previous …"
         },
         "metadata": {},
         "output_type": "display_data"
        }
       ]
      }
     },
     "6a88c3dde24340ed9e9bad25a4d8eb45": {
      "model_module": "@jupyter-widgets/base",
      "model_module_version": "1.2.0",
      "model_name": "LayoutModel",
      "state": {}
     },
     "6aa766aaa1154c5fa085761650052ee7": {
      "model_module": "@jupyter-widgets/controls",
      "model_module_version": "1.5.0",
      "model_name": "ButtonModel",
      "state": {
       "description": "Export Image",
       "layout": "IPY_MODEL_980625bdc41c48618fde2007e06544d4",
       "style": "IPY_MODEL_fce74f40517d4ee4865e742c7de2df8c"
      }
     },
     "6ab7431158f348d9bdba389f9012a0c3": {
      "model_module": "@jupyter-widgets/controls",
      "model_module_version": "1.5.0",
      "model_name": "HBoxModel",
      "state": {
       "children": [
        "IPY_MODEL_9eed0ffd5df54f0a9e69454258ff4e08",
        "IPY_MODEL_b62c4d52561746efa9b2ef6f3a113b45",
        "IPY_MODEL_ae107cd54a0c402ab7cfee0f593647e4"
       ],
       "layout": "IPY_MODEL_10d7e6ebcf83471b8790b54cffd49b8a"
      }
     },
     "6b0116e004e847f6987788e586eee81a": {
      "model_module": "@jupyter-widgets/base",
      "model_module_version": "1.2.0",
      "model_name": "LayoutModel",
      "state": {}
     },
     "6b1cffc9625a4a8ca1ccbbc93bfb105a": {
      "model_module": "@jupyter-widgets/controls",
      "model_module_version": "1.5.0",
      "model_name": "DescriptionStyleModel",
      "state": {
       "description_width": ""
      }
     },
     "6b40c6d43b034f37884f9e83b44e4813": {
      "model_module": "@jupyter-widgets/controls",
      "model_module_version": "1.5.0",
      "model_name": "DescriptionStyleModel",
      "state": {
       "description_width": ""
      }
     },
     "6b435fbd4b924052abcd5d425638a3df": {
      "model_module": "@jupyter-widgets/base",
      "model_module_version": "1.2.0",
      "model_name": "LayoutModel",
      "state": {}
     },
     "6b4588361c4e4534bd7a73e0df3058d4": {
      "model_module": "@jupyter-widgets/controls",
      "model_module_version": "1.5.0",
      "model_name": "ButtonModel",
      "state": {
       "description": "Save Figure",
       "layout": "IPY_MODEL_e168eccd6cf5448388b4801090adcc0f",
       "style": "IPY_MODEL_544ee9cac66b4ab9bf510eeab13f409c"
      }
     },
     "6b81889e37d640dab571f6d8c0f31012": {
      "model_module": "@jupyter-widgets/controls",
      "model_module_version": "1.5.0",
      "model_name": "CheckboxModel",
      "state": {
       "description": "Disable Medicina",
       "disabled": false,
       "layout": "IPY_MODEL_a761f3cbfc48495b9a167e60b9fa5e7a",
       "style": "IPY_MODEL_4968f274e1c84f469b92ba0d375c9807",
       "value": false
      }
     },
     "6c150128ee5e46938b680a45fd798185": {
      "model_module": "@jupyter-widgets/base",
      "model_module_version": "1.2.0",
      "model_name": "LayoutModel",
      "state": {}
     },
     "6c2e04932e624e369c06dd6f88d33631": {
      "model_module": "@jupyter-widgets/controls",
      "model_module_version": "1.5.0",
      "model_name": "FloatSliderModel",
      "state": {
       "description": "180°",
       "layout": "IPY_MODEL_d6c41f60c8a04ce68608779122a957a3",
       "max": 1,
       "min": -1,
       "step": 0.01,
       "style": "IPY_MODEL_b145348cdc5a43b49317bea4eb2e560c"
      }
     },
     "6c429a63807946e7ae110a956a2de279": {
      "model_module": "@jupyter-widgets/controls",
      "model_module_version": "1.5.0",
      "model_name": "CheckboxModel",
      "state": {
       "description": "Disable Medicina",
       "disabled": false,
       "layout": "IPY_MODEL_1474caefa0c34184b9c979fdf000a663",
       "style": "IPY_MODEL_eac278b1e5ac4f5e922678659fa5b677",
       "value": false
      }
     },
     "6c4968c658554208988a7b1b4a3a9859": {
      "model_module": "@jupyter-widgets/controls",
      "model_module_version": "1.5.0",
      "model_name": "HBoxModel",
      "state": {
       "children": [
        "IPY_MODEL_f2e9a1c281b5414199a5141aafa6c909",
        "IPY_MODEL_42e396fdb6db41bc84bd2f4145fd5efc",
        "IPY_MODEL_7ea4d813eb0c4cb3a2f4e6c80e3ad358"
       ],
       "layout": "IPY_MODEL_49aae0aab0dc4b3b903a1d41054c4382"
      }
     },
     "6c4c02dbea694a4ea85c04c8f2847e77": {
      "model_module": "@jupyter-widgets/controls",
      "model_module_version": "1.5.0",
      "model_name": "TabModel",
      "state": {
       "_titles": {
        "0": "Global Controls",
        "1": "Protected Area Controls",
        "2": "Saturation Controls",
        "3": "Hue Controls"
       },
       "children": [
        "IPY_MODEL_d1651024b22946f3b470f6710477b2bd",
        "IPY_MODEL_45110cc003224c67a52a59cf4c665c96",
        "IPY_MODEL_e6a9d661cb31402b8097bfac80152040",
        "IPY_MODEL_68afdb280afe4ba4a7d559d072bea35f"
       ],
       "layout": "IPY_MODEL_f205a204b35a4bd68610d26898a96fbf"
      }
     },
     "6ccdd3e1e6c643309d6051549777d0d4": {
      "model_module": "@jupyter-widgets/base",
      "model_module_version": "1.2.0",
      "model_name": "LayoutModel",
      "state": {}
     },
     "6d3201942157420b86c6e4742b8ed737": {
      "model_module": "@jupyter-widgets/controls",
      "model_module_version": "1.5.0",
      "model_name": "DescriptionStyleModel",
      "state": {
       "description_width": ""
      }
     },
     "6d3500b5bd094172a95059ee6ef2cd52": {
      "model_module": "@jupyter-widgets/controls",
      "model_module_version": "1.5.0",
      "model_name": "CheckboxModel",
      "state": {
       "description": "Disable Medicina",
       "disabled": false,
       "layout": "IPY_MODEL_f271ee7b3be94056a6a2d1bbfce4a365",
       "style": "IPY_MODEL_6e71a2019b304a85827bf8eb6cbaea55",
       "value": false
      }
     },
     "6d6b22acc08e4921928325ce0d0ce703": {
      "model_module": "@jupyter-widgets/base",
      "model_module_version": "1.2.0",
      "model_name": "LayoutModel",
      "state": {}
     },
     "6da1b58c2f044174a7b7702ea7c2970b": {
      "model_module": "@jupyter-widgets/base",
      "model_module_version": "1.2.0",
      "model_name": "LayoutModel",
      "state": {}
     },
     "6deb0973d4e644bcaff322dc3ff989f5": {
      "model_module": "@jupyter-widgets/base",
      "model_module_version": "1.2.0",
      "model_name": "LayoutModel",
      "state": {}
     },
     "6e5dbdfa7f864013be53dedc3d7bdccb": {
      "model_module": "@jupyter-widgets/controls",
      "model_module_version": "1.5.0",
      "model_name": "FloatSliderModel",
      "state": {
       "description": "135°",
       "layout": "IPY_MODEL_4109316eb20545198aaf0b8ac2d79d4a",
       "max": 1,
       "min": -1,
       "step": 0.01,
       "style": "IPY_MODEL_e12bbb40e48b4b97a28f1af9aaf064ae"
      }
     },
     "6e71a2019b304a85827bf8eb6cbaea55": {
      "model_module": "@jupyter-widgets/controls",
      "model_module_version": "1.5.0",
      "model_name": "DescriptionStyleModel",
      "state": {
       "description_width": ""
      }
     },
     "6e883ca1da4540b8aea144a0b6b5196e": {
      "model_module": "@jupyter-widgets/base",
      "model_module_version": "1.2.0",
      "model_name": "LayoutModel",
      "state": {}
     },
     "6ebee8e810ac442893874ec100157d91": {
      "model_module": "@jupyter-widgets/controls",
      "model_module_version": "1.5.0",
      "model_name": "ButtonStyleModel",
      "state": {}
     },
     "6f014682059f4a0baf3cd77d3dbad4df": {
      "model_module": "@jupyter-widgets/controls",
      "model_module_version": "1.5.0",
      "model_name": "DropdownModel",
      "state": {
       "_options_labels": [
        "tanh",
        "simple"
       ],
       "description": "Compression Function:",
       "index": 0,
       "layout": "IPY_MODEL_af80f60f4f8c4e87a9e8ab86bfaf0ed7",
       "style": "IPY_MODEL_99102b6de69843e7a09cbc661bcb47e5"
      }
     },
     "6f06875c232e4da19f1e8c2f4bfcb0fb": {
      "model_module": "@jupyter-widgets/base",
      "model_module_version": "1.2.0",
      "model_name": "LayoutModel",
      "state": {}
     },
     "6f073bfea1b34abb979d7ee3c7cf8497": {
      "model_module": "@jupyter-widgets/base",
      "model_module_version": "1.2.0",
      "model_name": "LayoutModel",
      "state": {}
     },
     "6f0e9c5eff054951ace585e679815686": {
      "model_module": "@jupyter-widgets/controls",
      "model_module_version": "1.5.0",
      "model_name": "SliderStyleModel",
      "state": {
       "description_width": ""
      }
     },
     "6f677cdb6b234a4fae3660ddae07b2ac": {
      "model_module": "@jupyter-widgets/controls",
      "model_module_version": "1.5.0",
      "model_name": "DescriptionStyleModel",
      "state": {
       "description_width": ""
      }
     },
     "6face6e4824c49e68c55a10d2236dab9": {
      "model_module": "@jupyter-widgets/controls",
      "model_module_version": "1.5.0",
      "model_name": "ButtonModel",
      "state": {
       "description": "Save Figure",
       "layout": "IPY_MODEL_2f1be6225bfa4e939b22bfd5a3b1572e",
       "style": "IPY_MODEL_01c4c82dfdc645688a624c7f743fe9ad"
      }
     },
     "6fd0ad55974a4c6396c609377f72e5a9": {
      "model_module": "@jupyter-widgets/base",
      "model_module_version": "1.2.0",
      "model_name": "LayoutModel",
      "state": {
       "align_items": "stretch",
       "display": "flex",
       "flex_flow": "column",
       "width": "1128px"
      }
     },
     "710bc997725e4fcf9eb8fbb59c03df48": {
      "model_module": "@jupyter-widgets/controls",
      "model_module_version": "1.5.0",
      "model_name": "HBoxModel",
      "state": {
       "children": [
        "IPY_MODEL_3025fcd1d412477195a36013edad6553",
        "IPY_MODEL_e1cd2e8966c942d5b0f53c7134f1bc72",
        "IPY_MODEL_b73716a084b44888b827e5aa4efb69bd"
       ],
       "layout": "IPY_MODEL_0ba2de8d03ea4920bc72001c72d475eb"
      }
     },
     "712ad1e8ac5943a2a7819b1c2d582d0f": {
      "model_module": "@jupyter-widgets/controls",
      "model_module_version": "1.5.0",
      "model_name": "ButtonModel",
      "state": {
       "description": "Reset Protected Area",
       "layout": "IPY_MODEL_9f5f20168cf04c89a2330f84c7494785",
       "style": "IPY_MODEL_096fa27b28704d6dbba2134a3be2d892"
      }
     },
     "713bbe37664e43f59d96f78e4fdb11df": {
      "model_module": "@jupyter-widgets/controls",
      "model_module_version": "1.5.0",
      "model_name": "ButtonStyleModel",
      "state": {}
     },
     "713eba50cff4490d822979c1be6f1dc6": {
      "model_module": "@jupyter-widgets/controls",
      "model_module_version": "1.5.0",
      "model_name": "ButtonModel",
      "state": {
       "description": "Save Figure",
       "layout": "IPY_MODEL_71984c0d1d784a439b3bb7b321a455c5",
       "style": "IPY_MODEL_c34272f3c53544b99257cccf340341b0"
      }
     },
     "7143430e16f44052a924779c815abbaf": {
      "model_module": "@jupyter-widgets/base",
      "model_module_version": "1.2.0",
      "model_name": "LayoutModel",
      "state": {}
     },
     "71984c0d1d784a439b3bb7b321a455c5": {
      "model_module": "@jupyter-widgets/base",
      "model_module_version": "1.2.0",
      "model_name": "LayoutModel",
      "state": {}
     },
     "71d85a95eb7e4ca9ba49c95244eac07d": {
      "model_module": "@jupyter-widgets/controls",
      "model_module_version": "1.5.0",
      "model_name": "HBoxModel",
      "state": {
       "children": [
        "IPY_MODEL_30a1589be08340dfae05d17ab1d2bb83",
        "IPY_MODEL_bc5578db00874693ad33f45ba0ea3e2b",
        "IPY_MODEL_23357d1972f748219d7786580ece9320"
       ],
       "layout": "IPY_MODEL_8a2f0b16f1f84f569dfe15b01e449798"
      }
     },
     "71e4153688ab4ca49c16b39f30763d16": {
      "model_module": "@jupyter-widgets/base",
      "model_module_version": "1.2.0",
      "model_name": "LayoutModel",
      "state": {}
     },
     "72425f1b167c49a88808b78ed60ce117": {
      "model_module": "@jupyter-widgets/base",
      "model_module_version": "1.2.0",
      "model_name": "LayoutModel",
      "state": {}
     },
     "7340a64a8c504c89b3ef092c4ee44729": {
      "model_module": "@jupyter-widgets/controls",
      "model_module_version": "1.5.0",
      "model_name": "SliderStyleModel",
      "state": {
       "description_width": ""
      }
     },
     "7369c78934c84100aa965bb66967668d": {
      "model_module": "@jupyter-widgets/controls",
      "model_module_version": "1.5.0",
      "model_name": "FloatSliderModel",
      "state": {
       "description": "180°",
       "layout": "IPY_MODEL_48c6093f5f654741902007db7b368352",
       "max": 1,
       "min": -1,
       "step": 0.01,
       "style": "IPY_MODEL_fdedf475ddb8411d8c2ed069eef32860"
      }
     },
     "73a319b53e3345a99eabf8faf4f0e9a8": {
      "model_module": "@jupyter-widgets/base",
      "model_module_version": "1.2.0",
      "model_name": "LayoutModel",
      "state": {
       "align_items": "stretch",
       "display": "flex",
       "flex_flow": "column",
       "width": "1128px"
      }
     },
     "73c0e041e3ab42e984af9d24eadbeebe": {
      "model_module": "@jupyter-widgets/base",
      "model_module_version": "1.2.0",
      "model_name": "LayoutModel",
      "state": {
       "border": "solid 4px #222",
       "margin": "4px",
       "padding": "0"
      }
     },
     "73e45e0ab1f949d1ad2a57d665b0d08d": {
      "model_module": "@jupyter-widgets/base",
      "model_module_version": "1.2.0",
      "model_name": "LayoutModel",
      "state": {}
     },
     "7415ebac474d457ea9ababe6a11062aa": {
      "model_module": "@jupyter-widgets/controls",
      "model_module_version": "1.5.0",
      "model_name": "HBoxModel",
      "state": {
       "children": [
        "IPY_MODEL_c6e43ff9b7074525b1675911555659a0",
        "IPY_MODEL_b80fad7dc6c144baa9d70be1193a542c",
        "IPY_MODEL_4b6d7eadd39b4cc0962d15d3088c8e89"
       ],
       "layout": "IPY_MODEL_20dd919f56334470b9b331ce9f035f54"
      }
     },
     "7416936bd9df4ccf9be1793b741c1b48": {
      "model_module": "@jupyter-widgets/controls",
      "model_module_version": "1.5.0",
      "model_name": "DropdownModel",
      "state": {
       "_options_labels": [
        "tanh",
        "simple"
       ],
       "description": "Compression Function:",
       "index": 0,
       "layout": "IPY_MODEL_a7b35880d9934993ba64f02339f2f0cd",
       "style": "IPY_MODEL_74c46254f552415f8381dcfad21935b6"
      }
     },
     "74986bea1894483e838caceae2d72c52": {
      "model_module": "@jupyter-widgets/controls",
      "model_module_version": "1.5.0",
      "model_name": "HBoxModel",
      "state": {
       "children": [
        "IPY_MODEL_c21b6d7099474ca48a970602956b3758",
        "IPY_MODEL_923963b367b54307b966d9e71289639a",
        "IPY_MODEL_c3eb7aa00268461aaab05c40e45932e6"
       ],
       "layout": "IPY_MODEL_fc5a2334f3a941d79c95cc289991f2c6"
      }
     },
     "74a7879fcda34b80a17fee1fbd0c8438": {
      "model_module": "@jupyter-widgets/base",
      "model_module_version": "1.2.0",
      "model_name": "LayoutModel",
      "state": {}
     },
     "74b3e0d4ecd44bec8ec2987246e4ac4d": {
      "model_module": "@jupyter-widgets/controls",
      "model_module_version": "1.5.0",
      "model_name": "SliderStyleModel",
      "state": {
       "description_width": ""
      }
     },
     "74c46254f552415f8381dcfad21935b6": {
      "model_module": "@jupyter-widgets/controls",
      "model_module_version": "1.5.0",
      "model_name": "DescriptionStyleModel",
      "state": {
       "description_width": ""
      }
     },
     "74d67b82c3b2404ca884b05bc17354b6": {
      "model_module": "@jupyter-widgets/controls",
      "model_module_version": "1.5.0",
      "model_name": "ButtonStyleModel",
      "state": {}
     },
     "7502e63f2fad48e8b553d1e1fc23dfa5": {
      "model_module": "@jupyter-widgets/base",
      "model_module_version": "1.2.0",
      "model_name": "LayoutModel",
      "state": {}
     },
     "75b40f1c4ba54ecfa35ea3c5841c2151": {
      "model_module": "@jupyter-widgets/base",
      "model_module_version": "1.2.0",
      "model_name": "LayoutModel",
      "state": {}
     },
     "75d0a9e449c8403bb425078df7d9551e": {
      "model_module": "@jupyter-widgets/base",
      "model_module_version": "1.2.0",
      "model_name": "LayoutModel",
      "state": {}
     },
     "75d8f699b1ee402aa8d0d069014bde72": {
      "model_module": "@jupyter-widgets/base",
      "model_module_version": "1.2.0",
      "model_name": "LayoutModel",
      "state": {}
     },
     "762baacc75644de8bd90aa174158a446": {
      "model_module": "@jupyter-widgets/controls",
      "model_module_version": "1.5.0",
      "model_name": "FloatSliderModel",
      "state": {
       "description": "180°",
       "layout": "IPY_MODEL_13a14712056846138a3da9eff04af3ee",
       "max": 1,
       "min": -1,
       "step": 0.01,
       "style": "IPY_MODEL_90bab54b171b4ff28e6eafee0b613d1a"
      }
     },
     "765a8169909c40869a2ddce1521d7a09": {
      "model_module": "@jupyter-widgets/controls",
      "model_module_version": "1.5.0",
      "model_name": "FloatSliderModel",
      "state": {
       "description": "270°",
       "layout": "IPY_MODEL_1019947196d74f27ba4777b039965272",
       "max": 1,
       "min": -1,
       "step": 0.01,
       "style": "IPY_MODEL_529649b4a83d49a8b6c37203607b6b7d"
      }
     },
     "76f6b0db5514459690a80c6ba899f2e4": {
      "model_module": "@jupyter-widgets/controls",
      "model_module_version": "1.5.0",
      "model_name": "SliderStyleModel",
      "state": {
       "description_width": ""
      }
     },
     "779a68e610844ecf9312015454d39537": {
      "model_module": "@jupyter-widgets/controls",
      "model_module_version": "1.5.0",
      "model_name": "FloatSliderModel",
      "state": {
       "description": "90°",
       "layout": "IPY_MODEL_db32ebe20cdd4ca4b865274b88ef7f6d",
       "max": 1,
       "min": -1,
       "step": 0.01,
       "style": "IPY_MODEL_17c6518a791c4b73a731d702eadabecc"
      }
     },
     "77a6de89a7c84a99a4c74323040525fa": {
      "model_module": "@jupyter-widgets/controls",
      "model_module_version": "1.5.0",
      "model_name": "FloatSliderModel",
      "state": {
       "description": "135°",
       "layout": "IPY_MODEL_baa8744ebdd740ab91855056481f95a5",
       "max": 1,
       "min": -1,
       "step": 0.01,
       "style": "IPY_MODEL_1e82ddec41044897b3bfe87705265c63"
      }
     },
     "77c926396fa04032a00731ac8ee5c47a": {
      "model_module": "@jupyter-widgets/base",
      "model_module_version": "1.2.0",
      "model_name": "LayoutModel",
      "state": {}
     },
     "77f2a78d7753422da1ad20ddd875e9b0": {
      "model_module": "@jupyter-widgets/controls",
      "model_module_version": "1.5.0",
      "model_name": "FloatSliderModel",
      "state": {
       "description": "Protected Area Threshold",
       "layout": "IPY_MODEL_95510a8aff57491ba8bcb6357056107b",
       "max": 1,
       "step": 0.01,
       "style": "IPY_MODEL_e22a6e3d2536470db9adfe5cba91a3f7",
       "value": 0.7
      }
     },
     "77f9e46877714dd49c27e4fe72000340": {
      "model_module": "@jupyter-widgets/base",
      "model_module_version": "1.2.0",
      "model_name": "LayoutModel",
      "state": {}
     },
     "77fe4ced9eaf41cd83a01028577f7068": {
      "model_module": "@jupyter-widgets/base",
      "model_module_version": "1.2.0",
      "model_name": "LayoutModel",
      "state": {}
     },
     "781494af6ae846d0abd3de1e0e0cd106": {
      "model_module": "@jupyter-widgets/output",
      "model_module_version": "1.0.0",
      "model_name": "OutputModel",
      "state": {
       "layout": "IPY_MODEL_df1850d94dc6494dad67b13b53a892cc",
       "outputs": [
        {
         "data": {
          "application/vnd.jupyter.widget-view+json": {
           "model_id": "249d21e55f744af8845fa8d9354f593c",
           "version_major": 2,
           "version_minor": 0
          },
          "text/plain": "Canvas(toolbar=Toolbar(toolitems=[('Home', 'Reset original view', 'home', 'home'), ('Back', 'Back to previous …"
         },
         "metadata": {},
         "output_type": "display_data"
        }
       ]
      }
     },
     "789c051e2941442dae7b76de2e1f1834": {
      "model_module": "@jupyter-widgets/base",
      "model_module_version": "1.2.0",
      "model_name": "LayoutModel",
      "state": {}
     },
     "78d4fc104d044e7185ad69de5c891f3d": {
      "model_module": "@jupyter-widgets/base",
      "model_module_version": "1.2.0",
      "model_name": "LayoutModel",
      "state": {}
     },
     "792104775fa94bfc8ccfa2641be30f2a": {
      "model_module": "@jupyter-widgets/controls",
      "model_module_version": "1.5.0",
      "model_name": "SliderStyleModel",
      "state": {
       "description_width": ""
      }
     },
     "794706d7728a4140b3e61fa616c209d8": {
      "model_module": "@jupyter-widgets/controls",
      "model_module_version": "1.5.0",
      "model_name": "ButtonModel",
      "state": {
       "description": "Reset Hue Controls",
       "layout": "IPY_MODEL_340b08bf335b4f018d81d98c764f55c8",
       "style": "IPY_MODEL_b42256159cd14e4392053777ce2cf218"
      }
     },
     "79a57365545348908f3e894bbc79de89": {
      "model_module": "@jupyter-widgets/controls",
      "model_module_version": "1.5.0",
      "model_name": "BoxModel",
      "state": {
       "children": [
        "IPY_MODEL_60ddeac35bed4c16b4b505041763f3ff",
        "IPY_MODEL_33934f0ad71948ffa3ec9355a60983c8"
       ],
       "layout": "IPY_MODEL_1c643c12bd4e4d0f9de389fd73a1da9b"
      }
     },
     "79c208faa38e4584a6ed1e43e16d9229": {
      "model_module": "@jupyter-widgets/base",
      "model_module_version": "1.2.0",
      "model_name": "LayoutModel",
      "state": {
       "border": "solid 4px #222",
       "margin": "4px",
       "padding": "0"
      }
     },
     "79f07dbf057e4f4f918ca148c98c87d9": {
      "model_module": "@jupyter-widgets/base",
      "model_module_version": "1.2.0",
      "model_name": "LayoutModel",
      "state": {}
     },
     "7a035880672c4b41b8882aad3bc9e99d": {
      "model_module": "@jupyter-widgets/base",
      "model_module_version": "1.2.0",
      "model_name": "LayoutModel",
      "state": {}
     },
     "7a377064e7834fe2aa227da9122c7cdb": {
      "model_module": "@jupyter-widgets/base",
      "model_module_version": "1.2.0",
      "model_name": "LayoutModel",
      "state": {}
     },
     "7a37eb0dc5394e248256310999d4507a": {
      "model_module": "@jupyter-widgets/base",
      "model_module_version": "1.2.0",
      "model_name": "LayoutModel",
      "state": {
       "border": "solid 4px #222",
       "margin": "4px",
       "padding": "0"
      }
     },
     "7a4df141b0884fdbac34632246da825b": {
      "model_module": "@jupyter-widgets/controls",
      "model_module_version": "1.5.0",
      "model_name": "SliderStyleModel",
      "state": {
       "description_width": ""
      }
     },
     "7a4fdb35470e463b937a4942f7d8969b": {
      "model_module": "@jupyter-widgets/controls",
      "model_module_version": "1.5.0",
      "model_name": "ButtonModel",
      "state": {
       "description": "Export Image",
       "layout": "IPY_MODEL_8b11634e34ee4c84bb76294d58d23eb0",
       "style": "IPY_MODEL_277c0e9bd7264e45a97bbd4ffa433a2b"
      }
     },
     "7a5f2fa39d5848cf9b912b0bf7744437": {
      "model_module": "@jupyter-widgets/controls",
      "model_module_version": "1.5.0",
      "model_name": "FloatSliderModel",
      "state": {
       "description": "45°",
       "layout": "IPY_MODEL_2c4692c9f6ff4bc09a823c89610cd9f2",
       "max": 1,
       "min": -1,
       "step": 0.01,
       "style": "IPY_MODEL_839317eee0f641b981552015dedea722"
      }
     },
     "7a84c895626547f7b9e078eb30026850": {
      "model_module": "@jupyter-widgets/base",
      "model_module_version": "1.2.0",
      "model_name": "LayoutModel",
      "state": {}
     },
     "7a895bda6af7418ea9a8638fb2a8054b": {
      "model_module": "@jupyter-widgets/base",
      "model_module_version": "1.2.0",
      "model_name": "LayoutModel",
      "state": {}
     },
     "7b8334606290492dbec866a2f7efc5d9": {
      "model_module": "@jupyter-widgets/base",
      "model_module_version": "1.2.0",
      "model_name": "LayoutModel",
      "state": {
       "border": "solid 4px #222",
       "margin": "4px",
       "padding": "0"
      }
     },
     "7b8c65d91d9e4bcfa06bdc2b91216419": {
      "model_module": "@jupyter-widgets/base",
      "model_module_version": "1.2.0",
      "model_name": "LayoutModel",
      "state": {}
     },
     "7b9950d5b0814762a28b057f5bc7a8b6": {
      "model_module": "@jupyter-widgets/controls",
      "model_module_version": "1.5.0",
      "model_name": "SliderStyleModel",
      "state": {
       "description_width": ""
      }
     },
     "7b9dc7ec196c4c738f0eeda5c33f4e7d": {
      "model_module": "@jupyter-widgets/controls",
      "model_module_version": "1.5.0",
      "model_name": "ButtonStyleModel",
      "state": {}
     },
     "7ba31bda438245e29495aaa699d2486d": {
      "model_module": "@jupyter-widgets/base",
      "model_module_version": "1.2.0",
      "model_name": "LayoutModel",
      "state": {}
     },
     "7c080909cf784f7c8cb1fb93039bc108": {
      "model_module": "@jupyter-widgets/base",
      "model_module_version": "1.2.0",
      "model_name": "LayoutModel",
      "state": {
       "border": "solid 4px #222",
       "margin": "4px",
       "padding": "0"
      }
     },
     "7c661cf98bb445b8a5cc325946598a4b": {
      "model_module": "@jupyter-widgets/controls",
      "model_module_version": "1.5.0",
      "model_name": "SliderStyleModel",
      "state": {
       "description_width": ""
      }
     },
     "7cb932641e2a4cefa4a12240ab43e453": {
      "model_module": "@jupyter-widgets/controls",
      "model_module_version": "1.5.0",
      "model_name": "FloatSliderModel",
      "state": {
       "description": "270°",
       "layout": "IPY_MODEL_ea6862a6b34c4e168d9e1d2eb6daa49a",
       "max": 1,
       "min": -1,
       "step": 0.01,
       "style": "IPY_MODEL_792104775fa94bfc8ccfa2641be30f2a"
      }
     },
     "7cc3f3d04e9e44928a8a7a97cad1a2da": {
      "model_module": "@jupyter-widgets/base",
      "model_module_version": "1.2.0",
      "model_name": "LayoutModel",
      "state": {}
     },
     "7cdbb95c9df5423ca5e5669065c9fb86": {
      "model_module": "@jupyter-widgets/base",
      "model_module_version": "1.2.0",
      "model_name": "LayoutModel",
      "state": {}
     },
     "7d1d642a07484188adfcfa2f668aab9b": {
      "model_module": "@jupyter-widgets/base",
      "model_module_version": "1.2.0",
      "model_name": "LayoutModel",
      "state": {}
     },
     "7d98b373f6264119adbb3d0c273dac44": {
      "model_module": "@jupyter-widgets/controls",
      "model_module_version": "1.5.0",
      "model_name": "FloatSliderModel",
      "state": {
       "description": "0°",
       "layout": "IPY_MODEL_14a20dbda7b747368b89ca7b8e904cf5",
       "max": 1,
       "min": -1,
       "step": 0.01,
       "style": "IPY_MODEL_bacf77034bc3454298170859f9c4313c"
      }
     },
     "7dba075dc13d4ed6ab8d12c78f580c57": {
      "model_module": "@jupyter-widgets/controls",
      "model_module_version": "1.5.0",
      "model_name": "ButtonStyleModel",
      "state": {}
     },
     "7e28109ca234404596e72ae3b7ccb3bf": {
      "model_module": "@jupyter-widgets/controls",
      "model_module_version": "1.5.0",
      "model_name": "SliderStyleModel",
      "state": {
       "description_width": ""
      }
     },
     "7e7de67591e044419dc5a26954a27115": {
      "model_module": "@jupyter-widgets/base",
      "model_module_version": "1.2.0",
      "model_name": "LayoutModel",
      "state": {}
     },
     "7e9124e5971742babe6da0a06b590145": {
      "model_module": "@jupyter-widgets/controls",
      "model_module_version": "1.5.0",
      "model_name": "ButtonModel",
      "state": {
       "description": "Reset Protected Area",
       "layout": "IPY_MODEL_6f073bfea1b34abb979d7ee3c7cf8497",
       "style": "IPY_MODEL_edcd298f002e412ea0ec8d16e05fecac"
      }
     },
     "7ea4d813eb0c4cb3a2f4e6c80e3ad358": {
      "model_module": "@jupyter-widgets/controls",
      "model_module_version": "1.5.0",
      "model_name": "FloatSliderModel",
      "state": {
       "description": "Compression Threshold",
       "layout": "IPY_MODEL_eaaf7e7f33314dcd8e4572dd42e3a8f2",
       "max": 1,
       "step": 0.01,
       "style": "IPY_MODEL_da5c3c2b4f7242889d609c2b1c90fcd3",
       "value": 0.8
      }
     },
     "7eb205cae5e14c64997fec17e152b009": {
      "model_module": "@jupyter-widgets/controls",
      "model_module_version": "1.5.0",
      "model_name": "VBoxModel",
      "state": {
       "children": [
        "IPY_MODEL_6e5dbdfa7f864013be53dedc3d7bdccb",
        "IPY_MODEL_762baacc75644de8bd90aa174158a446",
        "IPY_MODEL_f0415430f7cc4c78b34a4afea950a0c3"
       ],
       "layout": "IPY_MODEL_1603c6bd7ecb4924bd96462b9125de2d"
      }
     },
     "7ebe6a5c0fd8474cbe6a26acfccb6490": {
      "model_module": "@jupyter-widgets/controls",
      "model_module_version": "1.5.0",
      "model_name": "ButtonStyleModel",
      "state": {}
     },
     "7ee1d6889f804f399e5297ee6f5d27f3": {
      "model_module": "@jupyter-widgets/controls",
      "model_module_version": "1.5.0",
      "model_name": "ButtonStyleModel",
      "state": {}
     },
     "7f6eda1020934ccd8863d0ebb34ff22c": {
      "model_module": "@jupyter-widgets/controls",
      "model_module_version": "1.5.0",
      "model_name": "VBoxModel",
      "state": {
       "children": [
        "IPY_MODEL_49c916b82835445db753af8ec4c6bff5",
        "IPY_MODEL_2b2d964b5a2b41de91869a3608df1c16"
       ],
       "layout": "IPY_MODEL_2373e30abb0f4e61819073a3bbde08b8"
      }
     },
     "7f77cf0428d6404ebc6aa56c4a45d1f5": {
      "model_module": "@jupyter-widgets/controls",
      "model_module_version": "1.5.0",
      "model_name": "FloatSliderModel",
      "state": {
       "description": "45°",
       "layout": "IPY_MODEL_fe687a2874454af59f1a344c339c07fb",
       "max": 1,
       "min": -1,
       "step": 0.01,
       "style": "IPY_MODEL_1fb89746da5a44148e68076b4c7c7904"
      }
     },
     "7f83a839293b4caf9f478af51f359629": {
      "model_module": "@jupyter-widgets/controls",
      "model_module_version": "1.5.0",
      "model_name": "VBoxModel",
      "state": {
       "children": [
        "IPY_MODEL_afeebebc205348ea821120ee5b3977c4",
        "IPY_MODEL_d4b8857e355344b6bd2723852c2665cc",
        "IPY_MODEL_ec97c52d67e449ab83b7146b542366ee"
       ],
       "layout": "IPY_MODEL_789c051e2941442dae7b76de2e1f1834"
      }
     },
     "7f908dc31d4b4fd9beabde70c8042ba4": {
      "model_module": "@jupyter-widgets/controls",
      "model_module_version": "1.5.0",
      "model_name": "FloatSliderModel",
      "state": {
       "description": "270°",
       "layout": "IPY_MODEL_096ed840f9d4460e808dd13563f71baf",
       "max": 1,
       "min": -1,
       "step": 0.01,
       "style": "IPY_MODEL_c7ac951031824752aad3b939a8552d56"
      }
     },
     "7fc69b0fbad042e0b062f0708602c93c": {
      "model_module": "@jupyter-widgets/controls",
      "model_module_version": "1.5.0",
      "model_name": "ButtonStyleModel",
      "state": {}
     },
     "7fefc9ce3fbf45cbbd136d8c483d20f8": {
      "model_module": "@jupyter-widgets/controls",
      "model_module_version": "1.5.0",
      "model_name": "VBoxModel",
      "state": {
       "children": [
        "IPY_MODEL_5a51ef12546a4e6a994739c36a0a3636"
       ],
       "layout": "IPY_MODEL_ca7442711e94495ca31d425c0b5d22a6"
      }
     },
     "801b7971c971437c8d79ae100ee22e3f": {
      "model_module": "@jupyter-widgets/base",
      "model_module_version": "1.2.0",
      "model_name": "LayoutModel",
      "state": {}
     },
     "8092831ae3bc4c22976a82ad5aa34306": {
      "model_module": "@jupyter-widgets/base",
      "model_module_version": "1.2.0",
      "model_name": "LayoutModel",
      "state": {}
     },
     "809b6cc2e43e4b6983d1b575148c5d24": {
      "model_module": "@jupyter-widgets/controls",
      "model_module_version": "1.5.0",
      "model_name": "HBoxModel",
      "state": {
       "children": [
        "IPY_MODEL_b36b6684dc384bb09fcbf8ee1fd9ac9d",
        "IPY_MODEL_9fcdb5f61fa04c76ba8f52d9c52e067a",
        "IPY_MODEL_475c84117b6940ebb0088a3ab07ae465"
       ],
       "layout": "IPY_MODEL_df93ead8eff44b6580e79574ae0be28f"
      }
     },
     "80fecf82e80b4bcdbe1f24e335343043": {
      "model_module": "@jupyter-widgets/base",
      "model_module_version": "1.2.0",
      "model_name": "LayoutModel",
      "state": {}
     },
     "81024b7ed2c6492bb446ddcb1fb7b113": {
      "model_module": "@jupyter-widgets/controls",
      "model_module_version": "1.5.0",
      "model_name": "ButtonModel",
      "state": {
       "description": "Reset Compression Controls",
       "layout": "IPY_MODEL_8521795544634a1eb4f94cc9b11ddf02",
       "style": "IPY_MODEL_db50797bed3f4618ab8e8d173e53585a"
      }
     },
     "8105bb6302ca40ba9dee937804f88129": {
      "model_module": "@jupyter-widgets/base",
      "model_module_version": "1.2.0",
      "model_name": "LayoutModel",
      "state": {}
     },
     "81193bf245b54237b6e2d8ef90908673": {
      "model_module": "@jupyter-widgets/base",
      "model_module_version": "1.2.0",
      "model_name": "LayoutModel",
      "state": {}
     },
     "817d0386caf142d98e14c083ffc2e713": {
      "model_module": "@jupyter-widgets/base",
      "model_module_version": "1.2.0",
      "model_name": "LayoutModel",
      "state": {}
     },
     "81996d35b81346bfac486531268fac8e": {
      "model_module": "@jupyter-widgets/controls",
      "model_module_version": "1.5.0",
      "model_name": "FloatSliderModel",
      "state": {
       "description": "135°",
       "layout": "IPY_MODEL_1ddeae9685684c809f203733d10b6550",
       "max": 1,
       "min": -1,
       "step": 0.01,
       "style": "IPY_MODEL_f2f010549fbd483cb3cca47c2d79a28c"
      }
     },
     "81f31e85574e4341853e0b7d80ed59b5": {
      "model_module": "@jupyter-widgets/controls",
      "model_module_version": "1.5.0",
      "model_name": "DropdownModel",
      "state": {
       "_options_labels": [
        "tanh",
        "simple"
       ],
       "description": "Compression Function:",
       "index": 0,
       "layout": "IPY_MODEL_de36a9a948844329abdeb78d731b5080",
       "style": "IPY_MODEL_b6934d302f734c2faf5e8e311d03a3b0"
      }
     },
     "8289e89bd37543059a5f568b9637a0ce": {
      "model_module": "@jupyter-widgets/base",
      "model_module_version": "1.2.0",
      "model_name": "LayoutModel",
      "state": {}
     },
     "82934fec01e64a4880e09037cc9ccf1c": {
      "model_module": "@jupyter-widgets/controls",
      "model_module_version": "1.5.0",
      "model_name": "CheckboxModel",
      "state": {
       "description": "Disable Medicina",
       "disabled": false,
       "layout": "IPY_MODEL_66b71c24ea7f4fa18fb8aefdb16f5f82",
       "style": "IPY_MODEL_3b1a36e91827448cb7a6dd2249f3f428",
       "value": false
      }
     },
     "82bc83fbf6d74762a7b5de4e27458f93": {
      "model_module": "@jupyter-widgets/controls",
      "model_module_version": "1.5.0",
      "model_name": "FloatSliderModel",
      "state": {
       "description": "Compression Threshold",
       "layout": "IPY_MODEL_bae2a50d9bb9410bad61d7d02874aba4",
       "max": 1,
       "step": 0.01,
       "style": "IPY_MODEL_d81ff472fcf547788c6fda2ea506c492",
       "value": 0.8
      }
     },
     "82cba0237b704635826b1f76d0a5a747": {
      "model_module": "@jupyter-widgets/base",
      "model_module_version": "1.2.0",
      "model_name": "LayoutModel",
      "state": {
       "border": "solid 4px #222",
       "margin": "4px",
       "padding": "0"
      }
     },
     "8333d443ace84eeab9819b9d6e87c783": {
      "model_module": "@jupyter-widgets/controls",
      "model_module_version": "1.5.0",
      "model_name": "ButtonStyleModel",
      "state": {}
     },
     "836916a699fa40c29b242f16f4845b52": {
      "model_module": "@jupyter-widgets/controls",
      "model_module_version": "1.5.0",
      "model_name": "DescriptionStyleModel",
      "state": {
       "description_width": ""
      }
     },
     "839317eee0f641b981552015dedea722": {
      "model_module": "@jupyter-widgets/controls",
      "model_module_version": "1.5.0",
      "model_name": "SliderStyleModel",
      "state": {
       "description_width": ""
      }
     },
     "83cbeec342414e909b99385f2d43d089": {
      "model_module": "@jupyter-widgets/base",
      "model_module_version": "1.2.0",
      "model_name": "LayoutModel",
      "state": {
       "border": "solid 4px #222",
       "margin": "4px",
       "padding": "0"
      }
     },
     "84580ed6c9b64f32b4f22fdb769eeb3c": {
      "model_module": "@jupyter-widgets/base",
      "model_module_version": "1.2.0",
      "model_name": "LayoutModel",
      "state": {}
     },
     "846c02c00c694aa8884cbf5b56c16fda": {
      "model_module": "@jupyter-widgets/base",
      "model_module_version": "1.2.0",
      "model_name": "LayoutModel",
      "state": {}
     },
     "847e541e5213488ea0410652d3cc8308": {
      "model_module": "jupyter-matplotlib",
      "model_module_version": "^0.7.2",
      "model_name": "ToolbarModel",
      "state": {
       "layout": "IPY_MODEL_9169242381b14bebb393af42c9492e58",
       "toolitems": [
        [
         "Home",
         "Reset original view",
         "home",
         "home"
        ],
        [
         "Back",
         "Back to previous view",
         "arrow-left",
         "back"
        ],
        [
         "Forward",
         "Forward to next view",
         "arrow-right",
         "forward"
        ],
        [
         "Pan",
         "Pan axes with left mouse, zoom with right",
         "arrows",
         "pan"
        ],
        [
         "Zoom",
         "Zoom to rectangle",
         "square-o",
         "zoom"
        ],
        [
         "Download",
         "Download plot",
         "floppy-o",
         "save_figure"
        ]
       ]
      }
     },
     "84824d512e244e389aa581d9543fac09": {
      "model_module": "@jupyter-widgets/base",
      "model_module_version": "1.2.0",
      "model_name": "LayoutModel",
      "state": {}
     },
     "84c18f41b42b437491958465c0ae374e": {
      "model_module": "@jupyter-widgets/base",
      "model_module_version": "1.2.0",
      "model_name": "LayoutModel",
      "state": {}
     },
     "850273009b024cfab820f210446cbd43": {
      "model_module": "@jupyter-widgets/controls",
      "model_module_version": "1.5.0",
      "model_name": "DescriptionStyleModel",
      "state": {
       "description_width": ""
      }
     },
     "850c84739d4848529fe8779bf638d03a": {
      "model_module": "@jupyter-widgets/controls",
      "model_module_version": "1.5.0",
      "model_name": "FloatSliderModel",
      "state": {
       "description": "45°",
       "layout": "IPY_MODEL_e16ad906f5bf45529c2348da190b271b",
       "max": 1,
       "min": -1,
       "step": 0.01,
       "style": "IPY_MODEL_587885e9653d47498f05df95f06a0b3c"
      }
     },
     "8521795544634a1eb4f94cc9b11ddf02": {
      "model_module": "@jupyter-widgets/base",
      "model_module_version": "1.2.0",
      "model_name": "LayoutModel",
      "state": {}
     },
     "85368d284668465196f26d41c4f11923": {
      "model_module": "@jupyter-widgets/base",
      "model_module_version": "1.2.0",
      "model_name": "LayoutModel",
      "state": {}
     },
     "859621f4b0c842bf8371421ec51baba2": {
      "model_module": "@jupyter-widgets/controls",
      "model_module_version": "1.5.0",
      "model_name": "SliderStyleModel",
      "state": {
       "description_width": ""
      }
     },
     "860cfeb438784d1fad54e221d34b58da": {
      "model_module": "@jupyter-widgets/base",
      "model_module_version": "1.2.0",
      "model_name": "LayoutModel",
      "state": {
       "border": "solid 4px #222",
       "margin": "4px",
       "padding": "0"
      }
     },
     "8621f0499c894e72a14517670dc590f2": {
      "model_module": "@jupyter-widgets/base",
      "model_module_version": "1.2.0",
      "model_name": "LayoutModel",
      "state": {}
     },
     "8631332b59f94a8da21547d54e27cd7f": {
      "model_module": "@jupyter-widgets/controls",
      "model_module_version": "1.5.0",
      "model_name": "VBoxModel",
      "state": {
       "children": [
        "IPY_MODEL_329bcb69a2e8416b9d9231e3d67115e6"
       ],
       "layout": "IPY_MODEL_02d89b9470394ddc82c1fd0f20f8afef"
      }
     },
     "86550915ee18469b8c216cb695cf273b": {
      "model_module": "@jupyter-widgets/base",
      "model_module_version": "1.2.0",
      "model_name": "LayoutModel",
      "state": {}
     },
     "86db49e55fd4461881b9674334c6714c": {
      "model_module": "@jupyter-widgets/controls",
      "model_module_version": "1.5.0",
      "model_name": "SliderStyleModel",
      "state": {
       "description_width": ""
      }
     },
     "86e43ccf8bae47be82a8c8ef586a429b": {
      "model_module": "@jupyter-widgets/controls",
      "model_module_version": "1.5.0",
      "model_name": "VBoxModel",
      "state": {
       "children": [
        "IPY_MODEL_77a6de89a7c84a99a4c74323040525fa",
        "IPY_MODEL_9f6741809b2e4ab28aba518f3e14355c",
        "IPY_MODEL_0bb3c30788174cdda02fa47c8154a0de"
       ],
       "layout": "IPY_MODEL_ced7af86a3f64c4caaa1d43c775df94e"
      }
     },
     "874e00f059d143a3acfdb1f0eb594362": {
      "model_module": "@jupyter-widgets/base",
      "model_module_version": "1.2.0",
      "model_name": "LayoutModel",
      "state": {}
     },
     "87a7ed2d11134105b7ba7a8449579f3a": {
      "model_module": "@jupyter-widgets/controls",
      "model_module_version": "1.5.0",
      "model_name": "DropdownModel",
      "state": {
       "_options_labels": [
        "tanh",
        "simple"
       ],
       "description": "Compression Function:",
       "index": 0,
       "layout": "IPY_MODEL_3eba17689c93432ebb0216ae36485343",
       "style": "IPY_MODEL_850273009b024cfab820f210446cbd43"
      }
     },
     "8813367671e54a3fa3a314c8d7fd7063": {
      "model_module": "@jupyter-widgets/controls",
      "model_module_version": "1.5.0",
      "model_name": "ButtonModel",
      "state": {
       "description": "Reset Hue Controls",
       "layout": "IPY_MODEL_54d4b45f6855495694c1edbe85330aaf",
       "style": "IPY_MODEL_98349eadf19c444abfeed88e288c79d5"
      }
     },
     "88f3d694c04e4633bc0d1284ac4cd15e": {
      "model_module": "@jupyter-widgets/base",
      "model_module_version": "1.2.0",
      "model_name": "LayoutModel",
      "state": {}
     },
     "890cc7db8c19418786f622276fb50913": {
      "model_module": "@jupyter-widgets/controls",
      "model_module_version": "1.5.0",
      "model_name": "FloatSliderModel",
      "state": {
       "description": "Protected Area Threshold",
       "layout": "IPY_MODEL_0f3a8745c9f7464ca49d3ad31af30d92",
       "max": 1,
       "step": 0.01,
       "style": "IPY_MODEL_284eab4fd91f44b391d6939cf796de9a",
       "value": 0.7
      }
     },
     "8926962a72604690958356415b63989f": {
      "model_module": "@jupyter-widgets/controls",
      "model_module_version": "1.5.0",
      "model_name": "SliderStyleModel",
      "state": {
       "description_width": ""
      }
     },
     "89359efa54734061aef9f25d634eef69": {
      "model_module": "@jupyter-widgets/base",
      "model_module_version": "1.2.0",
      "model_name": "LayoutModel",
      "state": {}
     },
     "8958a1030c4a44748a66b9648cd06757": {
      "model_module": "@jupyter-widgets/controls",
      "model_module_version": "1.5.0",
      "model_name": "FloatSliderModel",
      "state": {
       "description": "90°",
       "layout": "IPY_MODEL_24deef5f827744f38d001ec38c554364",
       "max": 1,
       "min": -1,
       "step": 0.01,
       "style": "IPY_MODEL_b973add6044a4026837a798d5c9c911b"
      }
     },
     "8975938dadff44f9b61a45c1dfcc8f79": {
      "model_module": "@jupyter-widgets/base",
      "model_module_version": "1.2.0",
      "model_name": "LayoutModel",
      "state": {}
     },
     "89acffa025364b9b972f5c100aec2ae5": {
      "model_module": "@jupyter-widgets/base",
      "model_module_version": "1.2.0",
      "model_name": "LayoutModel",
      "state": {}
     },
     "89b05d5e72dd499ca6d74db4be81fd55": {
      "model_module": "@jupyter-widgets/base",
      "model_module_version": "1.2.0",
      "model_name": "LayoutModel",
      "state": {}
     },
     "89e011cd064344168568c02adc066e30": {
      "model_module": "@jupyter-widgets/controls",
      "model_module_version": "1.5.0",
      "model_name": "ButtonStyleModel",
      "state": {}
     },
     "89f5b0d2d2d84118805169e87ee8d2dd": {
      "model_module": "@jupyter-widgets/base",
      "model_module_version": "1.2.0",
      "model_name": "LayoutModel",
      "state": {}
     },
     "8a2f0b16f1f84f569dfe15b01e449798": {
      "model_module": "@jupyter-widgets/base",
      "model_module_version": "1.2.0",
      "model_name": "LayoutModel",
      "state": {}
     },
     "8a3e26b83f7144778e1f898b863f4564": {
      "model_module": "@jupyter-widgets/controls",
      "model_module_version": "1.5.0",
      "model_name": "ButtonModel",
      "state": {
       "description": "Reset Compression Controls",
       "layout": "IPY_MODEL_418acc0b539e4f0582f04ea95cae93a8",
       "style": "IPY_MODEL_8de84452e3544cc587d99462f06dffce"
      }
     },
     "8a8642d7e4f543fab922f84cabe18489": {
      "model_module": "@jupyter-widgets/controls",
      "model_module_version": "1.5.0",
      "model_name": "HBoxModel",
      "state": {
       "children": [
        "IPY_MODEL_62c683f25abe4883b491d23f8ec8457b",
        "IPY_MODEL_3b234ad1704e4526bb65511ee3dcbc2d",
        "IPY_MODEL_d513386a57f64d11a3e81d47f1e03b3f"
       ],
       "layout": "IPY_MODEL_80fecf82e80b4bcdbe1f24e335343043"
      }
     },
     "8abdd066543c4584b5bbcc6407d1ac3a": {
      "model_module": "@jupyter-widgets/controls",
      "model_module_version": "1.5.0",
      "model_name": "ButtonStyleModel",
      "state": {}
     },
     "8b04b3eafbc94fcc9c81f250c93a64d2": {
      "model_module": "@jupyter-widgets/base",
      "model_module_version": "1.2.0",
      "model_name": "LayoutModel",
      "state": {}
     },
     "8b11634e34ee4c84bb76294d58d23eb0": {
      "model_module": "@jupyter-widgets/base",
      "model_module_version": "1.2.0",
      "model_name": "LayoutModel",
      "state": {}
     },
     "8b1bfb7840c44637b1eb9b40866bc457": {
      "model_module": "@jupyter-widgets/base",
      "model_module_version": "1.2.0",
      "model_name": "LayoutModel",
      "state": {}
     },
     "8bd9f5dbab9d4ced801d1d984ee1fdfe": {
      "model_module": "jupyter-matplotlib",
      "model_module_version": "^0.7.2",
      "model_name": "MPLCanvasModel",
      "state": {
       "_figure_label": "Figure 9",
       "_height": 458,
       "_width": 1099,
       "header_visible": false,
       "layout": "IPY_MODEL_2010db6d13914b02811bcf89f8ed1daa",
       "resizable": false,
       "toolbar": "IPY_MODEL_0dc32ce2a0a54972a395fb398b6ecd4c",
       "toolbar_position": "left",
       "toolbar_visible": false
      }
     },
     "8c1df57d244c4714aa71b3717b9253e6": {
      "model_module": "@jupyter-widgets/base",
      "model_module_version": "1.2.0",
      "model_name": "LayoutModel",
      "state": {}
     },
     "8c43b0c8316140b19c46898d75c683e8": {
      "model_module": "@jupyter-widgets/controls",
      "model_module_version": "1.5.0",
      "model_name": "SliderStyleModel",
      "state": {
       "description_width": ""
      }
     },
     "8c91c8f917634538ba74997b0e4a3eeb": {
      "model_module": "@jupyter-widgets/controls",
      "model_module_version": "1.5.0",
      "model_name": "ButtonModel",
      "state": {
       "description": "Save Figure",
       "layout": "IPY_MODEL_ad73c14e2e5d49628e7141591bb92349",
       "style": "IPY_MODEL_e13fa56cab45464aaa86f4d2e0bdffa0"
      }
     },
     "8c9b5f84d1a847bd8e25b8742de9261d": {
      "model_module": "@jupyter-widgets/controls",
      "model_module_version": "1.5.0",
      "model_name": "ButtonModel",
      "state": {
       "description": "Reset Compression Controls",
       "layout": "IPY_MODEL_75d0a9e449c8403bb425078df7d9551e",
       "style": "IPY_MODEL_05767004e2e149568c95d163a4eba836"
      }
     },
     "8cc1d620e9114fb9bd13049689cb841a": {
      "model_module": "@jupyter-widgets/controls",
      "model_module_version": "1.5.0",
      "model_name": "SliderStyleModel",
      "state": {
       "description_width": ""
      }
     },
     "8cce9f51a03140d2ac82605a768e36bd": {
      "model_module": "@jupyter-widgets/base",
      "model_module_version": "1.2.0",
      "model_name": "LayoutModel",
      "state": {
       "align_items": "stretch",
       "display": "flex",
       "flex_flow": "column",
       "width": "1128px"
      }
     },
     "8ce816d47cd84b32860a5e956712173a": {
      "model_module": "@jupyter-widgets/base",
      "model_module_version": "1.2.0",
      "model_name": "LayoutModel",
      "state": {}
     },
     "8d065363f0994be0b1606bba30e3f515": {
      "model_module": "@jupyter-widgets/controls",
      "model_module_version": "1.5.0",
      "model_name": "VBoxModel",
      "state": {
       "children": [
        "IPY_MODEL_794706d7728a4140b3e61fa616c209d8"
       ],
       "layout": "IPY_MODEL_b1f05f7d23c24f75a3c8f2fd8a5e4805"
      }
     },
     "8dceb866ac5b499aa77aef18f02fa712": {
      "model_module": "@jupyter-widgets/controls",
      "model_module_version": "1.5.0",
      "model_name": "SliderStyleModel",
      "state": {
       "description_width": ""
      }
     },
     "8ddd30ad6c01456b9c5978a75a61229e": {
      "model_module": "@jupyter-widgets/base",
      "model_module_version": "1.2.0",
      "model_name": "LayoutModel",
      "state": {}
     },
     "8de7db4fb090499391ab3cc94340e2fc": {
      "model_module": "@jupyter-widgets/base",
      "model_module_version": "1.2.0",
      "model_name": "LayoutModel",
      "state": {}
     },
     "8de84452e3544cc587d99462f06dffce": {
      "model_module": "@jupyter-widgets/controls",
      "model_module_version": "1.5.0",
      "model_name": "ButtonStyleModel",
      "state": {}
     },
     "8de9c5a255434e68b2e09f5a1399438f": {
      "model_module": "@jupyter-widgets/base",
      "model_module_version": "1.2.0",
      "model_name": "LayoutModel",
      "state": {}
     },
     "8deaf8daed794637b8f4d81649f577dd": {
      "model_module": "@jupyter-widgets/controls",
      "model_module_version": "1.5.0",
      "model_name": "ButtonModel",
      "state": {
       "description": "Reset Protected Area",
       "layout": "IPY_MODEL_a1e1aebdfbed4a1ba933ca98b5ee2022",
       "style": "IPY_MODEL_b05e45658ec14c46b2c1f21fc13a9ef1"
      }
     },
     "8e6a2227c68c42c2928fba9e36815fe3": {
      "model_module": "@jupyter-widgets/controls",
      "model_module_version": "1.5.0",
      "model_name": "VBoxModel",
      "state": {
       "children": [
        "IPY_MODEL_c89564b6b00e4b1d867a7f10617c01b6",
        "IPY_MODEL_4382dca86db64d88b0fd640eb15adb6f",
        "IPY_MODEL_57a01c58890a4e828c30679af5223525"
       ],
       "layout": "IPY_MODEL_c77092d9f80f472fa576c65b7399cf90"
      }
     },
     "8e7bf886768941a490ad0941509604d3": {
      "model_module": "@jupyter-widgets/controls",
      "model_module_version": "1.5.0",
      "model_name": "SliderStyleModel",
      "state": {
       "description_width": ""
      }
     },
     "8e88175e542d451eb81e285e51f995e5": {
      "model_module": "@jupyter-widgets/base",
      "model_module_version": "1.2.0",
      "model_name": "LayoutModel",
      "state": {}
     },
     "8e9f8657c943458684bec6ba2c9f7124": {
      "model_module": "@jupyter-widgets/base",
      "model_module_version": "1.2.0",
      "model_name": "LayoutModel",
      "state": {}
     },
     "8ef2f8e6877a4d438b86bb50e38ec419": {
      "model_module": "@jupyter-widgets/base",
      "model_module_version": "1.2.0",
      "model_name": "LayoutModel",
      "state": {}
     },
     "8f1e1018507c484b9ad2b340b757e39d": {
      "model_module": "@jupyter-widgets/controls",
      "model_module_version": "1.5.0",
      "model_name": "FloatSliderModel",
      "state": {
       "description": "90°",
       "layout": "IPY_MODEL_b4f2740dde204319b42a473ecee79412",
       "max": 1,
       "min": -1,
       "step": 0.01,
       "style": "IPY_MODEL_b42b5f8075f84508be4834e9e6c5d8f2"
      }
     },
     "8f83f2171c4a4639b692d04f8c5e9b29": {
      "model_module": "@jupyter-widgets/controls",
      "model_module_version": "1.5.0",
      "model_name": "TabModel",
      "state": {
       "_titles": {
        "0": "Global Controls"
       },
       "children": [
        "IPY_MODEL_e521685a507c47bfa8b4c2a845482498"
       ],
       "layout": "IPY_MODEL_82cba0237b704635826b1f76d0a5a747"
      }
     },
     "8fb28d871433402dbd660538cae4b416": {
      "model_module": "@jupyter-widgets/controls",
      "model_module_version": "1.5.0",
      "model_name": "HBoxModel",
      "state": {
       "children": [
        "IPY_MODEL_460738e19b144a53be81003a1ce44fd6",
        "IPY_MODEL_c8c46cb38178443d870da8534ad6f700",
        "IPY_MODEL_4e7b4b5ef43f4a32b82d5570d5fdec4a"
       ],
       "layout": "IPY_MODEL_af50fc2b71824e7ea75b27d8c7f28b45"
      }
     },
     "8fb74da5a004436c8c67cd1bc1d3a9dc": {
      "model_module": "@jupyter-widgets/controls",
      "model_module_version": "1.5.0",
      "model_name": "DescriptionStyleModel",
      "state": {
       "description_width": ""
      }
     },
     "8fddd0fff7904f75a483438ee48a23e3": {
      "model_module": "@jupyter-widgets/base",
      "model_module_version": "1.2.0",
      "model_name": "LayoutModel",
      "state": {
       "border": "solid 4px #222",
       "margin": "4px",
       "padding": "0"
      }
     },
     "90478452429a4a6c90f9ba313257ee60": {
      "model_module": "@jupyter-widgets/base",
      "model_module_version": "1.2.0",
      "model_name": "LayoutModel",
      "state": {}
     },
     "907cc3d66ea34491999c07505f1961a2": {
      "model_module": "@jupyter-widgets/output",
      "model_module_version": "1.0.0",
      "model_name": "OutputModel",
      "state": {
       "layout": "IPY_MODEL_fd0bc8969a3b4a0d8d78e9b87ecaaa67",
       "outputs": [
        {
         "data": {
          "application/vnd.jupyter.widget-view+json": {
           "model_id": "e9fc75e0fa8a412abe1163015d78678f",
           "version_major": 2,
           "version_minor": 0
          },
          "text/plain": "Canvas(toolbar=Toolbar(toolitems=[('Home', 'Reset original view', 'home', 'home'), ('Back', 'Back to previous …"
         },
         "metadata": {},
         "output_type": "display_data"
        }
       ]
      }
     },
     "90bab54b171b4ff28e6eafee0b613d1a": {
      "model_module": "@jupyter-widgets/controls",
      "model_module_version": "1.5.0",
      "model_name": "SliderStyleModel",
      "state": {
       "description_width": ""
      }
     },
     "90e94b1dd2e240d0af19cbbe3d64a511": {
      "model_module": "@jupyter-widgets/controls",
      "model_module_version": "1.5.0",
      "model_name": "ButtonStyleModel",
      "state": {}
     },
     "9106d99fe1834a9c8287c399e9def92a": {
      "model_module": "@jupyter-widgets/controls",
      "model_module_version": "1.5.0",
      "model_name": "ButtonModel",
      "state": {
       "description": "Reset Hue Controls",
       "layout": "IPY_MODEL_acda256270a8439a876456ff6e8c70c9",
       "style": "IPY_MODEL_abce0fa041a5408784ff03e283fac747"
      }
     },
     "9114f393f7e4409598c165790a2bde16": {
      "model_module": "@jupyter-widgets/base",
      "model_module_version": "1.2.0",
      "model_name": "LayoutModel",
      "state": {}
     },
     "9119029e25b64bb190000d9828a145c9": {
      "model_module": "@jupyter-widgets/base",
      "model_module_version": "1.2.0",
      "model_name": "LayoutModel",
      "state": {}
     },
     "912fac56c2b0450888e8aa86c158d583": {
      "model_module": "@jupyter-widgets/controls",
      "model_module_version": "1.5.0",
      "model_name": "FloatSliderModel",
      "state": {
       "description": "Compression Threshold",
       "layout": "IPY_MODEL_2fb87179b9f54c13b3e93d2ea7f0992d",
       "max": 1,
       "step": 0.01,
       "style": "IPY_MODEL_7340a64a8c504c89b3ef092c4ee44729",
       "value": 0.8
      }
     },
     "914c178e5a4c4b54bfe703b89f20cd46": {
      "model_module": "@jupyter-widgets/controls",
      "model_module_version": "1.5.0",
      "model_name": "ButtonModel",
      "state": {
       "description": "Reset Protected Area",
       "layout": "IPY_MODEL_209bafca58d843fa9000f6f36c4470a9",
       "style": "IPY_MODEL_35c1eda3cf744a1b81341a68c822cc0c"
      }
     },
     "9169242381b14bebb393af42c9492e58": {
      "model_module": "@jupyter-widgets/base",
      "model_module_version": "1.2.0",
      "model_name": "LayoutModel",
      "state": {}
     },
     "91c756416a644d6797cc839dbf7ccced": {
      "model_module": "@jupyter-widgets/output",
      "model_module_version": "1.0.0",
      "model_name": "OutputModel",
      "state": {
       "layout": "IPY_MODEL_aa63b51522b344c9b07297ce9443a5cc",
       "outputs": [
        {
         "data": {
          "application/vnd.jupyter.widget-view+json": {
           "model_id": "58347ad2019e4889930f361c5b8a29c2",
           "version_major": 2,
           "version_minor": 0
          },
          "text/plain": "Canvas(toolbar=Toolbar(toolitems=[('Home', 'Reset original view', 'home', 'home'), ('Back', 'Back to previous …"
         },
         "metadata": {},
         "output_type": "display_data"
        }
       ]
      }
     },
     "92245e4d1d1346939122c2364246769b": {
      "model_module": "@jupyter-widgets/base",
      "model_module_version": "1.2.0",
      "model_name": "LayoutModel",
      "state": {}
     },
     "922b464b48cc483f9219aeb99f804943": {
      "model_module": "@jupyter-widgets/controls",
      "model_module_version": "1.5.0",
      "model_name": "DescriptionStyleModel",
      "state": {
       "description_width": ""
      }
     },
     "923963b367b54307b966d9e71289639a": {
      "model_module": "@jupyter-widgets/controls",
      "model_module_version": "1.5.0",
      "model_name": "DropdownModel",
      "state": {
       "_options_labels": [
        "tanh",
        "simple"
       ],
       "description": "Compression Function:",
       "index": 0,
       "layout": "IPY_MODEL_9756ab6eb87141deaa958939b308b649",
       "style": "IPY_MODEL_193ff8c83c6546479b953455555726d9"
      }
     },
     "9245ff1b2d93442f8df0c75d2eba24ae": {
      "model_module": "@jupyter-widgets/controls",
      "model_module_version": "1.5.0",
      "model_name": "HBoxModel",
      "state": {
       "children": [
        "IPY_MODEL_aa02b6afa9d1482a8cb32ba8f7586e0f",
        "IPY_MODEL_9ef00d2db22f41c9961a10f3a52fbabe",
        "IPY_MODEL_56aac044d4a44f3a8ab37b5276ab30aa"
       ],
       "layout": "IPY_MODEL_22616e77beec41889f2a4f405fee1b4e"
      }
     },
     "924b5cfb3bcc4737b082bfed702864e4": {
      "model_module": "@jupyter-widgets/base",
      "model_module_version": "1.2.0",
      "model_name": "LayoutModel",
      "state": {
       "border": "solid 4px #222",
       "margin": "4px",
       "padding": "0"
      }
     },
     "9268ef424cf343149ac256411c61b55c": {
      "model_module": "@jupyter-widgets/base",
      "model_module_version": "1.2.0",
      "model_name": "LayoutModel",
      "state": {}
     },
     "92756e5deb3741bab3b847e7ff252b5e": {
      "model_module": "@jupyter-widgets/base",
      "model_module_version": "1.2.0",
      "model_name": "LayoutModel",
      "state": {}
     },
     "928ef3789ba244d09774c26538f6b66c": {
      "model_module": "@jupyter-widgets/controls",
      "model_module_version": "1.5.0",
      "model_name": "SliderStyleModel",
      "state": {
       "description_width": ""
      }
     },
     "92942b88d7cd491bb091576c137811fb": {
      "model_module": "@jupyter-widgets/controls",
      "model_module_version": "1.5.0",
      "model_name": "ButtonStyleModel",
      "state": {}
     },
     "92fe57b497964a33b05f82d0d4d6f250": {
      "model_module": "@jupyter-widgets/output",
      "model_module_version": "1.0.0",
      "model_name": "OutputModel",
      "state": {
       "layout": "IPY_MODEL_24152cce80924342aa2f6f2c5f1b1198",
       "outputs": [
        {
         "data": {
          "application/vnd.jupyter.widget-view+json": {
           "model_id": "0a19fce0612d4071a87250fd3341d9a3",
           "version_major": 2,
           "version_minor": 0
          },
          "text/plain": "Canvas(toolbar=Toolbar(toolitems=[('Home', 'Reset original view', 'home', 'home'), ('Back', 'Back to previous …"
         },
         "metadata": {},
         "output_type": "display_data"
        }
       ]
      }
     },
     "9316019a1369411c8d7012905e004fda": {
      "model_module": "@jupyter-widgets/controls",
      "model_module_version": "1.5.0",
      "model_name": "FloatSliderModel",
      "state": {
       "description": "135°",
       "layout": "IPY_MODEL_391c4f81142141449d5d47df2625dab5",
       "max": 1,
       "min": -1,
       "step": 0.01,
       "style": "IPY_MODEL_f065e4a6030740e582ab3be84bec9ae5"
      }
     },
     "9367d9072d19464fb9385cd6cdb6d35d": {
      "model_module": "@jupyter-widgets/controls",
      "model_module_version": "1.5.0",
      "model_name": "SliderStyleModel",
      "state": {
       "description_width": ""
      }
     },
     "93ad137f1da4447698f415f7469abca8": {
      "model_module": "@jupyter-widgets/base",
      "model_module_version": "1.2.0",
      "model_name": "LayoutModel",
      "state": {}
     },
     "946e0359bfcc434b9acc1f4450d148f4": {
      "model_module": "@jupyter-widgets/base",
      "model_module_version": "1.2.0",
      "model_name": "LayoutModel",
      "state": {}
     },
     "94cd33c2b7e6494e8bd73011bcb78e61": {
      "model_module": "@jupyter-widgets/controls",
      "model_module_version": "1.5.0",
      "model_name": "ButtonModel",
      "state": {
       "description": "Reset Compression Controls",
       "layout": "IPY_MODEL_1777b413ab734387a35b4265169a82bc",
       "style": "IPY_MODEL_89e011cd064344168568c02adc066e30"
      }
     },
     "94eddd5bc32e4a0390171098757ed687": {
      "model_module": "@jupyter-widgets/base",
      "model_module_version": "1.2.0",
      "model_name": "LayoutModel",
      "state": {}
     },
     "9505aa52a2354aae85cc6f0d8a41db78": {
      "model_module": "@jupyter-widgets/base",
      "model_module_version": "1.2.0",
      "model_name": "LayoutModel",
      "state": {}
     },
     "95510a8aff57491ba8bcb6357056107b": {
      "model_module": "@jupyter-widgets/base",
      "model_module_version": "1.2.0",
      "model_name": "LayoutModel",
      "state": {}
     },
     "9553845cadb04f2d8183c73559a6b9bf": {
      "model_module": "@jupyter-widgets/controls",
      "model_module_version": "1.5.0",
      "model_name": "SliderStyleModel",
      "state": {
       "description_width": ""
      }
     },
     "9567a1ccc5e94b9d810a744b2c6ac170": {
      "model_module": "@jupyter-widgets/controls",
      "model_module_version": "1.5.0",
      "model_name": "ButtonModel",
      "state": {
       "description": "Reset Protected Area",
       "layout": "IPY_MODEL_acb9f46bb19c4d56afa3507be7c4a25e",
       "style": "IPY_MODEL_266b7e11c6e143d884a4c4f4057da5ba"
      }
     },
     "9595dd4dcc0341b7b120cc8d82b4285b": {
      "model_module": "@jupyter-widgets/controls",
      "model_module_version": "1.5.0",
      "model_name": "ButtonStyleModel",
      "state": {}
     },
     "9598acab52584a2c950b552cdb143f72": {
      "model_module": "@jupyter-widgets/controls",
      "model_module_version": "1.5.0",
      "model_name": "SliderStyleModel",
      "state": {
       "description_width": ""
      }
     },
     "95b366e964924ca280237bb10e138ed7": {
      "model_module": "jupyter-matplotlib",
      "model_module_version": "^0.7.2",
      "model_name": "ToolbarModel",
      "state": {
       "layout": "IPY_MODEL_fe93b6f5a86e4f4baade6c4c78099fda",
       "toolitems": [
        [
         "Home",
         "Reset original view",
         "home",
         "home"
        ],
        [
         "Back",
         "Back to previous view",
         "arrow-left",
         "back"
        ],
        [
         "Forward",
         "Forward to next view",
         "arrow-right",
         "forward"
        ],
        [
         "Pan",
         "Pan axes with left mouse, zoom with right",
         "arrows",
         "pan"
        ],
        [
         "Zoom",
         "Zoom to rectangle",
         "square-o",
         "zoom"
        ],
        [
         "Download",
         "Download plot",
         "floppy-o",
         "save_figure"
        ]
       ]
      }
     },
     "95bad9c1f5ed4094bea2049b7019295e": {
      "model_module": "@jupyter-widgets/output",
      "model_module_version": "1.0.0",
      "model_name": "OutputModel",
      "state": {
       "layout": "IPY_MODEL_4c9bd689cf36403097845f3b2ccd838d",
       "outputs": [
        {
         "data": {
          "application/vnd.jupyter.widget-view+json": {
           "model_id": "4200884dc91448739b078b7ab6c84602",
           "version_major": 2,
           "version_minor": 0
          },
          "text/plain": "Canvas(toolbar=Toolbar(toolitems=[('Home', 'Reset original view', 'home', 'home'), ('Back', 'Back to previous …"
         },
         "metadata": {},
         "output_type": "display_data"
        }
       ]
      }
     },
     "95fb169412eb43ee9d7a33de97470b40": {
      "model_module": "@jupyter-widgets/controls",
      "model_module_version": "1.5.0",
      "model_name": "ButtonModel",
      "state": {
       "description": "Reset Saturation Controls",
       "layout": "IPY_MODEL_a4880781ef674fbcab77f809a0ed4189",
       "style": "IPY_MODEL_b6afe2b73bd44bd189ace2691441fbc6"
      }
     },
     "9607436dc481468597ba0e7426d7169a": {
      "model_module": "@jupyter-widgets/controls",
      "model_module_version": "1.5.0",
      "model_name": "FloatSliderModel",
      "state": {
       "description": "Compression Threshold",
       "layout": "IPY_MODEL_8092831ae3bc4c22976a82ad5aa34306",
       "max": 1,
       "step": 0.01,
       "style": "IPY_MODEL_a317c2d3044f42bda0e4772708ac7541",
       "value": 0.8
      }
     },
     "964971bbd45440458fba7f499f8c5714": {
      "model_module": "@jupyter-widgets/base",
      "model_module_version": "1.2.0",
      "model_name": "LayoutModel",
      "state": {}
     },
     "965ba06ed09f4df48113f101301ac0cb": {
      "model_module": "@jupyter-widgets/base",
      "model_module_version": "1.2.0",
      "model_name": "LayoutModel",
      "state": {}
     },
     "96bc20686178449bbb173ccc89d0efe5": {
      "model_module": "@jupyter-widgets/controls",
      "model_module_version": "1.5.0",
      "model_name": "ButtonModel",
      "state": {
       "description": "Export Image",
       "layout": "IPY_MODEL_6b435fbd4b924052abcd5d425638a3df",
       "style": "IPY_MODEL_74d67b82c3b2404ca884b05bc17354b6"
      }
     },
     "9715b5d2365a49af9bb4715b64d2d1a3": {
      "model_module": "@jupyter-widgets/controls",
      "model_module_version": "1.5.0",
      "model_name": "ButtonStyleModel",
      "state": {}
     },
     "97265e00af8b46e2894dd23162c45b10": {
      "model_module": "@jupyter-widgets/base",
      "model_module_version": "1.2.0",
      "model_name": "LayoutModel",
      "state": {
       "align_items": "stretch",
       "display": "flex",
       "flex_flow": "column",
       "width": "1128px"
      }
     },
     "9756ab6eb87141deaa958939b308b649": {
      "model_module": "@jupyter-widgets/base",
      "model_module_version": "1.2.0",
      "model_name": "LayoutModel",
      "state": {}
     },
     "9783fb18831e491c861b1fe12ff1fc70": {
      "model_module": "@jupyter-widgets/controls",
      "model_module_version": "1.5.0",
      "model_name": "SliderStyleModel",
      "state": {
       "description_width": ""
      }
     },
     "97c967a9cddf42318d8d6fb218da958d": {
      "model_module": "@jupyter-widgets/controls",
      "model_module_version": "1.5.0",
      "model_name": "ButtonStyleModel",
      "state": {}
     },
     "980625bdc41c48618fde2007e06544d4": {
      "model_module": "@jupyter-widgets/base",
      "model_module_version": "1.2.0",
      "model_name": "LayoutModel",
      "state": {}
     },
     "980a50a7aa7744a59647e0e70f3dcdab": {
      "model_module": "jupyter-matplotlib",
      "model_module_version": "^0.7.2",
      "model_name": "MPLCanvasModel",
      "state": {
       "_figure_label": "Figure 5",
       "_height": 1100,
       "_width": 1100,
       "layout": "IPY_MODEL_9efc6a33a3264ba88b3f23c1ad5f6683",
       "toolbar": "IPY_MODEL_f2a45bbac6f5452e89fa16b287c59868",
       "toolbar_position": "left"
      }
     },
     "98349eadf19c444abfeed88e288c79d5": {
      "model_module": "@jupyter-widgets/controls",
      "model_module_version": "1.5.0",
      "model_name": "ButtonStyleModel",
      "state": {}
     },
     "985781308bad4622b51411f879b3374a": {
      "model_module": "@jupyter-widgets/controls",
      "model_module_version": "1.5.0",
      "model_name": "ButtonModel",
      "state": {
       "description": "Export Image",
       "layout": "IPY_MODEL_9e7a84afdcce4aab9b9fe4e2d23725e2",
       "style": "IPY_MODEL_eb6bee9b4ddd4d0c8ffd84d4afe219ff"
      }
     },
     "985edd9eb78741d3841a77673957a8e9": {
      "model_module": "@jupyter-widgets/controls",
      "model_module_version": "1.5.0",
      "model_name": "SliderStyleModel",
      "state": {
       "description_width": ""
      }
     },
     "9888c4e060ca4de2821e8e62c8499e87": {
      "model_module": "@jupyter-widgets/controls",
      "model_module_version": "1.5.0",
      "model_name": "HBoxModel",
      "state": {
       "children": [
        "IPY_MODEL_fed44617387148698344d0be60ec9dc0",
        "IPY_MODEL_5ea507136df94b50a886f45f650e6dbe",
        "IPY_MODEL_8e6a2227c68c42c2928fba9e36815fe3",
        "IPY_MODEL_e3fe46d0574949a0a1cbc681210f45f1"
       ],
       "layout": "IPY_MODEL_59bfdb286a044191a9fdef734fec180f"
      }
     },
     "98929da31e9a4a7d8051937b016a1aaa": {
      "model_module": "@jupyter-widgets/base",
      "model_module_version": "1.2.0",
      "model_name": "LayoutModel",
      "state": {}
     },
     "99102b6de69843e7a09cbc661bcb47e5": {
      "model_module": "@jupyter-widgets/controls",
      "model_module_version": "1.5.0",
      "model_name": "DescriptionStyleModel",
      "state": {
       "description_width": ""
      }
     },
     "99255300a6cc47da926a43cfbc04ce35": {
      "model_module": "@jupyter-widgets/controls",
      "model_module_version": "1.5.0",
      "model_name": "VBoxModel",
      "state": {
       "children": [
        "IPY_MODEL_c2032d920e6b4f089ba4a98400588377"
       ],
       "layout": "IPY_MODEL_09af9ac7bf80430093c0a8465e443a1f"
      }
     },
     "99d701d5fb014d7aa6ba3f0699db0cc3": {
      "model_module": "@jupyter-widgets/output",
      "model_module_version": "1.0.0",
      "model_name": "OutputModel",
      "state": {
       "layout": "IPY_MODEL_79c208faa38e4584a6ed1e43e16d9229",
       "outputs": [
        {
         "data": {
          "application/vnd.jupyter.widget-view+json": {
           "model_id": "e3ce5bd3764e48149abc4788492204dc",
           "version_major": 2,
           "version_minor": 0
          },
          "text/plain": "Canvas(toolbar=Toolbar(toolitems=[('Home', 'Reset original view', 'home', 'home'), ('Back', 'Back to previous …"
         },
         "metadata": {},
         "output_type": "display_data"
        }
       ]
      }
     },
     "9a175312abc04d30874435dbb2341b0f": {
      "model_module": "jupyter-matplotlib",
      "model_module_version": "^0.7.2",
      "model_name": "ToolbarModel",
      "state": {
       "layout": "IPY_MODEL_04673d582c5144f39d372d08fbc8bb4a",
       "toolitems": [
        [
         "Home",
         "Reset original view",
         "home",
         "home"
        ],
        [
         "Back",
         "Back to previous view",
         "arrow-left",
         "back"
        ],
        [
         "Forward",
         "Forward to next view",
         "arrow-right",
         "forward"
        ],
        [
         "Pan",
         "Pan axes with left mouse, zoom with right",
         "arrows",
         "pan"
        ],
        [
         "Zoom",
         "Zoom to rectangle",
         "square-o",
         "zoom"
        ],
        [
         "Download",
         "Download plot",
         "floppy-o",
         "save_figure"
        ]
       ]
      }
     },
     "9a4dc93a2e3d4c6a98fca99b8eaf4cec": {
      "model_module": "@jupyter-widgets/controls",
      "model_module_version": "1.5.0",
      "model_name": "SliderStyleModel",
      "state": {
       "description_width": ""
      }
     },
     "9ac3b9c7742b40f6950cec38a44855cc": {
      "model_module": "@jupyter-widgets/base",
      "model_module_version": "1.2.0",
      "model_name": "LayoutModel",
      "state": {}
     },
     "9ae76f859d3c4138ad4cb23e98b66935": {
      "model_module": "@jupyter-widgets/base",
      "model_module_version": "1.2.0",
      "model_name": "LayoutModel",
      "state": {}
     },
     "9b0af9cea3084bb38340a89022553b18": {
      "model_module": "@jupyter-widgets/controls",
      "model_module_version": "1.5.0",
      "model_name": "FloatSliderModel",
      "state": {
       "description": "135°",
       "layout": "IPY_MODEL_49480b73f2344f2eba039c5080b8dd36",
       "max": 1,
       "min": -1,
       "step": 0.01,
       "style": "IPY_MODEL_7b9950d5b0814762a28b057f5bc7a8b6"
      }
     },
     "9b365e91ca584e73bfe7744444dd9959": {
      "model_module": "@jupyter-widgets/base",
      "model_module_version": "1.2.0",
      "model_name": "LayoutModel",
      "state": {}
     },
     "9bda94a97b4f49de8bf506a7263a64ca": {
      "model_module": "@jupyter-widgets/controls",
      "model_module_version": "1.5.0",
      "model_name": "VBoxModel",
      "state": {
       "children": [
        "IPY_MODEL_0be289f9d5444943ad49918628726ac4",
        "IPY_MODEL_f21ca984569144bc89a036040c3172af",
        "IPY_MODEL_53e28247105a4894b8aa13d21b55d2ac"
       ],
       "layout": "IPY_MODEL_0d8b399d03054034befc7a3ab0f6ae49"
      }
     },
     "9c43f3d607bf4ef8ab28e4b7d8d8bd6a": {
      "model_module": "@jupyter-widgets/output",
      "model_module_version": "1.0.0",
      "model_name": "OutputModel",
      "state": {
       "layout": "IPY_MODEL_d582aa846efd4ab0a946c2806cd3b153",
       "outputs": [
        {
         "data": {
          "application/vnd.jupyter.widget-view+json": {
           "model_id": "dbe141c58fb84ebabf24b7029b2eca08",
           "version_major": 2,
           "version_minor": 0
          },
          "text/plain": "Canvas(toolbar=Toolbar(toolitems=[('Home', 'Reset original view', 'home', 'home'), ('Back', 'Back to previous …"
         },
         "metadata": {},
         "output_type": "display_data"
        }
       ]
      }
     },
     "9c7c4d3874924accb6b8d570f7d49e1b": {
      "model_module": "@jupyter-widgets/controls",
      "model_module_version": "1.5.0",
      "model_name": "HBoxModel",
      "state": {
       "children": [
        "IPY_MODEL_9567a1ccc5e94b9d810a744b2c6ac170",
        "IPY_MODEL_77f2a78d7753422da1ad20ddd875e9b0"
       ],
       "layout": "IPY_MODEL_345673ba796d4d97a2f269bead0df4ba"
      }
     },
     "9d34c90a02a04658a3811c88c81b0558": {
      "model_module": "@jupyter-widgets/base",
      "model_module_version": "1.2.0",
      "model_name": "LayoutModel",
      "state": {}
     },
     "9d55b6f572af43b3b911eff098cc8110": {
      "model_module": "@jupyter-widgets/controls",
      "model_module_version": "1.5.0",
      "model_name": "FloatSliderModel",
      "state": {
       "description": "180°",
       "layout": "IPY_MODEL_5c68307af33948348ad8b1b28fb38d92",
       "max": 1,
       "min": -1,
       "step": 0.01,
       "style": "IPY_MODEL_7c661cf98bb445b8a5cc325946598a4b"
      }
     },
     "9df063070dd74c2fa31319ee745533df": {
      "model_module": "@jupyter-widgets/base",
      "model_module_version": "1.2.0",
      "model_name": "LayoutModel",
      "state": {}
     },
     "9dfbc5830f194d99bf2bc19fd32df64d": {
      "model_module": "@jupyter-widgets/base",
      "model_module_version": "1.2.0",
      "model_name": "LayoutModel",
      "state": {}
     },
     "9dfd13ab5bc24fb588351f6df7e4d9e6": {
      "model_module": "@jupyter-widgets/controls",
      "model_module_version": "1.5.0",
      "model_name": "FloatSliderModel",
      "state": {
       "description": "0°",
       "layout": "IPY_MODEL_e711316dab8a41adb9e41aa767584906",
       "max": 1,
       "min": -1,
       "step": 0.01,
       "style": "IPY_MODEL_3d20f9e581c64813b72aa9cc91a5ccba"
      }
     },
     "9e2cbebd18504b5f81bc1de35e0d14a3": {
      "model_module": "@jupyter-widgets/controls",
      "model_module_version": "1.5.0",
      "model_name": "CheckboxModel",
      "state": {
       "description": "Disable Medicina",
       "disabled": false,
       "layout": "IPY_MODEL_4c6d6c38486e4b9fbf56a693367fc815",
       "style": "IPY_MODEL_0caf6bab31754f4c8b904b33844e520c",
       "value": false
      }
     },
     "9e7a84afdcce4aab9b9fe4e2d23725e2": {
      "model_module": "@jupyter-widgets/base",
      "model_module_version": "1.2.0",
      "model_name": "LayoutModel",
      "state": {}
     },
     "9ec5bb7d74e745be8d11ac76990cb97e": {
      "model_module": "@jupyter-widgets/controls",
      "model_module_version": "1.5.0",
      "model_name": "VBoxModel",
      "state": {
       "children": [
        "IPY_MODEL_9316019a1369411c8d7012905e004fda",
        "IPY_MODEL_e08da420506a481588f81769c06afc0f",
        "IPY_MODEL_55cb5364fe034fc59ca89dd07977a45c"
       ],
       "layout": "IPY_MODEL_1affb1af61b6469a959fc1e1b0a8d0b6"
      }
     },
     "9eed0ffd5df54f0a9e69454258ff4e08": {
      "model_module": "@jupyter-widgets/controls",
      "model_module_version": "1.5.0",
      "model_name": "CheckboxModel",
      "state": {
       "description": "Disable Medicina",
       "disabled": false,
       "layout": "IPY_MODEL_72425f1b167c49a88808b78ed60ce117",
       "style": "IPY_MODEL_c91e0f86af6d4641a202dcf9de7c4076",
       "value": false
      }
     },
     "9ef00d2db22f41c9961a10f3a52fbabe": {
      "model_module": "@jupyter-widgets/controls",
      "model_module_version": "1.5.0",
      "model_name": "DropdownModel",
      "state": {
       "_options_labels": [
        "tanh",
        "simple"
       ],
       "description": "Compression Function:",
       "index": 0,
       "layout": "IPY_MODEL_1bfb93e478af433da966c97c0c6653a6",
       "style": "IPY_MODEL_a95d51d65096467ebcf47a5fd91d8f14"
      }
     },
     "9efc6a33a3264ba88b3f23c1ad5f6683": {
      "model_module": "@jupyter-widgets/base",
      "model_module_version": "1.2.0",
      "model_name": "LayoutModel",
      "state": {}
     },
     "9f2878810e684940a6065f01ed8b21b4": {
      "model_module": "@jupyter-widgets/output",
      "model_module_version": "1.0.0",
      "model_name": "OutputModel",
      "state": {
       "layout": "IPY_MODEL_25eac3fbfc9941c88b33c80ed1bff9d6",
       "outputs": [
        {
         "data": {
          "application/vnd.jupyter.widget-view+json": {
           "model_id": "3e19e4abb8a44ccabed698851c42b1e6",
           "version_major": 2,
           "version_minor": 0
          },
          "text/plain": "Canvas(toolbar=Toolbar(toolitems=[('Home', 'Reset original view', 'home', 'home'), ('Back', 'Back to previous …"
         },
         "metadata": {},
         "output_type": "display_data"
        }
       ]
      }
     },
     "9f5f20168cf04c89a2330f84c7494785": {
      "model_module": "@jupyter-widgets/base",
      "model_module_version": "1.2.0",
      "model_name": "LayoutModel",
      "state": {}
     },
     "9f6741809b2e4ab28aba518f3e14355c": {
      "model_module": "@jupyter-widgets/controls",
      "model_module_version": "1.5.0",
      "model_name": "FloatSliderModel",
      "state": {
       "description": "180°",
       "layout": "IPY_MODEL_9b365e91ca584e73bfe7744444dd9959",
       "max": 1,
       "min": -1,
       "step": 0.01,
       "style": "IPY_MODEL_522719c8bd564bf987564fc3ef8043c3"
      }
     },
     "9f7acfdc7c5a470c9161bf5b335a4721": {
      "model_module": "@jupyter-widgets/controls",
      "model_module_version": "1.5.0",
      "model_name": "DescriptionStyleModel",
      "state": {
       "description_width": ""
      }
     },
     "9f9cd16c37bf4dea8b7a65450100fea1": {
      "model_module": "@jupyter-widgets/output",
      "model_module_version": "1.0.0",
      "model_name": "OutputModel",
      "state": {
       "layout": "IPY_MODEL_0ea04581a5e547fea914acb9a4bf377c",
       "outputs": [
        {
         "data": {
          "application/vnd.jupyter.widget-view+json": {
           "model_id": "8bd9f5dbab9d4ced801d1d984ee1fdfe",
           "version_major": 2,
           "version_minor": 0
          },
          "text/plain": "Canvas(toolbar=Toolbar(toolitems=[('Home', 'Reset original view', 'home', 'home'), ('Back', 'Back to previous …"
         },
         "metadata": {},
         "output_type": "display_data"
        }
       ]
      }
     },
     "9fb79ead54d648f6be5cd7723d212986": {
      "model_module": "@jupyter-widgets/base",
      "model_module_version": "1.2.0",
      "model_name": "LayoutModel",
      "state": {}
     },
     "9fcdb5f61fa04c76ba8f52d9c52e067a": {
      "model_module": "@jupyter-widgets/controls",
      "model_module_version": "1.5.0",
      "model_name": "DropdownModel",
      "state": {
       "_options_labels": [
        "tanh",
        "simple"
       ],
       "description": "Compression Function:",
       "index": 0,
       "layout": "IPY_MODEL_4267b1f2a91f4a93b332589f5f8444da",
       "style": "IPY_MODEL_af2cec3b74ab4136ae31a210ab5e6b1f"
      }
     },
     "a06cc49fc2b345c29c755a3d9d198fda": {
      "model_module": "@jupyter-widgets/controls",
      "model_module_version": "1.5.0",
      "model_name": "ButtonStyleModel",
      "state": {}
     },
     "a0edcb5341b641eba5d00b93248b0224": {
      "model_module": "@jupyter-widgets/controls",
      "model_module_version": "1.5.0",
      "model_name": "HBoxModel",
      "state": {
       "children": [
        "IPY_MODEL_9e2cbebd18504b5f81bc1de35e0d14a3",
        "IPY_MODEL_2b6afa8ee04b4194aaf048fa995dd6b9",
        "IPY_MODEL_6b4588361c4e4534bd7a73e0df3058d4"
       ],
       "layout": "IPY_MODEL_6b0116e004e847f6987788e586eee81a"
      }
     },
     "a16059e2d665497db79d1db4bc71f90f": {
      "model_module": "@jupyter-widgets/controls",
      "model_module_version": "1.5.0",
      "model_name": "TabModel",
      "state": {
       "_titles": {
        "0": "Global Controls",
        "1": "Compression Controls"
       },
       "children": [
        "IPY_MODEL_45f0df758ae546c58b8666a150c0262e",
        "IPY_MODEL_b6bb961ae0d040568378d6a6917f80fa"
       ],
       "layout": "IPY_MODEL_41370ea1126e445485acaf76453337f0"
      }
     },
     "a1ab6e42191c4472994a23d0532ab0a0": {
      "model_module": "@jupyter-widgets/base",
      "model_module_version": "1.2.0",
      "model_name": "LayoutModel",
      "state": {
       "align_items": "stretch",
       "display": "flex",
       "flex_flow": "column",
       "width": "1128px"
      }
     },
     "a1c2c85b692245ef9e56e57d03f2ecc5": {
      "model_module": "@jupyter-widgets/controls",
      "model_module_version": "1.5.0",
      "model_name": "VBoxModel",
      "state": {
       "children": [
        "IPY_MODEL_765a8169909c40869a2ddce1521d7a09",
        "IPY_MODEL_ee442c6189ba428bbafcb37b0bec68d8"
       ],
       "layout": "IPY_MODEL_abbd625a1ccd4b2b8202a4529a20e306"
      }
     },
     "a1e146059df546dd9a7c46640a66a856": {
      "model_module": "@jupyter-widgets/base",
      "model_module_version": "1.2.0",
      "model_name": "LayoutModel",
      "state": {}
     },
     "a1e1aebdfbed4a1ba933ca98b5ee2022": {
      "model_module": "@jupyter-widgets/base",
      "model_module_version": "1.2.0",
      "model_name": "LayoutModel",
      "state": {}
     },
     "a1ec23e5b9f142cca5aafbe1330a63d3": {
      "model_module": "@jupyter-widgets/controls",
      "model_module_version": "1.5.0",
      "model_name": "SliderStyleModel",
      "state": {
       "description_width": ""
      }
     },
     "a1fab2c6d03f4ad59c8ed7d4d448e71d": {
      "model_module": "@jupyter-widgets/controls",
      "model_module_version": "1.5.0",
      "model_name": "VBoxModel",
      "state": {
       "children": [
        "IPY_MODEL_c374d76315b34efb94c229f318f2a8b9",
        "IPY_MODEL_42cd064b899e4a729625958cd8deed52"
       ],
       "layout": "IPY_MODEL_d2f5016002d942e996b9101cb65500e1"
      }
     },
     "a223de65dd564c0e9d66ecb2cfc2265b": {
      "model_module": "@jupyter-widgets/base",
      "model_module_version": "1.2.0",
      "model_name": "LayoutModel",
      "state": {}
     },
     "a254dca1001b4b519528769076ee4be5": {
      "model_module": "@jupyter-widgets/base",
      "model_module_version": "1.2.0",
      "model_name": "LayoutModel",
      "state": {}
     },
     "a2583f059fbb48ba9a102cd7451d2fb7": {
      "model_module": "@jupyter-widgets/base",
      "model_module_version": "1.2.0",
      "model_name": "LayoutModel",
      "state": {}
     },
     "a26dd8a65902472ea3a8de3f776594f2": {
      "model_module": "@jupyter-widgets/base",
      "model_module_version": "1.2.0",
      "model_name": "LayoutModel",
      "state": {}
     },
     "a2d89e4f101e4f118ddd82cc2db21b26": {
      "model_module": "@jupyter-widgets/controls",
      "model_module_version": "1.5.0",
      "model_name": "SliderStyleModel",
      "state": {
       "description_width": ""
      }
     },
     "a317c2d3044f42bda0e4772708ac7541": {
      "model_module": "@jupyter-widgets/controls",
      "model_module_version": "1.5.0",
      "model_name": "SliderStyleModel",
      "state": {
       "description_width": ""
      }
     },
     "a345a1d0bbfc4170b92572144a2932c4": {
      "model_module": "@jupyter-widgets/base",
      "model_module_version": "1.2.0",
      "model_name": "LayoutModel",
      "state": {}
     },
     "a35b7bca6ae94921a1995741421ae8fd": {
      "model_module": "jupyter-matplotlib",
      "model_module_version": "^0.7.2",
      "model_name": "ToolbarModel",
      "state": {
       "layout": "IPY_MODEL_6c150128ee5e46938b680a45fd798185",
       "toolitems": [
        [
         "Home",
         "Reset original view",
         "home",
         "home"
        ],
        [
         "Back",
         "Back to previous view",
         "arrow-left",
         "back"
        ],
        [
         "Forward",
         "Forward to next view",
         "arrow-right",
         "forward"
        ],
        [
         "Pan",
         "Pan axes with left mouse, zoom with right",
         "arrows",
         "pan"
        ],
        [
         "Zoom",
         "Zoom to rectangle",
         "square-o",
         "zoom"
        ],
        [
         "Download",
         "Download plot",
         "floppy-o",
         "save_figure"
        ]
       ]
      }
     },
     "a3ada2363f2a4f168d05ea0fc5d8ae69": {
      "model_module": "@jupyter-widgets/controls",
      "model_module_version": "1.5.0",
      "model_name": "FloatSliderModel",
      "state": {
       "description": "180°",
       "layout": "IPY_MODEL_cee09ebbe4bc4706b786e7a653fe4c12",
       "max": 1,
       "min": -1,
       "step": 0.01,
       "style": "IPY_MODEL_c233be4d387a44f09d8aa6164965b2ff"
      }
     },
     "a4010c04f7f94f5e910725f18fe3a1ec": {
      "model_module": "@jupyter-widgets/base",
      "model_module_version": "1.2.0",
      "model_name": "LayoutModel",
      "state": {}
     },
     "a4209047dd0f4a5a84abf224424302ae": {
      "model_module": "@jupyter-widgets/controls",
      "model_module_version": "1.5.0",
      "model_name": "CheckboxModel",
      "state": {
       "description": "Disable Medicina",
       "disabled": false,
       "layout": "IPY_MODEL_2f7ca976b7b54777b9798e84ed03a413",
       "style": "IPY_MODEL_8fb74da5a004436c8c67cd1bc1d3a9dc",
       "value": false
      }
     },
     "a4880781ef674fbcab77f809a0ed4189": {
      "model_module": "@jupyter-widgets/base",
      "model_module_version": "1.2.0",
      "model_name": "LayoutModel",
      "state": {}
     },
     "a48ae475a8fe431f92a1a3b22fc33c47": {
      "model_module": "@jupyter-widgets/base",
      "model_module_version": "1.2.0",
      "model_name": "LayoutModel",
      "state": {}
     },
     "a4b070bbf848442994690d9456a2415f": {
      "model_module": "@jupyter-widgets/controls",
      "model_module_version": "1.5.0",
      "model_name": "ButtonStyleModel",
      "state": {}
     },
     "a4cd31c87349466bbb58b3f34743ec00": {
      "model_module": "@jupyter-widgets/controls",
      "model_module_version": "1.5.0",
      "model_name": "ButtonStyleModel",
      "state": {}
     },
     "a4e121abcff74994beb25d757ec0c365": {
      "model_module": "@jupyter-widgets/controls",
      "model_module_version": "1.5.0",
      "model_name": "VBoxModel",
      "state": {
       "children": [
        "IPY_MODEL_ad4381ee40c641e29c081ac7ce519491",
        "IPY_MODEL_45b0539fced84a098dec3542a492ad3e",
        "IPY_MODEL_b64c42bf3aa74823b5bde8af38f3ca7a"
       ],
       "layout": "IPY_MODEL_02cccaf5333c450299adfc587193273b"
      }
     },
     "a4e5ab05452041acaf89f50fb4a39223": {
      "model_module": "@jupyter-widgets/base",
      "model_module_version": "1.2.0",
      "model_name": "LayoutModel",
      "state": {}
     },
     "a58e4c74edc4458dba44cece5a3ffc26": {
      "model_module": "@jupyter-widgets/controls",
      "model_module_version": "1.5.0",
      "model_name": "VBoxModel",
      "state": {
       "children": [
        "IPY_MODEL_f663878c8cb14e57b94d391e096e73bd",
        "IPY_MODEL_e872534fb2ca4e56be1d42d9d5bf44b7"
       ],
       "layout": "IPY_MODEL_11f6bc5d65d74296a76328eda7dea156"
      }
     },
     "a643f05ba6ca497c85c238317fa68bf0": {
      "model_module": "@jupyter-widgets/controls",
      "model_module_version": "1.5.0",
      "model_name": "HBoxModel",
      "state": {
       "children": [
        "IPY_MODEL_629c8dca878a41d6a36e0e688319b277",
        "IPY_MODEL_ad50d837d6aa43c6acc2378f3a6ec8bd"
       ],
       "layout": "IPY_MODEL_62612cfca9a64a18b85b837fe6729d82"
      }
     },
     "a6a85ef8b43149ecb9b5724f2fe0fc8f": {
      "model_module": "@jupyter-widgets/controls",
      "model_module_version": "1.5.0",
      "model_name": "DescriptionStyleModel",
      "state": {
       "description_width": ""
      }
     },
     "a6a99f993fdf483cad7cc296d2d75064": {
      "model_module": "jupyter-matplotlib",
      "model_module_version": "^0.7.2",
      "model_name": "ToolbarModel",
      "state": {
       "layout": "IPY_MODEL_c41f7ec72811447893608dd2c4bf44f2",
       "toolitems": [
        [
         "Home",
         "Reset original view",
         "home",
         "home"
        ],
        [
         "Back",
         "Back to previous view",
         "arrow-left",
         "back"
        ],
        [
         "Forward",
         "Forward to next view",
         "arrow-right",
         "forward"
        ],
        [
         "Pan",
         "Pan axes with left mouse, zoom with right",
         "arrows",
         "pan"
        ],
        [
         "Zoom",
         "Zoom to rectangle",
         "square-o",
         "zoom"
        ],
        [
         "Download",
         "Download plot",
         "floppy-o",
         "save_figure"
        ]
       ]
      }
     },
     "a6b277d9985644b899ad7101b489a5ea": {
      "model_module": "@jupyter-widgets/controls",
      "model_module_version": "1.5.0",
      "model_name": "ButtonModel",
      "state": {
       "description": "Save Figure",
       "layout": "IPY_MODEL_e4db1a71ea1541368b055ccced1491f7",
       "style": "IPY_MODEL_275ffd7ff7854b479b01d5875b958a3e"
      }
     },
     "a761f3cbfc48495b9a167e60b9fa5e7a": {
      "model_module": "@jupyter-widgets/base",
      "model_module_version": "1.2.0",
      "model_name": "LayoutModel",
      "state": {}
     },
     "a7695f39d609424785cddbb57fcf61bd": {
      "model_module": "@jupyter-widgets/controls",
      "model_module_version": "1.5.0",
      "model_name": "ButtonModel",
      "state": {
       "description": "Reset Protected Area",
       "layout": "IPY_MODEL_f38402252c7b4d6b9d476f5a87d00eb3",
       "style": "IPY_MODEL_9715b5d2365a49af9bb4715b64d2d1a3"
      }
     },
     "a7766421c5ec44a8ba6143a9a93b8b4a": {
      "model_module": "@jupyter-widgets/base",
      "model_module_version": "1.2.0",
      "model_name": "LayoutModel",
      "state": {}
     },
     "a77cfe2050b441d28926336343d51236": {
      "model_module": "@jupyter-widgets/controls",
      "model_module_version": "1.5.0",
      "model_name": "FloatSliderModel",
      "state": {
       "description": "Protected Area Threshold",
       "layout": "IPY_MODEL_bca4081fb7da4a8eb6faf73adb0f26e8",
       "max": 1,
       "step": 0.01,
       "style": "IPY_MODEL_b7c6e6fa278f4abe9797e027e1e985fa",
       "value": 0.7
      }
     },
     "a7b35880d9934993ba64f02339f2f0cd": {
      "model_module": "@jupyter-widgets/base",
      "model_module_version": "1.2.0",
      "model_name": "LayoutModel",
      "state": {}
     },
     "a804f1b6f77d4faeb4fa4fc8dbbfa0f6": {
      "model_module": "@jupyter-widgets/controls",
      "model_module_version": "1.5.0",
      "model_name": "SliderStyleModel",
      "state": {
       "description_width": ""
      }
     },
     "a814a755484a43e986c60f9b57b81adc": {
      "model_module": "@jupyter-widgets/base",
      "model_module_version": "1.2.0",
      "model_name": "LayoutModel",
      "state": {}
     },
     "a82dbd7f41e54677a00a0bc940c585e4": {
      "model_module": "@jupyter-widgets/controls",
      "model_module_version": "1.5.0",
      "model_name": "CheckboxModel",
      "state": {
       "description": "Disable Medicina",
       "disabled": false,
       "layout": "IPY_MODEL_8ddd30ad6c01456b9c5978a75a61229e",
       "style": "IPY_MODEL_6b40c6d43b034f37884f9e83b44e4813",
       "value": false
      }
     },
     "a83a2a00d96c43f18de90ea84b05194d": {
      "model_module": "@jupyter-widgets/controls",
      "model_module_version": "1.5.0",
      "model_name": "DropdownModel",
      "state": {
       "_options_labels": [
        "tanh",
        "simple"
       ],
       "description": "Compression Function:",
       "index": 0,
       "layout": "IPY_MODEL_57bf33a21cb54dd6b575c7ed43a7b1ed",
       "style": "IPY_MODEL_161fa47cebee48818bfe2a693b8a25ae"
      }
     },
     "a842726c12294167943ee6b9103dc90a": {
      "model_module": "@jupyter-widgets/base",
      "model_module_version": "1.2.0",
      "model_name": "LayoutModel",
      "state": {}
     },
     "a8698c1ce8c64898bbee96578ffb4e89": {
      "model_module": "@jupyter-widgets/base",
      "model_module_version": "1.2.0",
      "model_name": "LayoutModel",
      "state": {}
     },
     "a8822ffcaa114030af5a3afb1bca1cbe": {
      "model_module": "@jupyter-widgets/controls",
      "model_module_version": "1.5.0",
      "model_name": "HBoxModel",
      "state": {
       "children": [
        "IPY_MODEL_f66958d55c8b471db9971a69ad3ca576",
        "IPY_MODEL_32ca9f8f748b4a0ba8c492f4175d6cbe",
        "IPY_MODEL_86e43ccf8bae47be82a8c8ef586a429b",
        "IPY_MODEL_f4f7a8420308464c89cb5ed83dbd2204"
       ],
       "layout": "IPY_MODEL_86550915ee18469b8c216cb695cf273b"
      }
     },
     "a889e46c53ff47d38657bd646ddb803a": {
      "model_module": "jupyter-matplotlib",
      "model_module_version": "^0.7.2",
      "model_name": "MPLCanvasModel",
      "state": {
       "_figure_label": "Figure 15",
       "_height": 430,
       "_image_mode": "diff",
       "_width": 1099,
       "header_visible": false,
       "layout": "IPY_MODEL_d23c86b2f5454c29803928a39cba05dd",
       "resizable": false,
       "toolbar": "IPY_MODEL_0fb99629e7864d6cafe127463fcdb742",
       "toolbar_position": "left",
       "toolbar_visible": false
      }
     },
     "a93845fb65c741e082cee9708a71a5ca": {
      "model_module": "@jupyter-widgets/controls",
      "model_module_version": "1.5.0",
      "model_name": "SliderStyleModel",
      "state": {
       "description_width": ""
      }
     },
     "a948395fff784d7a800d6e3d2621a031": {
      "model_module": "@jupyter-widgets/base",
      "model_module_version": "1.2.0",
      "model_name": "LayoutModel",
      "state": {}
     },
     "a95d51d65096467ebcf47a5fd91d8f14": {
      "model_module": "@jupyter-widgets/controls",
      "model_module_version": "1.5.0",
      "model_name": "DescriptionStyleModel",
      "state": {
       "description_width": ""
      }
     },
     "a97e5e19a8c04c36b75f1c1a81b722cd": {
      "model_module": "@jupyter-widgets/base",
      "model_module_version": "1.2.0",
      "model_name": "LayoutModel",
      "state": {}
     },
     "a9c1240f5d854d1ab3622bf6ea4cbc35": {
      "model_module": "@jupyter-widgets/base",
      "model_module_version": "1.2.0",
      "model_name": "LayoutModel",
      "state": {
       "border": "solid 4px #222",
       "margin": "4px",
       "padding": "0"
      }
     },
     "a9e3df80fb2d4264950b0ebef2f1a328": {
      "model_module": "@jupyter-widgets/base",
      "model_module_version": "1.2.0",
      "model_name": "LayoutModel",
      "state": {}
     },
     "aa02b6afa9d1482a8cb32ba8f7586e0f": {
      "model_module": "@jupyter-widgets/controls",
      "model_module_version": "1.5.0",
      "model_name": "ButtonModel",
      "state": {
       "description": "Reset Compression Controls",
       "layout": "IPY_MODEL_abd3b869f66646d3849350e61e679553",
       "style": "IPY_MODEL_8333d443ace84eeab9819b9d6e87c783"
      }
     },
     "aa382f6bd7c44ca28363b90663f063c9": {
      "model_module": "jupyter-matplotlib",
      "model_module_version": "^0.7.2",
      "model_name": "MPLCanvasModel",
      "state": {
       "_figure_label": "Figure 21",
       "_height": 550,
       "_image_mode": "diff",
       "_width": 1100,
       "header_visible": false,
       "layout": "IPY_MODEL_31ad3250113d4a578595a9a6b0d51542",
       "resizable": false,
       "toolbar": "IPY_MODEL_fbb5d537e91044eba7fbf6466c6041a3",
       "toolbar_position": "left",
       "toolbar_visible": false
      }
     },
     "aa63b51522b344c9b07297ce9443a5cc": {
      "model_module": "@jupyter-widgets/base",
      "model_module_version": "1.2.0",
      "model_name": "LayoutModel",
      "state": {
       "border": "solid 4px #222",
       "margin": "4px",
       "padding": "0"
      }
     },
     "aacc7e0371f7497cbc3f7f2b7e7e7bd9": {
      "model_module": "@jupyter-widgets/base",
      "model_module_version": "1.2.0",
      "model_name": "LayoutModel",
      "state": {}
     },
     "ab2597be22cc4e368d04d34c60cb9c8d": {
      "model_module": "@jupyter-widgets/controls",
      "model_module_version": "1.5.0",
      "model_name": "ButtonStyleModel",
      "state": {}
     },
     "ab263b4271a74367bb2f33cd25a15fda": {
      "model_module": "@jupyter-widgets/base",
      "model_module_version": "1.2.0",
      "model_name": "LayoutModel",
      "state": {}
     },
     "abaf1f4613bd46289cc5d74941517e2c": {
      "model_module": "@jupyter-widgets/base",
      "model_module_version": "1.2.0",
      "model_name": "LayoutModel",
      "state": {
       "border": "solid 4px #222",
       "margin": "4px",
       "padding": "0"
      }
     },
     "abb2b6984f8b4eeca9a9d261fd386053": {
      "model_module": "@jupyter-widgets/controls",
      "model_module_version": "1.5.0",
      "model_name": "ButtonStyleModel",
      "state": {}
     },
     "abb89c2be2fa4818b6af5d2b34a8853f": {
      "model_module": "@jupyter-widgets/base",
      "model_module_version": "1.2.0",
      "model_name": "LayoutModel",
      "state": {}
     },
     "abbd625a1ccd4b2b8202a4529a20e306": {
      "model_module": "@jupyter-widgets/base",
      "model_module_version": "1.2.0",
      "model_name": "LayoutModel",
      "state": {}
     },
     "abce0fa041a5408784ff03e283fac747": {
      "model_module": "@jupyter-widgets/controls",
      "model_module_version": "1.5.0",
      "model_name": "ButtonStyleModel",
      "state": {}
     },
     "abd3b869f66646d3849350e61e679553": {
      "model_module": "@jupyter-widgets/base",
      "model_module_version": "1.2.0",
      "model_name": "LayoutModel",
      "state": {}
     },
     "abe7f3f3c2ce4b02b75dd030284a404e": {
      "model_module": "@jupyter-widgets/base",
      "model_module_version": "1.2.0",
      "model_name": "LayoutModel",
      "state": {}
     },
     "abe8e99dc1ca4c989e82e7717d5527ed": {
      "model_module": "@jupyter-widgets/controls",
      "model_module_version": "1.5.0",
      "model_name": "ButtonModel",
      "state": {
       "description": "Save Figure",
       "layout": "IPY_MODEL_cc91b68f7b3146c39fb4785acd1237a9",
       "style": "IPY_MODEL_7dba075dc13d4ed6ab8d12c78f580c57"
      }
     },
     "ac78360f81ec407d8e33185fad9ec8f6": {
      "model_module": "@jupyter-widgets/controls",
      "model_module_version": "1.5.0",
      "model_name": "FloatSliderModel",
      "state": {
       "description": "Compression Threshold",
       "layout": "IPY_MODEL_bd7afc1fbb7a49cdb17a6bb436d9160b",
       "max": 1,
       "step": 0.01,
       "style": "IPY_MODEL_4e33ebbc882d4c869681069727807587",
       "value": 0.5
      }
     },
     "ac846661cbe34ba493ff1f96e4d927da": {
      "model_module": "@jupyter-widgets/base",
      "model_module_version": "1.2.0",
      "model_name": "LayoutModel",
      "state": {
       "border": "solid 4px #222",
       "margin": "4px",
       "padding": "0"
      }
     },
     "acb9f46bb19c4d56afa3507be7c4a25e": {
      "model_module": "@jupyter-widgets/base",
      "model_module_version": "1.2.0",
      "model_name": "LayoutModel",
      "state": {}
     },
     "acba8d68b6744e32921d32ef980c0deb": {
      "model_module": "@jupyter-widgets/controls",
      "model_module_version": "1.5.0",
      "model_name": "DescriptionStyleModel",
      "state": {
       "description_width": ""
      }
     },
     "acbedc220f58482dbd2532fea0229630": {
      "model_module": "@jupyter-widgets/base",
      "model_module_version": "1.2.0",
      "model_name": "LayoutModel",
      "state": {
       "align_items": "stretch",
       "display": "flex",
       "flex_flow": "column",
       "width": "1128px"
      }
     },
     "acc8a9bc2cd64749a23829756e4e31c0": {
      "model_module": "@jupyter-widgets/controls",
      "model_module_version": "1.5.0",
      "model_name": "DropdownModel",
      "state": {
       "_options_labels": [
        "tanh",
        "simple"
       ],
       "description": "Compression Function:",
       "index": 0,
       "layout": "IPY_MODEL_1d63271e6b79402a854fa28b50eaa099",
       "style": "IPY_MODEL_cc6354478a6e4b309f5a99164bd85468"
      }
     },
     "acda256270a8439a876456ff6e8c70c9": {
      "model_module": "@jupyter-widgets/base",
      "model_module_version": "1.2.0",
      "model_name": "LayoutModel",
      "state": {}
     },
     "ad4381ee40c641e29c081ac7ce519491": {
      "model_module": "@jupyter-widgets/controls",
      "model_module_version": "1.5.0",
      "model_name": "FloatSliderModel",
      "state": {
       "description": "0°",
       "layout": "IPY_MODEL_a97e5e19a8c04c36b75f1c1a81b722cd",
       "max": 1,
       "min": -1,
       "step": 0.01,
       "style": "IPY_MODEL_296b80b8381d41b8a81c922f365d34e9"
      }
     },
     "ad50d837d6aa43c6acc2378f3a6ec8bd": {
      "model_module": "@jupyter-widgets/controls",
      "model_module_version": "1.5.0",
      "model_name": "FloatSliderModel",
      "state": {
       "description": "Protected Area Threshold",
       "layout": "IPY_MODEL_77c926396fa04032a00731ac8ee5c47a",
       "max": 1,
       "step": 0.01,
       "style": "IPY_MODEL_928ef3789ba244d09774c26538f6b66c",
       "value": 0.7
      }
     },
     "ad73c14e2e5d49628e7141591bb92349": {
      "model_module": "@jupyter-widgets/base",
      "model_module_version": "1.2.0",
      "model_name": "LayoutModel",
      "state": {}
     },
     "ada2baecce134230a06b8c06855826a6": {
      "model_module": "@jupyter-widgets/base",
      "model_module_version": "1.2.0",
      "model_name": "LayoutModel",
      "state": {}
     },
     "ada2f179128e47729432dd310c04fa8f": {
      "model_module": "@jupyter-widgets/controls",
      "model_module_version": "1.5.0",
      "model_name": "TabModel",
      "state": {
       "_titles": {
        "0": "Global Controls",
        "1": "Protected Area Controls",
        "2": "Saturation Controls",
        "3": "Hue Controls"
       },
       "children": [
        "IPY_MODEL_db367e04a12849c394c289ba0a860cb7",
        "IPY_MODEL_9c7c4d3874924accb6b8d570f7d49e1b",
        "IPY_MODEL_402359aedec443deab0b8906693e5043",
        "IPY_MODEL_32bc141f28c94ceea7c0229292142120"
       ],
       "layout": "IPY_MODEL_7b8334606290492dbec866a2f7efc5d9"
      }
     },
     "adaca6a5287745d1aa497823784ff5c3": {
      "model_module": "@jupyter-widgets/base",
      "model_module_version": "1.2.0",
      "model_name": "LayoutModel",
      "state": {}
     },
     "adcf17bb0f304ff9b936d916a1b6afc7": {
      "model_module": "@jupyter-widgets/base",
      "model_module_version": "1.2.0",
      "model_name": "LayoutModel",
      "state": {}
     },
     "ae082a01863e4f65a4d884d920ea6e48": {
      "model_module": "@jupyter-widgets/controls",
      "model_module_version": "1.5.0",
      "model_name": "DropdownModel",
      "state": {
       "_options_labels": [
        "tanh",
        "simple"
       ],
       "description": "Compression Function:",
       "index": 0,
       "layout": "IPY_MODEL_5e29725e4a494483be341cdca141a281",
       "style": "IPY_MODEL_da1def53efc14909969fedc65f966f7e"
      }
     },
     "ae107cd54a0c402ab7cfee0f593647e4": {
      "model_module": "@jupyter-widgets/controls",
      "model_module_version": "1.5.0",
      "model_name": "ButtonModel",
      "state": {
       "description": "Save Figure",
       "layout": "IPY_MODEL_7cdbb95c9df5423ca5e5669065c9fb86",
       "style": "IPY_MODEL_58614265804240cea77a2e127f9767bd"
      }
     },
     "aeb799b641204f9dbe6576aacdb91ee7": {
      "model_module": "@jupyter-widgets/controls",
      "model_module_version": "1.5.0",
      "model_name": "FloatSliderModel",
      "state": {
       "description": "Protected Area Threshold",
       "layout": "IPY_MODEL_7b8c65d91d9e4bcfa06bdc2b91216419",
       "max": 1,
       "step": 0.01,
       "style": "IPY_MODEL_520cc4fab47b4226aa3910551a036758",
       "value": 0.7
      }
     },
     "af20aa99b65d49249190ffc4dddddc01": {
      "model_module": "@jupyter-widgets/base",
      "model_module_version": "1.2.0",
      "model_name": "LayoutModel",
      "state": {}
     },
     "af2cec3b74ab4136ae31a210ab5e6b1f": {
      "model_module": "@jupyter-widgets/controls",
      "model_module_version": "1.5.0",
      "model_name": "DescriptionStyleModel",
      "state": {
       "description_width": ""
      }
     },
     "af50fc2b71824e7ea75b27d8c7f28b45": {
      "model_module": "@jupyter-widgets/base",
      "model_module_version": "1.2.0",
      "model_name": "LayoutModel",
      "state": {}
     },
     "af80f60f4f8c4e87a9e8ab86bfaf0ed7": {
      "model_module": "@jupyter-widgets/base",
      "model_module_version": "1.2.0",
      "model_name": "LayoutModel",
      "state": {}
     },
     "afc20258ae61415c95c8b33cb0054de9": {
      "model_module": "@jupyter-widgets/controls",
      "model_module_version": "1.5.0",
      "model_name": "HBoxModel",
      "state": {
       "children": [
        "IPY_MODEL_7fefc9ce3fbf45cbbd136d8c483d20f8",
        "IPY_MODEL_df0efb4c18b44440b166703133632eb6",
        "IPY_MODEL_30f073dfb6494a069ff2a2e8f0351e6a",
        "IPY_MODEL_1072f0c48391413cac5f4179f3a077d8"
       ],
       "layout": "IPY_MODEL_964971bbd45440458fba7f499f8c5714"
      }
     },
     "afedf45b7fd644a7b6304d295f5ea451": {
      "model_module": "@jupyter-widgets/base",
      "model_module_version": "1.2.0",
      "model_name": "LayoutModel",
      "state": {}
     },
     "afeebebc205348ea821120ee5b3977c4": {
      "model_module": "@jupyter-widgets/controls",
      "model_module_version": "1.5.0",
      "model_name": "FloatSliderModel",
      "state": {
       "description": "0°",
       "layout": "IPY_MODEL_0cf657c32f6f4a33bdf58972c47a1fdc",
       "max": 1,
       "min": -1,
       "step": 0.01,
       "style": "IPY_MODEL_56b79a6bf51445778bbb9da018e3f36b"
      }
     },
     "aff42fdadebf408d9505e374f4201430": {
      "model_module": "@jupyter-widgets/controls",
      "model_module_version": "1.5.0",
      "model_name": "ButtonStyleModel",
      "state": {}
     },
     "b005799a81d445a288b3996770d89cdc": {
      "model_module": "@jupyter-widgets/controls",
      "model_module_version": "1.5.0",
      "model_name": "FloatSliderModel",
      "state": {
       "description": "225°",
       "layout": "IPY_MODEL_7143430e16f44052a924779c815abbaf",
       "max": 1,
       "min": -1,
       "step": 0.01,
       "style": "IPY_MODEL_18e818a23eca4626a9842035a03bceb8"
      }
     },
     "b0432e1594f84001add09d48fe24cc10": {
      "model_module": "@jupyter-widgets/base",
      "model_module_version": "1.2.0",
      "model_name": "LayoutModel",
      "state": {}
     },
     "b05e45658ec14c46b2c1f21fc13a9ef1": {
      "model_module": "@jupyter-widgets/controls",
      "model_module_version": "1.5.0",
      "model_name": "ButtonStyleModel",
      "state": {}
     },
     "b06a9be21d164748925fbcd0f1d07a4f": {
      "model_module": "@jupyter-widgets/base",
      "model_module_version": "1.2.0",
      "model_name": "LayoutModel",
      "state": {}
     },
     "b087682677004e87b197f132cf80df2a": {
      "model_module": "@jupyter-widgets/base",
      "model_module_version": "1.2.0",
      "model_name": "LayoutModel",
      "state": {}
     },
     "b0a24a7f7b7642e9806c6c74d78b1108": {
      "model_module": "@jupyter-widgets/base",
      "model_module_version": "1.2.0",
      "model_name": "LayoutModel",
      "state": {}
     },
     "b0a96529ece64d73a7443849785a4aba": {
      "model_module": "@jupyter-widgets/base",
      "model_module_version": "1.2.0",
      "model_name": "LayoutModel",
      "state": {}
     },
     "b0dd0999daf543d7ac1ae145ee60c16a": {
      "model_module": "@jupyter-widgets/base",
      "model_module_version": "1.2.0",
      "model_name": "LayoutModel",
      "state": {}
     },
     "b0e47323df6d4ba092d299d4174b333e": {
      "model_module": "@jupyter-widgets/controls",
      "model_module_version": "1.5.0",
      "model_name": "ButtonStyleModel",
      "state": {}
     },
     "b128dc46499d49bba40d169a3595f6a6": {
      "model_module": "@jupyter-widgets/controls",
      "model_module_version": "1.5.0",
      "model_name": "ButtonModel",
      "state": {
       "description": "Export Image",
       "layout": "IPY_MODEL_11e7f74764024b13930ae2cc513fb0bd",
       "style": "IPY_MODEL_66a566b639354fbaa40cfe0237c639ae"
      }
     },
     "b137d1a9cf1f4647bbfd7fdf069586ee": {
      "model_module": "@jupyter-widgets/controls",
      "model_module_version": "1.5.0",
      "model_name": "HBoxModel",
      "state": {
       "children": [
        "IPY_MODEL_a82dbd7f41e54677a00a0bc940c585e4",
        "IPY_MODEL_6446ecea5332464bba46c683ec907855",
        "IPY_MODEL_36690af4810046d2bde9c211f1218cdc"
       ],
       "layout": "IPY_MODEL_74a7879fcda34b80a17fee1fbd0c8438"
      }
     },
     "b14362ea16504fe2a01ce000e1bf14cd": {
      "model_module": "@jupyter-widgets/base",
      "model_module_version": "1.2.0",
      "model_name": "LayoutModel",
      "state": {}
     },
     "b145348cdc5a43b49317bea4eb2e560c": {
      "model_module": "@jupyter-widgets/controls",
      "model_module_version": "1.5.0",
      "model_name": "SliderStyleModel",
      "state": {
       "description_width": ""
      }
     },
     "b1caa108080a4fe1b0984d48f0588318": {
      "model_module": "@jupyter-widgets/base",
      "model_module_version": "1.2.0",
      "model_name": "LayoutModel",
      "state": {}
     },
     "b1cd7cc8b3994a12956d56bc9bf277f0": {
      "model_module": "@jupyter-widgets/base",
      "model_module_version": "1.2.0",
      "model_name": "LayoutModel",
      "state": {}
     },
     "b1ce6bddef6b46b49f8a3a63efe74aff": {
      "model_module": "@jupyter-widgets/base",
      "model_module_version": "1.2.0",
      "model_name": "LayoutModel",
      "state": {}
     },
     "b1f05f7d23c24f75a3c8f2fd8a5e4805": {
      "model_module": "@jupyter-widgets/base",
      "model_module_version": "1.2.0",
      "model_name": "LayoutModel",
      "state": {}
     },
     "b235f12bdb134ab8bd21edc108701907": {
      "model_module": "@jupyter-widgets/controls",
      "model_module_version": "1.5.0",
      "model_name": "SliderStyleModel",
      "state": {
       "description_width": ""
      }
     },
     "b245e07bcc2843cb801f5cca72e08d37": {
      "model_module": "@jupyter-widgets/base",
      "model_module_version": "1.2.0",
      "model_name": "LayoutModel",
      "state": {}
     },
     "b36b6684dc384bb09fcbf8ee1fd9ac9d": {
      "model_module": "@jupyter-widgets/controls",
      "model_module_version": "1.5.0",
      "model_name": "ButtonModel",
      "state": {
       "description": "Reset Compression Controls",
       "layout": "IPY_MODEL_ef77ab8ad7ad43aeab550d6a1f298de2",
       "style": "IPY_MODEL_9595dd4dcc0341b7b120cc8d82b4285b"
      }
     },
     "b3a68e7a9d8b4b1a89e9f7c493b8db25": {
      "model_module": "@jupyter-widgets/base",
      "model_module_version": "1.2.0",
      "model_name": "LayoutModel",
      "state": {}
     },
     "b3ebbbe7632c40f193e755e3f5ab7467": {
      "model_module": "@jupyter-widgets/controls",
      "model_module_version": "1.5.0",
      "model_name": "VBoxModel",
      "state": {
       "children": [
        "IPY_MODEL_9dfd13ab5bc24fb588351f6df7e4d9e6",
        "IPY_MODEL_ecc31844a24049ceba3f2166e8eb9aab",
        "IPY_MODEL_dfe58c9f91054a8182f22f5bef7ca4ea"
       ],
       "layout": "IPY_MODEL_965ba06ed09f4df48113f101301ac0cb"
      }
     },
     "b4059e1b14c24bfa83846a7d75465a69": {
      "model_module": "@jupyter-widgets/controls",
      "model_module_version": "1.5.0",
      "model_name": "DropdownModel",
      "state": {
       "_options_labels": [
        "tanh",
        "simple"
       ],
       "description": "Compression Function:",
       "index": 0,
       "layout": "IPY_MODEL_75d8f699b1ee402aa8d0d069014bde72",
       "style": "IPY_MODEL_0af61fd6d4884c32a1786562ac7618e0"
      }
     },
     "b42256159cd14e4392053777ce2cf218": {
      "model_module": "@jupyter-widgets/controls",
      "model_module_version": "1.5.0",
      "model_name": "ButtonStyleModel",
      "state": {}
     },
     "b42b5f8075f84508be4834e9e6c5d8f2": {
      "model_module": "@jupyter-widgets/controls",
      "model_module_version": "1.5.0",
      "model_name": "SliderStyleModel",
      "state": {
       "description_width": ""
      }
     },
     "b4327ad059004c7aac23e6f212b2c31a": {
      "model_module": "@jupyter-widgets/base",
      "model_module_version": "1.2.0",
      "model_name": "LayoutModel",
      "state": {}
     },
     "b440ea38d76b4a5ba4c533e0226e818e": {
      "model_module": "@jupyter-widgets/base",
      "model_module_version": "1.2.0",
      "model_name": "LayoutModel",
      "state": {}
     },
     "b482835ba87241508641353daf0e28ea": {
      "model_module": "@jupyter-widgets/controls",
      "model_module_version": "1.5.0",
      "model_name": "VBoxModel",
      "state": {
       "children": [
        "IPY_MODEL_4e253e5d211d483d8a84ea6a9ba39b31",
        "IPY_MODEL_685c9cf2dd2a4577b87ebca4400c31cf"
       ],
       "layout": "IPY_MODEL_7a035880672c4b41b8882aad3bc9e99d"
      }
     },
     "b4947285d7084456bcf565f4adbf84ce": {
      "model_module": "@jupyter-widgets/controls",
      "model_module_version": "1.5.0",
      "model_name": "DescriptionStyleModel",
      "state": {
       "description_width": ""
      }
     },
     "b4f2740dde204319b42a473ecee79412": {
      "model_module": "@jupyter-widgets/base",
      "model_module_version": "1.2.0",
      "model_name": "LayoutModel",
      "state": {}
     },
     "b535a0693d1f44259e69d243448289df": {
      "model_module": "@jupyter-widgets/base",
      "model_module_version": "1.2.0",
      "model_name": "LayoutModel",
      "state": {
       "border": "solid 4px #222",
       "margin": "4px",
       "padding": "0"
      }
     },
     "b54182f010e7473c94a6fa832be7eacd": {
      "model_module": "@jupyter-widgets/base",
      "model_module_version": "1.2.0",
      "model_name": "LayoutModel",
      "state": {}
     },
     "b5851ba8254446e28eb8a3df2fce99b2": {
      "model_module": "@jupyter-widgets/base",
      "model_module_version": "1.2.0",
      "model_name": "LayoutModel",
      "state": {}
     },
     "b5934378a4c943bab87db1df14b99211": {
      "model_module": "@jupyter-widgets/base",
      "model_module_version": "1.2.0",
      "model_name": "LayoutModel",
      "state": {}
     },
     "b60146bc72cd4983b28ec396408f8164": {
      "model_module": "@jupyter-widgets/controls",
      "model_module_version": "1.5.0",
      "model_name": "ButtonStyleModel",
      "state": {}
     },
     "b62c4d52561746efa9b2ef6f3a113b45": {
      "model_module": "@jupyter-widgets/controls",
      "model_module_version": "1.5.0",
      "model_name": "ButtonModel",
      "state": {
       "description": "Export Image",
       "layout": "IPY_MODEL_c874be5db4e34070983c5d96edd9c17c",
       "style": "IPY_MODEL_a4b070bbf848442994690d9456a2415f"
      }
     },
     "b63a71537a4f41f5a8d44dccba704b0c": {
      "model_module": "@jupyter-widgets/base",
      "model_module_version": "1.2.0",
      "model_name": "LayoutModel",
      "state": {}
     },
     "b64c42bf3aa74823b5bde8af38f3ca7a": {
      "model_module": "@jupyter-widgets/controls",
      "model_module_version": "1.5.0",
      "model_name": "FloatSliderModel",
      "state": {
       "description": "90°",
       "layout": "IPY_MODEL_b5934378a4c943bab87db1df14b99211",
       "max": 1,
       "min": -1,
       "step": 0.01,
       "style": "IPY_MODEL_bf06dea2949546e2bba5bc36dacd70ed"
      }
     },
     "b666bd10dc2142b08cb5bf568f3b8179": {
      "model_module": "@jupyter-widgets/controls",
      "model_module_version": "1.5.0",
      "model_name": "ButtonStyleModel",
      "state": {}
     },
     "b66fb30312ca4d99a8d0ac4b845ce906": {
      "model_module": "@jupyter-widgets/controls",
      "model_module_version": "1.5.0",
      "model_name": "HBoxModel",
      "state": {
       "children": [
        "IPY_MODEL_20a8d22f68504294b9114202ee2107d2",
        "IPY_MODEL_4c9abfdecf9c4ac69aa4a6a4592c86ef"
       ],
       "layout": "IPY_MODEL_0f219d363bd14fa68a5fac4c68775be0"
      }
     },
     "b6934d302f734c2faf5e8e311d03a3b0": {
      "model_module": "@jupyter-widgets/controls",
      "model_module_version": "1.5.0",
      "model_name": "DescriptionStyleModel",
      "state": {
       "description_width": ""
      }
     },
     "b6afe2b73bd44bd189ace2691441fbc6": {
      "model_module": "@jupyter-widgets/controls",
      "model_module_version": "1.5.0",
      "model_name": "ButtonStyleModel",
      "state": {}
     },
     "b6bb961ae0d040568378d6a6917f80fa": {
      "model_module": "@jupyter-widgets/controls",
      "model_module_version": "1.5.0",
      "model_name": "HBoxModel",
      "state": {
       "children": [
        "IPY_MODEL_8c9b5f84d1a847bd8e25b8742de9261d",
        "IPY_MODEL_204f92655e9f41309e4aabdadfcf9d67",
        "IPY_MODEL_b904ac135fa24caf977c92799bf5cfb9"
       ],
       "layout": "IPY_MODEL_216f05b0273640bb8d028ec90665aa81"
      }
     },
     "b6f20ba0d3d547de983e6b8de2121eae": {
      "model_module": "@jupyter-widgets/controls",
      "model_module_version": "1.5.0",
      "model_name": "SliderStyleModel",
      "state": {
       "description_width": ""
      }
     },
     "b71fd7c2b72e4a19889a10b720c7ff15": {
      "model_module": "@jupyter-widgets/controls",
      "model_module_version": "1.5.0",
      "model_name": "ButtonStyleModel",
      "state": {}
     },
     "b73716a084b44888b827e5aa4efb69bd": {
      "model_module": "@jupyter-widgets/controls",
      "model_module_version": "1.5.0",
      "model_name": "ButtonModel",
      "state": {
       "description": "Save Figure",
       "layout": "IPY_MODEL_57874011907a45d494c82f75d24add41",
       "style": "IPY_MODEL_e0f1f05120554bcfa2575893e295c9fc"
      }
     },
     "b79cfab5a9d846cdb89692ac9c45a90b": {
      "model_module": "@jupyter-widgets/controls",
      "model_module_version": "1.5.0",
      "model_name": "HBoxModel",
      "state": {
       "children": [
        "IPY_MODEL_94cd33c2b7e6494e8bd73011bcb78e61",
        "IPY_MODEL_6f014682059f4a0baf3cd77d3dbad4df",
        "IPY_MODEL_82bc83fbf6d74762a7b5de4e27458f93"
       ],
       "layout": "IPY_MODEL_9505aa52a2354aae85cc6f0d8a41db78"
      }
     },
     "b7c6e6fa278f4abe9797e027e1e985fa": {
      "model_module": "@jupyter-widgets/controls",
      "model_module_version": "1.5.0",
      "model_name": "SliderStyleModel",
      "state": {
       "description_width": ""
      }
     },
     "b7f56a12a757453ba5f4337daf32dce9": {
      "model_module": "@jupyter-widgets/controls",
      "model_module_version": "1.5.0",
      "model_name": "TabModel",
      "state": {
       "_titles": {
        "0": "Global Controls",
        "1": "Compression Controls"
       },
       "children": [
        "IPY_MODEL_061890dd69714db1a91d30559cc8ac99",
        "IPY_MODEL_df305ec4a3074f0182ed49ca87dec4eb"
       ],
       "layout": "IPY_MODEL_52b28afc70734594b9159a8e2f813b6b"
      }
     },
     "b7feecee9895479aa92d84dd5a71d338": {
      "model_module": "@jupyter-widgets/base",
      "model_module_version": "1.2.0",
      "model_name": "LayoutModel",
      "state": {}
     },
     "b80fad7dc6c144baa9d70be1193a542c": {
      "model_module": "@jupyter-widgets/controls",
      "model_module_version": "1.5.0",
      "model_name": "DropdownModel",
      "state": {
       "_options_labels": [
        "tanh",
        "simple"
       ],
       "description": "Compression Function:",
       "index": 0,
       "layout": "IPY_MODEL_17c55826838e4641889083d73db9954b",
       "style": "IPY_MODEL_b8174c0e5756401db2d7d3a70195a6c8"
      }
     },
     "b8174c0e5756401db2d7d3a70195a6c8": {
      "model_module": "@jupyter-widgets/controls",
      "model_module_version": "1.5.0",
      "model_name": "DescriptionStyleModel",
      "state": {
       "description_width": ""
      }
     },
     "b83c2dfbe4954ce38c05115ec76389f9": {
      "model_module": "@jupyter-widgets/base",
      "model_module_version": "1.2.0",
      "model_name": "LayoutModel",
      "state": {}
     },
     "b8513288fe26486aa1d1031351cb07b6": {
      "model_module": "@jupyter-widgets/controls",
      "model_module_version": "1.5.0",
      "model_name": "ButtonStyleModel",
      "state": {}
     },
     "b8809478cfe94512864c64fd20989943": {
      "model_module": "@jupyter-widgets/controls",
      "model_module_version": "1.5.0",
      "model_name": "FloatSliderModel",
      "state": {
       "description": "135°",
       "layout": "IPY_MODEL_c9972425a3c3411dbbb3400b0e95e08e",
       "max": 1,
       "min": -1,
       "step": 0.01,
       "style": "IPY_MODEL_effe77b8fb414c0ca96b6f9f4ef5fb5b"
      }
     },
     "b904ac135fa24caf977c92799bf5cfb9": {
      "model_module": "@jupyter-widgets/controls",
      "model_module_version": "1.5.0",
      "model_name": "FloatSliderModel",
      "state": {
       "description": "Compression Threshold",
       "layout": "IPY_MODEL_a4e5ab05452041acaf89f50fb4a39223",
       "max": 1,
       "step": 0.01,
       "style": "IPY_MODEL_d6a56d71253b4f0997a7ad17020d7b31",
       "value": 0.5
      }
     },
     "b920a9bfa0194d6ab8c87979f11aef09": {
      "model_module": "@jupyter-widgets/controls",
      "model_module_version": "1.5.0",
      "model_name": "ButtonModel",
      "state": {
       "description": "Save Figure",
       "layout": "IPY_MODEL_cc962551732d47f6b260645cafba8f97",
       "style": "IPY_MODEL_18b800dbf6bf496ba7b1647d580075e0"
      }
     },
     "b973add6044a4026837a798d5c9c911b": {
      "model_module": "@jupyter-widgets/controls",
      "model_module_version": "1.5.0",
      "model_name": "SliderStyleModel",
      "state": {
       "description_width": ""
      }
     },
     "b9c323c4e9ad4bc3818c52880dd3cab9": {
      "model_module": "@jupyter-widgets/controls",
      "model_module_version": "1.5.0",
      "model_name": "ButtonStyleModel",
      "state": {}
     },
     "b9f9338ee34446ccbec7d6bed6798c96": {
      "model_module": "@jupyter-widgets/controls",
      "model_module_version": "1.5.0",
      "model_name": "DropdownModel",
      "state": {
       "_options_labels": [
        "tanh",
        "simple"
       ],
       "description": "Compression Function:",
       "index": 0,
       "layout": "IPY_MODEL_f6f2f7c482a640deb9fa902ffff04dfa",
       "style": "IPY_MODEL_fb829c09db2242bdbf3e23be739dbcb8"
      }
     },
     "ba104b037a4647fdbb5e4250164abe10": {
      "model_module": "@jupyter-widgets/base",
      "model_module_version": "1.2.0",
      "model_name": "LayoutModel",
      "state": {}
     },
     "ba130a9edc5e4c39b0e45f28cc4df137": {
      "model_module": "@jupyter-widgets/controls",
      "model_module_version": "1.5.0",
      "model_name": "FloatSliderModel",
      "state": {
       "description": "315°",
       "layout": "IPY_MODEL_4460e0307e8145ee9d07a232e20e6558",
       "max": 1,
       "min": -1,
       "step": 0.01,
       "style": "IPY_MODEL_c838ee1e5ba4431eb3c6819b9f4df881"
      }
     },
     "ba629f222dfc4b088e1f12952b3224c1": {
      "model_module": "@jupyter-widgets/base",
      "model_module_version": "1.2.0",
      "model_name": "LayoutModel",
      "state": {
       "border": "solid 4px #222",
       "margin": "4px",
       "padding": "0"
      }
     },
     "ba749b10a0e2420b9a128a1223414387": {
      "model_module": "@jupyter-widgets/base",
      "model_module_version": "1.2.0",
      "model_name": "LayoutModel",
      "state": {}
     },
     "baa8744ebdd740ab91855056481f95a5": {
      "model_module": "@jupyter-widgets/base",
      "model_module_version": "1.2.0",
      "model_name": "LayoutModel",
      "state": {}
     },
     "bacf77034bc3454298170859f9c4313c": {
      "model_module": "@jupyter-widgets/controls",
      "model_module_version": "1.5.0",
      "model_name": "SliderStyleModel",
      "state": {
       "description_width": ""
      }
     },
     "bad023acbaf74ca9acc8a392942f5d2d": {
      "model_module": "@jupyter-widgets/controls",
      "model_module_version": "1.5.0",
      "model_name": "FloatSliderModel",
      "state": {
       "description": "Protected Area Threshold",
       "layout": "IPY_MODEL_c01cab43dfc0472480defccb80a560ec",
       "max": 1,
       "step": 0.01,
       "style": "IPY_MODEL_229560a2298a4d78b1bf68aba6905d3c",
       "value": 0.7
      }
     },
     "bae2a50d9bb9410bad61d7d02874aba4": {
      "model_module": "@jupyter-widgets/base",
      "model_module_version": "1.2.0",
      "model_name": "LayoutModel",
      "state": {}
     },
     "bb1288ba3347417d92bc3addac357f27": {
      "model_module": "@jupyter-widgets/base",
      "model_module_version": "1.2.0",
      "model_name": "LayoutModel",
      "state": {}
     },
     "bb1d3d64422940d1a6cc5bf6c44f7ce7": {
      "model_module": "@jupyter-widgets/controls",
      "model_module_version": "1.5.0",
      "model_name": "SliderStyleModel",
      "state": {
       "description_width": ""
      }
     },
     "bb33df6b88f54410896486ce68ac3fdb": {
      "model_module": "@jupyter-widgets/base",
      "model_module_version": "1.2.0",
      "model_name": "LayoutModel",
      "state": {}
     },
     "bb7f3768d5784d30b41a19055241daa3": {
      "model_module": "@jupyter-widgets/controls",
      "model_module_version": "1.5.0",
      "model_name": "FloatSliderModel",
      "state": {
       "description": "Protected Area Threshold",
       "layout": "IPY_MODEL_abe7f3f3c2ce4b02b75dd030284a404e",
       "max": 1,
       "step": 0.01,
       "style": "IPY_MODEL_e15df93c4edd435589b25066d6a0b527",
       "value": 0.7
      }
     },
     "bc0752df66b940899d4c7ab5a6b24854": {
      "model_module": "@jupyter-widgets/controls",
      "model_module_version": "1.5.0",
      "model_name": "TabModel",
      "state": {
       "_titles": {
        "0": "Global Controls",
        "1": "Protected Area Controls",
        "2": "Saturation Controls",
        "3": "Hue Controls"
       },
       "children": [
        "IPY_MODEL_473eb03df9de47b9b3f90b033ea801d5",
        "IPY_MODEL_cc238b786b5d413a8aa6cc8e370588d5",
        "IPY_MODEL_7415ebac474d457ea9ababe6a11062aa",
        "IPY_MODEL_20cac78412b64c30b09d2a4372109390"
       ],
       "layout": "IPY_MODEL_ebd0e3f6d17b433ca821a735f19ded86"
      }
     },
     "bc0dd4f0e1424c7591a8127cd633e26b": {
      "model_module": "@jupyter-widgets/base",
      "model_module_version": "1.2.0",
      "model_name": "LayoutModel",
      "state": {}
     },
     "bc53ade6720849118773cf9987eac433": {
      "model_module": "@jupyter-widgets/controls",
      "model_module_version": "1.5.0",
      "model_name": "CheckboxModel",
      "state": {
       "description": "Disable Medicina",
       "disabled": false,
       "layout": "IPY_MODEL_0f8b721f57914d9b897a5196524d70b6",
       "style": "IPY_MODEL_58d69b9b15b14b3984e99891b0f7ff23",
       "value": false
      }
     },
     "bc5578db00874693ad33f45ba0ea3e2b": {
      "model_module": "@jupyter-widgets/controls",
      "model_module_version": "1.5.0",
      "model_name": "ButtonModel",
      "state": {
       "description": "Export Image",
       "layout": "IPY_MODEL_229fe5dc94f44aadb4fbae3448749d56",
       "style": "IPY_MODEL_0f36b1a3bf5b4f1b91103eca9716a138"
      }
     },
     "bca4081fb7da4a8eb6faf73adb0f26e8": {
      "model_module": "@jupyter-widgets/base",
      "model_module_version": "1.2.0",
      "model_name": "LayoutModel",
      "state": {}
     },
     "bd3f76e6fe3844458e672f31ad498048": {
      "model_module": "@jupyter-widgets/base",
      "model_module_version": "1.2.0",
      "model_name": "LayoutModel",
      "state": {}
     },
     "bd7afc1fbb7a49cdb17a6bb436d9160b": {
      "model_module": "@jupyter-widgets/base",
      "model_module_version": "1.2.0",
      "model_name": "LayoutModel",
      "state": {}
     },
     "bd7cb332b3fb45c09dcb9ae3951c71fe": {
      "model_module": "@jupyter-widgets/controls",
      "model_module_version": "1.5.0",
      "model_name": "SliderStyleModel",
      "state": {
       "description_width": ""
      }
     },
     "bdb55e801f7f4490b85c11d010608e91": {
      "model_module": "@jupyter-widgets/base",
      "model_module_version": "1.2.0",
      "model_name": "LayoutModel",
      "state": {}
     },
     "be343c03f17445baa5dcaf778a2c040e": {
      "model_module": "@jupyter-widgets/base",
      "model_module_version": "1.2.0",
      "model_name": "LayoutModel",
      "state": {}
     },
     "be465ff9a95840e5af86b2f26cbfa958": {
      "model_module": "@jupyter-widgets/base",
      "model_module_version": "1.2.0",
      "model_name": "LayoutModel",
      "state": {}
     },
     "be88ba0eb32b450aad2361d2f9adf7fd": {
      "model_module": "@jupyter-widgets/controls",
      "model_module_version": "1.5.0",
      "model_name": "SliderStyleModel",
      "state": {
       "description_width": ""
      }
     },
     "be89cb5a63fd41598c9e81e34f852785": {
      "model_module": "@jupyter-widgets/base",
      "model_module_version": "1.2.0",
      "model_name": "LayoutModel",
      "state": {}
     },
     "bebec2b47d9d4210baf5a944f4018f0f": {
      "model_module": "@jupyter-widgets/controls",
      "model_module_version": "1.5.0",
      "model_name": "HBoxModel",
      "state": {
       "children": [
        "IPY_MODEL_0f68161ea04649ea875075db84c23304",
        "IPY_MODEL_d98a767951534d77a7bcaccf1bd324d7",
        "IPY_MODEL_cb34958615e04f6cadef2136de734b1d"
       ],
       "layout": "IPY_MODEL_64eecffb4d2f4d9e910cdf56d6ae09e8"
      }
     },
     "bf06dea2949546e2bba5bc36dacd70ed": {
      "model_module": "@jupyter-widgets/controls",
      "model_module_version": "1.5.0",
      "model_name": "SliderStyleModel",
      "state": {
       "description_width": ""
      }
     },
     "bf20eb4a5edb48098d2e5356cad3ad94": {
      "model_module": "@jupyter-widgets/base",
      "model_module_version": "1.2.0",
      "model_name": "LayoutModel",
      "state": {}
     },
     "bfb3864cb9d645019777201d125209e7": {
      "model_module": "@jupyter-widgets/controls",
      "model_module_version": "1.5.0",
      "model_name": "FloatSliderModel",
      "state": {
       "description": "315°",
       "layout": "IPY_MODEL_14fc7567fa6842abb5ee6527b87b233f",
       "max": 1,
       "min": -1,
       "step": 0.01,
       "style": "IPY_MODEL_859621f4b0c842bf8371421ec51baba2"
      }
     },
     "c01cab43dfc0472480defccb80a560ec": {
      "model_module": "@jupyter-widgets/base",
      "model_module_version": "1.2.0",
      "model_name": "LayoutModel",
      "state": {}
     },
     "c030c4a88bb547dcb322adb616ca5a15": {
      "model_module": "@jupyter-widgets/base",
      "model_module_version": "1.2.0",
      "model_name": "LayoutModel",
      "state": {}
     },
     "c09f8e9dc7014e0e9e1812aaf1cee257": {
      "model_module": "@jupyter-widgets/controls",
      "model_module_version": "1.5.0",
      "model_name": "HBoxModel",
      "state": {
       "children": [
        "IPY_MODEL_036461d13aba41fda546c9267e37ed6c",
        "IPY_MODEL_4ac1dc3070d1420a9f0c91e3dcdeaa32",
        "IPY_MODEL_7eb205cae5e14c64997fec17e152b009",
        "IPY_MODEL_59fb1d1ef3c4469ea165c8b7e8348055"
       ],
       "layout": "IPY_MODEL_adaca6a5287745d1aa497823784ff5c3"
      }
     },
     "c191db0b44914d2b9c0fabd7b17774dc": {
      "model_module": "@jupyter-widgets/base",
      "model_module_version": "1.2.0",
      "model_name": "LayoutModel",
      "state": {}
     },
     "c1c85493f1db472e935fed4a9d43a18f": {
      "model_module": "@jupyter-widgets/controls",
      "model_module_version": "1.5.0",
      "model_name": "FloatSliderModel",
      "state": {
       "description": "Compression Threshold",
       "layout": "IPY_MODEL_608b5af7adb64918a0b3f0eff8f051bd",
       "max": 1,
       "step": 0.01,
       "style": "IPY_MODEL_1541ec7272ae453eab5a7ce93aef4832",
       "value": 0.8
      }
     },
     "c1f11589f58b41e1b3a498fcfa5939e4": {
      "model_module": "@jupyter-widgets/controls",
      "model_module_version": "1.5.0",
      "model_name": "SliderStyleModel",
      "state": {
       "description_width": ""
      }
     },
     "c2032d920e6b4f089ba4a98400588377": {
      "model_module": "@jupyter-widgets/controls",
      "model_module_version": "1.5.0",
      "model_name": "ButtonModel",
      "state": {
       "description": "Reset Hue Controls",
       "layout": "IPY_MODEL_a254dca1001b4b519528769076ee4be5",
       "style": "IPY_MODEL_b666bd10dc2142b08cb5bf568f3b8179"
      }
     },
     "c21b6d7099474ca48a970602956b3758": {
      "model_module": "@jupyter-widgets/controls",
      "model_module_version": "1.5.0",
      "model_name": "ButtonModel",
      "state": {
       "description": "Reset Saturation Controls",
       "layout": "IPY_MODEL_e12a2acbc3aa4ff69edf1236e08a3740",
       "style": "IPY_MODEL_c3ad841a252144f68cde9cd9d9194829"
      }
     },
     "c233be4d387a44f09d8aa6164965b2ff": {
      "model_module": "@jupyter-widgets/controls",
      "model_module_version": "1.5.0",
      "model_name": "SliderStyleModel",
      "state": {
       "description_width": ""
      }
     },
     "c25a8021f66d42a5ba9698d9ff352704": {
      "model_module": "@jupyter-widgets/controls",
      "model_module_version": "1.5.0",
      "model_name": "ButtonModel",
      "state": {
       "description": "Reset Saturation Controls",
       "layout": "IPY_MODEL_0873b3e341574483867d14f9243fc3ab",
       "style": "IPY_MODEL_1660ebeee0bc4a4088fdee55aa1005a6"
      }
     },
     "c2cdfb1e01b748cbbc7a67d4ab7dd734": {
      "model_module": "@jupyter-widgets/controls",
      "model_module_version": "1.5.0",
      "model_name": "SliderStyleModel",
      "state": {
       "description_width": ""
      }
     },
     "c31085ef14b1472da99559e35ffbe0de": {
      "model_module": "@jupyter-widgets/base",
      "model_module_version": "1.2.0",
      "model_name": "LayoutModel",
      "state": {}
     },
     "c33bf3d0a816453ab9d6f809e915d6c0": {
      "model_module": "@jupyter-widgets/base",
      "model_module_version": "1.2.0",
      "model_name": "LayoutModel",
      "state": {}
     },
     "c34272f3c53544b99257cccf340341b0": {
      "model_module": "@jupyter-widgets/controls",
      "model_module_version": "1.5.0",
      "model_name": "ButtonStyleModel",
      "state": {}
     },
     "c354629008a74b7aa2838c207f6ad6f5": {
      "model_module": "@jupyter-widgets/controls",
      "model_module_version": "1.5.0",
      "model_name": "CheckboxModel",
      "state": {
       "description": "Disable Medicina",
       "disabled": false,
       "layout": "IPY_MODEL_580b409925374fa5a33441e0180b631b",
       "style": "IPY_MODEL_b4947285d7084456bcf565f4adbf84ce",
       "value": false
      }
     },
     "c36ede7d3dad44b9b4c4a9d46c563637": {
      "model_module": "@jupyter-widgets/controls",
      "model_module_version": "1.5.0",
      "model_name": "FloatSliderModel",
      "state": {
       "description": "180°",
       "layout": "IPY_MODEL_f2bd5344686e4fccbf90f3c8a11f3176",
       "max": 1,
       "min": -1,
       "step": 0.01,
       "style": "IPY_MODEL_a1ec23e5b9f142cca5aafbe1330a63d3"
      }
     },
     "c370e206b1124845b9eed1779803e410": {
      "model_module": "@jupyter-widgets/controls",
      "model_module_version": "1.5.0",
      "model_name": "FloatSliderModel",
      "state": {
       "description": "315°",
       "layout": "IPY_MODEL_ca0be53232104df58d014f58ef6727a7",
       "max": 1,
       "min": -1,
       "step": 0.01,
       "style": "IPY_MODEL_295f03b946874111978bbe8d1137dc62"
      }
     },
     "c374d76315b34efb94c229f318f2a8b9": {
      "model_module": "@jupyter-widgets/controls",
      "model_module_version": "1.5.0",
      "model_name": "FloatSliderModel",
      "state": {
       "description": "270°",
       "layout": "IPY_MODEL_77fe4ced9eaf41cd83a01028577f7068",
       "max": 1,
       "min": -1,
       "step": 0.01,
       "style": "IPY_MODEL_f4548c3a151c400abef76d6f0a87f3a2"
      }
     },
     "c3ad841a252144f68cde9cd9d9194829": {
      "model_module": "@jupyter-widgets/controls",
      "model_module_version": "1.5.0",
      "model_name": "ButtonStyleModel",
      "state": {}
     },
     "c3e8c34ca1e943a283061de428d61823": {
      "model_module": "@jupyter-widgets/controls",
      "model_module_version": "1.5.0",
      "model_name": "BoxModel",
      "state": {
       "children": [
        "IPY_MODEL_3fd0992e0e854ed180c9de8b44f35f07",
        "IPY_MODEL_8f83f2171c4a4639b692d04f8c5e9b29"
       ],
       "layout": "IPY_MODEL_a1ab6e42191c4472994a23d0532ab0a0"
      }
     },
     "c3eb7aa00268461aaab05c40e45932e6": {
      "model_module": "@jupyter-widgets/controls",
      "model_module_version": "1.5.0",
      "model_name": "FloatSliderModel",
      "state": {
       "description": "Compression Threshold",
       "layout": "IPY_MODEL_f1859cd4bd7b41c58a6adcb314a40954",
       "max": 1,
       "step": 0.01,
       "style": "IPY_MODEL_fd5363edd4c946a4a5a88d843eee523f",
       "value": 0.8
      }
     },
     "c40b661f395947d7aa073984f2080ef8": {
      "model_module": "@jupyter-widgets/controls",
      "model_module_version": "1.5.0",
      "model_name": "FloatSliderModel",
      "state": {
       "description": "315°",
       "layout": "IPY_MODEL_8ce816d47cd84b32860a5e956712173a",
       "max": 1,
       "min": -1,
       "step": 0.01,
       "style": "IPY_MODEL_454ca46c0ae5466281b86375165eda54"
      }
     },
     "c41c0b212a314b9bbb09b302ff177701": {
      "model_module": "@jupyter-widgets/controls",
      "model_module_version": "1.5.0",
      "model_name": "FloatSliderModel",
      "state": {
       "description": "180°",
       "layout": "IPY_MODEL_b3a68e7a9d8b4b1a89e9f7c493b8db25",
       "max": 1,
       "min": -1,
       "step": 0.01,
       "style": "IPY_MODEL_42008621882b40e1b178ad29bdad4aad"
      }
     },
     "c41f7ec72811447893608dd2c4bf44f2": {
      "model_module": "@jupyter-widgets/base",
      "model_module_version": "1.2.0",
      "model_name": "LayoutModel",
      "state": {}
     },
     "c427761d117f4569af6553de8a6a0fb3": {
      "model_module": "@jupyter-widgets/base",
      "model_module_version": "1.2.0",
      "model_name": "LayoutModel",
      "state": {}
     },
     "c4344963dad34554876aa9e24ad099e5": {
      "model_module": "@jupyter-widgets/controls",
      "model_module_version": "1.5.0",
      "model_name": "VBoxModel",
      "state": {
       "children": [
        "IPY_MODEL_ffbe321cd9c743ff9c23ba211de9d5b5",
        "IPY_MODEL_e35104b6aa6748d49af397cd94d6c9f0",
        "IPY_MODEL_f424cd10af864fd4a5747fa3e2b8645f"
       ],
       "layout": "IPY_MODEL_4e9dd762248f4bef874ee71261a86bf2"
      }
     },
     "c43591df8d164a35abae9b3e017ed0bf": {
      "model_module": "@jupyter-widgets/base",
      "model_module_version": "1.2.0",
      "model_name": "LayoutModel",
      "state": {}
     },
     "c4849e335d6b492ead0f349e99f020d9": {
      "model_module": "@jupyter-widgets/base",
      "model_module_version": "1.2.0",
      "model_name": "LayoutModel",
      "state": {}
     },
     "c49671f338394b5491acfb05756ead41": {
      "model_module": "@jupyter-widgets/controls",
      "model_module_version": "1.5.0",
      "model_name": "FloatSliderModel",
      "state": {
       "description": "Compression Threshold",
       "layout": "IPY_MODEL_b1caa108080a4fe1b0984d48f0588318",
       "max": 1,
       "step": 0.01,
       "style": "IPY_MODEL_50aa0f9b3af147f4bedd1604ed55eef0",
       "value": 0.8
      }
     },
     "c5002cf8081b4179baf4fb81e78c42fc": {
      "model_module": "@jupyter-widgets/controls",
      "model_module_version": "1.5.0",
      "model_name": "SliderStyleModel",
      "state": {
       "description_width": ""
      }
     },
     "c50f95f020d04f2dab26c03463f577f2": {
      "model_module": "@jupyter-widgets/base",
      "model_module_version": "1.2.0",
      "model_name": "LayoutModel",
      "state": {}
     },
     "c521c9cc02c944748cc25140bfc810f3": {
      "model_module": "@jupyter-widgets/base",
      "model_module_version": "1.2.0",
      "model_name": "LayoutModel",
      "state": {}
     },
     "c549eb3eb5a146c7b60cdb5dfd6a6d56": {
      "model_module": "@jupyter-widgets/base",
      "model_module_version": "1.2.0",
      "model_name": "LayoutModel",
      "state": {}
     },
     "c597d7c1a21244dc90f21684af606fa0": {
      "model_module": "@jupyter-widgets/base",
      "model_module_version": "1.2.0",
      "model_name": "LayoutModel",
      "state": {
       "border": "solid 4px #222",
       "margin": "4px",
       "padding": "0"
      }
     },
     "c59c7035994f40d8b1c93e70aecbd28c": {
      "model_module": "@jupyter-widgets/controls",
      "model_module_version": "1.5.0",
      "model_name": "ButtonModel",
      "state": {
       "description": "Export Image",
       "layout": "IPY_MODEL_d82bac0ff38a48709f0e630f7eca6c01",
       "style": "IPY_MODEL_544dfcda92494d388033e159038ec1f2"
      }
     },
     "c6e43ff9b7074525b1675911555659a0": {
      "model_module": "@jupyter-widgets/controls",
      "model_module_version": "1.5.0",
      "model_name": "ButtonModel",
      "state": {
       "description": "Reset Saturation Controls",
       "layout": "IPY_MODEL_4c53ae0591be44a5a3da1a9abb339062",
       "style": "IPY_MODEL_e4c8c57a8522427d9495483a8a087f8c"
      }
     },
     "c71e3bddc01c448fa2bfe1388e3e7a09": {
      "model_module": "@jupyter-widgets/controls",
      "model_module_version": "1.5.0",
      "model_name": "SliderStyleModel",
      "state": {
       "description_width": ""
      }
     },
     "c7383ed0b46f4539a4cc8b78d61dbe1b": {
      "model_module": "@jupyter-widgets/controls",
      "model_module_version": "1.5.0",
      "model_name": "FloatSliderModel",
      "state": {
       "description": "225°",
       "layout": "IPY_MODEL_85368d284668465196f26d41c4f11923",
       "max": 1,
       "min": -1,
       "step": 0.01,
       "style": "IPY_MODEL_d00740caccf14e0f8953b1612044b45f"
      }
     },
     "c77092d9f80f472fa576c65b7399cf90": {
      "model_module": "@jupyter-widgets/base",
      "model_module_version": "1.2.0",
      "model_name": "LayoutModel",
      "state": {}
     },
     "c7ac951031824752aad3b939a8552d56": {
      "model_module": "@jupyter-widgets/controls",
      "model_module_version": "1.5.0",
      "model_name": "SliderStyleModel",
      "state": {
       "description_width": ""
      }
     },
     "c827afe90ddc4a90b38bc394af6bf2b0": {
      "model_module": "jupyter-matplotlib",
      "model_module_version": "^0.7.2",
      "model_name": "MPLCanvasModel",
      "state": {
       "_figure_label": "Figure 24",
       "_height": 550,
       "_width": 1100,
       "header_visible": false,
       "layout": "IPY_MODEL_00560b7b655e485b928ce7f227cbdb60",
       "resizable": false,
       "toolbar": "IPY_MODEL_21f51ffa5b8d47a18326aaa8c67b721a",
       "toolbar_position": "left",
       "toolbar_visible": false
      }
     },
     "c838ee1e5ba4431eb3c6819b9f4df881": {
      "model_module": "@jupyter-widgets/controls",
      "model_module_version": "1.5.0",
      "model_name": "SliderStyleModel",
      "state": {
       "description_width": ""
      }
     },
     "c874be5db4e34070983c5d96edd9c17c": {
      "model_module": "@jupyter-widgets/base",
      "model_module_version": "1.2.0",
      "model_name": "LayoutModel",
      "state": {}
     },
     "c88a818d64ca4ccabafd235eb7ecb673": {
      "model_module": "@jupyter-widgets/base",
      "model_module_version": "1.2.0",
      "model_name": "LayoutModel",
      "state": {}
     },
     "c89564b6b00e4b1d867a7f10617c01b6": {
      "model_module": "@jupyter-widgets/controls",
      "model_module_version": "1.5.0",
      "model_name": "FloatSliderModel",
      "state": {
       "description": "135°",
       "layout": "IPY_MODEL_6da1b58c2f044174a7b7702ea7c2970b",
       "max": 1,
       "min": -1,
       "step": 0.01,
       "style": "IPY_MODEL_fef1cec35bce42f09951591eb3bbc364"
      }
     },
     "c8b3a2182b674c928bfe25fffabe8703": {
      "model_module": "@jupyter-widgets/base",
      "model_module_version": "1.2.0",
      "model_name": "LayoutModel",
      "state": {}
     },
     "c8c46cb38178443d870da8534ad6f700": {
      "model_module": "@jupyter-widgets/controls",
      "model_module_version": "1.5.0",
      "model_name": "ButtonModel",
      "state": {
       "description": "Export Image",
       "layout": "IPY_MODEL_47bcdb5e762e450dae5529d9ae92cddd",
       "style": "IPY_MODEL_1957e121e33841d6ab7b96375ac963a7"
      }
     },
     "c8cb934e8c1e41a5bb574da980cd91e9": {
      "model_module": "@jupyter-widgets/base",
      "model_module_version": "1.2.0",
      "model_name": "LayoutModel",
      "state": {}
     },
     "c91e0f86af6d4641a202dcf9de7c4076": {
      "model_module": "@jupyter-widgets/controls",
      "model_module_version": "1.5.0",
      "model_name": "DescriptionStyleModel",
      "state": {
       "description_width": ""
      }
     },
     "c9337e80323e402f86b52a41c1cffba7": {
      "model_module": "@jupyter-widgets/base",
      "model_module_version": "1.2.0",
      "model_name": "LayoutModel",
      "state": {}
     },
     "c97e269e6d884b9695102e4d240c24de": {
      "model_module": "@jupyter-widgets/base",
      "model_module_version": "1.2.0",
      "model_name": "LayoutModel",
      "state": {}
     },
     "c9972425a3c3411dbbb3400b0e95e08e": {
      "model_module": "@jupyter-widgets/base",
      "model_module_version": "1.2.0",
      "model_name": "LayoutModel",
      "state": {}
     },
     "ca0be53232104df58d014f58ef6727a7": {
      "model_module": "@jupyter-widgets/base",
      "model_module_version": "1.2.0",
      "model_name": "LayoutModel",
      "state": {}
     },
     "ca1c4675ca864b1d8ff8ed5f8bcdf20b": {
      "model_module": "@jupyter-widgets/controls",
      "model_module_version": "1.5.0",
      "model_name": "ButtonModel",
      "state": {
       "description": "Save Figure",
       "layout": "IPY_MODEL_f354c3df63dc47199013c2e6e9d841b3",
       "style": "IPY_MODEL_a06cc49fc2b345c29c755a3d9d198fda"
      }
     },
     "ca32b124fc124eb99f24a7e10d838fe1": {
      "model_module": "@jupyter-widgets/controls",
      "model_module_version": "1.5.0",
      "model_name": "ButtonStyleModel",
      "state": {}
     },
     "ca7442711e94495ca31d425c0b5d22a6": {
      "model_module": "@jupyter-widgets/base",
      "model_module_version": "1.2.0",
      "model_name": "LayoutModel",
      "state": {}
     },
     "cb34958615e04f6cadef2136de734b1d": {
      "model_module": "@jupyter-widgets/controls",
      "model_module_version": "1.5.0",
      "model_name": "ButtonModel",
      "state": {
       "description": "Save Figure",
       "layout": "IPY_MODEL_2b644ca4cd75420983d3fbaab6e34b86",
       "style": "IPY_MODEL_7fc69b0fbad042e0b062f0708602c93c"
      }
     },
     "cb52e1da656149d7ae4fecccdaffa7f7": {
      "model_module": "@jupyter-widgets/controls",
      "model_module_version": "1.5.0",
      "model_name": "ButtonModel",
      "state": {
       "description": "Reset Saturation Controls",
       "layout": "IPY_MODEL_c8cb934e8c1e41a5bb574da980cd91e9",
       "style": "IPY_MODEL_107d5a2bc43746759092b63fc5c859c9"
      }
     },
     "cb5b0d1a6fae4d73be0307895ea5c500": {
      "model_module": "@jupyter-widgets/controls",
      "model_module_version": "1.5.0",
      "model_name": "ButtonModel",
      "state": {
       "description": "Export Image",
       "layout": "IPY_MODEL_b087682677004e87b197f132cf80df2a",
       "style": "IPY_MODEL_ab2597be22cc4e368d04d34c60cb9c8d"
      }
     },
     "cb6556157809459a856980ee0b2e89ed": {
      "model_module": "@jupyter-widgets/controls",
      "model_module_version": "1.5.0",
      "model_name": "ButtonModel",
      "state": {
       "description": "Reset Hue Controls",
       "layout": "IPY_MODEL_db95f0df987548608c7c5ffa8393d4b6",
       "style": "IPY_MODEL_394dd9a910c4479daff4d045bd6c98e1"
      }
     },
     "cb76ad6f24514859a1569e78f494b52f": {
      "model_module": "@jupyter-widgets/output",
      "model_module_version": "1.0.0",
      "model_name": "OutputModel",
      "state": {
       "layout": "IPY_MODEL_d8f35023e6b349c5bf90b43e43bd3f34",
       "outputs": [
        {
         "data": {
          "application/vnd.jupyter.widget-view+json": {
           "model_id": "a889e46c53ff47d38657bd646ddb803a",
           "version_major": 2,
           "version_minor": 0
          },
          "text/plain": "Canvas(toolbar=Toolbar(toolitems=[('Home', 'Reset original view', 'home', 'home'), ('Back', 'Back to previous …"
         },
         "metadata": {},
         "output_type": "display_data"
        }
       ]
      }
     },
     "cbaace469b00459d9967ca9a0d218082": {
      "model_module": "@jupyter-widgets/controls",
      "model_module_version": "1.5.0",
      "model_name": "ButtonModel",
      "state": {
       "description": "Export Image",
       "layout": "IPY_MODEL_afedf45b7fd644a7b6304d295f5ea451",
       "style": "IPY_MODEL_aff42fdadebf408d9505e374f4201430"
      }
     },
     "cbd6322544e7462eb2c0c0af98cb2b5a": {
      "model_module": "@jupyter-widgets/base",
      "model_module_version": "1.2.0",
      "model_name": "LayoutModel",
      "state": {}
     },
     "cbe9374e7d9d43dcb4256cf42a99f098": {
      "model_module": "@jupyter-widgets/base",
      "model_module_version": "1.2.0",
      "model_name": "LayoutModel",
      "state": {}
     },
     "cc0a18e9fbf14b13bcde93f2e3a4274f": {
      "model_module": "@jupyter-widgets/base",
      "model_module_version": "1.2.0",
      "model_name": "LayoutModel",
      "state": {}
     },
     "cc238b786b5d413a8aa6cc8e370588d5": {
      "model_module": "@jupyter-widgets/controls",
      "model_module_version": "1.5.0",
      "model_name": "HBoxModel",
      "state": {
       "children": [
        "IPY_MODEL_5a4cdf9180204678b888621732447ffb",
        "IPY_MODEL_aeb799b641204f9dbe6576aacdb91ee7"
       ],
       "layout": "IPY_MODEL_0446578235c246059bdf54411c1da695"
      }
     },
     "cc6354478a6e4b309f5a99164bd85468": {
      "model_module": "@jupyter-widgets/controls",
      "model_module_version": "1.5.0",
      "model_name": "DescriptionStyleModel",
      "state": {
       "description_width": ""
      }
     },
     "cc91b68f7b3146c39fb4785acd1237a9": {
      "model_module": "@jupyter-widgets/base",
      "model_module_version": "1.2.0",
      "model_name": "LayoutModel",
      "state": {}
     },
     "cc962551732d47f6b260645cafba8f97": {
      "model_module": "@jupyter-widgets/base",
      "model_module_version": "1.2.0",
      "model_name": "LayoutModel",
      "state": {}
     },
     "ccda8871c9d1448a88207b7bfeea9033": {
      "model_module": "@jupyter-widgets/controls",
      "model_module_version": "1.5.0",
      "model_name": "FloatSliderModel",
      "state": {
       "description": "Compression Threshold",
       "layout": "IPY_MODEL_07569f7cb8284d50b4ddb3de77260560",
       "max": 1,
       "step": 0.01,
       "style": "IPY_MODEL_8c43b0c8316140b19c46898d75c683e8",
       "value": 0.8
      }
     },
     "ccdef824bd21424990b84432768e0170": {
      "model_module": "jupyter-matplotlib",
      "model_module_version": "^0.7.2",
      "model_name": "MPLCanvasModel",
      "state": {
       "_figure_label": "Figure 25",
       "_height": 550,
       "_image_mode": "diff",
       "_message": "x= y=",
       "_width": 1100,
       "header_visible": false,
       "layout": "IPY_MODEL_0dbe490dd688486698b6543e19e789f6",
       "resizable": false,
       "toolbar": "IPY_MODEL_38e92260e3994a108bf5b63b77e7f043",
       "toolbar_position": "left",
       "toolbar_visible": false
      }
     },
     "ccebf281ca7c4aaba2c25c1d584cb027": {
      "model_module": "@jupyter-widgets/controls",
      "model_module_version": "1.5.0",
      "model_name": "FloatSliderModel",
      "state": {
       "description": "225°",
       "layout": "IPY_MODEL_faee14b09d4146babafe93edb1004d62",
       "max": 1,
       "min": -1,
       "step": 0.01,
       "style": "IPY_MODEL_c71e3bddc01c448fa2bfe1388e3e7a09"
      }
     },
     "ccf6f104746d46bc8fcee5dd5e955bfe": {
      "model_module": "@jupyter-widgets/controls",
      "model_module_version": "1.5.0",
      "model_name": "SliderStyleModel",
      "state": {
       "description_width": ""
      }
     },
     "cd472b0621cb4f949b19e799ea71a52f": {
      "model_module": "@jupyter-widgets/controls",
      "model_module_version": "1.5.0",
      "model_name": "SliderStyleModel",
      "state": {
       "description_width": ""
      }
     },
     "cd764f87c3f0420e9f95fc57d7a4d98f": {
      "model_module": "@jupyter-widgets/controls",
      "model_module_version": "1.5.0",
      "model_name": "TabModel",
      "state": {
       "_titles": {
        "0": "Global Controls",
        "1": "Compression Controls"
       },
       "children": [
        "IPY_MODEL_a0edcb5341b641eba5d00b93248b0224",
        "IPY_MODEL_809b6cc2e43e4b6983d1b575148c5d24"
       ],
       "layout": "IPY_MODEL_6158458fd1dc4eb68d7bbe060cbc6a00"
      }
     },
     "cdb9f62c8be147d6be4f349f04ae751f": {
      "model_module": "@jupyter-widgets/controls",
      "model_module_version": "1.5.0",
      "model_name": "FloatSliderModel",
      "state": {
       "description": "90°",
       "layout": "IPY_MODEL_a48ae475a8fe431f92a1a3b22fc33c47",
       "max": 1,
       "min": -1,
       "step": 0.01,
       "style": "IPY_MODEL_12aa9b76c8654ada859f57ec995355ff"
      }
     },
     "cdea5f5b6436474a91862dcc1cd60203": {
      "model_module": "@jupyter-widgets/controls",
      "model_module_version": "1.5.0",
      "model_name": "HBoxModel",
      "state": {
       "children": [
        "IPY_MODEL_914c178e5a4c4b54bfe703b89f20cd46",
        "IPY_MODEL_030c2aaa17d74b76a5d0e448fa536c08"
       ],
       "layout": "IPY_MODEL_2f0c4c315ba749838aafefbc4f35368e"
      }
     },
     "ce5d9f78f6864e9eaed242134642bfbf": {
      "model_module": "@jupyter-widgets/controls",
      "model_module_version": "1.5.0",
      "model_name": "ButtonModel",
      "state": {
       "description": "Save Figure",
       "layout": "IPY_MODEL_c43591df8d164a35abae9b3e017ed0bf",
       "style": "IPY_MODEL_4aa6fd69a0014fdb95125b28e59efcbc"
      }
     },
     "ce6cb28719654ff0bf000e475d05822b": {
      "model_module": "@jupyter-widgets/controls",
      "model_module_version": "1.5.0",
      "model_name": "FloatSliderModel",
      "state": {
       "description": "0°",
       "layout": "IPY_MODEL_7a895bda6af7418ea9a8638fb2a8054b",
       "max": 1,
       "min": -1,
       "step": 0.01,
       "style": "IPY_MODEL_d02ddce55dac4def9c6681db4b6c41d1"
      }
     },
     "ced7af86a3f64c4caaa1d43c775df94e": {
      "model_module": "@jupyter-widgets/base",
      "model_module_version": "1.2.0",
      "model_name": "LayoutModel",
      "state": {}
     },
     "cee09ebbe4bc4706b786e7a653fe4c12": {
      "model_module": "@jupyter-widgets/base",
      "model_module_version": "1.2.0",
      "model_name": "LayoutModel",
      "state": {}
     },
     "cef9649a97d14ada8d914e94105c3d24": {
      "model_module": "@jupyter-widgets/base",
      "model_module_version": "1.2.0",
      "model_name": "LayoutModel",
      "state": {}
     },
     "cf199127381c4ee990e2243f9080fdd7": {
      "model_module": "@jupyter-widgets/base",
      "model_module_version": "1.2.0",
      "model_name": "LayoutModel",
      "state": {}
     },
     "cf8d46363a8448dc8a27a9ffab5ed82c": {
      "model_module": "@jupyter-widgets/base",
      "model_module_version": "1.2.0",
      "model_name": "LayoutModel",
      "state": {}
     },
     "d00740caccf14e0f8953b1612044b45f": {
      "model_module": "@jupyter-widgets/controls",
      "model_module_version": "1.5.0",
      "model_name": "SliderStyleModel",
      "state": {
       "description_width": ""
      }
     },
     "d0154054fb0343dab8ae6335a50aa5ee": {
      "model_module": "@jupyter-widgets/output",
      "model_module_version": "1.0.0",
      "model_name": "OutputModel",
      "state": {
       "layout": "IPY_MODEL_f2b278efbf7f41e18b5a2dd3cf17a361",
       "outputs": [
        {
         "data": {
          "application/vnd.jupyter.widget-view+json": {
           "model_id": "680f5b5264cc4867973165c819307491",
           "version_major": 2,
           "version_minor": 0
          },
          "text/plain": "Canvas(toolbar=Toolbar(toolitems=[('Home', 'Reset original view', 'home', 'home'), ('Back', 'Back to previous …"
         },
         "metadata": {},
         "output_type": "display_data"
        }
       ]
      }
     },
     "d02ddce55dac4def9c6681db4b6c41d1": {
      "model_module": "@jupyter-widgets/controls",
      "model_module_version": "1.5.0",
      "model_name": "SliderStyleModel",
      "state": {
       "description_width": ""
      }
     },
     "d052f802ca0d4afc8d75cf4f9f62e221": {
      "model_module": "@jupyter-widgets/controls",
      "model_module_version": "1.5.0",
      "model_name": "VBoxModel",
      "state": {
       "children": [
        "IPY_MODEL_323ddf9350d64801ae274fcd3f9d06f9",
        "IPY_MODEL_6c2e04932e624e369c06dd6f88d33631",
        "IPY_MODEL_424f9df147a2498f8ab0d074c6ee22c7"
       ],
       "layout": "IPY_MODEL_1f7b8546f8fe474eb3f4fb4c05ebcdd1"
      }
     },
     "d08600f61ae74b999029492aa1c09f9c": {
      "model_module": "@jupyter-widgets/controls",
      "model_module_version": "1.5.0",
      "model_name": "SliderStyleModel",
      "state": {
       "description_width": ""
      }
     },
     "d0b1a61378614ac0818d320aa32d3837": {
      "model_module": "@jupyter-widgets/controls",
      "model_module_version": "1.5.0",
      "model_name": "SliderStyleModel",
      "state": {
       "description_width": ""
      }
     },
     "d0c4c50514944f3bb0b29ad91e03520e": {
      "model_module": "@jupyter-widgets/controls",
      "model_module_version": "1.5.0",
      "model_name": "SliderStyleModel",
      "state": {
       "description_width": ""
      }
     },
     "d110fad09b3241dcb8250ab87c1b5e1d": {
      "model_module": "@jupyter-widgets/output",
      "model_module_version": "1.0.0",
      "model_name": "OutputModel",
      "state": {
       "layout": "IPY_MODEL_e16260768c9c4af3a709ef28c388bd54",
       "outputs": [
        {
         "data": {
          "application/vnd.jupyter.widget-view+json": {
           "model_id": "d610baddcd584093af4cc7c2c5c26b09",
           "version_major": 2,
           "version_minor": 0
          },
          "text/plain": "Canvas(toolbar=Toolbar(toolitems=[('Home', 'Reset original view', 'home', 'home'), ('Back', 'Back to previous …"
         },
         "metadata": {},
         "output_type": "display_data"
        }
       ]
      }
     },
     "d12e73fa9d5d4002a9f4819d6e3d8a5e": {
      "model_module": "@jupyter-widgets/base",
      "model_module_version": "1.2.0",
      "model_name": "LayoutModel",
      "state": {}
     },
     "d1651024b22946f3b470f6710477b2bd": {
      "model_module": "@jupyter-widgets/controls",
      "model_module_version": "1.5.0",
      "model_name": "HBoxModel",
      "state": {
       "children": [
        "IPY_MODEL_e98eaf8c93a04103bf119d0e239f194e",
        "IPY_MODEL_cb5b0d1a6fae4d73be0307895ea5c500",
        "IPY_MODEL_b920a9bfa0194d6ab8c87979f11aef09"
       ],
       "layout": "IPY_MODEL_4b509a615e6543cdbbaa99bf865c7e72"
      }
     },
     "d1d7cff899f94062b37ec64833bafa95": {
      "model_module": "@jupyter-widgets/controls",
      "model_module_version": "1.5.0",
      "model_name": "ButtonModel",
      "state": {
       "description": "Save Figure",
       "layout": "IPY_MODEL_d2bb7e912de24b4eb941b62a7a007984",
       "style": "IPY_MODEL_713bbe37664e43f59d96f78e4fdb11df"
      }
     },
     "d1efa3093f1747e4a88e08985c6aea4b": {
      "model_module": "@jupyter-widgets/controls",
      "model_module_version": "1.5.0",
      "model_name": "VBoxModel",
      "state": {
       "children": [
        "IPY_MODEL_2159809a7573415d8d4bd7293d56d629",
        "IPY_MODEL_c41c0b212a314b9bbb09b302ff177701",
        "IPY_MODEL_ccebf281ca7c4aaba2c25c1d584cb027"
       ],
       "layout": "IPY_MODEL_9268ef424cf343149ac256411c61b55c"
      }
     },
     "d23c86b2f5454c29803928a39cba05dd": {
      "model_module": "@jupyter-widgets/base",
      "model_module_version": "1.2.0",
      "model_name": "LayoutModel",
      "state": {}
     },
     "d25227f36f244a02aeb766c7c5c79a5a": {
      "model_module": "@jupyter-widgets/base",
      "model_module_version": "1.2.0",
      "model_name": "LayoutModel",
      "state": {}
     },
     "d262c9807df84155a243391344e2065f": {
      "model_module": "@jupyter-widgets/base",
      "model_module_version": "1.2.0",
      "model_name": "LayoutModel",
      "state": {}
     },
     "d2bb7e912de24b4eb941b62a7a007984": {
      "model_module": "@jupyter-widgets/base",
      "model_module_version": "1.2.0",
      "model_name": "LayoutModel",
      "state": {}
     },
     "d2f5016002d942e996b9101cb65500e1": {
      "model_module": "@jupyter-widgets/base",
      "model_module_version": "1.2.0",
      "model_name": "LayoutModel",
      "state": {}
     },
     "d33cf30a16c74b35afd69d357b38c8d3": {
      "model_module": "jupyter-matplotlib",
      "model_module_version": "^0.7.2",
      "model_name": "ToolbarModel",
      "state": {
       "layout": "IPY_MODEL_5131b2343d3f4871b6f6f292dc53f202",
       "toolitems": [
        [
         "Home",
         "Reset original view",
         "home",
         "home"
        ],
        [
         "Back",
         "Back to previous view",
         "arrow-left",
         "back"
        ],
        [
         "Forward",
         "Forward to next view",
         "arrow-right",
         "forward"
        ],
        [
         "Pan",
         "Pan axes with left mouse, zoom with right",
         "arrows",
         "pan"
        ],
        [
         "Zoom",
         "Zoom to rectangle",
         "square-o",
         "zoom"
        ],
        [
         "Download",
         "Download plot",
         "floppy-o",
         "save_figure"
        ]
       ]
      }
     },
     "d355f26418734290880be23b11194c09": {
      "model_module": "@jupyter-widgets/base",
      "model_module_version": "1.2.0",
      "model_name": "LayoutModel",
      "state": {}
     },
     "d38b1d9b7b4e4d359e978352fb8ebfc4": {
      "model_module": "@jupyter-widgets/base",
      "model_module_version": "1.2.0",
      "model_name": "LayoutModel",
      "state": {}
     },
     "d3c65a52e82a4e729d0ef23f7089c895": {
      "model_module": "@jupyter-widgets/base",
      "model_module_version": "1.2.0",
      "model_name": "LayoutModel",
      "state": {}
     },
     "d3d8bf43318c45c6ba367bd5d9835f20": {
      "model_module": "@jupyter-widgets/controls",
      "model_module_version": "1.5.0",
      "model_name": "SliderStyleModel",
      "state": {
       "description_width": ""
      }
     },
     "d3f7a85748dd41bca5c9b6439229ca7d": {
      "model_module": "@jupyter-widgets/base",
      "model_module_version": "1.2.0",
      "model_name": "LayoutModel",
      "state": {}
     },
     "d40aca4e90354d01a8bdae25a8f4b2c4": {
      "model_module": "@jupyter-widgets/controls",
      "model_module_version": "1.5.0",
      "model_name": "HBoxModel",
      "state": {
       "children": [
        "IPY_MODEL_6d3500b5bd094172a95059ee6ef2cd52",
        "IPY_MODEL_cbaace469b00459d9967ca9a0d218082",
        "IPY_MODEL_6face6e4824c49e68c55a10d2236dab9"
       ],
       "layout": "IPY_MODEL_a345a1d0bbfc4170b92572144a2932c4"
      }
     },
     "d44ade5260ee4cccb3b609a85b01ea15": {
      "model_module": "@jupyter-widgets/base",
      "model_module_version": "1.2.0",
      "model_name": "LayoutModel",
      "state": {}
     },
     "d4a2a40c118a4d52bb590cb0e86bd59b": {
      "model_module": "@jupyter-widgets/base",
      "model_module_version": "1.2.0",
      "model_name": "LayoutModel",
      "state": {}
     },
     "d4a72d18f7fa462d96a8c29045de0022": {
      "model_module": "@jupyter-widgets/base",
      "model_module_version": "1.2.0",
      "model_name": "LayoutModel",
      "state": {}
     },
     "d4b8857e355344b6bd2723852c2665cc": {
      "model_module": "@jupyter-widgets/controls",
      "model_module_version": "1.5.0",
      "model_name": "FloatSliderModel",
      "state": {
       "description": "45°",
       "layout": "IPY_MODEL_817d0386caf142d98e14c083ffc2e713",
       "max": 1,
       "min": -1,
       "step": 0.01,
       "style": "IPY_MODEL_ebef3ef9f1774d28b47adf621d9fa9a8"
      }
     },
     "d4bf137aab784388a70247c5f1cd0453": {
      "model_module": "@jupyter-widgets/base",
      "model_module_version": "1.2.0",
      "model_name": "LayoutModel",
      "state": {}
     },
     "d506f96d7b9a4677b1784e57797d275c": {
      "model_module": "@jupyter-widgets/controls",
      "model_module_version": "1.5.0",
      "model_name": "FloatSliderModel",
      "state": {
       "description": "315°",
       "layout": "IPY_MODEL_8b04b3eafbc94fcc9c81f250c93a64d2",
       "max": 1,
       "min": -1,
       "step": 0.01,
       "style": "IPY_MODEL_8dceb866ac5b499aa77aef18f02fa712"
      }
     },
     "d513386a57f64d11a3e81d47f1e03b3f": {
      "model_module": "@jupyter-widgets/controls",
      "model_module_version": "1.5.0",
      "model_name": "ButtonModel",
      "state": {
       "description": "Save Figure",
       "layout": "IPY_MODEL_2b517a7d0f7648ebaee7e1766ad6783d",
       "style": "IPY_MODEL_92942b88d7cd491bb091576c137811fb"
      }
     },
     "d53f027b3dfd4a7cb602ab39021304b9": {
      "model_module": "@jupyter-widgets/base",
      "model_module_version": "1.2.0",
      "model_name": "LayoutModel",
      "state": {}
     },
     "d582aa846efd4ab0a946c2806cd3b153": {
      "model_module": "@jupyter-widgets/base",
      "model_module_version": "1.2.0",
      "model_name": "LayoutModel",
      "state": {
       "border": "solid 4px #222",
       "margin": "4px",
       "padding": "0"
      }
     },
     "d5e35d3c0d784387b37d9454804b30ea": {
      "model_module": "@jupyter-widgets/base",
      "model_module_version": "1.2.0",
      "model_name": "LayoutModel",
      "state": {}
     },
     "d610baddcd584093af4cc7c2c5c26b09": {
      "model_module": "jupyter-matplotlib",
      "model_module_version": "^0.7.2",
      "model_name": "MPLCanvasModel",
      "state": {
       "_figure_label": "Figure 22",
       "_height": 550,
       "_width": 1100,
       "header_visible": false,
       "layout": "IPY_MODEL_7d1d642a07484188adfcfa2f668aab9b",
       "resizable": false,
       "toolbar": "IPY_MODEL_430ff31846df4fe2a5252619c2215ce6",
       "toolbar_position": "left",
       "toolbar_visible": false
      }
     },
     "d6a56d71253b4f0997a7ad17020d7b31": {
      "model_module": "@jupyter-widgets/controls",
      "model_module_version": "1.5.0",
      "model_name": "SliderStyleModel",
      "state": {
       "description_width": ""
      }
     },
     "d6ba3667efd94fc193799179fe5b2276": {
      "model_module": "@jupyter-widgets/base",
      "model_module_version": "1.2.0",
      "model_name": "LayoutModel",
      "state": {}
     },
     "d6c41f60c8a04ce68608779122a957a3": {
      "model_module": "@jupyter-widgets/base",
      "model_module_version": "1.2.0",
      "model_name": "LayoutModel",
      "state": {}
     },
     "d6fcf8bef17b47a095f4c68886107760": {
      "model_module": "@jupyter-widgets/controls",
      "model_module_version": "1.5.0",
      "model_name": "FloatSliderModel",
      "state": {
       "description": "90°",
       "layout": "IPY_MODEL_0211a7eaa69f49789b29c35e153ba273",
       "max": 1,
       "min": -1,
       "step": 0.01,
       "style": "IPY_MODEL_c5002cf8081b4179baf4fb81e78c42fc"
      }
     },
     "d7a5f98f72c84cb9864469ddf55b571c": {
      "model_module": "@jupyter-widgets/controls",
      "model_module_version": "1.5.0",
      "model_name": "ButtonModel",
      "state": {
       "description": "Save Figure",
       "layout": "IPY_MODEL_60ae1ce14a88410594c07044d177dd41",
       "style": "IPY_MODEL_1e42dfe3d88d41d9b75ff41de6932fec"
      }
     },
     "d81ff472fcf547788c6fda2ea506c492": {
      "model_module": "@jupyter-widgets/controls",
      "model_module_version": "1.5.0",
      "model_name": "SliderStyleModel",
      "state": {
       "description_width": ""
      }
     },
     "d82bac0ff38a48709f0e630f7eca6c01": {
      "model_module": "@jupyter-widgets/base",
      "model_module_version": "1.2.0",
      "model_name": "LayoutModel",
      "state": {}
     },
     "d82eabf1be334491b73b0aecab4cc627": {
      "model_module": "@jupyter-widgets/controls",
      "model_module_version": "1.5.0",
      "model_name": "ButtonModel",
      "state": {
       "description": "Reset Compression Controls",
       "layout": "IPY_MODEL_af20aa99b65d49249190ffc4dddddc01",
       "style": "IPY_MODEL_7ebe6a5c0fd8474cbe6a26acfccb6490"
      }
     },
     "d846ff12f7df4b758f4d49cdc98fe88e": {
      "model_module": "@jupyter-widgets/base",
      "model_module_version": "1.2.0",
      "model_name": "LayoutModel",
      "state": {}
     },
     "d8de10723cfc47188e66c64e8ce62368": {
      "model_module": "@jupyter-widgets/controls",
      "model_module_version": "1.5.0",
      "model_name": "DescriptionStyleModel",
      "state": {
       "description_width": ""
      }
     },
     "d8f35023e6b349c5bf90b43e43bd3f34": {
      "model_module": "@jupyter-widgets/base",
      "model_module_version": "1.2.0",
      "model_name": "LayoutModel",
      "state": {
       "border": "solid 4px #222",
       "margin": "4px",
       "padding": "0"
      }
     },
     "d9613fab4e1b4890a5332be8e75bd074": {
      "model_module": "@jupyter-widgets/base",
      "model_module_version": "1.2.0",
      "model_name": "LayoutModel",
      "state": {}
     },
     "d98a767951534d77a7bcaccf1bd324d7": {
      "model_module": "@jupyter-widgets/controls",
      "model_module_version": "1.5.0",
      "model_name": "ButtonModel",
      "state": {
       "description": "Export Image",
       "layout": "IPY_MODEL_b4327ad059004c7aac23e6f212b2c31a",
       "style": "IPY_MODEL_2cabfe5a3cb9476597c7e91e6883e7f6"
      }
     },
     "d9e312ac410740c7b1adb8068356bb2c": {
      "model_module": "@jupyter-widgets/controls",
      "model_module_version": "1.5.0",
      "model_name": "HBoxModel",
      "state": {
       "children": [
        "IPY_MODEL_f1f2f2008845414fbbb3f1013344f9d0",
        "IPY_MODEL_bb7f3768d5784d30b41a19055241daa3"
       ],
       "layout": "IPY_MODEL_6f06875c232e4da19f1e8c2f4bfcb0fb"
      }
     },
     "da1def53efc14909969fedc65f966f7e": {
      "model_module": "@jupyter-widgets/controls",
      "model_module_version": "1.5.0",
      "model_name": "DescriptionStyleModel",
      "state": {
       "description_width": ""
      }
     },
     "da5c3c2b4f7242889d609c2b1c90fcd3": {
      "model_module": "@jupyter-widgets/controls",
      "model_module_version": "1.5.0",
      "model_name": "SliderStyleModel",
      "state": {
       "description_width": ""
      }
     },
     "dac780eb5b294837a07d919fc1220055": {
      "model_module": "@jupyter-widgets/base",
      "model_module_version": "1.2.0",
      "model_name": "LayoutModel",
      "state": {}
     },
     "db32ebe20cdd4ca4b865274b88ef7f6d": {
      "model_module": "@jupyter-widgets/base",
      "model_module_version": "1.2.0",
      "model_name": "LayoutModel",
      "state": {}
     },
     "db367e04a12849c394c289ba0a860cb7": {
      "model_module": "@jupyter-widgets/controls",
      "model_module_version": "1.5.0",
      "model_name": "HBoxModel",
      "state": {
       "children": [
        "IPY_MODEL_2baec89683f54f1fa7114c4b33e16bb3",
        "IPY_MODEL_13f8011fc3854049bd884a5e17693633",
        "IPY_MODEL_27040dbc917a4932b11f5e7df0737a13"
       ],
       "layout": "IPY_MODEL_abb89c2be2fa4818b6af5d2b34a8853f"
      }
     },
     "db50797bed3f4618ab8e8d173e53585a": {
      "model_module": "@jupyter-widgets/controls",
      "model_module_version": "1.5.0",
      "model_name": "ButtonStyleModel",
      "state": {}
     },
     "db95f0df987548608c7c5ffa8393d4b6": {
      "model_module": "@jupyter-widgets/base",
      "model_module_version": "1.2.0",
      "model_name": "LayoutModel",
      "state": {}
     },
     "dbb1a60cadc24366af80195bc996511d": {
      "model_module": "@jupyter-widgets/controls",
      "model_module_version": "1.5.0",
      "model_name": "ButtonStyleModel",
      "state": {}
     },
     "dbe141c58fb84ebabf24b7029b2eca08": {
      "model_module": "jupyter-matplotlib",
      "model_module_version": "^0.7.2",
      "model_name": "MPLCanvasModel",
      "state": {
       "_figure_label": "Figure 17",
       "_height": 430,
       "_image_mode": "diff",
       "_width": 1099,
       "header_visible": false,
       "layout": "IPY_MODEL_ba749b10a0e2420b9a128a1223414387",
       "resizable": false,
       "toolbar": "IPY_MODEL_d33cf30a16c74b35afd69d357b38c8d3",
       "toolbar_position": "left",
       "toolbar_visible": false
      }
     },
     "dc0c9c45fd1f490a9eac4e99a53fff0f": {
      "model_module": "@jupyter-widgets/controls",
      "model_module_version": "1.5.0",
      "model_name": "ButtonStyleModel",
      "state": {}
     },
     "dc5108d4e6fb452eafb5b3ecb571663e": {
      "model_module": "@jupyter-widgets/base",
      "model_module_version": "1.2.0",
      "model_name": "LayoutModel",
      "state": {}
     },
     "dc5252ea6c7b4c2b9513c117099cf99a": {
      "model_module": "@jupyter-widgets/base",
      "model_module_version": "1.2.0",
      "model_name": "LayoutModel",
      "state": {}
     },
     "dc87aaeebaed4cdd8eb514cead1d4650": {
      "model_module": "@jupyter-widgets/controls",
      "model_module_version": "1.5.0",
      "model_name": "ButtonModel",
      "state": {
       "description": "Export Image",
       "layout": "IPY_MODEL_ada2baecce134230a06b8c06855826a6",
       "style": "IPY_MODEL_4242defa107e44aca327959020fa5422"
      }
     },
     "dcc3b93da8f442378c2c84487cc794ab": {
      "model_module": "@jupyter-widgets/base",
      "model_module_version": "1.2.0",
      "model_name": "LayoutModel",
      "state": {}
     },
     "dcdb2d74257441328fc21cb6bb29726f": {
      "model_module": "@jupyter-widgets/base",
      "model_module_version": "1.2.0",
      "model_name": "LayoutModel",
      "state": {}
     },
     "dce3d42440f64ee4989d0dfe80da1280": {
      "model_module": "@jupyter-widgets/controls",
      "model_module_version": "1.5.0",
      "model_name": "HBoxModel",
      "state": {
       "children": [
        "IPY_MODEL_cb52e1da656149d7ae4fecccdaffa7f7",
        "IPY_MODEL_ae082a01863e4f65a4d884d920ea6e48",
        "IPY_MODEL_59a17f3777a545289feb35def484aad4"
       ],
       "layout": "IPY_MODEL_36f4682b9ed24471bea81d6322235192"
      }
     },
     "dd43daec27d14134a543689dcaf09232": {
      "model_module": "@jupyter-widgets/base",
      "model_module_version": "1.2.0",
      "model_name": "LayoutModel",
      "state": {}
     },
     "dd529c6a081149dba3e117581b97760f": {
      "model_module": "@jupyter-widgets/base",
      "model_module_version": "1.2.0",
      "model_name": "LayoutModel",
      "state": {}
     },
     "de04bea1d508496ba2f0ca45e63b30a3": {
      "model_module": "@jupyter-widgets/controls",
      "model_module_version": "1.5.0",
      "model_name": "ButtonModel",
      "state": {
       "description": "Reset Saturation Controls",
       "layout": "IPY_MODEL_92245e4d1d1346939122c2364246769b",
       "style": "IPY_MODEL_eced75607fda4a6fb8124d06c1d1f355"
      }
     },
     "de36a9a948844329abdeb78d731b5080": {
      "model_module": "@jupyter-widgets/base",
      "model_module_version": "1.2.0",
      "model_name": "LayoutModel",
      "state": {}
     },
     "df05946f6f904070bdd9e6b97cfec66e": {
      "model_module": "@jupyter-widgets/output",
      "model_module_version": "1.0.0",
      "model_name": "OutputModel",
      "state": {
       "layout": "IPY_MODEL_594fd228be3a49789c6ebd33a4369776",
       "outputs": [
        {
         "data": {
          "application/vnd.jupyter.widget-view+json": {
           "model_id": "3a237fc92eac430495c36c43b0a00ae2",
           "version_major": 2,
           "version_minor": 0
          },
          "text/plain": "Canvas(toolbar=Toolbar(toolitems=[('Home', 'Reset original view', 'home', 'home'), ('Back', 'Back to previous …"
         },
         "metadata": {},
         "output_type": "display_data"
        }
       ]
      }
     },
     "df05fcec14fc4172be128d9e1ebc3346": {
      "model_module": "@jupyter-widgets/controls",
      "model_module_version": "1.5.0",
      "model_name": "FloatSliderModel",
      "state": {
       "description": "Protected Area Threshold",
       "layout": "IPY_MODEL_ab263b4271a74367bb2f33cd25a15fda",
       "max": 1,
       "step": 0.01,
       "style": "IPY_MODEL_bd7cb332b3fb45c09dcb9ae3951c71fe",
       "value": 0.7
      }
     },
     "df0efb4c18b44440b166703133632eb6": {
      "model_module": "@jupyter-widgets/controls",
      "model_module_version": "1.5.0",
      "model_name": "VBoxModel",
      "state": {
       "children": [
        "IPY_MODEL_327a62305ca84f87bb39332fd69e11ce",
        "IPY_MODEL_674af6c5cd4e4e6484b407654f29d00b",
        "IPY_MODEL_d6fcf8bef17b47a095f4c68886107760"
       ],
       "layout": "IPY_MODEL_d355f26418734290880be23b11194c09"
      }
     },
     "df1850d94dc6494dad67b13b53a892cc": {
      "model_module": "@jupyter-widgets/base",
      "model_module_version": "1.2.0",
      "model_name": "LayoutModel",
      "state": {
       "border": "solid 4px #222",
       "margin": "4px",
       "padding": "0"
      }
     },
     "df305ec4a3074f0182ed49ca87dec4eb": {
      "model_module": "@jupyter-widgets/controls",
      "model_module_version": "1.5.0",
      "model_name": "HBoxModel",
      "state": {
       "children": [
        "IPY_MODEL_81024b7ed2c6492bb446ddcb1fb7b113",
        "IPY_MODEL_a83a2a00d96c43f18de90ea84b05194d",
        "IPY_MODEL_457d80f2873f459bba7f94d0ba71eab1"
       ],
       "layout": "IPY_MODEL_0825506e50dc449cbac2702a9df78611"
      }
     },
     "df469d38241f4d09b9079ca74b4d61e3": {
      "model_module": "@jupyter-widgets/base",
      "model_module_version": "1.2.0",
      "model_name": "LayoutModel",
      "state": {}
     },
     "df93ead8eff44b6580e79574ae0be28f": {
      "model_module": "@jupyter-widgets/base",
      "model_module_version": "1.2.0",
      "model_name": "LayoutModel",
      "state": {}
     },
     "dfdb5d6fef4142d095f29b9a4808ae8c": {
      "model_module": "jupyter-matplotlib",
      "model_module_version": "^0.7.2",
      "model_name": "ToolbarModel",
      "state": {
       "layout": "IPY_MODEL_3da4f07f9acf4f4786e74f9aafb3b640",
       "toolitems": [
        [
         "Home",
         "Reset original view",
         "home",
         "home"
        ],
        [
         "Back",
         "Back to previous view",
         "arrow-left",
         "back"
        ],
        [
         "Forward",
         "Forward to next view",
         "arrow-right",
         "forward"
        ],
        [
         "Pan",
         "Pan axes with left mouse, zoom with right",
         "arrows",
         "pan"
        ],
        [
         "Zoom",
         "Zoom to rectangle",
         "square-o",
         "zoom"
        ],
        [
         "Download",
         "Download plot",
         "floppy-o",
         "save_figure"
        ]
       ]
      }
     },
     "dfe58c9f91054a8182f22f5bef7ca4ea": {
      "model_module": "@jupyter-widgets/controls",
      "model_module_version": "1.5.0",
      "model_name": "FloatSliderModel",
      "state": {
       "description": "90°",
       "layout": "IPY_MODEL_8de9c5a255434e68b2e09f5a1399438f",
       "max": 1,
       "min": -1,
       "step": 0.01,
       "style": "IPY_MODEL_55ccf1cafa9e4a48a924abe845ab82be"
      }
     },
     "e012369b0f6642fd88fc7e1546b862b0": {
      "model_module": "@jupyter-widgets/controls",
      "model_module_version": "1.5.0",
      "model_name": "SliderStyleModel",
      "state": {
       "description_width": ""
      }
     },
     "e0459b2e163a4f688aac221ff7383980": {
      "model_module": "@jupyter-widgets/controls",
      "model_module_version": "1.5.0",
      "model_name": "ButtonModel",
      "state": {
       "description": "Reset Saturation Controls",
       "layout": "IPY_MODEL_8e9f8657c943458684bec6ba2c9f7124",
       "style": "IPY_MODEL_21199e1c10d2490ca8b6d838154e08eb"
      }
     },
     "e04c0df2206b4c0b968ab23ed225ff7f": {
      "model_module": "@jupyter-widgets/controls",
      "model_module_version": "1.5.0",
      "model_name": "VBoxModel",
      "state": {
       "children": [
        "IPY_MODEL_e394b8c267fb45f3b217d3f4ee60ffef",
        "IPY_MODEL_157a61fd5fc8460fb2b37cbdd08dfa49",
        "IPY_MODEL_058bb3f838cc402aa09bb72fc8175755"
       ],
       "layout": "IPY_MODEL_46ce237337934386974295214b6ee5e9"
      }
     },
     "e08da420506a481588f81769c06afc0f": {
      "model_module": "@jupyter-widgets/controls",
      "model_module_version": "1.5.0",
      "model_name": "FloatSliderModel",
      "state": {
       "description": "180°",
       "layout": "IPY_MODEL_52b65d69a7ac4b90b22320d3e90ac83d",
       "max": 1,
       "min": -1,
       "step": 0.01,
       "style": "IPY_MODEL_38e6710504564b8c92b61897ff3061d3"
      }
     },
     "e0a9cf4f92204d6081962f10ba937e54": {
      "model_module": "@jupyter-widgets/controls",
      "model_module_version": "1.5.0",
      "model_name": "HBoxModel",
      "state": {
       "children": [
        "IPY_MODEL_5dfb29fd206248f7849c1ca32b86c3a6",
        "IPY_MODEL_bad023acbaf74ca9acc8a392942f5d2d"
       ],
       "layout": "IPY_MODEL_f6f2e888888a4e57beda85d962eb8dee"
      }
     },
     "e0f1f05120554bcfa2575893e295c9fc": {
      "model_module": "@jupyter-widgets/controls",
      "model_module_version": "1.5.0",
      "model_name": "ButtonStyleModel",
      "state": {}
     },
     "e1100bb790354549a39e293868b35067": {
      "model_module": "@jupyter-widgets/controls",
      "model_module_version": "1.5.0",
      "model_name": "SliderStyleModel",
      "state": {
       "description_width": ""
      }
     },
     "e12a2acbc3aa4ff69edf1236e08a3740": {
      "model_module": "@jupyter-widgets/base",
      "model_module_version": "1.2.0",
      "model_name": "LayoutModel",
      "state": {}
     },
     "e12bbb40e48b4b97a28f1af9aaf064ae": {
      "model_module": "@jupyter-widgets/controls",
      "model_module_version": "1.5.0",
      "model_name": "SliderStyleModel",
      "state": {
       "description_width": ""
      }
     },
     "e13fa56cab45464aaa86f4d2e0bdffa0": {
      "model_module": "@jupyter-widgets/controls",
      "model_module_version": "1.5.0",
      "model_name": "ButtonStyleModel",
      "state": {}
     },
     "e15df93c4edd435589b25066d6a0b527": {
      "model_module": "@jupyter-widgets/controls",
      "model_module_version": "1.5.0",
      "model_name": "SliderStyleModel",
      "state": {
       "description_width": ""
      }
     },
     "e1624045f50c4e589a18378d63602648": {
      "model_module": "@jupyter-widgets/base",
      "model_module_version": "1.2.0",
      "model_name": "LayoutModel",
      "state": {}
     },
     "e16260768c9c4af3a709ef28c388bd54": {
      "model_module": "@jupyter-widgets/base",
      "model_module_version": "1.2.0",
      "model_name": "LayoutModel",
      "state": {
       "border": "solid 4px #222",
       "margin": "4px",
       "padding": "0"
      }
     },
     "e168eccd6cf5448388b4801090adcc0f": {
      "model_module": "@jupyter-widgets/base",
      "model_module_version": "1.2.0",
      "model_name": "LayoutModel",
      "state": {}
     },
     "e16ad906f5bf45529c2348da190b271b": {
      "model_module": "@jupyter-widgets/base",
      "model_module_version": "1.2.0",
      "model_name": "LayoutModel",
      "state": {}
     },
     "e1a8e4f0fbb649e3ac4689440f8e9d70": {
      "model_module": "@jupyter-widgets/controls",
      "model_module_version": "1.5.0",
      "model_name": "HBoxModel",
      "state": {
       "children": [
        "IPY_MODEL_6b81889e37d640dab571f6d8c0f31012",
        "IPY_MODEL_41972f8193d948e290c60504b83ea545",
        "IPY_MODEL_d1d7cff899f94062b37ec64833bafa95"
       ],
       "layout": "IPY_MODEL_81193bf245b54237b6e2d8ef90908673"
      }
     },
     "e1cd2e8966c942d5b0f53c7134f1bc72": {
      "model_module": "@jupyter-widgets/controls",
      "model_module_version": "1.5.0",
      "model_name": "ButtonModel",
      "state": {
       "description": "Export Image",
       "layout": "IPY_MODEL_cc0a18e9fbf14b13bcde93f2e3a4274f",
       "style": "IPY_MODEL_0c8ad9c27ecd400186856e1af2566381"
      }
     },
     "e1d7a27f72f74ffc8b961eb7996bb5e8": {
      "model_module": "@jupyter-widgets/controls",
      "model_module_version": "1.5.0",
      "model_name": "FloatSliderModel",
      "state": {
       "description": "45°",
       "layout": "IPY_MODEL_578698eba6704745bb6affbeb0f84e9b",
       "max": 1,
       "min": -1,
       "step": 0.01,
       "style": "IPY_MODEL_530636aa6c0a4d7aba19a7e753f98882"
      }
     },
     "e1f45d163c534fda885075632b1c7013": {
      "model_module": "@jupyter-widgets/base",
      "model_module_version": "1.2.0",
      "model_name": "LayoutModel",
      "state": {}
     },
     "e22a6e3d2536470db9adfe5cba91a3f7": {
      "model_module": "@jupyter-widgets/controls",
      "model_module_version": "1.5.0",
      "model_name": "SliderStyleModel",
      "state": {
       "description_width": ""
      }
     },
     "e2e3f155842448a1b8417ec6db76e7a7": {
      "model_module": "@jupyter-widgets/base",
      "model_module_version": "1.2.0",
      "model_name": "LayoutModel",
      "state": {}
     },
     "e2f25aa5f52e43d495df8b1b55f6b5b3": {
      "model_module": "@jupyter-widgets/controls",
      "model_module_version": "1.5.0",
      "model_name": "TabModel",
      "state": {
       "_titles": {
        "0": "Global Controls",
        "1": "Compression Controls"
       },
       "children": [
        "IPY_MODEL_8a8642d7e4f543fab922f84cabe18489",
        "IPY_MODEL_151675c8c6074e1aaaa62fe068fe12f4"
       ],
       "layout": "IPY_MODEL_abaf1f4613bd46289cc5d74941517e2c"
      }
     },
     "e2f8d1e4b10a4172b028ae95cbfeafb0": {
      "model_module": "@jupyter-widgets/controls",
      "model_module_version": "1.5.0",
      "model_name": "TabModel",
      "state": {
       "_titles": {
        "0": "Global Controls",
        "1": "Protected Area Controls",
        "2": "Saturation Controls",
        "3": "Hue Controls"
       },
       "children": [
        "IPY_MODEL_6ab7431158f348d9bdba389f9012a0c3",
        "IPY_MODEL_f57c0b0a94434044a339dab1f7c0d1b7",
        "IPY_MODEL_38caad87999e452093df9ccdfa3b2bd3",
        "IPY_MODEL_61645c894447472eb435ac9136c03e8a"
       ],
       "layout": "IPY_MODEL_f5a68d029bb14f4a93068398810a9bee"
      }
     },
     "e2f986a7815c4a7588d99d6b4707f4aa": {
      "model_module": "@jupyter-widgets/base",
      "model_module_version": "1.2.0",
      "model_name": "LayoutModel",
      "state": {}
     },
     "e35104b6aa6748d49af397cd94d6c9f0": {
      "model_module": "@jupyter-widgets/controls",
      "model_module_version": "1.5.0",
      "model_name": "FloatSliderModel",
      "state": {
       "description": "45°",
       "layout": "IPY_MODEL_d846ff12f7df4b758f4d49cdc98fe88e",
       "max": 1,
       "min": -1,
       "step": 0.01,
       "style": "IPY_MODEL_5951145dd37c45a2863fa84c422ae115"
      }
     },
     "e370486a7a04452eb6d7424a1142989b": {
      "model_module": "@jupyter-widgets/controls",
      "model_module_version": "1.5.0",
      "model_name": "DescriptionStyleModel",
      "state": {
       "description_width": ""
      }
     },
     "e389453cfae64f02bb20d997dbec75aa": {
      "model_module": "@jupyter-widgets/controls",
      "model_module_version": "1.5.0",
      "model_name": "SliderStyleModel",
      "state": {
       "description_width": ""
      }
     },
     "e394b8c267fb45f3b217d3f4ee60ffef": {
      "model_module": "@jupyter-widgets/controls",
      "model_module_version": "1.5.0",
      "model_name": "FloatSliderModel",
      "state": {
       "description": "135°",
       "layout": "IPY_MODEL_415b7046669546989faae50b11d2ad46",
       "max": 1,
       "min": -1,
       "step": 0.01,
       "style": "IPY_MODEL_7e28109ca234404596e72ae3b7ccb3bf"
      }
     },
     "e3ce5bd3764e48149abc4788492204dc": {
      "model_module": "jupyter-matplotlib",
      "model_module_version": "^0.7.2",
      "model_name": "MPLCanvasModel",
      "state": {
       "_figure_label": "Figure 14",
       "_height": 430,
       "_width": 1099,
       "header_visible": false,
       "layout": "IPY_MODEL_245c2ea1a41c42898f63e131ef3b2aea",
       "resizable": false,
       "toolbar": "IPY_MODEL_62bc96d959864d6c8392d086839654cf",
       "toolbar_position": "left",
       "toolbar_visible": false
      }
     },
     "e3fe46d0574949a0a1cbc681210f45f1": {
      "model_module": "@jupyter-widgets/controls",
      "model_module_version": "1.5.0",
      "model_name": "VBoxModel",
      "state": {
       "children": [
        "IPY_MODEL_14813dd44d22423ab2c86072a4d16543",
        "IPY_MODEL_c370e206b1124845b9eed1779803e410"
       ],
       "layout": "IPY_MODEL_580b4bf269cb4d9b9fd2998fae0adf56"
      }
     },
     "e42c57e3e76f4cf2bd7874f471f9cb8e": {
      "model_module": "@jupyter-widgets/controls",
      "model_module_version": "1.5.0",
      "model_name": "HBoxModel",
      "state": {
       "children": [
        "IPY_MODEL_8a3e26b83f7144778e1f898b863f4564",
        "IPY_MODEL_acc8a9bc2cd64749a23829756e4e31c0",
        "IPY_MODEL_ea17c77d0d5c4e50942a1a625c65b897"
       ],
       "layout": "IPY_MODEL_bc0dd4f0e1424c7591a8127cd633e26b"
      }
     },
     "e4354abad26740be8f464da29eb6f3a2": {
      "model_module": "@jupyter-widgets/base",
      "model_module_version": "1.2.0",
      "model_name": "LayoutModel",
      "state": {
       "border": "solid 4px #222",
       "margin": "4px",
       "padding": "0"
      }
     },
     "e43e4146be0f45889cf4cef6d1dbe806": {
      "model_module": "@jupyter-widgets/controls",
      "model_module_version": "1.5.0",
      "model_name": "SliderStyleModel",
      "state": {
       "description_width": ""
      }
     },
     "e46e05ccc0d04edea8376e9f1abc5151": {
      "model_module": "@jupyter-widgets/base",
      "model_module_version": "1.2.0",
      "model_name": "LayoutModel",
      "state": {}
     },
     "e4c8c57a8522427d9495483a8a087f8c": {
      "model_module": "@jupyter-widgets/controls",
      "model_module_version": "1.5.0",
      "model_name": "ButtonStyleModel",
      "state": {}
     },
     "e4db1a71ea1541368b055ccced1491f7": {
      "model_module": "@jupyter-widgets/base",
      "model_module_version": "1.2.0",
      "model_name": "LayoutModel",
      "state": {}
     },
     "e521685a507c47bfa8b4c2a845482498": {
      "model_module": "@jupyter-widgets/controls",
      "model_module_version": "1.5.0",
      "model_name": "HBoxModel",
      "state": {
       "children": [
        "IPY_MODEL_6c429a63807946e7ae110a956a2de279",
        "IPY_MODEL_c59c7035994f40d8b1c93e70aecbd28c",
        "IPY_MODEL_5a978ec031e44083ad6c7e124ddf7147"
       ],
       "layout": "IPY_MODEL_60eed475dc134855a775b499a359b5b3"
      }
     },
     "e532a26475744018a1ad27aef2a23fb2": {
      "model_module": "jupyter-matplotlib",
      "model_module_version": "^0.7.2",
      "model_name": "MPLCanvasModel",
      "state": {
       "_figure_label": "Figure 18",
       "_height": 396,
       "_width": 1100,
       "header_visible": false,
       "layout": "IPY_MODEL_a7766421c5ec44a8ba6143a9a93b8b4a",
       "resizable": false,
       "toolbar": "IPY_MODEL_47bf91efa95c42f596d1f7d011d87551",
       "toolbar_position": "left",
       "toolbar_visible": false
      }
     },
     "e6045e2c5fc84ef5bb6b62acf8d7cef2": {
      "model_module": "@jupyter-widgets/base",
      "model_module_version": "1.2.0",
      "model_name": "LayoutModel",
      "state": {}
     },
     "e68f7b7a66404b5099641386eeba8138": {
      "model_module": "@jupyter-widgets/base",
      "model_module_version": "1.2.0",
      "model_name": "LayoutModel",
      "state": {
       "border": "solid 4px #222",
       "margin": "4px",
       "padding": "0"
      }
     },
     "e6a9d661cb31402b8097bfac80152040": {
      "model_module": "@jupyter-widgets/controls",
      "model_module_version": "1.5.0",
      "model_name": "HBoxModel",
      "state": {
       "children": [
        "IPY_MODEL_425d1a1ce67947d48c3cf4fa40ad5879",
        "IPY_MODEL_1ba350584c994e42a3766553863909be",
        "IPY_MODEL_2fa4a92bf53147ee841b23e7640cbe4d"
       ],
       "layout": "IPY_MODEL_a9e3df80fb2d4264950b0ebef2f1a328"
      }
     },
     "e711316dab8a41adb9e41aa767584906": {
      "model_module": "@jupyter-widgets/base",
      "model_module_version": "1.2.0",
      "model_name": "LayoutModel",
      "state": {}
     },
     "e711a2735eb04288a9228636df65a172": {
      "model_module": "@jupyter-widgets/controls",
      "model_module_version": "1.5.0",
      "model_name": "DescriptionStyleModel",
      "state": {
       "description_width": ""
      }
     },
     "e7b228bda45a401c9eda2e86e0de7736": {
      "model_module": "@jupyter-widgets/controls",
      "model_module_version": "1.5.0",
      "model_name": "ButtonModel",
      "state": {
       "description": "Reset Hue Controls",
       "layout": "IPY_MODEL_2421222ee67743ff87f83fc941ce54a1",
       "style": "IPY_MODEL_4a921c33037447cdbfdb349dc697d8f1"
      }
     },
     "e7f058ec2ab14289b7f2ffdff814a119": {
      "model_module": "@jupyter-widgets/base",
      "model_module_version": "1.2.0",
      "model_name": "LayoutModel",
      "state": {}
     },
     "e80ac0c112ae4b53823ab9fd8beba559": {
      "model_module": "@jupyter-widgets/base",
      "model_module_version": "1.2.0",
      "model_name": "LayoutModel",
      "state": {}
     },
     "e83b91b854254fea8b948691bd05bfd6": {
      "model_module": "@jupyter-widgets/base",
      "model_module_version": "1.2.0",
      "model_name": "LayoutModel",
      "state": {}
     },
     "e872534fb2ca4e56be1d42d9d5bf44b7": {
      "model_module": "@jupyter-widgets/controls",
      "model_module_version": "1.5.0",
      "model_name": "FloatSliderModel",
      "state": {
       "description": "315°",
       "layout": "IPY_MODEL_d262c9807df84155a243391344e2065f",
       "max": 1,
       "min": -1,
       "step": 0.01,
       "style": "IPY_MODEL_1f34ec71eed4495e8a4f16cf09b46712"
      }
     },
     "e87d45acb3614bb8ab55352f397ce15a": {
      "model_module": "@jupyter-widgets/base",
      "model_module_version": "1.2.0",
      "model_name": "LayoutModel",
      "state": {}
     },
     "e8a48e2b70ee41b887cf84d0a7ccda2f": {
      "model_module": "@jupyter-widgets/base",
      "model_module_version": "1.2.0",
      "model_name": "LayoutModel",
      "state": {}
     },
     "e98eaf8c93a04103bf119d0e239f194e": {
      "model_module": "@jupyter-widgets/controls",
      "model_module_version": "1.5.0",
      "model_name": "CheckboxModel",
      "state": {
       "description": "Disable Medicina",
       "disabled": false,
       "layout": "IPY_MODEL_e7f058ec2ab14289b7f2ffdff814a119",
       "style": "IPY_MODEL_43c6258a54184d7a937d8f0fe49a6067",
       "value": false
      }
     },
     "e9c8d757b8284447b789078ca4ed1e79": {
      "model_module": "@jupyter-widgets/base",
      "model_module_version": "1.2.0",
      "model_name": "LayoutModel",
      "state": {}
     },
     "e9fc75e0fa8a412abe1163015d78678f": {
      "model_module": "jupyter-matplotlib",
      "model_module_version": "^0.7.2",
      "model_name": "MPLCanvasModel",
      "state": {
       "_figure_label": "Figure 7",
       "_height": 508,
       "_image_mode": "diff",
       "_width": 1100,
       "header_visible": false,
       "layout": "IPY_MODEL_1799fc7cb2ca48348552d600e39d65c8",
       "resizable": false,
       "toolbar": "IPY_MODEL_9a175312abc04d30874435dbb2341b0f",
       "toolbar_position": "left",
       "toolbar_visible": false
      }
     },
     "ea17c77d0d5c4e50942a1a625c65b897": {
      "model_module": "@jupyter-widgets/controls",
      "model_module_version": "1.5.0",
      "model_name": "FloatSliderModel",
      "state": {
       "description": "Compression Threshold",
       "layout": "IPY_MODEL_e87d45acb3614bb8ab55352f397ce15a",
       "max": 1,
       "step": 0.01,
       "style": "IPY_MODEL_5c4bf464ef004cc6bd537fb44c955d18",
       "value": 0.8
      }
     },
     "ea6862a6b34c4e168d9e1d2eb6daa49a": {
      "model_module": "@jupyter-widgets/base",
      "model_module_version": "1.2.0",
      "model_name": "LayoutModel",
      "state": {}
     },
     "eaaf7e7f33314dcd8e4572dd42e3a8f2": {
      "model_module": "@jupyter-widgets/base",
      "model_module_version": "1.2.0",
      "model_name": "LayoutModel",
      "state": {}
     },
     "eac278b1e5ac4f5e922678659fa5b677": {
      "model_module": "@jupyter-widgets/controls",
      "model_module_version": "1.5.0",
      "model_name": "DescriptionStyleModel",
      "state": {
       "description_width": ""
      }
     },
     "eaff0116722a4b559bf2a76e2285eb58": {
      "model_module": "@jupyter-widgets/controls",
      "model_module_version": "1.5.0",
      "model_name": "VBoxModel",
      "state": {
       "children": [
        "IPY_MODEL_9106d99fe1834a9c8287c399e9def92a"
       ],
       "layout": "IPY_MODEL_be343c03f17445baa5dcaf778a2c040e"
      }
     },
     "eb6bee9b4ddd4d0c8ffd84d4afe219ff": {
      "model_module": "@jupyter-widgets/controls",
      "model_module_version": "1.5.0",
      "model_name": "ButtonStyleModel",
      "state": {}
     },
     "ebd0e3f6d17b433ca821a735f19ded86": {
      "model_module": "@jupyter-widgets/base",
      "model_module_version": "1.2.0",
      "model_name": "LayoutModel",
      "state": {
       "border": "solid 4px #222",
       "margin": "4px",
       "padding": "0"
      }
     },
     "ebef3ef9f1774d28b47adf621d9fa9a8": {
      "model_module": "@jupyter-widgets/controls",
      "model_module_version": "1.5.0",
      "model_name": "SliderStyleModel",
      "state": {
       "description_width": ""
      }
     },
     "ebf61137351d4af88b6e4e59b532eceb": {
      "model_module": "@jupyter-widgets/controls",
      "model_module_version": "1.5.0",
      "model_name": "FloatSliderModel",
      "state": {
       "description": "90°",
       "layout": "IPY_MODEL_b5851ba8254446e28eb8a3df2fce99b2",
       "max": 1,
       "min": -1,
       "step": 0.01,
       "style": "IPY_MODEL_9a4dc93a2e3d4c6a98fca99b8eaf4cec"
      }
     },
     "ec06c42c055d486993554c9426878e04": {
      "model_module": "@jupyter-widgets/controls",
      "model_module_version": "1.5.0",
      "model_name": "HBoxModel",
      "state": {
       "children": [
        "IPY_MODEL_c354629008a74b7aa2838c207f6ad6f5",
        "IPY_MODEL_34d0af206f0d48d9a2170f60553a5d79",
        "IPY_MODEL_8c91c8f917634538ba74997b0e4a3eeb"
       ],
       "layout": "IPY_MODEL_94eddd5bc32e4a0390171098757ed687"
      }
     },
     "ec5e24383da04dedafb9e64f5d7177c2": {
      "model_module": "@jupyter-widgets/base",
      "model_module_version": "1.2.0",
      "model_name": "LayoutModel",
      "state": {
       "align_items": "stretch",
       "display": "flex",
       "flex_flow": "column",
       "width": "1128px"
      }
     },
     "ec7523d59b244a37870a8306c76e91db": {
      "model_module": "@jupyter-widgets/controls",
      "model_module_version": "1.5.0",
      "model_name": "FloatSliderModel",
      "state": {
       "description": "Protected Area Threshold",
       "layout": "IPY_MODEL_dd529c6a081149dba3e117581b97760f",
       "max": 1,
       "step": 0.01,
       "style": "IPY_MODEL_9598acab52584a2c950b552cdb143f72",
       "value": 0.5
      }
     },
     "ec819ddd767045ce936b9847eed0810e": {
      "model_module": "@jupyter-widgets/base",
      "model_module_version": "1.2.0",
      "model_name": "LayoutModel",
      "state": {}
     },
     "ec97c52d67e449ab83b7146b542366ee": {
      "model_module": "@jupyter-widgets/controls",
      "model_module_version": "1.5.0",
      "model_name": "FloatSliderModel",
      "state": {
       "description": "90°",
       "layout": "IPY_MODEL_27c0b99578ac4f6cad520b04f5188052",
       "max": 1,
       "min": -1,
       "step": 0.01,
       "style": "IPY_MODEL_614fc22047974348864d12759f9a7aed"
      }
     },
     "ecc31844a24049ceba3f2166e8eb9aab": {
      "model_module": "@jupyter-widgets/controls",
      "model_module_version": "1.5.0",
      "model_name": "FloatSliderModel",
      "state": {
       "description": "45°",
       "layout": "IPY_MODEL_7a84c895626547f7b9e078eb30026850",
       "max": 1,
       "min": -1,
       "step": 0.01,
       "style": "IPY_MODEL_a93845fb65c741e082cee9708a71a5ca"
      }
     },
     "ecc8663ddb9442fca1fde98f76db6256": {
      "model_module": "@jupyter-widgets/base",
      "model_module_version": "1.2.0",
      "model_name": "LayoutModel",
      "state": {}
     },
     "ece2957494f141e6b396a4b35c21464f": {
      "model_module": "@jupyter-widgets/controls",
      "model_module_version": "1.5.0",
      "model_name": "DescriptionStyleModel",
      "state": {
       "description_width": ""
      }
     },
     "eced75607fda4a6fb8124d06c1d1f355": {
      "model_module": "@jupyter-widgets/controls",
      "model_module_version": "1.5.0",
      "model_name": "ButtonStyleModel",
      "state": {}
     },
     "ecfcce51abb64312b50bf98f90e5aea9": {
      "model_module": "@jupyter-widgets/controls",
      "model_module_version": "1.5.0",
      "model_name": "ButtonStyleModel",
      "state": {}
     },
     "ed0801bdf9e5455fa7069d22da67fa9b": {
      "model_module": "@jupyter-widgets/base",
      "model_module_version": "1.2.0",
      "model_name": "LayoutModel",
      "state": {}
     },
     "edbfbaaaaccc4ea4adc281c46562bff8": {
      "model_module": "@jupyter-widgets/base",
      "model_module_version": "1.2.0",
      "model_name": "LayoutModel",
      "state": {}
     },
     "edcd298f002e412ea0ec8d16e05fecac": {
      "model_module": "@jupyter-widgets/controls",
      "model_module_version": "1.5.0",
      "model_name": "ButtonStyleModel",
      "state": {}
     },
     "ee442c6189ba428bbafcb37b0bec68d8": {
      "model_module": "@jupyter-widgets/controls",
      "model_module_version": "1.5.0",
      "model_name": "FloatSliderModel",
      "state": {
       "description": "315°",
       "layout": "IPY_MODEL_2b30220316424e7e89d07341add5236a",
       "max": 1,
       "min": -1,
       "step": 0.01,
       "style": "IPY_MODEL_9553845cadb04f2d8183c73559a6b9bf"
      }
     },
     "ee4724460cad44559f22fa83e511d1a1": {
      "model_module": "@jupyter-widgets/controls",
      "model_module_version": "1.5.0",
      "model_name": "VBoxModel",
      "state": {
       "children": [
        "IPY_MODEL_54518b4967a041a5bd031509baee3946",
        "IPY_MODEL_850c84739d4848529fe8779bf638d03a",
        "IPY_MODEL_779a68e610844ecf9312015454d39537"
       ],
       "layout": "IPY_MODEL_a223de65dd564c0e9d66ecb2cfc2265b"
      }
     },
     "eeaed8d9d0cb493284d082b503924fa6": {
      "model_module": "@jupyter-widgets/controls",
      "model_module_version": "1.5.0",
      "model_name": "HBoxModel",
      "state": {
       "children": [
        "IPY_MODEL_bc53ade6720849118773cf9987eac433",
        "IPY_MODEL_f683e6b2be224412a5be48237e2dfa77",
        "IPY_MODEL_ce5d9f78f6864e9eaed242134642bfbf"
       ],
       "layout": "IPY_MODEL_a1e146059df546dd9a7c46640a66a856"
      }
     },
     "ef3ff31ed1c44fce8a658367d299a73a": {
      "model_module": "@jupyter-widgets/base",
      "model_module_version": "1.2.0",
      "model_name": "LayoutModel",
      "state": {}
     },
     "ef77ab8ad7ad43aeab550d6a1f298de2": {
      "model_module": "@jupyter-widgets/base",
      "model_module_version": "1.2.0",
      "model_name": "LayoutModel",
      "state": {}
     },
     "effe77b8fb414c0ca96b6f9f4ef5fb5b": {
      "model_module": "@jupyter-widgets/controls",
      "model_module_version": "1.5.0",
      "model_name": "SliderStyleModel",
      "state": {
       "description_width": ""
      }
     },
     "f007c44cc77a4aae9716fa4a1abc18ec": {
      "model_module": "@jupyter-widgets/controls",
      "model_module_version": "1.5.0",
      "model_name": "ButtonModel",
      "state": {
       "description": "Reset Hue Controls",
       "layout": "IPY_MODEL_8289e89bd37543059a5f568b9637a0ce",
       "style": "IPY_MODEL_02eb23957dc4461daa7aea0bcf4e2752"
      }
     },
     "f0415430f7cc4c78b34a4afea950a0c3": {
      "model_module": "@jupyter-widgets/controls",
      "model_module_version": "1.5.0",
      "model_name": "FloatSliderModel",
      "state": {
       "description": "225°",
       "layout": "IPY_MODEL_8975938dadff44f9b61a45c1dfcc8f79",
       "max": 1,
       "min": -1,
       "step": 0.01,
       "style": "IPY_MODEL_bb1d3d64422940d1a6cc5bf6c44f7ce7"
      }
     },
     "f059c153cf11496c9133827a55bb1ea8": {
      "model_module": "@jupyter-widgets/controls",
      "model_module_version": "1.5.0",
      "model_name": "ButtonModel",
      "state": {
       "description": "Reset Hue Controls",
       "layout": "IPY_MODEL_1b5f9d35fa554c22bfc7c24d93d3848d",
       "style": "IPY_MODEL_018fcce05d79419db90c07841c384c23"
      }
     },
     "f065e4a6030740e582ab3be84bec9ae5": {
      "model_module": "@jupyter-widgets/controls",
      "model_module_version": "1.5.0",
      "model_name": "SliderStyleModel",
      "state": {
       "description_width": ""
      }
     },
     "f15de9604cc14330b4380be723aebc02": {
      "model_module": "@jupyter-widgets/controls",
      "model_module_version": "1.5.0",
      "model_name": "ButtonModel",
      "state": {
       "description": "Export Image",
       "layout": "IPY_MODEL_62c839034f7e41009b0302d04fe362dd",
       "style": "IPY_MODEL_1d2caa174ee241baa8a9c13973afdc00"
      }
     },
     "f1859cd4bd7b41c58a6adcb314a40954": {
      "model_module": "@jupyter-widgets/base",
      "model_module_version": "1.2.0",
      "model_name": "LayoutModel",
      "state": {}
     },
     "f1a7b920eb4e44bd962cb2dac6ad0976": {
      "model_module": "@jupyter-widgets/base",
      "model_module_version": "1.2.0",
      "model_name": "LayoutModel",
      "state": {
       "align_items": "stretch",
       "display": "flex",
       "flex_flow": "column",
       "width": "1128px"
      }
     },
     "f1d41cca25124fde97c7b6bf80f068e8": {
      "model_module": "@jupyter-widgets/controls",
      "model_module_version": "1.5.0",
      "model_name": "ButtonModel",
      "state": {
       "description": "Save Figure",
       "layout": "IPY_MODEL_cbe9374e7d9d43dcb4256cf42a99f098",
       "style": "IPY_MODEL_3196443142104e57b11919e8df9e3f2c"
      }
     },
     "f1f2f2008845414fbbb3f1013344f9d0": {
      "model_module": "@jupyter-widgets/controls",
      "model_module_version": "1.5.0",
      "model_name": "ButtonModel",
      "state": {
       "description": "Reset Protected Area",
       "layout": "IPY_MODEL_45775479fff24432991cd78ea23025ab",
       "style": "IPY_MODEL_7b9dc7ec196c4c738f0eeda5c33f4e7d"
      }
     },
     "f205a204b35a4bd68610d26898a96fbf": {
      "model_module": "@jupyter-widgets/base",
      "model_module_version": "1.2.0",
      "model_name": "LayoutModel",
      "state": {
       "border": "solid 4px #222",
       "margin": "4px",
       "padding": "0"
      }
     },
     "f21ca984569144bc89a036040c3172af": {
      "model_module": "@jupyter-widgets/controls",
      "model_module_version": "1.5.0",
      "model_name": "FloatSliderModel",
      "state": {
       "description": "45°",
       "layout": "IPY_MODEL_2ff2c72b09584ab3a74c866b55927c96",
       "max": 1,
       "min": -1,
       "step": 0.01,
       "style": "IPY_MODEL_b235f12bdb134ab8bd21edc108701907"
      }
     },
     "f235eac55c4a4bc4b3f355f38043fbe9": {
      "model_module": "@jupyter-widgets/controls",
      "model_module_version": "1.5.0",
      "model_name": "DropdownModel",
      "state": {
       "_options_labels": [
        "tanh",
        "simple"
       ],
       "description": "Compression Function:",
       "index": 0,
       "layout": "IPY_MODEL_6a88c3dde24340ed9e9bad25a4d8eb45",
       "style": "IPY_MODEL_0f5619d358ae4a6a8b2bfb4b24f49ecc"
      }
     },
     "f271ee7b3be94056a6a2d1bbfce4a365": {
      "model_module": "@jupyter-widgets/base",
      "model_module_version": "1.2.0",
      "model_name": "LayoutModel",
      "state": {}
     },
     "f282fc9b1846479fa4f0247feefa1443": {
      "model_module": "@jupyter-widgets/controls",
      "model_module_version": "1.5.0",
      "model_name": "VBoxModel",
      "state": {
       "children": [
        "IPY_MODEL_8813367671e54a3fa3a314c8d7fd7063"
       ],
       "layout": "IPY_MODEL_29671f4392bd4eda95bfedcc984f1453"
      }
     },
     "f2a45bbac6f5452e89fa16b287c59868": {
      "model_module": "jupyter-matplotlib",
      "model_module_version": "^0.7.2",
      "model_name": "ToolbarModel",
      "state": {
       "layout": "IPY_MODEL_73e45e0ab1f949d1ad2a57d665b0d08d",
       "toolitems": [
        [
         "Home",
         "Reset original view",
         "home",
         "home"
        ],
        [
         "Back",
         "Back to previous view",
         "arrow-left",
         "back"
        ],
        [
         "Forward",
         "Forward to next view",
         "arrow-right",
         "forward"
        ],
        [
         "Pan",
         "Pan axes with left mouse, zoom with right",
         "arrows",
         "pan"
        ],
        [
         "Zoom",
         "Zoom to rectangle",
         "square-o",
         "zoom"
        ],
        [
         "Download",
         "Download plot",
         "floppy-o",
         "save_figure"
        ]
       ]
      }
     },
     "f2b278efbf7f41e18b5a2dd3cf17a361": {
      "model_module": "@jupyter-widgets/base",
      "model_module_version": "1.2.0",
      "model_name": "LayoutModel",
      "state": {
       "border": "solid 4px #222",
       "margin": "4px",
       "padding": "0"
      }
     },
     "f2bd5344686e4fccbf90f3c8a11f3176": {
      "model_module": "@jupyter-widgets/base",
      "model_module_version": "1.2.0",
      "model_name": "LayoutModel",
      "state": {}
     },
     "f2e9a1c281b5414199a5141aafa6c909": {
      "model_module": "@jupyter-widgets/controls",
      "model_module_version": "1.5.0",
      "model_name": "ButtonModel",
      "state": {
       "description": "Reset Saturation Controls",
       "layout": "IPY_MODEL_38737f273a6e49d2921cb3ca48cbb344",
       "style": "IPY_MODEL_b71fd7c2b72e4a19889a10b720c7ff15"
      }
     },
     "f2f010549fbd483cb3cca47c2d79a28c": {
      "model_module": "@jupyter-widgets/controls",
      "model_module_version": "1.5.0",
      "model_name": "SliderStyleModel",
      "state": {
       "description_width": ""
      }
     },
     "f2f88f7ba328433fb60b447efc8979f2": {
      "model_module": "@jupyter-widgets/base",
      "model_module_version": "1.2.0",
      "model_name": "LayoutModel",
      "state": {}
     },
     "f354c3df63dc47199013c2e6e9d841b3": {
      "model_module": "@jupyter-widgets/base",
      "model_module_version": "1.2.0",
      "model_name": "LayoutModel",
      "state": {}
     },
     "f3743fa935644a43b488247867cfa00a": {
      "model_module": "@jupyter-widgets/base",
      "model_module_version": "1.2.0",
      "model_name": "LayoutModel",
      "state": {}
     },
     "f38402252c7b4d6b9d476f5a87d00eb3": {
      "model_module": "@jupyter-widgets/base",
      "model_module_version": "1.2.0",
      "model_name": "LayoutModel",
      "state": {}
     },
     "f390d9f564fa4b359fdc3173f408bcad": {
      "model_module": "@jupyter-widgets/controls",
      "model_module_version": "1.5.0",
      "model_name": "HBoxModel",
      "state": {
       "children": [
        "IPY_MODEL_8deaf8daed794637b8f4d81649f577dd",
        "IPY_MODEL_ec7523d59b244a37870a8306c76e91db"
       ],
       "layout": "IPY_MODEL_dc5252ea6c7b4c2b9513c117099cf99a"
      }
     },
     "f424cd10af864fd4a5747fa3e2b8645f": {
      "model_module": "@jupyter-widgets/controls",
      "model_module_version": "1.5.0",
      "model_name": "FloatSliderModel",
      "state": {
       "description": "90°",
       "layout": "IPY_MODEL_f4d45aa1cf7544e3b4770c9a334d1993",
       "max": 1,
       "min": -1,
       "step": 0.01,
       "style": "IPY_MODEL_508c590e528241a7bfa88258505b0db0"
      }
     },
     "f4548c3a151c400abef76d6f0a87f3a2": {
      "model_module": "@jupyter-widgets/controls",
      "model_module_version": "1.5.0",
      "model_name": "SliderStyleModel",
      "state": {
       "description_width": ""
      }
     },
     "f4d45aa1cf7544e3b4770c9a334d1993": {
      "model_module": "@jupyter-widgets/base",
      "model_module_version": "1.2.0",
      "model_name": "LayoutModel",
      "state": {}
     },
     "f4f7a8420308464c89cb5ed83dbd2204": {
      "model_module": "@jupyter-widgets/controls",
      "model_module_version": "1.5.0",
      "model_name": "VBoxModel",
      "state": {
       "children": [
        "IPY_MODEL_7f908dc31d4b4fd9beabde70c8042ba4",
        "IPY_MODEL_c40b661f395947d7aa073984f2080ef8"
       ],
       "layout": "IPY_MODEL_1aad28c263cf4e5a8fd94381c3c3db97"
      }
     },
     "f5600b5b1aab4c9e88b69fe060f711bd": {
      "model_module": "@jupyter-widgets/base",
      "model_module_version": "1.2.0",
      "model_name": "LayoutModel",
      "state": {}
     },
     "f57c0b0a94434044a339dab1f7c0d1b7": {
      "model_module": "@jupyter-widgets/controls",
      "model_module_version": "1.5.0",
      "model_name": "HBoxModel",
      "state": {
       "children": [
        "IPY_MODEL_051ef79302ce494082c533eed2548cbe",
        "IPY_MODEL_df05fcec14fc4172be128d9e1ebc3346"
       ],
       "layout": "IPY_MODEL_0b24d6a59622474898189ce8c2ca9d35"
      }
     },
     "f5a65d9710924c71abcf2b9b2131151c": {
      "model_module": "@jupyter-widgets/controls",
      "model_module_version": "1.5.0",
      "model_name": "DropdownModel",
      "state": {
       "_options_labels": [
        "tanh",
        "simple"
       ],
       "description": "Compression Function:",
       "index": 0,
       "layout": "IPY_MODEL_22a4564b43884c2ebd219877547aee4b",
       "style": "IPY_MODEL_424d351ff3e7486baccb60f6e823952b"
      }
     },
     "f5a68d029bb14f4a93068398810a9bee": {
      "model_module": "@jupyter-widgets/base",
      "model_module_version": "1.2.0",
      "model_name": "LayoutModel",
      "state": {
       "border": "solid 4px #222",
       "margin": "4px",
       "padding": "0"
      }
     },
     "f663878c8cb14e57b94d391e096e73bd": {
      "model_module": "@jupyter-widgets/controls",
      "model_module_version": "1.5.0",
      "model_name": "FloatSliderModel",
      "state": {
       "description": "270°",
       "layout": "IPY_MODEL_5287d5c1afd145eabff26a7ded0a7960",
       "max": 1,
       "min": -1,
       "step": 0.01,
       "style": "IPY_MODEL_13eb6a9a9d00477381236be457204088"
      }
     },
     "f66958d55c8b471db9971a69ad3ca576": {
      "model_module": "@jupyter-widgets/controls",
      "model_module_version": "1.5.0",
      "model_name": "VBoxModel",
      "state": {
       "children": [
        "IPY_MODEL_f059c153cf11496c9133827a55bb1ea8"
       ],
       "layout": "IPY_MODEL_7cc3f3d04e9e44928a8a7a97cad1a2da"
      }
     },
     "f683e6b2be224412a5be48237e2dfa77": {
      "model_module": "@jupyter-widgets/controls",
      "model_module_version": "1.5.0",
      "model_name": "ButtonModel",
      "state": {
       "description": "Export Image",
       "layout": "IPY_MODEL_d3f7a85748dd41bca5c9b6439229ca7d",
       "style": "IPY_MODEL_abb2b6984f8b4eeca9a9d261fd386053"
      }
     },
     "f69ef39bf1684d7da608822e2bbe3663": {
      "model_module": "@jupyter-widgets/base",
      "model_module_version": "1.2.0",
      "model_name": "LayoutModel",
      "state": {}
     },
     "f6f2e888888a4e57beda85d962eb8dee": {
      "model_module": "@jupyter-widgets/base",
      "model_module_version": "1.2.0",
      "model_name": "LayoutModel",
      "state": {}
     },
     "f6f2f7c482a640deb9fa902ffff04dfa": {
      "model_module": "@jupyter-widgets/base",
      "model_module_version": "1.2.0",
      "model_name": "LayoutModel",
      "state": {}
     },
     "f7ba885331bc453d862e01a45ba4477b": {
      "model_module": "@jupyter-widgets/base",
      "model_module_version": "1.2.0",
      "model_name": "LayoutModel",
      "state": {}
     },
     "f7f326f6dbb54983971cf84bd73277ea": {
      "model_module": "@jupyter-widgets/controls",
      "model_module_version": "1.5.0",
      "model_name": "HBoxModel",
      "state": {
       "children": [
        "IPY_MODEL_33dceb0342294914b0774617d7a174fb",
        "IPY_MODEL_f15de9604cc14330b4380be723aebc02",
        "IPY_MODEL_a6b277d9985644b899ad7101b489a5ea"
       ],
       "layout": "IPY_MODEL_3dc9f2011733421da7cd19526de8a712"
      }
     },
     "f81e91f500044f2c81ea843fce0b3f37": {
      "model_module": "@jupyter-widgets/controls",
      "model_module_version": "1.5.0",
      "model_name": "DescriptionStyleModel",
      "state": {
       "description_width": ""
      }
     },
     "f8e7c819df6744bfb090000fb1f160e1": {
      "model_module": "@jupyter-widgets/controls",
      "model_module_version": "1.5.0",
      "model_name": "ButtonModel",
      "state": {
       "description": "Reset Saturation Controls",
       "layout": "IPY_MODEL_583cfeeed3944fd8887a5aee65bb7c06",
       "style": "IPY_MODEL_7ee1d6889f804f399e5297ee6f5d27f3"
      }
     },
     "f8f1d308704f4376914e2ff8dac6c4fa": {
      "model_module": "@jupyter-widgets/base",
      "model_module_version": "1.2.0",
      "model_name": "LayoutModel",
      "state": {}
     },
     "f93b30a8506c453ca8f0b287e1fcb606": {
      "model_module": "@jupyter-widgets/base",
      "model_module_version": "1.2.0",
      "model_name": "LayoutModel",
      "state": {}
     },
     "f93b3cb6202744cab27cf614f3d35be3": {
      "model_module": "@jupyter-widgets/base",
      "model_module_version": "1.2.0",
      "model_name": "LayoutModel",
      "state": {}
     },
     "f97e44e924da4349a1025b0643b6e099": {
      "model_module": "@jupyter-widgets/controls",
      "model_module_version": "1.5.0",
      "model_name": "CheckboxModel",
      "state": {
       "description": "Disable Medicina",
       "disabled": false,
       "layout": "IPY_MODEL_c8b3a2182b674c928bfe25fffabe8703",
       "style": "IPY_MODEL_6f677cdb6b234a4fae3660ddae07b2ac",
       "value": false
      }
     },
     "f99ace2b33374139aeb35a29df736eb6": {
      "model_module": "@jupyter-widgets/controls",
      "model_module_version": "1.5.0",
      "model_name": "VBoxModel",
      "state": {
       "children": [
        "IPY_MODEL_7d98b373f6264119adbb3d0c273dac44",
        "IPY_MODEL_e1d7a27f72f74ffc8b961eb7996bb5e8",
        "IPY_MODEL_8958a1030c4a44748a66b9648cd06757"
       ],
       "layout": "IPY_MODEL_a8698c1ce8c64898bbee96578ffb4e89"
      }
     },
     "f9c9d25add9b41d2b200154aed073f3e": {
      "model_module": "@jupyter-widgets/controls",
      "model_module_version": "1.5.0",
      "model_name": "HBoxModel",
      "state": {
       "children": [
        "IPY_MODEL_2089f3e4317d47ed91435d7e78ff8082",
        "IPY_MODEL_f5a65d9710924c71abcf2b9b2131151c",
        "IPY_MODEL_ac78360f81ec407d8e33185fad9ec8f6"
       ],
       "layout": "IPY_MODEL_638a338ed10f4fb791b2831b265241cb"
      }
     },
     "fa776d63087c474985fd3dea4bd8d2b1": {
      "model_module": "@jupyter-widgets/base",
      "model_module_version": "1.2.0",
      "model_name": "LayoutModel",
      "state": {}
     },
     "fab7ec30acbb4bc7bf4af51070e00fd0": {
      "model_module": "@jupyter-widgets/base",
      "model_module_version": "1.2.0",
      "model_name": "LayoutModel",
      "state": {}
     },
     "fac897b7f18c4def9a3fa4a016441098": {
      "model_module": "@jupyter-widgets/base",
      "model_module_version": "1.2.0",
      "model_name": "LayoutModel",
      "state": {}
     },
     "fad2fac0204346158ecb22a7dfe2c679": {
      "model_module": "@jupyter-widgets/controls",
      "model_module_version": "1.5.0",
      "model_name": "SliderStyleModel",
      "state": {
       "description_width": ""
      }
     },
     "faee14b09d4146babafe93edb1004d62": {
      "model_module": "@jupyter-widgets/base",
      "model_module_version": "1.2.0",
      "model_name": "LayoutModel",
      "state": {}
     },
     "fb470ab190a94cf5808471e53152a564": {
      "model_module": "@jupyter-widgets/controls",
      "model_module_version": "1.5.0",
      "model_name": "FloatSliderModel",
      "state": {
       "description": "Compression Threshold",
       "layout": "IPY_MODEL_b54182f010e7473c94a6fa832be7eacd",
       "max": 1,
       "step": 0.01,
       "style": "IPY_MODEL_519c6a8468d447ea9687c7089fb836ef",
       "value": 0.8
      }
     },
     "fb670356e7184e7582dd2bc9d3a56930": {
      "model_module": "@jupyter-widgets/controls",
      "model_module_version": "1.5.0",
      "model_name": "SliderStyleModel",
      "state": {
       "description_width": ""
      }
     },
     "fb829c09db2242bdbf3e23be739dbcb8": {
      "model_module": "@jupyter-widgets/controls",
      "model_module_version": "1.5.0",
      "model_name": "DescriptionStyleModel",
      "state": {
       "description_width": ""
      }
     },
     "fb9bac5e3f9b4968b1a4569e55329295": {
      "model_module": "@jupyter-widgets/controls",
      "model_module_version": "1.5.0",
      "model_name": "DescriptionStyleModel",
      "state": {
       "description_width": ""
      }
     },
     "fbb5d537e91044eba7fbf6466c6041a3": {
      "model_module": "jupyter-matplotlib",
      "model_module_version": "^0.7.2",
      "model_name": "ToolbarModel",
      "state": {
       "layout": "IPY_MODEL_ecc8663ddb9442fca1fde98f76db6256",
       "toolitems": [
        [
         "Home",
         "Reset original view",
         "home",
         "home"
        ],
        [
         "Back",
         "Back to previous view",
         "arrow-left",
         "back"
        ],
        [
         "Forward",
         "Forward to next view",
         "arrow-right",
         "forward"
        ],
        [
         "Pan",
         "Pan axes with left mouse, zoom with right",
         "arrows",
         "pan"
        ],
        [
         "Zoom",
         "Zoom to rectangle",
         "square-o",
         "zoom"
        ],
        [
         "Download",
         "Download plot",
         "floppy-o",
         "save_figure"
        ]
       ]
      }
     },
     "fc20bdc5922446fbb9e05a287516b584": {
      "model_module": "@jupyter-widgets/controls",
      "model_module_version": "1.5.0",
      "model_name": "VBoxModel",
      "state": {
       "children": [
        "IPY_MODEL_5bc1f1f1f4b74d7f867e7014132ddb71",
        "IPY_MODEL_144d6a8d8c1a41a19d2bc4d2a26ca8ea"
       ],
       "layout": "IPY_MODEL_75b40f1c4ba54ecfa35ea3c5841c2151"
      }
     },
     "fc27703fa39547339b8ba58f2355af64": {
      "model_module": "jupyter-matplotlib",
      "model_module_version": "^0.7.2",
      "model_name": "ToolbarModel",
      "state": {
       "layout": "IPY_MODEL_e83b91b854254fea8b948691bd05bfd6",
       "toolitems": [
        [
         "Home",
         "Reset original view",
         "home",
         "home"
        ],
        [
         "Back",
         "Back to previous view",
         "arrow-left",
         "back"
        ],
        [
         "Forward",
         "Forward to next view",
         "arrow-right",
         "forward"
        ],
        [
         "Pan",
         "Pan axes with left mouse, zoom with right",
         "arrows",
         "pan"
        ],
        [
         "Zoom",
         "Zoom to rectangle",
         "square-o",
         "zoom"
        ],
        [
         "Download",
         "Download plot",
         "floppy-o",
         "save_figure"
        ]
       ]
      }
     },
     "fc5a2334f3a941d79c95cc289991f2c6": {
      "model_module": "@jupyter-widgets/base",
      "model_module_version": "1.2.0",
      "model_name": "LayoutModel",
      "state": {}
     },
     "fce74f40517d4ee4865e742c7de2df8c": {
      "model_module": "@jupyter-widgets/controls",
      "model_module_version": "1.5.0",
      "model_name": "ButtonStyleModel",
      "state": {}
     },
     "fd0bc8969a3b4a0d8d78e9b87ecaaa67": {
      "model_module": "@jupyter-widgets/base",
      "model_module_version": "1.2.0",
      "model_name": "LayoutModel",
      "state": {
       "border": "solid 4px #222",
       "margin": "4px",
       "padding": "0"
      }
     },
     "fd5363edd4c946a4a5a88d843eee523f": {
      "model_module": "@jupyter-widgets/controls",
      "model_module_version": "1.5.0",
      "model_name": "SliderStyleModel",
      "state": {
       "description_width": ""
      }
     },
     "fd6d16b8faeb46ee9b40d67a4faf45ee": {
      "model_module": "@jupyter-widgets/controls",
      "model_module_version": "1.5.0",
      "model_name": "HBoxModel",
      "state": {
       "children": [
        "IPY_MODEL_712ad1e8ac5943a2a7819b1c2d582d0f",
        "IPY_MODEL_43e6fbec9d10470587de7033ce4c72d3"
       ],
       "layout": "IPY_MODEL_946e0359bfcc434b9acc1f4450d148f4"
      }
     },
     "fd9c78e0cba24b359b508360798d0d89": {
      "model_module": "@jupyter-widgets/controls",
      "model_module_version": "1.5.0",
      "model_name": "ButtonModel",
      "state": {
       "description": "Reset Hue Controls",
       "layout": "IPY_MODEL_3aae22814136440b9698eb28b5d7a96d",
       "style": "IPY_MODEL_4b53a67eb8164134b802a01e11eaad73"
      }
     },
     "fdedf475ddb8411d8c2ed069eef32860": {
      "model_module": "@jupyter-widgets/controls",
      "model_module_version": "1.5.0",
      "model_name": "SliderStyleModel",
      "state": {
       "description_width": ""
      }
     },
     "fe687a2874454af59f1a344c339c07fb": {
      "model_module": "@jupyter-widgets/base",
      "model_module_version": "1.2.0",
      "model_name": "LayoutModel",
      "state": {}
     },
     "fe77580a9c3c4eef81ec14c9ae8bed9f": {
      "model_module": "@jupyter-widgets/base",
      "model_module_version": "1.2.0",
      "model_name": "LayoutModel",
      "state": {}
     },
     "fe93b6f5a86e4f4baade6c4c78099fda": {
      "model_module": "@jupyter-widgets/base",
      "model_module_version": "1.2.0",
      "model_name": "LayoutModel",
      "state": {}
     },
     "fed44617387148698344d0be60ec9dc0": {
      "model_module": "@jupyter-widgets/controls",
      "model_module_version": "1.5.0",
      "model_name": "VBoxModel",
      "state": {
       "children": [
        "IPY_MODEL_fd9c78e0cba24b359b508360798d0d89"
       ],
       "layout": "IPY_MODEL_1cc23d9efbcd4fc5a2a86bd6979ca9a5"
      }
     },
     "fef1cec35bce42f09951591eb3bbc364": {
      "model_module": "@jupyter-widgets/controls",
      "model_module_version": "1.5.0",
      "model_name": "SliderStyleModel",
      "state": {
       "description_width": ""
      }
     },
     "ff1e808a703f404e8a161d134fc75d16": {
      "model_module": "@jupyter-widgets/controls",
      "model_module_version": "1.5.0",
      "model_name": "SliderStyleModel",
      "state": {
       "description_width": ""
      }
     },
     "ff91833b90c148f3b7a6608e40c55800": {
      "model_module": "@jupyter-widgets/controls",
      "model_module_version": "1.5.0",
      "model_name": "TabModel",
      "state": {
       "_titles": {
        "0": "Global Controls"
       },
       "children": [
        "IPY_MODEL_ec06c42c055d486993554c9426878e04"
       ],
       "layout": "IPY_MODEL_7c080909cf784f7c8cb1fb93039bc108"
      }
     },
     "ff9f4e80ca30490e8a9555b3fda68c04": {
      "model_module": "@jupyter-widgets/controls",
      "model_module_version": "1.5.0",
      "model_name": "FloatSliderModel",
      "state": {
       "description": "225°",
       "layout": "IPY_MODEL_f2f88f7ba328433fb60b447efc8979f2",
       "max": 1,
       "min": -1,
       "step": 0.01,
       "style": "IPY_MODEL_d08600f61ae74b999029492aa1c09f9c"
      }
     },
     "ffbe321cd9c743ff9c23ba211de9d5b5": {
      "model_module": "@jupyter-widgets/controls",
      "model_module_version": "1.5.0",
      "model_name": "FloatSliderModel",
      "state": {
       "description": "0°",
       "layout": "IPY_MODEL_e6045e2c5fc84ef5bb6b62acf8d7cef2",
       "max": 1,
       "min": -1,
       "step": 0.01,
       "style": "IPY_MODEL_d0c4c50514944f3bb0b29ad91e03520e"
      }
     }
    },
    "version_major": 2,
    "version_minor": 0
   }
  }
 },
 "nbformat": 4,
 "nbformat_minor": 4
}
