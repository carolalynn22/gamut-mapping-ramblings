{
 "cells": [
  {
   "cell_type": "markdown",
   "metadata": {
    "colab_type": "text",
    "id": "pRS6nhpu1R6y"
   },
   "source": [
    "# Gamut Mapping - Medicina 01"
   ]
  },
  {
   "cell_type": "markdown",
   "metadata": {},
   "source": [
    "## Introduction"
   ]
  },
  {
   "cell_type": "markdown",
   "metadata": {},
   "source": [
    "This notebook implements an interactive widget used to investigate various gamut models in the context for the [ACES VWG on Gamut Mapping](https://community.acescentral.com/c/aces-development-acesnext/vwg-aces-gamut-mapping-working-group/).\n",
    "\n",
    "It is assumed that the reader has some knowledge about image processing and colour management pipelines in the Media and Entertainment Industry. An introductory publication on the topic is [Cinematic Color: From Your Monitor to the Big Screen](https://cinematiccolor.org/) by Selan (2012).\n",
    "\n",
    "Because the imagery represents scene-referred exposure values, the gamut mapped images should ideally be exported and viewed with an appropriate *View Transform*, typically an *ACES RRT + sRGB ODT* transforms combination.\n",
    "\n",
    "\n",
    "Images courtesy of:\n",
    "\n",
    "- [Justin Holt](https://www.dropbox.com/sh/u6z2a0jboo4vno8/AAB-10qcflhpr0C5LWhs7Kq4a?dl=0)\n",
    "- [Thomas Mansencal](https://community.acescentral.com/t/spectral-images-generation-and-processing/)\n",
    "- [Fabian Matas](https://www.dropbox.com/sh/u6z2a0jboo4vno8/AAB-10qcflhpr0C5LWhs7Kq4a?dl=0)\n",
    "- [Carol Payne](https://www.dropbox.com/sh/u6z2a0jboo4vno8/AAB-10qcflhpr0C5LWhs7Kq4a?dl=0)\n",
    "- [Martin Smekal](https://community.acescentral.com/t/vfx-work-in-acescg-with-out-of-gamut-devices/2385)"
   ]
  },
  {
   "cell_type": "markdown",
   "metadata": {},
   "source": [
    "## Imports & Overall Settings"
   ]
  },
  {
   "cell_type": "code",
   "execution_count": 1,
   "metadata": {},
   "outputs": [],
   "source": [
    "%matplotlib widget"
   ]
  },
  {
   "cell_type": "code",
   "execution_count": 2,
   "metadata": {
    "colab": {
     "base_uri": "https://localhost:8080/",
     "height": 340
    },
    "colab_type": "code",
    "id": "OydMmtZRxd3c",
    "outputId": "297a43b9-f566-405d-e8bc-cfae56b50959"
   },
   "outputs": [
    {
     "name": "stdout",
     "output_type": "stream",
     "text": [
      "===============================================================================\n",
      "*                                                                             *\n",
      "*   Interpreter :                                                             *\n",
      "*       python : 3.7.6 (default, Dec 30 2019, 19:38:26)                       *\n",
      "*                [Clang 11.0.0 (clang-1100.0.33.16)]                          *\n",
      "*                                                                             *\n",
      "*   colour-science.org :                                                      *\n",
      "*       colour : v0.3.15-132-g8ed24e8e                                        *\n",
      "*                                                                             *\n",
      "*   Runtime :                                                                 *\n",
      "*       imageio : 2.8.0                                                       *\n",
      "*       matplotlib : 3.0.3                                                    *\n",
      "*       numpy : 1.18.4                                                        *\n",
      "*       scipy : 1.4.1                                                         *\n",
      "*       six : 1.14.0                                                          *\n",
      "*                                                                             *\n",
      "===============================================================================\n"
     ]
    }
   ],
   "source": [
    "from __future__ import division, unicode_literals\n",
    "\n",
    "import colour\n",
    "import ipympl.backend_nbagg\n",
    "import ipywidgets\n",
    "import matplotlib.gridspec as gridspec\n",
    "import matplotlib.patches as patches\n",
    "import matplotlib.pyplot as plt\n",
    "import numpy as np\n",
    "import os\n",
    "import scipy.interpolate\n",
    "from matplotlib.collections import PathCollection\n",
    "from matplotlib._layoutbox import plot_children\n",
    "\n",
    "DEFAULT_BOX_DECORATION_WIDTH = 4\n",
    "MPL_BOX_DECORATION_WIDTH = 28\n",
    "\n",
    "COLOUR_STYLE = colour.plotting.colour_style()\n",
    "COLOUR_STYLE.update({\n",
    "    'legend.framealpha':\n",
    "    colour.plotting.COLOUR_STYLE_CONSTANTS.opacity.low\n",
    "})\n",
    "\n",
    "plt.style.use(COLOUR_STYLE)\n",
    "\n",
    "plt.style.use('dark_background')\n",
    "\n",
    "colour.utilities.describe_environment()\n",
    "\n",
    "colour.utilities.filter_warnings(*[True] * 4);"
   ]
  },
  {
   "cell_type": "markdown",
   "metadata": {},
   "source": [
    "## Widgets Styling"
   ]
  },
  {
   "cell_type": "markdown",
   "metadata": {},
   "source": [
    "CSS style for various widgets to improve overall presentation."
   ]
  },
  {
   "cell_type": "code",
   "execution_count": 3,
   "metadata": {},
   "outputs": [
    {
     "data": {
      "text/html": [
       "<style>\n",
       ".widget-button {\n",
       "    margin-left: 10px;\n",
       "    margin-right: 10px;\n",
       "}\n",
       "</style>\n"
      ],
      "text/plain": [
       "<IPython.core.display.HTML object>"
      ]
     },
     "metadata": {},
     "output_type": "display_data"
    }
   ],
   "source": [
    "%%html\n",
    "<style>\n",
    ".widget-button {\n",
    "    margin-left: 10px;\n",
    "    margin-right: 10px;\n",
    "}\n",
    "</style>"
   ]
  },
  {
   "cell_type": "markdown",
   "metadata": {
    "colab_type": "text",
    "id": "5yCeFpnnp_wh"
   },
   "source": [
    "## Colour Wheel Generation"
   ]
  },
  {
   "cell_type": "markdown",
   "metadata": {},
   "source": [
    "Utility function responsible to produce a scene-referred colour wheel."
   ]
  },
  {
   "cell_type": "code",
   "execution_count": 4,
   "metadata": {
    "colab": {},
    "colab_type": "code",
    "id": "RshonIbOI4Ij"
   },
   "outputs": [],
   "source": [
    "def colour_wheel(samples=1024, clip_circle=False, method='Colour'):\n",
    "    xx, yy = np.meshgrid(\n",
    "        np.linspace(-1, 1, samples), np.linspace(-1, 1, samples))\n",
    "\n",
    "    S = np.sqrt(xx ** 2 + yy ** 2)    \n",
    "    H = (np.arctan2(xx, yy) + np.pi) / (np.pi * 2)\n",
    "\n",
    "    HSV = colour.utilities.tstack([H, S, np.ones(H.shape)])\n",
    "    RGB = colour.HSV_to_RGB(HSV)\n",
    "\n",
    "    if clip_circle == True:\n",
    "        RGB[S > 1] = 0\n",
    "        A = np.where(S > 1, 0, 1)\n",
    "    else:\n",
    "        A = np.ones(S.shape)\n",
    "\n",
    "    if method.lower()== 'matplotlib':\n",
    "        RGB = colour.utilities.orient(RGB, '90 CW')\n",
    "    elif method.lower()== 'nuke':\n",
    "        RGB = colour.utilities.orient(RGB, 'Flip')\n",
    "        RGB = colour.utilities.orient(RGB, '90 CW')\n",
    "\n",
    "    R, G, B = colour.utilities.tsplit(RGB)\n",
    "    \n",
    "    return colour.utilities.tstack([R, G, B, A])"
   ]
  },
  {
   "cell_type": "markdown",
   "metadata": {},
   "source": [
    "## Utility Functions & Objects"
   ]
  },
  {
   "cell_type": "markdown",
   "metadata": {},
   "source": [
    "Various random utility functions and objects."
   ]
  },
  {
   "cell_type": "code",
   "execution_count": 5,
   "metadata": {},
   "outputs": [],
   "source": [
    "def batch(sequence, count):\n",
    "    for i in range(0, len(sequence), count):\n",
    "        yield sequence[i:i + count]\n",
    "        \n",
    "\n",
    "def border_layout():\n",
    "    return ipywidgets.widgets.Layout(\n",
    "        border='solid {0}px #222'.format(4),\n",
    "        margin='{0}px'.format(DEFAULT_BOX_DECORATION_WIDTH),\n",
    "        padding='0')\n",
    "\n",
    "\n",
    "def adjust_exposure(a, EV):\n",
    "    a = colour.utilities.as_float_array(a)\n",
    "\n",
    "    return a * pow(2, EV)"
   ]
  },
  {
   "cell_type": "markdown",
   "metadata": {},
   "source": [
    "## Gamut Medicina Base Widget"
   ]
  },
  {
   "cell_type": "markdown",
   "metadata": {},
   "source": [
    "The `GamutMedicinaBaseWidget` base widget class is inherited by the concrete sub-classes implementing the various gamut mapping study models.\n",
    "\n",
    "At its core it is itself an `ipywidgets.widgets.Box` sub-class which outputs a [Matplotlib](http://matplotlib.org/) figure composed of three sub-plots:\n",
    "\n",
    "- **Reference Image**: Required, 1 cartesian `Axes`\n",
    "- **Colour Wheel**: Optional, 1 cartesian `Axes` and 1 polar `Axes`\n",
    "- **Chromaticity Diagram**: Optional, 1 cartesian `Axes`\n",
    "\n",
    "Trivial layout heuristic is implemented to support optionally enabling or disabling the **Colour Wheel** and **Chromaticity Diagram** sub-plots."
   ]
  },
  {
   "cell_type": "markdown",
   "metadata": {},
   "source": [
    "### Reference Image"
   ]
  },
  {
   "cell_type": "markdown",
   "metadata": {},
   "source": [
    "The **Reference Image** sub-plot is responsible for displaying the gamut mapped scene-referred imagery.\n",
    "\n",
    "*Note*\n",
    "\n",
    "> To improve the performance of the notebook, the *View Transform*, i.e. a S-Curve, converting the scene-referred imagery to output-referred values is omitted."
   ]
  },
  {
   "cell_type": "markdown",
   "metadata": {},
   "source": [
    "### Colour Wheel"
   ]
  },
  {
   "cell_type": "markdown",
   "metadata": {},
   "source": [
    "The **Colour Wheel** sub-plot is used to represent the controls for the gamut mapping study models adopting a cylindrical or conic working space.\n",
    "\n",
    "The colour wheel is drawn on a cartesian `Axes` on top of which is overlayed a polar `Axes` used to draw the control regions."
   ]
  },
  {
   "cell_type": "markdown",
   "metadata": {},
   "source": [
    "### Chromaticity Diagram"
   ]
  },
  {
   "cell_type": "markdown",
   "metadata": {},
   "source": [
    "The **Chromaticity Diagram** sub-plot is also used to represent the controls for the gamut mapping study models into the *Chromaticity Diagram 1976 UCS* based on the [CIE L\\*u\\*v\\*](https://fr.wikipedia.org/wiki/L*u*v*_CIE_1976) colourspace.\n",
    "\n",
    "It also features the following elements:\n",
    "\n",
    "- *RGB Working Space* gamut, i.e. *ACEScg/AP1*, large triangle\n",
    "- *RGB Display Space* gamut, i.e. *sRGB*, small triangle\n",
    "- Scatter of the decimated **Reference Image** data\n",
    "- Scatter of the ColorChecker Classic data, white scatter points\n"
   ]
  },
  {
   "cell_type": "code",
   "execution_count": 6,
   "metadata": {},
   "outputs": [
    {
     "data": {
      "application/vnd.jupyter.widget-view+json": {
       "model_id": "df78e16bd70c4b4e80a94dce5669be73",
       "version_major": 2,
       "version_minor": 0
      },
      "text/plain": [
       "GamutMedicinaBaseWidget(children=(Output(layout=Layout(border='solid 4px #222', margin='4px', padding='0')), T…"
      ]
     },
     "metadata": {},
     "output_type": "display_data"
    }
   ],
   "source": [
    "class GamutMedicinaBaseWidget(ipywidgets.widgets.Box):\n",
    "    def __init__(self,\n",
    "                 reference_image_path=None,\n",
    "                 working_space=colour.models.ACES_CG_COLOURSPACE,\n",
    "                 reference_space=colour.models.ACES_2065_1_COLOURSPACE,\n",
    "                 display_space=colour.models.sRGB_COLOURSPACE,\n",
    "                 colour_wheel_samples=256,\n",
    "                 image_decimation=10,\n",
    "                 reference_image_exposure=0,\n",
    "                 figure_size=(11, None),\n",
    "                 padding=0.005,\n",
    "                 spacing=0.005,\n",
    "                 show_labels=False,\n",
    "                 enable_colour_wheel=True,\n",
    "                 enable_chromaticity_diagram=True,\n",
    "                 debug_layout=False):\n",
    "        super().__init__()\n",
    "\n",
    "        self._reference_image_path = reference_image_path\n",
    "        self._working_space = working_space\n",
    "        self._reference_space = reference_space\n",
    "        self._display_space = display_space\n",
    "        self._colour_wheel_samples = colour_wheel_samples\n",
    "        self._image_decimation = image_decimation\n",
    "        self._reference_image_exposure = reference_image_exposure\n",
    "        self._figure_size = figure_size\n",
    "        self._padding = padding\n",
    "        self._spacing = spacing\n",
    "        self._show_labels = show_labels\n",
    "        self._enable_colour_wheel = enable_colour_wheel\n",
    "        self._enable_chromaticity_diagram = enable_chromaticity_diagram\n",
    "\n",
    "        self._enable = True\n",
    "\n",
    "        self._reference_image = None\n",
    "        self._reference_image_pre_working = None\n",
    "        self._reference_image_working = None\n",
    "        self._reference_image_mapped = None\n",
    "        self._reference_image_display = None\n",
    "\n",
    "        if self._enable_colour_wheel:\n",
    "            self._colour_wheel = None\n",
    "\n",
    "        if self._enable_chromaticity_diagram:\n",
    "            self._decimated_image_pre_working = None\n",
    "            self._decimated_image_working = None\n",
    "            self._decimated_image_display = None\n",
    "\n",
    "        self._colour_checker = None\n",
    "        self._colour_checker_uv = None\n",
    "\n",
    "        self._output = None\n",
    "        self._figure = None\n",
    "        self._grid_spec = None\n",
    "        self._reference_image_axes = None\n",
    "        self._reference_image_imshow = None\n",
    "\n",
    "        if self._enable_colour_wheel:\n",
    "            self._colour_wheel_cartersian_axes = None\n",
    "            self._colour_wheel_imshow = None\n",
    "            self._colour_wheel_polar_axes = None\n",
    "\n",
    "        if self._enable_chromaticity_diagram:\n",
    "            self._chromaticity_diagram_axes = None\n",
    "            self._scatter_offsets_i = None\n",
    "            self._scatter_facecolor_i = None\n",
    "\n",
    "        self._disable_medidicina_CheckBox = None\n",
    "        self._global_controls_HBox = None\n",
    "        self._controls_Tab = None\n",
    "\n",
    "        self.initialize_data()\n",
    "        self.initialize_axes()\n",
    "        self.initialise_widgets()\n",
    "        self.attach_callbacks()\n",
    "\n",
    "        if debug_layout:\n",
    "            plot_children(self._figure, self._figure._layoutbox, printit=False)\n",
    "\n",
    "    def initialize_data(self):\n",
    "        # *** Reference Image ***\n",
    "        self._reference_image = (colour.read_image(self._reference_image_path)\n",
    "                                 if self._reference_image_path is not None else\n",
    "                                 np.random.rand(540, 960, 3))\n",
    "        self._reference_image_path = (self._reference_image_path\n",
    "                                      if self._reference_image_path is not None\n",
    "                                      else 'Random.exr')\n",
    "        self._reference_image_pre_working = self.reference_space_to_working_space(\n",
    "            self._reference_image)\n",
    "        self._reference_image_working = self._reference_image_pre_working\n",
    "        self._reference_image_mapped =self._reference_image_pre_working\n",
    "        self._reference_image_display = self.working_space_to_display_space(\n",
    "            self._reference_image_working)\n",
    "\n",
    "        # *** Colour Wheel ***\n",
    "        if self._enable_colour_wheel:\n",
    "            self._colour_wheel = colour_wheel(\n",
    "                self._colour_wheel_samples,\n",
    "                method='Matplotlib')\n",
    "\n",
    "        # *** Decimated Image, i.e. Scatter ***\n",
    "        if self._enable_chromaticity_diagram:\n",
    "            self._decimated_image_pre_working = (\n",
    "                self._reference_image_working[::self._image_decimation, ::\n",
    "                                              self._image_decimation, :]).reshape(-1, 3)\n",
    "            self._decimated_image_working = self._decimated_image_pre_working\n",
    "            self._decimated_image_display = (\n",
    "                self.working_space_to_display_space(\n",
    "                    self._decimated_image_working))\n",
    "\n",
    "        # *** Colour Checker\n",
    "        colour_checker = colour.COLOURCHECKERS[\n",
    "            'ColorChecker24 - After November 2014']\n",
    "        colour_checker_data = colour.utilities.as_float_array(\n",
    "            list(colour_checker.data.values()))\n",
    "        self._colour_checker_uv = colour.xy_to_Luv_uv(\n",
    "            colour_checker_data[:, 0:2])\n",
    "\n",
    "    def initialize_axes(self):\n",
    "        self._output = ipywidgets.widgets.Output()\n",
    "\n",
    "        image_height, image_width, channels = self._reference_image.shape\n",
    "        if self._figure_size[-1] is None:\n",
    "            if self._enable_colour_wheel and self._enable_chromaticity_diagram:\n",
    "                width = image_height / 2 + image_width\n",
    "                height = image_height - self._padding * 100 - self._spacing * 100\n",
    "                # Unresolved fudge factor to ensure plots line up.\n",
    "                height -= int(height * 0.05)\n",
    "            elif self._enable_colour_wheel or self._enable_chromaticity_diagram:\n",
    "                width = image_height + image_width\n",
    "                height = image_height\n",
    "            else:\n",
    "                width = image_width\n",
    "                height = image_height\n",
    "            ratio = self._figure_size[0] * 100 / width\n",
    "            figure_size = (width / 100 * ratio, height / 100 * ratio)\n",
    "        else:\n",
    "            figure_size = self._figure_size\n",
    "\n",
    "        with self._output:\n",
    "            self._figure = plt.figure(\n",
    "                figsize=figure_size,\n",
    "                constrained_layout=True,\n",
    "                facecolor=[2 / 3 / 10] * 3)\n",
    "            self._figure.canvas.toolbar_visible = False\n",
    "            self._figure.canvas.header_visible = False\n",
    "            self._figure.canvas.footer_visible = True\n",
    "            self._figure.canvas.resizable = False\n",
    "            self._figure.tight_layout()\n",
    "\n",
    "        if self._enable_colour_wheel and self._enable_chromaticity_diagram:\n",
    "            rows = columns = 2\n",
    "            colour_wheel_indices = 0, 0\n",
    "            chromaticity_diagram_indices = 1, 0\n",
    "            reference_image_indices = slice(0, None, None), slice(\n",
    "                1, None, None)\n",
    "            width_ratios = [1, 2 * image_width / image_height]\n",
    "        elif not self._enable_colour_wheel and not self._enable_chromaticity_diagram:\n",
    "            rows = columns = 1\n",
    "            colour_wheel_indices = chromaticity_diagram_indices = None\n",
    "            reference_image_indices = 0, 0\n",
    "            width_ratios = [1]\n",
    "        else:\n",
    "            rows = 1\n",
    "            columns = 2\n",
    "            colour_wheel_indices = chromaticity_diagram_indices = 0, 0\n",
    "            reference_image_indices = 0, 1\n",
    "            width_ratios = [1, image_width / image_height]\n",
    "\n",
    "        self._grid_spec = gridspec.GridSpec(\n",
    "            ncols=columns,\n",
    "            nrows=rows,\n",
    "            figure=self._figure,\n",
    "            width_ratios=width_ratios,\n",
    "            wspace=self._spacing,\n",
    "            hspace=self._spacing)\n",
    "        self._figure.set_constrained_layout_pads(\n",
    "            w_pad=self._padding,\n",
    "            h_pad=self._padding)\n",
    "\n",
    "        # Colour Wheel Axes\n",
    "        if self._enable_colour_wheel:\n",
    "            self._colour_wheel_cartersian_axes = self._figure.add_subplot(\n",
    "                self._grid_spec[colour_wheel_indices[0], colour_wheel_indices[\n",
    "                    1]],\n",
    "                label='Cartesian Axes')\n",
    "            self._colour_wheel_cartersian_axes.axis('off')\n",
    "            circle = patches.Circle(\n",
    "                [0.5, 0.5], radius=0.5, transform=self._colour_wheel_cartersian_axes.transData)\n",
    "            self._colour_wheel_imshow = self._colour_wheel_cartersian_axes.imshow(\n",
    "                np.clip(self._colour_wheel, 0, 1), extent=[0, 1, 0, 1], clip_path=None)\n",
    "            self._colour_wheel_imshow.set_clip_path(circle)\n",
    "\n",
    "            self._colour_wheel_polar_axes = self._figure.add_subplot(\n",
    "                self._grid_spec[colour_wheel_indices[0], colour_wheel_indices[\n",
    "                    1]],\n",
    "                projection='polar',\n",
    "                label='Polar Axes')\n",
    "            self._colour_wheel_polar_axes.set_xlim(0, np.pi * 2)\n",
    "            self._colour_wheel_polar_axes.set_ylim(0, 1)\n",
    "            self._colour_wheel_polar_axes.patch.set_alpha(0)\n",
    "            self._colour_wheel_polar_axes.grid(alpha=0.15)\n",
    "            if not self._show_labels:\n",
    "                self._colour_wheel_polar_axes.set_xticklabels([])\n",
    "            self._colour_wheel_polar_axes.set_yticklabels([])\n",
    "\n",
    "        # Chromaticity Diagram Axes\n",
    "        if self._enable_chromaticity_diagram:\n",
    "            self._chromaticity_diagram_axes = self._figure.add_subplot(\n",
    "                self._grid_spec[chromaticity_diagram_indices[0],\n",
    "                                chromaticity_diagram_indices[1]])\n",
    "            self._chromaticity_diagram_axes.patch.set_alpha(0)\n",
    "            (colour.plotting.\n",
    "             plot_RGB_chromaticities_in_chromaticity_diagram_CIE1976UCS(\n",
    "                 self._decimated_image_working,\n",
    "                 colourspace=self._working_space,\n",
    "                 colourspaces=['sRGB'],\n",
    "                 axes=self._chromaticity_diagram_axes,\n",
    "                 standalone=False,\n",
    "                 transparent_background=False,\n",
    "                 spectral_locus_colours='RGB',\n",
    "                 spectral_locus_labels=[],\n",
    "                 diagram_opacity=0,\n",
    "                 scatter_kwargs={'s': 1},\n",
    "                 title=str(),\n",
    "                 x_label=str(),\n",
    "                 y_label=str(),\n",
    "                 legend=False))\n",
    "            self._chromaticity_diagram_axes.tick_params(\n",
    "                axis='y', which='both', direction='in')\n",
    "            self._chromaticity_diagram_axes.tick_params(\n",
    "                axis='x', which='both', direction='in')\n",
    "            self._chromaticity_diagram_axes.minorticks_off()\n",
    "            self._chromaticity_diagram_axes.grid(alpha=0.15)\n",
    "            for collection in self._chromaticity_diagram_axes.collections:\n",
    "                if isinstance(collection, PathCollection):\n",
    "                    self._scatter_path_collection = collection\n",
    "                    break\n",
    "            \n",
    "            if not self._show_labels:\n",
    "                self._chromaticity_diagram_axes.set_xticklabels([])\n",
    "                self._chromaticity_diagram_axes.set_yticklabels([])\n",
    "\n",
    "            self._scatter_offsets_i = self._scatter_path_collection.get_offsets(\n",
    "            )\n",
    "            self._scatter_facecolor_i = self._scatter_path_collection.get_facecolor(\n",
    "            )\n",
    "            self._chromaticity_diagram_axes.scatter(\n",
    "                self._colour_checker_uv[:, 0],\n",
    "                self._colour_checker_uv[:, 1],\n",
    "                c='white',\n",
    "                marker='D',\n",
    "                s=5)\n",
    "\n",
    "        # Reference Image Axes\n",
    "        self._reference_image_axes = self._figure.add_subplot(self._grid_spec[\n",
    "            reference_image_indices[0], reference_image_indices[1]])\n",
    "        self._reference_image_axes.set_xticks([])\n",
    "        self._reference_image_axes.set_yticks([])\n",
    "        self._reference_image_imshow = self._reference_image_axes.imshow(\n",
    "            self.working_space_to_display_space(self._reference_image_working))\n",
    "\n",
    "    def initialise_widgets(self):\n",
    "        # *** Widgets ***\n",
    "        self._disable_medidicina_CheckBox = (\n",
    "            ipywidgets.widgets.Checkbox(description='Disable Medicina'))\n",
    "        self._export_reference_image_Button = (\n",
    "            ipywidgets.widgets.Button(description=\"Export Image\"))\n",
    "        self._save_figure_image_Button = (\n",
    "            ipywidgets.widgets.Button(description=\"Save Figure\"))\n",
    "        self._reset_exposure_Button = (\n",
    "            ipywidgets.widgets.Button(description=\"Reset Exposure\"))\n",
    "        self._exposure_FloatSlider = (\n",
    "            ipywidgets.widgets.FloatSlider(\n",
    "                min=-8.0,\n",
    "                max=8.0,\n",
    "                step=0.1,\n",
    "                value=self._reference_image_exposure,\n",
    "                description='Exposure'))\n",
    "        \n",
    "        # *** Layout ***\n",
    "        self.layout.display = 'flex'\n",
    "        self.layout.flex_flow = 'column'\n",
    "        self.layout.align_items = 'stretch'\n",
    "        self.layout.width = '{0}px'.format(self._figure_size[0] * 100 +\n",
    "                                           MPL_BOX_DECORATION_WIDTH)\n",
    "\n",
    "        self._global_controls_HBox = ipywidgets.widgets.HBox([\n",
    "            self._disable_medidicina_CheckBox,\n",
    "            self._export_reference_image_Button,\n",
    "            self._save_figure_image_Button,\n",
    "            self._reset_exposure_Button,\n",
    "            self._exposure_FloatSlider,\n",
    "        ])\n",
    "\n",
    "        self._controls_Tab = ipywidgets.widgets.Tab(children=[\n",
    "            self._global_controls_HBox,\n",
    "        ])\n",
    "        self._controls_Tab.set_title(0, 'Global Controls')\n",
    "\n",
    "        self._controls_Tab.layout = border_layout()\n",
    "\n",
    "        self._output.layout = border_layout()\n",
    "        self.children = [self._output, self._controls_Tab]\n",
    "\n",
    "    def attach_callbacks(self):\n",
    "        self._disable_medidicina_CheckBox.observe(self.toggle_medidicina)\n",
    "        self._export_reference_image_Button.on_click(\n",
    "            self.export_reference_image)\n",
    "        self._save_figure_image_Button.on_click(self.save_figure)\n",
    "        self._reset_exposure_Button.on_click(self.reset_exposure)\n",
    "        self._exposure_FloatSlider.observe(\n",
    "            self.set_exposure, 'value')\n",
    "\n",
    "    def reference_space_to_working_space(self, RGB):\n",
    "        return colour.RGB_to_RGB(RGB, self._reference_space,\n",
    "                                 self._working_space)\n",
    "\n",
    "    def working_space_to_reference_space(self, RGB):\n",
    "        return colour.RGB_to_RGB(RGB, self._working_space,\n",
    "                                 self._reference_space)\n",
    "\n",
    "    def working_space_to_display_space(self,\n",
    "                                       RGB,\n",
    "                                       apply_encoding_cctf=True,\n",
    "                                       clip=True):\n",
    "        RGB = colour.RGB_to_RGB(\n",
    "            RGB,\n",
    "            self._working_space,\n",
    "            self._display_space,\n",
    "            apply_encoding_cctf=apply_encoding_cctf)\n",
    "\n",
    "        if clip:\n",
    "            return np.clip(RGB, 0, 1)\n",
    "        else:\n",
    "            return RGB\n",
    "\n",
    "    def update_scatter_plot(self, RGB):\n",
    "        if self._enable_chromaticity_diagram:\n",
    "            RGB = RGB[RGB[:, 1].argsort()]\n",
    "            XYZ = colour.RGB_to_XYZ(RGB, self._working_space.whitepoint,\n",
    "                                    self._working_space.whitepoint,\n",
    "                                    self._working_space.RGB_to_XYZ_matrix)\n",
    "            uv = colour.Luv_to_uv(\n",
    "                colour.XYZ_to_Luv(XYZ, self._working_space.whitepoint),\n",
    "                self._working_space.whitepoint)\n",
    "            self._scatter_path_collection.set_offsets(uv)\n",
    "            self._scatter_path_collection.set_facecolor(\n",
    "                self.working_space_to_display_space(RGB))\n",
    "\n",
    "    def toggle_medidicina(self, change):\n",
    "        if not change:\n",
    "            return\n",
    "\n",
    "        if change['name'] == 'value':\n",
    "            self._enable = not change['new']\n",
    "\n",
    "            self.update_widget(None)\n",
    "\n",
    "    def export_reference_image(self, change):\n",
    "        path = os.path.splitext(self._reference_image_path)[0]\n",
    "\n",
    "        colour.write_image(\n",
    "            self.working_space_to_reference_space(\n",
    "                self._reference_image_mapped), '{0}_{1}.exr'.format(\n",
    "                    path, self.__class__.__name__))\n",
    "\n",
    "    def save_figure(self, change):\n",
    "        path = os.path.splitext(self._reference_image_path)[0]\n",
    "        plt.savefig('{0}_{1}.png'.format(path, self.__class__.__name__),\n",
    "                   facecolor=[2 / 3 / 10] * 3, transparent=False, bbox_inches='tight')\n",
    "\n",
    "    def reset_exposure(self, change):\n",
    "        self._exposure_FloatSlider.value = 0\n",
    "        \n",
    "        self.set_exposure(0)\n",
    "\n",
    "    def set_exposure(self, change):\n",
    "        if not change:\n",
    "            return\n",
    "\n",
    "        if change['name'] == 'value':\n",
    "            EV = self._exposure_FloatSlider.value\n",
    "            self._reference_image_working = adjust_exposure(\n",
    "                self._reference_image_pre_working, EV)\n",
    "\n",
    "            if self._enable_chromaticity_diagram:\n",
    "                self._decimated_image_working = adjust_exposure(\n",
    "                self._decimated_image_pre_working, EV)\n",
    "            \n",
    "            self.update_widget(None)\n",
    "\n",
    "    def update_widget(self, change):\n",
    "        if not self._enable:\n",
    "            self._reference_image_imshow.set_data(self.working_space_to_display_space(\n",
    "                self._reference_image_working))\n",
    "        \n",
    "            if self._enable_chromaticity_diagram:\n",
    "                self.update_scatter_plot(self._decimated_image_working)\n",
    "\n",
    "            self._figure.canvas.draw_idle()\n",
    "\n",
    "\n",
    "GamutMedicinaBaseWidget()"
   ]
  },
  {
   "cell_type": "code",
   "execution_count": 7,
   "metadata": {},
   "outputs": [
    {
     "data": {
      "application/vnd.jupyter.widget-view+json": {
       "model_id": "84ae1e7388894352b5da0e94a140da59",
       "version_major": 2,
       "version_minor": 0
      },
      "text/plain": [
       "GamutMedicinaBaseWidget(children=(Output(layout=Layout(border='solid 4px #222', margin='4px', padding='0')), T…"
      ]
     },
     "metadata": {},
     "output_type": "display_data"
    }
   ],
   "source": [
    "GamutMedicinaBaseWidget(enable_colour_wheel=False)"
   ]
  },
  {
   "cell_type": "code",
   "execution_count": 8,
   "metadata": {},
   "outputs": [
    {
     "data": {
      "application/vnd.jupyter.widget-view+json": {
       "model_id": "f7541c8095f448489afad9cd76049de2",
       "version_major": 2,
       "version_minor": 0
      },
      "text/plain": [
       "GamutMedicinaBaseWidget(children=(Output(layout=Layout(border='solid 4px #222', margin='4px', padding='0')), T…"
      ]
     },
     "metadata": {},
     "output_type": "display_data"
    }
   ],
   "source": [
    "GamutMedicinaBaseWidget(enable_chromaticity_diagram=False)"
   ]
  },
  {
   "cell_type": "code",
   "execution_count": 9,
   "metadata": {},
   "outputs": [
    {
     "data": {
      "application/vnd.jupyter.widget-view+json": {
       "model_id": "850151e2665941ad8a697a9ae9ffa790",
       "version_major": 2,
       "version_minor": 0
      },
      "text/plain": [
       "GamutMedicinaBaseWidget(children=(Output(layout=Layout(border='solid 4px #222', margin='4px', padding='0')), T…"
      ]
     },
     "metadata": {},
     "output_type": "display_data"
    }
   ],
   "source": [
    "GamutMedicinaBaseWidget(\n",
    "    enable_colour_wheel=False, enable_chromaticity_diagram=False)"
   ]
  },
  {
   "cell_type": "markdown",
   "metadata": {},
   "source": [
    "## Compression & Blending Functions"
   ]
  },
  {
   "cell_type": "markdown",
   "metadata": {},
   "source": [
    "Gamut mapping commonly involves compressing data from a larger space to a smaller space.\n",
    "\n",
    "Three sigmoid compression functions are defined:\n",
    "\n",
    "- **tanh**, a function based on the *Hyperbolic Tangent*:\n",
    "$$a + b \\cdot tanh\\bigg(\\cfrac{x - a}{b}\\bigg)$$ where $a$ is the compression threshold, i.e. the point at which the function starts compressing the value $x$ and $b$ is the compression limit, i.e. the point at which the compression has reached its limit.\n",
    "- **atan**, a function based on the *Arc Tangent*:\n",
    "$$a + b \\cdot\\cfrac{2}{\\pi}\\cdot atan\\Bigg(\\cfrac{\\cfrac{\\pi}{2}\\cdot\\big(x - a\\big)}{b}\\Bigg)$$\n",
    "- **Simple**, a simple compression function:\n",
    "$$a + \\Bigg(\\cfrac{-1}{\\bigg(\\cfrac{x - a}{b} + 1\\bigg)} + 1 \\Bigg) \\cdot b$$"
   ]
  },
  {
   "cell_type": "code",
   "execution_count": 10,
   "metadata": {},
   "outputs": [],
   "source": [
    "def tanh_compression_function(x, a=0.8, b=1 - 0.8):\n",
    "    x = colour.utilities.as_float_array(x)\n",
    "\n",
    "    return np.where(x > a, a + b * np.tanh((x - a) / b), x)\n",
    "\n",
    "\n",
    "def atan_compression_function(x, a=0.8, b=1 - 0.8):\n",
    "    x = colour.utilities.as_float_array(x)\n",
    "\n",
    "    return np.where(x > a, a + b * 2 / np.pi * np.arctan(((np.pi / 2) * (x - a)) / b), x)\n",
    "\n",
    "\n",
    "def simple_compression_function(x, a=0.8, b=1 - 0.8):\n",
    "    x = colour.utilities.as_float_array(x)\n",
    "\n",
    "    return np.where(x > a, a + (-1 / ((x - a) / b + 1) + 1) * b, x)\n",
    "\n",
    "\n",
    "COMPRESSION_FUNCTIONS = {\n",
    "    'tanh' : tanh_compression_function,\n",
    "    'atan' : atan_compression_function,\n",
    "    'simple' : simple_compression_function,\n",
    "}\n",
    "\n",
    "\n",
    "def smoothstep(x, a=0, b=1):\n",
    "    i = np.clip((x - a) / (b - a), 0, 1)\n",
    "\n",
    "    return i**2 * (3 - 2 * i)\n",
    "\n",
    "\n",
    "def derivative(x, func, d=1e-7):\n",
    "    return (func(x + d) - func(x - d)) / (2 * d)"
   ]
  },
  {
   "cell_type": "code",
   "execution_count": 11,
   "metadata": {},
   "outputs": [
    {
     "data": {
      "application/vnd.jupyter.widget-view+json": {
       "model_id": "1ed565e1208a484097a832e3e6bf5120",
       "version_major": 2,
       "version_minor": 0
      },
      "text/plain": [
       "Canvas(toolbar=Toolbar(toolitems=[('Home', 'Reset original view', 'home', 'home'), ('Back', 'Back to previous …"
      ]
     },
     "metadata": {},
     "output_type": "display_data"
    }
   ],
   "source": [
    "colour.plotting.plot_multi_functions(\n",
    "    {\n",
    "        'tanh': tanh_compression_function,\n",
    "        'd/dx(tanh)': lambda x: derivative(x, tanh_compression_function),\n",
    "        'atan': atan_compression_function,\n",
    "        'd/dx(atan)': lambda x: derivative(x, atan_compression_function),\n",
    "        'simple': simple_compression_function,\n",
    "        'd/dx(simple)': lambda x: derivative(x, simple_compression_function),\n",
    "    },\n",
    "    **{\n",
    "        'figure.figsize': (11, 11),\n",
    "        'bounding_box': (0.5, 1.75, 0, 1.25),\n",
    "        'samples':\n",
    "        np.linspace(0, 2, 1000),\n",
    "        'plot_kwargs': [\n",
    "            {\n",
    "                'c': 'r',\n",
    "                'linestyle': 'dashdot'\n",
    "            },\n",
    "            {\n",
    "                'c': 'r'\n",
    "            },\n",
    "            {\n",
    "                'c': 'g',\n",
    "                'linestyle': 'dashdot'\n",
    "            },\n",
    "            {\n",
    "                'c': 'g'\n",
    "            },\n",
    "            {\n",
    "                'c': 'b',\n",
    "                'linestyle': 'dashdot'\n",
    "            },\n",
    "            {\n",
    "                'c': 'b'\n",
    "            },\n",
    "        ]\n",
    "    },\n",
    ");"
   ]
  },
  {
   "cell_type": "markdown",
   "metadata": {},
   "source": [
    "## Mansencal and Scharfenberg (2020) - HSV Control Based Study Model"
   ]
  },
  {
   "cell_type": "markdown",
   "metadata": {},
   "source": [
    "*Mansencal and Scharfenberg (2020)* gamut mapping study model is built on top of the [HSV colourspace](https://en.wikipedia.org/wiki/HSL_and_HSV):\n",
    "\n",
    "- Scene-referred RGB exposure values are converted to HSV.\n",
    "- The saturation component $S$ is compressed with a cherry-picked compression function, e.g. $tanh$.\n",
    "- The hue component $H$ is warped according to user defined control values.\n",
    "- The HSV values are converted back to scene-referred RGB exposure values and then blended with the original scene-referred RGB exposure values function through a smoothstep function.\n",
    "\n",
    "The model offers good controls but might tend to exhibit excessive saturation of secondary colours, i.e. cyan, yellow and especially magenta.\n",
    "This can be tuned with the hue controls.\n",
    "\n",
    "More information is available on [ACEScentral](https://community.acescentral.com/t/gamut-mapping-in-cylindrical-and-conic-spaces/)."
   ]
  },
  {
   "cell_type": "code",
   "execution_count": 12,
   "metadata": {},
   "outputs": [
    {
     "data": {
      "application/vnd.jupyter.widget-view+json": {
       "model_id": "3d9dbf6f95594f70b93dd0ca69f1819a",
       "version_major": 2,
       "version_minor": 0
      },
      "text/plain": [
       "GamutMedicinaHSVControlWidget(children=(Output(layout=Layout(border='solid 4px #222', margin='4px', padding='0…"
      ]
     },
     "metadata": {},
     "output_type": "display_data"
    }
   ],
   "source": [
    "def medicina_HSV_control(RGB, H, S, V, H_x, H_y, S_c, S_m, C_f, HSV_to_RGB):\n",
    "    S_m = S_m[..., np.newaxis]\n",
    "\n",
    "    interpolator = scipy.interpolate.interp1d(H_x, H_y)\n",
    "\n",
    "    HSV_c = colour.utilities.tstack(\n",
    "        [interpolator(H) % 1, C_f(S, S_c, 1 - S_c), V])\n",
    "\n",
    "    return HSV_to_RGB(HSV_c) * S_m + RGB * (1 - S_m)\n",
    "\n",
    "\n",
    "class GamutMedicinaHSVControlWidget(GamutMedicinaBaseWidget):\n",
    "    def __init__(self,\n",
    "                 reference_image=None,\n",
    "                 hue_wedge=45,\n",
    "                 protected_area_threshold=0.7,\n",
    "                 compression_threshold=0.8,\n",
    "                 compression_function='tanh',\n",
    "                 RGB_to_HSV=colour.RGB_to_HSV,\n",
    "                 HSV_to_RGB=colour.HSV_to_RGB,\n",
    "                 *args,\n",
    "                 **kwargs):\n",
    "\n",
    "        self._hue_wedge = hue_wedge\n",
    "        self._protected_area_threshold = protected_area_threshold\n",
    "        self._compression_threshold = compression_threshold\n",
    "        self._compression_function = compression_function\n",
    "\n",
    "        self.RGB_to_HSV = RGB_to_HSV\n",
    "        self.HSV_to_RGB = HSV_to_RGB\n",
    "\n",
    "        super().__init__(reference_image, *args, **kwargs)\n",
    "\n",
    "        self._RGB_r = None\n",
    "        self._H_r = self._S_r = self._V_r = None\n",
    "        self._S_r_m = None\n",
    "\n",
    "        if self._enable_colour_wheel:\n",
    "            self._RGB_w = None\n",
    "            self._H_w = self._S_w = self._V_w = None\n",
    "            self._S_w_m = None\n",
    "\n",
    "        if self._enable_chromaticity_diagram:\n",
    "            self._RGB_d = None\n",
    "            self._H_d = self._S_d = self._V_d = None\n",
    "            self._S_d_m = None\n",
    "\n",
    "        self._angles = None\n",
    "        self._x_i = self._y_i = self._y_i = None\n",
    "\n",
    "        if self._enable_colour_wheel:\n",
    "            self._protected_area_threshold_colour_wheel_plot = None\n",
    "            self._compression_threshold_colour_wheel_plot = None\n",
    "            self._hue_controls_plot = None\n",
    "\n",
    "        if self._enable_chromaticity_diagram:\n",
    "            self._protected_area_threshold_chromaticity_diagram_plot = None\n",
    "            self._compression_threshold_chromaticity_diagram_plot = None\n",
    "\n",
    "        self._reset_protected_area_controls_Button = None\n",
    "        self._protected_area_threshold_FloatSlider = None\n",
    "        self._reset_compression_controls_Button = None\n",
    "        self._compression_threshold_FloatSlider = None\n",
    "        self._reset_hue_controls_Button = None\n",
    "        self._wedge_controls = None\n",
    "        self._protected_area_controls_HBox = None\n",
    "        self._saturation_controls_HBox = None\n",
    "        self._hue_controls_HBox = None\n",
    "\n",
    "        self.initialize_data()\n",
    "        self.initialize_axes()\n",
    "        self.initialise_widgets()\n",
    "        self.attach_callbacks()\n",
    "\n",
    "        self.update_widget(None)\n",
    "\n",
    "    def initialize_data(self):\n",
    "        super().initialize_data()\n",
    "\n",
    "        # *** Reference Image ***\n",
    "        self._RGB_r = self._reference_image_working\n",
    "        self._H_r, self._S_r, self._V_r = colour.utilities.tsplit(\n",
    "            self.RGB_to_HSV(self._reference_image_working))\n",
    "        self._S_r_m = smoothstep(self._S_r, self._protected_area_threshold,\n",
    "                                 self._compression_threshold)\n",
    "\n",
    "        # *** Colour Wheel ***\n",
    "        if self._enable_colour_wheel:\n",
    "            self._RGB_w = self._colour_wheel[..., 0:3]\n",
    "            self._H_w, self._S_w, self._V_w = colour.utilities.tsplit(\n",
    "                self.RGB_to_HSV(self._RGB_w))\n",
    "            self._S_w_m = smoothstep(self._S_w, self._protected_area_threshold,\n",
    "                                     self._compression_threshold)\n",
    "\n",
    "        # *** Decimated Image, i.e. Scatter ***\n",
    "        if self._enable_chromaticity_diagram:\n",
    "            self._RGB_d = self._decimated_image_working\n",
    "            self._H_d, self._S_d, self._V_d = colour.utilities.tsplit(\n",
    "                self.RGB_to_HSV(self._decimated_image_working))\n",
    "            self._S_d_m = smoothstep(self._S_d, self._protected_area_threshold,\n",
    "                                     self._compression_threshold)\n",
    "\n",
    "        # *** Angles ***\n",
    "        self._angles = np.arange(0, 360, self._hue_wedge) / 360\n",
    "\n",
    "        # *** Initial State ***\n",
    "        self._x_i = np.hstack([self._angles, 1])\n",
    "        self._y_i = self._angles\n",
    "        self._y_i = np.hstack([self._y_i, self._y_i[0] + 1])\n",
    "\n",
    "    def initialize_axes(self):\n",
    "        super().initialize_axes()\n",
    "\n",
    "        circumference = np.linspace(0, np.pi * 2, self._colour_wheel_samples)\n",
    "        # Colour Wheel Axes\n",
    "        if self._enable_colour_wheel:\n",
    "            self._protected_area_threshold_colour_wheel_plot = (\n",
    "                self._colour_wheel_polar_axes.plot(\n",
    "                    circumference,\n",
    "                    np.full(self._colour_wheel_samples,\n",
    "                            self._protected_area_threshold),\n",
    "                    linestyle='dotted',\n",
    "                    color='yellow')[0])\n",
    "            self._compression_threshold_colour_wheel_plot = (\n",
    "                self._colour_wheel_polar_axes.plot(\n",
    "                    circumference,\n",
    "                    np.full(self._colour_wheel_samples,\n",
    "                            self._compression_threshold),\n",
    "                    linestyle='dashdot',\n",
    "                    color='cyan')[0])\n",
    "\n",
    "            self._hue_controls_plot = (self._colour_wheel_polar_axes.plot(\n",
    "                self._y_i * np.pi * 2,\n",
    "                np.ones(self._y_i.shape),\n",
    "                'o-',\n",
    "                color='white')[0])\n",
    "\n",
    "        # Chromaticity Diagram Axes\n",
    "        if self._enable_chromaticity_diagram:\n",
    "            self._protected_area_threshold_chromaticity_diagram_plot = (\n",
    "                self._chromaticity_diagram_axes.plot(\n",
    "                    circumference,\n",
    "                    circumference,\n",
    "                    linestyle='dotted',\n",
    "                    color='yellow')[0])\n",
    "            self._compression_threshold_chromaticity_diagram_plot = (\n",
    "                self._chromaticity_diagram_axes.plot(\n",
    "                    circumference,\n",
    "                    circumference,\n",
    "                    linestyle='dashdot',\n",
    "                    color='cyan')[0])\n",
    "\n",
    "    def initialise_widgets(self):\n",
    "        super().initialise_widgets()\n",
    "\n",
    "        # *** Widgets ***\n",
    "        self._reset_protected_area_controls_Button = (\n",
    "            ipywidgets.widgets.Button(description=\"Reset Protected Area\"))\n",
    "        self._protected_area_threshold_FloatSlider = (\n",
    "            ipywidgets.widgets.FloatSlider(\n",
    "                min=0.0,\n",
    "                max=1.0,\n",
    "                step=0.01,\n",
    "                value=self._protected_area_threshold,\n",
    "                description='Protected Area Threshold'))\n",
    "\n",
    "        self._reset_compression_controls_Button = (\n",
    "            ipywidgets.widgets.Button(description=\"Reset Saturation Controls\"))\n",
    "        compression_functions = list(COMPRESSION_FUNCTIONS.keys())\n",
    "        self._compression_function_DropDown = ipywidgets.widgets.Dropdown(\n",
    "            options=compression_functions,\n",
    "            value=self._compression_function,\n",
    "            description='Compression Function:',\n",
    "        )\n",
    "        self._compression_threshold_FloatSlider = (\n",
    "            ipywidgets.widgets.FloatSlider(\n",
    "                min=0.0,\n",
    "                max=1.0,\n",
    "                step=0.01,\n",
    "                value=self._compression_threshold,\n",
    "                description='Compression Threshold'))\n",
    "\n",
    "        self._reset_hue_controls_Button = ipywidgets.widgets.Button(\n",
    "            description=\"Reset Hue Controls\")\n",
    "        self._wedge_controls = [\n",
    "            ipywidgets.widgets.FloatSlider(\n",
    "                min=-1,\n",
    "                max=1,\n",
    "                step=0.01,\n",
    "                value=0,\n",
    "                description='{0}°'.format(int(angle * 360)))\n",
    "            for angle in self._angles\n",
    "        ]\n",
    "\n",
    "        # *** Layout ***\n",
    "        self._protected_area_controls_HBox = ipywidgets.widgets.HBox([\n",
    "            self._reset_protected_area_controls_Button,\n",
    "            self._protected_area_threshold_FloatSlider,\n",
    "        ])\n",
    "\n",
    "        self._saturation_controls_HBox = ipywidgets.widgets.HBox([\n",
    "            self._reset_compression_controls_Button,\n",
    "            self._compression_function_DropDown,\n",
    "            self._compression_threshold_FloatSlider\n",
    "        ])\n",
    "\n",
    "        wedge_controls_batches = batch(self._wedge_controls, 3)\n",
    "        self._hue_controls_HBox = ipywidgets.widgets.HBox(\n",
    "            [ipywidgets.widgets.VBox([self._reset_hue_controls_Button])] + [\n",
    "                ipywidgets.widgets.VBox(wedge_controls)\n",
    "                for wedge_controls in wedge_controls_batches\n",
    "            ])\n",
    "\n",
    "        self._controls_Tab.children += (\n",
    "            self._protected_area_controls_HBox,\n",
    "            self._saturation_controls_HBox,\n",
    "            self._hue_controls_HBox,\n",
    "        )\n",
    "\n",
    "        self._controls_Tab.set_title(1, 'Protected Area Controls')\n",
    "        self._controls_Tab.set_title(2, 'Saturation Controls')\n",
    "        self._controls_Tab.set_title(3, 'Hue Controls')\n",
    "\n",
    "    def attach_callbacks(self):\n",
    "        super().attach_callbacks()\n",
    "\n",
    "        self._reset_protected_area_controls_Button.on_click(\n",
    "            self.reset_protected_area_controls)\n",
    "        self._protected_area_threshold_FloatSlider.observe(\n",
    "            self.update_protected_area_mask, 'value')\n",
    "\n",
    "        self._reset_compression_controls_Button.on_click(\n",
    "            self.reset_compression_controls)\n",
    "        self._compression_function_DropDown.observe(self.update_widget,\n",
    "                                                    'value')\n",
    "        self._compression_threshold_FloatSlider.observe(\n",
    "            self.update_widget, 'value')\n",
    "\n",
    "        self._reset_hue_controls_Button.on_click(self.reset_hue_controls)\n",
    "        for slider in self._wedge_controls:\n",
    "            slider.observe(self.update_widget, 'value')\n",
    "\n",
    "    def set_exposure(self, change):\n",
    "        if not change:\n",
    "            return\n",
    "\n",
    "        if change['name'] == 'value':\n",
    "            EV = self._exposure_FloatSlider.value\n",
    "\n",
    "            self._RGB_r = adjust_exposure(self._reference_image_pre_working,\n",
    "                                          EV)\n",
    "            self._H_r, self._S_r, self._V_r = colour.utilities.tsplit(\n",
    "                self.RGB_to_HSV(self._RGB_r))\n",
    "\n",
    "            if self._enable_chromaticity_diagram:\n",
    "                self._RGB_d = adjust_exposure(\n",
    "                    self._decimated_image_pre_working, EV)\n",
    "                self._H_d, self._S_d, self._V_d = colour.utilities.tsplit(\n",
    "                    self.RGB_to_HSV(self._RGB_d))\n",
    "\n",
    "            self.update_protected_area_mask({'name': 'value'})\n",
    "\n",
    "    def update_region_colour_wheel_plot(self, V_r, region_colour_wheel_plot):\n",
    "        if self._enable_colour_wheel:\n",
    "            region_colour_wheel_plot.set_ydata(\n",
    "                np.full(self._colour_wheel_samples, V_r))\n",
    "\n",
    "    def update_protected_area_threshold_colour_wheel_plot(self, U_r):\n",
    "        if self._enable_colour_wheel:\n",
    "            self.update_region_colour_wheel_plot(\n",
    "                U_r, self._protected_area_threshold_colour_wheel_plot)\n",
    "\n",
    "    def update_compression_threshold_colour_wheel_plot(self, S_c):\n",
    "        if self._enable_colour_wheel:\n",
    "            self.update_region_colour_wheel_plot(\n",
    "                S_c, self._compression_threshold_colour_wheel_plot)\n",
    "\n",
    "    def update_region_chromaticity_diagram_plot(\n",
    "            self, V_r, region_chromaticity_diagram_plot):\n",
    "        if self._enable_chromaticity_diagram:\n",
    "            HSV = colour.utilities.tstack([\n",
    "                np.linspace(0, 1, self._colour_wheel_samples),\n",
    "                np.full(self._colour_wheel_samples, V_r),\n",
    "                np.ones(self._colour_wheel_samples)\n",
    "            ])\n",
    "            uv = colour.Luv_to_uv(\n",
    "                colour.XYZ_to_Luv(\n",
    "                    colour.RGB_to_XYZ(\n",
    "                        self.HSV_to_RGB(HSV), self._working_space.whitepoint,\n",
    "                        self._working_space.whitepoint,\n",
    "                        self._working_space.RGB_to_XYZ_matrix),\n",
    "                    self._working_space.whitepoint))\n",
    "\n",
    "            region_chromaticity_diagram_plot.set_data(uv[:, 0], uv[:, 1])\n",
    "\n",
    "    def update_protected_area_threshold_chromaticity_diagram_plot(self, U_r):\n",
    "        if self._enable_chromaticity_diagram:\n",
    "            self.update_region_chromaticity_diagram_plot(\n",
    "                U_r, self._protected_area_threshold_chromaticity_diagram_plot)\n",
    "\n",
    "    def update_compression_threshold_chromaticity_diagram_plot(self, S_c):\n",
    "        if self._enable_chromaticity_diagram:\n",
    "            self.update_region_chromaticity_diagram_plot(\n",
    "                S_c, self._compression_threshold_chromaticity_diagram_plot)\n",
    "\n",
    "    def update_protected_area_mask(self, change):\n",
    "        if not change:\n",
    "            return\n",
    "\n",
    "        if change['name'] == 'value':\n",
    "            U_r = self._protected_area_threshold_FloatSlider.value\n",
    "            S_c = self._compression_threshold_FloatSlider.value\n",
    "\n",
    "            self._S_d_m = smoothstep(self._S_d, U_r, S_c)\n",
    "\n",
    "            if self._enable_colour_wheel:\n",
    "                self._S_w_m = smoothstep(self._S_w, U_r, S_c)\n",
    "\n",
    "            if self._enable_chromaticity_diagram:\n",
    "                self._S_r_m = smoothstep(self._S_r, U_r, S_c)\n",
    "\n",
    "        self.update_widget(None)\n",
    "\n",
    "    def wedge_control_to_hue_offset(self, value):\n",
    "        slider = self._wedge_controls[0]\n",
    "\n",
    "        return colour.utilities.linear_conversion(\n",
    "            value, [slider.min, slider.max],\n",
    "            [-self._hue_wedge / 360, self._hue_wedge / 360])\n",
    "\n",
    "    def reset_protected_area_controls(self, change):\n",
    "        self._protected_area_threshold_FloatSlider.value = (\n",
    "            self._protected_area_threshold)\n",
    "\n",
    "        self.update_protected_area_mask(None)\n",
    "\n",
    "    def reset_compression_controls(self, change):\n",
    "        self._compression_threshold_FloatSlider.value = (\n",
    "            self._compression_threshold)\n",
    "\n",
    "        self.update_widget(None)\n",
    "\n",
    "    def reset_hue_controls(self, change):\n",
    "        for slider in self._wedge_controls:\n",
    "            slider.value = 0\n",
    "\n",
    "        self.update_widget(None)\n",
    "\n",
    "    def update_reference_image_axes(self, S_c, H_y, C_f):\n",
    "        RGB_r = medicina_HSV_control(self._RGB_r, self._H_r, self._S_r,\n",
    "                                     self._V_r, self._x_i, H_y, S_c,\n",
    "                                     self._S_r_m, C_f, self.HSV_to_RGB)\n",
    "        self._reference_image_mapped = RGB_r\n",
    "        self._reference_image_imshow.set_data(\n",
    "            self.working_space_to_display_space(RGB_r))\n",
    "\n",
    "    def update_colour_wheel_axes(self, U_r, S_c, H_y, H_o, C_f):\n",
    "        if self._enable_colour_wheel:\n",
    "            R_w, G_w, B_w = colour.utilities.tsplit(\n",
    "                medicina_HSV_control(self._RGB_w, self._H_w, self._S_w,\n",
    "                                     self._V_w, self._x_i, H_y, S_c,\n",
    "                                     self._S_w_m, C_f, self.HSV_to_RGB))\n",
    "            self._colour_wheel_imshow.set_data(\n",
    "                np.clip(\n",
    "                    colour.tstack([R_w, G_w, B_w,\n",
    "                                   self._colour_wheel[..., -1]]), 0, 1))\n",
    "            self.update_protected_area_threshold_colour_wheel_plot(U_r)\n",
    "            self.update_compression_threshold_colour_wheel_plot(S_c)\n",
    "\n",
    "            H_x = H_o + self._angles\n",
    "            H_x = np.hstack([H_x, H_x[0]])\n",
    "            self._hue_controls_plot.set_xdata(H_x * np.pi * 2)\n",
    "\n",
    "    def update_chromaticity_diagram_axes(self, U_r, S_c, H_y, C_f):\n",
    "        if self._enable_chromaticity_diagram:\n",
    "            RGB_r_s = medicina_HSV_control(self._RGB_d, self._H_d, self._S_d,\n",
    "                                           self._V_d, self._x_i, H_y, S_c,\n",
    "                                           self._S_d_m, C_f, self.HSV_to_RGB)\n",
    "            self.update_scatter_plot(RGB_r_s)\n",
    "            self.update_protected_area_threshold_chromaticity_diagram_plot(U_r)\n",
    "            self.update_compression_threshold_chromaticity_diagram_plot(S_c)\n",
    "\n",
    "    def update_widget(self, change):\n",
    "        super().update_widget(change)\n",
    "\n",
    "        if self._enable:\n",
    "            U_r = self._protected_area_threshold_FloatSlider.value\n",
    "            S_c = self._compression_threshold_FloatSlider.value\n",
    "            C_f = COMPRESSION_FUNCTIONS[\n",
    "                self._compression_function_DropDown.value]\n",
    "\n",
    "            hue_offsets = np.array([\n",
    "                self.wedge_control_to_hue_offset(slider.value)\n",
    "                for slider in self._wedge_controls\n",
    "            ])\n",
    "\n",
    "            H_y = -hue_offsets + self._angles\n",
    "            H_y = np.hstack([H_y, H_y[0] + 1])\n",
    "\n",
    "            self.update_reference_image_axes(S_c, H_y, C_f)\n",
    "\n",
    "            if self._enable_colour_wheel:\n",
    "                self.update_colour_wheel_axes(U_r, S_c, H_y, hue_offsets, C_f)\n",
    "\n",
    "            if self._enable_chromaticity_diagram:\n",
    "                self.update_chromaticity_diagram_axes(U_r, S_c, H_y, C_f)\n",
    "\n",
    "            self._figure.canvas.draw_idle()\n",
    "\n",
    "\n",
    "GamutMedicinaHSVControlWidget(\n",
    "    '../resources/images/A009C002_190210_R0EI_Alexa_LogCWideGamut.exr')"
   ]
  },
  {
   "cell_type": "code",
   "execution_count": 13,
   "metadata": {},
   "outputs": [
    {
     "data": {
      "application/vnd.jupyter.widget-view+json": {
       "model_id": "752468ecce25480a852cc6c86cbda5b2",
       "version_major": 2,
       "version_minor": 0
      },
      "text/plain": [
       "GamutMedicinaHSVControlWidget(children=(Output(layout=Layout(border='solid 4px #222', margin='4px', padding='0…"
      ]
     },
     "metadata": {},
     "output_type": "display_data"
    }
   ],
   "source": [
    "GamutMedicinaHSVControlWidget('../resources/images/A002_C029_06025K.exr')"
   ]
  },
  {
   "cell_type": "code",
   "execution_count": 14,
   "metadata": {},
   "outputs": [
    {
     "data": {
      "application/vnd.jupyter.widget-view+json": {
       "model_id": "f8e06bec0d244d00941eca771d7e01bd",
       "version_major": 2,
       "version_minor": 0
      },
      "text/plain": [
       "GamutMedicinaHSVControlWidget(children=(Output(layout=Layout(border='solid 4px #222', margin='4px', padding='0…"
      ]
     },
     "metadata": {},
     "output_type": "display_data"
    }
   ],
   "source": [
    "GamutMedicinaHSVControlWidget(\n",
    "    '../resources/images/Cornell_Box_Rigid_Spheres_190_Patch_Roughplastic_Point_Grey_Grasshopper_50S5C_RGB_W_A.exr')"
   ]
  },
  {
   "cell_type": "code",
   "execution_count": 15,
   "metadata": {},
   "outputs": [
    {
     "data": {
      "application/vnd.jupyter.widget-view+json": {
       "model_id": "a6740d7c5fc14f979fc74a132519e606",
       "version_major": 2,
       "version_minor": 0
      },
      "text/plain": [
       "GamutMedicinaHSVControlWidget(children=(Output(layout=Layout(border='solid 4px #222', margin='4px', padding='0…"
      ]
     },
     "metadata": {},
     "output_type": "display_data"
    }
   ],
   "source": [
    "GamutMedicinaHSVControlWidget(\n",
    "    '../resources/images/Cornell_Box_Rigid_Spheres_190_Patch_Roughplastic_Point_Grey_Grasshopper_50S5C_RGB_W_A.exr',\n",
    "    enable_colour_wheel=False)"
   ]
  },
  {
   "cell_type": "code",
   "execution_count": 16,
   "metadata": {},
   "outputs": [
    {
     "data": {
      "application/vnd.jupyter.widget-view+json": {
       "model_id": "b644db1f03b24275bf6ef9c5f9986a8c",
       "version_major": 2,
       "version_minor": 0
      },
      "text/plain": [
       "GamutMedicinaHSVControlWidget(children=(Output(layout=Layout(border='solid 4px #222', margin='4px', padding='0…"
      ]
     },
     "metadata": {},
     "output_type": "display_data"
    }
   ],
   "source": [
    "GamutMedicinaHSVControlWidget(\n",
    "    '../resources/images/Collage_01.exr',\n",
    "    enable_colour_wheel=False)"
   ]
  },
  {
   "cell_type": "markdown",
   "metadata": {},
   "source": [
    "## Smith (2020) - RGB Saturation Study Model"
   ]
  },
  {
   "cell_type": "markdown",
   "metadata": {},
   "source": [
    "*Smith (2020)* gamut mapping study model is directly operating in the RGB colourspace:\n",
    "\n",
    "- Like with the HSV colourspace, an achromatic axis is computed for the scene-referred RGB exposure values.\n",
    "- The distance from the individual $R$, $G$ and $B$ components to the achromatic axis is compressed with a cherry-picked compression function, e.g. $tanh$.\n",
    "\n",
    "The model is extremely simple and elegant while offering good computational speed.\n",
    "\n",
    "More information is available on [ACEScentral](https://community.acescentral.com/t/rgb-saturation-gamut-mapping-approach-and-a-comp-vfx-perspective/)."
   ]
  },
  {
   "cell_type": "code",
   "execution_count": 17,
   "metadata": {},
   "outputs": [
    {
     "data": {
      "application/vnd.jupyter.widget-view+json": {
       "model_id": "fdbf388514f34241abce5622a8a1192a",
       "version_major": 2,
       "version_minor": 0
      },
      "text/plain": [
       "GamutMedicinaRGBSaturationWidget(children=(Output(layout=Layout(border='solid 4px #222', margin='4px', padding…"
      ]
     },
     "metadata": {},
     "output_type": "display_data"
    }
   ],
   "source": [
    "def medicina_RGB_saturation(RGB, C_t, C_f):\n",
    "    C_t = 1 - C_t\n",
    "\n",
    "    L = np.max(RGB, axis=-1)[..., np.newaxis]\n",
    "\n",
    "    D = np.abs(RGB - L) / L\n",
    "\n",
    "    D_c = C_f(D, C_t, 1 - C_t)\n",
    "\n",
    "    RGB_c = L - D_c * L\n",
    "\n",
    "    return RGB_c\n",
    "\n",
    "\n",
    "class GamutMedicinaRGBSaturationWidget(GamutMedicinaBaseWidget):\n",
    "    def __init__(self,\n",
    "                 reference_image=None,\n",
    "                 compression_threshold=0.8,\n",
    "                 compression_function='tanh',\n",
    "                 *args,\n",
    "                 **kwargs):\n",
    "        self._compression_threshold = compression_threshold\n",
    "        self._compression_function = compression_function\n",
    "\n",
    "        kwargs['enable_colour_wheel'] = False\n",
    "\n",
    "        super().__init__(reference_image, *args, **kwargs)\n",
    "\n",
    "        self._RGB_w = None\n",
    "        self._RGB_r = None\n",
    "        self._RGB_d = None\n",
    "\n",
    "        self._compression_threshold_chromaticity_diagram_plot = None\n",
    "\n",
    "        self._reset_compression_controls_Button = None\n",
    "        self._compression_threshold_FloatSlider = None\n",
    "\n",
    "        self.initialize_data()\n",
    "        self.initialize_axes()\n",
    "        self.initialise_widgets()\n",
    "        self.attach_callbacks()\n",
    "\n",
    "        self.update_widget(None)\n",
    "\n",
    "    def initialize_data(self):\n",
    "        super().initialize_data()\n",
    "\n",
    "    def initialize_axes(self):\n",
    "        super().initialize_axes()\n",
    "\n",
    "    def initialise_widgets(self):\n",
    "        super().initialise_widgets()\n",
    "\n",
    "        # *** Widgets ***\n",
    "        self._reset_compression_controls_Button = (\n",
    "            ipywidgets.widgets.Button(\n",
    "                description=\"Reset Compression Controls\"))\n",
    "        compression_functions = list(COMPRESSION_FUNCTIONS.keys())\n",
    "        self._compression_function_DropDown = ipywidgets.widgets.Dropdown(\n",
    "            options=compression_functions,\n",
    "            value=self._compression_function,\n",
    "            description='Compression Function:',\n",
    "        )\n",
    "        self._compression_threshold_FloatSlider = (\n",
    "            ipywidgets.widgets.FloatSlider(\n",
    "                min=0.0,\n",
    "                max=1.0,\n",
    "                step=0.01,\n",
    "                value=self._compression_threshold,\n",
    "                description='Compression Threshold'))\n",
    "\n",
    "        # *** Layout ***\n",
    "        self._compression_controls_HBox = ipywidgets.widgets.HBox([\n",
    "            self._reset_compression_controls_Button,\n",
    "            self._compression_function_DropDown,\n",
    "            self._compression_threshold_FloatSlider,\n",
    "        ])\n",
    "\n",
    "        self._controls_Tab.children += (\n",
    "            self._compression_controls_HBox,\n",
    "        )\n",
    "\n",
    "        self._controls_Tab.set_title(1, 'Compression Controls')\n",
    "\n",
    "    def attach_callbacks(self):\n",
    "        super().attach_callbacks()\n",
    "\n",
    "        self._reset_compression_controls_Button.on_click(\n",
    "            self.reset_compression_controls)\n",
    "        self._compression_function_DropDown.observe(self.update_widget,\n",
    "                                                    'value')\n",
    "        self._compression_threshold_FloatSlider.observe(\n",
    "            self.update_widget, 'value')\n",
    "\n",
    "    def reset_compression_controls(self, change):\n",
    "        self._compression_threshold_FloatSlider.value = (\n",
    "            self._compression_threshold)\n",
    "\n",
    "        self.update_widget(None)\n",
    "\n",
    "    def update_reference_image_axes(self, C_t, C_f):\n",
    "        RGB_r = medicina_RGB_saturation(self._reference_image_working, C_t, C_f)\n",
    "        self._reference_image_mapped = RGB_r\n",
    "        self._reference_image_imshow.set_data(\n",
    "            self.working_space_to_display_space(RGB_r))\n",
    "\n",
    "    def update_chromaticity_diagram_axes(self, C_t, C_f):\n",
    "        RGB_r_s = medicina_RGB_saturation(self._decimated_image_working, C_t, C_f)\n",
    "        self.update_scatter_plot(RGB_r_s)\n",
    "\n",
    "    def update_widget(self, change):\n",
    "        super().update_widget(change)\n",
    "\n",
    "        if self._enable:\n",
    "            C_t = 1 - self._compression_threshold_FloatSlider.value\n",
    "            C_f = COMPRESSION_FUNCTIONS[\n",
    "                self._compression_function_DropDown.value]\n",
    "\n",
    "            self.update_reference_image_axes(C_t, C_f)\n",
    "            self.update_chromaticity_diagram_axes(C_t, C_f)\n",
    "\n",
    "            self._figure.canvas.draw_idle()\n",
    "\n",
    "\n",
    "GamutMedicinaRGBSaturationWidget(\n",
    "    '../resources/images/A009C002_190210_R0EI_Alexa_LogCWideGamut.exr')"
   ]
  },
  {
   "cell_type": "code",
   "execution_count": 18,
   "metadata": {},
   "outputs": [
    {
     "data": {
      "application/vnd.jupyter.widget-view+json": {
       "model_id": "279a6c543310479fb11a858c12960f18",
       "version_major": 2,
       "version_minor": 0
      },
      "text/plain": [
       "GamutMedicinaHSVControlWidget(children=(Output(layout=Layout(border='solid 4px #222', margin='4px', padding='0…"
      ]
     },
     "metadata": {},
     "output_type": "display_data"
    }
   ],
   "source": [
    "GamutMedicinaHSVControlWidget(\n",
    "    '../resources/images/A009C002_190210_R0EI_Alexa_LogCWideGamut.exr',\n",
    "    enable_colour_wheel=False)"
   ]
  },
  {
   "cell_type": "code",
   "execution_count": 19,
   "metadata": {},
   "outputs": [
    {
     "data": {
      "application/vnd.jupyter.widget-view+json": {
       "model_id": "0ca43a6624d9437ea85e10832df34e25",
       "version_major": 2,
       "version_minor": 0
      },
      "text/plain": [
       "GamutMedicinaRGBSaturationWidget(children=(Output(layout=Layout(border='solid 4px #222', margin='4px', padding…"
      ]
     },
     "metadata": {},
     "output_type": "display_data"
    }
   ],
   "source": [
    "GamutMedicinaRGBSaturationWidget(\n",
    "    '../resources/images/Cornell_Box_Rigid_Spheres_190_Patch_Roughplastic_Point_Grey_Grasshopper_50S5C_RGB_W_A.exr')"
   ]
  },
  {
   "cell_type": "code",
   "execution_count": 20,
   "metadata": {},
   "outputs": [
    {
     "data": {
      "application/vnd.jupyter.widget-view+json": {
       "model_id": "3c6cf04ef87c4f7daa40ce5145621198",
       "version_major": 2,
       "version_minor": 0
      },
      "text/plain": [
       "GamutMedicinaRGBSaturationWidget(children=(Output(layout=Layout(border='solid 4px #222', margin='4px', padding…"
      ]
     },
     "metadata": {},
     "output_type": "display_data"
    }
   ],
   "source": [
    "GamutMedicinaRGBSaturationWidget(\n",
    "    '../resources/images/Collage_01.exr')"
   ]
  },
  {
   "cell_type": "markdown",
   "metadata": {},
   "source": [
    "## Compared Model Distortions"
   ]
  },
  {
   "cell_type": "markdown",
   "metadata": {},
   "source": [
    "Various model distortions comparisons."
   ]
  },
  {
   "cell_type": "code",
   "execution_count": 21,
   "metadata": {},
   "outputs": [],
   "source": [
    "colour.write_image(\n",
    "    colour_wheel(clip_circle=False)[..., 0:3],\n",
    "    '../resources/images/Colour_Wheel.exr')"
   ]
  },
  {
   "cell_type": "code",
   "execution_count": 22,
   "metadata": {},
   "outputs": [
    {
     "data": {
      "application/vnd.jupyter.widget-view+json": {
       "model_id": "f6a6db27876f4ef28e9704a7f6d01f99",
       "version_major": 2,
       "version_minor": 0
      },
      "text/plain": [
       "GamutMedicinaHSVControlWidget(children=(Output(layout=Layout(border='solid 4px #222', margin='4px', padding='0…"
      ]
     },
     "metadata": {},
     "output_type": "display_data"
    }
   ],
   "source": [
    "GamutMedicinaHSVControlWidget(\n",
    "    '../resources/images/Colour_Wheel.exr',\n",
    "    image_decimation=20,\n",
    "    protected_area_threshold=0.5,\n",
    "    compression_threshold=0.5,\n",
    "    enable_colour_wheel=False)"
   ]
  },
  {
   "cell_type": "code",
   "execution_count": 23,
   "metadata": {},
   "outputs": [
    {
     "data": {
      "application/vnd.jupyter.widget-view+json": {
       "model_id": "1633fca444ca400498e7cca2f82217e9",
       "version_major": 2,
       "version_minor": 0
      },
      "text/plain": [
       "GamutMedicinaRGBSaturationWidget(children=(Output(layout=Layout(border='solid 4px #222', margin='4px', padding…"
      ]
     },
     "metadata": {},
     "output_type": "display_data"
    }
   ],
   "source": [
    "GamutMedicinaRGBSaturationWidget(\n",
    "    '../resources/images/Colour_Wheel.exr',\n",
    "    image_decimation=20,\n",
    "    compression_threshold=0.5)"
   ]
  }
 ],
 "metadata": {
  "colab": {
   "collapsed_sections": [],
   "name": "gamut_mapping_ramblings_01",
   "provenance": []
  },
  "kernelspec": {
   "display_name": "Python 3",
   "language": "python",
   "name": "python3"
  },
  "language_info": {
   "codemirror_mode": {
    "name": "ipython",
    "version": 3
   },
   "file_extension": ".py",
   "mimetype": "text/x-python",
   "name": "python",
   "nbconvert_exporter": "python",
   "pygments_lexer": "ipython3",
   "version": "3.7.6"
  },
  "widgets": {
   "application/vnd.jupyter.widget-state+json": {
    "state": {
     "0072adfc4c6345b396281a1f10c45855": {
      "model_module": "@jupyter-widgets/controls",
      "model_module_version": "1.5.0",
      "model_name": "FloatSliderModel",
      "state": {
       "description": "0°",
       "layout": "IPY_MODEL_fef0535dfd7d4c38a32d80b65f0efbf5",
       "max": 1,
       "min": -1,
       "step": 0.01,
       "style": "IPY_MODEL_46e094acd1584f6faf28d32c261d8329"
      }
     },
     "00d53661abf948d58fa805c7314feb65": {
      "model_module": "@jupyter-widgets/controls",
      "model_module_version": "1.5.0",
      "model_name": "FloatSliderModel",
      "state": {
       "description": "315°",
       "layout": "IPY_MODEL_0dd0295750fe47f78d4c97f7f55503e0",
       "max": 1,
       "min": -1,
       "step": 0.01,
       "style": "IPY_MODEL_9b31f003393444a0bf449b7c23df117f"
      }
     },
     "00d78db5f91847bba28c8bb8b249268d": {
      "model_module": "@jupyter-widgets/base",
      "model_module_version": "1.2.0",
      "model_name": "LayoutModel",
      "state": {}
     },
     "00e8fee2aae54040b7ef32fe49b329b4": {
      "model_module": "@jupyter-widgets/base",
      "model_module_version": "1.2.0",
      "model_name": "LayoutModel",
      "state": {}
     },
     "00fd5b03caf14c0c9a784d2718671c6c": {
      "model_module": "@jupyter-widgets/base",
      "model_module_version": "1.2.0",
      "model_name": "LayoutModel",
      "state": {}
     },
     "010b102d96c64e7fbbeda2097b5b96ec": {
      "model_module": "@jupyter-widgets/controls",
      "model_module_version": "1.5.0",
      "model_name": "FloatSliderModel",
      "state": {
       "description": "Protected Area Threshold",
       "layout": "IPY_MODEL_cca41632064241e7a5d3d140fe04dd68",
       "max": 1,
       "step": 0.01,
       "style": "IPY_MODEL_fd023b5398ea4b86aa904e2c8742e54a",
       "value": 0.7
      }
     },
     "0138bbb0f8ab48ba84ed60cb595b4416": {
      "model_module": "@jupyter-widgets/base",
      "model_module_version": "1.2.0",
      "model_name": "LayoutModel",
      "state": {}
     },
     "015779fcc328401d899e84f7e10b0799": {
      "model_module": "@jupyter-widgets/base",
      "model_module_version": "1.2.0",
      "model_name": "LayoutModel",
      "state": {}
     },
     "016b045ae3db4875864e510f288b5ff8": {
      "model_module": "@jupyter-widgets/controls",
      "model_module_version": "1.5.0",
      "model_name": "ButtonModel",
      "state": {
       "description": "Reset Exposure",
       "layout": "IPY_MODEL_6126e42919424397a6262411fe9797ab",
       "style": "IPY_MODEL_ebd5c50a58bb428889be508dfadb2aad"
      }
     },
     "016ceba6429c48beaaab5422caee120f": {
      "model_module": "@jupyter-widgets/controls",
      "model_module_version": "1.5.0",
      "model_name": "TabModel",
      "state": {
       "_titles": {
        "0": "Global Controls",
        "1": "Protected Area Controls",
        "2": "Saturation Controls",
        "3": "Hue Controls"
       },
       "children": [
        "IPY_MODEL_cbc563cc2d454f2489b98710c406d1aa",
        "IPY_MODEL_13af647ee3f0401b890d63b991ceaf7c",
        "IPY_MODEL_6a809da11ef04f82a01df4b251e30695",
        "IPY_MODEL_a93b2315cc734fb3b3df39beef2b062f"
       ],
       "layout": "IPY_MODEL_433a3655cdec4101bc1c9c023543be9d"
      }
     },
     "0189a6d7a75345d5b69029dc52ff5e43": {
      "model_module": "@jupyter-widgets/controls",
      "model_module_version": "1.5.0",
      "model_name": "DescriptionStyleModel",
      "state": {
       "description_width": ""
      }
     },
     "018db4b8b40f480daa0394a3749ebcae": {
      "model_module": "@jupyter-widgets/base",
      "model_module_version": "1.2.0",
      "model_name": "LayoutModel",
      "state": {}
     },
     "01c09dd064564758abaf60e47b49bfa7": {
      "model_module": "@jupyter-widgets/base",
      "model_module_version": "1.2.0",
      "model_name": "LayoutModel",
      "state": {
       "border": "solid 4px #222",
       "margin": "4px",
       "padding": "0"
      }
     },
     "01f1613b367d40fb9c1ad9ddbd725ff8": {
      "model_module": "@jupyter-widgets/controls",
      "model_module_version": "1.5.0",
      "model_name": "SliderStyleModel",
      "state": {
       "description_width": ""
      }
     },
     "01fd4b14da1e4b07ab082826ed2be68e": {
      "model_module": "@jupyter-widgets/base",
      "model_module_version": "1.2.0",
      "model_name": "LayoutModel",
      "state": {}
     },
     "020f45485b9a4c468156889d442c8070": {
      "model_module": "@jupyter-widgets/base",
      "model_module_version": "1.2.0",
      "model_name": "LayoutModel",
      "state": {}
     },
     "025a80d6ba684bf9bf4794bc5da7c409": {
      "model_module": "@jupyter-widgets/controls",
      "model_module_version": "1.5.0",
      "model_name": "CheckboxModel",
      "state": {
       "description": "Disable Medicina",
       "disabled": false,
       "layout": "IPY_MODEL_4d1ed547dcab4f089497c58a26d2236b",
       "style": "IPY_MODEL_37804478cadc44a18c566742e8056904",
       "value": false
      }
     },
     "028fc746bb774928b191e03b1bfad4f4": {
      "model_module": "@jupyter-widgets/base",
      "model_module_version": "1.2.0",
      "model_name": "LayoutModel",
      "state": {}
     },
     "02a39b9ae1444cf08d11f987cdf01e3f": {
      "model_module": "@jupyter-widgets/controls",
      "model_module_version": "1.5.0",
      "model_name": "FloatSliderModel",
      "state": {
       "description": "Exposure",
       "layout": "IPY_MODEL_a1bd3e62cd1945da9f69bf9b41750bd7",
       "max": 8,
       "min": -8,
       "step": 0.1,
       "style": "IPY_MODEL_a0d7312098a24c3c800a32722d3f72d4"
      }
     },
     "02ec5119c8f0412e92a59efd35a53895": {
      "model_module": "@jupyter-widgets/controls",
      "model_module_version": "1.5.0",
      "model_name": "HBoxModel",
      "state": {
       "children": [
        "IPY_MODEL_e333510c61184628a6c4c08ba3238bc8",
        "IPY_MODEL_ddf41e573f1e4fee910f168534cdedf2",
        "IPY_MODEL_2c402cfce7b64e7694c7e6ed2767d01e",
        "IPY_MODEL_bfedffe0f6b84a84be0a043f8e977593",
        "IPY_MODEL_18fde2698cb54105a183f778f5378a4b"
       ],
       "layout": "IPY_MODEL_54db351c02d440b1b91cafc882f6deef"
      }
     },
     "030e963bf13e4ff692c9bc6cede34149": {
      "model_module": "@jupyter-widgets/controls",
      "model_module_version": "1.5.0",
      "model_name": "VBoxModel",
      "state": {
       "children": [
        "IPY_MODEL_e5dc3f4bac10430c986399451a4a8292"
       ],
       "layout": "IPY_MODEL_fc5b095e851f41768a3f1cc0c1c191e5"
      }
     },
     "03183a73284642dd8802b1f39ada36b0": {
      "model_module": "@jupyter-widgets/base",
      "model_module_version": "1.2.0",
      "model_name": "LayoutModel",
      "state": {}
     },
     "03237fd67b484c508022dafa68c4f978": {
      "model_module": "@jupyter-widgets/base",
      "model_module_version": "1.2.0",
      "model_name": "LayoutModel",
      "state": {}
     },
     "0361aff72d1443129c1b8c2454f6da39": {
      "model_module": "@jupyter-widgets/controls",
      "model_module_version": "1.5.0",
      "model_name": "SliderStyleModel",
      "state": {
       "description_width": ""
      }
     },
     "037576d3e6e84526a9c1980ab2f74479": {
      "model_module": "@jupyter-widgets/output",
      "model_module_version": "1.0.0",
      "model_name": "OutputModel",
      "state": {
       "layout": "IPY_MODEL_0f215f9e24b94f68b32f36f3fe73b6f7",
       "outputs": [
        {
         "data": {
          "application/vnd.jupyter.widget-view+json": {
           "model_id": "6e5625aa3f074ef3b959c73f0bf520fc",
           "version_major": 2,
           "version_minor": 0
          },
          "text/plain": "Canvas(toolbar=Toolbar(toolitems=[('Home', 'Reset original view', 'home', 'home'), ('Back', 'Back to previous …"
         },
         "metadata": {},
         "output_type": "display_data"
        }
       ]
      }
     },
     "037e361e55fb4fe59aee5cacbcde86f5": {
      "model_module": "@jupyter-widgets/controls",
      "model_module_version": "1.5.0",
      "model_name": "ButtonModel",
      "state": {
       "description": "Reset Compression Controls",
       "layout": "IPY_MODEL_0a8f8a27b463402996e6bbdfec2314fc",
       "style": "IPY_MODEL_2ef578d8ae7242e8b42a0af567c31fb2"
      }
     },
     "039c4e0832c54cba9d9ec99965c0f89f": {
      "model_module": "@jupyter-widgets/base",
      "model_module_version": "1.2.0",
      "model_name": "LayoutModel",
      "state": {}
     },
     "03a0fa72e6924cd8ba3754fb989441e6": {
      "model_module": "@jupyter-widgets/base",
      "model_module_version": "1.2.0",
      "model_name": "LayoutModel",
      "state": {}
     },
     "03ba9846a0624dc4a4c862b49a4ed0a8": {
      "model_module": "@jupyter-widgets/controls",
      "model_module_version": "1.5.0",
      "model_name": "ButtonModel",
      "state": {
       "description": "Reset Saturation Controls",
       "layout": "IPY_MODEL_7e3b16175a7a4e30ae5970d5bcdc8133",
       "style": "IPY_MODEL_b3ad8af54f84429ba958ecd450d5c5ce"
      }
     },
     "03cd015597704270b40bdb214352a580": {
      "model_module": "@jupyter-widgets/controls",
      "model_module_version": "1.5.0",
      "model_name": "FloatSliderModel",
      "state": {
       "description": "Protected Area Threshold",
       "layout": "IPY_MODEL_8fd46ea9642a44c38ed5bcda93cb6767",
       "max": 1,
       "step": 0.01,
       "style": "IPY_MODEL_d2aec9e324df47cdbc5d930e56c30a1f",
       "value": 0.7
      }
     },
     "03d3fbc445bb4b479d60442e7c95d885": {
      "model_module": "@jupyter-widgets/controls",
      "model_module_version": "1.5.0",
      "model_name": "SliderStyleModel",
      "state": {
       "description_width": ""
      }
     },
     "03fedaff86034e7f826b93370329fb93": {
      "model_module": "@jupyter-widgets/base",
      "model_module_version": "1.2.0",
      "model_name": "LayoutModel",
      "state": {
       "border": "solid 4px #222",
       "margin": "4px",
       "padding": "0"
      }
     },
     "047aa6370f774bc4ac415b0aea03b3fc": {
      "model_module": "@jupyter-widgets/base",
      "model_module_version": "1.2.0",
      "model_name": "LayoutModel",
      "state": {}
     },
     "0511f4ada6134718882574c7c3dd05ef": {
      "model_module": "@jupyter-widgets/controls",
      "model_module_version": "1.5.0",
      "model_name": "SliderStyleModel",
      "state": {
       "description_width": ""
      }
     },
     "053ba042dde241ad825e6cbaadc9ea93": {
      "model_module": "@jupyter-widgets/controls",
      "model_module_version": "1.5.0",
      "model_name": "ButtonModel",
      "state": {
       "description": "Reset Exposure",
       "layout": "IPY_MODEL_74eeea511773467ba85872472ddb6ee2",
       "style": "IPY_MODEL_98464ae6df69487a9e4950d9bee79ef6"
      }
     },
     "0545e0783f004d15b6e9ba8b3101d689": {
      "model_module": "@jupyter-widgets/controls",
      "model_module_version": "1.5.0",
      "model_name": "HBoxModel",
      "state": {
       "children": [
        "IPY_MODEL_d501cfdd0a524c358387d557b994c6c2",
        "IPY_MODEL_6b5aec38a6b648d788afbfac2d42874e",
        "IPY_MODEL_e5946e1114aa499b9fb0b961f6733f40",
        "IPY_MODEL_c528007fce7e4fe4b7b34b2febcf0af6"
       ],
       "layout": "IPY_MODEL_3f0ebc19e67b440fb8842cc31adcc276"
      }
     },
     "05505523164a4f40beb751ec73a0fc88": {
      "model_module": "@jupyter-widgets/base",
      "model_module_version": "1.2.0",
      "model_name": "LayoutModel",
      "state": {}
     },
     "055e0a0e8135405aa28eb16a7f038a5c": {
      "model_module": "@jupyter-widgets/controls",
      "model_module_version": "1.5.0",
      "model_name": "VBoxModel",
      "state": {
       "children": [
        "IPY_MODEL_cee011abc78140cead2bb04e00be80be"
       ],
       "layout": "IPY_MODEL_a42cb93dfad740bebdec890026d28a93"
      }
     },
     "055fdba361314328baa80a6341cefa7f": {
      "model_module": "@jupyter-widgets/base",
      "model_module_version": "1.2.0",
      "model_name": "LayoutModel",
      "state": {}
     },
     "05791f5cc4cf45b4a8f949793113b916": {
      "model_module": "@jupyter-widgets/controls",
      "model_module_version": "1.5.0",
      "model_name": "VBoxModel",
      "state": {
       "children": [
        "IPY_MODEL_6743145c93564e48a3ba93803709b136"
       ],
       "layout": "IPY_MODEL_f4fc17df28b343e6843d5bdb80deea9c"
      }
     },
     "057944e206e84b499111ff8e534c267d": {
      "model_module": "@jupyter-widgets/controls",
      "model_module_version": "1.5.0",
      "model_name": "SliderStyleModel",
      "state": {
       "description_width": ""
      }
     },
     "05ad63e02dbc4b149252b1dc327c83ec": {
      "model_module": "@jupyter-widgets/controls",
      "model_module_version": "1.5.0",
      "model_name": "ButtonStyleModel",
      "state": {}
     },
     "05c1881065de47faa78ac539f8da4a98": {
      "model_module": "@jupyter-widgets/controls",
      "model_module_version": "1.5.0",
      "model_name": "DropdownModel",
      "state": {
       "_options_labels": [
        "tanh",
        "atan",
        "simple"
       ],
       "description": "Compression Function:",
       "index": 0,
       "layout": "IPY_MODEL_d46f619101bf47be964b2b6ee4004d23",
       "style": "IPY_MODEL_cb708a37c42c47cbb05ee87468d4e70f"
      }
     },
     "05cfe41017bd4e89b80d87f5bf448777": {
      "model_module": "@jupyter-widgets/controls",
      "model_module_version": "1.5.0",
      "model_name": "DropdownModel",
      "state": {
       "_options_labels": [
        "tanh",
        "atan",
        "simple"
       ],
       "description": "Compression Function:",
       "index": 0,
       "layout": "IPY_MODEL_341067d456734c24978a32ee1586cf30",
       "style": "IPY_MODEL_cc51bf6d7f5d468789f04c3cff3fadfc"
      }
     },
     "05eeff03431641a98515b5e37ed74096": {
      "model_module": "@jupyter-widgets/controls",
      "model_module_version": "1.5.0",
      "model_name": "HBoxModel",
      "state": {
       "children": [
        "IPY_MODEL_97865720330746f5984cde8a864f3e4d",
        "IPY_MODEL_18cf1125b0434a268e92487ff015bc97",
        "IPY_MODEL_a4cfea8b6011426798368f493abba37b",
        "IPY_MODEL_a4234a5470974d7083773b8064de4f04",
        "IPY_MODEL_9c79dbdf4d61421e835932790ff04829"
       ],
       "layout": "IPY_MODEL_01fd4b14da1e4b07ab082826ed2be68e"
      }
     },
     "0683252cfbe740e9bdb588ebcf464072": {
      "model_module": "@jupyter-widgets/controls",
      "model_module_version": "1.5.0",
      "model_name": "ButtonModel",
      "state": {
       "description": "Export Image",
       "layout": "IPY_MODEL_3538f490824c4318a353ffca8ad29227",
       "style": "IPY_MODEL_b9f2d5819b954fb0b8309e8e224f7ea5"
      }
     },
     "06abd73a9df3429db32e736ce6668953": {
      "model_module": "@jupyter-widgets/controls",
      "model_module_version": "1.5.0",
      "model_name": "FloatSliderModel",
      "state": {
       "description": "45°",
       "layout": "IPY_MODEL_af152e795de54756b358ef988ac88924",
       "max": 1,
       "min": -1,
       "step": 0.01,
       "style": "IPY_MODEL_b4a3cf5043604b069e02313c7fb7cbb2"
      }
     },
     "06b7f45575e14f6fb1f5c4c7d78fae98": {
      "model_module": "@jupyter-widgets/controls",
      "model_module_version": "1.5.0",
      "model_name": "FloatSliderModel",
      "state": {
       "description": "0°",
       "layout": "IPY_MODEL_1bd8de95891044168f36a129798da86a",
       "max": 1,
       "min": -1,
       "step": 0.01,
       "style": "IPY_MODEL_7c38dd9bcda04a108f6fa27af1dce69b"
      }
     },
     "06c1481b39124e4ba9fdf8f7216bd40e": {
      "model_module": "@jupyter-widgets/controls",
      "model_module_version": "1.5.0",
      "model_name": "ButtonModel",
      "state": {
       "description": "Export Image",
       "layout": "IPY_MODEL_daffe9b99c064441b680156b04464ed8",
       "style": "IPY_MODEL_6339ca97d2f04afe8ae3641f2bb5361f"
      }
     },
     "06f0b8760be544f2a35c565179e6e8f3": {
      "model_module": "@jupyter-widgets/controls",
      "model_module_version": "1.5.0",
      "model_name": "SliderStyleModel",
      "state": {
       "description_width": ""
      }
     },
     "070487e6b50247e282521790bd4e87fb": {
      "model_module": "@jupyter-widgets/base",
      "model_module_version": "1.2.0",
      "model_name": "LayoutModel",
      "state": {}
     },
     "0705cbde8c9f42b4806c31fbac2252f4": {
      "model_module": "@jupyter-widgets/base",
      "model_module_version": "1.2.0",
      "model_name": "LayoutModel",
      "state": {}
     },
     "0709b81644bd4e54a00da377c564458e": {
      "model_module": "@jupyter-widgets/controls",
      "model_module_version": "1.5.0",
      "model_name": "VBoxModel",
      "state": {
       "children": [
        "IPY_MODEL_cf3b6bd2cd90455d9cfed6af1ebb54b2",
        "IPY_MODEL_0a656193812a4dc3bed627e09408e439",
        "IPY_MODEL_c06ec35118214c8f8723e58b6ced63f3"
       ],
       "layout": "IPY_MODEL_e69c24b87a75409d9a45e16373931dad"
      }
     },
     "071ed1e28e5d45f588054e1c6fc09540": {
      "model_module": "@jupyter-widgets/controls",
      "model_module_version": "1.5.0",
      "model_name": "SliderStyleModel",
      "state": {
       "description_width": ""
      }
     },
     "0745dcf993b0473b898b5497053d40c5": {
      "model_module": "@jupyter-widgets/controls",
      "model_module_version": "1.5.0",
      "model_name": "FloatSliderModel",
      "state": {
       "description": "90°",
       "layout": "IPY_MODEL_e67cf7fb09054680971b3c86171bc6ac",
       "max": 1,
       "min": -1,
       "step": 0.01,
       "style": "IPY_MODEL_ad806b032f054616954f328899beaa60"
      }
     },
     "07794b739c9a4127b0191b9910143ca8": {
      "model_module": "@jupyter-widgets/base",
      "model_module_version": "1.2.0",
      "model_name": "LayoutModel",
      "state": {}
     },
     "0779541fc3a84c288b8f95666990df88": {
      "model_module": "@jupyter-widgets/controls",
      "model_module_version": "1.5.0",
      "model_name": "FloatSliderModel",
      "state": {
       "description": "Exposure",
       "layout": "IPY_MODEL_8a1be12d0c094c41bd97d6c2d46879f9",
       "max": 8,
       "min": -8,
       "step": 0.1,
       "style": "IPY_MODEL_0ed41db16ef04cef9e3e48a978985268"
      }
     },
     "078adbb7debf435d8a87f50a82517600": {
      "model_module": "@jupyter-widgets/base",
      "model_module_version": "1.2.0",
      "model_name": "LayoutModel",
      "state": {
       "align_items": "stretch",
       "display": "flex",
       "flex_flow": "column",
       "width": "1128px"
      }
     },
     "07b95b153a9c42a4b1e85fe451d39a9a": {
      "model_module": "@jupyter-widgets/controls",
      "model_module_version": "1.5.0",
      "model_name": "FloatSliderModel",
      "state": {
       "description": "315°",
       "layout": "IPY_MODEL_804525bb257045d88edd378995f8eed0",
       "max": 1,
       "min": -1,
       "step": 0.01,
       "style": "IPY_MODEL_8a1b501ee9134abfa83e4d365d876251"
      }
     },
     "07db43902eb24dbfbd5363467ab74331": {
      "model_module": "@jupyter-widgets/controls",
      "model_module_version": "1.5.0",
      "model_name": "HBoxModel",
      "state": {
       "children": [
        "IPY_MODEL_c3cab5598e954d07b9a40824c837436c",
        "IPY_MODEL_9f40cb8a3c4f47c1b30f45e26280c3dd"
       ],
       "layout": "IPY_MODEL_f25ffcb14bb0477d97ab1f26434a3717"
      }
     },
     "085a39e8c6024fbab09b47723e67842b": {
      "model_module": "@jupyter-widgets/base",
      "model_module_version": "1.2.0",
      "model_name": "LayoutModel",
      "state": {}
     },
     "08bc9d7840e14cd69007627bc848aad6": {
      "model_module": "@jupyter-widgets/controls",
      "model_module_version": "1.5.0",
      "model_name": "ButtonModel",
      "state": {
       "description": "Reset Protected Area",
       "layout": "IPY_MODEL_e656338e3b3c42fe9926a6af8883341e",
       "style": "IPY_MODEL_88ef2904553848fca015dd0e76df40e9"
      }
     },
     "08c2c6462f914b918e3188294247f429": {
      "model_module": "@jupyter-widgets/controls",
      "model_module_version": "1.5.0",
      "model_name": "CheckboxModel",
      "state": {
       "description": "Disable Medicina",
       "disabled": false,
       "layout": "IPY_MODEL_c2857460845c4296818cb3e8909dc915",
       "style": "IPY_MODEL_8a40b85a7ec34837954a1011639df172",
       "value": false
      }
     },
     "08de2f7e6b844b03bf68017f880ac3ff": {
      "model_module": "@jupyter-widgets/base",
      "model_module_version": "1.2.0",
      "model_name": "LayoutModel",
      "state": {}
     },
     "08eebce26c3f4149914abe7b19db5a50": {
      "model_module": "@jupyter-widgets/controls",
      "model_module_version": "1.5.0",
      "model_name": "VBoxModel",
      "state": {
       "children": [
        "IPY_MODEL_a02f241669224fd085a50b6cd3e759ca",
        "IPY_MODEL_06abd73a9df3429db32e736ce6668953",
        "IPY_MODEL_88ff8a2c496b482ab236f9a94fe1f000"
       ],
       "layout": "IPY_MODEL_7ab9ac86276f4773993fb481f41dfb7d"
      }
     },
     "091c3d823cee4c07883064cffd9d1d0a": {
      "model_module": "@jupyter-widgets/controls",
      "model_module_version": "1.5.0",
      "model_name": "FloatSliderModel",
      "state": {
       "description": "270°",
       "layout": "IPY_MODEL_22db3d894bfb417ab80179b16e5dfd96",
       "max": 1,
       "min": -1,
       "step": 0.01,
       "style": "IPY_MODEL_90d3545f080d44489af1a603eb9ec782"
      }
     },
     "091d357a781446f6bec1d82eb459e757": {
      "model_module": "@jupyter-widgets/base",
      "model_module_version": "1.2.0",
      "model_name": "LayoutModel",
      "state": {}
     },
     "0976ebc65a0744abbf5ad69c423b538d": {
      "model_module": "@jupyter-widgets/controls",
      "model_module_version": "1.5.0",
      "model_name": "VBoxModel",
      "state": {
       "children": [
        "IPY_MODEL_e5d2394b6dad43ed85a960e7f0f82941",
        "IPY_MODEL_dcfca966848340c1a6cb8207ed7ad233"
       ],
       "layout": "IPY_MODEL_8cf8b970d5b04a4b85d1ff8ea5ea9ec4"
      }
     },
     "09b0f4f5cd5e491ebb9d4b9ffd148484": {
      "model_module": "@jupyter-widgets/controls",
      "model_module_version": "1.5.0",
      "model_name": "ButtonStyleModel",
      "state": {}
     },
     "09f9257bff9b4fc59fcb949730735cfc": {
      "model_module": "@jupyter-widgets/base",
      "model_module_version": "1.2.0",
      "model_name": "LayoutModel",
      "state": {}
     },
     "0a08c500b3c3402ebaf9593b04320701": {
      "model_module": "@jupyter-widgets/controls",
      "model_module_version": "1.5.0",
      "model_name": "ButtonModel",
      "state": {
       "description": "Export Image",
       "layout": "IPY_MODEL_e80b17aca574429c9d627ac89772a68a",
       "style": "IPY_MODEL_67c6936e69d345908d787644af376031"
      }
     },
     "0a4b729cf71544968606048f8dcda3e7": {
      "model_module": "@jupyter-widgets/controls",
      "model_module_version": "1.5.0",
      "model_name": "FloatSliderModel",
      "state": {
       "description": "Exposure",
       "layout": "IPY_MODEL_055fdba361314328baa80a6341cefa7f",
       "max": 8,
       "min": -8,
       "step": 0.1,
       "style": "IPY_MODEL_320d6e9517eb42eab27bcf6dd70751f9"
      }
     },
     "0a656193812a4dc3bed627e09408e439": {
      "model_module": "@jupyter-widgets/controls",
      "model_module_version": "1.5.0",
      "model_name": "FloatSliderModel",
      "state": {
       "description": "45°",
       "layout": "IPY_MODEL_f431bb7b906441259373368f13da9b42",
       "max": 1,
       "min": -1,
       "step": 0.01,
       "style": "IPY_MODEL_7ec2f61864b5427cb827e6928ca82ceb"
      }
     },
     "0a73c6ebf8af4007bad7e51638974a3b": {
      "model_module": "@jupyter-widgets/controls",
      "model_module_version": "1.5.0",
      "model_name": "HBoxModel",
      "state": {
       "children": [
        "IPY_MODEL_d20f30d70d534e17a53c9d7b9a2c91ae",
        "IPY_MODEL_05c1881065de47faa78ac539f8da4a98",
        "IPY_MODEL_635662925f5e464c8ed35a426f9c67fb"
       ],
       "layout": "IPY_MODEL_191055564b204515b569628d25283c02"
      }
     },
     "0a7c5240ffdb4d6b9637813cfdcc4b82": {
      "model_module": "@jupyter-widgets/controls",
      "model_module_version": "1.5.0",
      "model_name": "ButtonStyleModel",
      "state": {}
     },
     "0a8f8a27b463402996e6bbdfec2314fc": {
      "model_module": "@jupyter-widgets/base",
      "model_module_version": "1.2.0",
      "model_name": "LayoutModel",
      "state": {}
     },
     "0aa71eb810bd4558828e2b45b5a75ac6": {
      "model_module": "jupyter-matplotlib",
      "model_module_version": "^0.7.2",
      "model_name": "MPLCanvasModel",
      "state": {
       "_figure_label": "Figure 26",
       "_height": 550,
       "_width": 1100,
       "header_visible": false,
       "layout": "IPY_MODEL_d687b0d3a0bd45f3a788e735c0e42955",
       "resizable": false,
       "toolbar": "IPY_MODEL_57381ebd2f3741c6830336431c1a0b96",
       "toolbar_position": "left",
       "toolbar_visible": false
      }
     },
     "0ad491ca00074aefb931d24d99b9064e": {
      "model_module": "@jupyter-widgets/controls",
      "model_module_version": "1.5.0",
      "model_name": "ButtonStyleModel",
      "state": {}
     },
     "0b28d6c98ab04faeb0be85be7f2937f6": {
      "model_module": "@jupyter-widgets/controls",
      "model_module_version": "1.5.0",
      "model_name": "FloatSliderModel",
      "state": {
       "description": "Exposure",
       "layout": "IPY_MODEL_bec5ce731cf649829666f6e579e4c3bd",
       "max": 8,
       "min": -8,
       "step": 0.1,
       "style": "IPY_MODEL_90f1485919984d8192013ed3e9dbcebb"
      }
     },
     "0bb0ebcff17f4a35abc024fbad16e599": {
      "model_module": "@jupyter-widgets/base",
      "model_module_version": "1.2.0",
      "model_name": "LayoutModel",
      "state": {}
     },
     "0c5b1ec41e3f491a9764e4d536232788": {
      "model_module": "@jupyter-widgets/base",
      "model_module_version": "1.2.0",
      "model_name": "LayoutModel",
      "state": {}
     },
     "0c5bf6081856440480aa3c75326354c3": {
      "model_module": "@jupyter-widgets/base",
      "model_module_version": "1.2.0",
      "model_name": "LayoutModel",
      "state": {}
     },
     "0ca43a6624d9437ea85e10832df34e25": {
      "model_module": "@jupyter-widgets/controls",
      "model_module_version": "1.5.0",
      "model_name": "BoxModel",
      "state": {
       "children": [
        "IPY_MODEL_d258ca8f24254625a6c0f6f3c4660589",
        "IPY_MODEL_d5a4f9ad18b148c9b5a21db3b7e2b681"
       ],
       "layout": "IPY_MODEL_078adbb7debf435d8a87f50a82517600"
      }
     },
     "0cbf6d5d7675474182043ca930c8df75": {
      "model_module": "@jupyter-widgets/controls",
      "model_module_version": "1.5.0",
      "model_name": "ButtonStyleModel",
      "state": {}
     },
     "0ccbed46f67f4985a5082848fc6b05f5": {
      "model_module": "@jupyter-widgets/base",
      "model_module_version": "1.2.0",
      "model_name": "LayoutModel",
      "state": {}
     },
     "0cd04cb1920545aebc9d6c19b009ef19": {
      "model_module": "@jupyter-widgets/base",
      "model_module_version": "1.2.0",
      "model_name": "LayoutModel",
      "state": {
       "align_items": "stretch",
       "display": "flex",
       "flex_flow": "column",
       "width": "1128px"
      }
     },
     "0ce6babdf73647b6aba9ac9171483de1": {
      "model_module": "@jupyter-widgets/controls",
      "model_module_version": "1.5.0",
      "model_name": "SliderStyleModel",
      "state": {
       "description_width": ""
      }
     },
     "0d12bd9c57e4460aaa28bd49bb6c3a29": {
      "model_module": "@jupyter-widgets/base",
      "model_module_version": "1.2.0",
      "model_name": "LayoutModel",
      "state": {
       "border": "solid 4px #222",
       "margin": "4px",
       "padding": "0"
      }
     },
     "0d74013185dd4bcbaeabe7c459e9c43a": {
      "model_module": "@jupyter-widgets/controls",
      "model_module_version": "1.5.0",
      "model_name": "FloatSliderModel",
      "state": {
       "description": "Compression Threshold",
       "layout": "IPY_MODEL_07794b739c9a4127b0191b9910143ca8",
       "max": 1,
       "step": 0.01,
       "style": "IPY_MODEL_b4d07136ffe74bd29fc4f5fdf2ab35d5",
       "value": 0.8
      }
     },
     "0d7c253f655b443fb20f2c8aa2df819d": {
      "model_module": "@jupyter-widgets/base",
      "model_module_version": "1.2.0",
      "model_name": "LayoutModel",
      "state": {}
     },
     "0d94280965ac48899f9a447dd5171494": {
      "model_module": "@jupyter-widgets/base",
      "model_module_version": "1.2.0",
      "model_name": "LayoutModel",
      "state": {}
     },
     "0daf5823699d40cbb3dbd1e46fba6d30": {
      "model_module": "@jupyter-widgets/controls",
      "model_module_version": "1.5.0",
      "model_name": "FloatSliderModel",
      "state": {
       "description": "225°",
       "layout": "IPY_MODEL_03183a73284642dd8802b1f39ada36b0",
       "max": 1,
       "min": -1,
       "step": 0.01,
       "style": "IPY_MODEL_8148e5b745d44a1381f4612c450c0a72"
      }
     },
     "0dcefab621ba47b3b80c4d76e679dab0": {
      "model_module": "@jupyter-widgets/controls",
      "model_module_version": "1.5.0",
      "model_name": "FloatSliderModel",
      "state": {
       "description": "Protected Area Threshold",
       "layout": "IPY_MODEL_56ce4a2c1bad429087a9f6c2abfdf2c7",
       "max": 1,
       "step": 0.01,
       "style": "IPY_MODEL_e78271105d4247efac9662b963a87b2d",
       "value": 0.5
      }
     },
     "0dd0295750fe47f78d4c97f7f55503e0": {
      "model_module": "@jupyter-widgets/base",
      "model_module_version": "1.2.0",
      "model_name": "LayoutModel",
      "state": {}
     },
     "0deba5bfd2ad47c5b78ff0d71721117a": {
      "model_module": "@jupyter-widgets/base",
      "model_module_version": "1.2.0",
      "model_name": "LayoutModel",
      "state": {}
     },
     "0e7afe1d37364ff8ae1f85d33768856b": {
      "model_module": "@jupyter-widgets/controls",
      "model_module_version": "1.5.0",
      "model_name": "HBoxModel",
      "state": {
       "children": [
        "IPY_MODEL_49172e5a8e5b4278bf38cbee66438b29",
        "IPY_MODEL_dd84b0dde84d460a843f924b79596d42",
        "IPY_MODEL_29f3014617d1454690b6bd8d8dbe6e19",
        "IPY_MODEL_341ab81d87c94e9cbe13193527a4c325",
        "IPY_MODEL_0b28d6c98ab04faeb0be85be7f2937f6"
       ],
       "layout": "IPY_MODEL_73cee728f3cd46369df07ba47e527f9d"
      }
     },
     "0ed41db16ef04cef9e3e48a978985268": {
      "model_module": "@jupyter-widgets/controls",
      "model_module_version": "1.5.0",
      "model_name": "SliderStyleModel",
      "state": {
       "description_width": ""
      }
     },
     "0f1d6a2fe17f402f91734df55f4ebd96": {
      "model_module": "@jupyter-widgets/base",
      "model_module_version": "1.2.0",
      "model_name": "LayoutModel",
      "state": {
       "border": "solid 4px #222",
       "margin": "4px",
       "padding": "0"
      }
     },
     "0f215f9e24b94f68b32f36f3fe73b6f7": {
      "model_module": "@jupyter-widgets/base",
      "model_module_version": "1.2.0",
      "model_name": "LayoutModel",
      "state": {
       "border": "solid 4px #222",
       "margin": "4px",
       "padding": "0"
      }
     },
     "0f4f8904f62d4a50a4b1b9e77e8b6bf9": {
      "model_module": "@jupyter-widgets/controls",
      "model_module_version": "1.5.0",
      "model_name": "VBoxModel",
      "state": {
       "children": [
        "IPY_MODEL_71126d2108a34bbc909a02e01a196f0d",
        "IPY_MODEL_b5de2550bfb9453da6dd81cb1745738a"
       ],
       "layout": "IPY_MODEL_819a9c4c2b7e4d6c950c68074517220e"
      }
     },
     "0f863c8e749a4b6c93ec45ca09c87d6e": {
      "model_module": "@jupyter-widgets/controls",
      "model_module_version": "1.5.0",
      "model_name": "VBoxModel",
      "state": {
       "children": [
        "IPY_MODEL_e382b2dc33d14be2983f883fc5831475",
        "IPY_MODEL_12d6ed2e52274277b45345bb3d4bcb4a"
       ],
       "layout": "IPY_MODEL_89477a2f49714cfc8f537012ecaa4f5c"
      }
     },
     "0fac481798914c8eb346937f71862a53": {
      "model_module": "@jupyter-widgets/output",
      "model_module_version": "1.0.0",
      "model_name": "OutputModel",
      "state": {
       "layout": "IPY_MODEL_cafc060e7ff04f01b273205c342859ad",
       "outputs": [
        {
         "data": {
          "application/vnd.jupyter.widget-view+json": {
           "model_id": "a2df79055b6a4bd1a6d53302401bfa13",
           "version_major": 2,
           "version_minor": 0
          },
          "text/plain": "Canvas(toolbar=Toolbar(toolitems=[('Home', 'Reset original view', 'home', 'home'), ('Back', 'Back to previous …"
         },
         "metadata": {},
         "output_type": "display_data"
        }
       ]
      }
     },
     "0fd05c9fad8c4b46bda0dcd0461b00b5": {
      "model_module": "jupyter-matplotlib",
      "model_module_version": "^0.7.2",
      "model_name": "ToolbarModel",
      "state": {
       "layout": "IPY_MODEL_028fc746bb774928b191e03b1bfad4f4",
       "toolitems": [
        [
         "Home",
         "Reset original view",
         "home",
         "home"
        ],
        [
         "Back",
         "Back to previous view",
         "arrow-left",
         "back"
        ],
        [
         "Forward",
         "Forward to next view",
         "arrow-right",
         "forward"
        ],
        [
         "Pan",
         "Pan axes with left mouse, zoom with right",
         "arrows",
         "pan"
        ],
        [
         "Zoom",
         "Zoom to rectangle",
         "square-o",
         "zoom"
        ],
        [
         "Download",
         "Download plot",
         "floppy-o",
         "save_figure"
        ]
       ]
      }
     },
     "1007d645acd24eb8b79970a898d93cc7": {
      "model_module": "@jupyter-widgets/controls",
      "model_module_version": "1.5.0",
      "model_name": "SliderStyleModel",
      "state": {
       "description_width": ""
      }
     },
     "101ae773892b4f8597db3ba2b844c47f": {
      "model_module": "@jupyter-widgets/base",
      "model_module_version": "1.2.0",
      "model_name": "LayoutModel",
      "state": {}
     },
     "1050483b6ac24ea98c987ce1a5628081": {
      "model_module": "@jupyter-widgets/controls",
      "model_module_version": "1.5.0",
      "model_name": "ButtonModel",
      "state": {
       "description": "Save Figure",
       "layout": "IPY_MODEL_6a3fe125378948b6ad92455232af5898",
       "style": "IPY_MODEL_4fac087d9b1e4d8cb222d1188076a7ce"
      }
     },
     "113a4e35d349497e8ec470e2bea818fd": {
      "model_module": "@jupyter-widgets/controls",
      "model_module_version": "1.5.0",
      "model_name": "DescriptionStyleModel",
      "state": {
       "description_width": ""
      }
     },
     "114eed62c48747c4b0ad97d7f2d69db7": {
      "model_module": "@jupyter-widgets/controls",
      "model_module_version": "1.5.0",
      "model_name": "ButtonModel",
      "state": {
       "description": "Reset Exposure",
       "layout": "IPY_MODEL_184590a26343478c815a5c1235ce0faf",
       "style": "IPY_MODEL_9ae26172f55f45e2be9e35b4b8f42908"
      }
     },
     "11d735274ebc42468a73a95709a09991": {
      "model_module": "@jupyter-widgets/base",
      "model_module_version": "1.2.0",
      "model_name": "LayoutModel",
      "state": {}
     },
     "121a2534c084472f92dee8bf21f4877e": {
      "model_module": "@jupyter-widgets/controls",
      "model_module_version": "1.5.0",
      "model_name": "SliderStyleModel",
      "state": {
       "description_width": ""
      }
     },
     "123df205cb8d4517b4cc299dbef43e58": {
      "model_module": "@jupyter-widgets/controls",
      "model_module_version": "1.5.0",
      "model_name": "FloatSliderModel",
      "state": {
       "description": "45°",
       "layout": "IPY_MODEL_cb4495b3694e43d49e8cc1f4d336a786",
       "max": 1,
       "min": -1,
       "step": 0.01,
       "style": "IPY_MODEL_e11c3a87da4d4befafb4e5e9db2854ab"
      }
     },
     "123e83f5d28d405eacc07ed77b457382": {
      "model_module": "jupyter-matplotlib",
      "model_module_version": "^0.7.2",
      "model_name": "MPLCanvasModel",
      "state": {
       "_figure_label": "Figure 4",
       "_height": 618,
       "_width": 1099,
       "header_visible": false,
       "layout": "IPY_MODEL_26e7e25c608c429cb077dd3024769d56",
       "resizable": false,
       "toolbar": "IPY_MODEL_1aac04dff4974affb0cba3c19773f786",
       "toolbar_position": "left",
       "toolbar_visible": false
      }
     },
     "1267fc0b108a4b9ebab607caaec73784": {
      "model_module": "jupyter-matplotlib",
      "model_module_version": "^0.7.2",
      "model_name": "ToolbarModel",
      "state": {
       "layout": "IPY_MODEL_1a65ed48b2dd4b9d85d68a64cedb23a5",
       "toolitems": [
        [
         "Home",
         "Reset original view",
         "home",
         "home"
        ],
        [
         "Back",
         "Back to previous view",
         "arrow-left",
         "back"
        ],
        [
         "Forward",
         "Forward to next view",
         "arrow-right",
         "forward"
        ],
        [
         "Pan",
         "Pan axes with left mouse, zoom with right",
         "arrows",
         "pan"
        ],
        [
         "Zoom",
         "Zoom to rectangle",
         "square-o",
         "zoom"
        ],
        [
         "Download",
         "Download plot",
         "floppy-o",
         "save_figure"
        ]
       ]
      }
     },
     "1279cd94166044faaf8b404ccc3b13db": {
      "model_module": "@jupyter-widgets/base",
      "model_module_version": "1.2.0",
      "model_name": "LayoutModel",
      "state": {}
     },
     "128ac3dd9abd486aaf978c5df9fa1f5e": {
      "model_module": "@jupyter-widgets/base",
      "model_module_version": "1.2.0",
      "model_name": "LayoutModel",
      "state": {}
     },
     "12a89fa45a2b40de8b3c5256db24b178": {
      "model_module": "@jupyter-widgets/controls",
      "model_module_version": "1.5.0",
      "model_name": "DropdownModel",
      "state": {
       "_options_labels": [
        "tanh",
        "atan",
        "simple"
       ],
       "description": "Compression Function:",
       "index": 0,
       "layout": "IPY_MODEL_7ec2c9c43f1048819c719b779789dd7a",
       "style": "IPY_MODEL_799458cd92474054b8fb08ca75dbd80b"
      }
     },
     "12d6ed2e52274277b45345bb3d4bcb4a": {
      "model_module": "@jupyter-widgets/controls",
      "model_module_version": "1.5.0",
      "model_name": "FloatSliderModel",
      "state": {
       "description": "315°",
       "layout": "IPY_MODEL_46cdbc96059248418824791f015039ca",
       "max": 1,
       "min": -1,
       "step": 0.01,
       "style": "IPY_MODEL_1344484f80174723b7683c45e6a9ce63"
      }
     },
     "12e20afa15c141c6abbb6c3c014c8a1a": {
      "model_module": "@jupyter-widgets/controls",
      "model_module_version": "1.5.0",
      "model_name": "FloatSliderModel",
      "state": {
       "description": "0°",
       "layout": "IPY_MODEL_e1a347b180de429baa40170ac01095ba",
       "max": 1,
       "min": -1,
       "step": 0.01,
       "style": "IPY_MODEL_b77dad42caf644a8a7d6e84cbb737686"
      }
     },
     "1344484f80174723b7683c45e6a9ce63": {
      "model_module": "@jupyter-widgets/controls",
      "model_module_version": "1.5.0",
      "model_name": "SliderStyleModel",
      "state": {
       "description_width": ""
      }
     },
     "1352fdd77e7345f89c0dd9cfb7b0274c": {
      "model_module": "@jupyter-widgets/base",
      "model_module_version": "1.2.0",
      "model_name": "LayoutModel",
      "state": {}
     },
     "135dc4e5f750410f8cb4698942f8315f": {
      "model_module": "@jupyter-widgets/controls",
      "model_module_version": "1.5.0",
      "model_name": "ButtonModel",
      "state": {
       "description": "Reset Exposure",
       "layout": "IPY_MODEL_fd916a26120a407992b6e7a9ce4eee77",
       "style": "IPY_MODEL_68c37bd9ca3c4aeeb82aca5d1e3b95e5"
      }
     },
     "13af647ee3f0401b890d63b991ceaf7c": {
      "model_module": "@jupyter-widgets/controls",
      "model_module_version": "1.5.0",
      "model_name": "HBoxModel",
      "state": {
       "children": [
        "IPY_MODEL_400cf6b3a9ca47ca859ea8d4e28337e2",
        "IPY_MODEL_5d3aae96e4934cc3868b06170df61c27"
       ],
       "layout": "IPY_MODEL_27e1010395934ef082564948af7623be"
      }
     },
     "13b33116f5014c189c4222c2546071af": {
      "model_module": "@jupyter-widgets/base",
      "model_module_version": "1.2.0",
      "model_name": "LayoutModel",
      "state": {}
     },
     "13cdf7c224134e14a2d29a90f88d744b": {
      "model_module": "@jupyter-widgets/controls",
      "model_module_version": "1.5.0",
      "model_name": "HBoxModel",
      "state": {
       "children": [
        "IPY_MODEL_e87ef36970f34fb5821782298743267a",
        "IPY_MODEL_1ebab2fcef4f4879b8cebbc3328c3bae",
        "IPY_MODEL_b41057b221524010b077ebef49ccd2c8",
        "IPY_MODEL_fc8267df070b44d48624fb4ac8ba4fe8",
        "IPY_MODEL_bab2049745594930b0dc10f8bcfe818a"
       ],
       "layout": "IPY_MODEL_6ec84d85b4c74a4fa815baaae44cb605"
      }
     },
     "13ff6ea6c7de4e0a83abc6ed96c0ec1c": {
      "model_module": "@jupyter-widgets/controls",
      "model_module_version": "1.5.0",
      "model_name": "FloatSliderModel",
      "state": {
       "description": "315°",
       "layout": "IPY_MODEL_b2429ff4e94946029569d1f0733b5e23",
       "max": 1,
       "min": -1,
       "step": 0.01,
       "style": "IPY_MODEL_c8ec604383394ce7b658192e58df8ae8"
      }
     },
     "1426b4e610724834999f94f73d87396c": {
      "model_module": "jupyter-matplotlib",
      "model_module_version": "^0.7.2",
      "model_name": "ToolbarModel",
      "state": {
       "layout": "IPY_MODEL_c6f64549d1214799a3ff8577c37dafd1",
       "toolitems": [
        [
         "Home",
         "Reset original view",
         "home",
         "home"
        ],
        [
         "Back",
         "Back to previous view",
         "arrow-left",
         "back"
        ],
        [
         "Forward",
         "Forward to next view",
         "arrow-right",
         "forward"
        ],
        [
         "Pan",
         "Pan axes with left mouse, zoom with right",
         "arrows",
         "pan"
        ],
        [
         "Zoom",
         "Zoom to rectangle",
         "square-o",
         "zoom"
        ],
        [
         "Download",
         "Download plot",
         "floppy-o",
         "save_figure"
        ]
       ]
      }
     },
     "1435c0aa21814a82a7e03a7d52dbef86": {
      "model_module": "@jupyter-widgets/controls",
      "model_module_version": "1.5.0",
      "model_name": "SliderStyleModel",
      "state": {
       "description_width": ""
      }
     },
     "14471fe33dd04e3d901e98201902c928": {
      "model_module": "@jupyter-widgets/controls",
      "model_module_version": "1.5.0",
      "model_name": "FloatSliderModel",
      "state": {
       "description": "Compression Threshold",
       "layout": "IPY_MODEL_adfa50a695164d58afe437633840ea9d",
       "max": 1,
       "step": 0.01,
       "style": "IPY_MODEL_3af3adc054134108a98364cce0f04a7a",
       "value": 0.5
      }
     },
     "1455056be61d4e64a37ed0a01ec8b87c": {
      "model_module": "@jupyter-widgets/base",
      "model_module_version": "1.2.0",
      "model_name": "LayoutModel",
      "state": {
       "align_items": "stretch",
       "display": "flex",
       "flex_flow": "column",
       "width": "1128px"
      }
     },
     "147fc6470607422480c90cb2e1e70cb4": {
      "model_module": "@jupyter-widgets/controls",
      "model_module_version": "1.5.0",
      "model_name": "DescriptionStyleModel",
      "state": {
       "description_width": ""
      }
     },
     "1493f3d8e8d34e97b449e89265a3748a": {
      "model_module": "@jupyter-widgets/controls",
      "model_module_version": "1.5.0",
      "model_name": "ButtonStyleModel",
      "state": {}
     },
     "14a57c980ee5403d8c063b00f38222ac": {
      "model_module": "@jupyter-widgets/base",
      "model_module_version": "1.2.0",
      "model_name": "LayoutModel",
      "state": {}
     },
     "15464b0f7f564b28ba9d096f2630acec": {
      "model_module": "@jupyter-widgets/base",
      "model_module_version": "1.2.0",
      "model_name": "LayoutModel",
      "state": {}
     },
     "154c9f06b74445f3baa46c6ee7fafcb4": {
      "model_module": "@jupyter-widgets/controls",
      "model_module_version": "1.5.0",
      "model_name": "FloatSliderModel",
      "state": {
       "description": "180°",
       "layout": "IPY_MODEL_4b2c48af77694a959a958f42f0521543",
       "max": 1,
       "min": -1,
       "step": 0.01,
       "style": "IPY_MODEL_65e16fb28d834c939cdec51786eeab85"
      }
     },
     "159bf2e87595467798bbcbdd27078e99": {
      "model_module": "@jupyter-widgets/controls",
      "model_module_version": "1.5.0",
      "model_name": "FloatSliderModel",
      "state": {
       "description": "45°",
       "layout": "IPY_MODEL_ef7bb26043c2446e82387fc69fdcd4de",
       "max": 1,
       "min": -1,
       "step": 0.01,
       "style": "IPY_MODEL_b010a9cdd1a24fa98c614eb829ba5abd"
      }
     },
     "15ad8788169c46d1839af3340519dccc": {
      "model_module": "@jupyter-widgets/controls",
      "model_module_version": "1.5.0",
      "model_name": "ButtonStyleModel",
      "state": {}
     },
     "15f44f462b5f4ed984136ea958b1f6fc": {
      "model_module": "@jupyter-widgets/base",
      "model_module_version": "1.2.0",
      "model_name": "LayoutModel",
      "state": {}
     },
     "1633fca444ca400498e7cca2f82217e9": {
      "model_module": "@jupyter-widgets/controls",
      "model_module_version": "1.5.0",
      "model_name": "BoxModel",
      "state": {
       "children": [
        "IPY_MODEL_5e9629682ef846ac8ac86fe665858f24",
        "IPY_MODEL_599fdedc897c46d8878d6c7b6fd40fd6"
       ],
       "layout": "IPY_MODEL_1842590dcd5f4299bf857b909efd8425"
      }
     },
     "16422e92af454f1f89ee684a0992afc8": {
      "model_module": "@jupyter-widgets/base",
      "model_module_version": "1.2.0",
      "model_name": "LayoutModel",
      "state": {}
     },
     "16a0422c44a649fcaba695900e7df5b0": {
      "model_module": "jupyter-matplotlib",
      "model_module_version": "^0.7.2",
      "model_name": "MPLCanvasModel",
      "state": {
       "_figure_label": "Figure 12",
       "_height": 550,
       "_width": 1100,
       "header_visible": false,
       "layout": "IPY_MODEL_c8df75a328f94fa3929e8c5bb990ba3d",
       "resizable": false,
       "toolbar": "IPY_MODEL_8748ce94db7c4117b41b7c280122f74e",
       "toolbar_position": "left",
       "toolbar_visible": false
      }
     },
     "16bd7c34b6e14454b1ebfbb23fdb2da2": {
      "model_module": "@jupyter-widgets/controls",
      "model_module_version": "1.5.0",
      "model_name": "FloatSliderModel",
      "state": {
       "description": "315°",
       "layout": "IPY_MODEL_56a8c8fcefdf45c098daa49a4d0d5ea4",
       "max": 1,
       "min": -1,
       "step": 0.01,
       "style": "IPY_MODEL_8c4402b6164f43e698aced058734341f"
      }
     },
     "16e3934d2764442981be478477c8c799": {
      "model_module": "@jupyter-widgets/base",
      "model_module_version": "1.2.0",
      "model_name": "LayoutModel",
      "state": {}
     },
     "16f87cf3643e4a3e9036aca11a570828": {
      "model_module": "@jupyter-widgets/base",
      "model_module_version": "1.2.0",
      "model_name": "LayoutModel",
      "state": {}
     },
     "172043e9fe7b4014a886176de5a65976": {
      "model_module": "@jupyter-widgets/base",
      "model_module_version": "1.2.0",
      "model_name": "LayoutModel",
      "state": {}
     },
     "17544b76e9eb40d0b96e3e9eeb17ac30": {
      "model_module": "@jupyter-widgets/controls",
      "model_module_version": "1.5.0",
      "model_name": "CheckboxModel",
      "state": {
       "description": "Disable Medicina",
       "disabled": false,
       "layout": "IPY_MODEL_4f46dbba471945e4897026740c32c96c",
       "style": "IPY_MODEL_1b7bb2ed5c09431fa03c4bd0bf5fd89e",
       "value": false
      }
     },
     "17552b6774884011bae44a1ecfe657c5": {
      "model_module": "@jupyter-widgets/base",
      "model_module_version": "1.2.0",
      "model_name": "LayoutModel",
      "state": {}
     },
     "177ed2de3ffc44ff888bd423a6486728": {
      "model_module": "@jupyter-widgets/controls",
      "model_module_version": "1.5.0",
      "model_name": "DescriptionStyleModel",
      "state": {
       "description_width": ""
      }
     },
     "1796bb3ae728497f82307a42797f28c9": {
      "model_module": "@jupyter-widgets/base",
      "model_module_version": "1.2.0",
      "model_name": "LayoutModel",
      "state": {
       "border": "solid 4px #222",
       "margin": "4px",
       "padding": "0"
      }
     },
     "1797d79337da46d695b5fbc1ed480d73": {
      "model_module": "@jupyter-widgets/base",
      "model_module_version": "1.2.0",
      "model_name": "LayoutModel",
      "state": {}
     },
     "17d549b225f14235a6e3acec83c3b6a4": {
      "model_module": "@jupyter-widgets/base",
      "model_module_version": "1.2.0",
      "model_name": "LayoutModel",
      "state": {}
     },
     "180e25ba4e754084bdc05466264ca2f4": {
      "model_module": "@jupyter-widgets/controls",
      "model_module_version": "1.5.0",
      "model_name": "ButtonModel",
      "state": {
       "description": "Reset Exposure",
       "layout": "IPY_MODEL_543809fe0f31489eaed318c85c1432a5",
       "style": "IPY_MODEL_0cbf6d5d7675474182043ca930c8df75"
      }
     },
     "18229b939d4a425aaf76c337911c6586": {
      "model_module": "@jupyter-widgets/base",
      "model_module_version": "1.2.0",
      "model_name": "LayoutModel",
      "state": {}
     },
     "1842590dcd5f4299bf857b909efd8425": {
      "model_module": "@jupyter-widgets/base",
      "model_module_version": "1.2.0",
      "model_name": "LayoutModel",
      "state": {
       "align_items": "stretch",
       "display": "flex",
       "flex_flow": "column",
       "width": "1128px"
      }
     },
     "184590a26343478c815a5c1235ce0faf": {
      "model_module": "@jupyter-widgets/base",
      "model_module_version": "1.2.0",
      "model_name": "LayoutModel",
      "state": {}
     },
     "18636d33a6f046b99f6cc1ac9567d6b8": {
      "model_module": "@jupyter-widgets/base",
      "model_module_version": "1.2.0",
      "model_name": "LayoutModel",
      "state": {}
     },
     "187e24a14b9e48148c8da062654e8974": {
      "model_module": "@jupyter-widgets/controls",
      "model_module_version": "1.5.0",
      "model_name": "SliderStyleModel",
      "state": {
       "description_width": ""
      }
     },
     "18944a936df642838577af36a95fe9bb": {
      "model_module": "@jupyter-widgets/base",
      "model_module_version": "1.2.0",
      "model_name": "LayoutModel",
      "state": {}
     },
     "189f84c012ff49a597eb04fa751f5e24": {
      "model_module": "@jupyter-widgets/controls",
      "model_module_version": "1.5.0",
      "model_name": "ButtonStyleModel",
      "state": {}
     },
     "18cf1125b0434a268e92487ff015bc97": {
      "model_module": "@jupyter-widgets/controls",
      "model_module_version": "1.5.0",
      "model_name": "ButtonModel",
      "state": {
       "description": "Export Image",
       "layout": "IPY_MODEL_ab4dbaea327c435b9b9bf439125b44f7",
       "style": "IPY_MODEL_0ad491ca00074aefb931d24d99b9064e"
      }
     },
     "18d1e6375a08424898d91b43e5c99bd0": {
      "model_module": "@jupyter-widgets/base",
      "model_module_version": "1.2.0",
      "model_name": "LayoutModel",
      "state": {}
     },
     "18d79411a22b4875a5a068bd457944ad": {
      "model_module": "@jupyter-widgets/base",
      "model_module_version": "1.2.0",
      "model_name": "LayoutModel",
      "state": {
       "border": "solid 4px #222",
       "margin": "4px",
       "padding": "0"
      }
     },
     "18e93737ecee490296f01bdb9343c1e0": {
      "model_module": "@jupyter-widgets/controls",
      "model_module_version": "1.5.0",
      "model_name": "ButtonStyleModel",
      "state": {}
     },
     "18fde2698cb54105a183f778f5378a4b": {
      "model_module": "@jupyter-widgets/controls",
      "model_module_version": "1.5.0",
      "model_name": "FloatSliderModel",
      "state": {
       "description": "Exposure",
       "layout": "IPY_MODEL_8973588e251940709fafc703b6d93d3d",
       "max": 8,
       "min": -8,
       "step": 0.1,
       "style": "IPY_MODEL_df06ede3574e421d950bd9872a4d9585"
      }
     },
     "191055564b204515b569628d25283c02": {
      "model_module": "@jupyter-widgets/base",
      "model_module_version": "1.2.0",
      "model_name": "LayoutModel",
      "state": {}
     },
     "191fad0b2a1e4d94a5c82dfa65e2962a": {
      "model_module": "@jupyter-widgets/controls",
      "model_module_version": "1.5.0",
      "model_name": "SliderStyleModel",
      "state": {
       "description_width": ""
      }
     },
     "197d6fbf1b754925a6dd9be0627591b9": {
      "model_module": "@jupyter-widgets/base",
      "model_module_version": "1.2.0",
      "model_name": "LayoutModel",
      "state": {}
     },
     "1984f279722c4d2d8ff241a30405d306": {
      "model_module": "@jupyter-widgets/base",
      "model_module_version": "1.2.0",
      "model_name": "LayoutModel",
      "state": {}
     },
     "19e65587d3504fba9337faf36f967ca0": {
      "model_module": "@jupyter-widgets/output",
      "model_module_version": "1.0.0",
      "model_name": "OutputModel",
      "state": {
       "layout": "IPY_MODEL_50777fca2eaa418caaeec4923c0913e1",
       "outputs": [
        {
         "data": {
          "application/vnd.jupyter.widget-view+json": {
           "model_id": "335ae429bfea4bb4bbfaa0f2399b17c6",
           "version_major": 2,
           "version_minor": 0
          },
          "text/plain": "Canvas(toolbar=Toolbar(toolitems=[('Home', 'Reset original view', 'home', 'home'), ('Back', 'Back to previous …"
         },
         "metadata": {},
         "output_type": "display_data"
        }
       ]
      }
     },
     "19ec2bf7e8a04841b6a0b25c61b0b141": {
      "model_module": "@jupyter-widgets/base",
      "model_module_version": "1.2.0",
      "model_name": "LayoutModel",
      "state": {}
     },
     "1a360dbc179b4765b20a645daffb8957": {
      "model_module": "@jupyter-widgets/base",
      "model_module_version": "1.2.0",
      "model_name": "LayoutModel",
      "state": {}
     },
     "1a3a735f771747179bb11efafe20cb55": {
      "model_module": "@jupyter-widgets/controls",
      "model_module_version": "1.5.0",
      "model_name": "DescriptionStyleModel",
      "state": {
       "description_width": ""
      }
     },
     "1a5a2fe01d1a4ad1b1178a3afdd164a7": {
      "model_module": "@jupyter-widgets/controls",
      "model_module_version": "1.5.0",
      "model_name": "SliderStyleModel",
      "state": {
       "description_width": ""
      }
     },
     "1a64ba31542e42e0a4500d2ea590f33a": {
      "model_module": "@jupyter-widgets/base",
      "model_module_version": "1.2.0",
      "model_name": "LayoutModel",
      "state": {}
     },
     "1a65ed48b2dd4b9d85d68a64cedb23a5": {
      "model_module": "@jupyter-widgets/base",
      "model_module_version": "1.2.0",
      "model_name": "LayoutModel",
      "state": {}
     },
     "1a66213b6a32413da2dc0ec2d4df10a5": {
      "model_module": "@jupyter-widgets/base",
      "model_module_version": "1.2.0",
      "model_name": "LayoutModel",
      "state": {
       "border": "solid 4px #222",
       "margin": "4px",
       "padding": "0"
      }
     },
     "1a8453e6b70b41d993811dddbb8b3954": {
      "model_module": "@jupyter-widgets/controls",
      "model_module_version": "1.5.0",
      "model_name": "SliderStyleModel",
      "state": {
       "description_width": ""
      }
     },
     "1a954aa67fa043b598d8dc8d6763601e": {
      "model_module": "@jupyter-widgets/base",
      "model_module_version": "1.2.0",
      "model_name": "LayoutModel",
      "state": {}
     },
     "1aa3274acd714afa8cc2c0197218025d": {
      "model_module": "@jupyter-widgets/base",
      "model_module_version": "1.2.0",
      "model_name": "LayoutModel",
      "state": {}
     },
     "1aac04dff4974affb0cba3c19773f786": {
      "model_module": "jupyter-matplotlib",
      "model_module_version": "^0.7.2",
      "model_name": "ToolbarModel",
      "state": {
       "layout": "IPY_MODEL_9f96cd5923714f7cab1bff8aa44cd377",
       "toolitems": [
        [
         "Home",
         "Reset original view",
         "home",
         "home"
        ],
        [
         "Back",
         "Back to previous view",
         "arrow-left",
         "back"
        ],
        [
         "Forward",
         "Forward to next view",
         "arrow-right",
         "forward"
        ],
        [
         "Pan",
         "Pan axes with left mouse, zoom with right",
         "arrows",
         "pan"
        ],
        [
         "Zoom",
         "Zoom to rectangle",
         "square-o",
         "zoom"
        ],
        [
         "Download",
         "Download plot",
         "floppy-o",
         "save_figure"
        ]
       ]
      }
     },
     "1ab16265ae2845d6b7ba64e922dd5749": {
      "model_module": "@jupyter-widgets/base",
      "model_module_version": "1.2.0",
      "model_name": "LayoutModel",
      "state": {}
     },
     "1accf3b682754757b44ec629b46c40cb": {
      "model_module": "@jupyter-widgets/controls",
      "model_module_version": "1.5.0",
      "model_name": "VBoxModel",
      "state": {
       "children": [
        "IPY_MODEL_68285d529d8c4f298aa3d0dc3eb807af",
        "IPY_MODEL_00d53661abf948d58fa805c7314feb65"
       ],
       "layout": "IPY_MODEL_3e2e97783c2548ebb4c5ee9c0c2ff268"
      }
     },
     "1b192ecf8f6f413da1e67873a7b2ca1a": {
      "model_module": "@jupyter-widgets/base",
      "model_module_version": "1.2.0",
      "model_name": "LayoutModel",
      "state": {}
     },
     "1b7bb2ed5c09431fa03c4bd0bf5fd89e": {
      "model_module": "@jupyter-widgets/controls",
      "model_module_version": "1.5.0",
      "model_name": "DescriptionStyleModel",
      "state": {
       "description_width": ""
      }
     },
     "1b997bc4b4a44e7a8c3e2d35d61ade17": {
      "model_module": "@jupyter-widgets/base",
      "model_module_version": "1.2.0",
      "model_name": "LayoutModel",
      "state": {}
     },
     "1bad2f9ab0264bc5bd26f1b01e90869a": {
      "model_module": "@jupyter-widgets/base",
      "model_module_version": "1.2.0",
      "model_name": "LayoutModel",
      "state": {}
     },
     "1bc0f45781244a11b8b93a1c1f8caaa9": {
      "model_module": "@jupyter-widgets/controls",
      "model_module_version": "1.5.0",
      "model_name": "ButtonModel",
      "state": {
       "description": "Reset Saturation Controls",
       "layout": "IPY_MODEL_3adb66cd3e4c4b0bb1590ab266b9bbb5",
       "style": "IPY_MODEL_3126531619f54075bab3ff523ae9babc"
      }
     },
     "1bc6044af4c6443bb7caa011b2da2df7": {
      "model_module": "@jupyter-widgets/base",
      "model_module_version": "1.2.0",
      "model_name": "LayoutModel",
      "state": {}
     },
     "1bd8de95891044168f36a129798da86a": {
      "model_module": "@jupyter-widgets/base",
      "model_module_version": "1.2.0",
      "model_name": "LayoutModel",
      "state": {}
     },
     "1c21512f7b1a4eee8fd7e9bcfc728d90": {
      "model_module": "@jupyter-widgets/base",
      "model_module_version": "1.2.0",
      "model_name": "LayoutModel",
      "state": {}
     },
     "1c8e9fd4a6c6432ab42ffee9a33530eb": {
      "model_module": "@jupyter-widgets/base",
      "model_module_version": "1.2.0",
      "model_name": "LayoutModel",
      "state": {
       "border": "solid 4px #222",
       "margin": "4px",
       "padding": "0"
      }
     },
     "1c951ac5841f4ef4ab4f7383a12ed709": {
      "model_module": "@jupyter-widgets/base",
      "model_module_version": "1.2.0",
      "model_name": "LayoutModel",
      "state": {}
     },
     "1ccbb3a88cc64dd3ba9a416faf87ad62": {
      "model_module": "@jupyter-widgets/controls",
      "model_module_version": "1.5.0",
      "model_name": "SliderStyleModel",
      "state": {
       "description_width": ""
      }
     },
     "1ccd546cb45b4dac9735028da29da568": {
      "model_module": "@jupyter-widgets/output",
      "model_module_version": "1.0.0",
      "model_name": "OutputModel",
      "state": {
       "layout": "IPY_MODEL_856193c7bb9d4180b9ace29cf9336040",
       "outputs": [
        {
         "data": {
          "application/vnd.jupyter.widget-view+json": {
           "model_id": "5deb83a001794df58553e52e7809a233",
           "version_major": 2,
           "version_minor": 0
          },
          "text/plain": "Canvas(toolbar=Toolbar(toolitems=[('Home', 'Reset original view', 'home', 'home'), ('Back', 'Back to previous …"
         },
         "metadata": {},
         "output_type": "display_data"
        }
       ]
      }
     },
     "1cec6fe072654f4493f7b52b44584d8f": {
      "model_module": "@jupyter-widgets/controls",
      "model_module_version": "1.5.0",
      "model_name": "ButtonStyleModel",
      "state": {}
     },
     "1d3d7daf49724e5db47de58a4960f910": {
      "model_module": "@jupyter-widgets/controls",
      "model_module_version": "1.5.0",
      "model_name": "HBoxModel",
      "state": {
       "children": [
        "IPY_MODEL_639c819982fa41848538c2a9a5114f2f",
        "IPY_MODEL_61c6877b2c604559a73746934acfab94",
        "IPY_MODEL_ab2887f56e1b45e69cab2ee75665dcac"
       ],
       "layout": "IPY_MODEL_743389fc4498433e80b15f53852e41a6"
      }
     },
     "1d7187a053174692bebeea38fba535f7": {
      "model_module": "@jupyter-widgets/controls",
      "model_module_version": "1.5.0",
      "model_name": "ButtonStyleModel",
      "state": {}
     },
     "1dac731a1ea448c98030f7d7c7de6aae": {
      "model_module": "@jupyter-widgets/controls",
      "model_module_version": "1.5.0",
      "model_name": "FloatSliderModel",
      "state": {
       "description": "Exposure",
       "layout": "IPY_MODEL_80a0749c7af244adb6b33d17e9327398",
       "max": 8,
       "min": -8,
       "step": 0.1,
       "style": "IPY_MODEL_e2332f1244b64575ac46983847851b00"
      }
     },
     "1dacd6ba30c24e4fab3faebf49a175ff": {
      "model_module": "@jupyter-widgets/controls",
      "model_module_version": "1.5.0",
      "model_name": "ButtonStyleModel",
      "state": {}
     },
     "1e109ab89e7646d1a59ebf84881684d5": {
      "model_module": "@jupyter-widgets/controls",
      "model_module_version": "1.5.0",
      "model_name": "SliderStyleModel",
      "state": {
       "description_width": ""
      }
     },
     "1e3cfec78cc742f2a4fc6a4f44572110": {
      "model_module": "@jupyter-widgets/base",
      "model_module_version": "1.2.0",
      "model_name": "LayoutModel",
      "state": {}
     },
     "1e96b1553f554ad6bae4207487e87047": {
      "model_module": "@jupyter-widgets/base",
      "model_module_version": "1.2.0",
      "model_name": "LayoutModel",
      "state": {}
     },
     "1ebab2fcef4f4879b8cebbc3328c3bae": {
      "model_module": "@jupyter-widgets/controls",
      "model_module_version": "1.5.0",
      "model_name": "ButtonModel",
      "state": {
       "description": "Export Image",
       "layout": "IPY_MODEL_aeff36fd8bf54902a72f91d7e9f7390e",
       "style": "IPY_MODEL_189f84c012ff49a597eb04fa751f5e24"
      }
     },
     "1eca7adf22c94e41b0ee5cb02b113260": {
      "model_module": "@jupyter-widgets/controls",
      "model_module_version": "1.5.0",
      "model_name": "DropdownModel",
      "state": {
       "_options_labels": [
        "tanh",
        "atan",
        "simple"
       ],
       "description": "Compression Function:",
       "index": 0,
       "layout": "IPY_MODEL_a5ec86e70cbc4ab4b8aa8a345d680852",
       "style": "IPY_MODEL_b675dc35914648eb8dfd34b7a57387e1"
      }
     },
     "1ed565e1208a484097a832e3e6bf5120": {
      "model_module": "jupyter-matplotlib",
      "model_module_version": "^0.7.2",
      "model_name": "MPLCanvasModel",
      "state": {
       "_figure_label": "Figure 5",
       "_height": 1100,
       "_width": 1100,
       "layout": "IPY_MODEL_18229b939d4a425aaf76c337911c6586",
       "toolbar": "IPY_MODEL_1267fc0b108a4b9ebab607caaec73784",
       "toolbar_position": "left"
      }
     },
     "1f3fcb189cac4607b368c5899022f352": {
      "model_module": "@jupyter-widgets/base",
      "model_module_version": "1.2.0",
      "model_name": "LayoutModel",
      "state": {}
     },
     "1f4104700f1c4d8a8c6422f872e5e6df": {
      "model_module": "jupyter-matplotlib",
      "model_module_version": "^0.7.2",
      "model_name": "ToolbarModel",
      "state": {
       "layout": "IPY_MODEL_dffe60ebbda54badbb1ae4f09a5b59f5",
       "toolitems": [
        [
         "Home",
         "Reset original view",
         "home",
         "home"
        ],
        [
         "Back",
         "Back to previous view",
         "arrow-left",
         "back"
        ],
        [
         "Forward",
         "Forward to next view",
         "arrow-right",
         "forward"
        ],
        [
         "Pan",
         "Pan axes with left mouse, zoom with right",
         "arrows",
         "pan"
        ],
        [
         "Zoom",
         "Zoom to rectangle",
         "square-o",
         "zoom"
        ],
        [
         "Download",
         "Download plot",
         "floppy-o",
         "save_figure"
        ]
       ]
      }
     },
     "1f59433f09f04097949ebc0ce3e1284c": {
      "model_module": "@jupyter-widgets/controls",
      "model_module_version": "1.5.0",
      "model_name": "ButtonStyleModel",
      "state": {}
     },
     "1fe3f7d714b74e6f869f98512cd682fb": {
      "model_module": "@jupyter-widgets/base",
      "model_module_version": "1.2.0",
      "model_name": "LayoutModel",
      "state": {}
     },
     "1fef51527aff4011a62af45ed5f4ff70": {
      "model_module": "@jupyter-widgets/base",
      "model_module_version": "1.2.0",
      "model_name": "LayoutModel",
      "state": {}
     },
     "20163917f175422ab0643f3515d42644": {
      "model_module": "@jupyter-widgets/controls",
      "model_module_version": "1.5.0",
      "model_name": "SliderStyleModel",
      "state": {
       "description_width": ""
      }
     },
     "20480b105b234583838c2ddde8cd2a8c": {
      "model_module": "@jupyter-widgets/base",
      "model_module_version": "1.2.0",
      "model_name": "LayoutModel",
      "state": {}
     },
     "20b2bc7e477247ada0724a52e4df389b": {
      "model_module": "@jupyter-widgets/controls",
      "model_module_version": "1.5.0",
      "model_name": "ButtonStyleModel",
      "state": {}
     },
     "2138459402614fa190bb65f7dda1786c": {
      "model_module": "@jupyter-widgets/base",
      "model_module_version": "1.2.0",
      "model_name": "LayoutModel",
      "state": {}
     },
     "218024ed93da47ea97bd75d45c044bd1": {
      "model_module": "@jupyter-widgets/base",
      "model_module_version": "1.2.0",
      "model_name": "LayoutModel",
      "state": {}
     },
     "21a9f3989ed74eb1af1939045cd89641": {
      "model_module": "@jupyter-widgets/controls",
      "model_module_version": "1.5.0",
      "model_name": "ButtonStyleModel",
      "state": {}
     },
     "21c717b941754f7585c29a6a8b2c3333": {
      "model_module": "@jupyter-widgets/base",
      "model_module_version": "1.2.0",
      "model_name": "LayoutModel",
      "state": {
       "align_items": "stretch",
       "display": "flex",
       "flex_flow": "column",
       "width": "1128px"
      }
     },
     "21e8ee8b231442a5a39e3e3dca3441d2": {
      "model_module": "@jupyter-widgets/base",
      "model_module_version": "1.2.0",
      "model_name": "LayoutModel",
      "state": {}
     },
     "221fd60ce46b44368b0f4168b474fd9a": {
      "model_module": "@jupyter-widgets/base",
      "model_module_version": "1.2.0",
      "model_name": "LayoutModel",
      "state": {}
     },
     "224c29fd2c294567b56baa046d6cda1b": {
      "model_module": "@jupyter-widgets/controls",
      "model_module_version": "1.5.0",
      "model_name": "ButtonStyleModel",
      "state": {}
     },
     "2266104c7d7c4593bcd5c7c17bf24da6": {
      "model_module": "@jupyter-widgets/controls",
      "model_module_version": "1.5.0",
      "model_name": "ButtonModel",
      "state": {
       "description": "Reset Protected Area",
       "layout": "IPY_MODEL_15464b0f7f564b28ba9d096f2630acec",
       "style": "IPY_MODEL_522bd13831bc42d782a95f12b5aec6cb"
      }
     },
     "227074d9fd994e28864c2e9b8a5ee557": {
      "model_module": "@jupyter-widgets/controls",
      "model_module_version": "1.5.0",
      "model_name": "SliderStyleModel",
      "state": {
       "description_width": ""
      }
     },
     "228a76980df545bd9e1f51ed57a311c5": {
      "model_module": "@jupyter-widgets/base",
      "model_module_version": "1.2.0",
      "model_name": "LayoutModel",
      "state": {
       "border": "solid 4px #222",
       "margin": "4px",
       "padding": "0"
      }
     },
     "229e7f62159346ceab702d5a33a16326": {
      "model_module": "@jupyter-widgets/controls",
      "model_module_version": "1.5.0",
      "model_name": "HBoxModel",
      "state": {
       "children": [
        "IPY_MODEL_4302438cd5744a7d86c7b391d9e468cb",
        "IPY_MODEL_914884913ade4aebbe7ad430bdfcacbf",
        "IPY_MODEL_368c33d488014e78bf92f36bab4597d7",
        "IPY_MODEL_b5d641742a7849728285a6e562213a4e"
       ],
       "layout": "IPY_MODEL_6d95b7ff6aaf4a79be5f9007908c3e6b"
      }
     },
     "22db3d894bfb417ab80179b16e5dfd96": {
      "model_module": "@jupyter-widgets/base",
      "model_module_version": "1.2.0",
      "model_name": "LayoutModel",
      "state": {}
     },
     "22e0703a6af442f0be47f7a48299604b": {
      "model_module": "@jupyter-widgets/controls",
      "model_module_version": "1.5.0",
      "model_name": "ButtonModel",
      "state": {
       "description": "Save Figure",
       "layout": "IPY_MODEL_cb538526524d4d2ab0cedcffa0afbd6a",
       "style": "IPY_MODEL_1cec6fe072654f4493f7b52b44584d8f"
      }
     },
     "22e786ea614440eea9a5b0be35ba8d48": {
      "model_module": "@jupyter-widgets/base",
      "model_module_version": "1.2.0",
      "model_name": "LayoutModel",
      "state": {}
     },
     "2321be9f1483499a95cf45d2d84ab774": {
      "model_module": "@jupyter-widgets/base",
      "model_module_version": "1.2.0",
      "model_name": "LayoutModel",
      "state": {}
     },
     "234e44ef092544c3ac31b9099c3395b7": {
      "model_module": "@jupyter-widgets/base",
      "model_module_version": "1.2.0",
      "model_name": "LayoutModel",
      "state": {}
     },
     "23910c50973b4b98810dc98e9e07bbd6": {
      "model_module": "@jupyter-widgets/base",
      "model_module_version": "1.2.0",
      "model_name": "LayoutModel",
      "state": {}
     },
     "23957bd1022d48aa9e68e6e0cf6a7c68": {
      "model_module": "@jupyter-widgets/controls",
      "model_module_version": "1.5.0",
      "model_name": "FloatSliderModel",
      "state": {
       "description": "90°",
       "layout": "IPY_MODEL_18636d33a6f046b99f6cc1ac9567d6b8",
       "max": 1,
       "min": -1,
       "step": 0.01,
       "style": "IPY_MODEL_acf0f1ea2dfa44d6bcc51ee83b42b056"
      }
     },
     "239f58cfb9f14d4ea12c41ff3b69d91f": {
      "model_module": "@jupyter-widgets/base",
      "model_module_version": "1.2.0",
      "model_name": "LayoutModel",
      "state": {}
     },
     "23c6d757c8af4b10b17b84ebf3acda5f": {
      "model_module": "@jupyter-widgets/controls",
      "model_module_version": "1.5.0",
      "model_name": "CheckboxModel",
      "state": {
       "description": "Disable Medicina",
       "disabled": false,
       "layout": "IPY_MODEL_ca2a59ec41d14fa182bba40360f524d9",
       "style": "IPY_MODEL_ea7f7307528646648ec1db8c51b808c2",
       "value": false
      }
     },
     "23e3274a48c14b0596792e858de51fbf": {
      "model_module": "@jupyter-widgets/controls",
      "model_module_version": "1.5.0",
      "model_name": "ButtonModel",
      "state": {
       "description": "Reset Exposure",
       "layout": "IPY_MODEL_2456727dc64a45fc90106b62cd077b5f",
       "style": "IPY_MODEL_728e46f26a894e1fa7d30d81611e6d58"
      }
     },
     "23f29040e7624748afcfe84c9f5ffb0a": {
      "model_module": "@jupyter-widgets/base",
      "model_module_version": "1.2.0",
      "model_name": "LayoutModel",
      "state": {}
     },
     "240a0bb461c54f3fb7c1622e16512ed0": {
      "model_module": "@jupyter-widgets/controls",
      "model_module_version": "1.5.0",
      "model_name": "FloatSliderModel",
      "state": {
       "description": "180°",
       "layout": "IPY_MODEL_7202f6a94e8b48d1965c24f90bc851ee",
       "max": 1,
       "min": -1,
       "step": 0.01,
       "style": "IPY_MODEL_6d2883460a5f40778738f9ac2e84239e"
      }
     },
     "2456727dc64a45fc90106b62cd077b5f": {
      "model_module": "@jupyter-widgets/base",
      "model_module_version": "1.2.0",
      "model_name": "LayoutModel",
      "state": {}
     },
     "2461e2e3ef434803bcd1b483cddf245e": {
      "model_module": "@jupyter-widgets/base",
      "model_module_version": "1.2.0",
      "model_name": "LayoutModel",
      "state": {}
     },
     "24ce0c09dcd8452c81d3e6de30b81c91": {
      "model_module": "@jupyter-widgets/controls",
      "model_module_version": "1.5.0",
      "model_name": "TabModel",
      "state": {
       "_titles": {
        "0": "Global Controls"
       },
       "children": [
        "IPY_MODEL_e65ebfe3a29d4e7d82803c651ba65c59"
       ],
       "layout": "IPY_MODEL_529f80bc4633466ea16286dfda1c7ade"
      }
     },
     "2515473619fc4209be42fb1b7d24889b": {
      "model_module": "@jupyter-widgets/controls",
      "model_module_version": "1.5.0",
      "model_name": "SliderStyleModel",
      "state": {
       "description_width": ""
      }
     },
     "2566101c28c44f4e8cb83ed857400976": {
      "model_module": "@jupyter-widgets/controls",
      "model_module_version": "1.5.0",
      "model_name": "CheckboxModel",
      "state": {
       "description": "Disable Medicina",
       "disabled": false,
       "layout": "IPY_MODEL_e91347a2c3c54a43b0293a83f95e3fb6",
       "style": "IPY_MODEL_68fe86dd1bb041319fa279658f97fc57",
       "value": false
      }
     },
     "25816389167949be8ffd1d7035450adb": {
      "model_module": "@jupyter-widgets/base",
      "model_module_version": "1.2.0",
      "model_name": "LayoutModel",
      "state": {}
     },
     "258d2bb45f09428391ab95ce965efac0": {
      "model_module": "@jupyter-widgets/base",
      "model_module_version": "1.2.0",
      "model_name": "LayoutModel",
      "state": {}
     },
     "25c758996ca941bb9c0e695a4d1c99e0": {
      "model_module": "@jupyter-widgets/controls",
      "model_module_version": "1.5.0",
      "model_name": "ButtonStyleModel",
      "state": {}
     },
     "26087b9815474588a51187f4a6bcc575": {
      "model_module": "@jupyter-widgets/controls",
      "model_module_version": "1.5.0",
      "model_name": "DescriptionStyleModel",
      "state": {
       "description_width": ""
      }
     },
     "2610fe28ee90458fa0de838cbb87d964": {
      "model_module": "@jupyter-widgets/base",
      "model_module_version": "1.2.0",
      "model_name": "LayoutModel",
      "state": {}
     },
     "26246996cc214769bb31a1f30bf50d62": {
      "model_module": "@jupyter-widgets/base",
      "model_module_version": "1.2.0",
      "model_name": "LayoutModel",
      "state": {}
     },
     "26645ec7bdcb456792fafaf9033bb376": {
      "model_module": "@jupyter-widgets/base",
      "model_module_version": "1.2.0",
      "model_name": "LayoutModel",
      "state": {}
     },
     "26c7c2a811f84dfc88ca2a8b30d2a604": {
      "model_module": "@jupyter-widgets/base",
      "model_module_version": "1.2.0",
      "model_name": "LayoutModel",
      "state": {}
     },
     "26e7e25c608c429cb077dd3024769d56": {
      "model_module": "@jupyter-widgets/base",
      "model_module_version": "1.2.0",
      "model_name": "LayoutModel",
      "state": {}
     },
     "27248cf3b3614e148a2e97b82c7d3305": {
      "model_module": "@jupyter-widgets/controls",
      "model_module_version": "1.5.0",
      "model_name": "FloatSliderModel",
      "state": {
       "description": "Protected Area Threshold",
       "layout": "IPY_MODEL_cf4c75bc9d834526ac3fab4a9f847422",
       "max": 1,
       "step": 0.01,
       "style": "IPY_MODEL_be5f1c6127d84f889d07ec65d7ee863c",
       "value": 0.7
      }
     },
     "27347b6a6f0e4d5a89193e44c3c8ccee": {
      "model_module": "@jupyter-widgets/controls",
      "model_module_version": "1.5.0",
      "model_name": "FloatSliderModel",
      "state": {
       "description": "45°",
       "layout": "IPY_MODEL_bef2ebbee0b746a89d4b697ceac09594",
       "max": 1,
       "min": -1,
       "step": 0.01,
       "style": "IPY_MODEL_121a2534c084472f92dee8bf21f4877e"
      }
     },
     "274a4c214d7a40c8a3d7ffc911c49789": {
      "model_module": "@jupyter-widgets/base",
      "model_module_version": "1.2.0",
      "model_name": "LayoutModel",
      "state": {}
     },
     "2753421f560d42c0b80f6d3a9a60e47d": {
      "model_module": "@jupyter-widgets/base",
      "model_module_version": "1.2.0",
      "model_name": "LayoutModel",
      "state": {}
     },
     "27543a8991c74a9cbfdb225ce68b494a": {
      "model_module": "@jupyter-widgets/controls",
      "model_module_version": "1.5.0",
      "model_name": "FloatSliderModel",
      "state": {
       "description": "Exposure",
       "layout": "IPY_MODEL_9a64b07ff5e146b19abc92931d0ba0e6",
       "max": 8,
       "min": -8,
       "step": 0.1,
       "style": "IPY_MODEL_5833fab62292486991ae3f3fee05d329"
      }
     },
     "2759a77e7d954be3807c623aad9603ca": {
      "model_module": "@jupyter-widgets/base",
      "model_module_version": "1.2.0",
      "model_name": "LayoutModel",
      "state": {}
     },
     "2781078a04ac43999851191eb15a0492": {
      "model_module": "@jupyter-widgets/base",
      "model_module_version": "1.2.0",
      "model_name": "LayoutModel",
      "state": {}
     },
     "2788ef8e827b48edbbd376eefa97a3b4": {
      "model_module": "@jupyter-widgets/base",
      "model_module_version": "1.2.0",
      "model_name": "LayoutModel",
      "state": {
       "border": "solid 4px #222",
       "margin": "4px",
       "padding": "0"
      }
     },
     "2796de12df82486f8098aee77293e479": {
      "model_module": "@jupyter-widgets/base",
      "model_module_version": "1.2.0",
      "model_name": "LayoutModel",
      "state": {
       "align_items": "stretch",
       "display": "flex",
       "flex_flow": "column",
       "width": "1128px"
      }
     },
     "279a6c543310479fb11a858c12960f18": {
      "model_module": "@jupyter-widgets/controls",
      "model_module_version": "1.5.0",
      "model_name": "BoxModel",
      "state": {
       "children": [
        "IPY_MODEL_6fbd2f43b2164bf6895455ae79480f1b",
        "IPY_MODEL_507f428e86ac4f44862f02ae6965a5a4"
       ],
       "layout": "IPY_MODEL_2796de12df82486f8098aee77293e479"
      }
     },
     "27e1010395934ef082564948af7623be": {
      "model_module": "@jupyter-widgets/base",
      "model_module_version": "1.2.0",
      "model_name": "LayoutModel",
      "state": {}
     },
     "280619bd79304f6ba1da9422e5129563": {
      "model_module": "@jupyter-widgets/base",
      "model_module_version": "1.2.0",
      "model_name": "LayoutModel",
      "state": {}
     },
     "2812a594f8a14574b301494479f3e3e6": {
      "model_module": "@jupyter-widgets/base",
      "model_module_version": "1.2.0",
      "model_name": "LayoutModel",
      "state": {}
     },
     "28383dd9271b4de38d106be2ab73095a": {
      "model_module": "@jupyter-widgets/controls",
      "model_module_version": "1.5.0",
      "model_name": "ButtonModel",
      "state": {
       "description": "Save Figure",
       "layout": "IPY_MODEL_11d735274ebc42468a73a95709a09991",
       "style": "IPY_MODEL_76754f96e83a4e1cb31e22863efc7c9f"
      }
     },
     "283cb88ad2244363afc8b0c0c5a8b194": {
      "model_module": "@jupyter-widgets/base",
      "model_module_version": "1.2.0",
      "model_name": "LayoutModel",
      "state": {}
     },
     "28572316327a4702aa6dc023eccb4511": {
      "model_module": "@jupyter-widgets/base",
      "model_module_version": "1.2.0",
      "model_name": "LayoutModel",
      "state": {
       "border": "solid 4px #222",
       "margin": "4px",
       "padding": "0"
      }
     },
     "28a7196174f347a293e81e3cc721c6d9": {
      "model_module": "@jupyter-widgets/base",
      "model_module_version": "1.2.0",
      "model_name": "LayoutModel",
      "state": {}
     },
     "28bc4261f61945ce97efed80175c3133": {
      "model_module": "@jupyter-widgets/base",
      "model_module_version": "1.2.0",
      "model_name": "LayoutModel",
      "state": {
       "border": "solid 4px #222",
       "margin": "4px",
       "padding": "0"
      }
     },
     "2902015c8d664016a162723a585d10ad": {
      "model_module": "@jupyter-widgets/base",
      "model_module_version": "1.2.0",
      "model_name": "LayoutModel",
      "state": {}
     },
     "29338fa20e0949e79929d7290028e7cd": {
      "model_module": "@jupyter-widgets/base",
      "model_module_version": "1.2.0",
      "model_name": "LayoutModel",
      "state": {}
     },
     "297a9ae414784ed3a80a0fce8e8e5352": {
      "model_module": "@jupyter-widgets/base",
      "model_module_version": "1.2.0",
      "model_name": "LayoutModel",
      "state": {}
     },
     "298f07b9b6384885bfcb1ef8b6c811b4": {
      "model_module": "@jupyter-widgets/controls",
      "model_module_version": "1.5.0",
      "model_name": "DescriptionStyleModel",
      "state": {
       "description_width": ""
      }
     },
     "2995087e79d84cfd82faa33d7f8eefe4": {
      "model_module": "@jupyter-widgets/base",
      "model_module_version": "1.2.0",
      "model_name": "LayoutModel",
      "state": {}
     },
     "299e299fb1c04f4a95eceff8c12301f7": {
      "model_module": "@jupyter-widgets/base",
      "model_module_version": "1.2.0",
      "model_name": "LayoutModel",
      "state": {}
     },
     "29f3014617d1454690b6bd8d8dbe6e19": {
      "model_module": "@jupyter-widgets/controls",
      "model_module_version": "1.5.0",
      "model_name": "ButtonModel",
      "state": {
       "description": "Save Figure",
       "layout": "IPY_MODEL_a7d0e0f0913648df9712cf4c9867a79f",
       "style": "IPY_MODEL_9b9302202258420a9bab4729ed714eb6"
      }
     },
     "2a47542fe66c4fd3a5ec28d282e5c0a2": {
      "model_module": "@jupyter-widgets/base",
      "model_module_version": "1.2.0",
      "model_name": "LayoutModel",
      "state": {}
     },
     "2a5c1a44e960434db9ede378a12046ba": {
      "model_module": "@jupyter-widgets/base",
      "model_module_version": "1.2.0",
      "model_name": "LayoutModel",
      "state": {}
     },
     "2aa1f44762f94927aa9e06d1dbfef35a": {
      "model_module": "@jupyter-widgets/base",
      "model_module_version": "1.2.0",
      "model_name": "LayoutModel",
      "state": {}
     },
     "2ae6805243a1411cad7490220c50b510": {
      "model_module": "@jupyter-widgets/controls",
      "model_module_version": "1.5.0",
      "model_name": "DescriptionStyleModel",
      "state": {
       "description_width": ""
      }
     },
     "2b178f7f6b8d46e7be3127cd50a8c8fb": {
      "model_module": "@jupyter-widgets/controls",
      "model_module_version": "1.5.0",
      "model_name": "ButtonStyleModel",
      "state": {}
     },
     "2b1f3cc2bb4d4d61a2b3dd4a917b470f": {
      "model_module": "@jupyter-widgets/controls",
      "model_module_version": "1.5.0",
      "model_name": "FloatSliderModel",
      "state": {
       "description": "270°",
       "layout": "IPY_MODEL_2461e2e3ef434803bcd1b483cddf245e",
       "max": 1,
       "min": -1,
       "step": 0.01,
       "style": "IPY_MODEL_2d5316e08662454d971ebae82db871e1"
      }
     },
     "2b36e8afddc74e108f8ddfc382b96165": {
      "model_module": "@jupyter-widgets/base",
      "model_module_version": "1.2.0",
      "model_name": "LayoutModel",
      "state": {}
     },
     "2b4ed7b6d46d4d6c9368ea3a15daf873": {
      "model_module": "@jupyter-widgets/controls",
      "model_module_version": "1.5.0",
      "model_name": "HBoxModel",
      "state": {
       "children": [
        "IPY_MODEL_95e2b0642bae41c487b6499b230998ce",
        "IPY_MODEL_6981793f582b4fc9b10d41b3f1560c4d",
        "IPY_MODEL_797a6f0572fd470f84db150b8fb0aff9"
       ],
       "layout": "IPY_MODEL_2a5c1a44e960434db9ede378a12046ba"
      }
     },
     "2ba08d631ec046a1bc0ce1aabb42c401": {
      "model_module": "@jupyter-widgets/controls",
      "model_module_version": "1.5.0",
      "model_name": "FloatSliderModel",
      "state": {
       "description": "225°",
       "layout": "IPY_MODEL_b8898ff133bd4ee4888550dd6cb6efd2",
       "max": 1,
       "min": -1,
       "step": 0.01,
       "style": "IPY_MODEL_751a6edfc6234e8daede044c44d168e6"
      }
     },
     "2bda2b3888f842509034438ec757cb8f": {
      "model_module": "@jupyter-widgets/base",
      "model_module_version": "1.2.0",
      "model_name": "LayoutModel",
      "state": {}
     },
     "2bf97dd9ce67473cbda2d2660a0f1107": {
      "model_module": "@jupyter-widgets/base",
      "model_module_version": "1.2.0",
      "model_name": "LayoutModel",
      "state": {}
     },
     "2c0cf6cd48144c2c8e71d4792807c952": {
      "model_module": "@jupyter-widgets/controls",
      "model_module_version": "1.5.0",
      "model_name": "FloatSliderModel",
      "state": {
       "description": "Compression Threshold",
       "layout": "IPY_MODEL_2759a77e7d954be3807c623aad9603ca",
       "max": 1,
       "step": 0.01,
       "style": "IPY_MODEL_e4fa67ad9fbc4bcf85fe3aaa856fe850",
       "value": 0.8
      }
     },
     "2c402cfce7b64e7694c7e6ed2767d01e": {
      "model_module": "@jupyter-widgets/controls",
      "model_module_version": "1.5.0",
      "model_name": "ButtonModel",
      "state": {
       "description": "Save Figure",
       "layout": "IPY_MODEL_3285a2abfa634938aaff98dd0bf66d5f",
       "style": "IPY_MODEL_be1e1ec6807e4f7a8b525a9a9c4e9860"
      }
     },
     "2c57a04711554d8ca4f62ea553a90762": {
      "model_module": "@jupyter-widgets/controls",
      "model_module_version": "1.5.0",
      "model_name": "FloatSliderModel",
      "state": {
       "description": "Protected Area Threshold",
       "layout": "IPY_MODEL_a07b9f53dc784827912455e59f019440",
       "max": 1,
       "step": 0.01,
       "style": "IPY_MODEL_e49cf614b21f41429f67a4f20f84a00e",
       "value": 0.7
      }
     },
     "2c694d02bd2b46afb02995dad9ef8673": {
      "model_module": "@jupyter-widgets/base",
      "model_module_version": "1.2.0",
      "model_name": "LayoutModel",
      "state": {}
     },
     "2cec056e60264f32b01d3cf319d7a103": {
      "model_module": "@jupyter-widgets/controls",
      "model_module_version": "1.5.0",
      "model_name": "HBoxModel",
      "state": {
       "children": [
        "IPY_MODEL_025a80d6ba684bf9bf4794bc5da7c409",
        "IPY_MODEL_79acfc7529464c0fafbd8d99505e787a",
        "IPY_MODEL_d18cbf1b873848b19a4d09379bd6b40a",
        "IPY_MODEL_a5de085f003042c69a9442da824ed61c",
        "IPY_MODEL_d65449e075f34640baaacdbfbffe4e4e"
       ],
       "layout": "IPY_MODEL_371c837235a04a0b994ba2081026412b"
      }
     },
     "2d4e00aff3f54a74ad929a0adc5d4a86": {
      "model_module": "@jupyter-widgets/controls",
      "model_module_version": "1.5.0",
      "model_name": "ButtonStyleModel",
      "state": {}
     },
     "2d5316e08662454d971ebae82db871e1": {
      "model_module": "@jupyter-widgets/controls",
      "model_module_version": "1.5.0",
      "model_name": "SliderStyleModel",
      "state": {
       "description_width": ""
      }
     },
     "2d572613f44c468ea2c8876e9b03a580": {
      "model_module": "@jupyter-widgets/base",
      "model_module_version": "1.2.0",
      "model_name": "LayoutModel",
      "state": {
       "align_items": "stretch",
       "display": "flex",
       "flex_flow": "column",
       "width": "1128px"
      }
     },
     "2d76becd49ab490891d2b4dcc32e819d": {
      "model_module": "@jupyter-widgets/base",
      "model_module_version": "1.2.0",
      "model_name": "LayoutModel",
      "state": {}
     },
     "2d96c1fd798541498d4b66a960dbc882": {
      "model_module": "@jupyter-widgets/controls",
      "model_module_version": "1.5.0",
      "model_name": "HBoxModel",
      "state": {
       "children": [
        "IPY_MODEL_df39a3198d11493d9dabb927e0c2619a",
        "IPY_MODEL_27248cf3b3614e148a2e97b82c7d3305"
       ],
       "layout": "IPY_MODEL_4f33aa652a774d60810f3922b251f579"
      }
     },
     "2ddaa2e65ced436e9e0efda3d4046fbe": {
      "model_module": "jupyter-matplotlib",
      "model_module_version": "^0.7.2",
      "model_name": "ToolbarModel",
      "state": {
       "layout": "IPY_MODEL_58a8b51a09fe4571a4e212daca9bb0be",
       "toolitems": [
        [
         "Home",
         "Reset original view",
         "home",
         "home"
        ],
        [
         "Back",
         "Back to previous view",
         "arrow-left",
         "back"
        ],
        [
         "Forward",
         "Forward to next view",
         "arrow-right",
         "forward"
        ],
        [
         "Pan",
         "Pan axes with left mouse, zoom with right",
         "arrows",
         "pan"
        ],
        [
         "Zoom",
         "Zoom to rectangle",
         "square-o",
         "zoom"
        ],
        [
         "Download",
         "Download plot",
         "floppy-o",
         "save_figure"
        ]
       ]
      }
     },
     "2e08828fcfff4dbeb3c6cf3b78fe6681": {
      "model_module": "@jupyter-widgets/controls",
      "model_module_version": "1.5.0",
      "model_name": "VBoxModel",
      "state": {
       "children": [
        "IPY_MODEL_0072adfc4c6345b396281a1f10c45855",
        "IPY_MODEL_77b998708d534a5298110fa38765b06c",
        "IPY_MODEL_0745dcf993b0473b898b5497053d40c5"
       ],
       "layout": "IPY_MODEL_1fe3f7d714b74e6f869f98512cd682fb"
      }
     },
     "2e480785af4642088b438774efde917f": {
      "model_module": "@jupyter-widgets/base",
      "model_module_version": "1.2.0",
      "model_name": "LayoutModel",
      "state": {}
     },
     "2e83b5a6683f4b60bef568abd97c6448": {
      "model_module": "@jupyter-widgets/base",
      "model_module_version": "1.2.0",
      "model_name": "LayoutModel",
      "state": {
       "border": "solid 4px #222",
       "margin": "4px",
       "padding": "0"
      }
     },
     "2ef578d8ae7242e8b42a0af567c31fb2": {
      "model_module": "@jupyter-widgets/controls",
      "model_module_version": "1.5.0",
      "model_name": "ButtonStyleModel",
      "state": {}
     },
     "2f0415b47129461884be0ef36e0e7241": {
      "model_module": "@jupyter-widgets/controls",
      "model_module_version": "1.5.0",
      "model_name": "ButtonStyleModel",
      "state": {}
     },
     "2f581eafeb534ae2adeb42d79ef2a49e": {
      "model_module": "@jupyter-widgets/controls",
      "model_module_version": "1.5.0",
      "model_name": "ButtonModel",
      "state": {
       "description": "Reset Hue Controls",
       "layout": "IPY_MODEL_70ff1b2d54414de9bbd6e19c23402fa5",
       "style": "IPY_MODEL_57facedccb984fe4b3e6261b8397af2b"
      }
     },
     "2fd457aa19a74b29aeb3d90ce3f8a999": {
      "model_module": "@jupyter-widgets/base",
      "model_module_version": "1.2.0",
      "model_name": "LayoutModel",
      "state": {}
     },
     "2fe601cc558d464cb2711fe4f88fa6f8": {
      "model_module": "@jupyter-widgets/base",
      "model_module_version": "1.2.0",
      "model_name": "LayoutModel",
      "state": {}
     },
     "2ff8909381184813abf553090f8581bf": {
      "model_module": "@jupyter-widgets/base",
      "model_module_version": "1.2.0",
      "model_name": "LayoutModel",
      "state": {}
     },
     "30129a3821bd4cb483657bed38b35d86": {
      "model_module": "@jupyter-widgets/base",
      "model_module_version": "1.2.0",
      "model_name": "LayoutModel",
      "state": {}
     },
     "30205a12ff6547f887b34021edf165fc": {
      "model_module": "@jupyter-widgets/controls",
      "model_module_version": "1.5.0",
      "model_name": "CheckboxModel",
      "state": {
       "description": "Disable Medicina",
       "disabled": false,
       "layout": "IPY_MODEL_cebc13dc228d43be94938f12874703f5",
       "style": "IPY_MODEL_383bbc36ed744d04bcc4109b5eb73fdb",
       "value": false
      }
     },
     "302dac957ba44e7583459ee788cf133c": {
      "model_module": "@jupyter-widgets/controls",
      "model_module_version": "1.5.0",
      "model_name": "FloatSliderModel",
      "state": {
       "description": "135°",
       "layout": "IPY_MODEL_2aa1f44762f94927aa9e06d1dbfef35a",
       "max": 1,
       "min": -1,
       "step": 0.01,
       "style": "IPY_MODEL_aa85bc1bea5448fda32b598e5d50a327"
      }
     },
     "3050c988b03649d2ae4bd28917f112ec": {
      "model_module": "@jupyter-widgets/base",
      "model_module_version": "1.2.0",
      "model_name": "LayoutModel",
      "state": {}
     },
     "308c4c1165b54e2b905964ceaaec31f3": {
      "model_module": "@jupyter-widgets/base",
      "model_module_version": "1.2.0",
      "model_name": "LayoutModel",
      "state": {}
     },
     "30f46577ab3e4563bfddfb4058f20755": {
      "model_module": "@jupyter-widgets/controls",
      "model_module_version": "1.5.0",
      "model_name": "CheckboxModel",
      "state": {
       "description": "Disable Medicina",
       "disabled": false,
       "layout": "IPY_MODEL_407ee8258a144eeb8300ce334b966aee",
       "style": "IPY_MODEL_ce3eafba71af4a388e3253fba2284fea",
       "value": false
      }
     },
     "3119f92c6350482fa575803419ac4e43": {
      "model_module": "@jupyter-widgets/base",
      "model_module_version": "1.2.0",
      "model_name": "LayoutModel",
      "state": {}
     },
     "3126531619f54075bab3ff523ae9babc": {
      "model_module": "@jupyter-widgets/controls",
      "model_module_version": "1.5.0",
      "model_name": "ButtonStyleModel",
      "state": {}
     },
     "3142e7d7834d424680aa76ece7d65b6f": {
      "model_module": "@jupyter-widgets/base",
      "model_module_version": "1.2.0",
      "model_name": "LayoutModel",
      "state": {}
     },
     "31a384449bc24fb9981a3865efc7e74d": {
      "model_module": "@jupyter-widgets/controls",
      "model_module_version": "1.5.0",
      "model_name": "SliderStyleModel",
      "state": {
       "description_width": ""
      }
     },
     "31b77cd9ff454bfc9099da27198a25d1": {
      "model_module": "@jupyter-widgets/base",
      "model_module_version": "1.2.0",
      "model_name": "LayoutModel",
      "state": {}
     },
     "320d6e9517eb42eab27bcf6dd70751f9": {
      "model_module": "@jupyter-widgets/controls",
      "model_module_version": "1.5.0",
      "model_name": "SliderStyleModel",
      "state": {
       "description_width": ""
      }
     },
     "321b686fd7f141c0b35a11e67f53fd62": {
      "model_module": "@jupyter-widgets/controls",
      "model_module_version": "1.5.0",
      "model_name": "TabModel",
      "state": {
       "_titles": {
        "0": "Global Controls",
        "1": "Protected Area Controls",
        "2": "Saturation Controls",
        "3": "Hue Controls"
       },
       "children": [
        "IPY_MODEL_d4ef79452eee47c0bf39855e374ebcab",
        "IPY_MODEL_ff681d571f4f4fa1a2b2382bd01c7758",
        "IPY_MODEL_aeb7b04333ec45d78772f716e088150f",
        "IPY_MODEL_4d99e04cee624e0aa2636cc9b05433a1"
       ],
       "layout": "IPY_MODEL_228a76980df545bd9e1f51ed57a311c5"
      }
     },
     "3267a901366047f99c3deb07509574dc": {
      "model_module": "@jupyter-widgets/controls",
      "model_module_version": "1.5.0",
      "model_name": "FloatSliderModel",
      "state": {
       "description": "315°",
       "layout": "IPY_MODEL_d7c135ff1bb845dfb6fce961f79f2e5b",
       "max": 1,
       "min": -1,
       "step": 0.01,
       "style": "IPY_MODEL_4fcf6cded35f45b590f795a5af8e2ad8"
      }
     },
     "3285a2abfa634938aaff98dd0bf66d5f": {
      "model_module": "@jupyter-widgets/base",
      "model_module_version": "1.2.0",
      "model_name": "LayoutModel",
      "state": {}
     },
     "32f08599231b44efb122c90911fe2777": {
      "model_module": "jupyter-matplotlib",
      "model_module_version": "^0.7.2",
      "model_name": "ToolbarModel",
      "state": {
       "layout": "IPY_MODEL_2753421f560d42c0b80f6d3a9a60e47d",
       "toolitems": [
        [
         "Home",
         "Reset original view",
         "home",
         "home"
        ],
        [
         "Back",
         "Back to previous view",
         "arrow-left",
         "back"
        ],
        [
         "Forward",
         "Forward to next view",
         "arrow-right",
         "forward"
        ],
        [
         "Pan",
         "Pan axes with left mouse, zoom with right",
         "arrows",
         "pan"
        ],
        [
         "Zoom",
         "Zoom to rectangle",
         "square-o",
         "zoom"
        ],
        [
         "Download",
         "Download plot",
         "floppy-o",
         "save_figure"
        ]
       ]
      }
     },
     "32fb7d1758894ce4a7aa558b8b9ebb30": {
      "model_module": "@jupyter-widgets/controls",
      "model_module_version": "1.5.0",
      "model_name": "FloatSliderModel",
      "state": {
       "description": "45°",
       "layout": "IPY_MODEL_40457b87ee14480baa11bbe70b85c7ed",
       "max": 1,
       "min": -1,
       "step": 0.01,
       "style": "IPY_MODEL_7138a1c1c78849d0af12abee1d7ceae7"
      }
     },
     "330d2e65bcde4009bf58e522558ae7ec": {
      "model_module": "@jupyter-widgets/controls",
      "model_module_version": "1.5.0",
      "model_name": "SliderStyleModel",
      "state": {
       "description_width": ""
      }
     },
     "335ae429bfea4bb4bbfaa0f2399b17c6": {
      "model_module": "jupyter-matplotlib",
      "model_module_version": "^0.7.2",
      "model_name": "MPLCanvasModel",
      "state": {
       "_figure_label": "Figure 22",
       "_height": 440,
       "_width": 1100,
       "header_visible": false,
       "layout": "IPY_MODEL_84b5962454a947e688761bcd90414212",
       "resizable": false,
       "toolbar": "IPY_MODEL_34f3b70d412f4e0c8c84420e629b0556",
       "toolbar_position": "left",
       "toolbar_visible": false
      }
     },
     "33c723c5ddc64c59b1a1c33a32508cf6": {
      "model_module": "@jupyter-widgets/base",
      "model_module_version": "1.2.0",
      "model_name": "LayoutModel",
      "state": {}
     },
     "33ecf946491d4a8ab1f49a5c7a6f15ab": {
      "model_module": "@jupyter-widgets/controls",
      "model_module_version": "1.5.0",
      "model_name": "VBoxModel",
      "state": {
       "children": [
        "IPY_MODEL_302dac957ba44e7583459ee788cf133c",
        "IPY_MODEL_154c9f06b74445f3baa46c6ee7fafcb4",
        "IPY_MODEL_5e3796bcb9ed43b2b40b7c11ed45e715"
       ],
       "layout": "IPY_MODEL_6826feb6339e49f183045af887ab55bc"
      }
     },
     "341067d456734c24978a32ee1586cf30": {
      "model_module": "@jupyter-widgets/base",
      "model_module_version": "1.2.0",
      "model_name": "LayoutModel",
      "state": {}
     },
     "341ab81d87c94e9cbe13193527a4c325": {
      "model_module": "@jupyter-widgets/controls",
      "model_module_version": "1.5.0",
      "model_name": "ButtonModel",
      "state": {
       "description": "Reset Exposure",
       "layout": "IPY_MODEL_b8791cc083ea4d438daf9c269c350648",
       "style": "IPY_MODEL_ae0e56c0e339466592842cbffe577dac"
      }
     },
     "3446f2b9664546ad825f59134b92d5f0": {
      "model_module": "@jupyter-widgets/controls",
      "model_module_version": "1.5.0",
      "model_name": "ButtonStyleModel",
      "state": {}
     },
     "345cbd89cee8476aa4391afccd1fbe48": {
      "model_module": "@jupyter-widgets/output",
      "model_module_version": "1.0.0",
      "model_name": "OutputModel",
      "state": {
       "layout": "IPY_MODEL_813ee7dacf714c0899d3e9225850d83e",
       "outputs": [
        {
         "data": {
          "application/vnd.jupyter.widget-view+json": {
           "model_id": "adb822f5b105447ea30810e20562c283",
           "version_major": 2,
           "version_minor": 0
          },
          "text/plain": "Canvas(toolbar=Toolbar(toolitems=[('Home', 'Reset original view', 'home', 'home'), ('Back', 'Back to previous …"
         },
         "metadata": {},
         "output_type": "display_data"
        }
       ]
      }
     },
     "345fcda9d5cc4e75b2dd69a2757d135e": {
      "model_module": "@jupyter-widgets/controls",
      "model_module_version": "1.5.0",
      "model_name": "ButtonStyleModel",
      "state": {}
     },
     "34f3b70d412f4e0c8c84420e629b0556": {
      "model_module": "jupyter-matplotlib",
      "model_module_version": "^0.7.2",
      "model_name": "ToolbarModel",
      "state": {
       "layout": "IPY_MODEL_41d36eb417cc4b189565e1c3a510ac4a",
       "toolitems": [
        [
         "Home",
         "Reset original view",
         "home",
         "home"
        ],
        [
         "Back",
         "Back to previous view",
         "arrow-left",
         "back"
        ],
        [
         "Forward",
         "Forward to next view",
         "arrow-right",
         "forward"
        ],
        [
         "Pan",
         "Pan axes with left mouse, zoom with right",
         "arrows",
         "pan"
        ],
        [
         "Zoom",
         "Zoom to rectangle",
         "square-o",
         "zoom"
        ],
        [
         "Download",
         "Download plot",
         "floppy-o",
         "save_figure"
        ]
       ]
      }
     },
     "350371c62c8d41908e770e9380661167": {
      "model_module": "@jupyter-widgets/base",
      "model_module_version": "1.2.0",
      "model_name": "LayoutModel",
      "state": {}
     },
     "350a36fea5ed4c7f907377cfed0a1f11": {
      "model_module": "@jupyter-widgets/controls",
      "model_module_version": "1.5.0",
      "model_name": "ButtonStyleModel",
      "state": {}
     },
     "350e0b4bf4b147ca8529c69bc8b22b9f": {
      "model_module": "@jupyter-widgets/controls",
      "model_module_version": "1.5.0",
      "model_name": "FloatSliderModel",
      "state": {
       "description": "270°",
       "layout": "IPY_MODEL_a6f0e652eacc40c4af597f4f42f8c7e3",
       "max": 1,
       "min": -1,
       "step": 0.01,
       "style": "IPY_MODEL_89afd0fb3b33493d81fe04bb0194c26b"
      }
     },
     "351a820807b243d8baec3676a06e68b6": {
      "model_module": "@jupyter-widgets/controls",
      "model_module_version": "1.5.0",
      "model_name": "SliderStyleModel",
      "state": {
       "description_width": ""
      }
     },
     "3538f490824c4318a353ffca8ad29227": {
      "model_module": "@jupyter-widgets/base",
      "model_module_version": "1.2.0",
      "model_name": "LayoutModel",
      "state": {}
     },
     "357d1c14ac1640c4a9de90523b16770d": {
      "model_module": "@jupyter-widgets/controls",
      "model_module_version": "1.5.0",
      "model_name": "FloatSliderModel",
      "state": {
       "description": "225°",
       "layout": "IPY_MODEL_787552e6f02442a58d04cfef0e1d143b",
       "max": 1,
       "min": -1,
       "step": 0.01,
       "style": "IPY_MODEL_e91ead6346ba4e36b6cb5e2ef011d0ab"
      }
     },
     "359f3a42b8e8438294c8534c9d4ff0ab": {
      "model_module": "@jupyter-widgets/controls",
      "model_module_version": "1.5.0",
      "model_name": "DescriptionStyleModel",
      "state": {
       "description_width": ""
      }
     },
     "35ab608d14904fbb8e4b039cd732d78f": {
      "model_module": "@jupyter-widgets/base",
      "model_module_version": "1.2.0",
      "model_name": "LayoutModel",
      "state": {
       "border": "solid 4px #222",
       "margin": "4px",
       "padding": "0"
      }
     },
     "36026e5e4af64bf39470ea2f8d833e5d": {
      "model_module": "@jupyter-widgets/controls",
      "model_module_version": "1.5.0",
      "model_name": "HBoxModel",
      "state": {
       "children": [
        "IPY_MODEL_be3b5cdfd8a645ae952a7054da152eb9",
        "IPY_MODEL_70cf0f47f86b42a2bfa0a26bccd3e1cd",
        "IPY_MODEL_84e43de6da4843aca85cf6b25c4de939",
        "IPY_MODEL_3e2160cab38a422ca73f4de6ba145e61",
        "IPY_MODEL_8089e1ee5ffb423ab0f6eaa252181973"
       ],
       "layout": "IPY_MODEL_982f62dd0d7e423b9b9c5d7cd92f806f"
      }
     },
     "3625813234be409d9e0384e28bc94fad": {
      "model_module": "@jupyter-widgets/base",
      "model_module_version": "1.2.0",
      "model_name": "LayoutModel",
      "state": {}
     },
     "36435c9b8d6040bda11cd95c82757b33": {
      "model_module": "@jupyter-widgets/controls",
      "model_module_version": "1.5.0",
      "model_name": "FloatSliderModel",
      "state": {
       "description": "Exposure",
       "layout": "IPY_MODEL_26c7c2a811f84dfc88ca2a8b30d2a604",
       "max": 8,
       "min": -8,
       "step": 0.1,
       "style": "IPY_MODEL_a0c4e994a2a94895a33e571c534d851a"
      }
     },
     "368c33d488014e78bf92f36bab4597d7": {
      "model_module": "@jupyter-widgets/controls",
      "model_module_version": "1.5.0",
      "model_name": "VBoxModel",
      "state": {
       "children": [
        "IPY_MODEL_e5415bc9d63142ee88475db62b7f3d38",
        "IPY_MODEL_5df056076922406b92dfbb9b3224d8bc",
        "IPY_MODEL_357d1c14ac1640c4a9de90523b16770d"
       ],
       "layout": "IPY_MODEL_f5ac0691391549c58cd4baa8e71ed2af"
      }
     },
     "3693022d99cd498d9d203990f9866d50": {
      "model_module": "@jupyter-widgets/base",
      "model_module_version": "1.2.0",
      "model_name": "LayoutModel",
      "state": {}
     },
     "36af5de8688f4947986320c183ce9849": {
      "model_module": "@jupyter-widgets/base",
      "model_module_version": "1.2.0",
      "model_name": "LayoutModel",
      "state": {}
     },
     "36bdfce9380544d584566edc4877608a": {
      "model_module": "@jupyter-widgets/controls",
      "model_module_version": "1.5.0",
      "model_name": "VBoxModel",
      "state": {
       "children": [
        "IPY_MODEL_350e0b4bf4b147ca8529c69bc8b22b9f",
        "IPY_MODEL_e4c7f728c6e64c6cad2d154d03c3d3a8"
       ],
       "layout": "IPY_MODEL_6dd4703e23e64dbface98a497d6a92d0"
      }
     },
     "371c837235a04a0b994ba2081026412b": {
      "model_module": "@jupyter-widgets/base",
      "model_module_version": "1.2.0",
      "model_name": "LayoutModel",
      "state": {}
     },
     "37400ca49d00448b9335ec96bd35e321": {
      "model_module": "@jupyter-widgets/base",
      "model_module_version": "1.2.0",
      "model_name": "LayoutModel",
      "state": {}
     },
     "37804478cadc44a18c566742e8056904": {
      "model_module": "@jupyter-widgets/controls",
      "model_module_version": "1.5.0",
      "model_name": "DescriptionStyleModel",
      "state": {
       "description_width": ""
      }
     },
     "3796bfa4299a4e1eb509a05361e0993c": {
      "model_module": "@jupyter-widgets/base",
      "model_module_version": "1.2.0",
      "model_name": "LayoutModel",
      "state": {}
     },
     "37a13aff83c7486187601a71e07f05fe": {
      "model_module": "@jupyter-widgets/controls",
      "model_module_version": "1.5.0",
      "model_name": "SliderStyleModel",
      "state": {
       "description_width": ""
      }
     },
     "37e2e81888de4a76b124feb0731861bd": {
      "model_module": "@jupyter-widgets/controls",
      "model_module_version": "1.5.0",
      "model_name": "HBoxModel",
      "state": {
       "children": [
        "IPY_MODEL_38c32fc05d0e405c8aa90bbbe6f2d413",
        "IPY_MODEL_5a8787cb337247778bb5846809a13be4",
        "IPY_MODEL_8d040345889949a5945985e0a531d0b5"
       ],
       "layout": "IPY_MODEL_503c1ac71e554ad38963a32e549cb63f"
      }
     },
     "37ed6c266df044e29ed8deaa4ae48f25": {
      "model_module": "@jupyter-widgets/output",
      "model_module_version": "1.0.0",
      "model_name": "OutputModel",
      "state": {
       "layout": "IPY_MODEL_2788ef8e827b48edbbd376eefa97a3b4",
       "outputs": [
        {
         "data": {
          "application/vnd.jupyter.widget-view+json": {
           "model_id": "d30e38a5f2594fd59484eb975e2dea1e",
           "version_major": 2,
           "version_minor": 0
          },
          "text/plain": "Canvas(toolbar=Toolbar(toolitems=[('Home', 'Reset original view', 'home', 'home'), ('Back', 'Back to previous …"
         },
         "metadata": {},
         "output_type": "display_data"
        }
       ]
      }
     },
     "3828520957574c2792185ae0dc8c4c13": {
      "model_module": "@jupyter-widgets/base",
      "model_module_version": "1.2.0",
      "model_name": "LayoutModel",
      "state": {}
     },
     "383bbc36ed744d04bcc4109b5eb73fdb": {
      "model_module": "@jupyter-widgets/controls",
      "model_module_version": "1.5.0",
      "model_name": "DescriptionStyleModel",
      "state": {
       "description_width": ""
      }
     },
     "38499e7a50314b3bad8bd947b0c55384": {
      "model_module": "@jupyter-widgets/base",
      "model_module_version": "1.2.0",
      "model_name": "LayoutModel",
      "state": {}
     },
     "384edac3660c491cae04510c688c32f9": {
      "model_module": "@jupyter-widgets/controls",
      "model_module_version": "1.5.0",
      "model_name": "SliderStyleModel",
      "state": {
       "description_width": ""
      }
     },
     "3850389fe385483aa6745ef45d42d1c6": {
      "model_module": "@jupyter-widgets/base",
      "model_module_version": "1.2.0",
      "model_name": "LayoutModel",
      "state": {}
     },
     "3855a1a392fa4a5a8f984cc701c9bd80": {
      "model_module": "@jupyter-widgets/controls",
      "model_module_version": "1.5.0",
      "model_name": "CheckboxModel",
      "state": {
       "description": "Disable Medicina",
       "disabled": false,
       "layout": "IPY_MODEL_b9f9b2b02d934756ad48c2dbfff5ad34",
       "style": "IPY_MODEL_a8843bfbe75a4717b372935a21bc7a56",
       "value": false
      }
     },
     "38595eb1ae314788981cd87d039d4fcf": {
      "model_module": "@jupyter-widgets/controls",
      "model_module_version": "1.5.0",
      "model_name": "ButtonStyleModel",
      "state": {}
     },
     "3879415c0f1b459187dc59cc81961cda": {
      "model_module": "@jupyter-widgets/controls",
      "model_module_version": "1.5.0",
      "model_name": "TabModel",
      "state": {
       "_titles": {
        "0": "Global Controls",
        "1": "Compression Controls"
       },
       "children": [
        "IPY_MODEL_dda9a2eaaa0a4e359d4c26a51b4cbec9",
        "IPY_MODEL_53c7b3951e3e43bb8b106a47c5fb3617"
       ],
       "layout": "IPY_MODEL_35ab608d14904fbb8e4b039cd732d78f"
      }
     },
     "387e9f4a8a624891b879aa93e767af8e": {
      "model_module": "@jupyter-widgets/base",
      "model_module_version": "1.2.0",
      "model_name": "LayoutModel",
      "state": {}
     },
     "3894e6535b9c4489b6905f686cc0b065": {
      "model_module": "@jupyter-widgets/controls",
      "model_module_version": "1.5.0",
      "model_name": "FloatSliderModel",
      "state": {
       "description": "Compression Threshold",
       "layout": "IPY_MODEL_962f67c9ed2249d08ea0ad58369878b6",
       "max": 1,
       "step": 0.01,
       "style": "IPY_MODEL_6a1e35dd0d464cbd8fdd0b8d7044453f",
       "value": 0.5
      }
     },
     "3895a1f84c974e87b744b9982dd8876d": {
      "model_module": "@jupyter-widgets/controls",
      "model_module_version": "1.5.0",
      "model_name": "FloatSliderModel",
      "state": {
       "description": "Compression Threshold",
       "layout": "IPY_MODEL_1aa3274acd714afa8cc2c0197218025d",
       "max": 1,
       "step": 0.01,
       "style": "IPY_MODEL_9e81ca81906a41a78e1e469e7484f8a8",
       "value": 0.8
      }
     },
     "38af8beec3a34b48a6b61db9df0024cf": {
      "model_module": "@jupyter-widgets/controls",
      "model_module_version": "1.5.0",
      "model_name": "HBoxModel",
      "state": {
       "children": [
        "IPY_MODEL_803198f689884a26b033316832dca136",
        "IPY_MODEL_3c6298e3a7214cf5becbaedd77823989",
        "IPY_MODEL_28383dd9271b4de38d106be2ab73095a",
        "IPY_MODEL_135dc4e5f750410f8cb4698942f8315f",
        "IPY_MODEL_dd75016b3ec74a2b829fe1362506dd9f"
       ],
       "layout": "IPY_MODEL_3119f92c6350482fa575803419ac4e43"
      }
     },
     "38c32fc05d0e405c8aa90bbbe6f2d413": {
      "model_module": "@jupyter-widgets/controls",
      "model_module_version": "1.5.0",
      "model_name": "ButtonModel",
      "state": {
       "description": "Reset Saturation Controls",
       "layout": "IPY_MODEL_18d1e6375a08424898d91b43e5c99bd0",
       "style": "IPY_MODEL_56a1cc5eb5d245ec94704a2002ae63dd"
      }
     },
     "38dedb40e08c43bdb518d3d8866d47b0": {
      "model_module": "@jupyter-widgets/controls",
      "model_module_version": "1.5.0",
      "model_name": "ButtonStyleModel",
      "state": {}
     },
     "395e8ddf81634df1a4dbd82f6e6a2a1c": {
      "model_module": "@jupyter-widgets/base",
      "model_module_version": "1.2.0",
      "model_name": "LayoutModel",
      "state": {}
     },
     "39710675d29548a4b54693c8c95432df": {
      "model_module": "@jupyter-widgets/base",
      "model_module_version": "1.2.0",
      "model_name": "LayoutModel",
      "state": {}
     },
     "39ad63d7df444b1ab0f4b3ae18d89a57": {
      "model_module": "@jupyter-widgets/controls",
      "model_module_version": "1.5.0",
      "model_name": "ButtonModel",
      "state": {
       "description": "Reset Compression Controls",
       "layout": "IPY_MODEL_451f21f693064377b37559def3d11136",
       "style": "IPY_MODEL_43aadf3a8e2549f7a79c927ef7c2a563"
      }
     },
     "39c17fb112bf4ebeb3216c94231c984f": {
      "model_module": "@jupyter-widgets/base",
      "model_module_version": "1.2.0",
      "model_name": "LayoutModel",
      "state": {}
     },
     "3a0f82f7d34447d68a412c755dd8450d": {
      "model_module": "@jupyter-widgets/controls",
      "model_module_version": "1.5.0",
      "model_name": "ButtonStyleModel",
      "state": {}
     },
     "3a92924db75c4c7b977237353955198a": {
      "model_module": "@jupyter-widgets/controls",
      "model_module_version": "1.5.0",
      "model_name": "FloatSliderModel",
      "state": {
       "description": "180°",
       "layout": "IPY_MODEL_221fd60ce46b44368b0f4168b474fd9a",
       "max": 1,
       "min": -1,
       "step": 0.01,
       "style": "IPY_MODEL_b5d73db83b9743efbfc74c1ebbd3a5be"
      }
     },
     "3ab9fe2b35894059b8a5431d5b3d52fb": {
      "model_module": "@jupyter-widgets/controls",
      "model_module_version": "1.5.0",
      "model_name": "VBoxModel",
      "state": {
       "children": [
        "IPY_MODEL_bb6d7648db3c49278a12c69e4f144753",
        "IPY_MODEL_8c2e1dc02960468b963d321b599e5525",
        "IPY_MODEL_3ad31bf0f71a4e7682419d1d53ba9e01"
       ],
       "layout": "IPY_MODEL_e2b7f94a8b134919b601affc12549d9c"
      }
     },
     "3ad31bf0f71a4e7682419d1d53ba9e01": {
      "model_module": "@jupyter-widgets/controls",
      "model_module_version": "1.5.0",
      "model_name": "FloatSliderModel",
      "state": {
       "description": "225°",
       "layout": "IPY_MODEL_d9c69739c19d44359eb165bf90f3eccb",
       "max": 1,
       "min": -1,
       "step": 0.01,
       "style": "IPY_MODEL_1e109ab89e7646d1a59ebf84881684d5"
      }
     },
     "3adb66cd3e4c4b0bb1590ab266b9bbb5": {
      "model_module": "@jupyter-widgets/base",
      "model_module_version": "1.2.0",
      "model_name": "LayoutModel",
      "state": {}
     },
     "3af3adc054134108a98364cce0f04a7a": {
      "model_module": "@jupyter-widgets/controls",
      "model_module_version": "1.5.0",
      "model_name": "SliderStyleModel",
      "state": {
       "description_width": ""
      }
     },
     "3b024faaea084dbe806e8d5c71f9e7d9": {
      "model_module": "@jupyter-widgets/base",
      "model_module_version": "1.2.0",
      "model_name": "LayoutModel",
      "state": {}
     },
     "3b5251bff49a4e54ad520f9e56d71146": {
      "model_module": "@jupyter-widgets/controls",
      "model_module_version": "1.5.0",
      "model_name": "DescriptionStyleModel",
      "state": {
       "description_width": ""
      }
     },
     "3bb5b53caa8344ed8678b26a5bf8c7f5": {
      "model_module": "@jupyter-widgets/base",
      "model_module_version": "1.2.0",
      "model_name": "LayoutModel",
      "state": {}
     },
     "3bc68b1f147c4edb85fcc6e82e1ab4d6": {
      "model_module": "@jupyter-widgets/base",
      "model_module_version": "1.2.0",
      "model_name": "LayoutModel",
      "state": {}
     },
     "3beb38f5e41d447abaf6d379f6bc0e4e": {
      "model_module": "@jupyter-widgets/base",
      "model_module_version": "1.2.0",
      "model_name": "LayoutModel",
      "state": {}
     },
     "3c3cd61c31f54d6a83e6f8fe1bcc0840": {
      "model_module": "@jupyter-widgets/controls",
      "model_module_version": "1.5.0",
      "model_name": "FloatSliderModel",
      "state": {
       "description": "Protected Area Threshold",
       "layout": "IPY_MODEL_b3656bbc705c409e87a65686c8e46e9b",
       "max": 1,
       "step": 0.01,
       "style": "IPY_MODEL_bf5c1c69029b4e428cb7f5b65226e97f",
       "value": 0.5
      }
     },
     "3c454b76379d4a5b8953c0bea89bcf31": {
      "model_module": "@jupyter-widgets/base",
      "model_module_version": "1.2.0",
      "model_name": "LayoutModel",
      "state": {
       "border": "solid 4px #222",
       "margin": "4px",
       "padding": "0"
      }
     },
     "3c6298e3a7214cf5becbaedd77823989": {
      "model_module": "@jupyter-widgets/controls",
      "model_module_version": "1.5.0",
      "model_name": "ButtonModel",
      "state": {
       "description": "Export Image",
       "layout": "IPY_MODEL_1bc6044af4c6443bb7caa011b2da2df7",
       "style": "IPY_MODEL_c2249a3c813d4d25819aa487868cbe01"
      }
     },
     "3c6cf04ef87c4f7daa40ce5145621198": {
      "model_module": "@jupyter-widgets/controls",
      "model_module_version": "1.5.0",
      "model_name": "BoxModel",
      "state": {
       "children": [
        "IPY_MODEL_1ccd546cb45b4dac9735028da29da568",
        "IPY_MODEL_f813b53a3006456cb3707690bc3bde70"
       ],
       "layout": "IPY_MODEL_fd3126d8a64c4489ad7368753a18c132"
      }
     },
     "3c87f56a01924b67a5637cb40df80c8d": {
      "model_module": "@jupyter-widgets/base",
      "model_module_version": "1.2.0",
      "model_name": "LayoutModel",
      "state": {}
     },
     "3ccfbda046754f6dac95eba970dfecf3": {
      "model_module": "@jupyter-widgets/output",
      "model_module_version": "1.0.0",
      "model_name": "OutputModel",
      "state": {
       "layout": "IPY_MODEL_662bac51621242398121308e07ee2423",
       "outputs": [
        {
         "data": {
          "application/vnd.jupyter.widget-view+json": {
           "model_id": "4c51a342ca0d4e9c885893137313a41e",
           "version_major": 2,
           "version_minor": 0
          },
          "text/plain": "Canvas(toolbar=Toolbar(toolitems=[('Home', 'Reset original view', 'home', 'home'), ('Back', 'Back to previous …"
         },
         "metadata": {},
         "output_type": "display_data"
        }
       ]
      }
     },
     "3d663ee20b994c3d982eba3861053d90": {
      "model_module": "@jupyter-widgets/base",
      "model_module_version": "1.2.0",
      "model_name": "LayoutModel",
      "state": {}
     },
     "3d950852015848d9ac5ac7fa8eea7e01": {
      "model_module": "@jupyter-widgets/base",
      "model_module_version": "1.2.0",
      "model_name": "LayoutModel",
      "state": {}
     },
     "3d9dbf6f95594f70b93dd0ca69f1819a": {
      "model_module": "@jupyter-widgets/controls",
      "model_module_version": "1.5.0",
      "model_name": "BoxModel",
      "state": {
       "children": [
        "IPY_MODEL_41c773d3b2b44bdd993e74f6beb96047",
        "IPY_MODEL_7a8b4c98616e490bbda28b45d650e35b"
       ],
       "layout": "IPY_MODEL_1455056be61d4e64a37ed0a01ec8b87c"
      }
     },
     "3dca2a4f3e8946bdad6b4da1549e940a": {
      "model_module": "@jupyter-widgets/base",
      "model_module_version": "1.2.0",
      "model_name": "LayoutModel",
      "state": {}
     },
     "3e2160cab38a422ca73f4de6ba145e61": {
      "model_module": "@jupyter-widgets/controls",
      "model_module_version": "1.5.0",
      "model_name": "ButtonModel",
      "state": {
       "description": "Reset Exposure",
       "layout": "IPY_MODEL_1fef51527aff4011a62af45ed5f4ff70",
       "style": "IPY_MODEL_5d36b67ddafd4c15b31b76e47b1f84ac"
      }
     },
     "3e2e97783c2548ebb4c5ee9c0c2ff268": {
      "model_module": "@jupyter-widgets/base",
      "model_module_version": "1.2.0",
      "model_name": "LayoutModel",
      "state": {}
     },
     "3e372d8552ec4597a9261d40d870f8ad": {
      "model_module": "@jupyter-widgets/controls",
      "model_module_version": "1.5.0",
      "model_name": "ButtonModel",
      "state": {
       "description": "Export Image",
       "layout": "IPY_MODEL_2c694d02bd2b46afb02995dad9ef8673",
       "style": "IPY_MODEL_4c7aa901ee7d4c06bb920f62b022500b"
      }
     },
     "3e3f04209fc6403aac5bfee1851fd336": {
      "model_module": "@jupyter-widgets/base",
      "model_module_version": "1.2.0",
      "model_name": "LayoutModel",
      "state": {}
     },
     "3e518dbe8f45478fa033527d4e35141b": {
      "model_module": "@jupyter-widgets/controls",
      "model_module_version": "1.5.0",
      "model_name": "ButtonModel",
      "state": {
       "description": "Reset Protected Area",
       "layout": "IPY_MODEL_23f29040e7624748afcfe84c9f5ffb0a",
       "style": "IPY_MODEL_408c5966bc6240ca809d4c3975787cc7"
      }
     },
     "3e5cdd82bea94ae7b53d976cd87586c9": {
      "model_module": "@jupyter-widgets/base",
      "model_module_version": "1.2.0",
      "model_name": "LayoutModel",
      "state": {}
     },
     "3e626d77c25743768fdf15972b951781": {
      "model_module": "@jupyter-widgets/controls",
      "model_module_version": "1.5.0",
      "model_name": "HBoxModel",
      "state": {
       "children": [
        "IPY_MODEL_4c26f28edc554a569e71c84832f10490",
        "IPY_MODEL_b541c016c5814849822e292c9a958074",
        "IPY_MODEL_c06166ea1b444af9ab7862dd516dfc15",
        "IPY_MODEL_77f7ca731f784b22b80a6601174f1970"
       ],
       "layout": "IPY_MODEL_729146bb2ed8420aa9c2c22314077dc2"
      }
     },
     "3e7dce631d9d494299e8bd55be39a644": {
      "model_module": "@jupyter-widgets/controls",
      "model_module_version": "1.5.0",
      "model_name": "ButtonModel",
      "state": {
       "description": "Reset Hue Controls",
       "layout": "IPY_MODEL_ae79f22d26234e1b977fbaae266879ec",
       "style": "IPY_MODEL_778c091a58284292a1034cebee8828c2"
      }
     },
     "3e9b8e68e70848d78f9a885abd06cdf7": {
      "model_module": "@jupyter-widgets/base",
      "model_module_version": "1.2.0",
      "model_name": "LayoutModel",
      "state": {}
     },
     "3ed9ffb1fe9842c18b4334ac5acfa9ca": {
      "model_module": "@jupyter-widgets/base",
      "model_module_version": "1.2.0",
      "model_name": "LayoutModel",
      "state": {}
     },
     "3f0ebc19e67b440fb8842cc31adcc276": {
      "model_module": "@jupyter-widgets/base",
      "model_module_version": "1.2.0",
      "model_name": "LayoutModel",
      "state": {}
     },
     "3f1418c6c63c487e9d22db2b4efb680c": {
      "model_module": "@jupyter-widgets/controls",
      "model_module_version": "1.5.0",
      "model_name": "HBoxModel",
      "state": {
       "children": [
        "IPY_MODEL_3855a1a392fa4a5a8f984cc701c9bd80",
        "IPY_MODEL_3e372d8552ec4597a9261d40d870f8ad",
        "IPY_MODEL_fdfa275bc04c4f90a39d48325530f86a",
        "IPY_MODEL_673bbf55eda747618e81b5caf5ad0ef6",
        "IPY_MODEL_6dcf3c9316e64a55b264bba6f3b4532d"
       ],
       "layout": "IPY_MODEL_c70dc1b51f644321b40e29427d423f19"
      }
     },
     "3f9a5c2888d44f6c84b3735bbe302b7f": {
      "model_module": "@jupyter-widgets/controls",
      "model_module_version": "1.5.0",
      "model_name": "HBoxModel",
      "state": {
       "children": [
        "IPY_MODEL_4f92dd2ee96841889c5795c90a208828",
        "IPY_MODEL_12a89fa45a2b40de8b3c5256db24b178",
        "IPY_MODEL_e569667e34794897a64a3527a281892d"
       ],
       "layout": "IPY_MODEL_0bb0ebcff17f4a35abc024fbad16e599"
      }
     },
     "3fb9b4200ad64adf8389bc42247ef773": {
      "model_module": "@jupyter-widgets/controls",
      "model_module_version": "1.5.0",
      "model_name": "ButtonStyleModel",
      "state": {}
     },
     "3fd8b1ceb33945319901e94c6969e7e0": {
      "model_module": "@jupyter-widgets/base",
      "model_module_version": "1.2.0",
      "model_name": "LayoutModel",
      "state": {
       "border": "solid 4px #222",
       "margin": "4px",
       "padding": "0"
      }
     },
     "3fdb2ce0517242bbbead153ee954624a": {
      "model_module": "@jupyter-widgets/base",
      "model_module_version": "1.2.0",
      "model_name": "LayoutModel",
      "state": {}
     },
     "400cf6b3a9ca47ca859ea8d4e28337e2": {
      "model_module": "@jupyter-widgets/controls",
      "model_module_version": "1.5.0",
      "model_name": "ButtonModel",
      "state": {
       "description": "Reset Protected Area",
       "layout": "IPY_MODEL_197d6fbf1b754925a6dd9be0627591b9",
       "style": "IPY_MODEL_2b178f7f6b8d46e7be3127cd50a8c8fb"
      }
     },
     "40457b87ee14480baa11bbe70b85c7ed": {
      "model_module": "@jupyter-widgets/base",
      "model_module_version": "1.2.0",
      "model_name": "LayoutModel",
      "state": {}
     },
     "406bc98a5db246c695474a715bb19d9a": {
      "model_module": "@jupyter-widgets/base",
      "model_module_version": "1.2.0",
      "model_name": "LayoutModel",
      "state": {}
     },
     "407ee8258a144eeb8300ce334b966aee": {
      "model_module": "@jupyter-widgets/base",
      "model_module_version": "1.2.0",
      "model_name": "LayoutModel",
      "state": {}
     },
     "408c5966bc6240ca809d4c3975787cc7": {
      "model_module": "@jupyter-widgets/controls",
      "model_module_version": "1.5.0",
      "model_name": "ButtonStyleModel",
      "state": {}
     },
     "40ddf247a2ba4fa680f121178214d216": {
      "model_module": "@jupyter-widgets/controls",
      "model_module_version": "1.5.0",
      "model_name": "SliderStyleModel",
      "state": {
       "description_width": ""
      }
     },
     "41350a4d968a49678c7651165b4a230b": {
      "model_module": "@jupyter-widgets/controls",
      "model_module_version": "1.5.0",
      "model_name": "FloatSliderModel",
      "state": {
       "description": "180°",
       "layout": "IPY_MODEL_5eb8fb73f5e640108bbcc4247ce639e8",
       "max": 1,
       "min": -1,
       "step": 0.01,
       "style": "IPY_MODEL_695a3f17db8644cdbd0404c1287f273d"
      }
     },
     "4181b0eb90c7415586ffa658ef045f37": {
      "model_module": "@jupyter-widgets/controls",
      "model_module_version": "1.5.0",
      "model_name": "ButtonStyleModel",
      "state": {}
     },
     "418517450b33455fa6ae110cc929aaae": {
      "model_module": "@jupyter-widgets/base",
      "model_module_version": "1.2.0",
      "model_name": "LayoutModel",
      "state": {}
     },
     "41bee5cf98604ecc88c87f9d0d83cca3": {
      "model_module": "@jupyter-widgets/base",
      "model_module_version": "1.2.0",
      "model_name": "LayoutModel",
      "state": {}
     },
     "41c773d3b2b44bdd993e74f6beb96047": {
      "model_module": "@jupyter-widgets/output",
      "model_module_version": "1.0.0",
      "model_name": "OutputModel",
      "state": {
       "layout": "IPY_MODEL_3c454b76379d4a5b8953c0bea89bcf31",
       "outputs": [
        {
         "data": {
          "application/vnd.jupyter.widget-view+json": {
           "model_id": "520002307d644eaf89f0b7d56103b39a",
           "version_major": 2,
           "version_minor": 0
          },
          "text/plain": "Canvas(toolbar=Toolbar(toolitems=[('Home', 'Reset original view', 'home', 'home'), ('Back', 'Back to previous …"
         },
         "metadata": {},
         "output_type": "display_data"
        }
       ]
      }
     },
     "41d36eb417cc4b189565e1c3a510ac4a": {
      "model_module": "@jupyter-widgets/base",
      "model_module_version": "1.2.0",
      "model_name": "LayoutModel",
      "state": {}
     },
     "41fd425a35dc41f9865b7f22ca99ba47": {
      "model_module": "@jupyter-widgets/base",
      "model_module_version": "1.2.0",
      "model_name": "LayoutModel",
      "state": {}
     },
     "42415ad16f564c88941cce1201f06f8e": {
      "model_module": "jupyter-matplotlib",
      "model_module_version": "^0.7.2",
      "model_name": "ToolbarModel",
      "state": {
       "layout": "IPY_MODEL_6a6dcf5de3f140cda21bc6391eadd07f",
       "toolitems": [
        [
         "Home",
         "Reset original view",
         "home",
         "home"
        ],
        [
         "Back",
         "Back to previous view",
         "arrow-left",
         "back"
        ],
        [
         "Forward",
         "Forward to next view",
         "arrow-right",
         "forward"
        ],
        [
         "Pan",
         "Pan axes with left mouse, zoom with right",
         "arrows",
         "pan"
        ],
        [
         "Zoom",
         "Zoom to rectangle",
         "square-o",
         "zoom"
        ],
        [
         "Download",
         "Download plot",
         "floppy-o",
         "save_figure"
        ]
       ]
      }
     },
     "42641d1d5dbc46ce8f179ffed2d14859": {
      "model_module": "@jupyter-widgets/base",
      "model_module_version": "1.2.0",
      "model_name": "LayoutModel",
      "state": {}
     },
     "42799409919244068faa0da7146be84c": {
      "model_module": "@jupyter-widgets/controls",
      "model_module_version": "1.5.0",
      "model_name": "FloatSliderModel",
      "state": {
       "description": "Compression Threshold",
       "layout": "IPY_MODEL_e5910cbbe3154d02a4fd759102edfdfe",
       "max": 1,
       "step": 0.01,
       "style": "IPY_MODEL_b57bf561670c41cb928b463dcbce22c9",
       "value": 0.8
      }
     },
     "428aa095a46a44d393840b6bc439d437": {
      "model_module": "@jupyter-widgets/base",
      "model_module_version": "1.2.0",
      "model_name": "LayoutModel",
      "state": {}
     },
     "429ae0303a24439b9bbc0100dd25873c": {
      "model_module": "@jupyter-widgets/base",
      "model_module_version": "1.2.0",
      "model_name": "LayoutModel",
      "state": {}
     },
     "42b2d7c97e824d3ebae550cc1956a914": {
      "model_module": "@jupyter-widgets/controls",
      "model_module_version": "1.5.0",
      "model_name": "ButtonModel",
      "state": {
       "description": "Save Figure",
       "layout": "IPY_MODEL_14a57c980ee5403d8c063b00f38222ac",
       "style": "IPY_MODEL_350a36fea5ed4c7f907377cfed0a1f11"
      }
     },
     "4302438cd5744a7d86c7b391d9e468cb": {
      "model_module": "@jupyter-widgets/controls",
      "model_module_version": "1.5.0",
      "model_name": "VBoxModel",
      "state": {
       "children": [
        "IPY_MODEL_a02fad501c4f42a1b43f4f423f1ed697"
       ],
       "layout": "IPY_MODEL_43a9b11b79154669b83bf1f3bcc7a315"
      }
     },
     "432d8899aed8454aa20bbcbadc8dd7e0": {
      "model_module": "@jupyter-widgets/controls",
      "model_module_version": "1.5.0",
      "model_name": "ButtonModel",
      "state": {
       "description": "Export Image",
       "layout": "IPY_MODEL_b1a7680235964b2f8fc9dcddc7b1ec4c",
       "style": "IPY_MODEL_f7a4aed8f6814136ab7957e5f22499de"
      }
     },
     "433a3655cdec4101bc1c9c023543be9d": {
      "model_module": "@jupyter-widgets/base",
      "model_module_version": "1.2.0",
      "model_name": "LayoutModel",
      "state": {
       "border": "solid 4px #222",
       "margin": "4px",
       "padding": "0"
      }
     },
     "434b79fc30f24b5caf0becb8a4258ef9": {
      "model_module": "@jupyter-widgets/base",
      "model_module_version": "1.2.0",
      "model_name": "LayoutModel",
      "state": {}
     },
     "43974a9d1d8f4de9ae737142c96ab60a": {
      "model_module": "@jupyter-widgets/controls",
      "model_module_version": "1.5.0",
      "model_name": "SliderStyleModel",
      "state": {
       "description_width": ""
      }
     },
     "43a9b11b79154669b83bf1f3bcc7a315": {
      "model_module": "@jupyter-widgets/base",
      "model_module_version": "1.2.0",
      "model_name": "LayoutModel",
      "state": {}
     },
     "43aadf3a8e2549f7a79c927ef7c2a563": {
      "model_module": "@jupyter-widgets/controls",
      "model_module_version": "1.5.0",
      "model_name": "ButtonStyleModel",
      "state": {}
     },
     "43b752b805984b05995da9e3578bbcc4": {
      "model_module": "@jupyter-widgets/base",
      "model_module_version": "1.2.0",
      "model_name": "LayoutModel",
      "state": {}
     },
     "43e940aea7e9440cb83fb9f830486f09": {
      "model_module": "@jupyter-widgets/base",
      "model_module_version": "1.2.0",
      "model_name": "LayoutModel",
      "state": {}
     },
     "43fdcb119d9644859ee703813c96bd44": {
      "model_module": "@jupyter-widgets/controls",
      "model_module_version": "1.5.0",
      "model_name": "SliderStyleModel",
      "state": {
       "description_width": ""
      }
     },
     "44295b5f33be4cbab22bbb60d3434741": {
      "model_module": "@jupyter-widgets/controls",
      "model_module_version": "1.5.0",
      "model_name": "HBoxModel",
      "state": {
       "children": [
        "IPY_MODEL_030e963bf13e4ff692c9bc6cede34149",
        "IPY_MODEL_08eebce26c3f4149914abe7b19db5a50",
        "IPY_MODEL_3ab9fe2b35894059b8a5431d5b3d52fb",
        "IPY_MODEL_0f863c8e749a4b6c93ec45ca09c87d6e"
       ],
       "layout": "IPY_MODEL_1c951ac5841f4ef4ab4f7383a12ed709"
      }
     },
     "4431b53d94704b0ea16d8d28a0bd4053": {
      "model_module": "@jupyter-widgets/controls",
      "model_module_version": "1.5.0",
      "model_name": "FloatSliderModel",
      "state": {
       "description": "45°",
       "layout": "IPY_MODEL_64f9afec6164407e923d685ee1576330",
       "max": 1,
       "min": -1,
       "step": 0.01,
       "style": "IPY_MODEL_88afa302bdaa4e87a087e2166c3ed043"
      }
     },
     "444a619c1c0644b2bebcd60003d0314d": {
      "model_module": "@jupyter-widgets/base",
      "model_module_version": "1.2.0",
      "model_name": "LayoutModel",
      "state": {}
     },
     "446ab4ee1cb6487aa42762c941ba4796": {
      "model_module": "@jupyter-widgets/controls",
      "model_module_version": "1.5.0",
      "model_name": "ButtonStyleModel",
      "state": {}
     },
     "44745b9ee78b4f7dbf167e8ec7f5b740": {
      "model_module": "@jupyter-widgets/controls",
      "model_module_version": "1.5.0",
      "model_name": "HBoxModel",
      "state": {
       "children": [
        "IPY_MODEL_30f46577ab3e4563bfddfb4058f20755",
        "IPY_MODEL_9e7cca9e00df42a9812af6d93f8d38f5",
        "IPY_MODEL_740b3cfa3a11486c8747c85fac9c2cd2",
        "IPY_MODEL_5ef4082129d14ca09533ef6a0082a3ae",
        "IPY_MODEL_0779541fc3a84c288b8f95666990df88"
       ],
       "layout": "IPY_MODEL_abd12b96225d482a84647009f6f7182c"
      }
     },
     "44a1ab3d3cca487cbc728b1242f3c584": {
      "model_module": "@jupyter-widgets/controls",
      "model_module_version": "1.5.0",
      "model_name": "VBoxModel",
      "state": {
       "children": [
        "IPY_MODEL_d8b363a6547f4783b64f4f238a399fde",
        "IPY_MODEL_480000da88bb44a592df3ec0a791332a",
        "IPY_MODEL_fa98b6872a1342a6ba3d903b9600ff5d"
       ],
       "layout": "IPY_MODEL_6af52648fb2d40e4ba2bccc46fcf2424"
      }
     },
     "44afcc9aaea24c07a194e238d6870c30": {
      "model_module": "@jupyter-widgets/base",
      "model_module_version": "1.2.0",
      "model_name": "LayoutModel",
      "state": {}
     },
     "44dda6fdbb284303914259ca2be4d2de": {
      "model_module": "@jupyter-widgets/controls",
      "model_module_version": "1.5.0",
      "model_name": "FloatSliderModel",
      "state": {
       "description": "0°",
       "layout": "IPY_MODEL_51b48508b57c4920a53794e231582579",
       "max": 1,
       "min": -1,
       "step": 0.01,
       "style": "IPY_MODEL_5cb43be892154b91975cb7ebe7ae9cda"
      }
     },
     "45026d47db144928b3748ed0d73b69e1": {
      "model_module": "@jupyter-widgets/base",
      "model_module_version": "1.2.0",
      "model_name": "LayoutModel",
      "state": {}
     },
     "451f21f693064377b37559def3d11136": {
      "model_module": "@jupyter-widgets/base",
      "model_module_version": "1.2.0",
      "model_name": "LayoutModel",
      "state": {}
     },
     "452bbf011b9e4d12b4d3bb491af31fb0": {
      "model_module": "@jupyter-widgets/controls",
      "model_module_version": "1.5.0",
      "model_name": "SliderStyleModel",
      "state": {
       "description_width": ""
      }
     },
     "45491007948948b78104af05d1759141": {
      "model_module": "@jupyter-widgets/controls",
      "model_module_version": "1.5.0",
      "model_name": "SliderStyleModel",
      "state": {
       "description_width": ""
      }
     },
     "455fd64233b74adea6f480d970d9ea0e": {
      "model_module": "@jupyter-widgets/base",
      "model_module_version": "1.2.0",
      "model_name": "LayoutModel",
      "state": {}
     },
     "45b3813292ac408bab05a55bce8894ce": {
      "model_module": "@jupyter-widgets/controls",
      "model_module_version": "1.5.0",
      "model_name": "ButtonModel",
      "state": {
       "description": "Reset Saturation Controls",
       "layout": "IPY_MODEL_60bccd97161d4d528805834f01c3410a",
       "style": "IPY_MODEL_fcf48f9ade3d46969215d3950ce7cebd"
      }
     },
     "46bd44bcfe66492fb6a5a1540119836a": {
      "model_module": "@jupyter-widgets/base",
      "model_module_version": "1.2.0",
      "model_name": "LayoutModel",
      "state": {}
     },
     "46cab209be3c433997d8241d932b1613": {
      "model_module": "@jupyter-widgets/base",
      "model_module_version": "1.2.0",
      "model_name": "LayoutModel",
      "state": {}
     },
     "46cdbc96059248418824791f015039ca": {
      "model_module": "@jupyter-widgets/base",
      "model_module_version": "1.2.0",
      "model_name": "LayoutModel",
      "state": {}
     },
     "46e094acd1584f6faf28d32c261d8329": {
      "model_module": "@jupyter-widgets/controls",
      "model_module_version": "1.5.0",
      "model_name": "SliderStyleModel",
      "state": {
       "description_width": ""
      }
     },
     "470e670710fc4c16950384986dcdbe67": {
      "model_module": "jupyter-matplotlib",
      "model_module_version": "^0.7.2",
      "model_name": "ToolbarModel",
      "state": {
       "layout": "IPY_MODEL_87997119671744cdbfd87a255dc5df09",
       "toolitems": [
        [
         "Home",
         "Reset original view",
         "home",
         "home"
        ],
        [
         "Back",
         "Back to previous view",
         "arrow-left",
         "back"
        ],
        [
         "Forward",
         "Forward to next view",
         "arrow-right",
         "forward"
        ],
        [
         "Pan",
         "Pan axes with left mouse, zoom with right",
         "arrows",
         "pan"
        ],
        [
         "Zoom",
         "Zoom to rectangle",
         "square-o",
         "zoom"
        ],
        [
         "Download",
         "Download plot",
         "floppy-o",
         "save_figure"
        ]
       ]
      }
     },
     "47330cd7c9904cdfaea0b0d506895c26": {
      "model_module": "@jupyter-widgets/controls",
      "model_module_version": "1.5.0",
      "model_name": "ButtonModel",
      "state": {
       "description": "Reset Hue Controls",
       "layout": "IPY_MODEL_e80e9db3adaa4e2bb51e5c9cd5cfd41e",
       "style": "IPY_MODEL_cac97d12142f4f87be82f122916f12cf"
      }
     },
     "47752217d98f40d892853dad07dea301": {
      "model_module": "@jupyter-widgets/base",
      "model_module_version": "1.2.0",
      "model_name": "LayoutModel",
      "state": {}
     },
     "4781b6dcedd14072a3d0506b8e42e6e4": {
      "model_module": "@jupyter-widgets/base",
      "model_module_version": "1.2.0",
      "model_name": "LayoutModel",
      "state": {}
     },
     "478c62e0a67145d2b0fa45092c8bea20": {
      "model_module": "@jupyter-widgets/base",
      "model_module_version": "1.2.0",
      "model_name": "LayoutModel",
      "state": {}
     },
     "47a6fb89c1d740248189c8373c6c09cb": {
      "model_module": "@jupyter-widgets/base",
      "model_module_version": "1.2.0",
      "model_name": "LayoutModel",
      "state": {}
     },
     "47ad4916d01e49c28f472b260d3bf352": {
      "model_module": "@jupyter-widgets/base",
      "model_module_version": "1.2.0",
      "model_name": "LayoutModel",
      "state": {}
     },
     "480000da88bb44a592df3ec0a791332a": {
      "model_module": "@jupyter-widgets/controls",
      "model_module_version": "1.5.0",
      "model_name": "FloatSliderModel",
      "state": {
       "description": "180°",
       "layout": "IPY_MODEL_41bee5cf98604ecc88c87f9d0d83cca3",
       "max": 1,
       "min": -1,
       "step": 0.01,
       "style": "IPY_MODEL_729c0f5048dd462e934a512be9305827"
      }
     },
     "48671a49759b41e4841e4ba74560dcfa": {
      "model_module": "@jupyter-widgets/base",
      "model_module_version": "1.2.0",
      "model_name": "LayoutModel",
      "state": {}
     },
     "489a537fbad54ff9af6d042a1212c2c6": {
      "model_module": "@jupyter-widgets/controls",
      "model_module_version": "1.5.0",
      "model_name": "FloatSliderModel",
      "state": {
       "description": "180°",
       "layout": "IPY_MODEL_1a360dbc179b4765b20a645daffb8957",
       "max": 1,
       "min": -1,
       "step": 0.01,
       "style": "IPY_MODEL_9655d58a1caa476e88c66ea787a6c021"
      }
     },
     "48a92456481941dea115021d53450980": {
      "model_module": "@jupyter-widgets/controls",
      "model_module_version": "1.5.0",
      "model_name": "ButtonStyleModel",
      "state": {}
     },
     "48b49be243594de99ff4fb80b9bd62b6": {
      "model_module": "@jupyter-widgets/controls",
      "model_module_version": "1.5.0",
      "model_name": "ButtonModel",
      "state": {
       "description": "Reset Exposure",
       "layout": "IPY_MODEL_89cf097384cb49e9889c621fcea3cb6d",
       "style": "IPY_MODEL_25c758996ca941bb9c0e695a4d1c99e0"
      }
     },
     "49172e5a8e5b4278bf38cbee66438b29": {
      "model_module": "@jupyter-widgets/controls",
      "model_module_version": "1.5.0",
      "model_name": "CheckboxModel",
      "state": {
       "description": "Disable Medicina",
       "disabled": false,
       "layout": "IPY_MODEL_59dbd6a838754d708344dd314502298a",
       "style": "IPY_MODEL_949ee79601304d67a33cae65750c55eb",
       "value": false
      }
     },
     "495bd13a4bc94b60861b951e7bfae87c": {
      "model_module": "@jupyter-widgets/controls",
      "model_module_version": "1.5.0",
      "model_name": "SliderStyleModel",
      "state": {
       "description_width": ""
      }
     },
     "49874d71b6a84e18b015d0a41e1f6cab": {
      "model_module": "@jupyter-widgets/base",
      "model_module_version": "1.2.0",
      "model_name": "LayoutModel",
      "state": {}
     },
     "498cb34f68234e9597b45d668ee55043": {
      "model_module": "@jupyter-widgets/base",
      "model_module_version": "1.2.0",
      "model_name": "LayoutModel",
      "state": {}
     },
     "49c09df8476d4adb8cbc3b0a34ea1125": {
      "model_module": "@jupyter-widgets/controls",
      "model_module_version": "1.5.0",
      "model_name": "ButtonStyleModel",
      "state": {}
     },
     "4a093931d2b84e22b96e1e351ce3c8a4": {
      "model_module": "@jupyter-widgets/base",
      "model_module_version": "1.2.0",
      "model_name": "LayoutModel",
      "state": {}
     },
     "4a113012d3f04ae7a896497f8ddb51ed": {
      "model_module": "@jupyter-widgets/base",
      "model_module_version": "1.2.0",
      "model_name": "LayoutModel",
      "state": {}
     },
     "4a45fe59dd5d4d90aa21e616ee404923": {
      "model_module": "jupyter-matplotlib",
      "model_module_version": "^0.7.2",
      "model_name": "ToolbarModel",
      "state": {
       "layout": "IPY_MODEL_81a75d0d0099477bb233b59c49d87b2d",
       "toolitems": [
        [
         "Home",
         "Reset original view",
         "home",
         "home"
        ],
        [
         "Back",
         "Back to previous view",
         "arrow-left",
         "back"
        ],
        [
         "Forward",
         "Forward to next view",
         "arrow-right",
         "forward"
        ],
        [
         "Pan",
         "Pan axes with left mouse, zoom with right",
         "arrows",
         "pan"
        ],
        [
         "Zoom",
         "Zoom to rectangle",
         "square-o",
         "zoom"
        ],
        [
         "Download",
         "Download plot",
         "floppy-o",
         "save_figure"
        ]
       ]
      }
     },
     "4a8ec007099b4d5ab896ff52b2d3bc4d": {
      "model_module": "@jupyter-widgets/base",
      "model_module_version": "1.2.0",
      "model_name": "LayoutModel",
      "state": {}
     },
     "4ae29d2df0704cb7bc99fa55bca19a78": {
      "model_module": "@jupyter-widgets/base",
      "model_module_version": "1.2.0",
      "model_name": "LayoutModel",
      "state": {}
     },
     "4ae2f968f9d04647a469869cae6a9185": {
      "model_module": "@jupyter-widgets/controls",
      "model_module_version": "1.5.0",
      "model_name": "ButtonModel",
      "state": {
       "description": "Save Figure",
       "layout": "IPY_MODEL_c2ba4742f770447496ab5e40692afc36",
       "style": "IPY_MODEL_9cc50045263e4483b0eb77ec9beeb9f0"
      }
     },
     "4b2c48af77694a959a958f42f0521543": {
      "model_module": "@jupyter-widgets/base",
      "model_module_version": "1.2.0",
      "model_name": "LayoutModel",
      "state": {}
     },
     "4b87bf0a9ab945eb8e9366054774677e": {
      "model_module": "@jupyter-widgets/base",
      "model_module_version": "1.2.0",
      "model_name": "LayoutModel",
      "state": {}
     },
     "4b97360f8b4d41168fab0fb43acd78ce": {
      "model_module": "jupyter-matplotlib",
      "model_module_version": "^0.7.2",
      "model_name": "MPLCanvasModel",
      "state": {
       "_figure_label": "Figure 17",
       "_height": 430,
       "_width": 1099,
       "header_visible": false,
       "layout": "IPY_MODEL_22e786ea614440eea9a5b0be35ba8d48",
       "resizable": false,
       "toolbar": "IPY_MODEL_9d83b7f45bd14bc38b8679d978ca871b",
       "toolbar_position": "left",
       "toolbar_visible": false
      }
     },
     "4bb565523f8442d28079e4d50206241b": {
      "model_module": "@jupyter-widgets/controls",
      "model_module_version": "1.5.0",
      "model_name": "FloatSliderModel",
      "state": {
       "description": "0°",
       "layout": "IPY_MODEL_4c026ea4359c42a7bbce910eb4703970",
       "max": 1,
       "min": -1,
       "step": 0.01,
       "style": "IPY_MODEL_1ccbb3a88cc64dd3ba9a416faf87ad62"
      }
     },
     "4bf3b5e4238b4c4c8676f8dd90b837e6": {
      "model_module": "@jupyter-widgets/controls",
      "model_module_version": "1.5.0",
      "model_name": "SliderStyleModel",
      "state": {
       "description_width": ""
      }
     },
     "4bf48ea0f37243deb0ac47139d1d8671": {
      "model_module": "@jupyter-widgets/controls",
      "model_module_version": "1.5.0",
      "model_name": "CheckboxModel",
      "state": {
       "description": "Disable Medicina",
       "disabled": false,
       "layout": "IPY_MODEL_1279cd94166044faaf8b404ccc3b13db",
       "style": "IPY_MODEL_ae1be35366ad451a8c13fdf7f9afe21a",
       "value": false
      }
     },
     "4c026ea4359c42a7bbce910eb4703970": {
      "model_module": "@jupyter-widgets/base",
      "model_module_version": "1.2.0",
      "model_name": "LayoutModel",
      "state": {}
     },
     "4c260af063414ad9806b798478a1a31b": {
      "model_module": "jupyter-matplotlib",
      "model_module_version": "^0.7.2",
      "model_name": "MPLCanvasModel",
      "state": {
       "_figure_label": "Figure 11",
       "_height": 696,
       "_width": 1100,
       "header_visible": false,
       "layout": "IPY_MODEL_80276b2171bc451a97f2dce214801dfe",
       "resizable": false,
       "toolbar": "IPY_MODEL_9b8c65d6fe304971b43604b9716b1f3e",
       "toolbar_position": "left",
       "toolbar_visible": false
      }
     },
     "4c26f28edc554a569e71c84832f10490": {
      "model_module": "@jupyter-widgets/controls",
      "model_module_version": "1.5.0",
      "model_name": "VBoxModel",
      "state": {
       "children": [
        "IPY_MODEL_2f581eafeb534ae2adeb42d79ef2a49e"
       ],
       "layout": "IPY_MODEL_0deba5bfd2ad47c5b78ff0d71721117a"
      }
     },
     "4c35a2ff83d542899e1a58910dfde5c0": {
      "model_module": "@jupyter-widgets/controls",
      "model_module_version": "1.5.0",
      "model_name": "DropdownModel",
      "state": {
       "_options_labels": [
        "tanh",
        "atan",
        "simple"
       ],
       "description": "Compression Function:",
       "index": 0,
       "layout": "IPY_MODEL_039c4e0832c54cba9d9ec99965c0f89f",
       "style": "IPY_MODEL_adbc221f138c4ad3a25c524e19d80010"
      }
     },
     "4c51a342ca0d4e9c885893137313a41e": {
      "model_module": "jupyter-matplotlib",
      "model_module_version": "^0.7.2",
      "model_name": "MPLCanvasModel",
      "state": {
       "_figure_label": "Figure 3",
       "_height": 396,
       "_width": 1100,
       "header_visible": false,
       "layout": "IPY_MODEL_429ae0303a24439b9bbc0100dd25873c",
       "resizable": false,
       "toolbar": "IPY_MODEL_a49ba334b3504ab192a0a27d681df7ad",
       "toolbar_position": "left",
       "toolbar_visible": false
      }
     },
     "4c731e1b6c2f4b5abc966f17e7ce0023": {
      "model_module": "@jupyter-widgets/controls",
      "model_module_version": "1.5.0",
      "model_name": "DescriptionStyleModel",
      "state": {
       "description_width": ""
      }
     },
     "4c7aa901ee7d4c06bb920f62b022500b": {
      "model_module": "@jupyter-widgets/controls",
      "model_module_version": "1.5.0",
      "model_name": "ButtonStyleModel",
      "state": {}
     },
     "4ca61ea6ce0647fc810fbebae47d84ec": {
      "model_module": "@jupyter-widgets/base",
      "model_module_version": "1.2.0",
      "model_name": "LayoutModel",
      "state": {}
     },
     "4ce638383e314bca9b089be4d0989235": {
      "model_module": "@jupyter-widgets/base",
      "model_module_version": "1.2.0",
      "model_name": "LayoutModel",
      "state": {}
     },
     "4cf6718f2b6b48f98d1ae830797e5203": {
      "model_module": "@jupyter-widgets/controls",
      "model_module_version": "1.5.0",
      "model_name": "SliderStyleModel",
      "state": {
       "description_width": ""
      }
     },
     "4d1ed547dcab4f089497c58a26d2236b": {
      "model_module": "@jupyter-widgets/base",
      "model_module_version": "1.2.0",
      "model_name": "LayoutModel",
      "state": {}
     },
     "4d3a4f734e7e4ad995f0dd0c67237ee7": {
      "model_module": "@jupyter-widgets/controls",
      "model_module_version": "1.5.0",
      "model_name": "ButtonModel",
      "state": {
       "description": "Reset Hue Controls",
       "layout": "IPY_MODEL_3bc68b1f147c4edb85fcc6e82e1ab4d6",
       "style": "IPY_MODEL_18e93737ecee490296f01bdb9343c1e0"
      }
     },
     "4d69031be8f245078625983965ee54cb": {
      "model_module": "@jupyter-widgets/base",
      "model_module_version": "1.2.0",
      "model_name": "LayoutModel",
      "state": {
       "border": "solid 4px #222",
       "margin": "4px",
       "padding": "0"
      }
     },
     "4d99e04cee624e0aa2636cc9b05433a1": {
      "model_module": "@jupyter-widgets/controls",
      "model_module_version": "1.5.0",
      "model_name": "HBoxModel",
      "state": {
       "children": [
        "IPY_MODEL_da7a5d72812843de884671c65f0186aa",
        "IPY_MODEL_f56c871500e44e159dc8eeb58e17b3fd",
        "IPY_MODEL_33ecf946491d4a8ab1f49a5c7a6f15ab",
        "IPY_MODEL_0976ebc65a0744abbf5ad69c423b538d"
       ],
       "layout": "IPY_MODEL_258d2bb45f09428391ab95ce965efac0"
      }
     },
     "4dd27fe400db4b37bcd012e8c0457afb": {
      "model_module": "@jupyter-widgets/controls",
      "model_module_version": "1.5.0",
      "model_name": "VBoxModel",
      "state": {
       "children": [
        "IPY_MODEL_ce45c77a14eb4569bf277a2e255d2108",
        "IPY_MODEL_3267a901366047f99c3deb07509574dc"
       ],
       "layout": "IPY_MODEL_2138459402614fa190bb65f7dda1786c"
      }
     },
     "4df523a08ca7435896445f39db3f4329": {
      "model_module": "jupyter-matplotlib",
      "model_module_version": "^0.7.2",
      "model_name": "ToolbarModel",
      "state": {
       "layout": "IPY_MODEL_3ed9ffb1fe9842c18b4334ac5acfa9ca",
       "toolitems": [
        [
         "Home",
         "Reset original view",
         "home",
         "home"
        ],
        [
         "Back",
         "Back to previous view",
         "arrow-left",
         "back"
        ],
        [
         "Forward",
         "Forward to next view",
         "arrow-right",
         "forward"
        ],
        [
         "Pan",
         "Pan axes with left mouse, zoom with right",
         "arrows",
         "pan"
        ],
        [
         "Zoom",
         "Zoom to rectangle",
         "square-o",
         "zoom"
        ],
        [
         "Download",
         "Download plot",
         "floppy-o",
         "save_figure"
        ]
       ]
      }
     },
     "4e36a08915d74431835eb489b8422675": {
      "model_module": "@jupyter-widgets/controls",
      "model_module_version": "1.5.0",
      "model_name": "HBoxModel",
      "state": {
       "children": [
        "IPY_MODEL_56a35f9c61144ae98a066a577d1bc401",
        "IPY_MODEL_c27311b1e38d4e12928ff83345fe5ee5",
        "IPY_MODEL_c3c0a18819e44bc0a5f53ab6d38852fe"
       ],
       "layout": "IPY_MODEL_015779fcc328401d899e84f7e10b0799"
      }
     },
     "4e4f21ef34dd4e789323514641cb4be3": {
      "model_module": "@jupyter-widgets/output",
      "model_module_version": "1.0.0",
      "model_name": "OutputModel",
      "state": {
       "layout": "IPY_MODEL_4d69031be8f245078625983965ee54cb",
       "outputs": [
        {
         "data": {
          "application/vnd.jupyter.widget-view+json": {
           "model_id": "4b97360f8b4d41168fab0fb43acd78ce",
           "version_major": 2,
           "version_minor": 0
          },
          "text/plain": "Canvas(toolbar=Toolbar(toolitems=[('Home', 'Reset original view', 'home', 'home'), ('Back', 'Back to previous …"
         },
         "metadata": {},
         "output_type": "display_data"
        }
       ]
      }
     },
     "4e75f4e2747242499014f7c13025933a": {
      "model_module": "@jupyter-widgets/controls",
      "model_module_version": "1.5.0",
      "model_name": "FloatSliderModel",
      "state": {
       "description": "Protected Area Threshold",
       "layout": "IPY_MODEL_ff2c18ae223a489ba87fbdcfb316f2fb",
       "max": 1,
       "step": 0.01,
       "style": "IPY_MODEL_e6ea23db7c2f4498a8ba7be1952b088b",
       "value": 0.7
      }
     },
     "4ebed40df2d148248b63fed0281ca070": {
      "model_module": "@jupyter-widgets/base",
      "model_module_version": "1.2.0",
      "model_name": "LayoutModel",
      "state": {}
     },
     "4ed9ca6510e944d490e091875e7b98af": {
      "model_module": "@jupyter-widgets/controls",
      "model_module_version": "1.5.0",
      "model_name": "ButtonModel",
      "state": {
       "description": "Reset Hue Controls",
       "layout": "IPY_MODEL_1b997bc4b4a44e7a8c3e2d35d61ade17",
       "style": "IPY_MODEL_b8c7b1420caa4df8b43583ddf2af7601"
      }
     },
     "4f33aa652a774d60810f3922b251f579": {
      "model_module": "@jupyter-widgets/base",
      "model_module_version": "1.2.0",
      "model_name": "LayoutModel",
      "state": {}
     },
     "4f3e514d3d8a48208d3ca94db4800d8f": {
      "model_module": "@jupyter-widgets/controls",
      "model_module_version": "1.5.0",
      "model_name": "VBoxModel",
      "state": {
       "children": [
        "IPY_MODEL_44dda6fdbb284303914259ca2be4d2de",
        "IPY_MODEL_32fb7d1758894ce4a7aa558b8b9ebb30",
        "IPY_MODEL_23957bd1022d48aa9e68e6e0cf6a7c68"
       ],
       "layout": "IPY_MODEL_3b024faaea084dbe806e8d5c71f9e7d9"
      }
     },
     "4f46dbba471945e4897026740c32c96c": {
      "model_module": "@jupyter-widgets/base",
      "model_module_version": "1.2.0",
      "model_name": "LayoutModel",
      "state": {}
     },
     "4f92dd2ee96841889c5795c90a208828": {
      "model_module": "@jupyter-widgets/controls",
      "model_module_version": "1.5.0",
      "model_name": "ButtonModel",
      "state": {
       "description": "Reset Saturation Controls",
       "layout": "IPY_MODEL_25816389167949be8ffd1d7035450adb",
       "style": "IPY_MODEL_9785cf3f90e84310833d742d99e580b8"
      }
     },
     "4fac087d9b1e4d8cb222d1188076a7ce": {
      "model_module": "@jupyter-widgets/controls",
      "model_module_version": "1.5.0",
      "model_name": "ButtonStyleModel",
      "state": {}
     },
     "4fcf6cded35f45b590f795a5af8e2ad8": {
      "model_module": "@jupyter-widgets/controls",
      "model_module_version": "1.5.0",
      "model_name": "SliderStyleModel",
      "state": {
       "description_width": ""
      }
     },
     "4fd6e231dc7f4c09aad4b50332f73440": {
      "model_module": "@jupyter-widgets/base",
      "model_module_version": "1.2.0",
      "model_name": "LayoutModel",
      "state": {
       "border": "solid 4px #222",
       "margin": "4px",
       "padding": "0"
      }
     },
     "500c5e6ae5d843a39fa45708dedadef9": {
      "model_module": "@jupyter-widgets/controls",
      "model_module_version": "1.5.0",
      "model_name": "ButtonModel",
      "state": {
       "description": "Reset Exposure",
       "layout": "IPY_MODEL_2fe601cc558d464cb2711fe4f88fa6f8",
       "style": "IPY_MODEL_3a0f82f7d34447d68a412c755dd8450d"
      }
     },
     "50177c50b0314e1f8da22645a76809c4": {
      "model_module": "@jupyter-widgets/controls",
      "model_module_version": "1.5.0",
      "model_name": "VBoxModel",
      "state": {
       "children": [
        "IPY_MODEL_d3615a31e2e44648935e193b11ee6a0c",
        "IPY_MODEL_595da48ca33a4e6c9155f73d5d883b2e",
        "IPY_MODEL_fa3db770b03949dabe45a8aef77d7ad5"
       ],
       "layout": "IPY_MODEL_cda883958cad44c68d728ff990ef1f93"
      }
     },
     "503c1ac71e554ad38963a32e549cb63f": {
      "model_module": "@jupyter-widgets/base",
      "model_module_version": "1.2.0",
      "model_name": "LayoutModel",
      "state": {}
     },
     "50777fca2eaa418caaeec4923c0913e1": {
      "model_module": "@jupyter-widgets/base",
      "model_module_version": "1.2.0",
      "model_name": "LayoutModel",
      "state": {
       "border": "solid 4px #222",
       "margin": "4px",
       "padding": "0"
      }
     },
     "507a15541781465d8e4bc137cc0039e6": {
      "model_module": "@jupyter-widgets/controls",
      "model_module_version": "1.5.0",
      "model_name": "HBoxModel",
      "state": {
       "children": [
        "IPY_MODEL_4bf48ea0f37243deb0ac47139d1d8671",
        "IPY_MODEL_cc06642466f14111abcefb419f563d44",
        "IPY_MODEL_98ce0241396a49339e7ea6b565ecb546",
        "IPY_MODEL_500c5e6ae5d843a39fa45708dedadef9",
        "IPY_MODEL_8b91637f62ad4457af979e7c463ec6a1"
       ],
       "layout": "IPY_MODEL_9ed6dcf8949a4129a71b0a8664395098"
      }
     },
     "507f428e86ac4f44862f02ae6965a5a4": {
      "model_module": "@jupyter-widgets/controls",
      "model_module_version": "1.5.0",
      "model_name": "TabModel",
      "state": {
       "_titles": {
        "0": "Global Controls",
        "1": "Protected Area Controls",
        "2": "Saturation Controls",
        "3": "Hue Controls"
       },
       "children": [
        "IPY_MODEL_44745b9ee78b4f7dbf167e8ec7f5b740",
        "IPY_MODEL_07db43902eb24dbfbd5363467ab74331",
        "IPY_MODEL_4e36a08915d74431835eb489b8422675",
        "IPY_MODEL_aafc389057cf465595a640c4928261a2"
       ],
       "layout": "IPY_MODEL_0f1d6a2fe17f402f91734df55f4ebd96"
      }
     },
     "50c24428ca9f404a90d8d3bd2acc5b6e": {
      "model_module": "@jupyter-widgets/base",
      "model_module_version": "1.2.0",
      "model_name": "LayoutModel",
      "state": {}
     },
     "50ce637ff7de44de88d69bb734535282": {
      "model_module": "@jupyter-widgets/base",
      "model_module_version": "1.2.0",
      "model_name": "LayoutModel",
      "state": {}
     },
     "518330594ae1474db9c1a5b223bfe400": {
      "model_module": "@jupyter-widgets/base",
      "model_module_version": "1.2.0",
      "model_name": "LayoutModel",
      "state": {}
     },
     "5192a687408149ff80c7d62a41f6d39c": {
      "model_module": "@jupyter-widgets/controls",
      "model_module_version": "1.5.0",
      "model_name": "HBoxModel",
      "state": {
       "children": [
        "IPY_MODEL_055e0a0e8135405aa28eb16a7f038a5c",
        "IPY_MODEL_b0870ec4af1341399c4c405ed56c82bf",
        "IPY_MODEL_8e8a8dba10bd4e6d9deb3f973a06e728",
        "IPY_MODEL_1accf3b682754757b44ec629b46c40cb"
       ],
       "layout": "IPY_MODEL_e040bdc9388740afb267d2765869dfbb"
      }
     },
     "51b48508b57c4920a53794e231582579": {
      "model_module": "@jupyter-widgets/base",
      "model_module_version": "1.2.0",
      "model_name": "LayoutModel",
      "state": {}
     },
     "51b9a4261d00420b889d843cc184ab68": {
      "model_module": "@jupyter-widgets/base",
      "model_module_version": "1.2.0",
      "model_name": "LayoutModel",
      "state": {}
     },
     "520002307d644eaf89f0b7d56103b39a": {
      "model_module": "jupyter-matplotlib",
      "model_module_version": "^0.7.2",
      "model_name": "MPLCanvasModel",
      "state": {
       "_figure_label": "Figure 7",
       "_height": 508,
       "_width": 1100,
       "header_visible": false,
       "layout": "IPY_MODEL_0c5b1ec41e3f491a9764e4d536232788",
       "resizable": false,
       "toolbar": "IPY_MODEL_a06adec8ef794a6dae2d19afda85c831",
       "toolbar_position": "left",
       "toolbar_visible": false
      }
     },
     "5221997dcde143f99cb40d596c15b274": {
      "model_module": "@jupyter-widgets/base",
      "model_module_version": "1.2.0",
      "model_name": "LayoutModel",
      "state": {}
     },
     "5227dcc6773f4253af3c767ccfefa4a6": {
      "model_module": "@jupyter-widgets/controls",
      "model_module_version": "1.5.0",
      "model_name": "ButtonStyleModel",
      "state": {}
     },
     "522bd13831bc42d782a95f12b5aec6cb": {
      "model_module": "@jupyter-widgets/controls",
      "model_module_version": "1.5.0",
      "model_name": "ButtonStyleModel",
      "state": {}
     },
     "5248c4a8353c4ae3afd0768b4d6ac1f5": {
      "model_module": "@jupyter-widgets/controls",
      "model_module_version": "1.5.0",
      "model_name": "SliderStyleModel",
      "state": {
       "description_width": ""
      }
     },
     "524b00014d1b496f85084327f7bd1432": {
      "model_module": "@jupyter-widgets/base",
      "model_module_version": "1.2.0",
      "model_name": "LayoutModel",
      "state": {}
     },
     "526af1c244af465b9ec08949147b64f7": {
      "model_module": "@jupyter-widgets/base",
      "model_module_version": "1.2.0",
      "model_name": "LayoutModel",
      "state": {}
     },
     "529d2fad8a184cccaea5807a7a4accf9": {
      "model_module": "@jupyter-widgets/base",
      "model_module_version": "1.2.0",
      "model_name": "LayoutModel",
      "state": {}
     },
     "529f80bc4633466ea16286dfda1c7ade": {
      "model_module": "@jupyter-widgets/base",
      "model_module_version": "1.2.0",
      "model_name": "LayoutModel",
      "state": {
       "border": "solid 4px #222",
       "margin": "4px",
       "padding": "0"
      }
     },
     "5355079388604c6a8e811809e0c78693": {
      "model_module": "@jupyter-widgets/controls",
      "model_module_version": "1.5.0",
      "model_name": "FloatSliderModel",
      "state": {
       "description": "Protected Area Threshold",
       "layout": "IPY_MODEL_ee3e54f4bd894cd0a20cac7ba14e7ee3",
       "max": 1,
       "step": 0.01,
       "style": "IPY_MODEL_384edac3660c491cae04510c688c32f9",
       "value": 0.7
      }
     },
     "538b40960b404144ab81c8fcd3f2e899": {
      "model_module": "@jupyter-widgets/controls",
      "model_module_version": "1.5.0",
      "model_name": "SliderStyleModel",
      "state": {
       "description_width": ""
      }
     },
     "53af1baca4c24588a6bdf4ba6a16c418": {
      "model_module": "@jupyter-widgets/controls",
      "model_module_version": "1.5.0",
      "model_name": "FloatSliderModel",
      "state": {
       "description": "Compression Threshold",
       "layout": "IPY_MODEL_ba9f449f7a664e40bf9e8e25ab5db369",
       "max": 1,
       "step": 0.01,
       "style": "IPY_MODEL_43974a9d1d8f4de9ae737142c96ab60a",
       "value": 0.8
      }
     },
     "53c7b3951e3e43bb8b106a47c5fb3617": {
      "model_module": "@jupyter-widgets/controls",
      "model_module_version": "1.5.0",
      "model_name": "HBoxModel",
      "state": {
       "children": [
        "IPY_MODEL_979f46cdc20d42ae9fa57d6c75c30d76",
        "IPY_MODEL_649df1a4985942e28fca405a664e1d92",
        "IPY_MODEL_dbb1aea2bbb8476083a1c237f1eae453"
       ],
       "layout": "IPY_MODEL_7c7a42e5e9304b75a7fcc9ca273ce8f0"
      }
     },
     "53cbf708e6604c0883651c98eed95fb2": {
      "model_module": "@jupyter-widgets/controls",
      "model_module_version": "1.5.0",
      "model_name": "ButtonModel",
      "state": {
       "description": "Reset Saturation Controls",
       "layout": "IPY_MODEL_b5b50b79d6c44725b62a5ee5fbd18967",
       "style": "IPY_MODEL_f76a6a1412584e3e9f6b08e30d4bb791"
      }
     },
     "5426b0dd92ee4298bba4c17603ef2cd5": {
      "model_module": "@jupyter-widgets/controls",
      "model_module_version": "1.5.0",
      "model_name": "ButtonModel",
      "state": {
       "description": "Export Image",
       "layout": "IPY_MODEL_c1c34e5e1ad846a7beadb6ebe3b6ef1f",
       "style": "IPY_MODEL_5bc0e5ebc430496e93790fffc6498626"
      }
     },
     "543809fe0f31489eaed318c85c1432a5": {
      "model_module": "@jupyter-widgets/base",
      "model_module_version": "1.2.0",
      "model_name": "LayoutModel",
      "state": {}
     },
     "54be02509abd426291067980c27fcc4b": {
      "model_module": "@jupyter-widgets/controls",
      "model_module_version": "1.5.0",
      "model_name": "DropdownModel",
      "state": {
       "_options_labels": [
        "tanh",
        "atan",
        "simple"
       ],
       "description": "Compression Function:",
       "index": 0,
       "layout": "IPY_MODEL_c1cb0dabf03749ae9d8b0ce937f57199",
       "style": "IPY_MODEL_ed225e15c3b54e38ba7ad1daf060a86b"
      }
     },
     "54c77d6b00cf4153b4d333bd2a7ff626": {
      "model_module": "@jupyter-widgets/base",
      "model_module_version": "1.2.0",
      "model_name": "LayoutModel",
      "state": {}
     },
     "54db351c02d440b1b91cafc882f6deef": {
      "model_module": "@jupyter-widgets/base",
      "model_module_version": "1.2.0",
      "model_name": "LayoutModel",
      "state": {}
     },
     "54f2341231a941f5aa224d122b20e269": {
      "model_module": "@jupyter-widgets/controls",
      "model_module_version": "1.5.0",
      "model_name": "SliderStyleModel",
      "state": {
       "description_width": ""
      }
     },
     "550a796d896447d29181e5d4dad46d55": {
      "model_module": "@jupyter-widgets/controls",
      "model_module_version": "1.5.0",
      "model_name": "SliderStyleModel",
      "state": {
       "description_width": ""
      }
     },
     "5523e35a5d314ee08127e9678d26f3c1": {
      "model_module": "@jupyter-widgets/controls",
      "model_module_version": "1.5.0",
      "model_name": "HBoxModel",
      "state": {
       "children": [
        "IPY_MODEL_037e361e55fb4fe59aee5cacbcde86f5",
        "IPY_MODEL_1eca7adf22c94e41b0ee5cb02b113260",
        "IPY_MODEL_14471fe33dd04e3d901e98201902c928"
       ],
       "layout": "IPY_MODEL_70c264932d3e4d308862e1ed2895e83c"
      }
     },
     "5560969416c1422283654f8e89bd03d2": {
      "model_module": "@jupyter-widgets/base",
      "model_module_version": "1.2.0",
      "model_name": "LayoutModel",
      "state": {}
     },
     "55736a932fc543c09f2211c46c6ac6cf": {
      "model_module": "@jupyter-widgets/controls",
      "model_module_version": "1.5.0",
      "model_name": "CheckboxModel",
      "state": {
       "description": "Disable Medicina",
       "disabled": false,
       "layout": "IPY_MODEL_13b33116f5014c189c4222c2546071af",
       "style": "IPY_MODEL_dc0ed694e5e14aa3aa8b0148c52ab96c",
       "value": false
      }
     },
     "55a79c0444c04fa58dbaa80ebabcfc48": {
      "model_module": "@jupyter-widgets/base",
      "model_module_version": "1.2.0",
      "model_name": "LayoutModel",
      "state": {
       "border": "solid 4px #222",
       "margin": "4px",
       "padding": "0"
      }
     },
     "55c5fce8e52f48b39f754a1f54d7dde1": {
      "model_module": "@jupyter-widgets/controls",
      "model_module_version": "1.5.0",
      "model_name": "HBoxModel",
      "state": {
       "children": [
        "IPY_MODEL_f9175e4ee79c459e8032e2457f01ee6a",
        "IPY_MODEL_f7c430cb67974d48829f02cebcbd2285",
        "IPY_MODEL_22e0703a6af442f0be47f7a48299604b",
        "IPY_MODEL_053ba042dde241ad825e6cbaadc9ea93",
        "IPY_MODEL_5cf515e39a654acd964aeae6e5437278"
       ],
       "layout": "IPY_MODEL_f2daddddf75c4aa7bf5eae91c50f86bb"
      }
     },
     "55d3688fab4641d7b8d75fc028cdd7fc": {
      "model_module": "@jupyter-widgets/controls",
      "model_module_version": "1.5.0",
      "model_name": "VBoxModel",
      "state": {
       "children": [
        "IPY_MODEL_091c3d823cee4c07883064cffd9d1d0a",
        "IPY_MODEL_07b95b153a9c42a4b1e85fe451d39a9a"
       ],
       "layout": "IPY_MODEL_5560969416c1422283654f8e89bd03d2"
      }
     },
     "562e7e806a2c4bb4ac7e9e2a2c5970a9": {
      "model_module": "@jupyter-widgets/output",
      "model_module_version": "1.0.0",
      "model_name": "OutputModel",
      "state": {
       "layout": "IPY_MODEL_28bc4261f61945ce97efed80175c3133",
       "outputs": [
        {
         "data": {
          "application/vnd.jupyter.widget-view+json": {
           "model_id": "a00b59c1335c4b53be61df2a56487fc9",
           "version_major": 2,
           "version_minor": 0
          },
          "text/plain": "Canvas(toolbar=Toolbar(toolitems=[('Home', 'Reset original view', 'home', 'home'), ('Back', 'Back to previous …"
         },
         "metadata": {},
         "output_type": "display_data"
        }
       ]
      }
     },
     "5679e6e70af54766bf13d25fa54d6705": {
      "model_module": "@jupyter-widgets/controls",
      "model_module_version": "1.5.0",
      "model_name": "ButtonStyleModel",
      "state": {}
     },
     "569e6c2d4418499dbe28a1cc744fc396": {
      "model_module": "jupyter-matplotlib",
      "model_module_version": "^0.7.2",
      "model_name": "ToolbarModel",
      "state": {
       "layout": "IPY_MODEL_74b8cf204a804717a7df1bb65666d721",
       "toolitems": [
        [
         "Home",
         "Reset original view",
         "home",
         "home"
        ],
        [
         "Back",
         "Back to previous view",
         "arrow-left",
         "back"
        ],
        [
         "Forward",
         "Forward to next view",
         "arrow-right",
         "forward"
        ],
        [
         "Pan",
         "Pan axes with left mouse, zoom with right",
         "arrows",
         "pan"
        ],
        [
         "Zoom",
         "Zoom to rectangle",
         "square-o",
         "zoom"
        ],
        [
         "Download",
         "Download plot",
         "floppy-o",
         "save_figure"
        ]
       ]
      }
     },
     "56a1cc5eb5d245ec94704a2002ae63dd": {
      "model_module": "@jupyter-widgets/controls",
      "model_module_version": "1.5.0",
      "model_name": "ButtonStyleModel",
      "state": {}
     },
     "56a35f9c61144ae98a066a577d1bc401": {
      "model_module": "@jupyter-widgets/controls",
      "model_module_version": "1.5.0",
      "model_name": "ButtonModel",
      "state": {
       "description": "Reset Saturation Controls",
       "layout": "IPY_MODEL_0705cbde8c9f42b4806c31fbac2252f4",
       "style": "IPY_MODEL_dc202af9ebe44a9a8e15c50bd05b5ac4"
      }
     },
     "56a8c8fcefdf45c098daa49a4d0d5ea4": {
      "model_module": "@jupyter-widgets/base",
      "model_module_version": "1.2.0",
      "model_name": "LayoutModel",
      "state": {}
     },
     "56a9d68c0258455499b90374423d5bf6": {
      "model_module": "@jupyter-widgets/base",
      "model_module_version": "1.2.0",
      "model_name": "LayoutModel",
      "state": {}
     },
     "56ce4a2c1bad429087a9f6c2abfdf2c7": {
      "model_module": "@jupyter-widgets/base",
      "model_module_version": "1.2.0",
      "model_name": "LayoutModel",
      "state": {}
     },
     "571d9c7b9e25451a9a7f7eaf7391819e": {
      "model_module": "@jupyter-widgets/base",
      "model_module_version": "1.2.0",
      "model_name": "LayoutModel",
      "state": {}
     },
     "572d8bd4797d40dea27553c255a2bc61": {
      "model_module": "@jupyter-widgets/base",
      "model_module_version": "1.2.0",
      "model_name": "LayoutModel",
      "state": {}
     },
     "57381ebd2f3741c6830336431c1a0b96": {
      "model_module": "jupyter-matplotlib",
      "model_module_version": "^0.7.2",
      "model_name": "ToolbarModel",
      "state": {
       "layout": "IPY_MODEL_46cab209be3c433997d8241d932b1613",
       "toolitems": [
        [
         "Home",
         "Reset original view",
         "home",
         "home"
        ],
        [
         "Back",
         "Back to previous view",
         "arrow-left",
         "back"
        ],
        [
         "Forward",
         "Forward to next view",
         "arrow-right",
         "forward"
        ],
        [
         "Pan",
         "Pan axes with left mouse, zoom with right",
         "arrows",
         "pan"
        ],
        [
         "Zoom",
         "Zoom to rectangle",
         "square-o",
         "zoom"
        ],
        [
         "Download",
         "Download plot",
         "floppy-o",
         "save_figure"
        ]
       ]
      }
     },
     "574c2a9494864a36a598a3e0a5ef3f43": {
      "model_module": "@jupyter-widgets/controls",
      "model_module_version": "1.5.0",
      "model_name": "FloatSliderModel",
      "state": {
       "description": "315°",
       "layout": "IPY_MODEL_f7a88515819a4ecdada6802eb0d44351",
       "max": 1,
       "min": -1,
       "step": 0.01,
       "style": "IPY_MODEL_227074d9fd994e28864c2e9b8a5ee557"
      }
     },
     "57659f9cd81c4eefb4b808162e83cd3c": {
      "model_module": "@jupyter-widgets/base",
      "model_module_version": "1.2.0",
      "model_name": "LayoutModel",
      "state": {}
     },
     "57795d40e280497dbcb64dae2342546e": {
      "model_module": "@jupyter-widgets/base",
      "model_module_version": "1.2.0",
      "model_name": "LayoutModel",
      "state": {}
     },
     "57facedccb984fe4b3e6261b8397af2b": {
      "model_module": "@jupyter-widgets/controls",
      "model_module_version": "1.5.0",
      "model_name": "ButtonStyleModel",
      "state": {}
     },
     "582dbed7ad35428a90f21cf8cf51e97c": {
      "model_module": "@jupyter-widgets/base",
      "model_module_version": "1.2.0",
      "model_name": "LayoutModel",
      "state": {}
     },
     "5833fab62292486991ae3f3fee05d329": {
      "model_module": "@jupyter-widgets/controls",
      "model_module_version": "1.5.0",
      "model_name": "SliderStyleModel",
      "state": {
       "description_width": ""
      }
     },
     "58584b26fc084734870da18d3b0a686d": {
      "model_module": "@jupyter-widgets/base",
      "model_module_version": "1.2.0",
      "model_name": "LayoutModel",
      "state": {}
     },
     "589807b7bdfe4f28b723e55ec9aecf6f": {
      "model_module": "@jupyter-widgets/base",
      "model_module_version": "1.2.0",
      "model_name": "LayoutModel",
      "state": {}
     },
     "58a8b51a09fe4571a4e212daca9bb0be": {
      "model_module": "@jupyter-widgets/base",
      "model_module_version": "1.2.0",
      "model_name": "LayoutModel",
      "state": {}
     },
     "59311c51c3dd4d96a0b832dbfbf047bd": {
      "model_module": "@jupyter-widgets/base",
      "model_module_version": "1.2.0",
      "model_name": "LayoutModel",
      "state": {}
     },
     "595da48ca33a4e6c9155f73d5d883b2e": {
      "model_module": "@jupyter-widgets/controls",
      "model_module_version": "1.5.0",
      "model_name": "FloatSliderModel",
      "state": {
       "description": "45°",
       "layout": "IPY_MODEL_b114f4fdd1ee4f81a5b80648b63d06c5",
       "max": 1,
       "min": -1,
       "step": 0.01,
       "style": "IPY_MODEL_bdbb06892395416abeb4a8000dbc7bbe"
      }
     },
     "597a1721e0f24f0688989a3c4638a6c1": {
      "model_module": "@jupyter-widgets/controls",
      "model_module_version": "1.5.0",
      "model_name": "CheckboxModel",
      "state": {
       "description": "Disable Medicina",
       "disabled": false,
       "layout": "IPY_MODEL_43b752b805984b05995da9e3578bbcc4",
       "style": "IPY_MODEL_f6cb6997d4b646208d2e3c01d2f0c516",
       "value": false
      }
     },
     "599fdedc897c46d8878d6c7b6fd40fd6": {
      "model_module": "@jupyter-widgets/controls",
      "model_module_version": "1.5.0",
      "model_name": "TabModel",
      "state": {
       "_titles": {
        "0": "Global Controls",
        "1": "Compression Controls"
       },
       "children": [
        "IPY_MODEL_38af8beec3a34b48a6b61db9df0024cf",
        "IPY_MODEL_1d3d7daf49724e5db47de58a4960f910"
       ],
       "layout": "IPY_MODEL_b0344cbdd10e4a3aa13958cfc8a156e3"
      }
     },
     "59ad6e431f914b159b5c30de39bbedcd": {
      "model_module": "@jupyter-widgets/output",
      "model_module_version": "1.0.0",
      "model_name": "OutputModel",
      "state": {
       "layout": "IPY_MODEL_909cc79490c34cf498833ccb5e660cb7",
       "outputs": [
        {
         "data": {
          "application/vnd.jupyter.widget-view+json": {
           "model_id": "4c260af063414ad9806b798478a1a31b",
           "version_major": 2,
           "version_minor": 0
          },
          "text/plain": "Canvas(toolbar=Toolbar(toolitems=[('Home', 'Reset original view', 'home', 'home'), ('Back', 'Back to previous …"
         },
         "metadata": {},
         "output_type": "display_data"
        }
       ]
      }
     },
     "59dbd6a838754d708344dd314502298a": {
      "model_module": "@jupyter-widgets/base",
      "model_module_version": "1.2.0",
      "model_name": "LayoutModel",
      "state": {}
     },
     "5a341726976c4b858a82848ea196b3f5": {
      "model_module": "@jupyter-widgets/controls",
      "model_module_version": "1.5.0",
      "model_name": "SliderStyleModel",
      "state": {
       "description_width": ""
      }
     },
     "5a34a767f9cd4437838f7e63d1987431": {
      "model_module": "@jupyter-widgets/base",
      "model_module_version": "1.2.0",
      "model_name": "LayoutModel",
      "state": {}
     },
     "5a5b4a91ae0f4ba1a7f29338ee8dd3c5": {
      "model_module": "@jupyter-widgets/base",
      "model_module_version": "1.2.0",
      "model_name": "LayoutModel",
      "state": {}
     },
     "5a6f86c1cb004a338ac59feebf0d7eb1": {
      "model_module": "@jupyter-widgets/base",
      "model_module_version": "1.2.0",
      "model_name": "LayoutModel",
      "state": {}
     },
     "5a8787cb337247778bb5846809a13be4": {
      "model_module": "@jupyter-widgets/controls",
      "model_module_version": "1.5.0",
      "model_name": "DropdownModel",
      "state": {
       "_options_labels": [
        "tanh",
        "atan",
        "simple"
       ],
       "description": "Compression Function:",
       "index": 0,
       "layout": "IPY_MODEL_5a6f86c1cb004a338ac59feebf0d7eb1",
       "style": "IPY_MODEL_359f3a42b8e8438294c8534c9d4ff0ab"
      }
     },
     "5ab317e247b74097babaf37650b8c40f": {
      "model_module": "@jupyter-widgets/controls",
      "model_module_version": "1.5.0",
      "model_name": "SliderStyleModel",
      "state": {
       "description_width": ""
      }
     },
     "5adb829f56904bbfa9b36c63547b73e6": {
      "model_module": "@jupyter-widgets/controls",
      "model_module_version": "1.5.0",
      "model_name": "DropdownModel",
      "state": {
       "_options_labels": [
        "tanh",
        "atan",
        "simple"
       ],
       "description": "Compression Function:",
       "index": 0,
       "layout": "IPY_MODEL_05505523164a4f40beb751ec73a0fc88",
       "style": "IPY_MODEL_298f07b9b6384885bfcb1ef8b6c811b4"
      }
     },
     "5ae9d7d0c6c74b3bbd9bdb81928122ce": {
      "model_module": "@jupyter-widgets/base",
      "model_module_version": "1.2.0",
      "model_name": "LayoutModel",
      "state": {}
     },
     "5af6861f13da44bcaa0d4d42e0780382": {
      "model_module": "@jupyter-widgets/base",
      "model_module_version": "1.2.0",
      "model_name": "LayoutModel",
      "state": {}
     },
     "5b591b9dda2e4c1f8fc87a02260ee681": {
      "model_module": "@jupyter-widgets/base",
      "model_module_version": "1.2.0",
      "model_name": "LayoutModel",
      "state": {}
     },
     "5b633a53bc9344dcbb2d440d16325316": {
      "model_module": "@jupyter-widgets/controls",
      "model_module_version": "1.5.0",
      "model_name": "TabModel",
      "state": {
       "_titles": {
        "0": "Global Controls"
       },
       "children": [
        "IPY_MODEL_98e51f6b96944d22930080db93a2d887"
       ],
       "layout": "IPY_MODEL_c7f82706316a49c1ba7c9f5c7f946a25"
      }
     },
     "5ba5614abcfe45389f9e07ce3fe35a44": {
      "model_module": "@jupyter-widgets/controls",
      "model_module_version": "1.5.0",
      "model_name": "SliderStyleModel",
      "state": {
       "description_width": ""
      }
     },
     "5bc0e5ebc430496e93790fffc6498626": {
      "model_module": "@jupyter-widgets/controls",
      "model_module_version": "1.5.0",
      "model_name": "ButtonStyleModel",
      "state": {}
     },
     "5c72a1a3e5f54efd9dd820a568758235": {
      "model_module": "@jupyter-widgets/controls",
      "model_module_version": "1.5.0",
      "model_name": "FloatSliderModel",
      "state": {
       "description": "0°",
       "layout": "IPY_MODEL_b711dfa4994546a6b15e8b6146cf3c68",
       "max": 1,
       "min": -1,
       "step": 0.01,
       "style": "IPY_MODEL_a7fc3f5ec17041bfa08ec9628eff2ffa"
      }
     },
     "5c9a16d63f314f4da9f0acfbee41083b": {
      "model_module": "@jupyter-widgets/controls",
      "model_module_version": "1.5.0",
      "model_name": "HBoxModel",
      "state": {
       "children": [
        "IPY_MODEL_2566101c28c44f4e8cb83ed857400976",
        "IPY_MODEL_91ef563b28d24215bdef01baec6b8845",
        "IPY_MODEL_94ce2f8c428f494c83776c96bc000d95",
        "IPY_MODEL_b0b3dd2837414874b90bdc2bf02476e1",
        "IPY_MODEL_9a41ed130fb748f28d42c86b92f4431e"
       ],
       "layout": "IPY_MODEL_e0e7c9c5305345379302ed4e8dfdbba9"
      }
     },
     "5cb43be892154b91975cb7ebe7ae9cda": {
      "model_module": "@jupyter-widgets/controls",
      "model_module_version": "1.5.0",
      "model_name": "SliderStyleModel",
      "state": {
       "description_width": ""
      }
     },
     "5cf515e39a654acd964aeae6e5437278": {
      "model_module": "@jupyter-widgets/controls",
      "model_module_version": "1.5.0",
      "model_name": "FloatSliderModel",
      "state": {
       "description": "Exposure",
       "layout": "IPY_MODEL_63949b795bd64ea9b024db69e50b0adc",
       "max": 8,
       "min": -8,
       "step": 0.1,
       "style": "IPY_MODEL_a0b94bba059c4aedba5a2a1d29f90b5c"
      }
     },
     "5cf5395745554458ba750eeba947bbe8": {
      "model_module": "@jupyter-widgets/controls",
      "model_module_version": "1.5.0",
      "model_name": "DropdownModel",
      "state": {
       "_options_labels": [
        "tanh",
        "atan",
        "simple"
       ],
       "description": "Compression Function:",
       "index": 0,
       "layout": "IPY_MODEL_b2b4f2b06097461483e37ac5144c57f6",
       "style": "IPY_MODEL_6c6c1058c3334f5f8e1bed212e9877b3"
      }
     },
     "5d36b67ddafd4c15b31b76e47b1f84ac": {
      "model_module": "@jupyter-widgets/controls",
      "model_module_version": "1.5.0",
      "model_name": "ButtonStyleModel",
      "state": {}
     },
     "5d3aae96e4934cc3868b06170df61c27": {
      "model_module": "@jupyter-widgets/controls",
      "model_module_version": "1.5.0",
      "model_name": "FloatSliderModel",
      "state": {
       "description": "Protected Area Threshold",
       "layout": "IPY_MODEL_b4164c27ca064af6ab4deabc556eb27a",
       "max": 1,
       "step": 0.01,
       "style": "IPY_MODEL_40ddf247a2ba4fa680f121178214d216",
       "value": 0.7
      }
     },
     "5d82d5ef53574228b8732747352d16bf": {
      "model_module": "@jupyter-widgets/base",
      "model_module_version": "1.2.0",
      "model_name": "LayoutModel",
      "state": {}
     },
     "5d94b19d651c42f7b25293085fc5b05d": {
      "model_module": "@jupyter-widgets/controls",
      "model_module_version": "1.5.0",
      "model_name": "ButtonStyleModel",
      "state": {}
     },
     "5deb83a001794df58553e52e7809a233": {
      "model_module": "jupyter-matplotlib",
      "model_module_version": "^0.7.2",
      "model_name": "MPLCanvasModel",
      "state": {
       "_figure_label": "Figure 23",
       "_height": 440,
       "_width": 1100,
       "header_visible": false,
       "layout": "IPY_MODEL_669aa73747244b23946f654af41b1dac",
       "resizable": false,
       "toolbar": "IPY_MODEL_c3e5a00610104cc389ae0e68c5e4fc87",
       "toolbar_position": "left",
       "toolbar_visible": false
      }
     },
     "5df056076922406b92dfbb9b3224d8bc": {
      "model_module": "@jupyter-widgets/controls",
      "model_module_version": "1.5.0",
      "model_name": "FloatSliderModel",
      "state": {
       "description": "180°",
       "layout": "IPY_MODEL_4a093931d2b84e22b96e1e351ce3c8a4",
       "max": 1,
       "min": -1,
       "step": 0.01,
       "style": "IPY_MODEL_b23c21b220a24d908b14f5d3cece24fc"
      }
     },
     "5df378a09ab8459e993ec80b2672280c": {
      "model_module": "@jupyter-widgets/controls",
      "model_module_version": "1.5.0",
      "model_name": "DescriptionStyleModel",
      "state": {
       "description_width": ""
      }
     },
     "5e3796bcb9ed43b2b40b7c11ed45e715": {
      "model_module": "@jupyter-widgets/controls",
      "model_module_version": "1.5.0",
      "model_name": "FloatSliderModel",
      "state": {
       "description": "225°",
       "layout": "IPY_MODEL_61ebcabc6a3d4aca9a3ac457114b41b1",
       "max": 1,
       "min": -1,
       "step": 0.01,
       "style": "IPY_MODEL_f72edda36502495a9efff5b4c17b2001"
      }
     },
     "5e9629682ef846ac8ac86fe665858f24": {
      "model_module": "@jupyter-widgets/output",
      "model_module_version": "1.0.0",
      "model_name": "OutputModel",
      "state": {
       "layout": "IPY_MODEL_55a79c0444c04fa58dbaa80ebabcfc48",
       "outputs": [
        {
         "data": {
          "application/vnd.jupyter.widget-view+json": {
           "model_id": "819c15dd9cdb424c878929629b3b7697",
           "version_major": 2,
           "version_minor": 0
          },
          "text/plain": "Canvas(toolbar=Toolbar(toolitems=[('Home', 'Reset original view', 'home', 'home'), ('Back', 'Back to previous …"
         },
         "metadata": {},
         "output_type": "display_data"
        }
       ]
      }
     },
     "5eb8fb73f5e640108bbcc4247ce639e8": {
      "model_module": "@jupyter-widgets/base",
      "model_module_version": "1.2.0",
      "model_name": "LayoutModel",
      "state": {}
     },
     "5edbf1206bfe4b5680959ea6f854519e": {
      "model_module": "@jupyter-widgets/controls",
      "model_module_version": "1.5.0",
      "model_name": "DropdownModel",
      "state": {
       "_options_labels": [
        "tanh",
        "atan",
        "simple"
       ],
       "description": "Compression Function:",
       "index": 0,
       "layout": "IPY_MODEL_830a2e1036ee40768a251473e799fd07",
       "style": "IPY_MODEL_dd095ed93771456bbe4b2421b674a550"
      }
     },
     "5ef4082129d14ca09533ef6a0082a3ae": {
      "model_module": "@jupyter-widgets/controls",
      "model_module_version": "1.5.0",
      "model_name": "ButtonModel",
      "state": {
       "description": "Reset Exposure",
       "layout": "IPY_MODEL_e7f6a4ef69a146a792c5d4f0defbabda",
       "style": "IPY_MODEL_09b0f4f5cd5e491ebb9d4b9ffd148484"
      }
     },
     "5f277934a46d4919aa977a608b381e2a": {
      "model_module": "@jupyter-widgets/base",
      "model_module_version": "1.2.0",
      "model_name": "LayoutModel",
      "state": {}
     },
     "5f2e321334644efeb6c61d76abbdcc5b": {
      "model_module": "@jupyter-widgets/controls",
      "model_module_version": "1.5.0",
      "model_name": "ButtonModel",
      "state": {
       "description": "Save Figure",
       "layout": "IPY_MODEL_d0f3448fa5e6478bae0a8ee06bd75f89",
       "style": "IPY_MODEL_a9d8ea5e46bd4b61ae39b97ac4605fa5"
      }
     },
     "5f80b76f28e841c99f13a99b20144744": {
      "model_module": "@jupyter-widgets/output",
      "model_module_version": "1.0.0",
      "model_name": "OutputModel",
      "state": {
       "layout": "IPY_MODEL_a1425008fe76413ab7c3834a7495836f",
       "outputs": [
        {
         "data": {
          "application/vnd.jupyter.widget-view+json": {
           "model_id": "6e7b73ed95064c6695e3d4e768a11da8",
           "version_major": 2,
           "version_minor": 0
          },
          "text/plain": "Canvas(toolbar=Toolbar(toolitems=[('Home', 'Reset original view', 'home', 'home'), ('Back', 'Back to previous …"
         },
         "metadata": {},
         "output_type": "display_data"
        }
       ]
      }
     },
     "5f839982cf744758ac0a3086826f6d48": {
      "model_module": "@jupyter-widgets/controls",
      "model_module_version": "1.5.0",
      "model_name": "DropdownModel",
      "state": {
       "_options_labels": [
        "tanh",
        "atan",
        "simple"
       ],
       "description": "Compression Function:",
       "index": 0,
       "layout": "IPY_MODEL_5f277934a46d4919aa977a608b381e2a",
       "style": "IPY_MODEL_5df378a09ab8459e993ec80b2672280c"
      }
     },
     "5fe3caa0d17a4c3ca233e37ec2808ed5": {
      "model_module": "@jupyter-widgets/controls",
      "model_module_version": "1.5.0",
      "model_name": "VBoxModel",
      "state": {
       "children": [
        "IPY_MODEL_cd23e4fcb9e94a52b224de66773d888d",
        "IPY_MODEL_d65d47a2a3904fa39c893a62db19df79",
        "IPY_MODEL_7cf13b94a5994eb69acca6a9ab15e888"
       ],
       "layout": "IPY_MODEL_3693022d99cd498d9d203990f9866d50"
      }
     },
     "60142c4f615a415994c1ec2b64f5dab9": {
      "model_module": "@jupyter-widgets/controls",
      "model_module_version": "1.5.0",
      "model_name": "VBoxModel",
      "state": {
       "children": [
        "IPY_MODEL_920a8b847df044069bdc3cf778c7a2e9",
        "IPY_MODEL_13ff6ea6c7de4e0a83abc6ed96c0ec1c"
       ],
       "layout": "IPY_MODEL_63ab277b82694a319d56de84ae3bee1c"
      }
     },
     "60b996a5e88b408cb406dd01a3c77304": {
      "model_module": "@jupyter-widgets/output",
      "model_module_version": "1.0.0",
      "model_name": "OutputModel",
      "state": {
       "layout": "IPY_MODEL_2e83b5a6683f4b60bef568abd97c6448",
       "outputs": [
        {
         "data": {
          "application/vnd.jupyter.widget-view+json": {
           "model_id": "d78316c0656b41ba8ec0cbb720952ffa",
           "version_major": 2,
           "version_minor": 0
          },
          "text/plain": "Canvas(toolbar=Toolbar(toolitems=[('Home', 'Reset original view', 'home', 'home'), ('Back', 'Back to previous …"
         },
         "metadata": {},
         "output_type": "display_data"
        }
       ]
      }
     },
     "60bccd97161d4d528805834f01c3410a": {
      "model_module": "@jupyter-widgets/base",
      "model_module_version": "1.2.0",
      "model_name": "LayoutModel",
      "state": {}
     },
     "6126e42919424397a6262411fe9797ab": {
      "model_module": "@jupyter-widgets/base",
      "model_module_version": "1.2.0",
      "model_name": "LayoutModel",
      "state": {}
     },
     "6167c5e69fb148f0960401b6a6554fb6": {
      "model_module": "@jupyter-widgets/controls",
      "model_module_version": "1.5.0",
      "model_name": "ButtonStyleModel",
      "state": {}
     },
     "619af4c76e47462696cbe48a476b8cc7": {
      "model_module": "@jupyter-widgets/controls",
      "model_module_version": "1.5.0",
      "model_name": "ButtonModel",
      "state": {
       "description": "Save Figure",
       "layout": "IPY_MODEL_54c77d6b00cf4153b4d333bd2a7ff626",
       "style": "IPY_MODEL_a24f0e2029dd40659e8c772bf8bc1756"
      }
     },
     "61c6877b2c604559a73746934acfab94": {
      "model_module": "@jupyter-widgets/controls",
      "model_module_version": "1.5.0",
      "model_name": "DropdownModel",
      "state": {
       "_options_labels": [
        "tanh",
        "atan",
        "simple"
       ],
       "description": "Compression Function:",
       "index": 0,
       "layout": "IPY_MODEL_8e9a33233d834bdeaaa773ecee1e1d2f",
       "style": "IPY_MODEL_177ed2de3ffc44ff888bd423a6486728"
      }
     },
     "61ebcabc6a3d4aca9a3ac457114b41b1": {
      "model_module": "@jupyter-widgets/base",
      "model_module_version": "1.2.0",
      "model_name": "LayoutModel",
      "state": {}
     },
     "624ccd6301a64208bd2e8f013f7b32ab": {
      "model_module": "@jupyter-widgets/controls",
      "model_module_version": "1.5.0",
      "model_name": "SliderStyleModel",
      "state": {
       "description_width": ""
      }
     },
     "62670ad8f5854b80bb718e01576ddf8c": {
      "model_module": "@jupyter-widgets/controls",
      "model_module_version": "1.5.0",
      "model_name": "SliderStyleModel",
      "state": {
       "description_width": ""
      }
     },
     "62844da6a48546b48bded80644114d3c": {
      "model_module": "@jupyter-widgets/base",
      "model_module_version": "1.2.0",
      "model_name": "LayoutModel",
      "state": {
       "border": "solid 4px #222",
       "margin": "4px",
       "padding": "0"
      }
     },
     "62df9076dd3141ada072d8971ac20ed2": {
      "model_module": "@jupyter-widgets/base",
      "model_module_version": "1.2.0",
      "model_name": "LayoutModel",
      "state": {}
     },
     "6339ca97d2f04afe8ae3641f2bb5361f": {
      "model_module": "@jupyter-widgets/controls",
      "model_module_version": "1.5.0",
      "model_name": "ButtonStyleModel",
      "state": {}
     },
     "635662925f5e464c8ed35a426f9c67fb": {
      "model_module": "@jupyter-widgets/controls",
      "model_module_version": "1.5.0",
      "model_name": "FloatSliderModel",
      "state": {
       "description": "Compression Threshold",
       "layout": "IPY_MODEL_f29586085bc44f67a8d79a72a0e3de5b",
       "max": 1,
       "step": 0.01,
       "style": "IPY_MODEL_d16f116c7edb4de5a973e32529f60290",
       "value": 0.8
      }
     },
     "6391aa764ae04be29015df4c07118612": {
      "model_module": "@jupyter-widgets/controls",
      "model_module_version": "1.5.0",
      "model_name": "FloatSliderModel",
      "state": {
       "description": "Compression Threshold",
       "layout": "IPY_MODEL_5221997dcde143f99cb40d596c15b274",
       "max": 1,
       "step": 0.01,
       "style": "IPY_MODEL_5ba5614abcfe45389f9e07ce3fe35a44",
       "value": 0.8
      }
     },
     "63949b795bd64ea9b024db69e50b0adc": {
      "model_module": "@jupyter-widgets/base",
      "model_module_version": "1.2.0",
      "model_name": "LayoutModel",
      "state": {}
     },
     "639c819982fa41848538c2a9a5114f2f": {
      "model_module": "@jupyter-widgets/controls",
      "model_module_version": "1.5.0",
      "model_name": "ButtonModel",
      "state": {
       "description": "Reset Compression Controls",
       "layout": "IPY_MODEL_018db4b8b40f480daa0394a3749ebcae",
       "style": "IPY_MODEL_f909012057954c88b0b93475c086b96b"
      }
     },
     "63ab277b82694a319d56de84ae3bee1c": {
      "model_module": "@jupyter-widgets/base",
      "model_module_version": "1.2.0",
      "model_name": "LayoutModel",
      "state": {}
     },
     "6406b282c5a64498a1f409a8222c113a": {
      "model_module": "@jupyter-widgets/base",
      "model_module_version": "1.2.0",
      "model_name": "LayoutModel",
      "state": {}
     },
     "644187472cc24fe9bb091696b2f86b77": {
      "model_module": "@jupyter-widgets/controls",
      "model_module_version": "1.5.0",
      "model_name": "ButtonStyleModel",
      "state": {}
     },
     "6448af26549b4a1a94eaf6aae95063aa": {
      "model_module": "@jupyter-widgets/base",
      "model_module_version": "1.2.0",
      "model_name": "LayoutModel",
      "state": {}
     },
     "6462f3c8a8394abe999ea391a76f13e7": {
      "model_module": "@jupyter-widgets/base",
      "model_module_version": "1.2.0",
      "model_name": "LayoutModel",
      "state": {}
     },
     "649df1a4985942e28fca405a664e1d92": {
      "model_module": "@jupyter-widgets/controls",
      "model_module_version": "1.5.0",
      "model_name": "DropdownModel",
      "state": {
       "_options_labels": [
        "tanh",
        "atan",
        "simple"
       ],
       "description": "Compression Function:",
       "index": 0,
       "layout": "IPY_MODEL_21e8ee8b231442a5a39e3e3dca3441d2",
       "style": "IPY_MODEL_4c731e1b6c2f4b5abc966f17e7ce0023"
      }
     },
     "64c8d58fc7b94efeab400951f380e97f": {
      "model_module": "@jupyter-widgets/controls",
      "model_module_version": "1.5.0",
      "model_name": "ButtonStyleModel",
      "state": {}
     },
     "64f4ea9aeab44b6fb912e3ec795a3d66": {
      "model_module": "@jupyter-widgets/controls",
      "model_module_version": "1.5.0",
      "model_name": "SliderStyleModel",
      "state": {
       "description_width": ""
      }
     },
     "64f9afec6164407e923d685ee1576330": {
      "model_module": "@jupyter-widgets/base",
      "model_module_version": "1.2.0",
      "model_name": "LayoutModel",
      "state": {}
     },
     "65e16fb28d834c939cdec51786eeab85": {
      "model_module": "@jupyter-widgets/controls",
      "model_module_version": "1.5.0",
      "model_name": "SliderStyleModel",
      "state": {
       "description_width": ""
      }
     },
     "662bac51621242398121308e07ee2423": {
      "model_module": "@jupyter-widgets/base",
      "model_module_version": "1.2.0",
      "model_name": "LayoutModel",
      "state": {
       "border": "solid 4px #222",
       "margin": "4px",
       "padding": "0"
      }
     },
     "6646156e6d78403996cade199fb8d6fd": {
      "model_module": "@jupyter-widgets/controls",
      "model_module_version": "1.5.0",
      "model_name": "SliderStyleModel",
      "state": {
       "description_width": ""
      }
     },
     "669aa73747244b23946f654af41b1dac": {
      "model_module": "@jupyter-widgets/base",
      "model_module_version": "1.2.0",
      "model_name": "LayoutModel",
      "state": {}
     },
     "66edbcea8edb4c9d9449aa1dd8a6e8b4": {
      "model_module": "@jupyter-widgets/controls",
      "model_module_version": "1.5.0",
      "model_name": "ButtonStyleModel",
      "state": {}
     },
     "673bbf55eda747618e81b5caf5ad0ef6": {
      "model_module": "@jupyter-widgets/controls",
      "model_module_version": "1.5.0",
      "model_name": "ButtonModel",
      "state": {
       "description": "Reset Exposure",
       "layout": "IPY_MODEL_e0d5fcc1106c477b8eca266c973faf49",
       "style": "IPY_MODEL_8e6261e1fbc94e7dab72a0d737da751d"
      }
     },
     "6743145c93564e48a3ba93803709b136": {
      "model_module": "@jupyter-widgets/controls",
      "model_module_version": "1.5.0",
      "model_name": "ButtonModel",
      "state": {
       "description": "Reset Hue Controls",
       "layout": "IPY_MODEL_ad6a859600c2455e88cc598179d14b7a",
       "style": "IPY_MODEL_8503a2d584384b72b0cc594b830e6d7b"
      }
     },
     "67730e90b50c4b98a705d1419a482e42": {
      "model_module": "jupyter-matplotlib",
      "model_module_version": "^0.7.2",
      "model_name": "MPLCanvasModel",
      "state": {
       "_figure_label": "Figure 16",
       "_height": 430,
       "_width": 1099,
       "header_visible": false,
       "layout": "IPY_MODEL_2d76becd49ab490891d2b4dcc32e819d",
       "resizable": false,
       "toolbar": "IPY_MODEL_4df523a08ca7435896445f39db3f4329",
       "toolbar_position": "left",
       "toolbar_visible": false
      }
     },
     "67b337e1f30f4bedaf751ac30d9b14e0": {
      "model_module": "@jupyter-widgets/base",
      "model_module_version": "1.2.0",
      "model_name": "LayoutModel",
      "state": {}
     },
     "67c6936e69d345908d787644af376031": {
      "model_module": "@jupyter-widgets/controls",
      "model_module_version": "1.5.0",
      "model_name": "ButtonStyleModel",
      "state": {}
     },
     "6826feb6339e49f183045af887ab55bc": {
      "model_module": "@jupyter-widgets/base",
      "model_module_version": "1.2.0",
      "model_name": "LayoutModel",
      "state": {}
     },
     "68285d529d8c4f298aa3d0dc3eb807af": {
      "model_module": "@jupyter-widgets/controls",
      "model_module_version": "1.5.0",
      "model_name": "FloatSliderModel",
      "state": {
       "description": "270°",
       "layout": "IPY_MODEL_b6034c9564d34ebaa961f04a013fe94d",
       "max": 1,
       "min": -1,
       "step": 0.01,
       "style": "IPY_MODEL_6646156e6d78403996cade199fb8d6fd"
      }
     },
     "68495c4bcae2444ba876b743767b933a": {
      "model_module": "@jupyter-widgets/controls",
      "model_module_version": "1.5.0",
      "model_name": "HBoxModel",
      "state": {
       "children": [
        "IPY_MODEL_3e518dbe8f45478fa033527d4e35141b",
        "IPY_MODEL_03cd015597704270b40bdb214352a580"
       ],
       "layout": "IPY_MODEL_0138bbb0f8ab48ba84ed60cb595b4416"
      }
     },
     "68893f923770438fbe759a135258091a": {
      "model_module": "@jupyter-widgets/controls",
      "model_module_version": "1.5.0",
      "model_name": "ButtonModel",
      "state": {
       "description": "Reset Exposure",
       "layout": "IPY_MODEL_23910c50973b4b98810dc98e9e07bbd6",
       "style": "IPY_MODEL_224c29fd2c294567b56baa046d6cda1b"
      }
     },
     "68bb33fc34384f08b26bd2dc1bf5882e": {
      "model_module": "@jupyter-widgets/base",
      "model_module_version": "1.2.0",
      "model_name": "LayoutModel",
      "state": {}
     },
     "68c37bd9ca3c4aeeb82aca5d1e3b95e5": {
      "model_module": "@jupyter-widgets/controls",
      "model_module_version": "1.5.0",
      "model_name": "ButtonStyleModel",
      "state": {}
     },
     "68fe86dd1bb041319fa279658f97fc57": {
      "model_module": "@jupyter-widgets/controls",
      "model_module_version": "1.5.0",
      "model_name": "DescriptionStyleModel",
      "state": {
       "description_width": ""
      }
     },
     "695a3f17db8644cdbd0404c1287f273d": {
      "model_module": "@jupyter-widgets/controls",
      "model_module_version": "1.5.0",
      "model_name": "SliderStyleModel",
      "state": {
       "description_width": ""
      }
     },
     "6980a970ffc14c43ba4036ada93f1c78": {
      "model_module": "@jupyter-widgets/controls",
      "model_module_version": "1.5.0",
      "model_name": "ButtonStyleModel",
      "state": {}
     },
     "6981793f582b4fc9b10d41b3f1560c4d": {
      "model_module": "@jupyter-widgets/controls",
      "model_module_version": "1.5.0",
      "model_name": "DropdownModel",
      "state": {
       "_options_labels": [
        "tanh",
        "atan",
        "simple"
       ],
       "description": "Compression Function:",
       "index": 0,
       "layout": "IPY_MODEL_5d82d5ef53574228b8732747352d16bf",
       "style": "IPY_MODEL_ee969ecafb5a4057bad240c27c07beed"
      }
     },
     "699a15f7ed4a4cbeb310e491df72f61e": {
      "model_module": "@jupyter-widgets/controls",
      "model_module_version": "1.5.0",
      "model_name": "FloatSliderModel",
      "state": {
       "description": "180°",
       "layout": "IPY_MODEL_8236e28ca605417792677e9924ad3ca6",
       "max": 1,
       "min": -1,
       "step": 0.01,
       "style": "IPY_MODEL_803f6e330b8e45ab97ce9616ecc2e9a8"
      }
     },
     "6a1e35dd0d464cbd8fdd0b8d7044453f": {
      "model_module": "@jupyter-widgets/controls",
      "model_module_version": "1.5.0",
      "model_name": "SliderStyleModel",
      "state": {
       "description_width": ""
      }
     },
     "6a3f5f570cd54b13a4439acda34ec81e": {
      "model_module": "@jupyter-widgets/controls",
      "model_module_version": "1.5.0",
      "model_name": "CheckboxModel",
      "state": {
       "description": "Disable Medicina",
       "disabled": false,
       "layout": "IPY_MODEL_9f7a2066b31847b28cc4b0ee4404f331",
       "style": "IPY_MODEL_0189a6d7a75345d5b69029dc52ff5e43",
       "value": false
      }
     },
     "6a3fe125378948b6ad92455232af5898": {
      "model_module": "@jupyter-widgets/base",
      "model_module_version": "1.2.0",
      "model_name": "LayoutModel",
      "state": {}
     },
     "6a69ae93d81b4ba993cfbf7dc9d9aba0": {
      "model_module": "@jupyter-widgets/base",
      "model_module_version": "1.2.0",
      "model_name": "LayoutModel",
      "state": {}
     },
     "6a6dcf5de3f140cda21bc6391eadd07f": {
      "model_module": "@jupyter-widgets/base",
      "model_module_version": "1.2.0",
      "model_name": "LayoutModel",
      "state": {}
     },
     "6a809da11ef04f82a01df4b251e30695": {
      "model_module": "@jupyter-widgets/controls",
      "model_module_version": "1.5.0",
      "model_name": "HBoxModel",
      "state": {
       "children": [
        "IPY_MODEL_1bc0f45781244a11b8b93a1c1f8caaa9",
        "IPY_MODEL_5adb829f56904bbfa9b36c63547b73e6",
        "IPY_MODEL_3895a1f84c974e87b744b9982dd8876d"
       ],
       "layout": "IPY_MODEL_19ec2bf7e8a04841b6a0b25c61b0b141"
      }
     },
     "6a8175122f11442697fbde7ff5586b4c": {
      "model_module": "@jupyter-widgets/base",
      "model_module_version": "1.2.0",
      "model_name": "LayoutModel",
      "state": {}
     },
     "6a83ce37dd1a4c148404c2b36b6c1788": {
      "model_module": "@jupyter-widgets/base",
      "model_module_version": "1.2.0",
      "model_name": "LayoutModel",
      "state": {}
     },
     "6a9b58fa99e04457a45014f3da92837d": {
      "model_module": "@jupyter-widgets/base",
      "model_module_version": "1.2.0",
      "model_name": "LayoutModel",
      "state": {}
     },
     "6acec85342474445bad2a6ba3dde9b98": {
      "model_module": "@jupyter-widgets/controls",
      "model_module_version": "1.5.0",
      "model_name": "FloatSliderModel",
      "state": {
       "description": "315°",
       "layout": "IPY_MODEL_dd01a3e584324066a30914560bde0db0",
       "max": 1,
       "min": -1,
       "step": 0.01,
       "style": "IPY_MODEL_a35f15184ae14d3aa620ae16bf0c6d17"
      }
     },
     "6af52648fb2d40e4ba2bccc46fcf2424": {
      "model_module": "@jupyter-widgets/base",
      "model_module_version": "1.2.0",
      "model_name": "LayoutModel",
      "state": {}
     },
     "6b160c6ce285414c83977e1de5b602be": {
      "model_module": "@jupyter-widgets/base",
      "model_module_version": "1.2.0",
      "model_name": "LayoutModel",
      "state": {}
     },
     "6b3c99af957b44e48fea4eaa06f2eb63": {
      "model_module": "@jupyter-widgets/base",
      "model_module_version": "1.2.0",
      "model_name": "LayoutModel",
      "state": {}
     },
     "6b5aec38a6b648d788afbfac2d42874e": {
      "model_module": "@jupyter-widgets/controls",
      "model_module_version": "1.5.0",
      "model_name": "VBoxModel",
      "state": {
       "children": [
        "IPY_MODEL_06b7f45575e14f6fb1f5c4c7d78fae98",
        "IPY_MODEL_ccf36f767f774101a5d809460c6abe00",
        "IPY_MODEL_f4671ea71a7b497a927983d9bf7650df"
       ],
       "layout": "IPY_MODEL_428aa095a46a44d393840b6bc439d437"
      }
     },
     "6b66d2b2c63145349b37cf0bd24f4c2c": {
      "model_module": "@jupyter-widgets/base",
      "model_module_version": "1.2.0",
      "model_name": "LayoutModel",
      "state": {}
     },
     "6b73d43b6bc64db794f333deebb2850d": {
      "model_module": "@jupyter-widgets/base",
      "model_module_version": "1.2.0",
      "model_name": "LayoutModel",
      "state": {}
     },
     "6b7b7f27c9ac45b29623e5eeca8908d8": {
      "model_module": "@jupyter-widgets/controls",
      "model_module_version": "1.5.0",
      "model_name": "HBoxModel",
      "state": {
       "children": [
        "IPY_MODEL_d4a7de4872db4881b7d7696096195c2d",
        "IPY_MODEL_c5f49dff4089403ab15c1bc399db9664",
        "IPY_MODEL_44a1ab3d3cca487cbc728b1242f3c584",
        "IPY_MODEL_55d3688fab4641d7b8d75fc028cdd7fc"
       ],
       "layout": "IPY_MODEL_18944a936df642838577af36a95fe9bb"
      }
     },
     "6b946f6e7e944577b0df3282170040d7": {
      "model_module": "@jupyter-widgets/controls",
      "model_module_version": "1.5.0",
      "model_name": "SliderStyleModel",
      "state": {
       "description_width": ""
      }
     },
     "6bec830812fd4a7aac5779b92b7b2166": {
      "model_module": "@jupyter-widgets/controls",
      "model_module_version": "1.5.0",
      "model_name": "HBoxModel",
      "state": {
       "children": [
        "IPY_MODEL_45b3813292ac408bab05a55bce8894ce",
        "IPY_MODEL_877a219d11214a3c8fe3aed859d5bc69",
        "IPY_MODEL_3894e6535b9c4489b6905f686cc0b065"
       ],
       "layout": "IPY_MODEL_50ce637ff7de44de88d69bb734535282"
      }
     },
     "6bfa367ed61144039bc97ca9e649b11c": {
      "model_module": "@jupyter-widgets/controls",
      "model_module_version": "1.5.0",
      "model_name": "HBoxModel",
      "state": {
       "children": [
        "IPY_MODEL_8e7c11e8163e409c8fbd725a33aba81c",
        "IPY_MODEL_010b102d96c64e7fbbeda2097b5b96ec"
       ],
       "layout": "IPY_MODEL_dd61aa11c6c6455bb014abe9d38e4153"
      }
     },
     "6c027014b97a47aba8f2b931788567ea": {
      "model_module": "@jupyter-widgets/controls",
      "model_module_version": "1.5.0",
      "model_name": "ButtonStyleModel",
      "state": {}
     },
     "6c6c1058c3334f5f8e1bed212e9877b3": {
      "model_module": "@jupyter-widgets/controls",
      "model_module_version": "1.5.0",
      "model_name": "DescriptionStyleModel",
      "state": {
       "description_width": ""
      }
     },
     "6c7e721d6a1443f9aee9e142dc2b956e": {
      "model_module": "@jupyter-widgets/base",
      "model_module_version": "1.2.0",
      "model_name": "LayoutModel",
      "state": {}
     },
     "6cd46f77af4440078dff9dcd4a390400": {
      "model_module": "@jupyter-widgets/base",
      "model_module_version": "1.2.0",
      "model_name": "LayoutModel",
      "state": {}
     },
     "6d2883460a5f40778738f9ac2e84239e": {
      "model_module": "@jupyter-widgets/controls",
      "model_module_version": "1.5.0",
      "model_name": "SliderStyleModel",
      "state": {
       "description_width": ""
      }
     },
     "6d2a41922b5742ec9729100032b9d877": {
      "model_module": "@jupyter-widgets/controls",
      "model_module_version": "1.5.0",
      "model_name": "TabModel",
      "state": {
       "_titles": {
        "0": "Global Controls",
        "1": "Protected Area Controls",
        "2": "Saturation Controls",
        "3": "Hue Controls"
       },
       "children": [
        "IPY_MODEL_85ea4a1fca214af69b307aeca311e2aa",
        "IPY_MODEL_68495c4bcae2444ba876b743767b933a",
        "IPY_MODEL_b1251f710fc84478928723e48819cdcd",
        "IPY_MODEL_9cd3b096dc6148499a9b58dffef878e2"
       ],
       "layout": "IPY_MODEL_eebd996db6a24278836f197b2f6e1c42"
      }
     },
     "6d95b7ff6aaf4a79be5f9007908c3e6b": {
      "model_module": "@jupyter-widgets/base",
      "model_module_version": "1.2.0",
      "model_name": "LayoutModel",
      "state": {}
     },
     "6d9c180a15bc4fcca7e5df48c53404fc": {
      "model_module": "@jupyter-widgets/base",
      "model_module_version": "1.2.0",
      "model_name": "LayoutModel",
      "state": {}
     },
     "6dcf3c9316e64a55b264bba6f3b4532d": {
      "model_module": "@jupyter-widgets/controls",
      "model_module_version": "1.5.0",
      "model_name": "FloatSliderModel",
      "state": {
       "description": "Exposure",
       "layout": "IPY_MODEL_ae620c4044434e4c91060ab42ba6a401",
       "max": 8,
       "min": -8,
       "step": 0.1,
       "style": "IPY_MODEL_01f1613b367d40fb9c1ad9ddbd725ff8"
      }
     },
     "6dd4703e23e64dbface98a497d6a92d0": {
      "model_module": "@jupyter-widgets/base",
      "model_module_version": "1.2.0",
      "model_name": "LayoutModel",
      "state": {}
     },
     "6e00c9c0d6494b30a14414ff39765e0b": {
      "model_module": "@jupyter-widgets/controls",
      "model_module_version": "1.5.0",
      "model_name": "SliderStyleModel",
      "state": {
       "description_width": ""
      }
     },
     "6e1dbcd6427e4316831ff2e0ac81e851": {
      "model_module": "@jupyter-widgets/base",
      "model_module_version": "1.2.0",
      "model_name": "LayoutModel",
      "state": {}
     },
     "6e29f8b5580448b384be42369a56199a": {
      "model_module": "@jupyter-widgets/base",
      "model_module_version": "1.2.0",
      "model_name": "LayoutModel",
      "state": {}
     },
     "6e5625aa3f074ef3b959c73f0bf520fc": {
      "model_module": "jupyter-matplotlib",
      "model_module_version": "^0.7.2",
      "model_name": "MPLCanvasModel",
      "state": {
       "_figure_label": "Figure 18",
       "_height": 430,
       "_width": 1099,
       "header_visible": false,
       "layout": "IPY_MODEL_67b337e1f30f4bedaf751ac30d9b14e0",
       "resizable": false,
       "toolbar": "IPY_MODEL_fc866c4b57be4cde8bf6fedf502ee641",
       "toolbar_position": "left",
       "toolbar_visible": false
      }
     },
     "6e7b73ed95064c6695e3d4e768a11da8": {
      "model_module": "jupyter-matplotlib",
      "model_module_version": "^0.7.2",
      "model_name": "MPLCanvasModel",
      "state": {
       "_figure_label": "Figure 1",
       "_height": 458,
       "_width": 1100,
       "header_visible": false,
       "layout": "IPY_MODEL_297a9ae414784ed3a80a0fce8e8e5352",
       "resizable": false,
       "toolbar": "IPY_MODEL_1f4104700f1c4d8a8c6422f872e5e6df",
       "toolbar_position": "left",
       "toolbar_visible": false
      }
     },
     "6ec84d85b4c74a4fa815baaae44cb605": {
      "model_module": "@jupyter-widgets/base",
      "model_module_version": "1.2.0",
      "model_name": "LayoutModel",
      "state": {}
     },
     "6edaafd762834b4b8aafab76bfb16fca": {
      "model_module": "@jupyter-widgets/controls",
      "model_module_version": "1.5.0",
      "model_name": "ButtonModel",
      "state": {
       "description": "Reset Exposure",
       "layout": "IPY_MODEL_444a619c1c0644b2bebcd60003d0314d",
       "style": "IPY_MODEL_1493f3d8e8d34e97b449e89265a3748a"
      }
     },
     "6edfb5963e384766b82c0a6b0f80cc42": {
      "model_module": "@jupyter-widgets/base",
      "model_module_version": "1.2.0",
      "model_name": "LayoutModel",
      "state": {}
     },
     "6eebbf73dce54fae88ad7eb482563909": {
      "model_module": "@jupyter-widgets/base",
      "model_module_version": "1.2.0",
      "model_name": "LayoutModel",
      "state": {
       "border": "solid 4px #222",
       "margin": "4px",
       "padding": "0"
      }
     },
     "6f123e720ee943d9af63421aaada7316": {
      "model_module": "@jupyter-widgets/base",
      "model_module_version": "1.2.0",
      "model_name": "LayoutModel",
      "state": {}
     },
     "6f1eaad78ab34c5e865912214cd0df43": {
      "model_module": "@jupyter-widgets/base",
      "model_module_version": "1.2.0",
      "model_name": "LayoutModel",
      "state": {}
     },
     "6f364f9b03784dcf8c4f1855699404b1": {
      "model_module": "@jupyter-widgets/controls",
      "model_module_version": "1.5.0",
      "model_name": "SliderStyleModel",
      "state": {
       "description_width": ""
      }
     },
     "6f3eef36828c4f0ea6700ea5b075ba21": {
      "model_module": "@jupyter-widgets/base",
      "model_module_version": "1.2.0",
      "model_name": "LayoutModel",
      "state": {}
     },
     "6f3fc3b359694941b11c909c1f4984f2": {
      "model_module": "@jupyter-widgets/base",
      "model_module_version": "1.2.0",
      "model_name": "LayoutModel",
      "state": {}
     },
     "6f40782e6b7b45eeba5c862bb6340109": {
      "model_module": "@jupyter-widgets/controls",
      "model_module_version": "1.5.0",
      "model_name": "ButtonStyleModel",
      "state": {}
     },
     "6f59a312832c4254ba8d74b6ebe2abe8": {
      "model_module": "@jupyter-widgets/base",
      "model_module_version": "1.2.0",
      "model_name": "LayoutModel",
      "state": {}
     },
     "6f95a070c3c84d328e6f10383c4bc966": {
      "model_module": "@jupyter-widgets/controls",
      "model_module_version": "1.5.0",
      "model_name": "SliderStyleModel",
      "state": {
       "description_width": ""
      }
     },
     "6fbd2f43b2164bf6895455ae79480f1b": {
      "model_module": "@jupyter-widgets/output",
      "model_module_version": "1.0.0",
      "model_name": "OutputModel",
      "state": {
       "layout": "IPY_MODEL_de4571104487419dbea4f78013eb12d2",
       "outputs": [
        {
         "data": {
          "application/vnd.jupyter.widget-view+json": {
           "model_id": "91d544982c034934826f1dea87a6dc3f",
           "version_major": 2,
           "version_minor": 0
          },
          "text/plain": "Canvas(toolbar=Toolbar(toolitems=[('Home', 'Reset original view', 'home', 'home'), ('Back', 'Back to previous …"
         },
         "metadata": {},
         "output_type": "display_data"
        }
       ]
      }
     },
     "7034cadca279489994556399f4cb384d": {
      "model_module": "@jupyter-widgets/base",
      "model_module_version": "1.2.0",
      "model_name": "LayoutModel",
      "state": {}
     },
     "70a752761d7243e591550377ccaad8f2": {
      "model_module": "@jupyter-widgets/controls",
      "model_module_version": "1.5.0",
      "model_name": "TabModel",
      "state": {
       "_titles": {
        "0": "Global Controls",
        "1": "Compression Controls"
       },
       "children": [
        "IPY_MODEL_05eeff03431641a98515b5e37ed74096",
        "IPY_MODEL_0a73c6ebf8af4007bad7e51638974a3b"
       ],
       "layout": "IPY_MODEL_18d79411a22b4875a5a068bd457944ad"
      }
     },
     "70c264932d3e4d308862e1ed2895e83c": {
      "model_module": "@jupyter-widgets/base",
      "model_module_version": "1.2.0",
      "model_name": "LayoutModel",
      "state": {}
     },
     "70c5e86380ee43aa9bc20dca04faa814": {
      "model_module": "@jupyter-widgets/controls",
      "model_module_version": "1.5.0",
      "model_name": "ButtonModel",
      "state": {
       "description": "Save Figure",
       "layout": "IPY_MODEL_572d8bd4797d40dea27553c255a2bc61",
       "style": "IPY_MODEL_1dacd6ba30c24e4fab3faebf49a175ff"
      }
     },
     "70cf0f47f86b42a2bfa0a26bccd3e1cd": {
      "model_module": "@jupyter-widgets/controls",
      "model_module_version": "1.5.0",
      "model_name": "ButtonModel",
      "state": {
       "description": "Export Image",
       "layout": "IPY_MODEL_bd464e4af97c40cab86339f7901a7724",
       "style": "IPY_MODEL_e3dccf9b1133464d847306af5b81c5d3"
      }
     },
     "70e9802dfdc447d0930ac4d370f51f21": {
      "model_module": "@jupyter-widgets/base",
      "model_module_version": "1.2.0",
      "model_name": "LayoutModel",
      "state": {}
     },
     "70ff1b2d54414de9bbd6e19c23402fa5": {
      "model_module": "@jupyter-widgets/base",
      "model_module_version": "1.2.0",
      "model_name": "LayoutModel",
      "state": {}
     },
     "71126d2108a34bbc909a02e01a196f0d": {
      "model_module": "@jupyter-widgets/controls",
      "model_module_version": "1.5.0",
      "model_name": "FloatSliderModel",
      "state": {
       "description": "270°",
       "layout": "IPY_MODEL_1352fdd77e7345f89c0dd9cfb7b0274c",
       "max": 1,
       "min": -1,
       "step": 0.01,
       "style": "IPY_MODEL_fc99ad2f177e42609d1fed1cd489aeea"
      }
     },
     "71255d3005cb4d799fbace9dd8196803": {
      "model_module": "@jupyter-widgets/controls",
      "model_module_version": "1.5.0",
      "model_name": "ButtonStyleModel",
      "state": {}
     },
     "7138a1c1c78849d0af12abee1d7ceae7": {
      "model_module": "@jupyter-widgets/controls",
      "model_module_version": "1.5.0",
      "model_name": "SliderStyleModel",
      "state": {
       "description_width": ""
      }
     },
     "71bac5ea41a040caae1d51218b793841": {
      "model_module": "@jupyter-widgets/controls",
      "model_module_version": "1.5.0",
      "model_name": "SliderStyleModel",
      "state": {
       "description_width": ""
      }
     },
     "71dde300aa90439eb43df21fadf37e09": {
      "model_module": "@jupyter-widgets/controls",
      "model_module_version": "1.5.0",
      "model_name": "HBoxModel",
      "state": {
       "children": [
        "IPY_MODEL_23c6d757c8af4b10b17b84ebf3acda5f",
        "IPY_MODEL_c82c1638020d4d6383a9334321b8d476",
        "IPY_MODEL_7d7a63035cc44160bf1451630b2a7bc4",
        "IPY_MODEL_114eed62c48747c4b0ad97d7f2d69db7",
        "IPY_MODEL_02a39b9ae1444cf08d11f987cdf01e3f"
       ],
       "layout": "IPY_MODEL_2321be9f1483499a95cf45d2d84ab774"
      }
     },
     "7202f6a94e8b48d1965c24f90bc851ee": {
      "model_module": "@jupyter-widgets/base",
      "model_module_version": "1.2.0",
      "model_name": "LayoutModel",
      "state": {}
     },
     "728e46f26a894e1fa7d30d81611e6d58": {
      "model_module": "@jupyter-widgets/controls",
      "model_module_version": "1.5.0",
      "model_name": "ButtonStyleModel",
      "state": {}
     },
     "729146bb2ed8420aa9c2c22314077dc2": {
      "model_module": "@jupyter-widgets/base",
      "model_module_version": "1.2.0",
      "model_name": "LayoutModel",
      "state": {}
     },
     "7296f387c8b74da2a4dba67812041ba1": {
      "model_module": "@jupyter-widgets/output",
      "model_module_version": "1.0.0",
      "model_name": "OutputModel",
      "state": {
       "layout": "IPY_MODEL_a2407267633745c1a8536cc40034f8c7",
       "outputs": [
        {
         "data": {
          "application/vnd.jupyter.widget-view+json": {
           "model_id": "9b876d6c24d047f1b15e3e5557a6d1e3",
           "version_major": 2,
           "version_minor": 0
          },
          "text/plain": "Canvas(toolbar=Toolbar(toolitems=[('Home', 'Reset original view', 'home', 'home'), ('Back', 'Back to previous …"
         },
         "metadata": {},
         "output_type": "display_data"
        }
       ]
      }
     },
     "729c0f5048dd462e934a512be9305827": {
      "model_module": "@jupyter-widgets/controls",
      "model_module_version": "1.5.0",
      "model_name": "SliderStyleModel",
      "state": {
       "description_width": ""
      }
     },
     "72a77b19fd5642c19d37e8e4e935fc1e": {
      "model_module": "@jupyter-widgets/controls",
      "model_module_version": "1.5.0",
      "model_name": "SliderStyleModel",
      "state": {
       "description_width": ""
      }
     },
     "72befd7a0b79406a89e740be4d66beb2": {
      "model_module": "@jupyter-widgets/controls",
      "model_module_version": "1.5.0",
      "model_name": "ButtonStyleModel",
      "state": {}
     },
     "72e4a4f90ba0422789bb40931ec7af7e": {
      "model_module": "@jupyter-widgets/base",
      "model_module_version": "1.2.0",
      "model_name": "LayoutModel",
      "state": {}
     },
     "72e9f735556e4da58f5f6830601bf709": {
      "model_module": "@jupyter-widgets/controls",
      "model_module_version": "1.5.0",
      "model_name": "TabModel",
      "state": {
       "_titles": {
        "0": "Global Controls",
        "1": "Protected Area Controls",
        "2": "Saturation Controls",
        "3": "Hue Controls"
       },
       "children": [
        "IPY_MODEL_d35467bbf3ac48a0a4a654af9a4d1ac3",
        "IPY_MODEL_6bfa367ed61144039bc97ca9e649b11c",
        "IPY_MODEL_8966cf81b8ed4861a9f4fafd7abd5858",
        "IPY_MODEL_44295b5f33be4cbab22bbb60d3434741"
       ],
       "layout": "IPY_MODEL_28572316327a4702aa6dc023eccb4511"
      }
     },
     "732a361f3fe045c195c2a2a4219e1fc8": {
      "model_module": "@jupyter-widgets/controls",
      "model_module_version": "1.5.0",
      "model_name": "SliderStyleModel",
      "state": {
       "description_width": ""
      }
     },
     "73367da7f2064aec871c44bde2898082": {
      "model_module": "@jupyter-widgets/base",
      "model_module_version": "1.2.0",
      "model_name": "LayoutModel",
      "state": {}
     },
     "73bd69e235214244b52f8add06e27f59": {
      "model_module": "@jupyter-widgets/controls",
      "model_module_version": "1.5.0",
      "model_name": "ButtonStyleModel",
      "state": {}
     },
     "73c2ec8633b54611899ea1ccbe5751df": {
      "model_module": "@jupyter-widgets/controls",
      "model_module_version": "1.5.0",
      "model_name": "ButtonModel",
      "state": {
       "description": "Reset Exposure",
       "layout": "IPY_MODEL_e10c44dd550b4304955988535666aa21",
       "style": "IPY_MODEL_6f40782e6b7b45eeba5c862bb6340109"
      }
     },
     "73cee728f3cd46369df07ba47e527f9d": {
      "model_module": "@jupyter-widgets/base",
      "model_module_version": "1.2.0",
      "model_name": "LayoutModel",
      "state": {}
     },
     "7407844a47fa4d71a054ee142711ea15": {
      "model_module": "@jupyter-widgets/base",
      "model_module_version": "1.2.0",
      "model_name": "LayoutModel",
      "state": {}
     },
     "740b3cfa3a11486c8747c85fac9c2cd2": {
      "model_module": "@jupyter-widgets/controls",
      "model_module_version": "1.5.0",
      "model_name": "ButtonModel",
      "state": {
       "description": "Save Figure",
       "layout": "IPY_MODEL_308c4c1165b54e2b905964ceaaec31f3",
       "style": "IPY_MODEL_20b2bc7e477247ada0724a52e4df389b"
      }
     },
     "743389fc4498433e80b15f53852e41a6": {
      "model_module": "@jupyter-widgets/base",
      "model_module_version": "1.2.0",
      "model_name": "LayoutModel",
      "state": {}
     },
     "743821adbb6c485d99b6e2937438c34a": {
      "model_module": "@jupyter-widgets/controls",
      "model_module_version": "1.5.0",
      "model_name": "ButtonStyleModel",
      "state": {}
     },
     "74b8cf204a804717a7df1bb65666d721": {
      "model_module": "@jupyter-widgets/base",
      "model_module_version": "1.2.0",
      "model_name": "LayoutModel",
      "state": {}
     },
     "74e52357807d4cfda3c3262686bcaadc": {
      "model_module": "@jupyter-widgets/controls",
      "model_module_version": "1.5.0",
      "model_name": "SliderStyleModel",
      "state": {
       "description_width": ""
      }
     },
     "74eeea511773467ba85872472ddb6ee2": {
      "model_module": "@jupyter-widgets/base",
      "model_module_version": "1.2.0",
      "model_name": "LayoutModel",
      "state": {}
     },
     "751a6edfc6234e8daede044c44d168e6": {
      "model_module": "@jupyter-widgets/controls",
      "model_module_version": "1.5.0",
      "model_name": "SliderStyleModel",
      "state": {
       "description_width": ""
      }
     },
     "752468ecce25480a852cc6c86cbda5b2": {
      "model_module": "@jupyter-widgets/controls",
      "model_module_version": "1.5.0",
      "model_name": "BoxModel",
      "state": {
       "children": [
        "IPY_MODEL_60b996a5e88b408cb406dd01a3c77304",
        "IPY_MODEL_6d2a41922b5742ec9729100032b9d877"
       ],
       "layout": "IPY_MODEL_756dd55a3c45498c9efd4b5b458ee505"
      }
     },
     "756767be239441e99a31cbb180ed8a90": {
      "model_module": "@jupyter-widgets/base",
      "model_module_version": "1.2.0",
      "model_name": "LayoutModel",
      "state": {}
     },
     "756dd55a3c45498c9efd4b5b458ee505": {
      "model_module": "@jupyter-widgets/base",
      "model_module_version": "1.2.0",
      "model_name": "LayoutModel",
      "state": {
       "align_items": "stretch",
       "display": "flex",
       "flex_flow": "column",
       "width": "1128px"
      }
     },
     "7571e8b075b349cb9896f5a06c2fbb6c": {
      "model_module": "@jupyter-widgets/base",
      "model_module_version": "1.2.0",
      "model_name": "LayoutModel",
      "state": {}
     },
     "761d20e6aa7f4025842f5499f6c9fa40": {
      "model_module": "@jupyter-widgets/base",
      "model_module_version": "1.2.0",
      "model_name": "LayoutModel",
      "state": {
       "align_items": "stretch",
       "display": "flex",
       "flex_flow": "column",
       "width": "1128px"
      }
     },
     "76754f96e83a4e1cb31e22863efc7c9f": {
      "model_module": "@jupyter-widgets/controls",
      "model_module_version": "1.5.0",
      "model_name": "ButtonStyleModel",
      "state": {}
     },
     "76a458cb175b4d10bb749ec3ceea0f39": {
      "model_module": "@jupyter-widgets/controls",
      "model_module_version": "1.5.0",
      "model_name": "DropdownModel",
      "state": {
       "_options_labels": [
        "tanh",
        "atan",
        "simple"
       ],
       "description": "Compression Function:",
       "index": 0,
       "layout": "IPY_MODEL_3625813234be409d9e0384e28bc94fad",
       "style": "IPY_MODEL_ca940b553ca546ada85532b3b52e5b4c"
      }
     },
     "76de7197c2c34139aaabe8826b8529a2": {
      "model_module": "@jupyter-widgets/base",
      "model_module_version": "1.2.0",
      "model_name": "LayoutModel",
      "state": {
       "align_items": "stretch",
       "display": "flex",
       "flex_flow": "column",
       "width": "1128px"
      }
     },
     "77408a3382144483a02eb530719136dd": {
      "model_module": "@jupyter-widgets/base",
      "model_module_version": "1.2.0",
      "model_name": "LayoutModel",
      "state": {}
     },
     "776dc5a5ff784775a24de0c13b544f69": {
      "model_module": "@jupyter-widgets/base",
      "model_module_version": "1.2.0",
      "model_name": "LayoutModel",
      "state": {}
     },
     "778c091a58284292a1034cebee8828c2": {
      "model_module": "@jupyter-widgets/controls",
      "model_module_version": "1.5.0",
      "model_name": "ButtonStyleModel",
      "state": {}
     },
     "778f93d210364cfd840dd9d63b736ab3": {
      "model_module": "@jupyter-widgets/controls",
      "model_module_version": "1.5.0",
      "model_name": "ButtonStyleModel",
      "state": {}
     },
     "77b998708d534a5298110fa38765b06c": {
      "model_module": "@jupyter-widgets/controls",
      "model_module_version": "1.5.0",
      "model_name": "FloatSliderModel",
      "state": {
       "description": "45°",
       "layout": "IPY_MODEL_aed74f12fb1c4fa89c2631c9f9ccaf0d",
       "max": 1,
       "min": -1,
       "step": 0.01,
       "style": "IPY_MODEL_1a8453e6b70b41d993811dddbb8b3954"
      }
     },
     "77dab8da3c174e3fa89e5b66e6292cd4": {
      "model_module": "@jupyter-widgets/controls",
      "model_module_version": "1.5.0",
      "model_name": "SliderStyleModel",
      "state": {
       "description_width": ""
      }
     },
     "77f6c8cc52b348bf907f13a7711dc767": {
      "model_module": "@jupyter-widgets/base",
      "model_module_version": "1.2.0",
      "model_name": "LayoutModel",
      "state": {}
     },
     "77f7ca731f784b22b80a6601174f1970": {
      "model_module": "@jupyter-widgets/controls",
      "model_module_version": "1.5.0",
      "model_name": "VBoxModel",
      "state": {
       "children": [
        "IPY_MODEL_efe9d30eb7174611a9250d508e189376",
        "IPY_MODEL_574c2a9494864a36a598a3e0a5ef3f43"
       ],
       "layout": "IPY_MODEL_2781078a04ac43999851191eb15a0492"
      }
     },
     "787552e6f02442a58d04cfef0e1d143b": {
      "model_module": "@jupyter-widgets/base",
      "model_module_version": "1.2.0",
      "model_name": "LayoutModel",
      "state": {}
     },
     "7879d6e490d747d28d75ea3b533cb8e9": {
      "model_module": "@jupyter-widgets/controls",
      "model_module_version": "1.5.0",
      "model_name": "ButtonModel",
      "state": {
       "description": "Reset Exposure",
       "layout": "IPY_MODEL_dcc6cf5aa10647a89f54a51da5670b44",
       "style": "IPY_MODEL_3446f2b9664546ad825f59134b92d5f0"
      }
     },
     "790eb55bf35447d68f9a7ec14f981786": {
      "model_module": "@jupyter-widgets/base",
      "model_module_version": "1.2.0",
      "model_name": "LayoutModel",
      "state": {}
     },
     "79377edbf18d48bb9bb7aa7abfb0d9c7": {
      "model_module": "@jupyter-widgets/controls",
      "model_module_version": "1.5.0",
      "model_name": "FloatSliderModel",
      "state": {
       "description": "Protected Area Threshold",
       "layout": "IPY_MODEL_aebbb9aa3fa44e7da5350242431739fd",
       "max": 1,
       "step": 0.01,
       "style": "IPY_MODEL_5248c4a8353c4ae3afd0768b4d6ac1f5",
       "value": 0.7
      }
     },
     "794c73b915b540db9ee99ec975144814": {
      "model_module": "@jupyter-widgets/base",
      "model_module_version": "1.2.0",
      "model_name": "LayoutModel",
      "state": {}
     },
     "79500282f15f4c03b26db83d0ac34834": {
      "model_module": "@jupyter-widgets/controls",
      "model_module_version": "1.5.0",
      "model_name": "ButtonModel",
      "state": {
       "description": "Reset Exposure",
       "layout": "IPY_MODEL_96522ae477094dfeaee43d0a30e19046",
       "style": "IPY_MODEL_ef2a9fd5f4a84951836472d884c2a386"
      }
     },
     "7952f0c7f7c7464598dba19505211931": {
      "model_module": "@jupyter-widgets/controls",
      "model_module_version": "1.5.0",
      "model_name": "FloatSliderModel",
      "state": {
       "description": "45°",
       "layout": "IPY_MODEL_831d7457298f473a84b6c42a9242ace1",
       "max": 1,
       "min": -1,
       "step": 0.01,
       "style": "IPY_MODEL_d6acea72e2554b24ba4864de29efcb38"
      }
     },
     "79711436cf2f4642b8ca98cab819b926": {
      "model_module": "@jupyter-widgets/controls",
      "model_module_version": "1.5.0",
      "model_name": "VBoxModel",
      "state": {
       "children": [
        "IPY_MODEL_b87f5b6b569e4021aaaea621f7d2b068",
        "IPY_MODEL_b11de6757b8d4bb394057fb768b4a895"
       ],
       "layout": "IPY_MODEL_5b591b9dda2e4c1f8fc87a02260ee681"
      }
     },
     "797a6f0572fd470f84db150b8fb0aff9": {
      "model_module": "@jupyter-widgets/controls",
      "model_module_version": "1.5.0",
      "model_name": "FloatSliderModel",
      "state": {
       "description": "Compression Threshold",
       "layout": "IPY_MODEL_ff43d5e7e5074869854effcc17e16540",
       "max": 1,
       "step": 0.01,
       "style": "IPY_MODEL_37a13aff83c7486187601a71e07f05fe",
       "value": 0.8
      }
     },
     "797cb1d879714c24a8b9037ff658dfa0": {
      "model_module": "@jupyter-widgets/base",
      "model_module_version": "1.2.0",
      "model_name": "LayoutModel",
      "state": {}
     },
     "799458cd92474054b8fb08ca75dbd80b": {
      "model_module": "@jupyter-widgets/controls",
      "model_module_version": "1.5.0",
      "model_name": "DescriptionStyleModel",
      "state": {
       "description_width": ""
      }
     },
     "79acfc7529464c0fafbd8d99505e787a": {
      "model_module": "@jupyter-widgets/controls",
      "model_module_version": "1.5.0",
      "model_name": "ButtonModel",
      "state": {
       "description": "Export Image",
       "layout": "IPY_MODEL_46bd44bcfe66492fb6a5a1540119836a",
       "style": "IPY_MODEL_644187472cc24fe9bb091696b2f86b77"
      }
     },
     "7a3624e99be547948edfc7782617f114": {
      "model_module": "@jupyter-widgets/controls",
      "model_module_version": "1.5.0",
      "model_name": "VBoxModel",
      "state": {
       "children": [
        "IPY_MODEL_ec7d0b0111274a31b86c13a1b45f5030",
        "IPY_MODEL_9c9cfeb8f7ed40d2b92d310f62a4a4b4"
       ],
       "layout": "IPY_MODEL_9d8f1930eacb4351be87383a76269c0b"
      }
     },
     "7a4ddb94f2b64cf0bf3ae7da50d40319": {
      "model_module": "@jupyter-widgets/base",
      "model_module_version": "1.2.0",
      "model_name": "LayoutModel",
      "state": {}
     },
     "7a59f884abe54ca98a42c83e0c1ec873": {
      "model_module": "@jupyter-widgets/controls",
      "model_module_version": "1.5.0",
      "model_name": "TabModel",
      "state": {
       "_titles": {
        "0": "Global Controls",
        "1": "Protected Area Controls",
        "2": "Saturation Controls",
        "3": "Hue Controls"
       },
       "children": [
        "IPY_MODEL_9cff97ab981c4ef3bed25c2c0c012a3c",
        "IPY_MODEL_bdda325acef546aeb429d6251ab2820b",
        "IPY_MODEL_8547b35b6e81410f8d14a4f521e99fba",
        "IPY_MODEL_ac130bd0f0454378b6e012b3888506e2"
       ],
       "layout": "IPY_MODEL_e8947ae0733e44ceb9fa9b23d6796474"
      }
     },
     "7a5fc0a5397a44a7b9979d73db6c92b8": {
      "model_module": "@jupyter-widgets/controls",
      "model_module_version": "1.5.0",
      "model_name": "VBoxModel",
      "state": {
       "children": [
        "IPY_MODEL_e941ab7d87f74cccb3c6681256ef9cfb",
        "IPY_MODEL_7952f0c7f7c7464598dba19505211931",
        "IPY_MODEL_a8678cc1937f49b993fe2d34db8141b7"
       ],
       "layout": "IPY_MODEL_16e3934d2764442981be478477c8c799"
      }
     },
     "7a6457115a434038ad83868749479e3f": {
      "model_module": "@jupyter-widgets/base",
      "model_module_version": "1.2.0",
      "model_name": "LayoutModel",
      "state": {}
     },
     "7a8b4c98616e490bbda28b45d650e35b": {
      "model_module": "@jupyter-widgets/controls",
      "model_module_version": "1.5.0",
      "model_name": "TabModel",
      "state": {
       "_titles": {
        "0": "Global Controls",
        "1": "Protected Area Controls",
        "2": "Saturation Controls",
        "3": "Hue Controls"
       },
       "children": [
        "IPY_MODEL_3f1418c6c63c487e9d22db2b4efb680c",
        "IPY_MODEL_85821f8ad4fe4b3d94f1b0f2a2eac3dd",
        "IPY_MODEL_89277ba238774432990d1516658e872a",
        "IPY_MODEL_0545e0783f004d15b6e9ba8b3101d689"
       ],
       "layout": "IPY_MODEL_8c241e8655ae4d17bd8cc95b0863c562"
      }
     },
     "7a9a6fc9b09142328bc8b96cfe386407": {
      "model_module": "@jupyter-widgets/controls",
      "model_module_version": "1.5.0",
      "model_name": "SliderStyleModel",
      "state": {
       "description_width": ""
      }
     },
     "7aaec20aadb54f3ca8da3e931597ad6c": {
      "model_module": "@jupyter-widgets/controls",
      "model_module_version": "1.5.0",
      "model_name": "ButtonModel",
      "state": {
       "description": "Reset Hue Controls",
       "layout": "IPY_MODEL_3796bfa4299a4e1eb509a05361e0993c",
       "style": "IPY_MODEL_66edbcea8edb4c9d9449aa1dd8a6e8b4"
      }
     },
     "7ab9ac86276f4773993fb481f41dfb7d": {
      "model_module": "@jupyter-widgets/base",
      "model_module_version": "1.2.0",
      "model_name": "LayoutModel",
      "state": {}
     },
     "7b4056dae2214de89cda27e5c93e922b": {
      "model_module": "@jupyter-widgets/base",
      "model_module_version": "1.2.0",
      "model_name": "LayoutModel",
      "state": {
       "border": "solid 4px #222",
       "margin": "4px",
       "padding": "0"
      }
     },
     "7b80a4b5a4ec42ab83843ce59c7b7cd4": {
      "model_module": "@jupyter-widgets/base",
      "model_module_version": "1.2.0",
      "model_name": "LayoutModel",
      "state": {}
     },
     "7bf18cadadb3469b831ca287e6e603db": {
      "model_module": "@jupyter-widgets/controls",
      "model_module_version": "1.5.0",
      "model_name": "SliderStyleModel",
      "state": {
       "description_width": ""
      }
     },
     "7bffdf0901f24736ba7c08caa452d99f": {
      "model_module": "@jupyter-widgets/base",
      "model_module_version": "1.2.0",
      "model_name": "LayoutModel",
      "state": {}
     },
     "7c38dd9bcda04a108f6fa27af1dce69b": {
      "model_module": "@jupyter-widgets/controls",
      "model_module_version": "1.5.0",
      "model_name": "SliderStyleModel",
      "state": {
       "description_width": ""
      }
     },
     "7c7800b8b76c4b3991cdb9be6f4f1cad": {
      "model_module": "@jupyter-widgets/base",
      "model_module_version": "1.2.0",
      "model_name": "LayoutModel",
      "state": {}
     },
     "7c7a42e5e9304b75a7fcc9ca273ce8f0": {
      "model_module": "@jupyter-widgets/base",
      "model_module_version": "1.2.0",
      "model_name": "LayoutModel",
      "state": {}
     },
     "7ca8f1ae06d843968b29676510dadcc7": {
      "model_module": "@jupyter-widgets/base",
      "model_module_version": "1.2.0",
      "model_name": "LayoutModel",
      "state": {}
     },
     "7cbd43c6f1974ad1998f15c6f0b19b7a": {
      "model_module": "@jupyter-widgets/controls",
      "model_module_version": "1.5.0",
      "model_name": "ButtonStyleModel",
      "state": {}
     },
     "7cd7f6acf3ea499fb7b30f6f6b3412be": {
      "model_module": "@jupyter-widgets/controls",
      "model_module_version": "1.5.0",
      "model_name": "ButtonStyleModel",
      "state": {}
     },
     "7ce9dced2dea4ab2af215fd61813876b": {
      "model_module": "@jupyter-widgets/base",
      "model_module_version": "1.2.0",
      "model_name": "LayoutModel",
      "state": {}
     },
     "7cec21332727481093d4e4f406b49f25": {
      "model_module": "@jupyter-widgets/controls",
      "model_module_version": "1.5.0",
      "model_name": "DescriptionStyleModel",
      "state": {
       "description_width": ""
      }
     },
     "7cf13b94a5994eb69acca6a9ab15e888": {
      "model_module": "@jupyter-widgets/controls",
      "model_module_version": "1.5.0",
      "model_name": "FloatSliderModel",
      "state": {
       "description": "225°",
       "layout": "IPY_MODEL_8a85a085973949b9ad28111a2f9cf3cf",
       "max": 1,
       "min": -1,
       "step": 0.01,
       "style": "IPY_MODEL_77dab8da3c174e3fa89e5b66e6292cd4"
      }
     },
     "7cf87ab0af8d4233adfdfc2e2273231d": {
      "model_module": "@jupyter-widgets/controls",
      "model_module_version": "1.5.0",
      "model_name": "DropdownModel",
      "state": {
       "_options_labels": [
        "tanh",
        "atan",
        "simple"
       ],
       "description": "Compression Function:",
       "index": 0,
       "layout": "IPY_MODEL_5af6861f13da44bcaa0d4d42e0780382",
       "style": "IPY_MODEL_1a3a735f771747179bb11efafe20cb55"
      }
     },
     "7d6f211494544986986760d7a59ceafe": {
      "model_module": "@jupyter-widgets/controls",
      "model_module_version": "1.5.0",
      "model_name": "SliderStyleModel",
      "state": {
       "description_width": ""
      }
     },
     "7d7a63035cc44160bf1451630b2a7bc4": {
      "model_module": "@jupyter-widgets/controls",
      "model_module_version": "1.5.0",
      "model_name": "ButtonModel",
      "state": {
       "description": "Save Figure",
       "layout": "IPY_MODEL_72e4a4f90ba0422789bb40931ec7af7e",
       "style": "IPY_MODEL_345fcda9d5cc4e75b2dd69a2757d135e"
      }
     },
     "7daa3dbba91f4a19be312108c037b67a": {
      "model_module": "@jupyter-widgets/controls",
      "model_module_version": "1.5.0",
      "model_name": "HBoxModel",
      "state": {
       "children": [
        "IPY_MODEL_2266104c7d7c4593bcd5c7c17bf24da6",
        "IPY_MODEL_2c57a04711554d8ca4f62ea553a90762"
       ],
       "layout": "IPY_MODEL_93e9f326563b4747999c4cc45b0337f1"
      }
     },
     "7e02c74125de4cf3ad6b3218e49f9a55": {
      "model_module": "@jupyter-widgets/controls",
      "model_module_version": "1.5.0",
      "model_name": "VBoxModel",
      "state": {
       "children": [
        "IPY_MODEL_91b6a733c07c41438628c15ae1714df2",
        "IPY_MODEL_fba4dae63254402a8340c08663f98a1a",
        "IPY_MODEL_0daf5823699d40cbb3dbd1e46fba6d30"
       ],
       "layout": "IPY_MODEL_c3064c33d75c4e839b52ce772fb3cecf"
      }
     },
     "7e3b16175a7a4e30ae5970d5bcdc8133": {
      "model_module": "@jupyter-widgets/base",
      "model_module_version": "1.2.0",
      "model_name": "LayoutModel",
      "state": {}
     },
     "7ead762f2b6f465c8323cbbe01dace0e": {
      "model_module": "@jupyter-widgets/controls",
      "model_module_version": "1.5.0",
      "model_name": "ButtonStyleModel",
      "state": {}
     },
     "7ec2c9c43f1048819c719b779789dd7a": {
      "model_module": "@jupyter-widgets/base",
      "model_module_version": "1.2.0",
      "model_name": "LayoutModel",
      "state": {}
     },
     "7ec2f61864b5427cb827e6928ca82ceb": {
      "model_module": "@jupyter-widgets/controls",
      "model_module_version": "1.5.0",
      "model_name": "SliderStyleModel",
      "state": {
       "description_width": ""
      }
     },
     "7eea485b256c470eaaccf6c776458f6e": {
      "model_module": "@jupyter-widgets/base",
      "model_module_version": "1.2.0",
      "model_name": "LayoutModel",
      "state": {}
     },
     "7f01fb41c9874674b3e1ae8b5877c80e": {
      "model_module": "@jupyter-widgets/controls",
      "model_module_version": "1.5.0",
      "model_name": "ButtonStyleModel",
      "state": {}
     },
     "7f6a3b6fa4184f5bbb84df219562adfc": {
      "model_module": "@jupyter-widgets/base",
      "model_module_version": "1.2.0",
      "model_name": "LayoutModel",
      "state": {}
     },
     "7fada071a55a47a3984f3d24721ea14c": {
      "model_module": "@jupyter-widgets/controls",
      "model_module_version": "1.5.0",
      "model_name": "ButtonStyleModel",
      "state": {}
     },
     "7fc43ded779348d4bd9533307154a818": {
      "model_module": "@jupyter-widgets/base",
      "model_module_version": "1.2.0",
      "model_name": "LayoutModel",
      "state": {}
     },
     "7fe3a11d62a346f4af53aeb40d24da3e": {
      "model_module": "@jupyter-widgets/base",
      "model_module_version": "1.2.0",
      "model_name": "LayoutModel",
      "state": {}
     },
     "80276b2171bc451a97f2dce214801dfe": {
      "model_module": "@jupyter-widgets/base",
      "model_module_version": "1.2.0",
      "model_name": "LayoutModel",
      "state": {}
     },
     "80277a5396054613944d5bde501fef4b": {
      "model_module": "@jupyter-widgets/controls",
      "model_module_version": "1.5.0",
      "model_name": "HBoxModel",
      "state": {
       "children": [
        "IPY_MODEL_be7049460f5a46069058de0a7f6457fb",
        "IPY_MODEL_4e75f4e2747242499014f7c13025933a"
       ],
       "layout": "IPY_MODEL_c9a741b624fd4fd3b05c5313d72438c7"
      }
     },
     "803198f689884a26b033316832dca136": {
      "model_module": "@jupyter-widgets/controls",
      "model_module_version": "1.5.0",
      "model_name": "CheckboxModel",
      "state": {
       "description": "Disable Medicina",
       "disabled": false,
       "layout": "IPY_MODEL_a9ba984f48624418967bf938217e3349",
       "style": "IPY_MODEL_c7041f4f4fb74f33aa080ceaac64e804",
       "value": false
      }
     },
     "803f6e330b8e45ab97ce9616ecc2e9a8": {
      "model_module": "@jupyter-widgets/controls",
      "model_module_version": "1.5.0",
      "model_name": "SliderStyleModel",
      "state": {
       "description_width": ""
      }
     },
     "804525bb257045d88edd378995f8eed0": {
      "model_module": "@jupyter-widgets/base",
      "model_module_version": "1.2.0",
      "model_name": "LayoutModel",
      "state": {}
     },
     "807b1675610d4d5184d527dd15836713": {
      "model_module": "@jupyter-widgets/controls",
      "model_module_version": "1.5.0",
      "model_name": "FloatSliderModel",
      "state": {
       "description": "270°",
       "layout": "IPY_MODEL_4ae29d2df0704cb7bc99fa55bca19a78",
       "max": 1,
       "min": -1,
       "step": 0.01,
       "style": "IPY_MODEL_62670ad8f5854b80bb718e01576ddf8c"
      }
     },
     "8089e1ee5ffb423ab0f6eaa252181973": {
      "model_module": "@jupyter-widgets/controls",
      "model_module_version": "1.5.0",
      "model_name": "FloatSliderModel",
      "state": {
       "description": "Exposure",
       "layout": "IPY_MODEL_08de2f7e6b844b03bf68017f880ac3ff",
       "max": 8,
       "min": -8,
       "step": 0.1,
       "style": "IPY_MODEL_452bbf011b9e4d12b4d3bb491af31fb0"
      }
     },
     "80a0749c7af244adb6b33d17e9327398": {
      "model_module": "@jupyter-widgets/base",
      "model_module_version": "1.2.0",
      "model_name": "LayoutModel",
      "state": {}
     },
     "80b8d7d0520e461fafed10a9a61b1188": {
      "model_module": "@jupyter-widgets/controls",
      "model_module_version": "1.5.0",
      "model_name": "ButtonStyleModel",
      "state": {}
     },
     "80c43a936f8144c08cc06bf14f94830f": {
      "model_module": "@jupyter-widgets/controls",
      "model_module_version": "1.5.0",
      "model_name": "ButtonModel",
      "state": {
       "description": "Export Image",
       "layout": "IPY_MODEL_529d2fad8a184cccaea5807a7a4accf9",
       "style": "IPY_MODEL_7fada071a55a47a3984f3d24721ea14c"
      }
     },
     "80f9436085914527b72b4d1b42c7545d": {
      "model_module": "@jupyter-widgets/base",
      "model_module_version": "1.2.0",
      "model_name": "LayoutModel",
      "state": {}
     },
     "80fa11e48a5740a0a2593c631fb805ad": {
      "model_module": "@jupyter-widgets/controls",
      "model_module_version": "1.5.0",
      "model_name": "ButtonStyleModel",
      "state": {}
     },
     "813ee7dacf714c0899d3e9225850d83e": {
      "model_module": "@jupyter-widgets/base",
      "model_module_version": "1.2.0",
      "model_name": "LayoutModel",
      "state": {
       "border": "solid 4px #222",
       "margin": "4px",
       "padding": "0"
      }
     },
     "8148e5b745d44a1381f4612c450c0a72": {
      "model_module": "@jupyter-widgets/controls",
      "model_module_version": "1.5.0",
      "model_name": "SliderStyleModel",
      "state": {
       "description_width": ""
      }
     },
     "819a9c4c2b7e4d6c950c68074517220e": {
      "model_module": "@jupyter-widgets/base",
      "model_module_version": "1.2.0",
      "model_name": "LayoutModel",
      "state": {}
     },
     "819c15dd9cdb424c878929629b3b7697": {
      "model_module": "jupyter-matplotlib",
      "model_module_version": "^0.7.2",
      "model_name": "MPLCanvasModel",
      "state": {
       "_figure_label": "Figure 27",
       "_height": 550,
       "_width": 1100,
       "header_visible": false,
       "layout": "IPY_MODEL_8d8e3d99423a4e3bbb20deecc7de422c",
       "resizable": false,
       "toolbar": "IPY_MODEL_c3535412325144f4adab3c2c8ee4490a",
       "toolbar_position": "left",
       "toolbar_visible": false
      }
     },
     "81a75d0d0099477bb233b59c49d87b2d": {
      "model_module": "@jupyter-widgets/base",
      "model_module_version": "1.2.0",
      "model_name": "LayoutModel",
      "state": {}
     },
     "81f2b03a8feb404ca01097808a729da0": {
      "model_module": "@jupyter-widgets/base",
      "model_module_version": "1.2.0",
      "model_name": "LayoutModel",
      "state": {}
     },
     "81f486d8581c464dab09b9eec9919a85": {
      "model_module": "@jupyter-widgets/controls",
      "model_module_version": "1.5.0",
      "model_name": "FloatSliderModel",
      "state": {
       "description": "Exposure",
       "layout": "IPY_MODEL_88be4854efc2414fbb8be2a21e389a7e",
       "max": 8,
       "min": -8,
       "step": 0.1,
       "style": "IPY_MODEL_6e00c9c0d6494b30a14414ff39765e0b"
      }
     },
     "8236e28ca605417792677e9924ad3ca6": {
      "model_module": "@jupyter-widgets/base",
      "model_module_version": "1.2.0",
      "model_name": "LayoutModel",
      "state": {}
     },
     "826e11b9afc3414bbe2d707cf3b0a9a1": {
      "model_module": "@jupyter-widgets/controls",
      "model_module_version": "1.5.0",
      "model_name": "SliderStyleModel",
      "state": {
       "description_width": ""
      }
     },
     "8291e35ce4184ff49f4a7e27e6c719e4": {
      "model_module": "@jupyter-widgets/controls",
      "model_module_version": "1.5.0",
      "model_name": "VBoxModel",
      "state": {
       "children": [
        "IPY_MODEL_d2940cdb5be34315859566b2473b67c5",
        "IPY_MODEL_6acec85342474445bad2a6ba3dde9b98"
       ],
       "layout": "IPY_MODEL_8f39315a431046baad4bfc94b86de1d9"
      }
     },
     "830a2e1036ee40768a251473e799fd07": {
      "model_module": "@jupyter-widgets/base",
      "model_module_version": "1.2.0",
      "model_name": "LayoutModel",
      "state": {}
     },
     "831d7457298f473a84b6c42a9242ace1": {
      "model_module": "@jupyter-widgets/base",
      "model_module_version": "1.2.0",
      "model_name": "LayoutModel",
      "state": {}
     },
     "8383fa580b8e4e8386e9502b83b4f719": {
      "model_module": "@jupyter-widgets/base",
      "model_module_version": "1.2.0",
      "model_name": "LayoutModel",
      "state": {
       "border": "solid 4px #222",
       "margin": "4px",
       "padding": "0"
      }
     },
     "839bc4fe309f4107bcafe35f73428917": {
      "model_module": "@jupyter-widgets/controls",
      "model_module_version": "1.5.0",
      "model_name": "DescriptionStyleModel",
      "state": {
       "description_width": ""
      }
     },
     "83ba44bbe3dc4b61a5a0edf970c76afd": {
      "model_module": "@jupyter-widgets/base",
      "model_module_version": "1.2.0",
      "model_name": "LayoutModel",
      "state": {}
     },
     "83ced9a3522b451188d266e2fa272204": {
      "model_module": "@jupyter-widgets/controls",
      "model_module_version": "1.5.0",
      "model_name": "CheckboxModel",
      "state": {
       "description": "Disable Medicina",
       "disabled": false,
       "layout": "IPY_MODEL_a4bb389ece1246569d181dca6d05f116",
       "style": "IPY_MODEL_839bc4fe309f4107bcafe35f73428917",
       "value": false
      }
     },
     "83dd5d53be3c4888b372811a25f8abb4": {
      "model_module": "@jupyter-widgets/base",
      "model_module_version": "1.2.0",
      "model_name": "LayoutModel",
      "state": {}
     },
     "83e2fe9d34bc40f0b22d1dfef996afd1": {
      "model_module": "@jupyter-widgets/base",
      "model_module_version": "1.2.0",
      "model_name": "LayoutModel",
      "state": {
       "border": "solid 4px #222",
       "margin": "4px",
       "padding": "0"
      }
     },
     "841c625fd84d462194884f011f888ae5": {
      "model_module": "@jupyter-widgets/controls",
      "model_module_version": "1.5.0",
      "model_name": "ButtonModel",
      "state": {
       "description": "Export Image",
       "layout": "IPY_MODEL_9f9260b443c3406c8a6857f408a95632",
       "style": "IPY_MODEL_c85d9592a60f4ea6a3b09ab77216eae8"
      }
     },
     "8492057e02264a62bdeffafdf6f88b44": {
      "model_module": "@jupyter-widgets/controls",
      "model_module_version": "1.5.0",
      "model_name": "SliderStyleModel",
      "state": {
       "description_width": ""
      }
     },
     "84ae1e7388894352b5da0e94a140da59": {
      "model_module": "@jupyter-widgets/controls",
      "model_module_version": "1.5.0",
      "model_name": "BoxModel",
      "state": {
       "children": [
        "IPY_MODEL_c84ebdd75e0e4793a4a755b2a14a2653",
        "IPY_MODEL_f8d3aa7ba4614b4cb2eeebb9c9d4e6dd"
       ],
       "layout": "IPY_MODEL_c37271d9a09248e5a0a073b13664dfa8"
      }
     },
     "84b5962454a947e688761bcd90414212": {
      "model_module": "@jupyter-widgets/base",
      "model_module_version": "1.2.0",
      "model_name": "LayoutModel",
      "state": {}
     },
     "84e0fa8102e04c8f93627397ff7e0c4d": {
      "model_module": "@jupyter-widgets/controls",
      "model_module_version": "1.5.0",
      "model_name": "HBoxModel",
      "state": {
       "children": [
        "IPY_MODEL_83ced9a3522b451188d266e2fa272204",
        "IPY_MODEL_fbaaaff2bfad44c9913b0388d6f572d9",
        "IPY_MODEL_5f2e321334644efeb6c61d76abbdcc5b",
        "IPY_MODEL_73c2ec8633b54611899ea1ccbe5751df",
        "IPY_MODEL_1dac731a1ea448c98030f7d7c7de6aae"
       ],
       "layout": "IPY_MODEL_2610fe28ee90458fa0de838cbb87d964"
      }
     },
     "84e43de6da4843aca85cf6b25c4de939": {
      "model_module": "@jupyter-widgets/controls",
      "model_module_version": "1.5.0",
      "model_name": "ButtonModel",
      "state": {
       "description": "Save Figure",
       "layout": "IPY_MODEL_756767be239441e99a31cbb180ed8a90",
       "style": "IPY_MODEL_7f01fb41c9874674b3e1ae8b5877c80e"
      }
     },
     "84ea0879fd184b83847cb83b16d38a6a": {
      "model_module": "@jupyter-widgets/base",
      "model_module_version": "1.2.0",
      "model_name": "LayoutModel",
      "state": {}
     },
     "850151e2665941ad8a697a9ae9ffa790": {
      "model_module": "@jupyter-widgets/controls",
      "model_module_version": "1.5.0",
      "model_name": "BoxModel",
      "state": {
       "children": [
        "IPY_MODEL_9f6da8eb4a664f0b91264c8d14e4eb0e",
        "IPY_MODEL_24ce0c09dcd8452c81d3e6de30b81c91"
       ],
       "layout": "IPY_MODEL_761d20e6aa7f4025842f5499f6c9fa40"
      }
     },
     "8503a2d584384b72b0cc594b830e6d7b": {
      "model_module": "@jupyter-widgets/controls",
      "model_module_version": "1.5.0",
      "model_name": "ButtonStyleModel",
      "state": {}
     },
     "8547b35b6e81410f8d14a4f521e99fba": {
      "model_module": "@jupyter-widgets/controls",
      "model_module_version": "1.5.0",
      "model_name": "HBoxModel",
      "state": {
       "children": [
        "IPY_MODEL_e324b95dca6d43d699622020c3ce848d",
        "IPY_MODEL_e4c170b42c764211863010e076959812",
        "IPY_MODEL_f407851a24c44d2ca675d0de4f51ef12"
       ],
       "layout": "IPY_MODEL_1c21512f7b1a4eee8fd7e9bcfc728d90"
      }
     },
     "855518cf793b4670b6f262600769db16": {
      "model_module": "@jupyter-widgets/controls",
      "model_module_version": "1.5.0",
      "model_name": "SliderStyleModel",
      "state": {
       "description_width": ""
      }
     },
     "856193c7bb9d4180b9ace29cf9336040": {
      "model_module": "@jupyter-widgets/base",
      "model_module_version": "1.2.0",
      "model_name": "LayoutModel",
      "state": {
       "border": "solid 4px #222",
       "margin": "4px",
       "padding": "0"
      }
     },
     "85821f8ad4fe4b3d94f1b0f2a2eac3dd": {
      "model_module": "@jupyter-widgets/controls",
      "model_module_version": "1.5.0",
      "model_name": "HBoxModel",
      "state": {
       "children": [
        "IPY_MODEL_08bc9d7840e14cd69007627bc848aad6",
        "IPY_MODEL_944e8e09494c4611ad25baca3485dca8"
       ],
       "layout": "IPY_MODEL_1797d79337da46d695b5fbc1ed480d73"
      }
     },
     "85ea4a1fca214af69b307aeca311e2aa": {
      "model_module": "@jupyter-widgets/controls",
      "model_module_version": "1.5.0",
      "model_name": "HBoxModel",
      "state": {
       "children": [
        "IPY_MODEL_55736a932fc543c09f2211c46c6ac6cf",
        "IPY_MODEL_0683252cfbe740e9bdb588ebcf464072",
        "IPY_MODEL_70c5e86380ee43aa9bc20dca04faa814",
        "IPY_MODEL_efe7bf2822c842e4b37a31a1bdbbe4e0",
        "IPY_MODEL_fab9b917aeaa460d9c1f85639d8ad2ae"
       ],
       "layout": "IPY_MODEL_f0b741fb36d84b3ea837db2e0648a500"
      }
     },
     "861411cbf77c413598f6853699ae33f1": {
      "model_module": "@jupyter-widgets/base",
      "model_module_version": "1.2.0",
      "model_name": "LayoutModel",
      "state": {}
     },
     "864c66cf1faf4d88aef420295a3ea78a": {
      "model_module": "@jupyter-widgets/controls",
      "model_module_version": "1.5.0",
      "model_name": "SliderStyleModel",
      "state": {
       "description_width": ""
      }
     },
     "867b3a717ecb428c980980a20edef7f5": {
      "model_module": "@jupyter-widgets/base",
      "model_module_version": "1.2.0",
      "model_name": "LayoutModel",
      "state": {}
     },
     "8748ce94db7c4117b41b7c280122f74e": {
      "model_module": "jupyter-matplotlib",
      "model_module_version": "^0.7.2",
      "model_name": "ToolbarModel",
      "state": {
       "layout": "IPY_MODEL_047aa6370f774bc4ac415b0aea03b3fc",
       "toolitems": [
        [
         "Home",
         "Reset original view",
         "home",
         "home"
        ],
        [
         "Back",
         "Back to previous view",
         "arrow-left",
         "back"
        ],
        [
         "Forward",
         "Forward to next view",
         "arrow-right",
         "forward"
        ],
        [
         "Pan",
         "Pan axes with left mouse, zoom with right",
         "arrows",
         "pan"
        ],
        [
         "Zoom",
         "Zoom to rectangle",
         "square-o",
         "zoom"
        ],
        [
         "Download",
         "Download plot",
         "floppy-o",
         "save_figure"
        ]
       ]
      }
     },
     "877a219d11214a3c8fe3aed859d5bc69": {
      "model_module": "@jupyter-widgets/controls",
      "model_module_version": "1.5.0",
      "model_name": "DropdownModel",
      "state": {
       "_options_labels": [
        "tanh",
        "atan",
        "simple"
       ],
       "description": "Compression Function:",
       "index": 0,
       "layout": "IPY_MODEL_6a8175122f11442697fbde7ff5586b4c",
       "style": "IPY_MODEL_c8f3f68e95604890a3a91a7fb446f5a5"
      }
     },
     "87997119671744cdbfd87a255dc5df09": {
      "model_module": "@jupyter-widgets/base",
      "model_module_version": "1.2.0",
      "model_name": "LayoutModel",
      "state": {}
     },
     "87eb76f808054a109da5ea02c1312b1e": {
      "model_module": "@jupyter-widgets/controls",
      "model_module_version": "1.5.0",
      "model_name": "FloatSliderModel",
      "state": {
       "description": "225°",
       "layout": "IPY_MODEL_418517450b33455fa6ae110cc929aaae",
       "max": 1,
       "min": -1,
       "step": 0.01,
       "style": "IPY_MODEL_a14f14441ff4423cae414b67e3c2f3a8"
      }
     },
     "880098fb57f54e418f4714afa71efd1f": {
      "model_module": "@jupyter-widgets/base",
      "model_module_version": "1.2.0",
      "model_name": "LayoutModel",
      "state": {}
     },
     "882220b9878c420eb544bebae8f757bf": {
      "model_module": "@jupyter-widgets/base",
      "model_module_version": "1.2.0",
      "model_name": "LayoutModel",
      "state": {}
     },
     "88951f4ff3564678992cb8a9609c1aa6": {
      "model_module": "@jupyter-widgets/controls",
      "model_module_version": "1.5.0",
      "model_name": "SliderStyleModel",
      "state": {
       "description_width": ""
      }
     },
     "88afa302bdaa4e87a087e2166c3ed043": {
      "model_module": "@jupyter-widgets/controls",
      "model_module_version": "1.5.0",
      "model_name": "SliderStyleModel",
      "state": {
       "description_width": ""
      }
     },
     "88be4854efc2414fbb8be2a21e389a7e": {
      "model_module": "@jupyter-widgets/base",
      "model_module_version": "1.2.0",
      "model_name": "LayoutModel",
      "state": {}
     },
     "88c793f3fd964610943b2310a86f3ae4": {
      "model_module": "@jupyter-widgets/controls",
      "model_module_version": "1.5.0",
      "model_name": "SliderStyleModel",
      "state": {
       "description_width": ""
      }
     },
     "88e09c81b93b424286d5ee161694f0ad": {
      "model_module": "jupyter-matplotlib",
      "model_module_version": "^0.7.2",
      "model_name": "MPLCanvasModel",
      "state": {
       "_figure_label": "Figure 15",
       "_height": 440,
       "_width": 1100,
       "header_visible": false,
       "layout": "IPY_MODEL_a7c34787fa3e4e8f859d83ae4767fce3",
       "resizable": false,
       "toolbar": "IPY_MODEL_2ddaa2e65ced436e9e0efda3d4046fbe",
       "toolbar_position": "left",
       "toolbar_visible": false
      }
     },
     "88ef2904553848fca015dd0e76df40e9": {
      "model_module": "@jupyter-widgets/controls",
      "model_module_version": "1.5.0",
      "model_name": "ButtonStyleModel",
      "state": {}
     },
     "88ff8a2c496b482ab236f9a94fe1f000": {
      "model_module": "@jupyter-widgets/controls",
      "model_module_version": "1.5.0",
      "model_name": "FloatSliderModel",
      "state": {
       "description": "90°",
       "layout": "IPY_MODEL_b75200c36a4449a8ac7f920ecb1a9177",
       "max": 1,
       "min": -1,
       "step": 0.01,
       "style": "IPY_MODEL_b672b767d87847bba0b4cdca5164f315"
      }
     },
     "89277ba238774432990d1516658e872a": {
      "model_module": "@jupyter-widgets/controls",
      "model_module_version": "1.5.0",
      "model_name": "HBoxModel",
      "state": {
       "children": [
        "IPY_MODEL_03ba9846a0624dc4a4c862b49a4ed0a8",
        "IPY_MODEL_4c35a2ff83d542899e1a58910dfde5c0",
        "IPY_MODEL_42799409919244068faa0da7146be84c"
       ],
       "layout": "IPY_MODEL_df72509458464281860be11520e4c49b"
      }
     },
     "89477a2f49714cfc8f537012ecaa4f5c": {
      "model_module": "@jupyter-widgets/base",
      "model_module_version": "1.2.0",
      "model_name": "LayoutModel",
      "state": {}
     },
     "8966cf81b8ed4861a9f4fafd7abd5858": {
      "model_module": "@jupyter-widgets/controls",
      "model_module_version": "1.5.0",
      "model_name": "HBoxModel",
      "state": {
       "children": [
        "IPY_MODEL_d48dab85c51e4ed09ff3e2986638173d",
        "IPY_MODEL_5f839982cf744758ac0a3086826f6d48",
        "IPY_MODEL_2c0cf6cd48144c2c8e71d4792807c952"
       ],
       "layout": "IPY_MODEL_6c7e721d6a1443f9aee9e142dc2b956e"
      }
     },
     "89673a4a1a9445d3ae742d4061942c47": {
      "model_module": "@jupyter-widgets/controls",
      "model_module_version": "1.5.0",
      "model_name": "ButtonStyleModel",
      "state": {}
     },
     "8973588e251940709fafc703b6d93d3d": {
      "model_module": "@jupyter-widgets/base",
      "model_module_version": "1.2.0",
      "model_name": "LayoutModel",
      "state": {}
     },
     "89afd0fb3b33493d81fe04bb0194c26b": {
      "model_module": "@jupyter-widgets/controls",
      "model_module_version": "1.5.0",
      "model_name": "SliderStyleModel",
      "state": {
       "description_width": ""
      }
     },
     "89be35fdc68c403eb2fdfc745c6807cd": {
      "model_module": "@jupyter-widgets/controls",
      "model_module_version": "1.5.0",
      "model_name": "ButtonStyleModel",
      "state": {}
     },
     "89cf097384cb49e9889c621fcea3cb6d": {
      "model_module": "@jupyter-widgets/base",
      "model_module_version": "1.2.0",
      "model_name": "LayoutModel",
      "state": {}
     },
     "8a1b501ee9134abfa83e4d365d876251": {
      "model_module": "@jupyter-widgets/controls",
      "model_module_version": "1.5.0",
      "model_name": "SliderStyleModel",
      "state": {
       "description_width": ""
      }
     },
     "8a1be12d0c094c41bd97d6c2d46879f9": {
      "model_module": "@jupyter-widgets/base",
      "model_module_version": "1.2.0",
      "model_name": "LayoutModel",
      "state": {}
     },
     "8a40b85a7ec34837954a1011639df172": {
      "model_module": "@jupyter-widgets/controls",
      "model_module_version": "1.5.0",
      "model_name": "DescriptionStyleModel",
      "state": {
       "description_width": ""
      }
     },
     "8a5a75e35ebf4a3794dadd9d792f6e23": {
      "model_module": "@jupyter-widgets/base",
      "model_module_version": "1.2.0",
      "model_name": "LayoutModel",
      "state": {}
     },
     "8a5ae9123dd345beb68dd6eeceeff620": {
      "model_module": "@jupyter-widgets/controls",
      "model_module_version": "1.5.0",
      "model_name": "HBoxModel",
      "state": {
       "children": [
        "IPY_MODEL_6a3f5f570cd54b13a4439acda34ec81e",
        "IPY_MODEL_80c43a936f8144c08cc06bf14f94830f",
        "IPY_MODEL_4ae2f968f9d04647a469869cae6a9185",
        "IPY_MODEL_48b49be243594de99ff4fb80b9bd62b6",
        "IPY_MODEL_eb75bc8e0c284a109a045eac2e87a316"
       ],
       "layout": "IPY_MODEL_b556601f2f8941a39491031246596507"
      }
     },
     "8a85a085973949b9ad28111a2f9cf3cf": {
      "model_module": "@jupyter-widgets/base",
      "model_module_version": "1.2.0",
      "model_name": "LayoutModel",
      "state": {}
     },
     "8a862037bbd74c3587aa57c1e3ab0302": {
      "model_module": "@jupyter-widgets/base",
      "model_module_version": "1.2.0",
      "model_name": "LayoutModel",
      "state": {}
     },
     "8ab1260114ba49908672f1a64775139c": {
      "model_module": "@jupyter-widgets/base",
      "model_module_version": "1.2.0",
      "model_name": "LayoutModel",
      "state": {}
     },
     "8b02a2eea22f4461a1a197c5adcc2700": {
      "model_module": "@jupyter-widgets/output",
      "model_module_version": "1.0.0",
      "model_name": "OutputModel",
      "state": {
       "layout": "IPY_MODEL_8383fa580b8e4e8386e9502b83b4f719",
       "outputs": [
        {
         "data": {
          "application/vnd.jupyter.widget-view+json": {
           "model_id": "de4ba26a40d04515b0524aad0dc27402",
           "version_major": 2,
           "version_minor": 0
          },
          "text/plain": "Canvas(toolbar=Toolbar(toolitems=[('Home', 'Reset original view', 'home', 'home'), ('Back', 'Back to previous …"
         },
         "metadata": {},
         "output_type": "display_data"
        }
       ]
      }
     },
     "8b116afd806848e496faf9accb512aa8": {
      "model_module": "@jupyter-widgets/controls",
      "model_module_version": "1.5.0",
      "model_name": "SliderStyleModel",
      "state": {
       "description_width": ""
      }
     },
     "8b1a8aa7ecda481db2b18a6820444ee8": {
      "model_module": "@jupyter-widgets/controls",
      "model_module_version": "1.5.0",
      "model_name": "FloatSliderModel",
      "state": {
       "description": "Exposure",
       "layout": "IPY_MODEL_51b9a4261d00420b889d843cc184ab68",
       "max": 8,
       "min": -8,
       "step": 0.1,
       "style": "IPY_MODEL_9dc596ec2d234e109e1fe878eb065e60"
      }
     },
     "8b91637f62ad4457af979e7c463ec6a1": {
      "model_module": "@jupyter-widgets/controls",
      "model_module_version": "1.5.0",
      "model_name": "FloatSliderModel",
      "state": {
       "description": "Exposure",
       "layout": "IPY_MODEL_dda6715fdd294c708c0c15a0f174d253",
       "max": 8,
       "min": -8,
       "step": 0.1,
       "style": "IPY_MODEL_187e24a14b9e48148c8da062654e8974"
      }
     },
     "8c241e8655ae4d17bd8cc95b0863c562": {
      "model_module": "@jupyter-widgets/base",
      "model_module_version": "1.2.0",
      "model_name": "LayoutModel",
      "state": {
       "border": "solid 4px #222",
       "margin": "4px",
       "padding": "0"
      }
     },
     "8c2e1dc02960468b963d321b599e5525": {
      "model_module": "@jupyter-widgets/controls",
      "model_module_version": "1.5.0",
      "model_name": "FloatSliderModel",
      "state": {
       "description": "180°",
       "layout": "IPY_MODEL_d579bfe20dcb4df9a5e5ab0566b79609",
       "max": 1,
       "min": -1,
       "step": 0.01,
       "style": "IPY_MODEL_ff754b32abc949e090d2adf0fa02cc22"
      }
     },
     "8c4402b6164f43e698aced058734341f": {
      "model_module": "@jupyter-widgets/controls",
      "model_module_version": "1.5.0",
      "model_name": "SliderStyleModel",
      "state": {
       "description_width": ""
      }
     },
     "8c9498de41fa412984323aa5d2da879f": {
      "model_module": "@jupyter-widgets/base",
      "model_module_version": "1.2.0",
      "model_name": "LayoutModel",
      "state": {}
     },
     "8ca648c122a2423eb55582ad31b15869": {
      "model_module": "@jupyter-widgets/controls",
      "model_module_version": "1.5.0",
      "model_name": "SliderStyleModel",
      "state": {
       "description_width": ""
      }
     },
     "8cc8ad6fde6f41fb99699d4b7c1700c1": {
      "model_module": "@jupyter-widgets/base",
      "model_module_version": "1.2.0",
      "model_name": "LayoutModel",
      "state": {}
     },
     "8cdcff9e3c1a4da4a6090c261fe30bbc": {
      "model_module": "@jupyter-widgets/controls",
      "model_module_version": "1.5.0",
      "model_name": "ButtonStyleModel",
      "state": {}
     },
     "8cf8b970d5b04a4b85d1ff8ea5ea9ec4": {
      "model_module": "@jupyter-widgets/base",
      "model_module_version": "1.2.0",
      "model_name": "LayoutModel",
      "state": {}
     },
     "8d040345889949a5945985e0a531d0b5": {
      "model_module": "@jupyter-widgets/controls",
      "model_module_version": "1.5.0",
      "model_name": "FloatSliderModel",
      "state": {
       "description": "Compression Threshold",
       "layout": "IPY_MODEL_42641d1d5dbc46ce8f179ffed2d14859",
       "max": 1,
       "step": 0.01,
       "style": "IPY_MODEL_dfc91f6613864f59a694431ad04d11d5",
       "value": 0.5
      }
     },
     "8d21e2d0a5474e71a8c67c0c517ff8db": {
      "model_module": "@jupyter-widgets/controls",
      "model_module_version": "1.5.0",
      "model_name": "ButtonStyleModel",
      "state": {}
     },
     "8d357b4de06540f3bed0de9edfb7681f": {
      "model_module": "@jupyter-widgets/base",
      "model_module_version": "1.2.0",
      "model_name": "LayoutModel",
      "state": {}
     },
     "8d583110445a40c6af6bf85f43fe9c51": {
      "model_module": "@jupyter-widgets/base",
      "model_module_version": "1.2.0",
      "model_name": "LayoutModel",
      "state": {}
     },
     "8d5ffa0a96584acdb25029d7d063506b": {
      "model_module": "@jupyter-widgets/controls",
      "model_module_version": "1.5.0",
      "model_name": "SliderStyleModel",
      "state": {
       "description_width": ""
      }
     },
     "8d8e3d99423a4e3bbb20deecc7de422c": {
      "model_module": "@jupyter-widgets/base",
      "model_module_version": "1.2.0",
      "model_name": "LayoutModel",
      "state": {}
     },
     "8d943d8b271f4b4dadf496b7bbb689bb": {
      "model_module": "@jupyter-widgets/controls",
      "model_module_version": "1.5.0",
      "model_name": "CheckboxModel",
      "state": {
       "description": "Disable Medicina",
       "disabled": false,
       "layout": "IPY_MODEL_274a4c214d7a40c8a3d7ffc911c49789",
       "style": "IPY_MODEL_2ae6805243a1411cad7490220c50b510",
       "value": false
      }
     },
     "8dbfd5d7e3cd4f7db2a9151c9837d2a3": {
      "model_module": "@jupyter-widgets/base",
      "model_module_version": "1.2.0",
      "model_name": "LayoutModel",
      "state": {}
     },
     "8ddc93a617204fac835340e1a11148e9": {
      "model_module": "@jupyter-widgets/controls",
      "model_module_version": "1.5.0",
      "model_name": "TabModel",
      "state": {
       "_titles": {
        "0": "Global Controls",
        "1": "Compression Controls"
       },
       "children": [
        "IPY_MODEL_507a15541781465d8e4bc137cc0039e6",
        "IPY_MODEL_5523e35a5d314ee08127e9678d26f3c1"
       ],
       "layout": "IPY_MODEL_0d12bd9c57e4460aaa28bd49bb6c3a29"
      }
     },
     "8de18b1ddcce4ae8a1ff8cc72bc65097": {
      "model_module": "@jupyter-widgets/base",
      "model_module_version": "1.2.0",
      "model_name": "LayoutModel",
      "state": {}
     },
     "8e309292abf24e5c9ce73e2646823500": {
      "model_module": "@jupyter-widgets/controls",
      "model_module_version": "1.5.0",
      "model_name": "SliderStyleModel",
      "state": {
       "description_width": ""
      }
     },
     "8e5dc0f0046c40429ed2a5a1a698e487": {
      "model_module": "@jupyter-widgets/base",
      "model_module_version": "1.2.0",
      "model_name": "LayoutModel",
      "state": {}
     },
     "8e610017fbcf44fab87ae516846ff266": {
      "model_module": "@jupyter-widgets/controls",
      "model_module_version": "1.5.0",
      "model_name": "VBoxModel",
      "state": {
       "children": [
        "IPY_MODEL_b390721785ad4d80bca08ba5681d49c6",
        "IPY_MODEL_f0b3354d6ec94e788775ab8d2a7e65df",
        "IPY_MODEL_fd9428c1e48a4b28b2f1c6293f53eb8c"
       ],
       "layout": "IPY_MODEL_280619bd79304f6ba1da9422e5129563"
      }
     },
     "8e6261e1fbc94e7dab72a0d737da751d": {
      "model_module": "@jupyter-widgets/controls",
      "model_module_version": "1.5.0",
      "model_name": "ButtonStyleModel",
      "state": {}
     },
     "8e7c11e8163e409c8fbd725a33aba81c": {
      "model_module": "@jupyter-widgets/controls",
      "model_module_version": "1.5.0",
      "model_name": "ButtonModel",
      "state": {
       "description": "Reset Protected Area",
       "layout": "IPY_MODEL_790eb55bf35447d68f9a7ec14f981786",
       "style": "IPY_MODEL_8d21e2d0a5474e71a8c67c0c517ff8db"
      }
     },
     "8e8a8dba10bd4e6d9deb3f973a06e728": {
      "model_module": "@jupyter-widgets/controls",
      "model_module_version": "1.5.0",
      "model_name": "VBoxModel",
      "state": {
       "children": [
        "IPY_MODEL_b3b7e0bdf617476dba4b8344ca0959b5",
        "IPY_MODEL_41350a4d968a49678c7651165b4a230b",
        "IPY_MODEL_9731eedd63f94fca9bdbd63a7fda1105"
       ],
       "layout": "IPY_MODEL_e3e721d680e140b49f3062c93488988f"
      }
     },
     "8e9a33233d834bdeaaa773ecee1e1d2f": {
      "model_module": "@jupyter-widgets/base",
      "model_module_version": "1.2.0",
      "model_name": "LayoutModel",
      "state": {}
     },
     "8eb7414fa3ff427cbaccecb3a786dc5f": {
      "model_module": "@jupyter-widgets/base",
      "model_module_version": "1.2.0",
      "model_name": "LayoutModel",
      "state": {
       "border": "solid 4px #222",
       "margin": "4px",
       "padding": "0"
      }
     },
     "8ec8516b0ffa458fae990a4f61e41804": {
      "model_module": "@jupyter-widgets/controls",
      "model_module_version": "1.5.0",
      "model_name": "SliderStyleModel",
      "state": {
       "description_width": ""
      }
     },
     "8f39315a431046baad4bfc94b86de1d9": {
      "model_module": "@jupyter-widgets/base",
      "model_module_version": "1.2.0",
      "model_name": "LayoutModel",
      "state": {}
     },
     "8f3af327e9174b1b8b82582523be8369": {
      "model_module": "@jupyter-widgets/base",
      "model_module_version": "1.2.0",
      "model_name": "LayoutModel",
      "state": {}
     },
     "8f493808cd2b42b88a35d1817ffe0515": {
      "model_module": "@jupyter-widgets/controls",
      "model_module_version": "1.5.0",
      "model_name": "ButtonModel",
      "state": {
       "description": "Reset Hue Controls",
       "layout": "IPY_MODEL_44afcc9aaea24c07a194e238d6870c30",
       "style": "IPY_MODEL_7cd7f6acf3ea499fb7b30f6f6b3412be"
      }
     },
     "8f686fc8423145cfab6c787010a61f6b": {
      "model_module": "@jupyter-widgets/base",
      "model_module_version": "1.2.0",
      "model_name": "LayoutModel",
      "state": {
       "border": "solid 4px #222",
       "margin": "4px",
       "padding": "0"
      }
     },
     "8fac290ee88e443ca9e32e043baca5dc": {
      "model_module": "@jupyter-widgets/base",
      "model_module_version": "1.2.0",
      "model_name": "LayoutModel",
      "state": {}
     },
     "8fb32931ca17499ab8e3e8febf1c6b80": {
      "model_module": "@jupyter-widgets/base",
      "model_module_version": "1.2.0",
      "model_name": "LayoutModel",
      "state": {}
     },
     "8fd46ea9642a44c38ed5bcda93cb6767": {
      "model_module": "@jupyter-widgets/base",
      "model_module_version": "1.2.0",
      "model_name": "LayoutModel",
      "state": {}
     },
     "906c238d798f4025ab0c9bda5cafe026": {
      "model_module": "@jupyter-widgets/controls",
      "model_module_version": "1.5.0",
      "model_name": "FloatSliderModel",
      "state": {
       "description": "0°",
       "layout": "IPY_MODEL_84ea0879fd184b83847cb83b16d38a6a",
       "max": 1,
       "min": -1,
       "step": 0.01,
       "style": "IPY_MODEL_a900dc63fdc54c738665a16e5d674764"
      }
     },
     "909cc79490c34cf498833ccb5e660cb7": {
      "model_module": "@jupyter-widgets/base",
      "model_module_version": "1.2.0",
      "model_name": "LayoutModel",
      "state": {
       "border": "solid 4px #222",
       "margin": "4px",
       "padding": "0"
      }
     },
     "90d3545f080d44489af1a603eb9ec782": {
      "model_module": "@jupyter-widgets/controls",
      "model_module_version": "1.5.0",
      "model_name": "SliderStyleModel",
      "state": {
       "description_width": ""
      }
     },
     "90f1485919984d8192013ed3e9dbcebb": {
      "model_module": "@jupyter-widgets/controls",
      "model_module_version": "1.5.0",
      "model_name": "SliderStyleModel",
      "state": {
       "description_width": ""
      }
     },
     "914884913ade4aebbe7ad430bdfcacbf": {
      "model_module": "@jupyter-widgets/controls",
      "model_module_version": "1.5.0",
      "model_name": "VBoxModel",
      "state": {
       "children": [
        "IPY_MODEL_9a0d70d2514040f9a99bd42f85879c57",
        "IPY_MODEL_4431b53d94704b0ea16d8d28a0bd4053",
        "IPY_MODEL_acfa7202b77f42a7915f896439baccc6"
       ],
       "layout": "IPY_MODEL_1ab16265ae2845d6b7ba64e922dd5749"
      }
     },
     "916d2d9de8e24261a06a91ad01d9d2ce": {
      "model_module": "@jupyter-widgets/controls",
      "model_module_version": "1.5.0",
      "model_name": "FloatSliderModel",
      "state": {
       "description": "180°",
       "layout": "IPY_MODEL_83ba44bbe3dc4b61a5a0edf970c76afd",
       "max": 1,
       "min": -1,
       "step": 0.01,
       "style": "IPY_MODEL_c8aca4e997f64c5dac57f9faac64f62e"
      }
     },
     "91a4a2778e944708bf3a5cf392f9f82d": {
      "model_module": "jupyter-matplotlib",
      "model_module_version": "^0.7.2",
      "model_name": "MPLCanvasModel",
      "state": {
       "_figure_label": "Figure 13",
       "_height": 550,
       "_width": 1100,
       "header_visible": false,
       "layout": "IPY_MODEL_d123acc11371428bac38d6f51e6091c0",
       "resizable": false,
       "toolbar": "IPY_MODEL_1426b4e610724834999f94f73d87396c",
       "toolbar_position": "left",
       "toolbar_visible": false
      }
     },
     "91a6477437894e98bb1fd2b56888dd67": {
      "model_module": "@jupyter-widgets/controls",
      "model_module_version": "1.5.0",
      "model_name": "HBoxModel",
      "state": {
       "children": [
        "IPY_MODEL_a67e52988e6c4cfb935ae053b82718c1",
        "IPY_MODEL_4f3e514d3d8a48208d3ca94db4800d8f",
        "IPY_MODEL_5fe3caa0d17a4c3ca233e37ec2808ed5",
        "IPY_MODEL_8291e35ce4184ff49f4a7e27e6c719e4"
       ],
       "layout": "IPY_MODEL_478c62e0a67145d2b0fa45092c8bea20"
      }
     },
     "91b6a733c07c41438628c15ae1714df2": {
      "model_module": "@jupyter-widgets/controls",
      "model_module_version": "1.5.0",
      "model_name": "FloatSliderModel",
      "state": {
       "description": "135°",
       "layout": "IPY_MODEL_e0c28230d8374838bf881b5d092bc3ae",
       "max": 1,
       "min": -1,
       "step": 0.01,
       "style": "IPY_MODEL_7a9a6fc9b09142328bc8b96cfe386407"
      }
     },
     "91d544982c034934826f1dea87a6dc3f": {
      "model_module": "jupyter-matplotlib",
      "model_module_version": "^0.7.2",
      "model_name": "MPLCanvasModel",
      "state": {
       "_figure_label": "Figure 19",
       "_height": 430,
       "_width": 1099,
       "header_visible": false,
       "layout": "IPY_MODEL_e906df6d36e247149695ef7447b7563f",
       "resizable": false,
       "toolbar": "IPY_MODEL_9538bc4d89cf4bce99f3a6eef5f759fd",
       "toolbar_position": "left",
       "toolbar_visible": false
      }
     },
     "91ef563b28d24215bdef01baec6b8845": {
      "model_module": "@jupyter-widgets/controls",
      "model_module_version": "1.5.0",
      "model_name": "ButtonModel",
      "state": {
       "description": "Export Image",
       "layout": "IPY_MODEL_a99b421421c344afb5033f3007ec676a",
       "style": "IPY_MODEL_778f93d210364cfd840dd9d63b736ab3"
      }
     },
     "920a8b847df044069bdc3cf778c7a2e9": {
      "model_module": "@jupyter-widgets/controls",
      "model_module_version": "1.5.0",
      "model_name": "FloatSliderModel",
      "state": {
       "description": "270°",
       "layout": "IPY_MODEL_c0734566748044cba41af3d29cbb97bd",
       "max": 1,
       "min": -1,
       "step": 0.01,
       "style": "IPY_MODEL_351a820807b243d8baec3676a06e68b6"
      }
     },
     "921ee72b2f2f4bfc97048343014f6043": {
      "model_module": "@jupyter-widgets/base",
      "model_module_version": "1.2.0",
      "model_name": "LayoutModel",
      "state": {}
     },
     "923cfc1afaa14bd9b1203f25897f95b8": {
      "model_module": "@jupyter-widgets/base",
      "model_module_version": "1.2.0",
      "model_name": "LayoutModel",
      "state": {}
     },
     "925d5d4b3edf4f0e84aad7d5ca109a02": {
      "model_module": "@jupyter-widgets/base",
      "model_module_version": "1.2.0",
      "model_name": "LayoutModel",
      "state": {}
     },
     "92c0dc843f874eee84c2de9def05b11e": {
      "model_module": "@jupyter-widgets/controls",
      "model_module_version": "1.5.0",
      "model_name": "HBoxModel",
      "state": {
       "children": [
        "IPY_MODEL_ce9e2de1b58a406d943a6cfaa4c23489",
        "IPY_MODEL_e176307cff9243c1856dfd1118517a60",
        "IPY_MODEL_bdbc41e0c7dd456d9e31dc74d48409de"
       ],
       "layout": "IPY_MODEL_20480b105b234583838c2ddde8cd2a8c"
      }
     },
     "92c6d45d9bdb411795b06abab8a1b80f": {
      "model_module": "@jupyter-widgets/controls",
      "model_module_version": "1.5.0",
      "model_name": "FloatSliderModel",
      "state": {
       "description": "45°",
       "layout": "IPY_MODEL_eaba6780e8914eaf8f7dad7f2a0d4070",
       "max": 1,
       "min": -1,
       "step": 0.01,
       "style": "IPY_MODEL_e68790d7ae7441849280edf772b55e89"
      }
     },
     "9395127b2a214705b49f1f15a8dd7c3f": {
      "model_module": "@jupyter-widgets/base",
      "model_module_version": "1.2.0",
      "model_name": "LayoutModel",
      "state": {}
     },
     "93e9f326563b4747999c4cc45b0337f1": {
      "model_module": "@jupyter-widgets/base",
      "model_module_version": "1.2.0",
      "model_name": "LayoutModel",
      "state": {}
     },
     "944e8e09494c4611ad25baca3485dca8": {
      "model_module": "@jupyter-widgets/controls",
      "model_module_version": "1.5.0",
      "model_name": "FloatSliderModel",
      "state": {
       "description": "Protected Area Threshold",
       "layout": "IPY_MODEL_e231d06c0e8d4d22b8c66028fb5e25fc",
       "max": 1,
       "step": 0.01,
       "style": "IPY_MODEL_03d3fbc445bb4b479d60442e7c95d885",
       "value": 0.7
      }
     },
     "949ee79601304d67a33cae65750c55eb": {
      "model_module": "@jupyter-widgets/controls",
      "model_module_version": "1.5.0",
      "model_name": "DescriptionStyleModel",
      "state": {
       "description_width": ""
      }
     },
     "94ce2f8c428f494c83776c96bc000d95": {
      "model_module": "@jupyter-widgets/controls",
      "model_module_version": "1.5.0",
      "model_name": "ButtonModel",
      "state": {
       "description": "Save Figure",
       "layout": "IPY_MODEL_7fc43ded779348d4bd9533307154a818",
       "style": "IPY_MODEL_71255d3005cb4d799fbace9dd8196803"
      }
     },
     "95121992c28340c7bfafd8ffb2bb66bb": {
      "model_module": "@jupyter-widgets/base",
      "model_module_version": "1.2.0",
      "model_name": "LayoutModel",
      "state": {}
     },
     "9515e62c48f34b488fe1bb55cfd0ec94": {
      "model_module": "@jupyter-widgets/base",
      "model_module_version": "1.2.0",
      "model_name": "LayoutModel",
      "state": {}
     },
     "9538bc4d89cf4bce99f3a6eef5f759fd": {
      "model_module": "jupyter-matplotlib",
      "model_module_version": "^0.7.2",
      "model_name": "ToolbarModel",
      "state": {
       "layout": "IPY_MODEL_45026d47db144928b3748ed0d73b69e1",
       "toolitems": [
        [
         "Home",
         "Reset original view",
         "home",
         "home"
        ],
        [
         "Back",
         "Back to previous view",
         "arrow-left",
         "back"
        ],
        [
         "Forward",
         "Forward to next view",
         "arrow-right",
         "forward"
        ],
        [
         "Pan",
         "Pan axes with left mouse, zoom with right",
         "arrows",
         "pan"
        ],
        [
         "Zoom",
         "Zoom to rectangle",
         "square-o",
         "zoom"
        ],
        [
         "Download",
         "Download plot",
         "floppy-o",
         "save_figure"
        ]
       ]
      }
     },
     "95ddb9bf767e4b7b9d6458a81007d3d5": {
      "model_module": "@jupyter-widgets/controls",
      "model_module_version": "1.5.0",
      "model_name": "TabModel",
      "state": {
       "_titles": {
        "0": "Global Controls",
        "1": "Protected Area Controls",
        "2": "Saturation Controls",
        "3": "Hue Controls"
       },
       "children": [
        "IPY_MODEL_2cec056e60264f32b01d3cf319d7a103",
        "IPY_MODEL_2d96c1fd798541498d4b66a960dbc882",
        "IPY_MODEL_2b4ed7b6d46d4d6c9368ea3a15daf873",
        "IPY_MODEL_cfe1d0436a0d485c9d5034dcf5839f67"
       ],
       "layout": "IPY_MODEL_1796bb3ae728497f82307a42797f28c9"
      }
     },
     "95e2b0642bae41c487b6499b230998ce": {
      "model_module": "@jupyter-widgets/controls",
      "model_module_version": "1.5.0",
      "model_name": "ButtonModel",
      "state": {
       "description": "Reset Saturation Controls",
       "layout": "IPY_MODEL_239f58cfb9f14d4ea12c41ff3b69d91f",
       "style": "IPY_MODEL_2f0415b47129461884be0ef36e0e7241"
      }
     },
     "962f67c9ed2249d08ea0ad58369878b6": {
      "model_module": "@jupyter-widgets/base",
      "model_module_version": "1.2.0",
      "model_name": "LayoutModel",
      "state": {}
     },
     "96522ae477094dfeaee43d0a30e19046": {
      "model_module": "@jupyter-widgets/base",
      "model_module_version": "1.2.0",
      "model_name": "LayoutModel",
      "state": {}
     },
     "9655d58a1caa476e88c66ea787a6c021": {
      "model_module": "@jupyter-widgets/controls",
      "model_module_version": "1.5.0",
      "model_name": "SliderStyleModel",
      "state": {
       "description_width": ""
      }
     },
     "968c9a7d4a8842e5a09825fdbb41ce16": {
      "model_module": "@jupyter-widgets/base",
      "model_module_version": "1.2.0",
      "model_name": "LayoutModel",
      "state": {
       "align_items": "stretch",
       "display": "flex",
       "flex_flow": "column",
       "width": "1128px"
      }
     },
     "9696b7d2d25c4fb099653ca4399fef95": {
      "model_module": "@jupyter-widgets/controls",
      "model_module_version": "1.5.0",
      "model_name": "SliderStyleModel",
      "state": {
       "description_width": ""
      }
     },
     "969a3a5f050f4b3bb5d01ebbc306c844": {
      "model_module": "@jupyter-widgets/base",
      "model_module_version": "1.2.0",
      "model_name": "LayoutModel",
      "state": {}
     },
     "96f636ba445b45bcbd1d0fdd0b915699": {
      "model_module": "@jupyter-widgets/base",
      "model_module_version": "1.2.0",
      "model_name": "LayoutModel",
      "state": {}
     },
     "9705d5781d884e21a012f80024e463b5": {
      "model_module": "@jupyter-widgets/controls",
      "model_module_version": "1.5.0",
      "model_name": "HBoxModel",
      "state": {
       "children": [
        "IPY_MODEL_bf88caa7d9334b138d5ba1a297112a1c",
        "IPY_MODEL_f9b26c2c21f143bca4defbd080639fd8"
       ],
       "layout": "IPY_MODEL_128ac3dd9abd486aaf978c5df9fa1f5e"
      }
     },
     "9731eedd63f94fca9bdbd63a7fda1105": {
      "model_module": "@jupyter-widgets/controls",
      "model_module_version": "1.5.0",
      "model_name": "FloatSliderModel",
      "state": {
       "description": "225°",
       "layout": "IPY_MODEL_dcb1c55166d54e2ebce7e741d0ce57ba",
       "max": 1,
       "min": -1,
       "step": 0.01,
       "style": "IPY_MODEL_057944e206e84b499111ff8e534c267d"
      }
     },
     "97509ace579a4f10adb4fae8a91dd45c": {
      "model_module": "@jupyter-widgets/controls",
      "model_module_version": "1.5.0",
      "model_name": "ButtonModel",
      "state": {
       "description": "Export Image",
       "layout": "IPY_MODEL_a5ee1e25cdd5408d92b6e7b9f1c042c4",
       "style": "IPY_MODEL_72befd7a0b79406a89e740be4d66beb2"
      }
     },
     "97519f85616e40eea52fe8fa989d6c60": {
      "model_module": "@jupyter-widgets/controls",
      "model_module_version": "1.5.0",
      "model_name": "SliderStyleModel",
      "state": {
       "description_width": ""
      }
     },
     "9785cf3f90e84310833d742d99e580b8": {
      "model_module": "@jupyter-widgets/controls",
      "model_module_version": "1.5.0",
      "model_name": "ButtonStyleModel",
      "state": {}
     },
     "97865720330746f5984cde8a864f3e4d": {
      "model_module": "@jupyter-widgets/controls",
      "model_module_version": "1.5.0",
      "model_name": "CheckboxModel",
      "state": {
       "description": "Disable Medicina",
       "disabled": false,
       "layout": "IPY_MODEL_8fb32931ca17499ab8e3e8febf1c6b80",
       "style": "IPY_MODEL_b094e288f5864526b9f36cc1e7374f53",
       "value": false
      }
     },
     "9788c6c002914cfcba95695f6da8f90b": {
      "model_module": "@jupyter-widgets/controls",
      "model_module_version": "1.5.0",
      "model_name": "TabModel",
      "state": {
       "_titles": {
        "0": "Global Controls"
       },
       "children": [
        "IPY_MODEL_cfab7feb09f84080845e57753e9b255c"
       ],
       "layout": "IPY_MODEL_03fedaff86034e7f826b93370329fb93"
      }
     },
     "979f46cdc20d42ae9fa57d6c75c30d76": {
      "model_module": "@jupyter-widgets/controls",
      "model_module_version": "1.5.0",
      "model_name": "ButtonModel",
      "state": {
       "description": "Reset Compression Controls",
       "layout": "IPY_MODEL_b3ef3e7fe1aa4352b816306704d368e7",
       "style": "IPY_MODEL_ce2ba1bd7d844118b39c6ae6c8a19930"
      }
     },
     "98207bbcff7144eabd701d686bdfd140": {
      "model_module": "@jupyter-widgets/controls",
      "model_module_version": "1.5.0",
      "model_name": "SliderStyleModel",
      "state": {
       "description_width": ""
      }
     },
     "982f62dd0d7e423b9b9c5d7cd92f806f": {
      "model_module": "@jupyter-widgets/base",
      "model_module_version": "1.2.0",
      "model_name": "LayoutModel",
      "state": {}
     },
     "98464ae6df69487a9e4950d9bee79ef6": {
      "model_module": "@jupyter-widgets/controls",
      "model_module_version": "1.5.0",
      "model_name": "ButtonStyleModel",
      "state": {}
     },
     "98c932b5f8b74dc48a5b03aa56c3cdea": {
      "model_module": "@jupyter-widgets/base",
      "model_module_version": "1.2.0",
      "model_name": "LayoutModel",
      "state": {}
     },
     "98ce0241396a49339e7ea6b565ecb546": {
      "model_module": "@jupyter-widgets/controls",
      "model_module_version": "1.5.0",
      "model_name": "ButtonModel",
      "state": {
       "description": "Save Figure",
       "layout": "IPY_MODEL_d3ef8cf065ce4e3aa1124e3ccb7450ea",
       "style": "IPY_MODEL_89673a4a1a9445d3ae742d4061942c47"
      }
     },
     "98e51f6b96944d22930080db93a2d887": {
      "model_module": "@jupyter-widgets/controls",
      "model_module_version": "1.5.0",
      "model_name": "HBoxModel",
      "state": {
       "children": [
        "IPY_MODEL_f9dfae85ff86469e9624356c89f61c06",
        "IPY_MODEL_c3764f1b0da94513be3eba7f853cce2a",
        "IPY_MODEL_ef23cde4ab554e25b48dcd2d0e29b88c",
        "IPY_MODEL_23e3274a48c14b0596792e858de51fbf",
        "IPY_MODEL_c4657b2735c644a9bbc5dada62c7bdef"
       ],
       "layout": "IPY_MODEL_f1b701ea1a384161964a2c8c06734312"
      }
     },
     "98edae9825eb4cceae199c7bcb2cd6ef": {
      "model_module": "@jupyter-widgets/base",
      "model_module_version": "1.2.0",
      "model_name": "LayoutModel",
      "state": {}
     },
     "992bf140cb9e4d25a362ac56e258e4c6": {
      "model_module": "@jupyter-widgets/base",
      "model_module_version": "1.2.0",
      "model_name": "LayoutModel",
      "state": {}
     },
     "99651330ea044aa4b92c4ca650acc599": {
      "model_module": "@jupyter-widgets/controls",
      "model_module_version": "1.5.0",
      "model_name": "ButtonModel",
      "state": {
       "description": "Save Figure",
       "layout": "IPY_MODEL_b4f24c52b69649e9bccf809308a347b4",
       "style": "IPY_MODEL_5d94b19d651c42f7b25293085fc5b05d"
      }
     },
     "99ef6e9160b8443197886091c910237d": {
      "model_module": "@jupyter-widgets/base",
      "model_module_version": "1.2.0",
      "model_name": "LayoutModel",
      "state": {}
     },
     "9a0d70d2514040f9a99bd42f85879c57": {
      "model_module": "@jupyter-widgets/controls",
      "model_module_version": "1.5.0",
      "model_name": "FloatSliderModel",
      "state": {
       "description": "0°",
       "layout": "IPY_MODEL_524b00014d1b496f85084327f7bd1432",
       "max": 1,
       "min": -1,
       "step": 0.01,
       "style": "IPY_MODEL_ba0890711a2344d1a6f43530740c0340"
      }
     },
     "9a41ed130fb748f28d42c86b92f4431e": {
      "model_module": "@jupyter-widgets/controls",
      "model_module_version": "1.5.0",
      "model_name": "FloatSliderModel",
      "state": {
       "description": "Exposure",
       "layout": "IPY_MODEL_526af1c244af465b9ec08949147b64f7",
       "max": 8,
       "min": -8,
       "step": 0.1,
       "style": "IPY_MODEL_0511f4ada6134718882574c7c3dd05ef"
      }
     },
     "9a501b8107694ed4b40fc44bae33ebe3": {
      "model_module": "jupyter-matplotlib",
      "model_module_version": "^0.7.2",
      "model_name": "MPLCanvasModel",
      "state": {
       "_figure_label": "Figure 2",
       "_height": 396,
       "_image_mode": "diff",
       "_message": "x=229.797      y=349.675      [0, 0.845, 0.847]",
       "_width": 1100,
       "header_visible": false,
       "layout": "IPY_MODEL_4781b6dcedd14072a3d0506b8e42e6e4",
       "resizable": false,
       "toolbar": "IPY_MODEL_470e670710fc4c16950384986dcdbe67",
       "toolbar_position": "left",
       "toolbar_visible": false
      }
     },
     "9a64b07ff5e146b19abc92931d0ba0e6": {
      "model_module": "@jupyter-widgets/base",
      "model_module_version": "1.2.0",
      "model_name": "LayoutModel",
      "state": {}
     },
     "9a7fc4df6cdc4bb39e60644dac1dd4ad": {
      "model_module": "jupyter-matplotlib",
      "model_module_version": "^0.7.2",
      "model_name": "MPLCanvasModel",
      "state": {
       "_figure_label": "Figure 21",
       "_height": 550,
       "_width": 1100,
       "header_visible": false,
       "layout": "IPY_MODEL_bc6527b451dc4d19bb8bd6e61dc35baf",
       "resizable": false,
       "toolbar": "IPY_MODEL_c486cbc2560347129a8674e3d12c1abb",
       "toolbar_position": "left",
       "toolbar_visible": false
      }
     },
     "9acb1e5bc07c46a3ad99bb0e922c25ff": {
      "model_module": "@jupyter-widgets/base",
      "model_module_version": "1.2.0",
      "model_name": "LayoutModel",
      "state": {}
     },
     "9ae26172f55f45e2be9e35b4b8f42908": {
      "model_module": "@jupyter-widgets/controls",
      "model_module_version": "1.5.0",
      "model_name": "ButtonStyleModel",
      "state": {}
     },
     "9af2c317cc2647879e5c7c37f2987160": {
      "model_module": "@jupyter-widgets/controls",
      "model_module_version": "1.5.0",
      "model_name": "FloatSliderModel",
      "state": {
       "description": "Exposure",
       "layout": "IPY_MODEL_c9c20a70be5546cba2478d3055074d3a",
       "max": 8,
       "min": -8,
       "step": 0.1,
       "style": "IPY_MODEL_5a341726976c4b858a82848ea196b3f5"
      }
     },
     "9b2bff2c4300480381d701fb37ede6cd": {
      "model_module": "@jupyter-widgets/base",
      "model_module_version": "1.2.0",
      "model_name": "LayoutModel",
      "state": {}
     },
     "9b31f003393444a0bf449b7c23df117f": {
      "model_module": "@jupyter-widgets/controls",
      "model_module_version": "1.5.0",
      "model_name": "SliderStyleModel",
      "state": {
       "description_width": ""
      }
     },
     "9b876d6c24d047f1b15e3e5557a6d1e3": {
      "model_module": "jupyter-matplotlib",
      "model_module_version": "^0.7.2",
      "model_name": "MPLCanvasModel",
      "state": {
       "_figure_label": "Figure 20",
       "_height": 550,
       "_width": 1100,
       "header_visible": false,
       "layout": "IPY_MODEL_b086e87f7e434bf4b85d8158b3e24f57",
       "resizable": false,
       "toolbar": "IPY_MODEL_fb00d82b55c14b56aaf1140932e96716",
       "toolbar_position": "left",
       "toolbar_visible": false
      }
     },
     "9b8c65d6fe304971b43604b9716b1f3e": {
      "model_module": "jupyter-matplotlib",
      "model_module_version": "^0.7.2",
      "model_name": "ToolbarModel",
      "state": {
       "layout": "IPY_MODEL_6f59a312832c4254ba8d74b6ebe2abe8",
       "toolitems": [
        [
         "Home",
         "Reset original view",
         "home",
         "home"
        ],
        [
         "Back",
         "Back to previous view",
         "arrow-left",
         "back"
        ],
        [
         "Forward",
         "Forward to next view",
         "arrow-right",
         "forward"
        ],
        [
         "Pan",
         "Pan axes with left mouse, zoom with right",
         "arrows",
         "pan"
        ],
        [
         "Zoom",
         "Zoom to rectangle",
         "square-o",
         "zoom"
        ],
        [
         "Download",
         "Download plot",
         "floppy-o",
         "save_figure"
        ]
       ]
      }
     },
     "9b9302202258420a9bab4729ed714eb6": {
      "model_module": "@jupyter-widgets/controls",
      "model_module_version": "1.5.0",
      "model_name": "ButtonStyleModel",
      "state": {}
     },
     "9bc5febc810e4fe6bf06d64374544fae": {
      "model_module": "@jupyter-widgets/controls",
      "model_module_version": "1.5.0",
      "model_name": "TabModel",
      "state": {
       "_titles": {
        "0": "Global Controls",
        "1": "Protected Area Controls",
        "2": "Saturation Controls",
        "3": "Hue Controls"
       },
       "children": [
        "IPY_MODEL_9dde50929c3e4b12b8a7b473d5997ea3",
        "IPY_MODEL_9705d5781d884e21a012f80024e463b5",
        "IPY_MODEL_a99a073f09744399ab1693e14d3cff79",
        "IPY_MODEL_ec805063483c4bf69e53cdb3538df015"
       ],
       "layout": "IPY_MODEL_7b4056dae2214de89cda27e5c93e922b"
      }
     },
     "9c020548183d4ea49377bf8d78df4670": {
      "model_module": "@jupyter-widgets/controls",
      "model_module_version": "1.5.0",
      "model_name": "ButtonModel",
      "state": {
       "description": "Reset Hue Controls",
       "layout": "IPY_MODEL_e67f4c545ef94d2b8fbb518df7996c7b",
       "style": "IPY_MODEL_64c8d58fc7b94efeab400951f380e97f"
      }
     },
     "9c79dbdf4d61421e835932790ff04829": {
      "model_module": "@jupyter-widgets/controls",
      "model_module_version": "1.5.0",
      "model_name": "FloatSliderModel",
      "state": {
       "description": "Exposure",
       "layout": "IPY_MODEL_ee4428e9d79c48ca9b29ceca6e57dbfd",
       "max": 8,
       "min": -8,
       "step": 0.1,
       "style": "IPY_MODEL_2515473619fc4209be42fb1b7d24889b"
      }
     },
     "9c9cfeb8f7ed40d2b92d310f62a4a4b4": {
      "model_module": "@jupyter-widgets/controls",
      "model_module_version": "1.5.0",
      "model_name": "FloatSliderModel",
      "state": {
       "description": "315°",
       "layout": "IPY_MODEL_7a4ddb94f2b64cf0bf3ae7da50d40319",
       "max": 1,
       "min": -1,
       "step": 0.01,
       "style": "IPY_MODEL_f72beae2aed447bb85d7ee42fb94505b"
      }
     },
     "9cc50045263e4483b0eb77ec9beeb9f0": {
      "model_module": "@jupyter-widgets/controls",
      "model_module_version": "1.5.0",
      "model_name": "ButtonStyleModel",
      "state": {}
     },
     "9cd3b096dc6148499a9b58dffef878e2": {
      "model_module": "@jupyter-widgets/controls",
      "model_module_version": "1.5.0",
      "model_name": "HBoxModel",
      "state": {
       "children": [
        "IPY_MODEL_be685eabe555409cba9d6dde7db93768",
        "IPY_MODEL_0709b81644bd4e54a00da377c564458e",
        "IPY_MODEL_7e02c74125de4cf3ad6b3218e49f9a55",
        "IPY_MODEL_60142c4f615a415994c1ec2b64f5dab9"
       ],
       "layout": "IPY_MODEL_2995087e79d84cfd82faa33d7f8eefe4"
      }
     },
     "9cff97ab981c4ef3bed25c2c0c012a3c": {
      "model_module": "@jupyter-widgets/controls",
      "model_module_version": "1.5.0",
      "model_name": "HBoxModel",
      "state": {
       "children": [
        "IPY_MODEL_f41c2d5ad8d641dcb64f8b1a4c9106d3",
        "IPY_MODEL_06c1481b39124e4ba9fdf8f7216bd40e",
        "IPY_MODEL_1050483b6ac24ea98c987ce1a5628081",
        "IPY_MODEL_180e25ba4e754084bdc05466264ca2f4",
        "IPY_MODEL_8b1a8aa7ecda481db2b18a6820444ee8"
       ],
       "layout": "IPY_MODEL_80f9436085914527b72b4d1b42c7545d"
      }
     },
     "9d06342e195046c694d4dc55576a5661": {
      "model_module": "@jupyter-widgets/controls",
      "model_module_version": "1.5.0",
      "model_name": "SliderStyleModel",
      "state": {
       "description_width": ""
      }
     },
     "9d172e1aa7524480bd286fd7fe365c6d": {
      "model_module": "@jupyter-widgets/controls",
      "model_module_version": "1.5.0",
      "model_name": "TabModel",
      "state": {
       "_titles": {
        "0": "Global Controls",
        "1": "Protected Area Controls",
        "2": "Saturation Controls",
        "3": "Hue Controls"
       },
       "children": [
        "IPY_MODEL_5c9a16d63f314f4da9f0acfbee41083b",
        "IPY_MODEL_a0e2c530925849d6b09fa4be4479afb3",
        "IPY_MODEL_37e2e81888de4a76b124feb0731861bd",
        "IPY_MODEL_91a6477437894e98bb1fd2b56888dd67"
       ],
       "layout": "IPY_MODEL_bed9e4bf3c354d94807d43af340def51"
      }
     },
     "9d39a4c6a7b3442095fb6aa0455c88c0": {
      "model_module": "@jupyter-widgets/base",
      "model_module_version": "1.2.0",
      "model_name": "LayoutModel",
      "state": {}
     },
     "9d83b7f45bd14bc38b8679d978ca871b": {
      "model_module": "jupyter-matplotlib",
      "model_module_version": "^0.7.2",
      "model_name": "ToolbarModel",
      "state": {
       "layout": "IPY_MODEL_8a862037bbd74c3587aa57c1e3ab0302",
       "toolitems": [
        [
         "Home",
         "Reset original view",
         "home",
         "home"
        ],
        [
         "Back",
         "Back to previous view",
         "arrow-left",
         "back"
        ],
        [
         "Forward",
         "Forward to next view",
         "arrow-right",
         "forward"
        ],
        [
         "Pan",
         "Pan axes with left mouse, zoom with right",
         "arrows",
         "pan"
        ],
        [
         "Zoom",
         "Zoom to rectangle",
         "square-o",
         "zoom"
        ],
        [
         "Download",
         "Download plot",
         "floppy-o",
         "save_figure"
        ]
       ]
      }
     },
     "9d8f1930eacb4351be87383a76269c0b": {
      "model_module": "@jupyter-widgets/base",
      "model_module_version": "1.2.0",
      "model_name": "LayoutModel",
      "state": {}
     },
     "9dae3431bf5042a5a94041f2abdd05e3": {
      "model_module": "@jupyter-widgets/base",
      "model_module_version": "1.2.0",
      "model_name": "LayoutModel",
      "state": {}
     },
     "9dc4a52a5cd6463490b623e0ab96a68a": {
      "model_module": "@jupyter-widgets/controls",
      "model_module_version": "1.5.0",
      "model_name": "ButtonStyleModel",
      "state": {}
     },
     "9dc596ec2d234e109e1fe878eb065e60": {
      "model_module": "@jupyter-widgets/controls",
      "model_module_version": "1.5.0",
      "model_name": "SliderStyleModel",
      "state": {
       "description_width": ""
      }
     },
     "9dde50929c3e4b12b8a7b473d5997ea3": {
      "model_module": "@jupyter-widgets/controls",
      "model_module_version": "1.5.0",
      "model_name": "HBoxModel",
      "state": {
       "children": [
        "IPY_MODEL_08c2c6462f914b918e3188294247f429",
        "IPY_MODEL_841c625fd84d462194884f011f888ae5",
        "IPY_MODEL_f859b546bb824f00a4417fa77ae6ad87",
        "IPY_MODEL_68893f923770438fbe759a135258091a",
        "IPY_MODEL_e94f0d10fb384fafa82bc72317e4bb4e"
       ],
       "layout": "IPY_MODEL_7f6a3b6fa4184f5bbb84df219562adfc"
      }
     },
     "9e0b60c9d12c4e588dda2833d3d0712a": {
      "model_module": "@jupyter-widgets/controls",
      "model_module_version": "1.5.0",
      "model_name": "FloatSliderModel",
      "state": {
       "description": "90°",
       "layout": "IPY_MODEL_77f6c8cc52b348bf907f13a7711dc767",
       "max": 1,
       "min": -1,
       "step": 0.01,
       "style": "IPY_MODEL_31a384449bc24fb9981a3865efc7e74d"
      }
     },
     "9e73195cf6cc4e1b96248f75a2a30fd7": {
      "model_module": "@jupyter-widgets/controls",
      "model_module_version": "1.5.0",
      "model_name": "DescriptionStyleModel",
      "state": {
       "description_width": ""
      }
     },
     "9e7cca9e00df42a9812af6d93f8d38f5": {
      "model_module": "@jupyter-widgets/controls",
      "model_module_version": "1.5.0",
      "model_name": "ButtonModel",
      "state": {
       "description": "Export Image",
       "layout": "IPY_MODEL_c3fc982c2b1c412e8c0aebe6905a4ef8",
       "style": "IPY_MODEL_2d4e00aff3f54a74ad929a0adc5d4a86"
      }
     },
     "9e80bbb65d624743856743c4004e7804": {
      "model_module": "@jupyter-widgets/controls",
      "model_module_version": "1.5.0",
      "model_name": "SliderStyleModel",
      "state": {
       "description_width": ""
      }
     },
     "9e81ca81906a41a78e1e469e7484f8a8": {
      "model_module": "@jupyter-widgets/controls",
      "model_module_version": "1.5.0",
      "model_name": "SliderStyleModel",
      "state": {
       "description_width": ""
      }
     },
     "9ed6dcf8949a4129a71b0a8664395098": {
      "model_module": "@jupyter-widgets/base",
      "model_module_version": "1.2.0",
      "model_name": "LayoutModel",
      "state": {}
     },
     "9f40cb8a3c4f47c1b30f45e26280c3dd": {
      "model_module": "@jupyter-widgets/controls",
      "model_module_version": "1.5.0",
      "model_name": "FloatSliderModel",
      "state": {
       "description": "Protected Area Threshold",
       "layout": "IPY_MODEL_d92af0e0697a42f78005d53105e09f32",
       "max": 1,
       "step": 0.01,
       "style": "IPY_MODEL_72a77b19fd5642c19d37e8e4e935fc1e",
       "value": 0.7
      }
     },
     "9f6da8eb4a664f0b91264c8d14e4eb0e": {
      "model_module": "@jupyter-widgets/output",
      "model_module_version": "1.0.0",
      "model_name": "OutputModel",
      "state": {
       "layout": "IPY_MODEL_1a66213b6a32413da2dc0ec2d4df10a5",
       "outputs": [
        {
         "data": {
          "application/vnd.jupyter.widget-view+json": {
           "model_id": "123e83f5d28d405eacc07ed77b457382",
           "version_major": 2,
           "version_minor": 0
          },
          "text/plain": "Canvas(toolbar=Toolbar(toolitems=[('Home', 'Reset original view', 'home', 'home'), ('Back', 'Back to previous …"
         },
         "metadata": {},
         "output_type": "display_data"
        }
       ]
      }
     },
     "9f7a2066b31847b28cc4b0ee4404f331": {
      "model_module": "@jupyter-widgets/base",
      "model_module_version": "1.2.0",
      "model_name": "LayoutModel",
      "state": {}
     },
     "9f7e9eb9754a45a2872f0b78526a5314": {
      "model_module": "@jupyter-widgets/controls",
      "model_module_version": "1.5.0",
      "model_name": "SliderStyleModel",
      "state": {
       "description_width": ""
      }
     },
     "9f84271806d74e28ab68c1707a52af64": {
      "model_module": "jupyter-matplotlib",
      "model_module_version": "^0.7.2",
      "model_name": "ToolbarModel",
      "state": {
       "layout": "IPY_MODEL_e82fa8d72ec54870982250a3cb60cb80",
       "toolitems": [
        [
         "Home",
         "Reset original view",
         "home",
         "home"
        ],
        [
         "Back",
         "Back to previous view",
         "arrow-left",
         "back"
        ],
        [
         "Forward",
         "Forward to next view",
         "arrow-right",
         "forward"
        ],
        [
         "Pan",
         "Pan axes with left mouse, zoom with right",
         "arrows",
         "pan"
        ],
        [
         "Zoom",
         "Zoom to rectangle",
         "square-o",
         "zoom"
        ],
        [
         "Download",
         "Download plot",
         "floppy-o",
         "save_figure"
        ]
       ]
      }
     },
     "9f9260b443c3406c8a6857f408a95632": {
      "model_module": "@jupyter-widgets/base",
      "model_module_version": "1.2.0",
      "model_name": "LayoutModel",
      "state": {}
     },
     "9f96cd5923714f7cab1bff8aa44cd377": {
      "model_module": "@jupyter-widgets/base",
      "model_module_version": "1.2.0",
      "model_name": "LayoutModel",
      "state": {}
     },
     "9fbc226a39dd4a7b975f8fa75970b2b0": {
      "model_module": "@jupyter-widgets/output",
      "model_module_version": "1.0.0",
      "model_name": "OutputModel",
      "state": {
       "layout": "IPY_MODEL_b5635b02b28d4e39949ea16be5a34e11",
       "outputs": [
        {
         "data": {
          "application/vnd.jupyter.widget-view+json": {
           "model_id": "88e09c81b93b424286d5ee161694f0ad",
           "version_major": 2,
           "version_minor": 0
          },
          "text/plain": "Canvas(toolbar=Toolbar(toolitems=[('Home', 'Reset original view', 'home', 'home'), ('Back', 'Back to previous …"
         },
         "metadata": {},
         "output_type": "display_data"
        }
       ]
      }
     },
     "9ff791b8ae1b42a79b46d1db06df1f19": {
      "model_module": "@jupyter-widgets/base",
      "model_module_version": "1.2.0",
      "model_name": "LayoutModel",
      "state": {}
     },
     "a002783fc4724db8840e6d2fb1bb38f9": {
      "model_module": "@jupyter-widgets/output",
      "model_module_version": "1.0.0",
      "model_name": "OutputModel",
      "state": {
       "layout": "IPY_MODEL_ab2c222188b54092a87309b0199d51e8",
       "outputs": [
        {
         "data": {
          "application/vnd.jupyter.widget-view+json": {
           "model_id": "ad662bba446a42468cab8544cde8a55a",
           "version_major": 2,
           "version_minor": 0
          },
          "text/plain": "Canvas(toolbar=Toolbar(toolitems=[('Home', 'Reset original view', 'home', 'home'), ('Back', 'Back to previous …"
         },
         "metadata": {},
         "output_type": "display_data"
        }
       ]
      }
     },
     "a00a2ba22ff44ee1b27ee5a0d68f7afb": {
      "model_module": "@jupyter-widgets/controls",
      "model_module_version": "1.5.0",
      "model_name": "DescriptionStyleModel",
      "state": {
       "description_width": ""
      }
     },
     "a00b59c1335c4b53be61df2a56487fc9": {
      "model_module": "jupyter-matplotlib",
      "model_module_version": "^0.7.2",
      "model_name": "MPLCanvasModel",
      "state": {
       "_figure_label": "Figure 25",
       "_height": 550,
       "_width": 1100,
       "header_visible": false,
       "layout": "IPY_MODEL_bd1bd5a4a17b4b09839c0689e005a819",
       "resizable": false,
       "toolbar": "IPY_MODEL_9f84271806d74e28ab68c1707a52af64",
       "toolbar_position": "left",
       "toolbar_visible": false
      }
     },
     "a0258e3de2144a2a901275caf9d5fdc4": {
      "model_module": "@jupyter-widgets/controls",
      "model_module_version": "1.5.0",
      "model_name": "FloatSliderModel",
      "state": {
       "description": "225°",
       "layout": "IPY_MODEL_582dbed7ad35428a90f21cf8cf51e97c",
       "max": 1,
       "min": -1,
       "step": 0.01,
       "style": "IPY_MODEL_45491007948948b78104af05d1759141"
      }
     },
     "a02f241669224fd085a50b6cd3e759ca": {
      "model_module": "@jupyter-widgets/controls",
      "model_module_version": "1.5.0",
      "model_name": "FloatSliderModel",
      "state": {
       "description": "0°",
       "layout": "IPY_MODEL_3beb38f5e41d447abaf6d379f6bc0e4e",
       "max": 1,
       "min": -1,
       "step": 0.01,
       "style": "IPY_MODEL_71bac5ea41a040caae1d51218b793841"
      }
     },
     "a02fad501c4f42a1b43f4f423f1ed697": {
      "model_module": "@jupyter-widgets/controls",
      "model_module_version": "1.5.0",
      "model_name": "ButtonModel",
      "state": {
       "description": "Reset Hue Controls",
       "layout": "IPY_MODEL_3fdb2ce0517242bbbead153ee954624a",
       "style": "IPY_MODEL_bf54b6b19e774d548c29473f3f69a19c"
      }
     },
     "a06adec8ef794a6dae2d19afda85c831": {
      "model_module": "jupyter-matplotlib",
      "model_module_version": "^0.7.2",
      "model_name": "ToolbarModel",
      "state": {
       "layout": "IPY_MODEL_c3605538b93e41a6b8876a0331290518",
       "toolitems": [
        [
         "Home",
         "Reset original view",
         "home",
         "home"
        ],
        [
         "Back",
         "Back to previous view",
         "arrow-left",
         "back"
        ],
        [
         "Forward",
         "Forward to next view",
         "arrow-right",
         "forward"
        ],
        [
         "Pan",
         "Pan axes with left mouse, zoom with right",
         "arrows",
         "pan"
        ],
        [
         "Zoom",
         "Zoom to rectangle",
         "square-o",
         "zoom"
        ],
        [
         "Download",
         "Download plot",
         "floppy-o",
         "save_figure"
        ]
       ]
      }
     },
     "a07b9f53dc784827912455e59f019440": {
      "model_module": "@jupyter-widgets/base",
      "model_module_version": "1.2.0",
      "model_name": "LayoutModel",
      "state": {}
     },
     "a0b94bba059c4aedba5a2a1d29f90b5c": {
      "model_module": "@jupyter-widgets/controls",
      "model_module_version": "1.5.0",
      "model_name": "SliderStyleModel",
      "state": {
       "description_width": ""
      }
     },
     "a0c4e994a2a94895a33e571c534d851a": {
      "model_module": "@jupyter-widgets/controls",
      "model_module_version": "1.5.0",
      "model_name": "SliderStyleModel",
      "state": {
       "description_width": ""
      }
     },
     "a0d7312098a24c3c800a32722d3f72d4": {
      "model_module": "@jupyter-widgets/controls",
      "model_module_version": "1.5.0",
      "model_name": "SliderStyleModel",
      "state": {
       "description_width": ""
      }
     },
     "a0e2c530925849d6b09fa4be4479afb3": {
      "model_module": "@jupyter-widgets/controls",
      "model_module_version": "1.5.0",
      "model_name": "HBoxModel",
      "state": {
       "children": [
        "IPY_MODEL_e25e01557a07453ba768bcf997bd2b41",
        "IPY_MODEL_0dcefab621ba47b3b80c4d76e679dab0"
       ],
       "layout": "IPY_MODEL_8de18b1ddcce4ae8a1ff8cc72bc65097"
      }
     },
     "a13fa0bf0a22475f9e8d1e9e66582560": {
      "model_module": "@jupyter-widgets/controls",
      "model_module_version": "1.5.0",
      "model_name": "ButtonStyleModel",
      "state": {}
     },
     "a1425008fe76413ab7c3834a7495836f": {
      "model_module": "@jupyter-widgets/base",
      "model_module_version": "1.2.0",
      "model_name": "LayoutModel",
      "state": {
       "border": "solid 4px #222",
       "margin": "4px",
       "padding": "0"
      }
     },
     "a14f14441ff4423cae414b67e3c2f3a8": {
      "model_module": "@jupyter-widgets/controls",
      "model_module_version": "1.5.0",
      "model_name": "SliderStyleModel",
      "state": {
       "description_width": ""
      }
     },
     "a1550d19cfda4b9889b4edab9fbf4bab": {
      "model_module": "@jupyter-widgets/base",
      "model_module_version": "1.2.0",
      "model_name": "LayoutModel",
      "state": {}
     },
     "a1bd3e62cd1945da9f69bf9b41750bd7": {
      "model_module": "@jupyter-widgets/base",
      "model_module_version": "1.2.0",
      "model_name": "LayoutModel",
      "state": {}
     },
     "a1d123aad993497bba99a4839fe6e091": {
      "model_module": "@jupyter-widgets/base",
      "model_module_version": "1.2.0",
      "model_name": "LayoutModel",
      "state": {}
     },
     "a220053cb9664fc1a1211eff2b6da758": {
      "model_module": "@jupyter-widgets/controls",
      "model_module_version": "1.5.0",
      "model_name": "VBoxModel",
      "state": {
       "children": [
        "IPY_MODEL_3e7dce631d9d494299e8bd55be39a644"
       ],
       "layout": "IPY_MODEL_bb57197127cd4c27a10beb0bfcf84b2d"
      }
     },
     "a2407267633745c1a8536cc40034f8c7": {
      "model_module": "@jupyter-widgets/base",
      "model_module_version": "1.2.0",
      "model_name": "LayoutModel",
      "state": {
       "border": "solid 4px #222",
       "margin": "4px",
       "padding": "0"
      }
     },
     "a24f0e2029dd40659e8c772bf8bc1756": {
      "model_module": "@jupyter-widgets/controls",
      "model_module_version": "1.5.0",
      "model_name": "ButtonStyleModel",
      "state": {}
     },
     "a25d5a47f70b43fe8927e98726d5e203": {
      "model_module": "@jupyter-widgets/base",
      "model_module_version": "1.2.0",
      "model_name": "LayoutModel",
      "state": {}
     },
     "a2c6999bc24c4174b53a496d1c6530dd": {
      "model_module": "@jupyter-widgets/controls",
      "model_module_version": "1.5.0",
      "model_name": "ButtonModel",
      "state": {
       "description": "Reset Exposure",
       "layout": "IPY_MODEL_6b66d2b2c63145349b37cf0bd24f4c2c",
       "style": "IPY_MODEL_e0efb4d3955e4dcbad9a5b2f79d08ff9"
      }
     },
     "a2df79055b6a4bd1a6d53302401bfa13": {
      "model_module": "jupyter-matplotlib",
      "model_module_version": "^0.7.2",
      "model_name": "MPLCanvasModel",
      "state": {
       "_figure_label": "Figure 14",
       "_height": 440,
       "_width": 1100,
       "header_visible": false,
       "layout": "IPY_MODEL_b78557c312b641938d005f7a3340a43d",
       "resizable": false,
       "toolbar": "IPY_MODEL_4a45fe59dd5d4d90aa21e616ee404923",
       "toolbar_position": "left",
       "toolbar_visible": false
      }
     },
     "a306613475184ebf951669893a61f928": {
      "model_module": "@jupyter-widgets/controls",
      "model_module_version": "1.5.0",
      "model_name": "ButtonModel",
      "state": {
       "description": "Reset Protected Area",
       "layout": "IPY_MODEL_3050c988b03649d2ae4bd28917f112ec",
       "style": "IPY_MODEL_0a7c5240ffdb4d6b9637813cfdcc4b82"
      }
     },
     "a35f15184ae14d3aa620ae16bf0c6d17": {
      "model_module": "@jupyter-widgets/controls",
      "model_module_version": "1.5.0",
      "model_name": "SliderStyleModel",
      "state": {
       "description_width": ""
      }
     },
     "a35f470d07cc47a2af0403153a2abf0c": {
      "model_module": "@jupyter-widgets/base",
      "model_module_version": "1.2.0",
      "model_name": "LayoutModel",
      "state": {}
     },
     "a371a3ae939b40009056ed432bd9b0a6": {
      "model_module": "@jupyter-widgets/base",
      "model_module_version": "1.2.0",
      "model_name": "LayoutModel",
      "state": {}
     },
     "a39eddcfa6664b18a4daa338b8f815eb": {
      "model_module": "@jupyter-widgets/controls",
      "model_module_version": "1.5.0",
      "model_name": "SliderStyleModel",
      "state": {
       "description_width": ""
      }
     },
     "a4234a5470974d7083773b8064de4f04": {
      "model_module": "@jupyter-widgets/controls",
      "model_module_version": "1.5.0",
      "model_name": "ButtonModel",
      "state": {
       "description": "Reset Exposure",
       "layout": "IPY_MODEL_b091654f219d4fcb8f5ef53d3eba092d",
       "style": "IPY_MODEL_fe6f0b46ff344f64a4fb14c5e1ec0f73"
      }
     },
     "a42cb93dfad740bebdec890026d28a93": {
      "model_module": "@jupyter-widgets/base",
      "model_module_version": "1.2.0",
      "model_name": "LayoutModel",
      "state": {}
     },
     "a49ba334b3504ab192a0a27d681df7ad": {
      "model_module": "jupyter-matplotlib",
      "model_module_version": "^0.7.2",
      "model_name": "ToolbarModel",
      "state": {
       "layout": "IPY_MODEL_6a83ce37dd1a4c148404c2b36b6c1788",
       "toolitems": [
        [
         "Home",
         "Reset original view",
         "home",
         "home"
        ],
        [
         "Back",
         "Back to previous view",
         "arrow-left",
         "back"
        ],
        [
         "Forward",
         "Forward to next view",
         "arrow-right",
         "forward"
        ],
        [
         "Pan",
         "Pan axes with left mouse, zoom with right",
         "arrows",
         "pan"
        ],
        [
         "Zoom",
         "Zoom to rectangle",
         "square-o",
         "zoom"
        ],
        [
         "Download",
         "Download plot",
         "floppy-o",
         "save_figure"
        ]
       ]
      }
     },
     "a4b237cf2209406e979947fb0d912914": {
      "model_module": "@jupyter-widgets/base",
      "model_module_version": "1.2.0",
      "model_name": "LayoutModel",
      "state": {}
     },
     "a4bb389ece1246569d181dca6d05f116": {
      "model_module": "@jupyter-widgets/base",
      "model_module_version": "1.2.0",
      "model_name": "LayoutModel",
      "state": {}
     },
     "a4cfea8b6011426798368f493abba37b": {
      "model_module": "@jupyter-widgets/controls",
      "model_module_version": "1.5.0",
      "model_name": "ButtonModel",
      "state": {
       "description": "Save Figure",
       "layout": "IPY_MODEL_e18ae4473d3540a1b4d37252b4fb46aa",
       "style": "IPY_MODEL_e972e78095744d3da65f42b69eeaa735"
      }
     },
     "a4d656f37c3c4a669932ec64e18903e8": {
      "model_module": "@jupyter-widgets/controls",
      "model_module_version": "1.5.0",
      "model_name": "DescriptionStyleModel",
      "state": {
       "description_width": ""
      }
     },
     "a5b3976669d245cdb510edd4fc5e37fd": {
      "model_module": "@jupyter-widgets/output",
      "model_module_version": "1.0.0",
      "model_name": "OutputModel",
      "state": {
       "layout": "IPY_MODEL_83e2fe9d34bc40f0b22d1dfef996afd1",
       "outputs": [
        {
         "data": {
          "application/vnd.jupyter.widget-view+json": {
           "model_id": "16a0422c44a649fcaba695900e7df5b0",
           "version_major": 2,
           "version_minor": 0
          },
          "text/plain": "Canvas(toolbar=Toolbar(toolitems=[('Home', 'Reset original view', 'home', 'home'), ('Back', 'Back to previous …"
         },
         "metadata": {},
         "output_type": "display_data"
        }
       ]
      }
     },
     "a5db3aa3d5484c378f4c4cf956f074dd": {
      "model_module": "@jupyter-widgets/controls",
      "model_module_version": "1.5.0",
      "model_name": "VBoxModel",
      "state": {
       "children": [
        "IPY_MODEL_c1c94b20891a46d0974ddf3380866623",
        "IPY_MODEL_f976c30090184eccb663a361ce4de380",
        "IPY_MODEL_a96233e3c13444e0a0a724ebef02c8be"
       ],
       "layout": "IPY_MODEL_7a6457115a434038ad83868749479e3f"
      }
     },
     "a5de085f003042c69a9442da824ed61c": {
      "model_module": "@jupyter-widgets/controls",
      "model_module_version": "1.5.0",
      "model_name": "ButtonModel",
      "state": {
       "description": "Reset Exposure",
       "layout": "IPY_MODEL_26645ec7bdcb456792fafaf9033bb376",
       "style": "IPY_MODEL_a5e44fbd361945f2998267e2842b2bc7"
      }
     },
     "a5e44fbd361945f2998267e2842b2bc7": {
      "model_module": "@jupyter-widgets/controls",
      "model_module_version": "1.5.0",
      "model_name": "ButtonStyleModel",
      "state": {}
     },
     "a5ec86e70cbc4ab4b8aa8a345d680852": {
      "model_module": "@jupyter-widgets/base",
      "model_module_version": "1.2.0",
      "model_name": "LayoutModel",
      "state": {}
     },
     "a5ee1e25cdd5408d92b6e7b9f1c042c4": {
      "model_module": "@jupyter-widgets/base",
      "model_module_version": "1.2.0",
      "model_name": "LayoutModel",
      "state": {}
     },
     "a60a7abb5d87453b85ac84c4b53ccb2d": {
      "model_module": "@jupyter-widgets/output",
      "model_module_version": "1.0.0",
      "model_name": "OutputModel",
      "state": {
       "layout": "IPY_MODEL_8f686fc8423145cfab6c787010a61f6b",
       "outputs": [
        {
         "data": {
          "application/vnd.jupyter.widget-view+json": {
           "model_id": "0aa71eb810bd4558828e2b45b5a75ac6",
           "version_major": 2,
           "version_minor": 0
          },
          "text/plain": "Canvas(toolbar=Toolbar(toolitems=[('Home', 'Reset original view', 'home', 'home'), ('Back', 'Back to previous …"
         },
         "metadata": {},
         "output_type": "display_data"
        }
       ]
      }
     },
     "a6740d7c5fc14f979fc74a132519e606": {
      "model_module": "@jupyter-widgets/controls",
      "model_module_version": "1.5.0",
      "model_name": "BoxModel",
      "state": {
       "children": [
        "IPY_MODEL_db17c95bfcb64688ab290bd6fbabeb68",
        "IPY_MODEL_f857480b38094a6894f00b74bd0712e3"
       ],
       "layout": "IPY_MODEL_968c9a7d4a8842e5a09825fdbb41ce16"
      }
     },
     "a67e52988e6c4cfb935ae053b82718c1": {
      "model_module": "@jupyter-widgets/controls",
      "model_module_version": "1.5.0",
      "model_name": "VBoxModel",
      "state": {
       "children": [
        "IPY_MODEL_4d3a4f734e7e4ad995f0dd0c67237ee7"
       ],
       "layout": "IPY_MODEL_4ebed40df2d148248b63fed0281ca070"
      }
     },
     "a6f0e652eacc40c4af597f4f42f8c7e3": {
      "model_module": "@jupyter-widgets/base",
      "model_module_version": "1.2.0",
      "model_name": "LayoutModel",
      "state": {}
     },
     "a7c34787fa3e4e8f859d83ae4767fce3": {
      "model_module": "@jupyter-widgets/base",
      "model_module_version": "1.2.0",
      "model_name": "LayoutModel",
      "state": {}
     },
     "a7d0e0f0913648df9712cf4c9867a79f": {
      "model_module": "@jupyter-widgets/base",
      "model_module_version": "1.2.0",
      "model_name": "LayoutModel",
      "state": {}
     },
     "a7d96762032c42c88d8cbbee3eedfdfe": {
      "model_module": "@jupyter-widgets/base",
      "model_module_version": "1.2.0",
      "model_name": "LayoutModel",
      "state": {}
     },
     "a7fc3f5ec17041bfa08ec9628eff2ffa": {
      "model_module": "@jupyter-widgets/controls",
      "model_module_version": "1.5.0",
      "model_name": "SliderStyleModel",
      "state": {
       "description_width": ""
      }
     },
     "a8678cc1937f49b993fe2d34db8141b7": {
      "model_module": "@jupyter-widgets/controls",
      "model_module_version": "1.5.0",
      "model_name": "FloatSliderModel",
      "state": {
       "description": "90°",
       "layout": "IPY_MODEL_70e9802dfdc447d0930ac4d370f51f21",
       "max": 1,
       "min": -1,
       "step": 0.01,
       "style": "IPY_MODEL_20163917f175422ab0643f3515d42644"
      }
     },
     "a8843bfbe75a4717b372935a21bc7a56": {
      "model_module": "@jupyter-widgets/controls",
      "model_module_version": "1.5.0",
      "model_name": "DescriptionStyleModel",
      "state": {
       "description_width": ""
      }
     },
     "a8cfec0463b543eabfc1de2c7a9e7c77": {
      "model_module": "@jupyter-widgets/base",
      "model_module_version": "1.2.0",
      "model_name": "LayoutModel",
      "state": {}
     },
     "a900dc63fdc54c738665a16e5d674764": {
      "model_module": "@jupyter-widgets/controls",
      "model_module_version": "1.5.0",
      "model_name": "SliderStyleModel",
      "state": {
       "description_width": ""
      }
     },
     "a9271e65524d42ac855d1dee25d7f537": {
      "model_module": "@jupyter-widgets/controls",
      "model_module_version": "1.5.0",
      "model_name": "ButtonStyleModel",
      "state": {}
     },
     "a93b2315cc734fb3b3df39beef2b062f": {
      "model_module": "@jupyter-widgets/controls",
      "model_module_version": "1.5.0",
      "model_name": "HBoxModel",
      "state": {
       "children": [
        "IPY_MODEL_05791f5cc4cf45b4a8f949793113b916",
        "IPY_MODEL_2e08828fcfff4dbeb3c6cf3b78fe6681",
        "IPY_MODEL_b461141223be4959a24317e13d7042d8",
        "IPY_MODEL_7a3624e99be547948edfc7782617f114"
       ],
       "layout": "IPY_MODEL_dbc7cd09084545ef89a15ccf6494a02c"
      }
     },
     "a96233e3c13444e0a0a724ebef02c8be": {
      "model_module": "@jupyter-widgets/controls",
      "model_module_version": "1.5.0",
      "model_name": "FloatSliderModel",
      "state": {
       "description": "225°",
       "layout": "IPY_MODEL_3dca2a4f3e8946bdad6b4da1549e940a",
       "max": 1,
       "min": -1,
       "step": 0.01,
       "style": "IPY_MODEL_f4ead426aee444cc9527a4456c549a99"
      }
     },
     "a99a073f09744399ab1693e14d3cff79": {
      "model_module": "@jupyter-widgets/controls",
      "model_module_version": "1.5.0",
      "model_name": "HBoxModel",
      "state": {
       "children": [
        "IPY_MODEL_53cbf708e6604c0883651c98eed95fb2",
        "IPY_MODEL_05cfe41017bd4e89b80d87f5bf448777",
        "IPY_MODEL_53af1baca4c24588a6bdf4ba6a16c418"
       ],
       "layout": "IPY_MODEL_43e940aea7e9440cb83fb9f830486f09"
      }
     },
     "a99b421421c344afb5033f3007ec676a": {
      "model_module": "@jupyter-widgets/base",
      "model_module_version": "1.2.0",
      "model_name": "LayoutModel",
      "state": {}
     },
     "a9ba984f48624418967bf938217e3349": {
      "model_module": "@jupyter-widgets/base",
      "model_module_version": "1.2.0",
      "model_name": "LayoutModel",
      "state": {}
     },
     "a9d8ea5e46bd4b61ae39b97ac4605fa5": {
      "model_module": "@jupyter-widgets/controls",
      "model_module_version": "1.5.0",
      "model_name": "ButtonStyleModel",
      "state": {}
     },
     "aa49f7084f0d46dc845f8ddf2e9a7ab9": {
      "model_module": "@jupyter-widgets/controls",
      "model_module_version": "1.5.0",
      "model_name": "DescriptionStyleModel",
      "state": {
       "description_width": ""
      }
     },
     "aa734e3bf43f444aa78ac56bb114c07d": {
      "model_module": "@jupyter-widgets/base",
      "model_module_version": "1.2.0",
      "model_name": "LayoutModel",
      "state": {}
     },
     "aa85bc1bea5448fda32b598e5d50a327": {
      "model_module": "@jupyter-widgets/controls",
      "model_module_version": "1.5.0",
      "model_name": "SliderStyleModel",
      "state": {
       "description_width": ""
      }
     },
     "aaca9e4ec0d74ee89e7cdd5dfaf75344": {
      "model_module": "@jupyter-widgets/base",
      "model_module_version": "1.2.0",
      "model_name": "LayoutModel",
      "state": {
       "border": "solid 4px #222",
       "margin": "4px",
       "padding": "0"
      }
     },
     "aafc389057cf465595a640c4928261a2": {
      "model_module": "@jupyter-widgets/controls",
      "model_module_version": "1.5.0",
      "model_name": "HBoxModel",
      "state": {
       "children": [
        "IPY_MODEL_a220053cb9664fc1a1211eff2b6da758",
        "IPY_MODEL_7a5fc0a5397a44a7b9979d73db6c92b8",
        "IPY_MODEL_a5db3aa3d5484c378f4c4cf956f074dd",
        "IPY_MODEL_79711436cf2f4642b8ca98cab819b926"
       ],
       "layout": "IPY_MODEL_e8a246d1782d496780744bc36cab5216"
      }
     },
     "ab2887f56e1b45e69cab2ee75665dcac": {
      "model_module": "@jupyter-widgets/controls",
      "model_module_version": "1.5.0",
      "model_name": "FloatSliderModel",
      "state": {
       "description": "Compression Threshold",
       "layout": "IPY_MODEL_d0b4f413e5904051987f16ae3a8fba7b",
       "max": 1,
       "step": 0.01,
       "style": "IPY_MODEL_7bf18cadadb3469b831ca287e6e603db",
       "value": 0.5
      }
     },
     "ab2c222188b54092a87309b0199d51e8": {
      "model_module": "@jupyter-widgets/base",
      "model_module_version": "1.2.0",
      "model_name": "LayoutModel",
      "state": {
       "border": "solid 4px #222",
       "margin": "4px",
       "padding": "0"
      }
     },
     "ab4dbaea327c435b9b9bf439125b44f7": {
      "model_module": "@jupyter-widgets/base",
      "model_module_version": "1.2.0",
      "model_name": "LayoutModel",
      "state": {}
     },
     "ab7e50f9d0a049248531a2ac5a68872d": {
      "model_module": "@jupyter-widgets/base",
      "model_module_version": "1.2.0",
      "model_name": "LayoutModel",
      "state": {}
     },
     "abacb1dc99fd43f6ad5e1fd7859e5265": {
      "model_module": "@jupyter-widgets/base",
      "model_module_version": "1.2.0",
      "model_name": "LayoutModel",
      "state": {
       "align_items": "stretch",
       "display": "flex",
       "flex_flow": "column",
       "width": "1128px"
      }
     },
     "abb107fb40924689ba69308c589590ff": {
      "model_module": "@jupyter-widgets/base",
      "model_module_version": "1.2.0",
      "model_name": "LayoutModel",
      "state": {}
     },
     "abc8064ca68b4523b324941dc7ad4dca": {
      "model_module": "@jupyter-widgets/base",
      "model_module_version": "1.2.0",
      "model_name": "LayoutModel",
      "state": {}
     },
     "abd12b96225d482a84647009f6f7182c": {
      "model_module": "@jupyter-widgets/base",
      "model_module_version": "1.2.0",
      "model_name": "LayoutModel",
      "state": {}
     },
     "abd93f0cb287410cbbf213861c559fc4": {
      "model_module": "@jupyter-widgets/base",
      "model_module_version": "1.2.0",
      "model_name": "LayoutModel",
      "state": {}
     },
     "ac130bd0f0454378b6e012b3888506e2": {
      "model_module": "@jupyter-widgets/controls",
      "model_module_version": "1.5.0",
      "model_name": "HBoxModel",
      "state": {
       "children": [
        "IPY_MODEL_cb9bd871ccf4463bba1f70e583c1a427",
        "IPY_MODEL_8e610017fbcf44fab87ae516846ff266",
        "IPY_MODEL_b0dad9c5c5ce4b37be4e77b4e10080f0",
        "IPY_MODEL_0f4f8904f62d4a50a4b1b9e77e8b6bf9"
       ],
       "layout": "IPY_MODEL_6f1eaad78ab34c5e865912214cd0df43"
      }
     },
     "ac24e06c586848db9057711f6f1d6c5f": {
      "model_module": "@jupyter-widgets/controls",
      "model_module_version": "1.5.0",
      "model_name": "ButtonStyleModel",
      "state": {}
     },
     "ac3d9fe15d9249e183134111c20db5fe": {
      "model_module": "@jupyter-widgets/base",
      "model_module_version": "1.2.0",
      "model_name": "LayoutModel",
      "state": {}
     },
     "ac8fa7c31cae408594665be939c69fd3": {
      "model_module": "@jupyter-widgets/base",
      "model_module_version": "1.2.0",
      "model_name": "LayoutModel",
      "state": {}
     },
     "acd467f5f92d4a46b6f16d4b28b96a38": {
      "model_module": "@jupyter-widgets/base",
      "model_module_version": "1.2.0",
      "model_name": "LayoutModel",
      "state": {}
     },
     "ace5f2aa9e77494da384fbbf6b04e8b7": {
      "model_module": "@jupyter-widgets/controls",
      "model_module_version": "1.5.0",
      "model_name": "ButtonModel",
      "state": {
       "description": "Reset Saturation Controls",
       "layout": "IPY_MODEL_0d7c253f655b443fb20f2c8aa2df819d",
       "style": "IPY_MODEL_49c09df8476d4adb8cbc3b0a34ea1125"
      }
     },
     "acf0f1ea2dfa44d6bcc51ee83b42b056": {
      "model_module": "@jupyter-widgets/controls",
      "model_module_version": "1.5.0",
      "model_name": "SliderStyleModel",
      "state": {
       "description_width": ""
      }
     },
     "acf210f9b6034dc88b0a9bb9268e08f0": {
      "model_module": "@jupyter-widgets/controls",
      "model_module_version": "1.5.0",
      "model_name": "ButtonModel",
      "state": {
       "description": "Save Figure",
       "layout": "IPY_MODEL_283cb88ad2244363afc8b0c0c5a8b194",
       "style": "IPY_MODEL_743821adbb6c485d99b6e2937438c34a"
      }
     },
     "acf4b0deacaf4b03abbd18045646393a": {
      "model_module": "@jupyter-widgets/base",
      "model_module_version": "1.2.0",
      "model_name": "LayoutModel",
      "state": {}
     },
     "acfa7202b77f42a7915f896439baccc6": {
      "model_module": "@jupyter-widgets/controls",
      "model_module_version": "1.5.0",
      "model_name": "FloatSliderModel",
      "state": {
       "description": "90°",
       "layout": "IPY_MODEL_cbed37fd57f6458a8e80629c5063022d",
       "max": 1,
       "min": -1,
       "step": 0.01,
       "style": "IPY_MODEL_1007d645acd24eb8b79970a898d93cc7"
      }
     },
     "ad46330ef2fc4916b37a0a850b7c2116": {
      "model_module": "@jupyter-widgets/controls",
      "model_module_version": "1.5.0",
      "model_name": "SliderStyleModel",
      "state": {
       "description_width": ""
      }
     },
     "ad662bba446a42468cab8544cde8a55a": {
      "model_module": "jupyter-matplotlib",
      "model_module_version": "^0.7.2",
      "model_name": "MPLCanvasModel",
      "state": {
       "_figure_label": "Figure 8",
       "_height": 458,
       "_width": 1099,
       "header_visible": false,
       "layout": "IPY_MODEL_17d549b225f14235a6e3acec83c3b6a4",
       "resizable": false,
       "toolbar": "IPY_MODEL_569e6c2d4418499dbe28a1cc744fc396",
       "toolbar_position": "left",
       "toolbar_visible": false
      }
     },
     "ad6a859600c2455e88cc598179d14b7a": {
      "model_module": "@jupyter-widgets/base",
      "model_module_version": "1.2.0",
      "model_name": "LayoutModel",
      "state": {}
     },
     "ad806b032f054616954f328899beaa60": {
      "model_module": "@jupyter-widgets/controls",
      "model_module_version": "1.5.0",
      "model_name": "SliderStyleModel",
      "state": {
       "description_width": ""
      }
     },
     "ad9a51230e83444c9e62040d12df2985": {
      "model_module": "@jupyter-widgets/controls",
      "model_module_version": "1.5.0",
      "model_name": "VBoxModel",
      "state": {
       "children": [
        "IPY_MODEL_4ed9ca6510e944d490e091875e7b98af"
       ],
       "layout": "IPY_MODEL_6edfb5963e384766b82c0a6b0f80cc42"
      }
     },
     "ada4c1615683408eba595db8cb698727": {
      "model_module": "@jupyter-widgets/base",
      "model_module_version": "1.2.0",
      "model_name": "LayoutModel",
      "state": {}
     },
     "adb822f5b105447ea30810e20562c283": {
      "model_module": "jupyter-matplotlib",
      "model_module_version": "^0.7.2",
      "model_name": "MPLCanvasModel",
      "state": {
       "_figure_label": "Figure 10",
       "_height": 696,
       "_width": 1100,
       "header_visible": false,
       "layout": "IPY_MODEL_6f3eef36828c4f0ea6700ea5b075ba21",
       "resizable": false,
       "toolbar": "IPY_MODEL_42415ad16f564c88941cce1201f06f8e",
       "toolbar_position": "left",
       "toolbar_visible": false
      }
     },
     "adbc221f138c4ad3a25c524e19d80010": {
      "model_module": "@jupyter-widgets/controls",
      "model_module_version": "1.5.0",
      "model_name": "DescriptionStyleModel",
      "state": {
       "description_width": ""
      }
     },
     "adf5fdcd8edc4742905436232ae89ccf": {
      "model_module": "@jupyter-widgets/controls",
      "model_module_version": "1.5.0",
      "model_name": "ButtonStyleModel",
      "state": {}
     },
     "adfa50a695164d58afe437633840ea9d": {
      "model_module": "@jupyter-widgets/base",
      "model_module_version": "1.2.0",
      "model_name": "LayoutModel",
      "state": {}
     },
     "ae0e56c0e339466592842cbffe577dac": {
      "model_module": "@jupyter-widgets/controls",
      "model_module_version": "1.5.0",
      "model_name": "ButtonStyleModel",
      "state": {}
     },
     "ae1be35366ad451a8c13fdf7f9afe21a": {
      "model_module": "@jupyter-widgets/controls",
      "model_module_version": "1.5.0",
      "model_name": "DescriptionStyleModel",
      "state": {
       "description_width": ""
      }
     },
     "ae620c4044434e4c91060ab42ba6a401": {
      "model_module": "@jupyter-widgets/base",
      "model_module_version": "1.2.0",
      "model_name": "LayoutModel",
      "state": {}
     },
     "ae67e1bdb50d4fb89239a9eed80dae3e": {
      "model_module": "@jupyter-widgets/controls",
      "model_module_version": "1.5.0",
      "model_name": "ButtonStyleModel",
      "state": {}
     },
     "ae79f22d26234e1b977fbaae266879ec": {
      "model_module": "@jupyter-widgets/base",
      "model_module_version": "1.2.0",
      "model_name": "LayoutModel",
      "state": {}
     },
     "aeb7b04333ec45d78772f716e088150f": {
      "model_module": "@jupyter-widgets/controls",
      "model_module_version": "1.5.0",
      "model_name": "HBoxModel",
      "state": {
       "children": [
        "IPY_MODEL_ace5f2aa9e77494da384fbbf6b04e8b7",
        "IPY_MODEL_7cf87ab0af8d4233adfdfc2e2273231d",
        "IPY_MODEL_fffb6e6342974ab993653a8a2c73eeb9"
       ],
       "layout": "IPY_MODEL_1b192ecf8f6f413da1e67873a7b2ca1a"
      }
     },
     "aebbb9aa3fa44e7da5350242431739fd": {
      "model_module": "@jupyter-widgets/base",
      "model_module_version": "1.2.0",
      "model_name": "LayoutModel",
      "state": {}
     },
     "aec26bbb6dfc44d58009647859e895f6": {
      "model_module": "@jupyter-widgets/controls",
      "model_module_version": "1.5.0",
      "model_name": "SliderStyleModel",
      "state": {
       "description_width": ""
      }
     },
     "aed74f12fb1c4fa89c2631c9f9ccaf0d": {
      "model_module": "@jupyter-widgets/base",
      "model_module_version": "1.2.0",
      "model_name": "LayoutModel",
      "state": {}
     },
     "aeec6b1c4e2948ccbb2913d971560aff": {
      "model_module": "@jupyter-widgets/controls",
      "model_module_version": "1.5.0",
      "model_name": "SliderStyleModel",
      "state": {
       "description_width": ""
      }
     },
     "aeff36fd8bf54902a72f91d7e9f7390e": {
      "model_module": "@jupyter-widgets/base",
      "model_module_version": "1.2.0",
      "model_name": "LayoutModel",
      "state": {}
     },
     "af152e795de54756b358ef988ac88924": {
      "model_module": "@jupyter-widgets/base",
      "model_module_version": "1.2.0",
      "model_name": "LayoutModel",
      "state": {}
     },
     "af3f73ee78074a148bed38a4b24adcd5": {
      "model_module": "@jupyter-widgets/controls",
      "model_module_version": "1.5.0",
      "model_name": "SliderStyleModel",
      "state": {
       "description_width": ""
      }
     },
     "af75221180074dcd85b074a3a1848abf": {
      "model_module": "@jupyter-widgets/controls",
      "model_module_version": "1.5.0",
      "model_name": "SliderStyleModel",
      "state": {
       "description_width": ""
      }
     },
     "afb8421fad0943568a7eecc56862d1a8": {
      "model_module": "@jupyter-widgets/controls",
      "model_module_version": "1.5.0",
      "model_name": "ButtonModel",
      "state": {
       "description": "Export Image",
       "layout": "IPY_MODEL_9d39a4c6a7b3442095fb6aa0455c88c0",
       "style": "IPY_MODEL_1f59433f09f04097949ebc0ce3e1284c"
      }
     },
     "afdf819bc18e44e39645937175ba089c": {
      "model_module": "@jupyter-widgets/base",
      "model_module_version": "1.2.0",
      "model_name": "LayoutModel",
      "state": {}
     },
     "b010a9cdd1a24fa98c614eb829ba5abd": {
      "model_module": "@jupyter-widgets/controls",
      "model_module_version": "1.5.0",
      "model_name": "SliderStyleModel",
      "state": {
       "description_width": ""
      }
     },
     "b0344cbdd10e4a3aa13958cfc8a156e3": {
      "model_module": "@jupyter-widgets/base",
      "model_module_version": "1.2.0",
      "model_name": "LayoutModel",
      "state": {
       "border": "solid 4px #222",
       "margin": "4px",
       "padding": "0"
      }
     },
     "b086e87f7e434bf4b85d8158b3e24f57": {
      "model_module": "@jupyter-widgets/base",
      "model_module_version": "1.2.0",
      "model_name": "LayoutModel",
      "state": {}
     },
     "b0870ec4af1341399c4c405ed56c82bf": {
      "model_module": "@jupyter-widgets/controls",
      "model_module_version": "1.5.0",
      "model_name": "VBoxModel",
      "state": {
       "children": [
        "IPY_MODEL_4bb565523f8442d28079e4d50206241b",
        "IPY_MODEL_123df205cb8d4517b4cc299dbef43e58",
        "IPY_MODEL_d53905d31984451ebd4cf9bfc74fab92"
       ],
       "layout": "IPY_MODEL_861411cbf77c413598f6853699ae33f1"
      }
     },
     "b091654f219d4fcb8f5ef53d3eba092d": {
      "model_module": "@jupyter-widgets/base",
      "model_module_version": "1.2.0",
      "model_name": "LayoutModel",
      "state": {}
     },
     "b094e288f5864526b9f36cc1e7374f53": {
      "model_module": "@jupyter-widgets/controls",
      "model_module_version": "1.5.0",
      "model_name": "DescriptionStyleModel",
      "state": {
       "description_width": ""
      }
     },
     "b0b3dd2837414874b90bdc2bf02476e1": {
      "model_module": "@jupyter-widgets/controls",
      "model_module_version": "1.5.0",
      "model_name": "ButtonModel",
      "state": {
       "description": "Reset Exposure",
       "layout": "IPY_MODEL_96f636ba445b45bcbd1d0fdd0b915699",
       "style": "IPY_MODEL_80b8d7d0520e461fafed10a9a61b1188"
      }
     },
     "b0b82f49a78e42ab833480e7d0afd3bd": {
      "model_module": "@jupyter-widgets/base",
      "model_module_version": "1.2.0",
      "model_name": "LayoutModel",
      "state": {}
     },
     "b0dad9c5c5ce4b37be4e77b4e10080f0": {
      "model_module": "@jupyter-widgets/controls",
      "model_module_version": "1.5.0",
      "model_name": "VBoxModel",
      "state": {
       "children": [
        "IPY_MODEL_ddc33f1401ec45489e74f60901b4f2fe",
        "IPY_MODEL_240a0bb461c54f3fb7c1622e16512ed0",
        "IPY_MODEL_ea8771b874a04325b7bc69aa5376e3a2"
       ],
       "layout": "IPY_MODEL_6406b282c5a64498a1f409a8222c113a"
      }
     },
     "b10a0ca374564c72a481f2415085ba5b": {
      "model_module": "@jupyter-widgets/controls",
      "model_module_version": "1.5.0",
      "model_name": "FloatSliderModel",
      "state": {
       "description": "Compression Threshold",
       "layout": "IPY_MODEL_39c17fb112bf4ebeb3216c94231c984f",
       "max": 1,
       "step": 0.01,
       "style": "IPY_MODEL_a39eddcfa6664b18a4daa338b8f815eb",
       "value": 0.8
      }
     },
     "b114f4fdd1ee4f81a5b80648b63d06c5": {
      "model_module": "@jupyter-widgets/base",
      "model_module_version": "1.2.0",
      "model_name": "LayoutModel",
      "state": {}
     },
     "b11b77622ee8457e9f6ed728ede879a1": {
      "model_module": "@jupyter-widgets/controls",
      "model_module_version": "1.5.0",
      "model_name": "ButtonStyleModel",
      "state": {}
     },
     "b11de6757b8d4bb394057fb768b4a895": {
      "model_module": "@jupyter-widgets/controls",
      "model_module_version": "1.5.0",
      "model_name": "FloatSliderModel",
      "state": {
       "description": "315°",
       "layout": "IPY_MODEL_3bb5b53caa8344ed8678b26a5bf8c7f5",
       "max": 1,
       "min": -1,
       "step": 0.01,
       "style": "IPY_MODEL_ad46330ef2fc4916b37a0a850b7c2116"
      }
     },
     "b1251f710fc84478928723e48819cdcd": {
      "model_module": "@jupyter-widgets/controls",
      "model_module_version": "1.5.0",
      "model_name": "HBoxModel",
      "state": {
       "children": [
        "IPY_MODEL_b7abe3db3b6c4443bcb515907829260e",
        "IPY_MODEL_e9ec76146359446b97bb55867f14f061",
        "IPY_MODEL_0d74013185dd4bcbaeabe7c459e9c43a"
       ],
       "layout": "IPY_MODEL_acf4b0deacaf4b03abbd18045646393a"
      }
     },
     "b1a7680235964b2f8fc9dcddc7b1ec4c": {
      "model_module": "@jupyter-widgets/base",
      "model_module_version": "1.2.0",
      "model_name": "LayoutModel",
      "state": {}
     },
     "b1d526798d0b4357a3341c790bcfc520": {
      "model_module": "@jupyter-widgets/base",
      "model_module_version": "1.2.0",
      "model_name": "LayoutModel",
      "state": {}
     },
     "b22477cf31464bedba42b35aa631f353": {
      "model_module": "@jupyter-widgets/base",
      "model_module_version": "1.2.0",
      "model_name": "LayoutModel",
      "state": {}
     },
     "b23c21b220a24d908b14f5d3cece24fc": {
      "model_module": "@jupyter-widgets/controls",
      "model_module_version": "1.5.0",
      "model_name": "SliderStyleModel",
      "state": {
       "description_width": ""
      }
     },
     "b2429ff4e94946029569d1f0733b5e23": {
      "model_module": "@jupyter-widgets/base",
      "model_module_version": "1.2.0",
      "model_name": "LayoutModel",
      "state": {}
     },
     "b2b4f2b06097461483e37ac5144c57f6": {
      "model_module": "@jupyter-widgets/base",
      "model_module_version": "1.2.0",
      "model_name": "LayoutModel",
      "state": {}
     },
     "b2f17a70096f46a198244c969b0b172a": {
      "model_module": "@jupyter-widgets/base",
      "model_module_version": "1.2.0",
      "model_name": "LayoutModel",
      "state": {}
     },
     "b3656bbc705c409e87a65686c8e46e9b": {
      "model_module": "@jupyter-widgets/base",
      "model_module_version": "1.2.0",
      "model_name": "LayoutModel",
      "state": {}
     },
     "b37500edb54d4bb895068bcbf0f6e7ce": {
      "model_module": "@jupyter-widgets/controls",
      "model_module_version": "1.5.0",
      "model_name": "VBoxModel",
      "state": {
       "children": [
        "IPY_MODEL_db079b85ede6414e9154a53c6475151a",
        "IPY_MODEL_489a537fbad54ff9af6d042a1212c2c6",
        "IPY_MODEL_a0258e3de2144a2a901275caf9d5fdc4"
       ],
       "layout": "IPY_MODEL_0c5bf6081856440480aa3c75326354c3"
      }
     },
     "b390721785ad4d80bca08ba5681d49c6": {
      "model_module": "@jupyter-widgets/controls",
      "model_module_version": "1.5.0",
      "model_name": "FloatSliderModel",
      "state": {
       "description": "0°",
       "layout": "IPY_MODEL_8e5dc0f0046c40429ed2a5a1a698e487",
       "max": 1,
       "min": -1,
       "step": 0.01,
       "style": "IPY_MODEL_f1a14b3d77c945bcbd268179791d9803"
      }
     },
     "b3ad8af54f84429ba958ecd450d5c5ce": {
      "model_module": "@jupyter-widgets/controls",
      "model_module_version": "1.5.0",
      "model_name": "ButtonStyleModel",
      "state": {}
     },
     "b3b7e0bdf617476dba4b8344ca0959b5": {
      "model_module": "@jupyter-widgets/controls",
      "model_module_version": "1.5.0",
      "model_name": "FloatSliderModel",
      "state": {
       "description": "135°",
       "layout": "IPY_MODEL_58584b26fc084734870da18d3b0a686d",
       "max": 1,
       "min": -1,
       "step": 0.01,
       "style": "IPY_MODEL_06f0b8760be544f2a35c565179e6e8f3"
      }
     },
     "b3d4d3d525504bfab053ab77e4213a3c": {
      "model_module": "@jupyter-widgets/controls",
      "model_module_version": "1.5.0",
      "model_name": "FloatSliderModel",
      "state": {
       "description": "Protected Area Threshold",
       "layout": "IPY_MODEL_6a69ae93d81b4ba993cfbf7dc9d9aba0",
       "max": 1,
       "step": 0.01,
       "style": "IPY_MODEL_6f364f9b03784dcf8c4f1855699404b1",
       "value": 0.7
      }
     },
     "b3ef3e7fe1aa4352b816306704d368e7": {
      "model_module": "@jupyter-widgets/base",
      "model_module_version": "1.2.0",
      "model_name": "LayoutModel",
      "state": {}
     },
     "b40100096c2a429b9bb93a0534e76a4d": {
      "model_module": "@jupyter-widgets/controls",
      "model_module_version": "1.5.0",
      "model_name": "ButtonStyleModel",
      "state": {}
     },
     "b41057b221524010b077ebef49ccd2c8": {
      "model_module": "@jupyter-widgets/controls",
      "model_module_version": "1.5.0",
      "model_name": "ButtonModel",
      "state": {
       "description": "Save Figure",
       "layout": "IPY_MODEL_b22477cf31464bedba42b35aa631f353",
       "style": "IPY_MODEL_b11b77622ee8457e9f6ed728ede879a1"
      }
     },
     "b4164c27ca064af6ab4deabc556eb27a": {
      "model_module": "@jupyter-widgets/base",
      "model_module_version": "1.2.0",
      "model_name": "LayoutModel",
      "state": {}
     },
     "b41b4851499b46ecb95c3266afb88c8e": {
      "model_module": "@jupyter-widgets/controls",
      "model_module_version": "1.5.0",
      "model_name": "SliderStyleModel",
      "state": {
       "description_width": ""
      }
     },
     "b461141223be4959a24317e13d7042d8": {
      "model_module": "@jupyter-widgets/controls",
      "model_module_version": "1.5.0",
      "model_name": "VBoxModel",
      "state": {
       "children": [
        "IPY_MODEL_f331aff8d8e5400abff553dfbe19f60a",
        "IPY_MODEL_916d2d9de8e24261a06a91ad01d9d2ce",
        "IPY_MODEL_87eb76f808054a109da5ea02c1312b1e"
       ],
       "layout": "IPY_MODEL_7ca8f1ae06d843968b29676510dadcc7"
      }
     },
     "b477aaaa5fa24d358fc80b3bf9fc8cee": {
      "model_module": "jupyter-matplotlib",
      "model_module_version": "^0.7.2",
      "model_name": "ToolbarModel",
      "state": {
       "layout": "IPY_MODEL_62df9076dd3141ada072d8971ac20ed2",
       "toolitems": [
        [
         "Home",
         "Reset original view",
         "home",
         "home"
        ],
        [
         "Back",
         "Back to previous view",
         "arrow-left",
         "back"
        ],
        [
         "Forward",
         "Forward to next view",
         "arrow-right",
         "forward"
        ],
        [
         "Pan",
         "Pan axes with left mouse, zoom with right",
         "arrows",
         "pan"
        ],
        [
         "Zoom",
         "Zoom to rectangle",
         "square-o",
         "zoom"
        ],
        [
         "Download",
         "Download plot",
         "floppy-o",
         "save_figure"
        ]
       ]
      }
     },
     "b4a3cf5043604b069e02313c7fb7cbb2": {
      "model_module": "@jupyter-widgets/controls",
      "model_module_version": "1.5.0",
      "model_name": "SliderStyleModel",
      "state": {
       "description_width": ""
      }
     },
     "b4d07136ffe74bd29fc4f5fdf2ab35d5": {
      "model_module": "@jupyter-widgets/controls",
      "model_module_version": "1.5.0",
      "model_name": "SliderStyleModel",
      "state": {
       "description_width": ""
      }
     },
     "b4f24c52b69649e9bccf809308a347b4": {
      "model_module": "@jupyter-widgets/base",
      "model_module_version": "1.2.0",
      "model_name": "LayoutModel",
      "state": {}
     },
     "b51bc5b8eb324ba3b9bd9aed3082fe8d": {
      "model_module": "@jupyter-widgets/controls",
      "model_module_version": "1.5.0",
      "model_name": "SliderStyleModel",
      "state": {
       "description_width": ""
      }
     },
     "b541c016c5814849822e292c9a958074": {
      "model_module": "@jupyter-widgets/controls",
      "model_module_version": "1.5.0",
      "model_name": "VBoxModel",
      "state": {
       "children": [
        "IPY_MODEL_906c238d798f4025ab0c9bda5cafe026",
        "IPY_MODEL_27347b6a6f0e4d5a89193e44c3c8ccee",
        "IPY_MODEL_bb1abb56a1594cdb8cd5b7ccb35f3b72"
       ],
       "layout": "IPY_MODEL_b0b82f49a78e42ab833480e7d0afd3bd"
      }
     },
     "b556601f2f8941a39491031246596507": {
      "model_module": "@jupyter-widgets/base",
      "model_module_version": "1.2.0",
      "model_name": "LayoutModel",
      "state": {}
     },
     "b5635b02b28d4e39949ea16be5a34e11": {
      "model_module": "@jupyter-widgets/base",
      "model_module_version": "1.2.0",
      "model_name": "LayoutModel",
      "state": {
       "border": "solid 4px #222",
       "margin": "4px",
       "padding": "0"
      }
     },
     "b57bf561670c41cb928b463dcbce22c9": {
      "model_module": "@jupyter-widgets/controls",
      "model_module_version": "1.5.0",
      "model_name": "SliderStyleModel",
      "state": {
       "description_width": ""
      }
     },
     "b5b50b79d6c44725b62a5ee5fbd18967": {
      "model_module": "@jupyter-widgets/base",
      "model_module_version": "1.2.0",
      "model_name": "LayoutModel",
      "state": {}
     },
     "b5d4cbb7cb1d43b2957b64164d87f4bf": {
      "model_module": "@jupyter-widgets/base",
      "model_module_version": "1.2.0",
      "model_name": "LayoutModel",
      "state": {}
     },
     "b5d641742a7849728285a6e562213a4e": {
      "model_module": "@jupyter-widgets/controls",
      "model_module_version": "1.5.0",
      "model_name": "VBoxModel",
      "state": {
       "children": [
        "IPY_MODEL_2b1f3cc2bb4d4d61a2b3dd4a917b470f",
        "IPY_MODEL_16bd7c34b6e14454b1ebfbb23fdb2da2"
       ],
       "layout": "IPY_MODEL_dab2e64de74143b48e14431d3ca801a7"
      }
     },
     "b5d73db83b9743efbfc74c1ebbd3a5be": {
      "model_module": "@jupyter-widgets/controls",
      "model_module_version": "1.5.0",
      "model_name": "SliderStyleModel",
      "state": {
       "description_width": ""
      }
     },
     "b5de2550bfb9453da6dd81cb1745738a": {
      "model_module": "@jupyter-widgets/controls",
      "model_module_version": "1.5.0",
      "model_name": "FloatSliderModel",
      "state": {
       "description": "315°",
       "layout": "IPY_MODEL_882220b9878c420eb544bebae8f757bf",
       "max": 1,
       "min": -1,
       "step": 0.01,
       "style": "IPY_MODEL_d3f3f65f577843a49f3074823ed25ee0"
      }
     },
     "b6034c9564d34ebaa961f04a013fe94d": {
      "model_module": "@jupyter-widgets/base",
      "model_module_version": "1.2.0",
      "model_name": "LayoutModel",
      "state": {}
     },
     "b644db1f03b24275bf6ef9c5f9986a8c": {
      "model_module": "@jupyter-widgets/controls",
      "model_module_version": "1.5.0",
      "model_name": "BoxModel",
      "state": {
       "children": [
        "IPY_MODEL_9fbc226a39dd4a7b975f8fa75970b2b0",
        "IPY_MODEL_95ddb9bf767e4b7b9d6458a81007d3d5"
       ],
       "layout": "IPY_MODEL_2d572613f44c468ea2c8876e9b03a580"
      }
     },
     "b6549565b58b40be8aff83e69b8364fd": {
      "model_module": "@jupyter-widgets/controls",
      "model_module_version": "1.5.0",
      "model_name": "ButtonStyleModel",
      "state": {}
     },
     "b672b767d87847bba0b4cdca5164f315": {
      "model_module": "@jupyter-widgets/controls",
      "model_module_version": "1.5.0",
      "model_name": "SliderStyleModel",
      "state": {
       "description_width": ""
      }
     },
     "b675dc35914648eb8dfd34b7a57387e1": {
      "model_module": "@jupyter-widgets/controls",
      "model_module_version": "1.5.0",
      "model_name": "DescriptionStyleModel",
      "state": {
       "description_width": ""
      }
     },
     "b6864eb6b02b4a66802aabfb6cef40d6": {
      "model_module": "@jupyter-widgets/output",
      "model_module_version": "1.0.0",
      "model_name": "OutputModel",
      "state": {
       "layout": "IPY_MODEL_cdb602f4ea5b4cc198b6eb809c6b0955",
       "outputs": [
        {
         "data": {
          "application/vnd.jupyter.widget-view+json": {
           "model_id": "67730e90b50c4b98a705d1419a482e42",
           "version_major": 2,
           "version_minor": 0
          },
          "text/plain": "Canvas(toolbar=Toolbar(toolitems=[('Home', 'Reset original view', 'home', 'home'), ('Back', 'Back to previous …"
         },
         "metadata": {},
         "output_type": "display_data"
        }
       ]
      }
     },
     "b6d0ffcecaff4aa9a0e484e126a26011": {
      "model_module": "@jupyter-widgets/controls",
      "model_module_version": "1.5.0",
      "model_name": "VBoxModel",
      "state": {
       "children": [
        "IPY_MODEL_47330cd7c9904cdfaea0b0d506895c26"
       ],
       "layout": "IPY_MODEL_cdfb45148d684581840761dc97769775"
      }
     },
     "b6fe29709c0c4b08ba0a1baf91da8e8c": {
      "model_module": "@jupyter-widgets/controls",
      "model_module_version": "1.5.0",
      "model_name": "HBoxModel",
      "state": {
       "children": [
        "IPY_MODEL_39ad63d7df444b1ab0f4b3ae18d89a57",
        "IPY_MODEL_5edbf1206bfe4b5680959ea6f854519e",
        "IPY_MODEL_c29020ab81ff494db643f1bfe83fa5c6"
       ],
       "layout": "IPY_MODEL_571d9c7b9e25451a9a7f7eaf7391819e"
      }
     },
     "b711dfa4994546a6b15e8b6146cf3c68": {
      "model_module": "@jupyter-widgets/base",
      "model_module_version": "1.2.0",
      "model_name": "LayoutModel",
      "state": {}
     },
     "b75200c36a4449a8ac7f920ecb1a9177": {
      "model_module": "@jupyter-widgets/base",
      "model_module_version": "1.2.0",
      "model_name": "LayoutModel",
      "state": {}
     },
     "b77dad42caf644a8a7d6e84cbb737686": {
      "model_module": "@jupyter-widgets/controls",
      "model_module_version": "1.5.0",
      "model_name": "SliderStyleModel",
      "state": {
       "description_width": ""
      }
     },
     "b78557c312b641938d005f7a3340a43d": {
      "model_module": "@jupyter-widgets/base",
      "model_module_version": "1.2.0",
      "model_name": "LayoutModel",
      "state": {}
     },
     "b79b9c5f736443b8a38363a835f4de08": {
      "model_module": "@jupyter-widgets/controls",
      "model_module_version": "1.5.0",
      "model_name": "FloatSliderModel",
      "state": {
       "description": "225°",
       "layout": "IPY_MODEL_b5d4cbb7cb1d43b2957b64164d87f4bf",
       "max": 1,
       "min": -1,
       "step": 0.01,
       "style": "IPY_MODEL_7d6f211494544986986760d7a59ceafe"
      }
     },
     "b7a9ec94736a4d909bfb5ba53d5dffd7": {
      "model_module": "@jupyter-widgets/controls",
      "model_module_version": "1.5.0",
      "model_name": "DescriptionStyleModel",
      "state": {
       "description_width": ""
      }
     },
     "b7abe3db3b6c4443bcb515907829260e": {
      "model_module": "@jupyter-widgets/controls",
      "model_module_version": "1.5.0",
      "model_name": "ButtonModel",
      "state": {
       "description": "Reset Saturation Controls",
       "layout": "IPY_MODEL_6f123e720ee943d9af63421aaada7316",
       "style": "IPY_MODEL_e5b0f733894e433e8ce7c61a575f1eba"
      }
     },
     "b7cc7f5559bd4c49be2e90f7cd6986d6": {
      "model_module": "@jupyter-widgets/controls",
      "model_module_version": "1.5.0",
      "model_name": "TabModel",
      "state": {
       "_titles": {
        "0": "Global Controls",
        "1": "Protected Area Controls",
        "2": "Saturation Controls",
        "3": "Hue Controls"
       },
       "children": [
        "IPY_MODEL_84e0fa8102e04c8f93627397ff7e0c4d",
        "IPY_MODEL_80277a5396054613944d5bde501fef4b",
        "IPY_MODEL_3f9a5c2888d44f6c84b3735bbe302b7f",
        "IPY_MODEL_3e626d77c25743768fdf15972b951781"
       ],
       "layout": "IPY_MODEL_01c09dd064564758abaf60e47b49bfa7"
      }
     },
     "b855ecd00ba644f1ab3010cdc3332658": {
      "model_module": "@jupyter-widgets/controls",
      "model_module_version": "1.5.0",
      "model_name": "FloatSliderModel",
      "state": {
       "description": "45°",
       "layout": "IPY_MODEL_6b3c99af957b44e48fea4eaa06f2eb63",
       "max": 1,
       "min": -1,
       "step": 0.01,
       "style": "IPY_MODEL_c417434c3da14c49bf37a06c73460f57"
      }
     },
     "b8791cc083ea4d438daf9c269c350648": {
      "model_module": "@jupyter-widgets/base",
      "model_module_version": "1.2.0",
      "model_name": "LayoutModel",
      "state": {}
     },
     "b87bee48327f45008eb35f108e24400f": {
      "model_module": "@jupyter-widgets/controls",
      "model_module_version": "1.5.0",
      "model_name": "ButtonModel",
      "state": {
       "description": "Reset Compression Controls",
       "layout": "IPY_MODEL_ea8319dc7cdc4897a611212b935a0c3f",
       "style": "IPY_MODEL_f3892f433fec4c11bc07200cecdbd58d"
      }
     },
     "b87f5b6b569e4021aaaea621f7d2b068": {
      "model_module": "@jupyter-widgets/controls",
      "model_module_version": "1.5.0",
      "model_name": "FloatSliderModel",
      "state": {
       "description": "270°",
       "layout": "IPY_MODEL_30129a3821bd4cb483657bed38b35d86",
       "max": 1,
       "min": -1,
       "step": 0.01,
       "style": "IPY_MODEL_0ce6babdf73647b6aba9ac9171483de1"
      }
     },
     "b8898ff133bd4ee4888550dd6cb6efd2": {
      "model_module": "@jupyter-widgets/base",
      "model_module_version": "1.2.0",
      "model_name": "LayoutModel",
      "state": {}
     },
     "b8c7b1420caa4df8b43583ddf2af7601": {
      "model_module": "@jupyter-widgets/controls",
      "model_module_version": "1.5.0",
      "model_name": "ButtonStyleModel",
      "state": {}
     },
     "b9019b7abb8a46b78e8de582e7eca856": {
      "model_module": "@jupyter-widgets/controls",
      "model_module_version": "1.5.0",
      "model_name": "ButtonModel",
      "state": {
       "description": "Export Image",
       "layout": "IPY_MODEL_234e44ef092544c3ac31b9099c3395b7",
       "style": "IPY_MODEL_15ad8788169c46d1839af3340519dccc"
      }
     },
     "b95d3e9dea1a4e05a6d17e5f7f67a367": {
      "model_module": "@jupyter-widgets/base",
      "model_module_version": "1.2.0",
      "model_name": "LayoutModel",
      "state": {}
     },
     "b9743252634847bdbcaaf46743ff3f9c": {
      "model_module": "@jupyter-widgets/controls",
      "model_module_version": "1.5.0",
      "model_name": "TabModel",
      "state": {
       "_titles": {
        "0": "Global Controls",
        "1": "Protected Area Controls",
        "2": "Saturation Controls",
        "3": "Hue Controls"
       },
       "children": [
        "IPY_MODEL_8a5ae9123dd345beb68dd6eeceeff620",
        "IPY_MODEL_7daa3dbba91f4a19be312108c037b67a",
        "IPY_MODEL_c9f2cc96d6214f088dfb5b6e4768a6e0",
        "IPY_MODEL_5192a687408149ff80c7d62a41f6d39c"
       ],
       "layout": "IPY_MODEL_1c8e9fd4a6c6432ab42ffee9a33530eb"
      }
     },
     "b9b7beee594a4e679701f508c61e7c91": {
      "model_module": "@jupyter-widgets/controls",
      "model_module_version": "1.5.0",
      "model_name": "FloatSliderModel",
      "state": {
       "description": "0°",
       "layout": "IPY_MODEL_1a64ba31542e42e0a4500d2ea590f33a",
       "max": 1,
       "min": -1,
       "step": 0.01,
       "style": "IPY_MODEL_88c793f3fd964610943b2310a86f3ae4"
      }
     },
     "b9f2d5819b954fb0b8309e8e224f7ea5": {
      "model_module": "@jupyter-widgets/controls",
      "model_module_version": "1.5.0",
      "model_name": "ButtonStyleModel",
      "state": {}
     },
     "b9f9b2b02d934756ad48c2dbfff5ad34": {
      "model_module": "@jupyter-widgets/base",
      "model_module_version": "1.2.0",
      "model_name": "LayoutModel",
      "state": {}
     },
     "ba0890711a2344d1a6f43530740c0340": {
      "model_module": "@jupyter-widgets/controls",
      "model_module_version": "1.5.0",
      "model_name": "SliderStyleModel",
      "state": {
       "description_width": ""
      }
     },
     "ba09a73e0ffa41ff8e3d83e613b6973a": {
      "model_module": "@jupyter-widgets/controls",
      "model_module_version": "1.5.0",
      "model_name": "ButtonModel",
      "state": {
       "description": "Reset Compression Controls",
       "layout": "IPY_MODEL_15f44f462b5f4ed984136ea958b1f6fc",
       "style": "IPY_MODEL_4181b0eb90c7415586ffa658ef045f37"
      }
     },
     "ba9f449f7a664e40bf9e8e25ab5db369": {
      "model_module": "@jupyter-widgets/base",
      "model_module_version": "1.2.0",
      "model_name": "LayoutModel",
      "state": {}
     },
     "bab022956657449e992e2d8492591a02": {
      "model_module": "@jupyter-widgets/controls",
      "model_module_version": "1.5.0",
      "model_name": "VBoxModel",
      "state": {
       "children": [
        "IPY_MODEL_12e20afa15c141c6abbb6c3c014c8a1a",
        "IPY_MODEL_b855ecd00ba644f1ab3010cdc3332658",
        "IPY_MODEL_c608eaba7ab44d1aa1d424c693609f0c"
       ],
       "layout": "IPY_MODEL_5a5b4a91ae0f4ba1a7f29338ee8dd3c5"
      }
     },
     "bab2049745594930b0dc10f8bcfe818a": {
      "model_module": "@jupyter-widgets/controls",
      "model_module_version": "1.5.0",
      "model_name": "FloatSliderModel",
      "state": {
       "description": "Exposure",
       "layout": "IPY_MODEL_a371a3ae939b40009056ed432bd9b0a6",
       "max": 8,
       "min": -8,
       "step": 0.1,
       "style": "IPY_MODEL_0361aff72d1443129c1b8c2454f6da39"
      }
     },
     "bb02f6df3a8d401690420ede963c1f66": {
      "model_module": "@jupyter-widgets/controls",
      "model_module_version": "1.5.0",
      "model_name": "ButtonModel",
      "state": {
       "description": "Reset Protected Area",
       "layout": "IPY_MODEL_455fd64233b74adea6f480d970d9ea0e",
       "style": "IPY_MODEL_1d7187a053174692bebeea38fba535f7"
      }
     },
     "bb1abb56a1594cdb8cd5b7ccb35f3b72": {
      "model_module": "@jupyter-widgets/controls",
      "model_module_version": "1.5.0",
      "model_name": "FloatSliderModel",
      "state": {
       "description": "90°",
       "layout": "IPY_MODEL_ac3d9fe15d9249e183134111c20db5fe",
       "max": 1,
       "min": -1,
       "step": 0.01,
       "style": "IPY_MODEL_538b40960b404144ab81c8fcd3f2e899"
      }
     },
     "bb57197127cd4c27a10beb0bfcf84b2d": {
      "model_module": "@jupyter-widgets/base",
      "model_module_version": "1.2.0",
      "model_name": "LayoutModel",
      "state": {}
     },
     "bb6d7648db3c49278a12c69e4f144753": {
      "model_module": "@jupyter-widgets/controls",
      "model_module_version": "1.5.0",
      "model_name": "FloatSliderModel",
      "state": {
       "description": "135°",
       "layout": "IPY_MODEL_7571e8b075b349cb9896f5a06c2fbb6c",
       "max": 1,
       "min": -1,
       "step": 0.01,
       "style": "IPY_MODEL_9e80bbb65d624743856743c4004e7804"
      }
     },
     "bbcbc75aac844e19a44325cd166ec486": {
      "model_module": "@jupyter-widgets/controls",
      "model_module_version": "1.5.0",
      "model_name": "TabModel",
      "state": {
       "_titles": {
        "0": "Global Controls",
        "1": "Compression Controls"
       },
       "children": [
        "IPY_MODEL_71dde300aa90439eb43df21fadf37e09",
        "IPY_MODEL_e7e5aa5e0eb547fea98f2018cdb12973"
       ],
       "layout": "IPY_MODEL_8eb7414fa3ff427cbaccecb3a786dc5f"
      }
     },
     "bc6527b451dc4d19bb8bd6e61dc35baf": {
      "model_module": "@jupyter-widgets/base",
      "model_module_version": "1.2.0",
      "model_name": "LayoutModel",
      "state": {}
     },
     "bc6eda6eb852427c903b15b21a161ac0": {
      "model_module": "@jupyter-widgets/controls",
      "model_module_version": "1.5.0",
      "model_name": "HBoxModel",
      "state": {
       "children": [
        "IPY_MODEL_ba09a73e0ffa41ff8e3d83e613b6973a",
        "IPY_MODEL_76a458cb175b4d10bb749ec3ceea0f39",
        "IPY_MODEL_c5130775649a4720b6d2eec36feaffa9"
       ],
       "layout": "IPY_MODEL_00fd5b03caf14c0c9a784d2718671c6c"
      }
     },
     "bd1bd5a4a17b4b09839c0689e005a819": {
      "model_module": "@jupyter-widgets/base",
      "model_module_version": "1.2.0",
      "model_name": "LayoutModel",
      "state": {}
     },
     "bd464e4af97c40cab86339f7901a7724": {
      "model_module": "@jupyter-widgets/base",
      "model_module_version": "1.2.0",
      "model_name": "LayoutModel",
      "state": {}
     },
     "bdbb06892395416abeb4a8000dbc7bbe": {
      "model_module": "@jupyter-widgets/controls",
      "model_module_version": "1.5.0",
      "model_name": "SliderStyleModel",
      "state": {
       "description_width": ""
      }
     },
     "bdbc41e0c7dd456d9e31dc74d48409de": {
      "model_module": "@jupyter-widgets/controls",
      "model_module_version": "1.5.0",
      "model_name": "FloatSliderModel",
      "state": {
       "description": "Compression Threshold",
       "layout": "IPY_MODEL_4a8ec007099b4d5ab896ff52b2d3bc4d",
       "max": 1,
       "step": 0.01,
       "style": "IPY_MODEL_8ec8516b0ffa458fae990a4f61e41804",
       "value": 0.8
      }
     },
     "bdda325acef546aeb429d6251ab2820b": {
      "model_module": "@jupyter-widgets/controls",
      "model_module_version": "1.5.0",
      "model_name": "HBoxModel",
      "state": {
       "children": [
        "IPY_MODEL_d59b6b02829a4de1911168cde1b8920e",
        "IPY_MODEL_b3d4d3d525504bfab053ab77e4213a3c"
       ],
       "layout": "IPY_MODEL_1f3fcb189cac4607b368c5899022f352"
      }
     },
     "bdf6a43d60a3414186055460d47aa39a": {
      "model_module": "@jupyter-widgets/controls",
      "model_module_version": "1.5.0",
      "model_name": "TabModel",
      "state": {
       "_titles": {
        "0": "Global Controls",
        "1": "Protected Area Controls",
        "2": "Saturation Controls",
        "3": "Hue Controls"
       },
       "children": [
        "IPY_MODEL_d12baef828ab41dbbe16a207c9790844",
        "IPY_MODEL_fd4ce85529644ef59de8ab5a9c6282ca",
        "IPY_MODEL_6bec830812fd4a7aac5779b92b7b2166",
        "IPY_MODEL_6b7b7f27c9ac45b29623e5eeca8908d8"
       ],
       "layout": "IPY_MODEL_aaca9e4ec0d74ee89e7cdd5dfaf75344"
      }
     },
     "be1e1ec6807e4f7a8b525a9a9c4e9860": {
      "model_module": "@jupyter-widgets/controls",
      "model_module_version": "1.5.0",
      "model_name": "ButtonStyleModel",
      "state": {}
     },
     "be3b5cdfd8a645ae952a7054da152eb9": {
      "model_module": "@jupyter-widgets/controls",
      "model_module_version": "1.5.0",
      "model_name": "CheckboxModel",
      "state": {
       "description": "Disable Medicina",
       "disabled": false,
       "layout": "IPY_MODEL_49874d71b6a84e18b015d0a41e1f6cab",
       "style": "IPY_MODEL_9e73195cf6cc4e1b96248f75a2a30fd7",
       "value": false
      }
     },
     "be5f1c6127d84f889d07ec65d7ee863c": {
      "model_module": "@jupyter-widgets/controls",
      "model_module_version": "1.5.0",
      "model_name": "SliderStyleModel",
      "state": {
       "description_width": ""
      }
     },
     "be685eabe555409cba9d6dde7db93768": {
      "model_module": "@jupyter-widgets/controls",
      "model_module_version": "1.5.0",
      "model_name": "VBoxModel",
      "state": {
       "children": [
        "IPY_MODEL_fdba6f34a6a64483a52b598542df0e89"
       ],
       "layout": "IPY_MODEL_ff2e128cacd34cfa890803478ef4d40b"
      }
     },
     "be7049460f5a46069058de0a7f6457fb": {
      "model_module": "@jupyter-widgets/controls",
      "model_module_version": "1.5.0",
      "model_name": "ButtonModel",
      "state": {
       "description": "Reset Protected Area",
       "layout": "IPY_MODEL_2ff8909381184813abf553090f8581bf",
       "style": "IPY_MODEL_ae67e1bdb50d4fb89239a9eed80dae3e"
      }
     },
     "bec5ce731cf649829666f6e579e4c3bd": {
      "model_module": "@jupyter-widgets/base",
      "model_module_version": "1.2.0",
      "model_name": "LayoutModel",
      "state": {}
     },
     "bed9e4bf3c354d94807d43af340def51": {
      "model_module": "@jupyter-widgets/base",
      "model_module_version": "1.2.0",
      "model_name": "LayoutModel",
      "state": {
       "border": "solid 4px #222",
       "margin": "4px",
       "padding": "0"
      }
     },
     "bef2ebbee0b746a89d4b697ceac09594": {
      "model_module": "@jupyter-widgets/base",
      "model_module_version": "1.2.0",
      "model_name": "LayoutModel",
      "state": {}
     },
     "bf2b5122eb48420f95a99c23deeceba4": {
      "model_module": "@jupyter-widgets/base",
      "model_module_version": "1.2.0",
      "model_name": "LayoutModel",
      "state": {}
     },
     "bf54881a841f48778ed625d0aed8a1f8": {
      "model_module": "@jupyter-widgets/base",
      "model_module_version": "1.2.0",
      "model_name": "LayoutModel",
      "state": {}
     },
     "bf54b6b19e774d548c29473f3f69a19c": {
      "model_module": "@jupyter-widgets/controls",
      "model_module_version": "1.5.0",
      "model_name": "ButtonStyleModel",
      "state": {}
     },
     "bf5c1c69029b4e428cb7f5b65226e97f": {
      "model_module": "@jupyter-widgets/controls",
      "model_module_version": "1.5.0",
      "model_name": "SliderStyleModel",
      "state": {
       "description_width": ""
      }
     },
     "bf88caa7d9334b138d5ba1a297112a1c": {
      "model_module": "@jupyter-widgets/controls",
      "model_module_version": "1.5.0",
      "model_name": "ButtonModel",
      "state": {
       "description": "Reset Protected Area",
       "layout": "IPY_MODEL_3d663ee20b994c3d982eba3861053d90",
       "style": "IPY_MODEL_b6549565b58b40be8aff83e69b8364fd"
      }
     },
     "bfedffe0f6b84a84be0a043f8e977593": {
      "model_module": "@jupyter-widgets/controls",
      "model_module_version": "1.5.0",
      "model_name": "ButtonModel",
      "state": {
       "description": "Reset Exposure",
       "layout": "IPY_MODEL_ce51c9796aa248379eb5e054b7413bab",
       "style": "IPY_MODEL_c66fa12499b14e33901f1ed2153592c7"
      }
     },
     "c05cd64da5c249dd8f7a0d4d30bcd43d": {
      "model_module": "@jupyter-widgets/base",
      "model_module_version": "1.2.0",
      "model_name": "LayoutModel",
      "state": {}
     },
     "c06166ea1b444af9ab7862dd516dfc15": {
      "model_module": "@jupyter-widgets/controls",
      "model_module_version": "1.5.0",
      "model_name": "VBoxModel",
      "state": {
       "children": [
        "IPY_MODEL_e14cf6fa7e424bc0af546e1d2b6c27de",
        "IPY_MODEL_ffa2ce4aa3314151b7f4bb462170f213",
        "IPY_MODEL_b79b9c5f736443b8a38363a835f4de08"
       ],
       "layout": "IPY_MODEL_8fac290ee88e443ca9e32e043baca5dc"
      }
     },
     "c06ec35118214c8f8723e58b6ced63f3": {
      "model_module": "@jupyter-widgets/controls",
      "model_module_version": "1.5.0",
      "model_name": "FloatSliderModel",
      "state": {
       "description": "90°",
       "layout": "IPY_MODEL_bf54881a841f48778ed625d0aed8a1f8",
       "max": 1,
       "min": -1,
       "step": 0.01,
       "style": "IPY_MODEL_43fdcb119d9644859ee703813c96bd44"
      }
     },
     "c0734566748044cba41af3d29cbb97bd": {
      "model_module": "@jupyter-widgets/base",
      "model_module_version": "1.2.0",
      "model_name": "LayoutModel",
      "state": {}
     },
     "c0b9aeb610ca432bbb293f7f0724abb3": {
      "model_module": "@jupyter-widgets/controls",
      "model_module_version": "1.5.0",
      "model_name": "DescriptionStyleModel",
      "state": {
       "description_width": ""
      }
     },
     "c0f0409c5d394fcb9730bb4f19cb78b5": {
      "model_module": "@jupyter-widgets/base",
      "model_module_version": "1.2.0",
      "model_name": "LayoutModel",
      "state": {}
     },
     "c15ceb2fb71a43ea9fbab54cbf10db27": {
      "model_module": "@jupyter-widgets/controls",
      "model_module_version": "1.5.0",
      "model_name": "ButtonStyleModel",
      "state": {}
     },
     "c190d59a6fda4feeb6a1c972ded40b37": {
      "model_module": "@jupyter-widgets/base",
      "model_module_version": "1.2.0",
      "model_name": "LayoutModel",
      "state": {}
     },
     "c1c34e5e1ad846a7beadb6ebe3b6ef1f": {
      "model_module": "@jupyter-widgets/base",
      "model_module_version": "1.2.0",
      "model_name": "LayoutModel",
      "state": {}
     },
     "c1c94b20891a46d0974ddf3380866623": {
      "model_module": "@jupyter-widgets/controls",
      "model_module_version": "1.5.0",
      "model_name": "FloatSliderModel",
      "state": {
       "description": "135°",
       "layout": "IPY_MODEL_57659f9cd81c4eefb4b808162e83cd3c",
       "max": 1,
       "min": -1,
       "step": 0.01,
       "style": "IPY_MODEL_cf4eb1f5bab24a9f84152256cf6ffef4"
      }
     },
     "c1cb0dabf03749ae9d8b0ce937f57199": {
      "model_module": "@jupyter-widgets/base",
      "model_module_version": "1.2.0",
      "model_name": "LayoutModel",
      "state": {}
     },
     "c1d171bb0fab48538e42592e23fce4da": {
      "model_module": "@jupyter-widgets/base",
      "model_module_version": "1.2.0",
      "model_name": "LayoutModel",
      "state": {}
     },
     "c2249a3c813d4d25819aa487868cbe01": {
      "model_module": "@jupyter-widgets/controls",
      "model_module_version": "1.5.0",
      "model_name": "ButtonStyleModel",
      "state": {}
     },
     "c230cdf9a1764808905489729e39b4fe": {
      "model_module": "@jupyter-widgets/base",
      "model_module_version": "1.2.0",
      "model_name": "LayoutModel",
      "state": {}
     },
     "c27311b1e38d4e12928ff83345fe5ee5": {
      "model_module": "@jupyter-widgets/controls",
      "model_module_version": "1.5.0",
      "model_name": "DropdownModel",
      "state": {
       "_options_labels": [
        "tanh",
        "atan",
        "simple"
       ],
       "description": "Compression Function:",
       "index": 0,
       "layout": "IPY_MODEL_fd4fbae9f7c44189ae94ea5986c57b51",
       "style": "IPY_MODEL_113a4e35d349497e8ec470e2bea818fd"
      }
     },
     "c2857460845c4296818cb3e8909dc915": {
      "model_module": "@jupyter-widgets/base",
      "model_module_version": "1.2.0",
      "model_name": "LayoutModel",
      "state": {}
     },
     "c285bdd884eb426296a6a4e7d3703df7": {
      "model_module": "@jupyter-widgets/controls",
      "model_module_version": "1.5.0",
      "model_name": "DropdownModel",
      "state": {
       "_options_labels": [
        "tanh",
        "atan",
        "simple"
       ],
       "description": "Compression Function:",
       "index": 0,
       "layout": "IPY_MODEL_a7d96762032c42c88d8cbbee3eedfdfe",
       "style": "IPY_MODEL_ce388da71192462f9c17d18058b8554c"
      }
     },
     "c29020ab81ff494db643f1bfe83fa5c6": {
      "model_module": "@jupyter-widgets/controls",
      "model_module_version": "1.5.0",
      "model_name": "FloatSliderModel",
      "state": {
       "description": "Compression Threshold",
       "layout": "IPY_MODEL_73367da7f2064aec871c44bde2898082",
       "max": 1,
       "step": 0.01,
       "style": "IPY_MODEL_d5b59111ef6747eda52a11e83080f4d3",
       "value": 0.8
      }
     },
     "c2ba4742f770447496ab5e40692afc36": {
      "model_module": "@jupyter-widgets/base",
      "model_module_version": "1.2.0",
      "model_name": "LayoutModel",
      "state": {}
     },
     "c2e285d3596b418faf64f8f4db1f351c": {
      "model_module": "@jupyter-widgets/controls",
      "model_module_version": "1.5.0",
      "model_name": "ButtonModel",
      "state": {
       "description": "Reset Protected Area",
       "layout": "IPY_MODEL_fd058c00d0fb45a8bb55afb225b3653d",
       "style": "IPY_MODEL_8cdcff9e3c1a4da4a6090c261fe30bbc"
      }
     },
     "c3064c33d75c4e839b52ce772fb3cecf": {
      "model_module": "@jupyter-widgets/base",
      "model_module_version": "1.2.0",
      "model_name": "LayoutModel",
      "state": {}
     },
     "c3535412325144f4adab3c2c8ee4490a": {
      "model_module": "jupyter-matplotlib",
      "model_module_version": "^0.7.2",
      "model_name": "ToolbarModel",
      "state": {
       "layout": "IPY_MODEL_c0f0409c5d394fcb9730bb4f19cb78b5",
       "toolitems": [
        [
         "Home",
         "Reset original view",
         "home",
         "home"
        ],
        [
         "Back",
         "Back to previous view",
         "arrow-left",
         "back"
        ],
        [
         "Forward",
         "Forward to next view",
         "arrow-right",
         "forward"
        ],
        [
         "Pan",
         "Pan axes with left mouse, zoom with right",
         "arrows",
         "pan"
        ],
        [
         "Zoom",
         "Zoom to rectangle",
         "square-o",
         "zoom"
        ],
        [
         "Download",
         "Download plot",
         "floppy-o",
         "save_figure"
        ]
       ]
      }
     },
     "c3605538b93e41a6b8876a0331290518": {
      "model_module": "@jupyter-widgets/base",
      "model_module_version": "1.2.0",
      "model_name": "LayoutModel",
      "state": {}
     },
     "c37271d9a09248e5a0a073b13664dfa8": {
      "model_module": "@jupyter-widgets/base",
      "model_module_version": "1.2.0",
      "model_name": "LayoutModel",
      "state": {
       "align_items": "stretch",
       "display": "flex",
       "flex_flow": "column",
       "width": "1128px"
      }
     },
     "c3764f1b0da94513be3eba7f853cce2a": {
      "model_module": "@jupyter-widgets/controls",
      "model_module_version": "1.5.0",
      "model_name": "ButtonModel",
      "state": {
       "description": "Export Image",
       "layout": "IPY_MODEL_867b3a717ecb428c980980a20edef7f5",
       "style": "IPY_MODEL_80fa11e48a5740a0a2593c631fb805ad"
      }
     },
     "c3c0a18819e44bc0a5f53ab6d38852fe": {
      "model_module": "@jupyter-widgets/controls",
      "model_module_version": "1.5.0",
      "model_name": "FloatSliderModel",
      "state": {
       "description": "Compression Threshold",
       "layout": "IPY_MODEL_3d950852015848d9ac5ac7fa8eea7e01",
       "max": 1,
       "step": 0.01,
       "style": "IPY_MODEL_f9ed2aee6b1e4f098c15659238bc1c96",
       "value": 0.8
      }
     },
     "c3cab5598e954d07b9a40824c837436c": {
      "model_module": "@jupyter-widgets/controls",
      "model_module_version": "1.5.0",
      "model_name": "ButtonModel",
      "state": {
       "description": "Reset Protected Area",
       "layout": "IPY_MODEL_98edae9825eb4cceae199c7bcb2cd6ef",
       "style": "IPY_MODEL_7ead762f2b6f465c8323cbbe01dace0e"
      }
     },
     "c3df8f7529d040f4ae5c7f44f58f3255": {
      "model_module": "@jupyter-widgets/controls",
      "model_module_version": "1.5.0",
      "model_name": "SliderStyleModel",
      "state": {
       "description_width": ""
      }
     },
     "c3e5a00610104cc389ae0e68c5e4fc87": {
      "model_module": "jupyter-matplotlib",
      "model_module_version": "^0.7.2",
      "model_name": "ToolbarModel",
      "state": {
       "layout": "IPY_MODEL_fdec320c89644d128c10a7e075eb1130",
       "toolitems": [
        [
         "Home",
         "Reset original view",
         "home",
         "home"
        ],
        [
         "Back",
         "Back to previous view",
         "arrow-left",
         "back"
        ],
        [
         "Forward",
         "Forward to next view",
         "arrow-right",
         "forward"
        ],
        [
         "Pan",
         "Pan axes with left mouse, zoom with right",
         "arrows",
         "pan"
        ],
        [
         "Zoom",
         "Zoom to rectangle",
         "square-o",
         "zoom"
        ],
        [
         "Download",
         "Download plot",
         "floppy-o",
         "save_figure"
        ]
       ]
      }
     },
     "c3e896102d3249aaaff15497fe7bc517": {
      "model_module": "@jupyter-widgets/base",
      "model_module_version": "1.2.0",
      "model_name": "LayoutModel",
      "state": {}
     },
     "c3fc982c2b1c412e8c0aebe6905a4ef8": {
      "model_module": "@jupyter-widgets/base",
      "model_module_version": "1.2.0",
      "model_name": "LayoutModel",
      "state": {}
     },
     "c417434c3da14c49bf37a06c73460f57": {
      "model_module": "@jupyter-widgets/controls",
      "model_module_version": "1.5.0",
      "model_name": "SliderStyleModel",
      "state": {
       "description_width": ""
      }
     },
     "c4657b2735c644a9bbc5dada62c7bdef": {
      "model_module": "@jupyter-widgets/controls",
      "model_module_version": "1.5.0",
      "model_name": "FloatSliderModel",
      "state": {
       "description": "Exposure",
       "layout": "IPY_MODEL_36af5de8688f4947986320c183ce9849",
       "max": 8,
       "min": -8,
       "step": 0.1,
       "style": "IPY_MODEL_dd1e050a6785487e9babbfeaacb4485c"
      }
     },
     "c486cbc2560347129a8674e3d12c1abb": {
      "model_module": "jupyter-matplotlib",
      "model_module_version": "^0.7.2",
      "model_name": "ToolbarModel",
      "state": {
       "layout": "IPY_MODEL_6b73d43b6bc64db794f333deebb2850d",
       "toolitems": [
        [
         "Home",
         "Reset original view",
         "home",
         "home"
        ],
        [
         "Back",
         "Back to previous view",
         "arrow-left",
         "back"
        ],
        [
         "Forward",
         "Forward to next view",
         "arrow-right",
         "forward"
        ],
        [
         "Pan",
         "Pan axes with left mouse, zoom with right",
         "arrows",
         "pan"
        ],
        [
         "Zoom",
         "Zoom to rectangle",
         "square-o",
         "zoom"
        ],
        [
         "Download",
         "Download plot",
         "floppy-o",
         "save_figure"
        ]
       ]
      }
     },
     "c5130775649a4720b6d2eec36feaffa9": {
      "model_module": "@jupyter-widgets/controls",
      "model_module_version": "1.5.0",
      "model_name": "FloatSliderModel",
      "state": {
       "description": "Compression Threshold",
       "layout": "IPY_MODEL_434b79fc30f24b5caf0becb8a4258ef9",
       "max": 1,
       "step": 0.01,
       "style": "IPY_MODEL_9d06342e195046c694d4dc55576a5661",
       "value": 0.8
      }
     },
     "c528007fce7e4fe4b7b34b2febcf0af6": {
      "model_module": "@jupyter-widgets/controls",
      "model_module_version": "1.5.0",
      "model_name": "VBoxModel",
      "state": {
       "children": [
        "IPY_MODEL_807b1675610d4d5184d527dd15836713",
        "IPY_MODEL_d3946dc930814dd88e9d4fa3f40cd503"
       ],
       "layout": "IPY_MODEL_2812a594f8a14574b301494479f3e3e6"
      }
     },
     "c56ab5ceba9245d5a6d087c5d90aeddd": {
      "model_module": "@jupyter-widgets/controls",
      "model_module_version": "1.5.0",
      "model_name": "SliderStyleModel",
      "state": {
       "description_width": ""
      }
     },
     "c5f49dff4089403ab15c1bc399db9664": {
      "model_module": "@jupyter-widgets/controls",
      "model_module_version": "1.5.0",
      "model_name": "VBoxModel",
      "state": {
       "children": [
        "IPY_MODEL_b9b7beee594a4e679701f508c61e7c91",
        "IPY_MODEL_159bf2e87595467798bbcbdd27078e99",
        "IPY_MODEL_c9d9dda8b6884248a46040ea10ba54f1"
       ],
       "layout": "IPY_MODEL_2bda2b3888f842509034438ec757cb8f"
      }
     },
     "c608eaba7ab44d1aa1d424c693609f0c": {
      "model_module": "@jupyter-widgets/controls",
      "model_module_version": "1.5.0",
      "model_name": "FloatSliderModel",
      "state": {
       "description": "90°",
       "layout": "IPY_MODEL_101ae773892b4f8597db3ba2b844c47f",
       "max": 1,
       "min": -1,
       "step": 0.01,
       "style": "IPY_MODEL_8d5ffa0a96584acdb25029d7d063506b"
      }
     },
     "c66fa12499b14e33901f1ed2153592c7": {
      "model_module": "@jupyter-widgets/controls",
      "model_module_version": "1.5.0",
      "model_name": "ButtonStyleModel",
      "state": {}
     },
     "c69cc32ccafe48268f4be92ff7e2d0d1": {
      "model_module": "@jupyter-widgets/controls",
      "model_module_version": "1.5.0",
      "model_name": "DescriptionStyleModel",
      "state": {
       "description_width": ""
      }
     },
     "c6c7a043f180403dbbf871a81ca45b44": {
      "model_module": "@jupyter-widgets/controls",
      "model_module_version": "1.5.0",
      "model_name": "FloatSliderModel",
      "state": {
       "description": "135°",
       "layout": "IPY_MODEL_969a3a5f050f4b3bb5d01ebbc306c844",
       "max": 1,
       "min": -1,
       "step": 0.01,
       "style": "IPY_MODEL_98207bbcff7144eabd701d686bdfd140"
      }
     },
     "c6e3897751e940678858e5f74fbf93d1": {
      "model_module": "@jupyter-widgets/controls",
      "model_module_version": "1.5.0",
      "model_name": "SliderStyleModel",
      "state": {
       "description_width": ""
      }
     },
     "c6f64549d1214799a3ff8577c37dafd1": {
      "model_module": "@jupyter-widgets/base",
      "model_module_version": "1.2.0",
      "model_name": "LayoutModel",
      "state": {}
     },
     "c7041f4f4fb74f33aa080ceaac64e804": {
      "model_module": "@jupyter-widgets/controls",
      "model_module_version": "1.5.0",
      "model_name": "DescriptionStyleModel",
      "state": {
       "description_width": ""
      }
     },
     "c70dc1b51f644321b40e29427d423f19": {
      "model_module": "@jupyter-widgets/base",
      "model_module_version": "1.2.0",
      "model_name": "LayoutModel",
      "state": {}
     },
     "c767565b81224d8c8b8ef7b014dd1a22": {
      "model_module": "@jupyter-widgets/base",
      "model_module_version": "1.2.0",
      "model_name": "LayoutModel",
      "state": {}
     },
     "c7f82706316a49c1ba7c9f5c7f946a25": {
      "model_module": "@jupyter-widgets/base",
      "model_module_version": "1.2.0",
      "model_name": "LayoutModel",
      "state": {
       "border": "solid 4px #222",
       "margin": "4px",
       "padding": "0"
      }
     },
     "c82c1638020d4d6383a9334321b8d476": {
      "model_module": "@jupyter-widgets/controls",
      "model_module_version": "1.5.0",
      "model_name": "ButtonModel",
      "state": {
       "description": "Export Image",
       "layout": "IPY_MODEL_8f3af327e9174b1b8b82582523be8369",
       "style": "IPY_MODEL_d8a0b8f8a2fa43d3b701506464b44b35"
      }
     },
     "c83c1e8fe93440409110e55fc5fdef03": {
      "model_module": "@jupyter-widgets/controls",
      "model_module_version": "1.5.0",
      "model_name": "FloatSliderModel",
      "state": {
       "description": "Exposure",
       "layout": "IPY_MODEL_b2f17a70096f46a198244c969b0b172a",
       "max": 8,
       "min": -8,
       "step": 0.1,
       "style": "IPY_MODEL_550a796d896447d29181e5d4dad46d55"
      }
     },
     "c84588e6225745728fe19841f5c8157c": {
      "model_module": "@jupyter-widgets/base",
      "model_module_version": "1.2.0",
      "model_name": "LayoutModel",
      "state": {
       "align_items": "stretch",
       "display": "flex",
       "flex_flow": "column",
       "width": "1128px"
      }
     },
     "c84ebdd75e0e4793a4a755b2a14a2653": {
      "model_module": "@jupyter-widgets/output",
      "model_module_version": "1.0.0",
      "model_name": "OutputModel",
      "state": {
       "layout": "IPY_MODEL_d65ed5842aa340a99aad2bf8fb588e48",
       "outputs": [
        {
         "data": {
          "application/vnd.jupyter.widget-view+json": {
           "model_id": "9a501b8107694ed4b40fc44bae33ebe3",
           "version_major": 2,
           "version_minor": 0
          },
          "text/plain": "Canvas(toolbar=Toolbar(toolitems=[('Home', 'Reset original view', 'home', 'home'), ('Back', 'Back to previous …"
         },
         "metadata": {},
         "output_type": "display_data"
        }
       ]
      }
     },
     "c85d9592a60f4ea6a3b09ab77216eae8": {
      "model_module": "@jupyter-widgets/controls",
      "model_module_version": "1.5.0",
      "model_name": "ButtonStyleModel",
      "state": {}
     },
     "c87f1faeeeb74a9d90eaa77fd030ebff": {
      "model_module": "@jupyter-widgets/controls",
      "model_module_version": "1.5.0",
      "model_name": "HBoxModel",
      "state": {
       "children": [
        "IPY_MODEL_a306613475184ebf951669893a61f928",
        "IPY_MODEL_79377edbf18d48bb9bb7aa7abfb0d9c7"
       ],
       "layout": "IPY_MODEL_0d94280965ac48899f9a447dd5171494"
      }
     },
     "c8aca4e997f64c5dac57f9faac64f62e": {
      "model_module": "@jupyter-widgets/controls",
      "model_module_version": "1.5.0",
      "model_name": "SliderStyleModel",
      "state": {
       "description_width": ""
      }
     },
     "c8df75a328f94fa3929e8c5bb990ba3d": {
      "model_module": "@jupyter-widgets/base",
      "model_module_version": "1.2.0",
      "model_name": "LayoutModel",
      "state": {}
     },
     "c8ec604383394ce7b658192e58df8ae8": {
      "model_module": "@jupyter-widgets/controls",
      "model_module_version": "1.5.0",
      "model_name": "SliderStyleModel",
      "state": {
       "description_width": ""
      }
     },
     "c8f3f68e95604890a3a91a7fb446f5a5": {
      "model_module": "@jupyter-widgets/controls",
      "model_module_version": "1.5.0",
      "model_name": "DescriptionStyleModel",
      "state": {
       "description_width": ""
      }
     },
     "c97a0b03d8f44adbb446bf965a7e60a1": {
      "model_module": "@jupyter-widgets/base",
      "model_module_version": "1.2.0",
      "model_name": "LayoutModel",
      "state": {}
     },
     "c9a741b624fd4fd3b05c5313d72438c7": {
      "model_module": "@jupyter-widgets/base",
      "model_module_version": "1.2.0",
      "model_name": "LayoutModel",
      "state": {}
     },
     "c9c20a70be5546cba2478d3055074d3a": {
      "model_module": "@jupyter-widgets/base",
      "model_module_version": "1.2.0",
      "model_name": "LayoutModel",
      "state": {}
     },
     "c9d9dda8b6884248a46040ea10ba54f1": {
      "model_module": "@jupyter-widgets/controls",
      "model_module_version": "1.5.0",
      "model_name": "FloatSliderModel",
      "state": {
       "description": "90°",
       "layout": "IPY_MODEL_50c24428ca9f404a90d8d3bd2acc5b6e",
       "max": 1,
       "min": -1,
       "step": 0.01,
       "style": "IPY_MODEL_1a5a2fe01d1a4ad1b1178a3afdd164a7"
      }
     },
     "c9f2cc96d6214f088dfb5b6e4768a6e0": {
      "model_module": "@jupyter-widgets/controls",
      "model_module_version": "1.5.0",
      "model_name": "HBoxModel",
      "state": {
       "children": [
        "IPY_MODEL_e38c73257a92458287ffeace59d3b3e2",
        "IPY_MODEL_54be02509abd426291067980c27fcc4b",
        "IPY_MODEL_6391aa764ae04be29015df4c07118612"
       ],
       "layout": "IPY_MODEL_68bb33fc34384f08b26bd2dc1bf5882e"
      }
     },
     "ca2a59ec41d14fa182bba40360f524d9": {
      "model_module": "@jupyter-widgets/base",
      "model_module_version": "1.2.0",
      "model_name": "LayoutModel",
      "state": {}
     },
     "ca940b553ca546ada85532b3b52e5b4c": {
      "model_module": "@jupyter-widgets/controls",
      "model_module_version": "1.5.0",
      "model_name": "DescriptionStyleModel",
      "state": {
       "description_width": ""
      }
     },
     "cac97d12142f4f87be82f122916f12cf": {
      "model_module": "@jupyter-widgets/controls",
      "model_module_version": "1.5.0",
      "model_name": "ButtonStyleModel",
      "state": {}
     },
     "cafc060e7ff04f01b273205c342859ad": {
      "model_module": "@jupyter-widgets/base",
      "model_module_version": "1.2.0",
      "model_name": "LayoutModel",
      "state": {
       "border": "solid 4px #222",
       "margin": "4px",
       "padding": "0"
      }
     },
     "cb4495b3694e43d49e8cc1f4d336a786": {
      "model_module": "@jupyter-widgets/base",
      "model_module_version": "1.2.0",
      "model_name": "LayoutModel",
      "state": {}
     },
     "cb538526524d4d2ab0cedcffa0afbd6a": {
      "model_module": "@jupyter-widgets/base",
      "model_module_version": "1.2.0",
      "model_name": "LayoutModel",
      "state": {}
     },
     "cb708a37c42c47cbb05ee87468d4e70f": {
      "model_module": "@jupyter-widgets/controls",
      "model_module_version": "1.5.0",
      "model_name": "DescriptionStyleModel",
      "state": {
       "description_width": ""
      }
     },
     "cb9bd871ccf4463bba1f70e583c1a427": {
      "model_module": "@jupyter-widgets/controls",
      "model_module_version": "1.5.0",
      "model_name": "VBoxModel",
      "state": {
       "children": [
        "IPY_MODEL_8f493808cd2b42b88a35d1817ffe0515"
       ],
       "layout": "IPY_MODEL_2bf97dd9ce67473cbda2d2660a0f1107"
      }
     },
     "cbc563cc2d454f2489b98710c406d1aa": {
      "model_module": "@jupyter-widgets/controls",
      "model_module_version": "1.5.0",
      "model_name": "HBoxModel",
      "state": {
       "children": [
        "IPY_MODEL_17544b76e9eb40d0b96e3e9eeb17ac30",
        "IPY_MODEL_432d8899aed8454aa20bbcbadc8dd7e0",
        "IPY_MODEL_619af4c76e47462696cbe48a476b8cc7",
        "IPY_MODEL_a2c6999bc24c4174b53a496d1c6530dd",
        "IPY_MODEL_9af2c317cc2647879e5c7c37f2987160"
       ],
       "layout": "IPY_MODEL_9b2bff2c4300480381d701fb37ede6cd"
      }
     },
     "cbed37fd57f6458a8e80629c5063022d": {
      "model_module": "@jupyter-widgets/base",
      "model_module_version": "1.2.0",
      "model_name": "LayoutModel",
      "state": {}
     },
     "cc06642466f14111abcefb419f563d44": {
      "model_module": "@jupyter-widgets/controls",
      "model_module_version": "1.5.0",
      "model_name": "ButtonModel",
      "state": {
       "description": "Export Image",
       "layout": "IPY_MODEL_6cd46f77af4440078dff9dcd4a390400",
       "style": "IPY_MODEL_446ab4ee1cb6487aa42762c941ba4796"
      }
     },
     "cc09daa712154d2eb186566c3122c63a": {
      "model_module": "@jupyter-widgets/controls",
      "model_module_version": "1.5.0",
      "model_name": "CheckboxModel",
      "state": {
       "description": "Disable Medicina",
       "disabled": false,
       "layout": "IPY_MODEL_17552b6774884011bae44a1ecfe657c5",
       "style": "IPY_MODEL_26087b9815474588a51187f4a6bcc575",
       "value": false
      }
     },
     "cc22e152537b42e8a967987930963340": {
      "model_module": "@jupyter-widgets/controls",
      "model_module_version": "1.5.0",
      "model_name": "SliderStyleModel",
      "state": {
       "description_width": ""
      }
     },
     "cc51bf6d7f5d468789f04c3cff3fadfc": {
      "model_module": "@jupyter-widgets/controls",
      "model_module_version": "1.5.0",
      "model_name": "DescriptionStyleModel",
      "state": {
       "description_width": ""
      }
     },
     "cca41632064241e7a5d3d140fe04dd68": {
      "model_module": "@jupyter-widgets/base",
      "model_module_version": "1.2.0",
      "model_name": "LayoutModel",
      "state": {}
     },
     "ccf36f767f774101a5d809460c6abe00": {
      "model_module": "@jupyter-widgets/controls",
      "model_module_version": "1.5.0",
      "model_name": "FloatSliderModel",
      "state": {
       "description": "45°",
       "layout": "IPY_MODEL_2fd457aa19a74b29aeb3d90ce3f8a999",
       "max": 1,
       "min": -1,
       "step": 0.01,
       "style": "IPY_MODEL_624ccd6301a64208bd2e8f013f7b32ab"
      }
     },
     "cd23e4fcb9e94a52b224de66773d888d": {
      "model_module": "@jupyter-widgets/controls",
      "model_module_version": "1.5.0",
      "model_name": "FloatSliderModel",
      "state": {
       "description": "135°",
       "layout": "IPY_MODEL_cd3c81e6082e40d885fcb9b913a86800",
       "max": 1,
       "min": -1,
       "step": 0.01,
       "style": "IPY_MODEL_b51bc5b8eb324ba3b9bd9aed3082fe8d"
      }
     },
     "cd3c81e6082e40d885fcb9b913a86800": {
      "model_module": "@jupyter-widgets/base",
      "model_module_version": "1.2.0",
      "model_name": "LayoutModel",
      "state": {}
     },
     "cda883958cad44c68d728ff990ef1f93": {
      "model_module": "@jupyter-widgets/base",
      "model_module_version": "1.2.0",
      "model_name": "LayoutModel",
      "state": {}
     },
     "cdb602f4ea5b4cc198b6eb809c6b0955": {
      "model_module": "@jupyter-widgets/base",
      "model_module_version": "1.2.0",
      "model_name": "LayoutModel",
      "state": {
       "border": "solid 4px #222",
       "margin": "4px",
       "padding": "0"
      }
     },
     "cdfb45148d684581840761dc97769775": {
      "model_module": "@jupyter-widgets/base",
      "model_module_version": "1.2.0",
      "model_name": "LayoutModel",
      "state": {}
     },
     "ce2ba1bd7d844118b39c6ae6c8a19930": {
      "model_module": "@jupyter-widgets/controls",
      "model_module_version": "1.5.0",
      "model_name": "ButtonStyleModel",
      "state": {}
     },
     "ce388da71192462f9c17d18058b8554c": {
      "model_module": "@jupyter-widgets/controls",
      "model_module_version": "1.5.0",
      "model_name": "DescriptionStyleModel",
      "state": {
       "description_width": ""
      }
     },
     "ce3eafba71af4a388e3253fba2284fea": {
      "model_module": "@jupyter-widgets/controls",
      "model_module_version": "1.5.0",
      "model_name": "DescriptionStyleModel",
      "state": {
       "description_width": ""
      }
     },
     "ce45c77a14eb4569bf277a2e255d2108": {
      "model_module": "@jupyter-widgets/controls",
      "model_module_version": "1.5.0",
      "model_name": "FloatSliderModel",
      "state": {
       "description": "270°",
       "layout": "IPY_MODEL_9ff791b8ae1b42a79b46d1db06df1f19",
       "max": 1,
       "min": -1,
       "step": 0.01,
       "style": "IPY_MODEL_eccfc2793b2c485e844bec3abf75a943"
      }
     },
     "ce51c9796aa248379eb5e054b7413bab": {
      "model_module": "@jupyter-widgets/base",
      "model_module_version": "1.2.0",
      "model_name": "LayoutModel",
      "state": {}
     },
     "ce5f65af81784c12835d5325030a1720": {
      "model_module": "@jupyter-widgets/base",
      "model_module_version": "1.2.0",
      "model_name": "LayoutModel",
      "state": {}
     },
     "ce9e2de1b58a406d943a6cfaa4c23489": {
      "model_module": "@jupyter-widgets/controls",
      "model_module_version": "1.5.0",
      "model_name": "ButtonModel",
      "state": {
       "description": "Reset Saturation Controls",
       "layout": "IPY_MODEL_6d9c180a15bc4fcca7e5df48c53404fc",
       "style": "IPY_MODEL_d34b81c781a946b0ba51bd461a70f795"
      }
     },
     "cebc13dc228d43be94938f12874703f5": {
      "model_module": "@jupyter-widgets/base",
      "model_module_version": "1.2.0",
      "model_name": "LayoutModel",
      "state": {}
     },
     "cee011abc78140cead2bb04e00be80be": {
      "model_module": "@jupyter-widgets/controls",
      "model_module_version": "1.5.0",
      "model_name": "ButtonModel",
      "state": {
       "description": "Reset Hue Controls",
       "layout": "IPY_MODEL_395e8ddf81634df1a4dbd82f6e6a2a1c",
       "style": "IPY_MODEL_db81309461214e199740d884201c9c0f"
      }
     },
     "cf3b6bd2cd90455d9cfed6af1ebb54b2": {
      "model_module": "@jupyter-widgets/controls",
      "model_module_version": "1.5.0",
      "model_name": "FloatSliderModel",
      "state": {
       "description": "0°",
       "layout": "IPY_MODEL_a8cfec0463b543eabfc1de2c7a9e7c77",
       "max": 1,
       "min": -1,
       "step": 0.01,
       "style": "IPY_MODEL_ded49bc791014afaa3519d6cce4b930d"
      }
     },
     "cf4c75bc9d834526ac3fab4a9f847422": {
      "model_module": "@jupyter-widgets/base",
      "model_module_version": "1.2.0",
      "model_name": "LayoutModel",
      "state": {}
     },
     "cf4eb1f5bab24a9f84152256cf6ffef4": {
      "model_module": "@jupyter-widgets/controls",
      "model_module_version": "1.5.0",
      "model_name": "SliderStyleModel",
      "state": {
       "description_width": ""
      }
     },
     "cfab7feb09f84080845e57753e9b255c": {
      "model_module": "@jupyter-widgets/controls",
      "model_module_version": "1.5.0",
      "model_name": "HBoxModel",
      "state": {
       "children": [
        "IPY_MODEL_8d943d8b271f4b4dadf496b7bbb689bb",
        "IPY_MODEL_afb8421fad0943568a7eecc56862d1a8",
        "IPY_MODEL_ea8e04d0b9474b788d84320da60bf502",
        "IPY_MODEL_016b045ae3db4875864e510f288b5ff8",
        "IPY_MODEL_36435c9b8d6040bda11cd95c82757b33"
       ],
       "layout": "IPY_MODEL_dfe56e94bd154526adb7f3a62cba3a33"
      }
     },
     "cfcd2b8464cb4fe28637c9aac7f6c57b": {
      "model_module": "@jupyter-widgets/controls",
      "model_module_version": "1.5.0",
      "model_name": "ButtonModel",
      "state": {
       "description": "Save Figure",
       "layout": "IPY_MODEL_fef49ab47f0346c1a486eec4434acdf7",
       "style": "IPY_MODEL_21a9f3989ed74eb1af1939045cd89641"
      }
     },
     "cfe1d0436a0d485c9d5034dcf5839f67": {
      "model_module": "@jupyter-widgets/controls",
      "model_module_version": "1.5.0",
      "model_name": "HBoxModel",
      "state": {
       "children": [
        "IPY_MODEL_b6d0ffcecaff4aa9a0e484e126a26011",
        "IPY_MODEL_50177c50b0314e1f8da22645a76809c4",
        "IPY_MODEL_fc18a989676e475ead09e9daeca6f08c",
        "IPY_MODEL_36bdfce9380544d584566edc4877608a"
       ],
       "layout": "IPY_MODEL_41fd425a35dc41f9865b7f22ca99ba47"
      }
     },
     "d0b4f413e5904051987f16ae3a8fba7b": {
      "model_module": "@jupyter-widgets/base",
      "model_module_version": "1.2.0",
      "model_name": "LayoutModel",
      "state": {}
     },
     "d0f3448fa5e6478bae0a8ee06bd75f89": {
      "model_module": "@jupyter-widgets/base",
      "model_module_version": "1.2.0",
      "model_name": "LayoutModel",
      "state": {}
     },
     "d123acc11371428bac38d6f51e6091c0": {
      "model_module": "@jupyter-widgets/base",
      "model_module_version": "1.2.0",
      "model_name": "LayoutModel",
      "state": {}
     },
     "d12baef828ab41dbbe16a207c9790844": {
      "model_module": "@jupyter-widgets/controls",
      "model_module_version": "1.5.0",
      "model_name": "HBoxModel",
      "state": {
       "children": [
        "IPY_MODEL_30205a12ff6547f887b34021edf165fc",
        "IPY_MODEL_97509ace579a4f10adb4fae8a91dd45c",
        "IPY_MODEL_42b2d7c97e824d3ebae550cc1956a914",
        "IPY_MODEL_6edaafd762834b4b8aafab76bfb16fca",
        "IPY_MODEL_c83c1e8fe93440409110e55fc5fdef03"
       ],
       "layout": "IPY_MODEL_acd467f5f92d4a46b6f16d4b28b96a38"
      }
     },
     "d16f116c7edb4de5a973e32529f60290": {
      "model_module": "@jupyter-widgets/controls",
      "model_module_version": "1.5.0",
      "model_name": "SliderStyleModel",
      "state": {
       "description_width": ""
      }
     },
     "d18cbf1b873848b19a4d09379bd6b40a": {
      "model_module": "@jupyter-widgets/controls",
      "model_module_version": "1.5.0",
      "model_name": "ButtonModel",
      "state": {
       "description": "Save Figure",
       "layout": "IPY_MODEL_b95d3e9dea1a4e05a6d17e5f7f67a367",
       "style": "IPY_MODEL_db9b2655683c49aa8bc20b1ebd46542d"
      }
     },
     "d20630619da54545b24af220f6041e9d": {
      "model_module": "@jupyter-widgets/base",
      "model_module_version": "1.2.0",
      "model_name": "LayoutModel",
      "state": {}
     },
     "d20f30d70d534e17a53c9d7b9a2c91ae": {
      "model_module": "@jupyter-widgets/controls",
      "model_module_version": "1.5.0",
      "model_name": "ButtonModel",
      "state": {
       "description": "Reset Compression Controls",
       "layout": "IPY_MODEL_0ccbed46f67f4985a5082848fc6b05f5",
       "style": "IPY_MODEL_3fb9b4200ad64adf8389bc42247ef773"
      }
     },
     "d258ca8f24254625a6c0f6f3c4660589": {
      "model_module": "@jupyter-widgets/output",
      "model_module_version": "1.0.0",
      "model_name": "OutputModel",
      "state": {
       "layout": "IPY_MODEL_ec214697cbd245f8b87e1856e989540c",
       "outputs": [
        {
         "data": {
          "application/vnd.jupyter.widget-view+json": {
           "model_id": "9a7fc4df6cdc4bb39e60644dac1dd4ad",
           "version_major": 2,
           "version_minor": 0
          },
          "text/plain": "Canvas(toolbar=Toolbar(toolitems=[('Home', 'Reset original view', 'home', 'home'), ('Back', 'Back to previous …"
         },
         "metadata": {},
         "output_type": "display_data"
        }
       ]
      }
     },
     "d28d4257d3c54256a6a7ed1135dd4f7e": {
      "model_module": "@jupyter-widgets/base",
      "model_module_version": "1.2.0",
      "model_name": "LayoutModel",
      "state": {}
     },
     "d2940cdb5be34315859566b2473b67c5": {
      "model_module": "@jupyter-widgets/controls",
      "model_module_version": "1.5.0",
      "model_name": "FloatSliderModel",
      "state": {
       "description": "270°",
       "layout": "IPY_MODEL_bf2b5122eb48420f95a99c23deeceba4",
       "max": 1,
       "min": -1,
       "step": 0.01,
       "style": "IPY_MODEL_54f2341231a941f5aa224d122b20e269"
      }
     },
     "d2aec9e324df47cdbc5d930e56c30a1f": {
      "model_module": "@jupyter-widgets/controls",
      "model_module_version": "1.5.0",
      "model_name": "SliderStyleModel",
      "state": {
       "description_width": ""
      }
     },
     "d2e0cbe5941740d8b73319849db1ec92": {
      "model_module": "@jupyter-widgets/base",
      "model_module_version": "1.2.0",
      "model_name": "LayoutModel",
      "state": {}
     },
     "d30e38a5f2594fd59484eb975e2dea1e": {
      "model_module": "jupyter-matplotlib",
      "model_module_version": "^0.7.2",
      "model_name": "MPLCanvasModel",
      "state": {
       "_figure_label": "Figure 6",
       "_height": 508,
       "_width": 1100,
       "header_visible": false,
       "layout": "IPY_MODEL_4ce638383e314bca9b089be4d0989235",
       "resizable": false,
       "toolbar": "IPY_MODEL_b477aaaa5fa24d358fc80b3bf9fc8cee",
       "toolbar_position": "left",
       "toolbar_visible": false
      }
     },
     "d34b81c781a946b0ba51bd461a70f795": {
      "model_module": "@jupyter-widgets/controls",
      "model_module_version": "1.5.0",
      "model_name": "ButtonStyleModel",
      "state": {}
     },
     "d35467bbf3ac48a0a4a654af9a4d1ac3": {
      "model_module": "@jupyter-widgets/controls",
      "model_module_version": "1.5.0",
      "model_name": "HBoxModel",
      "state": {
       "children": [
        "IPY_MODEL_cc09daa712154d2eb186566c3122c63a",
        "IPY_MODEL_0a08c500b3c3402ebaf9593b04320701",
        "IPY_MODEL_99651330ea044aa4b92c4ca650acc599",
        "IPY_MODEL_79500282f15f4c03b26db83d0ac34834",
        "IPY_MODEL_81f486d8581c464dab09b9eec9919a85"
       ],
       "layout": "IPY_MODEL_a4b237cf2209406e979947fb0d912914"
      }
     },
     "d3615a31e2e44648935e193b11ee6a0c": {
      "model_module": "@jupyter-widgets/controls",
      "model_module_version": "1.5.0",
      "model_name": "FloatSliderModel",
      "state": {
       "description": "0°",
       "layout": "IPY_MODEL_f2d8cc7af55c4f38810ad0bc8e288de3",
       "max": 1,
       "min": -1,
       "step": 0.01,
       "style": "IPY_MODEL_f14e1d41612646ef8f40cb744226499e"
      }
     },
     "d384e567efc54f589d2f7dfed455d7e3": {
      "model_module": "@jupyter-widgets/controls",
      "model_module_version": "1.5.0",
      "model_name": "FloatSliderModel",
      "state": {
       "description": "225°",
       "layout": "IPY_MODEL_f91a80974b144e7291c0283c01f3e8ce",
       "max": 1,
       "min": -1,
       "step": 0.01,
       "style": "IPY_MODEL_732a361f3fe045c195c2a2a4219e1fc8"
      }
     },
     "d3946dc930814dd88e9d4fa3f40cd503": {
      "model_module": "@jupyter-widgets/controls",
      "model_module_version": "1.5.0",
      "model_name": "FloatSliderModel",
      "state": {
       "description": "315°",
       "layout": "IPY_MODEL_31b77cd9ff454bfc9099da27198a25d1",
       "max": 1,
       "min": -1,
       "step": 0.01,
       "style": "IPY_MODEL_97519f85616e40eea52fe8fa989d6c60"
      }
     },
     "d3ef8cf065ce4e3aa1124e3ccb7450ea": {
      "model_module": "@jupyter-widgets/base",
      "model_module_version": "1.2.0",
      "model_name": "LayoutModel",
      "state": {}
     },
     "d3f3f65f577843a49f3074823ed25ee0": {
      "model_module": "@jupyter-widgets/controls",
      "model_module_version": "1.5.0",
      "model_name": "SliderStyleModel",
      "state": {
       "description_width": ""
      }
     },
     "d46f619101bf47be964b2b6ee4004d23": {
      "model_module": "@jupyter-widgets/base",
      "model_module_version": "1.2.0",
      "model_name": "LayoutModel",
      "state": {}
     },
     "d48dab85c51e4ed09ff3e2986638173d": {
      "model_module": "@jupyter-widgets/controls",
      "model_module_version": "1.5.0",
      "model_name": "ButtonModel",
      "state": {
       "description": "Reset Saturation Controls",
       "layout": "IPY_MODEL_c1d171bb0fab48538e42592e23fce4da",
       "style": "IPY_MODEL_5679e6e70af54766bf13d25fa54d6705"
      }
     },
     "d4a7de4872db4881b7d7696096195c2d": {
      "model_module": "@jupyter-widgets/controls",
      "model_module_version": "1.5.0",
      "model_name": "VBoxModel",
      "state": {
       "children": [
        "IPY_MODEL_7aaec20aadb54f3ca8da3e931597ad6c"
       ],
       "layout": "IPY_MODEL_f32d37c57175432d98e2e5e8f747b434"
      }
     },
     "d4ef79452eee47c0bf39855e374ebcab": {
      "model_module": "@jupyter-widgets/controls",
      "model_module_version": "1.5.0",
      "model_name": "HBoxModel",
      "state": {
       "children": [
        "IPY_MODEL_e2513160e2b04ca39a611580f433250b",
        "IPY_MODEL_5426b0dd92ee4298bba4c17603ef2cd5",
        "IPY_MODEL_cfcd2b8464cb4fe28637c9aac7f6c57b",
        "IPY_MODEL_e6542fecb6204e899308cee9783c9dbd",
        "IPY_MODEL_0a4b729cf71544968606048f8dcda3e7"
       ],
       "layout": "IPY_MODEL_4b87bf0a9ab945eb8e9366054774677e"
      }
     },
     "d501cfdd0a524c358387d557b994c6c2": {
      "model_module": "@jupyter-widgets/controls",
      "model_module_version": "1.5.0",
      "model_name": "VBoxModel",
      "state": {
       "children": [
        "IPY_MODEL_9c020548183d4ea49377bf8d78df4670"
       ],
       "layout": "IPY_MODEL_e6a76022ee2d41a889762c07241d49d4"
      }
     },
     "d53905d31984451ebd4cf9bfc74fab92": {
      "model_module": "@jupyter-widgets/controls",
      "model_module_version": "1.5.0",
      "model_name": "FloatSliderModel",
      "state": {
       "description": "90°",
       "layout": "IPY_MODEL_3e3f04209fc6403aac5bfee1851fd336",
       "max": 1,
       "min": -1,
       "step": 0.01,
       "style": "IPY_MODEL_64f4ea9aeab44b6fb912e3ec795a3d66"
      }
     },
     "d579bfe20dcb4df9a5e5ab0566b79609": {
      "model_module": "@jupyter-widgets/base",
      "model_module_version": "1.2.0",
      "model_name": "LayoutModel",
      "state": {}
     },
     "d59b6b02829a4de1911168cde1b8920e": {
      "model_module": "@jupyter-widgets/controls",
      "model_module_version": "1.5.0",
      "model_name": "ButtonModel",
      "state": {
       "description": "Reset Protected Area",
       "layout": "IPY_MODEL_5ae9d7d0c6c74b3bbd9bdb81928122ce",
       "style": "IPY_MODEL_5227dcc6773f4253af3c767ccfefa4a6"
      }
     },
     "d5a4f9ad18b148c9b5a21db3b7e2b681": {
      "model_module": "@jupyter-widgets/controls",
      "model_module_version": "1.5.0",
      "model_name": "TabModel",
      "state": {
       "_titles": {
        "0": "Global Controls",
        "1": "Compression Controls"
       },
       "children": [
        "IPY_MODEL_55c5fce8e52f48b39f754a1f54d7dde1",
        "IPY_MODEL_bc6eda6eb852427c903b15b21a161ac0"
       ],
       "layout": "IPY_MODEL_4fd6e231dc7f4c09aad4b50332f73440"
      }
     },
     "d5b59111ef6747eda52a11e83080f4d3": {
      "model_module": "@jupyter-widgets/controls",
      "model_module_version": "1.5.0",
      "model_name": "SliderStyleModel",
      "state": {
       "description_width": ""
      }
     },
     "d606b4b6debf4e6cbc2a1517c5870106": {
      "model_module": "@jupyter-widgets/base",
      "model_module_version": "1.2.0",
      "model_name": "LayoutModel",
      "state": {}
     },
     "d60d8c534fc040eb8ad8f17ba771ce23": {
      "model_module": "@jupyter-widgets/controls",
      "model_module_version": "1.5.0",
      "model_name": "ButtonModel",
      "state": {
       "description": "Export Image",
       "layout": "IPY_MODEL_a35f470d07cc47a2af0403153a2abf0c",
       "style": "IPY_MODEL_b40100096c2a429b9bb93a0534e76a4d"
      }
     },
     "d65449e075f34640baaacdbfbffe4e4e": {
      "model_module": "@jupyter-widgets/controls",
      "model_module_version": "1.5.0",
      "model_name": "FloatSliderModel",
      "state": {
       "description": "Exposure",
       "layout": "IPY_MODEL_e09e971ce38b4b328444adf4986243a8",
       "max": 8,
       "min": -8,
       "step": 0.1,
       "style": "IPY_MODEL_8492057e02264a62bdeffafdf6f88b44"
      }
     },
     "d65d47a2a3904fa39c893a62db19df79": {
      "model_module": "@jupyter-widgets/controls",
      "model_module_version": "1.5.0",
      "model_name": "FloatSliderModel",
      "state": {
       "description": "180°",
       "layout": "IPY_MODEL_c97a0b03d8f44adbb446bf965a7e60a1",
       "max": 1,
       "min": -1,
       "step": 0.01,
       "style": "IPY_MODEL_4bf3b5e4238b4c4c8676f8dd90b837e6"
      }
     },
     "d65ed5842aa340a99aad2bf8fb588e48": {
      "model_module": "@jupyter-widgets/base",
      "model_module_version": "1.2.0",
      "model_name": "LayoutModel",
      "state": {
       "border": "solid 4px #222",
       "margin": "4px",
       "padding": "0"
      }
     },
     "d6639b64574c45dabaccb896d6e6e5fa": {
      "model_module": "@jupyter-widgets/base",
      "model_module_version": "1.2.0",
      "model_name": "LayoutModel",
      "state": {}
     },
     "d687b0d3a0bd45f3a788e735c0e42955": {
      "model_module": "@jupyter-widgets/base",
      "model_module_version": "1.2.0",
      "model_name": "LayoutModel",
      "state": {}
     },
     "d6acea72e2554b24ba4864de29efcb38": {
      "model_module": "@jupyter-widgets/controls",
      "model_module_version": "1.5.0",
      "model_name": "SliderStyleModel",
      "state": {
       "description_width": ""
      }
     },
     "d6c58163bd5c4171af5abe80139f3cbb": {
      "model_module": "@jupyter-widgets/controls",
      "model_module_version": "1.5.0",
      "model_name": "TabModel",
      "state": {
       "_titles": {
        "0": "Global Controls",
        "1": "Compression Controls"
       },
       "children": [
        "IPY_MODEL_13cdf7c224134e14a2d29a90f88d744b",
        "IPY_MODEL_b6fe29709c0c4b08ba0a1baf91da8e8c"
       ],
       "layout": "IPY_MODEL_6eebbf73dce54fae88ad7eb482563909"
      }
     },
     "d6e908f9aba64880983c744f4801760c": {
      "model_module": "@jupyter-widgets/controls",
      "model_module_version": "1.5.0",
      "model_name": "ButtonStyleModel",
      "state": {}
     },
     "d78316c0656b41ba8ec0cbb720952ffa": {
      "model_module": "jupyter-matplotlib",
      "model_module_version": "^0.7.2",
      "model_name": "MPLCanvasModel",
      "state": {
       "_figure_label": "Figure 9",
       "_height": 458,
       "_image_mode": "diff",
       "_width": 1099,
       "header_visible": false,
       "layout": "IPY_MODEL_00e8fee2aae54040b7ef32fe49b329b4",
       "resizable": false,
       "toolbar": "IPY_MODEL_0fd05c9fad8c4b46bda0dcd0461b00b5",
       "toolbar_position": "left",
       "toolbar_visible": false
      }
     },
     "d7c135ff1bb845dfb6fce961f79f2e5b": {
      "model_module": "@jupyter-widgets/base",
      "model_module_version": "1.2.0",
      "model_name": "LayoutModel",
      "state": {}
     },
     "d83f1145f7224ec89a8297d9759d04b9": {
      "model_module": "@jupyter-widgets/base",
      "model_module_version": "1.2.0",
      "model_name": "LayoutModel",
      "state": {
       "border": "solid 4px #222",
       "margin": "4px",
       "padding": "0"
      }
     },
     "d8a0b8f8a2fa43d3b701506464b44b35": {
      "model_module": "@jupyter-widgets/controls",
      "model_module_version": "1.5.0",
      "model_name": "ButtonStyleModel",
      "state": {}
     },
     "d8b363a6547f4783b64f4f238a399fde": {
      "model_module": "@jupyter-widgets/controls",
      "model_module_version": "1.5.0",
      "model_name": "FloatSliderModel",
      "state": {
       "description": "135°",
       "layout": "IPY_MODEL_880098fb57f54e418f4714afa71efd1f",
       "max": 1,
       "min": -1,
       "step": 0.01,
       "style": "IPY_MODEL_826e11b9afc3414bbe2d707cf3b0a9a1"
      }
     },
     "d92af0e0697a42f78005d53105e09f32": {
      "model_module": "@jupyter-widgets/base",
      "model_module_version": "1.2.0",
      "model_name": "LayoutModel",
      "state": {}
     },
     "d9c69739c19d44359eb165bf90f3eccb": {
      "model_module": "@jupyter-widgets/base",
      "model_module_version": "1.2.0",
      "model_name": "LayoutModel",
      "state": {}
     },
     "da537eafc748402182074af145fdd892": {
      "model_module": "@jupyter-widgets/controls",
      "model_module_version": "1.5.0",
      "model_name": "ButtonModel",
      "state": {
       "description": "Reset Hue Controls",
       "layout": "IPY_MODEL_b1d526798d0b4357a3341c790bcfc520",
       "style": "IPY_MODEL_ac24e06c586848db9057711f6f1d6c5f"
      }
     },
     "da7a5d72812843de884671c65f0186aa": {
      "model_module": "@jupyter-widgets/controls",
      "model_module_version": "1.5.0",
      "model_name": "VBoxModel",
      "state": {
       "children": [
        "IPY_MODEL_da537eafc748402182074af145fdd892"
       ],
       "layout": "IPY_MODEL_c767565b81224d8c8b8ef7b014dd1a22"
      }
     },
     "dab2e64de74143b48e14431d3ca801a7": {
      "model_module": "@jupyter-widgets/base",
      "model_module_version": "1.2.0",
      "model_name": "LayoutModel",
      "state": {}
     },
     "daffe9b99c064441b680156b04464ed8": {
      "model_module": "@jupyter-widgets/base",
      "model_module_version": "1.2.0",
      "model_name": "LayoutModel",
      "state": {}
     },
     "db079b85ede6414e9154a53c6475151a": {
      "model_module": "@jupyter-widgets/controls",
      "model_module_version": "1.5.0",
      "model_name": "FloatSliderModel",
      "state": {
       "description": "135°",
       "layout": "IPY_MODEL_6462f3c8a8394abe999ea391a76f13e7",
       "max": 1,
       "min": -1,
       "step": 0.01,
       "style": "IPY_MODEL_855518cf793b4670b6f262600769db16"
      }
     },
     "db17c95bfcb64688ab290bd6fbabeb68": {
      "model_module": "@jupyter-widgets/output",
      "model_module_version": "1.0.0",
      "model_name": "OutputModel",
      "state": {
       "layout": "IPY_MODEL_62844da6a48546b48bded80644114d3c",
       "outputs": [
        {
         "data": {
          "application/vnd.jupyter.widget-view+json": {
           "model_id": "91a4a2778e944708bf3a5cf392f9f82d",
           "version_major": 2,
           "version_minor": 0
          },
          "text/plain": "Canvas(toolbar=Toolbar(toolitems=[('Home', 'Reset original view', 'home', 'home'), ('Back', 'Back to previous …"
         },
         "metadata": {},
         "output_type": "display_data"
        }
       ]
      }
     },
     "db81309461214e199740d884201c9c0f": {
      "model_module": "@jupyter-widgets/controls",
      "model_module_version": "1.5.0",
      "model_name": "ButtonStyleModel",
      "state": {}
     },
     "db9b2655683c49aa8bc20b1ebd46542d": {
      "model_module": "@jupyter-widgets/controls",
      "model_module_version": "1.5.0",
      "model_name": "ButtonStyleModel",
      "state": {}
     },
     "db9c6ec62e8c41b4bf7fac53372a2c9d": {
      "model_module": "@jupyter-widgets/controls",
      "model_module_version": "1.5.0",
      "model_name": "ButtonModel",
      "state": {
       "description": "Reset Compression Controls",
       "layout": "IPY_MODEL_d2e0cbe5941740d8b73319849db1ec92",
       "style": "IPY_MODEL_df802ef14d5e41128cbfce5449b42a83"
      }
     },
     "dbb1aea2bbb8476083a1c237f1eae453": {
      "model_module": "@jupyter-widgets/controls",
      "model_module_version": "1.5.0",
      "model_name": "FloatSliderModel",
      "state": {
       "description": "Compression Threshold",
       "layout": "IPY_MODEL_38499e7a50314b3bad8bd947b0c55384",
       "max": 1,
       "step": 0.01,
       "style": "IPY_MODEL_eea47c7d3b204729bf6281cee23f88ff",
       "value": 0.8
      }
     },
     "dbc7cd09084545ef89a15ccf6494a02c": {
      "model_module": "@jupyter-widgets/base",
      "model_module_version": "1.2.0",
      "model_name": "LayoutModel",
      "state": {}
     },
     "dc0ed694e5e14aa3aa8b0148c52ab96c": {
      "model_module": "@jupyter-widgets/controls",
      "model_module_version": "1.5.0",
      "model_name": "DescriptionStyleModel",
      "state": {
       "description_width": ""
      }
     },
     "dc202af9ebe44a9a8e15c50bd05b5ac4": {
      "model_module": "@jupyter-widgets/controls",
      "model_module_version": "1.5.0",
      "model_name": "ButtonStyleModel",
      "state": {}
     },
     "dc97ad15ca3f47f795cf83eb371d8294": {
      "model_module": "@jupyter-widgets/controls",
      "model_module_version": "1.5.0",
      "model_name": "ButtonModel",
      "state": {
       "description": "Save Figure",
       "layout": "IPY_MODEL_df3bb1ce5c8945a09a7de61787fd0a5d",
       "style": "IPY_MODEL_6980a970ffc14c43ba4036ada93f1c78"
      }
     },
     "dcb1c55166d54e2ebce7e741d0ce57ba": {
      "model_module": "@jupyter-widgets/base",
      "model_module_version": "1.2.0",
      "model_name": "LayoutModel",
      "state": {}
     },
     "dcc6cf5aa10647a89f54a51da5670b44": {
      "model_module": "@jupyter-widgets/base",
      "model_module_version": "1.2.0",
      "model_name": "LayoutModel",
      "state": {}
     },
     "dcfca966848340c1a6cb8207ed7ad233": {
      "model_module": "@jupyter-widgets/controls",
      "model_module_version": "1.5.0",
      "model_name": "FloatSliderModel",
      "state": {
       "description": "315°",
       "layout": "IPY_MODEL_8ab1260114ba49908672f1a64775139c",
       "max": 1,
       "min": -1,
       "step": 0.01,
       "style": "IPY_MODEL_1435c0aa21814a82a7e03a7d52dbef86"
      }
     },
     "dd01a3e584324066a30914560bde0db0": {
      "model_module": "@jupyter-widgets/base",
      "model_module_version": "1.2.0",
      "model_name": "LayoutModel",
      "state": {}
     },
     "dd095ed93771456bbe4b2421b674a550": {
      "model_module": "@jupyter-widgets/controls",
      "model_module_version": "1.5.0",
      "model_name": "DescriptionStyleModel",
      "state": {
       "description_width": ""
      }
     },
     "dd1e050a6785487e9babbfeaacb4485c": {
      "model_module": "@jupyter-widgets/controls",
      "model_module_version": "1.5.0",
      "model_name": "SliderStyleModel",
      "state": {
       "description_width": ""
      }
     },
     "dd61aa11c6c6455bb014abe9d38e4153": {
      "model_module": "@jupyter-widgets/base",
      "model_module_version": "1.2.0",
      "model_name": "LayoutModel",
      "state": {}
     },
     "dd75016b3ec74a2b829fe1362506dd9f": {
      "model_module": "@jupyter-widgets/controls",
      "model_module_version": "1.5.0",
      "model_name": "FloatSliderModel",
      "state": {
       "description": "Exposure",
       "layout": "IPY_MODEL_81f2b03a8feb404ca01097808a729da0",
       "max": 8,
       "min": -8,
       "step": 0.1,
       "style": "IPY_MODEL_6b946f6e7e944577b0df3282170040d7"
      }
     },
     "dd84b0dde84d460a843f924b79596d42": {
      "model_module": "@jupyter-widgets/controls",
      "model_module_version": "1.5.0",
      "model_name": "ButtonModel",
      "state": {
       "description": "Export Image",
       "layout": "IPY_MODEL_29338fa20e0949e79929d7290028e7cd",
       "style": "IPY_MODEL_f5b32c11b42b4c08bf5f3737270afcec"
      }
     },
     "dda6715fdd294c708c0c15a0f174d253": {
      "model_module": "@jupyter-widgets/base",
      "model_module_version": "1.2.0",
      "model_name": "LayoutModel",
      "state": {}
     },
     "dda9a2eaaa0a4e359d4c26a51b4cbec9": {
      "model_module": "@jupyter-widgets/controls",
      "model_module_version": "1.5.0",
      "model_name": "HBoxModel",
      "state": {
       "children": [
        "IPY_MODEL_ec18b874d51e475ab5209132fc1b468b",
        "IPY_MODEL_b9019b7abb8a46b78e8de582e7eca856",
        "IPY_MODEL_acf210f9b6034dc88b0a9bb9268e08f0",
        "IPY_MODEL_7879d6e490d747d28d75ea3b533cb8e9",
        "IPY_MODEL_27543a8991c74a9cbfdb225ce68b494a"
       ],
       "layout": "IPY_MODEL_299e299fb1c04f4a95eceff8c12301f7"
      }
     },
     "ddc33f1401ec45489e74f60901b4f2fe": {
      "model_module": "@jupyter-widgets/controls",
      "model_module_version": "1.5.0",
      "model_name": "FloatSliderModel",
      "state": {
       "description": "135°",
       "layout": "IPY_MODEL_992bf140cb9e4d25a362ac56e258e4c6",
       "max": 1,
       "min": -1,
       "step": 0.01,
       "style": "IPY_MODEL_8b116afd806848e496faf9accb512aa8"
      }
     },
     "ddf41e573f1e4fee910f168534cdedf2": {
      "model_module": "@jupyter-widgets/controls",
      "model_module_version": "1.5.0",
      "model_name": "ButtonModel",
      "state": {
       "description": "Export Image",
       "layout": "IPY_MODEL_7bffdf0901f24736ba7c08caa452d99f",
       "style": "IPY_MODEL_f2eb75234ea94e2fb545270d3565b765"
      }
     },
     "de142eac94b84a0c996492317752e5cd": {
      "model_module": "@jupyter-widgets/controls",
      "model_module_version": "1.5.0",
      "model_name": "ButtonStyleModel",
      "state": {}
     },
     "de4571104487419dbea4f78013eb12d2": {
      "model_module": "@jupyter-widgets/base",
      "model_module_version": "1.2.0",
      "model_name": "LayoutModel",
      "state": {
       "border": "solid 4px #222",
       "margin": "4px",
       "padding": "0"
      }
     },
     "de4ba26a40d04515b0524aad0dc27402": {
      "model_module": "jupyter-matplotlib",
      "model_module_version": "^0.7.2",
      "model_name": "MPLCanvasModel",
      "state": {
       "_figure_label": "Figure 24",
       "_height": 550,
       "_width": 1100,
       "header_visible": false,
       "layout": "IPY_MODEL_406bc98a5db246c695474a715bb19d9a",
       "resizable": false,
       "toolbar": "IPY_MODEL_32f08599231b44efb122c90911fe2777",
       "toolbar_position": "left",
       "toolbar_visible": false
      }
     },
     "ded18314492c4fe29c92b2e2a2b7e793": {
      "model_module": "@jupyter-widgets/controls",
      "model_module_version": "1.5.0",
      "model_name": "HBoxModel",
      "state": {
       "children": [
        "IPY_MODEL_b87bee48327f45008eb35f108e24400f",
        "IPY_MODEL_c285bdd884eb426296a6a4e7d3703df7",
        "IPY_MODEL_b10a0ca374564c72a481f2415085ba5b"
       ],
       "layout": "IPY_MODEL_d6639b64574c45dabaccb896d6e6e5fa"
      }
     },
     "ded49bc791014afaa3519d6cce4b930d": {
      "model_module": "@jupyter-widgets/controls",
      "model_module_version": "1.5.0",
      "model_name": "SliderStyleModel",
      "state": {
       "description_width": ""
      }
     },
     "df06ede3574e421d950bd9872a4d9585": {
      "model_module": "@jupyter-widgets/controls",
      "model_module_version": "1.5.0",
      "model_name": "SliderStyleModel",
      "state": {
       "description_width": ""
      }
     },
     "df39a3198d11493d9dabb927e0c2619a": {
      "model_module": "@jupyter-widgets/controls",
      "model_module_version": "1.5.0",
      "model_name": "ButtonModel",
      "state": {
       "description": "Reset Protected Area",
       "layout": "IPY_MODEL_070487e6b50247e282521790bd4e87fb",
       "style": "IPY_MODEL_05ad63e02dbc4b149252b1dc327c83ec"
      }
     },
     "df3bb1ce5c8945a09a7de61787fd0a5d": {
      "model_module": "@jupyter-widgets/base",
      "model_module_version": "1.2.0",
      "model_name": "LayoutModel",
      "state": {}
     },
     "df72509458464281860be11520e4c49b": {
      "model_module": "@jupyter-widgets/base",
      "model_module_version": "1.2.0",
      "model_name": "LayoutModel",
      "state": {}
     },
     "df78e16bd70c4b4e80a94dce5669be73": {
      "model_module": "@jupyter-widgets/controls",
      "model_module_version": "1.5.0",
      "model_name": "BoxModel",
      "state": {
       "children": [
        "IPY_MODEL_5f80b76f28e841c99f13a99b20144744",
        "IPY_MODEL_9788c6c002914cfcba95695f6da8f90b"
       ],
       "layout": "IPY_MODEL_76de7197c2c34139aaabe8826b8529a2"
      }
     },
     "df802ef14d5e41128cbfce5449b42a83": {
      "model_module": "@jupyter-widgets/controls",
      "model_module_version": "1.5.0",
      "model_name": "ButtonStyleModel",
      "state": {}
     },
     "dfc91f6613864f59a694431ad04d11d5": {
      "model_module": "@jupyter-widgets/controls",
      "model_module_version": "1.5.0",
      "model_name": "SliderStyleModel",
      "state": {
       "description_width": ""
      }
     },
     "dfe56e94bd154526adb7f3a62cba3a33": {
      "model_module": "@jupyter-widgets/base",
      "model_module_version": "1.2.0",
      "model_name": "LayoutModel",
      "state": {}
     },
     "dffe60ebbda54badbb1ae4f09a5b59f5": {
      "model_module": "@jupyter-widgets/base",
      "model_module_version": "1.2.0",
      "model_name": "LayoutModel",
      "state": {}
     },
     "e01e8df3a305446dbdcf9e9f3ddbc8e0": {
      "model_module": "@jupyter-widgets/base",
      "model_module_version": "1.2.0",
      "model_name": "LayoutModel",
      "state": {}
     },
     "e040bdc9388740afb267d2765869dfbb": {
      "model_module": "@jupyter-widgets/base",
      "model_module_version": "1.2.0",
      "model_name": "LayoutModel",
      "state": {}
     },
     "e0417d84af2e43458b95a18bc025214a": {
      "model_module": "@jupyter-widgets/controls",
      "model_module_version": "1.5.0",
      "model_name": "SliderStyleModel",
      "state": {
       "description_width": ""
      }
     },
     "e09e971ce38b4b328444adf4986243a8": {
      "model_module": "@jupyter-widgets/base",
      "model_module_version": "1.2.0",
      "model_name": "LayoutModel",
      "state": {}
     },
     "e0a25cd0b7e041f59c2958a516a4e925": {
      "model_module": "@jupyter-widgets/controls",
      "model_module_version": "1.5.0",
      "model_name": "FloatSliderModel",
      "state": {
       "description": "135°",
       "layout": "IPY_MODEL_ac8fa7c31cae408594665be939c69fd3",
       "max": 1,
       "min": -1,
       "step": 0.01,
       "style": "IPY_MODEL_c6e3897751e940678858e5f74fbf93d1"
      }
     },
     "e0a83bc06862438e94122d9fe6123e91": {
      "model_module": "@jupyter-widgets/base",
      "model_module_version": "1.2.0",
      "model_name": "LayoutModel",
      "state": {}
     },
     "e0be7e6693a44bc5b0963cae0d57eb19": {
      "model_module": "@jupyter-widgets/base",
      "model_module_version": "1.2.0",
      "model_name": "LayoutModel",
      "state": {}
     },
     "e0c28230d8374838bf881b5d092bc3ae": {
      "model_module": "@jupyter-widgets/base",
      "model_module_version": "1.2.0",
      "model_name": "LayoutModel",
      "state": {}
     },
     "e0d5fcc1106c477b8eca266c973faf49": {
      "model_module": "@jupyter-widgets/base",
      "model_module_version": "1.2.0",
      "model_name": "LayoutModel",
      "state": {}
     },
     "e0e7c9c5305345379302ed4e8dfdbba9": {
      "model_module": "@jupyter-widgets/base",
      "model_module_version": "1.2.0",
      "model_name": "LayoutModel",
      "state": {}
     },
     "e0efb4d3955e4dcbad9a5b2f79d08ff9": {
      "model_module": "@jupyter-widgets/controls",
      "model_module_version": "1.5.0",
      "model_name": "ButtonStyleModel",
      "state": {}
     },
     "e10a8e210dd64da2b8b9e4fe9d782cac": {
      "model_module": "@jupyter-widgets/controls",
      "model_module_version": "1.5.0",
      "model_name": "ButtonModel",
      "state": {
       "description": "Reset Exposure",
       "layout": "IPY_MODEL_8c9498de41fa412984323aa5d2da879f",
       "style": "IPY_MODEL_7cbd43c6f1974ad1998f15c6f0b19b7a"
      }
     },
     "e10c44dd550b4304955988535666aa21": {
      "model_module": "@jupyter-widgets/base",
      "model_module_version": "1.2.0",
      "model_name": "LayoutModel",
      "state": {}
     },
     "e11c3a87da4d4befafb4e5e9db2854ab": {
      "model_module": "@jupyter-widgets/controls",
      "model_module_version": "1.5.0",
      "model_name": "SliderStyleModel",
      "state": {
       "description_width": ""
      }
     },
     "e1219885126f497791a2e80d07a195c0": {
      "model_module": "@jupyter-widgets/controls",
      "model_module_version": "1.5.0",
      "model_name": "FloatSliderModel",
      "state": {
       "description": "Compression Threshold",
       "layout": "IPY_MODEL_edb7905cc36c4505a350c7ca25d4055c",
       "max": 1,
       "step": 0.01,
       "style": "IPY_MODEL_495bd13a4bc94b60861b951e7bfae87c",
       "value": 0.8
      }
     },
     "e14cf6fa7e424bc0af546e1d2b6c27de": {
      "model_module": "@jupyter-widgets/controls",
      "model_module_version": "1.5.0",
      "model_name": "FloatSliderModel",
      "state": {
       "description": "135°",
       "layout": "IPY_MODEL_47a6fb89c1d740248189c8373c6c09cb",
       "max": 1,
       "min": -1,
       "step": 0.01,
       "style": "IPY_MODEL_4cf6718f2b6b48f98d1ae830797e5203"
      }
     },
     "e176307cff9243c1856dfd1118517a60": {
      "model_module": "@jupyter-widgets/controls",
      "model_module_version": "1.5.0",
      "model_name": "DropdownModel",
      "state": {
       "_options_labels": [
        "tanh",
        "atan",
        "simple"
       ],
       "description": "Compression Function:",
       "index": 0,
       "layout": "IPY_MODEL_218024ed93da47ea97bd75d45c044bd1",
       "style": "IPY_MODEL_7cec21332727481093d4e4f406b49f25"
      }
     },
     "e18ae4473d3540a1b4d37252b4fb46aa": {
      "model_module": "@jupyter-widgets/base",
      "model_module_version": "1.2.0",
      "model_name": "LayoutModel",
      "state": {}
     },
     "e1a347b180de429baa40170ac01095ba": {
      "model_module": "@jupyter-widgets/base",
      "model_module_version": "1.2.0",
      "model_name": "LayoutModel",
      "state": {}
     },
     "e231d06c0e8d4d22b8c66028fb5e25fc": {
      "model_module": "@jupyter-widgets/base",
      "model_module_version": "1.2.0",
      "model_name": "LayoutModel",
      "state": {}
     },
     "e2332f1244b64575ac46983847851b00": {
      "model_module": "@jupyter-widgets/controls",
      "model_module_version": "1.5.0",
      "model_name": "SliderStyleModel",
      "state": {
       "description_width": ""
      }
     },
     "e2513160e2b04ca39a611580f433250b": {
      "model_module": "@jupyter-widgets/controls",
      "model_module_version": "1.5.0",
      "model_name": "CheckboxModel",
      "state": {
       "description": "Disable Medicina",
       "disabled": false,
       "layout": "IPY_MODEL_16f87cf3643e4a3e9036aca11a570828",
       "style": "IPY_MODEL_a00a2ba22ff44ee1b27ee5a0d68f7afb",
       "value": false
      }
     },
     "e25e01557a07453ba768bcf997bd2b41": {
      "model_module": "@jupyter-widgets/controls",
      "model_module_version": "1.5.0",
      "model_name": "ButtonModel",
      "state": {
       "description": "Reset Protected Area",
       "layout": "IPY_MODEL_1bad2f9ab0264bc5bd26f1b01e90869a",
       "style": "IPY_MODEL_c15ceb2fb71a43ea9fbab54cbf10db27"
      }
     },
     "e2b7f94a8b134919b601affc12549d9c": {
      "model_module": "@jupyter-widgets/base",
      "model_module_version": "1.2.0",
      "model_name": "LayoutModel",
      "state": {}
     },
     "e324b95dca6d43d699622020c3ce848d": {
      "model_module": "@jupyter-widgets/controls",
      "model_module_version": "1.5.0",
      "model_name": "ButtonModel",
      "state": {
       "description": "Reset Saturation Controls",
       "layout": "IPY_MODEL_2e480785af4642088b438774efde917f",
       "style": "IPY_MODEL_6167c5e69fb148f0960401b6a6554fb6"
      }
     },
     "e333510c61184628a6c4c08ba3238bc8": {
      "model_module": "@jupyter-widgets/controls",
      "model_module_version": "1.5.0",
      "model_name": "CheckboxModel",
      "state": {
       "description": "Disable Medicina",
       "disabled": false,
       "layout": "IPY_MODEL_ab7e50f9d0a049248531a2ac5a68872d",
       "style": "IPY_MODEL_3b5251bff49a4e54ad520f9e56d71146",
       "value": false
      }
     },
     "e382b2dc33d14be2983f883fc5831475": {
      "model_module": "@jupyter-widgets/controls",
      "model_module_version": "1.5.0",
      "model_name": "FloatSliderModel",
      "state": {
       "description": "270°",
       "layout": "IPY_MODEL_37400ca49d00448b9335ec96bd35e321",
       "max": 1,
       "min": -1,
       "step": 0.01,
       "style": "IPY_MODEL_9f7e9eb9754a45a2872f0b78526a5314"
      }
     },
     "e38c73257a92458287ffeace59d3b3e2": {
      "model_module": "@jupyter-widgets/controls",
      "model_module_version": "1.5.0",
      "model_name": "ButtonModel",
      "state": {
       "description": "Reset Saturation Controls",
       "layout": "IPY_MODEL_aa734e3bf43f444aa78ac56bb114c07d",
       "style": "IPY_MODEL_d6e908f9aba64880983c744f4801760c"
      }
     },
     "e3dccf9b1133464d847306af5b81c5d3": {
      "model_module": "@jupyter-widgets/controls",
      "model_module_version": "1.5.0",
      "model_name": "ButtonStyleModel",
      "state": {}
     },
     "e3e721d680e140b49f3062c93488988f": {
      "model_module": "@jupyter-widgets/base",
      "model_module_version": "1.2.0",
      "model_name": "LayoutModel",
      "state": {}
     },
     "e423646f3fd8485ebbeda9a7af31d4d9": {
      "model_module": "@jupyter-widgets/controls",
      "model_module_version": "1.5.0",
      "model_name": "FloatSliderModel",
      "state": {
       "description": "Exposure",
       "layout": "IPY_MODEL_a25d5a47f70b43fe8927e98726d5e203",
       "max": 8,
       "min": -8,
       "step": 0.1,
       "style": "IPY_MODEL_b41b4851499b46ecb95c3266afb88c8e"
      }
     },
     "e49cf614b21f41429f67a4f20f84a00e": {
      "model_module": "@jupyter-widgets/controls",
      "model_module_version": "1.5.0",
      "model_name": "SliderStyleModel",
      "state": {
       "description_width": ""
      }
     },
     "e4c170b42c764211863010e076959812": {
      "model_module": "@jupyter-widgets/controls",
      "model_module_version": "1.5.0",
      "model_name": "DropdownModel",
      "state": {
       "_options_labels": [
        "tanh",
        "atan",
        "simple"
       ],
       "description": "Compression Function:",
       "index": 0,
       "layout": "IPY_MODEL_ea137210ed2b413baa63fad7f89c5d8f",
       "style": "IPY_MODEL_147fc6470607422480c90cb2e1e70cb4"
      }
     },
     "e4c7f728c6e64c6cad2d154d03c3d3a8": {
      "model_module": "@jupyter-widgets/controls",
      "model_module_version": "1.5.0",
      "model_name": "FloatSliderModel",
      "state": {
       "description": "315°",
       "layout": "IPY_MODEL_ce5f65af81784c12835d5325030a1720",
       "max": 1,
       "min": -1,
       "step": 0.01,
       "style": "IPY_MODEL_aec26bbb6dfc44d58009647859e895f6"
      }
     },
     "e4fa67ad9fbc4bcf85fe3aaa856fe850": {
      "model_module": "@jupyter-widgets/controls",
      "model_module_version": "1.5.0",
      "model_name": "SliderStyleModel",
      "state": {
       "description_width": ""
      }
     },
     "e5415bc9d63142ee88475db62b7f3d38": {
      "model_module": "@jupyter-widgets/controls",
      "model_module_version": "1.5.0",
      "model_name": "FloatSliderModel",
      "state": {
       "description": "135°",
       "layout": "IPY_MODEL_020f45485b9a4c468156889d442c8070",
       "max": 1,
       "min": -1,
       "step": 0.01,
       "style": "IPY_MODEL_6f95a070c3c84d328e6f10383c4bc966"
      }
     },
     "e569667e34794897a64a3527a281892d": {
      "model_module": "@jupyter-widgets/controls",
      "model_module_version": "1.5.0",
      "model_name": "FloatSliderModel",
      "state": {
       "description": "Compression Threshold",
       "layout": "IPY_MODEL_9acb1e5bc07c46a3ad99bb0e922c25ff",
       "max": 1,
       "step": 0.01,
       "style": "IPY_MODEL_c56ab5ceba9245d5a6d087c5d90aeddd",
       "value": 0.8
      }
     },
     "e5910cbbe3154d02a4fd759102edfdfe": {
      "model_module": "@jupyter-widgets/base",
      "model_module_version": "1.2.0",
      "model_name": "LayoutModel",
      "state": {}
     },
     "e5946e1114aa499b9fb0b961f6733f40": {
      "model_module": "@jupyter-widgets/controls",
      "model_module_version": "1.5.0",
      "model_name": "VBoxModel",
      "state": {
       "children": [
        "IPY_MODEL_c6c7a043f180403dbbf871a81ca45b44",
        "IPY_MODEL_3a92924db75c4c7b977237353955198a",
        "IPY_MODEL_d384e567efc54f589d2f7dfed455d7e3"
       ],
       "layout": "IPY_MODEL_d606b4b6debf4e6cbc2a1517c5870106"
      }
     },
     "e5b0f733894e433e8ce7c61a575f1eba": {
      "model_module": "@jupyter-widgets/controls",
      "model_module_version": "1.5.0",
      "model_name": "ButtonStyleModel",
      "state": {}
     },
     "e5d2394b6dad43ed85a960e7f0f82941": {
      "model_module": "@jupyter-widgets/controls",
      "model_module_version": "1.5.0",
      "model_name": "FloatSliderModel",
      "state": {
       "description": "270°",
       "layout": "IPY_MODEL_7eea485b256c470eaaccf6c776458f6e",
       "max": 1,
       "min": -1,
       "step": 0.01,
       "style": "IPY_MODEL_f4e96c4ec86b461ab1099c8c85e128c8"
      }
     },
     "e5dc3f4bac10430c986399451a4a8292": {
      "model_module": "@jupyter-widgets/controls",
      "model_module_version": "1.5.0",
      "model_name": "ButtonModel",
      "state": {
       "description": "Reset Hue Controls",
       "layout": "IPY_MODEL_26246996cc214769bb31a1f30bf50d62",
       "style": "IPY_MODEL_adf5fdcd8edc4742905436232ae89ccf"
      }
     },
     "e62a2ea31c2d49ecacaec9be33296a4c": {
      "model_module": "@jupyter-widgets/controls",
      "model_module_version": "1.5.0",
      "model_name": "SliderStyleModel",
      "state": {
       "description_width": ""
      }
     },
     "e6542fecb6204e899308cee9783c9dbd": {
      "model_module": "@jupyter-widgets/controls",
      "model_module_version": "1.5.0",
      "model_name": "ButtonModel",
      "state": {
       "description": "Reset Exposure",
       "layout": "IPY_MODEL_4a113012d3f04ae7a896497f8ddb51ed",
       "style": "IPY_MODEL_48a92456481941dea115021d53450980"
      }
     },
     "e656338e3b3c42fe9926a6af8883341e": {
      "model_module": "@jupyter-widgets/base",
      "model_module_version": "1.2.0",
      "model_name": "LayoutModel",
      "state": {}
     },
     "e65ebfe3a29d4e7d82803c651ba65c59": {
      "model_module": "@jupyter-widgets/controls",
      "model_module_version": "1.5.0",
      "model_name": "HBoxModel",
      "state": {
       "children": [
        "IPY_MODEL_597a1721e0f24f0688989a3c4638a6c1",
        "IPY_MODEL_d60d8c534fc040eb8ad8f17ba771ce23",
        "IPY_MODEL_dc97ad15ca3f47f795cf83eb371d8294",
        "IPY_MODEL_e10a8e210dd64da2b8b9e4fe9d782cac",
        "IPY_MODEL_e423646f3fd8485ebbeda9a7af31d4d9"
       ],
       "layout": "IPY_MODEL_921ee72b2f2f4bfc97048343014f6043"
      }
     },
     "e67cf7fb09054680971b3c86171bc6ac": {
      "model_module": "@jupyter-widgets/base",
      "model_module_version": "1.2.0",
      "model_name": "LayoutModel",
      "state": {}
     },
     "e67f4c545ef94d2b8fbb518df7996c7b": {
      "model_module": "@jupyter-widgets/base",
      "model_module_version": "1.2.0",
      "model_name": "LayoutModel",
      "state": {}
     },
     "e68790d7ae7441849280edf772b55e89": {
      "model_module": "@jupyter-widgets/controls",
      "model_module_version": "1.5.0",
      "model_name": "SliderStyleModel",
      "state": {
       "description_width": ""
      }
     },
     "e69c24b87a75409d9a45e16373931dad": {
      "model_module": "@jupyter-widgets/base",
      "model_module_version": "1.2.0",
      "model_name": "LayoutModel",
      "state": {}
     },
     "e6a76022ee2d41a889762c07241d49d4": {
      "model_module": "@jupyter-widgets/base",
      "model_module_version": "1.2.0",
      "model_name": "LayoutModel",
      "state": {}
     },
     "e6ea23db7c2f4498a8ba7be1952b088b": {
      "model_module": "@jupyter-widgets/controls",
      "model_module_version": "1.5.0",
      "model_name": "SliderStyleModel",
      "state": {
       "description_width": ""
      }
     },
     "e78271105d4247efac9662b963a87b2d": {
      "model_module": "@jupyter-widgets/controls",
      "model_module_version": "1.5.0",
      "model_name": "SliderStyleModel",
      "state": {
       "description_width": ""
      }
     },
     "e7e5aa5e0eb547fea98f2018cdb12973": {
      "model_module": "@jupyter-widgets/controls",
      "model_module_version": "1.5.0",
      "model_name": "HBoxModel",
      "state": {
       "children": [
        "IPY_MODEL_db9c6ec62e8c41b4bf7fac53372a2c9d",
        "IPY_MODEL_5cf5395745554458ba750eeba947bbe8",
        "IPY_MODEL_e1219885126f497791a2e80d07a195c0"
       ],
       "layout": "IPY_MODEL_498cb34f68234e9597b45d668ee55043"
      }
     },
     "e7f6a4ef69a146a792c5d4f0defbabda": {
      "model_module": "@jupyter-widgets/base",
      "model_module_version": "1.2.0",
      "model_name": "LayoutModel",
      "state": {}
     },
     "e80b17aca574429c9d627ac89772a68a": {
      "model_module": "@jupyter-widgets/base",
      "model_module_version": "1.2.0",
      "model_name": "LayoutModel",
      "state": {}
     },
     "e80e9db3adaa4e2bb51e5c9cd5cfd41e": {
      "model_module": "@jupyter-widgets/base",
      "model_module_version": "1.2.0",
      "model_name": "LayoutModel",
      "state": {}
     },
     "e82fa8d72ec54870982250a3cb60cb80": {
      "model_module": "@jupyter-widgets/base",
      "model_module_version": "1.2.0",
      "model_name": "LayoutModel",
      "state": {}
     },
     "e87ef36970f34fb5821782298743267a": {
      "model_module": "@jupyter-widgets/controls",
      "model_module_version": "1.5.0",
      "model_name": "CheckboxModel",
      "state": {
       "description": "Disable Medicina",
       "disabled": false,
       "layout": "IPY_MODEL_7c7800b8b76c4b3991cdb9be6f4f1cad",
       "style": "IPY_MODEL_a4d656f37c3c4a669932ec64e18903e8",
       "value": false
      }
     },
     "e8947ae0733e44ceb9fa9b23d6796474": {
      "model_module": "@jupyter-widgets/base",
      "model_module_version": "1.2.0",
      "model_name": "LayoutModel",
      "state": {
       "border": "solid 4px #222",
       "margin": "4px",
       "padding": "0"
      }
     },
     "e8a246d1782d496780744bc36cab5216": {
      "model_module": "@jupyter-widgets/base",
      "model_module_version": "1.2.0",
      "model_name": "LayoutModel",
      "state": {}
     },
     "e8d7540f0ffb492a91c33ecf72d6f130": {
      "model_module": "@jupyter-widgets/base",
      "model_module_version": "1.2.0",
      "model_name": "LayoutModel",
      "state": {}
     },
     "e906df6d36e247149695ef7447b7563f": {
      "model_module": "@jupyter-widgets/base",
      "model_module_version": "1.2.0",
      "model_name": "LayoutModel",
      "state": {}
     },
     "e91347a2c3c54a43b0293a83f95e3fb6": {
      "model_module": "@jupyter-widgets/base",
      "model_module_version": "1.2.0",
      "model_name": "LayoutModel",
      "state": {}
     },
     "e91ead6346ba4e36b6cb5e2ef011d0ab": {
      "model_module": "@jupyter-widgets/controls",
      "model_module_version": "1.5.0",
      "model_name": "SliderStyleModel",
      "state": {
       "description_width": ""
      }
     },
     "e941ab7d87f74cccb3c6681256ef9cfb": {
      "model_module": "@jupyter-widgets/controls",
      "model_module_version": "1.5.0",
      "model_name": "FloatSliderModel",
      "state": {
       "description": "0°",
       "layout": "IPY_MODEL_091d357a781446f6bec1d82eb459e757",
       "max": 1,
       "min": -1,
       "step": 0.01,
       "style": "IPY_MODEL_8ca648c122a2423eb55582ad31b15869"
      }
     },
     "e94f0d10fb384fafa82bc72317e4bb4e": {
      "model_module": "@jupyter-widgets/controls",
      "model_module_version": "1.5.0",
      "model_name": "FloatSliderModel",
      "state": {
       "description": "Exposure",
       "layout": "IPY_MODEL_d20630619da54545b24af220f6041e9d",
       "max": 8,
       "min": -8,
       "step": 0.1,
       "style": "IPY_MODEL_330d2e65bcde4009bf58e522558ae7ec"
      }
     },
     "e963c39ad3c34e71a049ac2324a62e85": {
      "model_module": "@jupyter-widgets/base",
      "model_module_version": "1.2.0",
      "model_name": "LayoutModel",
      "state": {}
     },
     "e972e78095744d3da65f42b69eeaa735": {
      "model_module": "@jupyter-widgets/controls",
      "model_module_version": "1.5.0",
      "model_name": "ButtonStyleModel",
      "state": {}
     },
     "e9e8bcc388fb40c8861128c67428c632": {
      "model_module": "@jupyter-widgets/controls",
      "model_module_version": "1.5.0",
      "model_name": "DescriptionStyleModel",
      "state": {
       "description_width": ""
      }
     },
     "e9ec76146359446b97bb55867f14f061": {
      "model_module": "@jupyter-widgets/controls",
      "model_module_version": "1.5.0",
      "model_name": "DropdownModel",
      "state": {
       "_options_labels": [
        "tanh",
        "atan",
        "simple"
       ],
       "description": "Compression Function:",
       "index": 0,
       "layout": "IPY_MODEL_e963c39ad3c34e71a049ac2324a62e85",
       "style": "IPY_MODEL_aa49f7084f0d46dc845f8ddf2e9a7ab9"
      }
     },
     "ea137210ed2b413baa63fad7f89c5d8f": {
      "model_module": "@jupyter-widgets/base",
      "model_module_version": "1.2.0",
      "model_name": "LayoutModel",
      "state": {}
     },
     "ea3a4176bfa24b4588c1055102c89122": {
      "model_module": "@jupyter-widgets/base",
      "model_module_version": "1.2.0",
      "model_name": "LayoutModel",
      "state": {}
     },
     "ea7f7307528646648ec1db8c51b808c2": {
      "model_module": "@jupyter-widgets/controls",
      "model_module_version": "1.5.0",
      "model_name": "DescriptionStyleModel",
      "state": {
       "description_width": ""
      }
     },
     "ea8319dc7cdc4897a611212b935a0c3f": {
      "model_module": "@jupyter-widgets/base",
      "model_module_version": "1.2.0",
      "model_name": "LayoutModel",
      "state": {}
     },
     "ea8771b874a04325b7bc69aa5376e3a2": {
      "model_module": "@jupyter-widgets/controls",
      "model_module_version": "1.5.0",
      "model_name": "FloatSliderModel",
      "state": {
       "description": "225°",
       "layout": "IPY_MODEL_8d583110445a40c6af6bf85f43fe9c51",
       "max": 1,
       "min": -1,
       "step": 0.01,
       "style": "IPY_MODEL_88951f4ff3564678992cb8a9609c1aa6"
      }
     },
     "ea8e04d0b9474b788d84320da60bf502": {
      "model_module": "@jupyter-widgets/controls",
      "model_module_version": "1.5.0",
      "model_name": "ButtonModel",
      "state": {
       "description": "Save Figure",
       "layout": "IPY_MODEL_2a47542fe66c4fd3a5ec28d282e5c0a2",
       "style": "IPY_MODEL_73bd69e235214244b52f8add06e27f59"
      }
     },
     "eaba6780e8914eaf8f7dad7f2a0d4070": {
      "model_module": "@jupyter-widgets/base",
      "model_module_version": "1.2.0",
      "model_name": "LayoutModel",
      "state": {}
     },
     "eb75bc8e0c284a109a045eac2e87a316": {
      "model_module": "@jupyter-widgets/controls",
      "model_module_version": "1.5.0",
      "model_name": "FloatSliderModel",
      "state": {
       "description": "Exposure",
       "layout": "IPY_MODEL_28a7196174f347a293e81e3cc721c6d9",
       "max": 8,
       "min": -8,
       "step": 0.1,
       "style": "IPY_MODEL_fa1d1bfc0e754a64a9757a3c6e760217"
      }
     },
     "ebd5c50a58bb428889be508dfadb2aad": {
      "model_module": "@jupyter-widgets/controls",
      "model_module_version": "1.5.0",
      "model_name": "ButtonStyleModel",
      "state": {}
     },
     "ec18b874d51e475ab5209132fc1b468b": {
      "model_module": "@jupyter-widgets/controls",
      "model_module_version": "1.5.0",
      "model_name": "CheckboxModel",
      "state": {
       "description": "Disable Medicina",
       "disabled": false,
       "layout": "IPY_MODEL_48671a49759b41e4841e4ba74560dcfa",
       "style": "IPY_MODEL_c69cc32ccafe48268f4be92ff7e2d0d1",
       "value": false
      }
     },
     "ec214697cbd245f8b87e1856e989540c": {
      "model_module": "@jupyter-widgets/base",
      "model_module_version": "1.2.0",
      "model_name": "LayoutModel",
      "state": {
       "border": "solid 4px #222",
       "margin": "4px",
       "padding": "0"
      }
     },
     "ec7d0b0111274a31b86c13a1b45f5030": {
      "model_module": "@jupyter-widgets/controls",
      "model_module_version": "1.5.0",
      "model_name": "FloatSliderModel",
      "state": {
       "description": "270°",
       "layout": "IPY_MODEL_afdf819bc18e44e39645937175ba089c",
       "max": 1,
       "min": -1,
       "step": 0.01,
       "style": "IPY_MODEL_e62a2ea31c2d49ecacaec9be33296a4c"
      }
     },
     "ec805063483c4bf69e53cdb3538df015": {
      "model_module": "@jupyter-widgets/controls",
      "model_module_version": "1.5.0",
      "model_name": "HBoxModel",
      "state": {
       "children": [
        "IPY_MODEL_ad9a51230e83444c9e62040d12df2985",
        "IPY_MODEL_bab022956657449e992e2d8492591a02",
        "IPY_MODEL_b37500edb54d4bb895068bcbf0f6e7ce",
        "IPY_MODEL_4dd27fe400db4b37bcd012e8c0457afb"
       ],
       "layout": "IPY_MODEL_518330594ae1474db9c1a5b223bfe400"
      }
     },
     "eccfc2793b2c485e844bec3abf75a943": {
      "model_module": "@jupyter-widgets/controls",
      "model_module_version": "1.5.0",
      "model_name": "SliderStyleModel",
      "state": {
       "description_width": ""
      }
     },
     "ed225e15c3b54e38ba7ad1daf060a86b": {
      "model_module": "@jupyter-widgets/controls",
      "model_module_version": "1.5.0",
      "model_name": "DescriptionStyleModel",
      "state": {
       "description_width": ""
      }
     },
     "edb7905cc36c4505a350c7ca25d4055c": {
      "model_module": "@jupyter-widgets/base",
      "model_module_version": "1.2.0",
      "model_name": "LayoutModel",
      "state": {}
     },
     "ee0c9008510049c4881cfa8e0630c372": {
      "model_module": "@jupyter-widgets/controls",
      "model_module_version": "1.5.0",
      "model_name": "SliderStyleModel",
      "state": {
       "description_width": ""
      }
     },
     "ee3e54f4bd894cd0a20cac7ba14e7ee3": {
      "model_module": "@jupyter-widgets/base",
      "model_module_version": "1.2.0",
      "model_name": "LayoutModel",
      "state": {}
     },
     "ee4428e9d79c48ca9b29ceca6e57dbfd": {
      "model_module": "@jupyter-widgets/base",
      "model_module_version": "1.2.0",
      "model_name": "LayoutModel",
      "state": {}
     },
     "ee969ecafb5a4057bad240c27c07beed": {
      "model_module": "@jupyter-widgets/controls",
      "model_module_version": "1.5.0",
      "model_name": "DescriptionStyleModel",
      "state": {
       "description_width": ""
      }
     },
     "eea47c7d3b204729bf6281cee23f88ff": {
      "model_module": "@jupyter-widgets/controls",
      "model_module_version": "1.5.0",
      "model_name": "SliderStyleModel",
      "state": {
       "description_width": ""
      }
     },
     "eebd996db6a24278836f197b2f6e1c42": {
      "model_module": "@jupyter-widgets/base",
      "model_module_version": "1.2.0",
      "model_name": "LayoutModel",
      "state": {
       "border": "solid 4px #222",
       "margin": "4px",
       "padding": "0"
      }
     },
     "eefc5270a24f4523966da739b3f3cfee": {
      "model_module": "@jupyter-widgets/base",
      "model_module_version": "1.2.0",
      "model_name": "LayoutModel",
      "state": {}
     },
     "ef23cde4ab554e25b48dcd2d0e29b88c": {
      "model_module": "@jupyter-widgets/controls",
      "model_module_version": "1.5.0",
      "model_name": "ButtonModel",
      "state": {
       "description": "Save Figure",
       "layout": "IPY_MODEL_8cc8ad6fde6f41fb99699d4b7c1700c1",
       "style": "IPY_MODEL_38595eb1ae314788981cd87d039d4fcf"
      }
     },
     "ef2a9fd5f4a84951836472d884c2a386": {
      "model_module": "@jupyter-widgets/controls",
      "model_module_version": "1.5.0",
      "model_name": "ButtonStyleModel",
      "state": {}
     },
     "ef7bb26043c2446e82387fc69fdcd4de": {
      "model_module": "@jupyter-widgets/base",
      "model_module_version": "1.2.0",
      "model_name": "LayoutModel",
      "state": {}
     },
     "efc43123de6d44adbb1f1cfd939532ce": {
      "model_module": "@jupyter-widgets/base",
      "model_module_version": "1.2.0",
      "model_name": "LayoutModel",
      "state": {
       "border": "solid 4px #222",
       "margin": "4px",
       "padding": "0"
      }
     },
     "efe7bf2822c842e4b37a31a1bdbbe4e0": {
      "model_module": "@jupyter-widgets/controls",
      "model_module_version": "1.5.0",
      "model_name": "ButtonModel",
      "state": {
       "description": "Reset Exposure",
       "layout": "IPY_MODEL_77408a3382144483a02eb530719136dd",
       "style": "IPY_MODEL_a13fa0bf0a22475f9e8d1e9e66582560"
      }
     },
     "efe9d30eb7174611a9250d508e189376": {
      "model_module": "@jupyter-widgets/controls",
      "model_module_version": "1.5.0",
      "model_name": "FloatSliderModel",
      "state": {
       "description": "270°",
       "layout": "IPY_MODEL_2902015c8d664016a162723a585d10ad",
       "max": 1,
       "min": -1,
       "step": 0.01,
       "style": "IPY_MODEL_c3df8f7529d040f4ae5c7f44f58f3255"
      }
     },
     "f0b3354d6ec94e788775ab8d2a7e65df": {
      "model_module": "@jupyter-widgets/controls",
      "model_module_version": "1.5.0",
      "model_name": "FloatSliderModel",
      "state": {
       "description": "45°",
       "layout": "IPY_MODEL_3e9b8e68e70848d78f9a885abd06cdf7",
       "max": 1,
       "min": -1,
       "step": 0.01,
       "style": "IPY_MODEL_af3f73ee78074a148bed38a4b24adcd5"
      }
     },
     "f0b741fb36d84b3ea837db2e0648a500": {
      "model_module": "@jupyter-widgets/base",
      "model_module_version": "1.2.0",
      "model_name": "LayoutModel",
      "state": {}
     },
     "f14e1d41612646ef8f40cb744226499e": {
      "model_module": "@jupyter-widgets/controls",
      "model_module_version": "1.5.0",
      "model_name": "SliderStyleModel",
      "state": {
       "description_width": ""
      }
     },
     "f1a14b3d77c945bcbd268179791d9803": {
      "model_module": "@jupyter-widgets/controls",
      "model_module_version": "1.5.0",
      "model_name": "SliderStyleModel",
      "state": {
       "description_width": ""
      }
     },
     "f1b701ea1a384161964a2c8c06734312": {
      "model_module": "@jupyter-widgets/base",
      "model_module_version": "1.2.0",
      "model_name": "LayoutModel",
      "state": {}
     },
     "f25ffcb14bb0477d97ab1f26434a3717": {
      "model_module": "@jupyter-widgets/base",
      "model_module_version": "1.2.0",
      "model_name": "LayoutModel",
      "state": {}
     },
     "f2796633d98e4050b6f9a267e37e1853": {
      "model_module": "@jupyter-widgets/base",
      "model_module_version": "1.2.0",
      "model_name": "LayoutModel",
      "state": {}
     },
     "f29586085bc44f67a8d79a72a0e3de5b": {
      "model_module": "@jupyter-widgets/base",
      "model_module_version": "1.2.0",
      "model_name": "LayoutModel",
      "state": {}
     },
     "f2d8cc7af55c4f38810ad0bc8e288de3": {
      "model_module": "@jupyter-widgets/base",
      "model_module_version": "1.2.0",
      "model_name": "LayoutModel",
      "state": {}
     },
     "f2daddddf75c4aa7bf5eae91c50f86bb": {
      "model_module": "@jupyter-widgets/base",
      "model_module_version": "1.2.0",
      "model_name": "LayoutModel",
      "state": {}
     },
     "f2de5fbfa64c4099bb6d64ffd1704881": {
      "model_module": "@jupyter-widgets/base",
      "model_module_version": "1.2.0",
      "model_name": "LayoutModel",
      "state": {}
     },
     "f2eb75234ea94e2fb545270d3565b765": {
      "model_module": "@jupyter-widgets/controls",
      "model_module_version": "1.5.0",
      "model_name": "ButtonStyleModel",
      "state": {}
     },
     "f32d37c57175432d98e2e5e8f747b434": {
      "model_module": "@jupyter-widgets/base",
      "model_module_version": "1.2.0",
      "model_name": "LayoutModel",
      "state": {}
     },
     "f331aff8d8e5400abff553dfbe19f60a": {
      "model_module": "@jupyter-widgets/controls",
      "model_module_version": "1.5.0",
      "model_name": "FloatSliderModel",
      "state": {
       "description": "135°",
       "layout": "IPY_MODEL_c190d59a6fda4feeb6a1c972ded40b37",
       "max": 1,
       "min": -1,
       "step": 0.01,
       "style": "IPY_MODEL_cc22e152537b42e8a967987930963340"
      }
     },
     "f3892f433fec4c11bc07200cecdbd58d": {
      "model_module": "@jupyter-widgets/controls",
      "model_module_version": "1.5.0",
      "model_name": "ButtonStyleModel",
      "state": {}
     },
     "f407851a24c44d2ca675d0de4f51ef12": {
      "model_module": "@jupyter-widgets/controls",
      "model_module_version": "1.5.0",
      "model_name": "FloatSliderModel",
      "state": {
       "description": "Compression Threshold",
       "layout": "IPY_MODEL_ada4c1615683408eba595db8cb698727",
       "max": 1,
       "step": 0.01,
       "style": "IPY_MODEL_5ab317e247b74097babaf37650b8c40f",
       "value": 0.8
      }
     },
     "f41c2d5ad8d641dcb64f8b1a4c9106d3": {
      "model_module": "@jupyter-widgets/controls",
      "model_module_version": "1.5.0",
      "model_name": "CheckboxModel",
      "state": {
       "description": "Disable Medicina",
       "disabled": false,
       "layout": "IPY_MODEL_8dbfd5d7e3cd4f7db2a9151c9837d2a3",
       "style": "IPY_MODEL_c0b9aeb610ca432bbb293f7f0724abb3",
       "value": false
      }
     },
     "f431bb7b906441259373368f13da9b42": {
      "model_module": "@jupyter-widgets/base",
      "model_module_version": "1.2.0",
      "model_name": "LayoutModel",
      "state": {}
     },
     "f4671ea71a7b497a927983d9bf7650df": {
      "model_module": "@jupyter-widgets/controls",
      "model_module_version": "1.5.0",
      "model_name": "FloatSliderModel",
      "state": {
       "description": "90°",
       "layout": "IPY_MODEL_fcd13131ac594d4a83de849100f77100",
       "max": 1,
       "min": -1,
       "step": 0.01,
       "style": "IPY_MODEL_864c66cf1faf4d88aef420295a3ea78a"
      }
     },
     "f4e96c4ec86b461ab1099c8c85e128c8": {
      "model_module": "@jupyter-widgets/controls",
      "model_module_version": "1.5.0",
      "model_name": "SliderStyleModel",
      "state": {
       "description_width": ""
      }
     },
     "f4ead426aee444cc9527a4456c549a99": {
      "model_module": "@jupyter-widgets/controls",
      "model_module_version": "1.5.0",
      "model_name": "SliderStyleModel",
      "state": {
       "description_width": ""
      }
     },
     "f4fc17df28b343e6843d5bdb80deea9c": {
      "model_module": "@jupyter-widgets/base",
      "model_module_version": "1.2.0",
      "model_name": "LayoutModel",
      "state": {}
     },
     "f56c871500e44e159dc8eeb58e17b3fd": {
      "model_module": "@jupyter-widgets/controls",
      "model_module_version": "1.5.0",
      "model_name": "VBoxModel",
      "state": {
       "children": [
        "IPY_MODEL_5c72a1a3e5f54efd9dd820a568758235",
        "IPY_MODEL_92c6d45d9bdb411795b06abab8a1b80f",
        "IPY_MODEL_9e0b60c9d12c4e588dda2833d3d0712a"
       ],
       "layout": "IPY_MODEL_7ce9dced2dea4ab2af215fd61813876b"
      }
     },
     "f59c55582fb446ed82d9ea7b68f5427d": {
      "model_module": "@jupyter-widgets/base",
      "model_module_version": "1.2.0",
      "model_name": "LayoutModel",
      "state": {}
     },
     "f5ac0691391549c58cd4baa8e71ed2af": {
      "model_module": "@jupyter-widgets/base",
      "model_module_version": "1.2.0",
      "model_name": "LayoutModel",
      "state": {}
     },
     "f5b32c11b42b4c08bf5f3737270afcec": {
      "model_module": "@jupyter-widgets/controls",
      "model_module_version": "1.5.0",
      "model_name": "ButtonStyleModel",
      "state": {}
     },
     "f6a6db27876f4ef28e9704a7f6d01f99": {
      "model_module": "@jupyter-widgets/controls",
      "model_module_version": "1.5.0",
      "model_name": "BoxModel",
      "state": {
       "children": [
        "IPY_MODEL_562e7e806a2c4bb4ac7e9e2a2c5970a9",
        "IPY_MODEL_9d172e1aa7524480bd286fd7fe365c6d"
       ],
       "layout": "IPY_MODEL_c84588e6225745728fe19841f5c8157c"
      }
     },
     "f6cb6997d4b646208d2e3c01d2f0c516": {
      "model_module": "@jupyter-widgets/controls",
      "model_module_version": "1.5.0",
      "model_name": "DescriptionStyleModel",
      "state": {
       "description_width": ""
      }
     },
     "f72beae2aed447bb85d7ee42fb94505b": {
      "model_module": "@jupyter-widgets/controls",
      "model_module_version": "1.5.0",
      "model_name": "SliderStyleModel",
      "state": {
       "description_width": ""
      }
     },
     "f72edda36502495a9efff5b4c17b2001": {
      "model_module": "@jupyter-widgets/controls",
      "model_module_version": "1.5.0",
      "model_name": "SliderStyleModel",
      "state": {
       "description_width": ""
      }
     },
     "f7541c8095f448489afad9cd76049de2": {
      "model_module": "@jupyter-widgets/controls",
      "model_module_version": "1.5.0",
      "model_name": "BoxModel",
      "state": {
       "children": [
        "IPY_MODEL_3ccfbda046754f6dac95eba970dfecf3",
        "IPY_MODEL_5b633a53bc9344dcbb2d440d16325316"
       ],
       "layout": "IPY_MODEL_21c717b941754f7585c29a6a8b2c3333"
      }
     },
     "f76a6a1412584e3e9f6b08e30d4bb791": {
      "model_module": "@jupyter-widgets/controls",
      "model_module_version": "1.5.0",
      "model_name": "ButtonStyleModel",
      "state": {}
     },
     "f7a4aed8f6814136ab7957e5f22499de": {
      "model_module": "@jupyter-widgets/controls",
      "model_module_version": "1.5.0",
      "model_name": "ButtonStyleModel",
      "state": {}
     },
     "f7a88515819a4ecdada6802eb0d44351": {
      "model_module": "@jupyter-widgets/base",
      "model_module_version": "1.2.0",
      "model_name": "LayoutModel",
      "state": {}
     },
     "f7c430cb67974d48829f02cebcbd2285": {
      "model_module": "@jupyter-widgets/controls",
      "model_module_version": "1.5.0",
      "model_name": "ButtonModel",
      "state": {
       "description": "Export Image",
       "layout": "IPY_MODEL_797cb1d879714c24a8b9037ff658dfa0",
       "style": "IPY_MODEL_de142eac94b84a0c996492317752e5cd"
      }
     },
     "f813b53a3006456cb3707690bc3bde70": {
      "model_module": "@jupyter-widgets/controls",
      "model_module_version": "1.5.0",
      "model_name": "TabModel",
      "state": {
       "_titles": {
        "0": "Global Controls",
        "1": "Compression Controls"
       },
       "children": [
        "IPY_MODEL_0e7afe1d37364ff8ae1f85d33768856b",
        "IPY_MODEL_ded18314492c4fe29c92b2e2a2b7e793"
       ],
       "layout": "IPY_MODEL_3fd8b1ceb33945319901e94c6969e7e0"
      }
     },
     "f857480b38094a6894f00b74bd0712e3": {
      "model_module": "@jupyter-widgets/controls",
      "model_module_version": "1.5.0",
      "model_name": "TabModel",
      "state": {
       "_titles": {
        "0": "Global Controls",
        "1": "Protected Area Controls",
        "2": "Saturation Controls",
        "3": "Hue Controls"
       },
       "children": [
        "IPY_MODEL_36026e5e4af64bf39470ea2f8d833e5d",
        "IPY_MODEL_c87f1faeeeb74a9d90eaa77fd030ebff",
        "IPY_MODEL_92c0dc843f874eee84c2de9def05b11e",
        "IPY_MODEL_229e7f62159346ceab702d5a33a16326"
       ],
       "layout": "IPY_MODEL_d83f1145f7224ec89a8297d9759d04b9"
      }
     },
     "f859b546bb824f00a4417fa77ae6ad87": {
      "model_module": "@jupyter-widgets/controls",
      "model_module_version": "1.5.0",
      "model_name": "ButtonModel",
      "state": {
       "description": "Save Figure",
       "layout": "IPY_MODEL_95121992c28340c7bfafd8ffb2bb66bb",
       "style": "IPY_MODEL_9dc4a52a5cd6463490b623e0ab96a68a"
      }
     },
     "f8d3aa7ba4614b4cb2eeebb9c9d4e6dd": {
      "model_module": "@jupyter-widgets/controls",
      "model_module_version": "1.5.0",
      "model_name": "TabModel",
      "state": {
       "_titles": {
        "0": "Global Controls"
       },
       "children": [
        "IPY_MODEL_02ec5119c8f0412e92a59efd35a53895"
       ],
       "layout": "IPY_MODEL_efc43123de6d44adbb1f1cfd939532ce"
      }
     },
     "f8e06bec0d244d00941eca771d7e01bd": {
      "model_module": "@jupyter-widgets/controls",
      "model_module_version": "1.5.0",
      "model_name": "BoxModel",
      "state": {
       "children": [
        "IPY_MODEL_59ad6e431f914b159b5c30de39bbedcd",
        "IPY_MODEL_72e9f735556e4da58f5f6830601bf709"
       ],
       "layout": "IPY_MODEL_0cd04cb1920545aebc9d6c19b009ef19"
      }
     },
     "f909012057954c88b0b93475c086b96b": {
      "model_module": "@jupyter-widgets/controls",
      "model_module_version": "1.5.0",
      "model_name": "ButtonStyleModel",
      "state": {}
     },
     "f9175e4ee79c459e8032e2457f01ee6a": {
      "model_module": "@jupyter-widgets/controls",
      "model_module_version": "1.5.0",
      "model_name": "CheckboxModel",
      "state": {
       "description": "Disable Medicina",
       "disabled": false,
       "layout": "IPY_MODEL_ffa6d0843eb645fa81d93fbe517731b1",
       "style": "IPY_MODEL_b7a9ec94736a4d909bfb5ba53d5dffd7",
       "value": false
      }
     },
     "f91a80974b144e7291c0283c01f3e8ce": {
      "model_module": "@jupyter-widgets/base",
      "model_module_version": "1.2.0",
      "model_name": "LayoutModel",
      "state": {}
     },
     "f976c30090184eccb663a361ce4de380": {
      "model_module": "@jupyter-widgets/controls",
      "model_module_version": "1.5.0",
      "model_name": "FloatSliderModel",
      "state": {
       "description": "180°",
       "layout": "IPY_MODEL_59311c51c3dd4d96a0b832dbfbf047bd",
       "max": 1,
       "min": -1,
       "step": 0.01,
       "style": "IPY_MODEL_071ed1e28e5d45f588054e1c6fc09540"
      }
     },
     "f9b26c2c21f143bca4defbd080639fd8": {
      "model_module": "@jupyter-widgets/controls",
      "model_module_version": "1.5.0",
      "model_name": "FloatSliderModel",
      "state": {
       "description": "Protected Area Threshold",
       "layout": "IPY_MODEL_c05cd64da5c249dd8f7a0d4d30bcd43d",
       "max": 1,
       "step": 0.01,
       "style": "IPY_MODEL_aeec6b1c4e2948ccbb2913d971560aff",
       "value": 0.7
      }
     },
     "f9dfae85ff86469e9624356c89f61c06": {
      "model_module": "@jupyter-widgets/controls",
      "model_module_version": "1.5.0",
      "model_name": "CheckboxModel",
      "state": {
       "description": "Disable Medicina",
       "disabled": false,
       "layout": "IPY_MODEL_47752217d98f40d892853dad07dea301",
       "style": "IPY_MODEL_e9e8bcc388fb40c8861128c67428c632",
       "value": false
      }
     },
     "f9ed2aee6b1e4f098c15659238bc1c96": {
      "model_module": "@jupyter-widgets/controls",
      "model_module_version": "1.5.0",
      "model_name": "SliderStyleModel",
      "state": {
       "description_width": ""
      }
     },
     "fa1d1bfc0e754a64a9757a3c6e760217": {
      "model_module": "@jupyter-widgets/controls",
      "model_module_version": "1.5.0",
      "model_name": "SliderStyleModel",
      "state": {
       "description_width": ""
      }
     },
     "fa3db770b03949dabe45a8aef77d7ad5": {
      "model_module": "@jupyter-widgets/controls",
      "model_module_version": "1.5.0",
      "model_name": "FloatSliderModel",
      "state": {
       "description": "90°",
       "layout": "IPY_MODEL_c230cdf9a1764808905489729e39b4fe",
       "max": 1,
       "min": -1,
       "step": 0.01,
       "style": "IPY_MODEL_9696b7d2d25c4fb099653ca4399fef95"
      }
     },
     "fa98b6872a1342a6ba3d903b9600ff5d": {
      "model_module": "@jupyter-widgets/controls",
      "model_module_version": "1.5.0",
      "model_name": "FloatSliderModel",
      "state": {
       "description": "225°",
       "layout": "IPY_MODEL_c3e896102d3249aaaff15497fe7bc517",
       "max": 1,
       "min": -1,
       "step": 0.01,
       "style": "IPY_MODEL_74e52357807d4cfda3c3262686bcaadc"
      }
     },
     "fab9b917aeaa460d9c1f85639d8ad2ae": {
      "model_module": "@jupyter-widgets/controls",
      "model_module_version": "1.5.0",
      "model_name": "FloatSliderModel",
      "state": {
       "description": "Exposure",
       "layout": "IPY_MODEL_f2de5fbfa64c4099bb6d64ffd1704881",
       "max": 8,
       "min": -8,
       "step": 0.1,
       "style": "IPY_MODEL_ee0c9008510049c4881cfa8e0630c372"
      }
     },
     "fb00d82b55c14b56aaf1140932e96716": {
      "model_module": "jupyter-matplotlib",
      "model_module_version": "^0.7.2",
      "model_name": "ToolbarModel",
      "state": {
       "layout": "IPY_MODEL_ea3a4176bfa24b4588c1055102c89122",
       "toolitems": [
        [
         "Home",
         "Reset original view",
         "home",
         "home"
        ],
        [
         "Back",
         "Back to previous view",
         "arrow-left",
         "back"
        ],
        [
         "Forward",
         "Forward to next view",
         "arrow-right",
         "forward"
        ],
        [
         "Pan",
         "Pan axes with left mouse, zoom with right",
         "arrows",
         "pan"
        ],
        [
         "Zoom",
         "Zoom to rectangle",
         "square-o",
         "zoom"
        ],
        [
         "Download",
         "Download plot",
         "floppy-o",
         "save_figure"
        ]
       ]
      }
     },
     "fba4dae63254402a8340c08663f98a1a": {
      "model_module": "@jupyter-widgets/controls",
      "model_module_version": "1.5.0",
      "model_name": "FloatSliderModel",
      "state": {
       "description": "180°",
       "layout": "IPY_MODEL_abc8064ca68b4523b324941dc7ad4dca",
       "max": 1,
       "min": -1,
       "step": 0.01,
       "style": "IPY_MODEL_8e309292abf24e5c9ce73e2646823500"
      }
     },
     "fbaaaff2bfad44c9913b0388d6f572d9": {
      "model_module": "@jupyter-widgets/controls",
      "model_module_version": "1.5.0",
      "model_name": "ButtonModel",
      "state": {
       "description": "Export Image",
       "layout": "IPY_MODEL_085a39e8c6024fbab09b47723e67842b",
       "style": "IPY_MODEL_89be35fdc68c403eb2fdfc745c6807cd"
      }
     },
     "fc18a989676e475ead09e9daeca6f08c": {
      "model_module": "@jupyter-widgets/controls",
      "model_module_version": "1.5.0",
      "model_name": "VBoxModel",
      "state": {
       "children": [
        "IPY_MODEL_e0a25cd0b7e041f59c2958a516a4e925",
        "IPY_MODEL_699a15f7ed4a4cbeb310e491df72f61e",
        "IPY_MODEL_2ba08d631ec046a1bc0ce1aabb42c401"
       ],
       "layout": "IPY_MODEL_3850389fe385483aa6745ef45d42d1c6"
      }
     },
     "fc5b095e851f41768a3f1cc0c1c191e5": {
      "model_module": "@jupyter-widgets/base",
      "model_module_version": "1.2.0",
      "model_name": "LayoutModel",
      "state": {}
     },
     "fc8267df070b44d48624fb4ac8ba4fe8": {
      "model_module": "@jupyter-widgets/controls",
      "model_module_version": "1.5.0",
      "model_name": "ButtonModel",
      "state": {
       "description": "Reset Exposure",
       "layout": "IPY_MODEL_a1550d19cfda4b9889b4edab9fbf4bab",
       "style": "IPY_MODEL_a9271e65524d42ac855d1dee25d7f537"
      }
     },
     "fc866c4b57be4cde8bf6fedf502ee641": {
      "model_module": "jupyter-matplotlib",
      "model_module_version": "^0.7.2",
      "model_name": "ToolbarModel",
      "state": {
       "layout": "IPY_MODEL_e0be7e6693a44bc5b0963cae0d57eb19",
       "toolitems": [
        [
         "Home",
         "Reset original view",
         "home",
         "home"
        ],
        [
         "Back",
         "Back to previous view",
         "arrow-left",
         "back"
        ],
        [
         "Forward",
         "Forward to next view",
         "arrow-right",
         "forward"
        ],
        [
         "Pan",
         "Pan axes with left mouse, zoom with right",
         "arrows",
         "pan"
        ],
        [
         "Zoom",
         "Zoom to rectangle",
         "square-o",
         "zoom"
        ],
        [
         "Download",
         "Download plot",
         "floppy-o",
         "save_figure"
        ]
       ]
      }
     },
     "fc99ad2f177e42609d1fed1cd489aeea": {
      "model_module": "@jupyter-widgets/controls",
      "model_module_version": "1.5.0",
      "model_name": "SliderStyleModel",
      "state": {
       "description_width": ""
      }
     },
     "fcd13131ac594d4a83de849100f77100": {
      "model_module": "@jupyter-widgets/base",
      "model_module_version": "1.2.0",
      "model_name": "LayoutModel",
      "state": {}
     },
     "fcd23bea424a40caa7cb67218e49ed51": {
      "model_module": "@jupyter-widgets/base",
      "model_module_version": "1.2.0",
      "model_name": "LayoutModel",
      "state": {}
     },
     "fcf48f9ade3d46969215d3950ce7cebd": {
      "model_module": "@jupyter-widgets/controls",
      "model_module_version": "1.5.0",
      "model_name": "ButtonStyleModel",
      "state": {}
     },
     "fd023b5398ea4b86aa904e2c8742e54a": {
      "model_module": "@jupyter-widgets/controls",
      "model_module_version": "1.5.0",
      "model_name": "SliderStyleModel",
      "state": {
       "description_width": ""
      }
     },
     "fd058c00d0fb45a8bb55afb225b3653d": {
      "model_module": "@jupyter-widgets/base",
      "model_module_version": "1.2.0",
      "model_name": "LayoutModel",
      "state": {}
     },
     "fd3126d8a64c4489ad7368753a18c132": {
      "model_module": "@jupyter-widgets/base",
      "model_module_version": "1.2.0",
      "model_name": "LayoutModel",
      "state": {
       "align_items": "stretch",
       "display": "flex",
       "flex_flow": "column",
       "width": "1128px"
      }
     },
     "fd4ce85529644ef59de8ab5a9c6282ca": {
      "model_module": "@jupyter-widgets/controls",
      "model_module_version": "1.5.0",
      "model_name": "HBoxModel",
      "state": {
       "children": [
        "IPY_MODEL_c2e285d3596b418faf64f8f4db1f351c",
        "IPY_MODEL_3c3cd61c31f54d6a83e6f8fe1bcc0840"
       ],
       "layout": "IPY_MODEL_fe0d034c03d9482c8d065181172e9dea"
      }
     },
     "fd4fbae9f7c44189ae94ea5986c57b51": {
      "model_module": "@jupyter-widgets/base",
      "model_module_version": "1.2.0",
      "model_name": "LayoutModel",
      "state": {}
     },
     "fd916a26120a407992b6e7a9ce4eee77": {
      "model_module": "@jupyter-widgets/base",
      "model_module_version": "1.2.0",
      "model_name": "LayoutModel",
      "state": {}
     },
     "fd9428c1e48a4b28b2f1c6293f53eb8c": {
      "model_module": "@jupyter-widgets/controls",
      "model_module_version": "1.5.0",
      "model_name": "FloatSliderModel",
      "state": {
       "description": "90°",
       "layout": "IPY_MODEL_d28d4257d3c54256a6a7ed1135dd4f7e",
       "max": 1,
       "min": -1,
       "step": 0.01,
       "style": "IPY_MODEL_af75221180074dcd85b074a3a1848abf"
      }
     },
     "fdba6f34a6a64483a52b598542df0e89": {
      "model_module": "@jupyter-widgets/controls",
      "model_module_version": "1.5.0",
      "model_name": "ButtonModel",
      "state": {
       "description": "Reset Hue Controls",
       "layout": "IPY_MODEL_6b160c6ce285414c83977e1de5b602be",
       "style": "IPY_MODEL_6c027014b97a47aba8f2b931788567ea"
      }
     },
     "fdbf388514f34241abce5622a8a1192a": {
      "model_module": "@jupyter-widgets/controls",
      "model_module_version": "1.5.0",
      "model_name": "BoxModel",
      "state": {
       "children": [
        "IPY_MODEL_4e4f21ef34dd4e789323514641cb4be3",
        "IPY_MODEL_70a752761d7243e591550377ccaad8f2"
       ],
       "layout": "IPY_MODEL_abacb1dc99fd43f6ad5e1fd7859e5265"
      }
     },
     "fdec320c89644d128c10a7e075eb1130": {
      "model_module": "@jupyter-widgets/base",
      "model_module_version": "1.2.0",
      "model_name": "LayoutModel",
      "state": {}
     },
     "fdfa275bc04c4f90a39d48325530f86a": {
      "model_module": "@jupyter-widgets/controls",
      "model_module_version": "1.5.0",
      "model_name": "ButtonModel",
      "state": {
       "description": "Save Figure",
       "layout": "IPY_MODEL_1e96b1553f554ad6bae4207487e87047",
       "style": "IPY_MODEL_38dedb40e08c43bdb518d3d8866d47b0"
      }
     },
     "fe0d034c03d9482c8d065181172e9dea": {
      "model_module": "@jupyter-widgets/base",
      "model_module_version": "1.2.0",
      "model_name": "LayoutModel",
      "state": {}
     },
     "fe6f0b46ff344f64a4fb14c5e1ec0f73": {
      "model_module": "@jupyter-widgets/controls",
      "model_module_version": "1.5.0",
      "model_name": "ButtonStyleModel",
      "state": {}
     },
     "fef0535dfd7d4c38a32d80b65f0efbf5": {
      "model_module": "@jupyter-widgets/base",
      "model_module_version": "1.2.0",
      "model_name": "LayoutModel",
      "state": {}
     },
     "fef49ab47f0346c1a486eec4434acdf7": {
      "model_module": "@jupyter-widgets/base",
      "model_module_version": "1.2.0",
      "model_name": "LayoutModel",
      "state": {}
     },
     "ff2c18ae223a489ba87fbdcfb316f2fb": {
      "model_module": "@jupyter-widgets/base",
      "model_module_version": "1.2.0",
      "model_name": "LayoutModel",
      "state": {}
     },
     "ff2e128cacd34cfa890803478ef4d40b": {
      "model_module": "@jupyter-widgets/base",
      "model_module_version": "1.2.0",
      "model_name": "LayoutModel",
      "state": {}
     },
     "ff43d5e7e5074869854effcc17e16540": {
      "model_module": "@jupyter-widgets/base",
      "model_module_version": "1.2.0",
      "model_name": "LayoutModel",
      "state": {}
     },
     "ff681d571f4f4fa1a2b2382bd01c7758": {
      "model_module": "@jupyter-widgets/controls",
      "model_module_version": "1.5.0",
      "model_name": "HBoxModel",
      "state": {
       "children": [
        "IPY_MODEL_bb02f6df3a8d401690420ede963c1f66",
        "IPY_MODEL_5355079388604c6a8e811809e0c78693"
       ],
       "layout": "IPY_MODEL_abd93f0cb287410cbbf213861c559fc4"
      }
     },
     "ff754b32abc949e090d2adf0fa02cc22": {
      "model_module": "@jupyter-widgets/controls",
      "model_module_version": "1.5.0",
      "model_name": "SliderStyleModel",
      "state": {
       "description_width": ""
      }
     },
     "ffa2ce4aa3314151b7f4bb462170f213": {
      "model_module": "@jupyter-widgets/controls",
      "model_module_version": "1.5.0",
      "model_name": "FloatSliderModel",
      "state": {
       "description": "180°",
       "layout": "IPY_MODEL_00d78db5f91847bba28c8bb8b249268d",
       "max": 1,
       "min": -1,
       "step": 0.01,
       "style": "IPY_MODEL_191fad0b2a1e4d94a5c82dfa65e2962a"
      }
     },
     "ffa6d0843eb645fa81d93fbe517731b1": {
      "model_module": "@jupyter-widgets/base",
      "model_module_version": "1.2.0",
      "model_name": "LayoutModel",
      "state": {}
     },
     "fffb6e6342974ab993653a8a2c73eeb9": {
      "model_module": "@jupyter-widgets/controls",
      "model_module_version": "1.5.0",
      "model_name": "FloatSliderModel",
      "state": {
       "description": "Compression Threshold",
       "layout": "IPY_MODEL_6f3fc3b359694941b11c909c1f4984f2",
       "max": 1,
       "step": 0.01,
       "style": "IPY_MODEL_e0417d84af2e43458b95a18bc025214a",
       "value": 0.8
      }
     }
    },
    "version_major": 2,
    "version_minor": 0
   }
  }
 },
 "nbformat": 4,
 "nbformat_minor": 4
}
