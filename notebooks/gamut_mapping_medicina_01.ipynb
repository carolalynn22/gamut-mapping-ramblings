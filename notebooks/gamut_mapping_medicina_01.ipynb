{
 "cells": [
  {
   "cell_type": "markdown",
   "metadata": {
    "colab_type": "text",
    "id": "pRS6nhpu1R6y"
   },
   "source": [
    "# Gamut Mapping - Medicina 01"
   ]
  },
  {
   "cell_type": "code",
   "execution_count": 1,
   "metadata": {},
   "outputs": [],
   "source": [
    "%matplotlib widget"
   ]
  },
  {
   "cell_type": "code",
   "execution_count": 2,
   "metadata": {
    "colab": {
     "base_uri": "https://localhost:8080/",
     "height": 340
    },
    "colab_type": "code",
    "id": "OydMmtZRxd3c",
    "outputId": "297a43b9-f566-405d-e8bc-cfae56b50959"
   },
   "outputs": [
    {
     "name": "stdout",
     "output_type": "stream",
     "text": [
      "===============================================================================\n",
      "*                                                                             *\n",
      "*   Interpreter :                                                             *\n",
      "*       python : 3.7.6 (default, Dec 30 2019, 19:38:26)                       *\n",
      "*                [Clang 11.0.0 (clang-1100.0.33.16)]                          *\n",
      "*                                                                             *\n",
      "*   colour-science.org :                                                      *\n",
      "*       colour : v0.3.15-126-gd9ef0a5a                                        *\n",
      "*                                                                             *\n",
      "*   Runtime :                                                                 *\n",
      "*       imageio : 2.8.0                                                       *\n",
      "*       matplotlib : 3.0.3                                                    *\n",
      "*       numpy : 1.18.4                                                        *\n",
      "*       scipy : 1.4.1                                                         *\n",
      "*       six : 1.14.0                                                          *\n",
      "*                                                                             *\n",
      "===============================================================================\n"
     ]
    }
   ],
   "source": [
    "from __future__ import division, unicode_literals\n",
    "\n",
    "import colour\n",
    "import ipympl.backend_nbagg\n",
    "import ipywidgets\n",
    "import matplotlib.gridspec as gridspec\n",
    "import matplotlib.pyplot as plt\n",
    "import numpy as np\n",
    "import os\n",
    "import scipy.interpolate\n",
    "from matplotlib.collections import PathCollection\n",
    "from matplotlib._layoutbox import plot_children\n",
    "\n",
    "colour.plotting.colour_style()\n",
    "\n",
    "plt.style.use('dark_background')\n",
    "\n",
    "colour.utilities.describe_environment();\n",
    "\n",
    "colour.utilities.filter_warnings(*[True] * 4)"
   ]
  },
  {
   "cell_type": "markdown",
   "metadata": {},
   "source": [
    "## Widgets Styling"
   ]
  },
  {
   "cell_type": "code",
   "execution_count": 3,
   "metadata": {},
   "outputs": [
    {
     "data": {
      "text/html": [
       "<style>\n",
       ".widget-button {\n",
       "    margin-left: 10px;\n",
       "    margin-right: 10px;\n",
       "}\n",
       "</style>\n"
      ],
      "text/plain": [
       "<IPython.core.display.HTML object>"
      ]
     },
     "metadata": {},
     "output_type": "display_data"
    }
   ],
   "source": [
    "%%html\n",
    "<style>\n",
    ".widget-button {\n",
    "    margin-left: 10px;\n",
    "    margin-right: 10px;\n",
    "}\n",
    "</style>"
   ]
  },
  {
   "cell_type": "markdown",
   "metadata": {
    "colab_type": "text",
    "id": "5yCeFpnnp_wh"
   },
   "source": [
    "## Colour Wheel Generation"
   ]
  },
  {
   "cell_type": "code",
   "execution_count": 4,
   "metadata": {
    "colab": {},
    "colab_type": "code",
    "id": "RshonIbOI4Ij"
   },
   "outputs": [],
   "source": [
    "def colour_wheel(samples=1024, clip_circle=True, method='Colour'):\n",
    "    xx, yy = np.meshgrid(\n",
    "        np.linspace(-1, 1, samples), np.linspace(-1, 1, samples))\n",
    "\n",
    "    S = np.sqrt(xx ** 2 + yy ** 2)    \n",
    "    H = (np.arctan2(xx, yy) + np.pi) / (np.pi * 2)\n",
    "\n",
    "    HSV = colour.utilities.tstack([H, S, np.ones(H.shape)])\n",
    "    RGB = colour.HSV_to_RGB(HSV)\n",
    "\n",
    "    if clip_circle == True:\n",
    "        RGB[S > 1] = 0\n",
    "        A = np.where(S > 1, 0, 1)\n",
    "    else:\n",
    "        A = np.ones(S.shape)\n",
    "\n",
    "    if method.lower()== 'matplotlib':\n",
    "        RGB = colour.utilities.orient(RGB, '90 CW')\n",
    "    elif method.lower()== 'nuke':\n",
    "        RGB = colour.utilities.orient(RGB, 'Flip')\n",
    "        RGB = colour.utilities.orient(RGB, '90 CW')\n",
    "\n",
    "    R, G, B = colour.utilities.tsplit(RGB)\n",
    "    \n",
    "    return colour.utilities.tstack([R, G, B, A])"
   ]
  },
  {
   "cell_type": "markdown",
   "metadata": {},
   "source": [
    "## Utility Functions & Objects"
   ]
  },
  {
   "cell_type": "code",
   "execution_count": 5,
   "metadata": {},
   "outputs": [],
   "source": [
    "DEFAULT_BOX_DECORATION_WIDTH = 4\n",
    "MPL_BOX_DECORATION_WIDTH = 28\n",
    "\n",
    "\n",
    "def batch(sequence, count):\n",
    "    for i in range(0, len(sequence), count):\n",
    "        yield sequence[i:i + count]\n",
    "        \n",
    "\n",
    "def border_layout():\n",
    "    return ipywidgets.widgets.Layout(\n",
    "        border='solid {0}px #222'.format(4),\n",
    "        margin='{0}px'.format(DEFAULT_BOX_DECORATION_WIDTH),\n",
    "        padding='0')"
   ]
  },
  {
   "cell_type": "markdown",
   "metadata": {},
   "source": [
    "## Gamut Medicina Base"
   ]
  },
  {
   "cell_type": "code",
   "execution_count": 6,
   "metadata": {},
   "outputs": [
    {
     "data": {
      "application/vnd.jupyter.widget-view+json": {
       "model_id": "539fbe23de2944f19bf09ac4f5e37c65",
       "version_major": 2,
       "version_minor": 0
      },
      "text/plain": [
       "GamutMedicinaBaseWidget(children=(Output(layout=Layout(border='solid 4px #222', margin='4px', padding='0')), T…"
      ]
     },
     "metadata": {},
     "output_type": "display_data"
    }
   ],
   "source": [
    "class GamutMedicinaBaseWidget(ipywidgets.widgets.Box):\n",
    "    def __init__(self,\n",
    "                 reference_image_path=None,\n",
    "                 working_space=colour.models.ACES_CG_COLOURSPACE,\n",
    "                 reference_space=colour.models.ACES_2065_1_COLOURSPACE,\n",
    "                 display_space=colour.models.sRGB_COLOURSPACE,\n",
    "                 colour_wheel_samples=256,\n",
    "                 image_decimation=20,\n",
    "                 figure_size=(11, None),\n",
    "                 padding=0.005,\n",
    "                 spacing=0.005,\n",
    "                 show_labels=False,\n",
    "                 enable_colour_wheel=True,\n",
    "                 enable_chromaticity_diagram=True,\n",
    "                 debug_layout=False):\n",
    "        super().__init__()\n",
    "\n",
    "        self._reference_image_path = reference_image_path\n",
    "        self._working_space = working_space\n",
    "        self._reference_space = reference_space\n",
    "        self._display_space = display_space\n",
    "        self._colour_wheel_samples = colour_wheel_samples\n",
    "        self._image_decimation = image_decimation\n",
    "        self._figure_size = figure_size\n",
    "        self._padding = padding\n",
    "        self._spacing = spacing\n",
    "        self._show_labels = show_labels\n",
    "        self._enable_colour_wheel = enable_colour_wheel\n",
    "        self._enable_chromaticity_diagram = enable_chromaticity_diagram\n",
    "\n",
    "        self._enable = True\n",
    "\n",
    "        self._reference_image = None\n",
    "        self._reference_image_working = None\n",
    "        self._reference_image_mapped = None\n",
    "        self._reference_image_display = None\n",
    "\n",
    "        if self._enable_colour_wheel:\n",
    "            self._colour_wheel = None\n",
    "\n",
    "        if self._enable_chromaticity_diagram:\n",
    "            self._decimated_image_working = None\n",
    "            self._decimated_image_display = None\n",
    "\n",
    "        self._colour_checker = None\n",
    "        self._colour_checker_uv = None\n",
    "\n",
    "        self._output = None\n",
    "        self._figure = None\n",
    "        self._grid_spec = None\n",
    "        self._reference_image_axes = None\n",
    "        self._reference_image_imshow = None\n",
    "\n",
    "        if self._enable_colour_wheel:\n",
    "            self._colour_wheel_cartersian_axes = None\n",
    "            self._colour_wheel_imshow = None\n",
    "            self._colour_wheel_polar_axes = None\n",
    "\n",
    "        if self._enable_chromaticity_diagram:\n",
    "            self._chromaticity_diagram_axes = None\n",
    "            self._scatter_offsets_i = None\n",
    "            self._scatter_facecolor_i = None\n",
    "\n",
    "        self._disable_medidicina_CheckBox = None\n",
    "        self._global_controls_HBox = None\n",
    "        self._controls_Tab = None\n",
    "\n",
    "        self.initialize_data()\n",
    "        self.initialize_axes()\n",
    "        self.initialise_widgets()\n",
    "        self.attach_callbacks()\n",
    "\n",
    "        if debug_layout:\n",
    "            plot_children(self._figure, self._figure._layoutbox, printit=False)\n",
    "\n",
    "    def initialize_data(self):\n",
    "        # *** Reference Image ***\n",
    "        self._reference_image = (colour.read_image(self._reference_image_path)\n",
    "                                 if self._reference_image_path is not None else\n",
    "                                 np.random.rand(540, 960, 3))\n",
    "        self._reference_image_path = (self._reference_image_path\n",
    "                                      if self._reference_image_path is not None\n",
    "                                      else 'Random.exr')\n",
    "        self._reference_image_working = self.reference_space_to_working_space(\n",
    "            self._reference_image)\n",
    "\n",
    "        self._reference_image_mapped = self._reference_image\n",
    "        self._reference_image_display = self.working_space_to_display_space(\n",
    "            self._reference_image_working)\n",
    "\n",
    "        # *** Colour Wheel ***\n",
    "        if self._enable_colour_wheel:\n",
    "            self._colour_wheel = colour_wheel(\n",
    "                self._colour_wheel_samples,\n",
    "                clip_circle=True,\n",
    "                method='Matplotlib')\n",
    "\n",
    "        # *** Decimated Image, i.e. Scatter ***\n",
    "        if self._enable_chromaticity_diagram:\n",
    "            self._decimated_image_working = (\n",
    "                self._reference_image_working[::self._image_decimation, ::\n",
    "                                              self._image_decimation, :])\n",
    "            self._decimated_image_display = (\n",
    "                self.working_space_to_display_space(\n",
    "                    self._decimated_image_working))\n",
    "\n",
    "        # *** Colour Checker\n",
    "        colour_checker = colour.COLOURCHECKERS[\n",
    "            'ColorChecker24 - After November 2014']\n",
    "        colour_checker_data = colour.utilities.as_float_array(\n",
    "            list(colour_checker.data.values()))\n",
    "        self._colour_checker_uv = colour.xy_to_Luv_uv(\n",
    "            colour_checker_data[:, 0:2])\n",
    "\n",
    "    def initialize_axes(self):\n",
    "        self._output = ipywidgets.widgets.Output()\n",
    "\n",
    "        image_height, image_width, channels = self._reference_image.shape\n",
    "        if self._figure_size[-1] is None:\n",
    "            if self._enable_colour_wheel and self._enable_chromaticity_diagram:\n",
    "                width = image_height / 2 + image_width\n",
    "                height = image_height - self._padding * 100 - self._spacing * 100\n",
    "                # Unresolved fudge/nudge factor.\n",
    "                height -= 20\n",
    "            elif self._enable_colour_wheel or self._enable_chromaticity_diagram:\n",
    "                width = image_height + image_width\n",
    "                height = image_height\n",
    "            else:\n",
    "                width = image_width\n",
    "                height = image_height\n",
    "            ratio = self._figure_size[0] * 100 / width\n",
    "            figure_size = (width / 100 * ratio, height / 100 * ratio)\n",
    "        else:\n",
    "            figure_size = self._figure_size\n",
    "\n",
    "        with self._output:\n",
    "            self._figure = plt.figure(\n",
    "                figsize=figure_size,\n",
    "                constrained_layout=True,\n",
    "                facecolor=[2 / 3 / 10] * 3)\n",
    "            self._figure.canvas.toolbar_visible = False\n",
    "            self._figure.canvas.header_visible = False\n",
    "            self._figure.canvas.footer_visible = True\n",
    "            self._figure.canvas.resizable = False\n",
    "            self._figure.tight_layout()\n",
    "\n",
    "        if self._enable_colour_wheel and self._enable_chromaticity_diagram:\n",
    "            rows = columns = 2\n",
    "            colour_wheel_indices = 0, 0\n",
    "            chromaticity_diagram_indices = 1, 0\n",
    "            reference_image_indices = slice(0, None, None), slice(\n",
    "                1, None, None)\n",
    "            width_ratios = [1, 2 * image_width / image_height]\n",
    "        elif not self._enable_colour_wheel and not self._enable_chromaticity_diagram:\n",
    "            rows = columns = 1\n",
    "            colour_wheel_indices = chromaticity_diagram_indices = None\n",
    "            reference_image_indices = 0, 0\n",
    "            width_ratios = [1]\n",
    "        else:\n",
    "            rows = 1\n",
    "            columns = 2\n",
    "            colour_wheel_indices = chromaticity_diagram_indices = 0, 0\n",
    "            reference_image_indices = 0, 1\n",
    "            width_ratios = [1, image_width / image_height]\n",
    "\n",
    "        self._grid_spec = gridspec.GridSpec(\n",
    "            ncols=columns,\n",
    "            nrows=rows,\n",
    "            figure=self._figure,\n",
    "            width_ratios=width_ratios,\n",
    "            wspace=self._spacing,\n",
    "            hspace=self._spacing)\n",
    "        self._figure.set_constrained_layout_pads(\n",
    "            w_pad=self._padding,\n",
    "            h_pad=self._padding)\n",
    "\n",
    "        # Colour Wheel Axes\n",
    "        if self._enable_colour_wheel:\n",
    "            self._colour_wheel_cartersian_axes = self._figure.add_subplot(\n",
    "                self._grid_spec[colour_wheel_indices[0], colour_wheel_indices[\n",
    "                    1]],\n",
    "                label='Cartesian Axes')\n",
    "            self._colour_wheel_cartersian_axes.axis('off')\n",
    "            self._colour_wheel_imshow = self._colour_wheel_cartersian_axes.imshow(\n",
    "                np.clip(self._colour_wheel, 0, 1), extent=[0, 1, 0, 1])\n",
    "\n",
    "            self._colour_wheel_polar_axes = self._figure.add_subplot(\n",
    "                self._grid_spec[colour_wheel_indices[0], colour_wheel_indices[\n",
    "                    1]],\n",
    "                projection='polar',\n",
    "                label='Polar Axes')\n",
    "            self._colour_wheel_polar_axes.set_xlim(0, np.pi * 2)\n",
    "            self._colour_wheel_polar_axes.set_ylim(0, 1)\n",
    "            self._colour_wheel_polar_axes.patch.set_alpha(0)\n",
    "            self._colour_wheel_polar_axes.grid(alpha=0.15)\n",
    "            if not self._show_labels:\n",
    "                self._colour_wheel_polar_axes.set_xticklabels([])\n",
    "            self._colour_wheel_polar_axes.set_yticklabels([])\n",
    "\n",
    "        # Chromaticity Diagram Axes\n",
    "        if self._enable_chromaticity_diagram:\n",
    "            self._chromaticity_diagram_axes = self._figure.add_subplot(\n",
    "                self._grid_spec[chromaticity_diagram_indices[0],\n",
    "                                chromaticity_diagram_indices[1]])\n",
    "            self._chromaticity_diagram_axes.patch.set_alpha(0)\n",
    "            (colour.plotting.\n",
    "             plot_RGB_chromaticities_in_chromaticity_diagram_CIE1976UCS(\n",
    "                 self._decimated_image_working,\n",
    "                 colourspace=self._working_space,\n",
    "                 colourspaces=['sRGB'],\n",
    "                 axes=self._chromaticity_diagram_axes,\n",
    "                 standalone=False,\n",
    "                 transparent_background=False,\n",
    "                 spectral_locus_colours='RGB',\n",
    "                 spectral_locus_labels=[],\n",
    "                 diagram_opacity=0,\n",
    "                 scatter_kwargs={'s': 1},\n",
    "                 title=str(),\n",
    "                 x_label=str(),\n",
    "                 y_label=str(),\n",
    "                 legend=False))\n",
    "            self._chromaticity_diagram_axes.tick_params(\n",
    "                axis='y', which='both', direction='in')\n",
    "            self._chromaticity_diagram_axes.tick_params(\n",
    "                axis='x', which='both', direction='in')\n",
    "            self._chromaticity_diagram_axes.minorticks_off()\n",
    "            self._chromaticity_diagram_axes.grid(alpha=0.15)\n",
    "            for collection in self._chromaticity_diagram_axes.collections:\n",
    "                if isinstance(collection, PathCollection):\n",
    "                    self._scatter_path_collection = collection\n",
    "                    break\n",
    "            if not self._show_labels:\n",
    "                self._chromaticity_diagram_axes.set_xticklabels([])\n",
    "                self._chromaticity_diagram_axes.set_yticklabels([])\n",
    "\n",
    "            self._scatter_offsets_i = self._scatter_path_collection.get_offsets(\n",
    "            )\n",
    "            self._scatter_facecolor_i = self._scatter_path_collection.get_facecolor(\n",
    "            )\n",
    "            self._chromaticity_diagram_axes.scatter(\n",
    "                self._colour_checker_uv[:, 0],\n",
    "                self._colour_checker_uv[:, 1],\n",
    "                c='white',\n",
    "                marker='D',\n",
    "                s=5)\n",
    "\n",
    "        # Reference Image Axes\n",
    "        self._reference_image_axes = self._figure.add_subplot(self._grid_spec[\n",
    "            reference_image_indices[0], reference_image_indices[1]])\n",
    "        self._reference_image_axes.set_xticks([])\n",
    "        self._reference_image_axes.set_yticks([])\n",
    "        self._reference_image_imshow = self._reference_image_axes.imshow(\n",
    "            self.working_space_to_display_space(self._reference_image_working))\n",
    "\n",
    "    def initialise_widgets(self):\n",
    "        # *** Widgets ***\n",
    "        self._disable_medidicina_CheckBox = (\n",
    "            ipywidgets.widgets.Checkbox(description='Disable Medicina'))\n",
    "        self._export_reference_image_Button = (\n",
    "            ipywidgets.widgets.Button(description=\"Export Image\"))\n",
    "        self._save_figure_image_Button = (\n",
    "            ipywidgets.widgets.Button(description=\"Save Figure\"))\n",
    "\n",
    "        # *** Layout ***\n",
    "        self.layout.display = 'flex'\n",
    "        self.layout.flex_flow = 'column'\n",
    "        self.layout.align_items = 'stretch'\n",
    "        self.layout.width = '{0}px'.format(self._figure_size[0] * 100 +\n",
    "                                           MPL_BOX_DECORATION_WIDTH)\n",
    "\n",
    "        self._global_controls_HBox = ipywidgets.widgets.HBox([\n",
    "            self._disable_medidicina_CheckBox,\n",
    "            self._export_reference_image_Button,\n",
    "            self._save_figure_image_Button,\n",
    "        ])\n",
    "\n",
    "        self._controls_Tab = ipywidgets.widgets.Tab(children=[\n",
    "            self._global_controls_HBox,\n",
    "        ])\n",
    "        self._controls_Tab.set_title(0, 'Global Controls')\n",
    "\n",
    "        self._controls_Tab.layout = border_layout()\n",
    "\n",
    "        self._output.layout = border_layout()\n",
    "        self.children = [self._output, self._controls_Tab]\n",
    "\n",
    "    def attach_callbacks(self):\n",
    "        self._disable_medidicina_CheckBox.observe(self.toggle_medidicina)\n",
    "        self._export_reference_image_Button.on_click(\n",
    "            self.export_reference_image)\n",
    "        self._save_figure_image_Button.on_click(self.save_figure)\n",
    "\n",
    "    def reference_space_to_working_space(self, RGB):\n",
    "        return colour.RGB_to_RGB(RGB, self._reference_space,\n",
    "                                 self._working_space)\n",
    "\n",
    "    def working_space_to_reference_space(self, RGB):\n",
    "        return colour.RGB_to_RGB(RGB, self._working_space,\n",
    "                                 self._reference_space)\n",
    "\n",
    "    def working_space_to_display_space(self,\n",
    "                                       RGB,\n",
    "                                       apply_encoding_cctf=True,\n",
    "                                       clip=True):\n",
    "        RGB = colour.RGB_to_RGB(\n",
    "            RGB,\n",
    "            self._working_space,\n",
    "            self._display_space,\n",
    "            apply_encoding_cctf=apply_encoding_cctf)\n",
    "\n",
    "        if clip:\n",
    "            return np.clip(RGB, 0, 1)\n",
    "        else:\n",
    "            return RGB\n",
    "\n",
    "    def update_scatter_plot(self, RGB):\n",
    "        if self._enable:\n",
    "            RGB = RGB[RGB[:, 1].argsort()]\n",
    "            XYZ = colour.RGB_to_XYZ(RGB, self._working_space.whitepoint,\n",
    "                                    self._working_space.whitepoint,\n",
    "                                    self._working_space.RGB_to_XYZ_matrix)\n",
    "            uv = colour.Luv_to_uv(\n",
    "                colour.XYZ_to_Luv(XYZ, self._working_space.whitepoint),\n",
    "                self._working_space.whitepoint)\n",
    "            self._scatter_path_collection.set_offsets(uv)\n",
    "            self._scatter_path_collection.set_facecolor(\n",
    "                self.working_space_to_display_space(RGB))\n",
    "        else:\n",
    "            self._scatter_path_collection.set_offsets(self._scatter_offsets_i)\n",
    "            self._scatter_path_collection.set_facecolor(\n",
    "                self._scatter_facecolor_i)\n",
    "\n",
    "    def toggle_medidicina(self, change):\n",
    "        if not change:\n",
    "            return\n",
    "\n",
    "        if change['name'] == 'value':\n",
    "            self._enable = not change['new']\n",
    "\n",
    "            self.update_widget(None)\n",
    "\n",
    "    def export_reference_image(self, change):\n",
    "        path = os.path.splitext(self._reference_image_path)[0]\n",
    "\n",
    "        colour.write_image(\n",
    "            self.working_space_to_reference_space(\n",
    "                self._reference_image_mapped), '{0}_{1}.exr'.format(\n",
    "                    path, self.__class__.__name__))\n",
    "\n",
    "    def save_figure(self, change):\n",
    "        path = os.path.splitext(self._reference_image_path)[0]\n",
    "        plt.savefig('{0}_{1}.png'.format(path, self.__class__.__name__),\n",
    "                   facecolor=[2 / 3 / 10] * 3, transparent=False, bbox_inches='tight')\n",
    "\n",
    "    def update_widget(self, change):\n",
    "        if not self._enable:\n",
    "            if self._enable_chromaticity_diagram:\n",
    "                self.update_scatter_plot(None)\n",
    "\n",
    "            self._reference_image_imshow.set_data(\n",
    "                self._reference_image_display)\n",
    "\n",
    "            self._figure.canvas.draw_idle()\n",
    "\n",
    "\n",
    "GamutMedicinaBaseWidget()\n"
   ]
  },
  {
   "cell_type": "code",
   "execution_count": 7,
   "metadata": {},
   "outputs": [
    {
     "data": {
      "application/vnd.jupyter.widget-view+json": {
       "model_id": "809a8f251c1e456a8fde184338877496",
       "version_major": 2,
       "version_minor": 0
      },
      "text/plain": [
       "GamutMedicinaBaseWidget(children=(Output(layout=Layout(border='solid 4px #222', margin='4px', padding='0')), T…"
      ]
     },
     "metadata": {},
     "output_type": "display_data"
    }
   ],
   "source": [
    "GamutMedicinaBaseWidget(enable_colour_wheel=False)"
   ]
  },
  {
   "cell_type": "code",
   "execution_count": 8,
   "metadata": {},
   "outputs": [
    {
     "data": {
      "application/vnd.jupyter.widget-view+json": {
       "model_id": "1f61121163034353b576cd1063dd4498",
       "version_major": 2,
       "version_minor": 0
      },
      "text/plain": [
       "GamutMedicinaBaseWidget(children=(Output(layout=Layout(border='solid 4px #222', margin='4px', padding='0')), T…"
      ]
     },
     "metadata": {},
     "output_type": "display_data"
    }
   ],
   "source": [
    "GamutMedicinaBaseWidget(enable_chromaticity_diagram=False)"
   ]
  },
  {
   "cell_type": "code",
   "execution_count": 9,
   "metadata": {},
   "outputs": [
    {
     "data": {
      "application/vnd.jupyter.widget-view+json": {
       "model_id": "b801cd9524c743f8a7ee2ad967409642",
       "version_major": 2,
       "version_minor": 0
      },
      "text/plain": [
       "GamutMedicinaBaseWidget(children=(Output(layout=Layout(border='solid 4px #222', margin='4px', padding='0')), T…"
      ]
     },
     "metadata": {},
     "output_type": "display_data"
    }
   ],
   "source": [
    "GamutMedicinaBaseWidget(\n",
    "    enable_colour_wheel=False, enable_chromaticity_diagram=False)"
   ]
  },
  {
   "cell_type": "markdown",
   "metadata": {},
   "source": [
    "## Compression & Blending Functions"
   ]
  },
  {
   "cell_type": "code",
   "execution_count": 10,
   "metadata": {},
   "outputs": [],
   "source": [
    "def tanh_compression_function(x, a=0.8, b=1 - 0.8):\n",
    "    x = colour.utilities.as_float_array(x)\n",
    "\n",
    "    return np.where(x > a, (a + b * np.tanh((x - a) / b)), x)\n",
    "\n",
    "\n",
    "def smoothstep(x, a=0, b=1):\n",
    "    i = np.clip((x - a) / (b - a), 0, 1)\n",
    "\n",
    "    return i**2 * (3 - 2 * i)\n"
   ]
  },
  {
   "cell_type": "markdown",
   "metadata": {},
   "source": [
    "## Mansencal and Scharfenberg (2020) - Gamut Medicina HSV Control"
   ]
  },
  {
   "cell_type": "markdown",
   "metadata": {},
   "source": [
    "https://community.acescentral.com/t/gamut-mapping-in-cylindrical-and-conic-spaces/2870/4"
   ]
  },
  {
   "cell_type": "code",
   "execution_count": 11,
   "metadata": {},
   "outputs": [
    {
     "data": {
      "application/vnd.jupyter.widget-view+json": {
       "model_id": "1fa371776e724fba8be119f803e70948",
       "version_major": 2,
       "version_minor": 0
      },
      "text/plain": [
       "GamutMedicinaHSVControlWidget(children=(Output(layout=Layout(border='solid 4px #222', margin='4px', padding='0…"
      ]
     },
     "metadata": {},
     "output_type": "display_data"
    }
   ],
   "source": [
    "class GamutMedicinaHSVControlWidget(GamutMedicinaBaseWidget):\n",
    "    def __init__(self,\n",
    "                 reference_image=None,\n",
    "                 hue_wedge=45,\n",
    "                 protected_area_threshold=0.7,\n",
    "                 compression_threshold=0.8,\n",
    "                 RGB_to_HSV=colour.RGB_to_HSV,\n",
    "                 HSV_to_RGB=colour.HSV_to_RGB,\n",
    "                 *args,\n",
    "                 **kwargs):\n",
    "\n",
    "        self._hue_wedge = hue_wedge\n",
    "        self._protected_area_threshold = protected_area_threshold\n",
    "        self._compression_threshold = compression_threshold\n",
    "\n",
    "        self.RGB_to_HSV = RGB_to_HSV\n",
    "        self.HSV_to_RGB = HSV_to_RGB\n",
    "\n",
    "        super().__init__(reference_image, *args, **kwargs)\n",
    "        \n",
    "        self._RGB_r = None\n",
    "        self._H_r = self._S_r = self._V_r = None\n",
    "        self._S_r_m = None\n",
    "\n",
    "        if self._enable_colour_wheel:\n",
    "            self._RGB_w = None\n",
    "            self._H_w = self._S_w = self._V_w = None\n",
    "            self._S_w_m = None\n",
    "\n",
    "        if self._enable_chromaticity_diagram:\n",
    "            self._RGB_d = None\n",
    "            self._H_d = self._S_d = self._V_d = None\n",
    "            self._S_d_m = None\n",
    "        \n",
    "        self._angles = None\n",
    "        self._x_i = self._y_i = self._y_i = None\n",
    "\n",
    "        if self._enable_colour_wheel:\n",
    "            self._protected_area_threshold_colour_wheel_plot = None\n",
    "            self._compression_threshold_colour_wheel_plot = None\n",
    "            self._hue_controls_plot = None\n",
    "        \n",
    "        if self._enable_chromaticity_diagram:\n",
    "            self._protected_area_threshold_chromaticity_diagram_plot = None\n",
    "            self._compression_threshold_chromaticity_diagram_plot = None\n",
    "\n",
    "        self._reset_protected_area_controls_Button = None\n",
    "        self._protected_area_threshold_FloatSlider = None\n",
    "        self._reset_compression_controls_Button = None\n",
    "        self._compression_threshold_FloatSlider = None\n",
    "        self._reset_hue_controls_Button = None\n",
    "        self._wedge_controls = None\n",
    "        self._protected_area_controls_HBox = None\n",
    "        self._saturation_controls_HBox = None\n",
    "        self._hue_controls_HBox = None\n",
    "\n",
    "        self.initialize_data()\n",
    "        self.initialize_axes()\n",
    "        self.initialise_widgets()\n",
    "        self.attach_callbacks()\n",
    "\n",
    "        self.update_widget(None)\n",
    "\n",
    "    def initialize_data(self):\n",
    "        super().initialize_data()\n",
    "\n",
    "        # *** Colour Wheel ***\n",
    "        if self._enable_colour_wheel:\n",
    "            self._RGB_w = self._colour_wheel[..., 0:3]\n",
    "            self._H_w, self._S_w, self._V_w = colour.utilities.tsplit(\n",
    "                self.RGB_to_HSV(self._RGB_w))\n",
    "            self._S_w_m = smoothstep(self._S_w, self._protected_area_threshold,\n",
    "                                     self._compression_threshold)\n",
    "\n",
    "        # *** Decimated Image, i.e. Scatter ***\n",
    "        if self._enable_chromaticity_diagram:\n",
    "            self._RGB_d = self._decimated_image_working\n",
    "            self._H_d, self._S_d, self._V_d = colour.utilities.tsplit(\n",
    "                self.RGB_to_HSV(self._decimated_image_working))\n",
    "            self._S_d_m = smoothstep(self._S_d, self._protected_area_threshold,\n",
    "                                     self._compression_threshold)\n",
    "\n",
    "        # *** Reference Image ***\n",
    "        self._RGB_r = self._reference_image_working\n",
    "        self._H_r, self._S_r, self._V_r = colour.utilities.tsplit(\n",
    "            self.RGB_to_HSV(self._reference_image_working))\n",
    "        self._S_r_m = smoothstep(self._S_r, self._protected_area_threshold,\n",
    "                                 self._compression_threshold)\n",
    "\n",
    "        # *** Angles ***\n",
    "        self._angles = np.arange(0, 360, self._hue_wedge) / 360\n",
    "\n",
    "        # *** Initial State ***\n",
    "        self._x_i = np.hstack([self._angles, 1])\n",
    "        self._y_i = self._angles\n",
    "        self._y_i = np.hstack([self._y_i, self._y_i[0] + 1])\n",
    "\n",
    "    def initialize_axes(self):\n",
    "        super().initialize_axes()\n",
    "\n",
    "        circumference = np.linspace(0, np.pi * 2,\n",
    "                                    self._colour_wheel_samples)\n",
    "        # Colour Wheel Axes\n",
    "        if self._enable_colour_wheel:\n",
    "            self._protected_area_threshold_colour_wheel_plot = (\n",
    "                self._colour_wheel_polar_axes.plot(\n",
    "                    circumference,\n",
    "                    np.full(self._colour_wheel_samples,\n",
    "                            self._protected_area_threshold),\n",
    "                    linestyle='dotted',\n",
    "                    color='yellow')[0])\n",
    "            self._compression_threshold_colour_wheel_plot = (\n",
    "                self._colour_wheel_polar_axes.plot(\n",
    "                    circumference,\n",
    "                    np.full(self._colour_wheel_samples,\n",
    "                            self._compression_threshold),\n",
    "                    linestyle='dashdot',\n",
    "                    color='cyan')[0])\n",
    "\n",
    "            self._hue_controls_plot = (self._colour_wheel_polar_axes.plot(\n",
    "                self._y_i * np.pi * 2,\n",
    "                np.ones(self._y_i.shape),\n",
    "                'o-',\n",
    "                color='white')[0])\n",
    "\n",
    "        # Chromaticity Diagram Axes\n",
    "        if self._enable_chromaticity_diagram:\n",
    "            self._protected_area_threshold_chromaticity_diagram_plot = (\n",
    "                self._chromaticity_diagram_axes.plot(\n",
    "                    circumference,\n",
    "                    circumference,\n",
    "                    linestyle='dotted',\n",
    "                    color='yellow')[0])\n",
    "            self._compression_threshold_chromaticity_diagram_plot = (\n",
    "                self._chromaticity_diagram_axes.plot(\n",
    "                    circumference,\n",
    "                    circumference,\n",
    "                    linestyle='dashdot',\n",
    "                    color='cyan')[0])\n",
    "\n",
    "    def initialise_widgets(self):\n",
    "        super().initialise_widgets()\n",
    "\n",
    "        # *** Widgets ***\n",
    "        self._reset_protected_area_controls_Button = (\n",
    "            ipywidgets.widgets.Button(description=\"Reset Protected Area\"))\n",
    "        self._protected_area_threshold_FloatSlider = (\n",
    "            ipywidgets.widgets.FloatSlider(\n",
    "                min=0.0,\n",
    "                max=1.0,\n",
    "                step=0.01,\n",
    "                value=self._protected_area_threshold,\n",
    "                description='Protected Area Threshold'))\n",
    "\n",
    "        self._reset_compression_controls_Button = (\n",
    "            ipywidgets.widgets.Button(description=\"Reset Saturation Controls\"))\n",
    "        self._compression_threshold_FloatSlider = (\n",
    "            ipywidgets.widgets.FloatSlider(\n",
    "                min=0.0,\n",
    "                max=1.0,\n",
    "                step=0.01,\n",
    "                value=self._compression_threshold,\n",
    "                description='Compression Threshold'))\n",
    "\n",
    "        self._reset_hue_controls_Button = ipywidgets.widgets.Button(\n",
    "            description=\"Reset Hue Controls\")\n",
    "        self._wedge_controls = [\n",
    "            ipywidgets.widgets.FloatSlider(\n",
    "                min=-1,\n",
    "                max=1,\n",
    "                step=0.01,\n",
    "                value=0,\n",
    "                description='{0}°'.format(int(angle * 360)))\n",
    "            for angle in self._angles\n",
    "        ]\n",
    "\n",
    "        # *** Layout ***\n",
    "        self._protected_area_controls_HBox = ipywidgets.widgets.HBox([\n",
    "            self._reset_protected_area_controls_Button,\n",
    "            self._protected_area_threshold_FloatSlider,\n",
    "        ])\n",
    "\n",
    "        self._saturation_controls_HBox = ipywidgets.widgets.HBox([\n",
    "            self._reset_compression_controls_Button,\n",
    "            self._compression_threshold_FloatSlider\n",
    "        ])\n",
    "\n",
    "        wedge_controls_batches = batch(self._wedge_controls, 3)\n",
    "        self._hue_controls_HBox = ipywidgets.widgets.HBox(\n",
    "            [ipywidgets.widgets.VBox([self._reset_hue_controls_Button])] + [\n",
    "                ipywidgets.widgets.VBox(wedge_controls)\n",
    "                for wedge_controls in wedge_controls_batches\n",
    "            ])\n",
    "\n",
    "        self._controls_Tab.children += (\n",
    "            self._protected_area_controls_HBox,\n",
    "            self._saturation_controls_HBox,\n",
    "            self._hue_controls_HBox,\n",
    "        )\n",
    "\n",
    "        self._controls_Tab.set_title(1, 'Protected Area Controls')\n",
    "        self._controls_Tab.set_title(2, 'Saturation Controls')\n",
    "        self._controls_Tab.set_title(3, 'Hue Controls')\n",
    "\n",
    "    def attach_callbacks(self):\n",
    "        super().attach_callbacks()\n",
    "\n",
    "        self._reset_protected_area_controls_Button.on_click(\n",
    "            self.reset_protected_area_controls)\n",
    "        self._protected_area_threshold_FloatSlider.observe(\n",
    "            self.update_protected_area_mask, 'value')\n",
    "\n",
    "        self._reset_compression_controls_Button.on_click(\n",
    "            self.reset_compression_controls)\n",
    "        self._compression_threshold_FloatSlider.observe(\n",
    "            self.update_widget, 'value')\n",
    "\n",
    "        self._reset_hue_controls_Button.on_click(self.reset_hue_controls)\n",
    "        for slider in self._wedge_controls:\n",
    "            slider.observe(self.update_widget, 'value')\n",
    "\n",
    "    def update_region_colour_wheel_plot(self, V_r, region_colour_wheel_plot):\n",
    "        if self._enable_colour_wheel:\n",
    "            region_colour_wheel_plot.set_ydata(\n",
    "                np.full(self._colour_wheel_samples, V_r))\n",
    "\n",
    "    def update_protected_area_threshold_colour_wheel_plot(self, U_r):\n",
    "        if self._enable_colour_wheel:\n",
    "            self.update_region_colour_wheel_plot(\n",
    "                U_r, self._protected_area_threshold_colour_wheel_plot)\n",
    "\n",
    "    def update_compression_threshold_colour_wheel_plot(self, S_c):\n",
    "        if self._enable_colour_wheel:\n",
    "            self.update_region_colour_wheel_plot(\n",
    "                S_c, self._compression_threshold_colour_wheel_plot)\n",
    "\n",
    "    def update_region_chromaticity_diagram_plot(\n",
    "            self, V_r, region_chromaticity_diagram_plot):\n",
    "        if self._enable_chromaticity_diagram:\n",
    "            HSV = colour.utilities.tstack([\n",
    "                np.linspace(0, 1, self._colour_wheel_samples),\n",
    "                np.full(self._colour_wheel_samples, V_r),\n",
    "                np.ones(self._colour_wheel_samples)\n",
    "            ])\n",
    "            uv = colour.Luv_to_uv(\n",
    "                colour.XYZ_to_Luv(\n",
    "                    colour.RGB_to_XYZ(\n",
    "                        self.HSV_to_RGB(HSV), self._working_space.whitepoint,\n",
    "                        self._working_space.whitepoint,\n",
    "                        self._working_space.RGB_to_XYZ_matrix),\n",
    "                    self._working_space.whitepoint))\n",
    "\n",
    "            region_chromaticity_diagram_plot.set_data(uv[:, 0], uv[:, 1])\n",
    "\n",
    "    def update_protected_area_threshold_chromaticity_diagram_plot(self, U_r):\n",
    "        if self._enable_chromaticity_diagram:\n",
    "            self.update_region_chromaticity_diagram_plot(\n",
    "                U_r, self._protected_area_threshold_chromaticity_diagram_plot)\n",
    "\n",
    "    def update_compression_threshold_chromaticity_diagram_plot(self, S_c):\n",
    "        if self._enable_chromaticity_diagram:\n",
    "            self.update_region_chromaticity_diagram_plot(\n",
    "                S_c, self._compression_threshold_chromaticity_diagram_plot)\n",
    "\n",
    "    def update_protected_area_mask(self, change):\n",
    "        if not change:\n",
    "            return\n",
    "\n",
    "        if change['name'] == 'value':\n",
    "            U_r = self._protected_area_threshold_FloatSlider.value\n",
    "            S_c = self._compression_threshold_FloatSlider.value\n",
    "\n",
    "            if self._enable_colour_wheel:\n",
    "                self._S_w_m = smoothstep(self._S_w, U_r, S_c)\n",
    "\n",
    "            if self._enable_chromaticity_diagram:\n",
    "                self._S_r_m = smoothstep(self._S_r, U_r, S_c)\n",
    "\n",
    "            self._S_d_m = smoothstep(self._S_d, U_r, S_c)\n",
    "\n",
    "        self.update_widget(None)\n",
    "\n",
    "    def wedge_control_to_hue_offset(self, value):\n",
    "        slider = self._wedge_controls[0]\n",
    "\n",
    "        return colour.utilities.linear_conversion(\n",
    "            value, [slider.min, slider.max],\n",
    "            [-self._hue_wedge / 360, self._hue_wedge / 360])\n",
    "\n",
    "    def reset_protected_area_controls(self, change):\n",
    "        self._protected_area_threshold_FloatSlider.value = (\n",
    "            self._protected_area_threshold)\n",
    "\n",
    "        self.update_protected_area_mask(None)\n",
    "\n",
    "    def reset_compression_controls(self, change):\n",
    "        self._compression_threshold_FloatSlider.value = (\n",
    "            self._compression_threshold)\n",
    "\n",
    "        self.update_widget(None)\n",
    "\n",
    "    def reset_hue_controls(self, change):\n",
    "        for slider in self._wedge_controls:\n",
    "            slider.value = 0\n",
    "\n",
    "        self.update_widget(None)\n",
    "\n",
    "    def medicina(self, RGB, H, S, V, H_x, H_y, S_c, S_m):\n",
    "        S_m = S_m[..., np.newaxis]\n",
    "\n",
    "        interpolator = scipy.interpolate.interp1d(H_x, H_y)\n",
    "\n",
    "        HSV_c = colour.utilities.tstack(\n",
    "            [interpolator(H) % 1,\n",
    "             tanh_compression_function(S, S_c, 1 - S_c), V])\n",
    "\n",
    "        return self.HSV_to_RGB(HSV_c) * S_m + RGB * (1 - S_m)\n",
    "\n",
    "    def update_colour_wheel_axes(self, U_r, S_c, H_y, H_o):\n",
    "        if self._enable_colour_wheel:\n",
    "            R_w, G_w, B_w = colour.utilities.tsplit(\n",
    "                self.medicina(self._RGB_w, self._H_w, self._S_w, self._V_w,\n",
    "                              self._x_i, H_y, S_c, self._S_w_m))\n",
    "            self._colour_wheel_imshow.set_data(\n",
    "                np.clip(colour.tstack(\n",
    "                    [R_w, G_w, B_w, self._colour_wheel[..., -1]]), 0, 1))\n",
    "            self.update_protected_area_threshold_colour_wheel_plot(U_r)\n",
    "            self.update_compression_threshold_colour_wheel_plot(S_c)\n",
    "\n",
    "            H_x = H_o + self._angles\n",
    "            H_x = np.hstack([H_x, H_x[0]])\n",
    "            self._hue_controls_plot.set_xdata(H_x * np.pi * 2)\n",
    "\n",
    "    def update_chromaticity_diagram_axes(self, U_r, S_c, H_y):\n",
    "        if self._enable_chromaticity_diagram:\n",
    "            RGB_r_s = self.medicina(self._RGB_d, self._H_d, self._S_d,\n",
    "                                    self._V_d, self._x_i, H_y, S_c,\n",
    "                                    self._S_d_m).reshape(-1, 3)\n",
    "            self.update_scatter_plot(RGB_r_s)\n",
    "            self.update_protected_area_threshold_chromaticity_diagram_plot(U_r)\n",
    "            self.update_compression_threshold_chromaticity_diagram_plot(S_c)\n",
    "\n",
    "    def update_reference_image_axes(self, S_c, H_y):\n",
    "        RGB_r = self.medicina(self._RGB_r, self._H_r, self._S_r, self._V_r,\n",
    "                              self._x_i, H_y, S_c, self._S_r_m)\n",
    "        self._reference_image_mapped = RGB_r\n",
    "        self._reference_image_imshow.set_data(\n",
    "            self.working_space_to_display_space(RGB_r))\n",
    "\n",
    "    def update_widget(self, change):\n",
    "        super().update_widget(change)\n",
    "\n",
    "        if self._enable:\n",
    "            U_r = self._protected_area_threshold_FloatSlider.value\n",
    "            S_c = self._compression_threshold_FloatSlider.value\n",
    "\n",
    "            hue_offsets = np.array([\n",
    "                self.wedge_control_to_hue_offset(slider.value)\n",
    "                for slider in self._wedge_controls\n",
    "            ])\n",
    "\n",
    "            H_y = -hue_offsets + self._angles\n",
    "            H_y = np.hstack([H_y, H_y[0] + 1])\n",
    "\n",
    "            if self._enable_colour_wheel:\n",
    "                self.update_colour_wheel_axes(U_r, S_c, H_y, hue_offsets)\n",
    "\n",
    "            if self._enable_chromaticity_diagram:\n",
    "                self.update_chromaticity_diagram_axes(U_r, S_c, H_y)\n",
    "\n",
    "            self.update_reference_image_axes(S_c, H_y)\n",
    "\n",
    "            self._figure.canvas.draw_idle()\n",
    "\n",
    "\n",
    "GamutMedicinaHSVControlWidget(\n",
    "    '../resources/images/A009C002_190210_R0EI_Alexa_LogCWideGamut.exr')\n"
   ]
  },
  {
   "cell_type": "code",
   "execution_count": 12,
   "metadata": {},
   "outputs": [
    {
     "data": {
      "application/vnd.jupyter.widget-view+json": {
       "model_id": "f4246f4c7274439ea3dad0d66064fe51",
       "version_major": 2,
       "version_minor": 0
      },
      "text/plain": [
       "GamutMedicinaHSVControlWidget(children=(Output(layout=Layout(border='solid 4px #222', margin='4px', padding='0…"
      ]
     },
     "metadata": {},
     "output_type": "display_data"
    }
   ],
   "source": [
    "GamutMedicinaHSVControlWidget('../resources/images/A002_C029_06025K.exr')"
   ]
  },
  {
   "cell_type": "code",
   "execution_count": 13,
   "metadata": {},
   "outputs": [
    {
     "data": {
      "application/vnd.jupyter.widget-view+json": {
       "model_id": "b6b07f7caf5047e19283f8569aad3acd",
       "version_major": 2,
       "version_minor": 0
      },
      "text/plain": [
       "GamutMedicinaHSVControlWidget(children=(Output(layout=Layout(border='solid 4px #222', margin='4px', padding='0…"
      ]
     },
     "metadata": {},
     "output_type": "display_data"
    }
   ],
   "source": [
    "GamutMedicinaHSVControlWidget(\n",
    "    '../resources/images/Cornell_Box_Rigid_Spheres_190_Patch_Roughplastic_Point_Grey_Grasshopper_50S5C_RGB_W.exr')"
   ]
  },
  {
   "cell_type": "markdown",
   "metadata": {},
   "source": [
    "## Smith (2020) - Gamut Medicina - RGB Saturation"
   ]
  },
  {
   "cell_type": "markdown",
   "metadata": {},
   "source": [
    "https://community.acescentral.com/t/rgb-saturation-gamut-mapping-approach-and-a-comp-vfx-perspective/"
   ]
  },
  {
   "cell_type": "code",
   "execution_count": 14,
   "metadata": {},
   "outputs": [
    {
     "data": {
      "application/vnd.jupyter.widget-view+json": {
       "model_id": "1360f87ed44b485d8bf03d75cdb11573",
       "version_major": 2,
       "version_minor": 0
      },
      "text/plain": [
       "GamutMedicinaRGBSaturationWidget(children=(Output(layout=Layout(border='solid 4px #222', margin='4px', padding…"
      ]
     },
     "metadata": {},
     "output_type": "display_data"
    }
   ],
   "source": [
    "\n",
    "class GamutMedicinaRGBSaturationWidget(GamutMedicinaBaseWidget):\n",
    "    def __init__(self,\n",
    "                 reference_image=None,\n",
    "                 compression_threshold=0.8,\n",
    "                 *args,\n",
    "                 **kwargs):\n",
    "        self._compression_threshold = compression_threshold\n",
    "\n",
    "        kwargs['enable_colour_wheel'] = False\n",
    "\n",
    "        super().__init__(reference_image, *args, **kwargs)\n",
    "\n",
    "        self._RGB_w = None\n",
    "        self._RGB_r = None\n",
    "        self._RGB_d = None\n",
    "\n",
    "        self._compression_threshold_chromaticity_diagram_plot = None\n",
    "\n",
    "        self._reset_compression_controls_Button = None\n",
    "        self._compression_threshold_FloatSlider = None\n",
    "\n",
    "        self.initialize_data()\n",
    "        self.initialize_axes()\n",
    "        self.initialise_widgets()\n",
    "        self.attach_callbacks()\n",
    "\n",
    "        self.update_widget(None)\n",
    "\n",
    "    def initialize_data(self):\n",
    "        super().initialize_data()\n",
    "\n",
    "        # *** Reference Image ***\n",
    "        self._RGB_r = self._reference_image_working\n",
    "\n",
    "        # *** Decimated Image, i.e. Scatter ***\n",
    "        self._RGB_d = self._decimated_image_working\n",
    "\n",
    "    def initialize_axes(self):\n",
    "        super().initialize_axes()\n",
    "\n",
    "\n",
    "    def initialise_widgets(self):\n",
    "        super().initialise_widgets()\n",
    "\n",
    "        # *** Widgets ***\n",
    "        self._reset_compression_controls_Button = (\n",
    "            ipywidgets.widgets.Button(\n",
    "                description=\"Reset Compression Controls\"))\n",
    "        self._compression_threshold_FloatSlider = (\n",
    "            ipywidgets.widgets.FloatSlider(\n",
    "                min=0.0,\n",
    "                max=1.0,\n",
    "                step=0.01,\n",
    "                value=self._compression_threshold,\n",
    "                description='Compression Threshold'))\n",
    "\n",
    "        # *** Layout ***\n",
    "        self._compression_controls_HBox = ipywidgets.widgets.HBox([\n",
    "            self._reset_compression_controls_Button,\n",
    "            self._compression_threshold_FloatSlider\n",
    "        ])\n",
    "\n",
    "        self._controls_Tab.children += (\n",
    "            self._compression_controls_HBox,\n",
    "        )\n",
    "\n",
    "        self._controls_Tab.set_title(1, 'Compression Controls')\n",
    "\n",
    "    def attach_callbacks(self):\n",
    "        super().attach_callbacks()\n",
    "\n",
    "        self._reset_compression_controls_Button.on_click(\n",
    "            self.reset_compression_controls)\n",
    "        self._compression_threshold_FloatSlider.observe(\n",
    "            self.update_widget, 'value')\n",
    "\n",
    "    def reset_compression_controls(self, change):\n",
    "        self._compression_threshold_FloatSlider.value = (\n",
    "            self._compression_threshold)\n",
    "\n",
    "        self.update_widget(None)\n",
    "\n",
    "    def medicina(self, RGB, C_t=0.8):\n",
    "        C_t = 1 - C_t\n",
    "\n",
    "        L = np.max(RGB, axis=-1)[..., np.newaxis]\n",
    "\n",
    "        D = np.abs(RGB - L) / L\n",
    "\n",
    "        D_c = tanh_compression_function(D, C_t, 1 - C_t)\n",
    "\n",
    "        RGB_c = L - D_c * L\n",
    "\n",
    "        return RGB_c\n",
    "\n",
    "    def update_chromaticity_diagram_axes(self, C_t):\n",
    "        RGB_r_s = self.medicina(self._RGB_d, C_t).reshape(-1, 3)\n",
    "        self.update_scatter_plot(RGB_r_s)\n",
    "\n",
    "    def update_reference_image_axes(self, C_t):\n",
    "        RGB_r = self.medicina(self._RGB_r, C_t)\n",
    "        self._reference_image_mapped = RGB_r\n",
    "        self._reference_image_imshow.set_data(\n",
    "            self.working_space_to_display_space(RGB_r))\n",
    "\n",
    "    def update_widget(self, change):\n",
    "        super().update_widget(change)\n",
    "\n",
    "        if self._enable:\n",
    "            C_t = 1 - self._compression_threshold_FloatSlider.value\n",
    "\n",
    "            self.update_chromaticity_diagram_axes(C_t)\n",
    "            self.update_reference_image_axes(C_t)\n",
    "\n",
    "            self._figure.canvas.draw_idle()\n",
    "\n",
    "\n",
    "GamutMedicinaRGBSaturationWidget(\n",
    "    '../resources/images/A009C002_190210_R0EI_Alexa_LogCWideGamut.exr')"
   ]
  },
  {
   "cell_type": "code",
   "execution_count": 15,
   "metadata": {},
   "outputs": [
    {
     "data": {
      "application/vnd.jupyter.widget-view+json": {
       "model_id": "d751c11250824e2886616cfddace7f1b",
       "version_major": 2,
       "version_minor": 0
      },
      "text/plain": [
       "GamutMedicinaHSVControlWidget(children=(Output(layout=Layout(border='solid 4px #222', margin='4px', padding='0…"
      ]
     },
     "metadata": {},
     "output_type": "display_data"
    }
   ],
   "source": [
    "GamutMedicinaHSVControlWidget(\n",
    "    '../resources/images/A009C002_190210_R0EI_Alexa_LogCWideGamut.exr',\n",
    "    enable_colour_wheel=False)"
   ]
  },
  {
   "cell_type": "code",
   "execution_count": 16,
   "metadata": {},
   "outputs": [
    {
     "data": {
      "application/vnd.jupyter.widget-view+json": {
       "model_id": "0db46779e07b44f29a714858eec5c46d",
       "version_major": 2,
       "version_minor": 0
      },
      "text/plain": [
       "GamutMedicinaRGBSaturationWidget(children=(Output(layout=Layout(border='solid 4px #222', margin='4px', padding…"
      ]
     },
     "metadata": {},
     "output_type": "display_data"
    }
   ],
   "source": [
    "GamutMedicinaRGBSaturationWidget(\n",
    "    '../resources/images/Carol Payne - J001_C001_08178N_001.exr')"
   ]
  },
  {
   "cell_type": "code",
   "execution_count": 17,
   "metadata": {},
   "outputs": [
    {
     "data": {
      "application/vnd.jupyter.widget-view+json": {
       "model_id": "fd5350d20e314324a7cf5ba8626414ec",
       "version_major": 2,
       "version_minor": 0
      },
      "text/plain": [
       "GamutMedicinaRGBSaturationWidget(children=(Output(layout=Layout(border='solid 4px #222', margin='4px', padding…"
      ]
     },
     "metadata": {},
     "output_type": "display_data"
    }
   ],
   "source": [
    "GamutMedicinaRGBSaturationWidget(\n",
    "    '../resources/images/Cornell_Box_Rigid_Spheres_190_Patch_Roughplastic_Point_Grey_Grasshopper_50S5C_RGB_W.exr')"
   ]
  },
  {
   "cell_type": "markdown",
   "metadata": {},
   "source": [
    "## Musings"
   ]
  },
  {
   "cell_type": "code",
   "execution_count": 18,
   "metadata": {},
   "outputs": [],
   "source": [
    "colour.write_image(\n",
    "    colour_wheel(clip_circle=False)[..., 0:3],\n",
    "    '../resources/images/Colour_Wheel.exr')"
   ]
  },
  {
   "cell_type": "code",
   "execution_count": 19,
   "metadata": {},
   "outputs": [
    {
     "data": {
      "application/vnd.jupyter.widget-view+json": {
       "model_id": "14045af53e7440eebc7ba0c6a41357e3",
       "version_major": 2,
       "version_minor": 0
      },
      "text/plain": [
       "GamutMedicinaHSVControlWidget(children=(Output(layout=Layout(border='solid 4px #222', margin='4px', padding='0…"
      ]
     },
     "metadata": {},
     "output_type": "display_data"
    }
   ],
   "source": [
    "GamutMedicinaHSVControlWidget(\n",
    "    '../resources/images/Colour_Wheel.exr',\n",
    "    protected_area_threshold=0.5,\n",
    "    compression_threshold=0.5,\n",
    "    enable_colour_wheel=False)"
   ]
  },
  {
   "cell_type": "code",
   "execution_count": 20,
   "metadata": {},
   "outputs": [
    {
     "data": {
      "application/vnd.jupyter.widget-view+json": {
       "model_id": "a7813fce85404514ad226eb53568a2a4",
       "version_major": 2,
       "version_minor": 0
      },
      "text/plain": [
       "GamutMedicinaRGBSaturationWidget(children=(Output(layout=Layout(border='solid 4px #222', margin='4px', padding…"
      ]
     },
     "metadata": {},
     "output_type": "display_data"
    }
   ],
   "source": [
    "GamutMedicinaRGBSaturationWidget(\n",
    "    '../resources/images/Colour_Wheel.exr',\n",
    "    compression_threshold=0.5)"
   ]
  }
 ],
 "metadata": {
  "colab": {
   "collapsed_sections": [],
   "name": "gamut_mapping_ramblings_01",
   "provenance": []
  },
  "kernelspec": {
   "display_name": "Python 3",
   "language": "python",
   "name": "python3"
  },
  "language_info": {
   "codemirror_mode": {
    "name": "ipython",
    "version": 3
   },
   "file_extension": ".py",
   "mimetype": "text/x-python",
   "name": "python",
   "nbconvert_exporter": "python",
   "pygments_lexer": "ipython3",
   "version": "3.7.6"
  },
  "widgets": {
   "application/vnd.jupyter.widget-state+json": {
    "state": {
     "003a863e60fd4e90873375d1d0499732": {
      "model_module": "@jupyter-widgets/controls",
      "model_module_version": "1.5.0",
      "model_name": "FloatSliderModel",
      "state": {
       "description": "315°",
       "layout": "IPY_MODEL_c6b47620c47046519a3eb7e6812ad34f",
       "max": 1,
       "min": -1,
       "step": 0.01,
       "style": "IPY_MODEL_c1edd04142c24c5ea994d08e2e91e234"
      }
     },
     "0102fb76eb5144088f929f2e8456550f": {
      "model_module": "@jupyter-widgets/base",
      "model_module_version": "1.2.0",
      "model_name": "LayoutModel",
      "state": {
       "border": "solid 4px #222",
       "margin": "4px",
       "padding": "0"
      }
     },
     "020efab37c124b8a9fee67972ff72fc4": {
      "model_module": "@jupyter-widgets/controls",
      "model_module_version": "1.5.0",
      "model_name": "VBoxModel",
      "state": {
       "children": [
        "IPY_MODEL_e9ed9909b50944a8ae9b5c7c121bab9b",
        "IPY_MODEL_556734a439a34209898b9a595d6f4bf0",
        "IPY_MODEL_4b7660bf05984763b9f417bc14aec6a1"
       ],
       "layout": "IPY_MODEL_c8d394a2c7a045a5884d335cfc27b49d"
      }
     },
     "022489ffd98e4927abdf998e3d283417": {
      "model_module": "@jupyter-widgets/controls",
      "model_module_version": "1.5.0",
      "model_name": "ButtonModel",
      "state": {
       "description": "Reset Hue Controls",
       "layout": "IPY_MODEL_68f54a184f7e4e9a986712b51d1fadb0",
       "style": "IPY_MODEL_c8cb94564a6b492980bfce61ae80cfaf"
      }
     },
     "02526000eebc4897878279291f775532": {
      "model_module": "@jupyter-widgets/controls",
      "model_module_version": "1.5.0",
      "model_name": "SliderStyleModel",
      "state": {
       "description_width": ""
      }
     },
     "02980cb6b32049e88b25f84446c31c04": {
      "model_module": "@jupyter-widgets/controls",
      "model_module_version": "1.5.0",
      "model_name": "ButtonModel",
      "state": {
       "description": "Export Image",
       "layout": "IPY_MODEL_704fcce4a77d43ad804fe778f6bba36f",
       "style": "IPY_MODEL_b34d7be01512420b831f92ec4b0d0aba"
      }
     },
     "02b709496f4c4d028c25bf952afe4aee": {
      "model_module": "@jupyter-widgets/controls",
      "model_module_version": "1.5.0",
      "model_name": "ButtonModel",
      "state": {
       "description": "Save Figure",
       "layout": "IPY_MODEL_6a4bfa8947104e84b475c7a6850f324b",
       "style": "IPY_MODEL_60204875c34a492ea5672bc89702a6d3"
      }
     },
     "02c419f312f346d9952b1926c150ab44": {
      "model_module": "@jupyter-widgets/base",
      "model_module_version": "1.2.0",
      "model_name": "LayoutModel",
      "state": {
       "border": "solid 4px #222",
       "margin": "4px",
       "padding": "0"
      }
     },
     "02db668f4cde40e2a102cd9ecf4e59ba": {
      "model_module": "@jupyter-widgets/base",
      "model_module_version": "1.2.0",
      "model_name": "LayoutModel",
      "state": {}
     },
     "02f50a1beb324b7a84554a8c7529a446": {
      "model_module": "@jupyter-widgets/base",
      "model_module_version": "1.2.0",
      "model_name": "LayoutModel",
      "state": {
       "align_items": "stretch",
       "display": "flex",
       "flex_flow": "column",
       "width": "1128px"
      }
     },
     "033dfac7fd47410293a561409cc0cf48": {
      "model_module": "@jupyter-widgets/base",
      "model_module_version": "1.2.0",
      "model_name": "LayoutModel",
      "state": {}
     },
     "03418be10d1e440184b7c2ad6e41aed8": {
      "model_module": "@jupyter-widgets/controls",
      "model_module_version": "1.5.0",
      "model_name": "FloatSliderModel",
      "state": {
       "description": "180°",
       "layout": "IPY_MODEL_ab72ba0831c14bd591730bf8d891a3d5",
       "max": 1,
       "min": -1,
       "step": 0.01,
       "style": "IPY_MODEL_a841a2caf29b45e4bed5b33c78c32629"
      }
     },
     "038f7cb8bcc34a92960d08e076691dd1": {
      "model_module": "@jupyter-widgets/controls",
      "model_module_version": "1.5.0",
      "model_name": "ButtonStyleModel",
      "state": {}
     },
     "03e8e47743e64a2d93993a0bdfe7e810": {
      "model_module": "@jupyter-widgets/controls",
      "model_module_version": "1.5.0",
      "model_name": "ButtonModel",
      "state": {
       "description": "Reset Saturation Controls",
       "layout": "IPY_MODEL_969bf35bc7914dc3bbe1349f9aa25a4d",
       "style": "IPY_MODEL_cf192bb1463745f5af11272f85f06ac2"
      }
     },
     "0468c9ad4e7b4366b5e58acf8e2e7399": {
      "model_module": "@jupyter-widgets/base",
      "model_module_version": "1.2.0",
      "model_name": "LayoutModel",
      "state": {}
     },
     "047ce6f1cbbd4139a3734eed36ddaef6": {
      "model_module": "@jupyter-widgets/controls",
      "model_module_version": "1.5.0",
      "model_name": "FloatSliderModel",
      "state": {
       "description": "Compression Threshold",
       "layout": "IPY_MODEL_1401e9de20b64c4ca27cadea3fca37cb",
       "max": 1,
       "step": 0.01,
       "style": "IPY_MODEL_a5789e584ab5431a85d617cf18ff87cb",
       "value": 0.8
      }
     },
     "048635ad99214f629643b3a5d199846d": {
      "model_module": "@jupyter-widgets/base",
      "model_module_version": "1.2.0",
      "model_name": "LayoutModel",
      "state": {}
     },
     "048e7625f913420c895466924a4f407e": {
      "model_module": "@jupyter-widgets/controls",
      "model_module_version": "1.5.0",
      "model_name": "ButtonStyleModel",
      "state": {}
     },
     "051aeb4a2ca24770998f702f906b5151": {
      "model_module": "@jupyter-widgets/base",
      "model_module_version": "1.2.0",
      "model_name": "LayoutModel",
      "state": {}
     },
     "05358a1887284cbeb6400128f3036f91": {
      "model_module": "@jupyter-widgets/controls",
      "model_module_version": "1.5.0",
      "model_name": "ButtonModel",
      "state": {
       "description": "Export Image",
       "layout": "IPY_MODEL_5bcfb58a0bf14df29bfe859b6f49a728",
       "style": "IPY_MODEL_0a2d1946efee474ea08ae6b6f176ffdb"
      }
     },
     "05767424254c4c2dbd4daf51ab3b5d69": {
      "model_module": "@jupyter-widgets/controls",
      "model_module_version": "1.5.0",
      "model_name": "ButtonModel",
      "state": {
       "description": "Save Figure",
       "layout": "IPY_MODEL_82b6f799da3545beb8502ac87c121412",
       "style": "IPY_MODEL_e14b3c44956f4ca49e4fcc621679f67f"
      }
     },
     "057ee79a32dc455091847d769005fb7a": {
      "model_module": "@jupyter-widgets/controls",
      "model_module_version": "1.5.0",
      "model_name": "ButtonStyleModel",
      "state": {}
     },
     "059e7ee6453c433abe675e875ccf6998": {
      "model_module": "@jupyter-widgets/controls",
      "model_module_version": "1.5.0",
      "model_name": "VBoxModel",
      "state": {
       "children": [
        "IPY_MODEL_0cef05d06a364f3e880ae8aef9555e49"
       ],
       "layout": "IPY_MODEL_b5c486227dcc4f61a71859d626c39f49"
      }
     },
     "0625a3d6d9bf47c48266c7e14b67c95c": {
      "model_module": "@jupyter-widgets/controls",
      "model_module_version": "1.5.0",
      "model_name": "SliderStyleModel",
      "state": {
       "description_width": ""
      }
     },
     "06462666d5cd455fb074e8df3d135200": {
      "model_module": "@jupyter-widgets/controls",
      "model_module_version": "1.5.0",
      "model_name": "SliderStyleModel",
      "state": {
       "description_width": ""
      }
     },
     "0648ae48662c41b29c42d7ab6d3acea2": {
      "model_module": "@jupyter-widgets/controls",
      "model_module_version": "1.5.0",
      "model_name": "TabModel",
      "state": {
       "_titles": {
        "0": "Global Controls",
        "1": "Compression Controls"
       },
       "children": [
        "IPY_MODEL_902e3de05da74d63b2ecb0a2417c6af3",
        "IPY_MODEL_210d0b3a305a449b85a2d882b1f9cb00"
       ],
       "layout": "IPY_MODEL_b148f38adee340e8ad571bd4d5818372"
      }
     },
     "065d23f204aa49b08dec3abb25c72b59": {
      "model_module": "@jupyter-widgets/controls",
      "model_module_version": "1.5.0",
      "model_name": "ButtonStyleModel",
      "state": {}
     },
     "06be8745d43347348d2b09fb7a148976": {
      "model_module": "@jupyter-widgets/controls",
      "model_module_version": "1.5.0",
      "model_name": "SliderStyleModel",
      "state": {
       "description_width": ""
      }
     },
     "06d7a0439890453c88fdb1f01ad2cb86": {
      "model_module": "@jupyter-widgets/base",
      "model_module_version": "1.2.0",
      "model_name": "LayoutModel",
      "state": {}
     },
     "06f5c7d8070a480a84a642a32a084915": {
      "model_module": "@jupyter-widgets/base",
      "model_module_version": "1.2.0",
      "model_name": "LayoutModel",
      "state": {}
     },
     "07262298e6824e1798d360973d3ef223": {
      "model_module": "@jupyter-widgets/controls",
      "model_module_version": "1.5.0",
      "model_name": "VBoxModel",
      "state": {
       "children": [
        "IPY_MODEL_f718ac35b8774268999d6f60af81efd9",
        "IPY_MODEL_6d407499f7504fc489d965f41fbcfa86",
        "IPY_MODEL_a9bdc14f87404728a09a7237647aa504"
       ],
       "layout": "IPY_MODEL_c6cebd98607f4f09ae88f75fe67a80b1"
      }
     },
     "075909a8670d4bb4ae9e344990002702": {
      "model_module": "@jupyter-widgets/controls",
      "model_module_version": "1.5.0",
      "model_name": "FloatSliderModel",
      "state": {
       "description": "90°",
       "layout": "IPY_MODEL_788e4ddba6be41c4b6a6e3ef8a0c757d",
       "max": 1,
       "min": -1,
       "step": 0.01,
       "style": "IPY_MODEL_1fe6ee46b88b408c8ada3b02ebd8450e"
      }
     },
     "0767d7a16999416f8a436cd33aa643a1": {
      "model_module": "@jupyter-widgets/controls",
      "model_module_version": "1.5.0",
      "model_name": "ButtonModel",
      "state": {
       "description": "Save Figure",
       "layout": "IPY_MODEL_c00eee1bb17145e8b92eaacaa7cdff10",
       "style": "IPY_MODEL_206f7b19525741038edbfbee8b01c926"
      }
     },
     "07cbaca49f3e4806a98ac8f701890360": {
      "model_module": "@jupyter-widgets/base",
      "model_module_version": "1.2.0",
      "model_name": "LayoutModel",
      "state": {
       "align_items": "stretch",
       "display": "flex",
       "flex_flow": "column",
       "width": "1128px"
      }
     },
     "07df66fc6b844c6ba62dff60ab1b1886": {
      "model_module": "@jupyter-widgets/base",
      "model_module_version": "1.2.0",
      "model_name": "LayoutModel",
      "state": {}
     },
     "08c602b8a1e24da1b7edc7c9d6ac49be": {
      "model_module": "@jupyter-widgets/base",
      "model_module_version": "1.2.0",
      "model_name": "LayoutModel",
      "state": {}
     },
     "08d45648f20f4ca697d7f0c93e845bb3": {
      "model_module": "@jupyter-widgets/controls",
      "model_module_version": "1.5.0",
      "model_name": "ButtonModel",
      "state": {
       "description": "Reset Protected Area",
       "layout": "IPY_MODEL_67b8b666ab534a4ebc02ea20df152f4e",
       "style": "IPY_MODEL_23dcfeefe7774c249b6b14b51e604285"
      }
     },
     "08e8e51f88f94546904226ccaeb9bd4c": {
      "model_module": "@jupyter-widgets/controls",
      "model_module_version": "1.5.0",
      "model_name": "CheckboxModel",
      "state": {
       "description": "Disable Medicina",
       "disabled": false,
       "layout": "IPY_MODEL_bd7b26e717f64f7e8d0ce7ae50cdf667",
       "style": "IPY_MODEL_b52389d10fad40d1b837ae7aa98c1b98",
       "value": false
      }
     },
     "0957bd784bd74811ae51d80ee8131b09": {
      "model_module": "@jupyter-widgets/base",
      "model_module_version": "1.2.0",
      "model_name": "LayoutModel",
      "state": {}
     },
     "09b8fcb846d94b6ead94740977aa9c4d": {
      "model_module": "@jupyter-widgets/base",
      "model_module_version": "1.2.0",
      "model_name": "LayoutModel",
      "state": {}
     },
     "09e432dde26449498e20c432730709b8": {
      "model_module": "@jupyter-widgets/base",
      "model_module_version": "1.2.0",
      "model_name": "LayoutModel",
      "state": {}
     },
     "0a014139efa948e795972a958220831d": {
      "model_module": "@jupyter-widgets/controls",
      "model_module_version": "1.5.0",
      "model_name": "ButtonStyleModel",
      "state": {}
     },
     "0a03c626b0c34baba5a0fe8066433f9d": {
      "model_module": "@jupyter-widgets/base",
      "model_module_version": "1.2.0",
      "model_name": "LayoutModel",
      "state": {}
     },
     "0a22b981797941a8ad0a509c58f865af": {
      "model_module": "jupyter-matplotlib",
      "model_module_version": "^0.7.2",
      "model_name": "ToolbarModel",
      "state": {
       "layout": "IPY_MODEL_3225a6ef177549079e4bb44f44aacbad",
       "toolitems": [
        [
         "Home",
         "Reset original view",
         "home",
         "home"
        ],
        [
         "Back",
         "Back to previous view",
         "arrow-left",
         "back"
        ],
        [
         "Forward",
         "Forward to next view",
         "arrow-right",
         "forward"
        ],
        [
         "Pan",
         "Pan axes with left mouse, zoom with right",
         "arrows",
         "pan"
        ],
        [
         "Zoom",
         "Zoom to rectangle",
         "square-o",
         "zoom"
        ],
        [
         "Download",
         "Download plot",
         "floppy-o",
         "save_figure"
        ]
       ]
      }
     },
     "0a2d1946efee474ea08ae6b6f176ffdb": {
      "model_module": "@jupyter-widgets/controls",
      "model_module_version": "1.5.0",
      "model_name": "ButtonStyleModel",
      "state": {}
     },
     "0ac457f2858c43d8bb945b2a3ccc3572": {
      "model_module": "jupyter-matplotlib",
      "model_module_version": "^0.7.2",
      "model_name": "MPLCanvasModel",
      "state": {
       "_figure_label": "Figure 5",
       "_height": 518,
       "_width": 1100,
       "header_visible": false,
       "layout": "IPY_MODEL_827733f8fff94fc7b120d4f2adf4696c",
       "resizable": false,
       "toolbar": "IPY_MODEL_c311c4dcb85d4a0088312d5c230142e4",
       "toolbar_position": "left",
       "toolbar_visible": false
      }
     },
     "0b3412d4d5c74d6d958ffe41bbc7e6fa": {
      "model_module": "@jupyter-widgets/base",
      "model_module_version": "1.2.0",
      "model_name": "LayoutModel",
      "state": {}
     },
     "0b63c050b0c54940a27661c6881866cc": {
      "model_module": "@jupyter-widgets/controls",
      "model_module_version": "1.5.0",
      "model_name": "FloatSliderModel",
      "state": {
       "description": "Compression Threshold",
       "layout": "IPY_MODEL_f1ee9a79741d4834acb7998b0bdfa9fb",
       "max": 1,
       "step": 0.01,
       "style": "IPY_MODEL_c65d05b4e6624e3dbe77a468b0aa1346",
       "value": 0.8
      }
     },
     "0c788e6a8bb743f593648b60eb4ea9ae": {
      "model_module": "@jupyter-widgets/base",
      "model_module_version": "1.2.0",
      "model_name": "LayoutModel",
      "state": {}
     },
     "0ca6882ec69e4c639359ddba79fc82c9": {
      "model_module": "@jupyter-widgets/controls",
      "model_module_version": "1.5.0",
      "model_name": "ButtonStyleModel",
      "state": {}
     },
     "0cb6134ec4c34914adbd4f640ab18e3a": {
      "model_module": "@jupyter-widgets/controls",
      "model_module_version": "1.5.0",
      "model_name": "SliderStyleModel",
      "state": {
       "description_width": ""
      }
     },
     "0cef05d06a364f3e880ae8aef9555e49": {
      "model_module": "@jupyter-widgets/controls",
      "model_module_version": "1.5.0",
      "model_name": "ButtonModel",
      "state": {
       "description": "Reset Hue Controls",
       "layout": "IPY_MODEL_46cf84a8399c40a7850493a17c23f51d",
       "style": "IPY_MODEL_d6b2879a99cb499ead75442c3e9be8a8"
      }
     },
     "0d1f27ea0c5641b6922e24657616038a": {
      "model_module": "@jupyter-widgets/controls",
      "model_module_version": "1.5.0",
      "model_name": "SliderStyleModel",
      "state": {
       "description_width": ""
      }
     },
     "0d531f3094984ce2ac90e7337b2d88c7": {
      "model_module": "@jupyter-widgets/controls",
      "model_module_version": "1.5.0",
      "model_name": "CheckboxModel",
      "state": {
       "description": "Disable Medicina",
       "disabled": false,
       "layout": "IPY_MODEL_968d31e665dd415c984d77fd275060f6",
       "style": "IPY_MODEL_1d8d47956f9b442688067ad8d50aa66c",
       "value": false
      }
     },
     "0db46779e07b44f29a714858eec5c46d": {
      "model_module": "@jupyter-widgets/controls",
      "model_module_version": "1.5.0",
      "model_name": "BoxModel",
      "state": {
       "children": [
        "IPY_MODEL_5b42ac0d898e49ecba493a9249181b68",
        "IPY_MODEL_5a0442a22a7f48a096717d4e44c21698"
       ],
       "layout": "IPY_MODEL_948bc4000a26450e98c632da9d87cbac"
      }
     },
     "0e130ca8258f49c7ba70b7e858dbbe79": {
      "model_module": "@jupyter-widgets/controls",
      "model_module_version": "1.5.0",
      "model_name": "HBoxModel",
      "state": {
       "children": [
        "IPY_MODEL_84e3aed1a57840fb9471ce159788ee8b",
        "IPY_MODEL_81e6770115e242dd8c5d6a70db5d9fba",
        "IPY_MODEL_27b9cb5bd3d64ad8b2f82b5f54d86c53"
       ],
       "layout": "IPY_MODEL_aa753300749d4ab99863ddef5541507e"
      }
     },
     "0e143a5c4e444d369e7164d3d7059bba": {
      "model_module": "@jupyter-widgets/base",
      "model_module_version": "1.2.0",
      "model_name": "LayoutModel",
      "state": {}
     },
     "0e53e7f68b7d40fa92a2ec54c94d194b": {
      "model_module": "@jupyter-widgets/controls",
      "model_module_version": "1.5.0",
      "model_name": "ButtonStyleModel",
      "state": {}
     },
     "0eab87e42141469ab54ddc2d8a3ab357": {
      "model_module": "@jupyter-widgets/controls",
      "model_module_version": "1.5.0",
      "model_name": "SliderStyleModel",
      "state": {
       "description_width": ""
      }
     },
     "0ebca998222247378aea05c20d46caf3": {
      "model_module": "@jupyter-widgets/controls",
      "model_module_version": "1.5.0",
      "model_name": "FloatSliderModel",
      "state": {
       "description": "270°",
       "layout": "IPY_MODEL_51927ac5199049e6ac451186e2a06f42",
       "max": 1,
       "min": -1,
       "step": 0.01,
       "style": "IPY_MODEL_912a0190b4fd4b55afc04c0a2a4653f7"
      }
     },
     "0ee17b5d8ea640d9ba23a1217f1a0566": {
      "model_module": "@jupyter-widgets/controls",
      "model_module_version": "1.5.0",
      "model_name": "ButtonStyleModel",
      "state": {}
     },
     "0ef47776fac04f3e994b8cfb39b9b8ff": {
      "model_module": "@jupyter-widgets/base",
      "model_module_version": "1.2.0",
      "model_name": "LayoutModel",
      "state": {}
     },
     "0f163b47871447b198d9463fc07e955d": {
      "model_module": "@jupyter-widgets/controls",
      "model_module_version": "1.5.0",
      "model_name": "SliderStyleModel",
      "state": {
       "description_width": ""
      }
     },
     "0f7ee72208e246a887fc40663864ac79": {
      "model_module": "@jupyter-widgets/base",
      "model_module_version": "1.2.0",
      "model_name": "LayoutModel",
      "state": {
       "align_items": "stretch",
       "display": "flex",
       "flex_flow": "column",
       "width": "1128px"
      }
     },
     "0fc1bbf5cc7545759614fe59fbce29cb": {
      "model_module": "jupyter-matplotlib",
      "model_module_version": "^0.7.2",
      "model_name": "ToolbarModel",
      "state": {
       "layout": "IPY_MODEL_ec4cf1c9f1254c12a25c89e87f260c36",
       "toolitems": [
        [
         "Home",
         "Reset original view",
         "home",
         "home"
        ],
        [
         "Back",
         "Back to previous view",
         "arrow-left",
         "back"
        ],
        [
         "Forward",
         "Forward to next view",
         "arrow-right",
         "forward"
        ],
        [
         "Pan",
         "Pan axes with left mouse, zoom with right",
         "arrows",
         "pan"
        ],
        [
         "Zoom",
         "Zoom to rectangle",
         "square-o",
         "zoom"
        ],
        [
         "Download",
         "Download plot",
         "floppy-o",
         "save_figure"
        ]
       ]
      }
     },
     "10282fe8b19643d1963b49af7f85f99d": {
      "model_module": "@jupyter-widgets/base",
      "model_module_version": "1.2.0",
      "model_name": "LayoutModel",
      "state": {}
     },
     "1030ace607c644eab8ad6c89e01e806a": {
      "model_module": "@jupyter-widgets/controls",
      "model_module_version": "1.5.0",
      "model_name": "FloatSliderModel",
      "state": {
       "description": "Compression Threshold",
       "layout": "IPY_MODEL_5101f38efc4847b3b5d7b51abacd9ee2",
       "max": 1,
       "step": 0.01,
       "style": "IPY_MODEL_f6a51e4443bc4e04a900e380584d03e4",
       "value": 0.5
      }
     },
     "10721b7395a240ccacc4cf5ab5cf1826": {
      "model_module": "@jupyter-widgets/base",
      "model_module_version": "1.2.0",
      "model_name": "LayoutModel",
      "state": {}
     },
     "1075be34637c4ca38b61242711a33af1": {
      "model_module": "@jupyter-widgets/base",
      "model_module_version": "1.2.0",
      "model_name": "LayoutModel",
      "state": {}
     },
     "10820a0fbece41c197fb20deff688d82": {
      "model_module": "@jupyter-widgets/base",
      "model_module_version": "1.2.0",
      "model_name": "LayoutModel",
      "state": {}
     },
     "10950b8e96bd4e278eb160f56ede4cec": {
      "model_module": "@jupyter-widgets/controls",
      "model_module_version": "1.5.0",
      "model_name": "FloatSliderModel",
      "state": {
       "description": "270°",
       "layout": "IPY_MODEL_808a727f386e49788e97000905dba8f2",
       "max": 1,
       "min": -1,
       "step": 0.01,
       "style": "IPY_MODEL_18a85bd38ad04f94bbc45c22500b2ad8"
      }
     },
     "10ab723d676d4a96af1c12e77f01691e": {
      "model_module": "@jupyter-widgets/controls",
      "model_module_version": "1.5.0",
      "model_name": "SliderStyleModel",
      "state": {
       "description_width": ""
      }
     },
     "10abcc9d81d24389ad1870109d8c62b9": {
      "model_module": "@jupyter-widgets/controls",
      "model_module_version": "1.5.0",
      "model_name": "HBoxModel",
      "state": {
       "children": [
        "IPY_MODEL_6d1ba1888df4422e826a5253400017fc",
        "IPY_MODEL_e4726a6228a2407fb2bc2fea3bab02c7",
        "IPY_MODEL_0767d7a16999416f8a436cd33aa643a1"
       ],
       "layout": "IPY_MODEL_b0edf977f44c4565bcf8b57a63d636d3"
      }
     },
     "10e4ad4032e24f4da6cf9e5a67a1ca48": {
      "model_module": "@jupyter-widgets/controls",
      "model_module_version": "1.5.0",
      "model_name": "FloatSliderModel",
      "state": {
       "description": "270°",
       "layout": "IPY_MODEL_685cc81513ae4f3189df0df219612c2a",
       "max": 1,
       "min": -1,
       "step": 0.01,
       "style": "IPY_MODEL_499a7237649941e4af80a12ddbe2be4f"
      }
     },
     "110e472c5e454779b54f9aeba5a82ff7": {
      "model_module": "@jupyter-widgets/controls",
      "model_module_version": "1.5.0",
      "model_name": "FloatSliderModel",
      "state": {
       "description": "135°",
       "layout": "IPY_MODEL_4370117375ec4b0ab4c12b385fc333bd",
       "max": 1,
       "min": -1,
       "step": 0.01,
       "style": "IPY_MODEL_16711c259d0e48bd8f864b4803eee9c8"
      }
     },
     "11216a54614542f4ae2725d13ea963f4": {
      "model_module": "@jupyter-widgets/base",
      "model_module_version": "1.2.0",
      "model_name": "LayoutModel",
      "state": {}
     },
     "1137b520cce74136b6868fec8ecc655a": {
      "model_module": "@jupyter-widgets/base",
      "model_module_version": "1.2.0",
      "model_name": "LayoutModel",
      "state": {}
     },
     "118785f91d98432b97f360cae2acea7d": {
      "model_module": "@jupyter-widgets/base",
      "model_module_version": "1.2.0",
      "model_name": "LayoutModel",
      "state": {
       "align_items": "stretch",
       "display": "flex",
       "flex_flow": "column",
       "width": "1128px"
      }
     },
     "118a7f6779d7415eac1115b7612d70c8": {
      "model_module": "@jupyter-widgets/controls",
      "model_module_version": "1.5.0",
      "model_name": "VBoxModel",
      "state": {
       "children": [
        "IPY_MODEL_43aaa9ba46c742648199acc25eb74c81"
       ],
       "layout": "IPY_MODEL_e51ee04f95c047eaaa46d5a5994b5808"
      }
     },
     "11ed5f03e3ed4446905d93fee9e43fcc": {
      "model_module": "@jupyter-widgets/base",
      "model_module_version": "1.2.0",
      "model_name": "LayoutModel",
      "state": {}
     },
     "123bde2625134e4b96c8dd595c4d33db": {
      "model_module": "@jupyter-widgets/controls",
      "model_module_version": "1.5.0",
      "model_name": "FloatSliderModel",
      "state": {
       "description": "225°",
       "layout": "IPY_MODEL_29fdebda7a6a42af881350b7b3e23157",
       "max": 1,
       "min": -1,
       "step": 0.01,
       "style": "IPY_MODEL_5aee3a934c0c4cc4aef23ca6db9deaf1"
      }
     },
     "1286328599e84ddaa66c2e00decf36e7": {
      "model_module": "@jupyter-widgets/controls",
      "model_module_version": "1.5.0",
      "model_name": "FloatSliderModel",
      "state": {
       "description": "315°",
       "layout": "IPY_MODEL_b54e3ce3c4724ba0b9d3823337990d0f",
       "max": 1,
       "min": -1,
       "step": 0.01,
       "style": "IPY_MODEL_97074e20699d4caca69ae7f8a5855fb3"
      }
     },
     "12a204a74a5f445cab8a49bf0f5ad218": {
      "model_module": "@jupyter-widgets/controls",
      "model_module_version": "1.5.0",
      "model_name": "FloatSliderModel",
      "state": {
       "description": "270°",
       "layout": "IPY_MODEL_79830bb3ae7f42c191f82994ff955278",
       "max": 1,
       "min": -1,
       "step": 0.01,
       "style": "IPY_MODEL_aeb5667ba85e470f80e608c0def46f30"
      }
     },
     "12e16d3f4a5e46dcb1b89fc2b646514e": {
      "model_module": "@jupyter-widgets/base",
      "model_module_version": "1.2.0",
      "model_name": "LayoutModel",
      "state": {}
     },
     "1334678b85f14be0b51f18ff3f6822af": {
      "model_module": "@jupyter-widgets/controls",
      "model_module_version": "1.5.0",
      "model_name": "SliderStyleModel",
      "state": {
       "description_width": ""
      }
     },
     "1360f87ed44b485d8bf03d75cdb11573": {
      "model_module": "@jupyter-widgets/controls",
      "model_module_version": "1.5.0",
      "model_name": "BoxModel",
      "state": {
       "children": [
        "IPY_MODEL_49d53d3d3a3b4e4fad6ef703fd62595f",
        "IPY_MODEL_2ca425dc84864aa882b7f3f886bdc7f7"
       ],
       "layout": "IPY_MODEL_07cbaca49f3e4806a98ac8f701890360"
      }
     },
     "13765994fc66402cb86890b0727a24c5": {
      "model_module": "@jupyter-widgets/controls",
      "model_module_version": "1.5.0",
      "model_name": "TabModel",
      "state": {
       "_titles": {
        "0": "Global Controls"
       },
       "children": [
        "IPY_MODEL_37436f242081425f83af893c2e7c8aac"
       ],
       "layout": "IPY_MODEL_fc962fecb23144fdaea3ccc56e5c046e"
      }
     },
     "1379844a42684c9eafdae5127c1d43db": {
      "model_module": "@jupyter-widgets/base",
      "model_module_version": "1.2.0",
      "model_name": "LayoutModel",
      "state": {}
     },
     "13865ea878414923af820e76ea7ae58b": {
      "model_module": "@jupyter-widgets/base",
      "model_module_version": "1.2.0",
      "model_name": "LayoutModel",
      "state": {}
     },
     "13b076bb3d4f4a209203234199ea77c3": {
      "model_module": "@jupyter-widgets/controls",
      "model_module_version": "1.5.0",
      "model_name": "FloatSliderModel",
      "state": {
       "description": "0°",
       "layout": "IPY_MODEL_b37b8ddf6c254214a8ce5abe7b0e2386",
       "max": 1,
       "min": -1,
       "step": 0.01,
       "style": "IPY_MODEL_52dacff4fa17406b88bec098dcc6fb83"
      }
     },
     "13e3bbbefa0f4ceda8df8b35155df4c8": {
      "model_module": "@jupyter-widgets/controls",
      "model_module_version": "1.5.0",
      "model_name": "ButtonModel",
      "state": {
       "description": "Reset Protected Area",
       "layout": "IPY_MODEL_76d9511f96f449b59374d3047e0d3581",
       "style": "IPY_MODEL_7304386a0d554a81a144ecb794fe5936"
      }
     },
     "1401e9de20b64c4ca27cadea3fca37cb": {
      "model_module": "@jupyter-widgets/base",
      "model_module_version": "1.2.0",
      "model_name": "LayoutModel",
      "state": {}
     },
     "14045af53e7440eebc7ba0c6a41357e3": {
      "model_module": "@jupyter-widgets/controls",
      "model_module_version": "1.5.0",
      "model_name": "BoxModel",
      "state": {
       "children": [
        "IPY_MODEL_6a60256660da44feb6a79e4d986e5111",
        "IPY_MODEL_def3fd594d474858ab53e9dd26542a43"
       ],
       "layout": "IPY_MODEL_fb5627347313432bbe2c9313378a7973"
      }
     },
     "143d5258ffff4968b6b23b4d34e5d384": {
      "model_module": "@jupyter-widgets/base",
      "model_module_version": "1.2.0",
      "model_name": "LayoutModel",
      "state": {}
     },
     "14798c8ed7d444f0b848a4be90260a86": {
      "model_module": "@jupyter-widgets/controls",
      "model_module_version": "1.5.0",
      "model_name": "DescriptionStyleModel",
      "state": {
       "description_width": ""
      }
     },
     "148427edc2324dba864b4d128abacc0e": {
      "model_module": "@jupyter-widgets/base",
      "model_module_version": "1.2.0",
      "model_name": "LayoutModel",
      "state": {}
     },
     "1488323f22094a14ab8dcc2a1955a589": {
      "model_module": "@jupyter-widgets/base",
      "model_module_version": "1.2.0",
      "model_name": "LayoutModel",
      "state": {}
     },
     "14b67dc642384d6e975a4d0de8d0020f": {
      "model_module": "@jupyter-widgets/base",
      "model_module_version": "1.2.0",
      "model_name": "LayoutModel",
      "state": {}
     },
     "14bf94298b4749adb288f0d960195ddc": {
      "model_module": "@jupyter-widgets/controls",
      "model_module_version": "1.5.0",
      "model_name": "DescriptionStyleModel",
      "state": {
       "description_width": ""
      }
     },
     "14c8132dd63247998a47f70697f38560": {
      "model_module": "@jupyter-widgets/controls",
      "model_module_version": "1.5.0",
      "model_name": "TabModel",
      "state": {
       "_titles": {
        "0": "Global Controls",
        "1": "Protected Area Controls",
        "2": "Saturation Controls",
        "3": "Hue Controls"
       },
       "children": [
        "IPY_MODEL_e6ab51f20fae4d6ba0b37411261265e2",
        "IPY_MODEL_8d3b69dbfb4d4a64a9647abcd4c5a6ae",
        "IPY_MODEL_38f7bcbb323647b98afd7b14670d954c",
        "IPY_MODEL_8215509975434d80998476b66ba665de"
       ],
       "layout": "IPY_MODEL_7301de85259f4a9fbb3cbd6b8bdc3fcc"
      }
     },
     "14d56594e6f144b3a1da023219767a9c": {
      "model_module": "@jupyter-widgets/controls",
      "model_module_version": "1.5.0",
      "model_name": "HBoxModel",
      "state": {
       "children": [
        "IPY_MODEL_f54421a8f4694673a1a209552a1b37ed",
        "IPY_MODEL_15cc9669af80481faa0d6ff681a832e2",
        "IPY_MODEL_02b709496f4c4d028c25bf952afe4aee"
       ],
       "layout": "IPY_MODEL_85f80df69f214c4090b011837bb95c3e"
      }
     },
     "1510868f1b9246e4bd444f1b23b927bc": {
      "model_module": "@jupyter-widgets/output",
      "model_module_version": "1.0.0",
      "model_name": "OutputModel",
      "state": {
       "layout": "IPY_MODEL_47123a0f5d5142fb90c16bd28dddc894",
       "outputs": [
        {
         "data": {
          "application/vnd.jupyter.widget-view+json": {
           "model_id": "d55923b0d8e64e82809c5d7a84424687",
           "version_major": 2,
           "version_minor": 0
          },
          "text/plain": "Canvas(toolbar=Toolbar(toolitems=[('Home', 'Reset original view', 'home', 'home'), ('Back', 'Back to previous …"
         },
         "metadata": {},
         "output_type": "display_data"
        }
       ]
      }
     },
     "1515e6f164264ea5ab0708d9776454c5": {
      "model_module": "@jupyter-widgets/base",
      "model_module_version": "1.2.0",
      "model_name": "LayoutModel",
      "state": {}
     },
     "1519a251e4d64198a229dfaa60020731": {
      "model_module": "@jupyter-widgets/controls",
      "model_module_version": "1.5.0",
      "model_name": "SliderStyleModel",
      "state": {
       "description_width": ""
      }
     },
     "154875948ada4209bcb8c3f08b1e2b51": {
      "model_module": "@jupyter-widgets/base",
      "model_module_version": "1.2.0",
      "model_name": "LayoutModel",
      "state": {}
     },
     "154a96afb2404b4e9bb15e8382e2f324": {
      "model_module": "@jupyter-widgets/controls",
      "model_module_version": "1.5.0",
      "model_name": "FloatSliderModel",
      "state": {
       "description": "0°",
       "layout": "IPY_MODEL_801466e14da848eb856bb139e49a96a2",
       "max": 1,
       "min": -1,
       "step": 0.01,
       "style": "IPY_MODEL_a1bc8b6cd1e64ba0842474785eed74f2"
      }
     },
     "15c3dc35bfec497b907418f4e893ded9": {
      "model_module": "@jupyter-widgets/base",
      "model_module_version": "1.2.0",
      "model_name": "LayoutModel",
      "state": {}
     },
     "15cc9669af80481faa0d6ff681a832e2": {
      "model_module": "@jupyter-widgets/controls",
      "model_module_version": "1.5.0",
      "model_name": "ButtonModel",
      "state": {
       "description": "Export Image",
       "layout": "IPY_MODEL_9246c0d4df334a6ba3fd70ac3f52c9a4",
       "style": "IPY_MODEL_6316479910794b109340c32040cb2bcf"
      }
     },
     "16711c259d0e48bd8f864b4803eee9c8": {
      "model_module": "@jupyter-widgets/controls",
      "model_module_version": "1.5.0",
      "model_name": "SliderStyleModel",
      "state": {
       "description_width": ""
      }
     },
     "1677f77da37e4b529535cf7d690be608": {
      "model_module": "@jupyter-widgets/base",
      "model_module_version": "1.2.0",
      "model_name": "LayoutModel",
      "state": {}
     },
     "16be5510cc7d425db358b65b69433fd3": {
      "model_module": "@jupyter-widgets/base",
      "model_module_version": "1.2.0",
      "model_name": "LayoutModel",
      "state": {}
     },
     "16d998a1d69a485ead60fe08ed5e55b3": {
      "model_module": "@jupyter-widgets/output",
      "model_module_version": "1.0.0",
      "model_name": "OutputModel",
      "state": {
       "layout": "IPY_MODEL_4795a3437c4548ee8907c77d643d385b",
       "outputs": [
        {
         "data": {
          "application/vnd.jupyter.widget-view+json": {
           "model_id": "426ea46e5cbf4e94b470d0578838c473",
           "version_major": 2,
           "version_minor": 0
          },
          "text/plain": "Canvas(toolbar=Toolbar(toolitems=[('Home', 'Reset original view', 'home', 'home'), ('Back', 'Back to previous …"
         },
         "metadata": {},
         "output_type": "display_data"
        }
       ]
      }
     },
     "16e4bfd0716c47949e4b479fc7c18b62": {
      "model_module": "@jupyter-widgets/controls",
      "model_module_version": "1.5.0",
      "model_name": "ButtonModel",
      "state": {
       "description": "Export Image",
       "layout": "IPY_MODEL_932e6b2d0b6246d4accd5fbb5c098495",
       "style": "IPY_MODEL_065d23f204aa49b08dec3abb25c72b59"
      }
     },
     "1752b1bd630345ccbb4f27b2c36567dc": {
      "model_module": "@jupyter-widgets/base",
      "model_module_version": "1.2.0",
      "model_name": "LayoutModel",
      "state": {}
     },
     "178509228f324e8d83add35b18f4b970": {
      "model_module": "@jupyter-widgets/base",
      "model_module_version": "1.2.0",
      "model_name": "LayoutModel",
      "state": {
       "border": "solid 4px #222",
       "margin": "4px",
       "padding": "0"
      }
     },
     "17940ec864e24cedb4b28c9242e454e7": {
      "model_module": "@jupyter-widgets/controls",
      "model_module_version": "1.5.0",
      "model_name": "VBoxModel",
      "state": {
       "children": [
        "IPY_MODEL_022489ffd98e4927abdf998e3d283417"
       ],
       "layout": "IPY_MODEL_4de67aa95d614182835e3f3d5275814c"
      }
     },
     "17b45b80d7034cec82c48b61a8fc7551": {
      "model_module": "@jupyter-widgets/controls",
      "model_module_version": "1.5.0",
      "model_name": "HBoxModel",
      "state": {
       "children": [
        "IPY_MODEL_429c911624314cb5b0e2100112aa2dc9",
        "IPY_MODEL_bc7b2142f60348aeb5906dbdfcc0cac3",
        "IPY_MODEL_8b2a155f3ce741b588599a33c01bec0e"
       ],
       "layout": "IPY_MODEL_644598961f204db5bf7bafc5a06145c7"
      }
     },
     "17c1000ec8174407b0baf5f625d30952": {
      "model_module": "jupyter-matplotlib",
      "model_module_version": "^0.7.2",
      "model_name": "ToolbarModel",
      "state": {
       "layout": "IPY_MODEL_b95a4fca4bea4284a6e79326d3a7c527",
       "toolitems": [
        [
         "Home",
         "Reset original view",
         "home",
         "home"
        ],
        [
         "Back",
         "Back to previous view",
         "arrow-left",
         "back"
        ],
        [
         "Forward",
         "Forward to next view",
         "arrow-right",
         "forward"
        ],
        [
         "Pan",
         "Pan axes with left mouse, zoom with right",
         "arrows",
         "pan"
        ],
        [
         "Zoom",
         "Zoom to rectangle",
         "square-o",
         "zoom"
        ],
        [
         "Download",
         "Download plot",
         "floppy-o",
         "save_figure"
        ]
       ]
      }
     },
     "17f18e4335ce46069f85d3d3101cec3f": {
      "model_module": "@jupyter-widgets/controls",
      "model_module_version": "1.5.0",
      "model_name": "ButtonModel",
      "state": {
       "description": "Reset Hue Controls",
       "layout": "IPY_MODEL_7e787d45180a4c6192d3b67b1bd41bc9",
       "style": "IPY_MODEL_2b9bdc6373484cb1902e76b0d0767f0a"
      }
     },
     "17fe2c7e05794c85bdf5d54989ed7511": {
      "model_module": "@jupyter-widgets/controls",
      "model_module_version": "1.5.0",
      "model_name": "FloatSliderModel",
      "state": {
       "description": "90°",
       "layout": "IPY_MODEL_8aef85227e6b424cb1ec4a7755434f43",
       "max": 1,
       "min": -1,
       "step": 0.01,
       "style": "IPY_MODEL_24fd3c89bc4b4d6ab8be158657a17054"
      }
     },
     "1819c10cd1a64ce7ac09817c57e0835d": {
      "model_module": "@jupyter-widgets/controls",
      "model_module_version": "1.5.0",
      "model_name": "HBoxModel",
      "state": {
       "children": [
        "IPY_MODEL_305141afc49d4007a548d7b88bf57031",
        "IPY_MODEL_4f065a0f2bf946e8b3996916a9b5108d",
        "IPY_MODEL_5d6b2d07fbec4e85a9254e9edaf88aa3"
       ],
       "layout": "IPY_MODEL_a07a005e073b42d192ad3fdce31bba01"
      }
     },
     "18a85bd38ad04f94bbc45c22500b2ad8": {
      "model_module": "@jupyter-widgets/controls",
      "model_module_version": "1.5.0",
      "model_name": "SliderStyleModel",
      "state": {
       "description_width": ""
      }
     },
     "193fc8ff4ae54f74bb139dd79f172a10": {
      "model_module": "@jupyter-widgets/base",
      "model_module_version": "1.2.0",
      "model_name": "LayoutModel",
      "state": {}
     },
     "196bd21a9d0f4c9ab1012667359783ff": {
      "model_module": "@jupyter-widgets/base",
      "model_module_version": "1.2.0",
      "model_name": "LayoutModel",
      "state": {
       "border": "solid 4px #222",
       "margin": "4px",
       "padding": "0"
      }
     },
     "19e59f6f0a854c7caa8940bfcfcd9750": {
      "model_module": "@jupyter-widgets/controls",
      "model_module_version": "1.5.0",
      "model_name": "VBoxModel",
      "state": {
       "children": [
        "IPY_MODEL_bfa3be997b9e406db1761386b96bb88f",
        "IPY_MODEL_3ed77e1c5a6a409cbab6723845547a1b"
       ],
       "layout": "IPY_MODEL_80904110650743cd982e23f37e302421"
      }
     },
     "19fb8695649c4f09908e1b63befe6a4c": {
      "model_module": "@jupyter-widgets/base",
      "model_module_version": "1.2.0",
      "model_name": "LayoutModel",
      "state": {}
     },
     "1a36a50d96ff4395979e25f87c621923": {
      "model_module": "@jupyter-widgets/controls",
      "model_module_version": "1.5.0",
      "model_name": "ButtonModel",
      "state": {
       "description": "Reset Hue Controls",
       "layout": "IPY_MODEL_302b7ab74d8644d0a76f3ff2fe24059a",
       "style": "IPY_MODEL_596b5e67f8f94cbc9842c0dfd915b235"
      }
     },
     "1b21c49e7965473d8fd04f4543313cd8": {
      "model_module": "@jupyter-widgets/base",
      "model_module_version": "1.2.0",
      "model_name": "LayoutModel",
      "state": {}
     },
     "1bec0d3ed2f94370979cc2f7379dc0ab": {
      "model_module": "@jupyter-widgets/controls",
      "model_module_version": "1.5.0",
      "model_name": "FloatSliderModel",
      "state": {
       "description": "90°",
       "layout": "IPY_MODEL_e02e34f7b5bb45a0acf9075c3542d447",
       "max": 1,
       "min": -1,
       "step": 0.01,
       "style": "IPY_MODEL_389eb75412be4fc4826da0fe2cdef625"
      }
     },
     "1bfe1a4dd8c5436a8488c9be7721c373": {
      "model_module": "@jupyter-widgets/output",
      "model_module_version": "1.0.0",
      "model_name": "OutputModel",
      "state": {
       "layout": "IPY_MODEL_ed1f53ea680c429ba7b4557cef33150a",
       "outputs": [
        {
         "data": {
          "application/vnd.jupyter.widget-view+json": {
           "model_id": "49d2c4e2a2154426ade4ae56a1c894b8",
           "version_major": 2,
           "version_minor": 0
          },
          "text/plain": "Canvas(toolbar=Toolbar(toolitems=[('Home', 'Reset original view', 'home', 'home'), ('Back', 'Back to previous …"
         },
         "metadata": {},
         "output_type": "display_data"
        }
       ]
      }
     },
     "1c572bb342d24f269e248d0b4374fb96": {
      "model_module": "@jupyter-widgets/base",
      "model_module_version": "1.2.0",
      "model_name": "LayoutModel",
      "state": {}
     },
     "1ce5ebd8beac461498cfc941a5f112c0": {
      "model_module": "@jupyter-widgets/controls",
      "model_module_version": "1.5.0",
      "model_name": "SliderStyleModel",
      "state": {
       "description_width": ""
      }
     },
     "1d104d78bf9242b8ab863065511f592e": {
      "model_module": "@jupyter-widgets/controls",
      "model_module_version": "1.5.0",
      "model_name": "CheckboxModel",
      "state": {
       "description": "Disable Medicina",
       "disabled": false,
       "layout": "IPY_MODEL_86ced1b091b14dbab6632fddc17791d7",
       "style": "IPY_MODEL_14bf94298b4749adb288f0d960195ddc",
       "value": false
      }
     },
     "1d3d5175663643af9be1b3069a3100f5": {
      "model_module": "@jupyter-widgets/base",
      "model_module_version": "1.2.0",
      "model_name": "LayoutModel",
      "state": {
       "border": "solid 4px #222",
       "margin": "4px",
       "padding": "0"
      }
     },
     "1d4979422ce1447aac0f7ffd00603dcd": {
      "model_module": "@jupyter-widgets/output",
      "model_module_version": "1.0.0",
      "model_name": "OutputModel",
      "state": {
       "layout": "IPY_MODEL_b1edebb27174424da9bc7bc44d7f3d3e",
       "outputs": [
        {
         "data": {
          "application/vnd.jupyter.widget-view+json": {
           "model_id": "8a754163929e42d1b6a977cd95d791eb",
           "version_major": 2,
           "version_minor": 0
          },
          "text/plain": "Canvas(toolbar=Toolbar(toolitems=[('Home', 'Reset original view', 'home', 'home'), ('Back', 'Back to previous …"
         },
         "metadata": {},
         "output_type": "display_data"
        }
       ]
      }
     },
     "1d8cb5c8df2e4457b524a1381b980958": {
      "model_module": "@jupyter-widgets/controls",
      "model_module_version": "1.5.0",
      "model_name": "FloatSliderModel",
      "state": {
       "description": "0°",
       "layout": "IPY_MODEL_2fa49e4c0c2341358ca8907b66512b32",
       "max": 1,
       "min": -1,
       "step": 0.01,
       "style": "IPY_MODEL_1519a251e4d64198a229dfaa60020731"
      }
     },
     "1d8d47956f9b442688067ad8d50aa66c": {
      "model_module": "@jupyter-widgets/controls",
      "model_module_version": "1.5.0",
      "model_name": "DescriptionStyleModel",
      "state": {
       "description_width": ""
      }
     },
     "1e4d7296229d465cb9fa06a31daa69e7": {
      "model_module": "@jupyter-widgets/controls",
      "model_module_version": "1.5.0",
      "model_name": "ButtonModel",
      "state": {
       "description": "Reset Protected Area",
       "layout": "IPY_MODEL_50bd650a0bb746fdaf3206c1afd7e497",
       "style": "IPY_MODEL_83bdeda803ab464baaa6516313c864a3"
      }
     },
     "1e5034d51091467b87656cb05efe9bd0": {
      "model_module": "@jupyter-widgets/controls",
      "model_module_version": "1.5.0",
      "model_name": "VBoxModel",
      "state": {
       "children": [
        "IPY_MODEL_1a36a50d96ff4395979e25f87c621923"
       ],
       "layout": "IPY_MODEL_ce08fbbcf7544b7f87f7342c0a69093b"
      }
     },
     "1ec9b09c17304847a2c417cbcd4590a3": {
      "model_module": "@jupyter-widgets/controls",
      "model_module_version": "1.5.0",
      "model_name": "CheckboxModel",
      "state": {
       "description": "Disable Medicina",
       "disabled": false,
       "layout": "IPY_MODEL_45fcee9c338f44a89180cf20c06d9baf",
       "style": "IPY_MODEL_49d80e6de8ff4f918fe73c687dee77b5",
       "value": false
      }
     },
     "1ef38aba82794a6aa3986e9b74e1c6c7": {
      "model_module": "@jupyter-widgets/controls",
      "model_module_version": "1.5.0",
      "model_name": "TabModel",
      "state": {
       "_titles": {
        "0": "Global Controls"
       },
       "children": [
        "IPY_MODEL_5a281692160742498ded3edfb6e02604"
       ],
       "layout": "IPY_MODEL_9ccdebad3104493ebae51d692f2bcab1"
      }
     },
     "1f3feee2ab324044878e380a10ba739b": {
      "model_module": "@jupyter-widgets/controls",
      "model_module_version": "1.5.0",
      "model_name": "SliderStyleModel",
      "state": {
       "description_width": ""
      }
     },
     "1f61121163034353b576cd1063dd4498": {
      "model_module": "@jupyter-widgets/controls",
      "model_module_version": "1.5.0",
      "model_name": "BoxModel",
      "state": {
       "children": [
        "IPY_MODEL_2ce5615858734ed892113d676316acb9",
        "IPY_MODEL_13765994fc66402cb86890b0727a24c5"
       ],
       "layout": "IPY_MODEL_a1a3423fbd6340cbacd587457370c067"
      }
     },
     "1fa371776e724fba8be119f803e70948": {
      "model_module": "@jupyter-widgets/controls",
      "model_module_version": "1.5.0",
      "model_name": "BoxModel",
      "state": {
       "children": [
        "IPY_MODEL_3ea4f7faf8ea448cbe6ac673f17270a1",
        "IPY_MODEL_768ef74e6eca4df5afff39e8152cbaa0"
       ],
       "layout": "IPY_MODEL_118785f91d98432b97f360cae2acea7d"
      }
     },
     "1fc56c2bcd994c1b8c0c924cd429e0e4": {
      "model_module": "@jupyter-widgets/controls",
      "model_module_version": "1.5.0",
      "model_name": "HBoxModel",
      "state": {
       "children": [
        "IPY_MODEL_9c66f68135714fe183ec7ee5506ce5f3",
        "IPY_MODEL_16e4bfd0716c47949e4b479fc7c18b62",
        "IPY_MODEL_86c9a312c06646cab3680adf84a7d532"
       ],
       "layout": "IPY_MODEL_f9fe9e63fdc948dd9622461727302244"
      }
     },
     "1fe6ee46b88b408c8ada3b02ebd8450e": {
      "model_module": "@jupyter-widgets/controls",
      "model_module_version": "1.5.0",
      "model_name": "SliderStyleModel",
      "state": {
       "description_width": ""
      }
     },
     "201c2d3c0ed741ce8a0b1306c74b016e": {
      "model_module": "@jupyter-widgets/output",
      "model_module_version": "1.0.0",
      "model_name": "OutputModel",
      "state": {
       "layout": "IPY_MODEL_178509228f324e8d83add35b18f4b970",
       "outputs": [
        {
         "data": {
          "application/vnd.jupyter.widget-view+json": {
           "model_id": "d166d55d06e34f70adf271c54237fbdf",
           "version_major": 2,
           "version_minor": 0
          },
          "text/plain": "Canvas(toolbar=Toolbar(toolitems=[('Home', 'Reset original view', 'home', 'home'), ('Back', 'Back to previous …"
         },
         "metadata": {},
         "output_type": "display_data"
        }
       ]
      }
     },
     "204c9fedb3724a95abde124f51d907e7": {
      "model_module": "@jupyter-widgets/controls",
      "model_module_version": "1.5.0",
      "model_name": "HBoxModel",
      "state": {
       "children": [
        "IPY_MODEL_059e7ee6453c433abe675e875ccf6998",
        "IPY_MODEL_209a84fb95b74de5b7384b78cfe4e762",
        "IPY_MODEL_bec82bf2548b4dd6a73994183689baaa",
        "IPY_MODEL_7969caaccc134fb4be0d70fdba8136c2"
       ],
       "layout": "IPY_MODEL_9419c68ac1074d5a953bef94acf113d6"
      }
     },
     "206f7b19525741038edbfbee8b01c926": {
      "model_module": "@jupyter-widgets/controls",
      "model_module_version": "1.5.0",
      "model_name": "ButtonStyleModel",
      "state": {}
     },
     "209a84fb95b74de5b7384b78cfe4e762": {
      "model_module": "@jupyter-widgets/controls",
      "model_module_version": "1.5.0",
      "model_name": "VBoxModel",
      "state": {
       "children": [
        "IPY_MODEL_5a00820be2264327b7fdbf69ac7ed12e",
        "IPY_MODEL_eaf550e7a7dd4ac496bcd6dd07e3c147",
        "IPY_MODEL_84e3064e9b244d0bb164c480cab04226"
       ],
       "layout": "IPY_MODEL_22a2cd4d12484c9ab89af0b626b636e8"
      }
     },
     "209de8cc2b874820868155dd1019b885": {
      "model_module": "@jupyter-widgets/base",
      "model_module_version": "1.2.0",
      "model_name": "LayoutModel",
      "state": {
       "border": "solid 4px #222",
       "margin": "4px",
       "padding": "0"
      }
     },
     "20cd3e413d584229ac1a017103c0de18": {
      "model_module": "@jupyter-widgets/controls",
      "model_module_version": "1.5.0",
      "model_name": "ButtonModel",
      "state": {
       "description": "Reset Hue Controls",
       "layout": "IPY_MODEL_4eb412f5b7bf47beb60c7789a02aff7c",
       "style": "IPY_MODEL_048e7625f913420c895466924a4f407e"
      }
     },
     "2105182278a343f291fa695ec7a734a6": {
      "model_module": "@jupyter-widgets/controls",
      "model_module_version": "1.5.0",
      "model_name": "ButtonModel",
      "state": {
       "description": "Reset Compression Controls",
       "layout": "IPY_MODEL_07df66fc6b844c6ba62dff60ab1b1886",
       "style": "IPY_MODEL_984423f756db4c0e9434a61a6811740c"
      }
     },
     "210d0b3a305a449b85a2d882b1f9cb00": {
      "model_module": "@jupyter-widgets/controls",
      "model_module_version": "1.5.0",
      "model_name": "HBoxModel",
      "state": {
       "children": [
        "IPY_MODEL_354b259dfb4443eeae9fdab8ba71f3df",
        "IPY_MODEL_46fc24efa95d43bd8ef4f0f9a856807e"
       ],
       "layout": "IPY_MODEL_f807464275ca4af4a9a2d97b76946c31"
      }
     },
     "2171bf14601547518bad87b68093bf2b": {
      "model_module": "@jupyter-widgets/controls",
      "model_module_version": "1.5.0",
      "model_name": "TabModel",
      "state": {
       "_titles": {
        "0": "Global Controls",
        "1": "Protected Area Controls",
        "2": "Saturation Controls",
        "3": "Hue Controls"
       },
       "children": [
        "IPY_MODEL_fb8a4f44ca674f5fa721a5eb520ab571",
        "IPY_MODEL_46a2553f84094e10b0ac12d3a8061285",
        "IPY_MODEL_81cc6b72e1c649208978ac9717fe43b6",
        "IPY_MODEL_5904a019d29342fabd7685c0428a4a58"
       ],
       "layout": "IPY_MODEL_83fc755323e542bcacff691963c8bcf3"
      }
     },
     "21803182950b4c8db4bc01253e374bbd": {
      "model_module": "@jupyter-widgets/base",
      "model_module_version": "1.2.0",
      "model_name": "LayoutModel",
      "state": {}
     },
     "21d258e134cb4a2eb14427df33e90f39": {
      "model_module": "@jupyter-widgets/controls",
      "model_module_version": "1.5.0",
      "model_name": "SliderStyleModel",
      "state": {
       "description_width": ""
      }
     },
     "21dd33a44fb04836a2362414c86d5823": {
      "model_module": "@jupyter-widgets/controls",
      "model_module_version": "1.5.0",
      "model_name": "CheckboxModel",
      "state": {
       "description": "Disable Medicina",
       "disabled": false,
       "layout": "IPY_MODEL_6df102cb0c88470aa3a012befa45fe9d",
       "style": "IPY_MODEL_14798c8ed7d444f0b848a4be90260a86",
       "value": false
      }
     },
     "21fb788e84074744b40a3051fc206afa": {
      "model_module": "@jupyter-widgets/base",
      "model_module_version": "1.2.0",
      "model_name": "LayoutModel",
      "state": {}
     },
     "22a2cd4d12484c9ab89af0b626b636e8": {
      "model_module": "@jupyter-widgets/base",
      "model_module_version": "1.2.0",
      "model_name": "LayoutModel",
      "state": {}
     },
     "22a2e89ce7784f799d0835c13fe231f1": {
      "model_module": "@jupyter-widgets/base",
      "model_module_version": "1.2.0",
      "model_name": "LayoutModel",
      "state": {}
     },
     "22a44584a73a419488b97a8f69da48bc": {
      "model_module": "jupyter-matplotlib",
      "model_module_version": "^0.7.2",
      "model_name": "ToolbarModel",
      "state": {
       "layout": "IPY_MODEL_29ce9bf8211b4cf1a0c2a5205a89d8f2",
       "toolitems": [
        [
         "Home",
         "Reset original view",
         "home",
         "home"
        ],
        [
         "Back",
         "Back to previous view",
         "arrow-left",
         "back"
        ],
        [
         "Forward",
         "Forward to next view",
         "arrow-right",
         "forward"
        ],
        [
         "Pan",
         "Pan axes with left mouse, zoom with right",
         "arrows",
         "pan"
        ],
        [
         "Zoom",
         "Zoom to rectangle",
         "square-o",
         "zoom"
        ],
        [
         "Download",
         "Download plot",
         "floppy-o",
         "save_figure"
        ]
       ]
      }
     },
     "23212224098b45c39e6981479d003316": {
      "model_module": "@jupyter-widgets/base",
      "model_module_version": "1.2.0",
      "model_name": "LayoutModel",
      "state": {}
     },
     "23bd48db2ac440b8b923c9adb6dc9fba": {
      "model_module": "@jupyter-widgets/controls",
      "model_module_version": "1.5.0",
      "model_name": "FloatSliderModel",
      "state": {
       "description": "Compression Threshold",
       "layout": "IPY_MODEL_860e19d8e2a645688d0b896aa774bffc",
       "max": 1,
       "step": 0.01,
       "style": "IPY_MODEL_21d258e134cb4a2eb14427df33e90f39",
       "value": 0.8
      }
     },
     "23dcfeefe7774c249b6b14b51e604285": {
      "model_module": "@jupyter-widgets/controls",
      "model_module_version": "1.5.0",
      "model_name": "ButtonStyleModel",
      "state": {}
     },
     "2422dc7a80e446c0a81dc5359ea67f04": {
      "model_module": "@jupyter-widgets/controls",
      "model_module_version": "1.5.0",
      "model_name": "VBoxModel",
      "state": {
       "children": [
        "IPY_MODEL_0ebca998222247378aea05c20d46caf3",
        "IPY_MODEL_fc5fae9eb42444aea95322c4a3122bfd"
       ],
       "layout": "IPY_MODEL_bb4c91e54fa34ff5b1692ec7d2b72105"
      }
     },
     "24a6a33504dc47dd8c37bdaa74ec5a8f": {
      "model_module": "@jupyter-widgets/controls",
      "model_module_version": "1.5.0",
      "model_name": "ButtonStyleModel",
      "state": {}
     },
     "24e774307f704f66a37e97681679cded": {
      "model_module": "@jupyter-widgets/controls",
      "model_module_version": "1.5.0",
      "model_name": "SliderStyleModel",
      "state": {
       "description_width": ""
      }
     },
     "24e794ff3f3548f2af60edfe9318e30d": {
      "model_module": "@jupyter-widgets/controls",
      "model_module_version": "1.5.0",
      "model_name": "ButtonStyleModel",
      "state": {}
     },
     "24fd3c89bc4b4d6ab8be158657a17054": {
      "model_module": "@jupyter-widgets/controls",
      "model_module_version": "1.5.0",
      "model_name": "SliderStyleModel",
      "state": {
       "description_width": ""
      }
     },
     "2585782295cf4b69a8ef8cb989bf11c2": {
      "model_module": "@jupyter-widgets/controls",
      "model_module_version": "1.5.0",
      "model_name": "SliderStyleModel",
      "state": {
       "description_width": ""
      }
     },
     "25a0bb3d954c4ef7a8236ee473686c73": {
      "model_module": "@jupyter-widgets/controls",
      "model_module_version": "1.5.0",
      "model_name": "ButtonStyleModel",
      "state": {}
     },
     "25e81c7437544401a3b5bbdca3afdb68": {
      "model_module": "@jupyter-widgets/controls",
      "model_module_version": "1.5.0",
      "model_name": "VBoxModel",
      "state": {
       "children": [
        "IPY_MODEL_10e4ad4032e24f4da6cf9e5a67a1ca48",
        "IPY_MODEL_d3762f8c3da641078e980dcc3deccd6a"
       ],
       "layout": "IPY_MODEL_b42041b0bcb746a4914ffac60b7aa4c2"
      }
     },
     "262016f9d5354c4184060ed976267f63": {
      "model_module": "@jupyter-widgets/controls",
      "model_module_version": "1.5.0",
      "model_name": "CheckboxModel",
      "state": {
       "description": "Disable Medicina",
       "disabled": false,
       "layout": "IPY_MODEL_7bd4868b06a74662b7d98450cc09afdd",
       "style": "IPY_MODEL_4a81d5b3c6ff4bb7aa8e6a4f854af0bc",
       "value": false
      }
     },
     "26e8a404b79f4c0e9a2b1e630bc294f6": {
      "model_module": "@jupyter-widgets/controls",
      "model_module_version": "1.5.0",
      "model_name": "VBoxModel",
      "state": {
       "children": [
        "IPY_MODEL_13b076bb3d4f4a209203234199ea77c3",
        "IPY_MODEL_d00af06f5a2d4b61953f7cdb583f1814",
        "IPY_MODEL_1bec0d3ed2f94370979cc2f7379dc0ab"
       ],
       "layout": "IPY_MODEL_ade6f7a7cb6d470289cacc43081282e3"
      }
     },
     "273dbd58d2f54014a58a41342e031459": {
      "model_module": "@jupyter-widgets/base",
      "model_module_version": "1.2.0",
      "model_name": "LayoutModel",
      "state": {}
     },
     "277d36361e0e4e1dabcc60f4d024d2c8": {
      "model_module": "@jupyter-widgets/base",
      "model_module_version": "1.2.0",
      "model_name": "LayoutModel",
      "state": {}
     },
     "279a54fc9e464630b99778b179bfa2f8": {
      "model_module": "@jupyter-widgets/controls",
      "model_module_version": "1.5.0",
      "model_name": "FloatSliderModel",
      "state": {
       "description": "225°",
       "layout": "IPY_MODEL_f022345a7c3f46b0b4d5532e3ea4b239",
       "max": 1,
       "min": -1,
       "step": 0.01,
       "style": "IPY_MODEL_69647abae2804a3da150e02c867ac125"
      }
     },
     "279f5df35cae4789ada2b176b8d94d9b": {
      "model_module": "jupyter-matplotlib",
      "model_module_version": "^0.7.2",
      "model_name": "ToolbarModel",
      "state": {
       "layout": "IPY_MODEL_355da923bfc64adaa49c1684dab67e9c",
       "toolitems": [
        [
         "Home",
         "Reset original view",
         "home",
         "home"
        ],
        [
         "Back",
         "Back to previous view",
         "arrow-left",
         "back"
        ],
        [
         "Forward",
         "Forward to next view",
         "arrow-right",
         "forward"
        ],
        [
         "Pan",
         "Pan axes with left mouse, zoom with right",
         "arrows",
         "pan"
        ],
        [
         "Zoom",
         "Zoom to rectangle",
         "square-o",
         "zoom"
        ],
        [
         "Download",
         "Download plot",
         "floppy-o",
         "save_figure"
        ]
       ]
      }
     },
     "27abdf7601b449f58d4339589f6f4e74": {
      "model_module": "@jupyter-widgets/base",
      "model_module_version": "1.2.0",
      "model_name": "LayoutModel",
      "state": {}
     },
     "27b24d2c10a54d4aa3e4b38dc88cf7b2": {
      "model_module": "@jupyter-widgets/controls",
      "model_module_version": "1.5.0",
      "model_name": "SliderStyleModel",
      "state": {
       "description_width": ""
      }
     },
     "27b9cb5bd3d64ad8b2f82b5f54d86c53": {
      "model_module": "@jupyter-widgets/controls",
      "model_module_version": "1.5.0",
      "model_name": "ButtonModel",
      "state": {
       "description": "Save Figure",
       "layout": "IPY_MODEL_ed889636f5fc4efaa563d02c245b74e3",
       "style": "IPY_MODEL_42408068a92d4f5ba65f2e7cbc7ea203"
      }
     },
     "280d7947cbc34f659fd5de0737b9caa9": {
      "model_module": "@jupyter-widgets/base",
      "model_module_version": "1.2.0",
      "model_name": "LayoutModel",
      "state": {}
     },
     "282e009ecc8f440f8ce256163b56b833": {
      "model_module": "@jupyter-widgets/controls",
      "model_module_version": "1.5.0",
      "model_name": "FloatSliderModel",
      "state": {
       "description": "225°",
       "layout": "IPY_MODEL_033dfac7fd47410293a561409cc0cf48",
       "max": 1,
       "min": -1,
       "step": 0.01,
       "style": "IPY_MODEL_1ce5ebd8beac461498cfc941a5f112c0"
      }
     },
     "287779aabdac4b8ea5240ac6dcc9b103": {
      "model_module": "@jupyter-widgets/base",
      "model_module_version": "1.2.0",
      "model_name": "LayoutModel",
      "state": {}
     },
     "28c8cac4fe244900952199aa6bd9f63e": {
      "model_module": "@jupyter-widgets/base",
      "model_module_version": "1.2.0",
      "model_name": "LayoutModel",
      "state": {}
     },
     "290fc449250148f19fe607c09ca7ae2e": {
      "model_module": "@jupyter-widgets/controls",
      "model_module_version": "1.5.0",
      "model_name": "VBoxModel",
      "state": {
       "children": [
        "IPY_MODEL_12a204a74a5f445cab8a49bf0f5ad218",
        "IPY_MODEL_66f1756ca2194c599baa105c56786d40"
       ],
       "layout": "IPY_MODEL_633254f93a724bc886f48b33119c7cfb"
      }
     },
     "293642f154594fc4bc93ab77ef2924f7": {
      "model_module": "jupyter-matplotlib",
      "model_module_version": "^0.7.2",
      "model_name": "ToolbarModel",
      "state": {
       "layout": "IPY_MODEL_8969186aff2d4abbaa88533728db62bb",
       "toolitems": [
        [
         "Home",
         "Reset original view",
         "home",
         "home"
        ],
        [
         "Back",
         "Back to previous view",
         "arrow-left",
         "back"
        ],
        [
         "Forward",
         "Forward to next view",
         "arrow-right",
         "forward"
        ],
        [
         "Pan",
         "Pan axes with left mouse, zoom with right",
         "arrows",
         "pan"
        ],
        [
         "Zoom",
         "Zoom to rectangle",
         "square-o",
         "zoom"
        ],
        [
         "Download",
         "Download plot",
         "floppy-o",
         "save_figure"
        ]
       ]
      }
     },
     "294fbb70152c441ab2138f1602724f92": {
      "model_module": "@jupyter-widgets/controls",
      "model_module_version": "1.5.0",
      "model_name": "HBoxModel",
      "state": {
       "children": [
        "IPY_MODEL_64454e70e99642cfb65983544eb51bdf",
        "IPY_MODEL_59841552048d4ff5ba5706a711169e05"
       ],
       "layout": "IPY_MODEL_ae1d1742568f45a395745c19d1391628"
      }
     },
     "29b5d6207dc84e57afe8960378437012": {
      "model_module": "@jupyter-widgets/controls",
      "model_module_version": "1.5.0",
      "model_name": "SliderStyleModel",
      "state": {
       "description_width": ""
      }
     },
     "29c9f382877a492eac536d29b94fa271": {
      "model_module": "jupyter-matplotlib",
      "model_module_version": "^0.7.2",
      "model_name": "MPLCanvasModel",
      "state": {
       "_figure_label": "Figure 15",
       "_height": 396,
       "_width": 1100,
       "header_visible": false,
       "layout": "IPY_MODEL_51c1e668e96346309589c03c0ac5080c",
       "resizable": false,
       "toolbar": "IPY_MODEL_0fc1bbf5cc7545759614fe59fbce29cb",
       "toolbar_position": "left",
       "toolbar_visible": false
      }
     },
     "29ce9bf8211b4cf1a0c2a5205a89d8f2": {
      "model_module": "@jupyter-widgets/base",
      "model_module_version": "1.2.0",
      "model_name": "LayoutModel",
      "state": {}
     },
     "29fdebda7a6a42af881350b7b3e23157": {
      "model_module": "@jupyter-widgets/base",
      "model_module_version": "1.2.0",
      "model_name": "LayoutModel",
      "state": {}
     },
     "2a0b05c617444bd7b21f6c6bbf9a8f7d": {
      "model_module": "@jupyter-widgets/controls",
      "model_module_version": "1.5.0",
      "model_name": "VBoxModel",
      "state": {
       "children": [
        "IPY_MODEL_bd12310076194d12b4047d2800dc5fcc"
       ],
       "layout": "IPY_MODEL_ef7de8998e88470e8bdadd91db475d8b"
      }
     },
     "2a1c10adf74e4116ac9a13a9dbe3a6ac": {
      "model_module": "@jupyter-widgets/base",
      "model_module_version": "1.2.0",
      "model_name": "LayoutModel",
      "state": {}
     },
     "2a1c7141635b4f96b0e9c0996536e63e": {
      "model_module": "@jupyter-widgets/controls",
      "model_module_version": "1.5.0",
      "model_name": "SliderStyleModel",
      "state": {
       "description_width": ""
      }
     },
     "2a2ef8431a314326a80b6efc549e3275": {
      "model_module": "@jupyter-widgets/base",
      "model_module_version": "1.2.0",
      "model_name": "LayoutModel",
      "state": {
       "border": "solid 4px #222",
       "margin": "4px",
       "padding": "0"
      }
     },
     "2a3fb12079fb4b6daaea1aa80e86f34c": {
      "model_module": "@jupyter-widgets/controls",
      "model_module_version": "1.5.0",
      "model_name": "FloatSliderModel",
      "state": {
       "description": "Protected Area Threshold",
       "layout": "IPY_MODEL_f568b5fada9d4d10a731fffb92d6af86",
       "max": 1,
       "step": 0.01,
       "style": "IPY_MODEL_e3641fab0e3944e8af73d327423a51e0",
       "value": 0.7
      }
     },
     "2a6baf92059a4df8ad0bbbb83bc08e1c": {
      "model_module": "@jupyter-widgets/controls",
      "model_module_version": "1.5.0",
      "model_name": "HBoxModel",
      "state": {
       "children": [
        "IPY_MODEL_6e117a52a799411dbe33742e8dff1e5e",
        "IPY_MODEL_6a8946fbc4704683a204540d505dc612",
        "IPY_MODEL_9f6857d57177403fb8f8844fa60d6041"
       ],
       "layout": "IPY_MODEL_929ef5b928164d8287cebbae57d72a54"
      }
     },
     "2a727a51e1064f61a5090563c0ce828b": {
      "model_module": "@jupyter-widgets/output",
      "model_module_version": "1.0.0",
      "model_name": "OutputModel",
      "state": {
       "layout": "IPY_MODEL_209de8cc2b874820868155dd1019b885",
       "outputs": [
        {
         "data": {
          "application/vnd.jupyter.widget-view+json": {
           "model_id": "d9086b6acaf146beb18da654adeb4f35",
           "version_major": 2,
           "version_minor": 0
          },
          "text/plain": "Canvas(toolbar=Toolbar(toolitems=[('Home', 'Reset original view', 'home', 'home'), ('Back', 'Back to previous …"
         },
         "metadata": {},
         "output_type": "display_data"
        }
       ]
      }
     },
     "2ad89a93304b42518cbf1cc59db2402e": {
      "model_module": "@jupyter-widgets/base",
      "model_module_version": "1.2.0",
      "model_name": "LayoutModel",
      "state": {}
     },
     "2b1e080077e34482b57dea3e833b18c9": {
      "model_module": "jupyter-matplotlib",
      "model_module_version": "^0.7.2",
      "model_name": "MPLCanvasModel",
      "state": {
       "_figure_label": "Figure 16",
       "_height": 396,
       "_width": 1100,
       "header_visible": false,
       "layout": "IPY_MODEL_e299c9e6fe65427f9aa08f23605ca85b",
       "resizable": false,
       "toolbar": "IPY_MODEL_f11feea58aeb42d88166ef277a0e9283",
       "toolbar_position": "left",
       "toolbar_visible": false
      }
     },
     "2b8a89a8ce914563b34ea91bd379245f": {
      "model_module": "@jupyter-widgets/base",
      "model_module_version": "1.2.0",
      "model_name": "LayoutModel",
      "state": {}
     },
     "2b9bdc6373484cb1902e76b0d0767f0a": {
      "model_module": "@jupyter-widgets/controls",
      "model_module_version": "1.5.0",
      "model_name": "ButtonStyleModel",
      "state": {}
     },
     "2c39da63e6bc4e07a8e4a0312cad55cd": {
      "model_module": "@jupyter-widgets/controls",
      "model_module_version": "1.5.0",
      "model_name": "ButtonModel",
      "state": {
       "description": "Save Figure",
       "layout": "IPY_MODEL_287779aabdac4b8ea5240ac6dcc9b103",
       "style": "IPY_MODEL_9cd424ff95ab40e6b50c563e3f726c84"
      }
     },
     "2c788e9fe14f4efe8186c0d1e1ae944f": {
      "model_module": "@jupyter-widgets/base",
      "model_module_version": "1.2.0",
      "model_name": "LayoutModel",
      "state": {}
     },
     "2ca425dc84864aa882b7f3f886bdc7f7": {
      "model_module": "@jupyter-widgets/controls",
      "model_module_version": "1.5.0",
      "model_name": "TabModel",
      "state": {
       "_titles": {
        "0": "Global Controls",
        "1": "Compression Controls"
       },
       "children": [
        "IPY_MODEL_6a7f3b2cecb846d28afcfad236551669",
        "IPY_MODEL_b3fd60edc908409f901fb4a3bee6b274"
       ],
       "layout": "IPY_MODEL_5b9bfd43372c412e8fb894992e76dbf5"
      }
     },
     "2ce5615858734ed892113d676316acb9": {
      "model_module": "@jupyter-widgets/output",
      "model_module_version": "1.0.0",
      "model_name": "OutputModel",
      "state": {
       "layout": "IPY_MODEL_b76a570b2148445bb5d98637b2baa135",
       "outputs": [
        {
         "data": {
          "application/vnd.jupyter.widget-view+json": {
           "model_id": "56f4739f281a41e1baae005f42fdddf1",
           "version_major": 2,
           "version_minor": 0
          },
          "text/plain": "Canvas(toolbar=Toolbar(toolitems=[('Home', 'Reset original view', 'home', 'home'), ('Back', 'Back to previous …"
         },
         "metadata": {},
         "output_type": "display_data"
        }
       ]
      }
     },
     "2d16ae49801849f7a395190add648b15": {
      "model_module": "@jupyter-widgets/controls",
      "model_module_version": "1.5.0",
      "model_name": "SliderStyleModel",
      "state": {
       "description_width": ""
      }
     },
     "2d486483aeae42a6a51e6dfb3aa180c8": {
      "model_module": "@jupyter-widgets/controls",
      "model_module_version": "1.5.0",
      "model_name": "ButtonStyleModel",
      "state": {}
     },
     "2d9b3611a92c47b1bc658db30deb79ec": {
      "model_module": "@jupyter-widgets/base",
      "model_module_version": "1.2.0",
      "model_name": "LayoutModel",
      "state": {}
     },
     "2e2ac160feb34bc9b7586c513d52e702": {
      "model_module": "@jupyter-widgets/controls",
      "model_module_version": "1.5.0",
      "model_name": "FloatSliderModel",
      "state": {
       "description": "315°",
       "layout": "IPY_MODEL_935d97de75f041eba8aa1a64ed4f4cbf",
       "max": 1,
       "min": -1,
       "step": 0.01,
       "style": "IPY_MODEL_06462666d5cd455fb074e8df3d135200"
      }
     },
     "2e2c5216eaf54ad7b1705c4cdf983738": {
      "model_module": "@jupyter-widgets/base",
      "model_module_version": "1.2.0",
      "model_name": "LayoutModel",
      "state": {}
     },
     "2e65e44ae473488f86d8fdec2b5647ef": {
      "model_module": "@jupyter-widgets/controls",
      "model_module_version": "1.5.0",
      "model_name": "SliderStyleModel",
      "state": {
       "description_width": ""
      }
     },
     "2e6a80f2d31343bca962cc4c3598e6d5": {
      "model_module": "@jupyter-widgets/controls",
      "model_module_version": "1.5.0",
      "model_name": "ButtonStyleModel",
      "state": {}
     },
     "2e949347b5c648f28bc597dcd17da6a9": {
      "model_module": "@jupyter-widgets/base",
      "model_module_version": "1.2.0",
      "model_name": "LayoutModel",
      "state": {}
     },
     "2edbf09324194c61b04dcffa004da74c": {
      "model_module": "@jupyter-widgets/base",
      "model_module_version": "1.2.0",
      "model_name": "LayoutModel",
      "state": {}
     },
     "2f38b48f1e454d8f99b8d17d1d61ee05": {
      "model_module": "@jupyter-widgets/controls",
      "model_module_version": "1.5.0",
      "model_name": "ButtonStyleModel",
      "state": {}
     },
     "2f574a7c741e49e5ab5cc83c7de1e608": {
      "model_module": "@jupyter-widgets/base",
      "model_module_version": "1.2.0",
      "model_name": "LayoutModel",
      "state": {}
     },
     "2fa49e4c0c2341358ca8907b66512b32": {
      "model_module": "@jupyter-widgets/base",
      "model_module_version": "1.2.0",
      "model_name": "LayoutModel",
      "state": {}
     },
     "2fc4d7c3225244f3bbc47a284129cb08": {
      "model_module": "@jupyter-widgets/output",
      "model_module_version": "1.0.0",
      "model_name": "OutputModel",
      "state": {
       "layout": "IPY_MODEL_e8b700c9dea44f62a977f3604c8c0417",
       "outputs": [
        {
         "data": {
          "application/vnd.jupyter.widget-view+json": {
           "model_id": "c09a4ec352c849628d1319daebfb2b8b",
           "version_major": 2,
           "version_minor": 0
          },
          "text/plain": "Canvas(toolbar=Toolbar(toolitems=[('Home', 'Reset original view', 'home', 'home'), ('Back', 'Back to previous …"
         },
         "metadata": {},
         "output_type": "display_data"
        }
       ]
      }
     },
     "2fe946ac58424e349991dc12ed24594f": {
      "model_module": "@jupyter-widgets/base",
      "model_module_version": "1.2.0",
      "model_name": "LayoutModel",
      "state": {}
     },
     "30023406f52940e28b145d6e124f1cb3": {
      "model_module": "@jupyter-widgets/base",
      "model_module_version": "1.2.0",
      "model_name": "LayoutModel",
      "state": {}
     },
     "302b7ab74d8644d0a76f3ff2fe24059a": {
      "model_module": "@jupyter-widgets/base",
      "model_module_version": "1.2.0",
      "model_name": "LayoutModel",
      "state": {}
     },
     "305141afc49d4007a548d7b88bf57031": {
      "model_module": "@jupyter-widgets/controls",
      "model_module_version": "1.5.0",
      "model_name": "CheckboxModel",
      "state": {
       "description": "Disable Medicina",
       "disabled": false,
       "layout": "IPY_MODEL_478db08392db487291d097f3c1a5a932",
       "style": "IPY_MODEL_4ab72c5df97947cf9e9c99f308518f8e",
       "value": false
      }
     },
     "307d095f03d54b9c95bbd8fbfa773671": {
      "model_module": "@jupyter-widgets/base",
      "model_module_version": "1.2.0",
      "model_name": "LayoutModel",
      "state": {
       "border": "solid 4px #222",
       "margin": "4px",
       "padding": "0"
      }
     },
     "307d646676cf47ef9b33cd6774364e52": {
      "model_module": "@jupyter-widgets/base",
      "model_module_version": "1.2.0",
      "model_name": "LayoutModel",
      "state": {}
     },
     "30ab94d200d34611a87a292a4ecc6f37": {
      "model_module": "@jupyter-widgets/base",
      "model_module_version": "1.2.0",
      "model_name": "LayoutModel",
      "state": {}
     },
     "30bd3c1cb4fa4dbd870d0675d690872c": {
      "model_module": "@jupyter-widgets/base",
      "model_module_version": "1.2.0",
      "model_name": "LayoutModel",
      "state": {
       "border": "solid 4px #222",
       "margin": "4px",
       "padding": "0"
      }
     },
     "30c87a15d60342e1aadbc48ac04a7d22": {
      "model_module": "@jupyter-widgets/controls",
      "model_module_version": "1.5.0",
      "model_name": "VBoxModel",
      "state": {
       "children": [
        "IPY_MODEL_5e0abfec8e6a42ad9150039751f49e49"
       ],
       "layout": "IPY_MODEL_e8d3015fc7e54aa7b0280806d2491952"
      }
     },
     "30f062f32553472b991e053c86961725": {
      "model_module": "@jupyter-widgets/controls",
      "model_module_version": "1.5.0",
      "model_name": "ButtonStyleModel",
      "state": {}
     },
     "30fa9de936884e5f85af6805451e8a7d": {
      "model_module": "@jupyter-widgets/controls",
      "model_module_version": "1.5.0",
      "model_name": "SliderStyleModel",
      "state": {
       "description_width": ""
      }
     },
     "3138de2de330449e9ee075be2a80520c": {
      "model_module": "@jupyter-widgets/controls",
      "model_module_version": "1.5.0",
      "model_name": "HBoxModel",
      "state": {
       "children": [
        "IPY_MODEL_2a0b05c617444bd7b21f6c6bbf9a8f7d",
        "IPY_MODEL_e39f3f2ac91f4f78af2d57bec3f6c3be",
        "IPY_MODEL_95f50217d1804edf97ce5726f16a4235",
        "IPY_MODEL_618a8bd894884777b3e5befabb6b462f"
       ],
       "layout": "IPY_MODEL_fbb6e0f6500847a487243ed7d0fa2e14"
      }
     },
     "31458f2e9422493494298e78fba4adb8": {
      "model_module": "@jupyter-widgets/base",
      "model_module_version": "1.2.0",
      "model_name": "LayoutModel",
      "state": {}
     },
     "314b164946e74c8f8b2a95341a650821": {
      "model_module": "@jupyter-widgets/controls",
      "model_module_version": "1.5.0",
      "model_name": "FloatSliderModel",
      "state": {
       "description": "Compression Threshold",
       "layout": "IPY_MODEL_a245045c9328430fa39324606a9b97ba",
       "max": 1,
       "step": 0.01,
       "style": "IPY_MODEL_bcbb9fa1117840ff867802f351f65524",
       "value": 0.5
      }
     },
     "317b555616c3472783b65497de5738e8": {
      "model_module": "@jupyter-widgets/controls",
      "model_module_version": "1.5.0",
      "model_name": "FloatSliderModel",
      "state": {
       "description": "315°",
       "layout": "IPY_MODEL_82f454fd691940ec9518f22f1a5c8939",
       "max": 1,
       "min": -1,
       "step": 0.01,
       "style": "IPY_MODEL_811ec5d8dfe54168aafcf6d020d70939"
      }
     },
     "3225a6ef177549079e4bb44f44aacbad": {
      "model_module": "@jupyter-widgets/base",
      "model_module_version": "1.2.0",
      "model_name": "LayoutModel",
      "state": {}
     },
     "32b9475f07784bf6a67250a076f4215f": {
      "model_module": "@jupyter-widgets/base",
      "model_module_version": "1.2.0",
      "model_name": "LayoutModel",
      "state": {}
     },
     "32d74e2ec800418e9b5646cc0cbddb9e": {
      "model_module": "@jupyter-widgets/controls",
      "model_module_version": "1.5.0",
      "model_name": "ButtonStyleModel",
      "state": {}
     },
     "32e7afcc544d41c99f07199d88b0bfb9": {
      "model_module": "@jupyter-widgets/controls",
      "model_module_version": "1.5.0",
      "model_name": "FloatSliderModel",
      "state": {
       "description": "225°",
       "layout": "IPY_MODEL_22a2e89ce7784f799d0835c13fe231f1",
       "max": 1,
       "min": -1,
       "step": 0.01,
       "style": "IPY_MODEL_b39368eba247483387f29e8368cb3da6"
      }
     },
     "32ef9b642f6840c69367c2646d96ffda": {
      "model_module": "@jupyter-widgets/base",
      "model_module_version": "1.2.0",
      "model_name": "LayoutModel",
      "state": {}
     },
     "32f606a1021441768c8c1f143c87a980": {
      "model_module": "@jupyter-widgets/base",
      "model_module_version": "1.2.0",
      "model_name": "LayoutModel",
      "state": {}
     },
     "345a162ebde04ee3bd85e510d55ace57": {
      "model_module": "@jupyter-widgets/controls",
      "model_module_version": "1.5.0",
      "model_name": "SliderStyleModel",
      "state": {
       "description_width": ""
      }
     },
     "349de28fa6c74eecab3457120e5040f8": {
      "model_module": "@jupyter-widgets/base",
      "model_module_version": "1.2.0",
      "model_name": "LayoutModel",
      "state": {}
     },
     "34b32941e421481c9ea89bfef7a6adf7": {
      "model_module": "@jupyter-widgets/controls",
      "model_module_version": "1.5.0",
      "model_name": "ButtonModel",
      "state": {
       "description": "Save Figure",
       "layout": "IPY_MODEL_5c58a7cc9b9d45358a7fa546028e4a53",
       "style": "IPY_MODEL_e7fe9258b6c14228a7c40baec3bdb7cb"
      }
     },
     "352b5773ced44cc3960af8ccb40a29dc": {
      "model_module": "@jupyter-widgets/base",
      "model_module_version": "1.2.0",
      "model_name": "LayoutModel",
      "state": {
       "border": "solid 4px #222",
       "margin": "4px",
       "padding": "0"
      }
     },
     "352b96afbbcc4a69a9b5f198720f4c75": {
      "model_module": "@jupyter-widgets/base",
      "model_module_version": "1.2.0",
      "model_name": "LayoutModel",
      "state": {}
     },
     "354b259dfb4443eeae9fdab8ba71f3df": {
      "model_module": "@jupyter-widgets/controls",
      "model_module_version": "1.5.0",
      "model_name": "ButtonModel",
      "state": {
       "description": "Reset Compression Controls",
       "layout": "IPY_MODEL_7bee70aaa4be48d883e6bbc04bbee18b",
       "style": "IPY_MODEL_7cae42fbe9f94051abacf38684ca0684"
      }
     },
     "355da923bfc64adaa49c1684dab67e9c": {
      "model_module": "@jupyter-widgets/base",
      "model_module_version": "1.2.0",
      "model_name": "LayoutModel",
      "state": {}
     },
     "3690dddd97144a7bbd7b8999852c50cc": {
      "model_module": "@jupyter-widgets/base",
      "model_module_version": "1.2.0",
      "model_name": "LayoutModel",
      "state": {}
     },
     "36b9f66fbff34bd389ff50daf862ef01": {
      "model_module": "@jupyter-widgets/base",
      "model_module_version": "1.2.0",
      "model_name": "LayoutModel",
      "state": {}
     },
     "36e5ebfd07b64006a263466752cc95a0": {
      "model_module": "@jupyter-widgets/controls",
      "model_module_version": "1.5.0",
      "model_name": "TabModel",
      "state": {
       "_titles": {
        "0": "Global Controls",
        "1": "Protected Area Controls",
        "2": "Saturation Controls",
        "3": "Hue Controls"
       },
       "children": [
        "IPY_MODEL_2a6baf92059a4df8ad0bbbb83bc08e1c",
        "IPY_MODEL_4ac6c736c7cf4ba49e5e8b34a0560b48",
        "IPY_MODEL_ee2238e29a3241a9acd360b38c4c3704",
        "IPY_MODEL_7cf06588213e4c6cb072316afe94b282"
       ],
       "layout": "IPY_MODEL_8a515501639e4a02a588bdbd5b4fac88"
      }
     },
     "36ee5ac63d2e45309dbf4169ab40aa3d": {
      "model_module": "@jupyter-widgets/base",
      "model_module_version": "1.2.0",
      "model_name": "LayoutModel",
      "state": {
       "border": "solid 4px #222",
       "margin": "4px",
       "padding": "0"
      }
     },
     "370e8552b5ad49a897bdcadbf4f83882": {
      "model_module": "@jupyter-widgets/controls",
      "model_module_version": "1.5.0",
      "model_name": "SliderStyleModel",
      "state": {
       "description_width": ""
      }
     },
     "373661e311a44b5193cf80608ae524a2": {
      "model_module": "@jupyter-widgets/output",
      "model_module_version": "1.0.0",
      "model_name": "OutputModel",
      "state": {
       "layout": "IPY_MODEL_d9d581f68b434e6893ca56ffbe8d3817",
       "outputs": [
        {
         "data": {
          "application/vnd.jupyter.widget-view+json": {
           "model_id": "f5835d38a8704b3198283b012a49c9fc",
           "version_major": 2,
           "version_minor": 0
          },
          "text/plain": "Canvas(toolbar=Toolbar(toolitems=[('Home', 'Reset original view', 'home', 'home'), ('Back', 'Back to previous …"
         },
         "metadata": {},
         "output_type": "display_data"
        }
       ]
      }
     },
     "373b3af3279d4b53bd8e5fef2727c635": {
      "model_module": "@jupyter-widgets/controls",
      "model_module_version": "1.5.0",
      "model_name": "SliderStyleModel",
      "state": {
       "description_width": ""
      }
     },
     "37436f242081425f83af893c2e7c8aac": {
      "model_module": "@jupyter-widgets/controls",
      "model_module_version": "1.5.0",
      "model_name": "HBoxModel",
      "state": {
       "children": [
        "IPY_MODEL_f9e19652516f408f9de7f8e8356e033e",
        "IPY_MODEL_a9d0670853064df8994ac9696318b53b",
        "IPY_MODEL_bb87d68b46a34e0cb8653cfa2910a782"
       ],
       "layout": "IPY_MODEL_8ee67076f6ab4540a8ac2e5d2b1c05da"
      }
     },
     "37a88fee0bd44f75bf526af0e4cecfbf": {
      "model_module": "@jupyter-widgets/base",
      "model_module_version": "1.2.0",
      "model_name": "LayoutModel",
      "state": {}
     },
     "3815ff2f905945fa8d417533b164c4fc": {
      "model_module": "@jupyter-widgets/base",
      "model_module_version": "1.2.0",
      "model_name": "LayoutModel",
      "state": {}
     },
     "382869c4afd848a68a0610923c00e964": {
      "model_module": "@jupyter-widgets/controls",
      "model_module_version": "1.5.0",
      "model_name": "VBoxModel",
      "state": {
       "children": [
        "IPY_MODEL_5dd751be84f641a7844feba8e3629229"
       ],
       "layout": "IPY_MODEL_906d3ebe8c654423a965d9e98ee77121"
      }
     },
     "38545708e1154ce5a5810aaee37bf9ca": {
      "model_module": "@jupyter-widgets/base",
      "model_module_version": "1.2.0",
      "model_name": "LayoutModel",
      "state": {}
     },
     "38915e88786b41f0877457145c26f4b9": {
      "model_module": "@jupyter-widgets/base",
      "model_module_version": "1.2.0",
      "model_name": "LayoutModel",
      "state": {}
     },
     "389eb75412be4fc4826da0fe2cdef625": {
      "model_module": "@jupyter-widgets/controls",
      "model_module_version": "1.5.0",
      "model_name": "SliderStyleModel",
      "state": {
       "description_width": ""
      }
     },
     "38b687660d004e259a65747b9caec955": {
      "model_module": "@jupyter-widgets/controls",
      "model_module_version": "1.5.0",
      "model_name": "ButtonModel",
      "state": {
       "description": "Reset Compression Controls",
       "layout": "IPY_MODEL_d7ab718dba784b92b840744562b13558",
       "style": "IPY_MODEL_b94b069e4b4b46ccbe303aefa8a56eaa"
      }
     },
     "38eba9a9370a412b8f7a2086611c99df": {
      "model_module": "@jupyter-widgets/base",
      "model_module_version": "1.2.0",
      "model_name": "LayoutModel",
      "state": {
       "align_items": "stretch",
       "display": "flex",
       "flex_flow": "column",
       "width": "1128px"
      }
     },
     "38f7bcbb323647b98afd7b14670d954c": {
      "model_module": "@jupyter-widgets/controls",
      "model_module_version": "1.5.0",
      "model_name": "HBoxModel",
      "state": {
       "children": [
        "IPY_MODEL_7dd59a2248f24bbbafca8a4abdfccba9",
        "IPY_MODEL_047ce6f1cbbd4139a3734eed36ddaef6"
       ],
       "layout": "IPY_MODEL_d4cdae631fad4b93b85adbca270951fc"
      }
     },
     "3915550cdcb449b2a75a756a67f3e332": {
      "model_module": "@jupyter-widgets/base",
      "model_module_version": "1.2.0",
      "model_name": "LayoutModel",
      "state": {
       "border": "solid 4px #222",
       "margin": "4px",
       "padding": "0"
      }
     },
     "3939e159522545e9a63d1f6ecb4c8868": {
      "model_module": "@jupyter-widgets/controls",
      "model_module_version": "1.5.0",
      "model_name": "FloatSliderModel",
      "state": {
       "description": "Compression Threshold",
       "layout": "IPY_MODEL_30023406f52940e28b145d6e124f1cb3",
       "max": 1,
       "step": 0.01,
       "style": "IPY_MODEL_e8d28577382e4ef988f45a903de78fff",
       "value": 0.8
      }
     },
     "396f542bf7bb4228917fd2514c700ee8": {
      "model_module": "@jupyter-widgets/base",
      "model_module_version": "1.2.0",
      "model_name": "LayoutModel",
      "state": {}
     },
     "39ba9ea21dfe414bb3fbf21d8b1a7b58": {
      "model_module": "@jupyter-widgets/controls",
      "model_module_version": "1.5.0",
      "model_name": "ButtonStyleModel",
      "state": {}
     },
     "3a10c42fec0547de831ae8bd3012786b": {
      "model_module": "@jupyter-widgets/controls",
      "model_module_version": "1.5.0",
      "model_name": "FloatSliderModel",
      "state": {
       "description": "180°",
       "layout": "IPY_MODEL_d60d148d4f05482ea4208da0f2bb6132",
       "max": 1,
       "min": -1,
       "step": 0.01,
       "style": "IPY_MODEL_74cad65d8ef642409ed58acb5f9fe234"
      }
     },
     "3b1b6f8cc7b44c3c8b1efe8681e9502b": {
      "model_module": "@jupyter-widgets/controls",
      "model_module_version": "1.5.0",
      "model_name": "FloatSliderModel",
      "state": {
       "description": "Compression Threshold",
       "layout": "IPY_MODEL_11216a54614542f4ae2725d13ea963f4",
       "max": 1,
       "step": 0.01,
       "style": "IPY_MODEL_24e774307f704f66a37e97681679cded",
       "value": 0.5
      }
     },
     "3baa556f1fa64ad09f1e9e2150cebf63": {
      "model_module": "@jupyter-widgets/output",
      "model_module_version": "1.0.0",
      "model_name": "OutputModel",
      "state": {
       "layout": "IPY_MODEL_eccbf3de4d6d42ea9ca44b340a25ccaa",
       "outputs": [
        {
         "data": {
          "application/vnd.jupyter.widget-view+json": {
           "model_id": "9b33d5e6e4e34680ad5ce56f03732701",
           "version_major": 2,
           "version_minor": 0
          },
          "text/plain": "Canvas(toolbar=Toolbar(toolitems=[('Home', 'Reset original view', 'home', 'home'), ('Back', 'Back to previous …"
         },
         "metadata": {},
         "output_type": "display_data"
        }
       ]
      }
     },
     "3bb5f43688b74dd58a9eb8c0dfe267d0": {
      "model_module": "@jupyter-widgets/base",
      "model_module_version": "1.2.0",
      "model_name": "LayoutModel",
      "state": {}
     },
     "3be0b78117aa4d49967a646b252138eb": {
      "model_module": "@jupyter-widgets/controls",
      "model_module_version": "1.5.0",
      "model_name": "DescriptionStyleModel",
      "state": {
       "description_width": ""
      }
     },
     "3c9f1dcea3044222920a2fb5befe78ab": {
      "model_module": "@jupyter-widgets/controls",
      "model_module_version": "1.5.0",
      "model_name": "ButtonModel",
      "state": {
       "description": "Reset Protected Area",
       "layout": "IPY_MODEL_7c820cbdf3a245a0b02de52bcd6f8f38",
       "style": "IPY_MODEL_63c2e742747a44248cbfb15325fbab35"
      }
     },
     "3cb2b00eff1a49aaaf11f9b63c12199e": {
      "model_module": "@jupyter-widgets/base",
      "model_module_version": "1.2.0",
      "model_name": "LayoutModel",
      "state": {}
     },
     "3cb60337a9684262a4973602d8cb93de": {
      "model_module": "@jupyter-widgets/base",
      "model_module_version": "1.2.0",
      "model_name": "LayoutModel",
      "state": {}
     },
     "3ce5168ae5604169af2cd27b359135ae": {
      "model_module": "@jupyter-widgets/base",
      "model_module_version": "1.2.0",
      "model_name": "LayoutModel",
      "state": {}
     },
     "3d07aa1f10d44b06aeb2068d18b84d9a": {
      "model_module": "jupyter-matplotlib",
      "model_module_version": "^0.7.2",
      "model_name": "ToolbarModel",
      "state": {
       "layout": "IPY_MODEL_b762efd796a84c2081e60b74ebf32c19",
       "toolitems": [
        [
         "Home",
         "Reset original view",
         "home",
         "home"
        ],
        [
         "Back",
         "Back to previous view",
         "arrow-left",
         "back"
        ],
        [
         "Forward",
         "Forward to next view",
         "arrow-right",
         "forward"
        ],
        [
         "Pan",
         "Pan axes with left mouse, zoom with right",
         "arrows",
         "pan"
        ],
        [
         "Zoom",
         "Zoom to rectangle",
         "square-o",
         "zoom"
        ],
        [
         "Download",
         "Download plot",
         "floppy-o",
         "save_figure"
        ]
       ]
      }
     },
     "3d170f580c854861bd86d723e387a444": {
      "model_module": "@jupyter-widgets/controls",
      "model_module_version": "1.5.0",
      "model_name": "SliderStyleModel",
      "state": {
       "description_width": ""
      }
     },
     "3dbc4e0f3ee54c10a0a7966c9329c3aa": {
      "model_module": "@jupyter-widgets/controls",
      "model_module_version": "1.5.0",
      "model_name": "SliderStyleModel",
      "state": {
       "description_width": ""
      }
     },
     "3dc117669d714f8fb4a8951c8b2a27d1": {
      "model_module": "jupyter-matplotlib",
      "model_module_version": "^0.7.2",
      "model_name": "MPLCanvasModel",
      "state": {
       "_figure_label": "Figure 11",
       "_height": 430,
       "_width": 1099,
       "header_visible": false,
       "layout": "IPY_MODEL_907d1cee277e4be9907da31bfc651356",
       "resizable": false,
       "toolbar": "IPY_MODEL_0a22b981797941a8ad0a509c58f865af",
       "toolbar_position": "left",
       "toolbar_visible": false
      }
     },
     "3dd67487665d4c8688d725cddc85ccf3": {
      "model_module": "@jupyter-widgets/controls",
      "model_module_version": "1.5.0",
      "model_name": "HBoxModel",
      "state": {
       "children": [
        "IPY_MODEL_1e4d7296229d465cb9fa06a31daa69e7",
        "IPY_MODEL_e43b3a92fb36402f9ed0f8016a654bb4"
       ],
       "layout": "IPY_MODEL_9e2c75c8e04e425098c9a9880ff8f5a9"
      }
     },
     "3dec3296cb1548cfb9b418a6657904d2": {
      "model_module": "@jupyter-widgets/base",
      "model_module_version": "1.2.0",
      "model_name": "LayoutModel",
      "state": {}
     },
     "3e110f1867d349be9929613beca61d1e": {
      "model_module": "@jupyter-widgets/base",
      "model_module_version": "1.2.0",
      "model_name": "LayoutModel",
      "state": {
       "border": "solid 4px #222",
       "margin": "4px",
       "padding": "0"
      }
     },
     "3e96e52950c34bb8ba07dbe9c8433518": {
      "model_module": "@jupyter-widgets/controls",
      "model_module_version": "1.5.0",
      "model_name": "FloatSliderModel",
      "state": {
       "description": "225°",
       "layout": "IPY_MODEL_df2c193ff8ea4a728980a5b9c385f93b",
       "max": 1,
       "min": -1,
       "step": 0.01,
       "style": "IPY_MODEL_95812001683d4d7e8ffd94892d76450d"
      }
     },
     "3ea4f7faf8ea448cbe6ac673f17270a1": {
      "model_module": "@jupyter-widgets/output",
      "model_module_version": "1.0.0",
      "model_name": "OutputModel",
      "state": {
       "layout": "IPY_MODEL_9d48592e3dd347d584e8ec508d33db23",
       "outputs": [
        {
         "data": {
          "application/vnd.jupyter.widget-view+json": {
           "model_id": "ef64203d583d490792ac7a9c928ab7b0",
           "version_major": 2,
           "version_minor": 0
          },
          "text/plain": "Canvas(toolbar=Toolbar(toolitems=[('Home', 'Reset original view', 'home', 'home'), ('Back', 'Back to previous …"
         },
         "metadata": {},
         "output_type": "display_data"
        }
       ]
      }
     },
     "3ec7a7d651c147198b392cbc523088e4": {
      "model_module": "@jupyter-widgets/base",
      "model_module_version": "1.2.0",
      "model_name": "LayoutModel",
      "state": {}
     },
     "3ed77e1c5a6a409cbab6723845547a1b": {
      "model_module": "@jupyter-widgets/controls",
      "model_module_version": "1.5.0",
      "model_name": "FloatSliderModel",
      "state": {
       "description": "315°",
       "layout": "IPY_MODEL_32f606a1021441768c8c1f143c87a980",
       "max": 1,
       "min": -1,
       "step": 0.01,
       "style": "IPY_MODEL_8eb80e3cf27b4b35ac167a03881185cc"
      }
     },
     "3f174d9a1b0a477d834c981bbfe9a0c3": {
      "model_module": "@jupyter-widgets/base",
      "model_module_version": "1.2.0",
      "model_name": "LayoutModel",
      "state": {}
     },
     "3f60899723c844b38e18c2cce103c7af": {
      "model_module": "@jupyter-widgets/base",
      "model_module_version": "1.2.0",
      "model_name": "LayoutModel",
      "state": {}
     },
     "3f841fc57a6044728577575c2d13d19d": {
      "model_module": "@jupyter-widgets/controls",
      "model_module_version": "1.5.0",
      "model_name": "ButtonModel",
      "state": {
       "description": "Reset Protected Area",
       "layout": "IPY_MODEL_ed33aa987a1c409a8506e431a132d44b",
       "style": "IPY_MODEL_42c84973f71342c1b9181990d09678c5"
      }
     },
     "3f9df11e3fcb43eb87feaf0ff60b1808": {
      "model_module": "@jupyter-widgets/controls",
      "model_module_version": "1.5.0",
      "model_name": "FloatSliderModel",
      "state": {
       "description": "90°",
       "layout": "IPY_MODEL_f55d54803cc245a7a286c1c99fec2cac",
       "max": 1,
       "min": -1,
       "step": 0.01,
       "style": "IPY_MODEL_a59a450c16a64f428fea384a7fa553e7"
      }
     },
     "40640fa25ac740e2a7ea141eb3ea0ed8": {
      "model_module": "@jupyter-widgets/base",
      "model_module_version": "1.2.0",
      "model_name": "LayoutModel",
      "state": {}
     },
     "41917fbc591740a2819aebd1a0030660": {
      "model_module": "@jupyter-widgets/base",
      "model_module_version": "1.2.0",
      "model_name": "LayoutModel",
      "state": {}
     },
     "4194703268034eaa9d89467f1f9fe5ec": {
      "model_module": "@jupyter-widgets/base",
      "model_module_version": "1.2.0",
      "model_name": "LayoutModel",
      "state": {}
     },
     "41aa13c8faa74852a5a0173f7cf84f76": {
      "model_module": "@jupyter-widgets/controls",
      "model_module_version": "1.5.0",
      "model_name": "ButtonStyleModel",
      "state": {}
     },
     "42408068a92d4f5ba65f2e7cbc7ea203": {
      "model_module": "@jupyter-widgets/controls",
      "model_module_version": "1.5.0",
      "model_name": "ButtonStyleModel",
      "state": {}
     },
     "426ea46e5cbf4e94b470d0578838c473": {
      "model_module": "jupyter-matplotlib",
      "model_module_version": "^0.7.2",
      "model_name": "MPLCanvasModel",
      "state": {
       "_figure_label": "Figure 17",
       "_height": 550,
       "_width": 1100,
       "header_visible": false,
       "layout": "IPY_MODEL_c29c85053eef49c79668244f9133fc9d",
       "resizable": false,
       "toolbar": "IPY_MODEL_f2228debb7f4403fb5a61dfe7da0a843",
       "toolbar_position": "left",
       "toolbar_visible": false
      }
     },
     "4287b5528d574db8a99a0cbf5f56c1f7": {
      "model_module": "@jupyter-widgets/base",
      "model_module_version": "1.2.0",
      "model_name": "LayoutModel",
      "state": {}
     },
     "429c911624314cb5b0e2100112aa2dc9": {
      "model_module": "@jupyter-widgets/controls",
      "model_module_version": "1.5.0",
      "model_name": "CheckboxModel",
      "state": {
       "description": "Disable Medicina",
       "disabled": false,
       "layout": "IPY_MODEL_1379844a42684c9eafdae5127c1d43db",
       "style": "IPY_MODEL_658878e1e080479c8935cc1e2861fa12",
       "value": false
      }
     },
     "42c84973f71342c1b9181990d09678c5": {
      "model_module": "@jupyter-widgets/controls",
      "model_module_version": "1.5.0",
      "model_name": "ButtonStyleModel",
      "state": {}
     },
     "4370117375ec4b0ab4c12b385fc333bd": {
      "model_module": "@jupyter-widgets/base",
      "model_module_version": "1.2.0",
      "model_name": "LayoutModel",
      "state": {}
     },
     "43aaa9ba46c742648199acc25eb74c81": {
      "model_module": "@jupyter-widgets/controls",
      "model_module_version": "1.5.0",
      "model_name": "ButtonModel",
      "state": {
       "description": "Reset Hue Controls",
       "layout": "IPY_MODEL_7fc52b1df2254e5fb2094230b7461e43",
       "style": "IPY_MODEL_58b5f88d4e0241cf8839219ddbb7daea"
      }
     },
     "43ed060498104d7988e0f6ca92103111": {
      "model_module": "jupyter-matplotlib",
      "model_module_version": "^0.7.2",
      "model_name": "MPLCanvasModel",
      "state": {
       "_figure_label": "Figure 20",
       "_height": 550,
       "_width": 1100,
       "header_visible": false,
       "layout": "IPY_MODEL_2a1c10adf74e4116ac9a13a9dbe3a6ac",
       "resizable": false,
       "toolbar": "IPY_MODEL_d8a3e6ed944f4cf0a6bef2b21bd6e7db",
       "toolbar_position": "left",
       "toolbar_visible": false
      }
     },
     "456c88ee685b4af9aabacd6b03976da8": {
      "model_module": "@jupyter-widgets/controls",
      "model_module_version": "1.5.0",
      "model_name": "TabModel",
      "state": {
       "_titles": {
        "0": "Global Controls",
        "1": "Protected Area Controls",
        "2": "Saturation Controls",
        "3": "Hue Controls"
       },
       "children": [
        "IPY_MODEL_cd1947a909fe47adb5c072874362edef",
        "IPY_MODEL_5edceed4cd794b49be2b321b11395ca4",
        "IPY_MODEL_ec6dec4ae8904cca9a3fce5804b31c5f",
        "IPY_MODEL_8d3f45d301f1491088ffb6836f5814b3"
       ],
       "layout": "IPY_MODEL_2a2ef8431a314326a80b6efc549e3275"
      }
     },
     "457d54d434a44c56a69ba176e5261dad": {
      "model_module": "@jupyter-widgets/base",
      "model_module_version": "1.2.0",
      "model_name": "LayoutModel",
      "state": {}
     },
     "45afb456b3c842239b68e58fcf8aa434": {
      "model_module": "@jupyter-widgets/controls",
      "model_module_version": "1.5.0",
      "model_name": "SliderStyleModel",
      "state": {
       "description_width": ""
      }
     },
     "45c37090d8574c63839e75198142d5b5": {
      "model_module": "jupyter-matplotlib",
      "model_module_version": "^0.7.2",
      "model_name": "MPLCanvasModel",
      "state": {
       "_figure_label": "Figure 4",
       "_height": 618,
       "_width": 1099,
       "header_visible": false,
       "layout": "IPY_MODEL_2f574a7c741e49e5ab5cc83c7de1e608",
       "resizable": false,
       "toolbar": "IPY_MODEL_a599f4548a58449b947afa0ac33c85e1",
       "toolbar_position": "left",
       "toolbar_visible": false
      }
     },
     "45cdc639a1914741ab4f06d44898364d": {
      "model_module": "@jupyter-widgets/base",
      "model_module_version": "1.2.0",
      "model_name": "LayoutModel",
      "state": {}
     },
     "45ee0a105c4448b7bbc7e758d61bad2a": {
      "model_module": "@jupyter-widgets/base",
      "model_module_version": "1.2.0",
      "model_name": "LayoutModel",
      "state": {}
     },
     "45fcee9c338f44a89180cf20c06d9baf": {
      "model_module": "@jupyter-widgets/base",
      "model_module_version": "1.2.0",
      "model_name": "LayoutModel",
      "state": {}
     },
     "46a082263a264fcd9772f7f9b3950abc": {
      "model_module": "@jupyter-widgets/controls",
      "model_module_version": "1.5.0",
      "model_name": "SliderStyleModel",
      "state": {
       "description_width": ""
      }
     },
     "46a2553f84094e10b0ac12d3a8061285": {
      "model_module": "@jupyter-widgets/controls",
      "model_module_version": "1.5.0",
      "model_name": "HBoxModel",
      "state": {
       "children": [
        "IPY_MODEL_a87e78f762cd435a8ab81e5eeb0ae861",
        "IPY_MODEL_9965b51c976b4bec8b958380c64f9c1e"
       ],
       "layout": "IPY_MODEL_c1fdecb1a1f84ad89afb37bc94df150b"
      }
     },
     "46b70406bea2417eb882b8fc337e29a2": {
      "model_module": "@jupyter-widgets/base",
      "model_module_version": "1.2.0",
      "model_name": "LayoutModel",
      "state": {}
     },
     "46cf84a8399c40a7850493a17c23f51d": {
      "model_module": "@jupyter-widgets/base",
      "model_module_version": "1.2.0",
      "model_name": "LayoutModel",
      "state": {}
     },
     "46d1151d488a4ea1aa2098741262f0d8": {
      "model_module": "@jupyter-widgets/controls",
      "model_module_version": "1.5.0",
      "model_name": "ButtonModel",
      "state": {
       "description": "Export Image",
       "layout": "IPY_MODEL_2c788e9fe14f4efe8186c0d1e1ae944f",
       "style": "IPY_MODEL_2e6a80f2d31343bca962cc4c3598e6d5"
      }
     },
     "46d50daf391a41e59f83a0f5f3767835": {
      "model_module": "@jupyter-widgets/controls",
      "model_module_version": "1.5.0",
      "model_name": "SliderStyleModel",
      "state": {
       "description_width": ""
      }
     },
     "46de8ec3659d47f1bd33ef294fd6fa43": {
      "model_module": "@jupyter-widgets/controls",
      "model_module_version": "1.5.0",
      "model_name": "SliderStyleModel",
      "state": {
       "description_width": ""
      }
     },
     "46fc24efa95d43bd8ef4f0f9a856807e": {
      "model_module": "@jupyter-widgets/controls",
      "model_module_version": "1.5.0",
      "model_name": "FloatSliderModel",
      "state": {
       "description": "Compression Threshold",
       "layout": "IPY_MODEL_a8d5d924fae74f73be834922df9cd5b0",
       "max": 1,
       "step": 0.01,
       "style": "IPY_MODEL_edfc2c72267f4b01b9fcfc61f21f9a07",
       "value": 0.8
      }
     },
     "47123a0f5d5142fb90c16bd28dddc894": {
      "model_module": "@jupyter-widgets/base",
      "model_module_version": "1.2.0",
      "model_name": "LayoutModel",
      "state": {
       "border": "solid 4px #222",
       "margin": "4px",
       "padding": "0"
      }
     },
     "47246da3c2644689b77063ab9caf6567": {
      "model_module": "@jupyter-widgets/controls",
      "model_module_version": "1.5.0",
      "model_name": "SliderStyleModel",
      "state": {
       "description_width": ""
      }
     },
     "478db08392db487291d097f3c1a5a932": {
      "model_module": "@jupyter-widgets/base",
      "model_module_version": "1.2.0",
      "model_name": "LayoutModel",
      "state": {}
     },
     "4795a3437c4548ee8907c77d643d385b": {
      "model_module": "@jupyter-widgets/base",
      "model_module_version": "1.2.0",
      "model_name": "LayoutModel",
      "state": {
       "border": "solid 4px #222",
       "margin": "4px",
       "padding": "0"
      }
     },
     "4801387c95a24b969ef15a2f673ce5e8": {
      "model_module": "@jupyter-widgets/base",
      "model_module_version": "1.2.0",
      "model_name": "LayoutModel",
      "state": {}
     },
     "489a28a5e05741229770a1ef1abcfccd": {
      "model_module": "@jupyter-widgets/output",
      "model_module_version": "1.0.0",
      "model_name": "OutputModel",
      "state": {
       "layout": "IPY_MODEL_30bd3c1cb4fa4dbd870d0675d690872c",
       "outputs": [
        {
         "data": {
          "application/vnd.jupyter.widget-view+json": {
           "model_id": "9817bdf994b04e99bc32abc89a141c51",
           "version_major": 2,
           "version_minor": 0
          },
          "text/plain": "Canvas(toolbar=Toolbar(toolitems=[('Home', 'Reset original view', 'home', 'home'), ('Back', 'Back to previous …"
         },
         "metadata": {},
         "output_type": "display_data"
        }
       ]
      }
     },
     "48ae30ff778d485cb087fbf564bf0a8d": {
      "model_module": "@jupyter-widgets/base",
      "model_module_version": "1.2.0",
      "model_name": "LayoutModel",
      "state": {}
     },
     "48c3baef0cab442ba7acf7a79eca3b18": {
      "model_module": "@jupyter-widgets/base",
      "model_module_version": "1.2.0",
      "model_name": "LayoutModel",
      "state": {
       "border": "solid 4px #222",
       "margin": "4px",
       "padding": "0"
      }
     },
     "4922ed5c7da649169cc2bff218f7373b": {
      "model_module": "@jupyter-widgets/base",
      "model_module_version": "1.2.0",
      "model_name": "LayoutModel",
      "state": {
       "border": "solid 4px #222",
       "margin": "4px",
       "padding": "0"
      }
     },
     "499a7237649941e4af80a12ddbe2be4f": {
      "model_module": "@jupyter-widgets/controls",
      "model_module_version": "1.5.0",
      "model_name": "SliderStyleModel",
      "state": {
       "description_width": ""
      }
     },
     "49d2c4e2a2154426ade4ae56a1c894b8": {
      "model_module": "jupyter-matplotlib",
      "model_module_version": "^0.7.2",
      "model_name": "MPLCanvasModel",
      "state": {
       "_figure_label": "Figure 8",
       "_height": 465,
       "_width": 1099,
       "header_visible": false,
       "layout": "IPY_MODEL_7037df37c9b2462aa0212efb1f0f0dac",
       "resizable": false,
       "toolbar": "IPY_MODEL_3d07aa1f10d44b06aeb2068d18b84d9a",
       "toolbar_position": "left",
       "toolbar_visible": false
      }
     },
     "49d53d3d3a3b4e4fad6ef703fd62595f": {
      "model_module": "@jupyter-widgets/output",
      "model_module_version": "1.0.0",
      "model_name": "OutputModel",
      "state": {
       "layout": "IPY_MODEL_1d3d5175663643af9be1b3069a3100f5",
       "outputs": [
        {
         "data": {
          "application/vnd.jupyter.widget-view+json": {
           "model_id": "b0024756a51f4ce48a25780282a555b0",
           "version_major": 2,
           "version_minor": 0
          },
          "text/plain": "Canvas(toolbar=Toolbar(toolitems=[('Home', 'Reset original view', 'home', 'home'), ('Back', 'Back to previous …"
         },
         "metadata": {},
         "output_type": "display_data"
        }
       ]
      }
     },
     "49d5a0687717449bbab13414c94c80fb": {
      "model_module": "@jupyter-widgets/controls",
      "model_module_version": "1.5.0",
      "model_name": "SliderStyleModel",
      "state": {
       "description_width": ""
      }
     },
     "49d80e6de8ff4f918fe73c687dee77b5": {
      "model_module": "@jupyter-widgets/controls",
      "model_module_version": "1.5.0",
      "model_name": "DescriptionStyleModel",
      "state": {
       "description_width": ""
      }
     },
     "4a1525296a31485e87fad11013605957": {
      "model_module": "@jupyter-widgets/base",
      "model_module_version": "1.2.0",
      "model_name": "LayoutModel",
      "state": {
       "border": "solid 4px #222",
       "margin": "4px",
       "padding": "0"
      }
     },
     "4a2ecb8129ed4babab75ba289ed2101b": {
      "model_module": "@jupyter-widgets/base",
      "model_module_version": "1.2.0",
      "model_name": "LayoutModel",
      "state": {}
     },
     "4a81d5b3c6ff4bb7aa8e6a4f854af0bc": {
      "model_module": "@jupyter-widgets/controls",
      "model_module_version": "1.5.0",
      "model_name": "DescriptionStyleModel",
      "state": {
       "description_width": ""
      }
     },
     "4a95659c9cdd4e52951a62b2898dfc12": {
      "model_module": "@jupyter-widgets/base",
      "model_module_version": "1.2.0",
      "model_name": "LayoutModel",
      "state": {}
     },
     "4aa2860055784d61b31cb0306c830b8a": {
      "model_module": "@jupyter-widgets/base",
      "model_module_version": "1.2.0",
      "model_name": "LayoutModel",
      "state": {}
     },
     "4ab72c5df97947cf9e9c99f308518f8e": {
      "model_module": "@jupyter-widgets/controls",
      "model_module_version": "1.5.0",
      "model_name": "DescriptionStyleModel",
      "state": {
       "description_width": ""
      }
     },
     "4ac6c736c7cf4ba49e5e8b34a0560b48": {
      "model_module": "@jupyter-widgets/controls",
      "model_module_version": "1.5.0",
      "model_name": "HBoxModel",
      "state": {
       "children": [
        "IPY_MODEL_13e3bbbefa0f4ceda8df8b35155df4c8",
        "IPY_MODEL_952a2d4dd0a04800877aba11b3ab4774"
       ],
       "layout": "IPY_MODEL_1515e6f164264ea5ab0708d9776454c5"
      }
     },
     "4b542df470534e58aaceee55e5e8b42f": {
      "model_module": "@jupyter-widgets/controls",
      "model_module_version": "1.5.0",
      "model_name": "ButtonStyleModel",
      "state": {}
     },
     "4b7660bf05984763b9f417bc14aec6a1": {
      "model_module": "@jupyter-widgets/controls",
      "model_module_version": "1.5.0",
      "model_name": "FloatSliderModel",
      "state": {
       "description": "90°",
       "layout": "IPY_MODEL_11ed5f03e3ed4446905d93fee9e43fcc",
       "max": 1,
       "min": -1,
       "step": 0.01,
       "style": "IPY_MODEL_30fa9de936884e5f85af6805451e8a7d"
      }
     },
     "4bae2f7b67bd4d3ab13e16784072c4cd": {
      "model_module": "@jupyter-widgets/controls",
      "model_module_version": "1.5.0",
      "model_name": "FloatSliderModel",
      "state": {
       "description": "270°",
       "layout": "IPY_MODEL_273dbd58d2f54014a58a41342e031459",
       "max": 1,
       "min": -1,
       "step": 0.01,
       "style": "IPY_MODEL_c2e1c1887b3745959d86f041d9ec81bb"
      }
     },
     "4c47caa7853941a3bd6fe9f973b54c43": {
      "model_module": "@jupyter-widgets/controls",
      "model_module_version": "1.5.0",
      "model_name": "HBoxModel",
      "state": {
       "children": [
        "IPY_MODEL_daca6758c24a456e852e549e44d861af",
        "IPY_MODEL_0b63c050b0c54940a27661c6881866cc"
       ],
       "layout": "IPY_MODEL_a6d45fcb444a48228ae97fa37900ae06"
      }
     },
     "4c963b6dbaf640db9b9232606cc1c84a": {
      "model_module": "@jupyter-widgets/base",
      "model_module_version": "1.2.0",
      "model_name": "LayoutModel",
      "state": {}
     },
     "4de67aa95d614182835e3f3d5275814c": {
      "model_module": "@jupyter-widgets/base",
      "model_module_version": "1.2.0",
      "model_name": "LayoutModel",
      "state": {}
     },
     "4e06cfd493e94bf3963204f937c9782e": {
      "model_module": "@jupyter-widgets/base",
      "model_module_version": "1.2.0",
      "model_name": "LayoutModel",
      "state": {}
     },
     "4e4346ddcebc4982ad51e41278038034": {
      "model_module": "@jupyter-widgets/base",
      "model_module_version": "1.2.0",
      "model_name": "LayoutModel",
      "state": {}
     },
     "4e60529e9d57403aa208b2733d3030ad": {
      "model_module": "@jupyter-widgets/base",
      "model_module_version": "1.2.0",
      "model_name": "LayoutModel",
      "state": {}
     },
     "4e67ef890df745dbb18284880c9955ef": {
      "model_module": "@jupyter-widgets/base",
      "model_module_version": "1.2.0",
      "model_name": "LayoutModel",
      "state": {
       "border": "solid 4px #222",
       "margin": "4px",
       "padding": "0"
      }
     },
     "4eb412f5b7bf47beb60c7789a02aff7c": {
      "model_module": "@jupyter-widgets/base",
      "model_module_version": "1.2.0",
      "model_name": "LayoutModel",
      "state": {}
     },
     "4edc67b80e0d4525b2e129e342830796": {
      "model_module": "@jupyter-widgets/base",
      "model_module_version": "1.2.0",
      "model_name": "LayoutModel",
      "state": {}
     },
     "4ef5bb77fa1b48c49399db5b5c25b248": {
      "model_module": "@jupyter-widgets/base",
      "model_module_version": "1.2.0",
      "model_name": "LayoutModel",
      "state": {}
     },
     "4f065a0f2bf946e8b3996916a9b5108d": {
      "model_module": "@jupyter-widgets/controls",
      "model_module_version": "1.5.0",
      "model_name": "ButtonModel",
      "state": {
       "description": "Export Image",
       "layout": "IPY_MODEL_d8f24fdd700c400e8a4a90d5d4915e4e",
       "style": "IPY_MODEL_e2e834464a634326b0ff4eab26ea2eaa"
      }
     },
     "4f48e4ca76cb4b44a77078951174066b": {
      "model_module": "@jupyter-widgets/controls",
      "model_module_version": "1.5.0",
      "model_name": "FloatSliderModel",
      "state": {
       "description": "315°",
       "layout": "IPY_MODEL_7b15a54d90ad4877ac4481af02c9dd61",
       "max": 1,
       "min": -1,
       "step": 0.01,
       "style": "IPY_MODEL_9fcaa6d99e034964869e8ebbb8b59556"
      }
     },
     "4f550de53f0646718a82d79d78a134d1": {
      "model_module": "@jupyter-widgets/controls",
      "model_module_version": "1.5.0",
      "model_name": "SliderStyleModel",
      "state": {
       "description_width": ""
      }
     },
     "4fb24d88450842cab61fc15345cb5c78": {
      "model_module": "@jupyter-widgets/base",
      "model_module_version": "1.2.0",
      "model_name": "LayoutModel",
      "state": {}
     },
     "4fb4685baf494af09f3aee61223c316f": {
      "model_module": "@jupyter-widgets/controls",
      "model_module_version": "1.5.0",
      "model_name": "SliderStyleModel",
      "state": {
       "description_width": ""
      }
     },
     "4fc146488892441ea02822cd93597e85": {
      "model_module": "@jupyter-widgets/base",
      "model_module_version": "1.2.0",
      "model_name": "LayoutModel",
      "state": {}
     },
     "505b8cd5d93b40f898d3d0366dc1ee8f": {
      "model_module": "@jupyter-widgets/base",
      "model_module_version": "1.2.0",
      "model_name": "LayoutModel",
      "state": {}
     },
     "507c5b1442b048d1a88f3f85ca23e549": {
      "model_module": "@jupyter-widgets/base",
      "model_module_version": "1.2.0",
      "model_name": "LayoutModel",
      "state": {}
     },
     "50bd650a0bb746fdaf3206c1afd7e497": {
      "model_module": "@jupyter-widgets/base",
      "model_module_version": "1.2.0",
      "model_name": "LayoutModel",
      "state": {}
     },
     "5101f38efc4847b3b5d7b51abacd9ee2": {
      "model_module": "@jupyter-widgets/base",
      "model_module_version": "1.2.0",
      "model_name": "LayoutModel",
      "state": {}
     },
     "51024d42f0cd44cabf6b74ae9cd28c83": {
      "model_module": "@jupyter-widgets/base",
      "model_module_version": "1.2.0",
      "model_name": "LayoutModel",
      "state": {}
     },
     "5136ae964237467f928f1f57a322ff13": {
      "model_module": "@jupyter-widgets/base",
      "model_module_version": "1.2.0",
      "model_name": "LayoutModel",
      "state": {}
     },
     "51927ac5199049e6ac451186e2a06f42": {
      "model_module": "@jupyter-widgets/base",
      "model_module_version": "1.2.0",
      "model_name": "LayoutModel",
      "state": {}
     },
     "51c1e668e96346309589c03c0ac5080c": {
      "model_module": "@jupyter-widgets/base",
      "model_module_version": "1.2.0",
      "model_name": "LayoutModel",
      "state": {}
     },
     "522d3a07f870421a9d4724a31e6772f3": {
      "model_module": "@jupyter-widgets/controls",
      "model_module_version": "1.5.0",
      "model_name": "DescriptionStyleModel",
      "state": {
       "description_width": ""
      }
     },
     "5285a28633244900a3ee492062b3ec21": {
      "model_module": "@jupyter-widgets/controls",
      "model_module_version": "1.5.0",
      "model_name": "ButtonStyleModel",
      "state": {}
     },
     "52caac7644c24d1ab1b1928465c20b80": {
      "model_module": "@jupyter-widgets/controls",
      "model_module_version": "1.5.0",
      "model_name": "FloatSliderModel",
      "state": {
       "description": "Compression Threshold",
       "layout": "IPY_MODEL_4194703268034eaa9d89467f1f9fe5ec",
       "max": 1,
       "step": 0.01,
       "style": "IPY_MODEL_370e8552b5ad49a897bdcadbf4f83882",
       "value": 0.8
      }
     },
     "52dacff4fa17406b88bec098dcc6fb83": {
      "model_module": "@jupyter-widgets/controls",
      "model_module_version": "1.5.0",
      "model_name": "SliderStyleModel",
      "state": {
       "description_width": ""
      }
     },
     "536bb307f5304bdf849d485b8eb9ff38": {
      "model_module": "@jupyter-widgets/base",
      "model_module_version": "1.2.0",
      "model_name": "LayoutModel",
      "state": {}
     },
     "537c1b570cb0446f90d51b65c5c7ddc6": {
      "model_module": "@jupyter-widgets/controls",
      "model_module_version": "1.5.0",
      "model_name": "SliderStyleModel",
      "state": {
       "description_width": ""
      }
     },
     "539fbe23de2944f19bf09ac4f5e37c65": {
      "model_module": "@jupyter-widgets/controls",
      "model_module_version": "1.5.0",
      "model_name": "BoxModel",
      "state": {
       "children": [
        "IPY_MODEL_201c2d3c0ed741ce8a0b1306c74b016e",
        "IPY_MODEL_6c8cc639744243a9a56e22621c1d4416"
       ],
       "layout": "IPY_MODEL_b07b5cb423964ec481287beeeb9ba8f4"
      }
     },
     "540ae5dfd0e44f02ad59a020f4d162df": {
      "model_module": "@jupyter-widgets/base",
      "model_module_version": "1.2.0",
      "model_name": "LayoutModel",
      "state": {}
     },
     "547ad24b0adc4476bbf3835d3a996d6c": {
      "model_module": "@jupyter-widgets/controls",
      "model_module_version": "1.5.0",
      "model_name": "CheckboxModel",
      "state": {
       "description": "Disable Medicina",
       "disabled": false,
       "layout": "IPY_MODEL_3815ff2f905945fa8d417533b164c4fc",
       "style": "IPY_MODEL_7493a70826ea4b3397a89e62bb659093",
       "value": false
      }
     },
     "54a17eb73b6f4f3e82d908f4f4836cd9": {
      "model_module": "@jupyter-widgets/controls",
      "model_module_version": "1.5.0",
      "model_name": "FloatSliderModel",
      "state": {
       "description": "135°",
       "layout": "IPY_MODEL_0a03c626b0c34baba5a0fe8066433f9d",
       "max": 1,
       "min": -1,
       "step": 0.01,
       "style": "IPY_MODEL_4f550de53f0646718a82d79d78a134d1"
      }
     },
     "54b7c4522e71478a842973bf1d0d71c8": {
      "model_module": "@jupyter-widgets/controls",
      "model_module_version": "1.5.0",
      "model_name": "VBoxModel",
      "state": {
       "children": [
        "IPY_MODEL_17f18e4335ce46069f85d3d3101cec3f"
       ],
       "layout": "IPY_MODEL_38915e88786b41f0877457145c26f4b9"
      }
     },
     "54e30b5dce4a454aacedc895e2fc4cca": {
      "model_module": "@jupyter-widgets/controls",
      "model_module_version": "1.5.0",
      "model_name": "SliderStyleModel",
      "state": {
       "description_width": ""
      }
     },
     "54fba1cdbdb9438a819eaf8f9c3e782e": {
      "model_module": "@jupyter-widgets/controls",
      "model_module_version": "1.5.0",
      "model_name": "FloatSliderModel",
      "state": {
       "description": "180°",
       "layout": "IPY_MODEL_c71246b46e01487ebd5f78d6e2f154a2",
       "max": 1,
       "min": -1,
       "step": 0.01,
       "style": "IPY_MODEL_70dbbd2b1adb436f84adbdedcd05d8a6"
      }
     },
     "55406c1cb6934b1e9953cd18586919d3": {
      "model_module": "@jupyter-widgets/controls",
      "model_module_version": "1.5.0",
      "model_name": "HBoxModel",
      "state": {
       "children": [
        "IPY_MODEL_aa81be31974645958f13a2a8ecd83b41",
        "IPY_MODEL_bb39aa91b1534982a646ffa9229b1b55"
       ],
       "layout": "IPY_MODEL_970b4656a39e42b488b3f8be0e540642"
      }
     },
     "556734a439a34209898b9a595d6f4bf0": {
      "model_module": "@jupyter-widgets/controls",
      "model_module_version": "1.5.0",
      "model_name": "FloatSliderModel",
      "state": {
       "description": "45°",
       "layout": "IPY_MODEL_93adeb76a1d243da85288353decfae5e",
       "max": 1,
       "min": -1,
       "step": 0.01,
       "style": "IPY_MODEL_27b24d2c10a54d4aa3e4b38dc88cf7b2"
      }
     },
     "55de0499d8a94d8f9b41effc92cd495c": {
      "model_module": "@jupyter-widgets/base",
      "model_module_version": "1.2.0",
      "model_name": "LayoutModel",
      "state": {}
     },
     "56031b9d110e49758e0c799c268a07d0": {
      "model_module": "@jupyter-widgets/controls",
      "model_module_version": "1.5.0",
      "model_name": "FloatSliderModel",
      "state": {
       "description": "Compression Threshold",
       "layout": "IPY_MODEL_fbd745e0d7474b6e825aef37e4459b41",
       "max": 1,
       "step": 0.01,
       "style": "IPY_MODEL_6f88490b18f94d2882c28acd19150176",
       "value": 0.8
      }
     },
     "560d382882ce4be7afa0cb7eaf8ee1c0": {
      "model_module": "@jupyter-widgets/controls",
      "model_module_version": "1.5.0",
      "model_name": "SliderStyleModel",
      "state": {
       "description_width": ""
      }
     },
     "5617c66c66384206bbcf45ff9c6fe55f": {
      "model_module": "@jupyter-widgets/base",
      "model_module_version": "1.2.0",
      "model_name": "LayoutModel",
      "state": {}
     },
     "5651b3ec725541d1b61a0516804a248d": {
      "model_module": "@jupyter-widgets/controls",
      "model_module_version": "1.5.0",
      "model_name": "ButtonStyleModel",
      "state": {}
     },
     "56e0ea158f454362b17c3c08b74c5317": {
      "model_module": "@jupyter-widgets/controls",
      "model_module_version": "1.5.0",
      "model_name": "ButtonStyleModel",
      "state": {}
     },
     "56f4739f281a41e1baae005f42fdddf1": {
      "model_module": "jupyter-matplotlib",
      "model_module_version": "^0.7.2",
      "model_name": "MPLCanvasModel",
      "state": {
       "_figure_label": "Figure 3",
       "_height": 396,
       "_width": 1100,
       "header_visible": false,
       "layout": "IPY_MODEL_9d5393b95eca49ad804748dec5813117",
       "resizable": false,
       "toolbar": "IPY_MODEL_eef8c320a6d244a0b90cb3c38550c3ad",
       "toolbar_position": "left",
       "toolbar_visible": false
      }
     },
     "57be0b25302e41099f1afee0020ddb86": {
      "model_module": "@jupyter-widgets/controls",
      "model_module_version": "1.5.0",
      "model_name": "VBoxModel",
      "state": {
       "children": [
        "IPY_MODEL_154a96afb2404b4e9bb15e8382e2f324",
        "IPY_MODEL_8921c14cad88403cb6d2fe541d6261a8",
        "IPY_MODEL_075909a8670d4bb4ae9e344990002702"
       ],
       "layout": "IPY_MODEL_d4af4c48364b46479882b3db5935ab67"
      }
     },
     "589beba4a2964270ab49b1c9f7a75740": {
      "model_module": "@jupyter-widgets/base",
      "model_module_version": "1.2.0",
      "model_name": "LayoutModel",
      "state": {}
     },
     "58b5f88d4e0241cf8839219ddbb7daea": {
      "model_module": "@jupyter-widgets/controls",
      "model_module_version": "1.5.0",
      "model_name": "ButtonStyleModel",
      "state": {}
     },
     "5904a019d29342fabd7685c0428a4a58": {
      "model_module": "@jupyter-widgets/controls",
      "model_module_version": "1.5.0",
      "model_name": "HBoxModel",
      "state": {
       "children": [
        "IPY_MODEL_54b7c4522e71478a842973bf1d0d71c8",
        "IPY_MODEL_020efab37c124b8a9fee67972ff72fc4",
        "IPY_MODEL_d1f273ee2db747e9ad19282c42cabe6f",
        "IPY_MODEL_2422dc7a80e446c0a81dc5359ea67f04"
       ],
       "layout": "IPY_MODEL_c94dd3412f454469b5cb23c452fe6abe"
      }
     },
     "5938e9e8f231409999b4fb29c3db8ddf": {
      "model_module": "@jupyter-widgets/controls",
      "model_module_version": "1.5.0",
      "model_name": "DescriptionStyleModel",
      "state": {
       "description_width": ""
      }
     },
     "596b5e67f8f94cbc9842c0dfd915b235": {
      "model_module": "@jupyter-widgets/controls",
      "model_module_version": "1.5.0",
      "model_name": "ButtonStyleModel",
      "state": {}
     },
     "59841552048d4ff5ba5706a711169e05": {
      "model_module": "@jupyter-widgets/controls",
      "model_module_version": "1.5.0",
      "model_name": "FloatSliderModel",
      "state": {
       "description": "Protected Area Threshold",
       "layout": "IPY_MODEL_a34805a7b7fb467ba436f6bb30ca3a4c",
       "max": 1,
       "step": 0.01,
       "style": "IPY_MODEL_1334678b85f14be0b51f18ff3f6822af",
       "value": 0.7
      }
     },
     "5a00820be2264327b7fdbf69ac7ed12e": {
      "model_module": "@jupyter-widgets/controls",
      "model_module_version": "1.5.0",
      "model_name": "FloatSliderModel",
      "state": {
       "description": "0°",
       "layout": "IPY_MODEL_ea73cc5aa29b4c069f50f8234ea7e89b",
       "max": 1,
       "min": -1,
       "step": 0.01,
       "style": "IPY_MODEL_c83cfad6e878406a87914e8eb817c7fe"
      }
     },
     "5a0442a22a7f48a096717d4e44c21698": {
      "model_module": "@jupyter-widgets/controls",
      "model_module_version": "1.5.0",
      "model_name": "TabModel",
      "state": {
       "_titles": {
        "0": "Global Controls",
        "1": "Compression Controls"
       },
       "children": [
        "IPY_MODEL_1819c10cd1a64ce7ac09817c57e0835d",
        "IPY_MODEL_6c259e1c8fa1457ea18ab6d769c5959d"
       ],
       "layout": "IPY_MODEL_4e67ef890df745dbb18284880c9955ef"
      }
     },
     "5a230bbb49644c5fb421fb0ddb4f1b4d": {
      "model_module": "@jupyter-widgets/base",
      "model_module_version": "1.2.0",
      "model_name": "LayoutModel",
      "state": {}
     },
     "5a25f7142b1541b3beb15054bf0c5b1b": {
      "model_module": "@jupyter-widgets/base",
      "model_module_version": "1.2.0",
      "model_name": "LayoutModel",
      "state": {}
     },
     "5a281692160742498ded3edfb6e02604": {
      "model_module": "@jupyter-widgets/controls",
      "model_module_version": "1.5.0",
      "model_name": "HBoxModel",
      "state": {
       "children": [
        "IPY_MODEL_f4f846551ff447d0baa7d15b57809b65",
        "IPY_MODEL_05358a1887284cbeb6400128f3036f91",
        "IPY_MODEL_d530c308436441608661c0d68acfca82"
       ],
       "layout": "IPY_MODEL_720a417cfe514409ab96960e49c43773"
      }
     },
     "5aae72dcb5a746988ced1c7931abbe01": {
      "model_module": "@jupyter-widgets/controls",
      "model_module_version": "1.5.0",
      "model_name": "FloatSliderModel",
      "state": {
       "description": "135°",
       "layout": "IPY_MODEL_540ae5dfd0e44f02ad59a020f4d162df",
       "max": 1,
       "min": -1,
       "step": 0.01,
       "style": "IPY_MODEL_3dbc4e0f3ee54c10a0a7966c9329c3aa"
      }
     },
     "5adec97d82e54b448f81d9da37d2cd9f": {
      "model_module": "@jupyter-widgets/controls",
      "model_module_version": "1.5.0",
      "model_name": "TabModel",
      "state": {
       "_titles": {
        "0": "Global Controls",
        "1": "Compression Controls"
       },
       "children": [
        "IPY_MODEL_6a53e41794c849fca0e56a08d169b5f9",
        "IPY_MODEL_fad7fb06875e4a068e02caaa67f33a9b"
       ],
       "layout": "IPY_MODEL_ca4a39466250450597dd165d2713650a"
      }
     },
     "5aed4c7b810c42b18dac6d45af719b7b": {
      "model_module": "@jupyter-widgets/controls",
      "model_module_version": "1.5.0",
      "model_name": "FloatSliderModel",
      "state": {
       "description": "180°",
       "layout": "IPY_MODEL_45cdc639a1914741ab4f06d44898364d",
       "max": 1,
       "min": -1,
       "step": 0.01,
       "style": "IPY_MODEL_2e65e44ae473488f86d8fdec2b5647ef"
      }
     },
     "5aee3a934c0c4cc4aef23ca6db9deaf1": {
      "model_module": "@jupyter-widgets/controls",
      "model_module_version": "1.5.0",
      "model_name": "SliderStyleModel",
      "state": {
       "description_width": ""
      }
     },
     "5b42ac0d898e49ecba493a9249181b68": {
      "model_module": "@jupyter-widgets/output",
      "model_module_version": "1.0.0",
      "model_name": "OutputModel",
      "state": {
       "layout": "IPY_MODEL_3915550cdcb449b2a75a756a67f3e332",
       "outputs": [
        {
         "data": {
          "application/vnd.jupyter.widget-view+json": {
           "model_id": "2b1e080077e34482b57dea3e833b18c9",
           "version_major": 2,
           "version_minor": 0
          },
          "text/plain": "Canvas(toolbar=Toolbar(toolitems=[('Home', 'Reset original view', 'home', 'home'), ('Back', 'Back to previous …"
         },
         "metadata": {},
         "output_type": "display_data"
        }
       ]
      }
     },
     "5b9bfd43372c412e8fb894992e76dbf5": {
      "model_module": "@jupyter-widgets/base",
      "model_module_version": "1.2.0",
      "model_name": "LayoutModel",
      "state": {
       "border": "solid 4px #222",
       "margin": "4px",
       "padding": "0"
      }
     },
     "5bcfb58a0bf14df29bfe859b6f49a728": {
      "model_module": "@jupyter-widgets/base",
      "model_module_version": "1.2.0",
      "model_name": "LayoutModel",
      "state": {}
     },
     "5be45c58d97d44ac84822122cf2441cf": {
      "model_module": "@jupyter-widgets/base",
      "model_module_version": "1.2.0",
      "model_name": "LayoutModel",
      "state": {}
     },
     "5c2bd7f8d6d84707b7ebc2abc9712272": {
      "model_module": "@jupyter-widgets/controls",
      "model_module_version": "1.5.0",
      "model_name": "VBoxModel",
      "state": {
       "children": [
        "IPY_MODEL_a7427c4d273f4cc7b5e915d26eb4d174"
       ],
       "layout": "IPY_MODEL_5617c66c66384206bbcf45ff9c6fe55f"
      }
     },
     "5c4d0663f32d4f8eae54d3ea1c506a4e": {
      "model_module": "@jupyter-widgets/controls",
      "model_module_version": "1.5.0",
      "model_name": "FloatSliderModel",
      "state": {
       "description": "45°",
       "layout": "IPY_MODEL_912a2a5aed384612a190bb9427ed6210",
       "max": 1,
       "min": -1,
       "step": 0.01,
       "style": "IPY_MODEL_c4b98214366b469fbae81942a04f5f84"
      }
     },
     "5c58a7cc9b9d45358a7fa546028e4a53": {
      "model_module": "@jupyter-widgets/base",
      "model_module_version": "1.2.0",
      "model_name": "LayoutModel",
      "state": {}
     },
     "5c8e82cd2c9a4dbdacaec150cd189203": {
      "model_module": "@jupyter-widgets/controls",
      "model_module_version": "1.5.0",
      "model_name": "ButtonStyleModel",
      "state": {}
     },
     "5cd5c9c673d549409c986f67016137fd": {
      "model_module": "@jupyter-widgets/controls",
      "model_module_version": "1.5.0",
      "model_name": "SliderStyleModel",
      "state": {
       "description_width": ""
      }
     },
     "5d4fc47d11ed472d89c250578dd033b5": {
      "model_module": "@jupyter-widgets/base",
      "model_module_version": "1.2.0",
      "model_name": "LayoutModel",
      "state": {}
     },
     "5d5b9e926bff44279098ec936e2edca4": {
      "model_module": "@jupyter-widgets/controls",
      "model_module_version": "1.5.0",
      "model_name": "CheckboxModel",
      "state": {
       "description": "Disable Medicina",
       "disabled": false,
       "layout": "IPY_MODEL_4fb24d88450842cab61fc15345cb5c78",
       "style": "IPY_MODEL_5e5dcb7a225c43009d0586ebdcc313f8",
       "value": false
      }
     },
     "5d61a1f762e04553a85a234dff67126a": {
      "model_module": "@jupyter-widgets/controls",
      "model_module_version": "1.5.0",
      "model_name": "ButtonStyleModel",
      "state": {}
     },
     "5d6b2d07fbec4e85a9254e9edaf88aa3": {
      "model_module": "@jupyter-widgets/controls",
      "model_module_version": "1.5.0",
      "model_name": "ButtonModel",
      "state": {
       "description": "Save Figure",
       "layout": "IPY_MODEL_8d42c37b3c16447f8b1de15317736109",
       "style": "IPY_MODEL_7ffcd6fbf13d4c0f97b5616ab58dad7d"
      }
     },
     "5dd70d2f3caf48aa91fde89d3a258491": {
      "model_module": "@jupyter-widgets/base",
      "model_module_version": "1.2.0",
      "model_name": "LayoutModel",
      "state": {}
     },
     "5dd751be84f641a7844feba8e3629229": {
      "model_module": "@jupyter-widgets/controls",
      "model_module_version": "1.5.0",
      "model_name": "ButtonModel",
      "state": {
       "description": "Reset Hue Controls",
       "layout": "IPY_MODEL_45ee0a105c4448b7bbc7e758d61bad2a",
       "style": "IPY_MODEL_c09dceee90f24887a64fdd27758c58a1"
      }
     },
     "5e0abfec8e6a42ad9150039751f49e49": {
      "model_module": "@jupyter-widgets/controls",
      "model_module_version": "1.5.0",
      "model_name": "ButtonModel",
      "state": {
       "description": "Reset Hue Controls",
       "layout": "IPY_MODEL_afe2b6582d784373a942f5f665b58dbd",
       "style": "IPY_MODEL_bc941a5d9b1747b4895d9b8b7b1a9081"
      }
     },
     "5e4fc8d00e144d75818619763a50a7ee": {
      "model_module": "@jupyter-widgets/base",
      "model_module_version": "1.2.0",
      "model_name": "LayoutModel",
      "state": {}
     },
     "5e5dcb7a225c43009d0586ebdcc313f8": {
      "model_module": "@jupyter-widgets/controls",
      "model_module_version": "1.5.0",
      "model_name": "DescriptionStyleModel",
      "state": {
       "description_width": ""
      }
     },
     "5edceed4cd794b49be2b321b11395ca4": {
      "model_module": "@jupyter-widgets/controls",
      "model_module_version": "1.5.0",
      "model_name": "HBoxModel",
      "state": {
       "children": [
        "IPY_MODEL_3c9f1dcea3044222920a2fb5befe78ab",
        "IPY_MODEL_f20eacda345644d9b4eeab7f1d47e548"
       ],
       "layout": "IPY_MODEL_f5e4bef9fc924c3fa184fe900f9ff1c1"
      }
     },
     "600475a3d9324a0b901261a0ef473b04": {
      "model_module": "@jupyter-widgets/controls",
      "model_module_version": "1.5.0",
      "model_name": "TabModel",
      "state": {
       "_titles": {
        "0": "Global Controls"
       },
       "children": [
        "IPY_MODEL_aacb67776e7740aa922bf680e7449e56"
       ],
       "layout": "IPY_MODEL_3e110f1867d349be9929613beca61d1e"
      }
     },
     "60182772ca894a9facc81878845b32b9": {
      "model_module": "@jupyter-widgets/base",
      "model_module_version": "1.2.0",
      "model_name": "LayoutModel",
      "state": {}
     },
     "60204875c34a492ea5672bc89702a6d3": {
      "model_module": "@jupyter-widgets/controls",
      "model_module_version": "1.5.0",
      "model_name": "ButtonStyleModel",
      "state": {}
     },
     "607509d692ae4cdcb65d9a8a0910c594": {
      "model_module": "@jupyter-widgets/base",
      "model_module_version": "1.2.0",
      "model_name": "LayoutModel",
      "state": {}
     },
     "60c4c17983e747de84880fd9eadcf91c": {
      "model_module": "@jupyter-widgets/controls",
      "model_module_version": "1.5.0",
      "model_name": "SliderStyleModel",
      "state": {
       "description_width": ""
      }
     },
     "61387f90ed0f433692532858c8c0941e": {
      "model_module": "jupyter-matplotlib",
      "model_module_version": "^0.7.2",
      "model_name": "MPLCanvasModel",
      "state": {
       "_figure_label": "Figure 18",
       "_height": 550,
       "_width": 1100,
       "header_visible": false,
       "layout": "IPY_MODEL_cc4cb372fdcf4e2698a6e9b87608805f",
       "resizable": false,
       "toolbar": "IPY_MODEL_f7a7409a96a34cc6b9801e55c4bfae63",
       "toolbar_position": "left",
       "toolbar_visible": false
      }
     },
     "618a8bd894884777b3e5befabb6b462f": {
      "model_module": "@jupyter-widgets/controls",
      "model_module_version": "1.5.0",
      "model_name": "VBoxModel",
      "state": {
       "children": [
        "IPY_MODEL_7a73e0753d564b1b995fcaf41a43fa65",
        "IPY_MODEL_003a863e60fd4e90873375d1d0499732"
       ],
       "layout": "IPY_MODEL_e407e4480b4246c8b7a513ab0284bacc"
      }
     },
     "61f719e343a44baba4728b624dc2204e": {
      "model_module": "@jupyter-widgets/controls",
      "model_module_version": "1.5.0",
      "model_name": "ButtonModel",
      "state": {
       "description": "Reset Saturation Controls",
       "layout": "IPY_MODEL_fcca9cc90f304a9793020e5486614672",
       "style": "IPY_MODEL_25a0bb3d954c4ef7a8236ee473686c73"
      }
     },
     "626d4d878395487683e06594d79c64fc": {
      "model_module": "@jupyter-widgets/base",
      "model_module_version": "1.2.0",
      "model_name": "LayoutModel",
      "state": {}
     },
     "62bfa4bd01b7495a9abc7885a52aa809": {
      "model_module": "@jupyter-widgets/controls",
      "model_module_version": "1.5.0",
      "model_name": "SliderStyleModel",
      "state": {
       "description_width": ""
      }
     },
     "6305a33d9bd74bc3832b49a4baec4afc": {
      "model_module": "@jupyter-widgets/base",
      "model_module_version": "1.2.0",
      "model_name": "LayoutModel",
      "state": {}
     },
     "6316479910794b109340c32040cb2bcf": {
      "model_module": "@jupyter-widgets/controls",
      "model_module_version": "1.5.0",
      "model_name": "ButtonStyleModel",
      "state": {}
     },
     "633254f93a724bc886f48b33119c7cfb": {
      "model_module": "@jupyter-widgets/base",
      "model_module_version": "1.2.0",
      "model_name": "LayoutModel",
      "state": {}
     },
     "63c1f6d28bae48dfa6de6f7778642eab": {
      "model_module": "@jupyter-widgets/base",
      "model_module_version": "1.2.0",
      "model_name": "LayoutModel",
      "state": {}
     },
     "63c2e742747a44248cbfb15325fbab35": {
      "model_module": "@jupyter-widgets/controls",
      "model_module_version": "1.5.0",
      "model_name": "ButtonStyleModel",
      "state": {}
     },
     "64454e70e99642cfb65983544eb51bdf": {
      "model_module": "@jupyter-widgets/controls",
      "model_module_version": "1.5.0",
      "model_name": "ButtonModel",
      "state": {
       "description": "Reset Protected Area",
       "layout": "IPY_MODEL_8fc162eec12c4f84b61d3fe317c7d473",
       "style": "IPY_MODEL_0e53e7f68b7d40fa92a2ec54c94d194b"
      }
     },
     "644598961f204db5bf7bafc5a06145c7": {
      "model_module": "@jupyter-widgets/base",
      "model_module_version": "1.2.0",
      "model_name": "LayoutModel",
      "state": {}
     },
     "645c4b830dc341d2a08226bed35cfc0f": {
      "model_module": "@jupyter-widgets/base",
      "model_module_version": "1.2.0",
      "model_name": "LayoutModel",
      "state": {}
     },
     "646d999b1ad14836bd5abc68e05102cd": {
      "model_module": "@jupyter-widgets/base",
      "model_module_version": "1.2.0",
      "model_name": "LayoutModel",
      "state": {}
     },
     "658878e1e080479c8935cc1e2861fa12": {
      "model_module": "@jupyter-widgets/controls",
      "model_module_version": "1.5.0",
      "model_name": "DescriptionStyleModel",
      "state": {
       "description_width": ""
      }
     },
     "65d6f864429f43e3899caba94bb1cd5d": {
      "model_module": "@jupyter-widgets/controls",
      "model_module_version": "1.5.0",
      "model_name": "CheckboxModel",
      "state": {
       "description": "Disable Medicina",
       "disabled": false,
       "layout": "IPY_MODEL_75dfc23da75e42e9b1e5fedfc7f883b0",
       "style": "IPY_MODEL_e1a5e8b96a494dc6932fbca81b3a1ac6",
       "value": false
      }
     },
     "66f1756ca2194c599baa105c56786d40": {
      "model_module": "@jupyter-widgets/controls",
      "model_module_version": "1.5.0",
      "model_name": "FloatSliderModel",
      "state": {
       "description": "315°",
       "layout": "IPY_MODEL_f38c7b9ca66a42d3827e466e0b69810f",
       "max": 1,
       "min": -1,
       "step": 0.01,
       "style": "IPY_MODEL_9349e4d3937346a8b3e8e27ce236fec5"
      }
     },
     "66fbae7c6b004cacb4aaedf661766cc5": {
      "model_module": "@jupyter-widgets/controls",
      "model_module_version": "1.5.0",
      "model_name": "VBoxModel",
      "state": {
       "children": [
        "IPY_MODEL_10950b8e96bd4e278eb160f56ede4cec",
        "IPY_MODEL_4f48e4ca76cb4b44a77078951174066b"
       ],
       "layout": "IPY_MODEL_6a084b69a47f478481b3d53299df3093"
      }
     },
     "67b8b666ab534a4ebc02ea20df152f4e": {
      "model_module": "@jupyter-widgets/base",
      "model_module_version": "1.2.0",
      "model_name": "LayoutModel",
      "state": {}
     },
     "67e37669bcc84a5db043dcc6b3e0cb87": {
      "model_module": "@jupyter-widgets/base",
      "model_module_version": "1.2.0",
      "model_name": "LayoutModel",
      "state": {}
     },
     "6808c7c93ca9415388bbe3556bbbb060": {
      "model_module": "@jupyter-widgets/controls",
      "model_module_version": "1.5.0",
      "model_name": "HBoxModel",
      "state": {
       "children": [
        "IPY_MODEL_94bf8f5168a647e198b834a9a0cfd971",
        "IPY_MODEL_717f19ac1c8d4e8b91c9d22f543ab4a2"
       ],
       "layout": "IPY_MODEL_9c9d495928634b12880932b556bf07f2"
      }
     },
     "684f1659d94c4be4afe14ec1ae495aaf": {
      "model_module": "@jupyter-widgets/base",
      "model_module_version": "1.2.0",
      "model_name": "LayoutModel",
      "state": {}
     },
     "685cc81513ae4f3189df0df219612c2a": {
      "model_module": "@jupyter-widgets/base",
      "model_module_version": "1.2.0",
      "model_name": "LayoutModel",
      "state": {}
     },
     "68ec0c8e139f441989cca295384ad603": {
      "model_module": "@jupyter-widgets/base",
      "model_module_version": "1.2.0",
      "model_name": "LayoutModel",
      "state": {}
     },
     "68f54a184f7e4e9a986712b51d1fadb0": {
      "model_module": "@jupyter-widgets/base",
      "model_module_version": "1.2.0",
      "model_name": "LayoutModel",
      "state": {}
     },
     "691c2450f83d46c8a9b91d2c14b0ad7f": {
      "model_module": "@jupyter-widgets/controls",
      "model_module_version": "1.5.0",
      "model_name": "FloatSliderModel",
      "state": {
       "description": "135°",
       "layout": "IPY_MODEL_63c1f6d28bae48dfa6de6f7778642eab",
       "max": 1,
       "min": -1,
       "step": 0.01,
       "style": "IPY_MODEL_aa5da9ca75fc4fc980bb36f7c7c9133b"
      }
     },
     "69317aa7e9bd4b8b902e757ecb626f3c": {
      "model_module": "@jupyter-widgets/controls",
      "model_module_version": "1.5.0",
      "model_name": "SliderStyleModel",
      "state": {
       "description_width": ""
      }
     },
     "693bfc1c96e24a5983a92665265fd38e": {
      "model_module": "@jupyter-widgets/controls",
      "model_module_version": "1.5.0",
      "model_name": "ButtonStyleModel",
      "state": {}
     },
     "69647abae2804a3da150e02c867ac125": {
      "model_module": "@jupyter-widgets/controls",
      "model_module_version": "1.5.0",
      "model_name": "SliderStyleModel",
      "state": {
       "description_width": ""
      }
     },
     "69838d3eb68a4ab5b8707823e4a99ffc": {
      "model_module": "@jupyter-widgets/controls",
      "model_module_version": "1.5.0",
      "model_name": "SliderStyleModel",
      "state": {
       "description_width": ""
      }
     },
     "6a084b69a47f478481b3d53299df3093": {
      "model_module": "@jupyter-widgets/base",
      "model_module_version": "1.2.0",
      "model_name": "LayoutModel",
      "state": {}
     },
     "6a325397bb5e41f88152f54834560e8b": {
      "model_module": "@jupyter-widgets/base",
      "model_module_version": "1.2.0",
      "model_name": "LayoutModel",
      "state": {}
     },
     "6a4bfa8947104e84b475c7a6850f324b": {
      "model_module": "@jupyter-widgets/base",
      "model_module_version": "1.2.0",
      "model_name": "LayoutModel",
      "state": {}
     },
     "6a53e41794c849fca0e56a08d169b5f9": {
      "model_module": "@jupyter-widgets/controls",
      "model_module_version": "1.5.0",
      "model_name": "HBoxModel",
      "state": {
       "children": [
        "IPY_MODEL_1d104d78bf9242b8ab863065511f592e",
        "IPY_MODEL_a841644b494f4b5b9a5f796f82cdbcb8",
        "IPY_MODEL_05767424254c4c2dbd4daf51ab3b5d69"
       ],
       "layout": "IPY_MODEL_6305a33d9bd74bc3832b49a4baec4afc"
      }
     },
     "6a60256660da44feb6a79e4d986e5111": {
      "model_module": "@jupyter-widgets/output",
      "model_module_version": "1.0.0",
      "model_name": "OutputModel",
      "state": {
       "layout": "IPY_MODEL_352b5773ced44cc3960af8ccb40a29dc",
       "outputs": [
        {
         "data": {
          "application/vnd.jupyter.widget-view+json": {
           "model_id": "43ed060498104d7988e0f6ca92103111",
           "version_major": 2,
           "version_minor": 0
          },
          "text/plain": "Canvas(toolbar=Toolbar(toolitems=[('Home', 'Reset original view', 'home', 'home'), ('Back', 'Back to previous …"
         },
         "metadata": {},
         "output_type": "display_data"
        }
       ]
      }
     },
     "6a7f3b2cecb846d28afcfad236551669": {
      "model_module": "@jupyter-widgets/controls",
      "model_module_version": "1.5.0",
      "model_name": "HBoxModel",
      "state": {
       "children": [
        "IPY_MODEL_fe7c62f90a804f2c94f651154496dea2",
        "IPY_MODEL_bf8882dd05dc46b5be7f5ec5e2cfe1b3",
        "IPY_MODEL_c4d0a93db4a04bd495ff011649d7e58a"
       ],
       "layout": "IPY_MODEL_55de0499d8a94d8f9b41effc92cd495c"
      }
     },
     "6a8946fbc4704683a204540d505dc612": {
      "model_module": "@jupyter-widgets/controls",
      "model_module_version": "1.5.0",
      "model_name": "ButtonModel",
      "state": {
       "description": "Export Image",
       "layout": "IPY_MODEL_c7686ec7692e40638a768c5ccdaa59d5",
       "style": "IPY_MODEL_d1d73ed6cb754d5eb62f85932aa63ff6"
      }
     },
     "6a8d5dd012954351ac38e72ab031b8c8": {
      "model_module": "@jupyter-widgets/controls",
      "model_module_version": "1.5.0",
      "model_name": "FloatSliderModel",
      "state": {
       "description": "135°",
       "layout": "IPY_MODEL_4a95659c9cdd4e52951a62b2898dfc12",
       "max": 1,
       "min": -1,
       "step": 0.01,
       "style": "IPY_MODEL_a8ed82341ad348fe881e170c59ae8e7c"
      }
     },
     "6b2d4f528d18416ca5040e5127b68abe": {
      "model_module": "@jupyter-widgets/controls",
      "model_module_version": "1.5.0",
      "model_name": "ButtonModel",
      "state": {
       "description": "Reset Saturation Controls",
       "layout": "IPY_MODEL_505b8cd5d93b40f898d3d0366dc1ee8f",
       "style": "IPY_MODEL_b2215e1d1d4b43aeb9ec8f4e44abdece"
      }
     },
     "6b923b18f74a42d6bcd46f5adedc32eb": {
      "model_module": "@jupyter-widgets/controls",
      "model_module_version": "1.5.0",
      "model_name": "DescriptionStyleModel",
      "state": {
       "description_width": ""
      }
     },
     "6c259e1c8fa1457ea18ab6d769c5959d": {
      "model_module": "@jupyter-widgets/controls",
      "model_module_version": "1.5.0",
      "model_name": "HBoxModel",
      "state": {
       "children": [
        "IPY_MODEL_97a8b23ea26b452e96c52032eb51dd48",
        "IPY_MODEL_7e07561a0f0244fcb93b53fdaaf6107d"
       ],
       "layout": "IPY_MODEL_ad3666ac01f148149309d3e28ac5cbe3"
      }
     },
     "6c4805121f66426e955d52c8399941ab": {
      "model_module": "@jupyter-widgets/base",
      "model_module_version": "1.2.0",
      "model_name": "LayoutModel",
      "state": {}
     },
     "6c8cc639744243a9a56e22621c1d4416": {
      "model_module": "@jupyter-widgets/controls",
      "model_module_version": "1.5.0",
      "model_name": "TabModel",
      "state": {
       "_titles": {
        "0": "Global Controls"
       },
       "children": [
        "IPY_MODEL_92d98cf243824223b5f6b7c3c853c09a"
       ],
       "layout": "IPY_MODEL_0102fb76eb5144088f929f2e8456550f"
      }
     },
     "6c97bd8afbd84e88bbfe1d301e3a3fff": {
      "model_module": "@jupyter-widgets/base",
      "model_module_version": "1.2.0",
      "model_name": "LayoutModel",
      "state": {}
     },
     "6d02c1cb2ee849e3a1405a8668b963e5": {
      "model_module": "@jupyter-widgets/base",
      "model_module_version": "1.2.0",
      "model_name": "LayoutModel",
      "state": {}
     },
     "6d0552c102ca4235ae0bc5a465cc6834": {
      "model_module": "@jupyter-widgets/controls",
      "model_module_version": "1.5.0",
      "model_name": "ButtonModel",
      "state": {
       "description": "Save Figure",
       "layout": "IPY_MODEL_7c9a372aea8d4fdd892202444bbf0ffc",
       "style": "IPY_MODEL_c98b62a5e2834940b5ab47833a341ee3"
      }
     },
     "6d1ba1888df4422e826a5253400017fc": {
      "model_module": "@jupyter-widgets/controls",
      "model_module_version": "1.5.0",
      "model_name": "CheckboxModel",
      "state": {
       "description": "Disable Medicina",
       "disabled": false,
       "layout": "IPY_MODEL_973bb442b2a742cfaa05b43572da508d",
       "style": "IPY_MODEL_522d3a07f870421a9d4724a31e6772f3",
       "value": false
      }
     },
     "6d407499f7504fc489d965f41fbcfa86": {
      "model_module": "@jupyter-widgets/controls",
      "model_module_version": "1.5.0",
      "model_name": "FloatSliderModel",
      "state": {
       "description": "180°",
       "layout": "IPY_MODEL_982febdf03024f178f383f8f069a6beb",
       "max": 1,
       "min": -1,
       "step": 0.01,
       "style": "IPY_MODEL_2d16ae49801849f7a395190add648b15"
      }
     },
     "6d5737ca68624999986ebb319de497fb": {
      "model_module": "@jupyter-widgets/base",
      "model_module_version": "1.2.0",
      "model_name": "LayoutModel",
      "state": {}
     },
     "6df102cb0c88470aa3a012befa45fe9d": {
      "model_module": "@jupyter-widgets/base",
      "model_module_version": "1.2.0",
      "model_name": "LayoutModel",
      "state": {}
     },
     "6e117a52a799411dbe33742e8dff1e5e": {
      "model_module": "@jupyter-widgets/controls",
      "model_module_version": "1.5.0",
      "model_name": "CheckboxModel",
      "state": {
       "description": "Disable Medicina",
       "disabled": false,
       "layout": "IPY_MODEL_757bb1b5ddaa4360b1630e8e003594d9",
       "style": "IPY_MODEL_c66e1892d42a4f24a15ea02a38a1d23b",
       "value": false
      }
     },
     "6ead842fc88048b591536ea0637e896a": {
      "model_module": "@jupyter-widgets/base",
      "model_module_version": "1.2.0",
      "model_name": "LayoutModel",
      "state": {}
     },
     "6eb55926f9c343529765f3510392bae9": {
      "model_module": "@jupyter-widgets/base",
      "model_module_version": "1.2.0",
      "model_name": "LayoutModel",
      "state": {}
     },
     "6eca26825db24841815dab3cf072223d": {
      "model_module": "@jupyter-widgets/controls",
      "model_module_version": "1.5.0",
      "model_name": "ButtonStyleModel",
      "state": {}
     },
     "6f1a805edfbb4611afb4989b23a8b4cf": {
      "model_module": "@jupyter-widgets/controls",
      "model_module_version": "1.5.0",
      "model_name": "FloatSliderModel",
      "state": {
       "description": "270°",
       "layout": "IPY_MODEL_307d646676cf47ef9b33cd6774364e52",
       "max": 1,
       "min": -1,
       "step": 0.01,
       "style": "IPY_MODEL_54e30b5dce4a454aacedc895e2fc4cca"
      }
     },
     "6f4563e360de4b4e8be2fc7288bd418a": {
      "model_module": "@jupyter-widgets/controls",
      "model_module_version": "1.5.0",
      "model_name": "SliderStyleModel",
      "state": {
       "description_width": ""
      }
     },
     "6f4655cfd366407fb1c0412914235b05": {
      "model_module": "@jupyter-widgets/controls",
      "model_module_version": "1.5.0",
      "model_name": "SliderStyleModel",
      "state": {
       "description_width": ""
      }
     },
     "6f88490b18f94d2882c28acd19150176": {
      "model_module": "@jupyter-widgets/controls",
      "model_module_version": "1.5.0",
      "model_name": "SliderStyleModel",
      "state": {
       "description_width": ""
      }
     },
     "702a8502fdca4793929b3ca3e8d9b2b6": {
      "model_module": "@jupyter-widgets/base",
      "model_module_version": "1.2.0",
      "model_name": "LayoutModel",
      "state": {}
     },
     "7037df37c9b2462aa0212efb1f0f0dac": {
      "model_module": "@jupyter-widgets/base",
      "model_module_version": "1.2.0",
      "model_name": "LayoutModel",
      "state": {}
     },
     "7041735fc60947288658d7e4ef93bf85": {
      "model_module": "@jupyter-widgets/base",
      "model_module_version": "1.2.0",
      "model_name": "LayoutModel",
      "state": {}
     },
     "704fcce4a77d43ad804fe778f6bba36f": {
      "model_module": "@jupyter-widgets/base",
      "model_module_version": "1.2.0",
      "model_name": "LayoutModel",
      "state": {}
     },
     "70c7b38c0c154e82b83027513529ffb0": {
      "model_module": "@jupyter-widgets/controls",
      "model_module_version": "1.5.0",
      "model_name": "SliderStyleModel",
      "state": {
       "description_width": ""
      }
     },
     "70dbbd2b1adb436f84adbdedcd05d8a6": {
      "model_module": "@jupyter-widgets/controls",
      "model_module_version": "1.5.0",
      "model_name": "SliderStyleModel",
      "state": {
       "description_width": ""
      }
     },
     "717f19ac1c8d4e8b91c9d22f543ab4a2": {
      "model_module": "@jupyter-widgets/controls",
      "model_module_version": "1.5.0",
      "model_name": "FloatSliderModel",
      "state": {
       "description": "Protected Area Threshold",
       "layout": "IPY_MODEL_b68671335f0e434e9814eff3c6299985",
       "max": 1,
       "step": 0.01,
       "style": "IPY_MODEL_a21da9d4c020412989cdf98d17a211c8",
       "value": 0.7
      }
     },
     "71f7bf17443546cc8cea6613fdcb82dc": {
      "model_module": "@jupyter-widgets/controls",
      "model_module_version": "1.5.0",
      "model_name": "FloatSliderModel",
      "state": {
       "description": "Compression Threshold",
       "layout": "IPY_MODEL_32b9475f07784bf6a67250a076f4215f",
       "max": 1,
       "step": 0.01,
       "style": "IPY_MODEL_916b0bf62a13422e9db475c6a01974a4",
       "value": 0.8
      }
     },
     "720a417cfe514409ab96960e49c43773": {
      "model_module": "@jupyter-widgets/base",
      "model_module_version": "1.2.0",
      "model_name": "LayoutModel",
      "state": {}
     },
     "72e5261fd7a64c3f96b4f71becdd6574": {
      "model_module": "@jupyter-widgets/controls",
      "model_module_version": "1.5.0",
      "model_name": "FloatSliderModel",
      "state": {
       "description": "Compression Threshold",
       "layout": "IPY_MODEL_79923bb693c9448f9a5709af499946be",
       "max": 1,
       "step": 0.01,
       "style": "IPY_MODEL_ca7c873851474aa3a19d638e32450b17",
       "value": 0.5
      }
     },
     "7301de85259f4a9fbb3cbd6b8bdc3fcc": {
      "model_module": "@jupyter-widgets/base",
      "model_module_version": "1.2.0",
      "model_name": "LayoutModel",
      "state": {
       "border": "solid 4px #222",
       "margin": "4px",
       "padding": "0"
      }
     },
     "7304386a0d554a81a144ecb794fe5936": {
      "model_module": "@jupyter-widgets/controls",
      "model_module_version": "1.5.0",
      "model_name": "ButtonStyleModel",
      "state": {}
     },
     "7454bab7c49c4ba18a283b53b0002c79": {
      "model_module": "@jupyter-widgets/controls",
      "model_module_version": "1.5.0",
      "model_name": "VBoxModel",
      "state": {
       "children": [
        "IPY_MODEL_9550e914b5464c81a15776d983709653",
        "IPY_MODEL_ea128ca3edd1467b8c1aa2de2a92abb9",
        "IPY_MODEL_fa9e948f633742699f31f432e59a2b27"
       ],
       "layout": "IPY_MODEL_d0ef56461ac64efba5aa07d57398566f"
      }
     },
     "7493a70826ea4b3397a89e62bb659093": {
      "model_module": "@jupyter-widgets/controls",
      "model_module_version": "1.5.0",
      "model_name": "DescriptionStyleModel",
      "state": {
       "description_width": ""
      }
     },
     "74cad65d8ef642409ed58acb5f9fe234": {
      "model_module": "@jupyter-widgets/controls",
      "model_module_version": "1.5.0",
      "model_name": "SliderStyleModel",
      "state": {
       "description_width": ""
      }
     },
     "757bb1b5ddaa4360b1630e8e003594d9": {
      "model_module": "@jupyter-widgets/base",
      "model_module_version": "1.2.0",
      "model_name": "LayoutModel",
      "state": {}
     },
     "75a5fba020f5406183f20cef0ad7f1ed": {
      "model_module": "@jupyter-widgets/base",
      "model_module_version": "1.2.0",
      "model_name": "LayoutModel",
      "state": {}
     },
     "75dfc23da75e42e9b1e5fedfc7f883b0": {
      "model_module": "@jupyter-widgets/base",
      "model_module_version": "1.2.0",
      "model_name": "LayoutModel",
      "state": {}
     },
     "7637486aa04b4d6aafc7aea060546898": {
      "model_module": "@jupyter-widgets/controls",
      "model_module_version": "1.5.0",
      "model_name": "FloatSliderModel",
      "state": {
       "description": "180°",
       "layout": "IPY_MODEL_148427edc2324dba864b4d128abacc0e",
       "max": 1,
       "min": -1,
       "step": 0.01,
       "style": "IPY_MODEL_49d5a0687717449bbab13414c94c80fb"
      }
     },
     "765a170f56864e189c8e407a8b0acf35": {
      "model_module": "@jupyter-widgets/controls",
      "model_module_version": "1.5.0",
      "model_name": "VBoxModel",
      "state": {
       "children": [
        "IPY_MODEL_6f1a805edfbb4611afb4989b23a8b4cf",
        "IPY_MODEL_317b555616c3472783b65497de5738e8"
       ],
       "layout": "IPY_MODEL_d18121bd88224968962d657df88261a3"
      }
     },
     "7683874935394cfc9af46e0f6609dff3": {
      "model_module": "@jupyter-widgets/controls",
      "model_module_version": "1.5.0",
      "model_name": "ButtonModel",
      "state": {
       "description": "Export Image",
       "layout": "IPY_MODEL_8d405786a92f4e608306189c17620437",
       "style": "IPY_MODEL_ac931d1d61b6458fbc4e35cf1a485441"
      }
     },
     "768ef74e6eca4df5afff39e8152cbaa0": {
      "model_module": "@jupyter-widgets/controls",
      "model_module_version": "1.5.0",
      "model_name": "TabModel",
      "state": {
       "_titles": {
        "0": "Global Controls",
        "1": "Protected Area Controls",
        "2": "Saturation Controls",
        "3": "Hue Controls"
       },
       "children": [
        "IPY_MODEL_d76b5978543546cbad5b93dad0f2ad70",
        "IPY_MODEL_8fe6fdaf7c7245e2b423f64898145446",
        "IPY_MODEL_df4c4e1fda054c8bac81dd2aa8e8155b",
        "IPY_MODEL_77e70f78377248f5becef9ce23dc2327"
       ],
       "layout": "IPY_MODEL_ec9d5695bac94de39d8155ec58ac2eba"
      }
     },
     "769e483559534747ae9ed153eda24efc": {
      "model_module": "@jupyter-widgets/controls",
      "model_module_version": "1.5.0",
      "model_name": "SliderStyleModel",
      "state": {
       "description_width": ""
      }
     },
     "76a3c9fbf3d0447aab83e176e6cdb4e3": {
      "model_module": "@jupyter-widgets/controls",
      "model_module_version": "1.5.0",
      "model_name": "ButtonStyleModel",
      "state": {}
     },
     "76c4cde070644100bebcc44255f6b38e": {
      "model_module": "@jupyter-widgets/base",
      "model_module_version": "1.2.0",
      "model_name": "LayoutModel",
      "state": {}
     },
     "76d9511f96f449b59374d3047e0d3581": {
      "model_module": "@jupyter-widgets/base",
      "model_module_version": "1.2.0",
      "model_name": "LayoutModel",
      "state": {}
     },
     "77a68e3c4284441e9cf9e2c8c9b356c3": {
      "model_module": "@jupyter-widgets/controls",
      "model_module_version": "1.5.0",
      "model_name": "SliderStyleModel",
      "state": {
       "description_width": ""
      }
     },
     "77e70f78377248f5becef9ce23dc2327": {
      "model_module": "@jupyter-widgets/controls",
      "model_module_version": "1.5.0",
      "model_name": "HBoxModel",
      "state": {
       "children": [
        "IPY_MODEL_17940ec864e24cedb4b28c9242e454e7",
        "IPY_MODEL_c4adef2827e9495285cfe8eff4911357",
        "IPY_MODEL_dd8fe9011dfa4c089397dc21a014fd95",
        "IPY_MODEL_19e59f6f0a854c7caa8940bfcfcd9750"
       ],
       "layout": "IPY_MODEL_30ab94d200d34611a87a292a4ecc6f37"
      }
     },
     "78199b3ed5564721b22515f4491e604c": {
      "model_module": "@jupyter-widgets/base",
      "model_module_version": "1.2.0",
      "model_name": "LayoutModel",
      "state": {}
     },
     "788e4ddba6be41c4b6a6e3ef8a0c757d": {
      "model_module": "@jupyter-widgets/base",
      "model_module_version": "1.2.0",
      "model_name": "LayoutModel",
      "state": {}
     },
     "78dadb2df2624971aeb4d289f47d6cc4": {
      "model_module": "@jupyter-widgets/base",
      "model_module_version": "1.2.0",
      "model_name": "LayoutModel",
      "state": {}
     },
     "790aa6da214d447c9d9a4fcbb962778e": {
      "model_module": "@jupyter-widgets/base",
      "model_module_version": "1.2.0",
      "model_name": "LayoutModel",
      "state": {}
     },
     "793a1698d5a949fba04b2513e8b03ffd": {
      "model_module": "@jupyter-widgets/base",
      "model_module_version": "1.2.0",
      "model_name": "LayoutModel",
      "state": {}
     },
     "7969caaccc134fb4be0d70fdba8136c2": {
      "model_module": "@jupyter-widgets/controls",
      "model_module_version": "1.5.0",
      "model_name": "VBoxModel",
      "state": {
       "children": [
        "IPY_MODEL_4bae2f7b67bd4d3ab13e16784072c4cd",
        "IPY_MODEL_1286328599e84ddaa66c2e00decf36e7"
       ],
       "layout": "IPY_MODEL_fc53b63e4c4f4657a6fec8704621746c"
      }
     },
     "7972c50560594876b2cafc4643628afa": {
      "model_module": "@jupyter-widgets/base",
      "model_module_version": "1.2.0",
      "model_name": "LayoutModel",
      "state": {}
     },
     "79830bb3ae7f42c191f82994ff955278": {
      "model_module": "@jupyter-widgets/base",
      "model_module_version": "1.2.0",
      "model_name": "LayoutModel",
      "state": {}
     },
     "798c4c3f4e4e466bac254239dfd7a62d": {
      "model_module": "@jupyter-widgets/base",
      "model_module_version": "1.2.0",
      "model_name": "LayoutModel",
      "state": {}
     },
     "79923bb693c9448f9a5709af499946be": {
      "model_module": "@jupyter-widgets/base",
      "model_module_version": "1.2.0",
      "model_name": "LayoutModel",
      "state": {}
     },
     "79dedd75e94240c6a80b93b6d2d3c05d": {
      "model_module": "@jupyter-widgets/base",
      "model_module_version": "1.2.0",
      "model_name": "LayoutModel",
      "state": {}
     },
     "7a73e0753d564b1b995fcaf41a43fa65": {
      "model_module": "@jupyter-widgets/controls",
      "model_module_version": "1.5.0",
      "model_name": "FloatSliderModel",
      "state": {
       "description": "270°",
       "layout": "IPY_MODEL_bc5d0eea9399446688376002fc4d426f",
       "max": 1,
       "min": -1,
       "step": 0.01,
       "style": "IPY_MODEL_8c66627c61a043fbbfac4f15d07f99de"
      }
     },
     "7a9a348dd41a428792d3cd0ae24ac2e7": {
      "model_module": "@jupyter-widgets/controls",
      "model_module_version": "1.5.0",
      "model_name": "ButtonStyleModel",
      "state": {}
     },
     "7b0c48cae22f4b0aba963a49396ad69c": {
      "model_module": "@jupyter-widgets/controls",
      "model_module_version": "1.5.0",
      "model_name": "ButtonStyleModel",
      "state": {}
     },
     "7b15a54d90ad4877ac4481af02c9dd61": {
      "model_module": "@jupyter-widgets/base",
      "model_module_version": "1.2.0",
      "model_name": "LayoutModel",
      "state": {}
     },
     "7ba86564e79542f097f31e9fd5361258": {
      "model_module": "@jupyter-widgets/controls",
      "model_module_version": "1.5.0",
      "model_name": "TabModel",
      "state": {
       "_titles": {
        "0": "Global Controls",
        "1": "Compression Controls"
       },
       "children": [
        "IPY_MODEL_10abcc9d81d24389ad1870109d8c62b9",
        "IPY_MODEL_ed21c92d91b4420cbf428e96af11b69c"
       ],
       "layout": "IPY_MODEL_48c3baef0cab442ba7acf7a79eca3b18"
      }
     },
     "7bd4868b06a74662b7d98450cc09afdd": {
      "model_module": "@jupyter-widgets/base",
      "model_module_version": "1.2.0",
      "model_name": "LayoutModel",
      "state": {}
     },
     "7bee70aaa4be48d883e6bbc04bbee18b": {
      "model_module": "@jupyter-widgets/base",
      "model_module_version": "1.2.0",
      "model_name": "LayoutModel",
      "state": {}
     },
     "7beff188729e4474a4d666880b3fa4d4": {
      "model_module": "@jupyter-widgets/controls",
      "model_module_version": "1.5.0",
      "model_name": "DescriptionStyleModel",
      "state": {
       "description_width": ""
      }
     },
     "7c3ec45a2a674bd684a462f288457996": {
      "model_module": "@jupyter-widgets/base",
      "model_module_version": "1.2.0",
      "model_name": "LayoutModel",
      "state": {
       "border": "solid 4px #222",
       "margin": "4px",
       "padding": "0"
      }
     },
     "7c820cbdf3a245a0b02de52bcd6f8f38": {
      "model_module": "@jupyter-widgets/base",
      "model_module_version": "1.2.0",
      "model_name": "LayoutModel",
      "state": {}
     },
     "7c9a372aea8d4fdd892202444bbf0ffc": {
      "model_module": "@jupyter-widgets/base",
      "model_module_version": "1.2.0",
      "model_name": "LayoutModel",
      "state": {}
     },
     "7cae42fbe9f94051abacf38684ca0684": {
      "model_module": "@jupyter-widgets/controls",
      "model_module_version": "1.5.0",
      "model_name": "ButtonStyleModel",
      "state": {}
     },
     "7cf06588213e4c6cb072316afe94b282": {
      "model_module": "@jupyter-widgets/controls",
      "model_module_version": "1.5.0",
      "model_name": "HBoxModel",
      "state": {
       "children": [
        "IPY_MODEL_1e5034d51091467b87656cb05efe9bd0",
        "IPY_MODEL_57be0b25302e41099f1afee0020ddb86",
        "IPY_MODEL_e50c5fb3c4374171a366de172a57dc32",
        "IPY_MODEL_66fbae7c6b004cacb4aaedf661766cc5"
       ],
       "layout": "IPY_MODEL_e00e71870bc349f7849aa59c9eaad3a4"
      }
     },
     "7d370775e9864d30b61d5767233082d4": {
      "model_module": "@jupyter-widgets/controls",
      "model_module_version": "1.5.0",
      "model_name": "ButtonModel",
      "state": {
       "description": "Save Figure",
       "layout": "IPY_MODEL_048635ad99214f629643b3a5d199846d",
       "style": "IPY_MODEL_4b542df470534e58aaceee55e5e8b42f"
      }
     },
     "7db1cfdd2a8248f196c80f0f0380f6a2": {
      "model_module": "@jupyter-widgets/controls",
      "model_module_version": "1.5.0",
      "model_name": "TabModel",
      "state": {
       "_titles": {
        "0": "Global Controls",
        "1": "Protected Area Controls",
        "2": "Saturation Controls",
        "3": "Hue Controls"
       },
       "children": [
        "IPY_MODEL_aaae547a037048b3bceefaecb9a364ca",
        "IPY_MODEL_3dd67487665d4c8688d725cddc85ccf3",
        "IPY_MODEL_95e778bd941a4366842ef939e20d797e",
        "IPY_MODEL_c665c0cc06044d4b957ec98d70f18600"
       ],
       "layout": "IPY_MODEL_c329a60213684d118c53115f15d7e222"
      }
     },
     "7dd59a2248f24bbbafca8a4abdfccba9": {
      "model_module": "@jupyter-widgets/controls",
      "model_module_version": "1.5.0",
      "model_name": "ButtonModel",
      "state": {
       "description": "Reset Saturation Controls",
       "layout": "IPY_MODEL_85011150cf5a40caa72567191d75e92c",
       "style": "IPY_MODEL_0ee17b5d8ea640d9ba23a1217f1a0566"
      }
     },
     "7e07561a0f0244fcb93b53fdaaf6107d": {
      "model_module": "@jupyter-widgets/controls",
      "model_module_version": "1.5.0",
      "model_name": "FloatSliderModel",
      "state": {
       "description": "Compression Threshold",
       "layout": "IPY_MODEL_ca5442abfafc4e37bba1be56b7da2411",
       "max": 1,
       "step": 0.01,
       "style": "IPY_MODEL_46a082263a264fcd9772f7f9b3950abc",
       "value": 0.8
      }
     },
     "7e62ce44fc364960ba4039a0b0cb0e9e": {
      "model_module": "@jupyter-widgets/controls",
      "model_module_version": "1.5.0",
      "model_name": "FloatSliderModel",
      "state": {
       "description": "180°",
       "layout": "IPY_MODEL_aa042b083a3045948496ca90b3925bc7",
       "max": 1,
       "min": -1,
       "step": 0.01,
       "style": "IPY_MODEL_bfa9a49c24984967bf172d2d14e43104"
      }
     },
     "7e739254e65843d8b377a11ce0b63819": {
      "model_module": "@jupyter-widgets/controls",
      "model_module_version": "1.5.0",
      "model_name": "ButtonStyleModel",
      "state": {}
     },
     "7e76a1ebbb704ffe9463530214c4e72a": {
      "model_module": "@jupyter-widgets/base",
      "model_module_version": "1.2.0",
      "model_name": "LayoutModel",
      "state": {}
     },
     "7e787d45180a4c6192d3b67b1bd41bc9": {
      "model_module": "@jupyter-widgets/base",
      "model_module_version": "1.2.0",
      "model_name": "LayoutModel",
      "state": {}
     },
     "7fc52b1df2254e5fb2094230b7461e43": {
      "model_module": "@jupyter-widgets/base",
      "model_module_version": "1.2.0",
      "model_name": "LayoutModel",
      "state": {}
     },
     "7fc7beb9fe1c41a3abd7fed412c0815b": {
      "model_module": "@jupyter-widgets/controls",
      "model_module_version": "1.5.0",
      "model_name": "ButtonStyleModel",
      "state": {}
     },
     "7ffcd6fbf13d4c0f97b5616ab58dad7d": {
      "model_module": "@jupyter-widgets/controls",
      "model_module_version": "1.5.0",
      "model_name": "ButtonStyleModel",
      "state": {}
     },
     "801466e14da848eb856bb139e49a96a2": {
      "model_module": "@jupyter-widgets/base",
      "model_module_version": "1.2.0",
      "model_name": "LayoutModel",
      "state": {}
     },
     "803aa41f520f4528b7d0f218c04e53f5": {
      "model_module": "@jupyter-widgets/base",
      "model_module_version": "1.2.0",
      "model_name": "LayoutModel",
      "state": {}
     },
     "807615e80386490b9bff1f94479f9abf": {
      "model_module": "@jupyter-widgets/base",
      "model_module_version": "1.2.0",
      "model_name": "LayoutModel",
      "state": {}
     },
     "808a727f386e49788e97000905dba8f2": {
      "model_module": "@jupyter-widgets/base",
      "model_module_version": "1.2.0",
      "model_name": "LayoutModel",
      "state": {}
     },
     "80904110650743cd982e23f37e302421": {
      "model_module": "@jupyter-widgets/base",
      "model_module_version": "1.2.0",
      "model_name": "LayoutModel",
      "state": {}
     },
     "809a8f251c1e456a8fde184338877496": {
      "model_module": "@jupyter-widgets/controls",
      "model_module_version": "1.5.0",
      "model_name": "BoxModel",
      "state": {
       "children": [
        "IPY_MODEL_2fc4d7c3225244f3bbc47a284129cb08",
        "IPY_MODEL_1ef38aba82794a6aa3986e9b74e1c6c7"
       ],
       "layout": "IPY_MODEL_bde0f4a2d7404e8cb26dca1835860d04"
      }
     },
     "80b0279263e640f0938d2e5433dd4825": {
      "model_module": "@jupyter-widgets/controls",
      "model_module_version": "1.5.0",
      "model_name": "DescriptionStyleModel",
      "state": {
       "description_width": ""
      }
     },
     "80e5d7d1f195476598cf378f8db5ad41": {
      "model_module": "@jupyter-widgets/base",
      "model_module_version": "1.2.0",
      "model_name": "LayoutModel",
      "state": {}
     },
     "811ec5d8dfe54168aafcf6d020d70939": {
      "model_module": "@jupyter-widgets/controls",
      "model_module_version": "1.5.0",
      "model_name": "SliderStyleModel",
      "state": {
       "description_width": ""
      }
     },
     "81ba092b6eac45538b66ce8bed1f85cf": {
      "model_module": "@jupyter-widgets/controls",
      "model_module_version": "1.5.0",
      "model_name": "FloatSliderModel",
      "state": {
       "description": "45°",
       "layout": "IPY_MODEL_5dd70d2f3caf48aa91fde89d3a258491",
       "max": 1,
       "min": -1,
       "step": 0.01,
       "style": "IPY_MODEL_0eab87e42141469ab54ddc2d8a3ab357"
      }
     },
     "81cc6b72e1c649208978ac9717fe43b6": {
      "model_module": "@jupyter-widgets/controls",
      "model_module_version": "1.5.0",
      "model_name": "HBoxModel",
      "state": {
       "children": [
        "IPY_MODEL_03e8e47743e64a2d93993a0bdfe7e810",
        "IPY_MODEL_937ec62324154d3aa089141559041722"
       ],
       "layout": "IPY_MODEL_8ee78f215e604b8181c311a85e0d7438"
      }
     },
     "81e04259bc7446ef8e862e5cc6869de0": {
      "model_module": "@jupyter-widgets/base",
      "model_module_version": "1.2.0",
      "model_name": "LayoutModel",
      "state": {}
     },
     "81e6770115e242dd8c5d6a70db5d9fba": {
      "model_module": "@jupyter-widgets/controls",
      "model_module_version": "1.5.0",
      "model_name": "ButtonModel",
      "state": {
       "description": "Export Image",
       "layout": "IPY_MODEL_10820a0fbece41c197fb20deff688d82",
       "style": "IPY_MODEL_9b7ed7cfd86d4208bd6321ab253fdf42"
      }
     },
     "8215509975434d80998476b66ba665de": {
      "model_module": "@jupyter-widgets/controls",
      "model_module_version": "1.5.0",
      "model_name": "HBoxModel",
      "state": {
       "children": [
        "IPY_MODEL_382869c4afd848a68a0610923c00e964",
        "IPY_MODEL_d2c01fbc98be488d9385910bfc0003f8",
        "IPY_MODEL_a5a3885727044fd29e7f7b6d80485e5b",
        "IPY_MODEL_25e81c7437544401a3b5bbdca3afdb68"
       ],
       "layout": "IPY_MODEL_702a8502fdca4793929b3ca3e8d9b2b6"
      }
     },
     "825c2b0ed30640e685fd7580bfefe63e": {
      "model_module": "@jupyter-widgets/controls",
      "model_module_version": "1.5.0",
      "model_name": "FloatSliderModel",
      "state": {
       "description": "90°",
       "layout": "IPY_MODEL_27abdf7601b449f58d4339589f6f4e74",
       "max": 1,
       "min": -1,
       "step": 0.01,
       "style": "IPY_MODEL_1f3feee2ab324044878e380a10ba739b"
      }
     },
     "827733f8fff94fc7b120d4f2adf4696c": {
      "model_module": "@jupyter-widgets/base",
      "model_module_version": "1.2.0",
      "model_name": "LayoutModel",
      "state": {}
     },
     "827d0224ac7e4b8088c327ee6592bf75": {
      "model_module": "@jupyter-widgets/controls",
      "model_module_version": "1.5.0",
      "model_name": "VBoxModel",
      "state": {
       "children": [
        "IPY_MODEL_d84ec2251ccf4a79a4a464de9e0f2490",
        "IPY_MODEL_7e62ce44fc364960ba4039a0b0cb0e9e",
        "IPY_MODEL_32e7afcc544d41c99f07199d88b0bfb9"
       ],
       "layout": "IPY_MODEL_ec2a7b840dc347c3a4dc970b78c2c92f"
      }
     },
     "82b6f799da3545beb8502ac87c121412": {
      "model_module": "@jupyter-widgets/base",
      "model_module_version": "1.2.0",
      "model_name": "LayoutModel",
      "state": {}
     },
     "82f454fd691940ec9518f22f1a5c8939": {
      "model_module": "@jupyter-widgets/base",
      "model_module_version": "1.2.0",
      "model_name": "LayoutModel",
      "state": {}
     },
     "838f14bc4f8e4c9ebc30ab341bc1e9dd": {
      "model_module": "@jupyter-widgets/base",
      "model_module_version": "1.2.0",
      "model_name": "LayoutModel",
      "state": {}
     },
     "83bdeda803ab464baaa6516313c864a3": {
      "model_module": "@jupyter-widgets/controls",
      "model_module_version": "1.5.0",
      "model_name": "ButtonStyleModel",
      "state": {}
     },
     "83fc755323e542bcacff691963c8bcf3": {
      "model_module": "@jupyter-widgets/base",
      "model_module_version": "1.2.0",
      "model_name": "LayoutModel",
      "state": {
       "border": "solid 4px #222",
       "margin": "4px",
       "padding": "0"
      }
     },
     "84117365820647abb2cb29ecf1dc8e21": {
      "model_module": "@jupyter-widgets/base",
      "model_module_version": "1.2.0",
      "model_name": "LayoutModel",
      "state": {}
     },
     "84e3064e9b244d0bb164c480cab04226": {
      "model_module": "@jupyter-widgets/controls",
      "model_module_version": "1.5.0",
      "model_name": "FloatSliderModel",
      "state": {
       "description": "90°",
       "layout": "IPY_MODEL_8f08043598394f20931a11f83e48394e",
       "max": 1,
       "min": -1,
       "step": 0.01,
       "style": "IPY_MODEL_6f4655cfd366407fb1c0412914235b05"
      }
     },
     "84e3aed1a57840fb9471ce159788ee8b": {
      "model_module": "@jupyter-widgets/controls",
      "model_module_version": "1.5.0",
      "model_name": "CheckboxModel",
      "state": {
       "description": "Disable Medicina",
       "disabled": false,
       "layout": "IPY_MODEL_15c3dc35bfec497b907418f4e893ded9",
       "style": "IPY_MODEL_6b923b18f74a42d6bcd46f5adedc32eb",
       "value": false
      }
     },
     "85011150cf5a40caa72567191d75e92c": {
      "model_module": "@jupyter-widgets/base",
      "model_module_version": "1.2.0",
      "model_name": "LayoutModel",
      "state": {}
     },
     "8528379d797d4ce0bc297f6933c02d9e": {
      "model_module": "@jupyter-widgets/controls",
      "model_module_version": "1.5.0",
      "model_name": "ButtonStyleModel",
      "state": {}
     },
     "854ea057888d4b2f8141edf0e9d1e453": {
      "model_module": "@jupyter-widgets/controls",
      "model_module_version": "1.5.0",
      "model_name": "SliderStyleModel",
      "state": {
       "description_width": ""
      }
     },
     "855c3bbf006844f8ba23f4b3c2f2e15e": {
      "model_module": "@jupyter-widgets/controls",
      "model_module_version": "1.5.0",
      "model_name": "ButtonStyleModel",
      "state": {}
     },
     "8564df18000c4715ada5a8eae5047f4c": {
      "model_module": "@jupyter-widgets/base",
      "model_module_version": "1.2.0",
      "model_name": "LayoutModel",
      "state": {}
     },
     "857f55a6f7d54d4bb02f119be9c4e516": {
      "model_module": "@jupyter-widgets/controls",
      "model_module_version": "1.5.0",
      "model_name": "FloatSliderModel",
      "state": {
       "description": "Compression Threshold",
       "layout": "IPY_MODEL_8c2f04a8bf8948158a16c1ab43ceb5c6",
       "max": 1,
       "step": 0.01,
       "style": "IPY_MODEL_5cd5c9c673d549409c986f67016137fd",
       "value": 0.8
      }
     },
     "858ca40a5d204eda8019ee3d3f0151aa": {
      "model_module": "@jupyter-widgets/controls",
      "model_module_version": "1.5.0",
      "model_name": "ButtonModel",
      "state": {
       "description": "Reset Compression Controls",
       "layout": "IPY_MODEL_09b8fcb846d94b6ead94740977aa9c4d",
       "style": "IPY_MODEL_f59ceda69c8b4995bcdefcfae6b12f07"
      }
     },
     "85ab57152480451bbdf2e850b9fe3c59": {
      "model_module": "@jupyter-widgets/base",
      "model_module_version": "1.2.0",
      "model_name": "LayoutModel",
      "state": {}
     },
     "85f80df69f214c4090b011837bb95c3e": {
      "model_module": "@jupyter-widgets/base",
      "model_module_version": "1.2.0",
      "model_name": "LayoutModel",
      "state": {}
     },
     "860e19d8e2a645688d0b896aa774bffc": {
      "model_module": "@jupyter-widgets/base",
      "model_module_version": "1.2.0",
      "model_name": "LayoutModel",
      "state": {}
     },
     "864ce8c5ce6b413fbecf189098408d3f": {
      "model_module": "@jupyter-widgets/controls",
      "model_module_version": "1.5.0",
      "model_name": "HBoxModel",
      "state": {
       "children": [
        "IPY_MODEL_38b687660d004e259a65747b9caec955",
        "IPY_MODEL_72e5261fd7a64c3f96b4f71becdd6574"
       ],
       "layout": "IPY_MODEL_28c8cac4fe244900952199aa6bd9f63e"
      }
     },
     "86a210beb2134f469ad0afd54d3237d9": {
      "model_module": "@jupyter-widgets/base",
      "model_module_version": "1.2.0",
      "model_name": "LayoutModel",
      "state": {}
     },
     "86c9a312c06646cab3680adf84a7d532": {
      "model_module": "@jupyter-widgets/controls",
      "model_module_version": "1.5.0",
      "model_name": "ButtonModel",
      "state": {
       "description": "Save Figure",
       "layout": "IPY_MODEL_fe5641ec77fa434aa09e27e1821eb5cb",
       "style": "IPY_MODEL_32d74e2ec800418e9b5646cc0cbddb9e"
      }
     },
     "86ced1b091b14dbab6632fddc17791d7": {
      "model_module": "@jupyter-widgets/base",
      "model_module_version": "1.2.0",
      "model_name": "LayoutModel",
      "state": {}
     },
     "8795a06e59b94b36b2740b97dd0abde1": {
      "model_module": "@jupyter-widgets/output",
      "model_module_version": "1.0.0",
      "model_name": "OutputModel",
      "state": {
       "layout": "IPY_MODEL_4922ed5c7da649169cc2bff218f7373b",
       "outputs": [
        {
         "data": {
          "application/vnd.jupyter.widget-view+json": {
           "model_id": "0ac457f2858c43d8bb945b2a3ccc3572",
           "version_major": 2,
           "version_minor": 0
          },
          "text/plain": "Canvas(toolbar=Toolbar(toolitems=[('Home', 'Reset original view', 'home', 'home'), ('Back', 'Back to previous …"
         },
         "metadata": {},
         "output_type": "display_data"
        }
       ]
      }
     },
     "8802e1e80dc240278ff70e121a2ad824": {
      "model_module": "@jupyter-widgets/base",
      "model_module_version": "1.2.0",
      "model_name": "LayoutModel",
      "state": {}
     },
     "884965a6f014448d9f19e8f399a933f4": {
      "model_module": "@jupyter-widgets/base",
      "model_module_version": "1.2.0",
      "model_name": "LayoutModel",
      "state": {}
     },
     "88e4a10d829f4ea6b4deffd0650e9982": {
      "model_module": "@jupyter-widgets/controls",
      "model_module_version": "1.5.0",
      "model_name": "HBoxModel",
      "state": {
       "children": [
        "IPY_MODEL_8c370b35da394405875493d73bf8479f",
        "IPY_MODEL_a8b6794da9f640a5aa79a50f46274ea7"
       ],
       "layout": "IPY_MODEL_81e04259bc7446ef8e862e5cc6869de0"
      }
     },
     "8921c14cad88403cb6d2fe541d6261a8": {
      "model_module": "@jupyter-widgets/controls",
      "model_module_version": "1.5.0",
      "model_name": "FloatSliderModel",
      "state": {
       "description": "45°",
       "layout": "IPY_MODEL_68ec0c8e139f441989cca295384ad603",
       "max": 1,
       "min": -1,
       "step": 0.01,
       "style": "IPY_MODEL_02526000eebc4897878279291f775532"
      }
     },
     "8923621d87354c3688282a3e0caf3564": {
      "model_module": "@jupyter-widgets/base",
      "model_module_version": "1.2.0",
      "model_name": "LayoutModel",
      "state": {}
     },
     "8969186aff2d4abbaa88533728db62bb": {
      "model_module": "@jupyter-widgets/base",
      "model_module_version": "1.2.0",
      "model_name": "LayoutModel",
      "state": {}
     },
     "8a515501639e4a02a588bdbd5b4fac88": {
      "model_module": "@jupyter-widgets/base",
      "model_module_version": "1.2.0",
      "model_name": "LayoutModel",
      "state": {
       "border": "solid 4px #222",
       "margin": "4px",
       "padding": "0"
      }
     },
     "8a754163929e42d1b6a977cd95d791eb": {
      "model_module": "jupyter-matplotlib",
      "model_module_version": "^0.7.2",
      "model_name": "MPLCanvasModel",
      "state": {
       "_figure_label": "Figure 21",
       "_height": 550,
       "_width": 1100,
       "header_visible": false,
       "layout": "IPY_MODEL_13865ea878414923af820e76ea7ae58b",
       "resizable": false,
       "toolbar": "IPY_MODEL_f1d94205c604415083751e48fc4e138c",
       "toolbar_position": "left",
       "toolbar_visible": false
      }
     },
     "8aef85227e6b424cb1ec4a7755434f43": {
      "model_module": "@jupyter-widgets/base",
      "model_module_version": "1.2.0",
      "model_name": "LayoutModel",
      "state": {}
     },
     "8b2a155f3ce741b588599a33c01bec0e": {
      "model_module": "@jupyter-widgets/controls",
      "model_module_version": "1.5.0",
      "model_name": "ButtonModel",
      "state": {
       "description": "Save Figure",
       "layout": "IPY_MODEL_cffff144441b4fa7b44aaa274d303eef",
       "style": "IPY_MODEL_038f7cb8bcc34a92960d08e076691dd1"
      }
     },
     "8ba35de5ef6f41d7adcdd2367664e6e8": {
      "model_module": "@jupyter-widgets/base",
      "model_module_version": "1.2.0",
      "model_name": "LayoutModel",
      "state": {}
     },
     "8ba4d51aed4e4052a59dc576145705ca": {
      "model_module": "@jupyter-widgets/base",
      "model_module_version": "1.2.0",
      "model_name": "LayoutModel",
      "state": {}
     },
     "8bfa34e667074bcf9e4ead3bb7e43cdf": {
      "model_module": "@jupyter-widgets/controls",
      "model_module_version": "1.5.0",
      "model_name": "FloatSliderModel",
      "state": {
       "description": "270°",
       "layout": "IPY_MODEL_4aa2860055784d61b31cb0306c830b8a",
       "max": 1,
       "min": -1,
       "step": 0.01,
       "style": "IPY_MODEL_0f163b47871447b198d9463fc07e955d"
      }
     },
     "8c211b3376f1406fab86e99814c38ea1": {
      "model_module": "@jupyter-widgets/controls",
      "model_module_version": "1.5.0",
      "model_name": "SliderStyleModel",
      "state": {
       "description_width": ""
      }
     },
     "8c22cbb2bea844ec9b8d2b53ac9e149d": {
      "model_module": "@jupyter-widgets/controls",
      "model_module_version": "1.5.0",
      "model_name": "TabModel",
      "state": {
       "_titles": {
        "0": "Global Controls",
        "1": "Protected Area Controls",
        "2": "Saturation Controls",
        "3": "Hue Controls"
       },
       "children": [
        "IPY_MODEL_c4a96866ad5143e5bc345268fff5cbb7",
        "IPY_MODEL_294fbb70152c441ab2138f1602724f92",
        "IPY_MODEL_88e4a10d829f4ea6b4deffd0650e9982",
        "IPY_MODEL_204c9fedb3724a95abde124f51d907e7"
       ],
       "layout": "IPY_MODEL_02c419f312f346d9952b1926c150ab44"
      }
     },
     "8c2f04a8bf8948158a16c1ab43ceb5c6": {
      "model_module": "@jupyter-widgets/base",
      "model_module_version": "1.2.0",
      "model_name": "LayoutModel",
      "state": {}
     },
     "8c370b35da394405875493d73bf8479f": {
      "model_module": "@jupyter-widgets/controls",
      "model_module_version": "1.5.0",
      "model_name": "ButtonModel",
      "state": {
       "description": "Reset Saturation Controls",
       "layout": "IPY_MODEL_abcbfe36e757436199a4393acba44b29",
       "style": "IPY_MODEL_5d61a1f762e04553a85a234dff67126a"
      }
     },
     "8c66627c61a043fbbfac4f15d07f99de": {
      "model_module": "@jupyter-widgets/controls",
      "model_module_version": "1.5.0",
      "model_name": "SliderStyleModel",
      "state": {
       "description_width": ""
      }
     },
     "8d3b69dbfb4d4a64a9647abcd4c5a6ae": {
      "model_module": "@jupyter-widgets/controls",
      "model_module_version": "1.5.0",
      "model_name": "HBoxModel",
      "state": {
       "children": [
        "IPY_MODEL_a4d45a6ec10f492492ac03d57651d522",
        "IPY_MODEL_c8f5461052724b4fb18196bd235e6d0a"
       ],
       "layout": "IPY_MODEL_a289abe31ac843a3b69e23d42e36ae9c"
      }
     },
     "8d3f45d301f1491088ffb6836f5814b3": {
      "model_module": "@jupyter-widgets/controls",
      "model_module_version": "1.5.0",
      "model_name": "HBoxModel",
      "state": {
       "children": [
        "IPY_MODEL_118a7f6779d7415eac1115b7612d70c8",
        "IPY_MODEL_97397328f7e240b39d7c6dac63128e64",
        "IPY_MODEL_d2da5c3b75e44923bd57f2ed86e7e3da",
        "IPY_MODEL_c781ec894c184ba8b4b67d499114d25e"
       ],
       "layout": "IPY_MODEL_aadcdb3e4f164c1fa885debd2464ebbb"
      }
     },
     "8d405786a92f4e608306189c17620437": {
      "model_module": "@jupyter-widgets/base",
      "model_module_version": "1.2.0",
      "model_name": "LayoutModel",
      "state": {}
     },
     "8d42c37b3c16447f8b1de15317736109": {
      "model_module": "@jupyter-widgets/base",
      "model_module_version": "1.2.0",
      "model_name": "LayoutModel",
      "state": {}
     },
     "8df0c345e6d54ec08372b12f7964d853": {
      "model_module": "jupyter-matplotlib",
      "model_module_version": "^0.7.2",
      "model_name": "ToolbarModel",
      "state": {
       "layout": "IPY_MODEL_f5d3303cdcc04d04b00a982e7654ab56",
       "toolitems": [
        [
         "Home",
         "Reset original view",
         "home",
         "home"
        ],
        [
         "Back",
         "Back to previous view",
         "arrow-left",
         "back"
        ],
        [
         "Forward",
         "Forward to next view",
         "arrow-right",
         "forward"
        ],
        [
         "Pan",
         "Pan axes with left mouse, zoom with right",
         "arrows",
         "pan"
        ],
        [
         "Zoom",
         "Zoom to rectangle",
         "square-o",
         "zoom"
        ],
        [
         "Download",
         "Download plot",
         "floppy-o",
         "save_figure"
        ]
       ]
      }
     },
     "8df86f64cba04e09a3e345e3e5e7db42": {
      "model_module": "@jupyter-widgets/controls",
      "model_module_version": "1.5.0",
      "model_name": "ButtonModel",
      "state": {
       "description": "Export Image",
       "layout": "IPY_MODEL_051aeb4a2ca24770998f702f906b5151",
       "style": "IPY_MODEL_d867d0ad15d9489ba302637400dce37b"
      }
     },
     "8e0700fc36d54bb4be8373eaaa075d88": {
      "model_module": "@jupyter-widgets/controls",
      "model_module_version": "1.5.0",
      "model_name": "FloatSliderModel",
      "state": {
       "description": "135°",
       "layout": "IPY_MODEL_ed00666e2a924fc499c42a8a5e7ea185",
       "max": 1,
       "min": -1,
       "step": 0.01,
       "style": "IPY_MODEL_e44c16e1764d4226930e04d88467227d"
      }
     },
     "8e11fac751824de59da436dc5c6910a5": {
      "model_module": "@jupyter-widgets/controls",
      "model_module_version": "1.5.0",
      "model_name": "ButtonStyleModel",
      "state": {}
     },
     "8e315a09ff3f467ca714d94ce444c81c": {
      "model_module": "@jupyter-widgets/controls",
      "model_module_version": "1.5.0",
      "model_name": "FloatSliderModel",
      "state": {
       "description": "135°",
       "layout": "IPY_MODEL_6ead842fc88048b591536ea0637e896a",
       "max": 1,
       "min": -1,
       "step": 0.01,
       "style": "IPY_MODEL_f6e03ec4517146c19827499bc1253781"
      }
     },
     "8e34022decc54375b42b01c3e09bc702": {
      "model_module": "@jupyter-widgets/controls",
      "model_module_version": "1.5.0",
      "model_name": "SliderStyleModel",
      "state": {
       "description_width": ""
      }
     },
     "8e9aab2d407e479fada33389ac1c4c2d": {
      "model_module": "@jupyter-widgets/base",
      "model_module_version": "1.2.0",
      "model_name": "LayoutModel",
      "state": {}
     },
     "8eb80e3cf27b4b35ac167a03881185cc": {
      "model_module": "@jupyter-widgets/controls",
      "model_module_version": "1.5.0",
      "model_name": "SliderStyleModel",
      "state": {
       "description_width": ""
      }
     },
     "8edcda9056f64f2f859cec466c7f6b39": {
      "model_module": "@jupyter-widgets/controls",
      "model_module_version": "1.5.0",
      "model_name": "ButtonModel",
      "state": {
       "description": "Export Image",
       "layout": "IPY_MODEL_75a5fba020f5406183f20cef0ad7f1ed",
       "style": "IPY_MODEL_5651b3ec725541d1b61a0516804a248d"
      }
     },
     "8ee67076f6ab4540a8ac2e5d2b1c05da": {
      "model_module": "@jupyter-widgets/base",
      "model_module_version": "1.2.0",
      "model_name": "LayoutModel",
      "state": {}
     },
     "8ee78f215e604b8181c311a85e0d7438": {
      "model_module": "@jupyter-widgets/base",
      "model_module_version": "1.2.0",
      "model_name": "LayoutModel",
      "state": {}
     },
     "8f07eaeb6b264499aa0cc9b3cdf1479e": {
      "model_module": "@jupyter-widgets/controls",
      "model_module_version": "1.5.0",
      "model_name": "FloatSliderModel",
      "state": {
       "description": "45°",
       "layout": "IPY_MODEL_1c572bb342d24f269e248d0b4374fb96",
       "max": 1,
       "min": -1,
       "step": 0.01,
       "style": "IPY_MODEL_560d382882ce4be7afa0cb7eaf8ee1c0"
      }
     },
     "8f08043598394f20931a11f83e48394e": {
      "model_module": "@jupyter-widgets/base",
      "model_module_version": "1.2.0",
      "model_name": "LayoutModel",
      "state": {}
     },
     "8fc162eec12c4f84b61d3fe317c7d473": {
      "model_module": "@jupyter-widgets/base",
      "model_module_version": "1.2.0",
      "model_name": "LayoutModel",
      "state": {}
     },
     "8fe6fdaf7c7245e2b423f64898145446": {
      "model_module": "@jupyter-widgets/controls",
      "model_module_version": "1.5.0",
      "model_name": "HBoxModel",
      "state": {
       "children": [
        "IPY_MODEL_08d45648f20f4ca697d7f0c93e845bb3",
        "IPY_MODEL_f0873e6ac83845aca0476157329b4e55"
       ],
       "layout": "IPY_MODEL_d738edcdc6de4a5dad133e84acaad33c"
      }
     },
     "902e3de05da74d63b2ecb0a2417c6af3": {
      "model_module": "@jupyter-widgets/controls",
      "model_module_version": "1.5.0",
      "model_name": "HBoxModel",
      "state": {
       "children": [
        "IPY_MODEL_0d531f3094984ce2ac90e7337b2d88c7",
        "IPY_MODEL_8edcda9056f64f2f859cec466c7f6b39",
        "IPY_MODEL_34b32941e421481c9ea89bfef7a6adf7"
       ],
       "layout": "IPY_MODEL_2edbf09324194c61b04dcffa004da74c"
      }
     },
     "906d3ebe8c654423a965d9e98ee77121": {
      "model_module": "@jupyter-widgets/base",
      "model_module_version": "1.2.0",
      "model_name": "LayoutModel",
      "state": {}
     },
     "907d1cee277e4be9907da31bfc651356": {
      "model_module": "@jupyter-widgets/base",
      "model_module_version": "1.2.0",
      "model_name": "LayoutModel",
      "state": {}
     },
     "90fc42dc8e9445d38ad07bdccc7160f5": {
      "model_module": "@jupyter-widgets/controls",
      "model_module_version": "1.5.0",
      "model_name": "FloatSliderModel",
      "state": {
       "description": "270°",
       "layout": "IPY_MODEL_a7f6886458f6432a84fbd55bed2169a9",
       "max": 1,
       "min": -1,
       "step": 0.01,
       "style": "IPY_MODEL_345a162ebde04ee3bd85e510d55ace57"
      }
     },
     "912a0190b4fd4b55afc04c0a2a4653f7": {
      "model_module": "@jupyter-widgets/controls",
      "model_module_version": "1.5.0",
      "model_name": "SliderStyleModel",
      "state": {
       "description_width": ""
      }
     },
     "912a2a5aed384612a190bb9427ed6210": {
      "model_module": "@jupyter-widgets/base",
      "model_module_version": "1.2.0",
      "model_name": "LayoutModel",
      "state": {}
     },
     "916b0bf62a13422e9db475c6a01974a4": {
      "model_module": "@jupyter-widgets/controls",
      "model_module_version": "1.5.0",
      "model_name": "SliderStyleModel",
      "state": {
       "description_width": ""
      }
     },
     "91a0a4053ffc403b83304fb2ef91b61f": {
      "model_module": "@jupyter-widgets/base",
      "model_module_version": "1.2.0",
      "model_name": "LayoutModel",
      "state": {}
     },
     "9246c0d4df334a6ba3fd70ac3f52c9a4": {
      "model_module": "@jupyter-widgets/base",
      "model_module_version": "1.2.0",
      "model_name": "LayoutModel",
      "state": {}
     },
     "929ef5b928164d8287cebbae57d72a54": {
      "model_module": "@jupyter-widgets/base",
      "model_module_version": "1.2.0",
      "model_name": "LayoutModel",
      "state": {}
     },
     "92d98cf243824223b5f6b7c3c853c09a": {
      "model_module": "@jupyter-widgets/controls",
      "model_module_version": "1.5.0",
      "model_name": "HBoxModel",
      "state": {
       "children": [
        "IPY_MODEL_ee7624ac6bd34c58aade25b812e22280",
        "IPY_MODEL_e9395b0f619a4ad3abe3d2da7274b156",
        "IPY_MODEL_6d0552c102ca4235ae0bc5a465cc6834"
       ],
       "layout": "IPY_MODEL_ef0e0dac62b74a41a888a33cae4a58ec"
      }
     },
     "932e6b2d0b6246d4accd5fbb5c098495": {
      "model_module": "@jupyter-widgets/base",
      "model_module_version": "1.2.0",
      "model_name": "LayoutModel",
      "state": {}
     },
     "9349e4d3937346a8b3e8e27ce236fec5": {
      "model_module": "@jupyter-widgets/controls",
      "model_module_version": "1.5.0",
      "model_name": "SliderStyleModel",
      "state": {
       "description_width": ""
      }
     },
     "935d97de75f041eba8aa1a64ed4f4cbf": {
      "model_module": "@jupyter-widgets/base",
      "model_module_version": "1.2.0",
      "model_name": "LayoutModel",
      "state": {}
     },
     "937ec62324154d3aa089141559041722": {
      "model_module": "@jupyter-widgets/controls",
      "model_module_version": "1.5.0",
      "model_name": "FloatSliderModel",
      "state": {
       "description": "Compression Threshold",
       "layout": "IPY_MODEL_4801387c95a24b969ef15a2f673ce5e8",
       "max": 1,
       "step": 0.01,
       "style": "IPY_MODEL_8e34022decc54375b42b01c3e09bc702",
       "value": 0.8
      }
     },
     "93adeb76a1d243da85288353decfae5e": {
      "model_module": "@jupyter-widgets/base",
      "model_module_version": "1.2.0",
      "model_name": "LayoutModel",
      "state": {}
     },
     "9419c68ac1074d5a953bef94acf113d6": {
      "model_module": "@jupyter-widgets/base",
      "model_module_version": "1.2.0",
      "model_name": "LayoutModel",
      "state": {}
     },
     "948bc4000a26450e98c632da9d87cbac": {
      "model_module": "@jupyter-widgets/base",
      "model_module_version": "1.2.0",
      "model_name": "LayoutModel",
      "state": {
       "align_items": "stretch",
       "display": "flex",
       "flex_flow": "column",
       "width": "1128px"
      }
     },
     "94bf8f5168a647e198b834a9a0cfd971": {
      "model_module": "@jupyter-widgets/controls",
      "model_module_version": "1.5.0",
      "model_name": "ButtonModel",
      "state": {
       "description": "Reset Protected Area",
       "layout": "IPY_MODEL_684f1659d94c4be4afe14ec1ae495aaf",
       "style": "IPY_MODEL_d8c91e697987498f8c0dd8264bf47c59"
      }
     },
     "94df2ae357c54e50a4216e643eae1c0a": {
      "model_module": "@jupyter-widgets/controls",
      "model_module_version": "1.5.0",
      "model_name": "SliderStyleModel",
      "state": {
       "description_width": ""
      }
     },
     "952a2d4dd0a04800877aba11b3ab4774": {
      "model_module": "@jupyter-widgets/controls",
      "model_module_version": "1.5.0",
      "model_name": "FloatSliderModel",
      "state": {
       "description": "Protected Area Threshold",
       "layout": "IPY_MODEL_a067c89e2f6a4f2392c23a6237bc19a9",
       "max": 1,
       "step": 0.01,
       "style": "IPY_MODEL_77a68e3c4284441e9cf9e2c8c9b356c3",
       "value": 0.5
      }
     },
     "9550e914b5464c81a15776d983709653": {
      "model_module": "@jupyter-widgets/controls",
      "model_module_version": "1.5.0",
      "model_name": "FloatSliderModel",
      "state": {
       "description": "0°",
       "layout": "IPY_MODEL_98ce51b8d4c04474ac9c7ba948bc7593",
       "max": 1,
       "min": -1,
       "step": 0.01,
       "style": "IPY_MODEL_f98097a87d524fa2a3d4850dafc84886"
      }
     },
     "95812001683d4d7e8ffd94892d76450d": {
      "model_module": "@jupyter-widgets/controls",
      "model_module_version": "1.5.0",
      "model_name": "SliderStyleModel",
      "state": {
       "description_width": ""
      }
     },
     "95e778bd941a4366842ef939e20d797e": {
      "model_module": "@jupyter-widgets/controls",
      "model_module_version": "1.5.0",
      "model_name": "HBoxModel",
      "state": {
       "children": [
        "IPY_MODEL_cd98d34ea8aa4414925cda2750d6777c",
        "IPY_MODEL_b975ca805f1c4e52b5bd3eac87079795"
       ],
       "layout": "IPY_MODEL_f980b930ca5b4f5689b534f2fe91e3f5"
      }
     },
     "95f50217d1804edf97ce5726f16a4235": {
      "model_module": "@jupyter-widgets/controls",
      "model_module_version": "1.5.0",
      "model_name": "VBoxModel",
      "state": {
       "children": [
        "IPY_MODEL_5aae72dcb5a746988ced1c7931abbe01",
        "IPY_MODEL_3a10c42fec0547de831ae8bd3012786b",
        "IPY_MODEL_e3d14b39f2ee41edb03f224e736766fc"
       ],
       "layout": "IPY_MODEL_e326b25ce01746199d3110d1a91eb340"
      }
     },
     "960ff799ad08453b86a6dd0bebefa369": {
      "model_module": "@jupyter-widgets/controls",
      "model_module_version": "1.5.0",
      "model_name": "DescriptionStyleModel",
      "state": {
       "description_width": ""
      }
     },
     "96208f16f8074b0196667e15b55d9fae": {
      "model_module": "@jupyter-widgets/controls",
      "model_module_version": "1.5.0",
      "model_name": "ButtonModel",
      "state": {
       "description": "Export Image",
       "layout": "IPY_MODEL_bda7b7a1b31344b9b96b78b3de325580",
       "style": "IPY_MODEL_97ce3fb22ed94ec3ab89809da2c97faa"
      }
     },
     "968d31e665dd415c984d77fd275060f6": {
      "model_module": "@jupyter-widgets/base",
      "model_module_version": "1.2.0",
      "model_name": "LayoutModel",
      "state": {}
     },
     "969bf35bc7914dc3bbe1349f9aa25a4d": {
      "model_module": "@jupyter-widgets/base",
      "model_module_version": "1.2.0",
      "model_name": "LayoutModel",
      "state": {}
     },
     "97074e20699d4caca69ae7f8a5855fb3": {
      "model_module": "@jupyter-widgets/controls",
      "model_module_version": "1.5.0",
      "model_name": "SliderStyleModel",
      "state": {
       "description_width": ""
      }
     },
     "970b4656a39e42b488b3f8be0e540642": {
      "model_module": "@jupyter-widgets/base",
      "model_module_version": "1.2.0",
      "model_name": "LayoutModel",
      "state": {}
     },
     "9713677c65e24dc5812208819a7885c1": {
      "model_module": "@jupyter-widgets/base",
      "model_module_version": "1.2.0",
      "model_name": "LayoutModel",
      "state": {}
     },
     "97397328f7e240b39d7c6dac63128e64": {
      "model_module": "@jupyter-widgets/controls",
      "model_module_version": "1.5.0",
      "model_name": "VBoxModel",
      "state": {
       "children": [
        "IPY_MODEL_eed7404f2b60498d82342e0f40a0f0eb",
        "IPY_MODEL_bbbd117d68e2421aa9ba83251eeaa984",
        "IPY_MODEL_825c2b0ed30640e685fd7580bfefe63e"
       ],
       "layout": "IPY_MODEL_5136ae964237467f928f1f57a322ff13"
      }
     },
     "973bb442b2a742cfaa05b43572da508d": {
      "model_module": "@jupyter-widgets/base",
      "model_module_version": "1.2.0",
      "model_name": "LayoutModel",
      "state": {}
     },
     "975e73eb6fb04c589633127248df0735": {
      "model_module": "@jupyter-widgets/output",
      "model_module_version": "1.0.0",
      "model_name": "OutputModel",
      "state": {
       "layout": "IPY_MODEL_d4d61e806bb54ccdba6545b006e91b77",
       "outputs": [
        {
         "data": {
          "application/vnd.jupyter.widget-view+json": {
           "model_id": "29c9f382877a492eac536d29b94fa271",
           "version_major": 2,
           "version_minor": 0
          },
          "text/plain": "Canvas(toolbar=Toolbar(toolitems=[('Home', 'Reset original view', 'home', 'home'), ('Back', 'Back to previous …"
         },
         "metadata": {},
         "output_type": "display_data"
        }
       ]
      }
     },
     "97a8b23ea26b452e96c52032eb51dd48": {
      "model_module": "@jupyter-widgets/controls",
      "model_module_version": "1.5.0",
      "model_name": "ButtonModel",
      "state": {
       "description": "Reset Compression Controls",
       "layout": "IPY_MODEL_40640fa25ac740e2a7ea141eb3ea0ed8",
       "style": "IPY_MODEL_7a9a348dd41a428792d3cd0ae24ac2e7"
      }
     },
     "97b3e44c34cf4c8084651ad1ae8554e2": {
      "model_module": "@jupyter-widgets/controls",
      "model_module_version": "1.5.0",
      "model_name": "ButtonModel",
      "state": {
       "description": "Save Figure",
       "layout": "IPY_MODEL_9fda5764a0a54e2ab664cbfe05ef441a",
       "style": "IPY_MODEL_855c3bbf006844f8ba23f4b3c2f2e15e"
      }
     },
     "97ce3fb22ed94ec3ab89809da2c97faa": {
      "model_module": "@jupyter-widgets/controls",
      "model_module_version": "1.5.0",
      "model_name": "ButtonStyleModel",
      "state": {}
     },
     "9817bdf994b04e99bc32abc89a141c51": {
      "model_module": "jupyter-matplotlib",
      "model_module_version": "^0.7.2",
      "model_name": "MPLCanvasModel",
      "state": {
       "_figure_label": "Figure 13",
       "_height": 430,
       "_width": 1099,
       "header_visible": false,
       "layout": "IPY_MODEL_c0522822d0a244469b4b9a1bad13a8a2",
       "resizable": false,
       "toolbar": "IPY_MODEL_293642f154594fc4bc93ab77ef2924f7",
       "toolbar_position": "left",
       "toolbar_visible": false
      }
     },
     "982febdf03024f178f383f8f069a6beb": {
      "model_module": "@jupyter-widgets/base",
      "model_module_version": "1.2.0",
      "model_name": "LayoutModel",
      "state": {}
     },
     "984423f756db4c0e9434a61a6811740c": {
      "model_module": "@jupyter-widgets/controls",
      "model_module_version": "1.5.0",
      "model_name": "ButtonStyleModel",
      "state": {}
     },
     "98ce51b8d4c04474ac9c7ba948bc7593": {
      "model_module": "@jupyter-widgets/base",
      "model_module_version": "1.2.0",
      "model_name": "LayoutModel",
      "state": {}
     },
     "9965b51c976b4bec8b958380c64f9c1e": {
      "model_module": "@jupyter-widgets/controls",
      "model_module_version": "1.5.0",
      "model_name": "FloatSliderModel",
      "state": {
       "description": "Protected Area Threshold",
       "layout": "IPY_MODEL_457d54d434a44c56a69ba176e5261dad",
       "max": 1,
       "step": 0.01,
       "style": "IPY_MODEL_3d170f580c854861bd86d723e387a444",
       "value": 0.7
      }
     },
     "99ae565f982e49d2bd1659e397e0ce48": {
      "model_module": "@jupyter-widgets/controls",
      "model_module_version": "1.5.0",
      "model_name": "FloatSliderModel",
      "state": {
       "description": "45°",
       "layout": "IPY_MODEL_bd0f75d088ad4e43bd84ac0ac3b353ff",
       "max": 1,
       "min": -1,
       "step": 0.01,
       "style": "IPY_MODEL_10ab723d676d4a96af1c12e77f01691e"
      }
     },
     "9a62c8bc4edf498aa2b2d7ff842d06d6": {
      "model_module": "@jupyter-widgets/controls",
      "model_module_version": "1.5.0",
      "model_name": "SliderStyleModel",
      "state": {
       "description_width": ""
      }
     },
     "9b33d5e6e4e34680ad5ce56f03732701": {
      "model_module": "jupyter-matplotlib",
      "model_module_version": "^0.7.2",
      "model_name": "MPLCanvasModel",
      "state": {
       "_figure_label": "Figure 14",
       "_height": 430,
       "_width": 1099,
       "header_visible": false,
       "layout": "IPY_MODEL_bacec623da8e46a4a3cf43dbad454a1b",
       "resizable": false,
       "toolbar": "IPY_MODEL_ef20a2fe55304d8e8c07b79f03f76888",
       "toolbar_position": "left",
       "toolbar_visible": false
      }
     },
     "9b3c2064146a49f388d8f63899e63051": {
      "model_module": "@jupyter-widgets/base",
      "model_module_version": "1.2.0",
      "model_name": "LayoutModel",
      "state": {}
     },
     "9b7ed7cfd86d4208bd6321ab253fdf42": {
      "model_module": "@jupyter-widgets/controls",
      "model_module_version": "1.5.0",
      "model_name": "ButtonStyleModel",
      "state": {}
     },
     "9c66f68135714fe183ec7ee5506ce5f3": {
      "model_module": "@jupyter-widgets/controls",
      "model_module_version": "1.5.0",
      "model_name": "CheckboxModel",
      "state": {
       "description": "Disable Medicina",
       "disabled": false,
       "layout": "IPY_MODEL_b03d38743dc3448e897c0af953907bf7",
       "style": "IPY_MODEL_80b0279263e640f0938d2e5433dd4825",
       "value": false
      }
     },
     "9c9d495928634b12880932b556bf07f2": {
      "model_module": "@jupyter-widgets/base",
      "model_module_version": "1.2.0",
      "model_name": "LayoutModel",
      "state": {}
     },
     "9ccdebad3104493ebae51d692f2bcab1": {
      "model_module": "@jupyter-widgets/base",
      "model_module_version": "1.2.0",
      "model_name": "LayoutModel",
      "state": {
       "border": "solid 4px #222",
       "margin": "4px",
       "padding": "0"
      }
     },
     "9cd424ff95ab40e6b50c563e3f726c84": {
      "model_module": "@jupyter-widgets/controls",
      "model_module_version": "1.5.0",
      "model_name": "ButtonStyleModel",
      "state": {}
     },
     "9d48592e3dd347d584e8ec508d33db23": {
      "model_module": "@jupyter-widgets/base",
      "model_module_version": "1.2.0",
      "model_name": "LayoutModel",
      "state": {
       "border": "solid 4px #222",
       "margin": "4px",
       "padding": "0"
      }
     },
     "9d5393b95eca49ad804748dec5813117": {
      "model_module": "@jupyter-widgets/base",
      "model_module_version": "1.2.0",
      "model_name": "LayoutModel",
      "state": {}
     },
     "9d56ece8cc294c98adb7de5f2e92a503": {
      "model_module": "@jupyter-widgets/base",
      "model_module_version": "1.2.0",
      "model_name": "LayoutModel",
      "state": {}
     },
     "9e2a449e469b41359188c61e17c93039": {
      "model_module": "@jupyter-widgets/controls",
      "model_module_version": "1.5.0",
      "model_name": "ButtonStyleModel",
      "state": {}
     },
     "9e2c75c8e04e425098c9a9880ff8f5a9": {
      "model_module": "@jupyter-widgets/base",
      "model_module_version": "1.2.0",
      "model_name": "LayoutModel",
      "state": {}
     },
     "9f0d56f6f1284a6b885191a1085093da": {
      "model_module": "@jupyter-widgets/controls",
      "model_module_version": "1.5.0",
      "model_name": "HBoxModel",
      "state": {
       "children": [
        "IPY_MODEL_5c2bd7f8d6d84707b7ebc2abc9712272",
        "IPY_MODEL_26e8a404b79f4c0e9a2b1e630bc294f6",
        "IPY_MODEL_07262298e6824e1798d360973d3ef223",
        "IPY_MODEL_765a170f56864e189c8e407a8b0acf35"
       ],
       "layout": "IPY_MODEL_48ae30ff778d485cb087fbf564bf0a8d"
      }
     },
     "9f5bacc5fb6b4aa9b2094e98369e6a3c": {
      "model_module": "@jupyter-widgets/controls",
      "model_module_version": "1.5.0",
      "model_name": "SliderStyleModel",
      "state": {
       "description_width": ""
      }
     },
     "9f6857d57177403fb8f8844fa60d6041": {
      "model_module": "@jupyter-widgets/controls",
      "model_module_version": "1.5.0",
      "model_name": "ButtonModel",
      "state": {
       "description": "Save Figure",
       "layout": "IPY_MODEL_5be45c58d97d44ac84822122cf2441cf",
       "style": "IPY_MODEL_d46d4fbb345140fd9d04d362242facfc"
      }
     },
     "9fa1fc88221d4652af230fc98061a310": {
      "model_module": "@jupyter-widgets/base",
      "model_module_version": "1.2.0",
      "model_name": "LayoutModel",
      "state": {}
     },
     "9fcaa6d99e034964869e8ebbb8b59556": {
      "model_module": "@jupyter-widgets/controls",
      "model_module_version": "1.5.0",
      "model_name": "SliderStyleModel",
      "state": {
       "description_width": ""
      }
     },
     "9fcd540feb1a44658a8e06cc154208b9": {
      "model_module": "@jupyter-widgets/controls",
      "model_module_version": "1.5.0",
      "model_name": "FloatSliderModel",
      "state": {
       "description": "90°",
       "layout": "IPY_MODEL_7041735fc60947288658d7e4ef93bf85",
       "max": 1,
       "min": -1,
       "step": 0.01,
       "style": "IPY_MODEL_bff6c20ef9fc429f88c1133b9928134a"
      }
     },
     "9fda5764a0a54e2ab664cbfe05ef441a": {
      "model_module": "@jupyter-widgets/base",
      "model_module_version": "1.2.0",
      "model_name": "LayoutModel",
      "state": {}
     },
     "a016aee17dd84f0ea77ae8bc0fe4ef50": {
      "model_module": "@jupyter-widgets/controls",
      "model_module_version": "1.5.0",
      "model_name": "ButtonStyleModel",
      "state": {}
     },
     "a0276916774a4b27a85cd43c121a6f31": {
      "model_module": "@jupyter-widgets/base",
      "model_module_version": "1.2.0",
      "model_name": "LayoutModel",
      "state": {}
     },
     "a067c89e2f6a4f2392c23a6237bc19a9": {
      "model_module": "@jupyter-widgets/base",
      "model_module_version": "1.2.0",
      "model_name": "LayoutModel",
      "state": {}
     },
     "a07a005e073b42d192ad3fdce31bba01": {
      "model_module": "@jupyter-widgets/base",
      "model_module_version": "1.2.0",
      "model_name": "LayoutModel",
      "state": {}
     },
     "a0a9b23b81c84876b85337d421d6f8ac": {
      "model_module": "@jupyter-widgets/base",
      "model_module_version": "1.2.0",
      "model_name": "LayoutModel",
      "state": {}
     },
     "a1a3423fbd6340cbacd587457370c067": {
      "model_module": "@jupyter-widgets/base",
      "model_module_version": "1.2.0",
      "model_name": "LayoutModel",
      "state": {
       "align_items": "stretch",
       "display": "flex",
       "flex_flow": "column",
       "width": "1128px"
      }
     },
     "a1ae1515b9204927abe672fd57af1876": {
      "model_module": "@jupyter-widgets/controls",
      "model_module_version": "1.5.0",
      "model_name": "FloatSliderModel",
      "state": {
       "description": "180°",
       "layout": "IPY_MODEL_3f174d9a1b0a477d834c981bbfe9a0c3",
       "max": 1,
       "min": -1,
       "step": 0.01,
       "style": "IPY_MODEL_62bfa4bd01b7495a9abc7885a52aa809"
      }
     },
     "a1bc8b6cd1e64ba0842474785eed74f2": {
      "model_module": "@jupyter-widgets/controls",
      "model_module_version": "1.5.0",
      "model_name": "SliderStyleModel",
      "state": {
       "description_width": ""
      }
     },
     "a1de4affa7ba4cff9ff8478a2b982092": {
      "model_module": "@jupyter-widgets/base",
      "model_module_version": "1.2.0",
      "model_name": "LayoutModel",
      "state": {}
     },
     "a21da9d4c020412989cdf98d17a211c8": {
      "model_module": "@jupyter-widgets/controls",
      "model_module_version": "1.5.0",
      "model_name": "SliderStyleModel",
      "state": {
       "description_width": ""
      }
     },
     "a245045c9328430fa39324606a9b97ba": {
      "model_module": "@jupyter-widgets/base",
      "model_module_version": "1.2.0",
      "model_name": "LayoutModel",
      "state": {}
     },
     "a278b21dd49e4925a5ab06d016ca1df1": {
      "model_module": "@jupyter-widgets/base",
      "model_module_version": "1.2.0",
      "model_name": "LayoutModel",
      "state": {}
     },
     "a289abe31ac843a3b69e23d42e36ae9c": {
      "model_module": "@jupyter-widgets/base",
      "model_module_version": "1.2.0",
      "model_name": "LayoutModel",
      "state": {}
     },
     "a2bc3cc9f2b7401cb0182ad2f167aac3": {
      "model_module": "@jupyter-widgets/controls",
      "model_module_version": "1.5.0",
      "model_name": "SliderStyleModel",
      "state": {
       "description_width": ""
      }
     },
     "a3063ba4268f4240bfa472222165792c": {
      "model_module": "@jupyter-widgets/base",
      "model_module_version": "1.2.0",
      "model_name": "LayoutModel",
      "state": {}
     },
     "a34805a7b7fb467ba436f6bb30ca3a4c": {
      "model_module": "@jupyter-widgets/base",
      "model_module_version": "1.2.0",
      "model_name": "LayoutModel",
      "state": {}
     },
     "a4bd0cd133a2413eb395933e8e772995": {
      "model_module": "@jupyter-widgets/controls",
      "model_module_version": "1.5.0",
      "model_name": "HBoxModel",
      "state": {
       "children": [
        "IPY_MODEL_61f719e343a44baba4728b624dc2204e",
        "IPY_MODEL_314b164946e74c8f8b2a95341a650821"
       ],
       "layout": "IPY_MODEL_91a0a4053ffc403b83304fb2ef91b61f"
      }
     },
     "a4d45a6ec10f492492ac03d57651d522": {
      "model_module": "@jupyter-widgets/controls",
      "model_module_version": "1.5.0",
      "model_name": "ButtonModel",
      "state": {
       "description": "Reset Protected Area",
       "layout": "IPY_MODEL_807615e80386490b9bff1f94479f9abf",
       "style": "IPY_MODEL_d056d788b2b94f1ba04d5b203d1557e3"
      }
     },
     "a527c1b1344c4913b3661e0be91d9462": {
      "model_module": "@jupyter-widgets/controls",
      "model_module_version": "1.5.0",
      "model_name": "ButtonStyleModel",
      "state": {}
     },
     "a5789e584ab5431a85d617cf18ff87cb": {
      "model_module": "@jupyter-widgets/controls",
      "model_module_version": "1.5.0",
      "model_name": "SliderStyleModel",
      "state": {
       "description_width": ""
      }
     },
     "a599f4548a58449b947afa0ac33c85e1": {
      "model_module": "jupyter-matplotlib",
      "model_module_version": "^0.7.2",
      "model_name": "ToolbarModel",
      "state": {
       "layout": "IPY_MODEL_e4b6b2794cfe4427aa36ad7927f1956e",
       "toolitems": [
        [
         "Home",
         "Reset original view",
         "home",
         "home"
        ],
        [
         "Back",
         "Back to previous view",
         "arrow-left",
         "back"
        ],
        [
         "Forward",
         "Forward to next view",
         "arrow-right",
         "forward"
        ],
        [
         "Pan",
         "Pan axes with left mouse, zoom with right",
         "arrows",
         "pan"
        ],
        [
         "Zoom",
         "Zoom to rectangle",
         "square-o",
         "zoom"
        ],
        [
         "Download",
         "Download plot",
         "floppy-o",
         "save_figure"
        ]
       ]
      }
     },
     "a59a450c16a64f428fea384a7fa553e7": {
      "model_module": "@jupyter-widgets/controls",
      "model_module_version": "1.5.0",
      "model_name": "SliderStyleModel",
      "state": {
       "description_width": ""
      }
     },
     "a5a3885727044fd29e7f7b6d80485e5b": {
      "model_module": "@jupyter-widgets/controls",
      "model_module_version": "1.5.0",
      "model_name": "VBoxModel",
      "state": {
       "children": [
        "IPY_MODEL_8e315a09ff3f467ca714d94ce444c81c",
        "IPY_MODEL_a1ae1515b9204927abe672fd57af1876",
        "IPY_MODEL_bbdd4bdde4dd47098534771ef7ccb5a2"
       ],
       "layout": "IPY_MODEL_2d9b3611a92c47b1bc658db30deb79ec"
      }
     },
     "a5e92cdbc79a48eaa040a7dd5afaf2cc": {
      "model_module": "@jupyter-widgets/base",
      "model_module_version": "1.2.0",
      "model_name": "LayoutModel",
      "state": {}
     },
     "a5f2efadf4aa437b9d249e493e63ad83": {
      "model_module": "@jupyter-widgets/base",
      "model_module_version": "1.2.0",
      "model_name": "LayoutModel",
      "state": {}
     },
     "a636c5b24ad44527b560b571719cd6f2": {
      "model_module": "@jupyter-widgets/controls",
      "model_module_version": "1.5.0",
      "model_name": "ButtonModel",
      "state": {
       "description": "Export Image",
       "layout": "IPY_MODEL_f2a143207f6f44a390d759cfc2d234c8",
       "style": "IPY_MODEL_41aa13c8faa74852a5a0173f7cf84f76"
      }
     },
     "a6d45fcb444a48228ae97fa37900ae06": {
      "model_module": "@jupyter-widgets/base",
      "model_module_version": "1.2.0",
      "model_name": "LayoutModel",
      "state": {}
     },
     "a7011e5e1f2646408928b1752c353ce1": {
      "model_module": "@jupyter-widgets/base",
      "model_module_version": "1.2.0",
      "model_name": "LayoutModel",
      "state": {}
     },
     "a7212c0680b34a2aba930d858abbca89": {
      "model_module": "@jupyter-widgets/controls",
      "model_module_version": "1.5.0",
      "model_name": "FloatSliderModel",
      "state": {
       "description": "315°",
       "layout": "IPY_MODEL_a5e92cdbc79a48eaa040a7dd5afaf2cc",
       "max": 1,
       "min": -1,
       "step": 0.01,
       "style": "IPY_MODEL_46d50daf391a41e59f83a0f5f3767835"
      }
     },
     "a7427c4d273f4cc7b5e915d26eb4d174": {
      "model_module": "@jupyter-widgets/controls",
      "model_module_version": "1.5.0",
      "model_name": "ButtonModel",
      "state": {
       "description": "Reset Hue Controls",
       "layout": "IPY_MODEL_f6c6d4566de240959f57e6a9c74eb6b9",
       "style": "IPY_MODEL_cc9fec8c3fb441a5ba48226d7a975723"
      }
     },
     "a7538627390843b799f96510f00296b2": {
      "model_module": "@jupyter-widgets/output",
      "model_module_version": "1.0.0",
      "model_name": "OutputModel",
      "state": {
       "layout": "IPY_MODEL_d875c19f5405430d912c21a82baaa740",
       "outputs": [
        {
         "data": {
          "application/vnd.jupyter.widget-view+json": {
           "model_id": "e2741cd28f654590bac999eca72567f4",
           "version_major": 2,
           "version_minor": 0
          },
          "text/plain": "Canvas(toolbar=Toolbar(toolitems=[('Home', 'Reset original view', 'home', 'home'), ('Back', 'Back to previous …"
         },
         "metadata": {},
         "output_type": "display_data"
        }
       ]
      }
     },
     "a7813fce85404514ad226eb53568a2a4": {
      "model_module": "@jupyter-widgets/controls",
      "model_module_version": "1.5.0",
      "model_name": "BoxModel",
      "state": {
       "children": [
        "IPY_MODEL_2a727a51e1064f61a5090563c0ce828b",
        "IPY_MODEL_f07bf26041504df883601b78d4371594"
       ],
       "layout": "IPY_MODEL_38eba9a9370a412b8f7a2086611c99df"
      }
     },
     "a7bf5bc99e69401484a0b5f60856355a": {
      "model_module": "@jupyter-widgets/controls",
      "model_module_version": "1.5.0",
      "model_name": "SliderStyleModel",
      "state": {
       "description_width": ""
      }
     },
     "a7bfd668250546458ae53fa9794a55be": {
      "model_module": "@jupyter-widgets/base",
      "model_module_version": "1.2.0",
      "model_name": "LayoutModel",
      "state": {
       "align_items": "stretch",
       "display": "flex",
       "flex_flow": "column",
       "width": "1128px"
      }
     },
     "a7f46486b5df45a189a679efc4f27300": {
      "model_module": "@jupyter-widgets/controls",
      "model_module_version": "1.5.0",
      "model_name": "ButtonModel",
      "state": {
       "description": "Save Figure",
       "layout": "IPY_MODEL_7972c50560594876b2cafc4643628afa",
       "style": "IPY_MODEL_057ee79a32dc455091847d769005fb7a"
      }
     },
     "a7f6886458f6432a84fbd55bed2169a9": {
      "model_module": "@jupyter-widgets/base",
      "model_module_version": "1.2.0",
      "model_name": "LayoutModel",
      "state": {}
     },
     "a841644b494f4b5b9a5f796f82cdbcb8": {
      "model_module": "@jupyter-widgets/controls",
      "model_module_version": "1.5.0",
      "model_name": "ButtonModel",
      "state": {
       "description": "Export Image",
       "layout": "IPY_MODEL_2e2c5216eaf54ad7b1705c4cdf983738",
       "style": "IPY_MODEL_f7f8242ad92f4375ad6c4e88472b4a94"
      }
     },
     "a841a2caf29b45e4bed5b33c78c32629": {
      "model_module": "@jupyter-widgets/controls",
      "model_module_version": "1.5.0",
      "model_name": "SliderStyleModel",
      "state": {
       "description_width": ""
      }
     },
     "a87e78f762cd435a8ab81e5eeb0ae861": {
      "model_module": "@jupyter-widgets/controls",
      "model_module_version": "1.5.0",
      "model_name": "ButtonModel",
      "state": {
       "description": "Reset Protected Area",
       "layout": "IPY_MODEL_4e06cfd493e94bf3963204f937c9782e",
       "style": "IPY_MODEL_693bfc1c96e24a5983a92665265fd38e"
      }
     },
     "a8b6794da9f640a5aa79a50f46274ea7": {
      "model_module": "@jupyter-widgets/controls",
      "model_module_version": "1.5.0",
      "model_name": "FloatSliderModel",
      "state": {
       "description": "Compression Threshold",
       "layout": "IPY_MODEL_38545708e1154ce5a5810aaee37bf9ca",
       "max": 1,
       "step": 0.01,
       "style": "IPY_MODEL_46de8ec3659d47f1bd33ef294fd6fa43",
       "value": 0.8
      }
     },
     "a8d5d924fae74f73be834922df9cd5b0": {
      "model_module": "@jupyter-widgets/base",
      "model_module_version": "1.2.0",
      "model_name": "LayoutModel",
      "state": {}
     },
     "a8ed82341ad348fe881e170c59ae8e7c": {
      "model_module": "@jupyter-widgets/controls",
      "model_module_version": "1.5.0",
      "model_name": "SliderStyleModel",
      "state": {
       "description_width": ""
      }
     },
     "a940c7f7e53643a0ac76b05d2abe8025": {
      "model_module": "jupyter-matplotlib",
      "model_module_version": "^0.7.2",
      "model_name": "ToolbarModel",
      "state": {
       "layout": "IPY_MODEL_36b9f66fbff34bd389ff50daf862ef01",
       "toolitems": [
        [
         "Home",
         "Reset original view",
         "home",
         "home"
        ],
        [
         "Back",
         "Back to previous view",
         "arrow-left",
         "back"
        ],
        [
         "Forward",
         "Forward to next view",
         "arrow-right",
         "forward"
        ],
        [
         "Pan",
         "Pan axes with left mouse, zoom with right",
         "arrows",
         "pan"
        ],
        [
         "Zoom",
         "Zoom to rectangle",
         "square-o",
         "zoom"
        ],
        [
         "Download",
         "Download plot",
         "floppy-o",
         "save_figure"
        ]
       ]
      }
     },
     "a9bdc14f87404728a09a7237647aa504": {
      "model_module": "@jupyter-widgets/controls",
      "model_module_version": "1.5.0",
      "model_name": "FloatSliderModel",
      "state": {
       "description": "225°",
       "layout": "IPY_MODEL_bfbab6c45e4b498eb40e5b1f237f44a9",
       "max": 1,
       "min": -1,
       "step": 0.01,
       "style": "IPY_MODEL_769e483559534747ae9ed153eda24efc"
      }
     },
     "a9d0670853064df8994ac9696318b53b": {
      "model_module": "@jupyter-widgets/controls",
      "model_module_version": "1.5.0",
      "model_name": "ButtonModel",
      "state": {
       "description": "Export Image",
       "layout": "IPY_MODEL_b0975aa2c18b420c834aa5b521d0a592",
       "style": "IPY_MODEL_39ba9ea21dfe414bb3fbf21d8b1a7b58"
      }
     },
     "aa042b083a3045948496ca90b3925bc7": {
      "model_module": "@jupyter-widgets/base",
      "model_module_version": "1.2.0",
      "model_name": "LayoutModel",
      "state": {}
     },
     "aa5da9ca75fc4fc980bb36f7c7c9133b": {
      "model_module": "@jupyter-widgets/controls",
      "model_module_version": "1.5.0",
      "model_name": "SliderStyleModel",
      "state": {
       "description_width": ""
      }
     },
     "aa753300749d4ab99863ddef5541507e": {
      "model_module": "@jupyter-widgets/base",
      "model_module_version": "1.2.0",
      "model_name": "LayoutModel",
      "state": {}
     },
     "aa81be31974645958f13a2a8ecd83b41": {
      "model_module": "@jupyter-widgets/controls",
      "model_module_version": "1.5.0",
      "model_name": "ButtonModel",
      "state": {
       "description": "Reset Protected Area",
       "layout": "IPY_MODEL_02db668f4cde40e2a102cd9ecf4e59ba",
       "style": "IPY_MODEL_7b0c48cae22f4b0aba963a49396ad69c"
      }
     },
     "aaae547a037048b3bceefaecb9a364ca": {
      "model_module": "@jupyter-widgets/controls",
      "model_module_version": "1.5.0",
      "model_name": "HBoxModel",
      "state": {
       "children": [
        "IPY_MODEL_5d5b9e926bff44279098ec936e2edca4",
        "IPY_MODEL_96208f16f8074b0196667e15b55d9fae",
        "IPY_MODEL_7d370775e9864d30b61d5767233082d4"
       ],
       "layout": "IPY_MODEL_5e4fc8d00e144d75818619763a50a7ee"
      }
     },
     "aacb67776e7740aa922bf680e7449e56": {
      "model_module": "@jupyter-widgets/controls",
      "model_module_version": "1.5.0",
      "model_name": "HBoxModel",
      "state": {
       "children": [
        "IPY_MODEL_547ad24b0adc4476bbf3835d3a996d6c",
        "IPY_MODEL_02980cb6b32049e88b25f84446c31c04",
        "IPY_MODEL_e5e357bd9867466693fe31ec5f4a3cb9"
       ],
       "layout": "IPY_MODEL_b2bbab75998b4c8eb060a17c8b1e046f"
      }
     },
     "aadcdb3e4f164c1fa885debd2464ebbb": {
      "model_module": "@jupyter-widgets/base",
      "model_module_version": "1.2.0",
      "model_name": "LayoutModel",
      "state": {}
     },
     "ab72ba0831c14bd591730bf8d891a3d5": {
      "model_module": "@jupyter-widgets/base",
      "model_module_version": "1.2.0",
      "model_name": "LayoutModel",
      "state": {}
     },
     "abbac045927944828a32043ecc76376d": {
      "model_module": "@jupyter-widgets/controls",
      "model_module_version": "1.5.0",
      "model_name": "TabModel",
      "state": {
       "_titles": {
        "0": "Global Controls",
        "1": "Compression Controls"
       },
       "children": [
        "IPY_MODEL_fdc67dd9488b4d4f822551556dd41955",
        "IPY_MODEL_4c47caa7853941a3bd6fe9f973b54c43"
       ],
       "layout": "IPY_MODEL_196bd21a9d0f4c9ab1012667359783ff"
      }
     },
     "abcbfe36e757436199a4393acba44b29": {
      "model_module": "@jupyter-widgets/base",
      "model_module_version": "1.2.0",
      "model_name": "LayoutModel",
      "state": {}
     },
     "ac63641627644216aeae89acd7023526": {
      "model_module": "@jupyter-widgets/controls",
      "model_module_version": "1.5.0",
      "model_name": "HBoxModel",
      "state": {
       "children": [
        "IPY_MODEL_3f841fc57a6044728577575c2d13d19d",
        "IPY_MODEL_2a3fb12079fb4b6daaea1aa80e86f34c"
       ],
       "layout": "IPY_MODEL_bf646d6ed7334aaf9a60c5ac8af6a8f0"
      }
     },
     "ac931d1d61b6458fbc4e35cf1a485441": {
      "model_module": "@jupyter-widgets/controls",
      "model_module_version": "1.5.0",
      "model_name": "ButtonStyleModel",
      "state": {}
     },
     "acddfaf542064741a63fa1f2bfaf76a2": {
      "model_module": "@jupyter-widgets/base",
      "model_module_version": "1.2.0",
      "model_name": "LayoutModel",
      "state": {}
     },
     "ad3666ac01f148149309d3e28ac5cbe3": {
      "model_module": "@jupyter-widgets/base",
      "model_module_version": "1.2.0",
      "model_name": "LayoutModel",
      "state": {}
     },
     "ad8c6688ccee4f7295d8ac9d03d83b6f": {
      "model_module": "@jupyter-widgets/controls",
      "model_module_version": "1.5.0",
      "model_name": "FloatSliderModel",
      "state": {
       "description": "0°",
       "layout": "IPY_MODEL_cf0cb38662ce4d54be2295259413e6fa",
       "max": 1,
       "min": -1,
       "step": 0.01,
       "style": "IPY_MODEL_2585782295cf4b69a8ef8cb989bf11c2"
      }
     },
     "ade6f7a7cb6d470289cacc43081282e3": {
      "model_module": "@jupyter-widgets/base",
      "model_module_version": "1.2.0",
      "model_name": "LayoutModel",
      "state": {}
     },
     "ae18656862da4ea8b8e3ec4cd85e827d": {
      "model_module": "@jupyter-widgets/base",
      "model_module_version": "1.2.0",
      "model_name": "LayoutModel",
      "state": {}
     },
     "ae1d1742568f45a395745c19d1391628": {
      "model_module": "@jupyter-widgets/base",
      "model_module_version": "1.2.0",
      "model_name": "LayoutModel",
      "state": {}
     },
     "aeb5667ba85e470f80e608c0def46f30": {
      "model_module": "@jupyter-widgets/controls",
      "model_module_version": "1.5.0",
      "model_name": "SliderStyleModel",
      "state": {
       "description_width": ""
      }
     },
     "aec473c620dc42988b4fe8e95a0a4738": {
      "model_module": "@jupyter-widgets/base",
      "model_module_version": "1.2.0",
      "model_name": "LayoutModel",
      "state": {}
     },
     "afe2b6582d784373a942f5f665b58dbd": {
      "model_module": "@jupyter-widgets/base",
      "model_module_version": "1.2.0",
      "model_name": "LayoutModel",
      "state": {}
     },
     "b0024756a51f4ce48a25780282a555b0": {
      "model_module": "jupyter-matplotlib",
      "model_module_version": "^0.7.2",
      "model_name": "MPLCanvasModel",
      "state": {
       "_figure_label": "Figure 12",
       "_height": 430,
       "_message": "x=117.939      y=19.6883      [0.121, 0.0135, 0.174]",
       "_width": 1099,
       "header_visible": false,
       "layout": "IPY_MODEL_607509d692ae4cdcb65d9a8a0910c594",
       "resizable": false,
       "toolbar": "IPY_MODEL_22a44584a73a419488b97a8f69da48bc",
       "toolbar_position": "left",
       "toolbar_visible": false
      }
     },
     "b0074802649c4cf59ae1f4696de41529": {
      "model_module": "@jupyter-widgets/base",
      "model_module_version": "1.2.0",
      "model_name": "LayoutModel",
      "state": {}
     },
     "b03d38743dc3448e897c0af953907bf7": {
      "model_module": "@jupyter-widgets/base",
      "model_module_version": "1.2.0",
      "model_name": "LayoutModel",
      "state": {}
     },
     "b07b5cb423964ec481287beeeb9ba8f4": {
      "model_module": "@jupyter-widgets/base",
      "model_module_version": "1.2.0",
      "model_name": "LayoutModel",
      "state": {
       "align_items": "stretch",
       "display": "flex",
       "flex_flow": "column",
       "width": "1128px"
      }
     },
     "b0975aa2c18b420c834aa5b521d0a592": {
      "model_module": "@jupyter-widgets/base",
      "model_module_version": "1.2.0",
      "model_name": "LayoutModel",
      "state": {}
     },
     "b0bf2c95639e437aaec7a221c6940db6": {
      "model_module": "@jupyter-widgets/controls",
      "model_module_version": "1.5.0",
      "model_name": "ButtonStyleModel",
      "state": {}
     },
     "b0edf977f44c4565bcf8b57a63d636d3": {
      "model_module": "@jupyter-widgets/base",
      "model_module_version": "1.2.0",
      "model_name": "LayoutModel",
      "state": {}
     },
     "b129108a6a9c4b1d82515852d57c4a21": {
      "model_module": "@jupyter-widgets/controls",
      "model_module_version": "1.5.0",
      "model_name": "FloatSliderModel",
      "state": {
       "description": "Compression Threshold",
       "layout": "IPY_MODEL_4a2ecb8129ed4babab75ba289ed2101b",
       "max": 1,
       "step": 0.01,
       "style": "IPY_MODEL_45afb456b3c842239b68e58fcf8aa434",
       "value": 0.8
      }
     },
     "b148f38adee340e8ad571bd4d5818372": {
      "model_module": "@jupyter-widgets/base",
      "model_module_version": "1.2.0",
      "model_name": "LayoutModel",
      "state": {
       "border": "solid 4px #222",
       "margin": "4px",
       "padding": "0"
      }
     },
     "b1edebb27174424da9bc7bc44d7f3d3e": {
      "model_module": "@jupyter-widgets/base",
      "model_module_version": "1.2.0",
      "model_name": "LayoutModel",
      "state": {
       "border": "solid 4px #222",
       "margin": "4px",
       "padding": "0"
      }
     },
     "b2215e1d1d4b43aeb9ec8f4e44abdece": {
      "model_module": "@jupyter-widgets/controls",
      "model_module_version": "1.5.0",
      "model_name": "ButtonStyleModel",
      "state": {}
     },
     "b2bbab75998b4c8eb060a17c8b1e046f": {
      "model_module": "@jupyter-widgets/base",
      "model_module_version": "1.2.0",
      "model_name": "LayoutModel",
      "state": {}
     },
     "b34d7be01512420b831f92ec4b0d0aba": {
      "model_module": "@jupyter-widgets/controls",
      "model_module_version": "1.5.0",
      "model_name": "ButtonStyleModel",
      "state": {}
     },
     "b37b8ddf6c254214a8ce5abe7b0e2386": {
      "model_module": "@jupyter-widgets/base",
      "model_module_version": "1.2.0",
      "model_name": "LayoutModel",
      "state": {}
     },
     "b38df53c16144bdc968979ea3e838c13": {
      "model_module": "jupyter-matplotlib",
      "model_module_version": "^0.7.2",
      "model_name": "ToolbarModel",
      "state": {
       "layout": "IPY_MODEL_803aa41f520f4528b7d0f218c04e53f5",
       "toolitems": [
        [
         "Home",
         "Reset original view",
         "home",
         "home"
        ],
        [
         "Back",
         "Back to previous view",
         "arrow-left",
         "back"
        ],
        [
         "Forward",
         "Forward to next view",
         "arrow-right",
         "forward"
        ],
        [
         "Pan",
         "Pan axes with left mouse, zoom with right",
         "arrows",
         "pan"
        ],
        [
         "Zoom",
         "Zoom to rectangle",
         "square-o",
         "zoom"
        ],
        [
         "Download",
         "Download plot",
         "floppy-o",
         "save_figure"
        ]
       ]
      }
     },
     "b39368eba247483387f29e8368cb3da6": {
      "model_module": "@jupyter-widgets/controls",
      "model_module_version": "1.5.0",
      "model_name": "SliderStyleModel",
      "state": {
       "description_width": ""
      }
     },
     "b3fd60edc908409f901fb4a3bee6b274": {
      "model_module": "@jupyter-widgets/controls",
      "model_module_version": "1.5.0",
      "model_name": "HBoxModel",
      "state": {
       "children": [
        "IPY_MODEL_858ca40a5d204eda8019ee3d3f0151aa",
        "IPY_MODEL_52caac7644c24d1ab1b1928465c20b80"
       ],
       "layout": "IPY_MODEL_193fc8ff4ae54f74bb139dd79f172a10"
      }
     },
     "b42041b0bcb746a4914ffac60b7aa4c2": {
      "model_module": "@jupyter-widgets/base",
      "model_module_version": "1.2.0",
      "model_name": "LayoutModel",
      "state": {}
     },
     "b46d80c22a2444149945f70c99951911": {
      "model_module": "@jupyter-widgets/base",
      "model_module_version": "1.2.0",
      "model_name": "LayoutModel",
      "state": {}
     },
     "b4f50f91875b4ed7875907ffe116e8c4": {
      "model_module": "jupyter-matplotlib",
      "model_module_version": "^0.7.2",
      "model_name": "ToolbarModel",
      "state": {
       "layout": "IPY_MODEL_b0074802649c4cf59ae1f4696de41529",
       "toolitems": [
        [
         "Home",
         "Reset original view",
         "home",
         "home"
        ],
        [
         "Back",
         "Back to previous view",
         "arrow-left",
         "back"
        ],
        [
         "Forward",
         "Forward to next view",
         "arrow-right",
         "forward"
        ],
        [
         "Pan",
         "Pan axes with left mouse, zoom with right",
         "arrows",
         "pan"
        ],
        [
         "Zoom",
         "Zoom to rectangle",
         "square-o",
         "zoom"
        ],
        [
         "Download",
         "Download plot",
         "floppy-o",
         "save_figure"
        ]
       ]
      }
     },
     "b52389d10fad40d1b837ae7aa98c1b98": {
      "model_module": "@jupyter-widgets/controls",
      "model_module_version": "1.5.0",
      "model_name": "DescriptionStyleModel",
      "state": {
       "description_width": ""
      }
     },
     "b54e3ce3c4724ba0b9d3823337990d0f": {
      "model_module": "@jupyter-widgets/base",
      "model_module_version": "1.2.0",
      "model_name": "LayoutModel",
      "state": {}
     },
     "b553b4d5e7234e0287366badd3deac59": {
      "model_module": "jupyter-matplotlib",
      "model_module_version": "^0.7.2",
      "model_name": "ToolbarModel",
      "state": {
       "layout": "IPY_MODEL_c362cc1023ab4078980a07874c4fadf7",
       "toolitems": [
        [
         "Home",
         "Reset original view",
         "home",
         "home"
        ],
        [
         "Back",
         "Back to previous view",
         "arrow-left",
         "back"
        ],
        [
         "Forward",
         "Forward to next view",
         "arrow-right",
         "forward"
        ],
        [
         "Pan",
         "Pan axes with left mouse, zoom with right",
         "arrows",
         "pan"
        ],
        [
         "Zoom",
         "Zoom to rectangle",
         "square-o",
         "zoom"
        ],
        [
         "Download",
         "Download plot",
         "floppy-o",
         "save_figure"
        ]
       ]
      }
     },
     "b5b94a4c4e314f2da3e5ae4742f4a57e": {
      "model_module": "@jupyter-widgets/base",
      "model_module_version": "1.2.0",
      "model_name": "LayoutModel",
      "state": {}
     },
     "b5c486227dcc4f61a71859d626c39f49": {
      "model_module": "@jupyter-widgets/base",
      "model_module_version": "1.2.0",
      "model_name": "LayoutModel",
      "state": {}
     },
     "b5cbe83533d640a48ab67437e8e539c4": {
      "model_module": "@jupyter-widgets/base",
      "model_module_version": "1.2.0",
      "model_name": "LayoutModel",
      "state": {
       "border": "solid 4px #222",
       "margin": "4px",
       "padding": "0"
      }
     },
     "b5cc87392a1148788610a506a96cc9b2": {
      "model_module": "@jupyter-widgets/controls",
      "model_module_version": "1.5.0",
      "model_name": "ButtonStyleModel",
      "state": {}
     },
     "b629c12d31a54488902a38ead004b69e": {
      "model_module": "@jupyter-widgets/controls",
      "model_module_version": "1.5.0",
      "model_name": "TabModel",
      "state": {
       "_titles": {
        "0": "Global Controls",
        "1": "Compression Controls"
       },
       "children": [
        "IPY_MODEL_1fc56c2bcd994c1b8c0c924cd429e0e4",
        "IPY_MODEL_da1d07b0dfd94207a9694e74d2f05764"
       ],
       "layout": "IPY_MODEL_bb3bed41d2d541729c35a258f22e208e"
      }
     },
     "b68671335f0e434e9814eff3c6299985": {
      "model_module": "@jupyter-widgets/base",
      "model_module_version": "1.2.0",
      "model_name": "LayoutModel",
      "state": {}
     },
     "b6b07f7caf5047e19283f8569aad3acd": {
      "model_module": "@jupyter-widgets/controls",
      "model_module_version": "1.5.0",
      "model_name": "BoxModel",
      "state": {
       "children": [
        "IPY_MODEL_1510868f1b9246e4bd444f1b23b927bc",
        "IPY_MODEL_456c88ee685b4af9aabacd6b03976da8"
       ],
       "layout": "IPY_MODEL_02f50a1beb324b7a84554a8c7529a446"
      }
     },
     "b6e67a4679aa43dea7efb7d48d45af79": {
      "model_module": "@jupyter-widgets/base",
      "model_module_version": "1.2.0",
      "model_name": "LayoutModel",
      "state": {}
     },
     "b73561cf04d3417db344936e5ba6f74e": {
      "model_module": "@jupyter-widgets/controls",
      "model_module_version": "1.5.0",
      "model_name": "FloatSliderModel",
      "state": {
       "description": "225°",
       "layout": "IPY_MODEL_ae18656862da4ea8b8e3ec4cd85e827d",
       "max": 1,
       "min": -1,
       "step": 0.01,
       "style": "IPY_MODEL_69317aa7e9bd4b8b902e757ecb626f3c"
      }
     },
     "b762efd796a84c2081e60b74ebf32c19": {
      "model_module": "@jupyter-widgets/base",
      "model_module_version": "1.2.0",
      "model_name": "LayoutModel",
      "state": {}
     },
     "b76a570b2148445bb5d98637b2baa135": {
      "model_module": "@jupyter-widgets/base",
      "model_module_version": "1.2.0",
      "model_name": "LayoutModel",
      "state": {
       "border": "solid 4px #222",
       "margin": "4px",
       "padding": "0"
      }
     },
     "b7fca440002646109c5076283e82480f": {
      "model_module": "@jupyter-widgets/controls",
      "model_module_version": "1.5.0",
      "model_name": "SliderStyleModel",
      "state": {
       "description_width": ""
      }
     },
     "b801cd9524c743f8a7ee2ad967409642": {
      "model_module": "@jupyter-widgets/controls",
      "model_module_version": "1.5.0",
      "model_name": "BoxModel",
      "state": {
       "children": [
        "IPY_MODEL_f5f74dd836174ec983dcb10451dc3827",
        "IPY_MODEL_600475a3d9324a0b901261a0ef473b04"
       ],
       "layout": "IPY_MODEL_ff3d2de214a741d1a015fa8b13742870"
      }
     },
     "b94b069e4b4b46ccbe303aefa8a56eaa": {
      "model_module": "@jupyter-widgets/controls",
      "model_module_version": "1.5.0",
      "model_name": "ButtonStyleModel",
      "state": {}
     },
     "b95a4fca4bea4284a6e79326d3a7c527": {
      "model_module": "@jupyter-widgets/base",
      "model_module_version": "1.2.0",
      "model_name": "LayoutModel",
      "state": {}
     },
     "b975ca805f1c4e52b5bd3eac87079795": {
      "model_module": "@jupyter-widgets/controls",
      "model_module_version": "1.5.0",
      "model_name": "FloatSliderModel",
      "state": {
       "description": "Compression Threshold",
       "layout": "IPY_MODEL_b46d80c22a2444149945f70c99951911",
       "max": 1,
       "step": 0.01,
       "style": "IPY_MODEL_8c211b3376f1406fab86e99814c38ea1",
       "value": 0.8
      }
     },
     "ba0f5f3e978f4e0889032f5ec436e9ae": {
      "model_module": "@jupyter-widgets/base",
      "model_module_version": "1.2.0",
      "model_name": "LayoutModel",
      "state": {}
     },
     "bacec623da8e46a4a3cf43dbad454a1b": {
      "model_module": "@jupyter-widgets/base",
      "model_module_version": "1.2.0",
      "model_name": "LayoutModel",
      "state": {}
     },
     "bb39aa91b1534982a646ffa9229b1b55": {
      "model_module": "@jupyter-widgets/controls",
      "model_module_version": "1.5.0",
      "model_name": "FloatSliderModel",
      "state": {
       "description": "Protected Area Threshold",
       "layout": "IPY_MODEL_a278b21dd49e4925a5ab06d016ca1df1",
       "max": 1,
       "step": 0.01,
       "style": "IPY_MODEL_94df2ae357c54e50a4216e643eae1c0a",
       "value": 0.5
      }
     },
     "bb3bed41d2d541729c35a258f22e208e": {
      "model_module": "@jupyter-widgets/base",
      "model_module_version": "1.2.0",
      "model_name": "LayoutModel",
      "state": {
       "border": "solid 4px #222",
       "margin": "4px",
       "padding": "0"
      }
     },
     "bb4c91e54fa34ff5b1692ec7d2b72105": {
      "model_module": "@jupyter-widgets/base",
      "model_module_version": "1.2.0",
      "model_name": "LayoutModel",
      "state": {}
     },
     "bb87d68b46a34e0cb8653cfa2910a782": {
      "model_module": "@jupyter-widgets/controls",
      "model_module_version": "1.5.0",
      "model_name": "ButtonModel",
      "state": {
       "description": "Save Figure",
       "layout": "IPY_MODEL_37a88fee0bd44f75bf526af0e4cecfbf",
       "style": "IPY_MODEL_b5cc87392a1148788610a506a96cc9b2"
      }
     },
     "bbbd117d68e2421aa9ba83251eeaa984": {
      "model_module": "@jupyter-widgets/controls",
      "model_module_version": "1.5.0",
      "model_name": "FloatSliderModel",
      "state": {
       "description": "45°",
       "layout": "IPY_MODEL_85ab57152480451bbdf2e850b9fe3c59",
       "max": 1,
       "min": -1,
       "step": 0.01,
       "style": "IPY_MODEL_e4d7327030b7406d94ad651d7a69f006"
      }
     },
     "bbdd4bdde4dd47098534771ef7ccb5a2": {
      "model_module": "@jupyter-widgets/controls",
      "model_module_version": "1.5.0",
      "model_name": "FloatSliderModel",
      "state": {
       "description": "225°",
       "layout": "IPY_MODEL_c77bbbe10a3d49a0bee1cfd892e7fb9e",
       "max": 1,
       "min": -1,
       "step": 0.01,
       "style": "IPY_MODEL_69838d3eb68a4ab5b8707823e4a99ffc"
      }
     },
     "bbf4d7904ba5436f8e5a9f6e1fa91afe": {
      "model_module": "@jupyter-widgets/base",
      "model_module_version": "1.2.0",
      "model_name": "LayoutModel",
      "state": {
       "border": "solid 4px #222",
       "margin": "4px",
       "padding": "0"
      }
     },
     "bc5d0eea9399446688376002fc4d426f": {
      "model_module": "@jupyter-widgets/base",
      "model_module_version": "1.2.0",
      "model_name": "LayoutModel",
      "state": {}
     },
     "bc7b2142f60348aeb5906dbdfcc0cac3": {
      "model_module": "@jupyter-widgets/controls",
      "model_module_version": "1.5.0",
      "model_name": "ButtonModel",
      "state": {
       "description": "Export Image",
       "layout": "IPY_MODEL_154875948ada4209bcb8c3f08b1e2b51",
       "style": "IPY_MODEL_5c8e82cd2c9a4dbdacaec150cd189203"
      }
     },
     "bc941a5d9b1747b4895d9b8b7b1a9081": {
      "model_module": "@jupyter-widgets/controls",
      "model_module_version": "1.5.0",
      "model_name": "ButtonStyleModel",
      "state": {}
     },
     "bcb3b12a21dc4b7e9401e9b111cc43ac": {
      "model_module": "@jupyter-widgets/base",
      "model_module_version": "1.2.0",
      "model_name": "LayoutModel",
      "state": {}
     },
     "bcbb9fa1117840ff867802f351f65524": {
      "model_module": "@jupyter-widgets/controls",
      "model_module_version": "1.5.0",
      "model_name": "SliderStyleModel",
      "state": {
       "description_width": ""
      }
     },
     "bd0f75d088ad4e43bd84ac0ac3b353ff": {
      "model_module": "@jupyter-widgets/base",
      "model_module_version": "1.2.0",
      "model_name": "LayoutModel",
      "state": {}
     },
     "bd12310076194d12b4047d2800dc5fcc": {
      "model_module": "@jupyter-widgets/controls",
      "model_module_version": "1.5.0",
      "model_name": "ButtonModel",
      "state": {
       "description": "Reset Hue Controls",
       "layout": "IPY_MODEL_0468c9ad4e7b4366b5e58acf8e2e7399",
       "style": "IPY_MODEL_a016aee17dd84f0ea77ae8bc0fe4ef50"
      }
     },
     "bd7b26e717f64f7e8d0ce7ae50cdf667": {
      "model_module": "@jupyter-widgets/base",
      "model_module_version": "1.2.0",
      "model_name": "LayoutModel",
      "state": {}
     },
     "bda7b7a1b31344b9b96b78b3de325580": {
      "model_module": "@jupyter-widgets/base",
      "model_module_version": "1.2.0",
      "model_name": "LayoutModel",
      "state": {}
     },
     "bda9f756c0eb41d29288f80bd0375abb": {
      "model_module": "@jupyter-widgets/controls",
      "model_module_version": "1.5.0",
      "model_name": "CheckboxModel",
      "state": {
       "description": "Disable Medicina",
       "disabled": false,
       "layout": "IPY_MODEL_a5f2efadf4aa437b9d249e493e63ad83",
       "style": "IPY_MODEL_f59f4cf20bc04aaeac059a401ab2cc12",
       "value": false
      }
     },
     "bde0f4a2d7404e8cb26dca1835860d04": {
      "model_module": "@jupyter-widgets/base",
      "model_module_version": "1.2.0",
      "model_name": "LayoutModel",
      "state": {
       "align_items": "stretch",
       "display": "flex",
       "flex_flow": "column",
       "width": "1128px"
      }
     },
     "bdfa40bc237541ba969b77adcbbede35": {
      "model_module": "@jupyter-widgets/base",
      "model_module_version": "1.2.0",
      "model_name": "LayoutModel",
      "state": {}
     },
     "bec82bf2548b4dd6a73994183689baaa": {
      "model_module": "@jupyter-widgets/controls",
      "model_module_version": "1.5.0",
      "model_name": "VBoxModel",
      "state": {
       "children": [
        "IPY_MODEL_691c2450f83d46c8a9b91d2c14b0ad7f",
        "IPY_MODEL_54fba1cdbdb9438a819eaf8f9c3e782e",
        "IPY_MODEL_e60524150e954ad184ff00fe9adb3085"
       ],
       "layout": "IPY_MODEL_32ef9b642f6840c69367c2646d96ffda"
      }
     },
     "bf37b85a9f9a45bab637f1d364a3fb62": {
      "model_module": "@jupyter-widgets/controls",
      "model_module_version": "1.5.0",
      "model_name": "SliderStyleModel",
      "state": {
       "description_width": ""
      }
     },
     "bf3db8cb9b3942599e24dca781ca9d48": {
      "model_module": "@jupyter-widgets/base",
      "model_module_version": "1.2.0",
      "model_name": "LayoutModel",
      "state": {}
     },
     "bf646d6ed7334aaf9a60c5ac8af6a8f0": {
      "model_module": "@jupyter-widgets/base",
      "model_module_version": "1.2.0",
      "model_name": "LayoutModel",
      "state": {}
     },
     "bf8882dd05dc46b5be7f5ec5e2cfe1b3": {
      "model_module": "@jupyter-widgets/controls",
      "model_module_version": "1.5.0",
      "model_name": "ButtonModel",
      "state": {
       "description": "Export Image",
       "layout": "IPY_MODEL_396f542bf7bb4228917fd2514c700ee8",
       "style": "IPY_MODEL_7e739254e65843d8b377a11ce0b63819"
      }
     },
     "bfa3be997b9e406db1761386b96bb88f": {
      "model_module": "@jupyter-widgets/controls",
      "model_module_version": "1.5.0",
      "model_name": "FloatSliderModel",
      "state": {
       "description": "270°",
       "layout": "IPY_MODEL_a3063ba4268f4240bfa472222165792c",
       "max": 1,
       "min": -1,
       "step": 0.01,
       "style": "IPY_MODEL_29b5d6207dc84e57afe8960378437012"
      }
     },
     "bfa9a49c24984967bf172d2d14e43104": {
      "model_module": "@jupyter-widgets/controls",
      "model_module_version": "1.5.0",
      "model_name": "SliderStyleModel",
      "state": {
       "description_width": ""
      }
     },
     "bfbab6c45e4b498eb40e5b1f237f44a9": {
      "model_module": "@jupyter-widgets/base",
      "model_module_version": "1.2.0",
      "model_name": "LayoutModel",
      "state": {}
     },
     "bff6c20ef9fc429f88c1133b9928134a": {
      "model_module": "@jupyter-widgets/controls",
      "model_module_version": "1.5.0",
      "model_name": "SliderStyleModel",
      "state": {
       "description_width": ""
      }
     },
     "bffbe60bb7d64dc2833bdf044749c121": {
      "model_module": "@jupyter-widgets/output",
      "model_module_version": "1.0.0",
      "model_name": "OutputModel",
      "state": {
       "layout": "IPY_MODEL_b5cbe83533d640a48ab67437e8e539c4",
       "outputs": [
        {
         "data": {
          "application/vnd.jupyter.widget-view+json": {
           "model_id": "d4b1d6b33b504d4b966835c996cfd9dc",
           "version_major": 2,
           "version_minor": 0
          },
          "text/plain": "Canvas(toolbar=Toolbar(toolitems=[('Home', 'Reset original view', 'home', 'home'), ('Back', 'Back to previous …"
         },
         "metadata": {},
         "output_type": "display_data"
        }
       ]
      }
     },
     "c00eee1bb17145e8b92eaacaa7cdff10": {
      "model_module": "@jupyter-widgets/base",
      "model_module_version": "1.2.0",
      "model_name": "LayoutModel",
      "state": {}
     },
     "c0522822d0a244469b4b9a1bad13a8a2": {
      "model_module": "@jupyter-widgets/base",
      "model_module_version": "1.2.0",
      "model_name": "LayoutModel",
      "state": {}
     },
     "c09a4ec352c849628d1319daebfb2b8b": {
      "model_module": "jupyter-matplotlib",
      "model_module_version": "^0.7.2",
      "model_name": "MPLCanvasModel",
      "state": {
       "_figure_label": "Figure 2",
       "_height": 396,
       "_width": 1100,
       "header_visible": false,
       "layout": "IPY_MODEL_1137b520cce74136b6868fec8ecc655a",
       "resizable": false,
       "toolbar": "IPY_MODEL_a940c7f7e53643a0ac76b05d2abe8025",
       "toolbar_position": "left",
       "toolbar_visible": false
      }
     },
     "c09dceee90f24887a64fdd27758c58a1": {
      "model_module": "@jupyter-widgets/controls",
      "model_module_version": "1.5.0",
      "model_name": "ButtonStyleModel",
      "state": {}
     },
     "c1ae7460fecb4ea5829c58a1d5d0cad9": {
      "model_module": "@jupyter-widgets/base",
      "model_module_version": "1.2.0",
      "model_name": "LayoutModel",
      "state": {}
     },
     "c1edd04142c24c5ea994d08e2e91e234": {
      "model_module": "@jupyter-widgets/controls",
      "model_module_version": "1.5.0",
      "model_name": "SliderStyleModel",
      "state": {
       "description_width": ""
      }
     },
     "c1fdecb1a1f84ad89afb37bc94df150b": {
      "model_module": "@jupyter-widgets/base",
      "model_module_version": "1.2.0",
      "model_name": "LayoutModel",
      "state": {}
     },
     "c29c85053eef49c79668244f9133fc9d": {
      "model_module": "@jupyter-widgets/base",
      "model_module_version": "1.2.0",
      "model_name": "LayoutModel",
      "state": {}
     },
     "c2e1c1887b3745959d86f041d9ec81bb": {
      "model_module": "@jupyter-widgets/controls",
      "model_module_version": "1.5.0",
      "model_name": "SliderStyleModel",
      "state": {
       "description_width": ""
      }
     },
     "c30598e755484345b9b977736b2fe432": {
      "model_module": "@jupyter-widgets/controls",
      "model_module_version": "1.5.0",
      "model_name": "ButtonModel",
      "state": {
       "description": "Save Figure",
       "layout": "IPY_MODEL_3690dddd97144a7bbd7b8999852c50cc",
       "style": "IPY_MODEL_8528379d797d4ce0bc297f6933c02d9e"
      }
     },
     "c311c4dcb85d4a0088312d5c230142e4": {
      "model_module": "jupyter-matplotlib",
      "model_module_version": "^0.7.2",
      "model_name": "ToolbarModel",
      "state": {
       "layout": "IPY_MODEL_d5734a5b72cd4c20895a9c0d1fd6ce2d",
       "toolitems": [
        [
         "Home",
         "Reset original view",
         "home",
         "home"
        ],
        [
         "Back",
         "Back to previous view",
         "arrow-left",
         "back"
        ],
        [
         "Forward",
         "Forward to next view",
         "arrow-right",
         "forward"
        ],
        [
         "Pan",
         "Pan axes with left mouse, zoom with right",
         "arrows",
         "pan"
        ],
        [
         "Zoom",
         "Zoom to rectangle",
         "square-o",
         "zoom"
        ],
        [
         "Download",
         "Download plot",
         "floppy-o",
         "save_figure"
        ]
       ]
      }
     },
     "c329a60213684d118c53115f15d7e222": {
      "model_module": "@jupyter-widgets/base",
      "model_module_version": "1.2.0",
      "model_name": "LayoutModel",
      "state": {
       "border": "solid 4px #222",
       "margin": "4px",
       "padding": "0"
      }
     },
     "c362cc1023ab4078980a07874c4fadf7": {
      "model_module": "@jupyter-widgets/base",
      "model_module_version": "1.2.0",
      "model_name": "LayoutModel",
      "state": {}
     },
     "c4a96866ad5143e5bc345268fff5cbb7": {
      "model_module": "@jupyter-widgets/controls",
      "model_module_version": "1.5.0",
      "model_name": "HBoxModel",
      "state": {
       "children": [
        "IPY_MODEL_bda9f756c0eb41d29288f80bd0375abb",
        "IPY_MODEL_a636c5b24ad44527b560b571719cd6f2",
        "IPY_MODEL_c30598e755484345b9b977736b2fe432"
       ],
       "layout": "IPY_MODEL_31458f2e9422493494298e78fba4adb8"
      }
     },
     "c4adef2827e9495285cfe8eff4911357": {
      "model_module": "@jupyter-widgets/controls",
      "model_module_version": "1.5.0",
      "model_name": "VBoxModel",
      "state": {
       "children": [
        "IPY_MODEL_1d8cb5c8df2e4457b524a1381b980958",
        "IPY_MODEL_81ba092b6eac45538b66ce8bed1f85cf",
        "IPY_MODEL_3f9df11e3fcb43eb87feaf0ff60b1808"
       ],
       "layout": "IPY_MODEL_60182772ca894a9facc81878845b32b9"
      }
     },
     "c4b98214366b469fbae81942a04f5f84": {
      "model_module": "@jupyter-widgets/controls",
      "model_module_version": "1.5.0",
      "model_name": "SliderStyleModel",
      "state": {
       "description_width": ""
      }
     },
     "c4d0a93db4a04bd495ff011649d7e58a": {
      "model_module": "@jupyter-widgets/controls",
      "model_module_version": "1.5.0",
      "model_name": "ButtonModel",
      "state": {
       "description": "Save Figure",
       "layout": "IPY_MODEL_8ba35de5ef6f41d7adcdd2367664e6e8",
       "style": "IPY_MODEL_0ca6882ec69e4c639359ddba79fc82c9"
      }
     },
     "c53ac6ab95fc46c98cb8f1699173a613": {
      "model_module": "@jupyter-widgets/controls",
      "model_module_version": "1.5.0",
      "model_name": "HBoxModel",
      "state": {
       "children": [
        "IPY_MODEL_f79eab40e91a4826805bd6543444fe03",
        "IPY_MODEL_857f55a6f7d54d4bb02f119be9c4e516"
       ],
       "layout": "IPY_MODEL_536bb307f5304bdf849d485b8eb9ff38"
      }
     },
     "c5621557db4b4994ae8c7fe714a301a8": {
      "model_module": "@jupyter-widgets/base",
      "model_module_version": "1.2.0",
      "model_name": "LayoutModel",
      "state": {}
     },
     "c60210fe6a584febb8c5b194d032f3af": {
      "model_module": "@jupyter-widgets/base",
      "model_module_version": "1.2.0",
      "model_name": "LayoutModel",
      "state": {}
     },
     "c62a8b9185404b6b95195e84d6bdd8b0": {
      "model_module": "@jupyter-widgets/base",
      "model_module_version": "1.2.0",
      "model_name": "LayoutModel",
      "state": {}
     },
     "c65d05b4e6624e3dbe77a468b0aa1346": {
      "model_module": "@jupyter-widgets/controls",
      "model_module_version": "1.5.0",
      "model_name": "SliderStyleModel",
      "state": {
       "description_width": ""
      }
     },
     "c665c0cc06044d4b957ec98d70f18600": {
      "model_module": "@jupyter-widgets/controls",
      "model_module_version": "1.5.0",
      "model_name": "HBoxModel",
      "state": {
       "children": [
        "IPY_MODEL_f8b618ef83b7476eae1bafb9f0edf58a",
        "IPY_MODEL_7454bab7c49c4ba18a283b53b0002c79",
        "IPY_MODEL_827d0224ac7e4b8088c327ee6592bf75",
        "IPY_MODEL_d3e82bbd9e55469fbba3736709c3b774"
       ],
       "layout": "IPY_MODEL_46b70406bea2417eb882b8fc337e29a2"
      }
     },
     "c66e1892d42a4f24a15ea02a38a1d23b": {
      "model_module": "@jupyter-widgets/controls",
      "model_module_version": "1.5.0",
      "model_name": "DescriptionStyleModel",
      "state": {
       "description_width": ""
      }
     },
     "c6b00228bef140d4ae0951c7cb2f3ccc": {
      "model_module": "@jupyter-widgets/base",
      "model_module_version": "1.2.0",
      "model_name": "LayoutModel",
      "state": {}
     },
     "c6b47620c47046519a3eb7e6812ad34f": {
      "model_module": "@jupyter-widgets/base",
      "model_module_version": "1.2.0",
      "model_name": "LayoutModel",
      "state": {}
     },
     "c6cebd98607f4f09ae88f75fe67a80b1": {
      "model_module": "@jupyter-widgets/base",
      "model_module_version": "1.2.0",
      "model_name": "LayoutModel",
      "state": {}
     },
     "c6e82ae0247c4e299101099c37ae2993": {
      "model_module": "@jupyter-widgets/controls",
      "model_module_version": "1.5.0",
      "model_name": "ButtonStyleModel",
      "state": {}
     },
     "c71246b46e01487ebd5f78d6e2f154a2": {
      "model_module": "@jupyter-widgets/base",
      "model_module_version": "1.2.0",
      "model_name": "LayoutModel",
      "state": {}
     },
     "c7686ec7692e40638a768c5ccdaa59d5": {
      "model_module": "@jupyter-widgets/base",
      "model_module_version": "1.2.0",
      "model_name": "LayoutModel",
      "state": {}
     },
     "c77bbbe10a3d49a0bee1cfd892e7fb9e": {
      "model_module": "@jupyter-widgets/base",
      "model_module_version": "1.2.0",
      "model_name": "LayoutModel",
      "state": {}
     },
     "c781ec894c184ba8b4b67d499114d25e": {
      "model_module": "@jupyter-widgets/controls",
      "model_module_version": "1.5.0",
      "model_name": "VBoxModel",
      "state": {
       "children": [
        "IPY_MODEL_8bfa34e667074bcf9e4ead3bb7e43cdf",
        "IPY_MODEL_2e2ac160feb34bc9b7586c513d52e702"
       ],
       "layout": "IPY_MODEL_ba0f5f3e978f4e0889032f5ec436e9ae"
      }
     },
     "c7a5ed2a01074a8f9f608bdb1ee1cf9a": {
      "model_module": "@jupyter-widgets/controls",
      "model_module_version": "1.5.0",
      "model_name": "ButtonStyleModel",
      "state": {}
     },
     "c826e4a579a64dbda72d53bc47218881": {
      "model_module": "@jupyter-widgets/base",
      "model_module_version": "1.2.0",
      "model_name": "LayoutModel",
      "state": {}
     },
     "c82fbce62208421cb188b6b5086e9c01": {
      "model_module": "@jupyter-widgets/base",
      "model_module_version": "1.2.0",
      "model_name": "LayoutModel",
      "state": {}
     },
     "c83cfad6e878406a87914e8eb817c7fe": {
      "model_module": "@jupyter-widgets/controls",
      "model_module_version": "1.5.0",
      "model_name": "SliderStyleModel",
      "state": {
       "description_width": ""
      }
     },
     "c8cb94564a6b492980bfce61ae80cfaf": {
      "model_module": "@jupyter-widgets/controls",
      "model_module_version": "1.5.0",
      "model_name": "ButtonStyleModel",
      "state": {}
     },
     "c8d394a2c7a045a5884d335cfc27b49d": {
      "model_module": "@jupyter-widgets/base",
      "model_module_version": "1.2.0",
      "model_name": "LayoutModel",
      "state": {}
     },
     "c8f5461052724b4fb18196bd235e6d0a": {
      "model_module": "@jupyter-widgets/controls",
      "model_module_version": "1.5.0",
      "model_name": "FloatSliderModel",
      "state": {
       "description": "Protected Area Threshold",
       "layout": "IPY_MODEL_8564df18000c4715ada5a8eae5047f4c",
       "max": 1,
       "step": 0.01,
       "style": "IPY_MODEL_ef3c4b502eb746d3ad16ec3882a27690",
       "value": 0.7
      }
     },
     "c94dd3412f454469b5cb23c452fe6abe": {
      "model_module": "@jupyter-widgets/base",
      "model_module_version": "1.2.0",
      "model_name": "LayoutModel",
      "state": {}
     },
     "c98b62a5e2834940b5ab47833a341ee3": {
      "model_module": "@jupyter-widgets/controls",
      "model_module_version": "1.5.0",
      "model_name": "ButtonStyleModel",
      "state": {}
     },
     "c99fbeea68464337b541d973d57deb0e": {
      "model_module": "@jupyter-widgets/base",
      "model_module_version": "1.2.0",
      "model_name": "LayoutModel",
      "state": {}
     },
     "c9ac4c12d67043c0b97cd9dfd5a758d9": {
      "model_module": "@jupyter-widgets/controls",
      "model_module_version": "1.5.0",
      "model_name": "ButtonModel",
      "state": {
       "description": "Reset Saturation Controls",
       "layout": "IPY_MODEL_dc5571eab20247088442f2db3e5a88ff",
       "style": "IPY_MODEL_76a3c9fbf3d0447aab83e176e6cdb4e3"
      }
     },
     "ca4a39466250450597dd165d2713650a": {
      "model_module": "@jupyter-widgets/base",
      "model_module_version": "1.2.0",
      "model_name": "LayoutModel",
      "state": {
       "border": "solid 4px #222",
       "margin": "4px",
       "padding": "0"
      }
     },
     "ca5442abfafc4e37bba1be56b7da2411": {
      "model_module": "@jupyter-widgets/base",
      "model_module_version": "1.2.0",
      "model_name": "LayoutModel",
      "state": {}
     },
     "ca7c873851474aa3a19d638e32450b17": {
      "model_module": "@jupyter-widgets/controls",
      "model_module_version": "1.5.0",
      "model_name": "SliderStyleModel",
      "state": {
       "description_width": ""
      }
     },
     "ca809a5375df40c485271aac9b6c8681": {
      "model_module": "@jupyter-widgets/controls",
      "model_module_version": "1.5.0",
      "model_name": "ButtonModel",
      "state": {
       "description": "Reset Compression Controls",
       "layout": "IPY_MODEL_2ad89a93304b42518cbf1cc59db2402e",
       "style": "IPY_MODEL_2f38b48f1e454d8f99b8d17d1d61ee05"
      }
     },
     "caa149b1721d4320b975951f20c51e8e": {
      "model_module": "@jupyter-widgets/controls",
      "model_module_version": "1.5.0",
      "model_name": "SliderStyleModel",
      "state": {
       "description_width": ""
      }
     },
     "cb05d1beea144d58a0bd22ed55be3974": {
      "model_module": "@jupyter-widgets/base",
      "model_module_version": "1.2.0",
      "model_name": "LayoutModel",
      "state": {}
     },
     "cbebcb7e410c4a54908a7a502eccd3d9": {
      "model_module": "@jupyter-widgets/base",
      "model_module_version": "1.2.0",
      "model_name": "LayoutModel",
      "state": {}
     },
     "cc4cb372fdcf4e2698a6e9b87608805f": {
      "model_module": "@jupyter-widgets/base",
      "model_module_version": "1.2.0",
      "model_name": "LayoutModel",
      "state": {}
     },
     "cc52f603cfb84da1b0715781154865d2": {
      "model_module": "@jupyter-widgets/base",
      "model_module_version": "1.2.0",
      "model_name": "LayoutModel",
      "state": {}
     },
     "cc9fec8c3fb441a5ba48226d7a975723": {
      "model_module": "@jupyter-widgets/controls",
      "model_module_version": "1.5.0",
      "model_name": "ButtonStyleModel",
      "state": {}
     },
     "cd1947a909fe47adb5c072874362edef": {
      "model_module": "@jupyter-widgets/controls",
      "model_module_version": "1.5.0",
      "model_name": "HBoxModel",
      "state": {
       "children": [
        "IPY_MODEL_65d6f864429f43e3899caba94bb1cd5d",
        "IPY_MODEL_46d1151d488a4ea1aa2098741262f0d8",
        "IPY_MODEL_f0a6d32df7c74c519cec98245986f2d9"
       ],
       "layout": "IPY_MODEL_6d5737ca68624999986ebb319de497fb"
      }
     },
     "cd98d34ea8aa4414925cda2750d6777c": {
      "model_module": "@jupyter-widgets/controls",
      "model_module_version": "1.5.0",
      "model_name": "ButtonModel",
      "state": {
       "description": "Reset Saturation Controls",
       "layout": "IPY_MODEL_3bb5f43688b74dd58a9eb8c0dfe267d0",
       "style": "IPY_MODEL_0a014139efa948e795972a958220831d"
      }
     },
     "cda0495b47ef4f0d8c8f08012f696b00": {
      "model_module": "@jupyter-widgets/base",
      "model_module_version": "1.2.0",
      "model_name": "LayoutModel",
      "state": {
       "align_items": "stretch",
       "display": "flex",
       "flex_flow": "column",
       "width": "1128px"
      }
     },
     "ce08fbbcf7544b7f87f7342c0a69093b": {
      "model_module": "@jupyter-widgets/base",
      "model_module_version": "1.2.0",
      "model_name": "LayoutModel",
      "state": {}
     },
     "ce643adb561b41c4b026418dc92ca9c3": {
      "model_module": "jupyter-matplotlib",
      "model_module_version": "^0.7.2",
      "model_name": "ToolbarModel",
      "state": {
       "layout": "IPY_MODEL_76c4cde070644100bebcc44255f6b38e",
       "toolitems": [
        [
         "Home",
         "Reset original view",
         "home",
         "home"
        ],
        [
         "Back",
         "Back to previous view",
         "arrow-left",
         "back"
        ],
        [
         "Forward",
         "Forward to next view",
         "arrow-right",
         "forward"
        ],
        [
         "Pan",
         "Pan axes with left mouse, zoom with right",
         "arrows",
         "pan"
        ],
        [
         "Zoom",
         "Zoom to rectangle",
         "square-o",
         "zoom"
        ],
        [
         "Download",
         "Download plot",
         "floppy-o",
         "save_figure"
        ]
       ]
      }
     },
     "ce9dc698024542a7a6d5fd05e5e5f2b0": {
      "model_module": "@jupyter-widgets/base",
      "model_module_version": "1.2.0",
      "model_name": "LayoutModel",
      "state": {}
     },
     "cebd49f7492b4c519a2fc018abe93993": {
      "model_module": "@jupyter-widgets/base",
      "model_module_version": "1.2.0",
      "model_name": "LayoutModel",
      "state": {
       "border": "solid 4px #222",
       "margin": "4px",
       "padding": "0"
      }
     },
     "cf0cb38662ce4d54be2295259413e6fa": {
      "model_module": "@jupyter-widgets/base",
      "model_module_version": "1.2.0",
      "model_name": "LayoutModel",
      "state": {}
     },
     "cf192bb1463745f5af11272f85f06ac2": {
      "model_module": "@jupyter-widgets/controls",
      "model_module_version": "1.5.0",
      "model_name": "ButtonStyleModel",
      "state": {}
     },
     "cf92de77102c40698972a663fa39497b": {
      "model_module": "@jupyter-widgets/base",
      "model_module_version": "1.2.0",
      "model_name": "LayoutModel",
      "state": {}
     },
     "cff803481be74efa8160ccdb114330f8": {
      "model_module": "@jupyter-widgets/base",
      "model_module_version": "1.2.0",
      "model_name": "LayoutModel",
      "state": {}
     },
     "cffff144441b4fa7b44aaa274d303eef": {
      "model_module": "@jupyter-widgets/base",
      "model_module_version": "1.2.0",
      "model_name": "LayoutModel",
      "state": {}
     },
     "d00af06f5a2d4b61953f7cdb583f1814": {
      "model_module": "@jupyter-widgets/controls",
      "model_module_version": "1.5.0",
      "model_name": "FloatSliderModel",
      "state": {
       "description": "45°",
       "layout": "IPY_MODEL_4e60529e9d57403aa208b2733d3030ad",
       "max": 1,
       "min": -1,
       "step": 0.01,
       "style": "IPY_MODEL_373b3af3279d4b53bd8e5fef2727c635"
      }
     },
     "d050a61e357e4a51a7f19b1a3128c800": {
      "model_module": "@jupyter-widgets/base",
      "model_module_version": "1.2.0",
      "model_name": "LayoutModel",
      "state": {}
     },
     "d056d788b2b94f1ba04d5b203d1557e3": {
      "model_module": "@jupyter-widgets/controls",
      "model_module_version": "1.5.0",
      "model_name": "ButtonStyleModel",
      "state": {}
     },
     "d084e25908154a5b801acdb0234636f8": {
      "model_module": "@jupyter-widgets/base",
      "model_module_version": "1.2.0",
      "model_name": "LayoutModel",
      "state": {}
     },
     "d0ef56461ac64efba5aa07d57398566f": {
      "model_module": "@jupyter-widgets/base",
      "model_module_version": "1.2.0",
      "model_name": "LayoutModel",
      "state": {}
     },
     "d11638808f3f47a98833927bd96e1eb8": {
      "model_module": "@jupyter-widgets/base",
      "model_module_version": "1.2.0",
      "model_name": "LayoutModel",
      "state": {}
     },
     "d133657dbe654bf4996fe7d8274e65f0": {
      "model_module": "@jupyter-widgets/controls",
      "model_module_version": "1.5.0",
      "model_name": "TabModel",
      "state": {
       "_titles": {
        "0": "Global Controls",
        "1": "Protected Area Controls",
        "2": "Saturation Controls",
        "3": "Hue Controls"
       },
       "children": [
        "IPY_MODEL_0e130ca8258f49c7ba70b7e858dbbe79",
        "IPY_MODEL_ac63641627644216aeae89acd7023526",
        "IPY_MODEL_c53ac6ab95fc46c98cb8f1699173a613",
        "IPY_MODEL_9f0d56f6f1284a6b885191a1085093da"
       ],
       "layout": "IPY_MODEL_bbf4d7904ba5436f8e5a9f6e1fa91afe"
      }
     },
     "d166d55d06e34f70adf271c54237fbdf": {
      "model_module": "jupyter-matplotlib",
      "model_module_version": "^0.7.2",
      "model_name": "MPLCanvasModel",
      "state": {
       "_figure_label": "Figure 1",
       "_height": 464,
       "_width": 1100,
       "header_visible": false,
       "layout": "IPY_MODEL_d11638808f3f47a98833927bd96e1eb8",
       "resizable": false,
       "toolbar": "IPY_MODEL_ce643adb561b41c4b026418dc92ca9c3",
       "toolbar_position": "left",
       "toolbar_visible": false
      }
     },
     "d172bb3b0b2a40e8b68628a75d317cf1": {
      "model_module": "@jupyter-widgets/base",
      "model_module_version": "1.2.0",
      "model_name": "LayoutModel",
      "state": {}
     },
     "d18121bd88224968962d657df88261a3": {
      "model_module": "@jupyter-widgets/base",
      "model_module_version": "1.2.0",
      "model_name": "LayoutModel",
      "state": {}
     },
     "d1d73ed6cb754d5eb62f85932aa63ff6": {
      "model_module": "@jupyter-widgets/controls",
      "model_module_version": "1.5.0",
      "model_name": "ButtonStyleModel",
      "state": {}
     },
     "d1f273ee2db747e9ad19282c42cabe6f": {
      "model_module": "@jupyter-widgets/controls",
      "model_module_version": "1.5.0",
      "model_name": "VBoxModel",
      "state": {
       "children": [
        "IPY_MODEL_110e472c5e454779b54f9aeba5a82ff7",
        "IPY_MODEL_f27c8f6394b84eb7a98856018cbf2a07",
        "IPY_MODEL_282e009ecc8f440f8ce256163b56b833"
       ],
       "layout": "IPY_MODEL_5a230bbb49644c5fb421fb0ddb4f1b4d"
      }
     },
     "d2c01fbc98be488d9385910bfc0003f8": {
      "model_module": "@jupyter-widgets/controls",
      "model_module_version": "1.5.0",
      "model_name": "VBoxModel",
      "state": {
       "children": [
        "IPY_MODEL_dd032d87c64c48f6995d71289a3c6a3e",
        "IPY_MODEL_8f07eaeb6b264499aa0cc9b3cdf1479e",
        "IPY_MODEL_9fcd540feb1a44658a8e06cc154208b9"
       ],
       "layout": "IPY_MODEL_646d999b1ad14836bd5abc68e05102cd"
      }
     },
     "d2da5c3b75e44923bd57f2ed86e7e3da": {
      "model_module": "@jupyter-widgets/controls",
      "model_module_version": "1.5.0",
      "model_name": "VBoxModel",
      "state": {
       "children": [
        "IPY_MODEL_54a17eb73b6f4f3e82d908f4f4836cd9",
        "IPY_MODEL_03418be10d1e440184b7c2ad6e41aed8",
        "IPY_MODEL_3e96e52950c34bb8ba07dbe9c8433518"
       ],
       "layout": "IPY_MODEL_d7b16ea4772c4df5bea9036368028691"
      }
     },
     "d3762f8c3da641078e980dcc3deccd6a": {
      "model_module": "@jupyter-widgets/controls",
      "model_module_version": "1.5.0",
      "model_name": "FloatSliderModel",
      "state": {
       "description": "315°",
       "layout": "IPY_MODEL_6d02c1cb2ee849e3a1405a8668b963e5",
       "max": 1,
       "min": -1,
       "step": 0.01,
       "style": "IPY_MODEL_9f5bacc5fb6b4aa9b2094e98369e6a3c"
      }
     },
     "d3da99cc87044eae9af8007c5c2d4ab8": {
      "model_module": "@jupyter-widgets/controls",
      "model_module_version": "1.5.0",
      "model_name": "ButtonModel",
      "state": {
       "description": "Reset Compression Controls",
       "layout": "IPY_MODEL_0b3412d4d5c74d6d958ffe41bbc7e6fa",
       "style": "IPY_MODEL_30f062f32553472b991e053c86961725"
      }
     },
     "d3e82bbd9e55469fbba3736709c3b774": {
      "model_module": "@jupyter-widgets/controls",
      "model_module_version": "1.5.0",
      "model_name": "VBoxModel",
      "state": {
       "children": [
        "IPY_MODEL_90fc42dc8e9445d38ad07bdccc7160f5",
        "IPY_MODEL_a7212c0680b34a2aba930d858abbca89"
       ],
       "layout": "IPY_MODEL_589beba4a2964270ab49b1c9f7a75740"
      }
     },
     "d4143575b994425980b62e20068cf729": {
      "model_module": "@jupyter-widgets/controls",
      "model_module_version": "1.5.0",
      "model_name": "HBoxModel",
      "state": {
       "children": [
        "IPY_MODEL_08e8e51f88f94546904226ccaeb9bd4c",
        "IPY_MODEL_da35676ead1545928a6a31b90e11eaf2",
        "IPY_MODEL_a7f46486b5df45a189a679efc4f27300"
       ],
       "layout": "IPY_MODEL_bdfa40bc237541ba969b77adcbbede35"
      }
     },
     "d46d4fbb345140fd9d04d362242facfc": {
      "model_module": "@jupyter-widgets/controls",
      "model_module_version": "1.5.0",
      "model_name": "ButtonStyleModel",
      "state": {}
     },
     "d4af4c48364b46479882b3db5935ab67": {
      "model_module": "@jupyter-widgets/base",
      "model_module_version": "1.2.0",
      "model_name": "LayoutModel",
      "state": {}
     },
     "d4b1d6b33b504d4b966835c996cfd9dc": {
      "model_module": "jupyter-matplotlib",
      "model_module_version": "^0.7.2",
      "model_name": "MPLCanvasModel",
      "state": {
       "_figure_label": "Figure 19",
       "_height": 550,
       "_width": 1100,
       "header_visible": false,
       "layout": "IPY_MODEL_cf92de77102c40698972a663fa39497b",
       "resizable": false,
       "toolbar": "IPY_MODEL_b38df53c16144bdc968979ea3e838c13",
       "toolbar_position": "left",
       "toolbar_visible": false
      }
     },
     "d4cdae631fad4b93b85adbca270951fc": {
      "model_module": "@jupyter-widgets/base",
      "model_module_version": "1.2.0",
      "model_name": "LayoutModel",
      "state": {}
     },
     "d4d61e806bb54ccdba6545b006e91b77": {
      "model_module": "@jupyter-widgets/base",
      "model_module_version": "1.2.0",
      "model_name": "LayoutModel",
      "state": {
       "border": "solid 4px #222",
       "margin": "4px",
       "padding": "0"
      }
     },
     "d530c308436441608661c0d68acfca82": {
      "model_module": "@jupyter-widgets/controls",
      "model_module_version": "1.5.0",
      "model_name": "ButtonModel",
      "state": {
       "description": "Save Figure",
       "layout": "IPY_MODEL_aec473c620dc42988b4fe8e95a0a4738",
       "style": "IPY_MODEL_c7a5ed2a01074a8f9f608bdb1ee1cf9a"
      }
     },
     "d55923b0d8e64e82809c5d7a84424687": {
      "model_module": "jupyter-matplotlib",
      "model_module_version": "^0.7.2",
      "model_name": "MPLCanvasModel",
      "state": {
       "_figure_label": "Figure 10",
       "_height": 718,
       "_width": 1100,
       "header_visible": false,
       "layout": "IPY_MODEL_c82fbce62208421cb188b6b5086e9c01",
       "resizable": false,
       "toolbar": "IPY_MODEL_8df0c345e6d54ec08372b12f7964d853",
       "toolbar_position": "left",
       "toolbar_visible": false
      }
     },
     "d5734a5b72cd4c20895a9c0d1fd6ce2d": {
      "model_module": "@jupyter-widgets/base",
      "model_module_version": "1.2.0",
      "model_name": "LayoutModel",
      "state": {}
     },
     "d60d148d4f05482ea4208da0f2bb6132": {
      "model_module": "@jupyter-widgets/base",
      "model_module_version": "1.2.0",
      "model_name": "LayoutModel",
      "state": {}
     },
     "d6b2879a99cb499ead75442c3e9be8a8": {
      "model_module": "@jupyter-widgets/controls",
      "model_module_version": "1.5.0",
      "model_name": "ButtonStyleModel",
      "state": {}
     },
     "d6d9bd07571145cca77545a6a4e77fa7": {
      "model_module": "@jupyter-widgets/controls",
      "model_module_version": "1.5.0",
      "model_name": "DescriptionStyleModel",
      "state": {
       "description_width": ""
      }
     },
     "d6e0aaa0d9974fb98583d9c4a2828220": {
      "model_module": "@jupyter-widgets/base",
      "model_module_version": "1.2.0",
      "model_name": "LayoutModel",
      "state": {}
     },
     "d6e9c6c788ac4e1f907916a4e09e037b": {
      "model_module": "@jupyter-widgets/base",
      "model_module_version": "1.2.0",
      "model_name": "LayoutModel",
      "state": {}
     },
     "d738edcdc6de4a5dad133e84acaad33c": {
      "model_module": "@jupyter-widgets/base",
      "model_module_version": "1.2.0",
      "model_name": "LayoutModel",
      "state": {}
     },
     "d751c11250824e2886616cfddace7f1b": {
      "model_module": "@jupyter-widgets/controls",
      "model_module_version": "1.5.0",
      "model_name": "BoxModel",
      "state": {
       "children": [
        "IPY_MODEL_3baa556f1fa64ad09f1e9e2150cebf63",
        "IPY_MODEL_14c8132dd63247998a47f70697f38560"
       ],
       "layout": "IPY_MODEL_cda0495b47ef4f0d8c8f08012f696b00"
      }
     },
     "d76b5978543546cbad5b93dad0f2ad70": {
      "model_module": "@jupyter-widgets/controls",
      "model_module_version": "1.5.0",
      "model_name": "HBoxModel",
      "state": {
       "children": [
        "IPY_MODEL_262016f9d5354c4184060ed976267f63",
        "IPY_MODEL_7683874935394cfc9af46e0f6609dff3",
        "IPY_MODEL_2c39da63e6bc4e07a8e4a0312cad55cd"
       ],
       "layout": "IPY_MODEL_ec1f37d893ea4cc48145b56121824263"
      }
     },
     "d7ab718dba784b92b840744562b13558": {
      "model_module": "@jupyter-widgets/base",
      "model_module_version": "1.2.0",
      "model_name": "LayoutModel",
      "state": {}
     },
     "d7b16ea4772c4df5bea9036368028691": {
      "model_module": "@jupyter-widgets/base",
      "model_module_version": "1.2.0",
      "model_name": "LayoutModel",
      "state": {}
     },
     "d84ec2251ccf4a79a4a464de9e0f2490": {
      "model_module": "@jupyter-widgets/controls",
      "model_module_version": "1.5.0",
      "model_name": "FloatSliderModel",
      "state": {
       "description": "135°",
       "layout": "IPY_MODEL_84117365820647abb2cb29ecf1dc8e21",
       "max": 1,
       "min": -1,
       "step": 0.01,
       "style": "IPY_MODEL_eaba7ce05f854bd98322aee124b5abc8"
      }
     },
     "d867d0ad15d9489ba302637400dce37b": {
      "model_module": "@jupyter-widgets/controls",
      "model_module_version": "1.5.0",
      "model_name": "ButtonStyleModel",
      "state": {}
     },
     "d875c19f5405430d912c21a82baaa740": {
      "model_module": "@jupyter-widgets/base",
      "model_module_version": "1.2.0",
      "model_name": "LayoutModel",
      "state": {
       "border": "solid 4px #222",
       "margin": "4px",
       "padding": "0"
      }
     },
     "d8a3e6ed944f4cf0a6bef2b21bd6e7db": {
      "model_module": "jupyter-matplotlib",
      "model_module_version": "^0.7.2",
      "model_name": "ToolbarModel",
      "state": {
       "layout": "IPY_MODEL_1677f77da37e4b529535cf7d690be608",
       "toolitems": [
        [
         "Home",
         "Reset original view",
         "home",
         "home"
        ],
        [
         "Back",
         "Back to previous view",
         "arrow-left",
         "back"
        ],
        [
         "Forward",
         "Forward to next view",
         "arrow-right",
         "forward"
        ],
        [
         "Pan",
         "Pan axes with left mouse, zoom with right",
         "arrows",
         "pan"
        ],
        [
         "Zoom",
         "Zoom to rectangle",
         "square-o",
         "zoom"
        ],
        [
         "Download",
         "Download plot",
         "floppy-o",
         "save_figure"
        ]
       ]
      }
     },
     "d8c91e697987498f8c0dd8264bf47c59": {
      "model_module": "@jupyter-widgets/controls",
      "model_module_version": "1.5.0",
      "model_name": "ButtonStyleModel",
      "state": {}
     },
     "d8f102562e7d4361bffdc789c53a141e": {
      "model_module": "@jupyter-widgets/base",
      "model_module_version": "1.2.0",
      "model_name": "LayoutModel",
      "state": {
       "border": "solid 4px #222",
       "margin": "4px",
       "padding": "0"
      }
     },
     "d8f24fdd700c400e8a4a90d5d4915e4e": {
      "model_module": "@jupyter-widgets/base",
      "model_module_version": "1.2.0",
      "model_name": "LayoutModel",
      "state": {}
     },
     "d9086b6acaf146beb18da654adeb4f35": {
      "model_module": "jupyter-matplotlib",
      "model_module_version": "^0.7.2",
      "model_name": "MPLCanvasModel",
      "state": {
       "_figure_label": "Figure 22",
       "_height": 550,
       "_width": 1100,
       "header_visible": false,
       "layout": "IPY_MODEL_06d7a0439890453c88fdb1f01ad2cb86",
       "resizable": false,
       "toolbar": "IPY_MODEL_b553b4d5e7234e0287366badd3deac59",
       "toolbar_position": "left",
       "toolbar_visible": false
      }
     },
     "d985e426bd3b40d380c580656140151b": {
      "model_module": "@jupyter-widgets/controls",
      "model_module_version": "1.5.0",
      "model_name": "FloatSliderModel",
      "state": {
       "description": "90°",
       "layout": "IPY_MODEL_e62cc48e971a47d1bb019b5b0aa93f6a",
       "max": 1,
       "min": -1,
       "step": 0.01,
       "style": "IPY_MODEL_bf37b85a9f9a45bab637f1d364a3fb62"
      }
     },
     "d9d581f68b434e6893ca56ffbe8d3817": {
      "model_module": "@jupyter-widgets/base",
      "model_module_version": "1.2.0",
      "model_name": "LayoutModel",
      "state": {
       "border": "solid 4px #222",
       "margin": "4px",
       "padding": "0"
      }
     },
     "da1d07b0dfd94207a9694e74d2f05764": {
      "model_module": "@jupyter-widgets/controls",
      "model_module_version": "1.5.0",
      "model_name": "HBoxModel",
      "state": {
       "children": [
        "IPY_MODEL_2105182278a343f291fa695ec7a734a6",
        "IPY_MODEL_3b1b6f8cc7b44c3c8b1efe8681e9502b"
       ],
       "layout": "IPY_MODEL_8e9aab2d407e479fada33389ac1c4c2d"
      }
     },
     "da35676ead1545928a6a31b90e11eaf2": {
      "model_module": "@jupyter-widgets/controls",
      "model_module_version": "1.5.0",
      "model_name": "ButtonModel",
      "state": {
       "description": "Export Image",
       "layout": "IPY_MODEL_349de28fa6c74eecab3457120e5040f8",
       "style": "IPY_MODEL_9e2a449e469b41359188c61e17c93039"
      }
     },
     "dabb57be3b19438aaac5895589a439f9": {
      "model_module": "@jupyter-widgets/output",
      "model_module_version": "1.0.0",
      "model_name": "OutputModel",
      "state": {
       "layout": "IPY_MODEL_cebd49f7492b4c519a2fc018abe93993",
       "outputs": [
        {
         "data": {
          "application/vnd.jupyter.widget-view+json": {
           "model_id": "61387f90ed0f433692532858c8c0941e",
           "version_major": 2,
           "version_minor": 0
          },
          "text/plain": "Canvas(toolbar=Toolbar(toolitems=[('Home', 'Reset original view', 'home', 'home'), ('Back', 'Back to previous …"
         },
         "metadata": {},
         "output_type": "display_data"
        }
       ]
      }
     },
     "daca6758c24a456e852e549e44d861af": {
      "model_module": "@jupyter-widgets/controls",
      "model_module_version": "1.5.0",
      "model_name": "ButtonModel",
      "state": {
       "description": "Reset Compression Controls",
       "layout": "IPY_MODEL_21fb788e84074744b40a3051fc206afa",
       "style": "IPY_MODEL_24e794ff3f3548f2af60edfe9318e30d"
      }
     },
     "dc51720a895d495f8665d9e48274b64d": {
      "model_module": "@jupyter-widgets/base",
      "model_module_version": "1.2.0",
      "model_name": "LayoutModel",
      "state": {}
     },
     "dc5571eab20247088442f2db3e5a88ff": {
      "model_module": "@jupyter-widgets/base",
      "model_module_version": "1.2.0",
      "model_name": "LayoutModel",
      "state": {}
     },
     "dce1fb4cf8504aa580bb931f367b19ea": {
      "model_module": "@jupyter-widgets/controls",
      "model_module_version": "1.5.0",
      "model_name": "FloatSliderModel",
      "state": {
       "description": "180°",
       "layout": "IPY_MODEL_a7011e5e1f2646408928b1752c353ce1",
       "max": 1,
       "min": -1,
       "step": 0.01,
       "style": "IPY_MODEL_b7fca440002646109c5076283e82480f"
      }
     },
     "dd032d87c64c48f6995d71289a3c6a3e": {
      "model_module": "@jupyter-widgets/controls",
      "model_module_version": "1.5.0",
      "model_name": "FloatSliderModel",
      "state": {
       "description": "0°",
       "layout": "IPY_MODEL_9fa1fc88221d4652af230fc98061a310",
       "max": 1,
       "min": -1,
       "step": 0.01,
       "style": "IPY_MODEL_70c7b38c0c154e82b83027513529ffb0"
      }
     },
     "dd8fe9011dfa4c089397dc21a014fd95": {
      "model_module": "@jupyter-widgets/controls",
      "model_module_version": "1.5.0",
      "model_name": "VBoxModel",
      "state": {
       "children": [
        "IPY_MODEL_e629f93088084860bdb915052f36a3a4",
        "IPY_MODEL_7637486aa04b4d6aafc7aea060546898",
        "IPY_MODEL_123bde2625134e4b96c8dd595c4d33db"
       ],
       "layout": "IPY_MODEL_c62a8b9185404b6b95195e84d6bdd8b0"
      }
     },
     "de923762c39d421aa9958977a52bd77a": {
      "model_module": "@jupyter-widgets/controls",
      "model_module_version": "1.5.0",
      "model_name": "DescriptionStyleModel",
      "state": {
       "description_width": ""
      }
     },
     "def3fd594d474858ab53e9dd26542a43": {
      "model_module": "@jupyter-widgets/controls",
      "model_module_version": "1.5.0",
      "model_name": "TabModel",
      "state": {
       "_titles": {
        "0": "Global Controls",
        "1": "Protected Area Controls",
        "2": "Saturation Controls",
        "3": "Hue Controls"
       },
       "children": [
        "IPY_MODEL_17b45b80d7034cec82c48b61a8fc7551",
        "IPY_MODEL_55406c1cb6934b1e9953cd18586919d3",
        "IPY_MODEL_a4bd0cd133a2413eb395933e8e772995",
        "IPY_MODEL_ea48b41ce25c497db6c55212b17808cc"
       ],
       "layout": "IPY_MODEL_4a1525296a31485e87fad11013605957"
      }
     },
     "df2c193ff8ea4a728980a5b9c385f93b": {
      "model_module": "@jupyter-widgets/base",
      "model_module_version": "1.2.0",
      "model_name": "LayoutModel",
      "state": {}
     },
     "df4c4e1fda054c8bac81dd2aa8e8155b": {
      "model_module": "@jupyter-widgets/controls",
      "model_module_version": "1.5.0",
      "model_name": "HBoxModel",
      "state": {
       "children": [
        "IPY_MODEL_6b2d4f528d18416ca5040e5127b68abe",
        "IPY_MODEL_23bd48db2ac440b8b923c9adb6dc9fba"
       ],
       "layout": "IPY_MODEL_86a210beb2134f469ad0afd54d3237d9"
      }
     },
     "dfb785a2ed6c4b08a6b24abe795be1d7": {
      "model_module": "@jupyter-widgets/controls",
      "model_module_version": "1.5.0",
      "model_name": "ButtonModel",
      "state": {
       "description": "Reset Saturation Controls",
       "layout": "IPY_MODEL_6c97bd8afbd84e88bbfe1d301e3a3fff",
       "style": "IPY_MODEL_8e11fac751824de59da436dc5c6910a5"
      }
     },
     "dfbbe4158a874e9db544737b9023eef6": {
      "model_module": "@jupyter-widgets/controls",
      "model_module_version": "1.5.0",
      "model_name": "ButtonStyleModel",
      "state": {}
     },
     "e00e71870bc349f7849aa59c9eaad3a4": {
      "model_module": "@jupyter-widgets/base",
      "model_module_version": "1.2.0",
      "model_name": "LayoutModel",
      "state": {}
     },
     "e02e34f7b5bb45a0acf9075c3542d447": {
      "model_module": "@jupyter-widgets/base",
      "model_module_version": "1.2.0",
      "model_name": "LayoutModel",
      "state": {}
     },
     "e14b3c44956f4ca49e4fcc621679f67f": {
      "model_module": "@jupyter-widgets/controls",
      "model_module_version": "1.5.0",
      "model_name": "ButtonStyleModel",
      "state": {}
     },
     "e14ecd52d4e1470f9befe76a6145f60d": {
      "model_module": "@jupyter-widgets/controls",
      "model_module_version": "1.5.0",
      "model_name": "ButtonModel",
      "state": {
       "description": "Reset Saturation Controls",
       "layout": "IPY_MODEL_0ef47776fac04f3e994b8cfb39b9b8ff",
       "style": "IPY_MODEL_a527c1b1344c4913b3661e0be91d9462"
      }
     },
     "e1a5e8b96a494dc6932fbca81b3a1ac6": {
      "model_module": "@jupyter-widgets/controls",
      "model_module_version": "1.5.0",
      "model_name": "DescriptionStyleModel",
      "state": {
       "description_width": ""
      }
     },
     "e2741cd28f654590bac999eca72567f4": {
      "model_module": "jupyter-matplotlib",
      "model_module_version": "^0.7.2",
      "model_name": "MPLCanvasModel",
      "state": {
       "_figure_label": "Figure 9",
       "_height": 718,
       "_width": 1100,
       "header_visible": false,
       "layout": "IPY_MODEL_e6f9b29d9e1e4e13a21d0ba38fc714ee",
       "resizable": false,
       "toolbar": "IPY_MODEL_b4f50f91875b4ed7875907ffe116e8c4",
       "toolbar_position": "left",
       "toolbar_visible": false
      }
     },
     "e299c9e6fe65427f9aa08f23605ca85b": {
      "model_module": "@jupyter-widgets/base",
      "model_module_version": "1.2.0",
      "model_name": "LayoutModel",
      "state": {}
     },
     "e2e834464a634326b0ff4eab26ea2eaa": {
      "model_module": "@jupyter-widgets/controls",
      "model_module_version": "1.5.0",
      "model_name": "ButtonStyleModel",
      "state": {}
     },
     "e326b25ce01746199d3110d1a91eb340": {
      "model_module": "@jupyter-widgets/base",
      "model_module_version": "1.2.0",
      "model_name": "LayoutModel",
      "state": {}
     },
     "e3641fab0e3944e8af73d327423a51e0": {
      "model_module": "@jupyter-widgets/controls",
      "model_module_version": "1.5.0",
      "model_name": "SliderStyleModel",
      "state": {
       "description_width": ""
      }
     },
     "e39f3f2ac91f4f78af2d57bec3f6c3be": {
      "model_module": "@jupyter-widgets/controls",
      "model_module_version": "1.5.0",
      "model_name": "VBoxModel",
      "state": {
       "children": [
        "IPY_MODEL_ea5570b71a164f2292669f449cf2ffd8",
        "IPY_MODEL_5c4d0663f32d4f8eae54d3ea1c506a4e",
        "IPY_MODEL_d985e426bd3b40d380c580656140151b"
       ],
       "layout": "IPY_MODEL_d6e9c6c788ac4e1f907916a4e09e037b"
      }
     },
     "e3d14b39f2ee41edb03f224e736766fc": {
      "model_module": "@jupyter-widgets/controls",
      "model_module_version": "1.5.0",
      "model_name": "FloatSliderModel",
      "state": {
       "description": "225°",
       "layout": "IPY_MODEL_1488323f22094a14ab8dcc2a1955a589",
       "max": 1,
       "min": -1,
       "step": 0.01,
       "style": "IPY_MODEL_60c4c17983e747de84880fd9eadcf91c"
      }
     },
     "e407e4480b4246c8b7a513ab0284bacc": {
      "model_module": "@jupyter-widgets/base",
      "model_module_version": "1.2.0",
      "model_name": "LayoutModel",
      "state": {}
     },
     "e43b3a92fb36402f9ed0f8016a654bb4": {
      "model_module": "@jupyter-widgets/controls",
      "model_module_version": "1.5.0",
      "model_name": "FloatSliderModel",
      "state": {
       "description": "Protected Area Threshold",
       "layout": "IPY_MODEL_e78c92749d91487aa87c8750671fdaa6",
       "max": 1,
       "step": 0.01,
       "style": "IPY_MODEL_caa149b1721d4320b975951f20c51e8e",
       "value": 0.7
      }
     },
     "e44c16e1764d4226930e04d88467227d": {
      "model_module": "@jupyter-widgets/controls",
      "model_module_version": "1.5.0",
      "model_name": "SliderStyleModel",
      "state": {
       "description_width": ""
      }
     },
     "e4726a6228a2407fb2bc2fea3bab02c7": {
      "model_module": "@jupyter-widgets/controls",
      "model_module_version": "1.5.0",
      "model_name": "ButtonModel",
      "state": {
       "description": "Export Image",
       "layout": "IPY_MODEL_78199b3ed5564721b22515f4491e604c",
       "style": "IPY_MODEL_6eca26825db24841815dab3cf072223d"
      }
     },
     "e4b6b2794cfe4427aa36ad7927f1956e": {
      "model_module": "@jupyter-widgets/base",
      "model_module_version": "1.2.0",
      "model_name": "LayoutModel",
      "state": {}
     },
     "e4d7327030b7406d94ad651d7a69f006": {
      "model_module": "@jupyter-widgets/controls",
      "model_module_version": "1.5.0",
      "model_name": "SliderStyleModel",
      "state": {
       "description_width": ""
      }
     },
     "e50c5fb3c4374171a366de172a57dc32": {
      "model_module": "@jupyter-widgets/controls",
      "model_module_version": "1.5.0",
      "model_name": "VBoxModel",
      "state": {
       "children": [
        "IPY_MODEL_8e0700fc36d54bb4be8373eaaa075d88",
        "IPY_MODEL_dce1fb4cf8504aa580bb931f367b19ea",
        "IPY_MODEL_b73561cf04d3417db344936e5ba6f74e"
       ],
       "layout": "IPY_MODEL_798c4c3f4e4e466bac254239dfd7a62d"
      }
     },
     "e51ee04f95c047eaaa46d5a5994b5808": {
      "model_module": "@jupyter-widgets/base",
      "model_module_version": "1.2.0",
      "model_name": "LayoutModel",
      "state": {}
     },
     "e5e357bd9867466693fe31ec5f4a3cb9": {
      "model_module": "@jupyter-widgets/controls",
      "model_module_version": "1.5.0",
      "model_name": "ButtonModel",
      "state": {
       "description": "Save Figure",
       "layout": "IPY_MODEL_10282fe8b19643d1963b49af7f85f99d",
       "style": "IPY_MODEL_7fc7beb9fe1c41a3abd7fed412c0815b"
      }
     },
     "e60524150e954ad184ff00fe9adb3085": {
      "model_module": "@jupyter-widgets/controls",
      "model_module_version": "1.5.0",
      "model_name": "FloatSliderModel",
      "state": {
       "description": "225°",
       "layout": "IPY_MODEL_21803182950b4c8db4bc01253e374bbd",
       "max": 1,
       "min": -1,
       "step": 0.01,
       "style": "IPY_MODEL_a7bf5bc99e69401484a0b5f60856355a"
      }
     },
     "e628ef0a59364b09b0cc94553b7d9199": {
      "model_module": "@jupyter-widgets/controls",
      "model_module_version": "1.5.0",
      "model_name": "ButtonModel",
      "state": {
       "description": "Save Figure",
       "layout": "IPY_MODEL_f3550bd32c0841e281f5ced42b48517b",
       "style": "IPY_MODEL_dfbbe4158a874e9db544737b9023eef6"
      }
     },
     "e629f93088084860bdb915052f36a3a4": {
      "model_module": "@jupyter-widgets/controls",
      "model_module_version": "1.5.0",
      "model_name": "FloatSliderModel",
      "state": {
       "description": "135°",
       "layout": "IPY_MODEL_3dec3296cb1548cfb9b418a6657904d2",
       "max": 1,
       "min": -1,
       "step": 0.01,
       "style": "IPY_MODEL_4fb4685baf494af09f3aee61223c316f"
      }
     },
     "e62cc48e971a47d1bb019b5b0aa93f6a": {
      "model_module": "@jupyter-widgets/base",
      "model_module_version": "1.2.0",
      "model_name": "LayoutModel",
      "state": {}
     },
     "e63794ee5af2459097b5c6228b978393": {
      "model_module": "@jupyter-widgets/controls",
      "model_module_version": "1.5.0",
      "model_name": "VBoxModel",
      "state": {
       "children": [
        "IPY_MODEL_6a8d5dd012954351ac38e72ab031b8c8",
        "IPY_MODEL_5aed4c7b810c42b18dac6d45af719b7b",
        "IPY_MODEL_279a54fc9e464630b99778b179bfa2f8"
       ],
       "layout": "IPY_MODEL_626d4d878395487683e06594d79c64fc"
      }
     },
     "e6ab51f20fae4d6ba0b37411261265e2": {
      "model_module": "@jupyter-widgets/controls",
      "model_module_version": "1.5.0",
      "model_name": "HBoxModel",
      "state": {
       "children": [
        "IPY_MODEL_1ec9b09c17304847a2c417cbcd4590a3",
        "IPY_MODEL_f946c33cb4314c838049b23063035860",
        "IPY_MODEL_97b3e44c34cf4c8084651ad1ae8554e2"
       ],
       "layout": "IPY_MODEL_7e76a1ebbb704ffe9463530214c4e72a"
      }
     },
     "e6f9b29d9e1e4e13a21d0ba38fc714ee": {
      "model_module": "@jupyter-widgets/base",
      "model_module_version": "1.2.0",
      "model_name": "LayoutModel",
      "state": {}
     },
     "e78c92749d91487aa87c8750671fdaa6": {
      "model_module": "@jupyter-widgets/base",
      "model_module_version": "1.2.0",
      "model_name": "LayoutModel",
      "state": {}
     },
     "e7fe9258b6c14228a7c40baec3bdb7cb": {
      "model_module": "@jupyter-widgets/controls",
      "model_module_version": "1.5.0",
      "model_name": "ButtonStyleModel",
      "state": {}
     },
     "e8b700c9dea44f62a977f3604c8c0417": {
      "model_module": "@jupyter-widgets/base",
      "model_module_version": "1.2.0",
      "model_name": "LayoutModel",
      "state": {
       "border": "solid 4px #222",
       "margin": "4px",
       "padding": "0"
      }
     },
     "e8d28577382e4ef988f45a903de78fff": {
      "model_module": "@jupyter-widgets/controls",
      "model_module_version": "1.5.0",
      "model_name": "SliderStyleModel",
      "state": {
       "description_width": ""
      }
     },
     "e8d3015fc7e54aa7b0280806d2491952": {
      "model_module": "@jupyter-widgets/base",
      "model_module_version": "1.2.0",
      "model_name": "LayoutModel",
      "state": {}
     },
     "e8e5772313da449fb2e95ca7eedb2ec9": {
      "model_module": "@jupyter-widgets/controls",
      "model_module_version": "1.5.0",
      "model_name": "VBoxModel",
      "state": {
       "children": [
        "IPY_MODEL_ad8c6688ccee4f7295d8ac9d03d83b6f",
        "IPY_MODEL_99ae565f982e49d2bd1659e397e0ce48",
        "IPY_MODEL_17fe2c7e05794c85bdf5d54989ed7511"
       ],
       "layout": "IPY_MODEL_c60210fe6a584febb8c5b194d032f3af"
      }
     },
     "e9395b0f619a4ad3abe3d2da7274b156": {
      "model_module": "@jupyter-widgets/controls",
      "model_module_version": "1.5.0",
      "model_name": "ButtonModel",
      "state": {
       "description": "Export Image",
       "layout": "IPY_MODEL_4edc67b80e0d4525b2e129e342830796",
       "style": "IPY_MODEL_c6e82ae0247c4e299101099c37ae2993"
      }
     },
     "e9cdf93a5b9d40e8822ec5c4b9358bbb": {
      "model_module": "@jupyter-widgets/controls",
      "model_module_version": "1.5.0",
      "model_name": "ButtonModel",
      "state": {
       "description": "Export Image",
       "layout": "IPY_MODEL_cbebcb7e410c4a54908a7a502eccd3d9",
       "style": "IPY_MODEL_56e0ea158f454362b17c3c08b74c5317"
      }
     },
     "e9ed9909b50944a8ae9b5c7c121bab9b": {
      "model_module": "@jupyter-widgets/controls",
      "model_module_version": "1.5.0",
      "model_name": "FloatSliderModel",
      "state": {
       "description": "0°",
       "layout": "IPY_MODEL_fa04209ac46c4b1787d3975e998f711e",
       "max": 1,
       "min": -1,
       "step": 0.01,
       "style": "IPY_MODEL_2a1c7141635b4f96b0e9c0996536e63e"
      }
     },
     "ea128ca3edd1467b8c1aa2de2a92abb9": {
      "model_module": "@jupyter-widgets/controls",
      "model_module_version": "1.5.0",
      "model_name": "FloatSliderModel",
      "state": {
       "description": "45°",
       "layout": "IPY_MODEL_a0a9b23b81c84876b85337d421d6f8ac",
       "max": 1,
       "min": -1,
       "step": 0.01,
       "style": "IPY_MODEL_0625a3d6d9bf47c48266c7e14b67c95c"
      }
     },
     "ea48b41ce25c497db6c55212b17808cc": {
      "model_module": "@jupyter-widgets/controls",
      "model_module_version": "1.5.0",
      "model_name": "HBoxModel",
      "state": {
       "children": [
        "IPY_MODEL_30c87a15d60342e1aadbc48ac04a7d22",
        "IPY_MODEL_e8e5772313da449fb2e95ca7eedb2ec9",
        "IPY_MODEL_e63794ee5af2459097b5c6228b978393",
        "IPY_MODEL_290fc449250148f19fe607c09ca7ae2e"
       ],
       "layout": "IPY_MODEL_8ba4d51aed4e4052a59dc576145705ca"
      }
     },
     "ea5570b71a164f2292669f449cf2ffd8": {
      "model_module": "@jupyter-widgets/controls",
      "model_module_version": "1.5.0",
      "model_name": "FloatSliderModel",
      "state": {
       "description": "0°",
       "layout": "IPY_MODEL_6c4805121f66426e955d52c8399941ab",
       "max": 1,
       "min": -1,
       "step": 0.01,
       "style": "IPY_MODEL_9a62c8bc4edf498aa2b2d7ff842d06d6"
      }
     },
     "ea73cc5aa29b4c069f50f8234ea7e89b": {
      "model_module": "@jupyter-widgets/base",
      "model_module_version": "1.2.0",
      "model_name": "LayoutModel",
      "state": {}
     },
     "eaba7ce05f854bd98322aee124b5abc8": {
      "model_module": "@jupyter-widgets/controls",
      "model_module_version": "1.5.0",
      "model_name": "SliderStyleModel",
      "state": {
       "description_width": ""
      }
     },
     "eaf550e7a7dd4ac496bcd6dd07e3c147": {
      "model_module": "@jupyter-widgets/controls",
      "model_module_version": "1.5.0",
      "model_name": "FloatSliderModel",
      "state": {
       "description": "45°",
       "layout": "IPY_MODEL_bcb3b12a21dc4b7e9401e9b111cc43ac",
       "max": 1,
       "min": -1,
       "step": 0.01,
       "style": "IPY_MODEL_06be8745d43347348d2b09fb7a148976"
      }
     },
     "ec1f37d893ea4cc48145b56121824263": {
      "model_module": "@jupyter-widgets/base",
      "model_module_version": "1.2.0",
      "model_name": "LayoutModel",
      "state": {}
     },
     "ec2a7b840dc347c3a4dc970b78c2c92f": {
      "model_module": "@jupyter-widgets/base",
      "model_module_version": "1.2.0",
      "model_name": "LayoutModel",
      "state": {}
     },
     "ec4cf1c9f1254c12a25c89e87f260c36": {
      "model_module": "@jupyter-widgets/base",
      "model_module_version": "1.2.0",
      "model_name": "LayoutModel",
      "state": {}
     },
     "ec6dec4ae8904cca9a3fce5804b31c5f": {
      "model_module": "@jupyter-widgets/controls",
      "model_module_version": "1.5.0",
      "model_name": "HBoxModel",
      "state": {
       "children": [
        "IPY_MODEL_c9ac4c12d67043c0b97cd9dfd5a758d9",
        "IPY_MODEL_56031b9d110e49758e0c799c268a07d0"
       ],
       "layout": "IPY_MODEL_10721b7395a240ccacc4cf5ab5cf1826"
      }
     },
     "ec9d5695bac94de39d8155ec58ac2eba": {
      "model_module": "@jupyter-widgets/base",
      "model_module_version": "1.2.0",
      "model_name": "LayoutModel",
      "state": {
       "border": "solid 4px #222",
       "margin": "4px",
       "padding": "0"
      }
     },
     "eccbf3de4d6d42ea9ca44b340a25ccaa": {
      "model_module": "@jupyter-widgets/base",
      "model_module_version": "1.2.0",
      "model_name": "LayoutModel",
      "state": {
       "border": "solid 4px #222",
       "margin": "4px",
       "padding": "0"
      }
     },
     "ed00666e2a924fc499c42a8a5e7ea185": {
      "model_module": "@jupyter-widgets/base",
      "model_module_version": "1.2.0",
      "model_name": "LayoutModel",
      "state": {}
     },
     "ed1f53ea680c429ba7b4557cef33150a": {
      "model_module": "@jupyter-widgets/base",
      "model_module_version": "1.2.0",
      "model_name": "LayoutModel",
      "state": {
       "border": "solid 4px #222",
       "margin": "4px",
       "padding": "0"
      }
     },
     "ed21c92d91b4420cbf428e96af11b69c": {
      "model_module": "@jupyter-widgets/controls",
      "model_module_version": "1.5.0",
      "model_name": "HBoxModel",
      "state": {
       "children": [
        "IPY_MODEL_ca809a5375df40c485271aac9b6c8681",
        "IPY_MODEL_b129108a6a9c4b1d82515852d57c4a21"
       ],
       "layout": "IPY_MODEL_4287b5528d574db8a99a0cbf5f56c1f7"
      }
     },
     "ed33aa987a1c409a8506e431a132d44b": {
      "model_module": "@jupyter-widgets/base",
      "model_module_version": "1.2.0",
      "model_name": "LayoutModel",
      "state": {}
     },
     "ed889636f5fc4efaa563d02c245b74e3": {
      "model_module": "@jupyter-widgets/base",
      "model_module_version": "1.2.0",
      "model_name": "LayoutModel",
      "state": {}
     },
     "edfc2c72267f4b01b9fcfc61f21f9a07": {
      "model_module": "@jupyter-widgets/controls",
      "model_module_version": "1.5.0",
      "model_name": "SliderStyleModel",
      "state": {
       "description_width": ""
      }
     },
     "ee2238e29a3241a9acd360b38c4c3704": {
      "model_module": "@jupyter-widgets/controls",
      "model_module_version": "1.5.0",
      "model_name": "HBoxModel",
      "state": {
       "children": [
        "IPY_MODEL_dfb785a2ed6c4b08a6b24abe795be1d7",
        "IPY_MODEL_1030ace607c644eab8ad6c89e01e806a"
       ],
       "layout": "IPY_MODEL_2fe946ac58424e349991dc12ed24594f"
      }
     },
     "ee7624ac6bd34c58aade25b812e22280": {
      "model_module": "@jupyter-widgets/controls",
      "model_module_version": "1.5.0",
      "model_name": "CheckboxModel",
      "state": {
       "description": "Disable Medicina",
       "disabled": false,
       "layout": "IPY_MODEL_0957bd784bd74811ae51d80ee8131b09",
       "style": "IPY_MODEL_5938e9e8f231409999b4fb29c3db8ddf",
       "value": false
      }
     },
     "eed7404f2b60498d82342e0f40a0f0eb": {
      "model_module": "@jupyter-widgets/controls",
      "model_module_version": "1.5.0",
      "model_name": "FloatSliderModel",
      "state": {
       "description": "0°",
       "layout": "IPY_MODEL_d050a61e357e4a51a7f19b1a3128c800",
       "max": 1,
       "min": -1,
       "step": 0.01,
       "style": "IPY_MODEL_6f4563e360de4b4e8be2fc7288bd418a"
      }
     },
     "eef8c320a6d244a0b90cb3c38550c3ad": {
      "model_module": "jupyter-matplotlib",
      "model_module_version": "^0.7.2",
      "model_name": "ToolbarModel",
      "state": {
       "layout": "IPY_MODEL_06f5c7d8070a480a84a642a32a084915",
       "toolitems": [
        [
         "Home",
         "Reset original view",
         "home",
         "home"
        ],
        [
         "Back",
         "Back to previous view",
         "arrow-left",
         "back"
        ],
        [
         "Forward",
         "Forward to next view",
         "arrow-right",
         "forward"
        ],
        [
         "Pan",
         "Pan axes with left mouse, zoom with right",
         "arrows",
         "pan"
        ],
        [
         "Zoom",
         "Zoom to rectangle",
         "square-o",
         "zoom"
        ],
        [
         "Download",
         "Download plot",
         "floppy-o",
         "save_figure"
        ]
       ]
      }
     },
     "ef0e0dac62b74a41a888a33cae4a58ec": {
      "model_module": "@jupyter-widgets/base",
      "model_module_version": "1.2.0",
      "model_name": "LayoutModel",
      "state": {}
     },
     "ef20a2fe55304d8e8c07b79f03f76888": {
      "model_module": "jupyter-matplotlib",
      "model_module_version": "^0.7.2",
      "model_name": "ToolbarModel",
      "state": {
       "layout": "IPY_MODEL_507c5b1442b048d1a88f3f85ca23e549",
       "toolitems": [
        [
         "Home",
         "Reset original view",
         "home",
         "home"
        ],
        [
         "Back",
         "Back to previous view",
         "arrow-left",
         "back"
        ],
        [
         "Forward",
         "Forward to next view",
         "arrow-right",
         "forward"
        ],
        [
         "Pan",
         "Pan axes with left mouse, zoom with right",
         "arrows",
         "pan"
        ],
        [
         "Zoom",
         "Zoom to rectangle",
         "square-o",
         "zoom"
        ],
        [
         "Download",
         "Download plot",
         "floppy-o",
         "save_figure"
        ]
       ]
      }
     },
     "ef3c4b502eb746d3ad16ec3882a27690": {
      "model_module": "@jupyter-widgets/controls",
      "model_module_version": "1.5.0",
      "model_name": "SliderStyleModel",
      "state": {
       "description_width": ""
      }
     },
     "ef64203d583d490792ac7a9c928ab7b0": {
      "model_module": "jupyter-matplotlib",
      "model_module_version": "^0.7.2",
      "model_name": "MPLCanvasModel",
      "state": {
       "_figure_label": "Figure 6",
       "_height": 518,
       "_width": 1100,
       "header_visible": false,
       "layout": "IPY_MODEL_d6e0aaa0d9974fb98583d9c4a2828220",
       "resizable": false,
       "toolbar": "IPY_MODEL_279f5df35cae4789ada2b176b8d94d9b",
       "toolbar_position": "left",
       "toolbar_visible": false
      }
     },
     "ef7de8998e88470e8bdadd91db475d8b": {
      "model_module": "@jupyter-widgets/base",
      "model_module_version": "1.2.0",
      "model_name": "LayoutModel",
      "state": {}
     },
     "efae0e4576434d53b401889ebbb41b5f": {
      "model_module": "@jupyter-widgets/controls",
      "model_module_version": "1.5.0",
      "model_name": "CheckboxModel",
      "state": {
       "description": "Disable Medicina",
       "disabled": false,
       "layout": "IPY_MODEL_d084e25908154a5b801acdb0234636f8",
       "style": "IPY_MODEL_3be0b78117aa4d49967a646b252138eb",
       "value": false
      }
     },
     "f00356e09aa84d09b82f51636d160d9d": {
      "model_module": "@jupyter-widgets/base",
      "model_module_version": "1.2.0",
      "model_name": "LayoutModel",
      "state": {}
     },
     "f005d6923c0f46c585b98e53ca8e85fa": {
      "model_module": "@jupyter-widgets/controls",
      "model_module_version": "1.5.0",
      "model_name": "TabModel",
      "state": {
       "_titles": {
        "0": "Global Controls",
        "1": "Protected Area Controls",
        "2": "Saturation Controls",
        "3": "Hue Controls"
       },
       "children": [
        "IPY_MODEL_14d56594e6f144b3a1da023219767a9c",
        "IPY_MODEL_6808c7c93ca9415388bbe3556bbbb060",
        "IPY_MODEL_f5b7cab4c4bb45b8ad3b0aadc90b0a23",
        "IPY_MODEL_3138de2de330449e9ee075be2a80520c"
       ],
       "layout": "IPY_MODEL_d8f102562e7d4361bffdc789c53a141e"
      }
     },
     "f022345a7c3f46b0b4d5532e3ea4b239": {
      "model_module": "@jupyter-widgets/base",
      "model_module_version": "1.2.0",
      "model_name": "LayoutModel",
      "state": {}
     },
     "f02a775d5a8440f48e567e278aa34c6f": {
      "model_module": "@jupyter-widgets/controls",
      "model_module_version": "1.5.0",
      "model_name": "ButtonModel",
      "state": {
       "description": "Save Figure",
       "layout": "IPY_MODEL_280d7947cbc34f659fd5de0737b9caa9",
       "style": "IPY_MODEL_24a6a33504dc47dd8c37bdaa74ec5a8f"
      }
     },
     "f051c350ff93442bab2a8bdcd61918fd": {
      "model_module": "@jupyter-widgets/base",
      "model_module_version": "1.2.0",
      "model_name": "LayoutModel",
      "state": {}
     },
     "f07bf26041504df883601b78d4371594": {
      "model_module": "@jupyter-widgets/controls",
      "model_module_version": "1.5.0",
      "model_name": "TabModel",
      "state": {
       "_titles": {
        "0": "Global Controls",
        "1": "Compression Controls"
       },
       "children": [
        "IPY_MODEL_d4143575b994425980b62e20068cf729",
        "IPY_MODEL_864ce8c5ce6b413fbecf189098408d3f"
       ],
       "layout": "IPY_MODEL_36ee5ac63d2e45309dbf4169ab40aa3d"
      }
     },
     "f0873e6ac83845aca0476157329b4e55": {
      "model_module": "@jupyter-widgets/controls",
      "model_module_version": "1.5.0",
      "model_name": "FloatSliderModel",
      "state": {
       "description": "Protected Area Threshold",
       "layout": "IPY_MODEL_0e143a5c4e444d369e7164d3d7059bba",
       "max": 1,
       "step": 0.01,
       "style": "IPY_MODEL_47246da3c2644689b77063ab9caf6567",
       "value": 0.7
      }
     },
     "f0a6d32df7c74c519cec98245986f2d9": {
      "model_module": "@jupyter-widgets/controls",
      "model_module_version": "1.5.0",
      "model_name": "ButtonModel",
      "state": {
       "description": "Save Figure",
       "layout": "IPY_MODEL_3ce5168ae5604169af2cd27b359135ae",
       "style": "IPY_MODEL_b0bf2c95639e437aaec7a221c6940db6"
      }
     },
     "f11feea58aeb42d88166ef277a0e9283": {
      "model_module": "jupyter-matplotlib",
      "model_module_version": "^0.7.2",
      "model_name": "ToolbarModel",
      "state": {
       "layout": "IPY_MODEL_cb05d1beea144d58a0bd22ed55be3974",
       "toolitems": [
        [
         "Home",
         "Reset original view",
         "home",
         "home"
        ],
        [
         "Back",
         "Back to previous view",
         "arrow-left",
         "back"
        ],
        [
         "Forward",
         "Forward to next view",
         "arrow-right",
         "forward"
        ],
        [
         "Pan",
         "Pan axes with left mouse, zoom with right",
         "arrows",
         "pan"
        ],
        [
         "Zoom",
         "Zoom to rectangle",
         "square-o",
         "zoom"
        ],
        [
         "Download",
         "Download plot",
         "floppy-o",
         "save_figure"
        ]
       ]
      }
     },
     "f1d94205c604415083751e48fc4e138c": {
      "model_module": "jupyter-matplotlib",
      "model_module_version": "^0.7.2",
      "model_name": "ToolbarModel",
      "state": {
       "layout": "IPY_MODEL_79dedd75e94240c6a80b93b6d2d3c05d",
       "toolitems": [
        [
         "Home",
         "Reset original view",
         "home",
         "home"
        ],
        [
         "Back",
         "Back to previous view",
         "arrow-left",
         "back"
        ],
        [
         "Forward",
         "Forward to next view",
         "arrow-right",
         "forward"
        ],
        [
         "Pan",
         "Pan axes with left mouse, zoom with right",
         "arrows",
         "pan"
        ],
        [
         "Zoom",
         "Zoom to rectangle",
         "square-o",
         "zoom"
        ],
        [
         "Download",
         "Download plot",
         "floppy-o",
         "save_figure"
        ]
       ]
      }
     },
     "f1ee9a79741d4834acb7998b0bdfa9fb": {
      "model_module": "@jupyter-widgets/base",
      "model_module_version": "1.2.0",
      "model_name": "LayoutModel",
      "state": {}
     },
     "f20eacda345644d9b4eeab7f1d47e548": {
      "model_module": "@jupyter-widgets/controls",
      "model_module_version": "1.5.0",
      "model_name": "FloatSliderModel",
      "state": {
       "description": "Protected Area Threshold",
       "layout": "IPY_MODEL_f051c350ff93442bab2a8bdcd61918fd",
       "max": 1,
       "step": 0.01,
       "style": "IPY_MODEL_0cb6134ec4c34914adbd4f640ab18e3a",
       "value": 0.7
      }
     },
     "f2196ceb4e4a4c0f845d1a6ef6095d5e": {
      "model_module": "@jupyter-widgets/base",
      "model_module_version": "1.2.0",
      "model_name": "LayoutModel",
      "state": {}
     },
     "f2228debb7f4403fb5a61dfe7da0a843": {
      "model_module": "jupyter-matplotlib",
      "model_module_version": "^0.7.2",
      "model_name": "ToolbarModel",
      "state": {
       "layout": "IPY_MODEL_08c602b8a1e24da1b7edc7c9d6ac49be",
       "toolitems": [
        [
         "Home",
         "Reset original view",
         "home",
         "home"
        ],
        [
         "Back",
         "Back to previous view",
         "arrow-left",
         "back"
        ],
        [
         "Forward",
         "Forward to next view",
         "arrow-right",
         "forward"
        ],
        [
         "Pan",
         "Pan axes with left mouse, zoom with right",
         "arrows",
         "pan"
        ],
        [
         "Zoom",
         "Zoom to rectangle",
         "square-o",
         "zoom"
        ],
        [
         "Download",
         "Download plot",
         "floppy-o",
         "save_figure"
        ]
       ]
      }
     },
     "f27c8f6394b84eb7a98856018cbf2a07": {
      "model_module": "@jupyter-widgets/controls",
      "model_module_version": "1.5.0",
      "model_name": "FloatSliderModel",
      "state": {
       "description": "180°",
       "layout": "IPY_MODEL_3cb60337a9684262a4973602d8cb93de",
       "max": 1,
       "min": -1,
       "step": 0.01,
       "style": "IPY_MODEL_854ea057888d4b2f8141edf0e9d1e453"
      }
     },
     "f2a143207f6f44a390d759cfc2d234c8": {
      "model_module": "@jupyter-widgets/base",
      "model_module_version": "1.2.0",
      "model_name": "LayoutModel",
      "state": {}
     },
     "f3550bd32c0841e281f5ced42b48517b": {
      "model_module": "@jupyter-widgets/base",
      "model_module_version": "1.2.0",
      "model_name": "LayoutModel",
      "state": {}
     },
     "f38c7b9ca66a42d3827e466e0b69810f": {
      "model_module": "@jupyter-widgets/base",
      "model_module_version": "1.2.0",
      "model_name": "LayoutModel",
      "state": {}
     },
     "f4246f4c7274439ea3dad0d66064fe51": {
      "model_module": "@jupyter-widgets/controls",
      "model_module_version": "1.5.0",
      "model_name": "BoxModel",
      "state": {
       "children": [
        "IPY_MODEL_1bfe1a4dd8c5436a8488c9be7721c373",
        "IPY_MODEL_d133657dbe654bf4996fe7d8274e65f0"
       ],
       "layout": "IPY_MODEL_a7bfd668250546458ae53fa9794a55be"
      }
     },
     "f4cc39a11dbc40d99b619b1501088cd4": {
      "model_module": "@jupyter-widgets/output",
      "model_module_version": "1.0.0",
      "model_name": "OutputModel",
      "state": {
       "layout": "IPY_MODEL_307d095f03d54b9c95bbd8fbfa773671",
       "outputs": [
        {
         "data": {
          "application/vnd.jupyter.widget-view+json": {
           "model_id": "3dc117669d714f8fb4a8951c8b2a27d1",
           "version_major": 2,
           "version_minor": 0
          },
          "text/plain": "Canvas(toolbar=Toolbar(toolitems=[('Home', 'Reset original view', 'home', 'home'), ('Back', 'Back to previous …"
         },
         "metadata": {},
         "output_type": "display_data"
        }
       ]
      }
     },
     "f4f846551ff447d0baa7d15b57809b65": {
      "model_module": "@jupyter-widgets/controls",
      "model_module_version": "1.5.0",
      "model_name": "CheckboxModel",
      "state": {
       "description": "Disable Medicina",
       "disabled": false,
       "layout": "IPY_MODEL_a1de4affa7ba4cff9ff8478a2b982092",
       "style": "IPY_MODEL_d6d9bd07571145cca77545a6a4e77fa7",
       "value": false
      }
     },
     "f54421a8f4694673a1a209552a1b37ed": {
      "model_module": "@jupyter-widgets/controls",
      "model_module_version": "1.5.0",
      "model_name": "CheckboxModel",
      "state": {
       "description": "Disable Medicina",
       "disabled": false,
       "layout": "IPY_MODEL_c99fbeea68464337b541d973d57deb0e",
       "style": "IPY_MODEL_960ff799ad08453b86a6dd0bebefa369",
       "value": false
      }
     },
     "f55d54803cc245a7a286c1c99fec2cac": {
      "model_module": "@jupyter-widgets/base",
      "model_module_version": "1.2.0",
      "model_name": "LayoutModel",
      "state": {}
     },
     "f568b5fada9d4d10a731fffb92d6af86": {
      "model_module": "@jupyter-widgets/base",
      "model_module_version": "1.2.0",
      "model_name": "LayoutModel",
      "state": {}
     },
     "f5835d38a8704b3198283b012a49c9fc": {
      "model_module": "jupyter-matplotlib",
      "model_module_version": "^0.7.2",
      "model_name": "MPLCanvasModel",
      "state": {
       "_figure_label": "Figure 7",
       "_height": 465,
       "_width": 1099,
       "header_visible": false,
       "layout": "IPY_MODEL_67e37669bcc84a5db043dcc6b3e0cb87",
       "resizable": false,
       "toolbar": "IPY_MODEL_17c1000ec8174407b0baf5f625d30952",
       "toolbar_position": "left",
       "toolbar_visible": false
      }
     },
     "f59ceda69c8b4995bcdefcfae6b12f07": {
      "model_module": "@jupyter-widgets/controls",
      "model_module_version": "1.5.0",
      "model_name": "ButtonStyleModel",
      "state": {}
     },
     "f59f4cf20bc04aaeac059a401ab2cc12": {
      "model_module": "@jupyter-widgets/controls",
      "model_module_version": "1.5.0",
      "model_name": "DescriptionStyleModel",
      "state": {
       "description_width": ""
      }
     },
     "f5b7cab4c4bb45b8ad3b0aadc90b0a23": {
      "model_module": "@jupyter-widgets/controls",
      "model_module_version": "1.5.0",
      "model_name": "HBoxModel",
      "state": {
       "children": [
        "IPY_MODEL_e14ecd52d4e1470f9befe76a6145f60d",
        "IPY_MODEL_3939e159522545e9a63d1f6ecb4c8868"
       ],
       "layout": "IPY_MODEL_6a325397bb5e41f88152f54834560e8b"
      }
     },
     "f5d3303cdcc04d04b00a982e7654ab56": {
      "model_module": "@jupyter-widgets/base",
      "model_module_version": "1.2.0",
      "model_name": "LayoutModel",
      "state": {}
     },
     "f5e4bef9fc924c3fa184fe900f9ff1c1": {
      "model_module": "@jupyter-widgets/base",
      "model_module_version": "1.2.0",
      "model_name": "LayoutModel",
      "state": {}
     },
     "f5f74dd836174ec983dcb10451dc3827": {
      "model_module": "@jupyter-widgets/output",
      "model_module_version": "1.0.0",
      "model_name": "OutputModel",
      "state": {
       "layout": "IPY_MODEL_7c3ec45a2a674bd684a462f288457996",
       "outputs": [
        {
         "data": {
          "application/vnd.jupyter.widget-view+json": {
           "model_id": "45c37090d8574c63839e75198142d5b5",
           "version_major": 2,
           "version_minor": 0
          },
          "text/plain": "Canvas(toolbar=Toolbar(toolitems=[('Home', 'Reset original view', 'home', 'home'), ('Back', 'Back to previous …"
         },
         "metadata": {},
         "output_type": "display_data"
        }
       ]
      }
     },
     "f6a51e4443bc4e04a900e380584d03e4": {
      "model_module": "@jupyter-widgets/controls",
      "model_module_version": "1.5.0",
      "model_name": "SliderStyleModel",
      "state": {
       "description_width": ""
      }
     },
     "f6c6d4566de240959f57e6a9c74eb6b9": {
      "model_module": "@jupyter-widgets/base",
      "model_module_version": "1.2.0",
      "model_name": "LayoutModel",
      "state": {}
     },
     "f6e03ec4517146c19827499bc1253781": {
      "model_module": "@jupyter-widgets/controls",
      "model_module_version": "1.5.0",
      "model_name": "SliderStyleModel",
      "state": {
       "description_width": ""
      }
     },
     "f718ac35b8774268999d6f60af81efd9": {
      "model_module": "@jupyter-widgets/controls",
      "model_module_version": "1.5.0",
      "model_name": "FloatSliderModel",
      "state": {
       "description": "135°",
       "layout": "IPY_MODEL_c1ae7460fecb4ea5829c58a1d5d0cad9",
       "max": 1,
       "min": -1,
       "step": 0.01,
       "style": "IPY_MODEL_537c1b570cb0446f90d51b65c5c7ddc6"
      }
     },
     "f79eab40e91a4826805bd6543444fe03": {
      "model_module": "@jupyter-widgets/controls",
      "model_module_version": "1.5.0",
      "model_name": "ButtonModel",
      "state": {
       "description": "Reset Saturation Controls",
       "layout": "IPY_MODEL_838f14bc4f8e4c9ebc30ab341bc1e9dd",
       "style": "IPY_MODEL_5285a28633244900a3ee492062b3ec21"
      }
     },
     "f7a7409a96a34cc6b9801e55c4bfae63": {
      "model_module": "jupyter-matplotlib",
      "model_module_version": "^0.7.2",
      "model_name": "ToolbarModel",
      "state": {
       "layout": "IPY_MODEL_b6e67a4679aa43dea7efb7d48d45af79",
       "toolitems": [
        [
         "Home",
         "Reset original view",
         "home",
         "home"
        ],
        [
         "Back",
         "Back to previous view",
         "arrow-left",
         "back"
        ],
        [
         "Forward",
         "Forward to next view",
         "arrow-right",
         "forward"
        ],
        [
         "Pan",
         "Pan axes with left mouse, zoom with right",
         "arrows",
         "pan"
        ],
        [
         "Zoom",
         "Zoom to rectangle",
         "square-o",
         "zoom"
        ],
        [
         "Download",
         "Download plot",
         "floppy-o",
         "save_figure"
        ]
       ]
      }
     },
     "f7f8242ad92f4375ad6c4e88472b4a94": {
      "model_module": "@jupyter-widgets/controls",
      "model_module_version": "1.5.0",
      "model_name": "ButtonStyleModel",
      "state": {}
     },
     "f807464275ca4af4a9a2d97b76946c31": {
      "model_module": "@jupyter-widgets/base",
      "model_module_version": "1.2.0",
      "model_name": "LayoutModel",
      "state": {}
     },
     "f8b618ef83b7476eae1bafb9f0edf58a": {
      "model_module": "@jupyter-widgets/controls",
      "model_module_version": "1.5.0",
      "model_name": "VBoxModel",
      "state": {
       "children": [
        "IPY_MODEL_20cd3e413d584229ac1a017103c0de18"
       ],
       "layout": "IPY_MODEL_884965a6f014448d9f19e8f399a933f4"
      }
     },
     "f946c33cb4314c838049b23063035860": {
      "model_module": "@jupyter-widgets/controls",
      "model_module_version": "1.5.0",
      "model_name": "ButtonModel",
      "state": {
       "description": "Export Image",
       "layout": "IPY_MODEL_143d5258ffff4968b6b23b4d34e5d384",
       "style": "IPY_MODEL_2d486483aeae42a6a51e6dfb3aa180c8"
      }
     },
     "f98097a87d524fa2a3d4850dafc84886": {
      "model_module": "@jupyter-widgets/controls",
      "model_module_version": "1.5.0",
      "model_name": "SliderStyleModel",
      "state": {
       "description_width": ""
      }
     },
     "f980b930ca5b4f5689b534f2fe91e3f5": {
      "model_module": "@jupyter-widgets/base",
      "model_module_version": "1.2.0",
      "model_name": "LayoutModel",
      "state": {}
     },
     "f9e19652516f408f9de7f8e8356e033e": {
      "model_module": "@jupyter-widgets/controls",
      "model_module_version": "1.5.0",
      "model_name": "CheckboxModel",
      "state": {
       "description": "Disable Medicina",
       "disabled": false,
       "layout": "IPY_MODEL_dc51720a895d495f8665d9e48274b64d",
       "style": "IPY_MODEL_7beff188729e4474a4d666880b3fa4d4",
       "value": false
      }
     },
     "f9fe9e63fdc948dd9622461727302244": {
      "model_module": "@jupyter-widgets/base",
      "model_module_version": "1.2.0",
      "model_name": "LayoutModel",
      "state": {}
     },
     "fa04209ac46c4b1787d3975e998f711e": {
      "model_module": "@jupyter-widgets/base",
      "model_module_version": "1.2.0",
      "model_name": "LayoutModel",
      "state": {}
     },
     "fa9e948f633742699f31f432e59a2b27": {
      "model_module": "@jupyter-widgets/controls",
      "model_module_version": "1.5.0",
      "model_name": "FloatSliderModel",
      "state": {
       "description": "90°",
       "layout": "IPY_MODEL_1752b1bd630345ccbb4f27b2c36567dc",
       "max": 1,
       "min": -1,
       "step": 0.01,
       "style": "IPY_MODEL_a2bc3cc9f2b7401cb0182ad2f167aac3"
      }
     },
     "fad7fb06875e4a068e02caaa67f33a9b": {
      "model_module": "@jupyter-widgets/controls",
      "model_module_version": "1.5.0",
      "model_name": "HBoxModel",
      "state": {
       "children": [
        "IPY_MODEL_d3da99cc87044eae9af8007c5c2d4ab8",
        "IPY_MODEL_71f7bf17443546cc8cea6613fdcb82dc"
       ],
       "layout": "IPY_MODEL_9713677c65e24dc5812208819a7885c1"
      }
     },
     "fb5627347313432bbe2c9313378a7973": {
      "model_module": "@jupyter-widgets/base",
      "model_module_version": "1.2.0",
      "model_name": "LayoutModel",
      "state": {
       "align_items": "stretch",
       "display": "flex",
       "flex_flow": "column",
       "width": "1128px"
      }
     },
     "fb8a4f44ca674f5fa721a5eb520ab571": {
      "model_module": "@jupyter-widgets/controls",
      "model_module_version": "1.5.0",
      "model_name": "HBoxModel",
      "state": {
       "children": [
        "IPY_MODEL_21dd33a44fb04836a2362414c86d5823",
        "IPY_MODEL_e9cdf93a5b9d40e8822ec5c4b9358bbb",
        "IPY_MODEL_e628ef0a59364b09b0cc94553b7d9199"
       ],
       "layout": "IPY_MODEL_80e5d7d1f195476598cf378f8db5ad41"
      }
     },
     "fbb6e0f6500847a487243ed7d0fa2e14": {
      "model_module": "@jupyter-widgets/base",
      "model_module_version": "1.2.0",
      "model_name": "LayoutModel",
      "state": {}
     },
     "fbd745e0d7474b6e825aef37e4459b41": {
      "model_module": "@jupyter-widgets/base",
      "model_module_version": "1.2.0",
      "model_name": "LayoutModel",
      "state": {}
     },
     "fc53b63e4c4f4657a6fec8704621746c": {
      "model_module": "@jupyter-widgets/base",
      "model_module_version": "1.2.0",
      "model_name": "LayoutModel",
      "state": {}
     },
     "fc5fae9eb42444aea95322c4a3122bfd": {
      "model_module": "@jupyter-widgets/controls",
      "model_module_version": "1.5.0",
      "model_name": "FloatSliderModel",
      "state": {
       "description": "315°",
       "layout": "IPY_MODEL_4c963b6dbaf640db9b9232606cc1c84a",
       "max": 1,
       "min": -1,
       "step": 0.01,
       "style": "IPY_MODEL_0d1f27ea0c5641b6922e24657616038a"
      }
     },
     "fc962fecb23144fdaea3ccc56e5c046e": {
      "model_module": "@jupyter-widgets/base",
      "model_module_version": "1.2.0",
      "model_name": "LayoutModel",
      "state": {
       "border": "solid 4px #222",
       "margin": "4px",
       "padding": "0"
      }
     },
     "fcca9cc90f304a9793020e5486614672": {
      "model_module": "@jupyter-widgets/base",
      "model_module_version": "1.2.0",
      "model_name": "LayoutModel",
      "state": {}
     },
     "fd5350d20e314324a7cf5ba8626414ec": {
      "model_module": "@jupyter-widgets/controls",
      "model_module_version": "1.5.0",
      "model_name": "BoxModel",
      "state": {
       "children": [
        "IPY_MODEL_dabb57be3b19438aaac5895589a439f9",
        "IPY_MODEL_abbac045927944828a32043ecc76376d"
       ],
       "layout": "IPY_MODEL_0f7ee72208e246a887fc40663864ac79"
      }
     },
     "fdc67dd9488b4d4f822551556dd41955": {
      "model_module": "@jupyter-widgets/controls",
      "model_module_version": "1.5.0",
      "model_name": "HBoxModel",
      "state": {
       "children": [
        "IPY_MODEL_efae0e4576434d53b401889ebbb41b5f",
        "IPY_MODEL_8df86f64cba04e09a3e345e3e5e7db42",
        "IPY_MODEL_f02a775d5a8440f48e567e278aa34c6f"
       ],
       "layout": "IPY_MODEL_1075be34637c4ca38b61242711a33af1"
      }
     },
     "fe5641ec77fa434aa09e27e1821eb5cb": {
      "model_module": "@jupyter-widgets/base",
      "model_module_version": "1.2.0",
      "model_name": "LayoutModel",
      "state": {}
     },
     "fe7c62f90a804f2c94f651154496dea2": {
      "model_module": "@jupyter-widgets/controls",
      "model_module_version": "1.5.0",
      "model_name": "CheckboxModel",
      "state": {
       "description": "Disable Medicina",
       "disabled": false,
       "layout": "IPY_MODEL_41917fbc591740a2819aebd1a0030660",
       "style": "IPY_MODEL_de923762c39d421aa9958977a52bd77a",
       "value": false
      }
     },
     "ff1256d0af834c638ae3b4fb2235aa14": {
      "model_module": "@jupyter-widgets/base",
      "model_module_version": "1.2.0",
      "model_name": "LayoutModel",
      "state": {}
     },
     "ff3d2de214a741d1a015fa8b13742870": {
      "model_module": "@jupyter-widgets/base",
      "model_module_version": "1.2.0",
      "model_name": "LayoutModel",
      "state": {
       "align_items": "stretch",
       "display": "flex",
       "flex_flow": "column",
       "width": "1128px"
      }
     }
    },
    "version_major": 2,
    "version_minor": 0
   }
  }
 },
 "nbformat": 4,
 "nbformat_minor": 4
}
