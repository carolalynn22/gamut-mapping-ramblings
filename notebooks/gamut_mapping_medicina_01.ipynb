{
 "cells": [
  {
   "cell_type": "markdown",
   "metadata": {
    "colab_type": "text",
    "id": "pRS6nhpu1R6y"
   },
   "source": [
    "# Gamut Mapping - Medicina 01"
   ]
  },
  {
   "cell_type": "code",
   "execution_count": 1,
   "metadata": {},
   "outputs": [],
   "source": [
    "%matplotlib widget"
   ]
  },
  {
   "cell_type": "code",
   "execution_count": 2,
   "metadata": {
    "colab": {
     "base_uri": "https://localhost:8080/",
     "height": 340
    },
    "colab_type": "code",
    "id": "OydMmtZRxd3c",
    "outputId": "297a43b9-f566-405d-e8bc-cfae56b50959"
   },
   "outputs": [
    {
     "name": "stdout",
     "output_type": "stream",
     "text": [
      "===============================================================================\n",
      "*                                                                             *\n",
      "*   Interpreter :                                                             *\n",
      "*       python : 3.7.6 (default, Dec 30 2019, 19:38:26)                       *\n",
      "*                [Clang 11.0.0 (clang-1100.0.33.16)]                          *\n",
      "*                                                                             *\n",
      "*   colour-science.org :                                                      *\n",
      "*       colour : v0.3.15-126-gd9ef0a5a                                        *\n",
      "*                                                                             *\n",
      "*   Runtime :                                                                 *\n",
      "*       imageio : 2.8.0                                                       *\n",
      "*       matplotlib : 3.0.3                                                    *\n",
      "*       numpy : 1.18.4                                                        *\n",
      "*       scipy : 1.4.1                                                         *\n",
      "*       six : 1.14.0                                                          *\n",
      "*                                                                             *\n",
      "===============================================================================\n"
     ]
    }
   ],
   "source": [
    "from __future__ import division, unicode_literals\n",
    "\n",
    "import colour\n",
    "import ipympl.backend_nbagg\n",
    "import ipywidgets\n",
    "import matplotlib.gridspec as gridspec\n",
    "import matplotlib.pyplot as plt\n",
    "import numpy as np\n",
    "import os\n",
    "import scipy.interpolate\n",
    "from matplotlib.collections import PathCollection\n",
    "from matplotlib._layoutbox import plot_children\n",
    "\n",
    "colour.plotting.colour_style()\n",
    "\n",
    "plt.style.use('dark_background')\n",
    "\n",
    "colour.utilities.describe_environment();\n",
    "\n",
    "colour.utilities.filter_warnings(*[True] * 4)"
   ]
  },
  {
   "cell_type": "markdown",
   "metadata": {
    "colab_type": "text",
    "id": "5yCeFpnnp_wh"
   },
   "source": [
    "## Colour Wheel Generation"
   ]
  },
  {
   "cell_type": "code",
   "execution_count": 3,
   "metadata": {
    "colab": {},
    "colab_type": "code",
    "id": "RshonIbOI4Ij"
   },
   "outputs": [],
   "source": [
    "def colour_wheel(samples=1024, clip_circle=True, method='Colour'):\n",
    "    xx, yy = np.meshgrid(\n",
    "        np.linspace(-1, 1, samples), np.linspace(-1, 1, samples))\n",
    "\n",
    "    S = np.sqrt(xx ** 2 + yy ** 2)    \n",
    "    H = (np.arctan2(xx, yy) + np.pi) / (np.pi * 2)\n",
    "\n",
    "    HSV = colour.utilities.tstack([H, S, np.ones(H.shape)])\n",
    "    RGB = colour.HSV_to_RGB(HSV)\n",
    "\n",
    "    if clip_circle == True:\n",
    "        RGB[S > 1] = 0\n",
    "        A = np.where(S > 1, 0, 1)\n",
    "    else:\n",
    "        A = np.ones(S.shape)\n",
    "\n",
    "    if method.lower()== 'matplotlib':\n",
    "        RGB = colour.utilities.orient(RGB, '90 CW')\n",
    "    elif method.lower()== 'nuke':\n",
    "        RGB = colour.utilities.orient(RGB, 'Flip')\n",
    "        RGB = colour.utilities.orient(RGB, '90 CW')\n",
    "\n",
    "    R, G, B = colour.utilities.tsplit(RGB)\n",
    "    \n",
    "    return colour.utilities.tstack([R, G, B, A])"
   ]
  },
  {
   "cell_type": "markdown",
   "metadata": {},
   "source": [
    "## Utility Functions & Objects"
   ]
  },
  {
   "cell_type": "code",
   "execution_count": 4,
   "metadata": {},
   "outputs": [],
   "source": [
    "DEFAULT_BOX_DECORATION_WIDTH = 4\n",
    "MPL_BOX_DECORATION_WIDTH = 28\n",
    "\n",
    "\n",
    "def batch(sequence, count):\n",
    "    for i in range(0, len(sequence), count):\n",
    "        yield sequence[i:i + count]\n",
    "        \n",
    "\n",
    "def border_layout():\n",
    "    return ipywidgets.widgets.Layout(\n",
    "        border='solid {0}px #222'.format(4),\n",
    "        margin='{0}px'.format(DEFAULT_BOX_DECORATION_WIDTH),\n",
    "        padding='0')"
   ]
  },
  {
   "cell_type": "markdown",
   "metadata": {},
   "source": [
    "## Gamut Medicina Base"
   ]
  },
  {
   "cell_type": "code",
   "execution_count": 5,
   "metadata": {},
   "outputs": [
    {
     "data": {
      "application/vnd.jupyter.widget-view+json": {
       "model_id": "2495dd4fbfd346e7a4a208990592c8c9",
       "version_major": 2,
       "version_minor": 0
      },
      "text/plain": [
       "GamutMedicinaBaseWidget(children=(Output(layout=Layout(border='solid 4px #222', margin='4px', padding='0')), T…"
      ]
     },
     "metadata": {},
     "output_type": "display_data"
    }
   ],
   "source": [
    "class GamutMedicinaBaseWidget(ipywidgets.widgets.Box):\n",
    "    def __init__(self,\n",
    "                 reference_image_path=None,\n",
    "                 working_space=colour.models.ACES_CG_COLOURSPACE,\n",
    "                 reference_space=colour.models.ACES_2065_1_COLOURSPACE,\n",
    "                 display_space=colour.models.sRGB_COLOURSPACE,\n",
    "                 colour_wheel_samples=256,\n",
    "                 image_decimation=20,\n",
    "                 figure_size=(11, None),\n",
    "                 padding=0.005,\n",
    "                 spacing=0.005,\n",
    "                 show_labels=False,\n",
    "                 enable_colour_wheel=True,\n",
    "                 enable_chromaticity_diagram=True,\n",
    "                 debug_layout=False):\n",
    "        super().__init__()\n",
    "\n",
    "        self._reference_image_path = reference_image_path\n",
    "        self._working_space = working_space\n",
    "        self._reference_space = reference_space\n",
    "        self._display_space = display_space\n",
    "        self._colour_wheel_samples = colour_wheel_samples\n",
    "        self._image_decimation = image_decimation\n",
    "        self._figure_size = figure_size\n",
    "        self._padding = padding\n",
    "        self._spacing = spacing\n",
    "        self._show_labels = show_labels\n",
    "        self._enable_colour_wheel = enable_colour_wheel\n",
    "        self._enable_chromaticity_diagram = enable_chromaticity_diagram\n",
    "\n",
    "        self._enable = True\n",
    "\n",
    "        self._reference_image = None\n",
    "        self._reference_image_working = None\n",
    "        self._reference_image_mapped = None\n",
    "        self._reference_image_display = None\n",
    "\n",
    "        if self._enable_colour_wheel:\n",
    "            self._colour_wheel = None\n",
    "\n",
    "        if self._enable_chromaticity_diagram:\n",
    "            self._decimated_image_working = None\n",
    "            self._decimated_image_display = None\n",
    "\n",
    "        self._colour_checker = None\n",
    "        self._colour_checker_uv = None\n",
    "\n",
    "        self._output = None\n",
    "        self._figure = None\n",
    "        self._grid_spec = None\n",
    "        self._reference_image_axes = None\n",
    "        self._reference_image_imshow = None\n",
    "\n",
    "        if self._enable_colour_wheel:\n",
    "            self._colour_wheel_cartersian_axes = None\n",
    "            self._colour_wheel_imshow = None\n",
    "            self._colour_wheel_polar_axes = None\n",
    "\n",
    "        if self._enable_chromaticity_diagram:\n",
    "            self._chromaticity_diagram_axes = None\n",
    "            self._scatter_offsets_i = None\n",
    "            self._scatter_facecolor_i = None\n",
    "\n",
    "        self._disable_medidicina_CheckBox = None\n",
    "        self._global_controls_HBox = None\n",
    "        self._controls_Tab = None\n",
    "\n",
    "        self.initialize_data()\n",
    "        self.initialize_axes()\n",
    "        self.initialise_widgets()\n",
    "        self.attach_callbacks()\n",
    "\n",
    "        if debug_layout:\n",
    "            plot_children(self._figure, self._figure._layoutbox, printit=False)\n",
    "\n",
    "    def initialize_data(self):\n",
    "        # *** Reference Image ***\n",
    "        self._reference_image = (colour.read_image(self._reference_image_path)\n",
    "                                 if self._reference_image_path is not None else\n",
    "                                 np.random.rand(540, 960, 3))\n",
    "        self._reference_image_path = (self._reference_image_path\n",
    "                                      if self._reference_image_path is not None\n",
    "                                      else 'Random.exr')\n",
    "        self._reference_image_working = self.reference_space_to_working_space(\n",
    "            self._reference_image)\n",
    "\n",
    "        self._reference_image_mapped = self._reference_image\n",
    "        self._reference_image_display = self.working_space_to_display_space(\n",
    "            self._reference_image_working)\n",
    "\n",
    "        # *** Colour Wheel ***\n",
    "        if self._enable_colour_wheel:\n",
    "            self._colour_wheel = colour_wheel(\n",
    "                self._colour_wheel_samples,\n",
    "                clip_circle=True,\n",
    "                method='Matplotlib')\n",
    "\n",
    "        # *** Decimated Image, i.e. Scatter ***\n",
    "        if self._enable_chromaticity_diagram:\n",
    "            self._decimated_image_working = (\n",
    "                self._reference_image_working[::self._image_decimation, ::\n",
    "                                              self._image_decimation, :])\n",
    "            self._decimated_image_display = (\n",
    "                self.working_space_to_display_space(\n",
    "                    self._decimated_image_working))\n",
    "\n",
    "        # *** Colour Checker\n",
    "        colour_checker = colour.COLOURCHECKERS[\n",
    "            'ColorChecker24 - After November 2014']\n",
    "        colour_checker_data = colour.utilities.as_float_array(\n",
    "            list(colour_checker.data.values()))\n",
    "        self._colour_checker_uv = colour.xy_to_Luv_uv(\n",
    "            colour_checker_data[:, 0:2])\n",
    "\n",
    "    def initialize_axes(self):\n",
    "        self._output = ipywidgets.widgets.Output()\n",
    "\n",
    "        image_height, image_width, channels = self._reference_image.shape\n",
    "        if self._figure_size[-1] is None:\n",
    "            if self._enable_colour_wheel and self._enable_chromaticity_diagram:\n",
    "                width = image_height / 2 + image_width\n",
    "                height = image_height - self._padding * 100 - self._spacing * 100\n",
    "                # Unresolved fudge/nudge factor.\n",
    "                height -= 20\n",
    "            elif self._enable_colour_wheel or self._enable_chromaticity_diagram:\n",
    "                width = image_height + image_width\n",
    "                height = image_height\n",
    "            else:\n",
    "                width = image_width\n",
    "                height = image_height\n",
    "            ratio = self._figure_size[0] * 100 / width\n",
    "            figure_size = (width / 100 * ratio, height / 100 * ratio)\n",
    "        else:\n",
    "            figure_size = self._figure_size\n",
    "\n",
    "        with self._output:\n",
    "            self._figure = plt.figure(\n",
    "                figsize=figure_size,\n",
    "                constrained_layout=True,\n",
    "                facecolor=[2 / 3 / 10] * 3)\n",
    "            self._figure.canvas.toolbar_visible = False\n",
    "            self._figure.canvas.header_visible = False\n",
    "            self._figure.canvas.footer_visible = True\n",
    "            self._figure.canvas.resizable = False\n",
    "            self._figure.tight_layout()\n",
    "\n",
    "        if self._enable_colour_wheel and self._enable_chromaticity_diagram:\n",
    "            rows = columns = 2\n",
    "            colour_wheel_indices = 0, 0\n",
    "            chromaticity_diagram_indices = 1, 0\n",
    "            reference_image_indices = slice(0, None, None), slice(\n",
    "                1, None, None)\n",
    "            width_ratios = [1, 2 * image_width / image_height]\n",
    "        elif not self._enable_colour_wheel and not self._enable_chromaticity_diagram:\n",
    "            rows = columns = 1\n",
    "            colour_wheel_indices = chromaticity_diagram_indices = None\n",
    "            reference_image_indices = 0, 0\n",
    "            width_ratios = [1]\n",
    "        else:\n",
    "            rows = 1\n",
    "            columns = 2\n",
    "            colour_wheel_indices = chromaticity_diagram_indices = 0, 0\n",
    "            reference_image_indices = 0, 1\n",
    "            width_ratios = [1, image_width / image_height]\n",
    "\n",
    "        self._grid_spec = gridspec.GridSpec(\n",
    "            ncols=columns,\n",
    "            nrows=rows,\n",
    "            figure=self._figure,\n",
    "            width_ratios=width_ratios,\n",
    "            wspace=self._spacing,\n",
    "            hspace=self._spacing)\n",
    "        self._figure.set_constrained_layout_pads(\n",
    "            w_pad=self._padding,\n",
    "            h_pad=self._padding)\n",
    "\n",
    "        # Colour Wheel Axes\n",
    "        if self._enable_colour_wheel:\n",
    "            self._colour_wheel_cartersian_axes = self._figure.add_subplot(\n",
    "                self._grid_spec[colour_wheel_indices[0], colour_wheel_indices[\n",
    "                    1]],\n",
    "                label='Cartesian Axes')\n",
    "            self._colour_wheel_cartersian_axes.axis('off')\n",
    "            self._colour_wheel_imshow = self._colour_wheel_cartersian_axes.imshow(\n",
    "                np.clip(self._colour_wheel, 0, 1), extent=[0, 1, 0, 1])\n",
    "\n",
    "            self._colour_wheel_polar_axes = self._figure.add_subplot(\n",
    "                self._grid_spec[colour_wheel_indices[0], colour_wheel_indices[\n",
    "                    1]],\n",
    "                projection='polar',\n",
    "                label='Polar Axes')\n",
    "            self._colour_wheel_polar_axes.set_xlim(0, np.pi * 2)\n",
    "            self._colour_wheel_polar_axes.set_ylim(0, 1)\n",
    "            self._colour_wheel_polar_axes.patch.set_alpha(0)\n",
    "            self._colour_wheel_polar_axes.grid(alpha=0.15)\n",
    "            if not self._show_labels:\n",
    "                self._colour_wheel_polar_axes.set_xticklabels([])\n",
    "            self._colour_wheel_polar_axes.set_yticklabels([])\n",
    "\n",
    "        # Chromaticity Diagram Axes\n",
    "        if self._enable_chromaticity_diagram:\n",
    "            self._chromaticity_diagram_axes = self._figure.add_subplot(\n",
    "                self._grid_spec[chromaticity_diagram_indices[0],\n",
    "                                chromaticity_diagram_indices[1]])\n",
    "            self._chromaticity_diagram_axes.patch.set_alpha(0)\n",
    "            (colour.plotting.\n",
    "             plot_RGB_chromaticities_in_chromaticity_diagram_CIE1976UCS(\n",
    "                 self._decimated_image_working,\n",
    "                 colourspace=self._working_space,\n",
    "                 colourspaces=['sRGB'],\n",
    "                 axes=self._chromaticity_diagram_axes,\n",
    "                 standalone=False,\n",
    "                 transparent_background=False,\n",
    "                 spectral_locus_colours='RGB',\n",
    "                 spectral_locus_labels=[],\n",
    "                 diagram_opacity=0,\n",
    "                 scatter_kwargs={'s': 1},\n",
    "                 title=str(),\n",
    "                 x_label=str(),\n",
    "                 y_label=str(),\n",
    "                 legend=False))\n",
    "            self._chromaticity_diagram_axes.tick_params(\n",
    "                axis='y', which='both', direction='in')\n",
    "            self._chromaticity_diagram_axes.tick_params(\n",
    "                axis='x', which='both', direction='in')\n",
    "            self._chromaticity_diagram_axes.minorticks_off()\n",
    "            self._chromaticity_diagram_axes.grid(alpha=0.15)\n",
    "            for collection in self._chromaticity_diagram_axes.collections:\n",
    "                if isinstance(collection, PathCollection):\n",
    "                    self._scatter_path_collection = collection\n",
    "                    break\n",
    "            if not self._show_labels:\n",
    "                self._chromaticity_diagram_axes.set_xticklabels([])\n",
    "                self._chromaticity_diagram_axes.set_yticklabels([])\n",
    "\n",
    "            self._scatter_offsets_i = self._scatter_path_collection.get_offsets(\n",
    "            )\n",
    "            self._scatter_facecolor_i = self._scatter_path_collection.get_facecolor(\n",
    "            )\n",
    "            self._chromaticity_diagram_axes.scatter(\n",
    "                self._colour_checker_uv[:, 0],\n",
    "                self._colour_checker_uv[:, 1],\n",
    "                c='white',\n",
    "                marker='D',\n",
    "                s=5)\n",
    "\n",
    "        # Reference Image Axes\n",
    "        self._reference_image_axes = self._figure.add_subplot(self._grid_spec[\n",
    "            reference_image_indices[0], reference_image_indices[1]])\n",
    "        self._reference_image_axes.set_xticks([])\n",
    "        self._reference_image_axes.set_yticks([])\n",
    "        self._reference_image_imshow = self._reference_image_axes.imshow(\n",
    "            self.working_space_to_display_space(self._reference_image_working))\n",
    "\n",
    "    def initialise_widgets(self):\n",
    "        # *** Widgets ***\n",
    "        self._disable_medidicina_CheckBox = (\n",
    "            ipywidgets.widgets.Checkbox(description='Disable Medicina'))\n",
    "        self._export_reference_image_Button = (\n",
    "            ipywidgets.widgets.Button(description=\"Export Image\"))\n",
    "        self._save_figure_image_Button = (\n",
    "            ipywidgets.widgets.Button(description=\"Save Figure\"))\n",
    "\n",
    "        # *** Layout ***\n",
    "        self.layout.display = 'flex'\n",
    "        self.layout.flex_flow = 'column'\n",
    "        self.layout.align_items = 'stretch'\n",
    "        self.layout.width = '{0}px'.format(self._figure_size[0] * 100 +\n",
    "                                           MPL_BOX_DECORATION_WIDTH)\n",
    "\n",
    "        self._global_controls_HBox = ipywidgets.widgets.HBox([\n",
    "            self._disable_medidicina_CheckBox,\n",
    "            self._export_reference_image_Button,\n",
    "            self._save_figure_image_Button,\n",
    "        ])\n",
    "\n",
    "        self._controls_Tab = ipywidgets.widgets.Tab(children=[\n",
    "            self._global_controls_HBox,\n",
    "        ])\n",
    "        self._controls_Tab.set_title(0, 'Global Controls')\n",
    "\n",
    "        self._controls_Tab.layout = border_layout()\n",
    "\n",
    "        self._output.layout = border_layout()\n",
    "        self.children = [self._output, self._controls_Tab]\n",
    "\n",
    "    def attach_callbacks(self):\n",
    "        self._disable_medidicina_CheckBox.observe(self.toggle_medidicina)\n",
    "        self._export_reference_image_Button.on_click(\n",
    "            self.export_reference_image)\n",
    "        self._save_figure_image_Button.on_click(self.save_figure)\n",
    "\n",
    "    def reference_space_to_working_space(self, RGB):\n",
    "        return colour.RGB_to_RGB(RGB, self._reference_space,\n",
    "                                 self._working_space)\n",
    "\n",
    "    def working_space_to_reference_space(self, RGB):\n",
    "        return colour.RGB_to_RGB(RGB, self._working_space,\n",
    "                                 self._reference_space)\n",
    "\n",
    "    def working_space_to_display_space(self,\n",
    "                                       RGB,\n",
    "                                       apply_encoding_cctf=True,\n",
    "                                       clip=True):\n",
    "        RGB = colour.RGB_to_RGB(\n",
    "            RGB,\n",
    "            self._working_space,\n",
    "            self._display_space,\n",
    "            apply_encoding_cctf=apply_encoding_cctf)\n",
    "\n",
    "        if clip:\n",
    "            return np.clip(RGB, 0, 1)\n",
    "        else:\n",
    "            return RGB\n",
    "\n",
    "    def update_scatter_plot(self, RGB):\n",
    "        if self._enable:\n",
    "            RGB = RGB[RGB[:, 1].argsort()]\n",
    "            XYZ = colour.RGB_to_XYZ(RGB, self._working_space.whitepoint,\n",
    "                                    self._working_space.whitepoint,\n",
    "                                    self._working_space.RGB_to_XYZ_matrix)\n",
    "            uv = colour.Luv_to_uv(\n",
    "                colour.XYZ_to_Luv(XYZ, self._working_space.whitepoint),\n",
    "                self._working_space.whitepoint)\n",
    "            self._scatter_path_collection.set_offsets(uv)\n",
    "            self._scatter_path_collection.set_facecolor(\n",
    "                self.working_space_to_display_space(RGB))\n",
    "        else:\n",
    "            self._scatter_path_collection.set_offsets(self._scatter_offsets_i)\n",
    "            self._scatter_path_collection.set_facecolor(\n",
    "                self._scatter_facecolor_i)\n",
    "\n",
    "    def toggle_medidicina(self, change):\n",
    "        if not change:\n",
    "            return\n",
    "\n",
    "        if change['name'] == 'value':\n",
    "            self._enable = not change['new']\n",
    "\n",
    "            self.update_widget(None)\n",
    "\n",
    "    def export_reference_image(self, change):\n",
    "        path = os.path.splitext(self._reference_image_path)[0]\n",
    "\n",
    "        colour.write_image(\n",
    "            self.working_space_to_reference_space(\n",
    "                self._reference_image_mapped), '{0}_{1}.exr'.format(\n",
    "                    path, self.__class__.__name__))\n",
    "\n",
    "    def save_figure(self, change):\n",
    "        path = os.path.splitext(self._reference_image_path)[0]\n",
    "        plt.savefig('{0}_{1}.png'.format(path, self.__class__.__name__),\n",
    "                   facecolor=[2 / 3 / 10] * 3, transparent=False, bbox_inches='tight')\n",
    "\n",
    "    def update_widget(self, change):\n",
    "        if not self._enable:\n",
    "            if self._enable_chromaticity_diagram:\n",
    "                self.update_scatter_plot(None)\n",
    "\n",
    "            self._reference_image_imshow.set_data(\n",
    "                self._reference_image_display)\n",
    "\n",
    "            self._figure.canvas.draw_idle()\n",
    "\n",
    "\n",
    "GamutMedicinaBaseWidget()\n"
   ]
  },
  {
   "cell_type": "code",
   "execution_count": 6,
   "metadata": {},
   "outputs": [
    {
     "data": {
      "application/vnd.jupyter.widget-view+json": {
       "model_id": "bdfe715f96984e71a4f3362a876f0abb",
       "version_major": 2,
       "version_minor": 0
      },
      "text/plain": [
       "GamutMedicinaBaseWidget(children=(Output(layout=Layout(border='solid 4px #222', margin='4px', padding='0')), T…"
      ]
     },
     "metadata": {},
     "output_type": "display_data"
    }
   ],
   "source": [
    "GamutMedicinaBaseWidget(enable_colour_wheel=False)"
   ]
  },
  {
   "cell_type": "code",
   "execution_count": 7,
   "metadata": {},
   "outputs": [
    {
     "data": {
      "application/vnd.jupyter.widget-view+json": {
       "model_id": "b504bdabde1f467bb79f71e70d20c29e",
       "version_major": 2,
       "version_minor": 0
      },
      "text/plain": [
       "GamutMedicinaBaseWidget(children=(Output(layout=Layout(border='solid 4px #222', margin='4px', padding='0')), T…"
      ]
     },
     "metadata": {},
     "output_type": "display_data"
    }
   ],
   "source": [
    "GamutMedicinaBaseWidget(enable_chromaticity_diagram=False)"
   ]
  },
  {
   "cell_type": "code",
   "execution_count": 8,
   "metadata": {},
   "outputs": [
    {
     "data": {
      "application/vnd.jupyter.widget-view+json": {
       "model_id": "d91c49eec4fd4dd4ac4bee75301288f5",
       "version_major": 2,
       "version_minor": 0
      },
      "text/plain": [
       "GamutMedicinaBaseWidget(children=(Output(layout=Layout(border='solid 4px #222', margin='4px', padding='0')), T…"
      ]
     },
     "metadata": {},
     "output_type": "display_data"
    }
   ],
   "source": [
    "GamutMedicinaBaseWidget(\n",
    "    enable_colour_wheel=False, enable_chromaticity_diagram=False)"
   ]
  },
  {
   "cell_type": "markdown",
   "metadata": {},
   "source": [
    "## Compression & Blending Functions"
   ]
  },
  {
   "cell_type": "code",
   "execution_count": 9,
   "metadata": {},
   "outputs": [],
   "source": [
    "def tanh_compression_function(x, a=0.8, b=1 - 0.8):\n",
    "    x = colour.utilities.as_float_array(x)\n",
    "\n",
    "    return np.where(x > a, (a + b * np.tanh((x - a) / b)), x)\n",
    "\n",
    "\n",
    "def smoothstep(x, a=0, b=1):\n",
    "    i = np.clip((x - a) / (b - a), 0, 1)\n",
    "\n",
    "    return i**2 * (3 - 2 * i)\n"
   ]
  },
  {
   "cell_type": "markdown",
   "metadata": {},
   "source": [
    "## Mansencal and Scharfenberg (2020) - Gamut Medicina HSV Control"
   ]
  },
  {
   "cell_type": "markdown",
   "metadata": {},
   "source": [
    "https://community.acescentral.com/t/gamut-mapping-in-cylindrical-and-conic-spaces/2870/4"
   ]
  },
  {
   "cell_type": "code",
   "execution_count": 10,
   "metadata": {},
   "outputs": [
    {
     "data": {
      "application/vnd.jupyter.widget-view+json": {
       "model_id": "2a62c576e4494c49828bd1c8614da555",
       "version_major": 2,
       "version_minor": 0
      },
      "text/plain": [
       "GamutMedicinaHSVControlWidget(children=(Output(layout=Layout(border='solid 4px #222', margin='4px', padding='0…"
      ]
     },
     "metadata": {},
     "output_type": "display_data"
    }
   ],
   "source": [
    "class GamutMedicinaHSVControlWidget(GamutMedicinaBaseWidget):\n",
    "    def __init__(self,\n",
    "                 reference_image=None,\n",
    "                 hue_wedge=45,\n",
    "                 protected_area_threshold=0.7,\n",
    "                 compression_threshold=0.8,\n",
    "                 RGB_to_HSV=colour.RGB_to_HSV,\n",
    "                 HSV_to_RGB=colour.HSV_to_RGB,\n",
    "                 *args,\n",
    "                 **kwargs):\n",
    "\n",
    "        self._hue_wedge = hue_wedge\n",
    "        self._protected_area_threshold = protected_area_threshold\n",
    "        self._compression_threshold = compression_threshold\n",
    "\n",
    "        self.RGB_to_HSV = RGB_to_HSV\n",
    "        self.HSV_to_RGB = HSV_to_RGB\n",
    "\n",
    "        super().__init__(reference_image, *args, **kwargs)\n",
    "        \n",
    "        self._RGB_r = None\n",
    "        self._H_r = self._S_r = self._V_r = None\n",
    "        self._S_r_m = None\n",
    "\n",
    "        if self._enable_colour_wheel:\n",
    "            self._RGB_w = None\n",
    "            self._H_w = self._S_w = self._V_w = None\n",
    "            self._S_w_m = None\n",
    "\n",
    "        if self._enable_chromaticity_diagram:\n",
    "            self._RGB_d = None\n",
    "            self._H_d = self._S_d = self._V_d = None\n",
    "            self._S_d_m = None\n",
    "        \n",
    "        self._angles = None\n",
    "        self._x_i = self._y_i = self._y_i = None\n",
    "\n",
    "        if self._enable_colour_wheel:\n",
    "            self._protected_area_threshold_colour_wheel_plot = None\n",
    "            self._compression_threshold_colour_wheel_plot = None\n",
    "            self._hue_controls_plot = None\n",
    "        \n",
    "        if self._enable_chromaticity_diagram:\n",
    "            self._protected_area_threshold_chromaticity_diagram_plot = None\n",
    "            self._compression_threshold_chromaticity_diagram_plot = None\n",
    "\n",
    "        self._reset_protected_area_controls_Button = None\n",
    "        self._protected_area_threshold_FloatSlider = None\n",
    "        self._reset_compression_controls_Button = None\n",
    "        self._compression_threshold_FloatSlider = None\n",
    "        self._reset_hue_controls_Button = None\n",
    "        self._wedge_controls = None\n",
    "        self._protected_area_controls_HBox = None\n",
    "        self._saturation_controls_HBox = None\n",
    "        self._hue_controls_HBox = None\n",
    "\n",
    "        self.initialize_data()\n",
    "        self.initialize_axes()\n",
    "        self.initialise_widgets()\n",
    "        self.attach_callbacks()\n",
    "\n",
    "        self.update_widget(None)\n",
    "\n",
    "    def initialize_data(self):\n",
    "        super().initialize_data()\n",
    "\n",
    "        # *** Colour Wheel ***\n",
    "        if self._enable_colour_wheel:\n",
    "            self._RGB_w = self._colour_wheel[..., 0:3]\n",
    "            self._H_w, self._S_w, self._V_w = colour.utilities.tsplit(\n",
    "                self.RGB_to_HSV(self._RGB_w))\n",
    "            self._S_w_m = smoothstep(self._S_w, self._protected_area_threshold,\n",
    "                                     self._compression_threshold)\n",
    "\n",
    "        # *** Decimated Image, i.e. Scatter ***\n",
    "        if self._enable_chromaticity_diagram:\n",
    "            self._RGB_d = self._decimated_image_working\n",
    "            self._H_d, self._S_d, self._V_d = colour.utilities.tsplit(\n",
    "                self.RGB_to_HSV(self._decimated_image_working))\n",
    "            self._S_d_m = smoothstep(self._S_d, self._protected_area_threshold,\n",
    "                                     self._compression_threshold)\n",
    "\n",
    "        # *** Reference Image ***\n",
    "        self._RGB_r = self._reference_image_working\n",
    "        self._H_r, self._S_r, self._V_r = colour.utilities.tsplit(\n",
    "            self.RGB_to_HSV(self._reference_image_working))\n",
    "        self._S_r_m = smoothstep(self._S_r, self._protected_area_threshold,\n",
    "                                 self._compression_threshold)\n",
    "\n",
    "        # *** Angles ***\n",
    "        self._angles = np.arange(0, 360, self._hue_wedge) / 360\n",
    "\n",
    "        # *** Initial State ***\n",
    "        self._x_i = np.hstack([self._angles, 1])\n",
    "        self._y_i = self._angles\n",
    "        self._y_i = np.hstack([self._y_i, self._y_i[0] + 1])\n",
    "\n",
    "    def initialize_axes(self):\n",
    "        super().initialize_axes()\n",
    "\n",
    "        circumference = np.linspace(0, np.pi * 2,\n",
    "                                    self._colour_wheel_samples)\n",
    "        # Colour Wheel Axes\n",
    "        if self._enable_colour_wheel:\n",
    "            self._protected_area_threshold_colour_wheel_plot = (\n",
    "                self._colour_wheel_polar_axes.plot(\n",
    "                    circumference,\n",
    "                    np.full(self._colour_wheel_samples,\n",
    "                            self._protected_area_threshold),\n",
    "                    linestyle='dotted',\n",
    "                    color='yellow')[0])\n",
    "            self._compression_threshold_colour_wheel_plot = (\n",
    "                self._colour_wheel_polar_axes.plot(\n",
    "                    circumference,\n",
    "                    np.full(self._colour_wheel_samples,\n",
    "                            self._compression_threshold),\n",
    "                    linestyle='dashdot',\n",
    "                    color='cyan')[0])\n",
    "\n",
    "            self._hue_controls_plot = (self._colour_wheel_polar_axes.plot(\n",
    "                self._y_i * np.pi * 2,\n",
    "                np.ones(self._y_i.shape),\n",
    "                'o-',\n",
    "                color='white')[0])\n",
    "\n",
    "        # Chromaticity Diagram Axes\n",
    "        if self._enable_chromaticity_diagram:\n",
    "            self._protected_area_threshold_chromaticity_diagram_plot = (\n",
    "                self._chromaticity_diagram_axes.plot(\n",
    "                    circumference,\n",
    "                    circumference,\n",
    "                    linestyle='dotted',\n",
    "                    color='yellow')[0])\n",
    "            self._compression_threshold_chromaticity_diagram_plot = (\n",
    "                self._chromaticity_diagram_axes.plot(\n",
    "                    circumference,\n",
    "                    circumference,\n",
    "                    linestyle='dashdot',\n",
    "                    color='cyan')[0])\n",
    "\n",
    "    def initialise_widgets(self):\n",
    "        super().initialise_widgets()\n",
    "\n",
    "        # *** Widgets ***\n",
    "        self._reset_protected_area_controls_Button = (\n",
    "            ipywidgets.widgets.Button(description=\"Reset Protected Area\"))\n",
    "        self._protected_area_threshold_FloatSlider = (\n",
    "            ipywidgets.widgets.FloatSlider(\n",
    "                min=0.0,\n",
    "                max=1.0,\n",
    "                step=0.01,\n",
    "                value=self._protected_area_threshold,\n",
    "                description='Protected Area Threshold'))\n",
    "\n",
    "        self._reset_compression_controls_Button = (\n",
    "            ipywidgets.widgets.Button(description=\"Reset Saturation Controls\"))\n",
    "        self._compression_threshold_FloatSlider = (\n",
    "            ipywidgets.widgets.FloatSlider(\n",
    "                min=0.0,\n",
    "                max=1.0,\n",
    "                step=0.01,\n",
    "                value=self._compression_threshold,\n",
    "                description='Compression Threshold'))\n",
    "\n",
    "        self._reset_hue_controls_Button = ipywidgets.widgets.Button(\n",
    "            description=\"Reset Hue Controls\")\n",
    "        self._wedge_controls = [\n",
    "            ipywidgets.widgets.FloatSlider(\n",
    "                min=-1,\n",
    "                max=1,\n",
    "                step=0.01,\n",
    "                value=0,\n",
    "                description='{0}°'.format(int(angle * 360)))\n",
    "            for angle in self._angles\n",
    "        ]\n",
    "\n",
    "        # *** Layout ***\n",
    "        self._protected_area_controls_HBox = ipywidgets.widgets.HBox([\n",
    "            self._reset_protected_area_controls_Button,\n",
    "            self._protected_area_threshold_FloatSlider,\n",
    "        ])\n",
    "\n",
    "        self._saturation_controls_HBox = ipywidgets.widgets.HBox([\n",
    "            self._reset_compression_controls_Button,\n",
    "            self._compression_threshold_FloatSlider\n",
    "        ])\n",
    "\n",
    "        wedge_controls_batches = batch(self._wedge_controls, 3)\n",
    "        self._hue_controls_HBox = ipywidgets.widgets.HBox(\n",
    "            [ipywidgets.widgets.VBox([self._reset_hue_controls_Button])] + [\n",
    "                ipywidgets.widgets.VBox(wedge_controls)\n",
    "                for wedge_controls in wedge_controls_batches\n",
    "            ])\n",
    "\n",
    "        self._controls_Tab.children += (\n",
    "            self._protected_area_controls_HBox,\n",
    "            self._saturation_controls_HBox,\n",
    "            self._hue_controls_HBox,\n",
    "        )\n",
    "\n",
    "        self._controls_Tab.set_title(1, 'Protected Area Controls')\n",
    "        self._controls_Tab.set_title(2, 'Saturation Controls')\n",
    "        self._controls_Tab.set_title(3, 'Hue Controls')\n",
    "\n",
    "    def attach_callbacks(self):\n",
    "        super().attach_callbacks()\n",
    "\n",
    "        self._reset_protected_area_controls_Button.on_click(\n",
    "            self.reset_protected_area_controls)\n",
    "        self._protected_area_threshold_FloatSlider.observe(\n",
    "            self.update_protected_area_mask, 'value')\n",
    "\n",
    "        self._reset_compression_controls_Button.on_click(\n",
    "            self.reset_compression_controls)\n",
    "        self._compression_threshold_FloatSlider.observe(\n",
    "            self.update_widget, 'value')\n",
    "\n",
    "        self._reset_hue_controls_Button.on_click(self.reset_hue_controls)\n",
    "        for slider in self._wedge_controls:\n",
    "            slider.observe(self.update_widget, 'value')\n",
    "\n",
    "    def update_region_colour_wheel_plot(self, V_r, region_colour_wheel_plot):\n",
    "        if self._enable_colour_wheel:\n",
    "            region_colour_wheel_plot.set_ydata(\n",
    "                np.full(self._colour_wheel_samples, V_r))\n",
    "\n",
    "    def update_protected_area_threshold_colour_wheel_plot(self, U_r):\n",
    "        if self._enable_colour_wheel:\n",
    "            self.update_region_colour_wheel_plot(\n",
    "                U_r, self._protected_area_threshold_colour_wheel_plot)\n",
    "\n",
    "    def update_compression_threshold_colour_wheel_plot(self, S_c):\n",
    "        if self._enable_colour_wheel:\n",
    "            self.update_region_colour_wheel_plot(\n",
    "                S_c, self._compression_threshold_colour_wheel_plot)\n",
    "\n",
    "    def update_region_chromaticity_diagram_plot(\n",
    "            self, V_r, region_chromaticity_diagram_plot):\n",
    "        if self._enable_chromaticity_diagram:\n",
    "            HSV = colour.utilities.tstack([\n",
    "                np.linspace(0, 1, self._colour_wheel_samples),\n",
    "                np.full(self._colour_wheel_samples, V_r),\n",
    "                np.ones(self._colour_wheel_samples)\n",
    "            ])\n",
    "            uv = colour.Luv_to_uv(\n",
    "                colour.XYZ_to_Luv(\n",
    "                    colour.RGB_to_XYZ(\n",
    "                        self.HSV_to_RGB(HSV), self._working_space.whitepoint,\n",
    "                        self._working_space.whitepoint,\n",
    "                        self._working_space.RGB_to_XYZ_matrix),\n",
    "                    self._working_space.whitepoint))\n",
    "\n",
    "            region_chromaticity_diagram_plot.set_data(uv[:, 0], uv[:, 1])\n",
    "\n",
    "    def update_protected_area_threshold_chromaticity_diagram_plot(self, U_r):\n",
    "        if self._enable_chromaticity_diagram:\n",
    "            self.update_region_chromaticity_diagram_plot(\n",
    "                U_r, self._protected_area_threshold_chromaticity_diagram_plot)\n",
    "\n",
    "    def update_compression_threshold_chromaticity_diagram_plot(self, S_c):\n",
    "        if self._enable_chromaticity_diagram:\n",
    "            self.update_region_chromaticity_diagram_plot(\n",
    "                S_c, self._compression_threshold_chromaticity_diagram_plot)\n",
    "\n",
    "    def update_protected_area_mask(self, change):\n",
    "        if not change:\n",
    "            return\n",
    "\n",
    "        if change['name'] == 'value':\n",
    "            U_r = self._protected_area_threshold_FloatSlider.value\n",
    "            S_c = self._compression_threshold_FloatSlider.value\n",
    "\n",
    "            if self._enable_colour_wheel:\n",
    "                self._S_w_m = smoothstep(self._S_w, U_r, S_c)\n",
    "\n",
    "            if self._enable_chromaticity_diagram:\n",
    "                self._S_r_m = smoothstep(self._S_r, U_r, S_c)\n",
    "\n",
    "            self._S_d_m = smoothstep(self._S_d, U_r, S_c)\n",
    "\n",
    "        self.update_widget(None)\n",
    "\n",
    "    def wedge_control_to_hue_offset(self, value):\n",
    "        slider = self._wedge_controls[0]\n",
    "\n",
    "        return colour.utilities.linear_conversion(\n",
    "            value, [slider.min, slider.max],\n",
    "            [-self._hue_wedge / 360, self._hue_wedge / 360])\n",
    "\n",
    "    def reset_protected_area_controls(self, change):\n",
    "        self._protected_area_threshold_FloatSlider.value = (\n",
    "            self._protected_area_threshold)\n",
    "\n",
    "        self.update_protected_area_mask(None)\n",
    "\n",
    "    def reset_compression_controls(self, change):\n",
    "        self._compression_threshold_FloatSlider.value = (\n",
    "            self._compression_threshold)\n",
    "\n",
    "        self.update_widget(None)\n",
    "\n",
    "    def reset_hue_controls(self, change):\n",
    "        for slider in self._wedge_controls:\n",
    "            slider.value = 0\n",
    "\n",
    "        self.update_widget(None)\n",
    "\n",
    "    def medicina(self, RGB, H, S, V, H_x, H_y, S_c, S_m):\n",
    "        S_m = S_m[..., np.newaxis]\n",
    "\n",
    "        interpolator = scipy.interpolate.interp1d(H_x, H_y)\n",
    "\n",
    "        HSV_c = colour.utilities.tstack(\n",
    "            [interpolator(H) % 1,\n",
    "             tanh_compression_function(S, S_c, 1 - S_c), V])\n",
    "\n",
    "        return self.HSV_to_RGB(HSV_c) * S_m + RGB * (1 - S_m)\n",
    "\n",
    "    def update_colour_wheel_axes(self, U_r, S_c, H_y, H_o):\n",
    "        if self._enable_colour_wheel:\n",
    "            R_w, G_w, B_w = colour.utilities.tsplit(\n",
    "                self.medicina(self._RGB_w, self._H_w, self._S_w, self._V_w,\n",
    "                              self._x_i, H_y, S_c, self._S_w_m))\n",
    "            self._colour_wheel_imshow.set_data(\n",
    "                np.clip(colour.tstack(\n",
    "                    [R_w, G_w, B_w, self._colour_wheel[..., -1]]), 0, 1))\n",
    "            self.update_protected_area_threshold_colour_wheel_plot(U_r)\n",
    "            self.update_compression_threshold_colour_wheel_plot(S_c)\n",
    "\n",
    "            H_x = H_o + self._angles\n",
    "            H_x = np.hstack([H_x, H_x[0]])\n",
    "            self._hue_controls_plot.set_xdata(H_x * np.pi * 2)\n",
    "\n",
    "    def update_chromaticity_diagram_axes(self, U_r, S_c, H_y):\n",
    "        if self._enable_chromaticity_diagram:\n",
    "            RGB_r_s = self.medicina(self._RGB_d, self._H_d, self._S_d,\n",
    "                                    self._V_d, self._x_i, H_y, S_c,\n",
    "                                    self._S_d_m).reshape(-1, 3)\n",
    "            self.update_scatter_plot(RGB_r_s)\n",
    "            self.update_protected_area_threshold_chromaticity_diagram_plot(U_r)\n",
    "            self.update_compression_threshold_chromaticity_diagram_plot(S_c)\n",
    "\n",
    "    def update_reference_image_axes(self, S_c, H_y):\n",
    "        RGB_r = self.medicina(self._RGB_r, self._H_r, self._S_r, self._V_r,\n",
    "                              self._x_i, H_y, S_c, self._S_r_m)\n",
    "        self._reference_image_mapped = RGB_r\n",
    "        self._reference_image_imshow.set_data(\n",
    "            self.working_space_to_display_space(RGB_r))\n",
    "\n",
    "    def update_widget(self, change):\n",
    "        super().update_widget(change)\n",
    "\n",
    "        if self._enable:\n",
    "            U_r = self._protected_area_threshold_FloatSlider.value\n",
    "            S_c = self._compression_threshold_FloatSlider.value\n",
    "\n",
    "            hue_offsets = np.array([\n",
    "                self.wedge_control_to_hue_offset(slider.value)\n",
    "                for slider in self._wedge_controls\n",
    "            ])\n",
    "\n",
    "            H_y = -hue_offsets + self._angles\n",
    "            H_y = np.hstack([H_y, H_y[0] + 1])\n",
    "\n",
    "            if self._enable_colour_wheel:\n",
    "                self.update_colour_wheel_axes(U_r, S_c, H_y, hue_offsets)\n",
    "\n",
    "            if self._enable_chromaticity_diagram:\n",
    "                self.update_chromaticity_diagram_axes(U_r, S_c, H_y)\n",
    "\n",
    "            self.update_reference_image_axes(S_c, H_y)\n",
    "\n",
    "            self._figure.canvas.draw_idle()\n",
    "\n",
    "\n",
    "GamutMedicinaHSVControlWidget(\n",
    "    '../resources/images/A009C002_190210_R0EI_Alexa_LogCWideGamut.exr')\n"
   ]
  },
  {
   "cell_type": "code",
   "execution_count": 11,
   "metadata": {},
   "outputs": [
    {
     "data": {
      "application/vnd.jupyter.widget-view+json": {
       "model_id": "40224a18d6b84d549a016895fa9fd2fe",
       "version_major": 2,
       "version_minor": 0
      },
      "text/plain": [
       "GamutMedicinaHSVControlWidget(children=(Output(layout=Layout(border='solid 4px #222', margin='4px', padding='0…"
      ]
     },
     "metadata": {},
     "output_type": "display_data"
    }
   ],
   "source": [
    "GamutMedicinaHSVControlWidget('../resources/images/A002_C029_06025K.exr')"
   ]
  },
  {
   "cell_type": "markdown",
   "metadata": {},
   "source": [
    "## Smith (2020) - Gamut Medicina - RGB Saturation"
   ]
  },
  {
   "cell_type": "markdown",
   "metadata": {},
   "source": [
    "https://community.acescentral.com/t/rgb-saturation-gamut-mapping-approach-and-a-comp-vfx-perspective/"
   ]
  },
  {
   "cell_type": "code",
   "execution_count": 12,
   "metadata": {},
   "outputs": [
    {
     "data": {
      "application/vnd.jupyter.widget-view+json": {
       "model_id": "f2cc309816044d5282db62753bac930e",
       "version_major": 2,
       "version_minor": 0
      },
      "text/plain": [
       "GamutMedicinaRGBSaturationWidget(children=(Output(layout=Layout(border='solid 4px #222', margin='4px', padding…"
      ]
     },
     "metadata": {},
     "output_type": "display_data"
    }
   ],
   "source": [
    "\n",
    "class GamutMedicinaRGBSaturationWidget(GamutMedicinaBaseWidget):\n",
    "    def __init__(self,\n",
    "                 reference_image=None,\n",
    "                 compression_threshold=0.8,\n",
    "                 *args,\n",
    "                 **kwargs):\n",
    "        self._compression_threshold = compression_threshold\n",
    "\n",
    "        kwargs['enable_colour_wheel'] = False\n",
    "\n",
    "        super().__init__(reference_image, *args, **kwargs)\n",
    "\n",
    "        self._RGB_w = None\n",
    "        self._RGB_r = None\n",
    "        self._RGB_d = None\n",
    "\n",
    "        self._compression_threshold_chromaticity_diagram_plot = None\n",
    "\n",
    "        self._reset_compression_controls_Button = None\n",
    "        self._compression_threshold_FloatSlider = None\n",
    "\n",
    "        self.initialize_data()\n",
    "        self.initialize_axes()\n",
    "        self.initialise_widgets()\n",
    "        self.attach_callbacks()\n",
    "\n",
    "        self.update_widget(None)\n",
    "\n",
    "    def initialize_data(self):\n",
    "        super().initialize_data()\n",
    "\n",
    "        # *** Reference Image ***\n",
    "        self._RGB_r = self._reference_image_working\n",
    "\n",
    "        # *** Decimated Image, i.e. Scatter ***\n",
    "        self._RGB_d = self._decimated_image_working\n",
    "\n",
    "    def initialize_axes(self):\n",
    "        super().initialize_axes()\n",
    "\n",
    "\n",
    "    def initialise_widgets(self):\n",
    "        super().initialise_widgets()\n",
    "\n",
    "        # *** Widgets ***\n",
    "        self._reset_compression_controls_Button = (\n",
    "            ipywidgets.widgets.Button(\n",
    "                description=\"Reset Compression Controls\"))\n",
    "        self._compression_threshold_FloatSlider = (\n",
    "            ipywidgets.widgets.FloatSlider(\n",
    "                min=0.0,\n",
    "                max=1.0,\n",
    "                step=0.01,\n",
    "                value=self._compression_threshold,\n",
    "                description='Compression Threshold'))\n",
    "\n",
    "        # *** Layout ***\n",
    "        self._compression_controls_HBox = ipywidgets.widgets.HBox([\n",
    "            self._reset_compression_controls_Button,\n",
    "            self._compression_threshold_FloatSlider\n",
    "        ])\n",
    "\n",
    "        self._controls_Tab.children += (\n",
    "            self._compression_controls_HBox,\n",
    "        )\n",
    "\n",
    "        self._controls_Tab.set_title(1, 'Compression Controls')\n",
    "\n",
    "    def attach_callbacks(self):\n",
    "        super().attach_callbacks()\n",
    "\n",
    "        self._reset_compression_controls_Button.on_click(\n",
    "            self.reset_compression_controls)\n",
    "        self._compression_threshold_FloatSlider.observe(\n",
    "            self.update_widget, 'value')\n",
    "\n",
    "    def reset_compression_controls(self, change):\n",
    "        self._compression_threshold_FloatSlider.value = (\n",
    "            self._compression_threshold)\n",
    "\n",
    "        self.update_widget(None)\n",
    "\n",
    "    def medicina(self, RGB, C_t=0.8):\n",
    "        C_t = 1 - C_t\n",
    "\n",
    "        L = np.max(RGB, axis=-1)[..., np.newaxis]\n",
    "\n",
    "        D = np.abs(RGB - L) / L\n",
    "\n",
    "        D_c = tanh_compression_function(D, C_t, 1 - C_t)\n",
    "\n",
    "        RGB_c = L - D_c * L\n",
    "\n",
    "        return RGB_c\n",
    "\n",
    "    def update_chromaticity_diagram_axes(self, C_t):\n",
    "        RGB_r_s = self.medicina(self._RGB_d, C_t).reshape(-1, 3)\n",
    "        self.update_scatter_plot(RGB_r_s)\n",
    "\n",
    "    def update_reference_image_axes(self, C_t):\n",
    "        RGB_r = self.medicina(self._RGB_r, C_t)\n",
    "        self._reference_image_mapped = RGB_r\n",
    "        self._reference_image_imshow.set_data(\n",
    "            self.working_space_to_display_space(RGB_r))\n",
    "\n",
    "    def update_widget(self, change):\n",
    "        super().update_widget(change)\n",
    "\n",
    "        if self._enable:\n",
    "            C_t = 1 - self._compression_threshold_FloatSlider.value\n",
    "\n",
    "            self.update_chromaticity_diagram_axes(C_t)\n",
    "            self.update_reference_image_axes(C_t)\n",
    "\n",
    "            self._figure.canvas.draw_idle()\n",
    "\n",
    "\n",
    "GamutMedicinaRGBSaturationWidget(\n",
    "    '../resources/images/A009C002_190210_R0EI_Alexa_LogCWideGamut.exr')"
   ]
  },
  {
   "cell_type": "code",
   "execution_count": 13,
   "metadata": {},
   "outputs": [
    {
     "data": {
      "application/vnd.jupyter.widget-view+json": {
       "model_id": "cf6f9ab1b8004ae2bee37230046a0d89",
       "version_major": 2,
       "version_minor": 0
      },
      "text/plain": [
       "GamutMedicinaHSVControlWidget(children=(Output(layout=Layout(border='solid 4px #222', margin='4px', padding='0…"
      ]
     },
     "metadata": {},
     "output_type": "display_data"
    }
   ],
   "source": [
    "GamutMedicinaHSVControlWidget(\n",
    "    '../resources/images/A009C002_190210_R0EI_Alexa_LogCWideGamut.exr',\n",
    "    enable_colour_wheel=False)"
   ]
  },
  {
   "cell_type": "code",
   "execution_count": 14,
   "metadata": {},
   "outputs": [
    {
     "data": {
      "application/vnd.jupyter.widget-view+json": {
       "model_id": "030a78352f5c42f0a2f6aa2e95eb37a5",
       "version_major": 2,
       "version_minor": 0
      },
      "text/plain": [
       "GamutMedicinaRGBSaturationWidget(children=(Output(layout=Layout(border='solid 4px #222', margin='4px', padding…"
      ]
     },
     "metadata": {},
     "output_type": "display_data"
    }
   ],
   "source": [
    "GamutMedicinaRGBSaturationWidget(\n",
    "    '../resources/images/Carol Payne - J001_C001_08178N_001.exr')"
   ]
  },
  {
   "cell_type": "code",
   "execution_count": 15,
   "metadata": {},
   "outputs": [
    {
     "data": {
      "application/vnd.jupyter.widget-view+json": {
       "model_id": "3e7024415d484a578f666ffbcb0dd6bd",
       "version_major": 2,
       "version_minor": 0
      },
      "text/plain": [
       "GamutMedicinaHSVControlWidget(children=(Output(layout=Layout(border='solid 4px #222', margin='4px', padding='0…"
      ]
     },
     "metadata": {},
     "output_type": "display_data"
    }
   ],
   "source": [
    "GamutMedicinaHSVControlWidget(\n",
    "    '../resources/images/Carol Payne - J001_C001_08178N_001.exr',\n",
    "    enable_colour_wheel=False)"
   ]
  },
  {
   "cell_type": "markdown",
   "metadata": {},
   "source": [
    "## Musings"
   ]
  },
  {
   "cell_type": "code",
   "execution_count": 16,
   "metadata": {},
   "outputs": [],
   "source": [
    "colour.write_image(\n",
    "    colour_wheel(clip_circle=False)[..., 0:3],\n",
    "    '../resources/images/Colour_Wheel.exr')"
   ]
  },
  {
   "cell_type": "code",
   "execution_count": 17,
   "metadata": {},
   "outputs": [
    {
     "data": {
      "application/vnd.jupyter.widget-view+json": {
       "model_id": "f987e2c5b6f9468197d8de6f13ed6247",
       "version_major": 2,
       "version_minor": 0
      },
      "text/plain": [
       "GamutMedicinaHSVControlWidget(children=(Output(layout=Layout(border='solid 4px #222', margin='4px', padding='0…"
      ]
     },
     "metadata": {},
     "output_type": "display_data"
    }
   ],
   "source": [
    "GamutMedicinaHSVControlWidget(\n",
    "    '../resources/images/Colour_Wheel.exr',\n",
    "    protected_area_threshold=0.5,\n",
    "    compression_threshold=0.5,\n",
    "    enable_colour_wheel=False)"
   ]
  },
  {
   "cell_type": "code",
   "execution_count": 18,
   "metadata": {},
   "outputs": [
    {
     "data": {
      "application/vnd.jupyter.widget-view+json": {
       "model_id": "16f1bc62bb0a469e8bb3f04d1f0e1a0a",
       "version_major": 2,
       "version_minor": 0
      },
      "text/plain": [
       "GamutMedicinaRGBSaturationWidget(children=(Output(layout=Layout(border='solid 4px #222', margin='4px', padding…"
      ]
     },
     "metadata": {},
     "output_type": "display_data"
    }
   ],
   "source": [
    "GamutMedicinaRGBSaturationWidget(\n",
    "    '../resources/images/Colour_Wheel.exr',\n",
    "    compression_threshold=0.5)"
   ]
  }
 ],
 "metadata": {
  "colab": {
   "collapsed_sections": [],
   "name": "gamut_mapping_ramblings_01",
   "provenance": []
  },
  "kernelspec": {
   "display_name": "Python 3",
   "language": "python",
   "name": "python3"
  },
  "language_info": {
   "codemirror_mode": {
    "name": "ipython",
    "version": 3
   },
   "file_extension": ".py",
   "mimetype": "text/x-python",
   "name": "python",
   "nbconvert_exporter": "python",
   "pygments_lexer": "ipython3",
   "version": "3.7.6"
  },
  "widgets": {
   "application/vnd.jupyter.widget-state+json": {
    "state": {
     "001b520979d243a2926dc1893f4e4884": {
      "model_module": "@jupyter-widgets/controls",
      "model_module_version": "1.5.0",
      "model_name": "FloatSliderModel",
      "state": {
       "description": "Compression Threshold",
       "layout": "IPY_MODEL_ba9f3d64f42b4383b37bd9b2bb7adf1f",
       "max": 1,
       "step": 0.01,
       "style": "IPY_MODEL_10d01c59f5fc4607b808aeb904a5cf55",
       "value": 0.8
      }
     },
     "00850640557e41d8bd9d41835b44fa71": {
      "model_module": "@jupyter-widgets/controls",
      "model_module_version": "1.5.0",
      "model_name": "VBoxModel",
      "state": {
       "children": [
        "IPY_MODEL_b8b0aa40e2854716a5b2750c93b00ca0"
       ],
       "layout": "IPY_MODEL_f48c1e93258e45db8dd4f224c7e33e7f"
      }
     },
     "00caf8815fa042d89dde3fdbcff7d89b": {
      "model_module": "@jupyter-widgets/controls",
      "model_module_version": "1.5.0",
      "model_name": "SliderStyleModel",
      "state": {
       "description_width": ""
      }
     },
     "00dd315411d54fc7a9c3b5b34e223d2b": {
      "model_module": "@jupyter-widgets/base",
      "model_module_version": "1.2.0",
      "model_name": "LayoutModel",
      "state": {}
     },
     "01610ca983ee46e3b43ae8a7ab6b9ce6": {
      "model_module": "@jupyter-widgets/controls",
      "model_module_version": "1.5.0",
      "model_name": "CheckboxModel",
      "state": {
       "description": "Disable Medicina",
       "disabled": false,
       "layout": "IPY_MODEL_74ab7f2a57e345e0843378dd4778837e",
       "style": "IPY_MODEL_2faa5bccfaa64366887cc939c79b37ca",
       "value": false
      }
     },
     "018474f20ad64eb3b1ebfb335e62c4d1": {
      "model_module": "@jupyter-widgets/controls",
      "model_module_version": "1.5.0",
      "model_name": "SliderStyleModel",
      "state": {
       "description_width": ""
      }
     },
     "01faa917691a437da5e43cd2ce83ba07": {
      "model_module": "@jupyter-widgets/base",
      "model_module_version": "1.2.0",
      "model_name": "LayoutModel",
      "state": {}
     },
     "02923de08e034b7eb1d7e467d5b268f6": {
      "model_module": "@jupyter-widgets/controls",
      "model_module_version": "1.5.0",
      "model_name": "ButtonModel",
      "state": {
       "description": "Save Figure",
       "layout": "IPY_MODEL_132b6bb840154fa287d20ff59c52f340",
       "style": "IPY_MODEL_41aad46ca1e345f18d3220624e7cd7f5"
      }
     },
     "02beee104dc64a8aaac0d50c4a476e82": {
      "model_module": "@jupyter-widgets/base",
      "model_module_version": "1.2.0",
      "model_name": "LayoutModel",
      "state": {
       "border": "solid 4px #222",
       "margin": "4px",
       "padding": "0"
      }
     },
     "02d2dbbdb01241f497d621b5b76ad75c": {
      "model_module": "@jupyter-widgets/base",
      "model_module_version": "1.2.0",
      "model_name": "LayoutModel",
      "state": {
       "border": "solid 4px #222",
       "margin": "4px",
       "padding": "0"
      }
     },
     "030a78352f5c42f0a2f6aa2e95eb37a5": {
      "model_module": "@jupyter-widgets/controls",
      "model_module_version": "1.5.0",
      "model_name": "BoxModel",
      "state": {
       "children": [
        "IPY_MODEL_d68d92f3df834e09b40173ee2f98889a",
        "IPY_MODEL_f527c9a5a7c14c2599bf81c9a4d8a4ea"
       ],
       "layout": "IPY_MODEL_4e209508f32c41fb8c3768d0fa08c3c7"
      }
     },
     "03465452107e4d65afc7b6430f165c7c": {
      "model_module": "@jupyter-widgets/base",
      "model_module_version": "1.2.0",
      "model_name": "LayoutModel",
      "state": {}
     },
     "037623b2b99546c3bb77697c8b2135f5": {
      "model_module": "jupyter-matplotlib",
      "model_module_version": "^0.7.2",
      "model_name": "ToolbarModel",
      "state": {
       "layout": "IPY_MODEL_ee1b24a7c8c441cfa086fa25f1cbaa0c",
       "toolitems": [
        [
         "Home",
         "Reset original view",
         "home",
         "home"
        ],
        [
         "Back",
         "Back to previous view",
         "arrow-left",
         "back"
        ],
        [
         "Forward",
         "Forward to next view",
         "arrow-right",
         "forward"
        ],
        [
         "Pan",
         "Pan axes with left mouse, zoom with right",
         "arrows",
         "pan"
        ],
        [
         "Zoom",
         "Zoom to rectangle",
         "square-o",
         "zoom"
        ],
        [
         "Download",
         "Download plot",
         "floppy-o",
         "save_figure"
        ]
       ]
      }
     },
     "037d3bc09d564fb5bd2042f44e30454b": {
      "model_module": "@jupyter-widgets/controls",
      "model_module_version": "1.5.0",
      "model_name": "VBoxModel",
      "state": {
       "children": [
        "IPY_MODEL_43bb0ef06f524b6ab32e5cac483b29f4",
        "IPY_MODEL_e045fa63fc53424f8f75d4268f2daaf8"
       ],
       "layout": "IPY_MODEL_4204f8db74fb4677a00f881a1f74f104"
      }
     },
     "040d8b67454441d49a3792ba75256176": {
      "model_module": "@jupyter-widgets/controls",
      "model_module_version": "1.5.0",
      "model_name": "ButtonModel",
      "state": {
       "description": "Save Figure",
       "layout": "IPY_MODEL_e14ffa996aac4a8d82afc62fc1407db4",
       "style": "IPY_MODEL_44c11adff5a643b6a8d2fd38b7ce55a1"
      }
     },
     "04b5d9107ea7474baf363fe9584cc360": {
      "model_module": "@jupyter-widgets/controls",
      "model_module_version": "1.5.0",
      "model_name": "ButtonModel",
      "state": {
       "description": "Reset Compression Controls",
       "layout": "IPY_MODEL_65a1d6e666d146eea1604f31d918a5d9",
       "style": "IPY_MODEL_4f85061652514da7bf4342e6f24afbdd"
      }
     },
     "051a9891ed06437ca3970ffb157500b7": {
      "model_module": "jupyter-matplotlib",
      "model_module_version": "^0.7.2",
      "model_name": "MPLCanvasModel",
      "state": {
       "_figure_label": "Figure 7",
       "_height": 465,
       "_width": 1099,
       "header_visible": false,
       "layout": "IPY_MODEL_530d7b62c4b14928b97729d36dbc40c1",
       "resizable": false,
       "toolbar": "IPY_MODEL_d06d3f167a2d4b63b148e4c40784ef97",
       "toolbar_position": "left",
       "toolbar_visible": false
      }
     },
     "0562c6aefd054f31b3f89371e196c874": {
      "model_module": "@jupyter-widgets/base",
      "model_module_version": "1.2.0",
      "model_name": "LayoutModel",
      "state": {}
     },
     "0569985a0232426ba5e161fad7cb44da": {
      "model_module": "@jupyter-widgets/controls",
      "model_module_version": "1.5.0",
      "model_name": "DescriptionStyleModel",
      "state": {
       "description_width": ""
      }
     },
     "057a50ea6910404b8211378bfda42710": {
      "model_module": "@jupyter-widgets/base",
      "model_module_version": "1.2.0",
      "model_name": "LayoutModel",
      "state": {}
     },
     "05c328edc2bc4ee487865a08c34b4318": {
      "model_module": "@jupyter-widgets/controls",
      "model_module_version": "1.5.0",
      "model_name": "ButtonModel",
      "state": {
       "description": "Save Figure",
       "layout": "IPY_MODEL_b60dcd2b939a4595b396eae09799cda5",
       "style": "IPY_MODEL_49908ded0d904f3d979d0b72de0be37c"
      }
     },
     "05cd9aa46bf44bbc8db91626bd4b7e07": {
      "model_module": "@jupyter-widgets/base",
      "model_module_version": "1.2.0",
      "model_name": "LayoutModel",
      "state": {}
     },
     "063956f887594089808f23ce7a183800": {
      "model_module": "@jupyter-widgets/controls",
      "model_module_version": "1.5.0",
      "model_name": "DescriptionStyleModel",
      "state": {
       "description_width": ""
      }
     },
     "063a1f4726994947bd4898a6f7324ec8": {
      "model_module": "@jupyter-widgets/controls",
      "model_module_version": "1.5.0",
      "model_name": "ButtonStyleModel",
      "state": {}
     },
     "06796523646a42d5b56fd3888058de16": {
      "model_module": "@jupyter-widgets/controls",
      "model_module_version": "1.5.0",
      "model_name": "ButtonModel",
      "state": {
       "description": "Reset Saturation Controls",
       "layout": "IPY_MODEL_252a3a3008c947549be6a95ce2dc21dd",
       "style": "IPY_MODEL_d1d0933d6ee540479ef4fab5790e6fe8"
      }
     },
     "06ac3c1c1b31454aaf37ab162b225f6c": {
      "model_module": "@jupyter-widgets/controls",
      "model_module_version": "1.5.0",
      "model_name": "SliderStyleModel",
      "state": {
       "description_width": ""
      }
     },
     "06cea455cea246cb875f943c1ae0f3d0": {
      "model_module": "@jupyter-widgets/base",
      "model_module_version": "1.2.0",
      "model_name": "LayoutModel",
      "state": {
       "border": "solid 4px #222",
       "margin": "4px",
       "padding": "0"
      }
     },
     "06ea7384d5e84ac38c9f20cfacacae87": {
      "model_module": "jupyter-matplotlib",
      "model_module_version": "^0.7.2",
      "model_name": "MPLCanvasModel",
      "state": {
       "_figure_label": "Figure 9",
       "_height": 430,
       "_width": 1099,
       "header_visible": false,
       "layout": "IPY_MODEL_d5aee5afac6e4e8b86d573e4a2da91c0",
       "resizable": false,
       "toolbar": "IPY_MODEL_79728f22e852417a958ae03d025af191",
       "toolbar_position": "left",
       "toolbar_visible": false
      }
     },
     "06f487dbfd94473ca66ad7bb7f479ffa": {
      "model_module": "@jupyter-widgets/base",
      "model_module_version": "1.2.0",
      "model_name": "LayoutModel",
      "state": {}
     },
     "07071af0d32c44f68ff735546dc21894": {
      "model_module": "@jupyter-widgets/controls",
      "model_module_version": "1.5.0",
      "model_name": "SliderStyleModel",
      "state": {
       "description_width": ""
      }
     },
     "072cbc2ea6894578955b0fa06f367dad": {
      "model_module": "@jupyter-widgets/base",
      "model_module_version": "1.2.0",
      "model_name": "LayoutModel",
      "state": {}
     },
     "07d616cd4ffd44f6a2e46992220bb621": {
      "model_module": "@jupyter-widgets/base",
      "model_module_version": "1.2.0",
      "model_name": "LayoutModel",
      "state": {}
     },
     "0802dcc3f8dd48ef8b1ca0639fa0df6f": {
      "model_module": "@jupyter-widgets/controls",
      "model_module_version": "1.5.0",
      "model_name": "FloatSliderModel",
      "state": {
       "description": "Protected Area Threshold",
       "layout": "IPY_MODEL_a634dd33e0bc41e9b1a0ee98e77a69b7",
       "max": 1,
       "step": 0.01,
       "style": "IPY_MODEL_67280e85e3064e3c96ba698e19c9464f",
       "value": 0.5
      }
     },
     "08090ae33ea54f6aabd2dfa2504c2c01": {
      "model_module": "@jupyter-widgets/controls",
      "model_module_version": "1.5.0",
      "model_name": "ButtonStyleModel",
      "state": {}
     },
     "08614840579a43eeb5c57c735a123ca0": {
      "model_module": "@jupyter-widgets/output",
      "model_module_version": "1.0.0",
      "model_name": "OutputModel",
      "state": {
       "layout": "IPY_MODEL_7cdfccf0c5c64ec286403aedfe635fd6",
       "outputs": [
        {
         "data": {
          "application/vnd.jupyter.widget-view+json": {
           "model_id": "5ffbf87e6861477ebf1fb7275f78682d",
           "version_major": 2,
           "version_minor": 0
          },
          "text/plain": "Canvas(toolbar=Toolbar(toolitems=[('Home', 'Reset original view', 'home', 'home'), ('Back', 'Back to previous …"
         },
         "metadata": {},
         "output_type": "display_data"
        }
       ]
      }
     },
     "08c303e8a26c433e99a826ed51fd39a3": {
      "model_module": "@jupyter-widgets/controls",
      "model_module_version": "1.5.0",
      "model_name": "ButtonModel",
      "state": {
       "description": "Reset Protected Area",
       "layout": "IPY_MODEL_62e04404a7b14984a557932f1b89bdb4",
       "style": "IPY_MODEL_20b17e85b052413db3b5030f0e6fa66e"
      }
     },
     "08d4015f3ea34cc49f662efddbfb80d0": {
      "model_module": "@jupyter-widgets/controls",
      "model_module_version": "1.5.0",
      "model_name": "FloatSliderModel",
      "state": {
       "description": "135°",
       "layout": "IPY_MODEL_906b2bdc6a294edb929557c05b5b8c1c",
       "max": 1,
       "min": -1,
       "step": 0.01,
       "style": "IPY_MODEL_018474f20ad64eb3b1ebfb335e62c4d1"
      }
     },
     "093a91b70fdb4128968db8cf528cb44f": {
      "model_module": "@jupyter-widgets/base",
      "model_module_version": "1.2.0",
      "model_name": "LayoutModel",
      "state": {}
     },
     "093ee25af4b64d5599667fbd0b15062c": {
      "model_module": "@jupyter-widgets/base",
      "model_module_version": "1.2.0",
      "model_name": "LayoutModel",
      "state": {
       "border": "solid 4px #222",
       "margin": "4px",
       "padding": "0"
      }
     },
     "09a894a869cc440ba2e36f9323e5d839": {
      "model_module": "@jupyter-widgets/base",
      "model_module_version": "1.2.0",
      "model_name": "LayoutModel",
      "state": {}
     },
     "09bff07991c347e8bed4c740e3b15c81": {
      "model_module": "@jupyter-widgets/output",
      "model_module_version": "1.0.0",
      "model_name": "OutputModel",
      "state": {
       "layout": "IPY_MODEL_dadd6d6d07ef41e7ba87eb07f8f6b499",
       "outputs": [
        {
         "data": {
          "application/vnd.jupyter.widget-view+json": {
           "model_id": "06ea7384d5e84ac38c9f20cfacacae87",
           "version_major": 2,
           "version_minor": 0
          },
          "text/plain": "Canvas(toolbar=Toolbar(toolitems=[('Home', 'Reset original view', 'home', 'home'), ('Back', 'Back to previous …"
         },
         "metadata": {},
         "output_type": "display_data"
        }
       ]
      }
     },
     "0a31937b56be4a0bbe296fef47212eb4": {
      "model_module": "@jupyter-widgets/controls",
      "model_module_version": "1.5.0",
      "model_name": "SliderStyleModel",
      "state": {
       "description_width": ""
      }
     },
     "0a4cb33bacb24b3da7eef1c610ef276c": {
      "model_module": "@jupyter-widgets/controls",
      "model_module_version": "1.5.0",
      "model_name": "HBoxModel",
      "state": {
       "children": [
        "IPY_MODEL_ae3d9adcc3174c7b97bb5a8ea3e1c8ab",
        "IPY_MODEL_c2cd505b5745472c9947ba5e6bda0b27"
       ],
       "layout": "IPY_MODEL_588597dbc92c477e827fef1e613885eb"
      }
     },
     "0a577064c1734456b4c9531a14a463d7": {
      "model_module": "@jupyter-widgets/base",
      "model_module_version": "1.2.0",
      "model_name": "LayoutModel",
      "state": {}
     },
     "0a69d32068de4b28be17e41d66efb8eb": {
      "model_module": "@jupyter-widgets/base",
      "model_module_version": "1.2.0",
      "model_name": "LayoutModel",
      "state": {}
     },
     "0aeacd7fb01745ba9812c738144b96f3": {
      "model_module": "@jupyter-widgets/base",
      "model_module_version": "1.2.0",
      "model_name": "LayoutModel",
      "state": {}
     },
     "0b18653aea824917969b2d9f6910b277": {
      "model_module": "@jupyter-widgets/base",
      "model_module_version": "1.2.0",
      "model_name": "LayoutModel",
      "state": {}
     },
     "0b2dfd5b069b4a58aa97176c4bcfa083": {
      "model_module": "@jupyter-widgets/base",
      "model_module_version": "1.2.0",
      "model_name": "LayoutModel",
      "state": {
       "align_items": "stretch",
       "display": "flex",
       "flex_flow": "column",
       "width": "1128px"
      }
     },
     "0b33e06564004d6b800aa65476c24ca4": {
      "model_module": "@jupyter-widgets/base",
      "model_module_version": "1.2.0",
      "model_name": "LayoutModel",
      "state": {}
     },
     "0bbf2ace08bf4663bf41690b8e419855": {
      "model_module": "@jupyter-widgets/controls",
      "model_module_version": "1.5.0",
      "model_name": "CheckboxModel",
      "state": {
       "description": "Disable Medicina",
       "disabled": false,
       "layout": "IPY_MODEL_9df386eb74d141ff836884df559ae011",
       "style": "IPY_MODEL_208365e8bbd1407ba80aa6c972f54a27",
       "value": false
      }
     },
     "0bc1c53ab6e94a608f6da9424582f32c": {
      "model_module": "@jupyter-widgets/controls",
      "model_module_version": "1.5.0",
      "model_name": "ButtonStyleModel",
      "state": {}
     },
     "0be233803aac4cfc961c5a366294ba65": {
      "model_module": "@jupyter-widgets/base",
      "model_module_version": "1.2.0",
      "model_name": "LayoutModel",
      "state": {}
     },
     "0be2ad9b6c764585b26ad18345e20cc6": {
      "model_module": "@jupyter-widgets/base",
      "model_module_version": "1.2.0",
      "model_name": "LayoutModel",
      "state": {}
     },
     "0bf5dafe1a8045539fbcf311fbcd91f7": {
      "model_module": "@jupyter-widgets/base",
      "model_module_version": "1.2.0",
      "model_name": "LayoutModel",
      "state": {}
     },
     "0c046a734623481cb4d7383d066f4dfe": {
      "model_module": "@jupyter-widgets/controls",
      "model_module_version": "1.5.0",
      "model_name": "HBoxModel",
      "state": {
       "children": [
        "IPY_MODEL_20ea4b26d75242dab0bf5e4b21aef8d1",
        "IPY_MODEL_569bda07682942eaac512a8b7fa66298"
       ],
       "layout": "IPY_MODEL_fdf0a323885241adbf0bcb4e94aee0a7"
      }
     },
     "0c14ac67ade94d0382332590bb7bae32": {
      "model_module": "@jupyter-widgets/base",
      "model_module_version": "1.2.0",
      "model_name": "LayoutModel",
      "state": {}
     },
     "0cb0ae75a9e24610abd89969604b3e0a": {
      "model_module": "@jupyter-widgets/base",
      "model_module_version": "1.2.0",
      "model_name": "LayoutModel",
      "state": {
       "align_items": "stretch",
       "display": "flex",
       "flex_flow": "column",
       "width": "1128px"
      }
     },
     "0d347b38a3f442bba83c7a2b4adb02cb": {
      "model_module": "@jupyter-widgets/base",
      "model_module_version": "1.2.0",
      "model_name": "LayoutModel",
      "state": {}
     },
     "0d48f25eba8e4d70ba592aee668efe50": {
      "model_module": "@jupyter-widgets/base",
      "model_module_version": "1.2.0",
      "model_name": "LayoutModel",
      "state": {}
     },
     "0dbea9b73c9249d787e2e341e66f5253": {
      "model_module": "@jupyter-widgets/base",
      "model_module_version": "1.2.0",
      "model_name": "LayoutModel",
      "state": {
       "border": "solid 4px #222",
       "margin": "4px",
       "padding": "0"
      }
     },
     "0de68c505b9144c6a8df47ccfedc18b9": {
      "model_module": "@jupyter-widgets/base",
      "model_module_version": "1.2.0",
      "model_name": "LayoutModel",
      "state": {}
     },
     "0df0db5493c84aada0ed98214c16ccdc": {
      "model_module": "@jupyter-widgets/controls",
      "model_module_version": "1.5.0",
      "model_name": "SliderStyleModel",
      "state": {
       "description_width": ""
      }
     },
     "0e6860731e1443519d85272478f949e2": {
      "model_module": "@jupyter-widgets/base",
      "model_module_version": "1.2.0",
      "model_name": "LayoutModel",
      "state": {}
     },
     "0e92f2849f224f6987b400162e7c157c": {
      "model_module": "@jupyter-widgets/base",
      "model_module_version": "1.2.0",
      "model_name": "LayoutModel",
      "state": {}
     },
     "0f20db263fb84ca59b131d519c310fc4": {
      "model_module": "@jupyter-widgets/base",
      "model_module_version": "1.2.0",
      "model_name": "LayoutModel",
      "state": {
       "border": "solid 4px #222",
       "margin": "4px",
       "padding": "0"
      }
     },
     "0f3a9d3e756f481fb063b52583e36902": {
      "model_module": "@jupyter-widgets/base",
      "model_module_version": "1.2.0",
      "model_name": "LayoutModel",
      "state": {}
     },
     "100badb4a0214c5383f2479ba39e1ff1": {
      "model_module": "@jupyter-widgets/base",
      "model_module_version": "1.2.0",
      "model_name": "LayoutModel",
      "state": {}
     },
     "1038587f36bd4b8bbd4eba6f66aac4a6": {
      "model_module": "@jupyter-widgets/controls",
      "model_module_version": "1.5.0",
      "model_name": "FloatSliderModel",
      "state": {
       "description": "45°",
       "layout": "IPY_MODEL_a9868880defa49468f10f6b81114761a",
       "max": 1,
       "min": -1,
       "step": 0.01,
       "style": "IPY_MODEL_19327a5ba76d4b40830bcc8ef10082f7"
      }
     },
     "1039ccbc64084772a17b0d0f28820b2d": {
      "model_module": "@jupyter-widgets/controls",
      "model_module_version": "1.5.0",
      "model_name": "FloatSliderModel",
      "state": {
       "description": "270°",
       "layout": "IPY_MODEL_d80204e80f24453fada3c95a644e5e0e",
       "max": 1,
       "min": -1,
       "step": 0.01,
       "style": "IPY_MODEL_ca8afd1b93aa4b1ca35c8bcd3d5829d2"
      }
     },
     "103fc4a3c698493db1848c7ddd8ba9a2": {
      "model_module": "@jupyter-widgets/controls",
      "model_module_version": "1.5.0",
      "model_name": "FloatSliderModel",
      "state": {
       "description": "Compression Threshold",
       "layout": "IPY_MODEL_0562c6aefd054f31b3f89371e196c874",
       "max": 1,
       "step": 0.01,
       "style": "IPY_MODEL_b86f61f6d43b450bba5b427a0b3c736e",
       "value": 0.8
      }
     },
     "108edd0051f94c65852a1c4246088796": {
      "model_module": "@jupyter-widgets/controls",
      "model_module_version": "1.5.0",
      "model_name": "ButtonStyleModel",
      "state": {}
     },
     "10a53430ae104b798a2712359d9805a1": {
      "model_module": "@jupyter-widgets/base",
      "model_module_version": "1.2.0",
      "model_name": "LayoutModel",
      "state": {}
     },
     "10b8dcf921384ff0926c4bd51e5696ad": {
      "model_module": "@jupyter-widgets/controls",
      "model_module_version": "1.5.0",
      "model_name": "SliderStyleModel",
      "state": {
       "description_width": ""
      }
     },
     "10c57a7e74e64fffa536df7510b6bbca": {
      "model_module": "@jupyter-widgets/controls",
      "model_module_version": "1.5.0",
      "model_name": "FloatSliderModel",
      "state": {
       "description": "180°",
       "layout": "IPY_MODEL_d0ffbe86bf5246ed85c1603111b860fd",
       "max": 1,
       "min": -1,
       "step": 0.01,
       "style": "IPY_MODEL_8de1950e47d54d83a1e30edc13f9ad7b"
      }
     },
     "10d01c59f5fc4607b808aeb904a5cf55": {
      "model_module": "@jupyter-widgets/controls",
      "model_module_version": "1.5.0",
      "model_name": "SliderStyleModel",
      "state": {
       "description_width": ""
      }
     },
     "116d9459c48a4d00b540fc798a0ef442": {
      "model_module": "@jupyter-widgets/controls",
      "model_module_version": "1.5.0",
      "model_name": "DescriptionStyleModel",
      "state": {
       "description_width": ""
      }
     },
     "117c48361df3446397eed8edcbe706a7": {
      "model_module": "@jupyter-widgets/base",
      "model_module_version": "1.2.0",
      "model_name": "LayoutModel",
      "state": {}
     },
     "118b931d639f4829a697034ef6f61147": {
      "model_module": "@jupyter-widgets/controls",
      "model_module_version": "1.5.0",
      "model_name": "FloatSliderModel",
      "state": {
       "description": "0°",
       "layout": "IPY_MODEL_6274f042ab504bb19b8c8cfc26dcef1f",
       "max": 1,
       "min": -1,
       "step": 0.01,
       "style": "IPY_MODEL_17f31cee6d534eadbf2d9c8134c7d1e0"
      }
     },
     "11aaa2202f284251ad401629fca2463e": {
      "model_module": "@jupyter-widgets/base",
      "model_module_version": "1.2.0",
      "model_name": "LayoutModel",
      "state": {
       "border": "solid 4px #222",
       "margin": "4px",
       "padding": "0"
      }
     },
     "124320305fb14d2398c3c288e330c064": {
      "model_module": "@jupyter-widgets/base",
      "model_module_version": "1.2.0",
      "model_name": "LayoutModel",
      "state": {}
     },
     "12b1ec831f2f4634a25ec08899091861": {
      "model_module": "@jupyter-widgets/base",
      "model_module_version": "1.2.0",
      "model_name": "LayoutModel",
      "state": {}
     },
     "12be83251d4b4a0c8367d1f78d5994ce": {
      "model_module": "@jupyter-widgets/base",
      "model_module_version": "1.2.0",
      "model_name": "LayoutModel",
      "state": {
       "border": "solid 4px #222",
       "margin": "4px",
       "padding": "0"
      }
     },
     "12c2c175ffe6481d89e38700520e15f6": {
      "model_module": "@jupyter-widgets/controls",
      "model_module_version": "1.5.0",
      "model_name": "ButtonModel",
      "state": {
       "description": "Reset Hue Controls",
       "layout": "IPY_MODEL_1ca3b14afa8d481193d45eb142d08211",
       "style": "IPY_MODEL_68b0afac54c04195b9e844e4e182917b"
      }
     },
     "132b6bb840154fa287d20ff59c52f340": {
      "model_module": "@jupyter-widgets/base",
      "model_module_version": "1.2.0",
      "model_name": "LayoutModel",
      "state": {}
     },
     "13d1e7466342452387f7eda4bc3f5b10": {
      "model_module": "@jupyter-widgets/controls",
      "model_module_version": "1.5.0",
      "model_name": "HBoxModel",
      "state": {
       "children": [
        "IPY_MODEL_a4562a49e9c14eb6b32a0047317876cc",
        "IPY_MODEL_7952588992664762b80c3373506f0251"
       ],
       "layout": "IPY_MODEL_147b03540bed4713bc548b1ca9b4b2a9"
      }
     },
     "13f3f383431143ea9a4805b4d1a1f13d": {
      "model_module": "@jupyter-widgets/base",
      "model_module_version": "1.2.0",
      "model_name": "LayoutModel",
      "state": {}
     },
     "147b03540bed4713bc548b1ca9b4b2a9": {
      "model_module": "@jupyter-widgets/base",
      "model_module_version": "1.2.0",
      "model_name": "LayoutModel",
      "state": {}
     },
     "1519731b024c4d0998b174d64c45d41b": {
      "model_module": "@jupyter-widgets/controls",
      "model_module_version": "1.5.0",
      "model_name": "HBoxModel",
      "state": {
       "children": [
        "IPY_MODEL_01610ca983ee46e3b43ae8a7ab6b9ce6",
        "IPY_MODEL_1dede11c7c324229aabc32480e233666",
        "IPY_MODEL_836fda241939462a89fb42f8fbe2f965"
       ],
       "layout": "IPY_MODEL_8c337373309b416282f7cb34164c879c"
      }
     },
     "15d519542f364d718c0d28865ea26f39": {
      "model_module": "@jupyter-widgets/base",
      "model_module_version": "1.2.0",
      "model_name": "LayoutModel",
      "state": {}
     },
     "16070b53965248328e5688ecb6d2f3cb": {
      "model_module": "@jupyter-widgets/base",
      "model_module_version": "1.2.0",
      "model_name": "LayoutModel",
      "state": {}
     },
     "160a4830c8a44315a2a98cdc635b880f": {
      "model_module": "@jupyter-widgets/controls",
      "model_module_version": "1.5.0",
      "model_name": "SliderStyleModel",
      "state": {
       "description_width": ""
      }
     },
     "16852063f3d644c097613427a7e90299": {
      "model_module": "@jupyter-widgets/base",
      "model_module_version": "1.2.0",
      "model_name": "LayoutModel",
      "state": {}
     },
     "16911b297a574d8d85f51d94fe562b5b": {
      "model_module": "@jupyter-widgets/controls",
      "model_module_version": "1.5.0",
      "model_name": "ButtonStyleModel",
      "state": {}
     },
     "16f1bc62bb0a469e8bb3f04d1f0e1a0a": {
      "model_module": "@jupyter-widgets/controls",
      "model_module_version": "1.5.0",
      "model_name": "BoxModel",
      "state": {
       "children": [
        "IPY_MODEL_47fda7c4c2b245229fea38fae4050b04",
        "IPY_MODEL_52a67ae5e4d14d50b5405f73e6cba68b"
       ],
       "layout": "IPY_MODEL_22e980d4a04a4516917512a66f199f42"
      }
     },
     "17f31cee6d534eadbf2d9c8134c7d1e0": {
      "model_module": "@jupyter-widgets/controls",
      "model_module_version": "1.5.0",
      "model_name": "SliderStyleModel",
      "state": {
       "description_width": ""
      }
     },
     "1806257fbc8c43d6b3c2af6a76019e2e": {
      "model_module": "@jupyter-widgets/controls",
      "model_module_version": "1.5.0",
      "model_name": "SliderStyleModel",
      "state": {
       "description_width": ""
      }
     },
     "1858c3beeb7b4b7bb89caeedd6ca6732": {
      "model_module": "@jupyter-widgets/controls",
      "model_module_version": "1.5.0",
      "model_name": "HBoxModel",
      "state": {
       "children": [
        "IPY_MODEL_32d93790666d4b89bb89e0e6905f90f0",
        "IPY_MODEL_5d3d379ab9734144ace6e35b41384887",
        "IPY_MODEL_74d0745a1f224094a04514823667b24f",
        "IPY_MODEL_037d3bc09d564fb5bd2042f44e30454b"
       ],
       "layout": "IPY_MODEL_3dae8b299f844c6e9db1d91f3f61edc8"
      }
     },
     "18a3a6f7ed9b4808a99e90d1d80b4b51": {
      "model_module": "@jupyter-widgets/base",
      "model_module_version": "1.2.0",
      "model_name": "LayoutModel",
      "state": {}
     },
     "18aec5f030c74193b1e7c399a80112e1": {
      "model_module": "@jupyter-widgets/base",
      "model_module_version": "1.2.0",
      "model_name": "LayoutModel",
      "state": {}
     },
     "18d45d87054b499aa8eadaa2c84c8df5": {
      "model_module": "@jupyter-widgets/controls",
      "model_module_version": "1.5.0",
      "model_name": "ButtonModel",
      "state": {
       "description": "Save Figure",
       "layout": "IPY_MODEL_6ff166f7363144eaac251e1178be9f0c",
       "style": "IPY_MODEL_265f276146b5422382936ebf99aae1f3"
      }
     },
     "18f27579ebec4e77924f4d767f685260": {
      "model_module": "jupyter-matplotlib",
      "model_module_version": "^0.7.2",
      "model_name": "MPLCanvasModel",
      "state": {
       "_figure_label": "Figure 1",
       "_height": 464,
       "_width": 1100,
       "header_visible": false,
       "layout": "IPY_MODEL_9fc5a68c7768456a8aca40192766faab",
       "resizable": false,
       "toolbar": "IPY_MODEL_6ad0e9b709ce42deaef0f752bd22d93c",
       "toolbar_position": "left",
       "toolbar_visible": false
      }
     },
     "19103cb5c0634274ad93a357b4ae7cba": {
      "model_module": "@jupyter-widgets/controls",
      "model_module_version": "1.5.0",
      "model_name": "SliderStyleModel",
      "state": {
       "description_width": ""
      }
     },
     "19327a5ba76d4b40830bcc8ef10082f7": {
      "model_module": "@jupyter-widgets/controls",
      "model_module_version": "1.5.0",
      "model_name": "SliderStyleModel",
      "state": {
       "description_width": ""
      }
     },
     "19c456e0980441e5a941535d6424a231": {
      "model_module": "@jupyter-widgets/base",
      "model_module_version": "1.2.0",
      "model_name": "LayoutModel",
      "state": {}
     },
     "19ccd68b90b045dcb16083fb8874f1d7": {
      "model_module": "@jupyter-widgets/controls",
      "model_module_version": "1.5.0",
      "model_name": "SliderStyleModel",
      "state": {
       "description_width": ""
      }
     },
     "19ed64e7a29e4283aa2593b82620210a": {
      "model_module": "@jupyter-widgets/base",
      "model_module_version": "1.2.0",
      "model_name": "LayoutModel",
      "state": {}
     },
     "1a101784a279476c9a5dc92b1c95796c": {
      "model_module": "jupyter-matplotlib",
      "model_module_version": "^0.7.2",
      "model_name": "ToolbarModel",
      "state": {
       "layout": "IPY_MODEL_bb015d9261804b83a93d4209cee0e17a",
       "toolitems": [
        [
         "Home",
         "Reset original view",
         "home",
         "home"
        ],
        [
         "Back",
         "Back to previous view",
         "arrow-left",
         "back"
        ],
        [
         "Forward",
         "Forward to next view",
         "arrow-right",
         "forward"
        ],
        [
         "Pan",
         "Pan axes with left mouse, zoom with right",
         "arrows",
         "pan"
        ],
        [
         "Zoom",
         "Zoom to rectangle",
         "square-o",
         "zoom"
        ],
        [
         "Download",
         "Download plot",
         "floppy-o",
         "save_figure"
        ]
       ]
      }
     },
     "1a1a5894dd574306bab274a31714b2d9": {
      "model_module": "@jupyter-widgets/controls",
      "model_module_version": "1.5.0",
      "model_name": "TabModel",
      "state": {
       "_titles": {
        "0": "Global Controls"
       },
       "children": [
        "IPY_MODEL_bcafe766053946b882340dc18d51a732"
       ],
       "layout": "IPY_MODEL_47d1e7eddd0b49fb8254ec374f9d7541"
      }
     },
     "1a70845cb12447189d540eb3f5047e34": {
      "model_module": "@jupyter-widgets/base",
      "model_module_version": "1.2.0",
      "model_name": "LayoutModel",
      "state": {}
     },
     "1a982403c55445558ccdc3872b4cb2a6": {
      "model_module": "@jupyter-widgets/base",
      "model_module_version": "1.2.0",
      "model_name": "LayoutModel",
      "state": {}
     },
     "1b1a60c204834799831b9a99ecba6f02": {
      "model_module": "@jupyter-widgets/controls",
      "model_module_version": "1.5.0",
      "model_name": "SliderStyleModel",
      "state": {
       "description_width": ""
      }
     },
     "1c0cb83001d44c6182f990fcbc4b8753": {
      "model_module": "@jupyter-widgets/controls",
      "model_module_version": "1.5.0",
      "model_name": "ButtonStyleModel",
      "state": {}
     },
     "1c3af75d018b4823a43a0e2b4ffbce7a": {
      "model_module": "@jupyter-widgets/controls",
      "model_module_version": "1.5.0",
      "model_name": "SliderStyleModel",
      "state": {
       "description_width": ""
      }
     },
     "1c4bd16ae38f49ec8fcbea3466fe7727": {
      "model_module": "@jupyter-widgets/base",
      "model_module_version": "1.2.0",
      "model_name": "LayoutModel",
      "state": {}
     },
     "1c8668f46da640efb2c55d9dd2b053cf": {
      "model_module": "@jupyter-widgets/controls",
      "model_module_version": "1.5.0",
      "model_name": "ButtonStyleModel",
      "state": {}
     },
     "1ca3b14afa8d481193d45eb142d08211": {
      "model_module": "@jupyter-widgets/base",
      "model_module_version": "1.2.0",
      "model_name": "LayoutModel",
      "state": {}
     },
     "1cac56bc5e3343d1b48049eb592c4049": {
      "model_module": "@jupyter-widgets/controls",
      "model_module_version": "1.5.0",
      "model_name": "ButtonModel",
      "state": {
       "description": "Export Image",
       "layout": "IPY_MODEL_0a577064c1734456b4c9531a14a463d7",
       "style": "IPY_MODEL_dbc417ff83fd46bf92068916748f68ad"
      }
     },
     "1d208fdf3b11430c99c50b9fec9b0a79": {
      "model_module": "@jupyter-widgets/base",
      "model_module_version": "1.2.0",
      "model_name": "LayoutModel",
      "state": {
       "border": "solid 4px #222",
       "margin": "4px",
       "padding": "0"
      }
     },
     "1d68d91890fd4510b753289210328156": {
      "model_module": "@jupyter-widgets/base",
      "model_module_version": "1.2.0",
      "model_name": "LayoutModel",
      "state": {}
     },
     "1dede11c7c324229aabc32480e233666": {
      "model_module": "@jupyter-widgets/controls",
      "model_module_version": "1.5.0",
      "model_name": "ButtonModel",
      "state": {
       "description": "Export Image",
       "layout": "IPY_MODEL_5333e9605c334a30914b98c49adf87e8",
       "style": "IPY_MODEL_2c64b9df31c74898a832792ed728f56c"
      }
     },
     "1e5567c5b25a4a5f8b7ff37b0fb06327": {
      "model_module": "@jupyter-widgets/base",
      "model_module_version": "1.2.0",
      "model_name": "LayoutModel",
      "state": {}
     },
     "1e805be5ace145cfbaafc4a205e447cd": {
      "model_module": "@jupyter-widgets/controls",
      "model_module_version": "1.5.0",
      "model_name": "SliderStyleModel",
      "state": {
       "description_width": ""
      }
     },
     "1ef736a93f024a2e9e1b333d4d4eb2a6": {
      "model_module": "@jupyter-widgets/base",
      "model_module_version": "1.2.0",
      "model_name": "LayoutModel",
      "state": {}
     },
     "1f186215d078436b95a24343823eeb51": {
      "model_module": "@jupyter-widgets/base",
      "model_module_version": "1.2.0",
      "model_name": "LayoutModel",
      "state": {}
     },
     "1f1ce1d590854df09dfe4545dc47e8b5": {
      "model_module": "@jupyter-widgets/base",
      "model_module_version": "1.2.0",
      "model_name": "LayoutModel",
      "state": {}
     },
     "1f2320e4e8d3494d92ccc1d6e7607c59": {
      "model_module": "@jupyter-widgets/base",
      "model_module_version": "1.2.0",
      "model_name": "LayoutModel",
      "state": {
       "border": "solid 4px #222",
       "margin": "4px",
       "padding": "0"
      }
     },
     "1f3198e158a54bd6b3c30457baf4d682": {
      "model_module": "@jupyter-widgets/controls",
      "model_module_version": "1.5.0",
      "model_name": "HBoxModel",
      "state": {
       "children": [
        "IPY_MODEL_50270cdf621948a3ab63fcff712748a7",
        "IPY_MODEL_30a42c93900643f6ba2f1ea25cec5bce",
        "IPY_MODEL_8ba94ae7d2d4474f8b04015df0171f07",
        "IPY_MODEL_aa413ad36ce347ca9108e2079c5c846b"
       ],
       "layout": "IPY_MODEL_89650ae88ef44f238b1f0e1f30f3fbd1"
      }
     },
     "1f3530070f6049cda43a2e57d6b4a89f": {
      "model_module": "@jupyter-widgets/controls",
      "model_module_version": "1.5.0",
      "model_name": "ButtonModel",
      "state": {
       "description": "Save Figure",
       "layout": "IPY_MODEL_dfa33662b38a4be5aeb2396e1d73bc84",
       "style": "IPY_MODEL_7e2dd2682e334cb689f1d7ed133fbfc0"
      }
     },
     "1f3f1db0ce7540039ab3e57239f7a1e4": {
      "model_module": "@jupyter-widgets/controls",
      "model_module_version": "1.5.0",
      "model_name": "ButtonModel",
      "state": {
       "description": "Reset Compression Controls",
       "layout": "IPY_MODEL_91f70ba5d28341ad8a3b4103b18a8fa1",
       "style": "IPY_MODEL_66899302e0d346e38b1cdfaa57b81c67"
      }
     },
     "1fa815edcdec4f0c824c6402690b28cd": {
      "model_module": "@jupyter-widgets/controls",
      "model_module_version": "1.5.0",
      "model_name": "ButtonStyleModel",
      "state": {}
     },
     "20267a78e48646aaa245a7e7650f186c": {
      "model_module": "@jupyter-widgets/controls",
      "model_module_version": "1.5.0",
      "model_name": "CheckboxModel",
      "state": {
       "description": "Disable Medicina",
       "disabled": false,
       "layout": "IPY_MODEL_67793abe038b44619f4c927969ace869",
       "style": "IPY_MODEL_3b8b13201d0a465fb17dd1fbb7e667a1",
       "value": false
      }
     },
     "206be06b66da412789b1062c2f8ff050": {
      "model_module": "@jupyter-widgets/controls",
      "model_module_version": "1.5.0",
      "model_name": "HBoxModel",
      "state": {
       "children": [
        "IPY_MODEL_2f466ff7e9c147a4bfabb15b0476f1cd",
        "IPY_MODEL_af7a00c44ad042f7a536b7e851c0dbc8",
        "IPY_MODEL_a40fc90036b6408697c8f0c22bd740b8"
       ],
       "layout": "IPY_MODEL_b62ab698f6d64256a64e2e8c2aaee03d"
      }
     },
     "208365e8bbd1407ba80aa6c972f54a27": {
      "model_module": "@jupyter-widgets/controls",
      "model_module_version": "1.5.0",
      "model_name": "DescriptionStyleModel",
      "state": {
       "description_width": ""
      }
     },
     "20b17e85b052413db3b5030f0e6fa66e": {
      "model_module": "@jupyter-widgets/controls",
      "model_module_version": "1.5.0",
      "model_name": "ButtonStyleModel",
      "state": {}
     },
     "20ea4b26d75242dab0bf5e4b21aef8d1": {
      "model_module": "@jupyter-widgets/controls",
      "model_module_version": "1.5.0",
      "model_name": "ButtonModel",
      "state": {
       "description": "Reset Protected Area",
       "layout": "IPY_MODEL_4994ac3cfda34bddb52af52850959301",
       "style": "IPY_MODEL_c08923b8b3ad450b84c5758fabdb6227"
      }
     },
     "214c55a939f74f608815483e8f7687e3": {
      "model_module": "@jupyter-widgets/base",
      "model_module_version": "1.2.0",
      "model_name": "LayoutModel",
      "state": {
       "align_items": "stretch",
       "display": "flex",
       "flex_flow": "column",
       "width": "1128px"
      }
     },
     "21c952e35f2247cb9ff68bd420c3d1f7": {
      "model_module": "@jupyter-widgets/controls",
      "model_module_version": "1.5.0",
      "model_name": "HBoxModel",
      "state": {
       "children": [
        "IPY_MODEL_8b6706f15ba84a8f8a6ac68ec6c2daf0",
        "IPY_MODEL_2ce85df2978f4df1904da33c7827cf9b",
        "IPY_MODEL_c5b9a3e9527e4f3e9a3a18998bc1df66",
        "IPY_MODEL_c64a55affe2344269057c96a3debc38e"
       ],
       "layout": "IPY_MODEL_f0658cf0a2194c3ba9dde1ec689b6790"
      }
     },
     "22b15b9fec4b405c8e36c2d1f129ffdf": {
      "model_module": "@jupyter-widgets/base",
      "model_module_version": "1.2.0",
      "model_name": "LayoutModel",
      "state": {}
     },
     "22ce5f13a0e74d40b14e8bf3b4f50a50": {
      "model_module": "@jupyter-widgets/base",
      "model_module_version": "1.2.0",
      "model_name": "LayoutModel",
      "state": {}
     },
     "22e980d4a04a4516917512a66f199f42": {
      "model_module": "@jupyter-widgets/base",
      "model_module_version": "1.2.0",
      "model_name": "LayoutModel",
      "state": {
       "align_items": "stretch",
       "display": "flex",
       "flex_flow": "column",
       "width": "1128px"
      }
     },
     "22f4f71de2be4b18a4ca4be47e76897e": {
      "model_module": "@jupyter-widgets/controls",
      "model_module_version": "1.5.0",
      "model_name": "ButtonStyleModel",
      "state": {}
     },
     "233c576abd6f4f98ad3471026a6b33aa": {
      "model_module": "@jupyter-widgets/base",
      "model_module_version": "1.2.0",
      "model_name": "LayoutModel",
      "state": {}
     },
     "240b183724c44d0182304c52b5f81885": {
      "model_module": "@jupyter-widgets/base",
      "model_module_version": "1.2.0",
      "model_name": "LayoutModel",
      "state": {}
     },
     "2436c94955d74309bc91da16b4dc54f8": {
      "model_module": "@jupyter-widgets/base",
      "model_module_version": "1.2.0",
      "model_name": "LayoutModel",
      "state": {}
     },
     "24836252248c4e8d924eef1abb7cc2ac": {
      "model_module": "@jupyter-widgets/controls",
      "model_module_version": "1.5.0",
      "model_name": "TabModel",
      "state": {
       "_titles": {
        "0": "Global Controls",
        "1": "Protected Area Controls",
        "2": "Saturation Controls",
        "3": "Hue Controls"
       },
       "children": [
        "IPY_MODEL_206be06b66da412789b1062c2f8ff050",
        "IPY_MODEL_6176a309d3c94a2abab25ecd738fbdcb",
        "IPY_MODEL_730d6f042642448ab53d5c4a86c785c8",
        "IPY_MODEL_5b341ac7dff44b19b9ed451d5da4638d"
       ],
       "layout": "IPY_MODEL_586c855cb98d4578b4f0cec7004cf14d"
      }
     },
     "2495dd4fbfd346e7a4a208990592c8c9": {
      "model_module": "@jupyter-widgets/controls",
      "model_module_version": "1.5.0",
      "model_name": "BoxModel",
      "state": {
       "children": [
        "IPY_MODEL_4cdbc1ceae0f40d9827f8ddf91e74962",
        "IPY_MODEL_1a1a5894dd574306bab274a31714b2d9"
       ],
       "layout": "IPY_MODEL_8503d46696fe4de7a067f448d0f37bd7"
      }
     },
     "252a3a3008c947549be6a95ce2dc21dd": {
      "model_module": "@jupyter-widgets/base",
      "model_module_version": "1.2.0",
      "model_name": "LayoutModel",
      "state": {}
     },
     "253d9a0f924c4b3ab4167101d97a899e": {
      "model_module": "@jupyter-widgets/base",
      "model_module_version": "1.2.0",
      "model_name": "LayoutModel",
      "state": {}
     },
     "2549700045534eccb7fdd27f21e2055b": {
      "model_module": "@jupyter-widgets/controls",
      "model_module_version": "1.5.0",
      "model_name": "FloatSliderModel",
      "state": {
       "description": "270°",
       "layout": "IPY_MODEL_4751bbc2780f47a789f7ecd9219d3ba2",
       "max": 1,
       "min": -1,
       "step": 0.01,
       "style": "IPY_MODEL_2ef4fb1e61fa4902913b6850b30252d7"
      }
     },
     "25618a13194448c784f1a6d37df58db9": {
      "model_module": "@jupyter-widgets/controls",
      "model_module_version": "1.5.0",
      "model_name": "ButtonModel",
      "state": {
       "description": "Reset Protected Area",
       "layout": "IPY_MODEL_5be70d5dbd2c4c0ea90f06b0f8aac81d",
       "style": "IPY_MODEL_ead77cb00b074092a0e9db5f8fa04899"
      }
     },
     "2563d32a67ef476f8a07b3e3f4aaf9e0": {
      "model_module": "@jupyter-widgets/controls",
      "model_module_version": "1.5.0",
      "model_name": "FloatSliderModel",
      "state": {
       "description": "0°",
       "layout": "IPY_MODEL_b04dfe2578e04b3b86a34fe185642cc5",
       "max": 1,
       "min": -1,
       "step": 0.01,
       "style": "IPY_MODEL_cd0070482e16449fa2f9d9f56d435452"
      }
     },
     "25d2854dc54742bbbd365037918e206a": {
      "model_module": "@jupyter-widgets/controls",
      "model_module_version": "1.5.0",
      "model_name": "SliderStyleModel",
      "state": {
       "description_width": ""
      }
     },
     "25f2ced562f14ea7b8f2dc5db85e66d4": {
      "model_module": "@jupyter-widgets/controls",
      "model_module_version": "1.5.0",
      "model_name": "ButtonModel",
      "state": {
       "description": "Save Figure",
       "layout": "IPY_MODEL_253d9a0f924c4b3ab4167101d97a899e",
       "style": "IPY_MODEL_fb246c2c176b438788fa3e7891eafabd"
      }
     },
     "2652cd7fc46b41f6bed04b3be4ac6179": {
      "model_module": "@jupyter-widgets/controls",
      "model_module_version": "1.5.0",
      "model_name": "FloatSliderModel",
      "state": {
       "description": "135°",
       "layout": "IPY_MODEL_09a894a869cc440ba2e36f9323e5d839",
       "max": 1,
       "min": -1,
       "step": 0.01,
       "style": "IPY_MODEL_95580372fcd64e23ae2d9d8657b7720a"
      }
     },
     "265f276146b5422382936ebf99aae1f3": {
      "model_module": "@jupyter-widgets/controls",
      "model_module_version": "1.5.0",
      "model_name": "ButtonStyleModel",
      "state": {}
     },
     "276001baac61415c8355a03a03ed8ad2": {
      "model_module": "@jupyter-widgets/base",
      "model_module_version": "1.2.0",
      "model_name": "LayoutModel",
      "state": {}
     },
     "2784dd6bcff0419691050995691ab297": {
      "model_module": "@jupyter-widgets/controls",
      "model_module_version": "1.5.0",
      "model_name": "TabModel",
      "state": {
       "_titles": {
        "0": "Global Controls",
        "1": "Protected Area Controls",
        "2": "Saturation Controls",
        "3": "Hue Controls"
       },
       "children": [
        "IPY_MODEL_9b17984c314d4f3cb37dfed2541078a9",
        "IPY_MODEL_4786ae150c8748b588a33ea04b7644df",
        "IPY_MODEL_6822afc536c442ce82c58b82c46a0544",
        "IPY_MODEL_1f3198e158a54bd6b3c30457baf4d682"
       ],
       "layout": "IPY_MODEL_718e5324192a49a1b328549597502bef"
      }
     },
     "27c6a0a6950e4d31b33e46c6932cd8d3": {
      "model_module": "jupyter-matplotlib",
      "model_module_version": "^0.7.2",
      "model_name": "MPLCanvasModel",
      "state": {
       "_figure_label": "Figure 13",
       "_height": 396,
       "_width": 1100,
       "header_visible": false,
       "layout": "IPY_MODEL_c133f8fa0794419e9ecae51a68229a2c",
       "resizable": false,
       "toolbar": "IPY_MODEL_9d739675b7ce45c3bc22b3d2cc247a4d",
       "toolbar_position": "left",
       "toolbar_visible": false
      }
     },
     "286a7fdbdc8a4271ac9ce7534d027437": {
      "model_module": "@jupyter-widgets/controls",
      "model_module_version": "1.5.0",
      "model_name": "ButtonStyleModel",
      "state": {}
     },
     "28895bea73cf46a692858c7e775e0fbe": {
      "model_module": "@jupyter-widgets/controls",
      "model_module_version": "1.5.0",
      "model_name": "FloatSliderModel",
      "state": {
       "description": "Protected Area Threshold",
       "layout": "IPY_MODEL_3793d126301f4b569b7a65402af9b9c8",
       "max": 1,
       "step": 0.01,
       "style": "IPY_MODEL_f55d64bcdcfd427d800b18ca6e7146fb",
       "value": 0.7
      }
     },
     "28a1b56bccb4435c91d9d0c3ebed4dbe": {
      "model_module": "@jupyter-widgets/base",
      "model_module_version": "1.2.0",
      "model_name": "LayoutModel",
      "state": {}
     },
     "291e50b574004d23a8b429340a41bd80": {
      "model_module": "@jupyter-widgets/controls",
      "model_module_version": "1.5.0",
      "model_name": "VBoxModel",
      "state": {
       "children": [
        "IPY_MODEL_dd23299aa5cf4e35a41b5288657a4133"
       ],
       "layout": "IPY_MODEL_d130234df0b646e4b06c75747f6b067b"
      }
     },
     "293409cc2a324cef8f63b7ec07c87a28": {
      "model_module": "@jupyter-widgets/controls",
      "model_module_version": "1.5.0",
      "model_name": "SliderStyleModel",
      "state": {
       "description_width": ""
      }
     },
     "298c576e750048759c2dae379b6448d5": {
      "model_module": "@jupyter-widgets/base",
      "model_module_version": "1.2.0",
      "model_name": "LayoutModel",
      "state": {}
     },
     "299ee19f1a2c4b709ca97ea8ebdb6b38": {
      "model_module": "@jupyter-widgets/base",
      "model_module_version": "1.2.0",
      "model_name": "LayoutModel",
      "state": {
       "align_items": "stretch",
       "display": "flex",
       "flex_flow": "column",
       "width": "1128px"
      }
     },
     "29c22d005dfe4a15bf33e797722f3e07": {
      "model_module": "@jupyter-widgets/base",
      "model_module_version": "1.2.0",
      "model_name": "LayoutModel",
      "state": {
       "border": "solid 4px #222",
       "margin": "4px",
       "padding": "0"
      }
     },
     "29d120be8ebf49248f9d7fa2c06e1f3d": {
      "model_module": "@jupyter-widgets/controls",
      "model_module_version": "1.5.0",
      "model_name": "FloatSliderModel",
      "state": {
       "description": "180°",
       "layout": "IPY_MODEL_704c63e05ce94700a4cf3f25bb9b2959",
       "max": 1,
       "min": -1,
       "step": 0.01,
       "style": "IPY_MODEL_42bb1ff10d884b99a825a7239452c966"
      }
     },
     "29e788a2b0dc483da178eea09879d561": {
      "model_module": "@jupyter-widgets/controls",
      "model_module_version": "1.5.0",
      "model_name": "ButtonStyleModel",
      "state": {}
     },
     "2a2ce36aba2d46439367bff73c94f3a5": {
      "model_module": "@jupyter-widgets/controls",
      "model_module_version": "1.5.0",
      "model_name": "FloatSliderModel",
      "state": {
       "description": "135°",
       "layout": "IPY_MODEL_beaf0ba4fbaf44538981d127c48b4216",
       "max": 1,
       "min": -1,
       "step": 0.01,
       "style": "IPY_MODEL_25d2854dc54742bbbd365037918e206a"
      }
     },
     "2a62c576e4494c49828bd1c8614da555": {
      "model_module": "@jupyter-widgets/controls",
      "model_module_version": "1.5.0",
      "model_name": "BoxModel",
      "state": {
       "children": [
        "IPY_MODEL_6cf83adade094b08909e352e44cbfa0e",
        "IPY_MODEL_9ae7dfb472ba487da49804c55c0a1b93"
       ],
       "layout": "IPY_MODEL_2a8797272e8f4d5a8c43a83ceda2c60d"
      }
     },
     "2a6c54697fd6469eb3a4505eeacbc6cb": {
      "model_module": "@jupyter-widgets/controls",
      "model_module_version": "1.5.0",
      "model_name": "SliderStyleModel",
      "state": {
       "description_width": ""
      }
     },
     "2a6d9104a7854039b40c7c8c1863d156": {
      "model_module": "@jupyter-widgets/base",
      "model_module_version": "1.2.0",
      "model_name": "LayoutModel",
      "state": {}
     },
     "2a8797272e8f4d5a8c43a83ceda2c60d": {
      "model_module": "@jupyter-widgets/base",
      "model_module_version": "1.2.0",
      "model_name": "LayoutModel",
      "state": {
       "align_items": "stretch",
       "display": "flex",
       "flex_flow": "column",
       "width": "1128px"
      }
     },
     "2ab22669fcfa46338449194bd768da35": {
      "model_module": "@jupyter-widgets/controls",
      "model_module_version": "1.5.0",
      "model_name": "SliderStyleModel",
      "state": {
       "description_width": ""
      }
     },
     "2ad31f0a202d4630af2a38e466f0ffb6": {
      "model_module": "@jupyter-widgets/controls",
      "model_module_version": "1.5.0",
      "model_name": "SliderStyleModel",
      "state": {
       "description_width": ""
      }
     },
     "2b19c6e732554e47a1214f5a9af4a43a": {
      "model_module": "@jupyter-widgets/controls",
      "model_module_version": "1.5.0",
      "model_name": "FloatSliderModel",
      "state": {
       "description": "90°",
       "layout": "IPY_MODEL_317a6323ed6f4703a17a5b9c67b8a554",
       "max": 1,
       "min": -1,
       "step": 0.01,
       "style": "IPY_MODEL_5ee2420eca3943079140999b185ae734"
      }
     },
     "2b5017f3adea459a82c51f732f2429f6": {
      "model_module": "@jupyter-widgets/controls",
      "model_module_version": "1.5.0",
      "model_name": "VBoxModel",
      "state": {
       "children": [
        "IPY_MODEL_118b931d639f4829a697034ef6f61147",
        "IPY_MODEL_548f9263a6d440079761ca5d88a36127",
        "IPY_MODEL_452d9854a04e46d9aca221c6e2fd388e"
       ],
       "layout": "IPY_MODEL_655400e549804302ac76e2a3410e717b"
      }
     },
     "2b9e382213e94300a6f073d75fed4aea": {
      "model_module": "@jupyter-widgets/controls",
      "model_module_version": "1.5.0",
      "model_name": "SliderStyleModel",
      "state": {
       "description_width": ""
      }
     },
     "2c64b9df31c74898a832792ed728f56c": {
      "model_module": "@jupyter-widgets/controls",
      "model_module_version": "1.5.0",
      "model_name": "ButtonStyleModel",
      "state": {}
     },
     "2c73219fdd314531b68f365087640311": {
      "model_module": "@jupyter-widgets/controls",
      "model_module_version": "1.5.0",
      "model_name": "ButtonModel",
      "state": {
       "description": "Save Figure",
       "layout": "IPY_MODEL_b0125d841d9c4401ab781dbf74065b5f",
       "style": "IPY_MODEL_3355cba657c343cfb6fa502f016fef21"
      }
     },
     "2ca37a75821943e8ad28140c2141da82": {
      "model_module": "@jupyter-widgets/base",
      "model_module_version": "1.2.0",
      "model_name": "LayoutModel",
      "state": {}
     },
     "2cbffb93df0d4328a0d7650b52217e74": {
      "model_module": "@jupyter-widgets/controls",
      "model_module_version": "1.5.0",
      "model_name": "HBoxModel",
      "state": {
       "children": [
        "IPY_MODEL_4bd789f604e14efd9757ec473eae72de",
        "IPY_MODEL_8852eef29a0f48599bd637afa2325659"
       ],
       "layout": "IPY_MODEL_508acb0f944b49c8a074a1bf5d83e9b5"
      }
     },
     "2cc86cadd6494657ac935e9292d29f63": {
      "model_module": "@jupyter-widgets/base",
      "model_module_version": "1.2.0",
      "model_name": "LayoutModel",
      "state": {}
     },
     "2cd7b0afd82848b69a391ca70e8fee45": {
      "model_module": "@jupyter-widgets/base",
      "model_module_version": "1.2.0",
      "model_name": "LayoutModel",
      "state": {}
     },
     "2ce85df2978f4df1904da33c7827cf9b": {
      "model_module": "@jupyter-widgets/controls",
      "model_module_version": "1.5.0",
      "model_name": "VBoxModel",
      "state": {
       "children": [
        "IPY_MODEL_c1a546f359e24664ace280724d9ec6db",
        "IPY_MODEL_b11fbb01044349b7a3501192d24aa7a5",
        "IPY_MODEL_2b19c6e732554e47a1214f5a9af4a43a"
       ],
       "layout": "IPY_MODEL_7e420ac7ffba452c8468bda78c51d6da"
      }
     },
     "2d4377642d8443e48f35606cabd53f39": {
      "model_module": "@jupyter-widgets/base",
      "model_module_version": "1.2.0",
      "model_name": "LayoutModel",
      "state": {}
     },
     "2d9504f346e64ae48de1907edcf15201": {
      "model_module": "@jupyter-widgets/base",
      "model_module_version": "1.2.0",
      "model_name": "LayoutModel",
      "state": {}
     },
     "2db0e6cc269b4ae0a6de6ccfdb1254c5": {
      "model_module": "@jupyter-widgets/controls",
      "model_module_version": "1.5.0",
      "model_name": "HBoxModel",
      "state": {
       "children": [
        "IPY_MODEL_d0c523d0c55e4bd6b8eaff779b0e52be",
        "IPY_MODEL_70d3401b1d3e406c827f2607fab1f528"
       ],
       "layout": "IPY_MODEL_a56e807a599440418765626fedfc736a"
      }
     },
     "2e3d23c1848347c69b07c8fc807cc5b4": {
      "model_module": "@jupyter-widgets/base",
      "model_module_version": "1.2.0",
      "model_name": "LayoutModel",
      "state": {}
     },
     "2ef4fb1e61fa4902913b6850b30252d7": {
      "model_module": "@jupyter-widgets/controls",
      "model_module_version": "1.5.0",
      "model_name": "SliderStyleModel",
      "state": {
       "description_width": ""
      }
     },
     "2f12c74b883a418782b2fc718b16b7f6": {
      "model_module": "@jupyter-widgets/controls",
      "model_module_version": "1.5.0",
      "model_name": "ButtonModel",
      "state": {
       "description": "Export Image",
       "layout": "IPY_MODEL_12b1ec831f2f4634a25ec08899091861",
       "style": "IPY_MODEL_8446ba85500f426d986e18847ebe5785"
      }
     },
     "2f466ff7e9c147a4bfabb15b0476f1cd": {
      "model_module": "@jupyter-widgets/controls",
      "model_module_version": "1.5.0",
      "model_name": "CheckboxModel",
      "state": {
       "description": "Disable Medicina",
       "disabled": false,
       "layout": "IPY_MODEL_8c2867f653734f05950467d00f5c80f6",
       "style": "IPY_MODEL_e06ac18680604bf58f06635d034896d3",
       "value": false
      }
     },
     "2f97e62c2a0346d69463b6709baf80c6": {
      "model_module": "@jupyter-widgets/controls",
      "model_module_version": "1.5.0",
      "model_name": "SliderStyleModel",
      "state": {
       "description_width": ""
      }
     },
     "2faa5bccfaa64366887cc939c79b37ca": {
      "model_module": "@jupyter-widgets/controls",
      "model_module_version": "1.5.0",
      "model_name": "DescriptionStyleModel",
      "state": {
       "description_width": ""
      }
     },
     "2fd4dd9082a648b7b4487d79b50f8a79": {
      "model_module": "@jupyter-widgets/base",
      "model_module_version": "1.2.0",
      "model_name": "LayoutModel",
      "state": {}
     },
     "300e8bc694274ec5a7a4afa88f5e3966": {
      "model_module": "@jupyter-widgets/base",
      "model_module_version": "1.2.0",
      "model_name": "LayoutModel",
      "state": {}
     },
     "30677c83cf6a4b74b99dfdf18cf7f6f1": {
      "model_module": "@jupyter-widgets/controls",
      "model_module_version": "1.5.0",
      "model_name": "SliderStyleModel",
      "state": {
       "description_width": ""
      }
     },
     "3078153c71b448a49e75a6cf70c34eab": {
      "model_module": "@jupyter-widgets/base",
      "model_module_version": "1.2.0",
      "model_name": "LayoutModel",
      "state": {}
     },
     "30887ca84f914cac954ba3098cf9046d": {
      "model_module": "@jupyter-widgets/controls",
      "model_module_version": "1.5.0",
      "model_name": "SliderStyleModel",
      "state": {
       "description_width": ""
      }
     },
     "30a42c93900643f6ba2f1ea25cec5bce": {
      "model_module": "@jupyter-widgets/controls",
      "model_module_version": "1.5.0",
      "model_name": "VBoxModel",
      "state": {
       "children": [
        "IPY_MODEL_a1fa711403fa4811b99c267b46577773",
        "IPY_MODEL_66ce063342194081bd785d88d322c3de",
        "IPY_MODEL_4b32450eab524a7d8046a278441ab812"
       ],
       "layout": "IPY_MODEL_624f105e2ca24d6da299833881bb19ed"
      }
     },
     "30cb6137d3be434dbbcfb449c4e52b3a": {
      "model_module": "@jupyter-widgets/controls",
      "model_module_version": "1.5.0",
      "model_name": "FloatSliderModel",
      "state": {
       "description": "315°",
       "layout": "IPY_MODEL_0e6860731e1443519d85272478f949e2",
       "max": 1,
       "min": -1,
       "step": 0.01,
       "style": "IPY_MODEL_af58d00b5acf45a78eeb374dea4660e5"
      }
     },
     "30fe74b9aef64266bd6494d57c26de46": {
      "model_module": "@jupyter-widgets/base",
      "model_module_version": "1.2.0",
      "model_name": "LayoutModel",
      "state": {}
     },
     "31166ec0a03244b3a5495b13f7447560": {
      "model_module": "@jupyter-widgets/base",
      "model_module_version": "1.2.0",
      "model_name": "LayoutModel",
      "state": {}
     },
     "317a6323ed6f4703a17a5b9c67b8a554": {
      "model_module": "@jupyter-widgets/base",
      "model_module_version": "1.2.0",
      "model_name": "LayoutModel",
      "state": {}
     },
     "321ca8a07b404a8a9250e94136057275": {
      "model_module": "@jupyter-widgets/controls",
      "model_module_version": "1.5.0",
      "model_name": "FloatSliderModel",
      "state": {
       "description": "45°",
       "layout": "IPY_MODEL_a8058b1788fe4592b2a427feddc28b3f",
       "max": 1,
       "min": -1,
       "step": 0.01,
       "style": "IPY_MODEL_3291648938a14327a68309ff0570368b"
      }
     },
     "3241c2a366dc400fb49d34228ac2c58b": {
      "model_module": "@jupyter-widgets/controls",
      "model_module_version": "1.5.0",
      "model_name": "SliderStyleModel",
      "state": {
       "description_width": ""
      }
     },
     "324bd3a9ae6f48a5a850fc7194a0b998": {
      "model_module": "@jupyter-widgets/controls",
      "model_module_version": "1.5.0",
      "model_name": "ButtonStyleModel",
      "state": {}
     },
     "327db297e5e34bf286a1aed8d09f50d5": {
      "model_module": "@jupyter-widgets/base",
      "model_module_version": "1.2.0",
      "model_name": "LayoutModel",
      "state": {}
     },
     "3291648938a14327a68309ff0570368b": {
      "model_module": "@jupyter-widgets/controls",
      "model_module_version": "1.5.0",
      "model_name": "SliderStyleModel",
      "state": {
       "description_width": ""
      }
     },
     "3299c425552d44049be3853cd1428d08": {
      "model_module": "@jupyter-widgets/base",
      "model_module_version": "1.2.0",
      "model_name": "LayoutModel",
      "state": {}
     },
     "32b46affecc14078a91025ce1c1cefb2": {
      "model_module": "@jupyter-widgets/controls",
      "model_module_version": "1.5.0",
      "model_name": "FloatSliderModel",
      "state": {
       "description": "225°",
       "layout": "IPY_MODEL_efdd6e370f6c4d3d93d41e16731d65f6",
       "max": 1,
       "min": -1,
       "step": 0.01,
       "style": "IPY_MODEL_1c3af75d018b4823a43a0e2b4ffbce7a"
      }
     },
     "32d93790666d4b89bb89e0e6905f90f0": {
      "model_module": "@jupyter-widgets/controls",
      "model_module_version": "1.5.0",
      "model_name": "VBoxModel",
      "state": {
       "children": [
        "IPY_MODEL_83be26a7dc9740c888e76a1b472eecc8"
       ],
       "layout": "IPY_MODEL_16070b53965248328e5688ecb6d2f3cb"
      }
     },
     "33448dde56014cda9783c0f61c3c5810": {
      "model_module": "@jupyter-widgets/controls",
      "model_module_version": "1.5.0",
      "model_name": "ButtonStyleModel",
      "state": {}
     },
     "3355cba657c343cfb6fa502f016fef21": {
      "model_module": "@jupyter-widgets/controls",
      "model_module_version": "1.5.0",
      "model_name": "ButtonStyleModel",
      "state": {}
     },
     "33f5d4955d3b43ad912364a44f57e5d5": {
      "model_module": "jupyter-matplotlib",
      "model_module_version": "^0.7.2",
      "model_name": "MPLCanvasModel",
      "state": {
       "_figure_label": "Figure 17",
       "_height": 550,
       "_width": 1100,
       "header_visible": false,
       "layout": "IPY_MODEL_e4f04bf2ddf245db90532eddd0ca8ad5",
       "resizable": false,
       "toolbar": "IPY_MODEL_b14af6a559af4dfa824c30e61c2f9074",
       "toolbar_position": "left",
       "toolbar_visible": false
      }
     },
     "33fccc84c26f4a9a9fa69930eea8911f": {
      "model_module": "@jupyter-widgets/controls",
      "model_module_version": "1.5.0",
      "model_name": "SliderStyleModel",
      "state": {
       "description_width": ""
      }
     },
     "34b4da2fb948412faeff2b32c09d84d7": {
      "model_module": "@jupyter-widgets/controls",
      "model_module_version": "1.5.0",
      "model_name": "ButtonStyleModel",
      "state": {}
     },
     "3550fe4ca10c44569ab62defcc9cf3d2": {
      "model_module": "@jupyter-widgets/controls",
      "model_module_version": "1.5.0",
      "model_name": "FloatSliderModel",
      "state": {
       "description": "45°",
       "layout": "IPY_MODEL_6c97b8460ce44a73aa1f6520f0a0d95d",
       "max": 1,
       "min": -1,
       "step": 0.01,
       "style": "IPY_MODEL_40c50617a8e44946bf6fd360ac1afd62"
      }
     },
     "35be5825720c44bab96c12547471fab5": {
      "model_module": "@jupyter-widgets/base",
      "model_module_version": "1.2.0",
      "model_name": "LayoutModel",
      "state": {
       "border": "solid 4px #222",
       "margin": "4px",
       "padding": "0"
      }
     },
     "35d7b66b94fc43af8b7a629b3a878480": {
      "model_module": "@jupyter-widgets/controls",
      "model_module_version": "1.5.0",
      "model_name": "FloatSliderModel",
      "state": {
       "description": "90°",
       "layout": "IPY_MODEL_e775ae7a731e47a5bd5817d1757d4461",
       "max": 1,
       "min": -1,
       "step": 0.01,
       "style": "IPY_MODEL_7142d4c2345a4b9c81cd7d57af439670"
      }
     },
     "35f8e17c999c484984256cbce6daff96": {
      "model_module": "@jupyter-widgets/base",
      "model_module_version": "1.2.0",
      "model_name": "LayoutModel",
      "state": {
       "border": "solid 4px #222",
       "margin": "4px",
       "padding": "0"
      }
     },
     "3673d26f7bd749179438bbbb51a7c4ba": {
      "model_module": "@jupyter-widgets/controls",
      "model_module_version": "1.5.0",
      "model_name": "DescriptionStyleModel",
      "state": {
       "description_width": ""
      }
     },
     "368d340c45984a558cdea385a9ded846": {
      "model_module": "@jupyter-widgets/base",
      "model_module_version": "1.2.0",
      "model_name": "LayoutModel",
      "state": {}
     },
     "37384dfc74b545edada9199c472701d6": {
      "model_module": "@jupyter-widgets/controls",
      "model_module_version": "1.5.0",
      "model_name": "HBoxModel",
      "state": {
       "children": [
        "IPY_MODEL_e8fba03ca2784908b5130d55dc30b956",
        "IPY_MODEL_c0498d56fcc94d069a33930ff3936177",
        "IPY_MODEL_b18864d878b1452e9455d4094d951917",
        "IPY_MODEL_d2a62b3699af49898cb01cb86e9df2d7"
       ],
       "layout": "IPY_MODEL_76349c4887fd4a62b57c6d19c8ea5f4a"
      }
     },
     "3782ea32f34c446e9660c90854c46958": {
      "model_module": "@jupyter-widgets/output",
      "model_module_version": "1.0.0",
      "model_name": "OutputModel",
      "state": {
       "layout": "IPY_MODEL_e63ed7902ddb4c14ba7bec8b1b4a178f",
       "outputs": [
        {
         "data": {
          "application/vnd.jupyter.widget-view+json": {
           "model_id": "74d2acd831d64f13bfccbab8e1034435",
           "version_major": 2,
           "version_minor": 0
          },
          "text/plain": "Canvas(toolbar=Toolbar(toolitems=[('Home', 'Reset original view', 'home', 'home'), ('Back', 'Back to previous …"
         },
         "metadata": {},
         "output_type": "display_data"
        }
       ]
      }
     },
     "3793d126301f4b569b7a65402af9b9c8": {
      "model_module": "@jupyter-widgets/base",
      "model_module_version": "1.2.0",
      "model_name": "LayoutModel",
      "state": {}
     },
     "37e3e808796d4584a1e43df92be1300e": {
      "model_module": "@jupyter-widgets/base",
      "model_module_version": "1.2.0",
      "model_name": "LayoutModel",
      "state": {}
     },
     "389361fce7c0450f8f207775be10b9a6": {
      "model_module": "@jupyter-widgets/controls",
      "model_module_version": "1.5.0",
      "model_name": "SliderStyleModel",
      "state": {
       "description_width": ""
      }
     },
     "38f17bb5516a44d5969bb04b23fbab52": {
      "model_module": "@jupyter-widgets/controls",
      "model_module_version": "1.5.0",
      "model_name": "HBoxModel",
      "state": {
       "children": [
        "IPY_MODEL_d379465cba114c7fbc7f0a964dd8bd9c",
        "IPY_MODEL_3d136dcb24434295a3127013845acd67",
        "IPY_MODEL_dd73bb2d82224556b2a9c884e048e682"
       ],
       "layout": "IPY_MODEL_3e420f4ad3ab4697a145874dd0065f39"
      }
     },
     "39ade0d7e65a485684a3363027192597": {
      "model_module": "@jupyter-widgets/base",
      "model_module_version": "1.2.0",
      "model_name": "LayoutModel",
      "state": {}
     },
     "3a5e3175e5dd45e09574d8a36bd97e3f": {
      "model_module": "@jupyter-widgets/controls",
      "model_module_version": "1.5.0",
      "model_name": "TabModel",
      "state": {
       "_titles": {
        "0": "Global Controls",
        "1": "Protected Area Controls",
        "2": "Saturation Controls",
        "3": "Hue Controls"
       },
       "children": [
        "IPY_MODEL_a0848dfea41c4de4b3ce54eaa000a72a",
        "IPY_MODEL_722ee57b2e9f48b086ba36a780de0acf",
        "IPY_MODEL_a32e19f3cbc64d88971539efff4fd0f3",
        "IPY_MODEL_21c952e35f2247cb9ff68bd420c3d1f7"
       ],
       "layout": "IPY_MODEL_a12947857b2b418ea2b49ddf8cb0a156"
      }
     },
     "3abc3502934246ddad1aed8a0447d434": {
      "model_module": "@jupyter-widgets/controls",
      "model_module_version": "1.5.0",
      "model_name": "ButtonModel",
      "state": {
       "description": "Export Image",
       "layout": "IPY_MODEL_300e8bc694274ec5a7a4afa88f5e3966",
       "style": "IPY_MODEL_f3f39a9eb49946489e40f7c7f1f34514"
      }
     },
     "3b8b13201d0a465fb17dd1fbb7e667a1": {
      "model_module": "@jupyter-widgets/controls",
      "model_module_version": "1.5.0",
      "model_name": "DescriptionStyleModel",
      "state": {
       "description_width": ""
      }
     },
     "3c38c86c11914e5990bafeadefa6dcf5": {
      "model_module": "@jupyter-widgets/controls",
      "model_module_version": "1.5.0",
      "model_name": "HBoxModel",
      "state": {
       "children": [
        "IPY_MODEL_ade7b631641c418596fd263fa93e6364",
        "IPY_MODEL_3f2219ffd15f453b86441393173c2d61",
        "IPY_MODEL_25f2ced562f14ea7b8f2dc5db85e66d4"
       ],
       "layout": "IPY_MODEL_1c4bd16ae38f49ec8fcbea3466fe7727"
      }
     },
     "3ca5ea73d54e442c8365aaa6d09c8c23": {
      "model_module": "@jupyter-widgets/base",
      "model_module_version": "1.2.0",
      "model_name": "LayoutModel",
      "state": {}
     },
     "3cfc02538d3847809dda6b5e65591b2a": {
      "model_module": "@jupyter-widgets/controls",
      "model_module_version": "1.5.0",
      "model_name": "FloatSliderModel",
      "state": {
       "description": "270°",
       "layout": "IPY_MODEL_b00e1ef537cb49cdb22e9560a0f98f1f",
       "max": 1,
       "min": -1,
       "step": 0.01,
       "style": "IPY_MODEL_2ab22669fcfa46338449194bd768da35"
      }
     },
     "3d136dcb24434295a3127013845acd67": {
      "model_module": "@jupyter-widgets/controls",
      "model_module_version": "1.5.0",
      "model_name": "ButtonModel",
      "state": {
       "description": "Export Image",
       "layout": "IPY_MODEL_d19d35c820c7443a8bb1090961b72fb8",
       "style": "IPY_MODEL_706040b0dacd4efeb7a3c282f17419cb"
      }
     },
     "3d22eb5fc21845e6b4bca9daf7f5573d": {
      "model_module": "@jupyter-widgets/controls",
      "model_module_version": "1.5.0",
      "model_name": "FloatSliderModel",
      "state": {
       "description": "315°",
       "layout": "IPY_MODEL_8536744a19b34d62bdc5c6fd51d48240",
       "max": 1,
       "min": -1,
       "step": 0.01,
       "style": "IPY_MODEL_6e20e2004d274279a45634d9379123f2"
      }
     },
     "3d6ed6d7da36459dbf308eac1970c16f": {
      "model_module": "@jupyter-widgets/base",
      "model_module_version": "1.2.0",
      "model_name": "LayoutModel",
      "state": {}
     },
     "3d9c7f4ec2314d0398039056a3ebe476": {
      "model_module": "@jupyter-widgets/base",
      "model_module_version": "1.2.0",
      "model_name": "LayoutModel",
      "state": {}
     },
     "3dae8b299f844c6e9db1d91f3f61edc8": {
      "model_module": "@jupyter-widgets/base",
      "model_module_version": "1.2.0",
      "model_name": "LayoutModel",
      "state": {}
     },
     "3e420f4ad3ab4697a145874dd0065f39": {
      "model_module": "@jupyter-widgets/base",
      "model_module_version": "1.2.0",
      "model_name": "LayoutModel",
      "state": {}
     },
     "3e7024415d484a578f666ffbcb0dd6bd": {
      "model_module": "@jupyter-widgets/controls",
      "model_module_version": "1.5.0",
      "model_name": "BoxModel",
      "state": {
       "children": [
        "IPY_MODEL_8052e96c438649fa80956dded9113a80",
        "IPY_MODEL_41c89ae7d792405facbf21376e37b2bd"
       ],
       "layout": "IPY_MODEL_299ee19f1a2c4b709ca97ea8ebdb6b38"
      }
     },
     "3e9bf0d324a9438a8b4398551aed1372": {
      "model_module": "@jupyter-widgets/output",
      "model_module_version": "1.0.0",
      "model_name": "OutputModel",
      "state": {
       "layout": "IPY_MODEL_093ee25af4b64d5599667fbd0b15062c",
       "outputs": [
        {
         "data": {
          "application/vnd.jupyter.widget-view+json": {
           "model_id": "27c6a0a6950e4d31b33e46c6932cd8d3",
           "version_major": 2,
           "version_minor": 0
          },
          "text/plain": "Canvas(toolbar=Toolbar(toolitems=[('Home', 'Reset original view', 'home', 'home'), ('Back', 'Back to previous …"
         },
         "metadata": {},
         "output_type": "display_data"
        }
       ]
      }
     },
     "3ef4b688707046b189169a5f178a570c": {
      "model_module": "@jupyter-widgets/controls",
      "model_module_version": "1.5.0",
      "model_name": "ButtonStyleModel",
      "state": {}
     },
     "3f2219ffd15f453b86441393173c2d61": {
      "model_module": "@jupyter-widgets/controls",
      "model_module_version": "1.5.0",
      "model_name": "ButtonModel",
      "state": {
       "description": "Export Image",
       "layout": "IPY_MODEL_42f21b4aeb9f4e0bb2b5b0a4051f1af5",
       "style": "IPY_MODEL_7783eb3f332f4101ac3af3eb98d210cb"
      }
     },
     "3f9ae4f891214361b49569af4d45b2df": {
      "model_module": "@jupyter-widgets/controls",
      "model_module_version": "1.5.0",
      "model_name": "SliderStyleModel",
      "state": {
       "description_width": ""
      }
     },
     "3fa553d6f4ba4ad18b2805029e47b8ac": {
      "model_module": "@jupyter-widgets/controls",
      "model_module_version": "1.5.0",
      "model_name": "HBoxModel",
      "state": {
       "children": [
        "IPY_MODEL_04b5d9107ea7474baf363fe9584cc360",
        "IPY_MODEL_d513563a3e07487b889cb2e2da774226"
       ],
       "layout": "IPY_MODEL_6bc19a46404f4cb0ab14da01f9c07e3a"
      }
     },
     "40224a18d6b84d549a016895fa9fd2fe": {
      "model_module": "@jupyter-widgets/controls",
      "model_module_version": "1.5.0",
      "model_name": "BoxModel",
      "state": {
       "children": [
        "IPY_MODEL_5ec7dd353b4141dfb5eca02be7fd2900",
        "IPY_MODEL_eacff4d264774e0eb418bacf7b54b1f6"
       ],
       "layout": "IPY_MODEL_214c55a939f74f608815483e8f7687e3"
      }
     },
     "40c50617a8e44946bf6fd360ac1afd62": {
      "model_module": "@jupyter-widgets/controls",
      "model_module_version": "1.5.0",
      "model_name": "SliderStyleModel",
      "state": {
       "description_width": ""
      }
     },
     "41284a78b3d847839ea85dc540a196bc": {
      "model_module": "@jupyter-widgets/controls",
      "model_module_version": "1.5.0",
      "model_name": "ButtonStyleModel",
      "state": {}
     },
     "413ae57186e840b0a361ca5e9f8a6db5": {
      "model_module": "@jupyter-widgets/controls",
      "model_module_version": "1.5.0",
      "model_name": "FloatSliderModel",
      "state": {
       "description": "Compression Threshold",
       "layout": "IPY_MODEL_74ac0cb2988c440db798010c938fec91",
       "max": 1,
       "step": 0.01,
       "style": "IPY_MODEL_43ee73e8c85a43839d8d147d81d93c3f",
       "value": 0.8
      }
     },
     "415b28b99712456aa7840cec29d6da5d": {
      "model_module": "@jupyter-widgets/base",
      "model_module_version": "1.2.0",
      "model_name": "LayoutModel",
      "state": {}
     },
     "416c0c888a26416982759699f3ebf0f0": {
      "model_module": "@jupyter-widgets/base",
      "model_module_version": "1.2.0",
      "model_name": "LayoutModel",
      "state": {}
     },
     "4188a0b2fbe84e6e92d7bc7748889b14": {
      "model_module": "@jupyter-widgets/controls",
      "model_module_version": "1.5.0",
      "model_name": "ButtonModel",
      "state": {
       "description": "Reset Hue Controls",
       "layout": "IPY_MODEL_d436211012c34e3b8efd8f39887474ce",
       "style": "IPY_MODEL_6661fdfdbd7445bfa20146b2afa0fa17"
      }
     },
     "41aad46ca1e345f18d3220624e7cd7f5": {
      "model_module": "@jupyter-widgets/controls",
      "model_module_version": "1.5.0",
      "model_name": "ButtonStyleModel",
      "state": {}
     },
     "41abda6efda94da087ea17749cebbadb": {
      "model_module": "@jupyter-widgets/controls",
      "model_module_version": "1.5.0",
      "model_name": "ButtonModel",
      "state": {
       "description": "Export Image",
       "layout": "IPY_MODEL_f44602f5aecb4ba5b7bb3963adfdc851",
       "style": "IPY_MODEL_ce52aab05c284bdaa3a81934ad234a36"
      }
     },
     "41c89ae7d792405facbf21376e37b2bd": {
      "model_module": "@jupyter-widgets/controls",
      "model_module_version": "1.5.0",
      "model_name": "TabModel",
      "state": {
       "_titles": {
        "0": "Global Controls",
        "1": "Protected Area Controls",
        "2": "Saturation Controls",
        "3": "Hue Controls"
       },
       "children": [
        "IPY_MODEL_cbffe1077dc941738fd8a4e17c1d4a19",
        "IPY_MODEL_9676b9b8aa6245138a5e3dc6bd5ac1c2",
        "IPY_MODEL_d4de07aee2a34712983a03af2a5e0e51",
        "IPY_MODEL_cb386d2f688647738996f8f4005233b8"
       ],
       "layout": "IPY_MODEL_35f8e17c999c484984256cbce6daff96"
      }
     },
     "41c91746f9384a8395a0001c2e4e9901": {
      "model_module": "@jupyter-widgets/base",
      "model_module_version": "1.2.0",
      "model_name": "LayoutModel",
      "state": {
       "border": "solid 4px #222",
       "margin": "4px",
       "padding": "0"
      }
     },
     "41e894c69e04446784e4926795f71855": {
      "model_module": "@jupyter-widgets/controls",
      "model_module_version": "1.5.0",
      "model_name": "FloatSliderModel",
      "state": {
       "description": "0°",
       "layout": "IPY_MODEL_416c0c888a26416982759699f3ebf0f0",
       "max": 1,
       "min": -1,
       "step": 0.01,
       "style": "IPY_MODEL_a4b80e9f8aa343549e47981979a01fd9"
      }
     },
     "4204f8db74fb4677a00f881a1f74f104": {
      "model_module": "@jupyter-widgets/base",
      "model_module_version": "1.2.0",
      "model_name": "LayoutModel",
      "state": {}
     },
     "420b2248bbf04836a14d6f5309820ddd": {
      "model_module": "@jupyter-widgets/base",
      "model_module_version": "1.2.0",
      "model_name": "LayoutModel",
      "state": {}
     },
     "42397bdf6bb046b08d79e95fda89ed03": {
      "model_module": "@jupyter-widgets/base",
      "model_module_version": "1.2.0",
      "model_name": "LayoutModel",
      "state": {}
     },
     "426ba1cbf6084b49aec6abde108668a6": {
      "model_module": "@jupyter-widgets/base",
      "model_module_version": "1.2.0",
      "model_name": "LayoutModel",
      "state": {}
     },
     "42b60bd125dc44fdb824f46fd1438436": {
      "model_module": "@jupyter-widgets/base",
      "model_module_version": "1.2.0",
      "model_name": "LayoutModel",
      "state": {}
     },
     "42bb1ff10d884b99a825a7239452c966": {
      "model_module": "@jupyter-widgets/controls",
      "model_module_version": "1.5.0",
      "model_name": "SliderStyleModel",
      "state": {
       "description_width": ""
      }
     },
     "42f21b4aeb9f4e0bb2b5b0a4051f1af5": {
      "model_module": "@jupyter-widgets/base",
      "model_module_version": "1.2.0",
      "model_name": "LayoutModel",
      "state": {}
     },
     "435a5dbcfdbc4a52907706232b8cc5b4": {
      "model_module": "@jupyter-widgets/base",
      "model_module_version": "1.2.0",
      "model_name": "LayoutModel",
      "state": {}
     },
     "435ff057bbda4f75babf2b0c73799067": {
      "model_module": "@jupyter-widgets/base",
      "model_module_version": "1.2.0",
      "model_name": "LayoutModel",
      "state": {}
     },
     "43988343aa4340cab702e5cedaae2cb2": {
      "model_module": "@jupyter-widgets/base",
      "model_module_version": "1.2.0",
      "model_name": "LayoutModel",
      "state": {}
     },
     "43ac3fa621c5451e8c14961f5c67d613": {
      "model_module": "@jupyter-widgets/base",
      "model_module_version": "1.2.0",
      "model_name": "LayoutModel",
      "state": {
       "align_items": "stretch",
       "display": "flex",
       "flex_flow": "column",
       "width": "1128px"
      }
     },
     "43bb0ef06f524b6ab32e5cac483b29f4": {
      "model_module": "@jupyter-widgets/controls",
      "model_module_version": "1.5.0",
      "model_name": "FloatSliderModel",
      "state": {
       "description": "270°",
       "layout": "IPY_MODEL_735e3f18cabc4ab18429d5b8719a0615",
       "max": 1,
       "min": -1,
       "step": 0.01,
       "style": "IPY_MODEL_10b8dcf921384ff0926c4bd51e5696ad"
      }
     },
     "43e137a7c7e94bfca96949ad6729c245": {
      "model_module": "jupyter-matplotlib",
      "model_module_version": "^0.7.2",
      "model_name": "ToolbarModel",
      "state": {
       "layout": "IPY_MODEL_0a69d32068de4b28be17e41d66efb8eb",
       "toolitems": [
        [
         "Home",
         "Reset original view",
         "home",
         "home"
        ],
        [
         "Back",
         "Back to previous view",
         "arrow-left",
         "back"
        ],
        [
         "Forward",
         "Forward to next view",
         "arrow-right",
         "forward"
        ],
        [
         "Pan",
         "Pan axes with left mouse, zoom with right",
         "arrows",
         "pan"
        ],
        [
         "Zoom",
         "Zoom to rectangle",
         "square-o",
         "zoom"
        ],
        [
         "Download",
         "Download plot",
         "floppy-o",
         "save_figure"
        ]
       ]
      }
     },
     "43ee73e8c85a43839d8d147d81d93c3f": {
      "model_module": "@jupyter-widgets/controls",
      "model_module_version": "1.5.0",
      "model_name": "SliderStyleModel",
      "state": {
       "description_width": ""
      }
     },
     "4404689a2f7145039df2f97e4314dd40": {
      "model_module": "@jupyter-widgets/base",
      "model_module_version": "1.2.0",
      "model_name": "LayoutModel",
      "state": {}
     },
     "441c9c20868a428894b90647c908ba4e": {
      "model_module": "@jupyter-widgets/controls",
      "model_module_version": "1.5.0",
      "model_name": "TabModel",
      "state": {
       "_titles": {
        "0": "Global Controls"
       },
       "children": [
        "IPY_MODEL_ece1d2cd6373437da97b5c6efffe014a"
       ],
       "layout": "IPY_MODEL_d12edbf344164372b9e52deb11349f51"
      }
     },
     "44c11adff5a643b6a8d2fd38b7ce55a1": {
      "model_module": "@jupyter-widgets/controls",
      "model_module_version": "1.5.0",
      "model_name": "ButtonStyleModel",
      "state": {}
     },
     "44e98b1c0b284561b7671666536f3808": {
      "model_module": "@jupyter-widgets/controls",
      "model_module_version": "1.5.0",
      "model_name": "VBoxModel",
      "state": {
       "children": [
        "IPY_MODEL_2563d32a67ef476f8a07b3e3f4aaf9e0",
        "IPY_MODEL_baf97c88a6c94bddb6630e29537cdb1a",
        "IPY_MODEL_f5a4d08618884359b3b3f93d25242886"
       ],
       "layout": "IPY_MODEL_42b60bd125dc44fdb824f46fd1438436"
      }
     },
     "44ec32b75732465db9057dd677f373ca": {
      "model_module": "@jupyter-widgets/controls",
      "model_module_version": "1.5.0",
      "model_name": "ButtonModel",
      "state": {
       "description": "Export Image",
       "layout": "IPY_MODEL_a1a58a7e50e84865844957d0b974b867",
       "style": "IPY_MODEL_e5133417d5f54aa28aa435e3e05560a0"
      }
     },
     "44f50b2be61240d7ae94cec48e0647e2": {
      "model_module": "@jupyter-widgets/base",
      "model_module_version": "1.2.0",
      "model_name": "LayoutModel",
      "state": {}
     },
     "452d9854a04e46d9aca221c6e2fd388e": {
      "model_module": "@jupyter-widgets/controls",
      "model_module_version": "1.5.0",
      "model_name": "FloatSliderModel",
      "state": {
       "description": "90°",
       "layout": "IPY_MODEL_736f707a20c14182bb34dd081a8b7ab7",
       "max": 1,
       "min": -1,
       "step": 0.01,
       "style": "IPY_MODEL_58fd81b3f7d64b90ba9941772e517a6b"
      }
     },
     "458884f06d964b99b9a2628948e9b439": {
      "model_module": "@jupyter-widgets/controls",
      "model_module_version": "1.5.0",
      "model_name": "FloatSliderModel",
      "state": {
       "description": "180°",
       "layout": "IPY_MODEL_eb8c680c59684750a5829c7a52dcee1a",
       "max": 1,
       "min": -1,
       "step": 0.01,
       "style": "IPY_MODEL_9d74ad36aa1148e084c2b48d986c3608"
      }
     },
     "45ff770423694a5abe1e941a7aea1727": {
      "model_module": "@jupyter-widgets/base",
      "model_module_version": "1.2.0",
      "model_name": "LayoutModel",
      "state": {}
     },
     "460bd53825f740bbaf6f69c40cc22bf9": {
      "model_module": "@jupyter-widgets/controls",
      "model_module_version": "1.5.0",
      "model_name": "HBoxModel",
      "state": {
       "children": [
        "IPY_MODEL_ce91b86fe71c4bd1808b23356328469a",
        "IPY_MODEL_d59422fd04424e6f8f59e755440e5506",
        "IPY_MODEL_f715bde52bfc4939b8159c985bb47c3d",
        "IPY_MODEL_c136149597934c2880229da5ef2d6f85"
       ],
       "layout": "IPY_MODEL_0b18653aea824917969b2d9f6910b277"
      }
     },
     "4647acfbfa5f45b88cdd8f01cc5cd46c": {
      "model_module": "@jupyter-widgets/controls",
      "model_module_version": "1.5.0",
      "model_name": "HBoxModel",
      "state": {
       "children": [
        "IPY_MODEL_619473e440be450db181d206b6bbdf70",
        "IPY_MODEL_4e780cfd4ea7462c92d8e293f7855feb",
        "IPY_MODEL_e0d49870bcfe46fda10c32a236e515f6",
        "IPY_MODEL_59b1ea69e3224b33abfcc462bfd92857"
       ],
       "layout": "IPY_MODEL_5516881e4c3941eaaf8211f6e5d30489"
      }
     },
     "464b94d75f4f4d669f8967df68f4ec1d": {
      "model_module": "@jupyter-widgets/controls",
      "model_module_version": "1.5.0",
      "model_name": "ButtonModel",
      "state": {
       "description": "Save Figure",
       "layout": "IPY_MODEL_1e5567c5b25a4a5f8b7ff37b0fb06327",
       "style": "IPY_MODEL_bff91c2b01c64b459d5799f06a9a8efa"
      }
     },
     "464e323abddd4d5dbd5f1f8b851773d1": {
      "model_module": "@jupyter-widgets/base",
      "model_module_version": "1.2.0",
      "model_name": "LayoutModel",
      "state": {}
     },
     "464ff07d3d4f4a7db11a2bb6c96074e1": {
      "model_module": "@jupyter-widgets/base",
      "model_module_version": "1.2.0",
      "model_name": "LayoutModel",
      "state": {}
     },
     "466b2b791ea444fa9549e85f077fd7f0": {
      "model_module": "@jupyter-widgets/controls",
      "model_module_version": "1.5.0",
      "model_name": "FloatSliderModel",
      "state": {
       "description": "Protected Area Threshold",
       "layout": "IPY_MODEL_bbcc6b66906643fa9b97a473e67e540f",
       "max": 1,
       "step": 0.01,
       "style": "IPY_MODEL_df86bc989c604af8a9d14f658546bc24",
       "value": 0.7
      }
     },
     "46f2bf96baf64462920ff9cbc77be639": {
      "model_module": "@jupyter-widgets/controls",
      "model_module_version": "1.5.0",
      "model_name": "CheckboxModel",
      "state": {
       "description": "Disable Medicina",
       "disabled": false,
       "layout": "IPY_MODEL_327db297e5e34bf286a1aed8d09f50d5",
       "style": "IPY_MODEL_063956f887594089808f23ce7a183800",
       "value": false
      }
     },
     "4707cb72d417438e8754179133b5056b": {
      "model_module": "@jupyter-widgets/base",
      "model_module_version": "1.2.0",
      "model_name": "LayoutModel",
      "state": {}
     },
     "4751bbc2780f47a789f7ecd9219d3ba2": {
      "model_module": "@jupyter-widgets/base",
      "model_module_version": "1.2.0",
      "model_name": "LayoutModel",
      "state": {}
     },
     "4786ae150c8748b588a33ea04b7644df": {
      "model_module": "@jupyter-widgets/controls",
      "model_module_version": "1.5.0",
      "model_name": "HBoxModel",
      "state": {
       "children": [
        "IPY_MODEL_7dc16f39fcc344d08a621ccbfde81d90",
        "IPY_MODEL_0802dcc3f8dd48ef8b1ca0639fa0df6f"
       ],
       "layout": "IPY_MODEL_86a3d76c96cd493f82b6b520b3e9786c"
      }
     },
     "47d1e7eddd0b49fb8254ec374f9d7541": {
      "model_module": "@jupyter-widgets/base",
      "model_module_version": "1.2.0",
      "model_name": "LayoutModel",
      "state": {
       "border": "solid 4px #222",
       "margin": "4px",
       "padding": "0"
      }
     },
     "47dc2d732e2f41f0a862c1b669c3f28b": {
      "model_module": "@jupyter-widgets/base",
      "model_module_version": "1.2.0",
      "model_name": "LayoutModel",
      "state": {}
     },
     "47fda7c4c2b245229fea38fae4050b04": {
      "model_module": "@jupyter-widgets/output",
      "model_module_version": "1.0.0",
      "model_name": "OutputModel",
      "state": {
       "layout": "IPY_MODEL_1f2320e4e8d3494d92ccc1d6e7607c59",
       "outputs": [
        {
         "data": {
          "application/vnd.jupyter.widget-view+json": {
           "model_id": "c2597a1e46584e9b83f2554ba88c9b83",
           "version_major": 2,
           "version_minor": 0
          },
          "text/plain": "Canvas(toolbar=Toolbar(toolitems=[('Home', 'Reset original view', 'home', 'home'), ('Back', 'Back to previous …"
         },
         "metadata": {},
         "output_type": "display_data"
        }
       ]
      }
     },
     "484aac6eab3d463981a6e9fef9195e23": {
      "model_module": "@jupyter-widgets/base",
      "model_module_version": "1.2.0",
      "model_name": "LayoutModel",
      "state": {}
     },
     "484e2a5ed87e4708a6ee0cc0603e1f96": {
      "model_module": "@jupyter-widgets/base",
      "model_module_version": "1.2.0",
      "model_name": "LayoutModel",
      "state": {}
     },
     "4872a8e0fdd54b77812315bb3f58d56f": {
      "model_module": "@jupyter-widgets/base",
      "model_module_version": "1.2.0",
      "model_name": "LayoutModel",
      "state": {}
     },
     "48c3870373ec4f8cb5aee8c149928d8a": {
      "model_module": "@jupyter-widgets/controls",
      "model_module_version": "1.5.0",
      "model_name": "SliderStyleModel",
      "state": {
       "description_width": ""
      }
     },
     "4920ee1b339646d4ba61887741e15e5b": {
      "model_module": "@jupyter-widgets/base",
      "model_module_version": "1.2.0",
      "model_name": "LayoutModel",
      "state": {}
     },
     "493f8a3a3d93486084772f4b1228de8f": {
      "model_module": "@jupyter-widgets/controls",
      "model_module_version": "1.5.0",
      "model_name": "ButtonStyleModel",
      "state": {}
     },
     "49471d854d6c4166b5fad22ea267b149": {
      "model_module": "@jupyter-widgets/controls",
      "model_module_version": "1.5.0",
      "model_name": "ButtonStyleModel",
      "state": {}
     },
     "49908ded0d904f3d979d0b72de0be37c": {
      "model_module": "@jupyter-widgets/controls",
      "model_module_version": "1.5.0",
      "model_name": "ButtonStyleModel",
      "state": {}
     },
     "4994ac3cfda34bddb52af52850959301": {
      "model_module": "@jupyter-widgets/base",
      "model_module_version": "1.2.0",
      "model_name": "LayoutModel",
      "state": {}
     },
     "4ab68f369512474fae5f3ddd21609e46": {
      "model_module": "@jupyter-widgets/controls",
      "model_module_version": "1.5.0",
      "model_name": "ButtonModel",
      "state": {
       "description": "Reset Saturation Controls",
       "layout": "IPY_MODEL_7c583b22c69d487db16b411d07825682",
       "style": "IPY_MODEL_96cceaf6a3aa4425a79ff55d26b5feba"
      }
     },
     "4b1b6bcc3ba0410b80ff8b6aff823e7d": {
      "model_module": "@jupyter-widgets/controls",
      "model_module_version": "1.5.0",
      "model_name": "FloatSliderModel",
      "state": {
       "description": "90°",
       "layout": "IPY_MODEL_a8f015042ef94446956fdca17d1d0379",
       "max": 1,
       "min": -1,
       "step": 0.01,
       "style": "IPY_MODEL_5f6fa1fe66784f6a9cd2204dce29a859"
      }
     },
     "4b32450eab524a7d8046a278441ab812": {
      "model_module": "@jupyter-widgets/controls",
      "model_module_version": "1.5.0",
      "model_name": "FloatSliderModel",
      "state": {
       "description": "90°",
       "layout": "IPY_MODEL_1f186215d078436b95a24343823eeb51",
       "max": 1,
       "min": -1,
       "step": 0.01,
       "style": "IPY_MODEL_bfcf4a0a43914caa952c4295de949ed7"
      }
     },
     "4b3ba827f4964abf9879bf8c76a9dc67": {
      "model_module": "@jupyter-widgets/output",
      "model_module_version": "1.0.0",
      "model_name": "OutputModel",
      "state": {
       "layout": "IPY_MODEL_92500fe974654bcbb6251dd4c4a9e6ca",
       "outputs": [
        {
         "data": {
          "application/vnd.jupyter.widget-view+json": {
           "model_id": "051a9891ed06437ca3970ffb157500b7",
           "version_major": 2,
           "version_minor": 0
          },
          "text/plain": "Canvas(toolbar=Toolbar(toolitems=[('Home', 'Reset original view', 'home', 'home'), ('Back', 'Back to previous …"
         },
         "metadata": {},
         "output_type": "display_data"
        }
       ]
      }
     },
     "4b92c8cf32b144a187833db52f4eea0a": {
      "model_module": "@jupyter-widgets/base",
      "model_module_version": "1.2.0",
      "model_name": "LayoutModel",
      "state": {}
     },
     "4b9f4317c5b44444b05b13b3f1623848": {
      "model_module": "@jupyter-widgets/base",
      "model_module_version": "1.2.0",
      "model_name": "LayoutModel",
      "state": {}
     },
     "4bd789f604e14efd9757ec473eae72de": {
      "model_module": "@jupyter-widgets/controls",
      "model_module_version": "1.5.0",
      "model_name": "ButtonModel",
      "state": {
       "description": "Reset Saturation Controls",
       "layout": "IPY_MODEL_6e3bfdb23206418db97f76ddac22835c",
       "style": "IPY_MODEL_1c8668f46da640efb2c55d9dd2b053cf"
      }
     },
     "4bf8d13c8aff4f7c9d2f50a1925efd47": {
      "model_module": "@jupyter-widgets/base",
      "model_module_version": "1.2.0",
      "model_name": "LayoutModel",
      "state": {}
     },
     "4c0b439451404e3c8df65408e6f5e70b": {
      "model_module": "@jupyter-widgets/controls",
      "model_module_version": "1.5.0",
      "model_name": "ButtonModel",
      "state": {
       "description": "Reset Compression Controls",
       "layout": "IPY_MODEL_dc473e24f7e7454da9fec5bab5e449f6",
       "style": "IPY_MODEL_f25d8ea0a38c4a6aac1dc05faa1f20f9"
      }
     },
     "4c195d30caf54558bc3576ca78717d47": {
      "model_module": "@jupyter-widgets/controls",
      "model_module_version": "1.5.0",
      "model_name": "ButtonStyleModel",
      "state": {}
     },
     "4c726acaf07741379318ebfcfc1bd524": {
      "model_module": "@jupyter-widgets/base",
      "model_module_version": "1.2.0",
      "model_name": "LayoutModel",
      "state": {}
     },
     "4c7f6078c8f7404691c4c3d6b0bedb5f": {
      "model_module": "jupyter-matplotlib",
      "model_module_version": "^0.7.2",
      "model_name": "MPLCanvasModel",
      "state": {
       "_figure_label": "Figure 15",
       "_height": 396,
       "_width": 1100,
       "header_visible": false,
       "layout": "IPY_MODEL_7974b3c71a7c4011a221158e26de200a",
       "resizable": false,
       "toolbar": "IPY_MODEL_92f36bcc9fe84f81a367c0ceb2e3c0e6",
       "toolbar_position": "left",
       "toolbar_visible": false
      }
     },
     "4cdbc1ceae0f40d9827f8ddf91e74962": {
      "model_module": "@jupyter-widgets/output",
      "model_module_version": "1.0.0",
      "model_name": "OutputModel",
      "state": {
       "layout": "IPY_MODEL_11aaa2202f284251ad401629fca2463e",
       "outputs": [
        {
         "data": {
          "application/vnd.jupyter.widget-view+json": {
           "model_id": "18f27579ebec4e77924f4d767f685260",
           "version_major": 2,
           "version_minor": 0
          },
          "text/plain": "Canvas(toolbar=Toolbar(toolitems=[('Home', 'Reset original view', 'home', 'home'), ('Back', 'Back to previous …"
         },
         "metadata": {},
         "output_type": "display_data"
        }
       ]
      }
     },
     "4d0705a848e742c7a5245be3577b0d80": {
      "model_module": "@jupyter-widgets/base",
      "model_module_version": "1.2.0",
      "model_name": "LayoutModel",
      "state": {}
     },
     "4dd91417ab6f48c586792a1494f8681b": {
      "model_module": "@jupyter-widgets/base",
      "model_module_version": "1.2.0",
      "model_name": "LayoutModel",
      "state": {}
     },
     "4df48bb31d874ab2b7569bca36c335d7": {
      "model_module": "@jupyter-widgets/base",
      "model_module_version": "1.2.0",
      "model_name": "LayoutModel",
      "state": {}
     },
     "4e209508f32c41fb8c3768d0fa08c3c7": {
      "model_module": "@jupyter-widgets/base",
      "model_module_version": "1.2.0",
      "model_name": "LayoutModel",
      "state": {
       "align_items": "stretch",
       "display": "flex",
       "flex_flow": "column",
       "width": "1128px"
      }
     },
     "4e780cfd4ea7462c92d8e293f7855feb": {
      "model_module": "@jupyter-widgets/controls",
      "model_module_version": "1.5.0",
      "model_name": "VBoxModel",
      "state": {
       "children": [
        "IPY_MODEL_fa10d352b6be45378852eb5562fe42c2",
        "IPY_MODEL_674569760aff4d5a8bfeb9ae118475f4",
        "IPY_MODEL_35d7b66b94fc43af8b7a629b3a878480"
       ],
       "layout": "IPY_MODEL_e404b4ff11604a84aff3deba41842b06"
      }
     },
     "4edb6e5e6c64485cb2cf40f3206e5133": {
      "model_module": "@jupyter-widgets/controls",
      "model_module_version": "1.5.0",
      "model_name": "ButtonStyleModel",
      "state": {}
     },
     "4ee1907b24c7437b80fde5050a63fbb7": {
      "model_module": "@jupyter-widgets/base",
      "model_module_version": "1.2.0",
      "model_name": "LayoutModel",
      "state": {}
     },
     "4f35ea785584443b90d758526b7a4333": {
      "model_module": "@jupyter-widgets/controls",
      "model_module_version": "1.5.0",
      "model_name": "VBoxModel",
      "state": {
       "children": [
        "IPY_MODEL_dd18d898170143128e667d812aed579b",
        "IPY_MODEL_30cb6137d3be434dbbcfb449c4e52b3a"
       ],
       "layout": "IPY_MODEL_13f3f383431143ea9a4805b4d1a1f13d"
      }
     },
     "4f85061652514da7bf4342e6f24afbdd": {
      "model_module": "@jupyter-widgets/controls",
      "model_module_version": "1.5.0",
      "model_name": "ButtonStyleModel",
      "state": {}
     },
     "501dc876ea264c37995de05528356563": {
      "model_module": "@jupyter-widgets/base",
      "model_module_version": "1.2.0",
      "model_name": "LayoutModel",
      "state": {}
     },
     "50270cdf621948a3ab63fcff712748a7": {
      "model_module": "@jupyter-widgets/controls",
      "model_module_version": "1.5.0",
      "model_name": "VBoxModel",
      "state": {
       "children": [
        "IPY_MODEL_537a4ff2cd2f432e856edb46dea48f54"
       ],
       "layout": "IPY_MODEL_415b28b99712456aa7840cec29d6da5d"
      }
     },
     "508248fa6d6b4959b6dd5dcc3429328c": {
      "model_module": "@jupyter-widgets/base",
      "model_module_version": "1.2.0",
      "model_name": "LayoutModel",
      "state": {}
     },
     "508acb0f944b49c8a074a1bf5d83e9b5": {
      "model_module": "@jupyter-widgets/base",
      "model_module_version": "1.2.0",
      "model_name": "LayoutModel",
      "state": {}
     },
     "5095e00ac5b34a7998ba61573e85455b": {
      "model_module": "@jupyter-widgets/base",
      "model_module_version": "1.2.0",
      "model_name": "LayoutModel",
      "state": {}
     },
     "50a16d19c4a64bfe887360b18f072dba": {
      "model_module": "@jupyter-widgets/controls",
      "model_module_version": "1.5.0",
      "model_name": "CheckboxModel",
      "state": {
       "description": "Disable Medicina",
       "disabled": false,
       "layout": "IPY_MODEL_57a57966efaa4371b162c8441020e6c5",
       "style": "IPY_MODEL_a7eca51634d747eca2cdde576394532b",
       "value": false
      }
     },
     "50d6c411330c4eba8c5d51cb364c94c9": {
      "model_module": "@jupyter-widgets/base",
      "model_module_version": "1.2.0",
      "model_name": "LayoutModel",
      "state": {}
     },
     "510184a4c86e407e81e842487c87247e": {
      "model_module": "@jupyter-widgets/base",
      "model_module_version": "1.2.0",
      "model_name": "LayoutModel",
      "state": {}
     },
     "5199aa32832b432fb3a68d9ef514080a": {
      "model_module": "@jupyter-widgets/output",
      "model_module_version": "1.0.0",
      "model_name": "OutputModel",
      "state": {
       "layout": "IPY_MODEL_41c91746f9384a8395a0001c2e4e9901",
       "outputs": [
        {
         "data": {
          "application/vnd.jupyter.widget-view+json": {
           "model_id": "bcacec51d96444a4ae87d260c4d8bc24",
           "version_major": 2,
           "version_minor": 0
          },
          "text/plain": "Canvas(toolbar=Toolbar(toolitems=[('Home', 'Reset original view', 'home', 'home'), ('Back', 'Back to previous …"
         },
         "metadata": {},
         "output_type": "display_data"
        }
       ]
      }
     },
     "51ca7a40ed4841319b9f1c6eb8a9a3bc": {
      "model_module": "@jupyter-widgets/base",
      "model_module_version": "1.2.0",
      "model_name": "LayoutModel",
      "state": {}
     },
     "51f2a0740543462294f746712be87f64": {
      "model_module": "@jupyter-widgets/base",
      "model_module_version": "1.2.0",
      "model_name": "LayoutModel",
      "state": {
       "border": "solid 4px #222",
       "margin": "4px",
       "padding": "0"
      }
     },
     "527be0011a34464c87ec63a7efe4602b": {
      "model_module": "@jupyter-widgets/base",
      "model_module_version": "1.2.0",
      "model_name": "LayoutModel",
      "state": {}
     },
     "52a67ae5e4d14d50b5405f73e6cba68b": {
      "model_module": "@jupyter-widgets/controls",
      "model_module_version": "1.5.0",
      "model_name": "TabModel",
      "state": {
       "_titles": {
        "0": "Global Controls",
        "1": "Compression Controls"
       },
       "children": [
        "IPY_MODEL_b155e869907c41568774788a5f109a4d",
        "IPY_MODEL_e0d447db4d9a4d699cd3a5005724e741"
       ],
       "layout": "IPY_MODEL_bf5eb1bfaa1741bf8788036d6e5ce096"
      }
     },
     "52e89e8241c64c7cb8d789647f1759c2": {
      "model_module": "@jupyter-widgets/controls",
      "model_module_version": "1.5.0",
      "model_name": "VBoxModel",
      "state": {
       "children": [
        "IPY_MODEL_2a2ce36aba2d46439367bff73c94f3a5",
        "IPY_MODEL_d9ea7a91d5274a148f1fcbcdf563ddf4",
        "IPY_MODEL_f73673a21829486ea9c53d71a24aab01"
       ],
       "layout": "IPY_MODEL_f97017d5eeaa4b189dc11d2dd64fcd5f"
      }
     },
     "530d7b62c4b14928b97729d36dbc40c1": {
      "model_module": "@jupyter-widgets/base",
      "model_module_version": "1.2.0",
      "model_name": "LayoutModel",
      "state": {}
     },
     "5333e9605c334a30914b98c49adf87e8": {
      "model_module": "@jupyter-widgets/base",
      "model_module_version": "1.2.0",
      "model_name": "LayoutModel",
      "state": {}
     },
     "536ea69006584b06b96a5bd65a30888c": {
      "model_module": "@jupyter-widgets/controls",
      "model_module_version": "1.5.0",
      "model_name": "DescriptionStyleModel",
      "state": {
       "description_width": ""
      }
     },
     "537a4ff2cd2f432e856edb46dea48f54": {
      "model_module": "@jupyter-widgets/controls",
      "model_module_version": "1.5.0",
      "model_name": "ButtonModel",
      "state": {
       "description": "Reset Hue Controls",
       "layout": "IPY_MODEL_0e92f2849f224f6987b400162e7c157c",
       "style": "IPY_MODEL_d1ee3756c279438ab7e1100aa3fc6293"
      }
     },
     "53b5ae4b712d4107afee4ae10d927f08": {
      "model_module": "@jupyter-widgets/controls",
      "model_module_version": "1.5.0",
      "model_name": "HBoxModel",
      "state": {
       "children": [
        "IPY_MODEL_cdee9c47e58442a49459cfadb1253562",
        "IPY_MODEL_f724eccd0124403d99b9cd46c9a426ca",
        "IPY_MODEL_c0119f7005764c669aa2cbcf4ecda0dc"
       ],
       "layout": "IPY_MODEL_8530fbf7fa4141c796dc08a1cddcad9e"
      }
     },
     "53c258add2ae430c8300fbf78beb5f9b": {
      "model_module": "@jupyter-widgets/base",
      "model_module_version": "1.2.0",
      "model_name": "LayoutModel",
      "state": {}
     },
     "543768919d4f4c9590d541d5c6d76d14": {
      "model_module": "@jupyter-widgets/controls",
      "model_module_version": "1.5.0",
      "model_name": "FloatSliderModel",
      "state": {
       "description": "315°",
       "layout": "IPY_MODEL_714273f7569a4c86a63a7adf89008240",
       "max": 1,
       "min": -1,
       "step": 0.01,
       "style": "IPY_MODEL_dbab36dfe9c548d9ba90692216a1f251"
      }
     },
     "545a5956ec2b4eda9ec4ea5fbcca2a6f": {
      "model_module": "@jupyter-widgets/controls",
      "model_module_version": "1.5.0",
      "model_name": "ButtonModel",
      "state": {
       "description": "Reset Protected Area",
       "layout": "IPY_MODEL_30fe74b9aef64266bd6494d57c26de46",
       "style": "IPY_MODEL_c9c90121cbe34d32a7360e67e87e72d8"
      }
     },
     "548f9263a6d440079761ca5d88a36127": {
      "model_module": "@jupyter-widgets/controls",
      "model_module_version": "1.5.0",
      "model_name": "FloatSliderModel",
      "state": {
       "description": "45°",
       "layout": "IPY_MODEL_c3c3af3646aa4ff4ac20fa2fe2cfd61a",
       "max": 1,
       "min": -1,
       "step": 0.01,
       "style": "IPY_MODEL_a9a0e92607ae447f8c0361f8c73e6178"
      }
     },
     "55098738d8924bb28e24cf8e25195e25": {
      "model_module": "@jupyter-widgets/controls",
      "model_module_version": "1.5.0",
      "model_name": "CheckboxModel",
      "state": {
       "description": "Disable Medicina",
       "disabled": false,
       "layout": "IPY_MODEL_2cc86cadd6494657ac935e9292d29f63",
       "style": "IPY_MODEL_0569985a0232426ba5e161fad7cb44da",
       "value": false
      }
     },
     "5516881e4c3941eaaf8211f6e5d30489": {
      "model_module": "@jupyter-widgets/base",
      "model_module_version": "1.2.0",
      "model_name": "LayoutModel",
      "state": {}
     },
     "5550640c24bf48ebb8b50e79db57e041": {
      "model_module": "@jupyter-widgets/controls",
      "model_module_version": "1.5.0",
      "model_name": "CheckboxModel",
      "state": {
       "description": "Disable Medicina",
       "disabled": false,
       "layout": "IPY_MODEL_464ff07d3d4f4a7db11a2bb6c96074e1",
       "style": "IPY_MODEL_b274c56c7dbd4b66847be3e38d75c444",
       "value": false
      }
     },
     "556ef02c1a234a7eb615c0a22f772919": {
      "model_module": "@jupyter-widgets/base",
      "model_module_version": "1.2.0",
      "model_name": "LayoutModel",
      "state": {}
     },
     "559a648dae5f476ab4b3dc7d981b9c00": {
      "model_module": "@jupyter-widgets/controls",
      "model_module_version": "1.5.0",
      "model_name": "ButtonModel",
      "state": {
       "description": "Reset Saturation Controls",
       "layout": "IPY_MODEL_ca2f77fe0a094b89bcb1709d3207d945",
       "style": "IPY_MODEL_4edb6e5e6c64485cb2cf40f3206e5133"
      }
     },
     "55efcad0aa07441abfc98e774ff2f83a": {
      "model_module": "@jupyter-widgets/base",
      "model_module_version": "1.2.0",
      "model_name": "LayoutModel",
      "state": {}
     },
     "5646f088e214472984356ce91e1239b8": {
      "model_module": "@jupyter-widgets/output",
      "model_module_version": "1.0.0",
      "model_name": "OutputModel",
      "state": {
       "layout": "IPY_MODEL_fb934918cca246c48d6fc29a6f4da6fe",
       "outputs": [
        {
         "data": {
          "application/vnd.jupyter.widget-view+json": {
           "model_id": "4c7f6078c8f7404691c4c3d6b0bedb5f",
           "version_major": 2,
           "version_minor": 0
          },
          "text/plain": "Canvas(toolbar=Toolbar(toolitems=[('Home', 'Reset original view', 'home', 'home'), ('Back', 'Back to previous …"
         },
         "metadata": {},
         "output_type": "display_data"
        }
       ]
      }
     },
     "569bda07682942eaac512a8b7fa66298": {
      "model_module": "@jupyter-widgets/controls",
      "model_module_version": "1.5.0",
      "model_name": "FloatSliderModel",
      "state": {
       "description": "Protected Area Threshold",
       "layout": "IPY_MODEL_45ff770423694a5abe1e941a7aea1727",
       "max": 1,
       "step": 0.01,
       "style": "IPY_MODEL_c978727d2e3942a986e29dc9b1add117",
       "value": 0.5
      }
     },
     "57692e65a2c84e669ec03e3b2fb51a28": {
      "model_module": "@jupyter-widgets/base",
      "model_module_version": "1.2.0",
      "model_name": "LayoutModel",
      "state": {}
     },
     "57a57966efaa4371b162c8441020e6c5": {
      "model_module": "@jupyter-widgets/base",
      "model_module_version": "1.2.0",
      "model_name": "LayoutModel",
      "state": {}
     },
     "586c855cb98d4578b4f0cec7004cf14d": {
      "model_module": "@jupyter-widgets/base",
      "model_module_version": "1.2.0",
      "model_name": "LayoutModel",
      "state": {
       "border": "solid 4px #222",
       "margin": "4px",
       "padding": "0"
      }
     },
     "588597dbc92c477e827fef1e613885eb": {
      "model_module": "@jupyter-widgets/base",
      "model_module_version": "1.2.0",
      "model_name": "LayoutModel",
      "state": {}
     },
     "58fd81b3f7d64b90ba9941772e517a6b": {
      "model_module": "@jupyter-widgets/controls",
      "model_module_version": "1.5.0",
      "model_name": "SliderStyleModel",
      "state": {
       "description_width": ""
      }
     },
     "59b1ea69e3224b33abfcc462bfd92857": {
      "model_module": "@jupyter-widgets/controls",
      "model_module_version": "1.5.0",
      "model_name": "VBoxModel",
      "state": {
       "children": [
        "IPY_MODEL_2549700045534eccb7fdd27f21e2055b",
        "IPY_MODEL_64b2b342c1cb49c8a355e2bf157166e0"
       ],
       "layout": "IPY_MODEL_c18d43f104d24034b48344aa7ba1b17b"
      }
     },
     "5b1eeb9d6e6e4f33b50f25b54ba346b9": {
      "model_module": "@jupyter-widgets/controls",
      "model_module_version": "1.5.0",
      "model_name": "FloatSliderModel",
      "state": {
       "description": "135°",
       "layout": "IPY_MODEL_e2b99e6b802e4e61974019e7455aff79",
       "max": 1,
       "min": -1,
       "step": 0.01,
       "style": "IPY_MODEL_2f97e62c2a0346d69463b6709baf80c6"
      }
     },
     "5b341ac7dff44b19b9ed451d5da4638d": {
      "model_module": "@jupyter-widgets/controls",
      "model_module_version": "1.5.0",
      "model_name": "HBoxModel",
      "state": {
       "children": [
        "IPY_MODEL_70a81876310e4d86a39aa7662cdd684d",
        "IPY_MODEL_44e98b1c0b284561b7671666536f3808",
        "IPY_MODEL_8c6bc481bbc346468bce6c215a1e6f67",
        "IPY_MODEL_b41ac13c17884cf69bc04b2088a6f560"
       ],
       "layout": "IPY_MODEL_9f906b9f924d40e3a486feb11fd8e6ec"
      }
     },
     "5b85514f5f174f728db353197e098e4e": {
      "model_module": "@jupyter-widgets/controls",
      "model_module_version": "1.5.0",
      "model_name": "ButtonModel",
      "state": {
       "description": "Export Image",
       "layout": "IPY_MODEL_22ce5f13a0e74d40b14e8bf3b4f50a50",
       "style": "IPY_MODEL_ee6d3bb59aa146b681bb1f0fe29255a9"
      }
     },
     "5b9f375abfbb4e679cda4c29b100297e": {
      "model_module": "@jupyter-widgets/base",
      "model_module_version": "1.2.0",
      "model_name": "LayoutModel",
      "state": {}
     },
     "5ba4715bb20e47a1a05aeb003d90476e": {
      "model_module": "@jupyter-widgets/controls",
      "model_module_version": "1.5.0",
      "model_name": "ButtonStyleModel",
      "state": {}
     },
     "5be70d5dbd2c4c0ea90f06b0f8aac81d": {
      "model_module": "@jupyter-widgets/base",
      "model_module_version": "1.2.0",
      "model_name": "LayoutModel",
      "state": {}
     },
     "5bea70a081a04f5caaff0449b83457a2": {
      "model_module": "@jupyter-widgets/base",
      "model_module_version": "1.2.0",
      "model_name": "LayoutModel",
      "state": {}
     },
     "5bfc5fdc9957464fb6f72ca81cbfcd97": {
      "model_module": "@jupyter-widgets/base",
      "model_module_version": "1.2.0",
      "model_name": "LayoutModel",
      "state": {}
     },
     "5cc10fc5b333439ca664b52b2514af1a": {
      "model_module": "@jupyter-widgets/base",
      "model_module_version": "1.2.0",
      "model_name": "LayoutModel",
      "state": {}
     },
     "5d3d379ab9734144ace6e35b41384887": {
      "model_module": "@jupyter-widgets/controls",
      "model_module_version": "1.5.0",
      "model_name": "VBoxModel",
      "state": {
       "children": [
        "IPY_MODEL_aaeac1f045a84ac8ac19cab4793abbf2",
        "IPY_MODEL_89776b2e535d48db9b8718c7be1e46a3",
        "IPY_MODEL_c61d19fdc0304d5394d9c45fb34d11d7"
       ],
       "layout": "IPY_MODEL_de5d079fa62e489a8b6f640110aa7519"
      }
     },
     "5d960a1b4cb54fff93ece27e65e6eced": {
      "model_module": "@jupyter-widgets/controls",
      "model_module_version": "1.5.0",
      "model_name": "FloatSliderModel",
      "state": {
       "description": "270°",
       "layout": "IPY_MODEL_aa721dd6c58c4d91a4cc9f559f2c5eb4",
       "max": 1,
       "min": -1,
       "step": 0.01,
       "style": "IPY_MODEL_3241c2a366dc400fb49d34228ac2c58b"
      }
     },
     "5deb486ca1e9489190a852237af8aab3": {
      "model_module": "@jupyter-widgets/controls",
      "model_module_version": "1.5.0",
      "model_name": "SliderStyleModel",
      "state": {
       "description_width": ""
      }
     },
     "5e898ed6658f43baa9f7a61fadbc1e6f": {
      "model_module": "@jupyter-widgets/base",
      "model_module_version": "1.2.0",
      "model_name": "LayoutModel",
      "state": {}
     },
     "5eb67ea0a6ec4c568e00ded7790d13e6": {
      "model_module": "@jupyter-widgets/base",
      "model_module_version": "1.2.0",
      "model_name": "LayoutModel",
      "state": {}
     },
     "5ec7dd353b4141dfb5eca02be7fd2900": {
      "model_module": "@jupyter-widgets/output",
      "model_module_version": "1.0.0",
      "model_name": "OutputModel",
      "state": {
       "layout": "IPY_MODEL_1d208fdf3b11430c99c50b9fec9b0a79",
       "outputs": [
        {
         "data": {
          "application/vnd.jupyter.widget-view+json": {
           "model_id": "949cd34f41e74e4586bedf822b1110db",
           "version_major": 2,
           "version_minor": 0
          },
          "text/plain": "Canvas(toolbar=Toolbar(toolitems=[('Home', 'Reset original view', 'home', 'home'), ('Back', 'Back to previous …"
         },
         "metadata": {},
         "output_type": "display_data"
        }
       ]
      }
     },
     "5ee2420eca3943079140999b185ae734": {
      "model_module": "@jupyter-widgets/controls",
      "model_module_version": "1.5.0",
      "model_name": "SliderStyleModel",
      "state": {
       "description_width": ""
      }
     },
     "5f3ad47a0d2441a5b8e13336af9b24c4": {
      "model_module": "@jupyter-widgets/base",
      "model_module_version": "1.2.0",
      "model_name": "LayoutModel",
      "state": {}
     },
     "5f6fa1fe66784f6a9cd2204dce29a859": {
      "model_module": "@jupyter-widgets/controls",
      "model_module_version": "1.5.0",
      "model_name": "SliderStyleModel",
      "state": {
       "description_width": ""
      }
     },
     "5f7c0e01d2654bd8a850112a38d83839": {
      "model_module": "@jupyter-widgets/base",
      "model_module_version": "1.2.0",
      "model_name": "LayoutModel",
      "state": {}
     },
     "5ffbf87e6861477ebf1fb7275f78682d": {
      "model_module": "jupyter-matplotlib",
      "model_module_version": "^0.7.2",
      "model_name": "MPLCanvasModel",
      "state": {
       "_figure_label": "Figure 18",
       "_height": 550,
       "_width": 1100,
       "header_visible": false,
       "layout": "IPY_MODEL_b7988c41dd3f47a995aeb7aa37d7c72d",
       "resizable": false,
       "toolbar": "IPY_MODEL_63f0b2c79818435e9d0e90aa4aeb9819",
       "toolbar_position": "left",
       "toolbar_visible": false
      }
     },
     "600131255a3b41b4b04298a17ae50a0f": {
      "model_module": "@jupyter-widgets/base",
      "model_module_version": "1.2.0",
      "model_name": "LayoutModel",
      "state": {}
     },
     "603f5bb3f1524aeb88ae0b5277d5db56": {
      "model_module": "@jupyter-widgets/controls",
      "model_module_version": "1.5.0",
      "model_name": "ButtonStyleModel",
      "state": {}
     },
     "60d872b56e664614b493c79b86ab2bbc": {
      "model_module": "@jupyter-widgets/output",
      "model_module_version": "1.0.0",
      "model_name": "OutputModel",
      "state": {
       "layout": "IPY_MODEL_35be5825720c44bab96c12547471fab5",
       "outputs": [
        {
         "data": {
          "application/vnd.jupyter.widget-view+json": {
           "model_id": "8f90484ee921460abe55593eca102142",
           "version_major": 2,
           "version_minor": 0
          },
          "text/plain": "Canvas(toolbar=Toolbar(toolitems=[('Home', 'Reset original view', 'home', 'home'), ('Back', 'Back to previous …"
         },
         "metadata": {},
         "output_type": "display_data"
        }
       ]
      }
     },
     "6137a1d5efce4e58b462cef6c738054f": {
      "model_module": "@jupyter-widgets/controls",
      "model_module_version": "1.5.0",
      "model_name": "ButtonStyleModel",
      "state": {}
     },
     "6176a309d3c94a2abab25ecd738fbdcb": {
      "model_module": "@jupyter-widgets/controls",
      "model_module_version": "1.5.0",
      "model_name": "HBoxModel",
      "state": {
       "children": [
        "IPY_MODEL_8d7f668ac19446c99466c2297508c849",
        "IPY_MODEL_466b2b791ea444fa9549e85f077fd7f0"
       ],
       "layout": "IPY_MODEL_117c48361df3446397eed8edcbe706a7"
      }
     },
     "618529e218514780b2358f0769808f00": {
      "model_module": "@jupyter-widgets/controls",
      "model_module_version": "1.5.0",
      "model_name": "SliderStyleModel",
      "state": {
       "description_width": ""
      }
     },
     "619473e440be450db181d206b6bbdf70": {
      "model_module": "@jupyter-widgets/controls",
      "model_module_version": "1.5.0",
      "model_name": "VBoxModel",
      "state": {
       "children": [
        "IPY_MODEL_e62bd8529fc4469f8494c14736554eb2"
       ],
       "layout": "IPY_MODEL_82d979c8f3c54fe8a742a743439da884"
      }
     },
     "6205d4d3dfb448298e520f41c35b998e": {
      "model_module": "@jupyter-widgets/controls",
      "model_module_version": "1.5.0",
      "model_name": "FloatSliderModel",
      "state": {
       "description": "180°",
       "layout": "IPY_MODEL_ef386438a13f42d0aa3ba085ad216638",
       "max": 1,
       "min": -1,
       "step": 0.01,
       "style": "IPY_MODEL_7f8660b8fb8b4d35a0e0ba9a40848d3a"
      }
     },
     "62396b502643464189a8ced6cb955ab7": {
      "model_module": "@jupyter-widgets/controls",
      "model_module_version": "1.5.0",
      "model_name": "ButtonModel",
      "state": {
       "description": "Reset Saturation Controls",
       "layout": "IPY_MODEL_d38d02ce93d94e89822247c2cddc15ad",
       "style": "IPY_MODEL_29e788a2b0dc483da178eea09879d561"
      }
     },
     "624f105e2ca24d6da299833881bb19ed": {
      "model_module": "@jupyter-widgets/base",
      "model_module_version": "1.2.0",
      "model_name": "LayoutModel",
      "state": {}
     },
     "6274f042ab504bb19b8c8cfc26dcef1f": {
      "model_module": "@jupyter-widgets/base",
      "model_module_version": "1.2.0",
      "model_name": "LayoutModel",
      "state": {}
     },
     "62aaa5e3a8504f36908c6bed89b053bd": {
      "model_module": "@jupyter-widgets/base",
      "model_module_version": "1.2.0",
      "model_name": "LayoutModel",
      "state": {}
     },
     "62d4e0feceac4df3b496167425d0bb38": {
      "model_module": "@jupyter-widgets/controls",
      "model_module_version": "1.5.0",
      "model_name": "HBoxModel",
      "state": {
       "children": [
        "IPY_MODEL_9652faaec18e48aabf4664f9e4460829",
        "IPY_MODEL_8f87f819da3d4375aff45260a445e43d"
       ],
       "layout": "IPY_MODEL_84027b2a38724016939f773ce213728a"
      }
     },
     "62e04404a7b14984a557932f1b89bdb4": {
      "model_module": "@jupyter-widgets/base",
      "model_module_version": "1.2.0",
      "model_name": "LayoutModel",
      "state": {}
     },
     "639e6f17bfda408fb3dca13e87ef82ac": {
      "model_module": "@jupyter-widgets/controls",
      "model_module_version": "1.5.0",
      "model_name": "ButtonModel",
      "state": {
       "description": "Save Figure",
       "layout": "IPY_MODEL_e8303f7b467d4008b408ca78cd7f2b7a",
       "style": "IPY_MODEL_e7ebe1ce608941bc87bd8666d6ad93cd"
      }
     },
     "63a7b2fabad34e9684b970784c7be902": {
      "model_module": "@jupyter-widgets/controls",
      "model_module_version": "1.5.0",
      "model_name": "CheckboxModel",
      "state": {
       "description": "Disable Medicina",
       "disabled": false,
       "layout": "IPY_MODEL_10a53430ae104b798a2712359d9805a1",
       "style": "IPY_MODEL_b3b531c4d86c4a62a137ce74fac221ce",
       "value": false
      }
     },
     "63f0b2c79818435e9d0e90aa4aeb9819": {
      "model_module": "jupyter-matplotlib",
      "model_module_version": "^0.7.2",
      "model_name": "ToolbarModel",
      "state": {
       "layout": "IPY_MODEL_426ba1cbf6084b49aec6abde108668a6",
       "toolitems": [
        [
         "Home",
         "Reset original view",
         "home",
         "home"
        ],
        [
         "Back",
         "Back to previous view",
         "arrow-left",
         "back"
        ],
        [
         "Forward",
         "Forward to next view",
         "arrow-right",
         "forward"
        ],
        [
         "Pan",
         "Pan axes with left mouse, zoom with right",
         "arrows",
         "pan"
        ],
        [
         "Zoom",
         "Zoom to rectangle",
         "square-o",
         "zoom"
        ],
        [
         "Download",
         "Download plot",
         "floppy-o",
         "save_figure"
        ]
       ]
      }
     },
     "64aec71b48e646b1820a782a9dc0562c": {
      "model_module": "@jupyter-widgets/base",
      "model_module_version": "1.2.0",
      "model_name": "LayoutModel",
      "state": {}
     },
     "64b2b342c1cb49c8a355e2bf157166e0": {
      "model_module": "@jupyter-widgets/controls",
      "model_module_version": "1.5.0",
      "model_name": "FloatSliderModel",
      "state": {
       "description": "315°",
       "layout": "IPY_MODEL_484e2a5ed87e4708a6ee0cc0603e1f96",
       "max": 1,
       "min": -1,
       "step": 0.01,
       "style": "IPY_MODEL_8a843e934ccc455389a26c07328cdd2d"
      }
     },
     "655400e549804302ac76e2a3410e717b": {
      "model_module": "@jupyter-widgets/base",
      "model_module_version": "1.2.0",
      "model_name": "LayoutModel",
      "state": {}
     },
     "65659e3995804995830013fe3bde7d2c": {
      "model_module": "jupyter-matplotlib",
      "model_module_version": "^0.7.2",
      "model_name": "MPLCanvasModel",
      "state": {
       "_figure_label": "Figure 10",
       "_height": 430,
       "_width": 1099,
       "header_visible": false,
       "layout": "IPY_MODEL_d04b15a367414610a516823c7eb91816",
       "resizable": false,
       "toolbar": "IPY_MODEL_037623b2b99546c3bb77697c8b2135f5",
       "toolbar_position": "left",
       "toolbar_visible": false
      }
     },
     "65871a5d3ad945d4b9e1bfe7b7faea08": {
      "model_module": "@jupyter-widgets/controls",
      "model_module_version": "1.5.0",
      "model_name": "FloatSliderModel",
      "state": {
       "description": "Protected Area Threshold",
       "layout": "IPY_MODEL_d4b4dde8601548c182f39d91a2096fa9",
       "max": 1,
       "step": 0.01,
       "style": "IPY_MODEL_bf5719ca5d78407fbfa859750d1a62e9",
       "value": 0.7
      }
     },
     "65a1d6e666d146eea1604f31d918a5d9": {
      "model_module": "@jupyter-widgets/base",
      "model_module_version": "1.2.0",
      "model_name": "LayoutModel",
      "state": {}
     },
     "65f0be54de8a403bab5bd01ffdcec5ad": {
      "model_module": "@jupyter-widgets/base",
      "model_module_version": "1.2.0",
      "model_name": "LayoutModel",
      "state": {}
     },
     "6661fdfdbd7445bfa20146b2afa0fa17": {
      "model_module": "@jupyter-widgets/controls",
      "model_module_version": "1.5.0",
      "model_name": "ButtonStyleModel",
      "state": {}
     },
     "66899302e0d346e38b1cdfaa57b81c67": {
      "model_module": "@jupyter-widgets/controls",
      "model_module_version": "1.5.0",
      "model_name": "ButtonStyleModel",
      "state": {}
     },
     "66ce063342194081bd785d88d322c3de": {
      "model_module": "@jupyter-widgets/controls",
      "model_module_version": "1.5.0",
      "model_name": "FloatSliderModel",
      "state": {
       "description": "45°",
       "layout": "IPY_MODEL_0d48f25eba8e4d70ba592aee668efe50",
       "max": 1,
       "min": -1,
       "step": 0.01,
       "style": "IPY_MODEL_6fadbd9dd9ac40e0bbc08690e88f0440"
      }
     },
     "67280e85e3064e3c96ba698e19c9464f": {
      "model_module": "@jupyter-widgets/controls",
      "model_module_version": "1.5.0",
      "model_name": "SliderStyleModel",
      "state": {
       "description_width": ""
      }
     },
     "674569760aff4d5a8bfeb9ae118475f4": {
      "model_module": "@jupyter-widgets/controls",
      "model_module_version": "1.5.0",
      "model_name": "FloatSliderModel",
      "state": {
       "description": "45°",
       "layout": "IPY_MODEL_1d68d91890fd4510b753289210328156",
       "max": 1,
       "min": -1,
       "step": 0.01,
       "style": "IPY_MODEL_d07fb582de38497ebbe9774fb942d4b3"
      }
     },
     "67599563dfb0490cb7dd4b8e3ae379e3": {
      "model_module": "@jupyter-widgets/base",
      "model_module_version": "1.2.0",
      "model_name": "LayoutModel",
      "state": {}
     },
     "67793abe038b44619f4c927969ace869": {
      "model_module": "@jupyter-widgets/base",
      "model_module_version": "1.2.0",
      "model_name": "LayoutModel",
      "state": {}
     },
     "6822afc536c442ce82c58b82c46a0544": {
      "model_module": "@jupyter-widgets/controls",
      "model_module_version": "1.5.0",
      "model_name": "HBoxModel",
      "state": {
       "children": [
        "IPY_MODEL_4ab68f369512474fae5f3ddd21609e46",
        "IPY_MODEL_6e48c620d74748d09ec65c47726625f3"
       ],
       "layout": "IPY_MODEL_e40f829bc60f46b0af9c606c83d43b61"
      }
     },
     "683c5d73b5f045f9b1c8221b48e5e557": {
      "model_module": "@jupyter-widgets/base",
      "model_module_version": "1.2.0",
      "model_name": "LayoutModel",
      "state": {}
     },
     "68b0afac54c04195b9e844e4e182917b": {
      "model_module": "@jupyter-widgets/controls",
      "model_module_version": "1.5.0",
      "model_name": "ButtonStyleModel",
      "state": {}
     },
     "68d50e47d9aa4d7c91ba675c19812d6a": {
      "model_module": "@jupyter-widgets/controls",
      "model_module_version": "1.5.0",
      "model_name": "ButtonStyleModel",
      "state": {}
     },
     "691ad0ca789f411d996180a4c4599d0c": {
      "model_module": "@jupyter-widgets/controls",
      "model_module_version": "1.5.0",
      "model_name": "SliderStyleModel",
      "state": {
       "description_width": ""
      }
     },
     "69586fc5a11d4b52bce1c26ba8d7f4d5": {
      "model_module": "@jupyter-widgets/controls",
      "model_module_version": "1.5.0",
      "model_name": "ButtonModel",
      "state": {
       "description": "Export Image",
       "layout": "IPY_MODEL_f197c0741ae54271a2732cf11ea682ce",
       "style": "IPY_MODEL_4c195d30caf54558bc3576ca78717d47"
      }
     },
     "6a26e5ca70124c72b9174a2d9c1e97d2": {
      "model_module": "@jupyter-widgets/base",
      "model_module_version": "1.2.0",
      "model_name": "LayoutModel",
      "state": {}
     },
     "6a72ec0233a24f9f8b1402c498684886": {
      "model_module": "@jupyter-widgets/base",
      "model_module_version": "1.2.0",
      "model_name": "LayoutModel",
      "state": {}
     },
     "6ab6de8438f64a9fa2aef7e9a212340c": {
      "model_module": "@jupyter-widgets/controls",
      "model_module_version": "1.5.0",
      "model_name": "SliderStyleModel",
      "state": {
       "description_width": ""
      }
     },
     "6ad0e9b709ce42deaef0f752bd22d93c": {
      "model_module": "jupyter-matplotlib",
      "model_module_version": "^0.7.2",
      "model_name": "ToolbarModel",
      "state": {
       "layout": "IPY_MODEL_828e85214f944c18a44995f86fd7d2e6",
       "toolitems": [
        [
         "Home",
         "Reset original view",
         "home",
         "home"
        ],
        [
         "Back",
         "Back to previous view",
         "arrow-left",
         "back"
        ],
        [
         "Forward",
         "Forward to next view",
         "arrow-right",
         "forward"
        ],
        [
         "Pan",
         "Pan axes with left mouse, zoom with right",
         "arrows",
         "pan"
        ],
        [
         "Zoom",
         "Zoom to rectangle",
         "square-o",
         "zoom"
        ],
        [
         "Download",
         "Download plot",
         "floppy-o",
         "save_figure"
        ]
       ]
      }
     },
     "6b109cddf4d04d40a2350f4766c64037": {
      "model_module": "@jupyter-widgets/base",
      "model_module_version": "1.2.0",
      "model_name": "LayoutModel",
      "state": {
       "border": "solid 4px #222",
       "margin": "4px",
       "padding": "0"
      }
     },
     "6b579414f738416d899a6db9a5730c20": {
      "model_module": "@jupyter-widgets/controls",
      "model_module_version": "1.5.0",
      "model_name": "FloatSliderModel",
      "state": {
       "description": "315°",
       "layout": "IPY_MODEL_7753f8ba1a744e4dbe4cb35c601e4c0b",
       "max": 1,
       "min": -1,
       "step": 0.01,
       "style": "IPY_MODEL_3f9ae4f891214361b49569af4d45b2df"
      }
     },
     "6b651e739357490485149be041aa154d": {
      "model_module": "@jupyter-widgets/controls",
      "model_module_version": "1.5.0",
      "model_name": "SliderStyleModel",
      "state": {
       "description_width": ""
      }
     },
     "6bb441c691444e588e67a6bdc884272e": {
      "model_module": "@jupyter-widgets/controls",
      "model_module_version": "1.5.0",
      "model_name": "SliderStyleModel",
      "state": {
       "description_width": ""
      }
     },
     "6bc19a46404f4cb0ab14da01f9c07e3a": {
      "model_module": "@jupyter-widgets/base",
      "model_module_version": "1.2.0",
      "model_name": "LayoutModel",
      "state": {}
     },
     "6bdd57f494b94b5ba0c697731612cd01": {
      "model_module": "@jupyter-widgets/base",
      "model_module_version": "1.2.0",
      "model_name": "LayoutModel",
      "state": {}
     },
     "6bfdb8dbee784be9ac8fc08e16319862": {
      "model_module": "@jupyter-widgets/controls",
      "model_module_version": "1.5.0",
      "model_name": "ButtonModel",
      "state": {
       "description": "Reset Saturation Controls",
       "layout": "IPY_MODEL_77ffe10757b248339069d0e2b846ac44",
       "style": "IPY_MODEL_0bc1c53ab6e94a608f6da9424582f32c"
      }
     },
     "6c8ae20bd60a46ef89e68a9f7f1c2d93": {
      "model_module": "@jupyter-widgets/base",
      "model_module_version": "1.2.0",
      "model_name": "LayoutModel",
      "state": {}
     },
     "6c97b8460ce44a73aa1f6520f0a0d95d": {
      "model_module": "@jupyter-widgets/base",
      "model_module_version": "1.2.0",
      "model_name": "LayoutModel",
      "state": {}
     },
     "6cf83adade094b08909e352e44cbfa0e": {
      "model_module": "@jupyter-widgets/output",
      "model_module_version": "1.0.0",
      "model_name": "OutputModel",
      "state": {
       "layout": "IPY_MODEL_02beee104dc64a8aaac0d50c4a476e82",
       "outputs": [
        {
         "data": {
          "application/vnd.jupyter.widget-view+json": {
           "model_id": "da078088b3b44e28b5f6c293ddd9e7a5",
           "version_major": 2,
           "version_minor": 0
          },
          "text/plain": "Canvas(toolbar=Toolbar(toolitems=[('Home', 'Reset original view', 'home', 'home'), ('Back', 'Back to previous …"
         },
         "metadata": {},
         "output_type": "display_data"
        }
       ]
      }
     },
     "6cfa7df8e6f54ee791f36641b6fe9009": {
      "model_module": "@jupyter-widgets/controls",
      "model_module_version": "1.5.0",
      "model_name": "FloatSliderModel",
      "state": {
       "description": "Compression Threshold",
       "layout": "IPY_MODEL_67599563dfb0490cb7dd4b8e3ae379e3",
       "max": 1,
       "step": 0.01,
       "style": "IPY_MODEL_97f01862870b4f4180ab95bffdb7b5eb",
       "value": 0.5
      }
     },
     "6e0322f49a7241c882bb9dff15a1f025": {
      "model_module": "@jupyter-widgets/base",
      "model_module_version": "1.2.0",
      "model_name": "LayoutModel",
      "state": {}
     },
     "6e07e9a383484312b58cae71ba0bd4bd": {
      "model_module": "@jupyter-widgets/base",
      "model_module_version": "1.2.0",
      "model_name": "LayoutModel",
      "state": {}
     },
     "6e1c1531cdf54f83a72f892237e58992": {
      "model_module": "@jupyter-widgets/controls",
      "model_module_version": "1.5.0",
      "model_name": "ButtonStyleModel",
      "state": {}
     },
     "6e1f7c48e1644027b3a45bc9757e258a": {
      "model_module": "@jupyter-widgets/controls",
      "model_module_version": "1.5.0",
      "model_name": "ButtonModel",
      "state": {
       "description": "Export Image",
       "layout": "IPY_MODEL_683c5d73b5f045f9b1c8221b48e5e557",
       "style": "IPY_MODEL_063a1f4726994947bd4898a6f7324ec8"
      }
     },
     "6e20e2004d274279a45634d9379123f2": {
      "model_module": "@jupyter-widgets/controls",
      "model_module_version": "1.5.0",
      "model_name": "SliderStyleModel",
      "state": {
       "description_width": ""
      }
     },
     "6e3bfdb23206418db97f76ddac22835c": {
      "model_module": "@jupyter-widgets/base",
      "model_module_version": "1.2.0",
      "model_name": "LayoutModel",
      "state": {}
     },
     "6e48c620d74748d09ec65c47726625f3": {
      "model_module": "@jupyter-widgets/controls",
      "model_module_version": "1.5.0",
      "model_name": "FloatSliderModel",
      "state": {
       "description": "Compression Threshold",
       "layout": "IPY_MODEL_7d16e58230bd4959b9e01ac2bb6013ef",
       "max": 1,
       "step": 0.01,
       "style": "IPY_MODEL_7e37a36db09f42d6b4a64f702fb20ef9",
       "value": 0.5
      }
     },
     "6fadbd9dd9ac40e0bbc08690e88f0440": {
      "model_module": "@jupyter-widgets/controls",
      "model_module_version": "1.5.0",
      "model_name": "SliderStyleModel",
      "state": {
       "description_width": ""
      }
     },
     "6ff166f7363144eaac251e1178be9f0c": {
      "model_module": "@jupyter-widgets/base",
      "model_module_version": "1.2.0",
      "model_name": "LayoutModel",
      "state": {}
     },
     "702d00c415be4611af645feda83b156e": {
      "model_module": "@jupyter-widgets/controls",
      "model_module_version": "1.5.0",
      "model_name": "ButtonModel",
      "state": {
       "description": "Reset Compression Controls",
       "layout": "IPY_MODEL_d82dfd3a3b364a15933bf340f4a25e84",
       "style": "IPY_MODEL_6137a1d5efce4e58b462cef6c738054f"
      }
     },
     "704a7e0fae7b4776850a1f21fe2e409a": {
      "model_module": "@jupyter-widgets/base",
      "model_module_version": "1.2.0",
      "model_name": "LayoutModel",
      "state": {}
     },
     "704c63e05ce94700a4cf3f25bb9b2959": {
      "model_module": "@jupyter-widgets/base",
      "model_module_version": "1.2.0",
      "model_name": "LayoutModel",
      "state": {}
     },
     "705b5bc2ae4b4af0a282b596ddbbbc5b": {
      "model_module": "@jupyter-widgets/controls",
      "model_module_version": "1.5.0",
      "model_name": "VBoxModel",
      "state": {
       "children": [
        "IPY_MODEL_c1c02a3c3b414540a2f3f1a4669e888a",
        "IPY_MODEL_f66eba1263de4537b3a5ad85750193c2",
        "IPY_MODEL_4b1b6bcc3ba0410b80ff8b6aff823e7d"
       ],
       "layout": "IPY_MODEL_4c726acaf07741379318ebfcfc1bd524"
      }
     },
     "706040b0dacd4efeb7a3c282f17419cb": {
      "model_module": "@jupyter-widgets/controls",
      "model_module_version": "1.5.0",
      "model_name": "ButtonStyleModel",
      "state": {}
     },
     "709bdca9b8374fbd8586223f355627e6": {
      "model_module": "@jupyter-widgets/controls",
      "model_module_version": "1.5.0",
      "model_name": "HBoxModel",
      "state": {
       "children": [
        "IPY_MODEL_0bbf2ace08bf4663bf41690b8e419855",
        "IPY_MODEL_3abc3502934246ddad1aed8a0447d434",
        "IPY_MODEL_e573b3866aea4fbf93fc94d81818155b"
       ],
       "layout": "IPY_MODEL_0f3a9d3e756f481fb063b52583e36902"
      }
     },
     "70a81876310e4d86a39aa7662cdd684d": {
      "model_module": "@jupyter-widgets/controls",
      "model_module_version": "1.5.0",
      "model_name": "VBoxModel",
      "state": {
       "children": [
        "IPY_MODEL_dbc1d203167a4f32b461b2134cb73905"
       ],
       "layout": "IPY_MODEL_05cd9aa46bf44bbc8db91626bd4b7e07"
      }
     },
     "70cde4ae7fb041a7b8ee04d58ffd78e8": {
      "model_module": "@jupyter-widgets/controls",
      "model_module_version": "1.5.0",
      "model_name": "ButtonModel",
      "state": {
       "description": "Save Figure",
       "layout": "IPY_MODEL_ba81f6500cbf4bddaeeaac0c1eb10035",
       "style": "IPY_MODEL_d0215198ee13450e8e2649b5d26a6dbd"
      }
     },
     "70d3401b1d3e406c827f2607fab1f528": {
      "model_module": "@jupyter-widgets/controls",
      "model_module_version": "1.5.0",
      "model_name": "FloatSliderModel",
      "state": {
       "description": "Protected Area Threshold",
       "layout": "IPY_MODEL_8ea1c93ef1d644b9984f863c4be3b04f",
       "max": 1,
       "step": 0.01,
       "style": "IPY_MODEL_691ad0ca789f411d996180a4c4599d0c",
       "value": 0.7
      }
     },
     "714273f7569a4c86a63a7adf89008240": {
      "model_module": "@jupyter-widgets/base",
      "model_module_version": "1.2.0",
      "model_name": "LayoutModel",
      "state": {}
     },
     "7142d4c2345a4b9c81cd7d57af439670": {
      "model_module": "@jupyter-widgets/controls",
      "model_module_version": "1.5.0",
      "model_name": "SliderStyleModel",
      "state": {
       "description_width": ""
      }
     },
     "718e5324192a49a1b328549597502bef": {
      "model_module": "@jupyter-widgets/base",
      "model_module_version": "1.2.0",
      "model_name": "LayoutModel",
      "state": {
       "border": "solid 4px #222",
       "margin": "4px",
       "padding": "0"
      }
     },
     "71afd435690646b2977ad567bb389912": {
      "model_module": "@jupyter-widgets/controls",
      "model_module_version": "1.5.0",
      "model_name": "HBoxModel",
      "state": {
       "children": [
        "IPY_MODEL_99eda9e29f8a43c5bed21f03433ad260",
        "IPY_MODEL_69586fc5a11d4b52bce1c26ba8d7f4d5",
        "IPY_MODEL_70cde4ae7fb041a7b8ee04d58ffd78e8"
       ],
       "layout": "IPY_MODEL_4ee1907b24c7437b80fde5050a63fbb7"
      }
     },
     "71ce1cfd56164f3f86ed5aa390b3f911": {
      "model_module": "@jupyter-widgets/base",
      "model_module_version": "1.2.0",
      "model_name": "LayoutModel",
      "state": {}
     },
     "71f63087d4e346f6bccb3c456cb63b17": {
      "model_module": "@jupyter-widgets/base",
      "model_module_version": "1.2.0",
      "model_name": "LayoutModel",
      "state": {
       "border": "solid 4px #222",
       "margin": "4px",
       "padding": "0"
      }
     },
     "7208ab386e8f415d87c5293756bbda65": {
      "model_module": "@jupyter-widgets/controls",
      "model_module_version": "1.5.0",
      "model_name": "CheckboxModel",
      "state": {
       "description": "Disable Medicina",
       "disabled": false,
       "layout": "IPY_MODEL_5e898ed6658f43baa9f7a61fadbc1e6f",
       "style": "IPY_MODEL_9edc90dc6c0e466fa2584dd74ddeb74c",
       "value": false
      }
     },
     "722ee57b2e9f48b086ba36a780de0acf": {
      "model_module": "@jupyter-widgets/controls",
      "model_module_version": "1.5.0",
      "model_name": "HBoxModel",
      "state": {
       "children": [
        "IPY_MODEL_545a5956ec2b4eda9ec4ea5fbcca2a6f",
        "IPY_MODEL_7439d80e1cac456ca91b56356fd4a324"
       ],
       "layout": "IPY_MODEL_e9cfc1fab14942bdbb7945599157bd09"
      }
     },
     "724a303d90754130a6e823f5959b0cbe": {
      "model_module": "@jupyter-widgets/controls",
      "model_module_version": "1.5.0",
      "model_name": "HBoxModel",
      "state": {
       "children": [
        "IPY_MODEL_46f2bf96baf64462920ff9cbc77be639",
        "IPY_MODEL_1cac56bc5e3343d1b48049eb592c4049",
        "IPY_MODEL_f71b1666d617415689f67c71edfaf5ef"
       ],
       "layout": "IPY_MODEL_0be2ad9b6c764585b26ad18345e20cc6"
      }
     },
     "725624951d4f4294b59db97f004ffcca": {
      "model_module": "@jupyter-widgets/controls",
      "model_module_version": "1.5.0",
      "model_name": "FloatSliderModel",
      "state": {
       "description": "315°",
       "layout": "IPY_MODEL_9a5f02d6b7054d78a698fda8a0d45a8e",
       "max": 1,
       "min": -1,
       "step": 0.01,
       "style": "IPY_MODEL_e08e3235ec254906911ca50c27cc3b98"
      }
     },
     "730d6f042642448ab53d5c4a86c785c8": {
      "model_module": "@jupyter-widgets/controls",
      "model_module_version": "1.5.0",
      "model_name": "HBoxModel",
      "state": {
       "children": [
        "IPY_MODEL_6bfdb8dbee784be9ac8fc08e16319862",
        "IPY_MODEL_a1ef699482584b6397def5df4b23289a"
       ],
       "layout": "IPY_MODEL_e1d4c87bb85e4435bce8af48c6699d53"
      }
     },
     "73299b3205b6456497f45a2c7698f75e": {
      "model_module": "@jupyter-widgets/base",
      "model_module_version": "1.2.0",
      "model_name": "LayoutModel",
      "state": {
       "border": "solid 4px #222",
       "margin": "4px",
       "padding": "0"
      }
     },
     "734a16e73a874b2c9ae92e55d5c66b39": {
      "model_module": "@jupyter-widgets/controls",
      "model_module_version": "1.5.0",
      "model_name": "ButtonModel",
      "state": {
       "description": "Export Image",
       "layout": "IPY_MODEL_6bdd57f494b94b5ba0c697731612cd01",
       "style": "IPY_MODEL_08090ae33ea54f6aabd2dfa2504c2c01"
      }
     },
     "735e3f18cabc4ab18429d5b8719a0615": {
      "model_module": "@jupyter-widgets/base",
      "model_module_version": "1.2.0",
      "model_name": "LayoutModel",
      "state": {}
     },
     "736f707a20c14182bb34dd081a8b7ab7": {
      "model_module": "@jupyter-widgets/base",
      "model_module_version": "1.2.0",
      "model_name": "LayoutModel",
      "state": {}
     },
     "7384ae1c18284c2ab3a0d19050651e67": {
      "model_module": "@jupyter-widgets/base",
      "model_module_version": "1.2.0",
      "model_name": "LayoutModel",
      "state": {}
     },
     "73efe93b605f4c5e89858fc407ad237e": {
      "model_module": "@jupyter-widgets/base",
      "model_module_version": "1.2.0",
      "model_name": "LayoutModel",
      "state": {}
     },
     "7439d80e1cac456ca91b56356fd4a324": {
      "model_module": "@jupyter-widgets/controls",
      "model_module_version": "1.5.0",
      "model_name": "FloatSliderModel",
      "state": {
       "description": "Protected Area Threshold",
       "layout": "IPY_MODEL_420b2248bbf04836a14d6f5309820ddd",
       "max": 1,
       "step": 0.01,
       "style": "IPY_MODEL_2ad31f0a202d4630af2a38e466f0ffb6",
       "value": 0.7
      }
     },
     "748052206fcc481f915a3a6f94b70348": {
      "model_module": "@jupyter-widgets/base",
      "model_module_version": "1.2.0",
      "model_name": "LayoutModel",
      "state": {}
     },
     "74893d796fd74065a478f2e03de78e6f": {
      "model_module": "@jupyter-widgets/controls",
      "model_module_version": "1.5.0",
      "model_name": "FloatSliderModel",
      "state": {
       "description": "90°",
       "layout": "IPY_MODEL_92bec1dd4b474a4785e5905f4f808fed",
       "max": 1,
       "min": -1,
       "step": 0.01,
       "style": "IPY_MODEL_d45ec6cdfa9c49b698f779ee6c2afd3b"
      }
     },
     "748d16da630840dfb80dc99835b3bd8a": {
      "model_module": "@jupyter-widgets/base",
      "model_module_version": "1.2.0",
      "model_name": "LayoutModel",
      "state": {}
     },
     "74ab7f2a57e345e0843378dd4778837e": {
      "model_module": "@jupyter-widgets/base",
      "model_module_version": "1.2.0",
      "model_name": "LayoutModel",
      "state": {}
     },
     "74ac0cb2988c440db798010c938fec91": {
      "model_module": "@jupyter-widgets/base",
      "model_module_version": "1.2.0",
      "model_name": "LayoutModel",
      "state": {}
     },
     "74d0745a1f224094a04514823667b24f": {
      "model_module": "@jupyter-widgets/controls",
      "model_module_version": "1.5.0",
      "model_name": "VBoxModel",
      "state": {
       "children": [
        "IPY_MODEL_7b3b991b42e948bab2d22b0910d6c427",
        "IPY_MODEL_f5fa9e531a544bf1ab73a340f85cf0d1",
        "IPY_MODEL_f696e01363e14a748538ceb18d933d59"
       ],
       "layout": "IPY_MODEL_2436c94955d74309bc91da16b4dc54f8"
      }
     },
     "74d2acd831d64f13bfccbab8e1034435": {
      "model_module": "jupyter-matplotlib",
      "model_module_version": "^0.7.2",
      "model_name": "MPLCanvasModel",
      "state": {
       "_figure_label": "Figure 3",
       "_height": 396,
       "_width": 1100,
       "header_visible": false,
       "layout": "IPY_MODEL_44f50b2be61240d7ae94cec48e0647e2",
       "resizable": false,
       "toolbar": "IPY_MODEL_a984e5f2a2914ea1b6f78e3827b115f2",
       "toolbar_position": "left",
       "toolbar_visible": false
      }
     },
     "756e651c52c24e9d9463388e54911ee4": {
      "model_module": "@jupyter-widgets/base",
      "model_module_version": "1.2.0",
      "model_name": "LayoutModel",
      "state": {}
     },
     "76349c4887fd4a62b57c6d19c8ea5f4a": {
      "model_module": "@jupyter-widgets/base",
      "model_module_version": "1.2.0",
      "model_name": "LayoutModel",
      "state": {}
     },
     "7649b50f46df4730b4e02ab78518495d": {
      "model_module": "@jupyter-widgets/base",
      "model_module_version": "1.2.0",
      "model_name": "LayoutModel",
      "state": {
       "align_items": "stretch",
       "display": "flex",
       "flex_flow": "column",
       "width": "1128px"
      }
     },
     "771cebbf66c64d4abbf163beeeb443f9": {
      "model_module": "@jupyter-widgets/controls",
      "model_module_version": "1.5.0",
      "model_name": "HBoxModel",
      "state": {
       "children": [
        "IPY_MODEL_9ffbf6d339be47d6a8fa5219395d0c72",
        "IPY_MODEL_734a16e73a874b2c9ae92e55d5c66b39",
        "IPY_MODEL_2c73219fdd314531b68f365087640311"
       ],
       "layout": "IPY_MODEL_c3b1767319f94be4b878d6dc54ece038"
      }
     },
     "7753f8ba1a744e4dbe4cb35c601e4c0b": {
      "model_module": "@jupyter-widgets/base",
      "model_module_version": "1.2.0",
      "model_name": "LayoutModel",
      "state": {}
     },
     "7783eb3f332f4101ac3af3eb98d210cb": {
      "model_module": "@jupyter-widgets/controls",
      "model_module_version": "1.5.0",
      "model_name": "ButtonStyleModel",
      "state": {}
     },
     "77ffe10757b248339069d0e2b846ac44": {
      "model_module": "@jupyter-widgets/base",
      "model_module_version": "1.2.0",
      "model_name": "LayoutModel",
      "state": {}
     },
     "7811c533ea1e421ba6d909477755a617": {
      "model_module": "@jupyter-widgets/controls",
      "model_module_version": "1.5.0",
      "model_name": "TabModel",
      "state": {
       "_titles": {
        "0": "Global Controls"
       },
       "children": [
        "IPY_MODEL_aca665d6e6f84a239ac12227acd502a0"
       ],
       "layout": "IPY_MODEL_bfe6746190c54fb3b3adc98eb5d2ecfd"
      }
     },
     "781681ee07904e8c851dd5ddc51efccd": {
      "model_module": "@jupyter-widgets/controls",
      "model_module_version": "1.5.0",
      "model_name": "ButtonModel",
      "state": {
       "description": "Export Image",
       "layout": "IPY_MODEL_298c576e750048759c2dae379b6448d5",
       "style": "IPY_MODEL_9d88457191d8405fbcd92be096d0ef69"
      }
     },
     "7836ab57a97d432796c8800ce16b9f33": {
      "model_module": "@jupyter-widgets/base",
      "model_module_version": "1.2.0",
      "model_name": "LayoutModel",
      "state": {}
     },
     "78fb8e2917944ddc8487dc5818533ac1": {
      "model_module": "@jupyter-widgets/controls",
      "model_module_version": "1.5.0",
      "model_name": "SliderStyleModel",
      "state": {
       "description_width": ""
      }
     },
     "78fde6b9b7db4309b005ad89d8f609c9": {
      "model_module": "@jupyter-widgets/controls",
      "model_module_version": "1.5.0",
      "model_name": "FloatSliderModel",
      "state": {
       "description": "315°",
       "layout": "IPY_MODEL_d18c3e1cc4c843d1bee267a77208e1f4",
       "max": 1,
       "min": -1,
       "step": 0.01,
       "style": "IPY_MODEL_2b9e382213e94300a6f073d75fed4aea"
      }
     },
     "7934cbfa4db645a192bd7bd463eab2eb": {
      "model_module": "@jupyter-widgets/controls",
      "model_module_version": "1.5.0",
      "model_name": "SliderStyleModel",
      "state": {
       "description_width": ""
      }
     },
     "7952588992664762b80c3373506f0251": {
      "model_module": "@jupyter-widgets/controls",
      "model_module_version": "1.5.0",
      "model_name": "FloatSliderModel",
      "state": {
       "description": "Protected Area Threshold",
       "layout": "IPY_MODEL_9ec041b9b3c44aaf8e6e8fd1dbd9e565",
       "max": 1,
       "step": 0.01,
       "style": "IPY_MODEL_b210286d604a44dda9d9a15076e73a87",
       "value": 0.7
      }
     },
     "795ff56e3b7c4960b714aad96811fa9a": {
      "model_module": "@jupyter-widgets/controls",
      "model_module_version": "1.5.0",
      "model_name": "SliderStyleModel",
      "state": {
       "description_width": ""
      }
     },
     "79728f22e852417a958ae03d025af191": {
      "model_module": "jupyter-matplotlib",
      "model_module_version": "^0.7.2",
      "model_name": "ToolbarModel",
      "state": {
       "layout": "IPY_MODEL_aacf88f271374e9a9df3fb8a8f6106c6",
       "toolitems": [
        [
         "Home",
         "Reset original view",
         "home",
         "home"
        ],
        [
         "Back",
         "Back to previous view",
         "arrow-left",
         "back"
        ],
        [
         "Forward",
         "Forward to next view",
         "arrow-right",
         "forward"
        ],
        [
         "Pan",
         "Pan axes with left mouse, zoom with right",
         "arrows",
         "pan"
        ],
        [
         "Zoom",
         "Zoom to rectangle",
         "square-o",
         "zoom"
        ],
        [
         "Download",
         "Download plot",
         "floppy-o",
         "save_figure"
        ]
       ]
      }
     },
     "7974b3c71a7c4011a221158e26de200a": {
      "model_module": "@jupyter-widgets/base",
      "model_module_version": "1.2.0",
      "model_name": "LayoutModel",
      "state": {}
     },
     "7a77e25737df450bad55fb993aa3c6e0": {
      "model_module": "@jupyter-widgets/controls",
      "model_module_version": "1.5.0",
      "model_name": "ButtonStyleModel",
      "state": {}
     },
     "7aa8743f1df041f98a1beae5a627d682": {
      "model_module": "@jupyter-widgets/controls",
      "model_module_version": "1.5.0",
      "model_name": "SliderStyleModel",
      "state": {
       "description_width": ""
      }
     },
     "7b0062cbb3f146e19fcc29131dafc01d": {
      "model_module": "@jupyter-widgets/controls",
      "model_module_version": "1.5.0",
      "model_name": "FloatSliderModel",
      "state": {
       "description": "Compression Threshold",
       "layout": "IPY_MODEL_fb49c2baf4244f48afa30b552d2d7f6c",
       "max": 1,
       "step": 0.01,
       "style": "IPY_MODEL_389361fce7c0450f8f207775be10b9a6",
       "value": 0.8
      }
     },
     "7b3b991b42e948bab2d22b0910d6c427": {
      "model_module": "@jupyter-widgets/controls",
      "model_module_version": "1.5.0",
      "model_name": "FloatSliderModel",
      "state": {
       "description": "135°",
       "layout": "IPY_MODEL_16852063f3d644c097613427a7e90299",
       "max": 1,
       "min": -1,
       "step": 0.01,
       "style": "IPY_MODEL_2a6c54697fd6469eb3a4505eeacbc6cb"
      }
     },
     "7b6d90829e1b48fe886ae728152f0f85": {
      "model_module": "@jupyter-widgets/base",
      "model_module_version": "1.2.0",
      "model_name": "LayoutModel",
      "state": {}
     },
     "7bdd22a62b2c4feda7ba2ef8dc698044": {
      "model_module": "@jupyter-widgets/controls",
      "model_module_version": "1.5.0",
      "model_name": "HBoxModel",
      "state": {
       "children": [
        "IPY_MODEL_559a648dae5f476ab4b3dc7d981b9c00",
        "IPY_MODEL_103fc4a3c698493db1848c7ddd8ba9a2"
       ],
       "layout": "IPY_MODEL_2ca37a75821943e8ad28140c2141da82"
      }
     },
     "7be1ae9f6ebd4b40887ba6250f920fb1": {
      "model_module": "@jupyter-widgets/controls",
      "model_module_version": "1.5.0",
      "model_name": "SliderStyleModel",
      "state": {
       "description_width": ""
      }
     },
     "7c583b22c69d487db16b411d07825682": {
      "model_module": "@jupyter-widgets/base",
      "model_module_version": "1.2.0",
      "model_name": "LayoutModel",
      "state": {}
     },
     "7cdfccf0c5c64ec286403aedfe635fd6": {
      "model_module": "@jupyter-widgets/base",
      "model_module_version": "1.2.0",
      "model_name": "LayoutModel",
      "state": {
       "border": "solid 4px #222",
       "margin": "4px",
       "padding": "0"
      }
     },
     "7d16e58230bd4959b9e01ac2bb6013ef": {
      "model_module": "@jupyter-widgets/base",
      "model_module_version": "1.2.0",
      "model_name": "LayoutModel",
      "state": {}
     },
     "7d84b82ab95742828cfc9a6a2d18fddb": {
      "model_module": "@jupyter-widgets/controls",
      "model_module_version": "1.5.0",
      "model_name": "ButtonStyleModel",
      "state": {}
     },
     "7d9055ee1558409b9bf31cc8aa807c7d": {
      "model_module": "@jupyter-widgets/base",
      "model_module_version": "1.2.0",
      "model_name": "LayoutModel",
      "state": {}
     },
     "7dbcc23fefde4cf09ecded809b14b78d": {
      "model_module": "jupyter-matplotlib",
      "model_module_version": "^0.7.2",
      "model_name": "ToolbarModel",
      "state": {
       "layout": "IPY_MODEL_d0aff7501f1547ad93d0962bb82031ed",
       "toolitems": [
        [
         "Home",
         "Reset original view",
         "home",
         "home"
        ],
        [
         "Back",
         "Back to previous view",
         "arrow-left",
         "back"
        ],
        [
         "Forward",
         "Forward to next view",
         "arrow-right",
         "forward"
        ],
        [
         "Pan",
         "Pan axes with left mouse, zoom with right",
         "arrows",
         "pan"
        ],
        [
         "Zoom",
         "Zoom to rectangle",
         "square-o",
         "zoom"
        ],
        [
         "Download",
         "Download plot",
         "floppy-o",
         "save_figure"
        ]
       ]
      }
     },
     "7dc16f39fcc344d08a621ccbfde81d90": {
      "model_module": "@jupyter-widgets/controls",
      "model_module_version": "1.5.0",
      "model_name": "ButtonModel",
      "state": {
       "description": "Reset Protected Area",
       "layout": "IPY_MODEL_87fac71308184fdaaf826a189fa74c39",
       "style": "IPY_MODEL_22f4f71de2be4b18a4ca4be47e76897e"
      }
     },
     "7e0cf31eda344c71a0b0bb84c5637fe4": {
      "model_module": "@jupyter-widgets/base",
      "model_module_version": "1.2.0",
      "model_name": "LayoutModel",
      "state": {}
     },
     "7e2dd2682e334cb689f1d7ed133fbfc0": {
      "model_module": "@jupyter-widgets/controls",
      "model_module_version": "1.5.0",
      "model_name": "ButtonStyleModel",
      "state": {}
     },
     "7e37a36db09f42d6b4a64f702fb20ef9": {
      "model_module": "@jupyter-widgets/controls",
      "model_module_version": "1.5.0",
      "model_name": "SliderStyleModel",
      "state": {
       "description_width": ""
      }
     },
     "7e420ac7ffba452c8468bda78c51d6da": {
      "model_module": "@jupyter-widgets/base",
      "model_module_version": "1.2.0",
      "model_name": "LayoutModel",
      "state": {}
     },
     "7e5cb33ca5db412f9535bd0aa8b66557": {
      "model_module": "@jupyter-widgets/base",
      "model_module_version": "1.2.0",
      "model_name": "LayoutModel",
      "state": {}
     },
     "7e77d235a40f48939300903976f564b2": {
      "model_module": "@jupyter-widgets/controls",
      "model_module_version": "1.5.0",
      "model_name": "CheckboxModel",
      "state": {
       "description": "Disable Medicina",
       "disabled": false,
       "layout": "IPY_MODEL_83ce88fbdcc440a0a60e816e8f31aa83",
       "style": "IPY_MODEL_93709883839a4f7ab61037ccd3dacc6d",
       "value": false
      }
     },
     "7f2338ff65ce45a2bd83ef8175f4daf9": {
      "model_module": "@jupyter-widgets/base",
      "model_module_version": "1.2.0",
      "model_name": "LayoutModel",
      "state": {}
     },
     "7f8660b8fb8b4d35a0e0ba9a40848d3a": {
      "model_module": "@jupyter-widgets/controls",
      "model_module_version": "1.5.0",
      "model_name": "SliderStyleModel",
      "state": {
       "description_width": ""
      }
     },
     "80114885d9e840c29cc60fb2039ac816": {
      "model_module": "@jupyter-widgets/controls",
      "model_module_version": "1.5.0",
      "model_name": "ButtonModel",
      "state": {
       "description": "Export Image",
       "layout": "IPY_MODEL_da8d8461421246c093db491074ce9755",
       "style": "IPY_MODEL_16911b297a574d8d85f51d94fe562b5b"
      }
     },
     "8052e96c438649fa80956dded9113a80": {
      "model_module": "@jupyter-widgets/output",
      "model_module_version": "1.0.0",
      "model_name": "OutputModel",
      "state": {
       "layout": "IPY_MODEL_987c690e00b147af82379fc99cf34d34",
       "outputs": [
        {
         "data": {
          "application/vnd.jupyter.widget-view+json": {
           "model_id": "b448423aa38640469736d90d3b14d322",
           "version_major": 2,
           "version_minor": 0
          },
          "text/plain": "Canvas(toolbar=Toolbar(toolitems=[('Home', 'Reset original view', 'home', 'home'), ('Back', 'Back to previous …"
         },
         "metadata": {},
         "output_type": "display_data"
        }
       ]
      }
     },
     "806699ceb89b4ac1a95dcfa7b6074814": {
      "model_module": "@jupyter-widgets/base",
      "model_module_version": "1.2.0",
      "model_name": "LayoutModel",
      "state": {}
     },
     "8086d35275ff4f3f8c7397104721ea85": {
      "model_module": "@jupyter-widgets/controls",
      "model_module_version": "1.5.0",
      "model_name": "FloatSliderModel",
      "state": {
       "description": "0°",
       "layout": "IPY_MODEL_51ca7a40ed4841319b9f1c6eb8a9a3bc",
       "max": 1,
       "min": -1,
       "step": 0.01,
       "style": "IPY_MODEL_a40a5ebff2344294abcd4269f885e506"
      }
     },
     "8086dcd4eb384a6f829e7fa77462af96": {
      "model_module": "@jupyter-widgets/base",
      "model_module_version": "1.2.0",
      "model_name": "LayoutModel",
      "state": {}
     },
     "81ac389699a5491a9225170d4501dcf1": {
      "model_module": "jupyter-matplotlib",
      "model_module_version": "^0.7.2",
      "model_name": "ToolbarModel",
      "state": {
       "layout": "IPY_MODEL_b4df5c2a861245c58a59da679a524320",
       "toolitems": [
        [
         "Home",
         "Reset original view",
         "home",
         "home"
        ],
        [
         "Back",
         "Back to previous view",
         "arrow-left",
         "back"
        ],
        [
         "Forward",
         "Forward to next view",
         "arrow-right",
         "forward"
        ],
        [
         "Pan",
         "Pan axes with left mouse, zoom with right",
         "arrows",
         "pan"
        ],
        [
         "Zoom",
         "Zoom to rectangle",
         "square-o",
         "zoom"
        ],
        [
         "Download",
         "Download plot",
         "floppy-o",
         "save_figure"
        ]
       ]
      }
     },
     "828e85214f944c18a44995f86fd7d2e6": {
      "model_module": "@jupyter-widgets/base",
      "model_module_version": "1.2.0",
      "model_name": "LayoutModel",
      "state": {}
     },
     "82af289d0ec249369bdb740cc3154a41": {
      "model_module": "@jupyter-widgets/base",
      "model_module_version": "1.2.0",
      "model_name": "LayoutModel",
      "state": {
       "border": "solid 4px #222",
       "margin": "4px",
       "padding": "0"
      }
     },
     "82d979c8f3c54fe8a742a743439da884": {
      "model_module": "@jupyter-widgets/base",
      "model_module_version": "1.2.0",
      "model_name": "LayoutModel",
      "state": {}
     },
     "836fda241939462a89fb42f8fbe2f965": {
      "model_module": "@jupyter-widgets/controls",
      "model_module_version": "1.5.0",
      "model_name": "ButtonModel",
      "state": {
       "description": "Save Figure",
       "layout": "IPY_MODEL_b6112f303318493b9e1d465bed0f0001",
       "style": "IPY_MODEL_34b4da2fb948412faeff2b32c09d84d7"
      }
     },
     "83be26a7dc9740c888e76a1b472eecc8": {
      "model_module": "@jupyter-widgets/controls",
      "model_module_version": "1.5.0",
      "model_name": "ButtonModel",
      "state": {
       "description": "Reset Hue Controls",
       "layout": "IPY_MODEL_a57cc4f2fd1d499d96b65abfeb875112",
       "style": "IPY_MODEL_108edd0051f94c65852a1c4246088796"
      }
     },
     "83ce88fbdcc440a0a60e816e8f31aa83": {
      "model_module": "@jupyter-widgets/base",
      "model_module_version": "1.2.0",
      "model_name": "LayoutModel",
      "state": {}
     },
     "83dec0029198406e9bd3ebc294f45ce5": {
      "model_module": "@jupyter-widgets/base",
      "model_module_version": "1.2.0",
      "model_name": "LayoutModel",
      "state": {}
     },
     "84027b2a38724016939f773ce213728a": {
      "model_module": "@jupyter-widgets/base",
      "model_module_version": "1.2.0",
      "model_name": "LayoutModel",
      "state": {}
     },
     "841ff77353944308a6a19b9fe6009000": {
      "model_module": "@jupyter-widgets/controls",
      "model_module_version": "1.5.0",
      "model_name": "ButtonStyleModel",
      "state": {}
     },
     "8446ba85500f426d986e18847ebe5785": {
      "model_module": "@jupyter-widgets/controls",
      "model_module_version": "1.5.0",
      "model_name": "ButtonStyleModel",
      "state": {}
     },
     "8463b0a314984ee2add062b7851e5938": {
      "model_module": "@jupyter-widgets/controls",
      "model_module_version": "1.5.0",
      "model_name": "SliderStyleModel",
      "state": {
       "description_width": ""
      }
     },
     "84f9d05238e142a8b65f12864219c964": {
      "model_module": "@jupyter-widgets/controls",
      "model_module_version": "1.5.0",
      "model_name": "SliderStyleModel",
      "state": {
       "description_width": ""
      }
     },
     "8503d46696fe4de7a067f448d0f37bd7": {
      "model_module": "@jupyter-widgets/base",
      "model_module_version": "1.2.0",
      "model_name": "LayoutModel",
      "state": {
       "align_items": "stretch",
       "display": "flex",
       "flex_flow": "column",
       "width": "1128px"
      }
     },
     "8530fbf7fa4141c796dc08a1cddcad9e": {
      "model_module": "@jupyter-widgets/base",
      "model_module_version": "1.2.0",
      "model_name": "LayoutModel",
      "state": {}
     },
     "8536744a19b34d62bdc5c6fd51d48240": {
      "model_module": "@jupyter-widgets/base",
      "model_module_version": "1.2.0",
      "model_name": "LayoutModel",
      "state": {}
     },
     "859773dbe092407ab019a9b21951038f": {
      "model_module": "@jupyter-widgets/controls",
      "model_module_version": "1.5.0",
      "model_name": "HBoxModel",
      "state": {
       "children": [
        "IPY_MODEL_df32bf65b12a49f799cd840ac9dfd9e8",
        "IPY_MODEL_d80e119fc3cf4c78884fb016d4a1c305"
       ],
       "layout": "IPY_MODEL_73efe93b605f4c5e89858fc407ad237e"
      }
     },
     "85a3dd5362cd4ba8a09534cea93dfa3e": {
      "model_module": "@jupyter-widgets/controls",
      "model_module_version": "1.5.0",
      "model_name": "HBoxModel",
      "state": {
       "children": [
        "IPY_MODEL_702d00c415be4611af645feda83b156e",
        "IPY_MODEL_001b520979d243a2926dc1893f4e4884"
       ],
       "layout": "IPY_MODEL_be4bfc3daa1547329248649e2436cdcf"
      }
     },
     "8602b48ea9c4464593a60ca4bb10a73b": {
      "model_module": "@jupyter-widgets/controls",
      "model_module_version": "1.5.0",
      "model_name": "SliderStyleModel",
      "state": {
       "description_width": ""
      }
     },
     "8618a5cbfcf24992b14926ab38fba5d0": {
      "model_module": "@jupyter-widgets/controls",
      "model_module_version": "1.5.0",
      "model_name": "SliderStyleModel",
      "state": {
       "description_width": ""
      }
     },
     "86a3d76c96cd493f82b6b520b3e9786c": {
      "model_module": "@jupyter-widgets/base",
      "model_module_version": "1.2.0",
      "model_name": "LayoutModel",
      "state": {}
     },
     "873d7ee6d04e476fa6395b3ea6214137": {
      "model_module": "@jupyter-widgets/base",
      "model_module_version": "1.2.0",
      "model_name": "LayoutModel",
      "state": {}
     },
     "87a04c23418a497e808604b1d0370f57": {
      "model_module": "@jupyter-widgets/base",
      "model_module_version": "1.2.0",
      "model_name": "LayoutModel",
      "state": {}
     },
     "87fac71308184fdaaf826a189fa74c39": {
      "model_module": "@jupyter-widgets/base",
      "model_module_version": "1.2.0",
      "model_name": "LayoutModel",
      "state": {}
     },
     "883130440717483aa77bccea3e4321ca": {
      "model_module": "@jupyter-widgets/base",
      "model_module_version": "1.2.0",
      "model_name": "LayoutModel",
      "state": {}
     },
     "8852eef29a0f48599bd637afa2325659": {
      "model_module": "@jupyter-widgets/controls",
      "model_module_version": "1.5.0",
      "model_name": "FloatSliderModel",
      "state": {
       "description": "Compression Threshold",
       "layout": "IPY_MODEL_bf75c9dadb484aeca596ca4524e041b6",
       "max": 1,
       "step": 0.01,
       "style": "IPY_MODEL_6b651e739357490485149be041aa154d",
       "value": 0.5
      }
     },
     "885fcdf038d74c1c8668bc9d56702be7": {
      "model_module": "@jupyter-widgets/base",
      "model_module_version": "1.2.0",
      "model_name": "LayoutModel",
      "state": {}
     },
     "88b0d213f16449e48ed33e30bbebf0b6": {
      "model_module": "@jupyter-widgets/controls",
      "model_module_version": "1.5.0",
      "model_name": "HBoxModel",
      "state": {
       "children": [
        "IPY_MODEL_291e50b574004d23a8b429340a41bd80",
        "IPY_MODEL_705b5bc2ae4b4af0a282b596ddbbbc5b",
        "IPY_MODEL_52e89e8241c64c7cb8d789647f1759c2",
        "IPY_MODEL_b9b60a688354433ab6f87fb2e95d1c14"
       ],
       "layout": "IPY_MODEL_b2c4cd24689a47cf8d8a23a1ea854a03"
      }
     },
     "89650ae88ef44f238b1f0e1f30f3fbd1": {
      "model_module": "@jupyter-widgets/base",
      "model_module_version": "1.2.0",
      "model_name": "LayoutModel",
      "state": {}
     },
     "8966d61dfeb4422f8292915cd9201026": {
      "model_module": "@jupyter-widgets/controls",
      "model_module_version": "1.5.0",
      "model_name": "TabModel",
      "state": {
       "_titles": {
        "0": "Global Controls",
        "1": "Compression Controls"
       },
       "children": [
        "IPY_MODEL_38f17bb5516a44d5969bb04b23fbab52",
        "IPY_MODEL_3fa553d6f4ba4ad18b2805029e47b8ac"
       ],
       "layout": "IPY_MODEL_d85080aebd1e4a38afdf7e8b68b5b19b"
      }
     },
     "89776b2e535d48db9b8718c7be1e46a3": {
      "model_module": "@jupyter-widgets/controls",
      "model_module_version": "1.5.0",
      "model_name": "FloatSliderModel",
      "state": {
       "description": "45°",
       "layout": "IPY_MODEL_97e5fc534fb2456d850066a7d8866ef5",
       "max": 1,
       "min": -1,
       "step": 0.01,
       "style": "IPY_MODEL_7aa8743f1df041f98a1beae5a627d682"
      }
     },
     "8a1783b18c694bb9b773517e8fa44df8": {
      "model_module": "@jupyter-widgets/controls",
      "model_module_version": "1.5.0",
      "model_name": "FloatSliderModel",
      "state": {
       "description": "90°",
       "layout": "IPY_MODEL_aa7589eaa4764bf28a300c3c7d40fbfa",
       "max": 1,
       "min": -1,
       "step": 0.01,
       "style": "IPY_MODEL_1e805be5ace145cfbaafc4a205e447cd"
      }
     },
     "8a4096d30239477a907ec10023dd6ada": {
      "model_module": "@jupyter-widgets/output",
      "model_module_version": "1.0.0",
      "model_name": "OutputModel",
      "state": {
       "layout": "IPY_MODEL_8e0b5769d15e42d1b05cdcdf8dc311da",
       "outputs": [
        {
         "data": {
          "application/vnd.jupyter.widget-view+json": {
           "model_id": "33f5d4955d3b43ad912364a44f57e5d5",
           "version_major": 2,
           "version_minor": 0
          },
          "text/plain": "Canvas(toolbar=Toolbar(toolitems=[('Home', 'Reset original view', 'home', 'home'), ('Back', 'Back to previous …"
         },
         "metadata": {},
         "output_type": "display_data"
        }
       ]
      }
     },
     "8a4b5c8b6e0a4dd98f5521ebbf52c173": {
      "model_module": "@jupyter-widgets/controls",
      "model_module_version": "1.5.0",
      "model_name": "DescriptionStyleModel",
      "state": {
       "description_width": ""
      }
     },
     "8a82234c86704fd5ab80a8b95a3bd03b": {
      "model_module": "@jupyter-widgets/base",
      "model_module_version": "1.2.0",
      "model_name": "LayoutModel",
      "state": {}
     },
     "8a843e934ccc455389a26c07328cdd2d": {
      "model_module": "@jupyter-widgets/controls",
      "model_module_version": "1.5.0",
      "model_name": "SliderStyleModel",
      "state": {
       "description_width": ""
      }
     },
     "8a8b87abfee4434fb1d2fe2457e406a5": {
      "model_module": "@jupyter-widgets/base",
      "model_module_version": "1.2.0",
      "model_name": "LayoutModel",
      "state": {}
     },
     "8ac38152f7b0424180fe96787abcb9bd": {
      "model_module": "@jupyter-widgets/controls",
      "model_module_version": "1.5.0",
      "model_name": "SliderStyleModel",
      "state": {
       "description_width": ""
      }
     },
     "8b14cb4669a34fabb2bf11f02c8418fb": {
      "model_module": "@jupyter-widgets/base",
      "model_module_version": "1.2.0",
      "model_name": "LayoutModel",
      "state": {}
     },
     "8b6706f15ba84a8f8a6ac68ec6c2daf0": {
      "model_module": "@jupyter-widgets/controls",
      "model_module_version": "1.5.0",
      "model_name": "VBoxModel",
      "state": {
       "children": [
        "IPY_MODEL_4188a0b2fbe84e6e92d7bc7748889b14"
       ],
       "layout": "IPY_MODEL_a7dbbd409e7647e192b24cf87a6a87ec"
      }
     },
     "8ba1f9f64af5455b9fc44913557c8ba4": {
      "model_module": "@jupyter-widgets/base",
      "model_module_version": "1.2.0",
      "model_name": "LayoutModel",
      "state": {}
     },
     "8ba94ae7d2d4474f8b04015df0171f07": {
      "model_module": "@jupyter-widgets/controls",
      "model_module_version": "1.5.0",
      "model_name": "VBoxModel",
      "state": {
       "children": [
        "IPY_MODEL_b9170d771b2e4591abd102453160f1ba",
        "IPY_MODEL_29d120be8ebf49248f9d7fa2c06e1f3d",
        "IPY_MODEL_e58d5722c41f4e2fa1b48b1e8152b46b"
       ],
       "layout": "IPY_MODEL_5f7c0e01d2654bd8a850112a38d83839"
      }
     },
     "8c025b6822624f2fb6b2c4b2bcd41e12": {
      "model_module": "@jupyter-widgets/controls",
      "model_module_version": "1.5.0",
      "model_name": "SliderStyleModel",
      "state": {
       "description_width": ""
      }
     },
     "8c2867f653734f05950467d00f5c80f6": {
      "model_module": "@jupyter-widgets/base",
      "model_module_version": "1.2.0",
      "model_name": "LayoutModel",
      "state": {}
     },
     "8c337373309b416282f7cb34164c879c": {
      "model_module": "@jupyter-widgets/base",
      "model_module_version": "1.2.0",
      "model_name": "LayoutModel",
      "state": {}
     },
     "8c6bc481bbc346468bce6c215a1e6f67": {
      "model_module": "@jupyter-widgets/controls",
      "model_module_version": "1.5.0",
      "model_name": "VBoxModel",
      "state": {
       "children": [
        "IPY_MODEL_5b1eeb9d6e6e4f33b50f25b54ba346b9",
        "IPY_MODEL_6205d4d3dfb448298e520f41c35b998e",
        "IPY_MODEL_b75b11d8a5a8410a8c6c4230ffc528d5"
       ],
       "layout": "IPY_MODEL_c048eb17459c433fb5fb70d2e03eb4dd"
      }
     },
     "8cca0ca652ea4eb3af1a9b4bb8e13eba": {
      "model_module": "@jupyter-widgets/controls",
      "model_module_version": "1.5.0",
      "model_name": "ButtonStyleModel",
      "state": {}
     },
     "8d7f668ac19446c99466c2297508c849": {
      "model_module": "@jupyter-widgets/controls",
      "model_module_version": "1.5.0",
      "model_name": "ButtonModel",
      "state": {
       "description": "Reset Protected Area",
       "layout": "IPY_MODEL_9c1d6f94adb64112bf9f705cf3bf9368",
       "style": "IPY_MODEL_68d50e47d9aa4d7c91ba675c19812d6a"
      }
     },
     "8de1950e47d54d83a1e30edc13f9ad7b": {
      "model_module": "@jupyter-widgets/controls",
      "model_module_version": "1.5.0",
      "model_name": "SliderStyleModel",
      "state": {
       "description_width": ""
      }
     },
     "8e0b5769d15e42d1b05cdcdf8dc311da": {
      "model_module": "@jupyter-widgets/base",
      "model_module_version": "1.2.0",
      "model_name": "LayoutModel",
      "state": {
       "border": "solid 4px #222",
       "margin": "4px",
       "padding": "0"
      }
     },
     "8e77c693b6b64264bb4a6f4ecc54ad7f": {
      "model_module": "@jupyter-widgets/base",
      "model_module_version": "1.2.0",
      "model_name": "LayoutModel",
      "state": {}
     },
     "8ea1c93ef1d644b9984f863c4be3b04f": {
      "model_module": "@jupyter-widgets/base",
      "model_module_version": "1.2.0",
      "model_name": "LayoutModel",
      "state": {}
     },
     "8eb50f6618914ab699db267536e56bf4": {
      "model_module": "@jupyter-widgets/base",
      "model_module_version": "1.2.0",
      "model_name": "LayoutModel",
      "state": {}
     },
     "8f1a12354f084151aabaea2e1836d772": {
      "model_module": "@jupyter-widgets/base",
      "model_module_version": "1.2.0",
      "model_name": "LayoutModel",
      "state": {}
     },
     "8f6182fc8e51411f974217bb56d12e9e": {
      "model_module": "@jupyter-widgets/base",
      "model_module_version": "1.2.0",
      "model_name": "LayoutModel",
      "state": {}
     },
     "8f87f819da3d4375aff45260a445e43d": {
      "model_module": "@jupyter-widgets/controls",
      "model_module_version": "1.5.0",
      "model_name": "FloatSliderModel",
      "state": {
       "description": "Protected Area Threshold",
       "layout": "IPY_MODEL_31166ec0a03244b3a5495b13f7447560",
       "max": 1,
       "step": 0.01,
       "style": "IPY_MODEL_06ac3c1c1b31454aaf37ab162b225f6c",
       "value": 0.7
      }
     },
     "8f90484ee921460abe55593eca102142": {
      "model_module": "jupyter-matplotlib",
      "model_module_version": "^0.7.2",
      "model_name": "MPLCanvasModel",
      "state": {
       "_figure_label": "Figure 19",
       "_height": 550,
       "_width": 1100,
       "header_visible": false,
       "layout": "IPY_MODEL_5bea70a081a04f5caaff0449b83457a2",
       "resizable": false,
       "toolbar": "IPY_MODEL_1a101784a279476c9a5dc92b1c95796c",
       "toolbar_position": "left",
       "toolbar_visible": false
      }
     },
     "8fdfb12c53234e17b40c4474416c346f": {
      "model_module": "@jupyter-widgets/output",
      "model_module_version": "1.0.0",
      "model_name": "OutputModel",
      "state": {
       "layout": "IPY_MODEL_29c22d005dfe4a15bf33e797722f3e07",
       "outputs": [
        {
         "data": {
          "application/vnd.jupyter.widget-view+json": {
           "model_id": "65659e3995804995830013fe3bde7d2c",
           "version_major": 2,
           "version_minor": 0
          },
          "text/plain": "Canvas(toolbar=Toolbar(toolitems=[('Home', 'Reset original view', 'home', 'home'), ('Back', 'Back to previous …"
         },
         "metadata": {},
         "output_type": "display_data"
        }
       ]
      }
     },
     "906b2bdc6a294edb929557c05b5b8c1c": {
      "model_module": "@jupyter-widgets/base",
      "model_module_version": "1.2.0",
      "model_name": "LayoutModel",
      "state": {}
     },
     "91676b1e675147a6a3d8dc1c005629ad": {
      "model_module": "@jupyter-widgets/controls",
      "model_module_version": "1.5.0",
      "model_name": "ButtonModel",
      "state": {
       "description": "Reset Saturation Controls",
       "layout": "IPY_MODEL_71ce1cfd56164f3f86ed5aa390b3f911",
       "style": "IPY_MODEL_b346c10dab494d928abdf27494336fb5"
      }
     },
     "918193b652e441cd8d00721a5a103891": {
      "model_module": "@jupyter-widgets/base",
      "model_module_version": "1.2.0",
      "model_name": "LayoutModel",
      "state": {}
     },
     "91f70ba5d28341ad8a3b4103b18a8fa1": {
      "model_module": "@jupyter-widgets/base",
      "model_module_version": "1.2.0",
      "model_name": "LayoutModel",
      "state": {}
     },
     "92500fe974654bcbb6251dd4c4a9e6ca": {
      "model_module": "@jupyter-widgets/base",
      "model_module_version": "1.2.0",
      "model_name": "LayoutModel",
      "state": {
       "border": "solid 4px #222",
       "margin": "4px",
       "padding": "0"
      }
     },
     "92bec1dd4b474a4785e5905f4f808fed": {
      "model_module": "@jupyter-widgets/base",
      "model_module_version": "1.2.0",
      "model_name": "LayoutModel",
      "state": {}
     },
     "92f36bcc9fe84f81a367c0ceb2e3c0e6": {
      "model_module": "jupyter-matplotlib",
      "model_module_version": "^0.7.2",
      "model_name": "ToolbarModel",
      "state": {
       "layout": "IPY_MODEL_b1c0c22e06bf4387b28e485d696b3cbe",
       "toolitems": [
        [
         "Home",
         "Reset original view",
         "home",
         "home"
        ],
        [
         "Back",
         "Back to previous view",
         "arrow-left",
         "back"
        ],
        [
         "Forward",
         "Forward to next view",
         "arrow-right",
         "forward"
        ],
        [
         "Pan",
         "Pan axes with left mouse, zoom with right",
         "arrows",
         "pan"
        ],
        [
         "Zoom",
         "Zoom to rectangle",
         "square-o",
         "zoom"
        ],
        [
         "Download",
         "Download plot",
         "floppy-o",
         "save_figure"
        ]
       ]
      }
     },
     "92f7271a9a6b47ec950bca80ac950a7e": {
      "model_module": "@jupyter-widgets/controls",
      "model_module_version": "1.5.0",
      "model_name": "HBoxModel",
      "state": {
       "children": [
        "IPY_MODEL_62396b502643464189a8ced6cb955ab7",
        "IPY_MODEL_b7c583970df0456b9bfcc27f180a834a"
       ],
       "layout": "IPY_MODEL_c105ea6111574dcb882844e082e0d285"
      }
     },
     "932d054941eb4d39a14210fa7cf28d6f": {
      "model_module": "@jupyter-widgets/base",
      "model_module_version": "1.2.0",
      "model_name": "LayoutModel",
      "state": {
       "border": "solid 4px #222",
       "margin": "4px",
       "padding": "0"
      }
     },
     "936b4ca1d0394fe0983dcb82ec61549a": {
      "model_module": "@jupyter-widgets/controls",
      "model_module_version": "1.5.0",
      "model_name": "ButtonStyleModel",
      "state": {}
     },
     "93709883839a4f7ab61037ccd3dacc6d": {
      "model_module": "@jupyter-widgets/controls",
      "model_module_version": "1.5.0",
      "model_name": "DescriptionStyleModel",
      "state": {
       "description_width": ""
      }
     },
     "94773d80d17545abaa6f1784dff909ef": {
      "model_module": "@jupyter-widgets/base",
      "model_module_version": "1.2.0",
      "model_name": "LayoutModel",
      "state": {}
     },
     "949cd34f41e74e4586bedf822b1110db": {
      "model_module": "jupyter-matplotlib",
      "model_module_version": "^0.7.2",
      "model_name": "MPLCanvasModel",
      "state": {
       "_figure_label": "Figure 8",
       "_height": 465,
       "_width": 1099,
       "header_visible": false,
       "layout": "IPY_MODEL_28a1b56bccb4435c91d9d0c3ebed4dbe",
       "resizable": false,
       "toolbar": "IPY_MODEL_7dbcc23fefde4cf09ecded809b14b78d",
       "toolbar_position": "left",
       "toolbar_visible": false
      }
     },
     "95580372fcd64e23ae2d9d8657b7720a": {
      "model_module": "@jupyter-widgets/controls",
      "model_module_version": "1.5.0",
      "model_name": "SliderStyleModel",
      "state": {
       "description_width": ""
      }
     },
     "961bc82840354cbe9f63886ac7456ce1": {
      "model_module": "jupyter-matplotlib",
      "model_module_version": "^0.7.2",
      "model_name": "ToolbarModel",
      "state": {
       "layout": "IPY_MODEL_15d519542f364d718c0d28865ea26f39",
       "toolitems": [
        [
         "Home",
         "Reset original view",
         "home",
         "home"
        ],
        [
         "Back",
         "Back to previous view",
         "arrow-left",
         "back"
        ],
        [
         "Forward",
         "Forward to next view",
         "arrow-right",
         "forward"
        ],
        [
         "Pan",
         "Pan axes with left mouse, zoom with right",
         "arrows",
         "pan"
        ],
        [
         "Zoom",
         "Zoom to rectangle",
         "square-o",
         "zoom"
        ],
        [
         "Download",
         "Download plot",
         "floppy-o",
         "save_figure"
        ]
       ]
      }
     },
     "9652faaec18e48aabf4664f9e4460829": {
      "model_module": "@jupyter-widgets/controls",
      "model_module_version": "1.5.0",
      "model_name": "ButtonModel",
      "state": {
       "description": "Reset Protected Area",
       "layout": "IPY_MODEL_b09d6295668742fd83e00a674acbe6ad",
       "style": "IPY_MODEL_8cca0ca652ea4eb3af1a9b4bb8e13eba"
      }
     },
     "9676b9b8aa6245138a5e3dc6bd5ac1c2": {
      "model_module": "@jupyter-widgets/controls",
      "model_module_version": "1.5.0",
      "model_name": "HBoxModel",
      "state": {
       "children": [
        "IPY_MODEL_08c303e8a26c433e99a826ed51fd39a3",
        "IPY_MODEL_65871a5d3ad945d4b9e1bfe7b7faea08"
       ],
       "layout": "IPY_MODEL_2a6d9104a7854039b40c7c8c1863d156"
      }
     },
     "96cceaf6a3aa4425a79ff55d26b5feba": {
      "model_module": "@jupyter-widgets/controls",
      "model_module_version": "1.5.0",
      "model_name": "ButtonStyleModel",
      "state": {}
     },
     "972b86327c0d4850aa48909f0386e24b": {
      "model_module": "@jupyter-widgets/controls",
      "model_module_version": "1.5.0",
      "model_name": "HBoxModel",
      "state": {
       "children": [
        "IPY_MODEL_25618a13194448c784f1a6d37df58db9",
        "IPY_MODEL_28895bea73cf46a692858c7e775e0fbe"
       ],
       "layout": "IPY_MODEL_d79db8661f0c41888c0f1136755e5b6f"
      }
     },
     "97e5fc534fb2456d850066a7d8866ef5": {
      "model_module": "@jupyter-widgets/base",
      "model_module_version": "1.2.0",
      "model_name": "LayoutModel",
      "state": {}
     },
     "97f01862870b4f4180ab95bffdb7b5eb": {
      "model_module": "@jupyter-widgets/controls",
      "model_module_version": "1.5.0",
      "model_name": "SliderStyleModel",
      "state": {
       "description_width": ""
      }
     },
     "980e5ae36ac24a93a5aab018ade4c74b": {
      "model_module": "@jupyter-widgets/controls",
      "model_module_version": "1.5.0",
      "model_name": "SliderStyleModel",
      "state": {
       "description_width": ""
      }
     },
     "9859de7fcd224b32a782d23a99a297ca": {
      "model_module": "@jupyter-widgets/base",
      "model_module_version": "1.2.0",
      "model_name": "LayoutModel",
      "state": {}
     },
     "987c690e00b147af82379fc99cf34d34": {
      "model_module": "@jupyter-widgets/base",
      "model_module_version": "1.2.0",
      "model_name": "LayoutModel",
      "state": {
       "border": "solid 4px #222",
       "margin": "4px",
       "padding": "0"
      }
     },
     "99eda9e29f8a43c5bed21f03433ad260": {
      "model_module": "@jupyter-widgets/controls",
      "model_module_version": "1.5.0",
      "model_name": "CheckboxModel",
      "state": {
       "description": "Disable Medicina",
       "disabled": false,
       "layout": "IPY_MODEL_bb3a9b1ebbac4e4eb695b08252f4f295",
       "style": "IPY_MODEL_f9b20af80f8e41df85347bd8e4e88595",
       "value": false
      }
     },
     "9a5f02d6b7054d78a698fda8a0d45a8e": {
      "model_module": "@jupyter-widgets/base",
      "model_module_version": "1.2.0",
      "model_name": "LayoutModel",
      "state": {}
     },
     "9ae7dfb472ba487da49804c55c0a1b93": {
      "model_module": "@jupyter-widgets/controls",
      "model_module_version": "1.5.0",
      "model_name": "TabModel",
      "state": {
       "_titles": {
        "0": "Global Controls",
        "1": "Protected Area Controls",
        "2": "Saturation Controls",
        "3": "Hue Controls"
       },
       "children": [
        "IPY_MODEL_b0c9e2b56c874210abd2bf69341da287",
        "IPY_MODEL_62d4e0feceac4df3b496167425d0bb38",
        "IPY_MODEL_deaa5fee417e4a81ba4bffb0e70e2a0a",
        "IPY_MODEL_d959ace30bab43a39d001e6d93ef7729"
       ],
       "layout": "IPY_MODEL_0f20db263fb84ca59b131d519c310fc4"
      }
     },
     "9afa537ec88148ffb2880323f529a125": {
      "model_module": "@jupyter-widgets/controls",
      "model_module_version": "1.5.0",
      "model_name": "FloatSliderModel",
      "state": {
       "description": "270°",
       "layout": "IPY_MODEL_f2863235716d40739b71d68c40576d50",
       "max": 1,
       "min": -1,
       "step": 0.01,
       "style": "IPY_MODEL_b01d636a978c45e797acb5f1870c9c9f"
      }
     },
     "9b17984c314d4f3cb37dfed2541078a9": {
      "model_module": "@jupyter-widgets/controls",
      "model_module_version": "1.5.0",
      "model_name": "HBoxModel",
      "state": {
       "children": [
        "IPY_MODEL_a770efc7eb514194a4867de0bd716836",
        "IPY_MODEL_44ec32b75732465db9057dd677f373ca",
        "IPY_MODEL_c3077300fd1e4fbaad1e109c94b4b978"
       ],
       "layout": "IPY_MODEL_4b9f4317c5b44444b05b13b3f1623848"
      }
     },
     "9ba89920016b4422ab34c5fbf9d078d9": {
      "model_module": "@jupyter-widgets/base",
      "model_module_version": "1.2.0",
      "model_name": "LayoutModel",
      "state": {}
     },
     "9c1a9b85d92942beb8c6b77dee73223b": {
      "model_module": "@jupyter-widgets/controls",
      "model_module_version": "1.5.0",
      "model_name": "FloatSliderModel",
      "state": {
       "description": "225°",
       "layout": "IPY_MODEL_4707cb72d417438e8754179133b5056b",
       "max": 1,
       "min": -1,
       "step": 0.01,
       "style": "IPY_MODEL_8602b48ea9c4464593a60ca4bb10a73b"
      }
     },
     "9c1d6f94adb64112bf9f705cf3bf9368": {
      "model_module": "@jupyter-widgets/base",
      "model_module_version": "1.2.0",
      "model_name": "LayoutModel",
      "state": {}
     },
     "9ce53b4f89f6440393c2059602d27060": {
      "model_module": "@jupyter-widgets/controls",
      "model_module_version": "1.5.0",
      "model_name": "CheckboxModel",
      "state": {
       "description": "Disable Medicina",
       "disabled": false,
       "layout": "IPY_MODEL_bb9fef29d6d7428d9d6cd3fdf49baf18",
       "style": "IPY_MODEL_116d9459c48a4d00b540fc798a0ef442",
       "value": false
      }
     },
     "9cfbb0f5e53a43d395701d9156088087": {
      "model_module": "@jupyter-widgets/base",
      "model_module_version": "1.2.0",
      "model_name": "LayoutModel",
      "state": {}
     },
     "9d63ce6ceb474bb6b98243c8b4b8163d": {
      "model_module": "@jupyter-widgets/controls",
      "model_module_version": "1.5.0",
      "model_name": "FloatSliderModel",
      "state": {
       "description": "225°",
       "layout": "IPY_MODEL_7384ae1c18284c2ab3a0d19050651e67",
       "max": 1,
       "min": -1,
       "step": 0.01,
       "style": "IPY_MODEL_618529e218514780b2358f0769808f00"
      }
     },
     "9d739675b7ce45c3bc22b3d2cc247a4d": {
      "model_module": "jupyter-matplotlib",
      "model_module_version": "^0.7.2",
      "model_name": "ToolbarModel",
      "state": {
       "layout": "IPY_MODEL_53c258add2ae430c8300fbf78beb5f9b",
       "toolitems": [
        [
         "Home",
         "Reset original view",
         "home",
         "home"
        ],
        [
         "Back",
         "Back to previous view",
         "arrow-left",
         "back"
        ],
        [
         "Forward",
         "Forward to next view",
         "arrow-right",
         "forward"
        ],
        [
         "Pan",
         "Pan axes with left mouse, zoom with right",
         "arrows",
         "pan"
        ],
        [
         "Zoom",
         "Zoom to rectangle",
         "square-o",
         "zoom"
        ],
        [
         "Download",
         "Download plot",
         "floppy-o",
         "save_figure"
        ]
       ]
      }
     },
     "9d74ad36aa1148e084c2b48d986c3608": {
      "model_module": "@jupyter-widgets/controls",
      "model_module_version": "1.5.0",
      "model_name": "SliderStyleModel",
      "state": {
       "description_width": ""
      }
     },
     "9d88457191d8405fbcd92be096d0ef69": {
      "model_module": "@jupyter-widgets/controls",
      "model_module_version": "1.5.0",
      "model_name": "ButtonStyleModel",
      "state": {}
     },
     "9d96d5bf34c14341a7a776338ad457ad": {
      "model_module": "@jupyter-widgets/base",
      "model_module_version": "1.2.0",
      "model_name": "LayoutModel",
      "state": {}
     },
     "9df386eb74d141ff836884df559ae011": {
      "model_module": "@jupyter-widgets/base",
      "model_module_version": "1.2.0",
      "model_name": "LayoutModel",
      "state": {}
     },
     "9e87f9ab279c4cb49b63c5fc3588b6aa": {
      "model_module": "@jupyter-widgets/controls",
      "model_module_version": "1.5.0",
      "model_name": "ButtonModel",
      "state": {
       "description": "Reset Saturation Controls",
       "layout": "IPY_MODEL_7b6d90829e1b48fe886ae728152f0f85",
       "style": "IPY_MODEL_6e1c1531cdf54f83a72f892237e58992"
      }
     },
     "9ec041b9b3c44aaf8e6e8fd1dbd9e565": {
      "model_module": "@jupyter-widgets/base",
      "model_module_version": "1.2.0",
      "model_name": "LayoutModel",
      "state": {}
     },
     "9edc90dc6c0e466fa2584dd74ddeb74c": {
      "model_module": "@jupyter-widgets/controls",
      "model_module_version": "1.5.0",
      "model_name": "DescriptionStyleModel",
      "state": {
       "description_width": ""
      }
     },
     "9f6269afd01e488da69db28169ba4ad9": {
      "model_module": "@jupyter-widgets/controls",
      "model_module_version": "1.5.0",
      "model_name": "TabModel",
      "state": {
       "_titles": {
        "0": "Global Controls",
        "1": "Protected Area Controls",
        "2": "Saturation Controls",
        "3": "Hue Controls"
       },
       "children": [
        "IPY_MODEL_a2f81cd4c81a4ce8be07e6679d614990",
        "IPY_MODEL_0a4cb33bacb24b3da7eef1c610ef276c",
        "IPY_MODEL_ea48a6a7d23d42068b9cb385afdaf85f",
        "IPY_MODEL_88b0d213f16449e48ed33e30bbebf0b6"
       ],
       "layout": "IPY_MODEL_71f63087d4e346f6bccb3c456cb63b17"
      }
     },
     "9f906b9f924d40e3a486feb11fd8e6ec": {
      "model_module": "@jupyter-widgets/base",
      "model_module_version": "1.2.0",
      "model_name": "LayoutModel",
      "state": {}
     },
     "9fab301a64474e34a68b45ffeb4dd635": {
      "model_module": "@jupyter-widgets/controls",
      "model_module_version": "1.5.0",
      "model_name": "SliderStyleModel",
      "state": {
       "description_width": ""
      }
     },
     "9fc5a68c7768456a8aca40192766faab": {
      "model_module": "@jupyter-widgets/base",
      "model_module_version": "1.2.0",
      "model_name": "LayoutModel",
      "state": {}
     },
     "9fc8897666e849b7a3134f3c8b15836d": {
      "model_module": "@jupyter-widgets/base",
      "model_module_version": "1.2.0",
      "model_name": "LayoutModel",
      "state": {}
     },
     "9ffbf6d339be47d6a8fa5219395d0c72": {
      "model_module": "@jupyter-widgets/controls",
      "model_module_version": "1.5.0",
      "model_name": "CheckboxModel",
      "state": {
       "description": "Disable Medicina",
       "disabled": false,
       "layout": "IPY_MODEL_0de68c505b9144c6a8df47ccfedc18b9",
       "style": "IPY_MODEL_b174c18c85eb4d6f82bc821bbdacafac",
       "value": false
      }
     },
     "a0317cffeb2c40458ebfe6f9d3dc1ea6": {
      "model_module": "@jupyter-widgets/controls",
      "model_module_version": "1.5.0",
      "model_name": "SliderStyleModel",
      "state": {
       "description_width": ""
      }
     },
     "a05141ee85a44707af79e35654aff6ae": {
      "model_module": "@jupyter-widgets/controls",
      "model_module_version": "1.5.0",
      "model_name": "ButtonStyleModel",
      "state": {}
     },
     "a0848dfea41c4de4b3ce54eaa000a72a": {
      "model_module": "@jupyter-widgets/controls",
      "model_module_version": "1.5.0",
      "model_name": "HBoxModel",
      "state": {
       "children": [
        "IPY_MODEL_63a7b2fabad34e9684b970784c7be902",
        "IPY_MODEL_edc3c26eeb3f4dd59ee19e0026c6c2fa",
        "IPY_MODEL_02923de08e034b7eb1d7e467d5b268f6"
       ],
       "layout": "IPY_MODEL_435a5dbcfdbc4a52907706232b8cc5b4"
      }
     },
     "a0b63c637d134bcfae34552f73ea1ad8": {
      "model_module": "@jupyter-widgets/base",
      "model_module_version": "1.2.0",
      "model_name": "LayoutModel",
      "state": {}
     },
     "a0d6513c811a406488d6b9c2d80be336": {
      "model_module": "@jupyter-widgets/base",
      "model_module_version": "1.2.0",
      "model_name": "LayoutModel",
      "state": {}
     },
     "a0f89cd68ea14181a5e6963788270370": {
      "model_module": "@jupyter-widgets/controls",
      "model_module_version": "1.5.0",
      "model_name": "SliderStyleModel",
      "state": {
       "description_width": ""
      }
     },
     "a12947857b2b418ea2b49ddf8cb0a156": {
      "model_module": "@jupyter-widgets/base",
      "model_module_version": "1.2.0",
      "model_name": "LayoutModel",
      "state": {
       "border": "solid 4px #222",
       "margin": "4px",
       "padding": "0"
      }
     },
     "a1a58a7e50e84865844957d0b974b867": {
      "model_module": "@jupyter-widgets/base",
      "model_module_version": "1.2.0",
      "model_name": "LayoutModel",
      "state": {}
     },
     "a1ef699482584b6397def5df4b23289a": {
      "model_module": "@jupyter-widgets/controls",
      "model_module_version": "1.5.0",
      "model_name": "FloatSliderModel",
      "state": {
       "description": "Compression Threshold",
       "layout": "IPY_MODEL_d3fa02fb32184490889c4b8c4c79fd1b",
       "max": 1,
       "step": 0.01,
       "style": "IPY_MODEL_f06aef2f6941434a96909390dc74d455",
       "value": 0.8
      }
     },
     "a1fa711403fa4811b99c267b46577773": {
      "model_module": "@jupyter-widgets/controls",
      "model_module_version": "1.5.0",
      "model_name": "FloatSliderModel",
      "state": {
       "description": "0°",
       "layout": "IPY_MODEL_47dc2d732e2f41f0a862c1b669c3f28b",
       "max": 1,
       "min": -1,
       "step": 0.01,
       "style": "IPY_MODEL_8463b0a314984ee2add062b7851e5938"
      }
     },
     "a2999dd5ff984a6a98c00e9bc761267a": {
      "model_module": "@jupyter-widgets/base",
      "model_module_version": "1.2.0",
      "model_name": "LayoutModel",
      "state": {}
     },
     "a2f81cd4c81a4ce8be07e6679d614990": {
      "model_module": "@jupyter-widgets/controls",
      "model_module_version": "1.5.0",
      "model_name": "HBoxModel",
      "state": {
       "children": [
        "IPY_MODEL_fcb831d165244284b934847947692826",
        "IPY_MODEL_6e1f7c48e1644027b3a45bc9757e258a",
        "IPY_MODEL_639e6f17bfda408fb3dca13e87ef82ac"
       ],
       "layout": "IPY_MODEL_d82f1946dd3146709f2d041e36809564"
      }
     },
     "a30041efb0354e95a00c40b7aa581631": {
      "model_module": "@jupyter-widgets/controls",
      "model_module_version": "1.5.0",
      "model_name": "DescriptionStyleModel",
      "state": {
       "description_width": ""
      }
     },
     "a32e19f3cbc64d88971539efff4fd0f3": {
      "model_module": "@jupyter-widgets/controls",
      "model_module_version": "1.5.0",
      "model_name": "HBoxModel",
      "state": {
       "children": [
        "IPY_MODEL_dd9facc46fc74329971d86ffe56cbb72",
        "IPY_MODEL_e762aae0e7c541699dfb023defbf5433"
       ],
       "layout": "IPY_MODEL_9ba89920016b4422ab34c5fbf9d078d9"
      }
     },
     "a3859c9880f8484d99a9bb94a6e584f1": {
      "model_module": "@jupyter-widgets/base",
      "model_module_version": "1.2.0",
      "model_name": "LayoutModel",
      "state": {}
     },
     "a40a5ebff2344294abcd4269f885e506": {
      "model_module": "@jupyter-widgets/controls",
      "model_module_version": "1.5.0",
      "model_name": "SliderStyleModel",
      "state": {
       "description_width": ""
      }
     },
     "a40fc90036b6408697c8f0c22bd740b8": {
      "model_module": "@jupyter-widgets/controls",
      "model_module_version": "1.5.0",
      "model_name": "ButtonModel",
      "state": {
       "description": "Save Figure",
       "layout": "IPY_MODEL_1a70845cb12447189d540eb3f5047e34",
       "style": "IPY_MODEL_1fa815edcdec4f0c824c6402690b28cd"
      }
     },
     "a4562a49e9c14eb6b32a0047317876cc": {
      "model_module": "@jupyter-widgets/controls",
      "model_module_version": "1.5.0",
      "model_name": "ButtonModel",
      "state": {
       "description": "Reset Protected Area",
       "layout": "IPY_MODEL_babdae92807d43598c696d14b94a67d2",
       "style": "IPY_MODEL_3ef4b688707046b189169a5f178a570c"
      }
     },
     "a4a286cc05be426f940d7ce1405b745d": {
      "model_module": "@jupyter-widgets/base",
      "model_module_version": "1.2.0",
      "model_name": "LayoutModel",
      "state": {
       "border": "solid 4px #222",
       "margin": "4px",
       "padding": "0"
      }
     },
     "a4b80e9f8aa343549e47981979a01fd9": {
      "model_module": "@jupyter-widgets/controls",
      "model_module_version": "1.5.0",
      "model_name": "SliderStyleModel",
      "state": {
       "description_width": ""
      }
     },
     "a54b5996d57f4d7fa71daa0123c0486d": {
      "model_module": "@jupyter-widgets/output",
      "model_module_version": "1.0.0",
      "model_name": "OutputModel",
      "state": {
       "layout": "IPY_MODEL_6b109cddf4d04d40a2350f4766c64037",
       "outputs": [
        {
         "data": {
          "application/vnd.jupyter.widget-view+json": {
           "model_id": "b7ff89c990c74fe5a2adf6a93406b1df",
           "version_major": 2,
           "version_minor": 0
          },
          "text/plain": "Canvas(toolbar=Toolbar(toolitems=[('Home', 'Reset original view', 'home', 'home'), ('Back', 'Back to previous …"
         },
         "metadata": {},
         "output_type": "display_data"
        }
       ]
      }
     },
     "a56e807a599440418765626fedfc736a": {
      "model_module": "@jupyter-widgets/base",
      "model_module_version": "1.2.0",
      "model_name": "LayoutModel",
      "state": {}
     },
     "a57cc4f2fd1d499d96b65abfeb875112": {
      "model_module": "@jupyter-widgets/base",
      "model_module_version": "1.2.0",
      "model_name": "LayoutModel",
      "state": {}
     },
     "a5aa7114d50f4c5ea5dbf963ad1e2e20": {
      "model_module": "@jupyter-widgets/base",
      "model_module_version": "1.2.0",
      "model_name": "LayoutModel",
      "state": {}
     },
     "a5b1650a544748baaf461ed2a8b7a0cb": {
      "model_module": "@jupyter-widgets/controls",
      "model_module_version": "1.5.0",
      "model_name": "ButtonModel",
      "state": {
       "description": "Save Figure",
       "layout": "IPY_MODEL_9cfbb0f5e53a43d395701d9156088087",
       "style": "IPY_MODEL_c8915ad4e3e34740acd7a1e6bf9d53ab"
      }
     },
     "a634dd33e0bc41e9b1a0ee98e77a69b7": {
      "model_module": "@jupyter-widgets/base",
      "model_module_version": "1.2.0",
      "model_name": "LayoutModel",
      "state": {}
     },
     "a75c380a53d04bfc82351adf20c72996": {
      "model_module": "@jupyter-widgets/controls",
      "model_module_version": "1.5.0",
      "model_name": "SliderStyleModel",
      "state": {
       "description_width": ""
      }
     },
     "a770efc7eb514194a4867de0bd716836": {
      "model_module": "@jupyter-widgets/controls",
      "model_module_version": "1.5.0",
      "model_name": "CheckboxModel",
      "state": {
       "description": "Disable Medicina",
       "disabled": false,
       "layout": "IPY_MODEL_3d6ed6d7da36459dbf308eac1970c16f",
       "style": "IPY_MODEL_8a4b5c8b6e0a4dd98f5521ebbf52c173",
       "value": false
      }
     },
     "a79782cbb99d4fea83f5f77bceb6a3d3": {
      "model_module": "@jupyter-widgets/controls",
      "model_module_version": "1.5.0",
      "model_name": "SliderStyleModel",
      "state": {
       "description_width": ""
      }
     },
     "a7dbbd409e7647e192b24cf87a6a87ec": {
      "model_module": "@jupyter-widgets/base",
      "model_module_version": "1.2.0",
      "model_name": "LayoutModel",
      "state": {}
     },
     "a7e22d45fba244cd83e860fefe382734": {
      "model_module": "@jupyter-widgets/controls",
      "model_module_version": "1.5.0",
      "model_name": "ButtonModel",
      "state": {
       "description": "Save Figure",
       "layout": "IPY_MODEL_276001baac61415c8355a03a03ed8ad2",
       "style": "IPY_MODEL_f294009b24cf48ef9a506a183a65df31"
      }
     },
     "a7eca51634d747eca2cdde576394532b": {
      "model_module": "@jupyter-widgets/controls",
      "model_module_version": "1.5.0",
      "model_name": "DescriptionStyleModel",
      "state": {
       "description_width": ""
      }
     },
     "a8058b1788fe4592b2a427feddc28b3f": {
      "model_module": "@jupyter-widgets/base",
      "model_module_version": "1.2.0",
      "model_name": "LayoutModel",
      "state": {}
     },
     "a8c807199c2e4b6f8a1e97d20f35dc1f": {
      "model_module": "@jupyter-widgets/base",
      "model_module_version": "1.2.0",
      "model_name": "LayoutModel",
      "state": {}
     },
     "a8f015042ef94446956fdca17d1d0379": {
      "model_module": "@jupyter-widgets/base",
      "model_module_version": "1.2.0",
      "model_name": "LayoutModel",
      "state": {}
     },
     "a9157fb88b3647b1a3b7e111ed1ac348": {
      "model_module": "@jupyter-widgets/controls",
      "model_module_version": "1.5.0",
      "model_name": "HBoxModel",
      "state": {
       "children": [
        "IPY_MODEL_c1d567a882714576898b0abe65c505b6",
        "IPY_MODEL_c0fba8ec9ef74ff6baa0850bd9d6dff5"
       ],
       "layout": "IPY_MODEL_ed328c0c5c75486ebaa2a68bdd1569a0"
      }
     },
     "a984e5f2a2914ea1b6f78e3827b115f2": {
      "model_module": "jupyter-matplotlib",
      "model_module_version": "^0.7.2",
      "model_name": "ToolbarModel",
      "state": {
       "layout": "IPY_MODEL_8a8b87abfee4434fb1d2fe2457e406a5",
       "toolitems": [
        [
         "Home",
         "Reset original view",
         "home",
         "home"
        ],
        [
         "Back",
         "Back to previous view",
         "arrow-left",
         "back"
        ],
        [
         "Forward",
         "Forward to next view",
         "arrow-right",
         "forward"
        ],
        [
         "Pan",
         "Pan axes with left mouse, zoom with right",
         "arrows",
         "pan"
        ],
        [
         "Zoom",
         "Zoom to rectangle",
         "square-o",
         "zoom"
        ],
        [
         "Download",
         "Download plot",
         "floppy-o",
         "save_figure"
        ]
       ]
      }
     },
     "a9868880defa49468f10f6b81114761a": {
      "model_module": "@jupyter-widgets/base",
      "model_module_version": "1.2.0",
      "model_name": "LayoutModel",
      "state": {}
     },
     "a98cd8db44054fa2b6d085231399612e": {
      "model_module": "@jupyter-widgets/base",
      "model_module_version": "1.2.0",
      "model_name": "LayoutModel",
      "state": {}
     },
     "a9a0e92607ae447f8c0361f8c73e6178": {
      "model_module": "@jupyter-widgets/controls",
      "model_module_version": "1.5.0",
      "model_name": "SliderStyleModel",
      "state": {
       "description_width": ""
      }
     },
     "a9f4361cb51f477fa73cfeec4d0a0d4f": {
      "model_module": "jupyter-matplotlib",
      "model_module_version": "^0.7.2",
      "model_name": "ToolbarModel",
      "state": {
       "layout": "IPY_MODEL_8a82234c86704fd5ab80a8b95a3bd03b",
       "toolitems": [
        [
         "Home",
         "Reset original view",
         "home",
         "home"
        ],
        [
         "Back",
         "Back to previous view",
         "arrow-left",
         "back"
        ],
        [
         "Forward",
         "Forward to next view",
         "arrow-right",
         "forward"
        ],
        [
         "Pan",
         "Pan axes with left mouse, zoom with right",
         "arrows",
         "pan"
        ],
        [
         "Zoom",
         "Zoom to rectangle",
         "square-o",
         "zoom"
        ],
        [
         "Download",
         "Download plot",
         "floppy-o",
         "save_figure"
        ]
       ]
      }
     },
     "aa413ad36ce347ca9108e2079c5c846b": {
      "model_module": "@jupyter-widgets/controls",
      "model_module_version": "1.5.0",
      "model_name": "VBoxModel",
      "state": {
       "children": [
        "IPY_MODEL_b075f63f343f403eaf2199df7f074677",
        "IPY_MODEL_543768919d4f4c9590d541d5c6d76d14"
       ],
       "layout": "IPY_MODEL_8ba1f9f64af5455b9fc44913557c8ba4"
      }
     },
     "aa721dd6c58c4d91a4cc9f559f2c5eb4": {
      "model_module": "@jupyter-widgets/base",
      "model_module_version": "1.2.0",
      "model_name": "LayoutModel",
      "state": {}
     },
     "aa7589eaa4764bf28a300c3c7d40fbfa": {
      "model_module": "@jupyter-widgets/base",
      "model_module_version": "1.2.0",
      "model_name": "LayoutModel",
      "state": {}
     },
     "aa764909fed24fa2a55abbfcca37bdfb": {
      "model_module": "@jupyter-widgets/controls",
      "model_module_version": "1.5.0",
      "model_name": "SliderStyleModel",
      "state": {
       "description_width": ""
      }
     },
     "aacf88f271374e9a9df3fb8a8f6106c6": {
      "model_module": "@jupyter-widgets/base",
      "model_module_version": "1.2.0",
      "model_name": "LayoutModel",
      "state": {}
     },
     "aaeac1f045a84ac8ac19cab4793abbf2": {
      "model_module": "@jupyter-widgets/controls",
      "model_module_version": "1.5.0",
      "model_name": "FloatSliderModel",
      "state": {
       "description": "0°",
       "layout": "IPY_MODEL_50d6c411330c4eba8c5d51cb364c94c9",
       "max": 1,
       "min": -1,
       "step": 0.01,
       "style": "IPY_MODEL_1b1a60c204834799831b9a99ecba6f02"
      }
     },
     "ab7a99044e434d42a6ee5f91ab9b85a0": {
      "model_module": "@jupyter-widgets/controls",
      "model_module_version": "1.5.0",
      "model_name": "FloatSliderModel",
      "state": {
       "description": "0°",
       "layout": "IPY_MODEL_1ef736a93f024a2e9e1b333d4d4eb2a6",
       "max": 1,
       "min": -1,
       "step": 0.01,
       "style": "IPY_MODEL_07071af0d32c44f68ff735546dc21894"
      }
     },
     "abc11e75b9914296837da8d78e1b6935": {
      "model_module": "@jupyter-widgets/controls",
      "model_module_version": "1.5.0",
      "model_name": "ButtonStyleModel",
      "state": {}
     },
     "ac16cd0893764c3194f2fc4f32b460d6": {
      "model_module": "@jupyter-widgets/base",
      "model_module_version": "1.2.0",
      "model_name": "LayoutModel",
      "state": {}
     },
     "ac44f064d7114ebea489c9276394da0d": {
      "model_module": "@jupyter-widgets/base",
      "model_module_version": "1.2.0",
      "model_name": "LayoutModel",
      "state": {}
     },
     "ac7def3096cf4ad29367e40c62fa6e3d": {
      "model_module": "@jupyter-widgets/controls",
      "model_module_version": "1.5.0",
      "model_name": "DescriptionStyleModel",
      "state": {
       "description_width": ""
      }
     },
     "aca665d6e6f84a239ac12227acd502a0": {
      "model_module": "@jupyter-widgets/controls",
      "model_module_version": "1.5.0",
      "model_name": "HBoxModel",
      "state": {
       "children": [
        "IPY_MODEL_7208ab386e8f415d87c5293756bbda65",
        "IPY_MODEL_b5b7e106403c415db0833051adf6c23a",
        "IPY_MODEL_18d45d87054b499aa8eadaa2c84c8df5"
       ],
       "layout": "IPY_MODEL_c73a3e2ebf264ebb8b3c4a7e6e0f6db3"
      }
     },
     "ad58bcff783d4875849ef233b10eb3ca": {
      "model_module": "@jupyter-widgets/controls",
      "model_module_version": "1.5.0",
      "model_name": "FloatSliderModel",
      "state": {
       "description": "225°",
       "layout": "IPY_MODEL_8f6182fc8e51411f974217bb56d12e9e",
       "max": 1,
       "min": -1,
       "step": 0.01,
       "style": "IPY_MODEL_be14586bcbb94b9784857095ccf01bd2"
      }
     },
     "add9f8eb68c24f6392b5dd7406dd33a6": {
      "model_module": "@jupyter-widgets/controls",
      "model_module_version": "1.5.0",
      "model_name": "FloatSliderModel",
      "state": {
       "description": "270°",
       "layout": "IPY_MODEL_240b183724c44d0182304c52b5f81885",
       "max": 1,
       "min": -1,
       "step": 0.01,
       "style": "IPY_MODEL_8ac38152f7b0424180fe96787abcb9bd"
      }
     },
     "ade7b631641c418596fd263fa93e6364": {
      "model_module": "@jupyter-widgets/controls",
      "model_module_version": "1.5.0",
      "model_name": "CheckboxModel",
      "state": {
       "description": "Disable Medicina",
       "disabled": false,
       "layout": "IPY_MODEL_5bfc5fdc9957464fb6f72ca81cbfcd97",
       "style": "IPY_MODEL_536ea69006584b06b96a5bd65a30888c",
       "value": false
      }
     },
     "ae3d9adcc3174c7b97bb5a8ea3e1c8ab": {
      "model_module": "@jupyter-widgets/controls",
      "model_module_version": "1.5.0",
      "model_name": "ButtonModel",
      "state": {
       "description": "Reset Protected Area",
       "layout": "IPY_MODEL_1f1ce1d590854df09dfe4545dc47e8b5",
       "style": "IPY_MODEL_936b4ca1d0394fe0983dcb82ec61549a"
      }
     },
     "ae6df29d6bc04a63b14b4a9afef935bc": {
      "model_module": "@jupyter-widgets/controls",
      "model_module_version": "1.5.0",
      "model_name": "ButtonStyleModel",
      "state": {}
     },
     "af58d00b5acf45a78eeb374dea4660e5": {
      "model_module": "@jupyter-widgets/controls",
      "model_module_version": "1.5.0",
      "model_name": "SliderStyleModel",
      "state": {
       "description_width": ""
      }
     },
     "af7a00c44ad042f7a536b7e851c0dbc8": {
      "model_module": "@jupyter-widgets/controls",
      "model_module_version": "1.5.0",
      "model_name": "ButtonModel",
      "state": {
       "description": "Export Image",
       "layout": "IPY_MODEL_3078153c71b448a49e75a6cf70c34eab",
       "style": "IPY_MODEL_d117421bacdb433d991297370ba3b031"
      }
     },
     "b00e1ef537cb49cdb22e9560a0f98f1f": {
      "model_module": "@jupyter-widgets/base",
      "model_module_version": "1.2.0",
      "model_name": "LayoutModel",
      "state": {}
     },
     "b0125d841d9c4401ab781dbf74065b5f": {
      "model_module": "@jupyter-widgets/base",
      "model_module_version": "1.2.0",
      "model_name": "LayoutModel",
      "state": {}
     },
     "b01d636a978c45e797acb5f1870c9c9f": {
      "model_module": "@jupyter-widgets/controls",
      "model_module_version": "1.5.0",
      "model_name": "SliderStyleModel",
      "state": {
       "description_width": ""
      }
     },
     "b04dfe2578e04b3b86a34fe185642cc5": {
      "model_module": "@jupyter-widgets/base",
      "model_module_version": "1.2.0",
      "model_name": "LayoutModel",
      "state": {}
     },
     "b075f63f343f403eaf2199df7f074677": {
      "model_module": "@jupyter-widgets/controls",
      "model_module_version": "1.5.0",
      "model_name": "FloatSliderModel",
      "state": {
       "description": "270°",
       "layout": "IPY_MODEL_7e5cb33ca5db412f9535bd0aa8b66557",
       "max": 1,
       "min": -1,
       "step": 0.01,
       "style": "IPY_MODEL_30887ca84f914cac954ba3098cf9046d"
      }
     },
     "b09d6295668742fd83e00a674acbe6ad": {
      "model_module": "@jupyter-widgets/base",
      "model_module_version": "1.2.0",
      "model_name": "LayoutModel",
      "state": {}
     },
     "b0c9e2b56c874210abd2bf69341da287": {
      "model_module": "@jupyter-widgets/controls",
      "model_module_version": "1.5.0",
      "model_name": "HBoxModel",
      "state": {
       "children": [
        "IPY_MODEL_7e77d235a40f48939300903976f564b2",
        "IPY_MODEL_ee26c9b95ca144e9b4c3a336007ff4bf",
        "IPY_MODEL_05c328edc2bc4ee487865a08c34b4318"
       ],
       "layout": "IPY_MODEL_42397bdf6bb046b08d79e95fda89ed03"
      }
     },
     "b11fbb01044349b7a3501192d24aa7a5": {
      "model_module": "@jupyter-widgets/controls",
      "model_module_version": "1.5.0",
      "model_name": "FloatSliderModel",
      "state": {
       "description": "45°",
       "layout": "IPY_MODEL_f68244c70e8c44718d9ff431ce9abc2e",
       "max": 1,
       "min": -1,
       "step": 0.01,
       "style": "IPY_MODEL_dfc9116cdaf44797ba1592775a4c6b98"
      }
     },
     "b124939ccc2c4fc6a22a9f9130b6786b": {
      "model_module": "@jupyter-widgets/base",
      "model_module_version": "1.2.0",
      "model_name": "LayoutModel",
      "state": {}
     },
     "b14af6a559af4dfa824c30e61c2f9074": {
      "model_module": "jupyter-matplotlib",
      "model_module_version": "^0.7.2",
      "model_name": "ToolbarModel",
      "state": {
       "layout": "IPY_MODEL_072cbc2ea6894578955b0fa06f367dad",
       "toolitems": [
        [
         "Home",
         "Reset original view",
         "home",
         "home"
        ],
        [
         "Back",
         "Back to previous view",
         "arrow-left",
         "back"
        ],
        [
         "Forward",
         "Forward to next view",
         "arrow-right",
         "forward"
        ],
        [
         "Pan",
         "Pan axes with left mouse, zoom with right",
         "arrows",
         "pan"
        ],
        [
         "Zoom",
         "Zoom to rectangle",
         "square-o",
         "zoom"
        ],
        [
         "Download",
         "Download plot",
         "floppy-o",
         "save_figure"
        ]
       ]
      }
     },
     "b155e869907c41568774788a5f109a4d": {
      "model_module": "@jupyter-widgets/controls",
      "model_module_version": "1.5.0",
      "model_name": "HBoxModel",
      "state": {
       "children": [
        "IPY_MODEL_20267a78e48646aaa245a7e7650f186c",
        "IPY_MODEL_2f12c74b883a418782b2fc718b16b7f6",
        "IPY_MODEL_1f3530070f6049cda43a2e57d6b4a89f"
       ],
       "layout": "IPY_MODEL_65f0be54de8a403bab5bd01ffdcec5ad"
      }
     },
     "b15ec4134752451b91f6e0f52976f48a": {
      "model_module": "@jupyter-widgets/controls",
      "model_module_version": "1.5.0",
      "model_name": "TabModel",
      "state": {
       "_titles": {
        "0": "Global Controls",
        "1": "Protected Area Controls",
        "2": "Saturation Controls",
        "3": "Hue Controls"
       },
       "children": [
        "IPY_MODEL_53b5ae4b712d4107afee4ae10d927f08",
        "IPY_MODEL_0c046a734623481cb4d7383d066f4dfe",
        "IPY_MODEL_2cbffb93df0d4328a0d7650b52217e74",
        "IPY_MODEL_4647acfbfa5f45b88cdd8f01cc5cd46c"
       ],
       "layout": "IPY_MODEL_82af289d0ec249369bdb740cc3154a41"
      }
     },
     "b174c18c85eb4d6f82bc821bbdacafac": {
      "model_module": "@jupyter-widgets/controls",
      "model_module_version": "1.5.0",
      "model_name": "DescriptionStyleModel",
      "state": {
       "description_width": ""
      }
     },
     "b18864d878b1452e9455d4094d951917": {
      "model_module": "@jupyter-widgets/controls",
      "model_module_version": "1.5.0",
      "model_name": "VBoxModel",
      "state": {
       "children": [
        "IPY_MODEL_2652cd7fc46b41f6bed04b3be4ac6179",
        "IPY_MODEL_e9ab87c3354c4e7aadea8d3ddd054326",
        "IPY_MODEL_dcb7847ce618472f9df84be22586c303"
       ],
       "layout": "IPY_MODEL_df076fba969b4704b2a4078cd2965985"
      }
     },
     "b198e0b94d6041e2a318c9137910fb17": {
      "model_module": "@jupyter-widgets/controls",
      "model_module_version": "1.5.0",
      "model_name": "ButtonStyleModel",
      "state": {}
     },
     "b1c0c22e06bf4387b28e485d696b3cbe": {
      "model_module": "@jupyter-widgets/base",
      "model_module_version": "1.2.0",
      "model_name": "LayoutModel",
      "state": {}
     },
     "b210286d604a44dda9d9a15076e73a87": {
      "model_module": "@jupyter-widgets/controls",
      "model_module_version": "1.5.0",
      "model_name": "SliderStyleModel",
      "state": {
       "description_width": ""
      }
     },
     "b271aee436c2446c8d90230af59db2b4": {
      "model_module": "@jupyter-widgets/base",
      "model_module_version": "1.2.0",
      "model_name": "LayoutModel",
      "state": {}
     },
     "b274c56c7dbd4b66847be3e38d75c444": {
      "model_module": "@jupyter-widgets/controls",
      "model_module_version": "1.5.0",
      "model_name": "DescriptionStyleModel",
      "state": {
       "description_width": ""
      }
     },
     "b2aa5a5f05a2489898c289dae8a32867": {
      "model_module": "@jupyter-widgets/controls",
      "model_module_version": "1.5.0",
      "model_name": "FloatSliderModel",
      "state": {
       "description": "180°",
       "layout": "IPY_MODEL_d6ffc5c66de14baea7d6fac344a55f42",
       "max": 1,
       "min": -1,
       "step": 0.01,
       "style": "IPY_MODEL_de8bde0afdd14a6da1b6348f07fda305"
      }
     },
     "b2c4cd24689a47cf8d8a23a1ea854a03": {
      "model_module": "@jupyter-widgets/base",
      "model_module_version": "1.2.0",
      "model_name": "LayoutModel",
      "state": {}
     },
     "b346c10dab494d928abdf27494336fb5": {
      "model_module": "@jupyter-widgets/controls",
      "model_module_version": "1.5.0",
      "model_name": "ButtonStyleModel",
      "state": {}
     },
     "b3b531c4d86c4a62a137ce74fac221ce": {
      "model_module": "@jupyter-widgets/controls",
      "model_module_version": "1.5.0",
      "model_name": "DescriptionStyleModel",
      "state": {
       "description_width": ""
      }
     },
     "b400aaafb0794fd7b8527d2499e8ee6c": {
      "model_module": "@jupyter-widgets/base",
      "model_module_version": "1.2.0",
      "model_name": "LayoutModel",
      "state": {}
     },
     "b41ac13c17884cf69bc04b2088a6f560": {
      "model_module": "@jupyter-widgets/controls",
      "model_module_version": "1.5.0",
      "model_name": "VBoxModel",
      "state": {
       "children": [
        "IPY_MODEL_9afa537ec88148ffb2880323f529a125",
        "IPY_MODEL_dddf9a206254419098731da5a8318d0b"
       ],
       "layout": "IPY_MODEL_484aac6eab3d463981a6e9fef9195e23"
      }
     },
     "b448423aa38640469736d90d3b14d322": {
      "model_module": "jupyter-matplotlib",
      "model_module_version": "^0.7.2",
      "model_name": "MPLCanvasModel",
      "state": {
       "_figure_label": "Figure 16",
       "_height": 396,
       "_width": 1100,
       "header_visible": false,
       "layout": "IPY_MODEL_368d340c45984a558cdea385a9ded846",
       "resizable": false,
       "toolbar": "IPY_MODEL_a9f4361cb51f477fa73cfeec4d0a0d4f",
       "toolbar_position": "left",
       "toolbar_visible": false
      }
     },
     "b4df5c2a861245c58a59da679a524320": {
      "model_module": "@jupyter-widgets/base",
      "model_module_version": "1.2.0",
      "model_name": "LayoutModel",
      "state": {}
     },
     "b504bdabde1f467bb79f71e70d20c29e": {
      "model_module": "@jupyter-widgets/controls",
      "model_module_version": "1.5.0",
      "model_name": "BoxModel",
      "state": {
       "children": [
        "IPY_MODEL_3782ea32f34c446e9660c90854c46958",
        "IPY_MODEL_441c9c20868a428894b90647c908ba4e"
       ],
       "layout": "IPY_MODEL_f67a67b804224adf96a8be1a35493736"
      }
     },
     "b509f136be034d419f9e98b018889275": {
      "model_module": "@jupyter-widgets/base",
      "model_module_version": "1.2.0",
      "model_name": "LayoutModel",
      "state": {}
     },
     "b554dbd68d284c089c5e9856a9c51cc3": {
      "model_module": "@jupyter-widgets/base",
      "model_module_version": "1.2.0",
      "model_name": "LayoutModel",
      "state": {}
     },
     "b5b7e106403c415db0833051adf6c23a": {
      "model_module": "@jupyter-widgets/controls",
      "model_module_version": "1.5.0",
      "model_name": "ButtonModel",
      "state": {
       "description": "Export Image",
       "layout": "IPY_MODEL_ac16cd0893764c3194f2fc4f32b460d6",
       "style": "IPY_MODEL_493f8a3a3d93486084772f4b1228de8f"
      }
     },
     "b60dcd2b939a4595b396eae09799cda5": {
      "model_module": "@jupyter-widgets/base",
      "model_module_version": "1.2.0",
      "model_name": "LayoutModel",
      "state": {}
     },
     "b6112f303318493b9e1d465bed0f0001": {
      "model_module": "@jupyter-widgets/base",
      "model_module_version": "1.2.0",
      "model_name": "LayoutModel",
      "state": {}
     },
     "b62ab698f6d64256a64e2e8c2aaee03d": {
      "model_module": "@jupyter-widgets/base",
      "model_module_version": "1.2.0",
      "model_name": "LayoutModel",
      "state": {}
     },
     "b75b11d8a5a8410a8c6c4230ffc528d5": {
      "model_module": "@jupyter-widgets/controls",
      "model_module_version": "1.5.0",
      "model_name": "FloatSliderModel",
      "state": {
       "description": "225°",
       "layout": "IPY_MODEL_e883a19270824e75bbd721d4739af74a",
       "max": 1,
       "min": -1,
       "step": 0.01,
       "style": "IPY_MODEL_6ab6de8438f64a9fa2aef7e9a212340c"
      }
     },
     "b7988c41dd3f47a995aeb7aa37d7c72d": {
      "model_module": "@jupyter-widgets/base",
      "model_module_version": "1.2.0",
      "model_name": "LayoutModel",
      "state": {}
     },
     "b7c583970df0456b9bfcc27f180a834a": {
      "model_module": "@jupyter-widgets/controls",
      "model_module_version": "1.5.0",
      "model_name": "FloatSliderModel",
      "state": {
       "description": "Compression Threshold",
       "layout": "IPY_MODEL_7f2338ff65ce45a2bd83ef8175f4daf9",
       "max": 1,
       "step": 0.01,
       "style": "IPY_MODEL_30677c83cf6a4b74b99dfdf18cf7f6f1",
       "value": 0.8
      }
     },
     "b7ff89c990c74fe5a2adf6a93406b1df": {
      "model_module": "jupyter-matplotlib",
      "model_module_version": "^0.7.2",
      "model_name": "MPLCanvasModel",
      "state": {
       "_figure_label": "Figure 2",
       "_height": 396,
       "_width": 1100,
       "header_visible": false,
       "layout": "IPY_MODEL_fa177a597f664852b5dee35561ed987e",
       "resizable": false,
       "toolbar": "IPY_MODEL_dfe5eca2be514fecbadf550eafe10a66",
       "toolbar_position": "left",
       "toolbar_visible": false
      }
     },
     "b86f61f6d43b450bba5b427a0b3c736e": {
      "model_module": "@jupyter-widgets/controls",
      "model_module_version": "1.5.0",
      "model_name": "SliderStyleModel",
      "state": {
       "description_width": ""
      }
     },
     "b8910a93ec62442f80dd29f60e5af9a1": {
      "model_module": "@jupyter-widgets/base",
      "model_module_version": "1.2.0",
      "model_name": "LayoutModel",
      "state": {}
     },
     "b8b0aa40e2854716a5b2750c93b00ca0": {
      "model_module": "@jupyter-widgets/controls",
      "model_module_version": "1.5.0",
      "model_name": "ButtonModel",
      "state": {
       "description": "Reset Hue Controls",
       "layout": "IPY_MODEL_510184a4c86e407e81e842487c87247e",
       "style": "IPY_MODEL_841ff77353944308a6a19b9fe6009000"
      }
     },
     "b9170d771b2e4591abd102453160f1ba": {
      "model_module": "@jupyter-widgets/controls",
      "model_module_version": "1.5.0",
      "model_name": "FloatSliderModel",
      "state": {
       "description": "135°",
       "layout": "IPY_MODEL_748052206fcc481f915a3a6f94b70348",
       "max": 1,
       "min": -1,
       "step": 0.01,
       "style": "IPY_MODEL_980e5ae36ac24a93a5aab018ade4c74b"
      }
     },
     "b9952ec12c674b29a70211497cb41b62": {
      "model_module": "@jupyter-widgets/controls",
      "model_module_version": "1.5.0",
      "model_name": "ButtonModel",
      "state": {
       "description": "Export Image",
       "layout": "IPY_MODEL_fc7d037b0e2641aebd3407036fc01ff4",
       "style": "IPY_MODEL_eeda9febc9da4365b8b00a9a6b95022d"
      }
     },
     "b9b60a688354433ab6f87fb2e95d1c14": {
      "model_module": "@jupyter-widgets/controls",
      "model_module_version": "1.5.0",
      "model_name": "VBoxModel",
      "state": {
       "children": [
        "IPY_MODEL_ddaffe1d9fc44e7982d64edcc1cb78f6",
        "IPY_MODEL_78fde6b9b7db4309b005ad89d8f609c9"
       ],
       "layout": "IPY_MODEL_e4ad20f926ff49fd9367f4557ae3975d"
      }
     },
     "ba253780931547e28762e65ac1ff2d9e": {
      "model_module": "@jupyter-widgets/controls",
      "model_module_version": "1.5.0",
      "model_name": "TabModel",
      "state": {
       "_titles": {
        "0": "Global Controls",
        "1": "Compression Controls"
       },
       "children": [
        "IPY_MODEL_d0ea57c824e54dc58a84e818827f3ed1",
        "IPY_MODEL_d3d370cf5a484bf6a5366dc719b2a035"
       ],
       "layout": "IPY_MODEL_02d2dbbdb01241f497d621b5b76ad75c"
      }
     },
     "ba81f6500cbf4bddaeeaac0c1eb10035": {
      "model_module": "@jupyter-widgets/base",
      "model_module_version": "1.2.0",
      "model_name": "LayoutModel",
      "state": {}
     },
     "ba9f3d64f42b4383b37bd9b2bb7adf1f": {
      "model_module": "@jupyter-widgets/base",
      "model_module_version": "1.2.0",
      "model_name": "LayoutModel",
      "state": {}
     },
     "babdae92807d43598c696d14b94a67d2": {
      "model_module": "@jupyter-widgets/base",
      "model_module_version": "1.2.0",
      "model_name": "LayoutModel",
      "state": {}
     },
     "bacc330a4e8c4dc8afeb7960a3064e26": {
      "model_module": "@jupyter-widgets/output",
      "model_module_version": "1.0.0",
      "model_name": "OutputModel",
      "state": {
       "layout": "IPY_MODEL_d9d9186858b044d882832a71f611063d",
       "outputs": [
        {
         "data": {
          "application/vnd.jupyter.widget-view+json": {
           "model_id": "ee45377fcf9c4248b21f684be44f0831",
           "version_major": 2,
           "version_minor": 0
          },
          "text/plain": "Canvas(toolbar=Toolbar(toolitems=[('Home', 'Reset original view', 'home', 'home'), ('Back', 'Back to previous …"
         },
         "metadata": {},
         "output_type": "display_data"
        }
       ]
      }
     },
     "baf97c88a6c94bddb6630e29537cdb1a": {
      "model_module": "@jupyter-widgets/controls",
      "model_module_version": "1.5.0",
      "model_name": "FloatSliderModel",
      "state": {
       "description": "45°",
       "layout": "IPY_MODEL_d2e976522a3642f58bd8a01468f4ec93",
       "max": 1,
       "min": -1,
       "step": 0.01,
       "style": "IPY_MODEL_7934cbfa4db645a192bd7bd463eab2eb"
      }
     },
     "bb015d9261804b83a93d4209cee0e17a": {
      "model_module": "@jupyter-widgets/base",
      "model_module_version": "1.2.0",
      "model_name": "LayoutModel",
      "state": {}
     },
     "bb14a562cdf944c590aac963d1b421d7": {
      "model_module": "@jupyter-widgets/controls",
      "model_module_version": "1.5.0",
      "model_name": "FloatSliderModel",
      "state": {
       "description": "Compression Threshold",
       "layout": "IPY_MODEL_f91ab82f7c94463c884d54ad9ef974a1",
       "max": 1,
       "step": 0.01,
       "style": "IPY_MODEL_8618a5cbfcf24992b14926ab38fba5d0",
       "value": 0.5
      }
     },
     "bb3a9b1ebbac4e4eb695b08252f4f295": {
      "model_module": "@jupyter-widgets/base",
      "model_module_version": "1.2.0",
      "model_name": "LayoutModel",
      "state": {}
     },
     "bb9fef29d6d7428d9d6cd3fdf49baf18": {
      "model_module": "@jupyter-widgets/base",
      "model_module_version": "1.2.0",
      "model_name": "LayoutModel",
      "state": {}
     },
     "bbcc6b66906643fa9b97a473e67e540f": {
      "model_module": "@jupyter-widgets/base",
      "model_module_version": "1.2.0",
      "model_name": "LayoutModel",
      "state": {}
     },
     "bbfe13827e004cff9ea65ad3d7addf74": {
      "model_module": "@jupyter-widgets/controls",
      "model_module_version": "1.5.0",
      "model_name": "TabModel",
      "state": {
       "_titles": {
        "0": "Global Controls"
       },
       "children": [
        "IPY_MODEL_3c38c86c11914e5990bafeadefa6dcf5"
       ],
       "layout": "IPY_MODEL_932d054941eb4d39a14210fa7cf28d6f"
      }
     },
     "bcacec51d96444a4ae87d260c4d8bc24": {
      "model_module": "jupyter-matplotlib",
      "model_module_version": "^0.7.2",
      "model_name": "MPLCanvasModel",
      "state": {
       "_figure_label": "Figure 5",
       "_height": 518,
       "_width": 1100,
       "header_visible": false,
       "layout": "IPY_MODEL_18a3a6f7ed9b4808a99e90d1d80b4b51",
       "resizable": false,
       "toolbar": "IPY_MODEL_81ac389699a5491a9225170d4501dcf1",
       "toolbar_position": "left",
       "toolbar_visible": false
      }
     },
     "bcafe766053946b882340dc18d51a732": {
      "model_module": "@jupyter-widgets/controls",
      "model_module_version": "1.5.0",
      "model_name": "HBoxModel",
      "state": {
       "children": [
        "IPY_MODEL_5550640c24bf48ebb8b50e79db57e041",
        "IPY_MODEL_5b85514f5f174f728db353197e098e4e",
        "IPY_MODEL_a5b1650a544748baaf461ed2a8b7a0cb"
       ],
       "layout": "IPY_MODEL_0aeacd7fb01745ba9812c738144b96f3"
      }
     },
     "bdfe715f96984e71a4f3362a876f0abb": {
      "model_module": "@jupyter-widgets/controls",
      "model_module_version": "1.5.0",
      "model_name": "BoxModel",
      "state": {
       "children": [
        "IPY_MODEL_a54b5996d57f4d7fa71daa0123c0486d",
        "IPY_MODEL_bbfe13827e004cff9ea65ad3d7addf74"
       ],
       "layout": "IPY_MODEL_f40380bc9d764fd9a69185d85b4b54cf"
      }
     },
     "be14586bcbb94b9784857095ccf01bd2": {
      "model_module": "@jupyter-widgets/controls",
      "model_module_version": "1.5.0",
      "model_name": "SliderStyleModel",
      "state": {
       "description_width": ""
      }
     },
     "be4be85c12b74ae693aaccb33febcf61": {
      "model_module": "@jupyter-widgets/controls",
      "model_module_version": "1.5.0",
      "model_name": "SliderStyleModel",
      "state": {
       "description_width": ""
      }
     },
     "be4bfc3daa1547329248649e2436cdcf": {
      "model_module": "@jupyter-widgets/base",
      "model_module_version": "1.2.0",
      "model_name": "LayoutModel",
      "state": {}
     },
     "beaf0ba4fbaf44538981d127c48b4216": {
      "model_module": "@jupyter-widgets/base",
      "model_module_version": "1.2.0",
      "model_name": "LayoutModel",
      "state": {}
     },
     "bf0876f3492c40b8b4cd806f8de1f497": {
      "model_module": "@jupyter-widgets/controls",
      "model_module_version": "1.5.0",
      "model_name": "SliderStyleModel",
      "state": {
       "description_width": ""
      }
     },
     "bf5719ca5d78407fbfa859750d1a62e9": {
      "model_module": "@jupyter-widgets/controls",
      "model_module_version": "1.5.0",
      "model_name": "SliderStyleModel",
      "state": {
       "description_width": ""
      }
     },
     "bf5eb1bfaa1741bf8788036d6e5ce096": {
      "model_module": "@jupyter-widgets/base",
      "model_module_version": "1.2.0",
      "model_name": "LayoutModel",
      "state": {
       "border": "solid 4px #222",
       "margin": "4px",
       "padding": "0"
      }
     },
     "bf75c9dadb484aeca596ca4524e041b6": {
      "model_module": "@jupyter-widgets/base",
      "model_module_version": "1.2.0",
      "model_name": "LayoutModel",
      "state": {}
     },
     "bfcf4a0a43914caa952c4295de949ed7": {
      "model_module": "@jupyter-widgets/controls",
      "model_module_version": "1.5.0",
      "model_name": "SliderStyleModel",
      "state": {
       "description_width": ""
      }
     },
     "bfe6746190c54fb3b3adc98eb5d2ecfd": {
      "model_module": "@jupyter-widgets/base",
      "model_module_version": "1.2.0",
      "model_name": "LayoutModel",
      "state": {
       "border": "solid 4px #222",
       "margin": "4px",
       "padding": "0"
      }
     },
     "bff91c2b01c64b459d5799f06a9a8efa": {
      "model_module": "@jupyter-widgets/controls",
      "model_module_version": "1.5.0",
      "model_name": "ButtonStyleModel",
      "state": {}
     },
     "c0119f7005764c669aa2cbcf4ecda0dc": {
      "model_module": "@jupyter-widgets/controls",
      "model_module_version": "1.5.0",
      "model_name": "ButtonModel",
      "state": {
       "description": "Save Figure",
       "layout": "IPY_MODEL_0bf5dafe1a8045539fbcf311fbcd91f7",
       "style": "IPY_MODEL_d08a01603bfd49f38da0569111b07c83"
      }
     },
     "c048eb17459c433fb5fb70d2e03eb4dd": {
      "model_module": "@jupyter-widgets/base",
      "model_module_version": "1.2.0",
      "model_name": "LayoutModel",
      "state": {}
     },
     "c0498d56fcc94d069a33930ff3936177": {
      "model_module": "@jupyter-widgets/controls",
      "model_module_version": "1.5.0",
      "model_name": "VBoxModel",
      "state": {
       "children": [
        "IPY_MODEL_41e894c69e04446784e4926795f71855",
        "IPY_MODEL_1038587f36bd4b8bbd4eba6f66aac4a6",
        "IPY_MODEL_74893d796fd74065a478f2e03de78e6f"
       ],
       "layout": "IPY_MODEL_873d7ee6d04e476fa6395b3ea6214137"
      }
     },
     "c08923b8b3ad450b84c5758fabdb6227": {
      "model_module": "@jupyter-widgets/controls",
      "model_module_version": "1.5.0",
      "model_name": "ButtonStyleModel",
      "state": {}
     },
     "c0fba8ec9ef74ff6baa0850bd9d6dff5": {
      "model_module": "@jupyter-widgets/controls",
      "model_module_version": "1.5.0",
      "model_name": "FloatSliderModel",
      "state": {
       "description": "Compression Threshold",
       "layout": "IPY_MODEL_43988343aa4340cab702e5cedaae2cb2",
       "max": 1,
       "step": 0.01,
       "style": "IPY_MODEL_be4be85c12b74ae693aaccb33febcf61",
       "value": 0.8
      }
     },
     "c105ea6111574dcb882844e082e0d285": {
      "model_module": "@jupyter-widgets/base",
      "model_module_version": "1.2.0",
      "model_name": "LayoutModel",
      "state": {}
     },
     "c133f8fa0794419e9ecae51a68229a2c": {
      "model_module": "@jupyter-widgets/base",
      "model_module_version": "1.2.0",
      "model_name": "LayoutModel",
      "state": {}
     },
     "c136149597934c2880229da5ef2d6f85": {
      "model_module": "@jupyter-widgets/controls",
      "model_module_version": "1.5.0",
      "model_name": "VBoxModel",
      "state": {
       "children": [
        "IPY_MODEL_1039ccbc64084772a17b0d0f28820b2d",
        "IPY_MODEL_6b579414f738416d899a6db9a5730c20"
       ],
       "layout": "IPY_MODEL_806699ceb89b4ac1a95dcfa7b6074814"
      }
     },
     "c18d43f104d24034b48344aa7ba1b17b": {
      "model_module": "@jupyter-widgets/base",
      "model_module_version": "1.2.0",
      "model_name": "LayoutModel",
      "state": {}
     },
     "c1a546f359e24664ace280724d9ec6db": {
      "model_module": "@jupyter-widgets/controls",
      "model_module_version": "1.5.0",
      "model_name": "FloatSliderModel",
      "state": {
       "description": "0°",
       "layout": "IPY_MODEL_da9538fc86e542cd9298c8b7fd96e05c",
       "max": 1,
       "min": -1,
       "step": 0.01,
       "style": "IPY_MODEL_a79782cbb99d4fea83f5f77bceb6a3d3"
      }
     },
     "c1c02a3c3b414540a2f3f1a4669e888a": {
      "model_module": "@jupyter-widgets/controls",
      "model_module_version": "1.5.0",
      "model_name": "FloatSliderModel",
      "state": {
       "description": "0°",
       "layout": "IPY_MODEL_8eb50f6618914ab699db267536e56bf4",
       "max": 1,
       "min": -1,
       "step": 0.01,
       "style": "IPY_MODEL_a0f89cd68ea14181a5e6963788270370"
      }
     },
     "c1d567a882714576898b0abe65c505b6": {
      "model_module": "@jupyter-widgets/controls",
      "model_module_version": "1.5.0",
      "model_name": "ButtonModel",
      "state": {
       "description": "Reset Saturation Controls",
       "layout": "IPY_MODEL_cc51890ad59346c883e036a79a38c430",
       "style": "IPY_MODEL_e70ee2fb6a214d399ce193ea875617e5"
      }
     },
     "c1f4c4f9f38e49209f24b928e7af05bb": {
      "model_module": "@jupyter-widgets/base",
      "model_module_version": "1.2.0",
      "model_name": "LayoutModel",
      "state": {}
     },
     "c22637d8d19a4e9dae53dca0a39819f3": {
      "model_module": "@jupyter-widgets/output",
      "model_module_version": "1.0.0",
      "model_name": "OutputModel",
      "state": {
       "layout": "IPY_MODEL_73299b3205b6456497f45a2c7698f75e",
       "outputs": [
        {
         "data": {
          "application/vnd.jupyter.widget-view+json": {
           "model_id": "edbf9c92e7274646a04a1bc5aa738ebe",
           "version_major": 2,
           "version_minor": 0
          },
          "text/plain": "Canvas(toolbar=Toolbar(toolitems=[('Home', 'Reset original view', 'home', 'home'), ('Back', 'Back to previous …"
         },
         "metadata": {},
         "output_type": "display_data"
        }
       ]
      }
     },
     "c2597a1e46584e9b83f2554ba88c9b83": {
      "model_module": "jupyter-matplotlib",
      "model_module_version": "^0.7.2",
      "model_name": "MPLCanvasModel",
      "state": {
       "_figure_label": "Figure 20",
       "_height": 550,
       "_width": 1100,
       "header_visible": false,
       "layout": "IPY_MODEL_057a50ea6910404b8211378bfda42710",
       "resizable": false,
       "toolbar": "IPY_MODEL_43e137a7c7e94bfca96949ad6729c245",
       "toolbar_position": "left",
       "toolbar_visible": false
      }
     },
     "c2cd505b5745472c9947ba5e6bda0b27": {
      "model_module": "@jupyter-widgets/controls",
      "model_module_version": "1.5.0",
      "model_name": "FloatSliderModel",
      "state": {
       "description": "Protected Area Threshold",
       "layout": "IPY_MODEL_c1f4c4f9f38e49209f24b928e7af05bb",
       "max": 1,
       "step": 0.01,
       "style": "IPY_MODEL_48c3870373ec4f8cb5aee8c149928d8a",
       "value": 0.7
      }
     },
     "c2d8905d38834b34bd9b7b26f19ca9c3": {
      "model_module": "@jupyter-widgets/controls",
      "model_module_version": "1.5.0",
      "model_name": "ButtonModel",
      "state": {
       "description": "Save Figure",
       "layout": "IPY_MODEL_efa06c67e3a94afd80d817bbddaff25f",
       "style": "IPY_MODEL_b198e0b94d6041e2a318c9137910fb17"
      }
     },
     "c3077300fd1e4fbaad1e109c94b4b978": {
      "model_module": "@jupyter-widgets/controls",
      "model_module_version": "1.5.0",
      "model_name": "ButtonModel",
      "state": {
       "description": "Save Figure",
       "layout": "IPY_MODEL_d6e1e1a215ab41c6b454d70a76b64ffa",
       "style": "IPY_MODEL_49471d854d6c4166b5fad22ea267b149"
      }
     },
     "c34b2895dde743998d4c976e7eddb49b": {
      "model_module": "@jupyter-widgets/base",
      "model_module_version": "1.2.0",
      "model_name": "LayoutModel",
      "state": {}
     },
     "c3b1767319f94be4b878d6dc54ece038": {
      "model_module": "@jupyter-widgets/base",
      "model_module_version": "1.2.0",
      "model_name": "LayoutModel",
      "state": {}
     },
     "c3bd86a25c95425f8af67f4a44116f28": {
      "model_module": "@jupyter-widgets/controls",
      "model_module_version": "1.5.0",
      "model_name": "ButtonStyleModel",
      "state": {}
     },
     "c3c3af3646aa4ff4ac20fa2fe2cfd61a": {
      "model_module": "@jupyter-widgets/base",
      "model_module_version": "1.2.0",
      "model_name": "LayoutModel",
      "state": {}
     },
     "c445b5ee792d41beb9610a28b4128b3d": {
      "model_module": "@jupyter-widgets/base",
      "model_module_version": "1.2.0",
      "model_name": "LayoutModel",
      "state": {}
     },
     "c5b9a3e9527e4f3e9a3a18998bc1df66": {
      "model_module": "@jupyter-widgets/controls",
      "model_module_version": "1.5.0",
      "model_name": "VBoxModel",
      "state": {
       "children": [
        "IPY_MODEL_ebee5cd1cdbd47a7bac32110fe318cf8",
        "IPY_MODEL_d4146ed6b7c94ddbbafe785bb4e5f296",
        "IPY_MODEL_32b46affecc14078a91025ce1c1cefb2"
       ],
       "layout": "IPY_MODEL_556ef02c1a234a7eb615c0a22f772919"
      }
     },
     "c61d19fdc0304d5394d9c45fb34d11d7": {
      "model_module": "@jupyter-widgets/controls",
      "model_module_version": "1.5.0",
      "model_name": "FloatSliderModel",
      "state": {
       "description": "90°",
       "layout": "IPY_MODEL_a2999dd5ff984a6a98c00e9bc761267a",
       "max": 1,
       "min": -1,
       "step": 0.01,
       "style": "IPY_MODEL_84f9d05238e142a8b65f12864219c964"
      }
     },
     "c64a55affe2344269057c96a3debc38e": {
      "model_module": "@jupyter-widgets/controls",
      "model_module_version": "1.5.0",
      "model_name": "VBoxModel",
      "state": {
       "children": [
        "IPY_MODEL_3cfc02538d3847809dda6b5e65591b2a",
        "IPY_MODEL_725624951d4f4294b59db97f004ffcca"
       ],
       "layout": "IPY_MODEL_ded21334dd7840ff8b20d7591ecfb644"
      }
     },
     "c73a3e2ebf264ebb8b3c4a7e6e0f6db3": {
      "model_module": "@jupyter-widgets/base",
      "model_module_version": "1.2.0",
      "model_name": "LayoutModel",
      "state": {}
     },
     "c7a8bc3f1e2b4076a17530361f5922ac": {
      "model_module": "@jupyter-widgets/output",
      "model_module_version": "1.0.0",
      "model_name": "OutputModel",
      "state": {
       "layout": "IPY_MODEL_fe551993737147b4b924f6354c23dde2",
       "outputs": [
        {
         "data": {
          "application/vnd.jupyter.widget-view+json": {
           "model_id": "e640c2cf6f724236b0c2e83236909125",
           "version_major": 2,
           "version_minor": 0
          },
          "text/plain": "Canvas(toolbar=Toolbar(toolitems=[('Home', 'Reset original view', 'home', 'home'), ('Back', 'Back to previous …"
         },
         "metadata": {},
         "output_type": "display_data"
        }
       ]
      }
     },
     "c8915ad4e3e34740acd7a1e6bf9d53ab": {
      "model_module": "@jupyter-widgets/controls",
      "model_module_version": "1.5.0",
      "model_name": "ButtonStyleModel",
      "state": {}
     },
     "c978727d2e3942a986e29dc9b1add117": {
      "model_module": "@jupyter-widgets/controls",
      "model_module_version": "1.5.0",
      "model_name": "SliderStyleModel",
      "state": {
       "description_width": ""
      }
     },
     "c9c90121cbe34d32a7360e67e87e72d8": {
      "model_module": "@jupyter-widgets/controls",
      "model_module_version": "1.5.0",
      "model_name": "ButtonStyleModel",
      "state": {}
     },
     "ca2f77fe0a094b89bcb1709d3207d945": {
      "model_module": "@jupyter-widgets/base",
      "model_module_version": "1.2.0",
      "model_name": "LayoutModel",
      "state": {}
     },
     "ca8afd1b93aa4b1ca35c8bcd3d5829d2": {
      "model_module": "@jupyter-widgets/controls",
      "model_module_version": "1.5.0",
      "model_name": "SliderStyleModel",
      "state": {
       "description_width": ""
      }
     },
     "caec6a3ef0d94a37ab012862193940bf": {
      "model_module": "@jupyter-widgets/base",
      "model_module_version": "1.2.0",
      "model_name": "LayoutModel",
      "state": {}
     },
     "cb386d2f688647738996f8f4005233b8": {
      "model_module": "@jupyter-widgets/controls",
      "model_module_version": "1.5.0",
      "model_name": "HBoxModel",
      "state": {
       "children": [
        "IPY_MODEL_f10ffcd3f8114dbea6efc8e55170b6e3",
        "IPY_MODEL_ebb1da0189144f6bb5a2d3a96dd3c30d",
        "IPY_MODEL_e81eafb94ea04ec0bb35ac8db1424570",
        "IPY_MODEL_fb2488f3a596487f9858da5f3f119005"
       ],
       "layout": "IPY_MODEL_e184dd8f3a65476a89af9e61149480f5"
      }
     },
     "cb42b9b45e584bf89cac28e0f1077d79": {
      "model_module": "@jupyter-widgets/controls",
      "model_module_version": "1.5.0",
      "model_name": "FloatSliderModel",
      "state": {
       "description": "225°",
       "layout": "IPY_MODEL_8086dcd4eb384a6f829e7fa77462af96",
       "max": 1,
       "min": -1,
       "step": 0.01,
       "style": "IPY_MODEL_78fb8e2917944ddc8487dc5818533ac1"
      }
     },
     "cb9fe683def34c7caed3953343190f77": {
      "model_module": "@jupyter-widgets/base",
      "model_module_version": "1.2.0",
      "model_name": "LayoutModel",
      "state": {}
     },
     "cbb8272271b14a3794c6ec719ed6d229": {
      "model_module": "@jupyter-widgets/base",
      "model_module_version": "1.2.0",
      "model_name": "LayoutModel",
      "state": {}
     },
     "cbffe1077dc941738fd8a4e17c1d4a19": {
      "model_module": "@jupyter-widgets/controls",
      "model_module_version": "1.5.0",
      "model_name": "HBoxModel",
      "state": {
       "children": [
        "IPY_MODEL_ce35790943014b63b07b950c0c3b9894",
        "IPY_MODEL_781681ee07904e8c851dd5ddc51efccd",
        "IPY_MODEL_c2d8905d38834b34bd9b7b26f19ca9c3"
       ],
       "layout": "IPY_MODEL_501dc876ea264c37995de05528356563"
      }
     },
     "cc51890ad59346c883e036a79a38c430": {
      "model_module": "@jupyter-widgets/base",
      "model_module_version": "1.2.0",
      "model_name": "LayoutModel",
      "state": {}
     },
     "cd0070482e16449fa2f9d9f56d435452": {
      "model_module": "@jupyter-widgets/controls",
      "model_module_version": "1.5.0",
      "model_name": "SliderStyleModel",
      "state": {
       "description_width": ""
      }
     },
     "cd06e4682a4742959396d232147a0c5e": {
      "model_module": "jupyter-matplotlib",
      "model_module_version": "^0.7.2",
      "model_name": "ToolbarModel",
      "state": {
       "layout": "IPY_MODEL_7d9055ee1558409b9bf31cc8aa807c7d",
       "toolitems": [
        [
         "Home",
         "Reset original view",
         "home",
         "home"
        ],
        [
         "Back",
         "Back to previous view",
         "arrow-left",
         "back"
        ],
        [
         "Forward",
         "Forward to next view",
         "arrow-right",
         "forward"
        ],
        [
         "Pan",
         "Pan axes with left mouse, zoom with right",
         "arrows",
         "pan"
        ],
        [
         "Zoom",
         "Zoom to rectangle",
         "square-o",
         "zoom"
        ],
        [
         "Download",
         "Download plot",
         "floppy-o",
         "save_figure"
        ]
       ]
      }
     },
     "cd9a9420edc44f3e8c01c81d698e85f1": {
      "model_module": "@jupyter-widgets/base",
      "model_module_version": "1.2.0",
      "model_name": "LayoutModel",
      "state": {}
     },
     "cdee9c47e58442a49459cfadb1253562": {
      "model_module": "@jupyter-widgets/controls",
      "model_module_version": "1.5.0",
      "model_name": "CheckboxModel",
      "state": {
       "description": "Disable Medicina",
       "disabled": false,
       "layout": "IPY_MODEL_f20c9d7375d842329d6956aab6e2e8c6",
       "style": "IPY_MODEL_3673d26f7bd749179438bbbb51a7c4ba",
       "value": false
      }
     },
     "ce35790943014b63b07b950c0c3b9894": {
      "model_module": "@jupyter-widgets/controls",
      "model_module_version": "1.5.0",
      "model_name": "CheckboxModel",
      "state": {
       "description": "Disable Medicina",
       "disabled": false,
       "layout": "IPY_MODEL_527be0011a34464c87ec63a7efe4602b",
       "style": "IPY_MODEL_a30041efb0354e95a00c40b7aa581631",
       "value": false
      }
     },
     "ce52aab05c284bdaa3a81934ad234a36": {
      "model_module": "@jupyter-widgets/controls",
      "model_module_version": "1.5.0",
      "model_name": "ButtonStyleModel",
      "state": {}
     },
     "ce91b86fe71c4bd1808b23356328469a": {
      "model_module": "@jupyter-widgets/controls",
      "model_module_version": "1.5.0",
      "model_name": "VBoxModel",
      "state": {
       "children": [
        "IPY_MODEL_fdbe98538b084b4a8db5c11827d202cc"
       ],
       "layout": "IPY_MODEL_4dd91417ab6f48c586792a1494f8681b"
      }
     },
     "cf6f9ab1b8004ae2bee37230046a0d89": {
      "model_module": "@jupyter-widgets/controls",
      "model_module_version": "1.5.0",
      "model_name": "BoxModel",
      "state": {
       "children": [
        "IPY_MODEL_c7a8bc3f1e2b4076a17530361f5922ac",
        "IPY_MODEL_3a5e3175e5dd45e09574d8a36bd97e3f"
       ],
       "layout": "IPY_MODEL_43ac3fa621c5451e8c14961f5c67d613"
      }
     },
     "cf86da4280c64c9a9d3198c50466a4c6": {
      "model_module": "@jupyter-widgets/base",
      "model_module_version": "1.2.0",
      "model_name": "LayoutModel",
      "state": {}
     },
     "d0215198ee13450e8e2649b5d26a6dbd": {
      "model_module": "@jupyter-widgets/controls",
      "model_module_version": "1.5.0",
      "model_name": "ButtonStyleModel",
      "state": {}
     },
     "d04b15a367414610a516823c7eb91816": {
      "model_module": "@jupyter-widgets/base",
      "model_module_version": "1.2.0",
      "model_name": "LayoutModel",
      "state": {}
     },
     "d06d3f167a2d4b63b148e4c40784ef97": {
      "model_module": "jupyter-matplotlib",
      "model_module_version": "^0.7.2",
      "model_name": "ToolbarModel",
      "state": {
       "layout": "IPY_MODEL_704a7e0fae7b4776850a1f21fe2e409a",
       "toolitems": [
        [
         "Home",
         "Reset original view",
         "home",
         "home"
        ],
        [
         "Back",
         "Back to previous view",
         "arrow-left",
         "back"
        ],
        [
         "Forward",
         "Forward to next view",
         "arrow-right",
         "forward"
        ],
        [
         "Pan",
         "Pan axes with left mouse, zoom with right",
         "arrows",
         "pan"
        ],
        [
         "Zoom",
         "Zoom to rectangle",
         "square-o",
         "zoom"
        ],
        [
         "Download",
         "Download plot",
         "floppy-o",
         "save_figure"
        ]
       ]
      }
     },
     "d07fb582de38497ebbe9774fb942d4b3": {
      "model_module": "@jupyter-widgets/controls",
      "model_module_version": "1.5.0",
      "model_name": "SliderStyleModel",
      "state": {
       "description_width": ""
      }
     },
     "d08a01603bfd49f38da0569111b07c83": {
      "model_module": "@jupyter-widgets/controls",
      "model_module_version": "1.5.0",
      "model_name": "ButtonStyleModel",
      "state": {}
     },
     "d0aff7501f1547ad93d0962bb82031ed": {
      "model_module": "@jupyter-widgets/base",
      "model_module_version": "1.2.0",
      "model_name": "LayoutModel",
      "state": {}
     },
     "d0bcb3a4d06a4b0e910d4a0676b17ead": {
      "model_module": "jupyter-matplotlib",
      "model_module_version": "^0.7.2",
      "model_name": "ToolbarModel",
      "state": {
       "layout": "IPY_MODEL_e0731e8183864477b1345aaa3f2e3d28",
       "toolitems": [
        [
         "Home",
         "Reset original view",
         "home",
         "home"
        ],
        [
         "Back",
         "Back to previous view",
         "arrow-left",
         "back"
        ],
        [
         "Forward",
         "Forward to next view",
         "arrow-right",
         "forward"
        ],
        [
         "Pan",
         "Pan axes with left mouse, zoom with right",
         "arrows",
         "pan"
        ],
        [
         "Zoom",
         "Zoom to rectangle",
         "square-o",
         "zoom"
        ],
        [
         "Download",
         "Download plot",
         "floppy-o",
         "save_figure"
        ]
       ]
      }
     },
     "d0c523d0c55e4bd6b8eaff779b0e52be": {
      "model_module": "@jupyter-widgets/controls",
      "model_module_version": "1.5.0",
      "model_name": "ButtonModel",
      "state": {
       "description": "Reset Protected Area",
       "layout": "IPY_MODEL_f7d36ca7fccf4286a0579294b602db76",
       "style": "IPY_MODEL_286a7fdbdc8a4271ac9ce7534d027437"
      }
     },
     "d0ea57c824e54dc58a84e818827f3ed1": {
      "model_module": "@jupyter-widgets/controls",
      "model_module_version": "1.5.0",
      "model_name": "HBoxModel",
      "state": {
       "children": [
        "IPY_MODEL_55098738d8924bb28e24cf8e25195e25",
        "IPY_MODEL_b9952ec12c674b29a70211497cb41b62",
        "IPY_MODEL_a7e22d45fba244cd83e860fefe382734"
       ],
       "layout": "IPY_MODEL_3d9c7f4ec2314d0398039056a3ebe476"
      }
     },
     "d0ffbe86bf5246ed85c1603111b860fd": {
      "model_module": "@jupyter-widgets/base",
      "model_module_version": "1.2.0",
      "model_name": "LayoutModel",
      "state": {}
     },
     "d117421bacdb433d991297370ba3b031": {
      "model_module": "@jupyter-widgets/controls",
      "model_module_version": "1.5.0",
      "model_name": "ButtonStyleModel",
      "state": {}
     },
     "d12edbf344164372b9e52deb11349f51": {
      "model_module": "@jupyter-widgets/base",
      "model_module_version": "1.2.0",
      "model_name": "LayoutModel",
      "state": {
       "border": "solid 4px #222",
       "margin": "4px",
       "padding": "0"
      }
     },
     "d130234df0b646e4b06c75747f6b067b": {
      "model_module": "@jupyter-widgets/base",
      "model_module_version": "1.2.0",
      "model_name": "LayoutModel",
      "state": {}
     },
     "d18c3e1cc4c843d1bee267a77208e1f4": {
      "model_module": "@jupyter-widgets/base",
      "model_module_version": "1.2.0",
      "model_name": "LayoutModel",
      "state": {}
     },
     "d19d35c820c7443a8bb1090961b72fb8": {
      "model_module": "@jupyter-widgets/base",
      "model_module_version": "1.2.0",
      "model_name": "LayoutModel",
      "state": {}
     },
     "d1d0933d6ee540479ef4fab5790e6fe8": {
      "model_module": "@jupyter-widgets/controls",
      "model_module_version": "1.5.0",
      "model_name": "ButtonStyleModel",
      "state": {}
     },
     "d1ee3756c279438ab7e1100aa3fc6293": {
      "model_module": "@jupyter-widgets/controls",
      "model_module_version": "1.5.0",
      "model_name": "ButtonStyleModel",
      "state": {}
     },
     "d28237bf295a4d0f8a6eeaea1c6cb01d": {
      "model_module": "@jupyter-widgets/controls",
      "model_module_version": "1.5.0",
      "model_name": "FloatSliderModel",
      "state": {
       "description": "180°",
       "layout": "IPY_MODEL_e3cb2445ae9d4afcafa0f4bd92bdce1d",
       "max": 1,
       "min": -1,
       "step": 0.01,
       "style": "IPY_MODEL_19ccd68b90b045dcb16083fb8874f1d7"
      }
     },
     "d2a62b3699af49898cb01cb86e9df2d7": {
      "model_module": "@jupyter-widgets/controls",
      "model_module_version": "1.5.0",
      "model_name": "VBoxModel",
      "state": {
       "children": [
        "IPY_MODEL_add9f8eb68c24f6392b5dd7406dd33a6",
        "IPY_MODEL_e404f351ffd94a7aa42e9366f5b5147a"
       ],
       "layout": "IPY_MODEL_6e0322f49a7241c882bb9dff15a1f025"
      }
     },
     "d2cfca297eba4188b84c844547b30032": {
      "model_module": "@jupyter-widgets/controls",
      "model_module_version": "1.5.0",
      "model_name": "SliderStyleModel",
      "state": {
       "description_width": ""
      }
     },
     "d2e976522a3642f58bd8a01468f4ec93": {
      "model_module": "@jupyter-widgets/base",
      "model_module_version": "1.2.0",
      "model_name": "LayoutModel",
      "state": {}
     },
     "d379465cba114c7fbc7f0a964dd8bd9c": {
      "model_module": "@jupyter-widgets/controls",
      "model_module_version": "1.5.0",
      "model_name": "CheckboxModel",
      "state": {
       "description": "Disable Medicina",
       "disabled": false,
       "layout": "IPY_MODEL_fbc955b65a46402d8dd4525e74140d37",
       "style": "IPY_MODEL_efd58aef133e4ccbb73419f679c6bf39",
       "value": false
      }
     },
     "d38d02ce93d94e89822247c2cddc15ad": {
      "model_module": "@jupyter-widgets/base",
      "model_module_version": "1.2.0",
      "model_name": "LayoutModel",
      "state": {}
     },
     "d3d370cf5a484bf6a5366dc719b2a035": {
      "model_module": "@jupyter-widgets/controls",
      "model_module_version": "1.5.0",
      "model_name": "HBoxModel",
      "state": {
       "children": [
        "IPY_MODEL_1f3f1db0ce7540039ab3e57239f7a1e4",
        "IPY_MODEL_bb14a562cdf944c590aac963d1b421d7"
       ],
       "layout": "IPY_MODEL_8b14cb4669a34fabb2bf11f02c8418fb"
      }
     },
     "d3fa02fb32184490889c4b8c4c79fd1b": {
      "model_module": "@jupyter-widgets/base",
      "model_module_version": "1.2.0",
      "model_name": "LayoutModel",
      "state": {}
     },
     "d4146ed6b7c94ddbbafe785bb4e5f296": {
      "model_module": "@jupyter-widgets/controls",
      "model_module_version": "1.5.0",
      "model_name": "FloatSliderModel",
      "state": {
       "description": "180°",
       "layout": "IPY_MODEL_4b92c8cf32b144a187833db52f4eea0a",
       "max": 1,
       "min": -1,
       "step": 0.01,
       "style": "IPY_MODEL_8c025b6822624f2fb6b2c4b2bcd41e12"
      }
     },
     "d436211012c34e3b8efd8f39887474ce": {
      "model_module": "@jupyter-widgets/base",
      "model_module_version": "1.2.0",
      "model_name": "LayoutModel",
      "state": {}
     },
     "d45ec6cdfa9c49b698f779ee6c2afd3b": {
      "model_module": "@jupyter-widgets/controls",
      "model_module_version": "1.5.0",
      "model_name": "SliderStyleModel",
      "state": {
       "description_width": ""
      }
     },
     "d4b4dde8601548c182f39d91a2096fa9": {
      "model_module": "@jupyter-widgets/base",
      "model_module_version": "1.2.0",
      "model_name": "LayoutModel",
      "state": {}
     },
     "d4de07aee2a34712983a03af2a5e0e51": {
      "model_module": "@jupyter-widgets/controls",
      "model_module_version": "1.5.0",
      "model_name": "HBoxModel",
      "state": {
       "children": [
        "IPY_MODEL_91676b1e675147a6a3d8dc1c005629ad",
        "IPY_MODEL_7b0062cbb3f146e19fcc29131dafc01d"
       ],
       "layout": "IPY_MODEL_e8aa6b58dadc46e0aa2af60c0d64edcb"
      }
     },
     "d513563a3e07487b889cb2e2da774226": {
      "model_module": "@jupyter-widgets/controls",
      "model_module_version": "1.5.0",
      "model_name": "FloatSliderModel",
      "state": {
       "description": "Compression Threshold",
       "layout": "IPY_MODEL_94773d80d17545abaa6f1784dff909ef",
       "max": 1,
       "step": 0.01,
       "style": "IPY_MODEL_a0317cffeb2c40458ebfe6f9d3dc1ea6",
       "value": 0.8
      }
     },
     "d59422fd04424e6f8f59e755440e5506": {
      "model_module": "@jupyter-widgets/controls",
      "model_module_version": "1.5.0",
      "model_name": "VBoxModel",
      "state": {
       "children": [
        "IPY_MODEL_ab7a99044e434d42a6ee5f91ab9b85a0",
        "IPY_MODEL_321ca8a07b404a8a9250e94136057275",
        "IPY_MODEL_e5037c87b2a747d5886b6af255e38a12"
       ],
       "layout": "IPY_MODEL_06f487dbfd94473ca66ad7bb7f479ffa"
      }
     },
     "d5aee5afac6e4e8b86d573e4a2da91c0": {
      "model_module": "@jupyter-widgets/base",
      "model_module_version": "1.2.0",
      "model_name": "LayoutModel",
      "state": {}
     },
     "d5ede0e253e84f8eb522ad4db3265322": {
      "model_module": "@jupyter-widgets/controls",
      "model_module_version": "1.5.0",
      "model_name": "SliderStyleModel",
      "state": {
       "description_width": ""
      }
     },
     "d64a4605fb1b4c8496f48d372654ce6c": {
      "model_module": "@jupyter-widgets/base",
      "model_module_version": "1.2.0",
      "model_name": "LayoutModel",
      "state": {}
     },
     "d68d92f3df834e09b40173ee2f98889a": {
      "model_module": "@jupyter-widgets/output",
      "model_module_version": "1.0.0",
      "model_name": "OutputModel",
      "state": {
       "layout": "IPY_MODEL_51f2a0740543462294f746712be87f64",
       "outputs": [
        {
         "data": {
          "application/vnd.jupyter.widget-view+json": {
           "model_id": "e6c78a22786042599280cf3e11b38035",
           "version_major": 2,
           "version_minor": 0
          },
          "text/plain": "Canvas(toolbar=Toolbar(toolitems=[('Home', 'Reset original view', 'home', 'home'), ('Back', 'Back to previous …"
         },
         "metadata": {},
         "output_type": "display_data"
        }
       ]
      }
     },
     "d6afac1883024244b0c3ce16925bb874": {
      "model_module": "@jupyter-widgets/base",
      "model_module_version": "1.2.0",
      "model_name": "LayoutModel",
      "state": {
       "border": "solid 4px #222",
       "margin": "4px",
       "padding": "0"
      }
     },
     "d6e1e1a215ab41c6b454d70a76b64ffa": {
      "model_module": "@jupyter-widgets/base",
      "model_module_version": "1.2.0",
      "model_name": "LayoutModel",
      "state": {}
     },
     "d6ffc5c66de14baea7d6fac344a55f42": {
      "model_module": "@jupyter-widgets/base",
      "model_module_version": "1.2.0",
      "model_name": "LayoutModel",
      "state": {}
     },
     "d7789960cd8a43d0bf9a8ca61c95ffd5": {
      "model_module": "@jupyter-widgets/base",
      "model_module_version": "1.2.0",
      "model_name": "LayoutModel",
      "state": {}
     },
     "d79db8661f0c41888c0f1136755e5b6f": {
      "model_module": "@jupyter-widgets/base",
      "model_module_version": "1.2.0",
      "model_name": "LayoutModel",
      "state": {}
     },
     "d80204e80f24453fada3c95a644e5e0e": {
      "model_module": "@jupyter-widgets/base",
      "model_module_version": "1.2.0",
      "model_name": "LayoutModel",
      "state": {}
     },
     "d80e119fc3cf4c78884fb016d4a1c305": {
      "model_module": "@jupyter-widgets/controls",
      "model_module_version": "1.5.0",
      "model_name": "FloatSliderModel",
      "state": {
       "description": "Compression Threshold",
       "layout": "IPY_MODEL_e2ee1624f2924c4b87fa6151f19541c6",
       "max": 1,
       "step": 0.01,
       "style": "IPY_MODEL_e9adf25c7b1b4a769a5c923486009fbc",
       "value": 0.8
      }
     },
     "d82dfd3a3b364a15933bf340f4a25e84": {
      "model_module": "@jupyter-widgets/base",
      "model_module_version": "1.2.0",
      "model_name": "LayoutModel",
      "state": {}
     },
     "d82f1946dd3146709f2d041e36809564": {
      "model_module": "@jupyter-widgets/base",
      "model_module_version": "1.2.0",
      "model_name": "LayoutModel",
      "state": {}
     },
     "d85080aebd1e4a38afdf7e8b68b5b19b": {
      "model_module": "@jupyter-widgets/base",
      "model_module_version": "1.2.0",
      "model_name": "LayoutModel",
      "state": {
       "border": "solid 4px #222",
       "margin": "4px",
       "padding": "0"
      }
     },
     "d91c49eec4fd4dd4ac4bee75301288f5": {
      "model_module": "@jupyter-widgets/controls",
      "model_module_version": "1.5.0",
      "model_name": "BoxModel",
      "state": {
       "children": [
        "IPY_MODEL_c22637d8d19a4e9dae53dca0a39819f3",
        "IPY_MODEL_7811c533ea1e421ba6d909477755a617"
       ],
       "layout": "IPY_MODEL_0cb0ae75a9e24610abd89969604b3e0a"
      }
     },
     "d959ace30bab43a39d001e6d93ef7729": {
      "model_module": "@jupyter-widgets/controls",
      "model_module_version": "1.5.0",
      "model_name": "HBoxModel",
      "state": {
       "children": [
        "IPY_MODEL_00850640557e41d8bd9d41835b44fa71",
        "IPY_MODEL_2b5017f3adea459a82c51f732f2429f6",
        "IPY_MODEL_f076c011efd24e76a70ba801dadd27b8",
        "IPY_MODEL_4f35ea785584443b90d758526b7a4333"
       ],
       "layout": "IPY_MODEL_dd1eb1c7b8e44c9c9c143c1559bbc617"
      }
     },
     "d9d9186858b044d882832a71f611063d": {
      "model_module": "@jupyter-widgets/base",
      "model_module_version": "1.2.0",
      "model_name": "LayoutModel",
      "state": {
       "border": "solid 4px #222",
       "margin": "4px",
       "padding": "0"
      }
     },
     "d9ea7a91d5274a148f1fcbcdf563ddf4": {
      "model_module": "@jupyter-widgets/controls",
      "model_module_version": "1.5.0",
      "model_name": "FloatSliderModel",
      "state": {
       "description": "180°",
       "layout": "IPY_MODEL_d7789960cd8a43d0bf9a8ca61c95ffd5",
       "max": 1,
       "min": -1,
       "step": 0.01,
       "style": "IPY_MODEL_f0db38ca08ef456ca680e3f039aa0a8d"
      }
     },
     "da078088b3b44e28b5f6c293ddd9e7a5": {
      "model_module": "jupyter-matplotlib",
      "model_module_version": "^0.7.2",
      "model_name": "MPLCanvasModel",
      "state": {
       "_figure_label": "Figure 6",
       "_height": 518,
       "_width": 1100,
       "header_visible": false,
       "layout": "IPY_MODEL_f8b568ca4b534bfba515fe41d83badb3",
       "resizable": false,
       "toolbar": "IPY_MODEL_e1fb0e686f5444339775f01b34727883",
       "toolbar_position": "left",
       "toolbar_visible": false
      }
     },
     "da34b04cf4d04b40b6f5f4bcf2dadbd3": {
      "model_module": "@jupyter-widgets/base",
      "model_module_version": "1.2.0",
      "model_name": "LayoutModel",
      "state": {
       "border": "solid 4px #222",
       "margin": "4px",
       "padding": "0"
      }
     },
     "da8d8461421246c093db491074ce9755": {
      "model_module": "@jupyter-widgets/base",
      "model_module_version": "1.2.0",
      "model_name": "LayoutModel",
      "state": {}
     },
     "da9538fc86e542cd9298c8b7fd96e05c": {
      "model_module": "@jupyter-widgets/base",
      "model_module_version": "1.2.0",
      "model_name": "LayoutModel",
      "state": {}
     },
     "da9ed1a6441f4029a01efe7b3bffe201": {
      "model_module": "@jupyter-widgets/controls",
      "model_module_version": "1.5.0",
      "model_name": "SliderStyleModel",
      "state": {
       "description_width": ""
      }
     },
     "dadd6d6d07ef41e7ba87eb07f8f6b499": {
      "model_module": "@jupyter-widgets/base",
      "model_module_version": "1.2.0",
      "model_name": "LayoutModel",
      "state": {
       "border": "solid 4px #222",
       "margin": "4px",
       "padding": "0"
      }
     },
     "dbab36dfe9c548d9ba90692216a1f251": {
      "model_module": "@jupyter-widgets/controls",
      "model_module_version": "1.5.0",
      "model_name": "SliderStyleModel",
      "state": {
       "description_width": ""
      }
     },
     "dbc1d203167a4f32b461b2134cb73905": {
      "model_module": "@jupyter-widgets/controls",
      "model_module_version": "1.5.0",
      "model_name": "ButtonModel",
      "state": {
       "description": "Reset Hue Controls",
       "layout": "IPY_MODEL_ea3c78f74400404d95ce4533007d599e",
       "style": "IPY_MODEL_abc11e75b9914296837da8d78e1b6935"
      }
     },
     "dbc417ff83fd46bf92068916748f68ad": {
      "model_module": "@jupyter-widgets/controls",
      "model_module_version": "1.5.0",
      "model_name": "ButtonStyleModel",
      "state": {}
     },
     "dc352d22010846ac893f52f4020b4fac": {
      "model_module": "@jupyter-widgets/base",
      "model_module_version": "1.2.0",
      "model_name": "LayoutModel",
      "state": {}
     },
     "dc473e24f7e7454da9fec5bab5e449f6": {
      "model_module": "@jupyter-widgets/base",
      "model_module_version": "1.2.0",
      "model_name": "LayoutModel",
      "state": {}
     },
     "dcb7847ce618472f9df84be22586c303": {
      "model_module": "@jupyter-widgets/controls",
      "model_module_version": "1.5.0",
      "model_name": "FloatSliderModel",
      "state": {
       "description": "225°",
       "layout": "IPY_MODEL_c34b2895dde743998d4c976e7eddb49b",
       "max": 1,
       "min": -1,
       "step": 0.01,
       "style": "IPY_MODEL_a75c380a53d04bfc82351adf20c72996"
      }
     },
     "dd18d898170143128e667d812aed579b": {
      "model_module": "@jupyter-widgets/controls",
      "model_module_version": "1.5.0",
      "model_name": "FloatSliderModel",
      "state": {
       "description": "270°",
       "layout": "IPY_MODEL_cd9a9420edc44f3e8c01c81d698e85f1",
       "max": 1,
       "min": -1,
       "step": 0.01,
       "style": "IPY_MODEL_5deb486ca1e9489190a852237af8aab3"
      }
     },
     "dd1eb1c7b8e44c9c9c143c1559bbc617": {
      "model_module": "@jupyter-widgets/base",
      "model_module_version": "1.2.0",
      "model_name": "LayoutModel",
      "state": {}
     },
     "dd23299aa5cf4e35a41b5288657a4133": {
      "model_module": "@jupyter-widgets/controls",
      "model_module_version": "1.5.0",
      "model_name": "ButtonModel",
      "state": {
       "description": "Reset Hue Controls",
       "layout": "IPY_MODEL_435ff057bbda4f75babf2b0c73799067",
       "style": "IPY_MODEL_41284a78b3d847839ea85dc540a196bc"
      }
     },
     "dd73bb2d82224556b2a9c884e048e682": {
      "model_module": "@jupyter-widgets/controls",
      "model_module_version": "1.5.0",
      "model_name": "ButtonModel",
      "state": {
       "description": "Save Figure",
       "layout": "IPY_MODEL_9fc8897666e849b7a3134f3c8b15836d",
       "style": "IPY_MODEL_ae6df29d6bc04a63b14b4a9afef935bc"
      }
     },
     "dd9facc46fc74329971d86ffe56cbb72": {
      "model_module": "@jupyter-widgets/controls",
      "model_module_version": "1.5.0",
      "model_name": "ButtonModel",
      "state": {
       "description": "Reset Saturation Controls",
       "layout": "IPY_MODEL_6a26e5ca70124c72b9174a2d9c1e97d2",
       "style": "IPY_MODEL_ed9b93d5e4f94a00817d4d794cae430a"
      }
     },
     "ddaffe1d9fc44e7982d64edcc1cb78f6": {
      "model_module": "@jupyter-widgets/controls",
      "model_module_version": "1.5.0",
      "model_name": "FloatSliderModel",
      "state": {
       "description": "270°",
       "layout": "IPY_MODEL_07d616cd4ffd44f6a2e46992220bb621",
       "max": 1,
       "min": -1,
       "step": 0.01,
       "style": "IPY_MODEL_bf0876f3492c40b8b4cd806f8de1f497"
      }
     },
     "dddf9a206254419098731da5a8318d0b": {
      "model_module": "@jupyter-widgets/controls",
      "model_module_version": "1.5.0",
      "model_name": "FloatSliderModel",
      "state": {
       "description": "315°",
       "layout": "IPY_MODEL_b8910a93ec62442f80dd29f60e5af9a1",
       "max": 1,
       "min": -1,
       "step": 0.01,
       "style": "IPY_MODEL_160a4830c8a44315a2a98cdc635b880f"
      }
     },
     "de5d079fa62e489a8b6f640110aa7519": {
      "model_module": "@jupyter-widgets/base",
      "model_module_version": "1.2.0",
      "model_name": "LayoutModel",
      "state": {}
     },
     "de65636720f449a195fc100f114008da": {
      "model_module": "@jupyter-widgets/controls",
      "model_module_version": "1.5.0",
      "model_name": "TabModel",
      "state": {
       "_titles": {
        "0": "Global Controls",
        "1": "Compression Controls"
       },
       "children": [
        "IPY_MODEL_709bdca9b8374fbd8586223f355627e6",
        "IPY_MODEL_85a3dd5362cd4ba8a09534cea93dfa3e"
       ],
       "layout": "IPY_MODEL_d6afac1883024244b0c3ce16925bb874"
      }
     },
     "de8bde0afdd14a6da1b6348f07fda305": {
      "model_module": "@jupyter-widgets/controls",
      "model_module_version": "1.5.0",
      "model_name": "SliderStyleModel",
      "state": {
       "description_width": ""
      }
     },
     "deaa5fee417e4a81ba4bffb0e70e2a0a": {
      "model_module": "@jupyter-widgets/controls",
      "model_module_version": "1.5.0",
      "model_name": "HBoxModel",
      "state": {
       "children": [
        "IPY_MODEL_06796523646a42d5b56fd3888058de16",
        "IPY_MODEL_fe994859cf9e413caa0407b3aabd3f04"
       ],
       "layout": "IPY_MODEL_4872a8e0fdd54b77812315bb3f58d56f"
      }
     },
     "ded21334dd7840ff8b20d7591ecfb644": {
      "model_module": "@jupyter-widgets/base",
      "model_module_version": "1.2.0",
      "model_name": "LayoutModel",
      "state": {}
     },
     "df076fba969b4704b2a4078cd2965985": {
      "model_module": "@jupyter-widgets/base",
      "model_module_version": "1.2.0",
      "model_name": "LayoutModel",
      "state": {}
     },
     "df32bf65b12a49f799cd840ac9dfd9e8": {
      "model_module": "@jupyter-widgets/controls",
      "model_module_version": "1.5.0",
      "model_name": "ButtonModel",
      "state": {
       "description": "Reset Compression Controls",
       "layout": "IPY_MODEL_57692e65a2c84e669ec03e3b2fb51a28",
       "style": "IPY_MODEL_a05141ee85a44707af79e35654aff6ae"
      }
     },
     "df808841a39d4ea09256731d101ba2b2": {
      "model_module": "@jupyter-widgets/base",
      "model_module_version": "1.2.0",
      "model_name": "LayoutModel",
      "state": {}
     },
     "df86bc989c604af8a9d14f658546bc24": {
      "model_module": "@jupyter-widgets/controls",
      "model_module_version": "1.5.0",
      "model_name": "SliderStyleModel",
      "state": {
       "description_width": ""
      }
     },
     "dfa33662b38a4be5aeb2396e1d73bc84": {
      "model_module": "@jupyter-widgets/base",
      "model_module_version": "1.2.0",
      "model_name": "LayoutModel",
      "state": {}
     },
     "dfb152b5199e434f8cf221b75a7f87e1": {
      "model_module": "@jupyter-widgets/controls",
      "model_module_version": "1.5.0",
      "model_name": "ButtonStyleModel",
      "state": {}
     },
     "dfc9116cdaf44797ba1592775a4c6b98": {
      "model_module": "@jupyter-widgets/controls",
      "model_module_version": "1.5.0",
      "model_name": "SliderStyleModel",
      "state": {
       "description_width": ""
      }
     },
     "dfe5eca2be514fecbadf550eafe10a66": {
      "model_module": "jupyter-matplotlib",
      "model_module_version": "^0.7.2",
      "model_name": "ToolbarModel",
      "state": {
       "layout": "IPY_MODEL_ac44f064d7114ebea489c9276394da0d",
       "toolitems": [
        [
         "Home",
         "Reset original view",
         "home",
         "home"
        ],
        [
         "Back",
         "Back to previous view",
         "arrow-left",
         "back"
        ],
        [
         "Forward",
         "Forward to next view",
         "arrow-right",
         "forward"
        ],
        [
         "Pan",
         "Pan axes with left mouse, zoom with right",
         "arrows",
         "pan"
        ],
        [
         "Zoom",
         "Zoom to rectangle",
         "square-o",
         "zoom"
        ],
        [
         "Download",
         "Download plot",
         "floppy-o",
         "save_figure"
        ]
       ]
      }
     },
     "dffd5e5238954b25b0b10a2086929529": {
      "model_module": "@jupyter-widgets/controls",
      "model_module_version": "1.5.0",
      "model_name": "TabModel",
      "state": {
       "_titles": {
        "0": "Global Controls",
        "1": "Protected Area Controls",
        "2": "Saturation Controls",
        "3": "Hue Controls"
       },
       "children": [
        "IPY_MODEL_724a303d90754130a6e823f5959b0cbe",
        "IPY_MODEL_972b86327c0d4850aa48909f0386e24b",
        "IPY_MODEL_a9157fb88b3647b1a3b7e111ed1ac348",
        "IPY_MODEL_1858c3beeb7b4b7bb89caeedd6ca6732"
       ],
       "layout": "IPY_MODEL_12be83251d4b4a0c8367d1f78d5994ce"
      }
     },
     "e022b8257bc1496fb8edca45ebefb1c1": {
      "model_module": "@jupyter-widgets/controls",
      "model_module_version": "1.5.0",
      "model_name": "HBoxModel",
      "state": {
       "children": [
        "IPY_MODEL_4c0b439451404e3c8df65408e6f5e70b",
        "IPY_MODEL_e2a1279e96e64469923ba13d96e977bd"
       ],
       "layout": "IPY_MODEL_748d16da630840dfb80dc99835b3bd8a"
      }
     },
     "e045fa63fc53424f8f75d4268f2daaf8": {
      "model_module": "@jupyter-widgets/controls",
      "model_module_version": "1.5.0",
      "model_name": "FloatSliderModel",
      "state": {
       "description": "315°",
       "layout": "IPY_MODEL_e3d4710b9b71447eb41b92b086ecb7bf",
       "max": 1,
       "min": -1,
       "step": 0.01,
       "style": "IPY_MODEL_19103cb5c0634274ad93a357b4ae7cba"
      }
     },
     "e06ac18680604bf58f06635d034896d3": {
      "model_module": "@jupyter-widgets/controls",
      "model_module_version": "1.5.0",
      "model_name": "DescriptionStyleModel",
      "state": {
       "description_width": ""
      }
     },
     "e0731e8183864477b1345aaa3f2e3d28": {
      "model_module": "@jupyter-widgets/base",
      "model_module_version": "1.2.0",
      "model_name": "LayoutModel",
      "state": {}
     },
     "e08e3235ec254906911ca50c27cc3b98": {
      "model_module": "@jupyter-widgets/controls",
      "model_module_version": "1.5.0",
      "model_name": "SliderStyleModel",
      "state": {
       "description_width": ""
      }
     },
     "e0d447db4d9a4d699cd3a5005724e741": {
      "model_module": "@jupyter-widgets/controls",
      "model_module_version": "1.5.0",
      "model_name": "HBoxModel",
      "state": {
       "children": [
        "IPY_MODEL_ef5942f1ad44465c855283776bafce00",
        "IPY_MODEL_6cfa7df8e6f54ee791f36641b6fe9009"
       ],
       "layout": "IPY_MODEL_e41033074d554a7b9a75156aa8d8fd47"
      }
     },
     "e0d49870bcfe46fda10c32a236e515f6": {
      "model_module": "@jupyter-widgets/controls",
      "model_module_version": "1.5.0",
      "model_name": "VBoxModel",
      "state": {
       "children": [
        "IPY_MODEL_08d4015f3ea34cc49f662efddbfb80d0",
        "IPY_MODEL_458884f06d964b99b9a2628948e9b439",
        "IPY_MODEL_9c1a9b85d92942beb8c6b77dee73223b"
       ],
       "layout": "IPY_MODEL_00dd315411d54fc7a9c3b5b34e223d2b"
      }
     },
     "e123e690236248b1a1033c7b1c49fe37": {
      "model_module": "@jupyter-widgets/controls",
      "model_module_version": "1.5.0",
      "model_name": "HBoxModel",
      "state": {
       "children": [
        "IPY_MODEL_9ce53b4f89f6440393c2059602d27060",
        "IPY_MODEL_80114885d9e840c29cc60fb2039ac816",
        "IPY_MODEL_040d8b67454441d49a3792ba75256176"
       ],
       "layout": "IPY_MODEL_1a982403c55445558ccdc3872b4cb2a6"
      }
     },
     "e1264674839e4acb98cf2becb6fab3c5": {
      "model_module": "@jupyter-widgets/controls",
      "model_module_version": "1.5.0",
      "model_name": "ButtonModel",
      "state": {
       "description": "Reset Hue Controls",
       "layout": "IPY_MODEL_a98cd8db44054fa2b6d085231399612e",
       "style": "IPY_MODEL_7d84b82ab95742828cfc9a6a2d18fddb"
      }
     },
     "e14ffa996aac4a8d82afc62fc1407db4": {
      "model_module": "@jupyter-widgets/base",
      "model_module_version": "1.2.0",
      "model_name": "LayoutModel",
      "state": {}
     },
     "e15e959cc88d4bb5954fbc64bec69c3c": {
      "model_module": "@jupyter-widgets/base",
      "model_module_version": "1.2.0",
      "model_name": "LayoutModel",
      "state": {}
     },
     "e184dd8f3a65476a89af9e61149480f5": {
      "model_module": "@jupyter-widgets/base",
      "model_module_version": "1.2.0",
      "model_name": "LayoutModel",
      "state": {}
     },
     "e1d4c87bb85e4435bce8af48c6699d53": {
      "model_module": "@jupyter-widgets/base",
      "model_module_version": "1.2.0",
      "model_name": "LayoutModel",
      "state": {}
     },
     "e1fb0e686f5444339775f01b34727883": {
      "model_module": "jupyter-matplotlib",
      "model_module_version": "^0.7.2",
      "model_name": "ToolbarModel",
      "state": {
       "layout": "IPY_MODEL_37e3e808796d4584a1e43df92be1300e",
       "toolitems": [
        [
         "Home",
         "Reset original view",
         "home",
         "home"
        ],
        [
         "Back",
         "Back to previous view",
         "arrow-left",
         "back"
        ],
        [
         "Forward",
         "Forward to next view",
         "arrow-right",
         "forward"
        ],
        [
         "Pan",
         "Pan axes with left mouse, zoom with right",
         "arrows",
         "pan"
        ],
        [
         "Zoom",
         "Zoom to rectangle",
         "square-o",
         "zoom"
        ],
        [
         "Download",
         "Download plot",
         "floppy-o",
         "save_figure"
        ]
       ]
      }
     },
     "e2a1279e96e64469923ba13d96e977bd": {
      "model_module": "@jupyter-widgets/controls",
      "model_module_version": "1.5.0",
      "model_name": "FloatSliderModel",
      "state": {
       "description": "Compression Threshold",
       "layout": "IPY_MODEL_b554dbd68d284c089c5e9856a9c51cc3",
       "max": 1,
       "step": 0.01,
       "style": "IPY_MODEL_7be1ae9f6ebd4b40887ba6250f920fb1",
       "value": 0.8
      }
     },
     "e2b99e6b802e4e61974019e7455aff79": {
      "model_module": "@jupyter-widgets/base",
      "model_module_version": "1.2.0",
      "model_name": "LayoutModel",
      "state": {}
     },
     "e2ee1624f2924c4b87fa6151f19541c6": {
      "model_module": "@jupyter-widgets/base",
      "model_module_version": "1.2.0",
      "model_name": "LayoutModel",
      "state": {}
     },
     "e3cb2445ae9d4afcafa0f4bd92bdce1d": {
      "model_module": "@jupyter-widgets/base",
      "model_module_version": "1.2.0",
      "model_name": "LayoutModel",
      "state": {}
     },
     "e3d4710b9b71447eb41b92b086ecb7bf": {
      "model_module": "@jupyter-widgets/base",
      "model_module_version": "1.2.0",
      "model_name": "LayoutModel",
      "state": {}
     },
     "e404b4ff11604a84aff3deba41842b06": {
      "model_module": "@jupyter-widgets/base",
      "model_module_version": "1.2.0",
      "model_name": "LayoutModel",
      "state": {}
     },
     "e404f351ffd94a7aa42e9366f5b5147a": {
      "model_module": "@jupyter-widgets/controls",
      "model_module_version": "1.5.0",
      "model_name": "FloatSliderModel",
      "state": {
       "description": "315°",
       "layout": "IPY_MODEL_600131255a3b41b4b04298a17ae50a0f",
       "max": 1,
       "min": -1,
       "step": 0.01,
       "style": "IPY_MODEL_d2cfca297eba4188b84c844547b30032"
      }
     },
     "e40f829bc60f46b0af9c606c83d43b61": {
      "model_module": "@jupyter-widgets/base",
      "model_module_version": "1.2.0",
      "model_name": "LayoutModel",
      "state": {}
     },
     "e41033074d554a7b9a75156aa8d8fd47": {
      "model_module": "@jupyter-widgets/base",
      "model_module_version": "1.2.0",
      "model_name": "LayoutModel",
      "state": {}
     },
     "e467668c6485400990558adfc18f02f2": {
      "model_module": "@jupyter-widgets/base",
      "model_module_version": "1.2.0",
      "model_name": "LayoutModel",
      "state": {}
     },
     "e4ad20f926ff49fd9367f4557ae3975d": {
      "model_module": "@jupyter-widgets/base",
      "model_module_version": "1.2.0",
      "model_name": "LayoutModel",
      "state": {}
     },
     "e4f04bf2ddf245db90532eddd0ca8ad5": {
      "model_module": "@jupyter-widgets/base",
      "model_module_version": "1.2.0",
      "model_name": "LayoutModel",
      "state": {}
     },
     "e5037c87b2a747d5886b6af255e38a12": {
      "model_module": "@jupyter-widgets/controls",
      "model_module_version": "1.5.0",
      "model_name": "FloatSliderModel",
      "state": {
       "description": "90°",
       "layout": "IPY_MODEL_df808841a39d4ea09256731d101ba2b2",
       "max": 1,
       "min": -1,
       "step": 0.01,
       "style": "IPY_MODEL_e87b3d6ead6540cc92301cacfc657177"
      }
     },
     "e5133417d5f54aa28aa435e3e05560a0": {
      "model_module": "@jupyter-widgets/controls",
      "model_module_version": "1.5.0",
      "model_name": "ButtonStyleModel",
      "state": {}
     },
     "e573b3866aea4fbf93fc94d81818155b": {
      "model_module": "@jupyter-widgets/controls",
      "model_module_version": "1.5.0",
      "model_name": "ButtonModel",
      "state": {
       "description": "Save Figure",
       "layout": "IPY_MODEL_b509f136be034d419f9e98b018889275",
       "style": "IPY_MODEL_603f5bb3f1524aeb88ae0b5277d5db56"
      }
     },
     "e58d5722c41f4e2fa1b48b1e8152b46b": {
      "model_module": "@jupyter-widgets/controls",
      "model_module_version": "1.5.0",
      "model_name": "FloatSliderModel",
      "state": {
       "description": "225°",
       "layout": "IPY_MODEL_87a04c23418a497e808604b1d0370f57",
       "max": 1,
       "min": -1,
       "step": 0.01,
       "style": "IPY_MODEL_d5ede0e253e84f8eb522ad4db3265322"
      }
     },
     "e6193af217354941a6a00fa566d30a59": {
      "model_module": "@jupyter-widgets/base",
      "model_module_version": "1.2.0",
      "model_name": "LayoutModel",
      "state": {}
     },
     "e62bd8529fc4469f8494c14736554eb2": {
      "model_module": "@jupyter-widgets/controls",
      "model_module_version": "1.5.0",
      "model_name": "ButtonModel",
      "state": {
       "description": "Reset Hue Controls",
       "layout": "IPY_MODEL_f51d8e009a3b492b9a2a97c5ec6f07dd",
       "style": "IPY_MODEL_7a77e25737df450bad55fb993aa3c6e0"
      }
     },
     "e63ed7902ddb4c14ba7bec8b1b4a178f": {
      "model_module": "@jupyter-widgets/base",
      "model_module_version": "1.2.0",
      "model_name": "LayoutModel",
      "state": {
       "border": "solid 4px #222",
       "margin": "4px",
       "padding": "0"
      }
     },
     "e640c2cf6f724236b0c2e83236909125": {
      "model_module": "jupyter-matplotlib",
      "model_module_version": "^0.7.2",
      "model_name": "MPLCanvasModel",
      "state": {
       "_figure_label": "Figure 12",
       "_height": 430,
       "_width": 1099,
       "header_visible": false,
       "layout": "IPY_MODEL_e467668c6485400990558adfc18f02f2",
       "resizable": false,
       "toolbar": "IPY_MODEL_961bc82840354cbe9f63886ac7456ce1",
       "toolbar_position": "left",
       "toolbar_visible": false
      }
     },
     "e6c78a22786042599280cf3e11b38035": {
      "model_module": "jupyter-matplotlib",
      "model_module_version": "^0.7.2",
      "model_name": "MPLCanvasModel",
      "state": {
       "_figure_label": "Figure 14",
       "_height": 396,
       "_width": 1100,
       "header_visible": false,
       "layout": "IPY_MODEL_6c8ae20bd60a46ef89e68a9f7f1c2d93",
       "resizable": false,
       "toolbar": "IPY_MODEL_cd06e4682a4742959396d232147a0c5e",
       "toolbar_position": "left",
       "toolbar_visible": false
      }
     },
     "e703a0c74d9b403aa05183d379151a57": {
      "model_module": "@jupyter-widgets/controls",
      "model_module_version": "1.5.0",
      "model_name": "FloatSliderModel",
      "state": {
       "description": "135°",
       "layout": "IPY_MODEL_fa42154110b3447ca116478cae1887b4",
       "max": 1,
       "min": -1,
       "step": 0.01,
       "style": "IPY_MODEL_1806257fbc8c43d6b3c2af6a76019e2e"
      }
     },
     "e70ee2fb6a214d399ce193ea875617e5": {
      "model_module": "@jupyter-widgets/controls",
      "model_module_version": "1.5.0",
      "model_name": "ButtonStyleModel",
      "state": {}
     },
     "e762aae0e7c541699dfb023defbf5433": {
      "model_module": "@jupyter-widgets/controls",
      "model_module_version": "1.5.0",
      "model_name": "FloatSliderModel",
      "state": {
       "description": "Compression Threshold",
       "layout": "IPY_MODEL_0c14ac67ade94d0382332590bb7bae32",
       "max": 1,
       "step": 0.01,
       "style": "IPY_MODEL_9fab301a64474e34a68b45ffeb4dd635",
       "value": 0.8
      }
     },
     "e775ae7a731e47a5bd5817d1757d4461": {
      "model_module": "@jupyter-widgets/base",
      "model_module_version": "1.2.0",
      "model_name": "LayoutModel",
      "state": {}
     },
     "e7ebe1ce608941bc87bd8666d6ad93cd": {
      "model_module": "@jupyter-widgets/controls",
      "model_module_version": "1.5.0",
      "model_name": "ButtonStyleModel",
      "state": {}
     },
     "e81eafb94ea04ec0bb35ac8db1424570": {
      "model_module": "@jupyter-widgets/controls",
      "model_module_version": "1.5.0",
      "model_name": "VBoxModel",
      "state": {
       "children": [
        "IPY_MODEL_f5be42a2b79b45b19a41e28536171302",
        "IPY_MODEL_10c57a7e74e64fffa536df7510b6bbca",
        "IPY_MODEL_ad58bcff783d4875849ef233b10eb3ca"
       ],
       "layout": "IPY_MODEL_19ed64e7a29e4283aa2593b82620210a"
      }
     },
     "e8303f7b467d4008b408ca78cd7f2b7a": {
      "model_module": "@jupyter-widgets/base",
      "model_module_version": "1.2.0",
      "model_name": "LayoutModel",
      "state": {}
     },
     "e87b3d6ead6540cc92301cacfc657177": {
      "model_module": "@jupyter-widgets/controls",
      "model_module_version": "1.5.0",
      "model_name": "SliderStyleModel",
      "state": {
       "description_width": ""
      }
     },
     "e883a19270824e75bbd721d4739af74a": {
      "model_module": "@jupyter-widgets/base",
      "model_module_version": "1.2.0",
      "model_name": "LayoutModel",
      "state": {}
     },
     "e8aa6b58dadc46e0aa2af60c0d64edcb": {
      "model_module": "@jupyter-widgets/base",
      "model_module_version": "1.2.0",
      "model_name": "LayoutModel",
      "state": {}
     },
     "e8fba03ca2784908b5130d55dc30b956": {
      "model_module": "@jupyter-widgets/controls",
      "model_module_version": "1.5.0",
      "model_name": "VBoxModel",
      "state": {
       "children": [
        "IPY_MODEL_e1264674839e4acb98cf2becb6fab3c5"
       ],
       "layout": "IPY_MODEL_83dec0029198406e9bd3ebc294f45ce5"
      }
     },
     "e9ab87c3354c4e7aadea8d3ddd054326": {
      "model_module": "@jupyter-widgets/controls",
      "model_module_version": "1.5.0",
      "model_name": "FloatSliderModel",
      "state": {
       "description": "180°",
       "layout": "IPY_MODEL_7e0cf31eda344c71a0b0bb84c5637fe4",
       "max": 1,
       "min": -1,
       "step": 0.01,
       "style": "IPY_MODEL_00caf8815fa042d89dde3fdbcff7d89b"
      }
     },
     "e9adf25c7b1b4a769a5c923486009fbc": {
      "model_module": "@jupyter-widgets/controls",
      "model_module_version": "1.5.0",
      "model_name": "SliderStyleModel",
      "state": {
       "description_width": ""
      }
     },
     "e9cfc1fab14942bdbb7945599157bd09": {
      "model_module": "@jupyter-widgets/base",
      "model_module_version": "1.2.0",
      "model_name": "LayoutModel",
      "state": {}
     },
     "ea1a97aba043453684b51646ed133fac": {
      "model_module": "@jupyter-widgets/controls",
      "model_module_version": "1.5.0",
      "model_name": "SliderStyleModel",
      "state": {
       "description_width": ""
      }
     },
     "ea3c78f74400404d95ce4533007d599e": {
      "model_module": "@jupyter-widgets/base",
      "model_module_version": "1.2.0",
      "model_name": "LayoutModel",
      "state": {}
     },
     "ea48a6a7d23d42068b9cb385afdaf85f": {
      "model_module": "@jupyter-widgets/controls",
      "model_module_version": "1.5.0",
      "model_name": "HBoxModel",
      "state": {
       "children": [
        "IPY_MODEL_9e87f9ab279c4cb49b63c5fc3588b6aa",
        "IPY_MODEL_413ae57186e840b0a361ca5e9f8a6db5"
       ],
       "layout": "IPY_MODEL_8f1a12354f084151aabaea2e1836d772"
      }
     },
     "ea63a9297e964d14bb26c2ac938e30d2": {
      "model_module": "@jupyter-widgets/controls",
      "model_module_version": "1.5.0",
      "model_name": "SliderStyleModel",
      "state": {
       "description_width": ""
      }
     },
     "eacff4d264774e0eb418bacf7b54b1f6": {
      "model_module": "@jupyter-widgets/controls",
      "model_module_version": "1.5.0",
      "model_name": "TabModel",
      "state": {
       "_titles": {
        "0": "Global Controls",
        "1": "Protected Area Controls",
        "2": "Saturation Controls",
        "3": "Hue Controls"
       },
       "children": [
        "IPY_MODEL_e123e690236248b1a1033c7b1c49fe37",
        "IPY_MODEL_13d1e7466342452387f7eda4bc3f5b10",
        "IPY_MODEL_92f7271a9a6b47ec950bca80ac950a7e",
        "IPY_MODEL_460bd53825f740bbaf6f69c40cc22bf9"
       ],
       "layout": "IPY_MODEL_06cea455cea246cb875f943c1ae0f3d0"
      }
     },
     "ead77cb00b074092a0e9db5f8fa04899": {
      "model_module": "@jupyter-widgets/controls",
      "model_module_version": "1.5.0",
      "model_name": "ButtonStyleModel",
      "state": {}
     },
     "eb8c680c59684750a5829c7a52dcee1a": {
      "model_module": "@jupyter-widgets/base",
      "model_module_version": "1.2.0",
      "model_name": "LayoutModel",
      "state": {}
     },
     "ebb1da0189144f6bb5a2d3a96dd3c30d": {
      "model_module": "@jupyter-widgets/controls",
      "model_module_version": "1.5.0",
      "model_name": "VBoxModel",
      "state": {
       "children": [
        "IPY_MODEL_8086d35275ff4f3f8c7397104721ea85",
        "IPY_MODEL_3550fe4ca10c44569ab62defcc9cf3d2",
        "IPY_MODEL_8a1783b18c694bb9b773517e8fa44df8"
       ],
       "layout": "IPY_MODEL_a5aa7114d50f4c5ea5dbf963ad1e2e20"
      }
     },
     "ebee5cd1cdbd47a7bac32110fe318cf8": {
      "model_module": "@jupyter-widgets/controls",
      "model_module_version": "1.5.0",
      "model_name": "FloatSliderModel",
      "state": {
       "description": "135°",
       "layout": "IPY_MODEL_d64a4605fb1b4c8496f48d372654ce6c",
       "max": 1,
       "min": -1,
       "step": 0.01,
       "style": "IPY_MODEL_ea1a97aba043453684b51646ed133fac"
      }
     },
     "ece1d2cd6373437da97b5c6efffe014a": {
      "model_module": "@jupyter-widgets/controls",
      "model_module_version": "1.5.0",
      "model_name": "HBoxModel",
      "state": {
       "children": [
        "IPY_MODEL_50a16d19c4a64bfe887360b18f072dba",
        "IPY_MODEL_41abda6efda94da087ea17749cebbadb",
        "IPY_MODEL_464b94d75f4f4d669f8967df68f4ec1d"
       ],
       "layout": "IPY_MODEL_9859de7fcd224b32a782d23a99a297ca"
      }
     },
     "ed328c0c5c75486ebaa2a68bdd1569a0": {
      "model_module": "@jupyter-widgets/base",
      "model_module_version": "1.2.0",
      "model_name": "LayoutModel",
      "state": {}
     },
     "ed9b93d5e4f94a00817d4d794cae430a": {
      "model_module": "@jupyter-widgets/controls",
      "model_module_version": "1.5.0",
      "model_name": "ButtonStyleModel",
      "state": {}
     },
     "edacb977893840e698f9e2079c6801d2": {
      "model_module": "@jupyter-widgets/controls",
      "model_module_version": "1.5.0",
      "model_name": "FloatSliderModel",
      "state": {
       "description": "135°",
       "layout": "IPY_MODEL_4404689a2f7145039df2f97e4314dd40",
       "max": 1,
       "min": -1,
       "step": 0.01,
       "style": "IPY_MODEL_0df0db5493c84aada0ed98214c16ccdc"
      }
     },
     "edbf9c92e7274646a04a1bc5aa738ebe": {
      "model_module": "jupyter-matplotlib",
      "model_module_version": "^0.7.2",
      "model_name": "MPLCanvasModel",
      "state": {
       "_figure_label": "Figure 4",
       "_height": 618,
       "_width": 1099,
       "header_visible": false,
       "layout": "IPY_MODEL_cbb8272271b14a3794c6ec719ed6d229",
       "resizable": false,
       "toolbar": "IPY_MODEL_f8f882c284574ed2b27e5dfba779c7d6",
       "toolbar_position": "left",
       "toolbar_visible": false
      }
     },
     "edc3c26eeb3f4dd59ee19e0026c6c2fa": {
      "model_module": "@jupyter-widgets/controls",
      "model_module_version": "1.5.0",
      "model_name": "ButtonModel",
      "state": {
       "description": "Export Image",
       "layout": "IPY_MODEL_9d96d5bf34c14341a7a776338ad457ad",
       "style": "IPY_MODEL_5ba4715bb20e47a1a05aeb003d90476e"
      }
     },
     "ee1b24a7c8c441cfa086fa25f1cbaa0c": {
      "model_module": "@jupyter-widgets/base",
      "model_module_version": "1.2.0",
      "model_name": "LayoutModel",
      "state": {}
     },
     "ee26c9b95ca144e9b4c3a336007ff4bf": {
      "model_module": "@jupyter-widgets/controls",
      "model_module_version": "1.5.0",
      "model_name": "ButtonModel",
      "state": {
       "description": "Export Image",
       "layout": "IPY_MODEL_4df48bb31d874ab2b7569bca36c335d7",
       "style": "IPY_MODEL_dfb152b5199e434f8cf221b75a7f87e1"
      }
     },
     "ee45377fcf9c4248b21f684be44f0831": {
      "model_module": "jupyter-matplotlib",
      "model_module_version": "^0.7.2",
      "model_name": "MPLCanvasModel",
      "state": {
       "_figure_label": "Figure 11",
       "_height": 430,
       "_width": 1099,
       "header_visible": false,
       "layout": "IPY_MODEL_c445b5ee792d41beb9610a28b4128b3d",
       "resizable": false,
       "toolbar": "IPY_MODEL_d0bcb3a4d06a4b0e910d4a0676b17ead",
       "toolbar_position": "left",
       "toolbar_visible": false
      }
     },
     "ee65ee462912448ba3a229eaa80b9290": {
      "model_module": "@jupyter-widgets/base",
      "model_module_version": "1.2.0",
      "model_name": "LayoutModel",
      "state": {}
     },
     "ee6d3bb59aa146b681bb1f0fe29255a9": {
      "model_module": "@jupyter-widgets/controls",
      "model_module_version": "1.5.0",
      "model_name": "ButtonStyleModel",
      "state": {}
     },
     "eeda9febc9da4365b8b00a9a6b95022d": {
      "model_module": "@jupyter-widgets/controls",
      "model_module_version": "1.5.0",
      "model_name": "ButtonStyleModel",
      "state": {}
     },
     "ef1b491683b04488873ed5fa571897d3": {
      "model_module": "@jupyter-widgets/controls",
      "model_module_version": "1.5.0",
      "model_name": "TabModel",
      "state": {
       "_titles": {
        "0": "Global Controls",
        "1": "Protected Area Controls",
        "2": "Saturation Controls",
        "3": "Hue Controls"
       },
       "children": [
        "IPY_MODEL_71afd435690646b2977ad567bb389912",
        "IPY_MODEL_2db0e6cc269b4ae0a6de6ccfdb1254c5",
        "IPY_MODEL_7bdd22a62b2c4feda7ba2ef8dc698044",
        "IPY_MODEL_37384dfc74b545edada9199c472701d6"
       ],
       "layout": "IPY_MODEL_0dbea9b73c9249d787e2e341e66f5253"
      }
     },
     "ef386438a13f42d0aa3ba085ad216638": {
      "model_module": "@jupyter-widgets/base",
      "model_module_version": "1.2.0",
      "model_name": "LayoutModel",
      "state": {}
     },
     "ef5942f1ad44465c855283776bafce00": {
      "model_module": "@jupyter-widgets/controls",
      "model_module_version": "1.5.0",
      "model_name": "ButtonModel",
      "state": {
       "description": "Reset Compression Controls",
       "layout": "IPY_MODEL_5cc10fc5b333439ca664b52b2514af1a",
       "style": "IPY_MODEL_324bd3a9ae6f48a5a850fc7194a0b998"
      }
     },
     "efa06c67e3a94afd80d817bbddaff25f": {
      "model_module": "@jupyter-widgets/base",
      "model_module_version": "1.2.0",
      "model_name": "LayoutModel",
      "state": {}
     },
     "efd58aef133e4ccbb73419f679c6bf39": {
      "model_module": "@jupyter-widgets/controls",
      "model_module_version": "1.5.0",
      "model_name": "DescriptionStyleModel",
      "state": {
       "description_width": ""
      }
     },
     "efdd6e370f6c4d3d93d41e16731d65f6": {
      "model_module": "@jupyter-widgets/base",
      "model_module_version": "1.2.0",
      "model_name": "LayoutModel",
      "state": {}
     },
     "f0658cf0a2194c3ba9dde1ec689b6790": {
      "model_module": "@jupyter-widgets/base",
      "model_module_version": "1.2.0",
      "model_name": "LayoutModel",
      "state": {}
     },
     "f06aef2f6941434a96909390dc74d455": {
      "model_module": "@jupyter-widgets/controls",
      "model_module_version": "1.5.0",
      "model_name": "SliderStyleModel",
      "state": {
       "description_width": ""
      }
     },
     "f076c011efd24e76a70ba801dadd27b8": {
      "model_module": "@jupyter-widgets/controls",
      "model_module_version": "1.5.0",
      "model_name": "VBoxModel",
      "state": {
       "children": [
        "IPY_MODEL_edacb977893840e698f9e2079c6801d2",
        "IPY_MODEL_b2aa5a5f05a2489898c289dae8a32867",
        "IPY_MODEL_cb42b9b45e584bf89cac28e0f1077d79"
       ],
       "layout": "IPY_MODEL_03465452107e4d65afc7b6430f165c7c"
      }
     },
     "f0db38ca08ef456ca680e3f039aa0a8d": {
      "model_module": "@jupyter-widgets/controls",
      "model_module_version": "1.5.0",
      "model_name": "SliderStyleModel",
      "state": {
       "description_width": ""
      }
     },
     "f0fc3cf6a65a42b0a3b0cda2903e8351": {
      "model_module": "@jupyter-widgets/controls",
      "model_module_version": "1.5.0",
      "model_name": "TabModel",
      "state": {
       "_titles": {
        "0": "Global Controls",
        "1": "Compression Controls"
       },
       "children": [
        "IPY_MODEL_1519731b024c4d0998b174d64c45d41b",
        "IPY_MODEL_e022b8257bc1496fb8edca45ebefb1c1"
       ],
       "layout": "IPY_MODEL_a4a286cc05be426f940d7ce1405b745d"
      }
     },
     "f10ffcd3f8114dbea6efc8e55170b6e3": {
      "model_module": "@jupyter-widgets/controls",
      "model_module_version": "1.5.0",
      "model_name": "VBoxModel",
      "state": {
       "children": [
        "IPY_MODEL_12c2c175ffe6481d89e38700520e15f6"
       ],
       "layout": "IPY_MODEL_885fcdf038d74c1c8668bc9d56702be7"
      }
     },
     "f197c0741ae54271a2732cf11ea682ce": {
      "model_module": "@jupyter-widgets/base",
      "model_module_version": "1.2.0",
      "model_name": "LayoutModel",
      "state": {}
     },
     "f20c9d7375d842329d6956aab6e2e8c6": {
      "model_module": "@jupyter-widgets/base",
      "model_module_version": "1.2.0",
      "model_name": "LayoutModel",
      "state": {}
     },
     "f25a6211e0c94783ab039c696c5f63dc": {
      "model_module": "@jupyter-widgets/base",
      "model_module_version": "1.2.0",
      "model_name": "LayoutModel",
      "state": {}
     },
     "f25d8ea0a38c4a6aac1dc05faa1f20f9": {
      "model_module": "@jupyter-widgets/controls",
      "model_module_version": "1.5.0",
      "model_name": "ButtonStyleModel",
      "state": {}
     },
     "f2863235716d40739b71d68c40576d50": {
      "model_module": "@jupyter-widgets/base",
      "model_module_version": "1.2.0",
      "model_name": "LayoutModel",
      "state": {}
     },
     "f294009b24cf48ef9a506a183a65df31": {
      "model_module": "@jupyter-widgets/controls",
      "model_module_version": "1.5.0",
      "model_name": "ButtonStyleModel",
      "state": {}
     },
     "f2cc309816044d5282db62753bac930e": {
      "model_module": "@jupyter-widgets/controls",
      "model_module_version": "1.5.0",
      "model_name": "BoxModel",
      "state": {
       "children": [
        "IPY_MODEL_8fdfb12c53234e17b40c4474416c346f",
        "IPY_MODEL_de65636720f449a195fc100f114008da"
       ],
       "layout": "IPY_MODEL_7649b50f46df4730b4e02ab78518495d"
      }
     },
     "f3a4d772815f491184b6d1bf26846606": {
      "model_module": "@jupyter-widgets/base",
      "model_module_version": "1.2.0",
      "model_name": "LayoutModel",
      "state": {}
     },
     "f3f39a9eb49946489e40f7c7f1f34514": {
      "model_module": "@jupyter-widgets/controls",
      "model_module_version": "1.5.0",
      "model_name": "ButtonStyleModel",
      "state": {}
     },
     "f40380bc9d764fd9a69185d85b4b54cf": {
      "model_module": "@jupyter-widgets/base",
      "model_module_version": "1.2.0",
      "model_name": "LayoutModel",
      "state": {
       "align_items": "stretch",
       "display": "flex",
       "flex_flow": "column",
       "width": "1128px"
      }
     },
     "f404e26fb20c4a729399e1d6b38d3ccd": {
      "model_module": "@jupyter-widgets/base",
      "model_module_version": "1.2.0",
      "model_name": "LayoutModel",
      "state": {}
     },
     "f44602f5aecb4ba5b7bb3963adfdc851": {
      "model_module": "@jupyter-widgets/base",
      "model_module_version": "1.2.0",
      "model_name": "LayoutModel",
      "state": {}
     },
     "f48c1e93258e45db8dd4f224c7e33e7f": {
      "model_module": "@jupyter-widgets/base",
      "model_module_version": "1.2.0",
      "model_name": "LayoutModel",
      "state": {}
     },
     "f51d8e009a3b492b9a2a97c5ec6f07dd": {
      "model_module": "@jupyter-widgets/base",
      "model_module_version": "1.2.0",
      "model_name": "LayoutModel",
      "state": {}
     },
     "f527c9a5a7c14c2599bf81c9a4d8a4ea": {
      "model_module": "@jupyter-widgets/controls",
      "model_module_version": "1.5.0",
      "model_name": "TabModel",
      "state": {
       "_titles": {
        "0": "Global Controls",
        "1": "Compression Controls"
       },
       "children": [
        "IPY_MODEL_771cebbf66c64d4abbf163beeeb443f9",
        "IPY_MODEL_859773dbe092407ab019a9b21951038f"
       ],
       "layout": "IPY_MODEL_da34b04cf4d04b40b6f5f4bcf2dadbd3"
      }
     },
     "f55d64bcdcfd427d800b18ca6e7146fb": {
      "model_module": "@jupyter-widgets/controls",
      "model_module_version": "1.5.0",
      "model_name": "SliderStyleModel",
      "state": {
       "description_width": ""
      }
     },
     "f5a4d08618884359b3b3f93d25242886": {
      "model_module": "@jupyter-widgets/controls",
      "model_module_version": "1.5.0",
      "model_name": "FloatSliderModel",
      "state": {
       "description": "90°",
       "layout": "IPY_MODEL_883130440717483aa77bccea3e4321ca",
       "max": 1,
       "min": -1,
       "step": 0.01,
       "style": "IPY_MODEL_293409cc2a324cef8f63b7ec07c87a28"
      }
     },
     "f5be42a2b79b45b19a41e28536171302": {
      "model_module": "@jupyter-widgets/controls",
      "model_module_version": "1.5.0",
      "model_name": "FloatSliderModel",
      "state": {
       "description": "135°",
       "layout": "IPY_MODEL_b400aaafb0794fd7b8527d2499e8ee6c",
       "max": 1,
       "min": -1,
       "step": 0.01,
       "style": "IPY_MODEL_0a31937b56be4a0bbe296fef47212eb4"
      }
     },
     "f5fa9e531a544bf1ab73a340f85cf0d1": {
      "model_module": "@jupyter-widgets/controls",
      "model_module_version": "1.5.0",
      "model_name": "FloatSliderModel",
      "state": {
       "description": "180°",
       "layout": "IPY_MODEL_918193b652e441cd8d00721a5a103891",
       "max": 1,
       "min": -1,
       "step": 0.01,
       "style": "IPY_MODEL_aa764909fed24fa2a55abbfcca37bdfb"
      }
     },
     "f66eba1263de4537b3a5ad85750193c2": {
      "model_module": "@jupyter-widgets/controls",
      "model_module_version": "1.5.0",
      "model_name": "FloatSliderModel",
      "state": {
       "description": "45°",
       "layout": "IPY_MODEL_6a72ec0233a24f9f8b1402c498684886",
       "max": 1,
       "min": -1,
       "step": 0.01,
       "style": "IPY_MODEL_da9ed1a6441f4029a01efe7b3bffe201"
      }
     },
     "f67a67b804224adf96a8be1a35493736": {
      "model_module": "@jupyter-widgets/base",
      "model_module_version": "1.2.0",
      "model_name": "LayoutModel",
      "state": {
       "align_items": "stretch",
       "display": "flex",
       "flex_flow": "column",
       "width": "1128px"
      }
     },
     "f68244c70e8c44718d9ff431ce9abc2e": {
      "model_module": "@jupyter-widgets/base",
      "model_module_version": "1.2.0",
      "model_name": "LayoutModel",
      "state": {}
     },
     "f696e01363e14a748538ceb18d933d59": {
      "model_module": "@jupyter-widgets/controls",
      "model_module_version": "1.5.0",
      "model_name": "FloatSliderModel",
      "state": {
       "description": "225°",
       "layout": "IPY_MODEL_4920ee1b339646d4ba61887741e15e5b",
       "max": 1,
       "min": -1,
       "step": 0.01,
       "style": "IPY_MODEL_ea63a9297e964d14bb26c2ac938e30d2"
      }
     },
     "f715bde52bfc4939b8159c985bb47c3d": {
      "model_module": "@jupyter-widgets/controls",
      "model_module_version": "1.5.0",
      "model_name": "VBoxModel",
      "state": {
       "children": [
        "IPY_MODEL_e703a0c74d9b403aa05183d379151a57",
        "IPY_MODEL_d28237bf295a4d0f8a6eeaea1c6cb01d",
        "IPY_MODEL_9d63ce6ceb474bb6b98243c8b4b8163d"
       ],
       "layout": "IPY_MODEL_dc352d22010846ac893f52f4020b4fac"
      }
     },
     "f71b1666d617415689f67c71edfaf5ef": {
      "model_module": "@jupyter-widgets/controls",
      "model_module_version": "1.5.0",
      "model_name": "ButtonModel",
      "state": {
       "description": "Save Figure",
       "layout": "IPY_MODEL_f25a6211e0c94783ab039c696c5f63dc",
       "style": "IPY_MODEL_c3bd86a25c95425f8af67f4a44116f28"
      }
     },
     "f724eccd0124403d99b9cd46c9a426ca": {
      "model_module": "@jupyter-widgets/controls",
      "model_module_version": "1.5.0",
      "model_name": "ButtonModel",
      "state": {
       "description": "Export Image",
       "layout": "IPY_MODEL_5b9f375abfbb4e679cda4c29b100297e",
       "style": "IPY_MODEL_1c0cb83001d44c6182f990fcbc4b8753"
      }
     },
     "f73673a21829486ea9c53d71a24aab01": {
      "model_module": "@jupyter-widgets/controls",
      "model_module_version": "1.5.0",
      "model_name": "FloatSliderModel",
      "state": {
       "description": "225°",
       "layout": "IPY_MODEL_464e323abddd4d5dbd5f1f8b851773d1",
       "max": 1,
       "min": -1,
       "step": 0.01,
       "style": "IPY_MODEL_795ff56e3b7c4960b714aad96811fa9a"
      }
     },
     "f7d36ca7fccf4286a0579294b602db76": {
      "model_module": "@jupyter-widgets/base",
      "model_module_version": "1.2.0",
      "model_name": "LayoutModel",
      "state": {}
     },
     "f8b568ca4b534bfba515fe41d83badb3": {
      "model_module": "@jupyter-widgets/base",
      "model_module_version": "1.2.0",
      "model_name": "LayoutModel",
      "state": {}
     },
     "f8f882c284574ed2b27e5dfba779c7d6": {
      "model_module": "jupyter-matplotlib",
      "model_module_version": "^0.7.2",
      "model_name": "ToolbarModel",
      "state": {
       "layout": "IPY_MODEL_2d4377642d8443e48f35606cabd53f39",
       "toolitems": [
        [
         "Home",
         "Reset original view",
         "home",
         "home"
        ],
        [
         "Back",
         "Back to previous view",
         "arrow-left",
         "back"
        ],
        [
         "Forward",
         "Forward to next view",
         "arrow-right",
         "forward"
        ],
        [
         "Pan",
         "Pan axes with left mouse, zoom with right",
         "arrows",
         "pan"
        ],
        [
         "Zoom",
         "Zoom to rectangle",
         "square-o",
         "zoom"
        ],
        [
         "Download",
         "Download plot",
         "floppy-o",
         "save_figure"
        ]
       ]
      }
     },
     "f91ab82f7c94463c884d54ad9ef974a1": {
      "model_module": "@jupyter-widgets/base",
      "model_module_version": "1.2.0",
      "model_name": "LayoutModel",
      "state": {}
     },
     "f97017d5eeaa4b189dc11d2dd64fcd5f": {
      "model_module": "@jupyter-widgets/base",
      "model_module_version": "1.2.0",
      "model_name": "LayoutModel",
      "state": {}
     },
     "f987e2c5b6f9468197d8de6f13ed6247": {
      "model_module": "@jupyter-widgets/controls",
      "model_module_version": "1.5.0",
      "model_name": "BoxModel",
      "state": {
       "children": [
        "IPY_MODEL_08614840579a43eeb5c57c735a123ca0",
        "IPY_MODEL_b15ec4134752451b91f6e0f52976f48a"
       ],
       "layout": "IPY_MODEL_0b2dfd5b069b4a58aa97176c4bcfa083"
      }
     },
     "f9b20af80f8e41df85347bd8e4e88595": {
      "model_module": "@jupyter-widgets/controls",
      "model_module_version": "1.5.0",
      "model_name": "DescriptionStyleModel",
      "state": {
       "description_width": ""
      }
     },
     "fa10d352b6be45378852eb5562fe42c2": {
      "model_module": "@jupyter-widgets/controls",
      "model_module_version": "1.5.0",
      "model_name": "FloatSliderModel",
      "state": {
       "description": "0°",
       "layout": "IPY_MODEL_19c456e0980441e5a941535d6424a231",
       "max": 1,
       "min": -1,
       "step": 0.01,
       "style": "IPY_MODEL_6bb441c691444e588e67a6bdc884272e"
      }
     },
     "fa177a597f664852b5dee35561ed987e": {
      "model_module": "@jupyter-widgets/base",
      "model_module_version": "1.2.0",
      "model_name": "LayoutModel",
      "state": {}
     },
     "fa42154110b3447ca116478cae1887b4": {
      "model_module": "@jupyter-widgets/base",
      "model_module_version": "1.2.0",
      "model_name": "LayoutModel",
      "state": {}
     },
     "fb246c2c176b438788fa3e7891eafabd": {
      "model_module": "@jupyter-widgets/controls",
      "model_module_version": "1.5.0",
      "model_name": "ButtonStyleModel",
      "state": {}
     },
     "fb2488f3a596487f9858da5f3f119005": {
      "model_module": "@jupyter-widgets/controls",
      "model_module_version": "1.5.0",
      "model_name": "VBoxModel",
      "state": {
       "children": [
        "IPY_MODEL_5d960a1b4cb54fff93ece27e65e6eced",
        "IPY_MODEL_3d22eb5fc21845e6b4bca9daf7f5573d"
       ],
       "layout": "IPY_MODEL_5eb67ea0a6ec4c568e00ded7790d13e6"
      }
     },
     "fb49c2baf4244f48afa30b552d2d7f6c": {
      "model_module": "@jupyter-widgets/base",
      "model_module_version": "1.2.0",
      "model_name": "LayoutModel",
      "state": {}
     },
     "fb934918cca246c48d6fc29a6f4da6fe": {
      "model_module": "@jupyter-widgets/base",
      "model_module_version": "1.2.0",
      "model_name": "LayoutModel",
      "state": {
       "border": "solid 4px #222",
       "margin": "4px",
       "padding": "0"
      }
     },
     "fbc955b65a46402d8dd4525e74140d37": {
      "model_module": "@jupyter-widgets/base",
      "model_module_version": "1.2.0",
      "model_name": "LayoutModel",
      "state": {}
     },
     "fc7d037b0e2641aebd3407036fc01ff4": {
      "model_module": "@jupyter-widgets/base",
      "model_module_version": "1.2.0",
      "model_name": "LayoutModel",
      "state": {}
     },
     "fcb831d165244284b934847947692826": {
      "model_module": "@jupyter-widgets/controls",
      "model_module_version": "1.5.0",
      "model_name": "CheckboxModel",
      "state": {
       "description": "Disable Medicina",
       "disabled": false,
       "layout": "IPY_MODEL_5095e00ac5b34a7998ba61573e85455b",
       "style": "IPY_MODEL_ac7def3096cf4ad29367e40c62fa6e3d",
       "value": false
      }
     },
     "fdbe98538b084b4a8db5c11827d202cc": {
      "model_module": "@jupyter-widgets/controls",
      "model_module_version": "1.5.0",
      "model_name": "ButtonModel",
      "state": {
       "description": "Reset Hue Controls",
       "layout": "IPY_MODEL_a0b63c637d134bcfae34552f73ea1ad8",
       "style": "IPY_MODEL_33448dde56014cda9783c0f61c3c5810"
      }
     },
     "fdf0a323885241adbf0bcb4e94aee0a7": {
      "model_module": "@jupyter-widgets/base",
      "model_module_version": "1.2.0",
      "model_name": "LayoutModel",
      "state": {}
     },
     "fe551993737147b4b924f6354c23dde2": {
      "model_module": "@jupyter-widgets/base",
      "model_module_version": "1.2.0",
      "model_name": "LayoutModel",
      "state": {
       "border": "solid 4px #222",
       "margin": "4px",
       "padding": "0"
      }
     },
     "fe994859cf9e413caa0407b3aabd3f04": {
      "model_module": "@jupyter-widgets/controls",
      "model_module_version": "1.5.0",
      "model_name": "FloatSliderModel",
      "state": {
       "description": "Compression Threshold",
       "layout": "IPY_MODEL_22b15b9fec4b405c8e36c2d1f129ffdf",
       "max": 1,
       "step": 0.01,
       "style": "IPY_MODEL_33fccc84c26f4a9a9fa69930eea8911f",
       "value": 0.8
      }
     }
    },
    "version_major": 2,
    "version_minor": 0
   }
  }
 },
 "nbformat": 4,
 "nbformat_minor": 4
}
