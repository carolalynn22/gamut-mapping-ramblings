{
 "cells": [
  {
   "cell_type": "markdown",
   "metadata": {
    "colab_type": "text",
    "id": "pRS6nhpu1R6y"
   },
   "source": [
    "# Gamut Mapping - Medicina 01"
   ]
  },
  {
   "cell_type": "markdown",
   "metadata": {},
   "source": [
    "## Introduction"
   ]
  },
  {
   "cell_type": "markdown",
   "metadata": {},
   "source": [
    "This notebook implements an interactive widget used to investigate various gamut models in the context for the [ACES VWG on Gamut Mapping](https://community.acescentral.com/c/aces-development-acesnext/vwg-aces-gamut-mapping-working-group/).\n",
    "\n",
    "It is assumed that the reader has some knowledge about image processing and colour management pipelines in the Media and Entertainment Industry. An introductory publication on the topic is [Cinematic Color: From Your Monitor to the Big Screen](https://cinematiccolor.org/) by Selan (2012).\n",
    "\n",
    "Because the imagery represents scene-referred exposure values, the gamut mapped images should ideally be exported and viewed with an appropriate *View Transform*, typically an *ACES RRT + sRGB ODT* transform combination.\n",
    "\n",
    "\n",
    "Images courtesy of:\n",
    "\n",
    "- [Thomas Mansencal](https://community.acescentral.com/t/spectral-images-generation-and-processing/)\n",
    "- [Carol Payne](https://www.dropbox.com/sh/u6z2a0jboo4vno8/AAB-10qcflhpr0C5LWhs7Kq4a?dl=0)\n",
    "- [Martin Smekal](https://community.acescentral.com/t/vfx-work-in-acescg-with-out-of-gamut-devices/2385)"
   ]
  },
  {
   "cell_type": "markdown",
   "metadata": {},
   "source": [
    "## Imports & Overall Settings"
   ]
  },
  {
   "cell_type": "code",
   "execution_count": 1,
   "metadata": {},
   "outputs": [],
   "source": [
    "%matplotlib widget"
   ]
  },
  {
   "cell_type": "code",
   "execution_count": 2,
   "metadata": {
    "colab": {
     "base_uri": "https://localhost:8080/",
     "height": 340
    },
    "colab_type": "code",
    "id": "OydMmtZRxd3c",
    "outputId": "297a43b9-f566-405d-e8bc-cfae56b50959"
   },
   "outputs": [
    {
     "name": "stdout",
     "output_type": "stream",
     "text": [
      "===============================================================================\n",
      "*                                                                             *\n",
      "*   Interpreter :                                                             *\n",
      "*       python : 3.7.6 (default, Dec 30 2019, 19:38:26)                       *\n",
      "*                [Clang 11.0.0 (clang-1100.0.33.16)]                          *\n",
      "*                                                                             *\n",
      "*   colour-science.org :                                                      *\n",
      "*       colour : v0.3.15-132-g8ed24e8e                                        *\n",
      "*                                                                             *\n",
      "*   Runtime :                                                                 *\n",
      "*       imageio : 2.8.0                                                       *\n",
      "*       matplotlib : 3.0.3                                                    *\n",
      "*       numpy : 1.18.4                                                        *\n",
      "*       scipy : 1.4.1                                                         *\n",
      "*       six : 1.14.0                                                          *\n",
      "*                                                                             *\n",
      "===============================================================================\n"
     ]
    }
   ],
   "source": [
    "from __future__ import division, unicode_literals\n",
    "\n",
    "import colour\n",
    "import ipympl.backend_nbagg\n",
    "import ipywidgets\n",
    "import matplotlib.gridspec as gridspec\n",
    "import matplotlib.patches as patches\n",
    "import matplotlib.pyplot as plt\n",
    "import numpy as np\n",
    "import os\n",
    "import scipy.interpolate\n",
    "from matplotlib.collections import PathCollection\n",
    "from matplotlib._layoutbox import plot_children\n",
    "\n",
    "DEFAULT_BOX_DECORATION_WIDTH = 4\n",
    "MPL_BOX_DECORATION_WIDTH = 28\n",
    "\n",
    "COLOUR_STYLE = colour.plotting.colour_style()\n",
    "COLOUR_STYLE.update({\n",
    "    'legend.framealpha':\n",
    "    colour.plotting.COLOUR_STYLE_CONSTANTS.opacity.low\n",
    "})\n",
    "\n",
    "plt.style.use(COLOUR_STYLE)\n",
    "\n",
    "plt.style.use('dark_background')\n",
    "\n",
    "colour.utilities.describe_environment()\n",
    "\n",
    "colour.utilities.filter_warnings(*[True] * 4);"
   ]
  },
  {
   "cell_type": "markdown",
   "metadata": {},
   "source": [
    "## Widgets Styling"
   ]
  },
  {
   "cell_type": "markdown",
   "metadata": {},
   "source": [
    "CSS style for various widgets to improve overall presentation."
   ]
  },
  {
   "cell_type": "code",
   "execution_count": 3,
   "metadata": {},
   "outputs": [
    {
     "data": {
      "text/html": [
       "<style>\n",
       ".widget-button {\n",
       "    margin-left: 10px;\n",
       "    margin-right: 10px;\n",
       "}\n",
       "</style>\n"
      ],
      "text/plain": [
       "<IPython.core.display.HTML object>"
      ]
     },
     "metadata": {},
     "output_type": "display_data"
    }
   ],
   "source": [
    "%%html\n",
    "<style>\n",
    ".widget-button {\n",
    "    margin-left: 10px;\n",
    "    margin-right: 10px;\n",
    "}\n",
    "</style>"
   ]
  },
  {
   "cell_type": "markdown",
   "metadata": {
    "colab_type": "text",
    "id": "5yCeFpnnp_wh"
   },
   "source": [
    "## Colour Wheel Generation"
   ]
  },
  {
   "cell_type": "markdown",
   "metadata": {},
   "source": [
    "Utility function responsible to produce a scene-referred colour wheel."
   ]
  },
  {
   "cell_type": "code",
   "execution_count": 4,
   "metadata": {
    "colab": {},
    "colab_type": "code",
    "id": "RshonIbOI4Ij"
   },
   "outputs": [],
   "source": [
    "def colour_wheel(samples=1024, clip_circle=False, method='Colour'):\n",
    "    xx, yy = np.meshgrid(\n",
    "        np.linspace(-1, 1, samples), np.linspace(-1, 1, samples))\n",
    "\n",
    "    S = np.sqrt(xx ** 2 + yy ** 2)    \n",
    "    H = (np.arctan2(xx, yy) + np.pi) / (np.pi * 2)\n",
    "\n",
    "    HSV = colour.utilities.tstack([H, S, np.ones(H.shape)])\n",
    "    RGB = colour.HSV_to_RGB(HSV)\n",
    "\n",
    "    if clip_circle == True:\n",
    "        RGB[S > 1] = 0\n",
    "        A = np.where(S > 1, 0, 1)\n",
    "    else:\n",
    "        A = np.ones(S.shape)\n",
    "\n",
    "    if method.lower()== 'matplotlib':\n",
    "        RGB = colour.utilities.orient(RGB, '90 CW')\n",
    "    elif method.lower()== 'nuke':\n",
    "        RGB = colour.utilities.orient(RGB, 'Flip')\n",
    "        RGB = colour.utilities.orient(RGB, '90 CW')\n",
    "\n",
    "    R, G, B = colour.utilities.tsplit(RGB)\n",
    "    \n",
    "    return colour.utilities.tstack([R, G, B, A])"
   ]
  },
  {
   "cell_type": "markdown",
   "metadata": {},
   "source": [
    "## Utility Functions & Objects"
   ]
  },
  {
   "cell_type": "markdown",
   "metadata": {},
   "source": [
    "Various random utility functions and objects."
   ]
  },
  {
   "cell_type": "code",
   "execution_count": 5,
   "metadata": {},
   "outputs": [],
   "source": [
    "def batch(sequence, count):\n",
    "    for i in range(0, len(sequence), count):\n",
    "        yield sequence[i:i + count]\n",
    "        \n",
    "\n",
    "def border_layout():\n",
    "    return ipywidgets.widgets.Layout(\n",
    "        border='solid {0}px #222'.format(4),\n",
    "        margin='{0}px'.format(DEFAULT_BOX_DECORATION_WIDTH),\n",
    "        padding='0')\n",
    "\n",
    "\n",
    "def adjust_exposure(a, EV):\n",
    "    a = colour.utilities.as_float_array(a)\n",
    "\n",
    "    return a * pow(2, EV)"
   ]
  },
  {
   "cell_type": "markdown",
   "metadata": {},
   "source": [
    "## Gamut Medicina Base Widget"
   ]
  },
  {
   "cell_type": "markdown",
   "metadata": {},
   "source": [
    "The `GamutMedicinaBaseWidget` base widget class is inherited by the concrete sub-classes implementing the various gamut mapping study models.\n",
    "\n",
    "At its core it is itself an `ipywidgets.widgets.Box` sub-class which outputs a [Matplotlib](http://matplotlib.org/) figure composed of three sub-plots:\n",
    "\n",
    "- **Reference Image**: Required, 1 cartesian `Axes`\n",
    "- **Colour Wheel**: Optional, 1 cartesian `Axes` and 1 polar `Axes`\n",
    "- **Chromaticity Diagram**: Optional, 1 cartesian `Axes`\n",
    "\n",
    "Trivial layout heuristic is implemented to support optionally enabling or disabling the **Colour Wheel** and **Chromaticity Diagram** sub-plots."
   ]
  },
  {
   "cell_type": "markdown",
   "metadata": {},
   "source": [
    "### Reference Image"
   ]
  },
  {
   "cell_type": "markdown",
   "metadata": {},
   "source": [
    "The **Reference Image** sub-plot is responsible for displaying the gamut mapped scene-referred imagery.\n",
    "\n",
    "*Note*\n",
    "\n",
    "> To improve the performance of the notebook, the *View Transform*, i.e. a S-Curve, converting the scene-referred imagery to output-referred values is omitted."
   ]
  },
  {
   "cell_type": "markdown",
   "metadata": {},
   "source": [
    "### Colour Wheel"
   ]
  },
  {
   "cell_type": "markdown",
   "metadata": {},
   "source": [
    "The **Colour Wheel** sub-plot is used to represent the controls for the gamut mapping study models adopting a cylindrical or conic working space.\n",
    "\n",
    "The colour wheel is drawn on a cartesian `Axes` on top of which is overlayed a polar `Axes` used to draw the control regions."
   ]
  },
  {
   "cell_type": "markdown",
   "metadata": {},
   "source": [
    "### Chromaticity Diagram"
   ]
  },
  {
   "cell_type": "markdown",
   "metadata": {},
   "source": [
    "The **Chromaticity Diagram** sub-plot is also used to represent the controls for the gamut mapping study models into the *Chromaticity Diagram 1976 UCS* based on the [CIE L\\*u\\*v\\*](https://fr.wikipedia.org/wiki/L*u*v*_CIE_1976) colourspace.\n",
    "\n",
    "It also features the following elements:\n",
    "\n",
    "- *RGB Working Space* gamut, i.e. *ACEScg/AP1*, large triangle\n",
    "- *RGB Display Space* gamut, i.e. *sRGB*, small triangle\n",
    "- Scatter of the decimated **Reference Image** data\n",
    "- Scatter of the ColorChecker Classic data, white scatter points\n"
   ]
  },
  {
   "cell_type": "code",
   "execution_count": 6,
   "metadata": {},
   "outputs": [
    {
     "data": {
      "application/vnd.jupyter.widget-view+json": {
       "model_id": "d8b052f5c63c4653bb98a5c9bad25ee7",
       "version_major": 2,
       "version_minor": 0
      },
      "text/plain": [
       "GamutMedicinaBaseWidget(children=(Output(layout=Layout(border='solid 4px #222', margin='4px', padding='0')), T…"
      ]
     },
     "metadata": {},
     "output_type": "display_data"
    }
   ],
   "source": [
    "class GamutMedicinaBaseWidget(ipywidgets.widgets.Box):\n",
    "    def __init__(self,\n",
    "                 reference_image_path=None,\n",
    "                 working_space=colour.models.ACES_CG_COLOURSPACE,\n",
    "                 reference_space=colour.models.ACES_2065_1_COLOURSPACE,\n",
    "                 display_space=colour.models.sRGB_COLOURSPACE,\n",
    "                 colour_wheel_samples=256,\n",
    "                 image_decimation=10,\n",
    "                 reference_image_exposure=0,\n",
    "                 figure_size=(11, None),\n",
    "                 padding=0.005,\n",
    "                 spacing=0.005,\n",
    "                 show_labels=False,\n",
    "                 enable_colour_wheel=True,\n",
    "                 enable_chromaticity_diagram=True,\n",
    "                 debug_layout=False):\n",
    "        super().__init__()\n",
    "\n",
    "        self._reference_image_path = reference_image_path\n",
    "        self._working_space = working_space\n",
    "        self._reference_space = reference_space\n",
    "        self._display_space = display_space\n",
    "        self._colour_wheel_samples = colour_wheel_samples\n",
    "        self._image_decimation = image_decimation\n",
    "        self._reference_image_exposure = reference_image_exposure\n",
    "        self._figure_size = figure_size\n",
    "        self._padding = padding\n",
    "        self._spacing = spacing\n",
    "        self._show_labels = show_labels\n",
    "        self._enable_colour_wheel = enable_colour_wheel\n",
    "        self._enable_chromaticity_diagram = enable_chromaticity_diagram\n",
    "\n",
    "        self._enable = True\n",
    "\n",
    "        self._reference_image = None\n",
    "        self._reference_image_pre_working = None\n",
    "        self._reference_image_working = None\n",
    "        self._reference_image_mapped = None\n",
    "        self._reference_image_display = None\n",
    "\n",
    "        if self._enable_colour_wheel:\n",
    "            self._colour_wheel = None\n",
    "\n",
    "        if self._enable_chromaticity_diagram:\n",
    "            self._decimated_image_pre_working = None\n",
    "            self._decimated_image_working = None\n",
    "            self._decimated_image_display = None\n",
    "\n",
    "        self._colour_checker = None\n",
    "        self._colour_checker_uv = None\n",
    "\n",
    "        self._output = None\n",
    "        self._figure = None\n",
    "        self._grid_spec = None\n",
    "        self._reference_image_axes = None\n",
    "        self._reference_image_imshow = None\n",
    "\n",
    "        if self._enable_colour_wheel:\n",
    "            self._colour_wheel_cartersian_axes = None\n",
    "            self._colour_wheel_imshow = None\n",
    "            self._colour_wheel_polar_axes = None\n",
    "\n",
    "        if self._enable_chromaticity_diagram:\n",
    "            self._chromaticity_diagram_axes = None\n",
    "            self._scatter_offsets_i = None\n",
    "            self._scatter_facecolor_i = None\n",
    "\n",
    "        self._disable_medidicina_CheckBox = None\n",
    "        self._global_controls_HBox = None\n",
    "        self._controls_Tab = None\n",
    "\n",
    "        self.initialize_data()\n",
    "        self.initialize_axes()\n",
    "        self.initialise_widgets()\n",
    "        self.attach_callbacks()\n",
    "\n",
    "        if debug_layout:\n",
    "            plot_children(self._figure, self._figure._layoutbox, printit=False)\n",
    "\n",
    "    def initialize_data(self):\n",
    "        # *** Reference Image ***\n",
    "        self._reference_image = (colour.read_image(self._reference_image_path)\n",
    "                                 if self._reference_image_path is not None else\n",
    "                                 np.random.rand(540, 960, 3))\n",
    "        self._reference_image_path = (self._reference_image_path\n",
    "                                      if self._reference_image_path is not None\n",
    "                                      else 'Random.exr')\n",
    "        self._reference_image_pre_working = self.reference_space_to_working_space(\n",
    "            self._reference_image)\n",
    "        self._reference_image_working = self._reference_image_pre_working\n",
    "        self._reference_image_mapped =self._reference_image_pre_working\n",
    "        self._reference_image_display = self.working_space_to_display_space(\n",
    "            self._reference_image_working)\n",
    "\n",
    "        # *** Colour Wheel ***\n",
    "        if self._enable_colour_wheel:\n",
    "            self._colour_wheel = colour_wheel(\n",
    "                self._colour_wheel_samples,\n",
    "                method='Matplotlib')\n",
    "\n",
    "        # *** Decimated Image, i.e. Scatter ***\n",
    "        if self._enable_chromaticity_diagram:\n",
    "            self._decimated_image_pre_working = (\n",
    "                self._reference_image_working[::self._image_decimation, ::\n",
    "                                              self._image_decimation, :]).reshape(-1, 3)\n",
    "            self._decimated_image_working = self._decimated_image_pre_working\n",
    "            self._decimated_image_display = (\n",
    "                self.working_space_to_display_space(\n",
    "                    self._decimated_image_working))\n",
    "\n",
    "        # *** Colour Checker\n",
    "        colour_checker = colour.COLOURCHECKERS[\n",
    "            'ColorChecker24 - After November 2014']\n",
    "        colour_checker_data = colour.utilities.as_float_array(\n",
    "            list(colour_checker.data.values()))\n",
    "        self._colour_checker_uv = colour.xy_to_Luv_uv(\n",
    "            colour_checker_data[:, 0:2])\n",
    "\n",
    "    def initialize_axes(self):\n",
    "        self._output = ipywidgets.widgets.Output()\n",
    "\n",
    "        image_height, image_width, channels = self._reference_image.shape\n",
    "        if self._figure_size[-1] is None:\n",
    "            if self._enable_colour_wheel and self._enable_chromaticity_diagram:\n",
    "                width = image_height / 2 + image_width\n",
    "                height = image_height - self._padding * 100 - self._spacing * 100\n",
    "                # Unresolved fudge factor to ensure plots line up.\n",
    "                height -= int(height * 0.05)\n",
    "            elif self._enable_colour_wheel or self._enable_chromaticity_diagram:\n",
    "                width = image_height + image_width\n",
    "                height = image_height\n",
    "            else:\n",
    "                width = image_width\n",
    "                height = image_height\n",
    "            ratio = self._figure_size[0] * 100 / width\n",
    "            figure_size = (width / 100 * ratio, height / 100 * ratio)\n",
    "        else:\n",
    "            figure_size = self._figure_size\n",
    "\n",
    "        with self._output:\n",
    "            self._figure = plt.figure(\n",
    "                figsize=figure_size,\n",
    "                constrained_layout=True,\n",
    "                facecolor=[2 / 3 / 10] * 3)\n",
    "            self._figure.canvas.toolbar_visible = False\n",
    "            self._figure.canvas.header_visible = False\n",
    "            self._figure.canvas.footer_visible = True\n",
    "            self._figure.canvas.resizable = False\n",
    "            self._figure.tight_layout()\n",
    "\n",
    "        if self._enable_colour_wheel and self._enable_chromaticity_diagram:\n",
    "            rows = columns = 2\n",
    "            colour_wheel_indices = 0, 0\n",
    "            chromaticity_diagram_indices = 1, 0\n",
    "            reference_image_indices = slice(0, None, None), slice(\n",
    "                1, None, None)\n",
    "            width_ratios = [1, 2 * image_width / image_height]\n",
    "        elif not self._enable_colour_wheel and not self._enable_chromaticity_diagram:\n",
    "            rows = columns = 1\n",
    "            colour_wheel_indices = chromaticity_diagram_indices = None\n",
    "            reference_image_indices = 0, 0\n",
    "            width_ratios = [1]\n",
    "        else:\n",
    "            rows = 1\n",
    "            columns = 2\n",
    "            colour_wheel_indices = chromaticity_diagram_indices = 0, 0\n",
    "            reference_image_indices = 0, 1\n",
    "            width_ratios = [1, image_width / image_height]\n",
    "\n",
    "        self._grid_spec = gridspec.GridSpec(\n",
    "            ncols=columns,\n",
    "            nrows=rows,\n",
    "            figure=self._figure,\n",
    "            width_ratios=width_ratios,\n",
    "            wspace=self._spacing,\n",
    "            hspace=self._spacing)\n",
    "        self._figure.set_constrained_layout_pads(\n",
    "            w_pad=self._padding,\n",
    "            h_pad=self._padding)\n",
    "\n",
    "        # Colour Wheel Axes\n",
    "        if self._enable_colour_wheel:\n",
    "            self._colour_wheel_cartersian_axes = self._figure.add_subplot(\n",
    "                self._grid_spec[colour_wheel_indices[0], colour_wheel_indices[\n",
    "                    1]],\n",
    "                label='Cartesian Axes')\n",
    "            self._colour_wheel_cartersian_axes.axis('off')\n",
    "            circle = patches.Circle(\n",
    "                [0.5, 0.5], radius=0.5, transform=self._colour_wheel_cartersian_axes.transData)\n",
    "            self._colour_wheel_imshow = self._colour_wheel_cartersian_axes.imshow(\n",
    "                np.clip(self._colour_wheel, 0, 1), extent=[0, 1, 0, 1], clip_path=None)\n",
    "            self._colour_wheel_imshow.set_clip_path(circle)\n",
    "\n",
    "            self._colour_wheel_polar_axes = self._figure.add_subplot(\n",
    "                self._grid_spec[colour_wheel_indices[0], colour_wheel_indices[\n",
    "                    1]],\n",
    "                projection='polar',\n",
    "                label='Polar Axes')\n",
    "            self._colour_wheel_polar_axes.set_xlim(0, np.pi * 2)\n",
    "            self._colour_wheel_polar_axes.set_ylim(0, 1)\n",
    "            self._colour_wheel_polar_axes.patch.set_alpha(0)\n",
    "            self._colour_wheel_polar_axes.grid(alpha=0.15)\n",
    "            if not self._show_labels:\n",
    "                self._colour_wheel_polar_axes.set_xticklabels([])\n",
    "            self._colour_wheel_polar_axes.set_yticklabels([])\n",
    "\n",
    "        # Chromaticity Diagram Axes\n",
    "        if self._enable_chromaticity_diagram:\n",
    "            self._chromaticity_diagram_axes = self._figure.add_subplot(\n",
    "                self._grid_spec[chromaticity_diagram_indices[0],\n",
    "                                chromaticity_diagram_indices[1]])\n",
    "            self._chromaticity_diagram_axes.patch.set_alpha(0)\n",
    "            (colour.plotting.\n",
    "             plot_RGB_chromaticities_in_chromaticity_diagram_CIE1976UCS(\n",
    "                 self._decimated_image_working,\n",
    "                 colourspace=self._working_space,\n",
    "                 colourspaces=['sRGB'],\n",
    "                 axes=self._chromaticity_diagram_axes,\n",
    "                 standalone=False,\n",
    "                 transparent_background=False,\n",
    "                 spectral_locus_colours='RGB',\n",
    "                 spectral_locus_labels=[],\n",
    "                 diagram_opacity=0,\n",
    "                 scatter_kwargs={'s': 1},\n",
    "                 title=str(),\n",
    "                 x_label=str(),\n",
    "                 y_label=str(),\n",
    "                 legend=False))\n",
    "            self._chromaticity_diagram_axes.tick_params(\n",
    "                axis='y', which='both', direction='in')\n",
    "            self._chromaticity_diagram_axes.tick_params(\n",
    "                axis='x', which='both', direction='in')\n",
    "            self._chromaticity_diagram_axes.minorticks_off()\n",
    "            self._chromaticity_diagram_axes.grid(alpha=0.15)\n",
    "            for collection in self._chromaticity_diagram_axes.collections:\n",
    "                if isinstance(collection, PathCollection):\n",
    "                    self._scatter_path_collection = collection\n",
    "                    break\n",
    "            \n",
    "            if not self._show_labels:\n",
    "                self._chromaticity_diagram_axes.set_xticklabels([])\n",
    "                self._chromaticity_diagram_axes.set_yticklabels([])\n",
    "\n",
    "            self._scatter_offsets_i = self._scatter_path_collection.get_offsets(\n",
    "            )\n",
    "            self._scatter_facecolor_i = self._scatter_path_collection.get_facecolor(\n",
    "            )\n",
    "            self._chromaticity_diagram_axes.scatter(\n",
    "                self._colour_checker_uv[:, 0],\n",
    "                self._colour_checker_uv[:, 1],\n",
    "                c='white',\n",
    "                marker='D',\n",
    "                s=5)\n",
    "\n",
    "        # Reference Image Axes\n",
    "        self._reference_image_axes = self._figure.add_subplot(self._grid_spec[\n",
    "            reference_image_indices[0], reference_image_indices[1]])\n",
    "        self._reference_image_axes.set_xticks([])\n",
    "        self._reference_image_axes.set_yticks([])\n",
    "        self._reference_image_imshow = self._reference_image_axes.imshow(\n",
    "            self.working_space_to_display_space(self._reference_image_working))\n",
    "\n",
    "    def initialise_widgets(self):\n",
    "        # *** Widgets ***\n",
    "        self._disable_medidicina_CheckBox = (\n",
    "            ipywidgets.widgets.Checkbox(description='Disable Medicina'))\n",
    "        self._export_reference_image_Button = (\n",
    "            ipywidgets.widgets.Button(description=\"Export Image\"))\n",
    "        self._save_figure_image_Button = (\n",
    "            ipywidgets.widgets.Button(description=\"Save Figure\"))\n",
    "        self._exposure_FloatSlider = (\n",
    "            ipywidgets.widgets.FloatSlider(\n",
    "                min=-8.0,\n",
    "                max=8.0,\n",
    "                step=0.1,\n",
    "                value=self._reference_image_exposure,\n",
    "                description='Exposure'))\n",
    "        \n",
    "        # *** Layout ***\n",
    "        self.layout.display = 'flex'\n",
    "        self.layout.flex_flow = 'column'\n",
    "        self.layout.align_items = 'stretch'\n",
    "        self.layout.width = '{0}px'.format(self._figure_size[0] * 100 +\n",
    "                                           MPL_BOX_DECORATION_WIDTH)\n",
    "\n",
    "        self._global_controls_HBox = ipywidgets.widgets.HBox([\n",
    "            self._disable_medidicina_CheckBox,\n",
    "            self._export_reference_image_Button,\n",
    "            self._save_figure_image_Button,\n",
    "            self._exposure_FloatSlider,\n",
    "        ])\n",
    "\n",
    "        self._controls_Tab = ipywidgets.widgets.Tab(children=[\n",
    "            self._global_controls_HBox,\n",
    "        ])\n",
    "        self._controls_Tab.set_title(0, 'Global Controls')\n",
    "\n",
    "        self._controls_Tab.layout = border_layout()\n",
    "\n",
    "        self._output.layout = border_layout()\n",
    "        self.children = [self._output, self._controls_Tab]\n",
    "\n",
    "    def attach_callbacks(self):\n",
    "        self._disable_medidicina_CheckBox.observe(self.toggle_medidicina)\n",
    "        self._export_reference_image_Button.on_click(\n",
    "            self.export_reference_image)\n",
    "        self._save_figure_image_Button.on_click(self.save_figure)\n",
    "        self._exposure_FloatSlider.observe(\n",
    "            self.set_exposure, 'value')\n",
    "\n",
    "    def reference_space_to_working_space(self, RGB):\n",
    "        return colour.RGB_to_RGB(RGB, self._reference_space,\n",
    "                                 self._working_space)\n",
    "\n",
    "    def working_space_to_reference_space(self, RGB):\n",
    "        return colour.RGB_to_RGB(RGB, self._working_space,\n",
    "                                 self._reference_space)\n",
    "\n",
    "    def working_space_to_display_space(self,\n",
    "                                       RGB,\n",
    "                                       apply_encoding_cctf=True,\n",
    "                                       clip=True):\n",
    "        RGB = colour.RGB_to_RGB(\n",
    "            RGB,\n",
    "            self._working_space,\n",
    "            self._display_space,\n",
    "            apply_encoding_cctf=apply_encoding_cctf)\n",
    "\n",
    "        if clip:\n",
    "            return np.clip(RGB, 0, 1)\n",
    "        else:\n",
    "            return RGB\n",
    "\n",
    "    def update_scatter_plot(self, RGB):\n",
    "        if self._enable_chromaticity_diagram:\n",
    "            RGB = RGB[RGB[:, 1].argsort()]\n",
    "            XYZ = colour.RGB_to_XYZ(RGB, self._working_space.whitepoint,\n",
    "                                    self._working_space.whitepoint,\n",
    "                                    self._working_space.RGB_to_XYZ_matrix)\n",
    "            uv = colour.Luv_to_uv(\n",
    "                colour.XYZ_to_Luv(XYZ, self._working_space.whitepoint),\n",
    "                self._working_space.whitepoint)\n",
    "            self._scatter_path_collection.set_offsets(uv)\n",
    "            self._scatter_path_collection.set_facecolor(\n",
    "                self.working_space_to_display_space(RGB))\n",
    "\n",
    "    def toggle_medidicina(self, change):\n",
    "        if not change:\n",
    "            return\n",
    "\n",
    "        if change['name'] == 'value':\n",
    "            self._enable = not change['new']\n",
    "\n",
    "            self.update_widget(None)\n",
    "\n",
    "    def export_reference_image(self, change):\n",
    "        path = os.path.splitext(self._reference_image_path)[0]\n",
    "\n",
    "        colour.write_image(\n",
    "            self.working_space_to_reference_space(\n",
    "                self._reference_image_mapped), '{0}_{1}.exr'.format(\n",
    "                    path, self.__class__.__name__))\n",
    "\n",
    "    def save_figure(self, change):\n",
    "        path = os.path.splitext(self._reference_image_path)[0]\n",
    "        plt.savefig('{0}_{1}.png'.format(path, self.__class__.__name__),\n",
    "                   facecolor=[2 / 3 / 10] * 3, transparent=False, bbox_inches='tight')\n",
    "\n",
    "    def set_exposure(self, change):\n",
    "        if not change:\n",
    "            return\n",
    "\n",
    "        if change['name'] == 'value':\n",
    "            EV = self._exposure_FloatSlider.value\n",
    "            self._reference_image_working = adjust_exposure(\n",
    "                self._reference_image_pre_working, EV)\n",
    "\n",
    "            if self._enable_chromaticity_diagram:\n",
    "                self._decimated_image_working = adjust_exposure(\n",
    "                self._decimated_image_pre_working, EV)\n",
    "            \n",
    "            self.update_widget(None)\n",
    "\n",
    "    def update_widget(self, change):\n",
    "        if not self._enable:\n",
    "            self._reference_image_imshow.set_data(self.working_space_to_display_space(\n",
    "                self._reference_image_working))\n",
    "        \n",
    "            if self._enable_chromaticity_diagram:\n",
    "                self.update_scatter_plot(self._decimated_image_working)\n",
    "\n",
    "            self._figure.canvas.draw_idle()\n",
    "\n",
    "\n",
    "GamutMedicinaBaseWidget()"
   ]
  },
  {
   "cell_type": "code",
   "execution_count": 7,
   "metadata": {},
   "outputs": [
    {
     "data": {
      "application/vnd.jupyter.widget-view+json": {
       "model_id": "0d199f20f6f748b3b03277469e70361d",
       "version_major": 2,
       "version_minor": 0
      },
      "text/plain": [
       "GamutMedicinaBaseWidget(children=(Output(layout=Layout(border='solid 4px #222', margin='4px', padding='0')), T…"
      ]
     },
     "metadata": {},
     "output_type": "display_data"
    }
   ],
   "source": [
    "GamutMedicinaBaseWidget(enable_colour_wheel=False)"
   ]
  },
  {
   "cell_type": "code",
   "execution_count": 8,
   "metadata": {},
   "outputs": [
    {
     "data": {
      "application/vnd.jupyter.widget-view+json": {
       "model_id": "3855609eecd54b9297d83e462d8e30be",
       "version_major": 2,
       "version_minor": 0
      },
      "text/plain": [
       "GamutMedicinaBaseWidget(children=(Output(layout=Layout(border='solid 4px #222', margin='4px', padding='0')), T…"
      ]
     },
     "metadata": {},
     "output_type": "display_data"
    }
   ],
   "source": [
    "GamutMedicinaBaseWidget(enable_chromaticity_diagram=False)"
   ]
  },
  {
   "cell_type": "code",
   "execution_count": 9,
   "metadata": {},
   "outputs": [
    {
     "data": {
      "application/vnd.jupyter.widget-view+json": {
       "model_id": "ef1beb117c4341c6bfacf54486556d86",
       "version_major": 2,
       "version_minor": 0
      },
      "text/plain": [
       "GamutMedicinaBaseWidget(children=(Output(layout=Layout(border='solid 4px #222', margin='4px', padding='0')), T…"
      ]
     },
     "metadata": {},
     "output_type": "display_data"
    }
   ],
   "source": [
    "GamutMedicinaBaseWidget(\n",
    "    enable_colour_wheel=False, enable_chromaticity_diagram=False)"
   ]
  },
  {
   "cell_type": "markdown",
   "metadata": {},
   "source": [
    "## Compression & Blending Functions"
   ]
  },
  {
   "cell_type": "markdown",
   "metadata": {},
   "source": [
    "Gamut mapping commonly involves compressing data from a larger space to a smaller space.\n",
    "\n",
    "Two compression functions are defined:\n",
    "\n",
    "- **Hyperbolic Tangent** (tanh), a function based on the *Hyperbolic Tangent*:\n",
    "\n",
    "$$a + b \\cdot tanh\\bigg(\\cfrac{x - a}{b}\\bigg)$$ where $a$ is the compression threshold, i.e. where the function starts compressing the value $x$ and $b$ is the compression limit, i.e. where the compression has reached its limit.\n",
    "\n",
    "- **Simple** (simple), a function based on the *Hyperbolic Tangent*:\n",
    "\n",
    "$$a + \\Bigg(\\cfrac{-1}{\\bigg(\\cfrac{x - a}{b} + 1\\bigg)} + 1 \\Bigg) \\cdot b$$"
   ]
  },
  {
   "cell_type": "code",
   "execution_count": 10,
   "metadata": {},
   "outputs": [],
   "source": [
    "def tanh_compression_function(x, a=0.8, b=1 - 0.8):\n",
    "    x = colour.utilities.as_float_array(x)\n",
    "\n",
    "    return np.where(x > a, a + b * np.tanh((x - a) / b), x)\n",
    "\n",
    "\n",
    "def simple_compression_function(x, a=0.8, b=1 - 0.8):\n",
    "    x = colour.utilities.as_float_array(x)\n",
    "\n",
    "    return np.where(x > a, a + (-1 / ((x - a) / b + 1) + 1) * b, x)\n",
    "\n",
    "\n",
    "COMPRESSION_FUNCTIONS = {\n",
    "    'tanh' : tanh_compression_function,\n",
    "    'simple' : simple_compression_function,\n",
    "}\n",
    "\n",
    "\n",
    "def smoothstep(x, a=0, b=1):\n",
    "    i = np.clip((x - a) / (b - a), 0, 1)\n",
    "\n",
    "    return i**2 * (3 - 2 * i)\n",
    "\n",
    "\n",
    "def derivative(x, func, d=1e-7):\n",
    "    return (func(x + d) - func(x - d)) / (2 * d)"
   ]
  },
  {
   "cell_type": "code",
   "execution_count": 11,
   "metadata": {},
   "outputs": [
    {
     "data": {
      "application/vnd.jupyter.widget-view+json": {
       "model_id": "6c0d6519c1c74ba18aca76decc1a9edf",
       "version_major": 2,
       "version_minor": 0
      },
      "text/plain": [
       "Canvas(toolbar=Toolbar(toolitems=[('Home', 'Reset original view', 'home', 'home'), ('Back', 'Back to previous …"
      ]
     },
     "metadata": {},
     "output_type": "display_data"
    }
   ],
   "source": [
    "colour.plotting.plot_multi_functions(\n",
    "    {\n",
    "        'tanh': tanh_compression_function,\n",
    "        'd/dx(tanh)': lambda x: derivative(x, tanh_compression_function),\n",
    "        'simple': simple_compression_function,\n",
    "        'd/dx(simple)': lambda x: derivative(x, simple_compression_function),\n",
    "    },\n",
    "    **{\n",
    "        'figure.figsize': (11, 11),\n",
    "        'samples':\n",
    "        np.linspace(0, 2, 1000),\n",
    "        'plot_kwargs': [\n",
    "            {\n",
    "                'c': 'r',\n",
    "                'linestyle': 'dashdot'\n",
    "            },\n",
    "            {\n",
    "                'c': 'r'\n",
    "            },\n",
    "            {\n",
    "                'c': 'g',\n",
    "                'linestyle': 'dashdot'\n",
    "            },\n",
    "            {\n",
    "                'c': 'g'\n",
    "            },\n",
    "        ]\n",
    "    },\n",
    ");"
   ]
  },
  {
   "cell_type": "markdown",
   "metadata": {},
   "source": [
    "## Mansencal and Scharfenberg (2020) - HSV Control Based Study Model"
   ]
  },
  {
   "cell_type": "markdown",
   "metadata": {},
   "source": [
    "*Mansencal and Scharfenberg (2020)* gamut mapping study model is built on top of the [HSV colourspace](https://en.wikipedia.org/wiki/HSL_and_HSV):\n",
    "\n",
    "- Scene-referred RGB exposure values are converted to HSV.\n",
    "- The saturation component $S$ is compressed with a cherry-picked compression function, e.g. $tanh$.\n",
    "- The hue component $H$ is warped according to user defined control values.\n",
    "- The HSV values are converted back to scene-referred RGB exposure values and then blended with the original scene-referred RGB exposure values function through a smoothstep function.\n",
    "\n",
    "The model offers good controls but might tend to exhibit excessive saturation of secondary colours, i.e. cyan, yellow and especially magenta.\n",
    "This can be tuned with the hue controls.\n",
    "\n",
    "More information is available on [ACEScentral](https://community.acescentral.com/t/gamut-mapping-in-cylindrical-and-conic-spaces/)."
   ]
  },
  {
   "cell_type": "code",
   "execution_count": 12,
   "metadata": {},
   "outputs": [
    {
     "data": {
      "application/vnd.jupyter.widget-view+json": {
       "model_id": "076abf31e2a94508974aabedbe1f6ab6",
       "version_major": 2,
       "version_minor": 0
      },
      "text/plain": [
       "GamutMedicinaHSVControlWidget(children=(Output(layout=Layout(border='solid 4px #222', margin='4px', padding='0…"
      ]
     },
     "metadata": {},
     "output_type": "display_data"
    }
   ],
   "source": [
    "def medicina_HSV_control(RGB, H, S, V, H_x, H_y, S_c, S_m, C_f, HSV_to_RGB):\n",
    "    S_m = S_m[..., np.newaxis]\n",
    "\n",
    "    interpolator = scipy.interpolate.interp1d(H_x, H_y)\n",
    "\n",
    "    HSV_c = colour.utilities.tstack(\n",
    "        [interpolator(H) % 1, C_f(S, S_c, 1 - S_c), V])\n",
    "\n",
    "    return HSV_to_RGB(HSV_c) * S_m + RGB * (1 - S_m)\n",
    "\n",
    "\n",
    "class GamutMedicinaHSVControlWidget(GamutMedicinaBaseWidget):\n",
    "    def __init__(self,\n",
    "                 reference_image=None,\n",
    "                 hue_wedge=45,\n",
    "                 protected_area_threshold=0.7,\n",
    "                 compression_threshold=0.8,\n",
    "                 compression_function='tanh',\n",
    "                 RGB_to_HSV=colour.RGB_to_HSV,\n",
    "                 HSV_to_RGB=colour.HSV_to_RGB,\n",
    "                 *args,\n",
    "                 **kwargs):\n",
    "\n",
    "        self._hue_wedge = hue_wedge\n",
    "        self._protected_area_threshold = protected_area_threshold\n",
    "        self._compression_threshold = compression_threshold\n",
    "        self._compression_function = compression_function\n",
    "\n",
    "        self.RGB_to_HSV = RGB_to_HSV\n",
    "        self.HSV_to_RGB = HSV_to_RGB\n",
    "\n",
    "        super().__init__(reference_image, *args, **kwargs)\n",
    "\n",
    "        self._RGB_r = None\n",
    "        self._H_r = self._S_r = self._V_r = None\n",
    "        self._S_r_m = None\n",
    "\n",
    "        if self._enable_colour_wheel:\n",
    "            self._RGB_w = None\n",
    "            self._H_w = self._S_w = self._V_w = None\n",
    "            self._S_w_m = None\n",
    "\n",
    "        if self._enable_chromaticity_diagram:\n",
    "            self._RGB_d = None\n",
    "            self._H_d = self._S_d = self._V_d = None\n",
    "            self._S_d_m = None\n",
    "\n",
    "        self._angles = None\n",
    "        self._x_i = self._y_i = self._y_i = None\n",
    "\n",
    "        if self._enable_colour_wheel:\n",
    "            self._protected_area_threshold_colour_wheel_plot = None\n",
    "            self._compression_threshold_colour_wheel_plot = None\n",
    "            self._hue_controls_plot = None\n",
    "\n",
    "        if self._enable_chromaticity_diagram:\n",
    "            self._protected_area_threshold_chromaticity_diagram_plot = None\n",
    "            self._compression_threshold_chromaticity_diagram_plot = None\n",
    "\n",
    "        self._reset_protected_area_controls_Button = None\n",
    "        self._protected_area_threshold_FloatSlider = None\n",
    "        self._reset_compression_controls_Button = None\n",
    "        self._compression_threshold_FloatSlider = None\n",
    "        self._reset_hue_controls_Button = None\n",
    "        self._wedge_controls = None\n",
    "        self._protected_area_controls_HBox = None\n",
    "        self._saturation_controls_HBox = None\n",
    "        self._hue_controls_HBox = None\n",
    "\n",
    "        self.initialize_data()\n",
    "        self.initialize_axes()\n",
    "        self.initialise_widgets()\n",
    "        self.attach_callbacks()\n",
    "\n",
    "        self.update_widget(None)\n",
    "\n",
    "    def initialize_data(self):\n",
    "        super().initialize_data()\n",
    "\n",
    "        # *** Reference Image ***\n",
    "        self._RGB_r = self._reference_image_working\n",
    "        self._H_r, self._S_r, self._V_r = colour.utilities.tsplit(\n",
    "            self.RGB_to_HSV(self._reference_image_working))\n",
    "        self._S_r_m = smoothstep(self._S_r, self._protected_area_threshold,\n",
    "                                 self._compression_threshold)\n",
    "\n",
    "        # *** Colour Wheel ***\n",
    "        if self._enable_colour_wheel:\n",
    "            self._RGB_w = self._colour_wheel[..., 0:3]\n",
    "            self._H_w, self._S_w, self._V_w = colour.utilities.tsplit(\n",
    "                self.RGB_to_HSV(self._RGB_w))\n",
    "            self._S_w_m = smoothstep(self._S_w, self._protected_area_threshold,\n",
    "                                     self._compression_threshold)\n",
    "\n",
    "        # *** Decimated Image, i.e. Scatter ***\n",
    "        if self._enable_chromaticity_diagram:\n",
    "            self._RGB_d = self._decimated_image_working\n",
    "            self._H_d, self._S_d, self._V_d = colour.utilities.tsplit(\n",
    "                self.RGB_to_HSV(self._decimated_image_working))\n",
    "            self._S_d_m = smoothstep(self._S_d, self._protected_area_threshold,\n",
    "                                     self._compression_threshold)\n",
    "\n",
    "        # *** Angles ***\n",
    "        self._angles = np.arange(0, 360, self._hue_wedge) / 360\n",
    "\n",
    "        # *** Initial State ***\n",
    "        self._x_i = np.hstack([self._angles, 1])\n",
    "        self._y_i = self._angles\n",
    "        self._y_i = np.hstack([self._y_i, self._y_i[0] + 1])\n",
    "\n",
    "    def initialize_axes(self):\n",
    "        super().initialize_axes()\n",
    "\n",
    "        circumference = np.linspace(0, np.pi * 2, self._colour_wheel_samples)\n",
    "        # Colour Wheel Axes\n",
    "        if self._enable_colour_wheel:\n",
    "            self._protected_area_threshold_colour_wheel_plot = (\n",
    "                self._colour_wheel_polar_axes.plot(\n",
    "                    circumference,\n",
    "                    np.full(self._colour_wheel_samples,\n",
    "                            self._protected_area_threshold),\n",
    "                    linestyle='dotted',\n",
    "                    color='yellow')[0])\n",
    "            self._compression_threshold_colour_wheel_plot = (\n",
    "                self._colour_wheel_polar_axes.plot(\n",
    "                    circumference,\n",
    "                    np.full(self._colour_wheel_samples,\n",
    "                            self._compression_threshold),\n",
    "                    linestyle='dashdot',\n",
    "                    color='cyan')[0])\n",
    "\n",
    "            self._hue_controls_plot = (self._colour_wheel_polar_axes.plot(\n",
    "                self._y_i * np.pi * 2,\n",
    "                np.ones(self._y_i.shape),\n",
    "                'o-',\n",
    "                color='white')[0])\n",
    "\n",
    "        # Chromaticity Diagram Axes\n",
    "        if self._enable_chromaticity_diagram:\n",
    "            self._protected_area_threshold_chromaticity_diagram_plot = (\n",
    "                self._chromaticity_diagram_axes.plot(\n",
    "                    circumference,\n",
    "                    circumference,\n",
    "                    linestyle='dotted',\n",
    "                    color='yellow')[0])\n",
    "            self._compression_threshold_chromaticity_diagram_plot = (\n",
    "                self._chromaticity_diagram_axes.plot(\n",
    "                    circumference,\n",
    "                    circumference,\n",
    "                    linestyle='dashdot',\n",
    "                    color='cyan')[0])\n",
    "\n",
    "    def initialise_widgets(self):\n",
    "        super().initialise_widgets()\n",
    "\n",
    "        # *** Widgets ***\n",
    "        self._reset_protected_area_controls_Button = (\n",
    "            ipywidgets.widgets.Button(description=\"Reset Protected Area\"))\n",
    "        self._protected_area_threshold_FloatSlider = (\n",
    "            ipywidgets.widgets.FloatSlider(\n",
    "                min=0.0,\n",
    "                max=1.0,\n",
    "                step=0.01,\n",
    "                value=self._protected_area_threshold,\n",
    "                description='Protected Area Threshold'))\n",
    "\n",
    "        self._reset_compression_controls_Button = (\n",
    "            ipywidgets.widgets.Button(description=\"Reset Saturation Controls\"))\n",
    "        compression_functions = list(COMPRESSION_FUNCTIONS.keys())\n",
    "        self._compression_function_DropDown = ipywidgets.widgets.Dropdown(\n",
    "            options=compression_functions,\n",
    "            value=self._compression_function,\n",
    "            description='Compression Function:',\n",
    "        )\n",
    "        self._compression_threshold_FloatSlider = (\n",
    "            ipywidgets.widgets.FloatSlider(\n",
    "                min=0.0,\n",
    "                max=1.0,\n",
    "                step=0.01,\n",
    "                value=self._compression_threshold,\n",
    "                description='Compression Threshold'))\n",
    "\n",
    "        self._reset_hue_controls_Button = ipywidgets.widgets.Button(\n",
    "            description=\"Reset Hue Controls\")\n",
    "        self._wedge_controls = [\n",
    "            ipywidgets.widgets.FloatSlider(\n",
    "                min=-1,\n",
    "                max=1,\n",
    "                step=0.01,\n",
    "                value=0,\n",
    "                description='{0}°'.format(int(angle * 360)))\n",
    "            for angle in self._angles\n",
    "        ]\n",
    "\n",
    "        # *** Layout ***\n",
    "        self._protected_area_controls_HBox = ipywidgets.widgets.HBox([\n",
    "            self._reset_protected_area_controls_Button,\n",
    "            self._protected_area_threshold_FloatSlider,\n",
    "        ])\n",
    "\n",
    "        self._saturation_controls_HBox = ipywidgets.widgets.HBox([\n",
    "            self._reset_compression_controls_Button,\n",
    "            self._compression_function_DropDown,\n",
    "            self._compression_threshold_FloatSlider\n",
    "        ])\n",
    "\n",
    "        wedge_controls_batches = batch(self._wedge_controls, 3)\n",
    "        self._hue_controls_HBox = ipywidgets.widgets.HBox(\n",
    "            [ipywidgets.widgets.VBox([self._reset_hue_controls_Button])] + [\n",
    "                ipywidgets.widgets.VBox(wedge_controls)\n",
    "                for wedge_controls in wedge_controls_batches\n",
    "            ])\n",
    "\n",
    "        self._controls_Tab.children += (\n",
    "            self._protected_area_controls_HBox,\n",
    "            self._saturation_controls_HBox,\n",
    "            self._hue_controls_HBox,\n",
    "        )\n",
    "\n",
    "        self._controls_Tab.set_title(1, 'Protected Area Controls')\n",
    "        self._controls_Tab.set_title(2, 'Saturation Controls')\n",
    "        self._controls_Tab.set_title(3, 'Hue Controls')\n",
    "\n",
    "    def attach_callbacks(self):\n",
    "        super().attach_callbacks()\n",
    "\n",
    "        self._reset_protected_area_controls_Button.on_click(\n",
    "            self.reset_protected_area_controls)\n",
    "        self._protected_area_threshold_FloatSlider.observe(\n",
    "            self.update_protected_area_mask, 'value')\n",
    "\n",
    "        self._reset_compression_controls_Button.on_click(\n",
    "            self.reset_compression_controls)\n",
    "        self._compression_function_DropDown.observe(self.update_widget,\n",
    "                                                    'value')\n",
    "        self._compression_threshold_FloatSlider.observe(\n",
    "            self.update_widget, 'value')\n",
    "\n",
    "        self._reset_hue_controls_Button.on_click(self.reset_hue_controls)\n",
    "        for slider in self._wedge_controls:\n",
    "            slider.observe(self.update_widget, 'value')\n",
    "\n",
    "    def set_exposure(self, change):\n",
    "        if not change:\n",
    "            return\n",
    "\n",
    "        if change['name'] == 'value':\n",
    "            EV = self._exposure_FloatSlider.value\n",
    "\n",
    "            self._RGB_r = adjust_exposure(self._reference_image_pre_working,\n",
    "                                          EV)\n",
    "            self._H_r, self._S_r, self._V_r = colour.utilities.tsplit(\n",
    "                self.RGB_to_HSV(self._RGB_r))\n",
    "\n",
    "            if self._enable_chromaticity_diagram:\n",
    "                self._RGB_d = adjust_exposure(\n",
    "                    self._decimated_image_pre_working, EV)\n",
    "                self._H_d, self._S_d, self._V_d = colour.utilities.tsplit(\n",
    "                    self.RGB_to_HSV(self._RGB_d))\n",
    "\n",
    "            self.update_protected_area_mask({'name': 'value'})\n",
    "\n",
    "    def update_region_colour_wheel_plot(self, V_r, region_colour_wheel_plot):\n",
    "        if self._enable_colour_wheel:\n",
    "            region_colour_wheel_plot.set_ydata(\n",
    "                np.full(self._colour_wheel_samples, V_r))\n",
    "\n",
    "    def update_protected_area_threshold_colour_wheel_plot(self, U_r):\n",
    "        if self._enable_colour_wheel:\n",
    "            self.update_region_colour_wheel_plot(\n",
    "                U_r, self._protected_area_threshold_colour_wheel_plot)\n",
    "\n",
    "    def update_compression_threshold_colour_wheel_plot(self, S_c):\n",
    "        if self._enable_colour_wheel:\n",
    "            self.update_region_colour_wheel_plot(\n",
    "                S_c, self._compression_threshold_colour_wheel_plot)\n",
    "\n",
    "    def update_region_chromaticity_diagram_plot(\n",
    "            self, V_r, region_chromaticity_diagram_plot):\n",
    "        if self._enable_chromaticity_diagram:\n",
    "            HSV = colour.utilities.tstack([\n",
    "                np.linspace(0, 1, self._colour_wheel_samples),\n",
    "                np.full(self._colour_wheel_samples, V_r),\n",
    "                np.ones(self._colour_wheel_samples)\n",
    "            ])\n",
    "            uv = colour.Luv_to_uv(\n",
    "                colour.XYZ_to_Luv(\n",
    "                    colour.RGB_to_XYZ(\n",
    "                        self.HSV_to_RGB(HSV), self._working_space.whitepoint,\n",
    "                        self._working_space.whitepoint,\n",
    "                        self._working_space.RGB_to_XYZ_matrix),\n",
    "                    self._working_space.whitepoint))\n",
    "\n",
    "            region_chromaticity_diagram_plot.set_data(uv[:, 0], uv[:, 1])\n",
    "\n",
    "    def update_protected_area_threshold_chromaticity_diagram_plot(self, U_r):\n",
    "        if self._enable_chromaticity_diagram:\n",
    "            self.update_region_chromaticity_diagram_plot(\n",
    "                U_r, self._protected_area_threshold_chromaticity_diagram_plot)\n",
    "\n",
    "    def update_compression_threshold_chromaticity_diagram_plot(self, S_c):\n",
    "        if self._enable_chromaticity_diagram:\n",
    "            self.update_region_chromaticity_diagram_plot(\n",
    "                S_c, self._compression_threshold_chromaticity_diagram_plot)\n",
    "\n",
    "    def update_protected_area_mask(self, change):\n",
    "        if not change:\n",
    "            return\n",
    "\n",
    "        if change['name'] == 'value':\n",
    "            U_r = self._protected_area_threshold_FloatSlider.value\n",
    "            S_c = self._compression_threshold_FloatSlider.value\n",
    "\n",
    "            self._S_d_m = smoothstep(self._S_d, U_r, S_c)\n",
    "\n",
    "            if self._enable_colour_wheel:\n",
    "                self._S_w_m = smoothstep(self._S_w, U_r, S_c)\n",
    "\n",
    "            if self._enable_chromaticity_diagram:\n",
    "                self._S_r_m = smoothstep(self._S_r, U_r, S_c)\n",
    "\n",
    "        self.update_widget(None)\n",
    "\n",
    "    def wedge_control_to_hue_offset(self, value):\n",
    "        slider = self._wedge_controls[0]\n",
    "\n",
    "        return colour.utilities.linear_conversion(\n",
    "            value, [slider.min, slider.max],\n",
    "            [-self._hue_wedge / 360, self._hue_wedge / 360])\n",
    "\n",
    "    def reset_protected_area_controls(self, change):\n",
    "        self._protected_area_threshold_FloatSlider.value = (\n",
    "            self._protected_area_threshold)\n",
    "\n",
    "        self.update_protected_area_mask(None)\n",
    "\n",
    "    def reset_compression_controls(self, change):\n",
    "        self._compression_threshold_FloatSlider.value = (\n",
    "            self._compression_threshold)\n",
    "\n",
    "        self.update_widget(None)\n",
    "\n",
    "    def reset_hue_controls(self, change):\n",
    "        for slider in self._wedge_controls:\n",
    "            slider.value = 0\n",
    "\n",
    "        self.update_widget(None)\n",
    "\n",
    "    def update_reference_image_axes(self, S_c, H_y, C_f):\n",
    "        RGB_r = medicina_HSV_control(self._RGB_r, self._H_r, self._S_r,\n",
    "                                     self._V_r, self._x_i, H_y, S_c,\n",
    "                                     self._S_r_m, C_f, self.HSV_to_RGB)\n",
    "        self._reference_image_mapped = RGB_r\n",
    "        self._reference_image_imshow.set_data(\n",
    "            self.working_space_to_display_space(RGB_r))\n",
    "\n",
    "    def update_colour_wheel_axes(self, U_r, S_c, H_y, H_o, C_f):\n",
    "        if self._enable_colour_wheel:\n",
    "            R_w, G_w, B_w = colour.utilities.tsplit(\n",
    "                medicina_HSV_control(self._RGB_w, self._H_w, self._S_w,\n",
    "                                     self._V_w, self._x_i, H_y, S_c,\n",
    "                                     self._S_w_m, C_f, self.HSV_to_RGB))\n",
    "            self._colour_wheel_imshow.set_data(\n",
    "                np.clip(\n",
    "                    colour.tstack([R_w, G_w, B_w,\n",
    "                                   self._colour_wheel[..., -1]]), 0, 1))\n",
    "            self.update_protected_area_threshold_colour_wheel_plot(U_r)\n",
    "            self.update_compression_threshold_colour_wheel_plot(S_c)\n",
    "\n",
    "            H_x = H_o + self._angles\n",
    "            H_x = np.hstack([H_x, H_x[0]])\n",
    "            self._hue_controls_plot.set_xdata(H_x * np.pi * 2)\n",
    "\n",
    "    def update_chromaticity_diagram_axes(self, U_r, S_c, H_y, C_f):\n",
    "        if self._enable_chromaticity_diagram:\n",
    "            RGB_r_s = medicina_HSV_control(self._RGB_d, self._H_d, self._S_d,\n",
    "                                           self._V_d, self._x_i, H_y, S_c,\n",
    "                                           self._S_d_m, C_f, self.HSV_to_RGB)\n",
    "            self.update_scatter_plot(RGB_r_s)\n",
    "            self.update_protected_area_threshold_chromaticity_diagram_plot(U_r)\n",
    "            self.update_compression_threshold_chromaticity_diagram_plot(S_c)\n",
    "\n",
    "    def update_widget(self, change):\n",
    "        super().update_widget(change)\n",
    "\n",
    "        if self._enable:\n",
    "            U_r = self._protected_area_threshold_FloatSlider.value\n",
    "            S_c = self._compression_threshold_FloatSlider.value\n",
    "            C_f = COMPRESSION_FUNCTIONS[\n",
    "                self._compression_function_DropDown.value]\n",
    "\n",
    "            hue_offsets = np.array([\n",
    "                self.wedge_control_to_hue_offset(slider.value)\n",
    "                for slider in self._wedge_controls\n",
    "            ])\n",
    "\n",
    "            H_y = -hue_offsets + self._angles\n",
    "            H_y = np.hstack([H_y, H_y[0] + 1])\n",
    "\n",
    "            self.update_reference_image_axes(S_c, H_y, C_f)\n",
    "\n",
    "            if self._enable_colour_wheel:\n",
    "                self.update_colour_wheel_axes(U_r, S_c, H_y, hue_offsets, C_f)\n",
    "\n",
    "            if self._enable_chromaticity_diagram:\n",
    "                self.update_chromaticity_diagram_axes(U_r, S_c, H_y, C_f)\n",
    "\n",
    "            self._figure.canvas.draw_idle()\n",
    "\n",
    "\n",
    "GamutMedicinaHSVControlWidget(\n",
    "    '../resources/images/A009C002_190210_R0EI_Alexa_LogCWideGamut.exr')"
   ]
  },
  {
   "cell_type": "code",
   "execution_count": 13,
   "metadata": {},
   "outputs": [
    {
     "data": {
      "application/vnd.jupyter.widget-view+json": {
       "model_id": "911ffcccfbc64126a04647214b76096c",
       "version_major": 2,
       "version_minor": 0
      },
      "text/plain": [
       "GamutMedicinaHSVControlWidget(children=(Output(layout=Layout(border='solid 4px #222', margin='4px', padding='0…"
      ]
     },
     "metadata": {},
     "output_type": "display_data"
    }
   ],
   "source": [
    "GamutMedicinaHSVControlWidget('../resources/images/A002_C029_06025K.exr')"
   ]
  },
  {
   "cell_type": "code",
   "execution_count": 14,
   "metadata": {},
   "outputs": [
    {
     "data": {
      "application/vnd.jupyter.widget-view+json": {
       "model_id": "560e60304bb54817877a6f27e80171b5",
       "version_major": 2,
       "version_minor": 0
      },
      "text/plain": [
       "GamutMedicinaHSVControlWidget(children=(Output(layout=Layout(border='solid 4px #222', margin='4px', padding='0…"
      ]
     },
     "metadata": {},
     "output_type": "display_data"
    }
   ],
   "source": [
    "GamutMedicinaHSVControlWidget(\n",
    "    '../resources/images/Cornell_Box_Rigid_Spheres_190_Patch_Roughplastic_Point_Grey_Grasshopper_50S5C_RGB_W_A.exr')"
   ]
  },
  {
   "cell_type": "code",
   "execution_count": 15,
   "metadata": {},
   "outputs": [
    {
     "data": {
      "application/vnd.jupyter.widget-view+json": {
       "model_id": "2392f4cc14424b4d847d2fcbde80177a",
       "version_major": 2,
       "version_minor": 0
      },
      "text/plain": [
       "GamutMedicinaHSVControlWidget(children=(Output(layout=Layout(border='solid 4px #222', margin='4px', padding='0…"
      ]
     },
     "metadata": {},
     "output_type": "display_data"
    }
   ],
   "source": [
    "GamutMedicinaHSVControlWidget(\n",
    "    '../resources/images/Cornell_Box_Rigid_Spheres_190_Patch_Roughplastic_Point_Grey_Grasshopper_50S5C_RGB_W_A.exr',\n",
    "    enable_colour_wheel=False)"
   ]
  },
  {
   "cell_type": "markdown",
   "metadata": {},
   "source": [
    "## Smith (2020) - RGB Saturation Study Model"
   ]
  },
  {
   "cell_type": "markdown",
   "metadata": {},
   "source": [
    "*Smith (2020)* gamut mapping study model is directly operating in the RGB colourspace:\n",
    "\n",
    "- Like with the HSV colourspace, an achromatic axis is computed for the scene-referred RGB exposure values.\n",
    "- The distance from the individual $R$, $G$ and $B$ to the achromatic axis is compressed with a cherry-picked compression function, e.g. $tanh$.\n",
    "\n",
    "The model is extremely simple and elegant while offering good computational speed.\n",
    "\n",
    "More information is available on [ACEScentral](https://community.acescentral.com/t/rgb-saturation-gamut-mapping-approach-and-a-comp-vfx-perspective/)."
   ]
  },
  {
   "cell_type": "code",
   "execution_count": 16,
   "metadata": {},
   "outputs": [
    {
     "data": {
      "application/vnd.jupyter.widget-view+json": {
       "model_id": "d8c7afdf4479475a8495b912c55ad234",
       "version_major": 2,
       "version_minor": 0
      },
      "text/plain": [
       "GamutMedicinaRGBSaturationWidget(children=(Output(layout=Layout(border='solid 4px #222', margin='4px', padding…"
      ]
     },
     "metadata": {},
     "output_type": "display_data"
    }
   ],
   "source": [
    "def medicina_RGB_saturation(RGB, C_t, C_f):\n",
    "    C_t = 1 - C_t\n",
    "\n",
    "    L = np.max(RGB, axis=-1)[..., np.newaxis]\n",
    "\n",
    "    D = np.abs(RGB - L) / L\n",
    "\n",
    "    D_c = C_f(D, C_t, 1 - C_t)\n",
    "\n",
    "    RGB_c = L - D_c * L\n",
    "\n",
    "    return RGB_c\n",
    "\n",
    "\n",
    "class GamutMedicinaRGBSaturationWidget(GamutMedicinaBaseWidget):\n",
    "    def __init__(self,\n",
    "                 reference_image=None,\n",
    "                 compression_threshold=0.8,\n",
    "                 compression_function='tanh',\n",
    "                 *args,\n",
    "                 **kwargs):\n",
    "        self._compression_threshold = compression_threshold\n",
    "        self._compression_function = compression_function\n",
    "\n",
    "        kwargs['enable_colour_wheel'] = False\n",
    "\n",
    "        super().__init__(reference_image, *args, **kwargs)\n",
    "\n",
    "        self._RGB_w = None\n",
    "        self._RGB_r = None\n",
    "        self._RGB_d = None\n",
    "\n",
    "        self._compression_threshold_chromaticity_diagram_plot = None\n",
    "\n",
    "        self._reset_compression_controls_Button = None\n",
    "        self._compression_threshold_FloatSlider = None\n",
    "\n",
    "        self.initialize_data()\n",
    "        self.initialize_axes()\n",
    "        self.initialise_widgets()\n",
    "        self.attach_callbacks()\n",
    "\n",
    "        self.update_widget(None)\n",
    "\n",
    "    def initialize_data(self):\n",
    "        super().initialize_data()\n",
    "\n",
    "    def initialize_axes(self):\n",
    "        super().initialize_axes()\n",
    "\n",
    "    def initialise_widgets(self):\n",
    "        super().initialise_widgets()\n",
    "\n",
    "        # *** Widgets ***\n",
    "        self._reset_compression_controls_Button = (\n",
    "            ipywidgets.widgets.Button(\n",
    "                description=\"Reset Compression Controls\"))\n",
    "        compression_functions = list(COMPRESSION_FUNCTIONS.keys())\n",
    "        self._compression_function_DropDown = ipywidgets.widgets.Dropdown(\n",
    "            options=compression_functions,\n",
    "            value=self._compression_function,\n",
    "            description='Compression Function:',\n",
    "        )\n",
    "        self._compression_threshold_FloatSlider = (\n",
    "            ipywidgets.widgets.FloatSlider(\n",
    "                min=0.0,\n",
    "                max=1.0,\n",
    "                step=0.01,\n",
    "                value=self._compression_threshold,\n",
    "                description='Compression Threshold'))\n",
    "\n",
    "        # *** Layout ***\n",
    "        self._compression_controls_HBox = ipywidgets.widgets.HBox([\n",
    "            self._reset_compression_controls_Button,\n",
    "            self._compression_function_DropDown,\n",
    "            self._compression_threshold_FloatSlider,\n",
    "        ])\n",
    "\n",
    "        self._controls_Tab.children += (\n",
    "            self._compression_controls_HBox,\n",
    "        )\n",
    "\n",
    "        self._controls_Tab.set_title(1, 'Compression Controls')\n",
    "\n",
    "    def attach_callbacks(self):\n",
    "        super().attach_callbacks()\n",
    "\n",
    "        self._reset_compression_controls_Button.on_click(\n",
    "            self.reset_compression_controls)\n",
    "        self._compression_function_DropDown.observe(self.update_widget,\n",
    "                                                    'value')\n",
    "        self._compression_threshold_FloatSlider.observe(\n",
    "            self.update_widget, 'value')\n",
    "\n",
    "    def reset_compression_controls(self, change):\n",
    "        self._compression_threshold_FloatSlider.value = (\n",
    "            self._compression_threshold)\n",
    "\n",
    "        self.update_widget(None)\n",
    "\n",
    "    def update_reference_image_axes(self, C_t, C_f):\n",
    "        RGB_r = medicina_RGB_saturation(self._reference_image_working, C_t, C_f)\n",
    "        self._reference_image_mapped = RGB_r\n",
    "        self._reference_image_imshow.set_data(\n",
    "            self.working_space_to_display_space(RGB_r))\n",
    "\n",
    "    def update_chromaticity_diagram_axes(self, C_t, C_f):\n",
    "        RGB_r_s = medicina_RGB_saturation(self._decimated_image_working, C_t, C_f)\n",
    "        self.update_scatter_plot(RGB_r_s)\n",
    "\n",
    "    def update_widget(self, change):\n",
    "        super().update_widget(change)\n",
    "\n",
    "        if self._enable:\n",
    "            C_t = 1 - self._compression_threshold_FloatSlider.value\n",
    "            C_f = COMPRESSION_FUNCTIONS[\n",
    "                self._compression_function_DropDown.value]\n",
    "\n",
    "            self.update_reference_image_axes(C_t, C_f)\n",
    "            self.update_chromaticity_diagram_axes(C_t, C_f)\n",
    "\n",
    "            self._figure.canvas.draw_idle()\n",
    "\n",
    "\n",
    "GamutMedicinaRGBSaturationWidget(\n",
    "    '../resources/images/A009C002_190210_R0EI_Alexa_LogCWideGamut.exr')"
   ]
  },
  {
   "cell_type": "code",
   "execution_count": 17,
   "metadata": {},
   "outputs": [
    {
     "data": {
      "application/vnd.jupyter.widget-view+json": {
       "model_id": "7ac2630d43274e18af668c45b151b321",
       "version_major": 2,
       "version_minor": 0
      },
      "text/plain": [
       "GamutMedicinaHSVControlWidget(children=(Output(layout=Layout(border='solid 4px #222', margin='4px', padding='0…"
      ]
     },
     "metadata": {},
     "output_type": "display_data"
    }
   ],
   "source": [
    "GamutMedicinaHSVControlWidget(\n",
    "    '../resources/images/A009C002_190210_R0EI_Alexa_LogCWideGamut.exr',\n",
    "    enable_colour_wheel=False)"
   ]
  },
  {
   "cell_type": "code",
   "execution_count": 18,
   "metadata": {},
   "outputs": [
    {
     "data": {
      "application/vnd.jupyter.widget-view+json": {
       "model_id": "b27c3bf5c074489ea55a3b4c76aa7bbe",
       "version_major": 2,
       "version_minor": 0
      },
      "text/plain": [
       "GamutMedicinaRGBSaturationWidget(children=(Output(layout=Layout(border='solid 4px #222', margin='4px', padding…"
      ]
     },
     "metadata": {},
     "output_type": "display_data"
    }
   ],
   "source": [
    "GamutMedicinaRGBSaturationWidget(\n",
    "    '../resources/images/Carol Payne - J001_C001_08178N_001.exr')"
   ]
  },
  {
   "cell_type": "code",
   "execution_count": 19,
   "metadata": {},
   "outputs": [
    {
     "data": {
      "application/vnd.jupyter.widget-view+json": {
       "model_id": "8ebdaa1e4f94419197f3c6e78430afb6",
       "version_major": 2,
       "version_minor": 0
      },
      "text/plain": [
       "GamutMedicinaRGBSaturationWidget(children=(Output(layout=Layout(border='solid 4px #222', margin='4px', padding…"
      ]
     },
     "metadata": {},
     "output_type": "display_data"
    }
   ],
   "source": [
    "GamutMedicinaRGBSaturationWidget(\n",
    "    '../resources/images/Cornell_Box_Rigid_Spheres_190_Patch_Roughplastic_Point_Grey_Grasshopper_50S5C_RGB_W_A.exr')"
   ]
  },
  {
   "cell_type": "markdown",
   "metadata": {},
   "source": [
    "## Compared Model Distortions"
   ]
  },
  {
   "cell_type": "markdown",
   "metadata": {},
   "source": [
    "Various model distortions comparisons."
   ]
  },
  {
   "cell_type": "code",
   "execution_count": 20,
   "metadata": {},
   "outputs": [],
   "source": [
    "colour.write_image(\n",
    "    colour_wheel(clip_circle=False)[..., 0:3],\n",
    "    '../resources/images/Colour_Wheel.exr')"
   ]
  },
  {
   "cell_type": "code",
   "execution_count": 21,
   "metadata": {},
   "outputs": [
    {
     "data": {
      "application/vnd.jupyter.widget-view+json": {
       "model_id": "f33d5c05597a40cba9f5517dfc3903fe",
       "version_major": 2,
       "version_minor": 0
      },
      "text/plain": [
       "GamutMedicinaHSVControlWidget(children=(Output(layout=Layout(border='solid 4px #222', margin='4px', padding='0…"
      ]
     },
     "metadata": {},
     "output_type": "display_data"
    }
   ],
   "source": [
    "GamutMedicinaHSVControlWidget(\n",
    "    '../resources/images/Colour_Wheel.exr',\n",
    "    image_decimation=20,\n",
    "    protected_area_threshold=0.5,\n",
    "    compression_threshold=0.5,\n",
    "    enable_colour_wheel=False)"
   ]
  },
  {
   "cell_type": "code",
   "execution_count": 22,
   "metadata": {},
   "outputs": [
    {
     "data": {
      "application/vnd.jupyter.widget-view+json": {
       "model_id": "f53aa47b3ec3480ab25dafbc79d2c290",
       "version_major": 2,
       "version_minor": 0
      },
      "text/plain": [
       "GamutMedicinaRGBSaturationWidget(children=(Output(layout=Layout(border='solid 4px #222', margin='4px', padding…"
      ]
     },
     "metadata": {},
     "output_type": "display_data"
    }
   ],
   "source": [
    "GamutMedicinaRGBSaturationWidget(\n",
    "    '../resources/images/Colour_Wheel.exr',\n",
    "    image_decimation=20,\n",
    "    compression_threshold=0.5)"
   ]
  }
 ],
 "metadata": {
  "colab": {
   "collapsed_sections": [],
   "name": "gamut_mapping_ramblings_01",
   "provenance": []
  },
  "kernelspec": {
   "display_name": "Python 3",
   "language": "python",
   "name": "python3"
  },
  "language_info": {
   "codemirror_mode": {
    "name": "ipython",
    "version": 3
   },
   "file_extension": ".py",
   "mimetype": "text/x-python",
   "name": "python",
   "nbconvert_exporter": "python",
   "pygments_lexer": "ipython3",
   "version": "3.7.6"
  },
  "widgets": {
   "application/vnd.jupyter.widget-state+json": {
    "state": {
     "003e7f6942d341cfa29ab5a084246740": {
      "model_module": "@jupyter-widgets/base",
      "model_module_version": "1.2.0",
      "model_name": "LayoutModel",
      "state": {}
     },
     "00418cff63dd43e4aea00860fc43efcf": {
      "model_module": "@jupyter-widgets/controls",
      "model_module_version": "1.5.0",
      "model_name": "VBoxModel",
      "state": {
       "children": [
        "IPY_MODEL_0a24b17a78da4d14a5172bfcd6a55014"
       ],
       "layout": "IPY_MODEL_82db7a073c1f4138a20b80a80de8637e"
      }
     },
     "00707dcc7cc340d4b2d9df0da89861dd": {
      "model_module": "@jupyter-widgets/base",
      "model_module_version": "1.2.0",
      "model_name": "LayoutModel",
      "state": {
       "align_items": "stretch",
       "display": "flex",
       "flex_flow": "column",
       "width": "1128px"
      }
     },
     "007128621a1c4776a623a34a51f3ffbe": {
      "model_module": "@jupyter-widgets/controls",
      "model_module_version": "1.5.0",
      "model_name": "SliderStyleModel",
      "state": {
       "description_width": ""
      }
     },
     "008cd34021074a92bf11e9b768c12139": {
      "model_module": "@jupyter-widgets/controls",
      "model_module_version": "1.5.0",
      "model_name": "SliderStyleModel",
      "state": {
       "description_width": ""
      }
     },
     "00a3fc7ea83a402b994ea0f9e82da212": {
      "model_module": "@jupyter-widgets/base",
      "model_module_version": "1.2.0",
      "model_name": "LayoutModel",
      "state": {}
     },
     "00ca727b8b264dc08b288608a3b783ef": {
      "model_module": "@jupyter-widgets/controls",
      "model_module_version": "1.5.0",
      "model_name": "FloatSliderModel",
      "state": {
       "description": "Exposure",
       "layout": "IPY_MODEL_9814ad8c495c44e095f6559e8fd8762c",
       "max": 8,
       "min": -8,
       "step": 0.1,
       "style": "IPY_MODEL_bd099f0874f14369a5667ab3b0f3f3fd"
      }
     },
     "00e49056dd914c91a1ea1c8a72ff4ee5": {
      "model_module": "@jupyter-widgets/controls",
      "model_module_version": "1.5.0",
      "model_name": "HBoxModel",
      "state": {
       "children": [
        "IPY_MODEL_84e55230f8854afcad37b653ef97c4f5",
        "IPY_MODEL_3f9c840d764d42a19e1aa57094366257",
        "IPY_MODEL_f58e7b8c0c2544e58a797bdf250f70c5"
       ],
       "layout": "IPY_MODEL_30988c7796bd4db79c34f906c85dd45d"
      }
     },
     "0118f38e6d154fa8b661c8bb7bf0ac5f": {
      "model_module": "@jupyter-widgets/controls",
      "model_module_version": "1.5.0",
      "model_name": "VBoxModel",
      "state": {
       "children": [
        "IPY_MODEL_717a98fe99c942e88897ee928ddc42f0"
       ],
       "layout": "IPY_MODEL_5453f80ffaed41d4afc8d9139e2a9961"
      }
     },
     "012097843b8d49ad8720ac6398bf6d0e": {
      "model_module": "@jupyter-widgets/controls",
      "model_module_version": "1.5.0",
      "model_name": "HBoxModel",
      "state": {
       "children": [
        "IPY_MODEL_b7dea79a550f471dbdfe1424e8c78367",
        "IPY_MODEL_61c4f071834d441da0dc7cd693aa103a",
        "IPY_MODEL_3cb95bb0b96b4a118faad97b02854893",
        "IPY_MODEL_d2565bca135f46299c7f8760ddffdeb0"
       ],
       "layout": "IPY_MODEL_1807b082189c40f697c8de482115cea6"
      }
     },
     "0157f52a3b854a7598c94dba5f0a966e": {
      "model_module": "@jupyter-widgets/controls",
      "model_module_version": "1.5.0",
      "model_name": "ButtonModel",
      "state": {
       "description": "Reset Protected Area",
       "layout": "IPY_MODEL_cf864bb05f504ace9192d140e5e3c0af",
       "style": "IPY_MODEL_4de26108f4c046ff8618ffff8455a3d1"
      }
     },
     "01a02d71bac54590a9c431049da33016": {
      "model_module": "@jupyter-widgets/base",
      "model_module_version": "1.2.0",
      "model_name": "LayoutModel",
      "state": {}
     },
     "01c491957da047a29aaef6b26d6fa87c": {
      "model_module": "@jupyter-widgets/base",
      "model_module_version": "1.2.0",
      "model_name": "LayoutModel",
      "state": {}
     },
     "01d0d8b311de412889598e62e6562496": {
      "model_module": "@jupyter-widgets/controls",
      "model_module_version": "1.5.0",
      "model_name": "FloatSliderModel",
      "state": {
       "description": "225°",
       "layout": "IPY_MODEL_ff223fbba13649088c71fe855e30972b",
       "max": 1,
       "min": -1,
       "step": 0.01,
       "style": "IPY_MODEL_ccb9182c8075470d966e505056da68fd"
      }
     },
     "01f8961a062c41d0844f6522603d4ca4": {
      "model_module": "@jupyter-widgets/controls",
      "model_module_version": "1.5.0",
      "model_name": "FloatSliderModel",
      "state": {
       "description": "90°",
       "layout": "IPY_MODEL_c0ec07e3f63d4bdd8eb3414bc8c85107",
       "max": 1,
       "min": -1,
       "step": 0.01,
       "style": "IPY_MODEL_3463dd6aaba24ff0a57d3df750e129e4"
      }
     },
     "02091ab9c7de41e19d647e5fa35d8357": {
      "model_module": "@jupyter-widgets/controls",
      "model_module_version": "1.5.0",
      "model_name": "TabModel",
      "state": {
       "_titles": {
        "0": "Global Controls",
        "1": "Protected Area Controls",
        "2": "Saturation Controls",
        "3": "Hue Controls"
       },
       "children": [
        "IPY_MODEL_f2f8d4d0f96a4a7bbc5d4896edc6d5dd",
        "IPY_MODEL_af5f018954e74d9c8a3577c1dc9e6282",
        "IPY_MODEL_3b6ee29364a94e47aef50235862aa5e3",
        "IPY_MODEL_a9925d85b15646e6b6c6b0ef8caff4ac"
       ],
       "layout": "IPY_MODEL_ba6df764c1aa4497ae1bc38514e36e0c"
      }
     },
     "02a3ba2556e14728b97d6b9620af99fe": {
      "model_module": "@jupyter-widgets/controls",
      "model_module_version": "1.5.0",
      "model_name": "SliderStyleModel",
      "state": {
       "description_width": ""
      }
     },
     "031b88aa8ecc45f7bff6d707f89390bc": {
      "model_module": "@jupyter-widgets/controls",
      "model_module_version": "1.5.0",
      "model_name": "ButtonModel",
      "state": {
       "description": "Reset Protected Area",
       "layout": "IPY_MODEL_60e31ef75d1e425392b0a4869c77b381",
       "style": "IPY_MODEL_9df50742fa8c419ea974b4dbac9f8c1c"
      }
     },
     "03465a79d13541a58b0227084fb4e0ad": {
      "model_module": "@jupyter-widgets/output",
      "model_module_version": "1.0.0",
      "model_name": "OutputModel",
      "state": {
       "layout": "IPY_MODEL_8fb019fc51f54bf08470d7655e817623",
       "outputs": [
        {
         "data": {
          "application/vnd.jupyter.widget-view+json": {
           "model_id": "d332c1cbf7254c359ec37ec12509df3a",
           "version_major": 2,
           "version_minor": 0
          },
          "text/plain": "Canvas(toolbar=Toolbar(toolitems=[('Home', 'Reset original view', 'home', 'home'), ('Back', 'Back to previous …"
         },
         "metadata": {},
         "output_type": "display_data"
        }
       ]
      }
     },
     "03b470130b0a4a2eaa1f1ffe50b5e92c": {
      "model_module": "@jupyter-widgets/controls",
      "model_module_version": "1.5.0",
      "model_name": "ButtonStyleModel",
      "state": {}
     },
     "03f00130f5034fc68c0f853398082d20": {
      "model_module": "@jupyter-widgets/controls",
      "model_module_version": "1.5.0",
      "model_name": "SliderStyleModel",
      "state": {
       "description_width": ""
      }
     },
     "04003284cd984b7ab18afc30cf6b6d15": {
      "model_module": "@jupyter-widgets/base",
      "model_module_version": "1.2.0",
      "model_name": "LayoutModel",
      "state": {}
     },
     "0403f6bea0a64a3c80f8c5e67bf8b7be": {
      "model_module": "@jupyter-widgets/base",
      "model_module_version": "1.2.0",
      "model_name": "LayoutModel",
      "state": {}
     },
     "0477975b92ab4926bb64a87520313006": {
      "model_module": "@jupyter-widgets/base",
      "model_module_version": "1.2.0",
      "model_name": "LayoutModel",
      "state": {}
     },
     "052d928961444610b4739729129b478b": {
      "model_module": "@jupyter-widgets/controls",
      "model_module_version": "1.5.0",
      "model_name": "FloatSliderModel",
      "state": {
       "description": "45°",
       "layout": "IPY_MODEL_2f067bb7ee744c8dab0806a8655ca306",
       "max": 1,
       "min": -1,
       "step": 0.01,
       "style": "IPY_MODEL_73d953bbf5c946c9b6891756375aaa81"
      }
     },
     "056ebc8b14894ee58ea0eb38b6940009": {
      "model_module": "@jupyter-widgets/base",
      "model_module_version": "1.2.0",
      "model_name": "LayoutModel",
      "state": {}
     },
     "058e00eecc5c4427be568ab6d83a54f6": {
      "model_module": "@jupyter-widgets/controls",
      "model_module_version": "1.5.0",
      "model_name": "ButtonModel",
      "state": {
       "description": "Export Image",
       "layout": "IPY_MODEL_7c272bd1fa8842b0b5a0618ecf1ee49a",
       "style": "IPY_MODEL_2bfe8084c3a341fdbaa948940013deca"
      }
     },
     "059777754f5f49f8a6ecfba43ebe5df2": {
      "model_module": "@jupyter-widgets/controls",
      "model_module_version": "1.5.0",
      "model_name": "HBoxModel",
      "state": {
       "children": [
        "IPY_MODEL_5b9c807659f243f39df793fe2cc5b2b6",
        "IPY_MODEL_f1b9f1a9001e4f53bcfc3e828984493c"
       ],
       "layout": "IPY_MODEL_b75a24163ea040df8cb6667515aa6357"
      }
     },
     "05b82a151e0c4c62b2f7052b0a72d8bd": {
      "model_module": "@jupyter-widgets/controls",
      "model_module_version": "1.5.0",
      "model_name": "SliderStyleModel",
      "state": {
       "description_width": ""
      }
     },
     "060f5ee5a094484085e874f7717f57bc": {
      "model_module": "@jupyter-widgets/controls",
      "model_module_version": "1.5.0",
      "model_name": "DropdownModel",
      "state": {
       "_options_labels": [
        "tanh",
        "simple"
       ],
       "description": "Compression Function:",
       "index": 0,
       "layout": "IPY_MODEL_f7fe8e9fd2f54f0fa0e57773d6373cf3",
       "style": "IPY_MODEL_4294980d60254b418e51fece41e9f0bf"
      }
     },
     "065424b3c1954c1d820b01665bb257e9": {
      "model_module": "@jupyter-widgets/controls",
      "model_module_version": "1.5.0",
      "model_name": "FloatSliderModel",
      "state": {
       "description": "90°",
       "layout": "IPY_MODEL_9ffb94b58d4c4cc6becc30d65f795e1e",
       "max": 1,
       "min": -1,
       "step": 0.01,
       "style": "IPY_MODEL_19524a0eba1b4a3680f7af0f8ec9ff9c"
      }
     },
     "0654da3e46cf42729618ead1eff63133": {
      "model_module": "@jupyter-widgets/controls",
      "model_module_version": "1.5.0",
      "model_name": "FloatSliderModel",
      "state": {
       "description": "270°",
       "layout": "IPY_MODEL_26aad57c2b19467ab7290d5a39c2314c",
       "max": 1,
       "min": -1,
       "step": 0.01,
       "style": "IPY_MODEL_0b0be666e028442995e6d98f80e3f9c4"
      }
     },
     "0669a0b601f34b2893c95f6724e4626e": {
      "model_module": "@jupyter-widgets/base",
      "model_module_version": "1.2.0",
      "model_name": "LayoutModel",
      "state": {}
     },
     "066f4f1643a747688c4f1cd1f3f9a6c0": {
      "model_module": "@jupyter-widgets/base",
      "model_module_version": "1.2.0",
      "model_name": "LayoutModel",
      "state": {}
     },
     "068eafa685d642ff8d85362e2a106367": {
      "model_module": "@jupyter-widgets/controls",
      "model_module_version": "1.5.0",
      "model_name": "ButtonModel",
      "state": {
       "description": "Export Image",
       "layout": "IPY_MODEL_dec6d8e41b244a78881b5d09fe7e38c9",
       "style": "IPY_MODEL_919fa3a3d91643fca6ffa4416c1b823d"
      }
     },
     "069a4e24ee8d41108b18887ba5593ed4": {
      "model_module": "@jupyter-widgets/base",
      "model_module_version": "1.2.0",
      "model_name": "LayoutModel",
      "state": {}
     },
     "06e3dac148ce427988a5268641b0d33c": {
      "model_module": "@jupyter-widgets/controls",
      "model_module_version": "1.5.0",
      "model_name": "ButtonModel",
      "state": {
       "description": "Reset Compression Controls",
       "layout": "IPY_MODEL_97dbe1c0ee1c4ebbbe489ccfe1d47e37",
       "style": "IPY_MODEL_45ab5a0b6c1e4155aad09f8dd943b064"
      }
     },
     "06eea7b8ac7b48eca0f6c19b9dca0b03": {
      "model_module": "@jupyter-widgets/output",
      "model_module_version": "1.0.0",
      "model_name": "OutputModel",
      "state": {
       "layout": "IPY_MODEL_1d9c0db3d8b948cea190f6176a65f360",
       "outputs": [
        {
         "data": {
          "application/vnd.jupyter.widget-view+json": {
           "model_id": "af36c34fd9b24bddb3ec3975d6037b19",
           "version_major": 2,
           "version_minor": 0
          },
          "text/plain": "Canvas(toolbar=Toolbar(toolitems=[('Home', 'Reset original view', 'home', 'home'), ('Back', 'Back to previous …"
         },
         "metadata": {},
         "output_type": "display_data"
        }
       ]
      }
     },
     "06f0d2f4b30e4dc5a0f97764765e4a84": {
      "model_module": "@jupyter-widgets/controls",
      "model_module_version": "1.5.0",
      "model_name": "FloatSliderModel",
      "state": {
       "description": "90°",
       "layout": "IPY_MODEL_35ccd45be395489c8d9aed05c8356e98",
       "max": 1,
       "min": -1,
       "step": 0.01,
       "style": "IPY_MODEL_97bb392f79a5484bb3dd35c807edb4ec"
      }
     },
     "0724d498f446437bad6ddb404818beab": {
      "model_module": "@jupyter-widgets/controls",
      "model_module_version": "1.5.0",
      "model_name": "ButtonModel",
      "state": {
       "description": "Reset Saturation Controls",
       "layout": "IPY_MODEL_20c471181cad4b1ab7131051a7c4ee21",
       "style": "IPY_MODEL_4cc11493c7474b93b9d5c7afcf363a2d"
      }
     },
     "0735b2841b624f73b61ec7578798632e": {
      "model_module": "@jupyter-widgets/base",
      "model_module_version": "1.2.0",
      "model_name": "LayoutModel",
      "state": {}
     },
     "076850f2e5014d82a8a8a8b99308b510": {
      "model_module": "@jupyter-widgets/base",
      "model_module_version": "1.2.0",
      "model_name": "LayoutModel",
      "state": {}
     },
     "076abf31e2a94508974aabedbe1f6ab6": {
      "model_module": "@jupyter-widgets/controls",
      "model_module_version": "1.5.0",
      "model_name": "BoxModel",
      "state": {
       "children": [
        "IPY_MODEL_cc987fb2c5ae4ee78d557d18fc5f0671",
        "IPY_MODEL_c209e7aa81384d6ea9d72674253c986b"
       ],
       "layout": "IPY_MODEL_fbc642d02637401ebb792b39777775c9"
      }
     },
     "079131fab38c458ab0f6c4b7a7626134": {
      "model_module": "@jupyter-widgets/base",
      "model_module_version": "1.2.0",
      "model_name": "LayoutModel",
      "state": {}
     },
     "079b3d1e642040a3a637d73e1f2c0a55": {
      "model_module": "@jupyter-widgets/base",
      "model_module_version": "1.2.0",
      "model_name": "LayoutModel",
      "state": {}
     },
     "07b5b6b0149a4024ae783a6e9d060c74": {
      "model_module": "@jupyter-widgets/output",
      "model_module_version": "1.0.0",
      "model_name": "OutputModel",
      "state": {
       "layout": "IPY_MODEL_ef60c24eacde445588a50f126a8e9e39",
       "outputs": [
        {
         "data": {
          "application/vnd.jupyter.widget-view+json": {
           "model_id": "d363381e9de1435ab96686ad738093b5",
           "version_major": 2,
           "version_minor": 0
          },
          "text/plain": "Canvas(toolbar=Toolbar(toolitems=[('Home', 'Reset original view', 'home', 'home'), ('Back', 'Back to previous …"
         },
         "metadata": {},
         "output_type": "display_data"
        }
       ]
      }
     },
     "07cf23a6995245299b0ff07a9eb66c1f": {
      "model_module": "@jupyter-widgets/base",
      "model_module_version": "1.2.0",
      "model_name": "LayoutModel",
      "state": {}
     },
     "07df18d190dc4168ae95374f1b5e326b": {
      "model_module": "@jupyter-widgets/controls",
      "model_module_version": "1.5.0",
      "model_name": "ButtonStyleModel",
      "state": {}
     },
     "07fac699f5d2489f93a183766cc1456d": {
      "model_module": "@jupyter-widgets/controls",
      "model_module_version": "1.5.0",
      "model_name": "ButtonStyleModel",
      "state": {}
     },
     "0801379307ee4729bdc33d7b8d2f2ab1": {
      "model_module": "@jupyter-widgets/controls",
      "model_module_version": "1.5.0",
      "model_name": "ButtonStyleModel",
      "state": {}
     },
     "08be3fbc885d461f971b7614a57c4862": {
      "model_module": "jupyter-matplotlib",
      "model_module_version": "^0.7.2",
      "model_name": "ToolbarModel",
      "state": {
       "layout": "IPY_MODEL_25c60682e6b8431ba9a5ba5be26fde3c",
       "toolitems": [
        [
         "Home",
         "Reset original view",
         "home",
         "home"
        ],
        [
         "Back",
         "Back to previous view",
         "arrow-left",
         "back"
        ],
        [
         "Forward",
         "Forward to next view",
         "arrow-right",
         "forward"
        ],
        [
         "Pan",
         "Pan axes with left mouse, zoom with right",
         "arrows",
         "pan"
        ],
        [
         "Zoom",
         "Zoom to rectangle",
         "square-o",
         "zoom"
        ],
        [
         "Download",
         "Download plot",
         "floppy-o",
         "save_figure"
        ]
       ]
      }
     },
     "08c8157fcc7a4f4f92d879c16d31f6c8": {
      "model_module": "@jupyter-widgets/controls",
      "model_module_version": "1.5.0",
      "model_name": "SliderStyleModel",
      "state": {
       "description_width": ""
      }
     },
     "094995028c6a42da8c8a45dff7124da1": {
      "model_module": "@jupyter-widgets/controls",
      "model_module_version": "1.5.0",
      "model_name": "SliderStyleModel",
      "state": {
       "description_width": ""
      }
     },
     "0950a5cbee12484aba0f20416d8a8c21": {
      "model_module": "@jupyter-widgets/base",
      "model_module_version": "1.2.0",
      "model_name": "LayoutModel",
      "state": {}
     },
     "0979fbbe25d544a987d3d2552761bffc": {
      "model_module": "@jupyter-widgets/base",
      "model_module_version": "1.2.0",
      "model_name": "LayoutModel",
      "state": {}
     },
     "09df0dd5cdb441549bdb56160ebce9f2": {
      "model_module": "@jupyter-widgets/base",
      "model_module_version": "1.2.0",
      "model_name": "LayoutModel",
      "state": {}
     },
     "0a24b17a78da4d14a5172bfcd6a55014": {
      "model_module": "@jupyter-widgets/controls",
      "model_module_version": "1.5.0",
      "model_name": "ButtonModel",
      "state": {
       "description": "Reset Hue Controls",
       "layout": "IPY_MODEL_9cf00cedecea4dcc8ec4b59e50f9eff6",
       "style": "IPY_MODEL_538a780fed36430690017da0ddd724ed"
      }
     },
     "0a3dbf8eb5be48f88f25b3bea00cbcbe": {
      "model_module": "@jupyter-widgets/base",
      "model_module_version": "1.2.0",
      "model_name": "LayoutModel",
      "state": {}
     },
     "0a774aab8dc84b8a982e5999e2976902": {
      "model_module": "@jupyter-widgets/base",
      "model_module_version": "1.2.0",
      "model_name": "LayoutModel",
      "state": {}
     },
     "0b0be666e028442995e6d98f80e3f9c4": {
      "model_module": "@jupyter-widgets/controls",
      "model_module_version": "1.5.0",
      "model_name": "SliderStyleModel",
      "state": {
       "description_width": ""
      }
     },
     "0b4bd34d8fc14791b5c20b1213e2b07d": {
      "model_module": "@jupyter-widgets/controls",
      "model_module_version": "1.5.0",
      "model_name": "SliderStyleModel",
      "state": {
       "description_width": ""
      }
     },
     "0b58420ad2be4f39921e482341b959a9": {
      "model_module": "@jupyter-widgets/controls",
      "model_module_version": "1.5.0",
      "model_name": "DescriptionStyleModel",
      "state": {
       "description_width": ""
      }
     },
     "0c24398932bb4b9fb93e6a3f3687c5ab": {
      "model_module": "@jupyter-widgets/controls",
      "model_module_version": "1.5.0",
      "model_name": "FloatSliderModel",
      "state": {
       "description": "270°",
       "layout": "IPY_MODEL_01a02d71bac54590a9c431049da33016",
       "max": 1,
       "min": -1,
       "step": 0.01,
       "style": "IPY_MODEL_7af900c65bf54b7a8e04bee480611c6b"
      }
     },
     "0c605f555e424a8db5e502808ffe4f19": {
      "model_module": "@jupyter-widgets/controls",
      "model_module_version": "1.5.0",
      "model_name": "DescriptionStyleModel",
      "state": {
       "description_width": ""
      }
     },
     "0c9bba0e1f054c579db458d4e4b8e045": {
      "model_module": "@jupyter-widgets/controls",
      "model_module_version": "1.5.0",
      "model_name": "FloatSliderModel",
      "state": {
       "description": "45°",
       "layout": "IPY_MODEL_46ccd1a2fcaf4d10be428a93949ba3e9",
       "max": 1,
       "min": -1,
       "step": 0.01,
       "style": "IPY_MODEL_a1c03e70589149458feb854d728e01cc"
      }
     },
     "0d02c3a9882141f1b5c79308695b9758": {
      "model_module": "@jupyter-widgets/base",
      "model_module_version": "1.2.0",
      "model_name": "LayoutModel",
      "state": {}
     },
     "0d195935959447ef9588fb4fa31d5a55": {
      "model_module": "@jupyter-widgets/base",
      "model_module_version": "1.2.0",
      "model_name": "LayoutModel",
      "state": {}
     },
     "0d199f20f6f748b3b03277469e70361d": {
      "model_module": "@jupyter-widgets/controls",
      "model_module_version": "1.5.0",
      "model_name": "BoxModel",
      "state": {
       "children": [
        "IPY_MODEL_03465a79d13541a58b0227084fb4e0ad",
        "IPY_MODEL_cb6d12be3b2448bca11c29743181b29c"
       ],
       "layout": "IPY_MODEL_d754bb58e6764458acfc84f4c43dfee2"
      }
     },
     "0d473198fc6a42a6ac2f93d93b2638af": {
      "model_module": "@jupyter-widgets/controls",
      "model_module_version": "1.5.0",
      "model_name": "SliderStyleModel",
      "state": {
       "description_width": ""
      }
     },
     "0dce0ac078d340e290a99e2f1e03f98f": {
      "model_module": "@jupyter-widgets/base",
      "model_module_version": "1.2.0",
      "model_name": "LayoutModel",
      "state": {}
     },
     "0dedabf802a14684af58ea8b8cb2c41a": {
      "model_module": "@jupyter-widgets/base",
      "model_module_version": "1.2.0",
      "model_name": "LayoutModel",
      "state": {}
     },
     "0ea57b82c46549338e3033fddfaaf660": {
      "model_module": "@jupyter-widgets/controls",
      "model_module_version": "1.5.0",
      "model_name": "TabModel",
      "state": {
       "_titles": {
        "0": "Global Controls",
        "1": "Compression Controls"
       },
       "children": [
        "IPY_MODEL_7d1992d04c294ad694bef12dfe7d9794",
        "IPY_MODEL_38af74648b18414f9029ac5aea01ef76"
       ],
       "layout": "IPY_MODEL_189b5da47b0a42db8ab53ea15280f3fc"
      }
     },
     "0ed555a60b78418bba8caf823c6ff2e5": {
      "model_module": "@jupyter-widgets/base",
      "model_module_version": "1.2.0",
      "model_name": "LayoutModel",
      "state": {}
     },
     "0eea38291c5f4383a4a8986fc323cffa": {
      "model_module": "@jupyter-widgets/base",
      "model_module_version": "1.2.0",
      "model_name": "LayoutModel",
      "state": {
       "border": "solid 4px #222",
       "margin": "4px",
       "padding": "0"
      }
     },
     "0ef4cd4869a54b4ba1cc0e9f5362f3d6": {
      "model_module": "@jupyter-widgets/controls",
      "model_module_version": "1.5.0",
      "model_name": "VBoxModel",
      "state": {
       "children": [
        "IPY_MODEL_637c140fdccf45ebab637b24137a03eb",
        "IPY_MODEL_bf5e71a0728d4534a92bada10f6f2ea9",
        "IPY_MODEL_06f0d2f4b30e4dc5a0f97764765e4a84"
       ],
       "layout": "IPY_MODEL_a6fd0f64f02047898fe74aadb2d50b87"
      }
     },
     "0f25eaa34083421d86ca89cfc4774b69": {
      "model_module": "jupyter-matplotlib",
      "model_module_version": "^0.7.2",
      "model_name": "MPLCanvasModel",
      "state": {
       "_figure_label": "Figure 1",
       "_height": 458,
       "_width": 1100,
       "header_visible": false,
       "layout": "IPY_MODEL_25068f1ecc8d46c191a68f8565f2674e",
       "resizable": false,
       "toolbar": "IPY_MODEL_f42db9369ec14661a7f5553db0fedf08",
       "toolbar_position": "left",
       "toolbar_visible": false
      }
     },
     "0f280e724e97415fbb9b9312bdf69e73": {
      "model_module": "@jupyter-widgets/controls",
      "model_module_version": "1.5.0",
      "model_name": "DescriptionStyleModel",
      "state": {
       "description_width": ""
      }
     },
     "0f4dd6d947f741ae97559f7e4f9a917a": {
      "model_module": "@jupyter-widgets/controls",
      "model_module_version": "1.5.0",
      "model_name": "SliderStyleModel",
      "state": {
       "description_width": ""
      }
     },
     "0fa04368d0834978bbc790c94384845b": {
      "model_module": "@jupyter-widgets/base",
      "model_module_version": "1.2.0",
      "model_name": "LayoutModel",
      "state": {}
     },
     "0fccd213fb994af19c749c860c410fe8": {
      "model_module": "@jupyter-widgets/base",
      "model_module_version": "1.2.0",
      "model_name": "LayoutModel",
      "state": {}
     },
     "100a33919d25443cbed63c1542d3d72f": {
      "model_module": "@jupyter-widgets/controls",
      "model_module_version": "1.5.0",
      "model_name": "ButtonStyleModel",
      "state": {}
     },
     "109e22ba20774961ac7effc8dd218934": {
      "model_module": "@jupyter-widgets/controls",
      "model_module_version": "1.5.0",
      "model_name": "ButtonStyleModel",
      "state": {}
     },
     "10c26cd4ed534ede96657993329abb94": {
      "model_module": "@jupyter-widgets/controls",
      "model_module_version": "1.5.0",
      "model_name": "FloatSliderModel",
      "state": {
       "description": "Exposure",
       "layout": "IPY_MODEL_b3e1436122ce4cf6b9fdea99cb18ec77",
       "max": 8,
       "min": -8,
       "step": 0.1,
       "style": "IPY_MODEL_7ed87da9cd4242c89ac28688d9e4dead"
      }
     },
     "10c8507846b54400a65ef279a1abd942": {
      "model_module": "@jupyter-widgets/controls",
      "model_module_version": "1.5.0",
      "model_name": "SliderStyleModel",
      "state": {
       "description_width": ""
      }
     },
     "10d8665d64eb42aa81d1c778cce894d2": {
      "model_module": "@jupyter-widgets/base",
      "model_module_version": "1.2.0",
      "model_name": "LayoutModel",
      "state": {}
     },
     "10e9c605bf764a4ea193423a26bf8570": {
      "model_module": "@jupyter-widgets/controls",
      "model_module_version": "1.5.0",
      "model_name": "ButtonModel",
      "state": {
       "description": "Reset Saturation Controls",
       "layout": "IPY_MODEL_14e64885775a460e940cd2a446b8c1db",
       "style": "IPY_MODEL_b6eeac1c31744ed092b8817db47820a9"
      }
     },
     "10f632fcf8b84e6c8f38939cc40f6c5d": {
      "model_module": "@jupyter-widgets/base",
      "model_module_version": "1.2.0",
      "model_name": "LayoutModel",
      "state": {
       "border": "solid 4px #222",
       "margin": "4px",
       "padding": "0"
      }
     },
     "112dfdf8b55f4927854051c3bcc664c0": {
      "model_module": "@jupyter-widgets/controls",
      "model_module_version": "1.5.0",
      "model_name": "ButtonModel",
      "state": {
       "description": "Export Image",
       "layout": "IPY_MODEL_c0dbdbbb06114ec7a0346825a080eea8",
       "style": "IPY_MODEL_b8b37f244bc44da592e4ec2cc7809b2f"
      }
     },
     "116aed889c6245ee81cea142b30c0db7": {
      "model_module": "@jupyter-widgets/controls",
      "model_module_version": "1.5.0",
      "model_name": "SliderStyleModel",
      "state": {
       "description_width": ""
      }
     },
     "118894183e3d456db842e2f8bfc0b168": {
      "model_module": "@jupyter-widgets/controls",
      "model_module_version": "1.5.0",
      "model_name": "SliderStyleModel",
      "state": {
       "description_width": ""
      }
     },
     "121e51d0d0fb461bb9dfebb05a666a40": {
      "model_module": "@jupyter-widgets/base",
      "model_module_version": "1.2.0",
      "model_name": "LayoutModel",
      "state": {}
     },
     "1227fd9745274960ba39ea7e89429779": {
      "model_module": "@jupyter-widgets/controls",
      "model_module_version": "1.5.0",
      "model_name": "FloatSliderModel",
      "state": {
       "description": "270°",
       "layout": "IPY_MODEL_066f4f1643a747688c4f1cd1f3f9a6c0",
       "max": 1,
       "min": -1,
       "step": 0.01,
       "style": "IPY_MODEL_865917ec8e9949d9a9bc685b248141b0"
      }
     },
     "1234f2b8762c46d09b87448ee10a7bf2": {
      "model_module": "@jupyter-widgets/base",
      "model_module_version": "1.2.0",
      "model_name": "LayoutModel",
      "state": {}
     },
     "125baba913da4af08e94131815c357a9": {
      "model_module": "@jupyter-widgets/controls",
      "model_module_version": "1.5.0",
      "model_name": "TabModel",
      "state": {
       "_titles": {
        "0": "Global Controls",
        "1": "Compression Controls"
       },
       "children": [
        "IPY_MODEL_ec58b66659da4906b380237fdc35f95f",
        "IPY_MODEL_26cfed5de590497f84d12138cfe36c3b"
       ],
       "layout": "IPY_MODEL_5a0f2cc03c4c47adb67615a9eb059630"
      }
     },
     "12603a4fe6034946b15041bbef01de94": {
      "model_module": "@jupyter-widgets/base",
      "model_module_version": "1.2.0",
      "model_name": "LayoutModel",
      "state": {
       "align_items": "stretch",
       "display": "flex",
       "flex_flow": "column",
       "width": "1128px"
      }
     },
     "12740ef5a3084f278407dba60335d676": {
      "model_module": "@jupyter-widgets/controls",
      "model_module_version": "1.5.0",
      "model_name": "VBoxModel",
      "state": {
       "children": [
        "IPY_MODEL_a500eed870f14ec2914d0cde963272e3",
        "IPY_MODEL_60f4f04f636a4aacbfb23b8edd7369ef",
        "IPY_MODEL_bd116ea6a3bb4d5b841b8243cd4b7382"
       ],
       "layout": "IPY_MODEL_0a774aab8dc84b8a982e5999e2976902"
      }
     },
     "12ac299402524673b62ca76dd9e04d5d": {
      "model_module": "@jupyter-widgets/controls",
      "model_module_version": "1.5.0",
      "model_name": "FloatSliderModel",
      "state": {
       "description": "90°",
       "layout": "IPY_MODEL_0735b2841b624f73b61ec7578798632e",
       "max": 1,
       "min": -1,
       "step": 0.01,
       "style": "IPY_MODEL_7a480c71482243469c70019190d3c411"
      }
     },
     "12afb485d44e4734b24d3a04125b5616": {
      "model_module": "@jupyter-widgets/base",
      "model_module_version": "1.2.0",
      "model_name": "LayoutModel",
      "state": {}
     },
     "12d7d2546c7d43269994df0448c1073e": {
      "model_module": "@jupyter-widgets/controls",
      "model_module_version": "1.5.0",
      "model_name": "FloatSliderModel",
      "state": {
       "description": "0°",
       "layout": "IPY_MODEL_fc5ef1ffb75a474db117087537c75eb8",
       "max": 1,
       "min": -1,
       "step": 0.01,
       "style": "IPY_MODEL_a1b22125d6074453b93fca32970cb0ab"
      }
     },
     "130dd6a4710c49c2ab2643e20e14bc80": {
      "model_module": "@jupyter-widgets/controls",
      "model_module_version": "1.5.0",
      "model_name": "ButtonModel",
      "state": {
       "description": "Reset Saturation Controls",
       "layout": "IPY_MODEL_4c6c0ea535c3441d83cdb0c241867b50",
       "style": "IPY_MODEL_3602496ef2e545b0b110deb1f22adf2f"
      }
     },
     "133abedd0c714cf49bc53df31d6c1a8d": {
      "model_module": "@jupyter-widgets/controls",
      "model_module_version": "1.5.0",
      "model_name": "FloatSliderModel",
      "state": {
       "description": "270°",
       "layout": "IPY_MODEL_68febf762699485991109e1c4e5b9fd3",
       "max": 1,
       "min": -1,
       "step": 0.01,
       "style": "IPY_MODEL_c9935b92ce4d4bdaa75489a4d89dae6e"
      }
     },
     "1388c27a3fdd441bb6ec6938581503ae": {
      "model_module": "@jupyter-widgets/controls",
      "model_module_version": "1.5.0",
      "model_name": "HBoxModel",
      "state": {
       "children": [
        "IPY_MODEL_eaeeb531f726455080e7004772bef551",
        "IPY_MODEL_f519b04370144c31a13d0d7c14f655d7"
       ],
       "layout": "IPY_MODEL_a31442c6dbd943c698ceca3f0b976e55"
      }
     },
     "138a7c73c70640c78f518e1b040db914": {
      "model_module": "@jupyter-widgets/controls",
      "model_module_version": "1.5.0",
      "model_name": "ButtonStyleModel",
      "state": {}
     },
     "13ca687c7e084ed38e1297d09b304fd4": {
      "model_module": "@jupyter-widgets/controls",
      "model_module_version": "1.5.0",
      "model_name": "FloatSliderModel",
      "state": {
       "description": "135°",
       "layout": "IPY_MODEL_9a73a4f7d2dc42a39e7aff4486faedf4",
       "max": 1,
       "min": -1,
       "step": 0.01,
       "style": "IPY_MODEL_fc96578f59f74d36a64a68e46570fc6b"
      }
     },
     "13d1ab9f5e464b62acd76d8646e2ec2c": {
      "model_module": "@jupyter-widgets/base",
      "model_module_version": "1.2.0",
      "model_name": "LayoutModel",
      "state": {}
     },
     "13d8ebf5b51841cabaa93897813f5cb9": {
      "model_module": "@jupyter-widgets/controls",
      "model_module_version": "1.5.0",
      "model_name": "DescriptionStyleModel",
      "state": {
       "description_width": ""
      }
     },
     "1439634b99744faa9eb818765f5147b6": {
      "model_module": "@jupyter-widgets/controls",
      "model_module_version": "1.5.0",
      "model_name": "ButtonModel",
      "state": {
       "description": "Export Image",
       "layout": "IPY_MODEL_e9c2fe4d551b4e30aac2c5d7e4e2a1b4",
       "style": "IPY_MODEL_771ff8683a7a4e32bb0d6107b860d7fe"
      }
     },
     "14c026087c064141a43fdd84939f5a27": {
      "model_module": "@jupyter-widgets/base",
      "model_module_version": "1.2.0",
      "model_name": "LayoutModel",
      "state": {}
     },
     "14d1d4464ded41c58a3213f3df479b8f": {
      "model_module": "@jupyter-widgets/controls",
      "model_module_version": "1.5.0",
      "model_name": "DescriptionStyleModel",
      "state": {
       "description_width": ""
      }
     },
     "14e64885775a460e940cd2a446b8c1db": {
      "model_module": "@jupyter-widgets/base",
      "model_module_version": "1.2.0",
      "model_name": "LayoutModel",
      "state": {}
     },
     "152a820bfe3144c58a869566eb4d57a0": {
      "model_module": "@jupyter-widgets/base",
      "model_module_version": "1.2.0",
      "model_name": "LayoutModel",
      "state": {}
     },
     "153b9112ad0344bcaa470b75ff6a6560": {
      "model_module": "@jupyter-widgets/controls",
      "model_module_version": "1.5.0",
      "model_name": "ButtonModel",
      "state": {
       "description": "Save Figure",
       "layout": "IPY_MODEL_56c07d80ab5244018dbba5dea2521c77",
       "style": "IPY_MODEL_961f64b175d746338baf0d18746c9836"
      }
     },
     "153daeb457d44afa8ea69fea59be95bb": {
      "model_module": "@jupyter-widgets/controls",
      "model_module_version": "1.5.0",
      "model_name": "ButtonModel",
      "state": {
       "description": "Export Image",
       "layout": "IPY_MODEL_a3e81ba7a1594b48b390717a9ec8cff5",
       "style": "IPY_MODEL_5daf77c3f11d4f228d57a9923dba0767"
      }
     },
     "154966a261b9417d9fdf8fdaddb270b1": {
      "model_module": "@jupyter-widgets/base",
      "model_module_version": "1.2.0",
      "model_name": "LayoutModel",
      "state": {}
     },
     "155381b90fc44b0bafebbea0ca8fa731": {
      "model_module": "@jupyter-widgets/base",
      "model_module_version": "1.2.0",
      "model_name": "LayoutModel",
      "state": {}
     },
     "156ee210f6444364a5464787e27f6f18": {
      "model_module": "@jupyter-widgets/base",
      "model_module_version": "1.2.0",
      "model_name": "LayoutModel",
      "state": {}
     },
     "15c63d9091ba48e8b880bb31cc136b66": {
      "model_module": "@jupyter-widgets/base",
      "model_module_version": "1.2.0",
      "model_name": "LayoutModel",
      "state": {}
     },
     "15defbf89cb64be4b7594d24cf8c9c3e": {
      "model_module": "@jupyter-widgets/controls",
      "model_module_version": "1.5.0",
      "model_name": "DescriptionStyleModel",
      "state": {
       "description_width": ""
      }
     },
     "15fb514abb8d4e9caf72b6de573afe6e": {
      "model_module": "@jupyter-widgets/controls",
      "model_module_version": "1.5.0",
      "model_name": "ButtonStyleModel",
      "state": {}
     },
     "16022d7b6ea9450fb9303b17109db39f": {
      "model_module": "@jupyter-widgets/base",
      "model_module_version": "1.2.0",
      "model_name": "LayoutModel",
      "state": {}
     },
     "1619394b7e1241b8a0ef0ead67447bd3": {
      "model_module": "@jupyter-widgets/controls",
      "model_module_version": "1.5.0",
      "model_name": "SliderStyleModel",
      "state": {
       "description_width": ""
      }
     },
     "1629b4a21c5840919af8f4410071a964": {
      "model_module": "@jupyter-widgets/controls",
      "model_module_version": "1.5.0",
      "model_name": "FloatSliderModel",
      "state": {
       "description": "225°",
       "layout": "IPY_MODEL_246acf4de0484a8f9b16f90a317d26d8",
       "max": 1,
       "min": -1,
       "step": 0.01,
       "style": "IPY_MODEL_249918741eee45c2a8c2f81faca2a8fa"
      }
     },
     "1632a6648f024d21b8c8785139c4b8ac": {
      "model_module": "@jupyter-widgets/controls",
      "model_module_version": "1.5.0",
      "model_name": "ButtonStyleModel",
      "state": {}
     },
     "165942b53cac4aa4837cf36495b42d16": {
      "model_module": "@jupyter-widgets/controls",
      "model_module_version": "1.5.0",
      "model_name": "ButtonStyleModel",
      "state": {}
     },
     "167e202fcb434337b3cc2b8c2aafb112": {
      "model_module": "@jupyter-widgets/base",
      "model_module_version": "1.2.0",
      "model_name": "LayoutModel",
      "state": {}
     },
     "16a0bb65ffdc4de69f48cf73d87d057a": {
      "model_module": "@jupyter-widgets/controls",
      "model_module_version": "1.5.0",
      "model_name": "SliderStyleModel",
      "state": {
       "description_width": ""
      }
     },
     "16d23f2d0e4b4bed868c0f9d3e7e371c": {
      "model_module": "@jupyter-widgets/controls",
      "model_module_version": "1.5.0",
      "model_name": "FloatSliderModel",
      "state": {
       "description": "135°",
       "layout": "IPY_MODEL_9cc7a0d802e347d4a952b6c40263ec81",
       "max": 1,
       "min": -1,
       "step": 0.01,
       "style": "IPY_MODEL_f3a450c4d32e400ebdef34af5453ad9e"
      }
     },
     "16d81976064b4263bf612e8c30f42eb5": {
      "model_module": "@jupyter-widgets/base",
      "model_module_version": "1.2.0",
      "model_name": "LayoutModel",
      "state": {}
     },
     "170149d705764fa297321455ee0e2c6e": {
      "model_module": "@jupyter-widgets/controls",
      "model_module_version": "1.5.0",
      "model_name": "FloatSliderModel",
      "state": {
       "description": "Exposure",
       "layout": "IPY_MODEL_abf77627ef184152ad603f3894a43dc8",
       "max": 8,
       "min": -8,
       "step": 0.1,
       "style": "IPY_MODEL_6bae4bf831af42faacfb184159c264ed"
      }
     },
     "175461422d3f49e58d6e691b09538ad4": {
      "model_module": "@jupyter-widgets/base",
      "model_module_version": "1.2.0",
      "model_name": "LayoutModel",
      "state": {}
     },
     "1759e94ec28343f4a4310fca1c362bea": {
      "model_module": "@jupyter-widgets/base",
      "model_module_version": "1.2.0",
      "model_name": "LayoutModel",
      "state": {}
     },
     "175d8e69e9244eda9b2e9454dcb21bd7": {
      "model_module": "@jupyter-widgets/controls",
      "model_module_version": "1.5.0",
      "model_name": "FloatSliderModel",
      "state": {
       "description": "Protected Area Threshold",
       "layout": "IPY_MODEL_ea51ea90d9d84388ab48f0cc790f57d1",
       "max": 1,
       "step": 0.01,
       "style": "IPY_MODEL_e5e9cd6913274539b7bcdb0503fbe771",
       "value": 0.5
      }
     },
     "177d009de8e94389946cde853dc16369": {
      "model_module": "@jupyter-widgets/base",
      "model_module_version": "1.2.0",
      "model_name": "LayoutModel",
      "state": {}
     },
     "17efc26b55e247ea929bff1f011d2754": {
      "model_module": "@jupyter-widgets/base",
      "model_module_version": "1.2.0",
      "model_name": "LayoutModel",
      "state": {}
     },
     "1807b082189c40f697c8de482115cea6": {
      "model_module": "@jupyter-widgets/base",
      "model_module_version": "1.2.0",
      "model_name": "LayoutModel",
      "state": {}
     },
     "1816b5a3728946e4a9e6b90a189cfb22": {
      "model_module": "@jupyter-widgets/base",
      "model_module_version": "1.2.0",
      "model_name": "LayoutModel",
      "state": {}
     },
     "187b119a235040dcb14da0c85e6db8d6": {
      "model_module": "@jupyter-widgets/controls",
      "model_module_version": "1.5.0",
      "model_name": "SliderStyleModel",
      "state": {
       "description_width": ""
      }
     },
     "189b5da47b0a42db8ab53ea15280f3fc": {
      "model_module": "@jupyter-widgets/base",
      "model_module_version": "1.2.0",
      "model_name": "LayoutModel",
      "state": {
       "border": "solid 4px #222",
       "margin": "4px",
       "padding": "0"
      }
     },
     "18ee06fcfae94e3e8b61ab011b364367": {
      "model_module": "@jupyter-widgets/base",
      "model_module_version": "1.2.0",
      "model_name": "LayoutModel",
      "state": {}
     },
     "18f432a7068c46f2b03a8ef3c0b2ac7d": {
      "model_module": "@jupyter-widgets/base",
      "model_module_version": "1.2.0",
      "model_name": "LayoutModel",
      "state": {}
     },
     "1904bc7ee6a5401e8f46b5c28470df9d": {
      "model_module": "@jupyter-widgets/controls",
      "model_module_version": "1.5.0",
      "model_name": "ButtonModel",
      "state": {
       "description": "Reset Hue Controls",
       "layout": "IPY_MODEL_079b3d1e642040a3a637d73e1f2c0a55",
       "style": "IPY_MODEL_d64571940fdb4145a00be1b0eb72abaf"
      }
     },
     "191a7d30b64a4c01929e835590a5be17": {
      "model_module": "@jupyter-widgets/controls",
      "model_module_version": "1.5.0",
      "model_name": "FloatSliderModel",
      "state": {
       "description": "Exposure",
       "layout": "IPY_MODEL_8a814c7856c74b85ab82587be5253a31",
       "max": 8,
       "min": -8,
       "step": 0.1,
       "style": "IPY_MODEL_acbb37f9aefb4a3aa8d9955949522006"
      }
     },
     "191d1e2d2b0c4bc7a3e0dc93990a9fc2": {
      "model_module": "@jupyter-widgets/base",
      "model_module_version": "1.2.0",
      "model_name": "LayoutModel",
      "state": {}
     },
     "1933a8b55536423da075d267c12bc650": {
      "model_module": "@jupyter-widgets/base",
      "model_module_version": "1.2.0",
      "model_name": "LayoutModel",
      "state": {}
     },
     "1938f5e5a70c43748c69788d9bb403ae": {
      "model_module": "@jupyter-widgets/output",
      "model_module_version": "1.0.0",
      "model_name": "OutputModel",
      "state": {
       "layout": "IPY_MODEL_ca0d6e2fc9bc4b6ab5487ae849572ded",
       "outputs": [
        {
         "data": {
          "application/vnd.jupyter.widget-view+json": {
           "model_id": "c8cca70bed4b46d08ac7b32b93f8a4b4",
           "version_major": 2,
           "version_minor": 0
          },
          "text/plain": "Canvas(toolbar=Toolbar(toolitems=[('Home', 'Reset original view', 'home', 'home'), ('Back', 'Back to previous …"
         },
         "metadata": {},
         "output_type": "display_data"
        }
       ]
      }
     },
     "19524a0eba1b4a3680f7af0f8ec9ff9c": {
      "model_module": "@jupyter-widgets/controls",
      "model_module_version": "1.5.0",
      "model_name": "SliderStyleModel",
      "state": {
       "description_width": ""
      }
     },
     "19bc01fdabfa4188a34cc0b5cc32d227": {
      "model_module": "@jupyter-widgets/controls",
      "model_module_version": "1.5.0",
      "model_name": "TabModel",
      "state": {
       "_titles": {
        "0": "Global Controls",
        "1": "Protected Area Controls",
        "2": "Saturation Controls",
        "3": "Hue Controls"
       },
       "children": [
        "IPY_MODEL_012097843b8d49ad8720ac6398bf6d0e",
        "IPY_MODEL_938790a843fa41e2a1090f2fd3486362",
        "IPY_MODEL_a5abaf1858e44fd99fb0eca77bf59a45",
        "IPY_MODEL_c85bbad1059542ef9690adc9901504ce"
       ],
       "layout": "IPY_MODEL_ff058459607c4a2193c76faeaed6ace7"
      }
     },
     "19e3d6e4e8134471a5b576802f752eab": {
      "model_module": "@jupyter-widgets/base",
      "model_module_version": "1.2.0",
      "model_name": "LayoutModel",
      "state": {}
     },
     "19fd7e15ef4a45b0b0e47c0a27e42098": {
      "model_module": "jupyter-matplotlib",
      "model_module_version": "^0.7.2",
      "model_name": "ToolbarModel",
      "state": {
       "layout": "IPY_MODEL_167e202fcb434337b3cc2b8c2aafb112",
       "toolitems": [
        [
         "Home",
         "Reset original view",
         "home",
         "home"
        ],
        [
         "Back",
         "Back to previous view",
         "arrow-left",
         "back"
        ],
        [
         "Forward",
         "Forward to next view",
         "arrow-right",
         "forward"
        ],
        [
         "Pan",
         "Pan axes with left mouse, zoom with right",
         "arrows",
         "pan"
        ],
        [
         "Zoom",
         "Zoom to rectangle",
         "square-o",
         "zoom"
        ],
        [
         "Download",
         "Download plot",
         "floppy-o",
         "save_figure"
        ]
       ]
      }
     },
     "1a3111cbfcdf4361a373c9af770eff65": {
      "model_module": "@jupyter-widgets/controls",
      "model_module_version": "1.5.0",
      "model_name": "SliderStyleModel",
      "state": {
       "description_width": ""
      }
     },
     "1a6331fc0edd48b098d1fb6c64a280ea": {
      "model_module": "@jupyter-widgets/controls",
      "model_module_version": "1.5.0",
      "model_name": "SliderStyleModel",
      "state": {
       "description_width": ""
      }
     },
     "1ae275f46e764791b85f0f409f22285a": {
      "model_module": "@jupyter-widgets/controls",
      "model_module_version": "1.5.0",
      "model_name": "CheckboxModel",
      "state": {
       "description": "Disable Medicina",
       "disabled": false,
       "layout": "IPY_MODEL_41e2e9275e3f46099036d8164bd731c5",
       "style": "IPY_MODEL_a8ea9eaf08324da9998ac03a5b1998ce",
       "value": false
      }
     },
     "1b2266d8eaef44f59822cab20821a25d": {
      "model_module": "@jupyter-widgets/base",
      "model_module_version": "1.2.0",
      "model_name": "LayoutModel",
      "state": {}
     },
     "1b551be8d3cc498eb045a138b34df7f0": {
      "model_module": "@jupyter-widgets/base",
      "model_module_version": "1.2.0",
      "model_name": "LayoutModel",
      "state": {}
     },
     "1b5fc5ba165244b0bd978e29bd000155": {
      "model_module": "@jupyter-widgets/controls",
      "model_module_version": "1.5.0",
      "model_name": "FloatSliderModel",
      "state": {
       "description": "Exposure",
       "layout": "IPY_MODEL_ad13139e34f4433d8213071011e10075",
       "max": 8,
       "min": -8,
       "step": 0.1,
       "style": "IPY_MODEL_6e884e8aad294b878ec5550cca77a421"
      }
     },
     "1b9a1566610b4da5949b3084a8365cd5": {
      "model_module": "@jupyter-widgets/base",
      "model_module_version": "1.2.0",
      "model_name": "LayoutModel",
      "state": {}
     },
     "1bb1e582b1b64efc99555ef9b2f7f1ad": {
      "model_module": "@jupyter-widgets/base",
      "model_module_version": "1.2.0",
      "model_name": "LayoutModel",
      "state": {}
     },
     "1bf2aba6e48d4e8b9ab483ea3717a00c": {
      "model_module": "@jupyter-widgets/base",
      "model_module_version": "1.2.0",
      "model_name": "LayoutModel",
      "state": {}
     },
     "1c78d9c38c4c4a19b2b855fae17b65c4": {
      "model_module": "@jupyter-widgets/base",
      "model_module_version": "1.2.0",
      "model_name": "LayoutModel",
      "state": {}
     },
     "1d1035f192754b868802d6b89beb2fff": {
      "model_module": "@jupyter-widgets/controls",
      "model_module_version": "1.5.0",
      "model_name": "HBoxModel",
      "state": {
       "children": [
        "IPY_MODEL_21a112faad184fa6b0f97d77194dc3b3",
        "IPY_MODEL_b16f86210f694bc7b5b1724ec764264d",
        "IPY_MODEL_ac35840c29ed4875ad3b4b424f48c0d8",
        "IPY_MODEL_6bd774cf276b49e98330ee0d1f56d7c8"
       ],
       "layout": "IPY_MODEL_b1787ee26c2a436fa00d5e9448d01751"
      }
     },
     "1d2c4936b6b148b08c4c878e7657fb15": {
      "model_module": "@jupyter-widgets/base",
      "model_module_version": "1.2.0",
      "model_name": "LayoutModel",
      "state": {}
     },
     "1d9c0db3d8b948cea190f6176a65f360": {
      "model_module": "@jupyter-widgets/base",
      "model_module_version": "1.2.0",
      "model_name": "LayoutModel",
      "state": {
       "border": "solid 4px #222",
       "margin": "4px",
       "padding": "0"
      }
     },
     "1e15914f315640fbb166ccf2ea1d1112": {
      "model_module": "@jupyter-widgets/base",
      "model_module_version": "1.2.0",
      "model_name": "LayoutModel",
      "state": {}
     },
     "1e26246ef8274251a1c2ba7892228fa2": {
      "model_module": "@jupyter-widgets/controls",
      "model_module_version": "1.5.0",
      "model_name": "VBoxModel",
      "state": {
       "children": [
        "IPY_MODEL_ed2c9d7be01f42aab8c960734e76510f"
       ],
       "layout": "IPY_MODEL_525cf435059f4deb88e8787ecef5b863"
      }
     },
     "1e3c08891192460f84e9e8440172f05b": {
      "model_module": "@jupyter-widgets/base",
      "model_module_version": "1.2.0",
      "model_name": "LayoutModel",
      "state": {
       "border": "solid 4px #222",
       "margin": "4px",
       "padding": "0"
      }
     },
     "1e5090c5f04647a881163387f6d395d3": {
      "model_module": "@jupyter-widgets/controls",
      "model_module_version": "1.5.0",
      "model_name": "FloatSliderModel",
      "state": {
       "description": "Exposure",
       "layout": "IPY_MODEL_37b1992e92224b769e81ae8d132e1aa8",
       "max": 8,
       "min": -8,
       "step": 0.1,
       "style": "IPY_MODEL_936acdb1eb90487883d6e3094b9b9155"
      }
     },
     "1e58e3657a64465ebd7ca5fe5db2bdc5": {
      "model_module": "@jupyter-widgets/controls",
      "model_module_version": "1.5.0",
      "model_name": "DropdownModel",
      "state": {
       "_options_labels": [
        "tanh",
        "simple"
       ],
       "description": "Compression Function:",
       "index": 0,
       "layout": "IPY_MODEL_c687b447a8d54436adc32d8689415b3a",
       "style": "IPY_MODEL_998c67d6d01b44818ff5a80225243de0"
      }
     },
     "1e7b5993c76f4f62a14b78043cc38e26": {
      "model_module": "@jupyter-widgets/controls",
      "model_module_version": "1.5.0",
      "model_name": "FloatSliderModel",
      "state": {
       "description": "270°",
       "layout": "IPY_MODEL_d459b292f29545dfabf3a2a5f72596ed",
       "max": 1,
       "min": -1,
       "step": 0.01,
       "style": "IPY_MODEL_6baceda676e94bfa8b60a0e50fb7dec4"
      }
     },
     "1e916a009e7c4befad51f426e5721bac": {
      "model_module": "@jupyter-widgets/controls",
      "model_module_version": "1.5.0",
      "model_name": "TabModel",
      "state": {
       "_titles": {
        "0": "Global Controls",
        "1": "Protected Area Controls",
        "2": "Saturation Controls",
        "3": "Hue Controls"
       },
       "children": [
        "IPY_MODEL_383eab1c6c3f44f7a89ae014d2963427",
        "IPY_MODEL_059777754f5f49f8a6ecfba43ebe5df2",
        "IPY_MODEL_6972d86c5c1e41fe9844fc4d04472b64",
        "IPY_MODEL_dad22f304abd446fb5880de1d81399ec"
       ],
       "layout": "IPY_MODEL_2c20e25595ec45fc97f7c1dc6b4b01b9"
      }
     },
     "1e91c52dbd6942abb6a4cedc5901703a": {
      "model_module": "@jupyter-widgets/base",
      "model_module_version": "1.2.0",
      "model_name": "LayoutModel",
      "state": {}
     },
     "1e9752edc22b49fa989648dd2f97f98c": {
      "model_module": "@jupyter-widgets/controls",
      "model_module_version": "1.5.0",
      "model_name": "ButtonStyleModel",
      "state": {}
     },
     "1ea72aaec613415198a5a96746870190": {
      "model_module": "@jupyter-widgets/controls",
      "model_module_version": "1.5.0",
      "model_name": "FloatSliderModel",
      "state": {
       "description": "90°",
       "layout": "IPY_MODEL_3b0ccde35e2145979a180829aff7520b",
       "max": 1,
       "min": -1,
       "step": 0.01,
       "style": "IPY_MODEL_67208dc177164fecaad8e137ac8c43d0"
      }
     },
     "1f14deb10404462684146bf7b56fe2cf": {
      "model_module": "@jupyter-widgets/controls",
      "model_module_version": "1.5.0",
      "model_name": "ButtonStyleModel",
      "state": {}
     },
     "1f1d2e967a2d4118bc0e571364ebfa88": {
      "model_module": "@jupyter-widgets/base",
      "model_module_version": "1.2.0",
      "model_name": "LayoutModel",
      "state": {}
     },
     "1f44e265ec974ac19c84ab2a05464f73": {
      "model_module": "@jupyter-widgets/controls",
      "model_module_version": "1.5.0",
      "model_name": "SliderStyleModel",
      "state": {
       "description_width": ""
      }
     },
     "1f5983dc18b24a199bfdbe3e1509caec": {
      "model_module": "@jupyter-widgets/base",
      "model_module_version": "1.2.0",
      "model_name": "LayoutModel",
      "state": {}
     },
     "1fc1034f5319486cb14d4f4c7ceca4fd": {
      "model_module": "@jupyter-widgets/base",
      "model_module_version": "1.2.0",
      "model_name": "LayoutModel",
      "state": {}
     },
     "1fd10ce7a8ab4510bcec6b4845e3dcc8": {
      "model_module": "@jupyter-widgets/controls",
      "model_module_version": "1.5.0",
      "model_name": "DescriptionStyleModel",
      "state": {
       "description_width": ""
      }
     },
     "1fe327a999384478b040379ab19c6bde": {
      "model_module": "@jupyter-widgets/base",
      "model_module_version": "1.2.0",
      "model_name": "LayoutModel",
      "state": {}
     },
     "2027c69009d244a3ac86b446da64e3ed": {
      "model_module": "@jupyter-widgets/controls",
      "model_module_version": "1.5.0",
      "model_name": "FloatSliderModel",
      "state": {
       "description": "225°",
       "layout": "IPY_MODEL_b9d3c817d2434dc2bb8a060d4fbf8ee6",
       "max": 1,
       "min": -1,
       "step": 0.01,
       "style": "IPY_MODEL_dba6d9ba0d1540dda67b837ec86d69f4"
      }
     },
     "2032d9a869ed44de87a3ac01dab5ee5f": {
      "model_module": "@jupyter-widgets/base",
      "model_module_version": "1.2.0",
      "model_name": "LayoutModel",
      "state": {}
     },
     "20467323f18c42e8912bdba9c08defd5": {
      "model_module": "@jupyter-widgets/base",
      "model_module_version": "1.2.0",
      "model_name": "LayoutModel",
      "state": {}
     },
     "2049ca68e95b474db8495e6f211a54d2": {
      "model_module": "@jupyter-widgets/controls",
      "model_module_version": "1.5.0",
      "model_name": "SliderStyleModel",
      "state": {
       "description_width": ""
      }
     },
     "2056f0d0a4c7466ba9359dc5e8668a21": {
      "model_module": "@jupyter-widgets/base",
      "model_module_version": "1.2.0",
      "model_name": "LayoutModel",
      "state": {}
     },
     "207409afd204429b9d822bef47bcb2a0": {
      "model_module": "@jupyter-widgets/base",
      "model_module_version": "1.2.0",
      "model_name": "LayoutModel",
      "state": {}
     },
     "20c471181cad4b1ab7131051a7c4ee21": {
      "model_module": "@jupyter-widgets/base",
      "model_module_version": "1.2.0",
      "model_name": "LayoutModel",
      "state": {}
     },
     "20d9b44c6d8546db92bb9e24a8417021": {
      "model_module": "@jupyter-widgets/controls",
      "model_module_version": "1.5.0",
      "model_name": "DescriptionStyleModel",
      "state": {
       "description_width": ""
      }
     },
     "211d4f6c36a4438ebbd73e585f1dee37": {
      "model_module": "@jupyter-widgets/base",
      "model_module_version": "1.2.0",
      "model_name": "LayoutModel",
      "state": {
       "align_items": "stretch",
       "display": "flex",
       "flex_flow": "column",
       "width": "1128px"
      }
     },
     "211f2af855f540e3a45b78b2c43295f5": {
      "model_module": "@jupyter-widgets/base",
      "model_module_version": "1.2.0",
      "model_name": "LayoutModel",
      "state": {}
     },
     "2132a204130d40b2842747c26e85e792": {
      "model_module": "@jupyter-widgets/controls",
      "model_module_version": "1.5.0",
      "model_name": "DescriptionStyleModel",
      "state": {
       "description_width": ""
      }
     },
     "2149621ec02d481ebe28d7758761679b": {
      "model_module": "@jupyter-widgets/base",
      "model_module_version": "1.2.0",
      "model_name": "LayoutModel",
      "state": {}
     },
     "219305cfa0c3443190c5634c214509ca": {
      "model_module": "@jupyter-widgets/base",
      "model_module_version": "1.2.0",
      "model_name": "LayoutModel",
      "state": {}
     },
     "21a112faad184fa6b0f97d77194dc3b3": {
      "model_module": "@jupyter-widgets/controls",
      "model_module_version": "1.5.0",
      "model_name": "VBoxModel",
      "state": {
       "children": [
        "IPY_MODEL_fd61786152254ad19124b0698f47c1aa"
       ],
       "layout": "IPY_MODEL_6ccfc44f59a44d57bb3e1c1894de6a92"
      }
     },
     "21a5bcaa32594ba7ae330f67064e328c": {
      "model_module": "@jupyter-widgets/controls",
      "model_module_version": "1.5.0",
      "model_name": "HBoxModel",
      "state": {
       "children": [
        "IPY_MODEL_f3c697f86d5f4bca851ec3fb9d86b5e2",
        "IPY_MODEL_f007f2cda9ed4484a5fd9eefa4829112",
        "IPY_MODEL_153b9112ad0344bcaa470b75ff6a6560",
        "IPY_MODEL_10c26cd4ed534ede96657993329abb94"
       ],
       "layout": "IPY_MODEL_b54d549490494cddbaa7f02985ce4dda"
      }
     },
     "221e87411adf420f93f1869a5baab2c6": {
      "model_module": "@jupyter-widgets/controls",
      "model_module_version": "1.5.0",
      "model_name": "FloatSliderModel",
      "state": {
       "description": "45°",
       "layout": "IPY_MODEL_f8d8a93e2b29433cb19a56b7de4dfef5",
       "max": 1,
       "min": -1,
       "step": 0.01,
       "style": "IPY_MODEL_b4057375e4d64b45af310099bb13319d"
      }
     },
     "236cf42fa72f4831b4cc421cd8193982": {
      "model_module": "@jupyter-widgets/base",
      "model_module_version": "1.2.0",
      "model_name": "LayoutModel",
      "state": {}
     },
     "236f9a60c8da466d9353d6e4f72c4eab": {
      "model_module": "@jupyter-widgets/base",
      "model_module_version": "1.2.0",
      "model_name": "LayoutModel",
      "state": {}
     },
     "2392f4cc14424b4d847d2fcbde80177a": {
      "model_module": "@jupyter-widgets/controls",
      "model_module_version": "1.5.0",
      "model_name": "BoxModel",
      "state": {
       "children": [
        "IPY_MODEL_e69b0716195245ed99c219d5b2effad2",
        "IPY_MODEL_989c3e9875d4419f8b33f6c9912b9b36"
       ],
       "layout": "IPY_MODEL_261f90d31c9545d6b8b19ce7d8ae2465"
      }
     },
     "239efcc2b6f34c5e9e8f441247ac2d66": {
      "model_module": "@jupyter-widgets/controls",
      "model_module_version": "1.5.0",
      "model_name": "ButtonStyleModel",
      "state": {}
     },
     "23b135973c3b4f5680ed5dfd608cd987": {
      "model_module": "@jupyter-widgets/controls",
      "model_module_version": "1.5.0",
      "model_name": "ButtonStyleModel",
      "state": {}
     },
     "240bc429321445788302e80625344668": {
      "model_module": "@jupyter-widgets/base",
      "model_module_version": "1.2.0",
      "model_name": "LayoutModel",
      "state": {}
     },
     "241c8ccb06bf4394bdd7c061d5579ef6": {
      "model_module": "@jupyter-widgets/controls",
      "model_module_version": "1.5.0",
      "model_name": "ButtonStyleModel",
      "state": {}
     },
     "246acf4de0484a8f9b16f90a317d26d8": {
      "model_module": "@jupyter-widgets/base",
      "model_module_version": "1.2.0",
      "model_name": "LayoutModel",
      "state": {}
     },
     "249918741eee45c2a8c2f81faca2a8fa": {
      "model_module": "@jupyter-widgets/controls",
      "model_module_version": "1.5.0",
      "model_name": "SliderStyleModel",
      "state": {
       "description_width": ""
      }
     },
     "24c30e0ef7274b97968e44fa5d3addfd": {
      "model_module": "@jupyter-widgets/controls",
      "model_module_version": "1.5.0",
      "model_name": "SliderStyleModel",
      "state": {
       "description_width": ""
      }
     },
     "24dd4cb85bfc4cce82340e0c0e94e598": {
      "model_module": "@jupyter-widgets/controls",
      "model_module_version": "1.5.0",
      "model_name": "ButtonModel",
      "state": {
       "description": "Reset Hue Controls",
       "layout": "IPY_MODEL_83bcac8aa15746979fb9b0fa3945e716",
       "style": "IPY_MODEL_ddfe5b5e1c914dccb8758c82e443423c"
      }
     },
     "24f6b3ad142c489a819a101540e9ad87": {
      "model_module": "@jupyter-widgets/base",
      "model_module_version": "1.2.0",
      "model_name": "LayoutModel",
      "state": {}
     },
     "25068f1ecc8d46c191a68f8565f2674e": {
      "model_module": "@jupyter-widgets/base",
      "model_module_version": "1.2.0",
      "model_name": "LayoutModel",
      "state": {}
     },
     "25116abd7a0948118c6518fdc001f40e": {
      "model_module": "@jupyter-widgets/base",
      "model_module_version": "1.2.0",
      "model_name": "LayoutModel",
      "state": {
       "border": "solid 4px #222",
       "margin": "4px",
       "padding": "0"
      }
     },
     "2527f4bbf01340739e54e34880e718ec": {
      "model_module": "@jupyter-widgets/base",
      "model_module_version": "1.2.0",
      "model_name": "LayoutModel",
      "state": {}
     },
     "252d0782b46d4c2c954d0e73ffee2740": {
      "model_module": "@jupyter-widgets/controls",
      "model_module_version": "1.5.0",
      "model_name": "ButtonStyleModel",
      "state": {}
     },
     "254f664ab6fc45a2ad29424851c260c1": {
      "model_module": "@jupyter-widgets/base",
      "model_module_version": "1.2.0",
      "model_name": "LayoutModel",
      "state": {}
     },
     "25c60682e6b8431ba9a5ba5be26fde3c": {
      "model_module": "@jupyter-widgets/base",
      "model_module_version": "1.2.0",
      "model_name": "LayoutModel",
      "state": {}
     },
     "2615fcf7e67f48ceae47f53469f898cc": {
      "model_module": "@jupyter-widgets/base",
      "model_module_version": "1.2.0",
      "model_name": "LayoutModel",
      "state": {}
     },
     "261f90d31c9545d6b8b19ce7d8ae2465": {
      "model_module": "@jupyter-widgets/base",
      "model_module_version": "1.2.0",
      "model_name": "LayoutModel",
      "state": {
       "align_items": "stretch",
       "display": "flex",
       "flex_flow": "column",
       "width": "1128px"
      }
     },
     "26395db8f1d345fb827645cf2eb690f9": {
      "model_module": "@jupyter-widgets/base",
      "model_module_version": "1.2.0",
      "model_name": "LayoutModel",
      "state": {}
     },
     "264d7d92beb64af08d7642d9a68b2757": {
      "model_module": "@jupyter-widgets/base",
      "model_module_version": "1.2.0",
      "model_name": "LayoutModel",
      "state": {
       "align_items": "stretch",
       "display": "flex",
       "flex_flow": "column",
       "width": "1128px"
      }
     },
     "267dce6865c54bd2a49bc2c1c533ca88": {
      "model_module": "@jupyter-widgets/controls",
      "model_module_version": "1.5.0",
      "model_name": "SliderStyleModel",
      "state": {
       "description_width": ""
      }
     },
     "269a9878d97a48bdbd7ed58907ff933b": {
      "model_module": "@jupyter-widgets/controls",
      "model_module_version": "1.5.0",
      "model_name": "SliderStyleModel",
      "state": {
       "description_width": ""
      }
     },
     "26aad57c2b19467ab7290d5a39c2314c": {
      "model_module": "@jupyter-widgets/base",
      "model_module_version": "1.2.0",
      "model_name": "LayoutModel",
      "state": {}
     },
     "26cfed5de590497f84d12138cfe36c3b": {
      "model_module": "@jupyter-widgets/controls",
      "model_module_version": "1.5.0",
      "model_name": "HBoxModel",
      "state": {
       "children": [
        "IPY_MODEL_6d0cbc20b7f74494bf9509f40551988a",
        "IPY_MODEL_060f5ee5a094484085e874f7717f57bc",
        "IPY_MODEL_efae4dc136454d35b13e178c51413c11"
       ],
       "layout": "IPY_MODEL_531639ed2fca473b865a40fa828a2535"
      }
     },
     "26dc9724c70648e1bc437c0dcf534d69": {
      "model_module": "@jupyter-widgets/controls",
      "model_module_version": "1.5.0",
      "model_name": "DescriptionStyleModel",
      "state": {
       "description_width": ""
      }
     },
     "270b65ee91334f09a01d53e8b987ac16": {
      "model_module": "@jupyter-widgets/base",
      "model_module_version": "1.2.0",
      "model_name": "LayoutModel",
      "state": {}
     },
     "2725488b450045498de73d4ef59c1a35": {
      "model_module": "@jupyter-widgets/controls",
      "model_module_version": "1.5.0",
      "model_name": "DescriptionStyleModel",
      "state": {
       "description_width": ""
      }
     },
     "273b64213a474cbea1c68ea9726acc04": {
      "model_module": "@jupyter-widgets/controls",
      "model_module_version": "1.5.0",
      "model_name": "ButtonStyleModel",
      "state": {}
     },
     "273e51be7fb64b269c0278c50ea1ba3d": {
      "model_module": "@jupyter-widgets/controls",
      "model_module_version": "1.5.0",
      "model_name": "ButtonModel",
      "state": {
       "description": "Save Figure",
       "layout": "IPY_MODEL_1b2266d8eaef44f59822cab20821a25d",
       "style": "IPY_MODEL_a22a6ad4483e4606bb2b5800f860fd78"
      }
     },
     "2772ae05f64244dbb9dc89ca0419a8f9": {
      "model_module": "@jupyter-widgets/base",
      "model_module_version": "1.2.0",
      "model_name": "LayoutModel",
      "state": {}
     },
     "277530ccb9f54a6e818bb22b3a4f0d4b": {
      "model_module": "@jupyter-widgets/controls",
      "model_module_version": "1.5.0",
      "model_name": "SliderStyleModel",
      "state": {
       "description_width": ""
      }
     },
     "278a17fb00114beeaf94e1827554a748": {
      "model_module": "@jupyter-widgets/base",
      "model_module_version": "1.2.0",
      "model_name": "LayoutModel",
      "state": {}
     },
     "27dd8a08bfb6495fb9bf644c3a17cb78": {
      "model_module": "@jupyter-widgets/controls",
      "model_module_version": "1.5.0",
      "model_name": "ButtonStyleModel",
      "state": {}
     },
     "280bdd7950e5422c8eb7d1179fb21766": {
      "model_module": "@jupyter-widgets/base",
      "model_module_version": "1.2.0",
      "model_name": "LayoutModel",
      "state": {}
     },
     "294111e554ef4a97baec094a666dcad0": {
      "model_module": "@jupyter-widgets/controls",
      "model_module_version": "1.5.0",
      "model_name": "ButtonStyleModel",
      "state": {}
     },
     "29905953a3534bdda83854c6dfdddf24": {
      "model_module": "@jupyter-widgets/controls",
      "model_module_version": "1.5.0",
      "model_name": "FloatSliderModel",
      "state": {
       "description": "0°",
       "layout": "IPY_MODEL_67ed2ebdb110471d9057a02c4c09ea3b",
       "max": 1,
       "min": -1,
       "step": 0.01,
       "style": "IPY_MODEL_33ae0bfee238460eb63bc93eb40ed954"
      }
     },
     "29e86ce6eea442078e9a20a1359d3333": {
      "model_module": "@jupyter-widgets/base",
      "model_module_version": "1.2.0",
      "model_name": "LayoutModel",
      "state": {}
     },
     "2a3efe6e50394e01af567316f416d293": {
      "model_module": "@jupyter-widgets/controls",
      "model_module_version": "1.5.0",
      "model_name": "HBoxModel",
      "state": {
       "children": [
        "IPY_MODEL_f55feb1d6fb64e8bb18ceb3d9c1482f4",
        "IPY_MODEL_c5d99ba2e6d746d3bb836107e2ba4507",
        "IPY_MODEL_ce6434a0058d4e068a1d4d5855f67add",
        "IPY_MODEL_a129b32d7aa54c5ebff0a9bc0be3638e"
       ],
       "layout": "IPY_MODEL_24f6b3ad142c489a819a101540e9ad87"
      }
     },
     "2a4eff2bbb56475fb3f14b2048767d3d": {
      "model_module": "@jupyter-widgets/controls",
      "model_module_version": "1.5.0",
      "model_name": "VBoxModel",
      "state": {
       "children": [
        "IPY_MODEL_57982945d80c4ca7b4f0b10babdeaedb",
        "IPY_MODEL_530e9a8a69eb4bbf80a442fc503a8db1"
       ],
       "layout": "IPY_MODEL_b87c1d1a05eb4cf3a94185824d9d25d0"
      }
     },
     "2a5b6146114d489d8d4ac3125ab98da1": {
      "model_module": "@jupyter-widgets/base",
      "model_module_version": "1.2.0",
      "model_name": "LayoutModel",
      "state": {}
     },
     "2abc28f8cd384c99ad4a73d6d9efe402": {
      "model_module": "@jupyter-widgets/controls",
      "model_module_version": "1.5.0",
      "model_name": "ButtonStyleModel",
      "state": {}
     },
     "2b05a7fbf1884c84b8e6511005d53c63": {
      "model_module": "@jupyter-widgets/base",
      "model_module_version": "1.2.0",
      "model_name": "LayoutModel",
      "state": {}
     },
     "2bd197fab33c4c1292726f5fd8a52a7e": {
      "model_module": "@jupyter-widgets/base",
      "model_module_version": "1.2.0",
      "model_name": "LayoutModel",
      "state": {}
     },
     "2be6c0f29f2b4ef9813876f3e6e57a7b": {
      "model_module": "@jupyter-widgets/controls",
      "model_module_version": "1.5.0",
      "model_name": "SliderStyleModel",
      "state": {
       "description_width": ""
      }
     },
     "2bfb8d247231488fb142dea2acad93b5": {
      "model_module": "@jupyter-widgets/controls",
      "model_module_version": "1.5.0",
      "model_name": "HBoxModel",
      "state": {
       "children": [
        "IPY_MODEL_3c981f5233e64a07bf0e4cb0ab0af210",
        "IPY_MODEL_c9ec1bdc1b7f4413b2804f08d5877665",
        "IPY_MODEL_b18f337178494305a0702f334d476e40",
        "IPY_MODEL_535f9d13830646eca067d2a26e5177ef"
       ],
       "layout": "IPY_MODEL_211f2af855f540e3a45b78b2c43295f5"
      }
     },
     "2bfe8084c3a341fdbaa948940013deca": {
      "model_module": "@jupyter-widgets/controls",
      "model_module_version": "1.5.0",
      "model_name": "ButtonStyleModel",
      "state": {}
     },
     "2c20e25595ec45fc97f7c1dc6b4b01b9": {
      "model_module": "@jupyter-widgets/base",
      "model_module_version": "1.2.0",
      "model_name": "LayoutModel",
      "state": {
       "border": "solid 4px #222",
       "margin": "4px",
       "padding": "0"
      }
     },
     "2c5a9fe2b5f4442c9d47509a5d4f992a": {
      "model_module": "@jupyter-widgets/controls",
      "model_module_version": "1.5.0",
      "model_name": "DescriptionStyleModel",
      "state": {
       "description_width": ""
      }
     },
     "2c7e936ee9ae49d18759ef1f2bc0f84d": {
      "model_module": "@jupyter-widgets/base",
      "model_module_version": "1.2.0",
      "model_name": "LayoutModel",
      "state": {}
     },
     "2c91dc9d9a7f44969befc275a4c39729": {
      "model_module": "@jupyter-widgets/controls",
      "model_module_version": "1.5.0",
      "model_name": "FloatSliderModel",
      "state": {
       "description": "Compression Threshold",
       "layout": "IPY_MODEL_68bd56cc3e514c95a25d57aee322e3c3",
       "max": 1,
       "step": 0.01,
       "style": "IPY_MODEL_f2722583fc5d40bbb3304407392e0405",
       "value": 0.8
      }
     },
     "2d7bf934747745999c03ab857afa5e8d": {
      "model_module": "@jupyter-widgets/base",
      "model_module_version": "1.2.0",
      "model_name": "LayoutModel",
      "state": {}
     },
     "2d9db514a57644dcbaa07c0d5ef66634": {
      "model_module": "@jupyter-widgets/controls",
      "model_module_version": "1.5.0",
      "model_name": "DescriptionStyleModel",
      "state": {
       "description_width": ""
      }
     },
     "2dc42d05e5154f478130bb6246b93d5e": {
      "model_module": "@jupyter-widgets/base",
      "model_module_version": "1.2.0",
      "model_name": "LayoutModel",
      "state": {
       "border": "solid 4px #222",
       "margin": "4px",
       "padding": "0"
      }
     },
     "2e36179ffdd644e990acd4f498806a5c": {
      "model_module": "@jupyter-widgets/controls",
      "model_module_version": "1.5.0",
      "model_name": "TabModel",
      "state": {
       "_titles": {
        "0": "Global Controls"
       },
       "children": [
        "IPY_MODEL_2a3efe6e50394e01af567316f416d293"
       ],
       "layout": "IPY_MODEL_6306d93349264817a623ec10ec52f074"
      }
     },
     "2e94cca27371443c8f1cd0a7ab952f25": {
      "model_module": "@jupyter-widgets/controls",
      "model_module_version": "1.5.0",
      "model_name": "ButtonModel",
      "state": {
       "description": "Save Figure",
       "layout": "IPY_MODEL_7813f202a15b44a3abc5531e21ee742a",
       "style": "IPY_MODEL_8cec9f2c78374bd0bc3ff90ff43d3544"
      }
     },
     "2ee3113d45504693b9051eccb335c1b4": {
      "model_module": "@jupyter-widgets/controls",
      "model_module_version": "1.5.0",
      "model_name": "ButtonModel",
      "state": {
       "description": "Reset Protected Area",
       "layout": "IPY_MODEL_cd3e752edda64db0bb6291decbf10d82",
       "style": "IPY_MODEL_e85ac84a27bd4844a05d4f9c96cbd26e"
      }
     },
     "2f067bb7ee744c8dab0806a8655ca306": {
      "model_module": "@jupyter-widgets/base",
      "model_module_version": "1.2.0",
      "model_name": "LayoutModel",
      "state": {}
     },
     "2f46dc1e2e9b46c6a8602a870409ded3": {
      "model_module": "@jupyter-widgets/base",
      "model_module_version": "1.2.0",
      "model_name": "LayoutModel",
      "state": {}
     },
     "2f949a312e8b433498ceb29c2eb89e68": {
      "model_module": "@jupyter-widgets/base",
      "model_module_version": "1.2.0",
      "model_name": "LayoutModel",
      "state": {}
     },
     "2fa80f740f8848f3be513063dfe1a4f9": {
      "model_module": "@jupyter-widgets/base",
      "model_module_version": "1.2.0",
      "model_name": "LayoutModel",
      "state": {
       "border": "solid 4px #222",
       "margin": "4px",
       "padding": "0"
      }
     },
     "2fc564ac7af44569ae6d3d85f73c5773": {
      "model_module": "@jupyter-widgets/controls",
      "model_module_version": "1.5.0",
      "model_name": "VBoxModel",
      "state": {
       "children": [
        "IPY_MODEL_ffaa3fe84f294154b55bab692db8e1c7",
        "IPY_MODEL_052d928961444610b4739729129b478b",
        "IPY_MODEL_1ea72aaec613415198a5a96746870190"
       ],
       "layout": "IPY_MODEL_a4bee3f8ae874bf9aa56c273563df577"
      }
     },
     "2fc592739e8a445e84e16e3e2eecfcbd": {
      "model_module": "@jupyter-widgets/base",
      "model_module_version": "1.2.0",
      "model_name": "LayoutModel",
      "state": {}
     },
     "3061abaadb4143b4abd01ef2ee0d30cb": {
      "model_module": "@jupyter-widgets/base",
      "model_module_version": "1.2.0",
      "model_name": "LayoutModel",
      "state": {}
     },
     "3066e6f268754814821802a47e88feda": {
      "model_module": "@jupyter-widgets/output",
      "model_module_version": "1.0.0",
      "model_name": "OutputModel",
      "state": {
       "layout": "IPY_MODEL_d730d969b4f94d17aa5b2e44da160c76",
       "outputs": [
        {
         "data": {
          "application/vnd.jupyter.widget-view+json": {
           "model_id": "453b2e3b73f946bc8e10a4317da384cd",
           "version_major": 2,
           "version_minor": 0
          },
          "text/plain": "Canvas(toolbar=Toolbar(toolitems=[('Home', 'Reset original view', 'home', 'home'), ('Back', 'Back to previous …"
         },
         "metadata": {},
         "output_type": "display_data"
        }
       ]
      }
     },
     "306995d0c8be4a5e8137fa943a7b1b2e": {
      "model_module": "@jupyter-widgets/controls",
      "model_module_version": "1.5.0",
      "model_name": "VBoxModel",
      "state": {
       "children": [
        "IPY_MODEL_84045a652e804ed1b34f9d88c87cdc0b",
        "IPY_MODEL_4f637b502aa94fa6bd72dc589b8f97eb",
        "IPY_MODEL_af68a574c08745bdb3c0a6e091225a9d"
       ],
       "layout": "IPY_MODEL_9c33b5b5c71642719ffd84a9ea0d236f"
      }
     },
     "308924f9f44847dc82440972803c3a39": {
      "model_module": "@jupyter-widgets/controls",
      "model_module_version": "1.5.0",
      "model_name": "ButtonModel",
      "state": {
       "description": "Reset Saturation Controls",
       "layout": "IPY_MODEL_361b14f880d245008b518d8c78202238",
       "style": "IPY_MODEL_bd75ebbb53df4564a8e63186a4cb12a9"
      }
     },
     "30988c7796bd4db79c34f906c85dd45d": {
      "model_module": "@jupyter-widgets/base",
      "model_module_version": "1.2.0",
      "model_name": "LayoutModel",
      "state": {}
     },
     "30bc371be1d64bfaa6e286581cd47c21": {
      "model_module": "@jupyter-widgets/controls",
      "model_module_version": "1.5.0",
      "model_name": "FloatSliderModel",
      "state": {
       "description": "225°",
       "layout": "IPY_MODEL_c74887f2e3bc449f95b6ecc278379b20",
       "max": 1,
       "min": -1,
       "step": 0.01,
       "style": "IPY_MODEL_8d50d96440374aa5ae5c2650f09c3b80"
      }
     },
     "3176a794c162455ab5e5c7eae5050a6a": {
      "model_module": "@jupyter-widgets/controls",
      "model_module_version": "1.5.0",
      "model_name": "SliderStyleModel",
      "state": {
       "description_width": ""
      }
     },
     "317c473b16794a848494f712d6e49867": {
      "model_module": "@jupyter-widgets/controls",
      "model_module_version": "1.5.0",
      "model_name": "FloatSliderModel",
      "state": {
       "description": "Compression Threshold",
       "layout": "IPY_MODEL_45f049e6a8ca4b4bbbaae32867693449",
       "max": 1,
       "step": 0.01,
       "style": "IPY_MODEL_47902f0b6cee44219e2522fec57b8a19",
       "value": 0.5
      }
     },
     "31ea38038d9f4ca081d96eb99fdf5d44": {
      "model_module": "@jupyter-widgets/controls",
      "model_module_version": "1.5.0",
      "model_name": "VBoxModel",
      "state": {
       "children": [
        "IPY_MODEL_72068a6e1c5242489cad953b01ef4ea8",
        "IPY_MODEL_de071a814e69475d8bf78fe84d724d72",
        "IPY_MODEL_065424b3c1954c1d820b01665bb257e9"
       ],
       "layout": "IPY_MODEL_5e5799908bf84f95bec50b53838e48fe"
      }
     },
     "31f793f078d5467ba6cd617fc6ff918e": {
      "model_module": "@jupyter-widgets/base",
      "model_module_version": "1.2.0",
      "model_name": "LayoutModel",
      "state": {}
     },
     "31fdd44bae29421fa4ca50d5066bb36e": {
      "model_module": "@jupyter-widgets/controls",
      "model_module_version": "1.5.0",
      "model_name": "VBoxModel",
      "state": {
       "children": [
        "IPY_MODEL_b6aac88531c14469978a8fe66475a723"
       ],
       "layout": "IPY_MODEL_5ba07b1b5eb141d68c7a7fde490a3be9"
      }
     },
     "32270afd826143dfb16d70d4f0c02e0b": {
      "model_module": "@jupyter-widgets/base",
      "model_module_version": "1.2.0",
      "model_name": "LayoutModel",
      "state": {}
     },
     "3257d3c45a124dd58d7f52084283376b": {
      "model_module": "@jupyter-widgets/controls",
      "model_module_version": "1.5.0",
      "model_name": "FloatSliderModel",
      "state": {
       "description": "Protected Area Threshold",
       "layout": "IPY_MODEL_a84e566bd8ec4e09a99fdd814303b620",
       "max": 1,
       "step": 0.01,
       "style": "IPY_MODEL_9939fa0dddc94b36a7d933868c719e4c",
       "value": 0.5
      }
     },
     "32728c41fbdf41ac850c986c1dd81df2": {
      "model_module": "@jupyter-widgets/controls",
      "model_module_version": "1.5.0",
      "model_name": "FloatSliderModel",
      "state": {
       "description": "Compression Threshold",
       "layout": "IPY_MODEL_6993f6c0f567417f8fb9d5cd93a835e9",
       "max": 1,
       "step": 0.01,
       "style": "IPY_MODEL_439e1397aedf486e84a21cff6d57d57b",
       "value": 0.8
      }
     },
     "331ad3b0eb864ece8e960a23371efca2": {
      "model_module": "@jupyter-widgets/base",
      "model_module_version": "1.2.0",
      "model_name": "LayoutModel",
      "state": {}
     },
     "336334f578054c04b05c5f1fea4c4dfa": {
      "model_module": "@jupyter-widgets/controls",
      "model_module_version": "1.5.0",
      "model_name": "SliderStyleModel",
      "state": {
       "description_width": ""
      }
     },
     "3366e6274e7143bd85c9433108022675": {
      "model_module": "@jupyter-widgets/controls",
      "model_module_version": "1.5.0",
      "model_name": "FloatSliderModel",
      "state": {
       "description": "135°",
       "layout": "IPY_MODEL_2d7bf934747745999c03ab857afa5e8d",
       "max": 1,
       "min": -1,
       "step": 0.01,
       "style": "IPY_MODEL_7c43fd7c92a94a029934af91c64408db"
      }
     },
     "33ae0bfee238460eb63bc93eb40ed954": {
      "model_module": "@jupyter-widgets/controls",
      "model_module_version": "1.5.0",
      "model_name": "SliderStyleModel",
      "state": {
       "description_width": ""
      }
     },
     "342ffc88974849af985df3aac17d753e": {
      "model_module": "@jupyter-widgets/controls",
      "model_module_version": "1.5.0",
      "model_name": "SliderStyleModel",
      "state": {
       "description_width": ""
      }
     },
     "3463dd6aaba24ff0a57d3df750e129e4": {
      "model_module": "@jupyter-widgets/controls",
      "model_module_version": "1.5.0",
      "model_name": "SliderStyleModel",
      "state": {
       "description_width": ""
      }
     },
     "34701bf7303c434cb9d31364013ce62f": {
      "model_module": "@jupyter-widgets/controls",
      "model_module_version": "1.5.0",
      "model_name": "FloatSliderModel",
      "state": {
       "description": "0°",
       "layout": "IPY_MODEL_2149621ec02d481ebe28d7758761679b",
       "max": 1,
       "min": -1,
       "step": 0.01,
       "style": "IPY_MODEL_e541dca58b0b4dc4853c36ca26fd7a7d"
      }
     },
     "34954ae0100c4ac38dfea73cbcf9fa18": {
      "model_module": "@jupyter-widgets/controls",
      "model_module_version": "1.5.0",
      "model_name": "DescriptionStyleModel",
      "state": {
       "description_width": ""
      }
     },
     "34d52550f6134ea78240c9ae7f9dcf25": {
      "model_module": "@jupyter-widgets/controls",
      "model_module_version": "1.5.0",
      "model_name": "HBoxModel",
      "state": {
       "children": [
        "IPY_MODEL_308924f9f44847dc82440972803c3a39",
        "IPY_MODEL_53d5a8247670479287c1e675e81571a5",
        "IPY_MODEL_7c28bcdc4be144bdabb037ca2009e612"
       ],
       "layout": "IPY_MODEL_9b93a9b2064b4340ac54ce19aa5a3ec4"
      }
     },
     "34e9b1abe8e8433cba4aea74513bec05": {
      "model_module": "@jupyter-widgets/controls",
      "model_module_version": "1.5.0",
      "model_name": "ButtonStyleModel",
      "state": {}
     },
     "34fcfdc94b5b4ad9a20bfd0085980a42": {
      "model_module": "@jupyter-widgets/base",
      "model_module_version": "1.2.0",
      "model_name": "LayoutModel",
      "state": {
       "border": "solid 4px #222",
       "margin": "4px",
       "padding": "0"
      }
     },
     "355b4d1a9af74c2183d62b87b8eabc55": {
      "model_module": "@jupyter-widgets/base",
      "model_module_version": "1.2.0",
      "model_name": "LayoutModel",
      "state": {}
     },
     "3564086d35d143df835219ff39a5467d": {
      "model_module": "@jupyter-widgets/controls",
      "model_module_version": "1.5.0",
      "model_name": "ButtonModel",
      "state": {
       "description": "Export Image",
       "layout": "IPY_MODEL_dc44b18b406447f9a3649be737d68db8",
       "style": "IPY_MODEL_72b610a569d946d896e7d231cd13d1a9"
      }
     },
     "35cc45cdc7d041419dad4a31407e0a66": {
      "model_module": "@jupyter-widgets/base",
      "model_module_version": "1.2.0",
      "model_name": "LayoutModel",
      "state": {}
     },
     "35ccd45be395489c8d9aed05c8356e98": {
      "model_module": "@jupyter-widgets/base",
      "model_module_version": "1.2.0",
      "model_name": "LayoutModel",
      "state": {}
     },
     "3602496ef2e545b0b110deb1f22adf2f": {
      "model_module": "@jupyter-widgets/controls",
      "model_module_version": "1.5.0",
      "model_name": "ButtonStyleModel",
      "state": {}
     },
     "361b14f880d245008b518d8c78202238": {
      "model_module": "@jupyter-widgets/base",
      "model_module_version": "1.2.0",
      "model_name": "LayoutModel",
      "state": {}
     },
     "3662765e0bcb4d7899686af927d4faaa": {
      "model_module": "@jupyter-widgets/controls",
      "model_module_version": "1.5.0",
      "model_name": "ButtonStyleModel",
      "state": {}
     },
     "367335bb8b0e49ae8c45c0ab6b358fd6": {
      "model_module": "@jupyter-widgets/base",
      "model_module_version": "1.2.0",
      "model_name": "LayoutModel",
      "state": {
       "border": "solid 4px #222",
       "margin": "4px",
       "padding": "0"
      }
     },
     "36e5956d266c4628bb9989b0d8ebac76": {
      "model_module": "@jupyter-widgets/base",
      "model_module_version": "1.2.0",
      "model_name": "LayoutModel",
      "state": {}
     },
     "3714b2622fbf4f73b84bd451a03174fd": {
      "model_module": "@jupyter-widgets/controls",
      "model_module_version": "1.5.0",
      "model_name": "FloatSliderModel",
      "state": {
       "description": "0°",
       "layout": "IPY_MODEL_c9d0e28a7c76452b81dc6425b9919e0a",
       "max": 1,
       "min": -1,
       "step": 0.01,
       "style": "IPY_MODEL_7c940fd347264720b79b959af33db391"
      }
     },
     "371b6061818248648563ecc315231b6b": {
      "model_module": "@jupyter-widgets/controls",
      "model_module_version": "1.5.0",
      "model_name": "HBoxModel",
      "state": {
       "children": [
        "IPY_MODEL_87df6e9add3e411393ab55e53e0d725b",
        "IPY_MODEL_8bd41daade164da687c8637f3f36d1cc",
        "IPY_MODEL_926354c142b844e88a5760607f71a6f3",
        "IPY_MODEL_994e100640844ae7b88b6531adf38250"
       ],
       "layout": "IPY_MODEL_790b1aea36a642f09e4c65dc32e3f012"
      }
     },
     "37b1992e92224b769e81ae8d132e1aa8": {
      "model_module": "@jupyter-widgets/base",
      "model_module_version": "1.2.0",
      "model_name": "LayoutModel",
      "state": {}
     },
     "383b54d7615f4eb38db5bbd893a64aba": {
      "model_module": "@jupyter-widgets/controls",
      "model_module_version": "1.5.0",
      "model_name": "SliderStyleModel",
      "state": {
       "description_width": ""
      }
     },
     "383eab1c6c3f44f7a89ae014d2963427": {
      "model_module": "@jupyter-widgets/controls",
      "model_module_version": "1.5.0",
      "model_name": "HBoxModel",
      "state": {
       "children": [
        "IPY_MODEL_9727e9e4a05840ce82ee880ea44ac055",
        "IPY_MODEL_1439634b99744faa9eb818765f5147b6",
        "IPY_MODEL_a329c5c12a8340b0bb389c432e169f36",
        "IPY_MODEL_1e5090c5f04647a881163387f6d395d3"
       ],
       "layout": "IPY_MODEL_7e8b408b9e5147eb8c726f294a3e7143"
      }
     },
     "3855609eecd54b9297d83e462d8e30be": {
      "model_module": "@jupyter-widgets/controls",
      "model_module_version": "1.5.0",
      "model_name": "BoxModel",
      "state": {
       "children": [
        "IPY_MODEL_e3ee51eefd6b408694edfc6a9514e7b6",
        "IPY_MODEL_4e8a3dbd394d4a6fb730ae5fcdca9309"
       ],
       "layout": "IPY_MODEL_ea2fe61342324e8ebf7f91830adc0131"
      }
     },
     "38a82800c32346deb8ab1dc49b76e56b": {
      "model_module": "@jupyter-widgets/controls",
      "model_module_version": "1.5.0",
      "model_name": "SliderStyleModel",
      "state": {
       "description_width": ""
      }
     },
     "38af74648b18414f9029ac5aea01ef76": {
      "model_module": "@jupyter-widgets/controls",
      "model_module_version": "1.5.0",
      "model_name": "HBoxModel",
      "state": {
       "children": [
        "IPY_MODEL_06e3dac148ce427988a5268641b0d33c",
        "IPY_MODEL_e6a5c1ebc0e748a6b0e9007ab63b73b1",
        "IPY_MODEL_ddcef608223440818990bc7cc041470a"
       ],
       "layout": "IPY_MODEL_d48ed1e21d9c4175b5754dcecbc06ca0"
      }
     },
     "391257cb8f03422195d96dc06be5b0af": {
      "model_module": "@jupyter-widgets/controls",
      "model_module_version": "1.5.0",
      "model_name": "SliderStyleModel",
      "state": {
       "description_width": ""
      }
     },
     "3964cd8c71014246b40141a9f9d85d75": {
      "model_module": "@jupyter-widgets/controls",
      "model_module_version": "1.5.0",
      "model_name": "SliderStyleModel",
      "state": {
       "description_width": ""
      }
     },
     "397e65ed4111435393a392110280a542": {
      "model_module": "@jupyter-widgets/controls",
      "model_module_version": "1.5.0",
      "model_name": "FloatSliderModel",
      "state": {
       "description": "45°",
       "layout": "IPY_MODEL_152a820bfe3144c58a869566eb4d57a0",
       "max": 1,
       "min": -1,
       "step": 0.01,
       "style": "IPY_MODEL_8c97b1fbdaab478c998cab7108723995"
      }
     },
     "39ad486ed41b4093ae84229ca83af95d": {
      "model_module": "@jupyter-widgets/controls",
      "model_module_version": "1.5.0",
      "model_name": "FloatSliderModel",
      "state": {
       "description": "Compression Threshold",
       "layout": "IPY_MODEL_71c0da6f0fd1425ca09fd532230ed597",
       "max": 1,
       "step": 0.01,
       "style": "IPY_MODEL_f3f2e306d3104f55a27d1b8a31972901",
       "value": 0.8
      }
     },
     "39d0ca92ff14453fb2e73e3a518de456": {
      "model_module": "@jupyter-widgets/base",
      "model_module_version": "1.2.0",
      "model_name": "LayoutModel",
      "state": {}
     },
     "3a00664c664d4ad99503d15343603819": {
      "model_module": "@jupyter-widgets/controls",
      "model_module_version": "1.5.0",
      "model_name": "SliderStyleModel",
      "state": {
       "description_width": ""
      }
     },
     "3a45da0024c44e3e8f32b38cf81c43d6": {
      "model_module": "@jupyter-widgets/base",
      "model_module_version": "1.2.0",
      "model_name": "LayoutModel",
      "state": {}
     },
     "3a67745e7f544bfa84e1515d4c2abae5": {
      "model_module": "@jupyter-widgets/base",
      "model_module_version": "1.2.0",
      "model_name": "LayoutModel",
      "state": {}
     },
     "3a92f9055d78446b9714bf9dd144fdb9": {
      "model_module": "@jupyter-widgets/controls",
      "model_module_version": "1.5.0",
      "model_name": "ButtonStyleModel",
      "state": {}
     },
     "3aa5034d843a4650a5248db328e5be6c": {
      "model_module": "@jupyter-widgets/base",
      "model_module_version": "1.2.0",
      "model_name": "LayoutModel",
      "state": {
       "border": "solid 4px #222",
       "margin": "4px",
       "padding": "0"
      }
     },
     "3ac26609feb843a99551fe9e938b0f76": {
      "model_module": "@jupyter-widgets/controls",
      "model_module_version": "1.5.0",
      "model_name": "CheckboxModel",
      "state": {
       "description": "Disable Medicina",
       "disabled": false,
       "layout": "IPY_MODEL_e9b51d00373943d88efd5a0a2d5bf72e",
       "style": "IPY_MODEL_2132a204130d40b2842747c26e85e792",
       "value": false
      }
     },
     "3adf347b09614773b9f118db6cfebb18": {
      "model_module": "@jupyter-widgets/controls",
      "model_module_version": "1.5.0",
      "model_name": "FloatSliderModel",
      "state": {
       "description": "135°",
       "layout": "IPY_MODEL_dbbf906832ec45f9a5ec61f37fea0bdb",
       "max": 1,
       "min": -1,
       "step": 0.01,
       "style": "IPY_MODEL_e87b8cf03dc0439085d66d98b4a8d61d"
      }
     },
     "3ae8d9899a0e46b1b855cf48be66c7d1": {
      "model_module": "@jupyter-widgets/base",
      "model_module_version": "1.2.0",
      "model_name": "LayoutModel",
      "state": {}
     },
     "3af22060d0d741eb80f235fdb919bf2e": {
      "model_module": "@jupyter-widgets/base",
      "model_module_version": "1.2.0",
      "model_name": "LayoutModel",
      "state": {}
     },
     "3af2a92efae6447a82ee698c96c93a01": {
      "model_module": "@jupyter-widgets/base",
      "model_module_version": "1.2.0",
      "model_name": "LayoutModel",
      "state": {}
     },
     "3b0ccde35e2145979a180829aff7520b": {
      "model_module": "@jupyter-widgets/base",
      "model_module_version": "1.2.0",
      "model_name": "LayoutModel",
      "state": {}
     },
     "3b3425aa0ec14c29b66eef907162f2d1": {
      "model_module": "@jupyter-widgets/controls",
      "model_module_version": "1.5.0",
      "model_name": "HBoxModel",
      "state": {
       "children": [
        "IPY_MODEL_73358fc2398248c9b383d523c5c90c6b",
        "IPY_MODEL_4942f381920f4c0ca98993f7ce4183f0"
       ],
       "layout": "IPY_MODEL_177d009de8e94389946cde853dc16369"
      }
     },
     "3b6ee29364a94e47aef50235862aa5e3": {
      "model_module": "@jupyter-widgets/controls",
      "model_module_version": "1.5.0",
      "model_name": "HBoxModel",
      "state": {
       "children": [
        "IPY_MODEL_ab601aab761449db85b2001fcb5ce25e",
        "IPY_MODEL_8479e897dcb04110a046fa041f627670",
        "IPY_MODEL_80a313277dde4e66a34b07a999f3c27f"
       ],
       "layout": "IPY_MODEL_a7d5af8eeb7040d996926c5e4bb74025"
      }
     },
     "3baa2ef71a364c3dab8f902d3bfc3446": {
      "model_module": "@jupyter-widgets/controls",
      "model_module_version": "1.5.0",
      "model_name": "SliderStyleModel",
      "state": {
       "description_width": ""
      }
     },
     "3bef1ad7d0d7455b9c6202f67bfe462c": {
      "model_module": "@jupyter-widgets/controls",
      "model_module_version": "1.5.0",
      "model_name": "VBoxModel",
      "state": {
       "children": [
        "IPY_MODEL_1904bc7ee6a5401e8f46b5c28470df9d"
       ],
       "layout": "IPY_MODEL_1bb1e582b1b64efc99555ef9b2f7f1ad"
      }
     },
     "3c981f5233e64a07bf0e4cb0ab0af210": {
      "model_module": "@jupyter-widgets/controls",
      "model_module_version": "1.5.0",
      "model_name": "VBoxModel",
      "state": {
       "children": [
        "IPY_MODEL_fe2030e92e7e48e0b732c52f84e8259d"
       ],
       "layout": "IPY_MODEL_968259233cb44fd0a11dbe45c18251b6"
      }
     },
     "3cb95bb0b96b4a118faad97b02854893": {
      "model_module": "@jupyter-widgets/controls",
      "model_module_version": "1.5.0",
      "model_name": "ButtonModel",
      "state": {
       "description": "Save Figure",
       "layout": "IPY_MODEL_7e2d789147a74edb9f472507848c1a4c",
       "style": "IPY_MODEL_cb00a83aac714fe8a2860300f6597e1f"
      }
     },
     "3cbe498c66a04ebc9bbfdcedcc35fc3e": {
      "model_module": "@jupyter-widgets/controls",
      "model_module_version": "1.5.0",
      "model_name": "DropdownModel",
      "state": {
       "_options_labels": [
        "tanh",
        "simple"
       ],
       "description": "Compression Function:",
       "index": 0,
       "layout": "IPY_MODEL_f100d3e977044158becee708828e2ab4",
       "style": "IPY_MODEL_1fd10ce7a8ab4510bcec6b4845e3dcc8"
      }
     },
     "3ce7748a72ca4272bce7f637994337f3": {
      "model_module": "@jupyter-widgets/controls",
      "model_module_version": "1.5.0",
      "model_name": "FloatSliderModel",
      "state": {
       "description": "Compression Threshold",
       "layout": "IPY_MODEL_154966a261b9417d9fdf8fdaddb270b1",
       "max": 1,
       "step": 0.01,
       "style": "IPY_MODEL_724b322ac7434e86b25a1f81b31f29f7",
       "value": 0.8
      }
     },
     "3ce9453aec374c22ae004113d05ce461": {
      "model_module": "@jupyter-widgets/controls",
      "model_module_version": "1.5.0",
      "model_name": "HBoxModel",
      "state": {
       "children": [
        "IPY_MODEL_e6d5dbd473ae44258850aa0c4daca57d",
        "IPY_MODEL_7bcb4dc46a0f4a579029a086d30f0af4",
        "IPY_MODEL_653352b93058497180dc1e2b8d5d1346",
        "IPY_MODEL_ca41f10b7b1d4a56a1ea91827631219d"
       ],
       "layout": "IPY_MODEL_48345bcf870e400ab9ffb867fa909f9c"
      }
     },
     "3d03b720b5f34b7195fa3bde9be44653": {
      "model_module": "@jupyter-widgets/controls",
      "model_module_version": "1.5.0",
      "model_name": "ButtonModel",
      "state": {
       "description": "Save Figure",
       "layout": "IPY_MODEL_dd1fe59363634aeca4a103fa9307602d",
       "style": "IPY_MODEL_6aceb2d3f95a4668b425d3425b90b03d"
      }
     },
     "3da16c68687e45839f12a8e9435e12c7": {
      "model_module": "@jupyter-widgets/base",
      "model_module_version": "1.2.0",
      "model_name": "LayoutModel",
      "state": {
       "border": "solid 4px #222",
       "margin": "4px",
       "padding": "0"
      }
     },
     "3e1fda712f68436b961813d412357760": {
      "model_module": "@jupyter-widgets/controls",
      "model_module_version": "1.5.0",
      "model_name": "VBoxModel",
      "state": {
       "children": [
        "IPY_MODEL_13ca687c7e084ed38e1297d09b304fd4",
        "IPY_MODEL_8f63b3621f3946a68a744709159de57b",
        "IPY_MODEL_fd0758975b8e49e484612a56480a8a7a"
       ],
       "layout": "IPY_MODEL_8989e8d4aac242f6b2e018047e7a1b9b"
      }
     },
     "3ec81226cb9c41179d43c030e448d305": {
      "model_module": "jupyter-matplotlib",
      "model_module_version": "^0.7.2",
      "model_name": "MPLCanvasModel",
      "state": {
       "_figure_label": "Figure 8",
       "_height": 458,
       "_width": 1099,
       "header_visible": false,
       "layout": "IPY_MODEL_bafee842cb8c4d69a00c8d898cfa2dab",
       "resizable": false,
       "toolbar": "IPY_MODEL_962c0e5d1f7c4e2ebd3a502e24e0163e",
       "toolbar_position": "left",
       "toolbar_visible": false
      }
     },
     "3ef6d43d619e4681a55611913ac75f79": {
      "model_module": "@jupyter-widgets/controls",
      "model_module_version": "1.5.0",
      "model_name": "VBoxModel",
      "state": {
       "children": [
        "IPY_MODEL_d139aaf1cfad412f8008bdf8749a10db",
        "IPY_MODEL_b0edb1fddf7f4c47ab301482be80b2a8",
        "IPY_MODEL_9d528eb783b841edad0b6a0100b86beb"
       ],
       "layout": "IPY_MODEL_59568f523f5f4022bb18956604a757c7"
      }
     },
     "3f67eb1589674c4cbe96f324f627de7e": {
      "model_module": "@jupyter-widgets/controls",
      "model_module_version": "1.5.0",
      "model_name": "ButtonModel",
      "state": {
       "description": "Reset Hue Controls",
       "layout": "IPY_MODEL_1e15914f315640fbb166ccf2ea1d1112",
       "style": "IPY_MODEL_1e9752edc22b49fa989648dd2f97f98c"
      }
     },
     "3f995b7f50ff4a059433f37596033054": {
      "model_module": "@jupyter-widgets/output",
      "model_module_version": "1.0.0",
      "model_name": "OutputModel",
      "state": {
       "layout": "IPY_MODEL_10f632fcf8b84e6c8f38939cc40f6c5d",
       "outputs": [
        {
         "data": {
          "application/vnd.jupyter.widget-view+json": {
           "model_id": "da8d728f4e224830841c8713033406e5",
           "version_major": 2,
           "version_minor": 0
          },
          "text/plain": "Canvas(toolbar=Toolbar(toolitems=[('Home', 'Reset original view', 'home', 'home'), ('Back', 'Back to previous …"
         },
         "metadata": {},
         "output_type": "display_data"
        }
       ]
      }
     },
     "3f99ee8f56a14932944495d730a342de": {
      "model_module": "@jupyter-widgets/controls",
      "model_module_version": "1.5.0",
      "model_name": "SliderStyleModel",
      "state": {
       "description_width": ""
      }
     },
     "3f9c840d764d42a19e1aa57094366257": {
      "model_module": "@jupyter-widgets/controls",
      "model_module_version": "1.5.0",
      "model_name": "DropdownModel",
      "state": {
       "_options_labels": [
        "tanh",
        "simple"
       ],
       "description": "Compression Function:",
       "index": 0,
       "layout": "IPY_MODEL_bb59cd035a924927baf637bcd33763a7",
       "style": "IPY_MODEL_0b58420ad2be4f39921e482341b959a9"
      }
     },
     "3fe943844be24a68b0d5eaf3bab79e39": {
      "model_module": "@jupyter-widgets/controls",
      "model_module_version": "1.5.0",
      "model_name": "ButtonModel",
      "state": {
       "description": "Reset Compression Controls",
       "layout": "IPY_MODEL_84fa7de8d96847cfaeeeaae31e4bc8f3",
       "style": "IPY_MODEL_0801379307ee4729bdc33d7b8d2f2ab1"
      }
     },
     "4069f717d55c48a4b861f4e304d870c8": {
      "model_module": "@jupyter-widgets/controls",
      "model_module_version": "1.5.0",
      "model_name": "FloatSliderModel",
      "state": {
       "description": "Compression Threshold",
       "layout": "IPY_MODEL_3a67745e7f544bfa84e1515d4c2abae5",
       "max": 1,
       "step": 0.01,
       "style": "IPY_MODEL_992f0b768b8341529adf4b749a77917a",
       "value": 0.8
      }
     },
     "407c01bf5b8b43ee83c17f71cc5090ab": {
      "model_module": "@jupyter-widgets/base",
      "model_module_version": "1.2.0",
      "model_name": "LayoutModel",
      "state": {
       "border": "solid 4px #222",
       "margin": "4px",
       "padding": "0"
      }
     },
     "40a4b99129bd42b1b4948ad934f067c1": {
      "model_module": "@jupyter-widgets/controls",
      "model_module_version": "1.5.0",
      "model_name": "FloatSliderModel",
      "state": {
       "description": "Protected Area Threshold",
       "layout": "IPY_MODEL_cbf7fc64bcbc48a5b1366573beb723ae",
       "max": 1,
       "step": 0.01,
       "style": "IPY_MODEL_3baa2ef71a364c3dab8f902d3bfc3446",
       "value": 0.7
      }
     },
     "40d78f871101433690871fed969c6902": {
      "model_module": "@jupyter-widgets/base",
      "model_module_version": "1.2.0",
      "model_name": "LayoutModel",
      "state": {}
     },
     "40d92106aedb49869abd87004cbcd0bc": {
      "model_module": "@jupyter-widgets/base",
      "model_module_version": "1.2.0",
      "model_name": "LayoutModel",
      "state": {}
     },
     "413506f952b74dcea743b4b623d02eac": {
      "model_module": "@jupyter-widgets/base",
      "model_module_version": "1.2.0",
      "model_name": "LayoutModel",
      "state": {}
     },
     "417782eefc2647afb39ed73cfecbdf96": {
      "model_module": "@jupyter-widgets/controls",
      "model_module_version": "1.5.0",
      "model_name": "ButtonModel",
      "state": {
       "description": "Export Image",
       "layout": "IPY_MODEL_aa400b9ef25e4c90bcf5e8794c40ce30",
       "style": "IPY_MODEL_79b6011cef754bea80d33ebd8490769e"
      }
     },
     "417a8cc0788441c09d800578f9bc204b": {
      "model_module": "jupyter-matplotlib",
      "model_module_version": "^0.7.2",
      "model_name": "ToolbarModel",
      "state": {
       "layout": "IPY_MODEL_2f46dc1e2e9b46c6a8602a870409ded3",
       "toolitems": [
        [
         "Home",
         "Reset original view",
         "home",
         "home"
        ],
        [
         "Back",
         "Back to previous view",
         "arrow-left",
         "back"
        ],
        [
         "Forward",
         "Forward to next view",
         "arrow-right",
         "forward"
        ],
        [
         "Pan",
         "Pan axes with left mouse, zoom with right",
         "arrows",
         "pan"
        ],
        [
         "Zoom",
         "Zoom to rectangle",
         "square-o",
         "zoom"
        ],
        [
         "Download",
         "Download plot",
         "floppy-o",
         "save_figure"
        ]
       ]
      }
     },
     "417a9b78f1254fd390f2d624c6a78c1e": {
      "model_module": "@jupyter-widgets/controls",
      "model_module_version": "1.5.0",
      "model_name": "FloatSliderModel",
      "state": {
       "description": "90°",
       "layout": "IPY_MODEL_4ced40120ce147eda399ec9a18af1318",
       "max": 1,
       "min": -1,
       "step": 0.01,
       "style": "IPY_MODEL_99c71e61bfaf4cb5a8ec2ffd5f1f5e20"
      }
     },
     "41aac5edecaf4b4fa8b7e49d5e1834df": {
      "model_module": "@jupyter-widgets/controls",
      "model_module_version": "1.5.0",
      "model_name": "VBoxModel",
      "state": {
       "children": [
        "IPY_MODEL_ab5e6d2f4bc1491081bd28bd27b48f1f"
       ],
       "layout": "IPY_MODEL_2772ae05f64244dbb9dc89ca0419a8f9"
      }
     },
     "41cc423be27d4cf68665c65ac98db686": {
      "model_module": "@jupyter-widgets/controls",
      "model_module_version": "1.5.0",
      "model_name": "ButtonStyleModel",
      "state": {}
     },
     "41d281c36e1441d9a8b51a34d50a2c2d": {
      "model_module": "@jupyter-widgets/controls",
      "model_module_version": "1.5.0",
      "model_name": "ButtonModel",
      "state": {
       "description": "Save Figure",
       "layout": "IPY_MODEL_ece17870d315458cb676719006eb9b63",
       "style": "IPY_MODEL_c46504e5332b4bb58afe6ef14ba28080"
      }
     },
     "41e2e9275e3f46099036d8164bd731c5": {
      "model_module": "@jupyter-widgets/base",
      "model_module_version": "1.2.0",
      "model_name": "LayoutModel",
      "state": {}
     },
     "4269360cf3cc477b8a4a065fd6f1160e": {
      "model_module": "@jupyter-widgets/base",
      "model_module_version": "1.2.0",
      "model_name": "LayoutModel",
      "state": {}
     },
     "4294980d60254b418e51fece41e9f0bf": {
      "model_module": "@jupyter-widgets/controls",
      "model_module_version": "1.5.0",
      "model_name": "DescriptionStyleModel",
      "state": {
       "description_width": ""
      }
     },
     "42b468c55fd14f3dbb9f5ea77bd95657": {
      "model_module": "@jupyter-widgets/base",
      "model_module_version": "1.2.0",
      "model_name": "LayoutModel",
      "state": {}
     },
     "433bcbae444641d39894b403f70222a1": {
      "model_module": "@jupyter-widgets/base",
      "model_module_version": "1.2.0",
      "model_name": "LayoutModel",
      "state": {}
     },
     "433f7ca6138e4de4bda90f987a44ff9d": {
      "model_module": "@jupyter-widgets/base",
      "model_module_version": "1.2.0",
      "model_name": "LayoutModel",
      "state": {}
     },
     "434557a86f1042f48473adb7795918e4": {
      "model_module": "@jupyter-widgets/base",
      "model_module_version": "1.2.0",
      "model_name": "LayoutModel",
      "state": {}
     },
     "435ebf02150948c19a4ddd751316bffb": {
      "model_module": "@jupyter-widgets/base",
      "model_module_version": "1.2.0",
      "model_name": "LayoutModel",
      "state": {}
     },
     "439e1397aedf486e84a21cff6d57d57b": {
      "model_module": "@jupyter-widgets/controls",
      "model_module_version": "1.5.0",
      "model_name": "SliderStyleModel",
      "state": {
       "description_width": ""
      }
     },
     "43faa28198664484bf7d97f39d033e51": {
      "model_module": "@jupyter-widgets/base",
      "model_module_version": "1.2.0",
      "model_name": "LayoutModel",
      "state": {}
     },
     "4412d65fa5e846949202e82056bec6d7": {
      "model_module": "@jupyter-widgets/controls",
      "model_module_version": "1.5.0",
      "model_name": "HBoxModel",
      "state": {
       "children": [
        "IPY_MODEL_10e9c605bf764a4ea193423a26bf8570",
        "IPY_MODEL_88f18af9b670458cb06c04ca547ab671",
        "IPY_MODEL_39ad486ed41b4093ae84229ca83af95d"
       ],
       "layout": "IPY_MODEL_88729ff1fb234dddad34bbbb68b3260f"
      }
     },
     "4415312e4a2b40fa9697977c8ca42411": {
      "model_module": "@jupyter-widgets/base",
      "model_module_version": "1.2.0",
      "model_name": "LayoutModel",
      "state": {}
     },
     "4467c6443bc340a9981299aa27986605": {
      "model_module": "@jupyter-widgets/base",
      "model_module_version": "1.2.0",
      "model_name": "LayoutModel",
      "state": {}
     },
     "44f54bbbcbb3474bb640b08f6a03d1a5": {
      "model_module": "@jupyter-widgets/base",
      "model_module_version": "1.2.0",
      "model_name": "LayoutModel",
      "state": {}
     },
     "453b2e3b73f946bc8e10a4317da384cd": {
      "model_module": "jupyter-matplotlib",
      "model_module_version": "^0.7.2",
      "model_name": "MPLCanvasModel",
      "state": {
       "_figure_label": "Figure 15",
       "_height": 430,
       "_width": 1099,
       "header_visible": false,
       "layout": "IPY_MODEL_ba19ea7f548e49ce833d9b705f05aa95",
       "resizable": false,
       "toolbar": "IPY_MODEL_9bbaf53eedf74b1dba46dff828d4d4ee",
       "toolbar_position": "left",
       "toolbar_visible": false
      }
     },
     "45577bf0d1d74f4ba3401a6852dd57d5": {
      "model_module": "@jupyter-widgets/controls",
      "model_module_version": "1.5.0",
      "model_name": "FloatSliderModel",
      "state": {
       "description": "135°",
       "layout": "IPY_MODEL_69430069c9cf45fd9c37d28aa28a4871",
       "max": 1,
       "min": -1,
       "step": 0.01,
       "style": "IPY_MODEL_d0be507026da416e80bc0936f2d8fe83"
      }
     },
     "458797335a154e66bc3704befc8377e7": {
      "model_module": "@jupyter-widgets/base",
      "model_module_version": "1.2.0",
      "model_name": "LayoutModel",
      "state": {}
     },
     "45ab5a0b6c1e4155aad09f8dd943b064": {
      "model_module": "@jupyter-widgets/controls",
      "model_module_version": "1.5.0",
      "model_name": "ButtonStyleModel",
      "state": {}
     },
     "45f049e6a8ca4b4bbbaae32867693449": {
      "model_module": "@jupyter-widgets/base",
      "model_module_version": "1.2.0",
      "model_name": "LayoutModel",
      "state": {}
     },
     "45fc8d5557964e21bac23f55c0a74906": {
      "model_module": "@jupyter-widgets/base",
      "model_module_version": "1.2.0",
      "model_name": "LayoutModel",
      "state": {}
     },
     "463c30c8c5654c519f36147c532da1bc": {
      "model_module": "@jupyter-widgets/base",
      "model_module_version": "1.2.0",
      "model_name": "LayoutModel",
      "state": {}
     },
     "465020d40b5f485badcc005b8f92b972": {
      "model_module": "@jupyter-widgets/base",
      "model_module_version": "1.2.0",
      "model_name": "LayoutModel",
      "state": {}
     },
     "46563d819de54b20b63c8afa0e29998f": {
      "model_module": "@jupyter-widgets/base",
      "model_module_version": "1.2.0",
      "model_name": "LayoutModel",
      "state": {}
     },
     "4691af6fa90f43f1b6613a4198c89892": {
      "model_module": "@jupyter-widgets/controls",
      "model_module_version": "1.5.0",
      "model_name": "SliderStyleModel",
      "state": {
       "description_width": ""
      }
     },
     "46ccd1a2fcaf4d10be428a93949ba3e9": {
      "model_module": "@jupyter-widgets/base",
      "model_module_version": "1.2.0",
      "model_name": "LayoutModel",
      "state": {}
     },
     "474a8c7fa3fd40e9b3a81a77f1cf4cb9": {
      "model_module": "@jupyter-widgets/base",
      "model_module_version": "1.2.0",
      "model_name": "LayoutModel",
      "state": {}
     },
     "47642bd30cc14cddb5770ba9c00af3a8": {
      "model_module": "@jupyter-widgets/controls",
      "model_module_version": "1.5.0",
      "model_name": "SliderStyleModel",
      "state": {
       "description_width": ""
      }
     },
     "4784c69e24f1424c805a6ca9f886a8df": {
      "model_module": "@jupyter-widgets/controls",
      "model_module_version": "1.5.0",
      "model_name": "DescriptionStyleModel",
      "state": {
       "description_width": ""
      }
     },
     "47902f0b6cee44219e2522fec57b8a19": {
      "model_module": "@jupyter-widgets/controls",
      "model_module_version": "1.5.0",
      "model_name": "SliderStyleModel",
      "state": {
       "description_width": ""
      }
     },
     "482a16ad75fb4f999117de01d5406d6e": {
      "model_module": "@jupyter-widgets/controls",
      "model_module_version": "1.5.0",
      "model_name": "SliderStyleModel",
      "state": {
       "description_width": ""
      }
     },
     "48345bcf870e400ab9ffb867fa909f9c": {
      "model_module": "@jupyter-widgets/base",
      "model_module_version": "1.2.0",
      "model_name": "LayoutModel",
      "state": {}
     },
     "48c2c2d2413b4b9c8b99085ca99f6a94": {
      "model_module": "@jupyter-widgets/base",
      "model_module_version": "1.2.0",
      "model_name": "LayoutModel",
      "state": {
       "border": "solid 4px #222",
       "margin": "4px",
       "padding": "0"
      }
     },
     "48cf9eaa9b624fc5a4a2481ce790d4c3": {
      "model_module": "@jupyter-widgets/base",
      "model_module_version": "1.2.0",
      "model_name": "LayoutModel",
      "state": {}
     },
     "48db2871a03d4e6db98ad58dfe3e8fcd": {
      "model_module": "@jupyter-widgets/base",
      "model_module_version": "1.2.0",
      "model_name": "LayoutModel",
      "state": {}
     },
     "48dcbf91c1de499388ab65b41f55e65f": {
      "model_module": "@jupyter-widgets/controls",
      "model_module_version": "1.5.0",
      "model_name": "SliderStyleModel",
      "state": {
       "description_width": ""
      }
     },
     "48e213bcdeb34b569fb4455b4571b375": {
      "model_module": "@jupyter-widgets/base",
      "model_module_version": "1.2.0",
      "model_name": "LayoutModel",
      "state": {
       "border": "solid 4px #222",
       "margin": "4px",
       "padding": "0"
      }
     },
     "4942f381920f4c0ca98993f7ce4183f0": {
      "model_module": "@jupyter-widgets/controls",
      "model_module_version": "1.5.0",
      "model_name": "FloatSliderModel",
      "state": {
       "description": "Protected Area Threshold",
       "layout": "IPY_MODEL_e74b9be689644f17a95c39cc365a60ee",
       "max": 1,
       "step": 0.01,
       "style": "IPY_MODEL_269a9878d97a48bdbd7ed58907ff933b",
       "value": 0.7
      }
     },
     "498263f3e6d04d27875ee7df97458172": {
      "model_module": "@jupyter-widgets/controls",
      "model_module_version": "1.5.0",
      "model_name": "FloatSliderModel",
      "state": {
       "description": "Exposure",
       "layout": "IPY_MODEL_12afb485d44e4734b24d3a04125b5616",
       "max": 8,
       "min": -8,
       "step": 0.1,
       "style": "IPY_MODEL_d34671863c284537ab6f5fe29f46f0ca"
      }
     },
     "49bda73929b04a768c8601993666dd50": {
      "model_module": "@jupyter-widgets/base",
      "model_module_version": "1.2.0",
      "model_name": "LayoutModel",
      "state": {}
     },
     "4a235540578a4034b19785a5a36a4569": {
      "model_module": "@jupyter-widgets/base",
      "model_module_version": "1.2.0",
      "model_name": "LayoutModel",
      "state": {}
     },
     "4a5e0f101dff4b88bb8c3bd30d8725fe": {
      "model_module": "@jupyter-widgets/controls",
      "model_module_version": "1.5.0",
      "model_name": "ButtonStyleModel",
      "state": {}
     },
     "4a70a504dbee42f2987f38675b169b61": {
      "model_module": "@jupyter-widgets/output",
      "model_module_version": "1.0.0",
      "model_name": "OutputModel",
      "state": {
       "layout": "IPY_MODEL_48e213bcdeb34b569fb4455b4571b375",
       "outputs": [
        {
         "data": {
          "application/vnd.jupyter.widget-view+json": {
           "model_id": "e64a4a1befce4249977180ee880e2353",
           "version_major": 2,
           "version_minor": 0
          },
          "text/plain": "Canvas(toolbar=Toolbar(toolitems=[('Home', 'Reset original view', 'home', 'home'), ('Back', 'Back to previous …"
         },
         "metadata": {},
         "output_type": "display_data"
        }
       ]
      }
     },
     "4aa288446adb4f1383d3c742f4723d9d": {
      "model_module": "@jupyter-widgets/controls",
      "model_module_version": "1.5.0",
      "model_name": "FloatSliderModel",
      "state": {
       "description": "90°",
       "layout": "IPY_MODEL_bfd5b226499e4058b9a3412ad3b5baf3",
       "max": 1,
       "min": -1,
       "step": 0.01,
       "style": "IPY_MODEL_89a02c91158f401ca2bb2a9835e7b129"
      }
     },
     "4acb45e6173a41d98de46fd86f806578": {
      "model_module": "@jupyter-widgets/controls",
      "model_module_version": "1.5.0",
      "model_name": "CheckboxModel",
      "state": {
       "description": "Disable Medicina",
       "disabled": false,
       "layout": "IPY_MODEL_35cc45cdc7d041419dad4a31407e0a66",
       "style": "IPY_MODEL_f4c7adbfaf1c432b800034ab4eea3735",
       "value": false
      }
     },
     "4ad1fb38051b47e6ad51daae7cc6f9b8": {
      "model_module": "@jupyter-widgets/controls",
      "model_module_version": "1.5.0",
      "model_name": "SliderStyleModel",
      "state": {
       "description_width": ""
      }
     },
     "4addc8232d1b470188e2f331a3997871": {
      "model_module": "@jupyter-widgets/base",
      "model_module_version": "1.2.0",
      "model_name": "LayoutModel",
      "state": {}
     },
     "4b58ed9a1a74427d9f4164d58db00ba1": {
      "model_module": "@jupyter-widgets/controls",
      "model_module_version": "1.5.0",
      "model_name": "TabModel",
      "state": {
       "_titles": {
        "0": "Global Controls",
        "1": "Compression Controls"
       },
       "children": [
        "IPY_MODEL_951f5f290b404a169bedf989fdfbd60d",
        "IPY_MODEL_fba4e4ee856a4b068d6b64cf30434392"
       ],
       "layout": "IPY_MODEL_e0d45feae79b4f16b09e2fc8d301fb70"
      }
     },
     "4b917b8eba5d4924adb44ebf3350e419": {
      "model_module": "@jupyter-widgets/base",
      "model_module_version": "1.2.0",
      "model_name": "LayoutModel",
      "state": {}
     },
     "4bb38e2548e54464bf2d2ee7ddd4f7cb": {
      "model_module": "@jupyter-widgets/base",
      "model_module_version": "1.2.0",
      "model_name": "LayoutModel",
      "state": {}
     },
     "4bdee51e80c34a889b7f16fa5ce1a3fa": {
      "model_module": "@jupyter-widgets/controls",
      "model_module_version": "1.5.0",
      "model_name": "ButtonStyleModel",
      "state": {}
     },
     "4bf9b277ae0643e5bed314a0c8e6c5aa": {
      "model_module": "@jupyter-widgets/base",
      "model_module_version": "1.2.0",
      "model_name": "LayoutModel",
      "state": {}
     },
     "4c6c0ea535c3441d83cdb0c241867b50": {
      "model_module": "@jupyter-widgets/base",
      "model_module_version": "1.2.0",
      "model_name": "LayoutModel",
      "state": {}
     },
     "4c7b652b1c3541d0a0977526a8d6e3e1": {
      "model_module": "@jupyter-widgets/base",
      "model_module_version": "1.2.0",
      "model_name": "LayoutModel",
      "state": {}
     },
     "4cc11493c7474b93b9d5c7afcf363a2d": {
      "model_module": "@jupyter-widgets/controls",
      "model_module_version": "1.5.0",
      "model_name": "ButtonStyleModel",
      "state": {}
     },
     "4cd50fc7d10f462692b1fa12737f095f": {
      "model_module": "@jupyter-widgets/base",
      "model_module_version": "1.2.0",
      "model_name": "LayoutModel",
      "state": {
       "border": "solid 4px #222",
       "margin": "4px",
       "padding": "0"
      }
     },
     "4ced40120ce147eda399ec9a18af1318": {
      "model_module": "@jupyter-widgets/base",
      "model_module_version": "1.2.0",
      "model_name": "LayoutModel",
      "state": {}
     },
     "4cf0a173413d4e25b82972736ea3bd2d": {
      "model_module": "@jupyter-widgets/controls",
      "model_module_version": "1.5.0",
      "model_name": "SliderStyleModel",
      "state": {
       "description_width": ""
      }
     },
     "4d1207fd966b4a1e88abb9ea85601635": {
      "model_module": "@jupyter-widgets/base",
      "model_module_version": "1.2.0",
      "model_name": "LayoutModel",
      "state": {}
     },
     "4d3502c6681144d2b8283490efc82204": {
      "model_module": "@jupyter-widgets/base",
      "model_module_version": "1.2.0",
      "model_name": "LayoutModel",
      "state": {}
     },
     "4d8bbc9a715e4f15922168506f316a8e": {
      "model_module": "@jupyter-widgets/base",
      "model_module_version": "1.2.0",
      "model_name": "LayoutModel",
      "state": {}
     },
     "4d955a52c3654c4599e72b72bc7e37df": {
      "model_module": "@jupyter-widgets/controls",
      "model_module_version": "1.5.0",
      "model_name": "ButtonModel",
      "state": {
       "description": "Save Figure",
       "layout": "IPY_MODEL_cf0c0d13264c45e5b680ce273aebf584",
       "style": "IPY_MODEL_e37c597860da4fa481122dcb4f6b962c"
      }
     },
     "4db5d06bf1f7425dacef7a4b836c6dbe": {
      "model_module": "@jupyter-widgets/base",
      "model_module_version": "1.2.0",
      "model_name": "LayoutModel",
      "state": {}
     },
     "4dcc0b312249448cba9530a698fea938": {
      "model_module": "@jupyter-widgets/controls",
      "model_module_version": "1.5.0",
      "model_name": "ButtonStyleModel",
      "state": {}
     },
     "4de26108f4c046ff8618ffff8455a3d1": {
      "model_module": "@jupyter-widgets/controls",
      "model_module_version": "1.5.0",
      "model_name": "ButtonStyleModel",
      "state": {}
     },
     "4e8a3dbd394d4a6fb730ae5fcdca9309": {
      "model_module": "@jupyter-widgets/controls",
      "model_module_version": "1.5.0",
      "model_name": "TabModel",
      "state": {
       "_titles": {
        "0": "Global Controls"
       },
       "children": [
        "IPY_MODEL_d17153340e6a4b72a421aba05d7c875a"
       ],
       "layout": "IPY_MODEL_48c2c2d2413b4b9c8b99085ca99f6a94"
      }
     },
     "4e90be6fbc9446138df3dd432a3562be": {
      "model_module": "@jupyter-widgets/controls",
      "model_module_version": "1.5.0",
      "model_name": "DropdownModel",
      "state": {
       "_options_labels": [
        "tanh",
        "simple"
       ],
       "description": "Compression Function:",
       "index": 0,
       "layout": "IPY_MODEL_512263537cd847f5a0804fc5bf10b5bc",
       "style": "IPY_MODEL_d2a063b85be14432a7a8760196874ada"
      }
     },
     "4ec558b1f2824ff99bfd09806244e04f": {
      "model_module": "@jupyter-widgets/controls",
      "model_module_version": "1.5.0",
      "model_name": "CheckboxModel",
      "state": {
       "description": "Disable Medicina",
       "disabled": false,
       "layout": "IPY_MODEL_42b468c55fd14f3dbb9f5ea77bd95657",
       "style": "IPY_MODEL_6f339890452d4096912a6f6c0fa07a3f",
       "value": false
      }
     },
     "4ec7154e5dcb44148fd226e521ed4632": {
      "model_module": "@jupyter-widgets/controls",
      "model_module_version": "1.5.0",
      "model_name": "FloatSliderModel",
      "state": {
       "description": "225°",
       "layout": "IPY_MODEL_16022d7b6ea9450fb9303b17109db39f",
       "max": 1,
       "min": -1,
       "step": 0.01,
       "style": "IPY_MODEL_116aed889c6245ee81cea142b30c0db7"
      }
     },
     "4ee03b22b228498a8c5a65b2c647e6c6": {
      "model_module": "@jupyter-widgets/controls",
      "model_module_version": "1.5.0",
      "model_name": "FloatSliderModel",
      "state": {
       "description": "270°",
       "layout": "IPY_MODEL_bef5f70558f841eda8dc24f0528dec26",
       "max": 1,
       "min": -1,
       "step": 0.01,
       "style": "IPY_MODEL_b09ec4815f2249c0a12be61d605a16ba"
      }
     },
     "4f2309f833c842eb90d59139c57960ea": {
      "model_module": "@jupyter-widgets/controls",
      "model_module_version": "1.5.0",
      "model_name": "SliderStyleModel",
      "state": {
       "description_width": ""
      }
     },
     "4f2ab9e8901b47c2b16cb441b5bb7541": {
      "model_module": "@jupyter-widgets/controls",
      "model_module_version": "1.5.0",
      "model_name": "SliderStyleModel",
      "state": {
       "description_width": ""
      }
     },
     "4f637b502aa94fa6bd72dc589b8f97eb": {
      "model_module": "@jupyter-widgets/controls",
      "model_module_version": "1.5.0",
      "model_name": "FloatSliderModel",
      "state": {
       "description": "180°",
       "layout": "IPY_MODEL_45fc8d5557964e21bac23f55c0a74906",
       "max": 1,
       "min": -1,
       "step": 0.01,
       "style": "IPY_MODEL_50064e53348748bfb03de5d863db7a1d"
      }
     },
     "4f77d61c3166429d9de01ea66af4de47": {
      "model_module": "@jupyter-widgets/controls",
      "model_module_version": "1.5.0",
      "model_name": "SliderStyleModel",
      "state": {
       "description_width": ""
      }
     },
     "4f8b644313f640439dd9d693ba353f5f": {
      "model_module": "@jupyter-widgets/controls",
      "model_module_version": "1.5.0",
      "model_name": "DescriptionStyleModel",
      "state": {
       "description_width": ""
      }
     },
     "4fad1a7eaf664da58f28dc0f398e0c86": {
      "model_module": "@jupyter-widgets/base",
      "model_module_version": "1.2.0",
      "model_name": "LayoutModel",
      "state": {}
     },
     "4fb04c0810354a5fbbef24f65d0d5182": {
      "model_module": "@jupyter-widgets/controls",
      "model_module_version": "1.5.0",
      "model_name": "CheckboxModel",
      "state": {
       "description": "Disable Medicina",
       "disabled": false,
       "layout": "IPY_MODEL_77b54668791e427e9ad7759bbb241a6a",
       "style": "IPY_MODEL_c51e0a581e504028999ac013043d8544",
       "value": false
      }
     },
     "4ff41229c08547878d30316fef296454": {
      "model_module": "@jupyter-widgets/controls",
      "model_module_version": "1.5.0",
      "model_name": "CheckboxModel",
      "state": {
       "description": "Disable Medicina",
       "disabled": false,
       "layout": "IPY_MODEL_527e7b42ea7046b2ad4b266f3c5636d7",
       "style": "IPY_MODEL_96b4d1475c234d0886187ba90405de27",
       "value": false
      }
     },
     "50064e53348748bfb03de5d863db7a1d": {
      "model_module": "@jupyter-widgets/controls",
      "model_module_version": "1.5.0",
      "model_name": "SliderStyleModel",
      "state": {
       "description_width": ""
      }
     },
     "5015850dbc1b48dbae4667fea11731d1": {
      "model_module": "@jupyter-widgets/controls",
      "model_module_version": "1.5.0",
      "model_name": "ButtonStyleModel",
      "state": {}
     },
     "50184a2d209f46288070e51abac0a675": {
      "model_module": "@jupyter-widgets/base",
      "model_module_version": "1.2.0",
      "model_name": "LayoutModel",
      "state": {}
     },
     "5033c32d9a914deb8ac725048583d9d5": {
      "model_module": "@jupyter-widgets/controls",
      "model_module_version": "1.5.0",
      "model_name": "SliderStyleModel",
      "state": {
       "description_width": ""
      }
     },
     "50a007f5607149f0a50ecdd853b4b311": {
      "model_module": "@jupyter-widgets/controls",
      "model_module_version": "1.5.0",
      "model_name": "ButtonStyleModel",
      "state": {}
     },
     "50cb4ca2edfc44deba56b03f269210da": {
      "model_module": "@jupyter-widgets/base",
      "model_module_version": "1.2.0",
      "model_name": "LayoutModel",
      "state": {}
     },
     "50e3e84e7dc04be08a06002dfb1ad149": {
      "model_module": "@jupyter-widgets/base",
      "model_module_version": "1.2.0",
      "model_name": "LayoutModel",
      "state": {}
     },
     "512263537cd847f5a0804fc5bf10b5bc": {
      "model_module": "@jupyter-widgets/base",
      "model_module_version": "1.2.0",
      "model_name": "LayoutModel",
      "state": {}
     },
     "51319aadce1f4ca0b7059b0446f169dd": {
      "model_module": "@jupyter-widgets/base",
      "model_module_version": "1.2.0",
      "model_name": "LayoutModel",
      "state": {}
     },
     "51331878a5154a38a9c2b3b0f6b6b3d0": {
      "model_module": "@jupyter-widgets/controls",
      "model_module_version": "1.5.0",
      "model_name": "FloatSliderModel",
      "state": {
       "description": "315°",
       "layout": "IPY_MODEL_da052aea01f34b2396a740bc3a2820df",
       "max": 1,
       "min": -1,
       "step": 0.01,
       "style": "IPY_MODEL_d1da01b4f2e5445896aa116db3a1b3e6"
      }
     },
     "5152cd0d8b8f4177925df3ac02c688ab": {
      "model_module": "@jupyter-widgets/controls",
      "model_module_version": "1.5.0",
      "model_name": "ButtonModel",
      "state": {
       "description": "Export Image",
       "layout": "IPY_MODEL_a257866e21be42108daaf8a5d1c0f000",
       "style": "IPY_MODEL_d9eda2220dea48e586d6f6d984db1945"
      }
     },
     "51df61cc2a8c4f688d8b0691719801f2": {
      "model_module": "@jupyter-widgets/controls",
      "model_module_version": "1.5.0",
      "model_name": "FloatSliderModel",
      "state": {
       "description": "135°",
       "layout": "IPY_MODEL_6b136643593549c2b4586232e9683f2a",
       "max": 1,
       "min": -1,
       "step": 0.01,
       "style": "IPY_MODEL_f6eab23e2e1a48b991ef7ca5dc59b9d6"
      }
     },
     "51eccf3fe3de473282402301bb2890e6": {
      "model_module": "@jupyter-widgets/base",
      "model_module_version": "1.2.0",
      "model_name": "LayoutModel",
      "state": {}
     },
     "525cf435059f4deb88e8787ecef5b863": {
      "model_module": "@jupyter-widgets/base",
      "model_module_version": "1.2.0",
      "model_name": "LayoutModel",
      "state": {}
     },
     "527e7b42ea7046b2ad4b266f3c5636d7": {
      "model_module": "@jupyter-widgets/base",
      "model_module_version": "1.2.0",
      "model_name": "LayoutModel",
      "state": {}
     },
     "52d75e8c428943b2a2c3dd96091a4b28": {
      "model_module": "@jupyter-widgets/base",
      "model_module_version": "1.2.0",
      "model_name": "LayoutModel",
      "state": {}
     },
     "52f137c403a943acb44827dae2ee6b66": {
      "model_module": "@jupyter-widgets/base",
      "model_module_version": "1.2.0",
      "model_name": "LayoutModel",
      "state": {}
     },
     "530e9a8a69eb4bbf80a442fc503a8db1": {
      "model_module": "@jupyter-widgets/controls",
      "model_module_version": "1.5.0",
      "model_name": "FloatSliderModel",
      "state": {
       "description": "315°",
       "layout": "IPY_MODEL_d59ae703c2c643c4a127991e9ee37e0e",
       "max": 1,
       "min": -1,
       "step": 0.01,
       "style": "IPY_MODEL_6dd8cfc1f80a4746a1c28bc973a44a94"
      }
     },
     "531639ed2fca473b865a40fa828a2535": {
      "model_module": "@jupyter-widgets/base",
      "model_module_version": "1.2.0",
      "model_name": "LayoutModel",
      "state": {}
     },
     "5338d4d49b32476fa6288d59f94ffa37": {
      "model_module": "@jupyter-widgets/controls",
      "model_module_version": "1.5.0",
      "model_name": "HBoxModel",
      "state": {
       "children": [
        "IPY_MODEL_4acb45e6173a41d98de46fd86f806578",
        "IPY_MODEL_d4be9e99f0c04a629302e1bc17ddbf28",
        "IPY_MODEL_963bb772b367464ab6ea63d87c2f566e",
        "IPY_MODEL_498263f3e6d04d27875ee7df97458172"
       ],
       "layout": "IPY_MODEL_236f9a60c8da466d9353d6e4f72c4eab"
      }
     },
     "535f9d13830646eca067d2a26e5177ef": {
      "model_module": "@jupyter-widgets/controls",
      "model_module_version": "1.5.0",
      "model_name": "VBoxModel",
      "state": {
       "children": [
        "IPY_MODEL_0654da3e46cf42729618ead1eff63133",
        "IPY_MODEL_bcd74782652e4779b8675c8ac9742acd"
       ],
       "layout": "IPY_MODEL_78de725bf4be4579931bb6e021d38a8e"
      }
     },
     "536eb75aba7b4919bb58b2fd19daad73": {
      "model_module": "@jupyter-widgets/base",
      "model_module_version": "1.2.0",
      "model_name": "LayoutModel",
      "state": {
       "border": "solid 4px #222",
       "margin": "4px",
       "padding": "0"
      }
     },
     "53732ea91eaf4bd9af210e2a032cb561": {
      "model_module": "@jupyter-widgets/controls",
      "model_module_version": "1.5.0",
      "model_name": "CheckboxModel",
      "state": {
       "description": "Disable Medicina",
       "disabled": false,
       "layout": "IPY_MODEL_1fc1034f5319486cb14d4f4c7ceca4fd",
       "style": "IPY_MODEL_34954ae0100c4ac38dfea73cbcf9fa18",
       "value": false
      }
     },
     "538a780fed36430690017da0ddd724ed": {
      "model_module": "@jupyter-widgets/controls",
      "model_module_version": "1.5.0",
      "model_name": "ButtonStyleModel",
      "state": {}
     },
     "53d5a8247670479287c1e675e81571a5": {
      "model_module": "@jupyter-widgets/controls",
      "model_module_version": "1.5.0",
      "model_name": "DropdownModel",
      "state": {
       "_options_labels": [
        "tanh",
        "simple"
       ],
       "description": "Compression Function:",
       "index": 0,
       "layout": "IPY_MODEL_d91a5c62b2e34ab6ab35df1fe470d882",
       "style": "IPY_MODEL_8d7f46b2f8d14db1a891027d7e68129a"
      }
     },
     "5453f80ffaed41d4afc8d9139e2a9961": {
      "model_module": "@jupyter-widgets/base",
      "model_module_version": "1.2.0",
      "model_name": "LayoutModel",
      "state": {}
     },
     "5457b99cd7234e8ba9beaa6bdffb8233": {
      "model_module": "@jupyter-widgets/controls",
      "model_module_version": "1.5.0",
      "model_name": "FloatSliderModel",
      "state": {
       "description": "180°",
       "layout": "IPY_MODEL_0fccd213fb994af19c749c860c410fe8",
       "max": 1,
       "min": -1,
       "step": 0.01,
       "style": "IPY_MODEL_03f00130f5034fc68c0f853398082d20"
      }
     },
     "545eaf7cd6cf4fd096ef109a84bce06e": {
      "model_module": "@jupyter-widgets/controls",
      "model_module_version": "1.5.0",
      "model_name": "HBoxModel",
      "state": {
       "children": [
        "IPY_MODEL_7c31ed055d0e403dbd147980ca8331cc",
        "IPY_MODEL_7d33231b6a254964898672e04a383cb0",
        "IPY_MODEL_9b2f1fdd78654b15bcc17d2992ece5c5"
       ],
       "layout": "IPY_MODEL_950d571a2e354d1eb00befa31648ee14"
      }
     },
     "54a654c418ab4d95b83f0a33d8abf41b": {
      "model_module": "@jupyter-widgets/controls",
      "model_module_version": "1.5.0",
      "model_name": "FloatSliderModel",
      "state": {
       "description": "315°",
       "layout": "IPY_MODEL_d461e0c0fc4a4d2c99a53a42b4f6196f",
       "max": 1,
       "min": -1,
       "step": 0.01,
       "style": "IPY_MODEL_7c832e4462da4a11b6b9782cc4f4c0eb"
      }
     },
     "54c8b83ef07447b9b8cbc67a0af41ea2": {
      "model_module": "jupyter-matplotlib",
      "model_module_version": "^0.7.2",
      "model_name": "ToolbarModel",
      "state": {
       "layout": "IPY_MODEL_a2db5242c55a44709d98974848bc63b8",
       "toolitems": [
        [
         "Home",
         "Reset original view",
         "home",
         "home"
        ],
        [
         "Back",
         "Back to previous view",
         "arrow-left",
         "back"
        ],
        [
         "Forward",
         "Forward to next view",
         "arrow-right",
         "forward"
        ],
        [
         "Pan",
         "Pan axes with left mouse, zoom with right",
         "arrows",
         "pan"
        ],
        [
         "Zoom",
         "Zoom to rectangle",
         "square-o",
         "zoom"
        ],
        [
         "Download",
         "Download plot",
         "floppy-o",
         "save_figure"
        ]
       ]
      }
     },
     "553fbbd8cc78432d8a2f05949e8e66f2": {
      "model_module": "@jupyter-widgets/controls",
      "model_module_version": "1.5.0",
      "model_name": "VBoxModel",
      "state": {
       "children": [
        "IPY_MODEL_88f41eccfdfd4b99bfd6fcdd4f61001b",
        "IPY_MODEL_51331878a5154a38a9c2b3b0f6b6b3d0"
       ],
       "layout": "IPY_MODEL_a8afe4b95d174e8f80dc4f3d5536cf15"
      }
     },
     "5585263044904175a252e9cd5b8a7244": {
      "model_module": "@jupyter-widgets/base",
      "model_module_version": "1.2.0",
      "model_name": "LayoutModel",
      "state": {}
     },
     "55aa584dabdc4b67885cf66aad409703": {
      "model_module": "@jupyter-widgets/controls",
      "model_module_version": "1.5.0",
      "model_name": "ButtonStyleModel",
      "state": {}
     },
     "55fa223104af42919eea164f80cb0b23": {
      "model_module": "@jupyter-widgets/controls",
      "model_module_version": "1.5.0",
      "model_name": "ButtonStyleModel",
      "state": {}
     },
     "560e60304bb54817877a6f27e80171b5": {
      "model_module": "@jupyter-widgets/controls",
      "model_module_version": "1.5.0",
      "model_name": "BoxModel",
      "state": {
       "children": [
        "IPY_MODEL_c2f9994004124f54bb3a5aa55ff13d95",
        "IPY_MODEL_02091ab9c7de41e19d647e5fa35d8357"
       ],
       "layout": "IPY_MODEL_79a5fff2520849cf98ce07dd8362d8f0"
      }
     },
     "56580dba24de44dc874ae86680ee0b06": {
      "model_module": "@jupyter-widgets/controls",
      "model_module_version": "1.5.0",
      "model_name": "HBoxModel",
      "state": {
       "children": [
        "IPY_MODEL_5f4e7cfbf13847e5afd55b6f9d102e0a",
        "IPY_MODEL_92a45ff82cc64bc2bb72854c2e27c760",
        "IPY_MODEL_4069f717d55c48a4b861f4e304d870c8"
       ],
       "layout": "IPY_MODEL_7b7330f33c554217838cd0bcb86eeafc"
      }
     },
     "5661ad3d0ffb4865a23cb3b34537a777": {
      "model_module": "@jupyter-widgets/base",
      "model_module_version": "1.2.0",
      "model_name": "LayoutModel",
      "state": {}
     },
     "5672437afce84d6a966845d8bdeaeccd": {
      "model_module": "@jupyter-widgets/base",
      "model_module_version": "1.2.0",
      "model_name": "LayoutModel",
      "state": {}
     },
     "56c07d80ab5244018dbba5dea2521c77": {
      "model_module": "@jupyter-widgets/base",
      "model_module_version": "1.2.0",
      "model_name": "LayoutModel",
      "state": {}
     },
     "56e028e55eab4129aa431f21f68b05ee": {
      "model_module": "@jupyter-widgets/controls",
      "model_module_version": "1.5.0",
      "model_name": "FloatSliderModel",
      "state": {
       "description": "Protected Area Threshold",
       "layout": "IPY_MODEL_8fdce660d7684b138ca9a44266d55868",
       "max": 1,
       "step": 0.01,
       "style": "IPY_MODEL_7a841cabc05543ffadba540a9d344f60",
       "value": 0.7
      }
     },
     "5753ed26deab43a7b118091e703ca011": {
      "model_module": "@jupyter-widgets/base",
      "model_module_version": "1.2.0",
      "model_name": "LayoutModel",
      "state": {}
     },
     "5779cf2ce9f14e2abf1b746da433371d": {
      "model_module": "@jupyter-widgets/controls",
      "model_module_version": "1.5.0",
      "model_name": "CheckboxModel",
      "state": {
       "description": "Disable Medicina",
       "disabled": false,
       "layout": "IPY_MODEL_ab83b3d93e8e4666968c94adfd09d6b4",
       "style": "IPY_MODEL_c739c80cad1a4ec58fbe77c918f3f151",
       "value": false
      }
     },
     "578b14a9b5744ca8aec4a10e653d8e4c": {
      "model_module": "@jupyter-widgets/base",
      "model_module_version": "1.2.0",
      "model_name": "LayoutModel",
      "state": {}
     },
     "57982945d80c4ca7b4f0b10babdeaedb": {
      "model_module": "@jupyter-widgets/controls",
      "model_module_version": "1.5.0",
      "model_name": "FloatSliderModel",
      "state": {
       "description": "270°",
       "layout": "IPY_MODEL_4db5d06bf1f7425dacef7a4b836c6dbe",
       "max": 1,
       "min": -1,
       "step": 0.01,
       "style": "IPY_MODEL_fa7754fe6c524204b876901373b17838"
      }
     },
     "57c92e0b4b2545f1892d6a459e28bea0": {
      "model_module": "@jupyter-widgets/controls",
      "model_module_version": "1.5.0",
      "model_name": "VBoxModel",
      "state": {
       "children": [
        "IPY_MODEL_c7ce4a619ff54bc3aed687f8d681ff84"
       ],
       "layout": "IPY_MODEL_076850f2e5014d82a8a8a8b99308b510"
      }
     },
     "57c9e1ca51ad40709245311ef0cf6d82": {
      "model_module": "@jupyter-widgets/controls",
      "model_module_version": "1.5.0",
      "model_name": "VBoxModel",
      "state": {
       "children": [
        "IPY_MODEL_e1ad337cb50d4747a88ff4e0987d9134",
        "IPY_MODEL_65be5afb80d44077bff7981f453c0009",
        "IPY_MODEL_12ac299402524673b62ca76dd9e04d5d"
       ],
       "layout": "IPY_MODEL_7a98c4adb9824ac085e57c97916cdc32"
      }
     },
     "57e3b19d5de842faa5d00340cb5419e0": {
      "model_module": "@jupyter-widgets/base",
      "model_module_version": "1.2.0",
      "model_name": "LayoutModel",
      "state": {}
     },
     "5834b65da31545a79a1d1d2f94114ecf": {
      "model_module": "@jupyter-widgets/controls",
      "model_module_version": "1.5.0",
      "model_name": "FloatSliderModel",
      "state": {
       "description": "Exposure",
       "layout": "IPY_MODEL_9df8fcb02fdb4758a6456b22843dc151",
       "max": 8,
       "min": -8,
       "step": 0.1,
       "style": "IPY_MODEL_482a16ad75fb4f999117de01d5406d6e"
      }
     },
     "5891478fbf11497fb0078e6e732f7714": {
      "model_module": "@jupyter-widgets/controls",
      "model_module_version": "1.5.0",
      "model_name": "ButtonModel",
      "state": {
       "description": "Save Figure",
       "layout": "IPY_MODEL_6b6b4d1daf274d59a8fe21533a337f10",
       "style": "IPY_MODEL_241c8ccb06bf4394bdd7c061d5579ef6"
      }
     },
     "595120445b7e490f96b82d27ce407643": {
      "model_module": "@jupyter-widgets/base",
      "model_module_version": "1.2.0",
      "model_name": "LayoutModel",
      "state": {}
     },
     "59568f523f5f4022bb18956604a757c7": {
      "model_module": "@jupyter-widgets/base",
      "model_module_version": "1.2.0",
      "model_name": "LayoutModel",
      "state": {}
     },
     "59e7cb51351b438d9ff205defbf8370d": {
      "model_module": "jupyter-matplotlib",
      "model_module_version": "^0.7.2",
      "model_name": "ToolbarModel",
      "state": {
       "layout": "IPY_MODEL_d06eac798a094c5b84685fa6e82046d7",
       "toolitems": [
        [
         "Home",
         "Reset original view",
         "home",
         "home"
        ],
        [
         "Back",
         "Back to previous view",
         "arrow-left",
         "back"
        ],
        [
         "Forward",
         "Forward to next view",
         "arrow-right",
         "forward"
        ],
        [
         "Pan",
         "Pan axes with left mouse, zoom with right",
         "arrows",
         "pan"
        ],
        [
         "Zoom",
         "Zoom to rectangle",
         "square-o",
         "zoom"
        ],
        [
         "Download",
         "Download plot",
         "floppy-o",
         "save_figure"
        ]
       ]
      }
     },
     "5a0f2cc03c4c47adb67615a9eb059630": {
      "model_module": "@jupyter-widgets/base",
      "model_module_version": "1.2.0",
      "model_name": "LayoutModel",
      "state": {
       "border": "solid 4px #222",
       "margin": "4px",
       "padding": "0"
      }
     },
     "5a10a503a1f149fdbf98221fab529fe2": {
      "model_module": "@jupyter-widgets/base",
      "model_module_version": "1.2.0",
      "model_name": "LayoutModel",
      "state": {}
     },
     "5a9e2d68ebef47559959ee3336ea3246": {
      "model_module": "@jupyter-widgets/base",
      "model_module_version": "1.2.0",
      "model_name": "LayoutModel",
      "state": {}
     },
     "5b6fe413f5594ad8a19f2bf960c3b88c": {
      "model_module": "@jupyter-widgets/base",
      "model_module_version": "1.2.0",
      "model_name": "LayoutModel",
      "state": {}
     },
     "5b7016f5418542ed89643fdcafffea55": {
      "model_module": "@jupyter-widgets/controls",
      "model_module_version": "1.5.0",
      "model_name": "FloatSliderModel",
      "state": {
       "description": "225°",
       "layout": "IPY_MODEL_15c63d9091ba48e8b880bb31cc136b66",
       "max": 1,
       "min": -1,
       "step": 0.01,
       "style": "IPY_MODEL_118894183e3d456db842e2f8bfc0b168"
      }
     },
     "5b96c6c0aa9347cba37a80eb0d5e19f4": {
      "model_module": "@jupyter-widgets/controls",
      "model_module_version": "1.5.0",
      "model_name": "ButtonStyleModel",
      "state": {}
     },
     "5b9c807659f243f39df793fe2cc5b2b6": {
      "model_module": "@jupyter-widgets/controls",
      "model_module_version": "1.5.0",
      "model_name": "ButtonModel",
      "state": {
       "description": "Reset Protected Area",
       "layout": "IPY_MODEL_7d814a0eb281427d973eb4c6754db73a",
       "style": "IPY_MODEL_865c219f067b4241807f9892c53f7960"
      }
     },
     "5ba07b1b5eb141d68c7a7fde490a3be9": {
      "model_module": "@jupyter-widgets/base",
      "model_module_version": "1.2.0",
      "model_name": "LayoutModel",
      "state": {}
     },
     "5baf03a2e5e847f7b1300af6d3e61a64": {
      "model_module": "jupyter-matplotlib",
      "model_module_version": "^0.7.2",
      "model_name": "ToolbarModel",
      "state": {
       "layout": "IPY_MODEL_3ae8d9899a0e46b1b855cf48be66c7d1",
       "toolitems": [
        [
         "Home",
         "Reset original view",
         "home",
         "home"
        ],
        [
         "Back",
         "Back to previous view",
         "arrow-left",
         "back"
        ],
        [
         "Forward",
         "Forward to next view",
         "arrow-right",
         "forward"
        ],
        [
         "Pan",
         "Pan axes with left mouse, zoom with right",
         "arrows",
         "pan"
        ],
        [
         "Zoom",
         "Zoom to rectangle",
         "square-o",
         "zoom"
        ],
        [
         "Download",
         "Download plot",
         "floppy-o",
         "save_figure"
        ]
       ]
      }
     },
     "5bd0dc53cf67415c8eec95f2de4242b3": {
      "model_module": "@jupyter-widgets/base",
      "model_module_version": "1.2.0",
      "model_name": "LayoutModel",
      "state": {}
     },
     "5be6a80e5b994ce3a14a3c2d27c13379": {
      "model_module": "@jupyter-widgets/controls",
      "model_module_version": "1.5.0",
      "model_name": "FloatSliderModel",
      "state": {
       "description": "270°",
       "layout": "IPY_MODEL_a154828da5154278b0a12399e05f6243",
       "max": 1,
       "min": -1,
       "step": 0.01,
       "style": "IPY_MODEL_342ffc88974849af985df3aac17d753e"
      }
     },
     "5c00b5ec11bb4bf3bdf046115ddbd1bf": {
      "model_module": "@jupyter-widgets/base",
      "model_module_version": "1.2.0",
      "model_name": "LayoutModel",
      "state": {}
     },
     "5c03d983e6e44f58bc0abef891666752": {
      "model_module": "jupyter-matplotlib",
      "model_module_version": "^0.7.2",
      "model_name": "ToolbarModel",
      "state": {
       "layout": "IPY_MODEL_7960446fb84049b5b1fd78ee568c2336",
       "toolitems": [
        [
         "Home",
         "Reset original view",
         "home",
         "home"
        ],
        [
         "Back",
         "Back to previous view",
         "arrow-left",
         "back"
        ],
        [
         "Forward",
         "Forward to next view",
         "arrow-right",
         "forward"
        ],
        [
         "Pan",
         "Pan axes with left mouse, zoom with right",
         "arrows",
         "pan"
        ],
        [
         "Zoom",
         "Zoom to rectangle",
         "square-o",
         "zoom"
        ],
        [
         "Download",
         "Download plot",
         "floppy-o",
         "save_figure"
        ]
       ]
      }
     },
     "5c3df4d7b935461bb5f5a8f856c003fc": {
      "model_module": "@jupyter-widgets/base",
      "model_module_version": "1.2.0",
      "model_name": "LayoutModel",
      "state": {}
     },
     "5d06f228669840689cf80f06463f1d87": {
      "model_module": "@jupyter-widgets/controls",
      "model_module_version": "1.5.0",
      "model_name": "ButtonStyleModel",
      "state": {}
     },
     "5d0eea1dd38c4c1f9f2581029ff1bb57": {
      "model_module": "@jupyter-widgets/controls",
      "model_module_version": "1.5.0",
      "model_name": "FloatSliderModel",
      "state": {
       "description": "Exposure",
       "layout": "IPY_MODEL_e22a620a08a64560805f7d537f1e9db0",
       "max": 8,
       "min": -8,
       "step": 0.1,
       "style": "IPY_MODEL_3f99ee8f56a14932944495d730a342de"
      }
     },
     "5d59971dd1ec426b80e5a5c0b91fa4ce": {
      "model_module": "@jupyter-widgets/controls",
      "model_module_version": "1.5.0",
      "model_name": "ButtonStyleModel",
      "state": {}
     },
     "5d825cb07ced443b94b45c3a314d6c93": {
      "model_module": "@jupyter-widgets/base",
      "model_module_version": "1.2.0",
      "model_name": "LayoutModel",
      "state": {}
     },
     "5d966bd0ee3c45c5bfab90ee911453bd": {
      "model_module": "@jupyter-widgets/controls",
      "model_module_version": "1.5.0",
      "model_name": "SliderStyleModel",
      "state": {
       "description_width": ""
      }
     },
     "5d98e262103146c698a6cb5d72598c78": {
      "model_module": "@jupyter-widgets/controls",
      "model_module_version": "1.5.0",
      "model_name": "HBoxModel",
      "state": {
       "children": [
        "IPY_MODEL_60139014939542acb69905bd70d5fade",
        "IPY_MODEL_7790fce533604fc38905dbc8ad809c8b",
        "IPY_MODEL_5891478fbf11497fb0078e6e732f7714",
        "IPY_MODEL_7eaa1df1400d474f968496427c226807"
       ],
       "layout": "IPY_MODEL_056ebc8b14894ee58ea0eb38b6940009"
      }
     },
     "5daf77c3f11d4f228d57a9923dba0767": {
      "model_module": "@jupyter-widgets/controls",
      "model_module_version": "1.5.0",
      "model_name": "ButtonStyleModel",
      "state": {}
     },
     "5db764acef6a4aaa886ba0b957c8c734": {
      "model_module": "@jupyter-widgets/base",
      "model_module_version": "1.2.0",
      "model_name": "LayoutModel",
      "state": {}
     },
     "5de906e5d6cd4f649a1c363fa3890aff": {
      "model_module": "@jupyter-widgets/controls",
      "model_module_version": "1.5.0",
      "model_name": "ButtonModel",
      "state": {
       "description": "Reset Protected Area",
       "layout": "IPY_MODEL_dce9b82d5f2a46768f33b0790ab451fe",
       "style": "IPY_MODEL_4dcc0b312249448cba9530a698fea938"
      }
     },
     "5e5799908bf84f95bec50b53838e48fe": {
      "model_module": "@jupyter-widgets/base",
      "model_module_version": "1.2.0",
      "model_name": "LayoutModel",
      "state": {}
     },
     "5e57beb9aae24e768f9491e32b126cda": {
      "model_module": "jupyter-matplotlib",
      "model_module_version": "^0.7.2",
      "model_name": "ToolbarModel",
      "state": {
       "layout": "IPY_MODEL_af6581f3a87b4483a31d43f8fc7440d0",
       "toolitems": [
        [
         "Home",
         "Reset original view",
         "home",
         "home"
        ],
        [
         "Back",
         "Back to previous view",
         "arrow-left",
         "back"
        ],
        [
         "Forward",
         "Forward to next view",
         "arrow-right",
         "forward"
        ],
        [
         "Pan",
         "Pan axes with left mouse, zoom with right",
         "arrows",
         "pan"
        ],
        [
         "Zoom",
         "Zoom to rectangle",
         "square-o",
         "zoom"
        ],
        [
         "Download",
         "Download plot",
         "floppy-o",
         "save_figure"
        ]
       ]
      }
     },
     "5eb3b60121024fb49c58acef443b4b0c": {
      "model_module": "@jupyter-widgets/base",
      "model_module_version": "1.2.0",
      "model_name": "LayoutModel",
      "state": {}
     },
     "5f4e7cfbf13847e5afd55b6f9d102e0a": {
      "model_module": "@jupyter-widgets/controls",
      "model_module_version": "1.5.0",
      "model_name": "ButtonModel",
      "state": {
       "description": "Reset Compression Controls",
       "layout": "IPY_MODEL_4addc8232d1b470188e2f331a3997871",
       "style": "IPY_MODEL_3662765e0bcb4d7899686af927d4faaa"
      }
     },
     "5f5d81a009c84fcbb57b9b38f3fe6adb": {
      "model_module": "@jupyter-widgets/base",
      "model_module_version": "1.2.0",
      "model_name": "LayoutModel",
      "state": {}
     },
     "5fe1d29ab56b49acbc0aa2c312531bbf": {
      "model_module": "@jupyter-widgets/controls",
      "model_module_version": "1.5.0",
      "model_name": "SliderStyleModel",
      "state": {
       "description_width": ""
      }
     },
     "5feb7c5eb4a346aca56f510e2ec3fa86": {
      "model_module": "@jupyter-widgets/base",
      "model_module_version": "1.2.0",
      "model_name": "LayoutModel",
      "state": {}
     },
     "60139014939542acb69905bd70d5fade": {
      "model_module": "@jupyter-widgets/controls",
      "model_module_version": "1.5.0",
      "model_name": "CheckboxModel",
      "state": {
       "description": "Disable Medicina",
       "disabled": false,
       "layout": "IPY_MODEL_b5dc6f7ab9e944258801997dfaddb0bc",
       "style": "IPY_MODEL_c31e7255df91482b8e27c03c3d43ca40",
       "value": false
      }
     },
     "60444ec56f8d4b26968eb4e0e108a5ee": {
      "model_module": "@jupyter-widgets/base",
      "model_module_version": "1.2.0",
      "model_name": "LayoutModel",
      "state": {}
     },
     "6064ba2201f643458be46cf942053f87": {
      "model_module": "@jupyter-widgets/base",
      "model_module_version": "1.2.0",
      "model_name": "LayoutModel",
      "state": {
       "border": "solid 4px #222",
       "margin": "4px",
       "padding": "0"
      }
     },
     "60bdb65af7ff40bfa02cb03014cf4f63": {
      "model_module": "@jupyter-widgets/base",
      "model_module_version": "1.2.0",
      "model_name": "LayoutModel",
      "state": {}
     },
     "60e31ef75d1e425392b0a4869c77b381": {
      "model_module": "@jupyter-widgets/base",
      "model_module_version": "1.2.0",
      "model_name": "LayoutModel",
      "state": {}
     },
     "60f4f04f636a4aacbfb23b8edd7369ef": {
      "model_module": "@jupyter-widgets/controls",
      "model_module_version": "1.5.0",
      "model_name": "FloatSliderModel",
      "state": {
       "description": "45°",
       "layout": "IPY_MODEL_bbe97094340d4d3d93b79a9a0234b658",
       "max": 1,
       "min": -1,
       "step": 0.01,
       "style": "IPY_MODEL_1a6331fc0edd48b098d1fb6c64a280ea"
      }
     },
     "6107a31afddc42968a544fcaaf2de712": {
      "model_module": "@jupyter-widgets/controls",
      "model_module_version": "1.5.0",
      "model_name": "HBoxModel",
      "state": {
       "children": [
        "IPY_MODEL_67b7b0cb2736438d98ab174dc75dcf7c",
        "IPY_MODEL_153daeb457d44afa8ea69fea59be95bb",
        "IPY_MODEL_8e76eef7a69f4dccaa6749d2608df5e5",
        "IPY_MODEL_b320d578628e4ae9a5923cfd8e7d6b21"
       ],
       "layout": "IPY_MODEL_0403f6bea0a64a3c80f8c5e67bf8b7be"
      }
     },
     "6185320f21de44afb141ed9041d26166": {
      "model_module": "@jupyter-widgets/base",
      "model_module_version": "1.2.0",
      "model_name": "LayoutModel",
      "state": {}
     },
     "61c4f071834d441da0dc7cd693aa103a": {
      "model_module": "@jupyter-widgets/controls",
      "model_module_version": "1.5.0",
      "model_name": "ButtonModel",
      "state": {
       "description": "Export Image",
       "layout": "IPY_MODEL_465020d40b5f485badcc005b8f92b972",
       "style": "IPY_MODEL_91b81d8e332d4ec6a59cd7dd9945a632"
      }
     },
     "61cef349550b4df8909346c4a9800224": {
      "model_module": "@jupyter-widgets/base",
      "model_module_version": "1.2.0",
      "model_name": "LayoutModel",
      "state": {}
     },
     "61efd2c568e240a48b3dc7a492bb65f3": {
      "model_module": "@jupyter-widgets/controls",
      "model_module_version": "1.5.0",
      "model_name": "SliderStyleModel",
      "state": {
       "description_width": ""
      }
     },
     "622909e06249411b8ebac298815b3bc3": {
      "model_module": "@jupyter-widgets/controls",
      "model_module_version": "1.5.0",
      "model_name": "SliderStyleModel",
      "state": {
       "description_width": ""
      }
     },
     "6265116bbaff461fbe2114a48624d18b": {
      "model_module": "@jupyter-widgets/base",
      "model_module_version": "1.2.0",
      "model_name": "LayoutModel",
      "state": {}
     },
     "62e2381353fc48b8b908e8ee590ee7c6": {
      "model_module": "@jupyter-widgets/base",
      "model_module_version": "1.2.0",
      "model_name": "LayoutModel",
      "state": {}
     },
     "6306d93349264817a623ec10ec52f074": {
      "model_module": "@jupyter-widgets/base",
      "model_module_version": "1.2.0",
      "model_name": "LayoutModel",
      "state": {
       "border": "solid 4px #222",
       "margin": "4px",
       "padding": "0"
      }
     },
     "6329bd1d2bd84fdc9abd02529057650c": {
      "model_module": "@jupyter-widgets/controls",
      "model_module_version": "1.5.0",
      "model_name": "SliderStyleModel",
      "state": {
       "description_width": ""
      }
     },
     "63778408c8d447d5937c07965b9cc68e": {
      "model_module": "@jupyter-widgets/controls",
      "model_module_version": "1.5.0",
      "model_name": "ButtonModel",
      "state": {
       "description": "Reset Saturation Controls",
       "layout": "IPY_MODEL_bb6eb10a507c487594d83494abaf5767",
       "style": "IPY_MODEL_41cc423be27d4cf68665c65ac98db686"
      }
     },
     "637c140fdccf45ebab637b24137a03eb": {
      "model_module": "@jupyter-widgets/controls",
      "model_module_version": "1.5.0",
      "model_name": "FloatSliderModel",
      "state": {
       "description": "0°",
       "layout": "IPY_MODEL_4b917b8eba5d4924adb44ebf3350e419",
       "max": 1,
       "min": -1,
       "step": 0.01,
       "style": "IPY_MODEL_277530ccb9f54a6e818bb22b3a4f0d4b"
      }
     },
     "63809dec16fc4fcba72bbb7b81fcc3f1": {
      "model_module": "@jupyter-widgets/controls",
      "model_module_version": "1.5.0",
      "model_name": "CheckboxModel",
      "state": {
       "description": "Disable Medicina",
       "disabled": false,
       "layout": "IPY_MODEL_bebe7a8eb8374e89bf4eff9f6ddc1942",
       "style": "IPY_MODEL_b45f8be10e324aeca45be689a52c2a2c",
       "value": false
      }
     },
     "6388658af6384aed9aff99dad137beda": {
      "model_module": "@jupyter-widgets/controls",
      "model_module_version": "1.5.0",
      "model_name": "SliderStyleModel",
      "state": {
       "description_width": ""
      }
     },
     "63ace05d68d64358bcd6edf2b1c851e1": {
      "model_module": "@jupyter-widgets/controls",
      "model_module_version": "1.5.0",
      "model_name": "TabModel",
      "state": {
       "_titles": {
        "0": "Global Controls",
        "1": "Protected Area Controls",
        "2": "Saturation Controls",
        "3": "Hue Controls"
       },
       "children": [
        "IPY_MODEL_3ce9453aec374c22ae004113d05ce461",
        "IPY_MODEL_3b3425aa0ec14c29b66eef907162f2d1",
        "IPY_MODEL_fb0b733792a34ae98783ed7a5814773f",
        "IPY_MODEL_91350837fe254268b743b6f6da2642b8"
       ],
       "layout": "IPY_MODEL_eaa17ea6dbb7470c9fbf3cedd4526e9a"
      }
     },
     "63d6b7781f3641f88e63cea9f22885b7": {
      "model_module": "@jupyter-widgets/controls",
      "model_module_version": "1.5.0",
      "model_name": "ButtonStyleModel",
      "state": {}
     },
     "6416fd89c14842e0b3510b3be719c0e5": {
      "model_module": "@jupyter-widgets/base",
      "model_module_version": "1.2.0",
      "model_name": "LayoutModel",
      "state": {}
     },
     "6428988a6b1f4d7bb2b8129ad6ecc45b": {
      "model_module": "@jupyter-widgets/controls",
      "model_module_version": "1.5.0",
      "model_name": "HBoxModel",
      "state": {
       "children": [
        "IPY_MODEL_5de906e5d6cd4f649a1c363fa3890aff",
        "IPY_MODEL_56e028e55eab4129aa431f21f68b05ee"
       ],
       "layout": "IPY_MODEL_14c026087c064141a43fdd84939f5a27"
      }
     },
     "6437f7be8088400f86ccb16f2c179500": {
      "model_module": "@jupyter-widgets/base",
      "model_module_version": "1.2.0",
      "model_name": "LayoutModel",
      "state": {
       "align_items": "stretch",
       "display": "flex",
       "flex_flow": "column",
       "width": "1128px"
      }
     },
     "653352b93058497180dc1e2b8d5d1346": {
      "model_module": "@jupyter-widgets/controls",
      "model_module_version": "1.5.0",
      "model_name": "ButtonModel",
      "state": {
       "description": "Save Figure",
       "layout": "IPY_MODEL_c30f236ea343491eadbe962fb1ba5aef",
       "style": "IPY_MODEL_ba3404f788764aefa5dcfa845bf306bd"
      }
     },
     "6546e6596bb94c9c87e4d7779f9f4c94": {
      "model_module": "@jupyter-widgets/base",
      "model_module_version": "1.2.0",
      "model_name": "LayoutModel",
      "state": {
       "border": "solid 4px #222",
       "margin": "4px",
       "padding": "0"
      }
     },
     "65ac1e78d9c347e2a7e754cb6049fd97": {
      "model_module": "@jupyter-widgets/base",
      "model_module_version": "1.2.0",
      "model_name": "LayoutModel",
      "state": {}
     },
     "65be5afb80d44077bff7981f453c0009": {
      "model_module": "@jupyter-widgets/controls",
      "model_module_version": "1.5.0",
      "model_name": "FloatSliderModel",
      "state": {
       "description": "45°",
       "layout": "IPY_MODEL_e439b0d0445541e68ccf5ae2ee6c2b83",
       "max": 1,
       "min": -1,
       "step": 0.01,
       "style": "IPY_MODEL_ab106898d8dd4fc4a78a86a46c5a87da"
      }
     },
     "65df85110ef049d18e43a7aa14dfab66": {
      "model_module": "@jupyter-widgets/controls",
      "model_module_version": "1.5.0",
      "model_name": "ButtonStyleModel",
      "state": {}
     },
     "6627dc029ee14d4bb24824c9b442f346": {
      "model_module": "@jupyter-widgets/output",
      "model_module_version": "1.0.0",
      "model_name": "OutputModel",
      "state": {
       "layout": "IPY_MODEL_0eea38291c5f4383a4a8986fc323cffa",
       "outputs": [
        {
         "data": {
          "application/vnd.jupyter.widget-view+json": {
           "model_id": "0f25eaa34083421d86ca89cfc4774b69",
           "version_major": 2,
           "version_minor": 0
          },
          "text/plain": "Canvas(toolbar=Toolbar(toolitems=[('Home', 'Reset original view', 'home', 'home'), ('Back', 'Back to previous …"
         },
         "metadata": {},
         "output_type": "display_data"
        }
       ]
      }
     },
     "66612ed4930849b7ac77da54354462f5": {
      "model_module": "@jupyter-widgets/controls",
      "model_module_version": "1.5.0",
      "model_name": "HBoxModel",
      "state": {
       "children": [
        "IPY_MODEL_fda35d4cca784475a5abb9eaf1f97589",
        "IPY_MODEL_3cbe498c66a04ebc9bbfdcedcc35fc3e",
        "IPY_MODEL_32728c41fbdf41ac850c986c1dd81df2"
       ],
       "layout": "IPY_MODEL_4467c6443bc340a9981299aa27986605"
      }
     },
     "667a012bb7c74f0a8768cdab77971267": {
      "model_module": "@jupyter-widgets/controls",
      "model_module_version": "1.5.0",
      "model_name": "SliderStyleModel",
      "state": {
       "description_width": ""
      }
     },
     "66c8dd3f89684e2c80dde3781cf630eb": {
      "model_module": "@jupyter-widgets/base",
      "model_module_version": "1.2.0",
      "model_name": "LayoutModel",
      "state": {}
     },
     "66edab99f158470eaf8ba251e632d04d": {
      "model_module": "@jupyter-widgets/base",
      "model_module_version": "1.2.0",
      "model_name": "LayoutModel",
      "state": {}
     },
     "66f8a57fff9c45e98ed69328f8da9328": {
      "model_module": "@jupyter-widgets/output",
      "model_module_version": "1.0.0",
      "model_name": "OutputModel",
      "state": {
       "layout": "IPY_MODEL_3da16c68687e45839f12a8e9435e12c7",
       "outputs": [
        {
         "data": {
          "application/vnd.jupyter.widget-view+json": {
           "model_id": "eae1dedb96c146db8baa6e49c67d0c61",
           "version_major": 2,
           "version_minor": 0
          },
          "text/plain": "Canvas(toolbar=Toolbar(toolitems=[('Home', 'Reset original view', 'home', 'home'), ('Back', 'Back to previous …"
         },
         "metadata": {},
         "output_type": "display_data"
        }
       ]
      }
     },
     "67208dc177164fecaad8e137ac8c43d0": {
      "model_module": "@jupyter-widgets/controls",
      "model_module_version": "1.5.0",
      "model_name": "SliderStyleModel",
      "state": {
       "description_width": ""
      }
     },
     "672688c5c29c4a93b50e0af5e5fb07be": {
      "model_module": "@jupyter-widgets/base",
      "model_module_version": "1.2.0",
      "model_name": "LayoutModel",
      "state": {}
     },
     "6734653624b341f6a02b5ef2324f3d62": {
      "model_module": "@jupyter-widgets/controls",
      "model_module_version": "1.5.0",
      "model_name": "FloatSliderModel",
      "state": {
       "description": "Compression Threshold",
       "layout": "IPY_MODEL_0669a0b601f34b2893c95f6724e4626e",
       "max": 1,
       "step": 0.01,
       "style": "IPY_MODEL_c027b96c0b9f4684b95476103017ddf7",
       "value": 0.8
      }
     },
     "678e08cbc9ca4b7ea9fd3f4994275216": {
      "model_module": "@jupyter-widgets/base",
      "model_module_version": "1.2.0",
      "model_name": "LayoutModel",
      "state": {}
     },
     "67b7b0cb2736438d98ab174dc75dcf7c": {
      "model_module": "@jupyter-widgets/controls",
      "model_module_version": "1.5.0",
      "model_name": "CheckboxModel",
      "state": {
       "description": "Disable Medicina",
       "disabled": false,
       "layout": "IPY_MODEL_752c308d0f2347f1a4d04df39ecc37d0",
       "style": "IPY_MODEL_e450ba661bad4de484a9782f452c3531",
       "value": false
      }
     },
     "67ed2ebdb110471d9057a02c4c09ea3b": {
      "model_module": "@jupyter-widgets/base",
      "model_module_version": "1.2.0",
      "model_name": "LayoutModel",
      "state": {}
     },
     "682703cfd92e4536babb487e887d902f": {
      "model_module": "@jupyter-widgets/controls",
      "model_module_version": "1.5.0",
      "model_name": "VBoxModel",
      "state": {
       "children": [
        "IPY_MODEL_16d23f2d0e4b4bed868c0f9d3e7e371c",
        "IPY_MODEL_728881097eb14c9ab8de8de559041ce7",
        "IPY_MODEL_4ec7154e5dcb44148fd226e521ed4632"
       ],
       "layout": "IPY_MODEL_c123941842cf44cc93e5e28fe5b8941a"
      }
     },
     "683379bc77e14dc99f1b6a71616d0870": {
      "model_module": "@jupyter-widgets/controls",
      "model_module_version": "1.5.0",
      "model_name": "ButtonModel",
      "state": {
       "description": "Reset Saturation Controls",
       "layout": "IPY_MODEL_ccb1fc53369e4436af94e8cde3d12a0c",
       "style": "IPY_MODEL_c9e38a084fae4fc9b949cf854feb2b12"
      }
     },
     "689a6b192e8e443cb7936c4a8e6069a7": {
      "model_module": "@jupyter-widgets/controls",
      "model_module_version": "1.5.0",
      "model_name": "HBoxModel",
      "state": {
       "children": [
        "IPY_MODEL_63778408c8d447d5937c07965b9cc68e",
        "IPY_MODEL_9824ea6bbb174e9eb1f4daddf1596d61",
        "IPY_MODEL_96d7323ba0884465b3025d3ac4a61440"
       ],
       "layout": "IPY_MODEL_a6046a195ebc438eaf0fcc6ead76670f"
      }
     },
     "68bd56cc3e514c95a25d57aee322e3c3": {
      "model_module": "@jupyter-widgets/base",
      "model_module_version": "1.2.0",
      "model_name": "LayoutModel",
      "state": {}
     },
     "68febf762699485991109e1c4e5b9fd3": {
      "model_module": "@jupyter-widgets/base",
      "model_module_version": "1.2.0",
      "model_name": "LayoutModel",
      "state": {}
     },
     "6940897d630b4756aa6fe4fabe9de5ec": {
      "model_module": "@jupyter-widgets/controls",
      "model_module_version": "1.5.0",
      "model_name": "DescriptionStyleModel",
      "state": {
       "description_width": ""
      }
     },
     "69430069c9cf45fd9c37d28aa28a4871": {
      "model_module": "@jupyter-widgets/base",
      "model_module_version": "1.2.0",
      "model_name": "LayoutModel",
      "state": {}
     },
     "6964b93d817f4c8d90a7740bf7691429": {
      "model_module": "@jupyter-widgets/base",
      "model_module_version": "1.2.0",
      "model_name": "LayoutModel",
      "state": {}
     },
     "6972d86c5c1e41fe9844fc4d04472b64": {
      "model_module": "@jupyter-widgets/controls",
      "model_module_version": "1.5.0",
      "model_name": "HBoxModel",
      "state": {
       "children": [
        "IPY_MODEL_c7fe3384696d40209bcd61ec34f677c3",
        "IPY_MODEL_6f1eec8a4e19495da420d1d66a9c9680",
        "IPY_MODEL_3ce7748a72ca4272bce7f637994337f3"
       ],
       "layout": "IPY_MODEL_7b903aa29b1449a78c640ed678b89e1c"
      }
     },
     "6993f6c0f567417f8fb9d5cd93a835e9": {
      "model_module": "@jupyter-widgets/base",
      "model_module_version": "1.2.0",
      "model_name": "LayoutModel",
      "state": {}
     },
     "699deb5dc84a4af2a6dfbfc4a178b72f": {
      "model_module": "@jupyter-widgets/base",
      "model_module_version": "1.2.0",
      "model_name": "LayoutModel",
      "state": {
       "border": "solid 4px #222",
       "margin": "4px",
       "padding": "0"
      }
     },
     "6a38393bb31b45519556fb166a1928d9": {
      "model_module": "@jupyter-widgets/controls",
      "model_module_version": "1.5.0",
      "model_name": "DescriptionStyleModel",
      "state": {
       "description_width": ""
      }
     },
     "6a4063a898ef45b7994b4dcaa9a7843f": {
      "model_module": "@jupyter-widgets/base",
      "model_module_version": "1.2.0",
      "model_name": "LayoutModel",
      "state": {}
     },
     "6aceb2d3f95a4668b425d3425b90b03d": {
      "model_module": "@jupyter-widgets/controls",
      "model_module_version": "1.5.0",
      "model_name": "ButtonStyleModel",
      "state": {}
     },
     "6ad8bd4d066340adbb110d39bea4dabb": {
      "model_module": "@jupyter-widgets/output",
      "model_module_version": "1.0.0",
      "model_name": "OutputModel",
      "state": {
       "layout": "IPY_MODEL_367335bb8b0e49ae8c45c0ab6b358fd6",
       "outputs": [
        {
         "data": {
          "application/vnd.jupyter.widget-view+json": {
           "model_id": "b36c0e54e325428eb0c38b72281b6d65",
           "version_major": 2,
           "version_minor": 0
          },
          "text/plain": "Canvas(toolbar=Toolbar(toolitems=[('Home', 'Reset original view', 'home', 'home'), ('Back', 'Back to previous …"
         },
         "metadata": {},
         "output_type": "display_data"
        }
       ]
      }
     },
     "6b136643593549c2b4586232e9683f2a": {
      "model_module": "@jupyter-widgets/base",
      "model_module_version": "1.2.0",
      "model_name": "LayoutModel",
      "state": {}
     },
     "6b5fc55183f14b6fb89b27093b16cc47": {
      "model_module": "@jupyter-widgets/base",
      "model_module_version": "1.2.0",
      "model_name": "LayoutModel",
      "state": {}
     },
     "6b6b4d1daf274d59a8fe21533a337f10": {
      "model_module": "@jupyter-widgets/base",
      "model_module_version": "1.2.0",
      "model_name": "LayoutModel",
      "state": {}
     },
     "6ba5dc73549a4d5c80b1e6e76e0855cb": {
      "model_module": "@jupyter-widgets/controls",
      "model_module_version": "1.5.0",
      "model_name": "SliderStyleModel",
      "state": {
       "description_width": ""
      }
     },
     "6baceda676e94bfa8b60a0e50fb7dec4": {
      "model_module": "@jupyter-widgets/controls",
      "model_module_version": "1.5.0",
      "model_name": "SliderStyleModel",
      "state": {
       "description_width": ""
      }
     },
     "6bae4bf831af42faacfb184159c264ed": {
      "model_module": "@jupyter-widgets/controls",
      "model_module_version": "1.5.0",
      "model_name": "SliderStyleModel",
      "state": {
       "description_width": ""
      }
     },
     "6bb32f17de2e42d0bbb1599f5e251d04": {
      "model_module": "@jupyter-widgets/base",
      "model_module_version": "1.2.0",
      "model_name": "LayoutModel",
      "state": {}
     },
     "6bd774cf276b49e98330ee0d1f56d7c8": {
      "model_module": "@jupyter-widgets/controls",
      "model_module_version": "1.5.0",
      "model_name": "VBoxModel",
      "state": {
       "children": [
        "IPY_MODEL_5be6a80e5b994ce3a14a3c2d27c13379",
        "IPY_MODEL_b9f94f411fdf4e09a97b64e72ca489bf"
       ],
       "layout": "IPY_MODEL_1b9a1566610b4da5949b3084a8365cd5"
      }
     },
     "6c0d6519c1c74ba18aca76decc1a9edf": {
      "model_module": "jupyter-matplotlib",
      "model_module_version": "^0.7.2",
      "model_name": "MPLCanvasModel",
      "state": {
       "_figure_label": "Figure 5",
       "_height": 1100,
       "_width": 1100,
       "layout": "IPY_MODEL_4a235540578a4034b19785a5a36a4569",
       "toolbar": "IPY_MODEL_5c03d983e6e44f58bc0abef891666752",
       "toolbar_position": "left"
      }
     },
     "6c4b30f49ffa430da2d40d388e0ec84c": {
      "model_module": "@jupyter-widgets/controls",
      "model_module_version": "1.5.0",
      "model_name": "DropdownModel",
      "state": {
       "_options_labels": [
        "tanh",
        "simple"
       ],
       "description": "Compression Function:",
       "index": 0,
       "layout": "IPY_MODEL_b9203136fd7244b4b315908aa10a0daf",
       "style": "IPY_MODEL_b14c8a8efb194565a553b11d8fda36ef"
      }
     },
     "6c6d695c18a649e1adbac0904a83d37c": {
      "model_module": "@jupyter-widgets/output",
      "model_module_version": "1.0.0",
      "model_name": "OutputModel",
      "state": {
       "layout": "IPY_MODEL_b0be4f85f32a472ba57e2abc84ef6db1",
       "outputs": [
        {
         "data": {
          "application/vnd.jupyter.widget-view+json": {
           "model_id": "b928b3425f804a5ebac28b48f658fe2b",
           "version_major": 2,
           "version_minor": 0
          },
          "text/plain": "Canvas(toolbar=Toolbar(toolitems=[('Home', 'Reset original view', 'home', 'home'), ('Back', 'Back to previous …"
         },
         "metadata": {},
         "output_type": "display_data"
        }
       ]
      }
     },
     "6c879a8f11874068acde92b0dc17bbe7": {
      "model_module": "@jupyter-widgets/controls",
      "model_module_version": "1.5.0",
      "model_name": "SliderStyleModel",
      "state": {
       "description_width": ""
      }
     },
     "6ccfc44f59a44d57bb3e1c1894de6a92": {
      "model_module": "@jupyter-widgets/base",
      "model_module_version": "1.2.0",
      "model_name": "LayoutModel",
      "state": {}
     },
     "6ce5d14cc0ef43548dd11f0cdde8a470": {
      "model_module": "@jupyter-widgets/controls",
      "model_module_version": "1.5.0",
      "model_name": "HBoxModel",
      "state": {
       "children": [
        "IPY_MODEL_031b88aa8ecc45f7bff6d707f89390bc",
        "IPY_MODEL_175d8e69e9244eda9b2e9454dcb21bd7"
       ],
       "layout": "IPY_MODEL_43faa28198664484bf7d97f39d033e51"
      }
     },
     "6d0cbc20b7f74494bf9509f40551988a": {
      "model_module": "@jupyter-widgets/controls",
      "model_module_version": "1.5.0",
      "model_name": "ButtonModel",
      "state": {
       "description": "Reset Compression Controls",
       "layout": "IPY_MODEL_885bc7f8b2fb4e02bfacf29420fd619f",
       "style": "IPY_MODEL_273b64213a474cbea1c68ea9726acc04"
      }
     },
     "6d3fd3997f7745a8a65aacb19b973c40": {
      "model_module": "@jupyter-widgets/controls",
      "model_module_version": "1.5.0",
      "model_name": "ButtonStyleModel",
      "state": {}
     },
     "6d8bc3901c394b5f8ca6ff323468f011": {
      "model_module": "jupyter-matplotlib",
      "model_module_version": "^0.7.2",
      "model_name": "ToolbarModel",
      "state": {
       "layout": "IPY_MODEL_95bcac1ffa584b4f8d918d878657676c",
       "toolitems": [
        [
         "Home",
         "Reset original view",
         "home",
         "home"
        ],
        [
         "Back",
         "Back to previous view",
         "arrow-left",
         "back"
        ],
        [
         "Forward",
         "Forward to next view",
         "arrow-right",
         "forward"
        ],
        [
         "Pan",
         "Pan axes with left mouse, zoom with right",
         "arrows",
         "pan"
        ],
        [
         "Zoom",
         "Zoom to rectangle",
         "square-o",
         "zoom"
        ],
        [
         "Download",
         "Download plot",
         "floppy-o",
         "save_figure"
        ]
       ]
      }
     },
     "6d91dbb19d82439a85bfec02bd94964c": {
      "model_module": "@jupyter-widgets/base",
      "model_module_version": "1.2.0",
      "model_name": "LayoutModel",
      "state": {}
     },
     "6dd4fbc31b0a4575bde1102fc1ebeb36": {
      "model_module": "@jupyter-widgets/controls",
      "model_module_version": "1.5.0",
      "model_name": "VBoxModel",
      "state": {
       "children": [
        "IPY_MODEL_bba2d9e84c9a456b9c812819baf7e3fb",
        "IPY_MODEL_5457b99cd7234e8ba9beaa6bdffb8233",
        "IPY_MODEL_2027c69009d244a3ac86b446da64e3ed"
       ],
       "layout": "IPY_MODEL_4415312e4a2b40fa9697977c8ca42411"
      }
     },
     "6dd8cfc1f80a4746a1c28bc973a44a94": {
      "model_module": "@jupyter-widgets/controls",
      "model_module_version": "1.5.0",
      "model_name": "SliderStyleModel",
      "state": {
       "description_width": ""
      }
     },
     "6e0da76fe1de4f3f977979b225377129": {
      "model_module": "@jupyter-widgets/base",
      "model_module_version": "1.2.0",
      "model_name": "LayoutModel",
      "state": {}
     },
     "6e4392547c794370b02f8c852b1033fa": {
      "model_module": "@jupyter-widgets/base",
      "model_module_version": "1.2.0",
      "model_name": "LayoutModel",
      "state": {}
     },
     "6e47b1c40aa9467aa49042f9815eced2": {
      "model_module": "@jupyter-widgets/controls",
      "model_module_version": "1.5.0",
      "model_name": "HBoxModel",
      "state": {
       "children": [
        "IPY_MODEL_ba4c3ca582c9479aa1023a52846df334",
        "IPY_MODEL_7132ffe00c1a4527a3068e2490308a3e",
        "IPY_MODEL_6734653624b341f6a02b5ef2324f3d62"
       ],
       "layout": "IPY_MODEL_0950a5cbee12484aba0f20416d8a8c21"
      }
     },
     "6e4f480f989545a3af9fea55afcb0e1b": {
      "model_module": "@jupyter-widgets/base",
      "model_module_version": "1.2.0",
      "model_name": "LayoutModel",
      "state": {
       "border": "solid 4px #222",
       "margin": "4px",
       "padding": "0"
      }
     },
     "6e884e8aad294b878ec5550cca77a421": {
      "model_module": "@jupyter-widgets/controls",
      "model_module_version": "1.5.0",
      "model_name": "SliderStyleModel",
      "state": {
       "description_width": ""
      }
     },
     "6eb1f430fb7e476790fdc85226b1e5e4": {
      "model_module": "@jupyter-widgets/base",
      "model_module_version": "1.2.0",
      "model_name": "LayoutModel",
      "state": {}
     },
     "6f1464f32d93424b938e5360dfe1c041": {
      "model_module": "@jupyter-widgets/base",
      "model_module_version": "1.2.0",
      "model_name": "LayoutModel",
      "state": {}
     },
     "6f1eec8a4e19495da420d1d66a9c9680": {
      "model_module": "@jupyter-widgets/controls",
      "model_module_version": "1.5.0",
      "model_name": "DropdownModel",
      "state": {
       "_options_labels": [
        "tanh",
        "simple"
       ],
       "description": "Compression Function:",
       "index": 0,
       "layout": "IPY_MODEL_a5226d09daf4499585f3bebb4ea2d5d5",
       "style": "IPY_MODEL_995170412c53423ca6f084f93fccb38b"
      }
     },
     "6f339890452d4096912a6f6c0fa07a3f": {
      "model_module": "@jupyter-widgets/controls",
      "model_module_version": "1.5.0",
      "model_name": "DescriptionStyleModel",
      "state": {
       "description_width": ""
      }
     },
     "7007b7ed98204e4aa9858b47952ce7e1": {
      "model_module": "@jupyter-widgets/base",
      "model_module_version": "1.2.0",
      "model_name": "LayoutModel",
      "state": {}
     },
     "702d81f8fbc944d6bfe2e8e84f16b32d": {
      "model_module": "@jupyter-widgets/base",
      "model_module_version": "1.2.0",
      "model_name": "LayoutModel",
      "state": {}
     },
     "7070c0763a4f4639b29abbddcb249435": {
      "model_module": "@jupyter-widgets/controls",
      "model_module_version": "1.5.0",
      "model_name": "SliderStyleModel",
      "state": {
       "description_width": ""
      }
     },
     "70d935e0f50244f89a0a469bafda4b97": {
      "model_module": "@jupyter-widgets/controls",
      "model_module_version": "1.5.0",
      "model_name": "HBoxModel",
      "state": {
       "children": [
        "IPY_MODEL_d1c5be01302f47e4989f9e9133474ea2",
        "IPY_MODEL_57c9e1ca51ad40709245311ef0cf6d82",
        "IPY_MODEL_a2f20134e2a84fcdb8e25fb8f1ea7c02",
        "IPY_MODEL_f422d994a36d4d779c78f2b41a80afaf"
       ],
       "layout": "IPY_MODEL_7007b7ed98204e4aa9858b47952ce7e1"
      }
     },
     "7132ffe00c1a4527a3068e2490308a3e": {
      "model_module": "@jupyter-widgets/controls",
      "model_module_version": "1.5.0",
      "model_name": "DropdownModel",
      "state": {
       "_options_labels": [
        "tanh",
        "simple"
       ],
       "description": "Compression Function:",
       "index": 0,
       "layout": "IPY_MODEL_254f664ab6fc45a2ad29424851c260c1",
       "style": "IPY_MODEL_9666290fdacc4d36ab515c2d70f9474b"
      }
     },
     "714cc7c0e8214fe38af4d920d4f49620": {
      "model_module": "@jupyter-widgets/controls",
      "model_module_version": "1.5.0",
      "model_name": "FloatSliderModel",
      "state": {
       "description": "180°",
       "layout": "IPY_MODEL_a42e483f6597429aba3bddecfa31736d",
       "max": 1,
       "min": -1,
       "step": 0.01,
       "style": "IPY_MODEL_8a046a003df342ecb62f6e03fc234054"
      }
     },
     "715973679ea64ef38db11761cb594259": {
      "model_module": "@jupyter-widgets/base",
      "model_module_version": "1.2.0",
      "model_name": "LayoutModel",
      "state": {}
     },
     "717a98fe99c942e88897ee928ddc42f0": {
      "model_module": "@jupyter-widgets/controls",
      "model_module_version": "1.5.0",
      "model_name": "ButtonModel",
      "state": {
       "description": "Reset Hue Controls",
       "layout": "IPY_MODEL_d0c62df1613843ffb8ce13a31e704107",
       "style": "IPY_MODEL_fdd5994fc74d4e278115a8d5747e8cd7"
      }
     },
     "719daab49757440ab097bd4b5faeb65e": {
      "model_module": "@jupyter-widgets/controls",
      "model_module_version": "1.5.0",
      "model_name": "ButtonModel",
      "state": {
       "description": "Reset Protected Area",
       "layout": "IPY_MODEL_6964b93d817f4c8d90a7740bf7691429",
       "style": "IPY_MODEL_e351d367f69f453a945fd70235bcb7dd"
      }
     },
     "71a9aa6ca4eb4bac99341b0cbbe667c1": {
      "model_module": "@jupyter-widgets/controls",
      "model_module_version": "1.5.0",
      "model_name": "ButtonModel",
      "state": {
       "description": "Export Image",
       "layout": "IPY_MODEL_b841549c79d241e2a6cb7144be1b38bb",
       "style": "IPY_MODEL_859cd6b790ee4c93be0bbe73e96fc5e3"
      }
     },
     "71c0da6f0fd1425ca09fd532230ed597": {
      "model_module": "@jupyter-widgets/base",
      "model_module_version": "1.2.0",
      "model_name": "LayoutModel",
      "state": {}
     },
     "71d5a4e2c21f4065abdc9539d793dcc2": {
      "model_module": "@jupyter-widgets/controls",
      "model_module_version": "1.5.0",
      "model_name": "HBoxModel",
      "state": {
       "children": [
        "IPY_MODEL_5779cf2ce9f14e2abf1b746da433371d",
        "IPY_MODEL_3564086d35d143df835219ff39a5467d",
        "IPY_MODEL_2e94cca27371443c8f1cd0a7ab952f25",
        "IPY_MODEL_191a7d30b64a4c01929e835590a5be17"
       ],
       "layout": "IPY_MODEL_4d1207fd966b4a1e88abb9ea85601635"
      }
     },
     "72068a6e1c5242489cad953b01ef4ea8": {
      "model_module": "@jupyter-widgets/controls",
      "model_module_version": "1.5.0",
      "model_name": "FloatSliderModel",
      "state": {
       "description": "0°",
       "layout": "IPY_MODEL_5661ad3d0ffb4865a23cb3b34537a777",
       "max": 1,
       "min": -1,
       "step": 0.01,
       "style": "IPY_MODEL_08c8157fcc7a4f4f92d879c16d31f6c8"
      }
     },
     "721ce0a11f134d7f9e271cb7f301df82": {
      "model_module": "@jupyter-widgets/base",
      "model_module_version": "1.2.0",
      "model_name": "LayoutModel",
      "state": {}
     },
     "724b322ac7434e86b25a1f81b31f29f7": {
      "model_module": "@jupyter-widgets/controls",
      "model_module_version": "1.5.0",
      "model_name": "SliderStyleModel",
      "state": {
       "description_width": ""
      }
     },
     "726b079c6d0a49bb8eabe8efb0974fb0": {
      "model_module": "@jupyter-widgets/controls",
      "model_module_version": "1.5.0",
      "model_name": "ButtonStyleModel",
      "state": {}
     },
     "728881097eb14c9ab8de8de559041ce7": {
      "model_module": "@jupyter-widgets/controls",
      "model_module_version": "1.5.0",
      "model_name": "FloatSliderModel",
      "state": {
       "description": "180°",
       "layout": "IPY_MODEL_b3e8c1a8418a4a7e880afaf46c71c196",
       "max": 1,
       "min": -1,
       "step": 0.01,
       "style": "IPY_MODEL_c0dd8baca3c1416a9ea06d61c894ec4c"
      }
     },
     "72b610a569d946d896e7d231cd13d1a9": {
      "model_module": "@jupyter-widgets/controls",
      "model_module_version": "1.5.0",
      "model_name": "ButtonStyleModel",
      "state": {}
     },
     "72b9a5e94be64472b29906a72f86fd47": {
      "model_module": "@jupyter-widgets/base",
      "model_module_version": "1.2.0",
      "model_name": "LayoutModel",
      "state": {}
     },
     "730d79e0e4de4d4c9b379de4796ef59a": {
      "model_module": "@jupyter-widgets/base",
      "model_module_version": "1.2.0",
      "model_name": "LayoutModel",
      "state": {}
     },
     "73358fc2398248c9b383d523c5c90c6b": {
      "model_module": "@jupyter-widgets/controls",
      "model_module_version": "1.5.0",
      "model_name": "ButtonModel",
      "state": {
       "description": "Reset Protected Area",
       "layout": "IPY_MODEL_f132ed35ab3f49fda31eb2235c27a7ff",
       "style": "IPY_MODEL_252d0782b46d4c2c954d0e73ffee2740"
      }
     },
     "73d953bbf5c946c9b6891756375aaa81": {
      "model_module": "@jupyter-widgets/controls",
      "model_module_version": "1.5.0",
      "model_name": "SliderStyleModel",
      "state": {
       "description_width": ""
      }
     },
     "743f0d41d7464c7a94d7e46443c50a2d": {
      "model_module": "jupyter-matplotlib",
      "model_module_version": "^0.7.2",
      "model_name": "ToolbarModel",
      "state": {
       "layout": "IPY_MODEL_98a216cf6cef4251b8b9fd4a27d5b26b",
       "toolitems": [
        [
         "Home",
         "Reset original view",
         "home",
         "home"
        ],
        [
         "Back",
         "Back to previous view",
         "arrow-left",
         "back"
        ],
        [
         "Forward",
         "Forward to next view",
         "arrow-right",
         "forward"
        ],
        [
         "Pan",
         "Pan axes with left mouse, zoom with right",
         "arrows",
         "pan"
        ],
        [
         "Zoom",
         "Zoom to rectangle",
         "square-o",
         "zoom"
        ],
        [
         "Download",
         "Download plot",
         "floppy-o",
         "save_figure"
        ]
       ]
      }
     },
     "749d427779104d519feca7c611e04f64": {
      "model_module": "@jupyter-widgets/controls",
      "model_module_version": "1.5.0",
      "model_name": "HBoxModel",
      "state": {
       "children": [
        "IPY_MODEL_1ae275f46e764791b85f0f409f22285a",
        "IPY_MODEL_a0d431b1f91d4cda85bb161c8575a343",
        "IPY_MODEL_d2479213a7284efeb1ff733508d18c39",
        "IPY_MODEL_00ca727b8b264dc08b288608a3b783ef"
       ],
       "layout": "IPY_MODEL_c0c8492493a649efb0ce285086af377c"
      }
     },
     "751b8e4fc5304e26a7a76cc15e1f6190": {
      "model_module": "@jupyter-widgets/controls",
      "model_module_version": "1.5.0",
      "model_name": "ButtonStyleModel",
      "state": {}
     },
     "752c308d0f2347f1a4d04df39ecc37d0": {
      "model_module": "@jupyter-widgets/base",
      "model_module_version": "1.2.0",
      "model_name": "LayoutModel",
      "state": {}
     },
     "75795b02fce34fbca77c32eae1b2dfd8": {
      "model_module": "@jupyter-widgets/controls",
      "model_module_version": "1.5.0",
      "model_name": "SliderStyleModel",
      "state": {
       "description_width": ""
      }
     },
     "75ea7173ccdd4ac6a1a9609df1f80005": {
      "model_module": "@jupyter-widgets/controls",
      "model_module_version": "1.5.0",
      "model_name": "TabModel",
      "state": {
       "_titles": {
        "0": "Global Controls",
        "1": "Compression Controls"
       },
       "children": [
        "IPY_MODEL_db153f6841b646fcb85c8c4db0e35d18",
        "IPY_MODEL_00e49056dd914c91a1ea1c8a72ff4ee5"
       ],
       "layout": "IPY_MODEL_4cd50fc7d10f462692b1fa12737f095f"
      }
     },
     "76185a13f5ca414bbe285cfd973c36b3": {
      "model_module": "@jupyter-widgets/controls",
      "model_module_version": "1.5.0",
      "model_name": "FloatSliderModel",
      "state": {
       "description": "Compression Threshold",
       "layout": "IPY_MODEL_e67cf50d19954a3793be6e1ae558accd",
       "max": 1,
       "step": 0.01,
       "style": "IPY_MODEL_d19083131eef42418ce8199b82a7dae9",
       "value": 0.8
      }
     },
     "76c61b57ec4a404098dfe5da09063edd": {
      "model_module": "@jupyter-widgets/base",
      "model_module_version": "1.2.0",
      "model_name": "LayoutModel",
      "state": {}
     },
     "7702f3f0fefe47b99cc1bf5af05f4a2a": {
      "model_module": "@jupyter-widgets/controls",
      "model_module_version": "1.5.0",
      "model_name": "FloatSliderModel",
      "state": {
       "description": "90°",
       "layout": "IPY_MODEL_66c8dd3f89684e2c80dde3781cf630eb",
       "max": 1,
       "min": -1,
       "step": 0.01,
       "style": "IPY_MODEL_b6466618a6d348d6bfb238cc89db1345"
      }
     },
     "771ff8683a7a4e32bb0d6107b860d7fe": {
      "model_module": "@jupyter-widgets/controls",
      "model_module_version": "1.5.0",
      "model_name": "ButtonStyleModel",
      "state": {}
     },
     "77670415b90a40d3830b19d8cfdb3452": {
      "model_module": "@jupyter-widgets/base",
      "model_module_version": "1.2.0",
      "model_name": "LayoutModel",
      "state": {}
     },
     "778b3e7bd56448ef8182aee18f509839": {
      "model_module": "@jupyter-widgets/controls",
      "model_module_version": "1.5.0",
      "model_name": "HBoxModel",
      "state": {
       "children": [
        "IPY_MODEL_130dd6a4710c49c2ab2643e20e14bc80",
        "IPY_MODEL_fb268cb6ac9847bbafc3711b7b34731a",
        "IPY_MODEL_fe78c3f710f34419a5668f5e6cb7cfd4"
       ],
       "layout": "IPY_MODEL_f608ee2b4709444fbbe7582cbba9fa85"
      }
     },
     "7790fce533604fc38905dbc8ad809c8b": {
      "model_module": "@jupyter-widgets/controls",
      "model_module_version": "1.5.0",
      "model_name": "ButtonModel",
      "state": {
       "description": "Export Image",
       "layout": "IPY_MODEL_c7718a9ab44c43679af8b7a4a852f0ec",
       "style": "IPY_MODEL_ce3ccf0602ac407da78b6e185ae61e03"
      }
     },
     "77b54668791e427e9ad7759bbb241a6a": {
      "model_module": "@jupyter-widgets/base",
      "model_module_version": "1.2.0",
      "model_name": "LayoutModel",
      "state": {}
     },
     "7813f202a15b44a3abc5531e21ee742a": {
      "model_module": "@jupyter-widgets/base",
      "model_module_version": "1.2.0",
      "model_name": "LayoutModel",
      "state": {}
     },
     "7828777ff00045acb9594334b3dc259f": {
      "model_module": "@jupyter-widgets/output",
      "model_module_version": "1.0.0",
      "model_name": "OutputModel",
      "state": {
       "layout": "IPY_MODEL_536eb75aba7b4919bb58b2fd19daad73",
       "outputs": [
        {
         "data": {
          "application/vnd.jupyter.widget-view+json": {
           "model_id": "3ec81226cb9c41179d43c030e448d305",
           "version_major": 2,
           "version_minor": 0
          },
          "text/plain": "Canvas(toolbar=Toolbar(toolitems=[('Home', 'Reset original view', 'home', 'home'), ('Back', 'Back to previous …"
         },
         "metadata": {},
         "output_type": "display_data"
        }
       ]
      }
     },
     "782efdbece9e492ba700420347bfc4cf": {
      "model_module": "@jupyter-widgets/controls",
      "model_module_version": "1.5.0",
      "model_name": "ButtonStyleModel",
      "state": {}
     },
     "78d812913bf8440e8c383e481b05efcd": {
      "model_module": "@jupyter-widgets/controls",
      "model_module_version": "1.5.0",
      "model_name": "SliderStyleModel",
      "state": {
       "description_width": ""
      }
     },
     "78de725bf4be4579931bb6e021d38a8e": {
      "model_module": "@jupyter-widgets/base",
      "model_module_version": "1.2.0",
      "model_name": "LayoutModel",
      "state": {}
     },
     "79064596d4f544f0b7113e88d446e0b4": {
      "model_module": "jupyter-matplotlib",
      "model_module_version": "^0.7.2",
      "model_name": "ToolbarModel",
      "state": {
       "layout": "IPY_MODEL_c5e9c5f211bc439598c10d51afc1c0fc",
       "toolitems": [
        [
         "Home",
         "Reset original view",
         "home",
         "home"
        ],
        [
         "Back",
         "Back to previous view",
         "arrow-left",
         "back"
        ],
        [
         "Forward",
         "Forward to next view",
         "arrow-right",
         "forward"
        ],
        [
         "Pan",
         "Pan axes with left mouse, zoom with right",
         "arrows",
         "pan"
        ],
        [
         "Zoom",
         "Zoom to rectangle",
         "square-o",
         "zoom"
        ],
        [
         "Download",
         "Download plot",
         "floppy-o",
         "save_figure"
        ]
       ]
      }
     },
     "790703b123554b5787ac85c23bd37bc9": {
      "model_module": "@jupyter-widgets/controls",
      "model_module_version": "1.5.0",
      "model_name": "FloatSliderModel",
      "state": {
       "description": "225°",
       "layout": "IPY_MODEL_26395db8f1d345fb827645cf2eb690f9",
       "max": 1,
       "min": -1,
       "step": 0.01,
       "style": "IPY_MODEL_02a3ba2556e14728b97d6b9620af99fe"
      }
     },
     "790b1aea36a642f09e4c65dc32e3f012": {
      "model_module": "@jupyter-widgets/base",
      "model_module_version": "1.2.0",
      "model_name": "LayoutModel",
      "state": {}
     },
     "792d7a3afb554a77b96208d821fb532e": {
      "model_module": "@jupyter-widgets/base",
      "model_module_version": "1.2.0",
      "model_name": "LayoutModel",
      "state": {}
     },
     "7960446fb84049b5b1fd78ee568c2336": {
      "model_module": "@jupyter-widgets/base",
      "model_module_version": "1.2.0",
      "model_name": "LayoutModel",
      "state": {}
     },
     "79a5fff2520849cf98ce07dd8362d8f0": {
      "model_module": "@jupyter-widgets/base",
      "model_module_version": "1.2.0",
      "model_name": "LayoutModel",
      "state": {
       "align_items": "stretch",
       "display": "flex",
       "flex_flow": "column",
       "width": "1128px"
      }
     },
     "79b6011cef754bea80d33ebd8490769e": {
      "model_module": "@jupyter-widgets/controls",
      "model_module_version": "1.5.0",
      "model_name": "ButtonStyleModel",
      "state": {}
     },
     "79b7a4db976945fd9e0bdcffd4f68f19": {
      "model_module": "@jupyter-widgets/base",
      "model_module_version": "1.2.0",
      "model_name": "LayoutModel",
      "state": {}
     },
     "7a480c71482243469c70019190d3c411": {
      "model_module": "@jupyter-widgets/controls",
      "model_module_version": "1.5.0",
      "model_name": "SliderStyleModel",
      "state": {
       "description_width": ""
      }
     },
     "7a4eda241e694b6fbce13a7d5ad4c9ba": {
      "model_module": "@jupyter-widgets/base",
      "model_module_version": "1.2.0",
      "model_name": "LayoutModel",
      "state": {}
     },
     "7a841cabc05543ffadba540a9d344f60": {
      "model_module": "@jupyter-widgets/controls",
      "model_module_version": "1.5.0",
      "model_name": "SliderStyleModel",
      "state": {
       "description_width": ""
      }
     },
     "7a98c4adb9824ac085e57c97916cdc32": {
      "model_module": "@jupyter-widgets/base",
      "model_module_version": "1.2.0",
      "model_name": "LayoutModel",
      "state": {}
     },
     "7a9c9c00857f44f597ec1c248946c661": {
      "model_module": "@jupyter-widgets/controls",
      "model_module_version": "1.5.0",
      "model_name": "FloatSliderModel",
      "state": {
       "description": "Exposure",
       "layout": "IPY_MODEL_2a5b6146114d489d8d4ac3125ab98da1",
       "max": 8,
       "min": -8,
       "step": 0.1,
       "style": "IPY_MODEL_f54f9c1a611f46698203204c78bf4067"
      }
     },
     "7ac2630d43274e18af668c45b151b321": {
      "model_module": "@jupyter-widgets/controls",
      "model_module_version": "1.5.0",
      "model_name": "BoxModel",
      "state": {
       "children": [
        "IPY_MODEL_07b5b6b0149a4024ae783a6e9d060c74",
        "IPY_MODEL_c156bb1cf9a044e6a31fc9bd962649ab"
       ],
       "layout": "IPY_MODEL_00707dcc7cc340d4b2d9df0da89861dd"
      }
     },
     "7ad393a289614f8f8293da85f54fc8e9": {
      "model_module": "@jupyter-widgets/base",
      "model_module_version": "1.2.0",
      "model_name": "LayoutModel",
      "state": {
       "border": "solid 4px #222",
       "margin": "4px",
       "padding": "0"
      }
     },
     "7af25ca93ad94862a4363b7c6224eac8": {
      "model_module": "@jupyter-widgets/base",
      "model_module_version": "1.2.0",
      "model_name": "LayoutModel",
      "state": {}
     },
     "7af900c65bf54b7a8e04bee480611c6b": {
      "model_module": "@jupyter-widgets/controls",
      "model_module_version": "1.5.0",
      "model_name": "SliderStyleModel",
      "state": {
       "description_width": ""
      }
     },
     "7b193fdbb77b4a0f920f7f02fe13c034": {
      "model_module": "@jupyter-widgets/base",
      "model_module_version": "1.2.0",
      "model_name": "LayoutModel",
      "state": {}
     },
     "7b21f25be89e4803b176edc85bf05ec5": {
      "model_module": "@jupyter-widgets/base",
      "model_module_version": "1.2.0",
      "model_name": "LayoutModel",
      "state": {}
     },
     "7b7330f33c554217838cd0bcb86eeafc": {
      "model_module": "@jupyter-widgets/base",
      "model_module_version": "1.2.0",
      "model_name": "LayoutModel",
      "state": {}
     },
     "7b903aa29b1449a78c640ed678b89e1c": {
      "model_module": "@jupyter-widgets/base",
      "model_module_version": "1.2.0",
      "model_name": "LayoutModel",
      "state": {}
     },
     "7b91d969a8ab415ca39d903f3077df17": {
      "model_module": "@jupyter-widgets/controls",
      "model_module_version": "1.5.0",
      "model_name": "SliderStyleModel",
      "state": {
       "description_width": ""
      }
     },
     "7bcb4dc46a0f4a579029a086d30f0af4": {
      "model_module": "@jupyter-widgets/controls",
      "model_module_version": "1.5.0",
      "model_name": "ButtonModel",
      "state": {
       "description": "Export Image",
       "layout": "IPY_MODEL_0a3dbf8eb5be48f88f25b3bea00cbcbe",
       "style": "IPY_MODEL_2abc28f8cd384c99ad4a73d6d9efe402"
      }
     },
     "7c13049af6ab40558a735a82f5c65197": {
      "model_module": "@jupyter-widgets/controls",
      "model_module_version": "1.5.0",
      "model_name": "SliderStyleModel",
      "state": {
       "description_width": ""
      }
     },
     "7c272bd1fa8842b0b5a0618ecf1ee49a": {
      "model_module": "@jupyter-widgets/base",
      "model_module_version": "1.2.0",
      "model_name": "LayoutModel",
      "state": {}
     },
     "7c28bcdc4be144bdabb037ca2009e612": {
      "model_module": "@jupyter-widgets/controls",
      "model_module_version": "1.5.0",
      "model_name": "FloatSliderModel",
      "state": {
       "description": "Compression Threshold",
       "layout": "IPY_MODEL_49bda73929b04a768c8601993666dd50",
       "max": 1,
       "step": 0.01,
       "style": "IPY_MODEL_622909e06249411b8ebac298815b3bc3",
       "value": 0.8
      }
     },
     "7c31ed055d0e403dbd147980ca8331cc": {
      "model_module": "@jupyter-widgets/controls",
      "model_module_version": "1.5.0",
      "model_name": "ButtonModel",
      "state": {
       "description": "Reset Saturation Controls",
       "layout": "IPY_MODEL_702d81f8fbc944d6bfe2e8e84f16b32d",
       "style": "IPY_MODEL_a06b898730e24123a5ce576ae3724b28"
      }
     },
     "7c43fd7c92a94a029934af91c64408db": {
      "model_module": "@jupyter-widgets/controls",
      "model_module_version": "1.5.0",
      "model_name": "SliderStyleModel",
      "state": {
       "description_width": ""
      }
     },
     "7c832e4462da4a11b6b9782cc4f4c0eb": {
      "model_module": "@jupyter-widgets/controls",
      "model_module_version": "1.5.0",
      "model_name": "SliderStyleModel",
      "state": {
       "description_width": ""
      }
     },
     "7c940fd347264720b79b959af33db391": {
      "model_module": "@jupyter-widgets/controls",
      "model_module_version": "1.5.0",
      "model_name": "SliderStyleModel",
      "state": {
       "description_width": ""
      }
     },
     "7d101ecc681a46b3b4593d49dd2e3e16": {
      "model_module": "@jupyter-widgets/controls",
      "model_module_version": "1.5.0",
      "model_name": "VBoxModel",
      "state": {
       "children": [
        "IPY_MODEL_4ee03b22b228498a8c5a65b2c647e6c6",
        "IPY_MODEL_bc0b77947e4f4d9c8e7a6ada0167b8dd"
       ],
       "layout": "IPY_MODEL_270b65ee91334f09a01d53e8b987ac16"
      }
     },
     "7d1992d04c294ad694bef12dfe7d9794": {
      "model_module": "@jupyter-widgets/controls",
      "model_module_version": "1.5.0",
      "model_name": "HBoxModel",
      "state": {
       "children": [
        "IPY_MODEL_4ff41229c08547878d30316fef296454",
        "IPY_MODEL_baf13fc16f974bad9967debb9ef6ebea",
        "IPY_MODEL_9566ff01033248a6a5b6da70f61363d8",
        "IPY_MODEL_8f4cd447d4af4556a69e5e10d65910a0"
       ],
       "layout": "IPY_MODEL_069a4e24ee8d41108b18887ba5593ed4"
      }
     },
     "7d33231b6a254964898672e04a383cb0": {
      "model_module": "@jupyter-widgets/controls",
      "model_module_version": "1.5.0",
      "model_name": "DropdownModel",
      "state": {
       "_options_labels": [
        "tanh",
        "simple"
       ],
       "description": "Compression Function:",
       "index": 0,
       "layout": "IPY_MODEL_a113c0805c8e48d597583e8b1607cedc",
       "style": "IPY_MODEL_d897122097d344adb4758691b313d5fc"
      }
     },
     "7d7e798ee7f74194bfff26201de30225": {
      "model_module": "@jupyter-widgets/base",
      "model_module_version": "1.2.0",
      "model_name": "LayoutModel",
      "state": {}
     },
     "7d814a0eb281427d973eb4c6754db73a": {
      "model_module": "@jupyter-widgets/base",
      "model_module_version": "1.2.0",
      "model_name": "LayoutModel",
      "state": {}
     },
     "7d8cba2e80a04f229516c70116f4db42": {
      "model_module": "@jupyter-widgets/controls",
      "model_module_version": "1.5.0",
      "model_name": "ButtonModel",
      "state": {
       "description": "Reset Compression Controls",
       "layout": "IPY_MODEL_715973679ea64ef38db11761cb594259",
       "style": "IPY_MODEL_85c445a5dd0c4b68aa22f0ae6f4e93c7"
      }
     },
     "7dd224cccef348a5926f530109411bf3": {
      "model_module": "@jupyter-widgets/base",
      "model_module_version": "1.2.0",
      "model_name": "LayoutModel",
      "state": {}
     },
     "7df019aae9af430b8d74b4be6ba99d24": {
      "model_module": "@jupyter-widgets/base",
      "model_module_version": "1.2.0",
      "model_name": "LayoutModel",
      "state": {}
     },
     "7e2d789147a74edb9f472507848c1a4c": {
      "model_module": "@jupyter-widgets/base",
      "model_module_version": "1.2.0",
      "model_name": "LayoutModel",
      "state": {}
     },
     "7e602691ae2f441994e692c20bb1258a": {
      "model_module": "@jupyter-widgets/controls",
      "model_module_version": "1.5.0",
      "model_name": "ButtonModel",
      "state": {
       "description": "Save Figure",
       "layout": "IPY_MODEL_b42ead802f4946698daf02039367ead9",
       "style": "IPY_MODEL_782efdbece9e492ba700420347bfc4cf"
      }
     },
     "7e8b408b9e5147eb8c726f294a3e7143": {
      "model_module": "@jupyter-widgets/base",
      "model_module_version": "1.2.0",
      "model_name": "LayoutModel",
      "state": {}
     },
     "7eaa1df1400d474f968496427c226807": {
      "model_module": "@jupyter-widgets/controls",
      "model_module_version": "1.5.0",
      "model_name": "FloatSliderModel",
      "state": {
       "description": "Exposure",
       "layout": "IPY_MODEL_458797335a154e66bc3704befc8377e7",
       "max": 8,
       "min": -8,
       "step": 0.1,
       "style": "IPY_MODEL_1f44e265ec974ac19c84ab2a05464f73"
      }
     },
     "7ed87da9cd4242c89ac28688d9e4dead": {
      "model_module": "@jupyter-widgets/controls",
      "model_module_version": "1.5.0",
      "model_name": "SliderStyleModel",
      "state": {
       "description_width": ""
      }
     },
     "7f08c2be95e14eeab69e282a0d35f98a": {
      "model_module": "@jupyter-widgets/controls",
      "model_module_version": "1.5.0",
      "model_name": "DescriptionStyleModel",
      "state": {
       "description_width": ""
      }
     },
     "7f42853a763a4c23a6327d8d7d73609d": {
      "model_module": "@jupyter-widgets/base",
      "model_module_version": "1.2.0",
      "model_name": "LayoutModel",
      "state": {}
     },
     "7f5f5ec8630f451183caad0b5693e14f": {
      "model_module": "@jupyter-widgets/base",
      "model_module_version": "1.2.0",
      "model_name": "LayoutModel",
      "state": {}
     },
     "7fc5e52b9da24e2f88cdd1e2bb3042f5": {
      "model_module": "@jupyter-widgets/controls",
      "model_module_version": "1.5.0",
      "model_name": "SliderStyleModel",
      "state": {
       "description_width": ""
      }
     },
     "7fcf776d0dcd4a92a6583fa27f5dd7f7": {
      "model_module": "@jupyter-widgets/controls",
      "model_module_version": "1.5.0",
      "model_name": "FloatSliderModel",
      "state": {
       "description": "Exposure",
       "layout": "IPY_MODEL_b4841fd5ddf84f788286b80e0f035acb",
       "max": 8,
       "min": -8,
       "step": 0.1,
       "style": "IPY_MODEL_61efd2c568e240a48b3dc7a492bb65f3"
      }
     },
     "8045ebb5e2e54382a7cf1c269bc47143": {
      "model_module": "jupyter-matplotlib",
      "model_module_version": "^0.7.2",
      "model_name": "ToolbarModel",
      "state": {
       "layout": "IPY_MODEL_51eccf3fe3de473282402301bb2890e6",
       "toolitems": [
        [
         "Home",
         "Reset original view",
         "home",
         "home"
        ],
        [
         "Back",
         "Back to previous view",
         "arrow-left",
         "back"
        ],
        [
         "Forward",
         "Forward to next view",
         "arrow-right",
         "forward"
        ],
        [
         "Pan",
         "Pan axes with left mouse, zoom with right",
         "arrows",
         "pan"
        ],
        [
         "Zoom",
         "Zoom to rectangle",
         "square-o",
         "zoom"
        ],
        [
         "Download",
         "Download plot",
         "floppy-o",
         "save_figure"
        ]
       ]
      }
     },
     "80a313277dde4e66a34b07a999f3c27f": {
      "model_module": "@jupyter-widgets/controls",
      "model_module_version": "1.5.0",
      "model_name": "FloatSliderModel",
      "state": {
       "description": "Compression Threshold",
       "layout": "IPY_MODEL_e0a4a47a1abd495387c116612d456d5d",
       "max": 1,
       "step": 0.01,
       "style": "IPY_MODEL_6ba5dc73549a4d5c80b1e6e76e0855cb",
       "value": 0.8
      }
     },
     "810b642ceb1b43b08f5daf1ba395ece3": {
      "model_module": "@jupyter-widgets/controls",
      "model_module_version": "1.5.0",
      "model_name": "VBoxModel",
      "state": {
       "children": [
        "IPY_MODEL_29905953a3534bdda83854c6dfdddf24",
        "IPY_MODEL_397e65ed4111435393a392110280a542",
        "IPY_MODEL_7702f3f0fefe47b99cc1bf5af05f4a2a"
       ],
       "layout": "IPY_MODEL_4d8bbc9a715e4f15922168506f316a8e"
      }
     },
     "8118bd3bb3d04b1c877774a058bcd7bf": {
      "model_module": "@jupyter-widgets/base",
      "model_module_version": "1.2.0",
      "model_name": "LayoutModel",
      "state": {}
     },
     "81666c7637ba4c9d8ebd65d917d7c899": {
      "model_module": "@jupyter-widgets/base",
      "model_module_version": "1.2.0",
      "model_name": "LayoutModel",
      "state": {}
     },
     "829864ef6f694fb3bb861ac885d7efca": {
      "model_module": "@jupyter-widgets/controls",
      "model_module_version": "1.5.0",
      "model_name": "HBoxModel",
      "state": {
       "children": [
        "IPY_MODEL_9832614745774b33a90f24ebb778921b",
        "IPY_MODEL_b8a54ecfcdd1464a856f3d11ae80011c",
        "IPY_MODEL_9d791ad2dcdb4026bd3a93fb322dd3a8"
       ],
       "layout": "IPY_MODEL_240bc429321445788302e80625344668"
      }
     },
     "82b365b8bfa24ae1871e76283c666f7b": {
      "model_module": "@jupyter-widgets/base",
      "model_module_version": "1.2.0",
      "model_name": "LayoutModel",
      "state": {}
     },
     "82b5ec97adb34a898e5cf470903d5592": {
      "model_module": "@jupyter-widgets/base",
      "model_module_version": "1.2.0",
      "model_name": "LayoutModel",
      "state": {}
     },
     "82db7a073c1f4138a20b80a80de8637e": {
      "model_module": "@jupyter-widgets/base",
      "model_module_version": "1.2.0",
      "model_name": "LayoutModel",
      "state": {}
     },
     "82fdeb1c003d4780b4c64ff697df22aa": {
      "model_module": "@jupyter-widgets/controls",
      "model_module_version": "1.5.0",
      "model_name": "VBoxModel",
      "state": {
       "children": [
        "IPY_MODEL_133abedd0c714cf49bc53df31d6c1a8d",
        "IPY_MODEL_b3727a2471bf4d1e8ef4275a87a1d16a"
       ],
       "layout": "IPY_MODEL_07cf23a6995245299b0ff07a9eb66c1f"
      }
     },
     "830779cba44c4ec89214c8613dcfaa54": {
      "model_module": "@jupyter-widgets/base",
      "model_module_version": "1.2.0",
      "model_name": "LayoutModel",
      "state": {}
     },
     "835fbae47b424004b2ea53bc5025d481": {
      "model_module": "@jupyter-widgets/base",
      "model_module_version": "1.2.0",
      "model_name": "LayoutModel",
      "state": {}
     },
     "83bcac8aa15746979fb9b0fa3945e716": {
      "model_module": "@jupyter-widgets/base",
      "model_module_version": "1.2.0",
      "model_name": "LayoutModel",
      "state": {}
     },
     "83e40949eae6457a9de8d73ee4a6f9a2": {
      "model_module": "@jupyter-widgets/controls",
      "model_module_version": "1.5.0",
      "model_name": "FloatSliderModel",
      "state": {
       "description": "135°",
       "layout": "IPY_MODEL_85b1a9a248ba415486b29281439acdaa",
       "max": 1,
       "min": -1,
       "step": 0.01,
       "style": "IPY_MODEL_47642bd30cc14cddb5770ba9c00af3a8"
      }
     },
     "84045a652e804ed1b34f9d88c87cdc0b": {
      "model_module": "@jupyter-widgets/controls",
      "model_module_version": "1.5.0",
      "model_name": "FloatSliderModel",
      "state": {
       "description": "135°",
       "layout": "IPY_MODEL_f577015dac15427393ee4cf8c43e4066",
       "max": 1,
       "min": -1,
       "step": 0.01,
       "style": "IPY_MODEL_2049ca68e95b474db8495e6f211a54d2"
      }
     },
     "845eb6d8e9c74919a8fdbcea4e16ea6a": {
      "model_module": "@jupyter-widgets/base",
      "model_module_version": "1.2.0",
      "model_name": "LayoutModel",
      "state": {}
     },
     "8479e897dcb04110a046fa041f627670": {
      "model_module": "@jupyter-widgets/controls",
      "model_module_version": "1.5.0",
      "model_name": "DropdownModel",
      "state": {
       "_options_labels": [
        "tanh",
        "simple"
       ],
       "description": "Compression Function:",
       "index": 0,
       "layout": "IPY_MODEL_b6e4f1dc6b0045639b661cbcc13197af",
       "style": "IPY_MODEL_ec8e4d07be254452aca7fe44fa3f9fbe"
      }
     },
     "84b3346e142a4fb7ad67923cc4f66bb2": {
      "model_module": "@jupyter-widgets/controls",
      "model_module_version": "1.5.0",
      "model_name": "FloatSliderModel",
      "state": {
       "description": "270°",
       "layout": "IPY_MODEL_c81e9aa5e3f14c0686dea8e7ef5d3661",
       "max": 1,
       "min": -1,
       "step": 0.01,
       "style": "IPY_MODEL_4f2309f833c842eb90d59139c57960ea"
      }
     },
     "84ce8501cdf1472a85bf7e16a2add276": {
      "model_module": "@jupyter-widgets/base",
      "model_module_version": "1.2.0",
      "model_name": "LayoutModel",
      "state": {}
     },
     "84e55230f8854afcad37b653ef97c4f5": {
      "model_module": "@jupyter-widgets/controls",
      "model_module_version": "1.5.0",
      "model_name": "ButtonModel",
      "state": {
       "description": "Reset Compression Controls",
       "layout": "IPY_MODEL_b268df7399cc4aac9dc3968bae40ad14",
       "style": "IPY_MODEL_07df18d190dc4168ae95374f1b5e326b"
      }
     },
     "84fa7de8d96847cfaeeeaae31e4bc8f3": {
      "model_module": "@jupyter-widgets/base",
      "model_module_version": "1.2.0",
      "model_name": "LayoutModel",
      "state": {}
     },
     "859b10e8dc094f019ab698163b60dcca": {
      "model_module": "@jupyter-widgets/controls",
      "model_module_version": "1.5.0",
      "model_name": "ButtonStyleModel",
      "state": {}
     },
     "859cd6b790ee4c93be0bbe73e96fc5e3": {
      "model_module": "@jupyter-widgets/controls",
      "model_module_version": "1.5.0",
      "model_name": "ButtonStyleModel",
      "state": {}
     },
     "859cec53412c4ed1962fd650bd2dfea8": {
      "model_module": "@jupyter-widgets/base",
      "model_module_version": "1.2.0",
      "model_name": "LayoutModel",
      "state": {
       "border": "solid 4px #222",
       "margin": "4px",
       "padding": "0"
      }
     },
     "85b1a9a248ba415486b29281439acdaa": {
      "model_module": "@jupyter-widgets/base",
      "model_module_version": "1.2.0",
      "model_name": "LayoutModel",
      "state": {}
     },
     "85c445a5dd0c4b68aa22f0ae6f4e93c7": {
      "model_module": "@jupyter-widgets/controls",
      "model_module_version": "1.5.0",
      "model_name": "ButtonStyleModel",
      "state": {}
     },
     "85e260a0fe28413d88cccd53b88d2d31": {
      "model_module": "@jupyter-widgets/base",
      "model_module_version": "1.2.0",
      "model_name": "LayoutModel",
      "state": {}
     },
     "85f4d52b7db7450da5957032fa9df975": {
      "model_module": "@jupyter-widgets/base",
      "model_module_version": "1.2.0",
      "model_name": "LayoutModel",
      "state": {}
     },
     "865917ec8e9949d9a9bc685b248141b0": {
      "model_module": "@jupyter-widgets/controls",
      "model_module_version": "1.5.0",
      "model_name": "SliderStyleModel",
      "state": {
       "description_width": ""
      }
     },
     "865c219f067b4241807f9892c53f7960": {
      "model_module": "@jupyter-widgets/controls",
      "model_module_version": "1.5.0",
      "model_name": "ButtonStyleModel",
      "state": {}
     },
     "87351fc5219c40278ef3024a024bc77e": {
      "model_module": "jupyter-matplotlib",
      "model_module_version": "^0.7.2",
      "model_name": "MPLCanvasModel",
      "state": {
       "_figure_label": "Figure 4",
       "_height": 618,
       "_width": 1099,
       "header_visible": false,
       "layout": "IPY_MODEL_50184a2d209f46288070e51abac0a675",
       "resizable": false,
       "toolbar": "IPY_MODEL_95cc43b625bd48b6af901292b53e1c19",
       "toolbar_position": "left",
       "toolbar_visible": false
      }
     },
     "875e8355c7184f4aa0e977c4eed0e97d": {
      "model_module": "@jupyter-widgets/controls",
      "model_module_version": "1.5.0",
      "model_name": "ButtonModel",
      "state": {
       "description": "Save Figure",
       "layout": "IPY_MODEL_d228a39b105149d3b23e0eeabca0803b",
       "style": "IPY_MODEL_a4b4df4b12f04abda6986210265b1f72"
      }
     },
     "87c2af4dc3dc4b16a57c1466cecc27e4": {
      "model_module": "@jupyter-widgets/base",
      "model_module_version": "1.2.0",
      "model_name": "LayoutModel",
      "state": {}
     },
     "87df6e9add3e411393ab55e53e0d725b": {
      "model_module": "@jupyter-widgets/controls",
      "model_module_version": "1.5.0",
      "model_name": "CheckboxModel",
      "state": {
       "description": "Disable Medicina",
       "disabled": false,
       "layout": "IPY_MODEL_f76cb8007c214b3e9e3ed7384eb7fca9",
       "style": "IPY_MODEL_6940897d630b4756aa6fe4fabe9de5ec",
       "value": false
      }
     },
     "8832c745b36a432885b64e3b4f56d919": {
      "model_module": "@jupyter-widgets/controls",
      "model_module_version": "1.5.0",
      "model_name": "SliderStyleModel",
      "state": {
       "description_width": ""
      }
     },
     "88475fc44e514988ae5fecc15fc78968": {
      "model_module": "jupyter-matplotlib",
      "model_module_version": "^0.7.2",
      "model_name": "ToolbarModel",
      "state": {
       "layout": "IPY_MODEL_909e8dc869084d739790f8fb2aa7f97e",
       "toolitems": [
        [
         "Home",
         "Reset original view",
         "home",
         "home"
        ],
        [
         "Back",
         "Back to previous view",
         "arrow-left",
         "back"
        ],
        [
         "Forward",
         "Forward to next view",
         "arrow-right",
         "forward"
        ],
        [
         "Pan",
         "Pan axes with left mouse, zoom with right",
         "arrows",
         "pan"
        ],
        [
         "Zoom",
         "Zoom to rectangle",
         "square-o",
         "zoom"
        ],
        [
         "Download",
         "Download plot",
         "floppy-o",
         "save_figure"
        ]
       ]
      }
     },
     "885bc7f8b2fb4e02bfacf29420fd619f": {
      "model_module": "@jupyter-widgets/base",
      "model_module_version": "1.2.0",
      "model_name": "LayoutModel",
      "state": {}
     },
     "88729ff1fb234dddad34bbbb68b3260f": {
      "model_module": "@jupyter-widgets/base",
      "model_module_version": "1.2.0",
      "model_name": "LayoutModel",
      "state": {}
     },
     "88f18af9b670458cb06c04ca547ab671": {
      "model_module": "@jupyter-widgets/controls",
      "model_module_version": "1.5.0",
      "model_name": "DropdownModel",
      "state": {
       "_options_labels": [
        "tanh",
        "simple"
       ],
       "description": "Compression Function:",
       "index": 0,
       "layout": "IPY_MODEL_e9e5885a7864420ba5ab1490b7f12455",
       "style": "IPY_MODEL_0c605f555e424a8db5e502808ffe4f19"
      }
     },
     "88f41eccfdfd4b99bfd6fcdd4f61001b": {
      "model_module": "@jupyter-widgets/controls",
      "model_module_version": "1.5.0",
      "model_name": "FloatSliderModel",
      "state": {
       "description": "270°",
       "layout": "IPY_MODEL_e8809bf4707e4310bab35bf35d142daa",
       "max": 1,
       "min": -1,
       "step": 0.01,
       "style": "IPY_MODEL_383b54d7615f4eb38db5bbd893a64aba"
      }
     },
     "8980e959ed51412e803229a3550a08f3": {
      "model_module": "@jupyter-widgets/base",
      "model_module_version": "1.2.0",
      "model_name": "LayoutModel",
      "state": {}
     },
     "8989e8d4aac242f6b2e018047e7a1b9b": {
      "model_module": "@jupyter-widgets/base",
      "model_module_version": "1.2.0",
      "model_name": "LayoutModel",
      "state": {}
     },
     "898cda1f15874093a67a61794b83f46c": {
      "model_module": "@jupyter-widgets/controls",
      "model_module_version": "1.5.0",
      "model_name": "ButtonStyleModel",
      "state": {}
     },
     "89a02c91158f401ca2bb2a9835e7b129": {
      "model_module": "@jupyter-widgets/controls",
      "model_module_version": "1.5.0",
      "model_name": "SliderStyleModel",
      "state": {
       "description_width": ""
      }
     },
     "89dd9ea20d54418fa0e9ece5ecca2673": {
      "model_module": "@jupyter-widgets/base",
      "model_module_version": "1.2.0",
      "model_name": "LayoutModel",
      "state": {
       "border": "solid 4px #222",
       "margin": "4px",
       "padding": "0"
      }
     },
     "89e5ddb1e4f949fabf92fb90595e5006": {
      "model_module": "@jupyter-widgets/base",
      "model_module_version": "1.2.0",
      "model_name": "LayoutModel",
      "state": {}
     },
     "8a046a003df342ecb62f6e03fc234054": {
      "model_module": "@jupyter-widgets/controls",
      "model_module_version": "1.5.0",
      "model_name": "SliderStyleModel",
      "state": {
       "description_width": ""
      }
     },
     "8a814c7856c74b85ab82587be5253a31": {
      "model_module": "@jupyter-widgets/base",
      "model_module_version": "1.2.0",
      "model_name": "LayoutModel",
      "state": {}
     },
     "8ae9752e531b446f9f8305e352cee26a": {
      "model_module": "@jupyter-widgets/controls",
      "model_module_version": "1.5.0",
      "model_name": "FloatSliderModel",
      "state": {
       "description": "90°",
       "layout": "IPY_MODEL_2c7e936ee9ae49d18759ef1f2bc0f84d",
       "max": 1,
       "min": -1,
       "step": 0.01,
       "style": "IPY_MODEL_4cf0a173413d4e25b82972736ea3bd2d"
      }
     },
     "8b62d8c2a36f4b5598151ad120b83775": {
      "model_module": "@jupyter-widgets/base",
      "model_module_version": "1.2.0",
      "model_name": "LayoutModel",
      "state": {}
     },
     "8bd41daade164da687c8637f3f36d1cc": {
      "model_module": "@jupyter-widgets/controls",
      "model_module_version": "1.5.0",
      "model_name": "ButtonModel",
      "state": {
       "description": "Export Image",
       "layout": "IPY_MODEL_4fad1a7eaf664da58f28dc0f398e0c86",
       "style": "IPY_MODEL_63d6b7781f3641f88e63cea9f22885b7"
      }
     },
     "8c18b6cb105c4795a77de4ded3f5c2a4": {
      "model_module": "@jupyter-widgets/controls",
      "model_module_version": "1.5.0",
      "model_name": "ButtonModel",
      "state": {
       "description": "Save Figure",
       "layout": "IPY_MODEL_721ce0a11f134d7f9e271cb7f301df82",
       "style": "IPY_MODEL_239efcc2b6f34c5e9e8f441247ac2d66"
      }
     },
     "8c97b1fbdaab478c998cab7108723995": {
      "model_module": "@jupyter-widgets/controls",
      "model_module_version": "1.5.0",
      "model_name": "SliderStyleModel",
      "state": {
       "description_width": ""
      }
     },
     "8cb5b3fdc1614f35b6788653d7419356": {
      "model_module": "@jupyter-widgets/controls",
      "model_module_version": "1.5.0",
      "model_name": "FloatSliderModel",
      "state": {
       "description": "270°",
       "layout": "IPY_MODEL_156ee210f6444364a5464787e27f6f18",
       "max": 1,
       "min": -1,
       "step": 0.01,
       "style": "IPY_MODEL_8832c745b36a432885b64e3b4f56d919"
      }
     },
     "8ce9d3cb1a29410a8449a35f0d841b73": {
      "model_module": "@jupyter-widgets/controls",
      "model_module_version": "1.5.0",
      "model_name": "SliderStyleModel",
      "state": {
       "description_width": ""
      }
     },
     "8cec9f2c78374bd0bc3ff90ff43d3544": {
      "model_module": "@jupyter-widgets/controls",
      "model_module_version": "1.5.0",
      "model_name": "ButtonStyleModel",
      "state": {}
     },
     "8d50d96440374aa5ae5c2650f09c3b80": {
      "model_module": "@jupyter-widgets/controls",
      "model_module_version": "1.5.0",
      "model_name": "SliderStyleModel",
      "state": {
       "description_width": ""
      }
     },
     "8d7f46b2f8d14db1a891027d7e68129a": {
      "model_module": "@jupyter-widgets/controls",
      "model_module_version": "1.5.0",
      "model_name": "DescriptionStyleModel",
      "state": {
       "description_width": ""
      }
     },
     "8e76eef7a69f4dccaa6749d2608df5e5": {
      "model_module": "@jupyter-widgets/controls",
      "model_module_version": "1.5.0",
      "model_name": "ButtonModel",
      "state": {
       "description": "Save Figure",
       "layout": "IPY_MODEL_39d0ca92ff14453fb2e73e3a518de456",
       "style": "IPY_MODEL_138a7c73c70640c78f518e1b040db914"
      }
     },
     "8ebdaa1e4f94419197f3c6e78430afb6": {
      "model_module": "@jupyter-widgets/controls",
      "model_module_version": "1.5.0",
      "model_name": "BoxModel",
      "state": {
       "children": [
        "IPY_MODEL_eb9a8eab9407474995e35eb7d7820a87",
        "IPY_MODEL_0ea57b82c46549338e3033fddfaaf660"
       ],
       "layout": "IPY_MODEL_264d7d92beb64af08d7642d9a68b2757"
      }
     },
     "8f4c54e3c4b1444fa9254bf77fe5ef99": {
      "model_module": "@jupyter-widgets/output",
      "model_module_version": "1.0.0",
      "model_name": "OutputModel",
      "state": {
       "layout": "IPY_MODEL_cf8252c503e74412bed2882a12f9258c",
       "outputs": [
        {
         "data": {
          "application/vnd.jupyter.widget-view+json": {
           "model_id": "c3bbedce6a744cc0ae4b5a16363e429a",
           "version_major": 2,
           "version_minor": 0
          },
          "text/plain": "Canvas(toolbar=Toolbar(toolitems=[('Home', 'Reset original view', 'home', 'home'), ('Back', 'Back to previous …"
         },
         "metadata": {},
         "output_type": "display_data"
        }
       ]
      }
     },
     "8f4cd447d4af4556a69e5e10d65910a0": {
      "model_module": "@jupyter-widgets/controls",
      "model_module_version": "1.5.0",
      "model_name": "FloatSliderModel",
      "state": {
       "description": "Exposure",
       "layout": "IPY_MODEL_cb364e123e714d519c57372aa3116431",
       "max": 8,
       "min": -8,
       "step": 0.1,
       "style": "IPY_MODEL_ba0b822d384f44209036f9ad66dc26d9"
      }
     },
     "8f63b3621f3946a68a744709159de57b": {
      "model_module": "@jupyter-widgets/controls",
      "model_module_version": "1.5.0",
      "model_name": "FloatSliderModel",
      "state": {
       "description": "180°",
       "layout": "IPY_MODEL_96f0d177940746238fd495313a80224f",
       "max": 1,
       "min": -1,
       "step": 0.01,
       "style": "IPY_MODEL_6388658af6384aed9aff99dad137beda"
      }
     },
     "8fb019fc51f54bf08470d7655e817623": {
      "model_module": "@jupyter-widgets/base",
      "model_module_version": "1.2.0",
      "model_name": "LayoutModel",
      "state": {
       "border": "solid 4px #222",
       "margin": "4px",
       "padding": "0"
      }
     },
     "8fdce660d7684b138ca9a44266d55868": {
      "model_module": "@jupyter-widgets/base",
      "model_module_version": "1.2.0",
      "model_name": "LayoutModel",
      "state": {}
     },
     "90170e963ee94b95bf324b025b13521b": {
      "model_module": "@jupyter-widgets/controls",
      "model_module_version": "1.5.0",
      "model_name": "FloatSliderModel",
      "state": {
       "description": "180°",
       "layout": "IPY_MODEL_d1bc139c44ec449f9da744681a154fbf",
       "max": 1,
       "min": -1,
       "step": 0.01,
       "style": "IPY_MODEL_f7a0a1c3fc954fc1945cc0c112b4a3c6"
      }
     },
     "901827e026df497d8d409f769ef27a28": {
      "model_module": "@jupyter-widgets/controls",
      "model_module_version": "1.5.0",
      "model_name": "DropdownModel",
      "state": {
       "_options_labels": [
        "tanh",
        "simple"
       ],
       "description": "Compression Function:",
       "index": 0,
       "layout": "IPY_MODEL_155381b90fc44b0bafebbea0ca8fa731",
       "style": "IPY_MODEL_ccf4f83f4b824de58bc950c429038b3e"
      }
     },
     "909e8dc869084d739790f8fb2aa7f97e": {
      "model_module": "@jupyter-widgets/base",
      "model_module_version": "1.2.0",
      "model_name": "LayoutModel",
      "state": {}
     },
     "90e074fa8b6544ee8ade93971717dd3b": {
      "model_module": "@jupyter-widgets/controls",
      "model_module_version": "1.5.0",
      "model_name": "SliderStyleModel",
      "state": {
       "description_width": ""
      }
     },
     "90ed7f71ab8a4747a3fe29e6f8c2fc39": {
      "model_module": "@jupyter-widgets/controls",
      "model_module_version": "1.5.0",
      "model_name": "FloatSliderModel",
      "state": {
       "description": "135°",
       "layout": "IPY_MODEL_d2ab9b78de1145f386bceaac90498a6c",
       "max": 1,
       "min": -1,
       "step": 0.01,
       "style": "IPY_MODEL_ffe7887c51df4977a782d791610abbb7"
      }
     },
     "90f1a259d55241c3b19d1a4b56d57aea": {
      "model_module": "jupyter-matplotlib",
      "model_module_version": "^0.7.2",
      "model_name": "ToolbarModel",
      "state": {
       "layout": "IPY_MODEL_52d75e8c428943b2a2c3dd96091a4b28",
       "toolitems": [
        [
         "Home",
         "Reset original view",
         "home",
         "home"
        ],
        [
         "Back",
         "Back to previous view",
         "arrow-left",
         "back"
        ],
        [
         "Forward",
         "Forward to next view",
         "arrow-right",
         "forward"
        ],
        [
         "Pan",
         "Pan axes with left mouse, zoom with right",
         "arrows",
         "pan"
        ],
        [
         "Zoom",
         "Zoom to rectangle",
         "square-o",
         "zoom"
        ],
        [
         "Download",
         "Download plot",
         "floppy-o",
         "save_figure"
        ]
       ]
      }
     },
     "911ffcccfbc64126a04647214b76096c": {
      "model_module": "@jupyter-widgets/controls",
      "model_module_version": "1.5.0",
      "model_name": "BoxModel",
      "state": {
       "children": [
        "IPY_MODEL_e172912c208d4eba89ebfa2d83912847",
        "IPY_MODEL_19bc01fdabfa4188a34cc0b5cc32d227"
       ],
       "layout": "IPY_MODEL_fc33305f8224469e93b558eb4b5018d6"
      }
     },
     "91350837fe254268b743b6f6da2642b8": {
      "model_module": "@jupyter-widgets/controls",
      "model_module_version": "1.5.0",
      "model_name": "HBoxModel",
      "state": {
       "children": [
        "IPY_MODEL_da21333acc524524a9a1ca320348c669",
        "IPY_MODEL_b5a63f52b3ec4a87b26cc6c94bb906ce",
        "IPY_MODEL_ef900e9dc56a4cc89c070306a90de21d",
        "IPY_MODEL_7d101ecc681a46b3b4593d49dd2e3e16"
       ],
       "layout": "IPY_MODEL_5f5d81a009c84fcbb57b9b38f3fe6adb"
      }
     },
     "9174999f298843489ddcbb7edf93ad21": {
      "model_module": "@jupyter-widgets/base",
      "model_module_version": "1.2.0",
      "model_name": "LayoutModel",
      "state": {}
     },
     "919fa3a3d91643fca6ffa4416c1b823d": {
      "model_module": "@jupyter-widgets/controls",
      "model_module_version": "1.5.0",
      "model_name": "ButtonStyleModel",
      "state": {}
     },
     "91b81d8e332d4ec6a59cd7dd9945a632": {
      "model_module": "@jupyter-widgets/controls",
      "model_module_version": "1.5.0",
      "model_name": "ButtonStyleModel",
      "state": {}
     },
     "925a31b278c845d08823555a07192803": {
      "model_module": "@jupyter-widgets/base",
      "model_module_version": "1.2.0",
      "model_name": "LayoutModel",
      "state": {}
     },
     "926354c142b844e88a5760607f71a6f3": {
      "model_module": "@jupyter-widgets/controls",
      "model_module_version": "1.5.0",
      "model_name": "ButtonModel",
      "state": {
       "description": "Save Figure",
       "layout": "IPY_MODEL_b110012603eb496098298a96b56ff4b5",
       "style": "IPY_MODEL_6d3fd3997f7745a8a65aacb19b973c40"
      }
     },
     "927a1099fff84000829a9dd62b10a58a": {
      "model_module": "@jupyter-widgets/base",
      "model_module_version": "1.2.0",
      "model_name": "LayoutModel",
      "state": {}
     },
     "92a45ff82cc64bc2bb72854c2e27c760": {
      "model_module": "@jupyter-widgets/controls",
      "model_module_version": "1.5.0",
      "model_name": "DropdownModel",
      "state": {
       "_options_labels": [
        "tanh",
        "simple"
       ],
       "description": "Compression Function:",
       "index": 0,
       "layout": "IPY_MODEL_dfb9d957523f4609848fad5c311a4435",
       "style": "IPY_MODEL_b07150d7b93442388ebb68eb53f12b23"
      }
     },
     "92c2629d7fda4439a58fabd990f08b37": {
      "model_module": "@jupyter-widgets/controls",
      "model_module_version": "1.5.0",
      "model_name": "SliderStyleModel",
      "state": {
       "description_width": ""
      }
     },
     "936acdb1eb90487883d6e3094b9b9155": {
      "model_module": "@jupyter-widgets/controls",
      "model_module_version": "1.5.0",
      "model_name": "SliderStyleModel",
      "state": {
       "description_width": ""
      }
     },
     "938790a843fa41e2a1090f2fd3486362": {
      "model_module": "@jupyter-widgets/controls",
      "model_module_version": "1.5.0",
      "model_name": "HBoxModel",
      "state": {
       "children": [
        "IPY_MODEL_d81d9965bf1d4d5cb03a217a040eb4e9",
        "IPY_MODEL_40a4b99129bd42b1b4948ad934f067c1"
       ],
       "layout": "IPY_MODEL_d1f2fb929a304369b2c7e79cc52f05b9"
      }
     },
     "946736e282244bcea52369682c4b3ddc": {
      "model_module": "@jupyter-widgets/base",
      "model_module_version": "1.2.0",
      "model_name": "LayoutModel",
      "state": {}
     },
     "94d66434053840978f6fe248efc6512b": {
      "model_module": "@jupyter-widgets/base",
      "model_module_version": "1.2.0",
      "model_name": "LayoutModel",
      "state": {}
     },
     "950d571a2e354d1eb00befa31648ee14": {
      "model_module": "@jupyter-widgets/base",
      "model_module_version": "1.2.0",
      "model_name": "LayoutModel",
      "state": {}
     },
     "951f5f290b404a169bedf989fdfbd60d": {
      "model_module": "@jupyter-widgets/controls",
      "model_module_version": "1.5.0",
      "model_name": "HBoxModel",
      "state": {
       "children": [
        "IPY_MODEL_a0fd3a6b274f4cc6a4230ddb240c10bb",
        "IPY_MODEL_d78423bd0cce4bf3a077c7664ea7f73a",
        "IPY_MODEL_875e8355c7184f4aa0e977c4eed0e97d",
        "IPY_MODEL_7a9c9c00857f44f597ec1c248946c661"
       ],
       "layout": "IPY_MODEL_7f5f5ec8630f451183caad0b5693e14f"
      }
     },
     "95226ffc547e4f86ac3adf0ba09b39a7": {
      "model_module": "@jupyter-widgets/controls",
      "model_module_version": "1.5.0",
      "model_name": "SliderStyleModel",
      "state": {
       "description_width": ""
      }
     },
     "9566ff01033248a6a5b6da70f61363d8": {
      "model_module": "@jupyter-widgets/controls",
      "model_module_version": "1.5.0",
      "model_name": "ButtonModel",
      "state": {
       "description": "Save Figure",
       "layout": "IPY_MODEL_72b9a5e94be64472b29906a72f86fd47",
       "style": "IPY_MODEL_15fb514abb8d4e9caf72b6de573afe6e"
      }
     },
     "9590ed9260ba4463920afcdc51ccc2c9": {
      "model_module": "@jupyter-widgets/controls",
      "model_module_version": "1.5.0",
      "model_name": "SliderStyleModel",
      "state": {
       "description_width": ""
      }
     },
     "95bcac1ffa584b4f8d918d878657676c": {
      "model_module": "@jupyter-widgets/base",
      "model_module_version": "1.2.0",
      "model_name": "LayoutModel",
      "state": {}
     },
     "95cc43b625bd48b6af901292b53e1c19": {
      "model_module": "jupyter-matplotlib",
      "model_module_version": "^0.7.2",
      "model_name": "ToolbarModel",
      "state": {
       "layout": "IPY_MODEL_121e51d0d0fb461bb9dfebb05a666a40",
       "toolitems": [
        [
         "Home",
         "Reset original view",
         "home",
         "home"
        ],
        [
         "Back",
         "Back to previous view",
         "arrow-left",
         "back"
        ],
        [
         "Forward",
         "Forward to next view",
         "arrow-right",
         "forward"
        ],
        [
         "Pan",
         "Pan axes with left mouse, zoom with right",
         "arrows",
         "pan"
        ],
        [
         "Zoom",
         "Zoom to rectangle",
         "square-o",
         "zoom"
        ],
        [
         "Download",
         "Download plot",
         "floppy-o",
         "save_figure"
        ]
       ]
      }
     },
     "95d1dabf6a7d405bb47ec2eb1faae921": {
      "model_module": "@jupyter-widgets/base",
      "model_module_version": "1.2.0",
      "model_name": "LayoutModel",
      "state": {}
     },
     "95faf25267304f128f19d5a877fc3dc7": {
      "model_module": "@jupyter-widgets/base",
      "model_module_version": "1.2.0",
      "model_name": "LayoutModel",
      "state": {}
     },
     "961f64b175d746338baf0d18746c9836": {
      "model_module": "@jupyter-widgets/controls",
      "model_module_version": "1.5.0",
      "model_name": "ButtonStyleModel",
      "state": {}
     },
     "96254508e5384a3c9153c4694af658dd": {
      "model_module": "@jupyter-widgets/controls",
      "model_module_version": "1.5.0",
      "model_name": "ButtonStyleModel",
      "state": {}
     },
     "962c0e5d1f7c4e2ebd3a502e24e0163e": {
      "model_module": "jupyter-matplotlib",
      "model_module_version": "^0.7.2",
      "model_name": "ToolbarModel",
      "state": {
       "layout": "IPY_MODEL_835fbae47b424004b2ea53bc5025d481",
       "toolitems": [
        [
         "Home",
         "Reset original view",
         "home",
         "home"
        ],
        [
         "Back",
         "Back to previous view",
         "arrow-left",
         "back"
        ],
        [
         "Forward",
         "Forward to next view",
         "arrow-right",
         "forward"
        ],
        [
         "Pan",
         "Pan axes with left mouse, zoom with right",
         "arrows",
         "pan"
        ],
        [
         "Zoom",
         "Zoom to rectangle",
         "square-o",
         "zoom"
        ],
        [
         "Download",
         "Download plot",
         "floppy-o",
         "save_figure"
        ]
       ]
      }
     },
     "963bb772b367464ab6ea63d87c2f566e": {
      "model_module": "@jupyter-widgets/controls",
      "model_module_version": "1.5.0",
      "model_name": "ButtonModel",
      "state": {
       "description": "Save Figure",
       "layout": "IPY_MODEL_6bb32f17de2e42d0bbb1599f5e251d04",
       "style": "IPY_MODEL_50a007f5607149f0a50ecdd853b4b311"
      }
     },
     "963bc3221f044c1ca16fd3776d184334": {
      "model_module": "@jupyter-widgets/controls",
      "model_module_version": "1.5.0",
      "model_name": "SliderStyleModel",
      "state": {
       "description_width": ""
      }
     },
     "96644365dea1471f90f02ec070c8b411": {
      "model_module": "@jupyter-widgets/base",
      "model_module_version": "1.2.0",
      "model_name": "LayoutModel",
      "state": {}
     },
     "9666290fdacc4d36ab515c2d70f9474b": {
      "model_module": "@jupyter-widgets/controls",
      "model_module_version": "1.5.0",
      "model_name": "DescriptionStyleModel",
      "state": {
       "description_width": ""
      }
     },
     "968259233cb44fd0a11dbe45c18251b6": {
      "model_module": "@jupyter-widgets/base",
      "model_module_version": "1.2.0",
      "model_name": "LayoutModel",
      "state": {}
     },
     "96b4d1475c234d0886187ba90405de27": {
      "model_module": "@jupyter-widgets/controls",
      "model_module_version": "1.5.0",
      "model_name": "DescriptionStyleModel",
      "state": {
       "description_width": ""
      }
     },
     "96c53fa690b54ac491e144169b92cee7": {
      "model_module": "@jupyter-widgets/base",
      "model_module_version": "1.2.0",
      "model_name": "LayoutModel",
      "state": {}
     },
     "96d7323ba0884465b3025d3ac4a61440": {
      "model_module": "@jupyter-widgets/controls",
      "model_module_version": "1.5.0",
      "model_name": "FloatSliderModel",
      "state": {
       "description": "Compression Threshold",
       "layout": "IPY_MODEL_46563d819de54b20b63c8afa0e29998f",
       "max": 1,
       "step": 0.01,
       "style": "IPY_MODEL_98b28a2897e34ce2bb52d256003843e8",
       "value": 0.5
      }
     },
     "96dc917b310a401cb8a960802426b3be": {
      "model_module": "@jupyter-widgets/controls",
      "model_module_version": "1.5.0",
      "model_name": "SliderStyleModel",
      "state": {
       "description_width": ""
      }
     },
     "96f0d177940746238fd495313a80224f": {
      "model_module": "@jupyter-widgets/base",
      "model_module_version": "1.2.0",
      "model_name": "LayoutModel",
      "state": {}
     },
     "9727e9e4a05840ce82ee880ea44ac055": {
      "model_module": "@jupyter-widgets/controls",
      "model_module_version": "1.5.0",
      "model_name": "CheckboxModel",
      "state": {
       "description": "Disable Medicina",
       "disabled": false,
       "layout": "IPY_MODEL_5eb3b60121024fb49c58acef443b4b0c",
       "style": "IPY_MODEL_a61746b254744aca8765c6847540378d",
       "value": false
      }
     },
     "97377548e8254b9db799ed6439a24907": {
      "model_module": "@jupyter-widgets/controls",
      "model_module_version": "1.5.0",
      "model_name": "FloatSliderModel",
      "state": {
       "description": "315°",
       "layout": "IPY_MODEL_9c107a143b154355af995b714cac1631",
       "max": 1,
       "min": -1,
       "step": 0.01,
       "style": "IPY_MODEL_f238b99faa4f442b844e2622af693a46"
      }
     },
     "979939816de84dad98597b2416fe00a7": {
      "model_module": "@jupyter-widgets/controls",
      "model_module_version": "1.5.0",
      "model_name": "FloatSliderModel",
      "state": {
       "description": "Protected Area Threshold",
       "layout": "IPY_MODEL_32270afd826143dfb16d70d4f0c02e0b",
       "max": 1,
       "step": 0.01,
       "style": "IPY_MODEL_2be6c0f29f2b4ef9813876f3e6e57a7b",
       "value": 0.7
      }
     },
     "97bb392f79a5484bb3dd35c807edb4ec": {
      "model_module": "@jupyter-widgets/controls",
      "model_module_version": "1.5.0",
      "model_name": "SliderStyleModel",
      "state": {
       "description_width": ""
      }
     },
     "97dbe1c0ee1c4ebbbe489ccfe1d47e37": {
      "model_module": "@jupyter-widgets/base",
      "model_module_version": "1.2.0",
      "model_name": "LayoutModel",
      "state": {}
     },
     "97ea78f4141b4b009bad334ddba6fe11": {
      "model_module": "@jupyter-widgets/controls",
      "model_module_version": "1.5.0",
      "model_name": "ButtonModel",
      "state": {
       "description": "Save Figure",
       "layout": "IPY_MODEL_48db2871a03d4e6db98ad58dfe3e8fcd",
       "style": "IPY_MODEL_23b135973c3b4f5680ed5dfd608cd987"
      }
     },
     "9814ad8c495c44e095f6559e8fd8762c": {
      "model_module": "@jupyter-widgets/base",
      "model_module_version": "1.2.0",
      "model_name": "LayoutModel",
      "state": {}
     },
     "9824ea6bbb174e9eb1f4daddf1596d61": {
      "model_module": "@jupyter-widgets/controls",
      "model_module_version": "1.5.0",
      "model_name": "DropdownModel",
      "state": {
       "_options_labels": [
        "tanh",
        "simple"
       ],
       "description": "Compression Function:",
       "index": 0,
       "layout": "IPY_MODEL_175461422d3f49e58d6e691b09538ad4",
       "style": "IPY_MODEL_ae0791584c4d4519a9eca377659ac056"
      }
     },
     "9832614745774b33a90f24ebb778921b": {
      "model_module": "@jupyter-widgets/controls",
      "model_module_version": "1.5.0",
      "model_name": "ButtonModel",
      "state": {
       "description": "Reset Saturation Controls",
       "layout": "IPY_MODEL_85f4d52b7db7450da5957032fa9df975",
       "style": "IPY_MODEL_5d06f228669840689cf80f06463f1d87"
      }
     },
     "988047df81b94b30b52fadbd8fb4d994": {
      "model_module": "@jupyter-widgets/controls",
      "model_module_version": "1.5.0",
      "model_name": "FloatSliderModel",
      "state": {
       "description": "180°",
       "layout": "IPY_MODEL_89e5ddb1e4f949fabf92fb90595e5006",
       "max": 1,
       "min": -1,
       "step": 0.01,
       "style": "IPY_MODEL_4f77d61c3166429d9de01ea66af4de47"
      }
     },
     "989c3e9875d4419f8b33f6c9912b9b36": {
      "model_module": "@jupyter-widgets/controls",
      "model_module_version": "1.5.0",
      "model_name": "TabModel",
      "state": {
       "_titles": {
        "0": "Global Controls",
        "1": "Protected Area Controls",
        "2": "Saturation Controls",
        "3": "Hue Controls"
       },
       "children": [
        "IPY_MODEL_5d98e262103146c698a6cb5d72598c78",
        "IPY_MODEL_afe9ab8bbbaa4258be3c61465ada5a2f",
        "IPY_MODEL_34d52550f6134ea78240c9ae7f9dcf25",
        "IPY_MODEL_d84c77488b09432f9b63e8e50eee85b4"
       ],
       "layout": "IPY_MODEL_699deb5dc84a4af2a6dfbfc4a178b72f"
      }
     },
     "98a216cf6cef4251b8b9fd4a27d5b26b": {
      "model_module": "@jupyter-widgets/base",
      "model_module_version": "1.2.0",
      "model_name": "LayoutModel",
      "state": {}
     },
     "98a6e3c222c348779c9f26004bab7bbb": {
      "model_module": "@jupyter-widgets/base",
      "model_module_version": "1.2.0",
      "model_name": "LayoutModel",
      "state": {}
     },
     "98b28a2897e34ce2bb52d256003843e8": {
      "model_module": "@jupyter-widgets/controls",
      "model_module_version": "1.5.0",
      "model_name": "SliderStyleModel",
      "state": {
       "description_width": ""
      }
     },
     "98ee329c2e5142a3b37ac714846010aa": {
      "model_module": "@jupyter-widgets/base",
      "model_module_version": "1.2.0",
      "model_name": "LayoutModel",
      "state": {}
     },
     "992f0b768b8341529adf4b749a77917a": {
      "model_module": "@jupyter-widgets/controls",
      "model_module_version": "1.5.0",
      "model_name": "SliderStyleModel",
      "state": {
       "description_width": ""
      }
     },
     "993695a61dc64fc7a39c8f92130eaeb9": {
      "model_module": "@jupyter-widgets/controls",
      "model_module_version": "1.5.0",
      "model_name": "ButtonModel",
      "state": {
       "description": "Save Figure",
       "layout": "IPY_MODEL_a3351cb60cb049469815b40e86a2b2ed",
       "style": "IPY_MODEL_5d59971dd1ec426b80e5a5c0b91fa4ce"
      }
     },
     "9939fa0dddc94b36a7d933868c719e4c": {
      "model_module": "@jupyter-widgets/controls",
      "model_module_version": "1.5.0",
      "model_name": "SliderStyleModel",
      "state": {
       "description_width": ""
      }
     },
     "994e100640844ae7b88b6531adf38250": {
      "model_module": "@jupyter-widgets/controls",
      "model_module_version": "1.5.0",
      "model_name": "FloatSliderModel",
      "state": {
       "description": "Exposure",
       "layout": "IPY_MODEL_1d2c4936b6b148b08c4c878e7657fb15",
       "max": 8,
       "min": -8,
       "step": 0.1,
       "style": "IPY_MODEL_78d812913bf8440e8c383e481b05efcd"
      }
     },
     "995170412c53423ca6f084f93fccb38b": {
      "model_module": "@jupyter-widgets/controls",
      "model_module_version": "1.5.0",
      "model_name": "DescriptionStyleModel",
      "state": {
       "description_width": ""
      }
     },
     "998c67d6d01b44818ff5a80225243de0": {
      "model_module": "@jupyter-widgets/controls",
      "model_module_version": "1.5.0",
      "model_name": "DescriptionStyleModel",
      "state": {
       "description_width": ""
      }
     },
     "99c71e61bfaf4cb5a8ec2ffd5f1f5e20": {
      "model_module": "@jupyter-widgets/controls",
      "model_module_version": "1.5.0",
      "model_name": "SliderStyleModel",
      "state": {
       "description_width": ""
      }
     },
     "99fe5a15a450451f9d4616ea5094a4b5": {
      "model_module": "@jupyter-widgets/base",
      "model_module_version": "1.2.0",
      "model_name": "LayoutModel",
      "state": {}
     },
     "9a73a4f7d2dc42a39e7aff4486faedf4": {
      "model_module": "@jupyter-widgets/base",
      "model_module_version": "1.2.0",
      "model_name": "LayoutModel",
      "state": {}
     },
     "9a88ee63a74c46dc98f9ae70b6f701b3": {
      "model_module": "@jupyter-widgets/controls",
      "model_module_version": "1.5.0",
      "model_name": "VBoxModel",
      "state": {
       "children": [
        "IPY_MODEL_1e7b5993c76f4f62a14b78043cc38e26",
        "IPY_MODEL_fca1e6778e284c2aa7c63f162f8452be"
       ],
       "layout": "IPY_MODEL_dfe6427ec00748a2a96515915d3bcb3e"
      }
     },
     "9affeeeec95c4ae1a1734a0a5250b573": {
      "model_module": "@jupyter-widgets/base",
      "model_module_version": "1.2.0",
      "model_name": "LayoutModel",
      "state": {
       "border": "solid 4px #222",
       "margin": "4px",
       "padding": "0"
      }
     },
     "9b2f1fdd78654b15bcc17d2992ece5c5": {
      "model_module": "@jupyter-widgets/controls",
      "model_module_version": "1.5.0",
      "model_name": "FloatSliderModel",
      "state": {
       "description": "Compression Threshold",
       "layout": "IPY_MODEL_c19dd5e22dec40fba2a0751a4bfa404c",
       "max": 1,
       "step": 0.01,
       "style": "IPY_MODEL_fe1d11ce83454c688a4c51b3116bbb72",
       "value": 0.5
      }
     },
     "9b7f88d88b054a31878fb339d9c33d59": {
      "model_module": "@jupyter-widgets/controls",
      "model_module_version": "1.5.0",
      "model_name": "ButtonModel",
      "state": {
       "description": "Save Figure",
       "layout": "IPY_MODEL_cb428c23e1104b8f9bda3f40b3df1550",
       "style": "IPY_MODEL_d0b08e9fa6fa4ebb9733532c4671664a"
      }
     },
     "9b93a9b2064b4340ac54ce19aa5a3ec4": {
      "model_module": "@jupyter-widgets/base",
      "model_module_version": "1.2.0",
      "model_name": "LayoutModel",
      "state": {}
     },
     "9bbaf53eedf74b1dba46dff828d4d4ee": {
      "model_module": "jupyter-matplotlib",
      "model_module_version": "^0.7.2",
      "model_name": "ToolbarModel",
      "state": {
       "layout": "IPY_MODEL_cdfd5b13d24d40019fa0815afb493798",
       "toolitems": [
        [
         "Home",
         "Reset original view",
         "home",
         "home"
        ],
        [
         "Back",
         "Back to previous view",
         "arrow-left",
         "back"
        ],
        [
         "Forward",
         "Forward to next view",
         "arrow-right",
         "forward"
        ],
        [
         "Pan",
         "Pan axes with left mouse, zoom with right",
         "arrows",
         "pan"
        ],
        [
         "Zoom",
         "Zoom to rectangle",
         "square-o",
         "zoom"
        ],
        [
         "Download",
         "Download plot",
         "floppy-o",
         "save_figure"
        ]
       ]
      }
     },
     "9bf5af7a743b42fc96f2db741bd0d284": {
      "model_module": "@jupyter-widgets/controls",
      "model_module_version": "1.5.0",
      "model_name": "ButtonStyleModel",
      "state": {}
     },
     "9c04f225cafc418e948f3e2939cea92d": {
      "model_module": "@jupyter-widgets/base",
      "model_module_version": "1.2.0",
      "model_name": "LayoutModel",
      "state": {}
     },
     "9c107a143b154355af995b714cac1631": {
      "model_module": "@jupyter-widgets/base",
      "model_module_version": "1.2.0",
      "model_name": "LayoutModel",
      "state": {}
     },
     "9c259341615448659c708a552c1116bf": {
      "model_module": "@jupyter-widgets/controls",
      "model_module_version": "1.5.0",
      "model_name": "HBoxModel",
      "state": {
       "children": [
        "IPY_MODEL_c6f67e0275a34a5ea6f2892d0a9b209a",
        "IPY_MODEL_dbd5cf32d2e6493994a4dce0018b6b96",
        "IPY_MODEL_8c18b6cb105c4795a77de4ded3f5c2a4",
        "IPY_MODEL_1b5fc5ba165244b0bd978e29bd000155"
       ],
       "layout": "IPY_MODEL_e6611d83c9614e8d9a63c35d312ba9ec"
      }
     },
     "9c33b5b5c71642719ffd84a9ea0d236f": {
      "model_module": "@jupyter-widgets/base",
      "model_module_version": "1.2.0",
      "model_name": "LayoutModel",
      "state": {}
     },
     "9cc7a0d802e347d4a952b6c40263ec81": {
      "model_module": "@jupyter-widgets/base",
      "model_module_version": "1.2.0",
      "model_name": "LayoutModel",
      "state": {}
     },
     "9cf00cedecea4dcc8ec4b59e50f9eff6": {
      "model_module": "@jupyter-widgets/base",
      "model_module_version": "1.2.0",
      "model_name": "LayoutModel",
      "state": {}
     },
     "9d031bf7912148cb8c4e1cb872360e56": {
      "model_module": "@jupyter-widgets/controls",
      "model_module_version": "1.5.0",
      "model_name": "HBoxModel",
      "state": {
       "children": [
        "IPY_MODEL_2ee3113d45504693b9051eccb335c1b4",
        "IPY_MODEL_f9d565b8d592417cada795fbb00bc836"
       ],
       "layout": "IPY_MODEL_2615fcf7e67f48ceae47f53469f898cc"
      }
     },
     "9d43e3448d63414ebbaea968555439d3": {
      "model_module": "@jupyter-widgets/base",
      "model_module_version": "1.2.0",
      "model_name": "LayoutModel",
      "state": {}
     },
     "9d528eb783b841edad0b6a0100b86beb": {
      "model_module": "@jupyter-widgets/controls",
      "model_module_version": "1.5.0",
      "model_name": "FloatSliderModel",
      "state": {
       "description": "225°",
       "layout": "IPY_MODEL_17efc26b55e247ea929bff1f011d2754",
       "max": 1,
       "min": -1,
       "step": 0.01,
       "style": "IPY_MODEL_6c879a8f11874068acde92b0dc17bbe7"
      }
     },
     "9d791ad2dcdb4026bd3a93fb322dd3a8": {
      "model_module": "@jupyter-widgets/controls",
      "model_module_version": "1.5.0",
      "model_name": "FloatSliderModel",
      "state": {
       "description": "Compression Threshold",
       "layout": "IPY_MODEL_1234f2b8762c46d09b87448ee10a7bf2",
       "max": 1,
       "step": 0.01,
       "style": "IPY_MODEL_336334f578054c04b05c5f1fea4c4dfa",
       "value": 0.8
      }
     },
     "9df50742fa8c419ea974b4dbac9f8c1c": {
      "model_module": "@jupyter-widgets/controls",
      "model_module_version": "1.5.0",
      "model_name": "ButtonStyleModel",
      "state": {}
     },
     "9df8fcb02fdb4758a6456b22843dc151": {
      "model_module": "@jupyter-widgets/base",
      "model_module_version": "1.2.0",
      "model_name": "LayoutModel",
      "state": {}
     },
     "9e172e7ae1a14f879b84f13d72d5f34c": {
      "model_module": "@jupyter-widgets/controls",
      "model_module_version": "1.5.0",
      "model_name": "ButtonModel",
      "state": {
       "description": "Export Image",
       "layout": "IPY_MODEL_09df0dd5cdb441549bdb56160ebce9f2",
       "style": "IPY_MODEL_db86908afbee46e2bea26a298fc4537b"
      }
     },
     "9eaf9ec2209841c1a8952e99b509b96a": {
      "model_module": "@jupyter-widgets/base",
      "model_module_version": "1.2.0",
      "model_name": "LayoutModel",
      "state": {}
     },
     "9eb93744d3674341af65a9b6334f2dc8": {
      "model_module": "@jupyter-widgets/controls",
      "model_module_version": "1.5.0",
      "model_name": "TabModel",
      "state": {
       "_titles": {
        "0": "Global Controls",
        "1": "Protected Area Controls",
        "2": "Saturation Controls",
        "3": "Hue Controls"
       },
       "children": [
        "IPY_MODEL_21a5bcaa32594ba7ae330f67064e328c",
        "IPY_MODEL_fe2c4ac4e0344940bb0944c133c9237c",
        "IPY_MODEL_def7ff7b1d7a4bceb942faf48d13b064",
        "IPY_MODEL_1d1035f192754b868802d6b89beb2fff"
       ],
       "layout": "IPY_MODEL_c0e645c5d4ce40f2a399c3f4feec70da"
      }
     },
     "9ec52e8e49bc47c5ac5efe85bf56ccfe": {
      "model_module": "@jupyter-widgets/controls",
      "model_module_version": "1.5.0",
      "model_name": "HBoxModel",
      "state": {
       "children": [
        "IPY_MODEL_ee575720ff284187b6d864cc1458130a",
        "IPY_MODEL_068eafa685d642ff8d85362e2a106367",
        "IPY_MODEL_273e51be7fb64b269c0278c50ea1ba3d",
        "IPY_MODEL_9f4f6e7ef92e4e7d9dda2c8c67beb341"
       ],
       "layout": "IPY_MODEL_efc8bdae703b49199198021a5f3725cb"
      }
     },
     "9f4f6e7ef92e4e7d9dda2c8c67beb341": {
      "model_module": "@jupyter-widgets/controls",
      "model_module_version": "1.5.0",
      "model_name": "FloatSliderModel",
      "state": {
       "description": "Exposure",
       "layout": "IPY_MODEL_b5d24d61b06741f1a1fdbca2e2f2cb96",
       "max": 8,
       "min": -8,
       "step": 0.1,
       "style": "IPY_MODEL_c0fff0e6e5fe4786b605d281b7617931"
      }
     },
     "9f521534b92d4db7931df83058887891": {
      "model_module": "jupyter-matplotlib",
      "model_module_version": "^0.7.2",
      "model_name": "MPLCanvasModel",
      "state": {
       "_figure_label": "Figure 3",
       "_height": 396,
       "_width": 1100,
       "header_visible": false,
       "layout": "IPY_MODEL_e576be6ad1844228afbb1427a760ef26",
       "resizable": false,
       "toolbar": "IPY_MODEL_743f0d41d7464c7a94d7e46443c50a2d",
       "toolbar_position": "left",
       "toolbar_visible": false
      }
     },
     "9fbbe7b176924c0a8a57f8c27200d65b": {
      "model_module": "@jupyter-widgets/base",
      "model_module_version": "1.2.0",
      "model_name": "LayoutModel",
      "state": {}
     },
     "9ffb94b58d4c4cc6becc30d65f795e1e": {
      "model_module": "@jupyter-widgets/base",
      "model_module_version": "1.2.0",
      "model_name": "LayoutModel",
      "state": {}
     },
     "a0628c54faec43649c24f5232c11f272": {
      "model_module": "@jupyter-widgets/base",
      "model_module_version": "1.2.0",
      "model_name": "LayoutModel",
      "state": {
       "border": "solid 4px #222",
       "margin": "4px",
       "padding": "0"
      }
     },
     "a06b898730e24123a5ce576ae3724b28": {
      "model_module": "@jupyter-widgets/controls",
      "model_module_version": "1.5.0",
      "model_name": "ButtonStyleModel",
      "state": {}
     },
     "a07cc85f685043eaad623432633338ed": {
      "model_module": "@jupyter-widgets/controls",
      "model_module_version": "1.5.0",
      "model_name": "TabModel",
      "state": {
       "_titles": {
        "0": "Global Controls",
        "1": "Protected Area Controls",
        "2": "Saturation Controls",
        "3": "Hue Controls"
       },
       "children": [
        "IPY_MODEL_d1a5db67c48042aba91c94bb6d25c2db",
        "IPY_MODEL_faab7492aaa542c0a69e1bbbf1d8b3e2",
        "IPY_MODEL_6e47b1c40aa9467aa49042f9815eced2",
        "IPY_MODEL_fed3cf79b3694d8ba9702ffe62baeaca"
       ],
       "layout": "IPY_MODEL_f3932b3ff62e487ca7f80d705d6985f8"
      }
     },
     "a0d431b1f91d4cda85bb161c8575a343": {
      "model_module": "@jupyter-widgets/controls",
      "model_module_version": "1.5.0",
      "model_name": "ButtonModel",
      "state": {
       "description": "Export Image",
       "layout": "IPY_MODEL_66edab99f158470eaf8ba251e632d04d",
       "style": "IPY_MODEL_726b079c6d0a49bb8eabe8efb0974fb0"
      }
     },
     "a0fd3a6b274f4cc6a4230ddb240c10bb": {
      "model_module": "@jupyter-widgets/controls",
      "model_module_version": "1.5.0",
      "model_name": "CheckboxModel",
      "state": {
       "description": "Disable Medicina",
       "disabled": false,
       "layout": "IPY_MODEL_2b05a7fbf1884c84b8e6511005d53c63",
       "style": "IPY_MODEL_14d1d4464ded41c58a3213f3df479b8f",
       "value": false
      }
     },
     "a113c0805c8e48d597583e8b1607cedc": {
      "model_module": "@jupyter-widgets/base",
      "model_module_version": "1.2.0",
      "model_name": "LayoutModel",
      "state": {}
     },
     "a11a1095f8b74d00af87a7db5f767110": {
      "model_module": "@jupyter-widgets/controls",
      "model_module_version": "1.5.0",
      "model_name": "SliderStyleModel",
      "state": {
       "description_width": ""
      }
     },
     "a129b32d7aa54c5ebff0a9bc0be3638e": {
      "model_module": "@jupyter-widgets/controls",
      "model_module_version": "1.5.0",
      "model_name": "FloatSliderModel",
      "state": {
       "description": "Exposure",
       "layout": "IPY_MODEL_2fc592739e8a445e84e16e3e2eecfcbd",
       "max": 8,
       "min": -8,
       "step": 0.1,
       "style": "IPY_MODEL_4ad1fb38051b47e6ad51daae7cc6f9b8"
      }
     },
     "a154828da5154278b0a12399e05f6243": {
      "model_module": "@jupyter-widgets/base",
      "model_module_version": "1.2.0",
      "model_name": "LayoutModel",
      "state": {}
     },
     "a1b22125d6074453b93fca32970cb0ab": {
      "model_module": "@jupyter-widgets/controls",
      "model_module_version": "1.5.0",
      "model_name": "SliderStyleModel",
      "state": {
       "description_width": ""
      }
     },
     "a1b7add6d9da432fb934049edc7d8035": {
      "model_module": "jupyter-matplotlib",
      "model_module_version": "^0.7.2",
      "model_name": "ToolbarModel",
      "state": {
       "layout": "IPY_MODEL_0d195935959447ef9588fb4fa31d5a55",
       "toolitems": [
        [
         "Home",
         "Reset original view",
         "home",
         "home"
        ],
        [
         "Back",
         "Back to previous view",
         "arrow-left",
         "back"
        ],
        [
         "Forward",
         "Forward to next view",
         "arrow-right",
         "forward"
        ],
        [
         "Pan",
         "Pan axes with left mouse, zoom with right",
         "arrows",
         "pan"
        ],
        [
         "Zoom",
         "Zoom to rectangle",
         "square-o",
         "zoom"
        ],
        [
         "Download",
         "Download plot",
         "floppy-o",
         "save_figure"
        ]
       ]
      }
     },
     "a1c03e70589149458feb854d728e01cc": {
      "model_module": "@jupyter-widgets/controls",
      "model_module_version": "1.5.0",
      "model_name": "SliderStyleModel",
      "state": {
       "description_width": ""
      }
     },
     "a22a6ad4483e4606bb2b5800f860fd78": {
      "model_module": "@jupyter-widgets/controls",
      "model_module_version": "1.5.0",
      "model_name": "ButtonStyleModel",
      "state": {}
     },
     "a24f7a66f9004b9ba7c9cf89a24c003d": {
      "model_module": "@jupyter-widgets/controls",
      "model_module_version": "1.5.0",
      "model_name": "FloatSliderModel",
      "state": {
       "description": "180°",
       "layout": "IPY_MODEL_7b21f25be89e4803b176edc85bf05ec5",
       "max": 1,
       "min": -1,
       "step": 0.01,
       "style": "IPY_MODEL_ac9d9199c4834620aa7e03620de8aa77"
      }
     },
     "a257866e21be42108daaf8a5d1c0f000": {
      "model_module": "@jupyter-widgets/base",
      "model_module_version": "1.2.0",
      "model_name": "LayoutModel",
      "state": {}
     },
     "a2db5242c55a44709d98974848bc63b8": {
      "model_module": "@jupyter-widgets/base",
      "model_module_version": "1.2.0",
      "model_name": "LayoutModel",
      "state": {}
     },
     "a2dfeb997d254ac4859db967cab52134": {
      "model_module": "@jupyter-widgets/controls",
      "model_module_version": "1.5.0",
      "model_name": "CheckboxModel",
      "state": {
       "description": "Disable Medicina",
       "disabled": false,
       "layout": "IPY_MODEL_1f1d2e967a2d4118bc0e571364ebfa88",
       "style": "IPY_MODEL_2d9db514a57644dcbaa07c0d5ef66634",
       "value": false
      }
     },
     "a2f20134e2a84fcdb8e25fb8f1ea7c02": {
      "model_module": "@jupyter-widgets/controls",
      "model_module_version": "1.5.0",
      "model_name": "VBoxModel",
      "state": {
       "children": [
        "IPY_MODEL_df97a2d977e7488392e2a683e0385461",
        "IPY_MODEL_90170e963ee94b95bf324b025b13521b",
        "IPY_MODEL_fdc7065c02ac407eb877e6ffc9f0ac83"
       ],
       "layout": "IPY_MODEL_f2a6b9f9bdf3487ea7873191cbf8d91e"
      }
     },
     "a31442c6dbd943c698ceca3f0b976e55": {
      "model_module": "@jupyter-widgets/base",
      "model_module_version": "1.2.0",
      "model_name": "LayoutModel",
      "state": {}
     },
     "a329c5c12a8340b0bb389c432e169f36": {
      "model_module": "@jupyter-widgets/controls",
      "model_module_version": "1.5.0",
      "model_name": "ButtonModel",
      "state": {
       "description": "Save Figure",
       "layout": "IPY_MODEL_18ee06fcfae94e3e8b61ab011b364367",
       "style": "IPY_MODEL_109e22ba20774961ac7effc8dd218934"
      }
     },
     "a3351cb60cb049469815b40e86a2b2ed": {
      "model_module": "@jupyter-widgets/base",
      "model_module_version": "1.2.0",
      "model_name": "LayoutModel",
      "state": {}
     },
     "a35ac362032248f9a5624af19cc4b52c": {
      "model_module": "@jupyter-widgets/controls",
      "model_module_version": "1.5.0",
      "model_name": "SliderStyleModel",
      "state": {
       "description_width": ""
      }
     },
     "a3611d3a3c1c4aacaabc368d0406d05d": {
      "model_module": "@jupyter-widgets/controls",
      "model_module_version": "1.5.0",
      "model_name": "SliderStyleModel",
      "state": {
       "description_width": ""
      }
     },
     "a37dfea0ac8f476aa545e44650a1107d": {
      "model_module": "@jupyter-widgets/controls",
      "model_module_version": "1.5.0",
      "model_name": "SliderStyleModel",
      "state": {
       "description_width": ""
      }
     },
     "a3e81ba7a1594b48b390717a9ec8cff5": {
      "model_module": "@jupyter-widgets/base",
      "model_module_version": "1.2.0",
      "model_name": "LayoutModel",
      "state": {}
     },
     "a42e483f6597429aba3bddecfa31736d": {
      "model_module": "@jupyter-widgets/base",
      "model_module_version": "1.2.0",
      "model_name": "LayoutModel",
      "state": {}
     },
     "a46e84f61b1848dbaba19992c7301d71": {
      "model_module": "@jupyter-widgets/base",
      "model_module_version": "1.2.0",
      "model_name": "LayoutModel",
      "state": {}
     },
     "a4b4df4b12f04abda6986210265b1f72": {
      "model_module": "@jupyter-widgets/controls",
      "model_module_version": "1.5.0",
      "model_name": "ButtonStyleModel",
      "state": {}
     },
     "a4bee3f8ae874bf9aa56c273563df577": {
      "model_module": "@jupyter-widgets/base",
      "model_module_version": "1.2.0",
      "model_name": "LayoutModel",
      "state": {}
     },
     "a500eed870f14ec2914d0cde963272e3": {
      "model_module": "@jupyter-widgets/controls",
      "model_module_version": "1.5.0",
      "model_name": "FloatSliderModel",
      "state": {
       "description": "0°",
       "layout": "IPY_MODEL_7d7e798ee7f74194bfff26201de30225",
       "max": 1,
       "min": -1,
       "step": 0.01,
       "style": "IPY_MODEL_0b4bd34d8fc14791b5c20b1213e2b07d"
      }
     },
     "a5226d09daf4499585f3bebb4ea2d5d5": {
      "model_module": "@jupyter-widgets/base",
      "model_module_version": "1.2.0",
      "model_name": "LayoutModel",
      "state": {}
     },
     "a53e2e9b652640cda9fb36e4a231fe2d": {
      "model_module": "@jupyter-widgets/controls",
      "model_module_version": "1.5.0",
      "model_name": "ButtonStyleModel",
      "state": {}
     },
     "a58958f106774ba7a43fbef8424422ab": {
      "model_module": "@jupyter-widgets/base",
      "model_module_version": "1.2.0",
      "model_name": "LayoutModel",
      "state": {}
     },
     "a5abaf1858e44fd99fb0eca77bf59a45": {
      "model_module": "@jupyter-widgets/controls",
      "model_module_version": "1.5.0",
      "model_name": "HBoxModel",
      "state": {
       "children": [
        "IPY_MODEL_fd275ad0805846f0adba60cbaf417f1d",
        "IPY_MODEL_901827e026df497d8d409f769ef27a28",
        "IPY_MODEL_76185a13f5ca414bbe285cfd973c36b3"
       ],
       "layout": "IPY_MODEL_6e4392547c794370b02f8c852b1033fa"
      }
     },
     "a6046a195ebc438eaf0fcc6ead76670f": {
      "model_module": "@jupyter-widgets/base",
      "model_module_version": "1.2.0",
      "model_name": "LayoutModel",
      "state": {}
     },
     "a60899585c25459fa274d066de1a310e": {
      "model_module": "@jupyter-widgets/controls",
      "model_module_version": "1.5.0",
      "model_name": "CheckboxModel",
      "state": {
       "description": "Disable Medicina",
       "disabled": false,
       "layout": "IPY_MODEL_a46e84f61b1848dbaba19992c7301d71",
       "style": "IPY_MODEL_bfd5fe74579949dfa4af5b19db68c45a",
       "value": false
      }
     },
     "a61746b254744aca8765c6847540378d": {
      "model_module": "@jupyter-widgets/controls",
      "model_module_version": "1.5.0",
      "model_name": "DescriptionStyleModel",
      "state": {
       "description_width": ""
      }
     },
     "a659a4477a0f489b94714fc0b59c2432": {
      "model_module": "@jupyter-widgets/controls",
      "model_module_version": "1.5.0",
      "model_name": "TabModel",
      "state": {
       "_titles": {
        "0": "Global Controls",
        "1": "Protected Area Controls",
        "2": "Saturation Controls",
        "3": "Hue Controls"
       },
       "children": [
        "IPY_MODEL_9c259341615448659c708a552c1116bf",
        "IPY_MODEL_6ce5d14cc0ef43548dd11f0cdde8a470",
        "IPY_MODEL_545eaf7cd6cf4fd096ef109a84bce06e",
        "IPY_MODEL_70d935e0f50244f89a0a469bafda4b97"
       ],
       "layout": "IPY_MODEL_25116abd7a0948118c6518fdc001f40e"
      }
     },
     "a6641d38084f401bb4ab8c5799323925": {
      "model_module": "@jupyter-widgets/base",
      "model_module_version": "1.2.0",
      "model_name": "LayoutModel",
      "state": {}
     },
     "a683e48fd5844fdb8341a5824c21a012": {
      "model_module": "@jupyter-widgets/controls",
      "model_module_version": "1.5.0",
      "model_name": "FloatSliderModel",
      "state": {
       "description": "180°",
       "layout": "IPY_MODEL_a75ae2630a38431eb46ab61e8b91c791",
       "max": 1,
       "min": -1,
       "step": 0.01,
       "style": "IPY_MODEL_24c30e0ef7274b97968e44fa5d3addfd"
      }
     },
     "a685f88add4645ff935ebd10cf77f3ab": {
      "model_module": "@jupyter-widgets/base",
      "model_module_version": "1.2.0",
      "model_name": "LayoutModel",
      "state": {}
     },
     "a690d954c8ce421e927df45bf4b46600": {
      "model_module": "jupyter-matplotlib",
      "model_module_version": "^0.7.2",
      "model_name": "MPLCanvasModel",
      "state": {
       "_figure_label": "Figure 24",
       "_height": 550,
       "_width": 1100,
       "header_visible": false,
       "layout": "IPY_MODEL_f94a1cf51a7d4eb7925a28c812e540e1",
       "resizable": false,
       "toolbar": "IPY_MODEL_befb209de87040f3a49c9d4a647617b7",
       "toolbar_position": "left",
       "toolbar_visible": false
      }
     },
     "a6adb94a5a58485b91c27206c5afd102": {
      "model_module": "@jupyter-widgets/base",
      "model_module_version": "1.2.0",
      "model_name": "LayoutModel",
      "state": {}
     },
     "a6fd0f64f02047898fe74aadb2d50b87": {
      "model_module": "@jupyter-widgets/base",
      "model_module_version": "1.2.0",
      "model_name": "LayoutModel",
      "state": {}
     },
     "a7532e6b937a4519af8a94bdb1455f18": {
      "model_module": "@jupyter-widgets/controls",
      "model_module_version": "1.5.0",
      "model_name": "SliderStyleModel",
      "state": {
       "description_width": ""
      }
     },
     "a75ae2630a38431eb46ab61e8b91c791": {
      "model_module": "@jupyter-widgets/base",
      "model_module_version": "1.2.0",
      "model_name": "LayoutModel",
      "state": {}
     },
     "a7a8bebdc85847928317ab0072b70ada": {
      "model_module": "@jupyter-widgets/base",
      "model_module_version": "1.2.0",
      "model_name": "LayoutModel",
      "state": {}
     },
     "a7d5af8eeb7040d996926c5e4bb74025": {
      "model_module": "@jupyter-widgets/base",
      "model_module_version": "1.2.0",
      "model_name": "LayoutModel",
      "state": {}
     },
     "a84e566bd8ec4e09a99fdd814303b620": {
      "model_module": "@jupyter-widgets/base",
      "model_module_version": "1.2.0",
      "model_name": "LayoutModel",
      "state": {}
     },
     "a88ac64dfb4a48258272bf3ce644b5b2": {
      "model_module": "@jupyter-widgets/controls",
      "model_module_version": "1.5.0",
      "model_name": "FloatSliderModel",
      "state": {
       "description": "Exposure",
       "layout": "IPY_MODEL_5585263044904175a252e9cd5b8a7244",
       "max": 8,
       "min": -8,
       "step": 0.1,
       "style": "IPY_MODEL_3964cd8c71014246b40141a9f9d85d75"
      }
     },
     "a8a3f23dcd27459bb80090df15ba42fe": {
      "model_module": "@jupyter-widgets/controls",
      "model_module_version": "1.5.0",
      "model_name": "DescriptionStyleModel",
      "state": {
       "description_width": ""
      }
     },
     "a8afe4b95d174e8f80dc4f3d5536cf15": {
      "model_module": "@jupyter-widgets/base",
      "model_module_version": "1.2.0",
      "model_name": "LayoutModel",
      "state": {}
     },
     "a8ea9eaf08324da9998ac03a5b1998ce": {
      "model_module": "@jupyter-widgets/controls",
      "model_module_version": "1.5.0",
      "model_name": "DescriptionStyleModel",
      "state": {
       "description_width": ""
      }
     },
     "a9925d85b15646e6b6c6b0ef8caff4ac": {
      "model_module": "@jupyter-widgets/controls",
      "model_module_version": "1.5.0",
      "model_name": "HBoxModel",
      "state": {
       "children": [
        "IPY_MODEL_3bef1ad7d0d7455b9c6202f67bfe462c",
        "IPY_MODEL_12740ef5a3084f278407dba60335d676",
        "IPY_MODEL_3ef6d43d619e4681a55611913ac75f79",
        "IPY_MODEL_c95b289719084a248cc7dd2a2071c91b"
       ],
       "layout": "IPY_MODEL_0477975b92ab4926bb64a87520313006"
      }
     },
     "aa400b9ef25e4c90bcf5e8794c40ce30": {
      "model_module": "@jupyter-widgets/base",
      "model_module_version": "1.2.0",
      "model_name": "LayoutModel",
      "state": {}
     },
     "aaa77dd1422048308b8cbd471ef05375": {
      "model_module": "@jupyter-widgets/base",
      "model_module_version": "1.2.0",
      "model_name": "LayoutModel",
      "state": {}
     },
     "ab106898d8dd4fc4a78a86a46c5a87da": {
      "model_module": "@jupyter-widgets/controls",
      "model_module_version": "1.5.0",
      "model_name": "SliderStyleModel",
      "state": {
       "description_width": ""
      }
     },
     "ab53aff5ca014614ba9a29b7da17fbd5": {
      "model_module": "@jupyter-widgets/base",
      "model_module_version": "1.2.0",
      "model_name": "LayoutModel",
      "state": {}
     },
     "ab5e6d2f4bc1491081bd28bd27b48f1f": {
      "model_module": "@jupyter-widgets/controls",
      "model_module_version": "1.5.0",
      "model_name": "ButtonModel",
      "state": {
       "description": "Reset Hue Controls",
       "layout": "IPY_MODEL_1759e94ec28343f4a4310fca1c362bea",
       "style": "IPY_MODEL_55aa584dabdc4b67885cf66aad409703"
      }
     },
     "ab601aab761449db85b2001fcb5ce25e": {
      "model_module": "@jupyter-widgets/controls",
      "model_module_version": "1.5.0",
      "model_name": "ButtonModel",
      "state": {
       "description": "Reset Saturation Controls",
       "layout": "IPY_MODEL_672688c5c29c4a93b50e0af5e5fb07be",
       "style": "IPY_MODEL_e45af82534a048ffbcf12142d7bf87d9"
      }
     },
     "ab83b3d93e8e4666968c94adfd09d6b4": {
      "model_module": "@jupyter-widgets/base",
      "model_module_version": "1.2.0",
      "model_name": "LayoutModel",
      "state": {}
     },
     "ab9a530669af446ea0c43ee24061a060": {
      "model_module": "@jupyter-widgets/base",
      "model_module_version": "1.2.0",
      "model_name": "LayoutModel",
      "state": {}
     },
     "abd29b58b6264f059923ca6b22502a2e": {
      "model_module": "@jupyter-widgets/controls",
      "model_module_version": "1.5.0",
      "model_name": "FloatSliderModel",
      "state": {
       "description": "Compression Threshold",
       "layout": "IPY_MODEL_7dd224cccef348a5926f530109411bf3",
       "max": 1,
       "step": 0.01,
       "style": "IPY_MODEL_f212254a16d84369b07b00f95b4d47b1",
       "value": 0.5
      }
     },
     "abf77627ef184152ad603f3894a43dc8": {
      "model_module": "@jupyter-widgets/base",
      "model_module_version": "1.2.0",
      "model_name": "LayoutModel",
      "state": {}
     },
     "ac35840c29ed4875ad3b4b424f48c0d8": {
      "model_module": "@jupyter-widgets/controls",
      "model_module_version": "1.5.0",
      "model_name": "VBoxModel",
      "state": {
       "children": [
        "IPY_MODEL_45577bf0d1d74f4ba3401a6852dd57d5",
        "IPY_MODEL_a24f7a66f9004b9ba7c9cf89a24c003d",
        "IPY_MODEL_01d0d8b311de412889598e62e6562496"
       ],
       "layout": "IPY_MODEL_d22066f13a694b8abe001c73d103bdf5"
      }
     },
     "ac72da1008514829963305f96bdf4a01": {
      "model_module": "@jupyter-widgets/base",
      "model_module_version": "1.2.0",
      "model_name": "LayoutModel",
      "state": {}
     },
     "ac9d9199c4834620aa7e03620de8aa77": {
      "model_module": "@jupyter-widgets/controls",
      "model_module_version": "1.5.0",
      "model_name": "SliderStyleModel",
      "state": {
       "description_width": ""
      }
     },
     "acbb37f9aefb4a3aa8d9955949522006": {
      "model_module": "@jupyter-widgets/controls",
      "model_module_version": "1.5.0",
      "model_name": "SliderStyleModel",
      "state": {
       "description_width": ""
      }
     },
     "ace4005c1ed648108b140c33cec37683": {
      "model_module": "@jupyter-widgets/base",
      "model_module_version": "1.2.0",
      "model_name": "LayoutModel",
      "state": {}
     },
     "ad13139e34f4433d8213071011e10075": {
      "model_module": "@jupyter-widgets/base",
      "model_module_version": "1.2.0",
      "model_name": "LayoutModel",
      "state": {}
     },
     "ad8cbed96bab449b85191482da8d6758": {
      "model_module": "@jupyter-widgets/controls",
      "model_module_version": "1.5.0",
      "model_name": "HBoxModel",
      "state": {
       "children": [
        "IPY_MODEL_1e26246ef8274251a1c2ba7892228fa2",
        "IPY_MODEL_cb4037c30b7f4646a24f8b23ca9e7468",
        "IPY_MODEL_3e1fda712f68436b961813d412357760",
        "IPY_MODEL_c257347e278845309341ba682c464122"
       ],
       "layout": "IPY_MODEL_fd40af05021f407893ffc0c454d0fb7c"
      }
     },
     "ad981b0085954c53ae8afdabe821e9bf": {
      "model_module": "@jupyter-widgets/base",
      "model_module_version": "1.2.0",
      "model_name": "LayoutModel",
      "state": {}
     },
     "ae0791584c4d4519a9eca377659ac056": {
      "model_module": "@jupyter-widgets/controls",
      "model_module_version": "1.5.0",
      "model_name": "DescriptionStyleModel",
      "state": {
       "description_width": ""
      }
     },
     "ae20d18602a94e0eabf2a4e0c096b62d": {
      "model_module": "@jupyter-widgets/controls",
      "model_module_version": "1.5.0",
      "model_name": "FloatSliderModel",
      "state": {
       "description": "45°",
       "layout": "IPY_MODEL_6416fd89c14842e0b3510b3be719c0e5",
       "max": 1,
       "min": -1,
       "step": 0.01,
       "style": "IPY_MODEL_6329bd1d2bd84fdc9abd02529057650c"
      }
     },
     "ae3b353a8a174bccb4d44a2c7c61dc39": {
      "model_module": "@jupyter-widgets/controls",
      "model_module_version": "1.5.0",
      "model_name": "FloatSliderModel",
      "state": {
       "description": "0°",
       "layout": "IPY_MODEL_b84f1481c11e40ebba44efe31ca3e35e",
       "max": 1,
       "min": -1,
       "step": 0.01,
       "style": "IPY_MODEL_8ce9d3cb1a29410a8449a35f0d841b73"
      }
     },
     "ae526c19ac7644e1a73ad1eb46dc01f2": {
      "model_module": "@jupyter-widgets/controls",
      "model_module_version": "1.5.0",
      "model_name": "HBoxModel",
      "state": {
       "children": [
        "IPY_MODEL_f147930db2ce45f5b018c43c1899e722",
        "IPY_MODEL_112dfdf8b55f4927854051c3bcc664c0",
        "IPY_MODEL_9b7f88d88b054a31878fb339d9c33d59",
        "IPY_MODEL_170149d705764fa297321455ee0e2c6e"
       ],
       "layout": "IPY_MODEL_2056f0d0a4c7466ba9359dc5e8668a21"
      }
     },
     "ae61208233fa465786356f784fa1a884": {
      "model_module": "@jupyter-widgets/controls",
      "model_module_version": "1.5.0",
      "model_name": "FloatSliderModel",
      "state": {
       "description": "180°",
       "layout": "IPY_MODEL_a6641d38084f401bb4ab8c5799323925",
       "max": 1,
       "min": -1,
       "step": 0.01,
       "style": "IPY_MODEL_391257cb8f03422195d96dc06be5b0af"
      }
     },
     "aed68171a4cd4e1f823af7983646eef1": {
      "model_module": "@jupyter-widgets/base",
      "model_module_version": "1.2.0",
      "model_name": "LayoutModel",
      "state": {}
     },
     "af36c34fd9b24bddb3ec3975d6037b19": {
      "model_module": "jupyter-matplotlib",
      "model_module_version": "^0.7.2",
      "model_name": "MPLCanvasModel",
      "state": {
       "_figure_label": "Figure 6",
       "_height": 508,
       "_width": 1100,
       "header_visible": false,
       "layout": "IPY_MODEL_31f793f078d5467ba6cd617fc6ff918e",
       "resizable": false,
       "toolbar": "IPY_MODEL_f15ac83b015d4b129320ed9a38110178",
       "toolbar_position": "left",
       "toolbar_visible": false
      }
     },
     "af50b595e2c540afa7473bd551f1546d": {
      "model_module": "@jupyter-widgets/base",
      "model_module_version": "1.2.0",
      "model_name": "LayoutModel",
      "state": {
       "border": "solid 4px #222",
       "margin": "4px",
       "padding": "0"
      }
     },
     "af5f018954e74d9c8a3577c1dc9e6282": {
      "model_module": "@jupyter-widgets/controls",
      "model_module_version": "1.5.0",
      "model_name": "HBoxModel",
      "state": {
       "children": [
        "IPY_MODEL_719daab49757440ab097bd4b5faeb65e",
        "IPY_MODEL_979939816de84dad98597b2416fe00a7"
       ],
       "layout": "IPY_MODEL_94d66434053840978f6fe248efc6512b"
      }
     },
     "af6581f3a87b4483a31d43f8fc7440d0": {
      "model_module": "@jupyter-widgets/base",
      "model_module_version": "1.2.0",
      "model_name": "LayoutModel",
      "state": {}
     },
     "af68a574c08745bdb3c0a6e091225a9d": {
      "model_module": "@jupyter-widgets/controls",
      "model_module_version": "1.5.0",
      "model_name": "FloatSliderModel",
      "state": {
       "description": "225°",
       "layout": "IPY_MODEL_16d81976064b4263bf612e8c30f42eb5",
       "max": 1,
       "min": -1,
       "step": 0.01,
       "style": "IPY_MODEL_a37dfea0ac8f476aa545e44650a1107d"
      }
     },
     "af8174d68e4b4c5cadd43e776170d86a": {
      "model_module": "@jupyter-widgets/controls",
      "model_module_version": "1.5.0",
      "model_name": "SliderStyleModel",
      "state": {
       "description_width": ""
      }
     },
     "afb127a6473746c49a100a85edb81ca7": {
      "model_module": "@jupyter-widgets/controls",
      "model_module_version": "1.5.0",
      "model_name": "ButtonStyleModel",
      "state": {}
     },
     "afe6ca9f56574bc090848e2ab744e140": {
      "model_module": "@jupyter-widgets/controls",
      "model_module_version": "1.5.0",
      "model_name": "ButtonStyleModel",
      "state": {}
     },
     "afe9ab8bbbaa4258be3c61465ada5a2f": {
      "model_module": "@jupyter-widgets/controls",
      "model_module_version": "1.5.0",
      "model_name": "HBoxModel",
      "state": {
       "children": [
        "IPY_MODEL_0157f52a3b854a7598c94dba5f0a966e",
        "IPY_MODEL_bac68c574b8343e9be8b7bf55261e3c4"
       ],
       "layout": "IPY_MODEL_40d78f871101433690871fed969c6902"
      }
     },
     "b066d4a6d6c04413aeee72c338aaebf4": {
      "model_module": "@jupyter-widgets/controls",
      "model_module_version": "1.5.0",
      "model_name": "SliderStyleModel",
      "state": {
       "description_width": ""
      }
     },
     "b07150d7b93442388ebb68eb53f12b23": {
      "model_module": "@jupyter-widgets/controls",
      "model_module_version": "1.5.0",
      "model_name": "DescriptionStyleModel",
      "state": {
       "description_width": ""
      }
     },
     "b09ec4815f2249c0a12be61d605a16ba": {
      "model_module": "@jupyter-widgets/controls",
      "model_module_version": "1.5.0",
      "model_name": "SliderStyleModel",
      "state": {
       "description_width": ""
      }
     },
     "b0be4f85f32a472ba57e2abc84ef6db1": {
      "model_module": "@jupyter-widgets/base",
      "model_module_version": "1.2.0",
      "model_name": "LayoutModel",
      "state": {
       "border": "solid 4px #222",
       "margin": "4px",
       "padding": "0"
      }
     },
     "b0dddadbe5d44a7aadf4f4bbab861adf": {
      "model_module": "@jupyter-widgets/base",
      "model_module_version": "1.2.0",
      "model_name": "LayoutModel",
      "state": {}
     },
     "b0edb1fddf7f4c47ab301482be80b2a8": {
      "model_module": "@jupyter-widgets/controls",
      "model_module_version": "1.5.0",
      "model_name": "FloatSliderModel",
      "state": {
       "description": "180°",
       "layout": "IPY_MODEL_fc5f2e875a12414aa8a6b969426873cf",
       "max": 1,
       "min": -1,
       "step": 0.01,
       "style": "IPY_MODEL_008cd34021074a92bf11e9b768c12139"
      }
     },
     "b0f0109bb3f347868aab2a5ca8fbd8ea": {
      "model_module": "@jupyter-widgets/base",
      "model_module_version": "1.2.0",
      "model_name": "LayoutModel",
      "state": {}
     },
     "b0faaf52a2d14059b343638edbcd69c9": {
      "model_module": "@jupyter-widgets/controls",
      "model_module_version": "1.5.0",
      "model_name": "ButtonModel",
      "state": {
       "description": "Save Figure",
       "layout": "IPY_MODEL_413506f952b74dcea743b4b623d02eac",
       "style": "IPY_MODEL_07fac699f5d2489f93a183766cc1456d"
      }
     },
     "b110012603eb496098298a96b56ff4b5": {
      "model_module": "@jupyter-widgets/base",
      "model_module_version": "1.2.0",
      "model_name": "LayoutModel",
      "state": {}
     },
     "b14c8a8efb194565a553b11d8fda36ef": {
      "model_module": "@jupyter-widgets/controls",
      "model_module_version": "1.5.0",
      "model_name": "DescriptionStyleModel",
      "state": {
       "description_width": ""
      }
     },
     "b16f86210f694bc7b5b1724ec764264d": {
      "model_module": "@jupyter-widgets/controls",
      "model_module_version": "1.5.0",
      "model_name": "VBoxModel",
      "state": {
       "children": [
        "IPY_MODEL_ae3b353a8a174bccb4d44a2c7c61dc39",
        "IPY_MODEL_221e87411adf420f93f1869a5baab2c6",
        "IPY_MODEL_bd2a9a8e6afe4b7f9be99b1689491a55"
       ],
       "layout": "IPY_MODEL_48cf9eaa9b624fc5a4a2481ce790d4c3"
      }
     },
     "b1787ee26c2a436fa00d5e9448d01751": {
      "model_module": "@jupyter-widgets/base",
      "model_module_version": "1.2.0",
      "model_name": "LayoutModel",
      "state": {}
     },
     "b18f337178494305a0702f334d476e40": {
      "model_module": "@jupyter-widgets/controls",
      "model_module_version": "1.5.0",
      "model_name": "VBoxModel",
      "state": {
       "children": [
        "IPY_MODEL_3366e6274e7143bd85c9433108022675",
        "IPY_MODEL_714cc7c0e8214fe38af4d920d4f49620",
        "IPY_MODEL_1629b4a21c5840919af8f4410071a964"
       ],
       "layout": "IPY_MODEL_1b551be8d3cc498eb045a138b34df7f0"
      }
     },
     "b268df7399cc4aac9dc3968bae40ad14": {
      "model_module": "@jupyter-widgets/base",
      "model_module_version": "1.2.0",
      "model_name": "LayoutModel",
      "state": {}
     },
     "b27c3bf5c074489ea55a3b4c76aa7bbe": {
      "model_module": "@jupyter-widgets/controls",
      "model_module_version": "1.5.0",
      "model_name": "BoxModel",
      "state": {
       "children": [
        "IPY_MODEL_1938f5e5a70c43748c69788d9bb403ae",
        "IPY_MODEL_db33917c240a4a38b1f5c1cd540f892e"
       ],
       "layout": "IPY_MODEL_12603a4fe6034946b15041bbef01de94"
      }
     },
     "b285146b77784b5fad12a86979aed295": {
      "model_module": "@jupyter-widgets/controls",
      "model_module_version": "1.5.0",
      "model_name": "SliderStyleModel",
      "state": {
       "description_width": ""
      }
     },
     "b298bb0e9e724d91bb679a643766c052": {
      "model_module": "@jupyter-widgets/base",
      "model_module_version": "1.2.0",
      "model_name": "LayoutModel",
      "state": {
       "align_items": "stretch",
       "display": "flex",
       "flex_flow": "column",
       "width": "1128px"
      }
     },
     "b320d578628e4ae9a5923cfd8e7d6b21": {
      "model_module": "@jupyter-widgets/controls",
      "model_module_version": "1.5.0",
      "model_name": "FloatSliderModel",
      "state": {
       "description": "Exposure",
       "layout": "IPY_MODEL_5672437afce84d6a966845d8bdeaeccd",
       "max": 8,
       "min": -8,
       "step": 0.1,
       "style": "IPY_MODEL_3176a794c162455ab5e5c7eae5050a6a"
      }
     },
     "b36c0e54e325428eb0c38b72281b6d65": {
      "model_module": "jupyter-matplotlib",
      "model_module_version": "^0.7.2",
      "model_name": "MPLCanvasModel",
      "state": {
       "_figure_label": "Figure 16",
       "_height": 430,
       "_width": 1099,
       "header_visible": false,
       "layout": "IPY_MODEL_c562ae1d1eec4da0bf751e93e39b08fb",
       "resizable": false,
       "toolbar": "IPY_MODEL_79064596d4f544f0b7113e88d446e0b4",
       "toolbar_position": "left",
       "toolbar_visible": false
      }
     },
     "b3727a2471bf4d1e8ef4275a87a1d16a": {
      "model_module": "@jupyter-widgets/controls",
      "model_module_version": "1.5.0",
      "model_name": "FloatSliderModel",
      "state": {
       "description": "315°",
       "layout": "IPY_MODEL_d15b54c992d542bb9d967f1fa9eb8dcd",
       "max": 1,
       "min": -1,
       "step": 0.01,
       "style": "IPY_MODEL_e3f6fca2355e4e44aded4dd21a54f2c5"
      }
     },
     "b375cd8d37974d4ab033d086ec4d2892": {
      "model_module": "jupyter-matplotlib",
      "model_module_version": "^0.7.2",
      "model_name": "MPLCanvasModel",
      "state": {
       "_figure_label": "Figure 11",
       "_height": 696,
       "_width": 1100,
       "header_visible": false,
       "layout": "IPY_MODEL_6b5fc55183f14b6fb89b27093b16cc47",
       "resizable": false,
       "toolbar": "IPY_MODEL_bae1ba5b59724b7b98cd7e7b4e6a8159",
       "toolbar_position": "left",
       "toolbar_visible": false
      }
     },
     "b39543a9fa4940e2a9c3903cca1c4ab5": {
      "model_module": "@jupyter-widgets/base",
      "model_module_version": "1.2.0",
      "model_name": "LayoutModel",
      "state": {}
     },
     "b3b73496938c4959be585465d0f56fe9": {
      "model_module": "@jupyter-widgets/controls",
      "model_module_version": "1.5.0",
      "model_name": "CheckboxModel",
      "state": {
       "description": "Disable Medicina",
       "disabled": false,
       "layout": "IPY_MODEL_96c53fa690b54ac491e144169b92cee7",
       "style": "IPY_MODEL_20d9b44c6d8546db92bb9e24a8417021",
       "value": false
      }
     },
     "b3b92dd075f94212af2d3796f415a252": {
      "model_module": "@jupyter-widgets/base",
      "model_module_version": "1.2.0",
      "model_name": "LayoutModel",
      "state": {}
     },
     "b3dac5c99c734bf186c08d7f20bd8f85": {
      "model_module": "@jupyter-widgets/controls",
      "model_module_version": "1.5.0",
      "model_name": "VBoxModel",
      "state": {
       "children": [
        "IPY_MODEL_83e40949eae6457a9de8d73ee4a6f9a2",
        "IPY_MODEL_ae61208233fa465786356f784fa1a884",
        "IPY_MODEL_5b7016f5418542ed89643fdcafffea55"
       ],
       "layout": "IPY_MODEL_de1e9e0a8eed4cff990d0d2c8b24b353"
      }
     },
     "b3e1436122ce4cf6b9fdea99cb18ec77": {
      "model_module": "@jupyter-widgets/base",
      "model_module_version": "1.2.0",
      "model_name": "LayoutModel",
      "state": {}
     },
     "b3e8c1a8418a4a7e880afaf46c71c196": {
      "model_module": "@jupyter-widgets/base",
      "model_module_version": "1.2.0",
      "model_name": "LayoutModel",
      "state": {}
     },
     "b4057375e4d64b45af310099bb13319d": {
      "model_module": "@jupyter-widgets/controls",
      "model_module_version": "1.5.0",
      "model_name": "SliderStyleModel",
      "state": {
       "description_width": ""
      }
     },
     "b42ead802f4946698daf02039367ead9": {
      "model_module": "@jupyter-widgets/base",
      "model_module_version": "1.2.0",
      "model_name": "LayoutModel",
      "state": {}
     },
     "b45f8be10e324aeca45be689a52c2a2c": {
      "model_module": "@jupyter-widgets/controls",
      "model_module_version": "1.5.0",
      "model_name": "DescriptionStyleModel",
      "state": {
       "description_width": ""
      }
     },
     "b46752560a6a4a0786c5598973f136e5": {
      "model_module": "@jupyter-widgets/base",
      "model_module_version": "1.2.0",
      "model_name": "LayoutModel",
      "state": {}
     },
     "b471b24286f245c5a415b9ed247fd73c": {
      "model_module": "@jupyter-widgets/controls",
      "model_module_version": "1.5.0",
      "model_name": "FloatSliderModel",
      "state": {
       "description": "Protected Area Threshold",
       "layout": "IPY_MODEL_6e0da76fe1de4f3f977979b225377129",
       "max": 1,
       "step": 0.01,
       "style": "IPY_MODEL_d2860c42a4a84a03817ec57012255d4d",
       "value": 0.7
      }
     },
     "b4841fd5ddf84f788286b80e0f035acb": {
      "model_module": "@jupyter-widgets/base",
      "model_module_version": "1.2.0",
      "model_name": "LayoutModel",
      "state": {}
     },
     "b53c3a8d4609413793f9d158b66d1394": {
      "model_module": "@jupyter-widgets/base",
      "model_module_version": "1.2.0",
      "model_name": "LayoutModel",
      "state": {}
     },
     "b54d549490494cddbaa7f02985ce4dda": {
      "model_module": "@jupyter-widgets/base",
      "model_module_version": "1.2.0",
      "model_name": "LayoutModel",
      "state": {}
     },
     "b5a63f52b3ec4a87b26cc6c94bb906ce": {
      "model_module": "@jupyter-widgets/controls",
      "model_module_version": "1.5.0",
      "model_name": "VBoxModel",
      "state": {
       "children": [
        "IPY_MODEL_ecb89e62b7be495d9c78fd0868bda931",
        "IPY_MODEL_e7de02cfca884d3ea1daba8efd580938",
        "IPY_MODEL_da2cf6790893414b88f906efabc58de7"
       ],
       "layout": "IPY_MODEL_830779cba44c4ec89214c8613dcfaa54"
      }
     },
     "b5d24d61b06741f1a1fdbca2e2f2cb96": {
      "model_module": "@jupyter-widgets/base",
      "model_module_version": "1.2.0",
      "model_name": "LayoutModel",
      "state": {}
     },
     "b5dc6f7ab9e944258801997dfaddb0bc": {
      "model_module": "@jupyter-widgets/base",
      "model_module_version": "1.2.0",
      "model_name": "LayoutModel",
      "state": {}
     },
     "b6466618a6d348d6bfb238cc89db1345": {
      "model_module": "@jupyter-widgets/controls",
      "model_module_version": "1.5.0",
      "model_name": "SliderStyleModel",
      "state": {
       "description_width": ""
      }
     },
     "b657444b2c60478dac68b80966e8c40d": {
      "model_module": "@jupyter-widgets/controls",
      "model_module_version": "1.5.0",
      "model_name": "DescriptionStyleModel",
      "state": {
       "description_width": ""
      }
     },
     "b699bf774c294e86bf64708ec1ad1a60": {
      "model_module": "@jupyter-widgets/controls",
      "model_module_version": "1.5.0",
      "model_name": "FloatSliderModel",
      "state": {
       "description": "180°",
       "layout": "IPY_MODEL_c8fc6048b7874b30a2d76b9ea5cb8cc9",
       "max": 1,
       "min": -1,
       "step": 0.01,
       "style": "IPY_MODEL_3a00664c664d4ad99503d15343603819"
      }
     },
     "b69b680eb7544a03950b5385d233a4b9": {
      "model_module": "@jupyter-widgets/controls",
      "model_module_version": "1.5.0",
      "model_name": "ButtonStyleModel",
      "state": {}
     },
     "b6aac88531c14469978a8fe66475a723": {
      "model_module": "@jupyter-widgets/controls",
      "model_module_version": "1.5.0",
      "model_name": "ButtonModel",
      "state": {
       "description": "Reset Hue Controls",
       "layout": "IPY_MODEL_c5830820659d4d61bc1d7ac3d7ea920d",
       "style": "IPY_MODEL_1f14deb10404462684146bf7b56fe2cf"
      }
     },
     "b6ce34ae677d4f8e90498bfbe58b769c": {
      "model_module": "jupyter-matplotlib",
      "model_module_version": "^0.7.2",
      "model_name": "MPLCanvasModel",
      "state": {
       "_figure_label": "Figure 21",
       "_height": 550,
       "_width": 1100,
       "header_visible": false,
       "layout": "IPY_MODEL_79b7a4db976945fd9e0bdcffd4f68f19",
       "resizable": false,
       "toolbar": "IPY_MODEL_6d8bc3901c394b5f8ca6ff323468f011",
       "toolbar_position": "left",
       "toolbar_visible": false
      }
     },
     "b6e4f1dc6b0045639b661cbcc13197af": {
      "model_module": "@jupyter-widgets/base",
      "model_module_version": "1.2.0",
      "model_name": "LayoutModel",
      "state": {}
     },
     "b6eeac1c31744ed092b8817db47820a9": {
      "model_module": "@jupyter-widgets/controls",
      "model_module_version": "1.5.0",
      "model_name": "ButtonStyleModel",
      "state": {}
     },
     "b75a24163ea040df8cb6667515aa6357": {
      "model_module": "@jupyter-widgets/base",
      "model_module_version": "1.2.0",
      "model_name": "LayoutModel",
      "state": {}
     },
     "b7dea79a550f471dbdfe1424e8c78367": {
      "model_module": "@jupyter-widgets/controls",
      "model_module_version": "1.5.0",
      "model_name": "CheckboxModel",
      "state": {
       "description": "Disable Medicina",
       "disabled": false,
       "layout": "IPY_MODEL_ab9a530669af446ea0c43ee24061a060",
       "style": "IPY_MODEL_4f8b644313f640439dd9d693ba353f5f",
       "value": false
      }
     },
     "b841549c79d241e2a6cb7144be1b38bb": {
      "model_module": "@jupyter-widgets/base",
      "model_module_version": "1.2.0",
      "model_name": "LayoutModel",
      "state": {}
     },
     "b84f1481c11e40ebba44efe31ca3e35e": {
      "model_module": "@jupyter-widgets/base",
      "model_module_version": "1.2.0",
      "model_name": "LayoutModel",
      "state": {}
     },
     "b87c1d1a05eb4cf3a94185824d9d25d0": {
      "model_module": "@jupyter-widgets/base",
      "model_module_version": "1.2.0",
      "model_name": "LayoutModel",
      "state": {}
     },
     "b88a59ebc82f46718df7fe68f800acc6": {
      "model_module": "@jupyter-widgets/controls",
      "model_module_version": "1.5.0",
      "model_name": "TabModel",
      "state": {
       "_titles": {
        "0": "Global Controls",
        "1": "Compression Controls"
       },
       "children": [
        "IPY_MODEL_e1251c8b06b54d5f8d95c74b992b2205",
        "IPY_MODEL_56580dba24de44dc874ae86680ee0b06"
       ],
       "layout": "IPY_MODEL_f0072d86227342b787309d5f8ade64b5"
      }
     },
     "b892e90d05a8417a9e1c8d2a935c4830": {
      "model_module": "jupyter-matplotlib",
      "model_module_version": "^0.7.2",
      "model_name": "MPLCanvasModel",
      "state": {
       "_figure_label": "Figure 18",
       "_height": 396,
       "_width": 1100,
       "header_visible": false,
       "layout": "IPY_MODEL_60bdb65af7ff40bfa02cb03014cf4f63",
       "resizable": false,
       "toolbar": "IPY_MODEL_54c8b83ef07447b9b8cbc67a0af41ea2",
       "toolbar_position": "left",
       "toolbar_visible": false
      }
     },
     "b8a54ecfcdd1464a856f3d11ae80011c": {
      "model_module": "@jupyter-widgets/controls",
      "model_module_version": "1.5.0",
      "model_name": "DropdownModel",
      "state": {
       "_options_labels": [
        "tanh",
        "simple"
       ],
       "description": "Compression Function:",
       "index": 0,
       "layout": "IPY_MODEL_2bd197fab33c4c1292726f5fd8a52a7e",
       "style": "IPY_MODEL_a8a3f23dcd27459bb80090df15ba42fe"
      }
     },
     "b8b37f244bc44da592e4ec2cc7809b2f": {
      "model_module": "@jupyter-widgets/controls",
      "model_module_version": "1.5.0",
      "model_name": "ButtonStyleModel",
      "state": {}
     },
     "b9203136fd7244b4b315908aa10a0daf": {
      "model_module": "@jupyter-widgets/base",
      "model_module_version": "1.2.0",
      "model_name": "LayoutModel",
      "state": {}
     },
     "b928b3425f804a5ebac28b48f658fe2b": {
      "model_module": "jupyter-matplotlib",
      "model_module_version": "^0.7.2",
      "model_name": "MPLCanvasModel",
      "state": {
       "_figure_label": "Figure 10",
       "_height": 696,
       "_width": 1100,
       "header_visible": false,
       "layout": "IPY_MODEL_280bdd7950e5422c8eb7d1179fb21766",
       "resizable": false,
       "toolbar": "IPY_MODEL_5e57beb9aae24e768f9491e32b126cda",
       "toolbar_position": "left",
       "toolbar_visible": false
      }
     },
     "b945874ce3f84d13bcdf0466660e7b32": {
      "model_module": "@jupyter-widgets/output",
      "model_module_version": "1.0.0",
      "model_name": "OutputModel",
      "state": {
       "layout": "IPY_MODEL_407c01bf5b8b43ee83c17f71cc5090ab",
       "outputs": [
        {
         "data": {
          "application/vnd.jupyter.widget-view+json": {
           "model_id": "87351fc5219c40278ef3024a024bc77e",
           "version_major": 2,
           "version_minor": 0
          },
          "text/plain": "Canvas(toolbar=Toolbar(toolitems=[('Home', 'Reset original view', 'home', 'home'), ('Back', 'Back to previous …"
         },
         "metadata": {},
         "output_type": "display_data"
        }
       ]
      }
     },
     "b95bc64f11c1430ebf5cc0cff137e52a": {
      "model_module": "@jupyter-widgets/controls",
      "model_module_version": "1.5.0",
      "model_name": "ButtonStyleModel",
      "state": {}
     },
     "b9d3c817d2434dc2bb8a060d4fbf8ee6": {
      "model_module": "@jupyter-widgets/base",
      "model_module_version": "1.2.0",
      "model_name": "LayoutModel",
      "state": {}
     },
     "b9f94f411fdf4e09a97b64e72ca489bf": {
      "model_module": "@jupyter-widgets/controls",
      "model_module_version": "1.5.0",
      "model_name": "FloatSliderModel",
      "state": {
       "description": "315°",
       "layout": "IPY_MODEL_5c00b5ec11bb4bf3bdf046115ddbd1bf",
       "max": 1,
       "min": -1,
       "step": 0.01,
       "style": "IPY_MODEL_963bc3221f044c1ca16fd3776d184334"
      }
     },
     "ba0b822d384f44209036f9ad66dc26d9": {
      "model_module": "@jupyter-widgets/controls",
      "model_module_version": "1.5.0",
      "model_name": "SliderStyleModel",
      "state": {
       "description_width": ""
      }
     },
     "ba19ea7f548e49ce833d9b705f05aa95": {
      "model_module": "@jupyter-widgets/base",
      "model_module_version": "1.2.0",
      "model_name": "LayoutModel",
      "state": {}
     },
     "ba3404f788764aefa5dcfa845bf306bd": {
      "model_module": "@jupyter-widgets/controls",
      "model_module_version": "1.5.0",
      "model_name": "ButtonStyleModel",
      "state": {}
     },
     "ba4c3ca582c9479aa1023a52846df334": {
      "model_module": "@jupyter-widgets/controls",
      "model_module_version": "1.5.0",
      "model_name": "ButtonModel",
      "state": {
       "description": "Reset Saturation Controls",
       "layout": "IPY_MODEL_a6adb94a5a58485b91c27206c5afd102",
       "style": "IPY_MODEL_859b10e8dc094f019ab698163b60dcca"
      }
     },
     "ba5a689ab3d9438499fdcf17c4e3c1ca": {
      "model_module": "@jupyter-widgets/base",
      "model_module_version": "1.2.0",
      "model_name": "LayoutModel",
      "state": {}
     },
     "ba6c31af1ee548749b043cdff9d1518c": {
      "model_module": "@jupyter-widgets/controls",
      "model_module_version": "1.5.0",
      "model_name": "FloatSliderModel",
      "state": {
       "description": "315°",
       "layout": "IPY_MODEL_c8b1470f913646f8bc6e8c4720c17f65",
       "max": 1,
       "min": -1,
       "step": 0.01,
       "style": "IPY_MODEL_5033c32d9a914deb8ac725048583d9d5"
      }
     },
     "ba6df764c1aa4497ae1bc38514e36e0c": {
      "model_module": "@jupyter-widgets/base",
      "model_module_version": "1.2.0",
      "model_name": "LayoutModel",
      "state": {
       "border": "solid 4px #222",
       "margin": "4px",
       "padding": "0"
      }
     },
     "bac68c574b8343e9be8b7bf55261e3c4": {
      "model_module": "@jupyter-widgets/controls",
      "model_module_version": "1.5.0",
      "model_name": "FloatSliderModel",
      "state": {
       "description": "Protected Area Threshold",
       "layout": "IPY_MODEL_7b193fdbb77b4a0f920f7f02fe13c034",
       "max": 1,
       "step": 0.01,
       "style": "IPY_MODEL_0d473198fc6a42a6ac2f93d93b2638af",
       "value": 0.7
      }
     },
     "bae1ba5b59724b7b98cd7e7b4e6a8159": {
      "model_module": "jupyter-matplotlib",
      "model_module_version": "^0.7.2",
      "model_name": "ToolbarModel",
      "state": {
       "layout": "IPY_MODEL_946736e282244bcea52369682c4b3ddc",
       "toolitems": [
        [
         "Home",
         "Reset original view",
         "home",
         "home"
        ],
        [
         "Back",
         "Back to previous view",
         "arrow-left",
         "back"
        ],
        [
         "Forward",
         "Forward to next view",
         "arrow-right",
         "forward"
        ],
        [
         "Pan",
         "Pan axes with left mouse, zoom with right",
         "arrows",
         "pan"
        ],
        [
         "Zoom",
         "Zoom to rectangle",
         "square-o",
         "zoom"
        ],
        [
         "Download",
         "Download plot",
         "floppy-o",
         "save_figure"
        ]
       ]
      }
     },
     "baf12a62e51241fd9a7f51e2441ed42e": {
      "model_module": "@jupyter-widgets/controls",
      "model_module_version": "1.5.0",
      "model_name": "FloatSliderModel",
      "state": {
       "description": "Compression Threshold",
       "layout": "IPY_MODEL_bb9a9616d4fd47fb99d59f3f3cf6fc05",
       "max": 1,
       "step": 0.01,
       "style": "IPY_MODEL_7fc5e52b9da24e2f88cdd1e2bb3042f5",
       "value": 0.8
      }
     },
     "baf13fc16f974bad9967debb9ef6ebea": {
      "model_module": "@jupyter-widgets/controls",
      "model_module_version": "1.5.0",
      "model_name": "ButtonModel",
      "state": {
       "description": "Export Image",
       "layout": "IPY_MODEL_5bd0dc53cf67415c8eec95f2de4242b3",
       "style": "IPY_MODEL_4bdee51e80c34a889b7f16fa5ce1a3fa"
      }
     },
     "bafee842cb8c4d69a00c8d898cfa2dab": {
      "model_module": "@jupyter-widgets/base",
      "model_module_version": "1.2.0",
      "model_name": "LayoutModel",
      "state": {}
     },
     "bb0c4eef0ecc4d32b631f70aa621a568": {
      "model_module": "@jupyter-widgets/output",
      "model_module_version": "1.0.0",
      "model_name": "OutputModel",
      "state": {
       "layout": "IPY_MODEL_9affeeeec95c4ae1a1734a0a5250b573",
       "outputs": [
        {
         "data": {
          "application/vnd.jupyter.widget-view+json": {
           "model_id": "d8dbb064d05b40ab9c3f9b6916c0425a",
           "version_major": 2,
           "version_minor": 0
          },
          "text/plain": "Canvas(toolbar=Toolbar(toolitems=[('Home', 'Reset original view', 'home', 'home'), ('Back', 'Back to previous …"
         },
         "metadata": {},
         "output_type": "display_data"
        }
       ]
      }
     },
     "bb59cd035a924927baf637bcd33763a7": {
      "model_module": "@jupyter-widgets/base",
      "model_module_version": "1.2.0",
      "model_name": "LayoutModel",
      "state": {}
     },
     "bb6eb10a507c487594d83494abaf5767": {
      "model_module": "@jupyter-widgets/base",
      "model_module_version": "1.2.0",
      "model_name": "LayoutModel",
      "state": {}
     },
     "bb9a9616d4fd47fb99d59f3f3cf6fc05": {
      "model_module": "@jupyter-widgets/base",
      "model_module_version": "1.2.0",
      "model_name": "LayoutModel",
      "state": {}
     },
     "bba2d9e84c9a456b9c812819baf7e3fb": {
      "model_module": "@jupyter-widgets/controls",
      "model_module_version": "1.5.0",
      "model_name": "FloatSliderModel",
      "state": {
       "description": "135°",
       "layout": "IPY_MODEL_c6846692c2234ffda37a0705d2813993",
       "max": 1,
       "min": -1,
       "step": 0.01,
       "style": "IPY_MODEL_a3611d3a3c1c4aacaabc368d0406d05d"
      }
     },
     "bbddd0c07c7747f7a95f0571e1d68dec": {
      "model_module": "@jupyter-widgets/controls",
      "model_module_version": "1.5.0",
      "model_name": "SliderStyleModel",
      "state": {
       "description_width": ""
      }
     },
     "bbe97094340d4d3d93b79a9a0234b658": {
      "model_module": "@jupyter-widgets/base",
      "model_module_version": "1.2.0",
      "model_name": "LayoutModel",
      "state": {}
     },
     "bc0b77947e4f4d9c8e7a6ada0167b8dd": {
      "model_module": "@jupyter-widgets/controls",
      "model_module_version": "1.5.0",
      "model_name": "FloatSliderModel",
      "state": {
       "description": "315°",
       "layout": "IPY_MODEL_1f5983dc18b24a199bfdbe3e1509caec",
       "max": 1,
       "min": -1,
       "step": 0.01,
       "style": "IPY_MODEL_a35ac362032248f9a5624af19cc4b52c"
      }
     },
     "bc42322126f84bccb0ab48d77a45ab02": {
      "model_module": "@jupyter-widgets/base",
      "model_module_version": "1.2.0",
      "model_name": "LayoutModel",
      "state": {}
     },
     "bcd74782652e4779b8675c8ac9742acd": {
      "model_module": "@jupyter-widgets/controls",
      "model_module_version": "1.5.0",
      "model_name": "FloatSliderModel",
      "state": {
       "description": "315°",
       "layout": "IPY_MODEL_435ebf02150948c19a4ddd751316bffb",
       "max": 1,
       "min": -1,
       "step": 0.01,
       "style": "IPY_MODEL_c95169d717e84665894efcc4700e7213"
      }
     },
     "bd099f0874f14369a5667ab3b0f3f3fd": {
      "model_module": "@jupyter-widgets/controls",
      "model_module_version": "1.5.0",
      "model_name": "SliderStyleModel",
      "state": {
       "description_width": ""
      }
     },
     "bd116ea6a3bb4d5b841b8243cd4b7382": {
      "model_module": "@jupyter-widgets/controls",
      "model_module_version": "1.5.0",
      "model_name": "FloatSliderModel",
      "state": {
       "description": "90°",
       "layout": "IPY_MODEL_1fe327a999384478b040379ab19c6bde",
       "max": 1,
       "min": -1,
       "step": 0.01,
       "style": "IPY_MODEL_1a3111cbfcdf4361a373c9af770eff65"
      }
     },
     "bd2a9a8e6afe4b7f9be99b1689491a55": {
      "model_module": "@jupyter-widgets/controls",
      "model_module_version": "1.5.0",
      "model_name": "FloatSliderModel",
      "state": {
       "description": "90°",
       "layout": "IPY_MODEL_5a9e2d68ebef47559959ee3336ea3246",
       "max": 1,
       "min": -1,
       "step": 0.01,
       "style": "IPY_MODEL_b285146b77784b5fad12a86979aed295"
      }
     },
     "bd75ebbb53df4564a8e63186a4cb12a9": {
      "model_module": "@jupyter-widgets/controls",
      "model_module_version": "1.5.0",
      "model_name": "ButtonStyleModel",
      "state": {}
     },
     "bd86f7d204b846ffb2fffcf5f1317925": {
      "model_module": "@jupyter-widgets/controls",
      "model_module_version": "1.5.0",
      "model_name": "ButtonModel",
      "state": {
       "description": "Save Figure",
       "layout": "IPY_MODEL_81666c7637ba4c9d8ebd65d917d7c899",
       "style": "IPY_MODEL_96254508e5384a3c9153c4694af658dd"
      }
     },
     "be1f50a776ee46d4b9aaaf4da739fa7b": {
      "model_module": "@jupyter-widgets/base",
      "model_module_version": "1.2.0",
      "model_name": "LayoutModel",
      "state": {}
     },
     "be91f1b0a6de4060a5cd729607749bfa": {
      "model_module": "@jupyter-widgets/controls",
      "model_module_version": "1.5.0",
      "model_name": "VBoxModel",
      "state": {
       "children": [
        "IPY_MODEL_3adf347b09614773b9f118db6cfebb18",
        "IPY_MODEL_988047df81b94b30b52fadbd8fb4d994",
        "IPY_MODEL_de62cb6137494ebeb5fd1bc9bcb2e969"
       ],
       "layout": "IPY_MODEL_b53c3a8d4609413793f9d158b66d1394"
      }
     },
     "bebe7a8eb8374e89bf4eff9f6ddc1942": {
      "model_module": "@jupyter-widgets/base",
      "model_module_version": "1.2.0",
      "model_name": "LayoutModel",
      "state": {}
     },
     "bef5f70558f841eda8dc24f0528dec26": {
      "model_module": "@jupyter-widgets/base",
      "model_module_version": "1.2.0",
      "model_name": "LayoutModel",
      "state": {}
     },
     "befb209de87040f3a49c9d4a647617b7": {
      "model_module": "jupyter-matplotlib",
      "model_module_version": "^0.7.2",
      "model_name": "ToolbarModel",
      "state": {
       "layout": "IPY_MODEL_4bb38e2548e54464bf2d2ee7ddd4f7cb",
       "toolitems": [
        [
         "Home",
         "Reset original view",
         "home",
         "home"
        ],
        [
         "Back",
         "Back to previous view",
         "arrow-left",
         "back"
        ],
        [
         "Forward",
         "Forward to next view",
         "arrow-right",
         "forward"
        ],
        [
         "Pan",
         "Pan axes with left mouse, zoom with right",
         "arrows",
         "pan"
        ],
        [
         "Zoom",
         "Zoom to rectangle",
         "square-o",
         "zoom"
        ],
        [
         "Download",
         "Download plot",
         "floppy-o",
         "save_figure"
        ]
       ]
      }
     },
     "befff75fa78e4c6baad38c73f9438824": {
      "model_module": "@jupyter-widgets/base",
      "model_module_version": "1.2.0",
      "model_name": "LayoutModel",
      "state": {}
     },
     "bf598deab2fc4940b27640e8929a88eb": {
      "model_module": "@jupyter-widgets/controls",
      "model_module_version": "1.5.0",
      "model_name": "HBoxModel",
      "state": {
       "children": [
        "IPY_MODEL_a2dfeb997d254ac4859db967cab52134",
        "IPY_MODEL_c75fc5bb72604616b474dc6b75051062",
        "IPY_MODEL_3d03b720b5f34b7195fa3bde9be44653",
        "IPY_MODEL_fa3f8ee7f69d461699a74949e32db046"
       ],
       "layout": "IPY_MODEL_925a31b278c845d08823555a07192803"
      }
     },
     "bf5e71a0728d4534a92bada10f6f2ea9": {
      "model_module": "@jupyter-widgets/controls",
      "model_module_version": "1.5.0",
      "model_name": "FloatSliderModel",
      "state": {
       "description": "45°",
       "layout": "IPY_MODEL_1bf2aba6e48d4e8b9ab483ea3717a00c",
       "max": 1,
       "min": -1,
       "step": 0.01,
       "style": "IPY_MODEL_007128621a1c4776a623a34a51f3ffbe"
      }
     },
     "bfce9b9713b74401a15137e363d6b2dd": {
      "model_module": "jupyter-matplotlib",
      "model_module_version": "^0.7.2",
      "model_name": "ToolbarModel",
      "state": {
       "layout": "IPY_MODEL_b3b92dd075f94212af2d3796f415a252",
       "toolitems": [
        [
         "Home",
         "Reset original view",
         "home",
         "home"
        ],
        [
         "Back",
         "Back to previous view",
         "arrow-left",
         "back"
        ],
        [
         "Forward",
         "Forward to next view",
         "arrow-right",
         "forward"
        ],
        [
         "Pan",
         "Pan axes with left mouse, zoom with right",
         "arrows",
         "pan"
        ],
        [
         "Zoom",
         "Zoom to rectangle",
         "square-o",
         "zoom"
        ],
        [
         "Download",
         "Download plot",
         "floppy-o",
         "save_figure"
        ]
       ]
      }
     },
     "bfd5b226499e4058b9a3412ad3b5baf3": {
      "model_module": "@jupyter-widgets/base",
      "model_module_version": "1.2.0",
      "model_name": "LayoutModel",
      "state": {}
     },
     "bfd5fe74579949dfa4af5b19db68c45a": {
      "model_module": "@jupyter-widgets/controls",
      "model_module_version": "1.5.0",
      "model_name": "DescriptionStyleModel",
      "state": {
       "description_width": ""
      }
     },
     "c027b96c0b9f4684b95476103017ddf7": {
      "model_module": "@jupyter-widgets/controls",
      "model_module_version": "1.5.0",
      "model_name": "SliderStyleModel",
      "state": {
       "description_width": ""
      }
     },
     "c08a204243264307b80350f73521424e": {
      "model_module": "@jupyter-widgets/base",
      "model_module_version": "1.2.0",
      "model_name": "LayoutModel",
      "state": {
       "border": "solid 4px #222",
       "margin": "4px",
       "padding": "0"
      }
     },
     "c0c8492493a649efb0ce285086af377c": {
      "model_module": "@jupyter-widgets/base",
      "model_module_version": "1.2.0",
      "model_name": "LayoutModel",
      "state": {}
     },
     "c0dbdbbb06114ec7a0346825a080eea8": {
      "model_module": "@jupyter-widgets/base",
      "model_module_version": "1.2.0",
      "model_name": "LayoutModel",
      "state": {}
     },
     "c0dd8baca3c1416a9ea06d61c894ec4c": {
      "model_module": "@jupyter-widgets/controls",
      "model_module_version": "1.5.0",
      "model_name": "SliderStyleModel",
      "state": {
       "description_width": ""
      }
     },
     "c0e645c5d4ce40f2a399c3f4feec70da": {
      "model_module": "@jupyter-widgets/base",
      "model_module_version": "1.2.0",
      "model_name": "LayoutModel",
      "state": {
       "border": "solid 4px #222",
       "margin": "4px",
       "padding": "0"
      }
     },
     "c0ec07e3f63d4bdd8eb3414bc8c85107": {
      "model_module": "@jupyter-widgets/base",
      "model_module_version": "1.2.0",
      "model_name": "LayoutModel",
      "state": {}
     },
     "c0fff0e6e5fe4786b605d281b7617931": {
      "model_module": "@jupyter-widgets/controls",
      "model_module_version": "1.5.0",
      "model_name": "SliderStyleModel",
      "state": {
       "description_width": ""
      }
     },
     "c123941842cf44cc93e5e28fe5b8941a": {
      "model_module": "@jupyter-widgets/base",
      "model_module_version": "1.2.0",
      "model_name": "LayoutModel",
      "state": {}
     },
     "c14362991e104bdf94630655daf15a28": {
      "model_module": "@jupyter-widgets/controls",
      "model_module_version": "1.5.0",
      "model_name": "FloatSliderModel",
      "state": {
       "description": "45°",
       "layout": "IPY_MODEL_5db764acef6a4aaa886ba0b957c8c734",
       "max": 1,
       "min": -1,
       "step": 0.01,
       "style": "IPY_MODEL_667a012bb7c74f0a8768cdab77971267"
      }
     },
     "c156bb1cf9a044e6a31fc9bd962649ab": {
      "model_module": "@jupyter-widgets/controls",
      "model_module_version": "1.5.0",
      "model_name": "TabModel",
      "state": {
       "_titles": {
        "0": "Global Controls",
        "1": "Protected Area Controls",
        "2": "Saturation Controls",
        "3": "Hue Controls"
       },
       "children": [
        "IPY_MODEL_ae526c19ac7644e1a73ad1eb46dc01f2",
        "IPY_MODEL_6428988a6b1f4d7bb2b8129ad6ecc45b",
        "IPY_MODEL_4412d65fa5e846949202e82056bec6d7",
        "IPY_MODEL_ad8cbed96bab449b85191482da8d6758"
       ],
       "layout": "IPY_MODEL_2dc42d05e5154f478130bb6246b93d5e"
      }
     },
     "c165175a896e4963bf20d06ffeacc1b0": {
      "model_module": "@jupyter-widgets/base",
      "model_module_version": "1.2.0",
      "model_name": "LayoutModel",
      "state": {}
     },
     "c19dd5e22dec40fba2a0751a4bfa404c": {
      "model_module": "@jupyter-widgets/base",
      "model_module_version": "1.2.0",
      "model_name": "LayoutModel",
      "state": {}
     },
     "c1e9aea50bad4503b0175c99244a4ccd": {
      "model_module": "@jupyter-widgets/output",
      "model_module_version": "1.0.0",
      "model_name": "OutputModel",
      "state": {
       "layout": "IPY_MODEL_6064ba2201f643458be46cf942053f87",
       "outputs": [
        {
         "data": {
          "application/vnd.jupyter.widget-view+json": {
           "model_id": "a690d954c8ce421e927df45bf4b46600",
           "version_major": 2,
           "version_minor": 0
          },
          "text/plain": "Canvas(toolbar=Toolbar(toolitems=[('Home', 'Reset original view', 'home', 'home'), ('Back', 'Back to previous …"
         },
         "metadata": {},
         "output_type": "display_data"
        }
       ]
      }
     },
     "c209e7aa81384d6ea9d72674253c986b": {
      "model_module": "@jupyter-widgets/controls",
      "model_module_version": "1.5.0",
      "model_name": "TabModel",
      "state": {
       "_titles": {
        "0": "Global Controls",
        "1": "Protected Area Controls",
        "2": "Saturation Controls",
        "3": "Hue Controls"
       },
       "children": [
        "IPY_MODEL_9ec52e8e49bc47c5ac5efe85bf56ccfe",
        "IPY_MODEL_1388c27a3fdd441bb6ec6938581503ae",
        "IPY_MODEL_829864ef6f694fb3bb861ac885d7efca",
        "IPY_MODEL_2bfb8d247231488fb142dea2acad93b5"
       ],
       "layout": "IPY_MODEL_6546e6596bb94c9c87e4d7779f9f4c94"
      }
     },
     "c257347e278845309341ba682c464122": {
      "model_module": "@jupyter-widgets/controls",
      "model_module_version": "1.5.0",
      "model_name": "VBoxModel",
      "state": {
       "children": [
        "IPY_MODEL_1227fd9745274960ba39ea7e89429779",
        "IPY_MODEL_54a654c418ab4d95b83f0a33d8abf41b"
       ],
       "layout": "IPY_MODEL_61cef349550b4df8909346c4a9800224"
      }
     },
     "c2958cf45fdb4a80bceff355cf487da8": {
      "model_module": "@jupyter-widgets/controls",
      "model_module_version": "1.5.0",
      "model_name": "TabModel",
      "state": {
       "_titles": {
        "0": "Global Controls",
        "1": "Compression Controls"
       },
       "children": [
        "IPY_MODEL_371b6061818248648563ecc315231b6b",
        "IPY_MODEL_e4229902d3d54006919893698cf0b864"
       ],
       "layout": "IPY_MODEL_e36aa7cf6ddf42f586b7cda59ec97b29"
      }
     },
     "c2f9994004124f54bb3a5aa55ff13d95": {
      "model_module": "@jupyter-widgets/output",
      "model_module_version": "1.0.0",
      "model_name": "OutputModel",
      "state": {
       "layout": "IPY_MODEL_7ad393a289614f8f8293da85f54fc8e9",
       "outputs": [
        {
         "data": {
          "application/vnd.jupyter.widget-view+json": {
           "model_id": "b375cd8d37974d4ab033d086ec4d2892",
           "version_major": 2,
           "version_minor": 0
          },
          "text/plain": "Canvas(toolbar=Toolbar(toolitems=[('Home', 'Reset original view', 'home', 'home'), ('Back', 'Back to previous …"
         },
         "metadata": {},
         "output_type": "display_data"
        }
       ]
      }
     },
     "c30f236ea343491eadbe962fb1ba5aef": {
      "model_module": "@jupyter-widgets/base",
      "model_module_version": "1.2.0",
      "model_name": "LayoutModel",
      "state": {}
     },
     "c31e7255df91482b8e27c03c3d43ca40": {
      "model_module": "@jupyter-widgets/controls",
      "model_module_version": "1.5.0",
      "model_name": "DescriptionStyleModel",
      "state": {
       "description_width": ""
      }
     },
     "c322e629943249bf8df30d8d0709400f": {
      "model_module": "@jupyter-widgets/base",
      "model_module_version": "1.2.0",
      "model_name": "LayoutModel",
      "state": {}
     },
     "c3bbedce6a744cc0ae4b5a16363e429a": {
      "model_module": "jupyter-matplotlib",
      "model_module_version": "^0.7.2",
      "model_name": "MPLCanvasModel",
      "state": {
       "_figure_label": "Figure 14",
       "_height": 430,
       "_width": 1099,
       "header_visible": false,
       "layout": "IPY_MODEL_6d91dbb19d82439a85bfec02bd94964c",
       "resizable": false,
       "toolbar": "IPY_MODEL_8045ebb5e2e54382a7cf1c269bc47143",
       "toolbar_position": "left",
       "toolbar_visible": false
      }
     },
     "c46504e5332b4bb58afe6ef14ba28080": {
      "model_module": "@jupyter-widgets/controls",
      "model_module_version": "1.5.0",
      "model_name": "ButtonStyleModel",
      "state": {}
     },
     "c4e88dc639874f1ca0c6a5c5bd70a666": {
      "model_module": "@jupyter-widgets/base",
      "model_module_version": "1.2.0",
      "model_name": "LayoutModel",
      "state": {}
     },
     "c51e0a581e504028999ac013043d8544": {
      "model_module": "@jupyter-widgets/controls",
      "model_module_version": "1.5.0",
      "model_name": "DescriptionStyleModel",
      "state": {
       "description_width": ""
      }
     },
     "c562ae1d1eec4da0bf751e93e39b08fb": {
      "model_module": "@jupyter-widgets/base",
      "model_module_version": "1.2.0",
      "model_name": "LayoutModel",
      "state": {}
     },
     "c5830820659d4d61bc1d7ac3d7ea920d": {
      "model_module": "@jupyter-widgets/base",
      "model_module_version": "1.2.0",
      "model_name": "LayoutModel",
      "state": {}
     },
     "c5d99ba2e6d746d3bb836107e2ba4507": {
      "model_module": "@jupyter-widgets/controls",
      "model_module_version": "1.5.0",
      "model_name": "ButtonModel",
      "state": {
       "description": "Export Image",
       "layout": "IPY_MODEL_ef40b88682294f45af8ae97d608f506d",
       "style": "IPY_MODEL_294111e554ef4a97baec094a666dcad0"
      }
     },
     "c5e9c5f211bc439598c10d51afc1c0fc": {
      "model_module": "@jupyter-widgets/base",
      "model_module_version": "1.2.0",
      "model_name": "LayoutModel",
      "state": {}
     },
     "c6846692c2234ffda37a0705d2813993": {
      "model_module": "@jupyter-widgets/base",
      "model_module_version": "1.2.0",
      "model_name": "LayoutModel",
      "state": {}
     },
     "c687b447a8d54436adc32d8689415b3a": {
      "model_module": "@jupyter-widgets/base",
      "model_module_version": "1.2.0",
      "model_name": "LayoutModel",
      "state": {}
     },
     "c6f67e0275a34a5ea6f2892d0a9b209a": {
      "model_module": "@jupyter-widgets/controls",
      "model_module_version": "1.5.0",
      "model_name": "CheckboxModel",
      "state": {
       "description": "Disable Medicina",
       "disabled": false,
       "layout": "IPY_MODEL_f467534294ed4d8e9515cb66e30e5356",
       "style": "IPY_MODEL_4784c69e24f1424c805a6ca9f886a8df",
       "value": false
      }
     },
     "c739c80cad1a4ec58fbe77c918f3f151": {
      "model_module": "@jupyter-widgets/controls",
      "model_module_version": "1.5.0",
      "model_name": "DescriptionStyleModel",
      "state": {
       "description_width": ""
      }
     },
     "c74887f2e3bc449f95b6ecc278379b20": {
      "model_module": "@jupyter-widgets/base",
      "model_module_version": "1.2.0",
      "model_name": "LayoutModel",
      "state": {}
     },
     "c75fc5bb72604616b474dc6b75051062": {
      "model_module": "@jupyter-widgets/controls",
      "model_module_version": "1.5.0",
      "model_name": "ButtonModel",
      "state": {
       "description": "Export Image",
       "layout": "IPY_MODEL_e65f81a05db1497189800be73879103a",
       "style": "IPY_MODEL_3a92f9055d78446b9714bf9dd144fdb9"
      }
     },
     "c7718a9ab44c43679af8b7a4a852f0ec": {
      "model_module": "@jupyter-widgets/base",
      "model_module_version": "1.2.0",
      "model_name": "LayoutModel",
      "state": {}
     },
     "c7ce4a619ff54bc3aed687f8d681ff84": {
      "model_module": "@jupyter-widgets/controls",
      "model_module_version": "1.5.0",
      "model_name": "ButtonModel",
      "state": {
       "description": "Reset Hue Controls",
       "layout": "IPY_MODEL_434557a86f1042f48473adb7795918e4",
       "style": "IPY_MODEL_a53e2e9b652640cda9fb36e4a231fe2d"
      }
     },
     "c7f333482d794d7c8cb490d5cebadb49": {
      "model_module": "@jupyter-widgets/base",
      "model_module_version": "1.2.0",
      "model_name": "LayoutModel",
      "state": {}
     },
     "c7fe3384696d40209bcd61ec34f677c3": {
      "model_module": "@jupyter-widgets/controls",
      "model_module_version": "1.5.0",
      "model_name": "ButtonModel",
      "state": {
       "description": "Reset Saturation Controls",
       "layout": "IPY_MODEL_578b14a9b5744ca8aec4a10e653d8e4c",
       "style": "IPY_MODEL_afe6ca9f56574bc090848e2ab744e140"
      }
     },
     "c81e9aa5e3f14c0686dea8e7ef5d3661": {
      "model_module": "@jupyter-widgets/base",
      "model_module_version": "1.2.0",
      "model_name": "LayoutModel",
      "state": {}
     },
     "c85bbad1059542ef9690adc9901504ce": {
      "model_module": "@jupyter-widgets/controls",
      "model_module_version": "1.5.0",
      "model_name": "HBoxModel",
      "state": {
       "children": [
        "IPY_MODEL_00418cff63dd43e4aea00860fc43efcf",
        "IPY_MODEL_31ea38038d9f4ca081d96eb99fdf5d44",
        "IPY_MODEL_c971abdc2367481097ea09c40369ad03",
        "IPY_MODEL_82fdeb1c003d4780b4c64ff697df22aa"
       ],
       "layout": "IPY_MODEL_b46752560a6a4a0786c5598973f136e5"
      }
     },
     "c85ea309d44946adacfea2e605502f91": {
      "model_module": "@jupyter-widgets/base",
      "model_module_version": "1.2.0",
      "model_name": "LayoutModel",
      "state": {
       "border": "solid 4px #222",
       "margin": "4px",
       "padding": "0"
      }
     },
     "c899a5998b144eb7983922de4475795b": {
      "model_module": "@jupyter-widgets/output",
      "model_module_version": "1.0.0",
      "model_name": "OutputModel",
      "state": {
       "layout": "IPY_MODEL_859cec53412c4ed1962fd650bd2dfea8",
       "outputs": [
        {
         "data": {
          "application/vnd.jupyter.widget-view+json": {
           "model_id": "ecc3eaf481414f41a0b894ceb3d4a8a6",
           "version_major": 2,
           "version_minor": 0
          },
          "text/plain": "Canvas(toolbar=Toolbar(toolitems=[('Home', 'Reset original view', 'home', 'home'), ('Back', 'Back to previous …"
         },
         "metadata": {},
         "output_type": "display_data"
        }
       ]
      }
     },
     "c8b1470f913646f8bc6e8c4720c17f65": {
      "model_module": "@jupyter-widgets/base",
      "model_module_version": "1.2.0",
      "model_name": "LayoutModel",
      "state": {}
     },
     "c8cca70bed4b46d08ac7b32b93f8a4b4": {
      "model_module": "jupyter-matplotlib",
      "model_module_version": "^0.7.2",
      "model_name": "MPLCanvasModel",
      "state": {
       "_figure_label": "Figure 19",
       "_height": 396,
       "_width": 1100,
       "header_visible": false,
       "layout": "IPY_MODEL_f612b4bf09ea43b889e47694767a8d74",
       "resizable": false,
       "toolbar": "IPY_MODEL_a1b7add6d9da432fb934049edc7d8035",
       "toolbar_position": "left",
       "toolbar_visible": false
      }
     },
     "c8fc6048b7874b30a2d76b9ea5cb8cc9": {
      "model_module": "@jupyter-widgets/base",
      "model_module_version": "1.2.0",
      "model_name": "LayoutModel",
      "state": {}
     },
     "c95169d717e84665894efcc4700e7213": {
      "model_module": "@jupyter-widgets/controls",
      "model_module_version": "1.5.0",
      "model_name": "SliderStyleModel",
      "state": {
       "description_width": ""
      }
     },
     "c95b289719084a248cc7dd2a2071c91b": {
      "model_module": "@jupyter-widgets/controls",
      "model_module_version": "1.5.0",
      "model_name": "VBoxModel",
      "state": {
       "children": [
        "IPY_MODEL_8cb5b3fdc1614f35b6788653d7419356",
        "IPY_MODEL_df5a6a8b8c6f4d508c8ca8d74c4096d2"
       ],
       "layout": "IPY_MODEL_fe7b328e0c334a8f9912a56ebd2bc88f"
      }
     },
     "c971abdc2367481097ea09c40369ad03": {
      "model_module": "@jupyter-widgets/controls",
      "model_module_version": "1.5.0",
      "model_name": "VBoxModel",
      "state": {
       "children": [
        "IPY_MODEL_90ed7f71ab8a4747a3fe29e6f8c2fc39",
        "IPY_MODEL_b699bf774c294e86bf64708ec1ad1a60",
        "IPY_MODEL_790703b123554b5787ac85c23bd37bc9"
       ],
       "layout": "IPY_MODEL_1816b5a3728946e4a9e6b90a189cfb22"
      }
     },
     "c9935b92ce4d4bdaa75489a4d89dae6e": {
      "model_module": "@jupyter-widgets/controls",
      "model_module_version": "1.5.0",
      "model_name": "SliderStyleModel",
      "state": {
       "description_width": ""
      }
     },
     "c9bef08a52bd44e3a90630504cd14cb9": {
      "model_module": "@jupyter-widgets/controls",
      "model_module_version": "1.5.0",
      "model_name": "VBoxModel",
      "state": {
       "children": [
        "IPY_MODEL_fff5b5ecb99341ea964a3de90361dce0",
        "IPY_MODEL_c14362991e104bdf94630655daf15a28",
        "IPY_MODEL_8ae9752e531b446f9f8305e352cee26a"
       ],
       "layout": "IPY_MODEL_dcc188bd6ba04df89f39cd4199f3ebea"
      }
     },
     "c9cf551a340b48bea0de7eb8b3100477": {
      "model_module": "@jupyter-widgets/base",
      "model_module_version": "1.2.0",
      "model_name": "LayoutModel",
      "state": {}
     },
     "c9d0e28a7c76452b81dc6425b9919e0a": {
      "model_module": "@jupyter-widgets/base",
      "model_module_version": "1.2.0",
      "model_name": "LayoutModel",
      "state": {}
     },
     "c9e38a084fae4fc9b949cf854feb2b12": {
      "model_module": "@jupyter-widgets/controls",
      "model_module_version": "1.5.0",
      "model_name": "ButtonStyleModel",
      "state": {}
     },
     "c9ec1bdc1b7f4413b2804f08d5877665": {
      "model_module": "@jupyter-widgets/controls",
      "model_module_version": "1.5.0",
      "model_name": "VBoxModel",
      "state": {
       "children": [
        "IPY_MODEL_3714b2622fbf4f73b84bd451a03174fd",
        "IPY_MODEL_ae20d18602a94e0eabf2a4e0c096b62d",
        "IPY_MODEL_01f8961a062c41d0844f6522603d4ca4"
       ],
       "layout": "IPY_MODEL_7af25ca93ad94862a4363b7c6224eac8"
      }
     },
     "ca0d6e2fc9bc4b6ab5487ae849572ded": {
      "model_module": "@jupyter-widgets/base",
      "model_module_version": "1.2.0",
      "model_name": "LayoutModel",
      "state": {
       "border": "solid 4px #222",
       "margin": "4px",
       "padding": "0"
      }
     },
     "ca41f10b7b1d4a56a1ea91827631219d": {
      "model_module": "@jupyter-widgets/controls",
      "model_module_version": "1.5.0",
      "model_name": "FloatSliderModel",
      "state": {
       "description": "Exposure",
       "layout": "IPY_MODEL_52f137c403a943acb44827dae2ee6b66",
       "max": 8,
       "min": -8,
       "step": 0.1,
       "style": "IPY_MODEL_05b82a151e0c4c62b2f7052b0a72d8bd"
      }
     },
     "ca6a97f997fe49c18c830980569fb4ed": {
      "model_module": "@jupyter-widgets/controls",
      "model_module_version": "1.5.0",
      "model_name": "ButtonStyleModel",
      "state": {}
     },
     "cae89b06d66c4403b91a881f3ef7ee93": {
      "model_module": "@jupyter-widgets/base",
      "model_module_version": "1.2.0",
      "model_name": "LayoutModel",
      "state": {}
     },
     "cb00a83aac714fe8a2860300f6597e1f": {
      "model_module": "@jupyter-widgets/controls",
      "model_module_version": "1.5.0",
      "model_name": "ButtonStyleModel",
      "state": {}
     },
     "cb22863ca41e4a12adfd93933dc7a18d": {
      "model_module": "@jupyter-widgets/base",
      "model_module_version": "1.2.0",
      "model_name": "LayoutModel",
      "state": {
       "border": "solid 4px #222",
       "margin": "4px",
       "padding": "0"
      }
     },
     "cb364e123e714d519c57372aa3116431": {
      "model_module": "@jupyter-widgets/base",
      "model_module_version": "1.2.0",
      "model_name": "LayoutModel",
      "state": {}
     },
     "cb4037c30b7f4646a24f8b23ca9e7468": {
      "model_module": "@jupyter-widgets/controls",
      "model_module_version": "1.5.0",
      "model_name": "VBoxModel",
      "state": {
       "children": [
        "IPY_MODEL_34701bf7303c434cb9d31364013ce62f",
        "IPY_MODEL_0c9bba0e1f054c579db458d4e4b8e045",
        "IPY_MODEL_417a9b78f1254fd390f2d624c6a78c1e"
       ],
       "layout": "IPY_MODEL_079131fab38c458ab0f6c4b7a7626134"
      }
     },
     "cb428c23e1104b8f9bda3f40b3df1550": {
      "model_module": "@jupyter-widgets/base",
      "model_module_version": "1.2.0",
      "model_name": "LayoutModel",
      "state": {}
     },
     "cb6d12be3b2448bca11c29743181b29c": {
      "model_module": "@jupyter-widgets/controls",
      "model_module_version": "1.5.0",
      "model_name": "TabModel",
      "state": {
       "_titles": {
        "0": "Global Controls"
       },
       "children": [
        "IPY_MODEL_6107a31afddc42968a544fcaaf2de712"
       ],
       "layout": "IPY_MODEL_ce9e12c0ee7b43d8b02b969b2575cb1b"
      }
     },
     "cb828b02ff4b42e1b623ba275d56c525": {
      "model_module": "@jupyter-widgets/controls",
      "model_module_version": "1.5.0",
      "model_name": "ButtonModel",
      "state": {
       "description": "Reset Hue Controls",
       "layout": "IPY_MODEL_0fa04368d0834978bbc790c94384845b",
       "style": "IPY_MODEL_ca6a97f997fe49c18c830980569fb4ed"
      }
     },
     "cb8c27e3c09a4f4d8abfddbc4f25b443": {
      "model_module": "@jupyter-widgets/controls",
      "model_module_version": "1.5.0",
      "model_name": "HBoxModel",
      "state": {
       "children": [
        "IPY_MODEL_41aac5edecaf4b4fa8b7e49d5e1834df",
        "IPY_MODEL_810b642ceb1b43b08f5daf1ba395ece3",
        "IPY_MODEL_be91f1b0a6de4060a5cd729607749bfa",
        "IPY_MODEL_9a88ee63a74c46dc98f9ae70b6f701b3"
       ],
       "layout": "IPY_MODEL_99fe5a15a450451f9d4616ea5094a4b5"
      }
     },
     "cbf7fc64bcbc48a5b1366573beb723ae": {
      "model_module": "@jupyter-widgets/base",
      "model_module_version": "1.2.0",
      "model_name": "LayoutModel",
      "state": {}
     },
     "cc987fb2c5ae4ee78d557d18fc5f0671": {
      "model_module": "@jupyter-widgets/output",
      "model_module_version": "1.0.0",
      "model_name": "OutputModel",
      "state": {
       "layout": "IPY_MODEL_34fcfdc94b5b4ad9a20bfd0085980a42",
       "outputs": [
        {
         "data": {
          "application/vnd.jupyter.widget-view+json": {
           "model_id": "e4e4ac31570f4aa68b94c26533758245",
           "version_major": 2,
           "version_minor": 0
          },
          "text/plain": "Canvas(toolbar=Toolbar(toolitems=[('Home', 'Reset original view', 'home', 'home'), ('Back', 'Back to previous …"
         },
         "metadata": {},
         "output_type": "display_data"
        }
       ]
      }
     },
     "cca5e65c56eb489a807e9e5122dff3c9": {
      "model_module": "@jupyter-widgets/controls",
      "model_module_version": "1.5.0",
      "model_name": "VBoxModel",
      "state": {
       "children": [
        "IPY_MODEL_12d7d2546c7d43269994df0448c1073e",
        "IPY_MODEL_f60a6a07fc0d4b9bbf0572884a4482be",
        "IPY_MODEL_4aa288446adb4f1383d3c742f4723d9d"
       ],
       "layout": "IPY_MODEL_13d1ab9f5e464b62acd76d8646e2ec2c"
      }
     },
     "ccb1fc53369e4436af94e8cde3d12a0c": {
      "model_module": "@jupyter-widgets/base",
      "model_module_version": "1.2.0",
      "model_name": "LayoutModel",
      "state": {}
     },
     "ccb9182c8075470d966e505056da68fd": {
      "model_module": "@jupyter-widgets/controls",
      "model_module_version": "1.5.0",
      "model_name": "SliderStyleModel",
      "state": {
       "description_width": ""
      }
     },
     "ccf4f83f4b824de58bc950c429038b3e": {
      "model_module": "@jupyter-widgets/controls",
      "model_module_version": "1.5.0",
      "model_name": "DescriptionStyleModel",
      "state": {
       "description_width": ""
      }
     },
     "cd0634c0fc5f40b49e8a64a062c74875": {
      "model_module": "@jupyter-widgets/controls",
      "model_module_version": "1.5.0",
      "model_name": "ButtonModel",
      "state": {
       "description": "Reset Protected Area",
       "layout": "IPY_MODEL_d1f388d3a43643b9b8c3c61993f14ab7",
       "style": "IPY_MODEL_b95bc64f11c1430ebf5cc0cff137e52a"
      }
     },
     "cd3e752edda64db0bb6291decbf10d82": {
      "model_module": "@jupyter-widgets/base",
      "model_module_version": "1.2.0",
      "model_name": "LayoutModel",
      "state": {}
     },
     "cdabd1da742c4fb692628505124d6654": {
      "model_module": "@jupyter-widgets/base",
      "model_module_version": "1.2.0",
      "model_name": "LayoutModel",
      "state": {}
     },
     "cdd1e3a3d10246e3898f512c7da54433": {
      "model_module": "@jupyter-widgets/base",
      "model_module_version": "1.2.0",
      "model_name": "LayoutModel",
      "state": {}
     },
     "cdf9dfe0dc694a9b9c0bf68200606822": {
      "model_module": "jupyter-matplotlib",
      "model_module_version": "^0.7.2",
      "model_name": "ToolbarModel",
      "state": {
       "layout": "IPY_MODEL_219305cfa0c3443190c5634c214509ca",
       "toolitems": [
        [
         "Home",
         "Reset original view",
         "home",
         "home"
        ],
        [
         "Back",
         "Back to previous view",
         "arrow-left",
         "back"
        ],
        [
         "Forward",
         "Forward to next view",
         "arrow-right",
         "forward"
        ],
        [
         "Pan",
         "Pan axes with left mouse, zoom with right",
         "arrows",
         "pan"
        ],
        [
         "Zoom",
         "Zoom to rectangle",
         "square-o",
         "zoom"
        ],
        [
         "Download",
         "Download plot",
         "floppy-o",
         "save_figure"
        ]
       ]
      }
     },
     "cdfd5b13d24d40019fa0815afb493798": {
      "model_module": "@jupyter-widgets/base",
      "model_module_version": "1.2.0",
      "model_name": "LayoutModel",
      "state": {}
     },
     "ce3ccf0602ac407da78b6e185ae61e03": {
      "model_module": "@jupyter-widgets/controls",
      "model_module_version": "1.5.0",
      "model_name": "ButtonStyleModel",
      "state": {}
     },
     "ce6434a0058d4e068a1d4d5855f67add": {
      "model_module": "@jupyter-widgets/controls",
      "model_module_version": "1.5.0",
      "model_name": "ButtonModel",
      "state": {
       "description": "Save Figure",
       "layout": "IPY_MODEL_9174999f298843489ddcbb7edf93ad21",
       "style": "IPY_MODEL_55fa223104af42919eea164f80cb0b23"
      }
     },
     "ce9e12c0ee7b43d8b02b969b2575cb1b": {
      "model_module": "@jupyter-widgets/base",
      "model_module_version": "1.2.0",
      "model_name": "LayoutModel",
      "state": {
       "border": "solid 4px #222",
       "margin": "4px",
       "padding": "0"
      }
     },
     "ce9f5e57b86d4868a393026681d919a5": {
      "model_module": "@jupyter-widgets/controls",
      "model_module_version": "1.5.0",
      "model_name": "TabModel",
      "state": {
       "_titles": {
        "0": "Global Controls",
        "1": "Protected Area Controls",
        "2": "Saturation Controls",
        "3": "Hue Controls"
       },
       "children": [
        "IPY_MODEL_f0a0a98a520f403295658c17e0f00fa3",
        "IPY_MODEL_9d031bf7912148cb8c4e1cb872360e56",
        "IPY_MODEL_778b3e7bd56448ef8182aee18f509839",
        "IPY_MODEL_fd299bd6f12246c5a142f63d4b0f38a7"
       ],
       "layout": "IPY_MODEL_89dd9ea20d54418fa0e9ece5ecca2673"
      }
     },
     "cf024b9879884ce2bb6da6dfb8db2d8a": {
      "model_module": "@jupyter-widgets/controls",
      "model_module_version": "1.5.0",
      "model_name": "FloatSliderModel",
      "state": {
       "description": "Exposure",
       "layout": "IPY_MODEL_ace4005c1ed648108b140c33cec37683",
       "max": 8,
       "min": -8,
       "step": 0.1,
       "style": "IPY_MODEL_90e074fa8b6544ee8ade93971717dd3b"
      }
     },
     "cf0c0d13264c45e5b680ce273aebf584": {
      "model_module": "@jupyter-widgets/base",
      "model_module_version": "1.2.0",
      "model_name": "LayoutModel",
      "state": {}
     },
     "cf8252c503e74412bed2882a12f9258c": {
      "model_module": "@jupyter-widgets/base",
      "model_module_version": "1.2.0",
      "model_name": "LayoutModel",
      "state": {
       "border": "solid 4px #222",
       "margin": "4px",
       "padding": "0"
      }
     },
     "cf864bb05f504ace9192d140e5e3c0af": {
      "model_module": "@jupyter-widgets/base",
      "model_module_version": "1.2.0",
      "model_name": "LayoutModel",
      "state": {}
     },
     "cff48d9c4ed443c0b9fd719529b11ef5": {
      "model_module": "@jupyter-widgets/base",
      "model_module_version": "1.2.0",
      "model_name": "LayoutModel",
      "state": {}
     },
     "d02df63092514c5cb1a535288f41898d": {
      "model_module": "@jupyter-widgets/base",
      "model_module_version": "1.2.0",
      "model_name": "LayoutModel",
      "state": {}
     },
     "d065181c68a348b6b2219faa1a78fa41": {
      "model_module": "@jupyter-widgets/controls",
      "model_module_version": "1.5.0",
      "model_name": "FloatSliderModel",
      "state": {
       "description": "Compression Threshold",
       "layout": "IPY_MODEL_dce98bb5f9c64ff4857c1a595c5e2e67",
       "max": 1,
       "step": 0.01,
       "style": "IPY_MODEL_1619394b7e1241b8a0ef0ead67447bd3",
       "value": 0.8
      }
     },
     "d06eac798a094c5b84685fa6e82046d7": {
      "model_module": "@jupyter-widgets/base",
      "model_module_version": "1.2.0",
      "model_name": "LayoutModel",
      "state": {}
     },
     "d084376ea5a240a8a4922a5a067a2a68": {
      "model_module": "@jupyter-widgets/base",
      "model_module_version": "1.2.0",
      "model_name": "LayoutModel",
      "state": {}
     },
     "d0b08e9fa6fa4ebb9733532c4671664a": {
      "model_module": "@jupyter-widgets/controls",
      "model_module_version": "1.5.0",
      "model_name": "ButtonStyleModel",
      "state": {}
     },
     "d0be507026da416e80bc0936f2d8fe83": {
      "model_module": "@jupyter-widgets/controls",
      "model_module_version": "1.5.0",
      "model_name": "SliderStyleModel",
      "state": {
       "description_width": ""
      }
     },
     "d0c62df1613843ffb8ce13a31e704107": {
      "model_module": "@jupyter-widgets/base",
      "model_module_version": "1.2.0",
      "model_name": "LayoutModel",
      "state": {}
     },
     "d139aaf1cfad412f8008bdf8749a10db": {
      "model_module": "@jupyter-widgets/controls",
      "model_module_version": "1.5.0",
      "model_name": "FloatSliderModel",
      "state": {
       "description": "135°",
       "layout": "IPY_MODEL_87c2af4dc3dc4b16a57c1466cecc27e4",
       "max": 1,
       "min": -1,
       "step": 0.01,
       "style": "IPY_MODEL_7b91d969a8ab415ca39d903f3077df17"
      }
     },
     "d140bf2c10a84c9dbd83de3e2c5417bf": {
      "model_module": "jupyter-matplotlib",
      "model_module_version": "^0.7.2",
      "model_name": "MPLCanvasModel",
      "state": {
       "_figure_label": "Figure 13",
       "_height": 550,
       "_width": 1100,
       "header_visible": false,
       "layout": "IPY_MODEL_792d7a3afb554a77b96208d821fb532e",
       "resizable": false,
       "toolbar": "IPY_MODEL_cdf9dfe0dc694a9b9c0bf68200606822",
       "toolbar_position": "left",
       "toolbar_visible": false
      }
     },
     "d15a17d60f9647cab816cf34cfd852a3": {
      "model_module": "@jupyter-widgets/controls",
      "model_module_version": "1.5.0",
      "model_name": "FloatSliderModel",
      "state": {
       "description": "Protected Area Threshold",
       "layout": "IPY_MODEL_aaa77dd1422048308b8cbd471ef05375",
       "max": 1,
       "step": 0.01,
       "style": "IPY_MODEL_95226ffc547e4f86ac3adf0ba09b39a7",
       "value": 0.7
      }
     },
     "d15b54c992d542bb9d967f1fa9eb8dcd": {
      "model_module": "@jupyter-widgets/base",
      "model_module_version": "1.2.0",
      "model_name": "LayoutModel",
      "state": {}
     },
     "d17153340e6a4b72a421aba05d7c875a": {
      "model_module": "@jupyter-widgets/controls",
      "model_module_version": "1.5.0",
      "model_name": "HBoxModel",
      "state": {
       "children": [
        "IPY_MODEL_a60899585c25459fa274d066de1a310e",
        "IPY_MODEL_fc38888673c04cadb18004d8bd4e2312",
        "IPY_MODEL_4d955a52c3654c4599e72b72bc7e37df",
        "IPY_MODEL_feccedc4df4142fb9a36943fe78c5c7f"
       ],
       "layout": "IPY_MODEL_c4e88dc639874f1ca0c6a5c5bd70a666"
      }
     },
     "d19083131eef42418ce8199b82a7dae9": {
      "model_module": "@jupyter-widgets/controls",
      "model_module_version": "1.5.0",
      "model_name": "SliderStyleModel",
      "state": {
       "description_width": ""
      }
     },
     "d1a5db67c48042aba91c94bb6d25c2db": {
      "model_module": "@jupyter-widgets/controls",
      "model_module_version": "1.5.0",
      "model_name": "HBoxModel",
      "state": {
       "children": [
        "IPY_MODEL_4fb04c0810354a5fbbef24f65d0d5182",
        "IPY_MODEL_71a9aa6ca4eb4bac99341b0cbbe667c1",
        "IPY_MODEL_b0faaf52a2d14059b343638edbcd69c9",
        "IPY_MODEL_5834b65da31545a79a1d1d2f94114ecf"
       ],
       "layout": "IPY_MODEL_6a4063a898ef45b7994b4dcaa9a7843f"
      }
     },
     "d1bc139c44ec449f9da744681a154fbf": {
      "model_module": "@jupyter-widgets/base",
      "model_module_version": "1.2.0",
      "model_name": "LayoutModel",
      "state": {}
     },
     "d1c5be01302f47e4989f9e9133474ea2": {
      "model_module": "@jupyter-widgets/controls",
      "model_module_version": "1.5.0",
      "model_name": "VBoxModel",
      "state": {
       "children": [
        "IPY_MODEL_cb828b02ff4b42e1b623ba275d56c525"
       ],
       "layout": "IPY_MODEL_278a17fb00114beeaf94e1827554a748"
      }
     },
     "d1da01b4f2e5445896aa116db3a1b3e6": {
      "model_module": "@jupyter-widgets/controls",
      "model_module_version": "1.5.0",
      "model_name": "SliderStyleModel",
      "state": {
       "description_width": ""
      }
     },
     "d1f2fb929a304369b2c7e79cc52f05b9": {
      "model_module": "@jupyter-widgets/base",
      "model_module_version": "1.2.0",
      "model_name": "LayoutModel",
      "state": {}
     },
     "d1f388d3a43643b9b8c3c61993f14ab7": {
      "model_module": "@jupyter-widgets/base",
      "model_module_version": "1.2.0",
      "model_name": "LayoutModel",
      "state": {}
     },
     "d22066f13a694b8abe001c73d103bdf5": {
      "model_module": "@jupyter-widgets/base",
      "model_module_version": "1.2.0",
      "model_name": "LayoutModel",
      "state": {}
     },
     "d228a39b105149d3b23e0eeabca0803b": {
      "model_module": "@jupyter-widgets/base",
      "model_module_version": "1.2.0",
      "model_name": "LayoutModel",
      "state": {}
     },
     "d2479213a7284efeb1ff733508d18c39": {
      "model_module": "@jupyter-widgets/controls",
      "model_module_version": "1.5.0",
      "model_name": "ButtonModel",
      "state": {
       "description": "Save Figure",
       "layout": "IPY_MODEL_febe120c7e4f4a0ebaadb5b56555b722",
       "style": "IPY_MODEL_1632a6648f024d21b8c8785139c4b8ac"
      }
     },
     "d2565bca135f46299c7f8760ddffdeb0": {
      "model_module": "@jupyter-widgets/controls",
      "model_module_version": "1.5.0",
      "model_name": "FloatSliderModel",
      "state": {
       "description": "Exposure",
       "layout": "IPY_MODEL_befff75fa78e4c6baad38c73f9438824",
       "max": 8,
       "min": -8,
       "step": 0.1,
       "style": "IPY_MODEL_a7532e6b937a4519af8a94bdb1455f18"
      }
     },
     "d2860c42a4a84a03817ec57012255d4d": {
      "model_module": "@jupyter-widgets/controls",
      "model_module_version": "1.5.0",
      "model_name": "SliderStyleModel",
      "state": {
       "description_width": ""
      }
     },
     "d2a063b85be14432a7a8760196874ada": {
      "model_module": "@jupyter-widgets/controls",
      "model_module_version": "1.5.0",
      "model_name": "DescriptionStyleModel",
      "state": {
       "description_width": ""
      }
     },
     "d2ab9b78de1145f386bceaac90498a6c": {
      "model_module": "@jupyter-widgets/base",
      "model_module_version": "1.2.0",
      "model_name": "LayoutModel",
      "state": {}
     },
     "d332c1cbf7254c359ec37ec12509df3a": {
      "model_module": "jupyter-matplotlib",
      "model_module_version": "^0.7.2",
      "model_name": "MPLCanvasModel",
      "state": {
       "_figure_label": "Figure 2",
       "_height": 396,
       "_width": 1100,
       "header_visible": false,
       "layout": "IPY_MODEL_ba5a689ab3d9438499fdcf17c4e3c1ca",
       "resizable": false,
       "toolbar": "IPY_MODEL_88475fc44e514988ae5fecc15fc78968",
       "toolbar_position": "left",
       "toolbar_visible": false
      }
     },
     "d34671863c284537ab6f5fe29f46f0ca": {
      "model_module": "@jupyter-widgets/controls",
      "model_module_version": "1.5.0",
      "model_name": "SliderStyleModel",
      "state": {
       "description_width": ""
      }
     },
     "d34b8b1a006a43a799c35106c5949477": {
      "model_module": "@jupyter-widgets/base",
      "model_module_version": "1.2.0",
      "model_name": "LayoutModel",
      "state": {}
     },
     "d363381e9de1435ab96686ad738093b5": {
      "model_module": "jupyter-matplotlib",
      "model_module_version": "^0.7.2",
      "model_name": "MPLCanvasModel",
      "state": {
       "_figure_label": "Figure 17",
       "_height": 430,
       "_width": 1099,
       "header_visible": false,
       "layout": "IPY_MODEL_82b5ec97adb34a898e5cf470903d5592",
       "resizable": false,
       "toolbar": "IPY_MODEL_e797f0ac01b945df9197d032f4829b62",
       "toolbar_position": "left",
       "toolbar_visible": false
      }
     },
     "d459b292f29545dfabf3a2a5f72596ed": {
      "model_module": "@jupyter-widgets/base",
      "model_module_version": "1.2.0",
      "model_name": "LayoutModel",
      "state": {}
     },
     "d461e0c0fc4a4d2c99a53a42b4f6196f": {
      "model_module": "@jupyter-widgets/base",
      "model_module_version": "1.2.0",
      "model_name": "LayoutModel",
      "state": {}
     },
     "d48ed1e21d9c4175b5754dcecbc06ca0": {
      "model_module": "@jupyter-widgets/base",
      "model_module_version": "1.2.0",
      "model_name": "LayoutModel",
      "state": {}
     },
     "d4be9e99f0c04a629302e1bc17ddbf28": {
      "model_module": "@jupyter-widgets/controls",
      "model_module_version": "1.5.0",
      "model_name": "ButtonModel",
      "state": {
       "description": "Export Image",
       "layout": "IPY_MODEL_8b62d8c2a36f4b5598151ad120b83775",
       "style": "IPY_MODEL_751b8e4fc5304e26a7a76cc15e1f6190"
      }
     },
     "d59ae703c2c643c4a127991e9ee37e0e": {
      "model_module": "@jupyter-widgets/base",
      "model_module_version": "1.2.0",
      "model_name": "LayoutModel",
      "state": {}
     },
     "d63276d03a1c4836af770976b15896ec": {
      "model_module": "@jupyter-widgets/controls",
      "model_module_version": "1.5.0",
      "model_name": "TabModel",
      "state": {
       "_titles": {
        "0": "Global Controls",
        "1": "Compression Controls"
       },
       "children": [
        "IPY_MODEL_749d427779104d519feca7c611e04f64",
        "IPY_MODEL_ed8ad82dc6d545e9a82a578a93a51f2a"
       ],
       "layout": "IPY_MODEL_cb22863ca41e4a12adfd93933dc7a18d"
      }
     },
     "d64571940fdb4145a00be1b0eb72abaf": {
      "model_module": "@jupyter-widgets/controls",
      "model_module_version": "1.5.0",
      "model_name": "ButtonStyleModel",
      "state": {}
     },
     "d730d969b4f94d17aa5b2e44da160c76": {
      "model_module": "@jupyter-widgets/base",
      "model_module_version": "1.2.0",
      "model_name": "LayoutModel",
      "state": {
       "border": "solid 4px #222",
       "margin": "4px",
       "padding": "0"
      }
     },
     "d736c388d61b479589b0871f8dbbdefa": {
      "model_module": "@jupyter-widgets/base",
      "model_module_version": "1.2.0",
      "model_name": "LayoutModel",
      "state": {}
     },
     "d754bb58e6764458acfc84f4c43dfee2": {
      "model_module": "@jupyter-widgets/base",
      "model_module_version": "1.2.0",
      "model_name": "LayoutModel",
      "state": {
       "align_items": "stretch",
       "display": "flex",
       "flex_flow": "column",
       "width": "1128px"
      }
     },
     "d78423bd0cce4bf3a077c7664ea7f73a": {
      "model_module": "@jupyter-widgets/controls",
      "model_module_version": "1.5.0",
      "model_name": "ButtonModel",
      "state": {
       "description": "Export Image",
       "layout": "IPY_MODEL_2527f4bbf01340739e54e34880e718ec",
       "style": "IPY_MODEL_03b470130b0a4a2eaa1f1ffe50b5e92c"
      }
     },
     "d7a4d4d411144499bee59e04cd3ff68e": {
      "model_module": "@jupyter-widgets/base",
      "model_module_version": "1.2.0",
      "model_name": "LayoutModel",
      "state": {}
     },
     "d7b9c1ed43ce42608cad76dea3dc6603": {
      "model_module": "@jupyter-widgets/base",
      "model_module_version": "1.2.0",
      "model_name": "LayoutModel",
      "state": {}
     },
     "d8072c178bb5474bb731a16c1214aeaf": {
      "model_module": "@jupyter-widgets/base",
      "model_module_version": "1.2.0",
      "model_name": "LayoutModel",
      "state": {}
     },
     "d81d9965bf1d4d5cb03a217a040eb4e9": {
      "model_module": "@jupyter-widgets/controls",
      "model_module_version": "1.5.0",
      "model_name": "ButtonModel",
      "state": {
       "description": "Reset Protected Area",
       "layout": "IPY_MODEL_e477ec68b746425a860eec32473b1f25",
       "style": "IPY_MODEL_898cda1f15874093a67a61794b83f46c"
      }
     },
     "d84c77488b09432f9b63e8e50eee85b4": {
      "model_module": "@jupyter-widgets/controls",
      "model_module_version": "1.5.0",
      "model_name": "HBoxModel",
      "state": {
       "children": [
        "IPY_MODEL_0118f38e6d154fa8b661c8bb7bf0ac5f",
        "IPY_MODEL_c9bef08a52bd44e3a90630504cd14cb9",
        "IPY_MODEL_306995d0c8be4a5e8137fa943a7b1b2e",
        "IPY_MODEL_d92a7676b3a045e9bbf8db5f2174c0a0"
       ],
       "layout": "IPY_MODEL_c9cf551a340b48bea0de7eb8b3100477"
      }
     },
     "d86e955345914a94a5bca0d25cc656fa": {
      "model_module": "@jupyter-widgets/controls",
      "model_module_version": "1.5.0",
      "model_name": "ButtonStyleModel",
      "state": {}
     },
     "d897122097d344adb4758691b313d5fc": {
      "model_module": "@jupyter-widgets/controls",
      "model_module_version": "1.5.0",
      "model_name": "DescriptionStyleModel",
      "state": {
       "description_width": ""
      }
     },
     "d8b052f5c63c4653bb98a5c9bad25ee7": {
      "model_module": "@jupyter-widgets/controls",
      "model_module_version": "1.5.0",
      "model_name": "BoxModel",
      "state": {
       "children": [
        "IPY_MODEL_6627dc029ee14d4bb24824c9b442f346",
        "IPY_MODEL_2e36179ffdd644e990acd4f498806a5c"
       ],
       "layout": "IPY_MODEL_b298bb0e9e724d91bb679a643766c052"
      }
     },
     "d8c7afdf4479475a8495b912c55ad234": {
      "model_module": "@jupyter-widgets/controls",
      "model_module_version": "1.5.0",
      "model_name": "BoxModel",
      "state": {
       "children": [
        "IPY_MODEL_3066e6f268754814821802a47e88feda",
        "IPY_MODEL_4b58ed9a1a74427d9f4164d58db00ba1"
       ],
       "layout": "IPY_MODEL_6437f7be8088400f86ccb16f2c179500"
      }
     },
     "d8dbb064d05b40ab9c3f9b6916c0425a": {
      "model_module": "jupyter-matplotlib",
      "model_module_version": "^0.7.2",
      "model_name": "MPLCanvasModel",
      "state": {
       "_figure_label": "Figure 20",
       "_height": 550,
       "_width": 1100,
       "header_visible": false,
       "layout": "IPY_MODEL_2f949a312e8b433498ceb29c2eb89e68",
       "resizable": false,
       "toolbar": "IPY_MODEL_59e7cb51351b438d9ff205defbf8370d",
       "toolbar_position": "left",
       "toolbar_visible": false
      }
     },
     "d91a5c62b2e34ab6ab35df1fe470d882": {
      "model_module": "@jupyter-widgets/base",
      "model_module_version": "1.2.0",
      "model_name": "LayoutModel",
      "state": {}
     },
     "d92a7676b3a045e9bbf8db5f2174c0a0": {
      "model_module": "@jupyter-widgets/controls",
      "model_module_version": "1.5.0",
      "model_name": "VBoxModel",
      "state": {
       "children": [
        "IPY_MODEL_fbf5be03e3234e21b48e76394a5808cf",
        "IPY_MODEL_e76ce9b97f5046a797300a4a6536cf44"
       ],
       "layout": "IPY_MODEL_0ed555a60b78418bba8caf823c6ff2e5"
      }
     },
     "d92bbf98bfd4426e8784f0b9f62ce746": {
      "model_module": "@jupyter-widgets/base",
      "model_module_version": "1.2.0",
      "model_name": "LayoutModel",
      "state": {}
     },
     "d931c57f8c204d1fa0f6952c150ec013": {
      "model_module": "@jupyter-widgets/controls",
      "model_module_version": "1.5.0",
      "model_name": "SliderStyleModel",
      "state": {
       "description_width": ""
      }
     },
     "d98d2364ab3a43449566b7595358bd46": {
      "model_module": "@jupyter-widgets/base",
      "model_module_version": "1.2.0",
      "model_name": "LayoutModel",
      "state": {}
     },
     "d9eda2220dea48e586d6f6d984db1945": {
      "model_module": "@jupyter-widgets/controls",
      "model_module_version": "1.5.0",
      "model_name": "ButtonStyleModel",
      "state": {}
     },
     "da052aea01f34b2396a740bc3a2820df": {
      "model_module": "@jupyter-widgets/base",
      "model_module_version": "1.2.0",
      "model_name": "LayoutModel",
      "state": {}
     },
     "da21333acc524524a9a1ca320348c669": {
      "model_module": "@jupyter-widgets/controls",
      "model_module_version": "1.5.0",
      "model_name": "VBoxModel",
      "state": {
       "children": [
        "IPY_MODEL_3f67eb1589674c4cbe96f324f627de7e"
       ],
       "layout": "IPY_MODEL_bc42322126f84bccb0ab48d77a45ab02"
      }
     },
     "da2cf6790893414b88f906efabc58de7": {
      "model_module": "@jupyter-widgets/controls",
      "model_module_version": "1.5.0",
      "model_name": "FloatSliderModel",
      "state": {
       "description": "90°",
       "layout": "IPY_MODEL_50e3e84e7dc04be08a06002dfb1ad149",
       "max": 1,
       "min": -1,
       "step": 0.01,
       "style": "IPY_MODEL_0f4dd6d947f741ae97559f7e4f9a917a"
      }
     },
     "da8d728f4e224830841c8713033406e5": {
      "model_module": "jupyter-matplotlib",
      "model_module_version": "^0.7.2",
      "model_name": "MPLCanvasModel",
      "state": {
       "_figure_label": "Figure 23",
       "_height": 550,
       "_width": 1100,
       "header_visible": false,
       "layout": "IPY_MODEL_ac72da1008514829963305f96bdf4a01",
       "resizable": false,
       "toolbar": "IPY_MODEL_bfce9b9713b74401a15137e363d6b2dd",
       "toolbar_position": "left",
       "toolbar_visible": false
      }
     },
     "daabdc816f20454788fa45c594bedd21": {
      "model_module": "@jupyter-widgets/controls",
      "model_module_version": "1.5.0",
      "model_name": "TabModel",
      "state": {
       "_titles": {
        "0": "Global Controls"
       },
       "children": [
        "IPY_MODEL_bf598deab2fc4940b27640e8929a88eb"
       ],
       "layout": "IPY_MODEL_c85ea309d44946adacfea2e605502f91"
      }
     },
     "dad22f304abd446fb5880de1d81399ec": {
      "model_module": "@jupyter-widgets/controls",
      "model_module_version": "1.5.0",
      "model_name": "HBoxModel",
      "state": {
       "children": [
        "IPY_MODEL_efa0cb93bcc04f3b99f48571156be48b",
        "IPY_MODEL_2fc564ac7af44569ae6d3d85f73c5773",
        "IPY_MODEL_682703cfd92e4536babb487e887d902f",
        "IPY_MODEL_e0194f05359649fc9bda81c918bc6a3c"
       ],
       "layout": "IPY_MODEL_ef78b758254c4c308c2c92c755d02a74"
      }
     },
     "db153f6841b646fcb85c8c4db0e35d18": {
      "model_module": "@jupyter-widgets/controls",
      "model_module_version": "1.5.0",
      "model_name": "HBoxModel",
      "state": {
       "children": [
        "IPY_MODEL_3ac26609feb843a99551fe9e938b0f76",
        "IPY_MODEL_417782eefc2647afb39ed73cfecbdf96",
        "IPY_MODEL_993695a61dc64fc7a39c8f92130eaeb9",
        "IPY_MODEL_a88ac64dfb4a48258272bf3ce644b5b2"
       ],
       "layout": "IPY_MODEL_84ce8501cdf1472a85bf7e16a2add276"
      }
     },
     "db33917c240a4a38b1f5c1cd540f892e": {
      "model_module": "@jupyter-widgets/controls",
      "model_module_version": "1.5.0",
      "model_name": "TabModel",
      "state": {
       "_titles": {
        "0": "Global Controls",
        "1": "Compression Controls"
       },
       "children": [
        "IPY_MODEL_5338d4d49b32476fa6288d59f94ffa37",
        "IPY_MODEL_66612ed4930849b7ac77da54354462f5"
       ],
       "layout": "IPY_MODEL_a0628c54faec43649c24f5232c11f272"
      }
     },
     "db862315ac8e41cc9b9e5d1c262a9b9f": {
      "model_module": "@jupyter-widgets/base",
      "model_module_version": "1.2.0",
      "model_name": "LayoutModel",
      "state": {}
     },
     "db86908afbee46e2bea26a298fc4537b": {
      "model_module": "@jupyter-widgets/controls",
      "model_module_version": "1.5.0",
      "model_name": "ButtonStyleModel",
      "state": {}
     },
     "db8c37f838d24ec29bbda3c4ec4798cc": {
      "model_module": "@jupyter-widgets/controls",
      "model_module_version": "1.5.0",
      "model_name": "ButtonModel",
      "state": {
       "description": "Reset Compression Controls",
       "layout": "IPY_MODEL_331ad3b0eb864ece8e960a23371efca2",
       "style": "IPY_MODEL_afb127a6473746c49a100a85edb81ca7"
      }
     },
     "dba6d9ba0d1540dda67b837ec86d69f4": {
      "model_module": "@jupyter-widgets/controls",
      "model_module_version": "1.5.0",
      "model_name": "SliderStyleModel",
      "state": {
       "description_width": ""
      }
     },
     "dbbf906832ec45f9a5ec61f37fea0bdb": {
      "model_module": "@jupyter-widgets/base",
      "model_module_version": "1.2.0",
      "model_name": "LayoutModel",
      "state": {}
     },
     "dbd5cf32d2e6493994a4dce0018b6b96": {
      "model_module": "@jupyter-widgets/controls",
      "model_module_version": "1.5.0",
      "model_name": "ButtonModel",
      "state": {
       "description": "Export Image",
       "layout": "IPY_MODEL_44f54bbbcbb3474bb640b08f6a03d1a5",
       "style": "IPY_MODEL_5015850dbc1b48dbae4667fea11731d1"
      }
     },
     "dc3e6e067a2c41309d0497762e79ae34": {
      "model_module": "@jupyter-widgets/base",
      "model_module_version": "1.2.0",
      "model_name": "LayoutModel",
      "state": {}
     },
     "dc44b18b406447f9a3649be737d68db8": {
      "model_module": "@jupyter-widgets/base",
      "model_module_version": "1.2.0",
      "model_name": "LayoutModel",
      "state": {}
     },
     "dcc188bd6ba04df89f39cd4199f3ebea": {
      "model_module": "@jupyter-widgets/base",
      "model_module_version": "1.2.0",
      "model_name": "LayoutModel",
      "state": {}
     },
     "dce98bb5f9c64ff4857c1a595c5e2e67": {
      "model_module": "@jupyter-widgets/base",
      "model_module_version": "1.2.0",
      "model_name": "LayoutModel",
      "state": {}
     },
     "dce9b82d5f2a46768f33b0790ab451fe": {
      "model_module": "@jupyter-widgets/base",
      "model_module_version": "1.2.0",
      "model_name": "LayoutModel",
      "state": {}
     },
     "dd1fe59363634aeca4a103fa9307602d": {
      "model_module": "@jupyter-widgets/base",
      "model_module_version": "1.2.0",
      "model_name": "LayoutModel",
      "state": {}
     },
     "dd26e2e81f5c43a6bdf6bf44571873d6": {
      "model_module": "@jupyter-widgets/controls",
      "model_module_version": "1.5.0",
      "model_name": "ButtonModel",
      "state": {
       "description": "Reset Protected Area",
       "layout": "IPY_MODEL_d8072c178bb5474bb731a16c1214aeaf",
       "style": "IPY_MODEL_4a5e0f101dff4b88bb8c3bd30d8725fe"
      }
     },
     "ddcef608223440818990bc7cc041470a": {
      "model_module": "@jupyter-widgets/controls",
      "model_module_version": "1.5.0",
      "model_name": "FloatSliderModel",
      "state": {
       "description": "Compression Threshold",
       "layout": "IPY_MODEL_6265116bbaff461fbe2114a48624d18b",
       "max": 1,
       "step": 0.01,
       "style": "IPY_MODEL_5fe1d29ab56b49acbc0aa2c312531bbf",
       "value": 0.8
      }
     },
     "ddfe5b5e1c914dccb8758c82e443423c": {
      "model_module": "@jupyter-widgets/controls",
      "model_module_version": "1.5.0",
      "model_name": "ButtonStyleModel",
      "state": {}
     },
     "de071a814e69475d8bf78fe84d724d72": {
      "model_module": "@jupyter-widgets/controls",
      "model_module_version": "1.5.0",
      "model_name": "FloatSliderModel",
      "state": {
       "description": "45°",
       "layout": "IPY_MODEL_29e86ce6eea442078e9a20a1359d3333",
       "max": 1,
       "min": -1,
       "step": 0.01,
       "style": "IPY_MODEL_bbddd0c07c7747f7a95f0571e1d68dec"
      }
     },
     "de1e9e0a8eed4cff990d0d2c8b24b353": {
      "model_module": "@jupyter-widgets/base",
      "model_module_version": "1.2.0",
      "model_name": "LayoutModel",
      "state": {}
     },
     "de62cb6137494ebeb5fd1bc9bcb2e969": {
      "model_module": "@jupyter-widgets/controls",
      "model_module_version": "1.5.0",
      "model_name": "FloatSliderModel",
      "state": {
       "description": "225°",
       "layout": "IPY_MODEL_04003284cd984b7ab18afc30cf6b6d15",
       "max": 1,
       "min": -1,
       "step": 0.01,
       "style": "IPY_MODEL_48dcbf91c1de499388ab65b41f55e65f"
      }
     },
     "de69cc9789314e83b324561763255560": {
      "model_module": "@jupyter-widgets/base",
      "model_module_version": "1.2.0",
      "model_name": "LayoutModel",
      "state": {}
     },
     "dec6d8e41b244a78881b5d09fe7e38c9": {
      "model_module": "@jupyter-widgets/base",
      "model_module_version": "1.2.0",
      "model_name": "LayoutModel",
      "state": {}
     },
     "def7ff7b1d7a4bceb942faf48d13b064": {
      "model_module": "@jupyter-widgets/controls",
      "model_module_version": "1.5.0",
      "model_name": "HBoxModel",
      "state": {
       "children": [
        "IPY_MODEL_683379bc77e14dc99f1b6a71616d0870",
        "IPY_MODEL_f46e844e596a468aae3e4c0b93ef94ae",
        "IPY_MODEL_2c91dc9d9a7f44969befc275a4c39729"
       ],
       "layout": "IPY_MODEL_4269360cf3cc477b8a4a065fd6f1160e"
      }
     },
     "df5a6a8b8c6f4d508c8ca8d74c4096d2": {
      "model_module": "@jupyter-widgets/controls",
      "model_module_version": "1.5.0",
      "model_name": "FloatSliderModel",
      "state": {
       "description": "315°",
       "layout": "IPY_MODEL_85e260a0fe28413d88cccd53b88d2d31",
       "max": 1,
       "min": -1,
       "step": 0.01,
       "style": "IPY_MODEL_75795b02fce34fbca77c32eae1b2dfd8"
      }
     },
     "df97a2d977e7488392e2a683e0385461": {
      "model_module": "@jupyter-widgets/controls",
      "model_module_version": "1.5.0",
      "model_name": "FloatSliderModel",
      "state": {
       "description": "135°",
       "layout": "IPY_MODEL_db862315ac8e41cc9b9e5d1c262a9b9f",
       "max": 1,
       "min": -1,
       "step": 0.01,
       "style": "IPY_MODEL_7070c0763a4f4639b29abbddcb249435"
      }
     },
     "dfb9d957523f4609848fad5c311a4435": {
      "model_module": "@jupyter-widgets/base",
      "model_module_version": "1.2.0",
      "model_name": "LayoutModel",
      "state": {}
     },
     "dfe6427ec00748a2a96515915d3bcb3e": {
      "model_module": "@jupyter-widgets/base",
      "model_module_version": "1.2.0",
      "model_name": "LayoutModel",
      "state": {}
     },
     "e01160f0cc3744e98966f4600f34cdbb": {
      "model_module": "@jupyter-widgets/base",
      "model_module_version": "1.2.0",
      "model_name": "LayoutModel",
      "state": {}
     },
     "e0194f05359649fc9bda81c918bc6a3c": {
      "model_module": "@jupyter-widgets/controls",
      "model_module_version": "1.5.0",
      "model_name": "VBoxModel",
      "state": {
       "children": [
        "IPY_MODEL_84b3346e142a4fb7ad67923cc4f66bb2",
        "IPY_MODEL_ba6c31af1ee548749b043cdff9d1518c"
       ],
       "layout": "IPY_MODEL_40d92106aedb49869abd87004cbcd0bc"
      }
     },
     "e068bd0e1dab483ba8099f50b8a2b4bd": {
      "model_module": "@jupyter-widgets/base",
      "model_module_version": "1.2.0",
      "model_name": "LayoutModel",
      "state": {}
     },
     "e0a4a47a1abd495387c116612d456d5d": {
      "model_module": "@jupyter-widgets/base",
      "model_module_version": "1.2.0",
      "model_name": "LayoutModel",
      "state": {}
     },
     "e0d45feae79b4f16b09e2fc8d301fb70": {
      "model_module": "@jupyter-widgets/base",
      "model_module_version": "1.2.0",
      "model_name": "LayoutModel",
      "state": {
       "border": "solid 4px #222",
       "margin": "4px",
       "padding": "0"
      }
     },
     "e1251c8b06b54d5f8d95c74b992b2205": {
      "model_module": "@jupyter-widgets/controls",
      "model_module_version": "1.5.0",
      "model_name": "HBoxModel",
      "state": {
       "children": [
        "IPY_MODEL_4ec558b1f2824ff99bfd09806244e04f",
        "IPY_MODEL_f0829e1beede438c9723e60fa68ce185",
        "IPY_MODEL_41d281c36e1441d9a8b51a34d50a2c2d",
        "IPY_MODEL_7fcf776d0dcd4a92a6583fa27f5dd7f7"
       ],
       "layout": "IPY_MODEL_c322e629943249bf8df30d8d0709400f"
      }
     },
     "e172912c208d4eba89ebfa2d83912847": {
      "model_module": "@jupyter-widgets/output",
      "model_module_version": "1.0.0",
      "model_name": "OutputModel",
      "state": {
       "layout": "IPY_MODEL_af50b595e2c540afa7473bd551f1546d",
       "outputs": [
        {
         "data": {
          "application/vnd.jupyter.widget-view+json": {
           "model_id": "f88caf9b4ec54f47afc94fba11bae90d",
           "version_major": 2,
           "version_minor": 0
          },
          "text/plain": "Canvas(toolbar=Toolbar(toolitems=[('Home', 'Reset original view', 'home', 'home'), ('Back', 'Back to previous …"
         },
         "metadata": {},
         "output_type": "display_data"
        }
       ]
      }
     },
     "e1ad337cb50d4747a88ff4e0987d9134": {
      "model_module": "@jupyter-widgets/controls",
      "model_module_version": "1.5.0",
      "model_name": "FloatSliderModel",
      "state": {
       "description": "0°",
       "layout": "IPY_MODEL_95d1dabf6a7d405bb47ec2eb1faae921",
       "max": 1,
       "min": -1,
       "step": 0.01,
       "style": "IPY_MODEL_5d966bd0ee3c45c5bfab90ee911453bd"
      }
     },
     "e22a620a08a64560805f7d537f1e9db0": {
      "model_module": "@jupyter-widgets/base",
      "model_module_version": "1.2.0",
      "model_name": "LayoutModel",
      "state": {}
     },
     "e351d367f69f453a945fd70235bcb7dd": {
      "model_module": "@jupyter-widgets/controls",
      "model_module_version": "1.5.0",
      "model_name": "ButtonStyleModel",
      "state": {}
     },
     "e36aa7cf6ddf42f586b7cda59ec97b29": {
      "model_module": "@jupyter-widgets/base",
      "model_module_version": "1.2.0",
      "model_name": "LayoutModel",
      "state": {
       "border": "solid 4px #222",
       "margin": "4px",
       "padding": "0"
      }
     },
     "e37c597860da4fa481122dcb4f6b962c": {
      "model_module": "@jupyter-widgets/controls",
      "model_module_version": "1.5.0",
      "model_name": "ButtonStyleModel",
      "state": {}
     },
     "e3ee51eefd6b408694edfc6a9514e7b6": {
      "model_module": "@jupyter-widgets/output",
      "model_module_version": "1.0.0",
      "model_name": "OutputModel",
      "state": {
       "layout": "IPY_MODEL_2fa80f740f8848f3be513063dfe1a4f9",
       "outputs": [
        {
         "data": {
          "application/vnd.jupyter.widget-view+json": {
           "model_id": "9f521534b92d4db7931df83058887891",
           "version_major": 2,
           "version_minor": 0
          },
          "text/plain": "Canvas(toolbar=Toolbar(toolitems=[('Home', 'Reset original view', 'home', 'home'), ('Back', 'Back to previous …"
         },
         "metadata": {},
         "output_type": "display_data"
        }
       ]
      }
     },
     "e3f6fca2355e4e44aded4dd21a54f2c5": {
      "model_module": "@jupyter-widgets/controls",
      "model_module_version": "1.5.0",
      "model_name": "SliderStyleModel",
      "state": {
       "description_width": ""
      }
     },
     "e4229902d3d54006919893698cf0b864": {
      "model_module": "@jupyter-widgets/controls",
      "model_module_version": "1.5.0",
      "model_name": "HBoxModel",
      "state": {
       "children": [
        "IPY_MODEL_7d8cba2e80a04f229516c70116f4db42",
        "IPY_MODEL_4e90be6fbc9446138df3dd432a3562be",
        "IPY_MODEL_317c473b16794a848494f712d6e49867"
       ],
       "layout": "IPY_MODEL_ab53aff5ca014614ba9a29b7da17fbd5"
      }
     },
     "e439b0d0445541e68ccf5ae2ee6c2b83": {
      "model_module": "@jupyter-widgets/base",
      "model_module_version": "1.2.0",
      "model_name": "LayoutModel",
      "state": {}
     },
     "e450ba661bad4de484a9782f452c3531": {
      "model_module": "@jupyter-widgets/controls",
      "model_module_version": "1.5.0",
      "model_name": "DescriptionStyleModel",
      "state": {
       "description_width": ""
      }
     },
     "e45af82534a048ffbcf12142d7bf87d9": {
      "model_module": "@jupyter-widgets/controls",
      "model_module_version": "1.5.0",
      "model_name": "ButtonStyleModel",
      "state": {}
     },
     "e477ec68b746425a860eec32473b1f25": {
      "model_module": "@jupyter-widgets/base",
      "model_module_version": "1.2.0",
      "model_name": "LayoutModel",
      "state": {}
     },
     "e4e4ac31570f4aa68b94c26533758245": {
      "model_module": "jupyter-matplotlib",
      "model_module_version": "^0.7.2",
      "model_name": "MPLCanvasModel",
      "state": {
       "_figure_label": "Figure 7",
       "_height": 508,
       "_image_mode": "diff",
       "_message": "x=75.374       y=122.36       [0.135, 0.0558, 0.332]",
       "_width": 1100,
       "header_visible": false,
       "layout": "IPY_MODEL_5d825cb07ced443b94b45c3a314d6c93",
       "resizable": false,
       "toolbar": "IPY_MODEL_19fd7e15ef4a45b0b0e47c0a27e42098",
       "toolbar_position": "left",
       "toolbar_visible": false
      }
     },
     "e541dca58b0b4dc4853c36ca26fd7a7d": {
      "model_module": "@jupyter-widgets/controls",
      "model_module_version": "1.5.0",
      "model_name": "SliderStyleModel",
      "state": {
       "description_width": ""
      }
     },
     "e576be6ad1844228afbb1427a760ef26": {
      "model_module": "@jupyter-widgets/base",
      "model_module_version": "1.2.0",
      "model_name": "LayoutModel",
      "state": {}
     },
     "e59fc43f412b46c29e77f89cf76b270b": {
      "model_module": "@jupyter-widgets/controls",
      "model_module_version": "1.5.0",
      "model_name": "HBoxModel",
      "state": {
       "children": [
        "IPY_MODEL_cd0634c0fc5f40b49e8a64a062c74875",
        "IPY_MODEL_3257d3c45a124dd58d7f52084283376b"
       ],
       "layout": "IPY_MODEL_003e7f6942d341cfa29ab5a084246740"
      }
     },
     "e5a35aafa5f74d84aca9b960a13a9d66": {
      "model_module": "@jupyter-widgets/base",
      "model_module_version": "1.2.0",
      "model_name": "LayoutModel",
      "state": {}
     },
     "e5e9cd6913274539b7bcdb0503fbe771": {
      "model_module": "@jupyter-widgets/controls",
      "model_module_version": "1.5.0",
      "model_name": "SliderStyleModel",
      "state": {
       "description_width": ""
      }
     },
     "e64a4a1befce4249977180ee880e2353": {
      "model_module": "jupyter-matplotlib",
      "model_module_version": "^0.7.2",
      "model_name": "MPLCanvasModel",
      "state": {
       "_figure_label": "Figure 12",
       "_height": 550,
       "_width": 1100,
       "header_visible": false,
       "layout": "IPY_MODEL_b0dddadbe5d44a7aadf4f4bbab861adf",
       "resizable": false,
       "toolbar": "IPY_MODEL_417a8cc0788441c09d800578f9bc204b",
       "toolbar_position": "left",
       "toolbar_visible": false
      }
     },
     "e65f81a05db1497189800be73879103a": {
      "model_module": "@jupyter-widgets/base",
      "model_module_version": "1.2.0",
      "model_name": "LayoutModel",
      "state": {}
     },
     "e6611d83c9614e8d9a63c35d312ba9ec": {
      "model_module": "@jupyter-widgets/base",
      "model_module_version": "1.2.0",
      "model_name": "LayoutModel",
      "state": {}
     },
     "e6703e3f9dc44dc5bbace3c4e9a1303a": {
      "model_module": "@jupyter-widgets/base",
      "model_module_version": "1.2.0",
      "model_name": "LayoutModel",
      "state": {}
     },
     "e67cf50d19954a3793be6e1ae558accd": {
      "model_module": "@jupyter-widgets/base",
      "model_module_version": "1.2.0",
      "model_name": "LayoutModel",
      "state": {}
     },
     "e69b0716195245ed99c219d5b2effad2": {
      "model_module": "@jupyter-widgets/output",
      "model_module_version": "1.0.0",
      "model_name": "OutputModel",
      "state": {
       "layout": "IPY_MODEL_c08a204243264307b80350f73521424e",
       "outputs": [
        {
         "data": {
          "application/vnd.jupyter.widget-view+json": {
           "model_id": "d140bf2c10a84c9dbd83de3e2c5417bf",
           "version_major": 2,
           "version_minor": 0
          },
          "text/plain": "Canvas(toolbar=Toolbar(toolitems=[('Home', 'Reset original view', 'home', 'home'), ('Back', 'Back to previous …"
         },
         "metadata": {},
         "output_type": "display_data"
        }
       ]
      }
     },
     "e6a5c1ebc0e748a6b0e9007ab63b73b1": {
      "model_module": "@jupyter-widgets/controls",
      "model_module_version": "1.5.0",
      "model_name": "DropdownModel",
      "state": {
       "_options_labels": [
        "tanh",
        "simple"
       ],
       "description": "Compression Function:",
       "index": 0,
       "layout": "IPY_MODEL_845eb6d8e9c74919a8fdbcea4e16ea6a",
       "style": "IPY_MODEL_7f08c2be95e14eeab69e282a0d35f98a"
      }
     },
     "e6d5dbd473ae44258850aa0c4daca57d": {
      "model_module": "@jupyter-widgets/controls",
      "model_module_version": "1.5.0",
      "model_name": "CheckboxModel",
      "state": {
       "description": "Disable Medicina",
       "disabled": false,
       "layout": "IPY_MODEL_3af2a92efae6447a82ee698c96c93a01",
       "style": "IPY_MODEL_b657444b2c60478dac68b80966e8c40d",
       "value": false
      }
     },
     "e6f7626aa10f4793ac885ace54797dff": {
      "model_module": "@jupyter-widgets/base",
      "model_module_version": "1.2.0",
      "model_name": "LayoutModel",
      "state": {}
     },
     "e71cd395e2cd497aa7aafd770988102c": {
      "model_module": "@jupyter-widgets/base",
      "model_module_version": "1.2.0",
      "model_name": "LayoutModel",
      "state": {}
     },
     "e74b9be689644f17a95c39cc365a60ee": {
      "model_module": "@jupyter-widgets/base",
      "model_module_version": "1.2.0",
      "model_name": "LayoutModel",
      "state": {}
     },
     "e76ce9b97f5046a797300a4a6536cf44": {
      "model_module": "@jupyter-widgets/controls",
      "model_module_version": "1.5.0",
      "model_name": "FloatSliderModel",
      "state": {
       "description": "315°",
       "layout": "IPY_MODEL_d736c388d61b479589b0871f8dbbdefa",
       "max": 1,
       "min": -1,
       "step": 0.01,
       "style": "IPY_MODEL_38a82800c32346deb8ab1dc49b76e56b"
      }
     },
     "e797f0ac01b945df9197d032f4829b62": {
      "model_module": "jupyter-matplotlib",
      "model_module_version": "^0.7.2",
      "model_name": "ToolbarModel",
      "state": {
       "layout": "IPY_MODEL_19e3d6e4e8134471a5b576802f752eab",
       "toolitems": [
        [
         "Home",
         "Reset original view",
         "home",
         "home"
        ],
        [
         "Back",
         "Back to previous view",
         "arrow-left",
         "back"
        ],
        [
         "Forward",
         "Forward to next view",
         "arrow-right",
         "forward"
        ],
        [
         "Pan",
         "Pan axes with left mouse, zoom with right",
         "arrows",
         "pan"
        ],
        [
         "Zoom",
         "Zoom to rectangle",
         "square-o",
         "zoom"
        ],
        [
         "Download",
         "Download plot",
         "floppy-o",
         "save_figure"
        ]
       ]
      }
     },
     "e7de02cfca884d3ea1daba8efd580938": {
      "model_module": "@jupyter-widgets/controls",
      "model_module_version": "1.5.0",
      "model_name": "FloatSliderModel",
      "state": {
       "description": "45°",
       "layout": "IPY_MODEL_d98d2364ab3a43449566b7595358bd46",
       "max": 1,
       "min": -1,
       "step": 0.01,
       "style": "IPY_MODEL_a11a1095f8b74d00af87a7db5f767110"
      }
     },
     "e85ac84a27bd4844a05d4f9c96cbd26e": {
      "model_module": "@jupyter-widgets/controls",
      "model_module_version": "1.5.0",
      "model_name": "ButtonStyleModel",
      "state": {}
     },
     "e87b8cf03dc0439085d66d98b4a8d61d": {
      "model_module": "@jupyter-widgets/controls",
      "model_module_version": "1.5.0",
      "model_name": "SliderStyleModel",
      "state": {
       "description_width": ""
      }
     },
     "e8809bf4707e4310bab35bf35d142daa": {
      "model_module": "@jupyter-widgets/base",
      "model_module_version": "1.2.0",
      "model_name": "LayoutModel",
      "state": {}
     },
     "e9b51d00373943d88efd5a0a2d5bf72e": {
      "model_module": "@jupyter-widgets/base",
      "model_module_version": "1.2.0",
      "model_name": "LayoutModel",
      "state": {}
     },
     "e9c2fe4d551b4e30aac2c5d7e4e2a1b4": {
      "model_module": "@jupyter-widgets/base",
      "model_module_version": "1.2.0",
      "model_name": "LayoutModel",
      "state": {}
     },
     "e9e5885a7864420ba5ab1490b7f12455": {
      "model_module": "@jupyter-widgets/base",
      "model_module_version": "1.2.0",
      "model_name": "LayoutModel",
      "state": {}
     },
     "ea2fe61342324e8ebf7f91830adc0131": {
      "model_module": "@jupyter-widgets/base",
      "model_module_version": "1.2.0",
      "model_name": "LayoutModel",
      "state": {
       "align_items": "stretch",
       "display": "flex",
       "flex_flow": "column",
       "width": "1128px"
      }
     },
     "ea51ea90d9d84388ab48f0cc790f57d1": {
      "model_module": "@jupyter-widgets/base",
      "model_module_version": "1.2.0",
      "model_name": "LayoutModel",
      "state": {}
     },
     "ea7cc7fb2fb84ef9be7d3929a232bc26": {
      "model_module": "@jupyter-widgets/base",
      "model_module_version": "1.2.0",
      "model_name": "LayoutModel",
      "state": {}
     },
     "eaa17ea6dbb7470c9fbf3cedd4526e9a": {
      "model_module": "@jupyter-widgets/base",
      "model_module_version": "1.2.0",
      "model_name": "LayoutModel",
      "state": {
       "border": "solid 4px #222",
       "margin": "4px",
       "padding": "0"
      }
     },
     "eae1dedb96c146db8baa6e49c67d0c61": {
      "model_module": "jupyter-matplotlib",
      "model_module_version": "^0.7.2",
      "model_name": "MPLCanvasModel",
      "state": {
       "_figure_label": "Figure 25",
       "_height": 550,
       "_width": 1100,
       "header_visible": false,
       "layout": "IPY_MODEL_1933a8b55536423da075d267c12bc650",
       "resizable": false,
       "toolbar": "IPY_MODEL_08be3fbc885d461f971b7614a57c4862",
       "toolbar_position": "left",
       "toolbar_visible": false
      }
     },
     "eaeeb531f726455080e7004772bef551": {
      "model_module": "@jupyter-widgets/controls",
      "model_module_version": "1.5.0",
      "model_name": "ButtonModel",
      "state": {
       "description": "Reset Protected Area",
       "layout": "IPY_MODEL_a7a8bebdc85847928317ab0072b70ada",
       "style": "IPY_MODEL_b69b680eb7544a03950b5385d233a4b9"
      }
     },
     "eb9a8eab9407474995e35eb7d7820a87": {
      "model_module": "@jupyter-widgets/output",
      "model_module_version": "1.0.0",
      "model_name": "OutputModel",
      "state": {
       "layout": "IPY_MODEL_1e3c08891192460f84e9e8440172f05b",
       "outputs": [
        {
         "data": {
          "application/vnd.jupyter.widget-view+json": {
           "model_id": "b6ce34ae677d4f8e90498bfbe58b769c",
           "version_major": 2,
           "version_minor": 0
          },
          "text/plain": "Canvas(toolbar=Toolbar(toolitems=[('Home', 'Reset original view', 'home', 'home'), ('Back', 'Back to previous …"
         },
         "metadata": {},
         "output_type": "display_data"
        }
       ]
      }
     },
     "ec58b66659da4906b380237fdc35f95f": {
      "model_module": "@jupyter-widgets/controls",
      "model_module_version": "1.5.0",
      "model_name": "HBoxModel",
      "state": {
       "children": [
        "IPY_MODEL_b3b73496938c4959be585465d0f56fe9",
        "IPY_MODEL_058e00eecc5c4427be568ab6d83a54f6",
        "IPY_MODEL_97ea78f4141b4b009bad334ddba6fe11",
        "IPY_MODEL_f35af68d6e9d43a69647e4b991047f45"
       ],
       "layout": "IPY_MODEL_a58958f106774ba7a43fbef8424422ab"
      }
     },
     "ec7831ac416e4d868578d03759991384": {
      "model_module": "@jupyter-widgets/base",
      "model_module_version": "1.2.0",
      "model_name": "LayoutModel",
      "state": {}
     },
     "ec8e4d07be254452aca7fe44fa3f9fbe": {
      "model_module": "@jupyter-widgets/controls",
      "model_module_version": "1.5.0",
      "model_name": "DescriptionStyleModel",
      "state": {
       "description_width": ""
      }
     },
     "ecb89e62b7be495d9c78fd0868bda931": {
      "model_module": "@jupyter-widgets/controls",
      "model_module_version": "1.5.0",
      "model_name": "FloatSliderModel",
      "state": {
       "description": "0°",
       "layout": "IPY_MODEL_0d02c3a9882141f1b5c79308695b9758",
       "max": 1,
       "min": -1,
       "step": 0.01,
       "style": "IPY_MODEL_af8174d68e4b4c5cadd43e776170d86a"
      }
     },
     "ecc3eaf481414f41a0b894ceb3d4a8a6": {
      "model_module": "jupyter-matplotlib",
      "model_module_version": "^0.7.2",
      "model_name": "MPLCanvasModel",
      "state": {
       "_figure_label": "Figure 22",
       "_height": 550,
       "_width": 1100,
       "header_visible": false,
       "layout": "IPY_MODEL_9d43e3448d63414ebbaea968555439d3",
       "resizable": false,
       "toolbar": "IPY_MODEL_5baf03a2e5e847f7b1300af6d3e61a64",
       "toolbar_position": "left",
       "toolbar_visible": false
      }
     },
     "ece17870d315458cb676719006eb9b63": {
      "model_module": "@jupyter-widgets/base",
      "model_module_version": "1.2.0",
      "model_name": "LayoutModel",
      "state": {}
     },
     "ed00d120ac0747579f4f5e2165301c43": {
      "model_module": "@jupyter-widgets/base",
      "model_module_version": "1.2.0",
      "model_name": "LayoutModel",
      "state": {}
     },
     "ed2c9d7be01f42aab8c960734e76510f": {
      "model_module": "@jupyter-widgets/controls",
      "model_module_version": "1.5.0",
      "model_name": "ButtonModel",
      "state": {
       "description": "Reset Hue Controls",
       "layout": "IPY_MODEL_3061abaadb4143b4abd01ef2ee0d30cb",
       "style": "IPY_MODEL_5b96c6c0aa9347cba37a80eb0d5e19f4"
      }
     },
     "ed8ad82dc6d545e9a82a578a93a51f2a": {
      "model_module": "@jupyter-widgets/controls",
      "model_module_version": "1.5.0",
      "model_name": "HBoxModel",
      "state": {
       "children": [
        "IPY_MODEL_db8c37f838d24ec29bbda3c4ec4798cc",
        "IPY_MODEL_6c4b30f49ffa430da2d40d388e0ec84c",
        "IPY_MODEL_abd29b58b6264f059923ca6b22502a2e"
       ],
       "layout": "IPY_MODEL_b0f0109bb3f347868aab2a5ca8fbd8ea"
      }
     },
     "ee575720ff284187b6d864cc1458130a": {
      "model_module": "@jupyter-widgets/controls",
      "model_module_version": "1.5.0",
      "model_name": "CheckboxModel",
      "state": {
       "description": "Disable Medicina",
       "disabled": false,
       "layout": "IPY_MODEL_dc3e6e067a2c41309d0497762e79ae34",
       "style": "IPY_MODEL_2725488b450045498de73d4ef59c1a35",
       "value": false
      }
     },
     "ee5ec80498a44eed907aa1b14047e9e4": {
      "model_module": "@jupyter-widgets/controls",
      "model_module_version": "1.5.0",
      "model_name": "SliderStyleModel",
      "state": {
       "description_width": ""
      }
     },
     "ef1beb117c4341c6bfacf54486556d86": {
      "model_module": "@jupyter-widgets/controls",
      "model_module_version": "1.5.0",
      "model_name": "BoxModel",
      "state": {
       "children": [
        "IPY_MODEL_b945874ce3f84d13bcdf0466660e7b32",
        "IPY_MODEL_daabdc816f20454788fa45c594bedd21"
       ],
       "layout": "IPY_MODEL_f33cc7a0fb58437c9da42c10e71ddbd6"
      }
     },
     "ef40b88682294f45af8ae97d608f506d": {
      "model_module": "@jupyter-widgets/base",
      "model_module_version": "1.2.0",
      "model_name": "LayoutModel",
      "state": {}
     },
     "ef60c24eacde445588a50f126a8e9e39": {
      "model_module": "@jupyter-widgets/base",
      "model_module_version": "1.2.0",
      "model_name": "LayoutModel",
      "state": {
       "border": "solid 4px #222",
       "margin": "4px",
       "padding": "0"
      }
     },
     "ef78b758254c4c308c2c92c755d02a74": {
      "model_module": "@jupyter-widgets/base",
      "model_module_version": "1.2.0",
      "model_name": "LayoutModel",
      "state": {}
     },
     "ef900e9dc56a4cc89c070306a90de21d": {
      "model_module": "@jupyter-widgets/controls",
      "model_module_version": "1.5.0",
      "model_name": "VBoxModel",
      "state": {
       "children": [
        "IPY_MODEL_51df61cc2a8c4f688d8b0691719801f2",
        "IPY_MODEL_a683e48fd5844fdb8341a5824c21a012",
        "IPY_MODEL_30bc371be1d64bfaa6e286581cd47c21"
       ],
       "layout": "IPY_MODEL_d92bbf98bfd4426e8784f0b9f62ce746"
      }
     },
     "efa0cb93bcc04f3b99f48571156be48b": {
      "model_module": "@jupyter-widgets/controls",
      "model_module_version": "1.5.0",
      "model_name": "VBoxModel",
      "state": {
       "children": [
        "IPY_MODEL_24dd4cb85bfc4cce82340e0c0e94e598"
       ],
       "layout": "IPY_MODEL_433f7ca6138e4de4bda90f987a44ff9d"
      }
     },
     "efae4dc136454d35b13e178c51413c11": {
      "model_module": "@jupyter-widgets/controls",
      "model_module_version": "1.5.0",
      "model_name": "FloatSliderModel",
      "state": {
       "description": "Compression Threshold",
       "layout": "IPY_MODEL_8118bd3bb3d04b1c877774a058bcd7bf",
       "max": 1,
       "step": 0.01,
       "style": "IPY_MODEL_7c13049af6ab40558a735a82f5c65197",
       "value": 0.8
      }
     },
     "efc8bdae703b49199198021a5f3725cb": {
      "model_module": "@jupyter-widgets/base",
      "model_module_version": "1.2.0",
      "model_name": "LayoutModel",
      "state": {}
     },
     "f0072d86227342b787309d5f8ade64b5": {
      "model_module": "@jupyter-widgets/base",
      "model_module_version": "1.2.0",
      "model_name": "LayoutModel",
      "state": {
       "border": "solid 4px #222",
       "margin": "4px",
       "padding": "0"
      }
     },
     "f007f2cda9ed4484a5fd9eefa4829112": {
      "model_module": "@jupyter-widgets/controls",
      "model_module_version": "1.5.0",
      "model_name": "ButtonModel",
      "state": {
       "description": "Export Image",
       "layout": "IPY_MODEL_0dedabf802a14684af58ea8b8cb2c41a",
       "style": "IPY_MODEL_34e9b1abe8e8433cba4aea74513bec05"
      }
     },
     "f02edea7aca945e69630fd30535a5ce0": {
      "model_module": "@jupyter-widgets/base",
      "model_module_version": "1.2.0",
      "model_name": "LayoutModel",
      "state": {}
     },
     "f0829e1beede438c9723e60fa68ce185": {
      "model_module": "@jupyter-widgets/controls",
      "model_module_version": "1.5.0",
      "model_name": "ButtonModel",
      "state": {
       "description": "Export Image",
       "layout": "IPY_MODEL_474a8c7fa3fd40e9b3a81a77f1cf4cb9",
       "style": "IPY_MODEL_165942b53cac4aa4837cf36495b42d16"
      }
     },
     "f0a0a98a520f403295658c17e0f00fa3": {
      "model_module": "@jupyter-widgets/controls",
      "model_module_version": "1.5.0",
      "model_name": "HBoxModel",
      "state": {
       "children": [
        "IPY_MODEL_53732ea91eaf4bd9af210e2a032cb561",
        "IPY_MODEL_5152cd0d8b8f4177925df3ac02c688ab",
        "IPY_MODEL_bd86f7d204b846ffb2fffcf5f1317925",
        "IPY_MODEL_5d0eea1dd38c4c1f9f2581029ff1bb57"
       ],
       "layout": "IPY_MODEL_60444ec56f8d4b26968eb4e0e108a5ee"
      }
     },
     "f0d23f2d5a084a2fbc458a2d6a3e8537": {
      "model_module": "@jupyter-widgets/base",
      "model_module_version": "1.2.0",
      "model_name": "LayoutModel",
      "state": {}
     },
     "f100d3e977044158becee708828e2ab4": {
      "model_module": "@jupyter-widgets/base",
      "model_module_version": "1.2.0",
      "model_name": "LayoutModel",
      "state": {}
     },
     "f132ed35ab3f49fda31eb2235c27a7ff": {
      "model_module": "@jupyter-widgets/base",
      "model_module_version": "1.2.0",
      "model_name": "LayoutModel",
      "state": {}
     },
     "f147930db2ce45f5b018c43c1899e722": {
      "model_module": "@jupyter-widgets/controls",
      "model_module_version": "1.5.0",
      "model_name": "CheckboxModel",
      "state": {
       "description": "Disable Medicina",
       "disabled": false,
       "layout": "IPY_MODEL_e5a35aafa5f74d84aca9b960a13a9d66",
       "style": "IPY_MODEL_2c5a9fe2b5f4442c9d47509a5d4f992a",
       "value": false
      }
     },
     "f15ac83b015d4b129320ed9a38110178": {
      "model_module": "jupyter-matplotlib",
      "model_module_version": "^0.7.2",
      "model_name": "ToolbarModel",
      "state": {
       "layout": "IPY_MODEL_f918e49a11f94422b5221effcffde699",
       "toolitems": [
        [
         "Home",
         "Reset original view",
         "home",
         "home"
        ],
        [
         "Back",
         "Back to previous view",
         "arrow-left",
         "back"
        ],
        [
         "Forward",
         "Forward to next view",
         "arrow-right",
         "forward"
        ],
        [
         "Pan",
         "Pan axes with left mouse, zoom with right",
         "arrows",
         "pan"
        ],
        [
         "Zoom",
         "Zoom to rectangle",
         "square-o",
         "zoom"
        ],
        [
         "Download",
         "Download plot",
         "floppy-o",
         "save_figure"
        ]
       ]
      }
     },
     "f19699e2cec64d4f8999f752754cdcff": {
      "model_module": "@jupyter-widgets/base",
      "model_module_version": "1.2.0",
      "model_name": "LayoutModel",
      "state": {}
     },
     "f1b9f1a9001e4f53bcfc3e828984493c": {
      "model_module": "@jupyter-widgets/controls",
      "model_module_version": "1.5.0",
      "model_name": "FloatSliderModel",
      "state": {
       "description": "Protected Area Threshold",
       "layout": "IPY_MODEL_ed00d120ac0747579f4f5e2165301c43",
       "max": 1,
       "step": 0.01,
       "style": "IPY_MODEL_92c2629d7fda4439a58fabd990f08b37",
       "value": 0.7
      }
     },
     "f1bc4a695644487cb1302a0472f57bb4": {
      "model_module": "@jupyter-widgets/controls",
      "model_module_version": "1.5.0",
      "model_name": "DropdownModel",
      "state": {
       "_options_labels": [
        "tanh",
        "simple"
       ],
       "description": "Compression Function:",
       "index": 0,
       "layout": "IPY_MODEL_82b365b8bfa24ae1871e76283c666f7b",
       "style": "IPY_MODEL_6a38393bb31b45519556fb166a1928d9"
      }
     },
     "f212254a16d84369b07b00f95b4d47b1": {
      "model_module": "@jupyter-widgets/controls",
      "model_module_version": "1.5.0",
      "model_name": "SliderStyleModel",
      "state": {
       "description_width": ""
      }
     },
     "f238b99faa4f442b844e2622af693a46": {
      "model_module": "@jupyter-widgets/controls",
      "model_module_version": "1.5.0",
      "model_name": "SliderStyleModel",
      "state": {
       "description_width": ""
      }
     },
     "f2722583fc5d40bbb3304407392e0405": {
      "model_module": "@jupyter-widgets/controls",
      "model_module_version": "1.5.0",
      "model_name": "SliderStyleModel",
      "state": {
       "description_width": ""
      }
     },
     "f2a6b9f9bdf3487ea7873191cbf8d91e": {
      "model_module": "@jupyter-widgets/base",
      "model_module_version": "1.2.0",
      "model_name": "LayoutModel",
      "state": {}
     },
     "f2f8d4d0f96a4a7bbc5d4896edc6d5dd": {
      "model_module": "@jupyter-widgets/controls",
      "model_module_version": "1.5.0",
      "model_name": "HBoxModel",
      "state": {
       "children": [
        "IPY_MODEL_63809dec16fc4fcba72bbb7b81fcc3f1",
        "IPY_MODEL_9e172e7ae1a14f879b84f13d72d5f34c",
        "IPY_MODEL_7e602691ae2f441994e692c20bb1258a",
        "IPY_MODEL_cf024b9879884ce2bb6da6dfb8db2d8a"
       ],
       "layout": "IPY_MODEL_f19699e2cec64d4f8999f752754cdcff"
      }
     },
     "f33cc7a0fb58437c9da42c10e71ddbd6": {
      "model_module": "@jupyter-widgets/base",
      "model_module_version": "1.2.0",
      "model_name": "LayoutModel",
      "state": {
       "align_items": "stretch",
       "display": "flex",
       "flex_flow": "column",
       "width": "1128px"
      }
     },
     "f33d5c05597a40cba9f5517dfc3903fe": {
      "model_module": "@jupyter-widgets/controls",
      "model_module_version": "1.5.0",
      "model_name": "BoxModel",
      "state": {
       "children": [
        "IPY_MODEL_3f995b7f50ff4a059433f37596033054",
        "IPY_MODEL_f7630d7dc69342beaab85626b0c038ce"
       ],
       "layout": "IPY_MODEL_f7b44f5384b04268af6300a81c50da83"
      }
     },
     "f35389217d3c4304a994b5bf32bf8925": {
      "model_module": "@jupyter-widgets/controls",
      "model_module_version": "1.5.0",
      "model_name": "ButtonModel",
      "state": {
       "description": "Reset Protected Area",
       "layout": "IPY_MODEL_10d8665d64eb42aa81d1c778cce894d2",
       "style": "IPY_MODEL_100a33919d25443cbed63c1542d3d72f"
      }
     },
     "f35af68d6e9d43a69647e4b991047f45": {
      "model_module": "@jupyter-widgets/controls",
      "model_module_version": "1.5.0",
      "model_name": "FloatSliderModel",
      "state": {
       "description": "Exposure",
       "layout": "IPY_MODEL_6eb1f430fb7e476790fdc85226b1e5e4",
       "max": 8,
       "min": -8,
       "step": 0.1,
       "style": "IPY_MODEL_d931c57f8c204d1fa0f6952c150ec013"
      }
     },
     "f3932b3ff62e487ca7f80d705d6985f8": {
      "model_module": "@jupyter-widgets/base",
      "model_module_version": "1.2.0",
      "model_name": "LayoutModel",
      "state": {
       "border": "solid 4px #222",
       "margin": "4px",
       "padding": "0"
      }
     },
     "f3a450c4d32e400ebdef34af5453ad9e": {
      "model_module": "@jupyter-widgets/controls",
      "model_module_version": "1.5.0",
      "model_name": "SliderStyleModel",
      "state": {
       "description_width": ""
      }
     },
     "f3c697f86d5f4bca851ec3fb9d86b5e2": {
      "model_module": "@jupyter-widgets/controls",
      "model_module_version": "1.5.0",
      "model_name": "CheckboxModel",
      "state": {
       "description": "Disable Medicina",
       "disabled": false,
       "layout": "IPY_MODEL_18f432a7068c46f2b03a8ef3c0b2ac7d",
       "style": "IPY_MODEL_13d8ebf5b51841cabaa93897813f5cb9",
       "value": false
      }
     },
     "f3f2e306d3104f55a27d1b8a31972901": {
      "model_module": "@jupyter-widgets/controls",
      "model_module_version": "1.5.0",
      "model_name": "SliderStyleModel",
      "state": {
       "description_width": ""
      }
     },
     "f422d994a36d4d779c78f2b41a80afaf": {
      "model_module": "@jupyter-widgets/controls",
      "model_module_version": "1.5.0",
      "model_name": "VBoxModel",
      "state": {
       "children": [
        "IPY_MODEL_0c24398932bb4b9fb93e6a3f3687c5ab",
        "IPY_MODEL_97377548e8254b9db799ed6439a24907"
       ],
       "layout": "IPY_MODEL_f02edea7aca945e69630fd30535a5ce0"
      }
     },
     "f42db9369ec14661a7f5553db0fedf08": {
      "model_module": "jupyter-matplotlib",
      "model_module_version": "^0.7.2",
      "model_name": "ToolbarModel",
      "state": {
       "layout": "IPY_MODEL_ff4389a6c5d6403bb401a07867a8e304",
       "toolitems": [
        [
         "Home",
         "Reset original view",
         "home",
         "home"
        ],
        [
         "Back",
         "Back to previous view",
         "arrow-left",
         "back"
        ],
        [
         "Forward",
         "Forward to next view",
         "arrow-right",
         "forward"
        ],
        [
         "Pan",
         "Pan axes with left mouse, zoom with right",
         "arrows",
         "pan"
        ],
        [
         "Zoom",
         "Zoom to rectangle",
         "square-o",
         "zoom"
        ],
        [
         "Download",
         "Download plot",
         "floppy-o",
         "save_figure"
        ]
       ]
      }
     },
     "f467534294ed4d8e9515cb66e30e5356": {
      "model_module": "@jupyter-widgets/base",
      "model_module_version": "1.2.0",
      "model_name": "LayoutModel",
      "state": {}
     },
     "f46e844e596a468aae3e4c0b93ef94ae": {
      "model_module": "@jupyter-widgets/controls",
      "model_module_version": "1.5.0",
      "model_name": "DropdownModel",
      "state": {
       "_options_labels": [
        "tanh",
        "simple"
       ],
       "description": "Compression Function:",
       "index": 0,
       "layout": "IPY_MODEL_ea7cc7fb2fb84ef9be7d3929a232bc26",
       "style": "IPY_MODEL_26dc9724c70648e1bc437c0dcf534d69"
      }
     },
     "f4c7adbfaf1c432b800034ab4eea3735": {
      "model_module": "@jupyter-widgets/controls",
      "model_module_version": "1.5.0",
      "model_name": "DescriptionStyleModel",
      "state": {
       "description_width": ""
      }
     },
     "f519b04370144c31a13d0d7c14f655d7": {
      "model_module": "@jupyter-widgets/controls",
      "model_module_version": "1.5.0",
      "model_name": "FloatSliderModel",
      "state": {
       "description": "Protected Area Threshold",
       "layout": "IPY_MODEL_5b6fe413f5594ad8a19f2bf960c3b88c",
       "max": 1,
       "step": 0.01,
       "style": "IPY_MODEL_16a0bb65ffdc4de69f48cf73d87d057a",
       "value": 0.7
      }
     },
     "f53aa47b3ec3480ab25dafbc79d2c290": {
      "model_module": "@jupyter-widgets/controls",
      "model_module_version": "1.5.0",
      "model_name": "BoxModel",
      "state": {
       "children": [
        "IPY_MODEL_66f8a57fff9c45e98ed69328f8da9328",
        "IPY_MODEL_c2958cf45fdb4a80bceff355cf487da8"
       ],
       "layout": "IPY_MODEL_211d4f6c36a4438ebbd73e585f1dee37"
      }
     },
     "f54f9c1a611f46698203204c78bf4067": {
      "model_module": "@jupyter-widgets/controls",
      "model_module_version": "1.5.0",
      "model_name": "SliderStyleModel",
      "state": {
       "description_width": ""
      }
     },
     "f55feb1d6fb64e8bb18ceb3d9c1482f4": {
      "model_module": "@jupyter-widgets/controls",
      "model_module_version": "1.5.0",
      "model_name": "CheckboxModel",
      "state": {
       "description": "Disable Medicina",
       "disabled": false,
       "layout": "IPY_MODEL_20467323f18c42e8912bdba9c08defd5",
       "style": "IPY_MODEL_0f280e724e97415fbb9b9312bdf69e73",
       "value": false
      }
     },
     "f577015dac15427393ee4cf8c43e4066": {
      "model_module": "@jupyter-widgets/base",
      "model_module_version": "1.2.0",
      "model_name": "LayoutModel",
      "state": {}
     },
     "f58e7b8c0c2544e58a797bdf250f70c5": {
      "model_module": "@jupyter-widgets/controls",
      "model_module_version": "1.5.0",
      "model_name": "FloatSliderModel",
      "state": {
       "description": "Compression Threshold",
       "layout": "IPY_MODEL_0979fbbe25d544a987d3d2552761bffc",
       "max": 1,
       "step": 0.01,
       "style": "IPY_MODEL_ff0f9f9cbd97450594c39f14854b896e",
       "value": 0.8
      }
     },
     "f608ee2b4709444fbbe7582cbba9fa85": {
      "model_module": "@jupyter-widgets/base",
      "model_module_version": "1.2.0",
      "model_name": "LayoutModel",
      "state": {}
     },
     "f60a6a07fc0d4b9bbf0572884a4482be": {
      "model_module": "@jupyter-widgets/controls",
      "model_module_version": "1.5.0",
      "model_name": "FloatSliderModel",
      "state": {
       "description": "45°",
       "layout": "IPY_MODEL_9fbbe7b176924c0a8a57f8c27200d65b",
       "max": 1,
       "min": -1,
       "step": 0.01,
       "style": "IPY_MODEL_10c8507846b54400a65ef279a1abd942"
      }
     },
     "f612b4bf09ea43b889e47694767a8d74": {
      "model_module": "@jupyter-widgets/base",
      "model_module_version": "1.2.0",
      "model_name": "LayoutModel",
      "state": {}
     },
     "f6eab23e2e1a48b991ef7ca5dc59b9d6": {
      "model_module": "@jupyter-widgets/controls",
      "model_module_version": "1.5.0",
      "model_name": "SliderStyleModel",
      "state": {
       "description_width": ""
      }
     },
     "f75e2e0a3c484fc3bf8bd97da0121922": {
      "model_module": "@jupyter-widgets/controls",
      "model_module_version": "1.5.0",
      "model_name": "ButtonStyleModel",
      "state": {}
     },
     "f7630d7dc69342beaab85626b0c038ce": {
      "model_module": "@jupyter-widgets/controls",
      "model_module_version": "1.5.0",
      "model_name": "TabModel",
      "state": {
       "_titles": {
        "0": "Global Controls",
        "1": "Protected Area Controls",
        "2": "Saturation Controls",
        "3": "Hue Controls"
       },
       "children": [
        "IPY_MODEL_71d5a4e2c21f4065abdc9539d793dcc2",
        "IPY_MODEL_e59fc43f412b46c29e77f89cf76b270b",
        "IPY_MODEL_689a6b192e8e443cb7936c4a8e6069a7",
        "IPY_MODEL_cb8c27e3c09a4f4d8abfddbc4f25b443"
       ],
       "layout": "IPY_MODEL_3aa5034d843a4650a5248db328e5be6c"
      }
     },
     "f76cb8007c214b3e9e3ed7384eb7fca9": {
      "model_module": "@jupyter-widgets/base",
      "model_module_version": "1.2.0",
      "model_name": "LayoutModel",
      "state": {}
     },
     "f7a0a1c3fc954fc1945cc0c112b4a3c6": {
      "model_module": "@jupyter-widgets/controls",
      "model_module_version": "1.5.0",
      "model_name": "SliderStyleModel",
      "state": {
       "description_width": ""
      }
     },
     "f7af19f1484c48cb804c9e055d48a8ae": {
      "model_module": "@jupyter-widgets/controls",
      "model_module_version": "1.5.0",
      "model_name": "SliderStyleModel",
      "state": {
       "description_width": ""
      }
     },
     "f7b44f5384b04268af6300a81c50da83": {
      "model_module": "@jupyter-widgets/base",
      "model_module_version": "1.2.0",
      "model_name": "LayoutModel",
      "state": {
       "align_items": "stretch",
       "display": "flex",
       "flex_flow": "column",
       "width": "1128px"
      }
     },
     "f7fe8e9fd2f54f0fa0e57773d6373cf3": {
      "model_module": "@jupyter-widgets/base",
      "model_module_version": "1.2.0",
      "model_name": "LayoutModel",
      "state": {}
     },
     "f88caf9b4ec54f47afc94fba11bae90d": {
      "model_module": "jupyter-matplotlib",
      "model_module_version": "^0.7.2",
      "model_name": "MPLCanvasModel",
      "state": {
       "_figure_label": "Figure 9",
       "_height": 458,
       "_width": 1099,
       "header_visible": false,
       "layout": "IPY_MODEL_9c04f225cafc418e948f3e2939cea92d",
       "resizable": false,
       "toolbar": "IPY_MODEL_90f1a259d55241c3b19d1a4b56d57aea",
       "toolbar_position": "left",
       "toolbar_visible": false
      }
     },
     "f8d8a93e2b29433cb19a56b7de4dfef5": {
      "model_module": "@jupyter-widgets/base",
      "model_module_version": "1.2.0",
      "model_name": "LayoutModel",
      "state": {}
     },
     "f918e49a11f94422b5221effcffde699": {
      "model_module": "@jupyter-widgets/base",
      "model_module_version": "1.2.0",
      "model_name": "LayoutModel",
      "state": {}
     },
     "f94a1cf51a7d4eb7925a28c812e540e1": {
      "model_module": "@jupyter-widgets/base",
      "model_module_version": "1.2.0",
      "model_name": "LayoutModel",
      "state": {}
     },
     "f9d565b8d592417cada795fbb00bc836": {
      "model_module": "@jupyter-widgets/controls",
      "model_module_version": "1.5.0",
      "model_name": "FloatSliderModel",
      "state": {
       "description": "Protected Area Threshold",
       "layout": "IPY_MODEL_76c61b57ec4a404098dfe5da09063edd",
       "max": 1,
       "step": 0.01,
       "style": "IPY_MODEL_9590ed9260ba4463920afcdc51ccc2c9",
       "value": 0.7
      }
     },
     "fa3f8ee7f69d461699a74949e32db046": {
      "model_module": "@jupyter-widgets/controls",
      "model_module_version": "1.5.0",
      "model_name": "FloatSliderModel",
      "state": {
       "description": "Exposure",
       "layout": "IPY_MODEL_ad981b0085954c53ae8afdabe821e9bf",
       "max": 8,
       "min": -8,
       "step": 0.1,
       "style": "IPY_MODEL_267dce6865c54bd2a49bc2c1c533ca88"
      }
     },
     "fa7754fe6c524204b876901373b17838": {
      "model_module": "@jupyter-widgets/controls",
      "model_module_version": "1.5.0",
      "model_name": "SliderStyleModel",
      "state": {
       "description_width": ""
      }
     },
     "faab7492aaa542c0a69e1bbbf1d8b3e2": {
      "model_module": "@jupyter-widgets/controls",
      "model_module_version": "1.5.0",
      "model_name": "HBoxModel",
      "state": {
       "children": [
        "IPY_MODEL_dd26e2e81f5c43a6bdf6bf44571873d6",
        "IPY_MODEL_d15a17d60f9647cab816cf34cfd852a3"
       ],
       "layout": "IPY_MODEL_cae89b06d66c4403b91a881f3ef7ee93"
      }
     },
     "fb0b733792a34ae98783ed7a5814773f": {
      "model_module": "@jupyter-widgets/controls",
      "model_module_version": "1.5.0",
      "model_name": "HBoxModel",
      "state": {
       "children": [
        "IPY_MODEL_0724d498f446437bad6ddb404818beab",
        "IPY_MODEL_f1bc4a695644487cb1302a0472f57bb4",
        "IPY_MODEL_d065181c68a348b6b2219faa1a78fa41"
       ],
       "layout": "IPY_MODEL_8980e959ed51412e803229a3550a08f3"
      }
     },
     "fb268cb6ac9847bbafc3711b7b34731a": {
      "model_module": "@jupyter-widgets/controls",
      "model_module_version": "1.5.0",
      "model_name": "DropdownModel",
      "state": {
       "_options_labels": [
        "tanh",
        "simple"
       ],
       "description": "Compression Function:",
       "index": 0,
       "layout": "IPY_MODEL_cdd1e3a3d10246e3898f512c7da54433",
       "style": "IPY_MODEL_15defbf89cb64be4b7594d24cf8c9c3e"
      }
     },
     "fba4e4ee856a4b068d6b64cf30434392": {
      "model_module": "@jupyter-widgets/controls",
      "model_module_version": "1.5.0",
      "model_name": "HBoxModel",
      "state": {
       "children": [
        "IPY_MODEL_3fe943844be24a68b0d5eaf3bab79e39",
        "IPY_MODEL_1e58e3657a64465ebd7ca5fe5db2bdc5",
        "IPY_MODEL_baf12a62e51241fd9a7f51e2441ed42e"
       ],
       "layout": "IPY_MODEL_62e2381353fc48b8b908e8ee590ee7c6"
      }
     },
     "fbc642d02637401ebb792b39777775c9": {
      "model_module": "@jupyter-widgets/base",
      "model_module_version": "1.2.0",
      "model_name": "LayoutModel",
      "state": {
       "align_items": "stretch",
       "display": "flex",
       "flex_flow": "column",
       "width": "1128px"
      }
     },
     "fbf5be03e3234e21b48e76394a5808cf": {
      "model_module": "@jupyter-widgets/controls",
      "model_module_version": "1.5.0",
      "model_name": "FloatSliderModel",
      "state": {
       "description": "270°",
       "layout": "IPY_MODEL_ec7831ac416e4d868578d03759991384",
       "max": 1,
       "min": -1,
       "step": 0.01,
       "style": "IPY_MODEL_094995028c6a42da8c8a45dff7124da1"
      }
     },
     "fc33305f8224469e93b558eb4b5018d6": {
      "model_module": "@jupyter-widgets/base",
      "model_module_version": "1.2.0",
      "model_name": "LayoutModel",
      "state": {
       "align_items": "stretch",
       "display": "flex",
       "flex_flow": "column",
       "width": "1128px"
      }
     },
     "fc38888673c04cadb18004d8bd4e2312": {
      "model_module": "@jupyter-widgets/controls",
      "model_module_version": "1.5.0",
      "model_name": "ButtonModel",
      "state": {
       "description": "Export Image",
       "layout": "IPY_MODEL_96644365dea1471f90f02ec070c8b411",
       "style": "IPY_MODEL_27dd8a08bfb6495fb9bf644c3a17cb78"
      }
     },
     "fc5ef1ffb75a474db117087537c75eb8": {
      "model_module": "@jupyter-widgets/base",
      "model_module_version": "1.2.0",
      "model_name": "LayoutModel",
      "state": {}
     },
     "fc5f2e875a12414aa8a6b969426873cf": {
      "model_module": "@jupyter-widgets/base",
      "model_module_version": "1.2.0",
      "model_name": "LayoutModel",
      "state": {}
     },
     "fc96578f59f74d36a64a68e46570fc6b": {
      "model_module": "@jupyter-widgets/controls",
      "model_module_version": "1.5.0",
      "model_name": "SliderStyleModel",
      "state": {
       "description_width": ""
      }
     },
     "fca1e6778e284c2aa7c63f162f8452be": {
      "model_module": "@jupyter-widgets/controls",
      "model_module_version": "1.5.0",
      "model_name": "FloatSliderModel",
      "state": {
       "description": "315°",
       "layout": "IPY_MODEL_01c491957da047a29aaef6b26d6fa87c",
       "max": 1,
       "min": -1,
       "step": 0.01,
       "style": "IPY_MODEL_b066d4a6d6c04413aeee72c338aaebf4"
      }
     },
     "fd0758975b8e49e484612a56480a8a7a": {
      "model_module": "@jupyter-widgets/controls",
      "model_module_version": "1.5.0",
      "model_name": "FloatSliderModel",
      "state": {
       "description": "225°",
       "layout": "IPY_MODEL_9eaf9ec2209841c1a8952e99b509b96a",
       "max": 1,
       "min": -1,
       "step": 0.01,
       "style": "IPY_MODEL_ee5ec80498a44eed907aa1b14047e9e4"
      }
     },
     "fd275ad0805846f0adba60cbaf417f1d": {
      "model_module": "@jupyter-widgets/controls",
      "model_module_version": "1.5.0",
      "model_name": "ButtonModel",
      "state": {
       "description": "Reset Saturation Controls",
       "layout": "IPY_MODEL_d7b9c1ed43ce42608cad76dea3dc6603",
       "style": "IPY_MODEL_9bf5af7a743b42fc96f2db741bd0d284"
      }
     },
     "fd299bd6f12246c5a142f63d4b0f38a7": {
      "model_module": "@jupyter-widgets/controls",
      "model_module_version": "1.5.0",
      "model_name": "HBoxModel",
      "state": {
       "children": [
        "IPY_MODEL_57c92e0b4b2545f1892d6a459e28bea0",
        "IPY_MODEL_cca5e65c56eb489a807e9e5122dff3c9",
        "IPY_MODEL_b3dac5c99c734bf186c08d7f20bd8f85",
        "IPY_MODEL_553fbbd8cc78432d8a2f05949e8e66f2"
       ],
       "layout": "IPY_MODEL_5a10a503a1f149fdbf98221fab529fe2"
      }
     },
     "fd40af05021f407893ffc0c454d0fb7c": {
      "model_module": "@jupyter-widgets/base",
      "model_module_version": "1.2.0",
      "model_name": "LayoutModel",
      "state": {}
     },
     "fd61786152254ad19124b0698f47c1aa": {
      "model_module": "@jupyter-widgets/controls",
      "model_module_version": "1.5.0",
      "model_name": "ButtonModel",
      "state": {
       "description": "Reset Hue Controls",
       "layout": "IPY_MODEL_d084376ea5a240a8a4922a5a067a2a68",
       "style": "IPY_MODEL_f75e2e0a3c484fc3bf8bd97da0121922"
      }
     },
     "fd8fb4c6a2204b5da18219f9ae895f64": {
      "model_module": "@jupyter-widgets/base",
      "model_module_version": "1.2.0",
      "model_name": "LayoutModel",
      "state": {}
     },
     "fda35d4cca784475a5abb9eaf1f97589": {
      "model_module": "@jupyter-widgets/controls",
      "model_module_version": "1.5.0",
      "model_name": "ButtonModel",
      "state": {
       "description": "Reset Compression Controls",
       "layout": "IPY_MODEL_7a4eda241e694b6fbce13a7d5ad4c9ba",
       "style": "IPY_MODEL_65df85110ef049d18e43a7aa14dfab66"
      }
     },
     "fda41dcef11b4fd6afa10448f63208e6": {
      "model_module": "@jupyter-widgets/base",
      "model_module_version": "1.2.0",
      "model_name": "LayoutModel",
      "state": {}
     },
     "fdc7065c02ac407eb877e6ffc9f0ac83": {
      "model_module": "@jupyter-widgets/controls",
      "model_module_version": "1.5.0",
      "model_name": "FloatSliderModel",
      "state": {
       "description": "225°",
       "layout": "IPY_MODEL_e71cd395e2cd497aa7aafd770988102c",
       "max": 1,
       "min": -1,
       "step": 0.01,
       "style": "IPY_MODEL_4691af6fa90f43f1b6613a4198c89892"
      }
     },
     "fdd5994fc74d4e278115a8d5747e8cd7": {
      "model_module": "@jupyter-widgets/controls",
      "model_module_version": "1.5.0",
      "model_name": "ButtonStyleModel",
      "state": {}
     },
     "fe1d11ce83454c688a4c51b3116bbb72": {
      "model_module": "@jupyter-widgets/controls",
      "model_module_version": "1.5.0",
      "model_name": "SliderStyleModel",
      "state": {
       "description_width": ""
      }
     },
     "fe2030e92e7e48e0b732c52f84e8259d": {
      "model_module": "@jupyter-widgets/controls",
      "model_module_version": "1.5.0",
      "model_name": "ButtonModel",
      "state": {
       "description": "Reset Hue Controls",
       "layout": "IPY_MODEL_355b4d1a9af74c2183d62b87b8eabc55",
       "style": "IPY_MODEL_d86e955345914a94a5bca0d25cc656fa"
      }
     },
     "fe2c4ac4e0344940bb0944c133c9237c": {
      "model_module": "@jupyter-widgets/controls",
      "model_module_version": "1.5.0",
      "model_name": "HBoxModel",
      "state": {
       "children": [
        "IPY_MODEL_f35389217d3c4304a994b5bf32bf8925",
        "IPY_MODEL_b471b24286f245c5a415b9ed247fd73c"
       ],
       "layout": "IPY_MODEL_e068bd0e1dab483ba8099f50b8a2b4bd"
      }
     },
     "fe56ac7649eb45f3a94ad48cba6e7f2e": {
      "model_module": "@jupyter-widgets/output",
      "model_module_version": "1.0.0",
      "model_name": "OutputModel",
      "state": {
       "layout": "IPY_MODEL_6e4f480f989545a3af9fea55afcb0e1b",
       "outputs": [
        {
         "data": {
          "application/vnd.jupyter.widget-view+json": {
           "model_id": "b892e90d05a8417a9e1c8d2a935c4830",
           "version_major": 2,
           "version_minor": 0
          },
          "text/plain": "Canvas(toolbar=Toolbar(toolitems=[('Home', 'Reset original view', 'home', 'home'), ('Back', 'Back to previous …"
         },
         "metadata": {},
         "output_type": "display_data"
        }
       ]
      }
     },
     "fe78c3f710f34419a5668f5e6cb7cfd4": {
      "model_module": "@jupyter-widgets/controls",
      "model_module_version": "1.5.0",
      "model_name": "FloatSliderModel",
      "state": {
       "description": "Compression Threshold",
       "layout": "IPY_MODEL_678e08cbc9ca4b7ea9fd3f4994275216",
       "max": 1,
       "step": 0.01,
       "style": "IPY_MODEL_4f2ab9e8901b47c2b16cb441b5bb7541",
       "value": 0.8
      }
     },
     "fe7b328e0c334a8f9912a56ebd2bc88f": {
      "model_module": "@jupyter-widgets/base",
      "model_module_version": "1.2.0",
      "model_name": "LayoutModel",
      "state": {}
     },
     "febe120c7e4f4a0ebaadb5b56555b722": {
      "model_module": "@jupyter-widgets/base",
      "model_module_version": "1.2.0",
      "model_name": "LayoutModel",
      "state": {}
     },
     "feccedc4df4142fb9a36943fe78c5c7f": {
      "model_module": "@jupyter-widgets/controls",
      "model_module_version": "1.5.0",
      "model_name": "FloatSliderModel",
      "state": {
       "description": "Exposure",
       "layout": "IPY_MODEL_c7f333482d794d7c8cb490d5cebadb49",
       "max": 8,
       "min": -8,
       "step": 0.1,
       "style": "IPY_MODEL_f7af19f1484c48cb804c9e055d48a8ae"
      }
     },
     "fed3cf79b3694d8ba9702ffe62baeaca": {
      "model_module": "@jupyter-widgets/controls",
      "model_module_version": "1.5.0",
      "model_name": "HBoxModel",
      "state": {
       "children": [
        "IPY_MODEL_31fdd44bae29421fa4ca50d5066bb36e",
        "IPY_MODEL_0ef4cd4869a54b4ba1cc0e9f5362f3d6",
        "IPY_MODEL_6dd4fbc31b0a4575bde1102fc1ebeb36",
        "IPY_MODEL_2a4eff2bbb56475fb3f14b2048767d3d"
       ],
       "layout": "IPY_MODEL_e6f7626aa10f4793ac885ace54797dff"
      }
     },
     "ff058459607c4a2193c76faeaed6ace7": {
      "model_module": "@jupyter-widgets/base",
      "model_module_version": "1.2.0",
      "model_name": "LayoutModel",
      "state": {
       "border": "solid 4px #222",
       "margin": "4px",
       "padding": "0"
      }
     },
     "ff0f9f9cbd97450594c39f14854b896e": {
      "model_module": "@jupyter-widgets/controls",
      "model_module_version": "1.5.0",
      "model_name": "SliderStyleModel",
      "state": {
       "description_width": ""
      }
     },
     "ff223fbba13649088c71fe855e30972b": {
      "model_module": "@jupyter-widgets/base",
      "model_module_version": "1.2.0",
      "model_name": "LayoutModel",
      "state": {}
     },
     "ff4389a6c5d6403bb401a07867a8e304": {
      "model_module": "@jupyter-widgets/base",
      "model_module_version": "1.2.0",
      "model_name": "LayoutModel",
      "state": {}
     },
     "ffaa3fe84f294154b55bab692db8e1c7": {
      "model_module": "@jupyter-widgets/controls",
      "model_module_version": "1.5.0",
      "model_name": "FloatSliderModel",
      "state": {
       "description": "0°",
       "layout": "IPY_MODEL_1c78d9c38c4c4a19b2b855fae17b65c4",
       "max": 1,
       "min": -1,
       "step": 0.01,
       "style": "IPY_MODEL_96dc917b310a401cb8a960802426b3be"
      }
     },
     "ffe7887c51df4977a782d791610abbb7": {
      "model_module": "@jupyter-widgets/controls",
      "model_module_version": "1.5.0",
      "model_name": "SliderStyleModel",
      "state": {
       "description_width": ""
      }
     },
     "fff5b5ecb99341ea964a3de90361dce0": {
      "model_module": "@jupyter-widgets/controls",
      "model_module_version": "1.5.0",
      "model_name": "FloatSliderModel",
      "state": {
       "description": "0°",
       "layout": "IPY_MODEL_77670415b90a40d3830b19d8cfdb3452",
       "max": 1,
       "min": -1,
       "step": 0.01,
       "style": "IPY_MODEL_187b119a235040dcb14da0c85e6db8d6"
      }
     }
    },
    "version_major": 2,
    "version_minor": 0
   }
  }
 },
 "nbformat": 4,
 "nbformat_minor": 4
}
