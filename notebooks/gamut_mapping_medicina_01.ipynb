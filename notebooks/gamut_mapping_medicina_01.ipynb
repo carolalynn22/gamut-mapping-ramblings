{
 "cells": [
  {
   "cell_type": "markdown",
   "metadata": {
    "colab_type": "text",
    "id": "pRS6nhpu1R6y"
   },
   "source": [
    "# Gamut Mapping - Medicina 01"
   ]
  },
  {
   "cell_type": "markdown",
   "metadata": {},
   "source": [
    "## Introduction"
   ]
  },
  {
   "cell_type": "markdown",
   "metadata": {},
   "source": [
    "This notebook implements an interactive widget used to investigate various gamut models in the context for the [ACES VWG on Gamut Mapping](https://community.acescentral.com/c/aces-development-acesnext/vwg-aces-gamut-mapping-working-group/).\n",
    "\n",
    "It is assumed that the reader has some knowledge about image processing and colour management pipelines in the Media and Entertainment Industry. An introductory publication on the topic is [Cinematic Color: From Your Monitor to the Big Screen](https://cinematiccolor.org/) by Selan (2012).\n",
    "\n",
    "Because the imagery represents scene-referred exposure values, the gamut mapped images should ideally be exported and viewed with an appropriate *View Transform*, typically an *ACES RRT + sRGB ODT* transforms combination.\n",
    "\n",
    "\n",
    "Images courtesy of:\n",
    "\n",
    "- [Thomas Mansencal](https://community.acescentral.com/t/spectral-images-generation-and-processing/)\n",
    "- [Carol Payne](https://www.dropbox.com/sh/u6z2a0jboo4vno8/AAB-10qcflhpr0C5LWhs7Kq4a?dl=0)\n",
    "- [Martin Smekal](https://community.acescentral.com/t/vfx-work-in-acescg-with-out-of-gamut-devices/2385)"
   ]
  },
  {
   "cell_type": "markdown",
   "metadata": {},
   "source": [
    "## Imports & Overall Settings"
   ]
  },
  {
   "cell_type": "code",
   "execution_count": 1,
   "metadata": {},
   "outputs": [],
   "source": [
    "%matplotlib widget"
   ]
  },
  {
   "cell_type": "code",
   "execution_count": 2,
   "metadata": {
    "colab": {
     "base_uri": "https://localhost:8080/",
     "height": 340
    },
    "colab_type": "code",
    "id": "OydMmtZRxd3c",
    "outputId": "297a43b9-f566-405d-e8bc-cfae56b50959"
   },
   "outputs": [
    {
     "name": "stdout",
     "output_type": "stream",
     "text": [
      "===============================================================================\n",
      "*                                                                             *\n",
      "*   Interpreter :                                                             *\n",
      "*       python : 3.7.6 (default, Dec 30 2019, 19:38:26)                       *\n",
      "*                [Clang 11.0.0 (clang-1100.0.33.16)]                          *\n",
      "*                                                                             *\n",
      "*   colour-science.org :                                                      *\n",
      "*       colour : v0.3.15-132-g8ed24e8e                                        *\n",
      "*                                                                             *\n",
      "*   Runtime :                                                                 *\n",
      "*       imageio : 2.8.0                                                       *\n",
      "*       matplotlib : 3.0.3                                                    *\n",
      "*       numpy : 1.18.4                                                        *\n",
      "*       scipy : 1.4.1                                                         *\n",
      "*       six : 1.14.0                                                          *\n",
      "*                                                                             *\n",
      "===============================================================================\n"
     ]
    }
   ],
   "source": [
    "from __future__ import division, unicode_literals\n",
    "\n",
    "import colour\n",
    "import ipympl.backend_nbagg\n",
    "import ipywidgets\n",
    "import matplotlib.gridspec as gridspec\n",
    "import matplotlib.patches as patches\n",
    "import matplotlib.pyplot as plt\n",
    "import numpy as np\n",
    "import os\n",
    "import scipy.interpolate\n",
    "from matplotlib.collections import PathCollection\n",
    "from matplotlib._layoutbox import plot_children\n",
    "\n",
    "DEFAULT_BOX_DECORATION_WIDTH = 4\n",
    "MPL_BOX_DECORATION_WIDTH = 28\n",
    "\n",
    "COLOUR_STYLE = colour.plotting.colour_style()\n",
    "COLOUR_STYLE.update({\n",
    "    'legend.framealpha':\n",
    "    colour.plotting.COLOUR_STYLE_CONSTANTS.opacity.low\n",
    "})\n",
    "\n",
    "plt.style.use(COLOUR_STYLE)\n",
    "\n",
    "plt.style.use('dark_background')\n",
    "\n",
    "colour.utilities.describe_environment()\n",
    "\n",
    "colour.utilities.filter_warnings(*[True] * 4);"
   ]
  },
  {
   "cell_type": "markdown",
   "metadata": {},
   "source": [
    "## Widgets Styling"
   ]
  },
  {
   "cell_type": "markdown",
   "metadata": {},
   "source": [
    "CSS style for various widgets to improve overall presentation."
   ]
  },
  {
   "cell_type": "code",
   "execution_count": 3,
   "metadata": {},
   "outputs": [
    {
     "data": {
      "text/html": [
       "<style>\n",
       ".widget-button {\n",
       "    margin-left: 10px;\n",
       "    margin-right: 10px;\n",
       "}\n",
       "</style>\n"
      ],
      "text/plain": [
       "<IPython.core.display.HTML object>"
      ]
     },
     "metadata": {},
     "output_type": "display_data"
    }
   ],
   "source": [
    "%%html\n",
    "<style>\n",
    ".widget-button {\n",
    "    margin-left: 10px;\n",
    "    margin-right: 10px;\n",
    "}\n",
    "</style>"
   ]
  },
  {
   "cell_type": "markdown",
   "metadata": {
    "colab_type": "text",
    "id": "5yCeFpnnp_wh"
   },
   "source": [
    "## Colour Wheel Generation"
   ]
  },
  {
   "cell_type": "markdown",
   "metadata": {},
   "source": [
    "Utility function responsible to produce a scene-referred colour wheel."
   ]
  },
  {
   "cell_type": "code",
   "execution_count": 4,
   "metadata": {
    "colab": {},
    "colab_type": "code",
    "id": "RshonIbOI4Ij"
   },
   "outputs": [],
   "source": [
    "def colour_wheel(samples=1024, clip_circle=False, method='Colour'):\n",
    "    xx, yy = np.meshgrid(\n",
    "        np.linspace(-1, 1, samples), np.linspace(-1, 1, samples))\n",
    "\n",
    "    S = np.sqrt(xx ** 2 + yy ** 2)    \n",
    "    H = (np.arctan2(xx, yy) + np.pi) / (np.pi * 2)\n",
    "\n",
    "    HSV = colour.utilities.tstack([H, S, np.ones(H.shape)])\n",
    "    RGB = colour.HSV_to_RGB(HSV)\n",
    "\n",
    "    if clip_circle == True:\n",
    "        RGB[S > 1] = 0\n",
    "        A = np.where(S > 1, 0, 1)\n",
    "    else:\n",
    "        A = np.ones(S.shape)\n",
    "\n",
    "    if method.lower()== 'matplotlib':\n",
    "        RGB = colour.utilities.orient(RGB, '90 CW')\n",
    "    elif method.lower()== 'nuke':\n",
    "        RGB = colour.utilities.orient(RGB, 'Flip')\n",
    "        RGB = colour.utilities.orient(RGB, '90 CW')\n",
    "\n",
    "    R, G, B = colour.utilities.tsplit(RGB)\n",
    "    \n",
    "    return colour.utilities.tstack([R, G, B, A])"
   ]
  },
  {
   "cell_type": "markdown",
   "metadata": {},
   "source": [
    "## Utility Functions & Objects"
   ]
  },
  {
   "cell_type": "markdown",
   "metadata": {},
   "source": [
    "Various random utility functions and objects."
   ]
  },
  {
   "cell_type": "code",
   "execution_count": 5,
   "metadata": {},
   "outputs": [],
   "source": [
    "def batch(sequence, count):\n",
    "    for i in range(0, len(sequence), count):\n",
    "        yield sequence[i:i + count]\n",
    "        \n",
    "\n",
    "def border_layout():\n",
    "    return ipywidgets.widgets.Layout(\n",
    "        border='solid {0}px #222'.format(4),\n",
    "        margin='{0}px'.format(DEFAULT_BOX_DECORATION_WIDTH),\n",
    "        padding='0')\n",
    "\n",
    "\n",
    "def adjust_exposure(a, EV):\n",
    "    a = colour.utilities.as_float_array(a)\n",
    "\n",
    "    return a * pow(2, EV)"
   ]
  },
  {
   "cell_type": "markdown",
   "metadata": {},
   "source": [
    "## Gamut Medicina Base Widget"
   ]
  },
  {
   "cell_type": "markdown",
   "metadata": {},
   "source": [
    "The `GamutMedicinaBaseWidget` base widget class is inherited by the concrete sub-classes implementing the various gamut mapping study models.\n",
    "\n",
    "At its core it is itself an `ipywidgets.widgets.Box` sub-class which outputs a [Matplotlib](http://matplotlib.org/) figure composed of three sub-plots:\n",
    "\n",
    "- **Reference Image**: Required, 1 cartesian `Axes`\n",
    "- **Colour Wheel**: Optional, 1 cartesian `Axes` and 1 polar `Axes`\n",
    "- **Chromaticity Diagram**: Optional, 1 cartesian `Axes`\n",
    "\n",
    "Trivial layout heuristic is implemented to support optionally enabling or disabling the **Colour Wheel** and **Chromaticity Diagram** sub-plots."
   ]
  },
  {
   "cell_type": "markdown",
   "metadata": {},
   "source": [
    "### Reference Image"
   ]
  },
  {
   "cell_type": "markdown",
   "metadata": {},
   "source": [
    "The **Reference Image** sub-plot is responsible for displaying the gamut mapped scene-referred imagery.\n",
    "\n",
    "*Note*\n",
    "\n",
    "> To improve the performance of the notebook, the *View Transform*, i.e. a S-Curve, converting the scene-referred imagery to output-referred values is omitted."
   ]
  },
  {
   "cell_type": "markdown",
   "metadata": {},
   "source": [
    "### Colour Wheel"
   ]
  },
  {
   "cell_type": "markdown",
   "metadata": {},
   "source": [
    "The **Colour Wheel** sub-plot is used to represent the controls for the gamut mapping study models adopting a cylindrical or conic working space.\n",
    "\n",
    "The colour wheel is drawn on a cartesian `Axes` on top of which is overlayed a polar `Axes` used to draw the control regions."
   ]
  },
  {
   "cell_type": "markdown",
   "metadata": {},
   "source": [
    "### Chromaticity Diagram"
   ]
  },
  {
   "cell_type": "markdown",
   "metadata": {},
   "source": [
    "The **Chromaticity Diagram** sub-plot is also used to represent the controls for the gamut mapping study models into the *Chromaticity Diagram 1976 UCS* based on the [CIE L\\*u\\*v\\*](https://fr.wikipedia.org/wiki/L*u*v*_CIE_1976) colourspace.\n",
    "\n",
    "It also features the following elements:\n",
    "\n",
    "- *RGB Working Space* gamut, i.e. *ACEScg/AP1*, large triangle\n",
    "- *RGB Display Space* gamut, i.e. *sRGB*, small triangle\n",
    "- Scatter of the decimated **Reference Image** data\n",
    "- Scatter of the ColorChecker Classic data, white scatter points\n"
   ]
  },
  {
   "cell_type": "code",
   "execution_count": 6,
   "metadata": {},
   "outputs": [
    {
     "data": {
      "application/vnd.jupyter.widget-view+json": {
       "model_id": "769d34d52e014ab2bbfa4055210e3865",
       "version_major": 2,
       "version_minor": 0
      },
      "text/plain": [
       "GamutMedicinaBaseWidget(children=(Output(layout=Layout(border='solid 4px #222', margin='4px', padding='0')), T…"
      ]
     },
     "metadata": {},
     "output_type": "display_data"
    }
   ],
   "source": [
    "class GamutMedicinaBaseWidget(ipywidgets.widgets.Box):\n",
    "    def __init__(self,\n",
    "                 reference_image_path=None,\n",
    "                 working_space=colour.models.ACES_CG_COLOURSPACE,\n",
    "                 reference_space=colour.models.ACES_2065_1_COLOURSPACE,\n",
    "                 display_space=colour.models.sRGB_COLOURSPACE,\n",
    "                 colour_wheel_samples=256,\n",
    "                 image_decimation=10,\n",
    "                 reference_image_exposure=0,\n",
    "                 figure_size=(11, None),\n",
    "                 padding=0.005,\n",
    "                 spacing=0.005,\n",
    "                 show_labels=False,\n",
    "                 enable_colour_wheel=True,\n",
    "                 enable_chromaticity_diagram=True,\n",
    "                 debug_layout=False):\n",
    "        super().__init__()\n",
    "\n",
    "        self._reference_image_path = reference_image_path\n",
    "        self._working_space = working_space\n",
    "        self._reference_space = reference_space\n",
    "        self._display_space = display_space\n",
    "        self._colour_wheel_samples = colour_wheel_samples\n",
    "        self._image_decimation = image_decimation\n",
    "        self._reference_image_exposure = reference_image_exposure\n",
    "        self._figure_size = figure_size\n",
    "        self._padding = padding\n",
    "        self._spacing = spacing\n",
    "        self._show_labels = show_labels\n",
    "        self._enable_colour_wheel = enable_colour_wheel\n",
    "        self._enable_chromaticity_diagram = enable_chromaticity_diagram\n",
    "\n",
    "        self._enable = True\n",
    "\n",
    "        self._reference_image = None\n",
    "        self._reference_image_pre_working = None\n",
    "        self._reference_image_working = None\n",
    "        self._reference_image_mapped = None\n",
    "        self._reference_image_display = None\n",
    "\n",
    "        if self._enable_colour_wheel:\n",
    "            self._colour_wheel = None\n",
    "\n",
    "        if self._enable_chromaticity_diagram:\n",
    "            self._decimated_image_pre_working = None\n",
    "            self._decimated_image_working = None\n",
    "            self._decimated_image_display = None\n",
    "\n",
    "        self._colour_checker = None\n",
    "        self._colour_checker_uv = None\n",
    "\n",
    "        self._output = None\n",
    "        self._figure = None\n",
    "        self._grid_spec = None\n",
    "        self._reference_image_axes = None\n",
    "        self._reference_image_imshow = None\n",
    "\n",
    "        if self._enable_colour_wheel:\n",
    "            self._colour_wheel_cartersian_axes = None\n",
    "            self._colour_wheel_imshow = None\n",
    "            self._colour_wheel_polar_axes = None\n",
    "\n",
    "        if self._enable_chromaticity_diagram:\n",
    "            self._chromaticity_diagram_axes = None\n",
    "            self._scatter_offsets_i = None\n",
    "            self._scatter_facecolor_i = None\n",
    "\n",
    "        self._disable_medidicina_CheckBox = None\n",
    "        self._global_controls_HBox = None\n",
    "        self._controls_Tab = None\n",
    "\n",
    "        self.initialize_data()\n",
    "        self.initialize_axes()\n",
    "        self.initialise_widgets()\n",
    "        self.attach_callbacks()\n",
    "\n",
    "        if debug_layout:\n",
    "            plot_children(self._figure, self._figure._layoutbox, printit=False)\n",
    "\n",
    "    def initialize_data(self):\n",
    "        # *** Reference Image ***\n",
    "        self._reference_image = (colour.read_image(self._reference_image_path)\n",
    "                                 if self._reference_image_path is not None else\n",
    "                                 np.random.rand(540, 960, 3))\n",
    "        self._reference_image_path = (self._reference_image_path\n",
    "                                      if self._reference_image_path is not None\n",
    "                                      else 'Random.exr')\n",
    "        self._reference_image_pre_working = self.reference_space_to_working_space(\n",
    "            self._reference_image)\n",
    "        self._reference_image_working = self._reference_image_pre_working\n",
    "        self._reference_image_mapped =self._reference_image_pre_working\n",
    "        self._reference_image_display = self.working_space_to_display_space(\n",
    "            self._reference_image_working)\n",
    "\n",
    "        # *** Colour Wheel ***\n",
    "        if self._enable_colour_wheel:\n",
    "            self._colour_wheel = colour_wheel(\n",
    "                self._colour_wheel_samples,\n",
    "                method='Matplotlib')\n",
    "\n",
    "        # *** Decimated Image, i.e. Scatter ***\n",
    "        if self._enable_chromaticity_diagram:\n",
    "            self._decimated_image_pre_working = (\n",
    "                self._reference_image_working[::self._image_decimation, ::\n",
    "                                              self._image_decimation, :]).reshape(-1, 3)\n",
    "            self._decimated_image_working = self._decimated_image_pre_working\n",
    "            self._decimated_image_display = (\n",
    "                self.working_space_to_display_space(\n",
    "                    self._decimated_image_working))\n",
    "\n",
    "        # *** Colour Checker\n",
    "        colour_checker = colour.COLOURCHECKERS[\n",
    "            'ColorChecker24 - After November 2014']\n",
    "        colour_checker_data = colour.utilities.as_float_array(\n",
    "            list(colour_checker.data.values()))\n",
    "        self._colour_checker_uv = colour.xy_to_Luv_uv(\n",
    "            colour_checker_data[:, 0:2])\n",
    "\n",
    "    def initialize_axes(self):\n",
    "        self._output = ipywidgets.widgets.Output()\n",
    "\n",
    "        image_height, image_width, channels = self._reference_image.shape\n",
    "        if self._figure_size[-1] is None:\n",
    "            if self._enable_colour_wheel and self._enable_chromaticity_diagram:\n",
    "                width = image_height / 2 + image_width\n",
    "                height = image_height - self._padding * 100 - self._spacing * 100\n",
    "                # Unresolved fudge factor to ensure plots line up.\n",
    "                height -= int(height * 0.05)\n",
    "            elif self._enable_colour_wheel or self._enable_chromaticity_diagram:\n",
    "                width = image_height + image_width\n",
    "                height = image_height\n",
    "            else:\n",
    "                width = image_width\n",
    "                height = image_height\n",
    "            ratio = self._figure_size[0] * 100 / width\n",
    "            figure_size = (width / 100 * ratio, height / 100 * ratio)\n",
    "        else:\n",
    "            figure_size = self._figure_size\n",
    "\n",
    "        with self._output:\n",
    "            self._figure = plt.figure(\n",
    "                figsize=figure_size,\n",
    "                constrained_layout=True,\n",
    "                facecolor=[2 / 3 / 10] * 3)\n",
    "            self._figure.canvas.toolbar_visible = False\n",
    "            self._figure.canvas.header_visible = False\n",
    "            self._figure.canvas.footer_visible = True\n",
    "            self._figure.canvas.resizable = False\n",
    "            self._figure.tight_layout()\n",
    "\n",
    "        if self._enable_colour_wheel and self._enable_chromaticity_diagram:\n",
    "            rows = columns = 2\n",
    "            colour_wheel_indices = 0, 0\n",
    "            chromaticity_diagram_indices = 1, 0\n",
    "            reference_image_indices = slice(0, None, None), slice(\n",
    "                1, None, None)\n",
    "            width_ratios = [1, 2 * image_width / image_height]\n",
    "        elif not self._enable_colour_wheel and not self._enable_chromaticity_diagram:\n",
    "            rows = columns = 1\n",
    "            colour_wheel_indices = chromaticity_diagram_indices = None\n",
    "            reference_image_indices = 0, 0\n",
    "            width_ratios = [1]\n",
    "        else:\n",
    "            rows = 1\n",
    "            columns = 2\n",
    "            colour_wheel_indices = chromaticity_diagram_indices = 0, 0\n",
    "            reference_image_indices = 0, 1\n",
    "            width_ratios = [1, image_width / image_height]\n",
    "\n",
    "        self._grid_spec = gridspec.GridSpec(\n",
    "            ncols=columns,\n",
    "            nrows=rows,\n",
    "            figure=self._figure,\n",
    "            width_ratios=width_ratios,\n",
    "            wspace=self._spacing,\n",
    "            hspace=self._spacing)\n",
    "        self._figure.set_constrained_layout_pads(\n",
    "            w_pad=self._padding,\n",
    "            h_pad=self._padding)\n",
    "\n",
    "        # Colour Wheel Axes\n",
    "        if self._enable_colour_wheel:\n",
    "            self._colour_wheel_cartersian_axes = self._figure.add_subplot(\n",
    "                self._grid_spec[colour_wheel_indices[0], colour_wheel_indices[\n",
    "                    1]],\n",
    "                label='Cartesian Axes')\n",
    "            self._colour_wheel_cartersian_axes.axis('off')\n",
    "            circle = patches.Circle(\n",
    "                [0.5, 0.5], radius=0.5, transform=self._colour_wheel_cartersian_axes.transData)\n",
    "            self._colour_wheel_imshow = self._colour_wheel_cartersian_axes.imshow(\n",
    "                np.clip(self._colour_wheel, 0, 1), extent=[0, 1, 0, 1], clip_path=None)\n",
    "            self._colour_wheel_imshow.set_clip_path(circle)\n",
    "\n",
    "            self._colour_wheel_polar_axes = self._figure.add_subplot(\n",
    "                self._grid_spec[colour_wheel_indices[0], colour_wheel_indices[\n",
    "                    1]],\n",
    "                projection='polar',\n",
    "                label='Polar Axes')\n",
    "            self._colour_wheel_polar_axes.set_xlim(0, np.pi * 2)\n",
    "            self._colour_wheel_polar_axes.set_ylim(0, 1)\n",
    "            self._colour_wheel_polar_axes.patch.set_alpha(0)\n",
    "            self._colour_wheel_polar_axes.grid(alpha=0.15)\n",
    "            if not self._show_labels:\n",
    "                self._colour_wheel_polar_axes.set_xticklabels([])\n",
    "            self._colour_wheel_polar_axes.set_yticklabels([])\n",
    "\n",
    "        # Chromaticity Diagram Axes\n",
    "        if self._enable_chromaticity_diagram:\n",
    "            self._chromaticity_diagram_axes = self._figure.add_subplot(\n",
    "                self._grid_spec[chromaticity_diagram_indices[0],\n",
    "                                chromaticity_diagram_indices[1]])\n",
    "            self._chromaticity_diagram_axes.patch.set_alpha(0)\n",
    "            (colour.plotting.\n",
    "             plot_RGB_chromaticities_in_chromaticity_diagram_CIE1976UCS(\n",
    "                 self._decimated_image_working,\n",
    "                 colourspace=self._working_space,\n",
    "                 colourspaces=['sRGB'],\n",
    "                 axes=self._chromaticity_diagram_axes,\n",
    "                 standalone=False,\n",
    "                 transparent_background=False,\n",
    "                 spectral_locus_colours='RGB',\n",
    "                 spectral_locus_labels=[],\n",
    "                 diagram_opacity=0,\n",
    "                 scatter_kwargs={'s': 1},\n",
    "                 title=str(),\n",
    "                 x_label=str(),\n",
    "                 y_label=str(),\n",
    "                 legend=False))\n",
    "            self._chromaticity_diagram_axes.tick_params(\n",
    "                axis='y', which='both', direction='in')\n",
    "            self._chromaticity_diagram_axes.tick_params(\n",
    "                axis='x', which='both', direction='in')\n",
    "            self._chromaticity_diagram_axes.minorticks_off()\n",
    "            self._chromaticity_diagram_axes.grid(alpha=0.15)\n",
    "            for collection in self._chromaticity_diagram_axes.collections:\n",
    "                if isinstance(collection, PathCollection):\n",
    "                    self._scatter_path_collection = collection\n",
    "                    break\n",
    "            \n",
    "            if not self._show_labels:\n",
    "                self._chromaticity_diagram_axes.set_xticklabels([])\n",
    "                self._chromaticity_diagram_axes.set_yticklabels([])\n",
    "\n",
    "            self._scatter_offsets_i = self._scatter_path_collection.get_offsets(\n",
    "            )\n",
    "            self._scatter_facecolor_i = self._scatter_path_collection.get_facecolor(\n",
    "            )\n",
    "            self._chromaticity_diagram_axes.scatter(\n",
    "                self._colour_checker_uv[:, 0],\n",
    "                self._colour_checker_uv[:, 1],\n",
    "                c='white',\n",
    "                marker='D',\n",
    "                s=5)\n",
    "\n",
    "        # Reference Image Axes\n",
    "        self._reference_image_axes = self._figure.add_subplot(self._grid_spec[\n",
    "            reference_image_indices[0], reference_image_indices[1]])\n",
    "        self._reference_image_axes.set_xticks([])\n",
    "        self._reference_image_axes.set_yticks([])\n",
    "        self._reference_image_imshow = self._reference_image_axes.imshow(\n",
    "            self.working_space_to_display_space(self._reference_image_working))\n",
    "\n",
    "    def initialise_widgets(self):\n",
    "        # *** Widgets ***\n",
    "        self._disable_medidicina_CheckBox = (\n",
    "            ipywidgets.widgets.Checkbox(description='Disable Medicina'))\n",
    "        self._export_reference_image_Button = (\n",
    "            ipywidgets.widgets.Button(description=\"Export Image\"))\n",
    "        self._save_figure_image_Button = (\n",
    "            ipywidgets.widgets.Button(description=\"Save Figure\"))\n",
    "        self._exposure_FloatSlider = (\n",
    "            ipywidgets.widgets.FloatSlider(\n",
    "                min=-8.0,\n",
    "                max=8.0,\n",
    "                step=0.1,\n",
    "                value=self._reference_image_exposure,\n",
    "                description='Exposure'))\n",
    "        \n",
    "        # *** Layout ***\n",
    "        self.layout.display = 'flex'\n",
    "        self.layout.flex_flow = 'column'\n",
    "        self.layout.align_items = 'stretch'\n",
    "        self.layout.width = '{0}px'.format(self._figure_size[0] * 100 +\n",
    "                                           MPL_BOX_DECORATION_WIDTH)\n",
    "\n",
    "        self._global_controls_HBox = ipywidgets.widgets.HBox([\n",
    "            self._disable_medidicina_CheckBox,\n",
    "            self._export_reference_image_Button,\n",
    "            self._save_figure_image_Button,\n",
    "            self._exposure_FloatSlider,\n",
    "        ])\n",
    "\n",
    "        self._controls_Tab = ipywidgets.widgets.Tab(children=[\n",
    "            self._global_controls_HBox,\n",
    "        ])\n",
    "        self._controls_Tab.set_title(0, 'Global Controls')\n",
    "\n",
    "        self._controls_Tab.layout = border_layout()\n",
    "\n",
    "        self._output.layout = border_layout()\n",
    "        self.children = [self._output, self._controls_Tab]\n",
    "\n",
    "    def attach_callbacks(self):\n",
    "        self._disable_medidicina_CheckBox.observe(self.toggle_medidicina)\n",
    "        self._export_reference_image_Button.on_click(\n",
    "            self.export_reference_image)\n",
    "        self._save_figure_image_Button.on_click(self.save_figure)\n",
    "        self._exposure_FloatSlider.observe(\n",
    "            self.set_exposure, 'value')\n",
    "\n",
    "    def reference_space_to_working_space(self, RGB):\n",
    "        return colour.RGB_to_RGB(RGB, self._reference_space,\n",
    "                                 self._working_space)\n",
    "\n",
    "    def working_space_to_reference_space(self, RGB):\n",
    "        return colour.RGB_to_RGB(RGB, self._working_space,\n",
    "                                 self._reference_space)\n",
    "\n",
    "    def working_space_to_display_space(self,\n",
    "                                       RGB,\n",
    "                                       apply_encoding_cctf=True,\n",
    "                                       clip=True):\n",
    "        RGB = colour.RGB_to_RGB(\n",
    "            RGB,\n",
    "            self._working_space,\n",
    "            self._display_space,\n",
    "            apply_encoding_cctf=apply_encoding_cctf)\n",
    "\n",
    "        if clip:\n",
    "            return np.clip(RGB, 0, 1)\n",
    "        else:\n",
    "            return RGB\n",
    "\n",
    "    def update_scatter_plot(self, RGB):\n",
    "        if self._enable_chromaticity_diagram:\n",
    "            RGB = RGB[RGB[:, 1].argsort()]\n",
    "            XYZ = colour.RGB_to_XYZ(RGB, self._working_space.whitepoint,\n",
    "                                    self._working_space.whitepoint,\n",
    "                                    self._working_space.RGB_to_XYZ_matrix)\n",
    "            uv = colour.Luv_to_uv(\n",
    "                colour.XYZ_to_Luv(XYZ, self._working_space.whitepoint),\n",
    "                self._working_space.whitepoint)\n",
    "            self._scatter_path_collection.set_offsets(uv)\n",
    "            self._scatter_path_collection.set_facecolor(\n",
    "                self.working_space_to_display_space(RGB))\n",
    "\n",
    "    def toggle_medidicina(self, change):\n",
    "        if not change:\n",
    "            return\n",
    "\n",
    "        if change['name'] == 'value':\n",
    "            self._enable = not change['new']\n",
    "\n",
    "            self.update_widget(None)\n",
    "\n",
    "    def export_reference_image(self, change):\n",
    "        path = os.path.splitext(self._reference_image_path)[0]\n",
    "\n",
    "        colour.write_image(\n",
    "            self.working_space_to_reference_space(\n",
    "                self._reference_image_mapped), '{0}_{1}.exr'.format(\n",
    "                    path, self.__class__.__name__))\n",
    "\n",
    "    def save_figure(self, change):\n",
    "        path = os.path.splitext(self._reference_image_path)[0]\n",
    "        plt.savefig('{0}_{1}.png'.format(path, self.__class__.__name__),\n",
    "                   facecolor=[2 / 3 / 10] * 3, transparent=False, bbox_inches='tight')\n",
    "\n",
    "    def set_exposure(self, change):\n",
    "        if not change:\n",
    "            return\n",
    "\n",
    "        if change['name'] == 'value':\n",
    "            EV = self._exposure_FloatSlider.value\n",
    "            self._reference_image_working = adjust_exposure(\n",
    "                self._reference_image_pre_working, EV)\n",
    "\n",
    "            if self._enable_chromaticity_diagram:\n",
    "                self._decimated_image_working = adjust_exposure(\n",
    "                self._decimated_image_pre_working, EV)\n",
    "            \n",
    "            self.update_widget(None)\n",
    "\n",
    "    def update_widget(self, change):\n",
    "        if not self._enable:\n",
    "            self._reference_image_imshow.set_data(self.working_space_to_display_space(\n",
    "                self._reference_image_working))\n",
    "        \n",
    "            if self._enable_chromaticity_diagram:\n",
    "                self.update_scatter_plot(self._decimated_image_working)\n",
    "\n",
    "            self._figure.canvas.draw_idle()\n",
    "\n",
    "\n",
    "GamutMedicinaBaseWidget()"
   ]
  },
  {
   "cell_type": "code",
   "execution_count": 7,
   "metadata": {},
   "outputs": [
    {
     "data": {
      "application/vnd.jupyter.widget-view+json": {
       "model_id": "e7644a2ef9d0473c85dbcfcf0e4e61a8",
       "version_major": 2,
       "version_minor": 0
      },
      "text/plain": [
       "GamutMedicinaBaseWidget(children=(Output(layout=Layout(border='solid 4px #222', margin='4px', padding='0')), T…"
      ]
     },
     "metadata": {},
     "output_type": "display_data"
    }
   ],
   "source": [
    "GamutMedicinaBaseWidget(enable_colour_wheel=False)"
   ]
  },
  {
   "cell_type": "code",
   "execution_count": 8,
   "metadata": {},
   "outputs": [
    {
     "data": {
      "application/vnd.jupyter.widget-view+json": {
       "model_id": "7d85513b1b1842699b544f9765437b71",
       "version_major": 2,
       "version_minor": 0
      },
      "text/plain": [
       "GamutMedicinaBaseWidget(children=(Output(layout=Layout(border='solid 4px #222', margin='4px', padding='0')), T…"
      ]
     },
     "metadata": {},
     "output_type": "display_data"
    }
   ],
   "source": [
    "GamutMedicinaBaseWidget(enable_chromaticity_diagram=False)"
   ]
  },
  {
   "cell_type": "code",
   "execution_count": 9,
   "metadata": {},
   "outputs": [
    {
     "data": {
      "application/vnd.jupyter.widget-view+json": {
       "model_id": "4e01d157c8ce46ef9db943cb588c2364",
       "version_major": 2,
       "version_minor": 0
      },
      "text/plain": [
       "GamutMedicinaBaseWidget(children=(Output(layout=Layout(border='solid 4px #222', margin='4px', padding='0')), T…"
      ]
     },
     "metadata": {},
     "output_type": "display_data"
    }
   ],
   "source": [
    "GamutMedicinaBaseWidget(\n",
    "    enable_colour_wheel=False, enable_chromaticity_diagram=False)"
   ]
  },
  {
   "cell_type": "markdown",
   "metadata": {},
   "source": [
    "## Compression & Blending Functions"
   ]
  },
  {
   "cell_type": "markdown",
   "metadata": {},
   "source": [
    "Gamut mapping commonly involves compressing data from a larger space to a smaller space.\n",
    "\n",
    "Three sigmoid compression functions are defined:\n",
    "\n",
    "- **tanh**, a function based on the *Hyperbolic Tangent*:\n",
    "$$a + b \\cdot tanh\\bigg(\\cfrac{x - a}{b}\\bigg)$$ where $a$ is the compression threshold, i.e. the point at which the function starts compressing the value $x$ and $b$ is the compression limit, i.e. the point at which the compression has reached its limit.\n",
    "- **atan**, a function based on the *Arc Tangent*:\n",
    "$$a + b \\cdot\\cfrac{2}{\\pi}\\cdot atan\\Bigg(\\cfrac{\\cfrac{\\pi}{2}\\cdot\\big(x - a\\big)}{b}\\Bigg)$$\n",
    "- **Simple**, a simple compression function:\n",
    "$$a + \\Bigg(\\cfrac{-1}{\\bigg(\\cfrac{x - a}{b} + 1\\bigg)} + 1 \\Bigg) \\cdot b$$"
   ]
  },
  {
   "cell_type": "code",
   "execution_count": 10,
   "metadata": {},
   "outputs": [],
   "source": [
    "def tanh_compression_function(x, a=0.8, b=1 - 0.8):\n",
    "    x = colour.utilities.as_float_array(x)\n",
    "\n",
    "    return np.where(x > a, a + b * np.tanh((x - a) / b), x)\n",
    "\n",
    "\n",
    "def atan_compression_function(x, a=0.8, b=1 - 0.8):\n",
    "    x = colour.utilities.as_float_array(x)\n",
    "\n",
    "    return np.where(x > a, a + b * 2 / np.pi * np.arctan(((np.pi / 2) * (x - a)) / b), x)\n",
    "\n",
    "\n",
    "def simple_compression_function(x, a=0.8, b=1 - 0.8):\n",
    "    x = colour.utilities.as_float_array(x)\n",
    "\n",
    "    return np.where(x > a, a + (-1 / ((x - a) / b + 1) + 1) * b, x)\n",
    "\n",
    "\n",
    "COMPRESSION_FUNCTIONS = {\n",
    "    'tanh' : tanh_compression_function,\n",
    "    'atan' : atan_compression_function,\n",
    "    'simple' : simple_compression_function,\n",
    "}\n",
    "\n",
    "\n",
    "def smoothstep(x, a=0, b=1):\n",
    "    i = np.clip((x - a) / (b - a), 0, 1)\n",
    "\n",
    "    return i**2 * (3 - 2 * i)\n",
    "\n",
    "\n",
    "def derivative(x, func, d=1e-7):\n",
    "    return (func(x + d) - func(x - d)) / (2 * d)"
   ]
  },
  {
   "cell_type": "code",
   "execution_count": 11,
   "metadata": {},
   "outputs": [
    {
     "data": {
      "application/vnd.jupyter.widget-view+json": {
       "model_id": "92ac61e8fe0d451fa8d1ac3403d52ea6",
       "version_major": 2,
       "version_minor": 0
      },
      "text/plain": [
       "Canvas(toolbar=Toolbar(toolitems=[('Home', 'Reset original view', 'home', 'home'), ('Back', 'Back to previous …"
      ]
     },
     "metadata": {},
     "output_type": "display_data"
    }
   ],
   "source": [
    "colour.plotting.plot_multi_functions(\n",
    "    {\n",
    "        'tanh': tanh_compression_function,\n",
    "        'd/dx(tanh)': lambda x: derivative(x, tanh_compression_function),\n",
    "        'atan': atan_compression_function,\n",
    "        'd/dx(atan)': lambda x: derivative(x, atan_compression_function),\n",
    "        'simple': simple_compression_function,\n",
    "        'd/dx(simple)': lambda x: derivative(x, simple_compression_function),\n",
    "    },\n",
    "    **{\n",
    "        'figure.figsize': (11, 11),\n",
    "        'bounding_box': (0.5, 1.75, 0, 1.25),\n",
    "        'samples':\n",
    "        np.linspace(0, 2, 1000),\n",
    "        'plot_kwargs': [\n",
    "            {\n",
    "                'c': 'r',\n",
    "                'linestyle': 'dashdot'\n",
    "            },\n",
    "            {\n",
    "                'c': 'r'\n",
    "            },\n",
    "            {\n",
    "                'c': 'g',\n",
    "                'linestyle': 'dashdot'\n",
    "            },\n",
    "            {\n",
    "                'c': 'g'\n",
    "            },\n",
    "            {\n",
    "                'c': 'b',\n",
    "                'linestyle': 'dashdot'\n",
    "            },\n",
    "            {\n",
    "                'c': 'b'\n",
    "            },\n",
    "        ]\n",
    "    },\n",
    ");"
   ]
  },
  {
   "cell_type": "markdown",
   "metadata": {},
   "source": [
    "## Mansencal and Scharfenberg (2020) - HSV Control Based Study Model"
   ]
  },
  {
   "cell_type": "markdown",
   "metadata": {},
   "source": [
    "*Mansencal and Scharfenberg (2020)* gamut mapping study model is built on top of the [HSV colourspace](https://en.wikipedia.org/wiki/HSL_and_HSV):\n",
    "\n",
    "- Scene-referred RGB exposure values are converted to HSV.\n",
    "- The saturation component $S$ is compressed with a cherry-picked compression function, e.g. $tanh$.\n",
    "- The hue component $H$ is warped according to user defined control values.\n",
    "- The HSV values are converted back to scene-referred RGB exposure values and then blended with the original scene-referred RGB exposure values function through a smoothstep function.\n",
    "\n",
    "The model offers good controls but might tend to exhibit excessive saturation of secondary colours, i.e. cyan, yellow and especially magenta.\n",
    "This can be tuned with the hue controls.\n",
    "\n",
    "More information is available on [ACEScentral](https://community.acescentral.com/t/gamut-mapping-in-cylindrical-and-conic-spaces/)."
   ]
  },
  {
   "cell_type": "code",
   "execution_count": 12,
   "metadata": {},
   "outputs": [
    {
     "data": {
      "application/vnd.jupyter.widget-view+json": {
       "model_id": "3c89bfb982da4235a4c905406612e97c",
       "version_major": 2,
       "version_minor": 0
      },
      "text/plain": [
       "GamutMedicinaHSVControlWidget(children=(Output(layout=Layout(border='solid 4px #222', margin='4px', padding='0…"
      ]
     },
     "metadata": {},
     "output_type": "display_data"
    }
   ],
   "source": [
    "def medicina_HSV_control(RGB, H, S, V, H_x, H_y, S_c, S_m, C_f, HSV_to_RGB):\n",
    "    S_m = S_m[..., np.newaxis]\n",
    "\n",
    "    interpolator = scipy.interpolate.interp1d(H_x, H_y)\n",
    "\n",
    "    HSV_c = colour.utilities.tstack(\n",
    "        [interpolator(H) % 1, C_f(S, S_c, 1 - S_c), V])\n",
    "\n",
    "    return HSV_to_RGB(HSV_c) * S_m + RGB * (1 - S_m)\n",
    "\n",
    "\n",
    "class GamutMedicinaHSVControlWidget(GamutMedicinaBaseWidget):\n",
    "    def __init__(self,\n",
    "                 reference_image=None,\n",
    "                 hue_wedge=45,\n",
    "                 protected_area_threshold=0.7,\n",
    "                 compression_threshold=0.8,\n",
    "                 compression_function='tanh',\n",
    "                 RGB_to_HSV=colour.RGB_to_HSV,\n",
    "                 HSV_to_RGB=colour.HSV_to_RGB,\n",
    "                 *args,\n",
    "                 **kwargs):\n",
    "\n",
    "        self._hue_wedge = hue_wedge\n",
    "        self._protected_area_threshold = protected_area_threshold\n",
    "        self._compression_threshold = compression_threshold\n",
    "        self._compression_function = compression_function\n",
    "\n",
    "        self.RGB_to_HSV = RGB_to_HSV\n",
    "        self.HSV_to_RGB = HSV_to_RGB\n",
    "\n",
    "        super().__init__(reference_image, *args, **kwargs)\n",
    "\n",
    "        self._RGB_r = None\n",
    "        self._H_r = self._S_r = self._V_r = None\n",
    "        self._S_r_m = None\n",
    "\n",
    "        if self._enable_colour_wheel:\n",
    "            self._RGB_w = None\n",
    "            self._H_w = self._S_w = self._V_w = None\n",
    "            self._S_w_m = None\n",
    "\n",
    "        if self._enable_chromaticity_diagram:\n",
    "            self._RGB_d = None\n",
    "            self._H_d = self._S_d = self._V_d = None\n",
    "            self._S_d_m = None\n",
    "\n",
    "        self._angles = None\n",
    "        self._x_i = self._y_i = self._y_i = None\n",
    "\n",
    "        if self._enable_colour_wheel:\n",
    "            self._protected_area_threshold_colour_wheel_plot = None\n",
    "            self._compression_threshold_colour_wheel_plot = None\n",
    "            self._hue_controls_plot = None\n",
    "\n",
    "        if self._enable_chromaticity_diagram:\n",
    "            self._protected_area_threshold_chromaticity_diagram_plot = None\n",
    "            self._compression_threshold_chromaticity_diagram_plot = None\n",
    "\n",
    "        self._reset_protected_area_controls_Button = None\n",
    "        self._protected_area_threshold_FloatSlider = None\n",
    "        self._reset_compression_controls_Button = None\n",
    "        self._compression_threshold_FloatSlider = None\n",
    "        self._reset_hue_controls_Button = None\n",
    "        self._wedge_controls = None\n",
    "        self._protected_area_controls_HBox = None\n",
    "        self._saturation_controls_HBox = None\n",
    "        self._hue_controls_HBox = None\n",
    "\n",
    "        self.initialize_data()\n",
    "        self.initialize_axes()\n",
    "        self.initialise_widgets()\n",
    "        self.attach_callbacks()\n",
    "\n",
    "        self.update_widget(None)\n",
    "\n",
    "    def initialize_data(self):\n",
    "        super().initialize_data()\n",
    "\n",
    "        # *** Reference Image ***\n",
    "        self._RGB_r = self._reference_image_working\n",
    "        self._H_r, self._S_r, self._V_r = colour.utilities.tsplit(\n",
    "            self.RGB_to_HSV(self._reference_image_working))\n",
    "        self._S_r_m = smoothstep(self._S_r, self._protected_area_threshold,\n",
    "                                 self._compression_threshold)\n",
    "\n",
    "        # *** Colour Wheel ***\n",
    "        if self._enable_colour_wheel:\n",
    "            self._RGB_w = self._colour_wheel[..., 0:3]\n",
    "            self._H_w, self._S_w, self._V_w = colour.utilities.tsplit(\n",
    "                self.RGB_to_HSV(self._RGB_w))\n",
    "            self._S_w_m = smoothstep(self._S_w, self._protected_area_threshold,\n",
    "                                     self._compression_threshold)\n",
    "\n",
    "        # *** Decimated Image, i.e. Scatter ***\n",
    "        if self._enable_chromaticity_diagram:\n",
    "            self._RGB_d = self._decimated_image_working\n",
    "            self._H_d, self._S_d, self._V_d = colour.utilities.tsplit(\n",
    "                self.RGB_to_HSV(self._decimated_image_working))\n",
    "            self._S_d_m = smoothstep(self._S_d, self._protected_area_threshold,\n",
    "                                     self._compression_threshold)\n",
    "\n",
    "        # *** Angles ***\n",
    "        self._angles = np.arange(0, 360, self._hue_wedge) / 360\n",
    "\n",
    "        # *** Initial State ***\n",
    "        self._x_i = np.hstack([self._angles, 1])\n",
    "        self._y_i = self._angles\n",
    "        self._y_i = np.hstack([self._y_i, self._y_i[0] + 1])\n",
    "\n",
    "    def initialize_axes(self):\n",
    "        super().initialize_axes()\n",
    "\n",
    "        circumference = np.linspace(0, np.pi * 2, self._colour_wheel_samples)\n",
    "        # Colour Wheel Axes\n",
    "        if self._enable_colour_wheel:\n",
    "            self._protected_area_threshold_colour_wheel_plot = (\n",
    "                self._colour_wheel_polar_axes.plot(\n",
    "                    circumference,\n",
    "                    np.full(self._colour_wheel_samples,\n",
    "                            self._protected_area_threshold),\n",
    "                    linestyle='dotted',\n",
    "                    color='yellow')[0])\n",
    "            self._compression_threshold_colour_wheel_plot = (\n",
    "                self._colour_wheel_polar_axes.plot(\n",
    "                    circumference,\n",
    "                    np.full(self._colour_wheel_samples,\n",
    "                            self._compression_threshold),\n",
    "                    linestyle='dashdot',\n",
    "                    color='cyan')[0])\n",
    "\n",
    "            self._hue_controls_plot = (self._colour_wheel_polar_axes.plot(\n",
    "                self._y_i * np.pi * 2,\n",
    "                np.ones(self._y_i.shape),\n",
    "                'o-',\n",
    "                color='white')[0])\n",
    "\n",
    "        # Chromaticity Diagram Axes\n",
    "        if self._enable_chromaticity_diagram:\n",
    "            self._protected_area_threshold_chromaticity_diagram_plot = (\n",
    "                self._chromaticity_diagram_axes.plot(\n",
    "                    circumference,\n",
    "                    circumference,\n",
    "                    linestyle='dotted',\n",
    "                    color='yellow')[0])\n",
    "            self._compression_threshold_chromaticity_diagram_plot = (\n",
    "                self._chromaticity_diagram_axes.plot(\n",
    "                    circumference,\n",
    "                    circumference,\n",
    "                    linestyle='dashdot',\n",
    "                    color='cyan')[0])\n",
    "\n",
    "    def initialise_widgets(self):\n",
    "        super().initialise_widgets()\n",
    "\n",
    "        # *** Widgets ***\n",
    "        self._reset_protected_area_controls_Button = (\n",
    "            ipywidgets.widgets.Button(description=\"Reset Protected Area\"))\n",
    "        self._protected_area_threshold_FloatSlider = (\n",
    "            ipywidgets.widgets.FloatSlider(\n",
    "                min=0.0,\n",
    "                max=1.0,\n",
    "                step=0.01,\n",
    "                value=self._protected_area_threshold,\n",
    "                description='Protected Area Threshold'))\n",
    "\n",
    "        self._reset_compression_controls_Button = (\n",
    "            ipywidgets.widgets.Button(description=\"Reset Saturation Controls\"))\n",
    "        compression_functions = list(COMPRESSION_FUNCTIONS.keys())\n",
    "        self._compression_function_DropDown = ipywidgets.widgets.Dropdown(\n",
    "            options=compression_functions,\n",
    "            value=self._compression_function,\n",
    "            description='Compression Function:',\n",
    "        )\n",
    "        self._compression_threshold_FloatSlider = (\n",
    "            ipywidgets.widgets.FloatSlider(\n",
    "                min=0.0,\n",
    "                max=1.0,\n",
    "                step=0.01,\n",
    "                value=self._compression_threshold,\n",
    "                description='Compression Threshold'))\n",
    "\n",
    "        self._reset_hue_controls_Button = ipywidgets.widgets.Button(\n",
    "            description=\"Reset Hue Controls\")\n",
    "        self._wedge_controls = [\n",
    "            ipywidgets.widgets.FloatSlider(\n",
    "                min=-1,\n",
    "                max=1,\n",
    "                step=0.01,\n",
    "                value=0,\n",
    "                description='{0}°'.format(int(angle * 360)))\n",
    "            for angle in self._angles\n",
    "        ]\n",
    "\n",
    "        # *** Layout ***\n",
    "        self._protected_area_controls_HBox = ipywidgets.widgets.HBox([\n",
    "            self._reset_protected_area_controls_Button,\n",
    "            self._protected_area_threshold_FloatSlider,\n",
    "        ])\n",
    "\n",
    "        self._saturation_controls_HBox = ipywidgets.widgets.HBox([\n",
    "            self._reset_compression_controls_Button,\n",
    "            self._compression_function_DropDown,\n",
    "            self._compression_threshold_FloatSlider\n",
    "        ])\n",
    "\n",
    "        wedge_controls_batches = batch(self._wedge_controls, 3)\n",
    "        self._hue_controls_HBox = ipywidgets.widgets.HBox(\n",
    "            [ipywidgets.widgets.VBox([self._reset_hue_controls_Button])] + [\n",
    "                ipywidgets.widgets.VBox(wedge_controls)\n",
    "                for wedge_controls in wedge_controls_batches\n",
    "            ])\n",
    "\n",
    "        self._controls_Tab.children += (\n",
    "            self._protected_area_controls_HBox,\n",
    "            self._saturation_controls_HBox,\n",
    "            self._hue_controls_HBox,\n",
    "        )\n",
    "\n",
    "        self._controls_Tab.set_title(1, 'Protected Area Controls')\n",
    "        self._controls_Tab.set_title(2, 'Saturation Controls')\n",
    "        self._controls_Tab.set_title(3, 'Hue Controls')\n",
    "\n",
    "    def attach_callbacks(self):\n",
    "        super().attach_callbacks()\n",
    "\n",
    "        self._reset_protected_area_controls_Button.on_click(\n",
    "            self.reset_protected_area_controls)\n",
    "        self._protected_area_threshold_FloatSlider.observe(\n",
    "            self.update_protected_area_mask, 'value')\n",
    "\n",
    "        self._reset_compression_controls_Button.on_click(\n",
    "            self.reset_compression_controls)\n",
    "        self._compression_function_DropDown.observe(self.update_widget,\n",
    "                                                    'value')\n",
    "        self._compression_threshold_FloatSlider.observe(\n",
    "            self.update_widget, 'value')\n",
    "\n",
    "        self._reset_hue_controls_Button.on_click(self.reset_hue_controls)\n",
    "        for slider in self._wedge_controls:\n",
    "            slider.observe(self.update_widget, 'value')\n",
    "\n",
    "    def set_exposure(self, change):\n",
    "        if not change:\n",
    "            return\n",
    "\n",
    "        if change['name'] == 'value':\n",
    "            EV = self._exposure_FloatSlider.value\n",
    "\n",
    "            self._RGB_r = adjust_exposure(self._reference_image_pre_working,\n",
    "                                          EV)\n",
    "            self._H_r, self._S_r, self._V_r = colour.utilities.tsplit(\n",
    "                self.RGB_to_HSV(self._RGB_r))\n",
    "\n",
    "            if self._enable_chromaticity_diagram:\n",
    "                self._RGB_d = adjust_exposure(\n",
    "                    self._decimated_image_pre_working, EV)\n",
    "                self._H_d, self._S_d, self._V_d = colour.utilities.tsplit(\n",
    "                    self.RGB_to_HSV(self._RGB_d))\n",
    "\n",
    "            self.update_protected_area_mask({'name': 'value'})\n",
    "\n",
    "    def update_region_colour_wheel_plot(self, V_r, region_colour_wheel_plot):\n",
    "        if self._enable_colour_wheel:\n",
    "            region_colour_wheel_plot.set_ydata(\n",
    "                np.full(self._colour_wheel_samples, V_r))\n",
    "\n",
    "    def update_protected_area_threshold_colour_wheel_plot(self, U_r):\n",
    "        if self._enable_colour_wheel:\n",
    "            self.update_region_colour_wheel_plot(\n",
    "                U_r, self._protected_area_threshold_colour_wheel_plot)\n",
    "\n",
    "    def update_compression_threshold_colour_wheel_plot(self, S_c):\n",
    "        if self._enable_colour_wheel:\n",
    "            self.update_region_colour_wheel_plot(\n",
    "                S_c, self._compression_threshold_colour_wheel_plot)\n",
    "\n",
    "    def update_region_chromaticity_diagram_plot(\n",
    "            self, V_r, region_chromaticity_diagram_plot):\n",
    "        if self._enable_chromaticity_diagram:\n",
    "            HSV = colour.utilities.tstack([\n",
    "                np.linspace(0, 1, self._colour_wheel_samples),\n",
    "                np.full(self._colour_wheel_samples, V_r),\n",
    "                np.ones(self._colour_wheel_samples)\n",
    "            ])\n",
    "            uv = colour.Luv_to_uv(\n",
    "                colour.XYZ_to_Luv(\n",
    "                    colour.RGB_to_XYZ(\n",
    "                        self.HSV_to_RGB(HSV), self._working_space.whitepoint,\n",
    "                        self._working_space.whitepoint,\n",
    "                        self._working_space.RGB_to_XYZ_matrix),\n",
    "                    self._working_space.whitepoint))\n",
    "\n",
    "            region_chromaticity_diagram_plot.set_data(uv[:, 0], uv[:, 1])\n",
    "\n",
    "    def update_protected_area_threshold_chromaticity_diagram_plot(self, U_r):\n",
    "        if self._enable_chromaticity_diagram:\n",
    "            self.update_region_chromaticity_diagram_plot(\n",
    "                U_r, self._protected_area_threshold_chromaticity_diagram_plot)\n",
    "\n",
    "    def update_compression_threshold_chromaticity_diagram_plot(self, S_c):\n",
    "        if self._enable_chromaticity_diagram:\n",
    "            self.update_region_chromaticity_diagram_plot(\n",
    "                S_c, self._compression_threshold_chromaticity_diagram_plot)\n",
    "\n",
    "    def update_protected_area_mask(self, change):\n",
    "        if not change:\n",
    "            return\n",
    "\n",
    "        if change['name'] == 'value':\n",
    "            U_r = self._protected_area_threshold_FloatSlider.value\n",
    "            S_c = self._compression_threshold_FloatSlider.value\n",
    "\n",
    "            self._S_d_m = smoothstep(self._S_d, U_r, S_c)\n",
    "\n",
    "            if self._enable_colour_wheel:\n",
    "                self._S_w_m = smoothstep(self._S_w, U_r, S_c)\n",
    "\n",
    "            if self._enable_chromaticity_diagram:\n",
    "                self._S_r_m = smoothstep(self._S_r, U_r, S_c)\n",
    "\n",
    "        self.update_widget(None)\n",
    "\n",
    "    def wedge_control_to_hue_offset(self, value):\n",
    "        slider = self._wedge_controls[0]\n",
    "\n",
    "        return colour.utilities.linear_conversion(\n",
    "            value, [slider.min, slider.max],\n",
    "            [-self._hue_wedge / 360, self._hue_wedge / 360])\n",
    "\n",
    "    def reset_protected_area_controls(self, change):\n",
    "        self._protected_area_threshold_FloatSlider.value = (\n",
    "            self._protected_area_threshold)\n",
    "\n",
    "        self.update_protected_area_mask(None)\n",
    "\n",
    "    def reset_compression_controls(self, change):\n",
    "        self._compression_threshold_FloatSlider.value = (\n",
    "            self._compression_threshold)\n",
    "\n",
    "        self.update_widget(None)\n",
    "\n",
    "    def reset_hue_controls(self, change):\n",
    "        for slider in self._wedge_controls:\n",
    "            slider.value = 0\n",
    "\n",
    "        self.update_widget(None)\n",
    "\n",
    "    def update_reference_image_axes(self, S_c, H_y, C_f):\n",
    "        RGB_r = medicina_HSV_control(self._RGB_r, self._H_r, self._S_r,\n",
    "                                     self._V_r, self._x_i, H_y, S_c,\n",
    "                                     self._S_r_m, C_f, self.HSV_to_RGB)\n",
    "        self._reference_image_mapped = RGB_r\n",
    "        self._reference_image_imshow.set_data(\n",
    "            self.working_space_to_display_space(RGB_r))\n",
    "\n",
    "    def update_colour_wheel_axes(self, U_r, S_c, H_y, H_o, C_f):\n",
    "        if self._enable_colour_wheel:\n",
    "            R_w, G_w, B_w = colour.utilities.tsplit(\n",
    "                medicina_HSV_control(self._RGB_w, self._H_w, self._S_w,\n",
    "                                     self._V_w, self._x_i, H_y, S_c,\n",
    "                                     self._S_w_m, C_f, self.HSV_to_RGB))\n",
    "            self._colour_wheel_imshow.set_data(\n",
    "                np.clip(\n",
    "                    colour.tstack([R_w, G_w, B_w,\n",
    "                                   self._colour_wheel[..., -1]]), 0, 1))\n",
    "            self.update_protected_area_threshold_colour_wheel_plot(U_r)\n",
    "            self.update_compression_threshold_colour_wheel_plot(S_c)\n",
    "\n",
    "            H_x = H_o + self._angles\n",
    "            H_x = np.hstack([H_x, H_x[0]])\n",
    "            self._hue_controls_plot.set_xdata(H_x * np.pi * 2)\n",
    "\n",
    "    def update_chromaticity_diagram_axes(self, U_r, S_c, H_y, C_f):\n",
    "        if self._enable_chromaticity_diagram:\n",
    "            RGB_r_s = medicina_HSV_control(self._RGB_d, self._H_d, self._S_d,\n",
    "                                           self._V_d, self._x_i, H_y, S_c,\n",
    "                                           self._S_d_m, C_f, self.HSV_to_RGB)\n",
    "            self.update_scatter_plot(RGB_r_s)\n",
    "            self.update_protected_area_threshold_chromaticity_diagram_plot(U_r)\n",
    "            self.update_compression_threshold_chromaticity_diagram_plot(S_c)\n",
    "\n",
    "    def update_widget(self, change):\n",
    "        super().update_widget(change)\n",
    "\n",
    "        if self._enable:\n",
    "            U_r = self._protected_area_threshold_FloatSlider.value\n",
    "            S_c = self._compression_threshold_FloatSlider.value\n",
    "            C_f = COMPRESSION_FUNCTIONS[\n",
    "                self._compression_function_DropDown.value]\n",
    "\n",
    "            hue_offsets = np.array([\n",
    "                self.wedge_control_to_hue_offset(slider.value)\n",
    "                for slider in self._wedge_controls\n",
    "            ])\n",
    "\n",
    "            H_y = -hue_offsets + self._angles\n",
    "            H_y = np.hstack([H_y, H_y[0] + 1])\n",
    "\n",
    "            self.update_reference_image_axes(S_c, H_y, C_f)\n",
    "\n",
    "            if self._enable_colour_wheel:\n",
    "                self.update_colour_wheel_axes(U_r, S_c, H_y, hue_offsets, C_f)\n",
    "\n",
    "            if self._enable_chromaticity_diagram:\n",
    "                self.update_chromaticity_diagram_axes(U_r, S_c, H_y, C_f)\n",
    "\n",
    "            self._figure.canvas.draw_idle()\n",
    "\n",
    "\n",
    "GamutMedicinaHSVControlWidget(\n",
    "    '../resources/images/A009C002_190210_R0EI_Alexa_LogCWideGamut.exr')"
   ]
  },
  {
   "cell_type": "code",
   "execution_count": 13,
   "metadata": {},
   "outputs": [
    {
     "data": {
      "application/vnd.jupyter.widget-view+json": {
       "model_id": "5d386328ae22414eac55f3d05263c572",
       "version_major": 2,
       "version_minor": 0
      },
      "text/plain": [
       "GamutMedicinaHSVControlWidget(children=(Output(layout=Layout(border='solid 4px #222', margin='4px', padding='0…"
      ]
     },
     "metadata": {},
     "output_type": "display_data"
    }
   ],
   "source": [
    "GamutMedicinaHSVControlWidget('../resources/images/A002_C029_06025K.exr')"
   ]
  },
  {
   "cell_type": "code",
   "execution_count": 14,
   "metadata": {},
   "outputs": [
    {
     "data": {
      "application/vnd.jupyter.widget-view+json": {
       "model_id": "c3b26e6fbf1943f8896f2f9bcf3ebd1e",
       "version_major": 2,
       "version_minor": 0
      },
      "text/plain": [
       "GamutMedicinaHSVControlWidget(children=(Output(layout=Layout(border='solid 4px #222', margin='4px', padding='0…"
      ]
     },
     "metadata": {},
     "output_type": "display_data"
    }
   ],
   "source": [
    "GamutMedicinaHSVControlWidget(\n",
    "    '../resources/images/Cornell_Box_Rigid_Spheres_190_Patch_Roughplastic_Point_Grey_Grasshopper_50S5C_RGB_W_A.exr')"
   ]
  },
  {
   "cell_type": "code",
   "execution_count": 15,
   "metadata": {},
   "outputs": [
    {
     "data": {
      "application/vnd.jupyter.widget-view+json": {
       "model_id": "5f7b02728f3e46cdaf6917be0e5cdd96",
       "version_major": 2,
       "version_minor": 0
      },
      "text/plain": [
       "GamutMedicinaHSVControlWidget(children=(Output(layout=Layout(border='solid 4px #222', margin='4px', padding='0…"
      ]
     },
     "metadata": {},
     "output_type": "display_data"
    }
   ],
   "source": [
    "GamutMedicinaHSVControlWidget(\n",
    "    '../resources/images/Cornell_Box_Rigid_Spheres_190_Patch_Roughplastic_Point_Grey_Grasshopper_50S5C_RGB_W_A.exr',\n",
    "    enable_colour_wheel=False)"
   ]
  },
  {
   "cell_type": "markdown",
   "metadata": {},
   "source": [
    "## Smith (2020) - RGB Saturation Study Model"
   ]
  },
  {
   "cell_type": "markdown",
   "metadata": {},
   "source": [
    "*Smith (2020)* gamut mapping study model is directly operating in the RGB colourspace:\n",
    "\n",
    "- Like with the HSV colourspace, an achromatic axis is computed for the scene-referred RGB exposure values.\n",
    "- The distance from the individual $R$, $G$ and $B$ to the achromatic axis is compressed with a cherry-picked compression function, e.g. $tanh$.\n",
    "\n",
    "The model is extremely simple and elegant while offering good computational speed.\n",
    "\n",
    "More information is available on [ACEScentral](https://community.acescentral.com/t/rgb-saturation-gamut-mapping-approach-and-a-comp-vfx-perspective/)."
   ]
  },
  {
   "cell_type": "code",
   "execution_count": 16,
   "metadata": {},
   "outputs": [
    {
     "data": {
      "application/vnd.jupyter.widget-view+json": {
       "model_id": "f65c121a82b24774bf7a9a7c2a04763f",
       "version_major": 2,
       "version_minor": 0
      },
      "text/plain": [
       "GamutMedicinaRGBSaturationWidget(children=(Output(layout=Layout(border='solid 4px #222', margin='4px', padding…"
      ]
     },
     "metadata": {},
     "output_type": "display_data"
    }
   ],
   "source": [
    "def medicina_RGB_saturation(RGB, C_t, C_f):\n",
    "    C_t = 1 - C_t\n",
    "\n",
    "    L = np.max(RGB, axis=-1)[..., np.newaxis]\n",
    "\n",
    "    D = np.abs(RGB - L) / L\n",
    "\n",
    "    D_c = C_f(D, C_t, 1 - C_t)\n",
    "\n",
    "    RGB_c = L - D_c * L\n",
    "\n",
    "    return RGB_c\n",
    "\n",
    "\n",
    "class GamutMedicinaRGBSaturationWidget(GamutMedicinaBaseWidget):\n",
    "    def __init__(self,\n",
    "                 reference_image=None,\n",
    "                 compression_threshold=0.8,\n",
    "                 compression_function='tanh',\n",
    "                 *args,\n",
    "                 **kwargs):\n",
    "        self._compression_threshold = compression_threshold\n",
    "        self._compression_function = compression_function\n",
    "\n",
    "        kwargs['enable_colour_wheel'] = False\n",
    "\n",
    "        super().__init__(reference_image, *args, **kwargs)\n",
    "\n",
    "        self._RGB_w = None\n",
    "        self._RGB_r = None\n",
    "        self._RGB_d = None\n",
    "\n",
    "        self._compression_threshold_chromaticity_diagram_plot = None\n",
    "\n",
    "        self._reset_compression_controls_Button = None\n",
    "        self._compression_threshold_FloatSlider = None\n",
    "\n",
    "        self.initialize_data()\n",
    "        self.initialize_axes()\n",
    "        self.initialise_widgets()\n",
    "        self.attach_callbacks()\n",
    "\n",
    "        self.update_widget(None)\n",
    "\n",
    "    def initialize_data(self):\n",
    "        super().initialize_data()\n",
    "\n",
    "    def initialize_axes(self):\n",
    "        super().initialize_axes()\n",
    "\n",
    "    def initialise_widgets(self):\n",
    "        super().initialise_widgets()\n",
    "\n",
    "        # *** Widgets ***\n",
    "        self._reset_compression_controls_Button = (\n",
    "            ipywidgets.widgets.Button(\n",
    "                description=\"Reset Compression Controls\"))\n",
    "        compression_functions = list(COMPRESSION_FUNCTIONS.keys())\n",
    "        self._compression_function_DropDown = ipywidgets.widgets.Dropdown(\n",
    "            options=compression_functions,\n",
    "            value=self._compression_function,\n",
    "            description='Compression Function:',\n",
    "        )\n",
    "        self._compression_threshold_FloatSlider = (\n",
    "            ipywidgets.widgets.FloatSlider(\n",
    "                min=0.0,\n",
    "                max=1.0,\n",
    "                step=0.01,\n",
    "                value=self._compression_threshold,\n",
    "                description='Compression Threshold'))\n",
    "\n",
    "        # *** Layout ***\n",
    "        self._compression_controls_HBox = ipywidgets.widgets.HBox([\n",
    "            self._reset_compression_controls_Button,\n",
    "            self._compression_function_DropDown,\n",
    "            self._compression_threshold_FloatSlider,\n",
    "        ])\n",
    "\n",
    "        self._controls_Tab.children += (\n",
    "            self._compression_controls_HBox,\n",
    "        )\n",
    "\n",
    "        self._controls_Tab.set_title(1, 'Compression Controls')\n",
    "\n",
    "    def attach_callbacks(self):\n",
    "        super().attach_callbacks()\n",
    "\n",
    "        self._reset_compression_controls_Button.on_click(\n",
    "            self.reset_compression_controls)\n",
    "        self._compression_function_DropDown.observe(self.update_widget,\n",
    "                                                    'value')\n",
    "        self._compression_threshold_FloatSlider.observe(\n",
    "            self.update_widget, 'value')\n",
    "\n",
    "    def reset_compression_controls(self, change):\n",
    "        self._compression_threshold_FloatSlider.value = (\n",
    "            self._compression_threshold)\n",
    "\n",
    "        self.update_widget(None)\n",
    "\n",
    "    def update_reference_image_axes(self, C_t, C_f):\n",
    "        RGB_r = medicina_RGB_saturation(self._reference_image_working, C_t, C_f)\n",
    "        self._reference_image_mapped = RGB_r\n",
    "        self._reference_image_imshow.set_data(\n",
    "            self.working_space_to_display_space(RGB_r))\n",
    "\n",
    "    def update_chromaticity_diagram_axes(self, C_t, C_f):\n",
    "        RGB_r_s = medicina_RGB_saturation(self._decimated_image_working, C_t, C_f)\n",
    "        self.update_scatter_plot(RGB_r_s)\n",
    "\n",
    "    def update_widget(self, change):\n",
    "        super().update_widget(change)\n",
    "\n",
    "        if self._enable:\n",
    "            C_t = 1 - self._compression_threshold_FloatSlider.value\n",
    "            C_f = COMPRESSION_FUNCTIONS[\n",
    "                self._compression_function_DropDown.value]\n",
    "\n",
    "            self.update_reference_image_axes(C_t, C_f)\n",
    "            self.update_chromaticity_diagram_axes(C_t, C_f)\n",
    "\n",
    "            self._figure.canvas.draw_idle()\n",
    "\n",
    "\n",
    "GamutMedicinaRGBSaturationWidget(\n",
    "    '../resources/images/A009C002_190210_R0EI_Alexa_LogCWideGamut.exr')"
   ]
  },
  {
   "cell_type": "code",
   "execution_count": 17,
   "metadata": {},
   "outputs": [
    {
     "data": {
      "application/vnd.jupyter.widget-view+json": {
       "model_id": "de628fe58cfb48748eaa056bc93e9ae0",
       "version_major": 2,
       "version_minor": 0
      },
      "text/plain": [
       "GamutMedicinaHSVControlWidget(children=(Output(layout=Layout(border='solid 4px #222', margin='4px', padding='0…"
      ]
     },
     "metadata": {},
     "output_type": "display_data"
    }
   ],
   "source": [
    "GamutMedicinaHSVControlWidget(\n",
    "    '../resources/images/A009C002_190210_R0EI_Alexa_LogCWideGamut.exr',\n",
    "    enable_colour_wheel=False)"
   ]
  },
  {
   "cell_type": "code",
   "execution_count": 18,
   "metadata": {},
   "outputs": [
    {
     "data": {
      "application/vnd.jupyter.widget-view+json": {
       "model_id": "2f5f01a68c074c4db14017d5ad67d0b7",
       "version_major": 2,
       "version_minor": 0
      },
      "text/plain": [
       "GamutMedicinaRGBSaturationWidget(children=(Output(layout=Layout(border='solid 4px #222', margin='4px', padding…"
      ]
     },
     "metadata": {},
     "output_type": "display_data"
    }
   ],
   "source": [
    "GamutMedicinaRGBSaturationWidget(\n",
    "    '../resources/images/Carol Payne - J001_C001_08178N_001.exr')"
   ]
  },
  {
   "cell_type": "code",
   "execution_count": 19,
   "metadata": {},
   "outputs": [
    {
     "data": {
      "application/vnd.jupyter.widget-view+json": {
       "model_id": "4070cbb729a5442ea67ae82cbdd68f64",
       "version_major": 2,
       "version_minor": 0
      },
      "text/plain": [
       "GamutMedicinaRGBSaturationWidget(children=(Output(layout=Layout(border='solid 4px #222', margin='4px', padding…"
      ]
     },
     "metadata": {},
     "output_type": "display_data"
    }
   ],
   "source": [
    "GamutMedicinaRGBSaturationWidget(\n",
    "    '../resources/images/Cornell_Box_Rigid_Spheres_190_Patch_Roughplastic_Point_Grey_Grasshopper_50S5C_RGB_W_A.exr')"
   ]
  },
  {
   "cell_type": "markdown",
   "metadata": {},
   "source": [
    "## Compared Model Distortions"
   ]
  },
  {
   "cell_type": "markdown",
   "metadata": {},
   "source": [
    "Various model distortions comparisons."
   ]
  },
  {
   "cell_type": "code",
   "execution_count": 20,
   "metadata": {},
   "outputs": [],
   "source": [
    "colour.write_image(\n",
    "    colour_wheel(clip_circle=False)[..., 0:3],\n",
    "    '../resources/images/Colour_Wheel.exr')"
   ]
  },
  {
   "cell_type": "code",
   "execution_count": 21,
   "metadata": {},
   "outputs": [
    {
     "data": {
      "application/vnd.jupyter.widget-view+json": {
       "model_id": "06f0a49b093b46aa9150fc326ea0d1cf",
       "version_major": 2,
       "version_minor": 0
      },
      "text/plain": [
       "GamutMedicinaHSVControlWidget(children=(Output(layout=Layout(border='solid 4px #222', margin='4px', padding='0…"
      ]
     },
     "metadata": {},
     "output_type": "display_data"
    }
   ],
   "source": [
    "GamutMedicinaHSVControlWidget(\n",
    "    '../resources/images/Colour_Wheel.exr',\n",
    "    image_decimation=20,\n",
    "    protected_area_threshold=0.5,\n",
    "    compression_threshold=0.5,\n",
    "    enable_colour_wheel=False)"
   ]
  },
  {
   "cell_type": "code",
   "execution_count": 22,
   "metadata": {},
   "outputs": [
    {
     "data": {
      "application/vnd.jupyter.widget-view+json": {
       "model_id": "8522268d3e674012a426fdbb43a84dd9",
       "version_major": 2,
       "version_minor": 0
      },
      "text/plain": [
       "GamutMedicinaRGBSaturationWidget(children=(Output(layout=Layout(border='solid 4px #222', margin='4px', padding…"
      ]
     },
     "metadata": {},
     "output_type": "display_data"
    }
   ],
   "source": [
    "GamutMedicinaRGBSaturationWidget(\n",
    "    '../resources/images/Colour_Wheel.exr',\n",
    "    image_decimation=20,\n",
    "    compression_threshold=0.5)"
   ]
  }
 ],
 "metadata": {
  "colab": {
   "collapsed_sections": [],
   "name": "gamut_mapping_ramblings_01",
   "provenance": []
  },
  "kernelspec": {
   "display_name": "Python 3",
   "language": "python",
   "name": "python3"
  },
  "language_info": {
   "codemirror_mode": {
    "name": "ipython",
    "version": 3
   },
   "file_extension": ".py",
   "mimetype": "text/x-python",
   "name": "python",
   "nbconvert_exporter": "python",
   "pygments_lexer": "ipython3",
   "version": "3.7.6"
  },
  "widgets": {
   "application/vnd.jupyter.widget-state+json": {
    "state": {
     "0017466d7a7944a5ba89721d27ed1745": {
      "model_module": "@jupyter-widgets/controls",
      "model_module_version": "1.5.0",
      "model_name": "ButtonModel",
      "state": {
       "description": "Save Figure",
       "layout": "IPY_MODEL_8289e048ed4643d2b6a3fab32c89500e",
       "style": "IPY_MODEL_665d61a985b4498a8a3edb86506dad03"
      }
     },
     "00299eb925ff4b17b77de240d4caf433": {
      "model_module": "@jupyter-widgets/controls",
      "model_module_version": "1.5.0",
      "model_name": "CheckboxModel",
      "state": {
       "description": "Disable Medicina",
       "disabled": false,
       "layout": "IPY_MODEL_b3421a08c3684fffadea4353969475cd",
       "style": "IPY_MODEL_50c70748103a4bdaa57be77dfe83e4d6",
       "value": false
      }
     },
     "003d933165df40d7911b590f9647ecb3": {
      "model_module": "@jupyter-widgets/controls",
      "model_module_version": "1.5.0",
      "model_name": "ButtonModel",
      "state": {
       "description": "Reset Saturation Controls",
       "layout": "IPY_MODEL_11d4f14fdbe94ab38e4d8e743d1dd27d",
       "style": "IPY_MODEL_fa9813b582c74c9bb75e03ee637d8bd1"
      }
     },
     "005d35cfc86742e88181a47c6c436fa7": {
      "model_module": "@jupyter-widgets/base",
      "model_module_version": "1.2.0",
      "model_name": "LayoutModel",
      "state": {}
     },
     "009ea2d545b3456d8d1402a979a783d8": {
      "model_module": "@jupyter-widgets/output",
      "model_module_version": "1.0.0",
      "model_name": "OutputModel",
      "state": {
       "layout": "IPY_MODEL_bfb98265cbdf4e3e96fd5b9ddc375b13",
       "outputs": [
        {
         "data": {
          "application/vnd.jupyter.widget-view+json": {
           "model_id": "87bbc846f9dc4da7b57888a53626f346",
           "version_major": 2,
           "version_minor": 0
          },
          "text/plain": "Canvas(toolbar=Toolbar(toolitems=[('Home', 'Reset original view', 'home', 'home'), ('Back', 'Back to previous …"
         },
         "metadata": {},
         "output_type": "display_data"
        }
       ]
      }
     },
     "00b45e23640d4bbc884215f51402d75b": {
      "model_module": "@jupyter-widgets/base",
      "model_module_version": "1.2.0",
      "model_name": "LayoutModel",
      "state": {}
     },
     "011adf402e5844a093a13ce43be505ff": {
      "model_module": "@jupyter-widgets/controls",
      "model_module_version": "1.5.0",
      "model_name": "ButtonModel",
      "state": {
       "description": "Export Image",
       "layout": "IPY_MODEL_61d458b9ddd14a6aa23a4bb4dcf7d8e1",
       "style": "IPY_MODEL_d9755b50909f40caac91b487eaaed534"
      }
     },
     "01500104d87f47d88486f70072f510c2": {
      "model_module": "@jupyter-widgets/controls",
      "model_module_version": "1.5.0",
      "model_name": "HBoxModel",
      "state": {
       "children": [
        "IPY_MODEL_848bf7e223ee4417bfc72ae524fb5c9c",
        "IPY_MODEL_f62015287ed547eca8fcc6c6840a3358"
       ],
       "layout": "IPY_MODEL_659319d230884586829bdcfcf3ca30af"
      }
     },
     "01731fcc95b047d781b56330d51ddaae": {
      "model_module": "@jupyter-widgets/controls",
      "model_module_version": "1.5.0",
      "model_name": "HBoxModel",
      "state": {
       "children": [
        "IPY_MODEL_7f3ff11cb9504c0299586008801089dd",
        "IPY_MODEL_6203509eed5f4207b850b0ca445e70c3"
       ],
       "layout": "IPY_MODEL_edf5c615a7e1455f82c71520e0820663"
      }
     },
     "0190850eacb2440a917d9af1f09eae21": {
      "model_module": "@jupyter-widgets/base",
      "model_module_version": "1.2.0",
      "model_name": "LayoutModel",
      "state": {}
     },
     "01cdea879fcf41b1a8a2afd7c32c8eda": {
      "model_module": "@jupyter-widgets/controls",
      "model_module_version": "1.5.0",
      "model_name": "ButtonModel",
      "state": {
       "description": "Reset Compression Controls",
       "layout": "IPY_MODEL_d1b8f316878946b6858209deafeb6fca",
       "style": "IPY_MODEL_1cd74640550f42908f47d0422361490e"
      }
     },
     "01ced013a9b94932ac615aa21f290df3": {
      "model_module": "@jupyter-widgets/base",
      "model_module_version": "1.2.0",
      "model_name": "LayoutModel",
      "state": {}
     },
     "01ddec5f64984c81a9886b91fa181ce2": {
      "model_module": "@jupyter-widgets/base",
      "model_module_version": "1.2.0",
      "model_name": "LayoutModel",
      "state": {}
     },
     "02150c7ee80540dba8619f3368410010": {
      "model_module": "@jupyter-widgets/controls",
      "model_module_version": "1.5.0",
      "model_name": "HBoxModel",
      "state": {
       "children": [
        "IPY_MODEL_003d933165df40d7911b590f9647ecb3",
        "IPY_MODEL_67133fb41f264b81bc16ae0a694f2753",
        "IPY_MODEL_d6c3d53ed41749d683c98fcd06554ed0"
       ],
       "layout": "IPY_MODEL_501a3d8ae56f4352824ed9748ebb52a8"
      }
     },
     "0257f560ffa54572baa0f9e0aab40b35": {
      "model_module": "@jupyter-widgets/base",
      "model_module_version": "1.2.0",
      "model_name": "LayoutModel",
      "state": {}
     },
     "02a1bb907580415ca2bf2d0055aa218d": {
      "model_module": "@jupyter-widgets/base",
      "model_module_version": "1.2.0",
      "model_name": "LayoutModel",
      "state": {}
     },
     "02a806210a2a410cb3b970ba1ef50d6d": {
      "model_module": "@jupyter-widgets/controls",
      "model_module_version": "1.5.0",
      "model_name": "HBoxModel",
      "state": {
       "children": [
        "IPY_MODEL_d6506a70de8e4313a5de58c36ea47b85",
        "IPY_MODEL_2c1cd6ff6e54466da38bd01706e069a6",
        "IPY_MODEL_6c81eafe4d5749b2b645ed0a9fa63b7d",
        "IPY_MODEL_5c80ffd88ffc4b459206e7d986dac1af"
       ],
       "layout": "IPY_MODEL_72090c67ea1c432581add3d06e2f1ead"
      }
     },
     "02d8ddad2f304a049b5c9a9e78266444": {
      "model_module": "@jupyter-widgets/controls",
      "model_module_version": "1.5.0",
      "model_name": "DescriptionStyleModel",
      "state": {
       "description_width": ""
      }
     },
     "033e19ebdef14dea81e7e2388f05dde6": {
      "model_module": "@jupyter-widgets/controls",
      "model_module_version": "1.5.0",
      "model_name": "CheckboxModel",
      "state": {
       "description": "Disable Medicina",
       "disabled": false,
       "layout": "IPY_MODEL_1f34f38407b349769e4b36745192bb8b",
       "style": "IPY_MODEL_64cfe62f3d724b21a4100b9b86a99153",
       "value": false
      }
     },
     "035651297864433dbf08e58c2889a0bb": {
      "model_module": "@jupyter-widgets/base",
      "model_module_version": "1.2.0",
      "model_name": "LayoutModel",
      "state": {}
     },
     "0404d158075340b1b111748b93749325": {
      "model_module": "@jupyter-widgets/base",
      "model_module_version": "1.2.0",
      "model_name": "LayoutModel",
      "state": {}
     },
     "042207c133164fccbfb1983ca3335542": {
      "model_module": "@jupyter-widgets/controls",
      "model_module_version": "1.5.0",
      "model_name": "VBoxModel",
      "state": {
       "children": [
        "IPY_MODEL_e83fadd2a3c34ac39c814be2e66321db",
        "IPY_MODEL_26a78157b94b4c73af6bda486c094ac5"
       ],
       "layout": "IPY_MODEL_8daf52512f434d9ba30fb17b711cdddf"
      }
     },
     "04688b01996b4f1485ea36f101e63206": {
      "model_module": "@jupyter-widgets/controls",
      "model_module_version": "1.5.0",
      "model_name": "FloatSliderModel",
      "state": {
       "description": "Exposure",
       "layout": "IPY_MODEL_ec0e4c36400946618e60168021975903",
       "max": 8,
       "min": -8,
       "step": 0.1,
       "style": "IPY_MODEL_6062230dcff3496eb4028abe52a84867"
      }
     },
     "047673b13a5a432a98fcd8c9e2e3d77b": {
      "model_module": "@jupyter-widgets/controls",
      "model_module_version": "1.5.0",
      "model_name": "DropdownModel",
      "state": {
       "_options_labels": [
        "tanh",
        "atan",
        "simple"
       ],
       "description": "Compression Function:",
       "index": 0,
       "layout": "IPY_MODEL_e3fad7ca5e8e452b878ed183028d7bde",
       "style": "IPY_MODEL_64cfc59d5d914be396e89124a849ba15"
      }
     },
     "04d0f97d12b1485f9c90a99ddae12942": {
      "model_module": "@jupyter-widgets/controls",
      "model_module_version": "1.5.0",
      "model_name": "SliderStyleModel",
      "state": {
       "description_width": ""
      }
     },
     "04df0c0728ba4bea9e783a765421ddb7": {
      "model_module": "@jupyter-widgets/controls",
      "model_module_version": "1.5.0",
      "model_name": "FloatSliderModel",
      "state": {
       "description": "225°",
       "layout": "IPY_MODEL_8f760bd952e94148a91e4c854ce32784",
       "max": 1,
       "min": -1,
       "step": 0.01,
       "style": "IPY_MODEL_cc9bf1e7d419400fbb05846b3277507c"
      }
     },
     "04efe33d0cdc4c3d81466320b7ca011c": {
      "model_module": "@jupyter-widgets/controls",
      "model_module_version": "1.5.0",
      "model_name": "CheckboxModel",
      "state": {
       "description": "Disable Medicina",
       "disabled": false,
       "layout": "IPY_MODEL_750684f6c319448cab6ee32f69e4e9b5",
       "style": "IPY_MODEL_ed40ec00ecd044da946dcd89da78157a",
       "value": false
      }
     },
     "04ff83c2b3ae40e4a5e91be7d2356cdc": {
      "model_module": "@jupyter-widgets/base",
      "model_module_version": "1.2.0",
      "model_name": "LayoutModel",
      "state": {}
     },
     "0515321c257d40ac82454c34bc171cc7": {
      "model_module": "@jupyter-widgets/controls",
      "model_module_version": "1.5.0",
      "model_name": "ButtonModel",
      "state": {
       "description": "Save Figure",
       "layout": "IPY_MODEL_c3be367a5dfc442cbed8ec12a2130f5d",
       "style": "IPY_MODEL_f2ef41e4b593473a891c36a4a8c76498"
      }
     },
     "056e9b905d1e481c8631b4218d4b858f": {
      "model_module": "@jupyter-widgets/base",
      "model_module_version": "1.2.0",
      "model_name": "LayoutModel",
      "state": {}
     },
     "058d40c3009540278db28f7f1e809e32": {
      "model_module": "@jupyter-widgets/base",
      "model_module_version": "1.2.0",
      "model_name": "LayoutModel",
      "state": {
       "border": "solid 4px #222",
       "margin": "4px",
       "padding": "0"
      }
     },
     "05bccc8cdf8540a5b8412b88a8d121a6": {
      "model_module": "@jupyter-widgets/base",
      "model_module_version": "1.2.0",
      "model_name": "LayoutModel",
      "state": {
       "border": "solid 4px #222",
       "margin": "4px",
       "padding": "0"
      }
     },
     "061076e4972846beaa9146cad61c8032": {
      "model_module": "@jupyter-widgets/base",
      "model_module_version": "1.2.0",
      "model_name": "LayoutModel",
      "state": {}
     },
     "06d023d0051546b593dda1a73c8ef366": {
      "model_module": "@jupyter-widgets/base",
      "model_module_version": "1.2.0",
      "model_name": "LayoutModel",
      "state": {}
     },
     "06f0a49b093b46aa9150fc326ea0d1cf": {
      "model_module": "@jupyter-widgets/controls",
      "model_module_version": "1.5.0",
      "model_name": "BoxModel",
      "state": {
       "children": [
        "IPY_MODEL_5d74f99f745845768cede71f4230883c",
        "IPY_MODEL_cd7ca95452da41788201360907145be4"
       ],
       "layout": "IPY_MODEL_1ba0dc4c7dd04a249ca08a0f523c0891"
      }
     },
     "073a69ed60e6426f9144d13ce2d43f8d": {
      "model_module": "@jupyter-widgets/controls",
      "model_module_version": "1.5.0",
      "model_name": "FloatSliderModel",
      "state": {
       "description": "0°",
       "layout": "IPY_MODEL_21ec071626cb467688174f28c009894d",
       "max": 1,
       "min": -1,
       "step": 0.01,
       "style": "IPY_MODEL_c246faacd58745acb0890e066ba417c7"
      }
     },
     "073dce1cf1264bbf8db001e46bf35586": {
      "model_module": "@jupyter-widgets/controls",
      "model_module_version": "1.5.0",
      "model_name": "SliderStyleModel",
      "state": {
       "description_width": ""
      }
     },
     "0782aacd97bc4f9db7ae02fde477fdf6": {
      "model_module": "@jupyter-widgets/controls",
      "model_module_version": "1.5.0",
      "model_name": "HBoxModel",
      "state": {
       "children": [
        "IPY_MODEL_6f8f01146f1c47dabe24fe921cfd52b5",
        "IPY_MODEL_b1a758a4dd554339a55ef9213a32c265",
        "IPY_MODEL_ff73ba679f334004908767b313890d2d",
        "IPY_MODEL_042207c133164fccbfb1983ca3335542"
       ],
       "layout": "IPY_MODEL_e5711f6bc3f64a2b9e3daff1731a3247"
      }
     },
     "078371fc455f4a77a65b9f638fccec65": {
      "model_module": "@jupyter-widgets/controls",
      "model_module_version": "1.5.0",
      "model_name": "ButtonStyleModel",
      "state": {}
     },
     "079daaaa651d43feae68d9f5587f4de9": {
      "model_module": "@jupyter-widgets/base",
      "model_module_version": "1.2.0",
      "model_name": "LayoutModel",
      "state": {}
     },
     "07a831f3634240d98a2504c2753d058e": {
      "model_module": "@jupyter-widgets/controls",
      "model_module_version": "1.5.0",
      "model_name": "VBoxModel",
      "state": {
       "children": [
        "IPY_MODEL_2a23a848dc604dc799b8f12ffe1f70a3",
        "IPY_MODEL_f5e3915de04d4fd6be9ad15cc09afec9",
        "IPY_MODEL_6216b79f32b6435d85da476ffc071a4b"
       ],
       "layout": "IPY_MODEL_fa63cb1329ab4b6d93d76e4ffe032e40"
      }
     },
     "07f3b39c1eeb4209804e05e17de35f0b": {
      "model_module": "@jupyter-widgets/controls",
      "model_module_version": "1.5.0",
      "model_name": "HBoxModel",
      "state": {
       "children": [
        "IPY_MODEL_2ea8b866c42740a884daa1c9eb96999e",
        "IPY_MODEL_ea697659ce964f34a8e2533aaffa5c45",
        "IPY_MODEL_ec75c12ebaa14307b171181f43c5d83a",
        "IPY_MODEL_a0d8bbd90c764d7997c87fe6b3238ca1"
       ],
       "layout": "IPY_MODEL_b190a498a2264b08adb4d364655ad3d9"
      }
     },
     "081c5ae8409f4eb8bc4b9a6ed616c75a": {
      "model_module": "@jupyter-widgets/base",
      "model_module_version": "1.2.0",
      "model_name": "LayoutModel",
      "state": {}
     },
     "0885b89f0a374c8a9d34fb9a07a7faa2": {
      "model_module": "@jupyter-widgets/controls",
      "model_module_version": "1.5.0",
      "model_name": "DropdownModel",
      "state": {
       "_options_labels": [
        "tanh",
        "atan",
        "simple"
       ],
       "description": "Compression Function:",
       "index": 0,
       "layout": "IPY_MODEL_93cbb4d7a9e648e6b2624c241deae3db",
       "style": "IPY_MODEL_02d8ddad2f304a049b5c9a9e78266444"
      }
     },
     "08eea4d7333d4522877a9c134fdebe7f": {
      "model_module": "@jupyter-widgets/controls",
      "model_module_version": "1.5.0",
      "model_name": "ButtonStyleModel",
      "state": {}
     },
     "0928bc1fb9ad404ca2614db4a3399e1e": {
      "model_module": "@jupyter-widgets/controls",
      "model_module_version": "1.5.0",
      "model_name": "ButtonModel",
      "state": {
       "description": "Reset Saturation Controls",
       "layout": "IPY_MODEL_dfa825bde84d412eb8fe3e308c91f731",
       "style": "IPY_MODEL_6444be03c43545c79681e2ac6d866fbe"
      }
     },
     "09291033138648e0b261ae54d56ff3d9": {
      "model_module": "@jupyter-widgets/controls",
      "model_module_version": "1.5.0",
      "model_name": "HBoxModel",
      "state": {
       "children": [
        "IPY_MODEL_74e24520ebd7445d91da38a3742b905d",
        "IPY_MODEL_c1527cd6a86e455ca22d33336f1c6e8f",
        "IPY_MODEL_17048e3010b949099eb2a20ab8b94bcc",
        "IPY_MODEL_04688b01996b4f1485ea36f101e63206"
       ],
       "layout": "IPY_MODEL_e079cccdbaaf415381cd2db8c826cebf"
      }
     },
     "09d05975558a406bbaca76f947f52778": {
      "model_module": "@jupyter-widgets/base",
      "model_module_version": "1.2.0",
      "model_name": "LayoutModel",
      "state": {}
     },
     "09df5caf6dec4139b8abedce407ba1da": {
      "model_module": "@jupyter-widgets/controls",
      "model_module_version": "1.5.0",
      "model_name": "FloatSliderModel",
      "state": {
       "description": "Compression Threshold",
       "layout": "IPY_MODEL_bb4eac50baeb44ed9ecb7e14abaa2715",
       "max": 1,
       "step": 0.01,
       "style": "IPY_MODEL_20680892c10542588a4f5ab31756a04d",
       "value": 0.8
      }
     },
     "0a07ee2fa7e24ed2b19e398daa5421e1": {
      "model_module": "@jupyter-widgets/base",
      "model_module_version": "1.2.0",
      "model_name": "LayoutModel",
      "state": {}
     },
     "0a2f08761ba9490fa64d03a348eea0e6": {
      "model_module": "@jupyter-widgets/base",
      "model_module_version": "1.2.0",
      "model_name": "LayoutModel",
      "state": {}
     },
     "0a478181c78c42f79c10e920f583bef7": {
      "model_module": "@jupyter-widgets/controls",
      "model_module_version": "1.5.0",
      "model_name": "DropdownModel",
      "state": {
       "_options_labels": [
        "tanh",
        "atan",
        "simple"
       ],
       "description": "Compression Function:",
       "index": 0,
       "layout": "IPY_MODEL_9f7e2e5c377c41b4bd355bd8e5b8bd34",
       "style": "IPY_MODEL_b5f4b0ce5eca446bb298c295265d404a"
      }
     },
     "0ab39434dd7d459893b8ca5a6f62db17": {
      "model_module": "@jupyter-widgets/base",
      "model_module_version": "1.2.0",
      "model_name": "LayoutModel",
      "state": {}
     },
     "0abeca1d978c49d39d995d59f550d6e5": {
      "model_module": "@jupyter-widgets/controls",
      "model_module_version": "1.5.0",
      "model_name": "VBoxModel",
      "state": {
       "children": [
        "IPY_MODEL_3fe609e4e75c4cdbb409ecc2859f4193",
        "IPY_MODEL_e23644e76f5947e486be27f77e71e041",
        "IPY_MODEL_15e3490290514dd9b6952bb0093c434a"
       ],
       "layout": "IPY_MODEL_5853dfccf3ef45feb6e00c13bbbfc3fd"
      }
     },
     "0ace7604e53a4ea5b06dabce78dca855": {
      "model_module": "@jupyter-widgets/base",
      "model_module_version": "1.2.0",
      "model_name": "LayoutModel",
      "state": {}
     },
     "0ad080a8d9df40c08df646696c9dfd21": {
      "model_module": "@jupyter-widgets/controls",
      "model_module_version": "1.5.0",
      "model_name": "SliderStyleModel",
      "state": {
       "description_width": ""
      }
     },
     "0b00e940e165431e9e499bc05587ef0d": {
      "model_module": "@jupyter-widgets/base",
      "model_module_version": "1.2.0",
      "model_name": "LayoutModel",
      "state": {}
     },
     "0b20d62562964487b5b012ea9499b651": {
      "model_module": "@jupyter-widgets/base",
      "model_module_version": "1.2.0",
      "model_name": "LayoutModel",
      "state": {}
     },
     "0b591bd595244e75a936ec89d3c66108": {
      "model_module": "@jupyter-widgets/controls",
      "model_module_version": "1.5.0",
      "model_name": "HBoxModel",
      "state": {
       "children": [
        "IPY_MODEL_491867295f45412b9e38214070a235df",
        "IPY_MODEL_d2b7a3efc27144b386bdda8dcb999d21",
        "IPY_MODEL_e7db833b32d242a6abf487c46d0166e5"
       ],
       "layout": "IPY_MODEL_3e33838301f54b0a8115bb65bb4ba9b9"
      }
     },
     "0b94986e06c34a2789f2ee4490b625f4": {
      "model_module": "@jupyter-widgets/controls",
      "model_module_version": "1.5.0",
      "model_name": "SliderStyleModel",
      "state": {
       "description_width": ""
      }
     },
     "0bcc8885b99e4f83bda5e18c1bc2ad9c": {
      "model_module": "@jupyter-widgets/controls",
      "model_module_version": "1.5.0",
      "model_name": "SliderStyleModel",
      "state": {
       "description_width": ""
      }
     },
     "0bea410da73448fd9496107759bf3075": {
      "model_module": "@jupyter-widgets/controls",
      "model_module_version": "1.5.0",
      "model_name": "SliderStyleModel",
      "state": {
       "description_width": ""
      }
     },
     "0c0b050185254b029fa899321f9cc4cb": {
      "model_module": "@jupyter-widgets/controls",
      "model_module_version": "1.5.0",
      "model_name": "DropdownModel",
      "state": {
       "_options_labels": [
        "tanh",
        "atan",
        "simple"
       ],
       "description": "Compression Function:",
       "index": 0,
       "layout": "IPY_MODEL_a002168956fb47b4a3488af8f673aa86",
       "style": "IPY_MODEL_c5af214908ec410a971e37cb2c675aca"
      }
     },
     "0c557ad18e4845fc9d2b8a47e4c649df": {
      "model_module": "@jupyter-widgets/controls",
      "model_module_version": "1.5.0",
      "model_name": "ButtonModel",
      "state": {
       "description": "Reset Hue Controls",
       "layout": "IPY_MODEL_a528ee3b99fc426aaff262696cfb0352",
       "style": "IPY_MODEL_b951ccc4253a4ad9909ffa76b0802f0b"
      }
     },
     "0c5e9eff3b0c4d92880814aec7eb6a38": {
      "model_module": "@jupyter-widgets/controls",
      "model_module_version": "1.5.0",
      "model_name": "SliderStyleModel",
      "state": {
       "description_width": ""
      }
     },
     "0c9fddc82a9343a39729075dee64e925": {
      "model_module": "@jupyter-widgets/base",
      "model_module_version": "1.2.0",
      "model_name": "LayoutModel",
      "state": {}
     },
     "0cbfcc1f30cf4332a255ba04cd819c35": {
      "model_module": "@jupyter-widgets/controls",
      "model_module_version": "1.5.0",
      "model_name": "TabModel",
      "state": {
       "_titles": {
        "0": "Global Controls"
       },
       "children": [
        "IPY_MODEL_80dd6aaabf6449088fb816c90e7919e3"
       ],
       "layout": "IPY_MODEL_05bccc8cdf8540a5b8412b88a8d121a6"
      }
     },
     "0cc8d1c8aa8e49479634d3c5fc7f4f29": {
      "model_module": "@jupyter-widgets/base",
      "model_module_version": "1.2.0",
      "model_name": "LayoutModel",
      "state": {}
     },
     "0d18631a58ec477ba92589cc2dd19a12": {
      "model_module": "@jupyter-widgets/controls",
      "model_module_version": "1.5.0",
      "model_name": "TabModel",
      "state": {
       "_titles": {
        "0": "Global Controls",
        "1": "Compression Controls"
       },
       "children": [
        "IPY_MODEL_20df051bf5d24d9c99908ce1c98359ac",
        "IPY_MODEL_316dd2f0fc2043a0be086c4418c12234"
       ],
       "layout": "IPY_MODEL_8de38ffec6e34da993f06422dc8b7de3"
      }
     },
     "0d4e9c79f50d48e0b22a4667f028552c": {
      "model_module": "@jupyter-widgets/controls",
      "model_module_version": "1.5.0",
      "model_name": "HBoxModel",
      "state": {
       "children": [
        "IPY_MODEL_8df15232d0714377a0464b2e832beb9a",
        "IPY_MODEL_d6c48fca912d45a69882836a4ac11f79",
        "IPY_MODEL_ff2638333d1b42f2a964461b7d13eacc"
       ],
       "layout": "IPY_MODEL_0a07ee2fa7e24ed2b19e398daa5421e1"
      }
     },
     "0de98494a3b0420caabffa938db40f52": {
      "model_module": "@jupyter-widgets/controls",
      "model_module_version": "1.5.0",
      "model_name": "VBoxModel",
      "state": {
       "children": [
        "IPY_MODEL_813e476fc2144bb7a891b1c953aea016",
        "IPY_MODEL_88297205fcef49aba9b3e500054c6749"
       ],
       "layout": "IPY_MODEL_fb5fab9fa3c945c785498b235da39688"
      }
     },
     "0dea3323d95f4e8d9014201b7cf84418": {
      "model_module": "@jupyter-widgets/base",
      "model_module_version": "1.2.0",
      "model_name": "LayoutModel",
      "state": {}
     },
     "0e573dbf72ce450c9970295c56732d9e": {
      "model_module": "@jupyter-widgets/base",
      "model_module_version": "1.2.0",
      "model_name": "LayoutModel",
      "state": {}
     },
     "0ed17ac1476345859d4a267704aad3d4": {
      "model_module": "@jupyter-widgets/controls",
      "model_module_version": "1.5.0",
      "model_name": "HBoxModel",
      "state": {
       "children": [
        "IPY_MODEL_851d70c135ae4da193fc3a2c571d2acf",
        "IPY_MODEL_5d064e8398154378b10569ff22af1aa9",
        "IPY_MODEL_daa651721dfb4cb49e270f74f2288631"
       ],
       "layout": "IPY_MODEL_70493778434b46ce8a52405cd95cfe39"
      }
     },
     "0f3d784697444d28a8be60f31980c080": {
      "model_module": "@jupyter-widgets/base",
      "model_module_version": "1.2.0",
      "model_name": "LayoutModel",
      "state": {}
     },
     "0f6d1fb1426f4b2fab95640ae9f15c20": {
      "model_module": "@jupyter-widgets/controls",
      "model_module_version": "1.5.0",
      "model_name": "VBoxModel",
      "state": {
       "children": [
        "IPY_MODEL_73baddd957d2430588f8afb9218e87f0",
        "IPY_MODEL_56b0df29878148808d438c3c6be33b7c",
        "IPY_MODEL_8c757b39fe5749c1bd195d99d51d56a3"
       ],
       "layout": "IPY_MODEL_c1322549ae244817ab421aec8bf333ea"
      }
     },
     "0f7e2e2cecd3478ca40dbd42707d89a1": {
      "model_module": "@jupyter-widgets/controls",
      "model_module_version": "1.5.0",
      "model_name": "TabModel",
      "state": {
       "_titles": {
        "0": "Global Controls",
        "1": "Compression Controls"
       },
       "children": [
        "IPY_MODEL_7c51b62c02ef479990a7f03811adcc03",
        "IPY_MODEL_83d2f8ab29b443cfaf23011f1d608cd5"
       ],
       "layout": "IPY_MODEL_0f7e2f00313846849d80f8160e3dd875"
      }
     },
     "0f7e2f00313846849d80f8160e3dd875": {
      "model_module": "@jupyter-widgets/base",
      "model_module_version": "1.2.0",
      "model_name": "LayoutModel",
      "state": {
       "border": "solid 4px #222",
       "margin": "4px",
       "padding": "0"
      }
     },
     "0f85d6d4c9154043b3b7aac132015f7d": {
      "model_module": "@jupyter-widgets/controls",
      "model_module_version": "1.5.0",
      "model_name": "VBoxModel",
      "state": {
       "children": [
        "IPY_MODEL_59e53669e54946deba2ce1112e712574"
       ],
       "layout": "IPY_MODEL_c5b3f453e39d45e5a3fafc015f91ed52"
      }
     },
     "0f8f2004d9cd45e5ae7a2fe2e4fafc52": {
      "model_module": "@jupyter-widgets/base",
      "model_module_version": "1.2.0",
      "model_name": "LayoutModel",
      "state": {}
     },
     "0f9a6199d09f441383a5771414d70c91": {
      "model_module": "@jupyter-widgets/controls",
      "model_module_version": "1.5.0",
      "model_name": "HBoxModel",
      "state": {
       "children": [
        "IPY_MODEL_3abeaadc06f4446d92f509973b102f1b",
        "IPY_MODEL_81bfa32dcecd42589a925b9979347759",
        "IPY_MODEL_9dbbfb67aede43f8bd2eb9fc07ac737f"
       ],
       "layout": "IPY_MODEL_9d48445c459a4cdd94d2e19c2ecf27d4"
      }
     },
     "101fb811eb484ef69d89b5ef3bc4c954": {
      "model_module": "@jupyter-widgets/controls",
      "model_module_version": "1.5.0",
      "model_name": "FloatSliderModel",
      "state": {
       "description": "135°",
       "layout": "IPY_MODEL_2fc2b6f8159a4f96a712cee39cd4c4b4",
       "max": 1,
       "min": -1,
       "step": 0.01,
       "style": "IPY_MODEL_a650d4b20c444df48ee2fb1420f5d97d"
      }
     },
     "10a32f64119849a2872afe58475b4b4e": {
      "model_module": "@jupyter-widgets/controls",
      "model_module_version": "1.5.0",
      "model_name": "ButtonModel",
      "state": {
       "description": "Export Image",
       "layout": "IPY_MODEL_9457046c120d44bbb72828a889b41f2a",
       "style": "IPY_MODEL_e709a6011bf1444b96f307513a24fff4"
      }
     },
     "110c323cae6846ef8f6b4cd4b8efa04a": {
      "model_module": "@jupyter-widgets/controls",
      "model_module_version": "1.5.0",
      "model_name": "ButtonModel",
      "state": {
       "description": "Save Figure",
       "layout": "IPY_MODEL_1a6e5262633b4f1e8729dc9a1a369d65",
       "style": "IPY_MODEL_145cae46b19e48018d9d3d49faa63170"
      }
     },
     "112c5f331b6a4d7384b44801d001a8ed": {
      "model_module": "@jupyter-widgets/controls",
      "model_module_version": "1.5.0",
      "model_name": "FloatSliderModel",
      "state": {
       "description": "Exposure",
       "layout": "IPY_MODEL_27d0469074ad46aeab62355bb343e390",
       "max": 8,
       "min": -8,
       "step": 0.1,
       "style": "IPY_MODEL_ae818082de324ac6be4443b7e82617b2"
      }
     },
     "1153b19ce8c0481487584e0ab59a4b68": {
      "model_module": "@jupyter-widgets/controls",
      "model_module_version": "1.5.0",
      "model_name": "FloatSliderModel",
      "state": {
       "description": "45°",
       "layout": "IPY_MODEL_d4efb6ee580f48f7b7d8b630e9356575",
       "max": 1,
       "min": -1,
       "step": 0.01,
       "style": "IPY_MODEL_fca2fce28a7349e0a3e3cb77dfb3b911"
      }
     },
     "1155891667134718a14ae1c6d485b19e": {
      "model_module": "@jupyter-widgets/controls",
      "model_module_version": "1.5.0",
      "model_name": "ButtonStyleModel",
      "state": {}
     },
     "1162532aef5c4ba9bfc730b14587fe67": {
      "model_module": "@jupyter-widgets/controls",
      "model_module_version": "1.5.0",
      "model_name": "SliderStyleModel",
      "state": {
       "description_width": ""
      }
     },
     "116ac9e9d2144be3892649b434a60fbb": {
      "model_module": "@jupyter-widgets/controls",
      "model_module_version": "1.5.0",
      "model_name": "ButtonModel",
      "state": {
       "description": "Reset Saturation Controls",
       "layout": "IPY_MODEL_f2ffa830484042d099a110a2f2d0a509",
       "style": "IPY_MODEL_481830365dfb4519a804d38932e8afbd"
      }
     },
     "11cfeb82c6ac4a858e1066512ed8fb3a": {
      "model_module": "@jupyter-widgets/base",
      "model_module_version": "1.2.0",
      "model_name": "LayoutModel",
      "state": {}
     },
     "11d4f14fdbe94ab38e4d8e743d1dd27d": {
      "model_module": "@jupyter-widgets/base",
      "model_module_version": "1.2.0",
      "model_name": "LayoutModel",
      "state": {}
     },
     "1235495c070a48558076aedf5c07a171": {
      "model_module": "@jupyter-widgets/controls",
      "model_module_version": "1.5.0",
      "model_name": "ButtonStyleModel",
      "state": {}
     },
     "123e266bca0343a0aaee2fcac9eca93e": {
      "model_module": "@jupyter-widgets/output",
      "model_module_version": "1.0.0",
      "model_name": "OutputModel",
      "state": {
       "layout": "IPY_MODEL_f9fa6a1a1d4d4c27bc37d44fb8e76f07",
       "outputs": [
        {
         "data": {
          "application/vnd.jupyter.widget-view+json": {
           "model_id": "241e35ee6bb64313800b0c3c4a3984e0",
           "version_major": 2,
           "version_minor": 0
          },
          "text/plain": "Canvas(toolbar=Toolbar(toolitems=[('Home', 'Reset original view', 'home', 'home'), ('Back', 'Back to previous …"
         },
         "metadata": {},
         "output_type": "display_data"
        }
       ]
      }
     },
     "123fca42af584df2806a6cb2ca0d6e9a": {
      "model_module": "@jupyter-widgets/base",
      "model_module_version": "1.2.0",
      "model_name": "LayoutModel",
      "state": {}
     },
     "12465e60cd8a41febb8dd2af83c8cf01": {
      "model_module": "@jupyter-widgets/controls",
      "model_module_version": "1.5.0",
      "model_name": "SliderStyleModel",
      "state": {
       "description_width": ""
      }
     },
     "126ea299100249ce9d1c8c6bc8ddba6c": {
      "model_module": "@jupyter-widgets/base",
      "model_module_version": "1.2.0",
      "model_name": "LayoutModel",
      "state": {}
     },
     "129a373f22f5494e82906c5c5a6a4f76": {
      "model_module": "@jupyter-widgets/base",
      "model_module_version": "1.2.0",
      "model_name": "LayoutModel",
      "state": {}
     },
     "136ef4dc8aa349e2afa446e0bbdd3069": {
      "model_module": "@jupyter-widgets/controls",
      "model_module_version": "1.5.0",
      "model_name": "SliderStyleModel",
      "state": {
       "description_width": ""
      }
     },
     "140108a1d3ab464e87fafe1f1ee611ac": {
      "model_module": "@jupyter-widgets/base",
      "model_module_version": "1.2.0",
      "model_name": "LayoutModel",
      "state": {}
     },
     "141afdcd963e46b7868bc98e27a9ebe4": {
      "model_module": "@jupyter-widgets/controls",
      "model_module_version": "1.5.0",
      "model_name": "ButtonModel",
      "state": {
       "description": "Export Image",
       "layout": "IPY_MODEL_a707439728e34748b589bdb7aead7ddf",
       "style": "IPY_MODEL_542a3ac546f94006886fc22520edc7ee"
      }
     },
     "145cae46b19e48018d9d3d49faa63170": {
      "model_module": "@jupyter-widgets/controls",
      "model_module_version": "1.5.0",
      "model_name": "ButtonStyleModel",
      "state": {}
     },
     "146546d5474a44a7b11818dfcb60b44b": {
      "model_module": "@jupyter-widgets/base",
      "model_module_version": "1.2.0",
      "model_name": "LayoutModel",
      "state": {}
     },
     "14c38d6fa6164c68b051acb2db495199": {
      "model_module": "@jupyter-widgets/controls",
      "model_module_version": "1.5.0",
      "model_name": "SliderStyleModel",
      "state": {
       "description_width": ""
      }
     },
     "14f5c813bad8400e9a1662baba001283": {
      "model_module": "@jupyter-widgets/base",
      "model_module_version": "1.2.0",
      "model_name": "LayoutModel",
      "state": {}
     },
     "15009742e03e4854a8bf8ee406b83685": {
      "model_module": "@jupyter-widgets/controls",
      "model_module_version": "1.5.0",
      "model_name": "ButtonStyleModel",
      "state": {}
     },
     "15061ecd04224fdab672434b7e6382ee": {
      "model_module": "jupyter-matplotlib",
      "model_module_version": "^0.7.2",
      "model_name": "MPLCanvasModel",
      "state": {
       "_figure_label": "Figure 1",
       "_height": 458,
       "_width": 1100,
       "header_visible": false,
       "layout": "IPY_MODEL_343b53788cea4d669b0ace49a58f7bbd",
       "resizable": false,
       "toolbar": "IPY_MODEL_d2e872eae5224f5194c94ee1da9ded9b",
       "toolbar_position": "left",
       "toolbar_visible": false
      }
     },
     "152e563475744011ae533fb4a052ac83": {
      "model_module": "@jupyter-widgets/controls",
      "model_module_version": "1.5.0",
      "model_name": "DescriptionStyleModel",
      "state": {
       "description_width": ""
      }
     },
     "15a19aee1fd245808924f47e26983e18": {
      "model_module": "@jupyter-widgets/controls",
      "model_module_version": "1.5.0",
      "model_name": "VBoxModel",
      "state": {
       "children": [
        "IPY_MODEL_d0cb7d4f411641c6a79f017ffedac687",
        "IPY_MODEL_9646ed35abfb41a4ab775bdd9bce8d14",
        "IPY_MODEL_d83385f84c4e42caaad0614327a70b97"
       ],
       "layout": "IPY_MODEL_31805bde09f14131b70e2e690d1d8aad"
      }
     },
     "15dc8e33b9d945808d827c0dcd00b1e9": {
      "model_module": "@jupyter-widgets/base",
      "model_module_version": "1.2.0",
      "model_name": "LayoutModel",
      "state": {}
     },
     "15dd0dc187494f20be80ee5c1b4a78a9": {
      "model_module": "jupyter-matplotlib",
      "model_module_version": "^0.7.2",
      "model_name": "MPLCanvasModel",
      "state": {
       "_figure_label": "Figure 19",
       "_height": 396,
       "_image_mode": "diff",
       "_width": 1100,
       "header_visible": false,
       "layout": "IPY_MODEL_e5d47ece85dc4ea389989799e08022b9",
       "resizable": false,
       "toolbar": "IPY_MODEL_824a0e2cdd5b4847bdda79e74bb4658e",
       "toolbar_position": "left",
       "toolbar_visible": false
      }
     },
     "15e3490290514dd9b6952bb0093c434a": {
      "model_module": "@jupyter-widgets/controls",
      "model_module_version": "1.5.0",
      "model_name": "FloatSliderModel",
      "state": {
       "description": "225°",
       "layout": "IPY_MODEL_5417aa0f139249749318bb78cf1ca316",
       "max": 1,
       "min": -1,
       "step": 0.01,
       "style": "IPY_MODEL_a04ba36199bd41da9d23b64179530667"
      }
     },
     "163e9c1554b14b029b8ef2a358e9d7f4": {
      "model_module": "@jupyter-widgets/base",
      "model_module_version": "1.2.0",
      "model_name": "LayoutModel",
      "state": {}
     },
     "1666836d0fd4483aa7abab0113acb17d": {
      "model_module": "@jupyter-widgets/base",
      "model_module_version": "1.2.0",
      "model_name": "LayoutModel",
      "state": {}
     },
     "16e4774b95f44f469e426d75ab620cd8": {
      "model_module": "@jupyter-widgets/base",
      "model_module_version": "1.2.0",
      "model_name": "LayoutModel",
      "state": {}
     },
     "16e64deee09f4dbaa626de1755ba257e": {
      "model_module": "@jupyter-widgets/base",
      "model_module_version": "1.2.0",
      "model_name": "LayoutModel",
      "state": {}
     },
     "1703652ebd4043089e5e498c2a93c740": {
      "model_module": "@jupyter-widgets/controls",
      "model_module_version": "1.5.0",
      "model_name": "VBoxModel",
      "state": {
       "children": [
        "IPY_MODEL_79bbff0278a847f1867bc2a2adace180",
        "IPY_MODEL_c714ebec80ed414abe7018bd35abbd41",
        "IPY_MODEL_d3c2c7a31112405ca989cca51cf0c5a4"
       ],
       "layout": "IPY_MODEL_b38eeb8463e34f7b9f69c3f052cbcecb"
      }
     },
     "17048e3010b949099eb2a20ab8b94bcc": {
      "model_module": "@jupyter-widgets/controls",
      "model_module_version": "1.5.0",
      "model_name": "ButtonModel",
      "state": {
       "description": "Save Figure",
       "layout": "IPY_MODEL_36e52e3d9d95485aaca76dfd09f01da0",
       "style": "IPY_MODEL_42bd6e078849452b927b075c8cf26e53"
      }
     },
     "170950b5c99c4e3c876a291b463a0dc2": {
      "model_module": "@jupyter-widgets/base",
      "model_module_version": "1.2.0",
      "model_name": "LayoutModel",
      "state": {}
     },
     "17338397fde0462fb19d91573e7a69d1": {
      "model_module": "@jupyter-widgets/controls",
      "model_module_version": "1.5.0",
      "model_name": "HBoxModel",
      "state": {
       "children": [
        "IPY_MODEL_98eb113490ff46169e23dfb0296dd014",
        "IPY_MODEL_858988df8d7c4663ac65b2110dd1e50b",
        "IPY_MODEL_0515321c257d40ac82454c34bc171cc7",
        "IPY_MODEL_6ed2cb76616a41f4b4af88938174580a"
       ],
       "layout": "IPY_MODEL_5f3efed250da4be5a19dfa07af0e2c5c"
      }
     },
     "1741359160634a18bd1827a217ff4643": {
      "model_module": "@jupyter-widgets/base",
      "model_module_version": "1.2.0",
      "model_name": "LayoutModel",
      "state": {}
     },
     "17ea6a3f7f5a4ddb90b88bef3bab470b": {
      "model_module": "@jupyter-widgets/base",
      "model_module_version": "1.2.0",
      "model_name": "LayoutModel",
      "state": {}
     },
     "1838e0a138414463a1b60e46684260c5": {
      "model_module": "@jupyter-widgets/base",
      "model_module_version": "1.2.0",
      "model_name": "LayoutModel",
      "state": {}
     },
     "18440e4e79b24ff3b93b27c064e19b99": {
      "model_module": "@jupyter-widgets/controls",
      "model_module_version": "1.5.0",
      "model_name": "ButtonModel",
      "state": {
       "description": "Export Image",
       "layout": "IPY_MODEL_cd1101a6f5d94c238a1d776f4df6e478",
       "style": "IPY_MODEL_70e5c5bccd6f4eb580ae077d962dab40"
      }
     },
     "18abcc0f578d4447a2cf422c71f47a92": {
      "model_module": "@jupyter-widgets/base",
      "model_module_version": "1.2.0",
      "model_name": "LayoutModel",
      "state": {}
     },
     "18c44c81ae90420bb39c6e8b3aa53f30": {
      "model_module": "@jupyter-widgets/controls",
      "model_module_version": "1.5.0",
      "model_name": "ButtonModel",
      "state": {
       "description": "Export Image",
       "layout": "IPY_MODEL_7863fd2c56f04c71ad642aec481c242f",
       "style": "IPY_MODEL_a1c69a05fe464987b69532abd24aea2b"
      }
     },
     "18d03375b5c94632b415df4c49eddd40": {
      "model_module": "@jupyter-widgets/base",
      "model_module_version": "1.2.0",
      "model_name": "LayoutModel",
      "state": {}
     },
     "18daf0d13fa843b1baffdec7fb301aea": {
      "model_module": "@jupyter-widgets/controls",
      "model_module_version": "1.5.0",
      "model_name": "SliderStyleModel",
      "state": {
       "description_width": ""
      }
     },
     "18dd3d0c078b4ccc8a34b688558dece9": {
      "model_module": "@jupyter-widgets/base",
      "model_module_version": "1.2.0",
      "model_name": "LayoutModel",
      "state": {}
     },
     "18efb2f93d42419784357a33f7f7e993": {
      "model_module": "@jupyter-widgets/controls",
      "model_module_version": "1.5.0",
      "model_name": "HBoxModel",
      "state": {
       "children": [
        "IPY_MODEL_35e3a92c71b94db78ddf1622c0a056f4",
        "IPY_MODEL_047673b13a5a432a98fcd8c9e2e3d77b",
        "IPY_MODEL_cb0de1a543d647a9b6ef0bcfd14d2829"
       ],
       "layout": "IPY_MODEL_2e561bbadb31418984abe02d6aac0e65"
      }
     },
     "18ffdde5d39742f9a97dd79f264b62ed": {
      "model_module": "@jupyter-widgets/base",
      "model_module_version": "1.2.0",
      "model_name": "LayoutModel",
      "state": {}
     },
     "190a6cdb3f514936ba2663a5ef3238e2": {
      "model_module": "@jupyter-widgets/base",
      "model_module_version": "1.2.0",
      "model_name": "LayoutModel",
      "state": {}
     },
     "191f21bebd604af4a8557613393185a9": {
      "model_module": "@jupyter-widgets/base",
      "model_module_version": "1.2.0",
      "model_name": "LayoutModel",
      "state": {}
     },
     "1a348ca9548949eb8c41abf8fef01b7e": {
      "model_module": "@jupyter-widgets/controls",
      "model_module_version": "1.5.0",
      "model_name": "ButtonStyleModel",
      "state": {}
     },
     "1a5a0dcd1c504b08a21d40af9183f1b8": {
      "model_module": "@jupyter-widgets/controls",
      "model_module_version": "1.5.0",
      "model_name": "CheckboxModel",
      "state": {
       "description": "Disable Medicina",
       "disabled": false,
       "layout": "IPY_MODEL_2c6cb88ea8154e8cada3d512bc71e567",
       "style": "IPY_MODEL_b0c9107d0d1c42938c7cbab328e394f5",
       "value": false
      }
     },
     "1a6ab79e0cdc4ac18a0068b2b68a5ec6": {
      "model_module": "@jupyter-widgets/controls",
      "model_module_version": "1.5.0",
      "model_name": "ButtonModel",
      "state": {
       "description": "Reset Protected Area",
       "layout": "IPY_MODEL_9973d81f90734cbd89ae9380100ff1e0",
       "style": "IPY_MODEL_d673b6cf6b034d6aa752ba4eb87d759b"
      }
     },
     "1a6e5262633b4f1e8729dc9a1a369d65": {
      "model_module": "@jupyter-widgets/base",
      "model_module_version": "1.2.0",
      "model_name": "LayoutModel",
      "state": {}
     },
     "1ab1cd9a19db491e883e2c25c7504249": {
      "model_module": "@jupyter-widgets/base",
      "model_module_version": "1.2.0",
      "model_name": "LayoutModel",
      "state": {}
     },
     "1acb3d5717104f32bec29e9ab8896ed8": {
      "model_module": "jupyter-matplotlib",
      "model_module_version": "^0.7.2",
      "model_name": "MPLCanvasModel",
      "state": {
       "_figure_label": "Figure 13",
       "_height": 550,
       "_image_mode": "diff",
       "_message": "x= y=",
       "_width": 1100,
       "header_visible": false,
       "layout": "IPY_MODEL_50c25d63f38141c09eac42e4ca4d81eb",
       "resizable": false,
       "toolbar": "IPY_MODEL_a23db76043e24095bc8fd3f9e19b814a",
       "toolbar_position": "left",
       "toolbar_visible": false
      }
     },
     "1b0baadf570445ada6e0681d0f992967": {
      "model_module": "@jupyter-widgets/controls",
      "model_module_version": "1.5.0",
      "model_name": "ButtonModel",
      "state": {
       "description": "Save Figure",
       "layout": "IPY_MODEL_caac433b491c419eb4dfa97ff06ef381",
       "style": "IPY_MODEL_c057255defe04d81a8ec55713880185c"
      }
     },
     "1ba0dc4c7dd04a249ca08a0f523c0891": {
      "model_module": "@jupyter-widgets/base",
      "model_module_version": "1.2.0",
      "model_name": "LayoutModel",
      "state": {
       "align_items": "stretch",
       "display": "flex",
       "flex_flow": "column",
       "width": "1128px"
      }
     },
     "1bc11b9405dc4e69b602f7cf14f27cbf": {
      "model_module": "@jupyter-widgets/base",
      "model_module_version": "1.2.0",
      "model_name": "LayoutModel",
      "state": {}
     },
     "1bd64bafc0d641a1a857ceed8ad88b92": {
      "model_module": "@jupyter-widgets/base",
      "model_module_version": "1.2.0",
      "model_name": "LayoutModel",
      "state": {}
     },
     "1bda37b3f1d146e189b7bcb88b2a40b1": {
      "model_module": "@jupyter-widgets/controls",
      "model_module_version": "1.5.0",
      "model_name": "SliderStyleModel",
      "state": {
       "description_width": ""
      }
     },
     "1c1906257d3342a981487a1afeda0a04": {
      "model_module": "@jupyter-widgets/base",
      "model_module_version": "1.2.0",
      "model_name": "LayoutModel",
      "state": {}
     },
     "1c606b67dad3411f8e3b2a55cf2e4069": {
      "model_module": "@jupyter-widgets/controls",
      "model_module_version": "1.5.0",
      "model_name": "ButtonModel",
      "state": {
       "description": "Export Image",
       "layout": "IPY_MODEL_9916d99a903841fe909aa325174dd5e1",
       "style": "IPY_MODEL_bae2590343f24d9ebba4fcc50cb1c28f"
      }
     },
     "1c862b251d1e43a38006cf42ff286a90": {
      "model_module": "@jupyter-widgets/base",
      "model_module_version": "1.2.0",
      "model_name": "LayoutModel",
      "state": {}
     },
     "1cb5b14d3e8343559a21e6c08cc65f42": {
      "model_module": "@jupyter-widgets/base",
      "model_module_version": "1.2.0",
      "model_name": "LayoutModel",
      "state": {}
     },
     "1cd74640550f42908f47d0422361490e": {
      "model_module": "@jupyter-widgets/controls",
      "model_module_version": "1.5.0",
      "model_name": "ButtonStyleModel",
      "state": {}
     },
     "1ce29f7f1f1142a88c56f8968da25d19": {
      "model_module": "@jupyter-widgets/base",
      "model_module_version": "1.2.0",
      "model_name": "LayoutModel",
      "state": {}
     },
     "1d1707598c8c4b218ea1b4cd71ae76f3": {
      "model_module": "@jupyter-widgets/base",
      "model_module_version": "1.2.0",
      "model_name": "LayoutModel",
      "state": {}
     },
     "1e5a37fdaa4148c996904d5114d1093c": {
      "model_module": "@jupyter-widgets/controls",
      "model_module_version": "1.5.0",
      "model_name": "ButtonModel",
      "state": {
       "description": "Reset Protected Area",
       "layout": "IPY_MODEL_16e4774b95f44f469e426d75ab620cd8",
       "style": "IPY_MODEL_1235495c070a48558076aedf5c07a171"
      }
     },
     "1e758bde642842e2858bf08ebfe0aded": {
      "model_module": "@jupyter-widgets/controls",
      "model_module_version": "1.5.0",
      "model_name": "ButtonModel",
      "state": {
       "description": "Save Figure",
       "layout": "IPY_MODEL_54d179777eee43e397482683bf539156",
       "style": "IPY_MODEL_676fb962022e449c8a058d838c5fab1d"
      }
     },
     "1ec0617343cd4b57b3991b8008e73aff": {
      "model_module": "@jupyter-widgets/controls",
      "model_module_version": "1.5.0",
      "model_name": "ButtonStyleModel",
      "state": {}
     },
     "1ef93d22bb8b41da91c33fa6c4384e97": {
      "model_module": "@jupyter-widgets/controls",
      "model_module_version": "1.5.0",
      "model_name": "SliderStyleModel",
      "state": {
       "description_width": ""
      }
     },
     "1f34f38407b349769e4b36745192bb8b": {
      "model_module": "@jupyter-widgets/base",
      "model_module_version": "1.2.0",
      "model_name": "LayoutModel",
      "state": {}
     },
     "1f3572e7665e4cbba3ca726868453342": {
      "model_module": "@jupyter-widgets/controls",
      "model_module_version": "1.5.0",
      "model_name": "FloatSliderModel",
      "state": {
       "description": "270°",
       "layout": "IPY_MODEL_40f9540ecbc04afcb2438ccb14655a02",
       "max": 1,
       "min": -1,
       "step": 0.01,
       "style": "IPY_MODEL_1fd5c1c7ad5849189cb83e424c9d8d61"
      }
     },
     "1f5156a62ac6476c8b3fe8cbf7cbf2d3": {
      "model_module": "@jupyter-widgets/controls",
      "model_module_version": "1.5.0",
      "model_name": "SliderStyleModel",
      "state": {
       "description_width": ""
      }
     },
     "1fd5c1c7ad5849189cb83e424c9d8d61": {
      "model_module": "@jupyter-widgets/controls",
      "model_module_version": "1.5.0",
      "model_name": "SliderStyleModel",
      "state": {
       "description_width": ""
      }
     },
     "20013755c42f4bf1bbe3d49c19b0c0b1": {
      "model_module": "@jupyter-widgets/base",
      "model_module_version": "1.2.0",
      "model_name": "LayoutModel",
      "state": {}
     },
     "2019898b242647f88664363d0543ef97": {
      "model_module": "@jupyter-widgets/base",
      "model_module_version": "1.2.0",
      "model_name": "LayoutModel",
      "state": {}
     },
     "2033b22180794f14a635ff0eaecf4080": {
      "model_module": "@jupyter-widgets/base",
      "model_module_version": "1.2.0",
      "model_name": "LayoutModel",
      "state": {}
     },
     "204c0f44279845bda1437b75543a3f10": {
      "model_module": "@jupyter-widgets/base",
      "model_module_version": "1.2.0",
      "model_name": "LayoutModel",
      "state": {}
     },
     "20668408d1154b549535956b284768e7": {
      "model_module": "@jupyter-widgets/base",
      "model_module_version": "1.2.0",
      "model_name": "LayoutModel",
      "state": {}
     },
     "20680892c10542588a4f5ab31756a04d": {
      "model_module": "@jupyter-widgets/controls",
      "model_module_version": "1.5.0",
      "model_name": "SliderStyleModel",
      "state": {
       "description_width": ""
      }
     },
     "208234418447458dad0bad6dc78d58cf": {
      "model_module": "@jupyter-widgets/base",
      "model_module_version": "1.2.0",
      "model_name": "LayoutModel",
      "state": {}
     },
     "2097c31ca0e04482aab0f2eecd2bbaad": {
      "model_module": "@jupyter-widgets/base",
      "model_module_version": "1.2.0",
      "model_name": "LayoutModel",
      "state": {}
     },
     "209a4df940db435494fe5101ccde5b85": {
      "model_module": "@jupyter-widgets/controls",
      "model_module_version": "1.5.0",
      "model_name": "SliderStyleModel",
      "state": {
       "description_width": ""
      }
     },
     "20c78fea6fd44c8ab768fbf7ccf6b515": {
      "model_module": "@jupyter-widgets/controls",
      "model_module_version": "1.5.0",
      "model_name": "DescriptionStyleModel",
      "state": {
       "description_width": ""
      }
     },
     "20df051bf5d24d9c99908ce1c98359ac": {
      "model_module": "@jupyter-widgets/controls",
      "model_module_version": "1.5.0",
      "model_name": "HBoxModel",
      "state": {
       "children": [
        "IPY_MODEL_ce28d6cdbe8c467e8e75dbd83668ba0e",
        "IPY_MODEL_da45a9f30bab469fbbc74511ab1a6f26",
        "IPY_MODEL_be772e8f87c54eb08c417c4eca1136e5",
        "IPY_MODEL_e4291b903e954295a57ef82129ffdc3e"
       ],
       "layout": "IPY_MODEL_d2195ea6f90d436289fde8d1ff2b388e"
      }
     },
     "20e9abe6daa4455fa20871523ebdc5f3": {
      "model_module": "@jupyter-widgets/base",
      "model_module_version": "1.2.0",
      "model_name": "LayoutModel",
      "state": {}
     },
     "20f96816a52449209b1362653a94b5ea": {
      "model_module": "@jupyter-widgets/controls",
      "model_module_version": "1.5.0",
      "model_name": "FloatSliderModel",
      "state": {
       "description": "45°",
       "layout": "IPY_MODEL_aa8184afd113436ca23d70a98009a3eb",
       "max": 1,
       "min": -1,
       "step": 0.01,
       "style": "IPY_MODEL_1bda37b3f1d146e189b7bcb88b2a40b1"
      }
     },
     "21721093acb849418e6f24cb25c8530a": {
      "model_module": "@jupyter-widgets/controls",
      "model_module_version": "1.5.0",
      "model_name": "ButtonModel",
      "state": {
       "description": "Export Image",
       "layout": "IPY_MODEL_a267ac19e4f94d0c82eb9283b7508f36",
       "style": "IPY_MODEL_3707107658d9424c8de9c44a03e73922"
      }
     },
     "21b0d9ca2e58460793fc18c4e71fa372": {
      "model_module": "jupyter-matplotlib",
      "model_module_version": "^0.7.2",
      "model_name": "MPLCanvasModel",
      "state": {
       "_figure_label": "Figure 10",
       "_height": 696,
       "_width": 1100,
       "header_visible": false,
       "layout": "IPY_MODEL_3ffd9efc07994aeebdb9338f214a1458",
       "resizable": false,
       "toolbar": "IPY_MODEL_86945d61e8fc4cd6922b87a30784bf63",
       "toolbar_position": "left",
       "toolbar_visible": false
      }
     },
     "21b42d5d8eac4fec8bc72a88099d9b07": {
      "model_module": "@jupyter-widgets/controls",
      "model_module_version": "1.5.0",
      "model_name": "FloatSliderModel",
      "state": {
       "description": "0°",
       "layout": "IPY_MODEL_fe9853de14f3471e89a3a0f5fd2f60af",
       "max": 1,
       "min": -1,
       "step": 0.01,
       "style": "IPY_MODEL_2b57b61c311249cc992dafbb2e1e20ec"
      }
     },
     "21ec071626cb467688174f28c009894d": {
      "model_module": "@jupyter-widgets/base",
      "model_module_version": "1.2.0",
      "model_name": "LayoutModel",
      "state": {}
     },
     "221b62dcafb44e87a604cd519602e7f5": {
      "model_module": "@jupyter-widgets/controls",
      "model_module_version": "1.5.0",
      "model_name": "FloatSliderModel",
      "state": {
       "description": "0°",
       "layout": "IPY_MODEL_7f2004879cb04c43ab3d99b25f3914d0",
       "max": 1,
       "min": -1,
       "step": 0.01,
       "style": "IPY_MODEL_3f9e39459cd1447686142b12949af3e6"
      }
     },
     "2223a5cedf0c48fd946761ed295f654a": {
      "model_module": "@jupyter-widgets/controls",
      "model_module_version": "1.5.0",
      "model_name": "ButtonModel",
      "state": {
       "description": "Reset Saturation Controls",
       "layout": "IPY_MODEL_6376f4c90b4f47ada5c4ed62a5b214fc",
       "style": "IPY_MODEL_e3c3ed3cbbd94e40aa9d88f5879ef112"
      }
     },
     "22a2b5848aae4951a087794bef9650cd": {
      "model_module": "@jupyter-widgets/base",
      "model_module_version": "1.2.0",
      "model_name": "LayoutModel",
      "state": {}
     },
     "22aa78cda0204f4db2298eb5f756d459": {
      "model_module": "@jupyter-widgets/controls",
      "model_module_version": "1.5.0",
      "model_name": "FloatSliderModel",
      "state": {
       "description": "Exposure",
       "layout": "IPY_MODEL_f762172e3da04a27b02d36150262cb2e",
       "max": 8,
       "min": -8,
       "step": 0.1,
       "style": "IPY_MODEL_58ef776fa6404bf387e8e3e9fd1dee98"
      }
     },
     "22ebf556f9b04d62a98e4e70c2c2d3af": {
      "model_module": "@jupyter-widgets/controls",
      "model_module_version": "1.5.0",
      "model_name": "ButtonStyleModel",
      "state": {}
     },
     "22f33dd9bb17459d9f45224cc150e15e": {
      "model_module": "@jupyter-widgets/controls",
      "model_module_version": "1.5.0",
      "model_name": "SliderStyleModel",
      "state": {
       "description_width": ""
      }
     },
     "2327813718b84f66ae21f6a6052bc0af": {
      "model_module": "@jupyter-widgets/controls",
      "model_module_version": "1.5.0",
      "model_name": "SliderStyleModel",
      "state": {
       "description_width": ""
      }
     },
     "2368798c6e6f4f4fb5ccbe55b7c2ee5f": {
      "model_module": "@jupyter-widgets/base",
      "model_module_version": "1.2.0",
      "model_name": "LayoutModel",
      "state": {
       "border": "solid 4px #222",
       "margin": "4px",
       "padding": "0"
      }
     },
     "23a4c79181944f04947c144cc08c27d8": {
      "model_module": "@jupyter-widgets/controls",
      "model_module_version": "1.5.0",
      "model_name": "FloatSliderModel",
      "state": {
       "description": "0°",
       "layout": "IPY_MODEL_5c78d34105b04563a5532cc67edd1995",
       "max": 1,
       "min": -1,
       "step": 0.01,
       "style": "IPY_MODEL_67d146c79dcd4bd98fb02181cb49e675"
      }
     },
     "241e35ee6bb64313800b0c3c4a3984e0": {
      "model_module": "jupyter-matplotlib",
      "model_module_version": "^0.7.2",
      "model_name": "MPLCanvasModel",
      "state": {
       "_figure_label": "Figure 6",
       "_height": 508,
       "_width": 1100,
       "header_visible": false,
       "layout": "IPY_MODEL_c5d0a4dc767f4f42a9d9c3ce32e86d3b",
       "resizable": false,
       "toolbar": "IPY_MODEL_8bc6c67b6f8b49a1b0c7d26507ff5a73",
       "toolbar_position": "left",
       "toolbar_visible": false
      }
     },
     "2478de8efce44dcd95feb2b95306edd8": {
      "model_module": "@jupyter-widgets/base",
      "model_module_version": "1.2.0",
      "model_name": "LayoutModel",
      "state": {}
     },
     "24ea1355a8f140ff9098771c4ad97d89": {
      "model_module": "@jupyter-widgets/output",
      "model_module_version": "1.0.0",
      "model_name": "OutputModel",
      "state": {
       "layout": "IPY_MODEL_9802a26ea73448b9a84d2c7610ad7c08",
       "outputs": [
        {
         "data": {
          "application/vnd.jupyter.widget-view+json": {
           "model_id": "dbe8e662c6a9428695779f4d9ba2e145",
           "version_major": 2,
           "version_minor": 0
          },
          "text/plain": "Canvas(toolbar=Toolbar(toolitems=[('Home', 'Reset original view', 'home', 'home'), ('Back', 'Back to previous …"
         },
         "metadata": {},
         "output_type": "display_data"
        }
       ]
      }
     },
     "24f08b97b42246808582caaa0cecebd4": {
      "model_module": "@jupyter-widgets/controls",
      "model_module_version": "1.5.0",
      "model_name": "VBoxModel",
      "state": {
       "children": [
        "IPY_MODEL_5f1605f3dd0b4b97a21003b6f27f135c"
       ],
       "layout": "IPY_MODEL_60357ce577dd4e548b4bc690d9eb34fb"
      }
     },
     "251e171afa3140189102dcb500877fbb": {
      "model_module": "@jupyter-widgets/base",
      "model_module_version": "1.2.0",
      "model_name": "LayoutModel",
      "state": {}
     },
     "255d4b9cf643493c83ea4750a7a1f173": {
      "model_module": "@jupyter-widgets/controls",
      "model_module_version": "1.5.0",
      "model_name": "SliderStyleModel",
      "state": {
       "description_width": ""
      }
     },
     "2572fc34d6a3497db05ea76bb5201213": {
      "model_module": "@jupyter-widgets/controls",
      "model_module_version": "1.5.0",
      "model_name": "FloatSliderModel",
      "state": {
       "description": "270°",
       "layout": "IPY_MODEL_dc72b5b7226741f3b337084b37086ae9",
       "max": 1,
       "min": -1,
       "step": 0.01,
       "style": "IPY_MODEL_ffa75689771645b1b12a5ca8b5ab74f3"
      }
     },
     "25f212971d6644b5aca83f3ffba937eb": {
      "model_module": "@jupyter-widgets/controls",
      "model_module_version": "1.5.0",
      "model_name": "HBoxModel",
      "state": {
       "children": [
        "IPY_MODEL_c2c0beda37724a57a27fcac4a468f937",
        "IPY_MODEL_7182c467200f457e901ed8c566861445",
        "IPY_MODEL_888b630593954aaba3432cc5b0e0b65e"
       ],
       "layout": "IPY_MODEL_0257f560ffa54572baa0f9e0aab40b35"
      }
     },
     "266ee7fb7f79437a890e17865b320870": {
      "model_module": "@jupyter-widgets/controls",
      "model_module_version": "1.5.0",
      "model_name": "FloatSliderModel",
      "state": {
       "description": "45°",
       "layout": "IPY_MODEL_4f8208c3a2fb4de3b47a292d9a9b8f33",
       "max": 1,
       "min": -1,
       "step": 0.01,
       "style": "IPY_MODEL_8edd81e8f58b4fda82ff5a7ca2fdbca5"
      }
     },
     "266f9866509841f18583d625c0b8b504": {
      "model_module": "@jupyter-widgets/base",
      "model_module_version": "1.2.0",
      "model_name": "LayoutModel",
      "state": {}
     },
     "2676aab6777c45679ae9f0bb3322f9ed": {
      "model_module": "@jupyter-widgets/base",
      "model_module_version": "1.2.0",
      "model_name": "LayoutModel",
      "state": {}
     },
     "26a78157b94b4c73af6bda486c094ac5": {
      "model_module": "@jupyter-widgets/controls",
      "model_module_version": "1.5.0",
      "model_name": "FloatSliderModel",
      "state": {
       "description": "315°",
       "layout": "IPY_MODEL_3e6fab4049ac44e786940189342c9807",
       "max": 1,
       "min": -1,
       "step": 0.01,
       "style": "IPY_MODEL_cb17ba96ca9b476c81d3f66291421a32"
      }
     },
     "2757a34742e447baa524cc22814b04f4": {
      "model_module": "@jupyter-widgets/controls",
      "model_module_version": "1.5.0",
      "model_name": "SliderStyleModel",
      "state": {
       "description_width": ""
      }
     },
     "275b2bf545854c578fa8e205b96af11d": {
      "model_module": "@jupyter-widgets/controls",
      "model_module_version": "1.5.0",
      "model_name": "HBoxModel",
      "state": {
       "children": [
        "IPY_MODEL_01cdea879fcf41b1a8a2afd7c32c8eda",
        "IPY_MODEL_0885b89f0a374c8a9d34fb9a07a7faa2",
        "IPY_MODEL_ece081dcd809463ea07f1d507d06268b"
       ],
       "layout": "IPY_MODEL_16e64deee09f4dbaa626de1755ba257e"
      }
     },
     "27a82c1a186c4093ab9a536501e44d9b": {
      "model_module": "@jupyter-widgets/controls",
      "model_module_version": "1.5.0",
      "model_name": "VBoxModel",
      "state": {
       "children": [
        "IPY_MODEL_707c5b4c00114106827e4872d0f513c1",
        "IPY_MODEL_9485e518deb5449babeaebcf6e06236f",
        "IPY_MODEL_04df0c0728ba4bea9e783a765421ddb7"
       ],
       "layout": "IPY_MODEL_ad4945f5185f4c7d93a3c8d9c01488a8"
      }
     },
     "27bbf478c82f4647834c5ad0f1f835f9": {
      "model_module": "@jupyter-widgets/controls",
      "model_module_version": "1.5.0",
      "model_name": "SliderStyleModel",
      "state": {
       "description_width": ""
      }
     },
     "27be0ac59f044fa596a1d979eb388ec9": {
      "model_module": "@jupyter-widgets/controls",
      "model_module_version": "1.5.0",
      "model_name": "SliderStyleModel",
      "state": {
       "description_width": ""
      }
     },
     "27cab78fdfe5484ebda2e28d2557edeb": {
      "model_module": "@jupyter-widgets/controls",
      "model_module_version": "1.5.0",
      "model_name": "DescriptionStyleModel",
      "state": {
       "description_width": ""
      }
     },
     "27d0469074ad46aeab62355bb343e390": {
      "model_module": "@jupyter-widgets/base",
      "model_module_version": "1.2.0",
      "model_name": "LayoutModel",
      "state": {}
     },
     "27f1e1ae0f5b46f4bd1182b224e45f5c": {
      "model_module": "@jupyter-widgets/controls",
      "model_module_version": "1.5.0",
      "model_name": "ButtonStyleModel",
      "state": {}
     },
     "28147de024cd40449741eb5bb373a1dd": {
      "model_module": "@jupyter-widgets/base",
      "model_module_version": "1.2.0",
      "model_name": "LayoutModel",
      "state": {
       "border": "solid 4px #222",
       "margin": "4px",
       "padding": "0"
      }
     },
     "28162e9926994720bae39bb6ce0c26cb": {
      "model_module": "@jupyter-widgets/controls",
      "model_module_version": "1.5.0",
      "model_name": "FloatSliderModel",
      "state": {
       "description": "90°",
       "layout": "IPY_MODEL_49f34ecf7db94b51b8d2e1c5946254d1",
       "max": 1,
       "min": -1,
       "step": 0.01,
       "style": "IPY_MODEL_3603ffb866854e7ab8cbc890823c77ac"
      }
     },
     "287ce97c334f4388870a460b68937377": {
      "model_module": "@jupyter-widgets/controls",
      "model_module_version": "1.5.0",
      "model_name": "FloatSliderModel",
      "state": {
       "description": "315°",
       "layout": "IPY_MODEL_c7da256c9def46ca97de2cf566f8c538",
       "max": 1,
       "min": -1,
       "step": 0.01,
       "style": "IPY_MODEL_341dac34041440e99ca7edef9a75a484"
      }
     },
     "289a629a53bb43ee9b596c5f43171796": {
      "model_module": "jupyter-matplotlib",
      "model_module_version": "^0.7.2",
      "model_name": "ToolbarModel",
      "state": {
       "layout": "IPY_MODEL_5750c3463ea04a1aa0ce5df2ec41bafd",
       "toolitems": [
        [
         "Home",
         "Reset original view",
         "home",
         "home"
        ],
        [
         "Back",
         "Back to previous view",
         "arrow-left",
         "back"
        ],
        [
         "Forward",
         "Forward to next view",
         "arrow-right",
         "forward"
        ],
        [
         "Pan",
         "Pan axes with left mouse, zoom with right",
         "arrows",
         "pan"
        ],
        [
         "Zoom",
         "Zoom to rectangle",
         "square-o",
         "zoom"
        ],
        [
         "Download",
         "Download plot",
         "floppy-o",
         "save_figure"
        ]
       ]
      }
     },
     "28a282121acf473a9397c0e47858c209": {
      "model_module": "@jupyter-widgets/output",
      "model_module_version": "1.0.0",
      "model_name": "OutputModel",
      "state": {
       "layout": "IPY_MODEL_c517ec7de08f49d1b5be3b08bf6cec4b",
       "outputs": [
        {
         "data": {
          "application/vnd.jupyter.widget-view+json": {
           "model_id": "3256d25b096a4b46aa6c3738363ef382",
           "version_major": 2,
           "version_minor": 0
          },
          "text/plain": "Canvas(toolbar=Toolbar(toolitems=[('Home', 'Reset original view', 'home', 'home'), ('Back', 'Back to previous …"
         },
         "metadata": {},
         "output_type": "display_data"
        }
       ]
      }
     },
     "28b3f1830d1249629fd14bed4460ab2d": {
      "model_module": "@jupyter-widgets/controls",
      "model_module_version": "1.5.0",
      "model_name": "FloatSliderModel",
      "state": {
       "description": "90°",
       "layout": "IPY_MODEL_594866f248294ba89346743daeb362a7",
       "max": 1,
       "min": -1,
       "step": 0.01,
       "style": "IPY_MODEL_34bace2618c948c1a10ea2af102cb316"
      }
     },
     "28c03d8459e34ab6ba78c05b695c28ee": {
      "model_module": "@jupyter-widgets/controls",
      "model_module_version": "1.5.0",
      "model_name": "VBoxModel",
      "state": {
       "children": [
        "IPY_MODEL_4a76c066270844039b99e0489036873a",
        "IPY_MODEL_287ce97c334f4388870a460b68937377"
       ],
       "layout": "IPY_MODEL_6e56e90b4ed44d6c9f441385833e3ff9"
      }
     },
     "28d0fe7f7e8c4dfeb64d68c8b6ae7bad": {
      "model_module": "@jupyter-widgets/controls",
      "model_module_version": "1.5.0",
      "model_name": "ButtonStyleModel",
      "state": {}
     },
     "28f0fe530e7a400eb5c224f33ad962cb": {
      "model_module": "@jupyter-widgets/controls",
      "model_module_version": "1.5.0",
      "model_name": "CheckboxModel",
      "state": {
       "description": "Disable Medicina",
       "disabled": false,
       "layout": "IPY_MODEL_2960f6384e3d42978a3032876bfcd07a",
       "style": "IPY_MODEL_ac7f6eb90462472b974fd00a17518b76",
       "value": false
      }
     },
     "290ab4914545483d851a8a414e17e816": {
      "model_module": "@jupyter-widgets/controls",
      "model_module_version": "1.5.0",
      "model_name": "FloatSliderModel",
      "state": {
       "description": "Compression Threshold",
       "layout": "IPY_MODEL_c7d50810a50344f092ea0c2aeef423b2",
       "max": 1,
       "step": 0.01,
       "style": "IPY_MODEL_edbf55d708d04f218dad188e0fd14740",
       "value": 0.5
      }
     },
     "2915598e48ad45f39a021050fd20323b": {
      "model_module": "@jupyter-widgets/controls",
      "model_module_version": "1.5.0",
      "model_name": "DescriptionStyleModel",
      "state": {
       "description_width": ""
      }
     },
     "294360e41d344cbc9d1f772df5169198": {
      "model_module": "@jupyter-widgets/base",
      "model_module_version": "1.2.0",
      "model_name": "LayoutModel",
      "state": {}
     },
     "2960f6384e3d42978a3032876bfcd07a": {
      "model_module": "@jupyter-widgets/base",
      "model_module_version": "1.2.0",
      "model_name": "LayoutModel",
      "state": {}
     },
     "2a23a848dc604dc799b8f12ffe1f70a3": {
      "model_module": "@jupyter-widgets/controls",
      "model_module_version": "1.5.0",
      "model_name": "FloatSliderModel",
      "state": {
       "description": "135°",
       "layout": "IPY_MODEL_204c0f44279845bda1437b75543a3f10",
       "max": 1,
       "min": -1,
       "step": 0.01,
       "style": "IPY_MODEL_7cef22a9b28a47028b88a6fa5dfbc512"
      }
     },
     "2a28c8f46a7d47e4877728975eefbfca": {
      "model_module": "@jupyter-widgets/controls",
      "model_module_version": "1.5.0",
      "model_name": "DropdownModel",
      "state": {
       "_options_labels": [
        "tanh",
        "atan",
        "simple"
       ],
       "description": "Compression Function:",
       "index": 0,
       "layout": "IPY_MODEL_a3c1ac593428470d9956f05a44939f7a",
       "style": "IPY_MODEL_c084e7e1925b4ee487328634c80f5d18"
      }
     },
     "2a2ebdfdf25345389e7e5a98e99f5ca5": {
      "model_module": "@jupyter-widgets/base",
      "model_module_version": "1.2.0",
      "model_name": "LayoutModel",
      "state": {}
     },
     "2aaa94314b7f43028a6b53af6c63537d": {
      "model_module": "@jupyter-widgets/base",
      "model_module_version": "1.2.0",
      "model_name": "LayoutModel",
      "state": {}
     },
     "2abb9cb2eed84fbbb94562c804d6e078": {
      "model_module": "@jupyter-widgets/controls",
      "model_module_version": "1.5.0",
      "model_name": "VBoxModel",
      "state": {
       "children": [
        "IPY_MODEL_21b42d5d8eac4fec8bc72a88099d9b07",
        "IPY_MODEL_266ee7fb7f79437a890e17865b320870",
        "IPY_MODEL_8fec6b90bbe5415e8030c216b2fcb752"
       ],
       "layout": "IPY_MODEL_9310f00048fc4439b43a30801d3438f9"
      }
     },
     "2acc93d3789741f5b56201423606204d": {
      "model_module": "@jupyter-widgets/base",
      "model_module_version": "1.2.0",
      "model_name": "LayoutModel",
      "state": {}
     },
     "2b02362477b94a0dad155b08700375f3": {
      "model_module": "@jupyter-widgets/base",
      "model_module_version": "1.2.0",
      "model_name": "LayoutModel",
      "state": {}
     },
     "2b57b61c311249cc992dafbb2e1e20ec": {
      "model_module": "@jupyter-widgets/controls",
      "model_module_version": "1.5.0",
      "model_name": "SliderStyleModel",
      "state": {
       "description_width": ""
      }
     },
     "2b739d48b58c4a6aa079f13f1b677e31": {
      "model_module": "@jupyter-widgets/controls",
      "model_module_version": "1.5.0",
      "model_name": "SliderStyleModel",
      "state": {
       "description_width": ""
      }
     },
     "2b91e3f4723c42bcbdd3608494913958": {
      "model_module": "@jupyter-widgets/base",
      "model_module_version": "1.2.0",
      "model_name": "LayoutModel",
      "state": {
       "border": "solid 4px #222",
       "margin": "4px",
       "padding": "0"
      }
     },
     "2b97ee95af504d009d24f092931b7c20": {
      "model_module": "@jupyter-widgets/controls",
      "model_module_version": "1.5.0",
      "model_name": "ButtonModel",
      "state": {
       "description": "Export Image",
       "layout": "IPY_MODEL_9ee97a0aaf514a4dba6e34a6fb060fe5",
       "style": "IPY_MODEL_d281e76eab4042c1beeb1a456c2551ac"
      }
     },
     "2bee05aa6784498ba6b7247285715e6a": {
      "model_module": "@jupyter-widgets/controls",
      "model_module_version": "1.5.0",
      "model_name": "FloatSliderModel",
      "state": {
       "description": "180°",
       "layout": "IPY_MODEL_ac336e683f964c0db39c4d27fe83414a",
       "max": 1,
       "min": -1,
       "step": 0.01,
       "style": "IPY_MODEL_55ab5fc996ca49a69f003dc3151ae8ae"
      }
     },
     "2bf33f3bd041462c89aaf528ef18eb00": {
      "model_module": "@jupyter-widgets/base",
      "model_module_version": "1.2.0",
      "model_name": "LayoutModel",
      "state": {}
     },
     "2c1cd6ff6e54466da38bd01706e069a6": {
      "model_module": "@jupyter-widgets/controls",
      "model_module_version": "1.5.0",
      "model_name": "VBoxModel",
      "state": {
       "children": [
        "IPY_MODEL_eb277c00a5f2498ea319c830a3f569fb",
        "IPY_MODEL_66ccbc6be17441969a91f04e05e56bc5",
        "IPY_MODEL_5bfd8efb1a864556a92fe88d574fa4f7"
       ],
       "layout": "IPY_MODEL_68d7ee3044a84a2496992b9ec4d60a6f"
      }
     },
     "2c36076038e842f9ad8011fecf0f7319": {
      "model_module": "@jupyter-widgets/base",
      "model_module_version": "1.2.0",
      "model_name": "LayoutModel",
      "state": {
       "border": "solid 4px #222",
       "margin": "4px",
       "padding": "0"
      }
     },
     "2c6cb88ea8154e8cada3d512bc71e567": {
      "model_module": "@jupyter-widgets/base",
      "model_module_version": "1.2.0",
      "model_name": "LayoutModel",
      "state": {}
     },
     "2c7057020bf54f3993d8a1f0c66cd563": {
      "model_module": "@jupyter-widgets/output",
      "model_module_version": "1.0.0",
      "model_name": "OutputModel",
      "state": {
       "layout": "IPY_MODEL_cb001da11e8843229d356ada2b3f3371",
       "outputs": [
        {
         "data": {
          "application/vnd.jupyter.widget-view+json": {
           "model_id": "15dd0dc187494f20be80ee5c1b4a78a9",
           "version_major": 2,
           "version_minor": 0
          },
          "text/plain": "Canvas(toolbar=Toolbar(toolitems=[('Home', 'Reset original view', 'home', 'home'), ('Back', 'Back to previous …"
         },
         "metadata": {},
         "output_type": "display_data"
        }
       ]
      }
     },
     "2ca7767746104c9fa1b305042ff5f08d": {
      "model_module": "@jupyter-widgets/base",
      "model_module_version": "1.2.0",
      "model_name": "LayoutModel",
      "state": {}
     },
     "2cae9c103fc3428db2cf7772d239b0b8": {
      "model_module": "@jupyter-widgets/controls",
      "model_module_version": "1.5.0",
      "model_name": "ButtonStyleModel",
      "state": {}
     },
     "2cb5ab999fe943d78fea9ab515a9bbb8": {
      "model_module": "@jupyter-widgets/controls",
      "model_module_version": "1.5.0",
      "model_name": "CheckboxModel",
      "state": {
       "description": "Disable Medicina",
       "disabled": false,
       "layout": "IPY_MODEL_7b1fb2c9f98948ecaa62eb15974495e6",
       "style": "IPY_MODEL_b7fe0962e2204e329c84ea247340eb06",
       "value": false
      }
     },
     "2ce15cb6c8e347eaa210142a05da22ea": {
      "model_module": "@jupyter-widgets/base",
      "model_module_version": "1.2.0",
      "model_name": "LayoutModel",
      "state": {}
     },
     "2d10339dbbaf4b05bb2f15abc08ba785": {
      "model_module": "@jupyter-widgets/controls",
      "model_module_version": "1.5.0",
      "model_name": "HBoxModel",
      "state": {
       "children": [
        "IPY_MODEL_3eebc1b83bd84b2e9e97b74ca8d57a2f",
        "IPY_MODEL_2a28c8f46a7d47e4877728975eefbfca",
        "IPY_MODEL_09df5caf6dec4139b8abedce407ba1da"
       ],
       "layout": "IPY_MODEL_dcf6cb4fc126419abcfd4e5894e7a4aa"
      }
     },
     "2d3a74c457ac4c349ddb72470fa77c8d": {
      "model_module": "@jupyter-widgets/controls",
      "model_module_version": "1.5.0",
      "model_name": "FloatSliderModel",
      "state": {
       "description": "270°",
       "layout": "IPY_MODEL_89d2043f86754ee097b3c6704f94ea62",
       "max": 1,
       "min": -1,
       "step": 0.01,
       "style": "IPY_MODEL_e567180805614a64bf74b61115577199"
      }
     },
     "2d4d012637284e83854c81ad5f7e05e8": {
      "model_module": "@jupyter-widgets/base",
      "model_module_version": "1.2.0",
      "model_name": "LayoutModel",
      "state": {}
     },
     "2d4ef255b4b341028bdc2e438a10c948": {
      "model_module": "@jupyter-widgets/base",
      "model_module_version": "1.2.0",
      "model_name": "LayoutModel",
      "state": {}
     },
     "2d504fb5455e4b9bb75d1adb8c28bc03": {
      "model_module": "@jupyter-widgets/base",
      "model_module_version": "1.2.0",
      "model_name": "LayoutModel",
      "state": {
       "border": "solid 4px #222",
       "margin": "4px",
       "padding": "0"
      }
     },
     "2dc43dd8897c429fbbe93e4272e8e3cd": {
      "model_module": "@jupyter-widgets/controls",
      "model_module_version": "1.5.0",
      "model_name": "DescriptionStyleModel",
      "state": {
       "description_width": ""
      }
     },
     "2e00a5a9960343218af0313656b91bc6": {
      "model_module": "@jupyter-widgets/controls",
      "model_module_version": "1.5.0",
      "model_name": "FloatSliderModel",
      "state": {
       "description": "Protected Area Threshold",
       "layout": "IPY_MODEL_eb9bd328bd4a47a28640f2903cdaa72c",
       "max": 1,
       "step": 0.01,
       "style": "IPY_MODEL_f94d1d9fa6cf4944b0dec69e4460e93f",
       "value": 0.5
      }
     },
     "2e561bbadb31418984abe02d6aac0e65": {
      "model_module": "@jupyter-widgets/base",
      "model_module_version": "1.2.0",
      "model_name": "LayoutModel",
      "state": {}
     },
     "2e9dfdd8708f43d2929dddff44741a34": {
      "model_module": "@jupyter-widgets/controls",
      "model_module_version": "1.5.0",
      "model_name": "FloatSliderModel",
      "state": {
       "description": "Exposure",
       "layout": "IPY_MODEL_68cabaf7fdbb4cc9afc0a9191a843f1c",
       "max": 8,
       "min": -8,
       "step": 0.1,
       "style": "IPY_MODEL_8fa2d6ef673d4f7481f55665bf5b8b34"
      }
     },
     "2ea8b866c42740a884daa1c9eb96999e": {
      "model_module": "@jupyter-widgets/controls",
      "model_module_version": "1.5.0",
      "model_name": "CheckboxModel",
      "state": {
       "description": "Disable Medicina",
       "disabled": false,
       "layout": "IPY_MODEL_20013755c42f4bf1bbe3d49c19b0c0b1",
       "style": "IPY_MODEL_42facfdd1bdb48599012108517d40371",
       "value": false
      }
     },
     "2f56aa5c3b8a4099960ce701b7844570": {
      "model_module": "@jupyter-widgets/base",
      "model_module_version": "1.2.0",
      "model_name": "LayoutModel",
      "state": {}
     },
     "2f5f01a68c074c4db14017d5ad67d0b7": {
      "model_module": "@jupyter-widgets/controls",
      "model_module_version": "1.5.0",
      "model_name": "BoxModel",
      "state": {
       "children": [
        "IPY_MODEL_2c7057020bf54f3993d8a1f0c66cd563",
        "IPY_MODEL_6b97102646464589944003a9f214993f"
       ],
       "layout": "IPY_MODEL_83354137bc074bf98c883ae46ebf06a2"
      }
     },
     "2f619e721fb144a796d0c09c62f0fafc": {
      "model_module": "@jupyter-widgets/controls",
      "model_module_version": "1.5.0",
      "model_name": "SliderStyleModel",
      "state": {
       "description_width": ""
      }
     },
     "2f684fa211024eacb3e9f35ce16fa21c": {
      "model_module": "@jupyter-widgets/base",
      "model_module_version": "1.2.0",
      "model_name": "LayoutModel",
      "state": {}
     },
     "2f72a159b56145e4be9d013a56a8f0cb": {
      "model_module": "jupyter-matplotlib",
      "model_module_version": "^0.7.2",
      "model_name": "MPLCanvasModel",
      "state": {
       "_figure_label": "Figure 14",
       "_height": 430,
       "_width": 1099,
       "header_visible": false,
       "layout": "IPY_MODEL_f929e02654f64d9bb0156b12905fb15b",
       "resizable": false,
       "toolbar": "IPY_MODEL_b7cbf1bbe6c24f3098b5de3deb07d823",
       "toolbar_position": "left",
       "toolbar_visible": false
      }
     },
     "2f7e9f7ea08f440d9558b8ed7a754cf5": {
      "model_module": "@jupyter-widgets/controls",
      "model_module_version": "1.5.0",
      "model_name": "FloatSliderModel",
      "state": {
       "description": "0°",
       "layout": "IPY_MODEL_123fca42af584df2806a6cb2ca0d6e9a",
       "max": 1,
       "min": -1,
       "step": 0.01,
       "style": "IPY_MODEL_fab3f4472e034dc79f0e4fe062a0ff9a"
      }
     },
     "2f9410b9bb2d46de9026286a2dfbf0a7": {
      "model_module": "@jupyter-widgets/base",
      "model_module_version": "1.2.0",
      "model_name": "LayoutModel",
      "state": {}
     },
     "2fc2b6f8159a4f96a712cee39cd4c4b4": {
      "model_module": "@jupyter-widgets/base",
      "model_module_version": "1.2.0",
      "model_name": "LayoutModel",
      "state": {}
     },
     "301e2c3479f14752afe7b5980fb9811c": {
      "model_module": "@jupyter-widgets/controls",
      "model_module_version": "1.5.0",
      "model_name": "CheckboxModel",
      "state": {
       "description": "Disable Medicina",
       "disabled": false,
       "layout": "IPY_MODEL_47034783cd14423a92b7c6824ba5aff3",
       "style": "IPY_MODEL_27cab78fdfe5484ebda2e28d2557edeb",
       "value": false
      }
     },
     "302f022a7f2c458c893930d1498804a3": {
      "model_module": "@jupyter-widgets/controls",
      "model_module_version": "1.5.0",
      "model_name": "SliderStyleModel",
      "state": {
       "description_width": ""
      }
     },
     "3058c7b4acdb47f39c7d714a3d7ebe6a": {
      "model_module": "@jupyter-widgets/base",
      "model_module_version": "1.2.0",
      "model_name": "LayoutModel",
      "state": {}
     },
     "305b4ef6451346658566eb35469a5c8e": {
      "model_module": "@jupyter-widgets/controls",
      "model_module_version": "1.5.0",
      "model_name": "ButtonModel",
      "state": {
       "description": "Export Image",
       "layout": "IPY_MODEL_48ad5687aba24273b346aebb5080e60d",
       "style": "IPY_MODEL_a191efe0e14940549a98bd5528a624c9"
      }
     },
     "3074185b1fd14bbe9cd300662dbe57b6": {
      "model_module": "@jupyter-widgets/base",
      "model_module_version": "1.2.0",
      "model_name": "LayoutModel",
      "state": {}
     },
     "309d94829bac4b59b0a9904de7b9a7ac": {
      "model_module": "@jupyter-widgets/controls",
      "model_module_version": "1.5.0",
      "model_name": "DescriptionStyleModel",
      "state": {
       "description_width": ""
      }
     },
     "30a5f1d55d2748febb4032b896141672": {
      "model_module": "@jupyter-widgets/controls",
      "model_module_version": "1.5.0",
      "model_name": "SliderStyleModel",
      "state": {
       "description_width": ""
      }
     },
     "30fef58ca3474cbe8ecc0c6dccbc7803": {
      "model_module": "@jupyter-widgets/controls",
      "model_module_version": "1.5.0",
      "model_name": "ButtonModel",
      "state": {
       "description": "Reset Saturation Controls",
       "layout": "IPY_MODEL_3f24ae1ab98246068baf22ba1d65d6e3",
       "style": "IPY_MODEL_c717884bd25e4f878b3106ad92b7c111"
      }
     },
     "31079aae13654a3595fdff97fd5ae355": {
      "model_module": "@jupyter-widgets/base",
      "model_module_version": "1.2.0",
      "model_name": "LayoutModel",
      "state": {}
     },
     "316dd2f0fc2043a0be086c4418c12234": {
      "model_module": "@jupyter-widgets/controls",
      "model_module_version": "1.5.0",
      "model_name": "HBoxModel",
      "state": {
       "children": [
        "IPY_MODEL_5b542398759f4474974dbfd4ec15ffe1",
        "IPY_MODEL_b9fc3dec1e0241b9b18b7331301ee9d9",
        "IPY_MODEL_73cba0e4ec944633a895b4509e94fe6e"
       ],
       "layout": "IPY_MODEL_8773495dbf154030ae35a6258be5642a"
      }
     },
     "31742180f83543c0b07773dc4e2e02b8": {
      "model_module": "@jupyter-widgets/controls",
      "model_module_version": "1.5.0",
      "model_name": "SliderStyleModel",
      "state": {
       "description_width": ""
      }
     },
     "31805bde09f14131b70e2e690d1d8aad": {
      "model_module": "@jupyter-widgets/base",
      "model_module_version": "1.2.0",
      "model_name": "LayoutModel",
      "state": {}
     },
     "319f2737978d47f2b9c22219f04aefe4": {
      "model_module": "@jupyter-widgets/base",
      "model_module_version": "1.2.0",
      "model_name": "LayoutModel",
      "state": {}
     },
     "31d2c50de2b044b293eb936fa3996573": {
      "model_module": "@jupyter-widgets/controls",
      "model_module_version": "1.5.0",
      "model_name": "FloatSliderModel",
      "state": {
       "description": "315°",
       "layout": "IPY_MODEL_90b0bf9da9f9486c88552104f61cbc31",
       "max": 1,
       "min": -1,
       "step": 0.01,
       "style": "IPY_MODEL_d9bcbb6afee944498848d236e8cc0781"
      }
     },
     "3256d25b096a4b46aa6c3738363ef382": {
      "model_module": "jupyter-matplotlib",
      "model_module_version": "^0.7.2",
      "model_name": "MPLCanvasModel",
      "state": {
       "_figure_label": "Figure 16",
       "_height": 430,
       "_width": 1099,
       "header_visible": false,
       "layout": "IPY_MODEL_fcfab5d54b824717813b0b86b89c2d61",
       "resizable": false,
       "toolbar": "IPY_MODEL_4f9bf6d979894fa2ab6f10f8c38dc2db",
       "toolbar_position": "left",
       "toolbar_visible": false
      }
     },
     "326e2474df4d4e8dabbefca04101a19a": {
      "model_module": "@jupyter-widgets/controls",
      "model_module_version": "1.5.0",
      "model_name": "FloatSliderModel",
      "state": {
       "description": "Protected Area Threshold",
       "layout": "IPY_MODEL_a9758237efae417595bd277311be042b",
       "max": 1,
       "step": 0.01,
       "style": "IPY_MODEL_d979e8a04daa4d18ab57548afee78407",
       "value": 0.7
      }
     },
     "3271e61d2b3a4b4ca5e3ba3ebf643ed8": {
      "model_module": "@jupyter-widgets/controls",
      "model_module_version": "1.5.0",
      "model_name": "SliderStyleModel",
      "state": {
       "description_width": ""
      }
     },
     "32b4ba9a395742e7a4b2e8ea331d8c5f": {
      "model_module": "@jupyter-widgets/controls",
      "model_module_version": "1.5.0",
      "model_name": "HBoxModel",
      "state": {
       "children": [
        "IPY_MODEL_5612c212b6ca4bc19e140ae3830769c3",
        "IPY_MODEL_f8556ebffd91443d8c8d8d54b69d4e7a",
        "IPY_MODEL_07a831f3634240d98a2504c2753d058e",
        "IPY_MODEL_f1df87c8f215417093e52babcfcf0213"
       ],
       "layout": "IPY_MODEL_079daaaa651d43feae68d9f5587f4de9"
      }
     },
     "32dcb99227e543c49d14c0d55b46a453": {
      "model_module": "jupyter-matplotlib",
      "model_module_version": "^0.7.2",
      "model_name": "MPLCanvasModel",
      "state": {
       "_figure_label": "Figure 12",
       "_height": 550,
       "_width": 1100,
       "header_visible": false,
       "layout": "IPY_MODEL_87b86170007047c5baad12dad22fad20",
       "resizable": false,
       "toolbar": "IPY_MODEL_62ff6b209b5c4f7799e923f09fb37ea8",
       "toolbar_position": "left",
       "toolbar_visible": false
      }
     },
     "3300f85cee534ea4951ef0bb8f9f8e50": {
      "model_module": "@jupyter-widgets/base",
      "model_module_version": "1.2.0",
      "model_name": "LayoutModel",
      "state": {
       "align_items": "stretch",
       "display": "flex",
       "flex_flow": "column",
       "width": "1128px"
      }
     },
     "33018253fbe7405a9c62af0b31fbe715": {
      "model_module": "@jupyter-widgets/controls",
      "model_module_version": "1.5.0",
      "model_name": "SliderStyleModel",
      "state": {
       "description_width": ""
      }
     },
     "33356778b22b47129eaa26a4f1e2fb7b": {
      "model_module": "@jupyter-widgets/base",
      "model_module_version": "1.2.0",
      "model_name": "LayoutModel",
      "state": {
       "border": "solid 4px #222",
       "margin": "4px",
       "padding": "0"
      }
     },
     "33d06e7d50ec42978222062380d39665": {
      "model_module": "@jupyter-widgets/controls",
      "model_module_version": "1.5.0",
      "model_name": "DescriptionStyleModel",
      "state": {
       "description_width": ""
      }
     },
     "341dac34041440e99ca7edef9a75a484": {
      "model_module": "@jupyter-widgets/controls",
      "model_module_version": "1.5.0",
      "model_name": "SliderStyleModel",
      "state": {
       "description_width": ""
      }
     },
     "34293e56a7a3404a90f8e93dbe73dbe9": {
      "model_module": "@jupyter-widgets/controls",
      "model_module_version": "1.5.0",
      "model_name": "FloatSliderModel",
      "state": {
       "description": "Exposure",
       "layout": "IPY_MODEL_78fb7cb7b55f40b880ace6e3457e3904",
       "max": 8,
       "min": -8,
       "step": 0.1,
       "style": "IPY_MODEL_d8d6bc0fb8de40e593fad5b760a5590e"
      }
     },
     "343b53788cea4d669b0ace49a58f7bbd": {
      "model_module": "@jupyter-widgets/base",
      "model_module_version": "1.2.0",
      "model_name": "LayoutModel",
      "state": {}
     },
     "34bace2618c948c1a10ea2af102cb316": {
      "model_module": "@jupyter-widgets/controls",
      "model_module_version": "1.5.0",
      "model_name": "SliderStyleModel",
      "state": {
       "description_width": ""
      }
     },
     "34f4b6ffd41844a39fd555a488800549": {
      "model_module": "@jupyter-widgets/controls",
      "model_module_version": "1.5.0",
      "model_name": "FloatSliderModel",
      "state": {
       "description": "180°",
       "layout": "IPY_MODEL_8724b4f276df425ebf1079df35457208",
       "max": 1,
       "min": -1,
       "step": 0.01,
       "style": "IPY_MODEL_f6eb2b477d764be580ca4771b994f605"
      }
     },
     "34fbbebcd45740279e4a4ebc6d3effff": {
      "model_module": "@jupyter-widgets/controls",
      "model_module_version": "1.5.0",
      "model_name": "SliderStyleModel",
      "state": {
       "description_width": ""
      }
     },
     "35073253d095435ab5700c6bc2bc0699": {
      "model_module": "@jupyter-widgets/controls",
      "model_module_version": "1.5.0",
      "model_name": "FloatSliderModel",
      "state": {
       "description": "225°",
       "layout": "IPY_MODEL_7518c7ddd6a44ccaa65254f0adfb86fd",
       "max": 1,
       "min": -1,
       "step": 0.01,
       "style": "IPY_MODEL_1ef93d22bb8b41da91c33fa6c4384e97"
      }
     },
     "352518d8a34c4b3d8cc7deb7f6b22897": {
      "model_module": "@jupyter-widgets/base",
      "model_module_version": "1.2.0",
      "model_name": "LayoutModel",
      "state": {}
     },
     "35633cf379884588bc6fb6d5ef120d46": {
      "model_module": "@jupyter-widgets/controls",
      "model_module_version": "1.5.0",
      "model_name": "TabModel",
      "state": {
       "_titles": {
        "0": "Global Controls"
       },
       "children": [
        "IPY_MODEL_4d3d9bf837d449c193c9252089aca97c"
       ],
       "layout": "IPY_MODEL_466a163034014cb7ab4a3cf2d7c922fb"
      }
     },
     "357d9131def147b38e0066477abe6b90": {
      "model_module": "@jupyter-widgets/controls",
      "model_module_version": "1.5.0",
      "model_name": "ButtonStyleModel",
      "state": {}
     },
     "35e3a92c71b94db78ddf1622c0a056f4": {
      "model_module": "@jupyter-widgets/controls",
      "model_module_version": "1.5.0",
      "model_name": "ButtonModel",
      "state": {
       "description": "Reset Saturation Controls",
       "layout": "IPY_MODEL_3b7243fe496346b3957ae11de5832b39",
       "style": "IPY_MODEL_6987fa8f9e9c42d8bd50dd06b1748a16"
      }
     },
     "3603ffb866854e7ab8cbc890823c77ac": {
      "model_module": "@jupyter-widgets/controls",
      "model_module_version": "1.5.0",
      "model_name": "SliderStyleModel",
      "state": {
       "description_width": ""
      }
     },
     "3640cee662d744aea77aaa0bf6671de5": {
      "model_module": "@jupyter-widgets/controls",
      "model_module_version": "1.5.0",
      "model_name": "SliderStyleModel",
      "state": {
       "description_width": ""
      }
     },
     "365aee3368644e65b4fad05df5ae8a10": {
      "model_module": "@jupyter-widgets/base",
      "model_module_version": "1.2.0",
      "model_name": "LayoutModel",
      "state": {}
     },
     "366d2a08fe254f20b5ac24a8ce2f11bc": {
      "model_module": "@jupyter-widgets/output",
      "model_module_version": "1.0.0",
      "model_name": "OutputModel",
      "state": {
       "layout": "IPY_MODEL_60a2aeda85934cb28358a446d5f0aed1",
       "outputs": [
        {
         "data": {
          "application/vnd.jupyter.widget-view+json": {
           "model_id": "1acb3d5717104f32bec29e9ab8896ed8",
           "version_major": 2,
           "version_minor": 0
          },
          "text/plain": "Canvas(toolbar=Toolbar(toolitems=[('Home', 'Reset original view', 'home', 'home'), ('Back', 'Back to previous …"
         },
         "metadata": {},
         "output_type": "display_data"
        }
       ]
      }
     },
     "3676cee57c3143e38c08b308c9b9ab90": {
      "model_module": "@jupyter-widgets/controls",
      "model_module_version": "1.5.0",
      "model_name": "SliderStyleModel",
      "state": {
       "description_width": ""
      }
     },
     "367936c59de4447fb193702591dfd728": {
      "model_module": "@jupyter-widgets/controls",
      "model_module_version": "1.5.0",
      "model_name": "FloatSliderModel",
      "state": {
       "description": "Exposure",
       "layout": "IPY_MODEL_a3334605ecac4b6e80388218ed09cadd",
       "max": 8,
       "min": -8,
       "step": 0.1,
       "style": "IPY_MODEL_2b739d48b58c4a6aa079f13f1b677e31"
      }
     },
     "36e52e3d9d95485aaca76dfd09f01da0": {
      "model_module": "@jupyter-widgets/base",
      "model_module_version": "1.2.0",
      "model_name": "LayoutModel",
      "state": {}
     },
     "36f5ba4f1e9846af823460ccfdde3710": {
      "model_module": "@jupyter-widgets/controls",
      "model_module_version": "1.5.0",
      "model_name": "SliderStyleModel",
      "state": {
       "description_width": ""
      }
     },
     "3707107658d9424c8de9c44a03e73922": {
      "model_module": "@jupyter-widgets/controls",
      "model_module_version": "1.5.0",
      "model_name": "ButtonStyleModel",
      "state": {}
     },
     "37d352842a074006a539f69acf7ecc01": {
      "model_module": "@jupyter-widgets/controls",
      "model_module_version": "1.5.0",
      "model_name": "ButtonModel",
      "state": {
       "description": "Reset Protected Area",
       "layout": "IPY_MODEL_d893766810a5442e98a73a06d79971bb",
       "style": "IPY_MODEL_c2eff7790d9f4e2f8df26ee9f40dd2a1"
      }
     },
     "37f80f1193ad4266a285dc7f8dcb52e6": {
      "model_module": "@jupyter-widgets/base",
      "model_module_version": "1.2.0",
      "model_name": "LayoutModel",
      "state": {}
     },
     "3842f3459ac343ffbff8ebecb79a6b27": {
      "model_module": "@jupyter-widgets/controls",
      "model_module_version": "1.5.0",
      "model_name": "ButtonStyleModel",
      "state": {}
     },
     "3864ac837601494598fb82cabae0c929": {
      "model_module": "@jupyter-widgets/controls",
      "model_module_version": "1.5.0",
      "model_name": "VBoxModel",
      "state": {
       "children": [
        "IPY_MODEL_eaf66044d8e5449bb46439fe5f026b62",
        "IPY_MODEL_3bec2ee3d3d64c0db1574a7c11585f13"
       ],
       "layout": "IPY_MODEL_ae618e596b224b6f83c228f7f193c441"
      }
     },
     "38729f0428f3436b92e5445a73414d4d": {
      "model_module": "@jupyter-widgets/base",
      "model_module_version": "1.2.0",
      "model_name": "LayoutModel",
      "state": {}
     },
     "38c4868db3d3487c925b0e93139e9ccc": {
      "model_module": "@jupyter-widgets/controls",
      "model_module_version": "1.5.0",
      "model_name": "ButtonModel",
      "state": {
       "description": "Export Image",
       "layout": "IPY_MODEL_4e969db0f7d94f59a521a71100f5bc26",
       "style": "IPY_MODEL_4c4a71857365412eb36a65aa747f8b4c"
      }
     },
     "38f1a92defb94ac88bf0e798f8b162cf": {
      "model_module": "@jupyter-widgets/controls",
      "model_module_version": "1.5.0",
      "model_name": "FloatSliderModel",
      "state": {
       "description": "90°",
       "layout": "IPY_MODEL_0ab39434dd7d459893b8ca5a6f62db17",
       "max": 1,
       "min": -1,
       "step": 0.01,
       "style": "IPY_MODEL_0bea410da73448fd9496107759bf3075"
      }
     },
     "38fb02364f514d0db3374b948b3ae52f": {
      "model_module": "jupyter-matplotlib",
      "model_module_version": "^0.7.2",
      "model_name": "MPLCanvasModel",
      "state": {
       "_figure_label": "Figure 25",
       "_height": 550,
       "_width": 1100,
       "header_visible": false,
       "layout": "IPY_MODEL_d1a419be95ac41c6a473c94865a8b0bd",
       "resizable": false,
       "toolbar": "IPY_MODEL_989735888dbb4894b5206992658f1c3b",
       "toolbar_position": "left",
       "toolbar_visible": false
      }
     },
     "392e815a891341b8bbc0f09bbe7f74ff": {
      "model_module": "@jupyter-widgets/controls",
      "model_module_version": "1.5.0",
      "model_name": "CheckboxModel",
      "state": {
       "description": "Disable Medicina",
       "disabled": false,
       "layout": "IPY_MODEL_adb6d08c02a0493db78c0cd83cb17723",
       "style": "IPY_MODEL_b8718739ecad41e8b685cff44e84b691",
       "value": false
      }
     },
     "393a443c8cce45eea398090f5b0562c5": {
      "model_module": "@jupyter-widgets/base",
      "model_module_version": "1.2.0",
      "model_name": "LayoutModel",
      "state": {}
     },
     "3969c26ed84b45149de82f78cfb3f607": {
      "model_module": "@jupyter-widgets/controls",
      "model_module_version": "1.5.0",
      "model_name": "SliderStyleModel",
      "state": {
       "description_width": ""
      }
     },
     "39fa9653eede43b4a1a86bba62ed9b57": {
      "model_module": "@jupyter-widgets/controls",
      "model_module_version": "1.5.0",
      "model_name": "ButtonModel",
      "state": {
       "description": "Export Image",
       "layout": "IPY_MODEL_352518d8a34c4b3d8cc7deb7f6b22897",
       "style": "IPY_MODEL_eb95d29c21cd42269b93875fd9e298b9"
      }
     },
     "3a9e4c3dfb724b77bd8ab38fef21d0ea": {
      "model_module": "@jupyter-widgets/base",
      "model_module_version": "1.2.0",
      "model_name": "LayoutModel",
      "state": {}
     },
     "3abeaadc06f4446d92f509973b102f1b": {
      "model_module": "@jupyter-widgets/controls",
      "model_module_version": "1.5.0",
      "model_name": "ButtonModel",
      "state": {
       "description": "Reset Saturation Controls",
       "layout": "IPY_MODEL_1c862b251d1e43a38006cf42ff286a90",
       "style": "IPY_MODEL_4713b202c06042998a9bc2d66f2081d1"
      }
     },
     "3ac946764b4c45fcb079a062e5f3422b": {
      "model_module": "@jupyter-widgets/controls",
      "model_module_version": "1.5.0",
      "model_name": "ButtonModel",
      "state": {
       "description": "Reset Hue Controls",
       "layout": "IPY_MODEL_6210e9cb256b4932b1e2d77ea8a45da2",
       "style": "IPY_MODEL_1a348ca9548949eb8c41abf8fef01b7e"
      }
     },
     "3aca818be58e478abfd0e13132c0a065": {
      "model_module": "@jupyter-widgets/controls",
      "model_module_version": "1.5.0",
      "model_name": "HBoxModel",
      "state": {
       "children": [
        "IPY_MODEL_4aea943bbec94a9fbf4fe68d9e43ec0a",
        "IPY_MODEL_e37d4bd701dd4bf48e03a93e6a1a98b3",
        "IPY_MODEL_0abeca1d978c49d39d995d59f550d6e5",
        "IPY_MODEL_b62db3f49b93449484caea35eaffb81c"
       ],
       "layout": "IPY_MODEL_caf19e554104470aafd762626b9742ca"
      }
     },
     "3ad41f7948104cf98fa7ec31b76ffb18": {
      "model_module": "@jupyter-widgets/controls",
      "model_module_version": "1.5.0",
      "model_name": "ButtonModel",
      "state": {
       "description": "Save Figure",
       "layout": "IPY_MODEL_2d4d012637284e83854c81ad5f7e05e8",
       "style": "IPY_MODEL_4aae1fcba13b49bcbb5fbdbc714cedab"
      }
     },
     "3b7243fe496346b3957ae11de5832b39": {
      "model_module": "@jupyter-widgets/base",
      "model_module_version": "1.2.0",
      "model_name": "LayoutModel",
      "state": {}
     },
     "3bb2234428244cdea4546e594f132cd0": {
      "model_module": "@jupyter-widgets/base",
      "model_module_version": "1.2.0",
      "model_name": "LayoutModel",
      "state": {}
     },
     "3bec2ee3d3d64c0db1574a7c11585f13": {
      "model_module": "@jupyter-widgets/controls",
      "model_module_version": "1.5.0",
      "model_name": "FloatSliderModel",
      "state": {
       "description": "315°",
       "layout": "IPY_MODEL_a2bfc3fe36ff4a8e9e9de69d2993083d",
       "max": 1,
       "min": -1,
       "step": 0.01,
       "style": "IPY_MODEL_6ab7aff9a5f543b48988cc2f53dbaf89"
      }
     },
     "3bf78939b9974a37b66a6e413355d37b": {
      "model_module": "@jupyter-widgets/base",
      "model_module_version": "1.2.0",
      "model_name": "LayoutModel",
      "state": {}
     },
     "3c764c1a536c42d5b40cfab2e0b25aea": {
      "model_module": "@jupyter-widgets/base",
      "model_module_version": "1.2.0",
      "model_name": "LayoutModel",
      "state": {}
     },
     "3c89bfb982da4235a4c905406612e97c": {
      "model_module": "@jupyter-widgets/controls",
      "model_module_version": "1.5.0",
      "model_name": "BoxModel",
      "state": {
       "children": [
        "IPY_MODEL_7c3521e0c39d4beb97782e465c5bd07a",
        "IPY_MODEL_cf2041b3311745708befd11b5592f888"
       ],
       "layout": "IPY_MODEL_a76afd6edd264aa4a2adde0b90385ab1"
      }
     },
     "3c9cad04e9d743aca394a7336c828a3f": {
      "model_module": "@jupyter-widgets/controls",
      "model_module_version": "1.5.0",
      "model_name": "VBoxModel",
      "state": {
       "children": [
        "IPY_MODEL_d411051844f8408a9013a15dffb9f286"
       ],
       "layout": "IPY_MODEL_140108a1d3ab464e87fafe1f1ee611ac"
      }
     },
     "3ca197e93f9f4bd797acdbc3634d2646": {
      "model_module": "@jupyter-widgets/base",
      "model_module_version": "1.2.0",
      "model_name": "LayoutModel",
      "state": {}
     },
     "3ca8e699bc4249a8b3080b8c0e78bfa5": {
      "model_module": "jupyter-matplotlib",
      "model_module_version": "^0.7.2",
      "model_name": "ToolbarModel",
      "state": {
       "layout": "IPY_MODEL_251e171afa3140189102dcb500877fbb",
       "toolitems": [
        [
         "Home",
         "Reset original view",
         "home",
         "home"
        ],
        [
         "Back",
         "Back to previous view",
         "arrow-left",
         "back"
        ],
        [
         "Forward",
         "Forward to next view",
         "arrow-right",
         "forward"
        ],
        [
         "Pan",
         "Pan axes with left mouse, zoom with right",
         "arrows",
         "pan"
        ],
        [
         "Zoom",
         "Zoom to rectangle",
         "square-o",
         "zoom"
        ],
        [
         "Download",
         "Download plot",
         "floppy-o",
         "save_figure"
        ]
       ]
      }
     },
     "3cba81ca2fd54f7aa9eea117ec049264": {
      "model_module": "@jupyter-widgets/base",
      "model_module_version": "1.2.0",
      "model_name": "LayoutModel",
      "state": {}
     },
     "3e33838301f54b0a8115bb65bb4ba9b9": {
      "model_module": "@jupyter-widgets/base",
      "model_module_version": "1.2.0",
      "model_name": "LayoutModel",
      "state": {}
     },
     "3e6fab4049ac44e786940189342c9807": {
      "model_module": "@jupyter-widgets/base",
      "model_module_version": "1.2.0",
      "model_name": "LayoutModel",
      "state": {}
     },
     "3e9cbe9872c7413bbafd8f7cea5479ea": {
      "model_module": "@jupyter-widgets/controls",
      "model_module_version": "1.5.0",
      "model_name": "HBoxModel",
      "state": {
       "children": [
        "IPY_MODEL_8093d3a5f6264649aa76d7dc0d520492",
        "IPY_MODEL_41e171c8f745472e9fe51cd0c55e4b2a",
        "IPY_MODEL_b8bd4d7ffba849e1a13d390bd85f3e4b",
        "IPY_MODEL_28c03d8459e34ab6ba78c05b695c28ee"
       ],
       "layout": "IPY_MODEL_0c9fddc82a9343a39729075dee64e925"
      }
     },
     "3eebc1b83bd84b2e9e97b74ca8d57a2f": {
      "model_module": "@jupyter-widgets/controls",
      "model_module_version": "1.5.0",
      "model_name": "ButtonModel",
      "state": {
       "description": "Reset Compression Controls",
       "layout": "IPY_MODEL_00b45e23640d4bbc884215f51402d75b",
       "style": "IPY_MODEL_c5c9485b494e4178b8aa2033adb30ec6"
      }
     },
     "3f24ae1ab98246068baf22ba1d65d6e3": {
      "model_module": "@jupyter-widgets/base",
      "model_module_version": "1.2.0",
      "model_name": "LayoutModel",
      "state": {}
     },
     "3f3aeda76901446caa434334cbb3fed8": {
      "model_module": "@jupyter-widgets/base",
      "model_module_version": "1.2.0",
      "model_name": "LayoutModel",
      "state": {}
     },
     "3f63adf40ba944fdb9a150678a44ef63": {
      "model_module": "@jupyter-widgets/output",
      "model_module_version": "1.0.0",
      "model_name": "OutputModel",
      "state": {
       "layout": "IPY_MODEL_a277de3d38db466fa22c45a66ea8359f",
       "outputs": [
        {
         "data": {
          "application/vnd.jupyter.widget-view+json": {
           "model_id": "f5e1f21538cf4acf9db4885fd158e245",
           "version_major": 2,
           "version_minor": 0
          },
          "text/plain": "Canvas(toolbar=Toolbar(toolitems=[('Home', 'Reset original view', 'home', 'home'), ('Back', 'Back to previous …"
         },
         "metadata": {},
         "output_type": "display_data"
        }
       ]
      }
     },
     "3f74801cd26f40bab2997fc62b354578": {
      "model_module": "@jupyter-widgets/controls",
      "model_module_version": "1.5.0",
      "model_name": "SliderStyleModel",
      "state": {
       "description_width": ""
      }
     },
     "3f9e39459cd1447686142b12949af3e6": {
      "model_module": "@jupyter-widgets/controls",
      "model_module_version": "1.5.0",
      "model_name": "SliderStyleModel",
      "state": {
       "description_width": ""
      }
     },
     "3fe609e4e75c4cdbb409ecc2859f4193": {
      "model_module": "@jupyter-widgets/controls",
      "model_module_version": "1.5.0",
      "model_name": "FloatSliderModel",
      "state": {
       "description": "135°",
       "layout": "IPY_MODEL_14f5c813bad8400e9a1662baba001283",
       "max": 1,
       "min": -1,
       "step": 0.01,
       "style": "IPY_MODEL_95ba7f6d8d8f41c69ac56a32620e9cb6"
      }
     },
     "3ffd9efc07994aeebdb9338f214a1458": {
      "model_module": "@jupyter-widgets/base",
      "model_module_version": "1.2.0",
      "model_name": "LayoutModel",
      "state": {}
     },
     "3ffee2a41027414aa8c48546faa98605": {
      "model_module": "@jupyter-widgets/base",
      "model_module_version": "1.2.0",
      "model_name": "LayoutModel",
      "state": {}
     },
     "4018bc2770674567986dc2b2d1e502b9": {
      "model_module": "@jupyter-widgets/controls",
      "model_module_version": "1.5.0",
      "model_name": "SliderStyleModel",
      "state": {
       "description_width": ""
      }
     },
     "4049747fbf9a44f6b7dbd7a7a671e7ee": {
      "model_module": "@jupyter-widgets/controls",
      "model_module_version": "1.5.0",
      "model_name": "HBoxModel",
      "state": {
       "children": [
        "IPY_MODEL_ad9be48b51404c96aa6dac58586ce08b",
        "IPY_MODEL_a48a555a1e354888ae2732804293db90",
        "IPY_MODEL_f3b0d7bdef79492ca1654688abfa8ce3",
        "IPY_MODEL_45e667009ec641efad045fe9e61d5b18"
       ],
       "layout": "IPY_MODEL_e5e495b57b4b4712849a02d6d26dfb47"
      }
     },
     "405c0fd942904ee2b9cd8632148bc5ba": {
      "model_module": "@jupyter-widgets/base",
      "model_module_version": "1.2.0",
      "model_name": "LayoutModel",
      "state": {}
     },
     "4070cbb729a5442ea67ae82cbdd68f64": {
      "model_module": "@jupyter-widgets/controls",
      "model_module_version": "1.5.0",
      "model_name": "BoxModel",
      "state": {
       "children": [
        "IPY_MODEL_24ea1355a8f140ff9098771c4ad97d89",
        "IPY_MODEL_6bce9799b3aa48d1be86d0a1f86331dd"
       ],
       "layout": "IPY_MODEL_3300f85cee534ea4951ef0bb8f9f8e50"
      }
     },
     "40da2e15b37d4f578c3170c5b5f392e0": {
      "model_module": "@jupyter-widgets/controls",
      "model_module_version": "1.5.0",
      "model_name": "FloatSliderModel",
      "state": {
       "description": "0°",
       "layout": "IPY_MODEL_84fa44c34bf2406bafe795b14750519a",
       "max": 1,
       "min": -1,
       "step": 0.01,
       "style": "IPY_MODEL_073dce1cf1264bbf8db001e46bf35586"
      }
     },
     "40ecb8f744b849218ac0c2454bd5eaa4": {
      "model_module": "@jupyter-widgets/base",
      "model_module_version": "1.2.0",
      "model_name": "LayoutModel",
      "state": {}
     },
     "40f0a1a5cf97491ab0f037c6dac0cb4a": {
      "model_module": "@jupyter-widgets/base",
      "model_module_version": "1.2.0",
      "model_name": "LayoutModel",
      "state": {}
     },
     "40f9540ecbc04afcb2438ccb14655a02": {
      "model_module": "@jupyter-widgets/base",
      "model_module_version": "1.2.0",
      "model_name": "LayoutModel",
      "state": {}
     },
     "4120f3d8d55f4f1bbcbafdd838987b8e": {
      "model_module": "@jupyter-widgets/base",
      "model_module_version": "1.2.0",
      "model_name": "LayoutModel",
      "state": {}
     },
     "41654f6af56b4705aa380514db1c34c2": {
      "model_module": "@jupyter-widgets/base",
      "model_module_version": "1.2.0",
      "model_name": "LayoutModel",
      "state": {}
     },
     "417ed96ffd53471ea876efb0a6bf982e": {
      "model_module": "@jupyter-widgets/base",
      "model_module_version": "1.2.0",
      "model_name": "LayoutModel",
      "state": {}
     },
     "41e171c8f745472e9fe51cd0c55e4b2a": {
      "model_module": "@jupyter-widgets/controls",
      "model_module_version": "1.5.0",
      "model_name": "VBoxModel",
      "state": {
       "children": [
        "IPY_MODEL_073a69ed60e6426f9144d13ce2d43f8d",
        "IPY_MODEL_952fc76154284115a560988967e6ae5f",
        "IPY_MODEL_4ca892b495bf44dda7d68a10804e4b35"
       ],
       "layout": "IPY_MODEL_b082ddc78c1241bda6294bf183b8db6e"
      }
     },
     "423d60d652274beba2b21e4cca669efb": {
      "model_module": "@jupyter-widgets/controls",
      "model_module_version": "1.5.0",
      "model_name": "ButtonStyleModel",
      "state": {}
     },
     "4254a43bd8b641a385708c822aea76cb": {
      "model_module": "@jupyter-widgets/controls",
      "model_module_version": "1.5.0",
      "model_name": "ButtonModel",
      "state": {
       "description": "Export Image",
       "layout": "IPY_MODEL_ced63c5955a64e53bf660501a812d9aa",
       "style": "IPY_MODEL_97e361c1c1e94883b5b5fc20d75db225"
      }
     },
     "42bd6e078849452b927b075c8cf26e53": {
      "model_module": "@jupyter-widgets/controls",
      "model_module_version": "1.5.0",
      "model_name": "ButtonStyleModel",
      "state": {}
     },
     "42e5543539dd4c6ea40572dba772564a": {
      "model_module": "@jupyter-widgets/base",
      "model_module_version": "1.2.0",
      "model_name": "LayoutModel",
      "state": {}
     },
     "42facfdd1bdb48599012108517d40371": {
      "model_module": "@jupyter-widgets/controls",
      "model_module_version": "1.5.0",
      "model_name": "DescriptionStyleModel",
      "state": {
       "description_width": ""
      }
     },
     "43449a1b295f4b0387437de623c0e9b8": {
      "model_module": "@jupyter-widgets/controls",
      "model_module_version": "1.5.0",
      "model_name": "SliderStyleModel",
      "state": {
       "description_width": ""
      }
     },
     "435c3d9372e742088f61709e18d9aba4": {
      "model_module": "@jupyter-widgets/controls",
      "model_module_version": "1.5.0",
      "model_name": "FloatSliderModel",
      "state": {
       "description": "315°",
       "layout": "IPY_MODEL_0dea3323d95f4e8d9014201b7cf84418",
       "max": 1,
       "min": -1,
       "step": 0.01,
       "style": "IPY_MODEL_6ea7efae7cd4414e9191ae27944343d3"
      }
     },
     "43c0640bbfd5479582fd632c18453e2b": {
      "model_module": "@jupyter-widgets/controls",
      "model_module_version": "1.5.0",
      "model_name": "SliderStyleModel",
      "state": {
       "description_width": ""
      }
     },
     "43d77c01ae494090be550698b344d9ba": {
      "model_module": "@jupyter-widgets/base",
      "model_module_version": "1.2.0",
      "model_name": "LayoutModel",
      "state": {}
     },
     "4465f662280a436da528ff5ffa097713": {
      "model_module": "@jupyter-widgets/controls",
      "model_module_version": "1.5.0",
      "model_name": "ButtonModel",
      "state": {
       "description": "Reset Compression Controls",
       "layout": "IPY_MODEL_52c99cbefd9a44f7803426b87f1b5b56",
       "style": "IPY_MODEL_ce6f5fe3dfa44b5aa21e544e66e0e896"
      }
     },
     "448b7bb55aba4212bd6b1982d7816bfe": {
      "model_module": "@jupyter-widgets/base",
      "model_module_version": "1.2.0",
      "model_name": "LayoutModel",
      "state": {}
     },
     "44d6616ef9874bf6a05942d584841644": {
      "model_module": "@jupyter-widgets/controls",
      "model_module_version": "1.5.0",
      "model_name": "ButtonStyleModel",
      "state": {}
     },
     "454fd5ef91034afd8a2a5c6d951aa1b6": {
      "model_module": "@jupyter-widgets/base",
      "model_module_version": "1.2.0",
      "model_name": "LayoutModel",
      "state": {}
     },
     "45570a81f70648db83b50eec1f7252cd": {
      "model_module": "jupyter-matplotlib",
      "model_module_version": "^0.7.2",
      "model_name": "ToolbarModel",
      "state": {
       "layout": "IPY_MODEL_fcde7fdad7484a10b21296a76b9484a2",
       "toolitems": [
        [
         "Home",
         "Reset original view",
         "home",
         "home"
        ],
        [
         "Back",
         "Back to previous view",
         "arrow-left",
         "back"
        ],
        [
         "Forward",
         "Forward to next view",
         "arrow-right",
         "forward"
        ],
        [
         "Pan",
         "Pan axes with left mouse, zoom with right",
         "arrows",
         "pan"
        ],
        [
         "Zoom",
         "Zoom to rectangle",
         "square-o",
         "zoom"
        ],
        [
         "Download",
         "Download plot",
         "floppy-o",
         "save_figure"
        ]
       ]
      }
     },
     "4595b184a8214a0394f8af7b92cbb7ec": {
      "model_module": "@jupyter-widgets/base",
      "model_module_version": "1.2.0",
      "model_name": "LayoutModel",
      "state": {
       "border": "solid 4px #222",
       "margin": "4px",
       "padding": "0"
      }
     },
     "45a6b5b2c2394ec390861e62f0732032": {
      "model_module": "@jupyter-widgets/controls",
      "model_module_version": "1.5.0",
      "model_name": "DescriptionStyleModel",
      "state": {
       "description_width": ""
      }
     },
     "45e667009ec641efad045fe9e61d5b18": {
      "model_module": "@jupyter-widgets/controls",
      "model_module_version": "1.5.0",
      "model_name": "FloatSliderModel",
      "state": {
       "description": "Exposure",
       "layout": "IPY_MODEL_7868447208fd4e199e6193d5c84aa90b",
       "max": 8,
       "min": -8,
       "step": 0.1,
       "style": "IPY_MODEL_b66d5412c6f741419f71e6fea32f8226"
      }
     },
     "45edf8bac0cc4e5296e4afd489400578": {
      "model_module": "@jupyter-widgets/base",
      "model_module_version": "1.2.0",
      "model_name": "LayoutModel",
      "state": {
       "align_items": "stretch",
       "display": "flex",
       "flex_flow": "column",
       "width": "1128px"
      }
     },
     "45f697c84fbe413d9c1328821298248f": {
      "model_module": "jupyter-matplotlib",
      "model_module_version": "^0.7.2",
      "model_name": "MPLCanvasModel",
      "state": {
       "_figure_label": "Figure 18",
       "_height": 396,
       "_width": 1100,
       "header_visible": false,
       "layout": "IPY_MODEL_8b8e6ca9a2094016b2c1a78f6897edb2",
       "resizable": false,
       "toolbar": "IPY_MODEL_6b8bda265c764c2cb3945b0721599f2a",
       "toolbar_position": "left",
       "toolbar_visible": false
      }
     },
     "466a163034014cb7ab4a3cf2d7c922fb": {
      "model_module": "@jupyter-widgets/base",
      "model_module_version": "1.2.0",
      "model_name": "LayoutModel",
      "state": {
       "border": "solid 4px #222",
       "margin": "4px",
       "padding": "0"
      }
     },
     "46ee4c940da04005bc7e35a087e53b56": {
      "model_module": "@jupyter-widgets/base",
      "model_module_version": "1.2.0",
      "model_name": "LayoutModel",
      "state": {}
     },
     "47034783cd14423a92b7c6824ba5aff3": {
      "model_module": "@jupyter-widgets/base",
      "model_module_version": "1.2.0",
      "model_name": "LayoutModel",
      "state": {}
     },
     "4713b202c06042998a9bc2d66f2081d1": {
      "model_module": "@jupyter-widgets/controls",
      "model_module_version": "1.5.0",
      "model_name": "ButtonStyleModel",
      "state": {}
     },
     "4747e050c86d426ab92f7546c8745c44": {
      "model_module": "@jupyter-widgets/base",
      "model_module_version": "1.2.0",
      "model_name": "LayoutModel",
      "state": {}
     },
     "47bc7e9726364b5cb3c1b34542fda8db": {
      "model_module": "@jupyter-widgets/controls",
      "model_module_version": "1.5.0",
      "model_name": "HBoxModel",
      "state": {
       "children": [
        "IPY_MODEL_afa23cac3b1b43cea17d121a0078c787",
        "IPY_MODEL_a8fbc6f079a146b18503d984b10187b4",
        "IPY_MODEL_560f6cba30ab40bf98d80257740dccc0",
        "IPY_MODEL_812e19adf51e454199734ee6f5323c25"
       ],
       "layout": "IPY_MODEL_a70f8fbaf54645b98adaf2e147fac2af"
      }
     },
     "47dea39afc16462ebddf36a4f57288bd": {
      "model_module": "@jupyter-widgets/controls",
      "model_module_version": "1.5.0",
      "model_name": "SliderStyleModel",
      "state": {
       "description_width": ""
      }
     },
     "481830365dfb4519a804d38932e8afbd": {
      "model_module": "@jupyter-widgets/controls",
      "model_module_version": "1.5.0",
      "model_name": "ButtonStyleModel",
      "state": {}
     },
     "4880383fa4b94b2baf89457118d8f5c4": {
      "model_module": "@jupyter-widgets/base",
      "model_module_version": "1.2.0",
      "model_name": "LayoutModel",
      "state": {}
     },
     "48ad5687aba24273b346aebb5080e60d": {
      "model_module": "@jupyter-widgets/base",
      "model_module_version": "1.2.0",
      "model_name": "LayoutModel",
      "state": {}
     },
     "490f81b3d40b41268abb1f0fa908b985": {
      "model_module": "@jupyter-widgets/controls",
      "model_module_version": "1.5.0",
      "model_name": "ButtonStyleModel",
      "state": {}
     },
     "4911ec25dcdb484a805afc74473c3375": {
      "model_module": "@jupyter-widgets/controls",
      "model_module_version": "1.5.0",
      "model_name": "FloatSliderModel",
      "state": {
       "description": "45°",
       "layout": "IPY_MODEL_7a264db5a79943c79012f4dd111250da",
       "max": 1,
       "min": -1,
       "step": 0.01,
       "style": "IPY_MODEL_a0824058db45482e93b0fe3fffd2fe8d"
      }
     },
     "491867295f45412b9e38214070a235df": {
      "model_module": "@jupyter-widgets/controls",
      "model_module_version": "1.5.0",
      "model_name": "ButtonModel",
      "state": {
       "description": "Reset Saturation Controls",
       "layout": "IPY_MODEL_190a6cdb3f514936ba2663a5ef3238e2",
       "style": "IPY_MODEL_2cae9c103fc3428db2cf7772d239b0b8"
      }
     },
     "4945553f4e22487e8805b331addb0cf7": {
      "model_module": "@jupyter-widgets/controls",
      "model_module_version": "1.5.0",
      "model_name": "CheckboxModel",
      "state": {
       "description": "Disable Medicina",
       "disabled": false,
       "layout": "IPY_MODEL_454fd5ef91034afd8a2a5c6d951aa1b6",
       "style": "IPY_MODEL_cde5c25178494c2aaa6347ec3355aa02",
       "value": false
      }
     },
     "499ee9c29d2941d9bf4d68d3bba759c3": {
      "model_module": "@jupyter-widgets/base",
      "model_module_version": "1.2.0",
      "model_name": "LayoutModel",
      "state": {}
     },
     "49a14c6841e4446c9ed00c1bcd510cd7": {
      "model_module": "@jupyter-widgets/base",
      "model_module_version": "1.2.0",
      "model_name": "LayoutModel",
      "state": {}
     },
     "49ed238c1c3647359c0287227f3923bc": {
      "model_module": "@jupyter-widgets/base",
      "model_module_version": "1.2.0",
      "model_name": "LayoutModel",
      "state": {}
     },
     "49f34ecf7db94b51b8d2e1c5946254d1": {
      "model_module": "@jupyter-widgets/base",
      "model_module_version": "1.2.0",
      "model_name": "LayoutModel",
      "state": {}
     },
     "4a121970c4444c1cb0ea324ac849a0d0": {
      "model_module": "@jupyter-widgets/controls",
      "model_module_version": "1.5.0",
      "model_name": "TabModel",
      "state": {
       "_titles": {
        "0": "Global Controls",
        "1": "Compression Controls"
       },
       "children": [
        "IPY_MODEL_09291033138648e0b261ae54d56ff3d9",
        "IPY_MODEL_6f0f2aa888764f7abe103e351ded7b8f"
       ],
       "layout": "IPY_MODEL_9d2320b135df455dbab75198a1845593"
      }
     },
     "4a4d7047ad5541859a86734da5796769": {
      "model_module": "@jupyter-widgets/base",
      "model_module_version": "1.2.0",
      "model_name": "LayoutModel",
      "state": {}
     },
     "4a6e1ba7766145c6821a3e9e3f96eaf5": {
      "model_module": "@jupyter-widgets/base",
      "model_module_version": "1.2.0",
      "model_name": "LayoutModel",
      "state": {}
     },
     "4a76c066270844039b99e0489036873a": {
      "model_module": "@jupyter-widgets/controls",
      "model_module_version": "1.5.0",
      "model_name": "FloatSliderModel",
      "state": {
       "description": "270°",
       "layout": "IPY_MODEL_b5f3f88a1f124d5296ad919acde39605",
       "max": 1,
       "min": -1,
       "step": 0.01,
       "style": "IPY_MODEL_3271e61d2b3a4b4ca5e3ba3ebf643ed8"
      }
     },
     "4aae1fcba13b49bcbb5fbdbc714cedab": {
      "model_module": "@jupyter-widgets/controls",
      "model_module_version": "1.5.0",
      "model_name": "ButtonStyleModel",
      "state": {}
     },
     "4ad958eb97684efda7a0d286f1e9c956": {
      "model_module": "@jupyter-widgets/base",
      "model_module_version": "1.2.0",
      "model_name": "LayoutModel",
      "state": {}
     },
     "4ad96d81fafa4631b0aaf0c5c9855837": {
      "model_module": "@jupyter-widgets/controls",
      "model_module_version": "1.5.0",
      "model_name": "TabModel",
      "state": {
       "_titles": {
        "0": "Global Controls"
       },
       "children": [
        "IPY_MODEL_8fe353d009024b37b3317aa8b863be76"
       ],
       "layout": "IPY_MODEL_2b91e3f4723c42bcbdd3608494913958"
      }
     },
     "4aea943bbec94a9fbf4fe68d9e43ec0a": {
      "model_module": "@jupyter-widgets/controls",
      "model_module_version": "1.5.0",
      "model_name": "VBoxModel",
      "state": {
       "children": [
        "IPY_MODEL_95e89ae717ef404b9d02c4ef6939f457"
       ],
       "layout": "IPY_MODEL_be3bf04dee9b43268270c4abbfc8a50c"
      }
     },
     "4b08febd71b8494cbfe978fe9fc9ef44": {
      "model_module": "@jupyter-widgets/controls",
      "model_module_version": "1.5.0",
      "model_name": "FloatSliderModel",
      "state": {
       "description": "135°",
       "layout": "IPY_MODEL_2f56aa5c3b8a4099960ce701b7844570",
       "max": 1,
       "min": -1,
       "step": 0.01,
       "style": "IPY_MODEL_22f33dd9bb17459d9f45224cc150e15e"
      }
     },
     "4b702b5979854ab099a7e5473e0dbf1e": {
      "model_module": "@jupyter-widgets/base",
      "model_module_version": "1.2.0",
      "model_name": "LayoutModel",
      "state": {}
     },
     "4b75f75d8cd94bb2975ab3ae48107bee": {
      "model_module": "@jupyter-widgets/controls",
      "model_module_version": "1.5.0",
      "model_name": "FloatSliderModel",
      "state": {
       "description": "Exposure",
       "layout": "IPY_MODEL_764c630da44c4fbea88e87969da78b5f",
       "max": 8,
       "min": -8,
       "step": 0.1,
       "style": "IPY_MODEL_7f0253b185d04784b90da0fc04d1418f"
      }
     },
     "4ba83fd727364b68b8775e61d2ffacad": {
      "model_module": "@jupyter-widgets/base",
      "model_module_version": "1.2.0",
      "model_name": "LayoutModel",
      "state": {}
     },
     "4c005f3c45e64049b999cc58e7f73e37": {
      "model_module": "@jupyter-widgets/base",
      "model_module_version": "1.2.0",
      "model_name": "LayoutModel",
      "state": {}
     },
     "4c4a71857365412eb36a65aa747f8b4c": {
      "model_module": "@jupyter-widgets/controls",
      "model_module_version": "1.5.0",
      "model_name": "ButtonStyleModel",
      "state": {}
     },
     "4c68d5af32074a0986245688b69b2425": {
      "model_module": "@jupyter-widgets/controls",
      "model_module_version": "1.5.0",
      "model_name": "HBoxModel",
      "state": {
       "children": [
        "IPY_MODEL_d7c3e94613294e42b38609a8ce4d3144",
        "IPY_MODEL_6f70f64129b64fd98eb9e22dfcf7bde0",
        "IPY_MODEL_9f8835d6cc4b4ab2b30b8c29d1258b59"
       ],
       "layout": "IPY_MODEL_613cb576d4fc46c0858fa7d42d7d20c3"
      }
     },
     "4c71b6201bc54f08864a6df94346b5e6": {
      "model_module": "@jupyter-widgets/base",
      "model_module_version": "1.2.0",
      "model_name": "LayoutModel",
      "state": {}
     },
     "4ca892b495bf44dda7d68a10804e4b35": {
      "model_module": "@jupyter-widgets/controls",
      "model_module_version": "1.5.0",
      "model_name": "FloatSliderModel",
      "state": {
       "description": "90°",
       "layout": "IPY_MODEL_2ca7767746104c9fa1b305042ff5f08d",
       "max": 1,
       "min": -1,
       "step": 0.01,
       "style": "IPY_MODEL_34fbbebcd45740279e4a4ebc6d3effff"
      }
     },
     "4d05b8018dbe4c9187aefab71301c72a": {
      "model_module": "@jupyter-widgets/base",
      "model_module_version": "1.2.0",
      "model_name": "LayoutModel",
      "state": {}
     },
     "4d3d9bf837d449c193c9252089aca97c": {
      "model_module": "@jupyter-widgets/controls",
      "model_module_version": "1.5.0",
      "model_name": "HBoxModel",
      "state": {
       "children": [
        "IPY_MODEL_6144e9935262477292a3597192546a59",
        "IPY_MODEL_38c4868db3d3487c925b0e93139e9ccc",
        "IPY_MODEL_e8962cc2cfac49eb93269a14685baacd",
        "IPY_MODEL_34293e56a7a3404a90f8e93dbe73dbe9"
       ],
       "layout": "IPY_MODEL_5f812c5be5054144884b685739f1ba08"
      }
     },
     "4d462a2d15134f0f8324ae9f3d3c8800": {
      "model_module": "@jupyter-widgets/controls",
      "model_module_version": "1.5.0",
      "model_name": "ButtonModel",
      "state": {
       "description": "Reset Protected Area",
       "layout": "IPY_MODEL_2ce15cb6c8e347eaa210142a05da22ea",
       "style": "IPY_MODEL_808b8c4ccb1a4697b33b547bca50f738"
      }
     },
     "4d8b612276474fe1ad96c6351a527cfe": {
      "model_module": "@jupyter-widgets/controls",
      "model_module_version": "1.5.0",
      "model_name": "VBoxModel",
      "state": {
       "children": [
        "IPY_MODEL_cd249a8334144998b6e2a0d104571054",
        "IPY_MODEL_1153b19ce8c0481487584e0ab59a4b68",
        "IPY_MODEL_d9a9baa45a4e49a7a5612b763bbe646e"
       ],
       "layout": "IPY_MODEL_d637ff0d9e4e4e199ba4183441180679"
      }
     },
     "4db7c69131ff4a6b996565ae898fcbdf": {
      "model_module": "@jupyter-widgets/controls",
      "model_module_version": "1.5.0",
      "model_name": "ButtonStyleModel",
      "state": {}
     },
     "4e01d157c8ce46ef9db943cb588c2364": {
      "model_module": "@jupyter-widgets/controls",
      "model_module_version": "1.5.0",
      "model_name": "BoxModel",
      "state": {
       "children": [
        "IPY_MODEL_c468cb23854647ce8ae2d56fe5706572",
        "IPY_MODEL_4ad96d81fafa4631b0aaf0c5c9855837"
       ],
       "layout": "IPY_MODEL_5f17fac6bbde449d8101d1ba287ccaea"
      }
     },
     "4e50932f5789441f9b0074cef6dce177": {
      "model_module": "@jupyter-widgets/controls",
      "model_module_version": "1.5.0",
      "model_name": "ButtonStyleModel",
      "state": {}
     },
     "4e67c142b0514503aab99a812fd63a63": {
      "model_module": "@jupyter-widgets/base",
      "model_module_version": "1.2.0",
      "model_name": "LayoutModel",
      "state": {}
     },
     "4e6df9dfb91845ff8a8c0e2516f06cae": {
      "model_module": "@jupyter-widgets/controls",
      "model_module_version": "1.5.0",
      "model_name": "VBoxModel",
      "state": {
       "children": [
        "IPY_MODEL_bf6c7089ecd541b6b8b4d607b271a8f6",
        "IPY_MODEL_66979bb413a04394ac7841b9e90779a9"
       ],
       "layout": "IPY_MODEL_92bd96d3d3784b34bdf61817bb3994c3"
      }
     },
     "4e969db0f7d94f59a521a71100f5bc26": {
      "model_module": "@jupyter-widgets/base",
      "model_module_version": "1.2.0",
      "model_name": "LayoutModel",
      "state": {}
     },
     "4ef4c47f3f5b4ba99df0033db58f03d1": {
      "model_module": "@jupyter-widgets/controls",
      "model_module_version": "1.5.0",
      "model_name": "SliderStyleModel",
      "state": {
       "description_width": ""
      }
     },
     "4eff58bd51b547aeac75303925e9c0ca": {
      "model_module": "@jupyter-widgets/base",
      "model_module_version": "1.2.0",
      "model_name": "LayoutModel",
      "state": {}
     },
     "4f0771f944d3409c899add392cc10014": {
      "model_module": "@jupyter-widgets/base",
      "model_module_version": "1.2.0",
      "model_name": "LayoutModel",
      "state": {}
     },
     "4f1088ee45334744a74080cccb10f552": {
      "model_module": "@jupyter-widgets/controls",
      "model_module_version": "1.5.0",
      "model_name": "HBoxModel",
      "state": {
       "children": [
        "IPY_MODEL_57a70937e5294e42a9c490b91119eb4f",
        "IPY_MODEL_305b4ef6451346658566eb35469a5c8e",
        "IPY_MODEL_a440aa19992242349e7e41c920433c63",
        "IPY_MODEL_5187232adc954872be74937cefe0421f"
       ],
       "layout": "IPY_MODEL_f27c3779fbbe43aab279533694953d5c"
      }
     },
     "4f8208c3a2fb4de3b47a292d9a9b8f33": {
      "model_module": "@jupyter-widgets/base",
      "model_module_version": "1.2.0",
      "model_name": "LayoutModel",
      "state": {}
     },
     "4f9bf6d979894fa2ab6f10f8c38dc2db": {
      "model_module": "jupyter-matplotlib",
      "model_module_version": "^0.7.2",
      "model_name": "ToolbarModel",
      "state": {
       "layout": "IPY_MODEL_42e5543539dd4c6ea40572dba772564a",
       "toolitems": [
        [
         "Home",
         "Reset original view",
         "home",
         "home"
        ],
        [
         "Back",
         "Back to previous view",
         "arrow-left",
         "back"
        ],
        [
         "Forward",
         "Forward to next view",
         "arrow-right",
         "forward"
        ],
        [
         "Pan",
         "Pan axes with left mouse, zoom with right",
         "arrows",
         "pan"
        ],
        [
         "Zoom",
         "Zoom to rectangle",
         "square-o",
         "zoom"
        ],
        [
         "Download",
         "Download plot",
         "floppy-o",
         "save_figure"
        ]
       ]
      }
     },
     "5012103dea974724bdd7d580c5d0d594": {
      "model_module": "@jupyter-widgets/controls",
      "model_module_version": "1.5.0",
      "model_name": "ButtonModel",
      "state": {
       "description": "Save Figure",
       "layout": "IPY_MODEL_0190850eacb2440a917d9af1f09eae21",
       "style": "IPY_MODEL_b9975777a8254c22bfc8668ca99cf225"
      }
     },
     "501a3d8ae56f4352824ed9748ebb52a8": {
      "model_module": "@jupyter-widgets/base",
      "model_module_version": "1.2.0",
      "model_name": "LayoutModel",
      "state": {}
     },
     "5045c6e91a3b4b209ba2832d12e9a1e1": {
      "model_module": "@jupyter-widgets/controls",
      "model_module_version": "1.5.0",
      "model_name": "FloatSliderModel",
      "state": {
       "description": "Compression Threshold",
       "layout": "IPY_MODEL_75885ad822124f61811596c13ee73a66",
       "max": 1,
       "step": 0.01,
       "style": "IPY_MODEL_711c177a93844a769ae91429e94faf24",
       "value": 0.8
      }
     },
     "504d0af21e6242358218fe87ae12a9c6": {
      "model_module": "@jupyter-widgets/controls",
      "model_module_version": "1.5.0",
      "model_name": "SliderStyleModel",
      "state": {
       "description_width": ""
      }
     },
     "50522827599a40e89405c84972d5a341": {
      "model_module": "@jupyter-widgets/controls",
      "model_module_version": "1.5.0",
      "model_name": "SliderStyleModel",
      "state": {
       "description_width": ""
      }
     },
     "50b3ca17b5ff473984ef9ef5ebc84b79": {
      "model_module": "@jupyter-widgets/base",
      "model_module_version": "1.2.0",
      "model_name": "LayoutModel",
      "state": {
       "border": "solid 4px #222",
       "margin": "4px",
       "padding": "0"
      }
     },
     "50c25d63f38141c09eac42e4ca4d81eb": {
      "model_module": "@jupyter-widgets/base",
      "model_module_version": "1.2.0",
      "model_name": "LayoutModel",
      "state": {}
     },
     "50c70748103a4bdaa57be77dfe83e4d6": {
      "model_module": "@jupyter-widgets/controls",
      "model_module_version": "1.5.0",
      "model_name": "DescriptionStyleModel",
      "state": {
       "description_width": ""
      }
     },
     "514a0babc48c40079dc080bdaf9f9ff6": {
      "model_module": "@jupyter-widgets/controls",
      "model_module_version": "1.5.0",
      "model_name": "TabModel",
      "state": {
       "_titles": {
        "0": "Global Controls",
        "1": "Protected Area Controls",
        "2": "Saturation Controls",
        "3": "Hue Controls"
       },
       "children": [
        "IPY_MODEL_78e8096f7ef143ca9d539f27afc313d0",
        "IPY_MODEL_8cebf6e2c97042239098dd72cff65f57",
        "IPY_MODEL_0ed17ac1476345859d4a267704aad3d4",
        "IPY_MODEL_5773466e75e643f5861e0f663c92d44c"
       ],
       "layout": "IPY_MODEL_a61e407c74ff43d78ffc6749087b93e7"
      }
     },
     "5187232adc954872be74937cefe0421f": {
      "model_module": "@jupyter-widgets/controls",
      "model_module_version": "1.5.0",
      "model_name": "FloatSliderModel",
      "state": {
       "description": "Exposure",
       "layout": "IPY_MODEL_5ad596e56e9b455882827937b2599bca",
       "max": 8,
       "min": -8,
       "step": 0.1,
       "style": "IPY_MODEL_0ad080a8d9df40c08df646696c9dfd21"
      }
     },
     "525e986dd75140dbb53d03336c9697d1": {
      "model_module": "jupyter-matplotlib",
      "model_module_version": "^0.7.2",
      "model_name": "ToolbarModel",
      "state": {
       "layout": "IPY_MODEL_b4fd218992db40938c8ef337cbfc5a1d",
       "toolitems": [
        [
         "Home",
         "Reset original view",
         "home",
         "home"
        ],
        [
         "Back",
         "Back to previous view",
         "arrow-left",
         "back"
        ],
        [
         "Forward",
         "Forward to next view",
         "arrow-right",
         "forward"
        ],
        [
         "Pan",
         "Pan axes with left mouse, zoom with right",
         "arrows",
         "pan"
        ],
        [
         "Zoom",
         "Zoom to rectangle",
         "square-o",
         "zoom"
        ],
        [
         "Download",
         "Download plot",
         "floppy-o",
         "save_figure"
        ]
       ]
      }
     },
     "528771528b6741b3b2afcf5c10e20365": {
      "model_module": "@jupyter-widgets/controls",
      "model_module_version": "1.5.0",
      "model_name": "HBoxModel",
      "state": {
       "children": [
        "IPY_MODEL_04efe33d0cdc4c3d81466320b7ca011c",
        "IPY_MODEL_2b97ee95af504d009d24f092931b7c20",
        "IPY_MODEL_3ad41f7948104cf98fa7ec31b76ffb18",
        "IPY_MODEL_ec0ad40793f54104ab21f4a4970e40bd"
       ],
       "layout": "IPY_MODEL_b4846eda99094808ac979bea9363332e"
      }
     },
     "5288f71138e8437e93c2852f03b82f57": {
      "model_module": "@jupyter-widgets/controls",
      "model_module_version": "1.5.0",
      "model_name": "FloatSliderModel",
      "state": {
       "description": "315°",
       "layout": "IPY_MODEL_365aee3368644e65b4fad05df5ae8a10",
       "max": 1,
       "min": -1,
       "step": 0.01,
       "style": "IPY_MODEL_a6ec20695f5741b0b805940c2564f2f5"
      }
     },
     "52c99cbefd9a44f7803426b87f1b5b56": {
      "model_module": "@jupyter-widgets/base",
      "model_module_version": "1.2.0",
      "model_name": "LayoutModel",
      "state": {}
     },
     "52ca26b012624c88a582fae840f1e8c5": {
      "model_module": "@jupyter-widgets/base",
      "model_module_version": "1.2.0",
      "model_name": "LayoutModel",
      "state": {}
     },
     "52f9c9359c634105afda696b464f2c75": {
      "model_module": "@jupyter-widgets/base",
      "model_module_version": "1.2.0",
      "model_name": "LayoutModel",
      "state": {}
     },
     "53514b9821b948518345c78ba2747fe6": {
      "model_module": "@jupyter-widgets/controls",
      "model_module_version": "1.5.0",
      "model_name": "ButtonModel",
      "state": {
       "description": "Save Figure",
       "layout": "IPY_MODEL_20e9abe6daa4455fa20871523ebdc5f3",
       "style": "IPY_MODEL_68355ab5668f4ec5b5620c21110f9c6a"
      }
     },
     "539ecc9aea2349519d99d70668ea8088": {
      "model_module": "@jupyter-widgets/base",
      "model_module_version": "1.2.0",
      "model_name": "LayoutModel",
      "state": {}
     },
     "5417aa0f139249749318bb78cf1ca316": {
      "model_module": "@jupyter-widgets/base",
      "model_module_version": "1.2.0",
      "model_name": "LayoutModel",
      "state": {}
     },
     "542a3ac546f94006886fc22520edc7ee": {
      "model_module": "@jupyter-widgets/controls",
      "model_module_version": "1.5.0",
      "model_name": "ButtonStyleModel",
      "state": {}
     },
     "54d179777eee43e397482683bf539156": {
      "model_module": "@jupyter-widgets/base",
      "model_module_version": "1.2.0",
      "model_name": "LayoutModel",
      "state": {}
     },
     "550f90a0e9f145b58f775a05abfa0637": {
      "model_module": "@jupyter-widgets/controls",
      "model_module_version": "1.5.0",
      "model_name": "ButtonModel",
      "state": {
       "description": "Export Image",
       "layout": "IPY_MODEL_dd662fe83ed147829e5608da948bef2c",
       "style": "IPY_MODEL_a898dedaaad7464ab2f2947d3b2903c2"
      }
     },
     "551dd69a64e2455d8480876835402b9c": {
      "model_module": "@jupyter-widgets/output",
      "model_module_version": "1.0.0",
      "model_name": "OutputModel",
      "state": {
       "layout": "IPY_MODEL_ffba54db546b47a196d7386370bbd548",
       "outputs": [
        {
         "data": {
          "application/vnd.jupyter.widget-view+json": {
           "model_id": "45f697c84fbe413d9c1328821298248f",
           "version_major": 2,
           "version_minor": 0
          },
          "text/plain": "Canvas(toolbar=Toolbar(toolitems=[('Home', 'Reset original view', 'home', 'home'), ('Back', 'Back to previous …"
         },
         "metadata": {},
         "output_type": "display_data"
        }
       ]
      }
     },
     "5527519e580a433a91c990439bdb66b3": {
      "model_module": "@jupyter-widgets/base",
      "model_module_version": "1.2.0",
      "model_name": "LayoutModel",
      "state": {}
     },
     "55ab5fc996ca49a69f003dc3151ae8ae": {
      "model_module": "@jupyter-widgets/controls",
      "model_module_version": "1.5.0",
      "model_name": "SliderStyleModel",
      "state": {
       "description_width": ""
      }
     },
     "55ba3074a0454bee97507d525e214ae0": {
      "model_module": "@jupyter-widgets/base",
      "model_module_version": "1.2.0",
      "model_name": "LayoutModel",
      "state": {}
     },
     "560f6cba30ab40bf98d80257740dccc0": {
      "model_module": "@jupyter-widgets/controls",
      "model_module_version": "1.5.0",
      "model_name": "VBoxModel",
      "state": {
       "children": [
        "IPY_MODEL_6b66de40e5234b6f9a9fecfc42ad3069",
        "IPY_MODEL_9f67f4c641ab49bc9027832fc6c3fe58",
        "IPY_MODEL_af2fd3cdd57547279871682d3b76be4a"
       ],
       "layout": "IPY_MODEL_5b87c7b6e9ee46fd842e9e8b267b0ddb"
      }
     },
     "5612c212b6ca4bc19e140ae3830769c3": {
      "model_module": "@jupyter-widgets/controls",
      "model_module_version": "1.5.0",
      "model_name": "VBoxModel",
      "state": {
       "children": [
        "IPY_MODEL_3ac946764b4c45fcb079a062e5f3422b"
       ],
       "layout": "IPY_MODEL_9561e992f12748bba3bd54b48ca176ac"
      }
     },
     "562700218653430ea2d3abe91844bd40": {
      "model_module": "@jupyter-widgets/controls",
      "model_module_version": "1.5.0",
      "model_name": "DropdownModel",
      "state": {
       "_options_labels": [
        "tanh",
        "atan",
        "simple"
       ],
       "description": "Compression Function:",
       "index": 0,
       "layout": "IPY_MODEL_a7e0a806b76047268ea7f80436ab9b35",
       "style": "IPY_MODEL_45a6b5b2c2394ec390861e62f0732032"
      }
     },
     "563e23b72d3f4835a496b0e715ec51aa": {
      "model_module": "@jupyter-widgets/controls",
      "model_module_version": "1.5.0",
      "model_name": "ButtonStyleModel",
      "state": {}
     },
     "566fdb897edc4af9b82b9a5f20a070d8": {
      "model_module": "@jupyter-widgets/base",
      "model_module_version": "1.2.0",
      "model_name": "LayoutModel",
      "state": {}
     },
     "56b0df29878148808d438c3c6be33b7c": {
      "model_module": "@jupyter-widgets/controls",
      "model_module_version": "1.5.0",
      "model_name": "FloatSliderModel",
      "state": {
       "description": "45°",
       "layout": "IPY_MODEL_b46885f0900e485cb3100a7f5e03df6f",
       "max": 1,
       "min": -1,
       "step": 0.01,
       "style": "IPY_MODEL_136ef4dc8aa349e2afa446e0bbdd3069"
      }
     },
     "56b5e821db064c10a92574dd2f792057": {
      "model_module": "@jupyter-widgets/controls",
      "model_module_version": "1.5.0",
      "model_name": "HBoxModel",
      "state": {
       "children": [
        "IPY_MODEL_fa44a5f61bb9402a8c96b7e212055db9",
        "IPY_MODEL_2abb9cb2eed84fbbb94562c804d6e078",
        "IPY_MODEL_edc12283f824434db6d8c0b5ad52857c",
        "IPY_MODEL_0de98494a3b0420caabffa938db40f52"
       ],
       "layout": "IPY_MODEL_cff9d8f14fb94e05890864474810a08a"
      }
     },
     "571d65c0a9da4af2b1c38a937c61701c": {
      "model_module": "@jupyter-widgets/controls",
      "model_module_version": "1.5.0",
      "model_name": "ButtonStyleModel",
      "state": {}
     },
     "5750c3463ea04a1aa0ce5df2ec41bafd": {
      "model_module": "@jupyter-widgets/base",
      "model_module_version": "1.2.0",
      "model_name": "LayoutModel",
      "state": {}
     },
     "5773466e75e643f5861e0f663c92d44c": {
      "model_module": "@jupyter-widgets/controls",
      "model_module_version": "1.5.0",
      "model_name": "HBoxModel",
      "state": {
       "children": [
        "IPY_MODEL_24f08b97b42246808582caaa0cecebd4",
        "IPY_MODEL_a22b92fd55a0437a9b9fd5c03ac7c471",
        "IPY_MODEL_ba5bb874151645158a9e6c3fce621e41",
        "IPY_MODEL_4e6df9dfb91845ff8a8c0e2516f06cae"
       ],
       "layout": "IPY_MODEL_448b7bb55aba4212bd6b1982d7816bfe"
      }
     },
     "5787b4af5a364e58ab3ef67835221a2a": {
      "model_module": "@jupyter-widgets/controls",
      "model_module_version": "1.5.0",
      "model_name": "ButtonModel",
      "state": {
       "description": "Reset Protected Area",
       "layout": "IPY_MODEL_9de725093e8e489fbf18f7c47f7ed67b",
       "style": "IPY_MODEL_fd7b764b35fd4a49a87e454f45e5ebc6"
      }
     },
     "57a70937e5294e42a9c490b91119eb4f": {
      "model_module": "@jupyter-widgets/controls",
      "model_module_version": "1.5.0",
      "model_name": "CheckboxModel",
      "state": {
       "description": "Disable Medicina",
       "disabled": false,
       "layout": "IPY_MODEL_dabf3faaf70c45d09bac6a82458e9d18",
       "style": "IPY_MODEL_152e563475744011ae533fb4a052ac83",
       "value": false
      }
     },
     "57af17ad6c16460daeb23dc5549e8253": {
      "model_module": "@jupyter-widgets/controls",
      "model_module_version": "1.5.0",
      "model_name": "DescriptionStyleModel",
      "state": {
       "description_width": ""
      }
     },
     "57b3bd2e3fb74165891887af1a8bccdb": {
      "model_module": "@jupyter-widgets/controls",
      "model_module_version": "1.5.0",
      "model_name": "ButtonStyleModel",
      "state": {}
     },
     "57e91a76c03547e183ac45e5d77613d2": {
      "model_module": "@jupyter-widgets/base",
      "model_module_version": "1.2.0",
      "model_name": "LayoutModel",
      "state": {}
     },
     "5817b7e4c7794fb9ae84be2577ae40cd": {
      "model_module": "jupyter-matplotlib",
      "model_module_version": "^0.7.2",
      "model_name": "MPLCanvasModel",
      "state": {
       "_figure_label": "Figure 24",
       "_height": 550,
       "_width": 1100,
       "header_visible": false,
       "layout": "IPY_MODEL_7ab616c6291b41a6ab59512335425d83",
       "resizable": false,
       "toolbar": "IPY_MODEL_45570a81f70648db83b50eec1f7252cd",
       "toolbar_position": "left",
       "toolbar_visible": false
      }
     },
     "584db1f03ab343999fe16f733770f55a": {
      "model_module": "@jupyter-widgets/base",
      "model_module_version": "1.2.0",
      "model_name": "LayoutModel",
      "state": {}
     },
     "5853dfccf3ef45feb6e00c13bbbfc3fd": {
      "model_module": "@jupyter-widgets/base",
      "model_module_version": "1.2.0",
      "model_name": "LayoutModel",
      "state": {}
     },
     "5866d136434c4a03ac3037547eb0bc7d": {
      "model_module": "@jupyter-widgets/base",
      "model_module_version": "1.2.0",
      "model_name": "LayoutModel",
      "state": {}
     },
     "586d36363c6b4216881b12a16192887e": {
      "model_module": "@jupyter-widgets/controls",
      "model_module_version": "1.5.0",
      "model_name": "HBoxModel",
      "state": {
       "children": [
        "IPY_MODEL_c1d8e12cab194bb796dc09fc8cfb72a7",
        "IPY_MODEL_011adf402e5844a093a13ce43be505ff",
        "IPY_MODEL_1b0baadf570445ada6e0681d0f992967",
        "IPY_MODEL_fc8ac166b49246a69cf43f9665680bfa"
       ],
       "layout": "IPY_MODEL_02a1bb907580415ca2bf2d0055aa218d"
      }
     },
     "58bc45615bc64c539ea6cd49d51de16d": {
      "model_module": "@jupyter-widgets/base",
      "model_module_version": "1.2.0",
      "model_name": "LayoutModel",
      "state": {}
     },
     "58ef776fa6404bf387e8e3e9fd1dee98": {
      "model_module": "@jupyter-widgets/controls",
      "model_module_version": "1.5.0",
      "model_name": "SliderStyleModel",
      "state": {
       "description_width": ""
      }
     },
     "5923b10767b2494c8dd49406be7c9832": {
      "model_module": "@jupyter-widgets/controls",
      "model_module_version": "1.5.0",
      "model_name": "HBoxModel",
      "state": {
       "children": [
        "IPY_MODEL_116ac9e9d2144be3892649b434a60fbb",
        "IPY_MODEL_e0a3f42e2f204613a625248b5077a3b8",
        "IPY_MODEL_5045c6e91a3b4b209ba2832d12e9a1e1"
       ],
       "layout": "IPY_MODEL_addce265a4a043dab3dded42f57274bc"
      }
     },
     "594866f248294ba89346743daeb362a7": {
      "model_module": "@jupyter-widgets/base",
      "model_module_version": "1.2.0",
      "model_name": "LayoutModel",
      "state": {}
     },
     "595bd6b29c2044b9994d83b2572b7331": {
      "model_module": "@jupyter-widgets/base",
      "model_module_version": "1.2.0",
      "model_name": "LayoutModel",
      "state": {}
     },
     "59a649bee8ed4ec9a5c798aaf1c9d6b6": {
      "model_module": "@jupyter-widgets/base",
      "model_module_version": "1.2.0",
      "model_name": "LayoutModel",
      "state": {}
     },
     "59ae46b0cae84219ae7cd66a3771a199": {
      "model_module": "@jupyter-widgets/controls",
      "model_module_version": "1.5.0",
      "model_name": "VBoxModel",
      "state": {
       "children": [
        "IPY_MODEL_f564a0cf6fcc40abad1255ca0aa09b55",
        "IPY_MODEL_92103b8d1c17477db58cb5801bfb7ec8",
        "IPY_MODEL_f40f22217f744878a3dc0488fdf16c5c"
       ],
       "layout": "IPY_MODEL_9c3a37bda9224ffd83a9e86be534ceea"
      }
     },
     "59cee1da8e7244678c2e1e7f02793284": {
      "model_module": "@jupyter-widgets/controls",
      "model_module_version": "1.5.0",
      "model_name": "HBoxModel",
      "state": {
       "children": [
        "IPY_MODEL_28f0fe530e7a400eb5c224f33ad962cb",
        "IPY_MODEL_c3fe8d9e330a45908890d3214d3a8b0d",
        "IPY_MODEL_1e758bde642842e2858bf08ebfe0aded",
        "IPY_MODEL_a0cef9d3709648188f1588624488e151"
       ],
       "layout": "IPY_MODEL_d0dc046e8bf44e1a9b4ec631556fd991"
      }
     },
     "59e53669e54946deba2ce1112e712574": {
      "model_module": "@jupyter-widgets/controls",
      "model_module_version": "1.5.0",
      "model_name": "ButtonModel",
      "state": {
       "description": "Reset Hue Controls",
       "layout": "IPY_MODEL_31079aae13654a3595fdff97fd5ae355",
       "style": "IPY_MODEL_4db7c69131ff4a6b996565ae898fcbdf"
      }
     },
     "5a24cebf982841a59c2deeb591850444": {
      "model_module": "@jupyter-widgets/base",
      "model_module_version": "1.2.0",
      "model_name": "LayoutModel",
      "state": {}
     },
     "5aa1abe4c20840e2b1b64aa38476af75": {
      "model_module": "@jupyter-widgets/controls",
      "model_module_version": "1.5.0",
      "model_name": "TabModel",
      "state": {
       "_titles": {
        "0": "Global Controls"
       },
       "children": [
        "IPY_MODEL_07f3b39c1eeb4209804e05e17de35f0b"
       ],
       "layout": "IPY_MODEL_8ac49888eea446b1b31b1c843a5e1d61"
      }
     },
     "5ad596e56e9b455882827937b2599bca": {
      "model_module": "@jupyter-widgets/base",
      "model_module_version": "1.2.0",
      "model_name": "LayoutModel",
      "state": {}
     },
     "5b50be79360546f9939a4778cc23285d": {
      "model_module": "@jupyter-widgets/controls",
      "model_module_version": "1.5.0",
      "model_name": "ButtonModel",
      "state": {
       "description": "Reset Hue Controls",
       "layout": "IPY_MODEL_e20f818731d94cf8b15b1f834e3b9ab2",
       "style": "IPY_MODEL_f3ecf84f2b2b4f6ba521087cc02f9ef4"
      }
     },
     "5b542398759f4474974dbfd4ec15ffe1": {
      "model_module": "@jupyter-widgets/controls",
      "model_module_version": "1.5.0",
      "model_name": "ButtonModel",
      "state": {
       "description": "Reset Compression Controls",
       "layout": "IPY_MODEL_5866d136434c4a03ac3037547eb0bc7d",
       "style": "IPY_MODEL_f0ac10bddcc04a44a7c17dd4027c808f"
      }
     },
     "5b87c7b6e9ee46fd842e9e8b267b0ddb": {
      "model_module": "@jupyter-widgets/base",
      "model_module_version": "1.2.0",
      "model_name": "LayoutModel",
      "state": {}
     },
     "5bed3d7cc39947c881fdbdaa688b9683": {
      "model_module": "@jupyter-widgets/base",
      "model_module_version": "1.2.0",
      "model_name": "LayoutModel",
      "state": {}
     },
     "5bfd8efb1a864556a92fe88d574fa4f7": {
      "model_module": "@jupyter-widgets/controls",
      "model_module_version": "1.5.0",
      "model_name": "FloatSliderModel",
      "state": {
       "description": "90°",
       "layout": "IPY_MODEL_9c649e574474424fbf5c20dfd7359c05",
       "max": 1,
       "min": -1,
       "step": 0.01,
       "style": "IPY_MODEL_fa81d09b5fcb47c6b4d3759ee8e95c59"
      }
     },
     "5c01fd3ee6ac4452800c0d053e24c797": {
      "model_module": "@jupyter-widgets/base",
      "model_module_version": "1.2.0",
      "model_name": "LayoutModel",
      "state": {
       "border": "solid 4px #222",
       "margin": "4px",
       "padding": "0"
      }
     },
     "5c1f61b98250495aa21b28b135ce4fd3": {
      "model_module": "@jupyter-widgets/base",
      "model_module_version": "1.2.0",
      "model_name": "LayoutModel",
      "state": {}
     },
     "5c78d34105b04563a5532cc67edd1995": {
      "model_module": "@jupyter-widgets/base",
      "model_module_version": "1.2.0",
      "model_name": "LayoutModel",
      "state": {}
     },
     "5c80ffd88ffc4b459206e7d986dac1af": {
      "model_module": "@jupyter-widgets/controls",
      "model_module_version": "1.5.0",
      "model_name": "VBoxModel",
      "state": {
       "children": [
        "IPY_MODEL_a17609c201b948edbdf678ee91cc6001",
        "IPY_MODEL_31d2c50de2b044b293eb936fa3996573"
       ],
       "layout": "IPY_MODEL_e8d1477e1ab34296ad78965f82191475"
      }
     },
     "5c887ae1ec374f299838080917b688b0": {
      "model_module": "@jupyter-widgets/controls",
      "model_module_version": "1.5.0",
      "model_name": "SliderStyleModel",
      "state": {
       "description_width": ""
      }
     },
     "5cf57a436d4441dc9df9372a2c17ab85": {
      "model_module": "@jupyter-widgets/controls",
      "model_module_version": "1.5.0",
      "model_name": "FloatSliderModel",
      "state": {
       "description": "Protected Area Threshold",
       "layout": "IPY_MODEL_b2f237b323844ba9a1892143218c5691",
       "max": 1,
       "step": 0.01,
       "style": "IPY_MODEL_04d0f97d12b1485f9c90a99ddae12942",
       "value": 0.7
      }
     },
     "5d064e8398154378b10569ff22af1aa9": {
      "model_module": "@jupyter-widgets/controls",
      "model_module_version": "1.5.0",
      "model_name": "DropdownModel",
      "state": {
       "_options_labels": [
        "tanh",
        "atan",
        "simple"
       ],
       "description": "Compression Function:",
       "index": 0,
       "layout": "IPY_MODEL_b05becd28542403797fc140d96193699",
       "style": "IPY_MODEL_66fa607cc4064c4e812aa3ebf3e688ad"
      }
     },
     "5d386328ae22414eac55f3d05263c572": {
      "model_module": "@jupyter-widgets/controls",
      "model_module_version": "1.5.0",
      "model_name": "BoxModel",
      "state": {
       "children": [
        "IPY_MODEL_9914e078c77d456a82d549247c18a2a8",
        "IPY_MODEL_ac5dafbfba424e3bae8789d27efa2c6e"
       ],
       "layout": "IPY_MODEL_d8c79273eb184d9dbed84527b24b56a8"
      }
     },
     "5d50b7ac93e84cefa55af4dc021c4205": {
      "model_module": "@jupyter-widgets/controls",
      "model_module_version": "1.5.0",
      "model_name": "SliderStyleModel",
      "state": {
       "description_width": ""
      }
     },
     "5d74f99f745845768cede71f4230883c": {
      "model_module": "@jupyter-widgets/output",
      "model_module_version": "1.0.0",
      "model_name": "OutputModel",
      "state": {
       "layout": "IPY_MODEL_85a80227696444aeb203c75b81e7e0a9",
       "outputs": [
        {
         "data": {
          "application/vnd.jupyter.widget-view+json": {
           "model_id": "9cd03f1a69844e1fa3e21861de2a6c96",
           "version_major": 2,
           "version_minor": 0
          },
          "text/plain": "Canvas(toolbar=Toolbar(toolitems=[('Home', 'Reset original view', 'home', 'home'), ('Back', 'Back to previous …"
         },
         "metadata": {},
         "output_type": "display_data"
        }
       ]
      }
     },
     "5e730de719fc461fabe02bb55a5d5d95": {
      "model_module": "@jupyter-widgets/controls",
      "model_module_version": "1.5.0",
      "model_name": "FloatSliderModel",
      "state": {
       "description": "0°",
       "layout": "IPY_MODEL_061076e4972846beaa9146cad61c8032",
       "max": 1,
       "min": -1,
       "step": 0.01,
       "style": "IPY_MODEL_6a11e75128584f4797a8634e53ef4a7a"
      }
     },
     "5e7e9d216ff34098ba5869d1a0a078b8": {
      "model_module": "jupyter-matplotlib",
      "model_module_version": "^0.7.2",
      "model_name": "ToolbarModel",
      "state": {
       "layout": "IPY_MODEL_b5d2af5a7ab84f2c975884b4e3618406",
       "toolitems": [
        [
         "Home",
         "Reset original view",
         "home",
         "home"
        ],
        [
         "Back",
         "Back to previous view",
         "arrow-left",
         "back"
        ],
        [
         "Forward",
         "Forward to next view",
         "arrow-right",
         "forward"
        ],
        [
         "Pan",
         "Pan axes with left mouse, zoom with right",
         "arrows",
         "pan"
        ],
        [
         "Zoom",
         "Zoom to rectangle",
         "square-o",
         "zoom"
        ],
        [
         "Download",
         "Download plot",
         "floppy-o",
         "save_figure"
        ]
       ]
      }
     },
     "5eec61decb214b249f47844d7cd46691": {
      "model_module": "@jupyter-widgets/base",
      "model_module_version": "1.2.0",
      "model_name": "LayoutModel",
      "state": {}
     },
     "5f1605f3dd0b4b97a21003b6f27f135c": {
      "model_module": "@jupyter-widgets/controls",
      "model_module_version": "1.5.0",
      "model_name": "ButtonModel",
      "state": {
       "description": "Reset Hue Controls",
       "layout": "IPY_MODEL_760c3b80d76c4a939ad7f56a3ccff92d",
       "style": "IPY_MODEL_6e34f9e7584f4ebdb10c4213c2a43fbf"
      }
     },
     "5f17fac6bbde449d8101d1ba287ccaea": {
      "model_module": "@jupyter-widgets/base",
      "model_module_version": "1.2.0",
      "model_name": "LayoutModel",
      "state": {
       "align_items": "stretch",
       "display": "flex",
       "flex_flow": "column",
       "width": "1128px"
      }
     },
     "5f3efed250da4be5a19dfa07af0e2c5c": {
      "model_module": "@jupyter-widgets/base",
      "model_module_version": "1.2.0",
      "model_name": "LayoutModel",
      "state": {}
     },
     "5f7b02728f3e46cdaf6917be0e5cdd96": {
      "model_module": "@jupyter-widgets/controls",
      "model_module_version": "1.5.0",
      "model_name": "BoxModel",
      "state": {
       "children": [
        "IPY_MODEL_366d2a08fe254f20b5ac24a8ce2f11bc",
        "IPY_MODEL_cfb1f2e0fa1f43b080bd56be31953b2c"
       ],
       "layout": "IPY_MODEL_b2fae6c1be7b4aab9d61093699bc315e"
      }
     },
     "5f812c5be5054144884b685739f1ba08": {
      "model_module": "@jupyter-widgets/base",
      "model_module_version": "1.2.0",
      "model_name": "LayoutModel",
      "state": {}
     },
     "5f84dea053654c6db0d482b348010362": {
      "model_module": "@jupyter-widgets/controls",
      "model_module_version": "1.5.0",
      "model_name": "FloatSliderModel",
      "state": {
       "description": "45°",
       "layout": "IPY_MODEL_6b75340e84b8467cb5338b16f4447928",
       "max": 1,
       "min": -1,
       "step": 0.01,
       "style": "IPY_MODEL_3676cee57c3143e38c08b308c9b9ab90"
      }
     },
     "5fdf60eb58494cdcb26b0a550b7da77a": {
      "model_module": "jupyter-matplotlib",
      "model_module_version": "^0.7.2",
      "model_name": "ToolbarModel",
      "state": {
       "layout": "IPY_MODEL_bb6322c985124fb49a3b43ea5c636dd6",
       "toolitems": [
        [
         "Home",
         "Reset original view",
         "home",
         "home"
        ],
        [
         "Back",
         "Back to previous view",
         "arrow-left",
         "back"
        ],
        [
         "Forward",
         "Forward to next view",
         "arrow-right",
         "forward"
        ],
        [
         "Pan",
         "Pan axes with left mouse, zoom with right",
         "arrows",
         "pan"
        ],
        [
         "Zoom",
         "Zoom to rectangle",
         "square-o",
         "zoom"
        ],
        [
         "Download",
         "Download plot",
         "floppy-o",
         "save_figure"
        ]
       ]
      }
     },
     "60357ce577dd4e548b4bc690d9eb34fb": {
      "model_module": "@jupyter-widgets/base",
      "model_module_version": "1.2.0",
      "model_name": "LayoutModel",
      "state": {}
     },
     "605b2bd35b1c4529af4cc3b7823ea386": {
      "model_module": "@jupyter-widgets/controls",
      "model_module_version": "1.5.0",
      "model_name": "SliderStyleModel",
      "state": {
       "description_width": ""
      }
     },
     "6062230dcff3496eb4028abe52a84867": {
      "model_module": "@jupyter-widgets/controls",
      "model_module_version": "1.5.0",
      "model_name": "SliderStyleModel",
      "state": {
       "description_width": ""
      }
     },
     "60a2aeda85934cb28358a446d5f0aed1": {
      "model_module": "@jupyter-widgets/base",
      "model_module_version": "1.2.0",
      "model_name": "LayoutModel",
      "state": {
       "border": "solid 4px #222",
       "margin": "4px",
       "padding": "0"
      }
     },
     "613cb576d4fc46c0858fa7d42d7d20c3": {
      "model_module": "@jupyter-widgets/base",
      "model_module_version": "1.2.0",
      "model_name": "LayoutModel",
      "state": {}
     },
     "6144e9935262477292a3597192546a59": {
      "model_module": "@jupyter-widgets/controls",
      "model_module_version": "1.5.0",
      "model_name": "CheckboxModel",
      "state": {
       "description": "Disable Medicina",
       "disabled": false,
       "layout": "IPY_MODEL_11cfeb82c6ac4a858e1066512ed8fb3a",
       "style": "IPY_MODEL_e0599d6cd478440c8a12fef4c4d07d77",
       "value": false
      }
     },
     "619ef76d3c0546cbabf5bba44c238b1c": {
      "model_module": "@jupyter-widgets/base",
      "model_module_version": "1.2.0",
      "model_name": "LayoutModel",
      "state": {}
     },
     "61acc5bd79e346cf9d232ec2a1a18a51": {
      "model_module": "@jupyter-widgets/base",
      "model_module_version": "1.2.0",
      "model_name": "LayoutModel",
      "state": {}
     },
     "61d458b9ddd14a6aa23a4bb4dcf7d8e1": {
      "model_module": "@jupyter-widgets/base",
      "model_module_version": "1.2.0",
      "model_name": "LayoutModel",
      "state": {}
     },
     "6203509eed5f4207b850b0ca445e70c3": {
      "model_module": "@jupyter-widgets/controls",
      "model_module_version": "1.5.0",
      "model_name": "FloatSliderModel",
      "state": {
       "description": "Protected Area Threshold",
       "layout": "IPY_MODEL_cff56f16a67d46a4b97ef654d3d2c107",
       "max": 1,
       "step": 0.01,
       "style": "IPY_MODEL_18daf0d13fa843b1baffdec7fb301aea",
       "value": 0.7
      }
     },
     "6210e9cb256b4932b1e2d77ea8a45da2": {
      "model_module": "@jupyter-widgets/base",
      "model_module_version": "1.2.0",
      "model_name": "LayoutModel",
      "state": {}
     },
     "6216b79f32b6435d85da476ffc071a4b": {
      "model_module": "@jupyter-widgets/controls",
      "model_module_version": "1.5.0",
      "model_name": "FloatSliderModel",
      "state": {
       "description": "225°",
       "layout": "IPY_MODEL_2b02362477b94a0dad155b08700375f3",
       "max": 1,
       "min": -1,
       "step": 0.01,
       "style": "IPY_MODEL_622cdb0502a045d7ab3ded7f1df89d19"
      }
     },
     "622cdb0502a045d7ab3ded7f1df89d19": {
      "model_module": "@jupyter-widgets/controls",
      "model_module_version": "1.5.0",
      "model_name": "SliderStyleModel",
      "state": {
       "description_width": ""
      }
     },
     "6242af265e5749fba161c0241d979e34": {
      "model_module": "@jupyter-widgets/controls",
      "model_module_version": "1.5.0",
      "model_name": "ButtonModel",
      "state": {
       "description": "Save Figure",
       "layout": "IPY_MODEL_3cba81ca2fd54f7aa9eea117ec049264",
       "style": "IPY_MODEL_15009742e03e4854a8bf8ee406b83685"
      }
     },
     "6290eefbfdec4608a96de69e788c0bb0": {
      "model_module": "@jupyter-widgets/base",
      "model_module_version": "1.2.0",
      "model_name": "LayoutModel",
      "state": {}
     },
     "62931e339a6a44a5b35ccb6d52edea71": {
      "model_module": "@jupyter-widgets/controls",
      "model_module_version": "1.5.0",
      "model_name": "SliderStyleModel",
      "state": {
       "description_width": ""
      }
     },
     "62ff6b209b5c4f7799e923f09fb37ea8": {
      "model_module": "jupyter-matplotlib",
      "model_module_version": "^0.7.2",
      "model_name": "ToolbarModel",
      "state": {
       "layout": "IPY_MODEL_7e43630c8981499d89f353b807b69617",
       "toolitems": [
        [
         "Home",
         "Reset original view",
         "home",
         "home"
        ],
        [
         "Back",
         "Back to previous view",
         "arrow-left",
         "back"
        ],
        [
         "Forward",
         "Forward to next view",
         "arrow-right",
         "forward"
        ],
        [
         "Pan",
         "Pan axes with left mouse, zoom with right",
         "arrows",
         "pan"
        ],
        [
         "Zoom",
         "Zoom to rectangle",
         "square-o",
         "zoom"
        ],
        [
         "Download",
         "Download plot",
         "floppy-o",
         "save_figure"
        ]
       ]
      }
     },
     "631545e056cd42d884a7a0184e7471dc": {
      "model_module": "@jupyter-widgets/controls",
      "model_module_version": "1.5.0",
      "model_name": "HBoxModel",
      "state": {
       "children": [
        "IPY_MODEL_74e73d91c1854c85bbaaeab6b3fea183",
        "IPY_MODEL_550f90a0e9f145b58f775a05abfa0637",
        "IPY_MODEL_a0c68af80d4d46829620f561d24e19d2",
        "IPY_MODEL_4b75f75d8cd94bb2975ab3ae48107bee"
       ],
       "layout": "IPY_MODEL_7641b51f9faa47959d56cb3909c79e34"
      }
     },
     "6376f4c90b4f47ada5c4ed62a5b214fc": {
      "model_module": "@jupyter-widgets/base",
      "model_module_version": "1.2.0",
      "model_name": "LayoutModel",
      "state": {}
     },
     "637a4a8030d7479a8d87b45f6bdd3985": {
      "model_module": "@jupyter-widgets/base",
      "model_module_version": "1.2.0",
      "model_name": "LayoutModel",
      "state": {}
     },
     "63d1510061bc479eb44ae5840a81214a": {
      "model_module": "@jupyter-widgets/controls",
      "model_module_version": "1.5.0",
      "model_name": "DescriptionStyleModel",
      "state": {
       "description_width": ""
      }
     },
     "6444be03c43545c79681e2ac6d866fbe": {
      "model_module": "@jupyter-widgets/controls",
      "model_module_version": "1.5.0",
      "model_name": "ButtonStyleModel",
      "state": {}
     },
     "64606dab3385464888183f22c196b111": {
      "model_module": "@jupyter-widgets/base",
      "model_module_version": "1.2.0",
      "model_name": "LayoutModel",
      "state": {}
     },
     "646ec317a73b4a78bedf781c492dc26e": {
      "model_module": "@jupyter-widgets/controls",
      "model_module_version": "1.5.0",
      "model_name": "HBoxModel",
      "state": {
       "children": [
        "IPY_MODEL_392e815a891341b8bbc0f09bbe7f74ff",
        "IPY_MODEL_10a32f64119849a2872afe58475b4b4e",
        "IPY_MODEL_53514b9821b948518345c78ba2747fe6",
        "IPY_MODEL_a1d21850b4da44059ebdf45ab3c068ca"
       ],
       "layout": "IPY_MODEL_52ca26b012624c88a582fae840f1e8c5"
      }
     },
     "648ab6ad03434eee9e785db290fbaada": {
      "model_module": "@jupyter-widgets/controls",
      "model_module_version": "1.5.0",
      "model_name": "SliderStyleModel",
      "state": {
       "description_width": ""
      }
     },
     "64b9c6048f7540a79314ac9251f85996": {
      "model_module": "@jupyter-widgets/base",
      "model_module_version": "1.2.0",
      "model_name": "LayoutModel",
      "state": {}
     },
     "64cfc59d5d914be396e89124a849ba15": {
      "model_module": "@jupyter-widgets/controls",
      "model_module_version": "1.5.0",
      "model_name": "DescriptionStyleModel",
      "state": {
       "description_width": ""
      }
     },
     "64cfe62f3d724b21a4100b9b86a99153": {
      "model_module": "@jupyter-widgets/controls",
      "model_module_version": "1.5.0",
      "model_name": "DescriptionStyleModel",
      "state": {
       "description_width": ""
      }
     },
     "6556ca8eb41d494e89e712473986120d": {
      "model_module": "@jupyter-widgets/controls",
      "model_module_version": "1.5.0",
      "model_name": "FloatSliderModel",
      "state": {
       "description": "Compression Threshold",
       "layout": "IPY_MODEL_a6f68e7df4f4438e8f7e3d4fdfd24c57",
       "max": 1,
       "step": 0.01,
       "style": "IPY_MODEL_33018253fbe7405a9c62af0b31fbe715",
       "value": 0.8
      }
     },
     "659319d230884586829bdcfcf3ca30af": {
      "model_module": "@jupyter-widgets/base",
      "model_module_version": "1.2.0",
      "model_name": "LayoutModel",
      "state": {}
     },
     "65db487ad94a44a99c6a81e44293f295": {
      "model_module": "@jupyter-widgets/base",
      "model_module_version": "1.2.0",
      "model_name": "LayoutModel",
      "state": {}
     },
     "665d61a985b4498a8a3edb86506dad03": {
      "model_module": "@jupyter-widgets/controls",
      "model_module_version": "1.5.0",
      "model_name": "ButtonStyleModel",
      "state": {}
     },
     "66979bb413a04394ac7841b9e90779a9": {
      "model_module": "@jupyter-widgets/controls",
      "model_module_version": "1.5.0",
      "model_name": "FloatSliderModel",
      "state": {
       "description": "315°",
       "layout": "IPY_MODEL_2676aab6777c45679ae9f0bb3322f9ed",
       "max": 1,
       "min": -1,
       "step": 0.01,
       "style": "IPY_MODEL_209a4df940db435494fe5101ccde5b85"
      }
     },
     "66ccbc6be17441969a91f04e05e56bc5": {
      "model_module": "@jupyter-widgets/controls",
      "model_module_version": "1.5.0",
      "model_name": "FloatSliderModel",
      "state": {
       "description": "45°",
       "layout": "IPY_MODEL_b63bfcc9417148a0a7d450bf79e42d3e",
       "max": 1,
       "min": -1,
       "step": 0.01,
       "style": "IPY_MODEL_302f022a7f2c458c893930d1498804a3"
      }
     },
     "66d79c0119d3497d9db14a0a4821c7fe": {
      "model_module": "@jupyter-widgets/controls",
      "model_module_version": "1.5.0",
      "model_name": "SliderStyleModel",
      "state": {
       "description_width": ""
      }
     },
     "66d9c965894840c28ee058d7614cf896": {
      "model_module": "@jupyter-widgets/controls",
      "model_module_version": "1.5.0",
      "model_name": "ButtonStyleModel",
      "state": {}
     },
     "66f8276cbb3e4610b7bea5848330d7f9": {
      "model_module": "@jupyter-widgets/controls",
      "model_module_version": "1.5.0",
      "model_name": "FloatSliderModel",
      "state": {
       "description": "180°",
       "layout": "IPY_MODEL_b1f4ec00f88f476f9fa25d9d5157b2cb",
       "max": 1,
       "min": -1,
       "step": 0.01,
       "style": "IPY_MODEL_dbb2732e2be04fdc8fc9c4dc773d73b9"
      }
     },
     "66fa607cc4064c4e812aa3ebf3e688ad": {
      "model_module": "@jupyter-widgets/controls",
      "model_module_version": "1.5.0",
      "model_name": "DescriptionStyleModel",
      "state": {
       "description_width": ""
      }
     },
     "67133fb41f264b81bc16ae0a694f2753": {
      "model_module": "@jupyter-widgets/controls",
      "model_module_version": "1.5.0",
      "model_name": "DropdownModel",
      "state": {
       "_options_labels": [
        "tanh",
        "atan",
        "simple"
       ],
       "description": "Compression Function:",
       "index": 0,
       "layout": "IPY_MODEL_f5b2055dca404920b797104c54dfaaa2",
       "style": "IPY_MODEL_ea1a26b507c94beea7ee416005a4e526"
      }
     },
     "673992ec60394ca0aa997191303583a0": {
      "model_module": "@jupyter-widgets/base",
      "model_module_version": "1.2.0",
      "model_name": "LayoutModel",
      "state": {}
     },
     "6757bc5513164a56a6cd4012e2e9f19e": {
      "model_module": "@jupyter-widgets/base",
      "model_module_version": "1.2.0",
      "model_name": "LayoutModel",
      "state": {
       "border": "solid 4px #222",
       "margin": "4px",
       "padding": "0"
      }
     },
     "676fb962022e449c8a058d838c5fab1d": {
      "model_module": "@jupyter-widgets/controls",
      "model_module_version": "1.5.0",
      "model_name": "ButtonStyleModel",
      "state": {}
     },
     "67af1e51b85340068748d1c2cfe8da2b": {
      "model_module": "@jupyter-widgets/controls",
      "model_module_version": "1.5.0",
      "model_name": "HBoxModel",
      "state": {
       "children": [
        "IPY_MODEL_4d462a2d15134f0f8324ae9f3d3c8800",
        "IPY_MODEL_fcd8eebbcc364b1f878f8507505b9075"
       ],
       "layout": "IPY_MODEL_da88f890d3cd4db7ab5bda5f3f1f6866"
      }
     },
     "67cd8b74616d45a8aa892a0df76bb191": {
      "model_module": "@jupyter-widgets/base",
      "model_module_version": "1.2.0",
      "model_name": "LayoutModel",
      "state": {}
     },
     "67d146c79dcd4bd98fb02181cb49e675": {
      "model_module": "@jupyter-widgets/controls",
      "model_module_version": "1.5.0",
      "model_name": "SliderStyleModel",
      "state": {
       "description_width": ""
      }
     },
     "68355ab5668f4ec5b5620c21110f9c6a": {
      "model_module": "@jupyter-widgets/controls",
      "model_module_version": "1.5.0",
      "model_name": "ButtonStyleModel",
      "state": {}
     },
     "685c64ebb3524d3d9c0f5aff172c5c22": {
      "model_module": "@jupyter-widgets/controls",
      "model_module_version": "1.5.0",
      "model_name": "FloatSliderModel",
      "state": {
       "description": "Protected Area Threshold",
       "layout": "IPY_MODEL_fd39fd9c021b477e89435487450ab23a",
       "max": 1,
       "step": 0.01,
       "style": "IPY_MODEL_cd2295b99a4f4ab8b2bfb9b961edf1a0",
       "value": 0.7
      }
     },
     "686c0eed822844ada833338ade062cf4": {
      "model_module": "@jupyter-widgets/base",
      "model_module_version": "1.2.0",
      "model_name": "LayoutModel",
      "state": {}
     },
     "687bfe7344c442d9a954141986c2914e": {
      "model_module": "jupyter-matplotlib",
      "model_module_version": "^0.7.2",
      "model_name": "ToolbarModel",
      "state": {
       "layout": "IPY_MODEL_cd1b75c38ba7416382adb83a155a5b0a",
       "toolitems": [
        [
         "Home",
         "Reset original view",
         "home",
         "home"
        ],
        [
         "Back",
         "Back to previous view",
         "arrow-left",
         "back"
        ],
        [
         "Forward",
         "Forward to next view",
         "arrow-right",
         "forward"
        ],
        [
         "Pan",
         "Pan axes with left mouse, zoom with right",
         "arrows",
         "pan"
        ],
        [
         "Zoom",
         "Zoom to rectangle",
         "square-o",
         "zoom"
        ],
        [
         "Download",
         "Download plot",
         "floppy-o",
         "save_figure"
        ]
       ]
      }
     },
     "68b5a37a5ec242dfb5b15a74445e4ec9": {
      "model_module": "@jupyter-widgets/controls",
      "model_module_version": "1.5.0",
      "model_name": "ButtonStyleModel",
      "state": {}
     },
     "68cabaf7fdbb4cc9afc0a9191a843f1c": {
      "model_module": "@jupyter-widgets/base",
      "model_module_version": "1.2.0",
      "model_name": "LayoutModel",
      "state": {}
     },
     "68d3a5c292f64f06b906a8afb395c753": {
      "model_module": "@jupyter-widgets/controls",
      "model_module_version": "1.5.0",
      "model_name": "FloatSliderModel",
      "state": {
       "description": "Compression Threshold",
       "layout": "IPY_MODEL_1d1707598c8c4b218ea1b4cd71ae76f3",
       "max": 1,
       "step": 0.01,
       "style": "IPY_MODEL_f9dd75dd98e249e1b04cb2d5ccc1f459",
       "value": 0.8
      }
     },
     "68d4d29d9c6349169e82d899fda2040e": {
      "model_module": "@jupyter-widgets/base",
      "model_module_version": "1.2.0",
      "model_name": "LayoutModel",
      "state": {}
     },
     "68d7ee3044a84a2496992b9ec4d60a6f": {
      "model_module": "@jupyter-widgets/base",
      "model_module_version": "1.2.0",
      "model_name": "LayoutModel",
      "state": {}
     },
     "6987fa8f9e9c42d8bd50dd06b1748a16": {
      "model_module": "@jupyter-widgets/controls",
      "model_module_version": "1.5.0",
      "model_name": "ButtonStyleModel",
      "state": {}
     },
     "69b3a75a7ade4d06bcf889f90f37cdbd": {
      "model_module": "@jupyter-widgets/base",
      "model_module_version": "1.2.0",
      "model_name": "LayoutModel",
      "state": {
       "border": "solid 4px #222",
       "margin": "4px",
       "padding": "0"
      }
     },
     "69e994eba8af40988386bdf15443f0e4": {
      "model_module": "@jupyter-widgets/controls",
      "model_module_version": "1.5.0",
      "model_name": "CheckboxModel",
      "state": {
       "description": "Disable Medicina",
       "disabled": false,
       "layout": "IPY_MODEL_d11b407ee60c49b2b0d20848e81ce657",
       "style": "IPY_MODEL_a865a2fe922c4959b8a43dbd407f69eb",
       "value": false
      }
     },
     "6a11e75128584f4797a8634e53ef4a7a": {
      "model_module": "@jupyter-widgets/controls",
      "model_module_version": "1.5.0",
      "model_name": "SliderStyleModel",
      "state": {
       "description_width": ""
      }
     },
     "6a345419c04345a1a8fd2fb926a8953e": {
      "model_module": "@jupyter-widgets/base",
      "model_module_version": "1.2.0",
      "model_name": "LayoutModel",
      "state": {}
     },
     "6a843abc1fd04e5080f383aefee15b6d": {
      "model_module": "@jupyter-widgets/base",
      "model_module_version": "1.2.0",
      "model_name": "LayoutModel",
      "state": {
       "align_items": "stretch",
       "display": "flex",
       "flex_flow": "column",
       "width": "1128px"
      }
     },
     "6ab7aff9a5f543b48988cc2f53dbaf89": {
      "model_module": "@jupyter-widgets/controls",
      "model_module_version": "1.5.0",
      "model_name": "SliderStyleModel",
      "state": {
       "description_width": ""
      }
     },
     "6abb6dc6af694e30925e0dbaeb9d3ed2": {
      "model_module": "@jupyter-widgets/base",
      "model_module_version": "1.2.0",
      "model_name": "LayoutModel",
      "state": {}
     },
     "6b036aee80f240b59f1b2900525255f5": {
      "model_module": "@jupyter-widgets/base",
      "model_module_version": "1.2.0",
      "model_name": "LayoutModel",
      "state": {}
     },
     "6b2f278a43f1461690288f1c57d3ea93": {
      "model_module": "@jupyter-widgets/base",
      "model_module_version": "1.2.0",
      "model_name": "LayoutModel",
      "state": {}
     },
     "6b596108446440b998631840fcf337f1": {
      "model_module": "@jupyter-widgets/controls",
      "model_module_version": "1.5.0",
      "model_name": "ButtonStyleModel",
      "state": {}
     },
     "6b66de40e5234b6f9a9fecfc42ad3069": {
      "model_module": "@jupyter-widgets/controls",
      "model_module_version": "1.5.0",
      "model_name": "FloatSliderModel",
      "state": {
       "description": "135°",
       "layout": "IPY_MODEL_319f2737978d47f2b9c22219f04aefe4",
       "max": 1,
       "min": -1,
       "step": 0.01,
       "style": "IPY_MODEL_a78283c402024093b4ef1c0958484a08"
      }
     },
     "6b75340e84b8467cb5338b16f4447928": {
      "model_module": "@jupyter-widgets/base",
      "model_module_version": "1.2.0",
      "model_name": "LayoutModel",
      "state": {}
     },
     "6b8bda265c764c2cb3945b0721599f2a": {
      "model_module": "jupyter-matplotlib",
      "model_module_version": "^0.7.2",
      "model_name": "ToolbarModel",
      "state": {
       "layout": "IPY_MODEL_005d35cfc86742e88181a47c6c436fa7",
       "toolitems": [
        [
         "Home",
         "Reset original view",
         "home",
         "home"
        ],
        [
         "Back",
         "Back to previous view",
         "arrow-left",
         "back"
        ],
        [
         "Forward",
         "Forward to next view",
         "arrow-right",
         "forward"
        ],
        [
         "Pan",
         "Pan axes with left mouse, zoom with right",
         "arrows",
         "pan"
        ],
        [
         "Zoom",
         "Zoom to rectangle",
         "square-o",
         "zoom"
        ],
        [
         "Download",
         "Download plot",
         "floppy-o",
         "save_figure"
        ]
       ]
      }
     },
     "6b97102646464589944003a9f214993f": {
      "model_module": "@jupyter-widgets/controls",
      "model_module_version": "1.5.0",
      "model_name": "TabModel",
      "state": {
       "_titles": {
        "0": "Global Controls",
        "1": "Compression Controls"
       },
       "children": [
        "IPY_MODEL_528771528b6741b3b2afcf5c10e20365",
        "IPY_MODEL_c6905cb36ded429585a1947fdc5fdd47"
       ],
       "layout": "IPY_MODEL_fa1631bfa4e54ee5b1a47a229d398e83"
      }
     },
     "6bce9799b3aa48d1be86d0a1f86331dd": {
      "model_module": "@jupyter-widgets/controls",
      "model_module_version": "1.5.0",
      "model_name": "TabModel",
      "state": {
       "_titles": {
        "0": "Global Controls",
        "1": "Compression Controls"
       },
       "children": [
        "IPY_MODEL_bfc5539e363745139d331dac2a06020c",
        "IPY_MODEL_2d10339dbbaf4b05bb2f15abc08ba785"
       ],
       "layout": "IPY_MODEL_2c36076038e842f9ad8011fecf0f7319"
      }
     },
     "6c7d242ca0634640af794e1b92aef0da": {
      "model_module": "jupyter-matplotlib",
      "model_module_version": "^0.7.2",
      "model_name": "MPLCanvasModel",
      "state": {
       "_figure_label": "Figure 4",
       "_height": 618,
       "_width": 1099,
       "header_visible": false,
       "layout": "IPY_MODEL_146546d5474a44a7b11818dfcb60b44b",
       "resizable": false,
       "toolbar": "IPY_MODEL_525e986dd75140dbb53d03336c9697d1",
       "toolbar_position": "left",
       "toolbar_visible": false
      }
     },
     "6c81eafe4d5749b2b645ed0a9fa63b7d": {
      "model_module": "@jupyter-widgets/controls",
      "model_module_version": "1.5.0",
      "model_name": "VBoxModel",
      "state": {
       "children": [
        "IPY_MODEL_88fd2ba03fc7439c9ef121065681c4cf",
        "IPY_MODEL_fb224bbbe8ab40d19e113dbf85174e55",
        "IPY_MODEL_c957e86916a046b084595f3a07fb2a0e"
       ],
       "layout": "IPY_MODEL_7a90a52780504116980f4352cc31ed6d"
      }
     },
     "6c8dcfa941bd44bcb22bf4941565cadf": {
      "model_module": "@jupyter-widgets/controls",
      "model_module_version": "1.5.0",
      "model_name": "SliderStyleModel",
      "state": {
       "description_width": ""
      }
     },
     "6c9f96055da543ddaea5807b5309fe77": {
      "model_module": "@jupyter-widgets/controls",
      "model_module_version": "1.5.0",
      "model_name": "HBoxModel",
      "state": {
       "children": [
        "IPY_MODEL_37d352842a074006a539f69acf7ecc01",
        "IPY_MODEL_b77b4a156588474b971022bb800ed063"
       ],
       "layout": "IPY_MODEL_0e573dbf72ce450c9970295c56732d9e"
      }
     },
     "6cd5a9170a2548f2b789f8a9b50712c1": {
      "model_module": "@jupyter-widgets/controls",
      "model_module_version": "1.5.0",
      "model_name": "SliderStyleModel",
      "state": {
       "description_width": ""
      }
     },
     "6d37b605c46f4c08b7fc8f16df2f735d": {
      "model_module": "@jupyter-widgets/controls",
      "model_module_version": "1.5.0",
      "model_name": "HBoxModel",
      "state": {
       "children": [
        "IPY_MODEL_1a6ab79e0cdc4ac18a0068b2b68a5ec6",
        "IPY_MODEL_685c64ebb3524d3d9c0f5aff172c5c22"
       ],
       "layout": "IPY_MODEL_52f9c9359c634105afda696b464f2c75"
      }
     },
     "6db0bacdc38e443981e464c5d91dc3f5": {
      "model_module": "jupyter-matplotlib",
      "model_module_version": "^0.7.2",
      "model_name": "MPLCanvasModel",
      "state": {
       "_figure_label": "Figure 20",
       "_height": 550,
       "_width": 1100,
       "header_visible": false,
       "layout": "IPY_MODEL_ef632a2c86d9487cbc12251b63d12ee3",
       "resizable": false,
       "toolbar": "IPY_MODEL_b814c18aeaa84cbd81798b30b6eee6b0",
       "toolbar_position": "left",
       "toolbar_visible": false
      }
     },
     "6e25230f4a634c2f8d96dc9b45c3445e": {
      "model_module": "@jupyter-widgets/controls",
      "model_module_version": "1.5.0",
      "model_name": "ButtonModel",
      "state": {
       "description": "Export Image",
       "layout": "IPY_MODEL_756983689be34b889f6742d86aadbe9e",
       "style": "IPY_MODEL_08eea4d7333d4522877a9c134fdebe7f"
      }
     },
     "6e34f9e7584f4ebdb10c4213c2a43fbf": {
      "model_module": "@jupyter-widgets/controls",
      "model_module_version": "1.5.0",
      "model_name": "ButtonStyleModel",
      "state": {}
     },
     "6e56e90b4ed44d6c9f441385833e3ff9": {
      "model_module": "@jupyter-widgets/base",
      "model_module_version": "1.2.0",
      "model_name": "LayoutModel",
      "state": {}
     },
     "6e5e33cd6081480ab2859d348bc58ea7": {
      "model_module": "@jupyter-widgets/output",
      "model_module_version": "1.0.0",
      "model_name": "OutputModel",
      "state": {
       "layout": "IPY_MODEL_50b3ca17b5ff473984ef9ef5ebc84b79",
       "outputs": [
        {
         "data": {
          "application/vnd.jupyter.widget-view+json": {
           "model_id": "21b0d9ca2e58460793fc18c4e71fa372",
           "version_major": 2,
           "version_minor": 0
          },
          "text/plain": "Canvas(toolbar=Toolbar(toolitems=[('Home', 'Reset original view', 'home', 'home'), ('Back', 'Back to previous …"
         },
         "metadata": {},
         "output_type": "display_data"
        }
       ]
      }
     },
     "6ea7efae7cd4414e9191ae27944343d3": {
      "model_module": "@jupyter-widgets/controls",
      "model_module_version": "1.5.0",
      "model_name": "SliderStyleModel",
      "state": {
       "description_width": ""
      }
     },
     "6ed2cb76616a41f4b4af88938174580a": {
      "model_module": "@jupyter-widgets/controls",
      "model_module_version": "1.5.0",
      "model_name": "FloatSliderModel",
      "state": {
       "description": "Exposure",
       "layout": "IPY_MODEL_bd94b24d56fc453ca515df4d83197e29",
       "max": 8,
       "min": -8,
       "step": 0.1,
       "style": "IPY_MODEL_605b2bd35b1c4529af4cc3b7823ea386"
      }
     },
     "6f0f2aa888764f7abe103e351ded7b8f": {
      "model_module": "@jupyter-widgets/controls",
      "model_module_version": "1.5.0",
      "model_name": "HBoxModel",
      "state": {
       "children": [
        "IPY_MODEL_8e24d02ec3b74bf185b826a0c4f0152f",
        "IPY_MODEL_0c0b050185254b029fa899321f9cc4cb",
        "IPY_MODEL_8f8fff04a2ed4fafa7ca01179bafc5a7"
       ],
       "layout": "IPY_MODEL_1ab1cd9a19db491e883e2c25c7504249"
      }
     },
     "6f70f64129b64fd98eb9e22dfcf7bde0": {
      "model_module": "@jupyter-widgets/controls",
      "model_module_version": "1.5.0",
      "model_name": "DropdownModel",
      "state": {
       "_options_labels": [
        "tanh",
        "atan",
        "simple"
       ],
       "description": "Compression Function:",
       "index": 0,
       "layout": "IPY_MODEL_e0942fe28a504a00b0a56ec50e8ff716",
       "style": "IPY_MODEL_33d06e7d50ec42978222062380d39665"
      }
     },
     "6f7159cc48104c32aaaf3c928a621bc8": {
      "model_module": "@jupyter-widgets/base",
      "model_module_version": "1.2.0",
      "model_name": "LayoutModel",
      "state": {}
     },
     "6f83a67c0a7a4612b33fb6a68efc2da7": {
      "model_module": "@jupyter-widgets/base",
      "model_module_version": "1.2.0",
      "model_name": "LayoutModel",
      "state": {}
     },
     "6f8f01146f1c47dabe24fe921cfd52b5": {
      "model_module": "@jupyter-widgets/controls",
      "model_module_version": "1.5.0",
      "model_name": "VBoxModel",
      "state": {
       "children": [
        "IPY_MODEL_feea026f0c644feda673bf1efbf8b326"
       ],
       "layout": "IPY_MODEL_49a14c6841e4446c9ed00c1bcd510cd7"
      }
     },
     "70493778434b46ce8a52405cd95cfe39": {
      "model_module": "@jupyter-widgets/base",
      "model_module_version": "1.2.0",
      "model_name": "LayoutModel",
      "state": {}
     },
     "706e16b9b73e495b8f5e5d16c0d3c8ed": {
      "model_module": "@jupyter-widgets/controls",
      "model_module_version": "1.5.0",
      "model_name": "SliderStyleModel",
      "state": {
       "description_width": ""
      }
     },
     "707c5b4c00114106827e4872d0f513c1": {
      "model_module": "@jupyter-widgets/controls",
      "model_module_version": "1.5.0",
      "model_name": "FloatSliderModel",
      "state": {
       "description": "135°",
       "layout": "IPY_MODEL_b2cd719057a84bca8bdad350ccaac050",
       "max": 1,
       "min": -1,
       "step": 0.01,
       "style": "IPY_MODEL_b6fb68c88c5c4af6a19bdbf06c1f693c"
      }
     },
     "70dbc3d50435421b8042bf223e74ce3f": {
      "model_module": "@jupyter-widgets/base",
      "model_module_version": "1.2.0",
      "model_name": "LayoutModel",
      "state": {
       "border": "solid 4px #222",
       "margin": "4px",
       "padding": "0"
      }
     },
     "70e5c5bccd6f4eb580ae077d962dab40": {
      "model_module": "@jupyter-widgets/controls",
      "model_module_version": "1.5.0",
      "model_name": "ButtonStyleModel",
      "state": {}
     },
     "70eda1c5515f43a1a723ca55be65a1e3": {
      "model_module": "@jupyter-widgets/base",
      "model_module_version": "1.2.0",
      "model_name": "LayoutModel",
      "state": {}
     },
     "711c177a93844a769ae91429e94faf24": {
      "model_module": "@jupyter-widgets/controls",
      "model_module_version": "1.5.0",
      "model_name": "SliderStyleModel",
      "state": {
       "description_width": ""
      }
     },
     "7182c467200f457e901ed8c566861445": {
      "model_module": "@jupyter-widgets/controls",
      "model_module_version": "1.5.0",
      "model_name": "DropdownModel",
      "state": {
       "_options_labels": [
        "tanh",
        "atan",
        "simple"
       ],
       "description": "Compression Function:",
       "index": 0,
       "layout": "IPY_MODEL_4d05b8018dbe4c9187aefab71301c72a",
       "style": "IPY_MODEL_c6c7b2303dc24623946d645a8dc8bbd7"
      }
     },
     "72090c67ea1c432581add3d06e2f1ead": {
      "model_module": "@jupyter-widgets/base",
      "model_module_version": "1.2.0",
      "model_name": "LayoutModel",
      "state": {}
     },
     "72494290bc4244e29f67f7e15b602398": {
      "model_module": "@jupyter-widgets/base",
      "model_module_version": "1.2.0",
      "model_name": "LayoutModel",
      "state": {}
     },
     "733e2262d6a14075ba7e37227f4f9170": {
      "model_module": "@jupyter-widgets/controls",
      "model_module_version": "1.5.0",
      "model_name": "TabModel",
      "state": {
       "_titles": {
        "0": "Global Controls",
        "1": "Compression Controls"
       },
       "children": [
        "IPY_MODEL_4049747fbf9a44f6b7dbd7a7a671e7ee",
        "IPY_MODEL_275b2bf545854c578fa8e205b96af11d"
       ],
       "layout": "IPY_MODEL_8148dc848dc442fbb732da5fb409afcb"
      }
     },
     "73baddd957d2430588f8afb9218e87f0": {
      "model_module": "@jupyter-widgets/controls",
      "model_module_version": "1.5.0",
      "model_name": "FloatSliderModel",
      "state": {
       "description": "0°",
       "layout": "IPY_MODEL_8752bae643d348128c384674cd927644",
       "max": 1,
       "min": -1,
       "step": 0.01,
       "style": "IPY_MODEL_36f5ba4f1e9846af823460ccfdde3710"
      }
     },
     "73cba0e4ec944633a895b4509e94fe6e": {
      "model_module": "@jupyter-widgets/controls",
      "model_module_version": "1.5.0",
      "model_name": "FloatSliderModel",
      "state": {
       "description": "Compression Threshold",
       "layout": "IPY_MODEL_c23632ea31744d7193b597647174cdfc",
       "max": 1,
       "step": 0.01,
       "style": "IPY_MODEL_cae9083472e5411db6b0069e87d8d6a7",
       "value": 0.5
      }
     },
     "74336364a1e5497db040e4bc41f94717": {
      "model_module": "@jupyter-widgets/controls",
      "model_module_version": "1.5.0",
      "model_name": "SliderStyleModel",
      "state": {
       "description_width": ""
      }
     },
     "74c9340f03fe43edb25a9dc3b3166894": {
      "model_module": "@jupyter-widgets/base",
      "model_module_version": "1.2.0",
      "model_name": "LayoutModel",
      "state": {}
     },
     "74e24520ebd7445d91da38a3742b905d": {
      "model_module": "@jupyter-widgets/controls",
      "model_module_version": "1.5.0",
      "model_name": "CheckboxModel",
      "state": {
       "description": "Disable Medicina",
       "disabled": false,
       "layout": "IPY_MODEL_18abcc0f578d4447a2cf422c71f47a92",
       "style": "IPY_MODEL_dc0de00f934447a887396766ed90d01d",
       "value": false
      }
     },
     "74e73d91c1854c85bbaaeab6b3fea183": {
      "model_module": "@jupyter-widgets/controls",
      "model_module_version": "1.5.0",
      "model_name": "CheckboxModel",
      "state": {
       "description": "Disable Medicina",
       "disabled": false,
       "layout": "IPY_MODEL_41654f6af56b4705aa380514db1c34c2",
       "style": "IPY_MODEL_ecf0a9cb69b54cac842677d402d21bff",
       "value": true
      }
     },
     "750684f6c319448cab6ee32f69e4e9b5": {
      "model_module": "@jupyter-widgets/base",
      "model_module_version": "1.2.0",
      "model_name": "LayoutModel",
      "state": {}
     },
     "750c87f7eb5c47f49323f874a15df2ea": {
      "model_module": "jupyter-matplotlib",
      "model_module_version": "^0.7.2",
      "model_name": "ToolbarModel",
      "state": {
       "layout": "IPY_MODEL_64b9c6048f7540a79314ac9251f85996",
       "toolitems": [
        [
         "Home",
         "Reset original view",
         "home",
         "home"
        ],
        [
         "Back",
         "Back to previous view",
         "arrow-left",
         "back"
        ],
        [
         "Forward",
         "Forward to next view",
         "arrow-right",
         "forward"
        ],
        [
         "Pan",
         "Pan axes with left mouse, zoom with right",
         "arrows",
         "pan"
        ],
        [
         "Zoom",
         "Zoom to rectangle",
         "square-o",
         "zoom"
        ],
        [
         "Download",
         "Download plot",
         "floppy-o",
         "save_figure"
        ]
       ]
      }
     },
     "7510877d99f34371a4a355de33c5c024": {
      "model_module": "@jupyter-widgets/controls",
      "model_module_version": "1.5.0",
      "model_name": "ButtonModel",
      "state": {
       "description": "Reset Protected Area",
       "layout": "IPY_MODEL_8d5acbdf39cf40e4a91c023467a26d2f",
       "style": "IPY_MODEL_7de514620bc142b885564ecadf795217"
      }
     },
     "7518c7ddd6a44ccaa65254f0adfb86fd": {
      "model_module": "@jupyter-widgets/base",
      "model_module_version": "1.2.0",
      "model_name": "LayoutModel",
      "state": {}
     },
     "756983689be34b889f6742d86aadbe9e": {
      "model_module": "@jupyter-widgets/base",
      "model_module_version": "1.2.0",
      "model_name": "LayoutModel",
      "state": {}
     },
     "7574f2771c2b4a9a91eb86e3e14d9b97": {
      "model_module": "@jupyter-widgets/controls",
      "model_module_version": "1.5.0",
      "model_name": "SliderStyleModel",
      "state": {
       "description_width": ""
      }
     },
     "75885ad822124f61811596c13ee73a66": {
      "model_module": "@jupyter-widgets/base",
      "model_module_version": "1.2.0",
      "model_name": "LayoutModel",
      "state": {}
     },
     "7590767805f64ae1a4b25343081813fa": {
      "model_module": "@jupyter-widgets/base",
      "model_module_version": "1.2.0",
      "model_name": "LayoutModel",
      "state": {}
     },
     "75a745ad10e54ac78fdef7da574e656c": {
      "model_module": "@jupyter-widgets/output",
      "model_module_version": "1.0.0",
      "model_name": "OutputModel",
      "state": {
       "layout": "IPY_MODEL_dd3958cd043a4df4a22fcc8822037b88",
       "outputs": [
        {
         "data": {
          "application/vnd.jupyter.widget-view+json": {
           "model_id": "32dcb99227e543c49d14c0d55b46a453",
           "version_major": 2,
           "version_minor": 0
          },
          "text/plain": "Canvas(toolbar=Toolbar(toolitems=[('Home', 'Reset original view', 'home', 'home'), ('Back', 'Back to previous …"
         },
         "metadata": {},
         "output_type": "display_data"
        }
       ]
      }
     },
     "760c3b80d76c4a939ad7f56a3ccff92d": {
      "model_module": "@jupyter-widgets/base",
      "model_module_version": "1.2.0",
      "model_name": "LayoutModel",
      "state": {}
     },
     "76255b6aee164288be549427df3717cc": {
      "model_module": "@jupyter-widgets/controls",
      "model_module_version": "1.5.0",
      "model_name": "HBoxModel",
      "state": {
       "children": [
        "IPY_MODEL_e0a554039f4d45abbd96ba391a4c241e",
        "IPY_MODEL_8108e49dcf694a5396c25a5dceec9511",
        "IPY_MODEL_68d3a5c292f64f06b906a8afb395c753"
       ],
       "layout": "IPY_MODEL_3a9e4c3dfb724b77bd8ab38fef21d0ea"
      }
     },
     "7641b51f9faa47959d56cb3909c79e34": {
      "model_module": "@jupyter-widgets/base",
      "model_module_version": "1.2.0",
      "model_name": "LayoutModel",
      "state": {}
     },
     "764c630da44c4fbea88e87969da78b5f": {
      "model_module": "@jupyter-widgets/base",
      "model_module_version": "1.2.0",
      "model_name": "LayoutModel",
      "state": {}
     },
     "7680b09a9ef849b494e3597e55b13d29": {
      "model_module": "@jupyter-widgets/base",
      "model_module_version": "1.2.0",
      "model_name": "LayoutModel",
      "state": {}
     },
     "769d34d52e014ab2bbfa4055210e3865": {
      "model_module": "@jupyter-widgets/controls",
      "model_module_version": "1.5.0",
      "model_name": "BoxModel",
      "state": {
       "children": [
        "IPY_MODEL_b68f1b0dac914f048e02da359827e6cc",
        "IPY_MODEL_5aa1abe4c20840e2b1b64aa38476af75"
       ],
       "layout": "IPY_MODEL_6a843abc1fd04e5080f383aefee15b6d"
      }
     },
     "77085baf18c44bd18f1a134d8ef3a2d7": {
      "model_module": "@jupyter-widgets/controls",
      "model_module_version": "1.5.0",
      "model_name": "SliderStyleModel",
      "state": {
       "description_width": ""
      }
     },
     "77580b875f1d4aa0aeb993c1fc1e439c": {
      "model_module": "@jupyter-widgets/controls",
      "model_module_version": "1.5.0",
      "model_name": "SliderStyleModel",
      "state": {
       "description_width": ""
      }
     },
     "7769ed16590b4b6b907c2d44c24884d6": {
      "model_module": "@jupyter-widgets/base",
      "model_module_version": "1.2.0",
      "model_name": "LayoutModel",
      "state": {
       "border": "solid 4px #222",
       "margin": "4px",
       "padding": "0"
      }
     },
     "777f7d3cd2744c30a7505fcd809b9442": {
      "model_module": "@jupyter-widgets/base",
      "model_module_version": "1.2.0",
      "model_name": "LayoutModel",
      "state": {}
     },
     "77dcbd00550b49d3a0bfe0e8fea62040": {
      "model_module": "@jupyter-widgets/controls",
      "model_module_version": "1.5.0",
      "model_name": "DescriptionStyleModel",
      "state": {
       "description_width": ""
      }
     },
     "7863fd2c56f04c71ad642aec481c242f": {
      "model_module": "@jupyter-widgets/base",
      "model_module_version": "1.2.0",
      "model_name": "LayoutModel",
      "state": {}
     },
     "7868447208fd4e199e6193d5c84aa90b": {
      "model_module": "@jupyter-widgets/base",
      "model_module_version": "1.2.0",
      "model_name": "LayoutModel",
      "state": {}
     },
     "78a13a10dc2b4ffb9f5ad6c1635f9c96": {
      "model_module": "@jupyter-widgets/base",
      "model_module_version": "1.2.0",
      "model_name": "LayoutModel",
      "state": {}
     },
     "78e8096f7ef143ca9d539f27afc313d0": {
      "model_module": "@jupyter-widgets/controls",
      "model_module_version": "1.5.0",
      "model_name": "HBoxModel",
      "state": {
       "children": [
        "IPY_MODEL_b7a127be4d1c4b0f9616f426bbe99d23",
        "IPY_MODEL_a6c8471568c741d780f6b43e1dadaae0",
        "IPY_MODEL_5012103dea974724bdd7d580c5d0d594",
        "IPY_MODEL_e02f34168df243c585e897deeb2fa83f"
       ],
       "layout": "IPY_MODEL_5bed3d7cc39947c881fdbdaa688b9683"
      }
     },
     "78fb7cb7b55f40b880ace6e3457e3904": {
      "model_module": "@jupyter-widgets/base",
      "model_module_version": "1.2.0",
      "model_name": "LayoutModel",
      "state": {}
     },
     "791c20dccaab4a59aaa3d9f9303e332b": {
      "model_module": "@jupyter-widgets/base",
      "model_module_version": "1.2.0",
      "model_name": "LayoutModel",
      "state": {}
     },
     "79426feb69d64d8f9d7ea0b385f685bf": {
      "model_module": "@jupyter-widgets/controls",
      "model_module_version": "1.5.0",
      "model_name": "ButtonModel",
      "state": {
       "description": "Export Image",
       "layout": "IPY_MODEL_eaab570248c54762871b3007c5482cda",
       "style": "IPY_MODEL_d934ddf890d84e359781d9b906049726"
      }
     },
     "797ec2fc75164315a25ed48fc2b4b70f": {
      "model_module": "@jupyter-widgets/controls",
      "model_module_version": "1.5.0",
      "model_name": "FloatSliderModel",
      "state": {
       "description": "270°",
       "layout": "IPY_MODEL_0ace7604e53a4ea5b06dabce78dca855",
       "max": 1,
       "min": -1,
       "step": 0.01,
       "style": "IPY_MODEL_7574f2771c2b4a9a91eb86e3e14d9b97"
      }
     },
     "79bbff0278a847f1867bc2a2adace180": {
      "model_module": "@jupyter-widgets/controls",
      "model_module_version": "1.5.0",
      "model_name": "FloatSliderModel",
      "state": {
       "description": "0°",
       "layout": "IPY_MODEL_9482bf65c84e4897b0205398b65621c9",
       "max": 1,
       "min": -1,
       "step": 0.01,
       "style": "IPY_MODEL_12465e60cd8a41febb8dd2af83c8cf01"
      }
     },
     "79dbdceda5a247c7a2bfd2fd8407a1b9": {
      "model_module": "@jupyter-widgets/controls",
      "model_module_version": "1.5.0",
      "model_name": "SliderStyleModel",
      "state": {
       "description_width": ""
      }
     },
     "7a264db5a79943c79012f4dd111250da": {
      "model_module": "@jupyter-widgets/base",
      "model_module_version": "1.2.0",
      "model_name": "LayoutModel",
      "state": {}
     },
     "7a3f2854bca34c598ea6405ea063ade5": {
      "model_module": "@jupyter-widgets/controls",
      "model_module_version": "1.5.0",
      "model_name": "SliderStyleModel",
      "state": {
       "description_width": ""
      }
     },
     "7a7405bf27aa485093d192d3d22b0797": {
      "model_module": "@jupyter-widgets/base",
      "model_module_version": "1.2.0",
      "model_name": "LayoutModel",
      "state": {}
     },
     "7a90a52780504116980f4352cc31ed6d": {
      "model_module": "@jupyter-widgets/base",
      "model_module_version": "1.2.0",
      "model_name": "LayoutModel",
      "state": {}
     },
     "7ab616c6291b41a6ab59512335425d83": {
      "model_module": "@jupyter-widgets/base",
      "model_module_version": "1.2.0",
      "model_name": "LayoutModel",
      "state": {}
     },
     "7abf0c45adbe4e44a0f3a0f0dbd5ae5e": {
      "model_module": "@jupyter-widgets/controls",
      "model_module_version": "1.5.0",
      "model_name": "HBoxModel",
      "state": {
       "children": [
        "IPY_MODEL_00299eb925ff4b17b77de240d4caf433",
        "IPY_MODEL_141afdcd963e46b7868bc98e27a9ebe4",
        "IPY_MODEL_b6752f9367cc4af09cb4428ecd357817",
        "IPY_MODEL_112c5f331b6a4d7384b44801d001a8ed"
       ],
       "layout": "IPY_MODEL_e6f69325704d477196296e767c1a0dd2"
      }
     },
     "7b1fb2c9f98948ecaa62eb15974495e6": {
      "model_module": "@jupyter-widgets/base",
      "model_module_version": "1.2.0",
      "model_name": "LayoutModel",
      "state": {}
     },
     "7bf55e30a7f74968b0de7fe9aabaeab5": {
      "model_module": "@jupyter-widgets/controls",
      "model_module_version": "1.5.0",
      "model_name": "FloatSliderModel",
      "state": {
       "description": "Compression Threshold",
       "layout": "IPY_MODEL_18d03375b5c94632b415df4c49eddd40",
       "max": 1,
       "step": 0.01,
       "style": "IPY_MODEL_6c8dcfa941bd44bcb22bf4941565cadf",
       "value": 0.5
      }
     },
     "7c3521e0c39d4beb97782e465c5bd07a": {
      "model_module": "@jupyter-widgets/output",
      "model_module_version": "1.0.0",
      "model_name": "OutputModel",
      "state": {
       "layout": "IPY_MODEL_7e83913919ee41daa9bc540b4d297491",
       "outputs": [
        {
         "data": {
          "application/vnd.jupyter.widget-view+json": {
           "model_id": "91b70cfd08174236869bbef7b932ee43",
           "version_major": 2,
           "version_minor": 0
          },
          "text/plain": "Canvas(toolbar=Toolbar(toolitems=[('Home', 'Reset original view', 'home', 'home'), ('Back', 'Back to previous …"
         },
         "metadata": {},
         "output_type": "display_data"
        }
       ]
      }
     },
     "7c3ccf33c3924da3bf8867c547e5ee9d": {
      "model_module": "@jupyter-widgets/base",
      "model_module_version": "1.2.0",
      "model_name": "LayoutModel",
      "state": {}
     },
     "7c51b62c02ef479990a7f03811adcc03": {
      "model_module": "@jupyter-widgets/controls",
      "model_module_version": "1.5.0",
      "model_name": "HBoxModel",
      "state": {
       "children": [
        "IPY_MODEL_301e2c3479f14752afe7b5980fb9811c",
        "IPY_MODEL_79426feb69d64d8f9d7ea0b385f685bf",
        "IPY_MODEL_e704eaa8537f4ac7a2b1d886520fe815",
        "IPY_MODEL_9111db40dcb14e9e9bb661c256a94ed3"
       ],
       "layout": "IPY_MODEL_208234418447458dad0bad6dc78d58cf"
      }
     },
     "7c58bec03ed145c29eea9f89316d7a11": {
      "model_module": "@jupyter-widgets/base",
      "model_module_version": "1.2.0",
      "model_name": "LayoutModel",
      "state": {}
     },
     "7cb28561f0f34e938b79d7411bd148bc": {
      "model_module": "@jupyter-widgets/base",
      "model_module_version": "1.2.0",
      "model_name": "LayoutModel",
      "state": {}
     },
     "7ccd6cefb5584e47a3b459c6cff845ce": {
      "model_module": "@jupyter-widgets/base",
      "model_module_version": "1.2.0",
      "model_name": "LayoutModel",
      "state": {}
     },
     "7cdf22ba5ca54618a00acd529c0ff90a": {
      "model_module": "@jupyter-widgets/controls",
      "model_module_version": "1.5.0",
      "model_name": "HBoxModel",
      "state": {
       "children": [
        "IPY_MODEL_2cb5ab999fe943d78fea9ab515a9bbb8",
        "IPY_MODEL_21721093acb849418e6f24cb25c8530a",
        "IPY_MODEL_9bc3a596982c4d94814ecc7288b3b27c",
        "IPY_MODEL_22aa78cda0204f4db2298eb5f756d459"
       ],
       "layout": "IPY_MODEL_266f9866509841f18583d625c0b8b504"
      }
     },
     "7cef22a9b28a47028b88a6fa5dfbc512": {
      "model_module": "@jupyter-widgets/controls",
      "model_module_version": "1.5.0",
      "model_name": "SliderStyleModel",
      "state": {
       "description_width": ""
      }
     },
     "7d096b3ed81147d5a9e5fd1c9efe5a57": {
      "model_module": "@jupyter-widgets/base",
      "model_module_version": "1.2.0",
      "model_name": "LayoutModel",
      "state": {
       "border": "solid 4px #222",
       "margin": "4px",
       "padding": "0"
      }
     },
     "7d777de3b89643fd8a4e2d09a35c4ee3": {
      "model_module": "@jupyter-widgets/base",
      "model_module_version": "1.2.0",
      "model_name": "LayoutModel",
      "state": {}
     },
     "7d85513b1b1842699b544f9765437b71": {
      "model_module": "@jupyter-widgets/controls",
      "model_module_version": "1.5.0",
      "model_name": "BoxModel",
      "state": {
       "children": [
        "IPY_MODEL_f2a7c049d3ff49debd3f7ec326343c47",
        "IPY_MODEL_35633cf379884588bc6fb6d5ef120d46"
       ],
       "layout": "IPY_MODEL_45edf8bac0cc4e5296e4afd489400578"
      }
     },
     "7de514620bc142b885564ecadf795217": {
      "model_module": "@jupyter-widgets/controls",
      "model_module_version": "1.5.0",
      "model_name": "ButtonStyleModel",
      "state": {}
     },
     "7e43630c8981499d89f353b807b69617": {
      "model_module": "@jupyter-widgets/base",
      "model_module_version": "1.2.0",
      "model_name": "LayoutModel",
      "state": {}
     },
     "7e83913919ee41daa9bc540b4d297491": {
      "model_module": "@jupyter-widgets/base",
      "model_module_version": "1.2.0",
      "model_name": "LayoutModel",
      "state": {
       "border": "solid 4px #222",
       "margin": "4px",
       "padding": "0"
      }
     },
     "7f0253b185d04784b90da0fc04d1418f": {
      "model_module": "@jupyter-widgets/controls",
      "model_module_version": "1.5.0",
      "model_name": "SliderStyleModel",
      "state": {
       "description_width": ""
      }
     },
     "7f2004879cb04c43ab3d99b25f3914d0": {
      "model_module": "@jupyter-widgets/base",
      "model_module_version": "1.2.0",
      "model_name": "LayoutModel",
      "state": {}
     },
     "7f3ff11cb9504c0299586008801089dd": {
      "model_module": "@jupyter-widgets/controls",
      "model_module_version": "1.5.0",
      "model_name": "ButtonModel",
      "state": {
       "description": "Reset Protected Area",
       "layout": "IPY_MODEL_dba720b180d14a48a57a8f1936cfaa80",
       "style": "IPY_MODEL_978e3ee1d32242d5a93374aa49587a1e"
      }
     },
     "7f626ce599ff4006b5d4f55864f8655e": {
      "model_module": "@jupyter-widgets/base",
      "model_module_version": "1.2.0",
      "model_name": "LayoutModel",
      "state": {}
     },
     "8000ee98e19b4f62a6ec0e6d809a6670": {
      "model_module": "@jupyter-widgets/base",
      "model_module_version": "1.2.0",
      "model_name": "LayoutModel",
      "state": {}
     },
     "8030d748d68141a3a656c4ae68aacb79": {
      "model_module": "@jupyter-widgets/controls",
      "model_module_version": "1.5.0",
      "model_name": "ButtonStyleModel",
      "state": {}
     },
     "8031b9317e2b4e63b0e7ed0510bb8a98": {
      "model_module": "@jupyter-widgets/base",
      "model_module_version": "1.2.0",
      "model_name": "LayoutModel",
      "state": {}
     },
     "808b8c4ccb1a4697b33b547bca50f738": {
      "model_module": "@jupyter-widgets/controls",
      "model_module_version": "1.5.0",
      "model_name": "ButtonStyleModel",
      "state": {}
     },
     "8093d3a5f6264649aa76d7dc0d520492": {
      "model_module": "@jupyter-widgets/controls",
      "model_module_version": "1.5.0",
      "model_name": "VBoxModel",
      "state": {
       "children": [
        "IPY_MODEL_ef6ca612275041df8b1e404e432a65d1"
       ],
       "layout": "IPY_MODEL_b9a30f75e13a457490a671529f12cd7d"
      }
     },
     "80dd6aaabf6449088fb816c90e7919e3": {
      "model_module": "@jupyter-widgets/controls",
      "model_module_version": "1.5.0",
      "model_name": "HBoxModel",
      "state": {
       "children": [
        "IPY_MODEL_033e19ebdef14dea81e7e2388f05dde6",
        "IPY_MODEL_4254a43bd8b641a385708c822aea76cb",
        "IPY_MODEL_6242af265e5749fba161c0241d979e34",
        "IPY_MODEL_c78afa3d871e4903a257bee9609197c9"
       ],
       "layout": "IPY_MODEL_bd08bdbbb4204535bc28672c59e0562f"
      }
     },
     "8108e49dcf694a5396c25a5dceec9511": {
      "model_module": "@jupyter-widgets/controls",
      "model_module_version": "1.5.0",
      "model_name": "DropdownModel",
      "state": {
       "_options_labels": [
        "tanh",
        "atan",
        "simple"
       ],
       "description": "Compression Function:",
       "index": 0,
       "layout": "IPY_MODEL_3f3aeda76901446caa434334cbb3fed8",
       "style": "IPY_MODEL_bbc1b5d1803d4b0fbffda2eb6212657d"
      }
     },
     "812e19adf51e454199734ee6f5323c25": {
      "model_module": "@jupyter-widgets/controls",
      "model_module_version": "1.5.0",
      "model_name": "VBoxModel",
      "state": {
       "children": [
        "IPY_MODEL_e5babd2009e748d88be34914f273a119",
        "IPY_MODEL_5288f71138e8437e93c2852f03b82f57"
       ],
       "layout": "IPY_MODEL_d1208aeca749477791319ce5ade16d9f"
      }
     },
     "813e476fc2144bb7a891b1c953aea016": {
      "model_module": "@jupyter-widgets/controls",
      "model_module_version": "1.5.0",
      "model_name": "FloatSliderModel",
      "state": {
       "description": "270°",
       "layout": "IPY_MODEL_129a373f22f5494e82906c5c5a6a4f76",
       "max": 1,
       "min": -1,
       "step": 0.01,
       "style": "IPY_MODEL_a145ee8bec784794871733ed69ac37b1"
      }
     },
     "8148dc848dc442fbb732da5fb409afcb": {
      "model_module": "@jupyter-widgets/base",
      "model_module_version": "1.2.0",
      "model_name": "LayoutModel",
      "state": {
       "border": "solid 4px #222",
       "margin": "4px",
       "padding": "0"
      }
     },
     "815e49284ae34b13b7f35efb2b8624a7": {
      "model_module": "@jupyter-widgets/controls",
      "model_module_version": "1.5.0",
      "model_name": "FloatSliderModel",
      "state": {
       "description": "225°",
       "layout": "IPY_MODEL_2097c31ca0e04482aab0f2eecd2bbaad",
       "max": 1,
       "min": -1,
       "step": 0.01,
       "style": "IPY_MODEL_feef0d0707f74f01a5ba73ef443daf58"
      }
     },
     "818651c46bf3428f90211056f14a3101": {
      "model_module": "@jupyter-widgets/controls",
      "model_module_version": "1.5.0",
      "model_name": "HBoxModel",
      "state": {
       "children": [
        "IPY_MODEL_5787b4af5a364e58ab3ef67835221a2a",
        "IPY_MODEL_2e00a5a9960343218af0313656b91bc6"
       ],
       "layout": "IPY_MODEL_d7bff56af118482096b9e00f2860a903"
      }
     },
     "818a3d4866594e0e9e6f988de2936143": {
      "model_module": "@jupyter-widgets/base",
      "model_module_version": "1.2.0",
      "model_name": "LayoutModel",
      "state": {}
     },
     "81be539e40cc477f8e501b7a1d6d2bd8": {
      "model_module": "@jupyter-widgets/controls",
      "model_module_version": "1.5.0",
      "model_name": "ButtonStyleModel",
      "state": {}
     },
     "81bfa32dcecd42589a925b9979347759": {
      "model_module": "@jupyter-widgets/controls",
      "model_module_version": "1.5.0",
      "model_name": "DropdownModel",
      "state": {
       "_options_labels": [
        "tanh",
        "atan",
        "simple"
       ],
       "description": "Compression Function:",
       "index": 0,
       "layout": "IPY_MODEL_4120f3d8d55f4f1bbcbafdd838987b8e",
       "style": "IPY_MODEL_b3223a8b8dca4085ac4dbfa567d35c75"
      }
     },
     "824a0e2cdd5b4847bdda79e74bb4658e": {
      "model_module": "jupyter-matplotlib",
      "model_module_version": "^0.7.2",
      "model_name": "ToolbarModel",
      "state": {
       "layout": "IPY_MODEL_6b2f278a43f1461690288f1c57d3ea93",
       "toolitems": [
        [
         "Home",
         "Reset original view",
         "home",
         "home"
        ],
        [
         "Back",
         "Back to previous view",
         "arrow-left",
         "back"
        ],
        [
         "Forward",
         "Forward to next view",
         "arrow-right",
         "forward"
        ],
        [
         "Pan",
         "Pan axes with left mouse, zoom with right",
         "arrows",
         "pan"
        ],
        [
         "Zoom",
         "Zoom to rectangle",
         "square-o",
         "zoom"
        ],
        [
         "Download",
         "Download plot",
         "floppy-o",
         "save_figure"
        ]
       ]
      }
     },
     "826bbe197e654e6a910d2ddacaa580ee": {
      "model_module": "@jupyter-widgets/base",
      "model_module_version": "1.2.0",
      "model_name": "LayoutModel",
      "state": {}
     },
     "8289e048ed4643d2b6a3fab32c89500e": {
      "model_module": "@jupyter-widgets/base",
      "model_module_version": "1.2.0",
      "model_name": "LayoutModel",
      "state": {}
     },
     "82c4f4fcee754b60b0cb6c3bbed87db3": {
      "model_module": "@jupyter-widgets/controls",
      "model_module_version": "1.5.0",
      "model_name": "ButtonStyleModel",
      "state": {}
     },
     "82db1898c1e6438a9c3ed8d8e1c6453a": {
      "model_module": "@jupyter-widgets/base",
      "model_module_version": "1.2.0",
      "model_name": "LayoutModel",
      "state": {}
     },
     "8301cb4ebe8349fb99fbe10c59d02f05": {
      "model_module": "@jupyter-widgets/controls",
      "model_module_version": "1.5.0",
      "model_name": "SliderStyleModel",
      "state": {
       "description_width": ""
      }
     },
     "8315f4709458472ea615670dd849a93d": {
      "model_module": "@jupyter-widgets/controls",
      "model_module_version": "1.5.0",
      "model_name": "SliderStyleModel",
      "state": {
       "description_width": ""
      }
     },
     "83354137bc074bf98c883ae46ebf06a2": {
      "model_module": "@jupyter-widgets/base",
      "model_module_version": "1.2.0",
      "model_name": "LayoutModel",
      "state": {
       "align_items": "stretch",
       "display": "flex",
       "flex_flow": "column",
       "width": "1128px"
      }
     },
     "83b668194c0f4b07ba1d937342b650ec": {
      "model_module": "@jupyter-widgets/base",
      "model_module_version": "1.2.0",
      "model_name": "LayoutModel",
      "state": {}
     },
     "83bd08859402439db71c870d377ad41a": {
      "model_module": "@jupyter-widgets/controls",
      "model_module_version": "1.5.0",
      "model_name": "SliderStyleModel",
      "state": {
       "description_width": ""
      }
     },
     "83d2f8ab29b443cfaf23011f1d608cd5": {
      "model_module": "@jupyter-widgets/controls",
      "model_module_version": "1.5.0",
      "model_name": "HBoxModel",
      "state": {
       "children": [
        "IPY_MODEL_8562eae488ee49d8a33d23f48f0e4667",
        "IPY_MODEL_982fa40219de4b29b133d355e5f98db4",
        "IPY_MODEL_290ab4914545483d851a8a414e17e816"
       ],
       "layout": "IPY_MODEL_22a2b5848aae4951a087794bef9650cd"
      }
     },
     "83df68f8799c40a59cb778c954e7ab49": {
      "model_module": "@jupyter-widgets/base",
      "model_module_version": "1.2.0",
      "model_name": "LayoutModel",
      "state": {}
     },
     "83e067a6d27e45d7b1f6cf71780d3428": {
      "model_module": "@jupyter-widgets/base",
      "model_module_version": "1.2.0",
      "model_name": "LayoutModel",
      "state": {}
     },
     "8438245794a040b8afc96d86390b17f9": {
      "model_module": "@jupyter-widgets/controls",
      "model_module_version": "1.5.0",
      "model_name": "ButtonModel",
      "state": {
       "description": "Reset Protected Area",
       "layout": "IPY_MODEL_0b00e940e165431e9e499bc05587ef0d",
       "style": "IPY_MODEL_563e23b72d3f4835a496b0e715ec51aa"
      }
     },
     "843a09ebbbe042a9a1c219c0a731cacb": {
      "model_module": "@jupyter-widgets/base",
      "model_module_version": "1.2.0",
      "model_name": "LayoutModel",
      "state": {}
     },
     "848bf7e223ee4417bfc72ae524fb5c9c": {
      "model_module": "@jupyter-widgets/controls",
      "model_module_version": "1.5.0",
      "model_name": "ButtonModel",
      "state": {
       "description": "Reset Protected Area",
       "layout": "IPY_MODEL_e02b5e6fe7af42d1baf6d2eb819946a3",
       "style": "IPY_MODEL_66d9c965894840c28ee058d7614cf896"
      }
     },
     "84956eba9c244116a83314534c354172": {
      "model_module": "@jupyter-widgets/controls",
      "model_module_version": "1.5.0",
      "model_name": "FloatSliderModel",
      "state": {
       "description": "315°",
       "layout": "IPY_MODEL_892144a0f27a4d2d87fbd8a9882f7895",
       "max": 1,
       "min": -1,
       "step": 0.01,
       "style": "IPY_MODEL_2757a34742e447baa524cc22814b04f4"
      }
     },
     "84ed7fc3e36141b9999ec70ee5cfe000": {
      "model_module": "@jupyter-widgets/controls",
      "model_module_version": "1.5.0",
      "model_name": "VBoxModel",
      "state": {
       "children": [
        "IPY_MODEL_c9fa492c036b4eeebabab22213c93bd4",
        "IPY_MODEL_435c3d9372e742088f61709e18d9aba4"
       ],
       "layout": "IPY_MODEL_83b668194c0f4b07ba1d937342b650ec"
      }
     },
     "84fa44c34bf2406bafe795b14750519a": {
      "model_module": "@jupyter-widgets/base",
      "model_module_version": "1.2.0",
      "model_name": "LayoutModel",
      "state": {}
     },
     "851d70c135ae4da193fc3a2c571d2acf": {
      "model_module": "@jupyter-widgets/controls",
      "model_module_version": "1.5.0",
      "model_name": "ButtonModel",
      "state": {
       "description": "Reset Saturation Controls",
       "layout": "IPY_MODEL_ab4c8c565f414391a43419373e3964f0",
       "style": "IPY_MODEL_fdba87418feb44b2963884ec57b19c36"
      }
     },
     "8522268d3e674012a426fdbb43a84dd9": {
      "model_module": "@jupyter-widgets/controls",
      "model_module_version": "1.5.0",
      "model_name": "BoxModel",
      "state": {
       "children": [
        "IPY_MODEL_c2b71afce65f48bf9c5e7340237ed839",
        "IPY_MODEL_0f7e2e2cecd3478ca40dbd42707d89a1"
       ],
       "layout": "IPY_MODEL_e1b51c6abebc4e3cafaae21665a71ebb"
      }
     },
     "8560821b1df1458f9950586d7ded6c59": {
      "model_module": "@jupyter-widgets/controls",
      "model_module_version": "1.5.0",
      "model_name": "FloatSliderModel",
      "state": {
       "description": "180°",
       "layout": "IPY_MODEL_9f612c1733ba49de8f0d950572dc2a25",
       "max": 1,
       "min": -1,
       "step": 0.01,
       "style": "IPY_MODEL_df5db98f40034b24ad05d9969a5b32d6"
      }
     },
     "8562eae488ee49d8a33d23f48f0e4667": {
      "model_module": "@jupyter-widgets/controls",
      "model_module_version": "1.5.0",
      "model_name": "ButtonModel",
      "state": {
       "description": "Reset Compression Controls",
       "layout": "IPY_MODEL_7680b09a9ef849b494e3597e55b13d29",
       "style": "IPY_MODEL_eebd4b4754cd424eac3bb3aba77bedbe"
      }
     },
     "85645f7e21874239b31bc5c83eff0229": {
      "model_module": "@jupyter-widgets/controls",
      "model_module_version": "1.5.0",
      "model_name": "SliderStyleModel",
      "state": {
       "description_width": ""
      }
     },
     "856d01381b1f406cbb546848268dbd26": {
      "model_module": "@jupyter-widgets/base",
      "model_module_version": "1.2.0",
      "model_name": "LayoutModel",
      "state": {}
     },
     "858988df8d7c4663ac65b2110dd1e50b": {
      "model_module": "@jupyter-widgets/controls",
      "model_module_version": "1.5.0",
      "model_name": "ButtonModel",
      "state": {
       "description": "Export Image",
       "layout": "IPY_MODEL_2478de8efce44dcd95feb2b95306edd8",
       "style": "IPY_MODEL_f7da2c8391374d4a837df17c53e6d40e"
      }
     },
     "85a80227696444aeb203c75b81e7e0a9": {
      "model_module": "@jupyter-widgets/base",
      "model_module_version": "1.2.0",
      "model_name": "LayoutModel",
      "state": {
       "border": "solid 4px #222",
       "margin": "4px",
       "padding": "0"
      }
     },
     "85bf55773be74472a3f1aa0273f4b5df": {
      "model_module": "@jupyter-widgets/base",
      "model_module_version": "1.2.0",
      "model_name": "LayoutModel",
      "state": {}
     },
     "85c727d98df9405d8cc28f051d52e753": {
      "model_module": "@jupyter-widgets/controls",
      "model_module_version": "1.5.0",
      "model_name": "SliderStyleModel",
      "state": {
       "description_width": ""
      }
     },
     "85ec5040d41d40b8a15e12594cfac700": {
      "model_module": "@jupyter-widgets/base",
      "model_module_version": "1.2.0",
      "model_name": "LayoutModel",
      "state": {}
     },
     "86007f4cd86644e9bda616d38c5690ab": {
      "model_module": "@jupyter-widgets/controls",
      "model_module_version": "1.5.0",
      "model_name": "SliderStyleModel",
      "state": {
       "description_width": ""
      }
     },
     "86032975aeb94121808cc77082cf240c": {
      "model_module": "@jupyter-widgets/controls",
      "model_module_version": "1.5.0",
      "model_name": "ButtonStyleModel",
      "state": {}
     },
     "86176df11e9840d89bd25f903834852e": {
      "model_module": "@jupyter-widgets/controls",
      "model_module_version": "1.5.0",
      "model_name": "ButtonStyleModel",
      "state": {}
     },
     "8647412aca4e44aa9c6db342e01f563d": {
      "model_module": "@jupyter-widgets/base",
      "model_module_version": "1.2.0",
      "model_name": "LayoutModel",
      "state": {}
     },
     "866e367dc75b4daf891e217d58049923": {
      "model_module": "@jupyter-widgets/base",
      "model_module_version": "1.2.0",
      "model_name": "LayoutModel",
      "state": {}
     },
     "86945d61e8fc4cd6922b87a30784bf63": {
      "model_module": "jupyter-matplotlib",
      "model_module_version": "^0.7.2",
      "model_name": "ToolbarModel",
      "state": {
       "layout": "IPY_MODEL_8b0aa4a1a83e44c1ac8722fe2c60f891",
       "toolitems": [
        [
         "Home",
         "Reset original view",
         "home",
         "home"
        ],
        [
         "Back",
         "Back to previous view",
         "arrow-left",
         "back"
        ],
        [
         "Forward",
         "Forward to next view",
         "arrow-right",
         "forward"
        ],
        [
         "Pan",
         "Pan axes with left mouse, zoom with right",
         "arrows",
         "pan"
        ],
        [
         "Zoom",
         "Zoom to rectangle",
         "square-o",
         "zoom"
        ],
        [
         "Download",
         "Download plot",
         "floppy-o",
         "save_figure"
        ]
       ]
      }
     },
     "86feb03bb24f47dba0c9a12aa39db56b": {
      "model_module": "@jupyter-widgets/base",
      "model_module_version": "1.2.0",
      "model_name": "LayoutModel",
      "state": {}
     },
     "8700b878e8324e34ab770289e942337c": {
      "model_module": "@jupyter-widgets/base",
      "model_module_version": "1.2.0",
      "model_name": "LayoutModel",
      "state": {}
     },
     "8724b4f276df425ebf1079df35457208": {
      "model_module": "@jupyter-widgets/base",
      "model_module_version": "1.2.0",
      "model_name": "LayoutModel",
      "state": {}
     },
     "874bfc0594c6415dbdf85a078b13afc4": {
      "model_module": "@jupyter-widgets/controls",
      "model_module_version": "1.5.0",
      "model_name": "SliderStyleModel",
      "state": {
       "description_width": ""
      }
     },
     "8750bf7573dd4ec6b2e43dae0206e612": {
      "model_module": "@jupyter-widgets/controls",
      "model_module_version": "1.5.0",
      "model_name": "FloatSliderModel",
      "state": {
       "description": "Exposure",
       "layout": "IPY_MODEL_866e367dc75b4daf891e217d58049923",
       "max": 8,
       "min": -8,
       "step": 0.1,
       "style": "IPY_MODEL_27be0ac59f044fa596a1d979eb388ec9"
      }
     },
     "8752bae643d348128c384674cd927644": {
      "model_module": "@jupyter-widgets/base",
      "model_module_version": "1.2.0",
      "model_name": "LayoutModel",
      "state": {}
     },
     "8756f4dfa48f4150afd98ddf9805e335": {
      "model_module": "@jupyter-widgets/controls",
      "model_module_version": "1.5.0",
      "model_name": "CheckboxModel",
      "state": {
       "description": "Disable Medicina",
       "disabled": false,
       "layout": "IPY_MODEL_673992ec60394ca0aa997191303583a0",
       "style": "IPY_MODEL_309d94829bac4b59b0a9904de7b9a7ac",
       "value": false
      }
     },
     "8773495dbf154030ae35a6258be5642a": {
      "model_module": "@jupyter-widgets/base",
      "model_module_version": "1.2.0",
      "model_name": "LayoutModel",
      "state": {}
     },
     "87b86170007047c5baad12dad22fad20": {
      "model_module": "@jupyter-widgets/base",
      "model_module_version": "1.2.0",
      "model_name": "LayoutModel",
      "state": {}
     },
     "87bbc846f9dc4da7b57888a53626f346": {
      "model_module": "jupyter-matplotlib",
      "model_module_version": "^0.7.2",
      "model_name": "MPLCanvasModel",
      "state": {
       "_figure_label": "Figure 15",
       "_height": 430,
       "_image_mode": "diff",
       "_message": "x= y= [1, 0, 0.254]",
       "_width": 1099,
       "header_visible": false,
       "layout": "IPY_MODEL_37f80f1193ad4266a285dc7f8dcb52e6",
       "resizable": false,
       "toolbar": "IPY_MODEL_3ca8e699bc4249a8b3080b8c0e78bfa5",
       "toolbar_position": "left",
       "toolbar_visible": false
      }
     },
     "87f9955f11e2477dadb826ec1385af35": {
      "model_module": "@jupyter-widgets/base",
      "model_module_version": "1.2.0",
      "model_name": "LayoutModel",
      "state": {}
     },
     "88297205fcef49aba9b3e500054c6749": {
      "model_module": "@jupyter-widgets/controls",
      "model_module_version": "1.5.0",
      "model_name": "FloatSliderModel",
      "state": {
       "description": "315°",
       "layout": "IPY_MODEL_4a4d7047ad5541859a86734da5796769",
       "max": 1,
       "min": -1,
       "step": 0.01,
       "style": "IPY_MODEL_c20d5d289b60469bb5c0dc7cb07ba00b"
      }
     },
     "888b630593954aaba3432cc5b0e0b65e": {
      "model_module": "@jupyter-widgets/controls",
      "model_module_version": "1.5.0",
      "model_name": "FloatSliderModel",
      "state": {
       "description": "Compression Threshold",
       "layout": "IPY_MODEL_056e9b905d1e481c8631b4218d4b858f",
       "max": 1,
       "step": 0.01,
       "style": "IPY_MODEL_8c053333eb074ace96c909d9bc3ecf1d",
       "value": 0.8
      }
     },
     "88fd2ba03fc7439c9ef121065681c4cf": {
      "model_module": "@jupyter-widgets/controls",
      "model_module_version": "1.5.0",
      "model_name": "FloatSliderModel",
      "state": {
       "description": "135°",
       "layout": "IPY_MODEL_d871a78ce682430dbefc1ec6f3336244",
       "max": 1,
       "min": -1,
       "step": 0.01,
       "style": "IPY_MODEL_0b94986e06c34a2789f2ee4490b625f4"
      }
     },
     "892144a0f27a4d2d87fbd8a9882f7895": {
      "model_module": "@jupyter-widgets/base",
      "model_module_version": "1.2.0",
      "model_name": "LayoutModel",
      "state": {}
     },
     "89af6f1adb3f4844be7322d10b6bdb4b": {
      "model_module": "@jupyter-widgets/base",
      "model_module_version": "1.2.0",
      "model_name": "LayoutModel",
      "state": {}
     },
     "89d2043f86754ee097b3c6704f94ea62": {
      "model_module": "@jupyter-widgets/base",
      "model_module_version": "1.2.0",
      "model_name": "LayoutModel",
      "state": {}
     },
     "8a188dd916834a5e9671281c309c129e": {
      "model_module": "@jupyter-widgets/controls",
      "model_module_version": "1.5.0",
      "model_name": "VBoxModel",
      "state": {
       "children": [
        "IPY_MODEL_e2b70ac9e14f48c0b6755207d00b437c",
        "IPY_MODEL_34f4b6ffd41844a39fd555a488800549",
        "IPY_MODEL_35073253d095435ab5700c6bc2bc0699"
       ],
       "layout": "IPY_MODEL_0f3d784697444d28a8be60f31980c080"
      }
     },
     "8ac49888eea446b1b31b1c843a5e1d61": {
      "model_module": "@jupyter-widgets/base",
      "model_module_version": "1.2.0",
      "model_name": "LayoutModel",
      "state": {
       "border": "solid 4px #222",
       "margin": "4px",
       "padding": "0"
      }
     },
     "8acdc51c2932487a8baab6562d350b24": {
      "model_module": "@jupyter-widgets/base",
      "model_module_version": "1.2.0",
      "model_name": "LayoutModel",
      "state": {
       "border": "solid 4px #222",
       "margin": "4px",
       "padding": "0"
      }
     },
     "8af494459a9243cf8894e199f45129d6": {
      "model_module": "@jupyter-widgets/base",
      "model_module_version": "1.2.0",
      "model_name": "LayoutModel",
      "state": {}
     },
     "8b0aa4a1a83e44c1ac8722fe2c60f891": {
      "model_module": "@jupyter-widgets/base",
      "model_module_version": "1.2.0",
      "model_name": "LayoutModel",
      "state": {}
     },
     "8b3a8727779e47b9a9aac19a2d449164": {
      "model_module": "@jupyter-widgets/controls",
      "model_module_version": "1.5.0",
      "model_name": "FloatSliderModel",
      "state": {
       "description": "90°",
       "layout": "IPY_MODEL_c58e438461ca4f4a98eb6046fb77c3f4",
       "max": 1,
       "min": -1,
       "step": 0.01,
       "style": "IPY_MODEL_85c727d98df9405d8cc28f051d52e753"
      }
     },
     "8b85dd1560d84e3f8bd7260e8dd5607e": {
      "model_module": "@jupyter-widgets/controls",
      "model_module_version": "1.5.0",
      "model_name": "FloatSliderModel",
      "state": {
       "description": "315°",
       "layout": "IPY_MODEL_40ecb8f744b849218ac0c2454bd5eaa4",
       "max": 1,
       "min": -1,
       "step": 0.01,
       "style": "IPY_MODEL_27bbf478c82f4647834c5ad0f1f835f9"
      }
     },
     "8b8e6ca9a2094016b2c1a78f6897edb2": {
      "model_module": "@jupyter-widgets/base",
      "model_module_version": "1.2.0",
      "model_name": "LayoutModel",
      "state": {}
     },
     "8bc6c67b6f8b49a1b0c7d26507ff5a73": {
      "model_module": "jupyter-matplotlib",
      "model_module_version": "^0.7.2",
      "model_name": "ToolbarModel",
      "state": {
       "layout": "IPY_MODEL_e5944d8d1a7b4c869c14a9a901d82ac9",
       "toolitems": [
        [
         "Home",
         "Reset original view",
         "home",
         "home"
        ],
        [
         "Back",
         "Back to previous view",
         "arrow-left",
         "back"
        ],
        [
         "Forward",
         "Forward to next view",
         "arrow-right",
         "forward"
        ],
        [
         "Pan",
         "Pan axes with left mouse, zoom with right",
         "arrows",
         "pan"
        ],
        [
         "Zoom",
         "Zoom to rectangle",
         "square-o",
         "zoom"
        ],
        [
         "Download",
         "Download plot",
         "floppy-o",
         "save_figure"
        ]
       ]
      }
     },
     "8c053333eb074ace96c909d9bc3ecf1d": {
      "model_module": "@jupyter-widgets/controls",
      "model_module_version": "1.5.0",
      "model_name": "SliderStyleModel",
      "state": {
       "description_width": ""
      }
     },
     "8c757b39fe5749c1bd195d99d51d56a3": {
      "model_module": "@jupyter-widgets/controls",
      "model_module_version": "1.5.0",
      "model_name": "FloatSliderModel",
      "state": {
       "description": "90°",
       "layout": "IPY_MODEL_15dc8e33b9d945808d827c0dcd00b1e9",
       "max": 1,
       "min": -1,
       "step": 0.01,
       "style": "IPY_MODEL_47dea39afc16462ebddf36a4f57288bd"
      }
     },
     "8ca7b71fce984438900a1ae37c06f54e": {
      "model_module": "@jupyter-widgets/controls",
      "model_module_version": "1.5.0",
      "model_name": "FloatSliderModel",
      "state": {
       "description": "Compression Threshold",
       "layout": "IPY_MODEL_c3623b55558f42eca74ba906e48f0fdc",
       "max": 1,
       "step": 0.01,
       "style": "IPY_MODEL_f1f05edddb734e1399a4c48ef03a9826",
       "value": 0.8
      }
     },
     "8cebf6e2c97042239098dd72cff65f57": {
      "model_module": "@jupyter-widgets/controls",
      "model_module_version": "1.5.0",
      "model_name": "HBoxModel",
      "state": {
       "children": [
        "IPY_MODEL_9630ef27a9864c0f833c0f15a090b757",
        "IPY_MODEL_f9582d07413d4ff5bbaaed467abb9091"
       ],
       "layout": "IPY_MODEL_c43ce2d9627143a8a503a9f93fd08560"
      }
     },
     "8d23189dc4ab4f16962625190d972419": {
      "model_module": "@jupyter-widgets/controls",
      "model_module_version": "1.5.0",
      "model_name": "HBoxModel",
      "state": {
       "children": [
        "IPY_MODEL_1e5a37fdaa4148c996904d5114d1093c",
        "IPY_MODEL_ca6257e77a4f4363a1b266f3e17cbf93"
       ],
       "layout": "IPY_MODEL_b2b83a6f94634c108fd7438b570ed26b"
      }
     },
     "8d558afc05334b2097586d5090f864d1": {
      "model_module": "@jupyter-widgets/controls",
      "model_module_version": "1.5.0",
      "model_name": "FloatSliderModel",
      "state": {
       "description": "225°",
       "layout": "IPY_MODEL_4880383fa4b94b2baf89457118d8f5c4",
       "max": 1,
       "min": -1,
       "step": 0.01,
       "style": "IPY_MODEL_b7a1615aca154bb38c8c7c176952fe48"
      }
     },
     "8d5acbdf39cf40e4a91c023467a26d2f": {
      "model_module": "@jupyter-widgets/base",
      "model_module_version": "1.2.0",
      "model_name": "LayoutModel",
      "state": {}
     },
     "8d91f98ed02b49afb7ac5a8f39d0fd13": {
      "model_module": "@jupyter-widgets/controls",
      "model_module_version": "1.5.0",
      "model_name": "ButtonModel",
      "state": {
       "description": "Save Figure",
       "layout": "IPY_MODEL_a9423120de7540ffa9bd9cce2c509ff3",
       "style": "IPY_MODEL_28d0fe7f7e8c4dfeb64d68c8b6ae7bad"
      }
     },
     "8daf52512f434d9ba30fb17b711cdddf": {
      "model_module": "@jupyter-widgets/base",
      "model_module_version": "1.2.0",
      "model_name": "LayoutModel",
      "state": {}
     },
     "8de38ffec6e34da993f06422dc8b7de3": {
      "model_module": "@jupyter-widgets/base",
      "model_module_version": "1.2.0",
      "model_name": "LayoutModel",
      "state": {
       "border": "solid 4px #222",
       "margin": "4px",
       "padding": "0"
      }
     },
     "8df15232d0714377a0464b2e832beb9a": {
      "model_module": "@jupyter-widgets/controls",
      "model_module_version": "1.5.0",
      "model_name": "ButtonModel",
      "state": {
       "description": "Reset Saturation Controls",
       "layout": "IPY_MODEL_da8e94540e954e9e98820308e87e1f93",
       "style": "IPY_MODEL_da892cb3002848d6bdb53dbbb4078e42"
      }
     },
     "8e001ed5c38f4ecab27784fe70b659e9": {
      "model_module": "@jupyter-widgets/controls",
      "model_module_version": "1.5.0",
      "model_name": "VBoxModel",
      "state": {
       "children": [
        "IPY_MODEL_ec8d55a8379d45c390e5cb46a17b0e61",
        "IPY_MODEL_9ee26fd3265949b9855ec5a53764d819",
        "IPY_MODEL_f1bb053ed0034cab879d2b2873b8cc6a"
       ],
       "layout": "IPY_MODEL_4c71b6201bc54f08864a6df94346b5e6"
      }
     },
     "8e24d02ec3b74bf185b826a0c4f0152f": {
      "model_module": "@jupyter-widgets/controls",
      "model_module_version": "1.5.0",
      "model_name": "ButtonModel",
      "state": {
       "description": "Reset Compression Controls",
       "layout": "IPY_MODEL_59a649bee8ed4ec9a5c798aaf1c9d6b6",
       "style": "IPY_MODEL_22ebf556f9b04d62a98e4e70c2c2d3af"
      }
     },
     "8e6d11cc42b64c728fe748cbe2bdb71d": {
      "model_module": "@jupyter-widgets/base",
      "model_module_version": "1.2.0",
      "model_name": "LayoutModel",
      "state": {}
     },
     "8e7ad04bd8e44df8b6604a5706584a24": {
      "model_module": "@jupyter-widgets/base",
      "model_module_version": "1.2.0",
      "model_name": "LayoutModel",
      "state": {}
     },
     "8edd81e8f58b4fda82ff5a7ca2fdbca5": {
      "model_module": "@jupyter-widgets/controls",
      "model_module_version": "1.5.0",
      "model_name": "SliderStyleModel",
      "state": {
       "description_width": ""
      }
     },
     "8f2fb87579ad4ed7be72af7c0f1086c3": {
      "model_module": "@jupyter-widgets/controls",
      "model_module_version": "1.5.0",
      "model_name": "SliderStyleModel",
      "state": {
       "description_width": ""
      }
     },
     "8f760bd952e94148a91e4c854ce32784": {
      "model_module": "@jupyter-widgets/base",
      "model_module_version": "1.2.0",
      "model_name": "LayoutModel",
      "state": {}
     },
     "8f8fff04a2ed4fafa7ca01179bafc5a7": {
      "model_module": "@jupyter-widgets/controls",
      "model_module_version": "1.5.0",
      "model_name": "FloatSliderModel",
      "state": {
       "description": "Compression Threshold",
       "layout": "IPY_MODEL_92d7d0e1716c41ea9b8f001da0d12e3d",
       "max": 1,
       "step": 0.01,
       "style": "IPY_MODEL_1f5156a62ac6476c8b3fe8cbf7cbf2d3",
       "value": 0.8
      }
     },
     "8fa2d6ef673d4f7481f55665bf5b8b34": {
      "model_module": "@jupyter-widgets/controls",
      "model_module_version": "1.5.0",
      "model_name": "SliderStyleModel",
      "state": {
       "description_width": ""
      }
     },
     "8fcf70b0eba24a51835a598427436274": {
      "model_module": "@jupyter-widgets/base",
      "model_module_version": "1.2.0",
      "model_name": "LayoutModel",
      "state": {}
     },
     "8fe353d009024b37b3317aa8b863be76": {
      "model_module": "@jupyter-widgets/controls",
      "model_module_version": "1.5.0",
      "model_name": "HBoxModel",
      "state": {
       "children": [
        "IPY_MODEL_69e994eba8af40988386bdf15443f0e4",
        "IPY_MODEL_39fa9653eede43b4a1a86bba62ed9b57",
        "IPY_MODEL_cc0ad5696f024f18a1b200cd8e1ceedc",
        "IPY_MODEL_8750bf7573dd4ec6b2e43dae0206e612"
       ],
       "layout": "IPY_MODEL_20668408d1154b549535956b284768e7"
      }
     },
     "8fec6b90bbe5415e8030c216b2fcb752": {
      "model_module": "@jupyter-widgets/controls",
      "model_module_version": "1.5.0",
      "model_name": "FloatSliderModel",
      "state": {
       "description": "90°",
       "layout": "IPY_MODEL_4a6e1ba7766145c6821a3e9e3f96eaf5",
       "max": 1,
       "min": -1,
       "step": 0.01,
       "style": "IPY_MODEL_c3a10551b7d9494f9c400886398b5566"
      }
     },
     "8ff2a6e22b1e49fe9960d77a0ecfb224": {
      "model_module": "@jupyter-widgets/controls",
      "model_module_version": "1.5.0",
      "model_name": "SliderStyleModel",
      "state": {
       "description_width": ""
      }
     },
     "90b0bf9da9f9486c88552104f61cbc31": {
      "model_module": "@jupyter-widgets/base",
      "model_module_version": "1.2.0",
      "model_name": "LayoutModel",
      "state": {}
     },
     "9111db40dcb14e9e9bb661c256a94ed3": {
      "model_module": "@jupyter-widgets/controls",
      "model_module_version": "1.5.0",
      "model_name": "FloatSliderModel",
      "state": {
       "description": "Exposure",
       "layout": "IPY_MODEL_6290eefbfdec4608a96de69e788c0bb0",
       "max": 8,
       "min": -8,
       "step": 0.1,
       "style": "IPY_MODEL_d146f806f26c42e5ad53f03a3eaf0240"
      }
     },
     "9143bd21582d4ee7899c84a9e45b7fc3": {
      "model_module": "@jupyter-widgets/controls",
      "model_module_version": "1.5.0",
      "model_name": "SliderStyleModel",
      "state": {
       "description_width": ""
      }
     },
     "91797d6ccdb34f10b8637e76c70d106b": {
      "model_module": "@jupyter-widgets/controls",
      "model_module_version": "1.5.0",
      "model_name": "ButtonStyleModel",
      "state": {}
     },
     "9182fb8cdce24215adb61bb909564408": {
      "model_module": "@jupyter-widgets/controls",
      "model_module_version": "1.5.0",
      "model_name": "HBoxModel",
      "state": {
       "children": [
        "IPY_MODEL_3c9cad04e9d743aca394a7336c828a3f",
        "IPY_MODEL_0f6d1fb1426f4b2fab95640ae9f15c20",
        "IPY_MODEL_8e001ed5c38f4ecab27784fe70b659e9",
        "IPY_MODEL_84ed7fc3e36141b9999ec70ee5cfe000"
       ],
       "layout": "IPY_MODEL_6b036aee80f240b59f1b2900525255f5"
      }
     },
     "9188a2dce3904d74b391c519e3120e98": {
      "model_module": "@jupyter-widgets/base",
      "model_module_version": "1.2.0",
      "model_name": "LayoutModel",
      "state": {}
     },
     "91b70cfd08174236869bbef7b932ee43": {
      "model_module": "jupyter-matplotlib",
      "model_module_version": "^0.7.2",
      "model_name": "MPLCanvasModel",
      "state": {
       "_figure_label": "Figure 7",
       "_height": 508,
       "_image_mode": "diff",
       "_message": "x=910.62       y=141.748      [0.442, 0.332, 0.621]",
       "_width": 1100,
       "header_visible": false,
       "layout": "IPY_MODEL_f72335452a2f498fa4ed3f6be17b8628",
       "resizable": false,
       "toolbar": "IPY_MODEL_289a629a53bb43ee9b596c5f43171796",
       "toolbar_position": "left",
       "toolbar_visible": false
      }
     },
     "91f0c4f5553848cd8c9bd6c1566e737b": {
      "model_module": "@jupyter-widgets/controls",
      "model_module_version": "1.5.0",
      "model_name": "TabModel",
      "state": {
       "_titles": {
        "0": "Global Controls",
        "1": "Compression Controls"
       },
       "children": [
        "IPY_MODEL_c447f332c9224bbba9813037533d20e0",
        "IPY_MODEL_25f212971d6644b5aca83f3ffba937eb"
       ],
       "layout": "IPY_MODEL_e39eeff9112b4608b781fce0ff8a4b25"
      }
     },
     "9207933d56b140deaaae2b1e00d946d5": {
      "model_module": "@jupyter-widgets/controls",
      "model_module_version": "1.5.0",
      "model_name": "SliderStyleModel",
      "state": {
       "description_width": ""
      }
     },
     "92103b8d1c17477db58cb5801bfb7ec8": {
      "model_module": "@jupyter-widgets/controls",
      "model_module_version": "1.5.0",
      "model_name": "FloatSliderModel",
      "state": {
       "description": "45°",
       "layout": "IPY_MODEL_d3c748139d6440adb917d99aa9537f34",
       "max": 1,
       "min": -1,
       "step": 0.01,
       "style": "IPY_MODEL_62931e339a6a44a5b35ccb6d52edea71"
      }
     },
     "92ac61e8fe0d451fa8d1ac3403d52ea6": {
      "model_module": "jupyter-matplotlib",
      "model_module_version": "^0.7.2",
      "model_name": "MPLCanvasModel",
      "state": {
       "_figure_label": "Figure 5",
       "_height": 1100,
       "_width": 1100,
       "layout": "IPY_MODEL_72494290bc4244e29f67f7e15b602398",
       "toolbar": "IPY_MODEL_dad2692160e4481097d46ce9da20b001",
       "toolbar_position": "left"
      }
     },
     "92bd96d3d3784b34bdf61817bb3994c3": {
      "model_module": "@jupyter-widgets/base",
      "model_module_version": "1.2.0",
      "model_name": "LayoutModel",
      "state": {}
     },
     "92d7d0e1716c41ea9b8f001da0d12e3d": {
      "model_module": "@jupyter-widgets/base",
      "model_module_version": "1.2.0",
      "model_name": "LayoutModel",
      "state": {}
     },
     "9310f00048fc4439b43a30801d3438f9": {
      "model_module": "@jupyter-widgets/base",
      "model_module_version": "1.2.0",
      "model_name": "LayoutModel",
      "state": {}
     },
     "93344ee5715341f69fd79fdbad2509de": {
      "model_module": "@jupyter-widgets/base",
      "model_module_version": "1.2.0",
      "model_name": "LayoutModel",
      "state": {}
     },
     "93457466a3c04c15bcdfeeaaab5f95e5": {
      "model_module": "@jupyter-widgets/output",
      "model_module_version": "1.0.0",
      "model_name": "OutputModel",
      "state": {
       "layout": "IPY_MODEL_b21c041186314be4a8ef2b0a0bedf123",
       "outputs": [
        {
         "data": {
          "application/vnd.jupyter.widget-view+json": {
           "model_id": "f222fc22c7ec43cfaf49bccb671e2272",
           "version_major": 2,
           "version_minor": 0
          },
          "text/plain": "Canvas(toolbar=Toolbar(toolitems=[('Home', 'Reset original view', 'home', 'home'), ('Back', 'Back to previous …"
         },
         "metadata": {},
         "output_type": "display_data"
        }
       ]
      }
     },
     "93cbb4d7a9e648e6b2624c241deae3db": {
      "model_module": "@jupyter-widgets/base",
      "model_module_version": "1.2.0",
      "model_name": "LayoutModel",
      "state": {}
     },
     "94166529097a44b58a63e6a1ecf8853a": {
      "model_module": "@jupyter-widgets/base",
      "model_module_version": "1.2.0",
      "model_name": "LayoutModel",
      "state": {}
     },
     "9457046c120d44bbb72828a889b41f2a": {
      "model_module": "@jupyter-widgets/base",
      "model_module_version": "1.2.0",
      "model_name": "LayoutModel",
      "state": {}
     },
     "9482bf65c84e4897b0205398b65621c9": {
      "model_module": "@jupyter-widgets/base",
      "model_module_version": "1.2.0",
      "model_name": "LayoutModel",
      "state": {}
     },
     "9485e518deb5449babeaebcf6e06236f": {
      "model_module": "@jupyter-widgets/controls",
      "model_module_version": "1.5.0",
      "model_name": "FloatSliderModel",
      "state": {
       "description": "180°",
       "layout": "IPY_MODEL_61acc5bd79e346cf9d232ec2a1a18a51",
       "max": 1,
       "min": -1,
       "step": 0.01,
       "style": "IPY_MODEL_30a5f1d55d2748febb4032b896141672"
      }
     },
     "948cae22bbc24a1c9e35abc74d456863": {
      "model_module": "@jupyter-widgets/base",
      "model_module_version": "1.2.0",
      "model_name": "LayoutModel",
      "state": {
       "align_items": "stretch",
       "display": "flex",
       "flex_flow": "column",
       "width": "1128px"
      }
     },
     "94d3d3c36c6446028cacdc477834b4e5": {
      "model_module": "@jupyter-widgets/controls",
      "model_module_version": "1.5.0",
      "model_name": "SliderStyleModel",
      "state": {
       "description_width": ""
      }
     },
     "94ef5db6f1a44840b20e24ed55a57f54": {
      "model_module": "@jupyter-widgets/base",
      "model_module_version": "1.2.0",
      "model_name": "LayoutModel",
      "state": {}
     },
     "94f5e32dcc1247c5ad16605c1752473c": {
      "model_module": "@jupyter-widgets/base",
      "model_module_version": "1.2.0",
      "model_name": "LayoutModel",
      "state": {}
     },
     "952fc76154284115a560988967e6ae5f": {
      "model_module": "@jupyter-widgets/controls",
      "model_module_version": "1.5.0",
      "model_name": "FloatSliderModel",
      "state": {
       "description": "45°",
       "layout": "IPY_MODEL_2d4ef255b4b341028bdc2e438a10c948",
       "max": 1,
       "min": -1,
       "step": 0.01,
       "style": "IPY_MODEL_8301cb4ebe8349fb99fbe10c59d02f05"
      }
     },
     "9561e992f12748bba3bd54b48ca176ac": {
      "model_module": "@jupyter-widgets/base",
      "model_module_version": "1.2.0",
      "model_name": "LayoutModel",
      "state": {}
     },
     "95a47dfec85e4abebfb3cb9c02db06d8": {
      "model_module": "@jupyter-widgets/controls",
      "model_module_version": "1.5.0",
      "model_name": "SliderStyleModel",
      "state": {
       "description_width": ""
      }
     },
     "95ba7f6d8d8f41c69ac56a32620e9cb6": {
      "model_module": "@jupyter-widgets/controls",
      "model_module_version": "1.5.0",
      "model_name": "SliderStyleModel",
      "state": {
       "description_width": ""
      }
     },
     "95e89ae717ef404b9d02c4ef6939f457": {
      "model_module": "@jupyter-widgets/controls",
      "model_module_version": "1.5.0",
      "model_name": "ButtonModel",
      "state": {
       "description": "Reset Hue Controls",
       "layout": "IPY_MODEL_da4dd0952dd34d77aa83244d5aa34394",
       "style": "IPY_MODEL_d349c6e615764e7ca794ad3222427e7e"
      }
     },
     "9630ef27a9864c0f833c0f15a090b757": {
      "model_module": "@jupyter-widgets/controls",
      "model_module_version": "1.5.0",
      "model_name": "ButtonModel",
      "state": {
       "description": "Reset Protected Area",
       "layout": "IPY_MODEL_1c1906257d3342a981487a1afeda0a04",
       "style": "IPY_MODEL_be37c0b4f1914db79363284a3b80b522"
      }
     },
     "9646ed35abfb41a4ab775bdd9bce8d14": {
      "model_module": "@jupyter-widgets/controls",
      "model_module_version": "1.5.0",
      "model_name": "FloatSliderModel",
      "state": {
       "description": "180°",
       "layout": "IPY_MODEL_1838e0a138414463a1b60e46684260c5",
       "max": 1,
       "min": -1,
       "step": 0.01,
       "style": "IPY_MODEL_83bd08859402439db71c870d377ad41a"
      }
     },
     "968b1a492fc541bcb44a109f334ca3f5": {
      "model_module": "@jupyter-widgets/controls",
      "model_module_version": "1.5.0",
      "model_name": "ButtonModel",
      "state": {
       "description": "Reset Saturation Controls",
       "layout": "IPY_MODEL_a203433001244383becaf4ef453e889b",
       "style": "IPY_MODEL_d604436052c24324b2ad19fc2663dd45"
      }
     },
     "978e3ee1d32242d5a93374aa49587a1e": {
      "model_module": "@jupyter-widgets/controls",
      "model_module_version": "1.5.0",
      "model_name": "ButtonStyleModel",
      "state": {}
     },
     "97e361c1c1e94883b5b5fc20d75db225": {
      "model_module": "@jupyter-widgets/controls",
      "model_module_version": "1.5.0",
      "model_name": "ButtonStyleModel",
      "state": {}
     },
     "98025232643a4081afa227a7aa270472": {
      "model_module": "@jupyter-widgets/controls",
      "model_module_version": "1.5.0",
      "model_name": "SliderStyleModel",
      "state": {
       "description_width": ""
      }
     },
     "9802a26ea73448b9a84d2c7610ad7c08": {
      "model_module": "@jupyter-widgets/base",
      "model_module_version": "1.2.0",
      "model_name": "LayoutModel",
      "state": {
       "border": "solid 4px #222",
       "margin": "4px",
       "padding": "0"
      }
     },
     "982d5adf888a4f86a467d673e1652d26": {
      "model_module": "@jupyter-widgets/base",
      "model_module_version": "1.2.0",
      "model_name": "LayoutModel",
      "state": {}
     },
     "982fa40219de4b29b133d355e5f98db4": {
      "model_module": "@jupyter-widgets/controls",
      "model_module_version": "1.5.0",
      "model_name": "DropdownModel",
      "state": {
       "_options_labels": [
        "tanh",
        "atan",
        "simple"
       ],
       "description": "Compression Function:",
       "index": 0,
       "layout": "IPY_MODEL_4eff58bd51b547aeac75303925e9c0ca",
       "style": "IPY_MODEL_f4d6275263ae40ebaa7589975a1dec1f"
      }
     },
     "985f3f34a21548a6a203bbaa11851cbf": {
      "model_module": "@jupyter-widgets/base",
      "model_module_version": "1.2.0",
      "model_name": "LayoutModel",
      "state": {}
     },
     "98891ac1b5f64997ac775d6feaa5a606": {
      "model_module": "@jupyter-widgets/base",
      "model_module_version": "1.2.0",
      "model_name": "LayoutModel",
      "state": {}
     },
     "989735888dbb4894b5206992658f1c3b": {
      "model_module": "jupyter-matplotlib",
      "model_module_version": "^0.7.2",
      "model_name": "ToolbarModel",
      "state": {
       "layout": "IPY_MODEL_6abb6dc6af694e30925e0dbaeb9d3ed2",
       "toolitems": [
        [
         "Home",
         "Reset original view",
         "home",
         "home"
        ],
        [
         "Back",
         "Back to previous view",
         "arrow-left",
         "back"
        ],
        [
         "Forward",
         "Forward to next view",
         "arrow-right",
         "forward"
        ],
        [
         "Pan",
         "Pan axes with left mouse, zoom with right",
         "arrows",
         "pan"
        ],
        [
         "Zoom",
         "Zoom to rectangle",
         "square-o",
         "zoom"
        ],
        [
         "Download",
         "Download plot",
         "floppy-o",
         "save_figure"
        ]
       ]
      }
     },
     "98ab901f358a474c930a26a7b6b7218f": {
      "model_module": "@jupyter-widgets/base",
      "model_module_version": "1.2.0",
      "model_name": "LayoutModel",
      "state": {}
     },
     "98d48caf15bd45978c205c986ae53b94": {
      "model_module": "@jupyter-widgets/base",
      "model_module_version": "1.2.0",
      "model_name": "LayoutModel",
      "state": {
       "align_items": "stretch",
       "display": "flex",
       "flex_flow": "column",
       "width": "1128px"
      }
     },
     "98eb113490ff46169e23dfb0296dd014": {
      "model_module": "@jupyter-widgets/controls",
      "model_module_version": "1.5.0",
      "model_name": "CheckboxModel",
      "state": {
       "description": "Disable Medicina",
       "disabled": false,
       "layout": "IPY_MODEL_856d01381b1f406cbb546848268dbd26",
       "style": "IPY_MODEL_20c78fea6fd44c8ab768fbf7ccf6b515",
       "value": false
      }
     },
     "990ac5025a854f3b89532c08b812272b": {
      "model_module": "@jupyter-widgets/base",
      "model_module_version": "1.2.0",
      "model_name": "LayoutModel",
      "state": {}
     },
     "9914e078c77d456a82d549247c18a2a8": {
      "model_module": "@jupyter-widgets/output",
      "model_module_version": "1.0.0",
      "model_name": "OutputModel",
      "state": {
       "layout": "IPY_MODEL_7769ed16590b4b6b907c2d44c24884d6",
       "outputs": [
        {
         "data": {
          "application/vnd.jupyter.widget-view+json": {
           "model_id": "d4f6d581d12a4c1e8af498367c40ca1f",
           "version_major": 2,
           "version_minor": 0
          },
          "text/plain": "Canvas(toolbar=Toolbar(toolitems=[('Home', 'Reset original view', 'home', 'home'), ('Back', 'Back to previous …"
         },
         "metadata": {},
         "output_type": "display_data"
        }
       ]
      }
     },
     "9916d99a903841fe909aa325174dd5e1": {
      "model_module": "@jupyter-widgets/base",
      "model_module_version": "1.2.0",
      "model_name": "LayoutModel",
      "state": {}
     },
     "9973d81f90734cbd89ae9380100ff1e0": {
      "model_module": "@jupyter-widgets/base",
      "model_module_version": "1.2.0",
      "model_name": "LayoutModel",
      "state": {}
     },
     "99896f54e2c445d29305778e90e2e482": {
      "model_module": "@jupyter-widgets/base",
      "model_module_version": "1.2.0",
      "model_name": "LayoutModel",
      "state": {}
     },
     "9a2bef0c97364ce58c9a9cf46007b89f": {
      "model_module": "@jupyter-widgets/base",
      "model_module_version": "1.2.0",
      "model_name": "LayoutModel",
      "state": {}
     },
     "9a661cc3dbea4875adf5f5c0e8c39ebb": {
      "model_module": "jupyter-matplotlib",
      "model_module_version": "^0.7.2",
      "model_name": "ToolbarModel",
      "state": {
       "layout": "IPY_MODEL_cb69d7fb9f594541929c67546bfe4bd1",
       "toolitems": [
        [
         "Home",
         "Reset original view",
         "home",
         "home"
        ],
        [
         "Back",
         "Back to previous view",
         "arrow-left",
         "back"
        ],
        [
         "Forward",
         "Forward to next view",
         "arrow-right",
         "forward"
        ],
        [
         "Pan",
         "Pan axes with left mouse, zoom with right",
         "arrows",
         "pan"
        ],
        [
         "Zoom",
         "Zoom to rectangle",
         "square-o",
         "zoom"
        ],
        [
         "Download",
         "Download plot",
         "floppy-o",
         "save_figure"
        ]
       ]
      }
     },
     "9b1f205f901e457b92a9c63bb5ed48c1": {
      "model_module": "@jupyter-widgets/base",
      "model_module_version": "1.2.0",
      "model_name": "LayoutModel",
      "state": {}
     },
     "9b36797d059f4b0abb6e0ae96946085e": {
      "model_module": "jupyter-matplotlib",
      "model_module_version": "^0.7.2",
      "model_name": "ToolbarModel",
      "state": {
       "layout": "IPY_MODEL_2033b22180794f14a635ff0eaecf4080",
       "toolitems": [
        [
         "Home",
         "Reset original view",
         "home",
         "home"
        ],
        [
         "Back",
         "Back to previous view",
         "arrow-left",
         "back"
        ],
        [
         "Forward",
         "Forward to next view",
         "arrow-right",
         "forward"
        ],
        [
         "Pan",
         "Pan axes with left mouse, zoom with right",
         "arrows",
         "pan"
        ],
        [
         "Zoom",
         "Zoom to rectangle",
         "square-o",
         "zoom"
        ],
        [
         "Download",
         "Download plot",
         "floppy-o",
         "save_figure"
        ]
       ]
      }
     },
     "9bc3a596982c4d94814ecc7288b3b27c": {
      "model_module": "@jupyter-widgets/controls",
      "model_module_version": "1.5.0",
      "model_name": "ButtonModel",
      "state": {
       "description": "Save Figure",
       "layout": "IPY_MODEL_ef2de15aae144bc6bfb106ce32467734",
       "style": "IPY_MODEL_d8efe8eb9ec94c2ba072bfe1a0d3be44"
      }
     },
     "9c3a37bda9224ffd83a9e86be534ceea": {
      "model_module": "@jupyter-widgets/base",
      "model_module_version": "1.2.0",
      "model_name": "LayoutModel",
      "state": {}
     },
     "9c649e574474424fbf5c20dfd7359c05": {
      "model_module": "@jupyter-widgets/base",
      "model_module_version": "1.2.0",
      "model_name": "LayoutModel",
      "state": {}
     },
     "9cd03f1a69844e1fa3e21861de2a6c96": {
      "model_module": "jupyter-matplotlib",
      "model_module_version": "^0.7.2",
      "model_name": "MPLCanvasModel",
      "state": {
       "_figure_label": "Figure 23",
       "_height": 550,
       "_width": 1100,
       "header_visible": false,
       "layout": "IPY_MODEL_9dd2be67278d47c48fffe97f09f8ccfc",
       "resizable": false,
       "toolbar": "IPY_MODEL_9a661cc3dbea4875adf5f5c0e8c39ebb",
       "toolbar_position": "left",
       "toolbar_visible": false
      }
     },
     "9cd5dea70217457aa3854692180d9645": {
      "model_module": "@jupyter-widgets/base",
      "model_module_version": "1.2.0",
      "model_name": "LayoutModel",
      "state": {}
     },
     "9cfd97d5c9664a12a0a043a1288ce7a8": {
      "model_module": "@jupyter-widgets/controls",
      "model_module_version": "1.5.0",
      "model_name": "SliderStyleModel",
      "state": {
       "description_width": ""
      }
     },
     "9d2320b135df455dbab75198a1845593": {
      "model_module": "@jupyter-widgets/base",
      "model_module_version": "1.2.0",
      "model_name": "LayoutModel",
      "state": {
       "border": "solid 4px #222",
       "margin": "4px",
       "padding": "0"
      }
     },
     "9d48445c459a4cdd94d2e19c2ecf27d4": {
      "model_module": "@jupyter-widgets/base",
      "model_module_version": "1.2.0",
      "model_name": "LayoutModel",
      "state": {}
     },
     "9d6daaeb225c44b79967ed89c2ff57c2": {
      "model_module": "@jupyter-widgets/base",
      "model_module_version": "1.2.0",
      "model_name": "LayoutModel",
      "state": {
       "border": "solid 4px #222",
       "margin": "4px",
       "padding": "0"
      }
     },
     "9d84897c3db3405baa8b2ec1fcf4948c": {
      "model_module": "@jupyter-widgets/output",
      "model_module_version": "1.0.0",
      "model_name": "OutputModel",
      "state": {
       "layout": "IPY_MODEL_ab5a7ab956244efbb96beef4660e9470",
       "outputs": [
        {
         "data": {
          "application/vnd.jupyter.widget-view+json": {
           "model_id": "d2fe67fa24784260b4440510d3591e07",
           "version_major": 2,
           "version_minor": 0
          },
          "text/plain": "Canvas(toolbar=Toolbar(toolitems=[('Home', 'Reset original view', 'home', 'home'), ('Back', 'Back to previous …"
         },
         "metadata": {},
         "output_type": "display_data"
        }
       ]
      }
     },
     "9d9e67309e014d7f87aae48e998cc0cc": {
      "model_module": "@jupyter-widgets/controls",
      "model_module_version": "1.5.0",
      "model_name": "SliderStyleModel",
      "state": {
       "description_width": ""
      }
     },
     "9dbbfb67aede43f8bd2eb9fc07ac737f": {
      "model_module": "@jupyter-widgets/controls",
      "model_module_version": "1.5.0",
      "model_name": "FloatSliderModel",
      "state": {
       "description": "Compression Threshold",
       "layout": "IPY_MODEL_e9c9c9070c874665b4d0fcb0c7385b94",
       "max": 1,
       "step": 0.01,
       "style": "IPY_MODEL_b6bbe695aef64f059ed3d7153531af25",
       "value": 0.8
      }
     },
     "9dd2be67278d47c48fffe97f09f8ccfc": {
      "model_module": "@jupyter-widgets/base",
      "model_module_version": "1.2.0",
      "model_name": "LayoutModel",
      "state": {}
     },
     "9de725093e8e489fbf18f7c47f7ed67b": {
      "model_module": "@jupyter-widgets/base",
      "model_module_version": "1.2.0",
      "model_name": "LayoutModel",
      "state": {}
     },
     "9e2c8151a7a2499b9c796e72f3f886cf": {
      "model_module": "@jupyter-widgets/output",
      "model_module_version": "1.0.0",
      "model_name": "OutputModel",
      "state": {
       "layout": "IPY_MODEL_6757bc5513164a56a6cd4012e2e9f19e",
       "outputs": [
        {
         "data": {
          "application/vnd.jupyter.widget-view+json": {
           "model_id": "6db0bacdc38e443981e464c5d91dc3f5",
           "version_major": 2,
           "version_minor": 0
          },
          "text/plain": "Canvas(toolbar=Toolbar(toolitems=[('Home', 'Reset original view', 'home', 'home'), ('Back', 'Back to previous …"
         },
         "metadata": {},
         "output_type": "display_data"
        }
       ]
      }
     },
     "9ee26fd3265949b9855ec5a53764d819": {
      "model_module": "@jupyter-widgets/controls",
      "model_module_version": "1.5.0",
      "model_name": "FloatSliderModel",
      "state": {
       "description": "180°",
       "layout": "IPY_MODEL_818a3d4866594e0e9e6f988de2936143",
       "max": 1,
       "min": -1,
       "step": 0.01,
       "style": "IPY_MODEL_3640cee662d744aea77aaa0bf6671de5"
      }
     },
     "9ee97a0aaf514a4dba6e34a6fb060fe5": {
      "model_module": "@jupyter-widgets/base",
      "model_module_version": "1.2.0",
      "model_name": "LayoutModel",
      "state": {}
     },
     "9efdde8c7ad44f4db5fb510265f327c8": {
      "model_module": "@jupyter-widgets/controls",
      "model_module_version": "1.5.0",
      "model_name": "DescriptionStyleModel",
      "state": {
       "description_width": ""
      }
     },
     "9f54e405290a4b5292c1a505f9032988": {
      "model_module": "@jupyter-widgets/controls",
      "model_module_version": "1.5.0",
      "model_name": "SliderStyleModel",
      "state": {
       "description_width": ""
      }
     },
     "9f5ca4c69943461abcf6e38c2bf574ee": {
      "model_module": "@jupyter-widgets/controls",
      "model_module_version": "1.5.0",
      "model_name": "DescriptionStyleModel",
      "state": {
       "description_width": ""
      }
     },
     "9f612c1733ba49de8f0d950572dc2a25": {
      "model_module": "@jupyter-widgets/base",
      "model_module_version": "1.2.0",
      "model_name": "LayoutModel",
      "state": {}
     },
     "9f616d4d0dd1401f86ab5c868a87f63f": {
      "model_module": "@jupyter-widgets/base",
      "model_module_version": "1.2.0",
      "model_name": "LayoutModel",
      "state": {}
     },
     "9f67f4c641ab49bc9027832fc6c3fe58": {
      "model_module": "@jupyter-widgets/controls",
      "model_module_version": "1.5.0",
      "model_name": "FloatSliderModel",
      "state": {
       "description": "180°",
       "layout": "IPY_MODEL_9a2bef0c97364ce58c9a9cf46007b89f",
       "max": 1,
       "min": -1,
       "step": 0.01,
       "style": "IPY_MODEL_aa25952adb1d43f0a612491f30c20b01"
      }
     },
     "9f7e2e5c377c41b4bd355bd8e5b8bd34": {
      "model_module": "@jupyter-widgets/base",
      "model_module_version": "1.2.0",
      "model_name": "LayoutModel",
      "state": {}
     },
     "9f8835d6cc4b4ab2b30b8c29d1258b59": {
      "model_module": "@jupyter-widgets/controls",
      "model_module_version": "1.5.0",
      "model_name": "FloatSliderModel",
      "state": {
       "description": "Compression Threshold",
       "layout": "IPY_MODEL_a183b4ba87a44c89826812d0304a268d",
       "max": 1,
       "step": 0.01,
       "style": "IPY_MODEL_14c38d6fa6164c68b051acb2db495199",
       "value": 0.8
      }
     },
     "9f9a2b3ed97f40cf86390dad69c94639": {
      "model_module": "@jupyter-widgets/base",
      "model_module_version": "1.2.0",
      "model_name": "LayoutModel",
      "state": {}
     },
     "9fdb1657edea47bf9e51eef057b1707f": {
      "model_module": "jupyter-matplotlib",
      "model_module_version": "^0.7.2",
      "model_name": "ToolbarModel",
      "state": {
       "layout": "IPY_MODEL_b43e95db92fb4975bdd1236ef60b6c94",
       "toolitems": [
        [
         "Home",
         "Reset original view",
         "home",
         "home"
        ],
        [
         "Back",
         "Back to previous view",
         "arrow-left",
         "back"
        ],
        [
         "Forward",
         "Forward to next view",
         "arrow-right",
         "forward"
        ],
        [
         "Pan",
         "Pan axes with left mouse, zoom with right",
         "arrows",
         "pan"
        ],
        [
         "Zoom",
         "Zoom to rectangle",
         "square-o",
         "zoom"
        ],
        [
         "Download",
         "Download plot",
         "floppy-o",
         "save_figure"
        ]
       ]
      }
     },
     "a002168956fb47b4a3488af8f673aa86": {
      "model_module": "@jupyter-widgets/base",
      "model_module_version": "1.2.0",
      "model_name": "LayoutModel",
      "state": {}
     },
     "a04ba36199bd41da9d23b64179530667": {
      "model_module": "@jupyter-widgets/controls",
      "model_module_version": "1.5.0",
      "model_name": "SliderStyleModel",
      "state": {
       "description_width": ""
      }
     },
     "a07df08edf354a629f6a9be00252dc55": {
      "model_module": "@jupyter-widgets/base",
      "model_module_version": "1.2.0",
      "model_name": "LayoutModel",
      "state": {}
     },
     "a0824058db45482e93b0fe3fffd2fe8d": {
      "model_module": "@jupyter-widgets/controls",
      "model_module_version": "1.5.0",
      "model_name": "SliderStyleModel",
      "state": {
       "description_width": ""
      }
     },
     "a0c68af80d4d46829620f561d24e19d2": {
      "model_module": "@jupyter-widgets/controls",
      "model_module_version": "1.5.0",
      "model_name": "ButtonModel",
      "state": {
       "description": "Save Figure",
       "layout": "IPY_MODEL_8e7ad04bd8e44df8b6604a5706584a24",
       "style": "IPY_MODEL_1155891667134718a14ae1c6d485b19e"
      }
     },
     "a0cef9d3709648188f1588624488e151": {
      "model_module": "@jupyter-widgets/controls",
      "model_module_version": "1.5.0",
      "model_name": "FloatSliderModel",
      "state": {
       "description": "Exposure",
       "layout": "IPY_MODEL_3bb2234428244cdea4546e594f132cd0",
       "max": 8,
       "min": -8,
       "step": 0.1,
       "style": "IPY_MODEL_b590d91bba104829aee6fa4e4afe278c"
      }
     },
     "a0d8bbd90c764d7997c87fe6b3238ca1": {
      "model_module": "@jupyter-widgets/controls",
      "model_module_version": "1.5.0",
      "model_name": "FloatSliderModel",
      "state": {
       "description": "Exposure",
       "layout": "IPY_MODEL_eec8bb0387a24b6c8b1be99b6b472b13",
       "max": 8,
       "min": -8,
       "step": 0.1,
       "style": "IPY_MODEL_50522827599a40e89405c84972d5a341"
      }
     },
     "a145ee8bec784794871733ed69ac37b1": {
      "model_module": "@jupyter-widgets/controls",
      "model_module_version": "1.5.0",
      "model_name": "SliderStyleModel",
      "state": {
       "description_width": ""
      }
     },
     "a155e526ad6348729275980fbcbad031": {
      "model_module": "@jupyter-widgets/base",
      "model_module_version": "1.2.0",
      "model_name": "LayoutModel",
      "state": {}
     },
     "a17609c201b948edbdf678ee91cc6001": {
      "model_module": "@jupyter-widgets/controls",
      "model_module_version": "1.5.0",
      "model_name": "FloatSliderModel",
      "state": {
       "description": "270°",
       "layout": "IPY_MODEL_83df68f8799c40a59cb778c954e7ab49",
       "max": 1,
       "min": -1,
       "step": 0.01,
       "style": "IPY_MODEL_eedb5b05cddb4de4a3620eaab27eb56d"
      }
     },
     "a183b4ba87a44c89826812d0304a268d": {
      "model_module": "@jupyter-widgets/base",
      "model_module_version": "1.2.0",
      "model_name": "LayoutModel",
      "state": {}
     },
     "a191efe0e14940549a98bd5528a624c9": {
      "model_module": "@jupyter-widgets/controls",
      "model_module_version": "1.5.0",
      "model_name": "ButtonStyleModel",
      "state": {}
     },
     "a1c69a05fe464987b69532abd24aea2b": {
      "model_module": "@jupyter-widgets/controls",
      "model_module_version": "1.5.0",
      "model_name": "ButtonStyleModel",
      "state": {}
     },
     "a1cbdbfe739449cc808be0188a1cbec4": {
      "model_module": "@jupyter-widgets/controls",
      "model_module_version": "1.5.0",
      "model_name": "ButtonStyleModel",
      "state": {}
     },
     "a1d21850b4da44059ebdf45ab3c068ca": {
      "model_module": "@jupyter-widgets/controls",
      "model_module_version": "1.5.0",
      "model_name": "FloatSliderModel",
      "state": {
       "description": "Exposure",
       "layout": "IPY_MODEL_a5fef93be967405b83244b8bd4b12104",
       "max": 8,
       "min": -8,
       "step": 0.1,
       "style": "IPY_MODEL_95a47dfec85e4abebfb3cb9c02db06d8"
      }
     },
     "a203433001244383becaf4ef453e889b": {
      "model_module": "@jupyter-widgets/base",
      "model_module_version": "1.2.0",
      "model_name": "LayoutModel",
      "state": {}
     },
     "a22b92fd55a0437a9b9fd5c03ac7c471": {
      "model_module": "@jupyter-widgets/controls",
      "model_module_version": "1.5.0",
      "model_name": "VBoxModel",
      "state": {
       "children": [
        "IPY_MODEL_221b62dcafb44e87a604cd519602e7f5",
        "IPY_MODEL_d704197241bf4ff4b7eef6796644180e",
        "IPY_MODEL_28b3f1830d1249629fd14bed4460ab2d"
       ],
       "layout": "IPY_MODEL_c51f3d932cc6476381bbf1d1ef302e9a"
      }
     },
     "a23db76043e24095bc8fd3f9e19b814a": {
      "model_module": "jupyter-matplotlib",
      "model_module_version": "^0.7.2",
      "model_name": "ToolbarModel",
      "state": {
       "layout": "IPY_MODEL_499ee9c29d2941d9bf4d68d3bba759c3",
       "toolitems": [
        [
         "Home",
         "Reset original view",
         "home",
         "home"
        ],
        [
         "Back",
         "Back to previous view",
         "arrow-left",
         "back"
        ],
        [
         "Forward",
         "Forward to next view",
         "arrow-right",
         "forward"
        ],
        [
         "Pan",
         "Pan axes with left mouse, zoom with right",
         "arrows",
         "pan"
        ],
        [
         "Zoom",
         "Zoom to rectangle",
         "square-o",
         "zoom"
        ],
        [
         "Download",
         "Download plot",
         "floppy-o",
         "save_figure"
        ]
       ]
      }
     },
     "a25be18d1d754f3d9119efa8122b875a": {
      "model_module": "@jupyter-widgets/controls",
      "model_module_version": "1.5.0",
      "model_name": "ButtonStyleModel",
      "state": {}
     },
     "a267ac19e4f94d0c82eb9283b7508f36": {
      "model_module": "@jupyter-widgets/base",
      "model_module_version": "1.2.0",
      "model_name": "LayoutModel",
      "state": {}
     },
     "a277de3d38db466fa22c45a66ea8359f": {
      "model_module": "@jupyter-widgets/base",
      "model_module_version": "1.2.0",
      "model_name": "LayoutModel",
      "state": {
       "border": "solid 4px #222",
       "margin": "4px",
       "padding": "0"
      }
     },
     "a2bfc3fe36ff4a8e9e9de69d2993083d": {
      "model_module": "@jupyter-widgets/base",
      "model_module_version": "1.2.0",
      "model_name": "LayoutModel",
      "state": {}
     },
     "a2d86d4b456d4739842b3be1dd6fd8c0": {
      "model_module": "@jupyter-widgets/controls",
      "model_module_version": "1.5.0",
      "model_name": "SliderStyleModel",
      "state": {
       "description_width": ""
      }
     },
     "a3334605ecac4b6e80388218ed09cadd": {
      "model_module": "@jupyter-widgets/base",
      "model_module_version": "1.2.0",
      "model_name": "LayoutModel",
      "state": {}
     },
     "a337b2992a9d46a2b44ab69d78dd753a": {
      "model_module": "@jupyter-widgets/controls",
      "model_module_version": "1.5.0",
      "model_name": "SliderStyleModel",
      "state": {
       "description_width": ""
      }
     },
     "a3b0c7aea4074e49b01cc407769aea38": {
      "model_module": "@jupyter-widgets/output",
      "model_module_version": "1.0.0",
      "model_name": "OutputModel",
      "state": {
       "layout": "IPY_MODEL_28147de024cd40449741eb5bb373a1dd",
       "outputs": [
        {
         "data": {
          "application/vnd.jupyter.widget-view+json": {
           "model_id": "aa374610f2b94b438b09574799bb90f5",
           "version_major": 2,
           "version_minor": 0
          },
          "text/plain": "Canvas(toolbar=Toolbar(toolitems=[('Home', 'Reset original view', 'home', 'home'), ('Back', 'Back to previous …"
         },
         "metadata": {},
         "output_type": "display_data"
        }
       ]
      }
     },
     "a3b3ec2eebaf4b56a7cd7af5e6b5eb1b": {
      "model_module": "@jupyter-widgets/controls",
      "model_module_version": "1.5.0",
      "model_name": "FloatSliderModel",
      "state": {
       "description": "315°",
       "layout": "IPY_MODEL_a66487e09cdc4815b6813b8f73a82a5f",
       "max": 1,
       "min": -1,
       "step": 0.01,
       "style": "IPY_MODEL_9f54e405290a4b5292c1a505f9032988"
      }
     },
     "a3c1ac593428470d9956f05a44939f7a": {
      "model_module": "@jupyter-widgets/base",
      "model_module_version": "1.2.0",
      "model_name": "LayoutModel",
      "state": {}
     },
     "a3ee4583a39b4cc5933e13e3a0c87d80": {
      "model_module": "@jupyter-widgets/controls",
      "model_module_version": "1.5.0",
      "model_name": "TabModel",
      "state": {
       "_titles": {
        "0": "Global Controls",
        "1": "Protected Area Controls",
        "2": "Saturation Controls",
        "3": "Hue Controls"
       },
       "children": [
        "IPY_MODEL_7cdf22ba5ca54618a00acd529c0ff90a",
        "IPY_MODEL_f81f5f5d00584e09a4e8b3c59f7d57ff",
        "IPY_MODEL_a774ed411071453791ba595992d5a2a4",
        "IPY_MODEL_e65dc9782be84d2f9d9b2f49f78d0bf8"
       ],
       "layout": "IPY_MODEL_2d504fb5455e4b9bb75d1adb8c28bc03"
      }
     },
     "a440aa19992242349e7e41c920433c63": {
      "model_module": "@jupyter-widgets/controls",
      "model_module_version": "1.5.0",
      "model_name": "ButtonModel",
      "state": {
       "description": "Save Figure",
       "layout": "IPY_MODEL_826bbe197e654e6a910d2ddacaa580ee",
       "style": "IPY_MODEL_d296a15f3bcf4bab8fdd29e8f6287bbe"
      }
     },
     "a48a555a1e354888ae2732804293db90": {
      "model_module": "@jupyter-widgets/controls",
      "model_module_version": "1.5.0",
      "model_name": "ButtonModel",
      "state": {
       "description": "Export Image",
       "layout": "IPY_MODEL_3ffee2a41027414aa8c48546faa98605",
       "style": "IPY_MODEL_b48e363fdb214c8a93c2ccf225e062ad"
      }
     },
     "a512a268c039412cac32a9c53d2f7f96": {
      "model_module": "@jupyter-widgets/base",
      "model_module_version": "1.2.0",
      "model_name": "LayoutModel",
      "state": {}
     },
     "a525679bd3ad4f0891c45938a18cbf0b": {
      "model_module": "@jupyter-widgets/controls",
      "model_module_version": "1.5.0",
      "model_name": "DescriptionStyleModel",
      "state": {
       "description_width": ""
      }
     },
     "a528ee3b99fc426aaff262696cfb0352": {
      "model_module": "@jupyter-widgets/base",
      "model_module_version": "1.2.0",
      "model_name": "LayoutModel",
      "state": {}
     },
     "a5669159652f407887e312404840a95c": {
      "model_module": "@jupyter-widgets/base",
      "model_module_version": "1.2.0",
      "model_name": "LayoutModel",
      "state": {
       "border": "solid 4px #222",
       "margin": "4px",
       "padding": "0"
      }
     },
     "a5fef93be967405b83244b8bd4b12104": {
      "model_module": "@jupyter-widgets/base",
      "model_module_version": "1.2.0",
      "model_name": "LayoutModel",
      "state": {}
     },
     "a61e407c74ff43d78ffc6749087b93e7": {
      "model_module": "@jupyter-widgets/base",
      "model_module_version": "1.2.0",
      "model_name": "LayoutModel",
      "state": {
       "border": "solid 4px #222",
       "margin": "4px",
       "padding": "0"
      }
     },
     "a650d4b20c444df48ee2fb1420f5d97d": {
      "model_module": "@jupyter-widgets/controls",
      "model_module_version": "1.5.0",
      "model_name": "SliderStyleModel",
      "state": {
       "description_width": ""
      }
     },
     "a66487e09cdc4815b6813b8f73a82a5f": {
      "model_module": "@jupyter-widgets/base",
      "model_module_version": "1.2.0",
      "model_name": "LayoutModel",
      "state": {}
     },
     "a6c8471568c741d780f6b43e1dadaae0": {
      "model_module": "@jupyter-widgets/controls",
      "model_module_version": "1.5.0",
      "model_name": "ButtonModel",
      "state": {
       "description": "Export Image",
       "layout": "IPY_MODEL_081c5ae8409f4eb8bc4b9a6ed616c75a",
       "style": "IPY_MODEL_ac2f242141214a5c847f7e64e13beac6"
      }
     },
     "a6ec20695f5741b0b805940c2564f2f5": {
      "model_module": "@jupyter-widgets/controls",
      "model_module_version": "1.5.0",
      "model_name": "SliderStyleModel",
      "state": {
       "description_width": ""
      }
     },
     "a6f68e7df4f4438e8f7e3d4fdfd24c57": {
      "model_module": "@jupyter-widgets/base",
      "model_module_version": "1.2.0",
      "model_name": "LayoutModel",
      "state": {}
     },
     "a707439728e34748b589bdb7aead7ddf": {
      "model_module": "@jupyter-widgets/base",
      "model_module_version": "1.2.0",
      "model_name": "LayoutModel",
      "state": {}
     },
     "a70f8fbaf54645b98adaf2e147fac2af": {
      "model_module": "@jupyter-widgets/base",
      "model_module_version": "1.2.0",
      "model_name": "LayoutModel",
      "state": {}
     },
     "a76afd6edd264aa4a2adde0b90385ab1": {
      "model_module": "@jupyter-widgets/base",
      "model_module_version": "1.2.0",
      "model_name": "LayoutModel",
      "state": {
       "align_items": "stretch",
       "display": "flex",
       "flex_flow": "column",
       "width": "1128px"
      }
     },
     "a774ed411071453791ba595992d5a2a4": {
      "model_module": "@jupyter-widgets/controls",
      "model_module_version": "1.5.0",
      "model_name": "HBoxModel",
      "state": {
       "children": [
        "IPY_MODEL_2223a5cedf0c48fd946761ed295f654a",
        "IPY_MODEL_562700218653430ea2d3abe91844bd40",
        "IPY_MODEL_fd9d110d58d748828d5036b792843c89"
       ],
       "layout": "IPY_MODEL_fc1f31081ccd49989e597ba7cc467b17"
      }
     },
     "a78283c402024093b4ef1c0958484a08": {
      "model_module": "@jupyter-widgets/controls",
      "model_module_version": "1.5.0",
      "model_name": "SliderStyleModel",
      "state": {
       "description_width": ""
      }
     },
     "a7b0ad9a7eb64ec08443eb89ef80b132": {
      "model_module": "@jupyter-widgets/base",
      "model_module_version": "1.2.0",
      "model_name": "LayoutModel",
      "state": {}
     },
     "a7e0a806b76047268ea7f80436ab9b35": {
      "model_module": "@jupyter-widgets/base",
      "model_module_version": "1.2.0",
      "model_name": "LayoutModel",
      "state": {}
     },
     "a865a2fe922c4959b8a43dbd407f69eb": {
      "model_module": "@jupyter-widgets/controls",
      "model_module_version": "1.5.0",
      "model_name": "DescriptionStyleModel",
      "state": {
       "description_width": ""
      }
     },
     "a8979e0b456e448f9293bc4674df976f": {
      "model_module": "@jupyter-widgets/base",
      "model_module_version": "1.2.0",
      "model_name": "LayoutModel",
      "state": {}
     },
     "a898dedaaad7464ab2f2947d3b2903c2": {
      "model_module": "@jupyter-widgets/controls",
      "model_module_version": "1.5.0",
      "model_name": "ButtonStyleModel",
      "state": {}
     },
     "a8fbc6f079a146b18503d984b10187b4": {
      "model_module": "@jupyter-widgets/controls",
      "model_module_version": "1.5.0",
      "model_name": "VBoxModel",
      "state": {
       "children": [
        "IPY_MODEL_40da2e15b37d4f578c3170c5b5f392e0",
        "IPY_MODEL_fc7387c321ef4ab4a7138f2617959e8a",
        "IPY_MODEL_8b3a8727779e47b9a9aac19a2d449164"
       ],
       "layout": "IPY_MODEL_98891ac1b5f64997ac775d6feaa5a606"
      }
     },
     "a9332a00962849069426ae91664060d4": {
      "model_module": "@jupyter-widgets/base",
      "model_module_version": "1.2.0",
      "model_name": "LayoutModel",
      "state": {}
     },
     "a9423120de7540ffa9bd9cce2c509ff3": {
      "model_module": "@jupyter-widgets/base",
      "model_module_version": "1.2.0",
      "model_name": "LayoutModel",
      "state": {}
     },
     "a9758237efae417595bd277311be042b": {
      "model_module": "@jupyter-widgets/base",
      "model_module_version": "1.2.0",
      "model_name": "LayoutModel",
      "state": {}
     },
     "a9d6880d7e034c45a99ba2a8aa307b81": {
      "model_module": "@jupyter-widgets/controls",
      "model_module_version": "1.5.0",
      "model_name": "SliderStyleModel",
      "state": {
       "description_width": ""
      }
     },
     "aa25952adb1d43f0a612491f30c20b01": {
      "model_module": "@jupyter-widgets/controls",
      "model_module_version": "1.5.0",
      "model_name": "SliderStyleModel",
      "state": {
       "description_width": ""
      }
     },
     "aa31a285fd234c399070d9d75868a9e9": {
      "model_module": "@jupyter-widgets/base",
      "model_module_version": "1.2.0",
      "model_name": "LayoutModel",
      "state": {}
     },
     "aa374610f2b94b438b09574799bb90f5": {
      "model_module": "jupyter-matplotlib",
      "model_module_version": "^0.7.2",
      "model_name": "MPLCanvasModel",
      "state": {
       "_figure_label": "Figure 22",
       "_height": 550,
       "_width": 1100,
       "header_visible": false,
       "layout": "IPY_MODEL_fa85f5526ea64dca82979206399997c3",
       "resizable": false,
       "toolbar": "IPY_MODEL_687bfe7344c442d9a954141986c2914e",
       "toolbar_position": "left",
       "toolbar_visible": false
      }
     },
     "aa4643d6240a44eb863b75f3ae79e665": {
      "model_module": "@jupyter-widgets/controls",
      "model_module_version": "1.5.0",
      "model_name": "ButtonModel",
      "state": {
       "description": "Reset Protected Area",
       "layout": "IPY_MODEL_ff289bb117404f4fbdb47fbf8860fb5c",
       "style": "IPY_MODEL_81be539e40cc477f8e501b7a1d6d2bd8"
      }
     },
     "aa67397519634dd9abf10fcc60288b49": {
      "model_module": "@jupyter-widgets/controls",
      "model_module_version": "1.5.0",
      "model_name": "FloatSliderModel",
      "state": {
       "description": "225°",
       "layout": "IPY_MODEL_595bd6b29c2044b9994d83b2572b7331",
       "max": 1,
       "min": -1,
       "step": 0.01,
       "style": "IPY_MODEL_5d50b7ac93e84cefa55af4dc021c4205"
      }
     },
     "aa8184afd113436ca23d70a98009a3eb": {
      "model_module": "@jupyter-widgets/base",
      "model_module_version": "1.2.0",
      "model_name": "LayoutModel",
      "state": {}
     },
     "aa92a100feb34a5f951be8e03118ce81": {
      "model_module": "@jupyter-widgets/base",
      "model_module_version": "1.2.0",
      "model_name": "LayoutModel",
      "state": {}
     },
     "aa99555407924de68c10e8fa941e2c22": {
      "model_module": "@jupyter-widgets/controls",
      "model_module_version": "1.5.0",
      "model_name": "FloatSliderModel",
      "state": {
       "description": "315°",
       "layout": "IPY_MODEL_dc04257d759b4cd0a3ded9b03905ca43",
       "max": 1,
       "min": -1,
       "step": 0.01,
       "style": "IPY_MODEL_a9d6880d7e034c45a99ba2a8aa307b81"
      }
     },
     "aab32c31cb4c4508b406d36d3851d280": {
      "model_module": "@jupyter-widgets/controls",
      "model_module_version": "1.5.0",
      "model_name": "SliderStyleModel",
      "state": {
       "description_width": ""
      }
     },
     "ab04d064313a405cb4a28ced8a6f61f0": {
      "model_module": "@jupyter-widgets/base",
      "model_module_version": "1.2.0",
      "model_name": "LayoutModel",
      "state": {}
     },
     "ab4c8c565f414391a43419373e3964f0": {
      "model_module": "@jupyter-widgets/base",
      "model_module_version": "1.2.0",
      "model_name": "LayoutModel",
      "state": {}
     },
     "ab5a7ab956244efbb96beef4660e9470": {
      "model_module": "@jupyter-widgets/base",
      "model_module_version": "1.2.0",
      "model_name": "LayoutModel",
      "state": {
       "border": "solid 4px #222",
       "margin": "4px",
       "padding": "0"
      }
     },
     "ac268fb4f4544b62a8b5e49bb8ab0e46": {
      "model_module": "@jupyter-widgets/controls",
      "model_module_version": "1.5.0",
      "model_name": "SliderStyleModel",
      "state": {
       "description_width": ""
      }
     },
     "ac2f242141214a5c847f7e64e13beac6": {
      "model_module": "@jupyter-widgets/controls",
      "model_module_version": "1.5.0",
      "model_name": "ButtonStyleModel",
      "state": {}
     },
     "ac336e683f964c0db39c4d27fe83414a": {
      "model_module": "@jupyter-widgets/base",
      "model_module_version": "1.2.0",
      "model_name": "LayoutModel",
      "state": {}
     },
     "ac5dafbfba424e3bae8789d27efa2c6e": {
      "model_module": "@jupyter-widgets/controls",
      "model_module_version": "1.5.0",
      "model_name": "TabModel",
      "state": {
       "_titles": {
        "0": "Global Controls",
        "1": "Protected Area Controls",
        "2": "Saturation Controls",
        "3": "Hue Controls"
       },
       "children": [
        "IPY_MODEL_631545e056cd42d884a7a0184e7471dc",
        "IPY_MODEL_ff8f6c87887143eebddb407e56085ec6",
        "IPY_MODEL_b2dfd1e5dc5342d88a2ca5cd1cd12755",
        "IPY_MODEL_0782aacd97bc4f9db7ae02fde477fdf6"
       ],
       "layout": "IPY_MODEL_9d6daaeb225c44b79967ed89c2ff57c2"
      }
     },
     "ac7f6eb90462472b974fd00a17518b76": {
      "model_module": "@jupyter-widgets/controls",
      "model_module_version": "1.5.0",
      "model_name": "DescriptionStyleModel",
      "state": {
       "description_width": ""
      }
     },
     "ac81b1f9dde7466194ac92b731af19a9": {
      "model_module": "@jupyter-widgets/base",
      "model_module_version": "1.2.0",
      "model_name": "LayoutModel",
      "state": {}
     },
     "ac93f144828b4d498cec4069c6ef3157": {
      "model_module": "@jupyter-widgets/controls",
      "model_module_version": "1.5.0",
      "model_name": "TabModel",
      "state": {
       "_titles": {
        "0": "Global Controls",
        "1": "Protected Area Controls",
        "2": "Saturation Controls",
        "3": "Hue Controls"
       },
       "children": [
        "IPY_MODEL_e4a1c30d0b5a4e05bf938b17f93a50f0",
        "IPY_MODEL_8d23189dc4ab4f16962625190d972419",
        "IPY_MODEL_d267bd613ae04d449535abffc99f4301",
        "IPY_MODEL_9182fb8cdce24215adb61bb909564408"
       ],
       "layout": "IPY_MODEL_d805aa1d5ecb4203a52cd8e9408cdf32"
      }
     },
     "aca5acd684f04d4b94f418f7d4071e7f": {
      "model_module": "@jupyter-widgets/base",
      "model_module_version": "1.2.0",
      "model_name": "LayoutModel",
      "state": {}
     },
     "ad4945f5185f4c7d93a3c8d9c01488a8": {
      "model_module": "@jupyter-widgets/base",
      "model_module_version": "1.2.0",
      "model_name": "LayoutModel",
      "state": {}
     },
     "ad9be48b51404c96aa6dac58586ce08b": {
      "model_module": "@jupyter-widgets/controls",
      "model_module_version": "1.5.0",
      "model_name": "CheckboxModel",
      "state": {
       "description": "Disable Medicina",
       "disabled": false,
       "layout": "IPY_MODEL_191f21bebd604af4a8557613393185a9",
       "style": "IPY_MODEL_63d1510061bc479eb44ae5840a81214a",
       "value": false
      }
     },
     "adb6d08c02a0493db78c0cd83cb17723": {
      "model_module": "@jupyter-widgets/base",
      "model_module_version": "1.2.0",
      "model_name": "LayoutModel",
      "state": {}
     },
     "addce265a4a043dab3dded42f57274bc": {
      "model_module": "@jupyter-widgets/base",
      "model_module_version": "1.2.0",
      "model_name": "LayoutModel",
      "state": {}
     },
     "ae618e596b224b6f83c228f7f193c441": {
      "model_module": "@jupyter-widgets/base",
      "model_module_version": "1.2.0",
      "model_name": "LayoutModel",
      "state": {}
     },
     "ae818082de324ac6be4443b7e82617b2": {
      "model_module": "@jupyter-widgets/controls",
      "model_module_version": "1.5.0",
      "model_name": "SliderStyleModel",
      "state": {
       "description_width": ""
      }
     },
     "af2fd3cdd57547279871682d3b76be4a": {
      "model_module": "@jupyter-widgets/controls",
      "model_module_version": "1.5.0",
      "model_name": "FloatSliderModel",
      "state": {
       "description": "225°",
       "layout": "IPY_MODEL_4c005f3c45e64049b999cc58e7f73e37",
       "max": 1,
       "min": -1,
       "step": 0.01,
       "style": "IPY_MODEL_b7498460b8894488887162e6982e3740"
      }
     },
     "afa23cac3b1b43cea17d121a0078c787": {
      "model_module": "@jupyter-widgets/controls",
      "model_module_version": "1.5.0",
      "model_name": "VBoxModel",
      "state": {
       "children": [
        "IPY_MODEL_0c557ad18e4845fc9d2b8a47e4c649df"
       ],
       "layout": "IPY_MODEL_cfac268adf554da18683641133e4cf3e"
      }
     },
     "b05becd28542403797fc140d96193699": {
      "model_module": "@jupyter-widgets/base",
      "model_module_version": "1.2.0",
      "model_name": "LayoutModel",
      "state": {}
     },
     "b082ddc78c1241bda6294bf183b8db6e": {
      "model_module": "@jupyter-widgets/base",
      "model_module_version": "1.2.0",
      "model_name": "LayoutModel",
      "state": {}
     },
     "b0c9107d0d1c42938c7cbab328e394f5": {
      "model_module": "@jupyter-widgets/controls",
      "model_module_version": "1.5.0",
      "model_name": "DescriptionStyleModel",
      "state": {
       "description_width": ""
      }
     },
     "b115b5fab0a14f209fef3aed0718bc34": {
      "model_module": "@jupyter-widgets/base",
      "model_module_version": "1.2.0",
      "model_name": "LayoutModel",
      "state": {}
     },
     "b190a498a2264b08adb4d364655ad3d9": {
      "model_module": "@jupyter-widgets/base",
      "model_module_version": "1.2.0",
      "model_name": "LayoutModel",
      "state": {}
     },
     "b1a758a4dd554339a55ef9213a32c265": {
      "model_module": "@jupyter-widgets/controls",
      "model_module_version": "1.5.0",
      "model_name": "VBoxModel",
      "state": {
       "children": [
        "IPY_MODEL_2f7e9f7ea08f440d9558b8ed7a754cf5",
        "IPY_MODEL_20f96816a52449209b1362653a94b5ea",
        "IPY_MODEL_e4698cc50f3240bfba06516ea3193e17"
       ],
       "layout": "IPY_MODEL_1bc11b9405dc4e69b602f7cf14f27cbf"
      }
     },
     "b1f031dc6843448598ec50e96f4d6ef9": {
      "model_module": "@jupyter-widgets/base",
      "model_module_version": "1.2.0",
      "model_name": "LayoutModel",
      "state": {
       "border": "solid 4px #222",
       "margin": "4px",
       "padding": "0"
      }
     },
     "b1f4ec00f88f476f9fa25d9d5157b2cb": {
      "model_module": "@jupyter-widgets/base",
      "model_module_version": "1.2.0",
      "model_name": "LayoutModel",
      "state": {}
     },
     "b21c041186314be4a8ef2b0a0bedf123": {
      "model_module": "@jupyter-widgets/base",
      "model_module_version": "1.2.0",
      "model_name": "LayoutModel",
      "state": {
       "border": "solid 4px #222",
       "margin": "4px",
       "padding": "0"
      }
     },
     "b2b83a6f94634c108fd7438b570ed26b": {
      "model_module": "@jupyter-widgets/base",
      "model_module_version": "1.2.0",
      "model_name": "LayoutModel",
      "state": {}
     },
     "b2cd719057a84bca8bdad350ccaac050": {
      "model_module": "@jupyter-widgets/base",
      "model_module_version": "1.2.0",
      "model_name": "LayoutModel",
      "state": {}
     },
     "b2dfd1e5dc5342d88a2ca5cd1cd12755": {
      "model_module": "@jupyter-widgets/controls",
      "model_module_version": "1.5.0",
      "model_name": "HBoxModel",
      "state": {
       "children": [
        "IPY_MODEL_30fef58ca3474cbe8ecc0c6dccbc7803",
        "IPY_MODEL_fd5c8e53ae02450eb67c3f72d258e621",
        "IPY_MODEL_bfd33aa230ee48f3846e5c83f2900094"
       ],
       "layout": "IPY_MODEL_b5d209b8da6f4e529c82bb7e30105921"
      }
     },
     "b2f237b323844ba9a1892143218c5691": {
      "model_module": "@jupyter-widgets/base",
      "model_module_version": "1.2.0",
      "model_name": "LayoutModel",
      "state": {}
     },
     "b2f3208c58354029972ca56e2ef41e7f": {
      "model_module": "@jupyter-widgets/controls",
      "model_module_version": "1.5.0",
      "model_name": "FloatSliderModel",
      "state": {
       "description": "Protected Area Threshold",
       "layout": "IPY_MODEL_2acc93d3789741f5b56201423606204d",
       "max": 1,
       "step": 0.01,
       "style": "IPY_MODEL_f1c682e0f23e4b0baa3a69fdde77b9d9",
       "value": 0.7
      }
     },
     "b2f32f518e4e4cdd959a5ff6829d775d": {
      "model_module": "@jupyter-widgets/base",
      "model_module_version": "1.2.0",
      "model_name": "LayoutModel",
      "state": {}
     },
     "b2fae6c1be7b4aab9d61093699bc315e": {
      "model_module": "@jupyter-widgets/base",
      "model_module_version": "1.2.0",
      "model_name": "LayoutModel",
      "state": {
       "align_items": "stretch",
       "display": "flex",
       "flex_flow": "column",
       "width": "1128px"
      }
     },
     "b3223a8b8dca4085ac4dbfa567d35c75": {
      "model_module": "@jupyter-widgets/controls",
      "model_module_version": "1.5.0",
      "model_name": "DescriptionStyleModel",
      "state": {
       "description_width": ""
      }
     },
     "b3421a08c3684fffadea4353969475cd": {
      "model_module": "@jupyter-widgets/base",
      "model_module_version": "1.2.0",
      "model_name": "LayoutModel",
      "state": {}
     },
     "b38eeb8463e34f7b9f69c3f052cbcecb": {
      "model_module": "@jupyter-widgets/base",
      "model_module_version": "1.2.0",
      "model_name": "LayoutModel",
      "state": {}
     },
     "b394cf826e8a4d5e8861eafaa6f70670": {
      "model_module": "@jupyter-widgets/base",
      "model_module_version": "1.2.0",
      "model_name": "LayoutModel",
      "state": {}
     },
     "b43e95db92fb4975bdd1236ef60b6c94": {
      "model_module": "@jupyter-widgets/base",
      "model_module_version": "1.2.0",
      "model_name": "LayoutModel",
      "state": {}
     },
     "b464d01c44924766a0ff1a0ff4709e19": {
      "model_module": "@jupyter-widgets/controls",
      "model_module_version": "1.5.0",
      "model_name": "ButtonModel",
      "state": {
       "description": "Save Figure",
       "layout": "IPY_MODEL_eea7d41c74964bd5850323b9348aa2fc",
       "style": "IPY_MODEL_6b596108446440b998631840fcf337f1"
      }
     },
     "b46885f0900e485cb3100a7f5e03df6f": {
      "model_module": "@jupyter-widgets/base",
      "model_module_version": "1.2.0",
      "model_name": "LayoutModel",
      "state": {}
     },
     "b47cf1fedd294729b1e5de0be0edd01b": {
      "model_module": "@jupyter-widgets/controls",
      "model_module_version": "1.5.0",
      "model_name": "TabModel",
      "state": {
       "_titles": {
        "0": "Global Controls",
        "1": "Protected Area Controls",
        "2": "Saturation Controls",
        "3": "Hue Controls"
       },
       "children": [
        "IPY_MODEL_17338397fde0462fb19d91573e7a69d1",
        "IPY_MODEL_01500104d87f47d88486f70072f510c2",
        "IPY_MODEL_02150c7ee80540dba8619f3368410010",
        "IPY_MODEL_56b5e821db064c10a92574dd2f792057"
       ],
       "layout": "IPY_MODEL_70dbc3d50435421b8042bf223e74ce3f"
      }
     },
     "b4846eda99094808ac979bea9363332e": {
      "model_module": "@jupyter-widgets/base",
      "model_module_version": "1.2.0",
      "model_name": "LayoutModel",
      "state": {}
     },
     "b48e363fdb214c8a93c2ccf225e062ad": {
      "model_module": "@jupyter-widgets/controls",
      "model_module_version": "1.5.0",
      "model_name": "ButtonStyleModel",
      "state": {}
     },
     "b4ed01f8afec4306a0b148e697970e45": {
      "model_module": "@jupyter-widgets/controls",
      "model_module_version": "1.5.0",
      "model_name": "ButtonModel",
      "state": {
       "description": "Reset Hue Controls",
       "layout": "IPY_MODEL_ebc5af55fec04da885cb539f3255f539",
       "style": "IPY_MODEL_27f1e1ae0f5b46f4bd1182b224e45f5c"
      }
     },
     "b4fd218992db40938c8ef337cbfc5a1d": {
      "model_module": "@jupyter-widgets/base",
      "model_module_version": "1.2.0",
      "model_name": "LayoutModel",
      "state": {}
     },
     "b52e7cbf2e1f4bfea9333607aa4ee841": {
      "model_module": "@jupyter-widgets/controls",
      "model_module_version": "1.5.0",
      "model_name": "SliderStyleModel",
      "state": {
       "description_width": ""
      }
     },
     "b590d91bba104829aee6fa4e4afe278c": {
      "model_module": "@jupyter-widgets/controls",
      "model_module_version": "1.5.0",
      "model_name": "SliderStyleModel",
      "state": {
       "description_width": ""
      }
     },
     "b593c749dcae4a6f8b1e6367b491def9": {
      "model_module": "@jupyter-widgets/base",
      "model_module_version": "1.2.0",
      "model_name": "LayoutModel",
      "state": {
       "align_items": "stretch",
       "display": "flex",
       "flex_flow": "column",
       "width": "1128px"
      }
     },
     "b5d209b8da6f4e529c82bb7e30105921": {
      "model_module": "@jupyter-widgets/base",
      "model_module_version": "1.2.0",
      "model_name": "LayoutModel",
      "state": {}
     },
     "b5d2af5a7ab84f2c975884b4e3618406": {
      "model_module": "@jupyter-widgets/base",
      "model_module_version": "1.2.0",
      "model_name": "LayoutModel",
      "state": {}
     },
     "b5f3f88a1f124d5296ad919acde39605": {
      "model_module": "@jupyter-widgets/base",
      "model_module_version": "1.2.0",
      "model_name": "LayoutModel",
      "state": {}
     },
     "b5f4b0ce5eca446bb298c295265d404a": {
      "model_module": "@jupyter-widgets/controls",
      "model_module_version": "1.5.0",
      "model_name": "DescriptionStyleModel",
      "state": {
       "description_width": ""
      }
     },
     "b62db3f49b93449484caea35eaffb81c": {
      "model_module": "@jupyter-widgets/controls",
      "model_module_version": "1.5.0",
      "model_name": "VBoxModel",
      "state": {
       "children": [
        "IPY_MODEL_2572fc34d6a3497db05ea76bb5201213",
        "IPY_MODEL_84956eba9c244116a83314534c354172"
       ],
       "layout": "IPY_MODEL_8fcf70b0eba24a51835a598427436274"
      }
     },
     "b63bfcc9417148a0a7d450bf79e42d3e": {
      "model_module": "@jupyter-widgets/base",
      "model_module_version": "1.2.0",
      "model_name": "LayoutModel",
      "state": {}
     },
     "b63e83814b544bfa901ccf1f6f085d7b": {
      "model_module": "@jupyter-widgets/base",
      "model_module_version": "1.2.0",
      "model_name": "LayoutModel",
      "state": {}
     },
     "b66d5412c6f741419f71e6fea32f8226": {
      "model_module": "@jupyter-widgets/controls",
      "model_module_version": "1.5.0",
      "model_name": "SliderStyleModel",
      "state": {
       "description_width": ""
      }
     },
     "b6752f9367cc4af09cb4428ecd357817": {
      "model_module": "@jupyter-widgets/controls",
      "model_module_version": "1.5.0",
      "model_name": "ButtonModel",
      "state": {
       "description": "Save Figure",
       "layout": "IPY_MODEL_0a2f08761ba9490fa64d03a348eea0e6",
       "style": "IPY_MODEL_44d6616ef9874bf6a05942d584841644"
      }
     },
     "b68f1b0dac914f048e02da359827e6cc": {
      "model_module": "@jupyter-widgets/output",
      "model_module_version": "1.0.0",
      "model_name": "OutputModel",
      "state": {
       "layout": "IPY_MODEL_7d096b3ed81147d5a9e5fd1c9efe5a57",
       "outputs": [
        {
         "data": {
          "application/vnd.jupyter.widget-view+json": {
           "model_id": "15061ecd04224fdab672434b7e6382ee",
           "version_major": 2,
           "version_minor": 0
          },
          "text/plain": "Canvas(toolbar=Toolbar(toolitems=[('Home', 'Reset original view', 'home', 'home'), ('Back', 'Back to previous …"
         },
         "metadata": {},
         "output_type": "display_data"
        }
       ]
      }
     },
     "b6bbe695aef64f059ed3d7153531af25": {
      "model_module": "@jupyter-widgets/controls",
      "model_module_version": "1.5.0",
      "model_name": "SliderStyleModel",
      "state": {
       "description_width": ""
      }
     },
     "b6fb68c88c5c4af6a19bdbf06c1f693c": {
      "model_module": "@jupyter-widgets/controls",
      "model_module_version": "1.5.0",
      "model_name": "SliderStyleModel",
      "state": {
       "description_width": ""
      }
     },
     "b7101d7e742243f293e4c4a31ced1600": {
      "model_module": "@jupyter-widgets/base",
      "model_module_version": "1.2.0",
      "model_name": "LayoutModel",
      "state": {
       "border": "solid 4px #222",
       "margin": "4px",
       "padding": "0"
      }
     },
     "b7498460b8894488887162e6982e3740": {
      "model_module": "@jupyter-widgets/controls",
      "model_module_version": "1.5.0",
      "model_name": "SliderStyleModel",
      "state": {
       "description_width": ""
      }
     },
     "b7756dcf06814639bc1927557c5e796c": {
      "model_module": "@jupyter-widgets/controls",
      "model_module_version": "1.5.0",
      "model_name": "DropdownModel",
      "state": {
       "_options_labels": [
        "tanh",
        "atan",
        "simple"
       ],
       "description": "Compression Function:",
       "index": 0,
       "layout": "IPY_MODEL_fbb254787d6545eab1fd52b4908b72f4",
       "style": "IPY_MODEL_ea3f2276aa014b069600e7b6ad586863"
      }
     },
     "b77b4a156588474b971022bb800ed063": {
      "model_module": "@jupyter-widgets/controls",
      "model_module_version": "1.5.0",
      "model_name": "FloatSliderModel",
      "state": {
       "description": "Protected Area Threshold",
       "layout": "IPY_MODEL_c479cb73ffd44ddaa73774706822138d",
       "max": 1,
       "step": 0.01,
       "style": "IPY_MODEL_bfe042d4b9ac463e9900a73b67901d58",
       "value": 0.7
      }
     },
     "b7a127be4d1c4b0f9616f426bbe99d23": {
      "model_module": "@jupyter-widgets/controls",
      "model_module_version": "1.5.0",
      "model_name": "CheckboxModel",
      "state": {
       "description": "Disable Medicina",
       "disabled": false,
       "layout": "IPY_MODEL_85ec5040d41d40b8a15e12594cfac700",
       "style": "IPY_MODEL_2dc43dd8897c429fbbe93e4272e8e3cd",
       "value": false
      }
     },
     "b7a1615aca154bb38c8c7c176952fe48": {
      "model_module": "@jupyter-widgets/controls",
      "model_module_version": "1.5.0",
      "model_name": "SliderStyleModel",
      "state": {
       "description_width": ""
      }
     },
     "b7c9184f2e924eed8ff226be4727a9a4": {
      "model_module": "@jupyter-widgets/controls",
      "model_module_version": "1.5.0",
      "model_name": "SliderStyleModel",
      "state": {
       "description_width": ""
      }
     },
     "b7cbf1bbe6c24f3098b5de3deb07d823": {
      "model_module": "jupyter-matplotlib",
      "model_module_version": "^0.7.2",
      "model_name": "ToolbarModel",
      "state": {
       "layout": "IPY_MODEL_bbb68b779a7642b6b4647bdc7bdf6822",
       "toolitems": [
        [
         "Home",
         "Reset original view",
         "home",
         "home"
        ],
        [
         "Back",
         "Back to previous view",
         "arrow-left",
         "back"
        ],
        [
         "Forward",
         "Forward to next view",
         "arrow-right",
         "forward"
        ],
        [
         "Pan",
         "Pan axes with left mouse, zoom with right",
         "arrows",
         "pan"
        ],
        [
         "Zoom",
         "Zoom to rectangle",
         "square-o",
         "zoom"
        ],
        [
         "Download",
         "Download plot",
         "floppy-o",
         "save_figure"
        ]
       ]
      }
     },
     "b7fe0962e2204e329c84ea247340eb06": {
      "model_module": "@jupyter-widgets/controls",
      "model_module_version": "1.5.0",
      "model_name": "DescriptionStyleModel",
      "state": {
       "description_width": ""
      }
     },
     "b814c18aeaa84cbd81798b30b6eee6b0": {
      "model_module": "jupyter-matplotlib",
      "model_module_version": "^0.7.2",
      "model_name": "ToolbarModel",
      "state": {
       "layout": "IPY_MODEL_7f626ce599ff4006b5d4f55864f8655e",
       "toolitems": [
        [
         "Home",
         "Reset original view",
         "home",
         "home"
        ],
        [
         "Back",
         "Back to previous view",
         "arrow-left",
         "back"
        ],
        [
         "Forward",
         "Forward to next view",
         "arrow-right",
         "forward"
        ],
        [
         "Pan",
         "Pan axes with left mouse, zoom with right",
         "arrows",
         "pan"
        ],
        [
         "Zoom",
         "Zoom to rectangle",
         "square-o",
         "zoom"
        ],
        [
         "Download",
         "Download plot",
         "floppy-o",
         "save_figure"
        ]
       ]
      }
     },
     "b83b12077ce14fdf8c0650dcecaae6a7": {
      "model_module": "jupyter-matplotlib",
      "model_module_version": "^0.7.2",
      "model_name": "MPLCanvasModel",
      "state": {
       "_figure_label": "Figure 8",
       "_height": 458,
       "_width": 1099,
       "header_visible": false,
       "layout": "IPY_MODEL_bbc55559f4024c1cb9337c4f83f293c7",
       "resizable": false,
       "toolbar": "IPY_MODEL_9b36797d059f4b0abb6e0ae96946085e",
       "toolbar_position": "left",
       "toolbar_visible": false
      }
     },
     "b8718739ecad41e8b685cff44e84b691": {
      "model_module": "@jupyter-widgets/controls",
      "model_module_version": "1.5.0",
      "model_name": "DescriptionStyleModel",
      "state": {
       "description_width": ""
      }
     },
     "b8bd4d7ffba849e1a13d390bd85f3e4b": {
      "model_module": "@jupyter-widgets/controls",
      "model_module_version": "1.5.0",
      "model_name": "VBoxModel",
      "state": {
       "children": [
        "IPY_MODEL_ce85cf7a4f644079ada1f1874af8fd76",
        "IPY_MODEL_66f8276cbb3e4610b7bea5848330d7f9",
        "IPY_MODEL_815e49284ae34b13b7f35efb2b8624a7"
       ],
       "layout": "IPY_MODEL_cd7a50073d2e44e6b26ce5fc8c4e46da"
      }
     },
     "b951ccc4253a4ad9909ffa76b0802f0b": {
      "model_module": "@jupyter-widgets/controls",
      "model_module_version": "1.5.0",
      "model_name": "ButtonStyleModel",
      "state": {}
     },
     "b9975777a8254c22bfc8668ca99cf225": {
      "model_module": "@jupyter-widgets/controls",
      "model_module_version": "1.5.0",
      "model_name": "ButtonStyleModel",
      "state": {}
     },
     "b9a30f75e13a457490a671529f12cd7d": {
      "model_module": "@jupyter-widgets/base",
      "model_module_version": "1.2.0",
      "model_name": "LayoutModel",
      "state": {}
     },
     "b9fc3dec1e0241b9b18b7331301ee9d9": {
      "model_module": "@jupyter-widgets/controls",
      "model_module_version": "1.5.0",
      "model_name": "DropdownModel",
      "state": {
       "_options_labels": [
        "tanh",
        "atan",
        "simple"
       ],
       "description": "Compression Function:",
       "index": 0,
       "layout": "IPY_MODEL_bb191eefa9fb44e2bb9d9a24e246306d",
       "style": "IPY_MODEL_a525679bd3ad4f0891c45938a18cbf0b"
      }
     },
     "ba0dc5e3f8ad4cc19cae0b6c0ad7b126": {
      "model_module": "@jupyter-widgets/base",
      "model_module_version": "1.2.0",
      "model_name": "LayoutModel",
      "state": {}
     },
     "ba5bb874151645158a9e6c3fce621e41": {
      "model_module": "@jupyter-widgets/controls",
      "model_module_version": "1.5.0",
      "model_name": "VBoxModel",
      "state": {
       "children": [
        "IPY_MODEL_d8b6e3500107490bb2251169bf0ec629",
        "IPY_MODEL_2bee05aa6784498ba6b7247285715e6a",
        "IPY_MODEL_aa67397519634dd9abf10fcc60288b49"
       ],
       "layout": "IPY_MODEL_3c764c1a536c42d5b40cfab2e0b25aea"
      }
     },
     "baaf01fe76ec47239625aed7eddc1a95": {
      "model_module": "@jupyter-widgets/base",
      "model_module_version": "1.2.0",
      "model_name": "LayoutModel",
      "state": {}
     },
     "bada3e2adc894e23a243fe46acff8bde": {
      "model_module": "@jupyter-widgets/controls",
      "model_module_version": "1.5.0",
      "model_name": "TabModel",
      "state": {
       "_titles": {
        "0": "Global Controls",
        "1": "Protected Area Controls",
        "2": "Saturation Controls",
        "3": "Hue Controls"
       },
       "children": [
        "IPY_MODEL_586d36363c6b4216881b12a16192887e",
        "IPY_MODEL_6c9f96055da543ddaea5807b5309fe77",
        "IPY_MODEL_18efb2f93d42419784357a33f7f7e993",
        "IPY_MODEL_02a806210a2a410cb3b970ba1ef50d6d"
       ],
       "layout": "IPY_MODEL_b1f031dc6843448598ec50e96f4d6ef9"
      }
     },
     "bae2590343f24d9ebba4fcc50cb1c28f": {
      "model_module": "@jupyter-widgets/controls",
      "model_module_version": "1.5.0",
      "model_name": "ButtonStyleModel",
      "state": {}
     },
     "bae96351d9394bf3b10fd8ce5c0fb0c9": {
      "model_module": "@jupyter-widgets/base",
      "model_module_version": "1.2.0",
      "model_name": "LayoutModel",
      "state": {}
     },
     "bb191eefa9fb44e2bb9d9a24e246306d": {
      "model_module": "@jupyter-widgets/base",
      "model_module_version": "1.2.0",
      "model_name": "LayoutModel",
      "state": {}
     },
     "bb4eac50baeb44ed9ecb7e14abaa2715": {
      "model_module": "@jupyter-widgets/base",
      "model_module_version": "1.2.0",
      "model_name": "LayoutModel",
      "state": {}
     },
     "bb6322c985124fb49a3b43ea5c636dd6": {
      "model_module": "@jupyter-widgets/base",
      "model_module_version": "1.2.0",
      "model_name": "LayoutModel",
      "state": {}
     },
     "bbb68b779a7642b6b4647bdc7bdf6822": {
      "model_module": "@jupyter-widgets/base",
      "model_module_version": "1.2.0",
      "model_name": "LayoutModel",
      "state": {}
     },
     "bbc1b5d1803d4b0fbffda2eb6212657d": {
      "model_module": "@jupyter-widgets/controls",
      "model_module_version": "1.5.0",
      "model_name": "DescriptionStyleModel",
      "state": {
       "description_width": ""
      }
     },
     "bbc55559f4024c1cb9337c4f83f293c7": {
      "model_module": "@jupyter-widgets/base",
      "model_module_version": "1.2.0",
      "model_name": "LayoutModel",
      "state": {}
     },
     "bc46d94dd9a140d98b81ee8e20d1a1a4": {
      "model_module": "@jupyter-widgets/controls",
      "model_module_version": "1.5.0",
      "model_name": "VBoxModel",
      "state": {
       "children": [
        "IPY_MODEL_1f3572e7665e4cbba3ca726868453342",
        "IPY_MODEL_aa99555407924de68c10e8fa941e2c22"
       ],
       "layout": "IPY_MODEL_bca78de2bb964c87b0d0a8d08eca4391"
      }
     },
     "bca78de2bb964c87b0d0a8d08eca4391": {
      "model_module": "@jupyter-widgets/base",
      "model_module_version": "1.2.0",
      "model_name": "LayoutModel",
      "state": {}
     },
     "bd08bdbbb4204535bc28672c59e0562f": {
      "model_module": "@jupyter-widgets/base",
      "model_module_version": "1.2.0",
      "model_name": "LayoutModel",
      "state": {}
     },
     "bd1d1e11ec9049f19989da5f3c482574": {
      "model_module": "@jupyter-widgets/controls",
      "model_module_version": "1.5.0",
      "model_name": "HBoxModel",
      "state": {
       "children": [
        "IPY_MODEL_8438245794a040b8afc96d86390b17f9",
        "IPY_MODEL_5cf57a436d4441dc9df9372a2c17ab85"
       ],
       "layout": "IPY_MODEL_686c0eed822844ada833338ade062cf4"
      }
     },
     "bd94b24d56fc453ca515df4d83197e29": {
      "model_module": "@jupyter-widgets/base",
      "model_module_version": "1.2.0",
      "model_name": "LayoutModel",
      "state": {}
     },
     "be1c0706d1ab4f71bd3a570baa7fe1fc": {
      "model_module": "@jupyter-widgets/controls",
      "model_module_version": "1.5.0",
      "model_name": "ButtonModel",
      "state": {
       "description": "Export Image",
       "layout": "IPY_MODEL_c055c77ce2b149079de8c7b83a3a58d1",
       "style": "IPY_MODEL_423d60d652274beba2b21e4cca669efb"
      }
     },
     "be37c0b4f1914db79363284a3b80b522": {
      "model_module": "@jupyter-widgets/controls",
      "model_module_version": "1.5.0",
      "model_name": "ButtonStyleModel",
      "state": {}
     },
     "be3bf04dee9b43268270c4abbfc8a50c": {
      "model_module": "@jupyter-widgets/base",
      "model_module_version": "1.2.0",
      "model_name": "LayoutModel",
      "state": {}
     },
     "be445c262ade480dabcf0f477f3ac781": {
      "model_module": "@jupyter-widgets/controls",
      "model_module_version": "1.5.0",
      "model_name": "ButtonStyleModel",
      "state": {}
     },
     "be772e8f87c54eb08c417c4eca1136e5": {
      "model_module": "@jupyter-widgets/controls",
      "model_module_version": "1.5.0",
      "model_name": "ButtonModel",
      "state": {
       "description": "Save Figure",
       "layout": "IPY_MODEL_3058c7b4acdb47f39c7d714a3d7ebe6a",
       "style": "IPY_MODEL_e62da1219aca4093852fce531cc00168"
      }
     },
     "be9307f1e16b49c1a304d770f6e07e77": {
      "model_module": "@jupyter-widgets/controls",
      "model_module_version": "1.5.0",
      "model_name": "FloatSliderModel",
      "state": {
       "description": "Exposure",
       "layout": "IPY_MODEL_e1d7e4823c374347ac0dbc2412c5097e",
       "max": 8,
       "min": -8,
       "step": 0.1,
       "style": "IPY_MODEL_da23fccc361a45f2ab02d086920d75df"
      }
     },
     "bec07acbf55c4e9da599f4a5a2204c81": {
      "model_module": "@jupyter-widgets/controls",
      "model_module_version": "1.5.0",
      "model_name": "DescriptionStyleModel",
      "state": {
       "description_width": ""
      }
     },
     "bf51b4f895704f06ba09018445564d78": {
      "model_module": "@jupyter-widgets/controls",
      "model_module_version": "1.5.0",
      "model_name": "FloatSliderModel",
      "state": {
       "description": "Protected Area Threshold",
       "layout": "IPY_MODEL_89af6f1adb3f4844be7322d10b6bdb4b",
       "max": 1,
       "step": 0.01,
       "style": "IPY_MODEL_43c0640bbfd5479582fd632c18453e2b",
       "value": 0.5
      }
     },
     "bf6c7089ecd541b6b8b4d607b271a8f6": {
      "model_module": "@jupyter-widgets/controls",
      "model_module_version": "1.5.0",
      "model_name": "FloatSliderModel",
      "state": {
       "description": "270°",
       "layout": "IPY_MODEL_d0991c4168c94fd089c213d014f0be58",
       "max": 1,
       "min": -1,
       "step": 0.01,
       "style": "IPY_MODEL_86007f4cd86644e9bda616d38c5690ab"
      }
     },
     "bf8e9cfb8bbc44ae9f15e96bf3100a36": {
      "model_module": "@jupyter-widgets/controls",
      "model_module_version": "1.5.0",
      "model_name": "FloatSliderModel",
      "state": {
       "description": "Exposure",
       "layout": "IPY_MODEL_fc9d9870f2e440c2a0bea9083f63e6ca",
       "max": 8,
       "min": -8,
       "step": 0.1,
       "style": "IPY_MODEL_2f619e721fb144a796d0c09c62f0fafc"
      }
     },
     "bfb98265cbdf4e3e96fd5b9ddc375b13": {
      "model_module": "@jupyter-widgets/base",
      "model_module_version": "1.2.0",
      "model_name": "LayoutModel",
      "state": {
       "border": "solid 4px #222",
       "margin": "4px",
       "padding": "0"
      }
     },
     "bfc5539e363745139d331dac2a06020c": {
      "model_module": "@jupyter-widgets/controls",
      "model_module_version": "1.5.0",
      "model_name": "HBoxModel",
      "state": {
       "children": [
        "IPY_MODEL_1a5a0dcd1c504b08a21d40af9183f1b8",
        "IPY_MODEL_18c44c81ae90420bb39c6e8b3aa53f30",
        "IPY_MODEL_0017466d7a7944a5ba89721d27ed1745",
        "IPY_MODEL_d77db1a81fe64f2286399b2aefd83522"
       ],
       "layout": "IPY_MODEL_c5b3efef9af34b5a9feb9dcf67202a61"
      }
     },
     "bfd33aa230ee48f3846e5c83f2900094": {
      "model_module": "@jupyter-widgets/controls",
      "model_module_version": "1.5.0",
      "model_name": "FloatSliderModel",
      "state": {
       "description": "Compression Threshold",
       "layout": "IPY_MODEL_ed415a5dc8e24d71b5aff0e806129352",
       "max": 1,
       "step": 0.01,
       "style": "IPY_MODEL_77580b875f1d4aa0aeb993c1fc1e439c",
       "value": 0.8
      }
     },
     "bfe042d4b9ac463e9900a73b67901d58": {
      "model_module": "@jupyter-widgets/controls",
      "model_module_version": "1.5.0",
      "model_name": "SliderStyleModel",
      "state": {
       "description_width": ""
      }
     },
     "c055c77ce2b149079de8c7b83a3a58d1": {
      "model_module": "@jupyter-widgets/base",
      "model_module_version": "1.2.0",
      "model_name": "LayoutModel",
      "state": {}
     },
     "c057255defe04d81a8ec55713880185c": {
      "model_module": "@jupyter-widgets/controls",
      "model_module_version": "1.5.0",
      "model_name": "ButtonStyleModel",
      "state": {}
     },
     "c084e7e1925b4ee487328634c80f5d18": {
      "model_module": "@jupyter-widgets/controls",
      "model_module_version": "1.5.0",
      "model_name": "DescriptionStyleModel",
      "state": {
       "description_width": ""
      }
     },
     "c1322549ae244817ab421aec8bf333ea": {
      "model_module": "@jupyter-widgets/base",
      "model_module_version": "1.2.0",
      "model_name": "LayoutModel",
      "state": {}
     },
     "c1527cd6a86e455ca22d33336f1c6e8f": {
      "model_module": "@jupyter-widgets/controls",
      "model_module_version": "1.5.0",
      "model_name": "ButtonModel",
      "state": {
       "description": "Export Image",
       "layout": "IPY_MODEL_4f0771f944d3409c899add392cc10014",
       "style": "IPY_MODEL_3842f3459ac343ffbff8ebecb79a6b27"
      }
     },
     "c160f96fecde429cbc9afda4b8f3fc23": {
      "model_module": "@jupyter-widgets/controls",
      "model_module_version": "1.5.0",
      "model_name": "TabModel",
      "state": {
       "_titles": {
        "0": "Global Controls",
        "1": "Compression Controls"
       },
       "children": [
        "IPY_MODEL_4f1088ee45334744a74080cccb10f552",
        "IPY_MODEL_4c68d5af32074a0986245688b69b2425"
       ],
       "layout": "IPY_MODEL_5c01fd3ee6ac4452800c0d053e24c797"
      }
     },
     "c1d8e12cab194bb796dc09fc8cfb72a7": {
      "model_module": "@jupyter-widgets/controls",
      "model_module_version": "1.5.0",
      "model_name": "CheckboxModel",
      "state": {
       "description": "Disable Medicina",
       "disabled": false,
       "layout": "IPY_MODEL_04ff83c2b3ae40e4a5e91be7d2356cdc",
       "style": "IPY_MODEL_77dcbd00550b49d3a0bfe0e8fea62040",
       "value": false
      }
     },
     "c20d5d289b60469bb5c0dc7cb07ba00b": {
      "model_module": "@jupyter-widgets/controls",
      "model_module_version": "1.5.0",
      "model_name": "SliderStyleModel",
      "state": {
       "description_width": ""
      }
     },
     "c23632ea31744d7193b597647174cdfc": {
      "model_module": "@jupyter-widgets/base",
      "model_module_version": "1.2.0",
      "model_name": "LayoutModel",
      "state": {}
     },
     "c246faacd58745acb0890e066ba417c7": {
      "model_module": "@jupyter-widgets/controls",
      "model_module_version": "1.5.0",
      "model_name": "SliderStyleModel",
      "state": {
       "description_width": ""
      }
     },
     "c2944e6bbc5c4dd38508a9e909b73ed5": {
      "model_module": "@jupyter-widgets/controls",
      "model_module_version": "1.5.0",
      "model_name": "ButtonModel",
      "state": {
       "description": "Reset Hue Controls",
       "layout": "IPY_MODEL_f21bb1e0c23b43fabfe82f6b393e06d6",
       "style": "IPY_MODEL_a1cbdbfe739449cc808be0188a1cbec4"
      }
     },
     "c2b71afce65f48bf9c5e7340237ed839": {
      "model_module": "@jupyter-widgets/output",
      "model_module_version": "1.0.0",
      "model_name": "OutputModel",
      "state": {
       "layout": "IPY_MODEL_8acdc51c2932487a8baab6562d350b24",
       "outputs": [
        {
         "data": {
          "application/vnd.jupyter.widget-view+json": {
           "model_id": "38fb02364f514d0db3374b948b3ae52f",
           "version_major": 2,
           "version_minor": 0
          },
          "text/plain": "Canvas(toolbar=Toolbar(toolitems=[('Home', 'Reset original view', 'home', 'home'), ('Back', 'Back to previous …"
         },
         "metadata": {},
         "output_type": "display_data"
        }
       ]
      }
     },
     "c2c0beda37724a57a27fcac4a468f937": {
      "model_module": "@jupyter-widgets/controls",
      "model_module_version": "1.5.0",
      "model_name": "ButtonModel",
      "state": {
       "description": "Reset Compression Controls",
       "layout": "IPY_MODEL_1bd64bafc0d641a1a857ceed8ad88b92",
       "style": "IPY_MODEL_490f81b3d40b41268abb1f0fa908b985"
      }
     },
     "c2eff7790d9f4e2f8df26ee9f40dd2a1": {
      "model_module": "@jupyter-widgets/controls",
      "model_module_version": "1.5.0",
      "model_name": "ButtonStyleModel",
      "state": {}
     },
     "c328f72fe1dd4a89be6500cc0dc9226b": {
      "model_module": "@jupyter-widgets/base",
      "model_module_version": "1.2.0",
      "model_name": "LayoutModel",
      "state": {}
     },
     "c3623b55558f42eca74ba906e48f0fdc": {
      "model_module": "@jupyter-widgets/base",
      "model_module_version": "1.2.0",
      "model_name": "LayoutModel",
      "state": {}
     },
     "c392aec90d8147898a5526009aee1e0a": {
      "model_module": "@jupyter-widgets/base",
      "model_module_version": "1.2.0",
      "model_name": "LayoutModel",
      "state": {}
     },
     "c3a10551b7d9494f9c400886398b5566": {
      "model_module": "@jupyter-widgets/controls",
      "model_module_version": "1.5.0",
      "model_name": "SliderStyleModel",
      "state": {
       "description_width": ""
      }
     },
     "c3b26e6fbf1943f8896f2f9bcf3ebd1e": {
      "model_module": "@jupyter-widgets/controls",
      "model_module_version": "1.5.0",
      "model_name": "BoxModel",
      "state": {
       "children": [
        "IPY_MODEL_93457466a3c04c15bcdfeeaaab5f95e5",
        "IPY_MODEL_b47cf1fedd294729b1e5de0be0edd01b"
       ],
       "layout": "IPY_MODEL_f6bf48dbd6674531a75cc53d74fad848"
      }
     },
     "c3be367a5dfc442cbed8ec12a2130f5d": {
      "model_module": "@jupyter-widgets/base",
      "model_module_version": "1.2.0",
      "model_name": "LayoutModel",
      "state": {}
     },
     "c3fe8d9e330a45908890d3214d3a8b0d": {
      "model_module": "@jupyter-widgets/controls",
      "model_module_version": "1.5.0",
      "model_name": "ButtonModel",
      "state": {
       "description": "Export Image",
       "layout": "IPY_MODEL_c328f72fe1dd4a89be6500cc0dc9226b",
       "style": "IPY_MODEL_078371fc455f4a77a65b9f638fccec65"
      }
     },
     "c416accd9e95460fb321d60002ef5d79": {
      "model_module": "jupyter-matplotlib",
      "model_module_version": "^0.7.2",
      "model_name": "ToolbarModel",
      "state": {
       "layout": "IPY_MODEL_e11767915de941a8850f66de9701c163",
       "toolitems": [
        [
         "Home",
         "Reset original view",
         "home",
         "home"
        ],
        [
         "Back",
         "Back to previous view",
         "arrow-left",
         "back"
        ],
        [
         "Forward",
         "Forward to next view",
         "arrow-right",
         "forward"
        ],
        [
         "Pan",
         "Pan axes with left mouse, zoom with right",
         "arrows",
         "pan"
        ],
        [
         "Zoom",
         "Zoom to rectangle",
         "square-o",
         "zoom"
        ],
        [
         "Download",
         "Download plot",
         "floppy-o",
         "save_figure"
        ]
       ]
      }
     },
     "c43ce2d9627143a8a503a9f93fd08560": {
      "model_module": "@jupyter-widgets/base",
      "model_module_version": "1.2.0",
      "model_name": "LayoutModel",
      "state": {}
     },
     "c447f332c9224bbba9813037533d20e0": {
      "model_module": "@jupyter-widgets/controls",
      "model_module_version": "1.5.0",
      "model_name": "HBoxModel",
      "state": {
       "children": [
        "IPY_MODEL_4945553f4e22487e8805b331addb0cf7",
        "IPY_MODEL_6e25230f4a634c2f8d96dc9b45c3445e",
        "IPY_MODEL_f06bb29f197f4ed395d6db0dc4a6ac78",
        "IPY_MODEL_bf8e9cfb8bbc44ae9f15e96bf3100a36"
       ],
       "layout": "IPY_MODEL_55ba3074a0454bee97507d525e214ae0"
      }
     },
     "c468cb23854647ce8ae2d56fe5706572": {
      "model_module": "@jupyter-widgets/output",
      "model_module_version": "1.0.0",
      "model_name": "OutputModel",
      "state": {
       "layout": "IPY_MODEL_b7101d7e742243f293e4c4a31ced1600",
       "outputs": [
        {
         "data": {
          "application/vnd.jupyter.widget-view+json": {
           "model_id": "6c7d242ca0634640af794e1b92aef0da",
           "version_major": 2,
           "version_minor": 0
          },
          "text/plain": "Canvas(toolbar=Toolbar(toolitems=[('Home', 'Reset original view', 'home', 'home'), ('Back', 'Back to previous …"
         },
         "metadata": {},
         "output_type": "display_data"
        }
       ]
      }
     },
     "c479cb73ffd44ddaa73774706822138d": {
      "model_module": "@jupyter-widgets/base",
      "model_module_version": "1.2.0",
      "model_name": "LayoutModel",
      "state": {}
     },
     "c517ec7de08f49d1b5be3b08bf6cec4b": {
      "model_module": "@jupyter-widgets/base",
      "model_module_version": "1.2.0",
      "model_name": "LayoutModel",
      "state": {
       "border": "solid 4px #222",
       "margin": "4px",
       "padding": "0"
      }
     },
     "c51f3d932cc6476381bbf1d1ef302e9a": {
      "model_module": "@jupyter-widgets/base",
      "model_module_version": "1.2.0",
      "model_name": "LayoutModel",
      "state": {}
     },
     "c58e438461ca4f4a98eb6046fb77c3f4": {
      "model_module": "@jupyter-widgets/base",
      "model_module_version": "1.2.0",
      "model_name": "LayoutModel",
      "state": {}
     },
     "c5af214908ec410a971e37cb2c675aca": {
      "model_module": "@jupyter-widgets/controls",
      "model_module_version": "1.5.0",
      "model_name": "DescriptionStyleModel",
      "state": {
       "description_width": ""
      }
     },
     "c5b3efef9af34b5a9feb9dcf67202a61": {
      "model_module": "@jupyter-widgets/base",
      "model_module_version": "1.2.0",
      "model_name": "LayoutModel",
      "state": {}
     },
     "c5b3f453e39d45e5a3fafc015f91ed52": {
      "model_module": "@jupyter-widgets/base",
      "model_module_version": "1.2.0",
      "model_name": "LayoutModel",
      "state": {}
     },
     "c5c9485b494e4178b8aa2033adb30ec6": {
      "model_module": "@jupyter-widgets/controls",
      "model_module_version": "1.5.0",
      "model_name": "ButtonStyleModel",
      "state": {}
     },
     "c5d0a4dc767f4f42a9d9c3ce32e86d3b": {
      "model_module": "@jupyter-widgets/base",
      "model_module_version": "1.2.0",
      "model_name": "LayoutModel",
      "state": {}
     },
     "c66f3da5bff4406c842ceedd1f114009": {
      "model_module": "@jupyter-widgets/base",
      "model_module_version": "1.2.0",
      "model_name": "LayoutModel",
      "state": {}
     },
     "c6905cb36ded429585a1947fdc5fdd47": {
      "model_module": "@jupyter-widgets/controls",
      "model_module_version": "1.5.0",
      "model_name": "HBoxModel",
      "state": {
       "children": [
        "IPY_MODEL_4465f662280a436da528ff5ffa097713",
        "IPY_MODEL_b7756dcf06814639bc1927557c5e796c",
        "IPY_MODEL_8ca7b71fce984438900a1ae37c06f54e"
       ],
       "layout": "IPY_MODEL_170950b5c99c4e3c876a291b463a0dc2"
      }
     },
     "c6c7b2303dc24623946d645a8dc8bbd7": {
      "model_module": "@jupyter-widgets/controls",
      "model_module_version": "1.5.0",
      "model_name": "DescriptionStyleModel",
      "state": {
       "description_width": ""
      }
     },
     "c6c85f1bf5c64402b9df8152f401d55c": {
      "model_module": "@jupyter-widgets/controls",
      "model_module_version": "1.5.0",
      "model_name": "CheckboxModel",
      "state": {
       "description": "Disable Medicina",
       "disabled": false,
       "layout": "IPY_MODEL_0cc8d1c8aa8e49479634d3c5fc7f4f29",
       "style": "IPY_MODEL_9f5ca4c69943461abcf6e38c2bf574ee",
       "value": false
      }
     },
     "c714ebec80ed414abe7018bd35abbd41": {
      "model_module": "@jupyter-widgets/controls",
      "model_module_version": "1.5.0",
      "model_name": "FloatSliderModel",
      "state": {
       "description": "45°",
       "layout": "IPY_MODEL_8e6d11cc42b64c728fe748cbe2bdb71d",
       "max": 1,
       "min": -1,
       "step": 0.01,
       "style": "IPY_MODEL_648ab6ad03434eee9e785db290fbaada"
      }
     },
     "c717884bd25e4f878b3106ad92b7c111": {
      "model_module": "@jupyter-widgets/controls",
      "model_module_version": "1.5.0",
      "model_name": "ButtonStyleModel",
      "state": {}
     },
     "c78afa3d871e4903a257bee9609197c9": {
      "model_module": "@jupyter-widgets/controls",
      "model_module_version": "1.5.0",
      "model_name": "FloatSliderModel",
      "state": {
       "description": "Exposure",
       "layout": "IPY_MODEL_87f9955f11e2477dadb826ec1385af35",
       "max": 8,
       "min": -8,
       "step": 0.1,
       "style": "IPY_MODEL_2327813718b84f66ae21f6a6052bc0af"
      }
     },
     "c7d469dae39545f0bb4084ce842a68d9": {
      "model_module": "@jupyter-widgets/base",
      "model_module_version": "1.2.0",
      "model_name": "LayoutModel",
      "state": {}
     },
     "c7d50810a50344f092ea0c2aeef423b2": {
      "model_module": "@jupyter-widgets/base",
      "model_module_version": "1.2.0",
      "model_name": "LayoutModel",
      "state": {}
     },
     "c7da256c9def46ca97de2cf566f8c538": {
      "model_module": "@jupyter-widgets/base",
      "model_module_version": "1.2.0",
      "model_name": "LayoutModel",
      "state": {}
     },
     "c8a4d6bd9f264e52a11c2a709de8552b": {
      "model_module": "@jupyter-widgets/base",
      "model_module_version": "1.2.0",
      "model_name": "LayoutModel",
      "state": {}
     },
     "c957e86916a046b084595f3a07fb2a0e": {
      "model_module": "@jupyter-widgets/controls",
      "model_module_version": "1.5.0",
      "model_name": "FloatSliderModel",
      "state": {
       "description": "225°",
       "layout": "IPY_MODEL_b2f32f518e4e4cdd959a5ff6829d775d",
       "max": 1,
       "min": -1,
       "step": 0.01,
       "style": "IPY_MODEL_85645f7e21874239b31bc5c83eff0229"
      }
     },
     "c9dcc5caf69c497fac7f94f64b4cb7ea": {
      "model_module": "@jupyter-widgets/base",
      "model_module_version": "1.2.0",
      "model_name": "LayoutModel",
      "state": {}
     },
     "c9fa492c036b4eeebabab22213c93bd4": {
      "model_module": "@jupyter-widgets/controls",
      "model_module_version": "1.5.0",
      "model_name": "FloatSliderModel",
      "state": {
       "description": "270°",
       "layout": "IPY_MODEL_539ecc9aea2349519d99d70668ea8088",
       "max": 1,
       "min": -1,
       "step": 0.01,
       "style": "IPY_MODEL_255d4b9cf643493c83ea4750a7a1f173"
      }
     },
     "ca6257e77a4f4363a1b266f3e17cbf93": {
      "model_module": "@jupyter-widgets/controls",
      "model_module_version": "1.5.0",
      "model_name": "FloatSliderModel",
      "state": {
       "description": "Protected Area Threshold",
       "layout": "IPY_MODEL_a7b0ad9a7eb64ec08443eb89ef80b132",
       "max": 1,
       "step": 0.01,
       "style": "IPY_MODEL_4ef4c47f3f5b4ba99df0033db58f03d1",
       "value": 0.7
      }
     },
     "ca62efc7823443a8b82e389e1979f2ee": {
      "model_module": "@jupyter-widgets/base",
      "model_module_version": "1.2.0",
      "model_name": "LayoutModel",
      "state": {}
     },
     "ca6a03f9dae44d5f89217e469ed30c01": {
      "model_module": "@jupyter-widgets/controls",
      "model_module_version": "1.5.0",
      "model_name": "ButtonStyleModel",
      "state": {}
     },
     "ca8886638200425482d3bdd3d941b006": {
      "model_module": "@jupyter-widgets/base",
      "model_module_version": "1.2.0",
      "model_name": "LayoutModel",
      "state": {}
     },
     "caac433b491c419eb4dfa97ff06ef381": {
      "model_module": "@jupyter-widgets/base",
      "model_module_version": "1.2.0",
      "model_name": "LayoutModel",
      "state": {}
     },
     "cae9083472e5411db6b0069e87d8d6a7": {
      "model_module": "@jupyter-widgets/controls",
      "model_module_version": "1.5.0",
      "model_name": "SliderStyleModel",
      "state": {
       "description_width": ""
      }
     },
     "caf19e554104470aafd762626b9742ca": {
      "model_module": "@jupyter-widgets/base",
      "model_module_version": "1.2.0",
      "model_name": "LayoutModel",
      "state": {}
     },
     "cb001da11e8843229d356ada2b3f3371": {
      "model_module": "@jupyter-widgets/base",
      "model_module_version": "1.2.0",
      "model_name": "LayoutModel",
      "state": {
       "border": "solid 4px #222",
       "margin": "4px",
       "padding": "0"
      }
     },
     "cb0aa7a305a8486daf7c0e79b18dd1bc": {
      "model_module": "@jupyter-widgets/controls",
      "model_module_version": "1.5.0",
      "model_name": "DescriptionStyleModel",
      "state": {
       "description_width": ""
      }
     },
     "cb0de1a543d647a9b6ef0bcfd14d2829": {
      "model_module": "@jupyter-widgets/controls",
      "model_module_version": "1.5.0",
      "model_name": "FloatSliderModel",
      "state": {
       "description": "Compression Threshold",
       "layout": "IPY_MODEL_93344ee5715341f69fd79fdbad2509de",
       "max": 1,
       "step": 0.01,
       "style": "IPY_MODEL_aab32c31cb4c4508b406d36d3851d280",
       "value": 0.8
      }
     },
     "cb17ba96ca9b476c81d3f66291421a32": {
      "model_module": "@jupyter-widgets/controls",
      "model_module_version": "1.5.0",
      "model_name": "SliderStyleModel",
      "state": {
       "description_width": ""
      }
     },
     "cb3140eef5564ab8ba2b6afd403cce2a": {
      "model_module": "@jupyter-widgets/base",
      "model_module_version": "1.2.0",
      "model_name": "LayoutModel",
      "state": {}
     },
     "cb69d7fb9f594541929c67546bfe4bd1": {
      "model_module": "@jupyter-widgets/base",
      "model_module_version": "1.2.0",
      "model_name": "LayoutModel",
      "state": {}
     },
     "cc0ad5696f024f18a1b200cd8e1ceedc": {
      "model_module": "@jupyter-widgets/controls",
      "model_module_version": "1.5.0",
      "model_name": "ButtonModel",
      "state": {
       "description": "Save Figure",
       "layout": "IPY_MODEL_86feb03bb24f47dba0c9a12aa39db56b",
       "style": "IPY_MODEL_571d65c0a9da4af2b1c38a937c61701c"
      }
     },
     "cc9bf1e7d419400fbb05846b3277507c": {
      "model_module": "@jupyter-widgets/controls",
      "model_module_version": "1.5.0",
      "model_name": "SliderStyleModel",
      "state": {
       "description_width": ""
      }
     },
     "ccc7de7c344441b3951dd9732acded1a": {
      "model_module": "@jupyter-widgets/controls",
      "model_module_version": "1.5.0",
      "model_name": "SliderStyleModel",
      "state": {
       "description_width": ""
      }
     },
     "ccf3cdcb16144ceea7b5fef2e05335f9": {
      "model_module": "@jupyter-widgets/controls",
      "model_module_version": "1.5.0",
      "model_name": "ButtonStyleModel",
      "state": {}
     },
     "cd1101a6f5d94c238a1d776f4df6e478": {
      "model_module": "@jupyter-widgets/base",
      "model_module_version": "1.2.0",
      "model_name": "LayoutModel",
      "state": {}
     },
     "cd1b75c38ba7416382adb83a155a5b0a": {
      "model_module": "@jupyter-widgets/base",
      "model_module_version": "1.2.0",
      "model_name": "LayoutModel",
      "state": {}
     },
     "cd2295b99a4f4ab8b2bfb9b961edf1a0": {
      "model_module": "@jupyter-widgets/controls",
      "model_module_version": "1.5.0",
      "model_name": "SliderStyleModel",
      "state": {
       "description_width": ""
      }
     },
     "cd249a8334144998b6e2a0d104571054": {
      "model_module": "@jupyter-widgets/controls",
      "model_module_version": "1.5.0",
      "model_name": "FloatSliderModel",
      "state": {
       "description": "0°",
       "layout": "IPY_MODEL_a155e526ad6348729275980fbcbad031",
       "max": 1,
       "min": -1,
       "step": 0.01,
       "style": "IPY_MODEL_0c5e9eff3b0c4d92880814aec7eb6a38"
      }
     },
     "cd2c66fefad5462b88824738ef9e9764": {
      "model_module": "@jupyter-widgets/base",
      "model_module_version": "1.2.0",
      "model_name": "LayoutModel",
      "state": {}
     },
     "cd7a50073d2e44e6b26ce5fc8c4e46da": {
      "model_module": "@jupyter-widgets/base",
      "model_module_version": "1.2.0",
      "model_name": "LayoutModel",
      "state": {}
     },
     "cd7ca95452da41788201360907145be4": {
      "model_module": "@jupyter-widgets/controls",
      "model_module_version": "1.5.0",
      "model_name": "TabModel",
      "state": {
       "_titles": {
        "0": "Global Controls",
        "1": "Protected Area Controls",
        "2": "Saturation Controls",
        "3": "Hue Controls"
       },
       "children": [
        "IPY_MODEL_e4dac66c915e4181b0518d1d2b5eabb6",
        "IPY_MODEL_818651c46bf3428f90211056f14a3101",
        "IPY_MODEL_eb00c36cdcbc4bbe803cec5d31f200fb",
        "IPY_MODEL_3aca818be58e478abfd0e13132c0a065"
       ],
       "layout": "IPY_MODEL_69b3a75a7ade4d06bcf889f90f37cdbd"
      }
     },
     "cde5c25178494c2aaa6347ec3355aa02": {
      "model_module": "@jupyter-widgets/controls",
      "model_module_version": "1.5.0",
      "model_name": "DescriptionStyleModel",
      "state": {
       "description_width": ""
      }
     },
     "cdf6794edf78436cb63733ba925388e0": {
      "model_module": "@jupyter-widgets/base",
      "model_module_version": "1.2.0",
      "model_name": "LayoutModel",
      "state": {}
     },
     "ce28d6cdbe8c467e8e75dbd83668ba0e": {
      "model_module": "@jupyter-widgets/controls",
      "model_module_version": "1.5.0",
      "model_name": "CheckboxModel",
      "state": {
       "description": "Disable Medicina",
       "disabled": false,
       "layout": "IPY_MODEL_126ea299100249ce9d1c8c6bc8ddba6c",
       "style": "IPY_MODEL_9efdde8c7ad44f4db5fb510265f327c8",
       "value": false
      }
     },
     "ce4cac9ad1fd4ba8a999d4ebaf16a121": {
      "model_module": "@jupyter-widgets/controls",
      "model_module_version": "1.5.0",
      "model_name": "ButtonStyleModel",
      "state": {}
     },
     "ce6f5fe3dfa44b5aa21e544e66e0e896": {
      "model_module": "@jupyter-widgets/controls",
      "model_module_version": "1.5.0",
      "model_name": "ButtonStyleModel",
      "state": {}
     },
     "ce85cf7a4f644079ada1f1874af8fd76": {
      "model_module": "@jupyter-widgets/controls",
      "model_module_version": "1.5.0",
      "model_name": "FloatSliderModel",
      "state": {
       "description": "135°",
       "layout": "IPY_MODEL_65db487ad94a44a99c6a81e44293f295",
       "max": 1,
       "min": -1,
       "step": 0.01,
       "style": "IPY_MODEL_ccc7de7c344441b3951dd9732acded1a"
      }
     },
     "ced63c5955a64e53bf660501a812d9aa": {
      "model_module": "@jupyter-widgets/base",
      "model_module_version": "1.2.0",
      "model_name": "LayoutModel",
      "state": {}
     },
     "cf070876adbd4486a3215c47b6995869": {
      "model_module": "@jupyter-widgets/base",
      "model_module_version": "1.2.0",
      "model_name": "LayoutModel",
      "state": {}
     },
     "cf2041b3311745708befd11b5592f888": {
      "model_module": "@jupyter-widgets/controls",
      "model_module_version": "1.5.0",
      "model_name": "TabModel",
      "state": {
       "_titles": {
        "0": "Global Controls",
        "1": "Protected Area Controls",
        "2": "Saturation Controls",
        "3": "Hue Controls"
       },
       "children": [
        "IPY_MODEL_e8bee17dc376407b9a7c8837bdf79eae",
        "IPY_MODEL_67af1e51b85340068748d1c2cfe8da2b",
        "IPY_MODEL_5923b10767b2494c8dd49406be7c9832",
        "IPY_MODEL_32b4ba9a395742e7a4b2e8ea331d8c5f"
       ],
       "layout": "IPY_MODEL_f402059c960441feb6f6ca5c71de8c34"
      }
     },
     "cfac268adf554da18683641133e4cf3e": {
      "model_module": "@jupyter-widgets/base",
      "model_module_version": "1.2.0",
      "model_name": "LayoutModel",
      "state": {}
     },
     "cfb1f2e0fa1f43b080bd56be31953b2c": {
      "model_module": "@jupyter-widgets/controls",
      "model_module_version": "1.5.0",
      "model_name": "TabModel",
      "state": {
       "_titles": {
        "0": "Global Controls",
        "1": "Protected Area Controls",
        "2": "Saturation Controls",
        "3": "Hue Controls"
       },
       "children": [
        "IPY_MODEL_ebdb3974fd1c4fbbbc02ff5cda3c2635",
        "IPY_MODEL_f95dbda8cd77484fa2e1e27016684ce2",
        "IPY_MODEL_76255b6aee164288be549427df3717cc",
        "IPY_MODEL_3e9cbe9872c7413bbafd8f7cea5479ea"
       ],
       "layout": "IPY_MODEL_4595b184a8214a0394f8af7b92cbb7ec",
       "selected_index": 2
      }
     },
     "cfe5ad6474ef496296352cd3ada69e9f": {
      "model_module": "@jupyter-widgets/controls",
      "model_module_version": "1.5.0",
      "model_name": "TabModel",
      "state": {
       "_titles": {
        "0": "Global Controls",
        "1": "Protected Area Controls",
        "2": "Saturation Controls",
        "3": "Hue Controls"
       },
       "children": [
        "IPY_MODEL_7abf0c45adbe4e44a0f3a0f0dbd5ae5e",
        "IPY_MODEL_01731fcc95b047d781b56330d51ddaae",
        "IPY_MODEL_0f9a6199d09f441383a5771414d70c91",
        "IPY_MODEL_47bc7e9726364b5cb3c1b34542fda8db"
       ],
       "layout": "IPY_MODEL_f36d80f067af47c2bd50132d89ee0212"
      }
     },
     "cff56f16a67d46a4b97ef654d3d2c107": {
      "model_module": "@jupyter-widgets/base",
      "model_module_version": "1.2.0",
      "model_name": "LayoutModel",
      "state": {}
     },
     "cff9d8f14fb94e05890864474810a08a": {
      "model_module": "@jupyter-widgets/base",
      "model_module_version": "1.2.0",
      "model_name": "LayoutModel",
      "state": {}
     },
     "d0991c4168c94fd089c213d014f0be58": {
      "model_module": "@jupyter-widgets/base",
      "model_module_version": "1.2.0",
      "model_name": "LayoutModel",
      "state": {}
     },
     "d0cb7d4f411641c6a79f017ffedac687": {
      "model_module": "@jupyter-widgets/controls",
      "model_module_version": "1.5.0",
      "model_name": "FloatSliderModel",
      "state": {
       "description": "135°",
       "layout": "IPY_MODEL_5527519e580a433a91c990439bdb66b3",
       "max": 1,
       "min": -1,
       "step": 0.01,
       "style": "IPY_MODEL_31742180f83543c0b07773dc4e2e02b8"
      }
     },
     "d0dc046e8bf44e1a9b4ec631556fd991": {
      "model_module": "@jupyter-widgets/base",
      "model_module_version": "1.2.0",
      "model_name": "LayoutModel",
      "state": {}
     },
     "d11b407ee60c49b2b0d20848e81ce657": {
      "model_module": "@jupyter-widgets/base",
      "model_module_version": "1.2.0",
      "model_name": "LayoutModel",
      "state": {}
     },
     "d1208aeca749477791319ce5ade16d9f": {
      "model_module": "@jupyter-widgets/base",
      "model_module_version": "1.2.0",
      "model_name": "LayoutModel",
      "state": {}
     },
     "d146f806f26c42e5ad53f03a3eaf0240": {
      "model_module": "@jupyter-widgets/controls",
      "model_module_version": "1.5.0",
      "model_name": "SliderStyleModel",
      "state": {
       "description_width": ""
      }
     },
     "d19d3312085b47f88f41ac9b17292861": {
      "model_module": "@jupyter-widgets/base",
      "model_module_version": "1.2.0",
      "model_name": "LayoutModel",
      "state": {}
     },
     "d1a190a6c5184aa2b00d84b55cfbbf24": {
      "model_module": "@jupyter-widgets/base",
      "model_module_version": "1.2.0",
      "model_name": "LayoutModel",
      "state": {
       "border": "solid 4px #222",
       "margin": "4px",
       "padding": "0"
      }
     },
     "d1a419be95ac41c6a473c94865a8b0bd": {
      "model_module": "@jupyter-widgets/base",
      "model_module_version": "1.2.0",
      "model_name": "LayoutModel",
      "state": {}
     },
     "d1b8f316878946b6858209deafeb6fca": {
      "model_module": "@jupyter-widgets/base",
      "model_module_version": "1.2.0",
      "model_name": "LayoutModel",
      "state": {}
     },
     "d1e41741db8c41f6b75d3d9835a18ad3": {
      "model_module": "@jupyter-widgets/base",
      "model_module_version": "1.2.0",
      "model_name": "LayoutModel",
      "state": {}
     },
     "d2195ea6f90d436289fde8d1ff2b388e": {
      "model_module": "@jupyter-widgets/base",
      "model_module_version": "1.2.0",
      "model_name": "LayoutModel",
      "state": {}
     },
     "d23020d744654bae9803bc5a57167da8": {
      "model_module": "@jupyter-widgets/controls",
      "model_module_version": "1.5.0",
      "model_name": "TabModel",
      "state": {
       "_titles": {
        "0": "Global Controls",
        "1": "Protected Area Controls",
        "2": "Saturation Controls",
        "3": "Hue Controls"
       },
       "children": [
        "IPY_MODEL_59cee1da8e7244678c2e1e7f02793284",
        "IPY_MODEL_6d37b605c46f4c08b7fc8f16df2f735d",
        "IPY_MODEL_0b591bd595244e75a936ec89d3c66108",
        "IPY_MODEL_eadfc081d95343c5834f1c3ce35fef2c"
       ],
       "layout": "IPY_MODEL_dd2bcc649a054cee98749463bf61cd5b"
      }
     },
     "d267bd613ae04d449535abffc99f4301": {
      "model_module": "@jupyter-widgets/controls",
      "model_module_version": "1.5.0",
      "model_name": "HBoxModel",
      "state": {
       "children": [
        "IPY_MODEL_0928bc1fb9ad404ca2614db4a3399e1e",
        "IPY_MODEL_ee8dcd8cd7794478954e49854cb95162",
        "IPY_MODEL_6556ca8eb41d494e89e712473986120d"
       ],
       "layout": "IPY_MODEL_cdf6794edf78436cb63733ba925388e0"
      }
     },
     "d281e76eab4042c1beeb1a456c2551ac": {
      "model_module": "@jupyter-widgets/controls",
      "model_module_version": "1.5.0",
      "model_name": "ButtonStyleModel",
      "state": {}
     },
     "d296a15f3bcf4bab8fdd29e8f6287bbe": {
      "model_module": "@jupyter-widgets/controls",
      "model_module_version": "1.5.0",
      "model_name": "ButtonStyleModel",
      "state": {}
     },
     "d2b7a3efc27144b386bdda8dcb999d21": {
      "model_module": "@jupyter-widgets/controls",
      "model_module_version": "1.5.0",
      "model_name": "DropdownModel",
      "state": {
       "_options_labels": [
        "tanh",
        "atan",
        "simple"
       ],
       "description": "Compression Function:",
       "index": 0,
       "layout": "IPY_MODEL_637a4a8030d7479a8d87b45f6bdd3985",
       "style": "IPY_MODEL_57af17ad6c16460daeb23dc5549e8253"
      }
     },
     "d2cdd4ca3aaf4d0ca9de7d237d385105": {
      "model_module": "@jupyter-widgets/controls",
      "model_module_version": "1.5.0",
      "model_name": "VBoxModel",
      "state": {
       "children": [
        "IPY_MODEL_b4ed01f8afec4306a0b148e697970e45"
       ],
       "layout": "IPY_MODEL_393a443c8cce45eea398090f5b0562c5"
      }
     },
     "d2e872eae5224f5194c94ee1da9ded9b": {
      "model_module": "jupyter-matplotlib",
      "model_module_version": "^0.7.2",
      "model_name": "ToolbarModel",
      "state": {
       "layout": "IPY_MODEL_d1e41741db8c41f6b75d3d9835a18ad3",
       "toolitems": [
        [
         "Home",
         "Reset original view",
         "home",
         "home"
        ],
        [
         "Back",
         "Back to previous view",
         "arrow-left",
         "back"
        ],
        [
         "Forward",
         "Forward to next view",
         "arrow-right",
         "forward"
        ],
        [
         "Pan",
         "Pan axes with left mouse, zoom with right",
         "arrows",
         "pan"
        ],
        [
         "Zoom",
         "Zoom to rectangle",
         "square-o",
         "zoom"
        ],
        [
         "Download",
         "Download plot",
         "floppy-o",
         "save_figure"
        ]
       ]
      }
     },
     "d2fe67fa24784260b4440510d3591e07": {
      "model_module": "jupyter-matplotlib",
      "model_module_version": "^0.7.2",
      "model_name": "MPLCanvasModel",
      "state": {
       "_figure_label": "Figure 2",
       "_height": 396,
       "_width": 1100,
       "header_visible": false,
       "layout": "IPY_MODEL_9b1f205f901e457b92a9c63bb5ed48c1",
       "resizable": false,
       "toolbar": "IPY_MODEL_9fdb1657edea47bf9e51eef057b1707f",
       "toolbar_position": "left",
       "toolbar_visible": false
      }
     },
     "d349c6e615764e7ca794ad3222427e7e": {
      "model_module": "@jupyter-widgets/controls",
      "model_module_version": "1.5.0",
      "model_name": "ButtonStyleModel",
      "state": {}
     },
     "d3c2c7a31112405ca989cca51cf0c5a4": {
      "model_module": "@jupyter-widgets/controls",
      "model_module_version": "1.5.0",
      "model_name": "FloatSliderModel",
      "state": {
       "description": "90°",
       "layout": "IPY_MODEL_85bf55773be74472a3f1aa0273f4b5df",
       "max": 1,
       "min": -1,
       "step": 0.01,
       "style": "IPY_MODEL_706e16b9b73e495b8f5e5d16c0d3c8ed"
      }
     },
     "d3c748139d6440adb917d99aa9537f34": {
      "model_module": "@jupyter-widgets/base",
      "model_module_version": "1.2.0",
      "model_name": "LayoutModel",
      "state": {}
     },
     "d411051844f8408a9013a15dffb9f286": {
      "model_module": "@jupyter-widgets/controls",
      "model_module_version": "1.5.0",
      "model_name": "ButtonModel",
      "state": {
       "description": "Reset Hue Controls",
       "layout": "IPY_MODEL_619ef76d3c0546cbabf5bba44c238b1c",
       "style": "IPY_MODEL_68b5a37a5ec242dfb5b15a74445e4ec9"
      }
     },
     "d457abfd52774020a638c11a7f84e1c2": {
      "model_module": "@jupyter-widgets/base",
      "model_module_version": "1.2.0",
      "model_name": "LayoutModel",
      "state": {}
     },
     "d4d795ad8b9c4825bd336b795accc2fb": {
      "model_module": "@jupyter-widgets/controls",
      "model_module_version": "1.5.0",
      "model_name": "ButtonStyleModel",
      "state": {}
     },
     "d4efb6ee580f48f7b7d8b630e9356575": {
      "model_module": "@jupyter-widgets/base",
      "model_module_version": "1.2.0",
      "model_name": "LayoutModel",
      "state": {}
     },
     "d4f6d581d12a4c1e8af498367c40ca1f": {
      "model_module": "jupyter-matplotlib",
      "model_module_version": "^0.7.2",
      "model_name": "MPLCanvasModel",
      "state": {
       "_figure_label": "Figure 9",
       "_height": 458,
       "_image_mode": "diff",
       "_message": "x= y= [1, 0, 0.311]",
       "_width": 1099,
       "header_visible": false,
       "layout": "IPY_MODEL_ff16f95b81ca402dbdf4e381f16ef0d2",
       "resizable": false,
       "toolbar": "IPY_MODEL_750c87f7eb5c47f49323f874a15df2ea",
       "toolbar_position": "left",
       "toolbar_visible": false
      }
     },
     "d505c0438c94465b882c734f6169f401": {
      "model_module": "@jupyter-widgets/controls",
      "model_module_version": "1.5.0",
      "model_name": "ButtonModel",
      "state": {
       "description": "Save Figure",
       "layout": "IPY_MODEL_db9c12857c7849bbb9232f749beab2f7",
       "style": "IPY_MODEL_57b3bd2e3fb74165891887af1a8bccdb"
      }
     },
     "d604436052c24324b2ad19fc2663dd45": {
      "model_module": "@jupyter-widgets/controls",
      "model_module_version": "1.5.0",
      "model_name": "ButtonStyleModel",
      "state": {}
     },
     "d607d89018cc413c934a43113570f7b6": {
      "model_module": "@jupyter-widgets/base",
      "model_module_version": "1.2.0",
      "model_name": "LayoutModel",
      "state": {}
     },
     "d637ff0d9e4e4e199ba4183441180679": {
      "model_module": "@jupyter-widgets/base",
      "model_module_version": "1.2.0",
      "model_name": "LayoutModel",
      "state": {}
     },
     "d6506a70de8e4313a5de58c36ea47b85": {
      "model_module": "@jupyter-widgets/controls",
      "model_module_version": "1.5.0",
      "model_name": "VBoxModel",
      "state": {
       "children": [
        "IPY_MODEL_5b50be79360546f9939a4778cc23285d"
       ],
       "layout": "IPY_MODEL_94ef5db6f1a44840b20e24ed55a57f54"
      }
     },
     "d673b6cf6b034d6aa752ba4eb87d759b": {
      "model_module": "@jupyter-widgets/controls",
      "model_module_version": "1.5.0",
      "model_name": "ButtonStyleModel",
      "state": {}
     },
     "d6c3d53ed41749d683c98fcd06554ed0": {
      "model_module": "@jupyter-widgets/controls",
      "model_module_version": "1.5.0",
      "model_name": "FloatSliderModel",
      "state": {
       "description": "Compression Threshold",
       "layout": "IPY_MODEL_aa92a100feb34a5f951be8e03118ce81",
       "max": 1,
       "step": 0.01,
       "style": "IPY_MODEL_79dbdceda5a247c7a2bfd2fd8407a1b9",
       "value": 0.8
      }
     },
     "d6c48fca912d45a69882836a4ac11f79": {
      "model_module": "@jupyter-widgets/controls",
      "model_module_version": "1.5.0",
      "model_name": "DropdownModel",
      "state": {
       "_options_labels": [
        "tanh",
        "atan",
        "simple"
       ],
       "description": "Compression Function:",
       "index": 0,
       "layout": "IPY_MODEL_8647412aca4e44aa9c6db342e01f563d",
       "style": "IPY_MODEL_ff5e5b5260d1452ca837d60c80824807"
      }
     },
     "d704197241bf4ff4b7eef6796644180e": {
      "model_module": "@jupyter-widgets/controls",
      "model_module_version": "1.5.0",
      "model_name": "FloatSliderModel",
      "state": {
       "description": "45°",
       "layout": "IPY_MODEL_0404d158075340b1b111748b93749325",
       "max": 1,
       "min": -1,
       "step": 0.01,
       "style": "IPY_MODEL_74336364a1e5497db040e4bc41f94717"
      }
     },
     "d75544c7ebad44d7887d4af039b42826": {
      "model_module": "@jupyter-widgets/controls",
      "model_module_version": "1.5.0",
      "model_name": "DescriptionStyleModel",
      "state": {
       "description_width": ""
      }
     },
     "d77db1a81fe64f2286399b2aefd83522": {
      "model_module": "@jupyter-widgets/controls",
      "model_module_version": "1.5.0",
      "model_name": "FloatSliderModel",
      "state": {
       "description": "Exposure",
       "layout": "IPY_MODEL_2019898b242647f88664363d0543ef97",
       "max": 8,
       "min": -8,
       "step": 0.1,
       "style": "IPY_MODEL_4018bc2770674567986dc2b2d1e502b9"
      }
     },
     "d7a58e22faad47e98071f430704df133": {
      "model_module": "@jupyter-widgets/base",
      "model_module_version": "1.2.0",
      "model_name": "LayoutModel",
      "state": {}
     },
     "d7bff56af118482096b9e00f2860a903": {
      "model_module": "@jupyter-widgets/base",
      "model_module_version": "1.2.0",
      "model_name": "LayoutModel",
      "state": {}
     },
     "d7c3e94613294e42b38609a8ce4d3144": {
      "model_module": "@jupyter-widgets/controls",
      "model_module_version": "1.5.0",
      "model_name": "ButtonModel",
      "state": {
       "description": "Reset Compression Controls",
       "layout": "IPY_MODEL_0f8f2004d9cd45e5ae7a2fe2e4fafc52",
       "style": "IPY_MODEL_8030d748d68141a3a656c4ae68aacb79"
      }
     },
     "d7caa51fcd404439857c07600b18f7b4": {
      "model_module": "@jupyter-widgets/controls",
      "model_module_version": "1.5.0",
      "model_name": "VBoxModel",
      "state": {
       "children": [
        "IPY_MODEL_ed41a1429cd544888614f46bfa499a9c"
       ],
       "layout": "IPY_MODEL_c66f3da5bff4406c842ceedd1f114009"
      }
     },
     "d805aa1d5ecb4203a52cd8e9408cdf32": {
      "model_module": "@jupyter-widgets/base",
      "model_module_version": "1.2.0",
      "model_name": "LayoutModel",
      "state": {
       "border": "solid 4px #222",
       "margin": "4px",
       "padding": "0"
      }
     },
     "d83385f84c4e42caaad0614327a70b97": {
      "model_module": "@jupyter-widgets/controls",
      "model_module_version": "1.5.0",
      "model_name": "FloatSliderModel",
      "state": {
       "description": "225°",
       "layout": "IPY_MODEL_985f3f34a21548a6a203bbaa11851cbf",
       "max": 1,
       "min": -1,
       "step": 0.01,
       "style": "IPY_MODEL_e016ffbc30324e49aa75aa12013d461b"
      }
     },
     "d871a78ce682430dbefc1ec6f3336244": {
      "model_module": "@jupyter-widgets/base",
      "model_module_version": "1.2.0",
      "model_name": "LayoutModel",
      "state": {}
     },
     "d88ba8a17a8645e4955b8b26d838f408": {
      "model_module": "@jupyter-widgets/controls",
      "model_module_version": "1.5.0",
      "model_name": "FloatSliderModel",
      "state": {
       "description": "Exposure",
       "layout": "IPY_MODEL_6f7159cc48104c32aaaf3c928a621bc8",
       "max": 8,
       "min": -8,
       "step": 0.1,
       "style": "IPY_MODEL_8ff2a6e22b1e49fe9960d77a0ecfb224"
      }
     },
     "d893766810a5442e98a73a06d79971bb": {
      "model_module": "@jupyter-widgets/base",
      "model_module_version": "1.2.0",
      "model_name": "LayoutModel",
      "state": {}
     },
     "d8b6e3500107490bb2251169bf0ec629": {
      "model_module": "@jupyter-widgets/controls",
      "model_module_version": "1.5.0",
      "model_name": "FloatSliderModel",
      "state": {
       "description": "135°",
       "layout": "IPY_MODEL_ddc84bb3b878440396ff76d1daa92423",
       "max": 1,
       "min": -1,
       "step": 0.01,
       "style": "IPY_MODEL_9d9e67309e014d7f87aae48e998cc0cc"
      }
     },
     "d8c79273eb184d9dbed84527b24b56a8": {
      "model_module": "@jupyter-widgets/base",
      "model_module_version": "1.2.0",
      "model_name": "LayoutModel",
      "state": {
       "align_items": "stretch",
       "display": "flex",
       "flex_flow": "column",
       "width": "1128px"
      }
     },
     "d8d6bc0fb8de40e593fad5b760a5590e": {
      "model_module": "@jupyter-widgets/controls",
      "model_module_version": "1.5.0",
      "model_name": "SliderStyleModel",
      "state": {
       "description_width": ""
      }
     },
     "d8dba125db784261a7a71dc8910bdf59": {
      "model_module": "@jupyter-widgets/controls",
      "model_module_version": "1.5.0",
      "model_name": "CheckboxModel",
      "state": {
       "description": "Disable Medicina",
       "disabled": false,
       "layout": "IPY_MODEL_5eec61decb214b249f47844d7cd46691",
       "style": "IPY_MODEL_d75544c7ebad44d7887d4af039b42826",
       "value": false
      }
     },
     "d8efe8eb9ec94c2ba072bfe1a0d3be44": {
      "model_module": "@jupyter-widgets/controls",
      "model_module_version": "1.5.0",
      "model_name": "ButtonStyleModel",
      "state": {}
     },
     "d91816a66976469e9376903b18d645b7": {
      "model_module": "@jupyter-widgets/controls",
      "model_module_version": "1.5.0",
      "model_name": "SliderStyleModel",
      "state": {
       "description_width": ""
      }
     },
     "d934ddf890d84e359781d9b906049726": {
      "model_module": "@jupyter-widgets/controls",
      "model_module_version": "1.5.0",
      "model_name": "ButtonStyleModel",
      "state": {}
     },
     "d9755b50909f40caac91b487eaaed534": {
      "model_module": "@jupyter-widgets/controls",
      "model_module_version": "1.5.0",
      "model_name": "ButtonStyleModel",
      "state": {}
     },
     "d977745847bc4050b5b08c6bb5811b26": {
      "model_module": "@jupyter-widgets/base",
      "model_module_version": "1.2.0",
      "model_name": "LayoutModel",
      "state": {}
     },
     "d979e8a04daa4d18ab57548afee78407": {
      "model_module": "@jupyter-widgets/controls",
      "model_module_version": "1.5.0",
      "model_name": "SliderStyleModel",
      "state": {
       "description_width": ""
      }
     },
     "d9a9baa45a4e49a7a5612b763bbe646e": {
      "model_module": "@jupyter-widgets/controls",
      "model_module_version": "1.5.0",
      "model_name": "FloatSliderModel",
      "state": {
       "description": "90°",
       "layout": "IPY_MODEL_cb3140eef5564ab8ba2b6afd403cce2a",
       "max": 1,
       "min": -1,
       "step": 0.01,
       "style": "IPY_MODEL_77085baf18c44bd18f1a134d8ef3a2d7"
      }
     },
     "d9bcbb6afee944498848d236e8cc0781": {
      "model_module": "@jupyter-widgets/controls",
      "model_module_version": "1.5.0",
      "model_name": "SliderStyleModel",
      "state": {
       "description_width": ""
      }
     },
     "d9d9c858c7c047af83fba8234949ba35": {
      "model_module": "@jupyter-widgets/controls",
      "model_module_version": "1.5.0",
      "model_name": "SliderStyleModel",
      "state": {
       "description_width": ""
      }
     },
     "da23fccc361a45f2ab02d086920d75df": {
      "model_module": "@jupyter-widgets/controls",
      "model_module_version": "1.5.0",
      "model_name": "SliderStyleModel",
      "state": {
       "description_width": ""
      }
     },
     "da45a9f30bab469fbbc74511ab1a6f26": {
      "model_module": "@jupyter-widgets/controls",
      "model_module_version": "1.5.0",
      "model_name": "ButtonModel",
      "state": {
       "description": "Export Image",
       "layout": "IPY_MODEL_c392aec90d8147898a5526009aee1e0a",
       "style": "IPY_MODEL_82c4f4fcee754b60b0cb6c3bbed87db3"
      }
     },
     "da4dd0952dd34d77aa83244d5aa34394": {
      "model_module": "@jupyter-widgets/base",
      "model_module_version": "1.2.0",
      "model_name": "LayoutModel",
      "state": {}
     },
     "da88f890d3cd4db7ab5bda5f3f1f6866": {
      "model_module": "@jupyter-widgets/base",
      "model_module_version": "1.2.0",
      "model_name": "LayoutModel",
      "state": {}
     },
     "da892cb3002848d6bdb53dbbb4078e42": {
      "model_module": "@jupyter-widgets/controls",
      "model_module_version": "1.5.0",
      "model_name": "ButtonStyleModel",
      "state": {}
     },
     "da8e94540e954e9e98820308e87e1f93": {
      "model_module": "@jupyter-widgets/base",
      "model_module_version": "1.2.0",
      "model_name": "LayoutModel",
      "state": {}
     },
     "daa651721dfb4cb49e270f74f2288631": {
      "model_module": "@jupyter-widgets/controls",
      "model_module_version": "1.5.0",
      "model_name": "FloatSliderModel",
      "state": {
       "description": "Compression Threshold",
       "layout": "IPY_MODEL_982d5adf888a4f86a467d673e1652d26",
       "max": 1,
       "step": 0.01,
       "style": "IPY_MODEL_9143bd21582d4ee7899c84a9e45b7fc3",
       "value": 0.8
      }
     },
     "dabf3faaf70c45d09bac6a82458e9d18": {
      "model_module": "@jupyter-widgets/base",
      "model_module_version": "1.2.0",
      "model_name": "LayoutModel",
      "state": {}
     },
     "dad2692160e4481097d46ce9da20b001": {
      "model_module": "jupyter-matplotlib",
      "model_module_version": "^0.7.2",
      "model_name": "ToolbarModel",
      "state": {
       "layout": "IPY_MODEL_ab04d064313a405cb4a28ced8a6f61f0",
       "toolitems": [
        [
         "Home",
         "Reset original view",
         "home",
         "home"
        ],
        [
         "Back",
         "Back to previous view",
         "arrow-left",
         "back"
        ],
        [
         "Forward",
         "Forward to next view",
         "arrow-right",
         "forward"
        ],
        [
         "Pan",
         "Pan axes with left mouse, zoom with right",
         "arrows",
         "pan"
        ],
        [
         "Zoom",
         "Zoom to rectangle",
         "square-o",
         "zoom"
        ],
        [
         "Download",
         "Download plot",
         "floppy-o",
         "save_figure"
        ]
       ]
      }
     },
     "db9c12857c7849bbb9232f749beab2f7": {
      "model_module": "@jupyter-widgets/base",
      "model_module_version": "1.2.0",
      "model_name": "LayoutModel",
      "state": {}
     },
     "dba720b180d14a48a57a8f1936cfaa80": {
      "model_module": "@jupyter-widgets/base",
      "model_module_version": "1.2.0",
      "model_name": "LayoutModel",
      "state": {}
     },
     "dbb2732e2be04fdc8fc9c4dc773d73b9": {
      "model_module": "@jupyter-widgets/controls",
      "model_module_version": "1.5.0",
      "model_name": "SliderStyleModel",
      "state": {
       "description_width": ""
      }
     },
     "dbe8e662c6a9428695779f4d9ba2e145": {
      "model_module": "jupyter-matplotlib",
      "model_module_version": "^0.7.2",
      "model_name": "MPLCanvasModel",
      "state": {
       "_figure_label": "Figure 21",
       "_height": 550,
       "_width": 1100,
       "header_visible": false,
       "layout": "IPY_MODEL_5a24cebf982841a59c2deeb591850444",
       "resizable": false,
       "toolbar": "IPY_MODEL_c416accd9e95460fb321d60002ef5d79",
       "toolbar_position": "left",
       "toolbar_visible": false
      }
     },
     "dc04257d759b4cd0a3ded9b03905ca43": {
      "model_module": "@jupyter-widgets/base",
      "model_module_version": "1.2.0",
      "model_name": "LayoutModel",
      "state": {}
     },
     "dc0de00f934447a887396766ed90d01d": {
      "model_module": "@jupyter-widgets/controls",
      "model_module_version": "1.5.0",
      "model_name": "DescriptionStyleModel",
      "state": {
       "description_width": ""
      }
     },
     "dc3ad08328b24fa38177328096b1871e": {
      "model_module": "@jupyter-widgets/output",
      "model_module_version": "1.0.0",
      "model_name": "OutputModel",
      "state": {
       "layout": "IPY_MODEL_058d40c3009540278db28f7f1e809e32",
       "outputs": [
        {
         "data": {
          "application/vnd.jupyter.widget-view+json": {
           "model_id": "2f72a159b56145e4be9d013a56a8f0cb",
           "version_major": 2,
           "version_minor": 0
          },
          "text/plain": "Canvas(toolbar=Toolbar(toolitems=[('Home', 'Reset original view', 'home', 'home'), ('Back', 'Back to previous …"
         },
         "metadata": {},
         "output_type": "display_data"
        }
       ]
      }
     },
     "dc72b5b7226741f3b337084b37086ae9": {
      "model_module": "@jupyter-widgets/base",
      "model_module_version": "1.2.0",
      "model_name": "LayoutModel",
      "state": {}
     },
     "dcf6cb4fc126419abcfd4e5894e7a4aa": {
      "model_module": "@jupyter-widgets/base",
      "model_module_version": "1.2.0",
      "model_name": "LayoutModel",
      "state": {}
     },
     "dd2bcc649a054cee98749463bf61cd5b": {
      "model_module": "@jupyter-widgets/base",
      "model_module_version": "1.2.0",
      "model_name": "LayoutModel",
      "state": {
       "border": "solid 4px #222",
       "margin": "4px",
       "padding": "0"
      }
     },
     "dd3958cd043a4df4a22fcc8822037b88": {
      "model_module": "@jupyter-widgets/base",
      "model_module_version": "1.2.0",
      "model_name": "LayoutModel",
      "state": {
       "border": "solid 4px #222",
       "margin": "4px",
       "padding": "0"
      }
     },
     "dd662fe83ed147829e5608da948bef2c": {
      "model_module": "@jupyter-widgets/base",
      "model_module_version": "1.2.0",
      "model_name": "LayoutModel",
      "state": {}
     },
     "ddc84bb3b878440396ff76d1daa92423": {
      "model_module": "@jupyter-widgets/base",
      "model_module_version": "1.2.0",
      "model_name": "LayoutModel",
      "state": {}
     },
     "de40d93254a641db8bfe9cfac8037d1b": {
      "model_module": "@jupyter-widgets/base",
      "model_module_version": "1.2.0",
      "model_name": "LayoutModel",
      "state": {}
     },
     "de628fe58cfb48748eaa056bc93e9ae0": {
      "model_module": "@jupyter-widgets/controls",
      "model_module_version": "1.5.0",
      "model_name": "BoxModel",
      "state": {
       "children": [
        "IPY_MODEL_3f63adf40ba944fdb9a150678a44ef63",
        "IPY_MODEL_cfe5ad6474ef496296352cd3ada69e9f"
       ],
       "layout": "IPY_MODEL_b593c749dcae4a6f8b1e6367b491def9"
      }
     },
     "df5db98f40034b24ad05d9969a5b32d6": {
      "model_module": "@jupyter-widgets/controls",
      "model_module_version": "1.5.0",
      "model_name": "SliderStyleModel",
      "state": {
       "description_width": ""
      }
     },
     "dfa825bde84d412eb8fe3e308c91f731": {
      "model_module": "@jupyter-widgets/base",
      "model_module_version": "1.2.0",
      "model_name": "LayoutModel",
      "state": {}
     },
     "e016ffbc30324e49aa75aa12013d461b": {
      "model_module": "@jupyter-widgets/controls",
      "model_module_version": "1.5.0",
      "model_name": "SliderStyleModel",
      "state": {
       "description_width": ""
      }
     },
     "e02b5e6fe7af42d1baf6d2eb819946a3": {
      "model_module": "@jupyter-widgets/base",
      "model_module_version": "1.2.0",
      "model_name": "LayoutModel",
      "state": {}
     },
     "e02f34168df243c585e897deeb2fa83f": {
      "model_module": "@jupyter-widgets/controls",
      "model_module_version": "1.5.0",
      "model_name": "FloatSliderModel",
      "state": {
       "description": "Exposure",
       "layout": "IPY_MODEL_9cd5dea70217457aa3854692180d9645",
       "max": 8,
       "min": -8,
       "step": 0.1,
       "style": "IPY_MODEL_b52e7cbf2e1f4bfea9333607aa4ee841"
      }
     },
     "e0599d6cd478440c8a12fef4c4d07d77": {
      "model_module": "@jupyter-widgets/controls",
      "model_module_version": "1.5.0",
      "model_name": "DescriptionStyleModel",
      "state": {
       "description_width": ""
      }
     },
     "e079cccdbaaf415381cd2db8c826cebf": {
      "model_module": "@jupyter-widgets/base",
      "model_module_version": "1.2.0",
      "model_name": "LayoutModel",
      "state": {}
     },
     "e0942fe28a504a00b0a56ec50e8ff716": {
      "model_module": "@jupyter-widgets/base",
      "model_module_version": "1.2.0",
      "model_name": "LayoutModel",
      "state": {}
     },
     "e0a3f42e2f204613a625248b5077a3b8": {
      "model_module": "@jupyter-widgets/controls",
      "model_module_version": "1.5.0",
      "model_name": "DropdownModel",
      "state": {
       "_options_labels": [
        "tanh",
        "atan",
        "simple"
       ],
       "description": "Compression Function:",
       "index": 0,
       "layout": "IPY_MODEL_9f9a2b3ed97f40cf86390dad69c94639",
       "style": "IPY_MODEL_eb34e007a2714592955c9d179d448091"
      }
     },
     "e0a554039f4d45abbd96ba391a4c241e": {
      "model_module": "@jupyter-widgets/controls",
      "model_module_version": "1.5.0",
      "model_name": "ButtonModel",
      "state": {
       "description": "Reset Saturation Controls",
       "layout": "IPY_MODEL_bae96351d9394bf3b10fd8ce5c0fb0c9",
       "style": "IPY_MODEL_ccf3cdcb16144ceea7b5fef2e05335f9"
      }
     },
     "e11767915de941a8850f66de9701c163": {
      "model_module": "@jupyter-widgets/base",
      "model_module_version": "1.2.0",
      "model_name": "LayoutModel",
      "state": {}
     },
     "e1590d12971d4c569cd4b4fdd465396e": {
      "model_module": "@jupyter-widgets/output",
      "model_module_version": "1.0.0",
      "model_name": "OutputModel",
      "state": {
       "layout": "IPY_MODEL_d1a190a6c5184aa2b00d84b55cfbbf24",
       "outputs": [
        {
         "data": {
          "application/vnd.jupyter.widget-view+json": {
           "model_id": "5817b7e4c7794fb9ae84be2577ae40cd",
           "version_major": 2,
           "version_minor": 0
          },
          "text/plain": "Canvas(toolbar=Toolbar(toolitems=[('Home', 'Reset original view', 'home', 'home'), ('Back', 'Back to previous …"
         },
         "metadata": {},
         "output_type": "display_data"
        }
       ]
      }
     },
     "e1b51c6abebc4e3cafaae21665a71ebb": {
      "model_module": "@jupyter-widgets/base",
      "model_module_version": "1.2.0",
      "model_name": "LayoutModel",
      "state": {
       "align_items": "stretch",
       "display": "flex",
       "flex_flow": "column",
       "width": "1128px"
      }
     },
     "e1d7e4823c374347ac0dbc2412c5097e": {
      "model_module": "@jupyter-widgets/base",
      "model_module_version": "1.2.0",
      "model_name": "LayoutModel",
      "state": {}
     },
     "e1f38b63e83a43f08b1335d091992b39": {
      "model_module": "@jupyter-widgets/controls",
      "model_module_version": "1.5.0",
      "model_name": "TabModel",
      "state": {
       "_titles": {
        "0": "Global Controls",
        "1": "Protected Area Controls",
        "2": "Saturation Controls",
        "3": "Hue Controls"
       },
       "children": [
        "IPY_MODEL_646ec317a73b4a78bedf781c492dc26e",
        "IPY_MODEL_bd1d1e11ec9049f19989da5f3c482574",
        "IPY_MODEL_0d4e9c79f50d48e0b22a4667f028552c",
        "IPY_MODEL_f6f8dc6d054c4e64b8ec9f17c7ad731a"
       ],
       "layout": "IPY_MODEL_33356778b22b47129eaa26a4f1e2fb7b"
      }
     },
     "e20f818731d94cf8b15b1f834e3b9ab2": {
      "model_module": "@jupyter-widgets/base",
      "model_module_version": "1.2.0",
      "model_name": "LayoutModel",
      "state": {}
     },
     "e23644e76f5947e486be27f77e71e041": {
      "model_module": "@jupyter-widgets/controls",
      "model_module_version": "1.5.0",
      "model_name": "FloatSliderModel",
      "state": {
       "description": "180°",
       "layout": "IPY_MODEL_0b20d62562964487b5b012ea9499b651",
       "max": 1,
       "min": -1,
       "step": 0.01,
       "style": "IPY_MODEL_9cfd97d5c9664a12a0a043a1288ce7a8"
      }
     },
     "e2b70ac9e14f48c0b6755207d00b437c": {
      "model_module": "@jupyter-widgets/controls",
      "model_module_version": "1.5.0",
      "model_name": "FloatSliderModel",
      "state": {
       "description": "135°",
       "layout": "IPY_MODEL_57e91a76c03547e183ac45e5d77613d2",
       "max": 1,
       "min": -1,
       "step": 0.01,
       "style": "IPY_MODEL_ac268fb4f4544b62a8b5e49bb8ab0e46"
      }
     },
     "e308557e8c93462b8dee4c1f9cddbb6b": {
      "model_module": "@jupyter-widgets/base",
      "model_module_version": "1.2.0",
      "model_name": "LayoutModel",
      "state": {}
     },
     "e37d4bd701dd4bf48e03a93e6a1a98b3": {
      "model_module": "@jupyter-widgets/controls",
      "model_module_version": "1.5.0",
      "model_name": "VBoxModel",
      "state": {
       "children": [
        "IPY_MODEL_23a4c79181944f04947c144cc08c27d8",
        "IPY_MODEL_4911ec25dcdb484a805afc74473c3375",
        "IPY_MODEL_28162e9926994720bae39bb6ce0c26cb"
       ],
       "layout": "IPY_MODEL_cd2c66fefad5462b88824738ef9e9764"
      }
     },
     "e39eeff9112b4608b781fce0ff8a4b25": {
      "model_module": "@jupyter-widgets/base",
      "model_module_version": "1.2.0",
      "model_name": "LayoutModel",
      "state": {
       "border": "solid 4px #222",
       "margin": "4px",
       "padding": "0"
      }
     },
     "e3c3ed3cbbd94e40aa9d88f5879ef112": {
      "model_module": "@jupyter-widgets/controls",
      "model_module_version": "1.5.0",
      "model_name": "ButtonStyleModel",
      "state": {}
     },
     "e3fad7ca5e8e452b878ed183028d7bde": {
      "model_module": "@jupyter-widgets/base",
      "model_module_version": "1.2.0",
      "model_name": "LayoutModel",
      "state": {}
     },
     "e4291b903e954295a57ef82129ffdc3e": {
      "model_module": "@jupyter-widgets/controls",
      "model_module_version": "1.5.0",
      "model_name": "FloatSliderModel",
      "state": {
       "description": "Exposure",
       "layout": "IPY_MODEL_06d023d0051546b593dda1a73c8ef366",
       "max": 8,
       "min": -8,
       "step": 0.1,
       "style": "IPY_MODEL_a2d86d4b456d4739842b3be1dd6fd8c0"
      }
     },
     "e4698cc50f3240bfba06516ea3193e17": {
      "model_module": "@jupyter-widgets/controls",
      "model_module_version": "1.5.0",
      "model_name": "FloatSliderModel",
      "state": {
       "description": "90°",
       "layout": "IPY_MODEL_d19d3312085b47f88f41ac9b17292861",
       "max": 1,
       "min": -1,
       "step": 0.01,
       "style": "IPY_MODEL_98025232643a4081afa227a7aa270472"
      }
     },
     "e46ca5ec66b8402b97d06a51405878cc": {
      "model_module": "@jupyter-widgets/controls",
      "model_module_version": "1.5.0",
      "model_name": "SliderStyleModel",
      "state": {
       "description_width": ""
      }
     },
     "e4a1c30d0b5a4e05bf938b17f93a50f0": {
      "model_module": "@jupyter-widgets/controls",
      "model_module_version": "1.5.0",
      "model_name": "HBoxModel",
      "state": {
       "children": [
        "IPY_MODEL_d8dba125db784261a7a71dc8910bdf59",
        "IPY_MODEL_1c606b67dad3411f8e3b2a55cf2e4069",
        "IPY_MODEL_110c323cae6846ef8f6b4cd4b8efa04a",
        "IPY_MODEL_367936c59de4447fb193702591dfd728"
       ],
       "layout": "IPY_MODEL_7590767805f64ae1a4b25343081813fa"
      }
     },
     "e4c62df0569b4ec7b1b272a7239b91ef": {
      "model_module": "@jupyter-widgets/controls",
      "model_module_version": "1.5.0",
      "model_name": "VBoxModel",
      "state": {
       "children": [
        "IPY_MODEL_797ec2fc75164315a25ed48fc2b4b70f",
        "IPY_MODEL_a3b3ec2eebaf4b56a7cd7af5e6b5eb1b"
       ],
       "layout": "IPY_MODEL_7c3ccf33c3924da3bf8867c547e5ee9d"
      }
     },
     "e4dac66c915e4181b0518d1d2b5eabb6": {
      "model_module": "@jupyter-widgets/controls",
      "model_module_version": "1.5.0",
      "model_name": "HBoxModel",
      "state": {
       "children": [
        "IPY_MODEL_8756f4dfa48f4150afd98ddf9805e335",
        "IPY_MODEL_18440e4e79b24ff3b93b27c064e19b99",
        "IPY_MODEL_d505c0438c94465b882c734f6169f401",
        "IPY_MODEL_be9307f1e16b49c1a304d770f6e07e77"
       ],
       "layout": "IPY_MODEL_4e67c142b0514503aab99a812fd63a63"
      }
     },
     "e567180805614a64bf74b61115577199": {
      "model_module": "@jupyter-widgets/controls",
      "model_module_version": "1.5.0",
      "model_name": "SliderStyleModel",
      "state": {
       "description_width": ""
      }
     },
     "e5711f6bc3f64a2b9e3daff1731a3247": {
      "model_module": "@jupyter-widgets/base",
      "model_module_version": "1.2.0",
      "model_name": "LayoutModel",
      "state": {}
     },
     "e5944d8d1a7b4c869c14a9a901d82ac9": {
      "model_module": "@jupyter-widgets/base",
      "model_module_version": "1.2.0",
      "model_name": "LayoutModel",
      "state": {}
     },
     "e5babd2009e748d88be34914f273a119": {
      "model_module": "@jupyter-widgets/controls",
      "model_module_version": "1.5.0",
      "model_name": "FloatSliderModel",
      "state": {
       "description": "270°",
       "layout": "IPY_MODEL_46ee4c940da04005bc7e35a087e53b56",
       "max": 1,
       "min": -1,
       "step": 0.01,
       "style": "IPY_MODEL_6cd5a9170a2548f2b789f8a9b50712c1"
      }
     },
     "e5d47ece85dc4ea389989799e08022b9": {
      "model_module": "@jupyter-widgets/base",
      "model_module_version": "1.2.0",
      "model_name": "LayoutModel",
      "state": {}
     },
     "e5e495b57b4b4712849a02d6d26dfb47": {
      "model_module": "@jupyter-widgets/base",
      "model_module_version": "1.2.0",
      "model_name": "LayoutModel",
      "state": {}
     },
     "e5f73f0383754c08819fbaec935a0084": {
      "model_module": "@jupyter-widgets/controls",
      "model_module_version": "1.5.0",
      "model_name": "FloatSliderModel",
      "state": {
       "description": "225°",
       "layout": "IPY_MODEL_70eda1c5515f43a1a723ca55be65a1e3",
       "max": 1,
       "min": -1,
       "step": 0.01,
       "style": "IPY_MODEL_a337b2992a9d46a2b44ab69d78dd753a"
      }
     },
     "e62708bf0fad41e5b518532b98a61378": {
      "model_module": "@jupyter-widgets/controls",
      "model_module_version": "1.5.0",
      "model_name": "ButtonModel",
      "state": {
       "description": "Reset Protected Area",
       "layout": "IPY_MODEL_68d4d29d9c6349169e82d899fda2040e",
       "style": "IPY_MODEL_86176df11e9840d89bd25f903834852e"
      }
     },
     "e62da1219aca4093852fce531cc00168": {
      "model_module": "@jupyter-widgets/controls",
      "model_module_version": "1.5.0",
      "model_name": "ButtonStyleModel",
      "state": {}
     },
     "e653f7ac2a7a40a89783d31ce89a8d96": {
      "model_module": "@jupyter-widgets/controls",
      "model_module_version": "1.5.0",
      "model_name": "ButtonModel",
      "state": {
       "description": "Export Image",
       "layout": "IPY_MODEL_94166529097a44b58a63e6a1ecf8853a",
       "style": "IPY_MODEL_4e50932f5789441f9b0074cef6dce177"
      }
     },
     "e65dc9782be84d2f9d9b2f49f78d0bf8": {
      "model_module": "@jupyter-widgets/controls",
      "model_module_version": "1.5.0",
      "model_name": "HBoxModel",
      "state": {
       "children": [
        "IPY_MODEL_d7caa51fcd404439857c07600b18f7b4",
        "IPY_MODEL_4d8b612276474fe1ad96c6351a527cfe",
        "IPY_MODEL_8a188dd916834a5e9671281c309c129e",
        "IPY_MODEL_e4c62df0569b4ec7b1b272a7239b91ef"
       ],
       "layout": "IPY_MODEL_d607d89018cc413c934a43113570f7b6"
      }
     },
     "e6f69325704d477196296e767c1a0dd2": {
      "model_module": "@jupyter-widgets/base",
      "model_module_version": "1.2.0",
      "model_name": "LayoutModel",
      "state": {}
     },
     "e704eaa8537f4ac7a2b1d886520fe815": {
      "model_module": "@jupyter-widgets/controls",
      "model_module_version": "1.5.0",
      "model_name": "ButtonModel",
      "state": {
       "description": "Save Figure",
       "layout": "IPY_MODEL_c7d469dae39545f0bb4084ce842a68d9",
       "style": "IPY_MODEL_a25be18d1d754f3d9119efa8122b875a"
      }
     },
     "e70655c032b9407eb613e37dfc04ca42": {
      "model_module": "@jupyter-widgets/output",
      "model_module_version": "1.0.0",
      "model_name": "OutputModel",
      "state": {
       "layout": "IPY_MODEL_2368798c6e6f4f4fb5ccbe55b7c2ee5f",
       "outputs": [
        {
         "data": {
          "application/vnd.jupyter.widget-view+json": {
           "model_id": "b83b12077ce14fdf8c0650dcecaae6a7",
           "version_major": 2,
           "version_minor": 0
          },
          "text/plain": "Canvas(toolbar=Toolbar(toolitems=[('Home', 'Reset original view', 'home', 'home'), ('Back', 'Back to previous …"
         },
         "metadata": {},
         "output_type": "display_data"
        }
       ]
      }
     },
     "e709a6011bf1444b96f307513a24fff4": {
      "model_module": "@jupyter-widgets/controls",
      "model_module_version": "1.5.0",
      "model_name": "ButtonStyleModel",
      "state": {}
     },
     "e7644a2ef9d0473c85dbcfcf0e4e61a8": {
      "model_module": "@jupyter-widgets/controls",
      "model_module_version": "1.5.0",
      "model_name": "BoxModel",
      "state": {
       "children": [
        "IPY_MODEL_9d84897c3db3405baa8b2ec1fcf4948c",
        "IPY_MODEL_0cbfcc1f30cf4332a255ba04cd819c35"
       ],
       "layout": "IPY_MODEL_948cae22bbc24a1c9e35abc74d456863"
      }
     },
     "e7bdd4b0984b47fb88a5e031e878f523": {
      "model_module": "jupyter-matplotlib",
      "model_module_version": "^0.7.2",
      "model_name": "ToolbarModel",
      "state": {
       "layout": "IPY_MODEL_78a13a10dc2b4ffb9f5ad6c1635f9c96",
       "toolitems": [
        [
         "Home",
         "Reset original view",
         "home",
         "home"
        ],
        [
         "Back",
         "Back to previous view",
         "arrow-left",
         "back"
        ],
        [
         "Forward",
         "Forward to next view",
         "arrow-right",
         "forward"
        ],
        [
         "Pan",
         "Pan axes with left mouse, zoom with right",
         "arrows",
         "pan"
        ],
        [
         "Zoom",
         "Zoom to rectangle",
         "square-o",
         "zoom"
        ],
        [
         "Download",
         "Download plot",
         "floppy-o",
         "save_figure"
        ]
       ]
      }
     },
     "e7db833b32d242a6abf487c46d0166e5": {
      "model_module": "@jupyter-widgets/controls",
      "model_module_version": "1.5.0",
      "model_name": "FloatSliderModel",
      "state": {
       "description": "Compression Threshold",
       "layout": "IPY_MODEL_f1975ab619824ae0844c84a0c03e7586",
       "max": 1,
       "step": 0.01,
       "style": "IPY_MODEL_1162532aef5c4ba9bfc730b14587fe67",
       "value": 0.8
      }
     },
     "e83fadd2a3c34ac39c814be2e66321db": {
      "model_module": "@jupyter-widgets/controls",
      "model_module_version": "1.5.0",
      "model_name": "FloatSliderModel",
      "state": {
       "description": "270°",
       "layout": "IPY_MODEL_c8a4d6bd9f264e52a11c2a709de8552b",
       "max": 1,
       "min": -1,
       "step": 0.01,
       "style": "IPY_MODEL_0bcc8885b99e4f83bda5e18c1bc2ad9c"
      }
     },
     "e8962cc2cfac49eb93269a14685baacd": {
      "model_module": "@jupyter-widgets/controls",
      "model_module_version": "1.5.0",
      "model_name": "ButtonModel",
      "state": {
       "description": "Save Figure",
       "layout": "IPY_MODEL_58bc45615bc64c539ea6cd49d51de16d",
       "style": "IPY_MODEL_91797d6ccdb34f10b8637e76c70d106b"
      }
     },
     "e8bee17dc376407b9a7c8837bdf79eae": {
      "model_module": "@jupyter-widgets/controls",
      "model_module_version": "1.5.0",
      "model_name": "HBoxModel",
      "state": {
       "children": [
        "IPY_MODEL_f287311254df4cda8b61dfd8074d64cc",
        "IPY_MODEL_be1c0706d1ab4f71bd3a570baa7fe1fc",
        "IPY_MODEL_8d91f98ed02b49afb7ac5a8f39d0fd13",
        "IPY_MODEL_2e9dfdd8708f43d2929dddff44741a34"
       ],
       "layout": "IPY_MODEL_17ea6a3f7f5a4ddb90b88bef3bab470b"
      }
     },
     "e8d1477e1ab34296ad78965f82191475": {
      "model_module": "@jupyter-widgets/base",
      "model_module_version": "1.2.0",
      "model_name": "LayoutModel",
      "state": {}
     },
     "e9942052f841461d8d11ff536880ef22": {
      "model_module": "@jupyter-widgets/controls",
      "model_module_version": "1.5.0",
      "model_name": "SliderStyleModel",
      "state": {
       "description_width": ""
      }
     },
     "e9c9c9070c874665b4d0fcb0c7385b94": {
      "model_module": "@jupyter-widgets/base",
      "model_module_version": "1.2.0",
      "model_name": "LayoutModel",
      "state": {}
     },
     "ea1a26b507c94beea7ee416005a4e526": {
      "model_module": "@jupyter-widgets/controls",
      "model_module_version": "1.5.0",
      "model_name": "DescriptionStyleModel",
      "state": {
       "description_width": ""
      }
     },
     "ea3f2276aa014b069600e7b6ad586863": {
      "model_module": "@jupyter-widgets/controls",
      "model_module_version": "1.5.0",
      "model_name": "DescriptionStyleModel",
      "state": {
       "description_width": ""
      }
     },
     "ea697659ce964f34a8e2533aaffa5c45": {
      "model_module": "@jupyter-widgets/controls",
      "model_module_version": "1.5.0",
      "model_name": "ButtonModel",
      "state": {
       "description": "Export Image",
       "layout": "IPY_MODEL_38729f0428f3436b92e5445a73414d4d",
       "style": "IPY_MODEL_be445c262ade480dabcf0f477f3ac781"
      }
     },
     "eaab570248c54762871b3007c5482cda": {
      "model_module": "@jupyter-widgets/base",
      "model_module_version": "1.2.0",
      "model_name": "LayoutModel",
      "state": {}
     },
     "eadfc081d95343c5834f1c3ce35fef2c": {
      "model_module": "@jupyter-widgets/controls",
      "model_module_version": "1.5.0",
      "model_name": "HBoxModel",
      "state": {
       "children": [
        "IPY_MODEL_d2cdd4ca3aaf4d0ca9de7d237d385105",
        "IPY_MODEL_59ae46b0cae84219ae7cd66a3771a199",
        "IPY_MODEL_27a82c1a186c4093ab9a536501e44d9b",
        "IPY_MODEL_3864ac837601494598fb82cabae0c929"
       ],
       "layout": "IPY_MODEL_417ed96ffd53471ea876efb0a6bf982e"
      }
     },
     "eaf66044d8e5449bb46439fe5f026b62": {
      "model_module": "@jupyter-widgets/controls",
      "model_module_version": "1.5.0",
      "model_name": "FloatSliderModel",
      "state": {
       "description": "270°",
       "layout": "IPY_MODEL_f15ba55bed134007ad650bd4e0ec9fa1",
       "max": 1,
       "min": -1,
       "step": 0.01,
       "style": "IPY_MODEL_9207933d56b140deaaae2b1e00d946d5"
      }
     },
     "eb00c36cdcbc4bbe803cec5d31f200fb": {
      "model_module": "@jupyter-widgets/controls",
      "model_module_version": "1.5.0",
      "model_name": "HBoxModel",
      "state": {
       "children": [
        "IPY_MODEL_968b1a492fc541bcb44a109f334ca3f5",
        "IPY_MODEL_0a478181c78c42f79c10e920f583bef7",
        "IPY_MODEL_7bf55e30a7f74968b0de7fe9aabaeab5"
       ],
       "layout": "IPY_MODEL_4ad958eb97684efda7a0d286f1e9c956"
      }
     },
     "eb277c00a5f2498ea319c830a3f569fb": {
      "model_module": "@jupyter-widgets/controls",
      "model_module_version": "1.5.0",
      "model_name": "FloatSliderModel",
      "state": {
       "description": "0°",
       "layout": "IPY_MODEL_a8979e0b456e448f9293bc4674df976f",
       "max": 1,
       "min": -1,
       "step": 0.01,
       "style": "IPY_MODEL_8315f4709458472ea615670dd849a93d"
      }
     },
     "eb34e007a2714592955c9d179d448091": {
      "model_module": "@jupyter-widgets/controls",
      "model_module_version": "1.5.0",
      "model_name": "DescriptionStyleModel",
      "state": {
       "description_width": ""
      }
     },
     "eb95d29c21cd42269b93875fd9e298b9": {
      "model_module": "@jupyter-widgets/controls",
      "model_module_version": "1.5.0",
      "model_name": "ButtonStyleModel",
      "state": {}
     },
     "eb9bd328bd4a47a28640f2903cdaa72c": {
      "model_module": "@jupyter-widgets/base",
      "model_module_version": "1.2.0",
      "model_name": "LayoutModel",
      "state": {}
     },
     "ebc5af55fec04da885cb539f3255f539": {
      "model_module": "@jupyter-widgets/base",
      "model_module_version": "1.2.0",
      "model_name": "LayoutModel",
      "state": {}
     },
     "ebdb3974fd1c4fbbbc02ff5cda3c2635": {
      "model_module": "@jupyter-widgets/controls",
      "model_module_version": "1.5.0",
      "model_name": "HBoxModel",
      "state": {
       "children": [
        "IPY_MODEL_c6c85f1bf5c64402b9df8152f401d55c",
        "IPY_MODEL_e653f7ac2a7a40a89783d31ce89a8d96",
        "IPY_MODEL_b464d01c44924766a0ff1a0ff4709e19",
        "IPY_MODEL_d88ba8a17a8645e4955b8b26d838f408"
       ],
       "layout": "IPY_MODEL_d457abfd52774020a638c11a7f84e1c2"
      }
     },
     "ec0ad40793f54104ab21f4a4970e40bd": {
      "model_module": "@jupyter-widgets/controls",
      "model_module_version": "1.5.0",
      "model_name": "FloatSliderModel",
      "state": {
       "description": "Exposure",
       "layout": "IPY_MODEL_2aaa94314b7f43028a6b53af6c63537d",
       "max": 8,
       "min": -8,
       "step": 0.1,
       "style": "IPY_MODEL_e46ca5ec66b8402b97d06a51405878cc"
      }
     },
     "ec0e4c36400946618e60168021975903": {
      "model_module": "@jupyter-widgets/base",
      "model_module_version": "1.2.0",
      "model_name": "LayoutModel",
      "state": {}
     },
     "ec680e78891c4ad0ac39defdbd108064": {
      "model_module": "@jupyter-widgets/base",
      "model_module_version": "1.2.0",
      "model_name": "LayoutModel",
      "state": {}
     },
     "ec75c12ebaa14307b171181f43c5d83a": {
      "model_module": "@jupyter-widgets/controls",
      "model_module_version": "1.5.0",
      "model_name": "ButtonModel",
      "state": {
       "description": "Save Figure",
       "layout": "IPY_MODEL_f876a1ece4be46bf8742cc6fe2a52aff",
       "style": "IPY_MODEL_ce4cac9ad1fd4ba8a999d4ebaf16a121"
      }
     },
     "ec8d55a8379d45c390e5cb46a17b0e61": {
      "model_module": "@jupyter-widgets/controls",
      "model_module_version": "1.5.0",
      "model_name": "FloatSliderModel",
      "state": {
       "description": "135°",
       "layout": "IPY_MODEL_d977745847bc4050b5b08c6bb5811b26",
       "max": 1,
       "min": -1,
       "step": 0.01,
       "style": "IPY_MODEL_d91816a66976469e9376903b18d645b7"
      }
     },
     "ece081dcd809463ea07f1d507d06268b": {
      "model_module": "@jupyter-widgets/controls",
      "model_module_version": "1.5.0",
      "model_name": "FloatSliderModel",
      "state": {
       "description": "Compression Threshold",
       "layout": "IPY_MODEL_6f83a67c0a7a4612b33fb6a68efc2da7",
       "max": 1,
       "step": 0.01,
       "style": "IPY_MODEL_d9d9c858c7c047af83fba8234949ba35",
       "value": 0.8
      }
     },
     "ecf0a9cb69b54cac842677d402d21bff": {
      "model_module": "@jupyter-widgets/controls",
      "model_module_version": "1.5.0",
      "model_name": "DescriptionStyleModel",
      "state": {
       "description_width": ""
      }
     },
     "ed40ec00ecd044da946dcd89da78157a": {
      "model_module": "@jupyter-widgets/controls",
      "model_module_version": "1.5.0",
      "model_name": "DescriptionStyleModel",
      "state": {
       "description_width": ""
      }
     },
     "ed415a5dc8e24d71b5aff0e806129352": {
      "model_module": "@jupyter-widgets/base",
      "model_module_version": "1.2.0",
      "model_name": "LayoutModel",
      "state": {}
     },
     "ed41a1429cd544888614f46bfa499a9c": {
      "model_module": "@jupyter-widgets/controls",
      "model_module_version": "1.5.0",
      "model_name": "ButtonModel",
      "state": {
       "description": "Reset Hue Controls",
       "layout": "IPY_MODEL_8af494459a9243cf8894e199f45129d6",
       "style": "IPY_MODEL_1ec0617343cd4b57b3991b8008e73aff"
      }
     },
     "edbf55d708d04f218dad188e0fd14740": {
      "model_module": "@jupyter-widgets/controls",
      "model_module_version": "1.5.0",
      "model_name": "SliderStyleModel",
      "state": {
       "description_width": ""
      }
     },
     "edc12283f824434db6d8c0b5ad52857c": {
      "model_module": "@jupyter-widgets/controls",
      "model_module_version": "1.5.0",
      "model_name": "VBoxModel",
      "state": {
       "children": [
        "IPY_MODEL_101fb811eb484ef69d89b5ef3bc4c954",
        "IPY_MODEL_8560821b1df1458f9950586d7ded6c59",
        "IPY_MODEL_e5f73f0383754c08819fbaec935a0084"
       ],
       "layout": "IPY_MODEL_f0e3cb5811434b69b3367a54ca190e23"
      }
     },
     "edf5c615a7e1455f82c71520e0820663": {
      "model_module": "@jupyter-widgets/base",
      "model_module_version": "1.2.0",
      "model_name": "LayoutModel",
      "state": {}
     },
     "ee8dcd8cd7794478954e49854cb95162": {
      "model_module": "@jupyter-widgets/controls",
      "model_module_version": "1.5.0",
      "model_name": "DropdownModel",
      "state": {
       "_options_labels": [
        "tanh",
        "atan",
        "simple"
       ],
       "description": "Compression Function:",
       "index": 0,
       "layout": "IPY_MODEL_82db1898c1e6438a9c3ed8d8e1c6453a",
       "style": "IPY_MODEL_2915598e48ad45f39a021050fd20323b"
      }
     },
     "eea7d41c74964bd5850323b9348aa2fc": {
      "model_module": "@jupyter-widgets/base",
      "model_module_version": "1.2.0",
      "model_name": "LayoutModel",
      "state": {}
     },
     "eebd4b4754cd424eac3bb3aba77bedbe": {
      "model_module": "@jupyter-widgets/controls",
      "model_module_version": "1.5.0",
      "model_name": "ButtonStyleModel",
      "state": {}
     },
     "eec8bb0387a24b6c8b1be99b6b472b13": {
      "model_module": "@jupyter-widgets/base",
      "model_module_version": "1.2.0",
      "model_name": "LayoutModel",
      "state": {}
     },
     "eedb5b05cddb4de4a3620eaab27eb56d": {
      "model_module": "@jupyter-widgets/controls",
      "model_module_version": "1.5.0",
      "model_name": "SliderStyleModel",
      "state": {
       "description_width": ""
      }
     },
     "ef2de15aae144bc6bfb106ce32467734": {
      "model_module": "@jupyter-widgets/base",
      "model_module_version": "1.2.0",
      "model_name": "LayoutModel",
      "state": {}
     },
     "ef632a2c86d9487cbc12251b63d12ee3": {
      "model_module": "@jupyter-widgets/base",
      "model_module_version": "1.2.0",
      "model_name": "LayoutModel",
      "state": {}
     },
     "ef6ca612275041df8b1e404e432a65d1": {
      "model_module": "@jupyter-widgets/controls",
      "model_module_version": "1.5.0",
      "model_name": "ButtonModel",
      "state": {
       "description": "Reset Hue Controls",
       "layout": "IPY_MODEL_18ffdde5d39742f9a97dd79f264b62ed",
       "style": "IPY_MODEL_ca6a03f9dae44d5f89217e469ed30c01"
      }
     },
     "efb22c121215448daf138d16a29e7250": {
      "model_module": "@jupyter-widgets/base",
      "model_module_version": "1.2.0",
      "model_name": "LayoutModel",
      "state": {}
     },
     "f06bb29f197f4ed395d6db0dc4a6ac78": {
      "model_module": "@jupyter-widgets/controls",
      "model_module_version": "1.5.0",
      "model_name": "ButtonModel",
      "state": {
       "description": "Save Figure",
       "layout": "IPY_MODEL_035651297864433dbf08e58c2889a0bb",
       "style": "IPY_MODEL_86032975aeb94121808cc77082cf240c"
      }
     },
     "f0ac10bddcc04a44a7c17dd4027c808f": {
      "model_module": "@jupyter-widgets/controls",
      "model_module_version": "1.5.0",
      "model_name": "ButtonStyleModel",
      "state": {}
     },
     "f0e3cb5811434b69b3367a54ca190e23": {
      "model_module": "@jupyter-widgets/base",
      "model_module_version": "1.2.0",
      "model_name": "LayoutModel",
      "state": {}
     },
     "f15ba55bed134007ad650bd4e0ec9fa1": {
      "model_module": "@jupyter-widgets/base",
      "model_module_version": "1.2.0",
      "model_name": "LayoutModel",
      "state": {}
     },
     "f1975ab619824ae0844c84a0c03e7586": {
      "model_module": "@jupyter-widgets/base",
      "model_module_version": "1.2.0",
      "model_name": "LayoutModel",
      "state": {}
     },
     "f199b5bb57d04ccf816d148f72adf755": {
      "model_module": "@jupyter-widgets/base",
      "model_module_version": "1.2.0",
      "model_name": "LayoutModel",
      "state": {}
     },
     "f1bb053ed0034cab879d2b2873b8cc6a": {
      "model_module": "@jupyter-widgets/controls",
      "model_module_version": "1.5.0",
      "model_name": "FloatSliderModel",
      "state": {
       "description": "225°",
       "layout": "IPY_MODEL_de40d93254a641db8bfe9cfac8037d1b",
       "max": 1,
       "min": -1,
       "step": 0.01,
       "style": "IPY_MODEL_3969c26ed84b45149de82f78cfb3f607"
      }
     },
     "f1c682e0f23e4b0baa3a69fdde77b9d9": {
      "model_module": "@jupyter-widgets/controls",
      "model_module_version": "1.5.0",
      "model_name": "SliderStyleModel",
      "state": {
       "description_width": ""
      }
     },
     "f1df87c8f215417093e52babcfcf0213": {
      "model_module": "@jupyter-widgets/controls",
      "model_module_version": "1.5.0",
      "model_name": "VBoxModel",
      "state": {
       "children": [
        "IPY_MODEL_2d3a74c457ac4c349ddb72470fa77c8d",
        "IPY_MODEL_8b85dd1560d84e3f8bd7260e8dd5607e"
       ],
       "layout": "IPY_MODEL_294360e41d344cbc9d1f772df5169198"
      }
     },
     "f1f05edddb734e1399a4c48ef03a9826": {
      "model_module": "@jupyter-widgets/controls",
      "model_module_version": "1.5.0",
      "model_name": "SliderStyleModel",
      "state": {
       "description_width": ""
      }
     },
     "f21bb1e0c23b43fabfe82f6b393e06d6": {
      "model_module": "@jupyter-widgets/base",
      "model_module_version": "1.2.0",
      "model_name": "LayoutModel",
      "state": {}
     },
     "f222fc22c7ec43cfaf49bccb671e2272": {
      "model_module": "jupyter-matplotlib",
      "model_module_version": "^0.7.2",
      "model_name": "MPLCanvasModel",
      "state": {
       "_figure_label": "Figure 11",
       "_height": 696,
       "_image_mode": "diff",
       "_message": "x=869.34       y=269.712      [0.363, 0.696, 0.401]",
       "_width": 1100,
       "header_visible": false,
       "layout": "IPY_MODEL_2bf33f3bd041462c89aaf528ef18eb00",
       "resizable": false,
       "toolbar": "IPY_MODEL_e7bdd4b0984b47fb88a5e031e878f523",
       "toolbar_position": "left",
       "toolbar_visible": false
      }
     },
     "f27c3779fbbe43aab279533694953d5c": {
      "model_module": "@jupyter-widgets/base",
      "model_module_version": "1.2.0",
      "model_name": "LayoutModel",
      "state": {}
     },
     "f287311254df4cda8b61dfd8074d64cc": {
      "model_module": "@jupyter-widgets/controls",
      "model_module_version": "1.5.0",
      "model_name": "CheckboxModel",
      "state": {
       "description": "Disable Medicina",
       "disabled": false,
       "layout": "IPY_MODEL_584db1f03ab343999fe16f733770f55a",
       "style": "IPY_MODEL_cb0aa7a305a8486daf7c0e79b18dd1bc",
       "value": false
      }
     },
     "f2a7c049d3ff49debd3f7ec326343c47": {
      "model_module": "@jupyter-widgets/output",
      "model_module_version": "1.0.0",
      "model_name": "OutputModel",
      "state": {
       "layout": "IPY_MODEL_a5669159652f407887e312404840a95c",
       "outputs": [
        {
         "data": {
          "application/vnd.jupyter.widget-view+json": {
           "model_id": "f418830a8f134d2f9a758a25809fc338",
           "version_major": 2,
           "version_minor": 0
          },
          "text/plain": "Canvas(toolbar=Toolbar(toolitems=[('Home', 'Reset original view', 'home', 'home'), ('Back', 'Back to previous …"
         },
         "metadata": {},
         "output_type": "display_data"
        }
       ]
      }
     },
     "f2ef41e4b593473a891c36a4a8c76498": {
      "model_module": "@jupyter-widgets/controls",
      "model_module_version": "1.5.0",
      "model_name": "ButtonStyleModel",
      "state": {}
     },
     "f2ffa830484042d099a110a2f2d0a509": {
      "model_module": "@jupyter-widgets/base",
      "model_module_version": "1.2.0",
      "model_name": "LayoutModel",
      "state": {}
     },
     "f3272e52ab6a4f8ea2c6eea49295621b": {
      "model_module": "@jupyter-widgets/base",
      "model_module_version": "1.2.0",
      "model_name": "LayoutModel",
      "state": {}
     },
     "f36d80f067af47c2bd50132d89ee0212": {
      "model_module": "@jupyter-widgets/base",
      "model_module_version": "1.2.0",
      "model_name": "LayoutModel",
      "state": {
       "border": "solid 4px #222",
       "margin": "4px",
       "padding": "0"
      }
     },
     "f3b0d7bdef79492ca1654688abfa8ce3": {
      "model_module": "@jupyter-widgets/controls",
      "model_module_version": "1.5.0",
      "model_name": "ButtonModel",
      "state": {
       "description": "Save Figure",
       "layout": "IPY_MODEL_43d77c01ae494090be550698b344d9ba",
       "style": "IPY_MODEL_d4d795ad8b9c4825bd336b795accc2fb"
      }
     },
     "f3ecf84f2b2b4f6ba521087cc02f9ef4": {
      "model_module": "@jupyter-widgets/controls",
      "model_module_version": "1.5.0",
      "model_name": "ButtonStyleModel",
      "state": {}
     },
     "f402059c960441feb6f6ca5c71de8c34": {
      "model_module": "@jupyter-widgets/base",
      "model_module_version": "1.2.0",
      "model_name": "LayoutModel",
      "state": {
       "border": "solid 4px #222",
       "margin": "4px",
       "padding": "0"
      }
     },
     "f40f22217f744878a3dc0488fdf16c5c": {
      "model_module": "@jupyter-widgets/controls",
      "model_module_version": "1.5.0",
      "model_name": "FloatSliderModel",
      "state": {
       "description": "90°",
       "layout": "IPY_MODEL_777f7d3cd2744c30a7505fcd809b9442",
       "max": 1,
       "min": -1,
       "step": 0.01,
       "style": "IPY_MODEL_5c887ae1ec374f299838080917b688b0"
      }
     },
     "f416d006243748beab773c7e9710624b": {
      "model_module": "@jupyter-widgets/base",
      "model_module_version": "1.2.0",
      "model_name": "LayoutModel",
      "state": {}
     },
     "f418830a8f134d2f9a758a25809fc338": {
      "model_module": "jupyter-matplotlib",
      "model_module_version": "^0.7.2",
      "model_name": "MPLCanvasModel",
      "state": {
       "_figure_label": "Figure 3",
       "_height": 396,
       "_width": 1100,
       "header_visible": false,
       "layout": "IPY_MODEL_163e9c1554b14b029b8ef2a358e9d7f4",
       "resizable": false,
       "toolbar": "IPY_MODEL_5fdf60eb58494cdcb26b0a550b7da77a",
       "toolbar_position": "left",
       "toolbar_visible": false
      }
     },
     "f4d6275263ae40ebaa7589975a1dec1f": {
      "model_module": "@jupyter-widgets/controls",
      "model_module_version": "1.5.0",
      "model_name": "DescriptionStyleModel",
      "state": {
       "description_width": ""
      }
     },
     "f564a0cf6fcc40abad1255ca0aa09b55": {
      "model_module": "@jupyter-widgets/controls",
      "model_module_version": "1.5.0",
      "model_name": "FloatSliderModel",
      "state": {
       "description": "0°",
       "layout": "IPY_MODEL_f199b5bb57d04ccf816d148f72adf755",
       "max": 1,
       "min": -1,
       "step": 0.01,
       "style": "IPY_MODEL_e9942052f841461d8d11ff536880ef22"
      }
     },
     "f5b2055dca404920b797104c54dfaaa2": {
      "model_module": "@jupyter-widgets/base",
      "model_module_version": "1.2.0",
      "model_name": "LayoutModel",
      "state": {}
     },
     "f5bc47f514554baf91413032125e7f84": {
      "model_module": "@jupyter-widgets/controls",
      "model_module_version": "1.5.0",
      "model_name": "SliderStyleModel",
      "state": {
       "description_width": ""
      }
     },
     "f5e1f21538cf4acf9db4885fd158e245": {
      "model_module": "jupyter-matplotlib",
      "model_module_version": "^0.7.2",
      "model_name": "MPLCanvasModel",
      "state": {
       "_figure_label": "Figure 17",
       "_height": 430,
       "_width": 1099,
       "header_visible": false,
       "layout": "IPY_MODEL_83e067a6d27e45d7b1f6cf71780d3428",
       "resizable": false,
       "toolbar": "IPY_MODEL_5e7e9d216ff34098ba5869d1a0a078b8",
       "toolbar_position": "left",
       "toolbar_visible": false
      }
     },
     "f5e3915de04d4fd6be9ad15cc09afec9": {
      "model_module": "@jupyter-widgets/controls",
      "model_module_version": "1.5.0",
      "model_name": "FloatSliderModel",
      "state": {
       "description": "180°",
       "layout": "IPY_MODEL_5c1f61b98250495aa21b28b135ce4fd3",
       "max": 1,
       "min": -1,
       "step": 0.01,
       "style": "IPY_MODEL_874bfc0594c6415dbdf85a078b13afc4"
      }
     },
     "f62015287ed547eca8fcc6c6840a3358": {
      "model_module": "@jupyter-widgets/controls",
      "model_module_version": "1.5.0",
      "model_name": "FloatSliderModel",
      "state": {
       "description": "Protected Area Threshold",
       "layout": "IPY_MODEL_843a09ebbbe042a9a1c219c0a731cacb",
       "max": 1,
       "step": 0.01,
       "style": "IPY_MODEL_504d0af21e6242358218fe87ae12a9c6",
       "value": 0.7
      }
     },
     "f65c121a82b24774bf7a9a7c2a04763f": {
      "model_module": "@jupyter-widgets/controls",
      "model_module_version": "1.5.0",
      "model_name": "BoxModel",
      "state": {
       "children": [
        "IPY_MODEL_009ea2d545b3456d8d1402a979a783d8",
        "IPY_MODEL_4a121970c4444c1cb0ea324ac849a0d0"
       ],
       "layout": "IPY_MODEL_98d48caf15bd45978c205c986ae53b94"
      }
     },
     "f6bf48dbd6674531a75cc53d74fad848": {
      "model_module": "@jupyter-widgets/base",
      "model_module_version": "1.2.0",
      "model_name": "LayoutModel",
      "state": {
       "align_items": "stretch",
       "display": "flex",
       "flex_flow": "column",
       "width": "1128px"
      }
     },
     "f6eb2b477d764be580ca4771b994f605": {
      "model_module": "@jupyter-widgets/controls",
      "model_module_version": "1.5.0",
      "model_name": "SliderStyleModel",
      "state": {
       "description_width": ""
      }
     },
     "f6f8dc6d054c4e64b8ec9f17c7ad731a": {
      "model_module": "@jupyter-widgets/controls",
      "model_module_version": "1.5.0",
      "model_name": "HBoxModel",
      "state": {
       "children": [
        "IPY_MODEL_0f85d6d4c9154043b3b7aac132015f7d",
        "IPY_MODEL_1703652ebd4043089e5e498c2a93c740",
        "IPY_MODEL_15a19aee1fd245808924f47e26983e18",
        "IPY_MODEL_bc46d94dd9a140d98b81ee8e20d1a1a4"
       ],
       "layout": "IPY_MODEL_b63e83814b544bfa901ccf1f6f085d7b"
      }
     },
     "f72335452a2f498fa4ed3f6be17b8628": {
      "model_module": "@jupyter-widgets/base",
      "model_module_version": "1.2.0",
      "model_name": "LayoutModel",
      "state": {}
     },
     "f762172e3da04a27b02d36150262cb2e": {
      "model_module": "@jupyter-widgets/base",
      "model_module_version": "1.2.0",
      "model_name": "LayoutModel",
      "state": {}
     },
     "f7b0233a66af486289c20870ea83c01b": {
      "model_module": "@jupyter-widgets/controls",
      "model_module_version": "1.5.0",
      "model_name": "FloatSliderModel",
      "state": {
       "description": "180°",
       "layout": "IPY_MODEL_4b702b5979854ab099a7e5473e0dbf1e",
       "max": 1,
       "min": -1,
       "step": 0.01,
       "style": "IPY_MODEL_3f74801cd26f40bab2997fc62b354578"
      }
     },
     "f7da2c8391374d4a837df17c53e6d40e": {
      "model_module": "@jupyter-widgets/controls",
      "model_module_version": "1.5.0",
      "model_name": "ButtonStyleModel",
      "state": {}
     },
     "f81f5f5d00584e09a4e8b3c59f7d57ff": {
      "model_module": "@jupyter-widgets/controls",
      "model_module_version": "1.5.0",
      "model_name": "HBoxModel",
      "state": {
       "children": [
        "IPY_MODEL_7510877d99f34371a4a355de33c5c024",
        "IPY_MODEL_bf51b4f895704f06ba09018445564d78"
       ],
       "layout": "IPY_MODEL_e308557e8c93462b8dee4c1f9cddbb6b"
      }
     },
     "f8556ebffd91443d8c8d8d54b69d4e7a": {
      "model_module": "@jupyter-widgets/controls",
      "model_module_version": "1.5.0",
      "model_name": "VBoxModel",
      "state": {
       "children": [
        "IPY_MODEL_5e730de719fc461fabe02bb55a5d5d95",
        "IPY_MODEL_5f84dea053654c6db0d482b348010362",
        "IPY_MODEL_38f1a92defb94ac88bf0e798f8b162cf"
       ],
       "layout": "IPY_MODEL_ff75e0c2316e4b9d91ec9ddeeff67a5c"
      }
     },
     "f876a1ece4be46bf8742cc6fe2a52aff": {
      "model_module": "@jupyter-widgets/base",
      "model_module_version": "1.2.0",
      "model_name": "LayoutModel",
      "state": {}
     },
     "f929e02654f64d9bb0156b12905fb15b": {
      "model_module": "@jupyter-widgets/base",
      "model_module_version": "1.2.0",
      "model_name": "LayoutModel",
      "state": {}
     },
     "f94d1d9fa6cf4944b0dec69e4460e93f": {
      "model_module": "@jupyter-widgets/controls",
      "model_module_version": "1.5.0",
      "model_name": "SliderStyleModel",
      "state": {
       "description_width": ""
      }
     },
     "f9582d07413d4ff5bbaaed467abb9091": {
      "model_module": "@jupyter-widgets/controls",
      "model_module_version": "1.5.0",
      "model_name": "FloatSliderModel",
      "state": {
       "description": "Protected Area Threshold",
       "layout": "IPY_MODEL_4747e050c86d426ab92f7546c8745c44",
       "max": 1,
       "step": 0.01,
       "style": "IPY_MODEL_94d3d3c36c6446028cacdc477834b4e5",
       "value": 0.7
      }
     },
     "f95dbda8cd77484fa2e1e27016684ce2": {
      "model_module": "@jupyter-widgets/controls",
      "model_module_version": "1.5.0",
      "model_name": "HBoxModel",
      "state": {
       "children": [
        "IPY_MODEL_e62708bf0fad41e5b518532b98a61378",
        "IPY_MODEL_b2f3208c58354029972ca56e2ef41e7f"
       ],
       "layout": "IPY_MODEL_2a2ebdfdf25345389e7e5a98e99f5ca5"
      }
     },
     "f9dd75dd98e249e1b04cb2d5ccc1f459": {
      "model_module": "@jupyter-widgets/controls",
      "model_module_version": "1.5.0",
      "model_name": "SliderStyleModel",
      "state": {
       "description_width": ""
      }
     },
     "f9fa6a1a1d4d4c27bc37d44fb8e76f07": {
      "model_module": "@jupyter-widgets/base",
      "model_module_version": "1.2.0",
      "model_name": "LayoutModel",
      "state": {
       "border": "solid 4px #222",
       "margin": "4px",
       "padding": "0"
      }
     },
     "fa1631bfa4e54ee5b1a47a229d398e83": {
      "model_module": "@jupyter-widgets/base",
      "model_module_version": "1.2.0",
      "model_name": "LayoutModel",
      "state": {
       "border": "solid 4px #222",
       "margin": "4px",
       "padding": "0"
      }
     },
     "fa44a5f61bb9402a8c96b7e212055db9": {
      "model_module": "@jupyter-widgets/controls",
      "model_module_version": "1.5.0",
      "model_name": "VBoxModel",
      "state": {
       "children": [
        "IPY_MODEL_c2944e6bbc5c4dd38508a9e909b73ed5"
       ],
       "layout": "IPY_MODEL_ca62efc7823443a8b82e389e1979f2ee"
      }
     },
     "fa63cb1329ab4b6d93d76e4ffe032e40": {
      "model_module": "@jupyter-widgets/base",
      "model_module_version": "1.2.0",
      "model_name": "LayoutModel",
      "state": {}
     },
     "fa81d09b5fcb47c6b4d3759ee8e95c59": {
      "model_module": "@jupyter-widgets/controls",
      "model_module_version": "1.5.0",
      "model_name": "SliderStyleModel",
      "state": {
       "description_width": ""
      }
     },
     "fa85f5526ea64dca82979206399997c3": {
      "model_module": "@jupyter-widgets/base",
      "model_module_version": "1.2.0",
      "model_name": "LayoutModel",
      "state": {}
     },
     "fa9813b582c74c9bb75e03ee637d8bd1": {
      "model_module": "@jupyter-widgets/controls",
      "model_module_version": "1.5.0",
      "model_name": "ButtonStyleModel",
      "state": {}
     },
     "fab3f4472e034dc79f0e4fe062a0ff9a": {
      "model_module": "@jupyter-widgets/controls",
      "model_module_version": "1.5.0",
      "model_name": "SliderStyleModel",
      "state": {
       "description_width": ""
      }
     },
     "fb224bbbe8ab40d19e113dbf85174e55": {
      "model_module": "@jupyter-widgets/controls",
      "model_module_version": "1.5.0",
      "model_name": "FloatSliderModel",
      "state": {
       "description": "180°",
       "layout": "IPY_MODEL_3bf78939b9974a37b66a6e413355d37b",
       "max": 1,
       "min": -1,
       "step": 0.01,
       "style": "IPY_MODEL_7a3f2854bca34c598ea6405ea063ade5"
      }
     },
     "fb5fab9fa3c945c785498b235da39688": {
      "model_module": "@jupyter-widgets/base",
      "model_module_version": "1.2.0",
      "model_name": "LayoutModel",
      "state": {}
     },
     "fbb254787d6545eab1fd52b4908b72f4": {
      "model_module": "@jupyter-widgets/base",
      "model_module_version": "1.2.0",
      "model_name": "LayoutModel",
      "state": {}
     },
     "fc1f31081ccd49989e597ba7cc467b17": {
      "model_module": "@jupyter-widgets/base",
      "model_module_version": "1.2.0",
      "model_name": "LayoutModel",
      "state": {}
     },
     "fc7387c321ef4ab4a7138f2617959e8a": {
      "model_module": "@jupyter-widgets/controls",
      "model_module_version": "1.5.0",
      "model_name": "FloatSliderModel",
      "state": {
       "description": "45°",
       "layout": "IPY_MODEL_b394cf826e8a4d5e8861eafaa6f70670",
       "max": 1,
       "min": -1,
       "step": 0.01,
       "style": "IPY_MODEL_43449a1b295f4b0387437de623c0e9b8"
      }
     },
     "fc8ac166b49246a69cf43f9665680bfa": {
      "model_module": "@jupyter-widgets/controls",
      "model_module_version": "1.5.0",
      "model_name": "FloatSliderModel",
      "state": {
       "description": "Exposure",
       "layout": "IPY_MODEL_01ced013a9b94932ac615aa21f290df3",
       "max": 8,
       "min": -8,
       "step": 0.1,
       "style": "IPY_MODEL_66d79c0119d3497d9db14a0a4821c7fe"
      }
     },
     "fc9d9870f2e440c2a0bea9083f63e6ca": {
      "model_module": "@jupyter-widgets/base",
      "model_module_version": "1.2.0",
      "model_name": "LayoutModel",
      "state": {}
     },
     "fca2fce28a7349e0a3e3cb77dfb3b911": {
      "model_module": "@jupyter-widgets/controls",
      "model_module_version": "1.5.0",
      "model_name": "SliderStyleModel",
      "state": {
       "description_width": ""
      }
     },
     "fcd8eebbcc364b1f878f8507505b9075": {
      "model_module": "@jupyter-widgets/controls",
      "model_module_version": "1.5.0",
      "model_name": "FloatSliderModel",
      "state": {
       "description": "Protected Area Threshold",
       "layout": "IPY_MODEL_2f684fa211024eacb3e9f35ce16fa21c",
       "max": 1,
       "step": 0.01,
       "style": "IPY_MODEL_b7c9184f2e924eed8ff226be4727a9a4",
       "value": 0.7
      }
     },
     "fcde7fdad7484a10b21296a76b9484a2": {
      "model_module": "@jupyter-widgets/base",
      "model_module_version": "1.2.0",
      "model_name": "LayoutModel",
      "state": {}
     },
     "fcfab5d54b824717813b0b86b89c2d61": {
      "model_module": "@jupyter-widgets/base",
      "model_module_version": "1.2.0",
      "model_name": "LayoutModel",
      "state": {}
     },
     "fd39fd9c021b477e89435487450ab23a": {
      "model_module": "@jupyter-widgets/base",
      "model_module_version": "1.2.0",
      "model_name": "LayoutModel",
      "state": {}
     },
     "fd5c8e53ae02450eb67c3f72d258e621": {
      "model_module": "@jupyter-widgets/controls",
      "model_module_version": "1.5.0",
      "model_name": "DropdownModel",
      "state": {
       "_options_labels": [
        "tanh",
        "atan",
        "simple"
       ],
       "description": "Compression Function:",
       "index": 0,
       "layout": "IPY_MODEL_a512a268c039412cac32a9c53d2f7f96",
       "style": "IPY_MODEL_bec07acbf55c4e9da599f4a5a2204c81"
      }
     },
     "fd7b764b35fd4a49a87e454f45e5ebc6": {
      "model_module": "@jupyter-widgets/controls",
      "model_module_version": "1.5.0",
      "model_name": "ButtonStyleModel",
      "state": {}
     },
     "fd9d110d58d748828d5036b792843c89": {
      "model_module": "@jupyter-widgets/controls",
      "model_module_version": "1.5.0",
      "model_name": "FloatSliderModel",
      "state": {
       "description": "Compression Threshold",
       "layout": "IPY_MODEL_4ba83fd727364b68b8775e61d2ffacad",
       "max": 1,
       "step": 0.01,
       "style": "IPY_MODEL_f5bc47f514554baf91413032125e7f84",
       "value": 0.5
      }
     },
     "fdba87418feb44b2963884ec57b19c36": {
      "model_module": "@jupyter-widgets/controls",
      "model_module_version": "1.5.0",
      "model_name": "ButtonStyleModel",
      "state": {}
     },
     "fdd7a491785a4869aca0d49e04fac11e": {
      "model_module": "@jupyter-widgets/base",
      "model_module_version": "1.2.0",
      "model_name": "LayoutModel",
      "state": {}
     },
     "fe9853de14f3471e89a3a0f5fd2f60af": {
      "model_module": "@jupyter-widgets/base",
      "model_module_version": "1.2.0",
      "model_name": "LayoutModel",
      "state": {}
     },
     "feea026f0c644feda673bf1efbf8b326": {
      "model_module": "@jupyter-widgets/controls",
      "model_module_version": "1.5.0",
      "model_name": "ButtonModel",
      "state": {
       "description": "Reset Hue Controls",
       "layout": "IPY_MODEL_ac81b1f9dde7466194ac92b731af19a9",
       "style": "IPY_MODEL_357d9131def147b38e0066477abe6b90"
      }
     },
     "feef0d0707f74f01a5ba73ef443daf58": {
      "model_module": "@jupyter-widgets/controls",
      "model_module_version": "1.5.0",
      "model_name": "SliderStyleModel",
      "state": {
       "description_width": ""
      }
     },
     "ff16f95b81ca402dbdf4e381f16ef0d2": {
      "model_module": "@jupyter-widgets/base",
      "model_module_version": "1.2.0",
      "model_name": "LayoutModel",
      "state": {}
     },
     "ff2638333d1b42f2a964461b7d13eacc": {
      "model_module": "@jupyter-widgets/controls",
      "model_module_version": "1.5.0",
      "model_name": "FloatSliderModel",
      "state": {
       "description": "Compression Threshold",
       "layout": "IPY_MODEL_6a345419c04345a1a8fd2fb926a8953e",
       "max": 1,
       "step": 0.01,
       "style": "IPY_MODEL_8f2fb87579ad4ed7be72af7c0f1086c3",
       "value": 0.8
      }
     },
     "ff289bb117404f4fbdb47fbf8860fb5c": {
      "model_module": "@jupyter-widgets/base",
      "model_module_version": "1.2.0",
      "model_name": "LayoutModel",
      "state": {}
     },
     "ff5e5b5260d1452ca837d60c80824807": {
      "model_module": "@jupyter-widgets/controls",
      "model_module_version": "1.5.0",
      "model_name": "DescriptionStyleModel",
      "state": {
       "description_width": ""
      }
     },
     "ff73ba679f334004908767b313890d2d": {
      "model_module": "@jupyter-widgets/controls",
      "model_module_version": "1.5.0",
      "model_name": "VBoxModel",
      "state": {
       "children": [
        "IPY_MODEL_4b08febd71b8494cbfe978fe9fc9ef44",
        "IPY_MODEL_f7b0233a66af486289c20870ea83c01b",
        "IPY_MODEL_8d558afc05334b2097586d5090f864d1"
       ],
       "layout": "IPY_MODEL_ffecc847f9374273a9d7ac91cf28d0df"
      }
     },
     "ff75e0c2316e4b9d91ec9ddeeff67a5c": {
      "model_module": "@jupyter-widgets/base",
      "model_module_version": "1.2.0",
      "model_name": "LayoutModel",
      "state": {}
     },
     "ff8f6c87887143eebddb407e56085ec6": {
      "model_module": "@jupyter-widgets/controls",
      "model_module_version": "1.5.0",
      "model_name": "HBoxModel",
      "state": {
       "children": [
        "IPY_MODEL_aa4643d6240a44eb863b75f3ae79e665",
        "IPY_MODEL_326e2474df4d4e8dabbefca04101a19a"
       ],
       "layout": "IPY_MODEL_74c9340f03fe43edb25a9dc3b3166894"
      }
     },
     "ffa75689771645b1b12a5ca8b5ab74f3": {
      "model_module": "@jupyter-widgets/controls",
      "model_module_version": "1.5.0",
      "model_name": "SliderStyleModel",
      "state": {
       "description_width": ""
      }
     },
     "ffba54db546b47a196d7386370bbd548": {
      "model_module": "@jupyter-widgets/base",
      "model_module_version": "1.2.0",
      "model_name": "LayoutModel",
      "state": {
       "border": "solid 4px #222",
       "margin": "4px",
       "padding": "0"
      }
     },
     "ffd52607699741d5a9c49467840d96de": {
      "model_module": "@jupyter-widgets/base",
      "model_module_version": "1.2.0",
      "model_name": "LayoutModel",
      "state": {}
     },
     "ffecc847f9374273a9d7ac91cf28d0df": {
      "model_module": "@jupyter-widgets/base",
      "model_module_version": "1.2.0",
      "model_name": "LayoutModel",
      "state": {}
     }
    },
    "version_major": 2,
    "version_minor": 0
   }
  }
 },
 "nbformat": 4,
 "nbformat_minor": 4
}
