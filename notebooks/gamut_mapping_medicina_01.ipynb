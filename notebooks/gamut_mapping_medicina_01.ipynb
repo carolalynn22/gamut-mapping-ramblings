{
 "cells": [
  {
   "cell_type": "markdown",
   "metadata": {
    "colab_type": "text",
    "id": "pRS6nhpu1R6y"
   },
   "source": [
    "# Gamut Mapping - Medicina 01"
   ]
  },
  {
   "cell_type": "markdown",
   "metadata": {},
   "source": [
    "## Introduction"
   ]
  },
  {
   "cell_type": "markdown",
   "metadata": {},
   "source": [
    "This notebook implements an interactive widget used to investigate various gamut models in the context for the [ACES VWG on Gamut Mapping](https://community.acescentral.com/c/aces-development-acesnext/vwg-aces-gamut-mapping-working-group/).\n",
    "\n",
    "It is assumed that the reader has some knowledge about image processing and colour management pipelines in the Media and Entertainment Industry. An introductory publication on the topic is [Cinematic Color: From Your Monitor to the Big Screen](https://cinematiccolor.org/) by Selan (2012).\n",
    "\n",
    "Because the imagery represents scene-referred exposure values, the gamut mapped images should ideally be exported and viewed with an appropriate *View Transform*, typically an *ACES RRT + sRGB ODT* transforms combination.\n",
    "\n",
    "\n",
    "Images courtesy of:\n",
    "\n",
    "- [Justin Holt](https://www.dropbox.com/sh/u6z2a0jboo4vno8/AAB-10qcflhpr0C5LWhs7Kq4a?dl=0)\n",
    "- [Thomas Mansencal](https://community.acescentral.com/t/spectral-images-generation-and-processing/)\n",
    "- [Fabian Matas](https://www.dropbox.com/sh/u6z2a0jboo4vno8/AAB-10qcflhpr0C5LWhs7Kq4a?dl=0)\n",
    "- [Carol Payne](https://www.dropbox.com/sh/u6z2a0jboo4vno8/AAB-10qcflhpr0C5LWhs7Kq4a?dl=0)\n",
    "- [Martin Smekal](https://community.acescentral.com/t/vfx-work-in-acescg-with-out-of-gamut-devices/2385)"
   ]
  },
  {
   "cell_type": "markdown",
   "metadata": {},
   "source": [
    "## Imports & Overall Settings"
   ]
  },
  {
   "cell_type": "code",
   "execution_count": 1,
   "metadata": {},
   "outputs": [],
   "source": [
    "%matplotlib widget"
   ]
  },
  {
   "cell_type": "code",
   "execution_count": 2,
   "metadata": {
    "colab": {
     "base_uri": "https://localhost:8080/",
     "height": 340
    },
    "colab_type": "code",
    "id": "OydMmtZRxd3c",
    "outputId": "297a43b9-f566-405d-e8bc-cfae56b50959"
   },
   "outputs": [
    {
     "name": "stdout",
     "output_type": "stream",
     "text": [
      "===============================================================================\n",
      "*                                                                             *\n",
      "*   Interpreter :                                                             *\n",
      "*       python : 3.7.6 (default, Dec 30 2019, 19:38:26)                       *\n",
      "*                [Clang 11.0.0 (clang-1100.0.33.16)]                          *\n",
      "*                                                                             *\n",
      "*   colour-science.org :                                                      *\n",
      "*       colour : v0.3.15-132-g8ed24e8e                                        *\n",
      "*                                                                             *\n",
      "*   Runtime :                                                                 *\n",
      "*       imageio : 2.8.0                                                       *\n",
      "*       matplotlib : 3.0.3                                                    *\n",
      "*       numpy : 1.18.4                                                        *\n",
      "*       scipy : 1.4.1                                                         *\n",
      "*       six : 1.14.0                                                          *\n",
      "*                                                                             *\n",
      "===============================================================================\n"
     ]
    }
   ],
   "source": [
    "from __future__ import division, unicode_literals\n",
    "\n",
    "import colour\n",
    "import ipympl.backend_nbagg\n",
    "import ipywidgets\n",
    "import matplotlib.gridspec as gridspec\n",
    "import matplotlib.patches as patches\n",
    "import matplotlib.pyplot as plt\n",
    "import numpy as np\n",
    "import os\n",
    "import scipy.interpolate\n",
    "from matplotlib.collections import PathCollection\n",
    "from matplotlib._layoutbox import plot_children\n",
    "\n",
    "DEFAULT_BOX_DECORATION_WIDTH = 4\n",
    "MPL_BOX_DECORATION_WIDTH = 28\n",
    "\n",
    "COLOUR_STYLE = colour.plotting.colour_style()\n",
    "COLOUR_STYLE.update({\n",
    "    'legend.framealpha':\n",
    "    colour.plotting.COLOUR_STYLE_CONSTANTS.opacity.low\n",
    "})\n",
    "\n",
    "plt.style.use(COLOUR_STYLE)\n",
    "\n",
    "plt.style.use('dark_background')\n",
    "\n",
    "colour.utilities.describe_environment()\n",
    "\n",
    "colour.utilities.filter_warnings(*[True] * 4);"
   ]
  },
  {
   "cell_type": "markdown",
   "metadata": {},
   "source": [
    "## Widgets Styling"
   ]
  },
  {
   "cell_type": "markdown",
   "metadata": {},
   "source": [
    "CSS style for various widgets to improve overall presentation."
   ]
  },
  {
   "cell_type": "code",
   "execution_count": 3,
   "metadata": {},
   "outputs": [
    {
     "data": {
      "text/html": [
       "<style>\n",
       ".widget-button {\n",
       "    margin-left: 10px;\n",
       "    margin-right: 10px;\n",
       "}\n",
       "</style>\n"
      ],
      "text/plain": [
       "<IPython.core.display.HTML object>"
      ]
     },
     "metadata": {},
     "output_type": "display_data"
    }
   ],
   "source": [
    "%%html\n",
    "<style>\n",
    ".widget-button {\n",
    "    margin-left: 10px;\n",
    "    margin-right: 10px;\n",
    "}\n",
    "</style>"
   ]
  },
  {
   "cell_type": "markdown",
   "metadata": {
    "colab_type": "text",
    "id": "5yCeFpnnp_wh"
   },
   "source": [
    "## Colour Wheel Generation"
   ]
  },
  {
   "cell_type": "markdown",
   "metadata": {},
   "source": [
    "Utility function responsible to produce a scene-referred colour wheel."
   ]
  },
  {
   "cell_type": "code",
   "execution_count": 4,
   "metadata": {
    "colab": {},
    "colab_type": "code",
    "id": "RshonIbOI4Ij"
   },
   "outputs": [],
   "source": [
    "def colour_wheel(samples=1024, clip_circle=False, method='Colour'):\n",
    "    xx, yy = np.meshgrid(\n",
    "        np.linspace(-1, 1, samples), np.linspace(-1, 1, samples))\n",
    "\n",
    "    S = np.sqrt(xx ** 2 + yy ** 2)    \n",
    "    H = (np.arctan2(xx, yy) + np.pi) / (np.pi * 2)\n",
    "\n",
    "    HSV = colour.utilities.tstack([H, S, np.ones(H.shape)])\n",
    "    RGB = colour.HSV_to_RGB(HSV)\n",
    "\n",
    "    if clip_circle == True:\n",
    "        RGB[S > 1] = 0\n",
    "        A = np.where(S > 1, 0, 1)\n",
    "    else:\n",
    "        A = np.ones(S.shape)\n",
    "\n",
    "    if method.lower()== 'matplotlib':\n",
    "        RGB = colour.utilities.orient(RGB, '90 CW')\n",
    "    elif method.lower()== 'nuke':\n",
    "        RGB = colour.utilities.orient(RGB, 'Flip')\n",
    "        RGB = colour.utilities.orient(RGB, '90 CW')\n",
    "\n",
    "    R, G, B = colour.utilities.tsplit(RGB)\n",
    "    \n",
    "    return colour.utilities.tstack([R, G, B, A])"
   ]
  },
  {
   "cell_type": "markdown",
   "metadata": {},
   "source": [
    "## Utility Functions & Objects"
   ]
  },
  {
   "cell_type": "markdown",
   "metadata": {},
   "source": [
    "Various random utility functions and objects."
   ]
  },
  {
   "cell_type": "code",
   "execution_count": 5,
   "metadata": {},
   "outputs": [],
   "source": [
    "def batch(sequence, count):\n",
    "    for i in range(0, len(sequence), count):\n",
    "        yield sequence[i:i + count]\n",
    "        \n",
    "\n",
    "def border_layout():\n",
    "    return ipywidgets.widgets.Layout(\n",
    "        border='solid {0}px #222'.format(4),\n",
    "        margin='{0}px'.format(DEFAULT_BOX_DECORATION_WIDTH),\n",
    "        padding='0')\n",
    "\n",
    "\n",
    "def adjust_exposure(a, EV):\n",
    "    a = colour.utilities.as_float_array(a)\n",
    "\n",
    "    return a * pow(2, EV)"
   ]
  },
  {
   "cell_type": "markdown",
   "metadata": {},
   "source": [
    "## Gamut Medicina Base Widget"
   ]
  },
  {
   "cell_type": "markdown",
   "metadata": {},
   "source": [
    "The `GamutMedicinaBaseWidget` base widget class is inherited by the concrete sub-classes implementing the various gamut mapping study models.\n",
    "\n",
    "At its core it is itself an `ipywidgets.widgets.Box` sub-class which outputs a [Matplotlib](http://matplotlib.org/) figure composed of three sub-plots:\n",
    "\n",
    "- **Reference Image**: Required, 1 cartesian `Axes`\n",
    "- **Colour Wheel**: Optional, 1 cartesian `Axes` and 1 polar `Axes`\n",
    "- **Chromaticity Diagram**: Optional, 1 cartesian `Axes`\n",
    "\n",
    "Trivial layout heuristic is implemented to support optionally enabling or disabling the **Colour Wheel** and **Chromaticity Diagram** sub-plots."
   ]
  },
  {
   "cell_type": "markdown",
   "metadata": {},
   "source": [
    "### Reference Image"
   ]
  },
  {
   "cell_type": "markdown",
   "metadata": {},
   "source": [
    "The **Reference Image** sub-plot is responsible for displaying the gamut mapped scene-referred imagery.\n",
    "\n",
    "*Note*\n",
    "\n",
    "> To improve the performance of the notebook, the *View Transform*, i.e. a S-Curve, converting the scene-referred imagery to output-referred values is omitted."
   ]
  },
  {
   "cell_type": "markdown",
   "metadata": {},
   "source": [
    "### Colour Wheel"
   ]
  },
  {
   "cell_type": "markdown",
   "metadata": {},
   "source": [
    "The **Colour Wheel** sub-plot is used to represent the controls for the gamut mapping study models adopting a cylindrical or conic working space.\n",
    "\n",
    "The colour wheel is drawn on a cartesian `Axes` on top of which is overlayed a polar `Axes` used to draw the control regions."
   ]
  },
  {
   "cell_type": "markdown",
   "metadata": {},
   "source": [
    "### Chromaticity Diagram"
   ]
  },
  {
   "cell_type": "markdown",
   "metadata": {},
   "source": [
    "The **Chromaticity Diagram** sub-plot is also used to represent the controls for the gamut mapping study models into the *Chromaticity Diagram 1976 UCS* based on the [CIE L\\*u\\*v\\*](https://fr.wikipedia.org/wiki/L*u*v*_CIE_1976) colourspace.\n",
    "\n",
    "It also features the following elements:\n",
    "\n",
    "- *RGB Working Space* gamut, i.e. *ACEScg/AP1*, large triangle\n",
    "- *RGB Display Space* gamut, i.e. *sRGB*, small triangle\n",
    "- Scatter of the decimated **Reference Image** data\n",
    "- Scatter of the ColorChecker Classic data, white scatter points\n"
   ]
  },
  {
   "cell_type": "code",
   "execution_count": 6,
   "metadata": {},
   "outputs": [
    {
     "data": {
      "application/vnd.jupyter.widget-view+json": {
       "model_id": "d02523a6e3fe423a952f1b3c5afc931b",
       "version_major": 2,
       "version_minor": 0
      },
      "text/plain": [
       "GamutMedicinaBaseWidget(children=(Output(layout=Layout(border='solid 4px #222', margin='4px', padding='0')), T…"
      ]
     },
     "metadata": {},
     "output_type": "display_data"
    }
   ],
   "source": [
    "class GamutMedicinaBaseWidget(ipywidgets.widgets.Box):\n",
    "    def __init__(self,\n",
    "                 reference_image_path=None,\n",
    "                 working_space=colour.models.ACES_CG_COLOURSPACE,\n",
    "                 reference_space=colour.models.ACES_2065_1_COLOURSPACE,\n",
    "                 display_space=colour.models.sRGB_COLOURSPACE,\n",
    "                 colour_wheel_samples=256,\n",
    "                 image_decimation=10,\n",
    "                 reference_image_exposure=0,\n",
    "                 figure_size=(11, None),\n",
    "                 padding=0.005,\n",
    "                 spacing=0.005,\n",
    "                 show_labels=False,\n",
    "                 enable_colour_wheel=True,\n",
    "                 enable_chromaticity_diagram=True,\n",
    "                 debug_layout=False):\n",
    "        super().__init__()\n",
    "\n",
    "        self._reference_image_path = reference_image_path\n",
    "        self._working_space = working_space\n",
    "        self._reference_space = reference_space\n",
    "        self._display_space = display_space\n",
    "        self._colour_wheel_samples = colour_wheel_samples\n",
    "        self._image_decimation = image_decimation\n",
    "        self._reference_image_exposure = reference_image_exposure\n",
    "        self._figure_size = figure_size\n",
    "        self._padding = padding\n",
    "        self._spacing = spacing\n",
    "        self._show_labels = show_labels\n",
    "        self._enable_colour_wheel = enable_colour_wheel\n",
    "        self._enable_chromaticity_diagram = enable_chromaticity_diagram\n",
    "\n",
    "        self._enable = True\n",
    "\n",
    "        self._reference_image = None\n",
    "        self._reference_image_pre_working = None\n",
    "        self._reference_image_working = None\n",
    "        self._reference_image_mapped = None\n",
    "        self._reference_image_display = None\n",
    "\n",
    "        if self._enable_colour_wheel:\n",
    "            self._colour_wheel = None\n",
    "\n",
    "        if self._enable_chromaticity_diagram:\n",
    "            self._decimated_image_pre_working = None\n",
    "            self._decimated_image_working = None\n",
    "            self._decimated_image_display = None\n",
    "\n",
    "        self._colour_checker = None\n",
    "        self._colour_checker_uv = None\n",
    "\n",
    "        self._output = None\n",
    "        self._figure = None\n",
    "        self._grid_spec = None\n",
    "        self._reference_image_axes = None\n",
    "        self._reference_image_imshow = None\n",
    "\n",
    "        if self._enable_colour_wheel:\n",
    "            self._colour_wheel_cartersian_axes = None\n",
    "            self._colour_wheel_imshow = None\n",
    "            self._colour_wheel_polar_axes = None\n",
    "\n",
    "        if self._enable_chromaticity_diagram:\n",
    "            self._chromaticity_diagram_axes = None\n",
    "            self._scatter_offsets_i = None\n",
    "            self._scatter_facecolor_i = None\n",
    "\n",
    "        self._disable_medidicina_CheckBox = None\n",
    "        self._global_controls_HBox = None\n",
    "        self._controls_Tab = None\n",
    "\n",
    "        self.initialize_data()\n",
    "        self.initialize_axes()\n",
    "        self.initialise_widgets()\n",
    "        self.attach_callbacks()\n",
    "\n",
    "        if debug_layout:\n",
    "            plot_children(self._figure, self._figure._layoutbox, printit=False)\n",
    "\n",
    "    def initialize_data(self):\n",
    "        # *** Reference Image ***\n",
    "        self._reference_image = (colour.read_image(self._reference_image_path)\n",
    "                                 if self._reference_image_path is not None else\n",
    "                                 np.random.rand(540, 960, 3))\n",
    "        self._reference_image_path = (self._reference_image_path\n",
    "                                      if self._reference_image_path is not None\n",
    "                                      else 'Random.exr')\n",
    "        self._reference_image_pre_working = self.reference_space_to_working_space(\n",
    "            self._reference_image)\n",
    "        self._reference_image_working = self._reference_image_pre_working\n",
    "        self._reference_image_mapped =self._reference_image_pre_working\n",
    "        self._reference_image_display = self.working_space_to_display_space(\n",
    "            self._reference_image_working)\n",
    "\n",
    "        # *** Colour Wheel ***\n",
    "        if self._enable_colour_wheel:\n",
    "            self._colour_wheel = colour_wheel(\n",
    "                self._colour_wheel_samples,\n",
    "                method='Matplotlib')\n",
    "\n",
    "        # *** Decimated Image, i.e. Scatter ***\n",
    "        if self._enable_chromaticity_diagram:\n",
    "            self._decimated_image_pre_working = (\n",
    "                self._reference_image_working[::self._image_decimation, ::\n",
    "                                              self._image_decimation, :]).reshape(-1, 3)\n",
    "            self._decimated_image_working = self._decimated_image_pre_working\n",
    "            self._decimated_image_display = (\n",
    "                self.working_space_to_display_space(\n",
    "                    self._decimated_image_working))\n",
    "\n",
    "        # *** Colour Checker\n",
    "        colour_checker = colour.COLOURCHECKERS[\n",
    "            'ColorChecker24 - After November 2014']\n",
    "        colour_checker_data = colour.utilities.as_float_array(\n",
    "            list(colour_checker.data.values()))\n",
    "        self._colour_checker_uv = colour.xy_to_Luv_uv(\n",
    "            colour_checker_data[:, 0:2])\n",
    "\n",
    "    def initialize_axes(self):\n",
    "        self._output = ipywidgets.widgets.Output()\n",
    "\n",
    "        image_height, image_width, channels = self._reference_image.shape\n",
    "        if self._figure_size[-1] is None:\n",
    "            if self._enable_colour_wheel and self._enable_chromaticity_diagram:\n",
    "                width = image_height / 2 + image_width\n",
    "                height = image_height - self._padding * 100 - self._spacing * 100\n",
    "                # Unresolved fudge factor to ensure plots line up.\n",
    "                height -= int(height * 0.05)\n",
    "            elif self._enable_colour_wheel or self._enable_chromaticity_diagram:\n",
    "                width = image_height + image_width\n",
    "                height = image_height\n",
    "            else:\n",
    "                width = image_width\n",
    "                height = image_height\n",
    "            ratio = self._figure_size[0] * 100 / width\n",
    "            figure_size = (width / 100 * ratio, height / 100 * ratio)\n",
    "        else:\n",
    "            figure_size = self._figure_size\n",
    "\n",
    "        with self._output:\n",
    "            self._figure = plt.figure(\n",
    "                figsize=figure_size,\n",
    "                constrained_layout=True,\n",
    "                facecolor=[2 / 3 / 10] * 3)\n",
    "            self._figure.canvas.toolbar_visible = False\n",
    "            self._figure.canvas.header_visible = False\n",
    "            self._figure.canvas.footer_visible = True\n",
    "            self._figure.canvas.resizable = False\n",
    "            self._figure.tight_layout()\n",
    "\n",
    "        if self._enable_colour_wheel and self._enable_chromaticity_diagram:\n",
    "            rows = columns = 2\n",
    "            colour_wheel_indices = 0, 0\n",
    "            chromaticity_diagram_indices = 1, 0\n",
    "            reference_image_indices = slice(0, None, None), slice(\n",
    "                1, None, None)\n",
    "            width_ratios = [1, 2 * image_width / image_height]\n",
    "        elif not self._enable_colour_wheel and not self._enable_chromaticity_diagram:\n",
    "            rows = columns = 1\n",
    "            colour_wheel_indices = chromaticity_diagram_indices = None\n",
    "            reference_image_indices = 0, 0\n",
    "            width_ratios = [1]\n",
    "        else:\n",
    "            rows = 1\n",
    "            columns = 2\n",
    "            colour_wheel_indices = chromaticity_diagram_indices = 0, 0\n",
    "            reference_image_indices = 0, 1\n",
    "            width_ratios = [1, image_width / image_height]\n",
    "\n",
    "        self._grid_spec = gridspec.GridSpec(\n",
    "            ncols=columns,\n",
    "            nrows=rows,\n",
    "            figure=self._figure,\n",
    "            width_ratios=width_ratios,\n",
    "            wspace=self._spacing,\n",
    "            hspace=self._spacing)\n",
    "        self._figure.set_constrained_layout_pads(\n",
    "            w_pad=self._padding,\n",
    "            h_pad=self._padding)\n",
    "\n",
    "        # Colour Wheel Axes\n",
    "        if self._enable_colour_wheel:\n",
    "            self._colour_wheel_cartersian_axes = self._figure.add_subplot(\n",
    "                self._grid_spec[colour_wheel_indices[0], colour_wheel_indices[\n",
    "                    1]],\n",
    "                label='Cartesian Axes')\n",
    "            self._colour_wheel_cartersian_axes.axis('off')\n",
    "            circle = patches.Circle(\n",
    "                [0.5, 0.5], radius=0.5, transform=self._colour_wheel_cartersian_axes.transData)\n",
    "            self._colour_wheel_imshow = self._colour_wheel_cartersian_axes.imshow(\n",
    "                np.clip(self._colour_wheel, 0, 1), extent=[0, 1, 0, 1], clip_path=None)\n",
    "            self._colour_wheel_imshow.set_clip_path(circle)\n",
    "\n",
    "            self._colour_wheel_polar_axes = self._figure.add_subplot(\n",
    "                self._grid_spec[colour_wheel_indices[0], colour_wheel_indices[\n",
    "                    1]],\n",
    "                projection='polar',\n",
    "                label='Polar Axes')\n",
    "            self._colour_wheel_polar_axes.set_xlim(0, np.pi * 2)\n",
    "            self._colour_wheel_polar_axes.set_ylim(0, 1)\n",
    "            self._colour_wheel_polar_axes.patch.set_alpha(0)\n",
    "            self._colour_wheel_polar_axes.grid(alpha=0.15)\n",
    "            if not self._show_labels:\n",
    "                self._colour_wheel_polar_axes.set_xticklabels([])\n",
    "            self._colour_wheel_polar_axes.set_yticklabels([])\n",
    "\n",
    "        # Chromaticity Diagram Axes\n",
    "        if self._enable_chromaticity_diagram:\n",
    "            self._chromaticity_diagram_axes = self._figure.add_subplot(\n",
    "                self._grid_spec[chromaticity_diagram_indices[0],\n",
    "                                chromaticity_diagram_indices[1]])\n",
    "            self._chromaticity_diagram_axes.patch.set_alpha(0)\n",
    "            (colour.plotting.\n",
    "             plot_RGB_chromaticities_in_chromaticity_diagram_CIE1976UCS(\n",
    "                 self._decimated_image_working,\n",
    "                 colourspace=self._working_space,\n",
    "                 colourspaces=['sRGB'],\n",
    "                 axes=self._chromaticity_diagram_axes,\n",
    "                 standalone=False,\n",
    "                 transparent_background=False,\n",
    "                 spectral_locus_colours='RGB',\n",
    "                 spectral_locus_labels=[],\n",
    "                 diagram_opacity=0,\n",
    "                 scatter_kwargs={'s': 1},\n",
    "                 title=str(),\n",
    "                 x_label=str(),\n",
    "                 y_label=str(),\n",
    "                 legend=False))\n",
    "            self._chromaticity_diagram_axes.tick_params(\n",
    "                axis='y', which='both', direction='in')\n",
    "            self._chromaticity_diagram_axes.tick_params(\n",
    "                axis='x', which='both', direction='in')\n",
    "            self._chromaticity_diagram_axes.minorticks_off()\n",
    "            self._chromaticity_diagram_axes.grid(alpha=0.15)\n",
    "            for collection in self._chromaticity_diagram_axes.collections:\n",
    "                if isinstance(collection, PathCollection):\n",
    "                    self._scatter_path_collection = collection\n",
    "                    break\n",
    "            \n",
    "            if not self._show_labels:\n",
    "                self._chromaticity_diagram_axes.set_xticklabels([])\n",
    "                self._chromaticity_diagram_axes.set_yticklabels([])\n",
    "\n",
    "            self._scatter_offsets_i = self._scatter_path_collection.get_offsets(\n",
    "            )\n",
    "            self._scatter_facecolor_i = self._scatter_path_collection.get_facecolor(\n",
    "            )\n",
    "            self._chromaticity_diagram_axes.scatter(\n",
    "                self._colour_checker_uv[:, 0],\n",
    "                self._colour_checker_uv[:, 1],\n",
    "                c='white',\n",
    "                marker='D',\n",
    "                s=5)\n",
    "\n",
    "        # Reference Image Axes\n",
    "        self._reference_image_axes = self._figure.add_subplot(self._grid_spec[\n",
    "            reference_image_indices[0], reference_image_indices[1]])\n",
    "        self._reference_image_axes.set_xticks([])\n",
    "        self._reference_image_axes.set_yticks([])\n",
    "        self._reference_image_imshow = self._reference_image_axes.imshow(\n",
    "            self.working_space_to_display_space(self._reference_image_working))\n",
    "\n",
    "    def initialise_widgets(self):\n",
    "        # *** Widgets ***\n",
    "        self._disable_medidicina_CheckBox = (\n",
    "            ipywidgets.widgets.Checkbox(description='Disable Medicina'))\n",
    "        self._export_reference_image_Button = (\n",
    "            ipywidgets.widgets.Button(description=\"Export Image\"))\n",
    "        self._save_figure_image_Button = (\n",
    "            ipywidgets.widgets.Button(description=\"Save Figure\"))\n",
    "        self._exposure_FloatSlider = (\n",
    "            ipywidgets.widgets.FloatSlider(\n",
    "                min=-8.0,\n",
    "                max=8.0,\n",
    "                step=0.1,\n",
    "                value=self._reference_image_exposure,\n",
    "                description='Exposure'))\n",
    "        \n",
    "        # *** Layout ***\n",
    "        self.layout.display = 'flex'\n",
    "        self.layout.flex_flow = 'column'\n",
    "        self.layout.align_items = 'stretch'\n",
    "        self.layout.width = '{0}px'.format(self._figure_size[0] * 100 +\n",
    "                                           MPL_BOX_DECORATION_WIDTH)\n",
    "\n",
    "        self._global_controls_HBox = ipywidgets.widgets.HBox([\n",
    "            self._disable_medidicina_CheckBox,\n",
    "            self._export_reference_image_Button,\n",
    "            self._save_figure_image_Button,\n",
    "            self._exposure_FloatSlider,\n",
    "        ])\n",
    "\n",
    "        self._controls_Tab = ipywidgets.widgets.Tab(children=[\n",
    "            self._global_controls_HBox,\n",
    "        ])\n",
    "        self._controls_Tab.set_title(0, 'Global Controls')\n",
    "\n",
    "        self._controls_Tab.layout = border_layout()\n",
    "\n",
    "        self._output.layout = border_layout()\n",
    "        self.children = [self._output, self._controls_Tab]\n",
    "\n",
    "    def attach_callbacks(self):\n",
    "        self._disable_medidicina_CheckBox.observe(self.toggle_medidicina)\n",
    "        self._export_reference_image_Button.on_click(\n",
    "            self.export_reference_image)\n",
    "        self._save_figure_image_Button.on_click(self.save_figure)\n",
    "        self._exposure_FloatSlider.observe(\n",
    "            self.set_exposure, 'value')\n",
    "\n",
    "    def reference_space_to_working_space(self, RGB):\n",
    "        return colour.RGB_to_RGB(RGB, self._reference_space,\n",
    "                                 self._working_space)\n",
    "\n",
    "    def working_space_to_reference_space(self, RGB):\n",
    "        return colour.RGB_to_RGB(RGB, self._working_space,\n",
    "                                 self._reference_space)\n",
    "\n",
    "    def working_space_to_display_space(self,\n",
    "                                       RGB,\n",
    "                                       apply_encoding_cctf=True,\n",
    "                                       clip=True):\n",
    "        RGB = colour.RGB_to_RGB(\n",
    "            RGB,\n",
    "            self._working_space,\n",
    "            self._display_space,\n",
    "            apply_encoding_cctf=apply_encoding_cctf)\n",
    "\n",
    "        if clip:\n",
    "            return np.clip(RGB, 0, 1)\n",
    "        else:\n",
    "            return RGB\n",
    "\n",
    "    def update_scatter_plot(self, RGB):\n",
    "        if self._enable_chromaticity_diagram:\n",
    "            RGB = RGB[RGB[:, 1].argsort()]\n",
    "            XYZ = colour.RGB_to_XYZ(RGB, self._working_space.whitepoint,\n",
    "                                    self._working_space.whitepoint,\n",
    "                                    self._working_space.RGB_to_XYZ_matrix)\n",
    "            uv = colour.Luv_to_uv(\n",
    "                colour.XYZ_to_Luv(XYZ, self._working_space.whitepoint),\n",
    "                self._working_space.whitepoint)\n",
    "            self._scatter_path_collection.set_offsets(uv)\n",
    "            self._scatter_path_collection.set_facecolor(\n",
    "                self.working_space_to_display_space(RGB))\n",
    "\n",
    "    def toggle_medidicina(self, change):\n",
    "        if not change:\n",
    "            return\n",
    "\n",
    "        if change['name'] == 'value':\n",
    "            self._enable = not change['new']\n",
    "\n",
    "            self.update_widget(None)\n",
    "\n",
    "    def export_reference_image(self, change):\n",
    "        path = os.path.splitext(self._reference_image_path)[0]\n",
    "\n",
    "        colour.write_image(\n",
    "            self.working_space_to_reference_space(\n",
    "                self._reference_image_mapped), '{0}_{1}.exr'.format(\n",
    "                    path, self.__class__.__name__))\n",
    "\n",
    "    def save_figure(self, change):\n",
    "        path = os.path.splitext(self._reference_image_path)[0]\n",
    "        plt.savefig('{0}_{1}.png'.format(path, self.__class__.__name__),\n",
    "                   facecolor=[2 / 3 / 10] * 3, transparent=False, bbox_inches='tight')\n",
    "\n",
    "    def set_exposure(self, change):\n",
    "        if not change:\n",
    "            return\n",
    "\n",
    "        if change['name'] == 'value':\n",
    "            EV = self._exposure_FloatSlider.value\n",
    "            self._reference_image_working = adjust_exposure(\n",
    "                self._reference_image_pre_working, EV)\n",
    "\n",
    "            if self._enable_chromaticity_diagram:\n",
    "                self._decimated_image_working = adjust_exposure(\n",
    "                self._decimated_image_pre_working, EV)\n",
    "            \n",
    "            self.update_widget(None)\n",
    "\n",
    "    def update_widget(self, change):\n",
    "        if not self._enable:\n",
    "            self._reference_image_imshow.set_data(self.working_space_to_display_space(\n",
    "                self._reference_image_working))\n",
    "        \n",
    "            if self._enable_chromaticity_diagram:\n",
    "                self.update_scatter_plot(self._decimated_image_working)\n",
    "\n",
    "            self._figure.canvas.draw_idle()\n",
    "\n",
    "\n",
    "GamutMedicinaBaseWidget()"
   ]
  },
  {
   "cell_type": "code",
   "execution_count": 7,
   "metadata": {},
   "outputs": [
    {
     "data": {
      "application/vnd.jupyter.widget-view+json": {
       "model_id": "2d3726a3ecc0417c9b39945d506091ac",
       "version_major": 2,
       "version_minor": 0
      },
      "text/plain": [
       "GamutMedicinaBaseWidget(children=(Output(layout=Layout(border='solid 4px #222', margin='4px', padding='0')), T…"
      ]
     },
     "metadata": {},
     "output_type": "display_data"
    }
   ],
   "source": [
    "GamutMedicinaBaseWidget(enable_colour_wheel=False)"
   ]
  },
  {
   "cell_type": "code",
   "execution_count": 8,
   "metadata": {},
   "outputs": [
    {
     "data": {
      "application/vnd.jupyter.widget-view+json": {
       "model_id": "bec49d1dbae34917bd1bd981871437b6",
       "version_major": 2,
       "version_minor": 0
      },
      "text/plain": [
       "GamutMedicinaBaseWidget(children=(Output(layout=Layout(border='solid 4px #222', margin='4px', padding='0')), T…"
      ]
     },
     "metadata": {},
     "output_type": "display_data"
    }
   ],
   "source": [
    "GamutMedicinaBaseWidget(enable_chromaticity_diagram=False)"
   ]
  },
  {
   "cell_type": "code",
   "execution_count": 9,
   "metadata": {},
   "outputs": [
    {
     "data": {
      "application/vnd.jupyter.widget-view+json": {
       "model_id": "6643c571b09041e6b95ce649aa1c3851",
       "version_major": 2,
       "version_minor": 0
      },
      "text/plain": [
       "GamutMedicinaBaseWidget(children=(Output(layout=Layout(border='solid 4px #222', margin='4px', padding='0')), T…"
      ]
     },
     "metadata": {},
     "output_type": "display_data"
    }
   ],
   "source": [
    "GamutMedicinaBaseWidget(\n",
    "    enable_colour_wheel=False, enable_chromaticity_diagram=False)"
   ]
  },
  {
   "cell_type": "markdown",
   "metadata": {},
   "source": [
    "## Compression & Blending Functions"
   ]
  },
  {
   "cell_type": "markdown",
   "metadata": {},
   "source": [
    "Gamut mapping commonly involves compressing data from a larger space to a smaller space.\n",
    "\n",
    "Three sigmoid compression functions are defined:\n",
    "\n",
    "- **tanh**, a function based on the *Hyperbolic Tangent*:\n",
    "$$a + b \\cdot tanh\\bigg(\\cfrac{x - a}{b}\\bigg)$$ where $a$ is the compression threshold, i.e. the point at which the function starts compressing the value $x$ and $b$ is the compression limit, i.e. the point at which the compression has reached its limit.\n",
    "- **atan**, a function based on the *Arc Tangent*:\n",
    "$$a + b \\cdot\\cfrac{2}{\\pi}\\cdot atan\\Bigg(\\cfrac{\\cfrac{\\pi}{2}\\cdot\\big(x - a\\big)}{b}\\Bigg)$$\n",
    "- **Simple**, a simple compression function:\n",
    "$$a + \\Bigg(\\cfrac{-1}{\\bigg(\\cfrac{x - a}{b} + 1\\bigg)} + 1 \\Bigg) \\cdot b$$"
   ]
  },
  {
   "cell_type": "code",
   "execution_count": 10,
   "metadata": {},
   "outputs": [],
   "source": [
    "def tanh_compression_function(x, a=0.8, b=1 - 0.8):\n",
    "    x = colour.utilities.as_float_array(x)\n",
    "\n",
    "    return np.where(x > a, a + b * np.tanh((x - a) / b), x)\n",
    "\n",
    "\n",
    "def atan_compression_function(x, a=0.8, b=1 - 0.8):\n",
    "    x = colour.utilities.as_float_array(x)\n",
    "\n",
    "    return np.where(x > a, a + b * 2 / np.pi * np.arctan(((np.pi / 2) * (x - a)) / b), x)\n",
    "\n",
    "\n",
    "def simple_compression_function(x, a=0.8, b=1 - 0.8):\n",
    "    x = colour.utilities.as_float_array(x)\n",
    "\n",
    "    return np.where(x > a, a + (-1 / ((x - a) / b + 1) + 1) * b, x)\n",
    "\n",
    "\n",
    "COMPRESSION_FUNCTIONS = {\n",
    "    'tanh' : tanh_compression_function,\n",
    "    'atan' : atan_compression_function,\n",
    "    'simple' : simple_compression_function,\n",
    "}\n",
    "\n",
    "\n",
    "def smoothstep(x, a=0, b=1):\n",
    "    i = np.clip((x - a) / (b - a), 0, 1)\n",
    "\n",
    "    return i**2 * (3 - 2 * i)\n",
    "\n",
    "\n",
    "def derivative(x, func, d=1e-7):\n",
    "    return (func(x + d) - func(x - d)) / (2 * d)"
   ]
  },
  {
   "cell_type": "code",
   "execution_count": 11,
   "metadata": {},
   "outputs": [
    {
     "data": {
      "application/vnd.jupyter.widget-view+json": {
       "model_id": "d172013c55d74391a798d19624355909",
       "version_major": 2,
       "version_minor": 0
      },
      "text/plain": [
       "Canvas(toolbar=Toolbar(toolitems=[('Home', 'Reset original view', 'home', 'home'), ('Back', 'Back to previous …"
      ]
     },
     "metadata": {},
     "output_type": "display_data"
    }
   ],
   "source": [
    "colour.plotting.plot_multi_functions(\n",
    "    {\n",
    "        'tanh': tanh_compression_function,\n",
    "        'd/dx(tanh)': lambda x: derivative(x, tanh_compression_function),\n",
    "        'atan': atan_compression_function,\n",
    "        'd/dx(atan)': lambda x: derivative(x, atan_compression_function),\n",
    "        'simple': simple_compression_function,\n",
    "        'd/dx(simple)': lambda x: derivative(x, simple_compression_function),\n",
    "    },\n",
    "    **{\n",
    "        'figure.figsize': (11, 11),\n",
    "        'bounding_box': (0.5, 1.75, 0, 1.25),\n",
    "        'samples':\n",
    "        np.linspace(0, 2, 1000),\n",
    "        'plot_kwargs': [\n",
    "            {\n",
    "                'c': 'r',\n",
    "                'linestyle': 'dashdot'\n",
    "            },\n",
    "            {\n",
    "                'c': 'r'\n",
    "            },\n",
    "            {\n",
    "                'c': 'g',\n",
    "                'linestyle': 'dashdot'\n",
    "            },\n",
    "            {\n",
    "                'c': 'g'\n",
    "            },\n",
    "            {\n",
    "                'c': 'b',\n",
    "                'linestyle': 'dashdot'\n",
    "            },\n",
    "            {\n",
    "                'c': 'b'\n",
    "            },\n",
    "        ]\n",
    "    },\n",
    ");"
   ]
  },
  {
   "cell_type": "markdown",
   "metadata": {},
   "source": [
    "## Mansencal and Scharfenberg (2020) - HSV Control Based Study Model"
   ]
  },
  {
   "cell_type": "markdown",
   "metadata": {},
   "source": [
    "*Mansencal and Scharfenberg (2020)* gamut mapping study model is built on top of the [HSV colourspace](https://en.wikipedia.org/wiki/HSL_and_HSV):\n",
    "\n",
    "- Scene-referred RGB exposure values are converted to HSV.\n",
    "- The saturation component $S$ is compressed with a cherry-picked compression function, e.g. $tanh$.\n",
    "- The hue component $H$ is warped according to user defined control values.\n",
    "- The HSV values are converted back to scene-referred RGB exposure values and then blended with the original scene-referred RGB exposure values function through a smoothstep function.\n",
    "\n",
    "The model offers good controls but might tend to exhibit excessive saturation of secondary colours, i.e. cyan, yellow and especially magenta.\n",
    "This can be tuned with the hue controls.\n",
    "\n",
    "More information is available on [ACEScentral](https://community.acescentral.com/t/gamut-mapping-in-cylindrical-and-conic-spaces/)."
   ]
  },
  {
   "cell_type": "code",
   "execution_count": 12,
   "metadata": {},
   "outputs": [
    {
     "data": {
      "application/vnd.jupyter.widget-view+json": {
       "model_id": "fc95b6a21d5440a1b970a119df3a2d25",
       "version_major": 2,
       "version_minor": 0
      },
      "text/plain": [
       "GamutMedicinaHSVControlWidget(children=(Output(layout=Layout(border='solid 4px #222', margin='4px', padding='0…"
      ]
     },
     "metadata": {},
     "output_type": "display_data"
    }
   ],
   "source": [
    "def medicina_HSV_control(RGB, H, S, V, H_x, H_y, S_c, S_m, C_f, HSV_to_RGB):\n",
    "    S_m = S_m[..., np.newaxis]\n",
    "\n",
    "    interpolator = scipy.interpolate.interp1d(H_x, H_y)\n",
    "\n",
    "    HSV_c = colour.utilities.tstack(\n",
    "        [interpolator(H) % 1, C_f(S, S_c, 1 - S_c), V])\n",
    "\n",
    "    return HSV_to_RGB(HSV_c) * S_m + RGB * (1 - S_m)\n",
    "\n",
    "\n",
    "class GamutMedicinaHSVControlWidget(GamutMedicinaBaseWidget):\n",
    "    def __init__(self,\n",
    "                 reference_image=None,\n",
    "                 hue_wedge=45,\n",
    "                 protected_area_threshold=0.7,\n",
    "                 compression_threshold=0.8,\n",
    "                 compression_function='tanh',\n",
    "                 RGB_to_HSV=colour.RGB_to_HSV,\n",
    "                 HSV_to_RGB=colour.HSV_to_RGB,\n",
    "                 *args,\n",
    "                 **kwargs):\n",
    "\n",
    "        self._hue_wedge = hue_wedge\n",
    "        self._protected_area_threshold = protected_area_threshold\n",
    "        self._compression_threshold = compression_threshold\n",
    "        self._compression_function = compression_function\n",
    "\n",
    "        self.RGB_to_HSV = RGB_to_HSV\n",
    "        self.HSV_to_RGB = HSV_to_RGB\n",
    "\n",
    "        super().__init__(reference_image, *args, **kwargs)\n",
    "\n",
    "        self._RGB_r = None\n",
    "        self._H_r = self._S_r = self._V_r = None\n",
    "        self._S_r_m = None\n",
    "\n",
    "        if self._enable_colour_wheel:\n",
    "            self._RGB_w = None\n",
    "            self._H_w = self._S_w = self._V_w = None\n",
    "            self._S_w_m = None\n",
    "\n",
    "        if self._enable_chromaticity_diagram:\n",
    "            self._RGB_d = None\n",
    "            self._H_d = self._S_d = self._V_d = None\n",
    "            self._S_d_m = None\n",
    "\n",
    "        self._angles = None\n",
    "        self._x_i = self._y_i = self._y_i = None\n",
    "\n",
    "        if self._enable_colour_wheel:\n",
    "            self._protected_area_threshold_colour_wheel_plot = None\n",
    "            self._compression_threshold_colour_wheel_plot = None\n",
    "            self._hue_controls_plot = None\n",
    "\n",
    "        if self._enable_chromaticity_diagram:\n",
    "            self._protected_area_threshold_chromaticity_diagram_plot = None\n",
    "            self._compression_threshold_chromaticity_diagram_plot = None\n",
    "\n",
    "        self._reset_protected_area_controls_Button = None\n",
    "        self._protected_area_threshold_FloatSlider = None\n",
    "        self._reset_compression_controls_Button = None\n",
    "        self._compression_threshold_FloatSlider = None\n",
    "        self._reset_hue_controls_Button = None\n",
    "        self._wedge_controls = None\n",
    "        self._protected_area_controls_HBox = None\n",
    "        self._saturation_controls_HBox = None\n",
    "        self._hue_controls_HBox = None\n",
    "\n",
    "        self.initialize_data()\n",
    "        self.initialize_axes()\n",
    "        self.initialise_widgets()\n",
    "        self.attach_callbacks()\n",
    "\n",
    "        self.update_widget(None)\n",
    "\n",
    "    def initialize_data(self):\n",
    "        super().initialize_data()\n",
    "\n",
    "        # *** Reference Image ***\n",
    "        self._RGB_r = self._reference_image_working\n",
    "        self._H_r, self._S_r, self._V_r = colour.utilities.tsplit(\n",
    "            self.RGB_to_HSV(self._reference_image_working))\n",
    "        self._S_r_m = smoothstep(self._S_r, self._protected_area_threshold,\n",
    "                                 self._compression_threshold)\n",
    "\n",
    "        # *** Colour Wheel ***\n",
    "        if self._enable_colour_wheel:\n",
    "            self._RGB_w = self._colour_wheel[..., 0:3]\n",
    "            self._H_w, self._S_w, self._V_w = colour.utilities.tsplit(\n",
    "                self.RGB_to_HSV(self._RGB_w))\n",
    "            self._S_w_m = smoothstep(self._S_w, self._protected_area_threshold,\n",
    "                                     self._compression_threshold)\n",
    "\n",
    "        # *** Decimated Image, i.e. Scatter ***\n",
    "        if self._enable_chromaticity_diagram:\n",
    "            self._RGB_d = self._decimated_image_working\n",
    "            self._H_d, self._S_d, self._V_d = colour.utilities.tsplit(\n",
    "                self.RGB_to_HSV(self._decimated_image_working))\n",
    "            self._S_d_m = smoothstep(self._S_d, self._protected_area_threshold,\n",
    "                                     self._compression_threshold)\n",
    "\n",
    "        # *** Angles ***\n",
    "        self._angles = np.arange(0, 360, self._hue_wedge) / 360\n",
    "\n",
    "        # *** Initial State ***\n",
    "        self._x_i = np.hstack([self._angles, 1])\n",
    "        self._y_i = self._angles\n",
    "        self._y_i = np.hstack([self._y_i, self._y_i[0] + 1])\n",
    "\n",
    "    def initialize_axes(self):\n",
    "        super().initialize_axes()\n",
    "\n",
    "        circumference = np.linspace(0, np.pi * 2, self._colour_wheel_samples)\n",
    "        # Colour Wheel Axes\n",
    "        if self._enable_colour_wheel:\n",
    "            self._protected_area_threshold_colour_wheel_plot = (\n",
    "                self._colour_wheel_polar_axes.plot(\n",
    "                    circumference,\n",
    "                    np.full(self._colour_wheel_samples,\n",
    "                            self._protected_area_threshold),\n",
    "                    linestyle='dotted',\n",
    "                    color='yellow')[0])\n",
    "            self._compression_threshold_colour_wheel_plot = (\n",
    "                self._colour_wheel_polar_axes.plot(\n",
    "                    circumference,\n",
    "                    np.full(self._colour_wheel_samples,\n",
    "                            self._compression_threshold),\n",
    "                    linestyle='dashdot',\n",
    "                    color='cyan')[0])\n",
    "\n",
    "            self._hue_controls_plot = (self._colour_wheel_polar_axes.plot(\n",
    "                self._y_i * np.pi * 2,\n",
    "                np.ones(self._y_i.shape),\n",
    "                'o-',\n",
    "                color='white')[0])\n",
    "\n",
    "        # Chromaticity Diagram Axes\n",
    "        if self._enable_chromaticity_diagram:\n",
    "            self._protected_area_threshold_chromaticity_diagram_plot = (\n",
    "                self._chromaticity_diagram_axes.plot(\n",
    "                    circumference,\n",
    "                    circumference,\n",
    "                    linestyle='dotted',\n",
    "                    color='yellow')[0])\n",
    "            self._compression_threshold_chromaticity_diagram_plot = (\n",
    "                self._chromaticity_diagram_axes.plot(\n",
    "                    circumference,\n",
    "                    circumference,\n",
    "                    linestyle='dashdot',\n",
    "                    color='cyan')[0])\n",
    "\n",
    "    def initialise_widgets(self):\n",
    "        super().initialise_widgets()\n",
    "\n",
    "        # *** Widgets ***\n",
    "        self._reset_protected_area_controls_Button = (\n",
    "            ipywidgets.widgets.Button(description=\"Reset Protected Area\"))\n",
    "        self._protected_area_threshold_FloatSlider = (\n",
    "            ipywidgets.widgets.FloatSlider(\n",
    "                min=0.0,\n",
    "                max=1.0,\n",
    "                step=0.01,\n",
    "                value=self._protected_area_threshold,\n",
    "                description='Protected Area Threshold'))\n",
    "\n",
    "        self._reset_compression_controls_Button = (\n",
    "            ipywidgets.widgets.Button(description=\"Reset Saturation Controls\"))\n",
    "        compression_functions = list(COMPRESSION_FUNCTIONS.keys())\n",
    "        self._compression_function_DropDown = ipywidgets.widgets.Dropdown(\n",
    "            options=compression_functions,\n",
    "            value=self._compression_function,\n",
    "            description='Compression Function:',\n",
    "        )\n",
    "        self._compression_threshold_FloatSlider = (\n",
    "            ipywidgets.widgets.FloatSlider(\n",
    "                min=0.0,\n",
    "                max=1.0,\n",
    "                step=0.01,\n",
    "                value=self._compression_threshold,\n",
    "                description='Compression Threshold'))\n",
    "\n",
    "        self._reset_hue_controls_Button = ipywidgets.widgets.Button(\n",
    "            description=\"Reset Hue Controls\")\n",
    "        self._wedge_controls = [\n",
    "            ipywidgets.widgets.FloatSlider(\n",
    "                min=-1,\n",
    "                max=1,\n",
    "                step=0.01,\n",
    "                value=0,\n",
    "                description='{0}°'.format(int(angle * 360)))\n",
    "            for angle in self._angles\n",
    "        ]\n",
    "\n",
    "        # *** Layout ***\n",
    "        self._protected_area_controls_HBox = ipywidgets.widgets.HBox([\n",
    "            self._reset_protected_area_controls_Button,\n",
    "            self._protected_area_threshold_FloatSlider,\n",
    "        ])\n",
    "\n",
    "        self._saturation_controls_HBox = ipywidgets.widgets.HBox([\n",
    "            self._reset_compression_controls_Button,\n",
    "            self._compression_function_DropDown,\n",
    "            self._compression_threshold_FloatSlider\n",
    "        ])\n",
    "\n",
    "        wedge_controls_batches = batch(self._wedge_controls, 3)\n",
    "        self._hue_controls_HBox = ipywidgets.widgets.HBox(\n",
    "            [ipywidgets.widgets.VBox([self._reset_hue_controls_Button])] + [\n",
    "                ipywidgets.widgets.VBox(wedge_controls)\n",
    "                for wedge_controls in wedge_controls_batches\n",
    "            ])\n",
    "\n",
    "        self._controls_Tab.children += (\n",
    "            self._protected_area_controls_HBox,\n",
    "            self._saturation_controls_HBox,\n",
    "            self._hue_controls_HBox,\n",
    "        )\n",
    "\n",
    "        self._controls_Tab.set_title(1, 'Protected Area Controls')\n",
    "        self._controls_Tab.set_title(2, 'Saturation Controls')\n",
    "        self._controls_Tab.set_title(3, 'Hue Controls')\n",
    "\n",
    "    def attach_callbacks(self):\n",
    "        super().attach_callbacks()\n",
    "\n",
    "        self._reset_protected_area_controls_Button.on_click(\n",
    "            self.reset_protected_area_controls)\n",
    "        self._protected_area_threshold_FloatSlider.observe(\n",
    "            self.update_protected_area_mask, 'value')\n",
    "\n",
    "        self._reset_compression_controls_Button.on_click(\n",
    "            self.reset_compression_controls)\n",
    "        self._compression_function_DropDown.observe(self.update_widget,\n",
    "                                                    'value')\n",
    "        self._compression_threshold_FloatSlider.observe(\n",
    "            self.update_widget, 'value')\n",
    "\n",
    "        self._reset_hue_controls_Button.on_click(self.reset_hue_controls)\n",
    "        for slider in self._wedge_controls:\n",
    "            slider.observe(self.update_widget, 'value')\n",
    "\n",
    "    def set_exposure(self, change):\n",
    "        if not change:\n",
    "            return\n",
    "\n",
    "        if change['name'] == 'value':\n",
    "            EV = self._exposure_FloatSlider.value\n",
    "\n",
    "            self._RGB_r = adjust_exposure(self._reference_image_pre_working,\n",
    "                                          EV)\n",
    "            self._H_r, self._S_r, self._V_r = colour.utilities.tsplit(\n",
    "                self.RGB_to_HSV(self._RGB_r))\n",
    "\n",
    "            if self._enable_chromaticity_diagram:\n",
    "                self._RGB_d = adjust_exposure(\n",
    "                    self._decimated_image_pre_working, EV)\n",
    "                self._H_d, self._S_d, self._V_d = colour.utilities.tsplit(\n",
    "                    self.RGB_to_HSV(self._RGB_d))\n",
    "\n",
    "            self.update_protected_area_mask({'name': 'value'})\n",
    "\n",
    "    def update_region_colour_wheel_plot(self, V_r, region_colour_wheel_plot):\n",
    "        if self._enable_colour_wheel:\n",
    "            region_colour_wheel_plot.set_ydata(\n",
    "                np.full(self._colour_wheel_samples, V_r))\n",
    "\n",
    "    def update_protected_area_threshold_colour_wheel_plot(self, U_r):\n",
    "        if self._enable_colour_wheel:\n",
    "            self.update_region_colour_wheel_plot(\n",
    "                U_r, self._protected_area_threshold_colour_wheel_plot)\n",
    "\n",
    "    def update_compression_threshold_colour_wheel_plot(self, S_c):\n",
    "        if self._enable_colour_wheel:\n",
    "            self.update_region_colour_wheel_plot(\n",
    "                S_c, self._compression_threshold_colour_wheel_plot)\n",
    "\n",
    "    def update_region_chromaticity_diagram_plot(\n",
    "            self, V_r, region_chromaticity_diagram_plot):\n",
    "        if self._enable_chromaticity_diagram:\n",
    "            HSV = colour.utilities.tstack([\n",
    "                np.linspace(0, 1, self._colour_wheel_samples),\n",
    "                np.full(self._colour_wheel_samples, V_r),\n",
    "                np.ones(self._colour_wheel_samples)\n",
    "            ])\n",
    "            uv = colour.Luv_to_uv(\n",
    "                colour.XYZ_to_Luv(\n",
    "                    colour.RGB_to_XYZ(\n",
    "                        self.HSV_to_RGB(HSV), self._working_space.whitepoint,\n",
    "                        self._working_space.whitepoint,\n",
    "                        self._working_space.RGB_to_XYZ_matrix),\n",
    "                    self._working_space.whitepoint))\n",
    "\n",
    "            region_chromaticity_diagram_plot.set_data(uv[:, 0], uv[:, 1])\n",
    "\n",
    "    def update_protected_area_threshold_chromaticity_diagram_plot(self, U_r):\n",
    "        if self._enable_chromaticity_diagram:\n",
    "            self.update_region_chromaticity_diagram_plot(\n",
    "                U_r, self._protected_area_threshold_chromaticity_diagram_plot)\n",
    "\n",
    "    def update_compression_threshold_chromaticity_diagram_plot(self, S_c):\n",
    "        if self._enable_chromaticity_diagram:\n",
    "            self.update_region_chromaticity_diagram_plot(\n",
    "                S_c, self._compression_threshold_chromaticity_diagram_plot)\n",
    "\n",
    "    def update_protected_area_mask(self, change):\n",
    "        if not change:\n",
    "            return\n",
    "\n",
    "        if change['name'] == 'value':\n",
    "            U_r = self._protected_area_threshold_FloatSlider.value\n",
    "            S_c = self._compression_threshold_FloatSlider.value\n",
    "\n",
    "            self._S_d_m = smoothstep(self._S_d, U_r, S_c)\n",
    "\n",
    "            if self._enable_colour_wheel:\n",
    "                self._S_w_m = smoothstep(self._S_w, U_r, S_c)\n",
    "\n",
    "            if self._enable_chromaticity_diagram:\n",
    "                self._S_r_m = smoothstep(self._S_r, U_r, S_c)\n",
    "\n",
    "        self.update_widget(None)\n",
    "\n",
    "    def wedge_control_to_hue_offset(self, value):\n",
    "        slider = self._wedge_controls[0]\n",
    "\n",
    "        return colour.utilities.linear_conversion(\n",
    "            value, [slider.min, slider.max],\n",
    "            [-self._hue_wedge / 360, self._hue_wedge / 360])\n",
    "\n",
    "    def reset_protected_area_controls(self, change):\n",
    "        self._protected_area_threshold_FloatSlider.value = (\n",
    "            self._protected_area_threshold)\n",
    "\n",
    "        self.update_protected_area_mask(None)\n",
    "\n",
    "    def reset_compression_controls(self, change):\n",
    "        self._compression_threshold_FloatSlider.value = (\n",
    "            self._compression_threshold)\n",
    "\n",
    "        self.update_widget(None)\n",
    "\n",
    "    def reset_hue_controls(self, change):\n",
    "        for slider in self._wedge_controls:\n",
    "            slider.value = 0\n",
    "\n",
    "        self.update_widget(None)\n",
    "\n",
    "    def update_reference_image_axes(self, S_c, H_y, C_f):\n",
    "        RGB_r = medicina_HSV_control(self._RGB_r, self._H_r, self._S_r,\n",
    "                                     self._V_r, self._x_i, H_y, S_c,\n",
    "                                     self._S_r_m, C_f, self.HSV_to_RGB)\n",
    "        self._reference_image_mapped = RGB_r\n",
    "        self._reference_image_imshow.set_data(\n",
    "            self.working_space_to_display_space(RGB_r))\n",
    "\n",
    "    def update_colour_wheel_axes(self, U_r, S_c, H_y, H_o, C_f):\n",
    "        if self._enable_colour_wheel:\n",
    "            R_w, G_w, B_w = colour.utilities.tsplit(\n",
    "                medicina_HSV_control(self._RGB_w, self._H_w, self._S_w,\n",
    "                                     self._V_w, self._x_i, H_y, S_c,\n",
    "                                     self._S_w_m, C_f, self.HSV_to_RGB))\n",
    "            self._colour_wheel_imshow.set_data(\n",
    "                np.clip(\n",
    "                    colour.tstack([R_w, G_w, B_w,\n",
    "                                   self._colour_wheel[..., -1]]), 0, 1))\n",
    "            self.update_protected_area_threshold_colour_wheel_plot(U_r)\n",
    "            self.update_compression_threshold_colour_wheel_plot(S_c)\n",
    "\n",
    "            H_x = H_o + self._angles\n",
    "            H_x = np.hstack([H_x, H_x[0]])\n",
    "            self._hue_controls_plot.set_xdata(H_x * np.pi * 2)\n",
    "\n",
    "    def update_chromaticity_diagram_axes(self, U_r, S_c, H_y, C_f):\n",
    "        if self._enable_chromaticity_diagram:\n",
    "            RGB_r_s = medicina_HSV_control(self._RGB_d, self._H_d, self._S_d,\n",
    "                                           self._V_d, self._x_i, H_y, S_c,\n",
    "                                           self._S_d_m, C_f, self.HSV_to_RGB)\n",
    "            self.update_scatter_plot(RGB_r_s)\n",
    "            self.update_protected_area_threshold_chromaticity_diagram_plot(U_r)\n",
    "            self.update_compression_threshold_chromaticity_diagram_plot(S_c)\n",
    "\n",
    "    def update_widget(self, change):\n",
    "        super().update_widget(change)\n",
    "\n",
    "        if self._enable:\n",
    "            U_r = self._protected_area_threshold_FloatSlider.value\n",
    "            S_c = self._compression_threshold_FloatSlider.value\n",
    "            C_f = COMPRESSION_FUNCTIONS[\n",
    "                self._compression_function_DropDown.value]\n",
    "\n",
    "            hue_offsets = np.array([\n",
    "                self.wedge_control_to_hue_offset(slider.value)\n",
    "                for slider in self._wedge_controls\n",
    "            ])\n",
    "\n",
    "            H_y = -hue_offsets + self._angles\n",
    "            H_y = np.hstack([H_y, H_y[0] + 1])\n",
    "\n",
    "            self.update_reference_image_axes(S_c, H_y, C_f)\n",
    "\n",
    "            if self._enable_colour_wheel:\n",
    "                self.update_colour_wheel_axes(U_r, S_c, H_y, hue_offsets, C_f)\n",
    "\n",
    "            if self._enable_chromaticity_diagram:\n",
    "                self.update_chromaticity_diagram_axes(U_r, S_c, H_y, C_f)\n",
    "\n",
    "            self._figure.canvas.draw_idle()\n",
    "\n",
    "\n",
    "GamutMedicinaHSVControlWidget(\n",
    "    '../resources/images/A009C002_190210_R0EI_Alexa_LogCWideGamut.exr')"
   ]
  },
  {
   "cell_type": "code",
   "execution_count": 13,
   "metadata": {},
   "outputs": [
    {
     "data": {
      "application/vnd.jupyter.widget-view+json": {
       "model_id": "6e7486f268784d2f90e352f545360a79",
       "version_major": 2,
       "version_minor": 0
      },
      "text/plain": [
       "GamutMedicinaHSVControlWidget(children=(Output(layout=Layout(border='solid 4px #222', margin='4px', padding='0…"
      ]
     },
     "metadata": {},
     "output_type": "display_data"
    }
   ],
   "source": [
    "GamutMedicinaHSVControlWidget('../resources/images/A002_C029_06025K.exr')"
   ]
  },
  {
   "cell_type": "code",
   "execution_count": 14,
   "metadata": {},
   "outputs": [
    {
     "data": {
      "application/vnd.jupyter.widget-view+json": {
       "model_id": "a302c749e20f476e930dd11e75d1512e",
       "version_major": 2,
       "version_minor": 0
      },
      "text/plain": [
       "GamutMedicinaHSVControlWidget(children=(Output(layout=Layout(border='solid 4px #222', margin='4px', padding='0…"
      ]
     },
     "metadata": {},
     "output_type": "display_data"
    }
   ],
   "source": [
    "GamutMedicinaHSVControlWidget(\n",
    "    '../resources/images/Cornell_Box_Rigid_Spheres_190_Patch_Roughplastic_Point_Grey_Grasshopper_50S5C_RGB_W_A.exr')"
   ]
  },
  {
   "cell_type": "code",
   "execution_count": 15,
   "metadata": {},
   "outputs": [
    {
     "data": {
      "application/vnd.jupyter.widget-view+json": {
       "model_id": "1d4ebd35fe6b4a1c9183e4489427f318",
       "version_major": 2,
       "version_minor": 0
      },
      "text/plain": [
       "GamutMedicinaHSVControlWidget(children=(Output(layout=Layout(border='solid 4px #222', margin='4px', padding='0…"
      ]
     },
     "metadata": {},
     "output_type": "display_data"
    }
   ],
   "source": [
    "GamutMedicinaHSVControlWidget(\n",
    "    '../resources/images/Cornell_Box_Rigid_Spheres_190_Patch_Roughplastic_Point_Grey_Grasshopper_50S5C_RGB_W_A.exr',\n",
    "    enable_colour_wheel=False)"
   ]
  },
  {
   "cell_type": "code",
   "execution_count": 16,
   "metadata": {},
   "outputs": [
    {
     "data": {
      "application/vnd.jupyter.widget-view+json": {
       "model_id": "2bde8d27ef0d41c79942c93a306efaf6",
       "version_major": 2,
       "version_minor": 0
      },
      "text/plain": [
       "GamutMedicinaHSVControlWidget(children=(Output(layout=Layout(border='solid 4px #222', margin='4px', padding='0…"
      ]
     },
     "metadata": {},
     "output_type": "display_data"
    }
   ],
   "source": [
    "GamutMedicinaHSVControlWidget(\n",
    "    '../resources/images/Collage_01.exr',\n",
    "    enable_colour_wheel=False)"
   ]
  },
  {
   "cell_type": "markdown",
   "metadata": {},
   "source": [
    "## Smith (2020) - RGB Saturation Study Model"
   ]
  },
  {
   "cell_type": "markdown",
   "metadata": {},
   "source": [
    "*Smith (2020)* gamut mapping study model is directly operating in the RGB colourspace:\n",
    "\n",
    "- Like with the HSV colourspace, an achromatic axis is computed for the scene-referred RGB exposure values.\n",
    "- The distance from the individual $R$, $G$ and $B$ components to the achromatic axis is compressed with a cherry-picked compression function, e.g. $tanh$.\n",
    "\n",
    "The model is extremely simple and elegant while offering good computational speed.\n",
    "\n",
    "More information is available on [ACEScentral](https://community.acescentral.com/t/rgb-saturation-gamut-mapping-approach-and-a-comp-vfx-perspective/)."
   ]
  },
  {
   "cell_type": "code",
   "execution_count": 17,
   "metadata": {},
   "outputs": [
    {
     "data": {
      "application/vnd.jupyter.widget-view+json": {
       "model_id": "0d7f542a29ab44cfad4bf995eb931a19",
       "version_major": 2,
       "version_minor": 0
      },
      "text/plain": [
       "GamutMedicinaRGBSaturationWidget(children=(Output(layout=Layout(border='solid 4px #222', margin='4px', padding…"
      ]
     },
     "metadata": {},
     "output_type": "display_data"
    }
   ],
   "source": [
    "def medicina_RGB_saturation(RGB, C_t, C_f):\n",
    "    C_t = 1 - C_t\n",
    "\n",
    "    L = np.max(RGB, axis=-1)[..., np.newaxis]\n",
    "\n",
    "    D = np.abs(RGB - L) / L\n",
    "\n",
    "    D_c = C_f(D, C_t, 1 - C_t)\n",
    "\n",
    "    RGB_c = L - D_c * L\n",
    "\n",
    "    return RGB_c\n",
    "\n",
    "\n",
    "class GamutMedicinaRGBSaturationWidget(GamutMedicinaBaseWidget):\n",
    "    def __init__(self,\n",
    "                 reference_image=None,\n",
    "                 compression_threshold=0.8,\n",
    "                 compression_function='tanh',\n",
    "                 *args,\n",
    "                 **kwargs):\n",
    "        self._compression_threshold = compression_threshold\n",
    "        self._compression_function = compression_function\n",
    "\n",
    "        kwargs['enable_colour_wheel'] = False\n",
    "\n",
    "        super().__init__(reference_image, *args, **kwargs)\n",
    "\n",
    "        self._RGB_w = None\n",
    "        self._RGB_r = None\n",
    "        self._RGB_d = None\n",
    "\n",
    "        self._compression_threshold_chromaticity_diagram_plot = None\n",
    "\n",
    "        self._reset_compression_controls_Button = None\n",
    "        self._compression_threshold_FloatSlider = None\n",
    "\n",
    "        self.initialize_data()\n",
    "        self.initialize_axes()\n",
    "        self.initialise_widgets()\n",
    "        self.attach_callbacks()\n",
    "\n",
    "        self.update_widget(None)\n",
    "\n",
    "    def initialize_data(self):\n",
    "        super().initialize_data()\n",
    "\n",
    "    def initialize_axes(self):\n",
    "        super().initialize_axes()\n",
    "\n",
    "    def initialise_widgets(self):\n",
    "        super().initialise_widgets()\n",
    "\n",
    "        # *** Widgets ***\n",
    "        self._reset_compression_controls_Button = (\n",
    "            ipywidgets.widgets.Button(\n",
    "                description=\"Reset Compression Controls\"))\n",
    "        compression_functions = list(COMPRESSION_FUNCTIONS.keys())\n",
    "        self._compression_function_DropDown = ipywidgets.widgets.Dropdown(\n",
    "            options=compression_functions,\n",
    "            value=self._compression_function,\n",
    "            description='Compression Function:',\n",
    "        )\n",
    "        self._compression_threshold_FloatSlider = (\n",
    "            ipywidgets.widgets.FloatSlider(\n",
    "                min=0.0,\n",
    "                max=1.0,\n",
    "                step=0.01,\n",
    "                value=self._compression_threshold,\n",
    "                description='Compression Threshold'))\n",
    "\n",
    "        # *** Layout ***\n",
    "        self._compression_controls_HBox = ipywidgets.widgets.HBox([\n",
    "            self._reset_compression_controls_Button,\n",
    "            self._compression_function_DropDown,\n",
    "            self._compression_threshold_FloatSlider,\n",
    "        ])\n",
    "\n",
    "        self._controls_Tab.children += (\n",
    "            self._compression_controls_HBox,\n",
    "        )\n",
    "\n",
    "        self._controls_Tab.set_title(1, 'Compression Controls')\n",
    "\n",
    "    def attach_callbacks(self):\n",
    "        super().attach_callbacks()\n",
    "\n",
    "        self._reset_compression_controls_Button.on_click(\n",
    "            self.reset_compression_controls)\n",
    "        self._compression_function_DropDown.observe(self.update_widget,\n",
    "                                                    'value')\n",
    "        self._compression_threshold_FloatSlider.observe(\n",
    "            self.update_widget, 'value')\n",
    "\n",
    "    def reset_compression_controls(self, change):\n",
    "        self._compression_threshold_FloatSlider.value = (\n",
    "            self._compression_threshold)\n",
    "\n",
    "        self.update_widget(None)\n",
    "\n",
    "    def update_reference_image_axes(self, C_t, C_f):\n",
    "        RGB_r = medicina_RGB_saturation(self._reference_image_working, C_t, C_f)\n",
    "        self._reference_image_mapped = RGB_r\n",
    "        self._reference_image_imshow.set_data(\n",
    "            self.working_space_to_display_space(RGB_r))\n",
    "\n",
    "    def update_chromaticity_diagram_axes(self, C_t, C_f):\n",
    "        RGB_r_s = medicina_RGB_saturation(self._decimated_image_working, C_t, C_f)\n",
    "        self.update_scatter_plot(RGB_r_s)\n",
    "\n",
    "    def update_widget(self, change):\n",
    "        super().update_widget(change)\n",
    "\n",
    "        if self._enable:\n",
    "            C_t = 1 - self._compression_threshold_FloatSlider.value\n",
    "            C_f = COMPRESSION_FUNCTIONS[\n",
    "                self._compression_function_DropDown.value]\n",
    "\n",
    "            self.update_reference_image_axes(C_t, C_f)\n",
    "            self.update_chromaticity_diagram_axes(C_t, C_f)\n",
    "\n",
    "            self._figure.canvas.draw_idle()\n",
    "\n",
    "\n",
    "GamutMedicinaRGBSaturationWidget(\n",
    "    '../resources/images/A009C002_190210_R0EI_Alexa_LogCWideGamut.exr')"
   ]
  },
  {
   "cell_type": "code",
   "execution_count": 18,
   "metadata": {},
   "outputs": [
    {
     "data": {
      "application/vnd.jupyter.widget-view+json": {
       "model_id": "a2134eecc0a84941b13087234ccb5fe8",
       "version_major": 2,
       "version_minor": 0
      },
      "text/plain": [
       "GamutMedicinaHSVControlWidget(children=(Output(layout=Layout(border='solid 4px #222', margin='4px', padding='0…"
      ]
     },
     "metadata": {},
     "output_type": "display_data"
    }
   ],
   "source": [
    "GamutMedicinaHSVControlWidget(\n",
    "    '../resources/images/A009C002_190210_R0EI_Alexa_LogCWideGamut.exr',\n",
    "    enable_colour_wheel=False)"
   ]
  },
  {
   "cell_type": "code",
   "execution_count": 19,
   "metadata": {},
   "outputs": [
    {
     "data": {
      "application/vnd.jupyter.widget-view+json": {
       "model_id": "669a0b94027c421dbf90d45e8ecd0fe4",
       "version_major": 2,
       "version_minor": 0
      },
      "text/plain": [
       "GamutMedicinaRGBSaturationWidget(children=(Output(layout=Layout(border='solid 4px #222', margin='4px', padding…"
      ]
     },
     "metadata": {},
     "output_type": "display_data"
    }
   ],
   "source": [
    "GamutMedicinaRGBSaturationWidget(\n",
    "    '../resources/images/Cornell_Box_Rigid_Spheres_190_Patch_Roughplastic_Point_Grey_Grasshopper_50S5C_RGB_W_A.exr')"
   ]
  },
  {
   "cell_type": "code",
   "execution_count": 20,
   "metadata": {},
   "outputs": [
    {
     "data": {
      "application/vnd.jupyter.widget-view+json": {
       "model_id": "0084e44f7e9d424cb7694cec8c0ae9d2",
       "version_major": 2,
       "version_minor": 0
      },
      "text/plain": [
       "GamutMedicinaRGBSaturationWidget(children=(Output(layout=Layout(border='solid 4px #222', margin='4px', padding…"
      ]
     },
     "metadata": {},
     "output_type": "display_data"
    }
   ],
   "source": [
    "GamutMedicinaRGBSaturationWidget(\n",
    "    '../resources/images/Collage_01.exr')"
   ]
  },
  {
   "cell_type": "markdown",
   "metadata": {},
   "source": [
    "## Compared Model Distortions"
   ]
  },
  {
   "cell_type": "markdown",
   "metadata": {},
   "source": [
    "Various model distortions comparisons."
   ]
  },
  {
   "cell_type": "code",
   "execution_count": 21,
   "metadata": {},
   "outputs": [],
   "source": [
    "colour.write_image(\n",
    "    colour_wheel(clip_circle=False)[..., 0:3],\n",
    "    '../resources/images/Colour_Wheel.exr')"
   ]
  },
  {
   "cell_type": "code",
   "execution_count": 22,
   "metadata": {},
   "outputs": [
    {
     "data": {
      "application/vnd.jupyter.widget-view+json": {
       "model_id": "1f41fa6c34bd4563bb34cd9b1da230b7",
       "version_major": 2,
       "version_minor": 0
      },
      "text/plain": [
       "GamutMedicinaHSVControlWidget(children=(Output(layout=Layout(border='solid 4px #222', margin='4px', padding='0…"
      ]
     },
     "metadata": {},
     "output_type": "display_data"
    }
   ],
   "source": [
    "GamutMedicinaHSVControlWidget(\n",
    "    '../resources/images/Colour_Wheel.exr',\n",
    "    image_decimation=20,\n",
    "    protected_area_threshold=0.5,\n",
    "    compression_threshold=0.5,\n",
    "    enable_colour_wheel=False)"
   ]
  },
  {
   "cell_type": "code",
   "execution_count": 23,
   "metadata": {},
   "outputs": [
    {
     "data": {
      "application/vnd.jupyter.widget-view+json": {
       "model_id": "757f46d7009a4c859806e32d9ddcc271",
       "version_major": 2,
       "version_minor": 0
      },
      "text/plain": [
       "GamutMedicinaRGBSaturationWidget(children=(Output(layout=Layout(border='solid 4px #222', margin='4px', padding…"
      ]
     },
     "metadata": {},
     "output_type": "display_data"
    }
   ],
   "source": [
    "GamutMedicinaRGBSaturationWidget(\n",
    "    '../resources/images/Colour_Wheel.exr',\n",
    "    image_decimation=20,\n",
    "    compression_threshold=0.5)"
   ]
  }
 ],
 "metadata": {
  "colab": {
   "collapsed_sections": [],
   "name": "gamut_mapping_ramblings_01",
   "provenance": []
  },
  "kernelspec": {
   "display_name": "Python 3",
   "language": "python",
   "name": "python3"
  },
  "language_info": {
   "codemirror_mode": {
    "name": "ipython",
    "version": 3
   },
   "file_extension": ".py",
   "mimetype": "text/x-python",
   "name": "python",
   "nbconvert_exporter": "python",
   "pygments_lexer": "ipython3",
   "version": "3.7.6"
  },
  "widgets": {
   "application/vnd.jupyter.widget-state+json": {
    "state": {
     "000902476518489d9c4d780cac66d2cb": {
      "model_module": "@jupyter-widgets/controls",
      "model_module_version": "1.5.0",
      "model_name": "FloatSliderModel",
      "state": {
       "description": "180°",
       "layout": "IPY_MODEL_98925c2a8a1b4aebbcf1ba726805eba5",
       "max": 1,
       "min": -1,
       "step": 0.01,
       "style": "IPY_MODEL_b6e72d613bfd42df964c212f91a46a78"
      }
     },
     "0063ab8ecf734879b7f4ef55ec1b3fa3": {
      "model_module": "@jupyter-widgets/controls",
      "model_module_version": "1.5.0",
      "model_name": "SliderStyleModel",
      "state": {
       "description_width": ""
      }
     },
     "0084e44f7e9d424cb7694cec8c0ae9d2": {
      "model_module": "@jupyter-widgets/controls",
      "model_module_version": "1.5.0",
      "model_name": "BoxModel",
      "state": {
       "children": [
        "IPY_MODEL_cd1cc10fa16b49dabdef87d1604709a9",
        "IPY_MODEL_372520583c4547c0abac161121c00bab"
       ],
       "layout": "IPY_MODEL_ae9c7152cb11440daa496ea6cc4d55bc"
      }
     },
     "00cd93db0dfa4eb69cb5a462fe2f8e03": {
      "model_module": "@jupyter-widgets/base",
      "model_module_version": "1.2.0",
      "model_name": "LayoutModel",
      "state": {}
     },
     "00d54bbe6fdc494c8664b1f372811bdb": {
      "model_module": "@jupyter-widgets/controls",
      "model_module_version": "1.5.0",
      "model_name": "DropdownModel",
      "state": {
       "_options_labels": [
        "tanh",
        "atan",
        "simple"
       ],
       "description": "Compression Function:",
       "index": 0,
       "layout": "IPY_MODEL_e93b1c6d1dae4104a240d449cbc56642",
       "style": "IPY_MODEL_9d4f6975bed641329928fcfe1d4735a7"
      }
     },
     "00e0f1af37e84b89b114a3823a0d6924": {
      "model_module": "jupyter-matplotlib",
      "model_module_version": "^0.7.2",
      "model_name": "MPLCanvasModel",
      "state": {
       "_figure_label": "Figure 20",
       "_height": 550,
       "_width": 1100,
       "header_visible": false,
       "layout": "IPY_MODEL_73c45d7b94c14a22bc385d300dcc8937",
       "resizable": false,
       "toolbar": "IPY_MODEL_f0bd187cd26b422785284a2827ca0bb3",
       "toolbar_position": "left",
       "toolbar_visible": false
      }
     },
     "00e8ae42c25f4d47901eeeb0937aa9c9": {
      "model_module": "@jupyter-widgets/controls",
      "model_module_version": "1.5.0",
      "model_name": "VBoxModel",
      "state": {
       "children": [
        "IPY_MODEL_26f258f2d0b243818fa57a246c39ffb7",
        "IPY_MODEL_5bd7d3c82e7a4b979b6369c329a9d871"
       ],
       "layout": "IPY_MODEL_22d9c8ebe4474aab9ed58273a711a1eb"
      }
     },
     "00fd9bc64c05414d829ad0d0dc591245": {
      "model_module": "@jupyter-widgets/base",
      "model_module_version": "1.2.0",
      "model_name": "LayoutModel",
      "state": {}
     },
     "0134f49d32974bc6a8c9dc548fbc0207": {
      "model_module": "@jupyter-widgets/controls",
      "model_module_version": "1.5.0",
      "model_name": "FloatSliderModel",
      "state": {
       "description": "Exposure",
       "layout": "IPY_MODEL_f45c9a7ea79d4eea8b21f11008ff9a8e",
       "max": 8,
       "min": -8,
       "step": 0.1,
       "style": "IPY_MODEL_641ad69e885f42148c950f98209d1d57"
      }
     },
     "0156d86c23074f57b5b245adace84465": {
      "model_module": "jupyter-matplotlib",
      "model_module_version": "^0.7.2",
      "model_name": "ToolbarModel",
      "state": {
       "layout": "IPY_MODEL_51740600fb11410b87022018cac42484",
       "toolitems": [
        [
         "Home",
         "Reset original view",
         "home",
         "home"
        ],
        [
         "Back",
         "Back to previous view",
         "arrow-left",
         "back"
        ],
        [
         "Forward",
         "Forward to next view",
         "arrow-right",
         "forward"
        ],
        [
         "Pan",
         "Pan axes with left mouse, zoom with right",
         "arrows",
         "pan"
        ],
        [
         "Zoom",
         "Zoom to rectangle",
         "square-o",
         "zoom"
        ],
        [
         "Download",
         "Download plot",
         "floppy-o",
         "save_figure"
        ]
       ]
      }
     },
     "015ce5bceb8442a0b2cc26141da4e601": {
      "model_module": "@jupyter-widgets/controls",
      "model_module_version": "1.5.0",
      "model_name": "CheckboxModel",
      "state": {
       "description": "Disable Medicina",
       "disabled": false,
       "layout": "IPY_MODEL_40f019d863f348b3a2117499f25d0109",
       "style": "IPY_MODEL_d94967fa73924236ad2b84135e48cd3b",
       "value": false
      }
     },
     "017f27b20c044bb5af5e96994fdaf61f": {
      "model_module": "@jupyter-widgets/controls",
      "model_module_version": "1.5.0",
      "model_name": "FloatSliderModel",
      "state": {
       "description": "270°",
       "layout": "IPY_MODEL_94968125dce04e58a47204d43232b690",
       "max": 1,
       "min": -1,
       "step": 0.01,
       "style": "IPY_MODEL_e260cf8340224fe8aa40f16634ef4d0d"
      }
     },
     "01aa33164ca24ca4b9fc023ea2cede8f": {
      "model_module": "@jupyter-widgets/controls",
      "model_module_version": "1.5.0",
      "model_name": "ButtonModel",
      "state": {
       "description": "Export Image",
       "layout": "IPY_MODEL_651ea79e105f4fcb822bde084432fd5c",
       "style": "IPY_MODEL_0d995a6c5bcf44f09515e2cb43651299"
      }
     },
     "01cf81cd42664040adab1e9475fd5ebc": {
      "model_module": "@jupyter-widgets/controls",
      "model_module_version": "1.5.0",
      "model_name": "FloatSliderModel",
      "state": {
       "description": "225°",
       "layout": "IPY_MODEL_37dcfe9600a34c0f90deba2a1ab2ce57",
       "max": 1,
       "min": -1,
       "step": 0.01,
       "style": "IPY_MODEL_6c85fe0d888f432580f85f237196f01c"
      }
     },
     "01e81075eccb4c8192216644960174da": {
      "model_module": "@jupyter-widgets/controls",
      "model_module_version": "1.5.0",
      "model_name": "HBoxModel",
      "state": {
       "children": [
        "IPY_MODEL_bda2f781592043a6a71b0ccd0a27b666",
        "IPY_MODEL_0d9a351b07264a0984f1a40fda7540a7"
       ],
       "layout": "IPY_MODEL_f75d728caebb4481a0b97936b625ebce"
      }
     },
     "01e9f3124fbd41758bceac469c6e144b": {
      "model_module": "@jupyter-widgets/output",
      "model_module_version": "1.0.0",
      "model_name": "OutputModel",
      "state": {
       "layout": "IPY_MODEL_62c01e8b56164a0fafa1cf91eaff124c",
       "outputs": [
        {
         "data": {
          "application/vnd.jupyter.widget-view+json": {
           "model_id": "d19dcb6ecd45452584922f35217192ce",
           "version_major": 2,
           "version_minor": 0
          },
          "text/plain": "Canvas(toolbar=Toolbar(toolitems=[('Home', 'Reset original view', 'home', 'home'), ('Back', 'Back to previous …"
         },
         "metadata": {},
         "output_type": "display_data"
        }
       ]
      }
     },
     "02429081264145f6956e9e3db496734c": {
      "model_module": "@jupyter-widgets/controls",
      "model_module_version": "1.5.0",
      "model_name": "SliderStyleModel",
      "state": {
       "description_width": ""
      }
     },
     "0247540004aa4a94ba96d8c25ddaea44": {
      "model_module": "@jupyter-widgets/controls",
      "model_module_version": "1.5.0",
      "model_name": "ButtonModel",
      "state": {
       "description": "Export Image",
       "layout": "IPY_MODEL_a0851b73678142d3a64915a33aaa328e",
       "style": "IPY_MODEL_6c8d211afa0a47fa8f5ac0a7b6d8e120"
      }
     },
     "02ac158fbc18437b8e470b025061121a": {
      "model_module": "@jupyter-widgets/controls",
      "model_module_version": "1.5.0",
      "model_name": "ButtonStyleModel",
      "state": {}
     },
     "02ba66bce8514b6895a5ee0b7b8611c4": {
      "model_module": "@jupyter-widgets/controls",
      "model_module_version": "1.5.0",
      "model_name": "SliderStyleModel",
      "state": {
       "description_width": ""
      }
     },
     "02d5c75c163841089e29866361b4b951": {
      "model_module": "@jupyter-widgets/controls",
      "model_module_version": "1.5.0",
      "model_name": "FloatSliderModel",
      "state": {
       "description": "315°",
       "layout": "IPY_MODEL_ac4ca06c4b964bfa8cefce5d3dc69b98",
       "max": 1,
       "min": -1,
       "step": 0.01,
       "style": "IPY_MODEL_0dce1b6d6b0e4446996373bc2157df22"
      }
     },
     "02e3e1a0c8ac453bb21bda025f745de0": {
      "model_module": "@jupyter-widgets/controls",
      "model_module_version": "1.5.0",
      "model_name": "FloatSliderModel",
      "state": {
       "description": "Compression Threshold",
       "layout": "IPY_MODEL_64779b917b2b40e19736c7c1937b6cfd",
       "max": 1,
       "step": 0.01,
       "style": "IPY_MODEL_a616c0d7f20e410e9d5d5bf8f30e4082",
       "value": 0.5
      }
     },
     "030d24241f3a480e805f53570affcfc3": {
      "model_module": "@jupyter-widgets/controls",
      "model_module_version": "1.5.0",
      "model_name": "VBoxModel",
      "state": {
       "children": [
        "IPY_MODEL_bdd3c26596cc40f597717ea4834027f1",
        "IPY_MODEL_e94e0d70838e4f66b466d8447a37b82e",
        "IPY_MODEL_51d289f3efd1416795fab2dc0ab39619"
       ],
       "layout": "IPY_MODEL_7eea229a5f6747d89aa9a0d26f6acd2d"
      }
     },
     "0313bb176f6142c49efa6181d635622e": {
      "model_module": "@jupyter-widgets/base",
      "model_module_version": "1.2.0",
      "model_name": "LayoutModel",
      "state": {}
     },
     "038f6bb8af8746dbbae35f1dc5d616a0": {
      "model_module": "@jupyter-widgets/base",
      "model_module_version": "1.2.0",
      "model_name": "LayoutModel",
      "state": {}
     },
     "03ba1bad61494e6a93f63c62c980b2d2": {
      "model_module": "@jupyter-widgets/base",
      "model_module_version": "1.2.0",
      "model_name": "LayoutModel",
      "state": {}
     },
     "03f3050b107c404985bcfaae0e7109e9": {
      "model_module": "@jupyter-widgets/controls",
      "model_module_version": "1.5.0",
      "model_name": "SliderStyleModel",
      "state": {
       "description_width": ""
      }
     },
     "040edfdb83de4741bd9691344f3717fa": {
      "model_module": "@jupyter-widgets/controls",
      "model_module_version": "1.5.0",
      "model_name": "ButtonStyleModel",
      "state": {}
     },
     "0413a3e4df4644148d3e59ca977eea57": {
      "model_module": "@jupyter-widgets/controls",
      "model_module_version": "1.5.0",
      "model_name": "FloatSliderModel",
      "state": {
       "description": "225°",
       "layout": "IPY_MODEL_54be53ee5f9e4446996a2d0ed24ca6f1",
       "max": 1,
       "min": -1,
       "step": 0.01,
       "style": "IPY_MODEL_9631d709c0ef4889816f057153e7fe12"
      }
     },
     "041999ee4f5f4593acc638c98807d3be": {
      "model_module": "@jupyter-widgets/controls",
      "model_module_version": "1.5.0",
      "model_name": "FloatSliderModel",
      "state": {
       "description": "90°",
       "layout": "IPY_MODEL_4e6cbcc728ad4cf395a697293f12556d",
       "max": 1,
       "min": -1,
       "step": 0.01,
       "style": "IPY_MODEL_cf85bbb1077b4fbdb4bdc9eaed7fb668"
      }
     },
     "04503133d42e4a6c9895e635e56f1a64": {
      "model_module": "@jupyter-widgets/base",
      "model_module_version": "1.2.0",
      "model_name": "LayoutModel",
      "state": {}
     },
     "046b6cc48c354056a9dd6559bd915873": {
      "model_module": "@jupyter-widgets/base",
      "model_module_version": "1.2.0",
      "model_name": "LayoutModel",
      "state": {}
     },
     "04a417ae3277461fafae4c19e26e3b4c": {
      "model_module": "@jupyter-widgets/controls",
      "model_module_version": "1.5.0",
      "model_name": "ButtonModel",
      "state": {
       "description": "Reset Hue Controls",
       "layout": "IPY_MODEL_79e213e3f27c4ac4b5e5c7561f0732f4",
       "style": "IPY_MODEL_16b44c8c19774f9b9a6c2f15f9a93347"
      }
     },
     "04a85a7aaa2b4c61b951bbd636250f37": {
      "model_module": "@jupyter-widgets/base",
      "model_module_version": "1.2.0",
      "model_name": "LayoutModel",
      "state": {}
     },
     "04a8faa979a04872a43084c767f67cd9": {
      "model_module": "@jupyter-widgets/controls",
      "model_module_version": "1.5.0",
      "model_name": "CheckboxModel",
      "state": {
       "description": "Disable Medicina",
       "disabled": false,
       "layout": "IPY_MODEL_a6b4c7f95ac640cabee7e2337a17d0d6",
       "style": "IPY_MODEL_8a7ba31e4aad48e69cd433cd03663f4d",
       "value": false
      }
     },
     "04ed4db87277433095a95968234412a2": {
      "model_module": "@jupyter-widgets/controls",
      "model_module_version": "1.5.0",
      "model_name": "ButtonStyleModel",
      "state": {}
     },
     "051e329b9acf4c9d8eb9ed316628abd4": {
      "model_module": "@jupyter-widgets/controls",
      "model_module_version": "1.5.0",
      "model_name": "ButtonModel",
      "state": {
       "description": "Export Image",
       "layout": "IPY_MODEL_8edaa321f0c84df88a8259d20a6492ee",
       "style": "IPY_MODEL_1af2cb89c26b4dda9ef9d187f7b50628"
      }
     },
     "0666ac2ec76544cb96bfc084c426aa60": {
      "model_module": "@jupyter-widgets/controls",
      "model_module_version": "1.5.0",
      "model_name": "TabModel",
      "state": {
       "_titles": {
        "0": "Global Controls",
        "1": "Compression Controls"
       },
       "children": [
        "IPY_MODEL_9c4e4c60d66446d4b7604c40bbe5f073",
        "IPY_MODEL_aa6cbf6e3b13469fb7cce9c25085c31a"
       ],
       "layout": "IPY_MODEL_ee2edc84db8d461499c4ac695fabb419"
      }
     },
     "06b1e999949b4360b6a22a5182fed0ab": {
      "model_module": "@jupyter-widgets/base",
      "model_module_version": "1.2.0",
      "model_name": "LayoutModel",
      "state": {}
     },
     "06da1185831e4e7cbab2fa0bcf440088": {
      "model_module": "@jupyter-widgets/controls",
      "model_module_version": "1.5.0",
      "model_name": "ButtonStyleModel",
      "state": {}
     },
     "06fd5e3922e44a3f80ba8964f0c889d4": {
      "model_module": "@jupyter-widgets/base",
      "model_module_version": "1.2.0",
      "model_name": "LayoutModel",
      "state": {}
     },
     "070636bf7057425b987411eb10d9543b": {
      "model_module": "@jupyter-widgets/base",
      "model_module_version": "1.2.0",
      "model_name": "LayoutModel",
      "state": {}
     },
     "075ef69ebbc747398860d949aa7a0acc": {
      "model_module": "@jupyter-widgets/controls",
      "model_module_version": "1.5.0",
      "model_name": "FloatSliderModel",
      "state": {
       "description": "135°",
       "layout": "IPY_MODEL_8a01212b58754ba797550cd5cb2c0595",
       "max": 1,
       "min": -1,
       "step": 0.01,
       "style": "IPY_MODEL_d23c0ec0335140ccbc4877ed36c07faa"
      }
     },
     "07ec9e0f106d44ffba82df986ce52da3": {
      "model_module": "@jupyter-widgets/controls",
      "model_module_version": "1.5.0",
      "model_name": "FloatSliderModel",
      "state": {
       "description": "180°",
       "layout": "IPY_MODEL_a54fb394d2594f50a283d16f94de90f9",
       "max": 1,
       "min": -1,
       "step": 0.01,
       "style": "IPY_MODEL_9255cdf6624c4b1d864fbe1c65fe1538"
      }
     },
     "07f38b444dff4ae984b9c25d070776a4": {
      "model_module": "@jupyter-widgets/controls",
      "model_module_version": "1.5.0",
      "model_name": "VBoxModel",
      "state": {
       "children": [
        "IPY_MODEL_0d7b2f860f55454c97506d4377cb96ae",
        "IPY_MODEL_0bad761afbbf4c27ba66446a7468d1b1",
        "IPY_MODEL_35ce11651df04b658b456c7e33ce8c6e"
       ],
       "layout": "IPY_MODEL_e15b9778a3b34757958752a1096d5dc5"
      }
     },
     "080a63f2fee743d395654f4fa1c73d60": {
      "model_module": "@jupyter-widgets/controls",
      "model_module_version": "1.5.0",
      "model_name": "SliderStyleModel",
      "state": {
       "description_width": ""
      }
     },
     "080c2b7fb0504172b0b09953d3a3d586": {
      "model_module": "@jupyter-widgets/base",
      "model_module_version": "1.2.0",
      "model_name": "LayoutModel",
      "state": {}
     },
     "0885f6797fa2477ba0ecff0d7b7e3b5f": {
      "model_module": "@jupyter-widgets/controls",
      "model_module_version": "1.5.0",
      "model_name": "ButtonModel",
      "state": {
       "description": "Reset Hue Controls",
       "layout": "IPY_MODEL_070636bf7057425b987411eb10d9543b",
       "style": "IPY_MODEL_ee27e4ef275f45de9a1b4c6314b3dec2"
      }
     },
     "08e56e07dab449eebe1a7bb04583753c": {
      "model_module": "@jupyter-widgets/controls",
      "model_module_version": "1.5.0",
      "model_name": "ButtonStyleModel",
      "state": {}
     },
     "0919228bccf14806b25e0c29be4cfac0": {
      "model_module": "@jupyter-widgets/controls",
      "model_module_version": "1.5.0",
      "model_name": "DropdownModel",
      "state": {
       "_options_labels": [
        "tanh",
        "atan",
        "simple"
       ],
       "description": "Compression Function:",
       "index": 0,
       "layout": "IPY_MODEL_ed64193fe65447629fc1f5a5d7ab625e",
       "style": "IPY_MODEL_dcaabd0d3374475ea422788a8f2dc46f"
      }
     },
     "095a00ab883247a39a9fd415fe93d883": {
      "model_module": "@jupyter-widgets/controls",
      "model_module_version": "1.5.0",
      "model_name": "FloatSliderModel",
      "state": {
       "description": "Exposure",
       "layout": "IPY_MODEL_1340ecdffb71444a8078ea2600800a4c",
       "max": 8,
       "min": -8,
       "step": 0.1,
       "style": "IPY_MODEL_6507b7820aec4c2baddb9798202ccc2b"
      }
     },
     "09619a36890140de84ccee153ee2935d": {
      "model_module": "@jupyter-widgets/controls",
      "model_module_version": "1.5.0",
      "model_name": "HBoxModel",
      "state": {
       "children": [
        "IPY_MODEL_e554919777ee4051a6a693f154f150d7",
        "IPY_MODEL_21021002028e449aa97428ca1c9fc51c",
        "IPY_MODEL_f90259719ecd41919da9d7a0e466880b",
        "IPY_MODEL_9f1d94b5d38948359fc934edb6e93adf"
       ],
       "layout": "IPY_MODEL_9adcb53db26f45f9b15d8282edd6a4a2"
      }
     },
     "096b332182ae40f288c453108dfb03c4": {
      "model_module": "@jupyter-widgets/controls",
      "model_module_version": "1.5.0",
      "model_name": "ButtonModel",
      "state": {
       "description": "Save Figure",
       "layout": "IPY_MODEL_bf63bfd3d3574d33a47901d1349015dc",
       "style": "IPY_MODEL_c902fc54ce5c4b6d88c28c242979fef1"
      }
     },
     "0988e283a33f49489fda940a2e22dc14": {
      "model_module": "@jupyter-widgets/controls",
      "model_module_version": "1.5.0",
      "model_name": "CheckboxModel",
      "state": {
       "description": "Disable Medicina",
       "disabled": false,
       "layout": "IPY_MODEL_4d8990edf26a4806aef79674e87ac91c",
       "style": "IPY_MODEL_63cbc3032c0245f48685d2e4ad457b2b",
       "value": false
      }
     },
     "09cd494c17184b61babf4a3fd0a1319b": {
      "model_module": "@jupyter-widgets/controls",
      "model_module_version": "1.5.0",
      "model_name": "ButtonStyleModel",
      "state": {}
     },
     "0a12b95b3b574412807b1cc18ccdc683": {
      "model_module": "@jupyter-widgets/base",
      "model_module_version": "1.2.0",
      "model_name": "LayoutModel",
      "state": {
       "border": "solid 4px #222",
       "margin": "4px",
       "padding": "0"
      }
     },
     "0a2452a2f70d43e98c8bccedcba1d774": {
      "model_module": "@jupyter-widgets/controls",
      "model_module_version": "1.5.0",
      "model_name": "FloatSliderModel",
      "state": {
       "description": "315°",
       "layout": "IPY_MODEL_ddf352a5e46a468f966b532e4654b9ac",
       "max": 1,
       "min": -1,
       "step": 0.01,
       "style": "IPY_MODEL_733d423d143b4fafb25a98a936821e5e"
      }
     },
     "0a38739ff9994c7290ea3e379ad84498": {
      "model_module": "@jupyter-widgets/base",
      "model_module_version": "1.2.0",
      "model_name": "LayoutModel",
      "state": {}
     },
     "0a3f651877474e569eeb0f655fe10674": {
      "model_module": "@jupyter-widgets/controls",
      "model_module_version": "1.5.0",
      "model_name": "SliderStyleModel",
      "state": {
       "description_width": ""
      }
     },
     "0a524213fd8d454382df28704d9d5c2c": {
      "model_module": "jupyter-matplotlib",
      "model_module_version": "^0.7.2",
      "model_name": "ToolbarModel",
      "state": {
       "layout": "IPY_MODEL_3ba97b5df4d74df98980e722f8b45bc8",
       "toolitems": [
        [
         "Home",
         "Reset original view",
         "home",
         "home"
        ],
        [
         "Back",
         "Back to previous view",
         "arrow-left",
         "back"
        ],
        [
         "Forward",
         "Forward to next view",
         "arrow-right",
         "forward"
        ],
        [
         "Pan",
         "Pan axes with left mouse, zoom with right",
         "arrows",
         "pan"
        ],
        [
         "Zoom",
         "Zoom to rectangle",
         "square-o",
         "zoom"
        ],
        [
         "Download",
         "Download plot",
         "floppy-o",
         "save_figure"
        ]
       ]
      }
     },
     "0a6559622be44324b423f6187f32d942": {
      "model_module": "@jupyter-widgets/base",
      "model_module_version": "1.2.0",
      "model_name": "LayoutModel",
      "state": {}
     },
     "0a86dd74f9634232930622042b170efe": {
      "model_module": "@jupyter-widgets/controls",
      "model_module_version": "1.5.0",
      "model_name": "HBoxModel",
      "state": {
       "children": [
        "IPY_MODEL_3921971f8a434ef596543954d4068dd4",
        "IPY_MODEL_184bdde523e441d9a608158e64943751",
        "IPY_MODEL_9bc2306421f34eb4afae1809a453f695"
       ],
       "layout": "IPY_MODEL_3ece3291099244fc8053afa8999d74df"
      }
     },
     "0ab85674c0fb41bda1bff7ff2660ea8c": {
      "model_module": "@jupyter-widgets/controls",
      "model_module_version": "1.5.0",
      "model_name": "FloatSliderModel",
      "state": {
       "description": "225°",
       "layout": "IPY_MODEL_fcbb566c83204f3dbd38cae0c16f141e",
       "max": 1,
       "min": -1,
       "step": 0.01,
       "style": "IPY_MODEL_a7770c8a7d1b48b7b94d5a55d75c0c8e"
      }
     },
     "0acaa30f8bcd402091771c6bd7ccee3b": {
      "model_module": "@jupyter-widgets/controls",
      "model_module_version": "1.5.0",
      "model_name": "ButtonModel",
      "state": {
       "description": "Reset Hue Controls",
       "layout": "IPY_MODEL_9535a80c358049f3bd87178b867624a2",
       "style": "IPY_MODEL_28aa21b574d14397b4c5b077a413fd8c"
      }
     },
     "0ace22b53e2f4dd7a6c82241cc47b9d4": {
      "model_module": "@jupyter-widgets/controls",
      "model_module_version": "1.5.0",
      "model_name": "CheckboxModel",
      "state": {
       "description": "Disable Medicina",
       "disabled": false,
       "layout": "IPY_MODEL_a36979ce3f2c4c8da47bebdfc6dbb25f",
       "style": "IPY_MODEL_cea17e94358a4af5b740019c9cdab119",
       "value": false
      }
     },
     "0adb8c0f8ed9479fb3482e3bc776d21d": {
      "model_module": "jupyter-matplotlib",
      "model_module_version": "^0.7.2",
      "model_name": "MPLCanvasModel",
      "state": {
       "_figure_label": "Figure 11",
       "_height": 696,
       "_image_mode": "diff",
       "_message": "x=265.251      y=974.722      [0, 0.11, 0.4]",
       "_width": 1100,
       "header_visible": false,
       "layout": "IPY_MODEL_af35531ff196406b911fdcad6c44f05d",
       "resizable": false,
       "toolbar": "IPY_MODEL_c9b27cfdb2944356a1b1187b59572503",
       "toolbar_position": "left",
       "toolbar_visible": false
      }
     },
     "0aef7857ea3344a6b4d7622d287c17d3": {
      "model_module": "@jupyter-widgets/controls",
      "model_module_version": "1.5.0",
      "model_name": "SliderStyleModel",
      "state": {
       "description_width": ""
      }
     },
     "0b2988d400d94844beb693428dc019a7": {
      "model_module": "@jupyter-widgets/base",
      "model_module_version": "1.2.0",
      "model_name": "LayoutModel",
      "state": {}
     },
     "0b4e78b7499047b880034f0f9ba056ab": {
      "model_module": "@jupyter-widgets/controls",
      "model_module_version": "1.5.0",
      "model_name": "FloatSliderModel",
      "state": {
       "description": "Protected Area Threshold",
       "layout": "IPY_MODEL_f22bf286028643cbbb7d4dc224e7b58e",
       "max": 1,
       "step": 0.01,
       "style": "IPY_MODEL_750695e92059483097931316929419d5",
       "value": 0.7
      }
     },
     "0b5e2b6aa0364766a9b923c9efb2d0f3": {
      "model_module": "@jupyter-widgets/base",
      "model_module_version": "1.2.0",
      "model_name": "LayoutModel",
      "state": {}
     },
     "0b6308e04957448a90f06b21047d491f": {
      "model_module": "jupyter-matplotlib",
      "model_module_version": "^0.7.2",
      "model_name": "ToolbarModel",
      "state": {
       "layout": "IPY_MODEL_992a52f67ecb41fa915640a0ec5435ea",
       "toolitems": [
        [
         "Home",
         "Reset original view",
         "home",
         "home"
        ],
        [
         "Back",
         "Back to previous view",
         "arrow-left",
         "back"
        ],
        [
         "Forward",
         "Forward to next view",
         "arrow-right",
         "forward"
        ],
        [
         "Pan",
         "Pan axes with left mouse, zoom with right",
         "arrows",
         "pan"
        ],
        [
         "Zoom",
         "Zoom to rectangle",
         "square-o",
         "zoom"
        ],
        [
         "Download",
         "Download plot",
         "floppy-o",
         "save_figure"
        ]
       ]
      }
     },
     "0bad761afbbf4c27ba66446a7468d1b1": {
      "model_module": "@jupyter-widgets/controls",
      "model_module_version": "1.5.0",
      "model_name": "FloatSliderModel",
      "state": {
       "description": "45°",
       "layout": "IPY_MODEL_71887ace61334cf4a57c089142cbbd37",
       "max": 1,
       "min": -1,
       "step": 0.01,
       "style": "IPY_MODEL_2d5350f9c315428dbbeb461d4dfe6e67"
      }
     },
     "0bfb92abe6f644b4a4d4d4bd2010de3e": {
      "model_module": "@jupyter-widgets/controls",
      "model_module_version": "1.5.0",
      "model_name": "ButtonModel",
      "state": {
       "description": "Export Image",
       "layout": "IPY_MODEL_cbebbf3b23854dcfb1f2ad4cfec12c1d",
       "style": "IPY_MODEL_ca5992f0b51f41ff9fcb7cd648e82198"
      }
     },
     "0c1541648afc4c888de92ef4e3bcdbd1": {
      "model_module": "@jupyter-widgets/base",
      "model_module_version": "1.2.0",
      "model_name": "LayoutModel",
      "state": {}
     },
     "0c3152e3c0c24d2fa659434404b7e13a": {
      "model_module": "@jupyter-widgets/controls",
      "model_module_version": "1.5.0",
      "model_name": "ButtonStyleModel",
      "state": {}
     },
     "0c7cb88baf0f4f25878e2907a0543a49": {
      "model_module": "@jupyter-widgets/controls",
      "model_module_version": "1.5.0",
      "model_name": "HBoxModel",
      "state": {
       "children": [
        "IPY_MODEL_145f514bc40d49479b80981c1ab89b32",
        "IPY_MODEL_981e14d315ad4591adc272f975796540",
        "IPY_MODEL_d6a2a6c71af6464a87b0fb352832cb41",
        "IPY_MODEL_7533838b06a54e3d957e6e3137312aae"
       ],
       "layout": "IPY_MODEL_b74e37eeac6b4248ae5380761bb267fc"
      }
     },
     "0c7e874085ed4f43b38b4a2bbb1d2cf5": {
      "model_module": "@jupyter-widgets/base",
      "model_module_version": "1.2.0",
      "model_name": "LayoutModel",
      "state": {}
     },
     "0d0a8118de8b4273a512f872d094c10b": {
      "model_module": "@jupyter-widgets/base",
      "model_module_version": "1.2.0",
      "model_name": "LayoutModel",
      "state": {}
     },
     "0d175bce84814f39ad4e81139c39348e": {
      "model_module": "@jupyter-widgets/base",
      "model_module_version": "1.2.0",
      "model_name": "LayoutModel",
      "state": {}
     },
     "0d22537470f845dea26014f6b921c1fa": {
      "model_module": "@jupyter-widgets/base",
      "model_module_version": "1.2.0",
      "model_name": "LayoutModel",
      "state": {}
     },
     "0d5180a0ff8d435b80d8138c04049185": {
      "model_module": "@jupyter-widgets/controls",
      "model_module_version": "1.5.0",
      "model_name": "VBoxModel",
      "state": {
       "children": [
        "IPY_MODEL_f7233225616b4ae58708554556df5ccc",
        "IPY_MODEL_119e3c9c088742e08f6732a422abb04a",
        "IPY_MODEL_0413a3e4df4644148d3e59ca977eea57"
       ],
       "layout": "IPY_MODEL_6c0909975d9a4c048fd7bd66b5bc889f"
      }
     },
     "0d7b2f860f55454c97506d4377cb96ae": {
      "model_module": "@jupyter-widgets/controls",
      "model_module_version": "1.5.0",
      "model_name": "FloatSliderModel",
      "state": {
       "description": "0°",
       "layout": "IPY_MODEL_14baacb1d208450bb9b3656638a69b44",
       "max": 1,
       "min": -1,
       "step": 0.01,
       "style": "IPY_MODEL_02ba66bce8514b6895a5ee0b7b8611c4"
      }
     },
     "0d7f542a29ab44cfad4bf995eb931a19": {
      "model_module": "@jupyter-widgets/controls",
      "model_module_version": "1.5.0",
      "model_name": "BoxModel",
      "state": {
       "children": [
        "IPY_MODEL_dba16d8c2ca74875ba54122bb771d6ef",
        "IPY_MODEL_8f3591be283a40eaa16838bd2c3235e3"
       ],
       "layout": "IPY_MODEL_d48bc760112c46748c7ede7a6b1327c4"
      }
     },
     "0d995a6c5bcf44f09515e2cb43651299": {
      "model_module": "@jupyter-widgets/controls",
      "model_module_version": "1.5.0",
      "model_name": "ButtonStyleModel",
      "state": {}
     },
     "0d9a351b07264a0984f1a40fda7540a7": {
      "model_module": "@jupyter-widgets/controls",
      "model_module_version": "1.5.0",
      "model_name": "FloatSliderModel",
      "state": {
       "description": "Protected Area Threshold",
       "layout": "IPY_MODEL_cf49bcfeb4c04852b928da7251fff4f1",
       "max": 1,
       "step": 0.01,
       "style": "IPY_MODEL_373ed67c25384a888d07b646987d3287",
       "value": 0.7
      }
     },
     "0da34b2c51aa4d02a0597ffea3b6d7f8": {
      "model_module": "@jupyter-widgets/controls",
      "model_module_version": "1.5.0",
      "model_name": "ButtonModel",
      "state": {
       "description": "Reset Hue Controls",
       "layout": "IPY_MODEL_b8ea4a0c845d4bbc8349edb476c25dfe",
       "style": "IPY_MODEL_3e104fbe09854594a712fff413fd8264"
      }
     },
     "0dce1b6d6b0e4446996373bc2157df22": {
      "model_module": "@jupyter-widgets/controls",
      "model_module_version": "1.5.0",
      "model_name": "SliderStyleModel",
      "state": {
       "description_width": ""
      }
     },
     "0e146aac08014f96939acf8e830934c7": {
      "model_module": "jupyter-matplotlib",
      "model_module_version": "^0.7.2",
      "model_name": "MPLCanvasModel",
      "state": {
       "_figure_label": "Figure 15",
       "_height": 440,
       "_image_mode": "diff",
       "_message": "x= y=",
       "_width": 1100,
       "header_visible": false,
       "layout": "IPY_MODEL_5e69f46dc26240fcba29892d14e2d5f6",
       "resizable": false,
       "toolbar": "IPY_MODEL_ad8eb51ca85a4f47a19eaa9455e60f72",
       "toolbar_position": "left",
       "toolbar_visible": false
      }
     },
     "0e46e80f7486428780e5547944cfe90d": {
      "model_module": "@jupyter-widgets/base",
      "model_module_version": "1.2.0",
      "model_name": "LayoutModel",
      "state": {}
     },
     "0e9ad1991cc448d984d2181a6943a30a": {
      "model_module": "@jupyter-widgets/controls",
      "model_module_version": "1.5.0",
      "model_name": "SliderStyleModel",
      "state": {
       "description_width": ""
      }
     },
     "0eb21ec8df71450291214da20c0d0fd5": {
      "model_module": "@jupyter-widgets/base",
      "model_module_version": "1.2.0",
      "model_name": "LayoutModel",
      "state": {}
     },
     "0edd6aa8bb3444e4bb0dbaa9835653a7": {
      "model_module": "@jupyter-widgets/controls",
      "model_module_version": "1.5.0",
      "model_name": "VBoxModel",
      "state": {
       "children": [
        "IPY_MODEL_7c700aa8c2be4f76950ba97d968c49aa",
        "IPY_MODEL_34a051ef898c47aebd23060e32c28ab2",
        "IPY_MODEL_041999ee4f5f4593acc638c98807d3be"
       ],
       "layout": "IPY_MODEL_69bbb7f6be6547438837d796de1c132e"
      }
     },
     "0ede99a1503444719901039fbb6535e8": {
      "model_module": "@jupyter-widgets/base",
      "model_module_version": "1.2.0",
      "model_name": "LayoutModel",
      "state": {}
     },
     "0f8e84b39b75461092767d2e8f1d1c55": {
      "model_module": "@jupyter-widgets/controls",
      "model_module_version": "1.5.0",
      "model_name": "FloatSliderModel",
      "state": {
       "description": "270°",
       "layout": "IPY_MODEL_39229e0f1f984bbbb9aa9f65867bc2e8",
       "max": 1,
       "min": -1,
       "step": 0.01,
       "style": "IPY_MODEL_861017327bcb42cca6e6b06eca7c49e4"
      }
     },
     "0fbdc5276ea2430699c45c64649b9eee": {
      "model_module": "@jupyter-widgets/controls",
      "model_module_version": "1.5.0",
      "model_name": "SliderStyleModel",
      "state": {
       "description_width": ""
      }
     },
     "0fcf4978171c47629a10b6034b397edb": {
      "model_module": "@jupyter-widgets/controls",
      "model_module_version": "1.5.0",
      "model_name": "ButtonStyleModel",
      "state": {}
     },
     "0ff0a5be215b406c9d1e9d637c634c47": {
      "model_module": "@jupyter-widgets/base",
      "model_module_version": "1.2.0",
      "model_name": "LayoutModel",
      "state": {
       "border": "solid 4px #222",
       "margin": "4px",
       "padding": "0"
      }
     },
     "100efb63db844379aee040e90f7e0f22": {
      "model_module": "@jupyter-widgets/controls",
      "model_module_version": "1.5.0",
      "model_name": "FloatSliderModel",
      "state": {
       "description": "Compression Threshold",
       "layout": "IPY_MODEL_bb4fd54b995140a2806917d08e32e587",
       "max": 1,
       "step": 0.01,
       "style": "IPY_MODEL_73e7e80967694fce97b77df7d7637fdf",
       "value": 0.5
      }
     },
     "102b564d7e49474ab0f259488fed5606": {
      "model_module": "@jupyter-widgets/base",
      "model_module_version": "1.2.0",
      "model_name": "LayoutModel",
      "state": {}
     },
     "102b8e483ed948168b46d2c7e8e86f14": {
      "model_module": "@jupyter-widgets/base",
      "model_module_version": "1.2.0",
      "model_name": "LayoutModel",
      "state": {
       "border": "solid 4px #222",
       "margin": "4px",
       "padding": "0"
      }
     },
     "104776074cf8452b98ef063dd1e9cdd7": {
      "model_module": "@jupyter-widgets/controls",
      "model_module_version": "1.5.0",
      "model_name": "ButtonModel",
      "state": {
       "description": "Save Figure",
       "layout": "IPY_MODEL_4adb5b21fc014869bba55a9aa4d29d2a",
       "style": "IPY_MODEL_491c5edbddea41b2bff78d0cbc3060f5"
      }
     },
     "1066318ddfe34b6f9cc4f02698e5d09d": {
      "model_module": "@jupyter-widgets/base",
      "model_module_version": "1.2.0",
      "model_name": "LayoutModel",
      "state": {}
     },
     "10dad62a20c24e0e84c7dc36e6761b32": {
      "model_module": "@jupyter-widgets/controls",
      "model_module_version": "1.5.0",
      "model_name": "FloatSliderModel",
      "state": {
       "description": "90°",
       "layout": "IPY_MODEL_72cb75e684e345baa5090df0876f589a",
       "max": 1,
       "min": -1,
       "step": 0.01,
       "style": "IPY_MODEL_0063ab8ecf734879b7f4ef55ec1b3fa3"
      }
     },
     "10fe6dee9e4e4720a9804ae0c841c2cb": {
      "model_module": "@jupyter-widgets/controls",
      "model_module_version": "1.5.0",
      "model_name": "FloatSliderModel",
      "state": {
       "description": "0°",
       "layout": "IPY_MODEL_5599bebbaeca4ad4afd18231e5eb40ee",
       "max": 1,
       "min": -1,
       "step": 0.01,
       "style": "IPY_MODEL_241453859fa140ef9a54386810d1e59b"
      }
     },
     "11494d3ce1ed47a0a069158ef7686088": {
      "model_module": "@jupyter-widgets/base",
      "model_module_version": "1.2.0",
      "model_name": "LayoutModel",
      "state": {}
     },
     "114ea4f02cb044b7af3a3d60883ab9ad": {
      "model_module": "@jupyter-widgets/controls",
      "model_module_version": "1.5.0",
      "model_name": "SliderStyleModel",
      "state": {
       "description_width": ""
      }
     },
     "1185f13f53024ee5a858d99c15b311a2": {
      "model_module": "@jupyter-widgets/controls",
      "model_module_version": "1.5.0",
      "model_name": "FloatSliderModel",
      "state": {
       "description": "315°",
       "layout": "IPY_MODEL_abbf2321fda247ab9243a6aa3052cd1b",
       "max": 1,
       "min": -1,
       "step": 0.01,
       "style": "IPY_MODEL_0e9ad1991cc448d984d2181a6943a30a"
      }
     },
     "119e3c9c088742e08f6732a422abb04a": {
      "model_module": "@jupyter-widgets/controls",
      "model_module_version": "1.5.0",
      "model_name": "FloatSliderModel",
      "state": {
       "description": "180°",
       "layout": "IPY_MODEL_3b2ba770aa7045a0a242a5517ca1b24e",
       "max": 1,
       "min": -1,
       "step": 0.01,
       "style": "IPY_MODEL_a80852b0e6334c81862a23308639a423"
      }
     },
     "11a21d7e44404bf19ac11eaa0b3f2f9c": {
      "model_module": "@jupyter-widgets/controls",
      "model_module_version": "1.5.0",
      "model_name": "FloatSliderModel",
      "state": {
       "description": "Protected Area Threshold",
       "layout": "IPY_MODEL_2ba06c1b128a44849b82f89de34a052b",
       "max": 1,
       "step": 0.01,
       "style": "IPY_MODEL_d95185fdbada4f3aaf6d520a2c8bee79",
       "value": 0.5
      }
     },
     "11ab274abd384e54a9cb5864359589e0": {
      "model_module": "@jupyter-widgets/base",
      "model_module_version": "1.2.0",
      "model_name": "LayoutModel",
      "state": {}
     },
     "11f7fb76ef83458b95bc8f8a728758a5": {
      "model_module": "jupyter-matplotlib",
      "model_module_version": "^0.7.2",
      "model_name": "ToolbarModel",
      "state": {
       "layout": "IPY_MODEL_48643d1210014214a90c902b5ec5a05d",
       "toolitems": [
        [
         "Home",
         "Reset original view",
         "home",
         "home"
        ],
        [
         "Back",
         "Back to previous view",
         "arrow-left",
         "back"
        ],
        [
         "Forward",
         "Forward to next view",
         "arrow-right",
         "forward"
        ],
        [
         "Pan",
         "Pan axes with left mouse, zoom with right",
         "arrows",
         "pan"
        ],
        [
         "Zoom",
         "Zoom to rectangle",
         "square-o",
         "zoom"
        ],
        [
         "Download",
         "Download plot",
         "floppy-o",
         "save_figure"
        ]
       ]
      }
     },
     "121da464ecfd4831ae8ffb422feabb2b": {
      "model_module": "@jupyter-widgets/base",
      "model_module_version": "1.2.0",
      "model_name": "LayoutModel",
      "state": {}
     },
     "12432355ad86450288ee4a6e3fe5c18c": {
      "model_module": "@jupyter-widgets/base",
      "model_module_version": "1.2.0",
      "model_name": "LayoutModel",
      "state": {}
     },
     "124cdf7bcfda41569f4179072164aeca": {
      "model_module": "@jupyter-widgets/controls",
      "model_module_version": "1.5.0",
      "model_name": "SliderStyleModel",
      "state": {
       "description_width": ""
      }
     },
     "12560e60862d4714ab72e73a09a85e2b": {
      "model_module": "@jupyter-widgets/base",
      "model_module_version": "1.2.0",
      "model_name": "LayoutModel",
      "state": {}
     },
     "126739c2bed84f5fa2416f408fa32a07": {
      "model_module": "@jupyter-widgets/base",
      "model_module_version": "1.2.0",
      "model_name": "LayoutModel",
      "state": {
       "border": "solid 4px #222",
       "margin": "4px",
       "padding": "0"
      }
     },
     "12922379707a4d72b10a87641bf3cb7e": {
      "model_module": "@jupyter-widgets/base",
      "model_module_version": "1.2.0",
      "model_name": "LayoutModel",
      "state": {}
     },
     "1292836411cb41c8a31d034bda363134": {
      "model_module": "@jupyter-widgets/base",
      "model_module_version": "1.2.0",
      "model_name": "LayoutModel",
      "state": {}
     },
     "12bcc6667eea4fc2be952a94fc44a7f8": {
      "model_module": "@jupyter-widgets/base",
      "model_module_version": "1.2.0",
      "model_name": "LayoutModel",
      "state": {}
     },
     "12dea0fbc26b495ca14910ec9356238e": {
      "model_module": "@jupyter-widgets/base",
      "model_module_version": "1.2.0",
      "model_name": "LayoutModel",
      "state": {}
     },
     "12e19fd806184d89ba426f5c367942ac": {
      "model_module": "@jupyter-widgets/base",
      "model_module_version": "1.2.0",
      "model_name": "LayoutModel",
      "state": {
       "border": "solid 4px #222",
       "margin": "4px",
       "padding": "0"
      }
     },
     "13115bfdb67f4ae899eb715ea9e8d7c6": {
      "model_module": "@jupyter-widgets/controls",
      "model_module_version": "1.5.0",
      "model_name": "HBoxModel",
      "state": {
       "children": [
        "IPY_MODEL_5fe8461c73844828b2078264587df404",
        "IPY_MODEL_bd20c45c502045c994290aee65ec04ba",
        "IPY_MODEL_ffbe2ac2d2d642fa9690db1803dba719",
        "IPY_MODEL_433feab9223845acbbcab2951b498160"
       ],
       "layout": "IPY_MODEL_6f77991dda5f417696fb9cd2a675d0c0"
      }
     },
     "131a54b2bef449169f48644c1a5b7dcd": {
      "model_module": "@jupyter-widgets/controls",
      "model_module_version": "1.5.0",
      "model_name": "CheckboxModel",
      "state": {
       "description": "Disable Medicina",
       "disabled": false,
       "layout": "IPY_MODEL_69ef0410cb1f44d58d41064e23cb70e7",
       "style": "IPY_MODEL_cb4b7e0c2746473796e0ce2556a8458c",
       "value": false
      }
     },
     "1340ecdffb71444a8078ea2600800a4c": {
      "model_module": "@jupyter-widgets/base",
      "model_module_version": "1.2.0",
      "model_name": "LayoutModel",
      "state": {}
     },
     "135104b93167466792b3ab56694defbc": {
      "model_module": "jupyter-matplotlib",
      "model_module_version": "^0.7.2",
      "model_name": "MPLCanvasModel",
      "state": {
       "_figure_label": "Figure 25",
       "_height": 550,
       "_image_mode": "diff",
       "_width": 1100,
       "header_visible": false,
       "layout": "IPY_MODEL_0a38739ff9994c7290ea3e379ad84498",
       "resizable": false,
       "toolbar": "IPY_MODEL_e8c5d592931c48fb941d20718fd891d8",
       "toolbar_position": "left",
       "toolbar_visible": false
      }
     },
     "136ddbc2f37041a9bdb5e66113cbfc81": {
      "model_module": "@jupyter-widgets/controls",
      "model_module_version": "1.5.0",
      "model_name": "HBoxModel",
      "state": {
       "children": [
        "IPY_MODEL_d62f893fa7e64ad19468323ea3e3f4c2",
        "IPY_MODEL_fe8ce0797cbe4003a3db648fe4e5c26d",
        "IPY_MODEL_8b5c9d3f51e84941a54421822eeb67c6",
        "IPY_MODEL_bbc78d416c704b3b8d877a45f3fe80b2"
       ],
       "layout": "IPY_MODEL_61ecc70a72e54df4a30c0f2d3fb879aa"
      }
     },
     "13752d6689084ad4811e0ee4cd3e13a2": {
      "model_module": "@jupyter-widgets/base",
      "model_module_version": "1.2.0",
      "model_name": "LayoutModel",
      "state": {}
     },
     "13a3a426bfca4c18a66f0dac172eab16": {
      "model_module": "@jupyter-widgets/controls",
      "model_module_version": "1.5.0",
      "model_name": "FloatSliderModel",
      "state": {
       "description": "Protected Area Threshold",
       "layout": "IPY_MODEL_ccc5da3623324b56ba49f3be6a66b142",
       "max": 1,
       "step": 0.01,
       "style": "IPY_MODEL_3cc57e33abc048038d9f1db852163fc5",
       "value": 0.7
      }
     },
     "13dcefb1e5e04736a1344c59859d4dbf": {
      "model_module": "@jupyter-widgets/controls",
      "model_module_version": "1.5.0",
      "model_name": "VBoxModel",
      "state": {
       "children": [
        "IPY_MODEL_d2a423867cb54792b31d418fec596a83"
       ],
       "layout": "IPY_MODEL_d1c2aae6f983449bbeaae3d64bb34322"
      }
     },
     "13e4e05465f14de2be30e47c70d1e57c": {
      "model_module": "@jupyter-widgets/controls",
      "model_module_version": "1.5.0",
      "model_name": "FloatSliderModel",
      "state": {
       "description": "315°",
       "layout": "IPY_MODEL_576f45ac94994cf18e18eaaa4bfadc48",
       "max": 1,
       "min": -1,
       "step": 0.01,
       "style": "IPY_MODEL_fe8ec05935d34c77a0f4d01ebc94db1a"
      }
     },
     "13ebb69a27a84b4694124b82c0548651": {
      "model_module": "@jupyter-widgets/controls",
      "model_module_version": "1.5.0",
      "model_name": "ButtonModel",
      "state": {
       "description": "Reset Compression Controls",
       "layout": "IPY_MODEL_0d0a8118de8b4273a512f872d094c10b",
       "style": "IPY_MODEL_936f60305b9a409a819e202a65e1c4da"
      }
     },
     "142a0631a82a46a2b1ce64fb6b83852a": {
      "model_module": "@jupyter-widgets/base",
      "model_module_version": "1.2.0",
      "model_name": "LayoutModel",
      "state": {
       "border": "solid 4px #222",
       "margin": "4px",
       "padding": "0"
      }
     },
     "142bc3fb4ec544ceb165d25f5d5cc8b8": {
      "model_module": "@jupyter-widgets/base",
      "model_module_version": "1.2.0",
      "model_name": "LayoutModel",
      "state": {}
     },
     "142cc6661e5e40d2be0b44d746946edf": {
      "model_module": "@jupyter-widgets/base",
      "model_module_version": "1.2.0",
      "model_name": "LayoutModel",
      "state": {}
     },
     "145f514bc40d49479b80981c1ab89b32": {
      "model_module": "@jupyter-widgets/controls",
      "model_module_version": "1.5.0",
      "model_name": "VBoxModel",
      "state": {
       "children": [
        "IPY_MODEL_0acaa30f8bcd402091771c6bd7ccee3b"
       ],
       "layout": "IPY_MODEL_45c7296d5db3447b8fa43545f8b2193f"
      }
     },
     "1472c78661704166b14252f00678b66f": {
      "model_module": "@jupyter-widgets/controls",
      "model_module_version": "1.5.0",
      "model_name": "SliderStyleModel",
      "state": {
       "description_width": ""
      }
     },
     "1490be62d6184736a7774784af25de31": {
      "model_module": "@jupyter-widgets/base",
      "model_module_version": "1.2.0",
      "model_name": "LayoutModel",
      "state": {}
     },
     "14957029bf7a40b9ade73792bf3da994": {
      "model_module": "@jupyter-widgets/base",
      "model_module_version": "1.2.0",
      "model_name": "LayoutModel",
      "state": {}
     },
     "14adc636266f442b8559728d7e05581d": {
      "model_module": "@jupyter-widgets/controls",
      "model_module_version": "1.5.0",
      "model_name": "ButtonModel",
      "state": {
       "description": "Export Image",
       "layout": "IPY_MODEL_45c6ba60428340bb9cc5c690d95530c5",
       "style": "IPY_MODEL_02ac158fbc18437b8e470b025061121a"
      }
     },
     "14baacb1d208450bb9b3656638a69b44": {
      "model_module": "@jupyter-widgets/base",
      "model_module_version": "1.2.0",
      "model_name": "LayoutModel",
      "state": {}
     },
     "14d1985dd11140149c7a0696920e3d18": {
      "model_module": "@jupyter-widgets/controls",
      "model_module_version": "1.5.0",
      "model_name": "FloatSliderModel",
      "state": {
       "description": "225°",
       "layout": "IPY_MODEL_464b7802117344208212586d681e56dd",
       "max": 1,
       "min": -1,
       "step": 0.01,
       "style": "IPY_MODEL_7896ec4b80564922b01a29f4e761f52d"
      }
     },
     "14ffaeb9a28448e19442ad7d1ad12c9b": {
      "model_module": "@jupyter-widgets/base",
      "model_module_version": "1.2.0",
      "model_name": "LayoutModel",
      "state": {}
     },
     "15243a4528f04b7290965cc158fe3661": {
      "model_module": "@jupyter-widgets/controls",
      "model_module_version": "1.5.0",
      "model_name": "HBoxModel",
      "state": {
       "children": [
        "IPY_MODEL_75143c0e92524e40947733f9bc5fc9b8",
        "IPY_MODEL_0247540004aa4a94ba96d8c25ddaea44",
        "IPY_MODEL_f9c2cec9046f4376933300743f3498a4",
        "IPY_MODEL_2de1294cd84643d490c6c5923f6c6c7b"
       ],
       "layout": "IPY_MODEL_e88b5092979b45728ec4447876fa10af"
      }
     },
     "153a1bcc4a164b7d9f0fc0d493d2e5c8": {
      "model_module": "jupyter-matplotlib",
      "model_module_version": "^0.7.2",
      "model_name": "ToolbarModel",
      "state": {
       "layout": "IPY_MODEL_b378bec5a9ef4abb9585cf39ab92772c",
       "toolitems": [
        [
         "Home",
         "Reset original view",
         "home",
         "home"
        ],
        [
         "Back",
         "Back to previous view",
         "arrow-left",
         "back"
        ],
        [
         "Forward",
         "Forward to next view",
         "arrow-right",
         "forward"
        ],
        [
         "Pan",
         "Pan axes with left mouse, zoom with right",
         "arrows",
         "pan"
        ],
        [
         "Zoom",
         "Zoom to rectangle",
         "square-o",
         "zoom"
        ],
        [
         "Download",
         "Download plot",
         "floppy-o",
         "save_figure"
        ]
       ]
      }
     },
     "156d8f5d20b44eeca265cd969c10007a": {
      "model_module": "@jupyter-widgets/base",
      "model_module_version": "1.2.0",
      "model_name": "LayoutModel",
      "state": {}
     },
     "157db91eeffa4086ba028974c43f1307": {
      "model_module": "@jupyter-widgets/base",
      "model_module_version": "1.2.0",
      "model_name": "LayoutModel",
      "state": {}
     },
     "158d241734044cff9b8fffd3525861bc": {
      "model_module": "@jupyter-widgets/controls",
      "model_module_version": "1.5.0",
      "model_name": "ButtonStyleModel",
      "state": {}
     },
     "15d8e82ee16a451aae9e4d1a702d4380": {
      "model_module": "@jupyter-widgets/base",
      "model_module_version": "1.2.0",
      "model_name": "LayoutModel",
      "state": {}
     },
     "15de4ebe299b47549ab5406ba89656b3": {
      "model_module": "@jupyter-widgets/controls",
      "model_module_version": "1.5.0",
      "model_name": "ButtonModel",
      "state": {
       "description": "Save Figure",
       "layout": "IPY_MODEL_cfae44b180ae4641b8dcefe118614b14",
       "style": "IPY_MODEL_06da1185831e4e7cbab2fa0bcf440088"
      }
     },
     "15f7f7afdb3342e78dad5083bba132f2": {
      "model_module": "@jupyter-widgets/controls",
      "model_module_version": "1.5.0",
      "model_name": "ButtonModel",
      "state": {
       "description": "Reset Protected Area",
       "layout": "IPY_MODEL_d313553b65e1421482c130c1d5ced8e4",
       "style": "IPY_MODEL_0c3152e3c0c24d2fa659434404b7e13a"
      }
     },
     "163e0172ac1a4b7c891c61d12d2a62d3": {
      "model_module": "jupyter-matplotlib",
      "model_module_version": "^0.7.2",
      "model_name": "MPLCanvasModel",
      "state": {
       "_figure_label": "Figure 9",
       "_height": 458,
       "_image_mode": "diff",
       "_width": 1099,
       "header_visible": false,
       "layout": "IPY_MODEL_9d75929746fd4575bf895898c115b118",
       "resizable": false,
       "toolbar": "IPY_MODEL_b8296ad0210343dc8151b150cc0037a5",
       "toolbar_position": "left",
       "toolbar_visible": false
      }
     },
     "164691589e184c198a650f2b19d3ebff": {
      "model_module": "@jupyter-widgets/controls",
      "model_module_version": "1.5.0",
      "model_name": "SliderStyleModel",
      "state": {
       "description_width": ""
      }
     },
     "16661a7c13d542d196685c4040c5649f": {
      "model_module": "@jupyter-widgets/base",
      "model_module_version": "1.2.0",
      "model_name": "LayoutModel",
      "state": {
       "border": "solid 4px #222",
       "margin": "4px",
       "padding": "0"
      }
     },
     "167402e432d34809b8dade8aeabd1f5e": {
      "model_module": "@jupyter-widgets/base",
      "model_module_version": "1.2.0",
      "model_name": "LayoutModel",
      "state": {}
     },
     "1686fa0bd4e846249171bb313f11efbd": {
      "model_module": "@jupyter-widgets/controls",
      "model_module_version": "1.5.0",
      "model_name": "HBoxModel",
      "state": {
       "children": [
        "IPY_MODEL_2f2762a4517d43228895df1206f512bf",
        "IPY_MODEL_9d8cfb8ce65b4231843b6b4a5e60696b"
       ],
       "layout": "IPY_MODEL_3336033616f74bddb6bc7992d4015d9c"
      }
     },
     "169795615d9749349a9547daffea3e39": {
      "model_module": "@jupyter-widgets/base",
      "model_module_version": "1.2.0",
      "model_name": "LayoutModel",
      "state": {}
     },
     "16b44c8c19774f9b9a6c2f15f9a93347": {
      "model_module": "@jupyter-widgets/controls",
      "model_module_version": "1.5.0",
      "model_name": "ButtonStyleModel",
      "state": {}
     },
     "16b7329d421947dd94bcab208b2ae7af": {
      "model_module": "@jupyter-widgets/base",
      "model_module_version": "1.2.0",
      "model_name": "LayoutModel",
      "state": {
       "border": "solid 4px #222",
       "margin": "4px",
       "padding": "0"
      }
     },
     "16d3bde0ec074f068177183604ba9284": {
      "model_module": "jupyter-matplotlib",
      "model_module_version": "^0.7.2",
      "model_name": "MPLCanvasModel",
      "state": {
       "_figure_label": "Figure 24",
       "_height": 550,
       "_width": 1100,
       "header_visible": false,
       "layout": "IPY_MODEL_7d6ea83996d74068b5114804cef80d17",
       "resizable": false,
       "toolbar": "IPY_MODEL_153a1bcc4a164b7d9f0fc0d493d2e5c8",
       "toolbar_position": "left",
       "toolbar_visible": false
      }
     },
     "16e43295fb724030980f877eaadd60e8": {
      "model_module": "@jupyter-widgets/base",
      "model_module_version": "1.2.0",
      "model_name": "LayoutModel",
      "state": {}
     },
     "1739fd1c8cab44a0876ed284c479b6bb": {
      "model_module": "@jupyter-widgets/controls",
      "model_module_version": "1.5.0",
      "model_name": "FloatSliderModel",
      "state": {
       "description": "315°",
       "layout": "IPY_MODEL_f21ece2e702a430889a3040e560c33f4",
       "max": 1,
       "min": -1,
       "step": 0.01,
       "style": "IPY_MODEL_755e11bf0d9f4aada8c490c8ca3a4760"
      }
     },
     "17650e423b9b4d3a85b5f1f3ed04394e": {
      "model_module": "@jupyter-widgets/base",
      "model_module_version": "1.2.0",
      "model_name": "LayoutModel",
      "state": {}
     },
     "17675cad59cc463582a3be75d04887bf": {
      "model_module": "@jupyter-widgets/controls",
      "model_module_version": "1.5.0",
      "model_name": "TabModel",
      "state": {
       "_titles": {
        "0": "Global Controls",
        "1": "Protected Area Controls",
        "2": "Saturation Controls",
        "3": "Hue Controls"
       },
       "children": [
        "IPY_MODEL_df6680f5dedb4432ab4802f5836f50a9",
        "IPY_MODEL_bdb2d47f4a2640d2a1c5f583ebb6c07d",
        "IPY_MODEL_23dac586a70143cca46f2c5c286bf750",
        "IPY_MODEL_09619a36890140de84ccee153ee2935d"
       ],
       "layout": "IPY_MODEL_2b54565cb42746f59abe91be230531e0"
      }
     },
     "178636bc6f7c4311bc67a4ab70d7276d": {
      "model_module": "@jupyter-widgets/controls",
      "model_module_version": "1.5.0",
      "model_name": "ButtonModel",
      "state": {
       "description": "Export Image",
       "layout": "IPY_MODEL_6ada464fa2f745108f29a1cf06c84c88",
       "style": "IPY_MODEL_c19c358e3cd1454494caa9a04143b419"
      }
     },
     "1797eea1f71847e39157bb4a8aa32e49": {
      "model_module": "@jupyter-widgets/controls",
      "model_module_version": "1.5.0",
      "model_name": "ButtonStyleModel",
      "state": {}
     },
     "17ae04218e0d4cc69b32bccded9e8a96": {
      "model_module": "@jupyter-widgets/controls",
      "model_module_version": "1.5.0",
      "model_name": "SliderStyleModel",
      "state": {
       "description_width": ""
      }
     },
     "17b4a15eeef24bd4b11f6fb83adc2ff8": {
      "model_module": "@jupyter-widgets/controls",
      "model_module_version": "1.5.0",
      "model_name": "FloatSliderModel",
      "state": {
       "description": "135°",
       "layout": "IPY_MODEL_12dea0fbc26b495ca14910ec9356238e",
       "max": 1,
       "min": -1,
       "step": 0.01,
       "style": "IPY_MODEL_d2680e3e84bb4cbb8742297d30deb0ca"
      }
     },
     "180bcacc35e7478685d13a028ce96ff1": {
      "model_module": "@jupyter-widgets/base",
      "model_module_version": "1.2.0",
      "model_name": "LayoutModel",
      "state": {
       "border": "solid 4px #222",
       "margin": "4px",
       "padding": "0"
      }
     },
     "184bdde523e441d9a608158e64943751": {
      "model_module": "@jupyter-widgets/controls",
      "model_module_version": "1.5.0",
      "model_name": "DropdownModel",
      "state": {
       "_options_labels": [
        "tanh",
        "atan",
        "simple"
       ],
       "description": "Compression Function:",
       "index": 0,
       "layout": "IPY_MODEL_7648622f54ea48359c7090d983cbae6c",
       "style": "IPY_MODEL_7b03b695e1ac4cc997371de2326034ca"
      }
     },
     "18fcd4e4238e42d38be2b5e438ab576a": {
      "model_module": "@jupyter-widgets/controls",
      "model_module_version": "1.5.0",
      "model_name": "ButtonStyleModel",
      "state": {}
     },
     "196f9ccb1f89480f9868195e83a49f8e": {
      "model_module": "@jupyter-widgets/controls",
      "model_module_version": "1.5.0",
      "model_name": "FloatSliderModel",
      "state": {
       "description": "45°",
       "layout": "IPY_MODEL_a6861a527a6645dc8ba1f0ba7c2d7dd3",
       "max": 1,
       "min": -1,
       "step": 0.01,
       "style": "IPY_MODEL_44ecbd2df3ab4f22b338c2ac77cc5e71"
      }
     },
     "19b48a7aa3754525b918d827eb996743": {
      "model_module": "@jupyter-widgets/controls",
      "model_module_version": "1.5.0",
      "model_name": "ButtonStyleModel",
      "state": {}
     },
     "19e2adceb5fe4f71b65629a3a780354c": {
      "model_module": "@jupyter-widgets/controls",
      "model_module_version": "1.5.0",
      "model_name": "FloatSliderModel",
      "state": {
       "description": "Exposure",
       "layout": "IPY_MODEL_25bdfda7260141c4a91973cda08a5b9c",
       "max": 8,
       "min": -8,
       "step": 0.1,
       "style": "IPY_MODEL_39bf00375ce74b7994005214759972fc"
      }
     },
     "19f0c9c4d17d4568a9459dc139758cde": {
      "model_module": "@jupyter-widgets/controls",
      "model_module_version": "1.5.0",
      "model_name": "SliderStyleModel",
      "state": {
       "description_width": ""
      }
     },
     "1a0847f0a0ce435faecc5cb3a7e97270": {
      "model_module": "@jupyter-widgets/controls",
      "model_module_version": "1.5.0",
      "model_name": "SliderStyleModel",
      "state": {
       "description_width": ""
      }
     },
     "1a8576e0a5ae4deea625b24e5e0fe1bd": {
      "model_module": "@jupyter-widgets/controls",
      "model_module_version": "1.5.0",
      "model_name": "VBoxModel",
      "state": {
       "children": [
        "IPY_MODEL_04a417ae3277461fafae4c19e26e3b4c"
       ],
       "layout": "IPY_MODEL_8615cda0b66349bbb82a70d2a782b3a0"
      }
     },
     "1a88d1074a2d4268aaa92c1eb4dbc3b0": {
      "model_module": "@jupyter-widgets/base",
      "model_module_version": "1.2.0",
      "model_name": "LayoutModel",
      "state": {}
     },
     "1a8b6eecf6374c178eebec755a2bceaf": {
      "model_module": "@jupyter-widgets/controls",
      "model_module_version": "1.5.0",
      "model_name": "ButtonStyleModel",
      "state": {}
     },
     "1abf012f5aa34c82a7d01768789f6fd1": {
      "model_module": "@jupyter-widgets/base",
      "model_module_version": "1.2.0",
      "model_name": "LayoutModel",
      "state": {}
     },
     "1ac52a81b77c46e3ae1db8c65a71302d": {
      "model_module": "jupyter-matplotlib",
      "model_module_version": "^0.7.2",
      "model_name": "ToolbarModel",
      "state": {
       "layout": "IPY_MODEL_7d81630d47874660859a028b4687b115",
       "toolitems": [
        [
         "Home",
         "Reset original view",
         "home",
         "home"
        ],
        [
         "Back",
         "Back to previous view",
         "arrow-left",
         "back"
        ],
        [
         "Forward",
         "Forward to next view",
         "arrow-right",
         "forward"
        ],
        [
         "Pan",
         "Pan axes with left mouse, zoom with right",
         "arrows",
         "pan"
        ],
        [
         "Zoom",
         "Zoom to rectangle",
         "square-o",
         "zoom"
        ],
        [
         "Download",
         "Download plot",
         "floppy-o",
         "save_figure"
        ]
       ]
      }
     },
     "1acd8fc3f7b8496db762ab05efb6161c": {
      "model_module": "@jupyter-widgets/controls",
      "model_module_version": "1.5.0",
      "model_name": "HBoxModel",
      "state": {
       "children": [
        "IPY_MODEL_d89a70e709eb4f1586753fd0aeedc824",
        "IPY_MODEL_a9aa6a1011314da29af1a85cf1296a94",
        "IPY_MODEL_d1d8a455a9e44b7b95addac9d30cdbf5"
       ],
       "layout": "IPY_MODEL_fddb089d022c4f88a07051d45d511f76"
      }
     },
     "1ae3e3afc4aa468e8db67b766796c5f2": {
      "model_module": "@jupyter-widgets/controls",
      "model_module_version": "1.5.0",
      "model_name": "FloatSliderModel",
      "state": {
       "description": "45°",
       "layout": "IPY_MODEL_12560e60862d4714ab72e73a09a85e2b",
       "max": 1,
       "min": -1,
       "step": 0.01,
       "style": "IPY_MODEL_3a9121610aa840d0b093672bc8149935"
      }
     },
     "1af2cb89c26b4dda9ef9d187f7b50628": {
      "model_module": "@jupyter-widgets/controls",
      "model_module_version": "1.5.0",
      "model_name": "ButtonStyleModel",
      "state": {}
     },
     "1b0b312644a147ea8e3a4225ccfa8fc1": {
      "model_module": "@jupyter-widgets/controls",
      "model_module_version": "1.5.0",
      "model_name": "FloatSliderModel",
      "state": {
       "description": "225°",
       "layout": "IPY_MODEL_ff14b824817c4d0fb634b7ee6799478c",
       "max": 1,
       "min": -1,
       "step": 0.01,
       "style": "IPY_MODEL_d58fff66d21747cc9bfc5a9258573962"
      }
     },
     "1b0e7759d10f4033af1fb96e7f84067c": {
      "model_module": "@jupyter-widgets/base",
      "model_module_version": "1.2.0",
      "model_name": "LayoutModel",
      "state": {}
     },
     "1b2959a2b12440ef8962c3431a78a9e5": {
      "model_module": "@jupyter-widgets/controls",
      "model_module_version": "1.5.0",
      "model_name": "HBoxModel",
      "state": {
       "children": [
        "IPY_MODEL_ee38fc1056704300aae29c38bc1fb3b0",
        "IPY_MODEL_00d54bbe6fdc494c8664b1f372811bdb",
        "IPY_MODEL_2bbd754e050b4a958deca410c5b7ecb7"
       ],
       "layout": "IPY_MODEL_2ee4f9eb8f2a4bbbbab773a387c35e26"
      }
     },
     "1b84afe25c184ba682de84924ded88ba": {
      "model_module": "@jupyter-widgets/base",
      "model_module_version": "1.2.0",
      "model_name": "LayoutModel",
      "state": {}
     },
     "1bb568e98b644764b509d1cfca65fcb3": {
      "model_module": "jupyter-matplotlib",
      "model_module_version": "^0.7.2",
      "model_name": "MPLCanvasModel",
      "state": {
       "_figure_label": "Figure 13",
       "_height": 550,
       "_image_mode": "diff",
       "_width": 1100,
       "header_visible": false,
       "layout": "IPY_MODEL_f6b1636b663f489c99a86a1df05529de",
       "resizable": false,
       "toolbar": "IPY_MODEL_0156d86c23074f57b5b245adace84465",
       "toolbar_position": "left",
       "toolbar_visible": false
      }
     },
     "1c2c6d17dff44ca29930c8988a1c9adc": {
      "model_module": "@jupyter-widgets/base",
      "model_module_version": "1.2.0",
      "model_name": "LayoutModel",
      "state": {}
     },
     "1c5afa7669864790875cbe4930015f4e": {
      "model_module": "jupyter-matplotlib",
      "model_module_version": "^0.7.2",
      "model_name": "MPLCanvasModel",
      "state": {
       "_figure_label": "Figure 21",
       "_height": 550,
       "_width": 1100,
       "header_visible": false,
       "layout": "IPY_MODEL_98c0d55307f34ea6bc36455c9b746ea2",
       "resizable": false,
       "toolbar": "IPY_MODEL_b67824fb8aa54842b06c0fc6efbcae81",
       "toolbar_position": "left",
       "toolbar_visible": false
      }
     },
     "1c977c18e58e4603be14116970cf3a81": {
      "model_module": "@jupyter-widgets/controls",
      "model_module_version": "1.5.0",
      "model_name": "FloatSliderModel",
      "state": {
       "description": "Exposure",
       "layout": "IPY_MODEL_b5bd2321d9624bccb764f3c07aaa63ae",
       "max": 8,
       "min": -8,
       "step": 0.1,
       "style": "IPY_MODEL_5d3c969807ba4efbbcf260a5e88c0ae7"
      }
     },
     "1ca10057a5a049e18c8ff1f94a928807": {
      "model_module": "@jupyter-widgets/base",
      "model_module_version": "1.2.0",
      "model_name": "LayoutModel",
      "state": {}
     },
     "1cbee4625f24401fb24d459a4ec000d2": {
      "model_module": "@jupyter-widgets/controls",
      "model_module_version": "1.5.0",
      "model_name": "FloatSliderModel",
      "state": {
       "description": "90°",
       "layout": "IPY_MODEL_7ad2f08fd9514e8f9ab94253a507931a",
       "max": 1,
       "min": -1,
       "step": 0.01,
       "style": "IPY_MODEL_57ec3fc7eb1e43dcbc52b3a397b9e58f"
      }
     },
     "1cea91886b934d0e9333c1652c5df7e7": {
      "model_module": "@jupyter-widgets/controls",
      "model_module_version": "1.5.0",
      "model_name": "SliderStyleModel",
      "state": {
       "description_width": ""
      }
     },
     "1d018bb039654dd8b9163a87f6434efb": {
      "model_module": "@jupyter-widgets/base",
      "model_module_version": "1.2.0",
      "model_name": "LayoutModel",
      "state": {}
     },
     "1d089be3556e4fac8bfa8a701bbfbc79": {
      "model_module": "@jupyter-widgets/controls",
      "model_module_version": "1.5.0",
      "model_name": "FloatSliderModel",
      "state": {
       "description": "Exposure",
       "layout": "IPY_MODEL_30a08e5dd69d40c08466178384eac90a",
       "max": 8,
       "min": -8,
       "step": 0.1,
       "style": "IPY_MODEL_e5df3aaed072432eaf1832c87ab8fc22"
      }
     },
     "1d102f5053614df280ef7862b389ba01": {
      "model_module": "@jupyter-widgets/base",
      "model_module_version": "1.2.0",
      "model_name": "LayoutModel",
      "state": {}
     },
     "1d4ebd35fe6b4a1c9183e4489427f318": {
      "model_module": "@jupyter-widgets/controls",
      "model_module_version": "1.5.0",
      "model_name": "BoxModel",
      "state": {
       "children": [
        "IPY_MODEL_3e54e12a840f4ca0891fbc8e59472cba",
        "IPY_MODEL_5a061f21045b4ca2b4b7fca325e83006"
       ],
       "layout": "IPY_MODEL_f935a69c82b445009f088f86c46c3a6d"
      }
     },
     "1d63185bf13443a6847c79e0a436396c": {
      "model_module": "@jupyter-widgets/controls",
      "model_module_version": "1.5.0",
      "model_name": "ButtonModel",
      "state": {
       "description": "Reset Hue Controls",
       "layout": "IPY_MODEL_cc7c2fede8d3435795cb637333e7b02a",
       "style": "IPY_MODEL_d14d383da3a84f39935ef1d302a7db11"
      }
     },
     "1d6badc7227f4fe28bd5b0e24b31dec5": {
      "model_module": "@jupyter-widgets/base",
      "model_module_version": "1.2.0",
      "model_name": "LayoutModel",
      "state": {}
     },
     "1d8d495b704a4c08a7bf2ec89ed5b98d": {
      "model_module": "@jupyter-widgets/base",
      "model_module_version": "1.2.0",
      "model_name": "LayoutModel",
      "state": {}
     },
     "1de5740a1a024eb7a26ab5bce72cf207": {
      "model_module": "@jupyter-widgets/controls",
      "model_module_version": "1.5.0",
      "model_name": "VBoxModel",
      "state": {
       "children": [
        "IPY_MODEL_5c88f26d116b426d84efd749ef0f162d",
        "IPY_MODEL_39b1aef98cad40a5a6cbd51a361d0d38",
        "IPY_MODEL_01cf81cd42664040adab1e9475fd5ebc"
       ],
       "layout": "IPY_MODEL_a040ca7a2492455dbe57abcfe89458ca"
      }
     },
     "1e27f47ef0cf4d0891aa403041968b0e": {
      "model_module": "@jupyter-widgets/controls",
      "model_module_version": "1.5.0",
      "model_name": "TabModel",
      "state": {
       "_titles": {
        "0": "Global Controls",
        "1": "Protected Area Controls",
        "2": "Saturation Controls",
        "3": "Hue Controls"
       },
       "children": [
        "IPY_MODEL_a40da18010af4f24be9c7c7852de4e33",
        "IPY_MODEL_54ef3112922c42879cc864938d768225",
        "IPY_MODEL_9c7e743da896439d898f0e654bda4ecd",
        "IPY_MODEL_b1e246ca67fc42c09f419a5ae632a710"
       ],
       "layout": "IPY_MODEL_a6d2492763cd4a0c98cb5b37cf4d609f"
      }
     },
     "1e2ca93d44b94a2db0fde7b5f6d45ced": {
      "model_module": "@jupyter-widgets/controls",
      "model_module_version": "1.5.0",
      "model_name": "ButtonStyleModel",
      "state": {}
     },
     "1ee30b0b114a42f7ab46a891e2e43e2b": {
      "model_module": "@jupyter-widgets/base",
      "model_module_version": "1.2.0",
      "model_name": "LayoutModel",
      "state": {}
     },
     "1efa5d8df58748739d0f76f6c2992173": {
      "model_module": "@jupyter-widgets/controls",
      "model_module_version": "1.5.0",
      "model_name": "FloatSliderModel",
      "state": {
       "description": "225°",
       "layout": "IPY_MODEL_20a4c2926f7842458e730e29168c8f55",
       "max": 1,
       "min": -1,
       "step": 0.01,
       "style": "IPY_MODEL_7c646006a1c945f6ba1c5aa6d0657d11"
      }
     },
     "1f3fb178b88048b68e7dad216a2af736": {
      "model_module": "@jupyter-widgets/base",
      "model_module_version": "1.2.0",
      "model_name": "LayoutModel",
      "state": {}
     },
     "1f41fa6c34bd4563bb34cd9b1da230b7": {
      "model_module": "@jupyter-widgets/controls",
      "model_module_version": "1.5.0",
      "model_name": "BoxModel",
      "state": {
       "children": [
        "IPY_MODEL_757c4cb101db48ff846e2946db10b3ef",
        "IPY_MODEL_f67677d6479448bfa974e78b83fcb3e1"
       ],
       "layout": "IPY_MODEL_3cded6d93bcd4bb381231d14f1455c99"
      }
     },
     "1fa49e87671e4428afe72832a56f4d7f": {
      "model_module": "@jupyter-widgets/controls",
      "model_module_version": "1.5.0",
      "model_name": "DropdownModel",
      "state": {
       "_options_labels": [
        "tanh",
        "atan",
        "simple"
       ],
       "description": "Compression Function:",
       "index": 0,
       "layout": "IPY_MODEL_ebbc304c8a4748a1bfd4860f7999c0db",
       "style": "IPY_MODEL_6de5b43241ef47f4b4b89a2408fd9acd"
      }
     },
     "1fc87e5147914791958d85bffac48f0b": {
      "model_module": "@jupyter-widgets/base",
      "model_module_version": "1.2.0",
      "model_name": "LayoutModel",
      "state": {}
     },
     "20551ce3d1154d3c9959fa3c72e4f2f3": {
      "model_module": "@jupyter-widgets/controls",
      "model_module_version": "1.5.0",
      "model_name": "SliderStyleModel",
      "state": {
       "description_width": ""
      }
     },
     "2069d39c0fb74aef90b234778d6bba2f": {
      "model_module": "@jupyter-widgets/controls",
      "model_module_version": "1.5.0",
      "model_name": "ButtonStyleModel",
      "state": {}
     },
     "208422afc59440abbd8c6fda284d1a8f": {
      "model_module": "@jupyter-widgets/base",
      "model_module_version": "1.2.0",
      "model_name": "LayoutModel",
      "state": {}
     },
     "20a4c2926f7842458e730e29168c8f55": {
      "model_module": "@jupyter-widgets/base",
      "model_module_version": "1.2.0",
      "model_name": "LayoutModel",
      "state": {}
     },
     "21021002028e449aa97428ca1c9fc51c": {
      "model_module": "@jupyter-widgets/controls",
      "model_module_version": "1.5.0",
      "model_name": "VBoxModel",
      "state": {
       "children": [
        "IPY_MODEL_79e986eb324f493191ef83f02802e37d",
        "IPY_MODEL_196f9ccb1f89480f9868195e83a49f8e",
        "IPY_MODEL_e895e84dbf37406db516ebae92479c4f"
       ],
       "layout": "IPY_MODEL_d0b9aff1016545b5913a32ababa61c6f"
      }
     },
     "21140e25022c4e1fa075d8ac6e4e81c0": {
      "model_module": "@jupyter-widgets/base",
      "model_module_version": "1.2.0",
      "model_name": "LayoutModel",
      "state": {}
     },
     "216e4b9ef4bd4abd884c4a5c823a8323": {
      "model_module": "@jupyter-widgets/base",
      "model_module_version": "1.2.0",
      "model_name": "LayoutModel",
      "state": {}
     },
     "2180a568fb5f4639a5225e58fd792e30": {
      "model_module": "@jupyter-widgets/controls",
      "model_module_version": "1.5.0",
      "model_name": "ButtonStyleModel",
      "state": {}
     },
     "219466a7be674f42bf49806101d8063d": {
      "model_module": "@jupyter-widgets/controls",
      "model_module_version": "1.5.0",
      "model_name": "HBoxModel",
      "state": {
       "children": [
        "IPY_MODEL_c438220b7ef54185918273ce8c000ee9",
        "IPY_MODEL_9f19f1aeaa5541268edd6d9444b0234c"
       ],
       "layout": "IPY_MODEL_3ec2c6e45e574441b6e1d4f1f93c288d"
      }
     },
     "21cff684a4134081a37161000c1cb460": {
      "model_module": "@jupyter-widgets/base",
      "model_module_version": "1.2.0",
      "model_name": "LayoutModel",
      "state": {}
     },
     "21db278f1b9d471f9be8652eb36ed7bb": {
      "model_module": "@jupyter-widgets/base",
      "model_module_version": "1.2.0",
      "model_name": "LayoutModel",
      "state": {}
     },
     "222718f8ecb34e5bb9dcfa720b4ab0c6": {
      "model_module": "@jupyter-widgets/base",
      "model_module_version": "1.2.0",
      "model_name": "LayoutModel",
      "state": {}
     },
     "224c950e9204455abc6b46ab45afb3fe": {
      "model_module": "@jupyter-widgets/base",
      "model_module_version": "1.2.0",
      "model_name": "LayoutModel",
      "state": {}
     },
     "22a501ce25974c0c823dbb515f3deaa0": {
      "model_module": "@jupyter-widgets/controls",
      "model_module_version": "1.5.0",
      "model_name": "ButtonStyleModel",
      "state": {}
     },
     "22cfba7a6ebd408e9059491aea1a43bd": {
      "model_module": "@jupyter-widgets/controls",
      "model_module_version": "1.5.0",
      "model_name": "FloatSliderModel",
      "state": {
       "description": "Compression Threshold",
       "layout": "IPY_MODEL_cbaf33b6fc8b46b289667443a3a9b5be",
       "max": 1,
       "step": 0.01,
       "style": "IPY_MODEL_e81094c47f3f45c298995ca35b602170",
       "value": 0.8
      }
     },
     "22d9c8ebe4474aab9ed58273a711a1eb": {
      "model_module": "@jupyter-widgets/base",
      "model_module_version": "1.2.0",
      "model_name": "LayoutModel",
      "state": {}
     },
     "2300f2d000874b6380a1c7383afda9e9": {
      "model_module": "@jupyter-widgets/base",
      "model_module_version": "1.2.0",
      "model_name": "LayoutModel",
      "state": {
       "border": "solid 4px #222",
       "margin": "4px",
       "padding": "0"
      }
     },
     "2324288a8b9a4e3380a8eaffa5ad50c0": {
      "model_module": "@jupyter-widgets/controls",
      "model_module_version": "1.5.0",
      "model_name": "FloatSliderModel",
      "state": {
       "description": "270°",
       "layout": "IPY_MODEL_858371e96f9f485782b71f21d5a01a83",
       "max": 1,
       "min": -1,
       "step": 0.01,
       "style": "IPY_MODEL_b95138c4630942efad822027a42ab29b"
      }
     },
     "235601a075954a879e290ca866a05493": {
      "model_module": "@jupyter-widgets/base",
      "model_module_version": "1.2.0",
      "model_name": "LayoutModel",
      "state": {}
     },
     "2377f7c370ae4811a948769c7a4194ec": {
      "model_module": "@jupyter-widgets/base",
      "model_module_version": "1.2.0",
      "model_name": "LayoutModel",
      "state": {}
     },
     "238c44effe2044449e631b7d413eaaee": {
      "model_module": "@jupyter-widgets/base",
      "model_module_version": "1.2.0",
      "model_name": "LayoutModel",
      "state": {}
     },
     "23a54d44238442dfa30aa8f897cc7e7d": {
      "model_module": "jupyter-matplotlib",
      "model_module_version": "^0.7.2",
      "model_name": "MPLCanvasModel",
      "state": {
       "_figure_label": "Figure 26",
       "_height": 550,
       "_width": 1100,
       "header_visible": false,
       "layout": "IPY_MODEL_f179c99df3034329a79b54763d9557af",
       "resizable": false,
       "toolbar": "IPY_MODEL_c59e71c8adbf4af299445f2a640a6c7d",
       "toolbar_position": "left",
       "toolbar_visible": false
      }
     },
     "23d618e9601d4a4a87a2880c86c33557": {
      "model_module": "@jupyter-widgets/base",
      "model_module_version": "1.2.0",
      "model_name": "LayoutModel",
      "state": {}
     },
     "23dac586a70143cca46f2c5c286bf750": {
      "model_module": "@jupyter-widgets/controls",
      "model_module_version": "1.5.0",
      "model_name": "HBoxModel",
      "state": {
       "children": [
        "IPY_MODEL_55fdf3b4966a4dca9d97b515139ccf7e",
        "IPY_MODEL_6cdfd5e762cb4861a1e9c2594aa50827",
        "IPY_MODEL_269fcdea0cb74d3199ab55fbb6637012"
       ],
       "layout": "IPY_MODEL_3608b46010ab4d49bd01bb4e6563ea6d"
      }
     },
     "23ea3b0cd5304bd583cb44a2cc058f84": {
      "model_module": "@jupyter-widgets/base",
      "model_module_version": "1.2.0",
      "model_name": "LayoutModel",
      "state": {}
     },
     "241453859fa140ef9a54386810d1e59b": {
      "model_module": "@jupyter-widgets/controls",
      "model_module_version": "1.5.0",
      "model_name": "SliderStyleModel",
      "state": {
       "description_width": ""
      }
     },
     "2420d6ec817141a4b574dad75c401358": {
      "model_module": "@jupyter-widgets/controls",
      "model_module_version": "1.5.0",
      "model_name": "SliderStyleModel",
      "state": {
       "description_width": ""
      }
     },
     "2424784c14684b0199b9c4a5620496b7": {
      "model_module": "@jupyter-widgets/controls",
      "model_module_version": "1.5.0",
      "model_name": "HBoxModel",
      "state": {
       "children": [
        "IPY_MODEL_04a8faa979a04872a43084c767f67cd9",
        "IPY_MODEL_178636bc6f7c4311bc67a4ab70d7276d",
        "IPY_MODEL_92c0d4a7ab684ba691891fa611655e2b",
        "IPY_MODEL_7f81e99fef0d4355809d828713adbfc9"
       ],
       "layout": "IPY_MODEL_3ae7c611479741698c3149f78b00860b"
      }
     },
     "244b9d0af5c443e6b7411ed21b08c2c7": {
      "model_module": "@jupyter-widgets/base",
      "model_module_version": "1.2.0",
      "model_name": "LayoutModel",
      "state": {}
     },
     "245b68cab28c463daf9f8059c208c8c3": {
      "model_module": "@jupyter-widgets/controls",
      "model_module_version": "1.5.0",
      "model_name": "VBoxModel",
      "state": {
       "children": [
        "IPY_MODEL_26649618019742e7be1d931bae76ae51",
        "IPY_MODEL_dfbb9cf5d4364645ba4ec464e7cd3463"
       ],
       "layout": "IPY_MODEL_545e37bad2164842a396c019872cc60a"
      }
     },
     "24970021d340494a9003ed9d5de5bd8b": {
      "model_module": "@jupyter-widgets/base",
      "model_module_version": "1.2.0",
      "model_name": "LayoutModel",
      "state": {}
     },
     "25380e0caed84232a95ed792254f92d2": {
      "model_module": "@jupyter-widgets/controls",
      "model_module_version": "1.5.0",
      "model_name": "CheckboxModel",
      "state": {
       "description": "Disable Medicina",
       "disabled": false,
       "layout": "IPY_MODEL_7186d2de447047689f3c892978e78601",
       "style": "IPY_MODEL_38808c337661456c8c34fc3e469c1881",
       "value": false
      }
     },
     "253fb1d138464472855e66d1971a75b2": {
      "model_module": "@jupyter-widgets/base",
      "model_module_version": "1.2.0",
      "model_name": "LayoutModel",
      "state": {}
     },
     "25a282572b474deeaf2b1991e97c4fa9": {
      "model_module": "@jupyter-widgets/base",
      "model_module_version": "1.2.0",
      "model_name": "LayoutModel",
      "state": {}
     },
     "25a5ccf6aa374471bee612ef8bf145c3": {
      "model_module": "@jupyter-widgets/base",
      "model_module_version": "1.2.0",
      "model_name": "LayoutModel",
      "state": {}
     },
     "25bdfda7260141c4a91973cda08a5b9c": {
      "model_module": "@jupyter-widgets/base",
      "model_module_version": "1.2.0",
      "model_name": "LayoutModel",
      "state": {}
     },
     "25ecd6a74a11459997491b238b41a0aa": {
      "model_module": "@jupyter-widgets/base",
      "model_module_version": "1.2.0",
      "model_name": "LayoutModel",
      "state": {}
     },
     "2613eceac06a4df396a4a877d3e9fa1c": {
      "model_module": "@jupyter-widgets/base",
      "model_module_version": "1.2.0",
      "model_name": "LayoutModel",
      "state": {}
     },
     "26649618019742e7be1d931bae76ae51": {
      "model_module": "@jupyter-widgets/controls",
      "model_module_version": "1.5.0",
      "model_name": "FloatSliderModel",
      "state": {
       "description": "270°",
       "layout": "IPY_MODEL_d083e1a0ea234479ae2dd1bb54976c3f",
       "max": 1,
       "min": -1,
       "step": 0.01,
       "style": "IPY_MODEL_a32e4ad1c95546569868e8e051a2a8cd"
      }
     },
     "26656205a331404890a29114480429e3": {
      "model_module": "@jupyter-widgets/controls",
      "model_module_version": "1.5.0",
      "model_name": "HBoxModel",
      "state": {
       "children": [
        "IPY_MODEL_300ed93eef2241a286f9c0e0640a08ab",
        "IPY_MODEL_13a3a426bfca4c18a66f0dac172eab16"
       ],
       "layout": "IPY_MODEL_235601a075954a879e290ca866a05493"
      }
     },
     "26761360a3c44652a6ce71fa2113a166": {
      "model_module": "@jupyter-widgets/controls",
      "model_module_version": "1.5.0",
      "model_name": "ButtonStyleModel",
      "state": {}
     },
     "269fcdea0cb74d3199ab55fbb6637012": {
      "model_module": "@jupyter-widgets/controls",
      "model_module_version": "1.5.0",
      "model_name": "FloatSliderModel",
      "state": {
       "description": "Compression Threshold",
       "layout": "IPY_MODEL_3e4bb1430e364e08986802c081f58d12",
       "max": 1,
       "step": 0.01,
       "style": "IPY_MODEL_498510d0bf7d49559ba98ec68525354b",
       "value": 0.8
      }
     },
     "26d3dcc20efb42e2a505ee4039b6b5fb": {
      "model_module": "@jupyter-widgets/controls",
      "model_module_version": "1.5.0",
      "model_name": "ButtonStyleModel",
      "state": {}
     },
     "26f258f2d0b243818fa57a246c39ffb7": {
      "model_module": "@jupyter-widgets/controls",
      "model_module_version": "1.5.0",
      "model_name": "FloatSliderModel",
      "state": {
       "description": "270°",
       "layout": "IPY_MODEL_a3543d678d4a4d4abeec89c3a305b1e2",
       "max": 1,
       "min": -1,
       "step": 0.01,
       "style": "IPY_MODEL_82b5070553594287b362d7c62647b56a"
      }
     },
     "26fe484d771a4b86ae38b7bbe25b0c5d": {
      "model_module": "@jupyter-widgets/controls",
      "model_module_version": "1.5.0",
      "model_name": "FloatSliderModel",
      "state": {
       "description": "Exposure",
       "layout": "IPY_MODEL_0eb21ec8df71450291214da20c0d0fd5",
       "max": 8,
       "min": -8,
       "step": 0.1,
       "style": "IPY_MODEL_4d597695ef844802befe59d11c475d1d"
      }
     },
     "272b2ef5b5b341c5bcbe6c8e2fe637d0": {
      "model_module": "@jupyter-widgets/controls",
      "model_module_version": "1.5.0",
      "model_name": "FloatSliderModel",
      "state": {
       "description": "225°",
       "layout": "IPY_MODEL_1fc87e5147914791958d85bffac48f0b",
       "max": 1,
       "min": -1,
       "step": 0.01,
       "style": "IPY_MODEL_92949df38062435c89c630ce161fa8e2"
      }
     },
     "275b9a8dba24447aaee72a930a506d4d": {
      "model_module": "@jupyter-widgets/base",
      "model_module_version": "1.2.0",
      "model_name": "LayoutModel",
      "state": {
       "border": "solid 4px #222",
       "margin": "4px",
       "padding": "0"
      }
     },
     "27814a62a40d45618c47d0ba14307485": {
      "model_module": "@jupyter-widgets/controls",
      "model_module_version": "1.5.0",
      "model_name": "SliderStyleModel",
      "state": {
       "description_width": ""
      }
     },
     "27beb37de6ee4b758750ef33f6b8f505": {
      "model_module": "@jupyter-widgets/base",
      "model_module_version": "1.2.0",
      "model_name": "LayoutModel",
      "state": {}
     },
     "283de9c36b464c1f9e4631c5fccd430c": {
      "model_module": "@jupyter-widgets/controls",
      "model_module_version": "1.5.0",
      "model_name": "FloatSliderModel",
      "state": {
       "description": "0°",
       "layout": "IPY_MODEL_b003dc21f9744e3fb1f475e09d4d8650",
       "max": 1,
       "min": -1,
       "step": 0.01,
       "style": "IPY_MODEL_e33ae52a8849404e827757983e2b0fcf"
      }
     },
     "2889e3127feb4536ad995251d08e1ef7": {
      "model_module": "@jupyter-widgets/controls",
      "model_module_version": "1.5.0",
      "model_name": "SliderStyleModel",
      "state": {
       "description_width": ""
      }
     },
     "288fddcebde94832b98ed7f6be5b30c3": {
      "model_module": "@jupyter-widgets/base",
      "model_module_version": "1.2.0",
      "model_name": "LayoutModel",
      "state": {}
     },
     "289fb793a3fd4a83a4053c938fb30e83": {
      "model_module": "@jupyter-widgets/base",
      "model_module_version": "1.2.0",
      "model_name": "LayoutModel",
      "state": {
       "align_items": "stretch",
       "display": "flex",
       "flex_flow": "column",
       "width": "1128px"
      }
     },
     "28aa21b574d14397b4c5b077a413fd8c": {
      "model_module": "@jupyter-widgets/controls",
      "model_module_version": "1.5.0",
      "model_name": "ButtonStyleModel",
      "state": {}
     },
     "28e0ce57d1a84a9c8d38257da217ff59": {
      "model_module": "@jupyter-widgets/controls",
      "model_module_version": "1.5.0",
      "model_name": "FloatSliderModel",
      "state": {
       "description": "Exposure",
       "layout": "IPY_MODEL_43d4ca91b1644f5489c18686b5fd515d",
       "max": 8,
       "min": -8,
       "step": 0.1,
       "style": "IPY_MODEL_6074616dd7a844f3be8c8c8ce815aa4e"
      }
     },
     "2a105e19aff94a48b2b7cd2a5c12398a": {
      "model_module": "@jupyter-widgets/controls",
      "model_module_version": "1.5.0",
      "model_name": "FloatSliderModel",
      "state": {
       "description": "Compression Threshold",
       "layout": "IPY_MODEL_b84c332240c54455ac9c10b10469fcb6",
       "max": 1,
       "step": 0.01,
       "style": "IPY_MODEL_89bc2b46be1d49be92812557afb96e2a",
       "value": 0.8
      }
     },
     "2a385a19a993486097516ee2c9222e39": {
      "model_module": "@jupyter-widgets/controls",
      "model_module_version": "1.5.0",
      "model_name": "SliderStyleModel",
      "state": {
       "description_width": ""
      }
     },
     "2a7415e4718a4d53bdd633e76377f04a": {
      "model_module": "@jupyter-widgets/output",
      "model_module_version": "1.0.0",
      "model_name": "OutputModel",
      "state": {
       "layout": "IPY_MODEL_126739c2bed84f5fa2416f408fa32a07",
       "outputs": [
        {
         "data": {
          "application/vnd.jupyter.widget-view+json": {
           "model_id": "7b7f5412f67449d4b6bea38356f4ef3d",
           "version_major": 2,
           "version_minor": 0
          },
          "text/plain": "Canvas(toolbar=Toolbar(toolitems=[('Home', 'Reset original view', 'home', 'home'), ('Back', 'Back to previous …"
         },
         "metadata": {},
         "output_type": "display_data"
        }
       ]
      }
     },
     "2ac066ccbcbb4671a2701406d81cf94a": {
      "model_module": "@jupyter-widgets/controls",
      "model_module_version": "1.5.0",
      "model_name": "FloatSliderModel",
      "state": {
       "description": "315°",
       "layout": "IPY_MODEL_5059b4672c52430bb30515795fe07b76",
       "max": 1,
       "min": -1,
       "step": 0.01,
       "style": "IPY_MODEL_84901f772530492792236eaa74886741"
      }
     },
     "2ac0e6e4c43241f59c8062c5efb2ea42": {
      "model_module": "@jupyter-widgets/base",
      "model_module_version": "1.2.0",
      "model_name": "LayoutModel",
      "state": {}
     },
     "2af0351dc82b4101bb781c985271efa0": {
      "model_module": "@jupyter-widgets/controls",
      "model_module_version": "1.5.0",
      "model_name": "HBoxModel",
      "state": {
       "children": [
        "IPY_MODEL_7379f71383e142eca9862f71cd2b9f73",
        "IPY_MODEL_66fd426107d8422d87996a8488e6f817",
        "IPY_MODEL_b86600d5967a4be584b0a40fa18aa1d2"
       ],
       "layout": "IPY_MODEL_25a5ccf6aa374471bee612ef8bf145c3"
      }
     },
     "2b0a6d4858bc4b3d8620e5beb43fcf11": {
      "model_module": "@jupyter-widgets/controls",
      "model_module_version": "1.5.0",
      "model_name": "FloatSliderModel",
      "state": {
       "description": "135°",
       "layout": "IPY_MODEL_ae6d17c1a9294e509c0d1d989ed3bf69",
       "max": 1,
       "min": -1,
       "step": 0.01,
       "style": "IPY_MODEL_368f8dcc2cbd46eda9ee3da8974a1ae3"
      }
     },
     "2b2c28426ecc409a89c53318b9fff20a": {
      "model_module": "@jupyter-widgets/base",
      "model_module_version": "1.2.0",
      "model_name": "LayoutModel",
      "state": {}
     },
     "2b30ae8fcf8e4c9db851b5c0fba85455": {
      "model_module": "@jupyter-widgets/base",
      "model_module_version": "1.2.0",
      "model_name": "LayoutModel",
      "state": {}
     },
     "2b453f34009648d09a87966e671f2eee": {
      "model_module": "@jupyter-widgets/output",
      "model_module_version": "1.0.0",
      "model_name": "OutputModel",
      "state": {
       "layout": "IPY_MODEL_8c1cd78023e14b6585e45cfc069a08f0",
       "outputs": [
        {
         "data": {
          "application/vnd.jupyter.widget-view+json": {
           "model_id": "7af7587b42fc4b2184aa5b9106b59600",
           "version_major": 2,
           "version_minor": 0
          },
          "text/plain": "Canvas(toolbar=Toolbar(toolitems=[('Home', 'Reset original view', 'home', 'home'), ('Back', 'Back to previous …"
         },
         "metadata": {},
         "output_type": "display_data"
        }
       ]
      }
     },
     "2b54565cb42746f59abe91be230531e0": {
      "model_module": "@jupyter-widgets/base",
      "model_module_version": "1.2.0",
      "model_name": "LayoutModel",
      "state": {
       "border": "solid 4px #222",
       "margin": "4px",
       "padding": "0"
      }
     },
     "2ba06c1b128a44849b82f89de34a052b": {
      "model_module": "@jupyter-widgets/base",
      "model_module_version": "1.2.0",
      "model_name": "LayoutModel",
      "state": {}
     },
     "2bbd754e050b4a958deca410c5b7ecb7": {
      "model_module": "@jupyter-widgets/controls",
      "model_module_version": "1.5.0",
      "model_name": "FloatSliderModel",
      "state": {
       "description": "Compression Threshold",
       "layout": "IPY_MODEL_f4d274f5963743ab98ff370566dedba3",
       "max": 1,
       "step": 0.01,
       "style": "IPY_MODEL_e160103fd1684c39ac3a39ff7bb42d7f",
       "value": 0.8
      }
     },
     "2bbdb1b39ccc4fd688739ce722fdaf4a": {
      "model_module": "@jupyter-widgets/base",
      "model_module_version": "1.2.0",
      "model_name": "LayoutModel",
      "state": {}
     },
     "2bd3fd4791264537922926a3119f66f2": {
      "model_module": "@jupyter-widgets/controls",
      "model_module_version": "1.5.0",
      "model_name": "ButtonStyleModel",
      "state": {}
     },
     "2bde8d27ef0d41c79942c93a306efaf6": {
      "model_module": "@jupyter-widgets/controls",
      "model_module_version": "1.5.0",
      "model_name": "BoxModel",
      "state": {
       "children": [
        "IPY_MODEL_7c8309279fc341539f3bb1956077b751",
        "IPY_MODEL_8d6515d2be0e47ce824cfb5f1259e0f8"
       ],
       "layout": "IPY_MODEL_851119638a454af5a08f7b3ff970a28e"
      }
     },
     "2c3e3e1321784e40b61184bd42d66d86": {
      "model_module": "@jupyter-widgets/controls",
      "model_module_version": "1.5.0",
      "model_name": "FloatSliderModel",
      "state": {
       "description": "270°",
       "layout": "IPY_MODEL_9af44262551c48248f5309e9a6c070b7",
       "max": 1,
       "min": -1,
       "step": 0.01,
       "style": "IPY_MODEL_72294b74c5dd40bc91e6414d9898c37a"
      }
     },
     "2c611f3054404149b84becafb28e88f2": {
      "model_module": "@jupyter-widgets/controls",
      "model_module_version": "1.5.0",
      "model_name": "SliderStyleModel",
      "state": {
       "description_width": ""
      }
     },
     "2c7d5e51451a44058ca74f76f2ba067c": {
      "model_module": "@jupyter-widgets/controls",
      "model_module_version": "1.5.0",
      "model_name": "SliderStyleModel",
      "state": {
       "description_width": ""
      }
     },
     "2cb5313e123848e9ac9d13b2f253e891": {
      "model_module": "@jupyter-widgets/controls",
      "model_module_version": "1.5.0",
      "model_name": "DescriptionStyleModel",
      "state": {
       "description_width": ""
      }
     },
     "2cec87d54659411aa285eca9e7abfb8f": {
      "model_module": "@jupyter-widgets/controls",
      "model_module_version": "1.5.0",
      "model_name": "ButtonModel",
      "state": {
       "description": "Save Figure",
       "layout": "IPY_MODEL_9a19b9d1e3084d45aebfe2f2a52ccae6",
       "style": "IPY_MODEL_bd1ad0769cf647d281d20b8c910c0139"
      }
     },
     "2d033fe5452c498a86f787d7772e784e": {
      "model_module": "@jupyter-widgets/controls",
      "model_module_version": "1.5.0",
      "model_name": "HBoxModel",
      "state": {
       "children": [
        "IPY_MODEL_a34bdf28772340bf861d9eb9125b9c02",
        "IPY_MODEL_1fa49e87671e4428afe72832a56f4d7f",
        "IPY_MODEL_02e3e1a0c8ac453bb21bda025f745de0"
       ],
       "layout": "IPY_MODEL_f4514fbe70b8416e9d83ad5207bae045"
      }
     },
     "2d11400f2008423b9be751397971e321": {
      "model_module": "@jupyter-widgets/controls",
      "model_module_version": "1.5.0",
      "model_name": "SliderStyleModel",
      "state": {
       "description_width": ""
      }
     },
     "2d3726a3ecc0417c9b39945d506091ac": {
      "model_module": "@jupyter-widgets/controls",
      "model_module_version": "1.5.0",
      "model_name": "BoxModel",
      "state": {
       "children": [
        "IPY_MODEL_2a7415e4718a4d53bdd633e76377f04a",
        "IPY_MODEL_a4f98a1ae2954728aa1ebca7fac4a398"
       ],
       "layout": "IPY_MODEL_7c9ebd329c744125947c4b8015b2b836"
      }
     },
     "2d3d0386c3fb41a4afa5496277dc6f56": {
      "model_module": "@jupyter-widgets/controls",
      "model_module_version": "1.5.0",
      "model_name": "SliderStyleModel",
      "state": {
       "description_width": ""
      }
     },
     "2d4085353ea146f0b44dfa00687d8e03": {
      "model_module": "@jupyter-widgets/controls",
      "model_module_version": "1.5.0",
      "model_name": "DescriptionStyleModel",
      "state": {
       "description_width": ""
      }
     },
     "2d5350f9c315428dbbeb461d4dfe6e67": {
      "model_module": "@jupyter-widgets/controls",
      "model_module_version": "1.5.0",
      "model_name": "SliderStyleModel",
      "state": {
       "description_width": ""
      }
     },
     "2d68d687b35147109c36ad1d2297e5ce": {
      "model_module": "@jupyter-widgets/controls",
      "model_module_version": "1.5.0",
      "model_name": "HBoxModel",
      "state": {
       "children": [
        "IPY_MODEL_95182f753da6497a8b90cbbce9b41254",
        "IPY_MODEL_829bf7eecf0748a9a232e3980ad080bb"
       ],
       "layout": "IPY_MODEL_303a5d0380ac40579eb5bab2e2ccbeb1"
      }
     },
     "2d6ec90f2bbb4ede8754e6e54ec751c6": {
      "model_module": "@jupyter-widgets/base",
      "model_module_version": "1.2.0",
      "model_name": "LayoutModel",
      "state": {}
     },
     "2dbc2cf1b35242afb40e0b508da86fc3": {
      "model_module": "@jupyter-widgets/controls",
      "model_module_version": "1.5.0",
      "model_name": "SliderStyleModel",
      "state": {
       "description_width": ""
      }
     },
     "2de11d2a4d6c42009f17d72f85ed2369": {
      "model_module": "@jupyter-widgets/base",
      "model_module_version": "1.2.0",
      "model_name": "LayoutModel",
      "state": {}
     },
     "2de1294cd84643d490c6c5923f6c6c7b": {
      "model_module": "@jupyter-widgets/controls",
      "model_module_version": "1.5.0",
      "model_name": "FloatSliderModel",
      "state": {
       "description": "Exposure",
       "layout": "IPY_MODEL_db129c8141164a759780b3aa5866cdfd",
       "max": 8,
       "min": -8,
       "step": 0.1,
       "style": "IPY_MODEL_5bcd09bfb62e4eeba461860702a4dedd"
      }
     },
     "2dff0478361e4c9ca0c254720cc6312c": {
      "model_module": "@jupyter-widgets/base",
      "model_module_version": "1.2.0",
      "model_name": "LayoutModel",
      "state": {}
     },
     "2e20ffd0767541999dcec4530b392d39": {
      "model_module": "@jupyter-widgets/controls",
      "model_module_version": "1.5.0",
      "model_name": "ButtonStyleModel",
      "state": {}
     },
     "2e2377d265a84944a7a49c799f82c9e9": {
      "model_module": "@jupyter-widgets/controls",
      "model_module_version": "1.5.0",
      "model_name": "CheckboxModel",
      "state": {
       "description": "Disable Medicina",
       "disabled": false,
       "layout": "IPY_MODEL_0d175bce84814f39ad4e81139c39348e",
       "style": "IPY_MODEL_8e06d188462e47f9a8e108104215ed94",
       "value": false
      }
     },
     "2e335289e9f54f6483487e557387feb5": {
      "model_module": "@jupyter-widgets/controls",
      "model_module_version": "1.5.0",
      "model_name": "SliderStyleModel",
      "state": {
       "description_width": ""
      }
     },
     "2ee4f9eb8f2a4bbbbab773a387c35e26": {
      "model_module": "@jupyter-widgets/base",
      "model_module_version": "1.2.0",
      "model_name": "LayoutModel",
      "state": {}
     },
     "2f0114178c7a450595ffdc1aadee622f": {
      "model_module": "jupyter-matplotlib",
      "model_module_version": "^0.7.2",
      "model_name": "ToolbarModel",
      "state": {
       "layout": "IPY_MODEL_e0ecc473e4c54f849f11fe6e96897a1c",
       "toolitems": [
        [
         "Home",
         "Reset original view",
         "home",
         "home"
        ],
        [
         "Back",
         "Back to previous view",
         "arrow-left",
         "back"
        ],
        [
         "Forward",
         "Forward to next view",
         "arrow-right",
         "forward"
        ],
        [
         "Pan",
         "Pan axes with left mouse, zoom with right",
         "arrows",
         "pan"
        ],
        [
         "Zoom",
         "Zoom to rectangle",
         "square-o",
         "zoom"
        ],
        [
         "Download",
         "Download plot",
         "floppy-o",
         "save_figure"
        ]
       ]
      }
     },
     "2f0c08fca8574f0095a852df522c6e8c": {
      "model_module": "@jupyter-widgets/base",
      "model_module_version": "1.2.0",
      "model_name": "LayoutModel",
      "state": {}
     },
     "2f1a5710332a42ef8046a95c2aa4e50a": {
      "model_module": "@jupyter-widgets/base",
      "model_module_version": "1.2.0",
      "model_name": "LayoutModel",
      "state": {}
     },
     "2f273923e1a044868130ce933c9ef126": {
      "model_module": "@jupyter-widgets/controls",
      "model_module_version": "1.5.0",
      "model_name": "ButtonModel",
      "state": {
       "description": "Reset Protected Area",
       "layout": "IPY_MODEL_70a8a7b6b0714d568f3ef445a9f12886",
       "style": "IPY_MODEL_838613deafe54221a59cb870e3261458"
      }
     },
     "2f2762a4517d43228895df1206f512bf": {
      "model_module": "@jupyter-widgets/controls",
      "model_module_version": "1.5.0",
      "model_name": "ButtonModel",
      "state": {
       "description": "Reset Protected Area",
       "layout": "IPY_MODEL_d65b5b4bd2414f9184aee11bdb1aeea8",
       "style": "IPY_MODEL_f05bba48945c4800be9aeb70b590a978"
      }
     },
     "2f5cc8ee889f426b97d565e85beae82e": {
      "model_module": "@jupyter-widgets/controls",
      "model_module_version": "1.5.0",
      "model_name": "ButtonStyleModel",
      "state": {}
     },
     "2f6273d43b644666bd8183a169ff456d": {
      "model_module": "@jupyter-widgets/base",
      "model_module_version": "1.2.0",
      "model_name": "LayoutModel",
      "state": {}
     },
     "2f95b1064fd94130af3c93bde7dd8836": {
      "model_module": "@jupyter-widgets/base",
      "model_module_version": "1.2.0",
      "model_name": "LayoutModel",
      "state": {}
     },
     "2fc4a61894594e5bae6ff723127789ba": {
      "model_module": "@jupyter-widgets/base",
      "model_module_version": "1.2.0",
      "model_name": "LayoutModel",
      "state": {
       "border": "solid 4px #222",
       "margin": "4px",
       "padding": "0"
      }
     },
     "2fef9e733d2b434e87ebeb40d5124803": {
      "model_module": "@jupyter-widgets/controls",
      "model_module_version": "1.5.0",
      "model_name": "DescriptionStyleModel",
      "state": {
       "description_width": ""
      }
     },
     "2ff2f7d37aa64ca3b101333ad6a7f180": {
      "model_module": "@jupyter-widgets/controls",
      "model_module_version": "1.5.0",
      "model_name": "DescriptionStyleModel",
      "state": {
       "description_width": ""
      }
     },
     "30045e567ff34ec785d4c48e958ab6fd": {
      "model_module": "@jupyter-widgets/base",
      "model_module_version": "1.2.0",
      "model_name": "LayoutModel",
      "state": {}
     },
     "300ed93eef2241a286f9c0e0640a08ab": {
      "model_module": "@jupyter-widgets/controls",
      "model_module_version": "1.5.0",
      "model_name": "ButtonModel",
      "state": {
       "description": "Reset Protected Area",
       "layout": "IPY_MODEL_4f87929db1f64b97a52ce146f036c8cb",
       "style": "IPY_MODEL_3aaaad7a503e4875ab0badcbe84d69da"
      }
     },
     "301505af7fa34598bc171970e5d447a6": {
      "model_module": "@jupyter-widgets/controls",
      "model_module_version": "1.5.0",
      "model_name": "ButtonModel",
      "state": {
       "description": "Reset Hue Controls",
       "layout": "IPY_MODEL_33af3fb0102048c4a4b308be1806acb2",
       "style": "IPY_MODEL_9175af8c166a4c59831f4a4699ef4db7"
      }
     },
     "3037660bd7d2459d87262d85e398332a": {
      "model_module": "@jupyter-widgets/controls",
      "model_module_version": "1.5.0",
      "model_name": "DropdownModel",
      "state": {
       "_options_labels": [
        "tanh",
        "atan",
        "simple"
       ],
       "description": "Compression Function:",
       "index": 0,
       "layout": "IPY_MODEL_14957029bf7a40b9ade73792bf3da994",
       "style": "IPY_MODEL_c0bbac2a51a845e9ab340669cf01f912"
      }
     },
     "303a5d0380ac40579eb5bab2e2ccbeb1": {
      "model_module": "@jupyter-widgets/base",
      "model_module_version": "1.2.0",
      "model_name": "LayoutModel",
      "state": {}
     },
     "3041291c9da9411597de69491b41e040": {
      "model_module": "@jupyter-widgets/base",
      "model_module_version": "1.2.0",
      "model_name": "LayoutModel",
      "state": {}
     },
     "30676d167d7b44869a5cfe322e21fd38": {
      "model_module": "@jupyter-widgets/base",
      "model_module_version": "1.2.0",
      "model_name": "LayoutModel",
      "state": {}
     },
     "30a08e5dd69d40c08466178384eac90a": {
      "model_module": "@jupyter-widgets/base",
      "model_module_version": "1.2.0",
      "model_name": "LayoutModel",
      "state": {}
     },
     "30bc2ed8c6934ddaa37468c203cb9004": {
      "model_module": "@jupyter-widgets/base",
      "model_module_version": "1.2.0",
      "model_name": "LayoutModel",
      "state": {}
     },
     "30e0e15e52464a71bdd0123316ca041a": {
      "model_module": "@jupyter-widgets/controls",
      "model_module_version": "1.5.0",
      "model_name": "ButtonStyleModel",
      "state": {}
     },
     "30e4ce77a5c34b0587c39fc6cbaffe99": {
      "model_module": "@jupyter-widgets/controls",
      "model_module_version": "1.5.0",
      "model_name": "TabModel",
      "state": {
       "_titles": {
        "0": "Global Controls"
       },
       "children": [
        "IPY_MODEL_3bb96ee7efb5460c9b33d033f4f4be20"
       ],
       "layout": "IPY_MODEL_fb52c2edde8f4b9d857769bb1f8dedb9"
      }
     },
     "30f8f98889db495bb7156e42ff636a49": {
      "model_module": "@jupyter-widgets/controls",
      "model_module_version": "1.5.0",
      "model_name": "DropdownModel",
      "state": {
       "_options_labels": [
        "tanh",
        "atan",
        "simple"
       ],
       "description": "Compression Function:",
       "index": 0,
       "layout": "IPY_MODEL_3aa98b485ffe45449c71f9d0637fd490",
       "style": "IPY_MODEL_49af23ad323142ffa9c733010f28eba5"
      }
     },
     "3173babb340f4a80ab978f8afb2a221b": {
      "model_module": "@jupyter-widgets/base",
      "model_module_version": "1.2.0",
      "model_name": "LayoutModel",
      "state": {}
     },
     "320e530af9ea4368b5ae31f598e56ba9": {
      "model_module": "@jupyter-widgets/controls",
      "model_module_version": "1.5.0",
      "model_name": "SliderStyleModel",
      "state": {
       "description_width": ""
      }
     },
     "322faa0ef2034cc8bf82f7ae32cc23db": {
      "model_module": "@jupyter-widgets/base",
      "model_module_version": "1.2.0",
      "model_name": "LayoutModel",
      "state": {}
     },
     "32a9768278914030aa4affe4a1170b30": {
      "model_module": "@jupyter-widgets/controls",
      "model_module_version": "1.5.0",
      "model_name": "VBoxModel",
      "state": {
       "children": [
        "IPY_MODEL_b7987a20d890445c889b84f79e5ed035",
        "IPY_MODEL_f97d8a6df2844499a3fee28023d58ab3",
        "IPY_MODEL_c7971dacf392490b9b8436b257cce652"
       ],
       "layout": "IPY_MODEL_68caa33adec942c3b932e3460ee4a10e"
      }
     },
     "32ab7e359e374d1e8bd25e349c94eca3": {
      "model_module": "@jupyter-widgets/controls",
      "model_module_version": "1.5.0",
      "model_name": "HBoxModel",
      "state": {
       "children": [
        "IPY_MODEL_602a85f20dbc4fe3bcc00256874c4d9c",
        "IPY_MODEL_bd673d314b784618876753b1ef74348d",
        "IPY_MODEL_c40bbdc3b644480482100be795ceaefe",
        "IPY_MODEL_b24028e35fc84f42993d316561be8904"
       ],
       "layout": "IPY_MODEL_37c3c9baf6904d56981d53f804f67212"
      }
     },
     "32b8c836fcbc4377ada465f018008bef": {
      "model_module": "@jupyter-widgets/controls",
      "model_module_version": "1.5.0",
      "model_name": "FloatSliderModel",
      "state": {
       "description": "90°",
       "layout": "IPY_MODEL_94d32e5e2e944f309e0311b8c634fd03",
       "max": 1,
       "min": -1,
       "step": 0.01,
       "style": "IPY_MODEL_bc3d22f483e942f0be71e7c0dc6d340c"
      }
     },
     "32eab8b90d7a436c8758303ea5129fb6": {
      "model_module": "@jupyter-widgets/controls",
      "model_module_version": "1.5.0",
      "model_name": "CheckboxModel",
      "state": {
       "description": "Disable Medicina",
       "disabled": false,
       "layout": "IPY_MODEL_76e27e3a6e7344669febbf07c4d204d6",
       "style": "IPY_MODEL_9aef3669bf744f9c88325621de75a52b",
       "value": false
      }
     },
     "330b053676194a87a1b3952f8dbdaebb": {
      "model_module": "@jupyter-widgets/base",
      "model_module_version": "1.2.0",
      "model_name": "LayoutModel",
      "state": {}
     },
     "3336033616f74bddb6bc7992d4015d9c": {
      "model_module": "@jupyter-widgets/base",
      "model_module_version": "1.2.0",
      "model_name": "LayoutModel",
      "state": {}
     },
     "3340ee5acd9a403d89e2a1513701a928": {
      "model_module": "@jupyter-widgets/controls",
      "model_module_version": "1.5.0",
      "model_name": "SliderStyleModel",
      "state": {
       "description_width": ""
      }
     },
     "3349bd81cc8d4c96884e4d20c9aade28": {
      "model_module": "@jupyter-widgets/controls",
      "model_module_version": "1.5.0",
      "model_name": "SliderStyleModel",
      "state": {
       "description_width": ""
      }
     },
     "3352171ae3254a98affcf69882662cfc": {
      "model_module": "@jupyter-widgets/controls",
      "model_module_version": "1.5.0",
      "model_name": "SliderStyleModel",
      "state": {
       "description_width": ""
      }
     },
     "33a5168b02a24c9690c5265bfdff6c86": {
      "model_module": "@jupyter-widgets/controls",
      "model_module_version": "1.5.0",
      "model_name": "SliderStyleModel",
      "state": {
       "description_width": ""
      }
     },
     "33af3fb0102048c4a4b308be1806acb2": {
      "model_module": "@jupyter-widgets/base",
      "model_module_version": "1.2.0",
      "model_name": "LayoutModel",
      "state": {}
     },
     "343b5b1898224318990bd675f2d0e6a5": {
      "model_module": "@jupyter-widgets/base",
      "model_module_version": "1.2.0",
      "model_name": "LayoutModel",
      "state": {}
     },
     "3465ad79a56a49b6ad6c7bcb99bc03ce": {
      "model_module": "@jupyter-widgets/base",
      "model_module_version": "1.2.0",
      "model_name": "LayoutModel",
      "state": {}
     },
     "34a051ef898c47aebd23060e32c28ab2": {
      "model_module": "@jupyter-widgets/controls",
      "model_module_version": "1.5.0",
      "model_name": "FloatSliderModel",
      "state": {
       "description": "45°",
       "layout": "IPY_MODEL_37398f3bc20a4ea8be81078afbd1c78a",
       "max": 1,
       "min": -1,
       "step": 0.01,
       "style": "IPY_MODEL_f2ba9c653122498194c377aa5c194d74"
      }
     },
     "34cee6b535d74f048c228b102633c50e": {
      "model_module": "@jupyter-widgets/controls",
      "model_module_version": "1.5.0",
      "model_name": "SliderStyleModel",
      "state": {
       "description_width": ""
      }
     },
     "34f38ba964224b4bb9b45e98f785f33f": {
      "model_module": "@jupyter-widgets/base",
      "model_module_version": "1.2.0",
      "model_name": "LayoutModel",
      "state": {}
     },
     "353d01b4f8264e35972b0072ca9a02ba": {
      "model_module": "@jupyter-widgets/base",
      "model_module_version": "1.2.0",
      "model_name": "LayoutModel",
      "state": {
       "border": "solid 4px #222",
       "margin": "4px",
       "padding": "0"
      }
     },
     "354c761f3fbb42bb919f31f13999c650": {
      "model_module": "@jupyter-widgets/base",
      "model_module_version": "1.2.0",
      "model_name": "LayoutModel",
      "state": {}
     },
     "35ce11651df04b658b456c7e33ce8c6e": {
      "model_module": "@jupyter-widgets/controls",
      "model_module_version": "1.5.0",
      "model_name": "FloatSliderModel",
      "state": {
       "description": "90°",
       "layout": "IPY_MODEL_59be2b851086415d803fc63047a8d7da",
       "max": 1,
       "min": -1,
       "step": 0.01,
       "style": "IPY_MODEL_20551ce3d1154d3c9959fa3c72e4f2f3"
      }
     },
     "3603d40ca14544a38694ec90248f3589": {
      "model_module": "@jupyter-widgets/controls",
      "model_module_version": "1.5.0",
      "model_name": "FloatSliderModel",
      "state": {
       "description": "315°",
       "layout": "IPY_MODEL_7097b4ceda6b4226a3f6807ef48edfc8",
       "max": 1,
       "min": -1,
       "step": 0.01,
       "style": "IPY_MODEL_c9600d90f7d840158f6b10d2d5bebe6b"
      }
     },
     "3608b46010ab4d49bd01bb4e6563ea6d": {
      "model_module": "@jupyter-widgets/base",
      "model_module_version": "1.2.0",
      "model_name": "LayoutModel",
      "state": {}
     },
     "362df6b3d95648f1ac9e36def5d41faf": {
      "model_module": "@jupyter-widgets/controls",
      "model_module_version": "1.5.0",
      "model_name": "CheckboxModel",
      "state": {
       "description": "Disable Medicina",
       "disabled": false,
       "layout": "IPY_MODEL_c0c3fa2826be4f35bd38b2a8eda6279c",
       "style": "IPY_MODEL_2d4085353ea146f0b44dfa00687d8e03",
       "value": false
      }
     },
     "368f8dcc2cbd46eda9ee3da8974a1ae3": {
      "model_module": "@jupyter-widgets/controls",
      "model_module_version": "1.5.0",
      "model_name": "SliderStyleModel",
      "state": {
       "description_width": ""
      }
     },
     "36b24cc62c1a45af8eba39b766e58a35": {
      "model_module": "@jupyter-widgets/base",
      "model_module_version": "1.2.0",
      "model_name": "LayoutModel",
      "state": {}
     },
     "36f1e0b434ac4c69966075b1da617ecc": {
      "model_module": "@jupyter-widgets/base",
      "model_module_version": "1.2.0",
      "model_name": "LayoutModel",
      "state": {}
     },
     "372520583c4547c0abac161121c00bab": {
      "model_module": "@jupyter-widgets/controls",
      "model_module_version": "1.5.0",
      "model_name": "TabModel",
      "state": {
       "_titles": {
        "0": "Global Controls",
        "1": "Compression Controls"
       },
       "children": [
        "IPY_MODEL_136ddbc2f37041a9bdb5e66113cbfc81",
        "IPY_MODEL_932f4c2dc99b421697ad8d2eae8203f6"
       ],
       "layout": "IPY_MODEL_d04c0e1ecaf74ae9ba1549e2df249220"
      }
     },
     "37398f3bc20a4ea8be81078afbd1c78a": {
      "model_module": "@jupyter-widgets/base",
      "model_module_version": "1.2.0",
      "model_name": "LayoutModel",
      "state": {}
     },
     "373ed67c25384a888d07b646987d3287": {
      "model_module": "@jupyter-widgets/controls",
      "model_module_version": "1.5.0",
      "model_name": "SliderStyleModel",
      "state": {
       "description_width": ""
      }
     },
     "37692d689f164466b684b7d49996ed2c": {
      "model_module": "@jupyter-widgets/base",
      "model_module_version": "1.2.0",
      "model_name": "LayoutModel",
      "state": {
       "align_items": "stretch",
       "display": "flex",
       "flex_flow": "column",
       "width": "1128px"
      }
     },
     "378fcfd602644a4dbfba3339cd5a837d": {
      "model_module": "@jupyter-widgets/base",
      "model_module_version": "1.2.0",
      "model_name": "LayoutModel",
      "state": {}
     },
     "37c3c9baf6904d56981d53f804f67212": {
      "model_module": "@jupyter-widgets/base",
      "model_module_version": "1.2.0",
      "model_name": "LayoutModel",
      "state": {}
     },
     "37dcfe9600a34c0f90deba2a1ab2ce57": {
      "model_module": "@jupyter-widgets/base",
      "model_module_version": "1.2.0",
      "model_name": "LayoutModel",
      "state": {}
     },
     "37dd806370d843f982dc04801b895d65": {
      "model_module": "@jupyter-widgets/base",
      "model_module_version": "1.2.0",
      "model_name": "LayoutModel",
      "state": {}
     },
     "3866cf2ae6d04567a40fe8e735bcb092": {
      "model_module": "@jupyter-widgets/controls",
      "model_module_version": "1.5.0",
      "model_name": "HBoxModel",
      "state": {
       "children": [
        "IPY_MODEL_32eab8b90d7a436c8758303ea5129fb6",
        "IPY_MODEL_848243cdbe844bf0927d626de65e1653",
        "IPY_MODEL_bf9dda2efebf4477b63cc2a27f7bcb6a",
        "IPY_MODEL_ba89866f47214fdaac35a378b15eb20b"
       ],
       "layout": "IPY_MODEL_2f0c08fca8574f0095a852df522c6e8c"
      }
     },
     "386ff094f1784239a8bf60d3426ba2f9": {
      "model_module": "@jupyter-widgets/base",
      "model_module_version": "1.2.0",
      "model_name": "LayoutModel",
      "state": {}
     },
     "38808c337661456c8c34fc3e469c1881": {
      "model_module": "@jupyter-widgets/controls",
      "model_module_version": "1.5.0",
      "model_name": "DescriptionStyleModel",
      "state": {
       "description_width": ""
      }
     },
     "38818f80da904b4daaaa9d17720269fa": {
      "model_module": "@jupyter-widgets/output",
      "model_module_version": "1.0.0",
      "model_name": "OutputModel",
      "state": {
       "layout": "IPY_MODEL_12e19fd806184d89ba426f5c367942ac",
       "outputs": [
        {
         "data": {
          "application/vnd.jupyter.widget-view+json": {
           "model_id": "23a54d44238442dfa30aa8f897cc7e7d",
           "version_major": 2,
           "version_minor": 0
          },
          "text/plain": "Canvas(toolbar=Toolbar(toolitems=[('Home', 'Reset original view', 'home', 'home'), ('Back', 'Back to previous …"
         },
         "metadata": {},
         "output_type": "display_data"
        }
       ]
      }
     },
     "3921971f8a434ef596543954d4068dd4": {
      "model_module": "@jupyter-widgets/controls",
      "model_module_version": "1.5.0",
      "model_name": "ButtonModel",
      "state": {
       "description": "Reset Compression Controls",
       "layout": "IPY_MODEL_ec98a13add974c7182076a81a99e8036",
       "style": "IPY_MODEL_3e6ed564612445ff9296902596c9f119"
      }
     },
     "39229e0f1f984bbbb9aa9f65867bc2e8": {
      "model_module": "@jupyter-widgets/base",
      "model_module_version": "1.2.0",
      "model_name": "LayoutModel",
      "state": {}
     },
     "39b1aef98cad40a5a6cbd51a361d0d38": {
      "model_module": "@jupyter-widgets/controls",
      "model_module_version": "1.5.0",
      "model_name": "FloatSliderModel",
      "state": {
       "description": "180°",
       "layout": "IPY_MODEL_97ab81979860472b86c5541e6d123ab9",
       "max": 1,
       "min": -1,
       "step": 0.01,
       "style": "IPY_MODEL_af83dfece00d41f79cf9c2fc36d0b692"
      }
     },
     "39bf00375ce74b7994005214759972fc": {
      "model_module": "@jupyter-widgets/controls",
      "model_module_version": "1.5.0",
      "model_name": "SliderStyleModel",
      "state": {
       "description_width": ""
      }
     },
     "39e2c7f7178a42f9bb9fed438733ba71": {
      "model_module": "@jupyter-widgets/controls",
      "model_module_version": "1.5.0",
      "model_name": "FloatSliderModel",
      "state": {
       "description": "90°",
       "layout": "IPY_MODEL_fe15a6cb01c14b74b62572fb5db237e7",
       "max": 1,
       "min": -1,
       "step": 0.01,
       "style": "IPY_MODEL_27814a62a40d45618c47d0ba14307485"
      }
     },
     "3a100d564ab14acfa49bfb400cb54edc": {
      "model_module": "@jupyter-widgets/base",
      "model_module_version": "1.2.0",
      "model_name": "LayoutModel",
      "state": {}
     },
     "3a3aff5e812947feb9665ad2f618731d": {
      "model_module": "@jupyter-widgets/controls",
      "model_module_version": "1.5.0",
      "model_name": "SliderStyleModel",
      "state": {
       "description_width": ""
      }
     },
     "3a9121610aa840d0b093672bc8149935": {
      "model_module": "@jupyter-widgets/controls",
      "model_module_version": "1.5.0",
      "model_name": "SliderStyleModel",
      "state": {
       "description_width": ""
      }
     },
     "3aa98b485ffe45449c71f9d0637fd490": {
      "model_module": "@jupyter-widgets/base",
      "model_module_version": "1.2.0",
      "model_name": "LayoutModel",
      "state": {}
     },
     "3aaaad7a503e4875ab0badcbe84d69da": {
      "model_module": "@jupyter-widgets/controls",
      "model_module_version": "1.5.0",
      "model_name": "ButtonStyleModel",
      "state": {}
     },
     "3ac72dad21e1424b8399622abe8d829d": {
      "model_module": "@jupyter-widgets/base",
      "model_module_version": "1.2.0",
      "model_name": "LayoutModel",
      "state": {}
     },
     "3ae7c611479741698c3149f78b00860b": {
      "model_module": "@jupyter-widgets/base",
      "model_module_version": "1.2.0",
      "model_name": "LayoutModel",
      "state": {}
     },
     "3af679b7217f4ed59cf4a523e8a7451b": {
      "model_module": "@jupyter-widgets/controls",
      "model_module_version": "1.5.0",
      "model_name": "ButtonModel",
      "state": {
       "description": "Reset Compression Controls",
       "layout": "IPY_MODEL_d1b7e948bbde4040ae7a5cc7da261031",
       "style": "IPY_MODEL_c9fc91b0169448e18e09477e2dab45c8"
      }
     },
     "3afe54bfdf7f4a9a9f34252e59e14c53": {
      "model_module": "@jupyter-widgets/controls",
      "model_module_version": "1.5.0",
      "model_name": "HBoxModel",
      "state": {
       "children": [
        "IPY_MODEL_5b0da8ec483e49d79e958d4f20b3c1fc",
        "IPY_MODEL_b88004289f754df685d4db915d792d0f",
        "IPY_MODEL_a24d88a08ee341f6b36d5ef72dd302db"
       ],
       "layout": "IPY_MODEL_bb041ed005fa45bca2f14927712370ac"
      }
     },
     "3b018abaec844e329c15f84b3b73edf2": {
      "model_module": "@jupyter-widgets/controls",
      "model_module_version": "1.5.0",
      "model_name": "VBoxModel",
      "state": {
       "children": [
        "IPY_MODEL_283de9c36b464c1f9e4631c5fccd430c",
        "IPY_MODEL_857dff0af4d74df8b9d3e3823c3a3ce9",
        "IPY_MODEL_473476026be247ddaad452509850e186"
       ],
       "layout": "IPY_MODEL_da58bb8e09774011a0a4b408710c3ef6"
      }
     },
     "3b2669b00a4d481983def0daa1e0e140": {
      "model_module": "@jupyter-widgets/controls",
      "model_module_version": "1.5.0",
      "model_name": "FloatSliderModel",
      "state": {
       "description": "45°",
       "layout": "IPY_MODEL_080c2b7fb0504172b0b09953d3a3d586",
       "max": 1,
       "min": -1,
       "step": 0.01,
       "style": "IPY_MODEL_2c611f3054404149b84becafb28e88f2"
      }
     },
     "3b2ba770aa7045a0a242a5517ca1b24e": {
      "model_module": "@jupyter-widgets/base",
      "model_module_version": "1.2.0",
      "model_name": "LayoutModel",
      "state": {}
     },
     "3b2f8c9023494c9d801b43c7e38c108b": {
      "model_module": "@jupyter-widgets/controls",
      "model_module_version": "1.5.0",
      "model_name": "SliderStyleModel",
      "state": {
       "description_width": ""
      }
     },
     "3b92e43cacde448190dc0471542f0cae": {
      "model_module": "@jupyter-widgets/controls",
      "model_module_version": "1.5.0",
      "model_name": "DropdownModel",
      "state": {
       "_options_labels": [
        "tanh",
        "atan",
        "simple"
       ],
       "description": "Compression Function:",
       "index": 0,
       "layout": "IPY_MODEL_83461667c2fd4eeda85996a702737441",
       "style": "IPY_MODEL_d2f6ef975c7f43688d1807297eb42a82"
      }
     },
     "3b9905a3d20145619d70af03746b64c4": {
      "model_module": "@jupyter-widgets/base",
      "model_module_version": "1.2.0",
      "model_name": "LayoutModel",
      "state": {
       "border": "solid 4px #222",
       "margin": "4px",
       "padding": "0"
      }
     },
     "3b9e06d98e10451789947be232590519": {
      "model_module": "@jupyter-widgets/controls",
      "model_module_version": "1.5.0",
      "model_name": "ButtonStyleModel",
      "state": {}
     },
     "3ba97b5df4d74df98980e722f8b45bc8": {
      "model_module": "@jupyter-widgets/base",
      "model_module_version": "1.2.0",
      "model_name": "LayoutModel",
      "state": {}
     },
     "3bb96ee7efb5460c9b33d033f4f4be20": {
      "model_module": "@jupyter-widgets/controls",
      "model_module_version": "1.5.0",
      "model_name": "HBoxModel",
      "state": {
       "children": [
        "IPY_MODEL_25380e0caed84232a95ed792254f92d2",
        "IPY_MODEL_96eb8e51868b4ec7a47271e08e145f1a",
        "IPY_MODEL_45bcd964a93a4682acd161287267d134",
        "IPY_MODEL_51163f154e40461ab05181483c7e6829"
       ],
       "layout": "IPY_MODEL_04a85a7aaa2b4c61b951bbd636250f37"
      }
     },
     "3be0be58639446be8533502ff8560d0c": {
      "model_module": "@jupyter-widgets/base",
      "model_module_version": "1.2.0",
      "model_name": "LayoutModel",
      "state": {}
     },
     "3bfff53fc425458c845b539337cfb313": {
      "model_module": "@jupyter-widgets/base",
      "model_module_version": "1.2.0",
      "model_name": "LayoutModel",
      "state": {}
     },
     "3c425d9fad154fee8affb824673377d2": {
      "model_module": "@jupyter-widgets/base",
      "model_module_version": "1.2.0",
      "model_name": "LayoutModel",
      "state": {}
     },
     "3c5630a99b724cbd9ef7b20ffaf64e8d": {
      "model_module": "@jupyter-widgets/controls",
      "model_module_version": "1.5.0",
      "model_name": "ButtonStyleModel",
      "state": {}
     },
     "3c6509933d47427f90ab1433a0bd8f56": {
      "model_module": "@jupyter-widgets/base",
      "model_module_version": "1.2.0",
      "model_name": "LayoutModel",
      "state": {}
     },
     "3cc57e33abc048038d9f1db852163fc5": {
      "model_module": "@jupyter-widgets/controls",
      "model_module_version": "1.5.0",
      "model_name": "SliderStyleModel",
      "state": {
       "description_width": ""
      }
     },
     "3cded6d93bcd4bb381231d14f1455c99": {
      "model_module": "@jupyter-widgets/base",
      "model_module_version": "1.2.0",
      "model_name": "LayoutModel",
      "state": {
       "align_items": "stretch",
       "display": "flex",
       "flex_flow": "column",
       "width": "1128px"
      }
     },
     "3ce3583214314a2f81c0fb85af3cf45a": {
      "model_module": "@jupyter-widgets/base",
      "model_module_version": "1.2.0",
      "model_name": "LayoutModel",
      "state": {}
     },
     "3d47a5e243704b7b845a4aeaa789dd09": {
      "model_module": "@jupyter-widgets/controls",
      "model_module_version": "1.5.0",
      "model_name": "ButtonStyleModel",
      "state": {}
     },
     "3d60418cb2ef426bb5d6a0cd010caaaa": {
      "model_module": "@jupyter-widgets/controls",
      "model_module_version": "1.5.0",
      "model_name": "TabModel",
      "state": {
       "_titles": {
        "0": "Global Controls"
       },
       "children": [
        "IPY_MODEL_ad39c5c485a64af889845964ede2b81c"
       ],
       "layout": "IPY_MODEL_aced55c9cae041cfb915313bf7a682cd"
      }
     },
     "3d858607bb96460f9eacb7fd5f28ddc4": {
      "model_module": "@jupyter-widgets/controls",
      "model_module_version": "1.5.0",
      "model_name": "ButtonModel",
      "state": {
       "description": "Export Image",
       "layout": "IPY_MODEL_ea33127a56584855837e384ed9186d70",
       "style": "IPY_MODEL_ba0d412363404c7192a2d3dcdb222108"
      }
     },
     "3d993dfffcc54b73aed33c8b098288d4": {
      "model_module": "@jupyter-widgets/controls",
      "model_module_version": "1.5.0",
      "model_name": "DropdownModel",
      "state": {
       "_options_labels": [
        "tanh",
        "atan",
        "simple"
       ],
       "description": "Compression Function:",
       "index": 0,
       "layout": "IPY_MODEL_86a4ac2e50534098979dae3bb079798b",
       "style": "IPY_MODEL_b70dc4c1ecbe499d9399479634fdef50"
      }
     },
     "3da5d2cd0a9c4bb8a89ba0044c26675d": {
      "model_module": "@jupyter-widgets/controls",
      "model_module_version": "1.5.0",
      "model_name": "SliderStyleModel",
      "state": {
       "description_width": ""
      }
     },
     "3da6adbf11644cf0858d9990bfb16cbc": {
      "model_module": "@jupyter-widgets/controls",
      "model_module_version": "1.5.0",
      "model_name": "ButtonStyleModel",
      "state": {}
     },
     "3dcf5997622443e3a336c355c5879f70": {
      "model_module": "@jupyter-widgets/output",
      "model_module_version": "1.0.0",
      "model_name": "OutputModel",
      "state": {
       "layout": "IPY_MODEL_a131e9c7ae3042c6bf9180a7a4a6b0e4",
       "outputs": [
        {
         "data": {
          "application/vnd.jupyter.widget-view+json": {
           "model_id": "9adfb4dc3bee4499b95a17e0e2a2b285",
           "version_major": 2,
           "version_minor": 0
          },
          "text/plain": "Canvas(toolbar=Toolbar(toolitems=[('Home', 'Reset original view', 'home', 'home'), ('Back', 'Back to previous …"
         },
         "metadata": {},
         "output_type": "display_data"
        }
       ]
      }
     },
     "3e05fb8406584688b9b49b7fdaf81b62": {
      "model_module": "@jupyter-widgets/controls",
      "model_module_version": "1.5.0",
      "model_name": "SliderStyleModel",
      "state": {
       "description_width": ""
      }
     },
     "3e104fbe09854594a712fff413fd8264": {
      "model_module": "@jupyter-widgets/controls",
      "model_module_version": "1.5.0",
      "model_name": "ButtonStyleModel",
      "state": {}
     },
     "3e22b0ebebe84e2e961389eceaa68b76": {
      "model_module": "@jupyter-widgets/controls",
      "model_module_version": "1.5.0",
      "model_name": "CheckboxModel",
      "state": {
       "description": "Disable Medicina",
       "disabled": false,
       "layout": "IPY_MODEL_8d76de4fe23e422485549c8e9d251a0a",
       "style": "IPY_MODEL_5a213f8179ab4748abda4139cb529b2c",
       "value": false
      }
     },
     "3e31e54642de4313990d61d488fc6930": {
      "model_module": "@jupyter-widgets/base",
      "model_module_version": "1.2.0",
      "model_name": "LayoutModel",
      "state": {}
     },
     "3e496c27bd674d1fb692606a40e00415": {
      "model_module": "@jupyter-widgets/controls",
      "model_module_version": "1.5.0",
      "model_name": "VBoxModel",
      "state": {
       "children": [
        "IPY_MODEL_cc93157e71054683a56ce213c3033670",
        "IPY_MODEL_1ae3e3afc4aa468e8db67b766796c5f2",
        "IPY_MODEL_8e1be847cee6457e91abd1b39be33618"
       ],
       "layout": "IPY_MODEL_7b283ac728694fc78d08a395e32622d4"
      }
     },
     "3e4bb1430e364e08986802c081f58d12": {
      "model_module": "@jupyter-widgets/base",
      "model_module_version": "1.2.0",
      "model_name": "LayoutModel",
      "state": {}
     },
     "3e52cbd73aed4a90accd8cf2b0f98391": {
      "model_module": "@jupyter-widgets/base",
      "model_module_version": "1.2.0",
      "model_name": "LayoutModel",
      "state": {
       "align_items": "stretch",
       "display": "flex",
       "flex_flow": "column",
       "width": "1128px"
      }
     },
     "3e54e12a840f4ca0891fbc8e59472cba": {
      "model_module": "@jupyter-widgets/output",
      "model_module_version": "1.0.0",
      "model_name": "OutputModel",
      "state": {
       "layout": "IPY_MODEL_e1bf80f1d6fd481689e6b5a0c69c3201",
       "outputs": [
        {
         "data": {
          "application/vnd.jupyter.widget-view+json": {
           "model_id": "1bb568e98b644764b509d1cfca65fcb3",
           "version_major": 2,
           "version_minor": 0
          },
          "text/plain": "Canvas(toolbar=Toolbar(toolitems=[('Home', 'Reset original view', 'home', 'home'), ('Back', 'Back to previous …"
         },
         "metadata": {},
         "output_type": "display_data"
        }
       ]
      }
     },
     "3e6ed564612445ff9296902596c9f119": {
      "model_module": "@jupyter-widgets/controls",
      "model_module_version": "1.5.0",
      "model_name": "ButtonStyleModel",
      "state": {}
     },
     "3e9f3731499d48c0a6185fd9e3c71004": {
      "model_module": "@jupyter-widgets/base",
      "model_module_version": "1.2.0",
      "model_name": "LayoutModel",
      "state": {}
     },
     "3ec2c6e45e574441b6e1d4f1f93c288d": {
      "model_module": "@jupyter-widgets/base",
      "model_module_version": "1.2.0",
      "model_name": "LayoutModel",
      "state": {}
     },
     "3ece3291099244fc8053afa8999d74df": {
      "model_module": "@jupyter-widgets/base",
      "model_module_version": "1.2.0",
      "model_name": "LayoutModel",
      "state": {}
     },
     "3f364703a49f4cdea47a9fdec7b4b351": {
      "model_module": "@jupyter-widgets/base",
      "model_module_version": "1.2.0",
      "model_name": "LayoutModel",
      "state": {}
     },
     "3f5e65ff1fcf4012a9f0e509c7c2ab7e": {
      "model_module": "@jupyter-widgets/controls",
      "model_module_version": "1.5.0",
      "model_name": "FloatSliderModel",
      "state": {
       "description": "180°",
       "layout": "IPY_MODEL_157db91eeffa4086ba028974c43f1307",
       "max": 1,
       "min": -1,
       "step": 0.01,
       "style": "IPY_MODEL_2d3d0386c3fb41a4afa5496277dc6f56"
      }
     },
     "3f81cd75bce24e209e1ce880883515ab": {
      "model_module": "@jupyter-widgets/base",
      "model_module_version": "1.2.0",
      "model_name": "LayoutModel",
      "state": {}
     },
     "3f961fbc9aa948ce9432f4ca22e90976": {
      "model_module": "@jupyter-widgets/base",
      "model_module_version": "1.2.0",
      "model_name": "LayoutModel",
      "state": {}
     },
     "3fb35cdcd2ab4a5480f22bc008d64275": {
      "model_module": "@jupyter-widgets/base",
      "model_module_version": "1.2.0",
      "model_name": "LayoutModel",
      "state": {}
     },
     "4026dd14437d4caf91010566202f1682": {
      "model_module": "@jupyter-widgets/controls",
      "model_module_version": "1.5.0",
      "model_name": "FloatSliderModel",
      "state": {
       "description": "135°",
       "layout": "IPY_MODEL_15d8e82ee16a451aae9e4d1a702d4380",
       "max": 1,
       "min": -1,
       "step": 0.01,
       "style": "IPY_MODEL_4cde7aa9200b473489cb1a004374468e"
      }
     },
     "404d39944bee42b69af72a3233398b94": {
      "model_module": "@jupyter-widgets/base",
      "model_module_version": "1.2.0",
      "model_name": "LayoutModel",
      "state": {}
     },
     "407c0c5c3a5e43cbb48478d269eabcf6": {
      "model_module": "@jupyter-widgets/controls",
      "model_module_version": "1.5.0",
      "model_name": "FloatSliderModel",
      "state": {
       "description": "135°",
       "layout": "IPY_MODEL_0313bb176f6142c49efa6181d635622e",
       "max": 1,
       "min": -1,
       "step": 0.01,
       "style": "IPY_MODEL_9d7066b3c1a543439393935dccd3dd0a"
      }
     },
     "40f019d863f348b3a2117499f25d0109": {
      "model_module": "@jupyter-widgets/base",
      "model_module_version": "1.2.0",
      "model_name": "LayoutModel",
      "state": {}
     },
     "42554d1cc4c94c2f92667d95a9dca2b8": {
      "model_module": "@jupyter-widgets/controls",
      "model_module_version": "1.5.0",
      "model_name": "ButtonModel",
      "state": {
       "description": "Reset Saturation Controls",
       "layout": "IPY_MODEL_87689a14a42d4028b37fab1462df4fd6",
       "style": "IPY_MODEL_bfe1b3a614e74ea0bba982c6f7dc05cc"
      }
     },
     "433feab9223845acbbcab2951b498160": {
      "model_module": "@jupyter-widgets/controls",
      "model_module_version": "1.5.0",
      "model_name": "FloatSliderModel",
      "state": {
       "description": "Exposure",
       "layout": "IPY_MODEL_5091102ba7e24b09b29afc70fd27c078",
       "max": 8,
       "min": -8,
       "step": 0.1,
       "style": "IPY_MODEL_3b2f8c9023494c9d801b43c7e38c108b"
      }
     },
     "43d4ca91b1644f5489c18686b5fd515d": {
      "model_module": "@jupyter-widgets/base",
      "model_module_version": "1.2.0",
      "model_name": "LayoutModel",
      "state": {}
     },
     "43d76764f8df4a159382820c6fee2edf": {
      "model_module": "@jupyter-widgets/base",
      "model_module_version": "1.2.0",
      "model_name": "LayoutModel",
      "state": {}
     },
     "4421e4bba1e6470b89971b805b0060b5": {
      "model_module": "@jupyter-widgets/base",
      "model_module_version": "1.2.0",
      "model_name": "LayoutModel",
      "state": {}
     },
     "444a6865c3504b0aa288781d63961c3f": {
      "model_module": "@jupyter-widgets/base",
      "model_module_version": "1.2.0",
      "model_name": "LayoutModel",
      "state": {
       "align_items": "stretch",
       "display": "flex",
       "flex_flow": "column",
       "width": "1128px"
      }
     },
     "4499b1cb6bc64a8aa4b3979d89a95f39": {
      "model_module": "@jupyter-widgets/controls",
      "model_module_version": "1.5.0",
      "model_name": "ButtonModel",
      "state": {
       "description": "Export Image",
       "layout": "IPY_MODEL_65b336c80de8492a830395f3341f70c2",
       "style": "IPY_MODEL_3b9e06d98e10451789947be232590519"
      }
     },
     "44b09a27e56d4cbabfc7c8efe76ee77f": {
      "model_module": "@jupyter-widgets/base",
      "model_module_version": "1.2.0",
      "model_name": "LayoutModel",
      "state": {}
     },
     "44ecbd2df3ab4f22b338c2ac77cc5e71": {
      "model_module": "@jupyter-widgets/controls",
      "model_module_version": "1.5.0",
      "model_name": "SliderStyleModel",
      "state": {
       "description_width": ""
      }
     },
     "4514b07caddd4e7db2d08100608e6e70": {
      "model_module": "jupyter-matplotlib",
      "model_module_version": "^0.7.2",
      "model_name": "ToolbarModel",
      "state": {
       "layout": "IPY_MODEL_f0a9798470de442f8ce4b94cacfb9350",
       "toolitems": [
        [
         "Home",
         "Reset original view",
         "home",
         "home"
        ],
        [
         "Back",
         "Back to previous view",
         "arrow-left",
         "back"
        ],
        [
         "Forward",
         "Forward to next view",
         "arrow-right",
         "forward"
        ],
        [
         "Pan",
         "Pan axes with left mouse, zoom with right",
         "arrows",
         "pan"
        ],
        [
         "Zoom",
         "Zoom to rectangle",
         "square-o",
         "zoom"
        ],
        [
         "Download",
         "Download plot",
         "floppy-o",
         "save_figure"
        ]
       ]
      }
     },
     "45335f543b894992980c3d0571ce09f4": {
      "model_module": "@jupyter-widgets/controls",
      "model_module_version": "1.5.0",
      "model_name": "SliderStyleModel",
      "state": {
       "description_width": ""
      }
     },
     "45afcb4746d8470ba093e1b1059ed7ec": {
      "model_module": "@jupyter-widgets/controls",
      "model_module_version": "1.5.0",
      "model_name": "TabModel",
      "state": {
       "_titles": {
        "0": "Global Controls",
        "1": "Compression Controls"
       },
       "children": [
        "IPY_MODEL_e1974a6851bd48408959ca6447da8b6e",
        "IPY_MODEL_ce6fef32ba674eb3bf1545318bcb97df"
       ],
       "layout": "IPY_MODEL_f2a54093154a4e5d84e3d24c07542804"
      }
     },
     "45b6763015034513bb6ab6fce4de0e9d": {
      "model_module": "@jupyter-widgets/base",
      "model_module_version": "1.2.0",
      "model_name": "LayoutModel",
      "state": {}
     },
     "45bcd964a93a4682acd161287267d134": {
      "model_module": "@jupyter-widgets/controls",
      "model_module_version": "1.5.0",
      "model_name": "ButtonModel",
      "state": {
       "description": "Save Figure",
       "layout": "IPY_MODEL_7c26ac03962a4e5b8ab1d541220728cd",
       "style": "IPY_MODEL_158d241734044cff9b8fffd3525861bc"
      }
     },
     "45c6ba60428340bb9cc5c690d95530c5": {
      "model_module": "@jupyter-widgets/base",
      "model_module_version": "1.2.0",
      "model_name": "LayoutModel",
      "state": {}
     },
     "45c7296d5db3447b8fa43545f8b2193f": {
      "model_module": "@jupyter-widgets/base",
      "model_module_version": "1.2.0",
      "model_name": "LayoutModel",
      "state": {}
     },
     "46224a8115224fd6861d3aa38af8433e": {
      "model_module": "@jupyter-widgets/base",
      "model_module_version": "1.2.0",
      "model_name": "LayoutModel",
      "state": {}
     },
     "464b7802117344208212586d681e56dd": {
      "model_module": "@jupyter-widgets/base",
      "model_module_version": "1.2.0",
      "model_name": "LayoutModel",
      "state": {}
     },
     "4671cd1eed3d4860a8a5a94598d17581": {
      "model_module": "@jupyter-widgets/controls",
      "model_module_version": "1.5.0",
      "model_name": "HBoxModel",
      "state": {
       "children": [
        "IPY_MODEL_3e22b0ebebe84e2e961389eceaa68b76",
        "IPY_MODEL_3d858607bb96460f9eacb7fd5f28ddc4",
        "IPY_MODEL_d63e8c55dd77417494a3896665f33f96",
        "IPY_MODEL_0134f49d32974bc6a8c9dc548fbc0207"
       ],
       "layout": "IPY_MODEL_b6c4ffbe9ffd43a4b43ddd90af12f83f"
      }
     },
     "46a23bab9b734994bb6171ed128d6f9a": {
      "model_module": "@jupyter-widgets/base",
      "model_module_version": "1.2.0",
      "model_name": "LayoutModel",
      "state": {}
     },
     "46a4bc3bdf9f43deba01b023dce9e26a": {
      "model_module": "@jupyter-widgets/base",
      "model_module_version": "1.2.0",
      "model_name": "LayoutModel",
      "state": {}
     },
     "46bd9df4061149a89780a04b2f36a7f9": {
      "model_module": "@jupyter-widgets/controls",
      "model_module_version": "1.5.0",
      "model_name": "ButtonStyleModel",
      "state": {}
     },
     "4712a88538b4499f92c36f32b5deacaa": {
      "model_module": "@jupyter-widgets/base",
      "model_module_version": "1.2.0",
      "model_name": "LayoutModel",
      "state": {}
     },
     "473476026be247ddaad452509850e186": {
      "model_module": "@jupyter-widgets/controls",
      "model_module_version": "1.5.0",
      "model_name": "FloatSliderModel",
      "state": {
       "description": "90°",
       "layout": "IPY_MODEL_98b3bddf21d84655a6aee1e2d87f9004",
       "max": 1,
       "min": -1,
       "step": 0.01,
       "style": "IPY_MODEL_2a385a19a993486097516ee2c9222e39"
      }
     },
     "4738f47936ed42afb73595d995fb94ad": {
      "model_module": "@jupyter-widgets/controls",
      "model_module_version": "1.5.0",
      "model_name": "VBoxModel",
      "state": {
       "children": [
        "IPY_MODEL_fecb572ac4f2482b958d50e57912b0c6"
       ],
       "layout": "IPY_MODEL_b85b2d1b4f0f4539bada112867a8547c"
      }
     },
     "47dfbcbafc2e41a4bc6effefc0e4baa3": {
      "model_module": "@jupyter-widgets/base",
      "model_module_version": "1.2.0",
      "model_name": "LayoutModel",
      "state": {}
     },
     "48643d1210014214a90c902b5ec5a05d": {
      "model_module": "@jupyter-widgets/base",
      "model_module_version": "1.2.0",
      "model_name": "LayoutModel",
      "state": {}
     },
     "48970ecdf719436aa9ab4e6bcc5d98d6": {
      "model_module": "@jupyter-widgets/controls",
      "model_module_version": "1.5.0",
      "model_name": "ButtonStyleModel",
      "state": {}
     },
     "491c5edbddea41b2bff78d0cbc3060f5": {
      "model_module": "@jupyter-widgets/controls",
      "model_module_version": "1.5.0",
      "model_name": "ButtonStyleModel",
      "state": {}
     },
     "498510d0bf7d49559ba98ec68525354b": {
      "model_module": "@jupyter-widgets/controls",
      "model_module_version": "1.5.0",
      "model_name": "SliderStyleModel",
      "state": {
       "description_width": ""
      }
     },
     "49a9403c136445d3aa6b7cefb5c975ee": {
      "model_module": "jupyter-matplotlib",
      "model_module_version": "^0.7.2",
      "model_name": "ToolbarModel",
      "state": {
       "layout": "IPY_MODEL_24970021d340494a9003ed9d5de5bd8b",
       "toolitems": [
        [
         "Home",
         "Reset original view",
         "home",
         "home"
        ],
        [
         "Back",
         "Back to previous view",
         "arrow-left",
         "back"
        ],
        [
         "Forward",
         "Forward to next view",
         "arrow-right",
         "forward"
        ],
        [
         "Pan",
         "Pan axes with left mouse, zoom with right",
         "arrows",
         "pan"
        ],
        [
         "Zoom",
         "Zoom to rectangle",
         "square-o",
         "zoom"
        ],
        [
         "Download",
         "Download plot",
         "floppy-o",
         "save_figure"
        ]
       ]
      }
     },
     "49af23ad323142ffa9c733010f28eba5": {
      "model_module": "@jupyter-widgets/controls",
      "model_module_version": "1.5.0",
      "model_name": "DescriptionStyleModel",
      "state": {
       "description_width": ""
      }
     },
     "4a5ec02e1dca4799930ba91cdc6af1dc": {
      "model_module": "@jupyter-widgets/controls",
      "model_module_version": "1.5.0",
      "model_name": "HBoxModel",
      "state": {
       "children": [
        "IPY_MODEL_aa6f8fc648bc45b79c0b73960ee880e8",
        "IPY_MODEL_bd2da014fa75410892dd5d86e453980b",
        "IPY_MODEL_a3b669db5d684638b690d72b7dd1fd2e",
        "IPY_MODEL_a19a0b927cb7414284509e615a725013"
       ],
       "layout": "IPY_MODEL_06fd5e3922e44a3f80ba8964f0c889d4"
      }
     },
     "4ac7ac9c8b844193b5a55d164e188d8e": {
      "model_module": "@jupyter-widgets/controls",
      "model_module_version": "1.5.0",
      "model_name": "SliderStyleModel",
      "state": {
       "description_width": ""
      }
     },
     "4adb5b21fc014869bba55a9aa4d29d2a": {
      "model_module": "@jupyter-widgets/base",
      "model_module_version": "1.2.0",
      "model_name": "LayoutModel",
      "state": {}
     },
     "4b2dc5603a044dce9d66f68064b2fdab": {
      "model_module": "@jupyter-widgets/base",
      "model_module_version": "1.2.0",
      "model_name": "LayoutModel",
      "state": {}
     },
     "4b3df1c5d1814f0bbf4d4860488cc459": {
      "model_module": "@jupyter-widgets/base",
      "model_module_version": "1.2.0",
      "model_name": "LayoutModel",
      "state": {}
     },
     "4b47b069a845438baf2cf5d23c007ede": {
      "model_module": "@jupyter-widgets/base",
      "model_module_version": "1.2.0",
      "model_name": "LayoutModel",
      "state": {}
     },
     "4b87125282f64118883f3d55114cb16e": {
      "model_module": "@jupyter-widgets/controls",
      "model_module_version": "1.5.0",
      "model_name": "VBoxModel",
      "state": {
       "children": [
        "IPY_MODEL_6ae93dca088347d8bf452c7b90e2481f",
        "IPY_MODEL_2ac066ccbcbb4671a2701406d81cf94a"
       ],
       "layout": "IPY_MODEL_ef0cdbc16766441a897024a26e837cb5"
      }
     },
     "4bfb981de2484b19aa4d5d98feed4649": {
      "model_module": "@jupyter-widgets/base",
      "model_module_version": "1.2.0",
      "model_name": "LayoutModel",
      "state": {
       "border": "solid 4px #222",
       "margin": "4px",
       "padding": "0"
      }
     },
     "4cb194a605934a8baba929603791231e": {
      "model_module": "@jupyter-widgets/controls",
      "model_module_version": "1.5.0",
      "model_name": "SliderStyleModel",
      "state": {
       "description_width": ""
      }
     },
     "4cde7aa9200b473489cb1a004374468e": {
      "model_module": "@jupyter-widgets/controls",
      "model_module_version": "1.5.0",
      "model_name": "SliderStyleModel",
      "state": {
       "description_width": ""
      }
     },
     "4d1ebd64222b4eb392aeac3fb88596fc": {
      "model_module": "@jupyter-widgets/base",
      "model_module_version": "1.2.0",
      "model_name": "LayoutModel",
      "state": {}
     },
     "4d597695ef844802befe59d11c475d1d": {
      "model_module": "@jupyter-widgets/controls",
      "model_module_version": "1.5.0",
      "model_name": "SliderStyleModel",
      "state": {
       "description_width": ""
      }
     },
     "4d6de0df36c140199b33d9173662c275": {
      "model_module": "@jupyter-widgets/controls",
      "model_module_version": "1.5.0",
      "model_name": "FloatSliderModel",
      "state": {
       "description": "Exposure",
       "layout": "IPY_MODEL_47dfbcbafc2e41a4bc6effefc0e4baa3",
       "max": 8,
       "min": -8,
       "step": 0.1,
       "style": "IPY_MODEL_d1ebbbf01b0f4b40903d7c52ecdc9bef"
      }
     },
     "4d8990edf26a4806aef79674e87ac91c": {
      "model_module": "@jupyter-widgets/base",
      "model_module_version": "1.2.0",
      "model_name": "LayoutModel",
      "state": {}
     },
     "4e6cbcc728ad4cf395a697293f12556d": {
      "model_module": "@jupyter-widgets/base",
      "model_module_version": "1.2.0",
      "model_name": "LayoutModel",
      "state": {}
     },
     "4eaa0acb8b42496ea353ec3293039a79": {
      "model_module": "@jupyter-widgets/controls",
      "model_module_version": "1.5.0",
      "model_name": "SliderStyleModel",
      "state": {
       "description_width": ""
      }
     },
     "4efad9ce41f74c508185478b8be368be": {
      "model_module": "@jupyter-widgets/controls",
      "model_module_version": "1.5.0",
      "model_name": "ButtonModel",
      "state": {
       "description": "Save Figure",
       "layout": "IPY_MODEL_57e31f901f9c432fb926d2eb49d2fe02",
       "style": "IPY_MODEL_8b13737b6edd4c94998fba98c931e222"
      }
     },
     "4f7e64d052244750adc083eed30ec10d": {
      "model_module": "@jupyter-widgets/controls",
      "model_module_version": "1.5.0",
      "model_name": "FloatSliderModel",
      "state": {
       "description": "90°",
       "layout": "IPY_MODEL_0a6559622be44324b423f6187f32d942",
       "max": 1,
       "min": -1,
       "step": 0.01,
       "style": "IPY_MODEL_1a0847f0a0ce435faecc5cb3a7e97270"
      }
     },
     "4f87929db1f64b97a52ce146f036c8cb": {
      "model_module": "@jupyter-widgets/base",
      "model_module_version": "1.2.0",
      "model_name": "LayoutModel",
      "state": {}
     },
     "50001ce5c7624ecdb77253a42bb668e8": {
      "model_module": "@jupyter-widgets/controls",
      "model_module_version": "1.5.0",
      "model_name": "TabModel",
      "state": {
       "_titles": {
        "0": "Global Controls",
        "1": "Compression Controls"
       },
       "children": [
        "IPY_MODEL_af67377661e649bcab8424b1bbb90702",
        "IPY_MODEL_607107de39c04c2980be0ad5566d713a"
       ],
       "layout": "IPY_MODEL_c9dee496ab4944029b24f180aa9292ab"
      }
     },
     "501549387ea84858b15e6394d948fb33": {
      "model_module": "@jupyter-widgets/controls",
      "model_module_version": "1.5.0",
      "model_name": "ButtonStyleModel",
      "state": {}
     },
     "501ce971c0c641d089381efc9ee014c9": {
      "model_module": "@jupyter-widgets/controls",
      "model_module_version": "1.5.0",
      "model_name": "FloatSliderModel",
      "state": {
       "description": "180°",
       "layout": "IPY_MODEL_4b3df1c5d1814f0bbf4d4860488cc459",
       "max": 1,
       "min": -1,
       "step": 0.01,
       "style": "IPY_MODEL_68dc99e9b1dd4bbca314a3e27ba6c252"
      }
     },
     "502419d76b734d288668c265018d4f24": {
      "model_module": "@jupyter-widgets/controls",
      "model_module_version": "1.5.0",
      "model_name": "TabModel",
      "state": {
       "_titles": {
        "0": "Global Controls",
        "1": "Protected Area Controls",
        "2": "Saturation Controls",
        "3": "Hue Controls"
       },
       "children": [
        "IPY_MODEL_4a5ec02e1dca4799930ba91cdc6af1dc",
        "IPY_MODEL_01e81075eccb4c8192216644960174da",
        "IPY_MODEL_5eb85ddb265b48938cba0dfb498b3371",
        "IPY_MODEL_7615ae5e513a4783bb24abdd6c132ba8"
       ],
       "layout": "IPY_MODEL_e5e075c26c5a471ba30af430792efcaf"
      }
     },
     "5051912a563a4968a09eeb9685e9c463": {
      "model_module": "@jupyter-widgets/controls",
      "model_module_version": "1.5.0",
      "model_name": "CheckboxModel",
      "state": {
       "description": "Disable Medicina",
       "disabled": false,
       "layout": "IPY_MODEL_ef922a0a14024efda86cf5f65e41dd2f",
       "style": "IPY_MODEL_b5a83c32dd15481e8929f83513723565",
       "value": false
      }
     },
     "5059b4672c52430bb30515795fe07b76": {
      "model_module": "@jupyter-widgets/base",
      "model_module_version": "1.2.0",
      "model_name": "LayoutModel",
      "state": {}
     },
     "506549bb67e44c70abaec75ab9e27444": {
      "model_module": "@jupyter-widgets/controls",
      "model_module_version": "1.5.0",
      "model_name": "VBoxModel",
      "state": {
       "children": [
        "IPY_MODEL_2b0a6d4858bc4b3d8620e5beb43fcf11",
        "IPY_MODEL_07ec9e0f106d44ffba82df986ce52da3",
        "IPY_MODEL_a3266b20644e4ba4a72ad3eb8a7400e1"
       ],
       "layout": "IPY_MODEL_30676d167d7b44869a5cfe322e21fd38"
      }
     },
     "5091102ba7e24b09b29afc70fd27c078": {
      "model_module": "@jupyter-widgets/base",
      "model_module_version": "1.2.0",
      "model_name": "LayoutModel",
      "state": {}
     },
     "50a04ef873d34fbf886f4f7ab5eab272": {
      "model_module": "@jupyter-widgets/controls",
      "model_module_version": "1.5.0",
      "model_name": "ButtonModel",
      "state": {
       "description": "Save Figure",
       "layout": "IPY_MODEL_0c7e874085ed4f43b38b4a2bbb1d2cf5",
       "style": "IPY_MODEL_f9ea2dca4fa646e9a3ec0ffe838e24a3"
      }
     },
     "50bf1dc4cf72485fb3da4da81e3b8e27": {
      "model_module": "@jupyter-widgets/controls",
      "model_module_version": "1.5.0",
      "model_name": "ButtonStyleModel",
      "state": {}
     },
     "50e89fd9c0394876a4d0794305315489": {
      "model_module": "@jupyter-widgets/controls",
      "model_module_version": "1.5.0",
      "model_name": "HBoxModel",
      "state": {
       "children": [
        "IPY_MODEL_13dcefb1e5e04736a1344c59859d4dbf",
        "IPY_MODEL_f3ed6f40dd4845a993502c8cc3e4ac59",
        "IPY_MODEL_aa57da0145b847f6a611eb392d31982e",
        "IPY_MODEL_5c00bc05a8c64354b9df059b992285a1"
       ],
       "layout": "IPY_MODEL_c63bfa6c88634350bc407d2509a7b776"
      }
     },
     "51163f154e40461ab05181483c7e6829": {
      "model_module": "@jupyter-widgets/controls",
      "model_module_version": "1.5.0",
      "model_name": "FloatSliderModel",
      "state": {
       "description": "Exposure",
       "layout": "IPY_MODEL_5b1a3e128e2144afa69f3609b8e97265",
       "max": 8,
       "min": -8,
       "step": 0.1,
       "style": "IPY_MODEL_c7dbc868d7eb48ddb0cccd5124f91437"
      }
     },
     "51740600fb11410b87022018cac42484": {
      "model_module": "@jupyter-widgets/base",
      "model_module_version": "1.2.0",
      "model_name": "LayoutModel",
      "state": {}
     },
     "51d289f3efd1416795fab2dc0ab39619": {
      "model_module": "@jupyter-widgets/controls",
      "model_module_version": "1.5.0",
      "model_name": "FloatSliderModel",
      "state": {
       "description": "90°",
       "layout": "IPY_MODEL_5c78138e90bd45e8b8297bc3f8599afb",
       "max": 1,
       "min": -1,
       "step": 0.01,
       "style": "IPY_MODEL_2c7d5e51451a44058ca74f76f2ba067c"
      }
     },
     "524ce998f5d64947b2a456b7d9f785e4": {
      "model_module": "@jupyter-widgets/controls",
      "model_module_version": "1.5.0",
      "model_name": "SliderStyleModel",
      "state": {
       "description_width": ""
      }
     },
     "52550524c8c449d2ba424debe63a8228": {
      "model_module": "@jupyter-widgets/base",
      "model_module_version": "1.2.0",
      "model_name": "LayoutModel",
      "state": {
       "border": "solid 4px #222",
       "margin": "4px",
       "padding": "0"
      }
     },
     "52b76a44525e42feb20637977e794ea0": {
      "model_module": "@jupyter-widgets/controls",
      "model_module_version": "1.5.0",
      "model_name": "ButtonStyleModel",
      "state": {}
     },
     "52e7c3f075014d6188389453a1ae3402": {
      "model_module": "@jupyter-widgets/base",
      "model_module_version": "1.2.0",
      "model_name": "LayoutModel",
      "state": {}
     },
     "530b39c9c7564e26b8f825d776dc3dd3": {
      "model_module": "@jupyter-widgets/controls",
      "model_module_version": "1.5.0",
      "model_name": "FloatSliderModel",
      "state": {
       "description": "Exposure",
       "layout": "IPY_MODEL_7e914f7da333404f864dc339a79adc8b",
       "max": 8,
       "min": -8,
       "step": 0.1,
       "style": "IPY_MODEL_9de65775d9f24d698f68b15a4339e5c4"
      }
     },
     "5320961abc7143a8aa952f1cab5fea43": {
      "model_module": "@jupyter-widgets/base",
      "model_module_version": "1.2.0",
      "model_name": "LayoutModel",
      "state": {}
     },
     "5324962a16b4431584f3b87bd974c646": {
      "model_module": "@jupyter-widgets/controls",
      "model_module_version": "1.5.0",
      "model_name": "ButtonStyleModel",
      "state": {}
     },
     "5340aff03e464d93b0c647b31ff5b069": {
      "model_module": "@jupyter-widgets/base",
      "model_module_version": "1.2.0",
      "model_name": "LayoutModel",
      "state": {}
     },
     "536c4819f29547acbe4b830c1a2c8d88": {
      "model_module": "@jupyter-widgets/controls",
      "model_module_version": "1.5.0",
      "model_name": "SliderStyleModel",
      "state": {
       "description_width": ""
      }
     },
     "53788decab01405ebaf6646b912baca3": {
      "model_module": "@jupyter-widgets/base",
      "model_module_version": "1.2.0",
      "model_name": "LayoutModel",
      "state": {}
     },
     "5386a3705ece46ad8944a33cd17de625": {
      "model_module": "@jupyter-widgets/controls",
      "model_module_version": "1.5.0",
      "model_name": "ButtonStyleModel",
      "state": {}
     },
     "53ad1eeef90e4bd692184ff12b904caf": {
      "model_module": "@jupyter-widgets/controls",
      "model_module_version": "1.5.0",
      "model_name": "ButtonStyleModel",
      "state": {}
     },
     "53bbaecce45241dd8c4bd0017d606399": {
      "model_module": "jupyter-matplotlib",
      "model_module_version": "^0.7.2",
      "model_name": "MPLCanvasModel",
      "state": {
       "_figure_label": "Figure 10",
       "_height": 696,
       "_width": 1100,
       "header_visible": false,
       "layout": "IPY_MODEL_e34ec7c0c4b14209885d66a6927dddd8",
       "resizable": false,
       "toolbar": "IPY_MODEL_11f7fb76ef83458b95bc8f8a728758a5",
       "toolbar_position": "left",
       "toolbar_visible": false
      }
     },
     "53c70b2cc08b4ddb94f1572518c2990a": {
      "model_module": "@jupyter-widgets/base",
      "model_module_version": "1.2.0",
      "model_name": "LayoutModel",
      "state": {}
     },
     "54417d913b8c42cfb3217ff3d5cc16ea": {
      "model_module": "@jupyter-widgets/controls",
      "model_module_version": "1.5.0",
      "model_name": "FloatSliderModel",
      "state": {
       "description": "270°",
       "layout": "IPY_MODEL_8f52037515e34ef8aaa25bcb46f6d2b1",
       "max": 1,
       "min": -1,
       "step": 0.01,
       "style": "IPY_MODEL_3352171ae3254a98affcf69882662cfc"
      }
     },
     "544d32a082624f5a96b8a4169eb1e3a5": {
      "model_module": "@jupyter-widgets/controls",
      "model_module_version": "1.5.0",
      "model_name": "ButtonStyleModel",
      "state": {}
     },
     "545e37bad2164842a396c019872cc60a": {
      "model_module": "@jupyter-widgets/base",
      "model_module_version": "1.2.0",
      "model_name": "LayoutModel",
      "state": {}
     },
     "54be53ee5f9e4446996a2d0ed24ca6f1": {
      "model_module": "@jupyter-widgets/base",
      "model_module_version": "1.2.0",
      "model_name": "LayoutModel",
      "state": {}
     },
     "54ef3112922c42879cc864938d768225": {
      "model_module": "@jupyter-widgets/controls",
      "model_module_version": "1.5.0",
      "model_name": "HBoxModel",
      "state": {
       "children": [
        "IPY_MODEL_c40e895cc5ec42a3b0ee229b8c89150d",
        "IPY_MODEL_89cba1efd0164ce18a1d8175da7b258e"
       ],
       "layout": "IPY_MODEL_811da1ecbf354912a1a9576118e0d6d8"
      }
     },
     "5539c255c165411d9a813282eaff8fe0": {
      "model_module": "jupyter-matplotlib",
      "model_module_version": "^0.7.2",
      "model_name": "MPLCanvasModel",
      "state": {
       "_figure_label": "Figure 19",
       "_height": 430,
       "_width": 1099,
       "header_visible": false,
       "layout": "IPY_MODEL_aee036f1a64447eca7de284a2a577618",
       "resizable": false,
       "toolbar": "IPY_MODEL_88978a08767d4ef195fda9e77beb5c67",
       "toolbar_position": "left",
       "toolbar_visible": false
      }
     },
     "557a45a0f27849c8a6dd83d82813b36c": {
      "model_module": "@jupyter-widgets/controls",
      "model_module_version": "1.5.0",
      "model_name": "HBoxModel",
      "state": {
       "children": [
        "IPY_MODEL_fca7b5b79f1a43b181f4d533e07a3ce3",
        "IPY_MODEL_030d24241f3a480e805f53570affcfc3",
        "IPY_MODEL_821bbc8a122940789fa402100c61d250",
        "IPY_MODEL_82cb540a9f9245ddadd4cca61ca7a0d3"
       ],
       "layout": "IPY_MODEL_7e1fc5c0e7b047b9acfbe23824ad8df3"
      }
     },
     "558a05467a7c489f87f2dc9d1f9daf79": {
      "model_module": "@jupyter-widgets/controls",
      "model_module_version": "1.5.0",
      "model_name": "FloatSliderModel",
      "state": {
       "description": "0°",
       "layout": "IPY_MODEL_721ef05f785641c0bbcc47639ca47d91",
       "max": 1,
       "min": -1,
       "step": 0.01,
       "style": "IPY_MODEL_03f3050b107c404985bcfaae0e7109e9"
      }
     },
     "5594b404f1a74e0a970a9977253ced0b": {
      "model_module": "@jupyter-widgets/controls",
      "model_module_version": "1.5.0",
      "model_name": "DescriptionStyleModel",
      "state": {
       "description_width": ""
      }
     },
     "55981dcc451b4b7587d87f42e9f984bc": {
      "model_module": "@jupyter-widgets/controls",
      "model_module_version": "1.5.0",
      "model_name": "FloatSliderModel",
      "state": {
       "description": "90°",
       "layout": "IPY_MODEL_2f6273d43b644666bd8183a169ff456d",
       "max": 1,
       "min": -1,
       "step": 0.01,
       "style": "IPY_MODEL_ccb9bd5208d14c8fbb54199e44741bac"
      }
     },
     "5599bebbaeca4ad4afd18231e5eb40ee": {
      "model_module": "@jupyter-widgets/base",
      "model_module_version": "1.2.0",
      "model_name": "LayoutModel",
      "state": {}
     },
     "55bd825a7f404d2aa7455881534b0002": {
      "model_module": "@jupyter-widgets/controls",
      "model_module_version": "1.5.0",
      "model_name": "HBoxModel",
      "state": {
       "children": [
        "IPY_MODEL_ab6205ef760942dcbd5d13b985b88fbd",
        "IPY_MODEL_6ebf6360b1f54ebf91fc4b468b1fb345",
        "IPY_MODEL_2cec87d54659411aa285eca9e7abfb8f",
        "IPY_MODEL_ed0f53521ab94be086d2f807898d2e7d"
       ],
       "layout": "IPY_MODEL_a262b305d3ea49d59fbf9c78f2922696"
      }
     },
     "55fdf3b4966a4dca9d97b515139ccf7e": {
      "model_module": "@jupyter-widgets/controls",
      "model_module_version": "1.5.0",
      "model_name": "ButtonModel",
      "state": {
       "description": "Reset Saturation Controls",
       "layout": "IPY_MODEL_102b564d7e49474ab0f259488fed5606",
       "style": "IPY_MODEL_46bd9df4061149a89780a04b2f36a7f9"
      }
     },
     "560736c4afa84b44b9cbd89c0c6e3e58": {
      "model_module": "@jupyter-widgets/output",
      "model_module_version": "1.0.0",
      "model_name": "OutputModel",
      "state": {
       "layout": "IPY_MODEL_707df6b3d8d04a06a620d83e5d7628dc",
       "outputs": [
        {
         "data": {
          "application/vnd.jupyter.widget-view+json": {
           "model_id": "0adb8c0f8ed9479fb3482e3bc776d21d",
           "version_major": 2,
           "version_minor": 0
          },
          "text/plain": "Canvas(toolbar=Toolbar(toolitems=[('Home', 'Reset original view', 'home', 'home'), ('Back', 'Back to previous …"
         },
         "metadata": {},
         "output_type": "display_data"
        }
       ]
      }
     },
     "5609d6bae28f4187aa312b26757c49fb": {
      "model_module": "@jupyter-widgets/output",
      "model_module_version": "1.0.0",
      "model_name": "OutputModel",
      "state": {
       "layout": "IPY_MODEL_f8db2ad8b71549bda6b5b8a089f7dd38",
       "outputs": [
        {
         "data": {
          "application/vnd.jupyter.widget-view+json": {
           "model_id": "86721e24f5cb4c3397b136aa3119b69c",
           "version_major": 2,
           "version_minor": 0
          },
          "text/plain": "Canvas(toolbar=Toolbar(toolitems=[('Home', 'Reset original view', 'home', 'home'), ('Back', 'Back to previous …"
         },
         "metadata": {},
         "output_type": "display_data"
        }
       ]
      }
     },
     "561a9df8ff3647afa070106c858920df": {
      "model_module": "@jupyter-widgets/base",
      "model_module_version": "1.2.0",
      "model_name": "LayoutModel",
      "state": {}
     },
     "56214135dcba4f438371fcbd58a87522": {
      "model_module": "@jupyter-widgets/controls",
      "model_module_version": "1.5.0",
      "model_name": "ButtonStyleModel",
      "state": {}
     },
     "567f93a87ba54f3584106b5f02ed0406": {
      "model_module": "@jupyter-widgets/controls",
      "model_module_version": "1.5.0",
      "model_name": "SliderStyleModel",
      "state": {
       "description_width": ""
      }
     },
     "571e1268fc794854b24ad004586c851d": {
      "model_module": "@jupyter-widgets/controls",
      "model_module_version": "1.5.0",
      "model_name": "VBoxModel",
      "state": {
       "children": [
        "IPY_MODEL_2c3e3e1321784e40b61184bd42d66d86",
        "IPY_MODEL_13e4e05465f14de2be30e47c70d1e57c"
       ],
       "layout": "IPY_MODEL_644984e7f8c9452bba46e9a3c645c494"
      }
     },
     "576f45ac94994cf18e18eaaa4bfadc48": {
      "model_module": "@jupyter-widgets/base",
      "model_module_version": "1.2.0",
      "model_name": "LayoutModel",
      "state": {}
     },
     "57e31f901f9c432fb926d2eb49d2fe02": {
      "model_module": "@jupyter-widgets/base",
      "model_module_version": "1.2.0",
      "model_name": "LayoutModel",
      "state": {}
     },
     "57ec3fc7eb1e43dcbc52b3a397b9e58f": {
      "model_module": "@jupyter-widgets/controls",
      "model_module_version": "1.5.0",
      "model_name": "SliderStyleModel",
      "state": {
       "description_width": ""
      }
     },
     "583feaa360174fab9b0b275c6647249b": {
      "model_module": "@jupyter-widgets/controls",
      "model_module_version": "1.5.0",
      "model_name": "FloatSliderModel",
      "state": {
       "description": "315°",
       "layout": "IPY_MODEL_82ecb0211cdf457aac3f5cbb4191eff2",
       "max": 1,
       "min": -1,
       "step": 0.01,
       "style": "IPY_MODEL_e7a1cea7a31e422f8c808af0b49958fc"
      }
     },
     "584e4e1e64404de68fbc6a2a5e3f52be": {
      "model_module": "@jupyter-widgets/base",
      "model_module_version": "1.2.0",
      "model_name": "LayoutModel",
      "state": {}
     },
     "585c173834c74497ac5087da03af1a18": {
      "model_module": "@jupyter-widgets/controls",
      "model_module_version": "1.5.0",
      "model_name": "ButtonStyleModel",
      "state": {}
     },
     "58628107c72c46df8ae06f93b4518d32": {
      "model_module": "@jupyter-widgets/base",
      "model_module_version": "1.2.0",
      "model_name": "LayoutModel",
      "state": {}
     },
     "5869935b658b47348861a46e681706d5": {
      "model_module": "jupyter-matplotlib",
      "model_module_version": "^0.7.2",
      "model_name": "ToolbarModel",
      "state": {
       "layout": "IPY_MODEL_b306875e1f0945188825379052de08e7",
       "toolitems": [
        [
         "Home",
         "Reset original view",
         "home",
         "home"
        ],
        [
         "Back",
         "Back to previous view",
         "arrow-left",
         "back"
        ],
        [
         "Forward",
         "Forward to next view",
         "arrow-right",
         "forward"
        ],
        [
         "Pan",
         "Pan axes with left mouse, zoom with right",
         "arrows",
         "pan"
        ],
        [
         "Zoom",
         "Zoom to rectangle",
         "square-o",
         "zoom"
        ],
        [
         "Download",
         "Download plot",
         "floppy-o",
         "save_figure"
        ]
       ]
      }
     },
     "58e9aa44524f47198d62151722abac9a": {
      "model_module": "@jupyter-widgets/controls",
      "model_module_version": "1.5.0",
      "model_name": "FloatSliderModel",
      "state": {
       "description": "270°",
       "layout": "IPY_MODEL_7514e3ef8bfb40429cc1ab22e12c905e",
       "max": 1,
       "min": -1,
       "step": 0.01,
       "style": "IPY_MODEL_320e530af9ea4368b5ae31f598e56ba9"
      }
     },
     "594e2ea5f64b4718a3f19645092dbc3a": {
      "model_module": "@jupyter-widgets/controls",
      "model_module_version": "1.5.0",
      "model_name": "ButtonModel",
      "state": {
       "description": "Reset Hue Controls",
       "layout": "IPY_MODEL_584e4e1e64404de68fbc6a2a5e3f52be",
       "style": "IPY_MODEL_e784cff0f8b144fca21f37b11dc0b853"
      }
     },
     "597817b87d2a4df2a304f4690f673506": {
      "model_module": "@jupyter-widgets/base",
      "model_module_version": "1.2.0",
      "model_name": "LayoutModel",
      "state": {}
     },
     "5997f187f92343bc9fe39685182af6a1": {
      "model_module": "@jupyter-widgets/base",
      "model_module_version": "1.2.0",
      "model_name": "LayoutModel",
      "state": {}
     },
     "59be2b851086415d803fc63047a8d7da": {
      "model_module": "@jupyter-widgets/base",
      "model_module_version": "1.2.0",
      "model_name": "LayoutModel",
      "state": {}
     },
     "59db52da16cd4a91a611ad94dbfed8af": {
      "model_module": "@jupyter-widgets/base",
      "model_module_version": "1.2.0",
      "model_name": "LayoutModel",
      "state": {}
     },
     "59e25e6b8b6b4dabb82e324f68ee4861": {
      "model_module": "@jupyter-widgets/controls",
      "model_module_version": "1.5.0",
      "model_name": "ButtonModel",
      "state": {
       "description": "Export Image",
       "layout": "IPY_MODEL_9abaca30c28643bd8eaebef6616babac",
       "style": "IPY_MODEL_585c173834c74497ac5087da03af1a18"
      }
     },
     "59f5a3f7ee8e441ea34436880373a925": {
      "model_module": "@jupyter-widgets/controls",
      "model_module_version": "1.5.0",
      "model_name": "ButtonModel",
      "state": {
       "description": "Save Figure",
       "layout": "IPY_MODEL_038f6bb8af8746dbbae35f1dc5d616a0",
       "style": "IPY_MODEL_501549387ea84858b15e6394d948fb33"
      }
     },
     "5a061f21045b4ca2b4b7fca325e83006": {
      "model_module": "@jupyter-widgets/controls",
      "model_module_version": "1.5.0",
      "model_name": "TabModel",
      "state": {
       "_titles": {
        "0": "Global Controls",
        "1": "Protected Area Controls",
        "2": "Saturation Controls",
        "3": "Hue Controls"
       },
       "children": [
        "IPY_MODEL_3866cf2ae6d04567a40fe8e735bcb092",
        "IPY_MODEL_26656205a331404890a29114480429e3",
        "IPY_MODEL_b6b09dbc2f534e359b1769ad4927fb84",
        "IPY_MODEL_50e89fd9c0394876a4d0794305315489"
       ],
       "layout": "IPY_MODEL_94081ee98d194cbb8c4ab440a5852557"
      }
     },
     "5a19b6037fc74d2b98d189e0ab0c67ce": {
      "model_module": "@jupyter-widgets/controls",
      "model_module_version": "1.5.0",
      "model_name": "FloatSliderModel",
      "state": {
       "description": "Compression Threshold",
       "layout": "IPY_MODEL_3041291c9da9411597de69491b41e040",
       "max": 1,
       "step": 0.01,
       "style": "IPY_MODEL_524ce998f5d64947b2a456b7d9f785e4",
       "value": 0.8
      }
     },
     "5a213f8179ab4748abda4139cb529b2c": {
      "model_module": "@jupyter-widgets/controls",
      "model_module_version": "1.5.0",
      "model_name": "DescriptionStyleModel",
      "state": {
       "description_width": ""
      }
     },
     "5ace5a27560a4249bc8c7fd855272f93": {
      "model_module": "@jupyter-widgets/controls",
      "model_module_version": "1.5.0",
      "model_name": "ButtonModel",
      "state": {
       "description": "Reset Saturation Controls",
       "layout": "IPY_MODEL_0c1541648afc4c888de92ef4e3bcdbd1",
       "style": "IPY_MODEL_800b4c5b846e411d8b09d05ef07abadb"
      }
     },
     "5b0da8ec483e49d79e958d4f20b3c1fc": {
      "model_module": "@jupyter-widgets/controls",
      "model_module_version": "1.5.0",
      "model_name": "ButtonModel",
      "state": {
       "description": "Reset Saturation Controls",
       "layout": "IPY_MODEL_2de11d2a4d6c42009f17d72f85ed2369",
       "style": "IPY_MODEL_db8e69fec5534f63a74fe26a9876a1f8"
      }
     },
     "5b1a3e128e2144afa69f3609b8e97265": {
      "model_module": "@jupyter-widgets/base",
      "model_module_version": "1.2.0",
      "model_name": "LayoutModel",
      "state": {}
     },
     "5b22f84e810543559f7cdad315c899ca": {
      "model_module": "@jupyter-widgets/base",
      "model_module_version": "1.2.0",
      "model_name": "LayoutModel",
      "state": {}
     },
     "5b52165cdbad4817af2dad112634cb7f": {
      "model_module": "@jupyter-widgets/base",
      "model_module_version": "1.2.0",
      "model_name": "LayoutModel",
      "state": {}
     },
     "5b77edbea7cc474cbe824043ec1eebf1": {
      "model_module": "@jupyter-widgets/controls",
      "model_module_version": "1.5.0",
      "model_name": "FloatSliderModel",
      "state": {
       "description": "Exposure",
       "layout": "IPY_MODEL_acdc18cfba5846e8b9bd4dcc7de5aa64",
       "max": 8,
       "min": -8,
       "step": 0.1,
       "style": "IPY_MODEL_ab37c330f7534947b645211fe5a9dbde"
      }
     },
     "5b8fc2bbf6a34978987078f5b2ca8694": {
      "model_module": "@jupyter-widgets/controls",
      "model_module_version": "1.5.0",
      "model_name": "DescriptionStyleModel",
      "state": {
       "description_width": ""
      }
     },
     "5bc77d2350394987961f020e45ce9adf": {
      "model_module": "@jupyter-widgets/base",
      "model_module_version": "1.2.0",
      "model_name": "LayoutModel",
      "state": {}
     },
     "5bcd09bfb62e4eeba461860702a4dedd": {
      "model_module": "@jupyter-widgets/controls",
      "model_module_version": "1.5.0",
      "model_name": "SliderStyleModel",
      "state": {
       "description_width": ""
      }
     },
     "5bd7d3c82e7a4b979b6369c329a9d871": {
      "model_module": "@jupyter-widgets/controls",
      "model_module_version": "1.5.0",
      "model_name": "FloatSliderModel",
      "state": {
       "description": "315°",
       "layout": "IPY_MODEL_de7fa649020a42f0b63fbfe8298b6cd4",
       "max": 1,
       "min": -1,
       "step": 0.01,
       "style": "IPY_MODEL_080a63f2fee743d395654f4fa1c73d60"
      }
     },
     "5be481ebe6664f128319212ebc074faa": {
      "model_module": "@jupyter-widgets/base",
      "model_module_version": "1.2.0",
      "model_name": "LayoutModel",
      "state": {}
     },
     "5c00bc05a8c64354b9df059b992285a1": {
      "model_module": "@jupyter-widgets/controls",
      "model_module_version": "1.5.0",
      "model_name": "VBoxModel",
      "state": {
       "children": [
        "IPY_MODEL_017f27b20c044bb5af5e96994fdaf61f",
        "IPY_MODEL_746497120585489bace648d9798b7f22"
       ],
       "layout": "IPY_MODEL_96ff623479e44e90bd0fc4685793975a"
      }
     },
     "5c24209191f443d79bf8b726ffa6b64c": {
      "model_module": "@jupyter-widgets/controls",
      "model_module_version": "1.5.0",
      "model_name": "SliderStyleModel",
      "state": {
       "description_width": ""
      }
     },
     "5c61c8fe68aa4b8b822e7264077d7e52": {
      "model_module": "@jupyter-widgets/base",
      "model_module_version": "1.2.0",
      "model_name": "LayoutModel",
      "state": {}
     },
     "5c78138e90bd45e8b8297bc3f8599afb": {
      "model_module": "@jupyter-widgets/base",
      "model_module_version": "1.2.0",
      "model_name": "LayoutModel",
      "state": {}
     },
     "5c88f26d116b426d84efd749ef0f162d": {
      "model_module": "@jupyter-widgets/controls",
      "model_module_version": "1.5.0",
      "model_name": "FloatSliderModel",
      "state": {
       "description": "135°",
       "layout": "IPY_MODEL_a734343fe5d844d58f8407df81145f54",
       "max": 1,
       "min": -1,
       "step": 0.01,
       "style": "IPY_MODEL_75f61e8511d3472583a5a3696bf658ab"
      }
     },
     "5c8f8d24c5fa49159521c724ef52f3bc": {
      "model_module": "@jupyter-widgets/controls",
      "model_module_version": "1.5.0",
      "model_name": "VBoxModel",
      "state": {
       "children": [
        "IPY_MODEL_e19ddefac7724b61aefbadff5f7d4de8",
        "IPY_MODEL_abb291a03d0d43e0a4df2f47a4a4352e"
       ],
       "layout": "IPY_MODEL_e2f392f9612440ae9ffdb1134f7997ac"
      }
     },
     "5cb3a50b9d2d43199dbd6fc92e36d71a": {
      "model_module": "@jupyter-widgets/controls",
      "model_module_version": "1.5.0",
      "model_name": "ButtonModel",
      "state": {
       "description": "Reset Saturation Controls",
       "layout": "IPY_MODEL_957feacbbe104c069b9ea4bb4c68614f",
       "style": "IPY_MODEL_a25b9d3f43a442b28ce4a6edc35688c7"
      }
     },
     "5cdb9360772d441fa88d089083f8c15b": {
      "model_module": "@jupyter-widgets/controls",
      "model_module_version": "1.5.0",
      "model_name": "HBoxModel",
      "state": {
       "children": [
        "IPY_MODEL_6b301b3ec0b74a9a9a7d7fb61554be26",
        "IPY_MODEL_f63edb6eef48481c98c705e78db616f3",
        "IPY_MODEL_5f317770bbd349ff84e1248272917bce"
       ],
       "layout": "IPY_MODEL_1b84afe25c184ba682de84924ded88ba"
      }
     },
     "5cdc708e6ed7492095586d8f15521615": {
      "model_module": "@jupyter-widgets/controls",
      "model_module_version": "1.5.0",
      "model_name": "TabModel",
      "state": {
       "_titles": {
        "0": "Global Controls",
        "1": "Protected Area Controls",
        "2": "Saturation Controls",
        "3": "Hue Controls"
       },
       "children": [
        "IPY_MODEL_c802da5bde6b4d5a981ac65c6ededeb2",
        "IPY_MODEL_f1260431b8384ea6b4ccb04e019bbc6f",
        "IPY_MODEL_d927d87e0a2345029440474230e303c7",
        "IPY_MODEL_32ab7e359e374d1e8bd25e349c94eca3"
       ],
       "layout": "IPY_MODEL_6ba7d5c037ff45789eeecc8ccb9c50c5"
      }
     },
     "5ce5a4531c8a4de5a21d6e808f0e6781": {
      "model_module": "@jupyter-widgets/controls",
      "model_module_version": "1.5.0",
      "model_name": "HBoxModel",
      "state": {
       "children": [
        "IPY_MODEL_ed30c27f0b4c4041bb9bf0a49b576e2a",
        "IPY_MODEL_f18dc33f50d64a92971c131e0e3a15ac",
        "IPY_MODEL_cf631995dadb4df1a5f8aa7a78ee1de5",
        "IPY_MODEL_e471dfc082e347fc9be1ee30bb9ca9ff"
       ],
       "layout": "IPY_MODEL_f42dc65cbeb54342854cda02498de1ae"
      }
     },
     "5d3c969807ba4efbbcf260a5e88c0ae7": {
      "model_module": "@jupyter-widgets/controls",
      "model_module_version": "1.5.0",
      "model_name": "SliderStyleModel",
      "state": {
       "description_width": ""
      }
     },
     "5d60a88099034e2f9a18bb9c66467f98": {
      "model_module": "@jupyter-widgets/base",
      "model_module_version": "1.2.0",
      "model_name": "LayoutModel",
      "state": {}
     },
     "5d83c5dbb9314c3387abe755850e69a5": {
      "model_module": "@jupyter-widgets/base",
      "model_module_version": "1.2.0",
      "model_name": "LayoutModel",
      "state": {}
     },
     "5de50654a3b14411a4c868c1abede58e": {
      "model_module": "@jupyter-widgets/controls",
      "model_module_version": "1.5.0",
      "model_name": "ButtonStyleModel",
      "state": {}
     },
     "5df9567f342047b281eea07437303ea6": {
      "model_module": "@jupyter-widgets/base",
      "model_module_version": "1.2.0",
      "model_name": "LayoutModel",
      "state": {}
     },
     "5e69f46dc26240fcba29892d14e2d5f6": {
      "model_module": "@jupyter-widgets/base",
      "model_module_version": "1.2.0",
      "model_name": "LayoutModel",
      "state": {}
     },
     "5eb85ddb265b48938cba0dfb498b3371": {
      "model_module": "@jupyter-widgets/controls",
      "model_module_version": "1.5.0",
      "model_name": "HBoxModel",
      "state": {
       "children": [
        "IPY_MODEL_eb4831d479a0408aaeaabd2569467af2",
        "IPY_MODEL_b02a39da02684e5cbd8b71b393210a0f",
        "IPY_MODEL_85c54bc40f0842978e74a995b13937d1"
       ],
       "layout": "IPY_MODEL_6caaed041e164499a80dc85196175c3b"
      }
     },
     "5eb8c93b0e234827b2734fd4a09db48c": {
      "model_module": "@jupyter-widgets/output",
      "model_module_version": "1.0.0",
      "model_name": "OutputModel",
      "state": {
       "layout": "IPY_MODEL_fe22eea68abb4ece9d40ac30d49ada42",
       "outputs": [
        {
         "data": {
          "application/vnd.jupyter.widget-view+json": {
           "model_id": "16d3bde0ec074f068177183604ba9284",
           "version_major": 2,
           "version_minor": 0
          },
          "text/plain": "Canvas(toolbar=Toolbar(toolitems=[('Home', 'Reset original view', 'home', 'home'), ('Back', 'Back to previous …"
         },
         "metadata": {},
         "output_type": "display_data"
        }
       ]
      }
     },
     "5f317770bbd349ff84e1248272917bce": {
      "model_module": "@jupyter-widgets/controls",
      "model_module_version": "1.5.0",
      "model_name": "FloatSliderModel",
      "state": {
       "description": "Compression Threshold",
       "layout": "IPY_MODEL_99495496346e4f57b1668f14f63e59fd",
       "max": 1,
       "step": 0.01,
       "style": "IPY_MODEL_33a5168b02a24c9690c5265bfdff6c86",
       "value": 0.8
      }
     },
     "5f5756fe24c14e47927cdac25ee5fbbc": {
      "model_module": "@jupyter-widgets/base",
      "model_module_version": "1.2.0",
      "model_name": "LayoutModel",
      "state": {}
     },
     "5f8c5bacec9b46fcb068ce58dc704370": {
      "model_module": "@jupyter-widgets/controls",
      "model_module_version": "1.5.0",
      "model_name": "ButtonStyleModel",
      "state": {}
     },
     "5fe8461c73844828b2078264587df404": {
      "model_module": "@jupyter-widgets/controls",
      "model_module_version": "1.5.0",
      "model_name": "CheckboxModel",
      "state": {
       "description": "Disable Medicina",
       "disabled": false,
       "layout": "IPY_MODEL_ea379b28dc044d4cba984a5602cdc9b1",
       "style": "IPY_MODEL_9cb999d28290495386036e308238ce0f",
       "value": false
      }
     },
     "602a85f20dbc4fe3bcc00256874c4d9c": {
      "model_module": "@jupyter-widgets/controls",
      "model_module_version": "1.5.0",
      "model_name": "VBoxModel",
      "state": {
       "children": [
        "IPY_MODEL_6842f48c45774348994028e64481e32c"
       ],
       "layout": "IPY_MODEL_224c950e9204455abc6b46ab45afb3fe"
      }
     },
     "607107de39c04c2980be0ad5566d713a": {
      "model_module": "@jupyter-widgets/controls",
      "model_module_version": "1.5.0",
      "model_name": "HBoxModel",
      "state": {
       "children": [
        "IPY_MODEL_13ebb69a27a84b4694124b82c0548651",
        "IPY_MODEL_e98dbb9e61ad4a0a8c80815a445a505e",
        "IPY_MODEL_6664caf558e14e6a879678ad50aa175c"
       ],
       "layout": "IPY_MODEL_14ffaeb9a28448e19442ad7d1ad12c9b"
      }
     },
     "6074616dd7a844f3be8c8c8ce815aa4e": {
      "model_module": "@jupyter-widgets/controls",
      "model_module_version": "1.5.0",
      "model_name": "SliderStyleModel",
      "state": {
       "description_width": ""
      }
     },
     "617d13e1a8454aec8c13b982c635fb58": {
      "model_module": "@jupyter-widgets/base",
      "model_module_version": "1.2.0",
      "model_name": "LayoutModel",
      "state": {}
     },
     "61ecc70a72e54df4a30c0f2d3fb879aa": {
      "model_module": "@jupyter-widgets/base",
      "model_module_version": "1.2.0",
      "model_name": "LayoutModel",
      "state": {}
     },
     "62304a2c40da44ddb968a79ff0bbf31e": {
      "model_module": "@jupyter-widgets/controls",
      "model_module_version": "1.5.0",
      "model_name": "ButtonModel",
      "state": {
       "description": "Export Image",
       "layout": "IPY_MODEL_e7b326d018c748bda47351c9897c489d",
       "style": "IPY_MODEL_71165cab7fc7475d8a23b649bf2e1fb8"
      }
     },
     "624e6ce7e3db4cc6af64de76dcdcc12b": {
      "model_module": "@jupyter-widgets/base",
      "model_module_version": "1.2.0",
      "model_name": "LayoutModel",
      "state": {}
     },
     "6261b01bad4445d1b0afb068ec510bdf": {
      "model_module": "@jupyter-widgets/base",
      "model_module_version": "1.2.0",
      "model_name": "LayoutModel",
      "state": {}
     },
     "6277c40c79694da18f89e8956f7b5250": {
      "model_module": "@jupyter-widgets/base",
      "model_module_version": "1.2.0",
      "model_name": "LayoutModel",
      "state": {
       "border": "solid 4px #222",
       "margin": "4px",
       "padding": "0"
      }
     },
     "62c01e8b56164a0fafa1cf91eaff124c": {
      "model_module": "@jupyter-widgets/base",
      "model_module_version": "1.2.0",
      "model_name": "LayoutModel",
      "state": {
       "border": "solid 4px #222",
       "margin": "4px",
       "padding": "0"
      }
     },
     "6347835f089247a587e74595a91f9079": {
      "model_module": "@jupyter-widgets/controls",
      "model_module_version": "1.5.0",
      "model_name": "DropdownModel",
      "state": {
       "_options_labels": [
        "tanh",
        "atan",
        "simple"
       ],
       "description": "Compression Function:",
       "index": 0,
       "layout": "IPY_MODEL_9a7955a4c3464d3eaa134807d61e9876",
       "style": "IPY_MODEL_9c3698a1e2e049289067928fe7ee78ae"
      }
     },
     "63552f9e87544312b16fb4084fa17aef": {
      "model_module": "jupyter-matplotlib",
      "model_module_version": "^0.7.2",
      "model_name": "ToolbarModel",
      "state": {
       "layout": "IPY_MODEL_561a9df8ff3647afa070106c858920df",
       "toolitems": [
        [
         "Home",
         "Reset original view",
         "home",
         "home"
        ],
        [
         "Back",
         "Back to previous view",
         "arrow-left",
         "back"
        ],
        [
         "Forward",
         "Forward to next view",
         "arrow-right",
         "forward"
        ],
        [
         "Pan",
         "Pan axes with left mouse, zoom with right",
         "arrows",
         "pan"
        ],
        [
         "Zoom",
         "Zoom to rectangle",
         "square-o",
         "zoom"
        ],
        [
         "Download",
         "Download plot",
         "floppy-o",
         "save_figure"
        ]
       ]
      }
     },
     "6392614a805d4f88a0ea399b23d66379": {
      "model_module": "@jupyter-widgets/controls",
      "model_module_version": "1.5.0",
      "model_name": "VBoxModel",
      "state": {
       "children": [
        "IPY_MODEL_be49adf91046491187b523cbe5a472d5"
       ],
       "layout": "IPY_MODEL_c818a9f709464b1aad6aa7c328c223aa"
      }
     },
     "63cbc3032c0245f48685d2e4ad457b2b": {
      "model_module": "@jupyter-widgets/controls",
      "model_module_version": "1.5.0",
      "model_name": "DescriptionStyleModel",
      "state": {
       "description_width": ""
      }
     },
     "641ad69e885f42148c950f98209d1d57": {
      "model_module": "@jupyter-widgets/controls",
      "model_module_version": "1.5.0",
      "model_name": "SliderStyleModel",
      "state": {
       "description_width": ""
      }
     },
     "644984e7f8c9452bba46e9a3c645c494": {
      "model_module": "@jupyter-widgets/base",
      "model_module_version": "1.2.0",
      "model_name": "LayoutModel",
      "state": {}
     },
     "64779b917b2b40e19736c7c1937b6cfd": {
      "model_module": "@jupyter-widgets/base",
      "model_module_version": "1.2.0",
      "model_name": "LayoutModel",
      "state": {}
     },
     "648f2b0c7eed4cb28ea6b077261221d6": {
      "model_module": "@jupyter-widgets/controls",
      "model_module_version": "1.5.0",
      "model_name": "DescriptionStyleModel",
      "state": {
       "description_width": ""
      }
     },
     "649fc683259d41a48943d56b6aee22e7": {
      "model_module": "@jupyter-widgets/base",
      "model_module_version": "1.2.0",
      "model_name": "LayoutModel",
      "state": {}
     },
     "64bce4658a304c9babade1a7201f9e9e": {
      "model_module": "@jupyter-widgets/output",
      "model_module_version": "1.0.0",
      "model_name": "OutputModel",
      "state": {
       "layout": "IPY_MODEL_e38aa533bd024d5780b77a87bf6899d0",
       "outputs": [
        {
         "data": {
          "application/vnd.jupyter.widget-view+json": {
           "model_id": "64ebc7a0ad294905b0eb688cd08b5096",
           "version_major": 2,
           "version_minor": 0
          },
          "text/plain": "Canvas(toolbar=Toolbar(toolitems=[('Home', 'Reset original view', 'home', 'home'), ('Back', 'Back to previous …"
         },
         "metadata": {},
         "output_type": "display_data"
        }
       ]
      }
     },
     "64ebc7a0ad294905b0eb688cd08b5096": {
      "model_module": "jupyter-matplotlib",
      "model_module_version": "^0.7.2",
      "model_name": "MPLCanvasModel",
      "state": {
       "_figure_label": "Figure 7",
       "_height": 508,
       "_width": 1100,
       "header_visible": false,
       "layout": "IPY_MODEL_f290a5f5e85b4cb58a1ba065fba5d5c3",
       "resizable": false,
       "toolbar": "IPY_MODEL_49a9403c136445d3aa6b7cefb5c975ee",
       "toolbar_position": "left",
       "toolbar_visible": false
      }
     },
     "6507b7820aec4c2baddb9798202ccc2b": {
      "model_module": "@jupyter-widgets/controls",
      "model_module_version": "1.5.0",
      "model_name": "SliderStyleModel",
      "state": {
       "description_width": ""
      }
     },
     "651ea79e105f4fcb822bde084432fd5c": {
      "model_module": "@jupyter-widgets/base",
      "model_module_version": "1.2.0",
      "model_name": "LayoutModel",
      "state": {}
     },
     "6594281f60a94b969669a1b5a31250b9": {
      "model_module": "@jupyter-widgets/base",
      "model_module_version": "1.2.0",
      "model_name": "LayoutModel",
      "state": {}
     },
     "65b336c80de8492a830395f3341f70c2": {
      "model_module": "@jupyter-widgets/base",
      "model_module_version": "1.2.0",
      "model_name": "LayoutModel",
      "state": {}
     },
     "65b9a9891bf74d6aa6acfc8785910a05": {
      "model_module": "@jupyter-widgets/base",
      "model_module_version": "1.2.0",
      "model_name": "LayoutModel",
      "state": {
       "border": "solid 4px #222",
       "margin": "4px",
       "padding": "0"
      }
     },
     "65ca0014cd684e25a49d65fd597dd43b": {
      "model_module": "@jupyter-widgets/controls",
      "model_module_version": "1.5.0",
      "model_name": "CheckboxModel",
      "state": {
       "description": "Disable Medicina",
       "disabled": false,
       "layout": "IPY_MODEL_244b9d0af5c443e6b7411ed21b08c2c7",
       "style": "IPY_MODEL_2ff2f7d37aa64ca3b101333ad6a7f180",
       "value": false
      }
     },
     "6643c571b09041e6b95ce649aa1c3851": {
      "model_module": "@jupyter-widgets/controls",
      "model_module_version": "1.5.0",
      "model_name": "BoxModel",
      "state": {
       "children": [
        "IPY_MODEL_ba6ec67d55214146aff4f37583d8166b",
        "IPY_MODEL_3d60418cb2ef426bb5d6a0cd010caaaa"
       ],
       "layout": "IPY_MODEL_b27236d78b374f5095b615e980e6a80d"
      }
     },
     "6664caf558e14e6a879678ad50aa175c": {
      "model_module": "@jupyter-widgets/controls",
      "model_module_version": "1.5.0",
      "model_name": "FloatSliderModel",
      "state": {
       "description": "Compression Threshold",
       "layout": "IPY_MODEL_e18f3e759b404972afc004a478c3c1ab",
       "max": 1,
       "step": 0.01,
       "style": "IPY_MODEL_8b163dceb74c46b1a8767ba93757fa94",
       "value": 0.8
      }
     },
     "6682da45f45b4181b87b61901e232cb4": {
      "model_module": "@jupyter-widgets/controls",
      "model_module_version": "1.5.0",
      "model_name": "ButtonModel",
      "state": {
       "description": "Export Image",
       "layout": "IPY_MODEL_dccaff80e8204e5aa1f3f6260a798af4",
       "style": "IPY_MODEL_df441b9eb8ce42c49bc0cda02d849d17"
      }
     },
     "669a0b94027c421dbf90d45e8ecd0fe4": {
      "model_module": "@jupyter-widgets/controls",
      "model_module_version": "1.5.0",
      "model_name": "BoxModel",
      "state": {
       "children": [
        "IPY_MODEL_cb5464f4b6d945a285d3ce32186533df",
        "IPY_MODEL_8b2d4545a64149d4b3a4886b2b9090da"
       ],
       "layout": "IPY_MODEL_8a9aa14a60ba445d9d8054aa381ee228"
      }
     },
     "66deb0c8403a4425b04c6282e7fbae74": {
      "model_module": "@jupyter-widgets/controls",
      "model_module_version": "1.5.0",
      "model_name": "HBoxModel",
      "state": {
       "children": [
        "IPY_MODEL_ff03be7cab584ba997ada8ae88cc8baa",
        "IPY_MODEL_8dadc2ae3857471295800b49f53663e3"
       ],
       "layout": "IPY_MODEL_f89f2638f9534958adb1d4289dad4179"
      }
     },
     "66fd426107d8422d87996a8488e6f817": {
      "model_module": "@jupyter-widgets/controls",
      "model_module_version": "1.5.0",
      "model_name": "DropdownModel",
      "state": {
       "_options_labels": [
        "tanh",
        "atan",
        "simple"
       ],
       "description": "Compression Function:",
       "index": 0,
       "layout": "IPY_MODEL_764fb88477de4e57a62ad47165f7f2bf",
       "style": "IPY_MODEL_be66cdc0cba446ffb1dd41a77ec6b859"
      }
     },
     "671f665093c34eb09e53c12eaf878a68": {
      "model_module": "@jupyter-widgets/base",
      "model_module_version": "1.2.0",
      "model_name": "LayoutModel",
      "state": {}
     },
     "672e7c47950446029786d8fdd0f26bb7": {
      "model_module": "@jupyter-widgets/base",
      "model_module_version": "1.2.0",
      "model_name": "LayoutModel",
      "state": {}
     },
     "67d1f2fba52d456b8e072aed49754e73": {
      "model_module": "@jupyter-widgets/base",
      "model_module_version": "1.2.0",
      "model_name": "LayoutModel",
      "state": {}
     },
     "67e877c041d24e43a47fe66cd6212029": {
      "model_module": "@jupyter-widgets/base",
      "model_module_version": "1.2.0",
      "model_name": "LayoutModel",
      "state": {}
     },
     "67f442d9b5c440d69d0ef972ff796460": {
      "model_module": "@jupyter-widgets/base",
      "model_module_version": "1.2.0",
      "model_name": "LayoutModel",
      "state": {}
     },
     "6842f48c45774348994028e64481e32c": {
      "model_module": "@jupyter-widgets/controls",
      "model_module_version": "1.5.0",
      "model_name": "ButtonModel",
      "state": {
       "description": "Reset Hue Controls",
       "layout": "IPY_MODEL_1ca10057a5a049e18c8ff1f94a928807",
       "style": "IPY_MODEL_1797eea1f71847e39157bb4a8aa32e49"
      }
     },
     "686fc65128b24b1bad0fdccc05137fb7": {
      "model_module": "@jupyter-widgets/base",
      "model_module_version": "1.2.0",
      "model_name": "LayoutModel",
      "state": {}
     },
     "689fb37ad8b34d6fa25c4814383a1fb8": {
      "model_module": "@jupyter-widgets/controls",
      "model_module_version": "1.5.0",
      "model_name": "HBoxModel",
      "state": {
       "children": [
        "IPY_MODEL_7a8358ca966c4db58cab59a9740665f2",
        "IPY_MODEL_6affd463cbe84b53a825999857136f1a",
        "IPY_MODEL_9a0de18205774e14aca7a3080c31d9b8",
        "IPY_MODEL_28e0ce57d1a84a9c8d38257da217ff59"
       ],
       "layout": "IPY_MODEL_5b52165cdbad4817af2dad112634cb7f"
      }
     },
     "68a146af598c450c84fa167c2d1c3ec1": {
      "model_module": "@jupyter-widgets/base",
      "model_module_version": "1.2.0",
      "model_name": "LayoutModel",
      "state": {
       "border": "solid 4px #222",
       "margin": "4px",
       "padding": "0"
      }
     },
     "68b285c7357341169553a04fabe1738c": {
      "model_module": "@jupyter-widgets/controls",
      "model_module_version": "1.5.0",
      "model_name": "VBoxModel",
      "state": {
       "children": [
        "IPY_MODEL_301505af7fa34598bc171970e5d447a6"
       ],
       "layout": "IPY_MODEL_11494d3ce1ed47a0a069158ef7686088"
      }
     },
     "68caa33adec942c3b932e3460ee4a10e": {
      "model_module": "@jupyter-widgets/base",
      "model_module_version": "1.2.0",
      "model_name": "LayoutModel",
      "state": {}
     },
     "68dc99e9b1dd4bbca314a3e27ba6c252": {
      "model_module": "@jupyter-widgets/controls",
      "model_module_version": "1.5.0",
      "model_name": "SliderStyleModel",
      "state": {
       "description_width": ""
      }
     },
     "692e85e6dc2d4a4f870244f79c81a27c": {
      "model_module": "@jupyter-widgets/controls",
      "model_module_version": "1.5.0",
      "model_name": "HBoxModel",
      "state": {
       "children": [
        "IPY_MODEL_42554d1cc4c94c2f92667d95a9dca2b8",
        "IPY_MODEL_aacba73afba5413797dbab1a7b495d7b",
        "IPY_MODEL_cb43f8951aa64959bcaba84792ecbf10"
       ],
       "layout": "IPY_MODEL_216e4b9ef4bd4abd884c4a5c823a8323"
      }
     },
     "694c74b4c42b484c908530512386b519": {
      "model_module": "@jupyter-widgets/controls",
      "model_module_version": "1.5.0",
      "model_name": "FloatSliderModel",
      "state": {
       "description": "180°",
       "layout": "IPY_MODEL_27beb37de6ee4b758750ef33f6b8f505",
       "max": 1,
       "min": -1,
       "step": 0.01,
       "style": "IPY_MODEL_b2d5a5599e73431d925d5d394e25a501"
      }
     },
     "69757fc11a944049a40ca45514f2f91e": {
      "model_module": "@jupyter-widgets/base",
      "model_module_version": "1.2.0",
      "model_name": "LayoutModel",
      "state": {}
     },
     "69bbb7f6be6547438837d796de1c132e": {
      "model_module": "@jupyter-widgets/base",
      "model_module_version": "1.2.0",
      "model_name": "LayoutModel",
      "state": {}
     },
     "69ef0410cb1f44d58d41064e23cb70e7": {
      "model_module": "@jupyter-widgets/base",
      "model_module_version": "1.2.0",
      "model_name": "LayoutModel",
      "state": {}
     },
     "6ada464fa2f745108f29a1cf06c84c88": {
      "model_module": "@jupyter-widgets/base",
      "model_module_version": "1.2.0",
      "model_name": "LayoutModel",
      "state": {}
     },
     "6ae93dca088347d8bf452c7b90e2481f": {
      "model_module": "@jupyter-widgets/controls",
      "model_module_version": "1.5.0",
      "model_name": "FloatSliderModel",
      "state": {
       "description": "270°",
       "layout": "IPY_MODEL_7e01f5d7541842d09974cc771692d090",
       "max": 1,
       "min": -1,
       "step": 0.01,
       "style": "IPY_MODEL_dc844770d1194f81a19a2ca781f3b6b4"
      }
     },
     "6affd463cbe84b53a825999857136f1a": {
      "model_module": "@jupyter-widgets/controls",
      "model_module_version": "1.5.0",
      "model_name": "ButtonModel",
      "state": {
       "description": "Export Image",
       "layout": "IPY_MODEL_cb98fdfd3aa54630936e6a5689bd4bb9",
       "style": "IPY_MODEL_2e20ffd0767541999dcec4530b392d39"
      }
     },
     "6b0542249b294428afa14ff414a1b199": {
      "model_module": "@jupyter-widgets/controls",
      "model_module_version": "1.5.0",
      "model_name": "FloatSliderModel",
      "state": {
       "description": "Exposure",
       "layout": "IPY_MODEL_6b628ff9bd4046faa9911f3dd6203fa3",
       "max": 8,
       "min": -8,
       "step": 0.1,
       "style": "IPY_MODEL_0aef7857ea3344a6b4d7622d287c17d3"
      }
     },
     "6b301b3ec0b74a9a9a7d7fb61554be26": {
      "model_module": "@jupyter-widgets/controls",
      "model_module_version": "1.5.0",
      "model_name": "ButtonModel",
      "state": {
       "description": "Reset Saturation Controls",
       "layout": "IPY_MODEL_21140e25022c4e1fa075d8ac6e4e81c0",
       "style": "IPY_MODEL_5386a3705ece46ad8944a33cd17de625"
      }
     },
     "6b55574c4f3d41a98f50d415c5ae2545": {
      "model_module": "@jupyter-widgets/controls",
      "model_module_version": "1.5.0",
      "model_name": "ButtonStyleModel",
      "state": {}
     },
     "6b6223cf40be404d8696ba39b2fd50fc": {
      "model_module": "@jupyter-widgets/controls",
      "model_module_version": "1.5.0",
      "model_name": "SliderStyleModel",
      "state": {
       "description_width": ""
      }
     },
     "6b628ff9bd4046faa9911f3dd6203fa3": {
      "model_module": "@jupyter-widgets/base",
      "model_module_version": "1.2.0",
      "model_name": "LayoutModel",
      "state": {}
     },
     "6ba7d5c037ff45789eeecc8ccb9c50c5": {
      "model_module": "@jupyter-widgets/base",
      "model_module_version": "1.2.0",
      "model_name": "LayoutModel",
      "state": {
       "border": "solid 4px #222",
       "margin": "4px",
       "padding": "0"
      }
     },
     "6bcb349c480242f6b219483d447afafa": {
      "model_module": "@jupyter-widgets/controls",
      "model_module_version": "1.5.0",
      "model_name": "ButtonModel",
      "state": {
       "description": "Reset Protected Area",
       "layout": "IPY_MODEL_343b5b1898224318990bd675f2d0e6a5",
       "style": "IPY_MODEL_52b76a44525e42feb20637977e794ea0"
      }
     },
     "6c028c24b2574211b0b9168bed72f0b9": {
      "model_module": "@jupyter-widgets/output",
      "model_module_version": "1.0.0",
      "model_name": "OutputModel",
      "state": {
       "layout": "IPY_MODEL_fa7543efe7c54e20938f75a1cde34e21",
       "outputs": [
        {
         "data": {
          "application/vnd.jupyter.widget-view+json": {
           "model_id": "c06520d42b30429285bfc0adf5ff4737",
           "version_major": 2,
           "version_minor": 0
          },
          "text/plain": "Canvas(toolbar=Toolbar(toolitems=[('Home', 'Reset original view', 'home', 'home'), ('Back', 'Back to previous …"
         },
         "metadata": {},
         "output_type": "display_data"
        }
       ]
      }
     },
     "6c0909975d9a4c048fd7bd66b5bc889f": {
      "model_module": "@jupyter-widgets/base",
      "model_module_version": "1.2.0",
      "model_name": "LayoutModel",
      "state": {}
     },
     "6c4df25e33a640a4af1602752338fd73": {
      "model_module": "@jupyter-widgets/controls",
      "model_module_version": "1.5.0",
      "model_name": "FloatSliderModel",
      "state": {
       "description": "270°",
       "layout": "IPY_MODEL_0b2988d400d94844beb693428dc019a7",
       "max": 1,
       "min": -1,
       "step": 0.01,
       "style": "IPY_MODEL_3e05fb8406584688b9b49b7fdaf81b62"
      }
     },
     "6c85fe0d888f432580f85f237196f01c": {
      "model_module": "@jupyter-widgets/controls",
      "model_module_version": "1.5.0",
      "model_name": "SliderStyleModel",
      "state": {
       "description_width": ""
      }
     },
     "6c8d211afa0a47fa8f5ac0a7b6d8e120": {
      "model_module": "@jupyter-widgets/controls",
      "model_module_version": "1.5.0",
      "model_name": "ButtonStyleModel",
      "state": {}
     },
     "6caaed041e164499a80dc85196175c3b": {
      "model_module": "@jupyter-widgets/base",
      "model_module_version": "1.2.0",
      "model_name": "LayoutModel",
      "state": {}
     },
     "6cd8fde42c464770a3b5f0c322eb0caa": {
      "model_module": "@jupyter-widgets/base",
      "model_module_version": "1.2.0",
      "model_name": "LayoutModel",
      "state": {}
     },
     "6cdfd5e762cb4861a1e9c2594aa50827": {
      "model_module": "@jupyter-widgets/controls",
      "model_module_version": "1.5.0",
      "model_name": "DropdownModel",
      "state": {
       "_options_labels": [
        "tanh",
        "atan",
        "simple"
       ],
       "description": "Compression Function:",
       "index": 0,
       "layout": "IPY_MODEL_1d102f5053614df280ef7862b389ba01",
       "style": "IPY_MODEL_7b89a1b9e1e14b41811fd43e9c458d39"
      }
     },
     "6d4e3823c48f4afcb497ce0b5e35f7ed": {
      "model_module": "@jupyter-widgets/controls",
      "model_module_version": "1.5.0",
      "model_name": "SliderStyleModel",
      "state": {
       "description_width": ""
      }
     },
     "6de1db1ba931462881f7a446fa0ac86d": {
      "model_module": "@jupyter-widgets/controls",
      "model_module_version": "1.5.0",
      "model_name": "FloatSliderModel",
      "state": {
       "description": "Exposure",
       "layout": "IPY_MODEL_69757fc11a944049a40ca45514f2f91e",
       "max": 8,
       "min": -8,
       "step": 0.1,
       "style": "IPY_MODEL_886da84b8a70402086d7d45da24ea3ad"
      }
     },
     "6de5b43241ef47f4b4b89a2408fd9acd": {
      "model_module": "@jupyter-widgets/controls",
      "model_module_version": "1.5.0",
      "model_name": "DescriptionStyleModel",
      "state": {
       "description_width": ""
      }
     },
     "6e241abbae2944c3bd2cdf15650b80fa": {
      "model_module": "@jupyter-widgets/base",
      "model_module_version": "1.2.0",
      "model_name": "LayoutModel",
      "state": {}
     },
     "6e52b8abf8724fe094ba26731621dea5": {
      "model_module": "@jupyter-widgets/controls",
      "model_module_version": "1.5.0",
      "model_name": "SliderStyleModel",
      "state": {
       "description_width": ""
      }
     },
     "6e7486f268784d2f90e352f545360a79": {
      "model_module": "@jupyter-widgets/controls",
      "model_module_version": "1.5.0",
      "model_name": "BoxModel",
      "state": {
       "children": [
        "IPY_MODEL_d093cff442cc4897af6ff27451107f93",
        "IPY_MODEL_91fd03040d094ec095cedfd13483b56a"
       ],
       "layout": "IPY_MODEL_773ceab21ce14548879042801b9628a2"
      }
     },
     "6e7ee817b6474486a518fdbf9d9d6d3b": {
      "model_module": "@jupyter-widgets/base",
      "model_module_version": "1.2.0",
      "model_name": "LayoutModel",
      "state": {}
     },
     "6e88fa8294cf4759b5b2db6896f85b8f": {
      "model_module": "@jupyter-widgets/controls",
      "model_module_version": "1.5.0",
      "model_name": "SliderStyleModel",
      "state": {
       "description_width": ""
      }
     },
     "6ebf6360b1f54ebf91fc4b468b1fb345": {
      "model_module": "@jupyter-widgets/controls",
      "model_module_version": "1.5.0",
      "model_name": "ButtonModel",
      "state": {
       "description": "Export Image",
       "layout": "IPY_MODEL_aa7727d41a22480798b51d24e1bec7c1",
       "style": "IPY_MODEL_19b48a7aa3754525b918d827eb996743"
      }
     },
     "6ef040444e854f36910a2f13f9c65fe2": {
      "model_module": "@jupyter-widgets/base",
      "model_module_version": "1.2.0",
      "model_name": "LayoutModel",
      "state": {}
     },
     "6f77991dda5f417696fb9cd2a675d0c0": {
      "model_module": "@jupyter-widgets/base",
      "model_module_version": "1.2.0",
      "model_name": "LayoutModel",
      "state": {}
     },
     "6ff3a4a8c56a40bfa7858b9b1a5aeaa7": {
      "model_module": "@jupyter-widgets/controls",
      "model_module_version": "1.5.0",
      "model_name": "SliderStyleModel",
      "state": {
       "description_width": ""
      }
     },
     "7054ae18c5614907b5640af72708b683": {
      "model_module": "@jupyter-widgets/controls",
      "model_module_version": "1.5.0",
      "model_name": "SliderStyleModel",
      "state": {
       "description_width": ""
      }
     },
     "705bf44f0cde4724861acbbfd89d5f64": {
      "model_module": "@jupyter-widgets/base",
      "model_module_version": "1.2.0",
      "model_name": "LayoutModel",
      "state": {}
     },
     "707df6b3d8d04a06a620d83e5d7628dc": {
      "model_module": "@jupyter-widgets/base",
      "model_module_version": "1.2.0",
      "model_name": "LayoutModel",
      "state": {
       "border": "solid 4px #222",
       "margin": "4px",
       "padding": "0"
      }
     },
     "7097b4ceda6b4226a3f6807ef48edfc8": {
      "model_module": "@jupyter-widgets/base",
      "model_module_version": "1.2.0",
      "model_name": "LayoutModel",
      "state": {}
     },
     "70a36b279fe84ab48e3b937dd73ec1ea": {
      "model_module": "@jupyter-widgets/base",
      "model_module_version": "1.2.0",
      "model_name": "LayoutModel",
      "state": {}
     },
     "70a8a7b6b0714d568f3ef445a9f12886": {
      "model_module": "@jupyter-widgets/base",
      "model_module_version": "1.2.0",
      "model_name": "LayoutModel",
      "state": {}
     },
     "70b9ef4d764c4f7c9e12f69bcda36836": {
      "model_module": "@jupyter-widgets/controls",
      "model_module_version": "1.5.0",
      "model_name": "CheckboxModel",
      "state": {
       "description": "Disable Medicina",
       "disabled": false,
       "layout": "IPY_MODEL_5340aff03e464d93b0c647b31ff5b069",
       "style": "IPY_MODEL_5594b404f1a74e0a970a9977253ced0b",
       "value": false
      }
     },
     "70c46e6f082e4bc7b00eceafd65769a9": {
      "model_module": "@jupyter-widgets/controls",
      "model_module_version": "1.5.0",
      "model_name": "SliderStyleModel",
      "state": {
       "description_width": ""
      }
     },
     "70da17c8bcc74c7797c2dd36c594a939": {
      "model_module": "@jupyter-widgets/controls",
      "model_module_version": "1.5.0",
      "model_name": "SliderStyleModel",
      "state": {
       "description_width": ""
      }
     },
     "70e1d033030b4379b54b5016c0d6a0a4": {
      "model_module": "@jupyter-widgets/base",
      "model_module_version": "1.2.0",
      "model_name": "LayoutModel",
      "state": {}
     },
     "70e412c06acb4778bfa5f80d1c6458df": {
      "model_module": "@jupyter-widgets/controls",
      "model_module_version": "1.5.0",
      "model_name": "CheckboxModel",
      "state": {
       "description": "Disable Medicina",
       "disabled": false,
       "layout": "IPY_MODEL_686fc65128b24b1bad0fdccc05137fb7",
       "style": "IPY_MODEL_891d2f66477c444a880d51f55db48770",
       "value": false
      }
     },
     "710b34b8f33d406c9293b680e1428c23": {
      "model_module": "@jupyter-widgets/base",
      "model_module_version": "1.2.0",
      "model_name": "LayoutModel",
      "state": {}
     },
     "71165cab7fc7475d8a23b649bf2e1fb8": {
      "model_module": "@jupyter-widgets/controls",
      "model_module_version": "1.5.0",
      "model_name": "ButtonStyleModel",
      "state": {}
     },
     "7138d701822c46de943f87e0187c0607": {
      "model_module": "jupyter-matplotlib",
      "model_module_version": "^0.7.2",
      "model_name": "ToolbarModel",
      "state": {
       "layout": "IPY_MODEL_23ea3b0cd5304bd583cb44a2cc058f84",
       "toolitems": [
        [
         "Home",
         "Reset original view",
         "home",
         "home"
        ],
        [
         "Back",
         "Back to previous view",
         "arrow-left",
         "back"
        ],
        [
         "Forward",
         "Forward to next view",
         "arrow-right",
         "forward"
        ],
        [
         "Pan",
         "Pan axes with left mouse, zoom with right",
         "arrows",
         "pan"
        ],
        [
         "Zoom",
         "Zoom to rectangle",
         "square-o",
         "zoom"
        ],
        [
         "Download",
         "Download plot",
         "floppy-o",
         "save_figure"
        ]
       ]
      }
     },
     "7172579c8c0847d7a073203e7f4c1eee": {
      "model_module": "@jupyter-widgets/base",
      "model_module_version": "1.2.0",
      "model_name": "LayoutModel",
      "state": {}
     },
     "7186d2de447047689f3c892978e78601": {
      "model_module": "@jupyter-widgets/base",
      "model_module_version": "1.2.0",
      "model_name": "LayoutModel",
      "state": {}
     },
     "71887ace61334cf4a57c089142cbbd37": {
      "model_module": "@jupyter-widgets/base",
      "model_module_version": "1.2.0",
      "model_name": "LayoutModel",
      "state": {}
     },
     "71d61ea5abdc4bac9d26afc5f51b4a9c": {
      "model_module": "@jupyter-widgets/base",
      "model_module_version": "1.2.0",
      "model_name": "LayoutModel",
      "state": {}
     },
     "71f16efc811649d899aad4ddebeecc7f": {
      "model_module": "@jupyter-widgets/controls",
      "model_module_version": "1.5.0",
      "model_name": "DescriptionStyleModel",
      "state": {
       "description_width": ""
      }
     },
     "721ef05f785641c0bbcc47639ca47d91": {
      "model_module": "@jupyter-widgets/base",
      "model_module_version": "1.2.0",
      "model_name": "LayoutModel",
      "state": {}
     },
     "72294b74c5dd40bc91e6414d9898c37a": {
      "model_module": "@jupyter-widgets/controls",
      "model_module_version": "1.5.0",
      "model_name": "SliderStyleModel",
      "state": {
       "description_width": ""
      }
     },
     "722cae9a8531488ca7dbd0e07d182cf1": {
      "model_module": "@jupyter-widgets/controls",
      "model_module_version": "1.5.0",
      "model_name": "DescriptionStyleModel",
      "state": {
       "description_width": ""
      }
     },
     "728c254c7660409dae8419bd4360bb85": {
      "model_module": "@jupyter-widgets/base",
      "model_module_version": "1.2.0",
      "model_name": "LayoutModel",
      "state": {}
     },
     "72cb75e684e345baa5090df0876f589a": {
      "model_module": "@jupyter-widgets/base",
      "model_module_version": "1.2.0",
      "model_name": "LayoutModel",
      "state": {}
     },
     "733d423d143b4fafb25a98a936821e5e": {
      "model_module": "@jupyter-widgets/controls",
      "model_module_version": "1.5.0",
      "model_name": "SliderStyleModel",
      "state": {
       "description_width": ""
      }
     },
     "7379f71383e142eca9862f71cd2b9f73": {
      "model_module": "@jupyter-widgets/controls",
      "model_module_version": "1.5.0",
      "model_name": "ButtonModel",
      "state": {
       "description": "Reset Saturation Controls",
       "layout": "IPY_MODEL_169795615d9749349a9547daffea3e39",
       "style": "IPY_MODEL_1a8b6eecf6374c178eebec755a2bceaf"
      }
     },
     "73c45d7b94c14a22bc385d300dcc8937": {
      "model_module": "@jupyter-widgets/base",
      "model_module_version": "1.2.0",
      "model_name": "LayoutModel",
      "state": {}
     },
     "73e7e80967694fce97b77df7d7637fdf": {
      "model_module": "@jupyter-widgets/controls",
      "model_module_version": "1.5.0",
      "model_name": "SliderStyleModel",
      "state": {
       "description_width": ""
      }
     },
     "73f0eed0991643c59960298a817f594d": {
      "model_module": "@jupyter-widgets/controls",
      "model_module_version": "1.5.0",
      "model_name": "VBoxModel",
      "state": {
       "children": [
        "IPY_MODEL_10fe6dee9e4e4720a9804ae0c841c2cb",
        "IPY_MODEL_fbf8c3ff324744d0a6bb37c1ccd2938f",
        "IPY_MODEL_39e2c7f7178a42f9bb9fed438733ba71"
       ],
       "layout": "IPY_MODEL_d92d38b881e74b58ab036cc83aa719cc"
      }
     },
     "7412eddc2d6b47ed83174d6b4417b1d7": {
      "model_module": "@jupyter-widgets/controls",
      "model_module_version": "1.5.0",
      "model_name": "SliderStyleModel",
      "state": {
       "description_width": ""
      }
     },
     "746497120585489bace648d9798b7f22": {
      "model_module": "@jupyter-widgets/controls",
      "model_module_version": "1.5.0",
      "model_name": "FloatSliderModel",
      "state": {
       "description": "315°",
       "layout": "IPY_MODEL_3a100d564ab14acfa49bfb400cb54edc",
       "max": 1,
       "min": -1,
       "step": 0.01,
       "style": "IPY_MODEL_a57297546bb840eaa81ab89dc4d6e5e7"
      }
     },
     "750695e92059483097931316929419d5": {
      "model_module": "@jupyter-widgets/controls",
      "model_module_version": "1.5.0",
      "model_name": "SliderStyleModel",
      "state": {
       "description_width": ""
      }
     },
     "75143c0e92524e40947733f9bc5fc9b8": {
      "model_module": "@jupyter-widgets/controls",
      "model_module_version": "1.5.0",
      "model_name": "CheckboxModel",
      "state": {
       "description": "Disable Medicina",
       "disabled": false,
       "layout": "IPY_MODEL_8431f3f19e114ab2bf5d161dd947ee98",
       "style": "IPY_MODEL_77432b5d29224397808a48dc1f5e54e3",
       "value": false
      }
     },
     "7514e3ef8bfb40429cc1ab22e12c905e": {
      "model_module": "@jupyter-widgets/base",
      "model_module_version": "1.2.0",
      "model_name": "LayoutModel",
      "state": {}
     },
     "7533838b06a54e3d957e6e3137312aae": {
      "model_module": "@jupyter-widgets/controls",
      "model_module_version": "1.5.0",
      "model_name": "VBoxModel",
      "state": {
       "children": [
        "IPY_MODEL_58e9aa44524f47198d62151722abac9a",
        "IPY_MODEL_3603d40ca14544a38694ec90248f3589"
       ],
       "layout": "IPY_MODEL_84d68723d1b944728caeab91794c92a2"
      }
     },
     "755e11bf0d9f4aada8c490c8ca3a4760": {
      "model_module": "@jupyter-widgets/controls",
      "model_module_version": "1.5.0",
      "model_name": "SliderStyleModel",
      "state": {
       "description_width": ""
      }
     },
     "757c4cb101db48ff846e2946db10b3ef": {
      "model_module": "@jupyter-widgets/output",
      "model_module_version": "1.0.0",
      "model_name": "OutputModel",
      "state": {
       "layout": "IPY_MODEL_6277c40c79694da18f89e8956f7b5250",
       "outputs": [
        {
         "data": {
          "application/vnd.jupyter.widget-view+json": {
           "model_id": "135104b93167466792b3ab56694defbc",
           "version_major": 2,
           "version_minor": 0
          },
          "text/plain": "Canvas(toolbar=Toolbar(toolitems=[('Home', 'Reset original view', 'home', 'home'), ('Back', 'Back to previous …"
         },
         "metadata": {},
         "output_type": "display_data"
        }
       ]
      }
     },
     "757f46d7009a4c859806e32d9ddcc271": {
      "model_module": "@jupyter-widgets/controls",
      "model_module_version": "1.5.0",
      "model_name": "BoxModel",
      "state": {
       "children": [
        "IPY_MODEL_889ece7dd7864ebcb668088fd13c6529",
        "IPY_MODEL_45afcb4746d8470ba093e1b1059ed7ec"
       ],
       "layout": "IPY_MODEL_fb2cecc0137c47548e3d5e3529dcfc3f"
      }
     },
     "75e4ad5209724a3abbcb3c4403f65cdd": {
      "model_module": "@jupyter-widgets/base",
      "model_module_version": "1.2.0",
      "model_name": "LayoutModel",
      "state": {}
     },
     "75f61e8511d3472583a5a3696bf658ab": {
      "model_module": "@jupyter-widgets/controls",
      "model_module_version": "1.5.0",
      "model_name": "SliderStyleModel",
      "state": {
       "description_width": ""
      }
     },
     "7613a44cf2104a60a51b8dfa6b7ccc5c": {
      "model_module": "@jupyter-widgets/controls",
      "model_module_version": "1.5.0",
      "model_name": "ButtonModel",
      "state": {
       "description": "Reset Compression Controls",
       "layout": "IPY_MODEL_8d9a6c6eefb547b6ac4116d05657fa45",
       "style": "IPY_MODEL_b94e9c2550204822adadbfbf278303a7"
      }
     },
     "7614633ff85e4b1c91d7596e52508e3a": {
      "model_module": "@jupyter-widgets/controls",
      "model_module_version": "1.5.0",
      "model_name": "VBoxModel",
      "state": {
       "children": [
        "IPY_MODEL_407c0c5c3a5e43cbb48478d269eabcf6",
        "IPY_MODEL_fa350d4762444ba79699cf78443da04d",
        "IPY_MODEL_1b0b312644a147ea8e3a4225ccfa8fc1"
       ],
       "layout": "IPY_MODEL_2dff0478361e4c9ca0c254720cc6312c"
      }
     },
     "7615ae5e513a4783bb24abdd6c132ba8": {
      "model_module": "@jupyter-widgets/controls",
      "model_module_version": "1.5.0",
      "model_name": "HBoxModel",
      "state": {
       "children": [
        "IPY_MODEL_ed56f865e8bd425d9bf2c0e961789bf6",
        "IPY_MODEL_07f38b444dff4ae984b9c25d070776a4",
        "IPY_MODEL_506549bb67e44c70abaec75ab9e27444",
        "IPY_MODEL_82c56dcb6240477c8c87a0ff447543b3"
       ],
       "layout": "IPY_MODEL_06b1e999949b4360b6a22a5182fed0ab"
      }
     },
     "7648622f54ea48359c7090d983cbae6c": {
      "model_module": "@jupyter-widgets/base",
      "model_module_version": "1.2.0",
      "model_name": "LayoutModel",
      "state": {}
     },
     "764fb88477de4e57a62ad47165f7f2bf": {
      "model_module": "@jupyter-widgets/base",
      "model_module_version": "1.2.0",
      "model_name": "LayoutModel",
      "state": {}
     },
     "76e27e3a6e7344669febbf07c4d204d6": {
      "model_module": "@jupyter-widgets/base",
      "model_module_version": "1.2.0",
      "model_name": "LayoutModel",
      "state": {}
     },
     "76ecfefdf0f74817a4d7e466692d4ccb": {
      "model_module": "@jupyter-widgets/controls",
      "model_module_version": "1.5.0",
      "model_name": "ButtonStyleModel",
      "state": {}
     },
     "76f0a5b047ed4c559f0fd62dc81aa718": {
      "model_module": "@jupyter-widgets/controls",
      "model_module_version": "1.5.0",
      "model_name": "FloatSliderModel",
      "state": {
       "description": "315°",
       "layout": "IPY_MODEL_b11df42f32444eddbae410b7b81a36e3",
       "max": 1,
       "min": -1,
       "step": 0.01,
       "style": "IPY_MODEL_d727bcac3f6c467cb5517d25092796d8"
      }
     },
     "7724b8bbb7ed45148a9cc76b7d05f2a4": {
      "model_module": "@jupyter-widgets/base",
      "model_module_version": "1.2.0",
      "model_name": "LayoutModel",
      "state": {}
     },
     "773ceab21ce14548879042801b9628a2": {
      "model_module": "@jupyter-widgets/base",
      "model_module_version": "1.2.0",
      "model_name": "LayoutModel",
      "state": {
       "align_items": "stretch",
       "display": "flex",
       "flex_flow": "column",
       "width": "1128px"
      }
     },
     "77432b5d29224397808a48dc1f5e54e3": {
      "model_module": "@jupyter-widgets/controls",
      "model_module_version": "1.5.0",
      "model_name": "DescriptionStyleModel",
      "state": {
       "description_width": ""
      }
     },
     "7779d59ea50a4b58971cf14006c8d774": {
      "model_module": "@jupyter-widgets/controls",
      "model_module_version": "1.5.0",
      "model_name": "DropdownModel",
      "state": {
       "_options_labels": [
        "tanh",
        "atan",
        "simple"
       ],
       "description": "Compression Function:",
       "index": 0,
       "layout": "IPY_MODEL_5c61c8fe68aa4b8b822e7264077d7e52",
       "style": "IPY_MODEL_648f2b0c7eed4cb28ea6b077261221d6"
      }
     },
     "7832af46ba544ab1a3eb7c5f9d96a56b": {
      "model_module": "@jupyter-widgets/base",
      "model_module_version": "1.2.0",
      "model_name": "LayoutModel",
      "state": {}
     },
     "785e97d4923a47ceab6cc40b007632ea": {
      "model_module": "@jupyter-widgets/base",
      "model_module_version": "1.2.0",
      "model_name": "LayoutModel",
      "state": {}
     },
     "7896ec4b80564922b01a29f4e761f52d": {
      "model_module": "@jupyter-widgets/controls",
      "model_module_version": "1.5.0",
      "model_name": "SliderStyleModel",
      "state": {
       "description_width": ""
      }
     },
     "78c601641edc4b19afd1c28180d1d4b0": {
      "model_module": "@jupyter-widgets/base",
      "model_module_version": "1.2.0",
      "model_name": "LayoutModel",
      "state": {}
     },
     "792b3a5778b4479b8995d3536221aa84": {
      "model_module": "@jupyter-widgets/base",
      "model_module_version": "1.2.0",
      "model_name": "LayoutModel",
      "state": {}
     },
     "79a914dbbb1c4d4ca385bcbdfd147d29": {
      "model_module": "@jupyter-widgets/base",
      "model_module_version": "1.2.0",
      "model_name": "LayoutModel",
      "state": {}
     },
     "79b317f2c9ae4e6182540ecd119e0b0a": {
      "model_module": "@jupyter-widgets/base",
      "model_module_version": "1.2.0",
      "model_name": "LayoutModel",
      "state": {}
     },
     "79ba4054f0f5477597420a1c430dc070": {
      "model_module": "@jupyter-widgets/controls",
      "model_module_version": "1.5.0",
      "model_name": "SliderStyleModel",
      "state": {
       "description_width": ""
      }
     },
     "79c3f0bd31734c0d97b5aeac7343cc60": {
      "model_module": "@jupyter-widgets/base",
      "model_module_version": "1.2.0",
      "model_name": "LayoutModel",
      "state": {}
     },
     "79c85ed5b7f84448bfd33c229dac436c": {
      "model_module": "@jupyter-widgets/base",
      "model_module_version": "1.2.0",
      "model_name": "LayoutModel",
      "state": {}
     },
     "79de2178fd5a43a78072ba6131abe489": {
      "model_module": "@jupyter-widgets/base",
      "model_module_version": "1.2.0",
      "model_name": "LayoutModel",
      "state": {}
     },
     "79e213e3f27c4ac4b5e5c7561f0732f4": {
      "model_module": "@jupyter-widgets/base",
      "model_module_version": "1.2.0",
      "model_name": "LayoutModel",
      "state": {}
     },
     "79e986eb324f493191ef83f02802e37d": {
      "model_module": "@jupyter-widgets/controls",
      "model_module_version": "1.5.0",
      "model_name": "FloatSliderModel",
      "state": {
       "description": "0°",
       "layout": "IPY_MODEL_d946f585a8654587a5b361b2974ef6c4",
       "max": 1,
       "min": -1,
       "step": 0.01,
       "style": "IPY_MODEL_848786b4f1a9444389dd3944ab70491a"
      }
     },
     "79f2361182f2492886263c7702ced3ce": {
      "model_module": "@jupyter-widgets/base",
      "model_module_version": "1.2.0",
      "model_name": "LayoutModel",
      "state": {}
     },
     "7a096bbb3abe46cc99dc81eb2f40414a": {
      "model_module": "@jupyter-widgets/controls",
      "model_module_version": "1.5.0",
      "model_name": "SliderStyleModel",
      "state": {
       "description_width": ""
      }
     },
     "7a8358ca966c4db58cab59a9740665f2": {
      "model_module": "@jupyter-widgets/controls",
      "model_module_version": "1.5.0",
      "model_name": "CheckboxModel",
      "state": {
       "description": "Disable Medicina",
       "disabled": false,
       "layout": "IPY_MODEL_83fa601e79344488bcd1b23e2ab4474e",
       "style": "IPY_MODEL_cac44fcc6f23430dadf0f6f492b47784",
       "value": false
      }
     },
     "7ad2f08fd9514e8f9ab94253a507931a": {
      "model_module": "@jupyter-widgets/base",
      "model_module_version": "1.2.0",
      "model_name": "LayoutModel",
      "state": {}
     },
     "7ad616ff1f19467dbe23cf38c4eed5d0": {
      "model_module": "@jupyter-widgets/base",
      "model_module_version": "1.2.0",
      "model_name": "LayoutModel",
      "state": {}
     },
     "7af7587b42fc4b2184aa5b9106b59600": {
      "model_module": "jupyter-matplotlib",
      "model_module_version": "^0.7.2",
      "model_name": "MPLCanvasModel",
      "state": {
       "_figure_label": "Figure 22",
       "_height": 440,
       "_width": 1100,
       "header_visible": false,
       "layout": "IPY_MODEL_8041225afaec412ab455ca21e1e3d2c4",
       "resizable": false,
       "toolbar": "IPY_MODEL_0b6308e04957448a90f06b21047d491f",
       "toolbar_position": "left",
       "toolbar_visible": false
      }
     },
     "7b03b695e1ac4cc997371de2326034ca": {
      "model_module": "@jupyter-widgets/controls",
      "model_module_version": "1.5.0",
      "model_name": "DescriptionStyleModel",
      "state": {
       "description_width": ""
      }
     },
     "7b09feb75d0a4769b4f9c502207aecb4": {
      "model_module": "@jupyter-widgets/controls",
      "model_module_version": "1.5.0",
      "model_name": "ButtonModel",
      "state": {
       "description": "Reset Protected Area",
       "layout": "IPY_MODEL_be32845374614ffb9b90dc28664d7260",
       "style": "IPY_MODEL_89e6e01c547e4577adae6915f28953a7"
      }
     },
     "7b1b338686ed45348075f5dabbbd0d80": {
      "model_module": "@jupyter-widgets/controls",
      "model_module_version": "1.5.0",
      "model_name": "DescriptionStyleModel",
      "state": {
       "description_width": ""
      }
     },
     "7b1bed82aadb4dffb621c83b90598759": {
      "model_module": "@jupyter-widgets/base",
      "model_module_version": "1.2.0",
      "model_name": "LayoutModel",
      "state": {}
     },
     "7b283ac728694fc78d08a395e32622d4": {
      "model_module": "@jupyter-widgets/base",
      "model_module_version": "1.2.0",
      "model_name": "LayoutModel",
      "state": {}
     },
     "7b7f5412f67449d4b6bea38356f4ef3d": {
      "model_module": "jupyter-matplotlib",
      "model_module_version": "^0.7.2",
      "model_name": "MPLCanvasModel",
      "state": {
       "_figure_label": "Figure 2",
       "_height": 396,
       "_width": 1100,
       "header_visible": false,
       "layout": "IPY_MODEL_ca93e90b63fd460e9b3119997be6044e",
       "resizable": false,
       "toolbar": "IPY_MODEL_c795c78d246741678f19bb3f93797507",
       "toolbar_position": "left",
       "toolbar_visible": false
      }
     },
     "7b89a1b9e1e14b41811fd43e9c458d39": {
      "model_module": "@jupyter-widgets/controls",
      "model_module_version": "1.5.0",
      "model_name": "DescriptionStyleModel",
      "state": {
       "description_width": ""
      }
     },
     "7b8ed4292d764581be5b586ba0030fa0": {
      "model_module": "@jupyter-widgets/controls",
      "model_module_version": "1.5.0",
      "model_name": "FloatSliderModel",
      "state": {
       "description": "135°",
       "layout": "IPY_MODEL_0e46e80f7486428780e5547944cfe90d",
       "max": 1,
       "min": -1,
       "step": 0.01,
       "style": "IPY_MODEL_a2257bdba40e4f82b3665ae9f1f5e980"
      }
     },
     "7bd83b1dd7e5414b9a094eb008fe4cea": {
      "model_module": "@jupyter-widgets/controls",
      "model_module_version": "1.5.0",
      "model_name": "ButtonStyleModel",
      "state": {}
     },
     "7c26ac03962a4e5b8ab1d541220728cd": {
      "model_module": "@jupyter-widgets/base",
      "model_module_version": "1.2.0",
      "model_name": "LayoutModel",
      "state": {}
     },
     "7c646006a1c945f6ba1c5aa6d0657d11": {
      "model_module": "@jupyter-widgets/controls",
      "model_module_version": "1.5.0",
      "model_name": "SliderStyleModel",
      "state": {
       "description_width": ""
      }
     },
     "7c700aa8c2be4f76950ba97d968c49aa": {
      "model_module": "@jupyter-widgets/controls",
      "model_module_version": "1.5.0",
      "model_name": "FloatSliderModel",
      "state": {
       "description": "0°",
       "layout": "IPY_MODEL_c172463f22914e2ab168496ad41bb756",
       "max": 1,
       "min": -1,
       "step": 0.01,
       "style": "IPY_MODEL_e1816e50155e45b9aed642797f59ab7a"
      }
     },
     "7c8309279fc341539f3bb1956077b751": {
      "model_module": "@jupyter-widgets/output",
      "model_module_version": "1.0.0",
      "model_name": "OutputModel",
      "state": {
       "layout": "IPY_MODEL_c30843625485434eb56bedf498a9b2b6",
       "outputs": [
        {
         "data": {
          "application/vnd.jupyter.widget-view+json": {
           "model_id": "0e146aac08014f96939acf8e830934c7",
           "version_major": 2,
           "version_minor": 0
          },
          "text/plain": "Canvas(toolbar=Toolbar(toolitems=[('Home', 'Reset original view', 'home', 'home'), ('Back', 'Back to previous …"
         },
         "metadata": {},
         "output_type": "display_data"
        }
       ]
      }
     },
     "7c9ebd329c744125947c4b8015b2b836": {
      "model_module": "@jupyter-widgets/base",
      "model_module_version": "1.2.0",
      "model_name": "LayoutModel",
      "state": {
       "align_items": "stretch",
       "display": "flex",
       "flex_flow": "column",
       "width": "1128px"
      }
     },
     "7ca5370505dd4e1285c58af676c94c1f": {
      "model_module": "@jupyter-widgets/controls",
      "model_module_version": "1.5.0",
      "model_name": "FloatSliderModel",
      "state": {
       "description": "0°",
       "layout": "IPY_MODEL_f59d44ea13464acb85f946d716bfcb1d",
       "max": 1,
       "min": -1,
       "step": 0.01,
       "style": "IPY_MODEL_fe0409e1806040979c523e017aeeac86"
      }
     },
     "7caac84460104591a2a0f42aa73685ac": {
      "model_module": "@jupyter-widgets/base",
      "model_module_version": "1.2.0",
      "model_name": "LayoutModel",
      "state": {}
     },
     "7d6ea83996d74068b5114804cef80d17": {
      "model_module": "@jupyter-widgets/base",
      "model_module_version": "1.2.0",
      "model_name": "LayoutModel",
      "state": {}
     },
     "7d81630d47874660859a028b4687b115": {
      "model_module": "@jupyter-widgets/base",
      "model_module_version": "1.2.0",
      "model_name": "LayoutModel",
      "state": {}
     },
     "7dd41a72f0ba4ba9b552bccbd4ac47ed": {
      "model_module": "@jupyter-widgets/base",
      "model_module_version": "1.2.0",
      "model_name": "LayoutModel",
      "state": {}
     },
     "7deefa9ba97b4c40926079d3bcdc2e7c": {
      "model_module": "@jupyter-widgets/base",
      "model_module_version": "1.2.0",
      "model_name": "LayoutModel",
      "state": {}
     },
     "7e01f5d7541842d09974cc771692d090": {
      "model_module": "@jupyter-widgets/base",
      "model_module_version": "1.2.0",
      "model_name": "LayoutModel",
      "state": {}
     },
     "7e1fc5c0e7b047b9acfbe23824ad8df3": {
      "model_module": "@jupyter-widgets/base",
      "model_module_version": "1.2.0",
      "model_name": "LayoutModel",
      "state": {}
     },
     "7e4f48ebe1974f1abeb8ebe830877137": {
      "model_module": "@jupyter-widgets/controls",
      "model_module_version": "1.5.0",
      "model_name": "ButtonStyleModel",
      "state": {}
     },
     "7e8b97df93534525bf58876518b7585c": {
      "model_module": "@jupyter-widgets/controls",
      "model_module_version": "1.5.0",
      "model_name": "HBoxModel",
      "state": {
       "children": [
        "IPY_MODEL_0ace22b53e2f4dd7a6c82241cc47b9d4",
        "IPY_MODEL_59e25e6b8b6b4dabb82e324f68ee4861",
        "IPY_MODEL_aeadbd77e14a4bf4b7897947f69b9ccc",
        "IPY_MODEL_26fe484d771a4b86ae38b7bbe25b0c5d"
       ],
       "layout": "IPY_MODEL_f20dc916aab04d43a59fa10d2f734360"
      }
     },
     "7e914f7da333404f864dc339a79adc8b": {
      "model_module": "@jupyter-widgets/base",
      "model_module_version": "1.2.0",
      "model_name": "LayoutModel",
      "state": {}
     },
     "7eb03d5dc6a1422f8fc604804860feef": {
      "model_module": "@jupyter-widgets/base",
      "model_module_version": "1.2.0",
      "model_name": "LayoutModel",
      "state": {}
     },
     "7ed7031ae4874ae9bd8f22e81eef4df1": {
      "model_module": "@jupyter-widgets/controls",
      "model_module_version": "1.5.0",
      "model_name": "ButtonStyleModel",
      "state": {}
     },
     "7eea229a5f6747d89aa9a0d26f6acd2d": {
      "model_module": "@jupyter-widgets/base",
      "model_module_version": "1.2.0",
      "model_name": "LayoutModel",
      "state": {}
     },
     "7f81e99fef0d4355809d828713adbfc9": {
      "model_module": "@jupyter-widgets/controls",
      "model_module_version": "1.5.0",
      "model_name": "FloatSliderModel",
      "state": {
       "description": "Exposure",
       "layout": "IPY_MODEL_dce86c17fc7646ed87fad821a6c7d968",
       "max": 8,
       "min": -8,
       "step": 0.1,
       "style": "IPY_MODEL_e20a5c8b781d4f3dbb1e6896729b03b0"
      }
     },
     "800b4c5b846e411d8b09d05ef07abadb": {
      "model_module": "@jupyter-widgets/controls",
      "model_module_version": "1.5.0",
      "model_name": "ButtonStyleModel",
      "state": {}
     },
     "8041225afaec412ab455ca21e1e3d2c4": {
      "model_module": "@jupyter-widgets/base",
      "model_module_version": "1.2.0",
      "model_name": "LayoutModel",
      "state": {}
     },
     "8077cc26cccf44a0a26cca317343d7fc": {
      "model_module": "@jupyter-widgets/base",
      "model_module_version": "1.2.0",
      "model_name": "LayoutModel",
      "state": {
       "border": "solid 4px #222",
       "margin": "4px",
       "padding": "0"
      }
     },
     "809501de3d9d4f57b57e0235e8077dea": {
      "model_module": "@jupyter-widgets/controls",
      "model_module_version": "1.5.0",
      "model_name": "VBoxModel",
      "state": {
       "children": [
        "IPY_MODEL_17b4a15eeef24bd4b11f6fb83adc2ff8",
        "IPY_MODEL_3f5e65ff1fcf4012a9f0e509c7c2ab7e",
        "IPY_MODEL_14d1985dd11140149c7a0696920e3d18"
       ],
       "layout": "IPY_MODEL_efb2f26dadf04358a1f35d5851c94b92"
      }
     },
     "80d9f75122f24e56af57bf022b81c599": {
      "model_module": "jupyter-matplotlib",
      "model_module_version": "^0.7.2",
      "model_name": "ToolbarModel",
      "state": {
       "layout": "IPY_MODEL_6ef040444e854f36910a2f13f9c65fe2",
       "toolitems": [
        [
         "Home",
         "Reset original view",
         "home",
         "home"
        ],
        [
         "Back",
         "Back to previous view",
         "arrow-left",
         "back"
        ],
        [
         "Forward",
         "Forward to next view",
         "arrow-right",
         "forward"
        ],
        [
         "Pan",
         "Pan axes with left mouse, zoom with right",
         "arrows",
         "pan"
        ],
        [
         "Zoom",
         "Zoom to rectangle",
         "square-o",
         "zoom"
        ],
        [
         "Download",
         "Download plot",
         "floppy-o",
         "save_figure"
        ]
       ]
      }
     },
     "80f181b95ca04c26a52c134e3548b7f6": {
      "model_module": "@jupyter-widgets/controls",
      "model_module_version": "1.5.0",
      "model_name": "FloatSliderModel",
      "state": {
       "description": "0°",
       "layout": "IPY_MODEL_222718f8ecb34e5bb9dcfa720b4ab0c6",
       "max": 1,
       "min": -1,
       "step": 0.01,
       "style": "IPY_MODEL_02429081264145f6956e9e3db496734c"
      }
     },
     "80f50417fbb3462f8a9b86123c79d3fd": {
      "model_module": "@jupyter-widgets/controls",
      "model_module_version": "1.5.0",
      "model_name": "SliderStyleModel",
      "state": {
       "description_width": ""
      }
     },
     "80f607c517a74b11a4860e6085bb30cc": {
      "model_module": "@jupyter-widgets/base",
      "model_module_version": "1.2.0",
      "model_name": "LayoutModel",
      "state": {}
     },
     "811da1ecbf354912a1a9576118e0d6d8": {
      "model_module": "@jupyter-widgets/base",
      "model_module_version": "1.2.0",
      "model_name": "LayoutModel",
      "state": {}
     },
     "8156bb9917c44ecc95785f0fdb1a4837": {
      "model_module": "@jupyter-widgets/controls",
      "model_module_version": "1.5.0",
      "model_name": "DescriptionStyleModel",
      "state": {
       "description_width": ""
      }
     },
     "815cac4f432a41a7a9b814c246a6c635": {
      "model_module": "@jupyter-widgets/base",
      "model_module_version": "1.2.0",
      "model_name": "LayoutModel",
      "state": {}
     },
     "81ef2f5f1c9e47498bbe0187552c1462": {
      "model_module": "@jupyter-widgets/controls",
      "model_module_version": "1.5.0",
      "model_name": "HBoxModel",
      "state": {
       "children": [
        "IPY_MODEL_b602a6c347484689aab07e8a1c79c3ca",
        "IPY_MODEL_3b018abaec844e329c15f84b3b73edf2",
        "IPY_MODEL_1de5740a1a024eb7a26ab5bce72cf207",
        "IPY_MODEL_5c8f8d24c5fa49159521c724ef52f3bc"
       ],
       "layout": "IPY_MODEL_f47fcb98a33244f090ab505c21c54c6b"
      }
     },
     "821bbc8a122940789fa402100c61d250": {
      "model_module": "@jupyter-widgets/controls",
      "model_module_version": "1.5.0",
      "model_name": "VBoxModel",
      "state": {
       "children": [
        "IPY_MODEL_f316d4df03a74f9aa2f894983055b4c5",
        "IPY_MODEL_c110ff0a51f8465d8cec8a25f6aee78b",
        "IPY_MODEL_f448079fdf6848e39ef0b2159515d7ca"
       ],
       "layout": "IPY_MODEL_beac46a5e66f4607b5aed3dd3092944c"
      }
     },
     "821bfe2c3604441bb194dd9492efea5e": {
      "model_module": "@jupyter-widgets/base",
      "model_module_version": "1.2.0",
      "model_name": "LayoutModel",
      "state": {
       "border": "solid 4px #222",
       "margin": "4px",
       "padding": "0"
      }
     },
     "829bf7eecf0748a9a232e3980ad080bb": {
      "model_module": "@jupyter-widgets/controls",
      "model_module_version": "1.5.0",
      "model_name": "FloatSliderModel",
      "state": {
       "description": "Protected Area Threshold",
       "layout": "IPY_MODEL_e194de4f5e4b419188b750719b9db557",
       "max": 1,
       "step": 0.01,
       "style": "IPY_MODEL_7054ae18c5614907b5640af72708b683",
       "value": 0.7
      }
     },
     "82b5070553594287b362d7c62647b56a": {
      "model_module": "@jupyter-widgets/controls",
      "model_module_version": "1.5.0",
      "model_name": "SliderStyleModel",
      "state": {
       "description_width": ""
      }
     },
     "82c56dcb6240477c8c87a0ff447543b3": {
      "model_module": "@jupyter-widgets/controls",
      "model_module_version": "1.5.0",
      "model_name": "VBoxModel",
      "state": {
       "children": [
        "IPY_MODEL_cb4b4202d903401bbecd41537260406b",
        "IPY_MODEL_76f0a5b047ed4c559f0fd62dc81aa718"
       ],
       "layout": "IPY_MODEL_f7e20c1adb034846bc9ab27cf8b2b49c"
      }
     },
     "82cb540a9f9245ddadd4cca61ca7a0d3": {
      "model_module": "@jupyter-widgets/controls",
      "model_module_version": "1.5.0",
      "model_name": "VBoxModel",
      "state": {
       "children": [
        "IPY_MODEL_a4479d42e3664a7eb7415733b8496b40",
        "IPY_MODEL_1739fd1c8cab44a0876ed284c479b6bb"
       ],
       "layout": "IPY_MODEL_3465ad79a56a49b6ad6c7bcb99bc03ce"
      }
     },
     "82ecb0211cdf457aac3f5cbb4191eff2": {
      "model_module": "@jupyter-widgets/base",
      "model_module_version": "1.2.0",
      "model_name": "LayoutModel",
      "state": {}
     },
     "833267bcf7b64c65bf13d97a3cd249d1": {
      "model_module": "@jupyter-widgets/controls",
      "model_module_version": "1.5.0",
      "model_name": "HBoxModel",
      "state": {
       "children": [
        "IPY_MODEL_9bfd1baf5dbb4504b91bbec9a170e3af",
        "IPY_MODEL_0919228bccf14806b25e0c29be4cfac0",
        "IPY_MODEL_d0dce23f0d964cd9afdfc4e3a945b9d7"
       ],
       "layout": "IPY_MODEL_78c601641edc4b19afd1c28180d1d4b0"
      }
     },
     "8343a98511484f98b8b3215fc12fcb13": {
      "model_module": "@jupyter-widgets/controls",
      "model_module_version": "1.5.0",
      "model_name": "ButtonModel",
      "state": {
       "description": "Save Figure",
       "layout": "IPY_MODEL_cd0cabc4dc7b497384745912c9191b74",
       "style": "IPY_MODEL_040edfdb83de4741bd9691344f3717fa"
      }
     },
     "83461667c2fd4eeda85996a702737441": {
      "model_module": "@jupyter-widgets/base",
      "model_module_version": "1.2.0",
      "model_name": "LayoutModel",
      "state": {}
     },
     "83517f6aa8614db0b2a1112a0da329a3": {
      "model_module": "@jupyter-widgets/controls",
      "model_module_version": "1.5.0",
      "model_name": "ButtonStyleModel",
      "state": {}
     },
     "8368cd9ed6f34cc9b61a172764c8bedf": {
      "model_module": "@jupyter-widgets/controls",
      "model_module_version": "1.5.0",
      "model_name": "FloatSliderModel",
      "state": {
       "description": "Exposure",
       "layout": "IPY_MODEL_b964f0eb7a7b469bae92e3daa8cbce80",
       "max": 8,
       "min": -8,
       "step": 0.1,
       "style": "IPY_MODEL_34cee6b535d74f048c228b102633c50e"
      }
     },
     "8376e7d65be64aa5b453323d45984525": {
      "model_module": "@jupyter-widgets/controls",
      "model_module_version": "1.5.0",
      "model_name": "SliderStyleModel",
      "state": {
       "description_width": ""
      }
     },
     "838613deafe54221a59cb870e3261458": {
      "model_module": "@jupyter-widgets/controls",
      "model_module_version": "1.5.0",
      "model_name": "ButtonStyleModel",
      "state": {}
     },
     "83b260dbe48e4498a9e2a72256c8d2b0": {
      "model_module": "@jupyter-widgets/base",
      "model_module_version": "1.2.0",
      "model_name": "LayoutModel",
      "state": {}
     },
     "83fa601e79344488bcd1b23e2ab4474e": {
      "model_module": "@jupyter-widgets/base",
      "model_module_version": "1.2.0",
      "model_name": "LayoutModel",
      "state": {}
     },
     "840d1d18b3cb417ca818e52ba14d5b61": {
      "model_module": "@jupyter-widgets/base",
      "model_module_version": "1.2.0",
      "model_name": "LayoutModel",
      "state": {}
     },
     "8431f3f19e114ab2bf5d161dd947ee98": {
      "model_module": "@jupyter-widgets/base",
      "model_module_version": "1.2.0",
      "model_name": "LayoutModel",
      "state": {}
     },
     "848243cdbe844bf0927d626de65e1653": {
      "model_module": "@jupyter-widgets/controls",
      "model_module_version": "1.5.0",
      "model_name": "ButtonModel",
      "state": {
       "description": "Export Image",
       "layout": "IPY_MODEL_046b6cc48c354056a9dd6559bd915873",
       "style": "IPY_MODEL_83517f6aa8614db0b2a1112a0da329a3"
      }
     },
     "848412dbfde047ee800981f391785331": {
      "model_module": "@jupyter-widgets/base",
      "model_module_version": "1.2.0",
      "model_name": "LayoutModel",
      "state": {}
     },
     "848786b4f1a9444389dd3944ab70491a": {
      "model_module": "@jupyter-widgets/controls",
      "model_module_version": "1.5.0",
      "model_name": "SliderStyleModel",
      "state": {
       "description_width": ""
      }
     },
     "84901f772530492792236eaa74886741": {
      "model_module": "@jupyter-widgets/controls",
      "model_module_version": "1.5.0",
      "model_name": "SliderStyleModel",
      "state": {
       "description_width": ""
      }
     },
     "84c78433ac5c429daa2443f418ac35d4": {
      "model_module": "@jupyter-widgets/base",
      "model_module_version": "1.2.0",
      "model_name": "LayoutModel",
      "state": {}
     },
     "84d68723d1b944728caeab91794c92a2": {
      "model_module": "@jupyter-widgets/base",
      "model_module_version": "1.2.0",
      "model_name": "LayoutModel",
      "state": {}
     },
     "851119638a454af5a08f7b3ff970a28e": {
      "model_module": "@jupyter-widgets/base",
      "model_module_version": "1.2.0",
      "model_name": "LayoutModel",
      "state": {
       "align_items": "stretch",
       "display": "flex",
       "flex_flow": "column",
       "width": "1128px"
      }
     },
     "851c40c868cc4826a4f4e46482872f32": {
      "model_module": "@jupyter-widgets/controls",
      "model_module_version": "1.5.0",
      "model_name": "SliderStyleModel",
      "state": {
       "description_width": ""
      }
     },
     "85651fb3083640ffa1b116d417219a4e": {
      "model_module": "@jupyter-widgets/controls",
      "model_module_version": "1.5.0",
      "model_name": "SliderStyleModel",
      "state": {
       "description_width": ""
      }
     },
     "857dff0af4d74df8b9d3e3823c3a3ce9": {
      "model_module": "@jupyter-widgets/controls",
      "model_module_version": "1.5.0",
      "model_name": "FloatSliderModel",
      "state": {
       "description": "45°",
       "layout": "IPY_MODEL_9ead2972762e45e4babdca0574cb4c3b",
       "max": 1,
       "min": -1,
       "step": 0.01,
       "style": "IPY_MODEL_a5b7534ad634439fa30aa7af71c26169"
      }
     },
     "858371e96f9f485782b71f21d5a01a83": {
      "model_module": "@jupyter-widgets/base",
      "model_module_version": "1.2.0",
      "model_name": "LayoutModel",
      "state": {}
     },
     "8585d5109ddd43a083cd709def7c89a1": {
      "model_module": "@jupyter-widgets/base",
      "model_module_version": "1.2.0",
      "model_name": "LayoutModel",
      "state": {}
     },
     "85c54bc40f0842978e74a995b13937d1": {
      "model_module": "@jupyter-widgets/controls",
      "model_module_version": "1.5.0",
      "model_name": "FloatSliderModel",
      "state": {
       "description": "Compression Threshold",
       "layout": "IPY_MODEL_968859f603aa454996ca6de692af0f0e",
       "max": 1,
       "step": 0.01,
       "style": "IPY_MODEL_99ea705762294bb282a45ac8445da1db",
       "value": 0.8
      }
     },
     "861017327bcb42cca6e6b06eca7c49e4": {
      "model_module": "@jupyter-widgets/controls",
      "model_module_version": "1.5.0",
      "model_name": "SliderStyleModel",
      "state": {
       "description_width": ""
      }
     },
     "8615cda0b66349bbb82a70d2a782b3a0": {
      "model_module": "@jupyter-widgets/base",
      "model_module_version": "1.2.0",
      "model_name": "LayoutModel",
      "state": {}
     },
     "86721e24f5cb4c3397b136aa3119b69c": {
      "model_module": "jupyter-matplotlib",
      "model_module_version": "^0.7.2",
      "model_name": "MPLCanvasModel",
      "state": {
       "_figure_label": "Figure 14",
       "_height": 440,
       "_width": 1100,
       "header_visible": false,
       "layout": "IPY_MODEL_dc2c2909da6f4e06b627667ea21c4f06",
       "resizable": false,
       "toolbar": "IPY_MODEL_f0852aa7cedc4b199435f8fe5339b047",
       "toolbar_position": "left",
       "toolbar_visible": false
      }
     },
     "8673c80dfd6e4804a1f09e23ad52a952": {
      "model_module": "@jupyter-widgets/base",
      "model_module_version": "1.2.0",
      "model_name": "LayoutModel",
      "state": {}
     },
     "868c2abd98f34b0ea58813e8e9ba2537": {
      "model_module": "@jupyter-widgets/controls",
      "model_module_version": "1.5.0",
      "model_name": "ButtonModel",
      "state": {
       "description": "Export Image",
       "layout": "IPY_MODEL_00fd9bc64c05414d829ad0d0dc591245",
       "style": "IPY_MODEL_30e0e15e52464a71bdd0123316ca041a"
      }
     },
     "86912bc97e814bd0bec9e02ae51b115d": {
      "model_module": "@jupyter-widgets/controls",
      "model_module_version": "1.5.0",
      "model_name": "ButtonModel",
      "state": {
       "description": "Save Figure",
       "layout": "IPY_MODEL_4b47b069a845438baf2cf5d23c007ede",
       "style": "IPY_MODEL_7e4f48ebe1974f1abeb8ebe830877137"
      }
     },
     "86a4ac2e50534098979dae3bb079798b": {
      "model_module": "@jupyter-widgets/base",
      "model_module_version": "1.2.0",
      "model_name": "LayoutModel",
      "state": {}
     },
     "8740986055464a17b4ca52dd48dd58c7": {
      "model_module": "@jupyter-widgets/controls",
      "model_module_version": "1.5.0",
      "model_name": "VBoxModel",
      "state": {
       "children": [
        "IPY_MODEL_0f8e84b39b75461092767d2e8f1d1c55",
        "IPY_MODEL_cd16dc9ae32f4cb18263aba166abb6ec"
       ],
       "layout": "IPY_MODEL_b65c9d7ecd234c43bffd37997b68ba66"
      }
     },
     "87689a14a42d4028b37fab1462df4fd6": {
      "model_module": "@jupyter-widgets/base",
      "model_module_version": "1.2.0",
      "model_name": "LayoutModel",
      "state": {}
     },
     "876a663432414130a5396f3938aa4356": {
      "model_module": "@jupyter-widgets/base",
      "model_module_version": "1.2.0",
      "model_name": "LayoutModel",
      "state": {}
     },
     "8792003963e4438b89299bf934dfd191": {
      "model_module": "@jupyter-widgets/base",
      "model_module_version": "1.2.0",
      "model_name": "LayoutModel",
      "state": {}
     },
     "87d02a4f65e942e1877f9a56ad2ee499": {
      "model_module": "@jupyter-widgets/base",
      "model_module_version": "1.2.0",
      "model_name": "LayoutModel",
      "state": {}
     },
     "886da84b8a70402086d7d45da24ea3ad": {
      "model_module": "@jupyter-widgets/controls",
      "model_module_version": "1.5.0",
      "model_name": "SliderStyleModel",
      "state": {
       "description_width": ""
      }
     },
     "88978a08767d4ef195fda9e77beb5c67": {
      "model_module": "jupyter-matplotlib",
      "model_module_version": "^0.7.2",
      "model_name": "ToolbarModel",
      "state": {
       "layout": "IPY_MODEL_87d02a4f65e942e1877f9a56ad2ee499",
       "toolitems": [
        [
         "Home",
         "Reset original view",
         "home",
         "home"
        ],
        [
         "Back",
         "Back to previous view",
         "arrow-left",
         "back"
        ],
        [
         "Forward",
         "Forward to next view",
         "arrow-right",
         "forward"
        ],
        [
         "Pan",
         "Pan axes with left mouse, zoom with right",
         "arrows",
         "pan"
        ],
        [
         "Zoom",
         "Zoom to rectangle",
         "square-o",
         "zoom"
        ],
        [
         "Download",
         "Download plot",
         "floppy-o",
         "save_figure"
        ]
       ]
      }
     },
     "889ece7dd7864ebcb668088fd13c6529": {
      "model_module": "@jupyter-widgets/output",
      "model_module_version": "1.0.0",
      "model_name": "OutputModel",
      "state": {
       "layout": "IPY_MODEL_ce0597f1de224dcea5a4d24482664dc3",
       "outputs": [
        {
         "data": {
          "application/vnd.jupyter.widget-view+json": {
           "model_id": "d9835ad8c3f64d0e96776392b546eb3e",
           "version_major": 2,
           "version_minor": 0
          },
          "text/plain": "Canvas(toolbar=Toolbar(toolitems=[('Home', 'Reset original view', 'home', 'home'), ('Back', 'Back to previous …"
         },
         "metadata": {},
         "output_type": "display_data"
        }
       ]
      }
     },
     "88a701635cbd439599574a8ad179c4e1": {
      "model_module": "@jupyter-widgets/base",
      "model_module_version": "1.2.0",
      "model_name": "LayoutModel",
      "state": {}
     },
     "88fc3202b3f44e30b0152fb0f261cdb3": {
      "model_module": "@jupyter-widgets/base",
      "model_module_version": "1.2.0",
      "model_name": "LayoutModel",
      "state": {}
     },
     "891d2f66477c444a880d51f55db48770": {
      "model_module": "@jupyter-widgets/controls",
      "model_module_version": "1.5.0",
      "model_name": "DescriptionStyleModel",
      "state": {
       "description_width": ""
      }
     },
     "897183bfd4214081adcbfcd7d70587bb": {
      "model_module": "@jupyter-widgets/base",
      "model_module_version": "1.2.0",
      "model_name": "LayoutModel",
      "state": {}
     },
     "89bc2b46be1d49be92812557afb96e2a": {
      "model_module": "@jupyter-widgets/controls",
      "model_module_version": "1.5.0",
      "model_name": "SliderStyleModel",
      "state": {
       "description_width": ""
      }
     },
     "89cba1efd0164ce18a1d8175da7b258e": {
      "model_module": "@jupyter-widgets/controls",
      "model_module_version": "1.5.0",
      "model_name": "FloatSliderModel",
      "state": {
       "description": "Protected Area Threshold",
       "layout": "IPY_MODEL_12922379707a4d72b10a87641bf3cb7e",
       "max": 1,
       "step": 0.01,
       "style": "IPY_MODEL_f27c2288d4de4b25ad2a50bd1e126e76",
       "value": 0.5
      }
     },
     "89e4d2fd609d427aa734ff865ae55172": {
      "model_module": "@jupyter-widgets/base",
      "model_module_version": "1.2.0",
      "model_name": "LayoutModel",
      "state": {}
     },
     "89e6e01c547e4577adae6915f28953a7": {
      "model_module": "@jupyter-widgets/controls",
      "model_module_version": "1.5.0",
      "model_name": "ButtonStyleModel",
      "state": {}
     },
     "89e8edb708f244b0a7fdb0a8d2b7b9b4": {
      "model_module": "@jupyter-widgets/base",
      "model_module_version": "1.2.0",
      "model_name": "LayoutModel",
      "state": {}
     },
     "89f0ef57f37d4dc080dcef8651193631": {
      "model_module": "@jupyter-widgets/controls",
      "model_module_version": "1.5.0",
      "model_name": "TabModel",
      "state": {
       "_titles": {
        "0": "Global Controls",
        "1": "Compression Controls"
       },
       "children": [
        "IPY_MODEL_4671cd1eed3d4860a8a5a94598d17581",
        "IPY_MODEL_1acd8fc3f7b8496db762ab05efb6161c"
       ],
       "layout": "IPY_MODEL_8b658668f2024df5bdbc660c85f75ec8"
      }
     },
     "8a01212b58754ba797550cd5cb2c0595": {
      "model_module": "@jupyter-widgets/base",
      "model_module_version": "1.2.0",
      "model_name": "LayoutModel",
      "state": {}
     },
     "8a7ba31e4aad48e69cd433cd03663f4d": {
      "model_module": "@jupyter-widgets/controls",
      "model_module_version": "1.5.0",
      "model_name": "DescriptionStyleModel",
      "state": {
       "description_width": ""
      }
     },
     "8a9aa14a60ba445d9d8054aa381ee228": {
      "model_module": "@jupyter-widgets/base",
      "model_module_version": "1.2.0",
      "model_name": "LayoutModel",
      "state": {
       "align_items": "stretch",
       "display": "flex",
       "flex_flow": "column",
       "width": "1128px"
      }
     },
     "8ad4b4913e0a4423b36d46800bc584c6": {
      "model_module": "@jupyter-widgets/controls",
      "model_module_version": "1.5.0",
      "model_name": "SliderStyleModel",
      "state": {
       "description_width": ""
      }
     },
     "8b13737b6edd4c94998fba98c931e222": {
      "model_module": "@jupyter-widgets/controls",
      "model_module_version": "1.5.0",
      "model_name": "ButtonStyleModel",
      "state": {}
     },
     "8b163dceb74c46b1a8767ba93757fa94": {
      "model_module": "@jupyter-widgets/controls",
      "model_module_version": "1.5.0",
      "model_name": "SliderStyleModel",
      "state": {
       "description_width": ""
      }
     },
     "8b2d4545a64149d4b3a4886b2b9090da": {
      "model_module": "@jupyter-widgets/controls",
      "model_module_version": "1.5.0",
      "model_name": "TabModel",
      "state": {
       "_titles": {
        "0": "Global Controls",
        "1": "Compression Controls"
       },
       "children": [
        "IPY_MODEL_b3ff5f3388bb46149e3ea8fde8d75116",
        "IPY_MODEL_0a86dd74f9634232930622042b170efe"
       ],
       "layout": "IPY_MODEL_a4c93aa30620452cb6d3e544adb8885b"
      }
     },
     "8b5c9d3f51e84941a54421822eeb67c6": {
      "model_module": "@jupyter-widgets/controls",
      "model_module_version": "1.5.0",
      "model_name": "ButtonModel",
      "state": {
       "description": "Save Figure",
       "layout": "IPY_MODEL_bf083c053cff49c4abea43fc7cdd1240",
       "style": "IPY_MODEL_bdeb3c1230b84bda810047258844e5cb"
      }
     },
     "8b658668f2024df5bdbc660c85f75ec8": {
      "model_module": "@jupyter-widgets/base",
      "model_module_version": "1.2.0",
      "model_name": "LayoutModel",
      "state": {
       "border": "solid 4px #222",
       "margin": "4px",
       "padding": "0"
      }
     },
     "8bebddc1c12840e391e08880b7094087": {
      "model_module": "@jupyter-widgets/base",
      "model_module_version": "1.2.0",
      "model_name": "LayoutModel",
      "state": {}
     },
     "8c1cd78023e14b6585e45cfc069a08f0": {
      "model_module": "@jupyter-widgets/base",
      "model_module_version": "1.2.0",
      "model_name": "LayoutModel",
      "state": {
       "border": "solid 4px #222",
       "margin": "4px",
       "padding": "0"
      }
     },
     "8c3903093d7c4411b4acdbc4fa5c7571": {
      "model_module": "@jupyter-widgets/controls",
      "model_module_version": "1.5.0",
      "model_name": "SliderStyleModel",
      "state": {
       "description_width": ""
      }
     },
     "8c3ccf891aa54ab9b17faf2f496fb7f4": {
      "model_module": "@jupyter-widgets/controls",
      "model_module_version": "1.5.0",
      "model_name": "VBoxModel",
      "state": {
       "children": [
        "IPY_MODEL_0da34b2c51aa4d02a0597ffea3b6d7f8"
       ],
       "layout": "IPY_MODEL_a58554a7adc74a4ba13409b64daeb1f8"
      }
     },
     "8cda4a8b5bb64b1c8563a846b360947b": {
      "model_module": "@jupyter-widgets/controls",
      "model_module_version": "1.5.0",
      "model_name": "ButtonStyleModel",
      "state": {}
     },
     "8d0911468ba644839d80ea763134e00c": {
      "model_module": "@jupyter-widgets/base",
      "model_module_version": "1.2.0",
      "model_name": "LayoutModel",
      "state": {
       "align_items": "stretch",
       "display": "flex",
       "flex_flow": "column",
       "width": "1128px"
      }
     },
     "8d2dee80173c40e09cd2a0f5372554ba": {
      "model_module": "@jupyter-widgets/controls",
      "model_module_version": "1.5.0",
      "model_name": "HBoxModel",
      "state": {
       "children": [
        "IPY_MODEL_1a8576e0a5ae4deea625b24e5e0fe1bd",
        "IPY_MODEL_32a9768278914030aa4affe4a1170b30",
        "IPY_MODEL_a7a623f562144a11bb58e6e881395742",
        "IPY_MODEL_00e8ae42c25f4d47901eeeb0937aa9c9"
       ],
       "layout": "IPY_MODEL_e6df8520a7da444e97e067163643ce16"
      }
     },
     "8d627a6c96174a04b46e06f9a07866aa": {
      "model_module": "@jupyter-widgets/base",
      "model_module_version": "1.2.0",
      "model_name": "LayoutModel",
      "state": {}
     },
     "8d6515d2be0e47ce824cfb5f1259e0f8": {
      "model_module": "@jupyter-widgets/controls",
      "model_module_version": "1.5.0",
      "model_name": "TabModel",
      "state": {
       "_titles": {
        "0": "Global Controls",
        "1": "Protected Area Controls",
        "2": "Saturation Controls",
        "3": "Hue Controls"
       },
       "children": [
        "IPY_MODEL_a72f21486aef4ef9a07988c96947ab1b",
        "IPY_MODEL_219466a7be674f42bf49806101d8063d",
        "IPY_MODEL_2af0351dc82b4101bb781c985271efa0",
        "IPY_MODEL_557a45a0f27849c8a6dd83d82813b36c"
       ],
       "layout": "IPY_MODEL_821bfe2c3604441bb194dd9492efea5e"
      }
     },
     "8d76de4fe23e422485549c8e9d251a0a": {
      "model_module": "@jupyter-widgets/base",
      "model_module_version": "1.2.0",
      "model_name": "LayoutModel",
      "state": {}
     },
     "8d9a6c6eefb547b6ac4116d05657fa45": {
      "model_module": "@jupyter-widgets/base",
      "model_module_version": "1.2.0",
      "model_name": "LayoutModel",
      "state": {}
     },
     "8dadc2ae3857471295800b49f53663e3": {
      "model_module": "@jupyter-widgets/controls",
      "model_module_version": "1.5.0",
      "model_name": "FloatSliderModel",
      "state": {
       "description": "Protected Area Threshold",
       "layout": "IPY_MODEL_4712a88538b4499f92c36f32b5deacaa",
       "max": 1,
       "step": 0.01,
       "style": "IPY_MODEL_d54cf184ba2140b292fd3cbee15b31d6",
       "value": 0.7
      }
     },
     "8db41679c6774c78b26246ed81e474ee": {
      "model_module": "@jupyter-widgets/base",
      "model_module_version": "1.2.0",
      "model_name": "LayoutModel",
      "state": {}
     },
     "8e00190d87ae43b4bc5b646c9ef5c3aa": {
      "model_module": "@jupyter-widgets/base",
      "model_module_version": "1.2.0",
      "model_name": "LayoutModel",
      "state": {}
     },
     "8e06d188462e47f9a8e108104215ed94": {
      "model_module": "@jupyter-widgets/controls",
      "model_module_version": "1.5.0",
      "model_name": "DescriptionStyleModel",
      "state": {
       "description_width": ""
      }
     },
     "8e1be847cee6457e91abd1b39be33618": {
      "model_module": "@jupyter-widgets/controls",
      "model_module_version": "1.5.0",
      "model_name": "FloatSliderModel",
      "state": {
       "description": "90°",
       "layout": "IPY_MODEL_71d61ea5abdc4bac9d26afc5f51b4a9c",
       "max": 1,
       "min": -1,
       "step": 0.01,
       "style": "IPY_MODEL_2e335289e9f54f6483487e557387feb5"
      }
     },
     "8e296e1d444e4c67a5fa53b0d7a15097": {
      "model_module": "@jupyter-widgets/base",
      "model_module_version": "1.2.0",
      "model_name": "LayoutModel",
      "state": {}
     },
     "8e2c25313b644bce8f4fb0790ca80b05": {
      "model_module": "@jupyter-widgets/base",
      "model_module_version": "1.2.0",
      "model_name": "LayoutModel",
      "state": {}
     },
     "8e2f812b485b469d9ccfc4daed77516a": {
      "model_module": "@jupyter-widgets/base",
      "model_module_version": "1.2.0",
      "model_name": "LayoutModel",
      "state": {}
     },
     "8e5223ad7f8044d099300403c01f5856": {
      "model_module": "@jupyter-widgets/controls",
      "model_module_version": "1.5.0",
      "model_name": "ButtonModel",
      "state": {
       "description": "Reset Saturation Controls",
       "layout": "IPY_MODEL_e9de6cb29545460aab75f110f6708ca5",
       "style": "IPY_MODEL_b3f0642e294d4eec9222255ade593424"
      }
     },
     "8e88586a1db1484c82bee2193db40b57": {
      "model_module": "@jupyter-widgets/base",
      "model_module_version": "1.2.0",
      "model_name": "LayoutModel",
      "state": {}
     },
     "8edaa321f0c84df88a8259d20a6492ee": {
      "model_module": "@jupyter-widgets/base",
      "model_module_version": "1.2.0",
      "model_name": "LayoutModel",
      "state": {}
     },
     "8ee233a7c4b04e71805a28416726b766": {
      "model_module": "@jupyter-widgets/controls",
      "model_module_version": "1.5.0",
      "model_name": "VBoxModel",
      "state": {
       "children": [
        "IPY_MODEL_f8f5cfd74b154045a643ee450aff9f20",
        "IPY_MODEL_e6e8a85027d546fe825d2a104a86bf86",
        "IPY_MODEL_a4cc5bec42dc4c80a86ea5469dcd31c9"
       ],
       "layout": "IPY_MODEL_e6d68dacec6342439172fd37501a1c70"
      }
     },
     "8f28220c9da441bca6067e3417adb737": {
      "model_module": "@jupyter-widgets/controls",
      "model_module_version": "1.5.0",
      "model_name": "SliderStyleModel",
      "state": {
       "description_width": ""
      }
     },
     "8f3591be283a40eaa16838bd2c3235e3": {
      "model_module": "@jupyter-widgets/controls",
      "model_module_version": "1.5.0",
      "model_name": "TabModel",
      "state": {
       "_titles": {
        "0": "Global Controls",
        "1": "Compression Controls"
       },
       "children": [
        "IPY_MODEL_13115bfdb67f4ae899eb715ea9e8d7c6",
        "IPY_MODEL_1b2959a2b12440ef8962c3431a78a9e5"
       ],
       "layout": "IPY_MODEL_2fc4a61894594e5bae6ff723127789ba"
      }
     },
     "8f52037515e34ef8aaa25bcb46f6d2b1": {
      "model_module": "@jupyter-widgets/base",
      "model_module_version": "1.2.0",
      "model_name": "LayoutModel",
      "state": {}
     },
     "8f5cee1a9a884f0199e3a8c9233596a1": {
      "model_module": "@jupyter-widgets/controls",
      "model_module_version": "1.5.0",
      "model_name": "SliderStyleModel",
      "state": {
       "description_width": ""
      }
     },
     "8fa5b51a9b8f49d3be77a8d79cc66568": {
      "model_module": "@jupyter-widgets/controls",
      "model_module_version": "1.5.0",
      "model_name": "ButtonStyleModel",
      "state": {}
     },
     "90246926df0942fd960f1be205a7a0fc": {
      "model_module": "@jupyter-widgets/base",
      "model_module_version": "1.2.0",
      "model_name": "LayoutModel",
      "state": {}
     },
     "906746b846454ac789a42e211aa7bb57": {
      "model_module": "@jupyter-widgets/base",
      "model_module_version": "1.2.0",
      "model_name": "LayoutModel",
      "state": {}
     },
     "909fb30e50684eeb88e2971b8e5b4bdf": {
      "model_module": "@jupyter-widgets/controls",
      "model_module_version": "1.5.0",
      "model_name": "ButtonStyleModel",
      "state": {}
     },
     "90b059bb266845a0b032812d233aefd5": {
      "model_module": "@jupyter-widgets/controls",
      "model_module_version": "1.5.0",
      "model_name": "ButtonModel",
      "state": {
       "description": "Reset Protected Area",
       "layout": "IPY_MODEL_5df9567f342047b281eea07437303ea6",
       "style": "IPY_MODEL_22a501ce25974c0c823dbb515f3deaa0"
      }
     },
     "90f61d6e7e08497aac73222f4f1542b2": {
      "model_module": "@jupyter-widgets/base",
      "model_module_version": "1.2.0",
      "model_name": "LayoutModel",
      "state": {}
     },
     "913c1db3f5bc4b7ab2c26bcefb2bba13": {
      "model_module": "@jupyter-widgets/base",
      "model_module_version": "1.2.0",
      "model_name": "LayoutModel",
      "state": {}
     },
     "914fc0c5d43c4200a724793f324a3ebe": {
      "model_module": "@jupyter-widgets/controls",
      "model_module_version": "1.5.0",
      "model_name": "ButtonModel",
      "state": {
       "description": "Reset Hue Controls",
       "layout": "IPY_MODEL_fa43ed30a3624953b762021dae07cbf7",
       "style": "IPY_MODEL_6b55574c4f3d41a98f50d415c5ae2545"
      }
     },
     "9175af8c166a4c59831f4a4699ef4db7": {
      "model_module": "@jupyter-widgets/controls",
      "model_module_version": "1.5.0",
      "model_name": "ButtonStyleModel",
      "state": {}
     },
     "91fd03040d094ec095cedfd13483b56a": {
      "model_module": "@jupyter-widgets/controls",
      "model_module_version": "1.5.0",
      "model_name": "TabModel",
      "state": {
       "_titles": {
        "0": "Global Controls",
        "1": "Protected Area Controls",
        "2": "Saturation Controls",
        "3": "Hue Controls"
       },
       "children": [
        "IPY_MODEL_f3ab6af4bffc4193b99362b3c2047f70",
        "IPY_MODEL_1686fa0bd4e846249171bb313f11efbd",
        "IPY_MODEL_c6f2513799b5471dae8cf11cc1c23391",
        "IPY_MODEL_0c7cb88baf0f4f25878e2907a0543a49"
       ],
       "layout": "IPY_MODEL_353d01b4f8264e35972b0072ca9a02ba"
      }
     },
     "9255cdf6624c4b1d864fbe1c65fe1538": {
      "model_module": "@jupyter-widgets/controls",
      "model_module_version": "1.5.0",
      "model_name": "SliderStyleModel",
      "state": {
       "description_width": ""
      }
     },
     "927c95bc56d147f99c24824ec77090f8": {
      "model_module": "@jupyter-widgets/base",
      "model_module_version": "1.2.0",
      "model_name": "LayoutModel",
      "state": {}
     },
     "92949df38062435c89c630ce161fa8e2": {
      "model_module": "@jupyter-widgets/controls",
      "model_module_version": "1.5.0",
      "model_name": "SliderStyleModel",
      "state": {
       "description_width": ""
      }
     },
     "92c0d4a7ab684ba691891fa611655e2b": {
      "model_module": "@jupyter-widgets/controls",
      "model_module_version": "1.5.0",
      "model_name": "ButtonModel",
      "state": {
       "description": "Save Figure",
       "layout": "IPY_MODEL_b56e9e8442634dadaa636c0bdea0e9a1",
       "style": "IPY_MODEL_b175cd21ffec4ff8b4998fd54efe5a70"
      }
     },
     "93032112032e412eaad2515fc765418d": {
      "model_module": "@jupyter-widgets/output",
      "model_module_version": "1.0.0",
      "model_name": "OutputModel",
      "state": {
       "layout": "IPY_MODEL_f95115a4dcf7473ea7278eccfa96393c",
       "outputs": [
        {
         "data": {
          "application/vnd.jupyter.widget-view+json": {
           "model_id": "97acf678dbdc44e89f3037c2f93e52a5",
           "version_major": 2,
           "version_minor": 0
          },
          "text/plain": "Canvas(toolbar=Toolbar(toolitems=[('Home', 'Reset original view', 'home', 'home'), ('Back', 'Back to previous …"
         },
         "metadata": {},
         "output_type": "display_data"
        }
       ]
      }
     },
     "9305c2f28d2044f89f19b9381420c0e1": {
      "model_module": "@jupyter-widgets/base",
      "model_module_version": "1.2.0",
      "model_name": "LayoutModel",
      "state": {}
     },
     "932f4c2dc99b421697ad8d2eae8203f6": {
      "model_module": "@jupyter-widgets/controls",
      "model_module_version": "1.5.0",
      "model_name": "HBoxModel",
      "state": {
       "children": [
        "IPY_MODEL_fbaa9febc9844b95bf7013f9c9cff376",
        "IPY_MODEL_3037660bd7d2459d87262d85e398332a",
        "IPY_MODEL_5a19b6037fc74d2b98d189e0ab0c67ce"
       ],
       "layout": "IPY_MODEL_5d83c5dbb9314c3387abe755850e69a5"
      }
     },
     "93382590e3b34f2fbcfba3fd2aa6567d": {
      "model_module": "@jupyter-widgets/base",
      "model_module_version": "1.2.0",
      "model_name": "LayoutModel",
      "state": {}
     },
     "936f60305b9a409a819e202a65e1c4da": {
      "model_module": "@jupyter-widgets/controls",
      "model_module_version": "1.5.0",
      "model_name": "ButtonStyleModel",
      "state": {}
     },
     "94081ee98d194cbb8c4ab440a5852557": {
      "model_module": "@jupyter-widgets/base",
      "model_module_version": "1.2.0",
      "model_name": "LayoutModel",
      "state": {
       "border": "solid 4px #222",
       "margin": "4px",
       "padding": "0"
      }
     },
     "944ba32eba304ca6ba6d6f3533551320": {
      "model_module": "@jupyter-widgets/controls",
      "model_module_version": "1.5.0",
      "model_name": "SliderStyleModel",
      "state": {
       "description_width": ""
      }
     },
     "94968125dce04e58a47204d43232b690": {
      "model_module": "@jupyter-widgets/base",
      "model_module_version": "1.2.0",
      "model_name": "LayoutModel",
      "state": {}
     },
     "949a4b10c8074e568c79f860e8a017bd": {
      "model_module": "jupyter-matplotlib",
      "model_module_version": "^0.7.2",
      "model_name": "MPLCanvasModel",
      "state": {
       "_figure_label": "Figure 16",
       "_height": 430,
       "_width": 1099,
       "header_visible": false,
       "layout": "IPY_MODEL_a52bc4248ba24e709c07495257cc8948",
       "resizable": false,
       "toolbar": "IPY_MODEL_0a524213fd8d454382df28704d9d5c2c",
       "toolbar_position": "left",
       "toolbar_visible": false
      }
     },
     "94d32e5e2e944f309e0311b8c634fd03": {
      "model_module": "@jupyter-widgets/base",
      "model_module_version": "1.2.0",
      "model_name": "LayoutModel",
      "state": {}
     },
     "95182f753da6497a8b90cbbce9b41254": {
      "model_module": "@jupyter-widgets/controls",
      "model_module_version": "1.5.0",
      "model_name": "ButtonModel",
      "state": {
       "description": "Reset Protected Area",
       "layout": "IPY_MODEL_7deefa9ba97b4c40926079d3bcdc2e7c",
       "style": "IPY_MODEL_fff2975b37834cdfb105ab2e6b02fc0c"
      }
     },
     "9535a80c358049f3bd87178b867624a2": {
      "model_module": "@jupyter-widgets/base",
      "model_module_version": "1.2.0",
      "model_name": "LayoutModel",
      "state": {}
     },
     "957feacbbe104c069b9ea4bb4c68614f": {
      "model_module": "@jupyter-widgets/base",
      "model_module_version": "1.2.0",
      "model_name": "LayoutModel",
      "state": {}
     },
     "9631d709c0ef4889816f057153e7fe12": {
      "model_module": "@jupyter-widgets/controls",
      "model_module_version": "1.5.0",
      "model_name": "SliderStyleModel",
      "state": {
       "description_width": ""
      }
     },
     "9665b4d91f2b4c8db812647fbe078a0d": {
      "model_module": "@jupyter-widgets/base",
      "model_module_version": "1.2.0",
      "model_name": "LayoutModel",
      "state": {}
     },
     "96832200fccb499a8d7f4ca417121be7": {
      "model_module": "@jupyter-widgets/controls",
      "model_module_version": "1.5.0",
      "model_name": "FloatSliderModel",
      "state": {
       "description": "135°",
       "layout": "IPY_MODEL_7172579c8c0847d7a073203e7f4c1eee",
       "max": 1,
       "min": -1,
       "step": 0.01,
       "style": "IPY_MODEL_3a3aff5e812947feb9665ad2f618731d"
      }
     },
     "968859f603aa454996ca6de692af0f0e": {
      "model_module": "@jupyter-widgets/base",
      "model_module_version": "1.2.0",
      "model_name": "LayoutModel",
      "state": {}
     },
     "968a36c6fcaf445e8d923f6ee937bd8c": {
      "model_module": "@jupyter-widgets/controls",
      "model_module_version": "1.5.0",
      "model_name": "ButtonStyleModel",
      "state": {}
     },
     "96eb8e51868b4ec7a47271e08e145f1a": {
      "model_module": "@jupyter-widgets/controls",
      "model_module_version": "1.5.0",
      "model_name": "ButtonModel",
      "state": {
       "description": "Export Image",
       "layout": "IPY_MODEL_354c761f3fbb42bb919f31f13999c650",
       "style": "IPY_MODEL_e9a248211eac4dcbb295fff1da7ccce3"
      }
     },
     "96ff623479e44e90bd0fc4685793975a": {
      "model_module": "@jupyter-widgets/base",
      "model_module_version": "1.2.0",
      "model_name": "LayoutModel",
      "state": {}
     },
     "973542cda5b64bc1a3bc06909ed66250": {
      "model_module": "@jupyter-widgets/base",
      "model_module_version": "1.2.0",
      "model_name": "LayoutModel",
      "state": {}
     },
     "976f5604eef544229ec3eee8431c4a0d": {
      "model_module": "@jupyter-widgets/base",
      "model_module_version": "1.2.0",
      "model_name": "LayoutModel",
      "state": {}
     },
     "97779ee3b8a74266a6b65f740448fb03": {
      "model_module": "@jupyter-widgets/controls",
      "model_module_version": "1.5.0",
      "model_name": "SliderStyleModel",
      "state": {
       "description_width": ""
      }
     },
     "97ab81979860472b86c5541e6d123ab9": {
      "model_module": "@jupyter-widgets/base",
      "model_module_version": "1.2.0",
      "model_name": "LayoutModel",
      "state": {}
     },
     "97acf678dbdc44e89f3037c2f93e52a5": {
      "model_module": "jupyter-matplotlib",
      "model_module_version": "^0.7.2",
      "model_name": "MPLCanvasModel",
      "state": {
       "_figure_label": "Figure 12",
       "_height": 550,
       "_width": 1100,
       "header_visible": false,
       "layout": "IPY_MODEL_8e2f812b485b469d9ccfc4daed77516a",
       "resizable": false,
       "toolbar": "IPY_MODEL_accaedb9559448b6983c9d027e30ff57",
       "toolbar_position": "left",
       "toolbar_visible": false
      }
     },
     "97d7ec7d0b4f4dbca1f89e5816a97973": {
      "model_module": "@jupyter-widgets/controls",
      "model_module_version": "1.5.0",
      "model_name": "ButtonStyleModel",
      "state": {}
     },
     "981e14d315ad4591adc272f975796540": {
      "model_module": "@jupyter-widgets/controls",
      "model_module_version": "1.5.0",
      "model_name": "VBoxModel",
      "state": {
       "children": [
        "IPY_MODEL_80f181b95ca04c26a52c134e3548b7f6",
        "IPY_MODEL_d49d0f678ac6494ea8e40435854b3b17",
        "IPY_MODEL_10dad62a20c24e0e84c7dc36e6761b32"
       ],
       "layout": "IPY_MODEL_d48ef87be22c4669be05f4d719f53c35"
      }
     },
     "98925c2a8a1b4aebbcf1ba726805eba5": {
      "model_module": "@jupyter-widgets/base",
      "model_module_version": "1.2.0",
      "model_name": "LayoutModel",
      "state": {}
     },
     "98b3bddf21d84655a6aee1e2d87f9004": {
      "model_module": "@jupyter-widgets/base",
      "model_module_version": "1.2.0",
      "model_name": "LayoutModel",
      "state": {}
     },
     "98c0d55307f34ea6bc36455c9b746ea2": {
      "model_module": "@jupyter-widgets/base",
      "model_module_version": "1.2.0",
      "model_name": "LayoutModel",
      "state": {}
     },
     "992a52f67ecb41fa915640a0ec5435ea": {
      "model_module": "@jupyter-widgets/base",
      "model_module_version": "1.2.0",
      "model_name": "LayoutModel",
      "state": {}
     },
     "99495496346e4f57b1668f14f63e59fd": {
      "model_module": "@jupyter-widgets/base",
      "model_module_version": "1.2.0",
      "model_name": "LayoutModel",
      "state": {}
     },
     "99df6dcaa9bf418cbb1b275ff38ad80c": {
      "model_module": "@jupyter-widgets/controls",
      "model_module_version": "1.5.0",
      "model_name": "VBoxModel",
      "state": {
       "children": [
        "IPY_MODEL_ed33f770b2764a3fb900aca7cc63902c",
        "IPY_MODEL_ed3a93ce61ad461c92093c4961ed7c2c",
        "IPY_MODEL_9c903255aae1449ba852445601b12f66"
       ],
       "layout": "IPY_MODEL_8e2c25313b644bce8f4fb0790ca80b05"
      }
     },
     "99ea705762294bb282a45ac8445da1db": {
      "model_module": "@jupyter-widgets/controls",
      "model_module_version": "1.5.0",
      "model_name": "SliderStyleModel",
      "state": {
       "description_width": ""
      }
     },
     "9a0de18205774e14aca7a3080c31d9b8": {
      "model_module": "@jupyter-widgets/controls",
      "model_module_version": "1.5.0",
      "model_name": "ButtonModel",
      "state": {
       "description": "Save Figure",
       "layout": "IPY_MODEL_be55636578134b0aa85ad63b0ea62452",
       "style": "IPY_MODEL_e702125d68154d50a09970d386df6c40"
      }
     },
     "9a0e73d7aaac4814b372cbe4e619f8f7": {
      "model_module": "@jupyter-widgets/controls",
      "model_module_version": "1.5.0",
      "model_name": "DescriptionStyleModel",
      "state": {
       "description_width": ""
      }
     },
     "9a19b9d1e3084d45aebfe2f2a52ccae6": {
      "model_module": "@jupyter-widgets/base",
      "model_module_version": "1.2.0",
      "model_name": "LayoutModel",
      "state": {}
     },
     "9a205019d4034ec688c0ca69a0b89f7e": {
      "model_module": "@jupyter-widgets/controls",
      "model_module_version": "1.5.0",
      "model_name": "ButtonModel",
      "state": {
       "description": "Reset Hue Controls",
       "layout": "IPY_MODEL_aa61bc0169cf4b6ab417dfafd0b462f3",
       "style": "IPY_MODEL_5de50654a3b14411a4c868c1abede58e"
      }
     },
     "9a4ceab297b940bd80348ecb2cab8750": {
      "model_module": "@jupyter-widgets/controls",
      "model_module_version": "1.5.0",
      "model_name": "CheckboxModel",
      "state": {
       "description": "Disable Medicina",
       "disabled": false,
       "layout": "IPY_MODEL_88fc3202b3f44e30b0152fb0f261cdb3",
       "style": "IPY_MODEL_8156bb9917c44ecc95785f0fdb1a4837",
       "value": false
      }
     },
     "9a7955a4c3464d3eaa134807d61e9876": {
      "model_module": "@jupyter-widgets/base",
      "model_module_version": "1.2.0",
      "model_name": "LayoutModel",
      "state": {}
     },
     "9abaca30c28643bd8eaebef6616babac": {
      "model_module": "@jupyter-widgets/base",
      "model_module_version": "1.2.0",
      "model_name": "LayoutModel",
      "state": {}
     },
     "9adcb53db26f45f9b15d8282edd6a4a2": {
      "model_module": "@jupyter-widgets/base",
      "model_module_version": "1.2.0",
      "model_name": "LayoutModel",
      "state": {}
     },
     "9adfb4dc3bee4499b95a17e0e2a2b285": {
      "model_module": "jupyter-matplotlib",
      "model_module_version": "^0.7.2",
      "model_name": "MPLCanvasModel",
      "state": {
       "_figure_label": "Figure 6",
       "_height": 508,
       "_width": 1100,
       "header_visible": false,
       "layout": "IPY_MODEL_f4c2da971f514442aab996637dea80bb",
       "resizable": false,
       "toolbar": "IPY_MODEL_63552f9e87544312b16fb4084fa17aef",
       "toolbar_position": "left",
       "toolbar_visible": false
      }
     },
     "9ae064cee176422e80ac78dd89e24915": {
      "model_module": "@jupyter-widgets/controls",
      "model_module_version": "1.5.0",
      "model_name": "FloatSliderModel",
      "state": {
       "description": "180°",
       "layout": "IPY_MODEL_6cd8fde42c464770a3b5f0c322eb0caa",
       "max": 1,
       "min": -1,
       "step": 0.01,
       "style": "IPY_MODEL_2dbc2cf1b35242afb40e0b508da86fc3"
      }
     },
     "9aef3669bf744f9c88325621de75a52b": {
      "model_module": "@jupyter-widgets/controls",
      "model_module_version": "1.5.0",
      "model_name": "DescriptionStyleModel",
      "state": {
       "description_width": ""
      }
     },
     "9af44262551c48248f5309e9a6c070b7": {
      "model_module": "@jupyter-widgets/base",
      "model_module_version": "1.2.0",
      "model_name": "LayoutModel",
      "state": {}
     },
     "9bc2306421f34eb4afae1809a453f695": {
      "model_module": "@jupyter-widgets/controls",
      "model_module_version": "1.5.0",
      "model_name": "FloatSliderModel",
      "state": {
       "description": "Compression Threshold",
       "layout": "IPY_MODEL_142cc6661e5e40d2be0b44d746946edf",
       "max": 1,
       "step": 0.01,
       "style": "IPY_MODEL_567f93a87ba54f3584106b5f02ed0406",
       "value": 0.8
      }
     },
     "9bdf3139e9834162aa1fe4799c3604b5": {
      "model_module": "@jupyter-widgets/controls",
      "model_module_version": "1.5.0",
      "model_name": "TabModel",
      "state": {
       "_titles": {
        "0": "Global Controls",
        "1": "Protected Area Controls",
        "2": "Saturation Controls",
        "3": "Hue Controls"
       },
       "children": [
        "IPY_MODEL_7e8b97df93534525bf58876518b7585c",
        "IPY_MODEL_2d68d687b35147109c36ad1d2297e5ce",
        "IPY_MODEL_833267bcf7b64c65bf13d97a3cd249d1",
        "IPY_MODEL_81ef2f5f1c9e47498bbe0187552c1462"
       ],
       "layout": "IPY_MODEL_16661a7c13d542d196685c4040c5649f"
      }
     },
     "9bfd1baf5dbb4504b91bbec9a170e3af": {
      "model_module": "@jupyter-widgets/controls",
      "model_module_version": "1.5.0",
      "model_name": "ButtonModel",
      "state": {
       "description": "Reset Saturation Controls",
       "layout": "IPY_MODEL_d61da879c2f748528553976ce942890c",
       "style": "IPY_MODEL_2069d39c0fb74aef90b234778d6bba2f"
      }
     },
     "9c03e25e24b04f8dbf8ac3a8e5288e81": {
      "model_module": "@jupyter-widgets/controls",
      "model_module_version": "1.5.0",
      "model_name": "ButtonModel",
      "state": {
       "description": "Export Image",
       "layout": "IPY_MODEL_142bc3fb4ec544ceb165d25f5d5cc8b8",
       "style": "IPY_MODEL_2f5cc8ee889f426b97d565e85beae82e"
      }
     },
     "9c0ccf7b1a8d4b38a1ed1aeeafc7571a": {
      "model_module": "@jupyter-widgets/controls",
      "model_module_version": "1.5.0",
      "model_name": "ButtonModel",
      "state": {
       "description": "Save Figure",
       "layout": "IPY_MODEL_1ee30b0b114a42f7ab46a891e2e43e2b",
       "style": "IPY_MODEL_97d7ec7d0b4f4dbca1f89e5816a97973"
      }
     },
     "9c3471645799463caec5e28e8ce08aec": {
      "model_module": "@jupyter-widgets/controls",
      "model_module_version": "1.5.0",
      "model_name": "SliderStyleModel",
      "state": {
       "description_width": ""
      }
     },
     "9c3698a1e2e049289067928fe7ee78ae": {
      "model_module": "@jupyter-widgets/controls",
      "model_module_version": "1.5.0",
      "model_name": "DescriptionStyleModel",
      "state": {
       "description_width": ""
      }
     },
     "9c4e4c60d66446d4b7604c40bbe5f073": {
      "model_module": "@jupyter-widgets/controls",
      "model_module_version": "1.5.0",
      "model_name": "HBoxModel",
      "state": {
       "children": [
        "IPY_MODEL_2e2377d265a84944a7a49c799f82c9e9",
        "IPY_MODEL_9c03e25e24b04f8dbf8ac3a8e5288e81",
        "IPY_MODEL_e0090c0eabeb467b8b0bb0eff9187e05",
        "IPY_MODEL_5b77edbea7cc474cbe824043ec1eebf1"
       ],
       "layout": "IPY_MODEL_3c6509933d47427f90ab1433a0bd8f56"
      }
     },
     "9c7e743da896439d898f0e654bda4ecd": {
      "model_module": "@jupyter-widgets/controls",
      "model_module_version": "1.5.0",
      "model_name": "HBoxModel",
      "state": {
       "children": [
        "IPY_MODEL_ed509f626ed249a8aec344a51f5f4c01",
        "IPY_MODEL_ae2d1af2716a4ad48ab1b6896f796f61",
        "IPY_MODEL_100efb63db844379aee040e90f7e0f22"
       ],
       "layout": "IPY_MODEL_fcb96e809a22475db2a7372a1973ad6d"
      }
     },
     "9c8278bf84ea4a50afa537f8db7fa5c0": {
      "model_module": "@jupyter-widgets/base",
      "model_module_version": "1.2.0",
      "model_name": "LayoutModel",
      "state": {}
     },
     "9c903255aae1449ba852445601b12f66": {
      "model_module": "@jupyter-widgets/controls",
      "model_module_version": "1.5.0",
      "model_name": "FloatSliderModel",
      "state": {
       "description": "90°",
       "layout": "IPY_MODEL_7caac84460104591a2a0f42aa73685ac",
       "max": 1,
       "min": -1,
       "step": 0.01,
       "style": "IPY_MODEL_0a3f651877474e569eeb0f655fe10674"
      }
     },
     "9cb999d28290495386036e308238ce0f": {
      "model_module": "@jupyter-widgets/controls",
      "model_module_version": "1.5.0",
      "model_name": "DescriptionStyleModel",
      "state": {
       "description_width": ""
      }
     },
     "9d4f6975bed641329928fcfe1d4735a7": {
      "model_module": "@jupyter-widgets/controls",
      "model_module_version": "1.5.0",
      "model_name": "DescriptionStyleModel",
      "state": {
       "description_width": ""
      }
     },
     "9d68b9db02514ff094725ab2ac02b0ee": {
      "model_module": "@jupyter-widgets/base",
      "model_module_version": "1.2.0",
      "model_name": "LayoutModel",
      "state": {}
     },
     "9d7066b3c1a543439393935dccd3dd0a": {
      "model_module": "@jupyter-widgets/controls",
      "model_module_version": "1.5.0",
      "model_name": "SliderStyleModel",
      "state": {
       "description_width": ""
      }
     },
     "9d75929746fd4575bf895898c115b118": {
      "model_module": "@jupyter-widgets/base",
      "model_module_version": "1.2.0",
      "model_name": "LayoutModel",
      "state": {}
     },
     "9d8cfb8ce65b4231843b6b4a5e60696b": {
      "model_module": "@jupyter-widgets/controls",
      "model_module_version": "1.5.0",
      "model_name": "FloatSliderModel",
      "state": {
       "description": "Protected Area Threshold",
       "layout": "IPY_MODEL_5320961abc7143a8aa952f1cab5fea43",
       "max": 1,
       "step": 0.01,
       "style": "IPY_MODEL_e8cf5e33c5a6444da152d71d7366dd90",
       "value": 0.7
      }
     },
     "9d9e857430874e1196e39564e07d2afc": {
      "model_module": "@jupyter-widgets/base",
      "model_module_version": "1.2.0",
      "model_name": "LayoutModel",
      "state": {
       "border": "solid 4px #222",
       "margin": "4px",
       "padding": "0"
      }
     },
     "9de65775d9f24d698f68b15a4339e5c4": {
      "model_module": "@jupyter-widgets/controls",
      "model_module_version": "1.5.0",
      "model_name": "SliderStyleModel",
      "state": {
       "description_width": ""
      }
     },
     "9e0e3ba32d5b46af81fad6bfd704baf8": {
      "model_module": "@jupyter-widgets/controls",
      "model_module_version": "1.5.0",
      "model_name": "DescriptionStyleModel",
      "state": {
       "description_width": ""
      }
     },
     "9ead2972762e45e4babdca0574cb4c3b": {
      "model_module": "@jupyter-widgets/base",
      "model_module_version": "1.2.0",
      "model_name": "LayoutModel",
      "state": {}
     },
     "9eb9f57e2c004383b7ef7e46e1ed3cd3": {
      "model_module": "@jupyter-widgets/base",
      "model_module_version": "1.2.0",
      "model_name": "LayoutModel",
      "state": {}
     },
     "9f19f1aeaa5541268edd6d9444b0234c": {
      "model_module": "@jupyter-widgets/controls",
      "model_module_version": "1.5.0",
      "model_name": "FloatSliderModel",
      "state": {
       "description": "Protected Area Threshold",
       "layout": "IPY_MODEL_2d6ec90f2bbb4ede8754e6e54ec751c6",
       "max": 1,
       "step": 0.01,
       "style": "IPY_MODEL_6d4e3823c48f4afcb497ce0b5e35f7ed",
       "value": 0.7
      }
     },
     "9f1d94b5d38948359fc934edb6e93adf": {
      "model_module": "@jupyter-widgets/controls",
      "model_module_version": "1.5.0",
      "model_name": "VBoxModel",
      "state": {
       "children": [
        "IPY_MODEL_6c4df25e33a640a4af1602752338fd73",
        "IPY_MODEL_1185f13f53024ee5a858d99c15b311a2"
       ],
       "layout": "IPY_MODEL_af4cec54bc1e4beca6f40e3227b4684d"
      }
     },
     "9f76c9fa37db485eb71fd707e125909d": {
      "model_module": "@jupyter-widgets/base",
      "model_module_version": "1.2.0",
      "model_name": "LayoutModel",
      "state": {}
     },
     "9fe1e79f16da4e23a5756f03876fc15a": {
      "model_module": "@jupyter-widgets/base",
      "model_module_version": "1.2.0",
      "model_name": "LayoutModel",
      "state": {}
     },
     "a009f58d6cd6450980b5c06556a6957e": {
      "model_module": "@jupyter-widgets/base",
      "model_module_version": "1.2.0",
      "model_name": "LayoutModel",
      "state": {}
     },
     "a01509c8eb0745f790676613b4769adc": {
      "model_module": "@jupyter-widgets/base",
      "model_module_version": "1.2.0",
      "model_name": "LayoutModel",
      "state": {}
     },
     "a040ca7a2492455dbe57abcfe89458ca": {
      "model_module": "@jupyter-widgets/base",
      "model_module_version": "1.2.0",
      "model_name": "LayoutModel",
      "state": {}
     },
     "a0851b73678142d3a64915a33aaa328e": {
      "model_module": "@jupyter-widgets/base",
      "model_module_version": "1.2.0",
      "model_name": "LayoutModel",
      "state": {}
     },
     "a09e133e36e84cdb97190f21878d234b": {
      "model_module": "@jupyter-widgets/controls",
      "model_module_version": "1.5.0",
      "model_name": "SliderStyleModel",
      "state": {
       "description_width": ""
      }
     },
     "a0ce715800fc485483d1480c3ec31ef8": {
      "model_module": "@jupyter-widgets/controls",
      "model_module_version": "1.5.0",
      "model_name": "HBoxModel",
      "state": {
       "children": [
        "IPY_MODEL_ccdcfe95bcbc49f79613460fd8561255",
        "IPY_MODEL_051e329b9acf4c9d8eb9ed316628abd4",
        "IPY_MODEL_9c0ccf7b1a8d4b38a1ed1aeeafc7571a",
        "IPY_MODEL_b6a895d38e194096a47ebba854755550"
       ],
       "layout": "IPY_MODEL_cc99777209e14243a99432e16a010c6f"
      }
     },
     "a0e52a094c2b4cd38a580321b4122f3f": {
      "model_module": "@jupyter-widgets/base",
      "model_module_version": "1.2.0",
      "model_name": "LayoutModel",
      "state": {}
     },
     "a131e9c7ae3042c6bf9180a7a4a6b0e4": {
      "model_module": "@jupyter-widgets/base",
      "model_module_version": "1.2.0",
      "model_name": "LayoutModel",
      "state": {
       "border": "solid 4px #222",
       "margin": "4px",
       "padding": "0"
      }
     },
     "a19a0b927cb7414284509e615a725013": {
      "model_module": "@jupyter-widgets/controls",
      "model_module_version": "1.5.0",
      "model_name": "FloatSliderModel",
      "state": {
       "description": "Exposure",
       "layout": "IPY_MODEL_1c2c6d17dff44ca29930c8988a1c9adc",
       "max": 8,
       "min": -8,
       "step": 0.1,
       "style": "IPY_MODEL_4ac7ac9c8b844193b5a55d164e188d8e"
      }
     },
     "a2119e4ab7ad4054af109a597849a911": {
      "model_module": "@jupyter-widgets/base",
      "model_module_version": "1.2.0",
      "model_name": "LayoutModel",
      "state": {}
     },
     "a2134eecc0a84941b13087234ccb5fe8": {
      "model_module": "@jupyter-widgets/controls",
      "model_module_version": "1.5.0",
      "model_name": "BoxModel",
      "state": {
       "children": [
        "IPY_MODEL_b12a737681ab482ba397877696607f2a",
        "IPY_MODEL_a69b9526fca14d78b0afbecc510871c1"
       ],
       "layout": "IPY_MODEL_289fb793a3fd4a83a4053c938fb30e83"
      }
     },
     "a2257bdba40e4f82b3665ae9f1f5e980": {
      "model_module": "@jupyter-widgets/controls",
      "model_module_version": "1.5.0",
      "model_name": "SliderStyleModel",
      "state": {
       "description_width": ""
      }
     },
     "a24d88a08ee341f6b36d5ef72dd302db": {
      "model_module": "@jupyter-widgets/controls",
      "model_module_version": "1.5.0",
      "model_name": "FloatSliderModel",
      "state": {
       "description": "Compression Threshold",
       "layout": "IPY_MODEL_db80a12f9f384a6aacf29ef60826edd8",
       "max": 1,
       "step": 0.01,
       "style": "IPY_MODEL_2420d6ec817141a4b574dad75c401358",
       "value": 0.8
      }
     },
     "a25b9d3f43a442b28ce4a6edc35688c7": {
      "model_module": "@jupyter-widgets/controls",
      "model_module_version": "1.5.0",
      "model_name": "ButtonStyleModel",
      "state": {}
     },
     "a262b305d3ea49d59fbf9c78f2922696": {
      "model_module": "@jupyter-widgets/base",
      "model_module_version": "1.2.0",
      "model_name": "LayoutModel",
      "state": {}
     },
     "a302c749e20f476e930dd11e75d1512e": {
      "model_module": "@jupyter-widgets/controls",
      "model_module_version": "1.5.0",
      "model_name": "BoxModel",
      "state": {
       "children": [
        "IPY_MODEL_560736c4afa84b44b9cbd89c0c6e3e58",
        "IPY_MODEL_5cdc708e6ed7492095586d8f15521615"
       ],
       "layout": "IPY_MODEL_444a6865c3504b0aa288781d63961c3f"
      }
     },
     "a3208ab2b5904dad8e89595117bcb73c": {
      "model_module": "@jupyter-widgets/controls",
      "model_module_version": "1.5.0",
      "model_name": "FloatSliderModel",
      "state": {
       "description": "Compression Threshold",
       "layout": "IPY_MODEL_70a36b279fe84ab48e3b937dd73ec1ea",
       "max": 1,
       "step": 0.01,
       "style": "IPY_MODEL_bb491e261c394d849577297bec1283c9",
       "value": 0.5
      }
     },
     "a3266b20644e4ba4a72ad3eb8a7400e1": {
      "model_module": "@jupyter-widgets/controls",
      "model_module_version": "1.5.0",
      "model_name": "FloatSliderModel",
      "state": {
       "description": "225°",
       "layout": "IPY_MODEL_90f61d6e7e08497aac73222f4f1542b2",
       "max": 1,
       "min": -1,
       "step": 0.01,
       "style": "IPY_MODEL_cedb54cefaa9480fad5b435699ce6bcb"
      }
     },
     "a328f863d5c041f9807df6d8ecbc545c": {
      "model_module": "@jupyter-widgets/base",
      "model_module_version": "1.2.0",
      "model_name": "LayoutModel",
      "state": {}
     },
     "a32e4ad1c95546569868e8e051a2a8cd": {
      "model_module": "@jupyter-widgets/controls",
      "model_module_version": "1.5.0",
      "model_name": "SliderStyleModel",
      "state": {
       "description_width": ""
      }
     },
     "a3463cd3a0e949b18989ebf08c9be4b8": {
      "model_module": "@jupyter-widgets/base",
      "model_module_version": "1.2.0",
      "model_name": "LayoutModel",
      "state": {}
     },
     "a34b4f9b5f4346b5b2956a98f90fce9f": {
      "model_module": "@jupyter-widgets/base",
      "model_module_version": "1.2.0",
      "model_name": "LayoutModel",
      "state": {}
     },
     "a34bdf28772340bf861d9eb9125b9c02": {
      "model_module": "@jupyter-widgets/controls",
      "model_module_version": "1.5.0",
      "model_name": "ButtonModel",
      "state": {
       "description": "Reset Saturation Controls",
       "layout": "IPY_MODEL_efba062155014493ba7526aabcfba0d6",
       "style": "IPY_MODEL_909fb30e50684eeb88e2971b8e5b4bdf"
      }
     },
     "a34f78b68ac141d6939a4dc76326d9bb": {
      "model_module": "jupyter-matplotlib",
      "model_module_version": "^0.7.2",
      "model_name": "ToolbarModel",
      "state": {
       "layout": "IPY_MODEL_208422afc59440abbd8c6fda284d1a8f",
       "toolitems": [
        [
         "Home",
         "Reset original view",
         "home",
         "home"
        ],
        [
         "Back",
         "Back to previous view",
         "arrow-left",
         "back"
        ],
        [
         "Forward",
         "Forward to next view",
         "arrow-right",
         "forward"
        ],
        [
         "Pan",
         "Pan axes with left mouse, zoom with right",
         "arrows",
         "pan"
        ],
        [
         "Zoom",
         "Zoom to rectangle",
         "square-o",
         "zoom"
        ],
        [
         "Download",
         "Download plot",
         "floppy-o",
         "save_figure"
        ]
       ]
      }
     },
     "a3543d678d4a4d4abeec89c3a305b1e2": {
      "model_module": "@jupyter-widgets/base",
      "model_module_version": "1.2.0",
      "model_name": "LayoutModel",
      "state": {}
     },
     "a36979ce3f2c4c8da47bebdfc6dbb25f": {
      "model_module": "@jupyter-widgets/base",
      "model_module_version": "1.2.0",
      "model_name": "LayoutModel",
      "state": {}
     },
     "a3ae246a7f904ea984f2470b39fd6f64": {
      "model_module": "@jupyter-widgets/base",
      "model_module_version": "1.2.0",
      "model_name": "LayoutModel",
      "state": {}
     },
     "a3b669db5d684638b690d72b7dd1fd2e": {
      "model_module": "@jupyter-widgets/controls",
      "model_module_version": "1.5.0",
      "model_name": "ButtonModel",
      "state": {
       "description": "Save Figure",
       "layout": "IPY_MODEL_03ba1bad61494e6a93f63c62c980b2d2",
       "style": "IPY_MODEL_48970ecdf719436aa9ab4e6bcc5d98d6"
      }
     },
     "a40da18010af4f24be9c7c7852de4e33": {
      "model_module": "@jupyter-widgets/controls",
      "model_module_version": "1.5.0",
      "model_name": "HBoxModel",
      "state": {
       "children": [
        "IPY_MODEL_65ca0014cd684e25a49d65fd597dd43b",
        "IPY_MODEL_cbb87dae913c4d9c8e521793305323a5",
        "IPY_MODEL_50a04ef873d34fbf886f4f7ab5eab272",
        "IPY_MODEL_1c977c18e58e4603be14116970cf3a81"
       ],
       "layout": "IPY_MODEL_e245c5f407aa4258b76f45bd4d106484"
      }
     },
     "a4479d42e3664a7eb7415733b8496b40": {
      "model_module": "@jupyter-widgets/controls",
      "model_module_version": "1.5.0",
      "model_name": "FloatSliderModel",
      "state": {
       "description": "270°",
       "layout": "IPY_MODEL_fcac1d7a780348f88be95491d8dcaad8",
       "max": 1,
       "min": -1,
       "step": 0.01,
       "style": "IPY_MODEL_bdb8c3c9159646928b6533120010096d"
      }
     },
     "a465b8e04b3549369de8887446559de9": {
      "model_module": "@jupyter-widgets/base",
      "model_module_version": "1.2.0",
      "model_name": "LayoutModel",
      "state": {}
     },
     "a474d9ad5eaa47a1b9704ca9ff55a7ea": {
      "model_module": "@jupyter-widgets/base",
      "model_module_version": "1.2.0",
      "model_name": "LayoutModel",
      "state": {
       "border": "solid 4px #222",
       "margin": "4px",
       "padding": "0"
      }
     },
     "a475a49e29e944b28b0ec36b23797716": {
      "model_module": "@jupyter-widgets/base",
      "model_module_version": "1.2.0",
      "model_name": "LayoutModel",
      "state": {}
     },
     "a48fbe19194c490c88c17a859265a638": {
      "model_module": "@jupyter-widgets/base",
      "model_module_version": "1.2.0",
      "model_name": "LayoutModel",
      "state": {}
     },
     "a4b817f303d948539c63acab931e1c50": {
      "model_module": "@jupyter-widgets/output",
      "model_module_version": "1.0.0",
      "model_name": "OutputModel",
      "state": {
       "layout": "IPY_MODEL_3b9905a3d20145619d70af03746b64c4",
       "outputs": [
        {
         "data": {
          "application/vnd.jupyter.widget-view+json": {
           "model_id": "00e0f1af37e84b89b114a3823a0d6924",
           "version_major": 2,
           "version_minor": 0
          },
          "text/plain": "Canvas(toolbar=Toolbar(toolitems=[('Home', 'Reset original view', 'home', 'home'), ('Back', 'Back to previous …"
         },
         "metadata": {},
         "output_type": "display_data"
        }
       ]
      }
     },
     "a4c93aa30620452cb6d3e544adb8885b": {
      "model_module": "@jupyter-widgets/base",
      "model_module_version": "1.2.0",
      "model_name": "LayoutModel",
      "state": {
       "border": "solid 4px #222",
       "margin": "4px",
       "padding": "0"
      }
     },
     "a4cc5bec42dc4c80a86ea5469dcd31c9": {
      "model_module": "@jupyter-widgets/controls",
      "model_module_version": "1.5.0",
      "model_name": "FloatSliderModel",
      "state": {
       "description": "225°",
       "layout": "IPY_MODEL_6594281f60a94b969669a1b5a31250b9",
       "max": 1,
       "min": -1,
       "step": 0.01,
       "style": "IPY_MODEL_17ae04218e0d4cc69b32bccded9e8a96"
      }
     },
     "a4f98a1ae2954728aa1ebca7fac4a398": {
      "model_module": "@jupyter-widgets/controls",
      "model_module_version": "1.5.0",
      "model_name": "TabModel",
      "state": {
       "_titles": {
        "0": "Global Controls"
       },
       "children": [
        "IPY_MODEL_cc8f78f752f942ac830b10270aa934ad"
       ],
       "layout": "IPY_MODEL_a6a242513c1847729278d226d7f98776"
      }
     },
     "a52bc4248ba24e709c07495257cc8948": {
      "model_module": "@jupyter-widgets/base",
      "model_module_version": "1.2.0",
      "model_name": "LayoutModel",
      "state": {}
     },
     "a537ae6cde8f45f28f0cc45b9a13cdf7": {
      "model_module": "@jupyter-widgets/base",
      "model_module_version": "1.2.0",
      "model_name": "LayoutModel",
      "state": {}
     },
     "a54dbe2564c44efeac8e5226623637ad": {
      "model_module": "@jupyter-widgets/base",
      "model_module_version": "1.2.0",
      "model_name": "LayoutModel",
      "state": {}
     },
     "a54fb394d2594f50a283d16f94de90f9": {
      "model_module": "@jupyter-widgets/base",
      "model_module_version": "1.2.0",
      "model_name": "LayoutModel",
      "state": {}
     },
     "a55544b378434a0c8d5ff89cf27f77d5": {
      "model_module": "@jupyter-widgets/base",
      "model_module_version": "1.2.0",
      "model_name": "LayoutModel",
      "state": {}
     },
     "a57297546bb840eaa81ab89dc4d6e5e7": {
      "model_module": "@jupyter-widgets/controls",
      "model_module_version": "1.5.0",
      "model_name": "SliderStyleModel",
      "state": {
       "description_width": ""
      }
     },
     "a572d59888344ef2a3da53a27b244ff3": {
      "model_module": "@jupyter-widgets/controls",
      "model_module_version": "1.5.0",
      "model_name": "CheckboxModel",
      "state": {
       "description": "Disable Medicina",
       "disabled": false,
       "layout": "IPY_MODEL_36f1e0b434ac4c69966075b1da617ecc",
       "style": "IPY_MODEL_9a0e73d7aaac4814b372cbe4e619f8f7",
       "value": false
      }
     },
     "a58554a7adc74a4ba13409b64daeb1f8": {
      "model_module": "@jupyter-widgets/base",
      "model_module_version": "1.2.0",
      "model_name": "LayoutModel",
      "state": {}
     },
     "a5b7534ad634439fa30aa7af71c26169": {
      "model_module": "@jupyter-widgets/controls",
      "model_module_version": "1.5.0",
      "model_name": "SliderStyleModel",
      "state": {
       "description_width": ""
      }
     },
     "a5b833f299694f48b2c26ecb975c3513": {
      "model_module": "@jupyter-widgets/controls",
      "model_module_version": "1.5.0",
      "model_name": "FloatSliderModel",
      "state": {
       "description": "0°",
       "layout": "IPY_MODEL_2613eceac06a4df396a4a877d3e9fa1c",
       "max": 1,
       "min": -1,
       "step": 0.01,
       "style": "IPY_MODEL_944ba32eba304ca6ba6d6f3533551320"
      }
     },
     "a616c0d7f20e410e9d5d5bf8f30e4082": {
      "model_module": "@jupyter-widgets/controls",
      "model_module_version": "1.5.0",
      "model_name": "SliderStyleModel",
      "state": {
       "description_width": ""
      }
     },
     "a6861a527a6645dc8ba1f0ba7c2d7dd3": {
      "model_module": "@jupyter-widgets/base",
      "model_module_version": "1.2.0",
      "model_name": "LayoutModel",
      "state": {}
     },
     "a69b9526fca14d78b0afbecc510871c1": {
      "model_module": "@jupyter-widgets/controls",
      "model_module_version": "1.5.0",
      "model_name": "TabModel",
      "state": {
       "_titles": {
        "0": "Global Controls",
        "1": "Protected Area Controls",
        "2": "Saturation Controls",
        "3": "Hue Controls"
       },
       "children": [
        "IPY_MODEL_55bd825a7f404d2aa7455881534b0002",
        "IPY_MODEL_d457303c9f2046a4951e491ec192ecbf",
        "IPY_MODEL_3afe54bfdf7f4a9a9f34252e59e14c53",
        "IPY_MODEL_e6c8c5291205499e9c22b44564c1e686"
       ],
       "layout": "IPY_MODEL_d3f817d00c4e404f9c27ccf14866017e"
      }
     },
     "a6a242513c1847729278d226d7f98776": {
      "model_module": "@jupyter-widgets/base",
      "model_module_version": "1.2.0",
      "model_name": "LayoutModel",
      "state": {
       "border": "solid 4px #222",
       "margin": "4px",
       "padding": "0"
      }
     },
     "a6b4c7f95ac640cabee7e2337a17d0d6": {
      "model_module": "@jupyter-widgets/base",
      "model_module_version": "1.2.0",
      "model_name": "LayoutModel",
      "state": {}
     },
     "a6d2492763cd4a0c98cb5b37cf4d609f": {
      "model_module": "@jupyter-widgets/base",
      "model_module_version": "1.2.0",
      "model_name": "LayoutModel",
      "state": {
       "border": "solid 4px #222",
       "margin": "4px",
       "padding": "0"
      }
     },
     "a72f21486aef4ef9a07988c96947ab1b": {
      "model_module": "@jupyter-widgets/controls",
      "model_module_version": "1.5.0",
      "model_name": "HBoxModel",
      "state": {
       "children": [
        "IPY_MODEL_131a54b2bef449169f48644c1a5b7dcd",
        "IPY_MODEL_62304a2c40da44ddb968a79ff0bbf31e",
        "IPY_MODEL_59f5a3f7ee8e441ea34436880373a925",
        "IPY_MODEL_530b39c9c7564e26b8f825d776dc3dd3"
       ],
       "layout": "IPY_MODEL_f5a4f1cddb7c43149ebe60d5d1462a46"
      }
     },
     "a734343fe5d844d58f8407df81145f54": {
      "model_module": "@jupyter-widgets/base",
      "model_module_version": "1.2.0",
      "model_name": "LayoutModel",
      "state": {}
     },
     "a7770c8a7d1b48b7b94d5a55d75c0c8e": {
      "model_module": "@jupyter-widgets/controls",
      "model_module_version": "1.5.0",
      "model_name": "SliderStyleModel",
      "state": {
       "description_width": ""
      }
     },
     "a7a623f562144a11bb58e6e881395742": {
      "model_module": "@jupyter-widgets/controls",
      "model_module_version": "1.5.0",
      "model_name": "VBoxModel",
      "state": {
       "children": [
        "IPY_MODEL_4026dd14437d4caf91010566202f1682",
        "IPY_MODEL_e1ea837ee6d34227996f6481526aecc3",
        "IPY_MODEL_0ab85674c0fb41bda1bff7ff2660ea8c"
       ],
       "layout": "IPY_MODEL_906746b846454ac789a42e211aa7bb57"
      }
     },
     "a7e3c535ce7f4659a5652c014203cb22": {
      "model_module": "@jupyter-widgets/base",
      "model_module_version": "1.2.0",
      "model_name": "LayoutModel",
      "state": {}
     },
     "a80852b0e6334c81862a23308639a423": {
      "model_module": "@jupyter-widgets/controls",
      "model_module_version": "1.5.0",
      "model_name": "SliderStyleModel",
      "state": {
       "description_width": ""
      }
     },
     "a80b95f3be0b4059b31ba5ed6e5a2e15": {
      "model_module": "@jupyter-widgets/base",
      "model_module_version": "1.2.0",
      "model_name": "LayoutModel",
      "state": {}
     },
     "a85adc9b118a46ada945d003fd325f3c": {
      "model_module": "@jupyter-widgets/controls",
      "model_module_version": "1.5.0",
      "model_name": "VBoxModel",
      "state": {
       "children": [
        "IPY_MODEL_914fc0c5d43c4200a724793f324a3ebe"
       ],
       "layout": "IPY_MODEL_7b1bed82aadb4dffb621c83b90598759"
      }
     },
     "a9aa6a1011314da29af1a85cf1296a94": {
      "model_module": "@jupyter-widgets/controls",
      "model_module_version": "1.5.0",
      "model_name": "DropdownModel",
      "state": {
       "_options_labels": [
        "tanh",
        "atan",
        "simple"
       ],
       "description": "Compression Function:",
       "index": 0,
       "layout": "IPY_MODEL_785e97d4923a47ceab6cc40b007632ea",
       "style": "IPY_MODEL_ff9fea79024c456095205b161293793d"
      }
     },
     "aa57da0145b847f6a611eb392d31982e": {
      "model_module": "@jupyter-widgets/controls",
      "model_module_version": "1.5.0",
      "model_name": "VBoxModel",
      "state": {
       "children": [
        "IPY_MODEL_c49f1ca9ab604017b4a8f01c4777df81",
        "IPY_MODEL_9ae064cee176422e80ac78dd89e24915",
        "IPY_MODEL_b014a292d6c748e1b32c184a5d9c0267"
       ],
       "layout": "IPY_MODEL_75e4ad5209724a3abbcb3c4403f65cdd"
      }
     },
     "aa61bc0169cf4b6ab417dfafd0b462f3": {
      "model_module": "@jupyter-widgets/base",
      "model_module_version": "1.2.0",
      "model_name": "LayoutModel",
      "state": {}
     },
     "aa6352d91dba47419aa879e3f7d4cadf": {
      "model_module": "@jupyter-widgets/controls",
      "model_module_version": "1.5.0",
      "model_name": "TabModel",
      "state": {
       "_titles": {
        "0": "Global Controls",
        "1": "Protected Area Controls",
        "2": "Saturation Controls",
        "3": "Hue Controls"
       },
       "children": [
        "IPY_MODEL_c4a2fa5330534b66b845395dbf9871dd",
        "IPY_MODEL_66deb0c8403a4425b04c6282e7fbae74",
        "IPY_MODEL_5cdb9360772d441fa88d089083f8c15b",
        "IPY_MODEL_cd4b24da99104d5bb133d4ed5e8c52bc"
       ],
       "layout": "IPY_MODEL_52550524c8c449d2ba424debe63a8228"
      }
     },
     "aa6cbf6e3b13469fb7cce9c25085c31a": {
      "model_module": "@jupyter-widgets/controls",
      "model_module_version": "1.5.0",
      "model_name": "HBoxModel",
      "state": {
       "children": [
        "IPY_MODEL_7613a44cf2104a60a51b8dfa6b7ccc5c",
        "IPY_MODEL_3b92e43cacde448190dc0471542f0cae",
        "IPY_MODEL_c27e46ceda56416795f2e4856be3bdf8"
       ],
       "layout": "IPY_MODEL_378fcfd602644a4dbfba3339cd5a837d"
      }
     },
     "aa6f8fc648bc45b79c0b73960ee880e8": {
      "model_module": "@jupyter-widgets/controls",
      "model_module_version": "1.5.0",
      "model_name": "CheckboxModel",
      "state": {
       "description": "Disable Medicina",
       "disabled": false,
       "layout": "IPY_MODEL_3f961fbc9aa948ce9432f4ca22e90976",
       "style": "IPY_MODEL_c36a5198c62540e2a11aab3a39356d05",
       "value": false
      }
     },
     "aa7727d41a22480798b51d24e1bec7c1": {
      "model_module": "@jupyter-widgets/base",
      "model_module_version": "1.2.0",
      "model_name": "LayoutModel",
      "state": {}
     },
     "aacba73afba5413797dbab1a7b495d7b": {
      "model_module": "@jupyter-widgets/controls",
      "model_module_version": "1.5.0",
      "model_name": "DropdownModel",
      "state": {
       "_options_labels": [
        "tanh",
        "atan",
        "simple"
       ],
       "description": "Compression Function:",
       "index": 0,
       "layout": "IPY_MODEL_88a701635cbd439599574a8ad179c4e1",
       "style": "IPY_MODEL_71f16efc811649d899aad4ddebeecc7f"
      }
     },
     "ab37c330f7534947b645211fe5a9dbde": {
      "model_module": "@jupyter-widgets/controls",
      "model_module_version": "1.5.0",
      "model_name": "SliderStyleModel",
      "state": {
       "description_width": ""
      }
     },
     "ab6205ef760942dcbd5d13b985b88fbd": {
      "model_module": "@jupyter-widgets/controls",
      "model_module_version": "1.5.0",
      "model_name": "CheckboxModel",
      "state": {
       "description": "Disable Medicina",
       "disabled": false,
       "layout": "IPY_MODEL_2f1a5710332a42ef8046a95c2aa4e50a",
       "style": "IPY_MODEL_2cb5313e123848e9ac9d13b2f253e891",
       "value": false
      }
     },
     "abb291a03d0d43e0a4df2f47a4a4352e": {
      "model_module": "@jupyter-widgets/controls",
      "model_module_version": "1.5.0",
      "model_name": "FloatSliderModel",
      "state": {
       "description": "315°",
       "layout": "IPY_MODEL_7ad616ff1f19467dbe23cf38c4eed5d0",
       "max": 1,
       "min": -1,
       "step": 0.01,
       "style": "IPY_MODEL_4cb194a605934a8baba929603791231e"
      }
     },
     "abbf2321fda247ab9243a6aa3052cd1b": {
      "model_module": "@jupyter-widgets/base",
      "model_module_version": "1.2.0",
      "model_name": "LayoutModel",
      "state": {}
     },
     "abe8321695fb473e8499f460b8f0e0c9": {
      "model_module": "jupyter-matplotlib",
      "model_module_version": "^0.7.2",
      "model_name": "MPLCanvasModel",
      "state": {
       "_figure_label": "Figure 18",
       "_height": 430,
       "_width": 1099,
       "header_visible": false,
       "layout": "IPY_MODEL_322faa0ef2034cc8bf82f7ae32cc23db",
       "resizable": false,
       "toolbar": "IPY_MODEL_f1d60902d3c640f1a2abfcacdd988800",
       "toolbar_position": "left",
       "toolbar_visible": false
      }
     },
     "abea5205b98f45ecab17bbbf7f63f323": {
      "model_module": "@jupyter-widgets/controls",
      "model_module_version": "1.5.0",
      "model_name": "TabModel",
      "state": {
       "_titles": {
        "0": "Global Controls",
        "1": "Protected Area Controls",
        "2": "Saturation Controls",
        "3": "Hue Controls"
       },
       "children": [
        "IPY_MODEL_15243a4528f04b7290965cc158fe3661",
        "IPY_MODEL_ae6a4a17d0d04aae86f9e3fb6dc92add",
        "IPY_MODEL_dc85b0eff91b4978a8a78cd2a8f86454",
        "IPY_MODEL_b1a45926c83749e5abcd591413aeb1ed"
       ],
       "layout": "IPY_MODEL_8077cc26cccf44a0a26cca317343d7fc"
      }
     },
     "ac4ca06c4b964bfa8cefce5d3dc69b98": {
      "model_module": "@jupyter-widgets/base",
      "model_module_version": "1.2.0",
      "model_name": "LayoutModel",
      "state": {}
     },
     "accaedb9559448b6983c9d027e30ff57": {
      "model_module": "jupyter-matplotlib",
      "model_module_version": "^0.7.2",
      "model_name": "ToolbarModel",
      "state": {
       "layout": "IPY_MODEL_5be481ebe6664f128319212ebc074faa",
       "toolitems": [
        [
         "Home",
         "Reset original view",
         "home",
         "home"
        ],
        [
         "Back",
         "Back to previous view",
         "arrow-left",
         "back"
        ],
        [
         "Forward",
         "Forward to next view",
         "arrow-right",
         "forward"
        ],
        [
         "Pan",
         "Pan axes with left mouse, zoom with right",
         "arrows",
         "pan"
        ],
        [
         "Zoom",
         "Zoom to rectangle",
         "square-o",
         "zoom"
        ],
        [
         "Download",
         "Download plot",
         "floppy-o",
         "save_figure"
        ]
       ]
      }
     },
     "acdc18cfba5846e8b9bd4dcc7de5aa64": {
      "model_module": "@jupyter-widgets/base",
      "model_module_version": "1.2.0",
      "model_name": "LayoutModel",
      "state": {}
     },
     "aced55c9cae041cfb915313bf7a682cd": {
      "model_module": "@jupyter-widgets/base",
      "model_module_version": "1.2.0",
      "model_name": "LayoutModel",
      "state": {
       "border": "solid 4px #222",
       "margin": "4px",
       "padding": "0"
      }
     },
     "ad1f61d1cbf64cba8ab05326474da566": {
      "model_module": "@jupyter-widgets/controls",
      "model_module_version": "1.5.0",
      "model_name": "TabModel",
      "state": {
       "_titles": {
        "0": "Global Controls",
        "1": "Compression Controls"
       },
       "children": [
        "IPY_MODEL_ffd5b22857ff430c81c26d24cd33f797",
        "IPY_MODEL_e9c9fd5000544a2599bed3d53c86995e"
       ],
       "layout": "IPY_MODEL_68a146af598c450c84fa167c2d1c3ec1"
      }
     },
     "ad39c5c485a64af889845964ede2b81c": {
      "model_module": "@jupyter-widgets/controls",
      "model_module_version": "1.5.0",
      "model_name": "HBoxModel",
      "state": {
       "children": [
        "IPY_MODEL_de36e28ee7c44be5b1662437e6616c22",
        "IPY_MODEL_868c2abd98f34b0ea58813e8e9ba2537",
        "IPY_MODEL_8343a98511484f98b8b3215fc12fcb13",
        "IPY_MODEL_4d6de0df36c140199b33d9173662c275"
       ],
       "layout": "IPY_MODEL_30045e567ff34ec785d4c48e958ab6fd"
      }
     },
     "ad8eb51ca85a4f47a19eaa9455e60f72": {
      "model_module": "jupyter-matplotlib",
      "model_module_version": "^0.7.2",
      "model_name": "ToolbarModel",
      "state": {
       "layout": "IPY_MODEL_79c3f0bd31734c0d97b5aeac7343cc60",
       "toolitems": [
        [
         "Home",
         "Reset original view",
         "home",
         "home"
        ],
        [
         "Back",
         "Back to previous view",
         "arrow-left",
         "back"
        ],
        [
         "Forward",
         "Forward to next view",
         "arrow-right",
         "forward"
        ],
        [
         "Pan",
         "Pan axes with left mouse, zoom with right",
         "arrows",
         "pan"
        ],
        [
         "Zoom",
         "Zoom to rectangle",
         "square-o",
         "zoom"
        ],
        [
         "Download",
         "Download plot",
         "floppy-o",
         "save_figure"
        ]
       ]
      }
     },
     "ae2d1af2716a4ad48ab1b6896f796f61": {
      "model_module": "@jupyter-widgets/controls",
      "model_module_version": "1.5.0",
      "model_name": "DropdownModel",
      "state": {
       "_options_labels": [
        "tanh",
        "atan",
        "simple"
       ],
       "description": "Compression Function:",
       "index": 0,
       "layout": "IPY_MODEL_1490be62d6184736a7774784af25de31",
       "style": "IPY_MODEL_5b8fc2bbf6a34978987078f5b2ca8694"
      }
     },
     "ae471da5cdac47ac815e3c6a3b183686": {
      "model_module": "@jupyter-widgets/base",
      "model_module_version": "1.2.0",
      "model_name": "LayoutModel",
      "state": {}
     },
     "ae6a4a17d0d04aae86f9e3fb6dc92add": {
      "model_module": "@jupyter-widgets/controls",
      "model_module_version": "1.5.0",
      "model_name": "HBoxModel",
      "state": {
       "children": [
        "IPY_MODEL_2f273923e1a044868130ce933c9ef126",
        "IPY_MODEL_cb4d8661e5a342019f824629ec02e18d"
       ],
       "layout": "IPY_MODEL_913c1db3f5bc4b7ab2c26bcefb2bba13"
      }
     },
     "ae6d17c1a9294e509c0d1d989ed3bf69": {
      "model_module": "@jupyter-widgets/base",
      "model_module_version": "1.2.0",
      "model_name": "LayoutModel",
      "state": {}
     },
     "ae9c7152cb11440daa496ea6cc4d55bc": {
      "model_module": "@jupyter-widgets/base",
      "model_module_version": "1.2.0",
      "model_name": "LayoutModel",
      "state": {
       "align_items": "stretch",
       "display": "flex",
       "flex_flow": "column",
       "width": "1128px"
      }
     },
     "aeadbd77e14a4bf4b7897947f69b9ccc": {
      "model_module": "@jupyter-widgets/controls",
      "model_module_version": "1.5.0",
      "model_name": "ButtonModel",
      "state": {
       "description": "Save Figure",
       "layout": "IPY_MODEL_976f5604eef544229ec3eee8431c4a0d",
       "style": "IPY_MODEL_d2808f97cb1a427883a77a75fa424808"
      }
     },
     "aee036f1a64447eca7de284a2a577618": {
      "model_module": "@jupyter-widgets/base",
      "model_module_version": "1.2.0",
      "model_name": "LayoutModel",
      "state": {}
     },
     "aefa88e793ac4d6e8e070bfae8af65ba": {
      "model_module": "@jupyter-widgets/controls",
      "model_module_version": "1.5.0",
      "model_name": "SliderStyleModel",
      "state": {
       "description_width": ""
      }
     },
     "af35531ff196406b911fdcad6c44f05d": {
      "model_module": "@jupyter-widgets/base",
      "model_module_version": "1.2.0",
      "model_name": "LayoutModel",
      "state": {}
     },
     "af4cec54bc1e4beca6f40e3227b4684d": {
      "model_module": "@jupyter-widgets/base",
      "model_module_version": "1.2.0",
      "model_name": "LayoutModel",
      "state": {}
     },
     "af67377661e649bcab8424b1bbb90702": {
      "model_module": "@jupyter-widgets/controls",
      "model_module_version": "1.5.0",
      "model_name": "HBoxModel",
      "state": {
       "children": [
        "IPY_MODEL_a572d59888344ef2a3da53a27b244ff3",
        "IPY_MODEL_b34a1d2266034ffb8735e479d0aa13fc",
        "IPY_MODEL_15de4ebe299b47549ab5406ba89656b3",
        "IPY_MODEL_8368cd9ed6f34cc9b61a172764c8bedf"
       ],
       "layout": "IPY_MODEL_848412dbfde047ee800981f391785331"
      }
     },
     "af6b2536a6bb456f8d01a262e4178fd1": {
      "model_module": "@jupyter-widgets/controls",
      "model_module_version": "1.5.0",
      "model_name": "SliderStyleModel",
      "state": {
       "description_width": ""
      }
     },
     "af83dfece00d41f79cf9c2fc36d0b692": {
      "model_module": "@jupyter-widgets/controls",
      "model_module_version": "1.5.0",
      "model_name": "SliderStyleModel",
      "state": {
       "description_width": ""
      }
     },
     "af91b2e437e74b51b6e90b8bb1d89536": {
      "model_module": "@jupyter-widgets/base",
      "model_module_version": "1.2.0",
      "model_name": "LayoutModel",
      "state": {}
     },
     "b003dc21f9744e3fb1f475e09d4d8650": {
      "model_module": "@jupyter-widgets/base",
      "model_module_version": "1.2.0",
      "model_name": "LayoutModel",
      "state": {}
     },
     "b014a292d6c748e1b32c184a5d9c0267": {
      "model_module": "@jupyter-widgets/controls",
      "model_module_version": "1.5.0",
      "model_name": "FloatSliderModel",
      "state": {
       "description": "225°",
       "layout": "IPY_MODEL_8673c80dfd6e4804a1f09e23ad52a952",
       "max": 1,
       "min": -1,
       "step": 0.01,
       "style": "IPY_MODEL_6b6223cf40be404d8696ba39b2fd50fc"
      }
     },
     "b02a39da02684e5cbd8b71b393210a0f": {
      "model_module": "@jupyter-widgets/controls",
      "model_module_version": "1.5.0",
      "model_name": "DropdownModel",
      "state": {
       "_options_labels": [
        "tanh",
        "atan",
        "simple"
       ],
       "description": "Compression Function:",
       "index": 0,
       "layout": "IPY_MODEL_d7aea7bf973a465082f39334c277548a",
       "style": "IPY_MODEL_d41304efb22d47b083f0f72c1676717a"
      }
     },
     "b0e9966788b047b4bf0949f6b76c29f9": {
      "model_module": "@jupyter-widgets/base",
      "model_module_version": "1.2.0",
      "model_name": "LayoutModel",
      "state": {}
     },
     "b11df42f32444eddbae410b7b81a36e3": {
      "model_module": "@jupyter-widgets/base",
      "model_module_version": "1.2.0",
      "model_name": "LayoutModel",
      "state": {}
     },
     "b12a737681ab482ba397877696607f2a": {
      "model_module": "@jupyter-widgets/output",
      "model_module_version": "1.0.0",
      "model_name": "OutputModel",
      "state": {
       "layout": "IPY_MODEL_275b9a8dba24447aaee72a930a506d4d",
       "outputs": [
        {
         "data": {
          "application/vnd.jupyter.widget-view+json": {
           "model_id": "5539c255c165411d9a813282eaff8fe0",
           "version_major": 2,
           "version_minor": 0
          },
          "text/plain": "Canvas(toolbar=Toolbar(toolitems=[('Home', 'Reset original view', 'home', 'home'), ('Back', 'Back to previous …"
         },
         "metadata": {},
         "output_type": "display_data"
        }
       ]
      }
     },
     "b175cd21ffec4ff8b4998fd54efe5a70": {
      "model_module": "@jupyter-widgets/controls",
      "model_module_version": "1.5.0",
      "model_name": "ButtonStyleModel",
      "state": {}
     },
     "b1a45926c83749e5abcd591413aeb1ed": {
      "model_module": "@jupyter-widgets/controls",
      "model_module_version": "1.5.0",
      "model_name": "HBoxModel",
      "state": {
       "children": [
        "IPY_MODEL_8c3ccf891aa54ab9b17faf2f496fb7f4",
        "IPY_MODEL_3e496c27bd674d1fb692606a40e00415",
        "IPY_MODEL_8ee233a7c4b04e71805a28416726b766",
        "IPY_MODEL_4b87125282f64118883f3d55114cb16e"
       ],
       "layout": "IPY_MODEL_f3a559040e144719a75b4870fe32de2b"
      }
     },
     "b1c1635794904f7b80edfdb4874997a1": {
      "model_module": "@jupyter-widgets/base",
      "model_module_version": "1.2.0",
      "model_name": "LayoutModel",
      "state": {}
     },
     "b1e246ca67fc42c09f419a5ae632a710": {
      "model_module": "@jupyter-widgets/controls",
      "model_module_version": "1.5.0",
      "model_name": "HBoxModel",
      "state": {
       "children": [
        "IPY_MODEL_a85adc9b118a46ada945d003fd325f3c",
        "IPY_MODEL_bd507f331d854f4db7674b226596281a",
        "IPY_MODEL_809501de3d9d4f57b57e0235e8077dea",
        "IPY_MODEL_ec15c63a723a4d9391aee577df354d9f"
       ],
       "layout": "IPY_MODEL_672e7c47950446029786d8fdd0f26bb7"
      }
     },
     "b201c4dca7014523bdb6fcd2ae0701e6": {
      "model_module": "@jupyter-widgets/controls",
      "model_module_version": "1.5.0",
      "model_name": "ButtonModel",
      "state": {
       "description": "Save Figure",
       "layout": "IPY_MODEL_d48f177d5f3d4031965a1a2b5aeba1d2",
       "style": "IPY_MODEL_26d3dcc20efb42e2a505ee4039b6b5fb"
      }
     },
     "b24028e35fc84f42993d316561be8904": {
      "model_module": "@jupyter-widgets/controls",
      "model_module_version": "1.5.0",
      "model_name": "VBoxModel",
      "state": {
       "children": [
        "IPY_MODEL_bb8da679d7334442a02bb71092ae4221",
        "IPY_MODEL_02d5c75c163841089e29866361b4b951"
       ],
       "layout": "IPY_MODEL_1f3fb178b88048b68e7dad216a2af736"
      }
     },
     "b24a8698510d47c4a5402efdf3c5594c": {
      "model_module": "@jupyter-widgets/base",
      "model_module_version": "1.2.0",
      "model_name": "LayoutModel",
      "state": {}
     },
     "b27236d78b374f5095b615e980e6a80d": {
      "model_module": "@jupyter-widgets/base",
      "model_module_version": "1.2.0",
      "model_name": "LayoutModel",
      "state": {
       "align_items": "stretch",
       "display": "flex",
       "flex_flow": "column",
       "width": "1128px"
      }
     },
     "b2d5a5599e73431d925d5d394e25a501": {
      "model_module": "@jupyter-widgets/controls",
      "model_module_version": "1.5.0",
      "model_name": "SliderStyleModel",
      "state": {
       "description_width": ""
      }
     },
     "b306875e1f0945188825379052de08e7": {
      "model_module": "@jupyter-widgets/base",
      "model_module_version": "1.2.0",
      "model_name": "LayoutModel",
      "state": {}
     },
     "b34a1d2266034ffb8735e479d0aa13fc": {
      "model_module": "@jupyter-widgets/controls",
      "model_module_version": "1.5.0",
      "model_name": "ButtonModel",
      "state": {
       "description": "Export Image",
       "layout": "IPY_MODEL_d63ac85810c24e53ae1c8dbd1ffe9192",
       "style": "IPY_MODEL_09cd494c17184b61babf4a3fd0a1319b"
      }
     },
     "b378bec5a9ef4abb9585cf39ab92772c": {
      "model_module": "@jupyter-widgets/base",
      "model_module_version": "1.2.0",
      "model_name": "LayoutModel",
      "state": {}
     },
     "b3b563ca52624ce98193133a66166701": {
      "model_module": "@jupyter-widgets/controls",
      "model_module_version": "1.5.0",
      "model_name": "ButtonModel",
      "state": {
       "description": "Save Figure",
       "layout": "IPY_MODEL_b8d3c6b4798144dcac03a67c531b056f",
       "style": "IPY_MODEL_7bd83b1dd7e5414b9a094eb008fe4cea"
      }
     },
     "b3bfe3eb3f6a444fa0a95289866e31a2": {
      "model_module": "@jupyter-widgets/controls",
      "model_module_version": "1.5.0",
      "model_name": "SliderStyleModel",
      "state": {
       "description_width": ""
      }
     },
     "b3c7f75e5d61423fa391afe3f853c147": {
      "model_module": "@jupyter-widgets/base",
      "model_module_version": "1.2.0",
      "model_name": "LayoutModel",
      "state": {}
     },
     "b3f0642e294d4eec9222255ade593424": {
      "model_module": "@jupyter-widgets/controls",
      "model_module_version": "1.5.0",
      "model_name": "ButtonStyleModel",
      "state": {}
     },
     "b3ff5f3388bb46149e3ea8fde8d75116": {
      "model_module": "@jupyter-widgets/controls",
      "model_module_version": "1.5.0",
      "model_name": "HBoxModel",
      "state": {
       "children": [
        "IPY_MODEL_9a4ceab297b940bd80348ecb2cab8750",
        "IPY_MODEL_01aa33164ca24ca4b9fc023ea2cede8f",
        "IPY_MODEL_b3b563ca52624ce98193133a66166701",
        "IPY_MODEL_19e2adceb5fe4f71b65629a3a780354c"
       ],
       "layout": "IPY_MODEL_fd138e7daf844c33860c21626db8dd77"
      }
     },
     "b406402c52ae474a8c83b71c872fb2e5": {
      "model_module": "@jupyter-widgets/base",
      "model_module_version": "1.2.0",
      "model_name": "LayoutModel",
      "state": {}
     },
     "b5093932741645c69147ee2a2fb80860": {
      "model_module": "@jupyter-widgets/controls",
      "model_module_version": "1.5.0",
      "model_name": "HBoxModel",
      "state": {
       "children": [
        "IPY_MODEL_e7c09f470cef45c9880a726d57d49ea0",
        "IPY_MODEL_73f0eed0991643c59960298a817f594d",
        "IPY_MODEL_0d5180a0ff8d435b80d8138c04049185",
        "IPY_MODEL_245b68cab28c463daf9f8059c208c8c3"
       ],
       "layout": "IPY_MODEL_6261b01bad4445d1b0afb068ec510bdf"
      }
     },
     "b56e9e8442634dadaa636c0bdea0e9a1": {
      "model_module": "@jupyter-widgets/base",
      "model_module_version": "1.2.0",
      "model_name": "LayoutModel",
      "state": {}
     },
     "b5a83c32dd15481e8929f83513723565": {
      "model_module": "@jupyter-widgets/controls",
      "model_module_version": "1.5.0",
      "model_name": "DescriptionStyleModel",
      "state": {
       "description_width": ""
      }
     },
     "b5bd2321d9624bccb764f3c07aaa63ae": {
      "model_module": "@jupyter-widgets/base",
      "model_module_version": "1.2.0",
      "model_name": "LayoutModel",
      "state": {}
     },
     "b5e9a27a88b840728a18e8711eade0f7": {
      "model_module": "@jupyter-widgets/base",
      "model_module_version": "1.2.0",
      "model_name": "LayoutModel",
      "state": {}
     },
     "b602a6c347484689aab07e8a1c79c3ca": {
      "model_module": "@jupyter-widgets/controls",
      "model_module_version": "1.5.0",
      "model_name": "VBoxModel",
      "state": {
       "children": [
        "IPY_MODEL_d4d92d4e7b3b47a0b3e387613f25cbb8"
       ],
       "layout": "IPY_MODEL_79de2178fd5a43a78072ba6131abe489"
      }
     },
     "b6471b9babee41bea349d773310115d6": {
      "model_module": "@jupyter-widgets/base",
      "model_module_version": "1.2.0",
      "model_name": "LayoutModel",
      "state": {}
     },
     "b65c9d7ecd234c43bffd37997b68ba66": {
      "model_module": "@jupyter-widgets/base",
      "model_module_version": "1.2.0",
      "model_name": "LayoutModel",
      "state": {}
     },
     "b675ad5a9bc3446c907fb8c634bd8efb": {
      "model_module": "@jupyter-widgets/controls",
      "model_module_version": "1.5.0",
      "model_name": "FloatSliderModel",
      "state": {
       "description": "Protected Area Threshold",
       "layout": "IPY_MODEL_fe3b219669a5456fbb617c773db32614",
       "max": 1,
       "step": 0.01,
       "style": "IPY_MODEL_f84b31d2314944feb2ae39f2d750e120",
       "value": 0.7
      }
     },
     "b67824fb8aa54842b06c0fc6efbcae81": {
      "model_module": "jupyter-matplotlib",
      "model_module_version": "^0.7.2",
      "model_name": "ToolbarModel",
      "state": {
       "layout": "IPY_MODEL_70e1d033030b4379b54b5016c0d6a0a4",
       "toolitems": [
        [
         "Home",
         "Reset original view",
         "home",
         "home"
        ],
        [
         "Back",
         "Back to previous view",
         "arrow-left",
         "back"
        ],
        [
         "Forward",
         "Forward to next view",
         "arrow-right",
         "forward"
        ],
        [
         "Pan",
         "Pan axes with left mouse, zoom with right",
         "arrows",
         "pan"
        ],
        [
         "Zoom",
         "Zoom to rectangle",
         "square-o",
         "zoom"
        ],
        [
         "Download",
         "Download plot",
         "floppy-o",
         "save_figure"
        ]
       ]
      }
     },
     "b6a895d38e194096a47ebba854755550": {
      "model_module": "@jupyter-widgets/controls",
      "model_module_version": "1.5.0",
      "model_name": "FloatSliderModel",
      "state": {
       "description": "Exposure",
       "layout": "IPY_MODEL_3e31e54642de4313990d61d488fc6930",
       "max": 8,
       "min": -8,
       "step": 0.1,
       "style": "IPY_MODEL_8376e7d65be64aa5b453323d45984525"
      }
     },
     "b6b09dbc2f534e359b1769ad4927fb84": {
      "model_module": "@jupyter-widgets/controls",
      "model_module_version": "1.5.0",
      "model_name": "HBoxModel",
      "state": {
       "children": [
        "IPY_MODEL_5ace5a27560a4249bc8c7fd855272f93",
        "IPY_MODEL_c19a31f0bc7146da8a0ab2e5def67ec2",
        "IPY_MODEL_d0059bf8c61643d3924851c62edd0190"
       ],
       "layout": "IPY_MODEL_58628107c72c46df8ae06f93b4518d32"
      }
     },
     "b6c4ffbe9ffd43a4b43ddd90af12f83f": {
      "model_module": "@jupyter-widgets/base",
      "model_module_version": "1.2.0",
      "model_name": "LayoutModel",
      "state": {}
     },
     "b6e72d613bfd42df964c212f91a46a78": {
      "model_module": "@jupyter-widgets/controls",
      "model_module_version": "1.5.0",
      "model_name": "SliderStyleModel",
      "state": {
       "description_width": ""
      }
     },
     "b70dc4c1ecbe499d9399479634fdef50": {
      "model_module": "@jupyter-widgets/controls",
      "model_module_version": "1.5.0",
      "model_name": "DescriptionStyleModel",
      "state": {
       "description_width": ""
      }
     },
     "b74e37eeac6b4248ae5380761bb267fc": {
      "model_module": "@jupyter-widgets/base",
      "model_module_version": "1.2.0",
      "model_name": "LayoutModel",
      "state": {}
     },
     "b7987a20d890445c889b84f79e5ed035": {
      "model_module": "@jupyter-widgets/controls",
      "model_module_version": "1.5.0",
      "model_name": "FloatSliderModel",
      "state": {
       "description": "0°",
       "layout": "IPY_MODEL_93382590e3b34f2fbcfba3fd2aa6567d",
       "max": 1,
       "min": -1,
       "step": 0.01,
       "style": "IPY_MODEL_f28de3df7f5947dc9d4366a6aac5ce24"
      }
     },
     "b7c468e9f97a410698d48f107c9d1dca": {
      "model_module": "@jupyter-widgets/base",
      "model_module_version": "1.2.0",
      "model_name": "LayoutModel",
      "state": {}
     },
     "b8051d1d01f74ec1be2e1173bc161f08": {
      "model_module": "@jupyter-widgets/base",
      "model_module_version": "1.2.0",
      "model_name": "LayoutModel",
      "state": {}
     },
     "b8296ad0210343dc8151b150cc0037a5": {
      "model_module": "jupyter-matplotlib",
      "model_module_version": "^0.7.2",
      "model_name": "ToolbarModel",
      "state": {
       "layout": "IPY_MODEL_9c8278bf84ea4a50afa537f8db7fa5c0",
       "toolitems": [
        [
         "Home",
         "Reset original view",
         "home",
         "home"
        ],
        [
         "Back",
         "Back to previous view",
         "arrow-left",
         "back"
        ],
        [
         "Forward",
         "Forward to next view",
         "arrow-right",
         "forward"
        ],
        [
         "Pan",
         "Pan axes with left mouse, zoom with right",
         "arrows",
         "pan"
        ],
        [
         "Zoom",
         "Zoom to rectangle",
         "square-o",
         "zoom"
        ],
        [
         "Download",
         "Download plot",
         "floppy-o",
         "save_figure"
        ]
       ]
      }
     },
     "b84c332240c54455ac9c10b10469fcb6": {
      "model_module": "@jupyter-widgets/base",
      "model_module_version": "1.2.0",
      "model_name": "LayoutModel",
      "state": {}
     },
     "b85b2d1b4f0f4539bada112867a8547c": {
      "model_module": "@jupyter-widgets/base",
      "model_module_version": "1.2.0",
      "model_name": "LayoutModel",
      "state": {}
     },
     "b86600d5967a4be584b0a40fa18aa1d2": {
      "model_module": "@jupyter-widgets/controls",
      "model_module_version": "1.5.0",
      "model_name": "FloatSliderModel",
      "state": {
       "description": "Compression Threshold",
       "layout": "IPY_MODEL_c87911a8e1af4d38b6ad127c96c22b18",
       "max": 1,
       "step": 0.01,
       "style": "IPY_MODEL_c427e90675cb4f43862b142fbcf05d3f",
       "value": 0.8
      }
     },
     "b88004289f754df685d4db915d792d0f": {
      "model_module": "@jupyter-widgets/controls",
      "model_module_version": "1.5.0",
      "model_name": "DropdownModel",
      "state": {
       "_options_labels": [
        "tanh",
        "atan",
        "simple"
       ],
       "description": "Compression Function:",
       "index": 0,
       "layout": "IPY_MODEL_167402e432d34809b8dade8aeabd1f5e",
       "style": "IPY_MODEL_f714e9e2e8444c069a9b4a9029499793"
      }
     },
     "b8c48b5b4d1042c1a670394c70508730": {
      "model_module": "@jupyter-widgets/base",
      "model_module_version": "1.2.0",
      "model_name": "LayoutModel",
      "state": {}
     },
     "b8ce4454762442d789ede490a808e3e6": {
      "model_module": "jupyter-matplotlib",
      "model_module_version": "^0.7.2",
      "model_name": "MPLCanvasModel",
      "state": {
       "_figure_label": "Figure 8",
       "_height": 458,
       "_width": 1099,
       "header_visible": false,
       "layout": "IPY_MODEL_973542cda5b64bc1a3bc06909ed66250",
       "resizable": false,
       "toolbar": "IPY_MODEL_5869935b658b47348861a46e681706d5",
       "toolbar_position": "left",
       "toolbar_visible": false
      }
     },
     "b8d3c6b4798144dcac03a67c531b056f": {
      "model_module": "@jupyter-widgets/base",
      "model_module_version": "1.2.0",
      "model_name": "LayoutModel",
      "state": {}
     },
     "b8ea4a0c845d4bbc8349edb476c25dfe": {
      "model_module": "@jupyter-widgets/base",
      "model_module_version": "1.2.0",
      "model_name": "LayoutModel",
      "state": {}
     },
     "b94e9c2550204822adadbfbf278303a7": {
      "model_module": "@jupyter-widgets/controls",
      "model_module_version": "1.5.0",
      "model_name": "ButtonStyleModel",
      "state": {}
     },
     "b95138c4630942efad822027a42ab29b": {
      "model_module": "@jupyter-widgets/controls",
      "model_module_version": "1.5.0",
      "model_name": "SliderStyleModel",
      "state": {
       "description_width": ""
      }
     },
     "b964f0eb7a7b469bae92e3daa8cbce80": {
      "model_module": "@jupyter-widgets/base",
      "model_module_version": "1.2.0",
      "model_name": "LayoutModel",
      "state": {}
     },
     "b9bb0d118bc04d4aae0dca34693ac043": {
      "model_module": "@jupyter-widgets/base",
      "model_module_version": "1.2.0",
      "model_name": "LayoutModel",
      "state": {}
     },
     "b9d58c2b1e8140eabe0bc855253a5c45": {
      "model_module": "@jupyter-widgets/controls",
      "model_module_version": "1.5.0",
      "model_name": "DropdownModel",
      "state": {
       "_options_labels": [
        "tanh",
        "atan",
        "simple"
       ],
       "description": "Compression Function:",
       "index": 0,
       "layout": "IPY_MODEL_8585d5109ddd43a083cd709def7c89a1",
       "style": "IPY_MODEL_7b1b338686ed45348075f5dabbbd0d80"
      }
     },
     "ba00b9c7250b49499bc451ffffdb4207": {
      "model_module": "@jupyter-widgets/controls",
      "model_module_version": "1.5.0",
      "model_name": "VBoxModel",
      "state": {
       "children": [
        "IPY_MODEL_a5b833f299694f48b2c26ecb975c3513",
        "IPY_MODEL_3b2669b00a4d481983def0daa1e0e140",
        "IPY_MODEL_1cbee4625f24401fb24d459a4ec000d2"
       ],
       "layout": "IPY_MODEL_23d618e9601d4a4a87a2880c86c33557"
      }
     },
     "ba0d412363404c7192a2d3dcdb222108": {
      "model_module": "@jupyter-widgets/controls",
      "model_module_version": "1.5.0",
      "model_name": "ButtonStyleModel",
      "state": {}
     },
     "ba6ec67d55214146aff4f37583d8166b": {
      "model_module": "@jupyter-widgets/output",
      "model_module_version": "1.0.0",
      "model_name": "OutputModel",
      "state": {
       "layout": "IPY_MODEL_16b7329d421947dd94bcab208b2ae7af",
       "outputs": [
        {
         "data": {
          "application/vnd.jupyter.widget-view+json": {
           "model_id": "e2e95c998f374cd88e7610ebc90aa1d7",
           "version_major": 2,
           "version_minor": 0
          },
          "text/plain": "Canvas(toolbar=Toolbar(toolitems=[('Home', 'Reset original view', 'home', 'home'), ('Back', 'Back to previous …"
         },
         "metadata": {},
         "output_type": "display_data"
        }
       ]
      }
     },
     "ba89866f47214fdaac35a378b15eb20b": {
      "model_module": "@jupyter-widgets/controls",
      "model_module_version": "1.5.0",
      "model_name": "FloatSliderModel",
      "state": {
       "description": "Exposure",
       "layout": "IPY_MODEL_840d1d18b3cb417ca818e52ba14d5b61",
       "max": 8,
       "min": -8,
       "step": 0.1,
       "style": "IPY_MODEL_45335f543b894992980c3d0571ce09f4"
      }
     },
     "baa7bf1ce4694162b79ee0fcad67bd00": {
      "model_module": "@jupyter-widgets/base",
      "model_module_version": "1.2.0",
      "model_name": "LayoutModel",
      "state": {}
     },
     "bb016285d99349b6a8b7f9b439526322": {
      "model_module": "@jupyter-widgets/base",
      "model_module_version": "1.2.0",
      "model_name": "LayoutModel",
      "state": {}
     },
     "bb041ed005fa45bca2f14927712370ac": {
      "model_module": "@jupyter-widgets/base",
      "model_module_version": "1.2.0",
      "model_name": "LayoutModel",
      "state": {}
     },
     "bb491e261c394d849577297bec1283c9": {
      "model_module": "@jupyter-widgets/controls",
      "model_module_version": "1.5.0",
      "model_name": "SliderStyleModel",
      "state": {
       "description_width": ""
      }
     },
     "bb4fd54b995140a2806917d08e32e587": {
      "model_module": "@jupyter-widgets/base",
      "model_module_version": "1.2.0",
      "model_name": "LayoutModel",
      "state": {}
     },
     "bb817f87c3374cd0b3d548941d7cdf1e": {
      "model_module": "@jupyter-widgets/controls",
      "model_module_version": "1.5.0",
      "model_name": "DropdownModel",
      "state": {
       "_options_labels": [
        "tanh",
        "atan",
        "simple"
       ],
       "description": "Compression Function:",
       "index": 0,
       "layout": "IPY_MODEL_a48fbe19194c490c88c17a859265a638",
       "style": "IPY_MODEL_e5c60ad05f5449549870334a9cbe11df"
      }
     },
     "bb8da679d7334442a02bb71092ae4221": {
      "model_module": "@jupyter-widgets/controls",
      "model_module_version": "1.5.0",
      "model_name": "FloatSliderModel",
      "state": {
       "description": "270°",
       "layout": "IPY_MODEL_8d627a6c96174a04b46e06f9a07866aa",
       "max": 1,
       "min": -1,
       "step": 0.01,
       "style": "IPY_MODEL_aefa88e793ac4d6e8e070bfae8af65ba"
      }
     },
     "bbc40e86b85c44f9b22edd5b969a3ae0": {
      "model_module": "@jupyter-widgets/controls",
      "model_module_version": "1.5.0",
      "model_name": "FloatSliderModel",
      "state": {
       "description": "Compression Threshold",
       "layout": "IPY_MODEL_d6ad0a24af0943ba97c3a376ce9c0b69",
       "max": 1,
       "step": 0.01,
       "style": "IPY_MODEL_0fbdc5276ea2430699c45c64649b9eee",
       "value": 0.8
      }
     },
     "bbc78d416c704b3b8d877a45f3fe80b2": {
      "model_module": "@jupyter-widgets/controls",
      "model_module_version": "1.5.0",
      "model_name": "FloatSliderModel",
      "state": {
       "description": "Exposure",
       "layout": "IPY_MODEL_7832af46ba544ab1a3eb7c5f9d96a56b",
       "max": 8,
       "min": -8,
       "step": 0.1,
       "style": "IPY_MODEL_97779ee3b8a74266a6b65f740448fb03"
      }
     },
     "bbdc2186a991428db4c75c6506826b74": {
      "model_module": "@jupyter-widgets/controls",
      "model_module_version": "1.5.0",
      "model_name": "ButtonModel",
      "state": {
       "description": "Export Image",
       "layout": "IPY_MODEL_e36b9c0257b44942a27b988eff55ff58",
       "style": "IPY_MODEL_e7197deb36cd43989cb7b26e900b228f"
      }
     },
     "bc0c582cfaec45a28fd365887afebebd": {
      "model_module": "@jupyter-widgets/controls",
      "model_module_version": "1.5.0",
      "model_name": "FloatSliderModel",
      "state": {
       "description": "135°",
       "layout": "IPY_MODEL_6e241abbae2944c3bd2cdf15650b80fa",
       "max": 1,
       "min": -1,
       "step": 0.01,
       "style": "IPY_MODEL_851c40c868cc4826a4f4e46482872f32"
      }
     },
     "bc3d22f483e942f0be71e7c0dc6d340c": {
      "model_module": "@jupyter-widgets/controls",
      "model_module_version": "1.5.0",
      "model_name": "SliderStyleModel",
      "state": {
       "description_width": ""
      }
     },
     "bc6111c9b68d4610ad6ab9dc1c7acef4": {
      "model_module": "@jupyter-widgets/controls",
      "model_module_version": "1.5.0",
      "model_name": "HBoxModel",
      "state": {
       "children": [
        "IPY_MODEL_dad772a83c834a679cd3357012f9eebe",
        "IPY_MODEL_b675ad5a9bc3446c907fb8c634bd8efb"
       ],
       "layout": "IPY_MODEL_17650e423b9b4d3a85b5f1f3ed04394e"
      }
     },
     "bc682b2c407c4ee4bfe5007773e0f460": {
      "model_module": "@jupyter-widgets/base",
      "model_module_version": "1.2.0",
      "model_name": "LayoutModel",
      "state": {}
     },
     "bcf841d595f64b47b959dac3474621aa": {
      "model_module": "@jupyter-widgets/controls",
      "model_module_version": "1.5.0",
      "model_name": "FloatSliderModel",
      "state": {
       "description": "45°",
       "layout": "IPY_MODEL_a328f863d5c041f9807df6d8ecbc545c",
       "max": 1,
       "min": -1,
       "step": 0.01,
       "style": "IPY_MODEL_8c3903093d7c4411b4acdbc4fa5c7571"
      }
     },
     "bd1ad0769cf647d281d20b8c910c0139": {
      "model_module": "@jupyter-widgets/controls",
      "model_module_version": "1.5.0",
      "model_name": "ButtonStyleModel",
      "state": {}
     },
     "bd20c45c502045c994290aee65ec04ba": {
      "model_module": "@jupyter-widgets/controls",
      "model_module_version": "1.5.0",
      "model_name": "ButtonModel",
      "state": {
       "description": "Export Image",
       "layout": "IPY_MODEL_59db52da16cd4a91a611ad94dbfed8af",
       "style": "IPY_MODEL_544d32a082624f5a96b8a4169eb1e3a5"
      }
     },
     "bd2da014fa75410892dd5d86e453980b": {
      "model_module": "@jupyter-widgets/controls",
      "model_module_version": "1.5.0",
      "model_name": "ButtonModel",
      "state": {
       "description": "Export Image",
       "layout": "IPY_MODEL_8db41679c6774c78b26246ed81e474ee",
       "style": "IPY_MODEL_7ed7031ae4874ae9bd8f22e81eef4df1"
      }
     },
     "bd507f331d854f4db7674b226596281a": {
      "model_module": "@jupyter-widgets/controls",
      "model_module_version": "1.5.0",
      "model_name": "VBoxModel",
      "state": {
       "children": [
        "IPY_MODEL_eca48d2121ff4dfea114e396e5ce6fcb",
        "IPY_MODEL_dfbb9f2afb7f46c783c6b5c7f8a777e6",
        "IPY_MODEL_4f7e64d052244750adc083eed30ec10d"
       ],
       "layout": "IPY_MODEL_9305c2f28d2044f89f19b9381420c0e1"
      }
     },
     "bd673d314b784618876753b1ef74348d": {
      "model_module": "@jupyter-widgets/controls",
      "model_module_version": "1.5.0",
      "model_name": "VBoxModel",
      "state": {
       "children": [
        "IPY_MODEL_558a05467a7c489f87f2dc9d1f9daf79",
        "IPY_MODEL_bcf841d595f64b47b959dac3474621aa",
        "IPY_MODEL_55981dcc451b4b7587d87f42e9f984bc"
       ],
       "layout": "IPY_MODEL_d558214272f84966afd817814339bf92"
      }
     },
     "bda2f781592043a6a71b0ccd0a27b666": {
      "model_module": "@jupyter-widgets/controls",
      "model_module_version": "1.5.0",
      "model_name": "ButtonModel",
      "state": {
       "description": "Reset Protected Area",
       "layout": "IPY_MODEL_a3463cd3a0e949b18989ebf08c9be4b8",
       "style": "IPY_MODEL_eb8ab24fcd5b41c09fb2e76da54f7b29"
      }
     },
     "bdb2d47f4a2640d2a1c5f583ebb6c07d": {
      "model_module": "@jupyter-widgets/controls",
      "model_module_version": "1.5.0",
      "model_name": "HBoxModel",
      "state": {
       "children": [
        "IPY_MODEL_6bcb349c480242f6b219483d447afafa",
        "IPY_MODEL_d6b2dece7b92445d945f1985c97632a4"
       ],
       "layout": "IPY_MODEL_4b2dc5603a044dce9d66f68064b2fdab"
      }
     },
     "bdb8c3c9159646928b6533120010096d": {
      "model_module": "@jupyter-widgets/controls",
      "model_module_version": "1.5.0",
      "model_name": "SliderStyleModel",
      "state": {
       "description_width": ""
      }
     },
     "bdd3c26596cc40f597717ea4834027f1": {
      "model_module": "@jupyter-widgets/controls",
      "model_module_version": "1.5.0",
      "model_name": "FloatSliderModel",
      "state": {
       "description": "0°",
       "layout": "IPY_MODEL_d2ee008ddacb4c4c8af9e37a4fab5137",
       "max": 1,
       "min": -1,
       "step": 0.01,
       "style": "IPY_MODEL_f5fc19defacb4af49d208e5bab76f337"
      }
     },
     "bdeb3c1230b84bda810047258844e5cb": {
      "model_module": "@jupyter-widgets/controls",
      "model_module_version": "1.5.0",
      "model_name": "ButtonStyleModel",
      "state": {}
     },
     "be049e4dd8404d5ca85e545dcbdd6301": {
      "model_module": "@jupyter-widgets/base",
      "model_module_version": "1.2.0",
      "model_name": "LayoutModel",
      "state": {}
     },
     "be32845374614ffb9b90dc28664d7260": {
      "model_module": "@jupyter-widgets/base",
      "model_module_version": "1.2.0",
      "model_name": "LayoutModel",
      "state": {}
     },
     "be49adf91046491187b523cbe5a472d5": {
      "model_module": "@jupyter-widgets/controls",
      "model_module_version": "1.5.0",
      "model_name": "ButtonModel",
      "state": {
       "description": "Reset Hue Controls",
       "layout": "IPY_MODEL_52e7c3f075014d6188389453a1ae3402",
       "style": "IPY_MODEL_56214135dcba4f438371fcbd58a87522"
      }
     },
     "be55636578134b0aa85ad63b0ea62452": {
      "model_module": "@jupyter-widgets/base",
      "model_module_version": "1.2.0",
      "model_name": "LayoutModel",
      "state": {}
     },
     "be66cdc0cba446ffb1dd41a77ec6b859": {
      "model_module": "@jupyter-widgets/controls",
      "model_module_version": "1.5.0",
      "model_name": "DescriptionStyleModel",
      "state": {
       "description_width": ""
      }
     },
     "be6a3af7d70c41b5be9439ab92620691": {
      "model_module": "@jupyter-widgets/controls",
      "model_module_version": "1.5.0",
      "model_name": "ButtonStyleModel",
      "state": {}
     },
     "beac46a5e66f4607b5aed3dd3092944c": {
      "model_module": "@jupyter-widgets/base",
      "model_module_version": "1.2.0",
      "model_name": "LayoutModel",
      "state": {}
     },
     "bec49d1dbae34917bd1bd981871437b6": {
      "model_module": "@jupyter-widgets/controls",
      "model_module_version": "1.5.0",
      "model_name": "BoxModel",
      "state": {
       "children": [
        "IPY_MODEL_6c028c24b2574211b0b9168bed72f0b9",
        "IPY_MODEL_f1f995af93e74957af7cfa091cf8f7a1"
       ],
       "layout": "IPY_MODEL_8d0911468ba644839d80ea763134e00c"
      }
     },
     "bf083c053cff49c4abea43fc7cdd1240": {
      "model_module": "@jupyter-widgets/base",
      "model_module_version": "1.2.0",
      "model_name": "LayoutModel",
      "state": {}
     },
     "bf63bfd3d3574d33a47901d1349015dc": {
      "model_module": "@jupyter-widgets/base",
      "model_module_version": "1.2.0",
      "model_name": "LayoutModel",
      "state": {}
     },
     "bf9dda2efebf4477b63cc2a27f7bcb6a": {
      "model_module": "@jupyter-widgets/controls",
      "model_module_version": "1.5.0",
      "model_name": "ButtonModel",
      "state": {
       "description": "Save Figure",
       "layout": "IPY_MODEL_21cff684a4134081a37161000c1cb460",
       "style": "IPY_MODEL_caa8260433a948c39304a6e20d18aad9"
      }
     },
     "bfe1b3a614e74ea0bba982c6f7dc05cc": {
      "model_module": "@jupyter-widgets/controls",
      "model_module_version": "1.5.0",
      "model_name": "ButtonStyleModel",
      "state": {}
     },
     "c06520d42b30429285bfc0adf5ff4737": {
      "model_module": "jupyter-matplotlib",
      "model_module_version": "^0.7.2",
      "model_name": "MPLCanvasModel",
      "state": {
       "_figure_label": "Figure 3",
       "_height": 396,
       "_width": 1100,
       "header_visible": false,
       "layout": "IPY_MODEL_25a282572b474deeaf2b1991e97c4fa9",
       "resizable": false,
       "toolbar": "IPY_MODEL_a34f78b68ac141d6939a4dc76326d9bb",
       "toolbar_position": "left",
       "toolbar_visible": false
      }
     },
     "c070e75e6d2b4ebca7db6efa0036935a": {
      "model_module": "@jupyter-widgets/base",
      "model_module_version": "1.2.0",
      "model_name": "LayoutModel",
      "state": {}
     },
     "c0bbac2a51a845e9ab340669cf01f912": {
      "model_module": "@jupyter-widgets/controls",
      "model_module_version": "1.5.0",
      "model_name": "DescriptionStyleModel",
      "state": {
       "description_width": ""
      }
     },
     "c0c3fa2826be4f35bd38b2a8eda6279c": {
      "model_module": "@jupyter-widgets/base",
      "model_module_version": "1.2.0",
      "model_name": "LayoutModel",
      "state": {}
     },
     "c110ff0a51f8465d8cec8a25f6aee78b": {
      "model_module": "@jupyter-widgets/controls",
      "model_module_version": "1.5.0",
      "model_name": "FloatSliderModel",
      "state": {
       "description": "180°",
       "layout": "IPY_MODEL_67f442d9b5c440d69d0ef972ff796460",
       "max": 1,
       "min": -1,
       "step": 0.01,
       "style": "IPY_MODEL_d9f1658d28984d35ac235b8208317b8f"
      }
     },
     "c12d37cd63d54739b5744ba555ed8455": {
      "model_module": "@jupyter-widgets/controls",
      "model_module_version": "1.5.0",
      "model_name": "SliderStyleModel",
      "state": {
       "description_width": ""
      }
     },
     "c172463f22914e2ab168496ad41bb756": {
      "model_module": "@jupyter-widgets/base",
      "model_module_version": "1.2.0",
      "model_name": "LayoutModel",
      "state": {}
     },
     "c19a31f0bc7146da8a0ab2e5def67ec2": {
      "model_module": "@jupyter-widgets/controls",
      "model_module_version": "1.5.0",
      "model_name": "DropdownModel",
      "state": {
       "_options_labels": [
        "tanh",
        "atan",
        "simple"
       ],
       "description": "Compression Function:",
       "index": 0,
       "layout": "IPY_MODEL_c070e75e6d2b4ebca7db6efa0036935a",
       "style": "IPY_MODEL_dfebaa5f2fda4ef7882e984075aa0c98"
      }
     },
     "c19c358e3cd1454494caa9a04143b419": {
      "model_module": "@jupyter-widgets/controls",
      "model_module_version": "1.5.0",
      "model_name": "ButtonStyleModel",
      "state": {}
     },
     "c21edf79af844671a8447979cffd6f88": {
      "model_module": "@jupyter-widgets/output",
      "model_module_version": "1.0.0",
      "model_name": "OutputModel",
      "state": {
       "layout": "IPY_MODEL_e3a77cd358e246f88d7fa354fd708bef",
       "outputs": [
        {
         "data": {
          "application/vnd.jupyter.widget-view+json": {
           "model_id": "53bbaecce45241dd8c4bd0017d606399",
           "version_major": 2,
           "version_minor": 0
          },
          "text/plain": "Canvas(toolbar=Toolbar(toolitems=[('Home', 'Reset original view', 'home', 'home'), ('Back', 'Back to previous …"
         },
         "metadata": {},
         "output_type": "display_data"
        }
       ]
      }
     },
     "c2495e6277c9405aac69b57a08580aa0": {
      "model_module": "@jupyter-widgets/base",
      "model_module_version": "1.2.0",
      "model_name": "LayoutModel",
      "state": {}
     },
     "c27e46ceda56416795f2e4856be3bdf8": {
      "model_module": "@jupyter-widgets/controls",
      "model_module_version": "1.5.0",
      "model_name": "FloatSliderModel",
      "state": {
       "description": "Compression Threshold",
       "layout": "IPY_MODEL_a475a49e29e944b28b0ec36b23797716",
       "max": 1,
       "step": 0.01,
       "style": "IPY_MODEL_1472c78661704166b14252f00678b66f",
       "value": 0.5
      }
     },
     "c30843625485434eb56bedf498a9b2b6": {
      "model_module": "@jupyter-widgets/base",
      "model_module_version": "1.2.0",
      "model_name": "LayoutModel",
      "state": {
       "border": "solid 4px #222",
       "margin": "4px",
       "padding": "0"
      }
     },
     "c36a5198c62540e2a11aab3a39356d05": {
      "model_module": "@jupyter-widgets/controls",
      "model_module_version": "1.5.0",
      "model_name": "DescriptionStyleModel",
      "state": {
       "description_width": ""
      }
     },
     "c39b36f6f6ba4626a3e955de07154da2": {
      "model_module": "@jupyter-widgets/controls",
      "model_module_version": "1.5.0",
      "model_name": "VBoxModel",
      "state": {
       "children": [
        "IPY_MODEL_2324288a8b9a4e3380a8eaffa5ad50c0",
        "IPY_MODEL_0a2452a2f70d43e98c8bccedcba1d774"
       ],
       "layout": "IPY_MODEL_46a23bab9b734994bb6171ed128d6f9a"
      }
     },
     "c3bd99818b534da0b1bfe7ad56e7e7ed": {
      "model_module": "@jupyter-widgets/base",
      "model_module_version": "1.2.0",
      "model_name": "LayoutModel",
      "state": {}
     },
     "c3e8ac56ae324b83b0d22c7720f0d507": {
      "model_module": "@jupyter-widgets/controls",
      "model_module_version": "1.5.0",
      "model_name": "ButtonModel",
      "state": {
       "description": "Reset Protected Area",
       "layout": "IPY_MODEL_5d60a88099034e2f9a18bb9c66467f98",
       "style": "IPY_MODEL_5324962a16b4431584f3b87bd974c646"
      }
     },
     "c3e92318715c402fb4978058d933f257": {
      "model_module": "@jupyter-widgets/controls",
      "model_module_version": "1.5.0",
      "model_name": "ButtonStyleModel",
      "state": {}
     },
     "c409a13716f348c4b73dcb258a31ad94": {
      "model_module": "@jupyter-widgets/controls",
      "model_module_version": "1.5.0",
      "model_name": "FloatSliderModel",
      "state": {
       "description": "Compression Threshold",
       "layout": "IPY_MODEL_7724b8bbb7ed45148a9cc76b7d05f2a4",
       "max": 1,
       "step": 0.01,
       "style": "IPY_MODEL_f74d3718b4e9472cb220e62410c29265",
       "value": 0.8
      }
     },
     "c40bbdc3b644480482100be795ceaefe": {
      "model_module": "@jupyter-widgets/controls",
      "model_module_version": "1.5.0",
      "model_name": "VBoxModel",
      "state": {
       "children": [
        "IPY_MODEL_075ef69ebbc747398860d949aa7a0acc",
        "IPY_MODEL_000902476518489d9c4d780cac66d2cb",
        "IPY_MODEL_fe77732d84ea445983c51579af3b34c1"
       ],
       "layout": "IPY_MODEL_3173babb340f4a80ab978f8afb2a221b"
      }
     },
     "c40e895cc5ec42a3b0ee229b8c89150d": {
      "model_module": "@jupyter-widgets/controls",
      "model_module_version": "1.5.0",
      "model_name": "ButtonModel",
      "state": {
       "description": "Reset Protected Area",
       "layout": "IPY_MODEL_8e296e1d444e4c67a5fa53b0d7a15097",
       "style": "IPY_MODEL_fee7e16eff3c4b2a9c6cd8830c0e5e44"
      }
     },
     "c427e90675cb4f43862b142fbcf05d3f": {
      "model_module": "@jupyter-widgets/controls",
      "model_module_version": "1.5.0",
      "model_name": "SliderStyleModel",
      "state": {
       "description_width": ""
      }
     },
     "c4293db84d8649b6a15629b1ff2e6f21": {
      "model_module": "@jupyter-widgets/controls",
      "model_module_version": "1.5.0",
      "model_name": "ButtonModel",
      "state": {
       "description": "Save Figure",
       "layout": "IPY_MODEL_04503133d42e4a6c9895e635e56f1a64",
       "style": "IPY_MODEL_be6a3af7d70c41b5be9439ab92620691"
      }
     },
     "c438220b7ef54185918273ce8c000ee9": {
      "model_module": "@jupyter-widgets/controls",
      "model_module_version": "1.5.0",
      "model_name": "ButtonModel",
      "state": {
       "description": "Reset Protected Area",
       "layout": "IPY_MODEL_ef92abbd5e9a432c836156f9f7bf73d6",
       "style": "IPY_MODEL_d908f93b59c9459490dbf6886bc50898"
      }
     },
     "c49f1ca9ab604017b4a8f01c4777df81": {
      "model_module": "@jupyter-widgets/controls",
      "model_module_version": "1.5.0",
      "model_name": "FloatSliderModel",
      "state": {
       "description": "135°",
       "layout": "IPY_MODEL_f8d532b5e04249809ceb90b42bb0d3dc",
       "max": 1,
       "min": -1,
       "step": 0.01,
       "style": "IPY_MODEL_a09e133e36e84cdb97190f21878d234b"
      }
     },
     "c4a2fa5330534b66b845395dbf9871dd": {
      "model_module": "@jupyter-widgets/controls",
      "model_module_version": "1.5.0",
      "model_name": "HBoxModel",
      "state": {
       "children": [
        "IPY_MODEL_70b9ef4d764c4f7c9e12f69bcda36836",
        "IPY_MODEL_0bfb92abe6f644b4a4d4d4bd2010de3e",
        "IPY_MODEL_c4293db84d8649b6a15629b1ff2e6f21",
        "IPY_MODEL_ca733af4cd5d43fe8a03f36345c1ee5a"
       ],
       "layout": "IPY_MODEL_bc682b2c407c4ee4bfe5007773e0f460"
      }
     },
     "c4b73265b8924a31ba8f2f740d8ad149": {
      "model_module": "@jupyter-widgets/controls",
      "model_module_version": "1.5.0",
      "model_name": "DescriptionStyleModel",
      "state": {
       "description_width": ""
      }
     },
     "c51ee5b6d06e422bb9ec3f1c03ceebd9": {
      "model_module": "@jupyter-widgets/controls",
      "model_module_version": "1.5.0",
      "model_name": "TabModel",
      "state": {
       "_titles": {
        "0": "Global Controls",
        "1": "Protected Area Controls",
        "2": "Saturation Controls",
        "3": "Hue Controls"
       },
       "children": [
        "IPY_MODEL_5ce5a4531c8a4de5a21d6e808f0e6781",
        "IPY_MODEL_bc6111c9b68d4610ad6ab9dc1c7acef4",
        "IPY_MODEL_e7d0d5b569ab47b5847771d00bd24e12",
        "IPY_MODEL_b5093932741645c69147ee2a2fb80860"
       ],
       "layout": "IPY_MODEL_102b8e483ed948168b46d2c7e8e86f14"
      }
     },
     "c57aa0e83bb5463f93f7903ac3857903": {
      "model_module": "@jupyter-widgets/base",
      "model_module_version": "1.2.0",
      "model_name": "LayoutModel",
      "state": {}
     },
     "c59e71c8adbf4af299445f2a640a6c7d": {
      "model_module": "jupyter-matplotlib",
      "model_module_version": "^0.7.2",
      "model_name": "ToolbarModel",
      "state": {
       "layout": "IPY_MODEL_897183bfd4214081adcbfcd7d70587bb",
       "toolitems": [
        [
         "Home",
         "Reset original view",
         "home",
         "home"
        ],
        [
         "Back",
         "Back to previous view",
         "arrow-left",
         "back"
        ],
        [
         "Forward",
         "Forward to next view",
         "arrow-right",
         "forward"
        ],
        [
         "Pan",
         "Pan axes with left mouse, zoom with right",
         "arrows",
         "pan"
        ],
        [
         "Zoom",
         "Zoom to rectangle",
         "square-o",
         "zoom"
        ],
        [
         "Download",
         "Download plot",
         "floppy-o",
         "save_figure"
        ]
       ]
      }
     },
     "c60411e0a08441c59a18312beffb32e1": {
      "model_module": "@jupyter-widgets/controls",
      "model_module_version": "1.5.0",
      "model_name": "ButtonStyleModel",
      "state": {}
     },
     "c63bfa6c88634350bc407d2509a7b776": {
      "model_module": "@jupyter-widgets/base",
      "model_module_version": "1.2.0",
      "model_name": "LayoutModel",
      "state": {}
     },
     "c65c2de2ee5e48b7a8c12f8bf00c7e5c": {
      "model_module": "@jupyter-widgets/controls",
      "model_module_version": "1.5.0",
      "model_name": "CheckboxModel",
      "state": {
       "description": "Disable Medicina",
       "disabled": false,
       "layout": "IPY_MODEL_404d39944bee42b69af72a3233398b94",
       "style": "IPY_MODEL_2fef9e733d2b434e87ebeb40d5124803",
       "value": false
      }
     },
     "c65cb080d6e249d48f494234ce4bf7d0": {
      "model_module": "@jupyter-widgets/controls",
      "model_module_version": "1.5.0",
      "model_name": "SliderStyleModel",
      "state": {
       "description_width": ""
      }
     },
     "c683ee4edc604d3db2aab2077a08c7a7": {
      "model_module": "@jupyter-widgets/controls",
      "model_module_version": "1.5.0",
      "model_name": "ButtonStyleModel",
      "state": {}
     },
     "c6f2513799b5471dae8cf11cc1c23391": {
      "model_module": "@jupyter-widgets/controls",
      "model_module_version": "1.5.0",
      "model_name": "HBoxModel",
      "state": {
       "children": [
        "IPY_MODEL_8e5223ad7f8044d099300403c01f5856",
        "IPY_MODEL_b9d58c2b1e8140eabe0bc855253a5c45",
        "IPY_MODEL_c409a13716f348c4b73dcb258a31ad94"
       ],
       "layout": "IPY_MODEL_9fe1e79f16da4e23a5756f03876fc15a"
      }
     },
     "c6fa014b7d3c4f1a94218e5cb3e98635": {
      "model_module": "@jupyter-widgets/base",
      "model_module_version": "1.2.0",
      "model_name": "LayoutModel",
      "state": {}
     },
     "c795c78d246741678f19bb3f93797507": {
      "model_module": "jupyter-matplotlib",
      "model_module_version": "^0.7.2",
      "model_name": "ToolbarModel",
      "state": {
       "layout": "IPY_MODEL_b9bb0d118bc04d4aae0dca34693ac043",
       "toolitems": [
        [
         "Home",
         "Reset original view",
         "home",
         "home"
        ],
        [
         "Back",
         "Back to previous view",
         "arrow-left",
         "back"
        ],
        [
         "Forward",
         "Forward to next view",
         "arrow-right",
         "forward"
        ],
        [
         "Pan",
         "Pan axes with left mouse, zoom with right",
         "arrows",
         "pan"
        ],
        [
         "Zoom",
         "Zoom to rectangle",
         "square-o",
         "zoom"
        ],
        [
         "Download",
         "Download plot",
         "floppy-o",
         "save_figure"
        ]
       ]
      }
     },
     "c7971dacf392490b9b8436b257cce652": {
      "model_module": "@jupyter-widgets/controls",
      "model_module_version": "1.5.0",
      "model_name": "FloatSliderModel",
      "state": {
       "description": "90°",
       "layout": "IPY_MODEL_3bfff53fc425458c845b539337cfb313",
       "max": 1,
       "min": -1,
       "step": 0.01,
       "style": "IPY_MODEL_2d11400f2008423b9be751397971e321"
      }
     },
     "c7dbc868d7eb48ddb0cccd5124f91437": {
      "model_module": "@jupyter-widgets/controls",
      "model_module_version": "1.5.0",
      "model_name": "SliderStyleModel",
      "state": {
       "description_width": ""
      }
     },
     "c802da5bde6b4d5a981ac65c6ededeb2": {
      "model_module": "@jupyter-widgets/controls",
      "model_module_version": "1.5.0",
      "model_name": "HBoxModel",
      "state": {
       "children": [
        "IPY_MODEL_c65c2de2ee5e48b7a8c12f8bf00c7e5c",
        "IPY_MODEL_4499b1cb6bc64a8aa4b3979d89a95f39",
        "IPY_MODEL_096b332182ae40f288c453108dfb03c4",
        "IPY_MODEL_eaedb75247904c13b26af1a0f1631771"
       ],
       "layout": "IPY_MODEL_671f665093c34eb09e53c12eaf878a68"
      }
     },
     "c818a9f709464b1aad6aa7c328c223aa": {
      "model_module": "@jupyter-widgets/base",
      "model_module_version": "1.2.0",
      "model_name": "LayoutModel",
      "state": {}
     },
     "c87911a8e1af4d38b6ad127c96c22b18": {
      "model_module": "@jupyter-widgets/base",
      "model_module_version": "1.2.0",
      "model_name": "LayoutModel",
      "state": {}
     },
     "c8d9fb11390a47378777ae990d52bd1d": {
      "model_module": "@jupyter-widgets/base",
      "model_module_version": "1.2.0",
      "model_name": "LayoutModel",
      "state": {}
     },
     "c8f48b1cdafe44669458170c778c9e14": {
      "model_module": "@jupyter-widgets/controls",
      "model_module_version": "1.5.0",
      "model_name": "FloatSliderModel",
      "state": {
       "description": "225°",
       "layout": "IPY_MODEL_4421e4bba1e6470b89971b805b0060b5",
       "max": 1,
       "min": -1,
       "step": 0.01,
       "style": "IPY_MODEL_3da5d2cd0a9c4bb8a89ba0044c26675d"
      }
     },
     "c902fc54ce5c4b6d88c28c242979fef1": {
      "model_module": "@jupyter-widgets/controls",
      "model_module_version": "1.5.0",
      "model_name": "ButtonStyleModel",
      "state": {}
     },
     "c9600d90f7d840158f6b10d2d5bebe6b": {
      "model_module": "@jupyter-widgets/controls",
      "model_module_version": "1.5.0",
      "model_name": "SliderStyleModel",
      "state": {
       "description_width": ""
      }
     },
     "c99813909b144e0bad88e54f05ba4dce": {
      "model_module": "@jupyter-widgets/controls",
      "model_module_version": "1.5.0",
      "model_name": "ButtonModel",
      "state": {
       "description": "Reset Compression Controls",
       "layout": "IPY_MODEL_5b22f84e810543559f7cdad315c899ca",
       "style": "IPY_MODEL_26761360a3c44652a6ce71fa2113a166"
      }
     },
     "c9b27cfdb2944356a1b1187b59572503": {
      "model_module": "jupyter-matplotlib",
      "model_module_version": "^0.7.2",
      "model_name": "ToolbarModel",
      "state": {
       "layout": "IPY_MODEL_b24a8698510d47c4a5402efdf3c5594c",
       "toolitems": [
        [
         "Home",
         "Reset original view",
         "home",
         "home"
        ],
        [
         "Back",
         "Back to previous view",
         "arrow-left",
         "back"
        ],
        [
         "Forward",
         "Forward to next view",
         "arrow-right",
         "forward"
        ],
        [
         "Pan",
         "Pan axes with left mouse, zoom with right",
         "arrows",
         "pan"
        ],
        [
         "Zoom",
         "Zoom to rectangle",
         "square-o",
         "zoom"
        ],
        [
         "Download",
         "Download plot",
         "floppy-o",
         "save_figure"
        ]
       ]
      }
     },
     "c9c856ab061943a1b26137106dde8bc8": {
      "model_module": "@jupyter-widgets/controls",
      "model_module_version": "1.5.0",
      "model_name": "ButtonModel",
      "state": {
       "description": "Export Image",
       "layout": "IPY_MODEL_f0315737f08743fbb5cd4abe0ca98a68",
       "style": "IPY_MODEL_04ed4db87277433095a95968234412a2"
      }
     },
     "c9dee496ab4944029b24f180aa9292ab": {
      "model_module": "@jupyter-widgets/base",
      "model_module_version": "1.2.0",
      "model_name": "LayoutModel",
      "state": {
       "border": "solid 4px #222",
       "margin": "4px",
       "padding": "0"
      }
     },
     "c9fc91b0169448e18e09477e2dab45c8": {
      "model_module": "@jupyter-widgets/controls",
      "model_module_version": "1.5.0",
      "model_name": "ButtonStyleModel",
      "state": {}
     },
     "ca5965aeab274e8fb329e296e514da07": {
      "model_module": "@jupyter-widgets/controls",
      "model_module_version": "1.5.0",
      "model_name": "SliderStyleModel",
      "state": {
       "description_width": ""
      }
     },
     "ca5992f0b51f41ff9fcb7cd648e82198": {
      "model_module": "@jupyter-widgets/controls",
      "model_module_version": "1.5.0",
      "model_name": "ButtonStyleModel",
      "state": {}
     },
     "ca5bff41dbf84c4eb81da0fd7a350769": {
      "model_module": "@jupyter-widgets/base",
      "model_module_version": "1.2.0",
      "model_name": "LayoutModel",
      "state": {}
     },
     "ca733af4cd5d43fe8a03f36345c1ee5a": {
      "model_module": "@jupyter-widgets/controls",
      "model_module_version": "1.5.0",
      "model_name": "FloatSliderModel",
      "state": {
       "description": "Exposure",
       "layout": "IPY_MODEL_156d8f5d20b44eeca265cd969c10007a",
       "max": 8,
       "min": -8,
       "step": 0.1,
       "style": "IPY_MODEL_4eaa0acb8b42496ea353ec3293039a79"
      }
     },
     "ca93e90b63fd460e9b3119997be6044e": {
      "model_module": "@jupyter-widgets/base",
      "model_module_version": "1.2.0",
      "model_name": "LayoutModel",
      "state": {}
     },
     "caa8260433a948c39304a6e20d18aad9": {
      "model_module": "@jupyter-widgets/controls",
      "model_module_version": "1.5.0",
      "model_name": "ButtonStyleModel",
      "state": {}
     },
     "cac44fcc6f23430dadf0f6f492b47784": {
      "model_module": "@jupyter-widgets/controls",
      "model_module_version": "1.5.0",
      "model_name": "DescriptionStyleModel",
      "state": {
       "description_width": ""
      }
     },
     "cb43f8951aa64959bcaba84792ecbf10": {
      "model_module": "@jupyter-widgets/controls",
      "model_module_version": "1.5.0",
      "model_name": "FloatSliderModel",
      "state": {
       "description": "Compression Threshold",
       "layout": "IPY_MODEL_a34b4f9b5f4346b5b2956a98f90fce9f",
       "max": 1,
       "step": 0.01,
       "style": "IPY_MODEL_114ea4f02cb044b7af3a3d60883ab9ad",
       "value": 0.8
      }
     },
     "cb4b4202d903401bbecd41537260406b": {
      "model_module": "@jupyter-widgets/controls",
      "model_module_version": "1.5.0",
      "model_name": "FloatSliderModel",
      "state": {
       "description": "270°",
       "layout": "IPY_MODEL_a537ae6cde8f45f28f0cc45b9a13cdf7",
       "max": 1,
       "min": -1,
       "step": 0.01,
       "style": "IPY_MODEL_b3bfe3eb3f6a444fa0a95289866e31a2"
      }
     },
     "cb4b7e0c2746473796e0ce2556a8458c": {
      "model_module": "@jupyter-widgets/controls",
      "model_module_version": "1.5.0",
      "model_name": "DescriptionStyleModel",
      "state": {
       "description_width": ""
      }
     },
     "cb4d8661e5a342019f824629ec02e18d": {
      "model_module": "@jupyter-widgets/controls",
      "model_module_version": "1.5.0",
      "model_name": "FloatSliderModel",
      "state": {
       "description": "Protected Area Threshold",
       "layout": "IPY_MODEL_d8bb44c33fd5470ca940a22224761b1a",
       "max": 1,
       "step": 0.01,
       "style": "IPY_MODEL_6ff3a4a8c56a40bfa7858b9b1a5aeaa7",
       "value": 0.7
      }
     },
     "cb5464f4b6d945a285d3ce32186533df": {
      "model_module": "@jupyter-widgets/output",
      "model_module_version": "1.0.0",
      "model_name": "OutputModel",
      "state": {
       "layout": "IPY_MODEL_da681dafc5184501a73dc13ccbea71f1",
       "outputs": [
        {
         "data": {
          "application/vnd.jupyter.widget-view+json": {
           "model_id": "1c5afa7669864790875cbe4930015f4e",
           "version_major": 2,
           "version_minor": 0
          },
          "text/plain": "Canvas(toolbar=Toolbar(toolitems=[('Home', 'Reset original view', 'home', 'home'), ('Back', 'Back to previous …"
         },
         "metadata": {},
         "output_type": "display_data"
        }
       ]
      }
     },
     "cb98fdfd3aa54630936e6a5689bd4bb9": {
      "model_module": "@jupyter-widgets/base",
      "model_module_version": "1.2.0",
      "model_name": "LayoutModel",
      "state": {}
     },
     "cbaf33b6fc8b46b289667443a3a9b5be": {
      "model_module": "@jupyter-widgets/base",
      "model_module_version": "1.2.0",
      "model_name": "LayoutModel",
      "state": {}
     },
     "cbb87dae913c4d9c8e521793305323a5": {
      "model_module": "@jupyter-widgets/controls",
      "model_module_version": "1.5.0",
      "model_name": "ButtonModel",
      "state": {
       "description": "Export Image",
       "layout": "IPY_MODEL_3f81cd75bce24e209e1ce880883515ab",
       "style": "IPY_MODEL_c60411e0a08441c59a18312beffb32e1"
      }
     },
     "cbc89c75359d498a96fb9c5fa58df863": {
      "model_module": "@jupyter-widgets/controls",
      "model_module_version": "1.5.0",
      "model_name": "ButtonStyleModel",
      "state": {}
     },
     "cbebbf3b23854dcfb1f2ad4cfec12c1d": {
      "model_module": "@jupyter-widgets/base",
      "model_module_version": "1.2.0",
      "model_name": "LayoutModel",
      "state": {}
     },
     "cc7c2fede8d3435795cb637333e7b02a": {
      "model_module": "@jupyter-widgets/base",
      "model_module_version": "1.2.0",
      "model_name": "LayoutModel",
      "state": {}
     },
     "cc8f78f752f942ac830b10270aa934ad": {
      "model_module": "@jupyter-widgets/controls",
      "model_module_version": "1.5.0",
      "model_name": "HBoxModel",
      "state": {
       "children": [
        "IPY_MODEL_5051912a563a4968a09eeb9685e9c463",
        "IPY_MODEL_bbdc2186a991428db4c75c6506826b74",
        "IPY_MODEL_eed8adc2fce948f7b55df6dcc6da40c5",
        "IPY_MODEL_095a00ab883247a39a9fd415fe93d883"
       ],
       "layout": "IPY_MODEL_3ac72dad21e1424b8399622abe8d829d"
      }
     },
     "cc93157e71054683a56ce213c3033670": {
      "model_module": "@jupyter-widgets/controls",
      "model_module_version": "1.5.0",
      "model_name": "FloatSliderModel",
      "state": {
       "description": "0°",
       "layout": "IPY_MODEL_e119ecba3ad848fe872b30ff1bab9004",
       "max": 1,
       "min": -1,
       "step": 0.01,
       "style": "IPY_MODEL_1cea91886b934d0e9333c1652c5df7e7"
      }
     },
     "cc99777209e14243a99432e16a010c6f": {
      "model_module": "@jupyter-widgets/base",
      "model_module_version": "1.2.0",
      "model_name": "LayoutModel",
      "state": {}
     },
     "ccb9bd5208d14c8fbb54199e44741bac": {
      "model_module": "@jupyter-widgets/controls",
      "model_module_version": "1.5.0",
      "model_name": "SliderStyleModel",
      "state": {
       "description_width": ""
      }
     },
     "ccc5da3623324b56ba49f3be6a66b142": {
      "model_module": "@jupyter-widgets/base",
      "model_module_version": "1.2.0",
      "model_name": "LayoutModel",
      "state": {}
     },
     "ccdcfe95bcbc49f79613460fd8561255": {
      "model_module": "@jupyter-widgets/controls",
      "model_module_version": "1.5.0",
      "model_name": "CheckboxModel",
      "state": {
       "description": "Disable Medicina",
       "disabled": false,
       "layout": "IPY_MODEL_dada1f5daec642a8ad1a58631615d221",
       "style": "IPY_MODEL_9e0e3ba32d5b46af81fad6bfd704baf8",
       "value": false
      }
     },
     "cd04bdf693a640b2a0d741a6d148a9d7": {
      "model_module": "@jupyter-widgets/controls",
      "model_module_version": "1.5.0",
      "model_name": "VBoxModel",
      "state": {
       "children": [
        "IPY_MODEL_d0c87e11a03d47399e538e5a67145d6c",
        "IPY_MODEL_e87dfa345d3548cca050c56309d98ac1",
        "IPY_MODEL_1efa5d8df58748739d0f76f6c2992173"
       ],
       "layout": "IPY_MODEL_11ab274abd384e54a9cb5864359589e0"
      }
     },
     "cd0cabc4dc7b497384745912c9191b74": {
      "model_module": "@jupyter-widgets/base",
      "model_module_version": "1.2.0",
      "model_name": "LayoutModel",
      "state": {}
     },
     "cd16dc9ae32f4cb18263aba166abb6ec": {
      "model_module": "@jupyter-widgets/controls",
      "model_module_version": "1.5.0",
      "model_name": "FloatSliderModel",
      "state": {
       "description": "315°",
       "layout": "IPY_MODEL_1d6badc7227f4fe28bd5b0e24b31dec5",
       "max": 1,
       "min": -1,
       "step": 0.01,
       "style": "IPY_MODEL_70c46e6f082e4bc7b00eceafd65769a9"
      }
     },
     "cd1cc10fa16b49dabdef87d1604709a9": {
      "model_module": "@jupyter-widgets/output",
      "model_module_version": "1.0.0",
      "model_name": "OutputModel",
      "state": {
       "layout": "IPY_MODEL_2300f2d000874b6380a1c7383afda9e9",
       "outputs": [
        {
         "data": {
          "application/vnd.jupyter.widget-view+json": {
           "model_id": "f976295186d4421d8ced46e8e547a3c9",
           "version_major": 2,
           "version_minor": 0
          },
          "text/plain": "Canvas(toolbar=Toolbar(toolitems=[('Home', 'Reset original view', 'home', 'home'), ('Back', 'Back to previous …"
         },
         "metadata": {},
         "output_type": "display_data"
        }
       ]
      }
     },
     "cd4b24da99104d5bb133d4ed5e8c52bc": {
      "model_module": "@jupyter-widgets/controls",
      "model_module_version": "1.5.0",
      "model_name": "HBoxModel",
      "state": {
       "children": [
        "IPY_MODEL_6392614a805d4f88a0ea399b23d66379",
        "IPY_MODEL_99df6dcaa9bf418cbb1b275ff38ad80c",
        "IPY_MODEL_7614633ff85e4b1c91d7596e52508e3a",
        "IPY_MODEL_571e1268fc794854b24ad004586c851d"
       ],
       "layout": "IPY_MODEL_d91ccff2806145b980da2993ab055120"
      }
     },
     "ce0597f1de224dcea5a4d24482664dc3": {
      "model_module": "@jupyter-widgets/base",
      "model_module_version": "1.2.0",
      "model_name": "LayoutModel",
      "state": {
       "border": "solid 4px #222",
       "margin": "4px",
       "padding": "0"
      }
     },
     "ce6fef32ba674eb3bf1545318bcb97df": {
      "model_module": "@jupyter-widgets/controls",
      "model_module_version": "1.5.0",
      "model_name": "HBoxModel",
      "state": {
       "children": [
        "IPY_MODEL_3af679b7217f4ed59cf4a523e8a7451b",
        "IPY_MODEL_6347835f089247a587e74595a91f9079",
        "IPY_MODEL_a3208ab2b5904dad8e89595117bcb73c"
       ],
       "layout": "IPY_MODEL_67e877c041d24e43a47fe66cd6212029"
      }
     },
     "cea17e94358a4af5b740019c9cdab119": {
      "model_module": "@jupyter-widgets/controls",
      "model_module_version": "1.5.0",
      "model_name": "DescriptionStyleModel",
      "state": {
       "description_width": ""
      }
     },
     "cedb54cefaa9480fad5b435699ce6bcb": {
      "model_module": "@jupyter-widgets/controls",
      "model_module_version": "1.5.0",
      "model_name": "SliderStyleModel",
      "state": {
       "description_width": ""
      }
     },
     "cef0b89ea771411288300a087a3bca92": {
      "model_module": "@jupyter-widgets/output",
      "model_module_version": "1.0.0",
      "model_name": "OutputModel",
      "state": {
       "layout": "IPY_MODEL_0ff0a5be215b406c9d1e9d637c634c47",
       "outputs": [
        {
         "data": {
          "application/vnd.jupyter.widget-view+json": {
           "model_id": "b8ce4454762442d789ede490a808e3e6",
           "version_major": 2,
           "version_minor": 0
          },
          "text/plain": "Canvas(toolbar=Toolbar(toolitems=[('Home', 'Reset original view', 'home', 'home'), ('Back', 'Back to previous …"
         },
         "metadata": {},
         "output_type": "display_data"
        }
       ]
      }
     },
     "cf49bcfeb4c04852b928da7251fff4f1": {
      "model_module": "@jupyter-widgets/base",
      "model_module_version": "1.2.0",
      "model_name": "LayoutModel",
      "state": {}
     },
     "cf631995dadb4df1a5f8aa7a78ee1de5": {
      "model_module": "@jupyter-widgets/controls",
      "model_module_version": "1.5.0",
      "model_name": "ButtonModel",
      "state": {
       "description": "Save Figure",
       "layout": "IPY_MODEL_79c85ed5b7f84448bfd33c229dac436c",
       "style": "IPY_MODEL_968a36c6fcaf445e8d923f6ee937bd8c"
      }
     },
     "cf85bbb1077b4fbdb4bdc9eaed7fb668": {
      "model_module": "@jupyter-widgets/controls",
      "model_module_version": "1.5.0",
      "model_name": "SliderStyleModel",
      "state": {
       "description_width": ""
      }
     },
     "cfae44b180ae4641b8dcefe118614b14": {
      "model_module": "@jupyter-widgets/base",
      "model_module_version": "1.2.0",
      "model_name": "LayoutModel",
      "state": {}
     },
     "d0059bf8c61643d3924851c62edd0190": {
      "model_module": "@jupyter-widgets/controls",
      "model_module_version": "1.5.0",
      "model_name": "FloatSliderModel",
      "state": {
       "description": "Compression Threshold",
       "layout": "IPY_MODEL_2b30ae8fcf8e4c9db851b5c0fba85455",
       "max": 1,
       "step": 0.01,
       "style": "IPY_MODEL_85651fb3083640ffa1b116d417219a4e",
       "value": 0.8
      }
     },
     "d02523a6e3fe423a952f1b3c5afc931b": {
      "model_module": "@jupyter-widgets/controls",
      "model_module_version": "1.5.0",
      "model_name": "BoxModel",
      "state": {
       "children": [
        "IPY_MODEL_01e9f3124fbd41758bceac469c6e144b",
        "IPY_MODEL_30e4ce77a5c34b0587c39fc6cbaffe99"
       ],
       "layout": "IPY_MODEL_37692d689f164466b684b7d49996ed2c"
      }
     },
     "d04c0e1ecaf74ae9ba1549e2df249220": {
      "model_module": "@jupyter-widgets/base",
      "model_module_version": "1.2.0",
      "model_name": "LayoutModel",
      "state": {
       "border": "solid 4px #222",
       "margin": "4px",
       "padding": "0"
      }
     },
     "d083e1a0ea234479ae2dd1bb54976c3f": {
      "model_module": "@jupyter-widgets/base",
      "model_module_version": "1.2.0",
      "model_name": "LayoutModel",
      "state": {}
     },
     "d093cff442cc4897af6ff27451107f93": {
      "model_module": "@jupyter-widgets/output",
      "model_module_version": "1.0.0",
      "model_name": "OutputModel",
      "state": {
       "layout": "IPY_MODEL_0a12b95b3b574412807b1cc18ccdc683",
       "outputs": [
        {
         "data": {
          "application/vnd.jupyter.widget-view+json": {
           "model_id": "163e0172ac1a4b7c891c61d12d2a62d3",
           "version_major": 2,
           "version_minor": 0
          },
          "text/plain": "Canvas(toolbar=Toolbar(toolitems=[('Home', 'Reset original view', 'home', 'home'), ('Back', 'Back to previous …"
         },
         "metadata": {},
         "output_type": "display_data"
        }
       ]
      }
     },
     "d0b9aff1016545b5913a32ababa61c6f": {
      "model_module": "@jupyter-widgets/base",
      "model_module_version": "1.2.0",
      "model_name": "LayoutModel",
      "state": {}
     },
     "d0c87e11a03d47399e538e5a67145d6c": {
      "model_module": "@jupyter-widgets/controls",
      "model_module_version": "1.5.0",
      "model_name": "FloatSliderModel",
      "state": {
       "description": "135°",
       "layout": "IPY_MODEL_b0e9966788b047b4bf0949f6b76c29f9",
       "max": 1,
       "min": -1,
       "step": 0.01,
       "style": "IPY_MODEL_f0efa1289ac44c2d8daf2bbf02a34456"
      }
     },
     "d0dce23f0d964cd9afdfc4e3a945b9d7": {
      "model_module": "@jupyter-widgets/controls",
      "model_module_version": "1.5.0",
      "model_name": "FloatSliderModel",
      "state": {
       "description": "Compression Threshold",
       "layout": "IPY_MODEL_c6fa014b7d3c4f1a94218e5cb3e98635",
       "max": 1,
       "step": 0.01,
       "style": "IPY_MODEL_9c3471645799463caec5e28e8ce08aec",
       "value": 0.8
      }
     },
     "d14d383da3a84f39935ef1d302a7db11": {
      "model_module": "@jupyter-widgets/controls",
      "model_module_version": "1.5.0",
      "model_name": "ButtonStyleModel",
      "state": {}
     },
     "d14f5ff727984ef9abd68d621247875a": {
      "model_module": "@jupyter-widgets/base",
      "model_module_version": "1.2.0",
      "model_name": "LayoutModel",
      "state": {}
     },
     "d172013c55d74391a798d19624355909": {
      "model_module": "jupyter-matplotlib",
      "model_module_version": "^0.7.2",
      "model_name": "MPLCanvasModel",
      "state": {
       "_figure_label": "Figure 5",
       "_height": 1100,
       "_width": 1100,
       "layout": "IPY_MODEL_a54dbe2564c44efeac8e5226623637ad",
       "toolbar": "IPY_MODEL_80d9f75122f24e56af57bf022b81c599",
       "toolbar_position": "left"
      }
     },
     "d19dcb6ecd45452584922f35217192ce": {
      "model_module": "jupyter-matplotlib",
      "model_module_version": "^0.7.2",
      "model_name": "MPLCanvasModel",
      "state": {
       "_figure_label": "Figure 1",
       "_height": 458,
       "_image_mode": "diff",
       "_width": 1100,
       "header_visible": false,
       "layout": "IPY_MODEL_c2495e6277c9405aac69b57a08580aa0",
       "resizable": false,
       "toolbar": "IPY_MODEL_2f0114178c7a450595ffdc1aadee622f",
       "toolbar_position": "left",
       "toolbar_visible": false
      }
     },
     "d1b7e948bbde4040ae7a5cc7da261031": {
      "model_module": "@jupyter-widgets/base",
      "model_module_version": "1.2.0",
      "model_name": "LayoutModel",
      "state": {}
     },
     "d1bb28cb6754480d89a7c64cd12bbc46": {
      "model_module": "@jupyter-widgets/controls",
      "model_module_version": "1.5.0",
      "model_name": "DescriptionStyleModel",
      "state": {
       "description_width": ""
      }
     },
     "d1be16b67acd441f861566af5b2f8069": {
      "model_module": "@jupyter-widgets/controls",
      "model_module_version": "1.5.0",
      "model_name": "SliderStyleModel",
      "state": {
       "description_width": ""
      }
     },
     "d1c2aae6f983449bbeaae3d64bb34322": {
      "model_module": "@jupyter-widgets/base",
      "model_module_version": "1.2.0",
      "model_name": "LayoutModel",
      "state": {}
     },
     "d1d8a455a9e44b7b95addac9d30cdbf5": {
      "model_module": "@jupyter-widgets/controls",
      "model_module_version": "1.5.0",
      "model_name": "FloatSliderModel",
      "state": {
       "description": "Compression Threshold",
       "layout": "IPY_MODEL_b406402c52ae474a8c83b71c872fb2e5",
       "max": 1,
       "step": 0.01,
       "style": "IPY_MODEL_70da17c8bcc74c7797c2dd36c594a939",
       "value": 0.8
      }
     },
     "d1ebbbf01b0f4b40903d7c52ecdc9bef": {
      "model_module": "@jupyter-widgets/controls",
      "model_module_version": "1.5.0",
      "model_name": "SliderStyleModel",
      "state": {
       "description_width": ""
      }
     },
     "d23c0ec0335140ccbc4877ed36c07faa": {
      "model_module": "@jupyter-widgets/controls",
      "model_module_version": "1.5.0",
      "model_name": "SliderStyleModel",
      "state": {
       "description_width": ""
      }
     },
     "d2479b1c3324441787013ca0038de7e4": {
      "model_module": "@jupyter-widgets/base",
      "model_module_version": "1.2.0",
      "model_name": "LayoutModel",
      "state": {}
     },
     "d2513fbb82c742ba9cc7aec4041ffde4": {
      "model_module": "@jupyter-widgets/base",
      "model_module_version": "1.2.0",
      "model_name": "LayoutModel",
      "state": {}
     },
     "d255d543d99d495c8680dde5bc791e18": {
      "model_module": "@jupyter-widgets/controls",
      "model_module_version": "1.5.0",
      "model_name": "SliderStyleModel",
      "state": {
       "description_width": ""
      }
     },
     "d2680e3e84bb4cbb8742297d30deb0ca": {
      "model_module": "@jupyter-widgets/controls",
      "model_module_version": "1.5.0",
      "model_name": "SliderStyleModel",
      "state": {
       "description_width": ""
      }
     },
     "d2808f97cb1a427883a77a75fa424808": {
      "model_module": "@jupyter-widgets/controls",
      "model_module_version": "1.5.0",
      "model_name": "ButtonStyleModel",
      "state": {}
     },
     "d2a423867cb54792b31d418fec596a83": {
      "model_module": "@jupyter-widgets/controls",
      "model_module_version": "1.5.0",
      "model_name": "ButtonModel",
      "state": {
       "description": "Reset Hue Controls",
       "layout": "IPY_MODEL_9eb9f57e2c004383b7ef7e46e1ed3cd3",
       "style": "IPY_MODEL_0fcf4978171c47629a10b6034b397edb"
      }
     },
     "d2ee008ddacb4c4c8af9e37a4fab5137": {
      "model_module": "@jupyter-widgets/base",
      "model_module_version": "1.2.0",
      "model_name": "LayoutModel",
      "state": {}
     },
     "d2f6ef975c7f43688d1807297eb42a82": {
      "model_module": "@jupyter-widgets/controls",
      "model_module_version": "1.5.0",
      "model_name": "DescriptionStyleModel",
      "state": {
       "description_width": ""
      }
     },
     "d313553b65e1421482c130c1d5ced8e4": {
      "model_module": "@jupyter-widgets/base",
      "model_module_version": "1.2.0",
      "model_name": "LayoutModel",
      "state": {}
     },
     "d32d917c7f144a64a216b7d3b913229d": {
      "model_module": "@jupyter-widgets/controls",
      "model_module_version": "1.5.0",
      "model_name": "HBoxModel",
      "state": {
       "children": [
        "IPY_MODEL_68b285c7357341169553a04fabe1738c",
        "IPY_MODEL_ba00b9c7250b49499bc451ffffdb4207",
        "IPY_MODEL_cd04bdf693a640b2a0d741a6d148a9d7",
        "IPY_MODEL_8740986055464a17b4ca52dd48dd58c7"
       ],
       "layout": "IPY_MODEL_2b2c28426ecc409a89c53318b9fff20a"
      }
     },
     "d367860e669c4471a6a4792cfb71112d": {
      "model_module": "@jupyter-widgets/base",
      "model_module_version": "1.2.0",
      "model_name": "LayoutModel",
      "state": {}
     },
     "d3be00d762ac42b5b32667bb425dd529": {
      "model_module": "@jupyter-widgets/controls",
      "model_module_version": "1.5.0",
      "model_name": "ButtonStyleModel",
      "state": {}
     },
     "d3f817d00c4e404f9c27ccf14866017e": {
      "model_module": "@jupyter-widgets/base",
      "model_module_version": "1.2.0",
      "model_name": "LayoutModel",
      "state": {
       "border": "solid 4px #222",
       "margin": "4px",
       "padding": "0"
      }
     },
     "d41304efb22d47b083f0f72c1676717a": {
      "model_module": "@jupyter-widgets/controls",
      "model_module_version": "1.5.0",
      "model_name": "DescriptionStyleModel",
      "state": {
       "description_width": ""
      }
     },
     "d457303c9f2046a4951e491ec192ecbf": {
      "model_module": "@jupyter-widgets/controls",
      "model_module_version": "1.5.0",
      "model_name": "HBoxModel",
      "state": {
       "children": [
        "IPY_MODEL_7b09feb75d0a4769b4f9c502207aecb4",
        "IPY_MODEL_f08e0160d1f34a05ab513ae11be06b0d"
       ],
       "layout": "IPY_MODEL_2bbdb1b39ccc4fd688739ce722fdaf4a"
      }
     },
     "d48bc760112c46748c7ede7a6b1327c4": {
      "model_module": "@jupyter-widgets/base",
      "model_module_version": "1.2.0",
      "model_name": "LayoutModel",
      "state": {
       "align_items": "stretch",
       "display": "flex",
       "flex_flow": "column",
       "width": "1128px"
      }
     },
     "d48ef87be22c4669be05f4d719f53c35": {
      "model_module": "@jupyter-widgets/base",
      "model_module_version": "1.2.0",
      "model_name": "LayoutModel",
      "state": {}
     },
     "d48f177d5f3d4031965a1a2b5aeba1d2": {
      "model_module": "@jupyter-widgets/base",
      "model_module_version": "1.2.0",
      "model_name": "LayoutModel",
      "state": {}
     },
     "d49d0f678ac6494ea8e40435854b3b17": {
      "model_module": "@jupyter-widgets/controls",
      "model_module_version": "1.5.0",
      "model_name": "FloatSliderModel",
      "state": {
       "description": "45°",
       "layout": "IPY_MODEL_b5e9a27a88b840728a18e8711eade0f7",
       "max": 1,
       "min": -1,
       "step": 0.01,
       "style": "IPY_MODEL_19f0c9c4d17d4568a9459dc139758cde"
      }
     },
     "d4d92d4e7b3b47a0b3e387613f25cbb8": {
      "model_module": "@jupyter-widgets/controls",
      "model_module_version": "1.5.0",
      "model_name": "ButtonModel",
      "state": {
       "description": "Reset Hue Controls",
       "layout": "IPY_MODEL_a80b95f3be0b4059b31ba5ed6e5a2e15",
       "style": "IPY_MODEL_76ecfefdf0f74817a4d7e466692d4ccb"
      }
     },
     "d509da40dde445cdbff01e7b36170762": {
      "model_module": "@jupyter-widgets/base",
      "model_module_version": "1.2.0",
      "model_name": "LayoutModel",
      "state": {}
     },
     "d523883668544a3a9909b07711df8689": {
      "model_module": "@jupyter-widgets/base",
      "model_module_version": "1.2.0",
      "model_name": "LayoutModel",
      "state": {}
     },
     "d54cf184ba2140b292fd3cbee15b31d6": {
      "model_module": "@jupyter-widgets/controls",
      "model_module_version": "1.5.0",
      "model_name": "SliderStyleModel",
      "state": {
       "description_width": ""
      }
     },
     "d558214272f84966afd817814339bf92": {
      "model_module": "@jupyter-widgets/base",
      "model_module_version": "1.2.0",
      "model_name": "LayoutModel",
      "state": {}
     },
     "d58fff66d21747cc9bfc5a9258573962": {
      "model_module": "@jupyter-widgets/controls",
      "model_module_version": "1.5.0",
      "model_name": "SliderStyleModel",
      "state": {
       "description_width": ""
      }
     },
     "d61da879c2f748528553976ce942890c": {
      "model_module": "@jupyter-widgets/base",
      "model_module_version": "1.2.0",
      "model_name": "LayoutModel",
      "state": {}
     },
     "d62f893fa7e64ad19468323ea3e3f4c2": {
      "model_module": "@jupyter-widgets/controls",
      "model_module_version": "1.5.0",
      "model_name": "CheckboxModel",
      "state": {
       "description": "Disable Medicina",
       "disabled": false,
       "layout": "IPY_MODEL_7dd41a72f0ba4ba9b552bccbd4ac47ed",
       "style": "IPY_MODEL_d1bb28cb6754480d89a7c64cd12bbc46",
       "value": false
      }
     },
     "d63ac85810c24e53ae1c8dbd1ffe9192": {
      "model_module": "@jupyter-widgets/base",
      "model_module_version": "1.2.0",
      "model_name": "LayoutModel",
      "state": {}
     },
     "d63e8c55dd77417494a3896665f33f96": {
      "model_module": "@jupyter-widgets/controls",
      "model_module_version": "1.5.0",
      "model_name": "ButtonModel",
      "state": {
       "description": "Save Figure",
       "layout": "IPY_MODEL_e7ee00cb65d84535bd35bfc428fd81c9",
       "style": "IPY_MODEL_5f8c5bacec9b46fcb068ce58dc704370"
      }
     },
     "d65b5b4bd2414f9184aee11bdb1aeea8": {
      "model_module": "@jupyter-widgets/base",
      "model_module_version": "1.2.0",
      "model_name": "LayoutModel",
      "state": {}
     },
     "d6a2a6c71af6464a87b0fb352832cb41": {
      "model_module": "@jupyter-widgets/controls",
      "model_module_version": "1.5.0",
      "model_name": "VBoxModel",
      "state": {
       "children": [
        "IPY_MODEL_96832200fccb499a8d7f4ca417121be7",
        "IPY_MODEL_e9fe32b1aa0445f0b699d0cf4b689338",
        "IPY_MODEL_c8f48b1cdafe44669458170c778c9e14"
       ],
       "layout": "IPY_MODEL_b3c7f75e5d61423fa391afe3f853c147"
      }
     },
     "d6ad0a24af0943ba97c3a376ce9c0b69": {
      "model_module": "@jupyter-widgets/base",
      "model_module_version": "1.2.0",
      "model_name": "LayoutModel",
      "state": {}
     },
     "d6b2dece7b92445d945f1985c97632a4": {
      "model_module": "@jupyter-widgets/controls",
      "model_module_version": "1.5.0",
      "model_name": "FloatSliderModel",
      "state": {
       "description": "Protected Area Threshold",
       "layout": "IPY_MODEL_af91b2e437e74b51b6e90b8bb1d89536",
       "max": 1,
       "step": 0.01,
       "style": "IPY_MODEL_6e88fa8294cf4759b5b2db6896f85b8f",
       "value": 0.7
      }
     },
     "d727bcac3f6c467cb5517d25092796d8": {
      "model_module": "@jupyter-widgets/controls",
      "model_module_version": "1.5.0",
      "model_name": "SliderStyleModel",
      "state": {
       "description_width": ""
      }
     },
     "d7aea7bf973a465082f39334c277548a": {
      "model_module": "@jupyter-widgets/base",
      "model_module_version": "1.2.0",
      "model_name": "LayoutModel",
      "state": {}
     },
     "d806ce2d68fb44809b10a6e162cdefb8": {
      "model_module": "@jupyter-widgets/base",
      "model_module_version": "1.2.0",
      "model_name": "LayoutModel",
      "state": {}
     },
     "d83d5268b27c42b8b145fdbe67eed483": {
      "model_module": "@jupyter-widgets/controls",
      "model_module_version": "1.5.0",
      "model_name": "SliderStyleModel",
      "state": {
       "description_width": ""
      }
     },
     "d89a70e709eb4f1586753fd0aeedc824": {
      "model_module": "@jupyter-widgets/controls",
      "model_module_version": "1.5.0",
      "model_name": "ButtonModel",
      "state": {
       "description": "Reset Compression Controls",
       "layout": "IPY_MODEL_8792003963e4438b89299bf934dfd191",
       "style": "IPY_MODEL_2180a568fb5f4639a5225e58fd792e30"
      }
     },
     "d8bb44c33fd5470ca940a22224761b1a": {
      "model_module": "@jupyter-widgets/base",
      "model_module_version": "1.2.0",
      "model_name": "LayoutModel",
      "state": {}
     },
     "d8df4b87159a478b986938812d901ded": {
      "model_module": "@jupyter-widgets/base",
      "model_module_version": "1.2.0",
      "model_name": "LayoutModel",
      "state": {}
     },
     "d908f93b59c9459490dbf6886bc50898": {
      "model_module": "@jupyter-widgets/controls",
      "model_module_version": "1.5.0",
      "model_name": "ButtonStyleModel",
      "state": {}
     },
     "d9108b0d8c59439f827457b24b0fdab2": {
      "model_module": "@jupyter-widgets/base",
      "model_module_version": "1.2.0",
      "model_name": "LayoutModel",
      "state": {}
     },
     "d91c134d54714ade9e8621da9f2ad912": {
      "model_module": "@jupyter-widgets/base",
      "model_module_version": "1.2.0",
      "model_name": "LayoutModel",
      "state": {}
     },
     "d91ccff2806145b980da2993ab055120": {
      "model_module": "@jupyter-widgets/base",
      "model_module_version": "1.2.0",
      "model_name": "LayoutModel",
      "state": {}
     },
     "d927d87e0a2345029440474230e303c7": {
      "model_module": "@jupyter-widgets/controls",
      "model_module_version": "1.5.0",
      "model_name": "HBoxModel",
      "state": {
       "children": [
        "IPY_MODEL_e4212c833d1f48ca8c671667ca431f94",
        "IPY_MODEL_30f8f98889db495bb7156e42ff636a49",
        "IPY_MODEL_22cfba7a6ebd408e9059491aea1a43bd"
       ],
       "layout": "IPY_MODEL_8e00190d87ae43b4bc5b646c9ef5c3aa"
      }
     },
     "d92d38b881e74b58ab036cc83aa719cc": {
      "model_module": "@jupyter-widgets/base",
      "model_module_version": "1.2.0",
      "model_name": "LayoutModel",
      "state": {}
     },
     "d946f585a8654587a5b361b2974ef6c4": {
      "model_module": "@jupyter-widgets/base",
      "model_module_version": "1.2.0",
      "model_name": "LayoutModel",
      "state": {}
     },
     "d94967fa73924236ad2b84135e48cd3b": {
      "model_module": "@jupyter-widgets/controls",
      "model_module_version": "1.5.0",
      "model_name": "DescriptionStyleModel",
      "state": {
       "description_width": ""
      }
     },
     "d95185fdbada4f3aaf6d520a2c8bee79": {
      "model_module": "@jupyter-widgets/controls",
      "model_module_version": "1.5.0",
      "model_name": "SliderStyleModel",
      "state": {
       "description_width": ""
      }
     },
     "d9835ad8c3f64d0e96776392b546eb3e": {
      "model_module": "jupyter-matplotlib",
      "model_module_version": "^0.7.2",
      "model_name": "MPLCanvasModel",
      "state": {
       "_figure_label": "Figure 27",
       "_height": 550,
       "_width": 1100,
       "header_visible": false,
       "layout": "IPY_MODEL_121da464ecfd4831ae8ffb422feabb2b",
       "resizable": false,
       "toolbar": "IPY_MODEL_1ac52a81b77c46e3ae1db8c65a71302d",
       "toolbar_position": "left",
       "toolbar_visible": false
      }
     },
     "d9f1658d28984d35ac235b8208317b8f": {
      "model_module": "@jupyter-widgets/controls",
      "model_module_version": "1.5.0",
      "model_name": "SliderStyleModel",
      "state": {
       "description_width": ""
      }
     },
     "da58bb8e09774011a0a4b408710c3ef6": {
      "model_module": "@jupyter-widgets/base",
      "model_module_version": "1.2.0",
      "model_name": "LayoutModel",
      "state": {}
     },
     "da681dafc5184501a73dc13ccbea71f1": {
      "model_module": "@jupyter-widgets/base",
      "model_module_version": "1.2.0",
      "model_name": "LayoutModel",
      "state": {
       "border": "solid 4px #222",
       "margin": "4px",
       "padding": "0"
      }
     },
     "da9226659b6a478d965bbcf8bd194c1e": {
      "model_module": "@jupyter-widgets/controls",
      "model_module_version": "1.5.0",
      "model_name": "HBoxModel",
      "state": {
       "children": [
        "IPY_MODEL_c3e8ac56ae324b83b0d22c7720f0d507",
        "IPY_MODEL_11a21d7e44404bf19ac11eaa0b3f2f9c"
       ],
       "layout": "IPY_MODEL_84c78433ac5c429daa2443f418ac35d4"
      }
     },
     "dad772a83c834a679cd3357012f9eebe": {
      "model_module": "@jupyter-widgets/controls",
      "model_module_version": "1.5.0",
      "model_name": "ButtonModel",
      "state": {
       "description": "Reset Protected Area",
       "layout": "IPY_MODEL_617d13e1a8454aec8c13b982c635fb58",
       "style": "IPY_MODEL_d3be00d762ac42b5b32667bb425dd529"
      }
     },
     "dada1f5daec642a8ad1a58631615d221": {
      "model_module": "@jupyter-widgets/base",
      "model_module_version": "1.2.0",
      "model_name": "LayoutModel",
      "state": {}
     },
     "db06c62a5cd5415896ae1f1a30f2260e": {
      "model_module": "@jupyter-widgets/controls",
      "model_module_version": "1.5.0",
      "model_name": "HBoxModel",
      "state": {
       "children": [
        "IPY_MODEL_90b059bb266845a0b032812d233aefd5",
        "IPY_MODEL_0b4e78b7499047b880034f0f9ba056ab"
       ],
       "layout": "IPY_MODEL_46224a8115224fd6861d3aa38af8433e"
      }
     },
     "db129c8141164a759780b3aa5866cdfd": {
      "model_module": "@jupyter-widgets/base",
      "model_module_version": "1.2.0",
      "model_name": "LayoutModel",
      "state": {}
     },
     "db190a2731a040bb96ff32d6e11e854e": {
      "model_module": "@jupyter-widgets/base",
      "model_module_version": "1.2.0",
      "model_name": "LayoutModel",
      "state": {}
     },
     "db1e6a16f6f340128b96cde2a171cb11": {
      "model_module": "@jupyter-widgets/base",
      "model_module_version": "1.2.0",
      "model_name": "LayoutModel",
      "state": {}
     },
     "db80a12f9f384a6aacf29ef60826edd8": {
      "model_module": "@jupyter-widgets/base",
      "model_module_version": "1.2.0",
      "model_name": "LayoutModel",
      "state": {}
     },
     "db8e69fec5534f63a74fe26a9876a1f8": {
      "model_module": "@jupyter-widgets/controls",
      "model_module_version": "1.5.0",
      "model_name": "ButtonStyleModel",
      "state": {}
     },
     "dba16d8c2ca74875ba54122bb771d6ef": {
      "model_module": "@jupyter-widgets/output",
      "model_module_version": "1.0.0",
      "model_name": "OutputModel",
      "state": {
       "layout": "IPY_MODEL_4bfb981de2484b19aa4d5d98feed4649",
       "outputs": [
        {
         "data": {
          "application/vnd.jupyter.widget-view+json": {
           "model_id": "eba7f537cdbe4705866d36e9e7227560",
           "version_major": 2,
           "version_minor": 0
          },
          "text/plain": "Canvas(toolbar=Toolbar(toolitems=[('Home', 'Reset original view', 'home', 'home'), ('Back', 'Back to previous …"
         },
         "metadata": {},
         "output_type": "display_data"
        }
       ]
      }
     },
     "dbdc5a7f9c6145f1aa969be27b9d70ab": {
      "model_module": "@jupyter-widgets/base",
      "model_module_version": "1.2.0",
      "model_name": "LayoutModel",
      "state": {}
     },
     "dc2c2909da6f4e06b627667ea21c4f06": {
      "model_module": "@jupyter-widgets/base",
      "model_module_version": "1.2.0",
      "model_name": "LayoutModel",
      "state": {}
     },
     "dc844770d1194f81a19a2ca781f3b6b4": {
      "model_module": "@jupyter-widgets/controls",
      "model_module_version": "1.5.0",
      "model_name": "SliderStyleModel",
      "state": {
       "description_width": ""
      }
     },
     "dc85b0eff91b4978a8a78cd2a8f86454": {
      "model_module": "@jupyter-widgets/controls",
      "model_module_version": "1.5.0",
      "model_name": "HBoxModel",
      "state": {
       "children": [
        "IPY_MODEL_5cb3a50b9d2d43199dbd6fc92e36d71a",
        "IPY_MODEL_3d993dfffcc54b73aed33c8b098288d4",
        "IPY_MODEL_bbc40e86b85c44f9b22edd5b969a3ae0"
       ],
       "layout": "IPY_MODEL_16e43295fb724030980f877eaadd60e8"
      }
     },
     "dcaabd0d3374475ea422788a8f2dc46f": {
      "model_module": "@jupyter-widgets/controls",
      "model_module_version": "1.5.0",
      "model_name": "DescriptionStyleModel",
      "state": {
       "description_width": ""
      }
     },
     "dccaff80e8204e5aa1f3f6260a798af4": {
      "model_module": "@jupyter-widgets/base",
      "model_module_version": "1.2.0",
      "model_name": "LayoutModel",
      "state": {}
     },
     "dce86c17fc7646ed87fad821a6c7d968": {
      "model_module": "@jupyter-widgets/base",
      "model_module_version": "1.2.0",
      "model_name": "LayoutModel",
      "state": {}
     },
     "dd824078c4364a5b96ff92348ffcfe0a": {
      "model_module": "@jupyter-widgets/controls",
      "model_module_version": "1.5.0",
      "model_name": "VBoxModel",
      "state": {
       "children": [
        "IPY_MODEL_7b8ed4292d764581be5b586ba0030fa0",
        "IPY_MODEL_501ce971c0c641d089381efc9ee014c9",
        "IPY_MODEL_272b2ef5b5b341c5bcbe6c8e2fe637d0"
       ],
       "layout": "IPY_MODEL_e39f70fb49f9470f820a1107fdf6e9c8"
      }
     },
     "ddedabd5cb7a4dc3b1b2ba44c3b9e2b1": {
      "model_module": "@jupyter-widgets/base",
      "model_module_version": "1.2.0",
      "model_name": "LayoutModel",
      "state": {}
     },
     "ddf352a5e46a468f966b532e4654b9ac": {
      "model_module": "@jupyter-widgets/base",
      "model_module_version": "1.2.0",
      "model_name": "LayoutModel",
      "state": {}
     },
     "de29ba1490774b4db6d077bbee9c1cd9": {
      "model_module": "@jupyter-widgets/base",
      "model_module_version": "1.2.0",
      "model_name": "LayoutModel",
      "state": {}
     },
     "de36e28ee7c44be5b1662437e6616c22": {
      "model_module": "@jupyter-widgets/controls",
      "model_module_version": "1.5.0",
      "model_name": "CheckboxModel",
      "state": {
       "description": "Disable Medicina",
       "disabled": false,
       "layout": "IPY_MODEL_b8c48b5b4d1042c1a670394c70508730",
       "style": "IPY_MODEL_722cae9a8531488ca7dbd0e07d182cf1",
       "value": false
      }
     },
     "de67336fa8b34b67b920e2dd418ede87": {
      "model_module": "@jupyter-widgets/controls",
      "model_module_version": "1.5.0",
      "model_name": "DescriptionStyleModel",
      "state": {
       "description_width": ""
      }
     },
     "de7fa649020a42f0b63fbfe8298b6cd4": {
      "model_module": "@jupyter-widgets/base",
      "model_module_version": "1.2.0",
      "model_name": "LayoutModel",
      "state": {}
     },
     "de82ebc0d9de4940807b7f5bf5e6796b": {
      "model_module": "@jupyter-widgets/base",
      "model_module_version": "1.2.0",
      "model_name": "LayoutModel",
      "state": {}
     },
     "df3af984cf334fcd95a09dbb12331207": {
      "model_module": "@jupyter-widgets/controls",
      "model_module_version": "1.5.0",
      "model_name": "ButtonModel",
      "state": {
       "description": "Export Image",
       "layout": "IPY_MODEL_9f76c9fa37db485eb71fd707e125909d",
       "style": "IPY_MODEL_c683ee4edc604d3db2aab2077a08c7a7"
      }
     },
     "df441b9eb8ce42c49bc0cda02d849d17": {
      "model_module": "@jupyter-widgets/controls",
      "model_module_version": "1.5.0",
      "model_name": "ButtonStyleModel",
      "state": {}
     },
     "df6680f5dedb4432ab4802f5836f50a9": {
      "model_module": "@jupyter-widgets/controls",
      "model_module_version": "1.5.0",
      "model_name": "HBoxModel",
      "state": {
       "children": [
        "IPY_MODEL_0988e283a33f49489fda940a2e22dc14",
        "IPY_MODEL_c9c856ab061943a1b26137106dde8bc8",
        "IPY_MODEL_4efad9ce41f74c508185478b8be368be",
        "IPY_MODEL_1d089be3556e4fac8bfa8a701bbfbc79"
       ],
       "layout": "IPY_MODEL_13752d6689084ad4811e0ee4cd3e13a2"
      }
     },
     "dfbb9cf5d4364645ba4ec464e7cd3463": {
      "model_module": "@jupyter-widgets/controls",
      "model_module_version": "1.5.0",
      "model_name": "FloatSliderModel",
      "state": {
       "description": "315°",
       "layout": "IPY_MODEL_5f5756fe24c14e47927cdac25ee5fbbc",
       "max": 1,
       "min": -1,
       "step": 0.01,
       "style": "IPY_MODEL_d1be16b67acd441f861566af5b2f8069"
      }
     },
     "dfbb9f2afb7f46c783c6b5c7f8a777e6": {
      "model_module": "@jupyter-widgets/controls",
      "model_module_version": "1.5.0",
      "model_name": "FloatSliderModel",
      "state": {
       "description": "45°",
       "layout": "IPY_MODEL_a465b8e04b3549369de8887446559de9",
       "max": 1,
       "min": -1,
       "step": 0.01,
       "style": "IPY_MODEL_e1840bd34eb14972bd1c7e1646d31e4f"
      }
     },
     "dfebaa5f2fda4ef7882e984075aa0c98": {
      "model_module": "@jupyter-widgets/controls",
      "model_module_version": "1.5.0",
      "model_name": "DescriptionStyleModel",
      "state": {
       "description_width": ""
      }
     },
     "e0090c0eabeb467b8b0bb0eff9187e05": {
      "model_module": "@jupyter-widgets/controls",
      "model_module_version": "1.5.0",
      "model_name": "ButtonModel",
      "state": {
       "description": "Save Figure",
       "layout": "IPY_MODEL_de29ba1490774b4db6d077bbee9c1cd9",
       "style": "IPY_MODEL_cbc89c75359d498a96fb9c5fa58df863"
      }
     },
     "e0171df69f95415e89f8ffe2493b2463": {
      "model_module": "@jupyter-widgets/output",
      "model_module_version": "1.0.0",
      "model_name": "OutputModel",
      "state": {
       "layout": "IPY_MODEL_a474d9ad5eaa47a1b9704ca9ff55a7ea",
       "outputs": [
        {
         "data": {
          "application/vnd.jupyter.widget-view+json": {
           "model_id": "949a4b10c8074e568c79f860e8a017bd",
           "version_major": 2,
           "version_minor": 0
          },
          "text/plain": "Canvas(toolbar=Toolbar(toolitems=[('Home', 'Reset original view', 'home', 'home'), ('Back', 'Back to previous …"
         },
         "metadata": {},
         "output_type": "display_data"
        }
       ]
      }
     },
     "e04ce1c391834a088fde9c5aa3c3c605": {
      "model_module": "@jupyter-widgets/base",
      "model_module_version": "1.2.0",
      "model_name": "LayoutModel",
      "state": {}
     },
     "e0b56d7bbfc4463daa5719f5573a3369": {
      "model_module": "@jupyter-widgets/controls",
      "model_module_version": "1.5.0",
      "model_name": "SliderStyleModel",
      "state": {
       "description_width": ""
      }
     },
     "e0ecc473e4c54f849f11fe6e96897a1c": {
      "model_module": "@jupyter-widgets/base",
      "model_module_version": "1.2.0",
      "model_name": "LayoutModel",
      "state": {}
     },
     "e119ecba3ad848fe872b30ff1bab9004": {
      "model_module": "@jupyter-widgets/base",
      "model_module_version": "1.2.0",
      "model_name": "LayoutModel",
      "state": {}
     },
     "e129bcc6a2e54f558972284215be85a7": {
      "model_module": "@jupyter-widgets/controls",
      "model_module_version": "1.5.0",
      "model_name": "SliderStyleModel",
      "state": {
       "description_width": ""
      }
     },
     "e15b9778a3b34757958752a1096d5dc5": {
      "model_module": "@jupyter-widgets/base",
      "model_module_version": "1.2.0",
      "model_name": "LayoutModel",
      "state": {}
     },
     "e160103fd1684c39ac3a39ff7bb42d7f": {
      "model_module": "@jupyter-widgets/controls",
      "model_module_version": "1.5.0",
      "model_name": "SliderStyleModel",
      "state": {
       "description_width": ""
      }
     },
     "e1816e50155e45b9aed642797f59ab7a": {
      "model_module": "@jupyter-widgets/controls",
      "model_module_version": "1.5.0",
      "model_name": "SliderStyleModel",
      "state": {
       "description_width": ""
      }
     },
     "e1840bd34eb14972bd1c7e1646d31e4f": {
      "model_module": "@jupyter-widgets/controls",
      "model_module_version": "1.5.0",
      "model_name": "SliderStyleModel",
      "state": {
       "description_width": ""
      }
     },
     "e18f3e759b404972afc004a478c3c1ab": {
      "model_module": "@jupyter-widgets/base",
      "model_module_version": "1.2.0",
      "model_name": "LayoutModel",
      "state": {}
     },
     "e194de4f5e4b419188b750719b9db557": {
      "model_module": "@jupyter-widgets/base",
      "model_module_version": "1.2.0",
      "model_name": "LayoutModel",
      "state": {}
     },
     "e1974a6851bd48408959ca6447da8b6e": {
      "model_module": "@jupyter-widgets/controls",
      "model_module_version": "1.5.0",
      "model_name": "HBoxModel",
      "state": {
       "children": [
        "IPY_MODEL_015ce5bceb8442a0b2cc26141da4e601",
        "IPY_MODEL_6682da45f45b4181b87b61901e232cb4",
        "IPY_MODEL_86912bc97e814bd0bec9e02ae51b115d",
        "IPY_MODEL_e64e10d1820a4a40a25c655e9815eb69"
       ],
       "layout": "IPY_MODEL_4d1ebd64222b4eb392aeac3fb88596fc"
      }
     },
     "e19ddefac7724b61aefbadff5f7d4de8": {
      "model_module": "@jupyter-widgets/controls",
      "model_module_version": "1.5.0",
      "model_name": "FloatSliderModel",
      "state": {
       "description": "270°",
       "layout": "IPY_MODEL_79f2361182f2492886263c7702ced3ce",
       "max": 1,
       "min": -1,
       "step": 0.01,
       "style": "IPY_MODEL_e5524d8930d84cd1bed7f7acae43583e"
      }
     },
     "e1a27a7847e94661b6e8969a2780659b": {
      "model_module": "@jupyter-widgets/base",
      "model_module_version": "1.2.0",
      "model_name": "LayoutModel",
      "state": {}
     },
     "e1bf80f1d6fd481689e6b5a0c69c3201": {
      "model_module": "@jupyter-widgets/base",
      "model_module_version": "1.2.0",
      "model_name": "LayoutModel",
      "state": {
       "border": "solid 4px #222",
       "margin": "4px",
       "padding": "0"
      }
     },
     "e1ea837ee6d34227996f6481526aecc3": {
      "model_module": "@jupyter-widgets/controls",
      "model_module_version": "1.5.0",
      "model_name": "FloatSliderModel",
      "state": {
       "description": "180°",
       "layout": "IPY_MODEL_5bc77d2350394987961f020e45ce9adf",
       "max": 1,
       "min": -1,
       "step": 0.01,
       "style": "IPY_MODEL_fa79da2d06d74b8688ecdc02dfb5ecbd"
      }
     },
     "e20a5c8b781d4f3dbb1e6896729b03b0": {
      "model_module": "@jupyter-widgets/controls",
      "model_module_version": "1.5.0",
      "model_name": "SliderStyleModel",
      "state": {
       "description_width": ""
      }
     },
     "e245c5f407aa4258b76f45bd4d106484": {
      "model_module": "@jupyter-widgets/base",
      "model_module_version": "1.2.0",
      "model_name": "LayoutModel",
      "state": {}
     },
     "e260cf8340224fe8aa40f16634ef4d0d": {
      "model_module": "@jupyter-widgets/controls",
      "model_module_version": "1.5.0",
      "model_name": "SliderStyleModel",
      "state": {
       "description_width": ""
      }
     },
     "e2e95c998f374cd88e7610ebc90aa1d7": {
      "model_module": "jupyter-matplotlib",
      "model_module_version": "^0.7.2",
      "model_name": "MPLCanvasModel",
      "state": {
       "_figure_label": "Figure 4",
       "_height": 618,
       "_width": 1099,
       "header_visible": false,
       "layout": "IPY_MODEL_ebded25bd642437fb4499b3182f26308",
       "resizable": false,
       "toolbar": "IPY_MODEL_4514b07caddd4e7db2d08100608e6e70",
       "toolbar_position": "left",
       "toolbar_visible": false
      }
     },
     "e2f392f9612440ae9ffdb1134f7997ac": {
      "model_module": "@jupyter-widgets/base",
      "model_module_version": "1.2.0",
      "model_name": "LayoutModel",
      "state": {}
     },
     "e337d370118743fcbb3b0b96efbd531e": {
      "model_module": "@jupyter-widgets/base",
      "model_module_version": "1.2.0",
      "model_name": "LayoutModel",
      "state": {}
     },
     "e33ae52a8849404e827757983e2b0fcf": {
      "model_module": "@jupyter-widgets/controls",
      "model_module_version": "1.5.0",
      "model_name": "SliderStyleModel",
      "state": {
       "description_width": ""
      }
     },
     "e34ec7c0c4b14209885d66a6927dddd8": {
      "model_module": "@jupyter-widgets/base",
      "model_module_version": "1.2.0",
      "model_name": "LayoutModel",
      "state": {}
     },
     "e36b9c0257b44942a27b988eff55ff58": {
      "model_module": "@jupyter-widgets/base",
      "model_module_version": "1.2.0",
      "model_name": "LayoutModel",
      "state": {}
     },
     "e38145429ee6439c861ceeaa434a3d25": {
      "model_module": "@jupyter-widgets/controls",
      "model_module_version": "1.5.0",
      "model_name": "ButtonModel",
      "state": {
       "description": "Reset Saturation Controls",
       "layout": "IPY_MODEL_d2479b1c3324441787013ca0038de7e4",
       "style": "IPY_MODEL_50bf1dc4cf72485fb3da4da81e3b8e27"
      }
     },
     "e38aa533bd024d5780b77a87bf6899d0": {
      "model_module": "@jupyter-widgets/base",
      "model_module_version": "1.2.0",
      "model_name": "LayoutModel",
      "state": {
       "border": "solid 4px #222",
       "margin": "4px",
       "padding": "0"
      }
     },
     "e39f70fb49f9470f820a1107fdf6e9c8": {
      "model_module": "@jupyter-widgets/base",
      "model_module_version": "1.2.0",
      "model_name": "LayoutModel",
      "state": {}
     },
     "e3a77cd358e246f88d7fa354fd708bef": {
      "model_module": "@jupyter-widgets/base",
      "model_module_version": "1.2.0",
      "model_name": "LayoutModel",
      "state": {
       "border": "solid 4px #222",
       "margin": "4px",
       "padding": "0"
      }
     },
     "e4212c833d1f48ca8c671667ca431f94": {
      "model_module": "@jupyter-widgets/controls",
      "model_module_version": "1.5.0",
      "model_name": "ButtonModel",
      "state": {
       "description": "Reset Saturation Controls",
       "layout": "IPY_MODEL_1a88d1074a2d4268aaa92c1eb4dbc3b0",
       "style": "IPY_MODEL_3da6adbf11644cf0858d9990bfb16cbc"
      }
     },
     "e471dfc082e347fc9be1ee30bb9ca9ff": {
      "model_module": "@jupyter-widgets/controls",
      "model_module_version": "1.5.0",
      "model_name": "FloatSliderModel",
      "state": {
       "description": "Exposure",
       "layout": "IPY_MODEL_eaee45550cc54c4ea470d14c6d2ae28a",
       "max": 8,
       "min": -8,
       "step": 0.1,
       "style": "IPY_MODEL_d255d543d99d495c8680dde5bc791e18"
      }
     },
     "e5524d8930d84cd1bed7f7acae43583e": {
      "model_module": "@jupyter-widgets/controls",
      "model_module_version": "1.5.0",
      "model_name": "SliderStyleModel",
      "state": {
       "description_width": ""
      }
     },
     "e554919777ee4051a6a693f154f150d7": {
      "model_module": "@jupyter-widgets/controls",
      "model_module_version": "1.5.0",
      "model_name": "VBoxModel",
      "state": {
       "children": [
        "IPY_MODEL_0885f6797fa2477ba0ecff0d7b7e3b5f"
       ],
       "layout": "IPY_MODEL_2f95b1064fd94130af3c93bde7dd8836"
      }
     },
     "e5c60ad05f5449549870334a9cbe11df": {
      "model_module": "@jupyter-widgets/controls",
      "model_module_version": "1.5.0",
      "model_name": "DescriptionStyleModel",
      "state": {
       "description_width": ""
      }
     },
     "e5df3aaed072432eaf1832c87ab8fc22": {
      "model_module": "@jupyter-widgets/controls",
      "model_module_version": "1.5.0",
      "model_name": "SliderStyleModel",
      "state": {
       "description_width": ""
      }
     },
     "e5e075c26c5a471ba30af430792efcaf": {
      "model_module": "@jupyter-widgets/base",
      "model_module_version": "1.2.0",
      "model_name": "LayoutModel",
      "state": {
       "border": "solid 4px #222",
       "margin": "4px",
       "padding": "0"
      }
     },
     "e64e10d1820a4a40a25c655e9815eb69": {
      "model_module": "@jupyter-widgets/controls",
      "model_module_version": "1.5.0",
      "model_name": "FloatSliderModel",
      "state": {
       "description": "Exposure",
       "layout": "IPY_MODEL_f89d87d4dc994fab9f0396d60afd03b5",
       "max": 8,
       "min": -8,
       "step": 0.1,
       "style": "IPY_MODEL_5c24209191f443d79bf8b726ffa6b64c"
      }
     },
     "e65ecb8c4d87419cbf77385ceb96cfe6": {
      "model_module": "@jupyter-widgets/base",
      "model_module_version": "1.2.0",
      "model_name": "LayoutModel",
      "state": {}
     },
     "e6c8c5291205499e9c22b44564c1e686": {
      "model_module": "@jupyter-widgets/controls",
      "model_module_version": "1.5.0",
      "model_name": "HBoxModel",
      "state": {
       "children": [
        "IPY_MODEL_4738f47936ed42afb73595d995fb94ad",
        "IPY_MODEL_0edd6aa8bb3444e4bb0dbaa9835653a7",
        "IPY_MODEL_dd824078c4364a5b96ff92348ffcfe0a",
        "IPY_MODEL_c39b36f6f6ba4626a3e955de07154da2"
       ],
       "layout": "IPY_MODEL_b7c468e9f97a410698d48f107c9d1dca"
      }
     },
     "e6ced2bf7992423fa43e8e80bc1f37f5": {
      "model_module": "@jupyter-widgets/controls",
      "model_module_version": "1.5.0",
      "model_name": "FloatSliderModel",
      "state": {
       "description": "225°",
       "layout": "IPY_MODEL_a01509c8eb0745f790676613b4769adc",
       "max": 1,
       "min": -1,
       "step": 0.01,
       "style": "IPY_MODEL_2889e3127feb4536ad995251d08e1ef7"
      }
     },
     "e6d68dacec6342439172fd37501a1c70": {
      "model_module": "@jupyter-widgets/base",
      "model_module_version": "1.2.0",
      "model_name": "LayoutModel",
      "state": {}
     },
     "e6df8520a7da444e97e067163643ce16": {
      "model_module": "@jupyter-widgets/base",
      "model_module_version": "1.2.0",
      "model_name": "LayoutModel",
      "state": {}
     },
     "e6e8a85027d546fe825d2a104a86bf86": {
      "model_module": "@jupyter-widgets/controls",
      "model_module_version": "1.5.0",
      "model_name": "FloatSliderModel",
      "state": {
       "description": "180°",
       "layout": "IPY_MODEL_baa7bf1ce4694162b79ee0fcad67bd00",
       "max": 1,
       "min": -1,
       "step": 0.01,
       "style": "IPY_MODEL_e0b56d7bbfc4463daa5719f5573a3369"
      }
     },
     "e702125d68154d50a09970d386df6c40": {
      "model_module": "@jupyter-widgets/controls",
      "model_module_version": "1.5.0",
      "model_name": "ButtonStyleModel",
      "state": {}
     },
     "e7197deb36cd43989cb7b26e900b228f": {
      "model_module": "@jupyter-widgets/controls",
      "model_module_version": "1.5.0",
      "model_name": "ButtonStyleModel",
      "state": {}
     },
     "e784cff0f8b144fca21f37b11dc0b853": {
      "model_module": "@jupyter-widgets/controls",
      "model_module_version": "1.5.0",
      "model_name": "ButtonStyleModel",
      "state": {}
     },
     "e789b82630f1448ba1b19f5b38c82c3c": {
      "model_module": "@jupyter-widgets/base",
      "model_module_version": "1.2.0",
      "model_name": "LayoutModel",
      "state": {}
     },
     "e7a1cea7a31e422f8c808af0b49958fc": {
      "model_module": "@jupyter-widgets/controls",
      "model_module_version": "1.5.0",
      "model_name": "SliderStyleModel",
      "state": {
       "description_width": ""
      }
     },
     "e7b326d018c748bda47351c9897c489d": {
      "model_module": "@jupyter-widgets/base",
      "model_module_version": "1.2.0",
      "model_name": "LayoutModel",
      "state": {}
     },
     "e7c09f470cef45c9880a726d57d49ea0": {
      "model_module": "@jupyter-widgets/controls",
      "model_module_version": "1.5.0",
      "model_name": "VBoxModel",
      "state": {
       "children": [
        "IPY_MODEL_1d63185bf13443a6847c79e0a436396c"
       ],
       "layout": "IPY_MODEL_d2513fbb82c742ba9cc7aec4041ffde4"
      }
     },
     "e7d0d5b569ab47b5847771d00bd24e12": {
      "model_module": "@jupyter-widgets/controls",
      "model_module_version": "1.5.0",
      "model_name": "HBoxModel",
      "state": {
       "children": [
        "IPY_MODEL_e38145429ee6439c861ceeaa434a3d25",
        "IPY_MODEL_7779d59ea50a4b58971cf14006c8d774",
        "IPY_MODEL_2a105e19aff94a48b2b7cd2a5c12398a"
       ],
       "layout": "IPY_MODEL_80f607c517a74b11a4860e6085bb30cc"
      }
     },
     "e7ee00cb65d84535bd35bfc428fd81c9": {
      "model_module": "@jupyter-widgets/base",
      "model_module_version": "1.2.0",
      "model_name": "LayoutModel",
      "state": {}
     },
     "e81094c47f3f45c298995ca35b602170": {
      "model_module": "@jupyter-widgets/controls",
      "model_module_version": "1.5.0",
      "model_name": "SliderStyleModel",
      "state": {
       "description_width": ""
      }
     },
     "e87dfa345d3548cca050c56309d98ac1": {
      "model_module": "@jupyter-widgets/controls",
      "model_module_version": "1.5.0",
      "model_name": "FloatSliderModel",
      "state": {
       "description": "180°",
       "layout": "IPY_MODEL_c8d9fb11390a47378777ae990d52bd1d",
       "max": 1,
       "min": -1,
       "step": 0.01,
       "style": "IPY_MODEL_79ba4054f0f5477597420a1c430dc070"
      }
     },
     "e88b5092979b45728ec4447876fa10af": {
      "model_module": "@jupyter-widgets/base",
      "model_module_version": "1.2.0",
      "model_name": "LayoutModel",
      "state": {}
     },
     "e895e84dbf37406db516ebae92479c4f": {
      "model_module": "@jupyter-widgets/controls",
      "model_module_version": "1.5.0",
      "model_name": "FloatSliderModel",
      "state": {
       "description": "90°",
       "layout": "IPY_MODEL_c3bd99818b534da0b1bfe7ad56e7e7ed",
       "max": 1,
       "min": -1,
       "step": 0.01,
       "style": "IPY_MODEL_e129bcc6a2e54f558972284215be85a7"
      }
     },
     "e8c5d592931c48fb941d20718fd891d8": {
      "model_module": "jupyter-matplotlib",
      "model_module_version": "^0.7.2",
      "model_name": "ToolbarModel",
      "state": {
       "layout": "IPY_MODEL_44b09a27e56d4cbabfc7c8efe76ee77f",
       "toolitems": [
        [
         "Home",
         "Reset original view",
         "home",
         "home"
        ],
        [
         "Back",
         "Back to previous view",
         "arrow-left",
         "back"
        ],
        [
         "Forward",
         "Forward to next view",
         "arrow-right",
         "forward"
        ],
        [
         "Pan",
         "Pan axes with left mouse, zoom with right",
         "arrows",
         "pan"
        ],
        [
         "Zoom",
         "Zoom to rectangle",
         "square-o",
         "zoom"
        ],
        [
         "Download",
         "Download plot",
         "floppy-o",
         "save_figure"
        ]
       ]
      }
     },
     "e8cf5e33c5a6444da152d71d7366dd90": {
      "model_module": "@jupyter-widgets/controls",
      "model_module_version": "1.5.0",
      "model_name": "SliderStyleModel",
      "state": {
       "description_width": ""
      }
     },
     "e93b1c6d1dae4104a240d449cbc56642": {
      "model_module": "@jupyter-widgets/base",
      "model_module_version": "1.2.0",
      "model_name": "LayoutModel",
      "state": {}
     },
     "e94e0d70838e4f66b466d8447a37b82e": {
      "model_module": "@jupyter-widgets/controls",
      "model_module_version": "1.5.0",
      "model_name": "FloatSliderModel",
      "state": {
       "description": "45°",
       "layout": "IPY_MODEL_dbdc5a7f9c6145f1aa969be27b9d70ab",
       "max": 1,
       "min": -1,
       "step": 0.01,
       "style": "IPY_MODEL_ca5965aeab274e8fb329e296e514da07"
      }
     },
     "e98dbb9e61ad4a0a8c80815a445a505e": {
      "model_module": "@jupyter-widgets/controls",
      "model_module_version": "1.5.0",
      "model_name": "DropdownModel",
      "state": {
       "_options_labels": [
        "tanh",
        "atan",
        "simple"
       ],
       "description": "Compression Function:",
       "index": 0,
       "layout": "IPY_MODEL_db1e6a16f6f340128b96cde2a171cb11",
       "style": "IPY_MODEL_c4b73265b8924a31ba8f2f740d8ad149"
      }
     },
     "e9a248211eac4dcbb295fff1da7ccce3": {
      "model_module": "@jupyter-widgets/controls",
      "model_module_version": "1.5.0",
      "model_name": "ButtonStyleModel",
      "state": {}
     },
     "e9c9fd5000544a2599bed3d53c86995e": {
      "model_module": "@jupyter-widgets/controls",
      "model_module_version": "1.5.0",
      "model_name": "HBoxModel",
      "state": {
       "children": [
        "IPY_MODEL_c99813909b144e0bad88e54f05ba4dce",
        "IPY_MODEL_bb817f87c3374cd0b3d548941d7cdf1e",
        "IPY_MODEL_e9d58bfff7274e12bec937d45ba38684"
       ],
       "layout": "IPY_MODEL_3ce3583214314a2f81c0fb85af3cf45a"
      }
     },
     "e9d58bfff7274e12bec937d45ba38684": {
      "model_module": "@jupyter-widgets/controls",
      "model_module_version": "1.5.0",
      "model_name": "FloatSliderModel",
      "state": {
       "description": "Compression Threshold",
       "layout": "IPY_MODEL_e1a27a7847e94661b6e8969a2780659b",
       "max": 1,
       "step": 0.01,
       "style": "IPY_MODEL_3349bd81cc8d4c96884e4d20c9aade28",
       "value": 0.8
      }
     },
     "e9de6cb29545460aab75f110f6708ca5": {
      "model_module": "@jupyter-widgets/base",
      "model_module_version": "1.2.0",
      "model_name": "LayoutModel",
      "state": {}
     },
     "e9fe32b1aa0445f0b699d0cf4b689338": {
      "model_module": "@jupyter-widgets/controls",
      "model_module_version": "1.5.0",
      "model_name": "FloatSliderModel",
      "state": {
       "description": "180°",
       "layout": "IPY_MODEL_fea73151b7fd413693c12211d03559c0",
       "max": 1,
       "min": -1,
       "step": 0.01,
       "style": "IPY_MODEL_7412eddc2d6b47ed83174d6b4417b1d7"
      }
     },
     "ea0c93497c8641bfb935ce88033caa36": {
      "model_module": "@jupyter-widgets/controls",
      "model_module_version": "1.5.0",
      "model_name": "ButtonStyleModel",
      "state": {}
     },
     "ea33127a56584855837e384ed9186d70": {
      "model_module": "@jupyter-widgets/base",
      "model_module_version": "1.2.0",
      "model_name": "LayoutModel",
      "state": {}
     },
     "ea379b28dc044d4cba984a5602cdc9b1": {
      "model_module": "@jupyter-widgets/base",
      "model_module_version": "1.2.0",
      "model_name": "LayoutModel",
      "state": {}
     },
     "eaedb75247904c13b26af1a0f1631771": {
      "model_module": "@jupyter-widgets/controls",
      "model_module_version": "1.5.0",
      "model_name": "FloatSliderModel",
      "state": {
       "description": "Exposure",
       "layout": "IPY_MODEL_b6471b9babee41bea349d773310115d6",
       "max": 8,
       "min": -8,
       "step": 0.1,
       "style": "IPY_MODEL_164691589e184c198a650f2b19d3ebff"
      }
     },
     "eaee45550cc54c4ea470d14c6d2ae28a": {
      "model_module": "@jupyter-widgets/base",
      "model_module_version": "1.2.0",
      "model_name": "LayoutModel",
      "state": {}
     },
     "eb4831d479a0408aaeaabd2569467af2": {
      "model_module": "@jupyter-widgets/controls",
      "model_module_version": "1.5.0",
      "model_name": "ButtonModel",
      "state": {
       "description": "Reset Saturation Controls",
       "layout": "IPY_MODEL_fc427dd6eaf548f98535f5779b31cd1b",
       "style": "IPY_MODEL_08e56e07dab449eebe1a7bb04583753c"
      }
     },
     "eb8ab24fcd5b41c09fb2e76da54f7b29": {
      "model_module": "@jupyter-widgets/controls",
      "model_module_version": "1.5.0",
      "model_name": "ButtonStyleModel",
      "state": {}
     },
     "eba7f537cdbe4705866d36e9e7227560": {
      "model_module": "jupyter-matplotlib",
      "model_module_version": "^0.7.2",
      "model_name": "MPLCanvasModel",
      "state": {
       "_figure_label": "Figure 17",
       "_height": 430,
       "_width": 1099,
       "header_visible": false,
       "layout": "IPY_MODEL_3c425d9fad154fee8affb824673377d2",
       "resizable": false,
       "toolbar": "IPY_MODEL_ecc14664eeeb44cc8e8ac1dddbdb7e4d",
       "toolbar_position": "left",
       "toolbar_visible": false
      }
     },
     "ebbc304c8a4748a1bfd4860f7999c0db": {
      "model_module": "@jupyter-widgets/base",
      "model_module_version": "1.2.0",
      "model_name": "LayoutModel",
      "state": {}
     },
     "ebded25bd642437fb4499b3182f26308": {
      "model_module": "@jupyter-widgets/base",
      "model_module_version": "1.2.0",
      "model_name": "LayoutModel",
      "state": {}
     },
     "ec15c63a723a4d9391aee577df354d9f": {
      "model_module": "@jupyter-widgets/controls",
      "model_module_version": "1.5.0",
      "model_name": "VBoxModel",
      "state": {
       "children": [
        "IPY_MODEL_54417d913b8c42cfb3217ff3d5cc16ea",
        "IPY_MODEL_583feaa360174fab9b0b275c6647249b"
       ],
       "layout": "IPY_MODEL_9665b4d91f2b4c8db812647fbe078a0d"
      }
     },
     "ec98033929e24e00a0f8eeaea15a584f": {
      "model_module": "@jupyter-widgets/base",
      "model_module_version": "1.2.0",
      "model_name": "LayoutModel",
      "state": {}
     },
     "ec98a13add974c7182076a81a99e8036": {
      "model_module": "@jupyter-widgets/base",
      "model_module_version": "1.2.0",
      "model_name": "LayoutModel",
      "state": {}
     },
     "eca48d2121ff4dfea114e396e5ce6fcb": {
      "model_module": "@jupyter-widgets/controls",
      "model_module_version": "1.5.0",
      "model_name": "FloatSliderModel",
      "state": {
       "description": "0°",
       "layout": "IPY_MODEL_1066318ddfe34b6f9cc4f02698e5d09d",
       "max": 1,
       "min": -1,
       "step": 0.01,
       "style": "IPY_MODEL_f0445b67e51a42e7853b5ec4267eba2f"
      }
     },
     "ecc14664eeeb44cc8e8ac1dddbdb7e4d": {
      "model_module": "jupyter-matplotlib",
      "model_module_version": "^0.7.2",
      "model_name": "ToolbarModel",
      "state": {
       "layout": "IPY_MODEL_f31efd3eac4d44168b1879092521a22a",
       "toolitems": [
        [
         "Home",
         "Reset original view",
         "home",
         "home"
        ],
        [
         "Back",
         "Back to previous view",
         "arrow-left",
         "back"
        ],
        [
         "Forward",
         "Forward to next view",
         "arrow-right",
         "forward"
        ],
        [
         "Pan",
         "Pan axes with left mouse, zoom with right",
         "arrows",
         "pan"
        ],
        [
         "Zoom",
         "Zoom to rectangle",
         "square-o",
         "zoom"
        ],
        [
         "Download",
         "Download plot",
         "floppy-o",
         "save_figure"
        ]
       ]
      }
     },
     "ed0f53521ab94be086d2f807898d2e7d": {
      "model_module": "@jupyter-widgets/controls",
      "model_module_version": "1.5.0",
      "model_name": "FloatSliderModel",
      "state": {
       "description": "Exposure",
       "layout": "IPY_MODEL_30bc2ed8c6934ddaa37468c203cb9004",
       "max": 8,
       "min": -8,
       "step": 0.1,
       "style": "IPY_MODEL_d83d5268b27c42b8b145fdbe67eed483"
      }
     },
     "ed30c27f0b4c4041bb9bf0a49b576e2a": {
      "model_module": "@jupyter-widgets/controls",
      "model_module_version": "1.5.0",
      "model_name": "CheckboxModel",
      "state": {
       "description": "Disable Medicina",
       "disabled": false,
       "layout": "IPY_MODEL_a2119e4ab7ad4054af109a597849a911",
       "style": "IPY_MODEL_f5b4d04bed904be8828762cdf797fe16",
       "value": false
      }
     },
     "ed33f770b2764a3fb900aca7cc63902c": {
      "model_module": "@jupyter-widgets/controls",
      "model_module_version": "1.5.0",
      "model_name": "FloatSliderModel",
      "state": {
       "description": "0°",
       "layout": "IPY_MODEL_7eb03d5dc6a1422f8fc604804860feef",
       "max": 1,
       "min": -1,
       "step": 0.01,
       "style": "IPY_MODEL_124cdf7bcfda41569f4179072164aeca"
      }
     },
     "ed3a93ce61ad461c92093c4961ed7c2c": {
      "model_module": "@jupyter-widgets/controls",
      "model_module_version": "1.5.0",
      "model_name": "FloatSliderModel",
      "state": {
       "description": "45°",
       "layout": "IPY_MODEL_21db278f1b9d471f9be8652eb36ed7bb",
       "max": 1,
       "min": -1,
       "step": 0.01,
       "style": "IPY_MODEL_80f50417fbb3462f8a9b86123c79d3fd"
      }
     },
     "ed509f626ed249a8aec344a51f5f4c01": {
      "model_module": "@jupyter-widgets/controls",
      "model_module_version": "1.5.0",
      "model_name": "ButtonModel",
      "state": {
       "description": "Reset Saturation Controls",
       "layout": "IPY_MODEL_79a914dbbb1c4d4ca385bcbdfd147d29",
       "style": "IPY_MODEL_3d47a5e243704b7b845a4aeaa789dd09"
      }
     },
     "ed56f865e8bd425d9bf2c0e961789bf6": {
      "model_module": "@jupyter-widgets/controls",
      "model_module_version": "1.5.0",
      "model_name": "VBoxModel",
      "state": {
       "children": [
        "IPY_MODEL_9a205019d4034ec688c0ca69a0b89f7e"
       ],
       "layout": "IPY_MODEL_67d1f2fba52d456b8e072aed49754e73"
      }
     },
     "ed64193fe65447629fc1f5a5d7ab625e": {
      "model_module": "@jupyter-widgets/base",
      "model_module_version": "1.2.0",
      "model_name": "LayoutModel",
      "state": {}
     },
     "ee27e4ef275f45de9a1b4c6314b3dec2": {
      "model_module": "@jupyter-widgets/controls",
      "model_module_version": "1.5.0",
      "model_name": "ButtonStyleModel",
      "state": {}
     },
     "ee2edc84db8d461499c4ac695fabb419": {
      "model_module": "@jupyter-widgets/base",
      "model_module_version": "1.2.0",
      "model_name": "LayoutModel",
      "state": {
       "border": "solid 4px #222",
       "margin": "4px",
       "padding": "0"
      }
     },
     "ee38fc1056704300aae29c38bc1fb3b0": {
      "model_module": "@jupyter-widgets/controls",
      "model_module_version": "1.5.0",
      "model_name": "ButtonModel",
      "state": {
       "description": "Reset Compression Controls",
       "layout": "IPY_MODEL_ec98033929e24e00a0f8eeaea15a584f",
       "style": "IPY_MODEL_2bd3fd4791264537922926a3119f66f2"
      }
     },
     "eed8adc2fce948f7b55df6dcc6da40c5": {
      "model_module": "@jupyter-widgets/controls",
      "model_module_version": "1.5.0",
      "model_name": "ButtonModel",
      "state": {
       "description": "Save Figure",
       "layout": "IPY_MODEL_e789b82630f1448ba1b19f5b38c82c3c",
       "style": "IPY_MODEL_53ad1eeef90e4bd692184ff12b904caf"
      }
     },
     "eee2bf36075a445daa9daa2f90a71488": {
      "model_module": "@jupyter-widgets/base",
      "model_module_version": "1.2.0",
      "model_name": "LayoutModel",
      "state": {}
     },
     "ef0cdbc16766441a897024a26e837cb5": {
      "model_module": "@jupyter-widgets/base",
      "model_module_version": "1.2.0",
      "model_name": "LayoutModel",
      "state": {}
     },
     "ef59cca45d8949ca8ee1a9443cd8694c": {
      "model_module": "@jupyter-widgets/base",
      "model_module_version": "1.2.0",
      "model_name": "LayoutModel",
      "state": {}
     },
     "ef62509a30b9417ea49df0cb6d46136c": {
      "model_module": "@jupyter-widgets/base",
      "model_module_version": "1.2.0",
      "model_name": "LayoutModel",
      "state": {}
     },
     "ef922a0a14024efda86cf5f65e41dd2f": {
      "model_module": "@jupyter-widgets/base",
      "model_module_version": "1.2.0",
      "model_name": "LayoutModel",
      "state": {}
     },
     "ef92abbd5e9a432c836156f9f7bf73d6": {
      "model_module": "@jupyter-widgets/base",
      "model_module_version": "1.2.0",
      "model_name": "LayoutModel",
      "state": {}
     },
     "efb2f26dadf04358a1f35d5851c94b92": {
      "model_module": "@jupyter-widgets/base",
      "model_module_version": "1.2.0",
      "model_name": "LayoutModel",
      "state": {}
     },
     "efba062155014493ba7526aabcfba0d6": {
      "model_module": "@jupyter-widgets/base",
      "model_module_version": "1.2.0",
      "model_name": "LayoutModel",
      "state": {}
     },
     "f0315737f08743fbb5cd4abe0ca98a68": {
      "model_module": "@jupyter-widgets/base",
      "model_module_version": "1.2.0",
      "model_name": "LayoutModel",
      "state": {}
     },
     "f0445b67e51a42e7853b5ec4267eba2f": {
      "model_module": "@jupyter-widgets/controls",
      "model_module_version": "1.5.0",
      "model_name": "SliderStyleModel",
      "state": {
       "description_width": ""
      }
     },
     "f05bba48945c4800be9aeb70b590a978": {
      "model_module": "@jupyter-widgets/controls",
      "model_module_version": "1.5.0",
      "model_name": "ButtonStyleModel",
      "state": {}
     },
     "f0852aa7cedc4b199435f8fe5339b047": {
      "model_module": "jupyter-matplotlib",
      "model_module_version": "^0.7.2",
      "model_name": "ToolbarModel",
      "state": {
       "layout": "IPY_MODEL_3f364703a49f4cdea47a9fdec7b4b351",
       "toolitems": [
        [
         "Home",
         "Reset original view",
         "home",
         "home"
        ],
        [
         "Back",
         "Back to previous view",
         "arrow-left",
         "back"
        ],
        [
         "Forward",
         "Forward to next view",
         "arrow-right",
         "forward"
        ],
        [
         "Pan",
         "Pan axes with left mouse, zoom with right",
         "arrows",
         "pan"
        ],
        [
         "Zoom",
         "Zoom to rectangle",
         "square-o",
         "zoom"
        ],
        [
         "Download",
         "Download plot",
         "floppy-o",
         "save_figure"
        ]
       ]
      }
     },
     "f08e0160d1f34a05ab513ae11be06b0d": {
      "model_module": "@jupyter-widgets/controls",
      "model_module_version": "1.5.0",
      "model_name": "FloatSliderModel",
      "state": {
       "description": "Protected Area Threshold",
       "layout": "IPY_MODEL_12432355ad86450288ee4a6e3fe5c18c",
       "max": 1,
       "step": 0.01,
       "style": "IPY_MODEL_7a096bbb3abe46cc99dc81eb2f40414a",
       "value": 0.7
      }
     },
     "f0a9798470de442f8ce4b94cacfb9350": {
      "model_module": "@jupyter-widgets/base",
      "model_module_version": "1.2.0",
      "model_name": "LayoutModel",
      "state": {}
     },
     "f0bd187cd26b422785284a2827ca0bb3": {
      "model_module": "jupyter-matplotlib",
      "model_module_version": "^0.7.2",
      "model_name": "ToolbarModel",
      "state": {
       "layout": "IPY_MODEL_0d22537470f845dea26014f6b921c1fa",
       "toolitems": [
        [
         "Home",
         "Reset original view",
         "home",
         "home"
        ],
        [
         "Back",
         "Back to previous view",
         "arrow-left",
         "back"
        ],
        [
         "Forward",
         "Forward to next view",
         "arrow-right",
         "forward"
        ],
        [
         "Pan",
         "Pan axes with left mouse, zoom with right",
         "arrows",
         "pan"
        ],
        [
         "Zoom",
         "Zoom to rectangle",
         "square-o",
         "zoom"
        ],
        [
         "Download",
         "Download plot",
         "floppy-o",
         "save_figure"
        ]
       ]
      }
     },
     "f0efa1289ac44c2d8daf2bbf02a34456": {
      "model_module": "@jupyter-widgets/controls",
      "model_module_version": "1.5.0",
      "model_name": "SliderStyleModel",
      "state": {
       "description_width": ""
      }
     },
     "f1260431b8384ea6b4ccb04e019bbc6f": {
      "model_module": "@jupyter-widgets/controls",
      "model_module_version": "1.5.0",
      "model_name": "HBoxModel",
      "state": {
       "children": [
        "IPY_MODEL_15f7f7afdb3342e78dad5083bba132f2",
        "IPY_MODEL_fabc59d137e64782863fa33e3e32a7be"
       ],
       "layout": "IPY_MODEL_34f38ba964224b4bb9b45e98f785f33f"
      }
     },
     "f16dae4819ef45909d87eff45ca7653e": {
      "model_module": "@jupyter-widgets/output",
      "model_module_version": "1.0.0",
      "model_name": "OutputModel",
      "state": {
       "layout": "IPY_MODEL_142a0631a82a46a2b1ce64fb6b83852a",
       "outputs": [
        {
         "data": {
          "application/vnd.jupyter.widget-view+json": {
           "model_id": "abe8321695fb473e8499f460b8f0e0c9",
           "version_major": 2,
           "version_minor": 0
          },
          "text/plain": "Canvas(toolbar=Toolbar(toolitems=[('Home', 'Reset original view', 'home', 'home'), ('Back', 'Back to previous …"
         },
         "metadata": {},
         "output_type": "display_data"
        }
       ]
      }
     },
     "f179c99df3034329a79b54763d9557af": {
      "model_module": "@jupyter-widgets/base",
      "model_module_version": "1.2.0",
      "model_name": "LayoutModel",
      "state": {}
     },
     "f18dc33f50d64a92971c131e0e3a15ac": {
      "model_module": "@jupyter-widgets/controls",
      "model_module_version": "1.5.0",
      "model_name": "ButtonModel",
      "state": {
       "description": "Export Image",
       "layout": "IPY_MODEL_1d8d495b704a4c08a7bf2ec89ed5b98d",
       "style": "IPY_MODEL_18fcd4e4238e42d38be2b5e438ab576a"
      }
     },
     "f1d60902d3c640f1a2abfcacdd988800": {
      "model_module": "jupyter-matplotlib",
      "model_module_version": "^0.7.2",
      "model_name": "ToolbarModel",
      "state": {
       "layout": "IPY_MODEL_0b5e2b6aa0364766a9b923c9efb2d0f3",
       "toolitems": [
        [
         "Home",
         "Reset original view",
         "home",
         "home"
        ],
        [
         "Back",
         "Back to previous view",
         "arrow-left",
         "back"
        ],
        [
         "Forward",
         "Forward to next view",
         "arrow-right",
         "forward"
        ],
        [
         "Pan",
         "Pan axes with left mouse, zoom with right",
         "arrows",
         "pan"
        ],
        [
         "Zoom",
         "Zoom to rectangle",
         "square-o",
         "zoom"
        ],
        [
         "Download",
         "Download plot",
         "floppy-o",
         "save_figure"
        ]
       ]
      }
     },
     "f1f995af93e74957af7cfa091cf8f7a1": {
      "model_module": "@jupyter-widgets/controls",
      "model_module_version": "1.5.0",
      "model_name": "TabModel",
      "state": {
       "_titles": {
        "0": "Global Controls"
       },
       "children": [
        "IPY_MODEL_2424784c14684b0199b9c4a5620496b7"
       ],
       "layout": "IPY_MODEL_65b9a9891bf74d6aa6acfc8785910a05"
      }
     },
     "f20dc916aab04d43a59fa10d2f734360": {
      "model_module": "@jupyter-widgets/base",
      "model_module_version": "1.2.0",
      "model_name": "LayoutModel",
      "state": {}
     },
     "f21ece2e702a430889a3040e560c33f4": {
      "model_module": "@jupyter-widgets/base",
      "model_module_version": "1.2.0",
      "model_name": "LayoutModel",
      "state": {}
     },
     "f22bf286028643cbbb7d4dc224e7b58e": {
      "model_module": "@jupyter-widgets/base",
      "model_module_version": "1.2.0",
      "model_name": "LayoutModel",
      "state": {}
     },
     "f27c2288d4de4b25ad2a50bd1e126e76": {
      "model_module": "@jupyter-widgets/controls",
      "model_module_version": "1.5.0",
      "model_name": "SliderStyleModel",
      "state": {
       "description_width": ""
      }
     },
     "f28de3df7f5947dc9d4366a6aac5ce24": {
      "model_module": "@jupyter-widgets/controls",
      "model_module_version": "1.5.0",
      "model_name": "SliderStyleModel",
      "state": {
       "description_width": ""
      }
     },
     "f290a5f5e85b4cb58a1ba065fba5d5c3": {
      "model_module": "@jupyter-widgets/base",
      "model_module_version": "1.2.0",
      "model_name": "LayoutModel",
      "state": {}
     },
     "f2a54093154a4e5d84e3d24c07542804": {
      "model_module": "@jupyter-widgets/base",
      "model_module_version": "1.2.0",
      "model_name": "LayoutModel",
      "state": {
       "border": "solid 4px #222",
       "margin": "4px",
       "padding": "0"
      }
     },
     "f2ba9c653122498194c377aa5c194d74": {
      "model_module": "@jupyter-widgets/controls",
      "model_module_version": "1.5.0",
      "model_name": "SliderStyleModel",
      "state": {
       "description_width": ""
      }
     },
     "f316d4df03a74f9aa2f894983055b4c5": {
      "model_module": "@jupyter-widgets/controls",
      "model_module_version": "1.5.0",
      "model_name": "FloatSliderModel",
      "state": {
       "description": "135°",
       "layout": "IPY_MODEL_624e6ce7e3db4cc6af64de76dcdcc12b",
       "max": 1,
       "min": -1,
       "step": 0.01,
       "style": "IPY_MODEL_3340ee5acd9a403d89e2a1513701a928"
      }
     },
     "f31efd3eac4d44168b1879092521a22a": {
      "model_module": "@jupyter-widgets/base",
      "model_module_version": "1.2.0",
      "model_name": "LayoutModel",
      "state": {}
     },
     "f3a559040e144719a75b4870fe32de2b": {
      "model_module": "@jupyter-widgets/base",
      "model_module_version": "1.2.0",
      "model_name": "LayoutModel",
      "state": {}
     },
     "f3ab6af4bffc4193b99362b3c2047f70": {
      "model_module": "@jupyter-widgets/controls",
      "model_module_version": "1.5.0",
      "model_name": "HBoxModel",
      "state": {
       "children": [
        "IPY_MODEL_362df6b3d95648f1ac9e36def5d41faf",
        "IPY_MODEL_df3af984cf334fcd95a09dbb12331207",
        "IPY_MODEL_b201c4dca7014523bdb6fcd2ae0701e6",
        "IPY_MODEL_6de1db1ba931462881f7a446fa0ac86d"
       ],
       "layout": "IPY_MODEL_c57aa0e83bb5463f93f7903ac3857903"
      }
     },
     "f3ed6f40dd4845a993502c8cc3e4ac59": {
      "model_module": "@jupyter-widgets/controls",
      "model_module_version": "1.5.0",
      "model_name": "VBoxModel",
      "state": {
       "children": [
        "IPY_MODEL_7ca5370505dd4e1285c58af676c94c1f",
        "IPY_MODEL_f47a4900b6954fd1a2cdbb2e1fe5b4e5",
        "IPY_MODEL_32b8c836fcbc4377ada465f018008bef"
       ],
       "layout": "IPY_MODEL_46a4bc3bdf9f43deba01b023dce9e26a"
      }
     },
     "f42dc65cbeb54342854cda02498de1ae": {
      "model_module": "@jupyter-widgets/base",
      "model_module_version": "1.2.0",
      "model_name": "LayoutModel",
      "state": {}
     },
     "f448079fdf6848e39ef0b2159515d7ca": {
      "model_module": "@jupyter-widgets/controls",
      "model_module_version": "1.5.0",
      "model_name": "FloatSliderModel",
      "state": {
       "description": "225°",
       "layout": "IPY_MODEL_53788decab01405ebaf6646b912baca3",
       "max": 1,
       "min": -1,
       "step": 0.01,
       "style": "IPY_MODEL_8ad4b4913e0a4423b36d46800bc584c6"
      }
     },
     "f4514fbe70b8416e9d83ad5207bae045": {
      "model_module": "@jupyter-widgets/base",
      "model_module_version": "1.2.0",
      "model_name": "LayoutModel",
      "state": {}
     },
     "f45c9a7ea79d4eea8b21f11008ff9a8e": {
      "model_module": "@jupyter-widgets/base",
      "model_module_version": "1.2.0",
      "model_name": "LayoutModel",
      "state": {}
     },
     "f47a4900b6954fd1a2cdbb2e1fe5b4e5": {
      "model_module": "@jupyter-widgets/controls",
      "model_module_version": "1.5.0",
      "model_name": "FloatSliderModel",
      "state": {
       "description": "45°",
       "layout": "IPY_MODEL_12bcc6667eea4fc2be952a94fc44a7f8",
       "max": 1,
       "min": -1,
       "step": 0.01,
       "style": "IPY_MODEL_c12d37cd63d54739b5744ba555ed8455"
      }
     },
     "f47fcb98a33244f090ab505c21c54c6b": {
      "model_module": "@jupyter-widgets/base",
      "model_module_version": "1.2.0",
      "model_name": "LayoutModel",
      "state": {}
     },
     "f4c2da971f514442aab996637dea80bb": {
      "model_module": "@jupyter-widgets/base",
      "model_module_version": "1.2.0",
      "model_name": "LayoutModel",
      "state": {}
     },
     "f4d274f5963743ab98ff370566dedba3": {
      "model_module": "@jupyter-widgets/base",
      "model_module_version": "1.2.0",
      "model_name": "LayoutModel",
      "state": {}
     },
     "f59d44ea13464acb85f946d716bfcb1d": {
      "model_module": "@jupyter-widgets/base",
      "model_module_version": "1.2.0",
      "model_name": "LayoutModel",
      "state": {}
     },
     "f5a4f1cddb7c43149ebe60d5d1462a46": {
      "model_module": "@jupyter-widgets/base",
      "model_module_version": "1.2.0",
      "model_name": "LayoutModel",
      "state": {}
     },
     "f5b4d04bed904be8828762cdf797fe16": {
      "model_module": "@jupyter-widgets/controls",
      "model_module_version": "1.5.0",
      "model_name": "DescriptionStyleModel",
      "state": {
       "description_width": ""
      }
     },
     "f5f96cbbf1794638bab12a4cbf45a14f": {
      "model_module": "@jupyter-widgets/controls",
      "model_module_version": "1.5.0",
      "model_name": "TabModel",
      "state": {
       "_titles": {
        "0": "Global Controls",
        "1": "Protected Area Controls",
        "2": "Saturation Controls",
        "3": "Hue Controls"
       },
       "children": [
        "IPY_MODEL_a0ce715800fc485483d1480c3ec31ef8",
        "IPY_MODEL_db06c62a5cd5415896ae1f1a30f2260e",
        "IPY_MODEL_692e85e6dc2d4a4f870244f79c81a27c",
        "IPY_MODEL_8d2dee80173c40e09cd2a0f5372554ba"
       ],
       "layout": "IPY_MODEL_180bcacc35e7478685d13a028ce96ff1"
      }
     },
     "f5fc19defacb4af49d208e5bab76f337": {
      "model_module": "@jupyter-widgets/controls",
      "model_module_version": "1.5.0",
      "model_name": "SliderStyleModel",
      "state": {
       "description_width": ""
      }
     },
     "f63edb6eef48481c98c705e78db616f3": {
      "model_module": "@jupyter-widgets/controls",
      "model_module_version": "1.5.0",
      "model_name": "DropdownModel",
      "state": {
       "_options_labels": [
        "tanh",
        "atan",
        "simple"
       ],
       "description": "Compression Function:",
       "index": 0,
       "layout": "IPY_MODEL_a0e52a094c2b4cd38a580321b4122f3f",
       "style": "IPY_MODEL_de67336fa8b34b67b920e2dd418ede87"
      }
     },
     "f67677d6479448bfa974e78b83fcb3e1": {
      "model_module": "@jupyter-widgets/controls",
      "model_module_version": "1.5.0",
      "model_name": "TabModel",
      "state": {
       "_titles": {
        "0": "Global Controls",
        "1": "Protected Area Controls",
        "2": "Saturation Controls",
        "3": "Hue Controls"
       },
       "children": [
        "IPY_MODEL_689fb37ad8b34d6fa25c4814383a1fb8",
        "IPY_MODEL_da9226659b6a478d965bbcf8bd194c1e",
        "IPY_MODEL_2d033fe5452c498a86f787d7772e784e",
        "IPY_MODEL_d32d917c7f144a64a216b7d3b913229d"
       ],
       "layout": "IPY_MODEL_9d9e857430874e1196e39564e07d2afc"
      }
     },
     "f6b1636b663f489c99a86a1df05529de": {
      "model_module": "@jupyter-widgets/base",
      "model_module_version": "1.2.0",
      "model_name": "LayoutModel",
      "state": {}
     },
     "f714e9e2e8444c069a9b4a9029499793": {
      "model_module": "@jupyter-widgets/controls",
      "model_module_version": "1.5.0",
      "model_name": "DescriptionStyleModel",
      "state": {
       "description_width": ""
      }
     },
     "f7233225616b4ae58708554556df5ccc": {
      "model_module": "@jupyter-widgets/controls",
      "model_module_version": "1.5.0",
      "model_name": "FloatSliderModel",
      "state": {
       "description": "135°",
       "layout": "IPY_MODEL_36b24cc62c1a45af8eba39b766e58a35",
       "max": 1,
       "min": -1,
       "step": 0.01,
       "style": "IPY_MODEL_6e52b8abf8724fe094ba26731621dea5"
      }
     },
     "f74d3718b4e9472cb220e62410c29265": {
      "model_module": "@jupyter-widgets/controls",
      "model_module_version": "1.5.0",
      "model_name": "SliderStyleModel",
      "state": {
       "description_width": ""
      }
     },
     "f75d728caebb4481a0b97936b625ebce": {
      "model_module": "@jupyter-widgets/base",
      "model_module_version": "1.2.0",
      "model_name": "LayoutModel",
      "state": {}
     },
     "f7e20c1adb034846bc9ab27cf8b2b49c": {
      "model_module": "@jupyter-widgets/base",
      "model_module_version": "1.2.0",
      "model_name": "LayoutModel",
      "state": {}
     },
     "f84b31d2314944feb2ae39f2d750e120": {
      "model_module": "@jupyter-widgets/controls",
      "model_module_version": "1.5.0",
      "model_name": "SliderStyleModel",
      "state": {
       "description_width": ""
      }
     },
     "f89d87d4dc994fab9f0396d60afd03b5": {
      "model_module": "@jupyter-widgets/base",
      "model_module_version": "1.2.0",
      "model_name": "LayoutModel",
      "state": {}
     },
     "f89f2638f9534958adb1d4289dad4179": {
      "model_module": "@jupyter-widgets/base",
      "model_module_version": "1.2.0",
      "model_name": "LayoutModel",
      "state": {}
     },
     "f8d532b5e04249809ceb90b42bb0d3dc": {
      "model_module": "@jupyter-widgets/base",
      "model_module_version": "1.2.0",
      "model_name": "LayoutModel",
      "state": {}
     },
     "f8db2ad8b71549bda6b5b8a089f7dd38": {
      "model_module": "@jupyter-widgets/base",
      "model_module_version": "1.2.0",
      "model_name": "LayoutModel",
      "state": {
       "border": "solid 4px #222",
       "margin": "4px",
       "padding": "0"
      }
     },
     "f8f5cfd74b154045a643ee450aff9f20": {
      "model_module": "@jupyter-widgets/controls",
      "model_module_version": "1.5.0",
      "model_name": "FloatSliderModel",
      "state": {
       "description": "135°",
       "layout": "IPY_MODEL_2ac0e6e4c43241f59c8062c5efb2ea42",
       "max": 1,
       "min": -1,
       "step": 0.01,
       "style": "IPY_MODEL_8f28220c9da441bca6067e3417adb737"
      }
     },
     "f90259719ecd41919da9d7a0e466880b": {
      "model_module": "@jupyter-widgets/controls",
      "model_module_version": "1.5.0",
      "model_name": "VBoxModel",
      "state": {
       "children": [
        "IPY_MODEL_bc0c582cfaec45a28fd365887afebebd",
        "IPY_MODEL_694c74b4c42b484c908530512386b519",
        "IPY_MODEL_e6ced2bf7992423fa43e8e80bc1f37f5"
       ],
       "layout": "IPY_MODEL_1d018bb039654dd8b9163a87f6434efb"
      }
     },
     "f935a69c82b445009f088f86c46c3a6d": {
      "model_module": "@jupyter-widgets/base",
      "model_module_version": "1.2.0",
      "model_name": "LayoutModel",
      "state": {
       "align_items": "stretch",
       "display": "flex",
       "flex_flow": "column",
       "width": "1128px"
      }
     },
     "f95115a4dcf7473ea7278eccfa96393c": {
      "model_module": "@jupyter-widgets/base",
      "model_module_version": "1.2.0",
      "model_name": "LayoutModel",
      "state": {
       "border": "solid 4px #222",
       "margin": "4px",
       "padding": "0"
      }
     },
     "f976295186d4421d8ced46e8e547a3c9": {
      "model_module": "jupyter-matplotlib",
      "model_module_version": "^0.7.2",
      "model_name": "MPLCanvasModel",
      "state": {
       "_figure_label": "Figure 23",
       "_height": 440,
       "_image_mode": "diff",
       "_width": 1100,
       "header_visible": false,
       "layout": "IPY_MODEL_815cac4f432a41a7a9b814c246a6c635",
       "resizable": false,
       "toolbar": "IPY_MODEL_7138d701822c46de943f87e0187c0607",
       "toolbar_position": "left",
       "toolbar_visible": false
      }
     },
     "f97d8a6df2844499a3fee28023d58ab3": {
      "model_module": "@jupyter-widgets/controls",
      "model_module_version": "1.5.0",
      "model_name": "FloatSliderModel",
      "state": {
       "description": "45°",
       "layout": "IPY_MODEL_d91c134d54714ade9e8621da9f2ad912",
       "max": 1,
       "min": -1,
       "step": 0.01,
       "style": "IPY_MODEL_c65cb080d6e249d48f494234ce4bf7d0"
      }
     },
     "f9c2cec9046f4376933300743f3498a4": {
      "model_module": "@jupyter-widgets/controls",
      "model_module_version": "1.5.0",
      "model_name": "ButtonModel",
      "state": {
       "description": "Save Figure",
       "layout": "IPY_MODEL_d367860e669c4471a6a4792cfb71112d",
       "style": "IPY_MODEL_8fa5b51a9b8f49d3be77a8d79cc66568"
      }
     },
     "f9ea2dca4fa646e9a3ec0ffe838e24a3": {
      "model_module": "@jupyter-widgets/controls",
      "model_module_version": "1.5.0",
      "model_name": "ButtonStyleModel",
      "state": {}
     },
     "fa350d4762444ba79699cf78443da04d": {
      "model_module": "@jupyter-widgets/controls",
      "model_module_version": "1.5.0",
      "model_name": "FloatSliderModel",
      "state": {
       "description": "180°",
       "layout": "IPY_MODEL_d523883668544a3a9909b07711df8689",
       "max": 1,
       "min": -1,
       "step": 0.01,
       "style": "IPY_MODEL_8f5cee1a9a884f0199e3a8c9233596a1"
      }
     },
     "fa43ed30a3624953b762021dae07cbf7": {
      "model_module": "@jupyter-widgets/base",
      "model_module_version": "1.2.0",
      "model_name": "LayoutModel",
      "state": {}
     },
     "fa7543efe7c54e20938f75a1cde34e21": {
      "model_module": "@jupyter-widgets/base",
      "model_module_version": "1.2.0",
      "model_name": "LayoutModel",
      "state": {
       "border": "solid 4px #222",
       "margin": "4px",
       "padding": "0"
      }
     },
     "fa79da2d06d74b8688ecdc02dfb5ecbd": {
      "model_module": "@jupyter-widgets/controls",
      "model_module_version": "1.5.0",
      "model_name": "SliderStyleModel",
      "state": {
       "description_width": ""
      }
     },
     "fa84f1a7e5d24b788e5ca9230d3e92ad": {
      "model_module": "@jupyter-widgets/controls",
      "model_module_version": "1.5.0",
      "model_name": "SliderStyleModel",
      "state": {
       "description_width": ""
      }
     },
     "fabc59d137e64782863fa33e3e32a7be": {
      "model_module": "@jupyter-widgets/controls",
      "model_module_version": "1.5.0",
      "model_name": "FloatSliderModel",
      "state": {
       "description": "Protected Area Threshold",
       "layout": "IPY_MODEL_876a663432414130a5396f3938aa4356",
       "max": 1,
       "step": 0.01,
       "style": "IPY_MODEL_af6b2536a6bb456f8d01a262e4178fd1",
       "value": 0.7
      }
     },
     "fb2cecc0137c47548e3d5e3529dcfc3f": {
      "model_module": "@jupyter-widgets/base",
      "model_module_version": "1.2.0",
      "model_name": "LayoutModel",
      "state": {
       "align_items": "stretch",
       "display": "flex",
       "flex_flow": "column",
       "width": "1128px"
      }
     },
     "fb52c2edde8f4b9d857769bb1f8dedb9": {
      "model_module": "@jupyter-widgets/base",
      "model_module_version": "1.2.0",
      "model_name": "LayoutModel",
      "state": {
       "border": "solid 4px #222",
       "margin": "4px",
       "padding": "0"
      }
     },
     "fbaa9febc9844b95bf7013f9c9cff376": {
      "model_module": "@jupyter-widgets/controls",
      "model_module_version": "1.5.0",
      "model_name": "ButtonModel",
      "state": {
       "description": "Reset Compression Controls",
       "layout": "IPY_MODEL_6e7ee817b6474486a518fdbf9d9d6d3b",
       "style": "IPY_MODEL_ea0c93497c8641bfb935ce88033caa36"
      }
     },
     "fbf8c3ff324744d0a6bb37c1ccd2938f": {
      "model_module": "@jupyter-widgets/controls",
      "model_module_version": "1.5.0",
      "model_name": "FloatSliderModel",
      "state": {
       "description": "45°",
       "layout": "IPY_MODEL_53c70b2cc08b4ddb94f1572518c2990a",
       "max": 1,
       "min": -1,
       "step": 0.01,
       "style": "IPY_MODEL_fa84f1a7e5d24b788e5ca9230d3e92ad"
      }
     },
     "fc427dd6eaf548f98535f5779b31cd1b": {
      "model_module": "@jupyter-widgets/base",
      "model_module_version": "1.2.0",
      "model_name": "LayoutModel",
      "state": {}
     },
     "fc95b6a21d5440a1b970a119df3a2d25": {
      "model_module": "@jupyter-widgets/controls",
      "model_module_version": "1.5.0",
      "model_name": "BoxModel",
      "state": {
       "children": [
        "IPY_MODEL_64bce4658a304c9babade1a7201f9e9e",
        "IPY_MODEL_502419d76b734d288668c265018d4f24"
       ],
       "layout": "IPY_MODEL_3e52cbd73aed4a90accd8cf2b0f98391"
      }
     },
     "fca7b5b79f1a43b181f4d533e07a3ce3": {
      "model_module": "@jupyter-widgets/controls",
      "model_module_version": "1.5.0",
      "model_name": "VBoxModel",
      "state": {
       "children": [
        "IPY_MODEL_594e2ea5f64b4718a3f19645092dbc3a"
       ],
       "layout": "IPY_MODEL_330b053676194a87a1b3952f8dbdaebb"
      }
     },
     "fcac1d7a780348f88be95491d8dcaad8": {
      "model_module": "@jupyter-widgets/base",
      "model_module_version": "1.2.0",
      "model_name": "LayoutModel",
      "state": {}
     },
     "fcb96e809a22475db2a7372a1973ad6d": {
      "model_module": "@jupyter-widgets/base",
      "model_module_version": "1.2.0",
      "model_name": "LayoutModel",
      "state": {}
     },
     "fcbb566c83204f3dbd38cae0c16f141e": {
      "model_module": "@jupyter-widgets/base",
      "model_module_version": "1.2.0",
      "model_name": "LayoutModel",
      "state": {}
     },
     "fd138e7daf844c33860c21626db8dd77": {
      "model_module": "@jupyter-widgets/base",
      "model_module_version": "1.2.0",
      "model_name": "LayoutModel",
      "state": {}
     },
     "fddb089d022c4f88a07051d45d511f76": {
      "model_module": "@jupyter-widgets/base",
      "model_module_version": "1.2.0",
      "model_name": "LayoutModel",
      "state": {}
     },
     "fe0409e1806040979c523e017aeeac86": {
      "model_module": "@jupyter-widgets/controls",
      "model_module_version": "1.5.0",
      "model_name": "SliderStyleModel",
      "state": {
       "description_width": ""
      }
     },
     "fe15a6cb01c14b74b62572fb5db237e7": {
      "model_module": "@jupyter-widgets/base",
      "model_module_version": "1.2.0",
      "model_name": "LayoutModel",
      "state": {}
     },
     "fe22eea68abb4ece9d40ac30d49ada42": {
      "model_module": "@jupyter-widgets/base",
      "model_module_version": "1.2.0",
      "model_name": "LayoutModel",
      "state": {
       "border": "solid 4px #222",
       "margin": "4px",
       "padding": "0"
      }
     },
     "fe3b219669a5456fbb617c773db32614": {
      "model_module": "@jupyter-widgets/base",
      "model_module_version": "1.2.0",
      "model_name": "LayoutModel",
      "state": {}
     },
     "fe77732d84ea445983c51579af3b34c1": {
      "model_module": "@jupyter-widgets/controls",
      "model_module_version": "1.5.0",
      "model_name": "FloatSliderModel",
      "state": {
       "description": "225°",
       "layout": "IPY_MODEL_b8051d1d01f74ec1be2e1173bc161f08",
       "max": 1,
       "min": -1,
       "step": 0.01,
       "style": "IPY_MODEL_536c4819f29547acbe4b830c1a2c8d88"
      }
     },
     "fe8ce0797cbe4003a3db648fe4e5c26d": {
      "model_module": "@jupyter-widgets/controls",
      "model_module_version": "1.5.0",
      "model_name": "ButtonModel",
      "state": {
       "description": "Export Image",
       "layout": "IPY_MODEL_5997f187f92343bc9fe39685182af6a1",
       "style": "IPY_MODEL_c3e92318715c402fb4978058d933f257"
      }
     },
     "fe8ec05935d34c77a0f4d01ebc94db1a": {
      "model_module": "@jupyter-widgets/controls",
      "model_module_version": "1.5.0",
      "model_name": "SliderStyleModel",
      "state": {
       "description_width": ""
      }
     },
     "fea73151b7fd413693c12211d03559c0": {
      "model_module": "@jupyter-widgets/base",
      "model_module_version": "1.2.0",
      "model_name": "LayoutModel",
      "state": {}
     },
     "fecb572ac4f2482b958d50e57912b0c6": {
      "model_module": "@jupyter-widgets/controls",
      "model_module_version": "1.5.0",
      "model_name": "ButtonModel",
      "state": {
       "description": "Reset Hue Controls",
       "layout": "IPY_MODEL_3fb35cdcd2ab4a5480f22bc008d64275",
       "style": "IPY_MODEL_1e2ca93d44b94a2db0fde7b5f6d45ced"
      }
     },
     "fee7e16eff3c4b2a9c6cd8830c0e5e44": {
      "model_module": "@jupyter-widgets/controls",
      "model_module_version": "1.5.0",
      "model_name": "ButtonStyleModel",
      "state": {}
     },
     "fef49115b8ea46fea98c9d4b0d4b44b0": {
      "model_module": "@jupyter-widgets/base",
      "model_module_version": "1.2.0",
      "model_name": "LayoutModel",
      "state": {}
     },
     "ff03be7cab584ba997ada8ae88cc8baa": {
      "model_module": "@jupyter-widgets/controls",
      "model_module_version": "1.5.0",
      "model_name": "ButtonModel",
      "state": {
       "description": "Reset Protected Area",
       "layout": "IPY_MODEL_45b6763015034513bb6ab6fce4de0e9d",
       "style": "IPY_MODEL_3c5630a99b724cbd9ef7b20ffaf64e8d"
      }
     },
     "ff14b824817c4d0fb634b7ee6799478c": {
      "model_module": "@jupyter-widgets/base",
      "model_module_version": "1.2.0",
      "model_name": "LayoutModel",
      "state": {}
     },
     "ff9fea79024c456095205b161293793d": {
      "model_module": "@jupyter-widgets/controls",
      "model_module_version": "1.5.0",
      "model_name": "DescriptionStyleModel",
      "state": {
       "description_width": ""
      }
     },
     "ffbe2ac2d2d642fa9690db1803dba719": {
      "model_module": "@jupyter-widgets/controls",
      "model_module_version": "1.5.0",
      "model_name": "ButtonModel",
      "state": {
       "description": "Save Figure",
       "layout": "IPY_MODEL_a009f58d6cd6450980b5c06556a6957e",
       "style": "IPY_MODEL_8cda4a8b5bb64b1c8563a846b360947b"
      }
     },
     "ffd5b22857ff430c81c26d24cd33f797": {
      "model_module": "@jupyter-widgets/controls",
      "model_module_version": "1.5.0",
      "model_name": "HBoxModel",
      "state": {
       "children": [
        "IPY_MODEL_70e412c06acb4778bfa5f80d1c6458df",
        "IPY_MODEL_14adc636266f442b8559728d7e05581d",
        "IPY_MODEL_104776074cf8452b98ef063dd1e9cdd7",
        "IPY_MODEL_6b0542249b294428afa14ff414a1b199"
       ],
       "layout": "IPY_MODEL_db190a2731a040bb96ff32d6e11e854e"
      }
     },
     "fff2975b37834cdfb105ab2e6b02fc0c": {
      "model_module": "@jupyter-widgets/controls",
      "model_module_version": "1.5.0",
      "model_name": "ButtonStyleModel",
      "state": {}
     }
    },
    "version_major": 2,
    "version_minor": 0
   }
  }
 },
 "nbformat": 4,
 "nbformat_minor": 4
}
