{
 "cells": [
  {
   "cell_type": "markdown",
   "metadata": {
    "colab_type": "text",
    "id": "pRS6nhpu1R6y"
   },
   "source": [
    "# Gamut Mapping - Medicina 01"
   ]
  },
  {
   "cell_type": "code",
   "execution_count": 1,
   "metadata": {},
   "outputs": [],
   "source": [
    "%matplotlib widget"
   ]
  },
  {
   "cell_type": "code",
   "execution_count": 2,
   "metadata": {
    "colab": {
     "base_uri": "https://localhost:8080/",
     "height": 340
    },
    "colab_type": "code",
    "id": "OydMmtZRxd3c",
    "outputId": "297a43b9-f566-405d-e8bc-cfae56b50959"
   },
   "outputs": [
    {
     "name": "stdout",
     "output_type": "stream",
     "text": [
      "===============================================================================\n",
      "*                                                                             *\n",
      "*   Interpreter :                                                             *\n",
      "*       python : 3.7.6 (default, Dec 30 2019, 19:38:26)                       *\n",
      "*                [Clang 11.0.0 (clang-1100.0.33.16)]                          *\n",
      "*                                                                             *\n",
      "*   colour-science.org :                                                      *\n",
      "*       colour : v0.3.15-126-gd9ef0a5a                                        *\n",
      "*                                                                             *\n",
      "*   Runtime :                                                                 *\n",
      "*       imageio : 2.8.0                                                       *\n",
      "*       matplotlib : 3.0.3                                                    *\n",
      "*       numpy : 1.18.4                                                        *\n",
      "*       scipy : 1.4.1                                                         *\n",
      "*       six : 1.14.0                                                          *\n",
      "*                                                                             *\n",
      "===============================================================================\n"
     ]
    }
   ],
   "source": [
    "from __future__ import division, unicode_literals\n",
    "\n",
    "import colour\n",
    "import ipympl.backend_nbagg\n",
    "import ipywidgets\n",
    "import matplotlib.gridspec as gridspec\n",
    "import matplotlib.pyplot as plt\n",
    "import numpy as np\n",
    "import os\n",
    "import scipy.interpolate\n",
    "from matplotlib.collections import PathCollection\n",
    "from matplotlib._layoutbox import plot_children\n",
    "\n",
    "COLOUR_STYLE = colour.plotting.colour_style()\n",
    "COLOUR_STYLE.update({\n",
    "    'legend.framealpha':\n",
    "    colour.plotting.COLOUR_STYLE_CONSTANTS.opacity.low\n",
    "})\n",
    "\n",
    "plt.style.use(COLOUR_STYLE)\n",
    "\n",
    "plt.style.use('dark_background')\n",
    "\n",
    "colour.utilities.describe_environment()\n",
    "\n",
    "colour.utilities.filter_warnings(*[True] * 4)"
   ]
  },
  {
   "cell_type": "markdown",
   "metadata": {},
   "source": [
    "## Widgets Styling"
   ]
  },
  {
   "cell_type": "code",
   "execution_count": 3,
   "metadata": {},
   "outputs": [
    {
     "data": {
      "text/html": [
       "<style>\n",
       ".widget-button {\n",
       "    margin-left: 10px;\n",
       "    margin-right: 10px;\n",
       "}\n",
       "</style>\n"
      ],
      "text/plain": [
       "<IPython.core.display.HTML object>"
      ]
     },
     "metadata": {},
     "output_type": "display_data"
    }
   ],
   "source": [
    "%%html\n",
    "<style>\n",
    ".widget-button {\n",
    "    margin-left: 10px;\n",
    "    margin-right: 10px;\n",
    "}\n",
    "</style>"
   ]
  },
  {
   "cell_type": "markdown",
   "metadata": {
    "colab_type": "text",
    "id": "5yCeFpnnp_wh"
   },
   "source": [
    "## Colour Wheel Generation"
   ]
  },
  {
   "cell_type": "code",
   "execution_count": 4,
   "metadata": {
    "colab": {},
    "colab_type": "code",
    "id": "RshonIbOI4Ij"
   },
   "outputs": [],
   "source": [
    "def colour_wheel(samples=1024, clip_circle=True, method='Colour'):\n",
    "    xx, yy = np.meshgrid(\n",
    "        np.linspace(-1, 1, samples), np.linspace(-1, 1, samples))\n",
    "\n",
    "    S = np.sqrt(xx ** 2 + yy ** 2)    \n",
    "    H = (np.arctan2(xx, yy) + np.pi) / (np.pi * 2)\n",
    "\n",
    "    HSV = colour.utilities.tstack([H, S, np.ones(H.shape)])\n",
    "    RGB = colour.HSV_to_RGB(HSV)\n",
    "\n",
    "    if clip_circle == True:\n",
    "        RGB[S > 1] = 0\n",
    "        A = np.where(S > 1, 0, 1)\n",
    "    else:\n",
    "        A = np.ones(S.shape)\n",
    "\n",
    "    if method.lower()== 'matplotlib':\n",
    "        RGB = colour.utilities.orient(RGB, '90 CW')\n",
    "    elif method.lower()== 'nuke':\n",
    "        RGB = colour.utilities.orient(RGB, 'Flip')\n",
    "        RGB = colour.utilities.orient(RGB, '90 CW')\n",
    "\n",
    "    R, G, B = colour.utilities.tsplit(RGB)\n",
    "    \n",
    "    return colour.utilities.tstack([R, G, B, A])"
   ]
  },
  {
   "cell_type": "markdown",
   "metadata": {},
   "source": [
    "## Utility Functions & Objects"
   ]
  },
  {
   "cell_type": "code",
   "execution_count": 5,
   "metadata": {},
   "outputs": [],
   "source": [
    "DEFAULT_BOX_DECORATION_WIDTH = 4\n",
    "MPL_BOX_DECORATION_WIDTH = 28\n",
    "\n",
    "\n",
    "def batch(sequence, count):\n",
    "    for i in range(0, len(sequence), count):\n",
    "        yield sequence[i:i + count]\n",
    "        \n",
    "\n",
    "def border_layout():\n",
    "    return ipywidgets.widgets.Layout(\n",
    "        border='solid {0}px #222'.format(4),\n",
    "        margin='{0}px'.format(DEFAULT_BOX_DECORATION_WIDTH),\n",
    "        padding='0')"
   ]
  },
  {
   "cell_type": "markdown",
   "metadata": {},
   "source": [
    "## Gamut Medicina Base"
   ]
  },
  {
   "cell_type": "code",
   "execution_count": 6,
   "metadata": {},
   "outputs": [
    {
     "data": {
      "application/vnd.jupyter.widget-view+json": {
       "model_id": "e5f206da86ed445da8ffd374e55b5f7c",
       "version_major": 2,
       "version_minor": 0
      },
      "text/plain": [
       "GamutMedicinaBaseWidget(children=(Output(layout=Layout(border='solid 4px #222', margin='4px', padding='0')), T…"
      ]
     },
     "metadata": {},
     "output_type": "display_data"
    }
   ],
   "source": [
    "class GamutMedicinaBaseWidget(ipywidgets.widgets.Box):\n",
    "    def __init__(self,\n",
    "                 reference_image_path=None,\n",
    "                 working_space=colour.models.ACES_CG_COLOURSPACE,\n",
    "                 reference_space=colour.models.ACES_2065_1_COLOURSPACE,\n",
    "                 display_space=colour.models.sRGB_COLOURSPACE,\n",
    "                 colour_wheel_samples=256,\n",
    "                 image_decimation=20,\n",
    "                 figure_size=(11, None),\n",
    "                 padding=0.005,\n",
    "                 spacing=0.005,\n",
    "                 show_labels=False,\n",
    "                 enable_colour_wheel=True,\n",
    "                 enable_chromaticity_diagram=True,\n",
    "                 debug_layout=False):\n",
    "        super().__init__()\n",
    "\n",
    "        self._reference_image_path = reference_image_path\n",
    "        self._working_space = working_space\n",
    "        self._reference_space = reference_space\n",
    "        self._display_space = display_space\n",
    "        self._colour_wheel_samples = colour_wheel_samples\n",
    "        self._image_decimation = image_decimation\n",
    "        self._figure_size = figure_size\n",
    "        self._padding = padding\n",
    "        self._spacing = spacing\n",
    "        self._show_labels = show_labels\n",
    "        self._enable_colour_wheel = enable_colour_wheel\n",
    "        self._enable_chromaticity_diagram = enable_chromaticity_diagram\n",
    "\n",
    "        self._enable = True\n",
    "\n",
    "        self._reference_image = None\n",
    "        self._reference_image_working = None\n",
    "        self._reference_image_mapped = None\n",
    "        self._reference_image_display = None\n",
    "\n",
    "        if self._enable_colour_wheel:\n",
    "            self._colour_wheel = None\n",
    "\n",
    "        if self._enable_chromaticity_diagram:\n",
    "            self._decimated_image_working = None\n",
    "            self._decimated_image_display = None\n",
    "\n",
    "        self._colour_checker = None\n",
    "        self._colour_checker_uv = None\n",
    "\n",
    "        self._output = None\n",
    "        self._figure = None\n",
    "        self._grid_spec = None\n",
    "        self._reference_image_axes = None\n",
    "        self._reference_image_imshow = None\n",
    "\n",
    "        if self._enable_colour_wheel:\n",
    "            self._colour_wheel_cartersian_axes = None\n",
    "            self._colour_wheel_imshow = None\n",
    "            self._colour_wheel_polar_axes = None\n",
    "\n",
    "        if self._enable_chromaticity_diagram:\n",
    "            self._chromaticity_diagram_axes = None\n",
    "            self._scatter_offsets_i = None\n",
    "            self._scatter_facecolor_i = None\n",
    "\n",
    "        self._disable_medidicina_CheckBox = None\n",
    "        self._global_controls_HBox = None\n",
    "        self._controls_Tab = None\n",
    "\n",
    "        self.initialize_data()\n",
    "        self.initialize_axes()\n",
    "        self.initialise_widgets()\n",
    "        self.attach_callbacks()\n",
    "\n",
    "        if debug_layout:\n",
    "            plot_children(self._figure, self._figure._layoutbox, printit=False)\n",
    "\n",
    "    def initialize_data(self):\n",
    "        # *** Reference Image ***\n",
    "        self._reference_image = (colour.read_image(self._reference_image_path)\n",
    "                                 if self._reference_image_path is not None else\n",
    "                                 np.random.rand(540, 960, 3))\n",
    "        self._reference_image_path = (self._reference_image_path\n",
    "                                      if self._reference_image_path is not None\n",
    "                                      else 'Random.exr')\n",
    "        self._reference_image_working = self.reference_space_to_working_space(\n",
    "            self._reference_image)\n",
    "\n",
    "        self._reference_image_mapped = self._reference_image\n",
    "        self._reference_image_display = self.working_space_to_display_space(\n",
    "            self._reference_image_working)\n",
    "\n",
    "        # *** Colour Wheel ***\n",
    "        if self._enable_colour_wheel:\n",
    "            self._colour_wheel = colour_wheel(\n",
    "                self._colour_wheel_samples,\n",
    "                clip_circle=True,\n",
    "                method='Matplotlib')\n",
    "\n",
    "        # *** Decimated Image, i.e. Scatter ***\n",
    "        if self._enable_chromaticity_diagram:\n",
    "            self._decimated_image_working = (\n",
    "                self._reference_image_working[::self._image_decimation, ::\n",
    "                                              self._image_decimation, :])\n",
    "            self._decimated_image_display = (\n",
    "                self.working_space_to_display_space(\n",
    "                    self._decimated_image_working))\n",
    "\n",
    "        # *** Colour Checker\n",
    "        colour_checker = colour.COLOURCHECKERS[\n",
    "            'ColorChecker24 - After November 2014']\n",
    "        colour_checker_data = colour.utilities.as_float_array(\n",
    "            list(colour_checker.data.values()))\n",
    "        self._colour_checker_uv = colour.xy_to_Luv_uv(\n",
    "            colour_checker_data[:, 0:2])\n",
    "\n",
    "    def initialize_axes(self):\n",
    "        self._output = ipywidgets.widgets.Output()\n",
    "\n",
    "        image_height, image_width, channels = self._reference_image.shape\n",
    "        if self._figure_size[-1] is None:\n",
    "            if self._enable_colour_wheel and self._enable_chromaticity_diagram:\n",
    "                width = image_height / 2 + image_width\n",
    "                height = image_height - self._padding * 100 - self._spacing * 100\n",
    "                # Unresolved fudge/nudge factor.\n",
    "                height -= 20\n",
    "            elif self._enable_colour_wheel or self._enable_chromaticity_diagram:\n",
    "                width = image_height + image_width\n",
    "                height = image_height\n",
    "            else:\n",
    "                width = image_width\n",
    "                height = image_height\n",
    "            ratio = self._figure_size[0] * 100 / width\n",
    "            figure_size = (width / 100 * ratio, height / 100 * ratio)\n",
    "        else:\n",
    "            figure_size = self._figure_size\n",
    "\n",
    "        with self._output:\n",
    "            self._figure = plt.figure(\n",
    "                figsize=figure_size,\n",
    "                constrained_layout=True,\n",
    "                facecolor=[2 / 3 / 10] * 3)\n",
    "            self._figure.canvas.toolbar_visible = False\n",
    "            self._figure.canvas.header_visible = False\n",
    "            self._figure.canvas.footer_visible = True\n",
    "            self._figure.canvas.resizable = False\n",
    "            self._figure.tight_layout()\n",
    "\n",
    "        if self._enable_colour_wheel and self._enable_chromaticity_diagram:\n",
    "            rows = columns = 2\n",
    "            colour_wheel_indices = 0, 0\n",
    "            chromaticity_diagram_indices = 1, 0\n",
    "            reference_image_indices = slice(0, None, None), slice(\n",
    "                1, None, None)\n",
    "            width_ratios = [1, 2 * image_width / image_height]\n",
    "        elif not self._enable_colour_wheel and not self._enable_chromaticity_diagram:\n",
    "            rows = columns = 1\n",
    "            colour_wheel_indices = chromaticity_diagram_indices = None\n",
    "            reference_image_indices = 0, 0\n",
    "            width_ratios = [1]\n",
    "        else:\n",
    "            rows = 1\n",
    "            columns = 2\n",
    "            colour_wheel_indices = chromaticity_diagram_indices = 0, 0\n",
    "            reference_image_indices = 0, 1\n",
    "            width_ratios = [1, image_width / image_height]\n",
    "\n",
    "        self._grid_spec = gridspec.GridSpec(\n",
    "            ncols=columns,\n",
    "            nrows=rows,\n",
    "            figure=self._figure,\n",
    "            width_ratios=width_ratios,\n",
    "            wspace=self._spacing,\n",
    "            hspace=self._spacing)\n",
    "        self._figure.set_constrained_layout_pads(\n",
    "            w_pad=self._padding,\n",
    "            h_pad=self._padding)\n",
    "\n",
    "        # Colour Wheel Axes\n",
    "        if self._enable_colour_wheel:\n",
    "            self._colour_wheel_cartersian_axes = self._figure.add_subplot(\n",
    "                self._grid_spec[colour_wheel_indices[0], colour_wheel_indices[\n",
    "                    1]],\n",
    "                label='Cartesian Axes')\n",
    "            self._colour_wheel_cartersian_axes.axis('off')\n",
    "            self._colour_wheel_imshow = self._colour_wheel_cartersian_axes.imshow(\n",
    "                np.clip(self._colour_wheel, 0, 1), extent=[0, 1, 0, 1])\n",
    "\n",
    "            self._colour_wheel_polar_axes = self._figure.add_subplot(\n",
    "                self._grid_spec[colour_wheel_indices[0], colour_wheel_indices[\n",
    "                    1]],\n",
    "                projection='polar',\n",
    "                label='Polar Axes')\n",
    "            self._colour_wheel_polar_axes.set_xlim(0, np.pi * 2)\n",
    "            self._colour_wheel_polar_axes.set_ylim(0, 1)\n",
    "            self._colour_wheel_polar_axes.patch.set_alpha(0)\n",
    "            self._colour_wheel_polar_axes.grid(alpha=0.15)\n",
    "            if not self._show_labels:\n",
    "                self._colour_wheel_polar_axes.set_xticklabels([])\n",
    "            self._colour_wheel_polar_axes.set_yticklabels([])\n",
    "\n",
    "        # Chromaticity Diagram Axes\n",
    "        if self._enable_chromaticity_diagram:\n",
    "            self._chromaticity_diagram_axes = self._figure.add_subplot(\n",
    "                self._grid_spec[chromaticity_diagram_indices[0],\n",
    "                                chromaticity_diagram_indices[1]])\n",
    "            self._chromaticity_diagram_axes.patch.set_alpha(0)\n",
    "            (colour.plotting.\n",
    "             plot_RGB_chromaticities_in_chromaticity_diagram_CIE1976UCS(\n",
    "                 self._decimated_image_working,\n",
    "                 colourspace=self._working_space,\n",
    "                 colourspaces=['sRGB'],\n",
    "                 axes=self._chromaticity_diagram_axes,\n",
    "                 standalone=False,\n",
    "                 transparent_background=False,\n",
    "                 spectral_locus_colours='RGB',\n",
    "                 spectral_locus_labels=[],\n",
    "                 diagram_opacity=0,\n",
    "                 scatter_kwargs={'s': 1},\n",
    "                 title=str(),\n",
    "                 x_label=str(),\n",
    "                 y_label=str(),\n",
    "                 legend=False))\n",
    "            self._chromaticity_diagram_axes.tick_params(\n",
    "                axis='y', which='both', direction='in')\n",
    "            self._chromaticity_diagram_axes.tick_params(\n",
    "                axis='x', which='both', direction='in')\n",
    "            self._chromaticity_diagram_axes.minorticks_off()\n",
    "            self._chromaticity_diagram_axes.grid(alpha=0.15)\n",
    "            for collection in self._chromaticity_diagram_axes.collections:\n",
    "                if isinstance(collection, PathCollection):\n",
    "                    self._scatter_path_collection = collection\n",
    "                    break\n",
    "            if not self._show_labels:\n",
    "                self._chromaticity_diagram_axes.set_xticklabels([])\n",
    "                self._chromaticity_diagram_axes.set_yticklabels([])\n",
    "\n",
    "            self._scatter_offsets_i = self._scatter_path_collection.get_offsets(\n",
    "            )\n",
    "            self._scatter_facecolor_i = self._scatter_path_collection.get_facecolor(\n",
    "            )\n",
    "            self._chromaticity_diagram_axes.scatter(\n",
    "                self._colour_checker_uv[:, 0],\n",
    "                self._colour_checker_uv[:, 1],\n",
    "                c='white',\n",
    "                marker='D',\n",
    "                s=5)\n",
    "\n",
    "        # Reference Image Axes\n",
    "        self._reference_image_axes = self._figure.add_subplot(self._grid_spec[\n",
    "            reference_image_indices[0], reference_image_indices[1]])\n",
    "        self._reference_image_axes.set_xticks([])\n",
    "        self._reference_image_axes.set_yticks([])\n",
    "        self._reference_image_imshow = self._reference_image_axes.imshow(\n",
    "            self.working_space_to_display_space(self._reference_image_working))\n",
    "\n",
    "    def initialise_widgets(self):\n",
    "        # *** Widgets ***\n",
    "        self._disable_medidicina_CheckBox = (\n",
    "            ipywidgets.widgets.Checkbox(description='Disable Medicina'))\n",
    "        self._export_reference_image_Button = (\n",
    "            ipywidgets.widgets.Button(description=\"Export Image\"))\n",
    "        self._save_figure_image_Button = (\n",
    "            ipywidgets.widgets.Button(description=\"Save Figure\"))\n",
    "\n",
    "        # *** Layout ***\n",
    "        self.layout.display = 'flex'\n",
    "        self.layout.flex_flow = 'column'\n",
    "        self.layout.align_items = 'stretch'\n",
    "        self.layout.width = '{0}px'.format(self._figure_size[0] * 100 +\n",
    "                                           MPL_BOX_DECORATION_WIDTH)\n",
    "\n",
    "        self._global_controls_HBox = ipywidgets.widgets.HBox([\n",
    "            self._disable_medidicina_CheckBox,\n",
    "            self._export_reference_image_Button,\n",
    "            self._save_figure_image_Button,\n",
    "        ])\n",
    "\n",
    "        self._controls_Tab = ipywidgets.widgets.Tab(children=[\n",
    "            self._global_controls_HBox,\n",
    "        ])\n",
    "        self._controls_Tab.set_title(0, 'Global Controls')\n",
    "\n",
    "        self._controls_Tab.layout = border_layout()\n",
    "\n",
    "        self._output.layout = border_layout()\n",
    "        self.children = [self._output, self._controls_Tab]\n",
    "\n",
    "    def attach_callbacks(self):\n",
    "        self._disable_medidicina_CheckBox.observe(self.toggle_medidicina)\n",
    "        self._export_reference_image_Button.on_click(\n",
    "            self.export_reference_image)\n",
    "        self._save_figure_image_Button.on_click(self.save_figure)\n",
    "\n",
    "    def reference_space_to_working_space(self, RGB):\n",
    "        return colour.RGB_to_RGB(RGB, self._reference_space,\n",
    "                                 self._working_space)\n",
    "\n",
    "    def working_space_to_reference_space(self, RGB):\n",
    "        return colour.RGB_to_RGB(RGB, self._working_space,\n",
    "                                 self._reference_space)\n",
    "\n",
    "    def working_space_to_display_space(self,\n",
    "                                       RGB,\n",
    "                                       apply_encoding_cctf=True,\n",
    "                                       clip=True):\n",
    "        RGB = colour.RGB_to_RGB(\n",
    "            RGB,\n",
    "            self._working_space,\n",
    "            self._display_space,\n",
    "            apply_encoding_cctf=apply_encoding_cctf)\n",
    "\n",
    "        if clip:\n",
    "            return np.clip(RGB, 0, 1)\n",
    "        else:\n",
    "            return RGB\n",
    "\n",
    "    def update_scatter_plot(self, RGB):\n",
    "        if self._enable:\n",
    "            RGB = RGB[RGB[:, 1].argsort()]\n",
    "            XYZ = colour.RGB_to_XYZ(RGB, self._working_space.whitepoint,\n",
    "                                    self._working_space.whitepoint,\n",
    "                                    self._working_space.RGB_to_XYZ_matrix)\n",
    "            uv = colour.Luv_to_uv(\n",
    "                colour.XYZ_to_Luv(XYZ, self._working_space.whitepoint),\n",
    "                self._working_space.whitepoint)\n",
    "            self._scatter_path_collection.set_offsets(uv)\n",
    "            self._scatter_path_collection.set_facecolor(\n",
    "                self.working_space_to_display_space(RGB))\n",
    "        else:\n",
    "            self._scatter_path_collection.set_offsets(self._scatter_offsets_i)\n",
    "            self._scatter_path_collection.set_facecolor(\n",
    "                self._scatter_facecolor_i)\n",
    "\n",
    "    def toggle_medidicina(self, change):\n",
    "        if not change:\n",
    "            return\n",
    "\n",
    "        if change['name'] == 'value':\n",
    "            self._enable = not change['new']\n",
    "\n",
    "            self.update_widget(None)\n",
    "\n",
    "    def export_reference_image(self, change):\n",
    "        path = os.path.splitext(self._reference_image_path)[0]\n",
    "\n",
    "        colour.write_image(\n",
    "            self.working_space_to_reference_space(\n",
    "                self._reference_image_mapped), '{0}_{1}.exr'.format(\n",
    "                    path, self.__class__.__name__))\n",
    "\n",
    "    def save_figure(self, change):\n",
    "        path = os.path.splitext(self._reference_image_path)[0]\n",
    "        plt.savefig('{0}_{1}.png'.format(path, self.__class__.__name__),\n",
    "                   facecolor=[2 / 3 / 10] * 3, transparent=False, bbox_inches='tight')\n",
    "\n",
    "    def update_widget(self, change):\n",
    "        if not self._enable:\n",
    "            if self._enable_chromaticity_diagram:\n",
    "                self.update_scatter_plot(None)\n",
    "\n",
    "            self._reference_image_imshow.set_data(\n",
    "                self._reference_image_display)\n",
    "\n",
    "            self._figure.canvas.draw_idle()\n",
    "\n",
    "\n",
    "GamutMedicinaBaseWidget()\n"
   ]
  },
  {
   "cell_type": "code",
   "execution_count": 7,
   "metadata": {},
   "outputs": [
    {
     "data": {
      "application/vnd.jupyter.widget-view+json": {
       "model_id": "6f408c6d3d2641ed95c2e3861ce0ba63",
       "version_major": 2,
       "version_minor": 0
      },
      "text/plain": [
       "GamutMedicinaBaseWidget(children=(Output(layout=Layout(border='solid 4px #222', margin='4px', padding='0')), T…"
      ]
     },
     "metadata": {},
     "output_type": "display_data"
    }
   ],
   "source": [
    "GamutMedicinaBaseWidget(enable_colour_wheel=False)"
   ]
  },
  {
   "cell_type": "code",
   "execution_count": 8,
   "metadata": {},
   "outputs": [
    {
     "data": {
      "application/vnd.jupyter.widget-view+json": {
       "model_id": "b0c20a7799244d5fa0373a28bd27fef0",
       "version_major": 2,
       "version_minor": 0
      },
      "text/plain": [
       "GamutMedicinaBaseWidget(children=(Output(layout=Layout(border='solid 4px #222', margin='4px', padding='0')), T…"
      ]
     },
     "metadata": {},
     "output_type": "display_data"
    }
   ],
   "source": [
    "GamutMedicinaBaseWidget(enable_chromaticity_diagram=False)"
   ]
  },
  {
   "cell_type": "code",
   "execution_count": 9,
   "metadata": {},
   "outputs": [
    {
     "data": {
      "application/vnd.jupyter.widget-view+json": {
       "model_id": "6814d4b1941041018e0c0e6fd82214d5",
       "version_major": 2,
       "version_minor": 0
      },
      "text/plain": [
       "GamutMedicinaBaseWidget(children=(Output(layout=Layout(border='solid 4px #222', margin='4px', padding='0')), T…"
      ]
     },
     "metadata": {},
     "output_type": "display_data"
    }
   ],
   "source": [
    "GamutMedicinaBaseWidget(\n",
    "    enable_colour_wheel=False, enable_chromaticity_diagram=False)"
   ]
  },
  {
   "cell_type": "markdown",
   "metadata": {},
   "source": [
    "## Compression & Blending Functions"
   ]
  },
  {
   "cell_type": "code",
   "execution_count": 10,
   "metadata": {},
   "outputs": [],
   "source": [
    "def tanh_compression_function(x, a=0.8, b=1 - 0.8):\n",
    "    x = colour.utilities.as_float_array(x)\n",
    "\n",
    "    return np.where(x > a, (a + b * np.tanh((x - a) / b)), x)\n",
    "\n",
    "\n",
    "def smoothstep(x, a=0, b=1):\n",
    "    i = np.clip((x - a) / (b - a), 0, 1)\n",
    "\n",
    "    return i**2 * (3 - 2 * i)\n"
   ]
  },
  {
   "cell_type": "markdown",
   "metadata": {},
   "source": [
    "## Mansencal and Scharfenberg (2020) - Gamut Medicina HSV Control"
   ]
  },
  {
   "cell_type": "markdown",
   "metadata": {},
   "source": [
    "https://community.acescentral.com/t/gamut-mapping-in-cylindrical-and-conic-spaces/2870/4"
   ]
  },
  {
   "cell_type": "code",
   "execution_count": 11,
   "metadata": {},
   "outputs": [
    {
     "data": {
      "application/vnd.jupyter.widget-view+json": {
       "model_id": "937c7d37ee4d4fcf9512047a893488da",
       "version_major": 2,
       "version_minor": 0
      },
      "text/plain": [
       "GamutMedicinaHSVControlWidget(children=(Output(layout=Layout(border='solid 4px #222', margin='4px', padding='0…"
      ]
     },
     "metadata": {},
     "output_type": "display_data"
    }
   ],
   "source": [
    "class GamutMedicinaHSVControlWidget(GamutMedicinaBaseWidget):\n",
    "    def __init__(self,\n",
    "                 reference_image=None,\n",
    "                 hue_wedge=45,\n",
    "                 protected_area_threshold=0.7,\n",
    "                 compression_threshold=0.8,\n",
    "                 RGB_to_HSV=colour.RGB_to_HSV,\n",
    "                 HSV_to_RGB=colour.HSV_to_RGB,\n",
    "                 *args,\n",
    "                 **kwargs):\n",
    "\n",
    "        self._hue_wedge = hue_wedge\n",
    "        self._protected_area_threshold = protected_area_threshold\n",
    "        self._compression_threshold = compression_threshold\n",
    "\n",
    "        self.RGB_to_HSV = RGB_to_HSV\n",
    "        self.HSV_to_RGB = HSV_to_RGB\n",
    "\n",
    "        super().__init__(reference_image, *args, **kwargs)\n",
    "        \n",
    "        self._RGB_r = None\n",
    "        self._H_r = self._S_r = self._V_r = None\n",
    "        self._S_r_m = None\n",
    "\n",
    "        if self._enable_colour_wheel:\n",
    "            self._RGB_w = None\n",
    "            self._H_w = self._S_w = self._V_w = None\n",
    "            self._S_w_m = None\n",
    "\n",
    "        if self._enable_chromaticity_diagram:\n",
    "            self._RGB_d = None\n",
    "            self._H_d = self._S_d = self._V_d = None\n",
    "            self._S_d_m = None\n",
    "        \n",
    "        self._angles = None\n",
    "        self._x_i = self._y_i = self._y_i = None\n",
    "\n",
    "        if self._enable_colour_wheel:\n",
    "            self._protected_area_threshold_colour_wheel_plot = None\n",
    "            self._compression_threshold_colour_wheel_plot = None\n",
    "            self._hue_controls_plot = None\n",
    "        \n",
    "        if self._enable_chromaticity_diagram:\n",
    "            self._protected_area_threshold_chromaticity_diagram_plot = None\n",
    "            self._compression_threshold_chromaticity_diagram_plot = None\n",
    "\n",
    "        self._reset_protected_area_controls_Button = None\n",
    "        self._protected_area_threshold_FloatSlider = None\n",
    "        self._reset_compression_controls_Button = None\n",
    "        self._compression_threshold_FloatSlider = None\n",
    "        self._reset_hue_controls_Button = None\n",
    "        self._wedge_controls = None\n",
    "        self._protected_area_controls_HBox = None\n",
    "        self._saturation_controls_HBox = None\n",
    "        self._hue_controls_HBox = None\n",
    "\n",
    "        self.initialize_data()\n",
    "        self.initialize_axes()\n",
    "        self.initialise_widgets()\n",
    "        self.attach_callbacks()\n",
    "\n",
    "        self.update_widget(None)\n",
    "\n",
    "    def initialize_data(self):\n",
    "        super().initialize_data()\n",
    "\n",
    "        # *** Colour Wheel ***\n",
    "        if self._enable_colour_wheel:\n",
    "            self._RGB_w = self._colour_wheel[..., 0:3]\n",
    "            self._H_w, self._S_w, self._V_w = colour.utilities.tsplit(\n",
    "                self.RGB_to_HSV(self._RGB_w))\n",
    "            self._S_w_m = smoothstep(self._S_w, self._protected_area_threshold,\n",
    "                                     self._compression_threshold)\n",
    "\n",
    "        # *** Decimated Image, i.e. Scatter ***\n",
    "        if self._enable_chromaticity_diagram:\n",
    "            self._RGB_d = self._decimated_image_working\n",
    "            self._H_d, self._S_d, self._V_d = colour.utilities.tsplit(\n",
    "                self.RGB_to_HSV(self._decimated_image_working))\n",
    "            self._S_d_m = smoothstep(self._S_d, self._protected_area_threshold,\n",
    "                                     self._compression_threshold)\n",
    "\n",
    "        # *** Reference Image ***\n",
    "        self._RGB_r = self._reference_image_working\n",
    "        self._H_r, self._S_r, self._V_r = colour.utilities.tsplit(\n",
    "            self.RGB_to_HSV(self._reference_image_working))\n",
    "        self._S_r_m = smoothstep(self._S_r, self._protected_area_threshold,\n",
    "                                 self._compression_threshold)\n",
    "\n",
    "        # *** Angles ***\n",
    "        self._angles = np.arange(0, 360, self._hue_wedge) / 360\n",
    "\n",
    "        # *** Initial State ***\n",
    "        self._x_i = np.hstack([self._angles, 1])\n",
    "        self._y_i = self._angles\n",
    "        self._y_i = np.hstack([self._y_i, self._y_i[0] + 1])\n",
    "\n",
    "    def initialize_axes(self):\n",
    "        super().initialize_axes()\n",
    "\n",
    "        circumference = np.linspace(0, np.pi * 2,\n",
    "                                    self._colour_wheel_samples)\n",
    "        # Colour Wheel Axes\n",
    "        if self._enable_colour_wheel:\n",
    "            self._protected_area_threshold_colour_wheel_plot = (\n",
    "                self._colour_wheel_polar_axes.plot(\n",
    "                    circumference,\n",
    "                    np.full(self._colour_wheel_samples,\n",
    "                            self._protected_area_threshold),\n",
    "                    linestyle='dotted',\n",
    "                    color='yellow')[0])\n",
    "            self._compression_threshold_colour_wheel_plot = (\n",
    "                self._colour_wheel_polar_axes.plot(\n",
    "                    circumference,\n",
    "                    np.full(self._colour_wheel_samples,\n",
    "                            self._compression_threshold),\n",
    "                    linestyle='dashdot',\n",
    "                    color='cyan')[0])\n",
    "\n",
    "            self._hue_controls_plot = (self._colour_wheel_polar_axes.plot(\n",
    "                self._y_i * np.pi * 2,\n",
    "                np.ones(self._y_i.shape),\n",
    "                'o-',\n",
    "                color='white')[0])\n",
    "\n",
    "        # Chromaticity Diagram Axes\n",
    "        if self._enable_chromaticity_diagram:\n",
    "            self._protected_area_threshold_chromaticity_diagram_plot = (\n",
    "                self._chromaticity_diagram_axes.plot(\n",
    "                    circumference,\n",
    "                    circumference,\n",
    "                    linestyle='dotted',\n",
    "                    color='yellow')[0])\n",
    "            self._compression_threshold_chromaticity_diagram_plot = (\n",
    "                self._chromaticity_diagram_axes.plot(\n",
    "                    circumference,\n",
    "                    circumference,\n",
    "                    linestyle='dashdot',\n",
    "                    color='cyan')[0])\n",
    "\n",
    "    def initialise_widgets(self):\n",
    "        super().initialise_widgets()\n",
    "\n",
    "        # *** Widgets ***\n",
    "        self._reset_protected_area_controls_Button = (\n",
    "            ipywidgets.widgets.Button(description=\"Reset Protected Area\"))\n",
    "        self._protected_area_threshold_FloatSlider = (\n",
    "            ipywidgets.widgets.FloatSlider(\n",
    "                min=0.0,\n",
    "                max=1.0,\n",
    "                step=0.01,\n",
    "                value=self._protected_area_threshold,\n",
    "                description='Protected Area Threshold'))\n",
    "\n",
    "        self._reset_compression_controls_Button = (\n",
    "            ipywidgets.widgets.Button(description=\"Reset Saturation Controls\"))\n",
    "        self._compression_threshold_FloatSlider = (\n",
    "            ipywidgets.widgets.FloatSlider(\n",
    "                min=0.0,\n",
    "                max=1.0,\n",
    "                step=0.01,\n",
    "                value=self._compression_threshold,\n",
    "                description='Compression Threshold'))\n",
    "\n",
    "        self._reset_hue_controls_Button = ipywidgets.widgets.Button(\n",
    "            description=\"Reset Hue Controls\")\n",
    "        self._wedge_controls = [\n",
    "            ipywidgets.widgets.FloatSlider(\n",
    "                min=-1,\n",
    "                max=1,\n",
    "                step=0.01,\n",
    "                value=0,\n",
    "                description='{0}°'.format(int(angle * 360)))\n",
    "            for angle in self._angles\n",
    "        ]\n",
    "\n",
    "        # *** Layout ***\n",
    "        self._protected_area_controls_HBox = ipywidgets.widgets.HBox([\n",
    "            self._reset_protected_area_controls_Button,\n",
    "            self._protected_area_threshold_FloatSlider,\n",
    "        ])\n",
    "\n",
    "        self._saturation_controls_HBox = ipywidgets.widgets.HBox([\n",
    "            self._reset_compression_controls_Button,\n",
    "            self._compression_threshold_FloatSlider\n",
    "        ])\n",
    "\n",
    "        wedge_controls_batches = batch(self._wedge_controls, 3)\n",
    "        self._hue_controls_HBox = ipywidgets.widgets.HBox(\n",
    "            [ipywidgets.widgets.VBox([self._reset_hue_controls_Button])] + [\n",
    "                ipywidgets.widgets.VBox(wedge_controls)\n",
    "                for wedge_controls in wedge_controls_batches\n",
    "            ])\n",
    "\n",
    "        self._controls_Tab.children += (\n",
    "            self._protected_area_controls_HBox,\n",
    "            self._saturation_controls_HBox,\n",
    "            self._hue_controls_HBox,\n",
    "        )\n",
    "\n",
    "        self._controls_Tab.set_title(1, 'Protected Area Controls')\n",
    "        self._controls_Tab.set_title(2, 'Saturation Controls')\n",
    "        self._controls_Tab.set_title(3, 'Hue Controls')\n",
    "\n",
    "    def attach_callbacks(self):\n",
    "        super().attach_callbacks()\n",
    "\n",
    "        self._reset_protected_area_controls_Button.on_click(\n",
    "            self.reset_protected_area_controls)\n",
    "        self._protected_area_threshold_FloatSlider.observe(\n",
    "            self.update_protected_area_mask, 'value')\n",
    "\n",
    "        self._reset_compression_controls_Button.on_click(\n",
    "            self.reset_compression_controls)\n",
    "        self._compression_threshold_FloatSlider.observe(\n",
    "            self.update_widget, 'value')\n",
    "\n",
    "        self._reset_hue_controls_Button.on_click(self.reset_hue_controls)\n",
    "        for slider in self._wedge_controls:\n",
    "            slider.observe(self.update_widget, 'value')\n",
    "\n",
    "    def update_region_colour_wheel_plot(self, V_r, region_colour_wheel_plot):\n",
    "        if self._enable_colour_wheel:\n",
    "            region_colour_wheel_plot.set_ydata(\n",
    "                np.full(self._colour_wheel_samples, V_r))\n",
    "\n",
    "    def update_protected_area_threshold_colour_wheel_plot(self, U_r):\n",
    "        if self._enable_colour_wheel:\n",
    "            self.update_region_colour_wheel_plot(\n",
    "                U_r, self._protected_area_threshold_colour_wheel_plot)\n",
    "\n",
    "    def update_compression_threshold_colour_wheel_plot(self, S_c):\n",
    "        if self._enable_colour_wheel:\n",
    "            self.update_region_colour_wheel_plot(\n",
    "                S_c, self._compression_threshold_colour_wheel_plot)\n",
    "\n",
    "    def update_region_chromaticity_diagram_plot(\n",
    "            self, V_r, region_chromaticity_diagram_plot):\n",
    "        if self._enable_chromaticity_diagram:\n",
    "            HSV = colour.utilities.tstack([\n",
    "                np.linspace(0, 1, self._colour_wheel_samples),\n",
    "                np.full(self._colour_wheel_samples, V_r),\n",
    "                np.ones(self._colour_wheel_samples)\n",
    "            ])\n",
    "            uv = colour.Luv_to_uv(\n",
    "                colour.XYZ_to_Luv(\n",
    "                    colour.RGB_to_XYZ(\n",
    "                        self.HSV_to_RGB(HSV), self._working_space.whitepoint,\n",
    "                        self._working_space.whitepoint,\n",
    "                        self._working_space.RGB_to_XYZ_matrix),\n",
    "                    self._working_space.whitepoint))\n",
    "\n",
    "            region_chromaticity_diagram_plot.set_data(uv[:, 0], uv[:, 1])\n",
    "\n",
    "    def update_protected_area_threshold_chromaticity_diagram_plot(self, U_r):\n",
    "        if self._enable_chromaticity_diagram:\n",
    "            self.update_region_chromaticity_diagram_plot(\n",
    "                U_r, self._protected_area_threshold_chromaticity_diagram_plot)\n",
    "\n",
    "    def update_compression_threshold_chromaticity_diagram_plot(self, S_c):\n",
    "        if self._enable_chromaticity_diagram:\n",
    "            self.update_region_chromaticity_diagram_plot(\n",
    "                S_c, self._compression_threshold_chromaticity_diagram_plot)\n",
    "\n",
    "    def update_protected_area_mask(self, change):\n",
    "        if not change:\n",
    "            return\n",
    "\n",
    "        if change['name'] == 'value':\n",
    "            U_r = self._protected_area_threshold_FloatSlider.value\n",
    "            S_c = self._compression_threshold_FloatSlider.value\n",
    "\n",
    "            if self._enable_colour_wheel:\n",
    "                self._S_w_m = smoothstep(self._S_w, U_r, S_c)\n",
    "\n",
    "            if self._enable_chromaticity_diagram:\n",
    "                self._S_r_m = smoothstep(self._S_r, U_r, S_c)\n",
    "\n",
    "            self._S_d_m = smoothstep(self._S_d, U_r, S_c)\n",
    "\n",
    "        self.update_widget(None)\n",
    "\n",
    "    def wedge_control_to_hue_offset(self, value):\n",
    "        slider = self._wedge_controls[0]\n",
    "\n",
    "        return colour.utilities.linear_conversion(\n",
    "            value, [slider.min, slider.max],\n",
    "            [-self._hue_wedge / 360, self._hue_wedge / 360])\n",
    "\n",
    "    def reset_protected_area_controls(self, change):\n",
    "        self._protected_area_threshold_FloatSlider.value = (\n",
    "            self._protected_area_threshold)\n",
    "\n",
    "        self.update_protected_area_mask(None)\n",
    "\n",
    "    def reset_compression_controls(self, change):\n",
    "        self._compression_threshold_FloatSlider.value = (\n",
    "            self._compression_threshold)\n",
    "\n",
    "        self.update_widget(None)\n",
    "\n",
    "    def reset_hue_controls(self, change):\n",
    "        for slider in self._wedge_controls:\n",
    "            slider.value = 0\n",
    "\n",
    "        self.update_widget(None)\n",
    "\n",
    "    def medicina(self, RGB, H, S, V, H_x, H_y, S_c, S_m):\n",
    "        S_m = S_m[..., np.newaxis]\n",
    "\n",
    "        interpolator = scipy.interpolate.interp1d(H_x, H_y)\n",
    "\n",
    "        HSV_c = colour.utilities.tstack(\n",
    "            [interpolator(H) % 1,\n",
    "             tanh_compression_function(S, S_c, 1 - S_c), V])\n",
    "\n",
    "        return self.HSV_to_RGB(HSV_c) * S_m + RGB * (1 - S_m)\n",
    "\n",
    "    def update_colour_wheel_axes(self, U_r, S_c, H_y, H_o):\n",
    "        if self._enable_colour_wheel:\n",
    "            R_w, G_w, B_w = colour.utilities.tsplit(\n",
    "                self.medicina(self._RGB_w, self._H_w, self._S_w, self._V_w,\n",
    "                              self._x_i, H_y, S_c, self._S_w_m))\n",
    "            self._colour_wheel_imshow.set_data(\n",
    "                np.clip(colour.tstack(\n",
    "                    [R_w, G_w, B_w, self._colour_wheel[..., -1]]), 0, 1))\n",
    "            self.update_protected_area_threshold_colour_wheel_plot(U_r)\n",
    "            self.update_compression_threshold_colour_wheel_plot(S_c)\n",
    "\n",
    "            H_x = H_o + self._angles\n",
    "            H_x = np.hstack([H_x, H_x[0]])\n",
    "            self._hue_controls_plot.set_xdata(H_x * np.pi * 2)\n",
    "\n",
    "    def update_chromaticity_diagram_axes(self, U_r, S_c, H_y):\n",
    "        if self._enable_chromaticity_diagram:\n",
    "            RGB_r_s = self.medicina(self._RGB_d, self._H_d, self._S_d,\n",
    "                                    self._V_d, self._x_i, H_y, S_c,\n",
    "                                    self._S_d_m).reshape(-1, 3)\n",
    "            self.update_scatter_plot(RGB_r_s)\n",
    "            self.update_protected_area_threshold_chromaticity_diagram_plot(U_r)\n",
    "            self.update_compression_threshold_chromaticity_diagram_plot(S_c)\n",
    "\n",
    "    def update_reference_image_axes(self, S_c, H_y):\n",
    "        RGB_r = self.medicina(self._RGB_r, self._H_r, self._S_r, self._V_r,\n",
    "                              self._x_i, H_y, S_c, self._S_r_m)\n",
    "        self._reference_image_mapped = RGB_r\n",
    "        self._reference_image_imshow.set_data(\n",
    "            self.working_space_to_display_space(RGB_r))\n",
    "\n",
    "    def update_widget(self, change):\n",
    "        super().update_widget(change)\n",
    "\n",
    "        if self._enable:\n",
    "            U_r = self._protected_area_threshold_FloatSlider.value\n",
    "            S_c = self._compression_threshold_FloatSlider.value\n",
    "\n",
    "            hue_offsets = np.array([\n",
    "                self.wedge_control_to_hue_offset(slider.value)\n",
    "                for slider in self._wedge_controls\n",
    "            ])\n",
    "\n",
    "            H_y = -hue_offsets + self._angles\n",
    "            H_y = np.hstack([H_y, H_y[0] + 1])\n",
    "\n",
    "            if self._enable_colour_wheel:\n",
    "                self.update_colour_wheel_axes(U_r, S_c, H_y, hue_offsets)\n",
    "\n",
    "            if self._enable_chromaticity_diagram:\n",
    "                self.update_chromaticity_diagram_axes(U_r, S_c, H_y)\n",
    "\n",
    "            self.update_reference_image_axes(S_c, H_y)\n",
    "\n",
    "            self._figure.canvas.draw_idle()\n",
    "\n",
    "\n",
    "GamutMedicinaHSVControlWidget(\n",
    "    '../resources/images/A009C002_190210_R0EI_Alexa_LogCWideGamut.exr')\n"
   ]
  },
  {
   "cell_type": "code",
   "execution_count": 12,
   "metadata": {},
   "outputs": [
    {
     "data": {
      "application/vnd.jupyter.widget-view+json": {
       "model_id": "56571307e19c41f6a6fedd5b0b534b96",
       "version_major": 2,
       "version_minor": 0
      },
      "text/plain": [
       "GamutMedicinaHSVControlWidget(children=(Output(layout=Layout(border='solid 4px #222', margin='4px', padding='0…"
      ]
     },
     "metadata": {},
     "output_type": "display_data"
    }
   ],
   "source": [
    "GamutMedicinaHSVControlWidget('../resources/images/A002_C029_06025K.exr')"
   ]
  },
  {
   "cell_type": "code",
   "execution_count": 13,
   "metadata": {},
   "outputs": [
    {
     "data": {
      "application/vnd.jupyter.widget-view+json": {
       "model_id": "f8eef11987f748f9bb92e531bd687609",
       "version_major": 2,
       "version_minor": 0
      },
      "text/plain": [
       "GamutMedicinaHSVControlWidget(children=(Output(layout=Layout(border='solid 4px #222', margin='4px', padding='0…"
      ]
     },
     "metadata": {},
     "output_type": "display_data"
    }
   ],
   "source": [
    "GamutMedicinaHSVControlWidget(\n",
    "    '../resources/images/Cornell_Box_Rigid_Spheres_190_Patch_Roughplastic_Point_Grey_Grasshopper_50S5C_RGB_W.exr')"
   ]
  },
  {
   "cell_type": "markdown",
   "metadata": {},
   "source": [
    "## Smith (2020) - Gamut Medicina - RGB Saturation"
   ]
  },
  {
   "cell_type": "markdown",
   "metadata": {},
   "source": [
    "https://community.acescentral.com/t/rgb-saturation-gamut-mapping-approach-and-a-comp-vfx-perspective/"
   ]
  },
  {
   "cell_type": "code",
   "execution_count": 14,
   "metadata": {},
   "outputs": [
    {
     "data": {
      "application/vnd.jupyter.widget-view+json": {
       "model_id": "1b75b01776914fcbbd98804bf74a97a8",
       "version_major": 2,
       "version_minor": 0
      },
      "text/plain": [
       "GamutMedicinaRGBSaturationWidget(children=(Output(layout=Layout(border='solid 4px #222', margin='4px', padding…"
      ]
     },
     "metadata": {},
     "output_type": "display_data"
    }
   ],
   "source": [
    "\n",
    "class GamutMedicinaRGBSaturationWidget(GamutMedicinaBaseWidget):\n",
    "    def __init__(self,\n",
    "                 reference_image=None,\n",
    "                 compression_threshold=0.8,\n",
    "                 *args,\n",
    "                 **kwargs):\n",
    "        self._compression_threshold = compression_threshold\n",
    "\n",
    "        kwargs['enable_colour_wheel'] = False\n",
    "\n",
    "        super().__init__(reference_image, *args, **kwargs)\n",
    "\n",
    "        self._RGB_w = None\n",
    "        self._RGB_r = None\n",
    "        self._RGB_d = None\n",
    "\n",
    "        self._compression_threshold_chromaticity_diagram_plot = None\n",
    "\n",
    "        self._reset_compression_controls_Button = None\n",
    "        self._compression_threshold_FloatSlider = None\n",
    "\n",
    "        self.initialize_data()\n",
    "        self.initialize_axes()\n",
    "        self.initialise_widgets()\n",
    "        self.attach_callbacks()\n",
    "\n",
    "        self.update_widget(None)\n",
    "\n",
    "    def initialize_data(self):\n",
    "        super().initialize_data()\n",
    "\n",
    "        # *** Reference Image ***\n",
    "        self._RGB_r = self._reference_image_working\n",
    "\n",
    "        # *** Decimated Image, i.e. Scatter ***\n",
    "        self._RGB_d = self._decimated_image_working\n",
    "\n",
    "    def initialize_axes(self):\n",
    "        super().initialize_axes()\n",
    "\n",
    "\n",
    "    def initialise_widgets(self):\n",
    "        super().initialise_widgets()\n",
    "\n",
    "        # *** Widgets ***\n",
    "        self._reset_compression_controls_Button = (\n",
    "            ipywidgets.widgets.Button(\n",
    "                description=\"Reset Compression Controls\"))\n",
    "        self._compression_threshold_FloatSlider = (\n",
    "            ipywidgets.widgets.FloatSlider(\n",
    "                min=0.0,\n",
    "                max=1.0,\n",
    "                step=0.01,\n",
    "                value=self._compression_threshold,\n",
    "                description='Compression Threshold'))\n",
    "\n",
    "        # *** Layout ***\n",
    "        self._compression_controls_HBox = ipywidgets.widgets.HBox([\n",
    "            self._reset_compression_controls_Button,\n",
    "            self._compression_threshold_FloatSlider\n",
    "        ])\n",
    "\n",
    "        self._controls_Tab.children += (\n",
    "            self._compression_controls_HBox,\n",
    "        )\n",
    "\n",
    "        self._controls_Tab.set_title(1, 'Compression Controls')\n",
    "\n",
    "    def attach_callbacks(self):\n",
    "        super().attach_callbacks()\n",
    "\n",
    "        self._reset_compression_controls_Button.on_click(\n",
    "            self.reset_compression_controls)\n",
    "        self._compression_threshold_FloatSlider.observe(\n",
    "            self.update_widget, 'value')\n",
    "\n",
    "    def reset_compression_controls(self, change):\n",
    "        self._compression_threshold_FloatSlider.value = (\n",
    "            self._compression_threshold)\n",
    "\n",
    "        self.update_widget(None)\n",
    "\n",
    "    def medicina(self, RGB, C_t=0.8):\n",
    "        C_t = 1 - C_t\n",
    "\n",
    "        L = np.max(RGB, axis=-1)[..., np.newaxis]\n",
    "\n",
    "        D = np.abs(RGB - L) / L\n",
    "\n",
    "        D_c = tanh_compression_function(D, C_t, 1 - C_t)\n",
    "\n",
    "        RGB_c = L - D_c * L\n",
    "\n",
    "        return RGB_c\n",
    "\n",
    "    def update_chromaticity_diagram_axes(self, C_t):\n",
    "        RGB_r_s = self.medicina(self._RGB_d, C_t).reshape(-1, 3)\n",
    "        self.update_scatter_plot(RGB_r_s)\n",
    "\n",
    "    def update_reference_image_axes(self, C_t):\n",
    "        RGB_r = self.medicina(self._RGB_r, C_t)\n",
    "        self._reference_image_mapped = RGB_r\n",
    "        self._reference_image_imshow.set_data(\n",
    "            self.working_space_to_display_space(RGB_r))\n",
    "\n",
    "    def update_widget(self, change):\n",
    "        super().update_widget(change)\n",
    "\n",
    "        if self._enable:\n",
    "            C_t = 1 - self._compression_threshold_FloatSlider.value\n",
    "\n",
    "            self.update_chromaticity_diagram_axes(C_t)\n",
    "            self.update_reference_image_axes(C_t)\n",
    "\n",
    "            self._figure.canvas.draw_idle()\n",
    "\n",
    "\n",
    "GamutMedicinaRGBSaturationWidget(\n",
    "    '../resources/images/A009C002_190210_R0EI_Alexa_LogCWideGamut.exr')"
   ]
  },
  {
   "cell_type": "code",
   "execution_count": 15,
   "metadata": {},
   "outputs": [
    {
     "data": {
      "application/vnd.jupyter.widget-view+json": {
       "model_id": "b64c394e3bf14c3aa54d6acbd64052f0",
       "version_major": 2,
       "version_minor": 0
      },
      "text/plain": [
       "GamutMedicinaHSVControlWidget(children=(Output(layout=Layout(border='solid 4px #222', margin='4px', padding='0…"
      ]
     },
     "metadata": {},
     "output_type": "display_data"
    }
   ],
   "source": [
    "GamutMedicinaHSVControlWidget(\n",
    "    '../resources/images/A009C002_190210_R0EI_Alexa_LogCWideGamut.exr',\n",
    "    enable_colour_wheel=False)"
   ]
  },
  {
   "cell_type": "code",
   "execution_count": 16,
   "metadata": {},
   "outputs": [
    {
     "data": {
      "application/vnd.jupyter.widget-view+json": {
       "model_id": "eee498cede8f4e42ab0b8af9f4aa6de8",
       "version_major": 2,
       "version_minor": 0
      },
      "text/plain": [
       "GamutMedicinaRGBSaturationWidget(children=(Output(layout=Layout(border='solid 4px #222', margin='4px', padding…"
      ]
     },
     "metadata": {},
     "output_type": "display_data"
    }
   ],
   "source": [
    "GamutMedicinaRGBSaturationWidget(\n",
    "    '../resources/images/Carol Payne - J001_C001_08178N_001.exr')"
   ]
  },
  {
   "cell_type": "code",
   "execution_count": 17,
   "metadata": {},
   "outputs": [
    {
     "data": {
      "application/vnd.jupyter.widget-view+json": {
       "model_id": "41a8e2b23a0949378d1ca4a52ba14a65",
       "version_major": 2,
       "version_minor": 0
      },
      "text/plain": [
       "GamutMedicinaRGBSaturationWidget(children=(Output(layout=Layout(border='solid 4px #222', margin='4px', padding…"
      ]
     },
     "metadata": {},
     "output_type": "display_data"
    }
   ],
   "source": [
    "GamutMedicinaRGBSaturationWidget(\n",
    "    '../resources/images/Cornell_Box_Rigid_Spheres_190_Patch_Roughplastic_Point_Grey_Grasshopper_50S5C_RGB_W.exr')"
   ]
  },
  {
   "cell_type": "markdown",
   "metadata": {},
   "source": [
    "## Musings"
   ]
  },
  {
   "cell_type": "code",
   "execution_count": 18,
   "metadata": {},
   "outputs": [],
   "source": [
    "colour.write_image(\n",
    "    colour_wheel(clip_circle=False)[..., 0:3],\n",
    "    '../resources/images/Colour_Wheel.exr')"
   ]
  },
  {
   "cell_type": "code",
   "execution_count": 19,
   "metadata": {},
   "outputs": [
    {
     "data": {
      "application/vnd.jupyter.widget-view+json": {
       "model_id": "74bb4d2bca644aa7825f2869e09910c2",
       "version_major": 2,
       "version_minor": 0
      },
      "text/plain": [
       "GamutMedicinaHSVControlWidget(children=(Output(layout=Layout(border='solid 4px #222', margin='4px', padding='0…"
      ]
     },
     "metadata": {},
     "output_type": "display_data"
    }
   ],
   "source": [
    "GamutMedicinaHSVControlWidget(\n",
    "    '../resources/images/Colour_Wheel.exr',\n",
    "    protected_area_threshold=0.5,\n",
    "    compression_threshold=0.5,\n",
    "    enable_colour_wheel=False)"
   ]
  },
  {
   "cell_type": "code",
   "execution_count": 20,
   "metadata": {},
   "outputs": [
    {
     "data": {
      "application/vnd.jupyter.widget-view+json": {
       "model_id": "4e680fa87b09497da31baa3ce544a10e",
       "version_major": 2,
       "version_minor": 0
      },
      "text/plain": [
       "GamutMedicinaRGBSaturationWidget(children=(Output(layout=Layout(border='solid 4px #222', margin='4px', padding…"
      ]
     },
     "metadata": {},
     "output_type": "display_data"
    }
   ],
   "source": [
    "GamutMedicinaRGBSaturationWidget(\n",
    "    '../resources/images/Colour_Wheel.exr',\n",
    "    compression_threshold=0.5)"
   ]
  }
 ],
 "metadata": {
  "colab": {
   "collapsed_sections": [],
   "name": "gamut_mapping_ramblings_01",
   "provenance": []
  },
  "kernelspec": {
   "display_name": "Python 3",
   "language": "python",
   "name": "python3"
  },
  "language_info": {
   "codemirror_mode": {
    "name": "ipython",
    "version": 3
   },
   "file_extension": ".py",
   "mimetype": "text/x-python",
   "name": "python",
   "nbconvert_exporter": "python",
   "pygments_lexer": "ipython3",
   "version": "3.7.6"
  },
  "widgets": {
   "application/vnd.jupyter.widget-state+json": {
    "state": {
     "0003724514cc492abf75ba320fc21f41": {
      "model_module": "@jupyter-widgets/base",
      "model_module_version": "1.2.0",
      "model_name": "LayoutModel",
      "state": {}
     },
     "0096b33f90fd429ea7e30672c17c14e9": {
      "model_module": "@jupyter-widgets/base",
      "model_module_version": "1.2.0",
      "model_name": "LayoutModel",
      "state": {}
     },
     "00c72f7dc2324e6ca94852902c061473": {
      "model_module": "@jupyter-widgets/base",
      "model_module_version": "1.2.0",
      "model_name": "LayoutModel",
      "state": {}
     },
     "010cf3ae0f0c4e548c4623f8d661e68b": {
      "model_module": "@jupyter-widgets/controls",
      "model_module_version": "1.5.0",
      "model_name": "ButtonStyleModel",
      "state": {}
     },
     "011179eac446440caa87ca60a6c856f1": {
      "model_module": "@jupyter-widgets/controls",
      "model_module_version": "1.5.0",
      "model_name": "HBoxModel",
      "state": {
       "children": [
        "IPY_MODEL_55767f676ab14da2a0917f83e1970840",
        "IPY_MODEL_f4dddd8f4d2e440ab0dbf9bd0c50e693",
        "IPY_MODEL_6f26c781c17e44df8164e52ed4d8d863"
       ],
       "layout": "IPY_MODEL_d15b34c4df5f41e2af2fc87dd717ef53"
      }
     },
     "011f4975f00e4aa6838dc7473e3445f1": {
      "model_module": "@jupyter-widgets/controls",
      "model_module_version": "1.5.0",
      "model_name": "ButtonModel",
      "state": {
       "description": "Reset Saturation Controls",
       "layout": "IPY_MODEL_0f5fa23169494c43a6e7e9484baabea9",
       "style": "IPY_MODEL_1be5ac66bb6149038f7b3bc443bc63e0"
      }
     },
     "0145d846363943cf9bcccb43e27f3c5f": {
      "model_module": "@jupyter-widgets/controls",
      "model_module_version": "1.5.0",
      "model_name": "FloatSliderModel",
      "state": {
       "description": "180°",
       "layout": "IPY_MODEL_6d5b4845a6a54acfb9cb53b3c67bd0b0",
       "max": 1,
       "min": -1,
       "step": 0.01,
       "style": "IPY_MODEL_c4189dfef0694e6fb69df515ec4871b2"
      }
     },
     "015b9f87559c4238b25e5f3a2ef15598": {
      "model_module": "@jupyter-widgets/controls",
      "model_module_version": "1.5.0",
      "model_name": "SliderStyleModel",
      "state": {
       "description_width": ""
      }
     },
     "01ba694c023f4039984568d6838d83f3": {
      "model_module": "@jupyter-widgets/base",
      "model_module_version": "1.2.0",
      "model_name": "LayoutModel",
      "state": {}
     },
     "01d1410342e9433db938e24971e7ef4e": {
      "model_module": "@jupyter-widgets/controls",
      "model_module_version": "1.5.0",
      "model_name": "HBoxModel",
      "state": {
       "children": [
        "IPY_MODEL_abcc52f570cf42ad87f1fb17fe17471b",
        "IPY_MODEL_1632d706089541a0b53861aca25053ad",
        "IPY_MODEL_765ebfb4ab3e42aa876b247fa59ccbc9"
       ],
       "layout": "IPY_MODEL_483de6b7c99b4afdae21bad88b06fd11"
      }
     },
     "01eaf498490d48d4a0dd7cbf0c282eb7": {
      "model_module": "@jupyter-widgets/controls",
      "model_module_version": "1.5.0",
      "model_name": "SliderStyleModel",
      "state": {
       "description_width": ""
      }
     },
     "0231ba6a80a048aa948ad90990ea3ef8": {
      "model_module": "@jupyter-widgets/base",
      "model_module_version": "1.2.0",
      "model_name": "LayoutModel",
      "state": {}
     },
     "025ee71e731f4597ab9044182ce7b6f1": {
      "model_module": "@jupyter-widgets/base",
      "model_module_version": "1.2.0",
      "model_name": "LayoutModel",
      "state": {}
     },
     "026f832eb7574393b9105df89a6f85a1": {
      "model_module": "@jupyter-widgets/base",
      "model_module_version": "1.2.0",
      "model_name": "LayoutModel",
      "state": {}
     },
     "0289135c0df8445e90b350aa48687c90": {
      "model_module": "@jupyter-widgets/base",
      "model_module_version": "1.2.0",
      "model_name": "LayoutModel",
      "state": {}
     },
     "0289b5edab794be5831f3efbe294eb1f": {
      "model_module": "@jupyter-widgets/controls",
      "model_module_version": "1.5.0",
      "model_name": "ButtonModel",
      "state": {
       "description": "Reset Saturation Controls",
       "layout": "IPY_MODEL_54c171bc17cc4164ba44d6382e6ef225",
       "style": "IPY_MODEL_b930c551233f4795b67a1b2f2aa4660d"
      }
     },
     "02c3c357b91e4882927a48283b32d96c": {
      "model_module": "@jupyter-widgets/controls",
      "model_module_version": "1.5.0",
      "model_name": "FloatSliderModel",
      "state": {
       "description": "Protected Area Threshold",
       "layout": "IPY_MODEL_4347d71658e5404ba854a565b8a2e868",
       "max": 1,
       "step": 0.01,
       "style": "IPY_MODEL_ad2e34d43d3046dbb8d90aaf617ab504",
       "value": 0.7
      }
     },
     "02ef39dd519542b0bb9bcd58cc97ac03": {
      "model_module": "@jupyter-widgets/base",
      "model_module_version": "1.2.0",
      "model_name": "LayoutModel",
      "state": {}
     },
     "03282f3c522f4b0e971a57e683412117": {
      "model_module": "@jupyter-widgets/controls",
      "model_module_version": "1.5.0",
      "model_name": "ButtonModel",
      "state": {
       "description": "Reset Hue Controls",
       "layout": "IPY_MODEL_bde3a7a0689f4259a2782ecd1196272e",
       "style": "IPY_MODEL_7fc3cccda16d414f9acfd0ea4b293061"
      }
     },
     "034a99d037db46c8bd0bf93989471c7a": {
      "model_module": "@jupyter-widgets/controls",
      "model_module_version": "1.5.0",
      "model_name": "ButtonStyleModel",
      "state": {}
     },
     "0356321d3bad4c8aae834c0c001f28e9": {
      "model_module": "@jupyter-widgets/base",
      "model_module_version": "1.2.0",
      "model_name": "LayoutModel",
      "state": {}
     },
     "035fb6b3f5a7400394c167a22cd7585c": {
      "model_module": "@jupyter-widgets/base",
      "model_module_version": "1.2.0",
      "model_name": "LayoutModel",
      "state": {}
     },
     "03fdaa6c274443cc821ef0429b50df0b": {
      "model_module": "jupyter-matplotlib",
      "model_module_version": "^0.7.2",
      "model_name": "ToolbarModel",
      "state": {
       "layout": "IPY_MODEL_40a568c99aa04bde969cb3109ddd965c",
       "toolitems": [
        [
         "Home",
         "Reset original view",
         "home",
         "home"
        ],
        [
         "Back",
         "Back to previous view",
         "arrow-left",
         "back"
        ],
        [
         "Forward",
         "Forward to next view",
         "arrow-right",
         "forward"
        ],
        [
         "Pan",
         "Pan axes with left mouse, zoom with right",
         "arrows",
         "pan"
        ],
        [
         "Zoom",
         "Zoom to rectangle",
         "square-o",
         "zoom"
        ],
        [
         "Download",
         "Download plot",
         "floppy-o",
         "save_figure"
        ]
       ]
      }
     },
     "0401e2e4099a438ea9542b5e62c0339d": {
      "model_module": "@jupyter-widgets/base",
      "model_module_version": "1.2.0",
      "model_name": "LayoutModel",
      "state": {}
     },
     "04131c3abe274b32ba77e107dbce52fe": {
      "model_module": "@jupyter-widgets/base",
      "model_module_version": "1.2.0",
      "model_name": "LayoutModel",
      "state": {}
     },
     "0465ca265dab41a1b971c44a0bb68142": {
      "model_module": "@jupyter-widgets/controls",
      "model_module_version": "1.5.0",
      "model_name": "HBoxModel",
      "state": {
       "children": [
        "IPY_MODEL_25d75a29933b42ad84a0c3adbd0bc28e",
        "IPY_MODEL_384c55ddff634833ab448216537cb974",
        "IPY_MODEL_4b85eba9334c4599a67ca0e78c76deca"
       ],
       "layout": "IPY_MODEL_953358f0e5204edeb6573a36adc00d92"
      }
     },
     "04723fa517984f44b142ef46182e2bc5": {
      "model_module": "@jupyter-widgets/base",
      "model_module_version": "1.2.0",
      "model_name": "LayoutModel",
      "state": {
       "border": "solid 4px #222",
       "margin": "4px",
       "padding": "0"
      }
     },
     "048f4e32c86a4ae481e58ae3576bef04": {
      "model_module": "@jupyter-widgets/controls",
      "model_module_version": "1.5.0",
      "model_name": "HBoxModel",
      "state": {
       "children": [
        "IPY_MODEL_f1e02bc6aefe4616991f51262c7a18c9",
        "IPY_MODEL_1c7359ebdee44808aaf1a4d4e08c7571",
        "IPY_MODEL_b65b1b5cb6f3416da59f9f40a0ed43bc"
       ],
       "layout": "IPY_MODEL_eb5690364cbe4c0f9a06e3e33418fc49"
      }
     },
     "04f88d6638ce4f8fb3d00b0d9589a445": {
      "model_module": "@jupyter-widgets/controls",
      "model_module_version": "1.5.0",
      "model_name": "SliderStyleModel",
      "state": {
       "description_width": ""
      }
     },
     "04fa67f6f70447a0a0a82c7b253269f6": {
      "model_module": "@jupyter-widgets/controls",
      "model_module_version": "1.5.0",
      "model_name": "HBoxModel",
      "state": {
       "children": [
        "IPY_MODEL_9f75c367fd774199a59c62ce75efb575",
        "IPY_MODEL_a195593693754913931a1f67fa3bac94",
        "IPY_MODEL_0c207f7504594539a47eefc1c8c38201"
       ],
       "layout": "IPY_MODEL_d4e3d3d721c94f059398c6152d8740e6"
      }
     },
     "0526be7580f64fcabd1a8775558df917": {
      "model_module": "@jupyter-widgets/base",
      "model_module_version": "1.2.0",
      "model_name": "LayoutModel",
      "state": {}
     },
     "0530958a71c14bb6a350ad8025f307f0": {
      "model_module": "@jupyter-widgets/base",
      "model_module_version": "1.2.0",
      "model_name": "LayoutModel",
      "state": {}
     },
     "05545dadbf5345a8bf497362c493a29a": {
      "model_module": "@jupyter-widgets/controls",
      "model_module_version": "1.5.0",
      "model_name": "ButtonModel",
      "state": {
       "description": "Export Image",
       "layout": "IPY_MODEL_91906fec49ed4455abc6fea7028a1f93",
       "style": "IPY_MODEL_22f387f475374178ae5ed7bf68530f21"
      }
     },
     "0568f841d8304ba294a51f4b8dc26eb0": {
      "model_module": "@jupyter-widgets/base",
      "model_module_version": "1.2.0",
      "model_name": "LayoutModel",
      "state": {}
     },
     "0573a896dbc8435199a73a22539754ef": {
      "model_module": "@jupyter-widgets/controls",
      "model_module_version": "1.5.0",
      "model_name": "TabModel",
      "state": {
       "_titles": {
        "0": "Global Controls",
        "1": "Compression Controls"
       },
       "children": [
        "IPY_MODEL_011179eac446440caa87ca60a6c856f1",
        "IPY_MODEL_b33b6820e0f04ca49adba83ac0a7c2e8"
       ],
       "layout": "IPY_MODEL_10f8f33904174671813d7a8c1a02286a"
      }
     },
     "0583ab96801c4c09a85972ffa6ecab50": {
      "model_module": "@jupyter-widgets/controls",
      "model_module_version": "1.5.0",
      "model_name": "SliderStyleModel",
      "state": {
       "description_width": ""
      }
     },
     "058c67e0ed784d819dda558bbccae96e": {
      "model_module": "@jupyter-widgets/controls",
      "model_module_version": "1.5.0",
      "model_name": "VBoxModel",
      "state": {
       "children": [
        "IPY_MODEL_2399c5d6bf3040d6b067836414d71b21",
        "IPY_MODEL_91bdadba9c414c2ba9edad006e6e747b"
       ],
       "layout": "IPY_MODEL_e63e729a02fd48d1af73c7eba02b4f1e"
      }
     },
     "05a5b0e21e9247e2b08fb3cceb67ddfb": {
      "model_module": "@jupyter-widgets/output",
      "model_module_version": "1.0.0",
      "model_name": "OutputModel",
      "state": {
       "layout": "IPY_MODEL_10a0b2ad45894bbaa8191df18d98f36e",
       "outputs": [
        {
         "data": {
          "application/vnd.jupyter.widget-view+json": {
           "model_id": "81a9f930880341f385df06682f8a346c",
           "version_major": 2,
           "version_minor": 0
          },
          "text/plain": "Canvas(toolbar=Toolbar(toolitems=[('Home', 'Reset original view', 'home', 'home'), ('Back', 'Back to previous …"
         },
         "metadata": {},
         "output_type": "display_data"
        }
       ]
      }
     },
     "05d6364875d64bd6a7105f4597d4e6e2": {
      "model_module": "jupyter-matplotlib",
      "model_module_version": "^0.7.2",
      "model_name": "ToolbarModel",
      "state": {
       "layout": "IPY_MODEL_81d636c1febe46348f7a7503c5c3ece9",
       "toolitems": [
        [
         "Home",
         "Reset original view",
         "home",
         "home"
        ],
        [
         "Back",
         "Back to previous view",
         "arrow-left",
         "back"
        ],
        [
         "Forward",
         "Forward to next view",
         "arrow-right",
         "forward"
        ],
        [
         "Pan",
         "Pan axes with left mouse, zoom with right",
         "arrows",
         "pan"
        ],
        [
         "Zoom",
         "Zoom to rectangle",
         "square-o",
         "zoom"
        ],
        [
         "Download",
         "Download plot",
         "floppy-o",
         "save_figure"
        ]
       ]
      }
     },
     "05d63723fbea45aa985fdd3c8b3ea7d5": {
      "model_module": "@jupyter-widgets/base",
      "model_module_version": "1.2.0",
      "model_name": "LayoutModel",
      "state": {}
     },
     "0621025b6238461a9bd336b8f66067fd": {
      "model_module": "@jupyter-widgets/controls",
      "model_module_version": "1.5.0",
      "model_name": "FloatSliderModel",
      "state": {
       "description": "Compression Threshold",
       "layout": "IPY_MODEL_bc54c14981964e69920e909f147a3fd0",
       "max": 1,
       "step": 0.01,
       "style": "IPY_MODEL_f2f929053aa94eb5aebbac5db9bb557c",
       "value": 0.8
      }
     },
     "06af2ad5d1a942408408b32e090dad91": {
      "model_module": "@jupyter-widgets/base",
      "model_module_version": "1.2.0",
      "model_name": "LayoutModel",
      "state": {}
     },
     "06f5bdcc34364aa9b638e3dbb12d1a49": {
      "model_module": "@jupyter-widgets/base",
      "model_module_version": "1.2.0",
      "model_name": "LayoutModel",
      "state": {}
     },
     "07044b269ec34eff9d631b97d186eda4": {
      "model_module": "@jupyter-widgets/controls",
      "model_module_version": "1.5.0",
      "model_name": "CheckboxModel",
      "state": {
       "description": "Disable Medicina",
       "disabled": false,
       "layout": "IPY_MODEL_eb78f195ee544ab29962d548b91769a1",
       "style": "IPY_MODEL_e8c55c07562d47d388433f7371eff449",
       "value": false
      }
     },
     "072da1d98c4749cc9e20790736758aa0": {
      "model_module": "@jupyter-widgets/base",
      "model_module_version": "1.2.0",
      "model_name": "LayoutModel",
      "state": {}
     },
     "0731d40fa99d493991f2d0cd646e12ad": {
      "model_module": "@jupyter-widgets/controls",
      "model_module_version": "1.5.0",
      "model_name": "VBoxModel",
      "state": {
       "children": [
        "IPY_MODEL_889c2bd9b1d84dda8e31bf1ca965f64c",
        "IPY_MODEL_2538eb998724407b98262778ad051c37",
        "IPY_MODEL_723aece7c6974f82850cbcec4439a126"
       ],
       "layout": "IPY_MODEL_a620f8e248e541c29245bf643871c31b"
      }
     },
     "0763038015524e7fb29cdfeb0ccc3b8b": {
      "model_module": "@jupyter-widgets/base",
      "model_module_version": "1.2.0",
      "model_name": "LayoutModel",
      "state": {}
     },
     "078c199a8b804426bbb6a01fba247b24": {
      "model_module": "@jupyter-widgets/controls",
      "model_module_version": "1.5.0",
      "model_name": "SliderStyleModel",
      "state": {
       "description_width": ""
      }
     },
     "0799224be56a447db6bd20102fab4d55": {
      "model_module": "@jupyter-widgets/controls",
      "model_module_version": "1.5.0",
      "model_name": "ButtonModel",
      "state": {
       "description": "Export Image",
       "layout": "IPY_MODEL_b4fc6fb6e5684056b69de93962de6989",
       "style": "IPY_MODEL_59f1289302ab496a8f8ef17187accbe3"
      }
     },
     "07ebdbf711b74de391be472cd55644d1": {
      "model_module": "@jupyter-widgets/base",
      "model_module_version": "1.2.0",
      "model_name": "LayoutModel",
      "state": {
       "border": "solid 4px #222",
       "margin": "4px",
       "padding": "0"
      }
     },
     "08243bad12094122a10fef42da36d282": {
      "model_module": "@jupyter-widgets/base",
      "model_module_version": "1.2.0",
      "model_name": "LayoutModel",
      "state": {}
     },
     "0852d3cc87844ca5abd1079fc27c3f85": {
      "model_module": "@jupyter-widgets/controls",
      "model_module_version": "1.5.0",
      "model_name": "ButtonStyleModel",
      "state": {}
     },
     "08ba514168e4446b9e81286ee9e3e27d": {
      "model_module": "@jupyter-widgets/controls",
      "model_module_version": "1.5.0",
      "model_name": "HBoxModel",
      "state": {
       "children": [
        "IPY_MODEL_f30aa82548dc424cbe6a0efa4112a61e",
        "IPY_MODEL_0799224be56a447db6bd20102fab4d55",
        "IPY_MODEL_12bdfd912fec448aa880f9784d7a904c"
       ],
       "layout": "IPY_MODEL_186544fde41b4637acb2013680a68f0c"
      }
     },
     "090c01be6bda481194b7bbc3870608ad": {
      "model_module": "@jupyter-widgets/controls",
      "model_module_version": "1.5.0",
      "model_name": "HBoxModel",
      "state": {
       "children": [
        "IPY_MODEL_d1b6de293f10487d87fad81c26be4d79",
        "IPY_MODEL_e5a9709a8d6d45a7a0c2f009ba046be4"
       ],
       "layout": "IPY_MODEL_612db7f4f47e486ca2bec51f324a8b9d"
      }
     },
     "0928cc2fe5a947628870480b8d5f8cb5": {
      "model_module": "@jupyter-widgets/controls",
      "model_module_version": "1.5.0",
      "model_name": "VBoxModel",
      "state": {
       "children": [
        "IPY_MODEL_6d173ed5418f41bbac76036d488d6f69"
       ],
       "layout": "IPY_MODEL_671d44a1306748c6817fdfbdfb2c49e9"
      }
     },
     "0940ba1b1633478e8fd11401a3ef09b8": {
      "model_module": "@jupyter-widgets/controls",
      "model_module_version": "1.5.0",
      "model_name": "SliderStyleModel",
      "state": {
       "description_width": ""
      }
     },
     "09426052b37b435698a5a150c661cb86": {
      "model_module": "@jupyter-widgets/controls",
      "model_module_version": "1.5.0",
      "model_name": "FloatSliderModel",
      "state": {
       "description": "Compression Threshold",
       "layout": "IPY_MODEL_f6012315800a402ba2aec30670ac0400",
       "max": 1,
       "step": 0.01,
       "style": "IPY_MODEL_96c7b2e6e7f8467eabd1dad90d17258a",
       "value": 0.8
      }
     },
     "09719732c5b148818c7056b4f28a2ec7": {
      "model_module": "@jupyter-widgets/controls",
      "model_module_version": "1.5.0",
      "model_name": "HBoxModel",
      "state": {
       "children": [
        "IPY_MODEL_1862b803ede44eaead91b088ea9a3645",
        "IPY_MODEL_94ec8b3cc279432aa2da15e3756197ae"
       ],
       "layout": "IPY_MODEL_8b597e20c0994863b81f47864d36fedb"
      }
     },
     "09ea056f72914f4c843e5787d3b960ec": {
      "model_module": "@jupyter-widgets/base",
      "model_module_version": "1.2.0",
      "model_name": "LayoutModel",
      "state": {}
     },
     "0a05af6f88ec4925b5241abe5abd3070": {
      "model_module": "@jupyter-widgets/base",
      "model_module_version": "1.2.0",
      "model_name": "LayoutModel",
      "state": {}
     },
     "0a63db6ccd5b433ea0d4ff9f90aaec0a": {
      "model_module": "@jupyter-widgets/controls",
      "model_module_version": "1.5.0",
      "model_name": "DescriptionStyleModel",
      "state": {
       "description_width": ""
      }
     },
     "0a6745306ba84dbfa7a3ec1a333d0acd": {
      "model_module": "@jupyter-widgets/base",
      "model_module_version": "1.2.0",
      "model_name": "LayoutModel",
      "state": {}
     },
     "0c1b8385c23e4b03a7b378cb48344cef": {
      "model_module": "@jupyter-widgets/controls",
      "model_module_version": "1.5.0",
      "model_name": "SliderStyleModel",
      "state": {
       "description_width": ""
      }
     },
     "0c207f7504594539a47eefc1c8c38201": {
      "model_module": "@jupyter-widgets/controls",
      "model_module_version": "1.5.0",
      "model_name": "ButtonModel",
      "state": {
       "description": "Save Figure",
       "layout": "IPY_MODEL_9aca7e233e624b92bf0aa030a81c17c0",
       "style": "IPY_MODEL_914b5ebd3e3a419aa6d4e1da48afaa68"
      }
     },
     "0ca59d1f65d945f9a25bf5e02151c432": {
      "model_module": "@jupyter-widgets/controls",
      "model_module_version": "1.5.0",
      "model_name": "HBoxModel",
      "state": {
       "children": [
        "IPY_MODEL_1ba85aca70fc4fd6822ed5d713fc41b5",
        "IPY_MODEL_b75b33dab078454784ff1b697680bee3",
        "IPY_MODEL_f17a4b2aa973402ba11fbfd7c5c5d6bc"
       ],
       "layout": "IPY_MODEL_a1bdd0a14ccc41198ab0417ba00ae697"
      }
     },
     "0cd23f9b62fe4b2d86e4cc5baf4b5220": {
      "model_module": "@jupyter-widgets/base",
      "model_module_version": "1.2.0",
      "model_name": "LayoutModel",
      "state": {}
     },
     "0d1629f4c12d44a69b1e82e64f1bfaad": {
      "model_module": "@jupyter-widgets/controls",
      "model_module_version": "1.5.0",
      "model_name": "VBoxModel",
      "state": {
       "children": [
        "IPY_MODEL_ebdd355ba2984db993a0f6138deabe6c",
        "IPY_MODEL_863b50e2abd0401d8e8d9daeddd0d07c",
        "IPY_MODEL_d5e42742426a4e74ae4dcf1259ca52b1"
       ],
       "layout": "IPY_MODEL_3c346b40c5e34d90880b03773b1db451"
      }
     },
     "0dc84d41b8f74ec697492c634938c99f": {
      "model_module": "@jupyter-widgets/controls",
      "model_module_version": "1.5.0",
      "model_name": "ButtonModel",
      "state": {
       "description": "Save Figure",
       "layout": "IPY_MODEL_aea61297dfcf4b3a8cd5657c4656cc9d",
       "style": "IPY_MODEL_6dd39c0b6bdb41c6b1f59f24ed9a7750"
      }
     },
     "0ddc67462e354582b044ea2f9dfd6dde": {
      "model_module": "@jupyter-widgets/controls",
      "model_module_version": "1.5.0",
      "model_name": "HBoxModel",
      "state": {
       "children": [
        "IPY_MODEL_fdfc3135afbd46b8bf589b2e32176e51",
        "IPY_MODEL_6b620669a623440689f663e0ba507b00",
        "IPY_MODEL_c103fc0b233d4dd5b9b0f09c957cd604",
        "IPY_MODEL_69a314092f8e458d92cb538e6cebdf68"
       ],
       "layout": "IPY_MODEL_cbb4217dca0643d9b78ab5373969aba9"
      }
     },
     "0dedd2392acc4bf3a141e4be7498f17b": {
      "model_module": "@jupyter-widgets/controls",
      "model_module_version": "1.5.0",
      "model_name": "DescriptionStyleModel",
      "state": {
       "description_width": ""
      }
     },
     "0ea608c9faeb489b994d4bd1708a3e30": {
      "model_module": "@jupyter-widgets/base",
      "model_module_version": "1.2.0",
      "model_name": "LayoutModel",
      "state": {}
     },
     "0ed6215696a1435c93c883886550154d": {
      "model_module": "@jupyter-widgets/controls",
      "model_module_version": "1.5.0",
      "model_name": "SliderStyleModel",
      "state": {
       "description_width": ""
      }
     },
     "0f1282be2b084b528e750f599ed80dea": {
      "model_module": "@jupyter-widgets/base",
      "model_module_version": "1.2.0",
      "model_name": "LayoutModel",
      "state": {}
     },
     "0f24f01537c74a27b248bdc8d209c1cd": {
      "model_module": "@jupyter-widgets/controls",
      "model_module_version": "1.5.0",
      "model_name": "FloatSliderModel",
      "state": {
       "description": "Compression Threshold",
       "layout": "IPY_MODEL_799bef0a773440148336b2ffa167a1a0",
       "max": 1,
       "step": 0.01,
       "style": "IPY_MODEL_3d872efc97da4abd9d958c5c54bbb097",
       "value": 0.8
      }
     },
     "0f5fa23169494c43a6e7e9484baabea9": {
      "model_module": "@jupyter-widgets/base",
      "model_module_version": "1.2.0",
      "model_name": "LayoutModel",
      "state": {}
     },
     "0f90f942a80f458eb38fe52655d84974": {
      "model_module": "@jupyter-widgets/controls",
      "model_module_version": "1.5.0",
      "model_name": "ButtonModel",
      "state": {
       "description": "Reset Compression Controls",
       "layout": "IPY_MODEL_1bb40c601e344b9681f7712d9570cf3a",
       "style": "IPY_MODEL_7115fc6a5b1d40289a1ad6d084fc440b"
      }
     },
     "0ff641860548466398f2bac3e2e04c9c": {
      "model_module": "@jupyter-widgets/base",
      "model_module_version": "1.2.0",
      "model_name": "LayoutModel",
      "state": {}
     },
     "10281bdb93de4fefa02a074d4bda77f0": {
      "model_module": "@jupyter-widgets/controls",
      "model_module_version": "1.5.0",
      "model_name": "ButtonModel",
      "state": {
       "description": "Export Image",
       "layout": "IPY_MODEL_b30767e54a8e4a31846ced6cadecfd25",
       "style": "IPY_MODEL_5eb309cb76344226bc01a9b227a9de9e"
      }
     },
     "109618ebd0934a73a111a7f09be2b63a": {
      "model_module": "@jupyter-widgets/base",
      "model_module_version": "1.2.0",
      "model_name": "LayoutModel",
      "state": {}
     },
     "10a0b2ad45894bbaa8191df18d98f36e": {
      "model_module": "@jupyter-widgets/base",
      "model_module_version": "1.2.0",
      "model_name": "LayoutModel",
      "state": {
       "border": "solid 4px #222",
       "margin": "4px",
       "padding": "0"
      }
     },
     "10dcc043159948b4b99e8ff8b21337b9": {
      "model_module": "@jupyter-widgets/controls",
      "model_module_version": "1.5.0",
      "model_name": "HBoxModel",
      "state": {
       "children": [
        "IPY_MODEL_bd48b7e436e640368e81bb4c227d1be9",
        "IPY_MODEL_8c4ddac42ce6483e88e75c8435158d31",
        "IPY_MODEL_0731d40fa99d493991f2d0cd646e12ad",
        "IPY_MODEL_c28ffbcfa20d4bac8ae20c107a5a4718"
       ],
       "layout": "IPY_MODEL_c26df289517f4c4ebca9d4cf6294792a"
      }
     },
     "10e158e3662f408ba3fa9581729a9f42": {
      "model_module": "@jupyter-widgets/controls",
      "model_module_version": "1.5.0",
      "model_name": "SliderStyleModel",
      "state": {
       "description_width": ""
      }
     },
     "10f8f33904174671813d7a8c1a02286a": {
      "model_module": "@jupyter-widgets/base",
      "model_module_version": "1.2.0",
      "model_name": "LayoutModel",
      "state": {
       "border": "solid 4px #222",
       "margin": "4px",
       "padding": "0"
      }
     },
     "111861ee4d97474283caa76ec397431e": {
      "model_module": "@jupyter-widgets/controls",
      "model_module_version": "1.5.0",
      "model_name": "SliderStyleModel",
      "state": {
       "description_width": ""
      }
     },
     "114454198ba74d91b6dd98cbadebe371": {
      "model_module": "@jupyter-widgets/base",
      "model_module_version": "1.2.0",
      "model_name": "LayoutModel",
      "state": {}
     },
     "11a0826f33d64bd3bea89a06f767bc42": {
      "model_module": "@jupyter-widgets/controls",
      "model_module_version": "1.5.0",
      "model_name": "ButtonStyleModel",
      "state": {}
     },
     "11b1655dc9fb4894bfd1c2521014b27e": {
      "model_module": "@jupyter-widgets/base",
      "model_module_version": "1.2.0",
      "model_name": "LayoutModel",
      "state": {}
     },
     "11bb109e2044492b8889a2ea2079f719": {
      "model_module": "@jupyter-widgets/controls",
      "model_module_version": "1.5.0",
      "model_name": "SliderStyleModel",
      "state": {
       "description_width": ""
      }
     },
     "11e024fe63604b448fd94dc807991216": {
      "model_module": "@jupyter-widgets/base",
      "model_module_version": "1.2.0",
      "model_name": "LayoutModel",
      "state": {}
     },
     "123823243d66413c9fafa418f6964e44": {
      "model_module": "@jupyter-widgets/controls",
      "model_module_version": "1.5.0",
      "model_name": "FloatSliderModel",
      "state": {
       "description": "Compression Threshold",
       "layout": "IPY_MODEL_0356321d3bad4c8aae834c0c001f28e9",
       "max": 1,
       "step": 0.01,
       "style": "IPY_MODEL_9f68808553454f5d8d0969ea5e740ae9",
       "value": 0.5
      }
     },
     "123c7b66783d493f8cd8ecb37678f340": {
      "model_module": "@jupyter-widgets/base",
      "model_module_version": "1.2.0",
      "model_name": "LayoutModel",
      "state": {
       "align_items": "stretch",
       "display": "flex",
       "flex_flow": "column",
       "width": "1128px"
      }
     },
     "12bdfd912fec448aa880f9784d7a904c": {
      "model_module": "@jupyter-widgets/controls",
      "model_module_version": "1.5.0",
      "model_name": "ButtonModel",
      "state": {
       "description": "Save Figure",
       "layout": "IPY_MODEL_d862e728025143d6877e9c8b1a902cd9",
       "style": "IPY_MODEL_31fe3c40e2d34d79a271afd2aed1cbb7"
      }
     },
     "12bf93ed76da45d0a35858dda1e1dae9": {
      "model_module": "@jupyter-widgets/controls",
      "model_module_version": "1.5.0",
      "model_name": "ButtonStyleModel",
      "state": {}
     },
     "12eb1ceb011f43debd864bbc7ea4a992": {
      "model_module": "@jupyter-widgets/base",
      "model_module_version": "1.2.0",
      "model_name": "LayoutModel",
      "state": {}
     },
     "1396636c68cd4127b29776b186cf3373": {
      "model_module": "@jupyter-widgets/base",
      "model_module_version": "1.2.0",
      "model_name": "LayoutModel",
      "state": {}
     },
     "13c3f398ef1b4e22b3097a61ce71cd00": {
      "model_module": "@jupyter-widgets/controls",
      "model_module_version": "1.5.0",
      "model_name": "VBoxModel",
      "state": {
       "children": [
        "IPY_MODEL_aaeebb256186454bb1b7c55c52d605ed"
       ],
       "layout": "IPY_MODEL_1fa6bf177fb24670ac47f29a206de95c"
      }
     },
     "13e2fea6b14d470cb73e9a4c0400cb0b": {
      "model_module": "@jupyter-widgets/base",
      "model_module_version": "1.2.0",
      "model_name": "LayoutModel",
      "state": {}
     },
     "13e5dc71791f47fba8c10b324f4f57ab": {
      "model_module": "@jupyter-widgets/base",
      "model_module_version": "1.2.0",
      "model_name": "LayoutModel",
      "state": {
       "border": "solid 4px #222",
       "margin": "4px",
       "padding": "0"
      }
     },
     "14ef2b54392f45b3be6e3dfc0e0b9c36": {
      "model_module": "jupyter-matplotlib",
      "model_module_version": "^0.7.2",
      "model_name": "MPLCanvasModel",
      "state": {
       "_figure_label": "Figure 21",
       "_height": 550,
       "_width": 1100,
       "header_visible": false,
       "layout": "IPY_MODEL_8117767e5aea4f2ab1e09ae92c01643a",
       "resizable": false,
       "toolbar": "IPY_MODEL_64bf3ea939db4d4b8f4b131fd7820e07",
       "toolbar_position": "left",
       "toolbar_visible": false
      }
     },
     "150ec1bb80704a80bc67411161db7a6d": {
      "model_module": "@jupyter-widgets/controls",
      "model_module_version": "1.5.0",
      "model_name": "CheckboxModel",
      "state": {
       "description": "Disable Medicina",
       "disabled": false,
       "layout": "IPY_MODEL_8612a5c53fd34589b2514ab740a653ae",
       "style": "IPY_MODEL_1d2640f8640b4a9d8b91ec8b9edecaf8",
       "value": false
      }
     },
     "15521eb9fd65459bbcaf6c7d55acc4fc": {
      "model_module": "@jupyter-widgets/base",
      "model_module_version": "1.2.0",
      "model_name": "LayoutModel",
      "state": {}
     },
     "15586745473040fca8021b8908cb2352": {
      "model_module": "@jupyter-widgets/controls",
      "model_module_version": "1.5.0",
      "model_name": "SliderStyleModel",
      "state": {
       "description_width": ""
      }
     },
     "158bb50141eb40ad8f7c1a17b42f8d23": {
      "model_module": "@jupyter-widgets/base",
      "model_module_version": "1.2.0",
      "model_name": "LayoutModel",
      "state": {}
     },
     "15d79aa8fff84e18a015e4dab56d25d0": {
      "model_module": "@jupyter-widgets/controls",
      "model_module_version": "1.5.0",
      "model_name": "SliderStyleModel",
      "state": {
       "description_width": ""
      }
     },
     "1604cbffccba4459b865245105ae99f5": {
      "model_module": "@jupyter-widgets/controls",
      "model_module_version": "1.5.0",
      "model_name": "ButtonStyleModel",
      "state": {}
     },
     "1632d706089541a0b53861aca25053ad": {
      "model_module": "@jupyter-widgets/controls",
      "model_module_version": "1.5.0",
      "model_name": "ButtonModel",
      "state": {
       "description": "Export Image",
       "layout": "IPY_MODEL_588b3df95092401ca45011d844e46a2d",
       "style": "IPY_MODEL_31abff5133354503b3aff5b8c8958900"
      }
     },
     "165d0f389c5d4a4ca74d39aa71d088e1": {
      "model_module": "@jupyter-widgets/controls",
      "model_module_version": "1.5.0",
      "model_name": "SliderStyleModel",
      "state": {
       "description_width": ""
      }
     },
     "16a189a80d42415ab9f1b042f4723fe6": {
      "model_module": "@jupyter-widgets/controls",
      "model_module_version": "1.5.0",
      "model_name": "ButtonStyleModel",
      "state": {}
     },
     "174e9fe42eb6458c92704bea8555b89b": {
      "model_module": "@jupyter-widgets/controls",
      "model_module_version": "1.5.0",
      "model_name": "CheckboxModel",
      "state": {
       "description": "Disable Medicina",
       "disabled": false,
       "layout": "IPY_MODEL_b6ba5be685244ef7bae9ada2178a7a9f",
       "style": "IPY_MODEL_a800234d897240dcb93024dc88eeb64d",
       "value": false
      }
     },
     "176d66e255d54d58ba3077b5a34547e6": {
      "model_module": "@jupyter-widgets/base",
      "model_module_version": "1.2.0",
      "model_name": "LayoutModel",
      "state": {
       "align_items": "stretch",
       "display": "flex",
       "flex_flow": "column",
       "width": "1128px"
      }
     },
     "17b3393dd081460a9c0ff3a24f9719b1": {
      "model_module": "@jupyter-widgets/base",
      "model_module_version": "1.2.0",
      "model_name": "LayoutModel",
      "state": {}
     },
     "181e0ffff8674c70a262c1cd733194fa": {
      "model_module": "@jupyter-widgets/controls",
      "model_module_version": "1.5.0",
      "model_name": "FloatSliderModel",
      "state": {
       "description": "45°",
       "layout": "IPY_MODEL_6e402700609a47a79793c12982a2084e",
       "max": 1,
       "min": -1,
       "step": 0.01,
       "style": "IPY_MODEL_be17690ad2a8496480fc215d18d447a3"
      }
     },
     "1862b803ede44eaead91b088ea9a3645": {
      "model_module": "@jupyter-widgets/controls",
      "model_module_version": "1.5.0",
      "model_name": "ButtonModel",
      "state": {
       "description": "Reset Protected Area",
       "layout": "IPY_MODEL_0f1282be2b084b528e750f599ed80dea",
       "style": "IPY_MODEL_0852d3cc87844ca5abd1079fc27c3f85"
      }
     },
     "186544fde41b4637acb2013680a68f0c": {
      "model_module": "@jupyter-widgets/base",
      "model_module_version": "1.2.0",
      "model_name": "LayoutModel",
      "state": {}
     },
     "1905c03e23054e2992615305965da71f": {
      "model_module": "@jupyter-widgets/base",
      "model_module_version": "1.2.0",
      "model_name": "LayoutModel",
      "state": {}
     },
     "1916b637e0d847ee9812e675364e738f": {
      "model_module": "@jupyter-widgets/controls",
      "model_module_version": "1.5.0",
      "model_name": "SliderStyleModel",
      "state": {
       "description_width": ""
      }
     },
     "19286269e72c41e08edb7586355d3d5a": {
      "model_module": "@jupyter-widgets/controls",
      "model_module_version": "1.5.0",
      "model_name": "VBoxModel",
      "state": {
       "children": [
        "IPY_MODEL_f61ac631e67d431c9e7bb4c85c229fb4",
        "IPY_MODEL_a0250faf4d334b51a71828d1ecc3628b"
       ],
       "layout": "IPY_MODEL_4fbb0b784d8640968687bf5f37275480"
      }
     },
     "1940245f3d974372adabe52eeb91244d": {
      "model_module": "@jupyter-widgets/base",
      "model_module_version": "1.2.0",
      "model_name": "LayoutModel",
      "state": {}
     },
     "198834d5551a4068889682e6c6abbf6a": {
      "model_module": "@jupyter-widgets/output",
      "model_module_version": "1.0.0",
      "model_name": "OutputModel",
      "state": {
       "layout": "IPY_MODEL_a28c6d8059d74695915c4dd1e67cf6a6",
       "outputs": [
        {
         "data": {
          "application/vnd.jupyter.widget-view+json": {
           "model_id": "2cdaa5d1ea6a426088f3d8c8ba4e6815",
           "version_major": 2,
           "version_minor": 0
          },
          "text/plain": "Canvas(toolbar=Toolbar(toolitems=[('Home', 'Reset original view', 'home', 'home'), ('Back', 'Back to previous …"
         },
         "metadata": {},
         "output_type": "display_data"
        }
       ]
      }
     },
     "199eca09f91745aa82a0b72bf735034c": {
      "model_module": "@jupyter-widgets/base",
      "model_module_version": "1.2.0",
      "model_name": "LayoutModel",
      "state": {}
     },
     "19b675d233a24b73a2779f998855ac3a": {
      "model_module": "@jupyter-widgets/controls",
      "model_module_version": "1.5.0",
      "model_name": "FloatSliderModel",
      "state": {
       "description": "Compression Threshold",
       "layout": "IPY_MODEL_b2cbc36b7dfe46bb95831fa2987499de",
       "max": 1,
       "step": 0.01,
       "style": "IPY_MODEL_01eaf498490d48d4a0dd7cbf0c282eb7",
       "value": 0.8
      }
     },
     "1a013d28de294dea8a604a32fc1c3b13": {
      "model_module": "@jupyter-widgets/controls",
      "model_module_version": "1.5.0",
      "model_name": "SliderStyleModel",
      "state": {
       "description_width": ""
      }
     },
     "1a30f560ae4540638e741e7985086e67": {
      "model_module": "@jupyter-widgets/controls",
      "model_module_version": "1.5.0",
      "model_name": "DescriptionStyleModel",
      "state": {
       "description_width": ""
      }
     },
     "1a7b47b43e2b48a8bf7eece54c0e4c00": {
      "model_module": "@jupyter-widgets/base",
      "model_module_version": "1.2.0",
      "model_name": "LayoutModel",
      "state": {}
     },
     "1afdafc762794a3694d6f38ab00533e0": {
      "model_module": "@jupyter-widgets/controls",
      "model_module_version": "1.5.0",
      "model_name": "VBoxModel",
      "state": {
       "children": [
        "IPY_MODEL_5d4c0121bcf648b68de87d7cfd39fef1",
        "IPY_MODEL_b05de64a1fd54e38a1c001cca71cfa32"
       ],
       "layout": "IPY_MODEL_c9d69fc4ac6b4b4db2ca9ad3672fe97d"
      }
     },
     "1b7354ab02a0449aa82cda8262ec3102": {
      "model_module": "@jupyter-widgets/base",
      "model_module_version": "1.2.0",
      "model_name": "LayoutModel",
      "state": {}
     },
     "1b75b01776914fcbbd98804bf74a97a8": {
      "model_module": "@jupyter-widgets/controls",
      "model_module_version": "1.5.0",
      "model_name": "BoxModel",
      "state": {
       "children": [
        "IPY_MODEL_71d7af32e220443ab341ad5837c485e9",
        "IPY_MODEL_7a813ad1fab04313a6bc3ff9f94c19b0"
       ],
       "layout": "IPY_MODEL_e9b4ba36600a422a9cf7f41a23399f22"
      }
     },
     "1b77ddb0e7fa44a59719333a761aee87": {
      "model_module": "@jupyter-widgets/controls",
      "model_module_version": "1.5.0",
      "model_name": "CheckboxModel",
      "state": {
       "description": "Disable Medicina",
       "disabled": false,
       "layout": "IPY_MODEL_6f87f3d74e2d4fbeb09df792c6f4d7d7",
       "style": "IPY_MODEL_ae42be9068b5467b8050b9c5773a29f5",
       "value": false
      }
     },
     "1ba85aca70fc4fd6822ed5d713fc41b5": {
      "model_module": "@jupyter-widgets/controls",
      "model_module_version": "1.5.0",
      "model_name": "CheckboxModel",
      "state": {
       "description": "Disable Medicina",
       "disabled": false,
       "layout": "IPY_MODEL_91264d471cfe4350b9d1c4a4c71febfc",
       "style": "IPY_MODEL_ac9e61d6ce134e659ea5428cb36ceb87",
       "value": false
      }
     },
     "1bb40c601e344b9681f7712d9570cf3a": {
      "model_module": "@jupyter-widgets/base",
      "model_module_version": "1.2.0",
      "model_name": "LayoutModel",
      "state": {}
     },
     "1be5ac66bb6149038f7b3bc443bc63e0": {
      "model_module": "@jupyter-widgets/controls",
      "model_module_version": "1.5.0",
      "model_name": "ButtonStyleModel",
      "state": {}
     },
     "1be6060a014d41ddb9a9be17e45ba6bb": {
      "model_module": "@jupyter-widgets/controls",
      "model_module_version": "1.5.0",
      "model_name": "VBoxModel",
      "state": {
       "children": [
        "IPY_MODEL_91d5ab18341c4477830dd952a1be9278"
       ],
       "layout": "IPY_MODEL_541150d25aef441aa21a4c7106341735"
      }
     },
     "1c26a03ef681419f9355a6172ce25314": {
      "model_module": "@jupyter-widgets/base",
      "model_module_version": "1.2.0",
      "model_name": "LayoutModel",
      "state": {}
     },
     "1c7359ebdee44808aaf1a4d4e08c7571": {
      "model_module": "@jupyter-widgets/controls",
      "model_module_version": "1.5.0",
      "model_name": "ButtonModel",
      "state": {
       "description": "Export Image",
       "layout": "IPY_MODEL_0003724514cc492abf75ba320fc21f41",
       "style": "IPY_MODEL_6503797b958d4f3cbfbfe46bf8f67ae5"
      }
     },
     "1cdb2a9c02f541b2a619b2bc1f0a5a6d": {
      "model_module": "@jupyter-widgets/controls",
      "model_module_version": "1.5.0",
      "model_name": "ButtonStyleModel",
      "state": {}
     },
     "1d2640f8640b4a9d8b91ec8b9edecaf8": {
      "model_module": "@jupyter-widgets/controls",
      "model_module_version": "1.5.0",
      "model_name": "DescriptionStyleModel",
      "state": {
       "description_width": ""
      }
     },
     "1d626d255b854072b724d8bc3ca13434": {
      "model_module": "@jupyter-widgets/controls",
      "model_module_version": "1.5.0",
      "model_name": "ButtonStyleModel",
      "state": {}
     },
     "1d77ebc1a0824f14bf712aacbce7c607": {
      "model_module": "@jupyter-widgets/controls",
      "model_module_version": "1.5.0",
      "model_name": "SliderStyleModel",
      "state": {
       "description_width": ""
      }
     },
     "1e51d588665843a2a37b7fb1c3fbcf97": {
      "model_module": "@jupyter-widgets/base",
      "model_module_version": "1.2.0",
      "model_name": "LayoutModel",
      "state": {}
     },
     "1eb0478fa1824410b8c6375a24bcff41": {
      "model_module": "@jupyter-widgets/base",
      "model_module_version": "1.2.0",
      "model_name": "LayoutModel",
      "state": {}
     },
     "1ee7f0f1666c44bf95e49db0b7769c8a": {
      "model_module": "@jupyter-widgets/base",
      "model_module_version": "1.2.0",
      "model_name": "LayoutModel",
      "state": {}
     },
     "1f4b21a6b5c24f0581201234352f04e1": {
      "model_module": "@jupyter-widgets/controls",
      "model_module_version": "1.5.0",
      "model_name": "FloatSliderModel",
      "state": {
       "description": "135°",
       "layout": "IPY_MODEL_22dcd9db3dc5445d902e6dfecb4c7601",
       "max": 1,
       "min": -1,
       "step": 0.01,
       "style": "IPY_MODEL_ef1aca218529483282a6c5120fe24b91"
      }
     },
     "1f4db932f2944241a5d507681b4af9fc": {
      "model_module": "@jupyter-widgets/controls",
      "model_module_version": "1.5.0",
      "model_name": "HBoxModel",
      "state": {
       "children": [
        "IPY_MODEL_eca861e3debf43da971da338f439915b",
        "IPY_MODEL_52fc9587514e46bb8a72bc7ca5e5a3e3"
       ],
       "layout": "IPY_MODEL_17b3393dd081460a9c0ff3a24f9719b1"
      }
     },
     "1fa058e6d641430b86397d9609ea593c": {
      "model_module": "@jupyter-widgets/controls",
      "model_module_version": "1.5.0",
      "model_name": "FloatSliderModel",
      "state": {
       "description": "315°",
       "layout": "IPY_MODEL_845011a24b7d4ea995eabd9e9e2084a7",
       "max": 1,
       "min": -1,
       "step": 0.01,
       "style": "IPY_MODEL_f9e44b3d52b64112babd854494db92ab"
      }
     },
     "1fa6bf177fb24670ac47f29a206de95c": {
      "model_module": "@jupyter-widgets/base",
      "model_module_version": "1.2.0",
      "model_name": "LayoutModel",
      "state": {}
     },
     "20bee31fc65942e9b94265cefd2b3933": {
      "model_module": "@jupyter-widgets/base",
      "model_module_version": "1.2.0",
      "model_name": "LayoutModel",
      "state": {}
     },
     "20c962f1164949329067e7e87eb3bee9": {
      "model_module": "@jupyter-widgets/base",
      "model_module_version": "1.2.0",
      "model_name": "LayoutModel",
      "state": {}
     },
     "214cdcf63d6048c88b5d6c493e4b9c74": {
      "model_module": "jupyter-matplotlib",
      "model_module_version": "^0.7.2",
      "model_name": "ToolbarModel",
      "state": {
       "layout": "IPY_MODEL_76c0328d1e82481583e315b35d1c5387",
       "toolitems": [
        [
         "Home",
         "Reset original view",
         "home",
         "home"
        ],
        [
         "Back",
         "Back to previous view",
         "arrow-left",
         "back"
        ],
        [
         "Forward",
         "Forward to next view",
         "arrow-right",
         "forward"
        ],
        [
         "Pan",
         "Pan axes with left mouse, zoom with right",
         "arrows",
         "pan"
        ],
        [
         "Zoom",
         "Zoom to rectangle",
         "square-o",
         "zoom"
        ],
        [
         "Download",
         "Download plot",
         "floppy-o",
         "save_figure"
        ]
       ]
      }
     },
     "218f5d9c001d4c5da349375fc33782f7": {
      "model_module": "@jupyter-widgets/base",
      "model_module_version": "1.2.0",
      "model_name": "LayoutModel",
      "state": {}
     },
     "21f97330f1b64eda80bacd093efdef15": {
      "model_module": "@jupyter-widgets/controls",
      "model_module_version": "1.5.0",
      "model_name": "TabModel",
      "state": {
       "_titles": {
        "0": "Global Controls",
        "1": "Protected Area Controls",
        "2": "Saturation Controls",
        "3": "Hue Controls"
       },
       "children": [
        "IPY_MODEL_5be048787ca6481ab5e511e4a841c99f",
        "IPY_MODEL_c3b0e5ae5ac9478d8464f00343d09885",
        "IPY_MODEL_4b883337d9444ac6a6f7d984bfc4b0a6",
        "IPY_MODEL_10dcc043159948b4b99e8ff8b21337b9"
       ],
       "layout": "IPY_MODEL_8785aefdec4144ff9117e12561f471fd"
      }
     },
     "220d3c46993a4dbcaff1c7746a02e994": {
      "model_module": "@jupyter-widgets/base",
      "model_module_version": "1.2.0",
      "model_name": "LayoutModel",
      "state": {}
     },
     "2287eb4bf79943c69a0dda08a452f33a": {
      "model_module": "@jupyter-widgets/base",
      "model_module_version": "1.2.0",
      "model_name": "LayoutModel",
      "state": {}
     },
     "22dcd9db3dc5445d902e6dfecb4c7601": {
      "model_module": "@jupyter-widgets/base",
      "model_module_version": "1.2.0",
      "model_name": "LayoutModel",
      "state": {}
     },
     "22f387f475374178ae5ed7bf68530f21": {
      "model_module": "@jupyter-widgets/controls",
      "model_module_version": "1.5.0",
      "model_name": "ButtonStyleModel",
      "state": {}
     },
     "22ff119d191641dbb9a335dafdad6f13": {
      "model_module": "@jupyter-widgets/base",
      "model_module_version": "1.2.0",
      "model_name": "LayoutModel",
      "state": {}
     },
     "2326943ba4dc4b2486420b30fc31bc2d": {
      "model_module": "@jupyter-widgets/controls",
      "model_module_version": "1.5.0",
      "model_name": "ButtonModel",
      "state": {
       "description": "Reset Hue Controls",
       "layout": "IPY_MODEL_b74dcdd23883467bb81f3d5a21d7be8e",
       "style": "IPY_MODEL_1d626d255b854072b724d8bc3ca13434"
      }
     },
     "2334b5ee7d7148e0ab82eb8cd745b8f8": {
      "model_module": "@jupyter-widgets/base",
      "model_module_version": "1.2.0",
      "model_name": "LayoutModel",
      "state": {}
     },
     "2399c5d6bf3040d6b067836414d71b21": {
      "model_module": "@jupyter-widgets/controls",
      "model_module_version": "1.5.0",
      "model_name": "FloatSliderModel",
      "state": {
       "description": "270°",
       "layout": "IPY_MODEL_a56427c45834466589f11fbd63fb12d3",
       "max": 1,
       "min": -1,
       "step": 0.01,
       "style": "IPY_MODEL_1916b637e0d847ee9812e675364e738f"
      }
     },
     "2411358d94ca4523be0452f65fd37532": {
      "model_module": "@jupyter-widgets/controls",
      "model_module_version": "1.5.0",
      "model_name": "ButtonModel",
      "state": {
       "description": "Save Figure",
       "layout": "IPY_MODEL_30675eddb3954209a4bde13f0860d267",
       "style": "IPY_MODEL_4ba543fd828c48709d1941f74f2adb82"
      }
     },
     "243f589bbf594d6d922b772a05e1d438": {
      "model_module": "@jupyter-widgets/base",
      "model_module_version": "1.2.0",
      "model_name": "LayoutModel",
      "state": {}
     },
     "24452c52a5804d5cbbd4734dbc0a1751": {
      "model_module": "@jupyter-widgets/output",
      "model_module_version": "1.0.0",
      "model_name": "OutputModel",
      "state": {
       "layout": "IPY_MODEL_4fede1a1dce646ae8facbbbaf77bf252",
       "outputs": [
        {
         "data": {
          "application/vnd.jupyter.widget-view+json": {
           "model_id": "cb92afae251e4e1dabd3f46a710fc037",
           "version_major": 2,
           "version_minor": 0
          },
          "text/plain": "Canvas(toolbar=Toolbar(toolitems=[('Home', 'Reset original view', 'home', 'home'), ('Back', 'Back to previous …"
         },
         "metadata": {},
         "output_type": "display_data"
        }
       ]
      }
     },
     "24aec9a86d4f45a59e749b74a0d9002a": {
      "model_module": "@jupyter-widgets/base",
      "model_module_version": "1.2.0",
      "model_name": "LayoutModel",
      "state": {}
     },
     "24b01ea0006c4c7381db5988111f6763": {
      "model_module": "@jupyter-widgets/base",
      "model_module_version": "1.2.0",
      "model_name": "LayoutModel",
      "state": {}
     },
     "24b94d30416f474e9f0ab862faae4194": {
      "model_module": "@jupyter-widgets/base",
      "model_module_version": "1.2.0",
      "model_name": "LayoutModel",
      "state": {}
     },
     "24d53aca2c504fe69a9e4b2b9d3e7365": {
      "model_module": "@jupyter-widgets/base",
      "model_module_version": "1.2.0",
      "model_name": "LayoutModel",
      "state": {
       "border": "solid 4px #222",
       "margin": "4px",
       "padding": "0"
      }
     },
     "2538eb998724407b98262778ad051c37": {
      "model_module": "@jupyter-widgets/controls",
      "model_module_version": "1.5.0",
      "model_name": "FloatSliderModel",
      "state": {
       "description": "180°",
       "layout": "IPY_MODEL_62f5de95d7f745c7b52c5865aaef4215",
       "max": 1,
       "min": -1,
       "step": 0.01,
       "style": "IPY_MODEL_11bb109e2044492b8889a2ea2079f719"
      }
     },
     "2564ea91027041259dff0c0edd779096": {
      "model_module": "@jupyter-widgets/controls",
      "model_module_version": "1.5.0",
      "model_name": "TabModel",
      "state": {
       "_titles": {
        "0": "Global Controls",
        "1": "Compression Controls"
       },
       "children": [
        "IPY_MODEL_01d1410342e9433db938e24971e7ef4e",
        "IPY_MODEL_876f1cdbf66c4958a5e7241d42530cb4"
       ],
       "layout": "IPY_MODEL_d0805847c02f40ce941104e2e375e46a"
      }
     },
     "25ac7a427e20438cb6cc484a0ab788e7": {
      "model_module": "@jupyter-widgets/base",
      "model_module_version": "1.2.0",
      "model_name": "LayoutModel",
      "state": {}
     },
     "25c1932aeb8940c0a2bbbe2141079bc5": {
      "model_module": "@jupyter-widgets/controls",
      "model_module_version": "1.5.0",
      "model_name": "TabModel",
      "state": {
       "_titles": {
        "0": "Global Controls",
        "1": "Compression Controls"
       },
       "children": [
        "IPY_MODEL_f8d078537c914f92a794c5bd3e583c6b",
        "IPY_MODEL_76d7e28bb7cd4b128fd9fe5026391baf"
       ],
       "layout": "IPY_MODEL_88f5621d9f8f467e821582ad6d546e76"
      }
     },
     "25cffb535b144dcba9b4455a587ee27b": {
      "model_module": "@jupyter-widgets/base",
      "model_module_version": "1.2.0",
      "model_name": "LayoutModel",
      "state": {}
     },
     "25d75a29933b42ad84a0c3adbd0bc28e": {
      "model_module": "@jupyter-widgets/controls",
      "model_module_version": "1.5.0",
      "model_name": "CheckboxModel",
      "state": {
       "description": "Disable Medicina",
       "disabled": false,
       "layout": "IPY_MODEL_5e002d332add48f49567a9c32f16b870",
       "style": "IPY_MODEL_0dedd2392acc4bf3a141e4be7498f17b",
       "value": false
      }
     },
     "25edd156d8c844878382bbf730a2127a": {
      "model_module": "@jupyter-widgets/controls",
      "model_module_version": "1.5.0",
      "model_name": "TabModel",
      "state": {
       "_titles": {
        "0": "Global Controls"
       },
       "children": [
        "IPY_MODEL_78d7627d8f7f4eef81a82a3c736ce892"
       ],
       "layout": "IPY_MODEL_3c67a69085a84bc1b79f3e598ed64f3f"
      }
     },
     "262671ec3b3347c4bc3986d33cc39380": {
      "model_module": "@jupyter-widgets/base",
      "model_module_version": "1.2.0",
      "model_name": "LayoutModel",
      "state": {}
     },
     "278bc9c315c64375a84a2b98813db130": {
      "model_module": "@jupyter-widgets/base",
      "model_module_version": "1.2.0",
      "model_name": "LayoutModel",
      "state": {}
     },
     "27b4245a7c334126ba0a0b3ac45ced70": {
      "model_module": "@jupyter-widgets/controls",
      "model_module_version": "1.5.0",
      "model_name": "ButtonStyleModel",
      "state": {}
     },
     "27cb9a41b3cc431dad363a957d332a59": {
      "model_module": "@jupyter-widgets/base",
      "model_module_version": "1.2.0",
      "model_name": "LayoutModel",
      "state": {}
     },
     "2887754134b54dc0b95209b6045a34be": {
      "model_module": "@jupyter-widgets/base",
      "model_module_version": "1.2.0",
      "model_name": "LayoutModel",
      "state": {}
     },
     "28adb02c0d7e421b9f8194d8a78c58d1": {
      "model_module": "@jupyter-widgets/controls",
      "model_module_version": "1.5.0",
      "model_name": "ButtonStyleModel",
      "state": {}
     },
     "2947572ddfc44cad9a5cc04d17521b99": {
      "model_module": "@jupyter-widgets/base",
      "model_module_version": "1.2.0",
      "model_name": "LayoutModel",
      "state": {}
     },
     "296a3388b66248e892b62c0fbe0c459d": {
      "model_module": "@jupyter-widgets/controls",
      "model_module_version": "1.5.0",
      "model_name": "SliderStyleModel",
      "state": {
       "description_width": ""
      }
     },
     "2978bd194c80426d9f92f1e122b340b3": {
      "model_module": "@jupyter-widgets/controls",
      "model_module_version": "1.5.0",
      "model_name": "DescriptionStyleModel",
      "state": {
       "description_width": ""
      }
     },
     "29977766eb2d4f228b3670ca328718c8": {
      "model_module": "@jupyter-widgets/controls",
      "model_module_version": "1.5.0",
      "model_name": "DescriptionStyleModel",
      "state": {
       "description_width": ""
      }
     },
     "29a7d75e7fc84fb990bf4fde9d2086ac": {
      "model_module": "@jupyter-widgets/controls",
      "model_module_version": "1.5.0",
      "model_name": "SliderStyleModel",
      "state": {
       "description_width": ""
      }
     },
     "29da903c22d440ca88b08bf1fe491c43": {
      "model_module": "@jupyter-widgets/controls",
      "model_module_version": "1.5.0",
      "model_name": "FloatSliderModel",
      "state": {
       "description": "270°",
       "layout": "IPY_MODEL_9c1da0755f5c4f17a6bb38ec48de4703",
       "max": 1,
       "min": -1,
       "step": 0.01,
       "style": "IPY_MODEL_1a013d28de294dea8a604a32fc1c3b13"
      }
     },
     "29e3962fb2f04eb3aae08ab1651779ea": {
      "model_module": "@jupyter-widgets/controls",
      "model_module_version": "1.5.0",
      "model_name": "SliderStyleModel",
      "state": {
       "description_width": ""
      }
     },
     "2a03291695104935b5613809941d5187": {
      "model_module": "@jupyter-widgets/base",
      "model_module_version": "1.2.0",
      "model_name": "LayoutModel",
      "state": {}
     },
     "2a0b42d098a44a6c90cf267327b96192": {
      "model_module": "jupyter-matplotlib",
      "model_module_version": "^0.7.2",
      "model_name": "MPLCanvasModel",
      "state": {
       "_figure_label": "Figure 19",
       "_height": 550,
       "_width": 1100,
       "header_visible": false,
       "layout": "IPY_MODEL_35b9e785ce8e40a2b5783b3405a366d5",
       "resizable": false,
       "toolbar": "IPY_MODEL_7497d9789c7140248edcdfbc02483dde",
       "toolbar_position": "left",
       "toolbar_visible": false
      }
     },
     "2afb42ad8b7747a09b7c7f68db757c4e": {
      "model_module": "@jupyter-widgets/controls",
      "model_module_version": "1.5.0",
      "model_name": "ButtonStyleModel",
      "state": {}
     },
     "2b087383a4c0452ab55054eb3b8a8045": {
      "model_module": "@jupyter-widgets/base",
      "model_module_version": "1.2.0",
      "model_name": "LayoutModel",
      "state": {}
     },
     "2bc7a110a3d943f5940d98747dbaaf00": {
      "model_module": "@jupyter-widgets/base",
      "model_module_version": "1.2.0",
      "model_name": "LayoutModel",
      "state": {
       "border": "solid 4px #222",
       "margin": "4px",
       "padding": "0"
      }
     },
     "2c1ecd2bdcef4a76ab51702c9ffab99d": {
      "model_module": "@jupyter-widgets/controls",
      "model_module_version": "1.5.0",
      "model_name": "TabModel",
      "state": {
       "_titles": {
        "0": "Global Controls"
       },
       "children": [
        "IPY_MODEL_cee2fe1c421f4cf7a392567fddc61bae"
       ],
       "layout": "IPY_MODEL_3a77a3977f704ad89be493a3b948d20e"
      }
     },
     "2c384b9367ed4e5984881defe09e5166": {
      "model_module": "@jupyter-widgets/base",
      "model_module_version": "1.2.0",
      "model_name": "LayoutModel",
      "state": {}
     },
     "2c49c3381f594d8d95c352c2d2218743": {
      "model_module": "@jupyter-widgets/controls",
      "model_module_version": "1.5.0",
      "model_name": "TabModel",
      "state": {
       "_titles": {
        "0": "Global Controls",
        "1": "Compression Controls"
       },
       "children": [
        "IPY_MODEL_4ace9e431c134f3bb73ace2c48d47296",
        "IPY_MODEL_430bfc1ddcc7424c81408e3ca3c9fe6b"
       ],
       "layout": "IPY_MODEL_87837c6768304342a66b5ed0eb2c56e3"
      }
     },
     "2c4f4737da7748dca0291efda4e6a942": {
      "model_module": "@jupyter-widgets/controls",
      "model_module_version": "1.5.0",
      "model_name": "HBoxModel",
      "state": {
       "children": [
        "IPY_MODEL_6f5f9db7b49444e6b59965b68611fda8",
        "IPY_MODEL_322fe4a094b14c02a4a63cb7dc63b2cc",
        "IPY_MODEL_ee7c9bcc37f34689b7a7a85cee504f00",
        "IPY_MODEL_7ecd61eede4c4434b63b66b546d205ee"
       ],
       "layout": "IPY_MODEL_8bff30ffc17246bb89ab38b3d85282dd"
      }
     },
     "2c9407e35feb46ebb2da58d900f420bf": {
      "model_module": "@jupyter-widgets/base",
      "model_module_version": "1.2.0",
      "model_name": "LayoutModel",
      "state": {}
     },
     "2cdaa5d1ea6a426088f3d8c8ba4e6815": {
      "model_module": "jupyter-matplotlib",
      "model_module_version": "^0.7.2",
      "model_name": "MPLCanvasModel",
      "state": {
       "_figure_label": "Figure 18",
       "_height": 550,
       "_message": "x= y= [0, 0.919, 1]",
       "_width": 1100,
       "header_visible": false,
       "layout": "IPY_MODEL_fd71ab0e6c5d4a4181cf069c30433221",
       "resizable": false,
       "toolbar": "IPY_MODEL_60a58e6ce9f0425b8383365eeae32443",
       "toolbar_position": "left",
       "toolbar_visible": false
      }
     },
     "2d213c3360724a0d85916975e404a846": {
      "model_module": "jupyter-matplotlib",
      "model_module_version": "^0.7.2",
      "model_name": "ToolbarModel",
      "state": {
       "layout": "IPY_MODEL_7e440ce4f83b4bf0ae83ed5c84a47aa1",
       "toolitems": [
        [
         "Home",
         "Reset original view",
         "home",
         "home"
        ],
        [
         "Back",
         "Back to previous view",
         "arrow-left",
         "back"
        ],
        [
         "Forward",
         "Forward to next view",
         "arrow-right",
         "forward"
        ],
        [
         "Pan",
         "Pan axes with left mouse, zoom with right",
         "arrows",
         "pan"
        ],
        [
         "Zoom",
         "Zoom to rectangle",
         "square-o",
         "zoom"
        ],
        [
         "Download",
         "Download plot",
         "floppy-o",
         "save_figure"
        ]
       ]
      }
     },
     "2d81e3b525a84199b3c27930b4d5e42f": {
      "model_module": "@jupyter-widgets/base",
      "model_module_version": "1.2.0",
      "model_name": "LayoutModel",
      "state": {}
     },
     "2e29cd8d8b9b46189c43c66ea664d944": {
      "model_module": "@jupyter-widgets/base",
      "model_module_version": "1.2.0",
      "model_name": "LayoutModel",
      "state": {
       "border": "solid 4px #222",
       "margin": "4px",
       "padding": "0"
      }
     },
     "2e30d4d72e744ce59cd13a14f0529273": {
      "model_module": "jupyter-matplotlib",
      "model_module_version": "^0.7.2",
      "model_name": "MPLCanvasModel",
      "state": {
       "_figure_label": "Figure 13",
       "_height": 430,
       "_width": 1099,
       "header_visible": false,
       "layout": "IPY_MODEL_574f99c8e95b48b7a0d1ad156037e254",
       "resizable": false,
       "toolbar": "IPY_MODEL_7303c4457f0f4706ab4b3dbcf01b69d3",
       "toolbar_position": "left",
       "toolbar_visible": false
      }
     },
     "2e9d4c2b5d68401e8f368023b8a65c0b": {
      "model_module": "@jupyter-widgets/base",
      "model_module_version": "1.2.0",
      "model_name": "LayoutModel",
      "state": {}
     },
     "2ee6eb1958a84fdb9dfbb1cf16d959e9": {
      "model_module": "@jupyter-widgets/controls",
      "model_module_version": "1.5.0",
      "model_name": "ButtonStyleModel",
      "state": {}
     },
     "2f1f3970ab0c46dcbe2f34a16d15ba42": {
      "model_module": "jupyter-matplotlib",
      "model_module_version": "^0.7.2",
      "model_name": "MPLCanvasModel",
      "state": {
       "_figure_label": "Figure 10",
       "_height": 718,
       "_width": 1100,
       "header_visible": false,
       "layout": "IPY_MODEL_438bfd8587914c71912dc857a98f971f",
       "resizable": false,
       "toolbar": "IPY_MODEL_214cdcf63d6048c88b5d6c493e4b9c74",
       "toolbar_position": "left",
       "toolbar_visible": false
      }
     },
     "2f6b6e7b80b642209b42b78fc8897e64": {
      "model_module": "@jupyter-widgets/controls",
      "model_module_version": "1.5.0",
      "model_name": "FloatSliderModel",
      "state": {
       "description": "Compression Threshold",
       "layout": "IPY_MODEL_20c962f1164949329067e7e87eb3bee9",
       "max": 1,
       "step": 0.01,
       "style": "IPY_MODEL_939ff024c50041b08fe3a6ca30adea1a",
       "value": 0.8
      }
     },
     "2f7a57e9777a4c97be5b11e590e4e31e": {
      "model_module": "@jupyter-widgets/controls",
      "model_module_version": "1.5.0",
      "model_name": "HBoxModel",
      "state": {
       "children": [
        "IPY_MODEL_a1e7ad6d7e1444bcbbc3d18617d10684",
        "IPY_MODEL_02c3c357b91e4882927a48283b32d96c"
       ],
       "layout": "IPY_MODEL_00c72f7dc2324e6ca94852902c061473"
      }
     },
     "303e2dd58cd44071bd55d1b2561eb588": {
      "model_module": "@jupyter-widgets/controls",
      "model_module_version": "1.5.0",
      "model_name": "VBoxModel",
      "state": {
       "children": [
        "IPY_MODEL_80c8a36f36174c6e9d3adaeabce1b0e9",
        "IPY_MODEL_6110588ae33143ac9795845692edda71",
        "IPY_MODEL_a1ec1df126ab4df780c96821bd25f92c"
       ],
       "layout": "IPY_MODEL_bc8c36bca95843ed83ff9a964ca62d82"
      }
     },
     "3048c4d87e054ea5911bab79a7365bf4": {
      "model_module": "@jupyter-widgets/controls",
      "model_module_version": "1.5.0",
      "model_name": "ButtonModel",
      "state": {
       "description": "Save Figure",
       "layout": "IPY_MODEL_0a6745306ba84dbfa7a3ec1a333d0acd",
       "style": "IPY_MODEL_8fe0f1b0e77548dd9cbb4f157982db86"
      }
     },
     "305a5582fc6a40d2ac5887c790c00bf6": {
      "model_module": "@jupyter-widgets/controls",
      "model_module_version": "1.5.0",
      "model_name": "CheckboxModel",
      "state": {
       "description": "Disable Medicina",
       "disabled": false,
       "layout": "IPY_MODEL_a95cc7a2746844eb8214558788d8cd32",
       "style": "IPY_MODEL_29977766eb2d4f228b3670ca328718c8",
       "value": false
      }
     },
     "30675eddb3954209a4bde13f0860d267": {
      "model_module": "@jupyter-widgets/base",
      "model_module_version": "1.2.0",
      "model_name": "LayoutModel",
      "state": {}
     },
     "31239e7cc58d47cea407c10691d9ce2b": {
      "model_module": "@jupyter-widgets/base",
      "model_module_version": "1.2.0",
      "model_name": "LayoutModel",
      "state": {}
     },
     "316bfa2a70fd46278300d1492ce2034d": {
      "model_module": "@jupyter-widgets/controls",
      "model_module_version": "1.5.0",
      "model_name": "ButtonStyleModel",
      "state": {}
     },
     "317dd25b33a6427881235ee396f098b0": {
      "model_module": "@jupyter-widgets/base",
      "model_module_version": "1.2.0",
      "model_name": "LayoutModel",
      "state": {}
     },
     "3194625c66f24082b9eb4950518886f8": {
      "model_module": "jupyter-matplotlib",
      "model_module_version": "^0.7.2",
      "model_name": "MPLCanvasModel",
      "state": {
       "_figure_label": "Figure 2",
       "_height": 396,
       "_image_mode": "diff",
       "_width": 1100,
       "header_visible": false,
       "layout": "IPY_MODEL_a913b20c48994027a229ab08c2f120fc",
       "resizable": false,
       "toolbar": "IPY_MODEL_e6ff6d9014794fbc859b7c992861501a",
       "toolbar_position": "left",
       "toolbar_visible": false
      }
     },
     "31abff5133354503b3aff5b8c8958900": {
      "model_module": "@jupyter-widgets/controls",
      "model_module_version": "1.5.0",
      "model_name": "ButtonStyleModel",
      "state": {}
     },
     "31cf2ee6f6044ea4a9452cc92ec1ef63": {
      "model_module": "@jupyter-widgets/controls",
      "model_module_version": "1.5.0",
      "model_name": "SliderStyleModel",
      "state": {
       "description_width": ""
      }
     },
     "31d71dc6f64043148fb1deab9fb747b6": {
      "model_module": "@jupyter-widgets/base",
      "model_module_version": "1.2.0",
      "model_name": "LayoutModel",
      "state": {}
     },
     "31f252bdaf5647668fb9ac25da876bde": {
      "model_module": "@jupyter-widgets/base",
      "model_module_version": "1.2.0",
      "model_name": "LayoutModel",
      "state": {}
     },
     "31fb2cc587da4d2a96e115a91fb240a8": {
      "model_module": "@jupyter-widgets/base",
      "model_module_version": "1.2.0",
      "model_name": "LayoutModel",
      "state": {
       "border": "solid 4px #222",
       "margin": "4px",
       "padding": "0"
      }
     },
     "31fe3c40e2d34d79a271afd2aed1cbb7": {
      "model_module": "@jupyter-widgets/controls",
      "model_module_version": "1.5.0",
      "model_name": "ButtonStyleModel",
      "state": {}
     },
     "322fe4a094b14c02a4a63cb7dc63b2cc": {
      "model_module": "@jupyter-widgets/controls",
      "model_module_version": "1.5.0",
      "model_name": "VBoxModel",
      "state": {
       "children": [
        "IPY_MODEL_b1f51782c1354ebc89f2205272d8ca9c",
        "IPY_MODEL_e894b2b5e17c4a9fa98b30fc09709289",
        "IPY_MODEL_7cae882391c64d7a8094bcf31fccdf8e"
       ],
       "layout": "IPY_MODEL_e9fc19c434d3499999ab4e696b174355"
      }
     },
     "331489a990934449ad191b59aacccaa3": {
      "model_module": "@jupyter-widgets/base",
      "model_module_version": "1.2.0",
      "model_name": "LayoutModel",
      "state": {}
     },
     "3353bd137b2943e594accb7ab6cc8feb": {
      "model_module": "@jupyter-widgets/base",
      "model_module_version": "1.2.0",
      "model_name": "LayoutModel",
      "state": {}
     },
     "337da5ab93b64724b36d2e25191f9d90": {
      "model_module": "@jupyter-widgets/controls",
      "model_module_version": "1.5.0",
      "model_name": "CheckboxModel",
      "state": {
       "description": "Disable Medicina",
       "disabled": false,
       "layout": "IPY_MODEL_025ee71e731f4597ab9044182ce7b6f1",
       "style": "IPY_MODEL_61417195ee3c4a4cbfb2c8bb50970f65",
       "value": false
      }
     },
     "33f3978ea4ef4984ac503d738350b7d1": {
      "model_module": "@jupyter-widgets/output",
      "model_module_version": "1.0.0",
      "model_name": "OutputModel",
      "state": {
       "layout": "IPY_MODEL_31fb2cc587da4d2a96e115a91fb240a8",
       "outputs": [
        {
         "data": {
          "application/vnd.jupyter.widget-view+json": {
           "model_id": "2e30d4d72e744ce59cd13a14f0529273",
           "version_major": 2,
           "version_minor": 0
          },
          "text/plain": "Canvas(toolbar=Toolbar(toolitems=[('Home', 'Reset original view', 'home', 'home'), ('Back', 'Back to previous …"
         },
         "metadata": {},
         "output_type": "display_data"
        }
       ]
      }
     },
     "34081b7285654ddbadc1695f3aca1999": {
      "model_module": "@jupyter-widgets/controls",
      "model_module_version": "1.5.0",
      "model_name": "ButtonModel",
      "state": {
       "description": "Reset Hue Controls",
       "layout": "IPY_MODEL_b25f04c53f134c14a4ad90219c117516",
       "style": "IPY_MODEL_d9e477f78260463a97542a7f709f33b8"
      }
     },
     "3502d402ce9444fc98a0ad30933d247d": {
      "model_module": "@jupyter-widgets/controls",
      "model_module_version": "1.5.0",
      "model_name": "HBoxModel",
      "state": {
       "children": [
        "IPY_MODEL_13c3f398ef1b4e22b3097a61ce71cd00",
        "IPY_MODEL_85f0837ff86e4e32a2bf358fde3335f4",
        "IPY_MODEL_563d6e65be5a4680bfe85b0e6d0e63b5",
        "IPY_MODEL_afe41a9f3ded4b4c9c2bd7443b139319"
       ],
       "layout": "IPY_MODEL_2334b5ee7d7148e0ab82eb8cd745b8f8"
      }
     },
     "3529cd44893049709a7d34e28ebbbeb2": {
      "model_module": "@jupyter-widgets/controls",
      "model_module_version": "1.5.0",
      "model_name": "CheckboxModel",
      "state": {
       "description": "Disable Medicina",
       "disabled": false,
       "layout": "IPY_MODEL_8ff123280c9442b98560c9c98b3ff740",
       "style": "IPY_MODEL_da999f9e31014757abd4eb7d32bd46db",
       "value": false
      }
     },
     "35b9e785ce8e40a2b5783b3405a366d5": {
      "model_module": "@jupyter-widgets/base",
      "model_module_version": "1.2.0",
      "model_name": "LayoutModel",
      "state": {}
     },
     "364c451adf914548a6f20b9fc844c860": {
      "model_module": "@jupyter-widgets/controls",
      "model_module_version": "1.5.0",
      "model_name": "ButtonStyleModel",
      "state": {}
     },
     "36b2192828dd48809ecea7983d7af70d": {
      "model_module": "@jupyter-widgets/controls",
      "model_module_version": "1.5.0",
      "model_name": "HBoxModel",
      "state": {
       "children": [
        "IPY_MODEL_68af208643214461b4a63e2b28f9564f",
        "IPY_MODEL_fdc6a168e96349659b2dfb5fc959c3b4"
       ],
       "layout": "IPY_MODEL_6455101cea084860a2234eea2ac199f3"
      }
     },
     "36b8a94e22db4788aa6d07c903ed2f81": {
      "model_module": "@jupyter-widgets/controls",
      "model_module_version": "1.5.0",
      "model_name": "FloatSliderModel",
      "state": {
       "description": "90°",
       "layout": "IPY_MODEL_8f844391cc7f4f8fb89434d9970c0cfa",
       "max": 1,
       "min": -1,
       "step": 0.01,
       "style": "IPY_MODEL_c6a27e6b9c6b48638538fd9b7292cd49"
      }
     },
     "3702e6b1bcd54e8ab86d85551ce428af": {
      "model_module": "@jupyter-widgets/controls",
      "model_module_version": "1.5.0",
      "model_name": "ButtonStyleModel",
      "state": {}
     },
     "371d7ff5b4f84b5883a1b74cd9c464a8": {
      "model_module": "@jupyter-widgets/base",
      "model_module_version": "1.2.0",
      "model_name": "LayoutModel",
      "state": {}
     },
     "377bc41e93db45a495d144857e03c913": {
      "model_module": "@jupyter-widgets/controls",
      "model_module_version": "1.5.0",
      "model_name": "ButtonModel",
      "state": {
       "description": "Reset Hue Controls",
       "layout": "IPY_MODEL_d199475daa714199a618294df07c486f",
       "style": "IPY_MODEL_e4a54bcba6d046b3a2ed4d70acc1cc7d"
      }
     },
     "3782c28d2d764816995581a72a1f8cc8": {
      "model_module": "@jupyter-widgets/controls",
      "model_module_version": "1.5.0",
      "model_name": "SliderStyleModel",
      "state": {
       "description_width": ""
      }
     },
     "37a319ba0d2f450e87b5881f376f3675": {
      "model_module": "jupyter-matplotlib",
      "model_module_version": "^0.7.2",
      "model_name": "ToolbarModel",
      "state": {
       "layout": "IPY_MODEL_ecdd3c05f2664d09942605aa9acd92fd",
       "toolitems": [
        [
         "Home",
         "Reset original view",
         "home",
         "home"
        ],
        [
         "Back",
         "Back to previous view",
         "arrow-left",
         "back"
        ],
        [
         "Forward",
         "Forward to next view",
         "arrow-right",
         "forward"
        ],
        [
         "Pan",
         "Pan axes with left mouse, zoom with right",
         "arrows",
         "pan"
        ],
        [
         "Zoom",
         "Zoom to rectangle",
         "square-o",
         "zoom"
        ],
        [
         "Download",
         "Download plot",
         "floppy-o",
         "save_figure"
        ]
       ]
      }
     },
     "3813274c277c45cbb65a4408d4f933d4": {
      "model_module": "@jupyter-widgets/base",
      "model_module_version": "1.2.0",
      "model_name": "LayoutModel",
      "state": {}
     },
     "384c55ddff634833ab448216537cb974": {
      "model_module": "@jupyter-widgets/controls",
      "model_module_version": "1.5.0",
      "model_name": "ButtonModel",
      "state": {
       "description": "Export Image",
       "layout": "IPY_MODEL_d12b5c2f3b294552ab12fb8573e72100",
       "style": "IPY_MODEL_397d10bb490b40f28efc5938bc7a1513"
      }
     },
     "3860873ab9d54e53a929385f4712d2b4": {
      "model_module": "@jupyter-widgets/controls",
      "model_module_version": "1.5.0",
      "model_name": "ButtonModel",
      "state": {
       "description": "Reset Saturation Controls",
       "layout": "IPY_MODEL_c3eb04b9dcc0453e9f9029dcf9499608",
       "style": "IPY_MODEL_52d61033d11d4170a248d0256976b225"
      }
     },
     "3929b3d5c34940edac66441095c6eaf4": {
      "model_module": "@jupyter-widgets/controls",
      "model_module_version": "1.5.0",
      "model_name": "FloatSliderModel",
      "state": {
       "description": "45°",
       "layout": "IPY_MODEL_e6c7fe5db30b41e597cd36051ac28505",
       "max": 1,
       "min": -1,
       "step": 0.01,
       "style": "IPY_MODEL_7458539a042f438bb07135ad9604380c"
      }
     },
     "397d10bb490b40f28efc5938bc7a1513": {
      "model_module": "@jupyter-widgets/controls",
      "model_module_version": "1.5.0",
      "model_name": "ButtonStyleModel",
      "state": {}
     },
     "39bb511a4e7c4cc29dc62168b337b8a9": {
      "model_module": "@jupyter-widgets/controls",
      "model_module_version": "1.5.0",
      "model_name": "ButtonModel",
      "state": {
       "description": "Reset Compression Controls",
       "layout": "IPY_MODEL_0231ba6a80a048aa948ad90990ea3ef8",
       "style": "IPY_MODEL_2ee6eb1958a84fdb9dfbb1cf16d959e9"
      }
     },
     "39c5618ef2c74a16a573f950b1f8a786": {
      "model_module": "@jupyter-widgets/controls",
      "model_module_version": "1.5.0",
      "model_name": "TabModel",
      "state": {
       "_titles": {
        "0": "Global Controls",
        "1": "Protected Area Controls",
        "2": "Saturation Controls",
        "3": "Hue Controls"
       },
       "children": [
        "IPY_MODEL_0465ca265dab41a1b971c44a0bb68142",
        "IPY_MODEL_51084c23a59f4cb099ac016830d7f2a9",
        "IPY_MODEL_c872866ea0b54b6b95824164e215d497",
        "IPY_MODEL_a008008fa8a047338a9403add17205f1"
       ],
       "layout": "IPY_MODEL_5178fed1eed24f96bd3587c3f48d8624"
      }
     },
     "3a6a4c99f3df4a269c1f72782be6208c": {
      "model_module": "@jupyter-widgets/controls",
      "model_module_version": "1.5.0",
      "model_name": "HBoxModel",
      "state": {
       "children": [
        "IPY_MODEL_3860873ab9d54e53a929385f4712d2b4",
        "IPY_MODEL_b268695bf0a2451c900eb544af7d46ba"
       ],
       "layout": "IPY_MODEL_0096b33f90fd429ea7e30672c17c14e9"
      }
     },
     "3a77a3977f704ad89be493a3b948d20e": {
      "model_module": "@jupyter-widgets/base",
      "model_module_version": "1.2.0",
      "model_name": "LayoutModel",
      "state": {
       "border": "solid 4px #222",
       "margin": "4px",
       "padding": "0"
      }
     },
     "3b17221b30a1482ba4f8a473b4101841": {
      "model_module": "@jupyter-widgets/controls",
      "model_module_version": "1.5.0",
      "model_name": "SliderStyleModel",
      "state": {
       "description_width": ""
      }
     },
     "3c346b40c5e34d90880b03773b1db451": {
      "model_module": "@jupyter-widgets/base",
      "model_module_version": "1.2.0",
      "model_name": "LayoutModel",
      "state": {}
     },
     "3c67a69085a84bc1b79f3e598ed64f3f": {
      "model_module": "@jupyter-widgets/base",
      "model_module_version": "1.2.0",
      "model_name": "LayoutModel",
      "state": {
       "border": "solid 4px #222",
       "margin": "4px",
       "padding": "0"
      }
     },
     "3cb029bed4b8407baa52558b9c9254b7": {
      "model_module": "@jupyter-widgets/base",
      "model_module_version": "1.2.0",
      "model_name": "LayoutModel",
      "state": {}
     },
     "3d3baf1cddad421396624a816d06cd36": {
      "model_module": "@jupyter-widgets/base",
      "model_module_version": "1.2.0",
      "model_name": "LayoutModel",
      "state": {}
     },
     "3d4ac7ed20ff4d0c8d370140d7804322": {
      "model_module": "@jupyter-widgets/controls",
      "model_module_version": "1.5.0",
      "model_name": "ButtonModel",
      "state": {
       "description": "Reset Saturation Controls",
       "layout": "IPY_MODEL_90b3a34a12524cbca59929895274d846",
       "style": "IPY_MODEL_28adb02c0d7e421b9f8194d8a78c58d1"
      }
     },
     "3d872efc97da4abd9d958c5c54bbb097": {
      "model_module": "@jupyter-widgets/controls",
      "model_module_version": "1.5.0",
      "model_name": "SliderStyleModel",
      "state": {
       "description_width": ""
      }
     },
     "3ddc4c88e51b4d8db4e416dfcb56281d": {
      "model_module": "@jupyter-widgets/controls",
      "model_module_version": "1.5.0",
      "model_name": "ButtonStyleModel",
      "state": {}
     },
     "3df09f269bfc465bad7aeab785d233bd": {
      "model_module": "@jupyter-widgets/controls",
      "model_module_version": "1.5.0",
      "model_name": "ButtonModel",
      "state": {
       "description": "Export Image",
       "layout": "IPY_MODEL_8d8eef988970443887344d41f98387cb",
       "style": "IPY_MODEL_a360404853714dc4863470c4562e3247"
      }
     },
     "3e48d678a0394b5db78fb59f3b461513": {
      "model_module": "@jupyter-widgets/controls",
      "model_module_version": "1.5.0",
      "model_name": "SliderStyleModel",
      "state": {
       "description_width": ""
      }
     },
     "3ec0543696934034bbaf2c2cea538a7b": {
      "model_module": "@jupyter-widgets/controls",
      "model_module_version": "1.5.0",
      "model_name": "FloatSliderModel",
      "state": {
       "description": "180°",
       "layout": "IPY_MODEL_4cc2ed1acc924540a07e8d8cee66164f",
       "max": 1,
       "min": -1,
       "step": 0.01,
       "style": "IPY_MODEL_8e5293d94862478c813d549603bcef36"
      }
     },
     "3ee767bab7ac4f78a51fb5e17c22245f": {
      "model_module": "@jupyter-widgets/base",
      "model_module_version": "1.2.0",
      "model_name": "LayoutModel",
      "state": {}
     },
     "3f17ed9fe4024fb9b50ef9e44b02c36d": {
      "model_module": "@jupyter-widgets/controls",
      "model_module_version": "1.5.0",
      "model_name": "ButtonStyleModel",
      "state": {}
     },
     "3f548fbb96584ff1832cb814f0128624": {
      "model_module": "@jupyter-widgets/output",
      "model_module_version": "1.0.0",
      "model_name": "OutputModel",
      "state": {
       "layout": "IPY_MODEL_df30e40afb7d4da3a42f39670d7b2293",
       "outputs": [
        {
         "data": {
          "application/vnd.jupyter.widget-view+json": {
           "model_id": "7b612c59e14e4257be7424f9fc78b978",
           "version_major": 2,
           "version_minor": 0
          },
          "text/plain": "Canvas(toolbar=Toolbar(toolitems=[('Home', 'Reset original view', 'home', 'home'), ('Back', 'Back to previous …"
         },
         "metadata": {},
         "output_type": "display_data"
        }
       ]
      }
     },
     "4065b2cbdc1f4fe9842d061a220edf1a": {
      "model_module": "@jupyter-widgets/base",
      "model_module_version": "1.2.0",
      "model_name": "LayoutModel",
      "state": {}
     },
     "40a568c99aa04bde969cb3109ddd965c": {
      "model_module": "@jupyter-widgets/base",
      "model_module_version": "1.2.0",
      "model_name": "LayoutModel",
      "state": {}
     },
     "40b465989a6342c2bca1c0f6ea16594d": {
      "model_module": "@jupyter-widgets/controls",
      "model_module_version": "1.5.0",
      "model_name": "SliderStyleModel",
      "state": {
       "description_width": ""
      }
     },
     "41a8e2b23a0949378d1ca4a52ba14a65": {
      "model_module": "@jupyter-widgets/controls",
      "model_module_version": "1.5.0",
      "model_name": "BoxModel",
      "state": {
       "children": [
        "IPY_MODEL_198834d5551a4068889682e6c6abbf6a",
        "IPY_MODEL_a51ba28f28f74b889ea1bfb414627fe7"
       ],
       "layout": "IPY_MODEL_b790fc71851e410dab6c2b614685b300"
      }
     },
     "421d9b6be204425a8503678e14e61aab": {
      "model_module": "@jupyter-widgets/base",
      "model_module_version": "1.2.0",
      "model_name": "LayoutModel",
      "state": {}
     },
     "426ca5c55d2843bf8836e4fb511c8ac4": {
      "model_module": "jupyter-matplotlib",
      "model_module_version": "^0.7.2",
      "model_name": "ToolbarModel",
      "state": {
       "layout": "IPY_MODEL_966fb58260b74bb2bd4fcd08f7f4af99",
       "toolitems": [
        [
         "Home",
         "Reset original view",
         "home",
         "home"
        ],
        [
         "Back",
         "Back to previous view",
         "arrow-left",
         "back"
        ],
        [
         "Forward",
         "Forward to next view",
         "arrow-right",
         "forward"
        ],
        [
         "Pan",
         "Pan axes with left mouse, zoom with right",
         "arrows",
         "pan"
        ],
        [
         "Zoom",
         "Zoom to rectangle",
         "square-o",
         "zoom"
        ],
        [
         "Download",
         "Download plot",
         "floppy-o",
         "save_figure"
        ]
       ]
      }
     },
     "42793f897386466aabf0fb5a8d710e91": {
      "model_module": "@jupyter-widgets/base",
      "model_module_version": "1.2.0",
      "model_name": "LayoutModel",
      "state": {}
     },
     "430bfc1ddcc7424c81408e3ca3c9fe6b": {
      "model_module": "@jupyter-widgets/controls",
      "model_module_version": "1.5.0",
      "model_name": "HBoxModel",
      "state": {
       "children": [
        "IPY_MODEL_608d7df363c448e89070333361b3256e",
        "IPY_MODEL_a07a1944d6084324941360b274d60a00"
       ],
       "layout": "IPY_MODEL_25ac7a427e20438cb6cc484a0ab788e7"
      }
     },
     "4347d71658e5404ba854a565b8a2e868": {
      "model_module": "@jupyter-widgets/base",
      "model_module_version": "1.2.0",
      "model_name": "LayoutModel",
      "state": {}
     },
     "435305831e5045ee900aa31e03591158": {
      "model_module": "@jupyter-widgets/base",
      "model_module_version": "1.2.0",
      "model_name": "LayoutModel",
      "state": {}
     },
     "43545459820949078350bd1652105f64": {
      "model_module": "@jupyter-widgets/controls",
      "model_module_version": "1.5.0",
      "model_name": "SliderStyleModel",
      "state": {
       "description_width": ""
      }
     },
     "438bfd8587914c71912dc857a98f971f": {
      "model_module": "@jupyter-widgets/base",
      "model_module_version": "1.2.0",
      "model_name": "LayoutModel",
      "state": {}
     },
     "43f1d01700294ef0a422746a5e79269a": {
      "model_module": "@jupyter-widgets/controls",
      "model_module_version": "1.5.0",
      "model_name": "SliderStyleModel",
      "state": {
       "description_width": ""
      }
     },
     "4444cffc5f2f43768fb2fd8b1e5119bb": {
      "model_module": "@jupyter-widgets/base",
      "model_module_version": "1.2.0",
      "model_name": "LayoutModel",
      "state": {
       "border": "solid 4px #222",
       "margin": "4px",
       "padding": "0"
      }
     },
     "4471bee6435e4c97a0b9a4468c445461": {
      "model_module": "@jupyter-widgets/base",
      "model_module_version": "1.2.0",
      "model_name": "LayoutModel",
      "state": {}
     },
     "450921b6869b4e85a8602eb814f9f403": {
      "model_module": "@jupyter-widgets/base",
      "model_module_version": "1.2.0",
      "model_name": "LayoutModel",
      "state": {}
     },
     "451496d3ad6241afbb799901f14ff658": {
      "model_module": "@jupyter-widgets/controls",
      "model_module_version": "1.5.0",
      "model_name": "HBoxModel",
      "state": {
       "children": [
        "IPY_MODEL_ea29600278fc4a90a070a574cdf5112d",
        "IPY_MODEL_7c9b4f47b0b349cc9d3d3a72ae8d41cb"
       ],
       "layout": "IPY_MODEL_a6f67cd626844016b57e7a657994ee45"
      }
     },
     "455beac3be3848b7a702fb1fb84f18fa": {
      "model_module": "@jupyter-widgets/base",
      "model_module_version": "1.2.0",
      "model_name": "LayoutModel",
      "state": {}
     },
     "45731eea913f4413b77aee2b4cf252ba": {
      "model_module": "@jupyter-widgets/base",
      "model_module_version": "1.2.0",
      "model_name": "LayoutModel",
      "state": {}
     },
     "45aa730ec31148cc9a0a23c79a1356e8": {
      "model_module": "@jupyter-widgets/base",
      "model_module_version": "1.2.0",
      "model_name": "LayoutModel",
      "state": {}
     },
     "4612039ebaac45edb53f4a4212e57347": {
      "model_module": "@jupyter-widgets/output",
      "model_module_version": "1.0.0",
      "model_name": "OutputModel",
      "state": {
       "layout": "IPY_MODEL_7f7af8cd5c9b4b2d90857cd7ec7c2833",
       "outputs": [
        {
         "data": {
          "application/vnd.jupyter.widget-view+json": {
           "model_id": "e5c7b24e6429402cb5318435211dba0c",
           "version_major": 2,
           "version_minor": 0
          },
          "text/plain": "Canvas(toolbar=Toolbar(toolitems=[('Home', 'Reset original view', 'home', 'home'), ('Back', 'Back to previous …"
         },
         "metadata": {},
         "output_type": "display_data"
        }
       ]
      }
     },
     "46179459461d42c6917f76006deb70fd": {
      "model_module": "@jupyter-widgets/base",
      "model_module_version": "1.2.0",
      "model_name": "LayoutModel",
      "state": {}
     },
     "47ed7ed7038d437cac7ed877f5e69753": {
      "model_module": "@jupyter-widgets/base",
      "model_module_version": "1.2.0",
      "model_name": "LayoutModel",
      "state": {}
     },
     "483de6b7c99b4afdae21bad88b06fd11": {
      "model_module": "@jupyter-widgets/base",
      "model_module_version": "1.2.0",
      "model_name": "LayoutModel",
      "state": {}
     },
     "486d75c3775e49069bd8750debd0c149": {
      "model_module": "@jupyter-widgets/base",
      "model_module_version": "1.2.0",
      "model_name": "LayoutModel",
      "state": {}
     },
     "48876fcbb17942acbf1fc276fd300c77": {
      "model_module": "@jupyter-widgets/controls",
      "model_module_version": "1.5.0",
      "model_name": "ButtonModel",
      "state": {
       "description": "Export Image",
       "layout": "IPY_MODEL_06f5bdcc34364aa9b638e3dbb12d1a49",
       "style": "IPY_MODEL_3702e6b1bcd54e8ab86d85551ce428af"
      }
     },
     "48be2e5e3e254d72b69d6255b54a5979": {
      "model_module": "@jupyter-widgets/base",
      "model_module_version": "1.2.0",
      "model_name": "LayoutModel",
      "state": {}
     },
     "49671f0fa08146c1bfab95acae2fa9a7": {
      "model_module": "@jupyter-widgets/controls",
      "model_module_version": "1.5.0",
      "model_name": "FloatSliderModel",
      "state": {
       "description": "180°",
       "layout": "IPY_MODEL_486d75c3775e49069bd8750debd0c149",
       "max": 1,
       "min": -1,
       "step": 0.01,
       "style": "IPY_MODEL_a60f5a582688435ca5ef9ad811fb47ed"
      }
     },
     "49cd86a49c8a41608e0ef7b8e9a5b83f": {
      "model_module": "@jupyter-widgets/controls",
      "model_module_version": "1.5.0",
      "model_name": "SliderStyleModel",
      "state": {
       "description_width": ""
      }
     },
     "49e2b30b3fa24243a24325053ed5d6a7": {
      "model_module": "@jupyter-widgets/output",
      "model_module_version": "1.0.0",
      "model_name": "OutputModel",
      "state": {
       "layout": "IPY_MODEL_81ac3867f78a4040947bc9149e367664",
       "outputs": [
        {
         "data": {
          "application/vnd.jupyter.widget-view+json": {
           "model_id": "2f1f3970ab0c46dcbe2f34a16d15ba42",
           "version_major": 2,
           "version_minor": 0
          },
          "text/plain": "Canvas(toolbar=Toolbar(toolitems=[('Home', 'Reset original view', 'home', 'home'), ('Back', 'Back to previous …"
         },
         "metadata": {},
         "output_type": "display_data"
        }
       ]
      }
     },
     "49e82b8701cd4b799eeff9c6bdeb95f2": {
      "model_module": "@jupyter-widgets/controls",
      "model_module_version": "1.5.0",
      "model_name": "FloatSliderModel",
      "state": {
       "description": "45°",
       "layout": "IPY_MODEL_72a4814658784204bf22f21daa846e05",
       "max": 1,
       "min": -1,
       "step": 0.01,
       "style": "IPY_MODEL_c65de3aebd224a3092063c6a065b2b16"
      }
     },
     "4a11a30860a1411ca6c2721facae594e": {
      "model_module": "jupyter-matplotlib",
      "model_module_version": "^0.7.2",
      "model_name": "MPLCanvasModel",
      "state": {
       "_figure_label": "Figure 8",
       "_height": 465,
       "_width": 1099,
       "header_visible": false,
       "layout": "IPY_MODEL_ed649426fcdb43b684af1c5091cdafd0",
       "resizable": false,
       "toolbar": "IPY_MODEL_37a319ba0d2f450e87b5881f376f3675",
       "toolbar_position": "left",
       "toolbar_visible": false
      }
     },
     "4a1fc8b803c7454ab2b47261d4ddaa29": {
      "model_module": "@jupyter-widgets/controls",
      "model_module_version": "1.5.0",
      "model_name": "VBoxModel",
      "state": {
       "children": [
        "IPY_MODEL_d65c4596519b4c808dae35113b9881d4",
        "IPY_MODEL_e8f5768cd1dc4d419a53e9cf8125545d",
        "IPY_MODEL_a08135d1f42b4c3489ad8153218d85ac"
       ],
       "layout": "IPY_MODEL_7857c618dc5f407d91cff71d5582b18b"
      }
     },
     "4a26f00b4d914e669b8529547f379acf": {
      "model_module": "jupyter-matplotlib",
      "model_module_version": "^0.7.2",
      "model_name": "MPLCanvasModel",
      "state": {
       "_figure_label": "Figure 4",
       "_height": 618,
       "_width": 1099,
       "header_visible": false,
       "layout": "IPY_MODEL_fd00b0dd85594f5da9afc49e56514cff",
       "resizable": false,
       "toolbar": "IPY_MODEL_bc1bdf24c6e04ea987dd4b08e3f353e8",
       "toolbar_position": "left",
       "toolbar_visible": false
      }
     },
     "4a38b469504249f0b59ebb4b942d6980": {
      "model_module": "@jupyter-widgets/controls",
      "model_module_version": "1.5.0",
      "model_name": "FloatSliderModel",
      "state": {
       "description": "Protected Area Threshold",
       "layout": "IPY_MODEL_278bc9c315c64375a84a2b98813db130",
       "max": 1,
       "step": 0.01,
       "style": "IPY_MODEL_29e3962fb2f04eb3aae08ab1651779ea",
       "value": 0.5
      }
     },
     "4a69b820accf4ca08db7975e86145a1f": {
      "model_module": "@jupyter-widgets/controls",
      "model_module_version": "1.5.0",
      "model_name": "SliderStyleModel",
      "state": {
       "description_width": ""
      }
     },
     "4a9133090b1f4cce9d07ad72a20f0def": {
      "model_module": "@jupyter-widgets/controls",
      "model_module_version": "1.5.0",
      "model_name": "SliderStyleModel",
      "state": {
       "description_width": ""
      }
     },
     "4a9b851879984adf8e74edf16a1604d4": {
      "model_module": "@jupyter-widgets/base",
      "model_module_version": "1.2.0",
      "model_name": "LayoutModel",
      "state": {}
     },
     "4ace9e431c134f3bb73ace2c48d47296": {
      "model_module": "@jupyter-widgets/controls",
      "model_module_version": "1.5.0",
      "model_name": "HBoxModel",
      "state": {
       "children": [
        "IPY_MODEL_830bda82ef0b4b81a1bd888625ca4f26",
        "IPY_MODEL_05545dadbf5345a8bf497362c493a29a",
        "IPY_MODEL_af9a0e61cc794d64a790743f78804188"
       ],
       "layout": "IPY_MODEL_05d63723fbea45aa985fdd3c8b3ea7d5"
      }
     },
     "4b0a203d24284b8d8bb784fad999492a": {
      "model_module": "@jupyter-widgets/controls",
      "model_module_version": "1.5.0",
      "model_name": "SliderStyleModel",
      "state": {
       "description_width": ""
      }
     },
     "4b2c03e6adad42d48e734140974fabcc": {
      "model_module": "@jupyter-widgets/base",
      "model_module_version": "1.2.0",
      "model_name": "LayoutModel",
      "state": {}
     },
     "4b445e598ef641f3a3cc1d4314c69cef": {
      "model_module": "@jupyter-widgets/controls",
      "model_module_version": "1.5.0",
      "model_name": "SliderStyleModel",
      "state": {
       "description_width": ""
      }
     },
     "4b85eba9334c4599a67ca0e78c76deca": {
      "model_module": "@jupyter-widgets/controls",
      "model_module_version": "1.5.0",
      "model_name": "ButtonModel",
      "state": {
       "description": "Save Figure",
       "layout": "IPY_MODEL_42793f897386466aabf0fb5a8d710e91",
       "style": "IPY_MODEL_7d67cfff89ac4215b9db41c4153aea58"
      }
     },
     "4b883337d9444ac6a6f7d984bfc4b0a6": {
      "model_module": "@jupyter-widgets/controls",
      "model_module_version": "1.5.0",
      "model_name": "HBoxModel",
      "state": {
       "children": [
        "IPY_MODEL_cb6e9b2f15884233b59437f5ecf6f522",
        "IPY_MODEL_123823243d66413c9fafa418f6964e44"
       ],
       "layout": "IPY_MODEL_aec9b531be2d4ee8895f392a49b42ca7"
      }
     },
     "4ba543fd828c48709d1941f74f2adb82": {
      "model_module": "@jupyter-widgets/controls",
      "model_module_version": "1.5.0",
      "model_name": "ButtonStyleModel",
      "state": {}
     },
     "4bf651e07e7045d2804c754d0d49fde0": {
      "model_module": "@jupyter-widgets/base",
      "model_module_version": "1.2.0",
      "model_name": "LayoutModel",
      "state": {}
     },
     "4c37220f80694d79b4cb82284d2cfd64": {
      "model_module": "@jupyter-widgets/controls",
      "model_module_version": "1.5.0",
      "model_name": "ButtonStyleModel",
      "state": {}
     },
     "4c38feea5b2c4a25a1c5d53a1979ac8f": {
      "model_module": "@jupyter-widgets/controls",
      "model_module_version": "1.5.0",
      "model_name": "VBoxModel",
      "state": {
       "children": [
        "IPY_MODEL_581a9a78284243e28fd8d67334bfb07f",
        "IPY_MODEL_49e82b8701cd4b799eeff9c6bdeb95f2",
        "IPY_MODEL_7833a88dee7842b795c5a3e7f7fa583b"
       ],
       "layout": "IPY_MODEL_d0bd967bf92e44e6a9ae441216d0e085"
      }
     },
     "4c513c78e18d4624b3166600080399d2": {
      "model_module": "@jupyter-widgets/controls",
      "model_module_version": "1.5.0",
      "model_name": "SliderStyleModel",
      "state": {
       "description_width": ""
      }
     },
     "4c68b69557b14990ac1b05b7f9d3dd54": {
      "model_module": "@jupyter-widgets/controls",
      "model_module_version": "1.5.0",
      "model_name": "SliderStyleModel",
      "state": {
       "description_width": ""
      }
     },
     "4c878a5a1a8b4709b6e2f025deaa6711": {
      "model_module": "@jupyter-widgets/base",
      "model_module_version": "1.2.0",
      "model_name": "LayoutModel",
      "state": {}
     },
     "4cc2ed1acc924540a07e8d8cee66164f": {
      "model_module": "@jupyter-widgets/base",
      "model_module_version": "1.2.0",
      "model_name": "LayoutModel",
      "state": {}
     },
     "4ccafcc9ae004e05b061df4e8b38fd7b": {
      "model_module": "@jupyter-widgets/base",
      "model_module_version": "1.2.0",
      "model_name": "LayoutModel",
      "state": {}
     },
     "4cff571168af4c618570f29f763ea6d6": {
      "model_module": "@jupyter-widgets/base",
      "model_module_version": "1.2.0",
      "model_name": "LayoutModel",
      "state": {}
     },
     "4d3c18fc9b5e463c8b655ffad614df77": {
      "model_module": "@jupyter-widgets/controls",
      "model_module_version": "1.5.0",
      "model_name": "SliderStyleModel",
      "state": {
       "description_width": ""
      }
     },
     "4d9a4a5d067b4031a8006ee2ee8fa4c6": {
      "model_module": "@jupyter-widgets/controls",
      "model_module_version": "1.5.0",
      "model_name": "ButtonStyleModel",
      "state": {}
     },
     "4e06c5c2cd3a4a60b624357bee95cc0f": {
      "model_module": "@jupyter-widgets/base",
      "model_module_version": "1.2.0",
      "model_name": "LayoutModel",
      "state": {}
     },
     "4e2f5e66b4f74d4ba28076b97a537675": {
      "model_module": "@jupyter-widgets/base",
      "model_module_version": "1.2.0",
      "model_name": "LayoutModel",
      "state": {}
     },
     "4e680fa87b09497da31baa3ce544a10e": {
      "model_module": "@jupyter-widgets/controls",
      "model_module_version": "1.5.0",
      "model_name": "BoxModel",
      "state": {
       "children": [
        "IPY_MODEL_4612039ebaac45edb53f4a4212e57347",
        "IPY_MODEL_0573a896dbc8435199a73a22539754ef"
       ],
       "layout": "IPY_MODEL_dc24d27388084b52938e5c00fb80a1f0"
      }
     },
     "4ed5f53d461d4bc0ae0bbcc9be4663c6": {
      "model_module": "jupyter-matplotlib",
      "model_module_version": "^0.7.2",
      "model_name": "ToolbarModel",
      "state": {
       "layout": "IPY_MODEL_243f589bbf594d6d922b772a05e1d438",
       "toolitems": [
        [
         "Home",
         "Reset original view",
         "home",
         "home"
        ],
        [
         "Back",
         "Back to previous view",
         "arrow-left",
         "back"
        ],
        [
         "Forward",
         "Forward to next view",
         "arrow-right",
         "forward"
        ],
        [
         "Pan",
         "Pan axes with left mouse, zoom with right",
         "arrows",
         "pan"
        ],
        [
         "Zoom",
         "Zoom to rectangle",
         "square-o",
         "zoom"
        ],
        [
         "Download",
         "Download plot",
         "floppy-o",
         "save_figure"
        ]
       ]
      }
     },
     "4ef7711c71b642328f5989c9c34db04b": {
      "model_module": "@jupyter-widgets/base",
      "model_module_version": "1.2.0",
      "model_name": "LayoutModel",
      "state": {}
     },
     "4f1e8de2018743b1aa4f1957aa251f98": {
      "model_module": "@jupyter-widgets/base",
      "model_module_version": "1.2.0",
      "model_name": "LayoutModel",
      "state": {}
     },
     "4f25f34d844c4ae0abd06632839fc5f2": {
      "model_module": "@jupyter-widgets/base",
      "model_module_version": "1.2.0",
      "model_name": "LayoutModel",
      "state": {}
     },
     "4f5a67f3531b4ee9a542ba82901f775f": {
      "model_module": "@jupyter-widgets/controls",
      "model_module_version": "1.5.0",
      "model_name": "ButtonStyleModel",
      "state": {}
     },
     "4f808515d9994a9caa554b4f0a41faac": {
      "model_module": "@jupyter-widgets/controls",
      "model_module_version": "1.5.0",
      "model_name": "HBoxModel",
      "state": {
       "children": [
        "IPY_MODEL_e209bb13016a4a6e815d420b5b891ae7",
        "IPY_MODEL_51ed4a09c51942feac783de4b771f43d",
        "IPY_MODEL_a9e2c5266c454a49a4d7ba50e122df91",
        "IPY_MODEL_058c67e0ed784d819dda558bbccae96e"
       ],
       "layout": "IPY_MODEL_6b70de7e56c641e6a2079702ef59b343"
      }
     },
     "4fbb0b784d8640968687bf5f37275480": {
      "model_module": "@jupyter-widgets/base",
      "model_module_version": "1.2.0",
      "model_name": "LayoutModel",
      "state": {}
     },
     "4fbcc3a194764d1db4f8009e1076e9d8": {
      "model_module": "@jupyter-widgets/controls",
      "model_module_version": "1.5.0",
      "model_name": "HBoxModel",
      "state": {
       "children": [
        "IPY_MODEL_f7fad71bb49e4c71a225851d2e954563",
        "IPY_MODEL_503b8b82a6b440dbbfd8cf7dea8809f9"
       ],
       "layout": "IPY_MODEL_a753d3c0f753449ca5c3e68c17068137"
      }
     },
     "4fede1a1dce646ae8facbbbaf77bf252": {
      "model_module": "@jupyter-widgets/base",
      "model_module_version": "1.2.0",
      "model_name": "LayoutModel",
      "state": {
       "border": "solid 4px #222",
       "margin": "4px",
       "padding": "0"
      }
     },
     "500a2c62daba42d082fa4d50dec7b04a": {
      "model_module": "@jupyter-widgets/output",
      "model_module_version": "1.0.0",
      "model_name": "OutputModel",
      "state": {
       "layout": "IPY_MODEL_68d333a5a5c443cf97e240c00423498a",
       "outputs": [
        {
         "data": {
          "application/vnd.jupyter.widget-view+json": {
           "model_id": "831ade1aba3a47c8bde33ff253ee440a",
           "version_major": 2,
           "version_minor": 0
          },
          "text/plain": "Canvas(toolbar=Toolbar(toolitems=[('Home', 'Reset original view', 'home', 'home'), ('Back', 'Back to previous …"
         },
         "metadata": {},
         "output_type": "display_data"
        }
       ]
      }
     },
     "5032e62478724a77bf29d9552987d441": {
      "model_module": "@jupyter-widgets/controls",
      "model_module_version": "1.5.0",
      "model_name": "FloatSliderModel",
      "state": {
       "description": "45°",
       "layout": "IPY_MODEL_e213df864d0942d3a279559c715853d4",
       "max": 1,
       "min": -1,
       "step": 0.01,
       "style": "IPY_MODEL_6822358badfe416592ea606f16788fac"
      }
     },
     "503b8b82a6b440dbbfd8cf7dea8809f9": {
      "model_module": "@jupyter-widgets/controls",
      "model_module_version": "1.5.0",
      "model_name": "FloatSliderModel",
      "state": {
       "description": "Compression Threshold",
       "layout": "IPY_MODEL_f4c9552644e64adeb879bbe6daf3c36a",
       "max": 1,
       "step": 0.01,
       "style": "IPY_MODEL_f8c3a0ab94c44b6ca29e3e157d694e62",
       "value": 0.5
      }
     },
     "504889b2139643a3ae3800998823243c": {
      "model_module": "@jupyter-widgets/controls",
      "model_module_version": "1.5.0",
      "model_name": "CheckboxModel",
      "state": {
       "description": "Disable Medicina",
       "disabled": false,
       "layout": "IPY_MODEL_7c4ca3addfc942b3ad6ff77c9c7ae51c",
       "style": "IPY_MODEL_ec4a09df7bd948a89a926877e605cbec",
       "value": false
      }
     },
     "506e311e31b746b184e9472ff832bfaa": {
      "model_module": "@jupyter-widgets/controls",
      "model_module_version": "1.5.0",
      "model_name": "SliderStyleModel",
      "state": {
       "description_width": ""
      }
     },
     "51084c23a59f4cb099ac016830d7f2a9": {
      "model_module": "@jupyter-widgets/controls",
      "model_module_version": "1.5.0",
      "model_name": "HBoxModel",
      "state": {
       "children": [
        "IPY_MODEL_bd2e69e47193489db57d4f8fc1d643ec",
        "IPY_MODEL_9da31406479a453fac16acc1b59cf823"
       ],
       "layout": "IPY_MODEL_5e5db0c3534a4553a46aec6054217a63"
      }
     },
     "5129fb92f9fc4cafbac1002cde85ad97": {
      "model_module": "@jupyter-widgets/controls",
      "model_module_version": "1.5.0",
      "model_name": "ButtonStyleModel",
      "state": {}
     },
     "5178fed1eed24f96bd3587c3f48d8624": {
      "model_module": "@jupyter-widgets/base",
      "model_module_version": "1.2.0",
      "model_name": "LayoutModel",
      "state": {
       "border": "solid 4px #222",
       "margin": "4px",
       "padding": "0"
      }
     },
     "51ed4a09c51942feac783de4b771f43d": {
      "model_module": "@jupyter-widgets/controls",
      "model_module_version": "1.5.0",
      "model_name": "VBoxModel",
      "state": {
       "children": [
        "IPY_MODEL_ff7be4aec0794cadb60b84ff9b631271",
        "IPY_MODEL_f94362bf803f4fb493e2df8a01890cb3",
        "IPY_MODEL_7b570df1f86c46ddb84c4dcfc8c54137"
       ],
       "layout": "IPY_MODEL_4e2f5e66b4f74d4ba28076b97a537675"
      }
     },
     "52251289a30e4c9c89a054a899a82d56": {
      "model_module": "@jupyter-widgets/controls",
      "model_module_version": "1.5.0",
      "model_name": "DescriptionStyleModel",
      "state": {
       "description_width": ""
      }
     },
     "5239b15f84c94539b6841a80c0495eca": {
      "model_module": "@jupyter-widgets/base",
      "model_module_version": "1.2.0",
      "model_name": "LayoutModel",
      "state": {}
     },
     "5256024ea235456bb5c78d192a84aaae": {
      "model_module": "@jupyter-widgets/controls",
      "model_module_version": "1.5.0",
      "model_name": "ButtonStyleModel",
      "state": {}
     },
     "52d61033d11d4170a248d0256976b225": {
      "model_module": "@jupyter-widgets/controls",
      "model_module_version": "1.5.0",
      "model_name": "ButtonStyleModel",
      "state": {}
     },
     "52f534918ea541d48d0682c23784150a": {
      "model_module": "@jupyter-widgets/controls",
      "model_module_version": "1.5.0",
      "model_name": "FloatSliderModel",
      "state": {
       "description": "180°",
       "layout": "IPY_MODEL_8e930e2592834e548d09195c1edf2d62",
       "max": 1,
       "min": -1,
       "step": 0.01,
       "style": "IPY_MODEL_e21470c823cc4758b503513d61911ecc"
      }
     },
     "52fc9587514e46bb8a72bc7ca5e5a3e3": {
      "model_module": "@jupyter-widgets/controls",
      "model_module_version": "1.5.0",
      "model_name": "FloatSliderModel",
      "state": {
       "description": "Protected Area Threshold",
       "layout": "IPY_MODEL_77cd4be6487940808dbe0fd0b4896d5e",
       "max": 1,
       "step": 0.01,
       "style": "IPY_MODEL_4a69b820accf4ca08db7975e86145a1f",
       "value": 0.7
      }
     },
     "5360d4c0331d4b2498acd250453b5384": {
      "model_module": "@jupyter-widgets/base",
      "model_module_version": "1.2.0",
      "model_name": "LayoutModel",
      "state": {}
     },
     "541150d25aef441aa21a4c7106341735": {
      "model_module": "@jupyter-widgets/base",
      "model_module_version": "1.2.0",
      "model_name": "LayoutModel",
      "state": {}
     },
     "544b4e4da8f74ac7ae753661c7e0900a": {
      "model_module": "@jupyter-widgets/base",
      "model_module_version": "1.2.0",
      "model_name": "LayoutModel",
      "state": {}
     },
     "54c171bc17cc4164ba44d6382e6ef225": {
      "model_module": "@jupyter-widgets/base",
      "model_module_version": "1.2.0",
      "model_name": "LayoutModel",
      "state": {}
     },
     "54c8c1541c9c41c3926f920d3c6d8808": {
      "model_module": "@jupyter-widgets/base",
      "model_module_version": "1.2.0",
      "model_name": "LayoutModel",
      "state": {}
     },
     "55767f676ab14da2a0917f83e1970840": {
      "model_module": "@jupyter-widgets/controls",
      "model_module_version": "1.5.0",
      "model_name": "CheckboxModel",
      "state": {
       "description": "Disable Medicina",
       "disabled": false,
       "layout": "IPY_MODEL_68d162db2b1344539edec642e499dcb1",
       "style": "IPY_MODEL_c1404a4546e845459adc30d3a3e8399d",
       "value": false
      }
     },
     "557c90db466c4eeeb2ff8ef9f6d3c0c3": {
      "model_module": "@jupyter-widgets/controls",
      "model_module_version": "1.5.0",
      "model_name": "ButtonModel",
      "state": {
       "description": "Save Figure",
       "layout": "IPY_MODEL_4065b2cbdc1f4fe9842d061a220edf1a",
       "style": "IPY_MODEL_c35e1701e29f40bbb9efd37bc7193d9d"
      }
     },
     "55c69e3c90304102942837c3b3404efe": {
      "model_module": "@jupyter-widgets/base",
      "model_module_version": "1.2.0",
      "model_name": "LayoutModel",
      "state": {}
     },
     "5608bcd104714c1a951d135819718413": {
      "model_module": "@jupyter-widgets/controls",
      "model_module_version": "1.5.0",
      "model_name": "TabModel",
      "state": {
       "_titles": {
        "0": "Global Controls",
        "1": "Protected Area Controls",
        "2": "Saturation Controls",
        "3": "Hue Controls"
       },
       "children": [
        "IPY_MODEL_0ca59d1f65d945f9a25bf5e02151c432",
        "IPY_MODEL_1f4db932f2944241a5d507681b4af9fc",
        "IPY_MODEL_3a6a4c99f3df4a269c1f72782be6208c",
        "IPY_MODEL_3502d402ce9444fc98a0ad30933d247d"
       ],
       "layout": "IPY_MODEL_04723fa517984f44b142ef46182e2bc5"
      }
     },
     "563d6e65be5a4680bfe85b0e6d0e63b5": {
      "model_module": "@jupyter-widgets/controls",
      "model_module_version": "1.5.0",
      "model_name": "VBoxModel",
      "state": {
       "children": [
        "IPY_MODEL_1f4b21a6b5c24f0581201234352f04e1",
        "IPY_MODEL_52f534918ea541d48d0682c23784150a",
        "IPY_MODEL_bb756f8639ad4e5ba221cbb6f55a40e7"
       ],
       "layout": "IPY_MODEL_2a03291695104935b5613809941d5187"
      }
     },
     "56539534a8d04a66bc56c2a179754623": {
      "model_module": "@jupyter-widgets/controls",
      "model_module_version": "1.5.0",
      "model_name": "TabModel",
      "state": {
       "_titles": {
        "0": "Global Controls"
       },
       "children": [
        "IPY_MODEL_08ba514168e4446b9e81286ee9e3e27d"
       ],
       "layout": "IPY_MODEL_b23aaa2d892e45d89697c2e5ac06d598"
      }
     },
     "56571307e19c41f6a6fedd5b0b534b96": {
      "model_module": "@jupyter-widgets/controls",
      "model_module_version": "1.5.0",
      "model_name": "BoxModel",
      "state": {
       "children": [
        "IPY_MODEL_59206da5c57d44b0820f86c2193e4e74",
        "IPY_MODEL_fc2c86f8000447bc98ea62c9478157cb"
       ],
       "layout": "IPY_MODEL_b706fe24b63e4ea9b515b085da83f516"
      }
     },
     "56c4ee18b8c54f54a51c70173f7db915": {
      "model_module": "@jupyter-widgets/controls",
      "model_module_version": "1.5.0",
      "model_name": "VBoxModel",
      "state": {
       "children": [
        "IPY_MODEL_8988194ee8cb497f81a70dd14b93e73e",
        "IPY_MODEL_c7f6921a05ae4202bacbdedc2f702f3e",
        "IPY_MODEL_bcf5b47fddde45bdb3ff55398039962e"
       ],
       "layout": "IPY_MODEL_a8208b652c78485c80c318aec5dd5354"
      }
     },
     "5747a7ac346c49d4ad98d444d7ec6d3b": {
      "model_module": "@jupyter-widgets/controls",
      "model_module_version": "1.5.0",
      "model_name": "ButtonModel",
      "state": {
       "description": "Export Image",
       "layout": "IPY_MODEL_035fb6b3f5a7400394c167a22cd7585c",
       "style": "IPY_MODEL_5256024ea235456bb5c78d192a84aaae"
      }
     },
     "574f99c8e95b48b7a0d1ad156037e254": {
      "model_module": "@jupyter-widgets/base",
      "model_module_version": "1.2.0",
      "model_name": "LayoutModel",
      "state": {}
     },
     "576e0725fa92435cb41d0bbdacd07fea": {
      "model_module": "@jupyter-widgets/base",
      "model_module_version": "1.2.0",
      "model_name": "LayoutModel",
      "state": {}
     },
     "57cf3fad065942ecb57dc0eaf0b6af27": {
      "model_module": "@jupyter-widgets/base",
      "model_module_version": "1.2.0",
      "model_name": "LayoutModel",
      "state": {}
     },
     "581a9a78284243e28fd8d67334bfb07f": {
      "model_module": "@jupyter-widgets/controls",
      "model_module_version": "1.5.0",
      "model_name": "FloatSliderModel",
      "state": {
       "description": "0°",
       "layout": "IPY_MODEL_27cb9a41b3cc431dad363a957d332a59",
       "max": 1,
       "min": -1,
       "step": 0.01,
       "style": "IPY_MODEL_cfeb5c808479405496e9ef7a3e8a1c59"
      }
     },
     "5861b904d077453ebe0fb9a7f064ac8d": {
      "model_module": "@jupyter-widgets/base",
      "model_module_version": "1.2.0",
      "model_name": "LayoutModel",
      "state": {}
     },
     "588b3df95092401ca45011d844e46a2d": {
      "model_module": "@jupyter-widgets/base",
      "model_module_version": "1.2.0",
      "model_name": "LayoutModel",
      "state": {}
     },
     "59206da5c57d44b0820f86c2193e4e74": {
      "model_module": "@jupyter-widgets/output",
      "model_module_version": "1.0.0",
      "model_name": "OutputModel",
      "state": {
       "layout": "IPY_MODEL_ab2ffb2933b34662a5e2768157a38066",
       "outputs": [
        {
         "data": {
          "application/vnd.jupyter.widget-view+json": {
           "model_id": "4a11a30860a1411ca6c2721facae594e",
           "version_major": 2,
           "version_minor": 0
          },
          "text/plain": "Canvas(toolbar=Toolbar(toolitems=[('Home', 'Reset original view', 'home', 'home'), ('Back', 'Back to previous …"
         },
         "metadata": {},
         "output_type": "display_data"
        }
       ]
      }
     },
     "59c597c044be4f2491b6c05735fb9461": {
      "model_module": "@jupyter-widgets/base",
      "model_module_version": "1.2.0",
      "model_name": "LayoutModel",
      "state": {}
     },
     "59f1289302ab496a8f8ef17187accbe3": {
      "model_module": "@jupyter-widgets/controls",
      "model_module_version": "1.5.0",
      "model_name": "ButtonStyleModel",
      "state": {}
     },
     "5b3b26bab4d049a6a9cf8d6a424711f3": {
      "model_module": "@jupyter-widgets/controls",
      "model_module_version": "1.5.0",
      "model_name": "HBoxModel",
      "state": {
       "children": [
        "IPY_MODEL_337da5ab93b64724b36d2e25191f9d90",
        "IPY_MODEL_c91e59344c394c2ebc780f2a7b02f32c",
        "IPY_MODEL_aeef00c08f694257a7c8194c672a80f0"
       ],
       "layout": "IPY_MODEL_08243bad12094122a10fef42da36d282"
      }
     },
     "5ba4cbbd015d4925a6dfb31e94b77ad0": {
      "model_module": "@jupyter-widgets/controls",
      "model_module_version": "1.5.0",
      "model_name": "VBoxModel",
      "state": {
       "children": [
        "IPY_MODEL_790bc9d92a784b45862e439127ddccd5"
       ],
       "layout": "IPY_MODEL_15521eb9fd65459bbcaf6c7d55acc4fc"
      }
     },
     "5be048787ca6481ab5e511e4a841c99f": {
      "model_module": "@jupyter-widgets/controls",
      "model_module_version": "1.5.0",
      "model_name": "HBoxModel",
      "state": {
       "children": [
        "IPY_MODEL_1b77ddb0e7fa44a59719333a761aee87",
        "IPY_MODEL_b4237acc8ec6482d92ba9c96dedca255",
        "IPY_MODEL_3048c4d87e054ea5911bab79a7365bf4"
       ],
       "layout": "IPY_MODEL_e9acbebefb1544dda80975663c131e76"
      }
     },
     "5bf57eaac64b4bdbad3fdf4f068f9924": {
      "model_module": "@jupyter-widgets/controls",
      "model_module_version": "1.5.0",
      "model_name": "FloatSliderModel",
      "state": {
       "description": "270°",
       "layout": "IPY_MODEL_caa437108db846d4a7e2321bd272430c",
       "max": 1,
       "min": -1,
       "step": 0.01,
       "style": "IPY_MODEL_3e48d678a0394b5db78fb59f3b461513"
      }
     },
     "5c3f523e223e479fa6fe8dfa3c9b51db": {
      "model_module": "@jupyter-widgets/controls",
      "model_module_version": "1.5.0",
      "model_name": "FloatSliderModel",
      "state": {
       "description": "180°",
       "layout": "IPY_MODEL_158bb50141eb40ad8f7c1a17b42f8d23",
       "max": 1,
       "min": -1,
       "step": 0.01,
       "style": "IPY_MODEL_015b9f87559c4238b25e5f3a2ef15598"
      }
     },
     "5cb79f54b592404d847ec32b477f4739": {
      "model_module": "@jupyter-widgets/controls",
      "model_module_version": "1.5.0",
      "model_name": "ButtonModel",
      "state": {
       "description": "Reset Saturation Controls",
       "layout": "IPY_MODEL_cbca20874bfd45fe82c627d971661800",
       "style": "IPY_MODEL_ba4b31ed7fc3425d8f34009e3deaac1f"
      }
     },
     "5cc6ef26e7b54134a829968572ca25c6": {
      "model_module": "@jupyter-widgets/controls",
      "model_module_version": "1.5.0",
      "model_name": "HBoxModel",
      "state": {
       "children": [
        "IPY_MODEL_3d4ac7ed20ff4d0c8d370140d7804322",
        "IPY_MODEL_ea5d62285fb2445ea0ca916b4e5eba15"
       ],
       "layout": "IPY_MODEL_371d7ff5b4f84b5883a1b74cd9c464a8"
      }
     },
     "5cc866566007457293b2fe3e5787fd70": {
      "model_module": "@jupyter-widgets/base",
      "model_module_version": "1.2.0",
      "model_name": "LayoutModel",
      "state": {}
     },
     "5cca7a34474e47249d630dc5063fb9be": {
      "model_module": "@jupyter-widgets/output",
      "model_module_version": "1.0.0",
      "model_name": "OutputModel",
      "state": {
       "layout": "IPY_MODEL_616a758cec644594b573c7b98699f63f",
       "outputs": [
        {
         "data": {
          "application/vnd.jupyter.widget-view+json": {
           "model_id": "2a0b42d098a44a6c90cf267327b96192",
           "version_major": 2,
           "version_minor": 0
          },
          "text/plain": "Canvas(toolbar=Toolbar(toolitems=[('Home', 'Reset original view', 'home', 'home'), ('Back', 'Back to previous …"
         },
         "metadata": {},
         "output_type": "display_data"
        }
       ]
      }
     },
     "5d4c0121bcf648b68de87d7cfd39fef1": {
      "model_module": "@jupyter-widgets/controls",
      "model_module_version": "1.5.0",
      "model_name": "FloatSliderModel",
      "state": {
       "description": "270°",
       "layout": "IPY_MODEL_95ff2383672a4e7b8a448859cfc0b376",
       "max": 1,
       "min": -1,
       "step": 0.01,
       "style": "IPY_MODEL_e6a1fe0717ab43e1a52d44b6777228dd"
      }
     },
     "5d81018df15f4cfb9f45965154a8de2f": {
      "model_module": "@jupyter-widgets/controls",
      "model_module_version": "1.5.0",
      "model_name": "FloatSliderModel",
      "state": {
       "description": "135°",
       "layout": "IPY_MODEL_df8941126c9843a1bcfe513a93abe056",
       "max": 1,
       "min": -1,
       "step": 0.01,
       "style": "IPY_MODEL_e5b4111d5bec4cbe9070930a59dde54b"
      }
     },
     "5d8b0ba886f8411bbc3b4fcd6ff2aeb2": {
      "model_module": "@jupyter-widgets/controls",
      "model_module_version": "1.5.0",
      "model_name": "ButtonModel",
      "state": {
       "description": "Save Figure",
       "layout": "IPY_MODEL_fdf95bea4ad946a4841c4197391b6e1e",
       "style": "IPY_MODEL_12bf93ed76da45d0a35858dda1e1dae9"
      }
     },
     "5df241832ac4421f96e85a335984dfa1": {
      "model_module": "@jupyter-widgets/controls",
      "model_module_version": "1.5.0",
      "model_name": "ButtonStyleModel",
      "state": {}
     },
     "5e002d332add48f49567a9c32f16b870": {
      "model_module": "@jupyter-widgets/base",
      "model_module_version": "1.2.0",
      "model_name": "LayoutModel",
      "state": {}
     },
     "5e055a588b8a422d81ae78e84e1d803b": {
      "model_module": "@jupyter-widgets/output",
      "model_module_version": "1.0.0",
      "model_name": "OutputModel",
      "state": {
       "layout": "IPY_MODEL_2e29cd8d8b9b46189c43c66ea664d944",
       "outputs": [
        {
         "data": {
          "application/vnd.jupyter.widget-view+json": {
           "model_id": "5fadf777d3094dd6a109dda8232f1fe8",
           "version_major": 2,
           "version_minor": 0
          },
          "text/plain": "Canvas(toolbar=Toolbar(toolitems=[('Home', 'Reset original view', 'home', 'home'), ('Back', 'Back to previous …"
         },
         "metadata": {},
         "output_type": "display_data"
        }
       ]
      }
     },
     "5e2ff6b30e1f4a609e2551fe6647a300": {
      "model_module": "@jupyter-widgets/controls",
      "model_module_version": "1.5.0",
      "model_name": "FloatSliderModel",
      "state": {
       "description": "315°",
       "layout": "IPY_MODEL_11b1655dc9fb4894bfd1c2521014b27e",
       "max": 1,
       "min": -1,
       "step": 0.01,
       "style": "IPY_MODEL_078c199a8b804426bbb6a01fba247b24"
      }
     },
     "5e5db0c3534a4553a46aec6054217a63": {
      "model_module": "@jupyter-widgets/base",
      "model_module_version": "1.2.0",
      "model_name": "LayoutModel",
      "state": {}
     },
     "5eb309cb76344226bc01a9b227a9de9e": {
      "model_module": "@jupyter-widgets/controls",
      "model_module_version": "1.5.0",
      "model_name": "ButtonStyleModel",
      "state": {}
     },
     "5ed884b2a53a41598e482996a99b36bd": {
      "model_module": "@jupyter-widgets/base",
      "model_module_version": "1.2.0",
      "model_name": "LayoutModel",
      "state": {
       "border": "solid 4px #222",
       "margin": "4px",
       "padding": "0"
      }
     },
     "5ee4d73c2fee4f2faf038307c40415d6": {
      "model_module": "@jupyter-widgets/base",
      "model_module_version": "1.2.0",
      "model_name": "LayoutModel",
      "state": {}
     },
     "5ef34fa324ba4bb79a90e073a17f107e": {
      "model_module": "@jupyter-widgets/controls",
      "model_module_version": "1.5.0",
      "model_name": "SliderStyleModel",
      "state": {
       "description_width": ""
      }
     },
     "5fadf777d3094dd6a109dda8232f1fe8": {
      "model_module": "jupyter-matplotlib",
      "model_module_version": "^0.7.2",
      "model_name": "MPLCanvasModel",
      "state": {
       "_figure_label": "Figure 16",
       "_height": 396,
       "_width": 1100,
       "header_visible": false,
       "layout": "IPY_MODEL_4bf651e07e7045d2804c754d0d49fde0",
       "resizable": false,
       "toolbar": "IPY_MODEL_b51fe4a73e7d4ecb97029e9e5a45fb7c",
       "toolbar_position": "left",
       "toolbar_visible": false
      }
     },
     "5fb485fdbcb54800850e651b9681568d": {
      "model_module": "@jupyter-widgets/controls",
      "model_module_version": "1.5.0",
      "model_name": "SliderStyleModel",
      "state": {
       "description_width": ""
      }
     },
     "60072d0fb3904a9c97ef58285c6a556f": {
      "model_module": "@jupyter-widgets/base",
      "model_module_version": "1.2.0",
      "model_name": "LayoutModel",
      "state": {}
     },
     "601dd638c90e441c8158592b500071a9": {
      "model_module": "jupyter-matplotlib",
      "model_module_version": "^0.7.2",
      "model_name": "MPLCanvasModel",
      "state": {
       "_figure_label": "Figure 7",
       "_height": 465,
       "_width": 1099,
       "header_visible": false,
       "layout": "IPY_MODEL_950b820b35b24232ae3e0b02dc5ee9aa",
       "resizable": false,
       "toolbar": "IPY_MODEL_fe1591696ae4495f95716cded0a7123d",
       "toolbar_position": "left",
       "toolbar_visible": false
      }
     },
     "608d7df363c448e89070333361b3256e": {
      "model_module": "@jupyter-widgets/controls",
      "model_module_version": "1.5.0",
      "model_name": "ButtonModel",
      "state": {
       "description": "Reset Compression Controls",
       "layout": "IPY_MODEL_60aefd134890489980cc54dbd8d76c25",
       "style": "IPY_MODEL_4c37220f80694d79b4cb82284d2cfd64"
      }
     },
     "60a4bef14fac4c3caa9b7bf4b0bcfff4": {
      "model_module": "@jupyter-widgets/controls",
      "model_module_version": "1.5.0",
      "model_name": "SliderStyleModel",
      "state": {
       "description_width": ""
      }
     },
     "60a58e6ce9f0425b8383365eeae32443": {
      "model_module": "jupyter-matplotlib",
      "model_module_version": "^0.7.2",
      "model_name": "ToolbarModel",
      "state": {
       "layout": "IPY_MODEL_ec1d960b84c541a6a82d74b221198ce3",
       "toolitems": [
        [
         "Home",
         "Reset original view",
         "home",
         "home"
        ],
        [
         "Back",
         "Back to previous view",
         "arrow-left",
         "back"
        ],
        [
         "Forward",
         "Forward to next view",
         "arrow-right",
         "forward"
        ],
        [
         "Pan",
         "Pan axes with left mouse, zoom with right",
         "arrows",
         "pan"
        ],
        [
         "Zoom",
         "Zoom to rectangle",
         "square-o",
         "zoom"
        ],
        [
         "Download",
         "Download plot",
         "floppy-o",
         "save_figure"
        ]
       ]
      }
     },
     "60aefd134890489980cc54dbd8d76c25": {
      "model_module": "@jupyter-widgets/base",
      "model_module_version": "1.2.0",
      "model_name": "LayoutModel",
      "state": {}
     },
     "6110588ae33143ac9795845692edda71": {
      "model_module": "@jupyter-widgets/controls",
      "model_module_version": "1.5.0",
      "model_name": "FloatSliderModel",
      "state": {
       "description": "180°",
       "layout": "IPY_MODEL_1b7354ab02a0449aa82cda8262ec3102",
       "max": 1,
       "min": -1,
       "step": 0.01,
       "style": "IPY_MODEL_7324f366c35e4e929c060b6898f1a938"
      }
     },
     "612db7f4f47e486ca2bec51f324a8b9d": {
      "model_module": "@jupyter-widgets/base",
      "model_module_version": "1.2.0",
      "model_name": "LayoutModel",
      "state": {}
     },
     "61417195ee3c4a4cbfb2c8bb50970f65": {
      "model_module": "@jupyter-widgets/controls",
      "model_module_version": "1.5.0",
      "model_name": "DescriptionStyleModel",
      "state": {
       "description_width": ""
      }
     },
     "616a758cec644594b573c7b98699f63f": {
      "model_module": "@jupyter-widgets/base",
      "model_module_version": "1.2.0",
      "model_name": "LayoutModel",
      "state": {
       "border": "solid 4px #222",
       "margin": "4px",
       "padding": "0"
      }
     },
     "62b9d3fb1e7f4690a5ab97139a631a1e": {
      "model_module": "@jupyter-widgets/base",
      "model_module_version": "1.2.0",
      "model_name": "LayoutModel",
      "state": {}
     },
     "62f5de95d7f745c7b52c5865aaef4215": {
      "model_module": "@jupyter-widgets/base",
      "model_module_version": "1.2.0",
      "model_name": "LayoutModel",
      "state": {}
     },
     "6455101cea084860a2234eea2ac199f3": {
      "model_module": "@jupyter-widgets/base",
      "model_module_version": "1.2.0",
      "model_name": "LayoutModel",
      "state": {}
     },
     "64bf3ea939db4d4b8f4b131fd7820e07": {
      "model_module": "jupyter-matplotlib",
      "model_module_version": "^0.7.2",
      "model_name": "ToolbarModel",
      "state": {
       "layout": "IPY_MODEL_e9692d1432a344fe917cbee74fb52c78",
       "toolitems": [
        [
         "Home",
         "Reset original view",
         "home",
         "home"
        ],
        [
         "Back",
         "Back to previous view",
         "arrow-left",
         "back"
        ],
        [
         "Forward",
         "Forward to next view",
         "arrow-right",
         "forward"
        ],
        [
         "Pan",
         "Pan axes with left mouse, zoom with right",
         "arrows",
         "pan"
        ],
        [
         "Zoom",
         "Zoom to rectangle",
         "square-o",
         "zoom"
        ],
        [
         "Download",
         "Download plot",
         "floppy-o",
         "save_figure"
        ]
       ]
      }
     },
     "64c97d9424c84f0d95c03ee71eababb7": {
      "model_module": "@jupyter-widgets/controls",
      "model_module_version": "1.5.0",
      "model_name": "ButtonStyleModel",
      "state": {}
     },
     "64e8df26d0c0438c834dd097c35537dc": {
      "model_module": "@jupyter-widgets/controls",
      "model_module_version": "1.5.0",
      "model_name": "ButtonModel",
      "state": {
       "description": "Export Image",
       "layout": "IPY_MODEL_0a05af6f88ec4925b5241abe5abd3070",
       "style": "IPY_MODEL_ede6dfe53b6c43c1acfb7555845ec501"
      }
     },
     "6503797b958d4f3cbfbfe46bf8f67ae5": {
      "model_module": "@jupyter-widgets/controls",
      "model_module_version": "1.5.0",
      "model_name": "ButtonStyleModel",
      "state": {}
     },
     "653f58e1d4af43f2b3681eab40804d15": {
      "model_module": "@jupyter-widgets/base",
      "model_module_version": "1.2.0",
      "model_name": "LayoutModel",
      "state": {}
     },
     "654dd9ba26ea4b08a316871774ba9f54": {
      "model_module": "@jupyter-widgets/base",
      "model_module_version": "1.2.0",
      "model_name": "LayoutModel",
      "state": {}
     },
     "65f1c6211e9648ca9aa4dc8681475afb": {
      "model_module": "@jupyter-widgets/base",
      "model_module_version": "1.2.0",
      "model_name": "LayoutModel",
      "state": {}
     },
     "65f6d2d5b3c0470389585af5028a29bb": {
      "model_module": "@jupyter-widgets/controls",
      "model_module_version": "1.5.0",
      "model_name": "ButtonModel",
      "state": {
       "description": "Save Figure",
       "layout": "IPY_MODEL_4471bee6435e4c97a0b9a4468c445461",
       "style": "IPY_MODEL_b301c2d91a514630946ed0b7ddf9fc38"
      }
     },
     "65ffc04dc1c9420f968a1faf655de212": {
      "model_module": "@jupyter-widgets/controls",
      "model_module_version": "1.5.0",
      "model_name": "DescriptionStyleModel",
      "state": {
       "description_width": ""
      }
     },
     "6677a033d13249c49205a967252832ab": {
      "model_module": "@jupyter-widgets/base",
      "model_module_version": "1.2.0",
      "model_name": "LayoutModel",
      "state": {}
     },
     "67037463a50d46129e1783a90314d3d8": {
      "model_module": "@jupyter-widgets/base",
      "model_module_version": "1.2.0",
      "model_name": "LayoutModel",
      "state": {}
     },
     "67111ac353fb4485a1be0884372a88a7": {
      "model_module": "@jupyter-widgets/base",
      "model_module_version": "1.2.0",
      "model_name": "LayoutModel",
      "state": {}
     },
     "671d44a1306748c6817fdfbdfb2c49e9": {
      "model_module": "@jupyter-widgets/base",
      "model_module_version": "1.2.0",
      "model_name": "LayoutModel",
      "state": {}
     },
     "67676efa0620432db12c2fbf453a1a90": {
      "model_module": "@jupyter-widgets/controls",
      "model_module_version": "1.5.0",
      "model_name": "FloatSliderModel",
      "state": {
       "description": "225°",
       "layout": "IPY_MODEL_e99b79eb7d344090b0751ea0adf76e01",
       "max": 1,
       "min": -1,
       "step": 0.01,
       "style": "IPY_MODEL_9e85f087dce64767858bdb32a3c085c0"
      }
     },
     "67bea0e4c6994e08bf09f64d539dbe5f": {
      "model_module": "jupyter-matplotlib",
      "model_module_version": "^0.7.2",
      "model_name": "MPLCanvasModel",
      "state": {
       "_figure_label": "Figure 12",
       "_height": 430,
       "_width": 1099,
       "header_visible": false,
       "layout": "IPY_MODEL_e6a891ffdb6d49a6b7685c293ee83818",
       "resizable": false,
       "toolbar": "IPY_MODEL_f129cb3759f34f5c8bc7a95caf81c2ac",
       "toolbar_position": "left",
       "toolbar_visible": false
      }
     },
     "6814d4b1941041018e0c0e6fd82214d5": {
      "model_module": "@jupyter-widgets/controls",
      "model_module_version": "1.5.0",
      "model_name": "BoxModel",
      "state": {
       "children": [
        "IPY_MODEL_96a90fbe0e0a4feba2951db15f4b2f12",
        "IPY_MODEL_2c1ecd2bdcef4a76ab51702c9ffab99d"
       ],
       "layout": "IPY_MODEL_8aa0bcba87e748dea113d092775a2834"
      }
     },
     "6822358badfe416592ea606f16788fac": {
      "model_module": "@jupyter-widgets/controls",
      "model_module_version": "1.5.0",
      "model_name": "SliderStyleModel",
      "state": {
       "description_width": ""
      }
     },
     "683b567080004b9ca7d6ee0ff98d9842": {
      "model_module": "@jupyter-widgets/base",
      "model_module_version": "1.2.0",
      "model_name": "LayoutModel",
      "state": {}
     },
     "68511dd26c5e4644aa302a09579424d8": {
      "model_module": "@jupyter-widgets/controls",
      "model_module_version": "1.5.0",
      "model_name": "SliderStyleModel",
      "state": {
       "description_width": ""
      }
     },
     "68723d7e735e471a83cc3b2b5ceb2fae": {
      "model_module": "@jupyter-widgets/controls",
      "model_module_version": "1.5.0",
      "model_name": "FloatSliderModel",
      "state": {
       "description": "Protected Area Threshold",
       "layout": "IPY_MODEL_f134d148488a49d294a38f816427246c",
       "max": 1,
       "step": 0.01,
       "style": "IPY_MODEL_c148601908cd4bbbb00a78275994f372",
       "value": 0.7
      }
     },
     "68af208643214461b4a63e2b28f9564f": {
      "model_module": "@jupyter-widgets/controls",
      "model_module_version": "1.5.0",
      "model_name": "ButtonModel",
      "state": {
       "description": "Reset Protected Area",
       "layout": "IPY_MODEL_e7ddfdae9b7b461dab85fb17aac7ce3e",
       "style": "IPY_MODEL_f8727324407341c79368a1e88428e567"
      }
     },
     "68d162db2b1344539edec642e499dcb1": {
      "model_module": "@jupyter-widgets/base",
      "model_module_version": "1.2.0",
      "model_name": "LayoutModel",
      "state": {}
     },
     "68d333a5a5c443cf97e240c00423498a": {
      "model_module": "@jupyter-widgets/base",
      "model_module_version": "1.2.0",
      "model_name": "LayoutModel",
      "state": {
       "border": "solid 4px #222",
       "margin": "4px",
       "padding": "0"
      }
     },
     "68f823f95bfb4f0d98a4c2789e0bace7": {
      "model_module": "@jupyter-widgets/controls",
      "model_module_version": "1.5.0",
      "model_name": "DescriptionStyleModel",
      "state": {
       "description_width": ""
      }
     },
     "6920bb4447ee4bbc9bd3f6ea439ab6f0": {
      "model_module": "@jupyter-widgets/base",
      "model_module_version": "1.2.0",
      "model_name": "LayoutModel",
      "state": {}
     },
     "69a314092f8e458d92cb538e6cebdf68": {
      "model_module": "@jupyter-widgets/controls",
      "model_module_version": "1.5.0",
      "model_name": "VBoxModel",
      "state": {
       "children": [
        "IPY_MODEL_dc904bd72b724312b56f2e98a8681e95",
        "IPY_MODEL_fa3a13ae867148429681aca1e6b5e223"
       ],
       "layout": "IPY_MODEL_d34cc949726743b39214d766141c43ae"
      }
     },
     "6a034c604d544c6398204583b7817b9a": {
      "model_module": "@jupyter-widgets/controls",
      "model_module_version": "1.5.0",
      "model_name": "FloatSliderModel",
      "state": {
       "description": "135°",
       "layout": "IPY_MODEL_e5dc43bf5e2e4066aa59a2b7cc8e6a51",
       "max": 1,
       "min": -1,
       "step": 0.01,
       "style": "IPY_MODEL_9dc5e7ac141d4dada6b9e049b4209e92"
      }
     },
     "6a3470e695db444e8415736afbc6bef3": {
      "model_module": "@jupyter-widgets/controls",
      "model_module_version": "1.5.0",
      "model_name": "ButtonModel",
      "state": {
       "description": "Reset Protected Area",
       "layout": "IPY_MODEL_20bee31fc65942e9b94265cefd2b3933",
       "style": "IPY_MODEL_afd0cece04f946bd8c6b6dafa65b7c15"
      }
     },
     "6a73869856fa420b8a85afc8fae897b3": {
      "model_module": "@jupyter-widgets/base",
      "model_module_version": "1.2.0",
      "model_name": "LayoutModel",
      "state": {}
     },
     "6ac0dce037e948ab8724a08b92ea40d8": {
      "model_module": "@jupyter-widgets/output",
      "model_module_version": "1.0.0",
      "model_name": "OutputModel",
      "state": {
       "layout": "IPY_MODEL_9ea6f65cb8d74679af4e35075546b13c",
       "outputs": [
        {
         "data": {
          "application/vnd.jupyter.widget-view+json": {
           "model_id": "be0a74b2703445f1871ba46132d0b659",
           "version_major": 2,
           "version_minor": 0
          },
          "text/plain": "Canvas(toolbar=Toolbar(toolitems=[('Home', 'Reset original view', 'home', 'home'), ('Back', 'Back to previous …"
         },
         "metadata": {},
         "output_type": "display_data"
        }
       ]
      }
     },
     "6af07e03d83947d5b6b92f37f37f3679": {
      "model_module": "@jupyter-widgets/controls",
      "model_module_version": "1.5.0",
      "model_name": "SliderStyleModel",
      "state": {
       "description_width": ""
      }
     },
     "6b1545a922a0489c9203575dc790182d": {
      "model_module": "@jupyter-widgets/controls",
      "model_module_version": "1.5.0",
      "model_name": "SliderStyleModel",
      "state": {
       "description_width": ""
      }
     },
     "6b620669a623440689f663e0ba507b00": {
      "model_module": "@jupyter-widgets/controls",
      "model_module_version": "1.5.0",
      "model_name": "VBoxModel",
      "state": {
       "children": [
        "IPY_MODEL_c2c613af538442d89c813870edb883f3",
        "IPY_MODEL_181e0ffff8674c70a262c1cd733194fa",
        "IPY_MODEL_36b8a94e22db4788aa6d07c903ed2f81"
       ],
       "layout": "IPY_MODEL_fb7c152c666a4a08b6a0966545449871"
      }
     },
     "6b63cd0affa04354a44270389f29ee35": {
      "model_module": "@jupyter-widgets/controls",
      "model_module_version": "1.5.0",
      "model_name": "HBoxModel",
      "state": {
       "children": [
        "IPY_MODEL_de8ba1c922b04f6b927def1fa768c243",
        "IPY_MODEL_e20ab6be7b5b4017af77a36d75202811",
        "IPY_MODEL_0d1629f4c12d44a69b1e82e64f1bfaad",
        "IPY_MODEL_6fc6cb587645415289f45f75e164f809"
       ],
       "layout": "IPY_MODEL_46179459461d42c6917f76006deb70fd"
      }
     },
     "6b70de7e56c641e6a2079702ef59b343": {
      "model_module": "@jupyter-widgets/base",
      "model_module_version": "1.2.0",
      "model_name": "LayoutModel",
      "state": {}
     },
     "6b7f9eb426b04153ab1b643db36992f2": {
      "model_module": "@jupyter-widgets/controls",
      "model_module_version": "1.5.0",
      "model_name": "VBoxModel",
      "state": {
       "children": [
        "IPY_MODEL_5d81018df15f4cfb9f45965154a8de2f",
        "IPY_MODEL_3ec0543696934034bbaf2c2cea538a7b",
        "IPY_MODEL_821458c04a6144eb92ebdf92bff36f77"
       ],
       "layout": "IPY_MODEL_ddfab5339f824e36b754d428c1f493ef"
      }
     },
     "6bd7e14ef44f4f8caa7d088821dfbfa6": {
      "model_module": "@jupyter-widgets/controls",
      "model_module_version": "1.5.0",
      "model_name": "SliderStyleModel",
      "state": {
       "description_width": ""
      }
     },
     "6bf62525be27483c96675ea44d4b9c14": {
      "model_module": "@jupyter-widgets/controls",
      "model_module_version": "1.5.0",
      "model_name": "ButtonStyleModel",
      "state": {}
     },
     "6bf76b8b10bf45e9989923b1d8ac126b": {
      "model_module": "@jupyter-widgets/controls",
      "model_module_version": "1.5.0",
      "model_name": "SliderStyleModel",
      "state": {
       "description_width": ""
      }
     },
     "6bfd9ffc6a26403ababa00e2009a35fc": {
      "model_module": "@jupyter-widgets/controls",
      "model_module_version": "1.5.0",
      "model_name": "CheckboxModel",
      "state": {
       "description": "Disable Medicina",
       "disabled": false,
       "layout": "IPY_MODEL_e8fc4cb9755b4f348f51bbd3cd2f39a1",
       "style": "IPY_MODEL_68f823f95bfb4f0d98a4c2789e0bace7",
       "value": false
      }
     },
     "6c8fb933948641f88674982d0d9f5705": {
      "model_module": "@jupyter-widgets/base",
      "model_module_version": "1.2.0",
      "model_name": "LayoutModel",
      "state": {}
     },
     "6d173ed5418f41bbac76036d488d6f69": {
      "model_module": "@jupyter-widgets/controls",
      "model_module_version": "1.5.0",
      "model_name": "ButtonModel",
      "state": {
       "description": "Reset Hue Controls",
       "layout": "IPY_MODEL_8d83dce4f1b04bf49f853a08d0e2fbfe",
       "style": "IPY_MODEL_e499388f11c54d7d9353c5c4e12bde68"
      }
     },
     "6d5b4845a6a54acfb9cb53b3c67bd0b0": {
      "model_module": "@jupyter-widgets/base",
      "model_module_version": "1.2.0",
      "model_name": "LayoutModel",
      "state": {}
     },
     "6dd39c0b6bdb41c6b1f59f24ed9a7750": {
      "model_module": "@jupyter-widgets/controls",
      "model_module_version": "1.5.0",
      "model_name": "ButtonStyleModel",
      "state": {}
     },
     "6dfdea180f684ea1a29eec2519c8f180": {
      "model_module": "@jupyter-widgets/base",
      "model_module_version": "1.2.0",
      "model_name": "LayoutModel",
      "state": {}
     },
     "6e317c85f43c433b98a66a9cc3de74b4": {
      "model_module": "@jupyter-widgets/controls",
      "model_module_version": "1.5.0",
      "model_name": "SliderStyleModel",
      "state": {
       "description_width": ""
      }
     },
     "6e402700609a47a79793c12982a2084e": {
      "model_module": "@jupyter-widgets/base",
      "model_module_version": "1.2.0",
      "model_name": "LayoutModel",
      "state": {}
     },
     "6e53e5e341b143778afc44fd8ac5c6a3": {
      "model_module": "@jupyter-widgets/base",
      "model_module_version": "1.2.0",
      "model_name": "LayoutModel",
      "state": {}
     },
     "6e5c242f8aa845ab9752f33aac43cbad": {
      "model_module": "@jupyter-widgets/controls",
      "model_module_version": "1.5.0",
      "model_name": "HBoxModel",
      "state": {
       "children": [
        "IPY_MODEL_504889b2139643a3ae3800998823243c",
        "IPY_MODEL_10281bdb93de4fefa02a074d4bda77f0",
        "IPY_MODEL_65f6d2d5b3c0470389585af5028a29bb"
       ],
       "layout": "IPY_MODEL_47ed7ed7038d437cac7ed877f5e69753"
      }
     },
     "6e60cd442fb7487bbdcf61a24601e05d": {
      "model_module": "@jupyter-widgets/base",
      "model_module_version": "1.2.0",
      "model_name": "LayoutModel",
      "state": {}
     },
     "6ec9bc87a8b546b8b5aa391004b8431c": {
      "model_module": "@jupyter-widgets/controls",
      "model_module_version": "1.5.0",
      "model_name": "ButtonModel",
      "state": {
       "description": "Reset Compression Controls",
       "layout": "IPY_MODEL_0289135c0df8445e90b350aa48687c90",
       "style": "IPY_MODEL_fa7a9c2757cb491dac25de757834e997"
      }
     },
     "6ef549c6f0b44229a2580b4db678b94d": {
      "model_module": "@jupyter-widgets/controls",
      "model_module_version": "1.5.0",
      "model_name": "ButtonStyleModel",
      "state": {}
     },
     "6f26c781c17e44df8164e52ed4d8d863": {
      "model_module": "@jupyter-widgets/controls",
      "model_module_version": "1.5.0",
      "model_name": "ButtonModel",
      "state": {
       "description": "Save Figure",
       "layout": "IPY_MODEL_f165d6f5fadb4ec194f760817e3bb630",
       "style": "IPY_MODEL_991fb7d19b2a4096b67bf619310ddac1"
      }
     },
     "6f3647fa3c0045b2a6c0b758946ee4c0": {
      "model_module": "@jupyter-widgets/base",
      "model_module_version": "1.2.0",
      "model_name": "LayoutModel",
      "state": {
       "border": "solid 4px #222",
       "margin": "4px",
       "padding": "0"
      }
     },
     "6f408c6d3d2641ed95c2e3861ce0ba63": {
      "model_module": "@jupyter-widgets/controls",
      "model_module_version": "1.5.0",
      "model_name": "BoxModel",
      "state": {
       "children": [
        "IPY_MODEL_7971d40148074d0aa51158a956e20b89",
        "IPY_MODEL_56539534a8d04a66bc56c2a179754623"
       ],
       "layout": "IPY_MODEL_f6e691939c0646e798fe5303304b1fe8"
      }
     },
     "6f5f9db7b49444e6b59965b68611fda8": {
      "model_module": "@jupyter-widgets/controls",
      "model_module_version": "1.5.0",
      "model_name": "VBoxModel",
      "state": {
       "children": [
        "IPY_MODEL_34081b7285654ddbadc1695f3aca1999"
       ],
       "layout": "IPY_MODEL_b6516a61dedf4d149e4320591c96ac0b"
      }
     },
     "6f6653abcbe846448442a4afc85e81b8": {
      "model_module": "@jupyter-widgets/controls",
      "model_module_version": "1.5.0",
      "model_name": "HBoxModel",
      "state": {
       "children": [
        "IPY_MODEL_ff09b988c9e44e51986ccffddff76255",
        "IPY_MODEL_64e8df26d0c0438c834dd097c35537dc",
        "IPY_MODEL_5d8b0ba886f8411bbc3b4fcd6ff2aeb2"
       ],
       "layout": "IPY_MODEL_d854f6c3662a47bd870304b592555d06"
      }
     },
     "6f67a680b9ad41d7ae6a2dd14b35ca00": {
      "model_module": "@jupyter-widgets/controls",
      "model_module_version": "1.5.0",
      "model_name": "ButtonModel",
      "state": {
       "description": "Reset Saturation Controls",
       "layout": "IPY_MODEL_899b9cb476fc4860ab4ca8fe08889014",
       "style": "IPY_MODEL_e9d9d27235124459b4ace292c617482d"
      }
     },
     "6f7739b9d2144b019faf3f8776044bc9": {
      "model_module": "@jupyter-widgets/base",
      "model_module_version": "1.2.0",
      "model_name": "LayoutModel",
      "state": {}
     },
     "6f87f3d74e2d4fbeb09df792c6f4d7d7": {
      "model_module": "@jupyter-widgets/base",
      "model_module_version": "1.2.0",
      "model_name": "LayoutModel",
      "state": {}
     },
     "6fc6cb587645415289f45f75e164f809": {
      "model_module": "@jupyter-widgets/controls",
      "model_module_version": "1.5.0",
      "model_name": "VBoxModel",
      "state": {
       "children": [
        "IPY_MODEL_f60c04c309e6492daa68a36dd1fe6615",
        "IPY_MODEL_c398f80665a346f8a5408cc2a4fb7c77"
       ],
       "layout": "IPY_MODEL_a304327a673f482fae3fd408b3f252c9"
      }
     },
     "70015df91650446684e6fde967683ce1": {
      "model_module": "@jupyter-widgets/output",
      "model_module_version": "1.0.0",
      "model_name": "OutputModel",
      "state": {
       "layout": "IPY_MODEL_6f3647fa3c0045b2a6c0b758946ee4c0",
       "outputs": [
        {
         "data": {
          "application/vnd.jupyter.widget-view+json": {
           "model_id": "601dd638c90e441c8158592b500071a9",
           "version_major": 2,
           "version_minor": 0
          },
          "text/plain": "Canvas(toolbar=Toolbar(toolitems=[('Home', 'Reset original view', 'home', 'home'), ('Back', 'Back to previous …"
         },
         "metadata": {},
         "output_type": "display_data"
        }
       ]
      }
     },
     "7076b0e14ad141209530bfb825e5e914": {
      "model_module": "@jupyter-widgets/base",
      "model_module_version": "1.2.0",
      "model_name": "LayoutModel",
      "state": {}
     },
     "7115fc6a5b1d40289a1ad6d084fc440b": {
      "model_module": "@jupyter-widgets/controls",
      "model_module_version": "1.5.0",
      "model_name": "ButtonStyleModel",
      "state": {}
     },
     "7120b1fe77d7434a8a80b5e1966f999c": {
      "model_module": "@jupyter-widgets/base",
      "model_module_version": "1.2.0",
      "model_name": "LayoutModel",
      "state": {}
     },
     "714727ac897c4b96b8b697be46b2a24a": {
      "model_module": "@jupyter-widgets/controls",
      "model_module_version": "1.5.0",
      "model_name": "SliderStyleModel",
      "state": {
       "description_width": ""
      }
     },
     "71d7af32e220443ab341ad5837c485e9": {
      "model_module": "@jupyter-widgets/output",
      "model_module_version": "1.0.0",
      "model_name": "OutputModel",
      "state": {
       "layout": "IPY_MODEL_4444cffc5f2f43768fb2fd8b1e5119bb",
       "outputs": [
        {
         "data": {
          "application/vnd.jupyter.widget-view+json": {
           "model_id": "67bea0e4c6994e08bf09f64d539dbe5f",
           "version_major": 2,
           "version_minor": 0
          },
          "text/plain": "Canvas(toolbar=Toolbar(toolitems=[('Home', 'Reset original view', 'home', 'home'), ('Back', 'Back to previous …"
         },
         "metadata": {},
         "output_type": "display_data"
        }
       ]
      }
     },
     "71e36282a85d47b9b13b2aeb81be348d": {
      "model_module": "@jupyter-widgets/controls",
      "model_module_version": "1.5.0",
      "model_name": "SliderStyleModel",
      "state": {
       "description_width": ""
      }
     },
     "723aece7c6974f82850cbcec4439a126": {
      "model_module": "@jupyter-widgets/controls",
      "model_module_version": "1.5.0",
      "model_name": "FloatSliderModel",
      "state": {
       "description": "225°",
       "layout": "IPY_MODEL_bb46b088b8d6465aab4955e5a6857e56",
       "max": 1,
       "min": -1,
       "step": 0.01,
       "style": "IPY_MODEL_8344e5023256473aaced599379a5c88b"
      }
     },
     "72a4814658784204bf22f21daa846e05": {
      "model_module": "@jupyter-widgets/base",
      "model_module_version": "1.2.0",
      "model_name": "LayoutModel",
      "state": {}
     },
     "72ad4accfbda490dbff1604fd4247cc2": {
      "model_module": "@jupyter-widgets/base",
      "model_module_version": "1.2.0",
      "model_name": "LayoutModel",
      "state": {}
     },
     "7303c4457f0f4706ab4b3dbcf01b69d3": {
      "model_module": "jupyter-matplotlib",
      "model_module_version": "^0.7.2",
      "model_name": "ToolbarModel",
      "state": {
       "layout": "IPY_MODEL_99e558d8010e458786da3ac2019060d9",
       "toolitems": [
        [
         "Home",
         "Reset original view",
         "home",
         "home"
        ],
        [
         "Back",
         "Back to previous view",
         "arrow-left",
         "back"
        ],
        [
         "Forward",
         "Forward to next view",
         "arrow-right",
         "forward"
        ],
        [
         "Pan",
         "Pan axes with left mouse, zoom with right",
         "arrows",
         "pan"
        ],
        [
         "Zoom",
         "Zoom to rectangle",
         "square-o",
         "zoom"
        ],
        [
         "Download",
         "Download plot",
         "floppy-o",
         "save_figure"
        ]
       ]
      }
     },
     "730acc4d419747e59185538bcc6869b4": {
      "model_module": "@jupyter-widgets/controls",
      "model_module_version": "1.5.0",
      "model_name": "FloatSliderModel",
      "state": {
       "description": "225°",
       "layout": "IPY_MODEL_e087e588eb3c4c6d8eb443a3ee727105",
       "max": 1,
       "min": -1,
       "step": 0.01,
       "style": "IPY_MODEL_8667b6278ccc416bad02cc0a4836ac70"
      }
     },
     "7324f366c35e4e929c060b6898f1a938": {
      "model_module": "@jupyter-widgets/controls",
      "model_module_version": "1.5.0",
      "model_name": "SliderStyleModel",
      "state": {
       "description_width": ""
      }
     },
     "73da1c7c7d004fa886b24327e3e76359": {
      "model_module": "@jupyter-widgets/controls",
      "model_module_version": "1.5.0",
      "model_name": "ButtonStyleModel",
      "state": {}
     },
     "73ec732de5664b5cbe5cb4b0ce80ea44": {
      "model_module": "@jupyter-widgets/controls",
      "model_module_version": "1.5.0",
      "model_name": "ButtonStyleModel",
      "state": {}
     },
     "742cf32828ac4e3d85dffb522d46aa97": {
      "model_module": "@jupyter-widgets/controls",
      "model_module_version": "1.5.0",
      "model_name": "SliderStyleModel",
      "state": {
       "description_width": ""
      }
     },
     "7458539a042f438bb07135ad9604380c": {
      "model_module": "@jupyter-widgets/controls",
      "model_module_version": "1.5.0",
      "model_name": "SliderStyleModel",
      "state": {
       "description_width": ""
      }
     },
     "7497d9789c7140248edcdfbc02483dde": {
      "model_module": "jupyter-matplotlib",
      "model_module_version": "^0.7.2",
      "model_name": "ToolbarModel",
      "state": {
       "layout": "IPY_MODEL_8b525fa55a80405a9ef284285d1e48ae",
       "toolitems": [
        [
         "Home",
         "Reset original view",
         "home",
         "home"
        ],
        [
         "Back",
         "Back to previous view",
         "arrow-left",
         "back"
        ],
        [
         "Forward",
         "Forward to next view",
         "arrow-right",
         "forward"
        ],
        [
         "Pan",
         "Pan axes with left mouse, zoom with right",
         "arrows",
         "pan"
        ],
        [
         "Zoom",
         "Zoom to rectangle",
         "square-o",
         "zoom"
        ],
        [
         "Download",
         "Download plot",
         "floppy-o",
         "save_figure"
        ]
       ]
      }
     },
     "74bb4d2bca644aa7825f2869e09910c2": {
      "model_module": "@jupyter-widgets/controls",
      "model_module_version": "1.5.0",
      "model_name": "BoxModel",
      "state": {
       "children": [
        "IPY_MODEL_d3ad4b7c5f3440eebdfe331d7e7aef8c",
        "IPY_MODEL_21f97330f1b64eda80bacd093efdef15"
       ],
       "layout": "IPY_MODEL_b9e2afa2073d49b69bd6ab4e2eade803"
      }
     },
     "7519696df2f048059dba4a39bb8b1736": {
      "model_module": "@jupyter-widgets/controls",
      "model_module_version": "1.5.0",
      "model_name": "ButtonModel",
      "state": {
       "description": "Save Figure",
       "layout": "IPY_MODEL_d8a40ec532504749b5b3a1b195d39724",
       "style": "IPY_MODEL_eb16b8ad3ebb487994f1d7bf0d6990d5"
      }
     },
     "757114e8eba348ccabaa2aab236487d5": {
      "model_module": "@jupyter-widgets/base",
      "model_module_version": "1.2.0",
      "model_name": "LayoutModel",
      "state": {}
     },
     "75955aefb87a4eaea7e2e5379102865b": {
      "model_module": "@jupyter-widgets/controls",
      "model_module_version": "1.5.0",
      "model_name": "ButtonStyleModel",
      "state": {}
     },
     "75addb8549ce496c90da0eef57997d98": {
      "model_module": "@jupyter-widgets/base",
      "model_module_version": "1.2.0",
      "model_name": "LayoutModel",
      "state": {
       "border": "solid 4px #222",
       "margin": "4px",
       "padding": "0"
      }
     },
     "75b64d3adf0a4a61a907fd911405d931": {
      "model_module": "@jupyter-widgets/base",
      "model_module_version": "1.2.0",
      "model_name": "LayoutModel",
      "state": {}
     },
     "765ebfb4ab3e42aa876b247fa59ccbc9": {
      "model_module": "@jupyter-widgets/controls",
      "model_module_version": "1.5.0",
      "model_name": "ButtonModel",
      "state": {
       "description": "Save Figure",
       "layout": "IPY_MODEL_6c8fb933948641f88674982d0d9f5705",
       "style": "IPY_MODEL_c90b612bad9c4302bf9296ede0df371e"
      }
     },
     "76c0328d1e82481583e315b35d1c5387": {
      "model_module": "@jupyter-widgets/base",
      "model_module_version": "1.2.0",
      "model_name": "LayoutModel",
      "state": {}
     },
     "76d7e28bb7cd4b128fd9fe5026391baf": {
      "model_module": "@jupyter-widgets/controls",
      "model_module_version": "1.5.0",
      "model_name": "HBoxModel",
      "state": {
       "children": [
        "IPY_MODEL_d36dcdea57b4482486efc728efeadcf6",
        "IPY_MODEL_09426052b37b435698a5a150c661cb86"
       ],
       "layout": "IPY_MODEL_31239e7cc58d47cea407c10691d9ce2b"
      }
     },
     "76f30b1658f14d688baccfeda6525d75": {
      "model_module": "@jupyter-widgets/base",
      "model_module_version": "1.2.0",
      "model_name": "LayoutModel",
      "state": {}
     },
     "77a61793c86e4d72a217322f22aabe63": {
      "model_module": "@jupyter-widgets/controls",
      "model_module_version": "1.5.0",
      "model_name": "HBoxModel",
      "state": {
       "children": [
        "IPY_MODEL_addfe1a13c42463894d542dcc8e33ba4",
        "IPY_MODEL_a560dba4c0cf425f9d16fd1e04cc4f59",
        "IPY_MODEL_8f5d11db81744eceb0ad837da07b15a2"
       ],
       "layout": "IPY_MODEL_b5049c2f8ce4463681ece8202f9d3d47"
      }
     },
     "77c1f45e12274c558402074f644bbaa1": {
      "model_module": "@jupyter-widgets/base",
      "model_module_version": "1.2.0",
      "model_name": "LayoutModel",
      "state": {}
     },
     "77cd4be6487940808dbe0fd0b4896d5e": {
      "model_module": "@jupyter-widgets/base",
      "model_module_version": "1.2.0",
      "model_name": "LayoutModel",
      "state": {}
     },
     "7833a88dee7842b795c5a3e7f7fa583b": {
      "model_module": "@jupyter-widgets/controls",
      "model_module_version": "1.5.0",
      "model_name": "FloatSliderModel",
      "state": {
       "description": "90°",
       "layout": "IPY_MODEL_2d81e3b525a84199b3c27930b4d5e42f",
       "max": 1,
       "min": -1,
       "step": 0.01,
       "style": "IPY_MODEL_e35c29124810453a8a053d99a93f650d"
      }
     },
     "7842c16911a248daadf650b36361fc10": {
      "model_module": "@jupyter-widgets/controls",
      "model_module_version": "1.5.0",
      "model_name": "ButtonStyleModel",
      "state": {}
     },
     "7857c618dc5f407d91cff71d5582b18b": {
      "model_module": "@jupyter-widgets/base",
      "model_module_version": "1.2.0",
      "model_name": "LayoutModel",
      "state": {}
     },
     "78a7ba767a934d0f94e534aefd2dde11": {
      "model_module": "@jupyter-widgets/controls",
      "model_module_version": "1.5.0",
      "model_name": "CheckboxModel",
      "state": {
       "description": "Disable Medicina",
       "disabled": false,
       "layout": "IPY_MODEL_be95fd3d5d864cfa9597f3d77710e0c6",
       "style": "IPY_MODEL_52251289a30e4c9c89a054a899a82d56",
       "value": false
      }
     },
     "78d7627d8f7f4eef81a82a3c736ce892": {
      "model_module": "@jupyter-widgets/controls",
      "model_module_version": "1.5.0",
      "model_name": "HBoxModel",
      "state": {
       "children": [
        "IPY_MODEL_3529cd44893049709a7d34e28ebbbeb2",
        "IPY_MODEL_3df09f269bfc465bad7aeab785d233bd",
        "IPY_MODEL_7519696df2f048059dba4a39bb8b1736"
       ],
       "layout": "IPY_MODEL_9e2438a3ac60405db7ae4f7df7d6e5a4"
      }
     },
     "78dc587cde4b4533b2f0af74981fd9c5": {
      "model_module": "@jupyter-widgets/controls",
      "model_module_version": "1.5.0",
      "model_name": "TabModel",
      "state": {
       "_titles": {
        "0": "Global Controls",
        "1": "Protected Area Controls",
        "2": "Saturation Controls",
        "3": "Hue Controls"
       },
       "children": [
        "IPY_MODEL_ea3a14ac9c3c419fb0094c27066c3326",
        "IPY_MODEL_36b2192828dd48809ecea7983d7af70d",
        "IPY_MODEL_b807760edec546098c11baa15d74daa8",
        "IPY_MODEL_0ddc67462e354582b044ea2f9dfd6dde"
       ],
       "layout": "IPY_MODEL_cb163b5288344042a91c9238a270229d"
      }
     },
     "790bc9d92a784b45862e439127ddccd5": {
      "model_module": "@jupyter-widgets/controls",
      "model_module_version": "1.5.0",
      "model_name": "ButtonModel",
      "state": {
       "description": "Reset Hue Controls",
       "layout": "IPY_MODEL_eb72b0ae82664f389e56a1fda0fc48c2",
       "style": "IPY_MODEL_5df241832ac4421f96e85a335984dfa1"
      }
     },
     "7921f120b72d4f3aa3e85f68703c82c4": {
      "model_module": "@jupyter-widgets/base",
      "model_module_version": "1.2.0",
      "model_name": "LayoutModel",
      "state": {}
     },
     "795a983dca8941e0b6762f9c201982ea": {
      "model_module": "@jupyter-widgets/controls",
      "model_module_version": "1.5.0",
      "model_name": "SliderStyleModel",
      "state": {
       "description_width": ""
      }
     },
     "795e67220d75492ab401fb88eca9dcb5": {
      "model_module": "@jupyter-widgets/base",
      "model_module_version": "1.2.0",
      "model_name": "LayoutModel",
      "state": {}
     },
     "7971d40148074d0aa51158a956e20b89": {
      "model_module": "@jupyter-widgets/output",
      "model_module_version": "1.0.0",
      "model_name": "OutputModel",
      "state": {
       "layout": "IPY_MODEL_75addb8549ce496c90da0eef57997d98",
       "outputs": [
        {
         "data": {
          "application/vnd.jupyter.widget-view+json": {
           "model_id": "3194625c66f24082b9eb4950518886f8",
           "version_major": 2,
           "version_minor": 0
          },
          "text/plain": "Canvas(toolbar=Toolbar(toolitems=[('Home', 'Reset original view', 'home', 'home'), ('Back', 'Back to previous …"
         },
         "metadata": {},
         "output_type": "display_data"
        }
       ]
      }
     },
     "799b8032b705479e95474c9a92132463": {
      "model_module": "@jupyter-widgets/base",
      "model_module_version": "1.2.0",
      "model_name": "LayoutModel",
      "state": {
       "border": "solid 4px #222",
       "margin": "4px",
       "padding": "0"
      }
     },
     "799bef0a773440148336b2ffa167a1a0": {
      "model_module": "@jupyter-widgets/base",
      "model_module_version": "1.2.0",
      "model_name": "LayoutModel",
      "state": {}
     },
     "79fea8ee604a4c9fa89e402191fdc081": {
      "model_module": "@jupyter-widgets/base",
      "model_module_version": "1.2.0",
      "model_name": "LayoutModel",
      "state": {
       "border": "solid 4px #222",
       "margin": "4px",
       "padding": "0"
      }
     },
     "7a085a38edfe4fb6a84d414b00d97e96": {
      "model_module": "@jupyter-widgets/controls",
      "model_module_version": "1.5.0",
      "model_name": "SliderStyleModel",
      "state": {
       "description_width": ""
      }
     },
     "7a813ad1fab04313a6bc3ff9f94c19b0": {
      "model_module": "@jupyter-widgets/controls",
      "model_module_version": "1.5.0",
      "model_name": "TabModel",
      "state": {
       "_titles": {
        "0": "Global Controls",
        "1": "Compression Controls"
       },
       "children": [
        "IPY_MODEL_04fa67f6f70447a0a0a82c7b253269f6",
        "IPY_MODEL_090c01be6bda481194b7bbc3870608ad"
       ],
       "layout": "IPY_MODEL_93c133bb1ff44c25bed45713c9713cf6"
      }
     },
     "7af868ce49a4424392f5806b682ab2c3": {
      "model_module": "@jupyter-widgets/base",
      "model_module_version": "1.2.0",
      "model_name": "LayoutModel",
      "state": {}
     },
     "7b45382e91a9426bb33ef918be32f439": {
      "model_module": "@jupyter-widgets/controls",
      "model_module_version": "1.5.0",
      "model_name": "HBoxModel",
      "state": {
       "children": [
        "IPY_MODEL_39bb511a4e7c4cc29dc62168b337b8a9",
        "IPY_MODEL_0621025b6238461a9bd336b8f66067fd"
       ],
       "layout": "IPY_MODEL_f399d237e7be484a95dee274b27ef5bd"
      }
     },
     "7b570df1f86c46ddb84c4dcfc8c54137": {
      "model_module": "@jupyter-widgets/controls",
      "model_module_version": "1.5.0",
      "model_name": "FloatSliderModel",
      "state": {
       "description": "90°",
       "layout": "IPY_MODEL_2c9407e35feb46ebb2da58d900f420bf",
       "max": 1,
       "min": -1,
       "step": 0.01,
       "style": "IPY_MODEL_15586745473040fca8021b8908cb2352"
      }
     },
     "7b612c59e14e4257be7424f9fc78b978": {
      "model_module": "jupyter-matplotlib",
      "model_module_version": "^0.7.2",
      "model_name": "MPLCanvasModel",
      "state": {
       "_figure_label": "Figure 11",
       "_height": 430,
       "_width": 1099,
       "header_visible": false,
       "layout": "IPY_MODEL_c5898fe6e1a74afd846392ed0a72390e",
       "resizable": false,
       "toolbar": "IPY_MODEL_7c0424333b4c4d5785c64f74afad6ac2",
       "toolbar_position": "left",
       "toolbar_visible": false
      }
     },
     "7ba750d029b74bd6a2b97c8b0549163d": {
      "model_module": "@jupyter-widgets/controls",
      "model_module_version": "1.5.0",
      "model_name": "ButtonModel",
      "state": {
       "description": "Reset Protected Area",
       "layout": "IPY_MODEL_e64a69bae62b49618502cf23d27877b4",
       "style": "IPY_MODEL_d1e4be9b0a4d4170a27555617217fd1c"
      }
     },
     "7bc8f8baa644419faadcc91657f8f618": {
      "model_module": "@jupyter-widgets/base",
      "model_module_version": "1.2.0",
      "model_name": "LayoutModel",
      "state": {}
     },
     "7c0424333b4c4d5785c64f74afad6ac2": {
      "model_module": "jupyter-matplotlib",
      "model_module_version": "^0.7.2",
      "model_name": "ToolbarModel",
      "state": {
       "layout": "IPY_MODEL_e371255fa25a436e986a64cb5ae4fe76",
       "toolitems": [
        [
         "Home",
         "Reset original view",
         "home",
         "home"
        ],
        [
         "Back",
         "Back to previous view",
         "arrow-left",
         "back"
        ],
        [
         "Forward",
         "Forward to next view",
         "arrow-right",
         "forward"
        ],
        [
         "Pan",
         "Pan axes with left mouse, zoom with right",
         "arrows",
         "pan"
        ],
        [
         "Zoom",
         "Zoom to rectangle",
         "square-o",
         "zoom"
        ],
        [
         "Download",
         "Download plot",
         "floppy-o",
         "save_figure"
        ]
       ]
      }
     },
     "7c4ca3addfc942b3ad6ff77c9c7ae51c": {
      "model_module": "@jupyter-widgets/base",
      "model_module_version": "1.2.0",
      "model_name": "LayoutModel",
      "state": {}
     },
     "7c58704fcf4a469c91b88535c31c4c65": {
      "model_module": "@jupyter-widgets/base",
      "model_module_version": "1.2.0",
      "model_name": "LayoutModel",
      "state": {
       "border": "solid 4px #222",
       "margin": "4px",
       "padding": "0"
      }
     },
     "7c9b4f47b0b349cc9d3d3a72ae8d41cb": {
      "model_module": "@jupyter-widgets/controls",
      "model_module_version": "1.5.0",
      "model_name": "FloatSliderModel",
      "state": {
       "description": "Protected Area Threshold",
       "layout": "IPY_MODEL_8178358b2e2e44de82c2852cb6998c4e",
       "max": 1,
       "step": 0.01,
       "style": "IPY_MODEL_e9cffa253e944d5f9c1ed89d97edceae",
       "value": 0.7
      }
     },
     "7cae882391c64d7a8094bcf31fccdf8e": {
      "model_module": "@jupyter-widgets/controls",
      "model_module_version": "1.5.0",
      "model_name": "FloatSliderModel",
      "state": {
       "description": "90°",
       "layout": "IPY_MODEL_9b8ae6d3c7564f7098c95d8f91d65e1c",
       "max": 1,
       "min": -1,
       "step": 0.01,
       "style": "IPY_MODEL_0c1b8385c23e4b03a7b378cb48344cef"
      }
     },
     "7d67cfff89ac4215b9db41c4153aea58": {
      "model_module": "@jupyter-widgets/controls",
      "model_module_version": "1.5.0",
      "model_name": "ButtonStyleModel",
      "state": {}
     },
     "7d9f092cf95d435ebafc96c090745428": {
      "model_module": "@jupyter-widgets/base",
      "model_module_version": "1.2.0",
      "model_name": "LayoutModel",
      "state": {}
     },
     "7e0ead09f3874402b36fa4e0528a5d82": {
      "model_module": "@jupyter-widgets/base",
      "model_module_version": "1.2.0",
      "model_name": "LayoutModel",
      "state": {}
     },
     "7e440ce4f83b4bf0ae83ed5c84a47aa1": {
      "model_module": "@jupyter-widgets/base",
      "model_module_version": "1.2.0",
      "model_name": "LayoutModel",
      "state": {}
     },
     "7eb55ffaa11e4545ada1aab187fd6d98": {
      "model_module": "@jupyter-widgets/controls",
      "model_module_version": "1.5.0",
      "model_name": "CheckboxModel",
      "state": {
       "description": "Disable Medicina",
       "disabled": false,
       "layout": "IPY_MODEL_57cf3fad065942ecb57dc0eaf0b6af27",
       "style": "IPY_MODEL_871c9fd49492448dbdd12d3d0ae88b94",
       "value": false
      }
     },
     "7ecd61eede4c4434b63b66b546d205ee": {
      "model_module": "@jupyter-widgets/controls",
      "model_module_version": "1.5.0",
      "model_name": "VBoxModel",
      "state": {
       "children": [
        "IPY_MODEL_7f45517fc39f437ba1e6d55b8f4a4b1c",
        "IPY_MODEL_c7d4b476c3a84bd7b87f7b66f58177e7"
       ],
       "layout": "IPY_MODEL_4e06c5c2cd3a4a60b624357bee95cc0f"
      }
     },
     "7f45517fc39f437ba1e6d55b8f4a4b1c": {
      "model_module": "@jupyter-widgets/controls",
      "model_module_version": "1.5.0",
      "model_name": "FloatSliderModel",
      "state": {
       "description": "270°",
       "layout": "IPY_MODEL_55c69e3c90304102942837c3b3404efe",
       "max": 1,
       "min": -1,
       "step": 0.01,
       "style": "IPY_MODEL_1d77ebc1a0824f14bf712aacbce7c607"
      }
     },
     "7f7af8cd5c9b4b2d90857cd7ec7c2833": {
      "model_module": "@jupyter-widgets/base",
      "model_module_version": "1.2.0",
      "model_name": "LayoutModel",
      "state": {
       "border": "solid 4px #222",
       "margin": "4px",
       "padding": "0"
      }
     },
     "7fc3cccda16d414f9acfd0ea4b293061": {
      "model_module": "@jupyter-widgets/controls",
      "model_module_version": "1.5.0",
      "model_name": "ButtonStyleModel",
      "state": {}
     },
     "801561e3d258466abaf4f09f0e6f08aa": {
      "model_module": "@jupyter-widgets/controls",
      "model_module_version": "1.5.0",
      "model_name": "ButtonStyleModel",
      "state": {}
     },
     "809a7d6a4e64418cac17822f12441c1a": {
      "model_module": "@jupyter-widgets/controls",
      "model_module_version": "1.5.0",
      "model_name": "TabModel",
      "state": {
       "_titles": {
        "0": "Global Controls",
        "1": "Protected Area Controls",
        "2": "Saturation Controls",
        "3": "Hue Controls"
       },
       "children": [
        "IPY_MODEL_6e5c242f8aa845ab9752f33aac43cbad",
        "IPY_MODEL_bd208c358d194694a3e277ffdd44877b",
        "IPY_MODEL_9a5810c9b7ae4a1b82b79dd95eb347a7",
        "IPY_MODEL_4f808515d9994a9caa554b4f0a41faac"
       ],
       "layout": "IPY_MODEL_d8b7f01033e84ec3b5634c1ad6ad3a5d"
      }
     },
     "80c8a36f36174c6e9d3adaeabce1b0e9": {
      "model_module": "@jupyter-widgets/controls",
      "model_module_version": "1.5.0",
      "model_name": "FloatSliderModel",
      "state": {
       "description": "135°",
       "layout": "IPY_MODEL_12eb1ceb011f43debd864bbc7ea4a992",
       "max": 1,
       "min": -1,
       "step": 0.01,
       "style": "IPY_MODEL_a70476c240e04a26bacf6bff852bd8c4"
      }
     },
     "8117767e5aea4f2ab1e09ae92c01643a": {
      "model_module": "@jupyter-widgets/base",
      "model_module_version": "1.2.0",
      "model_name": "LayoutModel",
      "state": {}
     },
     "8178358b2e2e44de82c2852cb6998c4e": {
      "model_module": "@jupyter-widgets/base",
      "model_module_version": "1.2.0",
      "model_name": "LayoutModel",
      "state": {}
     },
     "81a9f930880341f385df06682f8a346c": {
      "model_module": "jupyter-matplotlib",
      "model_module_version": "^0.7.2",
      "model_name": "MPLCanvasModel",
      "state": {
       "_figure_label": "Figure 6",
       "_height": 518,
       "_width": 1100,
       "header_visible": false,
       "layout": "IPY_MODEL_c75b6cfb81c348398d208087fe69246d",
       "resizable": false,
       "toolbar": "IPY_MODEL_426ca5c55d2843bf8836e4fb511c8ac4",
       "toolbar_position": "left",
       "toolbar_visible": false
      }
     },
     "81ac3867f78a4040947bc9149e367664": {
      "model_module": "@jupyter-widgets/base",
      "model_module_version": "1.2.0",
      "model_name": "LayoutModel",
      "state": {
       "border": "solid 4px #222",
       "margin": "4px",
       "padding": "0"
      }
     },
     "81b72b56bf1c479cbda0f3d553799875": {
      "model_module": "@jupyter-widgets/controls",
      "model_module_version": "1.5.0",
      "model_name": "ButtonModel",
      "state": {
       "description": "Reset Compression Controls",
       "layout": "IPY_MODEL_c589505771cb4678962782678c34d786",
       "style": "IPY_MODEL_cebd6175df55427e88d244d30d715b05"
      }
     },
     "81ce556e0b89466c89e28770b1b0022c": {
      "model_module": "@jupyter-widgets/base",
      "model_module_version": "1.2.0",
      "model_name": "LayoutModel",
      "state": {}
     },
     "81d636c1febe46348f7a7503c5c3ece9": {
      "model_module": "@jupyter-widgets/base",
      "model_module_version": "1.2.0",
      "model_name": "LayoutModel",
      "state": {}
     },
     "8211fb8485ca41b3a5f0f3618cf35030": {
      "model_module": "@jupyter-widgets/base",
      "model_module_version": "1.2.0",
      "model_name": "LayoutModel",
      "state": {}
     },
     "821458c04a6144eb92ebdf92bff36f77": {
      "model_module": "@jupyter-widgets/controls",
      "model_module_version": "1.5.0",
      "model_name": "FloatSliderModel",
      "state": {
       "description": "225°",
       "layout": "IPY_MODEL_450921b6869b4e85a8602eb814f9f403",
       "max": 1,
       "min": -1,
       "step": 0.01,
       "style": "IPY_MODEL_3782c28d2d764816995581a72a1f8cc8"
      }
     },
     "82ba2890c46f4d058da035ee55132104": {
      "model_module": "@jupyter-widgets/controls",
      "model_module_version": "1.5.0",
      "model_name": "HBoxModel",
      "state": {
       "children": [
        "IPY_MODEL_c050fb7959cc455aacc2b94ae42294ee",
        "IPY_MODEL_a1db7a774adc46d2a9b7f156e6f07f1f",
        "IPY_MODEL_c106632809b64d3fa2efdb2a1d44f265"
       ],
       "layout": "IPY_MODEL_b39ef913170747beb0d9b7bb897189f2"
      }
     },
     "830bda82ef0b4b81a1bd888625ca4f26": {
      "model_module": "@jupyter-widgets/controls",
      "model_module_version": "1.5.0",
      "model_name": "CheckboxModel",
      "state": {
       "description": "Disable Medicina",
       "disabled": false,
       "layout": "IPY_MODEL_d6f3ce75c4b3464ba923161f4759b0cf",
       "style": "IPY_MODEL_2978bd194c80426d9f92f1e122b340b3",
       "value": false
      }
     },
     "831ade1aba3a47c8bde33ff253ee440a": {
      "model_module": "jupyter-matplotlib",
      "model_module_version": "^0.7.2",
      "model_name": "MPLCanvasModel",
      "state": {
       "_figure_label": "Figure 3",
       "_height": 396,
       "_image_mode": "diff",
       "_width": 1100,
       "header_visible": false,
       "layout": "IPY_MODEL_09ea056f72914f4c843e5787d3b960ec",
       "resizable": false,
       "toolbar": "IPY_MODEL_2d213c3360724a0d85916975e404a846",
       "toolbar_position": "left",
       "toolbar_visible": false
      }
     },
     "8344e5023256473aaced599379a5c88b": {
      "model_module": "@jupyter-widgets/controls",
      "model_module_version": "1.5.0",
      "model_name": "SliderStyleModel",
      "state": {
       "description_width": ""
      }
     },
     "834cc446034e436fb4008cf91205dab1": {
      "model_module": "@jupyter-widgets/controls",
      "model_module_version": "1.5.0",
      "model_name": "VBoxModel",
      "state": {
       "children": [
        "IPY_MODEL_c715ac96f69c48e0bcd682477c1125b6",
        "IPY_MODEL_3929b3d5c34940edac66441095c6eaf4",
        "IPY_MODEL_da6f4c7cf8e24455abe08c6c21b425c6"
       ],
       "layout": "IPY_MODEL_435305831e5045ee900aa31e03591158"
      }
     },
     "835a1df04f5349e9acd9b7ea947ab928": {
      "model_module": "@jupyter-widgets/base",
      "model_module_version": "1.2.0",
      "model_name": "LayoutModel",
      "state": {}
     },
     "837d2db496234d2fa4cc633bf938432f": {
      "model_module": "@jupyter-widgets/base",
      "model_module_version": "1.2.0",
      "model_name": "LayoutModel",
      "state": {}
     },
     "845011a24b7d4ea995eabd9e9e2084a7": {
      "model_module": "@jupyter-widgets/base",
      "model_module_version": "1.2.0",
      "model_name": "LayoutModel",
      "state": {}
     },
     "8454f066dd9646a9a0484c37d8b59ff6": {
      "model_module": "@jupyter-widgets/output",
      "model_module_version": "1.0.0",
      "model_name": "OutputModel",
      "state": {
       "layout": "IPY_MODEL_2bc7a110a3d943f5940d98747dbaaf00",
       "outputs": [
        {
         "data": {
          "application/vnd.jupyter.widget-view+json": {
           "model_id": "14ef2b54392f45b3be6e3dfc0e0b9c36",
           "version_major": 2,
           "version_minor": 0
          },
          "text/plain": "Canvas(toolbar=Toolbar(toolitems=[('Home', 'Reset original view', 'home', 'home'), ('Back', 'Back to previous …"
         },
         "metadata": {},
         "output_type": "display_data"
        }
       ]
      }
     },
     "84a022d9078045e4ba175c00ed3d9764": {
      "model_module": "@jupyter-widgets/base",
      "model_module_version": "1.2.0",
      "model_name": "LayoutModel",
      "state": {}
     },
     "852839b13c7041859ea34ec9c68d552e": {
      "model_module": "@jupyter-widgets/controls",
      "model_module_version": "1.5.0",
      "model_name": "FloatSliderModel",
      "state": {
       "description": "225°",
       "layout": "IPY_MODEL_8a0aba3a018447339f613289307b4625",
       "max": 1,
       "min": -1,
       "step": 0.01,
       "style": "IPY_MODEL_5fb485fdbcb54800850e651b9681568d"
      }
     },
     "85f0837ff86e4e32a2bf358fde3335f4": {
      "model_module": "@jupyter-widgets/controls",
      "model_module_version": "1.5.0",
      "model_name": "VBoxModel",
      "state": {
       "children": [
        "IPY_MODEL_f34f61d8ff7b4e66b50f2806a0706690",
        "IPY_MODEL_a217081961be4560bbd3bdd859843af7",
        "IPY_MODEL_c42c7da3641446e884263dcd725ae110"
       ],
       "layout": "IPY_MODEL_aed8048471b9455d895588722bcb278e"
      }
     },
     "85fad6d2d6ff4d57b870d68f8af67f01": {
      "model_module": "jupyter-matplotlib",
      "model_module_version": "^0.7.2",
      "model_name": "MPLCanvasModel",
      "state": {
       "_figure_label": "Figure 17",
       "_height": 550,
       "_width": 1100,
       "header_visible": false,
       "layout": "IPY_MODEL_e1b9a9446f2345819c3d1ae0c7228c47",
       "resizable": false,
       "toolbar": "IPY_MODEL_99eb37545ec343b396b02e24f5970fcf",
       "toolbar_position": "left",
       "toolbar_visible": false
      }
     },
     "86000935e2324473b4f20d1bfecb307c": {
      "model_module": "@jupyter-widgets/controls",
      "model_module_version": "1.5.0",
      "model_name": "FloatSliderModel",
      "state": {
       "description": "135°",
       "layout": "IPY_MODEL_654dd9ba26ea4b08a316871774ba9f54",
       "max": 1,
       "min": -1,
       "step": 0.01,
       "style": "IPY_MODEL_b9cc8ca68d324ffa8ebe5b117cd2bb41"
      }
     },
     "8612a5c53fd34589b2514ab740a653ae": {
      "model_module": "@jupyter-widgets/base",
      "model_module_version": "1.2.0",
      "model_name": "LayoutModel",
      "state": {}
     },
     "863b50e2abd0401d8e8d9daeddd0d07c": {
      "model_module": "@jupyter-widgets/controls",
      "model_module_version": "1.5.0",
      "model_name": "FloatSliderModel",
      "state": {
       "description": "180°",
       "layout": "IPY_MODEL_c775b1cdf45a42f291e21a5594468a59",
       "max": 1,
       "min": -1,
       "step": 0.01,
       "style": "IPY_MODEL_0583ab96801c4c09a85972ffa6ecab50"
      }
     },
     "8660c6e10f7c4e9dab4315ceaa743fea": {
      "model_module": "@jupyter-widgets/controls",
      "model_module_version": "1.5.0",
      "model_name": "ButtonModel",
      "state": {
       "description": "Reset Hue Controls",
       "layout": "IPY_MODEL_1a7b47b43e2b48a8bf7eece54c0e4c00",
       "style": "IPY_MODEL_8e5546f6a1ff4d648176b1b060f5dc9d"
      }
     },
     "8667b6278ccc416bad02cc0a4836ac70": {
      "model_module": "@jupyter-widgets/controls",
      "model_module_version": "1.5.0",
      "model_name": "SliderStyleModel",
      "state": {
       "description_width": ""
      }
     },
     "86fe8bb84f8146399d2801a9afb2b0cd": {
      "model_module": "@jupyter-widgets/base",
      "model_module_version": "1.2.0",
      "model_name": "LayoutModel",
      "state": {}
     },
     "871c9fd49492448dbdd12d3d0ae88b94": {
      "model_module": "@jupyter-widgets/controls",
      "model_module_version": "1.5.0",
      "model_name": "DescriptionStyleModel",
      "state": {
       "description_width": ""
      }
     },
     "876f1cdbf66c4958a5e7241d42530cb4": {
      "model_module": "@jupyter-widgets/controls",
      "model_module_version": "1.5.0",
      "model_name": "HBoxModel",
      "state": {
       "children": [
        "IPY_MODEL_81b72b56bf1c479cbda0f3d553799875",
        "IPY_MODEL_b3afe26792844fb3bd4967e5bab6e8d8"
       ],
       "layout": "IPY_MODEL_b140f7e1978e482a93c7aa3578b5c10e"
      }
     },
     "87837c6768304342a66b5ed0eb2c56e3": {
      "model_module": "@jupyter-widgets/base",
      "model_module_version": "1.2.0",
      "model_name": "LayoutModel",
      "state": {
       "border": "solid 4px #222",
       "margin": "4px",
       "padding": "0"
      }
     },
     "8785aefdec4144ff9117e12561f471fd": {
      "model_module": "@jupyter-widgets/base",
      "model_module_version": "1.2.0",
      "model_name": "LayoutModel",
      "state": {
       "border": "solid 4px #222",
       "margin": "4px",
       "padding": "0"
      }
     },
     "879052c00c974e629f84dfeaa76a0e83": {
      "model_module": "@jupyter-widgets/controls",
      "model_module_version": "1.5.0",
      "model_name": "SliderStyleModel",
      "state": {
       "description_width": ""
      }
     },
     "87d759768654451fa010327fd4409601": {
      "model_module": "@jupyter-widgets/controls",
      "model_module_version": "1.5.0",
      "model_name": "SliderStyleModel",
      "state": {
       "description_width": ""
      }
     },
     "8895e77888304d6faa2e9521bd62931a": {
      "model_module": "@jupyter-widgets/base",
      "model_module_version": "1.2.0",
      "model_name": "LayoutModel",
      "state": {}
     },
     "889c2bd9b1d84dda8e31bf1ca965f64c": {
      "model_module": "@jupyter-widgets/controls",
      "model_module_version": "1.5.0",
      "model_name": "FloatSliderModel",
      "state": {
       "description": "135°",
       "layout": "IPY_MODEL_f0cfd8e18f8c4e65940b670cbd0291fe",
       "max": 1,
       "min": -1,
       "step": 0.01,
       "style": "IPY_MODEL_87d759768654451fa010327fd4409601"
      }
     },
     "88aba5fe15924fb18402679768746430": {
      "model_module": "@jupyter-widgets/output",
      "model_module_version": "1.0.0",
      "model_name": "OutputModel",
      "state": {
       "layout": "IPY_MODEL_79fea8ee604a4c9fa89e402191fdc081",
       "outputs": [
        {
         "data": {
          "application/vnd.jupyter.widget-view+json": {
           "model_id": "9949e8bcdaf14b7097b741212144538e",
           "version_major": 2,
           "version_minor": 0
          },
          "text/plain": "Canvas(toolbar=Toolbar(toolitems=[('Home', 'Reset original view', 'home', 'home'), ('Back', 'Back to previous …"
         },
         "metadata": {},
         "output_type": "display_data"
        }
       ]
      }
     },
     "88c37f180f404539ae1aa96365114022": {
      "model_module": "@jupyter-widgets/base",
      "model_module_version": "1.2.0",
      "model_name": "LayoutModel",
      "state": {}
     },
     "88f5621d9f8f467e821582ad6d546e76": {
      "model_module": "@jupyter-widgets/base",
      "model_module_version": "1.2.0",
      "model_name": "LayoutModel",
      "state": {
       "border": "solid 4px #222",
       "margin": "4px",
       "padding": "0"
      }
     },
     "8988194ee8cb497f81a70dd14b93e73e": {
      "model_module": "@jupyter-widgets/controls",
      "model_module_version": "1.5.0",
      "model_name": "FloatSliderModel",
      "state": {
       "description": "0°",
       "layout": "IPY_MODEL_c3fc00b3389a4391a7a709b4e106fcb9",
       "max": 1,
       "min": -1,
       "step": 0.01,
       "style": "IPY_MODEL_4a9133090b1f4cce9d07ad72a20f0def"
      }
     },
     "899b9cb476fc4860ab4ca8fe08889014": {
      "model_module": "@jupyter-widgets/base",
      "model_module_version": "1.2.0",
      "model_name": "LayoutModel",
      "state": {}
     },
     "8a0aba3a018447339f613289307b4625": {
      "model_module": "@jupyter-widgets/base",
      "model_module_version": "1.2.0",
      "model_name": "LayoutModel",
      "state": {}
     },
     "8aa0bcba87e748dea113d092775a2834": {
      "model_module": "@jupyter-widgets/base",
      "model_module_version": "1.2.0",
      "model_name": "LayoutModel",
      "state": {
       "align_items": "stretch",
       "display": "flex",
       "flex_flow": "column",
       "width": "1128px"
      }
     },
     "8b525fa55a80405a9ef284285d1e48ae": {
      "model_module": "@jupyter-widgets/base",
      "model_module_version": "1.2.0",
      "model_name": "LayoutModel",
      "state": {}
     },
     "8b597e20c0994863b81f47864d36fedb": {
      "model_module": "@jupyter-widgets/base",
      "model_module_version": "1.2.0",
      "model_name": "LayoutModel",
      "state": {}
     },
     "8bc8d5ce826a47a88f78a02f2d89e754": {
      "model_module": "@jupyter-widgets/controls",
      "model_module_version": "1.5.0",
      "model_name": "FloatSliderModel",
      "state": {
       "description": "90°",
       "layout": "IPY_MODEL_2e9d4c2b5d68401e8f368023b8a65c0b",
       "max": 1,
       "min": -1,
       "step": 0.01,
       "style": "IPY_MODEL_db080703ac624be5862534312ae9ca09"
      }
     },
     "8bff30ffc17246bb89ab38b3d85282dd": {
      "model_module": "@jupyter-widgets/base",
      "model_module_version": "1.2.0",
      "model_name": "LayoutModel",
      "state": {}
     },
     "8c102d30bf054bb8a20d4b5d029b5969": {
      "model_module": "jupyter-matplotlib",
      "model_module_version": "^0.7.2",
      "model_name": "MPLCanvasModel",
      "state": {
       "_figure_label": "Figure 5",
       "_height": 518,
       "_width": 1100,
       "header_visible": false,
       "layout": "IPY_MODEL_1940245f3d974372adabe52eeb91244d",
       "resizable": false,
       "toolbar": "IPY_MODEL_b6029f82310341af824942d03e75e427",
       "toolbar_position": "left",
       "toolbar_visible": false
      }
     },
     "8c4ddac42ce6483e88e75c8435158d31": {
      "model_module": "@jupyter-widgets/controls",
      "model_module_version": "1.5.0",
      "model_name": "VBoxModel",
      "state": {
       "children": [
        "IPY_MODEL_9a86dc82d3194b6dacaab1fe4b3e30e7",
        "IPY_MODEL_5032e62478724a77bf29d9552987d441",
        "IPY_MODEL_8bc8d5ce826a47a88f78a02f2d89e754"
       ],
       "layout": "IPY_MODEL_114454198ba74d91b6dd98cbadebe371"
      }
     },
     "8c50f98258a647688d89618a94e34d0a": {
      "model_module": "@jupyter-widgets/controls",
      "model_module_version": "1.5.0",
      "model_name": "FloatSliderModel",
      "state": {
       "description": "Protected Area Threshold",
       "layout": "IPY_MODEL_48be2e5e3e254d72b69d6255b54a5979",
       "max": 1,
       "step": 0.01,
       "style": "IPY_MODEL_0ed6215696a1435c93c883886550154d",
       "value": 0.7
      }
     },
     "8c75b32372e04d48bc65b7f9bce5b7a8": {
      "model_module": "@jupyter-widgets/base",
      "model_module_version": "1.2.0",
      "model_name": "LayoutModel",
      "state": {
       "border": "solid 4px #222",
       "margin": "4px",
       "padding": "0"
      }
     },
     "8c79da43f50f4265b81ec653d3d9d600": {
      "model_module": "@jupyter-widgets/controls",
      "model_module_version": "1.5.0",
      "model_name": "SliderStyleModel",
      "state": {
       "description_width": ""
      }
     },
     "8d33b5321aac4aab8582d0d861aa5221": {
      "model_module": "@jupyter-widgets/base",
      "model_module_version": "1.2.0",
      "model_name": "LayoutModel",
      "state": {}
     },
     "8d83dce4f1b04bf49f853a08d0e2fbfe": {
      "model_module": "@jupyter-widgets/base",
      "model_module_version": "1.2.0",
      "model_name": "LayoutModel",
      "state": {}
     },
     "8d8eef988970443887344d41f98387cb": {
      "model_module": "@jupyter-widgets/base",
      "model_module_version": "1.2.0",
      "model_name": "LayoutModel",
      "state": {}
     },
     "8de702a4862945dc9a03813d9024e366": {
      "model_module": "@jupyter-widgets/base",
      "model_module_version": "1.2.0",
      "model_name": "LayoutModel",
      "state": {}
     },
     "8e3a56bf26d444948dd04fa2ffcd79f0": {
      "model_module": "@jupyter-widgets/base",
      "model_module_version": "1.2.0",
      "model_name": "LayoutModel",
      "state": {}
     },
     "8e5293d94862478c813d549603bcef36": {
      "model_module": "@jupyter-widgets/controls",
      "model_module_version": "1.5.0",
      "model_name": "SliderStyleModel",
      "state": {
       "description_width": ""
      }
     },
     "8e5546f6a1ff4d648176b1b060f5dc9d": {
      "model_module": "@jupyter-widgets/controls",
      "model_module_version": "1.5.0",
      "model_name": "ButtonStyleModel",
      "state": {}
     },
     "8e599b28ba8c45c88003a38cf57b1f33": {
      "model_module": "@jupyter-widgets/base",
      "model_module_version": "1.2.0",
      "model_name": "LayoutModel",
      "state": {}
     },
     "8e930e2592834e548d09195c1edf2d62": {
      "model_module": "@jupyter-widgets/base",
      "model_module_version": "1.2.0",
      "model_name": "LayoutModel",
      "state": {}
     },
     "8f35153a1c084fdcb5a546393def4cf2": {
      "model_module": "@jupyter-widgets/base",
      "model_module_version": "1.2.0",
      "model_name": "LayoutModel",
      "state": {}
     },
     "8f5d11db81744eceb0ad837da07b15a2": {
      "model_module": "@jupyter-widgets/controls",
      "model_module_version": "1.5.0",
      "model_name": "ButtonModel",
      "state": {
       "description": "Save Figure",
       "layout": "IPY_MODEL_bbfcfb4072f242048bf6ba2790bd9680",
       "style": "IPY_MODEL_801561e3d258466abaf4f09f0e6f08aa"
      }
     },
     "8f844391cc7f4f8fb89434d9970c0cfa": {
      "model_module": "@jupyter-widgets/base",
      "model_module_version": "1.2.0",
      "model_name": "LayoutModel",
      "state": {}
     },
     "8fe0f1b0e77548dd9cbb4f157982db86": {
      "model_module": "@jupyter-widgets/controls",
      "model_module_version": "1.5.0",
      "model_name": "ButtonStyleModel",
      "state": {}
     },
     "8ff123280c9442b98560c9c98b3ff740": {
      "model_module": "@jupyter-widgets/base",
      "model_module_version": "1.2.0",
      "model_name": "LayoutModel",
      "state": {}
     },
     "90829574f8bd470b8ae3343a07caf34d": {
      "model_module": "@jupyter-widgets/controls",
      "model_module_version": "1.5.0",
      "model_name": "HBoxModel",
      "state": {
       "children": [
        "IPY_MODEL_f981574f0f86471fa85c934031830f13",
        "IPY_MODEL_8c50f98258a647688d89618a94e34d0a"
       ],
       "layout": "IPY_MODEL_d231e09937894eb6b62ef9939b888cf7"
      }
     },
     "90ab142f22fc4a0987246400f1c9c4bc": {
      "model_module": "@jupyter-widgets/base",
      "model_module_version": "1.2.0",
      "model_name": "LayoutModel",
      "state": {}
     },
     "90b3a34a12524cbca59929895274d846": {
      "model_module": "@jupyter-widgets/base",
      "model_module_version": "1.2.0",
      "model_name": "LayoutModel",
      "state": {}
     },
     "90e041c0ce924584a6da8a7c4726c2ad": {
      "model_module": "@jupyter-widgets/base",
      "model_module_version": "1.2.0",
      "model_name": "LayoutModel",
      "state": {}
     },
     "91153b78bf824dddb0e41417a788c814": {
      "model_module": "@jupyter-widgets/base",
      "model_module_version": "1.2.0",
      "model_name": "LayoutModel",
      "state": {}
     },
     "91264d471cfe4350b9d1c4a4c71febfc": {
      "model_module": "@jupyter-widgets/base",
      "model_module_version": "1.2.0",
      "model_name": "LayoutModel",
      "state": {}
     },
     "914b5ebd3e3a419aa6d4e1da48afaa68": {
      "model_module": "@jupyter-widgets/controls",
      "model_module_version": "1.5.0",
      "model_name": "ButtonStyleModel",
      "state": {}
     },
     "91906fec49ed4455abc6fea7028a1f93": {
      "model_module": "@jupyter-widgets/base",
      "model_module_version": "1.2.0",
      "model_name": "LayoutModel",
      "state": {}
     },
     "91bdadba9c414c2ba9edad006e6e747b": {
      "model_module": "@jupyter-widgets/controls",
      "model_module_version": "1.5.0",
      "model_name": "FloatSliderModel",
      "state": {
       "description": "315°",
       "layout": "IPY_MODEL_8de702a4862945dc9a03813d9024e366",
       "max": 1,
       "min": -1,
       "step": 0.01,
       "style": "IPY_MODEL_c70d02dd96d84419a3174b00c412cb51"
      }
     },
     "91cbccc49e3b49a68f0fd3c1e1b8f516": {
      "model_module": "@jupyter-widgets/base",
      "model_module_version": "1.2.0",
      "model_name": "LayoutModel",
      "state": {
       "border": "solid 4px #222",
       "margin": "4px",
       "padding": "0"
      }
     },
     "91d5ab18341c4477830dd952a1be9278": {
      "model_module": "@jupyter-widgets/controls",
      "model_module_version": "1.5.0",
      "model_name": "ButtonModel",
      "state": {
       "description": "Reset Hue Controls",
       "layout": "IPY_MODEL_eecce4f0eafe43149e9ee9433b39eadf",
       "style": "IPY_MODEL_010cf3ae0f0c4e548c4623f8d661e68b"
      }
     },
     "923dd0bb40ca441393ae82400d72c65f": {
      "model_module": "@jupyter-widgets/controls",
      "model_module_version": "1.5.0",
      "model_name": "TabModel",
      "state": {
       "_titles": {
        "0": "Global Controls",
        "1": "Protected Area Controls",
        "2": "Saturation Controls",
        "3": "Hue Controls"
       },
       "children": [
        "IPY_MODEL_048f4e32c86a4ae481e58ae3576bef04",
        "IPY_MODEL_f7f7a06cd5c44734bc3e87fbdc539dcc",
        "IPY_MODEL_fc701c8a15f344548aeee41352dc9332",
        "IPY_MODEL_6b63cd0affa04354a44270389f29ee35"
       ],
       "layout": "IPY_MODEL_8c75b32372e04d48bc65b7f9bce5b7a8"
      }
     },
     "92f8928e534c42b28b43a46c905e0cce": {
      "model_module": "@jupyter-widgets/output",
      "model_module_version": "1.0.0",
      "model_name": "OutputModel",
      "state": {
       "layout": "IPY_MODEL_5ed884b2a53a41598e482996a99b36bd",
       "outputs": [
        {
         "data": {
          "application/vnd.jupyter.widget-view+json": {
           "model_id": "85fad6d2d6ff4d57b870d68f8af67f01",
           "version_major": 2,
           "version_minor": 0
          },
          "text/plain": "Canvas(toolbar=Toolbar(toolitems=[('Home', 'Reset original view', 'home', 'home'), ('Back', 'Back to previous …"
         },
         "metadata": {},
         "output_type": "display_data"
        }
       ]
      }
     },
     "937c7d37ee4d4fcf9512047a893488da": {
      "model_module": "@jupyter-widgets/controls",
      "model_module_version": "1.5.0",
      "model_name": "BoxModel",
      "state": {
       "children": [
        "IPY_MODEL_05a5b0e21e9247e2b08fb3cceb67ddfb",
        "IPY_MODEL_5608bcd104714c1a951d135819718413"
       ],
       "layout": "IPY_MODEL_cfd2dee3f360470fa2636cdfd416a752"
      }
     },
     "939ff024c50041b08fe3a6ca30adea1a": {
      "model_module": "@jupyter-widgets/controls",
      "model_module_version": "1.5.0",
      "model_name": "SliderStyleModel",
      "state": {
       "description_width": ""
      }
     },
     "93c133bb1ff44c25bed45713c9713cf6": {
      "model_module": "@jupyter-widgets/base",
      "model_module_version": "1.2.0",
      "model_name": "LayoutModel",
      "state": {
       "border": "solid 4px #222",
       "margin": "4px",
       "padding": "0"
      }
     },
     "93cc17a15b4f412ea620f4dca07406b1": {
      "model_module": "@jupyter-widgets/controls",
      "model_module_version": "1.5.0",
      "model_name": "ButtonModel",
      "state": {
       "description": "Save Figure",
       "layout": "IPY_MODEL_cf8d125259e84ca69a3dcf038b4efb3a",
       "style": "IPY_MODEL_27b4245a7c334126ba0a0b3ac45ced70"
      }
     },
     "9448f8ebaa474d5dba113d283f38b0e7": {
      "model_module": "@jupyter-widgets/base",
      "model_module_version": "1.2.0",
      "model_name": "LayoutModel",
      "state": {}
     },
     "9464cbee296245d69b9a0bb512ed78d9": {
      "model_module": "@jupyter-widgets/controls",
      "model_module_version": "1.5.0",
      "model_name": "ButtonModel",
      "state": {
       "description": "Reset Saturation Controls",
       "layout": "IPY_MODEL_72ad4accfbda490dbff1604fd4247cc2",
       "style": "IPY_MODEL_c67a1413c01c4d628e185021db53be8d"
      }
     },
     "94ec8b3cc279432aa2da15e3756197ae": {
      "model_module": "@jupyter-widgets/controls",
      "model_module_version": "1.5.0",
      "model_name": "FloatSliderModel",
      "state": {
       "description": "Protected Area Threshold",
       "layout": "IPY_MODEL_c492619f266941f69247c75e230c425d",
       "max": 1,
       "step": 0.01,
       "style": "IPY_MODEL_6bd7e14ef44f4f8caa7d088821dfbfa6",
       "value": 0.7
      }
     },
     "950b820b35b24232ae3e0b02dc5ee9aa": {
      "model_module": "@jupyter-widgets/base",
      "model_module_version": "1.2.0",
      "model_name": "LayoutModel",
      "state": {}
     },
     "953358f0e5204edeb6573a36adc00d92": {
      "model_module": "@jupyter-widgets/base",
      "model_module_version": "1.2.0",
      "model_name": "LayoutModel",
      "state": {}
     },
     "954daf1377584cb4a055802ed330d09c": {
      "model_module": "@jupyter-widgets/base",
      "model_module_version": "1.2.0",
      "model_name": "LayoutModel",
      "state": {
       "align_items": "stretch",
       "display": "flex",
       "flex_flow": "column",
       "width": "1128px"
      }
     },
     "9569369c3cb345e6813a0f4fd7b44c00": {
      "model_module": "@jupyter-widgets/base",
      "model_module_version": "1.2.0",
      "model_name": "LayoutModel",
      "state": {}
     },
     "95ff2383672a4e7b8a448859cfc0b376": {
      "model_module": "@jupyter-widgets/base",
      "model_module_version": "1.2.0",
      "model_name": "LayoutModel",
      "state": {}
     },
     "966fb58260b74bb2bd4fcd08f7f4af99": {
      "model_module": "@jupyter-widgets/base",
      "model_module_version": "1.2.0",
      "model_name": "LayoutModel",
      "state": {}
     },
     "96860b8be4f144b382d3a728b8d977cb": {
      "model_module": "@jupyter-widgets/base",
      "model_module_version": "1.2.0",
      "model_name": "LayoutModel",
      "state": {}
     },
     "969c0172944e43f38151093ce5a7e583": {
      "model_module": "@jupyter-widgets/base",
      "model_module_version": "1.2.0",
      "model_name": "LayoutModel",
      "state": {
       "border": "solid 4px #222",
       "margin": "4px",
       "padding": "0"
      }
     },
     "96a90fbe0e0a4feba2951db15f4b2f12": {
      "model_module": "@jupyter-widgets/output",
      "model_module_version": "1.0.0",
      "model_name": "OutputModel",
      "state": {
       "layout": "IPY_MODEL_13e5dc71791f47fba8c10b324f4f57ab",
       "outputs": [
        {
         "data": {
          "application/vnd.jupyter.widget-view+json": {
           "model_id": "4a26f00b4d914e669b8529547f379acf",
           "version_major": 2,
           "version_minor": 0
          },
          "text/plain": "Canvas(toolbar=Toolbar(toolitems=[('Home', 'Reset original view', 'home', 'home'), ('Back', 'Back to previous …"
         },
         "metadata": {},
         "output_type": "display_data"
        }
       ]
      }
     },
     "96b6ea0e56b14f218db000151704d373": {
      "model_module": "@jupyter-widgets/controls",
      "model_module_version": "1.5.0",
      "model_name": "FloatSliderModel",
      "state": {
       "description": "45°",
       "layout": "IPY_MODEL_86fe8bb84f8146399d2801a9afb2b0cd",
       "max": 1,
       "min": -1,
       "step": 0.01,
       "style": "IPY_MODEL_bd6992dd012a4edda2c1b09bd072aecc"
      }
     },
     "96c7b2e6e7f8467eabd1dad90d17258a": {
      "model_module": "@jupyter-widgets/controls",
      "model_module_version": "1.5.0",
      "model_name": "SliderStyleModel",
      "state": {
       "description_width": ""
      }
     },
     "975607ff5cf04ad898a8e98fa6ac90de": {
      "model_module": "@jupyter-widgets/controls",
      "model_module_version": "1.5.0",
      "model_name": "SliderStyleModel",
      "state": {
       "description_width": ""
      }
     },
     "9898b2ca5794448da1dfcd43e7270317": {
      "model_module": "@jupyter-widgets/controls",
      "model_module_version": "1.5.0",
      "model_name": "HBoxModel",
      "state": {
       "children": [
        "IPY_MODEL_5cb79f54b592404d847ec32b477f4739",
        "IPY_MODEL_d6bb7b8047c94280b2e06bbf2fdd57cb"
       ],
       "layout": "IPY_MODEL_9cf8209d307f4d8fad8be863ade71d08"
      }
     },
     "98a1a5c9c1194625867a1c0c6f521219": {
      "model_module": "@jupyter-widgets/controls",
      "model_module_version": "1.5.0",
      "model_name": "SliderStyleModel",
      "state": {
       "description_width": ""
      }
     },
     "98a5bee96e9f4264928117f5fa80acb8": {
      "model_module": "@jupyter-widgets/base",
      "model_module_version": "1.2.0",
      "model_name": "LayoutModel",
      "state": {}
     },
     "991fb7d19b2a4096b67bf619310ddac1": {
      "model_module": "@jupyter-widgets/controls",
      "model_module_version": "1.5.0",
      "model_name": "ButtonStyleModel",
      "state": {}
     },
     "9927df35afbe4586b0a6b79fd8d5ae2a": {
      "model_module": "@jupyter-widgets/base",
      "model_module_version": "1.2.0",
      "model_name": "LayoutModel",
      "state": {}
     },
     "9949e8bcdaf14b7097b741212144538e": {
      "model_module": "jupyter-matplotlib",
      "model_module_version": "^0.7.2",
      "model_name": "MPLCanvasModel",
      "state": {
       "_figure_label": "Figure 14",
       "_height": 430,
       "_width": 1099,
       "header_visible": false,
       "layout": "IPY_MODEL_cea4c5c011374f7cad1439582c494668",
       "resizable": false,
       "toolbar": "IPY_MODEL_a5d1dcba66d6474d9a87a537c532d38a",
       "toolbar_position": "left",
       "toolbar_visible": false
      }
     },
     "9984ff95f7734eca9c37286852fce77f": {
      "model_module": "@jupyter-widgets/controls",
      "model_module_version": "1.5.0",
      "model_name": "ButtonStyleModel",
      "state": {}
     },
     "99e558d8010e458786da3ac2019060d9": {
      "model_module": "@jupyter-widgets/base",
      "model_module_version": "1.2.0",
      "model_name": "LayoutModel",
      "state": {}
     },
     "99eb37545ec343b396b02e24f5970fcf": {
      "model_module": "jupyter-matplotlib",
      "model_module_version": "^0.7.2",
      "model_name": "ToolbarModel",
      "state": {
       "layout": "IPY_MODEL_60072d0fb3904a9c97ef58285c6a556f",
       "toolitems": [
        [
         "Home",
         "Reset original view",
         "home",
         "home"
        ],
        [
         "Back",
         "Back to previous view",
         "arrow-left",
         "back"
        ],
        [
         "Forward",
         "Forward to next view",
         "arrow-right",
         "forward"
        ],
        [
         "Pan",
         "Pan axes with left mouse, zoom with right",
         "arrows",
         "pan"
        ],
        [
         "Zoom",
         "Zoom to rectangle",
         "square-o",
         "zoom"
        ],
        [
         "Download",
         "Download plot",
         "floppy-o",
         "save_figure"
        ]
       ]
      }
     },
     "9a46e134b85e4c779f47e1036a0fd4e4": {
      "model_module": "@jupyter-widgets/controls",
      "model_module_version": "1.5.0",
      "model_name": "HBoxModel",
      "state": {
       "children": [
        "IPY_MODEL_1be6060a014d41ddb9a9be17e45ba6bb",
        "IPY_MODEL_4c38feea5b2c4a25a1c5d53a1979ac8f",
        "IPY_MODEL_c40973f6cd694fd9ab1508d4e087b4e8",
        "IPY_MODEL_1afdafc762794a3694d6f38ab00533e0"
       ],
       "layout": "IPY_MODEL_84a022d9078045e4ba175c00ed3d9764"
      }
     },
     "9a5810c9b7ae4a1b82b79dd95eb347a7": {
      "model_module": "@jupyter-widgets/controls",
      "model_module_version": "1.5.0",
      "model_name": "HBoxModel",
      "state": {
       "children": [
        "IPY_MODEL_0289b5edab794be5831f3efbe294eb1f",
        "IPY_MODEL_e43fd336808d4f28844b3cd25555611f"
       ],
       "layout": "IPY_MODEL_e1c56aa260734a0897195540d19c1ccc"
      }
     },
     "9a86dc82d3194b6dacaab1fe4b3e30e7": {
      "model_module": "@jupyter-widgets/controls",
      "model_module_version": "1.5.0",
      "model_name": "FloatSliderModel",
      "state": {
       "description": "0°",
       "layout": "IPY_MODEL_1c26a03ef681419f9355a6172ce25314",
       "max": 1,
       "min": -1,
       "step": 0.01,
       "style": "IPY_MODEL_43545459820949078350bd1652105f64"
      }
     },
     "9aaadbbe592d400aa46c94877694a227": {
      "model_module": "@jupyter-widgets/base",
      "model_module_version": "1.2.0",
      "model_name": "LayoutModel",
      "state": {}
     },
     "9aca7e233e624b92bf0aa030a81c17c0": {
      "model_module": "@jupyter-widgets/base",
      "model_module_version": "1.2.0",
      "model_name": "LayoutModel",
      "state": {}
     },
     "9b628861470d480ca52adea45c0f8bcf": {
      "model_module": "@jupyter-widgets/controls",
      "model_module_version": "1.5.0",
      "model_name": "SliderStyleModel",
      "state": {
       "description_width": ""
      }
     },
     "9b8ae6d3c7564f7098c95d8f91d65e1c": {
      "model_module": "@jupyter-widgets/base",
      "model_module_version": "1.2.0",
      "model_name": "LayoutModel",
      "state": {}
     },
     "9ba5d4e6268549c5bc18f1be51cfbbae": {
      "model_module": "@jupyter-widgets/base",
      "model_module_version": "1.2.0",
      "model_name": "LayoutModel",
      "state": {}
     },
     "9c067c34f3654b1e96e5fa64d28f86fb": {
      "model_module": "@jupyter-widgets/base",
      "model_module_version": "1.2.0",
      "model_name": "LayoutModel",
      "state": {}
     },
     "9c1da0755f5c4f17a6bb38ec48de4703": {
      "model_module": "@jupyter-widgets/base",
      "model_module_version": "1.2.0",
      "model_name": "LayoutModel",
      "state": {}
     },
     "9c9c0b79bdb94235bd23bfea34b66a26": {
      "model_module": "@jupyter-widgets/base",
      "model_module_version": "1.2.0",
      "model_name": "LayoutModel",
      "state": {}
     },
     "9cf8209d307f4d8fad8be863ade71d08": {
      "model_module": "@jupyter-widgets/base",
      "model_module_version": "1.2.0",
      "model_name": "LayoutModel",
      "state": {}
     },
     "9da31406479a453fac16acc1b59cf823": {
      "model_module": "@jupyter-widgets/controls",
      "model_module_version": "1.5.0",
      "model_name": "FloatSliderModel",
      "state": {
       "description": "Protected Area Threshold",
       "layout": "IPY_MODEL_5861b904d077453ebe0fb9a7f064ac8d",
       "max": 1,
       "step": 0.01,
       "style": "IPY_MODEL_9b628861470d480ca52adea45c0f8bcf",
       "value": 0.5
      }
     },
     "9dc5e7ac141d4dada6b9e049b4209e92": {
      "model_module": "@jupyter-widgets/controls",
      "model_module_version": "1.5.0",
      "model_name": "SliderStyleModel",
      "state": {
       "description_width": ""
      }
     },
     "9e23f1919c9a4010857aaae4620ff633": {
      "model_module": "@jupyter-widgets/controls",
      "model_module_version": "1.5.0",
      "model_name": "ButtonModel",
      "state": {
       "description": "Save Figure",
       "layout": "IPY_MODEL_6e53e5e341b143778afc44fd8ac5c6a3",
       "style": "IPY_MODEL_e0f91980fa7144f789bd2cb499f08e46"
      }
     },
     "9e2438a3ac60405db7ae4f7df7d6e5a4": {
      "model_module": "@jupyter-widgets/base",
      "model_module_version": "1.2.0",
      "model_name": "LayoutModel",
      "state": {}
     },
     "9e4e48c5e1104420bb45112762487da3": {
      "model_module": "@jupyter-widgets/base",
      "model_module_version": "1.2.0",
      "model_name": "LayoutModel",
      "state": {}
     },
     "9e67845e8d4c4e6599ef4479cdf6e3a4": {
      "model_module": "@jupyter-widgets/base",
      "model_module_version": "1.2.0",
      "model_name": "LayoutModel",
      "state": {}
     },
     "9e85f087dce64767858bdb32a3c085c0": {
      "model_module": "@jupyter-widgets/controls",
      "model_module_version": "1.5.0",
      "model_name": "SliderStyleModel",
      "state": {
       "description_width": ""
      }
     },
     "9e9b1adc30b34f6aadfd603ba1b531e3": {
      "model_module": "@jupyter-widgets/base",
      "model_module_version": "1.2.0",
      "model_name": "LayoutModel",
      "state": {}
     },
     "9ea6f65cb8d74679af4e35075546b13c": {
      "model_module": "@jupyter-widgets/base",
      "model_module_version": "1.2.0",
      "model_name": "LayoutModel",
      "state": {
       "border": "solid 4px #222",
       "margin": "4px",
       "padding": "0"
      }
     },
     "9f1debd673a046ad9ba0b0c760000594": {
      "model_module": "@jupyter-widgets/base",
      "model_module_version": "1.2.0",
      "model_name": "LayoutModel",
      "state": {}
     },
     "9f304567dba349faad05804d31b8d62a": {
      "model_module": "@jupyter-widgets/base",
      "model_module_version": "1.2.0",
      "model_name": "LayoutModel",
      "state": {}
     },
     "9f4a6d1ddad2431eab90322ac5a9aac2": {
      "model_module": "@jupyter-widgets/base",
      "model_module_version": "1.2.0",
      "model_name": "LayoutModel",
      "state": {}
     },
     "9f68808553454f5d8d0969ea5e740ae9": {
      "model_module": "@jupyter-widgets/controls",
      "model_module_version": "1.5.0",
      "model_name": "SliderStyleModel",
      "state": {
       "description_width": ""
      }
     },
     "9f75c367fd774199a59c62ce75efb575": {
      "model_module": "@jupyter-widgets/controls",
      "model_module_version": "1.5.0",
      "model_name": "CheckboxModel",
      "state": {
       "description": "Disable Medicina",
       "disabled": false,
       "layout": "IPY_MODEL_81ce556e0b89466c89e28770b1b0022c",
       "style": "IPY_MODEL_d73311dcf5654e158452a13e84fd52ba",
       "value": false
      }
     },
     "9ff7eabff6f04344ad08e9872fe22b5c": {
      "model_module": "@jupyter-widgets/base",
      "model_module_version": "1.2.0",
      "model_name": "LayoutModel",
      "state": {}
     },
     "a008008fa8a047338a9403add17205f1": {
      "model_module": "@jupyter-widgets/controls",
      "model_module_version": "1.5.0",
      "model_name": "HBoxModel",
      "state": {
       "children": [
        "IPY_MODEL_0928cc2fe5a947628870480b8d5f8cb5",
        "IPY_MODEL_4a1fc8b803c7454ab2b47261d4ddaa29",
        "IPY_MODEL_ec3e134243ba4100b9c1043efaf243bc",
        "IPY_MODEL_abd4ffac8ebb47febfdd020bef4e7f6a"
       ],
       "layout": "IPY_MODEL_f1eafac7ef71434395fbe5631fd34c43"
      }
     },
     "a0250faf4d334b51a71828d1ecc3628b": {
      "model_module": "@jupyter-widgets/controls",
      "model_module_version": "1.5.0",
      "model_name": "FloatSliderModel",
      "state": {
       "description": "315°",
       "layout": "IPY_MODEL_c4810e42b34d4a8d9db7089a4250b35b",
       "max": 1,
       "min": -1,
       "step": 0.01,
       "style": "IPY_MODEL_4b445e598ef641f3a3cc1d4314c69cef"
      }
     },
     "a07a1944d6084324941360b274d60a00": {
      "model_module": "@jupyter-widgets/controls",
      "model_module_version": "1.5.0",
      "model_name": "FloatSliderModel",
      "state": {
       "description": "Compression Threshold",
       "layout": "IPY_MODEL_5360d4c0331d4b2498acd250453b5384",
       "max": 1,
       "step": 0.01,
       "style": "IPY_MODEL_165d0f389c5d4a4ca74d39aa71d088e1",
       "value": 0.8
      }
     },
     "a08135d1f42b4c3489ad8153218d85ac": {
      "model_module": "@jupyter-widgets/controls",
      "model_module_version": "1.5.0",
      "model_name": "FloatSliderModel",
      "state": {
       "description": "90°",
       "layout": "IPY_MODEL_6920bb4447ee4bbc9bd3f6ea439ab6f0",
       "max": 1,
       "min": -1,
       "step": 0.01,
       "style": "IPY_MODEL_c5ac396492224b53bdc52db279e8fe4c"
      }
     },
     "a118c16a5f80438494ffe919cd9da4e6": {
      "model_module": "@jupyter-widgets/controls",
      "model_module_version": "1.5.0",
      "model_name": "SliderStyleModel",
      "state": {
       "description_width": ""
      }
     },
     "a192c879b6f341a6ae41e26ea4ed27cb": {
      "model_module": "@jupyter-widgets/base",
      "model_module_version": "1.2.0",
      "model_name": "LayoutModel",
      "state": {
       "border": "solid 4px #222",
       "margin": "4px",
       "padding": "0"
      }
     },
     "a195593693754913931a1f67fa3bac94": {
      "model_module": "@jupyter-widgets/controls",
      "model_module_version": "1.5.0",
      "model_name": "ButtonModel",
      "state": {
       "description": "Export Image",
       "layout": "IPY_MODEL_67037463a50d46129e1783a90314d3d8",
       "style": "IPY_MODEL_1cdb2a9c02f541b2a619b2bc1f0a5a6d"
      }
     },
     "a1bdd0a14ccc41198ab0417ba00ae697": {
      "model_module": "@jupyter-widgets/base",
      "model_module_version": "1.2.0",
      "model_name": "LayoutModel",
      "state": {}
     },
     "a1db7a774adc46d2a9b7f156e6f07f1f": {
      "model_module": "@jupyter-widgets/controls",
      "model_module_version": "1.5.0",
      "model_name": "ButtonModel",
      "state": {
       "description": "Export Image",
       "layout": "IPY_MODEL_199eca09f91745aa82a0b72bf735034c",
       "style": "IPY_MODEL_73da1c7c7d004fa886b24327e3e76359"
      }
     },
     "a1e7ad6d7e1444bcbbc3d18617d10684": {
      "model_module": "@jupyter-widgets/controls",
      "model_module_version": "1.5.0",
      "model_name": "ButtonModel",
      "state": {
       "description": "Reset Protected Area",
       "layout": "IPY_MODEL_9ba5d4e6268549c5bc18f1be51cfbbae",
       "style": "IPY_MODEL_6bf62525be27483c96675ea44d4b9c14"
      }
     },
     "a1ec1df126ab4df780c96821bd25f92c": {
      "model_module": "@jupyter-widgets/controls",
      "model_module_version": "1.5.0",
      "model_name": "FloatSliderModel",
      "state": {
       "description": "225°",
       "layout": "IPY_MODEL_3cb029bed4b8407baa52558b9c9254b7",
       "max": 1,
       "min": -1,
       "step": 0.01,
       "style": "IPY_MODEL_d2eba6e6c6174ec3b1da49d7a6cfb277"
      }
     },
     "a217081961be4560bbd3bdd859843af7": {
      "model_module": "@jupyter-widgets/controls",
      "model_module_version": "1.5.0",
      "model_name": "FloatSliderModel",
      "state": {
       "description": "45°",
       "layout": "IPY_MODEL_2c384b9367ed4e5984881defe09e5166",
       "max": 1,
       "min": -1,
       "step": 0.01,
       "style": "IPY_MODEL_f7a2d2dd8b5040e895a74c5d0554b5c8"
      }
     },
     "a28c6d8059d74695915c4dd1e67cf6a6": {
      "model_module": "@jupyter-widgets/base",
      "model_module_version": "1.2.0",
      "model_name": "LayoutModel",
      "state": {
       "border": "solid 4px #222",
       "margin": "4px",
       "padding": "0"
      }
     },
     "a2f27963624b4487bbd6cf61e4cee6e5": {
      "model_module": "@jupyter-widgets/controls",
      "model_module_version": "1.5.0",
      "model_name": "SliderStyleModel",
      "state": {
       "description_width": ""
      }
     },
     "a304327a673f482fae3fd408b3f252c9": {
      "model_module": "@jupyter-widgets/base",
      "model_module_version": "1.2.0",
      "model_name": "LayoutModel",
      "state": {}
     },
     "a360404853714dc4863470c4562e3247": {
      "model_module": "@jupyter-widgets/controls",
      "model_module_version": "1.5.0",
      "model_name": "ButtonStyleModel",
      "state": {}
     },
     "a485e73533444f719e874b353b94ef5c": {
      "model_module": "@jupyter-widgets/controls",
      "model_module_version": "1.5.0",
      "model_name": "ButtonModel",
      "state": {
       "description": "Reset Saturation Controls",
       "layout": "IPY_MODEL_f8638b41cc7d4b16937039696ccb487c",
       "style": "IPY_MODEL_fef1f24d724e43aab0da3d3c4b672ab8"
      }
     },
     "a4bcabaf65fc438398a1fbe04a1629bc": {
      "model_module": "@jupyter-widgets/controls",
      "model_module_version": "1.5.0",
      "model_name": "TabModel",
      "state": {
       "_titles": {
        "0": "Global Controls"
       },
       "children": [
        "IPY_MODEL_82ba2890c46f4d058da035ee55132104"
       ],
       "layout": "IPY_MODEL_91cbccc49e3b49a68f0fd3c1e1b8f516"
      }
     },
     "a4fc1cbcf1e843b3806ec696f42a7bad": {
      "model_module": "@jupyter-widgets/base",
      "model_module_version": "1.2.0",
      "model_name": "LayoutModel",
      "state": {
       "align_items": "stretch",
       "display": "flex",
       "flex_flow": "column",
       "width": "1128px"
      }
     },
     "a51ba28f28f74b889ea1bfb414627fe7": {
      "model_module": "@jupyter-widgets/controls",
      "model_module_version": "1.5.0",
      "model_name": "TabModel",
      "state": {
       "_titles": {
        "0": "Global Controls",
        "1": "Compression Controls"
       },
       "children": [
        "IPY_MODEL_5b3b26bab4d049a6a9cf8d6a424711f3",
        "IPY_MODEL_7b45382e91a9426bb33ef918be32f439"
       ],
       "layout": "IPY_MODEL_c1d5c90c767d445990ba71c58ca5711a"
      }
     },
     "a53e68d1079f47108c650b6c8795fb87": {
      "model_module": "@jupyter-widgets/controls",
      "model_module_version": "1.5.0",
      "model_name": "ButtonStyleModel",
      "state": {}
     },
     "a560dba4c0cf425f9d16fd1e04cc4f59": {
      "model_module": "@jupyter-widgets/controls",
      "model_module_version": "1.5.0",
      "model_name": "ButtonModel",
      "state": {
       "description": "Export Image",
       "layout": "IPY_MODEL_653f58e1d4af43f2b3681eab40804d15",
       "style": "IPY_MODEL_16a189a80d42415ab9f1b042f4723fe6"
      }
     },
     "a56427c45834466589f11fbd63fb12d3": {
      "model_module": "@jupyter-widgets/base",
      "model_module_version": "1.2.0",
      "model_name": "LayoutModel",
      "state": {}
     },
     "a5b7afec336547e4910cd8c4bedca98a": {
      "model_module": "@jupyter-widgets/output",
      "model_module_version": "1.0.0",
      "model_name": "OutputModel",
      "state": {
       "layout": "IPY_MODEL_24d53aca2c504fe69a9e4b2b9d3e7365",
       "outputs": [
        {
         "data": {
          "application/vnd.jupyter.widget-view+json": {
           "model_id": "b7a91b331fcb47738b7074be95a58bcf",
           "version_major": 2,
           "version_minor": 0
          },
          "text/plain": "Canvas(toolbar=Toolbar(toolitems=[('Home', 'Reset original view', 'home', 'home'), ('Back', 'Back to previous …"
         },
         "metadata": {},
         "output_type": "display_data"
        }
       ]
      }
     },
     "a5d1dcba66d6474d9a87a537c532d38a": {
      "model_module": "jupyter-matplotlib",
      "model_module_version": "^0.7.2",
      "model_name": "ToolbarModel",
      "state": {
       "layout": "IPY_MODEL_f7969a1a7e2d487a897731b1c19c4e50",
       "toolitems": [
        [
         "Home",
         "Reset original view",
         "home",
         "home"
        ],
        [
         "Back",
         "Back to previous view",
         "arrow-left",
         "back"
        ],
        [
         "Forward",
         "Forward to next view",
         "arrow-right",
         "forward"
        ],
        [
         "Pan",
         "Pan axes with left mouse, zoom with right",
         "arrows",
         "pan"
        ],
        [
         "Zoom",
         "Zoom to rectangle",
         "square-o",
         "zoom"
        ],
        [
         "Download",
         "Download plot",
         "floppy-o",
         "save_figure"
        ]
       ]
      }
     },
     "a60f5a582688435ca5ef9ad811fb47ed": {
      "model_module": "@jupyter-widgets/controls",
      "model_module_version": "1.5.0",
      "model_name": "SliderStyleModel",
      "state": {
       "description_width": ""
      }
     },
     "a620f8e248e541c29245bf643871c31b": {
      "model_module": "@jupyter-widgets/base",
      "model_module_version": "1.2.0",
      "model_name": "LayoutModel",
      "state": {}
     },
     "a6ed73844a4b4193a3cf3ab88d3327f6": {
      "model_module": "@jupyter-widgets/controls",
      "model_module_version": "1.5.0",
      "model_name": "ButtonStyleModel",
      "state": {}
     },
     "a6f67cd626844016b57e7a657994ee45": {
      "model_module": "@jupyter-widgets/base",
      "model_module_version": "1.2.0",
      "model_name": "LayoutModel",
      "state": {}
     },
     "a6fd4675999c4547af5885e7c83ae9d3": {
      "model_module": "@jupyter-widgets/controls",
      "model_module_version": "1.5.0",
      "model_name": "DescriptionStyleModel",
      "state": {
       "description_width": ""
      }
     },
     "a70476c240e04a26bacf6bff852bd8c4": {
      "model_module": "@jupyter-widgets/controls",
      "model_module_version": "1.5.0",
      "model_name": "SliderStyleModel",
      "state": {
       "description_width": ""
      }
     },
     "a753d3c0f753449ca5c3e68c17068137": {
      "model_module": "@jupyter-widgets/base",
      "model_module_version": "1.2.0",
      "model_name": "LayoutModel",
      "state": {}
     },
     "a7bb8ea96b034a08b084329f20f61877": {
      "model_module": "@jupyter-widgets/base",
      "model_module_version": "1.2.0",
      "model_name": "LayoutModel",
      "state": {}
     },
     "a800234d897240dcb93024dc88eeb64d": {
      "model_module": "@jupyter-widgets/controls",
      "model_module_version": "1.5.0",
      "model_name": "DescriptionStyleModel",
      "state": {
       "description_width": ""
      }
     },
     "a8208b652c78485c80c318aec5dd5354": {
      "model_module": "@jupyter-widgets/base",
      "model_module_version": "1.2.0",
      "model_name": "LayoutModel",
      "state": {}
     },
     "a8a03a25a42d4e9eaa80cedc78d77925": {
      "model_module": "@jupyter-widgets/controls",
      "model_module_version": "1.5.0",
      "model_name": "SliderStyleModel",
      "state": {
       "description_width": ""
      }
     },
     "a913b20c48994027a229ab08c2f120fc": {
      "model_module": "@jupyter-widgets/base",
      "model_module_version": "1.2.0",
      "model_name": "LayoutModel",
      "state": {}
     },
     "a95cc7a2746844eb8214558788d8cd32": {
      "model_module": "@jupyter-widgets/base",
      "model_module_version": "1.2.0",
      "model_name": "LayoutModel",
      "state": {}
     },
     "a9e2c5266c454a49a4d7ba50e122df91": {
      "model_module": "@jupyter-widgets/controls",
      "model_module_version": "1.5.0",
      "model_name": "VBoxModel",
      "state": {
       "children": [
        "IPY_MODEL_cf8603f3b6a143c59a2da756925fe81f",
        "IPY_MODEL_0145d846363943cf9bcccb43e27f3c5f",
        "IPY_MODEL_c00a7998c1b64795841d27eaad1f7d07"
       ],
       "layout": "IPY_MODEL_22ff119d191641dbb9a335dafdad6f13"
      }
     },
     "aa8dc811e2414dd8a729ceace0d659fd": {
      "model_module": "@jupyter-widgets/base",
      "model_module_version": "1.2.0",
      "model_name": "LayoutModel",
      "state": {}
     },
     "aaeebb256186454bb1b7c55c52d605ed": {
      "model_module": "@jupyter-widgets/controls",
      "model_module_version": "1.5.0",
      "model_name": "ButtonModel",
      "state": {
       "description": "Reset Hue Controls",
       "layout": "IPY_MODEL_24b01ea0006c4c7381db5988111f6763",
       "style": "IPY_MODEL_a53e68d1079f47108c650b6c8795fb87"
      }
     },
     "ab2ffb2933b34662a5e2768157a38066": {
      "model_module": "@jupyter-widgets/base",
      "model_module_version": "1.2.0",
      "model_name": "LayoutModel",
      "state": {
       "border": "solid 4px #222",
       "margin": "4px",
       "padding": "0"
      }
     },
     "abcc52f570cf42ad87f1fb17fe17471b": {
      "model_module": "@jupyter-widgets/controls",
      "model_module_version": "1.5.0",
      "model_name": "CheckboxModel",
      "state": {
       "description": "Disable Medicina",
       "disabled": false,
       "layout": "IPY_MODEL_62b9d3fb1e7f4690a5ab97139a631a1e",
       "style": "IPY_MODEL_1a30f560ae4540638e741e7985086e67",
       "value": false
      }
     },
     "abd4ffac8ebb47febfdd020bef4e7f6a": {
      "model_module": "@jupyter-widgets/controls",
      "model_module_version": "1.5.0",
      "model_name": "VBoxModel",
      "state": {
       "children": [
        "IPY_MODEL_d851c11eccf14b41a89c583570f3fcee",
        "IPY_MODEL_bc239695144a4651b5c81de11d52db32"
       ],
       "layout": "IPY_MODEL_24b94d30416f474e9f0ab862faae4194"
      }
     },
     "ac13d2d08aa84f2280b8069f24dd6464": {
      "model_module": "@jupyter-widgets/controls",
      "model_module_version": "1.5.0",
      "model_name": "ButtonStyleModel",
      "state": {}
     },
     "ac443fc08c4f466194ed9af27ce16c7c": {
      "model_module": "@jupyter-widgets/base",
      "model_module_version": "1.2.0",
      "model_name": "LayoutModel",
      "state": {}
     },
     "ac49b4f6126f45bab63d4f592039aa1d": {
      "model_module": "@jupyter-widgets/controls",
      "model_module_version": "1.5.0",
      "model_name": "SliderStyleModel",
      "state": {
       "description_width": ""
      }
     },
     "ac7442771b4d455eacfc8c17736ff499": {
      "model_module": "@jupyter-widgets/base",
      "model_module_version": "1.2.0",
      "model_name": "LayoutModel",
      "state": {}
     },
     "ac9e61d6ce134e659ea5428cb36ceb87": {
      "model_module": "@jupyter-widgets/controls",
      "model_module_version": "1.5.0",
      "model_name": "DescriptionStyleModel",
      "state": {
       "description_width": ""
      }
     },
     "ad2e34d43d3046dbb8d90aaf617ab504": {
      "model_module": "@jupyter-widgets/controls",
      "model_module_version": "1.5.0",
      "model_name": "SliderStyleModel",
      "state": {
       "description_width": ""
      }
     },
     "addfe1a13c42463894d542dcc8e33ba4": {
      "model_module": "@jupyter-widgets/controls",
      "model_module_version": "1.5.0",
      "model_name": "CheckboxModel",
      "state": {
       "description": "Disable Medicina",
       "disabled": false,
       "layout": "IPY_MODEL_795e67220d75492ab401fb88eca9dcb5",
       "style": "IPY_MODEL_e818264aab034e35a120358e9c08f898",
       "value": false
      }
     },
     "ae42be9068b5467b8050b9c5773a29f5": {
      "model_module": "@jupyter-widgets/controls",
      "model_module_version": "1.5.0",
      "model_name": "DescriptionStyleModel",
      "state": {
       "description_width": ""
      }
     },
     "ae7fe7bf36594082817f87499cd405d4": {
      "model_module": "@jupyter-widgets/controls",
      "model_module_version": "1.5.0",
      "model_name": "FloatSliderModel",
      "state": {
       "description": "180°",
       "layout": "IPY_MODEL_6f7739b9d2144b019faf3f8776044bc9",
       "max": 1,
       "min": -1,
       "step": 0.01,
       "style": "IPY_MODEL_6e317c85f43c433b98a66a9cc3de74b4"
      }
     },
     "aea61297dfcf4b3a8cd5657c4656cc9d": {
      "model_module": "@jupyter-widgets/base",
      "model_module_version": "1.2.0",
      "model_name": "LayoutModel",
      "state": {}
     },
     "aeb9aea0b417465091d07cae5bb605ba": {
      "model_module": "@jupyter-widgets/base",
      "model_module_version": "1.2.0",
      "model_name": "LayoutModel",
      "state": {}
     },
     "aec9b531be2d4ee8895f392a49b42ca7": {
      "model_module": "@jupyter-widgets/base",
      "model_module_version": "1.2.0",
      "model_name": "LayoutModel",
      "state": {}
     },
     "aed8048471b9455d895588722bcb278e": {
      "model_module": "@jupyter-widgets/base",
      "model_module_version": "1.2.0",
      "model_name": "LayoutModel",
      "state": {}
     },
     "aeef00c08f694257a7c8194c672a80f0": {
      "model_module": "@jupyter-widgets/controls",
      "model_module_version": "1.5.0",
      "model_name": "ButtonModel",
      "state": {
       "description": "Save Figure",
       "layout": "IPY_MODEL_9569369c3cb345e6813a0f4fd7b44c00",
       "style": "IPY_MODEL_4d9a4a5d067b4031a8006ee2ee8fa4c6"
      }
     },
     "af9a0e61cc794d64a790743f78804188": {
      "model_module": "@jupyter-widgets/controls",
      "model_module_version": "1.5.0",
      "model_name": "ButtonModel",
      "state": {
       "description": "Save Figure",
       "layout": "IPY_MODEL_109618ebd0934a73a111a7f09be2b63a",
       "style": "IPY_MODEL_11a0826f33d64bd3bea89a06f767bc42"
      }
     },
     "afd0cece04f946bd8c6b6dafa65b7c15": {
      "model_module": "@jupyter-widgets/controls",
      "model_module_version": "1.5.0",
      "model_name": "ButtonStyleModel",
      "state": {}
     },
     "afe41a9f3ded4b4c9c2bd7443b139319": {
      "model_module": "@jupyter-widgets/controls",
      "model_module_version": "1.5.0",
      "model_name": "VBoxModel",
      "state": {
       "children": [
        "IPY_MODEL_e5c8023694f943f8bf4256ed81932b81",
        "IPY_MODEL_1fa058e6d641430b86397d9609ea593c"
       ],
       "layout": "IPY_MODEL_6677a033d13249c49205a967252832ab"
      }
     },
     "b05de64a1fd54e38a1c001cca71cfa32": {
      "model_module": "@jupyter-widgets/controls",
      "model_module_version": "1.5.0",
      "model_name": "FloatSliderModel",
      "state": {
       "description": "315°",
       "layout": "IPY_MODEL_ce3d91a53324421390b4f4dabc01f822",
       "max": 1,
       "min": -1,
       "step": 0.01,
       "style": "IPY_MODEL_15d79aa8fff84e18a015e4dab56d25d0"
      }
     },
     "b0c20a7799244d5fa0373a28bd27fef0": {
      "model_module": "@jupyter-widgets/controls",
      "model_module_version": "1.5.0",
      "model_name": "BoxModel",
      "state": {
       "children": [
        "IPY_MODEL_500a2c62daba42d082fa4d50dec7b04a",
        "IPY_MODEL_a4bcabaf65fc438398a1fbe04a1629bc"
       ],
       "layout": "IPY_MODEL_123c7b66783d493f8cd8ecb37678f340"
      }
     },
     "b140f7e1978e482a93c7aa3578b5c10e": {
      "model_module": "@jupyter-widgets/base",
      "model_module_version": "1.2.0",
      "model_name": "LayoutModel",
      "state": {}
     },
     "b16279f295d44d17913a1c8846107e6a": {
      "model_module": "@jupyter-widgets/base",
      "model_module_version": "1.2.0",
      "model_name": "LayoutModel",
      "state": {}
     },
     "b1f51782c1354ebc89f2205272d8ca9c": {
      "model_module": "@jupyter-widgets/controls",
      "model_module_version": "1.5.0",
      "model_name": "FloatSliderModel",
      "state": {
       "description": "0°",
       "layout": "IPY_MODEL_f490c162f62548c2a3cb2f0d22745ffe",
       "max": 1,
       "min": -1,
       "step": 0.01,
       "style": "IPY_MODEL_c3bdd53e1ba34f8a9023fc051dc14c77"
      }
     },
     "b23aaa2d892e45d89697c2e5ac06d598": {
      "model_module": "@jupyter-widgets/base",
      "model_module_version": "1.2.0",
      "model_name": "LayoutModel",
      "state": {
       "border": "solid 4px #222",
       "margin": "4px",
       "padding": "0"
      }
     },
     "b25f04c53f134c14a4ad90219c117516": {
      "model_module": "@jupyter-widgets/base",
      "model_module_version": "1.2.0",
      "model_name": "LayoutModel",
      "state": {}
     },
     "b268695bf0a2451c900eb544af7d46ba": {
      "model_module": "@jupyter-widgets/controls",
      "model_module_version": "1.5.0",
      "model_name": "FloatSliderModel",
      "state": {
       "description": "Compression Threshold",
       "layout": "IPY_MODEL_4c878a5a1a8b4709b6e2f025deaa6711",
       "max": 1,
       "step": 0.01,
       "style": "IPY_MODEL_dfb623311cb14f06878d80036954914e",
       "value": 0.8
      }
     },
     "b29ae7891d4e4d92bca1708eb1565688": {
      "model_module": "@jupyter-widgets/base",
      "model_module_version": "1.2.0",
      "model_name": "LayoutModel",
      "state": {}
     },
     "b2cbc36b7dfe46bb95831fa2987499de": {
      "model_module": "@jupyter-widgets/base",
      "model_module_version": "1.2.0",
      "model_name": "LayoutModel",
      "state": {}
     },
     "b2e6f21dfcb44f96ba82cac0562e0dfb": {
      "model_module": "@jupyter-widgets/base",
      "model_module_version": "1.2.0",
      "model_name": "LayoutModel",
      "state": {}
     },
     "b2f8c4136ca54ddc8da7b7bebd42c031": {
      "model_module": "@jupyter-widgets/controls",
      "model_module_version": "1.5.0",
      "model_name": "TabModel",
      "state": {
       "_titles": {
        "0": "Global Controls",
        "1": "Protected Area Controls",
        "2": "Saturation Controls",
        "3": "Hue Controls"
       },
       "children": [
        "IPY_MODEL_fe16b81b3d8b4414b714e849cc796b32",
        "IPY_MODEL_2f7a57e9777a4c97be5b11e590e4e31e",
        "IPY_MODEL_9898b2ca5794448da1dfcd43e7270317",
        "IPY_MODEL_2c4f4737da7748dca0291efda4e6a942"
       ],
       "layout": "IPY_MODEL_e4c0731adc924ec89a569a23551f8d21"
      }
     },
     "b301c2d91a514630946ed0b7ddf9fc38": {
      "model_module": "@jupyter-widgets/controls",
      "model_module_version": "1.5.0",
      "model_name": "ButtonStyleModel",
      "state": {}
     },
     "b30767e54a8e4a31846ced6cadecfd25": {
      "model_module": "@jupyter-widgets/base",
      "model_module_version": "1.2.0",
      "model_name": "LayoutModel",
      "state": {}
     },
     "b325fb815a34407983c4e99b57afca1d": {
      "model_module": "@jupyter-widgets/base",
      "model_module_version": "1.2.0",
      "model_name": "LayoutModel",
      "state": {}
     },
     "b33b6820e0f04ca49adba83ac0a7c2e8": {
      "model_module": "@jupyter-widgets/controls",
      "model_module_version": "1.5.0",
      "model_name": "HBoxModel",
      "state": {
       "children": [
        "IPY_MODEL_0f90f942a80f458eb38fe52655d84974",
        "IPY_MODEL_e0447a0fcbc0444fad8b5752a657678f"
       ],
       "layout": "IPY_MODEL_455beac3be3848b7a702fb1fb84f18fa"
      }
     },
     "b3961fb1a9bc4a8494b063ba405a87da": {
      "model_module": "@jupyter-widgets/controls",
      "model_module_version": "1.5.0",
      "model_name": "FloatSliderModel",
      "state": {
       "description": "315°",
       "layout": "IPY_MODEL_90e041c0ce924584a6da8a7c4726c2ad",
       "max": 1,
       "min": -1,
       "step": 0.01,
       "style": "IPY_MODEL_43f1d01700294ef0a422746a5e79269a"
      }
     },
     "b39ef913170747beb0d9b7bb897189f2": {
      "model_module": "@jupyter-widgets/base",
      "model_module_version": "1.2.0",
      "model_name": "LayoutModel",
      "state": {}
     },
     "b3ac46bb5fc84f1abb0445df13fc59e7": {
      "model_module": "@jupyter-widgets/base",
      "model_module_version": "1.2.0",
      "model_name": "LayoutModel",
      "state": {}
     },
     "b3afe26792844fb3bd4967e5bab6e8d8": {
      "model_module": "@jupyter-widgets/controls",
      "model_module_version": "1.5.0",
      "model_name": "FloatSliderModel",
      "state": {
       "description": "Compression Threshold",
       "layout": "IPY_MODEL_8e3a56bf26d444948dd04fa2ffcd79f0",
       "max": 1,
       "step": 0.01,
       "style": "IPY_MODEL_68511dd26c5e4644aa302a09579424d8",
       "value": 0.8
      }
     },
     "b3f6b1a4b0f94684ba9da96a0af31f95": {
      "model_module": "@jupyter-widgets/controls",
      "model_module_version": "1.5.0",
      "model_name": "TabModel",
      "state": {
       "_titles": {
        "0": "Global Controls",
        "1": "Protected Area Controls",
        "2": "Saturation Controls",
        "3": "Hue Controls"
       },
       "children": [
        "IPY_MODEL_b745f313ab6b40bb99249fbae5673975",
        "IPY_MODEL_09719732c5b148818c7056b4f28a2ec7",
        "IPY_MODEL_f974b7242f254654a8fe4f772a2d828c",
        "IPY_MODEL_9a46e134b85e4c779f47e1036a0fd4e4"
       ],
       "layout": "IPY_MODEL_799b8032b705479e95474c9a92132463"
      }
     },
     "b4237acc8ec6482d92ba9c96dedca255": {
      "model_module": "@jupyter-widgets/controls",
      "model_module_version": "1.5.0",
      "model_name": "ButtonModel",
      "state": {
       "description": "Export Image",
       "layout": "IPY_MODEL_b80f2927205c4b5782983b0dc926f00a",
       "style": "IPY_MODEL_df6528bf7b9a49f7a88b1af9972974d6"
      }
     },
     "b4cbddd726704dbba00cc37e3f418edd": {
      "model_module": "@jupyter-widgets/base",
      "model_module_version": "1.2.0",
      "model_name": "LayoutModel",
      "state": {}
     },
     "b4fc6fb6e5684056b69de93962de6989": {
      "model_module": "@jupyter-widgets/base",
      "model_module_version": "1.2.0",
      "model_name": "LayoutModel",
      "state": {}
     },
     "b5049c2f8ce4463681ece8202f9d3d47": {
      "model_module": "@jupyter-widgets/base",
      "model_module_version": "1.2.0",
      "model_name": "LayoutModel",
      "state": {}
     },
     "b51fe4a73e7d4ecb97029e9e5a45fb7c": {
      "model_module": "jupyter-matplotlib",
      "model_module_version": "^0.7.2",
      "model_name": "ToolbarModel",
      "state": {
       "layout": "IPY_MODEL_b88751188ca245f687f3a1d84ebf7e6c",
       "toolitems": [
        [
         "Home",
         "Reset original view",
         "home",
         "home"
        ],
        [
         "Back",
         "Back to previous view",
         "arrow-left",
         "back"
        ],
        [
         "Forward",
         "Forward to next view",
         "arrow-right",
         "forward"
        ],
        [
         "Pan",
         "Pan axes with left mouse, zoom with right",
         "arrows",
         "pan"
        ],
        [
         "Zoom",
         "Zoom to rectangle",
         "square-o",
         "zoom"
        ],
        [
         "Download",
         "Download plot",
         "floppy-o",
         "save_figure"
        ]
       ]
      }
     },
     "b582ea96b3cd4514a6162fa9db7abc54": {
      "model_module": "@jupyter-widgets/controls",
      "model_module_version": "1.5.0",
      "model_name": "HBoxModel",
      "state": {
       "children": [
        "IPY_MODEL_5ba4cbbd015d4925a6dfb31e94b77ad0",
        "IPY_MODEL_834cc446034e436fb4008cf91205dab1",
        "IPY_MODEL_6b7f9eb426b04153ab1b643db36992f2",
        "IPY_MODEL_19286269e72c41e08edb7586355d3d5a"
       ],
       "layout": "IPY_MODEL_3813274c277c45cbb65a4408d4f933d4"
      }
     },
     "b596cc94e44542e7bf2b5fd93b638ef8": {
      "model_module": "@jupyter-widgets/controls",
      "model_module_version": "1.5.0",
      "model_name": "ButtonStyleModel",
      "state": {}
     },
     "b6029f82310341af824942d03e75e427": {
      "model_module": "jupyter-matplotlib",
      "model_module_version": "^0.7.2",
      "model_name": "ToolbarModel",
      "state": {
       "layout": "IPY_MODEL_0401e2e4099a438ea9542b5e62c0339d",
       "toolitems": [
        [
         "Home",
         "Reset original view",
         "home",
         "home"
        ],
        [
         "Back",
         "Back to previous view",
         "arrow-left",
         "back"
        ],
        [
         "Forward",
         "Forward to next view",
         "arrow-right",
         "forward"
        ],
        [
         "Pan",
         "Pan axes with left mouse, zoom with right",
         "arrows",
         "pan"
        ],
        [
         "Zoom",
         "Zoom to rectangle",
         "square-o",
         "zoom"
        ],
        [
         "Download",
         "Download plot",
         "floppy-o",
         "save_figure"
        ]
       ]
      }
     },
     "b64c394e3bf14c3aa54d6acbd64052f0": {
      "model_module": "@jupyter-widgets/controls",
      "model_module_version": "1.5.0",
      "model_name": "BoxModel",
      "state": {
       "children": [
        "IPY_MODEL_88aba5fe15924fb18402679768746430",
        "IPY_MODEL_b3f6b1a4b0f94684ba9da96a0af31f95"
       ],
       "layout": "IPY_MODEL_954daf1377584cb4a055802ed330d09c"
      }
     },
     "b6516a61dedf4d149e4320591c96ac0b": {
      "model_module": "@jupyter-widgets/base",
      "model_module_version": "1.2.0",
      "model_name": "LayoutModel",
      "state": {}
     },
     "b65b1b5cb6f3416da59f9f40a0ed43bc": {
      "model_module": "@jupyter-widgets/controls",
      "model_module_version": "1.5.0",
      "model_name": "ButtonModel",
      "state": {
       "description": "Save Figure",
       "layout": "IPY_MODEL_6e60cd442fb7487bbdcf61a24601e05d",
       "style": "IPY_MODEL_75955aefb87a4eaea7e2e5379102865b"
      }
     },
     "b6ba5be685244ef7bae9ada2178a7a9f": {
      "model_module": "@jupyter-widgets/base",
      "model_module_version": "1.2.0",
      "model_name": "LayoutModel",
      "state": {}
     },
     "b6d481965c4d442aa0552339d74285c2": {
      "model_module": "@jupyter-widgets/controls",
      "model_module_version": "1.5.0",
      "model_name": "ButtonModel",
      "state": {
       "description": "Save Figure",
       "layout": "IPY_MODEL_3ee767bab7ac4f78a51fb5e17c22245f",
       "style": "IPY_MODEL_d420f38cc37341cf8cecf88d3a3f8cbe"
      }
     },
     "b706fe24b63e4ea9b515b085da83f516": {
      "model_module": "@jupyter-widgets/base",
      "model_module_version": "1.2.0",
      "model_name": "LayoutModel",
      "state": {
       "align_items": "stretch",
       "display": "flex",
       "flex_flow": "column",
       "width": "1128px"
      }
     },
     "b745f313ab6b40bb99249fbae5673975": {
      "model_module": "@jupyter-widgets/controls",
      "model_module_version": "1.5.0",
      "model_name": "HBoxModel",
      "state": {
       "children": [
        "IPY_MODEL_150ec1bb80704a80bc67411161db7a6d",
        "IPY_MODEL_dfa9be641fc44ea9aa180f08e464ae76",
        "IPY_MODEL_9e23f1919c9a4010857aaae4620ff633"
       ],
       "layout": "IPY_MODEL_77c1f45e12274c558402074f644bbaa1"
      }
     },
     "b74dcdd23883467bb81f3d5a21d7be8e": {
      "model_module": "@jupyter-widgets/base",
      "model_module_version": "1.2.0",
      "model_name": "LayoutModel",
      "state": {}
     },
     "b75b33dab078454784ff1b697680bee3": {
      "model_module": "@jupyter-widgets/controls",
      "model_module_version": "1.5.0",
      "model_name": "ButtonModel",
      "state": {
       "description": "Export Image",
       "layout": "IPY_MODEL_b2e6f21dfcb44f96ba82cac0562e0dfb",
       "style": "IPY_MODEL_b596cc94e44542e7bf2b5fd93b638ef8"
      }
     },
     "b790fc71851e410dab6c2b614685b300": {
      "model_module": "@jupyter-widgets/base",
      "model_module_version": "1.2.0",
      "model_name": "LayoutModel",
      "state": {
       "align_items": "stretch",
       "display": "flex",
       "flex_flow": "column",
       "width": "1128px"
      }
     },
     "b7a91b331fcb47738b7074be95a58bcf": {
      "model_module": "jupyter-matplotlib",
      "model_module_version": "^0.7.2",
      "model_name": "MPLCanvasModel",
      "state": {
       "_figure_label": "Figure 9",
       "_height": 718,
       "_width": 1100,
       "header_visible": false,
       "layout": "IPY_MODEL_90ab142f22fc4a0987246400f1c9c4bc",
       "resizable": false,
       "toolbar": "IPY_MODEL_05d6364875d64bd6a7105f4597d4e6e2",
       "toolbar_position": "left",
       "toolbar_visible": false
      }
     },
     "b807760edec546098c11baa15d74daa8": {
      "model_module": "@jupyter-widgets/controls",
      "model_module_version": "1.5.0",
      "model_name": "HBoxModel",
      "state": {
       "children": [
        "IPY_MODEL_011f4975f00e4aa6838dc7473e3445f1",
        "IPY_MODEL_2f6b6e7b80b642209b42b78fc8897e64"
       ],
       "layout": "IPY_MODEL_e318a496fc35495fa7da4a5d0038dd08"
      }
     },
     "b80f2927205c4b5782983b0dc926f00a": {
      "model_module": "@jupyter-widgets/base",
      "model_module_version": "1.2.0",
      "model_name": "LayoutModel",
      "state": {}
     },
     "b83909d7af4046bebdaa6fee645fce51": {
      "model_module": "@jupyter-widgets/base",
      "model_module_version": "1.2.0",
      "model_name": "LayoutModel",
      "state": {}
     },
     "b88751188ca245f687f3a1d84ebf7e6c": {
      "model_module": "@jupyter-widgets/base",
      "model_module_version": "1.2.0",
      "model_name": "LayoutModel",
      "state": {}
     },
     "b8e24ae2222b420d970e7ec756121f55": {
      "model_module": "@jupyter-widgets/controls",
      "model_module_version": "1.5.0",
      "model_name": "TabModel",
      "state": {
       "_titles": {
        "0": "Global Controls",
        "1": "Protected Area Controls",
        "2": "Saturation Controls",
        "3": "Hue Controls"
       },
       "children": [
        "IPY_MODEL_6f6653abcbe846448442a4afc85e81b8",
        "IPY_MODEL_451496d3ad6241afbb799901f14ff658",
        "IPY_MODEL_5cc6ef26e7b54134a829968572ca25c6",
        "IPY_MODEL_b582ea96b3cd4514a6162fa9db7abc54"
       ],
       "layout": "IPY_MODEL_07ebdbf711b74de391be472cd55644d1"
      }
     },
     "b8e2c7b2f584477db858e2bdc3a855fd": {
      "model_module": "@jupyter-widgets/base",
      "model_module_version": "1.2.0",
      "model_name": "LayoutModel",
      "state": {}
     },
     "b9008ce354f44671a58748b3e006c924": {
      "model_module": "@jupyter-widgets/base",
      "model_module_version": "1.2.0",
      "model_name": "LayoutModel",
      "state": {}
     },
     "b930c551233f4795b67a1b2f2aa4660d": {
      "model_module": "@jupyter-widgets/controls",
      "model_module_version": "1.5.0",
      "model_name": "ButtonStyleModel",
      "state": {}
     },
     "b9cc8ca68d324ffa8ebe5b117cd2bb41": {
      "model_module": "@jupyter-widgets/controls",
      "model_module_version": "1.5.0",
      "model_name": "SliderStyleModel",
      "state": {
       "description_width": ""
      }
     },
     "b9e2afa2073d49b69bd6ab4e2eade803": {
      "model_module": "@jupyter-widgets/base",
      "model_module_version": "1.2.0",
      "model_name": "LayoutModel",
      "state": {
       "align_items": "stretch",
       "display": "flex",
       "flex_flow": "column",
       "width": "1128px"
      }
     },
     "b9e9317c01ca4c428ecb2e7abdb0b523": {
      "model_module": "@jupyter-widgets/base",
      "model_module_version": "1.2.0",
      "model_name": "LayoutModel",
      "state": {}
     },
     "ba1778029e784aaabd005ca7976facfe": {
      "model_module": "@jupyter-widgets/base",
      "model_module_version": "1.2.0",
      "model_name": "LayoutModel",
      "state": {}
     },
     "ba4b31ed7fc3425d8f34009e3deaac1f": {
      "model_module": "@jupyter-widgets/controls",
      "model_module_version": "1.5.0",
      "model_name": "ButtonStyleModel",
      "state": {}
     },
     "bb46b088b8d6465aab4955e5a6857e56": {
      "model_module": "@jupyter-widgets/base",
      "model_module_version": "1.2.0",
      "model_name": "LayoutModel",
      "state": {}
     },
     "bb756f8639ad4e5ba221cbb6f55a40e7": {
      "model_module": "@jupyter-widgets/controls",
      "model_module_version": "1.5.0",
      "model_name": "FloatSliderModel",
      "state": {
       "description": "225°",
       "layout": "IPY_MODEL_837d2db496234d2fa4cc633bf938432f",
       "max": 1,
       "min": -1,
       "step": 0.01,
       "style": "IPY_MODEL_c1cb83bffbb143e9bf586780f0a4b5bc"
      }
     },
     "bbfcfb4072f242048bf6ba2790bd9680": {
      "model_module": "@jupyter-widgets/base",
      "model_module_version": "1.2.0",
      "model_name": "LayoutModel",
      "state": {}
     },
     "bc1bdf24c6e04ea987dd4b08e3f353e8": {
      "model_module": "jupyter-matplotlib",
      "model_module_version": "^0.7.2",
      "model_name": "ToolbarModel",
      "state": {
       "layout": "IPY_MODEL_b29ae7891d4e4d92bca1708eb1565688",
       "toolitems": [
        [
         "Home",
         "Reset original view",
         "home",
         "home"
        ],
        [
         "Back",
         "Back to previous view",
         "arrow-left",
         "back"
        ],
        [
         "Forward",
         "Forward to next view",
         "arrow-right",
         "forward"
        ],
        [
         "Pan",
         "Pan axes with left mouse, zoom with right",
         "arrows",
         "pan"
        ],
        [
         "Zoom",
         "Zoom to rectangle",
         "square-o",
         "zoom"
        ],
        [
         "Download",
         "Download plot",
         "floppy-o",
         "save_figure"
        ]
       ]
      }
     },
     "bc1c392126e04710a4afc2462b3de2cd": {
      "model_module": "@jupyter-widgets/base",
      "model_module_version": "1.2.0",
      "model_name": "LayoutModel",
      "state": {}
     },
     "bc239695144a4651b5c81de11d52db32": {
      "model_module": "@jupyter-widgets/controls",
      "model_module_version": "1.5.0",
      "model_name": "FloatSliderModel",
      "state": {
       "description": "315°",
       "layout": "IPY_MODEL_f195fc4ddfaf4c78aed3fb155525f2cd",
       "max": 1,
       "min": -1,
       "step": 0.01,
       "style": "IPY_MODEL_a2f27963624b4487bbd6cf61e4cee6e5"
      }
     },
     "bc54c14981964e69920e909f147a3fd0": {
      "model_module": "@jupyter-widgets/base",
      "model_module_version": "1.2.0",
      "model_name": "LayoutModel",
      "state": {}
     },
     "bc8c36bca95843ed83ff9a964ca62d82": {
      "model_module": "@jupyter-widgets/base",
      "model_module_version": "1.2.0",
      "model_name": "LayoutModel",
      "state": {}
     },
     "bcc8f615ba774b2db257e13072231835": {
      "model_module": "@jupyter-widgets/controls",
      "model_module_version": "1.5.0",
      "model_name": "FloatSliderModel",
      "state": {
       "description": "135°",
       "layout": "IPY_MODEL_072da1d98c4749cc9e20790736758aa0",
       "max": 1,
       "min": -1,
       "step": 0.01,
       "style": "IPY_MODEL_49cd86a49c8a41608e0ef7b8e9a5b83f"
      }
     },
     "bcf5b47fddde45bdb3ff55398039962e": {
      "model_module": "@jupyter-widgets/controls",
      "model_module_version": "1.5.0",
      "model_name": "FloatSliderModel",
      "state": {
       "description": "90°",
       "layout": "IPY_MODEL_24aec9a86d4f45a59e749b74a0d9002a",
       "max": 1,
       "min": -1,
       "step": 0.01,
       "style": "IPY_MODEL_7a085a38edfe4fb6a84d414b00d97e96"
      }
     },
     "bd208c358d194694a3e277ffdd44877b": {
      "model_module": "@jupyter-widgets/controls",
      "model_module_version": "1.5.0",
      "model_name": "HBoxModel",
      "state": {
       "children": [
        "IPY_MODEL_6a3470e695db444e8415736afbc6bef3",
        "IPY_MODEL_e1a07c05c4b74eff8df19149271b20cd"
       ],
       "layout": "IPY_MODEL_9448f8ebaa474d5dba113d283f38b0e7"
      }
     },
     "bd2e69e47193489db57d4f8fc1d643ec": {
      "model_module": "@jupyter-widgets/controls",
      "model_module_version": "1.5.0",
      "model_name": "ButtonModel",
      "state": {
       "description": "Reset Protected Area",
       "layout": "IPY_MODEL_ec59637eb89944398c9728da9d3430ec",
       "style": "IPY_MODEL_3ddc4c88e51b4d8db4e416dfcb56281d"
      }
     },
     "bd48b7e436e640368e81bb4c227d1be9": {
      "model_module": "@jupyter-widgets/controls",
      "model_module_version": "1.5.0",
      "model_name": "VBoxModel",
      "state": {
       "children": [
        "IPY_MODEL_03282f3c522f4b0e971a57e683412117"
       ],
       "layout": "IPY_MODEL_d9857611b42646a7b24b079175dd0811"
      }
     },
     "bd6992dd012a4edda2c1b09bd072aecc": {
      "model_module": "@jupyter-widgets/controls",
      "model_module_version": "1.5.0",
      "model_name": "SliderStyleModel",
      "state": {
       "description_width": ""
      }
     },
     "bdc0d28d0a4f4b6089eaca2b314eefce": {
      "model_module": "@jupyter-widgets/controls",
      "model_module_version": "1.5.0",
      "model_name": "SliderStyleModel",
      "state": {
       "description_width": ""
      }
     },
     "bdd5413deae94494b45149c136f59bdc": {
      "model_module": "@jupyter-widgets/base",
      "model_module_version": "1.2.0",
      "model_name": "LayoutModel",
      "state": {}
     },
     "bde3a7a0689f4259a2782ecd1196272e": {
      "model_module": "@jupyter-widgets/base",
      "model_module_version": "1.2.0",
      "model_name": "LayoutModel",
      "state": {}
     },
     "be0a74b2703445f1871ba46132d0b659": {
      "model_module": "jupyter-matplotlib",
      "model_module_version": "^0.7.2",
      "model_name": "MPLCanvasModel",
      "state": {
       "_figure_label": "Figure 15",
       "_height": 396,
       "_width": 1100,
       "header_visible": false,
       "layout": "IPY_MODEL_0763038015524e7fb29cdfeb0ccc3b8b",
       "resizable": false,
       "toolbar": "IPY_MODEL_03fdaa6c274443cc821ef0429b50df0b",
       "toolbar_position": "left",
       "toolbar_visible": false
      }
     },
     "be17690ad2a8496480fc215d18d447a3": {
      "model_module": "@jupyter-widgets/controls",
      "model_module_version": "1.5.0",
      "model_name": "SliderStyleModel",
      "state": {
       "description_width": ""
      }
     },
     "be3cf647e0d5448c87fcd22c4ce2ff0b": {
      "model_module": "@jupyter-widgets/base",
      "model_module_version": "1.2.0",
      "model_name": "LayoutModel",
      "state": {}
     },
     "be95fd3d5d864cfa9597f3d77710e0c6": {
      "model_module": "@jupyter-widgets/base",
      "model_module_version": "1.2.0",
      "model_name": "LayoutModel",
      "state": {}
     },
     "bea9703dcd52486ca03877cbae142436": {
      "model_module": "@jupyter-widgets/base",
      "model_module_version": "1.2.0",
      "model_name": "LayoutModel",
      "state": {}
     },
     "bf95b16ec09f4737905de2354c582135": {
      "model_module": "@jupyter-widgets/base",
      "model_module_version": "1.2.0",
      "model_name": "LayoutModel",
      "state": {}
     },
     "c00a7998c1b64795841d27eaad1f7d07": {
      "model_module": "@jupyter-widgets/controls",
      "model_module_version": "1.5.0",
      "model_name": "FloatSliderModel",
      "state": {
       "description": "225°",
       "layout": "IPY_MODEL_262671ec3b3347c4bc3986d33cc39380",
       "max": 1,
       "min": -1,
       "step": 0.01,
       "style": "IPY_MODEL_3b17221b30a1482ba4f8a473b4101841"
      }
     },
     "c050fb7959cc455aacc2b94ae42294ee": {
      "model_module": "@jupyter-widgets/controls",
      "model_module_version": "1.5.0",
      "model_name": "CheckboxModel",
      "state": {
       "description": "Disable Medicina",
       "disabled": false,
       "layout": "IPY_MODEL_98a5bee96e9f4264928117f5fa80acb8",
       "style": "IPY_MODEL_d933565247cc466faff2fd123b51a022",
       "value": false
      }
     },
     "c0a9501f5e374d1f98282c08351ab412": {
      "model_module": "@jupyter-widgets/base",
      "model_module_version": "1.2.0",
      "model_name": "LayoutModel",
      "state": {}
     },
     "c103fc0b233d4dd5b9b0f09c957cd604": {
      "model_module": "@jupyter-widgets/controls",
      "model_module_version": "1.5.0",
      "model_name": "VBoxModel",
      "state": {
       "children": [
        "IPY_MODEL_bcc8f615ba774b2db257e13072231835",
        "IPY_MODEL_5c3f523e223e479fa6fe8dfa3c9b51db",
        "IPY_MODEL_fafd313a5a60448f9c37ef237c3fbcc2"
       ],
       "layout": "IPY_MODEL_9e67845e8d4c4e6599ef4479cdf6e3a4"
      }
     },
     "c106632809b64d3fa2efdb2a1d44f265": {
      "model_module": "@jupyter-widgets/controls",
      "model_module_version": "1.5.0",
      "model_name": "ButtonModel",
      "state": {
       "description": "Save Figure",
       "layout": "IPY_MODEL_544b4e4da8f74ac7ae753661c7e0900a",
       "style": "IPY_MODEL_3f17ed9fe4024fb9b50ef9e44b02c36d"
      }
     },
     "c1404a4546e845459adc30d3a3e8399d": {
      "model_module": "@jupyter-widgets/controls",
      "model_module_version": "1.5.0",
      "model_name": "DescriptionStyleModel",
      "state": {
       "description_width": ""
      }
     },
     "c148601908cd4bbbb00a78275994f372": {
      "model_module": "@jupyter-widgets/controls",
      "model_module_version": "1.5.0",
      "model_name": "SliderStyleModel",
      "state": {
       "description_width": ""
      }
     },
     "c1cb83bffbb143e9bf586780f0a4b5bc": {
      "model_module": "@jupyter-widgets/controls",
      "model_module_version": "1.5.0",
      "model_name": "SliderStyleModel",
      "state": {
       "description_width": ""
      }
     },
     "c1d15ba6ea674e4e9e3b2d55fd7375f8": {
      "model_module": "@jupyter-widgets/base",
      "model_module_version": "1.2.0",
      "model_name": "LayoutModel",
      "state": {
       "align_items": "stretch",
       "display": "flex",
       "flex_flow": "column",
       "width": "1128px"
      }
     },
     "c1d5c90c767d445990ba71c58ca5711a": {
      "model_module": "@jupyter-widgets/base",
      "model_module_version": "1.2.0",
      "model_name": "LayoutModel",
      "state": {
       "border": "solid 4px #222",
       "margin": "4px",
       "padding": "0"
      }
     },
     "c22b6d07695d44a797081b1eda6cb1a1": {
      "model_module": "@jupyter-widgets/base",
      "model_module_version": "1.2.0",
      "model_name": "LayoutModel",
      "state": {}
     },
     "c26df289517f4c4ebca9d4cf6294792a": {
      "model_module": "@jupyter-widgets/base",
      "model_module_version": "1.2.0",
      "model_name": "LayoutModel",
      "state": {}
     },
     "c28ffbcfa20d4bac8ae20c107a5a4718": {
      "model_module": "@jupyter-widgets/controls",
      "model_module_version": "1.5.0",
      "model_name": "VBoxModel",
      "state": {
       "children": [
        "IPY_MODEL_29da903c22d440ca88b08bf1fe491c43",
        "IPY_MODEL_5e2ff6b30e1f4a609e2551fe6647a300"
       ],
       "layout": "IPY_MODEL_c22b6d07695d44a797081b1eda6cb1a1"
      }
     },
     "c2c613af538442d89c813870edb883f3": {
      "model_module": "@jupyter-widgets/controls",
      "model_module_version": "1.5.0",
      "model_name": "FloatSliderModel",
      "state": {
       "description": "0°",
       "layout": "IPY_MODEL_11e024fe63604b448fd94dc807991216",
       "max": 1,
       "min": -1,
       "step": 0.01,
       "style": "IPY_MODEL_4d3c18fc9b5e463c8b655ffad614df77"
      }
     },
     "c340a5561a8642f9854d28ab7538155d": {
      "model_module": "@jupyter-widgets/controls",
      "model_module_version": "1.5.0",
      "model_name": "ButtonStyleModel",
      "state": {}
     },
     "c35e1701e29f40bbb9efd37bc7193d9d": {
      "model_module": "@jupyter-widgets/controls",
      "model_module_version": "1.5.0",
      "model_name": "ButtonStyleModel",
      "state": {}
     },
     "c398f80665a346f8a5408cc2a4fb7c77": {
      "model_module": "@jupyter-widgets/controls",
      "model_module_version": "1.5.0",
      "model_name": "FloatSliderModel",
      "state": {
       "description": "315°",
       "layout": "IPY_MODEL_7af868ce49a4424392f5806b682ab2c3",
       "max": 1,
       "min": -1,
       "step": 0.01,
       "style": "IPY_MODEL_c4630293c87143c794a7d7e124e3dee4"
      }
     },
     "c3b0e5ae5ac9478d8464f00343d09885": {
      "model_module": "@jupyter-widgets/controls",
      "model_module_version": "1.5.0",
      "model_name": "HBoxModel",
      "state": {
       "children": [
        "IPY_MODEL_7ba750d029b74bd6a2b97c8b0549163d",
        "IPY_MODEL_4a38b469504249f0b59ebb4b942d6980"
       ],
       "layout": "IPY_MODEL_421d9b6be204425a8503678e14e61aab"
      }
     },
     "c3bdd53e1ba34f8a9023fc051dc14c77": {
      "model_module": "@jupyter-widgets/controls",
      "model_module_version": "1.5.0",
      "model_name": "SliderStyleModel",
      "state": {
       "description_width": ""
      }
     },
     "c3eb04b9dcc0453e9f9029dcf9499608": {
      "model_module": "@jupyter-widgets/base",
      "model_module_version": "1.2.0",
      "model_name": "LayoutModel",
      "state": {}
     },
     "c3fc00b3389a4391a7a709b4e106fcb9": {
      "model_module": "@jupyter-widgets/base",
      "model_module_version": "1.2.0",
      "model_name": "LayoutModel",
      "state": {}
     },
     "c40973f6cd694fd9ab1508d4e087b4e8": {
      "model_module": "@jupyter-widgets/controls",
      "model_module_version": "1.5.0",
      "model_name": "VBoxModel",
      "state": {
       "children": [
        "IPY_MODEL_fb04282b24c143878d8c0c70cf4bb77e",
        "IPY_MODEL_49671f0fa08146c1bfab95acae2fa9a7",
        "IPY_MODEL_67676efa0620432db12c2fbf453a1a90"
       ],
       "layout": "IPY_MODEL_9c067c34f3654b1e96e5fa64d28f86fb"
      }
     },
     "c4189dfef0694e6fb69df515ec4871b2": {
      "model_module": "@jupyter-widgets/controls",
      "model_module_version": "1.5.0",
      "model_name": "SliderStyleModel",
      "state": {
       "description_width": ""
      }
     },
     "c42c7da3641446e884263dcd725ae110": {
      "model_module": "@jupyter-widgets/controls",
      "model_module_version": "1.5.0",
      "model_name": "FloatSliderModel",
      "state": {
       "description": "90°",
       "layout": "IPY_MODEL_d14355f37fde46d68bbc37329e2ac1f2",
       "max": 1,
       "min": -1,
       "step": 0.01,
       "style": "IPY_MODEL_506e311e31b746b184e9472ff832bfaa"
      }
     },
     "c4446c9160ac4478876236550284c319": {
      "model_module": "@jupyter-widgets/base",
      "model_module_version": "1.2.0",
      "model_name": "LayoutModel",
      "state": {}
     },
     "c4630293c87143c794a7d7e124e3dee4": {
      "model_module": "@jupyter-widgets/controls",
      "model_module_version": "1.5.0",
      "model_name": "SliderStyleModel",
      "state": {
       "description_width": ""
      }
     },
     "c467846d4a914281b105bca386675545": {
      "model_module": "@jupyter-widgets/base",
      "model_module_version": "1.2.0",
      "model_name": "LayoutModel",
      "state": {}
     },
     "c4810e42b34d4a8d9db7089a4250b35b": {
      "model_module": "@jupyter-widgets/base",
      "model_module_version": "1.2.0",
      "model_name": "LayoutModel",
      "state": {}
     },
     "c492619f266941f69247c75e230c425d": {
      "model_module": "@jupyter-widgets/base",
      "model_module_version": "1.2.0",
      "model_name": "LayoutModel",
      "state": {}
     },
     "c589505771cb4678962782678c34d786": {
      "model_module": "@jupyter-widgets/base",
      "model_module_version": "1.2.0",
      "model_name": "LayoutModel",
      "state": {}
     },
     "c5898fe6e1a74afd846392ed0a72390e": {
      "model_module": "@jupyter-widgets/base",
      "model_module_version": "1.2.0",
      "model_name": "LayoutModel",
      "state": {}
     },
     "c5ac396492224b53bdc52db279e8fe4c": {
      "model_module": "@jupyter-widgets/controls",
      "model_module_version": "1.5.0",
      "model_name": "SliderStyleModel",
      "state": {
       "description_width": ""
      }
     },
     "c62e0900536e4d80bc820a765de91c46": {
      "model_module": "@jupyter-widgets/base",
      "model_module_version": "1.2.0",
      "model_name": "LayoutModel",
      "state": {}
     },
     "c65de3aebd224a3092063c6a065b2b16": {
      "model_module": "@jupyter-widgets/controls",
      "model_module_version": "1.5.0",
      "model_name": "SliderStyleModel",
      "state": {
       "description_width": ""
      }
     },
     "c67a1413c01c4d628e185021db53be8d": {
      "model_module": "@jupyter-widgets/controls",
      "model_module_version": "1.5.0",
      "model_name": "ButtonStyleModel",
      "state": {}
     },
     "c6a27e6b9c6b48638538fd9b7292cd49": {
      "model_module": "@jupyter-widgets/controls",
      "model_module_version": "1.5.0",
      "model_name": "SliderStyleModel",
      "state": {
       "description_width": ""
      }
     },
     "c70d02dd96d84419a3174b00c412cb51": {
      "model_module": "@jupyter-widgets/controls",
      "model_module_version": "1.5.0",
      "model_name": "SliderStyleModel",
      "state": {
       "description_width": ""
      }
     },
     "c715ac96f69c48e0bcd682477c1125b6": {
      "model_module": "@jupyter-widgets/controls",
      "model_module_version": "1.5.0",
      "model_name": "FloatSliderModel",
      "state": {
       "description": "0°",
       "layout": "IPY_MODEL_dd2a61e6bf114e6cbc5d7201cabb26b8",
       "max": 1,
       "min": -1,
       "step": 0.01,
       "style": "IPY_MODEL_f2bae8f87c554de5bd7ee7932b995014"
      }
     },
     "c75b6cfb81c348398d208087fe69246d": {
      "model_module": "@jupyter-widgets/base",
      "model_module_version": "1.2.0",
      "model_name": "LayoutModel",
      "state": {}
     },
     "c775b1cdf45a42f291e21a5594468a59": {
      "model_module": "@jupyter-widgets/base",
      "model_module_version": "1.2.0",
      "model_name": "LayoutModel",
      "state": {}
     },
     "c7d4b476c3a84bd7b87f7b66f58177e7": {
      "model_module": "@jupyter-widgets/controls",
      "model_module_version": "1.5.0",
      "model_name": "FloatSliderModel",
      "state": {
       "description": "315°",
       "layout": "IPY_MODEL_317dd25b33a6427881235ee396f098b0",
       "max": 1,
       "min": -1,
       "step": 0.01,
       "style": "IPY_MODEL_10e158e3662f408ba3fa9581729a9f42"
      }
     },
     "c7f6921a05ae4202bacbdedc2f702f3e": {
      "model_module": "@jupyter-widgets/controls",
      "model_module_version": "1.5.0",
      "model_name": "FloatSliderModel",
      "state": {
       "description": "45°",
       "layout": "IPY_MODEL_eadc2cecfca04f42acd3c9cfce716402",
       "max": 1,
       "min": -1,
       "step": 0.01,
       "style": "IPY_MODEL_8c79da43f50f4265b81ec653d3d9d600"
      }
     },
     "c872866ea0b54b6b95824164e215d497": {
      "model_module": "@jupyter-widgets/controls",
      "model_module_version": "1.5.0",
      "model_name": "HBoxModel",
      "state": {
       "children": [
        "IPY_MODEL_6f67a680b9ad41d7ae6a2dd14b35ca00",
        "IPY_MODEL_d8753f54c91244b6903771ebfffe2cfd"
       ],
       "layout": "IPY_MODEL_1396636c68cd4127b29776b186cf3373"
      }
     },
     "c8744d216e314e4daa0c030f833930f6": {
      "model_module": "@jupyter-widgets/controls",
      "model_module_version": "1.5.0",
      "model_name": "FloatSliderModel",
      "state": {
       "description": "90°",
       "layout": "IPY_MODEL_b83909d7af4046bebdaa6fee645fce51",
       "max": 1,
       "min": -1,
       "step": 0.01,
       "style": "IPY_MODEL_0940ba1b1633478e8fd11401a3ef09b8"
      }
     },
     "c90b612bad9c4302bf9296ede0df371e": {
      "model_module": "@jupyter-widgets/controls",
      "model_module_version": "1.5.0",
      "model_name": "ButtonStyleModel",
      "state": {}
     },
     "c91e59344c394c2ebc780f2a7b02f32c": {
      "model_module": "@jupyter-widgets/controls",
      "model_module_version": "1.5.0",
      "model_name": "ButtonModel",
      "state": {
       "description": "Export Image",
       "layout": "IPY_MODEL_c0a9501f5e374d1f98282c08351ab412",
       "style": "IPY_MODEL_7842c16911a248daadf650b36361fc10"
      }
     },
     "c92d57376a084d5c8a93c826b00e8dd0": {
      "model_module": "@jupyter-widgets/controls",
      "model_module_version": "1.5.0",
      "model_name": "HBoxModel",
      "state": {
       "children": [
        "IPY_MODEL_174e9fe42eb6458c92704bea8555b89b",
        "IPY_MODEL_5747a7ac346c49d4ad98d444d7ec6d3b",
        "IPY_MODEL_557c90db466c4eeeb2ff8ef9f6d3c0c3"
       ],
       "layout": "IPY_MODEL_fc5819cb65fb45b8b9ca6a55b5ef7809"
      }
     },
     "c9a99fbe34e4457fa7d8ff19d5ea0ed9": {
      "model_module": "@jupyter-widgets/base",
      "model_module_version": "1.2.0",
      "model_name": "LayoutModel",
      "state": {}
     },
     "c9d69fc4ac6b4b4db2ca9ad3672fe97d": {
      "model_module": "@jupyter-widgets/base",
      "model_module_version": "1.2.0",
      "model_name": "LayoutModel",
      "state": {}
     },
     "ca66b911556949df85135f6878fc0a20": {
      "model_module": "@jupyter-widgets/base",
      "model_module_version": "1.2.0",
      "model_name": "LayoutModel",
      "state": {}
     },
     "caa437108db846d4a7e2321bd272430c": {
      "model_module": "@jupyter-widgets/base",
      "model_module_version": "1.2.0",
      "model_name": "LayoutModel",
      "state": {}
     },
     "cb163b5288344042a91c9238a270229d": {
      "model_module": "@jupyter-widgets/base",
      "model_module_version": "1.2.0",
      "model_name": "LayoutModel",
      "state": {
       "border": "solid 4px #222",
       "margin": "4px",
       "padding": "0"
      }
     },
     "cb33f7a69155405090a158742125def3": {
      "model_module": "@jupyter-widgets/output",
      "model_module_version": "1.0.0",
      "model_name": "OutputModel",
      "state": {
       "layout": "IPY_MODEL_969c0172944e43f38151093ce5a7e583",
       "outputs": [
        {
         "data": {
          "application/vnd.jupyter.widget-view+json": {
           "model_id": "8c102d30bf054bb8a20d4b5d029b5969",
           "version_major": 2,
           "version_minor": 0
          },
          "text/plain": "Canvas(toolbar=Toolbar(toolitems=[('Home', 'Reset original view', 'home', 'home'), ('Back', 'Back to previous …"
         },
         "metadata": {},
         "output_type": "display_data"
        }
       ]
      }
     },
     "cb6e9b2f15884233b59437f5ecf6f522": {
      "model_module": "@jupyter-widgets/controls",
      "model_module_version": "1.5.0",
      "model_name": "ButtonModel",
      "state": {
       "description": "Reset Saturation Controls",
       "layout": "IPY_MODEL_0568f841d8304ba294a51f4b8dc26eb0",
       "style": "IPY_MODEL_4f5a67f3531b4ee9a542ba82901f775f"
      }
     },
     "cb92afae251e4e1dabd3f46a710fc037": {
      "model_module": "jupyter-matplotlib",
      "model_module_version": "^0.7.2",
      "model_name": "MPLCanvasModel",
      "state": {
       "_figure_label": "Figure 1",
       "_height": 464,
       "_image_mode": "diff",
       "_width": 1100,
       "header_visible": false,
       "layout": "IPY_MODEL_13e2fea6b14d470cb73e9a4c0400cb0b",
       "resizable": false,
       "toolbar": "IPY_MODEL_4ed5f53d461d4bc0ae0bbcc9be4663c6",
       "toolbar_position": "left",
       "toolbar_visible": false
      }
     },
     "cbb4217dca0643d9b78ab5373969aba9": {
      "model_module": "@jupyter-widgets/base",
      "model_module_version": "1.2.0",
      "model_name": "LayoutModel",
      "state": {}
     },
     "cbca20874bfd45fe82c627d971661800": {
      "model_module": "@jupyter-widgets/base",
      "model_module_version": "1.2.0",
      "model_name": "LayoutModel",
      "state": {}
     },
     "cd7b77318b9841d3aa8f7bc5bf5f889a": {
      "model_module": "jupyter-matplotlib",
      "model_module_version": "^0.7.2",
      "model_name": "ToolbarModel",
      "state": {
       "layout": "IPY_MODEL_ce0fc0ffb3914417b1b636130c755634",
       "toolitems": [
        [
         "Home",
         "Reset original view",
         "home",
         "home"
        ],
        [
         "Back",
         "Back to previous view",
         "arrow-left",
         "back"
        ],
        [
         "Forward",
         "Forward to next view",
         "arrow-right",
         "forward"
        ],
        [
         "Pan",
         "Pan axes with left mouse, zoom with right",
         "arrows",
         "pan"
        ],
        [
         "Zoom",
         "Zoom to rectangle",
         "square-o",
         "zoom"
        ],
        [
         "Download",
         "Download plot",
         "floppy-o",
         "save_figure"
        ]
       ]
      }
     },
     "cdeb9729065743979d4d01350760926e": {
      "model_module": "@jupyter-widgets/controls",
      "model_module_version": "1.5.0",
      "model_name": "ButtonModel",
      "state": {
       "description": "Export Image",
       "layout": "IPY_MODEL_bf95b16ec09f4737905de2354c582135",
       "style": "IPY_MODEL_f6ef6d5768e44f1989abb17338139d25"
      }
     },
     "ce0fc0ffb3914417b1b636130c755634": {
      "model_module": "@jupyter-widgets/base",
      "model_module_version": "1.2.0",
      "model_name": "LayoutModel",
      "state": {}
     },
     "ce3d91a53324421390b4f4dabc01f822": {
      "model_module": "@jupyter-widgets/base",
      "model_module_version": "1.2.0",
      "model_name": "LayoutModel",
      "state": {}
     },
     "ce87c3bd832d49de959ba8a6ab5b2819": {
      "model_module": "@jupyter-widgets/controls",
      "model_module_version": "1.5.0",
      "model_name": "SliderStyleModel",
      "state": {
       "description_width": ""
      }
     },
     "cea4c5c011374f7cad1439582c494668": {
      "model_module": "@jupyter-widgets/base",
      "model_module_version": "1.2.0",
      "model_name": "LayoutModel",
      "state": {}
     },
     "cebd6175df55427e88d244d30d715b05": {
      "model_module": "@jupyter-widgets/controls",
      "model_module_version": "1.5.0",
      "model_name": "ButtonStyleModel",
      "state": {}
     },
     "cee2fe1c421f4cf7a392567fddc61bae": {
      "model_module": "@jupyter-widgets/controls",
      "model_module_version": "1.5.0",
      "model_name": "HBoxModel",
      "state": {
       "children": [
        "IPY_MODEL_305a5582fc6a40d2ac5887c790c00bf6",
        "IPY_MODEL_cf4b4124bb1e46dbab7c8604d74ba573",
        "IPY_MODEL_2411358d94ca4523be0452f65fd37532"
       ],
       "layout": "IPY_MODEL_76f30b1658f14d688baccfeda6525d75"
      }
     },
     "cf4b4124bb1e46dbab7c8604d74ba573": {
      "model_module": "@jupyter-widgets/controls",
      "model_module_version": "1.5.0",
      "model_name": "ButtonModel",
      "state": {
       "description": "Export Image",
       "layout": "IPY_MODEL_aeb9aea0b417465091d07cae5bb605ba",
       "style": "IPY_MODEL_364c451adf914548a6f20b9fc844c860"
      }
     },
     "cf502298e094401ba00d1bd62613296e": {
      "model_module": "@jupyter-widgets/controls",
      "model_module_version": "1.5.0",
      "model_name": "ButtonModel",
      "state": {
       "description": "Reset Hue Controls",
       "layout": "IPY_MODEL_5ee4d73c2fee4f2faf038307c40415d6",
       "style": "IPY_MODEL_fdaa1f916b5d4a7ea522d15bb4c3787e"
      }
     },
     "cf8603f3b6a143c59a2da756925fe81f": {
      "model_module": "@jupyter-widgets/controls",
      "model_module_version": "1.5.0",
      "model_name": "FloatSliderModel",
      "state": {
       "description": "135°",
       "layout": "IPY_MODEL_d2c62b079086427a841d2f938e6c1481",
       "max": 1,
       "min": -1,
       "step": 0.01,
       "style": "IPY_MODEL_4b0a203d24284b8d8bb784fad999492a"
      }
     },
     "cf8d125259e84ca69a3dcf038b4efb3a": {
      "model_module": "@jupyter-widgets/base",
      "model_module_version": "1.2.0",
      "model_name": "LayoutModel",
      "state": {}
     },
     "cfcedb4885974766af3f5b08cd31a63f": {
      "model_module": "@jupyter-widgets/controls",
      "model_module_version": "1.5.0",
      "model_name": "HBoxModel",
      "state": {
       "children": [
        "IPY_MODEL_e8adadd37ba647e69a95327c313c968c",
        "IPY_MODEL_56c4ee18b8c54f54a51c70173f7db915",
        "IPY_MODEL_303e2dd58cd44071bd55d1b2561eb588",
        "IPY_MODEL_fd8bf5fe787541978af4dcb1bf95bae5"
       ],
       "layout": "IPY_MODEL_9f304567dba349faad05804d31b8d62a"
      }
     },
     "cfd2dee3f360470fa2636cdfd416a752": {
      "model_module": "@jupyter-widgets/base",
      "model_module_version": "1.2.0",
      "model_name": "LayoutModel",
      "state": {
       "align_items": "stretch",
       "display": "flex",
       "flex_flow": "column",
       "width": "1128px"
      }
     },
     "cfeb5c808479405496e9ef7a3e8a1c59": {
      "model_module": "@jupyter-widgets/controls",
      "model_module_version": "1.5.0",
      "model_name": "SliderStyleModel",
      "state": {
       "description_width": ""
      }
     },
     "d024ea4fb8ea4f78891472eb80deebe8": {
      "model_module": "@jupyter-widgets/controls",
      "model_module_version": "1.5.0",
      "model_name": "HBoxModel",
      "state": {
       "children": [
        "IPY_MODEL_6bfd9ffc6a26403ababa00e2009a35fc",
        "IPY_MODEL_d2267f184f9f4a86bce406ed5f1b3f4e",
        "IPY_MODEL_0dc84d41b8f74ec697492c634938c99f"
       ],
       "layout": "IPY_MODEL_7076b0e14ad141209530bfb825e5e914"
      }
     },
     "d0805847c02f40ce941104e2e375e46a": {
      "model_module": "@jupyter-widgets/base",
      "model_module_version": "1.2.0",
      "model_name": "LayoutModel",
      "state": {
       "border": "solid 4px #222",
       "margin": "4px",
       "padding": "0"
      }
     },
     "d0841b67fd154e9499dfba0c62378436": {
      "model_module": "@jupyter-widgets/base",
      "model_module_version": "1.2.0",
      "model_name": "LayoutModel",
      "state": {}
     },
     "d0bd967bf92e44e6a9ae441216d0e085": {
      "model_module": "@jupyter-widgets/base",
      "model_module_version": "1.2.0",
      "model_name": "LayoutModel",
      "state": {}
     },
     "d1153ae74eeb475888ca2df4a8f83d08": {
      "model_module": "@jupyter-widgets/controls",
      "model_module_version": "1.5.0",
      "model_name": "ButtonModel",
      "state": {
       "description": "Reset Saturation Controls",
       "layout": "IPY_MODEL_e1df21cfe34849b289d2a282b9e834ed",
       "style": "IPY_MODEL_a6ed73844a4b4193a3cf3ab88d3327f6"
      }
     },
     "d12b5c2f3b294552ab12fb8573e72100": {
      "model_module": "@jupyter-widgets/base",
      "model_module_version": "1.2.0",
      "model_name": "LayoutModel",
      "state": {}
     },
     "d14355f37fde46d68bbc37329e2ac1f2": {
      "model_module": "@jupyter-widgets/base",
      "model_module_version": "1.2.0",
      "model_name": "LayoutModel",
      "state": {}
     },
     "d15b34c4df5f41e2af2fc87dd717ef53": {
      "model_module": "@jupyter-widgets/base",
      "model_module_version": "1.2.0",
      "model_name": "LayoutModel",
      "state": {}
     },
     "d199475daa714199a618294df07c486f": {
      "model_module": "@jupyter-widgets/base",
      "model_module_version": "1.2.0",
      "model_name": "LayoutModel",
      "state": {}
     },
     "d1b6de293f10487d87fad81c26be4d79": {
      "model_module": "@jupyter-widgets/controls",
      "model_module_version": "1.5.0",
      "model_name": "ButtonModel",
      "state": {
       "description": "Reset Compression Controls",
       "layout": "IPY_MODEL_eb99f8d218244648b9d760761c68786e",
       "style": "IPY_MODEL_fd3b548ba887476f8e3a80f2ca599b97"
      }
     },
     "d1e4be9b0a4d4170a27555617217fd1c": {
      "model_module": "@jupyter-widgets/controls",
      "model_module_version": "1.5.0",
      "model_name": "ButtonStyleModel",
      "state": {}
     },
     "d1e63165e698422ba72d89a68fc44b99": {
      "model_module": "@jupyter-widgets/controls",
      "model_module_version": "1.5.0",
      "model_name": "ButtonModel",
      "state": {
       "description": "Export Image",
       "layout": "IPY_MODEL_f2de24409906400e90770a95fedc4880",
       "style": "IPY_MODEL_64c97d9424c84f0d95c03ee71eababb7"
      }
     },
     "d2267f184f9f4a86bce406ed5f1b3f4e": {
      "model_module": "@jupyter-widgets/controls",
      "model_module_version": "1.5.0",
      "model_name": "ButtonModel",
      "state": {
       "description": "Export Image",
       "layout": "IPY_MODEL_7e0ead09f3874402b36fa4e0528a5d82",
       "style": "IPY_MODEL_9984ff95f7734eca9c37286852fce77f"
      }
     },
     "d231e09937894eb6b62ef9939b888cf7": {
      "model_module": "@jupyter-widgets/base",
      "model_module_version": "1.2.0",
      "model_name": "LayoutModel",
      "state": {}
     },
     "d2c62b079086427a841d2f938e6c1481": {
      "model_module": "@jupyter-widgets/base",
      "model_module_version": "1.2.0",
      "model_name": "LayoutModel",
      "state": {}
     },
     "d2eba6e6c6174ec3b1da49d7a6cfb277": {
      "model_module": "@jupyter-widgets/controls",
      "model_module_version": "1.5.0",
      "model_name": "SliderStyleModel",
      "state": {
       "description_width": ""
      }
     },
     "d34cc949726743b39214d766141c43ae": {
      "model_module": "@jupyter-widgets/base",
      "model_module_version": "1.2.0",
      "model_name": "LayoutModel",
      "state": {}
     },
     "d36dcdea57b4482486efc728efeadcf6": {
      "model_module": "@jupyter-widgets/controls",
      "model_module_version": "1.5.0",
      "model_name": "ButtonModel",
      "state": {
       "description": "Reset Compression Controls",
       "layout": "IPY_MODEL_f429a28533d44923918fa23d94a5498c",
       "style": "IPY_MODEL_5129fb92f9fc4cafbac1002cde85ad97"
      }
     },
     "d3ad4b7c5f3440eebdfe331d7e7aef8c": {
      "model_module": "@jupyter-widgets/output",
      "model_module_version": "1.0.0",
      "model_name": "OutputModel",
      "state": {
       "layout": "IPY_MODEL_7c58704fcf4a469c91b88535c31c4c65",
       "outputs": [
        {
         "data": {
          "application/vnd.jupyter.widget-view+json": {
           "model_id": "dfd6687f2f5c4159a1a52ab4c5ef8378",
           "version_major": 2,
           "version_minor": 0
          },
          "text/plain": "Canvas(toolbar=Toolbar(toolitems=[('Home', 'Reset original view', 'home', 'home'), ('Back', 'Back to previous …"
         },
         "metadata": {},
         "output_type": "display_data"
        }
       ]
      }
     },
     "d420f38cc37341cf8cecf88d3a3f8cbe": {
      "model_module": "@jupyter-widgets/controls",
      "model_module_version": "1.5.0",
      "model_name": "ButtonStyleModel",
      "state": {}
     },
     "d4e3d3d721c94f059398c6152d8740e6": {
      "model_module": "@jupyter-widgets/base",
      "model_module_version": "1.2.0",
      "model_name": "LayoutModel",
      "state": {}
     },
     "d53a9749228f444e8dadc8a146198436": {
      "model_module": "@jupyter-widgets/base",
      "model_module_version": "1.2.0",
      "model_name": "LayoutModel",
      "state": {}
     },
     "d5e42742426a4e74ae4dcf1259ca52b1": {
      "model_module": "@jupyter-widgets/controls",
      "model_module_version": "1.5.0",
      "model_name": "FloatSliderModel",
      "state": {
       "description": "225°",
       "layout": "IPY_MODEL_c467846d4a914281b105bca386675545",
       "max": 1,
       "min": -1,
       "step": 0.01,
       "style": "IPY_MODEL_4c513c78e18d4624b3166600080399d2"
      }
     },
     "d644c044fc194515bcb75d75eb2849e9": {
      "model_module": "@jupyter-widgets/base",
      "model_module_version": "1.2.0",
      "model_name": "LayoutModel",
      "state": {}
     },
     "d65c4596519b4c808dae35113b9881d4": {
      "model_module": "@jupyter-widgets/controls",
      "model_module_version": "1.5.0",
      "model_name": "FloatSliderModel",
      "state": {
       "description": "0°",
       "layout": "IPY_MODEL_757114e8eba348ccabaa2aab236487d5",
       "max": 1,
       "min": -1,
       "step": 0.01,
       "style": "IPY_MODEL_5ef34fa324ba4bb79a90e073a17f107e"
      }
     },
     "d6bb7b8047c94280b2e06bbf2fdd57cb": {
      "model_module": "@jupyter-widgets/controls",
      "model_module_version": "1.5.0",
      "model_name": "FloatSliderModel",
      "state": {
       "description": "Compression Threshold",
       "layout": "IPY_MODEL_f8565dd42765484299444fce04500486",
       "max": 1,
       "step": 0.01,
       "style": "IPY_MODEL_6bf76b8b10bf45e9989923b1d8ac126b",
       "value": 0.8
      }
     },
     "d6f3ce75c4b3464ba923161f4759b0cf": {
      "model_module": "@jupyter-widgets/base",
      "model_module_version": "1.2.0",
      "model_name": "LayoutModel",
      "state": {}
     },
     "d73311dcf5654e158452a13e84fd52ba": {
      "model_module": "@jupyter-widgets/controls",
      "model_module_version": "1.5.0",
      "model_name": "DescriptionStyleModel",
      "state": {
       "description_width": ""
      }
     },
     "d78f6f4e2e8a4768ac9ef22e241530ff": {
      "model_module": "@jupyter-widgets/controls",
      "model_module_version": "1.5.0",
      "model_name": "SliderStyleModel",
      "state": {
       "description_width": ""
      }
     },
     "d83bc75097c645efa0430521ceeef66d": {
      "model_module": "@jupyter-widgets/base",
      "model_module_version": "1.2.0",
      "model_name": "LayoutModel",
      "state": {}
     },
     "d851c11eccf14b41a89c583570f3fcee": {
      "model_module": "@jupyter-widgets/controls",
      "model_module_version": "1.5.0",
      "model_name": "FloatSliderModel",
      "state": {
       "description": "270°",
       "layout": "IPY_MODEL_2b087383a4c0452ab55054eb3b8a8045",
       "max": 1,
       "min": -1,
       "step": 0.01,
       "style": "IPY_MODEL_296a3388b66248e892b62c0fbe0c459d"
      }
     },
     "d854f6c3662a47bd870304b592555d06": {
      "model_module": "@jupyter-widgets/base",
      "model_module_version": "1.2.0",
      "model_name": "LayoutModel",
      "state": {}
     },
     "d862e728025143d6877e9c8b1a902cd9": {
      "model_module": "@jupyter-widgets/base",
      "model_module_version": "1.2.0",
      "model_name": "LayoutModel",
      "state": {}
     },
     "d8753f54c91244b6903771ebfffe2cfd": {
      "model_module": "@jupyter-widgets/controls",
      "model_module_version": "1.5.0",
      "model_name": "FloatSliderModel",
      "state": {
       "description": "Compression Threshold",
       "layout": "IPY_MODEL_7120b1fe77d7434a8a80b5e1966f999c",
       "max": 1,
       "step": 0.01,
       "style": "IPY_MODEL_ac49b4f6126f45bab63d4f592039aa1d",
       "value": 0.5
      }
     },
     "d8a40ec532504749b5b3a1b195d39724": {
      "model_module": "@jupyter-widgets/base",
      "model_module_version": "1.2.0",
      "model_name": "LayoutModel",
      "state": {}
     },
     "d8b7f01033e84ec3b5634c1ad6ad3a5d": {
      "model_module": "@jupyter-widgets/base",
      "model_module_version": "1.2.0",
      "model_name": "LayoutModel",
      "state": {
       "border": "solid 4px #222",
       "margin": "4px",
       "padding": "0"
      }
     },
     "d933565247cc466faff2fd123b51a022": {
      "model_module": "@jupyter-widgets/controls",
      "model_module_version": "1.5.0",
      "model_name": "DescriptionStyleModel",
      "state": {
       "description_width": ""
      }
     },
     "d9857611b42646a7b24b079175dd0811": {
      "model_module": "@jupyter-widgets/base",
      "model_module_version": "1.2.0",
      "model_name": "LayoutModel",
      "state": {}
     },
     "d9e477f78260463a97542a7f709f33b8": {
      "model_module": "@jupyter-widgets/controls",
      "model_module_version": "1.5.0",
      "model_name": "ButtonStyleModel",
      "state": {}
     },
     "da365978b0bf4190bd3a17ef92f406e0": {
      "model_module": "@jupyter-widgets/base",
      "model_module_version": "1.2.0",
      "model_name": "LayoutModel",
      "state": {}
     },
     "da6f4c7cf8e24455abe08c6c21b425c6": {
      "model_module": "@jupyter-widgets/controls",
      "model_module_version": "1.5.0",
      "model_name": "FloatSliderModel",
      "state": {
       "description": "90°",
       "layout": "IPY_MODEL_b9008ce354f44671a58748b3e006c924",
       "max": 1,
       "min": -1,
       "step": 0.01,
       "style": "IPY_MODEL_879052c00c974e629f84dfeaa76a0e83"
      }
     },
     "da999f9e31014757abd4eb7d32bd46db": {
      "model_module": "@jupyter-widgets/controls",
      "model_module_version": "1.5.0",
      "model_name": "DescriptionStyleModel",
      "state": {
       "description_width": ""
      }
     },
     "db080703ac624be5862534312ae9ca09": {
      "model_module": "@jupyter-widgets/controls",
      "model_module_version": "1.5.0",
      "model_name": "SliderStyleModel",
      "state": {
       "description_width": ""
      }
     },
     "db0b87685ddb4b4abb34d5c5f8a8effa": {
      "model_module": "@jupyter-widgets/base",
      "model_module_version": "1.2.0",
      "model_name": "LayoutModel",
      "state": {}
     },
     "dc24d27388084b52938e5c00fb80a1f0": {
      "model_module": "@jupyter-widgets/base",
      "model_module_version": "1.2.0",
      "model_name": "LayoutModel",
      "state": {
       "align_items": "stretch",
       "display": "flex",
       "flex_flow": "column",
       "width": "1128px"
      }
     },
     "dc904bd72b724312b56f2e98a8681e95": {
      "model_module": "@jupyter-widgets/controls",
      "model_module_version": "1.5.0",
      "model_name": "FloatSliderModel",
      "state": {
       "description": "270°",
       "layout": "IPY_MODEL_4b2c03e6adad42d48e734140974fabcc",
       "max": 1,
       "min": -1,
       "step": 0.01,
       "style": "IPY_MODEL_04f88d6638ce4f8fb3d00b0d9589a445"
      }
     },
     "dd2a61e6bf114e6cbc5d7201cabb26b8": {
      "model_module": "@jupyter-widgets/base",
      "model_module_version": "1.2.0",
      "model_name": "LayoutModel",
      "state": {}
     },
     "ddddaa34b8df4603afd5be0417d774ff": {
      "model_module": "@jupyter-widgets/controls",
      "model_module_version": "1.5.0",
      "model_name": "FloatSliderModel",
      "state": {
       "description": "180°",
       "layout": "IPY_MODEL_9927df35afbe4586b0a6b79fd8d5ae2a",
       "max": 1,
       "min": -1,
       "step": 0.01,
       "style": "IPY_MODEL_111861ee4d97474283caa76ec397431e"
      }
     },
     "ddfab5339f824e36b754d428c1f493ef": {
      "model_module": "@jupyter-widgets/base",
      "model_module_version": "1.2.0",
      "model_name": "LayoutModel",
      "state": {}
     },
     "de8ba1c922b04f6b927def1fa768c243": {
      "model_module": "@jupyter-widgets/controls",
      "model_module_version": "1.5.0",
      "model_name": "VBoxModel",
      "state": {
       "children": [
        "IPY_MODEL_8660c6e10f7c4e9dab4315ceaa743fea"
       ],
       "layout": "IPY_MODEL_96860b8be4f144b382d3a728b8d977cb"
      }
     },
     "df30e40afb7d4da3a42f39670d7b2293": {
      "model_module": "@jupyter-widgets/base",
      "model_module_version": "1.2.0",
      "model_name": "LayoutModel",
      "state": {
       "border": "solid 4px #222",
       "margin": "4px",
       "padding": "0"
      }
     },
     "df6528bf7b9a49f7a88b1af9972974d6": {
      "model_module": "@jupyter-widgets/controls",
      "model_module_version": "1.5.0",
      "model_name": "ButtonStyleModel",
      "state": {}
     },
     "df8941126c9843a1bcfe513a93abe056": {
      "model_module": "@jupyter-widgets/base",
      "model_module_version": "1.2.0",
      "model_name": "LayoutModel",
      "state": {}
     },
     "dfa9be641fc44ea9aa180f08e464ae76": {
      "model_module": "@jupyter-widgets/controls",
      "model_module_version": "1.5.0",
      "model_name": "ButtonModel",
      "state": {
       "description": "Export Image",
       "layout": "IPY_MODEL_4cff571168af4c618570f29f763ea6d6",
       "style": "IPY_MODEL_73ec732de5664b5cbe5cb4b0ce80ea44"
      }
     },
     "dfb623311cb14f06878d80036954914e": {
      "model_module": "@jupyter-widgets/controls",
      "model_module_version": "1.5.0",
      "model_name": "SliderStyleModel",
      "state": {
       "description_width": ""
      }
     },
     "dfd6687f2f5c4159a1a52ab4c5ef8378": {
      "model_module": "jupyter-matplotlib",
      "model_module_version": "^0.7.2",
      "model_name": "MPLCanvasModel",
      "state": {
       "_figure_label": "Figure 20",
       "_height": 550,
       "_image_mode": "diff",
       "_width": 1100,
       "header_visible": false,
       "layout": "IPY_MODEL_01ba694c023f4039984568d6838d83f3",
       "resizable": false,
       "toolbar": "IPY_MODEL_ee7f124c0281416cb2838443b8ef0050",
       "toolbar_position": "left",
       "toolbar_visible": false
      }
     },
     "e0447a0fcbc0444fad8b5752a657678f": {
      "model_module": "@jupyter-widgets/controls",
      "model_module_version": "1.5.0",
      "model_name": "FloatSliderModel",
      "state": {
       "description": "Compression Threshold",
       "layout": "IPY_MODEL_9f1debd673a046ad9ba0b0c760000594",
       "max": 1,
       "step": 0.01,
       "style": "IPY_MODEL_6b1545a922a0489c9203575dc790182d",
       "value": 0.5
      }
     },
     "e087e588eb3c4c6d8eb443a3ee727105": {
      "model_module": "@jupyter-widgets/base",
      "model_module_version": "1.2.0",
      "model_name": "LayoutModel",
      "state": {}
     },
     "e0e17a9cd3144d06badbb36d2857bdd7": {
      "model_module": "@jupyter-widgets/base",
      "model_module_version": "1.2.0",
      "model_name": "LayoutModel",
      "state": {}
     },
     "e0f868ce57f8446096f82be84e129cf6": {
      "model_module": "@jupyter-widgets/controls",
      "model_module_version": "1.5.0",
      "model_name": "HBoxModel",
      "state": {
       "children": [
        "IPY_MODEL_9464cbee296245d69b9a0bb512ed78d9",
        "IPY_MODEL_19b675d233a24b73a2779f998855ac3a"
       ],
       "layout": "IPY_MODEL_06af2ad5d1a942408408b32e090dad91"
      }
     },
     "e0f91980fa7144f789bd2cb499f08e46": {
      "model_module": "@jupyter-widgets/controls",
      "model_module_version": "1.5.0",
      "model_name": "ButtonStyleModel",
      "state": {}
     },
     "e1a07c05c4b74eff8df19149271b20cd": {
      "model_module": "@jupyter-widgets/controls",
      "model_module_version": "1.5.0",
      "model_name": "FloatSliderModel",
      "state": {
       "description": "Protected Area Threshold",
       "layout": "IPY_MODEL_65f1c6211e9648ca9aa4dc8681475afb",
       "max": 1,
       "step": 0.01,
       "style": "IPY_MODEL_6af07e03d83947d5b6b92f37f37f3679",
       "value": 0.7
      }
     },
     "e1b9a9446f2345819c3d1ae0c7228c47": {
      "model_module": "@jupyter-widgets/base",
      "model_module_version": "1.2.0",
      "model_name": "LayoutModel",
      "state": {}
     },
     "e1c56aa260734a0897195540d19c1ccc": {
      "model_module": "@jupyter-widgets/base",
      "model_module_version": "1.2.0",
      "model_name": "LayoutModel",
      "state": {}
     },
     "e1df21cfe34849b289d2a282b9e834ed": {
      "model_module": "@jupyter-widgets/base",
      "model_module_version": "1.2.0",
      "model_name": "LayoutModel",
      "state": {}
     },
     "e209bb13016a4a6e815d420b5b891ae7": {
      "model_module": "@jupyter-widgets/controls",
      "model_module_version": "1.5.0",
      "model_name": "VBoxModel",
      "state": {
       "children": [
        "IPY_MODEL_cf502298e094401ba00d1bd62613296e"
       ],
       "layout": "IPY_MODEL_c4446c9160ac4478876236550284c319"
      }
     },
     "e20ab6be7b5b4017af77a36d75202811": {
      "model_module": "@jupyter-widgets/controls",
      "model_module_version": "1.5.0",
      "model_name": "VBoxModel",
      "state": {
       "children": [
        "IPY_MODEL_f5a3d097827c45978b550831766933ab",
        "IPY_MODEL_96b6ea0e56b14f218db000151704d373",
        "IPY_MODEL_c8744d216e314e4daa0c030f833930f6"
       ],
       "layout": "IPY_MODEL_0530958a71c14bb6a350ad8025f307f0"
      }
     },
     "e213df864d0942d3a279559c715853d4": {
      "model_module": "@jupyter-widgets/base",
      "model_module_version": "1.2.0",
      "model_name": "LayoutModel",
      "state": {}
     },
     "e21470c823cc4758b503513d61911ecc": {
      "model_module": "@jupyter-widgets/controls",
      "model_module_version": "1.5.0",
      "model_name": "SliderStyleModel",
      "state": {
       "description_width": ""
      }
     },
     "e22d2bc9ddd44c7592185442dd90e3ff": {
      "model_module": "@jupyter-widgets/base",
      "model_module_version": "1.2.0",
      "model_name": "LayoutModel",
      "state": {}
     },
     "e2778eb84fbf448992d0d2d0b87b592d": {
      "model_module": "@jupyter-widgets/base",
      "model_module_version": "1.2.0",
      "model_name": "LayoutModel",
      "state": {}
     },
     "e318a496fc35495fa7da4a5d0038dd08": {
      "model_module": "@jupyter-widgets/base",
      "model_module_version": "1.2.0",
      "model_name": "LayoutModel",
      "state": {}
     },
     "e35c29124810453a8a053d99a93f650d": {
      "model_module": "@jupyter-widgets/controls",
      "model_module_version": "1.5.0",
      "model_name": "SliderStyleModel",
      "state": {
       "description_width": ""
      }
     },
     "e371255fa25a436e986a64cb5ae4fe76": {
      "model_module": "@jupyter-widgets/base",
      "model_module_version": "1.2.0",
      "model_name": "LayoutModel",
      "state": {}
     },
     "e3fd1eb8979f413cb08601898b29aa46": {
      "model_module": "@jupyter-widgets/base",
      "model_module_version": "1.2.0",
      "model_name": "LayoutModel",
      "state": {}
     },
     "e43fd336808d4f28844b3cd25555611f": {
      "model_module": "@jupyter-widgets/controls",
      "model_module_version": "1.5.0",
      "model_name": "FloatSliderModel",
      "state": {
       "description": "Compression Threshold",
       "layout": "IPY_MODEL_0ea608c9faeb489b994d4bd1708a3e30",
       "max": 1,
       "step": 0.01,
       "style": "IPY_MODEL_f1a2540219434e808af1be2ba029a09b",
       "value": 0.8
      }
     },
     "e486578f77734a2799fc9d95d65a2c04": {
      "model_module": "@jupyter-widgets/base",
      "model_module_version": "1.2.0",
      "model_name": "LayoutModel",
      "state": {}
     },
     "e499388f11c54d7d9353c5c4e12bde68": {
      "model_module": "@jupyter-widgets/controls",
      "model_module_version": "1.5.0",
      "model_name": "ButtonStyleModel",
      "state": {}
     },
     "e4a54bcba6d046b3a2ed4d70acc1cc7d": {
      "model_module": "@jupyter-widgets/controls",
      "model_module_version": "1.5.0",
      "model_name": "ButtonStyleModel",
      "state": {}
     },
     "e4c0731adc924ec89a569a23551f8d21": {
      "model_module": "@jupyter-widgets/base",
      "model_module_version": "1.2.0",
      "model_name": "LayoutModel",
      "state": {
       "border": "solid 4px #222",
       "margin": "4px",
       "padding": "0"
      }
     },
     "e5a9709a8d6d45a7a0c2f009ba046be4": {
      "model_module": "@jupyter-widgets/controls",
      "model_module_version": "1.5.0",
      "model_name": "FloatSliderModel",
      "state": {
       "description": "Compression Threshold",
       "layout": "IPY_MODEL_1ee7f0f1666c44bf95e49db0b7769c8a",
       "max": 1,
       "step": 0.01,
       "style": "IPY_MODEL_ed1ac1995a294d4ea9c38e5f760bb954",
       "value": 0.8
      }
     },
     "e5b4111d5bec4cbe9070930a59dde54b": {
      "model_module": "@jupyter-widgets/controls",
      "model_module_version": "1.5.0",
      "model_name": "SliderStyleModel",
      "state": {
       "description_width": ""
      }
     },
     "e5c7b24e6429402cb5318435211dba0c": {
      "model_module": "jupyter-matplotlib",
      "model_module_version": "^0.7.2",
      "model_name": "MPLCanvasModel",
      "state": {
       "_figure_label": "Figure 22",
       "_height": 550,
       "_image_mode": "diff",
       "_width": 1100,
       "header_visible": false,
       "layout": "IPY_MODEL_bdd5413deae94494b45149c136f59bdc",
       "resizable": false,
       "toolbar": "IPY_MODEL_cd7b77318b9841d3aa8f7bc5bf5f889a",
       "toolbar_position": "left",
       "toolbar_visible": false
      }
     },
     "e5c8023694f943f8bf4256ed81932b81": {
      "model_module": "@jupyter-widgets/controls",
      "model_module_version": "1.5.0",
      "model_name": "FloatSliderModel",
      "state": {
       "description": "270°",
       "layout": "IPY_MODEL_91153b78bf824dddb0e41417a788c814",
       "max": 1,
       "min": -1,
       "step": 0.01,
       "style": "IPY_MODEL_742cf32828ac4e3d85dffb522d46aa97"
      }
     },
     "e5dc43bf5e2e4066aa59a2b7cc8e6a51": {
      "model_module": "@jupyter-widgets/base",
      "model_module_version": "1.2.0",
      "model_name": "LayoutModel",
      "state": {}
     },
     "e5f206da86ed445da8ffd374e55b5f7c": {
      "model_module": "@jupyter-widgets/controls",
      "model_module_version": "1.5.0",
      "model_name": "BoxModel",
      "state": {
       "children": [
        "IPY_MODEL_24452c52a5804d5cbbd4734dbc0a1751",
        "IPY_MODEL_25edd156d8c844878382bbf730a2127a"
       ],
       "layout": "IPY_MODEL_c1d15ba6ea674e4e9e3b2d55fd7375f8"
      }
     },
     "e63e729a02fd48d1af73c7eba02b4f1e": {
      "model_module": "@jupyter-widgets/base",
      "model_module_version": "1.2.0",
      "model_name": "LayoutModel",
      "state": {}
     },
     "e64a69bae62b49618502cf23d27877b4": {
      "model_module": "@jupyter-widgets/base",
      "model_module_version": "1.2.0",
      "model_name": "LayoutModel",
      "state": {}
     },
     "e6a1fe0717ab43e1a52d44b6777228dd": {
      "model_module": "@jupyter-widgets/controls",
      "model_module_version": "1.5.0",
      "model_name": "SliderStyleModel",
      "state": {
       "description_width": ""
      }
     },
     "e6a891ffdb6d49a6b7685c293ee83818": {
      "model_module": "@jupyter-widgets/base",
      "model_module_version": "1.2.0",
      "model_name": "LayoutModel",
      "state": {}
     },
     "e6c7fe5db30b41e597cd36051ac28505": {
      "model_module": "@jupyter-widgets/base",
      "model_module_version": "1.2.0",
      "model_name": "LayoutModel",
      "state": {}
     },
     "e6d529566e394a8d939af2cbcb8c753a": {
      "model_module": "@jupyter-widgets/controls",
      "model_module_version": "1.5.0",
      "model_name": "FloatSliderModel",
      "state": {
       "description": "Compression Threshold",
       "layout": "IPY_MODEL_54c8c1541c9c41c3926f920d3c6d8808",
       "max": 1,
       "step": 0.01,
       "style": "IPY_MODEL_31cf2ee6f6044ea4a9452cc92ec1ef63",
       "value": 0.8
      }
     },
     "e6ff6d9014794fbc859b7c992861501a": {
      "model_module": "jupyter-matplotlib",
      "model_module_version": "^0.7.2",
      "model_name": "ToolbarModel",
      "state": {
       "layout": "IPY_MODEL_e929db8f18c24d4f89d92b63a1db8a42",
       "toolitems": [
        [
         "Home",
         "Reset original view",
         "home",
         "home"
        ],
        [
         "Back",
         "Back to previous view",
         "arrow-left",
         "back"
        ],
        [
         "Forward",
         "Forward to next view",
         "arrow-right",
         "forward"
        ],
        [
         "Pan",
         "Pan axes with left mouse, zoom with right",
         "arrows",
         "pan"
        ],
        [
         "Zoom",
         "Zoom to rectangle",
         "square-o",
         "zoom"
        ],
        [
         "Download",
         "Download plot",
         "floppy-o",
         "save_figure"
        ]
       ]
      }
     },
     "e7ddfdae9b7b461dab85fb17aac7ce3e": {
      "model_module": "@jupyter-widgets/base",
      "model_module_version": "1.2.0",
      "model_name": "LayoutModel",
      "state": {}
     },
     "e818264aab034e35a120358e9c08f898": {
      "model_module": "@jupyter-widgets/controls",
      "model_module_version": "1.5.0",
      "model_name": "DescriptionStyleModel",
      "state": {
       "description_width": ""
      }
     },
     "e894b2b5e17c4a9fa98b30fc09709289": {
      "model_module": "@jupyter-widgets/controls",
      "model_module_version": "1.5.0",
      "model_name": "FloatSliderModel",
      "state": {
       "description": "45°",
       "layout": "IPY_MODEL_bea9703dcd52486ca03877cbae142436",
       "max": 1,
       "min": -1,
       "step": 0.01,
       "style": "IPY_MODEL_795a983dca8941e0b6762f9c201982ea"
      }
     },
     "e8adadd37ba647e69a95327c313c968c": {
      "model_module": "@jupyter-widgets/controls",
      "model_module_version": "1.5.0",
      "model_name": "VBoxModel",
      "state": {
       "children": [
        "IPY_MODEL_377bc41e93db45a495d144857e03c913"
       ],
       "layout": "IPY_MODEL_be3cf647e0d5448c87fcd22c4ce2ff0b"
      }
     },
     "e8c55c07562d47d388433f7371eff449": {
      "model_module": "@jupyter-widgets/controls",
      "model_module_version": "1.5.0",
      "model_name": "DescriptionStyleModel",
      "state": {
       "description_width": ""
      }
     },
     "e8f5768cd1dc4d419a53e9cf8125545d": {
      "model_module": "@jupyter-widgets/controls",
      "model_module_version": "1.5.0",
      "model_name": "FloatSliderModel",
      "state": {
       "description": "45°",
       "layout": "IPY_MODEL_75b64d3adf0a4a61a907fd911405d931",
       "max": 1,
       "min": -1,
       "step": 0.01,
       "style": "IPY_MODEL_a118c16a5f80438494ffe919cd9da4e6"
      }
     },
     "e8fc4cb9755b4f348f51bbd3cd2f39a1": {
      "model_module": "@jupyter-widgets/base",
      "model_module_version": "1.2.0",
      "model_name": "LayoutModel",
      "state": {}
     },
     "e929db8f18c24d4f89d92b63a1db8a42": {
      "model_module": "@jupyter-widgets/base",
      "model_module_version": "1.2.0",
      "model_name": "LayoutModel",
      "state": {}
     },
     "e9692d1432a344fe917cbee74fb52c78": {
      "model_module": "@jupyter-widgets/base",
      "model_module_version": "1.2.0",
      "model_name": "LayoutModel",
      "state": {}
     },
     "e99b79eb7d344090b0751ea0adf76e01": {
      "model_module": "@jupyter-widgets/base",
      "model_module_version": "1.2.0",
      "model_name": "LayoutModel",
      "state": {}
     },
     "e9acbebefb1544dda80975663c131e76": {
      "model_module": "@jupyter-widgets/base",
      "model_module_version": "1.2.0",
      "model_name": "LayoutModel",
      "state": {}
     },
     "e9b4ba36600a422a9cf7f41a23399f22": {
      "model_module": "@jupyter-widgets/base",
      "model_module_version": "1.2.0",
      "model_name": "LayoutModel",
      "state": {
       "align_items": "stretch",
       "display": "flex",
       "flex_flow": "column",
       "width": "1128px"
      }
     },
     "e9c6985de2464d66bf5d2f54f7e2208a": {
      "model_module": "@jupyter-widgets/controls",
      "model_module_version": "1.5.0",
      "model_name": "ButtonStyleModel",
      "state": {}
     },
     "e9cffa253e944d5f9c1ed89d97edceae": {
      "model_module": "@jupyter-widgets/controls",
      "model_module_version": "1.5.0",
      "model_name": "SliderStyleModel",
      "state": {
       "description_width": ""
      }
     },
     "e9d9d27235124459b4ace292c617482d": {
      "model_module": "@jupyter-widgets/controls",
      "model_module_version": "1.5.0",
      "model_name": "ButtonStyleModel",
      "state": {}
     },
     "e9fc19c434d3499999ab4e696b174355": {
      "model_module": "@jupyter-widgets/base",
      "model_module_version": "1.2.0",
      "model_name": "LayoutModel",
      "state": {}
     },
     "ea29600278fc4a90a070a574cdf5112d": {
      "model_module": "@jupyter-widgets/controls",
      "model_module_version": "1.5.0",
      "model_name": "ButtonModel",
      "state": {
       "description": "Reset Protected Area",
       "layout": "IPY_MODEL_45731eea913f4413b77aee2b4cf252ba",
       "style": "IPY_MODEL_6ef549c6f0b44229a2580b4db678b94d"
      }
     },
     "ea3a14ac9c3c419fb0094c27066c3326": {
      "model_module": "@jupyter-widgets/controls",
      "model_module_version": "1.5.0",
      "model_name": "HBoxModel",
      "state": {
       "children": [
        "IPY_MODEL_78a7ba767a934d0f94e534aefd2dde11",
        "IPY_MODEL_cdeb9729065743979d4d01350760926e",
        "IPY_MODEL_edf6a39990a04a1c87f4ba82a9b8c426"
       ],
       "layout": "IPY_MODEL_a7bb8ea96b034a08b084329f20f61877"
      }
     },
     "ea5d62285fb2445ea0ca916b4e5eba15": {
      "model_module": "@jupyter-widgets/controls",
      "model_module_version": "1.5.0",
      "model_name": "FloatSliderModel",
      "state": {
       "description": "Compression Threshold",
       "layout": "IPY_MODEL_0526be7580f64fcabd1a8775558df917",
       "max": 1,
       "step": 0.01,
       "style": "IPY_MODEL_ce87c3bd832d49de959ba8a6ab5b2819",
       "value": 0.8
      }
     },
     "eadc2cecfca04f42acd3c9cfce716402": {
      "model_module": "@jupyter-widgets/base",
      "model_module_version": "1.2.0",
      "model_name": "LayoutModel",
      "state": {}
     },
     "eb16b8ad3ebb487994f1d7bf0d6990d5": {
      "model_module": "@jupyter-widgets/controls",
      "model_module_version": "1.5.0",
      "model_name": "ButtonStyleModel",
      "state": {}
     },
     "eb41c913754f4922a924487b2a6c1fa7": {
      "model_module": "@jupyter-widgets/controls",
      "model_module_version": "1.5.0",
      "model_name": "TabModel",
      "state": {
       "_titles": {
        "0": "Global Controls",
        "1": "Compression Controls"
       },
       "children": [
        "IPY_MODEL_c92d57376a084d5c8a93c826b00e8dd0",
        "IPY_MODEL_4fbcc3a194764d1db4f8009e1076e9d8"
       ],
       "layout": "IPY_MODEL_a192c879b6f341a6ae41e26ea4ed27cb"
      }
     },
     "eb5690364cbe4c0f9a06e3e33418fc49": {
      "model_module": "@jupyter-widgets/base",
      "model_module_version": "1.2.0",
      "model_name": "LayoutModel",
      "state": {}
     },
     "eb72b0ae82664f389e56a1fda0fc48c2": {
      "model_module": "@jupyter-widgets/base",
      "model_module_version": "1.2.0",
      "model_name": "LayoutModel",
      "state": {}
     },
     "eb78f195ee544ab29962d548b91769a1": {
      "model_module": "@jupyter-widgets/base",
      "model_module_version": "1.2.0",
      "model_name": "LayoutModel",
      "state": {}
     },
     "eb99f8d218244648b9d760761c68786e": {
      "model_module": "@jupyter-widgets/base",
      "model_module_version": "1.2.0",
      "model_name": "LayoutModel",
      "state": {}
     },
     "eb9eb85ace194b7da60a42d0458ed31b": {
      "model_module": "@jupyter-widgets/base",
      "model_module_version": "1.2.0",
      "model_name": "LayoutModel",
      "state": {
       "border": "solid 4px #222",
       "margin": "4px",
       "padding": "0"
      }
     },
     "ebdd355ba2984db993a0f6138deabe6c": {
      "model_module": "@jupyter-widgets/controls",
      "model_module_version": "1.5.0",
      "model_name": "FloatSliderModel",
      "state": {
       "description": "135°",
       "layout": "IPY_MODEL_c9a99fbe34e4457fa7d8ff19d5ea0ed9",
       "max": 1,
       "min": -1,
       "step": 0.01,
       "style": "IPY_MODEL_71e36282a85d47b9b13b2aeb81be348d"
      }
     },
     "ec1d960b84c541a6a82d74b221198ce3": {
      "model_module": "@jupyter-widgets/base",
      "model_module_version": "1.2.0",
      "model_name": "LayoutModel",
      "state": {}
     },
     "ec3e134243ba4100b9c1043efaf243bc": {
      "model_module": "@jupyter-widgets/controls",
      "model_module_version": "1.5.0",
      "model_name": "VBoxModel",
      "state": {
       "children": [
        "IPY_MODEL_86000935e2324473b4f20d1bfecb307c",
        "IPY_MODEL_ddddaa34b8df4603afd5be0417d774ff",
        "IPY_MODEL_852839b13c7041859ea34ec9c68d552e"
       ],
       "layout": "IPY_MODEL_e486578f77734a2799fc9d95d65a2c04"
      }
     },
     "ec4a09df7bd948a89a926877e605cbec": {
      "model_module": "@jupyter-widgets/controls",
      "model_module_version": "1.5.0",
      "model_name": "DescriptionStyleModel",
      "state": {
       "description_width": ""
      }
     },
     "ec59637eb89944398c9728da9d3430ec": {
      "model_module": "@jupyter-widgets/base",
      "model_module_version": "1.2.0",
      "model_name": "LayoutModel",
      "state": {}
     },
     "eca861e3debf43da971da338f439915b": {
      "model_module": "@jupyter-widgets/controls",
      "model_module_version": "1.5.0",
      "model_name": "ButtonModel",
      "state": {
       "description": "Reset Protected Area",
       "layout": "IPY_MODEL_3353bd137b2943e594accb7ab6cc8feb",
       "style": "IPY_MODEL_1604cbffccba4459b865245105ae99f5"
      }
     },
     "ecb3ee5265b243be9ce283c7777ef5ce": {
      "model_module": "@jupyter-widgets/controls",
      "model_module_version": "1.5.0",
      "model_name": "HBoxModel",
      "state": {
       "children": [
        "IPY_MODEL_6ec9bc87a8b546b8b5aa391004b8431c",
        "IPY_MODEL_0f24f01537c74a27b248bdc8d209c1cd"
       ],
       "layout": "IPY_MODEL_1eb0478fa1824410b8c6375a24bcff41"
      }
     },
     "eccf5d38ec3c407aa21448d4e0e180e1": {
      "model_module": "@jupyter-widgets/base",
      "model_module_version": "1.2.0",
      "model_name": "LayoutModel",
      "state": {}
     },
     "ecdd3c05f2664d09942605aa9acd92fd": {
      "model_module": "@jupyter-widgets/base",
      "model_module_version": "1.2.0",
      "model_name": "LayoutModel",
      "state": {}
     },
     "ed1ac1995a294d4ea9c38e5f760bb954": {
      "model_module": "@jupyter-widgets/controls",
      "model_module_version": "1.5.0",
      "model_name": "SliderStyleModel",
      "state": {
       "description_width": ""
      }
     },
     "ed649426fcdb43b684af1c5091cdafd0": {
      "model_module": "@jupyter-widgets/base",
      "model_module_version": "1.2.0",
      "model_name": "LayoutModel",
      "state": {}
     },
     "ede6dfe53b6c43c1acfb7555845ec501": {
      "model_module": "@jupyter-widgets/controls",
      "model_module_version": "1.5.0",
      "model_name": "ButtonStyleModel",
      "state": {}
     },
     "edf6a39990a04a1c87f4ba82a9b8c426": {
      "model_module": "@jupyter-widgets/controls",
      "model_module_version": "1.5.0",
      "model_name": "ButtonModel",
      "state": {
       "description": "Save Figure",
       "layout": "IPY_MODEL_02ef39dd519542b0bb9bcd58cc97ac03",
       "style": "IPY_MODEL_316bfa2a70fd46278300d1492ce2034d"
      }
     },
     "ee7c9bcc37f34689b7a7a85cee504f00": {
      "model_module": "@jupyter-widgets/controls",
      "model_module_version": "1.5.0",
      "model_name": "VBoxModel",
      "state": {
       "children": [
        "IPY_MODEL_6a034c604d544c6398204583b7817b9a",
        "IPY_MODEL_ae7fe7bf36594082817f87499cd405d4",
        "IPY_MODEL_730acc4d419747e59185538bcc6869b4"
       ],
       "layout": "IPY_MODEL_e2778eb84fbf448992d0d2d0b87b592d"
      }
     },
     "ee7f124c0281416cb2838443b8ef0050": {
      "model_module": "jupyter-matplotlib",
      "model_module_version": "^0.7.2",
      "model_name": "ToolbarModel",
      "state": {
       "layout": "IPY_MODEL_d644c044fc194515bcb75d75eb2849e9",
       "toolitems": [
        [
         "Home",
         "Reset original view",
         "home",
         "home"
        ],
        [
         "Back",
         "Back to previous view",
         "arrow-left",
         "back"
        ],
        [
         "Forward",
         "Forward to next view",
         "arrow-right",
         "forward"
        ],
        [
         "Pan",
         "Pan axes with left mouse, zoom with right",
         "arrows",
         "pan"
        ],
        [
         "Zoom",
         "Zoom to rectangle",
         "square-o",
         "zoom"
        ],
        [
         "Download",
         "Download plot",
         "floppy-o",
         "save_figure"
        ]
       ]
      }
     },
     "eecce4f0eafe43149e9ee9433b39eadf": {
      "model_module": "@jupyter-widgets/base",
      "model_module_version": "1.2.0",
      "model_name": "LayoutModel",
      "state": {}
     },
     "eee498cede8f4e42ab0b8af9f4aa6de8": {
      "model_module": "@jupyter-widgets/controls",
      "model_module_version": "1.5.0",
      "model_name": "BoxModel",
      "state": {
       "children": [
        "IPY_MODEL_5e055a588b8a422d81ae78e84e1d803b",
        "IPY_MODEL_25c1932aeb8940c0a2bbbe2141079bc5"
       ],
       "layout": "IPY_MODEL_a4fc1cbcf1e843b3806ec696f42a7bad"
      }
     },
     "ef1aca218529483282a6c5120fe24b91": {
      "model_module": "@jupyter-widgets/controls",
      "model_module_version": "1.5.0",
      "model_name": "SliderStyleModel",
      "state": {
       "description_width": ""
      }
     },
     "eff1936c8b9a4367b4f972e10bced814": {
      "model_module": "@jupyter-widgets/base",
      "model_module_version": "1.2.0",
      "model_name": "LayoutModel",
      "state": {}
     },
     "f017013baf5849ed8e7a1f70d85c0573": {
      "model_module": "@jupyter-widgets/base",
      "model_module_version": "1.2.0",
      "model_name": "LayoutModel",
      "state": {}
     },
     "f01d385764b4425faa0fd6faa856f6ed": {
      "model_module": "@jupyter-widgets/controls",
      "model_module_version": "1.5.0",
      "model_name": "TabModel",
      "state": {
       "_titles": {
        "0": "Global Controls",
        "1": "Compression Controls"
       },
       "children": [
        "IPY_MODEL_77a61793c86e4d72a217322f22aabe63",
        "IPY_MODEL_ecb3ee5265b243be9ce283c7777ef5ce"
       ],
       "layout": "IPY_MODEL_eb9eb85ace194b7da60a42d0458ed31b"
      }
     },
     "f06712426e74496db78ba6e81c2cdf38": {
      "model_module": "@jupyter-widgets/controls",
      "model_module_version": "1.5.0",
      "model_name": "FloatSliderModel",
      "state": {
       "description": "Compression Threshold",
       "layout": "IPY_MODEL_f0b6f2c949014ebab554a63b1969d43c",
       "max": 1,
       "step": 0.01,
       "style": "IPY_MODEL_d78f6f4e2e8a4768ac9ef22e241530ff",
       "value": 0.8
      }
     },
     "f0b6f2c949014ebab554a63b1969d43c": {
      "model_module": "@jupyter-widgets/base",
      "model_module_version": "1.2.0",
      "model_name": "LayoutModel",
      "state": {}
     },
     "f0cfd8e18f8c4e65940b670cbd0291fe": {
      "model_module": "@jupyter-widgets/base",
      "model_module_version": "1.2.0",
      "model_name": "LayoutModel",
      "state": {}
     },
     "f129cb3759f34f5c8bc7a95caf81c2ac": {
      "model_module": "jupyter-matplotlib",
      "model_module_version": "^0.7.2",
      "model_name": "ToolbarModel",
      "state": {
       "layout": "IPY_MODEL_f7afbc29c2604c04823e8618b63c9945",
       "toolitems": [
        [
         "Home",
         "Reset original view",
         "home",
         "home"
        ],
        [
         "Back",
         "Back to previous view",
         "arrow-left",
         "back"
        ],
        [
         "Forward",
         "Forward to next view",
         "arrow-right",
         "forward"
        ],
        [
         "Pan",
         "Pan axes with left mouse, zoom with right",
         "arrows",
         "pan"
        ],
        [
         "Zoom",
         "Zoom to rectangle",
         "square-o",
         "zoom"
        ],
        [
         "Download",
         "Download plot",
         "floppy-o",
         "save_figure"
        ]
       ]
      }
     },
     "f134d148488a49d294a38f816427246c": {
      "model_module": "@jupyter-widgets/base",
      "model_module_version": "1.2.0",
      "model_name": "LayoutModel",
      "state": {}
     },
     "f165d6f5fadb4ec194f760817e3bb630": {
      "model_module": "@jupyter-widgets/base",
      "model_module_version": "1.2.0",
      "model_name": "LayoutModel",
      "state": {}
     },
     "f17a4b2aa973402ba11fbfd7c5c5d6bc": {
      "model_module": "@jupyter-widgets/controls",
      "model_module_version": "1.5.0",
      "model_name": "ButtonModel",
      "state": {
       "description": "Save Figure",
       "layout": "IPY_MODEL_331489a990934449ad191b59aacccaa3",
       "style": "IPY_MODEL_2afb42ad8b7747a09b7c7f68db757c4e"
      }
     },
     "f195fc4ddfaf4c78aed3fb155525f2cd": {
      "model_module": "@jupyter-widgets/base",
      "model_module_version": "1.2.0",
      "model_name": "LayoutModel",
      "state": {}
     },
     "f1a2540219434e808af1be2ba029a09b": {
      "model_module": "@jupyter-widgets/controls",
      "model_module_version": "1.5.0",
      "model_name": "SliderStyleModel",
      "state": {
       "description_width": ""
      }
     },
     "f1e02bc6aefe4616991f51262c7a18c9": {
      "model_module": "@jupyter-widgets/controls",
      "model_module_version": "1.5.0",
      "model_name": "CheckboxModel",
      "state": {
       "description": "Disable Medicina",
       "disabled": false,
       "layout": "IPY_MODEL_7d9f092cf95d435ebafc96c090745428",
       "style": "IPY_MODEL_0a63db6ccd5b433ea0d4ff9f90aaec0a",
       "value": false
      }
     },
     "f1eafac7ef71434395fbe5631fd34c43": {
      "model_module": "@jupyter-widgets/base",
      "model_module_version": "1.2.0",
      "model_name": "LayoutModel",
      "state": {}
     },
     "f2bae8f87c554de5bd7ee7932b995014": {
      "model_module": "@jupyter-widgets/controls",
      "model_module_version": "1.5.0",
      "model_name": "SliderStyleModel",
      "state": {
       "description_width": ""
      }
     },
     "f2de24409906400e90770a95fedc4880": {
      "model_module": "@jupyter-widgets/base",
      "model_module_version": "1.2.0",
      "model_name": "LayoutModel",
      "state": {}
     },
     "f2f929053aa94eb5aebbac5db9bb557c": {
      "model_module": "@jupyter-widgets/controls",
      "model_module_version": "1.5.0",
      "model_name": "SliderStyleModel",
      "state": {
       "description_width": ""
      }
     },
     "f30aa82548dc424cbe6a0efa4112a61e": {
      "model_module": "@jupyter-widgets/controls",
      "model_module_version": "1.5.0",
      "model_name": "CheckboxModel",
      "state": {
       "description": "Disable Medicina",
       "disabled": false,
       "layout": "IPY_MODEL_eff1936c8b9a4367b4f972e10bced814",
       "style": "IPY_MODEL_a6fd4675999c4547af5885e7c83ae9d3",
       "value": false
      }
     },
     "f34f61d8ff7b4e66b50f2806a0706690": {
      "model_module": "@jupyter-widgets/controls",
      "model_module_version": "1.5.0",
      "model_name": "FloatSliderModel",
      "state": {
       "description": "0°",
       "layout": "IPY_MODEL_b16279f295d44d17913a1c8846107e6a",
       "max": 1,
       "min": -1,
       "step": 0.01,
       "style": "IPY_MODEL_40b465989a6342c2bca1c0f6ea16594d"
      }
     },
     "f399d237e7be484a95dee274b27ef5bd": {
      "model_module": "@jupyter-widgets/base",
      "model_module_version": "1.2.0",
      "model_name": "LayoutModel",
      "state": {}
     },
     "f429a28533d44923918fa23d94a5498c": {
      "model_module": "@jupyter-widgets/base",
      "model_module_version": "1.2.0",
      "model_name": "LayoutModel",
      "state": {}
     },
     "f490c162f62548c2a3cb2f0d22745ffe": {
      "model_module": "@jupyter-widgets/base",
      "model_module_version": "1.2.0",
      "model_name": "LayoutModel",
      "state": {}
     },
     "f4c9552644e64adeb879bbe6daf3c36a": {
      "model_module": "@jupyter-widgets/base",
      "model_module_version": "1.2.0",
      "model_name": "LayoutModel",
      "state": {}
     },
     "f4dddd8f4d2e440ab0dbf9bd0c50e693": {
      "model_module": "@jupyter-widgets/controls",
      "model_module_version": "1.5.0",
      "model_name": "ButtonModel",
      "state": {
       "description": "Export Image",
       "layout": "IPY_MODEL_d53a9749228f444e8dadc8a146198436",
       "style": "IPY_MODEL_ac13d2d08aa84f2280b8069f24dd6464"
      }
     },
     "f5a3d097827c45978b550831766933ab": {
      "model_module": "@jupyter-widgets/controls",
      "model_module_version": "1.5.0",
      "model_name": "FloatSliderModel",
      "state": {
       "description": "0°",
       "layout": "IPY_MODEL_e3fd1eb8979f413cb08601898b29aa46",
       "max": 1,
       "min": -1,
       "step": 0.01,
       "style": "IPY_MODEL_975607ff5cf04ad898a8e98fa6ac90de"
      }
     },
     "f6012315800a402ba2aec30670ac0400": {
      "model_module": "@jupyter-widgets/base",
      "model_module_version": "1.2.0",
      "model_name": "LayoutModel",
      "state": {}
     },
     "f60c04c309e6492daa68a36dd1fe6615": {
      "model_module": "@jupyter-widgets/controls",
      "model_module_version": "1.5.0",
      "model_name": "FloatSliderModel",
      "state": {
       "description": "270°",
       "layout": "IPY_MODEL_0cd23f9b62fe4b2d86e4cc5baf4b5220",
       "max": 1,
       "min": -1,
       "step": 0.01,
       "style": "IPY_MODEL_4c68b69557b14990ac1b05b7f9d3dd54"
      }
     },
     "f61ac631e67d431c9e7bb4c85c229fb4": {
      "model_module": "@jupyter-widgets/controls",
      "model_module_version": "1.5.0",
      "model_name": "FloatSliderModel",
      "state": {
       "description": "270°",
       "layout": "IPY_MODEL_026f832eb7574393b9105df89a6f85a1",
       "max": 1,
       "min": -1,
       "step": 0.01,
       "style": "IPY_MODEL_fca3ad1f4bfd4a719ba3bd8cac878c35"
      }
     },
     "f6e691939c0646e798fe5303304b1fe8": {
      "model_module": "@jupyter-widgets/base",
      "model_module_version": "1.2.0",
      "model_name": "LayoutModel",
      "state": {
       "align_items": "stretch",
       "display": "flex",
       "flex_flow": "column",
       "width": "1128px"
      }
     },
     "f6ef6d5768e44f1989abb17338139d25": {
      "model_module": "@jupyter-widgets/controls",
      "model_module_version": "1.5.0",
      "model_name": "ButtonStyleModel",
      "state": {}
     },
     "f7969a1a7e2d487a897731b1c19c4e50": {
      "model_module": "@jupyter-widgets/base",
      "model_module_version": "1.2.0",
      "model_name": "LayoutModel",
      "state": {}
     },
     "f7a2d2dd8b5040e895a74c5d0554b5c8": {
      "model_module": "@jupyter-widgets/controls",
      "model_module_version": "1.5.0",
      "model_name": "SliderStyleModel",
      "state": {
       "description_width": ""
      }
     },
     "f7afbc29c2604c04823e8618b63c9945": {
      "model_module": "@jupyter-widgets/base",
      "model_module_version": "1.2.0",
      "model_name": "LayoutModel",
      "state": {}
     },
     "f7f7a06cd5c44734bc3e87fbdc539dcc": {
      "model_module": "@jupyter-widgets/controls",
      "model_module_version": "1.5.0",
      "model_name": "HBoxModel",
      "state": {
       "children": [
        "IPY_MODEL_f95a79d0effd4fad8fbc2317cec8f093",
        "IPY_MODEL_68723d7e735e471a83cc3b2b5ceb2fae"
       ],
       "layout": "IPY_MODEL_835a1df04f5349e9acd9b7ea947ab928"
      }
     },
     "f7fad71bb49e4c71a225851d2e954563": {
      "model_module": "@jupyter-widgets/controls",
      "model_module_version": "1.5.0",
      "model_name": "ButtonModel",
      "state": {
       "description": "Reset Compression Controls",
       "layout": "IPY_MODEL_d83bc75097c645efa0430521ceeef66d",
       "style": "IPY_MODEL_034a99d037db46c8bd0bf93989471c7a"
      }
     },
     "f8565dd42765484299444fce04500486": {
      "model_module": "@jupyter-widgets/base",
      "model_module_version": "1.2.0",
      "model_name": "LayoutModel",
      "state": {}
     },
     "f8638b41cc7d4b16937039696ccb487c": {
      "model_module": "@jupyter-widgets/base",
      "model_module_version": "1.2.0",
      "model_name": "LayoutModel",
      "state": {}
     },
     "f8727324407341c79368a1e88428e567": {
      "model_module": "@jupyter-widgets/controls",
      "model_module_version": "1.5.0",
      "model_name": "ButtonStyleModel",
      "state": {}
     },
     "f8c3a0ab94c44b6ca29e3e157d694e62": {
      "model_module": "@jupyter-widgets/controls",
      "model_module_version": "1.5.0",
      "model_name": "SliderStyleModel",
      "state": {
       "description_width": ""
      }
     },
     "f8d078537c914f92a794c5bd3e583c6b": {
      "model_module": "@jupyter-widgets/controls",
      "model_module_version": "1.5.0",
      "model_name": "HBoxModel",
      "state": {
       "children": [
        "IPY_MODEL_7eb55ffaa11e4545ada1aab187fd6d98",
        "IPY_MODEL_d1e63165e698422ba72d89a68fc44b99",
        "IPY_MODEL_b6d481965c4d442aa0552339d74285c2"
       ],
       "layout": "IPY_MODEL_ac7442771b4d455eacfc8c17736ff499"
      }
     },
     "f8eef11987f748f9bb92e531bd687609": {
      "model_module": "@jupyter-widgets/controls",
      "model_module_version": "1.5.0",
      "model_name": "BoxModel",
      "state": {
       "children": [
        "IPY_MODEL_49e2b30b3fa24243a24325053ed5d6a7",
        "IPY_MODEL_809a7d6a4e64418cac17822f12441c1a"
       ],
       "layout": "IPY_MODEL_176d66e255d54d58ba3077b5a34547e6"
      }
     },
     "f94362bf803f4fb493e2df8a01890cb3": {
      "model_module": "@jupyter-widgets/controls",
      "model_module_version": "1.5.0",
      "model_name": "FloatSliderModel",
      "state": {
       "description": "45°",
       "layout": "IPY_MODEL_4ccafcc9ae004e05b061df4e8b38fd7b",
       "max": 1,
       "min": -1,
       "step": 0.01,
       "style": "IPY_MODEL_714727ac897c4b96b8b697be46b2a24a"
      }
     },
     "f95a79d0effd4fad8fbc2317cec8f093": {
      "model_module": "@jupyter-widgets/controls",
      "model_module_version": "1.5.0",
      "model_name": "ButtonModel",
      "state": {
       "description": "Reset Protected Area",
       "layout": "IPY_MODEL_da365978b0bf4190bd3a17ef92f406e0",
       "style": "IPY_MODEL_e9c6985de2464d66bf5d2f54f7e2208a"
      }
     },
     "f974b7242f254654a8fe4f772a2d828c": {
      "model_module": "@jupyter-widgets/controls",
      "model_module_version": "1.5.0",
      "model_name": "HBoxModel",
      "state": {
       "children": [
        "IPY_MODEL_a485e73533444f719e874b353b94ef5c",
        "IPY_MODEL_f06712426e74496db78ba6e81c2cdf38"
       ],
       "layout": "IPY_MODEL_220d3c46993a4dbcaff1c7746a02e994"
      }
     },
     "f981574f0f86471fa85c934031830f13": {
      "model_module": "@jupyter-widgets/controls",
      "model_module_version": "1.5.0",
      "model_name": "ButtonModel",
      "state": {
       "description": "Reset Protected Area",
       "layout": "IPY_MODEL_6a73869856fa420b8a85afc8fae897b3",
       "style": "IPY_MODEL_c340a5561a8642f9854d28ab7538155d"
      }
     },
     "f9e44b3d52b64112babd854494db92ab": {
      "model_module": "@jupyter-widgets/controls",
      "model_module_version": "1.5.0",
      "model_name": "SliderStyleModel",
      "state": {
       "description_width": ""
      }
     },
     "fa3a13ae867148429681aca1e6b5e223": {
      "model_module": "@jupyter-widgets/controls",
      "model_module_version": "1.5.0",
      "model_name": "FloatSliderModel",
      "state": {
       "description": "315°",
       "layout": "IPY_MODEL_4ef7711c71b642328f5989c9c34db04b",
       "max": 1,
       "min": -1,
       "step": 0.01,
       "style": "IPY_MODEL_29a7d75e7fc84fb990bf4fde9d2086ac"
      }
     },
     "fa7a9c2757cb491dac25de757834e997": {
      "model_module": "@jupyter-widgets/controls",
      "model_module_version": "1.5.0",
      "model_name": "ButtonStyleModel",
      "state": {}
     },
     "fafd313a5a60448f9c37ef237c3fbcc2": {
      "model_module": "@jupyter-widgets/controls",
      "model_module_version": "1.5.0",
      "model_name": "FloatSliderModel",
      "state": {
       "description": "225°",
       "layout": "IPY_MODEL_8d33b5321aac4aab8582d0d861aa5221",
       "max": 1,
       "min": -1,
       "step": 0.01,
       "style": "IPY_MODEL_bdc0d28d0a4f4b6089eaca2b314eefce"
      }
     },
     "fb04282b24c143878d8c0c70cf4bb77e": {
      "model_module": "@jupyter-widgets/controls",
      "model_module_version": "1.5.0",
      "model_name": "FloatSliderModel",
      "state": {
       "description": "135°",
       "layout": "IPY_MODEL_b325fb815a34407983c4e99b57afca1d",
       "max": 1,
       "min": -1,
       "step": 0.01,
       "style": "IPY_MODEL_60a4bef14fac4c3caa9b7bf4b0bcfff4"
      }
     },
     "fb566d34d18b48e7bf86cde720a73a4c": {
      "model_module": "@jupyter-widgets/base",
      "model_module_version": "1.2.0",
      "model_name": "LayoutModel",
      "state": {
       "border": "solid 4px #222",
       "margin": "4px",
       "padding": "0"
      }
     },
     "fb7c152c666a4a08b6a0966545449871": {
      "model_module": "@jupyter-widgets/base",
      "model_module_version": "1.2.0",
      "model_name": "LayoutModel",
      "state": {}
     },
     "fc2c86f8000447bc98ea62c9478157cb": {
      "model_module": "@jupyter-widgets/controls",
      "model_module_version": "1.5.0",
      "model_name": "TabModel",
      "state": {
       "_titles": {
        "0": "Global Controls",
        "1": "Protected Area Controls",
        "2": "Saturation Controls",
        "3": "Hue Controls"
       },
       "children": [
        "IPY_MODEL_d024ea4fb8ea4f78891472eb80deebe8",
        "IPY_MODEL_90829574f8bd470b8ae3343a07caf34d",
        "IPY_MODEL_e0f868ce57f8446096f82be84e129cf6",
        "IPY_MODEL_cfcedb4885974766af3f5b08cd31a63f"
       ],
       "layout": "IPY_MODEL_fb566d34d18b48e7bf86cde720a73a4c"
      }
     },
     "fc5819cb65fb45b8b9ca6a55b5ef7809": {
      "model_module": "@jupyter-widgets/base",
      "model_module_version": "1.2.0",
      "model_name": "LayoutModel",
      "state": {}
     },
     "fc701c8a15f344548aeee41352dc9332": {
      "model_module": "@jupyter-widgets/controls",
      "model_module_version": "1.5.0",
      "model_name": "HBoxModel",
      "state": {
       "children": [
        "IPY_MODEL_d1153ae74eeb475888ca2df4a8f83d08",
        "IPY_MODEL_e6d529566e394a8d939af2cbcb8c753a"
       ],
       "layout": "IPY_MODEL_ca66b911556949df85135f6878fc0a20"
      }
     },
     "fca3ad1f4bfd4a719ba3bd8cac878c35": {
      "model_module": "@jupyter-widgets/controls",
      "model_module_version": "1.5.0",
      "model_name": "SliderStyleModel",
      "state": {
       "description_width": ""
      }
     },
     "fd00b0dd85594f5da9afc49e56514cff": {
      "model_module": "@jupyter-widgets/base",
      "model_module_version": "1.2.0",
      "model_name": "LayoutModel",
      "state": {}
     },
     "fd3b548ba887476f8e3a80f2ca599b97": {
      "model_module": "@jupyter-widgets/controls",
      "model_module_version": "1.5.0",
      "model_name": "ButtonStyleModel",
      "state": {}
     },
     "fd71ab0e6c5d4a4181cf069c30433221": {
      "model_module": "@jupyter-widgets/base",
      "model_module_version": "1.2.0",
      "model_name": "LayoutModel",
      "state": {}
     },
     "fd8bf5fe787541978af4dcb1bf95bae5": {
      "model_module": "@jupyter-widgets/controls",
      "model_module_version": "1.5.0",
      "model_name": "VBoxModel",
      "state": {
       "children": [
        "IPY_MODEL_5bf57eaac64b4bdbad3fdf4f068f9924",
        "IPY_MODEL_b3961fb1a9bc4a8494b063ba405a87da"
       ],
       "layout": "IPY_MODEL_2947572ddfc44cad9a5cc04d17521b99"
      }
     },
     "fdaa1f916b5d4a7ea522d15bb4c3787e": {
      "model_module": "@jupyter-widgets/controls",
      "model_module_version": "1.5.0",
      "model_name": "ButtonStyleModel",
      "state": {}
     },
     "fdc6a168e96349659b2dfb5fc959c3b4": {
      "model_module": "@jupyter-widgets/controls",
      "model_module_version": "1.5.0",
      "model_name": "FloatSliderModel",
      "state": {
       "description": "Protected Area Threshold",
       "layout": "IPY_MODEL_9c9c0b79bdb94235bd23bfea34b66a26",
       "max": 1,
       "step": 0.01,
       "style": "IPY_MODEL_a8a03a25a42d4e9eaa80cedc78d77925",
       "value": 0.7
      }
     },
     "fdf95bea4ad946a4841c4197391b6e1e": {
      "model_module": "@jupyter-widgets/base",
      "model_module_version": "1.2.0",
      "model_name": "LayoutModel",
      "state": {}
     },
     "fdfc3135afbd46b8bf589b2e32176e51": {
      "model_module": "@jupyter-widgets/controls",
      "model_module_version": "1.5.0",
      "model_name": "VBoxModel",
      "state": {
       "children": [
        "IPY_MODEL_2326943ba4dc4b2486420b30fc31bc2d"
       ],
       "layout": "IPY_MODEL_9aaadbbe592d400aa46c94877694a227"
      }
     },
     "fe1591696ae4495f95716cded0a7123d": {
      "model_module": "jupyter-matplotlib",
      "model_module_version": "^0.7.2",
      "model_name": "ToolbarModel",
      "state": {
       "layout": "IPY_MODEL_aa8dc811e2414dd8a729ceace0d659fd",
       "toolitems": [
        [
         "Home",
         "Reset original view",
         "home",
         "home"
        ],
        [
         "Back",
         "Back to previous view",
         "arrow-left",
         "back"
        ],
        [
         "Forward",
         "Forward to next view",
         "arrow-right",
         "forward"
        ],
        [
         "Pan",
         "Pan axes with left mouse, zoom with right",
         "arrows",
         "pan"
        ],
        [
         "Zoom",
         "Zoom to rectangle",
         "square-o",
         "zoom"
        ],
        [
         "Download",
         "Download plot",
         "floppy-o",
         "save_figure"
        ]
       ]
      }
     },
     "fe16b81b3d8b4414b714e849cc796b32": {
      "model_module": "@jupyter-widgets/controls",
      "model_module_version": "1.5.0",
      "model_name": "HBoxModel",
      "state": {
       "children": [
        "IPY_MODEL_07044b269ec34eff9d631b97d186eda4",
        "IPY_MODEL_48876fcbb17942acbf1fc276fd300c77",
        "IPY_MODEL_93cc17a15b4f412ea620f4dca07406b1"
       ],
       "layout": "IPY_MODEL_b4cbddd726704dbba00cc37e3f418edd"
      }
     },
     "fef1f24d724e43aab0da3d3c4b672ab8": {
      "model_module": "@jupyter-widgets/controls",
      "model_module_version": "1.5.0",
      "model_name": "ButtonStyleModel",
      "state": {}
     },
     "ff09b988c9e44e51986ccffddff76255": {
      "model_module": "@jupyter-widgets/controls",
      "model_module_version": "1.5.0",
      "model_name": "CheckboxModel",
      "state": {
       "description": "Disable Medicina",
       "disabled": false,
       "layout": "IPY_MODEL_db0b87685ddb4b4abb34d5c5f8a8effa",
       "style": "IPY_MODEL_65ffc04dc1c9420f968a1faf655de212",
       "value": false
      }
     },
     "ff7be4aec0794cadb60b84ff9b631271": {
      "model_module": "@jupyter-widgets/controls",
      "model_module_version": "1.5.0",
      "model_name": "FloatSliderModel",
      "state": {
       "description": "0°",
       "layout": "IPY_MODEL_b9e9317c01ca4c428ecb2e7abdb0b523",
       "max": 1,
       "min": -1,
       "step": 0.01,
       "style": "IPY_MODEL_98a1a5c9c1194625867a1c0c6f521219"
      }
     }
    },
    "version_major": 2,
    "version_minor": 0
   }
  }
 },
 "nbformat": 4,
 "nbformat_minor": 4
}
