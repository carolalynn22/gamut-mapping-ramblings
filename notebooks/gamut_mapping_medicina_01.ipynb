{
 "cells": [
  {
   "cell_type": "markdown",
   "metadata": {
    "colab_type": "text",
    "id": "pRS6nhpu1R6y"
   },
   "source": [
    "# Gamut Mapping - Medicina 01"
   ]
  },
  {
   "cell_type": "markdown",
   "metadata": {},
   "source": [
    "## Introduction"
   ]
  },
  {
   "cell_type": "markdown",
   "metadata": {},
   "source": [
    "This notebook implements an interactive widget used to investigate various gamut models in the context of the [ACES VWG on Gamut Mapping](https://community.acescentral.com/c/aces-development-acesnext/vwg-aces-gamut-mapping-working-group/).\n",
    "\n",
    "It is assumed that the reader has basic knowledge about image processing and colour management in the Media and Entertainment Industry. An introductory publication on the topic is [Cinematic Color: From Your Monitor to the Big Screen](https://cinematiccolor.org/) by Selan (2012).\n",
    "\n",
    "Images courtesy of:\n",
    "\n",
    "- [Justin Holt](https://www.dropbox.com/sh/u6z2a0jboo4vno8/AAB-10qcflhpr0C5LWhs7Kq4a?dl=0)\n",
    "- [Thomas Mansencal](https://community.acescentral.com/t/spectral-images-generation-and-processing/)\n",
    "- [Fabian Matas](https://www.dropbox.com/sh/u6z2a0jboo4vno8/AAB-10qcflhpr0C5LWhs7Kq4a?dl=0)\n",
    "- [Carol Payne](https://www.dropbox.com/sh/u6z2a0jboo4vno8/AAB-10qcflhpr0C5LWhs7Kq4a?dl=0)\n",
    "- [Martin Smekal](https://community.acescentral.com/t/vfx-work-in-acescg-with-out-of-gamut-devices/2385)"
   ]
  },
  {
   "cell_type": "markdown",
   "metadata": {},
   "source": [
    "## Imports & Overall Settings"
   ]
  },
  {
   "cell_type": "code",
   "execution_count": 1,
   "metadata": {},
   "outputs": [],
   "source": [
    "%matplotlib widget"
   ]
  },
  {
   "cell_type": "code",
   "execution_count": 2,
   "metadata": {
    "colab": {
     "base_uri": "https://localhost:8080/",
     "height": 340
    },
    "colab_type": "code",
    "id": "OydMmtZRxd3c",
    "outputId": "297a43b9-f566-405d-e8bc-cfae56b50959"
   },
   "outputs": [
    {
     "name": "stdout",
     "output_type": "stream",
     "text": [
      "===============================================================================\n",
      "*                                                                             *\n",
      "*   Interpreter :                                                             *\n",
      "*       python : 3.7.6 (default, Dec 30 2019, 19:38:26)                       *\n",
      "*                [Clang 11.0.0 (clang-1100.0.33.16)]                          *\n",
      "*                                                                             *\n",
      "*   colour-science.org :                                                      *\n",
      "*       colour : v0.3.15-141-g3bebd7e9                                        *\n",
      "*                                                                             *\n",
      "*   Runtime :                                                                 *\n",
      "*       imageio : 2.8.0                                                       *\n",
      "*       matplotlib : 3.0.3                                                    *\n",
      "*       numpy : 1.18.4                                                        *\n",
      "*       scipy : 1.4.1                                                         *\n",
      "*       six : 1.14.0                                                          *\n",
      "*                                                                             *\n",
      "===============================================================================\n"
     ]
    }
   ],
   "source": [
    "from __future__ import division, unicode_literals\n",
    "\n",
    "import colour\n",
    "import ipympl.backend_nbagg\n",
    "import ipywidgets\n",
    "import matplotlib.gridspec as gridspec\n",
    "import matplotlib.patches as patches\n",
    "import matplotlib.pyplot as plt\n",
    "import numpy as np\n",
    "import os\n",
    "import scipy.interpolate\n",
    "from matplotlib.collections import PathCollection\n",
    "from matplotlib._layoutbox import plot_children\n",
    "\n",
    "DEFAULT_BOX_DECORATION_WIDTH = 4\n",
    "MPL_BOX_DECORATION_WIDTH = 28\n",
    "\n",
    "COLOUR_STYLE = colour.plotting.colour_style()\n",
    "COLOUR_STYLE.update({\n",
    "    'legend.framealpha':\n",
    "    colour.plotting.COLOUR_STYLE_CONSTANTS.opacity.low\n",
    "})\n",
    "\n",
    "plt.style.use(COLOUR_STYLE)\n",
    "\n",
    "plt.style.use('dark_background')\n",
    "\n",
    "colour.utilities.describe_environment()\n",
    "\n",
    "colour.utilities.filter_warnings(*[True] * 4);"
   ]
  },
  {
   "cell_type": "markdown",
   "metadata": {},
   "source": [
    "## Widgets Styling"
   ]
  },
  {
   "cell_type": "markdown",
   "metadata": {},
   "source": [
    "CSS style for various widgets to improve overall presentation."
   ]
  },
  {
   "cell_type": "code",
   "execution_count": 3,
   "metadata": {},
   "outputs": [
    {
     "data": {
      "text/html": [
       "<style>\n",
       ".widget-button {\n",
       "    margin-left: 10px;\n",
       "    margin-right: 10px;\n",
       "}\n",
       "</style>\n"
      ],
      "text/plain": [
       "<IPython.core.display.HTML object>"
      ]
     },
     "metadata": {},
     "output_type": "display_data"
    }
   ],
   "source": [
    "%%html\n",
    "<style>\n",
    ".widget-button {\n",
    "    margin-left: 10px;\n",
    "    margin-right: 10px;\n",
    "}\n",
    "</style>"
   ]
  },
  {
   "cell_type": "markdown",
   "metadata": {
    "colab_type": "text",
    "id": "5yCeFpnnp_wh"
   },
   "source": [
    "## Colour Wheel Generation"
   ]
  },
  {
   "cell_type": "markdown",
   "metadata": {},
   "source": [
    "Utility function responsible to produce a scene-referred colour wheel."
   ]
  },
  {
   "cell_type": "code",
   "execution_count": 4,
   "metadata": {
    "colab": {},
    "colab_type": "code",
    "id": "RshonIbOI4Ij"
   },
   "outputs": [],
   "source": [
    "def colour_wheel(samples=1024, clip_circle=False, method='Colour'):\n",
    "    xx, yy = np.meshgrid(\n",
    "        np.linspace(-1, 1, samples), np.linspace(-1, 1, samples))\n",
    "\n",
    "    S = np.sqrt(xx ** 2 + yy ** 2)    \n",
    "    H = (np.arctan2(xx, yy) + np.pi) / (np.pi * 2)\n",
    "\n",
    "    HSV = colour.utilities.tstack([H, S, np.ones(H.shape)])\n",
    "    RGB = colour.HSV_to_RGB(HSV)\n",
    "\n",
    "    if clip_circle == True:\n",
    "        RGB[S > 1] = 0\n",
    "        A = np.where(S > 1, 0, 1)\n",
    "    else:\n",
    "        A = np.ones(S.shape)\n",
    "\n",
    "    if method.lower()== 'matplotlib':\n",
    "        RGB = colour.utilities.orient(RGB, '90 CW')\n",
    "    elif method.lower()== 'nuke':\n",
    "        RGB = colour.utilities.orient(RGB, 'Flip')\n",
    "        RGB = colour.utilities.orient(RGB, '90 CW')\n",
    "\n",
    "    R, G, B = colour.utilities.tsplit(RGB)\n",
    "    \n",
    "    return colour.utilities.tstack([R, G, B, A])"
   ]
  },
  {
   "cell_type": "markdown",
   "metadata": {},
   "source": [
    "## Utility Functions & Objects"
   ]
  },
  {
   "cell_type": "markdown",
   "metadata": {},
   "source": [
    "Various random utility functions and objects."
   ]
  },
  {
   "cell_type": "code",
   "execution_count": 5,
   "metadata": {},
   "outputs": [],
   "source": [
    "def batch(sequence, count):\n",
    "    for i in range(0, len(sequence), count):\n",
    "        yield sequence[i:i + count]\n",
    "        \n",
    "\n",
    "def border_layout():\n",
    "    return ipywidgets.widgets.Layout(\n",
    "        border='solid {0}px #222'.format(4),\n",
    "        margin='{0}px'.format(DEFAULT_BOX_DECORATION_WIDTH),\n",
    "        padding='0')\n",
    "\n",
    "\n",
    "def adjust_exposure(a, EV):\n",
    "    a = colour.utilities.as_float_array(a)\n",
    "\n",
    "    return a * pow(2, EV)"
   ]
  },
  {
   "cell_type": "markdown",
   "metadata": {},
   "source": [
    "## View Transforms"
   ]
  },
  {
   "cell_type": "markdown",
   "metadata": {},
   "source": [
    "Because the imagery represents scene-referred exposure values, the gamut mapped images should ideally be viewed with an appropriate *View Transform*, typically an *ACES RRT + sRGB ODT* transforms combination.\n",
    "\n",
    "The notebook implements the following *View Transforms*:\n",
    "\n",
    "- *sRGB*: Performs a transformation from the working space to the *sRGB* colourspace and applies the *sRGB* inverse *Electro-Optical Transfer Function*.\n",
    "- *sRGB (ACES)*: Performs a transformation from the working space to the *[ACES sRGB Output Device Transform](https://github.com/ampas/aces-dev/blob/master/transforms/ctl/odt/sRGB/ODT.Academy.sRGB_100nits_dim.ctl)*."
   ]
  },
  {
   "cell_type": "code",
   "execution_count": 6,
   "metadata": {},
   "outputs": [],
   "source": [
    "def view_transform_sRGB(RGB, working_space):\n",
    "    RGB = colour.RGB_to_RGB(RGB, working_space, colour.models.sRGB_COLOURSPACE,\n",
    "                            apply_encoding_cctf=True)\n",
    "\n",
    "    return np.clip(RGB, 0, 1)\n",
    "\n",
    "\n",
    "def view_transform_Display_P3(RGB, working_space):\n",
    "    RGB = colour.RGB_to_RGB(RGB, working_space, colour.models.DISPLAY_P3_COLOURSPACE,\n",
    "                            apply_encoding_cctf=True)\n",
    "\n",
    "    return np.clip(RGB, 0, 1)\n",
    "\n",
    "\n",
    "ACES_sRGB_LUT = colour.read_LUT('../resources/luts/ACES2065-1_sRGB_OT.csp')\n",
    "ACES_Display_P3_LUT = colour.read_LUT('../resources/luts/ACES2065-1_display_P3_OT.csp')\n",
    "\n",
    "\n",
    "def view_transform_sRGB_ACES(RGB, working_space):\n",
    "    RGB = colour.RGB_to_RGB(RGB, working_space,\n",
    "                            colour.models.ACES_2065_1_COLOURSPACE)\n",
    "    RGB = ACES_sRGB_LUT.apply(np.clip(RGB, 0.001186, 222.860992))\n",
    "\n",
    "    return RGB\n",
    "\n",
    "\n",
    "def view_transform_Display_P3_ACES(RGB, working_space):\n",
    "    RGB = colour.RGB_to_RGB(RGB, working_space,\n",
    "                            colour.models.ACES_2065_1_COLOURSPACE)\n",
    "    RGB = ACES_Display_P3_LUT.apply(np.clip(RGB, 0.001186, 222.860992))\n",
    "\n",
    "    return RGB\n",
    "\n",
    "\n",
    "VIEW_TRANSFORMS = {\n",
    "    'sRGB': view_transform_sRGB,\n",
    "    'sRGB (ACES)': view_transform_sRGB_ACES,\n",
    "    'Display P3': view_transform_Display_P3,\n",
    "    'Display P3 (ACES)': view_transform_Display_P3_ACES,\n",
    "}"
   ]
  },
  {
   "cell_type": "markdown",
   "metadata": {},
   "source": [
    "## Gamut Medicina Base Widget"
   ]
  },
  {
   "cell_type": "markdown",
   "metadata": {},
   "source": [
    "The `GamutMedicinaBaseWidget` base widget class is inherited by the concrete sub-classes implementing the various gamut mapping study models.\n",
    "\n",
    "At its core it is itself an `ipywidgets.widgets.Box` sub-class which outputs a [Matplotlib](http://matplotlib.org/) figure composed of three sub-plots:\n",
    "\n",
    "- **Reference Image**: Required, 1 cartesian `Axes`\n",
    "- **Colour Wheel**: Optional, 1 cartesian `Axes` and 1 polar `Axes`\n",
    "- **Chromaticity Diagram**: Optional, 1 cartesian `Axes`\n",
    "\n",
    "Trivial layout heuristic is implemented to support optionally enabling or disabling the **Colour Wheel** and **Chromaticity Diagram** sub-plots."
   ]
  },
  {
   "cell_type": "markdown",
   "metadata": {},
   "source": [
    "### Reference Image"
   ]
  },
  {
   "cell_type": "markdown",
   "metadata": {},
   "source": [
    "The **Reference Image** sub-plot is responsible for displaying the gamut mapped scene-referred imagery.\n",
    "\n",
    "*Note*\n",
    "\n",
    "> To improve the performance of the notebook, the *View Transform*, i.e. a S-Curve, converting the scene-referred imagery to output-referred values is omitted."
   ]
  },
  {
   "cell_type": "markdown",
   "metadata": {},
   "source": [
    "### Colour Wheel"
   ]
  },
  {
   "cell_type": "markdown",
   "metadata": {},
   "source": [
    "The **Colour Wheel** sub-plot is used to represent the controls for the gamut mapping study models adopting a cylindrical or conic working space.\n",
    "\n",
    "The colour wheel is drawn on a cartesian `Axes` on top of which is overlayed a polar `Axes` used to draw the control regions."
   ]
  },
  {
   "cell_type": "markdown",
   "metadata": {},
   "source": [
    "### Chromaticity Diagram"
   ]
  },
  {
   "cell_type": "markdown",
   "metadata": {},
   "source": [
    "The **Chromaticity Diagram** sub-plot is also used to represent the controls for the gamut mapping study models into the *Chromaticity Diagram 1976 UCS* based on the [CIE L\\*u\\*v\\*](https://fr.wikipedia.org/wiki/L*u*v*_CIE_1976) colourspace.\n",
    "\n",
    "It also features the following elements:\n",
    "\n",
    "- *RGB Working Space* gamut, i.e. *ACEScg/AP1*, large triangle\n",
    "- *RGB Display Space* gamut, i.e. *sRGB*, small triangle\n",
    "- Scatter of the decimated **Reference Image** data\n",
    "- Scatter of the ColorChecker Classic data, white scatter points\n"
   ]
  },
  {
   "cell_type": "code",
   "execution_count": 7,
   "metadata": {},
   "outputs": [
    {
     "data": {
      "application/vnd.jupyter.widget-view+json": {
       "model_id": "912623c8a5e44c93868d9b0c47241988",
       "version_major": 2,
       "version_minor": 0
      },
      "text/plain": [
       "GamutMedicinaBaseWidget(children=(Output(layout=Layout(border='solid 4px #222', margin='4px', padding='0')), T…"
      ]
     },
     "metadata": {},
     "output_type": "display_data"
    }
   ],
   "source": [
    "class GamutMedicinaBaseWidget(ipywidgets.widgets.Box):\n",
    "    def __init__(self,\n",
    "                 reference_image_path=None,\n",
    "                 working_space=colour.models.ACES_CG_COLOURSPACE,\n",
    "                 reference_space=colour.models.ACES_2065_1_COLOURSPACE,\n",
    "                 display_space=colour.models.sRGB_COLOURSPACE,\n",
    "                 view_transform='sRGB',\n",
    "                 colour_wheel_samples=256,\n",
    "                 image_decimation=10,\n",
    "                 reference_image_exposure=0,\n",
    "                 figure_size=(11, None),\n",
    "                 padding=0.005,\n",
    "                 spacing=0.005,\n",
    "                 show_labels=False,\n",
    "                 enable_colour_wheel=True,\n",
    "                 enable_chromaticity_diagram=True,\n",
    "                 show_out_of_gamut=False,\n",
    "                 exposure_value=0,\n",
    "                 enable_medicina=True,\n",
    "                 debug_layout=False):\n",
    "        super().__init__()\n",
    "\n",
    "        self._reference_image_path = reference_image_path\n",
    "        self._working_space = working_space\n",
    "        self._reference_space = reference_space\n",
    "        self._display_space = display_space\n",
    "        self._view_transform = view_transform\n",
    "        self._colour_wheel_samples = colour_wheel_samples\n",
    "        self._image_decimation = image_decimation\n",
    "        self._reference_image_exposure = reference_image_exposure\n",
    "        self._figure_size = figure_size\n",
    "        self._padding = padding\n",
    "        self._spacing = spacing\n",
    "        self._show_labels = show_labels\n",
    "        self._exposure_value = exposure_value\n",
    "        self._enable_colour_wheel = enable_colour_wheel\n",
    "        self._enable_chromaticity_diagram = enable_chromaticity_diagram\n",
    "\n",
    "        self._show_out_of_gamut = show_out_of_gamut\n",
    "        self._enable_medicina = enable_medicina\n",
    "\n",
    "        self._reference_image = None\n",
    "        self._reference_image_pre_working = None\n",
    "        self._reference_image_working = None\n",
    "        self._reference_image_mapped = None\n",
    "        self._reference_image_display = None\n",
    "\n",
    "        if self._enable_colour_wheel:\n",
    "            self._colour_wheel = None\n",
    "\n",
    "        if self._enable_chromaticity_diagram:\n",
    "            self._decimated_image_pre_working = None\n",
    "            self._decimated_image_working = None\n",
    "            self._decimated_image_display = None\n",
    "\n",
    "        self._colour_checker = None\n",
    "        self._colour_checker_uv = None\n",
    "\n",
    "        self._output = None\n",
    "        self._figure = None\n",
    "        self._grid_spec = None\n",
    "        self._reference_image_axes = None\n",
    "        self._reference_image_imshow = None\n",
    "\n",
    "        if self._enable_colour_wheel:\n",
    "            self._colour_wheel_cartersian_axes = None\n",
    "            self._colour_wheel_imshow = None\n",
    "            self._colour_wheel_polar_axes = None\n",
    "\n",
    "        if self._enable_chromaticity_diagram:\n",
    "            self._chromaticity_diagram_axes = None\n",
    "\n",
    "        self._widget_name_HTML = None\n",
    "        self._disable_medidicina_CheckBox = None\n",
    "        self._export_reference_image_Button = None\n",
    "        self._save_figure_image_Button = None\n",
    "        self._view_transform_DropDown = None\n",
    "        self._reset_exposure_Button = None\n",
    "        self._exposure_FloatSlider = None\n",
    "        self._show_out_of_gamut_CheckBox = None\n",
    "        self._global_controls_HBox = None\n",
    "        self._viewer_controls_HBox = None\n",
    "        self._controls_Tab = None\n",
    "\n",
    "        self.initialize_data()\n",
    "        self.initialize_axes()\n",
    "        self.initialise_widgets()\n",
    "        self.attach_callbacks()\n",
    "\n",
    "        if debug_layout:\n",
    "            plot_children(self._figure, self._figure._layoutbox, printit=False)\n",
    "\n",
    "    def initialize_data(self):\n",
    "        # *** Reference Image ***\n",
    "        self._reference_image = colour.utilities.as_float_array((\n",
    "            colour.read_image(self._reference_image_path)\n",
    "        ) if self._reference_image_path is not None else np.random.rand(\n",
    "            540, 960, 3))\n",
    "        self._reference_image_path = (self._reference_image_path\n",
    "                                      if self._reference_image_path is not None\n",
    "                                      else 'Random.exr')\n",
    "        self._reference_image_pre_working = self.reference_space_to_working_space(\n",
    "            self._reference_image)\n",
    "\n",
    "        self._reference_image_working = self._reference_image_pre_working\n",
    "        self._reference_image_mapped = self._reference_image_pre_working\n",
    "        self._reference_image_display = self.working_space_to_display_space(\n",
    "            self._reference_image_working)\n",
    "\n",
    "        # *** Colour Wheel ***\n",
    "        if self._enable_colour_wheel:\n",
    "            self._colour_wheel = colour_wheel(\n",
    "                self._colour_wheel_samples, method='Matplotlib')[..., 0:3]\n",
    "\n",
    "        # *** Decimated Image, i.e. Scatter ***\n",
    "        if self._enable_chromaticity_diagram:\n",
    "            self._decimated_image_pre_working = (\n",
    "                self._reference_image_working[::self._image_decimation, ::self.\n",
    "                                              _image_decimation, :]).reshape(\n",
    "                                                  -1, 3)\n",
    "\n",
    "            self._decimated_image_pre_working = \\\n",
    "            self._decimated_image_pre_working[\n",
    "                self._decimated_image_pre_working[:, 1].argsort()]\n",
    "            self._decimated_image_working = self._decimated_image_pre_working\n",
    "            self._decimated_image_display = (\n",
    "                self.working_space_to_display_space(\n",
    "                    self._decimated_image_working))\n",
    "\n",
    "        # *** Colour Checker\n",
    "        colour_checker = colour.COLOURCHECKERS[\n",
    "            'ColorChecker24 - After November 2014']\n",
    "        colour_checker_data = colour.utilities.as_float_array(\n",
    "            list(colour_checker.data.values()))\n",
    "        self._colour_checker_uv = colour.xy_to_Luv_uv(\n",
    "            colour_checker_data[:, 0:2])\n",
    "\n",
    "    def initialize_axes(self):\n",
    "        self._output = ipywidgets.widgets.Output()\n",
    "\n",
    "        image_height, image_width, channels = self._reference_image.shape\n",
    "        if self._figure_size[-1] is None:\n",
    "            if self._enable_colour_wheel and self._enable_chromaticity_diagram:\n",
    "                width = image_height / 2 + image_width\n",
    "                height = image_height - self._padding * 100 - self._spacing * 100\n",
    "                # Unresolved fudge factor to ensure plots line up.\n",
    "                height -= int(height * 0.05)\n",
    "            elif self._enable_colour_wheel or self._enable_chromaticity_diagram:\n",
    "                width = image_height + image_width\n",
    "                height = image_height\n",
    "            else:\n",
    "                width = image_width\n",
    "                height = image_height\n",
    "            ratio = self._figure_size[0] * 100 / width\n",
    "            figure_size = (width / 100 * ratio, height / 100 * ratio)\n",
    "        else:\n",
    "            figure_size = self._figure_size\n",
    "\n",
    "        with self._output:\n",
    "            self._figure = plt.figure(\n",
    "                figsize=figure_size,\n",
    "                constrained_layout=True,\n",
    "                facecolor=[2 / 3 / 10] * 3)\n",
    "            self._figure.canvas.toolbar_visible = False\n",
    "            self._figure.canvas.header_visible = False\n",
    "            self._figure.canvas.footer_visible = False\n",
    "            self._figure.canvas.resizable = False\n",
    "            self._figure.tight_layout()\n",
    "\n",
    "        if self._enable_colour_wheel and self._enable_chromaticity_diagram:\n",
    "            rows = columns = 2\n",
    "            colour_wheel_indices = 0, 0\n",
    "            chromaticity_diagram_indices = 1, 0\n",
    "            reference_image_indices = slice(0, None, None), slice(\n",
    "                1, None, None)\n",
    "            width_ratios = [1, 2 * image_width / image_height]\n",
    "        elif not self._enable_colour_wheel and not self._enable_chromaticity_diagram:\n",
    "            rows = columns = 1\n",
    "            colour_wheel_indices = chromaticity_diagram_indices = None\n",
    "            reference_image_indices = 0, 0\n",
    "            width_ratios = [1]\n",
    "        else:\n",
    "            rows = 1\n",
    "            columns = 2\n",
    "            colour_wheel_indices = chromaticity_diagram_indices = 0, 0\n",
    "            reference_image_indices = 0, 1\n",
    "            width_ratios = [1, image_width / image_height]\n",
    "\n",
    "        self._grid_spec = gridspec.GridSpec(\n",
    "            ncols=columns,\n",
    "            nrows=rows,\n",
    "            figure=self._figure,\n",
    "            width_ratios=width_ratios,\n",
    "            wspace=self._spacing,\n",
    "            hspace=self._spacing)\n",
    "        self._figure.set_constrained_layout_pads(\n",
    "            w_pad=self._padding, h_pad=self._padding)\n",
    "\n",
    "        # Colour Wheel Axes\n",
    "        if self._enable_colour_wheel:\n",
    "            self._colour_wheel_cartersian_axes = self._figure.add_subplot(\n",
    "                self._grid_spec[colour_wheel_indices[0], colour_wheel_indices[\n",
    "                    1]],\n",
    "                label='Cartesian Axes')\n",
    "            self._colour_wheel_cartersian_axes.axis('off')\n",
    "            circle = patches.Circle(\n",
    "                [0.5, 0.5],\n",
    "                radius=0.5,\n",
    "                transform=self._colour_wheel_cartersian_axes.transData)\n",
    "            self._colour_wheel_imshow = self._colour_wheel_cartersian_axes.imshow(\n",
    "                np.clip(self._colour_wheel, 0, 1),\n",
    "                extent=[0, 1, 0, 1],\n",
    "                clip_path=None)\n",
    "            self._colour_wheel_imshow.set_clip_path(circle)\n",
    "\n",
    "            self._colour_wheel_polar_axes = self._figure.add_subplot(\n",
    "                self._grid_spec[colour_wheel_indices[0], colour_wheel_indices[\n",
    "                    1]],\n",
    "                projection='polar',\n",
    "                label='Polar Axes')\n",
    "            self._colour_wheel_polar_axes.set_xlim(0, np.pi * 2)\n",
    "            self._colour_wheel_polar_axes.set_ylim(0, 1)\n",
    "            self._colour_wheel_polar_axes.patch.set_alpha(0)\n",
    "            self._colour_wheel_polar_axes.grid(alpha=0.15)\n",
    "            if not self._show_labels:\n",
    "                self._colour_wheel_polar_axes.set_xticklabels([])\n",
    "            self._colour_wheel_polar_axes.set_yticklabels([])\n",
    "\n",
    "        # Chromaticity Diagram Axes\n",
    "        if self._enable_chromaticity_diagram:\n",
    "            self._chromaticity_diagram_axes = self._figure.add_subplot(\n",
    "                self._grid_spec[chromaticity_diagram_indices[0],\n",
    "                                chromaticity_diagram_indices[1]])\n",
    "            self._chromaticity_diagram_axes.patch.set_alpha(0)\n",
    "            (colour.plotting.\n",
    "             plot_RGB_chromaticities_in_chromaticity_diagram_CIE1976UCS(\n",
    "                 self._decimated_image_working,\n",
    "                 colourspace=self._working_space,\n",
    "                 colourspaces=['sRGB'],\n",
    "                 axes=self._chromaticity_diagram_axes,\n",
    "                 standalone=False,\n",
    "                 transparent_background=False,\n",
    "                 spectral_locus_colours='RGB',\n",
    "                 spectral_locus_labels=[],\n",
    "                 diagram_opacity=0,\n",
    "                 scatter_kwargs={'s': 1},\n",
    "                 title=str(),\n",
    "                 x_label=str(),\n",
    "                 y_label=str(),\n",
    "                 legend=False))\n",
    "            self._chromaticity_diagram_axes.tick_params(\n",
    "                axis='y', which='both', direction='in')\n",
    "            self._chromaticity_diagram_axes.tick_params(\n",
    "                axis='x', which='both', direction='in')\n",
    "            self._chromaticity_diagram_axes.minorticks_off()\n",
    "            self._chromaticity_diagram_axes.grid(alpha=0.15)\n",
    "            for collection in self._chromaticity_diagram_axes.collections:\n",
    "                if isinstance(collection, PathCollection):\n",
    "                    self._scatter_path_collection = collection\n",
    "                    break\n",
    "\n",
    "            if not self._show_labels:\n",
    "                self._chromaticity_diagram_axes.set_xticklabels([])\n",
    "                self._chromaticity_diagram_axes.set_yticklabels([])\n",
    "\n",
    "            self._chromaticity_diagram_axes.scatter(\n",
    "                self._colour_checker_uv[:, 0],\n",
    "                self._colour_checker_uv[:, 1],\n",
    "                c='white',\n",
    "                marker='D',\n",
    "                s=5)\n",
    "\n",
    "        # Reference Image Axes\n",
    "        self._reference_image_axes = self._figure.add_subplot(self._grid_spec[\n",
    "            reference_image_indices[0], reference_image_indices[1]])\n",
    "        self._reference_image_axes.set_xticks([])\n",
    "        self._reference_image_axes.set_yticks([])\n",
    "        self._reference_image_imshow = self._reference_image_axes.imshow(\n",
    "            self.working_space_to_display_space(self._reference_image_working))\n",
    "\n",
    "    def initialise_widgets(self):\n",
    "        # *** Widgets ***\n",
    "        self._widget_name_HTML = ipywidgets.widgets.HTML(\n",
    "            value=('<span style=\"color: #3498DB; font-size: 1.25rem\">'\n",
    "                   '<b>Gamut Medicina Widget</b></span>'))\n",
    "        self._disable_medidicina_CheckBox = (ipywidgets.widgets.Checkbox(\n",
    "            value=not self._enable_medicina, description='Disable Medicina'))\n",
    "        self._export_reference_image_Button = (\n",
    "            ipywidgets.widgets.Button(description=\"Export Image\"))\n",
    "        self._save_figure_image_Button = (\n",
    "            ipywidgets.widgets.Button(description=\"Save Figure\"))\n",
    "\n",
    "        view_transforms = list(VIEW_TRANSFORMS.keys())\n",
    "        self._view_transform_DropDown = ipywidgets.widgets.Dropdown(\n",
    "            options=view_transforms,\n",
    "            value=self._view_transform,\n",
    "            description='View Transform:',\n",
    "        )\n",
    "        self._reset_exposure_Button = (\n",
    "            ipywidgets.widgets.Button(description=\"Reset Exposure\"))\n",
    "        self._exposure_FloatSlider = (ipywidgets.widgets.FloatSlider(\n",
    "            min=-8.0,\n",
    "            max=8.0,\n",
    "            step=0.1,\n",
    "            value=self._reference_image_exposure,\n",
    "            description='Exposure'))\n",
    "        self._show_out_of_gamut_CheckBox = (ipywidgets.widgets.Checkbox(\n",
    "            value=self._show_out_of_gamut, description='Show Out-of-Gamut'))\n",
    "\n",
    "        # *** Layout ***\n",
    "        self.layout.display = 'flex'\n",
    "        self.layout.flex_flow = 'column'\n",
    "        self.layout.align_items = 'stretch'\n",
    "        self.layout.width = '{0}px'.format(self._figure_size[0] * 100 +\n",
    "                                           MPL_BOX_DECORATION_WIDTH)\n",
    "\n",
    "        self._global_controls_HBox = ipywidgets.widgets.HBox([\n",
    "            self._widget_name_HTML,\n",
    "            self._disable_medidicina_CheckBox,\n",
    "            self._export_reference_image_Button,\n",
    "            self._save_figure_image_Button,\n",
    "        ])\n",
    "\n",
    "        self._viewer_controls_HBox = ipywidgets.widgets.HBox([\n",
    "            self._view_transform_DropDown,\n",
    "            self._reset_exposure_Button,\n",
    "            self._exposure_FloatSlider,\n",
    "            self._show_out_of_gamut_CheckBox,\n",
    "        ])\n",
    "\n",
    "        self._controls_Tab = ipywidgets.widgets.Tab(children=[\n",
    "            self._global_controls_HBox,\n",
    "            self._viewer_controls_HBox,\n",
    "        ])\n",
    "        self._controls_Tab.set_title(0, 'Global Controls')\n",
    "        self._controls_Tab.set_title(1, 'Viewer Controls')\n",
    "\n",
    "        self._controls_Tab.layout = border_layout()\n",
    "\n",
    "        self._output.layout = border_layout()\n",
    "        self.children = [self._output, self._controls_Tab]\n",
    "\n",
    "    def attach_callbacks(self):\n",
    "        self._disable_medidicina_CheckBox.observe(self.toggle_medidicina)\n",
    "        self._export_reference_image_Button.on_click(\n",
    "            self.export_reference_image)\n",
    "        self._save_figure_image_Button.on_click(self.save_figure)\n",
    "        self._show_out_of_gamut_CheckBox.observe(self.toggle_out_of_gamut)\n",
    "        self._reset_exposure_Button.on_click(self.reset_exposure)\n",
    "        self._exposure_FloatSlider.observe(self.update_widget, 'value')\n",
    "        self._view_transform_DropDown.observe(self.update_widget, 'value')\n",
    "\n",
    "    def reference_space_to_working_space(self, RGB):\n",
    "        return colour.RGB_to_RGB(RGB, self._reference_space,\n",
    "                                 self._working_space)\n",
    "\n",
    "    def working_space_to_reference_space(self, RGB):\n",
    "        return colour.RGB_to_RGB(RGB, self._working_space,\n",
    "                                 self._reference_space)\n",
    "\n",
    "    def working_space_to_display_space(self, RGB, show_out_of_gamut=False):\n",
    "        RGB = np.copy(RGB)\n",
    "\n",
    "        if show_out_of_gamut:\n",
    "            RGB[RGB > 0] = 0\n",
    "            RGB[RGB < 0] = 1\n",
    "\n",
    "        return VIEW_TRANSFORMS[self._view_transform](RGB, self._working_space)\n",
    "\n",
    "    def update_scatter_plot(self, RGB):\n",
    "        if self._enable_chromaticity_diagram:\n",
    "            XYZ = colour.RGB_to_XYZ(RGB, self._working_space.whitepoint,\n",
    "                                    self._working_space.whitepoint,\n",
    "                                    self._working_space.RGB_to_XYZ_matrix)\n",
    "            uv = colour.Luv_to_uv(\n",
    "                colour.XYZ_to_Luv(XYZ, self._working_space.whitepoint),\n",
    "                self._working_space.whitepoint)\n",
    "\n",
    "            self._scatter_path_collection.set_offsets(uv)\n",
    "            self._scatter_path_collection.set_facecolor(\n",
    "                self.working_space_to_display_space(\n",
    "                    RGB,\n",
    "                    show_out_of_gamut=self._show_out_of_gamut_CheckBox.value))\n",
    "\n",
    "    def toggle_medidicina(self, change):\n",
    "        if not change:\n",
    "            return\n",
    "\n",
    "        if change['name'] == 'value':\n",
    "            self._enable_medicina = not change['new']\n",
    "\n",
    "            self.update_widget(None)\n",
    "\n",
    "    def export_reference_image(self, change):\n",
    "        path = os.path.splitext(self._reference_image_path)[0]\n",
    "\n",
    "        colour.write_image(\n",
    "            self.working_space_to_reference_space(\n",
    "                self._reference_image_mapped), '{0}_{1}.exr'.format(\n",
    "                    path, self.__class__.__name__))\n",
    "\n",
    "    def save_figure(self, change):\n",
    "        path = os.path.splitext(self._reference_image_path)[0]\n",
    "        self._figure.savefig(\n",
    "            '{0}_{1}.png'.format(path, self.__class__.__name__),\n",
    "            facecolor=[2 / 3 / 10] * 3,\n",
    "            transparent=False,\n",
    "            bbox_inches='tight')\n",
    "\n",
    "    def reset_exposure(self, change):\n",
    "        self._exposure_FloatSlider.value = 0\n",
    "\n",
    "        self.update_widget(None)\n",
    "\n",
    "    def toggle_out_of_gamut(self, change):\n",
    "        if not change:\n",
    "            return\n",
    "\n",
    "        if change['name'] == 'value':\n",
    "            self.update_widget(None)\n",
    "\n",
    "    def update_widget(self, change):\n",
    "        self._view_transform = self._view_transform_DropDown.value\n",
    "\n",
    "        if (not self._enable_medicina\n",
    "                or self.__class__.__name__ == 'GamutMedicinaBaseWidget'):            \n",
    "            self._reference_image_working = self._reference_image_pre_working\n",
    "            self._decimated_image_working = self._decimated_image_pre_working\n",
    "\n",
    "            EV = self._exposure_FloatSlider.value\n",
    "            if EV != self._exposure_value:\n",
    "                self._exposure_value = EV\n",
    "\n",
    "                self._reference_image_working = adjust_exposure(\n",
    "                    self._reference_image_pre_working, self._exposure_value)\n",
    "\n",
    "                if self._enable_chromaticity_diagram:\n",
    "                    self._decimated_image_working = adjust_exposure(\n",
    "                        self._decimated_image_pre_working,\n",
    "                        self._exposure_value)\n",
    "\n",
    "            self._reference_image_imshow.set_data(\n",
    "                self.working_space_to_display_space(\n",
    "                    self._reference_image_working,\n",
    "                    show_out_of_gamut=self._show_out_of_gamut_CheckBox.value))\n",
    "\n",
    "            if self._enable_chromaticity_diagram:\n",
    "                self.update_scatter_plot(self._decimated_image_working)\n",
    "\n",
    "            self._figure.canvas.draw_idle()\n",
    "\n",
    "\n",
    "GamutMedicinaBaseWidget()"
   ]
  },
  {
   "cell_type": "code",
   "execution_count": 8,
   "metadata": {},
   "outputs": [
    {
     "data": {
      "application/vnd.jupyter.widget-view+json": {
       "model_id": "bb105245596d4434be79628a1a1056fc",
       "version_major": 2,
       "version_minor": 0
      },
      "text/plain": [
       "GamutMedicinaBaseWidget(children=(Output(layout=Layout(border='solid 4px #222', margin='4px', padding='0')), T…"
      ]
     },
     "metadata": {},
     "output_type": "display_data"
    }
   ],
   "source": [
    "GamutMedicinaBaseWidget(enable_colour_wheel=False)"
   ]
  },
  {
   "cell_type": "code",
   "execution_count": 9,
   "metadata": {},
   "outputs": [
    {
     "data": {
      "application/vnd.jupyter.widget-view+json": {
       "model_id": "f810f4fb3eb04e44815636b1f9096aaa",
       "version_major": 2,
       "version_minor": 0
      },
      "text/plain": [
       "GamutMedicinaBaseWidget(children=(Output(layout=Layout(border='solid 4px #222', margin='4px', padding='0')), T…"
      ]
     },
     "metadata": {},
     "output_type": "display_data"
    }
   ],
   "source": [
    "GamutMedicinaBaseWidget(enable_chromaticity_diagram=False)"
   ]
  },
  {
   "cell_type": "code",
   "execution_count": 10,
   "metadata": {},
   "outputs": [
    {
     "data": {
      "application/vnd.jupyter.widget-view+json": {
       "model_id": "245bb60ba61144a787407d48d32ec6d8",
       "version_major": 2,
       "version_minor": 0
      },
      "text/plain": [
       "GamutMedicinaBaseWidget(children=(Output(layout=Layout(border='solid 4px #222', margin='4px', padding='0')), T…"
      ]
     },
     "metadata": {},
     "output_type": "display_data"
    }
   ],
   "source": [
    "GamutMedicinaBaseWidget(\n",
    "    enable_colour_wheel=False, enable_chromaticity_diagram=False)"
   ]
  },
  {
   "cell_type": "markdown",
   "metadata": {},
   "source": [
    "## Compression & Blending Functions"
   ]
  },
  {
   "cell_type": "markdown",
   "metadata": {},
   "source": [
    "Gamut mapping commonly involves compressing data from a larger space to a smaller space.\n",
    "\n",
    "Three sigmoid compression functions are defined:\n",
    "\n",
    "- **tanh**, a function based on the *Hyperbolic Tangent*:\n",
    "$$a + b \\cdot tanh\\bigg(\\cfrac{x - a}{b}\\bigg)$$ where $a$ is the compression threshold, i.e. the point at which the function starts compressing the value $x$ and $b$ is the compression limit, i.e. the point at which the compression reaches the limit.\n",
    "- **atan**, a function based on the *Arc Tangent*:\n",
    "$$a + b \\cdot\\cfrac{2}{\\pi}\\cdot atan\\Bigg(\\cfrac{\\cfrac{\\pi}{2}\\cdot\\big(x - a\\big)}{b}\\Bigg)$$\n",
    "- **Simple**, a simple compression function:\n",
    "$$a + \\Bigg(\\cfrac{-1}{\\bigg(\\cfrac{x - a}{b} + 1\\bigg)} + 1 \\Bigg) \\cdot b$$"
   ]
  },
  {
   "cell_type": "code",
   "execution_count": 11,
   "metadata": {},
   "outputs": [],
   "source": [
    "def tanh_compression_function(x, a=0.8, b=1 - 0.8):\n",
    "    x = colour.utilities.as_float_array(x)\n",
    "\n",
    "    return np.where(x > a, a + b * np.tanh((x - a) / b), x)\n",
    "\n",
    "\n",
    "def atan_compression_function(x, a=0.8, b=1 - 0.8):\n",
    "    x = colour.utilities.as_float_array(x)\n",
    "\n",
    "    return np.where(x > a, a + b * 2 / np.pi * np.arctan(((np.pi / 2) * (x - a)) / b), x)\n",
    "\n",
    "\n",
    "def simple_compression_function(x, a=0.8, b=1 - 0.8):\n",
    "    x = colour.utilities.as_float_array(x)\n",
    "\n",
    "    return np.where(x > a, a + (-1 / ((x - a) / b + 1) + 1) * b, x)\n",
    "\n",
    "\n",
    "COMPRESSION_FUNCTIONS = {\n",
    "    'tanh' : tanh_compression_function,\n",
    "    'atan' : atan_compression_function,\n",
    "    'simple' : simple_compression_function,\n",
    "}\n",
    "\n",
    "\n",
    "def smoothstep(x, a=0, b=1):\n",
    "    i = np.clip((x - a) / (b - a), 0, 1)\n",
    "\n",
    "    return i**2 * (3 - 2 * i)\n",
    "\n",
    "\n",
    "def derivative(x, func, d=1e-7):\n",
    "    return (func(x + d) - func(x - d)) / (2 * d)"
   ]
  },
  {
   "cell_type": "code",
   "execution_count": 12,
   "metadata": {},
   "outputs": [
    {
     "data": {
      "application/vnd.jupyter.widget-view+json": {
       "model_id": "1ee609d4005c4475ba775d898477ba55",
       "version_major": 2,
       "version_minor": 0
      },
      "text/plain": [
       "Canvas(toolbar=Toolbar(toolitems=[('Home', 'Reset original view', 'home', 'home'), ('Back', 'Back to previous …"
      ]
     },
     "metadata": {},
     "output_type": "display_data"
    }
   ],
   "source": [
    "colour.plotting.plot_multi_functions(\n",
    "    {\n",
    "        'tanh': tanh_compression_function,\n",
    "        'd/dx(tanh)': lambda x: derivative(x, tanh_compression_function),\n",
    "        'atan': atan_compression_function,\n",
    "        'd/dx(atan)': lambda x: derivative(x, atan_compression_function),\n",
    "        'simple': simple_compression_function,\n",
    "        'd/dx(simple)': lambda x: derivative(x, simple_compression_function),\n",
    "    },\n",
    "    **{\n",
    "        'figure.figsize': (11, 11),\n",
    "        'bounding_box': (0.5, 1.75, 0, 1.25),\n",
    "        'samples':\n",
    "        np.linspace(0, 2, 1000),\n",
    "        'plot_kwargs': [\n",
    "            {\n",
    "                'c': 'r',\n",
    "                'linestyle': 'dashdot'\n",
    "            },\n",
    "            {\n",
    "                'c': 'r'\n",
    "            },\n",
    "            {\n",
    "                'c': 'g',\n",
    "                'linestyle': 'dashdot'\n",
    "            },\n",
    "            {\n",
    "                'c': 'g'\n",
    "            },\n",
    "            {\n",
    "                'c': 'b',\n",
    "                'linestyle': 'dashdot'\n",
    "            },\n",
    "            {\n",
    "                'c': 'b'\n",
    "            },\n",
    "        ]\n",
    "    },\n",
    ");"
   ]
  },
  {
   "cell_type": "markdown",
   "metadata": {},
   "source": [
    "## Mansencal and Scharfenberg (2020) - HSV Control Based Study Model"
   ]
  },
  {
   "cell_type": "markdown",
   "metadata": {},
   "source": [
    "*Mansencal and Scharfenberg (2020)* gamut mapping study model is built on top of the [HSV colourspace](https://en.wikipedia.org/wiki/HSL_and_HSV):\n",
    "\n",
    "- Scene-referred RGB exposure values are converted to HSV.\n",
    "- The saturation component $S$ is compressed with a cherry-picked compression function, e.g. $tanh$.\n",
    "- The hue component $H$ is warped according to user defined control values.\n",
    "- The HSV values are converted back to scene-referred RGB exposure values and then blended with the original scene-referred RGB exposure values function through a smoothstep function.\n",
    "\n",
    "The model offers good controls but might tend to exhibit excessive saturation of secondary colours, i.e. cyan, yellow and especially magenta.\n",
    "This can be tuned with the hue controls.\n",
    "\n",
    "More information is available on [ACEScentral](https://community.acescentral.com/t/gamut-mapping-in-cylindrical-and-conic-spaces/)."
   ]
  },
  {
   "cell_type": "code",
   "execution_count": 13,
   "metadata": {},
   "outputs": [
    {
     "data": {
      "application/vnd.jupyter.widget-view+json": {
       "model_id": "873074d66b31455ca735213fc2baf516",
       "version_major": 2,
       "version_minor": 0
      },
      "text/plain": [
       "GamutMedicinaHSVControlWidget(children=(Output(layout=Layout(border='solid 4px #222', margin='4px', padding='0…"
      ]
     },
     "metadata": {},
     "output_type": "display_data"
    }
   ],
   "source": [
    "def medicina_HSV_control(RGB, H, S, V, H_x, H_y, S_c, S_m, C_f, HSV_to_RGB):\n",
    "    S_m = S_m[..., np.newaxis]\n",
    "\n",
    "    interpolator = scipy.interpolate.interp1d(H_x, H_y)\n",
    "\n",
    "    HSV_c = colour.utilities.tstack(\n",
    "        [interpolator(H) % 1, C_f(S, S_c, 1 - S_c), V])\n",
    "\n",
    "    return HSV_to_RGB(HSV_c) * S_m + RGB * (1 - S_m)\n",
    "\n",
    "\n",
    "class GamutMedicinaHSVControlWidget(GamutMedicinaBaseWidget):\n",
    "    def __init__(self,\n",
    "                 reference_image=None,\n",
    "                 hue_wedge=45,\n",
    "                 protected_area_threshold=0.7,\n",
    "                 compression_threshold=0.8,\n",
    "                 compression_function='tanh',\n",
    "                 RGB_to_HSV=colour.RGB_to_HSV,\n",
    "                 HSV_to_RGB=colour.HSV_to_RGB,\n",
    "                 *args,\n",
    "                 **kwargs):\n",
    "\n",
    "        self._hue_wedge = hue_wedge\n",
    "        self._protected_area_threshold = protected_area_threshold\n",
    "        self._compression_threshold = compression_threshold\n",
    "        self._compression_function = compression_function\n",
    "\n",
    "        self.RGB_to_HSV = RGB_to_HSV\n",
    "        self.HSV_to_RGB = HSV_to_RGB\n",
    "\n",
    "        super().__init__(reference_image, *args, **kwargs)\n",
    "\n",
    "        self._RGB_r = None\n",
    "        self._H_r = self._S_r = self._V_r = None\n",
    "        self._S_r_m = None\n",
    "\n",
    "        if self._enable_colour_wheel:\n",
    "            self._RGB_w = None\n",
    "            self._H_w = self._S_w = self._V_w = None\n",
    "            self._S_w_m = None\n",
    "\n",
    "        if self._enable_chromaticity_diagram:\n",
    "            self._RGB_d = None\n",
    "            self._H_d = self._S_d = self._V_d = None\n",
    "            self._S_d_m = None\n",
    "\n",
    "        self._angles = None\n",
    "        self._x_i = self._y_i = self._y_i = None\n",
    "\n",
    "        if self._enable_colour_wheel:\n",
    "            self._protected_area_threshold_colour_wheel_plot = None\n",
    "            self._compression_threshold_colour_wheel_plot = None\n",
    "            self._hue_controls_plot = None\n",
    "\n",
    "        if self._enable_chromaticity_diagram:\n",
    "            self._protected_area_threshold_chromaticity_diagram_plot = None\n",
    "            self._compression_threshold_chromaticity_diagram_plot = None\n",
    "\n",
    "        self._reset_protected_area_controls_Button = None\n",
    "        self._protected_area_threshold_FloatSlider = None\n",
    "        self._reset_compression_controls_Button = None\n",
    "        self._compression_threshold_FloatSlider = None\n",
    "        self._reset_hue_controls_Button = None\n",
    "        self._wedge_controls = None\n",
    "        self._protected_area_controls_HBox = None\n",
    "        self._saturation_controls_HBox = None\n",
    "        self._hue_controls_HBox = None\n",
    "\n",
    "        self.initialize_data()\n",
    "        self.initialize_axes()\n",
    "        self.initialise_widgets()\n",
    "        self.attach_callbacks()\n",
    "\n",
    "        self.update_widget(None)\n",
    "\n",
    "    def initialize_data(self):\n",
    "        super().initialize_data()\n",
    "\n",
    "        # *** Reference Image ***\n",
    "        self._RGB_r = self._reference_image_working\n",
    "        self._H_r, self._S_r, self._V_r = colour.utilities.tsplit(\n",
    "            self.RGB_to_HSV(self._reference_image_working))\n",
    "        self._S_r_m = smoothstep(self._S_r, self._protected_area_threshold,\n",
    "                                 self._compression_threshold)\n",
    "\n",
    "        # *** Colour Wheel ***\n",
    "        if self._enable_colour_wheel:\n",
    "            self._RGB_w = self._colour_wheel[..., 0:3]\n",
    "            self._H_w, self._S_w, self._V_w = colour.utilities.tsplit(\n",
    "                self.RGB_to_HSV(self._RGB_w))\n",
    "            self._S_w_m = smoothstep(self._S_w, self._protected_area_threshold,\n",
    "                                     self._compression_threshold)\n",
    "\n",
    "        # *** Decimated Image, i.e. Scatter ***\n",
    "        if self._enable_chromaticity_diagram:\n",
    "            self._RGB_d = self._decimated_image_working\n",
    "            self._H_d, self._S_d, self._V_d = colour.utilities.tsplit(\n",
    "                self.RGB_to_HSV(self._decimated_image_working))\n",
    "            self._S_d_m = smoothstep(self._S_d, self._protected_area_threshold,\n",
    "                                     self._compression_threshold)\n",
    "\n",
    "        # *** Angles ***\n",
    "        self._angles = np.arange(0, 360, self._hue_wedge) / 360\n",
    "\n",
    "        # *** Initial State ***\n",
    "        self._x_i = np.hstack([self._angles, 1])\n",
    "        self._y_i = self._angles\n",
    "        self._y_i = np.hstack([self._y_i, self._y_i[0] + 1])\n",
    "\n",
    "    def initialize_axes(self):\n",
    "        super().initialize_axes()\n",
    "\n",
    "        circumference = np.linspace(0, np.pi * 2, self._colour_wheel_samples)\n",
    "        # Colour Wheel Axes\n",
    "        if self._enable_colour_wheel:\n",
    "            self._protected_area_threshold_colour_wheel_plot = (\n",
    "                self._colour_wheel_polar_axes.plot(\n",
    "                    circumference,\n",
    "                    np.full(self._colour_wheel_samples,\n",
    "                            self._protected_area_threshold),\n",
    "                    linestyle='dotted',\n",
    "                    color='yellow')[0])\n",
    "            self._compression_threshold_colour_wheel_plot = (\n",
    "                self._colour_wheel_polar_axes.plot(\n",
    "                    circumference,\n",
    "                    np.full(self._colour_wheel_samples,\n",
    "                            self._compression_threshold),\n",
    "                    linestyle='dashdot',\n",
    "                    color='cyan')[0])\n",
    "\n",
    "            self._hue_controls_plot = (self._colour_wheel_polar_axes.plot(\n",
    "                self._y_i * np.pi * 2,\n",
    "                np.ones(self._y_i.shape),\n",
    "                'o-',\n",
    "                color='white')[0])\n",
    "\n",
    "        # Chromaticity Diagram Axes\n",
    "        if self._enable_chromaticity_diagram:\n",
    "            self._protected_area_threshold_chromaticity_diagram_plot = (\n",
    "                self._chromaticity_diagram_axes.plot(\n",
    "                    circumference * 0,\n",
    "                    circumference * 0,\n",
    "                    linestyle='dotted',\n",
    "                    color='yellow')[0])\n",
    "            self._compression_threshold_chromaticity_diagram_plot = (\n",
    "                self._chromaticity_diagram_axes.plot(\n",
    "                    circumference * 0,\n",
    "                    circumference * 0,\n",
    "                    linestyle='dashdot',\n",
    "                    color='cyan')[0])\n",
    "\n",
    "    def initialise_widgets(self):\n",
    "        super().initialise_widgets()\n",
    "\n",
    "        # *** Widgets ***\n",
    "        self._widget_name_HTML.value = (\n",
    "            '<span style=\"color: #3498DB; font-size: 1.25rem\">'\n",
    "            '<b>HSV Control Widget</b></span>')\n",
    "\n",
    "        self._reset_protected_area_controls_Button = (\n",
    "            ipywidgets.widgets.Button(description=\"Reset Protected Area\"))\n",
    "        self._protected_area_threshold_FloatSlider = (\n",
    "            ipywidgets.widgets.FloatSlider(\n",
    "                min=0.0,\n",
    "                max=1.0,\n",
    "                step=0.01,\n",
    "                value=self._protected_area_threshold,\n",
    "                description='Protected Area Threshold'))\n",
    "\n",
    "        self._reset_compression_controls_Button = (\n",
    "            ipywidgets.widgets.Button(description=\"Reset Saturation Controls\"))\n",
    "        compression_functions = list(COMPRESSION_FUNCTIONS.keys())\n",
    "        self._compression_function_DropDown = ipywidgets.widgets.Dropdown(\n",
    "            options=compression_functions,\n",
    "            value=self._compression_function,\n",
    "            description='Compression Function:',\n",
    "        )\n",
    "        self._compression_threshold_FloatSlider = (\n",
    "            ipywidgets.widgets.FloatSlider(\n",
    "                min=0.0,\n",
    "                max=1.0,\n",
    "                step=0.01,\n",
    "                value=self._compression_threshold,\n",
    "                description='Compression Threshold'))\n",
    "\n",
    "        self._reset_hue_controls_Button = ipywidgets.widgets.Button(\n",
    "            description=\"Reset Hue Controls\")\n",
    "        self._wedge_controls = [\n",
    "            ipywidgets.widgets.FloatSlider(\n",
    "                min=-1,\n",
    "                max=1,\n",
    "                step=0.01,\n",
    "                value=0,\n",
    "                description='{0}°'.format(int(angle * 360)))\n",
    "            for angle in self._angles\n",
    "        ]\n",
    "\n",
    "        # *** Layout ***\n",
    "        self._protected_area_controls_HBox = ipywidgets.widgets.HBox([\n",
    "            self._reset_protected_area_controls_Button,\n",
    "            self._protected_area_threshold_FloatSlider,\n",
    "        ])\n",
    "\n",
    "        self._saturation_controls_HBox = ipywidgets.widgets.HBox([\n",
    "            self._reset_compression_controls_Button,\n",
    "            self._compression_function_DropDown,\n",
    "            self._compression_threshold_FloatSlider\n",
    "        ])\n",
    "\n",
    "        wedge_controls_batches = batch(self._wedge_controls, 3)\n",
    "        self._hue_controls_HBox = ipywidgets.widgets.HBox(\n",
    "            [ipywidgets.widgets.VBox([self._reset_hue_controls_Button])] + [\n",
    "                ipywidgets.widgets.VBox(wedge_controls)\n",
    "                for wedge_controls in wedge_controls_batches\n",
    "            ])\n",
    "\n",
    "        self._controls_Tab.children += (\n",
    "            self._protected_area_controls_HBox,\n",
    "            self._saturation_controls_HBox,\n",
    "            self._hue_controls_HBox,\n",
    "        )\n",
    "\n",
    "        self._controls_Tab.set_title(2, 'Protected Area Controls')\n",
    "        self._controls_Tab.set_title(3, 'Saturation Controls')\n",
    "        self._controls_Tab.set_title(4, 'Hue Controls')\n",
    "\n",
    "    def attach_callbacks(self):\n",
    "        super().attach_callbacks()\n",
    "\n",
    "        self._reset_protected_area_controls_Button.on_click(\n",
    "            self.reset_protected_area_controls)\n",
    "        self._protected_area_threshold_FloatSlider.observe(\n",
    "            self.update_protected_area_mask, 'value')\n",
    "\n",
    "        self._reset_compression_controls_Button.on_click(\n",
    "            self.reset_compression_controls)\n",
    "        self._compression_function_DropDown.observe(self.update_widget,\n",
    "                                                    'value')\n",
    "        self._compression_threshold_FloatSlider.observe(\n",
    "            self.update_widget, 'value')\n",
    "\n",
    "        self._reset_hue_controls_Button.on_click(self.reset_hue_controls)\n",
    "        for slider in self._wedge_controls:\n",
    "            slider.observe(self.update_widget, 'value')\n",
    "\n",
    "    def update_region_colour_wheel_plot(self, V_r, region_colour_wheel_plot):\n",
    "        if self._enable_colour_wheel:\n",
    "            region_colour_wheel_plot.set_ydata(\n",
    "                np.full(self._colour_wheel_samples, V_r))\n",
    "\n",
    "    def update_protected_area_threshold_colour_wheel_plot(self, U_r):\n",
    "        if self._enable_colour_wheel:\n",
    "            self.update_region_colour_wheel_plot(\n",
    "                U_r, self._protected_area_threshold_colour_wheel_plot)\n",
    "\n",
    "    def update_compression_threshold_colour_wheel_plot(self, S_c):\n",
    "        if self._enable_colour_wheel:\n",
    "            self.update_region_colour_wheel_plot(\n",
    "                S_c, self._compression_threshold_colour_wheel_plot)\n",
    "\n",
    "    def update_region_chromaticity_diagram_plot(\n",
    "            self, V_r, region_chromaticity_diagram_plot):\n",
    "        if self._enable_chromaticity_diagram:\n",
    "            HSV = colour.utilities.tstack([\n",
    "                np.linspace(0, 1, self._colour_wheel_samples),\n",
    "                np.full(self._colour_wheel_samples, V_r),\n",
    "                np.ones(self._colour_wheel_samples)\n",
    "            ])\n",
    "            uv = colour.Luv_to_uv(\n",
    "                colour.XYZ_to_Luv(\n",
    "                    colour.RGB_to_XYZ(\n",
    "                        self.HSV_to_RGB(HSV), self._working_space.whitepoint,\n",
    "                        self._working_space.whitepoint,\n",
    "                        self._working_space.RGB_to_XYZ_matrix),\n",
    "                    self._working_space.whitepoint))\n",
    "\n",
    "            region_chromaticity_diagram_plot.set_data(uv[:, 0], uv[:, 1])\n",
    "\n",
    "    def update_protected_area_threshold_chromaticity_diagram_plot(self, U_r):\n",
    "        if self._enable_chromaticity_diagram:\n",
    "            self.update_region_chromaticity_diagram_plot(\n",
    "                U_r, self._protected_area_threshold_chromaticity_diagram_plot)\n",
    "\n",
    "    def update_compression_threshold_chromaticity_diagram_plot(self, S_c):\n",
    "        if self._enable_chromaticity_diagram:\n",
    "            self.update_region_chromaticity_diagram_plot(\n",
    "                S_c, self._compression_threshold_chromaticity_diagram_plot)\n",
    "\n",
    "    def update_protected_area_mask(self, change):\n",
    "        if not change:\n",
    "            return\n",
    "\n",
    "        if change['name'] == 'value':\n",
    "            U_r = self._protected_area_threshold_FloatSlider.value\n",
    "            S_c = self._compression_threshold_FloatSlider.value\n",
    "\n",
    "            self._S_d_m = smoothstep(self._S_d, U_r, S_c)\n",
    "\n",
    "            if self._enable_colour_wheel:\n",
    "                self._S_w_m = smoothstep(self._S_w, U_r, S_c)\n",
    "\n",
    "            if self._enable_chromaticity_diagram:\n",
    "                self._S_r_m = smoothstep(self._S_r, U_r, S_c)\n",
    "\n",
    "        self.update_widget(None)\n",
    "\n",
    "    def wedge_control_to_hue_offset(self, value):\n",
    "        slider = self._wedge_controls[0]\n",
    "\n",
    "        return colour.utilities.linear_conversion(\n",
    "            value, [slider.min, slider.max],\n",
    "            [-self._hue_wedge / 360, self._hue_wedge / 360])\n",
    "\n",
    "    def reset_protected_area_controls(self, change):\n",
    "        self._protected_area_threshold_FloatSlider.value = (\n",
    "            self._protected_area_threshold)\n",
    "\n",
    "        self.update_protected_area_mask(None)\n",
    "\n",
    "    def reset_compression_controls(self, change):\n",
    "        self._compression_threshold_FloatSlider.value = (\n",
    "            self._compression_threshold)\n",
    "\n",
    "        self.update_widget(None)\n",
    "\n",
    "    def reset_hue_controls(self, change):\n",
    "        for slider in self._wedge_controls:\n",
    "            slider.value = 0\n",
    "\n",
    "        self.update_widget(None)\n",
    "\n",
    "    def update_reference_image_axes(self, S_c, H_y, C_f, show_out_of_gamut):\n",
    "        RGB_r = medicina_HSV_control(self._RGB_r, self._H_r, self._S_r,\n",
    "                                     self._V_r, self._x_i, H_y, S_c,\n",
    "                                     self._S_r_m, C_f, self.HSV_to_RGB)\n",
    "        self._reference_image_mapped = RGB_r\n",
    "        self._reference_image_imshow.set_data(\n",
    "            self.working_space_to_display_space(\n",
    "                RGB_r, show_out_of_gamut=show_out_of_gamut))\n",
    "\n",
    "    def update_colour_wheel_axes(self, U_r, S_c, H_y, H_o, C_f):\n",
    "        if self._enable_colour_wheel:\n",
    "            RGB_w = medicina_HSV_control(self._RGB_w, self._H_w, self._S_w,\n",
    "                                         self._V_w, self._x_i, H_y, S_c,\n",
    "                                         self._S_w_m, C_f, self.HSV_to_RGB)\n",
    "            self._colour_wheel_imshow.set_data(np.clip(RGB_w, 0, 1))\n",
    "            self.update_protected_area_threshold_colour_wheel_plot(U_r)\n",
    "            self.update_compression_threshold_colour_wheel_plot(S_c)\n",
    "\n",
    "            H_x = H_o + self._angles\n",
    "            H_x = np.hstack([H_x, H_x[0]])\n",
    "            self._hue_controls_plot.set_xdata(H_x * np.pi * 2)\n",
    "\n",
    "    def update_chromaticity_diagram_axes(self, U_r, S_c, H_y, C_f):\n",
    "        if self._enable_chromaticity_diagram:\n",
    "            RGB_r_s = medicina_HSV_control(self._RGB_d, self._H_d, self._S_d,\n",
    "                                           self._V_d, self._x_i, H_y, S_c,\n",
    "                                           self._S_d_m, C_f, self.HSV_to_RGB)\n",
    "            self.update_scatter_plot(RGB_r_s)\n",
    "            self.update_protected_area_threshold_chromaticity_diagram_plot(U_r)\n",
    "            self.update_compression_threshold_chromaticity_diagram_plot(S_c)\n",
    "\n",
    "    def update_widget(self, change):\n",
    "        super().update_widget(change)\n",
    "\n",
    "        if self._enable_medicina:\n",
    "            EV = self._exposure_FloatSlider.value\n",
    "            U_r = self._protected_area_threshold_FloatSlider.value\n",
    "            S_c = self._compression_threshold_FloatSlider.value\n",
    "            C_f = COMPRESSION_FUNCTIONS[\n",
    "                self._compression_function_DropDown.value]\n",
    "            show_out_of_gamut = self._show_out_of_gamut_CheckBox.value\n",
    "\n",
    "            if EV != self._exposure_value:\n",
    "                self._exposure_value = EV\n",
    "\n",
    "                self._RGB_r = self._reference_image_working = adjust_exposure(\n",
    "                    self._reference_image_pre_working,\n",
    "                    EV)\n",
    "                self._H_r, self._S_r, self._V_r = colour.utilities.tsplit(\n",
    "                    self.RGB_to_HSV(self._RGB_r))\n",
    "\n",
    "                if self._enable_chromaticity_diagram:\n",
    "                    self._RGB_d = self._decimated_image_working = adjust_exposure(\n",
    "                        self._decimated_image_pre_working, EV)\n",
    "                    self._H_d, self._S_d, self._V_d = colour.utilities.tsplit(\n",
    "                        self.RGB_to_HSV(self._RGB_d))\n",
    "\n",
    "                self.update_protected_area_mask({'name': 'value'})\n",
    "\n",
    "            hue_offsets = np.array([\n",
    "                self.wedge_control_to_hue_offset(slider.value)\n",
    "                for slider in self._wedge_controls\n",
    "            ])\n",
    "\n",
    "            H_y = -hue_offsets + self._angles\n",
    "            H_y = np.hstack([H_y, H_y[0] + 1])\n",
    "\n",
    "            self.update_reference_image_axes(S_c, H_y, C_f, show_out_of_gamut)\n",
    "\n",
    "            if self._enable_colour_wheel:\n",
    "                self.update_colour_wheel_axes(U_r, S_c, H_y, hue_offsets, C_f)\n",
    "\n",
    "            if self._enable_chromaticity_diagram:\n",
    "                self.update_chromaticity_diagram_axes(U_r, S_c, H_y, C_f)\n",
    "\n",
    "            self._figure.canvas.draw_idle()\n",
    "\n",
    "\n",
    "GamutMedicinaHSVControlWidget(\n",
    "    '../resources/images/A009C002_190210_R0EI_Alexa_LogCWideGamut.exr')"
   ]
  },
  {
   "cell_type": "code",
   "execution_count": 14,
   "metadata": {},
   "outputs": [
    {
     "data": {
      "application/vnd.jupyter.widget-view+json": {
       "model_id": "b4e273ba41d84db89a1ef1190126a52d",
       "version_major": 2,
       "version_minor": 0
      },
      "text/plain": [
       "GamutMedicinaHSVControlWidget(children=(Output(layout=Layout(border='solid 4px #222', margin='4px', padding='0…"
      ]
     },
     "metadata": {},
     "output_type": "display_data"
    }
   ],
   "source": [
    "GamutMedicinaHSVControlWidget('../resources/images/A002_C029_06025K.exr')"
   ]
  },
  {
   "cell_type": "code",
   "execution_count": 15,
   "metadata": {},
   "outputs": [
    {
     "data": {
      "application/vnd.jupyter.widget-view+json": {
       "model_id": "c58141b6352c4165b2bf791865ab0c62",
       "version_major": 2,
       "version_minor": 0
      },
      "text/plain": [
       "GamutMedicinaHSVControlWidget(children=(Output(layout=Layout(border='solid 4px #222', margin='4px', padding='0…"
      ]
     },
     "metadata": {},
     "output_type": "display_data"
    }
   ],
   "source": [
    "GamutMedicinaHSVControlWidget(\n",
    "    '../resources/images/Cornell_Box_Rigid_Spheres_190_Patch_Roughplastic_Point_Grey_Grasshopper_50S5C_RGB_W_A.exr')"
   ]
  },
  {
   "cell_type": "code",
   "execution_count": 16,
   "metadata": {},
   "outputs": [
    {
     "data": {
      "application/vnd.jupyter.widget-view+json": {
       "model_id": "5c5b83e6984941f5bf8f4d64a34821ba",
       "version_major": 2,
       "version_minor": 0
      },
      "text/plain": [
       "GamutMedicinaHSVControlWidget(children=(Output(layout=Layout(border='solid 4px #222', margin='4px', padding='0…"
      ]
     },
     "metadata": {},
     "output_type": "display_data"
    }
   ],
   "source": [
    "GamutMedicinaHSVControlWidget(\n",
    "    '../resources/images/5DMarkII_Spac-o-ween_001.exr',\n",
    "    enable_colour_wheel=False)"
   ]
  },
  {
   "cell_type": "code",
   "execution_count": 17,
   "metadata": {},
   "outputs": [
    {
     "data": {
      "application/vnd.jupyter.widget-view+json": {
       "model_id": "307b33ec3ed34684bbbd2a8818f709b1",
       "version_major": 2,
       "version_minor": 0
      },
      "text/plain": [
       "GamutMedicinaHSVControlWidget(children=(Output(layout=Layout(border='solid 4px #222', margin='4px', padding='0…"
      ]
     },
     "metadata": {},
     "output_type": "display_data"
    }
   ],
   "source": [
    "GamutMedicinaHSVControlWidget(\n",
    "    '../resources/images/Collage_01.exr',\n",
    "    enable_colour_wheel=False)"
   ]
  },
  {
   "cell_type": "markdown",
   "metadata": {},
   "source": [
    "## Smith (2020) - RGB Saturation Study Model"
   ]
  },
  {
   "cell_type": "markdown",
   "metadata": {},
   "source": [
    "*Smith (2020)* gamut mapping study model is directly operating in the [RGB colourspace](https://en.wikipedia.org/wiki/Color_spaces_with_RGB_primaries):\n",
    "\n",
    "- Like with the HSV colourspace, an achromatic axis is computed for the scene-referred RGB exposure values.\n",
    "- The pseudo-distance between the individual $R$, $G$ and $B$ components and the achromatic axis is compressed with a cherry-picked compression function, e.g. $tanh$.\n",
    "\n",
    "The model is extremely simple and elegant while offering good computational speed.\n",
    "\n",
    "More information is available on [ACEScentral](https://community.acescentral.com/t/rgb-saturation-gamut-mapping-approach-and-a-comp-vfx-perspective/)."
   ]
  },
  {
   "cell_type": "code",
   "execution_count": 18,
   "metadata": {},
   "outputs": [
    {
     "data": {
      "application/vnd.jupyter.widget-view+json": {
       "model_id": "d78412af1c9646fcbf830af59cda6401",
       "version_major": 2,
       "version_minor": 0
      },
      "text/plain": [
       "GamutMedicinaRGBSaturationWidget(children=(Output(layout=Layout(border='solid 4px #222', margin='4px', padding…"
      ]
     },
     "metadata": {},
     "output_type": "display_data"
    }
   ],
   "source": [
    "def medicina_RGB_saturation(RGB, C_t, C_f):\n",
    "    C_t = 1 - C_t\n",
    "\n",
    "    L = np.max(RGB, axis=-1)[..., np.newaxis]\n",
    "\n",
    "    D = np.abs(RGB - L) / L\n",
    "\n",
    "    D_c = C_f(D, C_t, 1 - C_t)\n",
    "\n",
    "    RGB_c = L - D_c * L\n",
    "\n",
    "    return RGB_c\n",
    "\n",
    "\n",
    "class GamutMedicinaRGBSaturationWidget(GamutMedicinaBaseWidget):\n",
    "    def __init__(self,\n",
    "                 reference_image=None,\n",
    "                 compression_threshold=0.8,\n",
    "                 compression_function='tanh',\n",
    "                 *args,\n",
    "                 **kwargs):\n",
    "        self._compression_threshold = compression_threshold\n",
    "        self._compression_function = compression_function\n",
    "\n",
    "        kwargs['enable_colour_wheel'] = False\n",
    "\n",
    "        super().__init__(reference_image, *args, **kwargs)\n",
    "\n",
    "        self._RGB_r = None\n",
    "\n",
    "        if self._enable_chromaticity_diagram:\n",
    "            self._RGB_d = None\n",
    "\n",
    "        self._compression_threshold_chromaticity_diagram_plot = None\n",
    "\n",
    "        self._reset_compression_controls_Button = None\n",
    "        self._compression_threshold_FloatSlider = None\n",
    "\n",
    "        self.initialize_data()\n",
    "        self.initialize_axes()\n",
    "        self.initialise_widgets()\n",
    "        self.attach_callbacks()\n",
    "\n",
    "        self.update_widget(None)\n",
    "\n",
    "    def initialize_data(self):\n",
    "        super().initialize_data()\n",
    "\n",
    "        # *** Reference Image ***\n",
    "        self._RGB_r = self._reference_image_working\n",
    "\n",
    "        # *** Decimated Image, i.e. Scatter ***\n",
    "        if self._enable_chromaticity_diagram:\n",
    "            self._RGB_d = self._decimated_image_working\n",
    "\n",
    "    def initialize_axes(self):\n",
    "        super().initialize_axes()\n",
    "\n",
    "    def initialise_widgets(self):\n",
    "        super().initialise_widgets()\n",
    "\n",
    "        # *** Widgets ***\n",
    "        self._widget_name_HTML.value = (\n",
    "            '<span style=\"color: #3498DB; font-size: 1.25rem\">'\n",
    "            '<b>RGB Saturation Widget</b></span>')\n",
    "\n",
    "        self._reset_compression_controls_Button = (ipywidgets.widgets.Button(\n",
    "            description=\"Reset Compression Controls\"))\n",
    "        compression_functions = list(COMPRESSION_FUNCTIONS.keys())\n",
    "        self._compression_function_DropDown = ipywidgets.widgets.Dropdown(\n",
    "            options=compression_functions,\n",
    "            value=self._compression_function,\n",
    "            description='Compression Function:',\n",
    "        )\n",
    "        self._compression_threshold_FloatSlider = (\n",
    "            ipywidgets.widgets.FloatSlider(\n",
    "                min=0.0,\n",
    "                max=1.0,\n",
    "                step=0.01,\n",
    "                value=self._compression_threshold,\n",
    "                description='Compression Threshold'))\n",
    "\n",
    "        # *** Layout ***\n",
    "        self._compression_controls_HBox = ipywidgets.widgets.HBox([\n",
    "            self._reset_compression_controls_Button,\n",
    "            self._compression_function_DropDown,\n",
    "            self._compression_threshold_FloatSlider,\n",
    "        ])\n",
    "\n",
    "        self._controls_Tab.children += (self._compression_controls_HBox, )\n",
    "\n",
    "        self._controls_Tab.set_title(2, 'Compression Controls')\n",
    "\n",
    "    def attach_callbacks(self):\n",
    "        super().attach_callbacks()\n",
    "\n",
    "        self._reset_compression_controls_Button.on_click(\n",
    "            self.reset_compression_controls)\n",
    "        self._compression_function_DropDown.observe(self.update_widget,\n",
    "                                                    'value')\n",
    "        self._compression_threshold_FloatSlider.observe(\n",
    "            self.update_widget, 'value')\n",
    "\n",
    "    def reset_compression_controls(self, change):\n",
    "        self._compression_threshold_FloatSlider.value = (\n",
    "            self._compression_threshold)\n",
    "\n",
    "        self.update_widget(None)\n",
    "\n",
    "    def update_reference_image_axes(self, C_t, C_f, show_out_of_gamut):\n",
    "        RGB_r = medicina_RGB_saturation(self._RGB_r, C_t, C_f)\n",
    "        self._reference_image_mapped = RGB_r\n",
    "        self._reference_image_imshow.set_data(\n",
    "            self.working_space_to_display_space(\n",
    "                RGB_r, show_out_of_gamut=show_out_of_gamut))\n",
    "\n",
    "    def update_chromaticity_diagram_axes(self, C_t, C_f):\n",
    "        RGB_r_s = medicina_RGB_saturation(self._RGB_d, C_t, C_f)\n",
    "        self.update_scatter_plot(RGB_r_s)\n",
    "\n",
    "    def update_widget(self, change):\n",
    "        super().update_widget(change)\n",
    "\n",
    "        if self._enable_medicina:\n",
    "            EV = self._exposure_FloatSlider.value\n",
    "            C_t = 1 - self._compression_threshold_FloatSlider.value\n",
    "            C_f = COMPRESSION_FUNCTIONS[\n",
    "                self._compression_function_DropDown.value]\n",
    "            show_out_of_gamut = self._show_out_of_gamut_CheckBox.value\n",
    "            if EV != self._exposure_value:\n",
    "                self._exposure_value = EV\n",
    "\n",
    "                self._RGB_r = self._reference_image_working = adjust_exposure(\n",
    "                    self._reference_image_pre_working, EV)\n",
    "\n",
    "                if self._enable_chromaticity_diagram:\n",
    "                    self._RGB_d = self._decimated_image_working = adjust_exposure(\n",
    "                        self._decimated_image_pre_working, EV)\n",
    "\n",
    "            self.update_reference_image_axes(C_t, C_f, show_out_of_gamut)\n",
    "            self.update_chromaticity_diagram_axes(C_t, C_f)\n",
    "\n",
    "            self._figure.canvas.draw_idle()\n",
    "\n",
    "\n",
    "GamutMedicinaRGBSaturationWidget(\n",
    "    '../resources/images/A009C002_190210_R0EI_Alexa_LogCWideGamut.exr')"
   ]
  },
  {
   "cell_type": "markdown",
   "metadata": {},
   "source": [
    "Note\n",
    "----\n",
    "\n",
    "> *Mansencal and Scharfenberg (2020)* gamut mapping study model twists the woodbard ceiling hues toward magenta in this example which is not pleasing but can be corrected with the Hue Controls. *Smith (2020)* gamut mapping study model is producing more appealing colours here."
   ]
  },
  {
   "cell_type": "code",
   "execution_count": 19,
   "metadata": {},
   "outputs": [
    {
     "data": {
      "application/vnd.jupyter.widget-view+json": {
       "model_id": "91c1bb64edcc4217b7982e5c4cfc2226",
       "version_major": 2,
       "version_minor": 0
      },
      "text/plain": [
       "GamutMedicinaHSVControlWidget(children=(Output(layout=Layout(border='solid 4px #222', margin='4px', padding='0…"
      ]
     },
     "metadata": {},
     "output_type": "display_data"
    }
   ],
   "source": [
    "GamutMedicinaHSVControlWidget(\n",
    "    '../resources/images/A009C002_190210_R0EI_Alexa_LogCWideGamut.exr',\n",
    "    enable_colour_wheel=False)"
   ]
  },
  {
   "cell_type": "code",
   "execution_count": 20,
   "metadata": {},
   "outputs": [
    {
     "data": {
      "application/vnd.jupyter.widget-view+json": {
       "model_id": "a5348680876d49048fc7d4e6b01c8302",
       "version_major": 2,
       "version_minor": 0
      },
      "text/plain": [
       "GamutMedicinaRGBSaturationWidget(children=(Output(layout=Layout(border='solid 4px #222', margin='4px', padding…"
      ]
     },
     "metadata": {},
     "output_type": "display_data"
    }
   ],
   "source": [
    "GamutMedicinaRGBSaturationWidget(\n",
    "    '../resources/images/Cornell_Box_Rigid_Spheres_190_Patch_Roughplastic_Point_Grey_Grasshopper_50S5C_RGB_W_A.exr')"
   ]
  },
  {
   "cell_type": "code",
   "execution_count": 21,
   "metadata": {},
   "outputs": [
    {
     "data": {
      "application/vnd.jupyter.widget-view+json": {
       "model_id": "6db2ec370844428c9e280e6fe79440f4",
       "version_major": 2,
       "version_minor": 0
      },
      "text/plain": [
       "GamutMedicinaRGBSaturationWidget(children=(Output(layout=Layout(border='solid 4px #222', margin='4px', padding…"
      ]
     },
     "metadata": {},
     "output_type": "display_data"
    }
   ],
   "source": [
    "GamutMedicinaRGBSaturationWidget(\n",
    "    '../resources/images/5DMarkII_Spac-o-ween_001.exr')"
   ]
  },
  {
   "cell_type": "code",
   "execution_count": 22,
   "metadata": {},
   "outputs": [
    {
     "data": {
      "application/vnd.jupyter.widget-view+json": {
       "model_id": "db4afa2c39d8427bad9cde9270c4f078",
       "version_major": 2,
       "version_minor": 0
      },
      "text/plain": [
       "GamutMedicinaRGBSaturationWidget(children=(Output(layout=Layout(border='solid 4px #222', margin='4px', padding…"
      ]
     },
     "metadata": {},
     "output_type": "display_data"
    }
   ],
   "source": [
    "GamutMedicinaRGBSaturationWidget(\n",
    "    '../resources/images/Collage_01.exr')"
   ]
  },
  {
   "cell_type": "markdown",
   "metadata": {},
   "source": [
    "## Compared Model Distortions"
   ]
  },
  {
   "cell_type": "markdown",
   "metadata": {},
   "source": [
    "Various model distortions comparisons.\n",
    "\n",
    "Note\n",
    "----\n",
    "\n",
    "> *Mansencal and Scharfenberg (2020)* gamut mapping study model tends to produce rounder surface area compared to that of *Smith (2020)*. Note also how the magenta area along the line of purples is much more compressed."
   ]
  },
  {
   "cell_type": "code",
   "execution_count": 23,
   "metadata": {},
   "outputs": [],
   "source": [
    "colour.write_image(\n",
    "    colour_wheel(clip_circle=False)[..., 0:3],\n",
    "    '../resources/images/Colour_Wheel.exr')"
   ]
  },
  {
   "cell_type": "code",
   "execution_count": 24,
   "metadata": {},
   "outputs": [
    {
     "data": {
      "application/vnd.jupyter.widget-view+json": {
       "model_id": "e7f49b15cf7046a6926353125af19422",
       "version_major": 2,
       "version_minor": 0
      },
      "text/plain": [
       "GamutMedicinaHSVControlWidget(children=(Output(layout=Layout(border='solid 4px #222', margin='4px', padding='0…"
      ]
     },
     "metadata": {},
     "output_type": "display_data"
    }
   ],
   "source": [
    "GamutMedicinaHSVControlWidget(\n",
    "    '../resources/images/Colour_Wheel.exr',\n",
    "    image_decimation=20,\n",
    "    protected_area_threshold=0.5,\n",
    "    compression_threshold=0.5,\n",
    "    enable_colour_wheel=False)"
   ]
  },
  {
   "cell_type": "code",
   "execution_count": 25,
   "metadata": {},
   "outputs": [
    {
     "data": {
      "application/vnd.jupyter.widget-view+json": {
       "model_id": "bc4c8ae8bdce412bb8eb90bb7e20154e",
       "version_major": 2,
       "version_minor": 0
      },
      "text/plain": [
       "GamutMedicinaRGBSaturationWidget(children=(Output(layout=Layout(border='solid 4px #222', margin='4px', padding…"
      ]
     },
     "metadata": {},
     "output_type": "display_data"
    }
   ],
   "source": [
    "GamutMedicinaRGBSaturationWidget(\n",
    "    '../resources/images/Colour_Wheel.exr',\n",
    "    image_decimation=20,\n",
    "    compression_threshold=0.5)"
   ]
  },
  {
   "cell_type": "markdown",
   "metadata": {},
   "source": [
    "## Jhepc Extra Figures"
   ]
  },
  {
   "cell_type": "code",
   "execution_count": 26,
   "metadata": {},
   "outputs": [
    {
     "data": {
      "application/vnd.jupyter.widget-view+json": {
       "model_id": "5838222f41f24d83bdc9c65dd528737b",
       "version_major": 2,
       "version_minor": 0
      },
      "text/plain": [
       "GamutMedicinaHSVControlWidget(children=(Output(layout=Layout(border='solid 4px #222', margin='4px', padding='0…"
      ]
     },
     "metadata": {},
     "output_type": "display_data"
    }
   ],
   "source": [
    "GamutMedicinaHSVControlWidget(\n",
    "    '../resources/images/5DMarkII_Spac-o-ween_001.exr',\n",
    "    enable_colour_wheel=False,\n",
    "    enable_medicina=False)"
   ]
  },
  {
   "cell_type": "code",
   "execution_count": 27,
   "metadata": {},
   "outputs": [
    {
     "data": {
      "application/vnd.jupyter.widget-view+json": {
       "model_id": "3b8b01bc30004710937f43df9e4373d2",
       "version_major": 2,
       "version_minor": 0
      },
      "text/plain": [
       "GamutMedicinaHSVControlWidget(children=(Output(layout=Layout(border='solid 4px #222', margin='4px', padding='0…"
      ]
     },
     "metadata": {},
     "output_type": "display_data"
    }
   ],
   "source": [
    "GamutMedicinaHSVControlWidget(\n",
    "    '../resources/images/5DMarkII_Spac-o-ween_001.exr',\n",
    "    enable_colour_wheel=False,\n",
    "    show_out_of_gamut=True,\n",
    "    enable_medicina=False)"
   ]
  }
 ],
 "metadata": {
  "colab": {
   "collapsed_sections": [],
   "name": "gamut_mapping_ramblings_01",
   "provenance": []
  },
  "kernelspec": {
   "display_name": "Python 3",
   "language": "python",
   "name": "python3"
  },
  "language_info": {
   "codemirror_mode": {
    "name": "ipython",
    "version": 3
   },
   "file_extension": ".py",
   "mimetype": "text/x-python",
   "name": "python",
   "nbconvert_exporter": "python",
   "pygments_lexer": "ipython3",
   "version": "3.7.6"
  },
  "widgets": {
   "application/vnd.jupyter.widget-state+json": {
    "state": {
     "00198fa0458d4b30afaffcf92aeebdc8": {
      "model_module": "@jupyter-widgets/base",
      "model_module_version": "1.2.0",
      "model_name": "LayoutModel",
      "state": {}
     },
     "0033bc16e7a24d68928d0acc85bfb2b4": {
      "model_module": "@jupyter-widgets/base",
      "model_module_version": "1.2.0",
      "model_name": "LayoutModel",
      "state": {}
     },
     "0038cf9a33204761a2036411d4ce62ed": {
      "model_module": "@jupyter-widgets/base",
      "model_module_version": "1.2.0",
      "model_name": "LayoutModel",
      "state": {}
     },
     "00572cfcb15e4e6588db02388895a0c4": {
      "model_module": "@jupyter-widgets/base",
      "model_module_version": "1.2.0",
      "model_name": "LayoutModel",
      "state": {}
     },
     "005b0141f0aa48efb5fe53e9368f9aaf": {
      "model_module": "@jupyter-widgets/controls",
      "model_module_version": "1.5.0",
      "model_name": "SliderStyleModel",
      "state": {
       "description_width": ""
      }
     },
     "00774252611e46c9a827bd3a73247566": {
      "model_module": "@jupyter-widgets/base",
      "model_module_version": "1.2.0",
      "model_name": "LayoutModel",
      "state": {}
     },
     "00900d6974354041ac168552ac8dc07c": {
      "model_module": "@jupyter-widgets/controls",
      "model_module_version": "1.5.0",
      "model_name": "ButtonModel",
      "state": {
       "description": "Reset Compression Controls",
       "layout": "IPY_MODEL_23852e4578854bb895cee7169c6c7773",
       "style": "IPY_MODEL_943e1c83e8364e40a2cf0f39a5717396"
      }
     },
     "00915f73d16f431bb53d3ec4121ff776": {
      "model_module": "@jupyter-widgets/controls",
      "model_module_version": "1.5.0",
      "model_name": "ButtonModel",
      "state": {
       "description": "Reset Exposure",
       "layout": "IPY_MODEL_531d830a793d490e9cac532485ce414a",
       "style": "IPY_MODEL_710122d7ca7546e4afdbde100374adff"
      }
     },
     "009752db8f9b4b6ba915c71d6ae37283": {
      "model_module": "@jupyter-widgets/base",
      "model_module_version": "1.2.0",
      "model_name": "LayoutModel",
      "state": {}
     },
     "00e09fe9ed844eabb8d43af62ae40219": {
      "model_module": "@jupyter-widgets/controls",
      "model_module_version": "1.5.0",
      "model_name": "SliderStyleModel",
      "state": {
       "description_width": ""
      }
     },
     "00e34089eb184f65b746ea623be8ad8c": {
      "model_module": "@jupyter-widgets/controls",
      "model_module_version": "1.5.0",
      "model_name": "ButtonModel",
      "state": {
       "description": "Reset Saturation Controls",
       "layout": "IPY_MODEL_e9bc96ae5b824cba8aeaca4abd70acdf",
       "style": "IPY_MODEL_15681de199f24ceeb05736dd06f8e2d8"
      }
     },
     "0105a5516e3a4997931dca57a09621cb": {
      "model_module": "@jupyter-widgets/base",
      "model_module_version": "1.2.0",
      "model_name": "LayoutModel",
      "state": {}
     },
     "0172c8bfe5824a9ba02414599bf64e04": {
      "model_module": "@jupyter-widgets/base",
      "model_module_version": "1.2.0",
      "model_name": "LayoutModel",
      "state": {}
     },
     "0176c27b5dfa4e3d9ae7ca7ef8ae0533": {
      "model_module": "@jupyter-widgets/controls",
      "model_module_version": "1.5.0",
      "model_name": "DropdownModel",
      "state": {
       "_options_labels": [
        "sRGB",
        "sRGB (ACES)",
        "Display P3",
        "Display P3 (ACES)"
       ],
       "description": "View Transform:",
       "index": 0,
       "layout": "IPY_MODEL_09fcc6cec6974ca89bf7fa4e92086ef1",
       "style": "IPY_MODEL_c361f88bf3c449eea9435676a3a635bd"
      }
     },
     "01a10368e45b4dd4ad1668705c86dc14": {
      "model_module": "@jupyter-widgets/controls",
      "model_module_version": "1.5.0",
      "model_name": "ButtonStyleModel",
      "state": {}
     },
     "01c49e64a10e4f169d847452869b86bf": {
      "model_module": "@jupyter-widgets/controls",
      "model_module_version": "1.5.0",
      "model_name": "SliderStyleModel",
      "state": {
       "description_width": ""
      }
     },
     "01c8a871a67c4373a13e93e0febbdc76": {
      "model_module": "@jupyter-widgets/controls",
      "model_module_version": "1.5.0",
      "model_name": "SliderStyleModel",
      "state": {
       "description_width": ""
      }
     },
     "01d4258bbe0f44418bade5665d2213c6": {
      "model_module": "@jupyter-widgets/controls",
      "model_module_version": "1.5.0",
      "model_name": "FloatSliderModel",
      "state": {
       "description": "Exposure",
       "layout": "IPY_MODEL_1eb98f802da04f05947d78a358c46316",
       "max": 8,
       "min": -8,
       "step": 0.1,
       "style": "IPY_MODEL_882fe6a93e034f31ac512f448d8600e1"
      }
     },
     "01eba5091be84dc985cbdb430979e924": {
      "model_module": "@jupyter-widgets/controls",
      "model_module_version": "1.5.0",
      "model_name": "ButtonStyleModel",
      "state": {}
     },
     "021b13c2a3654fb6abe866a5bfd3db31": {
      "model_module": "@jupyter-widgets/base",
      "model_module_version": "1.2.0",
      "model_name": "LayoutModel",
      "state": {}
     },
     "02247cd19f644b8499e52f06002ad48b": {
      "model_module": "@jupyter-widgets/base",
      "model_module_version": "1.2.0",
      "model_name": "LayoutModel",
      "state": {}
     },
     "02279ca36cea484eb381c5b66b1ab3bb": {
      "model_module": "jupyter-matplotlib",
      "model_module_version": "^0.7.2",
      "model_name": "ToolbarModel",
      "state": {
       "layout": "IPY_MODEL_480691add79e4201af4defdf18f52d0a",
       "toolitems": [
        [
         "Home",
         "Reset original view",
         "home",
         "home"
        ],
        [
         "Back",
         "Back to previous view",
         "arrow-left",
         "back"
        ],
        [
         "Forward",
         "Forward to next view",
         "arrow-right",
         "forward"
        ],
        [
         "Pan",
         "Pan axes with left mouse, zoom with right",
         "arrows",
         "pan"
        ],
        [
         "Zoom",
         "Zoom to rectangle",
         "square-o",
         "zoom"
        ],
        [
         "Download",
         "Download plot",
         "floppy-o",
         "save_figure"
        ]
       ]
      }
     },
     "025f1e8612324b9484b4ed30007c21ba": {
      "model_module": "@jupyter-widgets/base",
      "model_module_version": "1.2.0",
      "model_name": "LayoutModel",
      "state": {}
     },
     "0280955893ca49d489d6ea6d65fac726": {
      "model_module": "@jupyter-widgets/controls",
      "model_module_version": "1.5.0",
      "model_name": "FloatSliderModel",
      "state": {
       "description": "90°",
       "layout": "IPY_MODEL_9f7e10effc7d43658779c540b43c52b7",
       "max": 1,
       "min": -1,
       "step": 0.01,
       "style": "IPY_MODEL_f26703209e7142f6a42ad9f2ee4b993b"
      }
     },
     "02b4545a66cf4fccb79b157f39bf1d03": {
      "model_module": "@jupyter-widgets/controls",
      "model_module_version": "1.5.0",
      "model_name": "HBoxModel",
      "state": {
       "children": [
        "IPY_MODEL_66382184b9d447b0aa7903ebf855006d",
        "IPY_MODEL_34bd05e14537488a9a05615533878f71",
        "IPY_MODEL_19e75b16ec9a42abbca4f71144aaccf7",
        "IPY_MODEL_71169075897e4aa6901bcb9477b524c3"
       ],
       "layout": "IPY_MODEL_ecf93640ca1a4cd9a933fc69f704e19b"
      }
     },
     "02b7b0f5a953485aa78b729c3639a34b": {
      "model_module": "@jupyter-widgets/base",
      "model_module_version": "1.2.0",
      "model_name": "LayoutModel",
      "state": {}
     },
     "02c6d4381384431f936a173c98914a78": {
      "model_module": "@jupyter-widgets/controls",
      "model_module_version": "1.5.0",
      "model_name": "SliderStyleModel",
      "state": {
       "description_width": ""
      }
     },
     "0347a3c2b52145ccb3a2a18c6d2aee80": {
      "model_module": "@jupyter-widgets/controls",
      "model_module_version": "1.5.0",
      "model_name": "DescriptionStyleModel",
      "state": {
       "description_width": ""
      }
     },
     "036bf607822a4a44a80a08f68e0920d7": {
      "model_module": "@jupyter-widgets/base",
      "model_module_version": "1.2.0",
      "model_name": "LayoutModel",
      "state": {}
     },
     "036e6dc02dbd4258946831957f682bb8": {
      "model_module": "@jupyter-widgets/controls",
      "model_module_version": "1.5.0",
      "model_name": "FloatSliderModel",
      "state": {
       "description": "315°",
       "layout": "IPY_MODEL_058c99cf6fa142c2a549a78cbf3f9ad6",
       "max": 1,
       "min": -1,
       "step": 0.01,
       "style": "IPY_MODEL_0d87d03037c549d6925f0886375db708"
      }
     },
     "037b0c1f7f904b1697f1baf93dbdda5d": {
      "model_module": "jupyter-matplotlib",
      "model_module_version": "^0.7.2",
      "model_name": "MPLCanvasModel",
      "state": {
       "_figure_label": "Figure 2",
       "_height": 396,
       "_width": 1100,
       "header_visible": false,
       "layout": "IPY_MODEL_a38e3241a9c540eba8d1d83c40f73f1d",
       "resizable": false,
       "toolbar": "IPY_MODEL_682de600add74234946222eb23b9c7f6",
       "toolbar_position": "left",
       "toolbar_visible": false
      }
     },
     "03a8b8e73aeb45cbaaf1f642ef9e9eca": {
      "model_module": "@jupyter-widgets/base",
      "model_module_version": "1.2.0",
      "model_name": "LayoutModel",
      "state": {}
     },
     "03dedd09cb034fbfbc342758c4d4ecbf": {
      "model_module": "@jupyter-widgets/base",
      "model_module_version": "1.2.0",
      "model_name": "LayoutModel",
      "state": {}
     },
     "03f06c068b7542b49bad4eda8fc6a4cb": {
      "model_module": "@jupyter-widgets/controls",
      "model_module_version": "1.5.0",
      "model_name": "HBoxModel",
      "state": {
       "children": [
        "IPY_MODEL_22efd15ba2284c0ab06d163fdb8fd17e",
        "IPY_MODEL_e49c2e56891444ef8d00d038afd5f620"
       ],
       "layout": "IPY_MODEL_a6b2c53940ee4a1a96475d68fd833f15"
      }
     },
     "03f38b59d38b4485901d87c70e54d875": {
      "model_module": "@jupyter-widgets/controls",
      "model_module_version": "1.5.0",
      "model_name": "FloatSliderModel",
      "state": {
       "description": "Compression Threshold",
       "layout": "IPY_MODEL_929b655073c74fca8f8eb8434fd63026",
       "max": 1,
       "step": 0.01,
       "style": "IPY_MODEL_675f8a88b7804875a26248d24210261e",
       "value": 0.8
      }
     },
     "04018c163fa6465c8cc3e288e98d5e26": {
      "model_module": "@jupyter-widgets/base",
      "model_module_version": "1.2.0",
      "model_name": "LayoutModel",
      "state": {}
     },
     "0440b56506e149588dced7079341128c": {
      "model_module": "@jupyter-widgets/controls",
      "model_module_version": "1.5.0",
      "model_name": "ButtonStyleModel",
      "state": {}
     },
     "044f3d9138a74a388d5314d7a57d3d5a": {
      "model_module": "@jupyter-widgets/base",
      "model_module_version": "1.2.0",
      "model_name": "LayoutModel",
      "state": {}
     },
     "045810fcf17e4dc3b67848bda1ea7be1": {
      "model_module": "@jupyter-widgets/controls",
      "model_module_version": "1.5.0",
      "model_name": "CheckboxModel",
      "state": {
       "description": "Show Out-of-Gamut",
       "disabled": false,
       "layout": "IPY_MODEL_a6503df3d448470dae4c4d3127b52f00",
       "style": "IPY_MODEL_338324756f5a4d1e948c2167582769b9",
       "value": false
      }
     },
     "046929d1b11640e2a6ed2dfcc36774c4": {
      "model_module": "@jupyter-widgets/base",
      "model_module_version": "1.2.0",
      "model_name": "LayoutModel",
      "state": {
       "border": "solid 4px #222",
       "margin": "4px",
       "padding": "0"
      }
     },
     "0471387e2f1e4562a3b9409f7cb634a2": {
      "model_module": "@jupyter-widgets/base",
      "model_module_version": "1.2.0",
      "model_name": "LayoutModel",
      "state": {}
     },
     "049a1a94c2a14d5290c28827721da3c5": {
      "model_module": "@jupyter-widgets/base",
      "model_module_version": "1.2.0",
      "model_name": "LayoutModel",
      "state": {}
     },
     "04b18be798ad4e8791c4ce37a64c8504": {
      "model_module": "@jupyter-widgets/controls",
      "model_module_version": "1.5.0",
      "model_name": "FloatSliderModel",
      "state": {
       "description": "Exposure",
       "layout": "IPY_MODEL_50d163ad24af479fad8f75c5db8c70d2",
       "max": 8,
       "min": -8,
       "step": 0.1,
       "style": "IPY_MODEL_174221dc1b97436fa89d2fefa2064c44"
      }
     },
     "04d689b60c08422d9d11d32caa5d59ee": {
      "model_module": "@jupyter-widgets/controls",
      "model_module_version": "1.5.0",
      "model_name": "HBoxModel",
      "state": {
       "children": [
        "IPY_MODEL_f012ff15810149b1bc06d3c2541d1cbb",
        "IPY_MODEL_479a3ce3398b43f385a3722880c00c4a",
        "IPY_MODEL_d494b646be374aa681ea6b2f28a08ffe"
       ],
       "layout": "IPY_MODEL_2b6145b8da3c4f94b0fb80413398704a"
      }
     },
     "04dca5244a3c4f68b9ec6900cf33624d": {
      "model_module": "@jupyter-widgets/controls",
      "model_module_version": "1.5.0",
      "model_name": "ButtonModel",
      "state": {
       "description": "Export Image",
       "layout": "IPY_MODEL_dbdb85f8faa54619979c6d7c4ae76b68",
       "style": "IPY_MODEL_6dbd9c30ddb44bd1b1e7e70f19358567"
      }
     },
     "0504f7f5b8ac45f2ad7769b9a6af2134": {
      "model_module": "@jupyter-widgets/base",
      "model_module_version": "1.2.0",
      "model_name": "LayoutModel",
      "state": {}
     },
     "051311e98e944899a0e86d6e22e4a089": {
      "model_module": "@jupyter-widgets/base",
      "model_module_version": "1.2.0",
      "model_name": "LayoutModel",
      "state": {}
     },
     "051a0f2195334a03bcdb5e3f3d0afaab": {
      "model_module": "@jupyter-widgets/base",
      "model_module_version": "1.2.0",
      "model_name": "LayoutModel",
      "state": {
       "border": "solid 4px #222",
       "margin": "4px",
       "padding": "0"
      }
     },
     "05329cbec4924e06a35de2b467bb5b0f": {
      "model_module": "@jupyter-widgets/controls",
      "model_module_version": "1.5.0",
      "model_name": "VBoxModel",
      "state": {
       "children": [
        "IPY_MODEL_260648a62c0742439f57892d8936380a",
        "IPY_MODEL_99871a0ef0b7409996090db4d436a23b"
       ],
       "layout": "IPY_MODEL_a720eac557b94347a992243609612604"
      }
     },
     "053c521e6d534e34815828cc30627512": {
      "model_module": "@jupyter-widgets/base",
      "model_module_version": "1.2.0",
      "model_name": "LayoutModel",
      "state": {}
     },
     "0542b32d8faa459893a0e748d7f762fa": {
      "model_module": "@jupyter-widgets/controls",
      "model_module_version": "1.5.0",
      "model_name": "SliderStyleModel",
      "state": {
       "description_width": ""
      }
     },
     "05656cadcc3a4f939c3fff0c6f91018d": {
      "model_module": "@jupyter-widgets/controls",
      "model_module_version": "1.5.0",
      "model_name": "FloatSliderModel",
      "state": {
       "description": "315°",
       "layout": "IPY_MODEL_9110ec55e1144f058494c5e8f71f26fb",
       "max": 1,
       "min": -1,
       "step": 0.01,
       "style": "IPY_MODEL_88b2e0f026f8418aa116e248ca65a5d1"
      }
     },
     "0574b2a05c2846d7a96ad0487f4d8d4f": {
      "model_module": "@jupyter-widgets/controls",
      "model_module_version": "1.5.0",
      "model_name": "VBoxModel",
      "state": {
       "children": [
        "IPY_MODEL_ea366e738545466a89090d9a021f847d",
        "IPY_MODEL_8dda2af76b314215b2577940ab66b6c8",
        "IPY_MODEL_5542e1afb1e54231a301bd84bfcd23d3"
       ],
       "layout": "IPY_MODEL_dd5f327443714f78a1d2b49300f13246"
      }
     },
     "058c99cf6fa142c2a549a78cbf3f9ad6": {
      "model_module": "@jupyter-widgets/base",
      "model_module_version": "1.2.0",
      "model_name": "LayoutModel",
      "state": {}
     },
     "059629770f314eb28de89d90de161ba9": {
      "model_module": "@jupyter-widgets/base",
      "model_module_version": "1.2.0",
      "model_name": "LayoutModel",
      "state": {}
     },
     "0599d55a81404ebc9b241be0b42d8dfb": {
      "model_module": "@jupyter-widgets/controls",
      "model_module_version": "1.5.0",
      "model_name": "ButtonStyleModel",
      "state": {}
     },
     "05b04ec9b0a240579bb135db4d6181c3": {
      "model_module": "@jupyter-widgets/controls",
      "model_module_version": "1.5.0",
      "model_name": "SliderStyleModel",
      "state": {
       "description_width": ""
      }
     },
     "05b9b75759c34b36873dc5ad795450ee": {
      "model_module": "@jupyter-widgets/controls",
      "model_module_version": "1.5.0",
      "model_name": "CheckboxModel",
      "state": {
       "description": "Show Out-of-Gamut",
       "disabled": false,
       "layout": "IPY_MODEL_1cdfd5e6e906448a9674d9a8dac42bbb",
       "style": "IPY_MODEL_bbc9148934ae498885ca9921784768d6",
       "value": false
      }
     },
     "05e9fcafe9fb4b89b5d02ed6287de414": {
      "model_module": "@jupyter-widgets/controls",
      "model_module_version": "1.5.0",
      "model_name": "DescriptionStyleModel",
      "state": {
       "description_width": ""
      }
     },
     "05f462d24fc1460bbec18f9f37944d2a": {
      "model_module": "@jupyter-widgets/controls",
      "model_module_version": "1.5.0",
      "model_name": "DescriptionStyleModel",
      "state": {
       "description_width": ""
      }
     },
     "060c695c3afc44a4b624202b219e8328": {
      "model_module": "@jupyter-widgets/controls",
      "model_module_version": "1.5.0",
      "model_name": "SliderStyleModel",
      "state": {
       "description_width": ""
      }
     },
     "0639731ba59f4acba644833b17efd1fb": {
      "model_module": "@jupyter-widgets/controls",
      "model_module_version": "1.5.0",
      "model_name": "ButtonStyleModel",
      "state": {}
     },
     "0649735a8cbe4e0ba9dbe55502a864be": {
      "model_module": "@jupyter-widgets/output",
      "model_module_version": "1.0.0",
      "model_name": "OutputModel",
      "state": {
       "layout": "IPY_MODEL_213194d741ba40a2b34f85902017a99a",
       "outputs": [
        {
         "data": {
          "application/vnd.jupyter.widget-view+json": {
           "model_id": "ac3771f64b2445e287854a19497745e3",
           "version_major": 2,
           "version_minor": 0
          },
          "text/plain": "Canvas(toolbar=Toolbar(toolitems=[('Home', 'Reset original view', 'home', 'home'), ('Back', 'Back to previous …"
         },
         "metadata": {},
         "output_type": "display_data"
        }
       ]
      }
     },
     "065f9bfb549d42109bc3f4521cfd6966": {
      "model_module": "@jupyter-widgets/controls",
      "model_module_version": "1.5.0",
      "model_name": "DropdownModel",
      "state": {
       "_options_labels": [
        "sRGB",
        "sRGB (ACES)",
        "Display P3",
        "Display P3 (ACES)"
       ],
       "description": "View Transform:",
       "index": 0,
       "layout": "IPY_MODEL_2591cea6dc3a42cc843ff5686f29c1ec",
       "style": "IPY_MODEL_9a7d94330df54059a523ff724e8cacd7"
      }
     },
     "06724e37e3c54e46a6d3126ec4b68246": {
      "model_module": "@jupyter-widgets/base",
      "model_module_version": "1.2.0",
      "model_name": "LayoutModel",
      "state": {}
     },
     "0693ff1f411149b491f953b9af1bc104": {
      "model_module": "@jupyter-widgets/base",
      "model_module_version": "1.2.0",
      "model_name": "LayoutModel",
      "state": {}
     },
     "06b18660ff054d60a901a70f0b801110": {
      "model_module": "jupyter-matplotlib",
      "model_module_version": "^0.7.2",
      "model_name": "ToolbarModel",
      "state": {
       "layout": "IPY_MODEL_c6aa02a639a94f95a91aaff8c2fb304d",
       "toolitems": [
        [
         "Home",
         "Reset original view",
         "home",
         "home"
        ],
        [
         "Back",
         "Back to previous view",
         "arrow-left",
         "back"
        ],
        [
         "Forward",
         "Forward to next view",
         "arrow-right",
         "forward"
        ],
        [
         "Pan",
         "Pan axes with left mouse, zoom with right",
         "arrows",
         "pan"
        ],
        [
         "Zoom",
         "Zoom to rectangle",
         "square-o",
         "zoom"
        ],
        [
         "Download",
         "Download plot",
         "floppy-o",
         "save_figure"
        ]
       ]
      }
     },
     "06baeba45614477c89e401fc28c98d41": {
      "model_module": "@jupyter-widgets/base",
      "model_module_version": "1.2.0",
      "model_name": "LayoutModel",
      "state": {}
     },
     "06dc5610568a44b2a4316f9869066208": {
      "model_module": "@jupyter-widgets/controls",
      "model_module_version": "1.5.0",
      "model_name": "HBoxModel",
      "state": {
       "children": [
        "IPY_MODEL_784f80c4741747a2a18a6d6cc6d87c0e",
        "IPY_MODEL_dc8b6ae12e6549fe95f96e3aa2147be1",
        "IPY_MODEL_611227689bc84f78a65f7fe9bf749b9b"
       ],
       "layout": "IPY_MODEL_dad86ffb218b4bf593747c018c34753d"
      }
     },
     "06ec05fe6b194065adfebef56961e393": {
      "model_module": "@jupyter-widgets/controls",
      "model_module_version": "1.5.0",
      "model_name": "FloatSliderModel",
      "state": {
       "description": "Exposure",
       "layout": "IPY_MODEL_cab548eb01f24ebba70fa8ca6f8208a5",
       "max": 8,
       "min": -8,
       "step": 0.1,
       "style": "IPY_MODEL_27e7b67144ce4097a35aba81830b5f21"
      }
     },
     "070778b9c4944eaa9d096c872f8929f0": {
      "model_module": "@jupyter-widgets/controls",
      "model_module_version": "1.5.0",
      "model_name": "FloatSliderModel",
      "state": {
       "description": "Protected Area Threshold",
       "layout": "IPY_MODEL_920e1c62c8f24a54ba1ef29479f704b9",
       "max": 1,
       "step": 0.01,
       "style": "IPY_MODEL_87866a269c8f4775a0c79137174d1175",
       "value": 0.7
      }
     },
     "072d92e999ea4cffa8d39ee9d4a957d9": {
      "model_module": "@jupyter-widgets/base",
      "model_module_version": "1.2.0",
      "model_name": "LayoutModel",
      "state": {}
     },
     "072ed41678144eafbbb34fba74320151": {
      "model_module": "@jupyter-widgets/base",
      "model_module_version": "1.2.0",
      "model_name": "LayoutModel",
      "state": {}
     },
     "0761728ee2fd4fa48fc3bdc33654b771": {
      "model_module": "@jupyter-widgets/base",
      "model_module_version": "1.2.0",
      "model_name": "LayoutModel",
      "state": {}
     },
     "077e82fd72ea45a29d66864922b6d3e5": {
      "model_module": "@jupyter-widgets/controls",
      "model_module_version": "1.5.0",
      "model_name": "VBoxModel",
      "state": {
       "children": [
        "IPY_MODEL_4325909edb9f4dd696056f0ee1ab89c7",
        "IPY_MODEL_3163a0dbf039473fa063b86bd8246b36",
        "IPY_MODEL_b64e5877ba87464389221457af9c255c"
       ],
       "layout": "IPY_MODEL_38f93d171dfd4b80ae97b99ff4761f9f"
      }
     },
     "07b510b692354bbcb8c6e09f795dc80a": {
      "model_module": "@jupyter-widgets/controls",
      "model_module_version": "1.5.0",
      "model_name": "FloatSliderModel",
      "state": {
       "description": "180°",
       "layout": "IPY_MODEL_562f89933b3f4af5a1c5508773cf5c12",
       "max": 1,
       "min": -1,
       "step": 0.01,
       "style": "IPY_MODEL_86164ffb6d1c4b8781f582b4ea51932f"
      }
     },
     "07b5d52780034d84b823729ea9774193": {
      "model_module": "@jupyter-widgets/base",
      "model_module_version": "1.2.0",
      "model_name": "LayoutModel",
      "state": {
       "border": "solid 4px #222",
       "margin": "4px",
       "padding": "0"
      }
     },
     "07cc08d0640645a6b69d2b23e83c3ec8": {
      "model_module": "@jupyter-widgets/controls",
      "model_module_version": "1.5.0",
      "model_name": "HBoxModel",
      "state": {
       "children": [
        "IPY_MODEL_14a8b5e8be1540abaf6d401b57981eb6",
        "IPY_MODEL_db0b8cde1bf44a34a16122c163b5fd17",
        "IPY_MODEL_0940d8be4abe400aa371038d634f5789",
        "IPY_MODEL_0f32090679714fda9b69c564982c21a3"
       ],
       "layout": "IPY_MODEL_0d9e306d849645499f3f2127dc41d4aa"
      }
     },
     "07da4b3f0f6043ceb8fe6ecf661d4f95": {
      "model_module": "@jupyter-widgets/base",
      "model_module_version": "1.2.0",
      "model_name": "LayoutModel",
      "state": {}
     },
     "08017c392f144022becf0870f01cd9b6": {
      "model_module": "@jupyter-widgets/controls",
      "model_module_version": "1.5.0",
      "model_name": "ButtonModel",
      "state": {
       "description": "Reset Hue Controls",
       "layout": "IPY_MODEL_75888680e387445c8310741f5d81277a",
       "style": "IPY_MODEL_bce7346bbf2849e19b2b7013a22b0a19"
      }
     },
     "080a06c26d3d4e1b9d998abb9efaf32b": {
      "model_module": "@jupyter-widgets/controls",
      "model_module_version": "1.5.0",
      "model_name": "FloatSliderModel",
      "state": {
       "description": "270°",
       "layout": "IPY_MODEL_f04e040d56b943f7adf8658728af6c38",
       "max": 1,
       "min": -1,
       "step": 0.01,
       "style": "IPY_MODEL_35f8e1fb12984722ad09abd0059db2e3"
      }
     },
     "08105720a30a4beca06d6cd5d89ff99c": {
      "model_module": "@jupyter-widgets/base",
      "model_module_version": "1.2.0",
      "model_name": "LayoutModel",
      "state": {}
     },
     "08198d81d05443dfaa6f044d979ed707": {
      "model_module": "@jupyter-widgets/controls",
      "model_module_version": "1.5.0",
      "model_name": "VBoxModel",
      "state": {
       "children": [
        "IPY_MODEL_0ab7f1c307b84c1e9ebd12e488729888"
       ],
       "layout": "IPY_MODEL_1d2201ac4b484633942c871dfdda39bc"
      }
     },
     "08293ec9c2f04d2fbd55b02decce70a3": {
      "model_module": "@jupyter-widgets/controls",
      "model_module_version": "1.5.0",
      "model_name": "FloatSliderModel",
      "state": {
       "description": "Compression Threshold",
       "layout": "IPY_MODEL_fe1e149a68a04a3f987feab2948cbe1b",
       "max": 1,
       "step": 0.01,
       "style": "IPY_MODEL_bcabcce78915466ba5d507a2f46e65f7",
       "value": 0.8
      }
     },
     "08575ac8b750447d9c1406347527767e": {
      "model_module": "@jupyter-widgets/base",
      "model_module_version": "1.2.0",
      "model_name": "LayoutModel",
      "state": {}
     },
     "0873d02f5e8e45fda235bfc38846f3d7": {
      "model_module": "@jupyter-widgets/controls",
      "model_module_version": "1.5.0",
      "model_name": "ButtonStyleModel",
      "state": {}
     },
     "087502924003499ab4d41d52ceec17f1": {
      "model_module": "@jupyter-widgets/controls",
      "model_module_version": "1.5.0",
      "model_name": "DescriptionStyleModel",
      "state": {
       "description_width": ""
      }
     },
     "088ff4ffc39c4633ba7922efd47b494a": {
      "model_module": "@jupyter-widgets/base",
      "model_module_version": "1.2.0",
      "model_name": "LayoutModel",
      "state": {}
     },
     "089044f1422a4c2ba725a7b5d323022f": {
      "model_module": "@jupyter-widgets/base",
      "model_module_version": "1.2.0",
      "model_name": "LayoutModel",
      "state": {}
     },
     "08a7c22738c8432998cadd68d3a5a1bd": {
      "model_module": "@jupyter-widgets/base",
      "model_module_version": "1.2.0",
      "model_name": "LayoutModel",
      "state": {}
     },
     "08c935cb32c34402967aecafee3df8e5": {
      "model_module": "@jupyter-widgets/controls",
      "model_module_version": "1.5.0",
      "model_name": "FloatSliderModel",
      "state": {
       "description": "Compression Threshold",
       "layout": "IPY_MODEL_088ff4ffc39c4633ba7922efd47b494a",
       "max": 1,
       "step": 0.01,
       "style": "IPY_MODEL_eed71932c01a4adf98dd1d957bc518d6",
       "value": 0.8
      }
     },
     "08d06b91ed1849d18c200c529c301652": {
      "model_module": "@jupyter-widgets/base",
      "model_module_version": "1.2.0",
      "model_name": "LayoutModel",
      "state": {}
     },
     "091a79b19e014591b5015a112370f7e8": {
      "model_module": "@jupyter-widgets/controls",
      "model_module_version": "1.5.0",
      "model_name": "HBoxModel",
      "state": {
       "children": [
        "IPY_MODEL_c3808184a3284e038a7c6623a689cde6",
        "IPY_MODEL_519af333293044d6a6d56c13cc6e9654",
        "IPY_MODEL_ad92505ceea149f789b42517eab535b3"
       ],
       "layout": "IPY_MODEL_8d864fe7fb774b27b7e430a30bdc6abc"
      }
     },
     "0935cf5d8f864b2da1452f7c2e7b88a3": {
      "model_module": "@jupyter-widgets/controls",
      "model_module_version": "1.5.0",
      "model_name": "ButtonStyleModel",
      "state": {}
     },
     "093fe3b708954d64a8c6d1090c57713c": {
      "model_module": "@jupyter-widgets/controls",
      "model_module_version": "1.5.0",
      "model_name": "VBoxModel",
      "state": {
       "children": [
        "IPY_MODEL_1208eecad0c54205ba8f231647fd1223",
        "IPY_MODEL_0e8948a1c97d43d49730a7f92caa6c0d",
        "IPY_MODEL_0280955893ca49d489d6ea6d65fac726"
       ],
       "layout": "IPY_MODEL_c123bea71261476db109cec8404fb4a6"
      }
     },
     "0940d8be4abe400aa371038d634f5789": {
      "model_module": "@jupyter-widgets/controls",
      "model_module_version": "1.5.0",
      "model_name": "VBoxModel",
      "state": {
       "children": [
        "IPY_MODEL_cf009646e051426ab6aeea1968a4ca89",
        "IPY_MODEL_f9c988dd575447379f937ce17e6eafac",
        "IPY_MODEL_43575ed50e214600aabb335b86d84475"
       ],
       "layout": "IPY_MODEL_1f37251d4dfb4963bc60ad1cae45f798"
      }
     },
     "0976f2db124a4df9a18167d214b0e39a": {
      "model_module": "@jupyter-widgets/base",
      "model_module_version": "1.2.0",
      "model_name": "LayoutModel",
      "state": {}
     },
     "097f80b73926418a8b2134db4a705a4c": {
      "model_module": "@jupyter-widgets/controls",
      "model_module_version": "1.5.0",
      "model_name": "ButtonModel",
      "state": {
       "description": "Export Image",
       "layout": "IPY_MODEL_c0ea575f18a34be6810a16f2946b7d42",
       "style": "IPY_MODEL_f2d4d84e967b46ca8c8aeded7d3ca2ab"
      }
     },
     "09d4adb52a344e5c8d5364cac9115d6b": {
      "model_module": "@jupyter-widgets/base",
      "model_module_version": "1.2.0",
      "model_name": "LayoutModel",
      "state": {}
     },
     "09d906302a77479fa2aae75b27ac396e": {
      "model_module": "@jupyter-widgets/controls",
      "model_module_version": "1.5.0",
      "model_name": "VBoxModel",
      "state": {
       "children": [
        "IPY_MODEL_184fa9f336ec4f71bef599c1bbc69924",
        "IPY_MODEL_07b510b692354bbcb8c6e09f795dc80a",
        "IPY_MODEL_dda2f4c5b3154ef4837c9ca999e2472f"
       ],
       "layout": "IPY_MODEL_a6b27bf44a93426f826b4999a3d8a0b9"
      }
     },
     "09dd76a6c5c14055a40bd6f32d762a46": {
      "model_module": "@jupyter-widgets/base",
      "model_module_version": "1.2.0",
      "model_name": "LayoutModel",
      "state": {}
     },
     "09fcc6cec6974ca89bf7fa4e92086ef1": {
      "model_module": "@jupyter-widgets/base",
      "model_module_version": "1.2.0",
      "model_name": "LayoutModel",
      "state": {}
     },
     "09fd0b27701d4d09af56f82d5be54ff8": {
      "model_module": "@jupyter-widgets/base",
      "model_module_version": "1.2.0",
      "model_name": "LayoutModel",
      "state": {}
     },
     "0a1cad6d3ec94e3a92436466e21cbfbd": {
      "model_module": "@jupyter-widgets/controls",
      "model_module_version": "1.5.0",
      "model_name": "DropdownModel",
      "state": {
       "_options_labels": [
        "tanh",
        "atan",
        "simple"
       ],
       "description": "Compression Function:",
       "index": 0,
       "layout": "IPY_MODEL_255dbdb2fd924770be7fd6de24be93f9",
       "style": "IPY_MODEL_2415a3e60f1a4db78520fe1be2148527"
      }
     },
     "0a2957cd0a414e188bbcc7db81421a07": {
      "model_module": "@jupyter-widgets/base",
      "model_module_version": "1.2.0",
      "model_name": "LayoutModel",
      "state": {}
     },
     "0a56b9f712014a46826f2f7ff8c41eb6": {
      "model_module": "@jupyter-widgets/base",
      "model_module_version": "1.2.0",
      "model_name": "LayoutModel",
      "state": {}
     },
     "0a851153158a402eb17f799846b308c5": {
      "model_module": "@jupyter-widgets/controls",
      "model_module_version": "1.5.0",
      "model_name": "HBoxModel",
      "state": {
       "children": [
        "IPY_MODEL_3d7d877ee7ea464990fd0edceed45c00",
        "IPY_MODEL_1dc47138c15d49148b07e6deeccc34d7",
        "IPY_MODEL_2ee6c3a5fdef43f9b1e40c4c669b5499"
       ],
       "layout": "IPY_MODEL_2d344d594f8f4970a3446358361dbb7f"
      }
     },
     "0a969ed1a3484e62aeef8316a1ca1118": {
      "model_module": "@jupyter-widgets/controls",
      "model_module_version": "1.5.0",
      "model_name": "DropdownModel",
      "state": {
       "_options_labels": [
        "sRGB",
        "sRGB (ACES)",
        "Display P3",
        "Display P3 (ACES)"
       ],
       "description": "View Transform:",
       "index": 0,
       "layout": "IPY_MODEL_e6be73df944b423388aac96938bc429a",
       "style": "IPY_MODEL_2ee55c2084c741e0b67b087dbf99c7d0"
      }
     },
     "0a9dd72a4b584d7abffca955aac53ec6": {
      "model_module": "@jupyter-widgets/controls",
      "model_module_version": "1.5.0",
      "model_name": "ButtonModel",
      "state": {
       "description": "Reset Protected Area",
       "layout": "IPY_MODEL_42ed3d9a1f2743c4803d2ea87a51366e",
       "style": "IPY_MODEL_148552d51128475f8d4de811c065177b"
      }
     },
     "0ab7f1c307b84c1e9ebd12e488729888": {
      "model_module": "@jupyter-widgets/controls",
      "model_module_version": "1.5.0",
      "model_name": "ButtonModel",
      "state": {
       "description": "Reset Hue Controls",
       "layout": "IPY_MODEL_49e091f30b2345bf943827b532d5cb36",
       "style": "IPY_MODEL_fd816bc76a76466d9a1ca5f52fcdbd7d"
      }
     },
     "0ad345d05bd54892bcbfc1f565358e1c": {
      "model_module": "@jupyter-widgets/controls",
      "model_module_version": "1.5.0",
      "model_name": "TabModel",
      "state": {
       "_titles": {
        "0": "Global Controls",
        "1": "Viewer Controls"
       },
       "children": [
        "IPY_MODEL_ad1b8552956347a2a9e86d37ff80c8ac",
        "IPY_MODEL_ddde9b22ac924ea5938365242ff9acae"
       ],
       "layout": "IPY_MODEL_a070e5ca96854fa7828984c7f2fd9b45"
      }
     },
     "0ad526d0eaf2429d801086cf60f2e11e": {
      "model_module": "@jupyter-widgets/controls",
      "model_module_version": "1.5.0",
      "model_name": "ButtonStyleModel",
      "state": {}
     },
     "0add2e3006de496eb1b56bfa26096e35": {
      "model_module": "@jupyter-widgets/controls",
      "model_module_version": "1.5.0",
      "model_name": "DescriptionStyleModel",
      "state": {
       "description_width": ""
      }
     },
     "0b39c3071e9b4c5ea60510d5b8ff0e0f": {
      "model_module": "@jupyter-widgets/controls",
      "model_module_version": "1.5.0",
      "model_name": "ButtonStyleModel",
      "state": {}
     },
     "0b3b0686ef2f46398b313393f376b12a": {
      "model_module": "@jupyter-widgets/base",
      "model_module_version": "1.2.0",
      "model_name": "LayoutModel",
      "state": {}
     },
     "0b40d277cd584dc09a76f52cc8116f30": {
      "model_module": "@jupyter-widgets/controls",
      "model_module_version": "1.5.0",
      "model_name": "FloatSliderModel",
      "state": {
       "description": "0°",
       "layout": "IPY_MODEL_b6fa600b13ce4baa8ed7b952f950ea75",
       "max": 1,
       "min": -1,
       "step": 0.01,
       "style": "IPY_MODEL_c95ef856cfc640719ab93a6dca9cff57"
      }
     },
     "0b4239a6fcd248649f84b07d868538d2": {
      "model_module": "@jupyter-widgets/controls",
      "model_module_version": "1.5.0",
      "model_name": "FloatSliderModel",
      "state": {
       "description": "Exposure",
       "layout": "IPY_MODEL_d907a1a42eb74eea9d2540bb37a8e97b",
       "max": 8,
       "min": -8,
       "step": 0.1,
       "style": "IPY_MODEL_413ddaa64b334898ad410e586c840d56"
      }
     },
     "0b4aab36047a4c7d8b835291194c3306": {
      "model_module": "@jupyter-widgets/base",
      "model_module_version": "1.2.0",
      "model_name": "LayoutModel",
      "state": {}
     },
     "0bc07d9cd4b841ad952fd8f3dbf09486": {
      "model_module": "@jupyter-widgets/controls",
      "model_module_version": "1.5.0",
      "model_name": "ButtonModel",
      "state": {
       "description": "Save Figure",
       "layout": "IPY_MODEL_dfeec2740c4a4ae79f2acfb8b575b0d3",
       "style": "IPY_MODEL_e436b394f04647c2b6288097d5c1d951"
      }
     },
     "0bdd90866dc44582b9c2133a741feca1": {
      "model_module": "@jupyter-widgets/base",
      "model_module_version": "1.2.0",
      "model_name": "LayoutModel",
      "state": {
       "border": "solid 4px #222",
       "margin": "4px",
       "padding": "0"
      }
     },
     "0bfb50134f9f442492cd54f587bd606b": {
      "model_module": "@jupyter-widgets/controls",
      "model_module_version": "1.5.0",
      "model_name": "BoxModel",
      "state": {
       "children": [
        "IPY_MODEL_9d9c2a2429854d90967c362913c7fbf5",
        "IPY_MODEL_d125d2daac594f62baf167cf271132d7"
       ],
       "layout": "IPY_MODEL_63f16d85e313463f9a20a535c94c35fa"
      }
     },
     "0c36e3500c2344eb91fd1ebd506d5608": {
      "model_module": "@jupyter-widgets/controls",
      "model_module_version": "1.5.0",
      "model_name": "CheckboxModel",
      "state": {
       "description": "Show Out-of-Gamut",
       "disabled": false,
       "layout": "IPY_MODEL_ed6d63517e8a4d509409166aa55fb386",
       "style": "IPY_MODEL_087502924003499ab4d41d52ceec17f1",
       "value": false
      }
     },
     "0c7cb08a27e945f9bd98094c5d8c8487": {
      "model_module": "@jupyter-widgets/controls",
      "model_module_version": "1.5.0",
      "model_name": "CheckboxModel",
      "state": {
       "description": "Show Out-of-Gamut",
       "disabled": false,
       "layout": "IPY_MODEL_fc31428939274d33ba333d76e5f62c90",
       "style": "IPY_MODEL_8bd2171df2a946a8b9f3d61a7a2c9119",
       "value": false
      }
     },
     "0c813ceb98e44948b7dcea7cf4ecb059": {
      "model_module": "@jupyter-widgets/controls",
      "model_module_version": "1.5.0",
      "model_name": "FloatSliderModel",
      "state": {
       "description": "135°",
       "layout": "IPY_MODEL_ab9a5bba817740bb9c2397782ca53dbc",
       "max": 1,
       "min": -1,
       "step": 0.01,
       "style": "IPY_MODEL_f620fb66edde4767bff5caa341018e1c"
      }
     },
     "0cb27e2141c8450d9ea7cfcead0fe535": {
      "model_module": "@jupyter-widgets/controls",
      "model_module_version": "1.5.0",
      "model_name": "VBoxModel",
      "state": {
       "children": [
        "IPY_MODEL_96a2a6f5de1949ffa09d5f094cf15c5f",
        "IPY_MODEL_834246c0ef5846f99c6d312a54354bd5",
        "IPY_MODEL_dd00cacad54d40398c52ab43c863f8c8"
       ],
       "layout": "IPY_MODEL_7c0e37db93c84c66ad021430d69b1e5f"
      }
     },
     "0cb5d694eda649db86470615c5bf2583": {
      "model_module": "@jupyter-widgets/controls",
      "model_module_version": "1.5.0",
      "model_name": "FloatSliderModel",
      "state": {
       "description": "Compression Threshold",
       "layout": "IPY_MODEL_543a7cb910dd49259a25599f6ef9f383",
       "max": 1,
       "step": 0.01,
       "style": "IPY_MODEL_f0d11be78fd8466eb65035b0eb375a72",
       "value": 0.8
      }
     },
     "0cdc446759c04bc4a44de1645c34fdea": {
      "model_module": "@jupyter-widgets/controls",
      "model_module_version": "1.5.0",
      "model_name": "SliderStyleModel",
      "state": {
       "description_width": ""
      }
     },
     "0cddb7699a844eb4aad7d5be3dae72a5": {
      "model_module": "@jupyter-widgets/base",
      "model_module_version": "1.2.0",
      "model_name": "LayoutModel",
      "state": {}
     },
     "0cf4cf10d4de468394acd4975d9f91bf": {
      "model_module": "@jupyter-widgets/base",
      "model_module_version": "1.2.0",
      "model_name": "LayoutModel",
      "state": {}
     },
     "0d07a2ac8e9c406c8a3ade778b60ce41": {
      "model_module": "@jupyter-widgets/base",
      "model_module_version": "1.2.0",
      "model_name": "LayoutModel",
      "state": {
       "border": "solid 4px #222",
       "margin": "4px",
       "padding": "0"
      }
     },
     "0d110d75ab47467ba58955c821dff802": {
      "model_module": "@jupyter-widgets/controls",
      "model_module_version": "1.5.0",
      "model_name": "DescriptionStyleModel",
      "state": {
       "description_width": ""
      }
     },
     "0d2b3fd873a948cfa654dec916931b26": {
      "model_module": "@jupyter-widgets/controls",
      "model_module_version": "1.5.0",
      "model_name": "CheckboxModel",
      "state": {
       "description": "Disable Medicina",
       "disabled": false,
       "layout": "IPY_MODEL_398150e6b50846e9ad3e7ac989c0712a",
       "style": "IPY_MODEL_3f6a650943f14d1cb29e0ea3f70546b8",
       "value": false
      }
     },
     "0d46e8e61e0f497fb50fd84c5696b2c8": {
      "model_module": "@jupyter-widgets/base",
      "model_module_version": "1.2.0",
      "model_name": "LayoutModel",
      "state": {}
     },
     "0d51f60724714e60ba2ffd3d3c0be377": {
      "model_module": "@jupyter-widgets/controls",
      "model_module_version": "1.5.0",
      "model_name": "FloatSliderModel",
      "state": {
       "description": "315°",
       "layout": "IPY_MODEL_afb77c4945134d0a9b88d4888e3464e4",
       "max": 1,
       "min": -1,
       "step": 0.01,
       "style": "IPY_MODEL_f45b03903fad472db86c402631d44ed9"
      }
     },
     "0d5ce310ae194803a30751b295390701": {
      "model_module": "@jupyter-widgets/base",
      "model_module_version": "1.2.0",
      "model_name": "LayoutModel",
      "state": {}
     },
     "0d677362c7bb4807bed2bd3c251a5805": {
      "model_module": "@jupyter-widgets/base",
      "model_module_version": "1.2.0",
      "model_name": "LayoutModel",
      "state": {}
     },
     "0d6a3db45aeb419cab1d1b5b2dfa4949": {
      "model_module": "@jupyter-widgets/base",
      "model_module_version": "1.2.0",
      "model_name": "LayoutModel",
      "state": {}
     },
     "0d802d8c4435434c8be677003c6d157a": {
      "model_module": "@jupyter-widgets/controls",
      "model_module_version": "1.5.0",
      "model_name": "ButtonStyleModel",
      "state": {}
     },
     "0d8074b6780a434a9508a3e5e4c81823": {
      "model_module": "@jupyter-widgets/controls",
      "model_module_version": "1.5.0",
      "model_name": "SliderStyleModel",
      "state": {
       "description_width": ""
      }
     },
     "0d87d03037c549d6925f0886375db708": {
      "model_module": "@jupyter-widgets/controls",
      "model_module_version": "1.5.0",
      "model_name": "SliderStyleModel",
      "state": {
       "description_width": ""
      }
     },
     "0d9957d239ea4e2f9bfb0f044b825c4e": {
      "model_module": "@jupyter-widgets/controls",
      "model_module_version": "1.5.0",
      "model_name": "ButtonModel",
      "state": {
       "description": "Reset Compression Controls",
       "layout": "IPY_MODEL_9246b3f90cb2489187a52d44cc0b17f5",
       "style": "IPY_MODEL_fcde46f23bd641b5b8238ddf545de033"
      }
     },
     "0d9e306d849645499f3f2127dc41d4aa": {
      "model_module": "@jupyter-widgets/base",
      "model_module_version": "1.2.0",
      "model_name": "LayoutModel",
      "state": {}
     },
     "0d9f0876765f476b920356549aab3952": {
      "model_module": "@jupyter-widgets/controls",
      "model_module_version": "1.5.0",
      "model_name": "HBoxModel",
      "state": {
       "children": [
        "IPY_MODEL_720a245fa19745fab78b8eee8bb4a101",
        "IPY_MODEL_e20edced8fbd4ad6a00315977f58df74",
        "IPY_MODEL_4dd25be446c94ae3b04899827ddb6d17",
        "IPY_MODEL_944fd25abc2f48e0a74936eb19ffbe8f"
       ],
       "layout": "IPY_MODEL_b2bc0387cfb94ac8a0f6d6005da3e585"
      }
     },
     "0dbd7a2af52a4669a7c8defeb6273904": {
      "model_module": "@jupyter-widgets/controls",
      "model_module_version": "1.5.0",
      "model_name": "ButtonStyleModel",
      "state": {}
     },
     "0dca4993748e42fa9a274d244086bcb1": {
      "model_module": "@jupyter-widgets/base",
      "model_module_version": "1.2.0",
      "model_name": "LayoutModel",
      "state": {}
     },
     "0dd34e924eca4ef39573ff166517f493": {
      "model_module": "@jupyter-widgets/controls",
      "model_module_version": "1.5.0",
      "model_name": "ButtonStyleModel",
      "state": {}
     },
     "0ded4114df2847e19b852edf7f32bea6": {
      "model_module": "@jupyter-widgets/controls",
      "model_module_version": "1.5.0",
      "model_name": "FloatSliderModel",
      "state": {
       "description": "225°",
       "layout": "IPY_MODEL_e051c74381a543c28af303e190f45795",
       "max": 1,
       "min": -1,
       "step": 0.01,
       "style": "IPY_MODEL_ceea0c24e2644a91925edf37502bd6fd"
      }
     },
     "0dfd240054d14a46ae39d8442e09ddf7": {
      "model_module": "@jupyter-widgets/controls",
      "model_module_version": "1.5.0",
      "model_name": "TabModel",
      "state": {
       "_titles": {
        "0": "Global Controls",
        "1": "Viewer Controls",
        "2": "Compression Controls"
       },
       "children": [
        "IPY_MODEL_a04013a1dae7424c91fa540373e1c840",
        "IPY_MODEL_0d9f0876765f476b920356549aab3952",
        "IPY_MODEL_ddede828fce04a23acdbb8ea7eaeb7ca"
       ],
       "layout": "IPY_MODEL_4765dd28dba3493da48799a9d47d8ff0"
      }
     },
     "0e2156cbf80c409e95983eb43408946a": {
      "model_module": "@jupyter-widgets/controls",
      "model_module_version": "1.5.0",
      "model_name": "BoxModel",
      "state": {
       "children": [
        "IPY_MODEL_96ca1b9011e84334a8b4a5968519a087",
        "IPY_MODEL_31ff89388b004faf8386e6227ff9e7a6"
       ],
       "layout": "IPY_MODEL_a3d1ea802de742bb8504287ba3e7368f"
      }
     },
     "0e2b805afa514574bbccb275437b12df": {
      "model_module": "@jupyter-widgets/base",
      "model_module_version": "1.2.0",
      "model_name": "LayoutModel",
      "state": {}
     },
     "0e3d6e5671de457e9339a97642dc28f5": {
      "model_module": "@jupyter-widgets/controls",
      "model_module_version": "1.5.0",
      "model_name": "ButtonModel",
      "state": {
       "description": "Export Image",
       "layout": "IPY_MODEL_2923dbecfe1e40dbb08b2e3d8e7ee538",
       "style": "IPY_MODEL_0dd34e924eca4ef39573ff166517f493"
      }
     },
     "0e45ff5e1d59494099eee04ef31512a8": {
      "model_module": "@jupyter-widgets/base",
      "model_module_version": "1.2.0",
      "model_name": "LayoutModel",
      "state": {}
     },
     "0e49823b7da14a4fa00b6481ad5e9070": {
      "model_module": "@jupyter-widgets/controls",
      "model_module_version": "1.5.0",
      "model_name": "SliderStyleModel",
      "state": {
       "description_width": ""
      }
     },
     "0e65b1319c834f628280583a504915a8": {
      "model_module": "@jupyter-widgets/base",
      "model_module_version": "1.2.0",
      "model_name": "LayoutModel",
      "state": {}
     },
     "0e8948a1c97d43d49730a7f92caa6c0d": {
      "model_module": "@jupyter-widgets/controls",
      "model_module_version": "1.5.0",
      "model_name": "FloatSliderModel",
      "state": {
       "description": "45°",
       "layout": "IPY_MODEL_e2bb00f94d1a4fd3a8d4ca7ac6df3e2e",
       "max": 1,
       "min": -1,
       "step": 0.01,
       "style": "IPY_MODEL_e9472ce33e834d13a0796f860d1b69a7"
      }
     },
     "0e899a5bfb9f485eb35dad3c522f6468": {
      "model_module": "@jupyter-widgets/controls",
      "model_module_version": "1.5.0",
      "model_name": "HBoxModel",
      "state": {
       "children": [
        "IPY_MODEL_494974af0a564462b901c53605e045e5",
        "IPY_MODEL_71b0f6ae266c45bd88ce06047fa39c4e",
        "IPY_MODEL_318ad52ef38549839e2df1c636f49519",
        "IPY_MODEL_fe2049b7616d49d9abbb7f534e7c66b5"
       ],
       "layout": "IPY_MODEL_74ac40a091b240068a8b990175eb1377"
      }
     },
     "0eb55e8d1b0846c794e4575358bb6b0f": {
      "model_module": "@jupyter-widgets/controls",
      "model_module_version": "1.5.0",
      "model_name": "DropdownModel",
      "state": {
       "_options_labels": [
        "tanh",
        "atan",
        "simple"
       ],
       "description": "Compression Function:",
       "index": 0,
       "layout": "IPY_MODEL_e790f061ac5247d09d1eafdd23e114b0",
       "style": "IPY_MODEL_180ec5c383de4dd4819e762007345365"
      }
     },
     "0ed30ce0165c4dea8d339719d30da844": {
      "model_module": "@jupyter-widgets/controls",
      "model_module_version": "1.5.0",
      "model_name": "DescriptionStyleModel",
      "state": {
       "description_width": ""
      }
     },
     "0f1f7b3e1fed4e5ca017636db96a7f91": {
      "model_module": "@jupyter-widgets/controls",
      "model_module_version": "1.5.0",
      "model_name": "FloatSliderModel",
      "state": {
       "description": "180°",
       "layout": "IPY_MODEL_a8d58c13421c41ada0f6a5c094bf63fe",
       "max": 1,
       "min": -1,
       "step": 0.01,
       "style": "IPY_MODEL_4f34bf359ddd4682960b2d78d79341bc"
      }
     },
     "0f32090679714fda9b69c564982c21a3": {
      "model_module": "@jupyter-widgets/controls",
      "model_module_version": "1.5.0",
      "model_name": "VBoxModel",
      "state": {
       "children": [
        "IPY_MODEL_1041e5c5ab30474b87f9291609bcb84f",
        "IPY_MODEL_05656cadcc3a4f939c3fff0c6f91018d"
       ],
       "layout": "IPY_MODEL_fde711bd8a014974baefe39bf5ad07c2"
      }
     },
     "0f399936c3114f89b2254e16468c2a9c": {
      "model_module": "@jupyter-widgets/controls",
      "model_module_version": "1.5.0",
      "model_name": "VBoxModel",
      "state": {
       "children": [
        "IPY_MODEL_502f22745aee46279dc0e45d858d73ca",
        "IPY_MODEL_6ede6092fbdc4e8fb88cee3b4c839b67",
        "IPY_MODEL_e187921d40634d2082de3aa15f0d4798"
       ],
       "layout": "IPY_MODEL_a79de2ab830d46bea9362a5f694d7140"
      }
     },
     "0f5f9dc03b714724a231015d81d20e48": {
      "model_module": "@jupyter-widgets/base",
      "model_module_version": "1.2.0",
      "model_name": "LayoutModel",
      "state": {}
     },
     "0fa8e180e03641d2be5c5a2a7cbd2664": {
      "model_module": "@jupyter-widgets/controls",
      "model_module_version": "1.5.0",
      "model_name": "SliderStyleModel",
      "state": {
       "description_width": ""
      }
     },
     "0fe73b8eb12d4b4bab4204776b3f0d19": {
      "model_module": "@jupyter-widgets/base",
      "model_module_version": "1.2.0",
      "model_name": "LayoutModel",
      "state": {}
     },
     "102e2259ff1b466398750ee5cef0791f": {
      "model_module": "@jupyter-widgets/base",
      "model_module_version": "1.2.0",
      "model_name": "LayoutModel",
      "state": {}
     },
     "1041e5c5ab30474b87f9291609bcb84f": {
      "model_module": "@jupyter-widgets/controls",
      "model_module_version": "1.5.0",
      "model_name": "FloatSliderModel",
      "state": {
       "description": "270°",
       "layout": "IPY_MODEL_bf6fcc85d2db451d89f963760944a910",
       "max": 1,
       "min": -1,
       "step": 0.01,
       "style": "IPY_MODEL_f6c0066995fe4dcc87021079a3c4ce4f"
      }
     },
     "1050ddaf587e40d18a4bd635020aac8a": {
      "model_module": "@jupyter-widgets/base",
      "model_module_version": "1.2.0",
      "model_name": "LayoutModel",
      "state": {}
     },
     "10b373c3a69843a28966ad7b3a208980": {
      "model_module": "@jupyter-widgets/controls",
      "model_module_version": "1.5.0",
      "model_name": "ButtonStyleModel",
      "state": {}
     },
     "10cbfc91b8474998b102f591451f92f7": {
      "model_module": "@jupyter-widgets/controls",
      "model_module_version": "1.5.0",
      "model_name": "SliderStyleModel",
      "state": {
       "description_width": ""
      }
     },
     "10d444031ffb43cab7f90234a032ce67": {
      "model_module": "@jupyter-widgets/controls",
      "model_module_version": "1.5.0",
      "model_name": "SliderStyleModel",
      "state": {
       "description_width": ""
      }
     },
     "10dbacf58edc4928bc0df08bf74fb90e": {
      "model_module": "@jupyter-widgets/controls",
      "model_module_version": "1.5.0",
      "model_name": "CheckboxModel",
      "state": {
       "description": "Disable Medicina",
       "disabled": false,
       "layout": "IPY_MODEL_2ec4a1962e2f41a4ba1e8f813ba97b7a",
       "style": "IPY_MODEL_a3b07445cf0e4001a140a801ef4843f9",
       "value": false
      }
     },
     "10e3cb09d70f45e48079d44be171feeb": {
      "model_module": "@jupyter-widgets/controls",
      "model_module_version": "1.5.0",
      "model_name": "VBoxModel",
      "state": {
       "children": [
        "IPY_MODEL_0c813ceb98e44948b7dcea7cf4ecb059",
        "IPY_MODEL_2df8f47e65834ac583e317c95a2f7592",
        "IPY_MODEL_e7470b3112eb400194072764789213d8"
       ],
       "layout": "IPY_MODEL_886afd2d76eb4a94b3fdc8fd5fbfd846"
      }
     },
     "113ac2bed0d348d59502f1ce79cb9f87": {
      "model_module": "@jupyter-widgets/base",
      "model_module_version": "1.2.0",
      "model_name": "LayoutModel",
      "state": {}
     },
     "116178df99604f76bc16c9f1aebb53f6": {
      "model_module": "@jupyter-widgets/controls",
      "model_module_version": "1.5.0",
      "model_name": "VBoxModel",
      "state": {
       "children": [
        "IPY_MODEL_b733eee5d55c4d4780c524e60b948175",
        "IPY_MODEL_75cc1427ef2c4a679707351e5aa41a4b",
        "IPY_MODEL_695ec894446d4419a371a14d1c38347a"
       ],
       "layout": "IPY_MODEL_ec68c0e939d648a989df69a9b8c8458e"
      }
     },
     "116be4affdca4da5b9c40f4cfcbb22c0": {
      "model_module": "@jupyter-widgets/base",
      "model_module_version": "1.2.0",
      "model_name": "LayoutModel",
      "state": {}
     },
     "1175753b7a5c410fa9433684b003c7c4": {
      "model_module": "@jupyter-widgets/controls",
      "model_module_version": "1.5.0",
      "model_name": "HBoxModel",
      "state": {
       "children": [
        "IPY_MODEL_e30845292dee4af8bb4bcd14c95636f1",
        "IPY_MODEL_8f86bed7fd2c4b2493b3467ac71d5f8d"
       ],
       "layout": "IPY_MODEL_c9a8adda893c4684b47ded423f7e5346"
      }
     },
     "1199ba23f167498f94de3f8472073f26": {
      "model_module": "@jupyter-widgets/base",
      "model_module_version": "1.2.0",
      "model_name": "LayoutModel",
      "state": {}
     },
     "119cf00ca2724d8cb63539feb71b925b": {
      "model_module": "@jupyter-widgets/controls",
      "model_module_version": "1.5.0",
      "model_name": "BoxModel",
      "state": {
       "children": [
        "IPY_MODEL_14b36667c19c4d9385c7db2cb1b2a001",
        "IPY_MODEL_0dfd240054d14a46ae39d8442e09ddf7"
       ],
       "layout": "IPY_MODEL_cc5eeba410dd4599bb611217b6a19326"
      }
     },
     "11bef69d7e964065bd6672203110db40": {
      "model_module": "@jupyter-widgets/base",
      "model_module_version": "1.2.0",
      "model_name": "LayoutModel",
      "state": {}
     },
     "11c681b4ba8544ffab57cd28edce0f16": {
      "model_module": "@jupyter-widgets/base",
      "model_module_version": "1.2.0",
      "model_name": "LayoutModel",
      "state": {}
     },
     "11c7dfdf3d6246019134c08ac3bdf8bf": {
      "model_module": "@jupyter-widgets/controls",
      "model_module_version": "1.5.0",
      "model_name": "SliderStyleModel",
      "state": {
       "description_width": ""
      }
     },
     "1208eecad0c54205ba8f231647fd1223": {
      "model_module": "@jupyter-widgets/controls",
      "model_module_version": "1.5.0",
      "model_name": "FloatSliderModel",
      "state": {
       "description": "0°",
       "layout": "IPY_MODEL_0b3b0686ef2f46398b313393f376b12a",
       "max": 1,
       "min": -1,
       "step": 0.01,
       "style": "IPY_MODEL_57296f6f2d024529a517c5a855469c69"
      }
     },
     "12190f6e578142f8a23a04f77186ad27": {
      "model_module": "@jupyter-widgets/controls",
      "model_module_version": "1.5.0",
      "model_name": "BoxModel",
      "state": {
       "children": [
        "IPY_MODEL_1605e50457614710bfe5a3e913b68c55",
        "IPY_MODEL_0ad345d05bd54892bcbfc1f565358e1c"
       ],
       "layout": "IPY_MODEL_669134f89fdd405284973e07795d1006"
      }
     },
     "1248cef6d36f4f57bddfabd3076bc0f0": {
      "model_module": "@jupyter-widgets/base",
      "model_module_version": "1.2.0",
      "model_name": "LayoutModel",
      "state": {}
     },
     "126ec32ed3a6480e9b0b1435e2a501f9": {
      "model_module": "@jupyter-widgets/controls",
      "model_module_version": "1.5.0",
      "model_name": "CheckboxModel",
      "state": {
       "description": "Disable Medicina",
       "disabled": false,
       "layout": "IPY_MODEL_fef72376133b4dbabc066d70be4e2585",
       "style": "IPY_MODEL_6cdd275d09214c9285faa3a88ea10fdd",
       "value": false
      }
     },
     "128e422369f2483787df5472e4f1844f": {
      "model_module": "@jupyter-widgets/base",
      "model_module_version": "1.2.0",
      "model_name": "LayoutModel",
      "state": {}
     },
     "129b896284ab4167b6aeb14ef6135828": {
      "model_module": "@jupyter-widgets/output",
      "model_module_version": "1.0.0",
      "model_name": "OutputModel",
      "state": {
       "layout": "IPY_MODEL_07b5d52780034d84b823729ea9774193",
       "outputs": [
        {
         "data": {
          "application/vnd.jupyter.widget-view+json": {
           "model_id": "7ba27bf21a6a4f98ac2441686e61e076",
           "version_major": 2,
           "version_minor": 0
          },
          "text/plain": "Canvas(toolbar=Toolbar(toolitems=[('Home', 'Reset original view', 'home', 'home'), ('Back', 'Back to previous …"
         },
         "metadata": {},
         "output_type": "display_data"
        }
       ]
      }
     },
     "129ecf1a73da4d37873ecca96f643145": {
      "model_module": "@jupyter-widgets/controls",
      "model_module_version": "1.5.0",
      "model_name": "FloatSliderModel",
      "state": {
       "description": "Protected Area Threshold",
       "layout": "IPY_MODEL_a2d3c5e0e3bb4bb5a71cb98e8675e70d",
       "max": 1,
       "step": 0.01,
       "style": "IPY_MODEL_2afe88becc494844b73b118dce587557",
       "value": 0.7
      }
     },
     "12df5c65a52e4b53945add70e633dcac": {
      "model_module": "@jupyter-widgets/base",
      "model_module_version": "1.2.0",
      "model_name": "LayoutModel",
      "state": {}
     },
     "12eeccded8ad4415830d2349ecd6a815": {
      "model_module": "@jupyter-widgets/base",
      "model_module_version": "1.2.0",
      "model_name": "LayoutModel",
      "state": {}
     },
     "1306b99e9b214780b663ff0fbf520732": {
      "model_module": "@jupyter-widgets/controls",
      "model_module_version": "1.5.0",
      "model_name": "SliderStyleModel",
      "state": {
       "description_width": ""
      }
     },
     "130c88f4fbba4566a7eda40e95720c45": {
      "model_module": "@jupyter-widgets/controls",
      "model_module_version": "1.5.0",
      "model_name": "ButtonStyleModel",
      "state": {}
     },
     "130e08b4404a4a3d80dd14305788a30b": {
      "model_module": "@jupyter-widgets/controls",
      "model_module_version": "1.5.0",
      "model_name": "HBoxModel",
      "state": {
       "children": [
        "IPY_MODEL_bdd62fc67c4a4c73b3981630ac4426b1",
        "IPY_MODEL_6e8b0f00be104e9ea699cf36e884506a",
        "IPY_MODEL_6c8f32e11d174b3f9c4ffcfef847bd8c"
       ],
       "layout": "IPY_MODEL_27ce1588c2b1498e95a6b7fbb3222c25"
      }
     },
     "132453e3d52e45e5a6d53b4cbe6a0c73": {
      "model_module": "@jupyter-widgets/controls",
      "model_module_version": "1.5.0",
      "model_name": "HBoxModel",
      "state": {
       "children": [
        "IPY_MODEL_08198d81d05443dfaa6f044d979ed707",
        "IPY_MODEL_5e09588991a246e0943160fc91bb33d3",
        "IPY_MODEL_cd95855434df4e5691c23fe3de6187db",
        "IPY_MODEL_89051aecca414840aacb31117c9c5b1f"
       ],
       "layout": "IPY_MODEL_21bb920d89e941dcb5b16419c0c3b433"
      }
     },
     "13a215c5d38640aa804d624a5804fa33": {
      "model_module": "@jupyter-widgets/base",
      "model_module_version": "1.2.0",
      "model_name": "LayoutModel",
      "state": {}
     },
     "13df6aba412b426ba53ee8ba73e9dc15": {
      "model_module": "@jupyter-widgets/controls",
      "model_module_version": "1.5.0",
      "model_name": "ButtonStyleModel",
      "state": {}
     },
     "13e1ab19aad64ade826230f2d0785267": {
      "model_module": "@jupyter-widgets/controls",
      "model_module_version": "1.5.0",
      "model_name": "SliderStyleModel",
      "state": {
       "description_width": ""
      }
     },
     "148552d51128475f8d4de811c065177b": {
      "model_module": "@jupyter-widgets/controls",
      "model_module_version": "1.5.0",
      "model_name": "ButtonStyleModel",
      "state": {}
     },
     "14900aa0aac8442283bfd24771ede448": {
      "model_module": "@jupyter-widgets/controls",
      "model_module_version": "1.5.0",
      "model_name": "VBoxModel",
      "state": {
       "children": [
        "IPY_MODEL_eb34929eed0745a0845bdbe561d073ac"
       ],
       "layout": "IPY_MODEL_1965f173d1e24594b4c1c8785b211309"
      }
     },
     "14a8b5e8be1540abaf6d401b57981eb6": {
      "model_module": "@jupyter-widgets/controls",
      "model_module_version": "1.5.0",
      "model_name": "VBoxModel",
      "state": {
       "children": [
        "IPY_MODEL_30913e0da6c94aac962455f2713a5998"
       ],
       "layout": "IPY_MODEL_b2f4826f260c4fd1a480727295c36a50"
      }
     },
     "14b36667c19c4d9385c7db2cb1b2a001": {
      "model_module": "@jupyter-widgets/output",
      "model_module_version": "1.0.0",
      "model_name": "OutputModel",
      "state": {
       "layout": "IPY_MODEL_be3976d8794149c286805816233ce9df",
       "outputs": [
        {
         "data": {
          "application/vnd.jupyter.widget-view+json": {
           "model_id": "787f71710aad4892bfcf4c546daa1bf6",
           "version_major": 2,
           "version_minor": 0
          },
          "text/plain": "Canvas(toolbar=Toolbar(toolitems=[('Home', 'Reset original view', 'home', 'home'), ('Back', 'Back to previous …"
         },
         "metadata": {},
         "output_type": "display_data"
        }
       ]
      }
     },
     "14bd6e557c894aa689c1bde8917f553c": {
      "model_module": "@jupyter-widgets/base",
      "model_module_version": "1.2.0",
      "model_name": "LayoutModel",
      "state": {}
     },
     "14c1e17d912445b8ba41fb66c59c925c": {
      "model_module": "@jupyter-widgets/controls",
      "model_module_version": "1.5.0",
      "model_name": "TabModel",
      "state": {
       "_titles": {
        "0": "Global Controls",
        "1": "Viewer Controls",
        "2": "Protected Area Controls",
        "3": "Saturation Controls",
        "4": "Hue Controls"
       },
       "children": [
        "IPY_MODEL_a82c539d004c4a8caa3ca743bee73aa1",
        "IPY_MODEL_c4f91620160f420b9a85d3643a5135a8",
        "IPY_MODEL_c252cfea10ae4f839a79328582174117",
        "IPY_MODEL_130e08b4404a4a3d80dd14305788a30b",
        "IPY_MODEL_ed96c40b1e544bbd9dd8ad3ceb403ee0"
       ],
       "layout": "IPY_MODEL_b655fdd8c59b426f81558e668b7a6179"
      }
     },
     "14fd93f527c04e5a9027373072acf5d7": {
      "model_module": "@jupyter-widgets/base",
      "model_module_version": "1.2.0",
      "model_name": "LayoutModel",
      "state": {}
     },
     "1513319127ac4076a7d8c571bcd1d0ae": {
      "model_module": "@jupyter-widgets/base",
      "model_module_version": "1.2.0",
      "model_name": "LayoutModel",
      "state": {}
     },
     "1515f9c9191b48e885cc7e79de6e8f04": {
      "model_module": "@jupyter-widgets/controls",
      "model_module_version": "1.5.0",
      "model_name": "FloatSliderModel",
      "state": {
       "description": "315°",
       "layout": "IPY_MODEL_942b2bf472b84227aa13f3f47324f09a",
       "max": 1,
       "min": -1,
       "step": 0.01,
       "style": "IPY_MODEL_8741e7e05f904e309f45fd54d0a18f1f"
      }
     },
     "151845a17cff4b4c8c9e4ac40b15963b": {
      "model_module": "@jupyter-widgets/controls",
      "model_module_version": "1.5.0",
      "model_name": "ButtonModel",
      "state": {
       "description": "Reset Saturation Controls",
       "layout": "IPY_MODEL_61202645b20f4024b6026075358b05f7",
       "style": "IPY_MODEL_3d9bb25b685d420598fc8ab412831323"
      }
     },
     "151f62b4ae3442f78e7cd0b3e8bc0952": {
      "model_module": "@jupyter-widgets/base",
      "model_module_version": "1.2.0",
      "model_name": "LayoutModel",
      "state": {}
     },
     "153347b859da4c4daab8b61ab7eda0aa": {
      "model_module": "@jupyter-widgets/controls",
      "model_module_version": "1.5.0",
      "model_name": "ButtonStyleModel",
      "state": {}
     },
     "15438b9741384bdcbe75405a108a243b": {
      "model_module": "@jupyter-widgets/controls",
      "model_module_version": "1.5.0",
      "model_name": "ButtonStyleModel",
      "state": {}
     },
     "155949cd66d34edba969c9ca6333d771": {
      "model_module": "@jupyter-widgets/controls",
      "model_module_version": "1.5.0",
      "model_name": "CheckboxModel",
      "state": {
       "description": "Show Out-of-Gamut",
       "disabled": false,
       "layout": "IPY_MODEL_51acacccb56c4ec4a63a9eb1c66bcfbb",
       "style": "IPY_MODEL_ec75d30a4a9f42188a91d09b13908e6f",
       "value": false
      }
     },
     "1561799f223f4381915a63923f380cec": {
      "model_module": "@jupyter-widgets/base",
      "model_module_version": "1.2.0",
      "model_name": "LayoutModel",
      "state": {}
     },
     "15681de199f24ceeb05736dd06f8e2d8": {
      "model_module": "@jupyter-widgets/controls",
      "model_module_version": "1.5.0",
      "model_name": "ButtonStyleModel",
      "state": {}
     },
     "1598a7e7be774b529ed7077cf0444c7a": {
      "model_module": "@jupyter-widgets/base",
      "model_module_version": "1.2.0",
      "model_name": "LayoutModel",
      "state": {}
     },
     "15eee4034da443e7969422de3fa1f77f": {
      "model_module": "@jupyter-widgets/base",
      "model_module_version": "1.2.0",
      "model_name": "LayoutModel",
      "state": {}
     },
     "15f4e4c1a328448b8f59932a6d7d7bd7": {
      "model_module": "@jupyter-widgets/controls",
      "model_module_version": "1.5.0",
      "model_name": "ButtonStyleModel",
      "state": {}
     },
     "1605e50457614710bfe5a3e913b68c55": {
      "model_module": "@jupyter-widgets/output",
      "model_module_version": "1.0.0",
      "model_name": "OutputModel",
      "state": {
       "layout": "IPY_MODEL_5436fcedd64946b492cc02f3a60f72e9",
       "outputs": [
        {
         "data": {
          "application/vnd.jupyter.widget-view+json": {
           "model_id": "b995007bd7c74f1092275097145282b4",
           "version_major": 2,
           "version_minor": 0
          },
          "text/plain": "Canvas(toolbar=Toolbar(toolitems=[('Home', 'Reset original view', 'home', 'home'), ('Back', 'Back to previous …"
         },
         "metadata": {},
         "output_type": "display_data"
        }
       ]
      }
     },
     "160f383885904191a41de1d4c0748ede": {
      "model_module": "@jupyter-widgets/base",
      "model_module_version": "1.2.0",
      "model_name": "LayoutModel",
      "state": {
       "border": "solid 4px #222",
       "margin": "4px",
       "padding": "0"
      }
     },
     "16129ec7b73343d4987c58b4966197da": {
      "model_module": "@jupyter-widgets/controls",
      "model_module_version": "1.5.0",
      "model_name": "ButtonModel",
      "state": {
       "description": "Reset Hue Controls",
       "layout": "IPY_MODEL_2c270108747e40d29345f2db9333e62f",
       "style": "IPY_MODEL_9157cc6b1214497a93f44b80ee465720"
      }
     },
     "1625e7f3bafe47e488154b5926741fd7": {
      "model_module": "@jupyter-widgets/base",
      "model_module_version": "1.2.0",
      "model_name": "LayoutModel",
      "state": {}
     },
     "167ca7545cf445b0aebb31a315f8954d": {
      "model_module": "jupyter-matplotlib",
      "model_module_version": "^0.7.2",
      "model_name": "ToolbarModel",
      "state": {
       "layout": "IPY_MODEL_989fbd665f53499e9a11e0f9628d680a",
       "toolitems": [
        [
         "Home",
         "Reset original view",
         "home",
         "home"
        ],
        [
         "Back",
         "Back to previous view",
         "arrow-left",
         "back"
        ],
        [
         "Forward",
         "Forward to next view",
         "arrow-right",
         "forward"
        ],
        [
         "Pan",
         "Pan axes with left mouse, zoom with right",
         "arrows",
         "pan"
        ],
        [
         "Zoom",
         "Zoom to rectangle",
         "square-o",
         "zoom"
        ],
        [
         "Download",
         "Download plot",
         "floppy-o",
         "save_figure"
        ]
       ]
      }
     },
     "168e19a8673c44dda6e7ee560c1635c2": {
      "model_module": "@jupyter-widgets/controls",
      "model_module_version": "1.5.0",
      "model_name": "HBoxModel",
      "state": {
       "children": [
        "IPY_MODEL_b5b25836487844c1834525fd669b90d1",
        "IPY_MODEL_c2542eb6c90a46e79189664fc5e7ddca",
        "IPY_MODEL_4e133c52174c4a7d98773dea4938b62d"
       ],
       "layout": "IPY_MODEL_e29f1a9c7a624310ad4ad5e27202d263"
      }
     },
     "16913e6acf9e43ab998d9f187e3d487f": {
      "model_module": "@jupyter-widgets/controls",
      "model_module_version": "1.5.0",
      "model_name": "DescriptionStyleModel",
      "state": {
       "description_width": ""
      }
     },
     "16b67e4f5b59474eb2698913f7557b2b": {
      "model_module": "@jupyter-widgets/base",
      "model_module_version": "1.2.0",
      "model_name": "LayoutModel",
      "state": {}
     },
     "16e2bdea7a344d0184e27e3de6cd5859": {
      "model_module": "@jupyter-widgets/base",
      "model_module_version": "1.2.0",
      "model_name": "LayoutModel",
      "state": {}
     },
     "174221dc1b97436fa89d2fefa2064c44": {
      "model_module": "@jupyter-widgets/controls",
      "model_module_version": "1.5.0",
      "model_name": "SliderStyleModel",
      "state": {
       "description_width": ""
      }
     },
     "175e4d542971485e948ced3a4b3022f3": {
      "model_module": "@jupyter-widgets/base",
      "model_module_version": "1.2.0",
      "model_name": "LayoutModel",
      "state": {}
     },
     "17877dee195049ccb5fa81a3b5bd3b01": {
      "model_module": "@jupyter-widgets/controls",
      "model_module_version": "1.5.0",
      "model_name": "ButtonStyleModel",
      "state": {}
     },
     "179490095dca47b3899f5197b063f658": {
      "model_module": "@jupyter-widgets/base",
      "model_module_version": "1.2.0",
      "model_name": "LayoutModel",
      "state": {}
     },
     "17b5fb06a5c947a0873d2ab48b13b0f4": {
      "model_module": "@jupyter-widgets/controls",
      "model_module_version": "1.5.0",
      "model_name": "DropdownModel",
      "state": {
       "_options_labels": [
        "sRGB",
        "sRGB (ACES)",
        "Display P3",
        "Display P3 (ACES)"
       ],
       "description": "View Transform:",
       "index": 0,
       "layout": "IPY_MODEL_624a333c3a4845cbaa2ed5a229726536",
       "style": "IPY_MODEL_700c9bd2115b4368b1a30c7f999fc5d9"
      }
     },
     "17b85e3eeefb4135a63b0879cab2a2fa": {
      "model_module": "jupyter-matplotlib",
      "model_module_version": "^0.7.2",
      "model_name": "MPLCanvasModel",
      "state": {
       "_figure_label": "Figure 8",
       "_height": 458,
       "_width": 1099,
       "header_visible": false,
       "layout": "IPY_MODEL_1561799f223f4381915a63923f380cec",
       "resizable": false,
       "toolbar": "IPY_MODEL_88e6e00104fd44cfa58c1cbb403f18f2",
       "toolbar_position": "left",
       "toolbar_visible": false
      }
     },
     "17cf8a0e8a384af38550ee7ab9a3fa14": {
      "model_module": "@jupyter-widgets/controls",
      "model_module_version": "1.5.0",
      "model_name": "DropdownModel",
      "state": {
       "_options_labels": [
        "tanh",
        "atan",
        "simple"
       ],
       "description": "Compression Function:",
       "index": 0,
       "layout": "IPY_MODEL_6a3ae5671ed94604b6ed2faa3744bbef",
       "style": "IPY_MODEL_695010c3df9f477b8dcc90aaec884534"
      }
     },
     "17da8b58f58040f3a61d2ee5d941aa7d": {
      "model_module": "@jupyter-widgets/controls",
      "model_module_version": "1.5.0",
      "model_name": "HBoxModel",
      "state": {
       "children": [
        "IPY_MODEL_913acc90a1164691beaeace04cd7b664",
        "IPY_MODEL_0a1cad6d3ec94e3a92436466e21cbfbd",
        "IPY_MODEL_d3892e5c72c7480283803217224a8f70"
       ],
       "layout": "IPY_MODEL_b28eb4f4039b4ab1aa0546b171c24225"
      }
     },
     "17e5691f5d9649e5a4fff67a7e90fdd5": {
      "model_module": "@jupyter-widgets/controls",
      "model_module_version": "1.5.0",
      "model_name": "FloatSliderModel",
      "state": {
       "description": "270°",
       "layout": "IPY_MODEL_6747c296f62b4040b292467915fd3289",
       "max": 1,
       "min": -1,
       "step": 0.01,
       "style": "IPY_MODEL_430ae3d47fa04940a26f81b3384af651"
      }
     },
     "17e6cf65c15a43fd9bd6bdc103231036": {
      "model_module": "@jupyter-widgets/controls",
      "model_module_version": "1.5.0",
      "model_name": "SliderStyleModel",
      "state": {
       "description_width": ""
      }
     },
     "17e6da6c726349e98a0d872df6311198": {
      "model_module": "@jupyter-widgets/controls",
      "model_module_version": "1.5.0",
      "model_name": "SliderStyleModel",
      "state": {
       "description_width": ""
      }
     },
     "180ec5c383de4dd4819e762007345365": {
      "model_module": "@jupyter-widgets/controls",
      "model_module_version": "1.5.0",
      "model_name": "DescriptionStyleModel",
      "state": {
       "description_width": ""
      }
     },
     "1829078477a04438bc1ea0385641f4a1": {
      "model_module": "@jupyter-widgets/base",
      "model_module_version": "1.2.0",
      "model_name": "LayoutModel",
      "state": {}
     },
     "182a00f7991f41e9bde60791cd53205a": {
      "model_module": "@jupyter-widgets/controls",
      "model_module_version": "1.5.0",
      "model_name": "ButtonStyleModel",
      "state": {}
     },
     "1848154304eb44f799b9e099b741840e": {
      "model_module": "@jupyter-widgets/controls",
      "model_module_version": "1.5.0",
      "model_name": "ButtonStyleModel",
      "state": {}
     },
     "184fa9f336ec4f71bef599c1bbc69924": {
      "model_module": "@jupyter-widgets/controls",
      "model_module_version": "1.5.0",
      "model_name": "FloatSliderModel",
      "state": {
       "description": "135°",
       "layout": "IPY_MODEL_3551b3cf44764f2eb81da583bdfd1719",
       "max": 1,
       "min": -1,
       "step": 0.01,
       "style": "IPY_MODEL_284c78d591a543d68f71f4dd0ef13164"
      }
     },
     "1854f7ae6f284c0bb88208fca4e6b0b7": {
      "model_module": "@jupyter-widgets/base",
      "model_module_version": "1.2.0",
      "model_name": "LayoutModel",
      "state": {}
     },
     "18631df06c364150894576f4459b532e": {
      "model_module": "@jupyter-widgets/controls",
      "model_module_version": "1.5.0",
      "model_name": "HBoxModel",
      "state": {
       "children": [
        "IPY_MODEL_19b23b52575a46dba7518e5eb106d077",
        "IPY_MODEL_bed67c406f114ce2bab5a16299da5259",
        "IPY_MODEL_70e21281aae148d5a5a665f8095e720d"
       ],
       "layout": "IPY_MODEL_fd67c6c5e3e2433698e8088c48754684"
      }
     },
     "1875c6c3a7ec46a99bb12c96f6e75a73": {
      "model_module": "@jupyter-widgets/controls",
      "model_module_version": "1.5.0",
      "model_name": "ButtonModel",
      "state": {
       "description": "Reset Exposure",
       "layout": "IPY_MODEL_f43a0e25244d4cb881bbb4614423949a",
       "style": "IPY_MODEL_1f99af0e1841468c896da0fd98712246"
      }
     },
     "188290e4baa74d5da79db4b97d908a3f": {
      "model_module": "@jupyter-widgets/controls",
      "model_module_version": "1.5.0",
      "model_name": "VBoxModel",
      "state": {
       "children": [
        "IPY_MODEL_5bc7ade449d24818a3624d4efe8848b0",
        "IPY_MODEL_2fe774c1b58a4badbf6206a605101c06",
        "IPY_MODEL_fbc9329dec6540dc820c8d121d0ccc03"
       ],
       "layout": "IPY_MODEL_ea7982fe4ac743758fe83a803875471d"
      }
     },
     "189f3c064dcd4af28d4d832801179952": {
      "model_module": "@jupyter-widgets/base",
      "model_module_version": "1.2.0",
      "model_name": "LayoutModel",
      "state": {}
     },
     "18ef6add3f8a414e89770285c56f6c06": {
      "model_module": "@jupyter-widgets/controls",
      "model_module_version": "1.5.0",
      "model_name": "HBoxModel",
      "state": {
       "children": [
        "IPY_MODEL_a642ec9d0e7647ddbd86225a2cd9a147",
        "IPY_MODEL_3f4c4bf2a3d748b5b0b5559b5a0b4e0f",
        "IPY_MODEL_01d4258bbe0f44418bade5665d2213c6",
        "IPY_MODEL_0c36e3500c2344eb91fd1ebd506d5608"
       ],
       "layout": "IPY_MODEL_78913134d6694cde824a52c7cb6ac31a"
      }
     },
     "18f5eba48f314f2bad177abb11545b68": {
      "model_module": "@jupyter-widgets/base",
      "model_module_version": "1.2.0",
      "model_name": "LayoutModel",
      "state": {}
     },
     "1915bf69196b4af4b57bbbbe8101536c": {
      "model_module": "@jupyter-widgets/controls",
      "model_module_version": "1.5.0",
      "model_name": "ButtonModel",
      "state": {
       "description": "Reset Exposure",
       "layout": "IPY_MODEL_06724e37e3c54e46a6d3126ec4b68246",
       "style": "IPY_MODEL_b5bd6e5b38964ee191562c38ee402762"
      }
     },
     "1919ca185cff4e72b15a948c05d1bf3e": {
      "model_module": "@jupyter-widgets/base",
      "model_module_version": "1.2.0",
      "model_name": "LayoutModel",
      "state": {}
     },
     "194b55ef7958460a98fb4f29f8aaa400": {
      "model_module": "@jupyter-widgets/base",
      "model_module_version": "1.2.0",
      "model_name": "LayoutModel",
      "state": {}
     },
     "195ab6023169436e8f117fe07dca0ed2": {
      "model_module": "@jupyter-widgets/controls",
      "model_module_version": "1.5.0",
      "model_name": "BoxModel",
      "state": {
       "children": [
        "IPY_MODEL_65cd8f4e595849e4bcbfb490e896247e",
        "IPY_MODEL_b3a37a99c5b34aa7b9425159541d1ce7"
       ],
       "layout": "IPY_MODEL_3186b249ae5449008188fc79465a98eb"
      }
     },
     "1965f173d1e24594b4c1c8785b211309": {
      "model_module": "@jupyter-widgets/base",
      "model_module_version": "1.2.0",
      "model_name": "LayoutModel",
      "state": {}
     },
     "19737c1d252c4efbb12f764790521736": {
      "model_module": "@jupyter-widgets/base",
      "model_module_version": "1.2.0",
      "model_name": "LayoutModel",
      "state": {}
     },
     "19752816c7454bf5aa2be8735e0dcb42": {
      "model_module": "@jupyter-widgets/output",
      "model_module_version": "1.0.0",
      "model_name": "OutputModel",
      "state": {
       "layout": "IPY_MODEL_4681fe0c88904055bfdd2d9840df5dbf",
       "outputs": [
        {
         "data": {
          "application/vnd.jupyter.widget-view+json": {
           "model_id": "4ce37af99dfc47a1a21bf5840d8318d0",
           "version_major": 2,
           "version_minor": 0
          },
          "text/plain": "Canvas(toolbar=Toolbar(toolitems=[('Home', 'Reset original view', 'home', 'home'), ('Back', 'Back to previous …"
         },
         "metadata": {},
         "output_type": "display_data"
        }
       ]
      }
     },
     "197d8fc6896b48939fa53adffadfa89a": {
      "model_module": "@jupyter-widgets/base",
      "model_module_version": "1.2.0",
      "model_name": "LayoutModel",
      "state": {}
     },
     "1984928e8fd841e6a1c86ef47212a644": {
      "model_module": "@jupyter-widgets/controls",
      "model_module_version": "1.5.0",
      "model_name": "DescriptionStyleModel",
      "state": {
       "description_width": ""
      }
     },
     "198c4d37b1124400874787761b8ef104": {
      "model_module": "@jupyter-widgets/base",
      "model_module_version": "1.2.0",
      "model_name": "LayoutModel",
      "state": {}
     },
     "19b23b52575a46dba7518e5eb106d077": {
      "model_module": "@jupyter-widgets/controls",
      "model_module_version": "1.5.0",
      "model_name": "CheckboxModel",
      "state": {
       "description": "Disable Medicina",
       "disabled": false,
       "layout": "IPY_MODEL_03dedd09cb034fbfbc342758c4d4ecbf",
       "style": "IPY_MODEL_a426aaa3e7924963b415124565ac2203",
       "value": false
      }
     },
     "19cb862df8f547869e9780ad744c262c": {
      "model_module": "@jupyter-widgets/controls",
      "model_module_version": "1.5.0",
      "model_name": "DescriptionStyleModel",
      "state": {
       "description_width": ""
      }
     },
     "19d7c04db13145f499341d4b385c3b89": {
      "model_module": "@jupyter-widgets/base",
      "model_module_version": "1.2.0",
      "model_name": "LayoutModel",
      "state": {}
     },
     "19e2a15ccb47446e9fc298ee1040555c": {
      "model_module": "@jupyter-widgets/controls",
      "model_module_version": "1.5.0",
      "model_name": "DescriptionStyleModel",
      "state": {
       "description_width": ""
      }
     },
     "19e75b16ec9a42abbca4f71144aaccf7": {
      "model_module": "@jupyter-widgets/controls",
      "model_module_version": "1.5.0",
      "model_name": "FloatSliderModel",
      "state": {
       "description": "Exposure",
       "layout": "IPY_MODEL_7f1c7d3500a142c4b864309ed9747d68",
       "max": 8,
       "min": -8,
       "step": 0.1,
       "style": "IPY_MODEL_f267827d6f40496b99c233a459be7793"
      }
     },
     "19f398a43cfd423a82b435e967cf9227": {
      "model_module": "@jupyter-widgets/base",
      "model_module_version": "1.2.0",
      "model_name": "LayoutModel",
      "state": {}
     },
     "1a25f5f93d574034873eddfa8fa2a0e9": {
      "model_module": "@jupyter-widgets/controls",
      "model_module_version": "1.5.0",
      "model_name": "DescriptionStyleModel",
      "state": {
       "description_width": ""
      }
     },
     "1a32b841440047b09c1e48b5d33f45ab": {
      "model_module": "@jupyter-widgets/controls",
      "model_module_version": "1.5.0",
      "model_name": "SliderStyleModel",
      "state": {
       "description_width": ""
      }
     },
     "1a4d5d8c9b534698bf60fb6c436cf202": {
      "model_module": "@jupyter-widgets/base",
      "model_module_version": "1.2.0",
      "model_name": "LayoutModel",
      "state": {}
     },
     "1a5acc8f1b9e4a9b8b4d9b1f4bec8fa9": {
      "model_module": "@jupyter-widgets/controls",
      "model_module_version": "1.5.0",
      "model_name": "VBoxModel",
      "state": {
       "children": [
        "IPY_MODEL_cc01c8c35cc34e3397748a8e7845adcd",
        "IPY_MODEL_5f7d88c767a44ff58e5337b9aec73740",
        "IPY_MODEL_438c00865e194d92a1199de0125a3be1"
       ],
       "layout": "IPY_MODEL_14fd93f527c04e5a9027373072acf5d7"
      }
     },
     "1a5cceacfc8c433b82f8ccf2e3247d8c": {
      "model_module": "@jupyter-widgets/base",
      "model_module_version": "1.2.0",
      "model_name": "LayoutModel",
      "state": {}
     },
     "1aa3ff2909f948e9b7d0ec7c534875f4": {
      "model_module": "@jupyter-widgets/controls",
      "model_module_version": "1.5.0",
      "model_name": "FloatSliderModel",
      "state": {
       "description": "315°",
       "layout": "IPY_MODEL_71efac519a8f42d788d693d6e2c3cec4",
       "max": 1,
       "min": -1,
       "step": 0.01,
       "style": "IPY_MODEL_316ae28c0f184e959270ea38f26ee5cf"
      }
     },
     "1ab34557d8ef4900bc48c4ce0f5d17fb": {
      "model_module": "jupyter-matplotlib",
      "model_module_version": "^0.7.2",
      "model_name": "MPLCanvasModel",
      "state": {
       "_figure_label": "Figure 4",
       "_height": 618,
       "_width": 1099,
       "header_visible": false,
       "layout": "IPY_MODEL_edec75cc12844eb7a94a0777645b1997",
       "resizable": false,
       "toolbar": "IPY_MODEL_a2c9aaad0a284abaa83a24cbe393cd98",
       "toolbar_position": "left",
       "toolbar_visible": false
      }
     },
     "1acd290620014f8dab6c9b4b99b7082d": {
      "model_module": "@jupyter-widgets/controls",
      "model_module_version": "1.5.0",
      "model_name": "SliderStyleModel",
      "state": {
       "description_width": ""
      }
     },
     "1b032bea858b45e7bddb7fe1b1f2216b": {
      "model_module": "@jupyter-widgets/controls",
      "model_module_version": "1.5.0",
      "model_name": "ButtonStyleModel",
      "state": {}
     },
     "1b1cd923a5284f4697c0fe1162efa312": {
      "model_module": "@jupyter-widgets/base",
      "model_module_version": "1.2.0",
      "model_name": "LayoutModel",
      "state": {
       "border": "solid 4px #222",
       "margin": "4px",
       "padding": "0"
      }
     },
     "1b289f1897924b0aad7fd1a860a1975e": {
      "model_module": "@jupyter-widgets/controls",
      "model_module_version": "1.5.0",
      "model_name": "VBoxModel",
      "state": {
       "children": [
        "IPY_MODEL_dc020f36a6764bf0aa6bd6b23c8ec941",
        "IPY_MODEL_9618506186f548a486bc03939675dee0"
       ],
       "layout": "IPY_MODEL_d59ead09aa1c49cbbc703a3e248d31fc"
      }
     },
     "1b4961ddeebd4d849415a2641e7e399c": {
      "model_module": "@jupyter-widgets/base",
      "model_module_version": "1.2.0",
      "model_name": "LayoutModel",
      "state": {}
     },
     "1b5bc7cd7a7b4062a05dbd15ffe31325": {
      "model_module": "@jupyter-widgets/base",
      "model_module_version": "1.2.0",
      "model_name": "LayoutModel",
      "state": {}
     },
     "1b5d49acdc1347608fb921a26c432178": {
      "model_module": "@jupyter-widgets/controls",
      "model_module_version": "1.5.0",
      "model_name": "FloatSliderModel",
      "state": {
       "description": "45°",
       "layout": "IPY_MODEL_19d7c04db13145f499341d4b385c3b89",
       "max": 1,
       "min": -1,
       "step": 0.01,
       "style": "IPY_MODEL_38bf3bc45f4e49f1a4596ad4bc3f7bfd"
      }
     },
     "1b7f1695b7f34e8099139363d4bcc9ff": {
      "model_module": "@jupyter-widgets/base",
      "model_module_version": "1.2.0",
      "model_name": "LayoutModel",
      "state": {}
     },
     "1bae6eb35e24405ea37e05140c54a334": {
      "model_module": "@jupyter-widgets/base",
      "model_module_version": "1.2.0",
      "model_name": "LayoutModel",
      "state": {}
     },
     "1be560f938ee4e8891952caa2b3587ec": {
      "model_module": "@jupyter-widgets/controls",
      "model_module_version": "1.5.0",
      "model_name": "HBoxModel",
      "state": {
       "children": [
        "IPY_MODEL_98a554bfe4554462a5710632cf6227d8",
        "IPY_MODEL_c399cd6668d244a28f4e820d0caf7de1",
        "IPY_MODEL_273086f3bd604b49aa026b6a970dcd1f",
        "IPY_MODEL_c73a11c3e1b04b7eaa5f562c9af7e86b"
       ],
       "layout": "IPY_MODEL_02247cd19f644b8499e52f06002ad48b"
      }
     },
     "1c0bf549fab347b4ab19f4febf2778c3": {
      "model_module": "@jupyter-widgets/base",
      "model_module_version": "1.2.0",
      "model_name": "LayoutModel",
      "state": {}
     },
     "1c120bb628f0479689d60994d435d47a": {
      "model_module": "@jupyter-widgets/base",
      "model_module_version": "1.2.0",
      "model_name": "LayoutModel",
      "state": {}
     },
     "1c4a802192864f3495b36d5e3827ce13": {
      "model_module": "@jupyter-widgets/base",
      "model_module_version": "1.2.0",
      "model_name": "LayoutModel",
      "state": {
       "border": "solid 4px #222",
       "margin": "4px",
       "padding": "0"
      }
     },
     "1c641065f9d548cb8cdb5c420afc2391": {
      "model_module": "@jupyter-widgets/base",
      "model_module_version": "1.2.0",
      "model_name": "LayoutModel",
      "state": {}
     },
     "1ca88b674f4949918b391ba62ff1c6b2": {
      "model_module": "@jupyter-widgets/controls",
      "model_module_version": "1.5.0",
      "model_name": "ButtonModel",
      "state": {
       "description": "Reset Hue Controls",
       "layout": "IPY_MODEL_8c90d98eca50444a889960b538c4bc74",
       "style": "IPY_MODEL_433f3d9c08584e15bb4bacf7a0ba0137"
      }
     },
     "1cdfd5e6e906448a9674d9a8dac42bbb": {
      "model_module": "@jupyter-widgets/base",
      "model_module_version": "1.2.0",
      "model_name": "LayoutModel",
      "state": {}
     },
     "1d2201ac4b484633942c871dfdda39bc": {
      "model_module": "@jupyter-widgets/base",
      "model_module_version": "1.2.0",
      "model_name": "LayoutModel",
      "state": {}
     },
     "1d3ca1ba09fc4556b5fcd4989931a250": {
      "model_module": "@jupyter-widgets/base",
      "model_module_version": "1.2.0",
      "model_name": "LayoutModel",
      "state": {}
     },
     "1d47034f2cdc47eaa0ab076d90ebda7a": {
      "model_module": "@jupyter-widgets/base",
      "model_module_version": "1.2.0",
      "model_name": "LayoutModel",
      "state": {}
     },
     "1d4debd2ca3741d7a0efec589a4dfd8f": {
      "model_module": "@jupyter-widgets/controls",
      "model_module_version": "1.5.0",
      "model_name": "ButtonStyleModel",
      "state": {}
     },
     "1d5c0b4df07748cb903c9994500b460a": {
      "model_module": "@jupyter-widgets/controls",
      "model_module_version": "1.5.0",
      "model_name": "FloatSliderModel",
      "state": {
       "description": "Protected Area Threshold",
       "layout": "IPY_MODEL_8bc1b70b298e4432b81e5bcb81e14312",
       "max": 1,
       "step": 0.01,
       "style": "IPY_MODEL_4486b091c38f41fc89ea8bab474cd613",
       "value": 0.7
      }
     },
     "1d75800de3ce466587f2cb2244098e7a": {
      "model_module": "@jupyter-widgets/base",
      "model_module_version": "1.2.0",
      "model_name": "LayoutModel",
      "state": {}
     },
     "1da7ab0b0f1846289d4358722f91bcac": {
      "model_module": "@jupyter-widgets/controls",
      "model_module_version": "1.5.0",
      "model_name": "TabModel",
      "state": {
       "_titles": {
        "0": "Global Controls",
        "1": "Viewer Controls",
        "2": "Protected Area Controls",
        "3": "Saturation Controls",
        "4": "Hue Controls"
       },
       "children": [
        "IPY_MODEL_18631df06c364150894576f4459b532e",
        "IPY_MODEL_930164dff79548a3901ea1a176105721",
        "IPY_MODEL_d393b60e6fbf4f36b5ff2d6be43ebd00",
        "IPY_MODEL_c8fa1226651a4deda3aaf749c3cb87ad",
        "IPY_MODEL_2da02a4912ba47e79c6c8ca920be4970"
       ],
       "layout": "IPY_MODEL_1e74e6a59e154ceda0720354cafa36a0"
      }
     },
     "1da9c1cc547e41ecbeb10d7ce961ca37": {
      "model_module": "@jupyter-widgets/controls",
      "model_module_version": "1.5.0",
      "model_name": "ButtonModel",
      "state": {
       "description": "Reset Exposure",
       "layout": "IPY_MODEL_ef6df29baebc4f0eb26d830a2b744e09",
       "style": "IPY_MODEL_de9a8299180d4fb19761024aac3f99e2"
      }
     },
     "1db70ea7824042d48f958dd66a82eb70": {
      "model_module": "@jupyter-widgets/controls",
      "model_module_version": "1.5.0",
      "model_name": "SliderStyleModel",
      "state": {
       "description_width": ""
      }
     },
     "1dc3baac051348bf829ce9ba4e1fbf46": {
      "model_module": "@jupyter-widgets/output",
      "model_module_version": "1.0.0",
      "model_name": "OutputModel",
      "state": {
       "layout": "IPY_MODEL_e81b8fbf00ae4e13bbbe4f1978608e2c",
       "outputs": [
        {
         "data": {
          "application/vnd.jupyter.widget-view+json": {
           "model_id": "e2c3eca628b84ce7b15eb8d7a81a8b99",
           "version_major": 2,
           "version_minor": 0
          },
          "text/plain": "Canvas(toolbar=Toolbar(toolitems=[('Home', 'Reset original view', 'home', 'home'), ('Back', 'Back to previous …"
         },
         "metadata": {},
         "output_type": "display_data"
        }
       ]
      }
     },
     "1dc47138c15d49148b07e6deeccc34d7": {
      "model_module": "@jupyter-widgets/controls",
      "model_module_version": "1.5.0",
      "model_name": "ButtonModel",
      "state": {
       "description": "Export Image",
       "layout": "IPY_MODEL_0504f7f5b8ac45f2ad7769b9a6af2134",
       "style": "IPY_MODEL_8bf6a497af6d4171adeaacd1dbcb0ed4"
      }
     },
     "1e3e66f30102409b981637639622d379": {
      "model_module": "@jupyter-widgets/controls",
      "model_module_version": "1.5.0",
      "model_name": "SliderStyleModel",
      "state": {
       "description_width": ""
      }
     },
     "1e3f2f25869c49399c9b118f6f05273e": {
      "model_module": "@jupyter-widgets/base",
      "model_module_version": "1.2.0",
      "model_name": "LayoutModel",
      "state": {}
     },
     "1e74e6a59e154ceda0720354cafa36a0": {
      "model_module": "@jupyter-widgets/base",
      "model_module_version": "1.2.0",
      "model_name": "LayoutModel",
      "state": {
       "border": "solid 4px #222",
       "margin": "4px",
       "padding": "0"
      }
     },
     "1e7d34ad37a84c15a857b40b562f8483": {
      "model_module": "@jupyter-widgets/base",
      "model_module_version": "1.2.0",
      "model_name": "LayoutModel",
      "state": {}
     },
     "1e82172dd36e4f2eb625248a2510a8ea": {
      "model_module": "@jupyter-widgets/controls",
      "model_module_version": "1.5.0",
      "model_name": "DescriptionStyleModel",
      "state": {
       "description_width": ""
      }
     },
     "1ead7af1f6c04bcc857bec83e5f1d193": {
      "model_module": "@jupyter-widgets/controls",
      "model_module_version": "1.5.0",
      "model_name": "FloatSliderModel",
      "state": {
       "description": "Exposure",
       "layout": "IPY_MODEL_e98ec77ac37346e0ba90196d21c5e368",
       "max": 8,
       "min": -8,
       "step": 0.1,
       "style": "IPY_MODEL_7414fceddda943c6bb63c9988215cbcc"
      }
     },
     "1eb98f802da04f05947d78a358c46316": {
      "model_module": "@jupyter-widgets/base",
      "model_module_version": "1.2.0",
      "model_name": "LayoutModel",
      "state": {}
     },
     "1eec303c213f4e1ca613ea83535c53e0": {
      "model_module": "@jupyter-widgets/base",
      "model_module_version": "1.2.0",
      "model_name": "LayoutModel",
      "state": {}
     },
     "1f37251d4dfb4963bc60ad1cae45f798": {
      "model_module": "@jupyter-widgets/base",
      "model_module_version": "1.2.0",
      "model_name": "LayoutModel",
      "state": {}
     },
     "1f4765f69c0d41eab034a29ef26970a1": {
      "model_module": "@jupyter-widgets/base",
      "model_module_version": "1.2.0",
      "model_name": "LayoutModel",
      "state": {}
     },
     "1f56e3594e6c45d8949c96f5a29505b3": {
      "model_module": "@jupyter-widgets/base",
      "model_module_version": "1.2.0",
      "model_name": "LayoutModel",
      "state": {}
     },
     "1f95d1f42beb4753ad8cf4a2d6435f51": {
      "model_module": "@jupyter-widgets/controls",
      "model_module_version": "1.5.0",
      "model_name": "SliderStyleModel",
      "state": {
       "description_width": ""
      }
     },
     "1f99af0e1841468c896da0fd98712246": {
      "model_module": "@jupyter-widgets/controls",
      "model_module_version": "1.5.0",
      "model_name": "ButtonStyleModel",
      "state": {}
     },
     "1fbb7564af644a218a3cb7e2757fed6d": {
      "model_module": "@jupyter-widgets/base",
      "model_module_version": "1.2.0",
      "model_name": "LayoutModel",
      "state": {}
     },
     "1fdd067f9b004f6a97b913399df1f7c2": {
      "model_module": "@jupyter-widgets/base",
      "model_module_version": "1.2.0",
      "model_name": "LayoutModel",
      "state": {}
     },
     "1fe6beff6f104d9281913b1fe28bd6bf": {
      "model_module": "@jupyter-widgets/controls",
      "model_module_version": "1.5.0",
      "model_name": "SliderStyleModel",
      "state": {
       "description_width": ""
      }
     },
     "1fff64de33e546a7a07af47ebcc9650f": {
      "model_module": "@jupyter-widgets/base",
      "model_module_version": "1.2.0",
      "model_name": "LayoutModel",
      "state": {}
     },
     "203bf2212c6149e7a1236bf1199bcfd4": {
      "model_module": "@jupyter-widgets/base",
      "model_module_version": "1.2.0",
      "model_name": "LayoutModel",
      "state": {}
     },
     "206032379e544dfcbf40aaec6d535ede": {
      "model_module": "@jupyter-widgets/controls",
      "model_module_version": "1.5.0",
      "model_name": "DescriptionStyleModel",
      "state": {
       "description_width": ""
      }
     },
     "208246b3e92d4b49b4a34b54387aeefa": {
      "model_module": "@jupyter-widgets/controls",
      "model_module_version": "1.5.0",
      "model_name": "FloatSliderModel",
      "state": {
       "description": "Exposure",
       "layout": "IPY_MODEL_f3c9452e3b31426d885abae5f44ff1f5",
       "max": 8,
       "min": -8,
       "step": 0.1,
       "style": "IPY_MODEL_cbc0bcbf6fda4053955722087ccda117"
      }
     },
     "2096d0d011fb417b8baa0368f3ea95d3": {
      "model_module": "@jupyter-widgets/base",
      "model_module_version": "1.2.0",
      "model_name": "LayoutModel",
      "state": {}
     },
     "209ca558cda94cfe860e3ff1e0dcacfc": {
      "model_module": "@jupyter-widgets/base",
      "model_module_version": "1.2.0",
      "model_name": "LayoutModel",
      "state": {}
     },
     "20c77599081249249c7ba95d9df7ae31": {
      "model_module": "@jupyter-widgets/controls",
      "model_module_version": "1.5.0",
      "model_name": "FloatSliderModel",
      "state": {
       "description": "315°",
       "layout": "IPY_MODEL_9928eab3152b4a7797696dbaf8fb8381",
       "max": 1,
       "min": -1,
       "step": 0.01,
       "style": "IPY_MODEL_10d444031ffb43cab7f90234a032ce67"
      }
     },
     "21000ee0aac447daac7ed7ba39b41874": {
      "model_module": "@jupyter-widgets/base",
      "model_module_version": "1.2.0",
      "model_name": "LayoutModel",
      "state": {}
     },
     "21177c58435743629b8d714073d9952a": {
      "model_module": "@jupyter-widgets/controls",
      "model_module_version": "1.5.0",
      "model_name": "SliderStyleModel",
      "state": {
       "description_width": ""
      }
     },
     "2121ed9e6b0a4bdf8df5071a89ad1243": {
      "model_module": "@jupyter-widgets/controls",
      "model_module_version": "1.5.0",
      "model_name": "DropdownModel",
      "state": {
       "_options_labels": [
        "sRGB",
        "sRGB (ACES)",
        "Display P3",
        "Display P3 (ACES)"
       ],
       "description": "View Transform:",
       "index": 0,
       "layout": "IPY_MODEL_a2f233b36024463789cb0755778f1dc5",
       "style": "IPY_MODEL_75090dc7e5154525bb7cd696e35cf688"
      }
     },
     "212baefbac1c4749a069a27162c3ad38": {
      "model_module": "@jupyter-widgets/controls",
      "model_module_version": "1.5.0",
      "model_name": "HBoxModel",
      "state": {
       "children": [
        "IPY_MODEL_954f9ecc7dc14f708cf850bb8cc59426",
        "IPY_MODEL_b1f3f84c9acc405d85c5a9a1e14b82da",
        "IPY_MODEL_83389d26c9d547329a0837215cafbcdc"
       ],
       "layout": "IPY_MODEL_d78ba25163514b40afaccf042e2b2405"
      }
     },
     "213194d741ba40a2b34f85902017a99a": {
      "model_module": "@jupyter-widgets/base",
      "model_module_version": "1.2.0",
      "model_name": "LayoutModel",
      "state": {
       "border": "solid 4px #222",
       "margin": "4px",
       "padding": "0"
      }
     },
     "2153354ea83d40e0b7e8353920bd4662": {
      "model_module": "@jupyter-widgets/base",
      "model_module_version": "1.2.0",
      "model_name": "LayoutModel",
      "state": {}
     },
     "215e73075f514cd1ae137f997251d8a3": {
      "model_module": "@jupyter-widgets/controls",
      "model_module_version": "1.5.0",
      "model_name": "DropdownModel",
      "state": {
       "_options_labels": [
        "tanh",
        "atan",
        "simple"
       ],
       "description": "Compression Function:",
       "index": 0,
       "layout": "IPY_MODEL_fa26df9ac990450fbbbb3e9145c7c69b",
       "style": "IPY_MODEL_71dcc595f52e4f54a9abcd109b25af21"
      }
     },
     "217a1a6931f04c0e957ba0912041540c": {
      "model_module": "@jupyter-widgets/base",
      "model_module_version": "1.2.0",
      "model_name": "LayoutModel",
      "state": {
       "border": "solid 4px #222",
       "margin": "4px",
       "padding": "0"
      }
     },
     "2184e7f7a889434988668e4a0b3cebfc": {
      "model_module": "@jupyter-widgets/controls",
      "model_module_version": "1.5.0",
      "model_name": "ButtonModel",
      "state": {
       "description": "Reset Protected Area",
       "layout": "IPY_MODEL_3c3006deadf447a28dad8e58acb7d1ab",
       "style": "IPY_MODEL_f7c6c76e4eaf4bb89f910b36049371fb"
      }
     },
     "21b145e2ff254cd2acf2c6d3efea5f50": {
      "model_module": "@jupyter-widgets/controls",
      "model_module_version": "1.5.0",
      "model_name": "HBoxModel",
      "state": {
       "children": [
        "IPY_MODEL_7afa107d395446b0ac304b192ce5f483",
        "IPY_MODEL_bed481eb1c6a4d1eb3098a051d9ea534",
        "IPY_MODEL_666c49b51c3a45cf84c9cdd8f69af4bb"
       ],
       "layout": "IPY_MODEL_e5b900e8f9d1418c8a2af943c1268d19"
      }
     },
     "21bb920d89e941dcb5b16419c0c3b433": {
      "model_module": "@jupyter-widgets/base",
      "model_module_version": "1.2.0",
      "model_name": "LayoutModel",
      "state": {}
     },
     "21e8b2c454294175b91efa88b6ae7993": {
      "model_module": "@jupyter-widgets/base",
      "model_module_version": "1.2.0",
      "model_name": "LayoutModel",
      "state": {}
     },
     "21f454e7a6ab4e67ae278ca1ee9a7e2f": {
      "model_module": "@jupyter-widgets/base",
      "model_module_version": "1.2.0",
      "model_name": "LayoutModel",
      "state": {}
     },
     "21f872c6debf4fd19c25fc2866ccb33c": {
      "model_module": "@jupyter-widgets/controls",
      "model_module_version": "1.5.0",
      "model_name": "SliderStyleModel",
      "state": {
       "description_width": ""
      }
     },
     "21f9eb89f72a4629ae8757ee41468baa": {
      "model_module": "@jupyter-widgets/controls",
      "model_module_version": "1.5.0",
      "model_name": "ButtonStyleModel",
      "state": {}
     },
     "21fbf747577347b4a070fcb68a609ae5": {
      "model_module": "@jupyter-widgets/base",
      "model_module_version": "1.2.0",
      "model_name": "LayoutModel",
      "state": {}
     },
     "21fc0395595c4d098d81411e983420a7": {
      "model_module": "@jupyter-widgets/controls",
      "model_module_version": "1.5.0",
      "model_name": "ButtonStyleModel",
      "state": {}
     },
     "21fce37c40144470a6f926c35ddf8b7c": {
      "model_module": "@jupyter-widgets/base",
      "model_module_version": "1.2.0",
      "model_name": "LayoutModel",
      "state": {
       "border": "solid 4px #222",
       "margin": "4px",
       "padding": "0"
      }
     },
     "22048880f0874d60a868f269685234da": {
      "model_module": "@jupyter-widgets/controls",
      "model_module_version": "1.5.0",
      "model_name": "ButtonModel",
      "state": {
       "description": "Reset Compression Controls",
       "layout": "IPY_MODEL_e62e03b4a55e4bceb0c8ccd8b3c2eb71",
       "style": "IPY_MODEL_b6dec94dbc984abeab50032e87f925d2"
      }
     },
     "220a7f9498f44dad89a2b0374a8b3e27": {
      "model_module": "@jupyter-widgets/controls",
      "model_module_version": "1.5.0",
      "model_name": "ButtonStyleModel",
      "state": {}
     },
     "228e9790b41646e5baa68b8c73d841b9": {
      "model_module": "@jupyter-widgets/base",
      "model_module_version": "1.2.0",
      "model_name": "LayoutModel",
      "state": {}
     },
     "229050ade8894de9b76ec8b605cf624b": {
      "model_module": "@jupyter-widgets/controls",
      "model_module_version": "1.5.0",
      "model_name": "ButtonStyleModel",
      "state": {}
     },
     "22b4c977d87f4008847c8319181a4d69": {
      "model_module": "@jupyter-widgets/controls",
      "model_module_version": "1.5.0",
      "model_name": "VBoxModel",
      "state": {
       "children": [
        "IPY_MODEL_eaa23143e8674e29adf2812ea1c5eb9e"
       ],
       "layout": "IPY_MODEL_4a063ee61acc4b6e99b1afbeaef06cd6"
      }
     },
     "22c194189df44f94a80fa2f6d0cd07fd": {
      "model_module": "@jupyter-widgets/output",
      "model_module_version": "1.0.0",
      "model_name": "OutputModel",
      "state": {
       "layout": "IPY_MODEL_93a8c20787b24acebb1be61af62ea568",
       "outputs": [
        {
         "data": {
          "application/vnd.jupyter.widget-view+json": {
           "model_id": "f9b84c6f7c5f4f9c89454726c7f1dabe",
           "version_major": 2,
           "version_minor": 0
          },
          "text/plain": "Canvas(toolbar=Toolbar(toolitems=[('Home', 'Reset original view', 'home', 'home'), ('Back', 'Back to previous …"
         },
         "metadata": {},
         "output_type": "display_data"
        }
       ]
      }
     },
     "22cab39f90aa45cca7d9b8fd63bf2d2c": {
      "model_module": "@jupyter-widgets/controls",
      "model_module_version": "1.5.0",
      "model_name": "SliderStyleModel",
      "state": {
       "description_width": ""
      }
     },
     "22cabbce9c7e45d591e9f76add12fd8d": {
      "model_module": "@jupyter-widgets/controls",
      "model_module_version": "1.5.0",
      "model_name": "FloatSliderModel",
      "state": {
       "description": "Protected Area Threshold",
       "layout": "IPY_MODEL_3aa0f573eb56461e9e56fefe0fd770e6",
       "max": 1,
       "step": 0.01,
       "style": "IPY_MODEL_efd9310d1bc5428c93bbd9ee17bfcc86",
       "value": 0.5
      }
     },
     "22efd15ba2284c0ab06d163fdb8fd17e": {
      "model_module": "@jupyter-widgets/controls",
      "model_module_version": "1.5.0",
      "model_name": "ButtonModel",
      "state": {
       "description": "Reset Protected Area",
       "layout": "IPY_MODEL_5b864997410146c6b239839204c61932",
       "style": "IPY_MODEL_41ec26d67b3640a49f9bd93f1d70341a"
      }
     },
     "22fe2845647e461bb2b674d8f0c9ce76": {
      "model_module": "@jupyter-widgets/controls",
      "model_module_version": "1.5.0",
      "model_name": "ButtonModel",
      "state": {
       "description": "Reset Saturation Controls",
       "layout": "IPY_MODEL_cd967bca9be349d59666f38b384e402c",
       "style": "IPY_MODEL_21f9eb89f72a4629ae8757ee41468baa"
      }
     },
     "230685841dde4c3e9988988307951f7f": {
      "model_module": "@jupyter-widgets/base",
      "model_module_version": "1.2.0",
      "model_name": "LayoutModel",
      "state": {}
     },
     "2318e67788984bd9948dfe11ac0b73a8": {
      "model_module": "@jupyter-widgets/controls",
      "model_module_version": "1.5.0",
      "model_name": "HBoxModel",
      "state": {
       "children": [
        "IPY_MODEL_413d991c6b5a45338121bca17447a0d8",
        "IPY_MODEL_d26d9e3f587d4f1f8f2a865954c0477c"
       ],
       "layout": "IPY_MODEL_d14f5b34e86e462a8ff5ce99ac1bd6b1"
      }
     },
     "23259f5a7dca49b8a6cce57983134629": {
      "model_module": "@jupyter-widgets/base",
      "model_module_version": "1.2.0",
      "model_name": "LayoutModel",
      "state": {}
     },
     "236f7622894b4ae69242401fb71a42ac": {
      "model_module": "@jupyter-widgets/base",
      "model_module_version": "1.2.0",
      "model_name": "LayoutModel",
      "state": {}
     },
     "23852e4578854bb895cee7169c6c7773": {
      "model_module": "@jupyter-widgets/base",
      "model_module_version": "1.2.0",
      "model_name": "LayoutModel",
      "state": {}
     },
     "23a6e5433c904652b81ae8151ccaecf8": {
      "model_module": "@jupyter-widgets/controls",
      "model_module_version": "1.5.0",
      "model_name": "ButtonStyleModel",
      "state": {}
     },
     "23dec1ac32c7488fba65544fe562ce93": {
      "model_module": "@jupyter-widgets/base",
      "model_module_version": "1.2.0",
      "model_name": "LayoutModel",
      "state": {}
     },
     "2415a3e60f1a4db78520fe1be2148527": {
      "model_module": "@jupyter-widgets/controls",
      "model_module_version": "1.5.0",
      "model_name": "DescriptionStyleModel",
      "state": {
       "description_width": ""
      }
     },
     "24469dede7084a60a9e294e246b0f22a": {
      "model_module": "@jupyter-widgets/controls",
      "model_module_version": "1.5.0",
      "model_name": "SliderStyleModel",
      "state": {
       "description_width": ""
      }
     },
     "2447cb03c2944da0b635650a7d085081": {
      "model_module": "@jupyter-widgets/controls",
      "model_module_version": "1.5.0",
      "model_name": "CheckboxModel",
      "state": {
       "description": "Disable Medicina",
       "disabled": false,
       "layout": "IPY_MODEL_249b06356f994119b81683ac22e879f4",
       "style": "IPY_MODEL_206032379e544dfcbf40aaec6d535ede",
       "value": false
      }
     },
     "2459e92810ce42329e64f742d5fcfa9f": {
      "model_module": "@jupyter-widgets/controls",
      "model_module_version": "1.5.0",
      "model_name": "BoxModel",
      "state": {
       "children": [
        "IPY_MODEL_90e5f285d9db4779931a1036e2c46dc4",
        "IPY_MODEL_8e4f7a985e1642a0b265ff06a613c5ee"
       ],
       "layout": "IPY_MODEL_6dba2f16cdc74a899242374aa6dce543"
      }
     },
     "249b06356f994119b81683ac22e879f4": {
      "model_module": "@jupyter-widgets/base",
      "model_module_version": "1.2.0",
      "model_name": "LayoutModel",
      "state": {}
     },
     "24cd8dc46ce64ef8bb05cc1b75e0e36d": {
      "model_module": "@jupyter-widgets/controls",
      "model_module_version": "1.5.0",
      "model_name": "ButtonModel",
      "state": {
       "description": "Reset Hue Controls",
       "layout": "IPY_MODEL_4706d7b9387644608099325b1ee6206b",
       "style": "IPY_MODEL_0935cf5d8f864b2da1452f7c2e7b88a3"
      }
     },
     "24dd13ebe8c9477ea533084f9e209604": {
      "model_module": "@jupyter-widgets/controls",
      "model_module_version": "1.5.0",
      "model_name": "SliderStyleModel",
      "state": {
       "description_width": ""
      }
     },
     "24f072d477354b8fbd8603bc0df5e7e9": {
      "model_module": "@jupyter-widgets/base",
      "model_module_version": "1.2.0",
      "model_name": "LayoutModel",
      "state": {}
     },
     "251391a3f33f44a0b33e02a3a5a5d74c": {
      "model_module": "jupyter-matplotlib",
      "model_module_version": "^0.7.2",
      "model_name": "ToolbarModel",
      "state": {
       "layout": "IPY_MODEL_06baeba45614477c89e401fc28c98d41",
       "toolitems": [
        [
         "Home",
         "Reset original view",
         "home",
         "home"
        ],
        [
         "Back",
         "Back to previous view",
         "arrow-left",
         "back"
        ],
        [
         "Forward",
         "Forward to next view",
         "arrow-right",
         "forward"
        ],
        [
         "Pan",
         "Pan axes with left mouse, zoom with right",
         "arrows",
         "pan"
        ],
        [
         "Zoom",
         "Zoom to rectangle",
         "square-o",
         "zoom"
        ],
        [
         "Download",
         "Download plot",
         "floppy-o",
         "save_figure"
        ]
       ]
      }
     },
     "251396ea77734859b3ceafc0522fc53f": {
      "model_module": "@jupyter-widgets/controls",
      "model_module_version": "1.5.0",
      "model_name": "ButtonModel",
      "state": {
       "description": "Export Image",
       "layout": "IPY_MODEL_86f7c84c21e74e0f9ed2061ff8297ca3",
       "style": "IPY_MODEL_a90098f567584ff88e76f8bb2b655e94"
      }
     },
     "2526339d8d4d4c8d9c80a9280a5e5249": {
      "model_module": "@jupyter-widgets/controls",
      "model_module_version": "1.5.0",
      "model_name": "FloatSliderModel",
      "state": {
       "description": "270°",
       "layout": "IPY_MODEL_1b5bc7cd7a7b4062a05dbd15ffe31325",
       "max": 1,
       "min": -1,
       "step": 0.01,
       "style": "IPY_MODEL_833a8c46f6a146778d15680dc9994882"
      }
     },
     "2527d0a669eb4c7c8a14a304a2d0a272": {
      "model_module": "@jupyter-widgets/controls",
      "model_module_version": "1.5.0",
      "model_name": "SliderStyleModel",
      "state": {
       "description_width": ""
      }
     },
     "2534df3f8dd047809897899221dfffdc": {
      "model_module": "@jupyter-widgets/controls",
      "model_module_version": "1.5.0",
      "model_name": "ButtonModel",
      "state": {
       "description": "Export Image",
       "layout": "IPY_MODEL_34525a2c9b28412da64e59a30e1b01d1",
       "style": "IPY_MODEL_50a2bebe89414b2f936cbba8c580a5c5"
      }
     },
     "2545556d4a954944bb1928db36bec423": {
      "model_module": "@jupyter-widgets/controls",
      "model_module_version": "1.5.0",
      "model_name": "FloatSliderModel",
      "state": {
       "description": "Exposure",
       "layout": "IPY_MODEL_86f732fdc4e44cb3bd6256c2e5b412f9",
       "max": 8,
       "min": -8,
       "step": 0.1,
       "style": "IPY_MODEL_8d4303ddb34a417aa4b001439233aeb7"
      }
     },
     "255dbdb2fd924770be7fd6de24be93f9": {
      "model_module": "@jupyter-widgets/base",
      "model_module_version": "1.2.0",
      "model_name": "LayoutModel",
      "state": {}
     },
     "2591cea6dc3a42cc843ff5686f29c1ec": {
      "model_module": "@jupyter-widgets/base",
      "model_module_version": "1.2.0",
      "model_name": "LayoutModel",
      "state": {}
     },
     "25a7fdd825a549ddb8528c422d25ce1e": {
      "model_module": "@jupyter-widgets/base",
      "model_module_version": "1.2.0",
      "model_name": "LayoutModel",
      "state": {}
     },
     "25b771fe62f74d8a90eca58f3b86f078": {
      "model_module": "@jupyter-widgets/controls",
      "model_module_version": "1.5.0",
      "model_name": "HBoxModel",
      "state": {
       "children": [
        "IPY_MODEL_4bdfaa30bc9c481caaca7b5458d3cc7d",
        "IPY_MODEL_17cf8a0e8a384af38550ee7ab9a3fa14",
        "IPY_MODEL_c6f432f299f346d88cb5c5b18e34ee67"
       ],
       "layout": "IPY_MODEL_585284cf0a614b9f94d41c250a354c57"
      }
     },
     "25cbbda8a04f4ff1baa5a69c95b10171": {
      "model_module": "@jupyter-widgets/base",
      "model_module_version": "1.2.0",
      "model_name": "LayoutModel",
      "state": {}
     },
     "260648a62c0742439f57892d8936380a": {
      "model_module": "@jupyter-widgets/controls",
      "model_module_version": "1.5.0",
      "model_name": "FloatSliderModel",
      "state": {
       "description": "270°",
       "layout": "IPY_MODEL_44adf8b631724178aa1d7c0f82fddf44",
       "max": 1,
       "min": -1,
       "step": 0.01,
       "style": "IPY_MODEL_52f828b35b3741b096afa2314aa58406"
      }
     },
     "26386a908a7240fb8f0bb281bba6a883": {
      "model_module": "@jupyter-widgets/base",
      "model_module_version": "1.2.0",
      "model_name": "LayoutModel",
      "state": {}
     },
     "26571889e707460bb7ca0f6ece0ab8c7": {
      "model_module": "@jupyter-widgets/controls",
      "model_module_version": "1.5.0",
      "model_name": "ButtonModel",
      "state": {
       "description": "Export Image",
       "layout": "IPY_MODEL_a2d62b818c5644c8b01fb0de111f07fc",
       "style": "IPY_MODEL_ff7e8da92e2f419da2202792a8586855"
      }
     },
     "2680a67625d94ffdb693a945da2dc290": {
      "model_module": "@jupyter-widgets/controls",
      "model_module_version": "1.5.0",
      "model_name": "ButtonStyleModel",
      "state": {}
     },
     "26ccdbde658148c3bf67b7e058e21bfe": {
      "model_module": "@jupyter-widgets/base",
      "model_module_version": "1.2.0",
      "model_name": "LayoutModel",
      "state": {}
     },
     "26e9c1bad32c4a9aa54a22c393970187": {
      "model_module": "@jupyter-widgets/base",
      "model_module_version": "1.2.0",
      "model_name": "LayoutModel",
      "state": {}
     },
     "2711881c89194e36bf730c4067fdc38c": {
      "model_module": "@jupyter-widgets/base",
      "model_module_version": "1.2.0",
      "model_name": "LayoutModel",
      "state": {}
     },
     "272a1dabb389421aaa66995ae93cc886": {
      "model_module": "@jupyter-widgets/controls",
      "model_module_version": "1.5.0",
      "model_name": "BoxModel",
      "state": {
       "children": [
        "IPY_MODEL_2a32b74d9c69467c8824b8c07e5f705f",
        "IPY_MODEL_73118080a375453c8cb19482d05751ec"
       ],
       "layout": "IPY_MODEL_2b4787c5e9264bbd995b0865240ca32e"
      }
     },
     "272d422290424b1a965da5923d73bb72": {
      "model_module": "@jupyter-widgets/base",
      "model_module_version": "1.2.0",
      "model_name": "LayoutModel",
      "state": {}
     },
     "273086f3bd604b49aa026b6a970dcd1f": {
      "model_module": "@jupyter-widgets/controls",
      "model_module_version": "1.5.0",
      "model_name": "FloatSliderModel",
      "state": {
       "description": "Exposure",
       "layout": "IPY_MODEL_55397698b91a471596180e01206eb826",
       "max": 8,
       "min": -8,
       "step": 0.1,
       "style": "IPY_MODEL_4934f35a52f14936ba12037cc1c26964"
      }
     },
     "2735ba56c4aa49f7bc968cdc787f7c8f": {
      "model_module": "@jupyter-widgets/base",
      "model_module_version": "1.2.0",
      "model_name": "LayoutModel",
      "state": {}
     },
     "273ad485940049f0bbf0a0141f82e2c0": {
      "model_module": "@jupyter-widgets/controls",
      "model_module_version": "1.5.0",
      "model_name": "DescriptionStyleModel",
      "state": {
       "description_width": ""
      }
     },
     "276c82681ee340aaba119e2c957dfbe2": {
      "model_module": "@jupyter-widgets/base",
      "model_module_version": "1.2.0",
      "model_name": "LayoutModel",
      "state": {}
     },
     "278e5b692f1f4fb7a42536220261749d": {
      "model_module": "@jupyter-widgets/controls",
      "model_module_version": "1.5.0",
      "model_name": "SliderStyleModel",
      "state": {
       "description_width": ""
      }
     },
     "279552f3ec5e46c4a758ce11595b3ea6": {
      "model_module": "@jupyter-widgets/controls",
      "model_module_version": "1.5.0",
      "model_name": "VBoxModel",
      "state": {
       "children": [
        "IPY_MODEL_1ca88b674f4949918b391ba62ff1c6b2"
       ],
       "layout": "IPY_MODEL_19f398a43cfd423a82b435e967cf9227"
      }
     },
     "27a66e012bae46d8bbbcdc75d3e5cabc": {
      "model_module": "@jupyter-widgets/controls",
      "model_module_version": "1.5.0",
      "model_name": "DescriptionStyleModel",
      "state": {
       "description_width": ""
      }
     },
     "27ab30a95afe4a2e8e40999f07e1fb71": {
      "model_module": "@jupyter-widgets/controls",
      "model_module_version": "1.5.0",
      "model_name": "SliderStyleModel",
      "state": {
       "description_width": ""
      }
     },
     "27b6b75025e7428ca2815c982bb110d2": {
      "model_module": "@jupyter-widgets/controls",
      "model_module_version": "1.5.0",
      "model_name": "FloatSliderModel",
      "state": {
       "description": "Compression Threshold",
       "layout": "IPY_MODEL_ed744f7347b94759abf732d479ba87a5",
       "max": 1,
       "step": 0.01,
       "style": "IPY_MODEL_2527d0a669eb4c7c8a14a304a2d0a272",
       "value": 0.8
      }
     },
     "27bf28ef24654c75b5e5fc37f3db175a": {
      "model_module": "@jupyter-widgets/base",
      "model_module_version": "1.2.0",
      "model_name": "LayoutModel",
      "state": {}
     },
     "27cb961e97784674bc652d2ccddc48c6": {
      "model_module": "@jupyter-widgets/controls",
      "model_module_version": "1.5.0",
      "model_name": "SliderStyleModel",
      "state": {
       "description_width": ""
      }
     },
     "27ce1588c2b1498e95a6b7fbb3222c25": {
      "model_module": "@jupyter-widgets/base",
      "model_module_version": "1.2.0",
      "model_name": "LayoutModel",
      "state": {}
     },
     "27e7b67144ce4097a35aba81830b5f21": {
      "model_module": "@jupyter-widgets/controls",
      "model_module_version": "1.5.0",
      "model_name": "SliderStyleModel",
      "state": {
       "description_width": ""
      }
     },
     "284c78d591a543d68f71f4dd0ef13164": {
      "model_module": "@jupyter-widgets/controls",
      "model_module_version": "1.5.0",
      "model_name": "SliderStyleModel",
      "state": {
       "description_width": ""
      }
     },
     "288b9a5766d849569758182908b7de47": {
      "model_module": "@jupyter-widgets/controls",
      "model_module_version": "1.5.0",
      "model_name": "FloatSliderModel",
      "state": {
       "description": "Protected Area Threshold",
       "layout": "IPY_MODEL_b9385882484d48419238e7511101a0f6",
       "max": 1,
       "step": 0.01,
       "style": "IPY_MODEL_0d8074b6780a434a9508a3e5e4c81823",
       "value": 0.7
      }
     },
     "28ef2f9f978a41aea0bbf6bee7d5c1bb": {
      "model_module": "@jupyter-widgets/controls",
      "model_module_version": "1.5.0",
      "model_name": "DescriptionStyleModel",
      "state": {
       "description_width": ""
      }
     },
     "2923dbecfe1e40dbb08b2e3d8e7ee538": {
      "model_module": "@jupyter-widgets/base",
      "model_module_version": "1.2.0",
      "model_name": "LayoutModel",
      "state": {}
     },
     "2924622cd2684dc4bd55f7b8986e6428": {
      "model_module": "@jupyter-widgets/controls",
      "model_module_version": "1.5.0",
      "model_name": "ButtonModel",
      "state": {
       "description": "Export Image",
       "layout": "IPY_MODEL_7fb04f4ce3ae459b88dea3b3988fe252",
       "style": "IPY_MODEL_57c5a0e2e8134d179cf2bb83fd84ed0e"
      }
     },
     "29378011874b4e14a8ee617ad789e062": {
      "model_module": "@jupyter-widgets/controls",
      "model_module_version": "1.5.0",
      "model_name": "ButtonStyleModel",
      "state": {}
     },
     "29a096f5cf374566ae60e3fe6a464fc3": {
      "model_module": "@jupyter-widgets/controls",
      "model_module_version": "1.5.0",
      "model_name": "ButtonStyleModel",
      "state": {}
     },
     "29b2b4e7c00f4814bf4211ed0d9db6b6": {
      "model_module": "@jupyter-widgets/base",
      "model_module_version": "1.2.0",
      "model_name": "LayoutModel",
      "state": {}
     },
     "2a148a4e9f7c46f0a21808d433279838": {
      "model_module": "@jupyter-widgets/controls",
      "model_module_version": "1.5.0",
      "model_name": "DescriptionStyleModel",
      "state": {
       "description_width": ""
      }
     },
     "2a32b74d9c69467c8824b8c07e5f705f": {
      "model_module": "@jupyter-widgets/output",
      "model_module_version": "1.0.0",
      "model_name": "OutputModel",
      "state": {
       "layout": "IPY_MODEL_b6727fe8546e436c99cd3ff6ee67d9ff",
       "outputs": [
        {
         "data": {
          "application/vnd.jupyter.widget-view+json": {
           "model_id": "a7de725353254aca9cf4623734eae015",
           "version_major": 2,
           "version_minor": 0
          },
          "text/plain": "Canvas(toolbar=Toolbar(toolitems=[('Home', 'Reset original view', 'home', 'home'), ('Back', 'Back to previous …"
         },
         "metadata": {},
         "output_type": "display_data"
        }
       ]
      }
     },
     "2a556814d20e44f49a497329fb895467": {
      "model_module": "@jupyter-widgets/base",
      "model_module_version": "1.2.0",
      "model_name": "LayoutModel",
      "state": {}
     },
     "2a5d8998bdc14fcface087180da43022": {
      "model_module": "@jupyter-widgets/controls",
      "model_module_version": "1.5.0",
      "model_name": "FloatSliderModel",
      "state": {
       "description": "Exposure",
       "layout": "IPY_MODEL_9b420be8e0024fccabfc165405dd4a74",
       "max": 8,
       "min": -8,
       "step": 0.1,
       "style": "IPY_MODEL_672675eb8f924102939e40acbd0440ac"
      }
     },
     "2a6f7d7e5b93403894ffb4f519101eb4": {
      "model_module": "@jupyter-widgets/controls",
      "model_module_version": "1.5.0",
      "model_name": "CheckboxModel",
      "state": {
       "description": "Show Out-of-Gamut",
       "disabled": false,
       "layout": "IPY_MODEL_cf647b1e08f3405abbb25a6f12b03f11",
       "style": "IPY_MODEL_5460237e5f9346f7bf1badb401495bdd",
       "value": false
      }
     },
     "2a9abfcff8f246b9bac3d9eb53d973fd": {
      "model_module": "@jupyter-widgets/output",
      "model_module_version": "1.0.0",
      "model_name": "OutputModel",
      "state": {
       "layout": "IPY_MODEL_5cf87da901af4d1ca12d9067ab7b5bce",
       "outputs": [
        {
         "data": {
          "application/vnd.jupyter.widget-view+json": {
           "model_id": "037b0c1f7f904b1697f1baf93dbdda5d",
           "version_major": 2,
           "version_minor": 0
          },
          "text/plain": "Canvas(toolbar=Toolbar(toolitems=[('Home', 'Reset original view', 'home', 'home'), ('Back', 'Back to previous …"
         },
         "metadata": {},
         "output_type": "display_data"
        }
       ]
      }
     },
     "2abecaa1cc764059a903c603fcaf26ac": {
      "model_module": "@jupyter-widgets/base",
      "model_module_version": "1.2.0",
      "model_name": "LayoutModel",
      "state": {}
     },
     "2ac7624f61854bf29a92bd85fc8a5112": {
      "model_module": "@jupyter-widgets/controls",
      "model_module_version": "1.5.0",
      "model_name": "ButtonModel",
      "state": {
       "description": "Export Image",
       "layout": "IPY_MODEL_2cd996c6578941d5a37d096fb35559f5",
       "style": "IPY_MODEL_5fe761ed17ed42b8a61d8414fed74740"
      }
     },
     "2afe88becc494844b73b118dce587557": {
      "model_module": "@jupyter-widgets/controls",
      "model_module_version": "1.5.0",
      "model_name": "SliderStyleModel",
      "state": {
       "description_width": ""
      }
     },
     "2b4787c5e9264bbd995b0865240ca32e": {
      "model_module": "@jupyter-widgets/base",
      "model_module_version": "1.2.0",
      "model_name": "LayoutModel",
      "state": {
       "align_items": "stretch",
       "display": "flex",
       "flex_flow": "column",
       "width": "1128px"
      }
     },
     "2b6145b8da3c4f94b0fb80413398704a": {
      "model_module": "@jupyter-widgets/base",
      "model_module_version": "1.2.0",
      "model_name": "LayoutModel",
      "state": {}
     },
     "2b7f03f05394438aaa3e7893f4a997d2": {
      "model_module": "@jupyter-widgets/output",
      "model_module_version": "1.0.0",
      "model_name": "OutputModel",
      "state": {
       "layout": "IPY_MODEL_ac43db1894bd416b8babb4277d5ef696",
       "outputs": [
        {
         "data": {
          "application/vnd.jupyter.widget-view+json": {
           "model_id": "9a32cb374c5340109fa9163363cd0cb9",
           "version_major": 2,
           "version_minor": 0
          },
          "text/plain": "Canvas(toolbar=Toolbar(toolitems=[('Home', 'Reset original view', 'home', 'home'), ('Back', 'Back to previous …"
         },
         "metadata": {},
         "output_type": "display_data"
        }
       ]
      }
     },
     "2b87717d55c04a01bcd8f55d8380af67": {
      "model_module": "@jupyter-widgets/base",
      "model_module_version": "1.2.0",
      "model_name": "LayoutModel",
      "state": {}
     },
     "2b891480633f4dd89d6ce4ea90bec339": {
      "model_module": "@jupyter-widgets/base",
      "model_module_version": "1.2.0",
      "model_name": "LayoutModel",
      "state": {}
     },
     "2bb7e81db208495485ee98807441e185": {
      "model_module": "@jupyter-widgets/controls",
      "model_module_version": "1.5.0",
      "model_name": "HBoxModel",
      "state": {
       "children": [
        "IPY_MODEL_48630e51d8294375ad323ee46ede468e",
        "IPY_MODEL_097f80b73926418a8b2134db4a705a4c",
        "IPY_MODEL_cb01d172155040c79ef4e2da6bd81cbd"
       ],
       "layout": "IPY_MODEL_1fff64de33e546a7a07af47ebcc9650f"
      }
     },
     "2bbdb91f38d94126ab157137d79d8dc0": {
      "model_module": "@jupyter-widgets/base",
      "model_module_version": "1.2.0",
      "model_name": "LayoutModel",
      "state": {}
     },
     "2bbe70c1c1ca4c26b3376e691fb2e29d": {
      "model_module": "@jupyter-widgets/base",
      "model_module_version": "1.2.0",
      "model_name": "LayoutModel",
      "state": {}
     },
     "2c270108747e40d29345f2db9333e62f": {
      "model_module": "@jupyter-widgets/base",
      "model_module_version": "1.2.0",
      "model_name": "LayoutModel",
      "state": {}
     },
     "2c68900a364642d395ca42af66faac62": {
      "model_module": "@jupyter-widgets/base",
      "model_module_version": "1.2.0",
      "model_name": "LayoutModel",
      "state": {
       "align_items": "stretch",
       "display": "flex",
       "flex_flow": "column",
       "width": "1128px"
      }
     },
     "2c8a104217f94e9a900efeb057a00202": {
      "model_module": "@jupyter-widgets/base",
      "model_module_version": "1.2.0",
      "model_name": "LayoutModel",
      "state": {}
     },
     "2cd996c6578941d5a37d096fb35559f5": {
      "model_module": "@jupyter-widgets/base",
      "model_module_version": "1.2.0",
      "model_name": "LayoutModel",
      "state": {}
     },
     "2d02b7ab84824059a0fe1b5adabd15c7": {
      "model_module": "@jupyter-widgets/base",
      "model_module_version": "1.2.0",
      "model_name": "LayoutModel",
      "state": {}
     },
     "2d07668ede49450e9f7af2e7d4682e7d": {
      "model_module": "@jupyter-widgets/controls",
      "model_module_version": "1.5.0",
      "model_name": "DropdownModel",
      "state": {
       "_options_labels": [
        "tanh",
        "atan",
        "simple"
       ],
       "description": "Compression Function:",
       "index": 0,
       "layout": "IPY_MODEL_198c4d37b1124400874787761b8ef104",
       "style": "IPY_MODEL_456cb762147a4eaea5879f67b5d206ff"
      }
     },
     "2d29840dc41a4b418a4cb1702650b642": {
      "model_module": "@jupyter-widgets/base",
      "model_module_version": "1.2.0",
      "model_name": "LayoutModel",
      "state": {}
     },
     "2d2d6dd33f234d059555fbe19906cf88": {
      "model_module": "jupyter-matplotlib",
      "model_module_version": "^0.7.2",
      "model_name": "ToolbarModel",
      "state": {
       "layout": "IPY_MODEL_d0c81077c17e4297bd1df9836bc0be57",
       "toolitems": [
        [
         "Home",
         "Reset original view",
         "home",
         "home"
        ],
        [
         "Back",
         "Back to previous view",
         "arrow-left",
         "back"
        ],
        [
         "Forward",
         "Forward to next view",
         "arrow-right",
         "forward"
        ],
        [
         "Pan",
         "Pan axes with left mouse, zoom with right",
         "arrows",
         "pan"
        ],
        [
         "Zoom",
         "Zoom to rectangle",
         "square-o",
         "zoom"
        ],
        [
         "Download",
         "Download plot",
         "floppy-o",
         "save_figure"
        ]
       ]
      }
     },
     "2d344d594f8f4970a3446358361dbb7f": {
      "model_module": "@jupyter-widgets/base",
      "model_module_version": "1.2.0",
      "model_name": "LayoutModel",
      "state": {}
     },
     "2d4d4142e0ba485d87bdd2354dbb31d5": {
      "model_module": "@jupyter-widgets/controls",
      "model_module_version": "1.5.0",
      "model_name": "FloatSliderModel",
      "state": {
       "description": "45°",
       "layout": "IPY_MODEL_517d7cd5b9f44d579c67e8ff38ebb8e8",
       "max": 1,
       "min": -1,
       "step": 0.01,
       "style": "IPY_MODEL_2ebcaa6a64ee42f881d1806afbe1da24"
      }
     },
     "2d56e2afbf744e5d8209b5e1f3502e73": {
      "model_module": "@jupyter-widgets/controls",
      "model_module_version": "1.5.0",
      "model_name": "DescriptionStyleModel",
      "state": {
       "description_width": ""
      }
     },
     "2d5c313d20d54841a948d221aae24b74": {
      "model_module": "@jupyter-widgets/controls",
      "model_module_version": "1.5.0",
      "model_name": "DropdownModel",
      "state": {
       "_options_labels": [
        "tanh",
        "atan",
        "simple"
       ],
       "description": "Compression Function:",
       "index": 0,
       "layout": "IPY_MODEL_b9d357ff67e84beea9b9f85c96954e20",
       "style": "IPY_MODEL_2d56e2afbf744e5d8209b5e1f3502e73"
      }
     },
     "2d8f237159a74443ac124622d4f99774": {
      "model_module": "jupyter-matplotlib",
      "model_module_version": "^0.7.2",
      "model_name": "ToolbarModel",
      "state": {
       "layout": "IPY_MODEL_4a0a297806d5410b89a8e96ef4ce9aa2",
       "toolitems": [
        [
         "Home",
         "Reset original view",
         "home",
         "home"
        ],
        [
         "Back",
         "Back to previous view",
         "arrow-left",
         "back"
        ],
        [
         "Forward",
         "Forward to next view",
         "arrow-right",
         "forward"
        ],
        [
         "Pan",
         "Pan axes with left mouse, zoom with right",
         "arrows",
         "pan"
        ],
        [
         "Zoom",
         "Zoom to rectangle",
         "square-o",
         "zoom"
        ],
        [
         "Download",
         "Download plot",
         "floppy-o",
         "save_figure"
        ]
       ]
      }
     },
     "2da02a4912ba47e79c6c8ca920be4970": {
      "model_module": "@jupyter-widgets/controls",
      "model_module_version": "1.5.0",
      "model_name": "HBoxModel",
      "state": {
       "children": [
        "IPY_MODEL_ffaef469b2d744988ac785a062c05938",
        "IPY_MODEL_c05b3ffa14d64d87be8b82eb72bd72a1",
        "IPY_MODEL_e900eae9de7c4be7bcc053e3eb3248e3",
        "IPY_MODEL_81ea6fa9b4194a019e74bfaa3fb4a532"
       ],
       "layout": "IPY_MODEL_4174563e11544afb8be15c5b2f6c4a67"
      }
     },
     "2db72d0ea57f47158a23b12c6b930c01": {
      "model_module": "@jupyter-widgets/controls",
      "model_module_version": "1.5.0",
      "model_name": "DescriptionStyleModel",
      "state": {
       "description_width": ""
      }
     },
     "2df8f47e65834ac583e317c95a2f7592": {
      "model_module": "@jupyter-widgets/controls",
      "model_module_version": "1.5.0",
      "model_name": "FloatSliderModel",
      "state": {
       "description": "180°",
       "layout": "IPY_MODEL_cd3d487c8c8840d4bb8c84427437555b",
       "max": 1,
       "min": -1,
       "step": 0.01,
       "style": "IPY_MODEL_b4e96e558dc847fba27984d921c14f7d"
      }
     },
     "2dfaf48ad49c45f9ba6883f8e367b6c8": {
      "model_module": "@jupyter-widgets/controls",
      "model_module_version": "1.5.0",
      "model_name": "HBoxModel",
      "state": {
       "children": [
        "IPY_MODEL_e74c269d20834b899bd2946bac2dc9e4",
        "IPY_MODEL_fef34b25d4304d3fb8106de648c407f7",
        "IPY_MODEL_bb261fbf6b0e4359b3530901692c29a1"
       ],
       "layout": "IPY_MODEL_4902affc1edc4e0aaacd6a6c3a25b8fb"
      }
     },
     "2e0dca8e5ad44ae4a6065f5750c753cf": {
      "model_module": "@jupyter-widgets/output",
      "model_module_version": "1.0.0",
      "model_name": "OutputModel",
      "state": {
       "layout": "IPY_MODEL_896a570db86b4e06bf0cb3ab169d21cd",
       "outputs": [
        {
         "data": {
          "application/vnd.jupyter.widget-view+json": {
           "model_id": "e2ba6d29db024312a0d51bef16811865",
           "version_major": 2,
           "version_minor": 0
          },
          "text/plain": "Canvas(toolbar=Toolbar(toolitems=[('Home', 'Reset original view', 'home', 'home'), ('Back', 'Back to previous …"
         },
         "metadata": {},
         "output_type": "display_data"
        }
       ]
      }
     },
     "2e22bcf6979745468162c024a258aef0": {
      "model_module": "@jupyter-widgets/controls",
      "model_module_version": "1.5.0",
      "model_name": "VBoxModel",
      "state": {
       "children": [
        "IPY_MODEL_17e5691f5d9649e5a4fff67a7e90fdd5",
        "IPY_MODEL_771d6b388aab4f0ba87cd65ab6c5ec2d"
       ],
       "layout": "IPY_MODEL_0cddb7699a844eb4aad7d5be3dae72a5"
      }
     },
     "2e30d52bfa984cbea5e2e8e6ae45d518": {
      "model_module": "@jupyter-widgets/base",
      "model_module_version": "1.2.0",
      "model_name": "LayoutModel",
      "state": {}
     },
     "2e33effdff13435db170b3504e9e8b14": {
      "model_module": "@jupyter-widgets/controls",
      "model_module_version": "1.5.0",
      "model_name": "SliderStyleModel",
      "state": {
       "description_width": ""
      }
     },
     "2e377216456a4a619e782e77bea8fa48": {
      "model_module": "@jupyter-widgets/controls",
      "model_module_version": "1.5.0",
      "model_name": "ButtonModel",
      "state": {
       "description": "Reset Protected Area",
       "layout": "IPY_MODEL_6f4a764a9cb943c4827905230715f985",
       "style": "IPY_MODEL_53a6a38d0cee4374b2e668bffdfbe2d4"
      }
     },
     "2e62a485afba42e396a64030d1a946b2": {
      "model_module": "@jupyter-widgets/base",
      "model_module_version": "1.2.0",
      "model_name": "LayoutModel",
      "state": {}
     },
     "2e7d93d62f3a4f1bbd52bdcd46ee485f": {
      "model_module": "@jupyter-widgets/base",
      "model_module_version": "1.2.0",
      "model_name": "LayoutModel",
      "state": {}
     },
     "2e814d22731549799d7b47d2efe663d9": {
      "model_module": "@jupyter-widgets/base",
      "model_module_version": "1.2.0",
      "model_name": "LayoutModel",
      "state": {}
     },
     "2ea1296477e44d47a5096a47b2fd7565": {
      "model_module": "@jupyter-widgets/controls",
      "model_module_version": "1.5.0",
      "model_name": "FloatSliderModel",
      "state": {
       "description": "Exposure",
       "layout": "IPY_MODEL_1f56e3594e6c45d8949c96f5a29505b3",
       "max": 8,
       "min": -8,
       "step": 0.1,
       "style": "IPY_MODEL_47b5c3526524424891b436d5bf3d2c6c"
      }
     },
     "2ebcaa6a64ee42f881d1806afbe1da24": {
      "model_module": "@jupyter-widgets/controls",
      "model_module_version": "1.5.0",
      "model_name": "SliderStyleModel",
      "state": {
       "description_width": ""
      }
     },
     "2ec4a1962e2f41a4ba1e8f813ba97b7a": {
      "model_module": "@jupyter-widgets/base",
      "model_module_version": "1.2.0",
      "model_name": "LayoutModel",
      "state": {}
     },
     "2ee55c2084c741e0b67b087dbf99c7d0": {
      "model_module": "@jupyter-widgets/controls",
      "model_module_version": "1.5.0",
      "model_name": "DescriptionStyleModel",
      "state": {
       "description_width": ""
      }
     },
     "2ee6c3a5fdef43f9b1e40c4c669b5499": {
      "model_module": "@jupyter-widgets/controls",
      "model_module_version": "1.5.0",
      "model_name": "ButtonModel",
      "state": {
       "description": "Save Figure",
       "layout": "IPY_MODEL_c2fde8e7edc04b8eb187c20cefbb741a",
       "style": "IPY_MODEL_13df6aba412b426ba53ee8ba73e9dc15"
      }
     },
     "2f1af625a1a840c596ccc97b71aa89d6": {
      "model_module": "@jupyter-widgets/controls",
      "model_module_version": "1.5.0",
      "model_name": "ButtonModel",
      "state": {
       "description": "Reset Hue Controls",
       "layout": "IPY_MODEL_f0d5ffeed67949a1b0fddd83a9872647",
       "style": "IPY_MODEL_3fdf5ca9263a41bf837b0a25857d5127"
      }
     },
     "2f8bdc33360a4378aff88635e5ef309c": {
      "model_module": "@jupyter-widgets/controls",
      "model_module_version": "1.5.0",
      "model_name": "HBoxModel",
      "state": {
       "children": [
        "IPY_MODEL_6389468578ac45cdb78346db6431ac53",
        "IPY_MODEL_b6fe205f8cbb42159c65ee46813df44b",
        "IPY_MODEL_3a05a7bb2f49473d8a1432b491c58b2a",
        "IPY_MODEL_a159d4249866432db4b357609d772447"
       ],
       "layout": "IPY_MODEL_6213558c750e4185b7ad85f514631fc4"
      }
     },
     "2f929b9b8bc846eab13bf876dbe075fd": {
      "model_module": "@jupyter-widgets/controls",
      "model_module_version": "1.5.0",
      "model_name": "SliderStyleModel",
      "state": {
       "description_width": ""
      }
     },
     "2fa0956bcdad4901ad893767787e8412": {
      "model_module": "@jupyter-widgets/base",
      "model_module_version": "1.2.0",
      "model_name": "LayoutModel",
      "state": {}
     },
     "2fbe659fd113467c93c9234e92f7a83f": {
      "model_module": "@jupyter-widgets/controls",
      "model_module_version": "1.5.0",
      "model_name": "FloatSliderModel",
      "state": {
       "description": "Protected Area Threshold",
       "layout": "IPY_MODEL_ed5dfc4079ec44039416b273fd6214fc",
       "max": 1,
       "step": 0.01,
       "style": "IPY_MODEL_dcb58de6557b42639a2c7407d28eb640",
       "value": 0.7
      }
     },
     "2fcccacaf5934379b79a1320da64c332": {
      "model_module": "@jupyter-widgets/base",
      "model_module_version": "1.2.0",
      "model_name": "LayoutModel",
      "state": {}
     },
     "2fe774c1b58a4badbf6206a605101c06": {
      "model_module": "@jupyter-widgets/controls",
      "model_module_version": "1.5.0",
      "model_name": "FloatSliderModel",
      "state": {
       "description": "45°",
       "layout": "IPY_MODEL_cc3a66a3c6e84296a305a5fd255321fb",
       "max": 1,
       "min": -1,
       "step": 0.01,
       "style": "IPY_MODEL_bf8807aee5b543d4ae62dc736c2e58fa"
      }
     },
     "300517ef27f149e2acf7736f4d068f10": {
      "model_module": "@jupyter-widgets/base",
      "model_module_version": "1.2.0",
      "model_name": "LayoutModel",
      "state": {}
     },
     "3023471dd71a47c0b7ce42cb881f5353": {
      "model_module": "@jupyter-widgets/controls",
      "model_module_version": "1.5.0",
      "model_name": "ButtonModel",
      "state": {
       "description": "Reset Exposure",
       "layout": "IPY_MODEL_11bef69d7e964065bd6672203110db40",
       "style": "IPY_MODEL_9cede7bb4501402eb6de0778dde8427a"
      }
     },
     "308273fec20045a088178629570a80e2": {
      "model_module": "@jupyter-widgets/base",
      "model_module_version": "1.2.0",
      "model_name": "LayoutModel",
      "state": {}
     },
     "30913e0da6c94aac962455f2713a5998": {
      "model_module": "@jupyter-widgets/controls",
      "model_module_version": "1.5.0",
      "model_name": "ButtonModel",
      "state": {
       "description": "Reset Hue Controls",
       "layout": "IPY_MODEL_21f454e7a6ab4e67ae278ca1ee9a7e2f",
       "style": "IPY_MODEL_64536b0ac44a404ea3e9886d20ea4a16"
      }
     },
     "3096356990fc42ccbdfdde844dda85cb": {
      "model_module": "@jupyter-widgets/base",
      "model_module_version": "1.2.0",
      "model_name": "LayoutModel",
      "state": {}
     },
     "3098ee3cd4f1469c946293e29da10de4": {
      "model_module": "@jupyter-widgets/base",
      "model_module_version": "1.2.0",
      "model_name": "LayoutModel",
      "state": {}
     },
     "30c6ab2f688b452c9f9237bd4f1ee678": {
      "model_module": "@jupyter-widgets/base",
      "model_module_version": "1.2.0",
      "model_name": "LayoutModel",
      "state": {}
     },
     "30dc66d1a20e4fe2ac8ee78993816e5e": {
      "model_module": "@jupyter-widgets/base",
      "model_module_version": "1.2.0",
      "model_name": "LayoutModel",
      "state": {}
     },
     "3111a08a41ed4d0b94243c7f5163df83": {
      "model_module": "@jupyter-widgets/base",
      "model_module_version": "1.2.0",
      "model_name": "LayoutModel",
      "state": {}
     },
     "3134b6fe70f44d8d8bb0a4f0474e599a": {
      "model_module": "@jupyter-widgets/controls",
      "model_module_version": "1.5.0",
      "model_name": "HBoxModel",
      "state": {
       "children": [
        "IPY_MODEL_bfaf9dd83bf44526b92faa76bfd3f293",
        "IPY_MODEL_c24d1b4ba8fd4db39df042166e57f50c",
        "IPY_MODEL_3c4f5eaad8084647853c325c5ca2c3bc",
        "IPY_MODEL_550761bdcf834a9fbdc5850d80bfc881"
       ],
       "layout": "IPY_MODEL_0e45ff5e1d59494099eee04ef31512a8"
      }
     },
     "3155175cc2124c3283e0c8df2e562b8b": {
      "model_module": "@jupyter-widgets/base",
      "model_module_version": "1.2.0",
      "model_name": "LayoutModel",
      "state": {}
     },
     "3163a0dbf039473fa063b86bd8246b36": {
      "model_module": "@jupyter-widgets/controls",
      "model_module_version": "1.5.0",
      "model_name": "FloatSliderModel",
      "state": {
       "description": "180°",
       "layout": "IPY_MODEL_62df88d47c82413482760ac1ee725974",
       "max": 1,
       "min": -1,
       "step": 0.01,
       "style": "IPY_MODEL_bad4c44f8cf24d7383f131883373ad36"
      }
     },
     "3165c33eec55417b8bf1f6173e349ecc": {
      "model_module": "jupyter-matplotlib",
      "model_module_version": "^0.7.2",
      "model_name": "ToolbarModel",
      "state": {
       "layout": "IPY_MODEL_1248cef6d36f4f57bddfabd3076bc0f0",
       "toolitems": [
        [
         "Home",
         "Reset original view",
         "home",
         "home"
        ],
        [
         "Back",
         "Back to previous view",
         "arrow-left",
         "back"
        ],
        [
         "Forward",
         "Forward to next view",
         "arrow-right",
         "forward"
        ],
        [
         "Pan",
         "Pan axes with left mouse, zoom with right",
         "arrows",
         "pan"
        ],
        [
         "Zoom",
         "Zoom to rectangle",
         "square-o",
         "zoom"
        ],
        [
         "Download",
         "Download plot",
         "floppy-o",
         "save_figure"
        ]
       ]
      }
     },
     "31698c32ca48468aaeb6a1647b6c779e": {
      "model_module": "@jupyter-widgets/controls",
      "model_module_version": "1.5.0",
      "model_name": "SliderStyleModel",
      "state": {
       "description_width": ""
      }
     },
     "316ae28c0f184e959270ea38f26ee5cf": {
      "model_module": "@jupyter-widgets/controls",
      "model_module_version": "1.5.0",
      "model_name": "SliderStyleModel",
      "state": {
       "description_width": ""
      }
     },
     "3186b249ae5449008188fc79465a98eb": {
      "model_module": "@jupyter-widgets/base",
      "model_module_version": "1.2.0",
      "model_name": "LayoutModel",
      "state": {
       "align_items": "stretch",
       "display": "flex",
       "flex_flow": "column",
       "width": "1128px"
      }
     },
     "318ad52ef38549839e2df1c636f49519": {
      "model_module": "@jupyter-widgets/controls",
      "model_module_version": "1.5.0",
      "model_name": "FloatSliderModel",
      "state": {
       "description": "Exposure",
       "layout": "IPY_MODEL_e99b7d9d86004f7ba7910030a130c050",
       "max": 8,
       "min": -8,
       "step": 0.1,
       "style": "IPY_MODEL_d5f7f3dbeafb4c4197423c4782bbb50c"
      }
     },
     "318c325726ad401da5525c190af704ad": {
      "model_module": "@jupyter-widgets/controls",
      "model_module_version": "1.5.0",
      "model_name": "ButtonModel",
      "state": {
       "description": "Reset Protected Area",
       "layout": "IPY_MODEL_7c64571d7a1d4d5d8461fe266a4c8895",
       "style": "IPY_MODEL_7365f1dcea434392a870c761e0f30cf4"
      }
     },
     "31b79b1deaf34b32be2b19049282e9bd": {
      "model_module": "@jupyter-widgets/controls",
      "model_module_version": "1.5.0",
      "model_name": "CheckboxModel",
      "state": {
       "description": "Show Out-of-Gamut",
       "disabled": false,
       "layout": "IPY_MODEL_37e196bba5564a14aaadbd79637a866a",
       "style": "IPY_MODEL_4e1785589418427ca908a1d2d8ec9da2",
       "value": false
      }
     },
     "31ecd3a24a8e4fb39e93637d7dcfb3ff": {
      "model_module": "@jupyter-widgets/controls",
      "model_module_version": "1.5.0",
      "model_name": "HBoxModel",
      "state": {
       "children": [
        "IPY_MODEL_c22245b54c324b57ac8d56e6dbcb982f",
        "IPY_MODEL_ae060490e19840da86e0cd02171eeb75",
        "IPY_MODEL_2ea1296477e44d47a5096a47b2fd7565",
        "IPY_MODEL_0c7cb08a27e945f9bd98094c5d8c8487"
       ],
       "layout": "IPY_MODEL_18f5eba48f314f2bad177abb11545b68"
      }
     },
     "31ff89388b004faf8386e6227ff9e7a6": {
      "model_module": "@jupyter-widgets/controls",
      "model_module_version": "1.5.0",
      "model_name": "TabModel",
      "state": {
       "_titles": {
        "0": "Global Controls",
        "1": "Viewer Controls",
        "2": "Compression Controls"
       },
       "children": [
        "IPY_MODEL_85dd3c6cb0ec441aa1eee5d54e70c449",
        "IPY_MODEL_49c8aed88b124a7e98a3dc1e8d0af7c8",
        "IPY_MODEL_9600e45ff5204f6ca4b7ec6ed450c95c"
       ],
       "layout": "IPY_MODEL_dc3f4225d0c7455c9b4e1036513c838f"
      }
     },
     "32031a5eafed4e5a94669f5bfe77583c": {
      "model_module": "@jupyter-widgets/controls",
      "model_module_version": "1.5.0",
      "model_name": "DescriptionStyleModel",
      "state": {
       "description_width": ""
      }
     },
     "320adf5292de477fb7582656f66aa2fa": {
      "model_module": "@jupyter-widgets/controls",
      "model_module_version": "1.5.0",
      "model_name": "SliderStyleModel",
      "state": {
       "description_width": ""
      }
     },
     "3221c5667c6b4f3e9a9939b42679631e": {
      "model_module": "@jupyter-widgets/base",
      "model_module_version": "1.2.0",
      "model_name": "LayoutModel",
      "state": {}
     },
     "32377e75acf9458182646f52083d84b2": {
      "model_module": "@jupyter-widgets/base",
      "model_module_version": "1.2.0",
      "model_name": "LayoutModel",
      "state": {}
     },
     "327ea2ea80bd491fa2e6bd8b72539542": {
      "model_module": "@jupyter-widgets/base",
      "model_module_version": "1.2.0",
      "model_name": "LayoutModel",
      "state": {}
     },
     "32948101139a4510b9f37ab30384537b": {
      "model_module": "@jupyter-widgets/controls",
      "model_module_version": "1.5.0",
      "model_name": "ButtonStyleModel",
      "state": {}
     },
     "3297c7ff8f5a4923b746c76a487b576b": {
      "model_module": "@jupyter-widgets/base",
      "model_module_version": "1.2.0",
      "model_name": "LayoutModel",
      "state": {}
     },
     "329d0bc1eddf496080da12c5b38049ce": {
      "model_module": "@jupyter-widgets/base",
      "model_module_version": "1.2.0",
      "model_name": "LayoutModel",
      "state": {}
     },
     "32d97eef5e544d25a1d9cc6b8742d82c": {
      "model_module": "@jupyter-widgets/base",
      "model_module_version": "1.2.0",
      "model_name": "LayoutModel",
      "state": {}
     },
     "3308fa58913048949ea0ab4522d3fd70": {
      "model_module": "@jupyter-widgets/controls",
      "model_module_version": "1.5.0",
      "model_name": "SliderStyleModel",
      "state": {
       "description_width": ""
      }
     },
     "333107939e784aac99c94a68fbc69992": {
      "model_module": "@jupyter-widgets/controls",
      "model_module_version": "1.5.0",
      "model_name": "ButtonModel",
      "state": {
       "description": "Reset Exposure",
       "layout": "IPY_MODEL_618a8b0d6d4149c084e9742c658f7b5f",
       "style": "IPY_MODEL_4462eead516e422b80d3a09d42a24754"
      }
     },
     "338324756f5a4d1e948c2167582769b9": {
      "model_module": "@jupyter-widgets/controls",
      "model_module_version": "1.5.0",
      "model_name": "DescriptionStyleModel",
      "state": {
       "description_width": ""
      }
     },
     "33898dc1101543248d408a49dbf4dd57": {
      "model_module": "@jupyter-widgets/controls",
      "model_module_version": "1.5.0",
      "model_name": "HBoxModel",
      "state": {
       "children": [
        "IPY_MODEL_0176c27b5dfa4e3d9ae7ca7ef8ae0533",
        "IPY_MODEL_a6c53dc66ba54664ab4c889ce4c3f85d",
        "IPY_MODEL_633740947da94f72954fee79bb86a795",
        "IPY_MODEL_a9521805e0aa42ce85b6650bcce69ce1"
       ],
       "layout": "IPY_MODEL_39b69552df9a497a8001d751e54c5161"
      }
     },
     "33aa51e76cfa4a1eae95cc0ec63cef63": {
      "model_module": "@jupyter-widgets/controls",
      "model_module_version": "1.5.0",
      "model_name": "SliderStyleModel",
      "state": {
       "description_width": ""
      }
     },
     "33ce8e45f75d4b38adcd183024d2aac5": {
      "model_module": "@jupyter-widgets/controls",
      "model_module_version": "1.5.0",
      "model_name": "CheckboxModel",
      "state": {
       "description": "Disable Medicina",
       "disabled": false,
       "layout": "IPY_MODEL_e0065b8e91ad45d8b58dbcf17b0f28d7",
       "style": "IPY_MODEL_0ed30ce0165c4dea8d339719d30da844",
       "value": false
      }
     },
     "33cfa3c89322443c9b6f9a4be6baf031": {
      "model_module": "@jupyter-widgets/controls",
      "model_module_version": "1.5.0",
      "model_name": "ButtonStyleModel",
      "state": {}
     },
     "33f75239cf1d429ebedf4f2655796df9": {
      "model_module": "@jupyter-widgets/controls",
      "model_module_version": "1.5.0",
      "model_name": "ButtonStyleModel",
      "state": {}
     },
     "34030490620843b78cd20f3cf3379f47": {
      "model_module": "@jupyter-widgets/controls",
      "model_module_version": "1.5.0",
      "model_name": "ButtonStyleModel",
      "state": {}
     },
     "34420df35f504336a6ff6663802d2a61": {
      "model_module": "@jupyter-widgets/controls",
      "model_module_version": "1.5.0",
      "model_name": "ButtonStyleModel",
      "state": {}
     },
     "34525a2c9b28412da64e59a30e1b01d1": {
      "model_module": "@jupyter-widgets/base",
      "model_module_version": "1.2.0",
      "model_name": "LayoutModel",
      "state": {}
     },
     "34bd05e14537488a9a05615533878f71": {
      "model_module": "@jupyter-widgets/controls",
      "model_module_version": "1.5.0",
      "model_name": "ButtonModel",
      "state": {
       "description": "Reset Exposure",
       "layout": "IPY_MODEL_854176b91aee47a18eb7c2c09f7cd938",
       "style": "IPY_MODEL_c36988528bb14609b44d070cf955059a"
      }
     },
     "34cfa9ccc2bd4bcf89ef1dc03c8ede1a": {
      "model_module": "@jupyter-widgets/base",
      "model_module_version": "1.2.0",
      "model_name": "LayoutModel",
      "state": {}
     },
     "34e0eb980e5e4004b655651bb4185d53": {
      "model_module": "@jupyter-widgets/base",
      "model_module_version": "1.2.0",
      "model_name": "LayoutModel",
      "state": {}
     },
     "3507768cee3f404787f681ca029d1722": {
      "model_module": "@jupyter-widgets/base",
      "model_module_version": "1.2.0",
      "model_name": "LayoutModel",
      "state": {}
     },
     "3551b3cf44764f2eb81da583bdfd1719": {
      "model_module": "@jupyter-widgets/base",
      "model_module_version": "1.2.0",
      "model_name": "LayoutModel",
      "state": {}
     },
     "35520d3e17a448989f570c43bbeb9b0c": {
      "model_module": "@jupyter-widgets/base",
      "model_module_version": "1.2.0",
      "model_name": "LayoutModel",
      "state": {}
     },
     "356bb283826e4193ae571711e6496908": {
      "model_module": "@jupyter-widgets/controls",
      "model_module_version": "1.5.0",
      "model_name": "SliderStyleModel",
      "state": {
       "description_width": ""
      }
     },
     "358ccd1e49044f528d4b6df327c2dd66": {
      "model_module": "jupyter-matplotlib",
      "model_module_version": "^0.7.2",
      "model_name": "MPLCanvasModel",
      "state": {
       "_figure_label": "Figure 7",
       "_height": 508,
       "_image_mode": "diff",
       "_width": 1100,
       "header_visible": false,
       "layout": "IPY_MODEL_711f9b5ceb06462b9afc9d6740078134",
       "resizable": false,
       "toolbar": "IPY_MODEL_ba4fee25fd684aafa550ee7ea2c1f957",
       "toolbar_position": "left",
       "toolbar_visible": false
      }
     },
     "35ac13b3acd84c008ad5e916e64746ce": {
      "model_module": "@jupyter-widgets/controls",
      "model_module_version": "1.5.0",
      "model_name": "TabModel",
      "state": {
       "_titles": {
        "0": "Global Controls",
        "1": "Viewer Controls",
        "2": "Protected Area Controls",
        "3": "Saturation Controls",
        "4": "Hue Controls"
       },
       "children": [
        "IPY_MODEL_4f5d9925aacd48768d4fb95d3cd5f3b2",
        "IPY_MODEL_31ecd3a24a8e4fb39e93637d7dcfb3ff",
        "IPY_MODEL_6de7ec213f4d4a0b8a79411e8f4e157e",
        "IPY_MODEL_fa0599eb072441b5a34672c479c1e11a",
        "IPY_MODEL_8ac07452a25b418194ea72ead738c69b"
       ],
       "layout": "IPY_MODEL_495d008a4534432e8e9bdd41b76ff071"
      }
     },
     "35b22b2b16544a49b08976ebb7a4a4c6": {
      "model_module": "@jupyter-widgets/base",
      "model_module_version": "1.2.0",
      "model_name": "LayoutModel",
      "state": {}
     },
     "35ec4b41cf0b414694b3dcc4cc553fd3": {
      "model_module": "@jupyter-widgets/base",
      "model_module_version": "1.2.0",
      "model_name": "LayoutModel",
      "state": {}
     },
     "35efaabe02b949178007e5bb84ca00bb": {
      "model_module": "@jupyter-widgets/base",
      "model_module_version": "1.2.0",
      "model_name": "LayoutModel",
      "state": {}
     },
     "35f0fbdb8bf143c0ac2a364fe0aec7d0": {
      "model_module": "@jupyter-widgets/controls",
      "model_module_version": "1.5.0",
      "model_name": "SliderStyleModel",
      "state": {
       "description_width": ""
      }
     },
     "35f8e1fb12984722ad09abd0059db2e3": {
      "model_module": "@jupyter-widgets/controls",
      "model_module_version": "1.5.0",
      "model_name": "SliderStyleModel",
      "state": {
       "description_width": ""
      }
     },
     "362b6cef410048da81e6ef43b6900c20": {
      "model_module": "@jupyter-widgets/controls",
      "model_module_version": "1.5.0",
      "model_name": "SliderStyleModel",
      "state": {
       "description_width": ""
      }
     },
     "36f7ea0686e5405eb2eb04553f0e2f2f": {
      "model_module": "@jupyter-widgets/base",
      "model_module_version": "1.2.0",
      "model_name": "LayoutModel",
      "state": {}
     },
     "3710c4352fc44b1bacbbd7c54b1a467b": {
      "model_module": "@jupyter-widgets/base",
      "model_module_version": "1.2.0",
      "model_name": "LayoutModel",
      "state": {}
     },
     "371833fd0a9d4d749e099966a77bb8bd": {
      "model_module": "@jupyter-widgets/base",
      "model_module_version": "1.2.0",
      "model_name": "LayoutModel",
      "state": {
       "border": "solid 4px #222",
       "margin": "4px",
       "padding": "0"
      }
     },
     "3794b85f123b41a18881025bf7d4a6f3": {
      "model_module": "@jupyter-widgets/controls",
      "model_module_version": "1.5.0",
      "model_name": "HBoxModel",
      "state": {
       "children": [
        "IPY_MODEL_22fe2845647e461bb2b674d8f0c9ce76",
        "IPY_MODEL_8ee80174e7374938a2a242b9cdfc9923",
        "IPY_MODEL_b0f5167a6488438b964e1aff0d010577"
       ],
       "layout": "IPY_MODEL_61631e58cd6649689a4520d18609f3c3"
      }
     },
     "37e196bba5564a14aaadbd79637a866a": {
      "model_module": "@jupyter-widgets/base",
      "model_module_version": "1.2.0",
      "model_name": "LayoutModel",
      "state": {}
     },
     "37eeb52743764f2ba0354cc2b8e0f343": {
      "model_module": "@jupyter-widgets/controls",
      "model_module_version": "1.5.0",
      "model_name": "CheckboxModel",
      "state": {
       "description": "Disable Medicina",
       "disabled": false,
       "layout": "IPY_MODEL_478e9a0ab6724f77ba4bb253337db543",
       "style": "IPY_MODEL_513848ba044f4b68a844a642499fbaaa",
       "value": true
      }
     },
     "382e831eda1742228bb856e5121d0fd3": {
      "model_module": "@jupyter-widgets/base",
      "model_module_version": "1.2.0",
      "model_name": "LayoutModel",
      "state": {}
     },
     "38305e6bb5aa4f19b64cff314d1098db": {
      "model_module": "@jupyter-widgets/controls",
      "model_module_version": "1.5.0",
      "model_name": "SliderStyleModel",
      "state": {
       "description_width": ""
      }
     },
     "38ae15a76a1b4b769bff55d811abe70b": {
      "model_module": "@jupyter-widgets/controls",
      "model_module_version": "1.5.0",
      "model_name": "SliderStyleModel",
      "state": {
       "description_width": ""
      }
     },
     "38bf3bc45f4e49f1a4596ad4bc3f7bfd": {
      "model_module": "@jupyter-widgets/controls",
      "model_module_version": "1.5.0",
      "model_name": "SliderStyleModel",
      "state": {
       "description_width": ""
      }
     },
     "38f93d171dfd4b80ae97b99ff4761f9f": {
      "model_module": "@jupyter-widgets/base",
      "model_module_version": "1.2.0",
      "model_name": "LayoutModel",
      "state": {}
     },
     "3919cb4949e24febaf341816156016f5": {
      "model_module": "@jupyter-widgets/base",
      "model_module_version": "1.2.0",
      "model_name": "LayoutModel",
      "state": {
       "border": "solid 4px #222",
       "margin": "4px",
       "padding": "0"
      }
     },
     "392a299592ea449eaa91638d60117df9": {
      "model_module": "@jupyter-widgets/controls",
      "model_module_version": "1.5.0",
      "model_name": "TabModel",
      "state": {
       "_titles": {
        "0": "Global Controls",
        "1": "Viewer Controls",
        "2": "Protected Area Controls",
        "3": "Saturation Controls",
        "4": "Hue Controls"
       },
       "children": [
        "IPY_MODEL_a1c681d961ed4b7f938b869667feae4a",
        "IPY_MODEL_9c9999eeb19945dba20431d5004b45c6",
        "IPY_MODEL_d79bf112f2244212b10706bce61b42d5",
        "IPY_MODEL_4eef2bbc40b24a29bd75ec13891550a0",
        "IPY_MODEL_07cc08d0640645a6b69d2b23e83c3ec8"
       ],
       "layout": "IPY_MODEL_e2b834b024944b5f87fc292fd1f3dcdf"
      }
     },
     "398150e6b50846e9ad3e7ac989c0712a": {
      "model_module": "@jupyter-widgets/base",
      "model_module_version": "1.2.0",
      "model_name": "LayoutModel",
      "state": {}
     },
     "398def1187e44fca93df3a9d6e33945a": {
      "model_module": "@jupyter-widgets/controls",
      "model_module_version": "1.5.0",
      "model_name": "DescriptionStyleModel",
      "state": {
       "description_width": ""
      }
     },
     "39b69552df9a497a8001d751e54c5161": {
      "model_module": "@jupyter-widgets/base",
      "model_module_version": "1.2.0",
      "model_name": "LayoutModel",
      "state": {}
     },
     "3a05a7bb2f49473d8a1432b491c58b2a": {
      "model_module": "@jupyter-widgets/controls",
      "model_module_version": "1.5.0",
      "model_name": "FloatSliderModel",
      "state": {
       "description": "Exposure",
       "layout": "IPY_MODEL_3221c5667c6b4f3e9a9939b42679631e",
       "max": 8,
       "min": -8,
       "step": 0.1,
       "style": "IPY_MODEL_3308fa58913048949ea0ab4522d3fd70"
      }
     },
     "3a88b64c15fd46509a63d5e706b736b1": {
      "model_module": "@jupyter-widgets/controls",
      "model_module_version": "1.5.0",
      "model_name": "SliderStyleModel",
      "state": {
       "description_width": ""
      }
     },
     "3aa0f573eb56461e9e56fefe0fd770e6": {
      "model_module": "@jupyter-widgets/base",
      "model_module_version": "1.2.0",
      "model_name": "LayoutModel",
      "state": {}
     },
     "3b018cd386d248f29dce26a3f2d04b5d": {
      "model_module": "@jupyter-widgets/controls",
      "model_module_version": "1.5.0",
      "model_name": "HBoxModel",
      "state": {
       "children": [
        "IPY_MODEL_be69c99d3bc340aa85d6e20b1482291d",
        "IPY_MODEL_1915bf69196b4af4b57bbbbe8101536c",
        "IPY_MODEL_3fc8d9ded7f349e3b15d7743177d8056",
        "IPY_MODEL_2a6f7d7e5b93403894ffb4f519101eb4"
       ],
       "layout": "IPY_MODEL_194b55ef7958460a98fb4f29f8aaa400"
      }
     },
     "3b17e31d5cc44dfc84a8c904e4d861dd": {
      "model_module": "@jupyter-widgets/base",
      "model_module_version": "1.2.0",
      "model_name": "LayoutModel",
      "state": {}
     },
     "3ba02ad98d884b33a873217ebe2b8e23": {
      "model_module": "@jupyter-widgets/base",
      "model_module_version": "1.2.0",
      "model_name": "LayoutModel",
      "state": {}
     },
     "3bbb8b91ce6b4e648addcd125a18b48e": {
      "model_module": "@jupyter-widgets/controls",
      "model_module_version": "1.5.0",
      "model_name": "FloatSliderModel",
      "state": {
       "description": "135°",
       "layout": "IPY_MODEL_c0e088491c9c422f9b79f34506a08baf",
       "max": 1,
       "min": -1,
       "step": 0.01,
       "style": "IPY_MODEL_bb7668dc8a144eb0a73214feb883f8d4"
      }
     },
     "3bdd656da6f8411ba96e7bab97e633fb": {
      "model_module": "@jupyter-widgets/controls",
      "model_module_version": "1.5.0",
      "model_name": "FloatSliderModel",
      "state": {
       "description": "Exposure",
       "layout": "IPY_MODEL_52547a5e4d424b25a55622409e08db6e",
       "max": 8,
       "min": -8,
       "step": 0.1,
       "style": "IPY_MODEL_fffb14bc22104151b97355feba02dc56"
      }
     },
     "3be4f0c1d73e47babaed0b50b2c14acf": {
      "model_module": "@jupyter-widgets/controls",
      "model_module_version": "1.5.0",
      "model_name": "HBoxModel",
      "state": {
       "children": [
        "IPY_MODEL_f305f72090ee4d048de55b16023ed0e4",
        "IPY_MODEL_0eb55e8d1b0846c794e4575358bb6b0f",
        "IPY_MODEL_e64fb5bd0e414fea9189844df78ea054"
       ],
       "layout": "IPY_MODEL_4a149b4602f544fb98c6c70dfbb34eca"
      }
     },
     "3bf7291670f54822ac1caf4e329d5490": {
      "model_module": "jupyter-matplotlib",
      "model_module_version": "^0.7.2",
      "model_name": "MPLCanvasModel",
      "state": {
       "_figure_label": "Figure 10",
       "_height": 696,
       "_width": 1100,
       "header_visible": false,
       "layout": "IPY_MODEL_83da88ebec074bcc8501eaa131019709",
       "resizable": false,
       "toolbar": "IPY_MODEL_fab2242b0f6943a1b783f797da75a43b",
       "toolbar_position": "left",
       "toolbar_visible": false
      }
     },
     "3c3006deadf447a28dad8e58acb7d1ab": {
      "model_module": "@jupyter-widgets/base",
      "model_module_version": "1.2.0",
      "model_name": "LayoutModel",
      "state": {}
     },
     "3c31a1542cd0475d926875a4b2bb6cb2": {
      "model_module": "jupyter-matplotlib",
      "model_module_version": "^0.7.2",
      "model_name": "MPLCanvasModel",
      "state": {
       "_figure_label": "Figure 22",
       "_height": 396,
       "_width": 1100,
       "header_visible": false,
       "layout": "IPY_MODEL_2e30d52bfa984cbea5e2e8e6ae45d518",
       "resizable": false,
       "toolbar": "IPY_MODEL_68aad428f4764509a90d40d8110443ac",
       "toolbar_position": "left",
       "toolbar_visible": false
      }
     },
     "3c4f5eaad8084647853c325c5ca2c3bc": {
      "model_module": "@jupyter-widgets/controls",
      "model_module_version": "1.5.0",
      "model_name": "FloatSliderModel",
      "state": {
       "description": "Exposure",
       "layout": "IPY_MODEL_c48535aa9ce34ab0a25012414f12f582",
       "max": 8,
       "min": -8,
       "step": 0.1,
       "style": "IPY_MODEL_e58402640d2b42da8bbe0fadf3486414"
      }
     },
     "3c72345e4a874f4a93fafc6e27ac55b0": {
      "model_module": "@jupyter-widgets/base",
      "model_module_version": "1.2.0",
      "model_name": "LayoutModel",
      "state": {}
     },
     "3c8589f5e2204b23b4a0245e87ce2bd3": {
      "model_module": "@jupyter-widgets/base",
      "model_module_version": "1.2.0",
      "model_name": "LayoutModel",
      "state": {
       "border": "solid 4px #222",
       "margin": "4px",
       "padding": "0"
      }
     },
     "3cb9f6c8385b49209a6a41c7d47184ff": {
      "model_module": "@jupyter-widgets/base",
      "model_module_version": "1.2.0",
      "model_name": "LayoutModel",
      "state": {
       "border": "solid 4px #222",
       "margin": "4px",
       "padding": "0"
      }
     },
     "3cba23680a6e434dad5ad3e1d3715ad6": {
      "model_module": "@jupyter-widgets/base",
      "model_module_version": "1.2.0",
      "model_name": "LayoutModel",
      "state": {}
     },
     "3cf60457795d4c04a0d4d5d50b280f92": {
      "model_module": "@jupyter-widgets/base",
      "model_module_version": "1.2.0",
      "model_name": "LayoutModel",
      "state": {}
     },
     "3cf7568cb025483fb2ed0ff72faf632a": {
      "model_module": "@jupyter-widgets/controls",
      "model_module_version": "1.5.0",
      "model_name": "FloatSliderModel",
      "state": {
       "description": "45°",
       "layout": "IPY_MODEL_9177be5ea4284251ac0b5e3ae2b5a92c",
       "max": 1,
       "min": -1,
       "step": 0.01,
       "style": "IPY_MODEL_10cbfc91b8474998b102f591451f92f7"
      }
     },
     "3d2cc6061b824987b80b9a6318f75476": {
      "model_module": "@jupyter-widgets/base",
      "model_module_version": "1.2.0",
      "model_name": "LayoutModel",
      "state": {}
     },
     "3d4847fef4b04f94ac7fad5d2ca7f76e": {
      "model_module": "@jupyter-widgets/base",
      "model_module_version": "1.2.0",
      "model_name": "LayoutModel",
      "state": {}
     },
     "3d7d877ee7ea464990fd0edceed45c00": {
      "model_module": "@jupyter-widgets/controls",
      "model_module_version": "1.5.0",
      "model_name": "CheckboxModel",
      "state": {
       "description": "Disable Medicina",
       "disabled": false,
       "layout": "IPY_MODEL_00774252611e46c9a827bd3a73247566",
       "style": "IPY_MODEL_d0f319d4f21e481fbafaff9a7b7ca6cd",
       "value": false
      }
     },
     "3d9bb25b685d420598fc8ab412831323": {
      "model_module": "@jupyter-widgets/controls",
      "model_module_version": "1.5.0",
      "model_name": "ButtonStyleModel",
      "state": {}
     },
     "3dcb63f639ef485da4c695f27f427c20": {
      "model_module": "@jupyter-widgets/controls",
      "model_module_version": "1.5.0",
      "model_name": "FloatSliderModel",
      "state": {
       "description": "135°",
       "layout": "IPY_MODEL_08a7c22738c8432998cadd68d3a5a1bd",
       "max": 1,
       "min": -1,
       "step": 0.01,
       "style": "IPY_MODEL_ecc79dca21d947c287b8cce59d9b8ce5"
      }
     },
     "3dcc1aedf96a4962b72677e44a2422ab": {
      "model_module": "@jupyter-widgets/controls",
      "model_module_version": "1.5.0",
      "model_name": "ButtonModel",
      "state": {
       "description": "Save Figure",
       "layout": "IPY_MODEL_a41f8772aa6748f4965264ec8cd9f784",
       "style": "IPY_MODEL_86e64c1cfcd448abbc0bc2a08bf49115"
      }
     },
     "3de613bdd1d042c9a407e2b8831b767a": {
      "model_module": "@jupyter-widgets/controls",
      "model_module_version": "1.5.0",
      "model_name": "DescriptionStyleModel",
      "state": {
       "description_width": ""
      }
     },
     "3e4e720fbe98487abb29030e5525d6da": {
      "model_module": "@jupyter-widgets/base",
      "model_module_version": "1.2.0",
      "model_name": "LayoutModel",
      "state": {}
     },
     "3e54875c0b58428fbdbeb9b839d936fe": {
      "model_module": "@jupyter-widgets/controls",
      "model_module_version": "1.5.0",
      "model_name": "DescriptionStyleModel",
      "state": {
       "description_width": ""
      }
     },
     "3e5c897ac1ba4d23a37d0084cdedf306": {
      "model_module": "@jupyter-widgets/output",
      "model_module_version": "1.0.0",
      "model_name": "OutputModel",
      "state": {
       "layout": "IPY_MODEL_6ca3c6b1c6c44732ba55ebe142d3e6cd",
       "outputs": [
        {
         "data": {
          "application/vnd.jupyter.widget-view+json": {
           "model_id": "3bf7291670f54822ac1caf4e329d5490",
           "version_major": 2,
           "version_minor": 0
          },
          "text/plain": "Canvas(toolbar=Toolbar(toolitems=[('Home', 'Reset original view', 'home', 'home'), ('Back', 'Back to previous …"
         },
         "metadata": {},
         "output_type": "display_data"
        }
       ]
      }
     },
     "3ee1c2cf1a24477880504dcb97a4c870": {
      "model_module": "@jupyter-widgets/controls",
      "model_module_version": "1.5.0",
      "model_name": "CheckboxModel",
      "state": {
       "description": "Disable Medicina",
       "disabled": false,
       "layout": "IPY_MODEL_ff0cd7f324754ad6925c3e33e74b23f9",
       "style": "IPY_MODEL_398def1187e44fca93df3a9d6e33945a",
       "value": false
      }
     },
     "3ee44950d3984dc7b8f23879a714b4a8": {
      "model_module": "@jupyter-widgets/controls",
      "model_module_version": "1.5.0",
      "model_name": "ButtonStyleModel",
      "state": {}
     },
     "3eeb4b58760846f299a156ea5edc4884": {
      "model_module": "@jupyter-widgets/controls",
      "model_module_version": "1.5.0",
      "model_name": "ButtonStyleModel",
      "state": {}
     },
     "3eeb9ead4d66434a852ee8041923356b": {
      "model_module": "@jupyter-widgets/controls",
      "model_module_version": "1.5.0",
      "model_name": "ButtonStyleModel",
      "state": {}
     },
     "3f28dfda99044ef2be6465463846e620": {
      "model_module": "@jupyter-widgets/base",
      "model_module_version": "1.2.0",
      "model_name": "LayoutModel",
      "state": {}
     },
     "3f41b563a0d648b0825cc866b76a48b7": {
      "model_module": "@jupyter-widgets/controls",
      "model_module_version": "1.5.0",
      "model_name": "HBoxModel",
      "state": {
       "children": [
        "IPY_MODEL_33ce8e45f75d4b38adcd183024d2aac5",
        "IPY_MODEL_8ee636c726e2406eab62cd405a3e9446",
        "IPY_MODEL_7a8e7d46302d43bc8e1106fab3668fe5"
       ],
       "layout": "IPY_MODEL_09d4adb52a344e5c8d5364cac9115d6b"
      }
     },
     "3f4c4bf2a3d748b5b0b5559b5a0b4e0f": {
      "model_module": "@jupyter-widgets/controls",
      "model_module_version": "1.5.0",
      "model_name": "ButtonModel",
      "state": {
       "description": "Reset Exposure",
       "layout": "IPY_MODEL_d730a66a99944674aaec187ab8f7a416",
       "style": "IPY_MODEL_6f661444b983447a9f8777663e42e80f"
      }
     },
     "3f6a650943f14d1cb29e0ea3f70546b8": {
      "model_module": "@jupyter-widgets/controls",
      "model_module_version": "1.5.0",
      "model_name": "DescriptionStyleModel",
      "state": {
       "description_width": ""
      }
     },
     "3f6ba7843c1849bc9c57223587704c57": {
      "model_module": "@jupyter-widgets/base",
      "model_module_version": "1.2.0",
      "model_name": "LayoutModel",
      "state": {}
     },
     "3fbf35a303db41259ec2b21c5f62192f": {
      "model_module": "@jupyter-widgets/base",
      "model_module_version": "1.2.0",
      "model_name": "LayoutModel",
      "state": {}
     },
     "3fc8d9ded7f349e3b15d7743177d8056": {
      "model_module": "@jupyter-widgets/controls",
      "model_module_version": "1.5.0",
      "model_name": "FloatSliderModel",
      "state": {
       "description": "Exposure",
       "layout": "IPY_MODEL_88c444fa34cd4a65918fccd1898a2870",
       "max": 8,
       "min": -8,
       "step": 0.1,
       "style": "IPY_MODEL_4780a8050976468892fae34c590a9aee"
      }
     },
     "3fd14bab4bbc442bb4f522317b8917ce": {
      "model_module": "@jupyter-widgets/controls",
      "model_module_version": "1.5.0",
      "model_name": "ButtonModel",
      "state": {
       "description": "Reset Exposure",
       "layout": "IPY_MODEL_853ab96bf1bc49e0ab51a3b1c40dee92",
       "style": "IPY_MODEL_229050ade8894de9b76ec8b605cf624b"
      }
     },
     "3fdf5ca9263a41bf837b0a25857d5127": {
      "model_module": "@jupyter-widgets/controls",
      "model_module_version": "1.5.0",
      "model_name": "ButtonStyleModel",
      "state": {}
     },
     "3fea339b9f4048caa6b4062c09bcb4df": {
      "model_module": "@jupyter-widgets/base",
      "model_module_version": "1.2.0",
      "model_name": "LayoutModel",
      "state": {}
     },
     "400ee8d3dcc148438ffff9c7f6d6ba45": {
      "model_module": "@jupyter-widgets/base",
      "model_module_version": "1.2.0",
      "model_name": "LayoutModel",
      "state": {}
     },
     "4013555632d440e2934b12de7c907f1c": {
      "model_module": "@jupyter-widgets/controls",
      "model_module_version": "1.5.0",
      "model_name": "DescriptionStyleModel",
      "state": {
       "description_width": ""
      }
     },
     "401868b622044c6c8915ef2bcdfd5796": {
      "model_module": "jupyter-matplotlib",
      "model_module_version": "^0.7.2",
      "model_name": "ToolbarModel",
      "state": {
       "layout": "IPY_MODEL_7d1d387dca384db789c47c05babd158d",
       "toolitems": [
        [
         "Home",
         "Reset original view",
         "home",
         "home"
        ],
        [
         "Back",
         "Back to previous view",
         "arrow-left",
         "back"
        ],
        [
         "Forward",
         "Forward to next view",
         "arrow-right",
         "forward"
        ],
        [
         "Pan",
         "Pan axes with left mouse, zoom with right",
         "arrows",
         "pan"
        ],
        [
         "Zoom",
         "Zoom to rectangle",
         "square-o",
         "zoom"
        ],
        [
         "Download",
         "Download plot",
         "floppy-o",
         "save_figure"
        ]
       ]
      }
     },
     "404ab902f62c4b28a65cca4ac5f3cfad": {
      "model_module": "@jupyter-widgets/base",
      "model_module_version": "1.2.0",
      "model_name": "LayoutModel",
      "state": {}
     },
     "4079025867d743f68584a610c1f1c7d6": {
      "model_module": "@jupyter-widgets/base",
      "model_module_version": "1.2.0",
      "model_name": "LayoutModel",
      "state": {}
     },
     "408bc274665a4a9491b48babb80d04ae": {
      "model_module": "@jupyter-widgets/base",
      "model_module_version": "1.2.0",
      "model_name": "LayoutModel",
      "state": {}
     },
     "40c60845c31542679a98123e4810cd06": {
      "model_module": "@jupyter-widgets/controls",
      "model_module_version": "1.5.0",
      "model_name": "FloatSliderModel",
      "state": {
       "description": "135°",
       "layout": "IPY_MODEL_b26faa9101654c6897623a61f97e9d04",
       "max": 1,
       "min": -1,
       "step": 0.01,
       "style": "IPY_MODEL_005b0141f0aa48efb5fe53e9368f9aaf"
      }
     },
     "41202282ace94c068bf3804299add18b": {
      "model_module": "@jupyter-widgets/base",
      "model_module_version": "1.2.0",
      "model_name": "LayoutModel",
      "state": {}
     },
     "412c8afd76b842fb80866562efc1a640": {
      "model_module": "@jupyter-widgets/controls",
      "model_module_version": "1.5.0",
      "model_name": "DescriptionStyleModel",
      "state": {
       "description_width": ""
      }
     },
     "413d991c6b5a45338121bca17447a0d8": {
      "model_module": "@jupyter-widgets/controls",
      "model_module_version": "1.5.0",
      "model_name": "ButtonModel",
      "state": {
       "description": "Reset Protected Area",
       "layout": "IPY_MODEL_92a029391b624d55b1e8991e00ced17f",
       "style": "IPY_MODEL_29a096f5cf374566ae60e3fe6a464fc3"
      }
     },
     "413ddaa64b334898ad410e586c840d56": {
      "model_module": "@jupyter-widgets/controls",
      "model_module_version": "1.5.0",
      "model_name": "SliderStyleModel",
      "state": {
       "description_width": ""
      }
     },
     "4167ee7a14af46fbb30e621678e3850f": {
      "model_module": "@jupyter-widgets/controls",
      "model_module_version": "1.5.0",
      "model_name": "FloatSliderModel",
      "state": {
       "description": "90°",
       "layout": "IPY_MODEL_c157399778944559a81803e1093ee298",
       "max": 1,
       "min": -1,
       "step": 0.01,
       "style": "IPY_MODEL_8987f8fe7c0343c49e7b80438146fac7"
      }
     },
     "4174563e11544afb8be15c5b2f6c4a67": {
      "model_module": "@jupyter-widgets/base",
      "model_module_version": "1.2.0",
      "model_name": "LayoutModel",
      "state": {}
     },
     "419bd96372cd469ba3d48c09ee8bcb1d": {
      "model_module": "@jupyter-widgets/base",
      "model_module_version": "1.2.0",
      "model_name": "LayoutModel",
      "state": {}
     },
     "41bfcc4cab4b4e24924c1fb397008c41": {
      "model_module": "@jupyter-widgets/controls",
      "model_module_version": "1.5.0",
      "model_name": "DropdownModel",
      "state": {
       "_options_labels": [
        "tanh",
        "atan",
        "simple"
       ],
       "description": "Compression Function:",
       "index": 0,
       "layout": "IPY_MODEL_e55f515467e64631a327e3de88e222ad",
       "style": "IPY_MODEL_cb72104a7d634b3182fb9edf7c5d1846"
      }
     },
     "41c77cc592a141bb8ac73d273de52e0b": {
      "model_module": "@jupyter-widgets/base",
      "model_module_version": "1.2.0",
      "model_name": "LayoutModel",
      "state": {}
     },
     "41d506495aba422f995fb5781dd182c6": {
      "model_module": "@jupyter-widgets/controls",
      "model_module_version": "1.5.0",
      "model_name": "ButtonStyleModel",
      "state": {}
     },
     "41de73a987c147efae227fbce9658136": {
      "model_module": "@jupyter-widgets/base",
      "model_module_version": "1.2.0",
      "model_name": "LayoutModel",
      "state": {}
     },
     "41e4cb802b1742b1b3718b3e30761a26": {
      "model_module": "@jupyter-widgets/controls",
      "model_module_version": "1.5.0",
      "model_name": "SliderStyleModel",
      "state": {
       "description_width": ""
      }
     },
     "41e7bfbfc98943b89895f7d0a9260f62": {
      "model_module": "@jupyter-widgets/controls",
      "model_module_version": "1.5.0",
      "model_name": "CheckboxModel",
      "state": {
       "description": "Disable Medicina",
       "disabled": false,
       "layout": "IPY_MODEL_e247baaf2e094dd7b41d81dc81e67a5e",
       "style": "IPY_MODEL_c28da4daecbe4f89ab6072e176c7c457",
       "value": false
      }
     },
     "41ec26d67b3640a49f9bd93f1d70341a": {
      "model_module": "@jupyter-widgets/controls",
      "model_module_version": "1.5.0",
      "model_name": "ButtonStyleModel",
      "state": {}
     },
     "41f02c1adcd346b989328f49dc4bb0ec": {
      "model_module": "@jupyter-widgets/controls",
      "model_module_version": "1.5.0",
      "model_name": "ButtonStyleModel",
      "state": {}
     },
     "429b1c9123ae416ab9b533f094402d2b": {
      "model_module": "@jupyter-widgets/controls",
      "model_module_version": "1.5.0",
      "model_name": "DescriptionStyleModel",
      "state": {
       "description_width": ""
      }
     },
     "42b523bae3c249d2b4385fd5830cb697": {
      "model_module": "@jupyter-widgets/controls",
      "model_module_version": "1.5.0",
      "model_name": "DropdownModel",
      "state": {
       "_options_labels": [
        "tanh",
        "atan",
        "simple"
       ],
       "description": "Compression Function:",
       "index": 0,
       "layout": "IPY_MODEL_2b891480633f4dd89d6ce4ea90bec339",
       "style": "IPY_MODEL_6125783d3bee4d1f92bd6eba66b4ff78"
      }
     },
     "42cab6b2e3344b6885aa7a792b7956f1": {
      "model_module": "@jupyter-widgets/base",
      "model_module_version": "1.2.0",
      "model_name": "LayoutModel",
      "state": {}
     },
     "42ed3d9a1f2743c4803d2ea87a51366e": {
      "model_module": "@jupyter-widgets/base",
      "model_module_version": "1.2.0",
      "model_name": "LayoutModel",
      "state": {}
     },
     "430ae3d47fa04940a26f81b3384af651": {
      "model_module": "@jupyter-widgets/controls",
      "model_module_version": "1.5.0",
      "model_name": "SliderStyleModel",
      "state": {
       "description_width": ""
      }
     },
     "43179f7f9b294cf491222ca0e8b1d1c3": {
      "model_module": "@jupyter-widgets/controls",
      "model_module_version": "1.5.0",
      "model_name": "FloatSliderModel",
      "state": {
       "description": "Protected Area Threshold",
       "layout": "IPY_MODEL_c676b2adf5b3444b8f34dc991c948359",
       "max": 1,
       "step": 0.01,
       "style": "IPY_MODEL_f4c32ee940fd4528a2d25bc36b16e358",
       "value": 0.7
      }
     },
     "431f3fa261984524930323d2d493c61c": {
      "model_module": "@jupyter-widgets/controls",
      "model_module_version": "1.5.0",
      "model_name": "SliderStyleModel",
      "state": {
       "description_width": ""
      }
     },
     "4325909edb9f4dd696056f0ee1ab89c7": {
      "model_module": "@jupyter-widgets/controls",
      "model_module_version": "1.5.0",
      "model_name": "FloatSliderModel",
      "state": {
       "description": "135°",
       "layout": "IPY_MODEL_edac23b7b32840aba281f56c978ffee7",
       "max": 1,
       "min": -1,
       "step": 0.01,
       "style": "IPY_MODEL_a799a8f7ec3046f682c57e25059bcf90"
      }
     },
     "4326cc8d0b7d4becbeab20a467ea0109": {
      "model_module": "@jupyter-widgets/controls",
      "model_module_version": "1.5.0",
      "model_name": "HBoxModel",
      "state": {
       "children": [
        "IPY_MODEL_6411ffded45a4924acec5eb0ba226c5e",
        "IPY_MODEL_f04f654ea58c4484af130479b75fcab0",
        "IPY_MODEL_10e3cb09d70f45e48079d44be171feeb",
        "IPY_MODEL_b142d127162540f2a8509877455b42c0"
       ],
       "layout": "IPY_MODEL_a6110be9c8324b88b54546e52f9d55f9"
      }
     },
     "43279eda78b04a63aafd69496e664646": {
      "model_module": "@jupyter-widgets/base",
      "model_module_version": "1.2.0",
      "model_name": "LayoutModel",
      "state": {}
     },
     "433f3d9c08584e15bb4bacf7a0ba0137": {
      "model_module": "@jupyter-widgets/controls",
      "model_module_version": "1.5.0",
      "model_name": "ButtonStyleModel",
      "state": {}
     },
     "4341d201673745148b7466ae90f7356b": {
      "model_module": "@jupyter-widgets/base",
      "model_module_version": "1.2.0",
      "model_name": "LayoutModel",
      "state": {}
     },
     "43575ed50e214600aabb335b86d84475": {
      "model_module": "@jupyter-widgets/controls",
      "model_module_version": "1.5.0",
      "model_name": "FloatSliderModel",
      "state": {
       "description": "225°",
       "layout": "IPY_MODEL_edc4d7d3163948739c99edde018d0fd6",
       "max": 1,
       "min": -1,
       "step": 0.01,
       "style": "IPY_MODEL_1f95d1f42beb4753ad8cf4a2d6435f51"
      }
     },
     "436957ce63df4858a0cdda4090031064": {
      "model_module": "@jupyter-widgets/controls",
      "model_module_version": "1.5.0",
      "model_name": "DescriptionStyleModel",
      "state": {
       "description_width": ""
      }
     },
     "4384a9ffa6af4ab5816723251c8c169a": {
      "model_module": "@jupyter-widgets/controls",
      "model_module_version": "1.5.0",
      "model_name": "ButtonModel",
      "state": {
       "description": "Reset Hue Controls",
       "layout": "IPY_MODEL_072ed41678144eafbbb34fba74320151",
       "style": "IPY_MODEL_75a47ee4117a4f3f8b0e40b19669b897"
      }
     },
     "438c00865e194d92a1199de0125a3be1": {
      "model_module": "@jupyter-widgets/controls",
      "model_module_version": "1.5.0",
      "model_name": "FloatSliderModel",
      "state": {
       "description": "90°",
       "layout": "IPY_MODEL_151f62b4ae3442f78e7cd0b3e8bc0952",
       "max": 1,
       "min": -1,
       "step": 0.01,
       "style": "IPY_MODEL_de1f178543df4a6eb661bac442113ce3"
      }
     },
     "43b9a852d27542bb8ecde6949b3479da": {
      "model_module": "@jupyter-widgets/controls",
      "model_module_version": "1.5.0",
      "model_name": "ButtonStyleModel",
      "state": {}
     },
     "43c6979a3ef143c6a6c574a6fe8064b2": {
      "model_module": "@jupyter-widgets/base",
      "model_module_version": "1.2.0",
      "model_name": "LayoutModel",
      "state": {}
     },
     "43fdff8457dc4162bfbf9d3f9a7a3b9f": {
      "model_module": "@jupyter-widgets/base",
      "model_module_version": "1.2.0",
      "model_name": "LayoutModel",
      "state": {}
     },
     "4435115b1b0f4ea1b3b72ba9f890588d": {
      "model_module": "@jupyter-widgets/base",
      "model_module_version": "1.2.0",
      "model_name": "LayoutModel",
      "state": {}
     },
     "4462eead516e422b80d3a09d42a24754": {
      "model_module": "@jupyter-widgets/controls",
      "model_module_version": "1.5.0",
      "model_name": "ButtonStyleModel",
      "state": {}
     },
     "4486b091c38f41fc89ea8bab474cd613": {
      "model_module": "@jupyter-widgets/controls",
      "model_module_version": "1.5.0",
      "model_name": "SliderStyleModel",
      "state": {
       "description_width": ""
      }
     },
     "448c1d8264704c9ca658e3435c934201": {
      "model_module": "@jupyter-widgets/base",
      "model_module_version": "1.2.0",
      "model_name": "LayoutModel",
      "state": {}
     },
     "44ab0ca9aa4a49489d91b51eac4260dc": {
      "model_module": "@jupyter-widgets/controls",
      "model_module_version": "1.5.0",
      "model_name": "ButtonStyleModel",
      "state": {}
     },
     "44adf8b631724178aa1d7c0f82fddf44": {
      "model_module": "@jupyter-widgets/base",
      "model_module_version": "1.2.0",
      "model_name": "LayoutModel",
      "state": {}
     },
     "44b0cae6d74c433a85cfca65f36a9d24": {
      "model_module": "@jupyter-widgets/controls",
      "model_module_version": "1.5.0",
      "model_name": "DescriptionStyleModel",
      "state": {
       "description_width": ""
      }
     },
     "44c2e79aacf148ccba0369c8ed1c1d2e": {
      "model_module": "@jupyter-widgets/base",
      "model_module_version": "1.2.0",
      "model_name": "LayoutModel",
      "state": {}
     },
     "44dd4024ef844703a156556e6c43fbdd": {
      "model_module": "@jupyter-widgets/base",
      "model_module_version": "1.2.0",
      "model_name": "LayoutModel",
      "state": {}
     },
     "44f5e9b74c84453fb229ecb4811fcc35": {
      "model_module": "@jupyter-widgets/controls",
      "model_module_version": "1.5.0",
      "model_name": "DescriptionStyleModel",
      "state": {
       "description_width": ""
      }
     },
     "456cb762147a4eaea5879f67b5d206ff": {
      "model_module": "@jupyter-widgets/controls",
      "model_module_version": "1.5.0",
      "model_name": "DescriptionStyleModel",
      "state": {
       "description_width": ""
      }
     },
     "456f117a358d4dbfac447e525d89e2ff": {
      "model_module": "@jupyter-widgets/base",
      "model_module_version": "1.2.0",
      "model_name": "LayoutModel",
      "state": {}
     },
     "459292fb86ee4e7e81f2c882c8b060e9": {
      "model_module": "@jupyter-widgets/controls",
      "model_module_version": "1.5.0",
      "model_name": "ButtonModel",
      "state": {
       "description": "Reset Protected Area",
       "layout": "IPY_MODEL_cc3d1eb031fe4f8cb16151a67564e98c",
       "style": "IPY_MODEL_f0a203aa355d4052bc82a3ad945e431f"
      }
     },
     "45d9ee3470e24438aed1a33cec242bb8": {
      "model_module": "@jupyter-widgets/controls",
      "model_module_version": "1.5.0",
      "model_name": "HBoxModel",
      "state": {
       "children": [
        "IPY_MODEL_82234dba9fd54d3cbb90c36a98763ac0",
        "IPY_MODEL_4811a30e4f24478d8fb58510015866be",
        "IPY_MODEL_27b6b75025e7428ca2815c982bb110d2"
       ],
       "layout": "IPY_MODEL_83e5321635204dceb85976dedda64410"
      }
     },
     "45e13557dcb84a5b8ba3af5829d0879f": {
      "model_module": "jupyter-matplotlib",
      "model_module_version": "^0.7.2",
      "model_name": "MPLCanvasModel",
      "state": {
       "_figure_label": "Figure 5",
       "_height": 1100,
       "_width": 1100,
       "layout": "IPY_MODEL_8c31934dfcd742648dd76a3adb5836de",
       "toolbar": "IPY_MODEL_da030c11d8054bfaa5da0504ad29b77b",
       "toolbar_position": "left"
      }
     },
     "45e91ed3926c4c3abb10d137e160f9c1": {
      "model_module": "@jupyter-widgets/controls",
      "model_module_version": "1.5.0",
      "model_name": "ButtonModel",
      "state": {
       "description": "Reset Protected Area",
       "layout": "IPY_MODEL_30dc66d1a20e4fe2ac8ee78993816e5e",
       "style": "IPY_MODEL_33f75239cf1d429ebedf4f2655796df9"
      }
     },
     "460fcb939f4543fdabab334fc72a39ef": {
      "model_module": "@jupyter-widgets/controls",
      "model_module_version": "1.5.0",
      "model_name": "SliderStyleModel",
      "state": {
       "description_width": ""
      }
     },
     "4625ef54ad8040b79932fd1d2977a1f5": {
      "model_module": "@jupyter-widgets/controls",
      "model_module_version": "1.5.0",
      "model_name": "DescriptionStyleModel",
      "state": {
       "description_width": ""
      }
     },
     "464d075539864c029615a2e12ea56842": {
      "model_module": "@jupyter-widgets/controls",
      "model_module_version": "1.5.0",
      "model_name": "HBoxModel",
      "state": {
       "children": [
        "IPY_MODEL_d4cf1739e5ad4767a9979ce2826ddee0",
        "IPY_MODEL_1a5acc8f1b9e4a9b8b4d9b1f4bec8fa9",
        "IPY_MODEL_0f399936c3114f89b2254e16468c2a9c",
        "IPY_MODEL_7f1ed98fa2f24c72ac099ae9401d4d7c"
       ],
       "layout": "IPY_MODEL_bc8b094bcefa4a5284364e87a9dfb2b2"
      }
     },
     "4681fe0c88904055bfdd2d9840df5dbf": {
      "model_module": "@jupyter-widgets/base",
      "model_module_version": "1.2.0",
      "model_name": "LayoutModel",
      "state": {
       "border": "solid 4px #222",
       "margin": "4px",
       "padding": "0"
      }
     },
     "4685b13ac1d4434e918272052fb635f5": {
      "model_module": "@jupyter-widgets/base",
      "model_module_version": "1.2.0",
      "model_name": "LayoutModel",
      "state": {}
     },
     "46a44a2b64dc4c74bd2cb5c747e15987": {
      "model_module": "@jupyter-widgets/base",
      "model_module_version": "1.2.0",
      "model_name": "LayoutModel",
      "state": {}
     },
     "4706d7b9387644608099325b1ee6206b": {
      "model_module": "@jupyter-widgets/base",
      "model_module_version": "1.2.0",
      "model_name": "LayoutModel",
      "state": {}
     },
     "4727d493411d4a62a61ae2fc963d6296": {
      "model_module": "@jupyter-widgets/base",
      "model_module_version": "1.2.0",
      "model_name": "LayoutModel",
      "state": {}
     },
     "47530f973815402b91195ae631e6df15": {
      "model_module": "@jupyter-widgets/base",
      "model_module_version": "1.2.0",
      "model_name": "LayoutModel",
      "state": {}
     },
     "4765dd28dba3493da48799a9d47d8ff0": {
      "model_module": "@jupyter-widgets/base",
      "model_module_version": "1.2.0",
      "model_name": "LayoutModel",
      "state": {
       "border": "solid 4px #222",
       "margin": "4px",
       "padding": "0"
      }
     },
     "4780a8050976468892fae34c590a9aee": {
      "model_module": "@jupyter-widgets/controls",
      "model_module_version": "1.5.0",
      "model_name": "SliderStyleModel",
      "state": {
       "description_width": ""
      }
     },
     "478e9a0ab6724f77ba4bb253337db543": {
      "model_module": "@jupyter-widgets/base",
      "model_module_version": "1.2.0",
      "model_name": "LayoutModel",
      "state": {}
     },
     "479a3ce3398b43f385a3722880c00c4a": {
      "model_module": "@jupyter-widgets/controls",
      "model_module_version": "1.5.0",
      "model_name": "DropdownModel",
      "state": {
       "_options_labels": [
        "tanh",
        "atan",
        "simple"
       ],
       "description": "Compression Function:",
       "index": 0,
       "layout": "IPY_MODEL_0e2b805afa514574bbccb275437b12df",
       "style": "IPY_MODEL_05e9fcafe9fb4b89b5d02ed6287de414"
      }
     },
     "47a6a0746a4c442687f6d271ad4e0207": {
      "model_module": "@jupyter-widgets/base",
      "model_module_version": "1.2.0",
      "model_name": "LayoutModel",
      "state": {}
     },
     "47a71cb92b2d4f61b9a4ffc24c2cafe0": {
      "model_module": "@jupyter-widgets/base",
      "model_module_version": "1.2.0",
      "model_name": "LayoutModel",
      "state": {}
     },
     "47b5c3526524424891b436d5bf3d2c6c": {
      "model_module": "@jupyter-widgets/controls",
      "model_module_version": "1.5.0",
      "model_name": "SliderStyleModel",
      "state": {
       "description_width": ""
      }
     },
     "47b7db8d376248138e9bb2a028f05f6f": {
      "model_module": "@jupyter-widgets/base",
      "model_module_version": "1.2.0",
      "model_name": "LayoutModel",
      "state": {}
     },
     "47c291ac1fb14e5e94e80e5fe08d347e": {
      "model_module": "@jupyter-widgets/controls",
      "model_module_version": "1.5.0",
      "model_name": "FloatSliderModel",
      "state": {
       "description": "Exposure",
       "layout": "IPY_MODEL_dce776b04a164a2d924031117d3bcc9b",
       "max": 8,
       "min": -8,
       "step": 0.1,
       "style": "IPY_MODEL_725d70f5625e4d0bb23e09fbd4b317cd"
      }
     },
     "47c8ab4533a442fba28bcae63b7c860b": {
      "model_module": "@jupyter-widgets/base",
      "model_module_version": "1.2.0",
      "model_name": "LayoutModel",
      "state": {}
     },
     "47ee002befe140348a123c8b6de8dbdc": {
      "model_module": "@jupyter-widgets/base",
      "model_module_version": "1.2.0",
      "model_name": "LayoutModel",
      "state": {}
     },
     "480691add79e4201af4defdf18f52d0a": {
      "model_module": "@jupyter-widgets/base",
      "model_module_version": "1.2.0",
      "model_name": "LayoutModel",
      "state": {}
     },
     "4811a30e4f24478d8fb58510015866be": {
      "model_module": "@jupyter-widgets/controls",
      "model_module_version": "1.5.0",
      "model_name": "DropdownModel",
      "state": {
       "_options_labels": [
        "tanh",
        "atan",
        "simple"
       ],
       "description": "Compression Function:",
       "index": 0,
       "layout": "IPY_MODEL_7fcf6617e5f64c9996b59ee07c84d0a0",
       "style": "IPY_MODEL_e2a4248929784f558c74536c073e1cbb"
      }
     },
     "48334445bdd84ddc8c02a660fcccd703": {
      "model_module": "@jupyter-widgets/controls",
      "model_module_version": "1.5.0",
      "model_name": "SliderStyleModel",
      "state": {
       "description_width": ""
      }
     },
     "48630e51d8294375ad323ee46ede468e": {
      "model_module": "@jupyter-widgets/controls",
      "model_module_version": "1.5.0",
      "model_name": "CheckboxModel",
      "state": {
       "description": "Disable Medicina",
       "disabled": false,
       "layout": "IPY_MODEL_e00a172ac27944a8978f456bf4f15013",
       "style": "IPY_MODEL_27a66e012bae46d8bbbcdc75d3e5cabc",
       "value": false
      }
     },
     "48caac7abc724fdbb57b0f135db05bed": {
      "model_module": "@jupyter-widgets/base",
      "model_module_version": "1.2.0",
      "model_name": "LayoutModel",
      "state": {}
     },
     "48d5cd36c67f4bf99e317a2d53a8c738": {
      "model_module": "@jupyter-widgets/controls",
      "model_module_version": "1.5.0",
      "model_name": "ButtonStyleModel",
      "state": {}
     },
     "48de2ad695894fa888dd63b0369a0c08": {
      "model_module": "@jupyter-widgets/base",
      "model_module_version": "1.2.0",
      "model_name": "LayoutModel",
      "state": {}
     },
     "4902affc1edc4e0aaacd6a6c3a25b8fb": {
      "model_module": "@jupyter-widgets/base",
      "model_module_version": "1.2.0",
      "model_name": "LayoutModel",
      "state": {}
     },
     "4934f35a52f14936ba12037cc1c26964": {
      "model_module": "@jupyter-widgets/controls",
      "model_module_version": "1.5.0",
      "model_name": "SliderStyleModel",
      "state": {
       "description_width": ""
      }
     },
     "494974af0a564462b901c53605e045e5": {
      "model_module": "@jupyter-widgets/controls",
      "model_module_version": "1.5.0",
      "model_name": "DropdownModel",
      "state": {
       "_options_labels": [
        "sRGB",
        "sRGB (ACES)",
        "Display P3",
        "Display P3 (ACES)"
       ],
       "description": "View Transform:",
       "index": 0,
       "layout": "IPY_MODEL_62f10330478a4ac78f358e15e3cf28f2",
       "style": "IPY_MODEL_44b0cae6d74c433a85cfca65f36a9d24"
      }
     },
     "495d008a4534432e8e9bdd41b76ff071": {
      "model_module": "@jupyter-widgets/base",
      "model_module_version": "1.2.0",
      "model_name": "LayoutModel",
      "state": {
       "border": "solid 4px #222",
       "margin": "4px",
       "padding": "0"
      }
     },
     "496b809971b740548af187dcebe2b7da": {
      "model_module": "@jupyter-widgets/controls",
      "model_module_version": "1.5.0",
      "model_name": "VBoxModel",
      "state": {
       "children": [
        "IPY_MODEL_24cd8dc46ce64ef8bb05cc1b75e0e36d"
       ],
       "layout": "IPY_MODEL_832ac73a541c4f4d966bb8cffffec0f4"
      }
     },
     "4997d4048f3e4cb6876f31c8375296a6": {
      "model_module": "@jupyter-widgets/controls",
      "model_module_version": "1.5.0",
      "model_name": "ButtonStyleModel",
      "state": {}
     },
     "49ad8a033bed4a2f8f42f64afbb295f9": {
      "model_module": "@jupyter-widgets/controls",
      "model_module_version": "1.5.0",
      "model_name": "ButtonModel",
      "state": {
       "description": "Export Image",
       "layout": "IPY_MODEL_84169b77ee344b4a9a2c9d361e0cffc0",
       "style": "IPY_MODEL_e8a4f1b14ed14f7d8b8112f3f31b16fd"
      }
     },
     "49b875e0683041848892be50b52c8c4a": {
      "model_module": "@jupyter-widgets/controls",
      "model_module_version": "1.5.0",
      "model_name": "FloatSliderModel",
      "state": {
       "description": "Protected Area Threshold",
       "layout": "IPY_MODEL_621b4f2551ce459491a573e7a669bc58",
       "max": 1,
       "step": 0.01,
       "style": "IPY_MODEL_d445a96424e343e2b3520cb524e55a4d",
       "value": 0.7
      }
     },
     "49c8aed88b124a7e98a3dc1e8d0af7c8": {
      "model_module": "@jupyter-widgets/controls",
      "model_module_version": "1.5.0",
      "model_name": "HBoxModel",
      "state": {
       "children": [
        "IPY_MODEL_065f9bfb549d42109bc3f4521cfd6966",
        "IPY_MODEL_b22b13f4cc6a41e5846d80e941aa732b",
        "IPY_MODEL_04b18be798ad4e8791c4ce37a64c8504",
        "IPY_MODEL_b38a7c7b919744d4b7ca997a61e7e8f2"
       ],
       "layout": "IPY_MODEL_56e0d8d7bf09453589fd626a90b1dbf5"
      }
     },
     "49d2994369f14ec0adaf09038988dcc5": {
      "model_module": "@jupyter-widgets/controls",
      "model_module_version": "1.5.0",
      "model_name": "ButtonModel",
      "state": {
       "description": "Save Figure",
       "layout": "IPY_MODEL_1bae6eb35e24405ea37e05140c54a334",
       "style": "IPY_MODEL_e12d1bc3cd70482c8ec658ecbb9be49a"
      }
     },
     "49e091f30b2345bf943827b532d5cb36": {
      "model_module": "@jupyter-widgets/base",
      "model_module_version": "1.2.0",
      "model_name": "LayoutModel",
      "state": {}
     },
     "4a063ee61acc4b6e99b1afbeaef06cd6": {
      "model_module": "@jupyter-widgets/base",
      "model_module_version": "1.2.0",
      "model_name": "LayoutModel",
      "state": {}
     },
     "4a0a297806d5410b89a8e96ef4ce9aa2": {
      "model_module": "@jupyter-widgets/base",
      "model_module_version": "1.2.0",
      "model_name": "LayoutModel",
      "state": {}
     },
     "4a149b4602f544fb98c6c70dfbb34eca": {
      "model_module": "@jupyter-widgets/base",
      "model_module_version": "1.2.0",
      "model_name": "LayoutModel",
      "state": {}
     },
     "4a249d2f434c47afa0bb983332f0e189": {
      "model_module": "@jupyter-widgets/controls",
      "model_module_version": "1.5.0",
      "model_name": "SliderStyleModel",
      "state": {
       "description_width": ""
      }
     },
     "4a40e33dda9a49618c39a13e0910e334": {
      "model_module": "@jupyter-widgets/controls",
      "model_module_version": "1.5.0",
      "model_name": "FloatSliderModel",
      "state": {
       "description": "180°",
       "layout": "IPY_MODEL_d075efa61463466fb266269aa12ac40b",
       "max": 1,
       "min": -1,
       "step": 0.01,
       "style": "IPY_MODEL_1db70ea7824042d48f958dd66a82eb70"
      }
     },
     "4a5228c419604c839e868fd8cfa4a292": {
      "model_module": "@jupyter-widgets/controls",
      "model_module_version": "1.5.0",
      "model_name": "FloatSliderModel",
      "state": {
       "description": "0°",
       "layout": "IPY_MODEL_1e7d34ad37a84c15a857b40b562f8483",
       "max": 1,
       "min": -1,
       "step": 0.01,
       "style": "IPY_MODEL_1306b99e9b214780b663ff0fbf520732"
      }
     },
     "4a59a4a42afb463ba791f4e568a51984": {
      "model_module": "@jupyter-widgets/base",
      "model_module_version": "1.2.0",
      "model_name": "LayoutModel",
      "state": {}
     },
     "4a77a5fd5bc647bab54f0e64abbb1e00": {
      "model_module": "@jupyter-widgets/controls",
      "model_module_version": "1.5.0",
      "model_name": "HBoxModel",
      "state": {
       "children": [
        "IPY_MODEL_7f13d48880774d6b8665fad328bdb61e",
        "IPY_MODEL_215e73075f514cd1ae137f997251d8a3",
        "IPY_MODEL_4da2ac83c91d4e578d59362e9206a9ac"
       ],
       "layout": "IPY_MODEL_d362714cde4c46e188160dd6b3bd15e2"
      }
     },
     "4ab0b0b5d0554a37a3419172756f2e08": {
      "model_module": "@jupyter-widgets/controls",
      "model_module_version": "1.5.0",
      "model_name": "SliderStyleModel",
      "state": {
       "description_width": ""
      }
     },
     "4aeb4a190a704aa4bed55269eea0efe3": {
      "model_module": "@jupyter-widgets/base",
      "model_module_version": "1.2.0",
      "model_name": "LayoutModel",
      "state": {}
     },
     "4b268043bf2a45d69d9e37e6054d8992": {
      "model_module": "@jupyter-widgets/base",
      "model_module_version": "1.2.0",
      "model_name": "LayoutModel",
      "state": {}
     },
     "4b3e1629ee9441ed934307ce121de67b": {
      "model_module": "@jupyter-widgets/base",
      "model_module_version": "1.2.0",
      "model_name": "LayoutModel",
      "state": {}
     },
     "4b4dc7872f294f48b02a9ec86d512e06": {
      "model_module": "@jupyter-widgets/base",
      "model_module_version": "1.2.0",
      "model_name": "LayoutModel",
      "state": {}
     },
     "4b56a28f121d42598fe14d568857b6b0": {
      "model_module": "@jupyter-widgets/base",
      "model_module_version": "1.2.0",
      "model_name": "LayoutModel",
      "state": {}
     },
     "4b830ec308a0419ea0aee5a2ec905a82": {
      "model_module": "@jupyter-widgets/controls",
      "model_module_version": "1.5.0",
      "model_name": "FloatSliderModel",
      "state": {
       "description": "180°",
       "layout": "IPY_MODEL_8e719dae070540a684851c9c80a3b461",
       "max": 1,
       "min": -1,
       "step": 0.01,
       "style": "IPY_MODEL_76d8b51cd6ec459ab844cee69b4733d4"
      }
     },
     "4ba50e2bd7764b71acfc4e21412ac480": {
      "model_module": "@jupyter-widgets/base",
      "model_module_version": "1.2.0",
      "model_name": "LayoutModel",
      "state": {}
     },
     "4ba7551e5fa44af68e53b926568f66c0": {
      "model_module": "@jupyter-widgets/base",
      "model_module_version": "1.2.0",
      "model_name": "LayoutModel",
      "state": {}
     },
     "4bde6a4f54ca4cc9bbcc7f02322753ec": {
      "model_module": "@jupyter-widgets/base",
      "model_module_version": "1.2.0",
      "model_name": "LayoutModel",
      "state": {}
     },
     "4bdfaa30bc9c481caaca7b5458d3cc7d": {
      "model_module": "@jupyter-widgets/controls",
      "model_module_version": "1.5.0",
      "model_name": "ButtonModel",
      "state": {
       "description": "Reset Saturation Controls",
       "layout": "IPY_MODEL_65f74f8862e6484b87773aae3ceff7c3",
       "style": "IPY_MODEL_9f99f1b771444f26b2bf2f155617a262"
      }
     },
     "4bfe8fb8c7c745eb9bc4426517cf6906": {
      "model_module": "@jupyter-widgets/controls",
      "model_module_version": "1.5.0",
      "model_name": "FloatSliderModel",
      "state": {
       "description": "270°",
       "layout": "IPY_MODEL_1919ca185cff4e72b15a948c05d1bf3e",
       "max": 1,
       "min": -1,
       "step": 0.01,
       "style": "IPY_MODEL_74379e587bc443d38af4978503c325e9"
      }
     },
     "4c0f61e6428748c7b244116cbcf57d24": {
      "model_module": "@jupyter-widgets/controls",
      "model_module_version": "1.5.0",
      "model_name": "SliderStyleModel",
      "state": {
       "description_width": ""
      }
     },
     "4c33cae0b2dd4576a32f97b7aa715007": {
      "model_module": "@jupyter-widgets/base",
      "model_module_version": "1.2.0",
      "model_name": "LayoutModel",
      "state": {
       "border": "solid 4px #222",
       "margin": "4px",
       "padding": "0"
      }
     },
     "4ca34836997d4bbab9186386d61b0eb9": {
      "model_module": "@jupyter-widgets/controls",
      "model_module_version": "1.5.0",
      "model_name": "ButtonModel",
      "state": {
       "description": "Reset Compression Controls",
       "layout": "IPY_MODEL_c9000392c1214057b35e134cf4a56439",
       "style": "IPY_MODEL_730833807f3943f3ae7e789b9db4adb6"
      }
     },
     "4ce37af99dfc47a1a21bf5840d8318d0": {
      "model_module": "jupyter-matplotlib",
      "model_module_version": "^0.7.2",
      "model_name": "MPLCanvasModel",
      "state": {
       "_figure_label": "Figure 18",
       "_height": 430,
       "_width": 1099,
       "header_visible": false,
       "layout": "IPY_MODEL_ef4ba2dfa70b4091a368a0c67835a114",
       "resizable": false,
       "toolbar": "IPY_MODEL_401868b622044c6c8915ef2bcdfd5796",
       "toolbar_position": "left",
       "toolbar_visible": false
      }
     },
     "4cf85cf2e6ea48d8b7f861af1e02a301": {
      "model_module": "@jupyter-widgets/base",
      "model_module_version": "1.2.0",
      "model_name": "LayoutModel",
      "state": {}
     },
     "4d393de5057b474494ddac1f0423938f": {
      "model_module": "@jupyter-widgets/controls",
      "model_module_version": "1.5.0",
      "model_name": "SliderStyleModel",
      "state": {
       "description_width": ""
      }
     },
     "4d3e2a62a9e54aa4bc5a0f147c1c7a5b": {
      "model_module": "@jupyter-widgets/base",
      "model_module_version": "1.2.0",
      "model_name": "LayoutModel",
      "state": {
       "align_items": "stretch",
       "display": "flex",
       "flex_flow": "column",
       "width": "1128px"
      }
     },
     "4d3efb728d30463f96a616e7b3575939": {
      "model_module": "@jupyter-widgets/base",
      "model_module_version": "1.2.0",
      "model_name": "LayoutModel",
      "state": {}
     },
     "4d8ce8b9be0f4e55b4ba5a0bf9efa59c": {
      "model_module": "@jupyter-widgets/controls",
      "model_module_version": "1.5.0",
      "model_name": "TabModel",
      "state": {
       "_titles": {
        "0": "Global Controls",
        "1": "Viewer Controls",
        "2": "Compression Controls"
       },
       "children": [
        "IPY_MODEL_bfbbbcf26d704e68b67b5d600c46409c",
        "IPY_MODEL_9b5b6079d6654e01b9a72855d32a5837",
        "IPY_MODEL_c3350bd316264d2899ee466ea148f533"
       ],
       "layout": "IPY_MODEL_a4b10a5ab56d417db89005c876b8e116"
      }
     },
     "4d971ccb9e5b411a9086f8fd1cf70479": {
      "model_module": "@jupyter-widgets/controls",
      "model_module_version": "1.5.0",
      "model_name": "CheckboxModel",
      "state": {
       "description": "Show Out-of-Gamut",
       "disabled": false,
       "layout": "IPY_MODEL_cee16ca9f835418eb5eb7493a8d73e87",
       "style": "IPY_MODEL_3de613bdd1d042c9a407e2b8831b767a",
       "value": false
      }
     },
     "4da2ac83c91d4e578d59362e9206a9ac": {
      "model_module": "@jupyter-widgets/controls",
      "model_module_version": "1.5.0",
      "model_name": "FloatSliderModel",
      "state": {
       "description": "Compression Threshold",
       "layout": "IPY_MODEL_64cbf2d93d9d4cf18b686a9fbde7fd7e",
       "max": 1,
       "step": 0.01,
       "style": "IPY_MODEL_0e49823b7da14a4fa00b6481ad5e9070",
       "value": 0.8
      }
     },
     "4dbaef1b90824ac191684f5ab543fb50": {
      "model_module": "@jupyter-widgets/base",
      "model_module_version": "1.2.0",
      "model_name": "LayoutModel",
      "state": {
       "border": "solid 4px #222",
       "margin": "4px",
       "padding": "0"
      }
     },
     "4dd25be446c94ae3b04899827ddb6d17": {
      "model_module": "@jupyter-widgets/controls",
      "model_module_version": "1.5.0",
      "model_name": "FloatSliderModel",
      "state": {
       "description": "Exposure",
       "layout": "IPY_MODEL_b6a4be1674f146e091d9e0bf92846e04",
       "max": 8,
       "min": -8,
       "step": 0.1,
       "style": "IPY_MODEL_9b58b22a0e6c433cbfcaa6c2ba5fe6f4"
      }
     },
     "4e133c52174c4a7d98773dea4938b62d": {
      "model_module": "@jupyter-widgets/controls",
      "model_module_version": "1.5.0",
      "model_name": "ButtonModel",
      "state": {
       "description": "Save Figure",
       "layout": "IPY_MODEL_a820b41eb4604420a02ee0a7ed0d1d09",
       "style": "IPY_MODEL_f30c534debb04242ad2201f8b622d688"
      }
     },
     "4e1785589418427ca908a1d2d8ec9da2": {
      "model_module": "@jupyter-widgets/controls",
      "model_module_version": "1.5.0",
      "model_name": "DescriptionStyleModel",
      "state": {
       "description_width": ""
      }
     },
     "4ea2668b24f4465baf53ae7a8f2473b6": {
      "model_module": "@jupyter-widgets/base",
      "model_module_version": "1.2.0",
      "model_name": "LayoutModel",
      "state": {
       "border": "solid 4px #222",
       "margin": "4px",
       "padding": "0"
      }
     },
     "4eaf35703be3469c9859c093e4e60a38": {
      "model_module": "@jupyter-widgets/controls",
      "model_module_version": "1.5.0",
      "model_name": "ButtonModel",
      "state": {
       "description": "Save Figure",
       "layout": "IPY_MODEL_48de2ad695894fa888dd63b0369a0c08",
       "style": "IPY_MODEL_f5b06adec838416bbecdd0bee793f374"
      }
     },
     "4eb9fed2c4144e9d89f9bb53a29438f7": {
      "model_module": "@jupyter-widgets/base",
      "model_module_version": "1.2.0",
      "model_name": "LayoutModel",
      "state": {}
     },
     "4eef2bbc40b24a29bd75ec13891550a0": {
      "model_module": "@jupyter-widgets/controls",
      "model_module_version": "1.5.0",
      "model_name": "HBoxModel",
      "state": {
       "children": [
        "IPY_MODEL_70be7de005164c23a5560f07d21def46",
        "IPY_MODEL_2d07668ede49450e9f7af2e7d4682e7d",
        "IPY_MODEL_9f19bc3c52e74cad80acb734014ca249"
       ],
       "layout": "IPY_MODEL_08575ac8b750447d9c1406347527767e"
      }
     },
     "4f0a9186db594584920c729d210e73af": {
      "model_module": "@jupyter-widgets/controls",
      "model_module_version": "1.5.0",
      "model_name": "FloatSliderModel",
      "state": {
       "description": "270°",
       "layout": "IPY_MODEL_a78a173d1c9747b5a87b0c2c6d90ecd0",
       "max": 1,
       "min": -1,
       "step": 0.01,
       "style": "IPY_MODEL_7c57e9efce334005958fcdbec3dd3c34"
      }
     },
     "4f1eb1e4cca948d9aa03dbe3d06dc392": {
      "model_module": "@jupyter-widgets/controls",
      "model_module_version": "1.5.0",
      "model_name": "FloatSliderModel",
      "state": {
       "description": "180°",
       "layout": "IPY_MODEL_799285f486e749099553b53b50993e55",
       "max": 1,
       "min": -1,
       "step": 0.01,
       "style": "IPY_MODEL_532ece3f55324e41a255e55aaeeff6d0"
      }
     },
     "4f2d4a49b5d84e2ca965e6ef34da894f": {
      "model_module": "@jupyter-widgets/controls",
      "model_module_version": "1.5.0",
      "model_name": "SliderStyleModel",
      "state": {
       "description_width": ""
      }
     },
     "4f34bf359ddd4682960b2d78d79341bc": {
      "model_module": "@jupyter-widgets/controls",
      "model_module_version": "1.5.0",
      "model_name": "SliderStyleModel",
      "state": {
       "description_width": ""
      }
     },
     "4f3f055083f2471fa3a532f2d4906d9c": {
      "model_module": "@jupyter-widgets/output",
      "model_module_version": "1.0.0",
      "model_name": "OutputModel",
      "state": {
       "layout": "IPY_MODEL_3c8589f5e2204b23b4a0245e87ce2bd3",
       "outputs": [
        {
         "data": {
          "application/vnd.jupyter.widget-view+json": {
           "model_id": "62d3206f9c464fd2b743a4b3df238dec",
           "version_major": 2,
           "version_minor": 0
          },
          "text/plain": "Canvas(toolbar=Toolbar(toolitems=[('Home', 'Reset original view', 'home', 'home'), ('Back', 'Back to previous …"
         },
         "metadata": {},
         "output_type": "display_data"
        }
       ]
      }
     },
     "4f4edfb3da194e57a1060a902d6f35af": {
      "model_module": "@jupyter-widgets/base",
      "model_module_version": "1.2.0",
      "model_name": "LayoutModel",
      "state": {}
     },
     "4f5509f2944c4ee5874df1a4005dfd69": {
      "model_module": "@jupyter-widgets/base",
      "model_module_version": "1.2.0",
      "model_name": "LayoutModel",
      "state": {}
     },
     "4f5cb938b2294f8cb30c0ba1abd54015": {
      "model_module": "@jupyter-widgets/base",
      "model_module_version": "1.2.0",
      "model_name": "LayoutModel",
      "state": {}
     },
     "4f5d9925aacd48768d4fb95d3cd5f3b2": {
      "model_module": "@jupyter-widgets/controls",
      "model_module_version": "1.5.0",
      "model_name": "HBoxModel",
      "state": {
       "children": [
        "IPY_MODEL_e87230abfa1446cf909fca5ed1014a56",
        "IPY_MODEL_d1b3f16b2ca74b6eaf4cf34d7aa1e4b6",
        "IPY_MODEL_9f25d6c722a941e5803c1c57b2128731"
       ],
       "layout": "IPY_MODEL_a470def425df4d40b380bda6d8aa8e50"
      }
     },
     "4fb6c3c62db7425980c84abac494bf72": {
      "model_module": "@jupyter-widgets/controls",
      "model_module_version": "1.5.0",
      "model_name": "HBoxModel",
      "state": {
       "children": [
        "IPY_MODEL_5e6847ad57994006b48f92b0f9bb4d07",
        "IPY_MODEL_22cabbce9c7e45d591e9f76add12fd8d"
       ],
       "layout": "IPY_MODEL_059629770f314eb28de89d90de161ba9"
      }
     },
     "4ff30067c22340f79457f0b4e921fd33": {
      "model_module": "@jupyter-widgets/controls",
      "model_module_version": "1.5.0",
      "model_name": "SliderStyleModel",
      "state": {
       "description_width": ""
      }
     },
     "500dbef75f7a491fbb7972aa014341fd": {
      "model_module": "@jupyter-widgets/controls",
      "model_module_version": "1.5.0",
      "model_name": "DropdownModel",
      "state": {
       "_options_labels": [
        "tanh",
        "atan",
        "simple"
       ],
       "description": "Compression Function:",
       "index": 0,
       "layout": "IPY_MODEL_78b87a7c66954c08ba40384c700e48fd",
       "style": "IPY_MODEL_412c8afd76b842fb80866562efc1a640"
      }
     },
     "502f22745aee46279dc0e45d858d73ca": {
      "model_module": "@jupyter-widgets/controls",
      "model_module_version": "1.5.0",
      "model_name": "FloatSliderModel",
      "state": {
       "description": "135°",
       "layout": "IPY_MODEL_35ec4b41cf0b414694b3dcc4cc553fd3",
       "max": 1,
       "min": -1,
       "step": 0.01,
       "style": "IPY_MODEL_9f65a28945aa4ea48eb6f095688108a4"
      }
     },
     "504a8b2b676e4cac8763de942e02f256": {
      "model_module": "@jupyter-widgets/base",
      "model_module_version": "1.2.0",
      "model_name": "LayoutModel",
      "state": {}
     },
     "507b2f2225d14be9808d4bc4b09e14a5": {
      "model_module": "@jupyter-widgets/controls",
      "model_module_version": "1.5.0",
      "model_name": "DropdownModel",
      "state": {
       "_options_labels": [
        "sRGB",
        "sRGB (ACES)",
        "Display P3",
        "Display P3 (ACES)"
       ],
       "description": "View Transform:",
       "index": 0,
       "layout": "IPY_MODEL_97c0547200da4fb598f2ed4466177aec",
       "style": "IPY_MODEL_5bbba56c7d4144889a207667a7a16f89"
      }
     },
     "50806e4ce2c544a6878582e00f28c06f": {
      "model_module": "@jupyter-widgets/controls",
      "model_module_version": "1.5.0",
      "model_name": "DropdownModel",
      "state": {
       "_options_labels": [
        "sRGB",
        "sRGB (ACES)",
        "Display P3",
        "Display P3 (ACES)"
       ],
       "description": "View Transform:",
       "index": 0,
       "layout": "IPY_MODEL_a8f737efcbe94b458f4eab105f42edaf",
       "style": "IPY_MODEL_f45a173fcc20419e8ddeab757265b831"
      }
     },
     "508eb2db22ef48508138cfc642987ccb": {
      "model_module": "@jupyter-widgets/base",
      "model_module_version": "1.2.0",
      "model_name": "LayoutModel",
      "state": {}
     },
     "50995ebdeb1846e18a5e9a5aa2079125": {
      "model_module": "@jupyter-widgets/controls",
      "model_module_version": "1.5.0",
      "model_name": "FloatSliderModel",
      "state": {
       "description": "180°",
       "layout": "IPY_MODEL_c179b92b2b1247a0b988432eec152b86",
       "max": 1,
       "min": -1,
       "step": 0.01,
       "style": "IPY_MODEL_f17fd5e234c34c0ea4a267d3195fef83"
      }
     },
     "50a2bebe89414b2f936cbba8c580a5c5": {
      "model_module": "@jupyter-widgets/controls",
      "model_module_version": "1.5.0",
      "model_name": "ButtonStyleModel",
      "state": {}
     },
     "50d163ad24af479fad8f75c5db8c70d2": {
      "model_module": "@jupyter-widgets/base",
      "model_module_version": "1.2.0",
      "model_name": "LayoutModel",
      "state": {}
     },
     "50d2062f06264ae1b86dd4e34b613335": {
      "model_module": "@jupyter-widgets/base",
      "model_module_version": "1.2.0",
      "model_name": "LayoutModel",
      "state": {}
     },
     "50e230c9349b410a83648473d23dca70": {
      "model_module": "@jupyter-widgets/base",
      "model_module_version": "1.2.0",
      "model_name": "LayoutModel",
      "state": {}
     },
     "50ea09c74aa540549af87079531760c0": {
      "model_module": "@jupyter-widgets/controls",
      "model_module_version": "1.5.0",
      "model_name": "VBoxModel",
      "state": {
       "children": [
        "IPY_MODEL_edb1119524ae4ba6a01f6f7383a71e93",
        "IPY_MODEL_91a8ebfd5adb4a4c9f3dde578be2c4fc"
       ],
       "layout": "IPY_MODEL_1b4961ddeebd4d849415a2641e7e399c"
      }
     },
     "5123b30c429844dbb274b577681321a2": {
      "model_module": "@jupyter-widgets/base",
      "model_module_version": "1.2.0",
      "model_name": "LayoutModel",
      "state": {}
     },
     "513848ba044f4b68a844a642499fbaaa": {
      "model_module": "@jupyter-widgets/controls",
      "model_module_version": "1.5.0",
      "model_name": "DescriptionStyleModel",
      "state": {
       "description_width": ""
      }
     },
     "514b57b77a784f30a9b4517d74aeb16d": {
      "model_module": "@jupyter-widgets/base",
      "model_module_version": "1.2.0",
      "model_name": "LayoutModel",
      "state": {}
     },
     "514d6ebd2f134f9a9fce9d8f174abdd4": {
      "model_module": "@jupyter-widgets/base",
      "model_module_version": "1.2.0",
      "model_name": "LayoutModel",
      "state": {
       "border": "solid 4px #222",
       "margin": "4px",
       "padding": "0"
      }
     },
     "515741c02770484ab47f1b88e2f02033": {
      "model_module": "@jupyter-widgets/base",
      "model_module_version": "1.2.0",
      "model_name": "LayoutModel",
      "state": {}
     },
     "516c9a354b9a464eb46cc3fe0ee2e0ef": {
      "model_module": "@jupyter-widgets/controls",
      "model_module_version": "1.5.0",
      "model_name": "ButtonModel",
      "state": {
       "description": "Reset Saturation Controls",
       "layout": "IPY_MODEL_f1db111d67e0461cb32bf9659b987f2b",
       "style": "IPY_MODEL_23a6e5433c904652b81ae8151ccaecf8"
      }
     },
     "517d7cd5b9f44d579c67e8ff38ebb8e8": {
      "model_module": "@jupyter-widgets/base",
      "model_module_version": "1.2.0",
      "model_name": "LayoutModel",
      "state": {}
     },
     "51836282536343078e61097b580ac062": {
      "model_module": "@jupyter-widgets/controls",
      "model_module_version": "1.5.0",
      "model_name": "DescriptionStyleModel",
      "state": {
       "description_width": ""
      }
     },
     "519af333293044d6a6d56c13cc6e9654": {
      "model_module": "@jupyter-widgets/controls",
      "model_module_version": "1.5.0",
      "model_name": "DropdownModel",
      "state": {
       "_options_labels": [
        "tanh",
        "atan",
        "simple"
       ],
       "description": "Compression Function:",
       "index": 0,
       "layout": "IPY_MODEL_6db9ac1f0c7442a795b333509b8b0533",
       "style": "IPY_MODEL_8151b67a3c7b45f4b0e6cc0edad718b7"
      }
     },
     "519d3f9b901549a6aad1e5ca04df71f4": {
      "model_module": "@jupyter-widgets/controls",
      "model_module_version": "1.5.0",
      "model_name": "CheckboxModel",
      "state": {
       "description": "Show Out-of-Gamut",
       "disabled": false,
       "layout": "IPY_MODEL_1050ddaf587e40d18a4bd635020aac8a",
       "style": "IPY_MODEL_6c0420934f0546859274ccdb5dc36fcb",
       "value": true
      }
     },
     "51a4929bbc5544f4bf540fa75d9ecd39": {
      "model_module": "@jupyter-widgets/controls",
      "model_module_version": "1.5.0",
      "model_name": "FloatSliderModel",
      "state": {
       "description": "0°",
       "layout": "IPY_MODEL_2e814d22731549799d7b47d2efe663d9",
       "max": 1,
       "min": -1,
       "step": 0.01,
       "style": "IPY_MODEL_9569ada984ea4dce9587fd2f259fe610"
      }
     },
     "51acacccb56c4ec4a63a9eb1c66bcfbb": {
      "model_module": "@jupyter-widgets/base",
      "model_module_version": "1.2.0",
      "model_name": "LayoutModel",
      "state": {}
     },
     "51b4d644fd7144678e33c9bd36b0cd12": {
      "model_module": "@jupyter-widgets/base",
      "model_module_version": "1.2.0",
      "model_name": "LayoutModel",
      "state": {}
     },
     "52006f394caa41d1aca891571af76c8e": {
      "model_module": "@jupyter-widgets/base",
      "model_module_version": "1.2.0",
      "model_name": "LayoutModel",
      "state": {}
     },
     "5233246ea5264e9e989eac7d6a26158a": {
      "model_module": "@jupyter-widgets/controls",
      "model_module_version": "1.5.0",
      "model_name": "HBoxModel",
      "state": {
       "children": [
        "IPY_MODEL_6c7a4d389e0c4a64927061514f777825",
        "IPY_MODEL_00915f73d16f431bb53d3ec4121ff776",
        "IPY_MODEL_b59eed5d89a0462fbdb07b7d3b8b3120",
        "IPY_MODEL_155949cd66d34edba969c9ca6333d771"
       ],
       "layout": "IPY_MODEL_ce67fd260a914e7a9070c7f9a7583c0c"
      }
     },
     "52547a5e4d424b25a55622409e08db6e": {
      "model_module": "@jupyter-widgets/base",
      "model_module_version": "1.2.0",
      "model_name": "LayoutModel",
      "state": {}
     },
     "5262ea11520f4ed0b3c81f7814e36a7a": {
      "model_module": "@jupyter-widgets/controls",
      "model_module_version": "1.5.0",
      "model_name": "ButtonModel",
      "state": {
       "description": "Reset Exposure",
       "layout": "IPY_MODEL_0471387e2f1e4562a3b9409f7cb634a2",
       "style": "IPY_MODEL_3eeb9ead4d66434a852ee8041923356b"
      }
     },
     "528455efd4d3444799e8fa2c9755ac50": {
      "model_module": "@jupyter-widgets/controls",
      "model_module_version": "1.5.0",
      "model_name": "CheckboxModel",
      "state": {
       "description": "Disable Medicina",
       "disabled": false,
       "layout": "IPY_MODEL_97535d0faa324806b19834f492be0b5e",
       "style": "IPY_MODEL_a17378cb7c604fd19fad91a09fb51eae",
       "value": false
      }
     },
     "52ab481f262d4c619243eb508b76c4cd": {
      "model_module": "@jupyter-widgets/controls",
      "model_module_version": "1.5.0",
      "model_name": "ButtonStyleModel",
      "state": {}
     },
     "52b1e1d6ebe841019ab25b24d1910afa": {
      "model_module": "@jupyter-widgets/controls",
      "model_module_version": "1.5.0",
      "model_name": "SliderStyleModel",
      "state": {
       "description_width": ""
      }
     },
     "52b6e82f8a7a4da78e2e7bba21f4e678": {
      "model_module": "@jupyter-widgets/controls",
      "model_module_version": "1.5.0",
      "model_name": "SliderStyleModel",
      "state": {
       "description_width": ""
      }
     },
     "52f0e3256bba438996cc42141511ccb9": {
      "model_module": "@jupyter-widgets/base",
      "model_module_version": "1.2.0",
      "model_name": "LayoutModel",
      "state": {}
     },
     "52f828b35b3741b096afa2314aa58406": {
      "model_module": "@jupyter-widgets/controls",
      "model_module_version": "1.5.0",
      "model_name": "SliderStyleModel",
      "state": {
       "description_width": ""
      }
     },
     "531d830a793d490e9cac532485ce414a": {
      "model_module": "@jupyter-widgets/base",
      "model_module_version": "1.2.0",
      "model_name": "LayoutModel",
      "state": {}
     },
     "532ece3f55324e41a255e55aaeeff6d0": {
      "model_module": "@jupyter-widgets/controls",
      "model_module_version": "1.5.0",
      "model_name": "SliderStyleModel",
      "state": {
       "description_width": ""
      }
     },
     "5332ff768b0b4e82b3172d7f1415f170": {
      "model_module": "@jupyter-widgets/base",
      "model_module_version": "1.2.0",
      "model_name": "LayoutModel",
      "state": {}
     },
     "5334c3f44ff84718803d11a8e78c7304": {
      "model_module": "@jupyter-widgets/controls",
      "model_module_version": "1.5.0",
      "model_name": "CheckboxModel",
      "state": {
       "description": "Show Out-of-Gamut",
       "disabled": false,
       "layout": "IPY_MODEL_e3b87aa8a41e433f921f9142b8e50789",
       "style": "IPY_MODEL_55c243d3ba8b4107b0bf1e759b2cb469",
       "value": false
      }
     },
     "534312ea3be94407bd9b82a9c9ac71f2": {
      "model_module": "@jupyter-widgets/base",
      "model_module_version": "1.2.0",
      "model_name": "LayoutModel",
      "state": {}
     },
     "535330c9925547769e689eb1bb7de239": {
      "model_module": "@jupyter-widgets/controls",
      "model_module_version": "1.5.0",
      "model_name": "ButtonModel",
      "state": {
       "description": "Reset Compression Controls",
       "layout": "IPY_MODEL_1829078477a04438bc1ea0385641f4a1",
       "style": "IPY_MODEL_29378011874b4e14a8ee617ad789e062"
      }
     },
     "539c2d489afc493e957e2d3be5f1833a": {
      "model_module": "@jupyter-widgets/controls",
      "model_module_version": "1.5.0",
      "model_name": "ButtonStyleModel",
      "state": {}
     },
     "53a6a38d0cee4374b2e668bffdfbe2d4": {
      "model_module": "@jupyter-widgets/controls",
      "model_module_version": "1.5.0",
      "model_name": "ButtonStyleModel",
      "state": {}
     },
     "53f07643408a48c2813141e0abf46c91": {
      "model_module": "@jupyter-widgets/controls",
      "model_module_version": "1.5.0",
      "model_name": "DescriptionStyleModel",
      "state": {
       "description_width": ""
      }
     },
     "540c3e1f4e924ba89e92608903ef7236": {
      "model_module": "@jupyter-widgets/base",
      "model_module_version": "1.2.0",
      "model_name": "LayoutModel",
      "state": {}
     },
     "5410f2cf10534190851d0e90e93e6690": {
      "model_module": "@jupyter-widgets/base",
      "model_module_version": "1.2.0",
      "model_name": "LayoutModel",
      "state": {}
     },
     "5431e2501609404c8a3226293fc9d3e1": {
      "model_module": "@jupyter-widgets/controls",
      "model_module_version": "1.5.0",
      "model_name": "FloatSliderModel",
      "state": {
       "description": "Protected Area Threshold",
       "layout": "IPY_MODEL_2e7d93d62f3a4f1bbd52bdcd46ee485f",
       "max": 1,
       "step": 0.01,
       "style": "IPY_MODEL_5d77f4d601e045b8bc69571898bd3657",
       "value": 0.7
      }
     },
     "5436fcedd64946b492cc02f3a60f72e9": {
      "model_module": "@jupyter-widgets/base",
      "model_module_version": "1.2.0",
      "model_name": "LayoutModel",
      "state": {
       "border": "solid 4px #222",
       "margin": "4px",
       "padding": "0"
      }
     },
     "543a7cb910dd49259a25599f6ef9f383": {
      "model_module": "@jupyter-widgets/base",
      "model_module_version": "1.2.0",
      "model_name": "LayoutModel",
      "state": {}
     },
     "5448dfff25a0464c867ff115b1d2eb66": {
      "model_module": "@jupyter-widgets/controls",
      "model_module_version": "1.5.0",
      "model_name": "ButtonModel",
      "state": {
       "description": "Reset Exposure",
       "layout": "IPY_MODEL_12df5c65a52e4b53945add70e633dcac",
       "style": "IPY_MODEL_41d506495aba422f995fb5781dd182c6"
      }
     },
     "544922cbcd1f469ab6524946997a4c54": {
      "model_module": "@jupyter-widgets/base",
      "model_module_version": "1.2.0",
      "model_name": "LayoutModel",
      "state": {}
     },
     "5454d1b67c814489ac34c9772d1aa22c": {
      "model_module": "@jupyter-widgets/controls",
      "model_module_version": "1.5.0",
      "model_name": "SliderStyleModel",
      "state": {
       "description_width": ""
      }
     },
     "5460237e5f9346f7bf1badb401495bdd": {
      "model_module": "@jupyter-widgets/controls",
      "model_module_version": "1.5.0",
      "model_name": "DescriptionStyleModel",
      "state": {
       "description_width": ""
      }
     },
     "54949d9b0ec3490592641c72fd3d4e31": {
      "model_module": "@jupyter-widgets/base",
      "model_module_version": "1.2.0",
      "model_name": "LayoutModel",
      "state": {}
     },
     "54a3f32e71f541d1b5a65badc16afe01": {
      "model_module": "@jupyter-widgets/base",
      "model_module_version": "1.2.0",
      "model_name": "LayoutModel",
      "state": {}
     },
     "54b7af18867e4a9286228d6774e167da": {
      "model_module": "@jupyter-widgets/controls",
      "model_module_version": "1.5.0",
      "model_name": "TabModel",
      "state": {
       "_titles": {
        "0": "Global Controls",
        "1": "Viewer Controls",
        "2": "Compression Controls"
       },
       "children": [
        "IPY_MODEL_842ab474b7ea476ab3388f398d1891e2",
        "IPY_MODEL_98687d3eb4714a71852c9e1c74549c69",
        "IPY_MODEL_c156d77a12074aa680b891c155abc3da"
       ],
       "layout": "IPY_MODEL_6df9fbabccca49a495fee11a00212c3a"
      }
     },
     "54e48d8b62a8460191b34145c67c5801": {
      "model_module": "@jupyter-widgets/controls",
      "model_module_version": "1.5.0",
      "model_name": "FloatSliderModel",
      "state": {
       "description": "225°",
       "layout": "IPY_MODEL_abef49cc61004cd0a3c1d249c92e4ab6",
       "max": 1,
       "min": -1,
       "step": 0.01,
       "style": "IPY_MODEL_9a578091b1804494a4ffa95ff1c4a02f"
      }
     },
     "54fbf0f779124638ba2f15f1928c68a4": {
      "model_module": "@jupyter-widgets/base",
      "model_module_version": "1.2.0",
      "model_name": "LayoutModel",
      "state": {}
     },
     "55052736891a4bd3b853dfc0b9119c1b": {
      "model_module": "@jupyter-widgets/controls",
      "model_module_version": "1.5.0",
      "model_name": "CheckboxModel",
      "state": {
       "description": "Show Out-of-Gamut",
       "disabled": false,
       "layout": "IPY_MODEL_ef73706307824bbb9c1e938ce5d95968",
       "style": "IPY_MODEL_f29a65503322427e8914070c3c810f45",
       "value": false
      }
     },
     "550761bdcf834a9fbdc5850d80bfc881": {
      "model_module": "@jupyter-widgets/controls",
      "model_module_version": "1.5.0",
      "model_name": "CheckboxModel",
      "state": {
       "description": "Show Out-of-Gamut",
       "disabled": false,
       "layout": "IPY_MODEL_3d2cc6061b824987b80b9a6318f75476",
       "style": "IPY_MODEL_bccdc9e2bbaa4e2ca6c588c4f8b92c01",
       "value": false
      }
     },
     "55101fee43414706a282c356cb84a815": {
      "model_module": "@jupyter-widgets/base",
      "model_module_version": "1.2.0",
      "model_name": "LayoutModel",
      "state": {}
     },
     "55397698b91a471596180e01206eb826": {
      "model_module": "@jupyter-widgets/base",
      "model_module_version": "1.2.0",
      "model_name": "LayoutModel",
      "state": {}
     },
     "5542e1afb1e54231a301bd84bfcd23d3": {
      "model_module": "@jupyter-widgets/controls",
      "model_module_version": "1.5.0",
      "model_name": "FloatSliderModel",
      "state": {
       "description": "90°",
       "layout": "IPY_MODEL_8d55d229cce3484e93c310eb6e67ae16",
       "max": 1,
       "min": -1,
       "step": 0.01,
       "style": "IPY_MODEL_7befc525c399415f8d9a396632a6d75a"
      }
     },
     "5543803fa0114793a5dcf1c74e5190c7": {
      "model_module": "@jupyter-widgets/base",
      "model_module_version": "1.2.0",
      "model_name": "LayoutModel",
      "state": {}
     },
     "559d7e169f564f5cb5346bf522738708": {
      "model_module": "@jupyter-widgets/base",
      "model_module_version": "1.2.0",
      "model_name": "LayoutModel",
      "state": {
       "border": "solid 4px #222",
       "margin": "4px",
       "padding": "0"
      }
     },
     "55aeddb9332e4134b9468cb150b45277": {
      "model_module": "@jupyter-widgets/controls",
      "model_module_version": "1.5.0",
      "model_name": "BoxModel",
      "state": {
       "children": [
        "IPY_MODEL_8109d474a183408b941200722ba211f5",
        "IPY_MODEL_770d7be744fe44fa99286307a56810fb"
       ],
       "layout": "IPY_MODEL_b97ce9988e23457bb249b5a32b334e08"
      }
     },
     "55b353eae4e34aa48a26d26ad090e2d2": {
      "model_module": "@jupyter-widgets/controls",
      "model_module_version": "1.5.0",
      "model_name": "ButtonModel",
      "state": {
       "description": "Export Image",
       "layout": "IPY_MODEL_8744621f6acd4b0cb969e87d2399e9fa",
       "style": "IPY_MODEL_6bfd9bd889fa40b3aed2e5e3ea8f6598"
      }
     },
     "55bac4999c9c47659a2e1a032463d96c": {
      "model_module": "@jupyter-widgets/base",
      "model_module_version": "1.2.0",
      "model_name": "LayoutModel",
      "state": {}
     },
     "55c243d3ba8b4107b0bf1e759b2cb469": {
      "model_module": "@jupyter-widgets/controls",
      "model_module_version": "1.5.0",
      "model_name": "DescriptionStyleModel",
      "state": {
       "description_width": ""
      }
     },
     "55c49d33541645c9b60e28f5db6d06dd": {
      "model_module": "@jupyter-widgets/base",
      "model_module_version": "1.2.0",
      "model_name": "LayoutModel",
      "state": {}
     },
     "55faf37923e64d91a1a68f27ad8cfa56": {
      "model_module": "@jupyter-widgets/controls",
      "model_module_version": "1.5.0",
      "model_name": "HBoxModel",
      "state": {
       "children": [
        "IPY_MODEL_9954571a525242f48745c96e1744e895",
        "IPY_MODEL_e58f681dc7674e538cc4ec96d744881e",
        "IPY_MODEL_08c935cb32c34402967aecafee3df8e5"
       ],
       "layout": "IPY_MODEL_ab87c05d339042f5856d28e7595055d0"
      }
     },
     "560caeb1e4d645c3a296a5d2dda5f850": {
      "model_module": "@jupyter-widgets/controls",
      "model_module_version": "1.5.0",
      "model_name": "TabModel",
      "state": {
       "_titles": {
        "0": "Global Controls",
        "1": "Viewer Controls",
        "2": "Compression Controls"
       },
       "children": [
        "IPY_MODEL_91af49f609b9418e82e860e78dcd4a9c",
        "IPY_MODEL_7fad4681be334d6db0863266ff06110e",
        "IPY_MODEL_9f8c7a61fca84e188a0315e4f31e6ed6"
       ],
       "layout": "IPY_MODEL_ba0724b0c22340e5b938ed36ba4f8297"
      }
     },
     "562f89933b3f4af5a1c5508773cf5c12": {
      "model_module": "@jupyter-widgets/base",
      "model_module_version": "1.2.0",
      "model_name": "LayoutModel",
      "state": {}
     },
     "563bb88d7cb4492cb460341ba262ddaa": {
      "model_module": "@jupyter-widgets/base",
      "model_module_version": "1.2.0",
      "model_name": "LayoutModel",
      "state": {}
     },
     "567a0c327c9a4c9197a2c6a39ad15224": {
      "model_module": "jupyter-matplotlib",
      "model_module_version": "^0.7.2",
      "model_name": "ToolbarModel",
      "state": {
       "layout": "IPY_MODEL_448c1d8264704c9ca658e3435c934201",
       "toolitems": [
        [
         "Home",
         "Reset original view",
         "home",
         "home"
        ],
        [
         "Back",
         "Back to previous view",
         "arrow-left",
         "back"
        ],
        [
         "Forward",
         "Forward to next view",
         "arrow-right",
         "forward"
        ],
        [
         "Pan",
         "Pan axes with left mouse, zoom with right",
         "arrows",
         "pan"
        ],
        [
         "Zoom",
         "Zoom to rectangle",
         "square-o",
         "zoom"
        ],
        [
         "Download",
         "Download plot",
         "floppy-o",
         "save_figure"
        ]
       ]
      }
     },
     "569da18d885a45a391b0cf5c29e652a1": {
      "model_module": "@jupyter-widgets/base",
      "model_module_version": "1.2.0",
      "model_name": "LayoutModel",
      "state": {}
     },
     "56a67823a55d4ea0b172bd97ff75b058": {
      "model_module": "@jupyter-widgets/base",
      "model_module_version": "1.2.0",
      "model_name": "LayoutModel",
      "state": {}
     },
     "56b65850107a4818b1acd070b4fdcbd3": {
      "model_module": "@jupyter-widgets/controls",
      "model_module_version": "1.5.0",
      "model_name": "HBoxModel",
      "state": {
       "children": [
        "IPY_MODEL_bc7e48be52694ebca0158841b4268c53",
        "IPY_MODEL_964e49229b2e462d830e316b03c2d623",
        "IPY_MODEL_47c291ac1fb14e5e94e80e5fe08d347e",
        "IPY_MODEL_5334c3f44ff84718803d11a8e78c7304"
       ],
       "layout": "IPY_MODEL_60843211efd2402e896b8051c1fe3b59"
      }
     },
     "56cc4b433b0c4231a50120757b016d36": {
      "model_module": "@jupyter-widgets/base",
      "model_module_version": "1.2.0",
      "model_name": "LayoutModel",
      "state": {}
     },
     "56e0d8d7bf09453589fd626a90b1dbf5": {
      "model_module": "@jupyter-widgets/base",
      "model_module_version": "1.2.0",
      "model_name": "LayoutModel",
      "state": {}
     },
     "570b593efad1458681b7b671d1205887": {
      "model_module": "@jupyter-widgets/controls",
      "model_module_version": "1.5.0",
      "model_name": "CheckboxModel",
      "state": {
       "description": "Show Out-of-Gamut",
       "disabled": false,
       "layout": "IPY_MODEL_0d5ce310ae194803a30751b295390701",
       "style": "IPY_MODEL_16913e6acf9e43ab998d9f187e3d487f",
       "value": false
      }
     },
     "570c6157712741d8a4ad09a5f291d8e6": {
      "model_module": "@jupyter-widgets/base",
      "model_module_version": "1.2.0",
      "model_name": "LayoutModel",
      "state": {}
     },
     "571fac923dc74636b998b2f5bdfec551": {
      "model_module": "@jupyter-widgets/base",
      "model_module_version": "1.2.0",
      "model_name": "LayoutModel",
      "state": {}
     },
     "57296f6f2d024529a517c5a855469c69": {
      "model_module": "@jupyter-widgets/controls",
      "model_module_version": "1.5.0",
      "model_name": "SliderStyleModel",
      "state": {
       "description_width": ""
      }
     },
     "5756d120d27e48ac96105f6f6eea0c40": {
      "model_module": "@jupyter-widgets/controls",
      "model_module_version": "1.5.0",
      "model_name": "FloatSliderModel",
      "state": {
       "description": "270°",
       "layout": "IPY_MODEL_95a9fab350b14a8ca87f59ef37bc36ab",
       "max": 1,
       "min": -1,
       "step": 0.01,
       "style": "IPY_MODEL_a63dea083a65428b99ed8434f2f294f7"
      }
     },
     "57631dc761354a179dd374592e842be6": {
      "model_module": "@jupyter-widgets/controls",
      "model_module_version": "1.5.0",
      "model_name": "ButtonModel",
      "state": {
       "description": "Reset Saturation Controls",
       "layout": "IPY_MODEL_1c641065f9d548cb8cdb5c420afc2391",
       "style": "IPY_MODEL_ecbd5ce3f6aa4abc9799064b2b180d27"
      }
     },
     "577d0647415d45ddaa2966b3c7be5ba8": {
      "model_module": "@jupyter-widgets/controls",
      "model_module_version": "1.5.0",
      "model_name": "DescriptionStyleModel",
      "state": {
       "description_width": ""
      }
     },
     "577e5239f5524f30b6dcdd2902752308": {
      "model_module": "@jupyter-widgets/controls",
      "model_module_version": "1.5.0",
      "model_name": "ButtonModel",
      "state": {
       "description": "Reset Exposure",
       "layout": "IPY_MODEL_df3cd6fd3cf94bd3a034455ae2909da4",
       "style": "IPY_MODEL_34030490620843b78cd20f3cf3379f47"
      }
     },
     "57c5a0e2e8134d179cf2bb83fd84ed0e": {
      "model_module": "@jupyter-widgets/controls",
      "model_module_version": "1.5.0",
      "model_name": "ButtonStyleModel",
      "state": {}
     },
     "57cc6c31a3054df6b9ca121470f8b8db": {
      "model_module": "@jupyter-widgets/base",
      "model_module_version": "1.2.0",
      "model_name": "LayoutModel",
      "state": {
       "align_items": "stretch",
       "display": "flex",
       "flex_flow": "column",
       "width": "1128px"
      }
     },
     "57deda02d4dd417e908aade9906de45e": {
      "model_module": "@jupyter-widgets/base",
      "model_module_version": "1.2.0",
      "model_name": "LayoutModel",
      "state": {}
     },
     "585284cf0a614b9f94d41c250a354c57": {
      "model_module": "@jupyter-widgets/base",
      "model_module_version": "1.2.0",
      "model_name": "LayoutModel",
      "state": {}
     },
     "59425232a9c04c47872c8c16088b8bfb": {
      "model_module": "jupyter-matplotlib",
      "model_module_version": "^0.7.2",
      "model_name": "ToolbarModel",
      "state": {
       "layout": "IPY_MODEL_73b3846ebd344c4ab194128bcce00a87",
       "toolitems": [
        [
         "Home",
         "Reset original view",
         "home",
         "home"
        ],
        [
         "Back",
         "Back to previous view",
         "arrow-left",
         "back"
        ],
        [
         "Forward",
         "Forward to next view",
         "arrow-right",
         "forward"
        ],
        [
         "Pan",
         "Pan axes with left mouse, zoom with right",
         "arrows",
         "pan"
        ],
        [
         "Zoom",
         "Zoom to rectangle",
         "square-o",
         "zoom"
        ],
        [
         "Download",
         "Download plot",
         "floppy-o",
         "save_figure"
        ]
       ]
      }
     },
     "59490df3d78c44d8b7cce9f978fe774d": {
      "model_module": "@jupyter-widgets/controls",
      "model_module_version": "1.5.0",
      "model_name": "DescriptionStyleModel",
      "state": {
       "description_width": ""
      }
     },
     "5951f1900082482bb52fa8be7e54cbfe": {
      "model_module": "@jupyter-widgets/controls",
      "model_module_version": "1.5.0",
      "model_name": "ButtonStyleModel",
      "state": {}
     },
     "5966d830757a4296be1a334df40e6fa7": {
      "model_module": "@jupyter-widgets/base",
      "model_module_version": "1.2.0",
      "model_name": "LayoutModel",
      "state": {}
     },
     "597ce20a4a0f4e53b10335b69acbe61d": {
      "model_module": "@jupyter-widgets/controls",
      "model_module_version": "1.5.0",
      "model_name": "SliderStyleModel",
      "state": {
       "description_width": ""
      }
     },
     "59baa1df90634b5eb62ec5e552bb8cd1": {
      "model_module": "@jupyter-widgets/base",
      "model_module_version": "1.2.0",
      "model_name": "LayoutModel",
      "state": {}
     },
     "59bde95987be47259e56607fcf4e24a0": {
      "model_module": "@jupyter-widgets/controls",
      "model_module_version": "1.5.0",
      "model_name": "DropdownModel",
      "state": {
       "_options_labels": [
        "sRGB",
        "sRGB (ACES)",
        "Display P3",
        "Display P3 (ACES)"
       ],
       "description": "View Transform:",
       "index": 0,
       "layout": "IPY_MODEL_d1e0629ba569469ab9f211558e2a9331",
       "style": "IPY_MODEL_f94ef228f3dc43108c0043b9928fcf42"
      }
     },
     "59d69ffed14146ddb0d829a13287147e": {
      "model_module": "@jupyter-widgets/controls",
      "model_module_version": "1.5.0",
      "model_name": "TabModel",
      "state": {
       "_titles": {
        "0": "Global Controls",
        "1": "Viewer Controls",
        "2": "Protected Area Controls",
        "3": "Saturation Controls",
        "4": "Hue Controls"
       },
       "children": [
        "IPY_MODEL_939343167c724bde9d79a9f3ac278004",
        "IPY_MODEL_dbe9f5fc9b9d4c2888fdd3945c337a63",
        "IPY_MODEL_7f9bf864607b40368cb98582445c7e6b",
        "IPY_MODEL_45d9ee3470e24438aed1a33cec242bb8",
        "IPY_MODEL_926b17b3e81a4381bae6abe88a67184c"
       ],
       "layout": "IPY_MODEL_b664851cc66e4305a9836bf70e8222db"
      }
     },
     "59dee1cd828a43e9a243c5a9b0cf2ad7": {
      "model_module": "@jupyter-widgets/base",
      "model_module_version": "1.2.0",
      "model_name": "LayoutModel",
      "state": {}
     },
     "5a1025a888fd41769a6c1c6ef3f80a6b": {
      "model_module": "@jupyter-widgets/controls",
      "model_module_version": "1.5.0",
      "model_name": "HBoxModel",
      "state": {
       "children": [
        "IPY_MODEL_d17fe0777bc34eb9ad894553d2eb76c2",
        "IPY_MODEL_c0905b67017d4829a66b1acf85bd3517",
        "IPY_MODEL_be9a641e3b8142b9a1f9f0b4fa59a281",
        "IPY_MODEL_55052736891a4bd3b853dfc0b9119c1b"
       ],
       "layout": "IPY_MODEL_a91391057b3b40b398d0470a59cb9915"
      }
     },
     "5a32a29a1c274931bab82bbc7df69350": {
      "model_module": "@jupyter-widgets/controls",
      "model_module_version": "1.5.0",
      "model_name": "ButtonStyleModel",
      "state": {}
     },
     "5a4969d6888f43f48f8d52acd0b1df1e": {
      "model_module": "@jupyter-widgets/controls",
      "model_module_version": "1.5.0",
      "model_name": "SliderStyleModel",
      "state": {
       "description_width": ""
      }
     },
     "5a5bd0aec6164e31b259d90660619db5": {
      "model_module": "@jupyter-widgets/controls",
      "model_module_version": "1.5.0",
      "model_name": "HBoxModel",
      "state": {
       "children": [
        "IPY_MODEL_00900d6974354041ac168552ac8dc07c",
        "IPY_MODEL_41bfcc4cab4b4e24924c1fb397008c41",
        "IPY_MODEL_08293ec9c2f04d2fbd55b02decce70a3"
       ],
       "layout": "IPY_MODEL_d5061ae945e54400b2ad2e1f817b1ec1"
      }
     },
     "5a98b027346d4c2fa87db88264af180d": {
      "model_module": "@jupyter-widgets/controls",
      "model_module_version": "1.5.0",
      "model_name": "HBoxModel",
      "state": {
       "children": [
        "IPY_MODEL_0a969ed1a3484e62aeef8316a1ca1118",
        "IPY_MODEL_5262ea11520f4ed0b3c81f7814e36a7a",
        "IPY_MODEL_f977f78941a24382aa36a668cb718589",
        "IPY_MODEL_519d3f9b901549a6aad1e5ca04df71f4"
       ],
       "layout": "IPY_MODEL_1eec303c213f4e1ca613ea83535c53e0"
      }
     },
     "5ab8dd51e9e044aeb5500f89101a2143": {
      "model_module": "@jupyter-widgets/controls",
      "model_module_version": "1.5.0",
      "model_name": "SliderStyleModel",
      "state": {
       "description_width": ""
      }
     },
     "5ad4a23be7dd4bf3ae7f4533931d65c0": {
      "model_module": "@jupyter-widgets/controls",
      "model_module_version": "1.5.0",
      "model_name": "DescriptionStyleModel",
      "state": {
       "description_width": ""
      }
     },
     "5ae7f8027cee4042bd3973f22546b967": {
      "model_module": "@jupyter-widgets/base",
      "model_module_version": "1.2.0",
      "model_name": "LayoutModel",
      "state": {
       "border": "solid 4px #222",
       "margin": "4px",
       "padding": "0"
      }
     },
     "5b037eebc95a4dd8af0703f409e4eb24": {
      "model_module": "@jupyter-widgets/controls",
      "model_module_version": "1.5.0",
      "model_name": "DropdownModel",
      "state": {
       "_options_labels": [
        "tanh",
        "atan",
        "simple"
       ],
       "description": "Compression Function:",
       "index": 0,
       "layout": "IPY_MODEL_3098ee3cd4f1469c946293e29da10de4",
       "style": "IPY_MODEL_61d74d10c527430384aef47cdb363ea4"
      }
     },
     "5b115f6c664a4ac59b9cae0cf07da42d": {
      "model_module": "@jupyter-widgets/base",
      "model_module_version": "1.2.0",
      "model_name": "LayoutModel",
      "state": {}
     },
     "5b20d21dea8141989c20705daabb0e5f": {
      "model_module": "@jupyter-widgets/controls",
      "model_module_version": "1.5.0",
      "model_name": "DropdownModel",
      "state": {
       "_options_labels": [
        "tanh",
        "atan",
        "simple"
       ],
       "description": "Compression Function:",
       "index": 0,
       "layout": "IPY_MODEL_d98d6e14d41f4bbf961a83ae0e59ef8b",
       "style": "IPY_MODEL_44f5e9b74c84453fb229ecb4811fcc35"
      }
     },
     "5b7a6e5cca4e4a16aede61a7e8b42032": {
      "model_module": "@jupyter-widgets/controls",
      "model_module_version": "1.5.0",
      "model_name": "ButtonStyleModel",
      "state": {}
     },
     "5b864997410146c6b239839204c61932": {
      "model_module": "@jupyter-widgets/base",
      "model_module_version": "1.2.0",
      "model_name": "LayoutModel",
      "state": {}
     },
     "5bbba56c7d4144889a207667a7a16f89": {
      "model_module": "@jupyter-widgets/controls",
      "model_module_version": "1.5.0",
      "model_name": "DescriptionStyleModel",
      "state": {
       "description_width": ""
      }
     },
     "5bc1aa08e4fa41f58007d00c959fb47e": {
      "model_module": "@jupyter-widgets/base",
      "model_module_version": "1.2.0",
      "model_name": "LayoutModel",
      "state": {}
     },
     "5bc7ade449d24818a3624d4efe8848b0": {
      "model_module": "@jupyter-widgets/controls",
      "model_module_version": "1.5.0",
      "model_name": "FloatSliderModel",
      "state": {
       "description": "0°",
       "layout": "IPY_MODEL_50d2062f06264ae1b86dd4e34b613335",
       "max": 1,
       "min": -1,
       "step": 0.01,
       "style": "IPY_MODEL_e9a5ca73b0b14911870a301e346c1d97"
      }
     },
     "5be64268a9c14a419b5b39ed53f79435": {
      "model_module": "@jupyter-widgets/base",
      "model_module_version": "1.2.0",
      "model_name": "LayoutModel",
      "state": {
       "align_items": "stretch",
       "display": "flex",
       "flex_flow": "column",
       "width": "1128px"
      }
     },
     "5c61ab020c774d23b5c727015097a6e8": {
      "model_module": "@jupyter-widgets/controls",
      "model_module_version": "1.5.0",
      "model_name": "SliderStyleModel",
      "state": {
       "description_width": ""
      }
     },
     "5c730e6b6b2442a29f9d744c388aad3a": {
      "model_module": "@jupyter-widgets/controls",
      "model_module_version": "1.5.0",
      "model_name": "SliderStyleModel",
      "state": {
       "description_width": ""
      }
     },
     "5c7f713e82584281aea1288b2508c8cc": {
      "model_module": "@jupyter-widgets/controls",
      "model_module_version": "1.5.0",
      "model_name": "DropdownModel",
      "state": {
       "_options_labels": [
        "sRGB",
        "sRGB (ACES)",
        "Display P3",
        "Display P3 (ACES)"
       ],
       "description": "View Transform:",
       "index": 0,
       "layout": "IPY_MODEL_fcb9b29b30be48f3b91d1a88330820e1",
       "style": "IPY_MODEL_de57e23b5e5441c899a81472b8a667bb"
      }
     },
     "5ce06fa7b3614126a0dc6dfcf081437b": {
      "model_module": "@jupyter-widgets/base",
      "model_module_version": "1.2.0",
      "model_name": "LayoutModel",
      "state": {
       "border": "solid 4px #222",
       "margin": "4px",
       "padding": "0"
      }
     },
     "5cf87da901af4d1ca12d9067ab7b5bce": {
      "model_module": "@jupyter-widgets/base",
      "model_module_version": "1.2.0",
      "model_name": "LayoutModel",
      "state": {
       "border": "solid 4px #222",
       "margin": "4px",
       "padding": "0"
      }
     },
     "5d1899bb98de4e729353af53844ce6a9": {
      "model_module": "jupyter-matplotlib",
      "model_module_version": "^0.7.2",
      "model_name": "ToolbarModel",
      "state": {
       "layout": "IPY_MODEL_34cfa9ccc2bd4bcf89ef1dc03c8ede1a",
       "toolitems": [
        [
         "Home",
         "Reset original view",
         "home",
         "home"
        ],
        [
         "Back",
         "Back to previous view",
         "arrow-left",
         "back"
        ],
        [
         "Forward",
         "Forward to next view",
         "arrow-right",
         "forward"
        ],
        [
         "Pan",
         "Pan axes with left mouse, zoom with right",
         "arrows",
         "pan"
        ],
        [
         "Zoom",
         "Zoom to rectangle",
         "square-o",
         "zoom"
        ],
        [
         "Download",
         "Download plot",
         "floppy-o",
         "save_figure"
        ]
       ]
      }
     },
     "5d46296e4d1545768b55bc3f34ffa383": {
      "model_module": "@jupyter-widgets/base",
      "model_module_version": "1.2.0",
      "model_name": "LayoutModel",
      "state": {}
     },
     "5d77f4d601e045b8bc69571898bd3657": {
      "model_module": "@jupyter-widgets/controls",
      "model_module_version": "1.5.0",
      "model_name": "SliderStyleModel",
      "state": {
       "description_width": ""
      }
     },
     "5dd2fe48c8d74a49b38028d2306ef2a4": {
      "model_module": "@jupyter-widgets/controls",
      "model_module_version": "1.5.0",
      "model_name": "ButtonModel",
      "state": {
       "description": "Reset Exposure",
       "layout": "IPY_MODEL_504a8b2b676e4cac8763de942e02f256",
       "style": "IPY_MODEL_948d8ca24a6f4dbe9943943de396a02d"
      }
     },
     "5ddaefd03dc94c95adfdd415fb14260a": {
      "model_module": "@jupyter-widgets/controls",
      "model_module_version": "1.5.0",
      "model_name": "FloatSliderModel",
      "state": {
       "description": "Compression Threshold",
       "layout": "IPY_MODEL_a98321863ac140bf94444ce9a391cd44",
       "max": 1,
       "step": 0.01,
       "style": "IPY_MODEL_e65760cac9154a5abb3ff9b1bd134596",
       "value": 0.8
      }
     },
     "5dff7168b4af4b46a5b088b65a9b62a0": {
      "model_module": "@jupyter-widgets/base",
      "model_module_version": "1.2.0",
      "model_name": "LayoutModel",
      "state": {}
     },
     "5e09588991a246e0943160fc91bb33d3": {
      "model_module": "@jupyter-widgets/controls",
      "model_module_version": "1.5.0",
      "model_name": "VBoxModel",
      "state": {
       "children": [
        "IPY_MODEL_76231fe3ee6e4c1ba21adb88e75d231b",
        "IPY_MODEL_d91591d6e0d44a1db5466b36c555882d",
        "IPY_MODEL_a19ee35b86e84a6a97a5be06c51db430"
       ],
       "layout": "IPY_MODEL_924f606153ed4adf97f697ea48b7ac8b"
      }
     },
     "5e12d5c2a2f948d782bfdd7814f2595b": {
      "model_module": "@jupyter-widgets/controls",
      "model_module_version": "1.5.0",
      "model_name": "SliderStyleModel",
      "state": {
       "description_width": ""
      }
     },
     "5e221ea30ba34907b8863f85dac4a4a1": {
      "model_module": "@jupyter-widgets/controls",
      "model_module_version": "1.5.0",
      "model_name": "DescriptionStyleModel",
      "state": {
       "description_width": ""
      }
     },
     "5e3967011c3f4adb9b9cf0dda7030372": {
      "model_module": "@jupyter-widgets/controls",
      "model_module_version": "1.5.0",
      "model_name": "FloatSliderModel",
      "state": {
       "description": "135°",
       "layout": "IPY_MODEL_00572cfcb15e4e6588db02388895a0c4",
       "max": 1,
       "min": -1,
       "step": 0.01,
       "style": "IPY_MODEL_6f3b499cd37a412792138dcf18bc89db"
      }
     },
     "5e4f40a23827405586fb5f56ea7519c3": {
      "model_module": "@jupyter-widgets/controls",
      "model_module_version": "1.5.0",
      "model_name": "VBoxModel",
      "state": {
       "children": [
        "IPY_MODEL_7b325c229d51485d9cab87b6d8e2a940"
       ],
       "layout": "IPY_MODEL_1513319127ac4076a7d8c571bcd1d0ae"
      }
     },
     "5e6847ad57994006b48f92b0f9bb4d07": {
      "model_module": "@jupyter-widgets/controls",
      "model_module_version": "1.5.0",
      "model_name": "ButtonModel",
      "state": {
       "description": "Reset Protected Area",
       "layout": "IPY_MODEL_8df91f600cc943c595732b78675a8812",
       "style": "IPY_MODEL_fe178ea448d746c9b4cd52f8e3431ae4"
      }
     },
     "5efa19eadccf4944ab2d92104c1d56b8": {
      "model_module": "@jupyter-widgets/base",
      "model_module_version": "1.2.0",
      "model_name": "LayoutModel",
      "state": {}
     },
     "5f4c242914e340ad93a597ceae9916ec": {
      "model_module": "@jupyter-widgets/base",
      "model_module_version": "1.2.0",
      "model_name": "LayoutModel",
      "state": {}
     },
     "5f6e26af00774224a2e0cde0879c7b58": {
      "model_module": "jupyter-matplotlib",
      "model_module_version": "^0.7.2",
      "model_name": "ToolbarModel",
      "state": {
       "layout": "IPY_MODEL_d6fc67bbf187466488c261a60dd011f5",
       "toolitems": [
        [
         "Home",
         "Reset original view",
         "home",
         "home"
        ],
        [
         "Back",
         "Back to previous view",
         "arrow-left",
         "back"
        ],
        [
         "Forward",
         "Forward to next view",
         "arrow-right",
         "forward"
        ],
        [
         "Pan",
         "Pan axes with left mouse, zoom with right",
         "arrows",
         "pan"
        ],
        [
         "Zoom",
         "Zoom to rectangle",
         "square-o",
         "zoom"
        ],
        [
         "Download",
         "Download plot",
         "floppy-o",
         "save_figure"
        ]
       ]
      }
     },
     "5f7d88c767a44ff58e5337b9aec73740": {
      "model_module": "@jupyter-widgets/controls",
      "model_module_version": "1.5.0",
      "model_name": "FloatSliderModel",
      "state": {
       "description": "45°",
       "layout": "IPY_MODEL_072d92e999ea4cffa8d39ee9d4a957d9",
       "max": 1,
       "min": -1,
       "step": 0.01,
       "style": "IPY_MODEL_f66a3ff3b08d438ca9e9c442f611e771"
      }
     },
     "5fd9ed6fb09848dc812a1bbe056f4967": {
      "model_module": "@jupyter-widgets/controls",
      "model_module_version": "1.5.0",
      "model_name": "SliderStyleModel",
      "state": {
       "description_width": ""
      }
     },
     "5fe761ed17ed42b8a61d8414fed74740": {
      "model_module": "@jupyter-widgets/controls",
      "model_module_version": "1.5.0",
      "model_name": "ButtonStyleModel",
      "state": {}
     },
     "5fed9fc885dc449da872d1b1f9d57ca0": {
      "model_module": "@jupyter-widgets/controls",
      "model_module_version": "1.5.0",
      "model_name": "ButtonStyleModel",
      "state": {}
     },
     "60195a71dd51489d90a67e753276a0b3": {
      "model_module": "@jupyter-widgets/controls",
      "model_module_version": "1.5.0",
      "model_name": "ButtonModel",
      "state": {
       "description": "Reset Hue Controls",
       "layout": "IPY_MODEL_27bf28ef24654c75b5e5fc37f3db175a",
       "style": "IPY_MODEL_6097f38238df4dc2bd58894318fc7cec"
      }
     },
     "603ee8628cc24f479850844737579649": {
      "model_module": "@jupyter-widgets/base",
      "model_module_version": "1.2.0",
      "model_name": "LayoutModel",
      "state": {}
     },
     "60668dad985145f4ac7a45c589c0733d": {
      "model_module": "@jupyter-widgets/controls",
      "model_module_version": "1.5.0",
      "model_name": "HBoxModel",
      "state": {
       "children": [
        "IPY_MODEL_3ee1c2cf1a24477880504dcb97a4c870",
        "IPY_MODEL_6c2378a588264d99b371d527373fb5f2",
        "IPY_MODEL_ec43916991d44e6da6f183a30532bce0"
       ],
       "layout": "IPY_MODEL_55bac4999c9c47659a2e1a032463d96c"
      }
     },
     "60843211efd2402e896b8051c1fe3b59": {
      "model_module": "@jupyter-widgets/base",
      "model_module_version": "1.2.0",
      "model_name": "LayoutModel",
      "state": {}
     },
     "6097f38238df4dc2bd58894318fc7cec": {
      "model_module": "@jupyter-widgets/controls",
      "model_module_version": "1.5.0",
      "model_name": "ButtonStyleModel",
      "state": {}
     },
     "60d9e22cc22741278fc62b44a85c8cf7": {
      "model_module": "@jupyter-widgets/base",
      "model_module_version": "1.2.0",
      "model_name": "LayoutModel",
      "state": {}
     },
     "60e9efd1daa44a46997bea61de1ae371": {
      "model_module": "@jupyter-widgets/controls",
      "model_module_version": "1.5.0",
      "model_name": "ButtonModel",
      "state": {
       "description": "Export Image",
       "layout": "IPY_MODEL_3111a08a41ed4d0b94243c7f5163df83",
       "style": "IPY_MODEL_845dad9785a34973af6366930513c718"
      }
     },
     "6109b3d808e2452ea14e4edf67fadcd6": {
      "model_module": "@jupyter-widgets/controls",
      "model_module_version": "1.5.0",
      "model_name": "DescriptionStyleModel",
      "state": {
       "description_width": ""
      }
     },
     "611227689bc84f78a65f7fe9bf749b9b": {
      "model_module": "@jupyter-widgets/controls",
      "model_module_version": "1.5.0",
      "model_name": "ButtonModel",
      "state": {
       "description": "Save Figure",
       "layout": "IPY_MODEL_6194441e3bfd48ba9aa217b32db35ec8",
       "style": "IPY_MODEL_dfeff835365e4cc49dbbdf26d10bc9c6"
      }
     },
     "61202645b20f4024b6026075358b05f7": {
      "model_module": "@jupyter-widgets/base",
      "model_module_version": "1.2.0",
      "model_name": "LayoutModel",
      "state": {}
     },
     "6125783d3bee4d1f92bd6eba66b4ff78": {
      "model_module": "@jupyter-widgets/controls",
      "model_module_version": "1.5.0",
      "model_name": "DescriptionStyleModel",
      "state": {
       "description_width": ""
      }
     },
     "612e8510d8414fe996b586d8b98feb47": {
      "model_module": "@jupyter-widgets/base",
      "model_module_version": "1.2.0",
      "model_name": "LayoutModel",
      "state": {}
     },
     "6143fcdd00c843628c3a241f1b62d0f0": {
      "model_module": "@jupyter-widgets/base",
      "model_module_version": "1.2.0",
      "model_name": "LayoutModel",
      "state": {}
     },
     "61631e58cd6649689a4520d18609f3c3": {
      "model_module": "@jupyter-widgets/base",
      "model_module_version": "1.2.0",
      "model_name": "LayoutModel",
      "state": {}
     },
     "617bcaead9d8442d863472c73a7cfd37": {
      "model_module": "@jupyter-widgets/base",
      "model_module_version": "1.2.0",
      "model_name": "LayoutModel",
      "state": {}
     },
     "618a8b0d6d4149c084e9742c658f7b5f": {
      "model_module": "@jupyter-widgets/base",
      "model_module_version": "1.2.0",
      "model_name": "LayoutModel",
      "state": {}
     },
     "6194441e3bfd48ba9aa217b32db35ec8": {
      "model_module": "@jupyter-widgets/base",
      "model_module_version": "1.2.0",
      "model_name": "LayoutModel",
      "state": {}
     },
     "6199fb4deb914ad68aa3b008fbb690df": {
      "model_module": "@jupyter-widgets/controls",
      "model_module_version": "1.5.0",
      "model_name": "HBoxModel",
      "state": {
       "children": [
        "IPY_MODEL_dff81c70e9904e35bd5f7f6f83e02533",
        "IPY_MODEL_fdc57c221447485e967f3d8e438b10c9",
        "IPY_MODEL_737c35161b864530ae0eedec227f7813",
        "IPY_MODEL_ca09d29a48f34bd6b89eb1de25321c39"
       ],
       "layout": "IPY_MODEL_175e4d542971485e948ced3a4b3022f3"
      }
     },
     "61a7364b64d74c56a2442dbf1f9abbfd": {
      "model_module": "@jupyter-widgets/base",
      "model_module_version": "1.2.0",
      "model_name": "LayoutModel",
      "state": {}
     },
     "61cfb14cbfc540bda1b7b1247cd2b092": {
      "model_module": "@jupyter-widgets/base",
      "model_module_version": "1.2.0",
      "model_name": "LayoutModel",
      "state": {}
     },
     "61d74d10c527430384aef47cdb363ea4": {
      "model_module": "@jupyter-widgets/controls",
      "model_module_version": "1.5.0",
      "model_name": "DescriptionStyleModel",
      "state": {
       "description_width": ""
      }
     },
     "61ed7e928b3d4a1e943766e9b920da32": {
      "model_module": "@jupyter-widgets/controls",
      "model_module_version": "1.5.0",
      "model_name": "VBoxModel",
      "state": {
       "children": [
        "IPY_MODEL_885784edaaa04502bbbb73345c1cc075"
       ],
       "layout": "IPY_MODEL_bc178a3328f8414b81ccf58ec37ed053"
      }
     },
     "6213558c750e4185b7ad85f514631fc4": {
      "model_module": "@jupyter-widgets/base",
      "model_module_version": "1.2.0",
      "model_name": "LayoutModel",
      "state": {}
     },
     "621b4f2551ce459491a573e7a669bc58": {
      "model_module": "@jupyter-widgets/base",
      "model_module_version": "1.2.0",
      "model_name": "LayoutModel",
      "state": {}
     },
     "624a333c3a4845cbaa2ed5a229726536": {
      "model_module": "@jupyter-widgets/base",
      "model_module_version": "1.2.0",
      "model_name": "LayoutModel",
      "state": {}
     },
     "62717e8c5c5d4e55b0c2e432cf09e228": {
      "model_module": "@jupyter-widgets/controls",
      "model_module_version": "1.5.0",
      "model_name": "ButtonModel",
      "state": {
       "description": "Export Image",
       "layout": "IPY_MODEL_327ea2ea80bd491fa2e6bd8b72539542",
       "style": "IPY_MODEL_0ad526d0eaf2429d801086cf60f2e11e"
      }
     },
     "627d80038bac4e2ca7b7a388f1dd3a92": {
      "model_module": "@jupyter-widgets/base",
      "model_module_version": "1.2.0",
      "model_name": "LayoutModel",
      "state": {}
     },
     "62d3206f9c464fd2b743a4b3df238dec": {
      "model_module": "jupyter-matplotlib",
      "model_module_version": "^0.7.2",
      "model_name": "MPLCanvasModel",
      "state": {
       "_figure_label": "Figure 15",
       "_height": 440,
       "_width": 1100,
       "header_visible": false,
       "layout": "IPY_MODEL_2c8a104217f94e9a900efeb057a00202",
       "resizable": false,
       "toolbar": "IPY_MODEL_c52915bf3cbb490dbe60b0564a465039",
       "toolbar_position": "left",
       "toolbar_visible": false
      }
     },
     "62df88d47c82413482760ac1ee725974": {
      "model_module": "@jupyter-widgets/base",
      "model_module_version": "1.2.0",
      "model_name": "LayoutModel",
      "state": {}
     },
     "62dfbaa6c585408395af8054689b4281": {
      "model_module": "jupyter-matplotlib",
      "model_module_version": "^0.7.2",
      "model_name": "MPLCanvasModel",
      "state": {
       "_figure_label": "Figure 20",
       "_height": 550,
       "_width": 1100,
       "header_visible": false,
       "layout": "IPY_MODEL_f6c97000cce84281897b09ae81d21441",
       "resizable": false,
       "toolbar": "IPY_MODEL_871918c228814f14b2a574507521e22c",
       "toolbar_position": "left",
       "toolbar_visible": false
      }
     },
     "62eb5ff9d54e4ab88c25bc0f00bbea11": {
      "model_module": "@jupyter-widgets/controls",
      "model_module_version": "1.5.0",
      "model_name": "CheckboxModel",
      "state": {
       "description": "Show Out-of-Gamut",
       "disabled": false,
       "layout": "IPY_MODEL_af7d4d469a7f4238bb6b3c64a56daa86",
       "style": "IPY_MODEL_70d3c953d7c1471d88041e82a7c58a87",
       "value": false
      }
     },
     "62f10330478a4ac78f358e15e3cf28f2": {
      "model_module": "@jupyter-widgets/base",
      "model_module_version": "1.2.0",
      "model_name": "LayoutModel",
      "state": {}
     },
     "62f5239057c24a3d80b246199c7af46f": {
      "model_module": "@jupyter-widgets/base",
      "model_module_version": "1.2.0",
      "model_name": "LayoutModel",
      "state": {}
     },
     "631fb854b8be4d06806b8544152952fb": {
      "model_module": "@jupyter-widgets/base",
      "model_module_version": "1.2.0",
      "model_name": "LayoutModel",
      "state": {}
     },
     "633740947da94f72954fee79bb86a795": {
      "model_module": "@jupyter-widgets/controls",
      "model_module_version": "1.5.0",
      "model_name": "FloatSliderModel",
      "state": {
       "description": "Exposure",
       "layout": "IPY_MODEL_ae96f202be9341e8bc53991937dea0b0",
       "max": 8,
       "min": -8,
       "step": 0.1,
       "style": "IPY_MODEL_77530c8ceab34ac2a2a836f846d1b4e3"
      }
     },
     "63505803a0cb4d4e93ac4afa99c7c345": {
      "model_module": "@jupyter-widgets/controls",
      "model_module_version": "1.5.0",
      "model_name": "FloatSliderModel",
      "state": {
       "description": "315°",
       "layout": "IPY_MODEL_69b7e125740a4e149b4b3aa1f4ed1d3a",
       "max": 1,
       "min": -1,
       "step": 0.01,
       "style": "IPY_MODEL_d1436ab7e2d54fc090e9145dc02861e0"
      }
     },
     "6363b95eb3524e04b15ceb5830f03ef2": {
      "model_module": "@jupyter-widgets/controls",
      "model_module_version": "1.5.0",
      "model_name": "FloatSliderModel",
      "state": {
       "description": "315°",
       "layout": "IPY_MODEL_6ea0a94fa02b4cdb8ecb31faeb37675b",
       "max": 1,
       "min": -1,
       "step": 0.01,
       "style": "IPY_MODEL_fe9f1b5bde1f4951a692df960e69f48e"
      }
     },
     "6389468578ac45cdb78346db6431ac53": {
      "model_module": "@jupyter-widgets/controls",
      "model_module_version": "1.5.0",
      "model_name": "DropdownModel",
      "state": {
       "_options_labels": [
        "sRGB",
        "sRGB (ACES)",
        "Display P3",
        "Display P3 (ACES)"
       ],
       "description": "View Transform:",
       "index": 0,
       "layout": "IPY_MODEL_d401fd1a7a8c4e9cafd3646ea3fdba6f",
       "style": "IPY_MODEL_19cb862df8f547869e9780ad744c262c"
      }
     },
     "63c05557f8864de4b4a36a233e3b1248": {
      "model_module": "@jupyter-widgets/controls",
      "model_module_version": "1.5.0",
      "model_name": "SliderStyleModel",
      "state": {
       "description_width": ""
      }
     },
     "63e38ab4a43e4e39ab5ca564946b59e5": {
      "model_module": "@jupyter-widgets/output",
      "model_module_version": "1.0.0",
      "model_name": "OutputModel",
      "state": {
       "layout": "IPY_MODEL_160f383885904191a41de1d4c0748ede",
       "outputs": [
        {
         "data": {
          "application/vnd.jupyter.widget-view+json": {
           "model_id": "f65e62ace5eb4cc6bae4aaf7350e0674",
           "version_major": 2,
           "version_minor": 0
          },
          "text/plain": "Canvas(toolbar=Toolbar(toolitems=[('Home', 'Reset original view', 'home', 'home'), ('Back', 'Back to previous …"
         },
         "metadata": {},
         "output_type": "display_data"
        }
       ]
      }
     },
     "63ea460eb87a4fffb23bb17e6360b25d": {
      "model_module": "@jupyter-widgets/controls",
      "model_module_version": "1.5.0",
      "model_name": "ButtonModel",
      "state": {
       "description": "Reset Hue Controls",
       "layout": "IPY_MODEL_0e65b1319c834f628280583a504915a8",
       "style": "IPY_MODEL_b2a50163e6d840b69a98f388cccad6a9"
      }
     },
     "63f16d85e313463f9a20a535c94c35fa": {
      "model_module": "@jupyter-widgets/base",
      "model_module_version": "1.2.0",
      "model_name": "LayoutModel",
      "state": {
       "align_items": "stretch",
       "display": "flex",
       "flex_flow": "column",
       "width": "1128px"
      }
     },
     "640a7e242c21459a992d8ad5a8e29147": {
      "model_module": "@jupyter-widgets/base",
      "model_module_version": "1.2.0",
      "model_name": "LayoutModel",
      "state": {}
     },
     "6411ffded45a4924acec5eb0ba226c5e": {
      "model_module": "@jupyter-widgets/controls",
      "model_module_version": "1.5.0",
      "model_name": "VBoxModel",
      "state": {
       "children": [
        "IPY_MODEL_2f1af625a1a840c596ccc97b71aa89d6"
       ],
       "layout": "IPY_MODEL_b82150c8746a48efb37537b7d0f758d9"
      }
     },
     "64536b0ac44a404ea3e9886d20ea4a16": {
      "model_module": "@jupyter-widgets/controls",
      "model_module_version": "1.5.0",
      "model_name": "ButtonStyleModel",
      "state": {}
     },
     "64631c3c744347cfab23667a4ec08fff": {
      "model_module": "@jupyter-widgets/controls",
      "model_module_version": "1.5.0",
      "model_name": "SliderStyleModel",
      "state": {
       "description_width": ""
      }
     },
     "6485d7c1789e4ccda3e7d3c164fbc0dc": {
      "model_module": "@jupyter-widgets/controls",
      "model_module_version": "1.5.0",
      "model_name": "ButtonModel",
      "state": {
       "description": "Reset Compression Controls",
       "layout": "IPY_MODEL_ded394ffd38b4d24b83af2fbc1df2369",
       "style": "IPY_MODEL_43b9a852d27542bb8ecde6949b3479da"
      }
     },
     "64cbf2d93d9d4cf18b686a9fbde7fd7e": {
      "model_module": "@jupyter-widgets/base",
      "model_module_version": "1.2.0",
      "model_name": "LayoutModel",
      "state": {}
     },
     "65214f64473e43b7b56fe9aa7f88c626": {
      "model_module": "@jupyter-widgets/base",
      "model_module_version": "1.2.0",
      "model_name": "LayoutModel",
      "state": {}
     },
     "653496df182f43b19a36ebca34d11a6a": {
      "model_module": "@jupyter-widgets/base",
      "model_module_version": "1.2.0",
      "model_name": "LayoutModel",
      "state": {}
     },
     "6558e5e5695e480ea315e4d00a60ba10": {
      "model_module": "@jupyter-widgets/base",
      "model_module_version": "1.2.0",
      "model_name": "LayoutModel",
      "state": {}
     },
     "655bf226edfe4dc6bf1f6ad2d6ffe73a": {
      "model_module": "@jupyter-widgets/base",
      "model_module_version": "1.2.0",
      "model_name": "LayoutModel",
      "state": {}
     },
     "656a5efb31ac451fb980f67d1268e1e2": {
      "model_module": "@jupyter-widgets/base",
      "model_module_version": "1.2.0",
      "model_name": "LayoutModel",
      "state": {}
     },
     "657353382651417ba236fe86867fb88b": {
      "model_module": "@jupyter-widgets/controls",
      "model_module_version": "1.5.0",
      "model_name": "DescriptionStyleModel",
      "state": {
       "description_width": ""
      }
     },
     "65a2fc6dcfa444a0bec609a0660eb74c": {
      "model_module": "@jupyter-widgets/base",
      "model_module_version": "1.2.0",
      "model_name": "LayoutModel",
      "state": {}
     },
     "65b467ca8ed941418253ecaf54fc3fd7": {
      "model_module": "@jupyter-widgets/controls",
      "model_module_version": "1.5.0",
      "model_name": "SliderStyleModel",
      "state": {
       "description_width": ""
      }
     },
     "65bd33f66e274537a0bbbaab01dd6682": {
      "model_module": "@jupyter-widgets/base",
      "model_module_version": "1.2.0",
      "model_name": "LayoutModel",
      "state": {
       "align_items": "stretch",
       "display": "flex",
       "flex_flow": "column",
       "width": "1128px"
      }
     },
     "65cd8f4e595849e4bcbfb490e896247e": {
      "model_module": "@jupyter-widgets/output",
      "model_module_version": "1.0.0",
      "model_name": "OutputModel",
      "state": {
       "layout": "IPY_MODEL_4ea2668b24f4465baf53ae7a8f2473b6",
       "outputs": [
        {
         "data": {
          "application/vnd.jupyter.widget-view+json": {
           "model_id": "add580186627492198807e7d8b70cd73",
           "version_major": 2,
           "version_minor": 0
          },
          "text/plain": "Canvas(toolbar=Toolbar(toolitems=[('Home', 'Reset original view', 'home', 'home'), ('Back', 'Back to previous …"
         },
         "metadata": {},
         "output_type": "display_data"
        }
       ]
      }
     },
     "65d513cf4f8a46799d66e4655650d6fe": {
      "model_module": "@jupyter-widgets/base",
      "model_module_version": "1.2.0",
      "model_name": "LayoutModel",
      "state": {}
     },
     "65e43de5be4f47dd8636dea4b799bf1a": {
      "model_module": "@jupyter-widgets/controls",
      "model_module_version": "1.5.0",
      "model_name": "DropdownModel",
      "state": {
       "_options_labels": [
        "tanh",
        "atan",
        "simple"
       ],
       "description": "Compression Function:",
       "index": 0,
       "layout": "IPY_MODEL_569da18d885a45a391b0cf5c29e652a1",
       "style": "IPY_MODEL_af4a92b7477c44e8af4694eea1c20ca4"
      }
     },
     "65f74f8862e6484b87773aae3ceff7c3": {
      "model_module": "@jupyter-widgets/base",
      "model_module_version": "1.2.0",
      "model_name": "LayoutModel",
      "state": {}
     },
     "66121050702b472b8186c11984c656fc": {
      "model_module": "@jupyter-widgets/controls",
      "model_module_version": "1.5.0",
      "model_name": "ButtonModel",
      "state": {
       "description": "Reset Exposure",
       "layout": "IPY_MODEL_ec1069d8d8bd466588dae9a905fd9136",
       "style": "IPY_MODEL_7a9064de5aba4107864fa1b7bc5944f2"
      }
     },
     "66382184b9d447b0aa7903ebf855006d": {
      "model_module": "@jupyter-widgets/controls",
      "model_module_version": "1.5.0",
      "model_name": "DropdownModel",
      "state": {
       "_options_labels": [
        "sRGB",
        "sRGB (ACES)",
        "Display P3",
        "Display P3 (ACES)"
       ],
       "description": "View Transform:",
       "index": 0,
       "layout": "IPY_MODEL_4ba7551e5fa44af68e53b926568f66c0",
       "style": "IPY_MODEL_76804f84c14342d2bba5293de9714318"
      }
     },
     "666c49b51c3a45cf84c9cdd8f69af4bb": {
      "model_module": "@jupyter-widgets/controls",
      "model_module_version": "1.5.0",
      "model_name": "ButtonModel",
      "state": {
       "description": "Save Figure",
       "layout": "IPY_MODEL_b7f4001e2110415493db50e600336b6f",
       "style": "IPY_MODEL_84f49798da7947068be5c2e3d9253204"
      }
     },
     "667d8595a9f441ddbdd74df4f9520ed4": {
      "model_module": "@jupyter-widgets/controls",
      "model_module_version": "1.5.0",
      "model_name": "VBoxModel",
      "state": {
       "children": [
        "IPY_MODEL_84ac18b480104b08a2ad40fc728efc9a",
        "IPY_MODEL_f371a33dd2ab45c0bd8e5feeeea9e7f6",
        "IPY_MODEL_ea5b98b673974fc8a9c623d10e5c7ec2"
       ],
       "layout": "IPY_MODEL_128e422369f2483787df5472e4f1844f"
      }
     },
     "66856bbb8e2748a9959cb4c9a48dda25": {
      "model_module": "@jupyter-widgets/output",
      "model_module_version": "1.0.0",
      "model_name": "OutputModel",
      "state": {
       "layout": "IPY_MODEL_adbcfc829ef148fdab989aee01ab4ae5",
       "outputs": [
        {
         "data": {
          "application/vnd.jupyter.widget-view+json": {
           "model_id": "e981f033b2914f6ea1dc62fba89e7c29",
           "version_major": 2,
           "version_minor": 0
          },
          "text/plain": "Canvas(toolbar=Toolbar(toolitems=[('Home', 'Reset original view', 'home', 'home'), ('Back', 'Back to previous …"
         },
         "metadata": {},
         "output_type": "display_data"
        }
       ]
      }
     },
     "669134f89fdd405284973e07795d1006": {
      "model_module": "@jupyter-widgets/base",
      "model_module_version": "1.2.0",
      "model_name": "LayoutModel",
      "state": {
       "align_items": "stretch",
       "display": "flex",
       "flex_flow": "column",
       "width": "1128px"
      }
     },
     "6696764f460a4e1c83f07d2d27d0ff52": {
      "model_module": "@jupyter-widgets/controls",
      "model_module_version": "1.5.0",
      "model_name": "ButtonModel",
      "state": {
       "description": "Reset Exposure",
       "layout": "IPY_MODEL_24f072d477354b8fbd8603bc0df5e7e9",
       "style": "IPY_MODEL_940b76934bb140f4802288bf9861cbb3"
      }
     },
     "66f8de82e36f49cd85de2cd05fd75fd3": {
      "model_module": "@jupyter-widgets/base",
      "model_module_version": "1.2.0",
      "model_name": "LayoutModel",
      "state": {}
     },
     "671ee16e0174492ebf6333c4552a1622": {
      "model_module": "@jupyter-widgets/base",
      "model_module_version": "1.2.0",
      "model_name": "LayoutModel",
      "state": {}
     },
     "672675eb8f924102939e40acbd0440ac": {
      "model_module": "@jupyter-widgets/controls",
      "model_module_version": "1.5.0",
      "model_name": "SliderStyleModel",
      "state": {
       "description_width": ""
      }
     },
     "67387e54e50b411db18c455ca9f61e1f": {
      "model_module": "@jupyter-widgets/base",
      "model_module_version": "1.2.0",
      "model_name": "LayoutModel",
      "state": {}
     },
     "6747c296f62b4040b292467915fd3289": {
      "model_module": "@jupyter-widgets/base",
      "model_module_version": "1.2.0",
      "model_name": "LayoutModel",
      "state": {}
     },
     "675f8a88b7804875a26248d24210261e": {
      "model_module": "@jupyter-widgets/controls",
      "model_module_version": "1.5.0",
      "model_name": "SliderStyleModel",
      "state": {
       "description_width": ""
      }
     },
     "67cdfb4d06324016b2a32cadc12cdee0": {
      "model_module": "jupyter-matplotlib",
      "model_module_version": "^0.7.2",
      "model_name": "MPLCanvasModel",
      "state": {
       "_figure_label": "Figure 14",
       "_height": 440,
       "_width": 1100,
       "header_visible": false,
       "layout": "IPY_MODEL_9a244c31cf6444518cb44edfded3c585",
       "resizable": false,
       "toolbar": "IPY_MODEL_f6fe472f4af94a52bd97982d7aa1f64a",
       "toolbar_position": "left",
       "toolbar_visible": false
      }
     },
     "6805b7c0cd7d46b6a442d41d7097723f": {
      "model_module": "@jupyter-widgets/controls",
      "model_module_version": "1.5.0",
      "model_name": "SliderStyleModel",
      "state": {
       "description_width": ""
      }
     },
     "6817ca8550484fd5ac85a695901acdd0": {
      "model_module": "@jupyter-widgets/base",
      "model_module_version": "1.2.0",
      "model_name": "LayoutModel",
      "state": {}
     },
     "682de600add74234946222eb23b9c7f6": {
      "model_module": "jupyter-matplotlib",
      "model_module_version": "^0.7.2",
      "model_name": "ToolbarModel",
      "state": {
       "layout": "IPY_MODEL_0976f2db124a4df9a18167d214b0e39a",
       "toolitems": [
        [
         "Home",
         "Reset original view",
         "home",
         "home"
        ],
        [
         "Back",
         "Back to previous view",
         "arrow-left",
         "back"
        ],
        [
         "Forward",
         "Forward to next view",
         "arrow-right",
         "forward"
        ],
        [
         "Pan",
         "Pan axes with left mouse, zoom with right",
         "arrows",
         "pan"
        ],
        [
         "Zoom",
         "Zoom to rectangle",
         "square-o",
         "zoom"
        ],
        [
         "Download",
         "Download plot",
         "floppy-o",
         "save_figure"
        ]
       ]
      }
     },
     "685373c295ed465b92b37e2017ff68fd": {
      "model_module": "@jupyter-widgets/controls",
      "model_module_version": "1.5.0",
      "model_name": "VBoxModel",
      "state": {
       "children": [
        "IPY_MODEL_080a06c26d3d4e1b9d998abb9efaf32b",
        "IPY_MODEL_6363b95eb3524e04b15ceb5830f03ef2"
       ],
       "layout": "IPY_MODEL_ec55b066f46a41438c27b1fcc0153103"
      }
     },
     "686b860b4b794303937937230020eb01": {
      "model_module": "@jupyter-widgets/controls",
      "model_module_version": "1.5.0",
      "model_name": "SliderStyleModel",
      "state": {
       "description_width": ""
      }
     },
     "6870993f11224ff8900f6a2e5d66ef29": {
      "model_module": "@jupyter-widgets/controls",
      "model_module_version": "1.5.0",
      "model_name": "FloatSliderModel",
      "state": {
       "description": "225°",
       "layout": "IPY_MODEL_534312ea3be94407bd9b82a9c9ac71f2",
       "max": 1,
       "min": -1,
       "step": 0.01,
       "style": "IPY_MODEL_fc89b0d9fa8b44b19dd517440407ccc7"
      }
     },
     "68797a90f7774678ada23a835c3e9268": {
      "model_module": "@jupyter-widgets/controls",
      "model_module_version": "1.5.0",
      "model_name": "ButtonStyleModel",
      "state": {}
     },
     "687dacea469c400984107a9ae44a8bd1": {
      "model_module": "@jupyter-widgets/controls",
      "model_module_version": "1.5.0",
      "model_name": "DescriptionStyleModel",
      "state": {
       "description_width": ""
      }
     },
     "687fd06a6c464e35b60ae7eee5513077": {
      "model_module": "jupyter-matplotlib",
      "model_module_version": "^0.7.2",
      "model_name": "ToolbarModel",
      "state": {
       "layout": "IPY_MODEL_2bbdb91f38d94126ab157137d79d8dc0",
       "toolitems": [
        [
         "Home",
         "Reset original view",
         "home",
         "home"
        ],
        [
         "Back",
         "Back to previous view",
         "arrow-left",
         "back"
        ],
        [
         "Forward",
         "Forward to next view",
         "arrow-right",
         "forward"
        ],
        [
         "Pan",
         "Pan axes with left mouse, zoom with right",
         "arrows",
         "pan"
        ],
        [
         "Zoom",
         "Zoom to rectangle",
         "square-o",
         "zoom"
        ],
        [
         "Download",
         "Download plot",
         "floppy-o",
         "save_figure"
        ]
       ]
      }
     },
     "68aad428f4764509a90d40d8110443ac": {
      "model_module": "jupyter-matplotlib",
      "model_module_version": "^0.7.2",
      "model_name": "ToolbarModel",
      "state": {
       "layout": "IPY_MODEL_197d8fc6896b48939fa53adffadfa89a",
       "toolitems": [
        [
         "Home",
         "Reset original view",
         "home",
         "home"
        ],
        [
         "Back",
         "Back to previous view",
         "arrow-left",
         "back"
        ],
        [
         "Forward",
         "Forward to next view",
         "arrow-right",
         "forward"
        ],
        [
         "Pan",
         "Pan axes with left mouse, zoom with right",
         "arrows",
         "pan"
        ],
        [
         "Zoom",
         "Zoom to rectangle",
         "square-o",
         "zoom"
        ],
        [
         "Download",
         "Download plot",
         "floppy-o",
         "save_figure"
        ]
       ]
      }
     },
     "68c69196e21c4d35b5839dde9a4ee74d": {
      "model_module": "@jupyter-widgets/base",
      "model_module_version": "1.2.0",
      "model_name": "LayoutModel",
      "state": {}
     },
     "690a297ed9984c8283cedce13d38e6f3": {
      "model_module": "@jupyter-widgets/base",
      "model_module_version": "1.2.0",
      "model_name": "LayoutModel",
      "state": {}
     },
     "695010c3df9f477b8dcc90aaec884534": {
      "model_module": "@jupyter-widgets/controls",
      "model_module_version": "1.5.0",
      "model_name": "DescriptionStyleModel",
      "state": {
       "description_width": ""
      }
     },
     "69597b4d2a0d4b4ca379f2e2434fcfd8": {
      "model_module": "@jupyter-widgets/base",
      "model_module_version": "1.2.0",
      "model_name": "LayoutModel",
      "state": {
       "border": "solid 4px #222",
       "margin": "4px",
       "padding": "0"
      }
     },
     "6959b0f9491842268112066b3fe3e0fd": {
      "model_module": "@jupyter-widgets/base",
      "model_module_version": "1.2.0",
      "model_name": "LayoutModel",
      "state": {}
     },
     "695ec894446d4419a371a14d1c38347a": {
      "model_module": "@jupyter-widgets/controls",
      "model_module_version": "1.5.0",
      "model_name": "FloatSliderModel",
      "state": {
       "description": "225°",
       "layout": "IPY_MODEL_d747e87375634744a59c15ebd67ccc82",
       "max": 1,
       "min": -1,
       "step": 0.01,
       "style": "IPY_MODEL_f50f0ca60428426a8c6d3b88d28cc7a7"
      }
     },
     "69a5adbdf2f14b41b24daad266c1144d": {
      "model_module": "@jupyter-widgets/base",
      "model_module_version": "1.2.0",
      "model_name": "LayoutModel",
      "state": {}
     },
     "69b7e125740a4e149b4b3aa1f4ed1d3a": {
      "model_module": "@jupyter-widgets/base",
      "model_module_version": "1.2.0",
      "model_name": "LayoutModel",
      "state": {}
     },
     "69cbd6fe7eec46bc83a0d6fec4ee560c": {
      "model_module": "@jupyter-widgets/base",
      "model_module_version": "1.2.0",
      "model_name": "LayoutModel",
      "state": {}
     },
     "6a004de04ba14e179946203dd37f3767": {
      "model_module": "@jupyter-widgets/controls",
      "model_module_version": "1.5.0",
      "model_name": "ButtonStyleModel",
      "state": {}
     },
     "6a14452d69fe4a3c85294b392bfc1acb": {
      "model_module": "@jupyter-widgets/controls",
      "model_module_version": "1.5.0",
      "model_name": "TabModel",
      "state": {
       "_titles": {
        "0": "Global Controls",
        "1": "Viewer Controls",
        "2": "Compression Controls"
       },
       "children": [
        "IPY_MODEL_c58c729839f84cf1935f549ae2e8a8ec",
        "IPY_MODEL_02b4545a66cf4fccb79b157f39bf1d03",
        "IPY_MODEL_3be4f0c1d73e47babaed0b50b2c14acf"
       ],
       "layout": "IPY_MODEL_b2239befc02b42e09cf8a2d656a46787"
      }
     },
     "6a2ae18982144d62965c5d452455236a": {
      "model_module": "@jupyter-widgets/controls",
      "model_module_version": "1.5.0",
      "model_name": "ButtonStyleModel",
      "state": {}
     },
     "6a3ae5671ed94604b6ed2faa3744bbef": {
      "model_module": "@jupyter-widgets/base",
      "model_module_version": "1.2.0",
      "model_name": "LayoutModel",
      "state": {}
     },
     "6a4529499865476bbc854965b7f80446": {
      "model_module": "@jupyter-widgets/controls",
      "model_module_version": "1.5.0",
      "model_name": "FloatSliderModel",
      "state": {
       "description": "270°",
       "layout": "IPY_MODEL_afd3497e192b43199c3a2d3d39696b94",
       "max": 1,
       "min": -1,
       "step": 0.01,
       "style": "IPY_MODEL_72e6baa7e97a4f3ca8a3e004d4ebdab1"
      }
     },
     "6a93b48ec0f54e73a73f5594a4da5593": {
      "model_module": "@jupyter-widgets/controls",
      "model_module_version": "1.5.0",
      "model_name": "HBoxModel",
      "state": {
       "children": [
        "IPY_MODEL_2e377216456a4a619e782e77bea8fa48",
        "IPY_MODEL_288b9a5766d849569758182908b7de47"
       ],
       "layout": "IPY_MODEL_7f5763b4ea3d42ba87870e689eb63d2f"
      }
     },
     "6ab8978172e14f2db5a51a5372ea45bd": {
      "model_module": "@jupyter-widgets/base",
      "model_module_version": "1.2.0",
      "model_name": "LayoutModel",
      "state": {}
     },
     "6b1102eb8a724731a8ff83e50943b4ce": {
      "model_module": "@jupyter-widgets/controls",
      "model_module_version": "1.5.0",
      "model_name": "DescriptionStyleModel",
      "state": {
       "description_width": ""
      }
     },
     "6b30920a115043dc96d012bdbd42379a": {
      "model_module": "@jupyter-widgets/base",
      "model_module_version": "1.2.0",
      "model_name": "LayoutModel",
      "state": {}
     },
     "6b7fc98eb77c4e4b946183117517b11c": {
      "model_module": "@jupyter-widgets/controls",
      "model_module_version": "1.5.0",
      "model_name": "FloatSliderModel",
      "state": {
       "description": "Compression Threshold",
       "layout": "IPY_MODEL_6ca3ced81b1840cb8b6f4606f2497f57",
       "max": 1,
       "step": 0.01,
       "style": "IPY_MODEL_d8a79f886b4e4c1e84a77600dfb0f474",
       "value": 0.8
      }
     },
     "6b82c677221e4896a2cd2cc31377f623": {
      "model_module": "@jupyter-widgets/controls",
      "model_module_version": "1.5.0",
      "model_name": "CheckboxModel",
      "state": {
       "description": "Disable Medicina",
       "disabled": false,
       "layout": "IPY_MODEL_65214f64473e43b7b56fe9aa7f88c626",
       "style": "IPY_MODEL_28ef2f9f978a41aea0bbf6bee7d5c1bb",
       "value": false
      }
     },
     "6bf74ae9b7674443a4f16bed2e08f401": {
      "model_module": "@jupyter-widgets/controls",
      "model_module_version": "1.5.0",
      "model_name": "ButtonStyleModel",
      "state": {}
     },
     "6bfd9bd889fa40b3aed2e5e3ea8f6598": {
      "model_module": "@jupyter-widgets/controls",
      "model_module_version": "1.5.0",
      "model_name": "ButtonStyleModel",
      "state": {}
     },
     "6c0420934f0546859274ccdb5dc36fcb": {
      "model_module": "@jupyter-widgets/controls",
      "model_module_version": "1.5.0",
      "model_name": "DescriptionStyleModel",
      "state": {
       "description_width": ""
      }
     },
     "6c0d9f4325a44c08a4eedb41442f102f": {
      "model_module": "@jupyter-widgets/base",
      "model_module_version": "1.2.0",
      "model_name": "LayoutModel",
      "state": {}
     },
     "6c178396276e4464917c3768eda52783": {
      "model_module": "@jupyter-widgets/base",
      "model_module_version": "1.2.0",
      "model_name": "LayoutModel",
      "state": {}
     },
     "6c2378a588264d99b371d527373fb5f2": {
      "model_module": "@jupyter-widgets/controls",
      "model_module_version": "1.5.0",
      "model_name": "ButtonModel",
      "state": {
       "description": "Export Image",
       "layout": "IPY_MODEL_82514338de264cc8a61e533c65ba6c0b",
       "style": "IPY_MODEL_3eeb4b58760846f299a156ea5edc4884"
      }
     },
     "6c7a4d389e0c4a64927061514f777825": {
      "model_module": "@jupyter-widgets/controls",
      "model_module_version": "1.5.0",
      "model_name": "DropdownModel",
      "state": {
       "_options_labels": [
        "sRGB",
        "sRGB (ACES)",
        "Display P3",
        "Display P3 (ACES)"
       ],
       "description": "View Transform:",
       "index": 0,
       "layout": "IPY_MODEL_5b115f6c664a4ac59b9cae0cf07da42d",
       "style": "IPY_MODEL_4013555632d440e2934b12de7c907f1c"
      }
     },
     "6c8ed1979d2b4da89dcab497bcfb60de": {
      "model_module": "@jupyter-widgets/controls",
      "model_module_version": "1.5.0",
      "model_name": "TabModel",
      "state": {
       "_titles": {
        "0": "Global Controls",
        "1": "Viewer Controls",
        "2": "Protected Area Controls",
        "3": "Saturation Controls",
        "4": "Hue Controls"
       },
       "children": [
        "IPY_MODEL_cd92ee81320743539f147fa1b8837b8a",
        "IPY_MODEL_3134b6fe70f44d8d8bb0a4f0474e599a",
        "IPY_MODEL_80ef1410bd524496b457326035ac002d",
        "IPY_MODEL_17da8b58f58040f3a61d2ee5d941aa7d",
        "IPY_MODEL_e4a464093dd640f1a201950e13abaedb"
       ],
       "layout": "IPY_MODEL_4c33cae0b2dd4576a32f97b7aa715007"
      }
     },
     "6c8f32e11d174b3f9c4ffcfef847bd8c": {
      "model_module": "@jupyter-widgets/controls",
      "model_module_version": "1.5.0",
      "model_name": "FloatSliderModel",
      "state": {
       "description": "Compression Threshold",
       "layout": "IPY_MODEL_e1e6ad93515a4e7b8497f125337fc1c1",
       "max": 1,
       "step": 0.01,
       "style": "IPY_MODEL_52b6e82f8a7a4da78e2e7bba21f4e678",
       "value": 0.8
      }
     },
     "6ca1dde373224d7381a216768b3ed51f": {
      "model_module": "@jupyter-widgets/controls",
      "model_module_version": "1.5.0",
      "model_name": "FloatSliderModel",
      "state": {
       "description": "90°",
       "layout": "IPY_MODEL_b3dae4f51fdd46e49ee176e1d99e0021",
       "max": 1,
       "min": -1,
       "step": 0.01,
       "style": "IPY_MODEL_48334445bdd84ddc8c02a660fcccd703"
      }
     },
     "6ca3c6b1c6c44732ba55ebe142d3e6cd": {
      "model_module": "@jupyter-widgets/base",
      "model_module_version": "1.2.0",
      "model_name": "LayoutModel",
      "state": {
       "border": "solid 4px #222",
       "margin": "4px",
       "padding": "0"
      }
     },
     "6ca3ced81b1840cb8b6f4606f2497f57": {
      "model_module": "@jupyter-widgets/base",
      "model_module_version": "1.2.0",
      "model_name": "LayoutModel",
      "state": {}
     },
     "6ca7a550d574420f8051a867b94598bf": {
      "model_module": "@jupyter-widgets/base",
      "model_module_version": "1.2.0",
      "model_name": "LayoutModel",
      "state": {}
     },
     "6cd7dc8afc494f38af0a39c5bac1e555": {
      "model_module": "@jupyter-widgets/output",
      "model_module_version": "1.0.0",
      "model_name": "OutputModel",
      "state": {
       "layout": "IPY_MODEL_f3a5e672308c4459bce0625da19d8cde",
       "outputs": [
        {
         "data": {
          "application/vnd.jupyter.widget-view+json": {
           "model_id": "67cdfb4d06324016b2a32cadc12cdee0",
           "version_major": 2,
           "version_minor": 0
          },
          "text/plain": "Canvas(toolbar=Toolbar(toolitems=[('Home', 'Reset original view', 'home', 'home'), ('Back', 'Back to previous …"
         },
         "metadata": {},
         "output_type": "display_data"
        }
       ]
      }
     },
     "6cdd275d09214c9285faa3a88ea10fdd": {
      "model_module": "@jupyter-widgets/controls",
      "model_module_version": "1.5.0",
      "model_name": "DescriptionStyleModel",
      "state": {
       "description_width": ""
      }
     },
     "6cef56f2ee62405eaeca95382aa222bb": {
      "model_module": "@jupyter-widgets/controls",
      "model_module_version": "1.5.0",
      "model_name": "ButtonModel",
      "state": {
       "description": "Save Figure",
       "layout": "IPY_MODEL_d8b3544fd57b42b3ba8f2fe025047ba7",
       "style": "IPY_MODEL_52ab481f262d4c619243eb508b76c4cd"
      }
     },
     "6d27119e685a4f55a56af9e5f994cb59": {
      "model_module": "@jupyter-widgets/controls",
      "model_module_version": "1.5.0",
      "model_name": "FloatSliderModel",
      "state": {
       "description": "Exposure",
       "layout": "IPY_MODEL_98f1796c10fb49f89b875183d7045298",
       "max": 8,
       "min": -8,
       "step": 0.1,
       "style": "IPY_MODEL_c4776f557a66414083c1b5a4a7efba1e"
      }
     },
     "6d399b6a93324c28b22109059b6701f9": {
      "model_module": "@jupyter-widgets/controls",
      "model_module_version": "1.5.0",
      "model_name": "ButtonStyleModel",
      "state": {}
     },
     "6db9ac1f0c7442a795b333509b8b0533": {
      "model_module": "@jupyter-widgets/base",
      "model_module_version": "1.2.0",
      "model_name": "LayoutModel",
      "state": {}
     },
     "6dba2f16cdc74a899242374aa6dce543": {
      "model_module": "@jupyter-widgets/base",
      "model_module_version": "1.2.0",
      "model_name": "LayoutModel",
      "state": {
       "align_items": "stretch",
       "display": "flex",
       "flex_flow": "column",
       "width": "1128px"
      }
     },
     "6dbd9c30ddb44bd1b1e7e70f19358567": {
      "model_module": "@jupyter-widgets/controls",
      "model_module_version": "1.5.0",
      "model_name": "ButtonStyleModel",
      "state": {}
     },
     "6de7ec213f4d4a0b8a79411e8f4e157e": {
      "model_module": "@jupyter-widgets/controls",
      "model_module_version": "1.5.0",
      "model_name": "HBoxModel",
      "state": {
       "children": [
        "IPY_MODEL_459292fb86ee4e7e81f2c882c8b060e9",
        "IPY_MODEL_1d5c0b4df07748cb903c9994500b460a"
       ],
       "layout": "IPY_MODEL_6eb1dcc0c729457e9910c87fd15dc5d8"
      }
     },
     "6df1225c9eb345df9f87043409cecaad": {
      "model_module": "@jupyter-widgets/controls",
      "model_module_version": "1.5.0",
      "model_name": "SliderStyleModel",
      "state": {
       "description_width": ""
      }
     },
     "6df9fbabccca49a495fee11a00212c3a": {
      "model_module": "@jupyter-widgets/base",
      "model_module_version": "1.2.0",
      "model_name": "LayoutModel",
      "state": {
       "border": "solid 4px #222",
       "margin": "4px",
       "padding": "0"
      }
     },
     "6e25690ca7804cf289f51eb7642cf4ae": {
      "model_module": "@jupyter-widgets/base",
      "model_module_version": "1.2.0",
      "model_name": "LayoutModel",
      "state": {}
     },
     "6e5d87281e5549c08eb7f1dfcc73f09d": {
      "model_module": "@jupyter-widgets/controls",
      "model_module_version": "1.5.0",
      "model_name": "ButtonStyleModel",
      "state": {}
     },
     "6e876fb6995a4db199f5c813e3b1df23": {
      "model_module": "@jupyter-widgets/base",
      "model_module_version": "1.2.0",
      "model_name": "LayoutModel",
      "state": {}
     },
     "6e8b0f00be104e9ea699cf36e884506a": {
      "model_module": "@jupyter-widgets/controls",
      "model_module_version": "1.5.0",
      "model_name": "DropdownModel",
      "state": {
       "_options_labels": [
        "tanh",
        "atan",
        "simple"
       ],
       "description": "Compression Function:",
       "index": 0,
       "layout": "IPY_MODEL_2735ba56c4aa49f7bc968cdc787f7c8f",
       "style": "IPY_MODEL_dcbf2fb30a03451ea8e0ccd4c0b9d124"
      }
     },
     "6e949d63092b4518a13f6d020c419415": {
      "model_module": "@jupyter-widgets/controls",
      "model_module_version": "1.5.0",
      "model_name": "HBoxModel",
      "state": {
       "children": [
        "IPY_MODEL_22b4c977d87f4008847c8319181a4d69",
        "IPY_MODEL_0cb27e2141c8450d9ea7cfcead0fe535",
        "IPY_MODEL_cedd589c89354ef6834d55ec82df1a92",
        "IPY_MODEL_75b4799bab624282aaaf734b0caf85d1"
       ],
       "layout": "IPY_MODEL_617bcaead9d8442d863472c73a7cfd37"
      }
     },
     "6ea0a94fa02b4cdb8ecb31faeb37675b": {
      "model_module": "@jupyter-widgets/base",
      "model_module_version": "1.2.0",
      "model_name": "LayoutModel",
      "state": {}
     },
     "6eb1dcc0c729457e9910c87fd15dc5d8": {
      "model_module": "@jupyter-widgets/base",
      "model_module_version": "1.2.0",
      "model_name": "LayoutModel",
      "state": {}
     },
     "6ebce15bc4eb433e9af4560d91125681": {
      "model_module": "@jupyter-widgets/controls",
      "model_module_version": "1.5.0",
      "model_name": "SliderStyleModel",
      "state": {
       "description_width": ""
      }
     },
     "6ede6092fbdc4e8fb88cee3b4c839b67": {
      "model_module": "@jupyter-widgets/controls",
      "model_module_version": "1.5.0",
      "model_name": "FloatSliderModel",
      "state": {
       "description": "180°",
       "layout": "IPY_MODEL_f3c813489d434d118ae55311b5a6646d",
       "max": 1,
       "min": -1,
       "step": 0.01,
       "style": "IPY_MODEL_b04d53407618462ba79d401d3fe39106"
      }
     },
     "6f3b499cd37a412792138dcf18bc89db": {
      "model_module": "@jupyter-widgets/controls",
      "model_module_version": "1.5.0",
      "model_name": "SliderStyleModel",
      "state": {
       "description_width": ""
      }
     },
     "6f4a764a9cb943c4827905230715f985": {
      "model_module": "@jupyter-widgets/base",
      "model_module_version": "1.2.0",
      "model_name": "LayoutModel",
      "state": {}
     },
     "6f50c65c06484d90a74083fa36a8e60c": {
      "model_module": "@jupyter-widgets/base",
      "model_module_version": "1.2.0",
      "model_name": "LayoutModel",
      "state": {}
     },
     "6f661444b983447a9f8777663e42e80f": {
      "model_module": "@jupyter-widgets/controls",
      "model_module_version": "1.5.0",
      "model_name": "ButtonStyleModel",
      "state": {}
     },
     "6fc81252709045e0bee752cd23b99594": {
      "model_module": "@jupyter-widgets/base",
      "model_module_version": "1.2.0",
      "model_name": "LayoutModel",
      "state": {
       "border": "solid 4px #222",
       "margin": "4px",
       "padding": "0"
      }
     },
     "6ff0085ef2d3482299ba0035e512e3f5": {
      "model_module": "@jupyter-widgets/controls",
      "model_module_version": "1.5.0",
      "model_name": "CheckboxModel",
      "state": {
       "description": "Disable Medicina",
       "disabled": false,
       "layout": "IPY_MODEL_e6adac02068b403b8ef144fb133e0ffa",
       "style": "IPY_MODEL_05f462d24fc1460bbec18f9f37944d2a",
       "value": false
      }
     },
     "700c9bd2115b4368b1a30c7f999fc5d9": {
      "model_module": "@jupyter-widgets/controls",
      "model_module_version": "1.5.0",
      "model_name": "DescriptionStyleModel",
      "state": {
       "description_width": ""
      }
     },
     "70b6d450ce5741ae9100e6ce0a2b5926": {
      "model_module": "@jupyter-widgets/base",
      "model_module_version": "1.2.0",
      "model_name": "LayoutModel",
      "state": {}
     },
     "70be7de005164c23a5560f07d21def46": {
      "model_module": "@jupyter-widgets/controls",
      "model_module_version": "1.5.0",
      "model_name": "ButtonModel",
      "state": {
       "description": "Reset Saturation Controls",
       "layout": "IPY_MODEL_e40fcc28669d46cf99adf15fb7c28742",
       "style": "IPY_MODEL_fe6f430d9fca4814aabcc51cdae27cf4"
      }
     },
     "70d3c953d7c1471d88041e82a7c58a87": {
      "model_module": "@jupyter-widgets/controls",
      "model_module_version": "1.5.0",
      "model_name": "DescriptionStyleModel",
      "state": {
       "description_width": ""
      }
     },
     "70e21281aae148d5a5a665f8095e720d": {
      "model_module": "@jupyter-widgets/controls",
      "model_module_version": "1.5.0",
      "model_name": "ButtonModel",
      "state": {
       "description": "Save Figure",
       "layout": "IPY_MODEL_f922667e289149ed9a98407a20568e92",
       "style": "IPY_MODEL_ac7da4da0578473f98b9d8e701dc3bfc"
      }
     },
     "70f971a4ec8f4355a1764cff0510347b": {
      "model_module": "@jupyter-widgets/base",
      "model_module_version": "1.2.0",
      "model_name": "LayoutModel",
      "state": {}
     },
     "710122d7ca7546e4afdbde100374adff": {
      "model_module": "@jupyter-widgets/controls",
      "model_module_version": "1.5.0",
      "model_name": "ButtonStyleModel",
      "state": {}
     },
     "71169075897e4aa6901bcb9477b524c3": {
      "model_module": "@jupyter-widgets/controls",
      "model_module_version": "1.5.0",
      "model_name": "CheckboxModel",
      "state": {
       "description": "Show Out-of-Gamut",
       "disabled": false,
       "layout": "IPY_MODEL_9e9725ab12cb451ab76e3e202c981baf",
       "style": "IPY_MODEL_90a3c3655dfe4882a5971fb60ac42226",
       "value": false
      }
     },
     "711f9b5ceb06462b9afc9d6740078134": {
      "model_module": "@jupyter-widgets/base",
      "model_module_version": "1.2.0",
      "model_name": "LayoutModel",
      "state": {}
     },
     "71810c32c60a4b2bac3d95720fa99445": {
      "model_module": "@jupyter-widgets/controls",
      "model_module_version": "1.5.0",
      "model_name": "SliderStyleModel",
      "state": {
       "description_width": ""
      }
     },
     "71b0f6ae266c45bd88ce06047fa39c4e": {
      "model_module": "@jupyter-widgets/controls",
      "model_module_version": "1.5.0",
      "model_name": "ButtonModel",
      "state": {
       "description": "Reset Exposure",
       "layout": "IPY_MODEL_c7eebf7f67644bd092df9b9c574a1e5c",
       "style": "IPY_MODEL_c0a305a577f947ccbd9a2e18a3633183"
      }
     },
     "71dcc595f52e4f54a9abcd109b25af21": {
      "model_module": "@jupyter-widgets/controls",
      "model_module_version": "1.5.0",
      "model_name": "DescriptionStyleModel",
      "state": {
       "description_width": ""
      }
     },
     "71efac519a8f42d788d693d6e2c3cec4": {
      "model_module": "@jupyter-widgets/base",
      "model_module_version": "1.2.0",
      "model_name": "LayoutModel",
      "state": {}
     },
     "720a245fa19745fab78b8eee8bb4a101": {
      "model_module": "@jupyter-widgets/controls",
      "model_module_version": "1.5.0",
      "model_name": "DropdownModel",
      "state": {
       "_options_labels": [
        "sRGB",
        "sRGB (ACES)",
        "Display P3",
        "Display P3 (ACES)"
       ],
       "description": "View Transform:",
       "index": 0,
       "layout": "IPY_MODEL_021b13c2a3654fb6abe866a5bfd3db31",
       "style": "IPY_MODEL_91ee70c27981438298ef804dceff59bf"
      }
     },
     "722d0406d4634698b0c8c4022bc0dc2c": {
      "model_module": "@jupyter-widgets/base",
      "model_module_version": "1.2.0",
      "model_name": "LayoutModel",
      "state": {}
     },
     "725d70f5625e4d0bb23e09fbd4b317cd": {
      "model_module": "@jupyter-widgets/controls",
      "model_module_version": "1.5.0",
      "model_name": "SliderStyleModel",
      "state": {
       "description_width": ""
      }
     },
     "72692d99a1014faeb4f452d97acb9b9a": {
      "model_module": "@jupyter-widgets/controls",
      "model_module_version": "1.5.0",
      "model_name": "SliderStyleModel",
      "state": {
       "description_width": ""
      }
     },
     "72741ff7d72d4e18874070fa701af415": {
      "model_module": "@jupyter-widgets/controls",
      "model_module_version": "1.5.0",
      "model_name": "SliderStyleModel",
      "state": {
       "description_width": ""
      }
     },
     "72779291178e40fa85c780b674478831": {
      "model_module": "@jupyter-widgets/base",
      "model_module_version": "1.2.0",
      "model_name": "LayoutModel",
      "state": {}
     },
     "72e6baa7e97a4f3ca8a3e004d4ebdab1": {
      "model_module": "@jupyter-widgets/controls",
      "model_module_version": "1.5.0",
      "model_name": "SliderStyleModel",
      "state": {
       "description_width": ""
      }
     },
     "73006ec60d1f4f6ebcc925353af82c4d": {
      "model_module": "@jupyter-widgets/base",
      "model_module_version": "1.2.0",
      "model_name": "LayoutModel",
      "state": {}
     },
     "730833807f3943f3ae7e789b9db4adb6": {
      "model_module": "@jupyter-widgets/controls",
      "model_module_version": "1.5.0",
      "model_name": "ButtonStyleModel",
      "state": {}
     },
     "73118080a375453c8cb19482d05751ec": {
      "model_module": "@jupyter-widgets/controls",
      "model_module_version": "1.5.0",
      "model_name": "TabModel",
      "state": {
       "_titles": {
        "0": "Global Controls",
        "1": "Viewer Controls",
        "2": "Compression Controls"
       },
       "children": [
        "IPY_MODEL_21b145e2ff254cd2acf2c6d3efea5f50",
        "IPY_MODEL_ff46b12d03a44056ae4d859595e6e6c8",
        "IPY_MODEL_a45edd302ca249fa8a3beea61ba65b49"
       ],
       "layout": "IPY_MODEL_559d7e169f564f5cb5346bf522738708"
      }
     },
     "7332f9a889af4f21a88c6bd1cda2f140": {
      "model_module": "@jupyter-widgets/base",
      "model_module_version": "1.2.0",
      "model_name": "LayoutModel",
      "state": {}
     },
     "734e1dde02b245fc9c5ca490943a7da8": {
      "model_module": "@jupyter-widgets/controls",
      "model_module_version": "1.5.0",
      "model_name": "FloatSliderModel",
      "state": {
       "description": "Protected Area Threshold",
       "layout": "IPY_MODEL_03a8b8e73aeb45cbaaf1f642ef9e9eca",
       "max": 1,
       "step": 0.01,
       "style": "IPY_MODEL_320adf5292de477fb7582656f66aa2fa",
       "value": 0.7
      }
     },
     "7359c14c77b7463b8b470268085e2ba2": {
      "model_module": "@jupyter-widgets/base",
      "model_module_version": "1.2.0",
      "model_name": "LayoutModel",
      "state": {}
     },
     "7365f1dcea434392a870c761e0f30cf4": {
      "model_module": "@jupyter-widgets/controls",
      "model_module_version": "1.5.0",
      "model_name": "ButtonStyleModel",
      "state": {}
     },
     "736e091da3b5472a9e6cc3886c0cac1a": {
      "model_module": "@jupyter-widgets/output",
      "model_module_version": "1.0.0",
      "model_name": "OutputModel",
      "state": {
       "layout": "IPY_MODEL_0d07a2ac8e9c406c8a3ade778b60ce41",
       "outputs": [
        {
         "data": {
          "application/vnd.jupyter.widget-view+json": {
           "model_id": "76b159371b7e4b1289a63fd6323741c8",
           "version_major": 2,
           "version_minor": 0
          },
          "text/plain": "Canvas(toolbar=Toolbar(toolitems=[('Home', 'Reset original view', 'home', 'home'), ('Back', 'Back to previous …"
         },
         "metadata": {},
         "output_type": "display_data"
        }
       ]
      }
     },
     "737997bde1e04e80b039a19f58ded7e7": {
      "model_module": "@jupyter-widgets/controls",
      "model_module_version": "1.5.0",
      "model_name": "ButtonStyleModel",
      "state": {}
     },
     "737c35161b864530ae0eedec227f7813": {
      "model_module": "@jupyter-widgets/controls",
      "model_module_version": "1.5.0",
      "model_name": "VBoxModel",
      "state": {
       "children": [
        "IPY_MODEL_c85432c3c78b4435a3dd6cf401d4241d",
        "IPY_MODEL_84bf83806543405db9d897b98eaf34da",
        "IPY_MODEL_6870993f11224ff8900f6a2e5d66ef29"
       ],
       "layout": "IPY_MODEL_6c0d9f4325a44c08a4eedb41442f102f"
      }
     },
     "738247c9298b4c5aa4d656ee198ce5ba": {
      "model_module": "jupyter-matplotlib",
      "model_module_version": "^0.7.2",
      "model_name": "ToolbarModel",
      "state": {
       "layout": "IPY_MODEL_61cfb14cbfc540bda1b7b1247cd2b092",
       "toolitems": [
        [
         "Home",
         "Reset original view",
         "home",
         "home"
        ],
        [
         "Back",
         "Back to previous view",
         "arrow-left",
         "back"
        ],
        [
         "Forward",
         "Forward to next view",
         "arrow-right",
         "forward"
        ],
        [
         "Pan",
         "Pan axes with left mouse, zoom with right",
         "arrows",
         "pan"
        ],
        [
         "Zoom",
         "Zoom to rectangle",
         "square-o",
         "zoom"
        ],
        [
         "Download",
         "Download plot",
         "floppy-o",
         "save_figure"
        ]
       ]
      }
     },
     "73b3846ebd344c4ab194128bcce00a87": {
      "model_module": "@jupyter-widgets/base",
      "model_module_version": "1.2.0",
      "model_name": "LayoutModel",
      "state": {}
     },
     "73ca970cec9240609082f2f4ebd27bb0": {
      "model_module": "@jupyter-widgets/controls",
      "model_module_version": "1.5.0",
      "model_name": "FloatSliderModel",
      "state": {
       "description": "90°",
       "layout": "IPY_MODEL_3cba23680a6e434dad5ad3e1d3715ad6",
       "max": 1,
       "min": -1,
       "step": 0.01,
       "style": "IPY_MODEL_e0992b06dcf64882834cce84b8511f96"
      }
     },
     "73d44457f8dc400dbcb22c9009b7818f": {
      "model_module": "@jupyter-widgets/controls",
      "model_module_version": "1.5.0",
      "model_name": "SliderStyleModel",
      "state": {
       "description_width": ""
      }
     },
     "73e0020d97c24ac6a068d11a63fba44e": {
      "model_module": "@jupyter-widgets/base",
      "model_module_version": "1.2.0",
      "model_name": "LayoutModel",
      "state": {}
     },
     "7400a382c96f46038c517713c8919b22": {
      "model_module": "@jupyter-widgets/controls",
      "model_module_version": "1.5.0",
      "model_name": "DescriptionStyleModel",
      "state": {
       "description_width": ""
      }
     },
     "7414fceddda943c6bb63c9988215cbcc": {
      "model_module": "@jupyter-widgets/controls",
      "model_module_version": "1.5.0",
      "model_name": "SliderStyleModel",
      "state": {
       "description_width": ""
      }
     },
     "74379e587bc443d38af4978503c325e9": {
      "model_module": "@jupyter-widgets/controls",
      "model_module_version": "1.5.0",
      "model_name": "SliderStyleModel",
      "state": {
       "description_width": ""
      }
     },
     "7470dd52b010416785d54840ed4a34c5": {
      "model_module": "@jupyter-widgets/base",
      "model_module_version": "1.2.0",
      "model_name": "LayoutModel",
      "state": {}
     },
     "747194e6bcb545cda169e8129c38ae14": {
      "model_module": "@jupyter-widgets/controls",
      "model_module_version": "1.5.0",
      "model_name": "ButtonStyleModel",
      "state": {}
     },
     "74ac40a091b240068a8b990175eb1377": {
      "model_module": "@jupyter-widgets/base",
      "model_module_version": "1.2.0",
      "model_name": "LayoutModel",
      "state": {}
     },
     "75090dc7e5154525bb7cd696e35cf688": {
      "model_module": "@jupyter-widgets/controls",
      "model_module_version": "1.5.0",
      "model_name": "DescriptionStyleModel",
      "state": {
       "description_width": ""
      }
     },
     "75637bd22f77423296dea48815f15d43": {
      "model_module": "@jupyter-widgets/controls",
      "model_module_version": "1.5.0",
      "model_name": "DropdownModel",
      "state": {
       "_options_labels": [
        "tanh",
        "atan",
        "simple"
       ],
       "description": "Compression Function:",
       "index": 0,
       "layout": "IPY_MODEL_46a44a2b64dc4c74bd2cb5c747e15987",
       "style": "IPY_MODEL_1984928e8fd841e6a1c86ef47212a644"
      }
     },
     "7585443a92fe4e5eb7a18006ab0d9abb": {
      "model_module": "@jupyter-widgets/controls",
      "model_module_version": "1.5.0",
      "model_name": "FloatSliderModel",
      "state": {
       "description": "45°",
       "layout": "IPY_MODEL_f571f8daf7fc4d31a87af9af5272a0ea",
       "max": 1,
       "min": -1,
       "step": 0.01,
       "style": "IPY_MODEL_af7750b98d7747b0b59fc903d1f76c25"
      }
     },
     "75888680e387445c8310741f5d81277a": {
      "model_module": "@jupyter-widgets/base",
      "model_module_version": "1.2.0",
      "model_name": "LayoutModel",
      "state": {}
     },
     "75a47ee4117a4f3f8b0e40b19669b897": {
      "model_module": "@jupyter-widgets/controls",
      "model_module_version": "1.5.0",
      "model_name": "ButtonStyleModel",
      "state": {}
     },
     "75b4799bab624282aaaf734b0caf85d1": {
      "model_module": "@jupyter-widgets/controls",
      "model_module_version": "1.5.0",
      "model_name": "VBoxModel",
      "state": {
       "children": [
        "IPY_MODEL_a03d24051a054e658d9bb161df54e369",
        "IPY_MODEL_a93a7c220845432cacd406ff540e8b4f"
       ],
       "layout": "IPY_MODEL_54949d9b0ec3490592641c72fd3d4e31"
      }
     },
     "75cc1427ef2c4a679707351e5aa41a4b": {
      "model_module": "@jupyter-widgets/controls",
      "model_module_version": "1.5.0",
      "model_name": "FloatSliderModel",
      "state": {
       "description": "180°",
       "layout": "IPY_MODEL_30c6ab2f688b452c9f9237bd4f1ee678",
       "max": 1,
       "min": -1,
       "step": 0.01,
       "style": "IPY_MODEL_21f872c6debf4fd19c25fc2866ccb33c"
      }
     },
     "75fa4d0123e642ed850e8ba9e94e02f6": {
      "model_module": "@jupyter-widgets/base",
      "model_module_version": "1.2.0",
      "model_name": "LayoutModel",
      "state": {}
     },
     "760e2ad006fa4b329184a7540586c37c": {
      "model_module": "@jupyter-widgets/controls",
      "model_module_version": "1.5.0",
      "model_name": "ButtonModel",
      "state": {
       "description": "Reset Exposure",
       "layout": "IPY_MODEL_d4729fa8f1ad470691afcd366a88645e",
       "style": "IPY_MODEL_e2a2034d8dfa467d942718b525c356f0"
      }
     },
     "76231fe3ee6e4c1ba21adb88e75d231b": {
      "model_module": "@jupyter-widgets/controls",
      "model_module_version": "1.5.0",
      "model_name": "FloatSliderModel",
      "state": {
       "description": "0°",
       "layout": "IPY_MODEL_34e0eb980e5e4004b655651bb4185d53",
       "max": 1,
       "min": -1,
       "step": 0.01,
       "style": "IPY_MODEL_4c0f61e6428748c7b244116cbcf57d24"
      }
     },
     "7659aa586c964ce19f4db361dc3e58fa": {
      "model_module": "@jupyter-widgets/controls",
      "model_module_version": "1.5.0",
      "model_name": "HBoxModel",
      "state": {
       "children": [
        "IPY_MODEL_516c9a354b9a464eb46cc3fe0ee2e0ef",
        "IPY_MODEL_ceef75fb4959462eb991b55b88108f06",
        "IPY_MODEL_c73543121e1b4ffabc2a91cf3e9b96e6"
       ],
       "layout": "IPY_MODEL_8c84338584d04d93a05c887d179e2dfa"
      }
     },
     "766b59d6aa1347b6837dc72b1bdcc00c": {
      "model_module": "@jupyter-widgets/base",
      "model_module_version": "1.2.0",
      "model_name": "LayoutModel",
      "state": {}
     },
     "76804f84c14342d2bba5293de9714318": {
      "model_module": "@jupyter-widgets/controls",
      "model_module_version": "1.5.0",
      "model_name": "DescriptionStyleModel",
      "state": {
       "description_width": ""
      }
     },
     "76b159371b7e4b1289a63fd6323741c8": {
      "model_module": "jupyter-matplotlib",
      "model_module_version": "^0.7.2",
      "model_name": "MPLCanvasModel",
      "state": {
       "_figure_label": "Figure 27",
       "_height": 550,
       "_width": 1100,
       "header_visible": false,
       "layout": "IPY_MODEL_8c526e70f14147c79b6446be9d36269d",
       "resizable": false,
       "toolbar": "IPY_MODEL_167ca7545cf445b0aebb31a315f8954d",
       "toolbar_position": "left",
       "toolbar_visible": false
      }
     },
     "76cb4d26bd804891a512b59405d95166": {
      "model_module": "@jupyter-widgets/controls",
      "model_module_version": "1.5.0",
      "model_name": "ButtonModel",
      "state": {
       "description": "Export Image",
       "layout": "IPY_MODEL_7359c14c77b7463b8b470268085e2ba2",
       "style": "IPY_MODEL_f7819491b6af4ecfbc5159069494ec8c"
      }
     },
     "76d8b51cd6ec459ab844cee69b4733d4": {
      "model_module": "@jupyter-widgets/controls",
      "model_module_version": "1.5.0",
      "model_name": "SliderStyleModel",
      "state": {
       "description_width": ""
      }
     },
     "76e81a35ef334ce39acf27636ac75071": {
      "model_module": "@jupyter-widgets/base",
      "model_module_version": "1.2.0",
      "model_name": "LayoutModel",
      "state": {}
     },
     "770d7be744fe44fa99286307a56810fb": {
      "model_module": "@jupyter-widgets/controls",
      "model_module_version": "1.5.0",
      "model_name": "TabModel",
      "state": {
       "_titles": {
        "0": "Global Controls",
        "1": "Viewer Controls"
       },
       "children": [
        "IPY_MODEL_a94cf238ed5647d38aa43908092d0d81",
        "IPY_MODEL_0e899a5bfb9f485eb35dad3c522f6468"
       ],
       "layout": "IPY_MODEL_7edd9c061fa64ac4bd113c46e8dc71ac"
      }
     },
     "771cd68035b04704864b5e3b879b0287": {
      "model_module": "@jupyter-widgets/controls",
      "model_module_version": "1.5.0",
      "model_name": "ButtonModel",
      "state": {
       "description": "Save Figure",
       "layout": "IPY_MODEL_0033bc16e7a24d68928d0acc85bfb2b4",
       "style": "IPY_MODEL_0440b56506e149588dced7079341128c"
      }
     },
     "771d6b388aab4f0ba87cd65ab6c5ec2d": {
      "model_module": "@jupyter-widgets/controls",
      "model_module_version": "1.5.0",
      "model_name": "FloatSliderModel",
      "state": {
       "description": "315°",
       "layout": "IPY_MODEL_ff90488fc05f4cfbbaed01d354272950",
       "max": 1,
       "min": -1,
       "step": 0.01,
       "style": "IPY_MODEL_97844117d0e64104be1cfe680c76fb8d"
      }
     },
     "77530c8ceab34ac2a2a836f846d1b4e3": {
      "model_module": "@jupyter-widgets/controls",
      "model_module_version": "1.5.0",
      "model_name": "SliderStyleModel",
      "state": {
       "description_width": ""
      }
     },
     "778e8e8c03a54e28b30e4d652ebca097": {
      "model_module": "@jupyter-widgets/controls",
      "model_module_version": "1.5.0",
      "model_name": "ButtonModel",
      "state": {
       "description": "Reset Protected Area",
       "layout": "IPY_MODEL_4eb9fed2c4144e9d89f9bb53a29438f7",
       "style": "IPY_MODEL_182a00f7991f41e9bde60791cd53205a"
      }
     },
     "77bbfe4760c747cd9019e7ee2f07f67a": {
      "model_module": "@jupyter-widgets/base",
      "model_module_version": "1.2.0",
      "model_name": "LayoutModel",
      "state": {}
     },
     "77ef2d26175b4fa381362b20f10a0a26": {
      "model_module": "@jupyter-widgets/base",
      "model_module_version": "1.2.0",
      "model_name": "LayoutModel",
      "state": {}
     },
     "783aa31e0ad1426faec018d706983ffa": {
      "model_module": "@jupyter-widgets/controls",
      "model_module_version": "1.5.0",
      "model_name": "DescriptionStyleModel",
      "state": {
       "description_width": ""
      }
     },
     "784f80c4741747a2a18a6d6cc6d87c0e": {
      "model_module": "@jupyter-widgets/controls",
      "model_module_version": "1.5.0",
      "model_name": "CheckboxModel",
      "state": {
       "description": "Disable Medicina",
       "disabled": false,
       "layout": "IPY_MODEL_c03bcb75663c4867a6b2db2c1b32c17c",
       "style": "IPY_MODEL_429b1c9123ae416ab9b533f094402d2b",
       "value": true
      }
     },
     "787f71710aad4892bfcf4c546daa1bf6": {
      "model_module": "jupyter-matplotlib",
      "model_module_version": "^0.7.2",
      "model_name": "MPLCanvasModel",
      "state": {
       "_figure_label": "Figure 25",
       "_height": 440,
       "_width": 1100,
       "header_visible": false,
       "layout": "IPY_MODEL_a112ad1686b640e292bb535d39c2599e",
       "resizable": false,
       "toolbar": "IPY_MODEL_687fd06a6c464e35b60ae7eee5513077",
       "toolbar_position": "left",
       "toolbar_visible": false
      }
     },
     "78913134d6694cde824a52c7cb6ac31a": {
      "model_module": "@jupyter-widgets/base",
      "model_module_version": "1.2.0",
      "model_name": "LayoutModel",
      "state": {}
     },
     "7895448dd1be49ab889355e8f6d0762c": {
      "model_module": "@jupyter-widgets/controls",
      "model_module_version": "1.5.0",
      "model_name": "FloatSliderModel",
      "state": {
       "description": "45°",
       "layout": "IPY_MODEL_c8960cb31d0042d9accf1eddbcb20776",
       "max": 1,
       "min": -1,
       "step": 0.01,
       "style": "IPY_MODEL_35f0fbdb8bf143c0ac2a364fe0aec7d0"
      }
     },
     "78b143d5108043fdbb84694d3f861c32": {
      "model_module": "@jupyter-widgets/controls",
      "model_module_version": "1.5.0",
      "model_name": "DescriptionStyleModel",
      "state": {
       "description_width": ""
      }
     },
     "78b87a7c66954c08ba40384c700e48fd": {
      "model_module": "@jupyter-widgets/base",
      "model_module_version": "1.2.0",
      "model_name": "LayoutModel",
      "state": {}
     },
     "78facb0d8beb43649925380e2225e98a": {
      "model_module": "@jupyter-widgets/base",
      "model_module_version": "1.2.0",
      "model_name": "LayoutModel",
      "state": {}
     },
     "791a301d86454aefbe953c91b0ec341a": {
      "model_module": "@jupyter-widgets/controls",
      "model_module_version": "1.5.0",
      "model_name": "FloatSliderModel",
      "state": {
       "description": "225°",
       "layout": "IPY_MODEL_35b22b2b16544a49b08976ebb7a4a4c6",
       "max": 1,
       "min": -1,
       "step": 0.01,
       "style": "IPY_MODEL_b385c385148e48159d8e112ff8887b1a"
      }
     },
     "799285f486e749099553b53b50993e55": {
      "model_module": "@jupyter-widgets/base",
      "model_module_version": "1.2.0",
      "model_name": "LayoutModel",
      "state": {}
     },
     "7994c7bec70841cd8e69e57408a00ea7": {
      "model_module": "@jupyter-widgets/controls",
      "model_module_version": "1.5.0",
      "model_name": "FloatSliderModel",
      "state": {
       "description": "0°",
       "layout": "IPY_MODEL_3297c7ff8f5a4923b746c76a487b576b",
       "max": 1,
       "min": -1,
       "step": 0.01,
       "style": "IPY_MODEL_ec4467aa97ef447da97201132171463e"
      }
     },
     "79a50ae8c1474b0281ff23c54160e0b9": {
      "model_module": "@jupyter-widgets/controls",
      "model_module_version": "1.5.0",
      "model_name": "DescriptionStyleModel",
      "state": {
       "description_width": ""
      }
     },
     "79b226dbc75646a099f846d0a2215262": {
      "model_module": "@jupyter-widgets/base",
      "model_module_version": "1.2.0",
      "model_name": "LayoutModel",
      "state": {}
     },
     "79b338ebd65b43ada87096e8498c003d": {
      "model_module": "@jupyter-widgets/controls",
      "model_module_version": "1.5.0",
      "model_name": "HBoxModel",
      "state": {
       "children": [
        "IPY_MODEL_d82d20cec4ab4e5a946ce26453762f5c",
        "IPY_MODEL_2924622cd2684dc4bd55f7b8986e6428",
        "IPY_MODEL_3dcc1aedf96a4962b72677e44a2422ab"
       ],
       "layout": "IPY_MODEL_c491d36825104ae9901e3dccf024a6a8"
      }
     },
     "79d6834f2dab434bb55ae181469eab10": {
      "model_module": "@jupyter-widgets/controls",
      "model_module_version": "1.5.0",
      "model_name": "FloatSliderModel",
      "state": {
       "description": "135°",
       "layout": "IPY_MODEL_54fbf0f779124638ba2f15f1928c68a4",
       "max": 1,
       "min": -1,
       "step": 0.01,
       "style": "IPY_MODEL_fb5a4721d40d4fad9f843646127c5416"
      }
     },
     "79e443d05d864941aa4d718c9b0c2029": {
      "model_module": "@jupyter-widgets/base",
      "model_module_version": "1.2.0",
      "model_name": "LayoutModel",
      "state": {}
     },
     "7a3e1d7f4b2548758b59b4f704c29ec9": {
      "model_module": "@jupyter-widgets/controls",
      "model_module_version": "1.5.0",
      "model_name": "SliderStyleModel",
      "state": {
       "description_width": ""
      }
     },
     "7a5d2400a4e34e7b9dc5cc14cf3d3cea": {
      "model_module": "jupyter-matplotlib",
      "model_module_version": "^0.7.2",
      "model_name": "ToolbarModel",
      "state": {
       "layout": "IPY_MODEL_236f7622894b4ae69242401fb71a42ac",
       "toolitems": [
        [
         "Home",
         "Reset original view",
         "home",
         "home"
        ],
        [
         "Back",
         "Back to previous view",
         "arrow-left",
         "back"
        ],
        [
         "Forward",
         "Forward to next view",
         "arrow-right",
         "forward"
        ],
        [
         "Pan",
         "Pan axes with left mouse, zoom with right",
         "arrows",
         "pan"
        ],
        [
         "Zoom",
         "Zoom to rectangle",
         "square-o",
         "zoom"
        ],
        [
         "Download",
         "Download plot",
         "floppy-o",
         "save_figure"
        ]
       ]
      }
     },
     "7a8e7d46302d43bc8e1106fab3668fe5": {
      "model_module": "@jupyter-widgets/controls",
      "model_module_version": "1.5.0",
      "model_name": "ButtonModel",
      "state": {
       "description": "Save Figure",
       "layout": "IPY_MODEL_cbc0528d4fdc488e84a5a171c38d0a61",
       "style": "IPY_MODEL_5fed9fc885dc449da872d1b1f9d57ca0"
      }
     },
     "7a9064de5aba4107864fa1b7bc5944f2": {
      "model_module": "@jupyter-widgets/controls",
      "model_module_version": "1.5.0",
      "model_name": "ButtonStyleModel",
      "state": {}
     },
     "7aa01dd9ca38460db70ccbbc8fe5bd06": {
      "model_module": "@jupyter-widgets/base",
      "model_module_version": "1.2.0",
      "model_name": "LayoutModel",
      "state": {}
     },
     "7aa06994835b4d5c9fae2a72de2d271e": {
      "model_module": "@jupyter-widgets/controls",
      "model_module_version": "1.5.0",
      "model_name": "SliderStyleModel",
      "state": {
       "description_width": ""
      }
     },
     "7aa73038beb74b35b72e3b8af1e0c86f": {
      "model_module": "@jupyter-widgets/controls",
      "model_module_version": "1.5.0",
      "model_name": "FloatSliderModel",
      "state": {
       "description": "Compression Threshold",
       "layout": "IPY_MODEL_29b2b4e7c00f4814bf4211ed0d9db6b6",
       "max": 1,
       "step": 0.01,
       "style": "IPY_MODEL_a80908da76d149b78ca1206df017087e",
       "value": 0.5
      }
     },
     "7adbcf4df64d474ab5ee9a4d97b221b6": {
      "model_module": "@jupyter-widgets/controls",
      "model_module_version": "1.5.0",
      "model_name": "ButtonStyleModel",
      "state": {}
     },
     "7af8b5122b534a48b848284ee0755c8a": {
      "model_module": "@jupyter-widgets/controls",
      "model_module_version": "1.5.0",
      "model_name": "FloatSliderModel",
      "state": {
       "description": "Exposure",
       "layout": "IPY_MODEL_ebe29df262d8460b9e2a465947ba490a",
       "max": 8,
       "min": -8,
       "step": 0.1,
       "style": "IPY_MODEL_4d393de5057b474494ddac1f0423938f"
      }
     },
     "7afa107d395446b0ac304b192ce5f483": {
      "model_module": "@jupyter-widgets/controls",
      "model_module_version": "1.5.0",
      "model_name": "CheckboxModel",
      "state": {
       "description": "Disable Medicina",
       "disabled": false,
       "layout": "IPY_MODEL_51b4d644fd7144678e33c9bd36b0cd12",
       "style": "IPY_MODEL_4625ef54ad8040b79932fd1d2977a1f5",
       "value": false
      }
     },
     "7b018343fe894e59828dbbdc2981cf7d": {
      "model_module": "@jupyter-widgets/controls",
      "model_module_version": "1.5.0",
      "model_name": "VBoxModel",
      "state": {
       "children": [
        "IPY_MODEL_d4e225512eb24e799138a4226a7b623e",
        "IPY_MODEL_7895448dd1be49ab889355e8f6d0762c",
        "IPY_MODEL_916f2d7dc1384f489800c852c5c4eafe"
       ],
       "layout": "IPY_MODEL_47b7db8d376248138e9bb2a028f05f6f"
      }
     },
     "7b325c229d51485d9cab87b6d8e2a940": {
      "model_module": "@jupyter-widgets/controls",
      "model_module_version": "1.5.0",
      "model_name": "ButtonModel",
      "state": {
       "description": "Reset Hue Controls",
       "layout": "IPY_MODEL_7cdceb2896cc47cc95c0e017402913fc",
       "style": "IPY_MODEL_acf1e204c97543faaf3fe5c1e2ceb1d3"
      }
     },
     "7b73f0ff06234f15ae7470308171a3d9": {
      "model_module": "@jupyter-widgets/base",
      "model_module_version": "1.2.0",
      "model_name": "LayoutModel",
      "state": {}
     },
     "7ba27bf21a6a4f98ac2441686e61e076": {
      "model_module": "jupyter-matplotlib",
      "model_module_version": "^0.7.2",
      "model_name": "MPLCanvasModel",
      "state": {
       "_figure_label": "Figure 9",
       "_height": 458,
       "_width": 1099,
       "header_visible": false,
       "layout": "IPY_MODEL_eabc5e9b583e4698bc4f83b724f8f998",
       "resizable": false,
       "toolbar": "IPY_MODEL_bc1a4d231fd54bf4b7e98d31d6511d3a",
       "toolbar_position": "left",
       "toolbar_visible": false
      }
     },
     "7bb5c000e3714e06b5a7bd5f2ba11fda": {
      "model_module": "@jupyter-widgets/base",
      "model_module_version": "1.2.0",
      "model_name": "LayoutModel",
      "state": {}
     },
     "7bc9814dd6ce439f862aca8fd89621a8": {
      "model_module": "@jupyter-widgets/controls",
      "model_module_version": "1.5.0",
      "model_name": "ButtonModel",
      "state": {
       "description": "Reset Saturation Controls",
       "layout": "IPY_MODEL_26e9c1bad32c4a9aa54a22c393970187",
       "style": "IPY_MODEL_c0fcbbcec465430283abf8f72b8575ce"
      }
     },
     "7bdf44924fdf41ed88a45ce03a3425a9": {
      "model_module": "@jupyter-widgets/base",
      "model_module_version": "1.2.0",
      "model_name": "LayoutModel",
      "state": {}
     },
     "7befc525c399415f8d9a396632a6d75a": {
      "model_module": "@jupyter-widgets/controls",
      "model_module_version": "1.5.0",
      "model_name": "SliderStyleModel",
      "state": {
       "description_width": ""
      }
     },
     "7bf8644a64744c51909c5062a3856a78": {
      "model_module": "@jupyter-widgets/controls",
      "model_module_version": "1.5.0",
      "model_name": "SliderStyleModel",
      "state": {
       "description_width": ""
      }
     },
     "7c0e37db93c84c66ad021430d69b1e5f": {
      "model_module": "@jupyter-widgets/base",
      "model_module_version": "1.2.0",
      "model_name": "LayoutModel",
      "state": {}
     },
     "7c57e9efce334005958fcdbec3dd3c34": {
      "model_module": "@jupyter-widgets/controls",
      "model_module_version": "1.5.0",
      "model_name": "SliderStyleModel",
      "state": {
       "description_width": ""
      }
     },
     "7c64571d7a1d4d5d8461fe266a4c8895": {
      "model_module": "@jupyter-widgets/base",
      "model_module_version": "1.2.0",
      "model_name": "LayoutModel",
      "state": {}
     },
     "7c744949806f43b995df06b22a53a8bb": {
      "model_module": "@jupyter-widgets/controls",
      "model_module_version": "1.5.0",
      "model_name": "DescriptionStyleModel",
      "state": {
       "description_width": ""
      }
     },
     "7c88a9fbe7744684b8093c2a5125c9b4": {
      "model_module": "@jupyter-widgets/controls",
      "model_module_version": "1.5.0",
      "model_name": "VBoxModel",
      "state": {
       "children": [
        "IPY_MODEL_bbf172c74cab483e944e998082d3ca2a",
        "IPY_MODEL_9010a769164e4c11b1a852f06e865be3",
        "IPY_MODEL_9c4d4f44f7d447bb83a09304b657e5c2"
       ],
       "layout": "IPY_MODEL_dcc4e05383fe4956a82d7a62b57ccf41"
      }
     },
     "7cdceb2896cc47cc95c0e017402913fc": {
      "model_module": "@jupyter-widgets/base",
      "model_module_version": "1.2.0",
      "model_name": "LayoutModel",
      "state": {}
     },
     "7d1d387dca384db789c47c05babd158d": {
      "model_module": "@jupyter-widgets/base",
      "model_module_version": "1.2.0",
      "model_name": "LayoutModel",
      "state": {}
     },
     "7d5d0f9182a9499c9094d9cc2fb3c567": {
      "model_module": "@jupyter-widgets/base",
      "model_module_version": "1.2.0",
      "model_name": "LayoutModel",
      "state": {}
     },
     "7d66fde2429642e39d7414b35493c8e3": {
      "model_module": "@jupyter-widgets/controls",
      "model_module_version": "1.5.0",
      "model_name": "DescriptionStyleModel",
      "state": {
       "description_width": ""
      }
     },
     "7d911bd362f14f76aaf6e733f95464c0": {
      "model_module": "@jupyter-widgets/controls",
      "model_module_version": "1.5.0",
      "model_name": "FloatSliderModel",
      "state": {
       "description": "0°",
       "layout": "IPY_MODEL_c2900dd2641d4f3b8b1c26d9829fd222",
       "max": 1,
       "min": -1,
       "step": 0.01,
       "style": "IPY_MODEL_01c49e64a10e4f169d847452869b86bf"
      }
     },
     "7da4a4350e284117ba830b21e3cce59f": {
      "model_module": "@jupyter-widgets/controls",
      "model_module_version": "1.5.0",
      "model_name": "FloatSliderModel",
      "state": {
       "description": "Exposure",
       "layout": "IPY_MODEL_abc068825dad4c24a1132a2cde8c980e",
       "max": 8,
       "min": -8,
       "step": 0.1,
       "style": "IPY_MODEL_11c7dfdf3d6246019134c08ac3bdf8bf"
      }
     },
     "7daf4e6953c649a69a6988059f5d74eb": {
      "model_module": "@jupyter-widgets/base",
      "model_module_version": "1.2.0",
      "model_name": "LayoutModel",
      "state": {}
     },
     "7e159d8fb1fc49d0809e5d8bad545a04": {
      "model_module": "@jupyter-widgets/base",
      "model_module_version": "1.2.0",
      "model_name": "LayoutModel",
      "state": {}
     },
     "7e2cc8ee70f54c439da9399d69bff6b8": {
      "model_module": "@jupyter-widgets/controls",
      "model_module_version": "1.5.0",
      "model_name": "SliderStyleModel",
      "state": {
       "description_width": ""
      }
     },
     "7e5d2357ae12483ab5eda85974fef422": {
      "model_module": "@jupyter-widgets/controls",
      "model_module_version": "1.5.0",
      "model_name": "ButtonModel",
      "state": {
       "description": "Export Image",
       "layout": "IPY_MODEL_ac366c3031a54cc0b831c17a61a2e084",
       "style": "IPY_MODEL_a87ce921f8ca45c3a994a93548885542"
      }
     },
     "7e65b68350d94be6a26662f7b04286cf": {
      "model_module": "@jupyter-widgets/controls",
      "model_module_version": "1.5.0",
      "model_name": "SliderStyleModel",
      "state": {
       "description_width": ""
      }
     },
     "7e77293051854751a98069a8940e320c": {
      "model_module": "@jupyter-widgets/base",
      "model_module_version": "1.2.0",
      "model_name": "LayoutModel",
      "state": {}
     },
     "7e924b8772d84c95a46009b0ec1c5410": {
      "model_module": "@jupyter-widgets/controls",
      "model_module_version": "1.5.0",
      "model_name": "ButtonModel",
      "state": {
       "description": "Reset Protected Area",
       "layout": "IPY_MODEL_a531f7a44ba14014a0f62d10b410a530",
       "style": "IPY_MODEL_ca988d1c8a404629bc48f4ad8dbb75b4"
      }
     },
     "7eaf3ce2a2d04367a07ef27f662b9087": {
      "model_module": "@jupyter-widgets/base",
      "model_module_version": "1.2.0",
      "model_name": "LayoutModel",
      "state": {}
     },
     "7eb4d66dc0284e5eb4702a98ee48524f": {
      "model_module": "@jupyter-widgets/controls",
      "model_module_version": "1.5.0",
      "model_name": "FloatSliderModel",
      "state": {
       "description": "Exposure",
       "layout": "IPY_MODEL_1625e7f3bafe47e488154b5926741fd7",
       "max": 8,
       "min": -8,
       "step": 0.1,
       "style": "IPY_MODEL_72692d99a1014faeb4f452d97acb9b9a"
      }
     },
     "7edd9c061fa64ac4bd113c46e8dc71ac": {
      "model_module": "@jupyter-widgets/base",
      "model_module_version": "1.2.0",
      "model_name": "LayoutModel",
      "state": {
       "border": "solid 4px #222",
       "margin": "4px",
       "padding": "0"
      }
     },
     "7f0fa67533cf42eea4ab68f4578fd323": {
      "model_module": "@jupyter-widgets/base",
      "model_module_version": "1.2.0",
      "model_name": "LayoutModel",
      "state": {}
     },
     "7f13d48880774d6b8665fad328bdb61e": {
      "model_module": "@jupyter-widgets/controls",
      "model_module_version": "1.5.0",
      "model_name": "ButtonModel",
      "state": {
       "description": "Reset Saturation Controls",
       "layout": "IPY_MODEL_847db4835c5f4a1280498767f92ed9a7",
       "style": "IPY_MODEL_6a004de04ba14e179946203dd37f3767"
      }
     },
     "7f1c7d3500a142c4b864309ed9747d68": {
      "model_module": "@jupyter-widgets/base",
      "model_module_version": "1.2.0",
      "model_name": "LayoutModel",
      "state": {}
     },
     "7f1ed98fa2f24c72ac099ae9401d4d7c": {
      "model_module": "@jupyter-widgets/controls",
      "model_module_version": "1.5.0",
      "model_name": "VBoxModel",
      "state": {
       "children": [
        "IPY_MODEL_5756d120d27e48ac96105f6f6eea0c40",
        "IPY_MODEL_92ad395920fb44c68c51d4e85c1618d3"
       ],
       "layout": "IPY_MODEL_25a7fdd825a549ddb8528c422d25ce1e"
      }
     },
     "7f335addb56b4ec2beaca39243b82118": {
      "model_module": "@jupyter-widgets/controls",
      "model_module_version": "1.5.0",
      "model_name": "ButtonModel",
      "state": {
       "description": "Export Image",
       "layout": "IPY_MODEL_276c82681ee340aaba119e2c957dfbe2",
       "style": "IPY_MODEL_b488d1a5a2f94689886d36ce810f7721"
      }
     },
     "7f5763b4ea3d42ba87870e689eb63d2f": {
      "model_module": "@jupyter-widgets/base",
      "model_module_version": "1.2.0",
      "model_name": "LayoutModel",
      "state": {}
     },
     "7f9bf864607b40368cb98582445c7e6b": {
      "model_module": "@jupyter-widgets/controls",
      "model_module_version": "1.5.0",
      "model_name": "HBoxModel",
      "state": {
       "children": [
        "IPY_MODEL_8bad0adb750944fd9590722fe98de968",
        "IPY_MODEL_5431e2501609404c8a3226293fc9d3e1"
       ],
       "layout": "IPY_MODEL_7bdf44924fdf41ed88a45ce03a3425a9"
      }
     },
     "7f9ff1f2658c48dd94d1ce57cd40c2b7": {
      "model_module": "@jupyter-widgets/base",
      "model_module_version": "1.2.0",
      "model_name": "LayoutModel",
      "state": {}
     },
     "7fad4681be334d6db0863266ff06110e": {
      "model_module": "@jupyter-widgets/controls",
      "model_module_version": "1.5.0",
      "model_name": "HBoxModel",
      "state": {
       "children": [
        "IPY_MODEL_bca5e289f17e4a85a309bfae95ea0116",
        "IPY_MODEL_333107939e784aac99c94a68fbc69992",
        "IPY_MODEL_06ec05fe6b194065adfebef56961e393",
        "IPY_MODEL_f10b9331b91d4e508b70b5bdf8f2242a"
       ],
       "layout": "IPY_MODEL_83702b7082264733a2a43c73669c4498"
      }
     },
     "7fb04f4ce3ae459b88dea3b3988fe252": {
      "model_module": "@jupyter-widgets/base",
      "model_module_version": "1.2.0",
      "model_name": "LayoutModel",
      "state": {}
     },
     "7fc798ec46344d7a8289810a56153518": {
      "model_module": "@jupyter-widgets/controls",
      "model_module_version": "1.5.0",
      "model_name": "VBoxModel",
      "state": {
       "children": [
        "IPY_MODEL_ea197b6d78c44915814a840568b782b6",
        "IPY_MODEL_ed3472c0c4fa46c9937a45fd0965c5d9"
       ],
       "layout": "IPY_MODEL_f6bcf51c8fd34440b387c275b3e27525"
      }
     },
     "7fcf6617e5f64c9996b59ee07c84d0a0": {
      "model_module": "@jupyter-widgets/base",
      "model_module_version": "1.2.0",
      "model_name": "LayoutModel",
      "state": {}
     },
     "7fd8bc497721423799f208b4036ee916": {
      "model_module": "@jupyter-widgets/controls",
      "model_module_version": "1.5.0",
      "model_name": "CheckboxModel",
      "state": {
       "description": "Disable Medicina",
       "disabled": false,
       "layout": "IPY_MODEL_ed9c3742c53943b3b3b327fda5941fd1",
       "style": "IPY_MODEL_6109b3d808e2452ea14e4edf67fadcd6",
       "value": false
      }
     },
     "802dcd79d1f2470185fcfa1d5e90bc02": {
      "model_module": "@jupyter-widgets/controls",
      "model_module_version": "1.5.0",
      "model_name": "HBoxModel",
      "state": {
       "children": [
        "IPY_MODEL_f9e1db4239e8416e9e9464df5cf0e00d",
        "IPY_MODEL_f5f2d790f5054005bb943855adba464f",
        "IPY_MODEL_9c31f89705fb4deaaa0c5926031a5658",
        "IPY_MODEL_1b289f1897924b0aad7fd1a860a1975e"
       ],
       "layout": "IPY_MODEL_60d9e22cc22741278fc62b44a85c8cf7"
      }
     },
     "8096eb88db4d454e9f7330a30e7fa7b2": {
      "model_module": "@jupyter-widgets/base",
      "model_module_version": "1.2.0",
      "model_name": "LayoutModel",
      "state": {}
     },
     "809ccdc70da84d149b8fe12cce2dcf8d": {
      "model_module": "@jupyter-widgets/base",
      "model_module_version": "1.2.0",
      "model_name": "LayoutModel",
      "state": {}
     },
     "809ea9de8a164248bf760000a923b0f1": {
      "model_module": "@jupyter-widgets/controls",
      "model_module_version": "1.5.0",
      "model_name": "ButtonStyleModel",
      "state": {}
     },
     "80e2845a0dd04b57b1a9b780832d151e": {
      "model_module": "@jupyter-widgets/controls",
      "model_module_version": "1.5.0",
      "model_name": "SliderStyleModel",
      "state": {
       "description_width": ""
      }
     },
     "80ef1410bd524496b457326035ac002d": {
      "model_module": "@jupyter-widgets/controls",
      "model_module_version": "1.5.0",
      "model_name": "HBoxModel",
      "state": {
       "children": [
        "IPY_MODEL_45e91ed3926c4c3abb10d137e160f9c1",
        "IPY_MODEL_070778b9c4944eaa9d096c872f8929f0"
       ],
       "layout": "IPY_MODEL_e33407efdfca42e88c4685043e865b8c"
      }
     },
     "8109d474a183408b941200722ba211f5": {
      "model_module": "@jupyter-widgets/output",
      "model_module_version": "1.0.0",
      "model_name": "OutputModel",
      "state": {
       "layout": "IPY_MODEL_a1ef0a9abf954e50a964690cc5293eeb",
       "outputs": [
        {
         "data": {
          "application/vnd.jupyter.widget-view+json": {
           "model_id": "a79664e915e94654ac08c37dd5bbb68a",
           "version_major": 2,
           "version_minor": 0
          },
          "text/plain": "Canvas(toolbar=Toolbar(toolitems=[('Home', 'Reset original view', 'home', 'home'), ('Back', 'Back to previous …"
         },
         "metadata": {},
         "output_type": "display_data"
        }
       ]
      }
     },
     "8151b67a3c7b45f4b0e6cc0edad718b7": {
      "model_module": "@jupyter-widgets/controls",
      "model_module_version": "1.5.0",
      "model_name": "DescriptionStyleModel",
      "state": {
       "description_width": ""
      }
     },
     "815ced530073466888eb1bf22fa19ac8": {
      "model_module": "@jupyter-widgets/base",
      "model_module_version": "1.2.0",
      "model_name": "LayoutModel",
      "state": {}
     },
     "81997847c6c4442ba0eb20126a67dccf": {
      "model_module": "@jupyter-widgets/controls",
      "model_module_version": "1.5.0",
      "model_name": "ButtonStyleModel",
      "state": {}
     },
     "819f3ccb90194c29b8c408661191f9c9": {
      "model_module": "@jupyter-widgets/controls",
      "model_module_version": "1.5.0",
      "model_name": "FloatSliderModel",
      "state": {
       "description": "Compression Threshold",
       "layout": "IPY_MODEL_3f28dfda99044ef2be6465463846e620",
       "max": 1,
       "step": 0.01,
       "style": "IPY_MODEL_5454d1b67c814489ac34c9772d1aa22c",
       "value": 0.8
      }
     },
     "81ea6fa9b4194a019e74bfaa3fb4a532": {
      "model_module": "@jupyter-widgets/controls",
      "model_module_version": "1.5.0",
      "model_name": "VBoxModel",
      "state": {
       "children": [
        "IPY_MODEL_2526339d8d4d4c8d9c80a9280a5e5249",
        "IPY_MODEL_dd9a88a523134da2bdd414ac17ad3c3b"
       ],
       "layout": "IPY_MODEL_563bb88d7cb4492cb460341ba262ddaa"
      }
     },
     "82234dba9fd54d3cbb90c36a98763ac0": {
      "model_module": "@jupyter-widgets/controls",
      "model_module_version": "1.5.0",
      "model_name": "ButtonModel",
      "state": {
       "description": "Reset Saturation Controls",
       "layout": "IPY_MODEL_d7bc034a1c7b43b99c025770749ed4ed",
       "style": "IPY_MODEL_48d5cd36c67f4bf99e317a2d53a8c738"
      }
     },
     "82514338de264cc8a61e533c65ba6c0b": {
      "model_module": "@jupyter-widgets/base",
      "model_module_version": "1.2.0",
      "model_name": "LayoutModel",
      "state": {}
     },
     "828b0415426648919cb97c58051216e4": {
      "model_module": "@jupyter-widgets/controls",
      "model_module_version": "1.5.0",
      "model_name": "SliderStyleModel",
      "state": {
       "description_width": ""
      }
     },
     "828b36dbecfe4a598a5f8496909a280b": {
      "model_module": "@jupyter-widgets/controls",
      "model_module_version": "1.5.0",
      "model_name": "ButtonStyleModel",
      "state": {}
     },
     "82eb1df0fd444982b7a788dfba39a1d0": {
      "model_module": "@jupyter-widgets/controls",
      "model_module_version": "1.5.0",
      "model_name": "DropdownModel",
      "state": {
       "_options_labels": [
        "sRGB",
        "sRGB (ACES)",
        "Display P3",
        "Display P3 (ACES)"
       ],
       "description": "View Transform:",
       "index": 0,
       "layout": "IPY_MODEL_ee53b67a0f9d4649989c61c2142108d2",
       "style": "IPY_MODEL_687dacea469c400984107a9ae44a8bd1"
      }
     },
     "832ac73a541c4f4d966bb8cffffec0f4": {
      "model_module": "@jupyter-widgets/base",
      "model_module_version": "1.2.0",
      "model_name": "LayoutModel",
      "state": {}
     },
     "833419728ef641cb8b97ef6a858098fa": {
      "model_module": "@jupyter-widgets/controls",
      "model_module_version": "1.5.0",
      "model_name": "FloatSliderModel",
      "state": {
       "description": "Exposure",
       "layout": "IPY_MODEL_2d02b7ab84824059a0fe1b5adabd15c7",
       "max": 8,
       "min": -8,
       "step": 0.1,
       "style": "IPY_MODEL_fbd246b46a8a41789a860618eb264766"
      }
     },
     "83389d26c9d547329a0837215cafbcdc": {
      "model_module": "@jupyter-widgets/controls",
      "model_module_version": "1.5.0",
      "model_name": "ButtonModel",
      "state": {
       "description": "Save Figure",
       "layout": "IPY_MODEL_6b30920a115043dc96d012bdbd42379a",
       "style": "IPY_MODEL_acf752254cea49e186fd7300b5a7c16c"
      }
     },
     "833a8c46f6a146778d15680dc9994882": {
      "model_module": "@jupyter-widgets/controls",
      "model_module_version": "1.5.0",
      "model_name": "SliderStyleModel",
      "state": {
       "description_width": ""
      }
     },
     "834246c0ef5846f99c6d312a54354bd5": {
      "model_module": "@jupyter-widgets/controls",
      "model_module_version": "1.5.0",
      "model_name": "FloatSliderModel",
      "state": {
       "description": "45°",
       "layout": "IPY_MODEL_a683281459a744f282cfb576cabd110f",
       "max": 1,
       "min": -1,
       "step": 0.01,
       "style": "IPY_MODEL_ec0ee930ccdf4fd198e48544719ba3a0"
      }
     },
     "835b2cfe7ba345dca10a45c7bc14bec9": {
      "model_module": "@jupyter-widgets/base",
      "model_module_version": "1.2.0",
      "model_name": "LayoutModel",
      "state": {}
     },
     "836cffa790a84215ba4993ce7164b48b": {
      "model_module": "@jupyter-widgets/controls",
      "model_module_version": "1.5.0",
      "model_name": "HBoxModel",
      "state": {
       "children": [
        "IPY_MODEL_ca7d32015eb54f9ea847a7dba728826e",
        "IPY_MODEL_667d8595a9f441ddbdd74df4f9520ed4",
        "IPY_MODEL_c8d7578fb4bd42cab4c5df084b8186c7",
        "IPY_MODEL_50ea09c74aa540549af87079531760c0"
       ],
       "layout": "IPY_MODEL_8dcfa9fad0184aebac34491ee40fd83e"
      }
     },
     "836f91f1f6cb42d5b09ed04251470aad": {
      "model_module": "@jupyter-widgets/controls",
      "model_module_version": "1.5.0",
      "model_name": "VBoxModel",
      "state": {
       "children": [
        "IPY_MODEL_4bfe8fb8c7c745eb9bc4426517cf6906",
        "IPY_MODEL_036e6dc02dbd4258946831957f682bb8"
       ],
       "layout": "IPY_MODEL_47c8ab4533a442fba28bcae63b7c860b"
      }
     },
     "83702b7082264733a2a43c73669c4498": {
      "model_module": "@jupyter-widgets/base",
      "model_module_version": "1.2.0",
      "model_name": "LayoutModel",
      "state": {}
     },
     "83da88ebec074bcc8501eaa131019709": {
      "model_module": "@jupyter-widgets/base",
      "model_module_version": "1.2.0",
      "model_name": "LayoutModel",
      "state": {}
     },
     "83e5321635204dceb85976dedda64410": {
      "model_module": "@jupyter-widgets/base",
      "model_module_version": "1.2.0",
      "model_name": "LayoutModel",
      "state": {}
     },
     "84169b77ee344b4a9a2c9d361e0cffc0": {
      "model_module": "@jupyter-widgets/base",
      "model_module_version": "1.2.0",
      "model_name": "LayoutModel",
      "state": {}
     },
     "842ab474b7ea476ab3388f398d1891e2": {
      "model_module": "@jupyter-widgets/controls",
      "model_module_version": "1.5.0",
      "model_name": "HBoxModel",
      "state": {
       "children": [
        "IPY_MODEL_10dbacf58edc4928bc0df08bf74fb90e",
        "IPY_MODEL_49ad8a033bed4a2f8f42f64afbb295f9",
        "IPY_MODEL_9e0ff500b4aa4e058744e09d310386ca"
       ],
       "layout": "IPY_MODEL_97195d3ab37347c3802a324d8ce8ab88"
      }
     },
     "8436d86e6edb4bb49f41c5763ea56402": {
      "model_module": "@jupyter-widgets/base",
      "model_module_version": "1.2.0",
      "model_name": "LayoutModel",
      "state": {}
     },
     "844177b109b14b69bbfa525aaba39bdc": {
      "model_module": "@jupyter-widgets/base",
      "model_module_version": "1.2.0",
      "model_name": "LayoutModel",
      "state": {}
     },
     "844dcba8c6614f4abe39854311d71d39": {
      "model_module": "@jupyter-widgets/base",
      "model_module_version": "1.2.0",
      "model_name": "LayoutModel",
      "state": {}
     },
     "845dad9785a34973af6366930513c718": {
      "model_module": "@jupyter-widgets/controls",
      "model_module_version": "1.5.0",
      "model_name": "ButtonStyleModel",
      "state": {}
     },
     "847db4835c5f4a1280498767f92ed9a7": {
      "model_module": "@jupyter-widgets/base",
      "model_module_version": "1.2.0",
      "model_name": "LayoutModel",
      "state": {}
     },
     "8482b74d05ac48ac97918aca9cda1b92": {
      "model_module": "@jupyter-widgets/base",
      "model_module_version": "1.2.0",
      "model_name": "LayoutModel",
      "state": {}
     },
     "84ac18b480104b08a2ad40fc728efc9a": {
      "model_module": "@jupyter-widgets/controls",
      "model_module_version": "1.5.0",
      "model_name": "FloatSliderModel",
      "state": {
       "description": "0°",
       "layout": "IPY_MODEL_0a56b9f712014a46826f2f7ff8c41eb6",
       "max": 1,
       "min": -1,
       "step": 0.01,
       "style": "IPY_MODEL_d96c573cbb2a4df1a1a8b007a8bee2ed"
      }
     },
     "84bf83806543405db9d897b98eaf34da": {
      "model_module": "@jupyter-widgets/controls",
      "model_module_version": "1.5.0",
      "model_name": "FloatSliderModel",
      "state": {
       "description": "180°",
       "layout": "IPY_MODEL_009752db8f9b4b6ba915c71d6ae37283",
       "max": 1,
       "min": -1,
       "step": 0.01,
       "style": "IPY_MODEL_cd159779df704be5ada2a39ad009f2a1"
      }
     },
     "84e5528b0aaf47c0b8f80dbde81e63d9": {
      "model_module": "jupyter-matplotlib",
      "model_module_version": "^0.7.2",
      "model_name": "ToolbarModel",
      "state": {
       "layout": "IPY_MODEL_59dee1cd828a43e9a243c5a9b0cf2ad7",
       "toolitems": [
        [
         "Home",
         "Reset original view",
         "home",
         "home"
        ],
        [
         "Back",
         "Back to previous view",
         "arrow-left",
         "back"
        ],
        [
         "Forward",
         "Forward to next view",
         "arrow-right",
         "forward"
        ],
        [
         "Pan",
         "Pan axes with left mouse, zoom with right",
         "arrows",
         "pan"
        ],
        [
         "Zoom",
         "Zoom to rectangle",
         "square-o",
         "zoom"
        ],
        [
         "Download",
         "Download plot",
         "floppy-o",
         "save_figure"
        ]
       ]
      }
     },
     "84e6497640fd432dbf01b85940adac8f": {
      "model_module": "@jupyter-widgets/base",
      "model_module_version": "1.2.0",
      "model_name": "LayoutModel",
      "state": {}
     },
     "84f49798da7947068be5c2e3d9253204": {
      "model_module": "@jupyter-widgets/controls",
      "model_module_version": "1.5.0",
      "model_name": "ButtonStyleModel",
      "state": {}
     },
     "84f651ceb09540449ef877d99a815dc6": {
      "model_module": "@jupyter-widgets/controls",
      "model_module_version": "1.5.0",
      "model_name": "DescriptionStyleModel",
      "state": {
       "description_width": ""
      }
     },
     "851887775b5a4b73b26c9b6cfb7199e6": {
      "model_module": "@jupyter-widgets/controls",
      "model_module_version": "1.5.0",
      "model_name": "TabModel",
      "state": {
       "_titles": {
        "0": "Global Controls",
        "1": "Viewer Controls"
       },
       "children": [
        "IPY_MODEL_d9c1923a068642599cabf4e6dccdf8bf",
        "IPY_MODEL_b3d878418ce749efb8450cff4b2ad8d2"
       ],
       "layout": "IPY_MODEL_be03961b03f24aedb84f0baf6ae25523"
      }
     },
     "853ab96bf1bc49e0ab51a3b1c40dee92": {
      "model_module": "@jupyter-widgets/base",
      "model_module_version": "1.2.0",
      "model_name": "LayoutModel",
      "state": {}
     },
     "854176b91aee47a18eb7c2c09f7cd938": {
      "model_module": "@jupyter-widgets/base",
      "model_module_version": "1.2.0",
      "model_name": "LayoutModel",
      "state": {}
     },
     "8549212e8ae24db280b227ab8762baa1": {
      "model_module": "@jupyter-widgets/output",
      "model_module_version": "1.0.0",
      "model_name": "OutputModel",
      "state": {
       "layout": "IPY_MODEL_d28d3ccdfc114e33a140e296f2bfc139",
       "outputs": [
        {
         "data": {
          "application/vnd.jupyter.widget-view+json": {
           "model_id": "b26adcbf40fa4c3185ce6efffc37cb27",
           "version_major": 2,
           "version_minor": 0
          },
          "text/plain": "Canvas(toolbar=Toolbar(toolitems=[('Home', 'Reset original view', 'home', 'home'), ('Back', 'Back to previous …"
         },
         "metadata": {},
         "output_type": "display_data"
        }
       ]
      }
     },
     "856b67b894404c819c55b1c6c6e3f461": {
      "model_module": "@jupyter-widgets/controls",
      "model_module_version": "1.5.0",
      "model_name": "ButtonStyleModel",
      "state": {}
     },
     "85849b82f850490f985a6c65e4b97481": {
      "model_module": "@jupyter-widgets/controls",
      "model_module_version": "1.5.0",
      "model_name": "ButtonStyleModel",
      "state": {}
     },
     "85dd3c6cb0ec441aa1eee5d54e70c449": {
      "model_module": "@jupyter-widgets/controls",
      "model_module_version": "1.5.0",
      "model_name": "HBoxModel",
      "state": {
       "children": [
        "IPY_MODEL_bd5cb9edeaf349b895187923a0e69aba",
        "IPY_MODEL_88c0ff4d626942b28050921446bcb80d",
        "IPY_MODEL_a57112841b504e7fb7f43ab366b78257"
       ],
       "layout": "IPY_MODEL_7e159d8fb1fc49d0809e5d8bad545a04"
      }
     },
     "86164ffb6d1c4b8781f582b4ea51932f": {
      "model_module": "@jupyter-widgets/controls",
      "model_module_version": "1.5.0",
      "model_name": "SliderStyleModel",
      "state": {
       "description_width": ""
      }
     },
     "862a52a9777f4fec9b638d0e89160d12": {
      "model_module": "@jupyter-widgets/base",
      "model_module_version": "1.2.0",
      "model_name": "LayoutModel",
      "state": {}
     },
     "865947e5885446aa9eb7dd0fab0b4389": {
      "model_module": "@jupyter-widgets/base",
      "model_module_version": "1.2.0",
      "model_name": "LayoutModel",
      "state": {}
     },
     "8678e16373f242f4af35b61840df80aa": {
      "model_module": "@jupyter-widgets/base",
      "model_module_version": "1.2.0",
      "model_name": "LayoutModel",
      "state": {}
     },
     "8695345d0e124686845afdffaeb73b5b": {
      "model_module": "@jupyter-widgets/controls",
      "model_module_version": "1.5.0",
      "model_name": "FloatSliderModel",
      "state": {
       "description": "180°",
       "layout": "IPY_MODEL_b1aca8a275674d49a26b48a976f6620f",
       "max": 1,
       "min": -1,
       "step": 0.01,
       "style": "IPY_MODEL_38ae15a76a1b4b769bff55d811abe70b"
      }
     },
     "86a1f45557754ad8872fe5363cffebcd": {
      "model_module": "@jupyter-widgets/controls",
      "model_module_version": "1.5.0",
      "model_name": "ButtonModel",
      "state": {
       "description": "Reset Exposure",
       "layout": "IPY_MODEL_91e423daffe448d1b56d8e4913dc978d",
       "style": "IPY_MODEL_44ab0ca9aa4a49489d91b51eac4260dc"
      }
     },
     "86b556af76084dbb8f268567999eb4ff": {
      "model_module": "@jupyter-widgets/controls",
      "model_module_version": "1.5.0",
      "model_name": "DescriptionStyleModel",
      "state": {
       "description_width": ""
      }
     },
     "86e64c1cfcd448abbc0bc2a08bf49115": {
      "model_module": "@jupyter-widgets/controls",
      "model_module_version": "1.5.0",
      "model_name": "ButtonStyleModel",
      "state": {}
     },
     "86ebf01bd32e44588c0ea4e101001784": {
      "model_module": "@jupyter-widgets/base",
      "model_module_version": "1.2.0",
      "model_name": "LayoutModel",
      "state": {}
     },
     "86f732fdc4e44cb3bd6256c2e5b412f9": {
      "model_module": "@jupyter-widgets/base",
      "model_module_version": "1.2.0",
      "model_name": "LayoutModel",
      "state": {}
     },
     "86f7c84c21e74e0f9ed2061ff8297ca3": {
      "model_module": "@jupyter-widgets/base",
      "model_module_version": "1.2.0",
      "model_name": "LayoutModel",
      "state": {}
     },
     "871918c228814f14b2a574507521e22c": {
      "model_module": "jupyter-matplotlib",
      "model_module_version": "^0.7.2",
      "model_name": "ToolbarModel",
      "state": {
       "layout": "IPY_MODEL_8678e16373f242f4af35b61840df80aa",
       "toolitems": [
        [
         "Home",
         "Reset original view",
         "home",
         "home"
        ],
        [
         "Back",
         "Back to previous view",
         "arrow-left",
         "back"
        ],
        [
         "Forward",
         "Forward to next view",
         "arrow-right",
         "forward"
        ],
        [
         "Pan",
         "Pan axes with left mouse, zoom with right",
         "arrows",
         "pan"
        ],
        [
         "Zoom",
         "Zoom to rectangle",
         "square-o",
         "zoom"
        ],
        [
         "Download",
         "Download plot",
         "floppy-o",
         "save_figure"
        ]
       ]
      }
     },
     "8741e7e05f904e309f45fd54d0a18f1f": {
      "model_module": "@jupyter-widgets/controls",
      "model_module_version": "1.5.0",
      "model_name": "SliderStyleModel",
      "state": {
       "description_width": ""
      }
     },
     "8744621f6acd4b0cb969e87d2399e9fa": {
      "model_module": "@jupyter-widgets/base",
      "model_module_version": "1.2.0",
      "model_name": "LayoutModel",
      "state": {}
     },
     "874fe8662b544cacb908a1bb79062325": {
      "model_module": "@jupyter-widgets/controls",
      "model_module_version": "1.5.0",
      "model_name": "CheckboxModel",
      "state": {
       "description": "Show Out-of-Gamut",
       "disabled": false,
       "layout": "IPY_MODEL_e89a9a9d48c644aaa5ecd244ac43a969",
       "style": "IPY_MODEL_9618e2cca8394ce88f258a60c5c36ba9",
       "value": false
      }
     },
     "87550b75897b483b87e5f228c0f48202": {
      "model_module": "@jupyter-widgets/base",
      "model_module_version": "1.2.0",
      "model_name": "LayoutModel",
      "state": {}
     },
     "87866a269c8f4775a0c79137174d1175": {
      "model_module": "@jupyter-widgets/controls",
      "model_module_version": "1.5.0",
      "model_name": "SliderStyleModel",
      "state": {
       "description_width": ""
      }
     },
     "87a28b2b198e48c59811158ce38badaa": {
      "model_module": "@jupyter-widgets/base",
      "model_module_version": "1.2.0",
      "model_name": "LayoutModel",
      "state": {}
     },
     "87af3ae0cb83405ab44cb75a61e59679": {
      "model_module": "@jupyter-widgets/base",
      "model_module_version": "1.2.0",
      "model_name": "LayoutModel",
      "state": {}
     },
     "87c73750af11409eafdd557d74d68233": {
      "model_module": "@jupyter-widgets/controls",
      "model_module_version": "1.5.0",
      "model_name": "CheckboxModel",
      "state": {
       "description": "Disable Medicina",
       "disabled": false,
       "layout": "IPY_MODEL_86ebf01bd32e44588c0ea4e101001784",
       "style": "IPY_MODEL_aab42cc90fd74daa946ee6081467f323",
       "value": false
      }
     },
     "87df5181e1714feea3ff3f31e30c1119": {
      "model_module": "@jupyter-widgets/base",
      "model_module_version": "1.2.0",
      "model_name": "LayoutModel",
      "state": {}
     },
     "882fac9dbcaf401fb31b8112cff42d47": {
      "model_module": "@jupyter-widgets/controls",
      "model_module_version": "1.5.0",
      "model_name": "ButtonModel",
      "state": {
       "description": "Export Image",
       "layout": "IPY_MODEL_a70247b170664265950f46e4dfd0ac2c",
       "style": "IPY_MODEL_15f4e4c1a328448b8f59932a6d7d7bd7"
      }
     },
     "882fe6a93e034f31ac512f448d8600e1": {
      "model_module": "@jupyter-widgets/controls",
      "model_module_version": "1.5.0",
      "model_name": "SliderStyleModel",
      "state": {
       "description_width": ""
      }
     },
     "8830ad470c1e46128b80e0f011c61ed4": {
      "model_module": "@jupyter-widgets/controls",
      "model_module_version": "1.5.0",
      "model_name": "ButtonModel",
      "state": {
       "description": "Reset Exposure",
       "layout": "IPY_MODEL_8a607a9690e14db892f3d78d840e9739",
       "style": "IPY_MODEL_6e5d87281e5549c08eb7f1dfcc73f09d"
      }
     },
     "883fadbb7cfc42caa428c7bbda240a18": {
      "model_module": "@jupyter-widgets/base",
      "model_module_version": "1.2.0",
      "model_name": "LayoutModel",
      "state": {}
     },
     "885784edaaa04502bbbb73345c1cc075": {
      "model_module": "@jupyter-widgets/controls",
      "model_module_version": "1.5.0",
      "model_name": "ButtonModel",
      "state": {
       "description": "Reset Hue Controls",
       "layout": "IPY_MODEL_bd41aab31e9241149d6eaabb45bec0a8",
       "style": "IPY_MODEL_ddbb963907cd49c8971dd564e1d26ae2"
      }
     },
     "885b362ad6a64caf9768a0ebcd891772": {
      "model_module": "@jupyter-widgets/controls",
      "model_module_version": "1.5.0",
      "model_name": "FloatSliderModel",
      "state": {
       "description": "0°",
       "layout": "IPY_MODEL_d4ad0dda3d404d7b942d7dad3c2c1aab",
       "max": 1,
       "min": -1,
       "step": 0.01,
       "style": "IPY_MODEL_f19c902f09ac4d74b78b8f283299bbe6"
      }
     },
     "886afd2d76eb4a94b3fdc8fd5fbfd846": {
      "model_module": "@jupyter-widgets/base",
      "model_module_version": "1.2.0",
      "model_name": "LayoutModel",
      "state": {}
     },
     "8879b67bc0bf408a9237d6ce226435e0": {
      "model_module": "@jupyter-widgets/controls",
      "model_module_version": "1.5.0",
      "model_name": "SliderStyleModel",
      "state": {
       "description_width": ""
      }
     },
     "88b2e0f026f8418aa116e248ca65a5d1": {
      "model_module": "@jupyter-widgets/controls",
      "model_module_version": "1.5.0",
      "model_name": "SliderStyleModel",
      "state": {
       "description_width": ""
      }
     },
     "88baeadaf076443a8d82c295774d641a": {
      "model_module": "@jupyter-widgets/controls",
      "model_module_version": "1.5.0",
      "model_name": "ButtonStyleModel",
      "state": {}
     },
     "88c0ff4d626942b28050921446bcb80d": {
      "model_module": "@jupyter-widgets/controls",
      "model_module_version": "1.5.0",
      "model_name": "ButtonModel",
      "state": {
       "description": "Export Image",
       "layout": "IPY_MODEL_dc88148cb0bd4dd29a15e56ce669d8d1",
       "style": "IPY_MODEL_b6fd76db1ea7403ba64e27b56bf7b7a0"
      }
     },
     "88c444fa34cd4a65918fccd1898a2870": {
      "model_module": "@jupyter-widgets/base",
      "model_module_version": "1.2.0",
      "model_name": "LayoutModel",
      "state": {}
     },
     "88dedaa9335a426591610a6a82fdb89f": {
      "model_module": "@jupyter-widgets/base",
      "model_module_version": "1.2.0",
      "model_name": "LayoutModel",
      "state": {}
     },
     "88e6a2ea039f4ccbb5b3da28896d1137": {
      "model_module": "@jupyter-widgets/base",
      "model_module_version": "1.2.0",
      "model_name": "LayoutModel",
      "state": {}
     },
     "88e6e00104fd44cfa58c1cbb403f18f2": {
      "model_module": "jupyter-matplotlib",
      "model_module_version": "^0.7.2",
      "model_name": "ToolbarModel",
      "state": {
       "layout": "IPY_MODEL_c96952a5b92140c2b8e5177547e4470b",
       "toolitems": [
        [
         "Home",
         "Reset original view",
         "home",
         "home"
        ],
        [
         "Back",
         "Back to previous view",
         "arrow-left",
         "back"
        ],
        [
         "Forward",
         "Forward to next view",
         "arrow-right",
         "forward"
        ],
        [
         "Pan",
         "Pan axes with left mouse, zoom with right",
         "arrows",
         "pan"
        ],
        [
         "Zoom",
         "Zoom to rectangle",
         "square-o",
         "zoom"
        ],
        [
         "Download",
         "Download plot",
         "floppy-o",
         "save_figure"
        ]
       ]
      }
     },
     "8903677e033a470b9a469e347a88c1be": {
      "model_module": "@jupyter-widgets/base",
      "model_module_version": "1.2.0",
      "model_name": "LayoutModel",
      "state": {}
     },
     "89051aecca414840aacb31117c9c5b1f": {
      "model_module": "@jupyter-widgets/controls",
      "model_module_version": "1.5.0",
      "model_name": "VBoxModel",
      "state": {
       "children": [
        "IPY_MODEL_e4167f4500cc46718d5f85e4a85ec961",
        "IPY_MODEL_63505803a0cb4d4e93ac4afa99c7c345"
       ],
       "layout": "IPY_MODEL_ae7461afd51c43529722a794e9005b8b"
      }
     },
     "891ce072a8514b0fa3db9b6e269b7f51": {
      "model_module": "@jupyter-widgets/controls",
      "model_module_version": "1.5.0",
      "model_name": "ButtonModel",
      "state": {
       "description": "Save Figure",
       "layout": "IPY_MODEL_b299747947a94a05883b9abbf851c21a",
       "style": "IPY_MODEL_88baeadaf076443a8d82c295774d641a"
      }
     },
     "891e198fac3a41aba2d6ce898d9be7b7": {
      "model_module": "@jupyter-widgets/controls",
      "model_module_version": "1.5.0",
      "model_name": "CheckboxModel",
      "state": {
       "description": "Disable Medicina",
       "disabled": false,
       "layout": "IPY_MODEL_815ced530073466888eb1bf22fa19ac8",
       "style": "IPY_MODEL_e0abeca693964488b03e423cc7b217bb",
       "value": false
      }
     },
     "8962a5d89bda48f99142646f2c3085f9": {
      "model_module": "@jupyter-widgets/base",
      "model_module_version": "1.2.0",
      "model_name": "LayoutModel",
      "state": {}
     },
     "896a570db86b4e06bf0cb3ab169d21cd": {
      "model_module": "@jupyter-widgets/base",
      "model_module_version": "1.2.0",
      "model_name": "LayoutModel",
      "state": {
       "border": "solid 4px #222",
       "margin": "4px",
       "padding": "0"
      }
     },
     "8987f8fe7c0343c49e7b80438146fac7": {
      "model_module": "@jupyter-widgets/controls",
      "model_module_version": "1.5.0",
      "model_name": "SliderStyleModel",
      "state": {
       "description_width": ""
      }
     },
     "89c945bd259e4f3ea81c853683d2d365": {
      "model_module": "@jupyter-widgets/controls",
      "model_module_version": "1.5.0",
      "model_name": "SliderStyleModel",
      "state": {
       "description_width": ""
      }
     },
     "8a042386a850406580ea779c57ad6ef0": {
      "model_module": "@jupyter-widgets/controls",
      "model_module_version": "1.5.0",
      "model_name": "DropdownModel",
      "state": {
       "_options_labels": [
        "tanh",
        "atan",
        "simple"
       ],
       "description": "Compression Function:",
       "index": 0,
       "layout": "IPY_MODEL_189f3c064dcd4af28d4d832801179952",
       "style": "IPY_MODEL_9c542eed2a154864820e90a8101d0f10"
      }
     },
     "8a10434941ef48a5b828c3dc343f7db7": {
      "model_module": "@jupyter-widgets/base",
      "model_module_version": "1.2.0",
      "model_name": "LayoutModel",
      "state": {}
     },
     "8a20af1610a0431ebc3d158e20220c2b": {
      "model_module": "@jupyter-widgets/base",
      "model_module_version": "1.2.0",
      "model_name": "LayoutModel",
      "state": {}
     },
     "8a607a9690e14db892f3d78d840e9739": {
      "model_module": "@jupyter-widgets/base",
      "model_module_version": "1.2.0",
      "model_name": "LayoutModel",
      "state": {}
     },
     "8a8f6c8b45db4c6987218ea719feca07": {
      "model_module": "@jupyter-widgets/base",
      "model_module_version": "1.2.0",
      "model_name": "LayoutModel",
      "state": {}
     },
     "8ac07452a25b418194ea72ead738c69b": {
      "model_module": "@jupyter-widgets/controls",
      "model_module_version": "1.5.0",
      "model_name": "HBoxModel",
      "state": {
       "children": [
        "IPY_MODEL_279552f3ec5e46c4a758ce11595b3ea6",
        "IPY_MODEL_f5ee348149db43a7b78ba328790a5513",
        "IPY_MODEL_c6d5df7605054301bbe9df29cedae554",
        "IPY_MODEL_e9f118de89534d648b96731899dc2c8b"
       ],
       "layout": "IPY_MODEL_fdac4dd1aeac4262bc5fdf30d1dca253"
      }
     },
     "8b674e9e2bce417d9fa7939352a85ae3": {
      "model_module": "@jupyter-widgets/base",
      "model_module_version": "1.2.0",
      "model_name": "LayoutModel",
      "state": {}
     },
     "8b716d998f024c3fa1ac7b91600e7c31": {
      "model_module": "@jupyter-widgets/controls",
      "model_module_version": "1.5.0",
      "model_name": "BoxModel",
      "state": {
       "children": [
        "IPY_MODEL_22c194189df44f94a80fa2f6d0cd07fd",
        "IPY_MODEL_4d8ce8b9be0f4e55b4ba5a0bf9efa59c"
       ],
       "layout": "IPY_MODEL_4d3e2a62a9e54aa4bc5a0f147c1c7a5b"
      }
     },
     "8bad0adb750944fd9590722fe98de968": {
      "model_module": "@jupyter-widgets/controls",
      "model_module_version": "1.5.0",
      "model_name": "ButtonModel",
      "state": {
       "description": "Reset Protected Area",
       "layout": "IPY_MODEL_15eee4034da443e7969422de3fa1f77f",
       "style": "IPY_MODEL_747194e6bcb545cda169e8129c38ae14"
      }
     },
     "8bb99a17b6f24f4aab49b6a0ef4e6e68": {
      "model_module": "@jupyter-widgets/controls",
      "model_module_version": "1.5.0",
      "model_name": "BoxModel",
      "state": {
       "children": [
        "IPY_MODEL_1dc3baac051348bf829ce9ba4e1fbf46",
        "IPY_MODEL_9ae86e41b9a04e72b29437289835368a"
       ],
       "layout": "IPY_MODEL_65bd33f66e274537a0bbbaab01dd6682"
      }
     },
     "8bbd06d6e34e46babcef38e8d953dcff": {
      "model_module": "@jupyter-widgets/controls",
      "model_module_version": "1.5.0",
      "model_name": "TabModel",
      "state": {
       "_titles": {
        "0": "Global Controls",
        "1": "Viewer Controls"
       },
       "children": [
        "IPY_MODEL_79b338ebd65b43ada87096e8498c003d",
        "IPY_MODEL_56b65850107a4818b1acd070b4fdcbd3"
       ],
       "layout": "IPY_MODEL_d770953d9da74bbf874abe8e17ae8fd0"
      }
     },
     "8bc1b70b298e4432b81e5bcb81e14312": {
      "model_module": "@jupyter-widgets/base",
      "model_module_version": "1.2.0",
      "model_name": "LayoutModel",
      "state": {}
     },
     "8bd2171df2a946a8b9f3d61a7a2c9119": {
      "model_module": "@jupyter-widgets/controls",
      "model_module_version": "1.5.0",
      "model_name": "DescriptionStyleModel",
      "state": {
       "description_width": ""
      }
     },
     "8bf6a497af6d4171adeaacd1dbcb0ed4": {
      "model_module": "@jupyter-widgets/controls",
      "model_module_version": "1.5.0",
      "model_name": "ButtonStyleModel",
      "state": {}
     },
     "8c2f6f2e860c4c4a854d3d740f98a158": {
      "model_module": "@jupyter-widgets/controls",
      "model_module_version": "1.5.0",
      "model_name": "ButtonModel",
      "state": {
       "description": "Reset Hue Controls",
       "layout": "IPY_MODEL_400ee8d3dcc148438ffff9c7f6d6ba45",
       "style": "IPY_MODEL_e7567b910d5744b79d629be457a9724d"
      }
     },
     "8c31934dfcd742648dd76a3adb5836de": {
      "model_module": "@jupyter-widgets/base",
      "model_module_version": "1.2.0",
      "model_name": "LayoutModel",
      "state": {}
     },
     "8c361591b2134c8480f92249e02e5a7f": {
      "model_module": "@jupyter-widgets/controls",
      "model_module_version": "1.5.0",
      "model_name": "FloatSliderModel",
      "state": {
       "description": "Protected Area Threshold",
       "layout": "IPY_MODEL_ff5dfa4aa33e483f9b476659f92c6b96",
       "max": 1,
       "step": 0.01,
       "style": "IPY_MODEL_5fd9ed6fb09848dc812a1bbe056f4967",
       "value": 0.7
      }
     },
     "8c526e70f14147c79b6446be9d36269d": {
      "model_module": "@jupyter-widgets/base",
      "model_module_version": "1.2.0",
      "model_name": "LayoutModel",
      "state": {}
     },
     "8c84338584d04d93a05c887d179e2dfa": {
      "model_module": "@jupyter-widgets/base",
      "model_module_version": "1.2.0",
      "model_name": "LayoutModel",
      "state": {}
     },
     "8c90d98eca50444a889960b538c4bc74": {
      "model_module": "@jupyter-widgets/base",
      "model_module_version": "1.2.0",
      "model_name": "LayoutModel",
      "state": {}
     },
     "8c94a1516bad48db9347d16c893c70cd": {
      "model_module": "@jupyter-widgets/controls",
      "model_module_version": "1.5.0",
      "model_name": "ButtonModel",
      "state": {
       "description": "Reset Hue Controls",
       "layout": "IPY_MODEL_d80ab23c1ebc44c3a461babe322a2dd1",
       "style": "IPY_MODEL_f7504e2629884101a813075c73aa3637"
      }
     },
     "8cad7f982f6f4f48a314238b74565c49": {
      "model_module": "@jupyter-widgets/controls",
      "model_module_version": "1.5.0",
      "model_name": "FloatSliderModel",
      "state": {
       "description": "225°",
       "layout": "IPY_MODEL_419bd96372cd469ba3d48c09ee8bcb1d",
       "max": 1,
       "min": -1,
       "step": 0.01,
       "style": "IPY_MODEL_ddb031897e81461aa2cb894c6352ec6e"
      }
     },
     "8cde6e8f287e4037bf08c028147475af": {
      "model_module": "@jupyter-widgets/controls",
      "model_module_version": "1.5.0",
      "model_name": "CheckboxModel",
      "state": {
       "description": "Show Out-of-Gamut",
       "disabled": false,
       "layout": "IPY_MODEL_2711881c89194e36bf730c4067fdc38c",
       "style": "IPY_MODEL_79a50ae8c1474b0281ff23c54160e0b9",
       "value": false
      }
     },
     "8d425ca2075f483e8c1b42ada8a1c3b3": {
      "model_module": "@jupyter-widgets/base",
      "model_module_version": "1.2.0",
      "model_name": "LayoutModel",
      "state": {}
     },
     "8d4303ddb34a417aa4b001439233aeb7": {
      "model_module": "@jupyter-widgets/controls",
      "model_module_version": "1.5.0",
      "model_name": "SliderStyleModel",
      "state": {
       "description_width": ""
      }
     },
     "8d55d229cce3484e93c310eb6e67ae16": {
      "model_module": "@jupyter-widgets/base",
      "model_module_version": "1.2.0",
      "model_name": "LayoutModel",
      "state": {}
     },
     "8d7e8f5cf65f4253aa0d108536087539": {
      "model_module": "@jupyter-widgets/controls",
      "model_module_version": "1.5.0",
      "model_name": "FloatSliderModel",
      "state": {
       "description": "Compression Threshold",
       "layout": "IPY_MODEL_2abecaa1cc764059a903c603fcaf26ac",
       "max": 1,
       "step": 0.01,
       "style": "IPY_MODEL_5e12d5c2a2f948d782bfdd7814f2595b",
       "value": 0.8
      }
     },
     "8d864fe7fb774b27b7e430a30bdc6abc": {
      "model_module": "@jupyter-widgets/base",
      "model_module_version": "1.2.0",
      "model_name": "LayoutModel",
      "state": {}
     },
     "8dcfa9fad0184aebac34491ee40fd83e": {
      "model_module": "@jupyter-widgets/base",
      "model_module_version": "1.2.0",
      "model_name": "LayoutModel",
      "state": {}
     },
     "8dd54af98844469883e789024c786a3e": {
      "model_module": "@jupyter-widgets/base",
      "model_module_version": "1.2.0",
      "model_name": "LayoutModel",
      "state": {}
     },
     "8dda2af76b314215b2577940ab66b6c8": {
      "model_module": "@jupyter-widgets/controls",
      "model_module_version": "1.5.0",
      "model_name": "FloatSliderModel",
      "state": {
       "description": "45°",
       "layout": "IPY_MODEL_8962a5d89bda48f99142646f2c3085f9",
       "max": 1,
       "min": -1,
       "step": 0.01,
       "style": "IPY_MODEL_73d44457f8dc400dbcb22c9009b7818f"
      }
     },
     "8df91f600cc943c595732b78675a8812": {
      "model_module": "@jupyter-widgets/base",
      "model_module_version": "1.2.0",
      "model_name": "LayoutModel",
      "state": {}
     },
     "8e0bc6a9d37241a497b6250e89c26904": {
      "model_module": "@jupyter-widgets/base",
      "model_module_version": "1.2.0",
      "model_name": "LayoutModel",
      "state": {}
     },
     "8e4f7a985e1642a0b265ff06a613c5ee": {
      "model_module": "@jupyter-widgets/controls",
      "model_module_version": "1.5.0",
      "model_name": "TabModel",
      "state": {
       "_titles": {
        "0": "Global Controls",
        "1": "Viewer Controls",
        "2": "Protected Area Controls",
        "3": "Saturation Controls",
        "4": "Hue Controls"
       },
       "children": [
        "IPY_MODEL_e292c620d33a4986aeaf6a0df3813a9f",
        "IPY_MODEL_1be560f938ee4e8891952caa2b3587ec",
        "IPY_MODEL_d48cef3b76ba4f1bbc4a30c4b5df2cf6",
        "IPY_MODEL_04d689b60c08422d9d11d32caa5d59ee",
        "IPY_MODEL_6199fb4deb914ad68aa3b008fbb690df"
       ],
       "layout": "IPY_MODEL_b77cfb5803484b4996a03810e074530a"
      }
     },
     "8e719dae070540a684851c9c80a3b461": {
      "model_module": "@jupyter-widgets/base",
      "model_module_version": "1.2.0",
      "model_name": "LayoutModel",
      "state": {}
     },
     "8e7737bd99bd4687aa9e2f8f3504414b": {
      "model_module": "@jupyter-widgets/controls",
      "model_module_version": "1.5.0",
      "model_name": "ButtonStyleModel",
      "state": {}
     },
     "8e7c42cdbcf341b4be1fe26bcc728d11": {
      "model_module": "@jupyter-widgets/controls",
      "model_module_version": "1.5.0",
      "model_name": "DropdownModel",
      "state": {
       "_options_labels": [
        "sRGB",
        "sRGB (ACES)",
        "Display P3",
        "Display P3 (ACES)"
       ],
       "description": "View Transform:",
       "index": 0,
       "layout": "IPY_MODEL_a2becc7d892c4397a809067919e3a998",
       "style": "IPY_MODEL_9bdb15bc11024b86a0b480753eb44ce1"
      }
     },
     "8e825faf49bf43eda1f032504798ce8e": {
      "model_module": "@jupyter-widgets/controls",
      "model_module_version": "1.5.0",
      "model_name": "ButtonModel",
      "state": {
       "description": "Save Figure",
       "layout": "IPY_MODEL_35520d3e17a448989f570c43bbeb9b0c",
       "style": "IPY_MODEL_93a5a3ef724049709dbce109ef7f504c"
      }
     },
     "8e873feece5f4b85b23447bf35cb915a": {
      "model_module": "@jupyter-widgets/controls",
      "model_module_version": "1.5.0",
      "model_name": "ButtonModel",
      "state": {
       "description": "Reset Exposure",
       "layout": "IPY_MODEL_d6ed343f70c741a6a458b06ae93afd6b",
       "style": "IPY_MODEL_f189ce074ff541bc85028e79558aff60"
      }
     },
     "8e8a61d15f0e47bfb583d0b0d89177b6": {
      "model_module": "@jupyter-widgets/controls",
      "model_module_version": "1.5.0",
      "model_name": "HBoxModel",
      "state": {
       "children": [
        "IPY_MODEL_ed6da19652f04619ab62dc661d009611",
        "IPY_MODEL_62717e8c5c5d4e55b0c2e432cf09e228",
        "IPY_MODEL_d996a6d1e42c449e8b6eba21acb5e6c0"
       ],
       "layout": "IPY_MODEL_a67c29a248cd4893b5ced21bb7a65dc6"
      }
     },
     "8ee636c726e2406eab62cd405a3e9446": {
      "model_module": "@jupyter-widgets/controls",
      "model_module_version": "1.5.0",
      "model_name": "ButtonModel",
      "state": {
       "description": "Export Image",
       "layout": "IPY_MODEL_7d5d0f9182a9499c9094d9cc2fb3c567",
       "style": "IPY_MODEL_33cfa3c89322443c9b6f9a4be6baf031"
      }
     },
     "8ee80174e7374938a2a242b9cdfc9923": {
      "model_module": "@jupyter-widgets/controls",
      "model_module_version": "1.5.0",
      "model_name": "DropdownModel",
      "state": {
       "_options_labels": [
        "tanh",
        "atan",
        "simple"
       ],
       "description": "Compression Function:",
       "index": 0,
       "layout": "IPY_MODEL_3710c4352fc44b1bacbbd7c54b1a467b",
       "style": "IPY_MODEL_9b8383acb44847979c88cd5536321854"
      }
     },
     "8f1e9f8af2b243a4abb5931b5ef6f0f6": {
      "model_module": "@jupyter-widgets/controls",
      "model_module_version": "1.5.0",
      "model_name": "SliderStyleModel",
      "state": {
       "description_width": ""
      }
     },
     "8f70df17f8cd46dbb321e4b896829c97": {
      "model_module": "@jupyter-widgets/controls",
      "model_module_version": "1.5.0",
      "model_name": "HBoxModel",
      "state": {
       "children": [
        "IPY_MODEL_6b82c677221e4896a2cd2cc31377f623",
        "IPY_MODEL_882fac9dbcaf401fb31b8112cff42d47",
        "IPY_MODEL_db481828effe4e9b87438d9ee9f2d745"
       ],
       "layout": "IPY_MODEL_089044f1422a4c2ba725a7b5d323022f"
      }
     },
     "8f86bed7fd2c4b2493b3467ac71d5f8d": {
      "model_module": "@jupyter-widgets/controls",
      "model_module_version": "1.5.0",
      "model_name": "FloatSliderModel",
      "state": {
       "description": "Protected Area Threshold",
       "layout": "IPY_MODEL_c5f86eacdc1e4759bd0aa316106b44ff",
       "max": 1,
       "step": 0.01,
       "style": "IPY_MODEL_b933b1198e6049acb79fe5c9149c9a4c",
       "value": 0.7
      }
     },
     "8f9716e309c3414793a79ac7bb4dfc5f": {
      "model_module": "@jupyter-widgets/controls",
      "model_module_version": "1.5.0",
      "model_name": "CheckboxModel",
      "state": {
       "description": "Disable Medicina",
       "disabled": false,
       "layout": "IPY_MODEL_ae88a8030c904993a31bca2977120a30",
       "style": "IPY_MODEL_f68b80c0004c4201ab37ac25e0cedd6a",
       "value": false
      }
     },
     "9010a769164e4c11b1a852f06e865be3": {
      "model_module": "@jupyter-widgets/controls",
      "model_module_version": "1.5.0",
      "model_name": "FloatSliderModel",
      "state": {
       "description": "45°",
       "layout": "IPY_MODEL_c5d7845ad1a441f6b00278e87985c17f",
       "max": 1,
       "min": -1,
       "step": 0.01,
       "style": "IPY_MODEL_e49d6f0157824435b4c32f2307aa673f"
      }
     },
     "9036ffa5028543ce9c2ab37c90311f20": {
      "model_module": "@jupyter-widgets/base",
      "model_module_version": "1.2.0",
      "model_name": "LayoutModel",
      "state": {}
     },
     "907bf588a6c048ed8fdce6b71f7c9455": {
      "model_module": "@jupyter-widgets/base",
      "model_module_version": "1.2.0",
      "model_name": "LayoutModel",
      "state": {}
     },
     "909cf75a51924700865134f6568cd6c8": {
      "model_module": "jupyter-matplotlib",
      "model_module_version": "^0.7.2",
      "model_name": "MPLCanvasModel",
      "state": {
       "_figure_label": "Figure 6",
       "_height": 508,
       "_width": 1100,
       "header_visible": false,
       "layout": "IPY_MODEL_f1e3fa0fdbb0400b9c07776c66984190",
       "resizable": false,
       "toolbar": "IPY_MODEL_5d1899bb98de4e729353af53844ce6a9",
       "toolbar_position": "left",
       "toolbar_visible": false
      }
     },
     "90a3c3655dfe4882a5971fb60ac42226": {
      "model_module": "@jupyter-widgets/controls",
      "model_module_version": "1.5.0",
      "model_name": "DescriptionStyleModel",
      "state": {
       "description_width": ""
      }
     },
     "90e5f285d9db4779931a1036e2c46dc4": {
      "model_module": "@jupyter-widgets/output",
      "model_module_version": "1.0.0",
      "model_name": "OutputModel",
      "state": {
       "layout": "IPY_MODEL_5ae7f8027cee4042bd3973f22546b967",
       "outputs": [
        {
         "data": {
          "application/vnd.jupyter.widget-view+json": {
           "model_id": "c9523a8d6460496dbf3f11ca4bf1b677",
           "version_major": 2,
           "version_minor": 0
          },
          "text/plain": "Canvas(toolbar=Toolbar(toolitems=[('Home', 'Reset original view', 'home', 'home'), ('Back', 'Back to previous …"
         },
         "metadata": {},
         "output_type": "display_data"
        }
       ]
      }
     },
     "9110ec55e1144f058494c5e8f71f26fb": {
      "model_module": "@jupyter-widgets/base",
      "model_module_version": "1.2.0",
      "model_name": "LayoutModel",
      "state": {}
     },
     "911131cd883949fda963e52452d791c8": {
      "model_module": "@jupyter-widgets/controls",
      "model_module_version": "1.5.0",
      "model_name": "DropdownModel",
      "state": {
       "_options_labels": [
        "sRGB",
        "sRGB (ACES)",
        "Display P3",
        "Display P3 (ACES)"
       ],
       "description": "View Transform:",
       "index": 0,
       "layout": "IPY_MODEL_c6f1134c804944deb185484ae8a31879",
       "style": "IPY_MODEL_7c744949806f43b995df06b22a53a8bb"
      }
     },
     "913acc90a1164691beaeace04cd7b664": {
      "model_module": "@jupyter-widgets/controls",
      "model_module_version": "1.5.0",
      "model_name": "ButtonModel",
      "state": {
       "description": "Reset Saturation Controls",
       "layout": "IPY_MODEL_4b268043bf2a45d69d9e37e6054d8992",
       "style": "IPY_MODEL_0639731ba59f4acba644833b17efd1fb"
      }
     },
     "9157cc6b1214497a93f44b80ee465720": {
      "model_module": "@jupyter-widgets/controls",
      "model_module_version": "1.5.0",
      "model_name": "ButtonStyleModel",
      "state": {}
     },
     "916f2d7dc1384f489800c852c5c4eafe": {
      "model_module": "@jupyter-widgets/controls",
      "model_module_version": "1.5.0",
      "model_name": "FloatSliderModel",
      "state": {
       "description": "90°",
       "layout": "IPY_MODEL_a406f4a0c07f44faa30b8569b938d8e2",
       "max": 1,
       "min": -1,
       "step": 0.01,
       "style": "IPY_MODEL_f037b45fdc9c45599bcf8e4f5ac0dbdc"
      }
     },
     "9177be5ea4284251ac0b5e3ae2b5a92c": {
      "model_module": "@jupyter-widgets/base",
      "model_module_version": "1.2.0",
      "model_name": "LayoutModel",
      "state": {}
     },
     "91a8ebfd5adb4a4c9f3dde578be2c4fc": {
      "model_module": "@jupyter-widgets/controls",
      "model_module_version": "1.5.0",
      "model_name": "FloatSliderModel",
      "state": {
       "description": "315°",
       "layout": "IPY_MODEL_6959b0f9491842268112066b3fe3e0fd",
       "max": 1,
       "min": -1,
       "step": 0.01,
       "style": "IPY_MODEL_02c6d4381384431f936a173c98914a78"
      }
     },
     "91af49f609b9418e82e860e78dcd4a9c": {
      "model_module": "@jupyter-widgets/controls",
      "model_module_version": "1.5.0",
      "model_name": "HBoxModel",
      "state": {
       "children": [
        "IPY_MODEL_d129192cc8df4931acad2cfb905fb5cd",
        "IPY_MODEL_b9650fb6636f44178cc0b01d85c41c87",
        "IPY_MODEL_49d2994369f14ec0adaf09038988dcc5"
       ],
       "layout": "IPY_MODEL_329d0bc1eddf496080da12c5b38049ce"
      }
     },
     "91e423daffe448d1b56d8e4913dc978d": {
      "model_module": "@jupyter-widgets/base",
      "model_module_version": "1.2.0",
      "model_name": "LayoutModel",
      "state": {}
     },
     "91ee70c27981438298ef804dceff59bf": {
      "model_module": "@jupyter-widgets/controls",
      "model_module_version": "1.5.0",
      "model_name": "DescriptionStyleModel",
      "state": {
       "description_width": ""
      }
     },
     "920e1c62c8f24a54ba1ef29479f704b9": {
      "model_module": "@jupyter-widgets/base",
      "model_module_version": "1.2.0",
      "model_name": "LayoutModel",
      "state": {}
     },
     "92351e06e0ce411789f9dff2a1176ea0": {
      "model_module": "@jupyter-widgets/controls",
      "model_module_version": "1.5.0",
      "model_name": "ButtonModel",
      "state": {
       "description": "Save Figure",
       "layout": "IPY_MODEL_6f50c65c06484d90a74083fa36a8e60c",
       "style": "IPY_MODEL_0873d02f5e8e45fda235bfc38846f3d7"
      }
     },
     "92376f13b66d4f2aa12bf136cbfa36bb": {
      "model_module": "@jupyter-widgets/controls",
      "model_module_version": "1.5.0",
      "model_name": "ButtonStyleModel",
      "state": {}
     },
     "9245dbb1d83b41319de99695ffe1234f": {
      "model_module": "@jupyter-widgets/base",
      "model_module_version": "1.2.0",
      "model_name": "LayoutModel",
      "state": {}
     },
     "9246b3f90cb2489187a52d44cc0b17f5": {
      "model_module": "@jupyter-widgets/base",
      "model_module_version": "1.2.0",
      "model_name": "LayoutModel",
      "state": {}
     },
     "924f606153ed4adf97f697ea48b7ac8b": {
      "model_module": "@jupyter-widgets/base",
      "model_module_version": "1.2.0",
      "model_name": "LayoutModel",
      "state": {}
     },
     "926b17b3e81a4381bae6abe88a67184c": {
      "model_module": "@jupyter-widgets/controls",
      "model_module_version": "1.5.0",
      "model_name": "HBoxModel",
      "state": {
       "children": [
        "IPY_MODEL_5e4f40a23827405586fb5f56ea7519c3",
        "IPY_MODEL_d74d5b786e9f434db33772c756da1637",
        "IPY_MODEL_116178df99604f76bc16c9f1aebb53f6",
        "IPY_MODEL_685373c295ed465b92b37e2017ff68fd"
       ],
       "layout": "IPY_MODEL_95763cf02ffa41f08a35962beed87c71"
      }
     },
     "926f9d58bbc145469c1d9ca98c0f12b8": {
      "model_module": "@jupyter-widgets/base",
      "model_module_version": "1.2.0",
      "model_name": "LayoutModel",
      "state": {}
     },
     "929b655073c74fca8f8eb8434fd63026": {
      "model_module": "@jupyter-widgets/base",
      "model_module_version": "1.2.0",
      "model_name": "LayoutModel",
      "state": {}
     },
     "92a029391b624d55b1e8991e00ced17f": {
      "model_module": "@jupyter-widgets/base",
      "model_module_version": "1.2.0",
      "model_name": "LayoutModel",
      "state": {}
     },
     "92ad395920fb44c68c51d4e85c1618d3": {
      "model_module": "@jupyter-widgets/controls",
      "model_module_version": "1.5.0",
      "model_name": "FloatSliderModel",
      "state": {
       "description": "315°",
       "layout": "IPY_MODEL_4341d201673745148b7466ae90f7356b",
       "max": 1,
       "min": -1,
       "step": 0.01,
       "style": "IPY_MODEL_1a32b841440047b09c1e48b5d33f45ab"
      }
     },
     "92b7dab7205e4499aa2235691959468c": {
      "model_module": "@jupyter-widgets/base",
      "model_module_version": "1.2.0",
      "model_name": "LayoutModel",
      "state": {}
     },
     "92ddc63f80914174b5d311297394873b": {
      "model_module": "@jupyter-widgets/controls",
      "model_module_version": "1.5.0",
      "model_name": "FloatSliderModel",
      "state": {
       "description": "315°",
       "layout": "IPY_MODEL_99793854b41546539058a1674f96f12b",
       "max": 1,
       "min": -1,
       "step": 0.01,
       "style": "IPY_MODEL_f71a68b8ba744bd3be8619d2a7ce7b51"
      }
     },
     "92f9e0e24ef247ceb967594308a9c210": {
      "model_module": "@jupyter-widgets/base",
      "model_module_version": "1.2.0",
      "model_name": "LayoutModel",
      "state": {}
     },
     "92fdf2e09a8f49a1a7599f4c9bf39d9c": {
      "model_module": "@jupyter-widgets/controls",
      "model_module_version": "1.5.0",
      "model_name": "FloatSliderModel",
      "state": {
       "description": "270°",
       "layout": "IPY_MODEL_13a215c5d38640aa804d624a5804fa33",
       "max": 1,
       "min": -1,
       "step": 0.01,
       "style": "IPY_MODEL_94c65bfb9cbf4c07a6be30f740d0f37d"
      }
     },
     "930164dff79548a3901ea1a176105721": {
      "model_module": "@jupyter-widgets/controls",
      "model_module_version": "1.5.0",
      "model_name": "HBoxModel",
      "state": {
       "children": [
        "IPY_MODEL_9c2e1947dce948f89a8763b55ffa0bef",
        "IPY_MODEL_86a1f45557754ad8872fe5363cffebcd",
        "IPY_MODEL_d66957992b594dd49909c810f2ec460a",
        "IPY_MODEL_a13ca4d116d94c078094b154877c02ca"
       ],
       "layout": "IPY_MODEL_55c49d33541645c9b60e28f5db6d06dd"
      }
     },
     "939343167c724bde9d79a9f3ac278004": {
      "model_module": "@jupyter-widgets/controls",
      "model_module_version": "1.5.0",
      "model_name": "HBoxModel",
      "state": {
       "children": [
        "IPY_MODEL_891e198fac3a41aba2d6ce898d9be7b7",
        "IPY_MODEL_55b353eae4e34aa48a26d26ad090e2d2",
        "IPY_MODEL_92351e06e0ce411789f9dff2a1176ea0"
       ],
       "layout": "IPY_MODEL_053c521e6d534e34815828cc30627512"
      }
     },
     "93a5a3ef724049709dbce109ef7f504c": {
      "model_module": "@jupyter-widgets/controls",
      "model_module_version": "1.5.0",
      "model_name": "ButtonStyleModel",
      "state": {}
     },
     "93a8c20787b24acebb1be61af62ea568": {
      "model_module": "@jupyter-widgets/base",
      "model_module_version": "1.2.0",
      "model_name": "LayoutModel",
      "state": {
       "border": "solid 4px #222",
       "margin": "4px",
       "padding": "0"
      }
     },
     "940b76934bb140f4802288bf9861cbb3": {
      "model_module": "@jupyter-widgets/controls",
      "model_module_version": "1.5.0",
      "model_name": "ButtonStyleModel",
      "state": {}
     },
     "942b2bf472b84227aa13f3f47324f09a": {
      "model_module": "@jupyter-widgets/base",
      "model_module_version": "1.2.0",
      "model_name": "LayoutModel",
      "state": {}
     },
     "943e1c83e8364e40a2cf0f39a5717396": {
      "model_module": "@jupyter-widgets/controls",
      "model_module_version": "1.5.0",
      "model_name": "ButtonStyleModel",
      "state": {}
     },
     "9446ca44860d4aae9cb69d5673049b6c": {
      "model_module": "@jupyter-widgets/base",
      "model_module_version": "1.2.0",
      "model_name": "LayoutModel",
      "state": {}
     },
     "944845fba31d4e09b063e307409c0dea": {
      "model_module": "@jupyter-widgets/base",
      "model_module_version": "1.2.0",
      "model_name": "LayoutModel",
      "state": {}
     },
     "9449a72179db4c2fb5a8bc9b99b1c073": {
      "model_module": "@jupyter-widgets/controls",
      "model_module_version": "1.5.0",
      "model_name": "BoxModel",
      "state": {
       "children": [
        "IPY_MODEL_2a9abfcff8f246b9bac3d9eb53d973fd",
        "IPY_MODEL_851887775b5a4b73b26c9b6cfb7199e6"
       ],
       "layout": "IPY_MODEL_5be64268a9c14a419b5b39ed53f79435"
      }
     },
     "944fd25abc2f48e0a74936eb19ffbe8f": {
      "model_module": "@jupyter-widgets/controls",
      "model_module_version": "1.5.0",
      "model_name": "CheckboxModel",
      "state": {
       "description": "Show Out-of-Gamut",
       "disabled": false,
       "layout": "IPY_MODEL_612e8510d8414fe996b586d8b98feb47",
       "style": "IPY_MODEL_c7cef9f54d444b7daa6c6e68f8fe0944",
       "value": false
      }
     },
     "948d8ca24a6f4dbe9943943de396a02d": {
      "model_module": "@jupyter-widgets/controls",
      "model_module_version": "1.5.0",
      "model_name": "ButtonStyleModel",
      "state": {}
     },
     "94c65bfb9cbf4c07a6be30f740d0f37d": {
      "model_module": "@jupyter-widgets/controls",
      "model_module_version": "1.5.0",
      "model_name": "SliderStyleModel",
      "state": {
       "description_width": ""
      }
     },
     "94cdc39280ab48d3b02f6cda9e0825d3": {
      "model_module": "@jupyter-widgets/controls",
      "model_module_version": "1.5.0",
      "model_name": "ButtonStyleModel",
      "state": {}
     },
     "954f9ecc7dc14f708cf850bb8cc59426": {
      "model_module": "@jupyter-widgets/controls",
      "model_module_version": "1.5.0",
      "model_name": "CheckboxModel",
      "state": {
       "description": "Disable Medicina",
       "disabled": false,
       "layout": "IPY_MODEL_603ee8628cc24f479850844737579649",
       "style": "IPY_MODEL_2db72d0ea57f47158a23b12c6b930c01",
       "value": false
      }
     },
     "955b0ac00c394bc3988aee6552bde494": {
      "model_module": "@jupyter-widgets/base",
      "model_module_version": "1.2.0",
      "model_name": "LayoutModel",
      "state": {}
     },
     "9569ada984ea4dce9587fd2f259fe610": {
      "model_module": "@jupyter-widgets/controls",
      "model_module_version": "1.5.0",
      "model_name": "SliderStyleModel",
      "state": {
       "description_width": ""
      }
     },
     "95763cf02ffa41f08a35962beed87c71": {
      "model_module": "@jupyter-widgets/base",
      "model_module_version": "1.2.0",
      "model_name": "LayoutModel",
      "state": {}
     },
     "95a9fab350b14a8ca87f59ef37bc36ab": {
      "model_module": "@jupyter-widgets/base",
      "model_module_version": "1.2.0",
      "model_name": "LayoutModel",
      "state": {}
     },
     "95cb1cf303b041e387ba4c77d1d94206": {
      "model_module": "@jupyter-widgets/base",
      "model_module_version": "1.2.0",
      "model_name": "LayoutModel",
      "state": {}
     },
     "95dfa0a7a9ba483fb9917903a23b7474": {
      "model_module": "@jupyter-widgets/base",
      "model_module_version": "1.2.0",
      "model_name": "LayoutModel",
      "state": {}
     },
     "9600e45ff5204f6ca4b7ec6ed450c95c": {
      "model_module": "@jupyter-widgets/controls",
      "model_module_version": "1.5.0",
      "model_name": "HBoxModel",
      "state": {
       "children": [
        "IPY_MODEL_0d9957d239ea4e2f9bfb0f044b825c4e",
        "IPY_MODEL_f489dd13d48d42ca8042860a14932c04",
        "IPY_MODEL_97247d7a221341f8905b293fb16caba7"
       ],
       "layout": "IPY_MODEL_ecd5c252acd7408f83d3e1a87d47b1ca"
      }
     },
     "9618506186f548a486bc03939675dee0": {
      "model_module": "@jupyter-widgets/controls",
      "model_module_version": "1.5.0",
      "model_name": "FloatSliderModel",
      "state": {
       "description": "315°",
       "layout": "IPY_MODEL_b085be24c681429eaa0dff8100f43e08",
       "max": 1,
       "min": -1,
       "step": 0.01,
       "style": "IPY_MODEL_89c945bd259e4f3ea81c853683d2d365"
      }
     },
     "9618e2cca8394ce88f258a60c5c36ba9": {
      "model_module": "@jupyter-widgets/controls",
      "model_module_version": "1.5.0",
      "model_name": "DescriptionStyleModel",
      "state": {
       "description_width": ""
      }
     },
     "963f53dfab154187bda2f8222ddd0852": {
      "model_module": "@jupyter-widgets/controls",
      "model_module_version": "1.5.0",
      "model_name": "ButtonModel",
      "state": {
       "description": "Reset Protected Area",
       "layout": "IPY_MODEL_ff85666d2e664461ade88dbf5dfb1dc9",
       "style": "IPY_MODEL_41f02c1adcd346b989328f49dc4bb0ec"
      }
     },
     "964e49229b2e462d830e316b03c2d623": {
      "model_module": "@jupyter-widgets/controls",
      "model_module_version": "1.5.0",
      "model_name": "ButtonModel",
      "state": {
       "description": "Reset Exposure",
       "layout": "IPY_MODEL_e1af114f36cd4f73b102680428d49861",
       "style": "IPY_MODEL_6bf74ae9b7674443a4f16bed2e08f401"
      }
     },
     "965cba7928ba41da878f685d3640f3d9": {
      "model_module": "@jupyter-widgets/controls",
      "model_module_version": "1.5.0",
      "model_name": "TabModel",
      "state": {
       "_titles": {
        "0": "Global Controls",
        "1": "Viewer Controls",
        "2": "Protected Area Controls",
        "3": "Saturation Controls",
        "4": "Hue Controls"
       },
       "children": [
        "IPY_MODEL_0a851153158a402eb17f799846b308c5",
        "IPY_MODEL_ae6fccf7a1f741a6b38804cc9c12710b",
        "IPY_MODEL_b276eb50e0b74172b0dd9fdea547a562",
        "IPY_MODEL_7659aa586c964ce19f4db361dc3e58fa",
        "IPY_MODEL_802dcd79d1f2470185fcfa1d5e90bc02"
       ],
       "layout": "IPY_MODEL_a297169e63554e579dd86fd9aa38ef51"
      }
     },
     "968f7d72441646b3bee34e8a37f72aed": {
      "model_module": "@jupyter-widgets/controls",
      "model_module_version": "1.5.0",
      "model_name": "ButtonStyleModel",
      "state": {}
     },
     "96a2a6f5de1949ffa09d5f094cf15c5f": {
      "model_module": "@jupyter-widgets/controls",
      "model_module_version": "1.5.0",
      "model_name": "FloatSliderModel",
      "state": {
       "description": "0°",
       "layout": "IPY_MODEL_08105720a30a4beca06d6cd5d89ff99c",
       "max": 1,
       "min": -1,
       "step": 0.01,
       "style": "IPY_MODEL_1fe6beff6f104d9281913b1fe28bd6bf"
      }
     },
     "96a53596e12746a3997eb306be4d7032": {
      "model_module": "@jupyter-widgets/controls",
      "model_module_version": "1.5.0",
      "model_name": "FloatSliderModel",
      "state": {
       "description": "Exposure",
       "layout": "IPY_MODEL_acac7cba2be34c54a8ac6852fe2342f4",
       "max": 8,
       "min": -8,
       "step": 0.1,
       "style": "IPY_MODEL_24469dede7084a60a9e294e246b0f22a"
      }
     },
     "96af92fcf61d414495de6331cf547c83": {
      "model_module": "@jupyter-widgets/controls",
      "model_module_version": "1.5.0",
      "model_name": "ButtonModel",
      "state": {
       "description": "Reset Protected Area",
       "layout": "IPY_MODEL_73006ec60d1f4f6ebcc925353af82c4d",
       "style": "IPY_MODEL_968f7d72441646b3bee34e8a37f72aed"
      }
     },
     "96ca1b9011e84334a8b4a5968519a087": {
      "model_module": "@jupyter-widgets/output",
      "model_module_version": "1.0.0",
      "model_name": "OutputModel",
      "state": {
       "layout": "IPY_MODEL_046929d1b11640e2a6ed2dfcc36774c4",
       "outputs": [
        {
         "data": {
          "application/vnd.jupyter.widget-view+json": {
           "model_id": "e0e3d8c9e11d4e5a85d5dd9bb041899e",
           "version_major": 2,
           "version_minor": 0
          },
          "text/plain": "Canvas(toolbar=Toolbar(toolitems=[('Home', 'Reset original view', 'home', 'home'), ('Back', 'Back to previous …"
         },
         "metadata": {},
         "output_type": "display_data"
        }
       ]
      }
     },
     "96e5c0e3a0d14e80a9ff9292e5879b42": {
      "model_module": "@jupyter-widgets/base",
      "model_module_version": "1.2.0",
      "model_name": "LayoutModel",
      "state": {}
     },
     "97195d3ab37347c3802a324d8ce8ab88": {
      "model_module": "@jupyter-widgets/base",
      "model_module_version": "1.2.0",
      "model_name": "LayoutModel",
      "state": {}
     },
     "97247d7a221341f8905b293fb16caba7": {
      "model_module": "@jupyter-widgets/controls",
      "model_module_version": "1.5.0",
      "model_name": "FloatSliderModel",
      "state": {
       "description": "Compression Threshold",
       "layout": "IPY_MODEL_4cf85cf2e6ea48d8b7f861af1e02a301",
       "max": 1,
       "step": 0.01,
       "style": "IPY_MODEL_c61948ac8d85491e947b993fe3504d31",
       "value": 0.8
      }
     },
     "97535d0faa324806b19834f492be0b5e": {
      "model_module": "@jupyter-widgets/base",
      "model_module_version": "1.2.0",
      "model_name": "LayoutModel",
      "state": {}
     },
     "975d71df0306410aad58f23a205835a2": {
      "model_module": "@jupyter-widgets/controls",
      "model_module_version": "1.5.0",
      "model_name": "SliderStyleModel",
      "state": {
       "description_width": ""
      }
     },
     "976fdfd2590e402bbdc58a6ed657db1d": {
      "model_module": "@jupyter-widgets/controls",
      "model_module_version": "1.5.0",
      "model_name": "SliderStyleModel",
      "state": {
       "description_width": ""
      }
     },
     "97844117d0e64104be1cfe680c76fb8d": {
      "model_module": "@jupyter-widgets/controls",
      "model_module_version": "1.5.0",
      "model_name": "SliderStyleModel",
      "state": {
       "description_width": ""
      }
     },
     "97c0547200da4fb598f2ed4466177aec": {
      "model_module": "@jupyter-widgets/base",
      "model_module_version": "1.2.0",
      "model_name": "LayoutModel",
      "state": {}
     },
     "98687d3eb4714a71852c9e1c74549c69": {
      "model_module": "@jupyter-widgets/controls",
      "model_module_version": "1.5.0",
      "model_name": "HBoxModel",
      "state": {
       "children": [
        "IPY_MODEL_507b2f2225d14be9808d4bc4b09e14a5",
        "IPY_MODEL_1da9c1cc547e41ecbeb10d7ce961ca37",
        "IPY_MODEL_7da4a4350e284117ba830b21e3cce59f",
        "IPY_MODEL_4d971ccb9e5b411a9086f8fd1cf70479"
       ],
       "layout": "IPY_MODEL_09fd0b27701d4d09af56f82d5be54ff8"
      }
     },
     "989fbd665f53499e9a11e0f9628d680a": {
      "model_module": "@jupyter-widgets/base",
      "model_module_version": "1.2.0",
      "model_name": "LayoutModel",
      "state": {}
     },
     "98a554bfe4554462a5710632cf6227d8": {
      "model_module": "@jupyter-widgets/controls",
      "model_module_version": "1.5.0",
      "model_name": "DropdownModel",
      "state": {
       "_options_labels": [
        "sRGB",
        "sRGB (ACES)",
        "Display P3",
        "Display P3 (ACES)"
       ],
       "description": "View Transform:",
       "index": 0,
       "layout": "IPY_MODEL_debf1ba6a12f4558bc1c272c7593f301",
       "style": "IPY_MODEL_f68c33fa876c497ba8b8971bf3d92b66"
      }
     },
     "98ac34d8b51f4d56a89ddb24b8b93a82": {
      "model_module": "@jupyter-widgets/controls",
      "model_module_version": "1.5.0",
      "model_name": "ButtonStyleModel",
      "state": {}
     },
     "98ad38f6ff59465894fa2e743a2a9f41": {
      "model_module": "@jupyter-widgets/base",
      "model_module_version": "1.2.0",
      "model_name": "LayoutModel",
      "state": {}
     },
     "98bf84a9f1fc4d2885444312762efd16": {
      "model_module": "@jupyter-widgets/controls",
      "model_module_version": "1.5.0",
      "model_name": "CheckboxModel",
      "state": {
       "description": "Show Out-of-Gamut",
       "disabled": false,
       "layout": "IPY_MODEL_14bd6e557c894aa689c1bde8917f553c",
       "style": "IPY_MODEL_7d66fde2429642e39d7414b35493c8e3",
       "value": false
      }
     },
     "98f1796c10fb49f89b875183d7045298": {
      "model_module": "@jupyter-widgets/base",
      "model_module_version": "1.2.0",
      "model_name": "LayoutModel",
      "state": {}
     },
     "9928eab3152b4a7797696dbaf8fb8381": {
      "model_module": "@jupyter-widgets/base",
      "model_module_version": "1.2.0",
      "model_name": "LayoutModel",
      "state": {}
     },
     "9954571a525242f48745c96e1744e895": {
      "model_module": "@jupyter-widgets/controls",
      "model_module_version": "1.5.0",
      "model_name": "ButtonModel",
      "state": {
       "description": "Reset Compression Controls",
       "layout": "IPY_MODEL_aaf4ccc49c424539b3329eddeac1fb02",
       "style": "IPY_MODEL_8e7737bd99bd4687aa9e2f8f3504414b"
      }
     },
     "995b01addc3c4a5095898bef72ec3a8c": {
      "model_module": "@jupyter-widgets/base",
      "model_module_version": "1.2.0",
      "model_name": "LayoutModel",
      "state": {}
     },
     "99793854b41546539058a1674f96f12b": {
      "model_module": "@jupyter-widgets/base",
      "model_module_version": "1.2.0",
      "model_name": "LayoutModel",
      "state": {}
     },
     "99871a0ef0b7409996090db4d436a23b": {
      "model_module": "@jupyter-widgets/controls",
      "model_module_version": "1.5.0",
      "model_name": "FloatSliderModel",
      "state": {
       "description": "315°",
       "layout": "IPY_MODEL_1b7f1695b7f34e8099139363d4bcc9ff",
       "max": 1,
       "min": -1,
       "step": 0.01,
       "style": "IPY_MODEL_6df1225c9eb345df9f87043409cecaad"
      }
     },
     "999014784ee84b6caf3e740c1643a4a1": {
      "model_module": "@jupyter-widgets/controls",
      "model_module_version": "1.5.0",
      "model_name": "FloatSliderModel",
      "state": {
       "description": "90°",
       "layout": "IPY_MODEL_3fbf35a303db41259ec2b21c5f62192f",
       "max": 1,
       "min": -1,
       "step": 0.01,
       "style": "IPY_MODEL_7bf8644a64744c51909c5062a3856a78"
      }
     },
     "999c7050c2b3498aa0e4471033a10109": {
      "model_module": "@jupyter-widgets/base",
      "model_module_version": "1.2.0",
      "model_name": "LayoutModel",
      "state": {}
     },
     "9a244c31cf6444518cb44edfded3c585": {
      "model_module": "@jupyter-widgets/base",
      "model_module_version": "1.2.0",
      "model_name": "LayoutModel",
      "state": {}
     },
     "9a32cb374c5340109fa9163363cd0cb9": {
      "model_module": "jupyter-matplotlib",
      "model_module_version": "^0.7.2",
      "model_name": "MPLCanvasModel",
      "state": {
       "_figure_label": "Figure 28",
       "_height": 550,
       "_width": 1100,
       "header_visible": false,
       "layout": "IPY_MODEL_e17e636c59844389b0b2549f09e24923",
       "resizable": false,
       "toolbar": "IPY_MODEL_bb49e9637ebd4a00ad67514e8a1e8fdc",
       "toolbar_position": "left",
       "toolbar_visible": false
      }
     },
     "9a3cb2c8f2f445e78dcf96beb460ba12": {
      "model_module": "@jupyter-widgets/base",
      "model_module_version": "1.2.0",
      "model_name": "LayoutModel",
      "state": {}
     },
     "9a3cc7b73a3e45bda4b9026485de722b": {
      "model_module": "@jupyter-widgets/controls",
      "model_module_version": "1.5.0",
      "model_name": "FloatSliderModel",
      "state": {
       "description": "90°",
       "layout": "IPY_MODEL_48caac7abc724fdbb57b0f135db05bed",
       "max": 1,
       "min": -1,
       "step": 0.01,
       "style": "IPY_MODEL_27cb961e97784674bc652d2ccddc48c6"
      }
     },
     "9a578091b1804494a4ffa95ff1c4a02f": {
      "model_module": "@jupyter-widgets/controls",
      "model_module_version": "1.5.0",
      "model_name": "SliderStyleModel",
      "state": {
       "description_width": ""
      }
     },
     "9a7d94330df54059a523ff724e8cacd7": {
      "model_module": "@jupyter-widgets/controls",
      "model_module_version": "1.5.0",
      "model_name": "DescriptionStyleModel",
      "state": {
       "description_width": ""
      }
     },
     "9ab69b17fe8f4dbc8336126806124e22": {
      "model_module": "@jupyter-widgets/base",
      "model_module_version": "1.2.0",
      "model_name": "LayoutModel",
      "state": {}
     },
     "9ad701a46d71429da788737a4e5d21b8": {
      "model_module": "@jupyter-widgets/controls",
      "model_module_version": "1.5.0",
      "model_name": "HBoxModel",
      "state": {
       "children": [
        "IPY_MODEL_ce21794a40ac4cf0ae7372cde0b1fe40",
        "IPY_MODEL_49b875e0683041848892be50b52c8c4a"
       ],
       "layout": "IPY_MODEL_68c69196e21c4d35b5839dde9a4ee74d"
      }
     },
     "9ae86e41b9a04e72b29437289835368a": {
      "model_module": "@jupyter-widgets/controls",
      "model_module_version": "1.5.0",
      "model_name": "TabModel",
      "state": {
       "_titles": {
        "0": "Global Controls",
        "1": "Viewer Controls",
        "2": "Protected Area Controls",
        "3": "Saturation Controls",
        "4": "Hue Controls"
       },
       "children": [
        "IPY_MODEL_e06f284659b0430991c34e2d106d2282",
        "IPY_MODEL_5a1025a888fd41769a6c1c6ef3f80a6b",
        "IPY_MODEL_6a93b48ec0f54e73a73f5594a4da5593",
        "IPY_MODEL_f096dfcbceba4825800a4d9c10109da0",
        "IPY_MODEL_da0d877027504035ad4607cf2fba72d0"
       ],
       "layout": "IPY_MODEL_3919cb4949e24febaf341816156016f5"
      }
     },
     "9b420be8e0024fccabfc165405dd4a74": {
      "model_module": "@jupyter-widgets/base",
      "model_module_version": "1.2.0",
      "model_name": "LayoutModel",
      "state": {}
     },
     "9b57e41e18c943448444123ee5165625": {
      "model_module": "@jupyter-widgets/controls",
      "model_module_version": "1.5.0",
      "model_name": "DescriptionStyleModel",
      "state": {
       "description_width": ""
      }
     },
     "9b58b22a0e6c433cbfcaa6c2ba5fe6f4": {
      "model_module": "@jupyter-widgets/controls",
      "model_module_version": "1.5.0",
      "model_name": "SliderStyleModel",
      "state": {
       "description_width": ""
      }
     },
     "9b5b6079d6654e01b9a72855d32a5837": {
      "model_module": "@jupyter-widgets/controls",
      "model_module_version": "1.5.0",
      "model_name": "HBoxModel",
      "state": {
       "children": [
        "IPY_MODEL_911131cd883949fda963e52452d791c8",
        "IPY_MODEL_8830ad470c1e46128b80e0f011c61ed4",
        "IPY_MODEL_a585a32ceb8c40f18130afd0aa57d712",
        "IPY_MODEL_874fe8662b544cacb908a1bb79062325"
       ],
       "layout": "IPY_MODEL_a90f56c233b441208e43fa59c353e974"
      }
     },
     "9b78cf8fc20c43a8aa0bfc6fa131e8a9": {
      "model_module": "@jupyter-widgets/controls",
      "model_module_version": "1.5.0",
      "model_name": "TabModel",
      "state": {
       "_titles": {
        "0": "Global Controls",
        "1": "Viewer Controls",
        "2": "Protected Area Controls",
        "3": "Saturation Controls",
        "4": "Hue Controls"
       },
       "children": [
        "IPY_MODEL_2bb7e81db208495485ee98807441e185",
        "IPY_MODEL_2f8bdc33360a4378aff88635e5ef309c",
        "IPY_MODEL_2318e67788984bd9948dfe11ac0b73a8",
        "IPY_MODEL_ccd7dc504fd54b67b89abd61a4598e16",
        "IPY_MODEL_464d075539864c029615a2e12ea56842"
       ],
       "layout": "IPY_MODEL_5ce06fa7b3614126a0dc6dfcf081437b"
      }
     },
     "9b8383acb44847979c88cd5536321854": {
      "model_module": "@jupyter-widgets/controls",
      "model_module_version": "1.5.0",
      "model_name": "DescriptionStyleModel",
      "state": {
       "description_width": ""
      }
     },
     "9bdb15bc11024b86a0b480753eb44ce1": {
      "model_module": "@jupyter-widgets/controls",
      "model_module_version": "1.5.0",
      "model_name": "DescriptionStyleModel",
      "state": {
       "description_width": ""
      }
     },
     "9bf1b42d14864122b3d815b07616ce4c": {
      "model_module": "@jupyter-widgets/base",
      "model_module_version": "1.2.0",
      "model_name": "LayoutModel",
      "state": {}
     },
     "9c2e1947dce948f89a8763b55ffa0bef": {
      "model_module": "@jupyter-widgets/controls",
      "model_module_version": "1.5.0",
      "model_name": "DropdownModel",
      "state": {
       "_options_labels": [
        "sRGB",
        "sRGB (ACES)",
        "Display P3",
        "Display P3 (ACES)"
       ],
       "description": "View Transform:",
       "index": 0,
       "layout": "IPY_MODEL_84e6497640fd432dbf01b85940adac8f",
       "style": "IPY_MODEL_d385dc9ade7a431b85330a50390580c7"
      }
     },
     "9c31f89705fb4deaaa0c5926031a5658": {
      "model_module": "@jupyter-widgets/controls",
      "model_module_version": "1.5.0",
      "model_name": "VBoxModel",
      "state": {
       "children": [
        "IPY_MODEL_ad406327872d44aa8511ba498908ac28",
        "IPY_MODEL_50995ebdeb1846e18a5e9a5aa2079125",
        "IPY_MODEL_791a301d86454aefbe953c91b0ec341a"
       ],
       "layout": "IPY_MODEL_036bf607822a4a44a80a08f68e0920d7"
      }
     },
     "9c4d4f44f7d447bb83a09304b657e5c2": {
      "model_module": "@jupyter-widgets/controls",
      "model_module_version": "1.5.0",
      "model_name": "FloatSliderModel",
      "state": {
       "description": "90°",
       "layout": "IPY_MODEL_0693ff1f411149b491f953b9af1bc104",
       "max": 1,
       "min": -1,
       "step": 0.01,
       "style": "IPY_MODEL_17e6da6c726349e98a0d872df6311198"
      }
     },
     "9c542eed2a154864820e90a8101d0f10": {
      "model_module": "@jupyter-widgets/controls",
      "model_module_version": "1.5.0",
      "model_name": "DescriptionStyleModel",
      "state": {
       "description_width": ""
      }
     },
     "9c76220ed9f040d5823fe0d7c249ed8a": {
      "model_module": "@jupyter-widgets/controls",
      "model_module_version": "1.5.0",
      "model_name": "DescriptionStyleModel",
      "state": {
       "description_width": ""
      }
     },
     "9c9999eeb19945dba20431d5004b45c6": {
      "model_module": "@jupyter-widgets/controls",
      "model_module_version": "1.5.0",
      "model_name": "HBoxModel",
      "state": {
       "children": [
        "IPY_MODEL_59bde95987be47259e56607fcf4e24a0",
        "IPY_MODEL_dbcabc032016486fbb0be10556ade621",
        "IPY_MODEL_833419728ef641cb8b97ef6a858098fa",
        "IPY_MODEL_df31a5b14739415c9273a7a2226e782b"
       ],
       "layout": "IPY_MODEL_fe6939022bcf4181ba91b580d0ee738e"
      }
     },
     "9cb84b6f7e7e4d98a63145b8da104951": {
      "model_module": "@jupyter-widgets/base",
      "model_module_version": "1.2.0",
      "model_name": "LayoutModel",
      "state": {}
     },
     "9ce15f489edd4f37a9bc8a9f441ef49b": {
      "model_module": "@jupyter-widgets/controls",
      "model_module_version": "1.5.0",
      "model_name": "VBoxModel",
      "state": {
       "children": [
        "IPY_MODEL_bc99c4ad5d7c47c3908d6f601d4966c8",
        "IPY_MODEL_1aa3ff2909f948e9b7d0ec7c534875f4"
       ],
       "layout": "IPY_MODEL_a477153c20914804ac391e4c8d98388e"
      }
     },
     "9cede7bb4501402eb6de0778dde8427a": {
      "model_module": "@jupyter-widgets/controls",
      "model_module_version": "1.5.0",
      "model_name": "ButtonStyleModel",
      "state": {}
     },
     "9d3d8d51f9a64276964b568ad790abaf": {
      "model_module": "@jupyter-widgets/base",
      "model_module_version": "1.2.0",
      "model_name": "LayoutModel",
      "state": {}
     },
     "9d9c2a2429854d90967c362913c7fbf5": {
      "model_module": "@jupyter-widgets/output",
      "model_module_version": "1.0.0",
      "model_name": "OutputModel",
      "state": {
       "layout": "IPY_MODEL_c6e19c6099724b1bb9692280fbb56862",
       "outputs": [
        {
         "data": {
          "application/vnd.jupyter.widget-view+json": {
           "model_id": "b1c849890c2f4c518a9c6b82a7ed80b2",
           "version_major": 2,
           "version_minor": 0
          },
          "text/plain": "Canvas(toolbar=Toolbar(toolitems=[('Home', 'Reset original view', 'home', 'home'), ('Back', 'Back to previous …"
         },
         "metadata": {},
         "output_type": "display_data"
        }
       ]
      }
     },
     "9dd3482d6c9b41b997f874837bb7ee8c": {
      "model_module": "@jupyter-widgets/controls",
      "model_module_version": "1.5.0",
      "model_name": "SliderStyleModel",
      "state": {
       "description_width": ""
      }
     },
     "9dd71303ce0d4a7c81aaa7e6d5f097ee": {
      "model_module": "@jupyter-widgets/controls",
      "model_module_version": "1.5.0",
      "model_name": "TabModel",
      "state": {
       "_titles": {
        "0": "Global Controls",
        "1": "Viewer Controls",
        "2": "Compression Controls"
       },
       "children": [
        "IPY_MODEL_3f41b563a0d648b0825cc866b76a48b7",
        "IPY_MODEL_5233246ea5264e9e989eac7d6a26158a",
        "IPY_MODEL_5a5bd0aec6164e31b259d90660619db5"
       ],
       "layout": "IPY_MODEL_c4b80d411e0045ab8380c36c2d5b3c48"
      }
     },
     "9df8c346e4694b44871e784e5c4b73ce": {
      "model_module": "@jupyter-widgets/base",
      "model_module_version": "1.2.0",
      "model_name": "LayoutModel",
      "state": {}
     },
     "9e0a23ced31f48fa8a09d3f7bb89fe00": {
      "model_module": "@jupyter-widgets/controls",
      "model_module_version": "1.5.0",
      "model_name": "ButtonStyleModel",
      "state": {}
     },
     "9e0ff500b4aa4e058744e09d310386ca": {
      "model_module": "@jupyter-widgets/controls",
      "model_module_version": "1.5.0",
      "model_name": "ButtonModel",
      "state": {
       "description": "Save Figure",
       "layout": "IPY_MODEL_26386a908a7240fb8f0bb281bba6a883",
       "style": "IPY_MODEL_6a2ae18982144d62965c5d452455236a"
      }
     },
     "9e1b38f9a4534cf1b389f37893c6c890": {
      "model_module": "@jupyter-widgets/controls",
      "model_module_version": "1.5.0",
      "model_name": "FloatSliderModel",
      "state": {
       "description": "225°",
       "layout": "IPY_MODEL_92f9e0e24ef247ceb967594308a9c210",
       "max": 1,
       "min": -1,
       "step": 0.01,
       "style": "IPY_MODEL_72741ff7d72d4e18874070fa701af415"
      }
     },
     "9e6e43e5759349adba50500d970d7fe5": {
      "model_module": "@jupyter-widgets/base",
      "model_module_version": "1.2.0",
      "model_name": "LayoutModel",
      "state": {}
     },
     "9e9725ab12cb451ab76e3e202c981baf": {
      "model_module": "@jupyter-widgets/base",
      "model_module_version": "1.2.0",
      "model_name": "LayoutModel",
      "state": {}
     },
     "9ebecb6521d946aa92f95485d9958ca0": {
      "model_module": "@jupyter-widgets/controls",
      "model_module_version": "1.5.0",
      "model_name": "TabModel",
      "state": {
       "_titles": {
        "0": "Global Controls",
        "1": "Viewer Controls",
        "2": "Compression Controls"
       },
       "children": [
        "IPY_MODEL_60668dad985145f4ac7a45c589c0733d",
        "IPY_MODEL_3b018cd386d248f29dce26a3f2d04b5d",
        "IPY_MODEL_c58e25bd11fc4c91b1935c472611a240"
       ],
       "layout": "IPY_MODEL_4dbaef1b90824ac191684f5ab543fb50"
      }
     },
     "9f19bc3c52e74cad80acb734014ca249": {
      "model_module": "@jupyter-widgets/controls",
      "model_module_version": "1.5.0",
      "model_name": "FloatSliderModel",
      "state": {
       "description": "Compression Threshold",
       "layout": "IPY_MODEL_25cbbda8a04f4ff1baa5a69c95b10171",
       "max": 1,
       "step": 0.01,
       "style": "IPY_MODEL_21177c58435743629b8d714073d9952a",
       "value": 0.8
      }
     },
     "9f25d6c722a941e5803c1c57b2128731": {
      "model_module": "@jupyter-widgets/controls",
      "model_module_version": "1.5.0",
      "model_name": "ButtonModel",
      "state": {
       "description": "Save Figure",
       "layout": "IPY_MODEL_ddc9907ab8614e5fa3793c261d5ac159",
       "style": "IPY_MODEL_a14bcc872f914213855b3df488dfa7cf"
      }
     },
     "9f65a28945aa4ea48eb6f095688108a4": {
      "model_module": "@jupyter-widgets/controls",
      "model_module_version": "1.5.0",
      "model_name": "SliderStyleModel",
      "state": {
       "description_width": ""
      }
     },
     "9f65e9bea1e74051b37f23a1dbbbe00b": {
      "model_module": "@jupyter-widgets/controls",
      "model_module_version": "1.5.0",
      "model_name": "ButtonModel",
      "state": {
       "description": "Export Image",
       "layout": "IPY_MODEL_f295692d7af74e0ba620e3038a030638",
       "style": "IPY_MODEL_d68a3a17311e41dbbc30d5244c40009e"
      }
     },
     "9f7e10effc7d43658779c540b43c52b7": {
      "model_module": "@jupyter-widgets/base",
      "model_module_version": "1.2.0",
      "model_name": "LayoutModel",
      "state": {}
     },
     "9f8c7a61fca84e188a0315e4f31e6ed6": {
      "model_module": "@jupyter-widgets/controls",
      "model_module_version": "1.5.0",
      "model_name": "HBoxModel",
      "state": {
       "children": [
        "IPY_MODEL_535330c9925547769e689eb1bb7de239",
        "IPY_MODEL_eb00f87f3e83422683e8fcddd6d070b0",
        "IPY_MODEL_0cb5d694eda649db86470615c5bf2583"
       ],
       "layout": "IPY_MODEL_6ab8978172e14f2db5a51a5372ea45bd"
      }
     },
     "9f92ac3e778245f8b1db208b5f6b40e1": {
      "model_module": "@jupyter-widgets/base",
      "model_module_version": "1.2.0",
      "model_name": "LayoutModel",
      "state": {}
     },
     "9f99f1b771444f26b2bf2f155617a262": {
      "model_module": "@jupyter-widgets/controls",
      "model_module_version": "1.5.0",
      "model_name": "ButtonStyleModel",
      "state": {}
     },
     "9fa07892c3184bdbbd41af94fc124520": {
      "model_module": "@jupyter-widgets/base",
      "model_module_version": "1.2.0",
      "model_name": "LayoutModel",
      "state": {}
     },
     "9fa192f32bae4432b0687db251533b84": {
      "model_module": "@jupyter-widgets/controls",
      "model_module_version": "1.5.0",
      "model_name": "DescriptionStyleModel",
      "state": {
       "description_width": ""
      }
     },
     "9ff23a6f51d8422caf4bf50904ef9426": {
      "model_module": "@jupyter-widgets/controls",
      "model_module_version": "1.5.0",
      "model_name": "HBoxModel",
      "state": {
       "children": [
        "IPY_MODEL_0a9dd72a4b584d7abffca955aac53ec6",
        "IPY_MODEL_43179f7f9b294cf491222ca0e8b1d1c3"
       ],
       "layout": "IPY_MODEL_f01c5e7dcc82443c883bd101a943606d"
      }
     },
     "a03d24051a054e658d9bb161df54e369": {
      "model_module": "@jupyter-widgets/controls",
      "model_module_version": "1.5.0",
      "model_name": "FloatSliderModel",
      "state": {
       "description": "270°",
       "layout": "IPY_MODEL_408bc274665a4a9491b48babb80d04ae",
       "max": 1,
       "min": -1,
       "step": 0.01,
       "style": "IPY_MODEL_356bb283826e4193ae571711e6496908"
      }
     },
     "a04013a1dae7424c91fa540373e1c840": {
      "model_module": "@jupyter-widgets/controls",
      "model_module_version": "1.5.0",
      "model_name": "HBoxModel",
      "state": {
       "children": [
        "IPY_MODEL_d789398289bb4d12a3182bd1527b6396",
        "IPY_MODEL_04dca5244a3c4f68b9ec6900cf33624d",
        "IPY_MODEL_eb95bfe06c954e7fb3b70346dffa07a7"
       ],
       "layout": "IPY_MODEL_f4d3cf2b8c9f4f089c6573ffaa80a34d"
      }
     },
     "a05f8f38650c4f7fa4a41e799df26c1a": {
      "model_module": "@jupyter-widgets/controls",
      "model_module_version": "1.5.0",
      "model_name": "FloatSliderModel",
      "state": {
       "description": "90°",
       "layout": "IPY_MODEL_7daf4e6953c649a69a6988059f5d74eb",
       "max": 1,
       "min": -1,
       "step": 0.01,
       "style": "IPY_MODEL_13e1ab19aad64ade826230f2d0785267"
      }
     },
     "a070e5ca96854fa7828984c7f2fd9b45": {
      "model_module": "@jupyter-widgets/base",
      "model_module_version": "1.2.0",
      "model_name": "LayoutModel",
      "state": {
       "border": "solid 4px #222",
       "margin": "4px",
       "padding": "0"
      }
     },
     "a07b53c919f348098109c2e2bff0e780": {
      "model_module": "@jupyter-widgets/output",
      "model_module_version": "1.0.0",
      "model_name": "OutputModel",
      "state": {
       "layout": "IPY_MODEL_69597b4d2a0d4b4ca379f2e2434fcfd8",
       "outputs": [
        {
         "data": {
          "application/vnd.jupyter.widget-view+json": {
           "model_id": "358ccd1e49044f528d4b6df327c2dd66",
           "version_major": 2,
           "version_minor": 0
          },
          "text/plain": "Canvas(toolbar=Toolbar(toolitems=[('Home', 'Reset original view', 'home', 'home'), ('Back', 'Back to previous …"
         },
         "metadata": {},
         "output_type": "display_data"
        }
       ]
      }
     },
     "a112ad1686b640e292bb535d39c2599e": {
      "model_module": "@jupyter-widgets/base",
      "model_module_version": "1.2.0",
      "model_name": "LayoutModel",
      "state": {}
     },
     "a1204f12f41b424296e36a1dbbdc70dd": {
      "model_module": "@jupyter-widgets/controls",
      "model_module_version": "1.5.0",
      "model_name": "FloatSliderModel",
      "state": {
       "description": "90°",
       "layout": "IPY_MODEL_a70a8dcb2c9a4b92bb8e6c2a62d52e6c",
       "max": 1,
       "min": -1,
       "step": 0.01,
       "style": "IPY_MODEL_4ff30067c22340f79457f0b4e921fd33"
      }
     },
     "a13ca4d116d94c078094b154877c02ca": {
      "model_module": "@jupyter-widgets/controls",
      "model_module_version": "1.5.0",
      "model_name": "CheckboxModel",
      "state": {
       "description": "Show Out-of-Gamut",
       "disabled": false,
       "layout": "IPY_MODEL_43fdff8457dc4162bfbf9d3f9a7a3b9f",
       "style": "IPY_MODEL_5e221ea30ba34907b8863f85dac4a4a1",
       "value": false
      }
     },
     "a14bcc872f914213855b3df488dfa7cf": {
      "model_module": "@jupyter-widgets/controls",
      "model_module_version": "1.5.0",
      "model_name": "ButtonStyleModel",
      "state": {}
     },
     "a159d4249866432db4b357609d772447": {
      "model_module": "@jupyter-widgets/controls",
      "model_module_version": "1.5.0",
      "model_name": "CheckboxModel",
      "state": {
       "description": "Show Out-of-Gamut",
       "disabled": false,
       "layout": "IPY_MODEL_cac1314a8e8f496fa7c6eaf391b9b64a",
       "style": "IPY_MODEL_0add2e3006de496eb1b56bfa26096e35",
       "value": false
      }
     },
     "a17378cb7c604fd19fad91a09fb51eae": {
      "model_module": "@jupyter-widgets/controls",
      "model_module_version": "1.5.0",
      "model_name": "DescriptionStyleModel",
      "state": {
       "description_width": ""
      }
     },
     "a188ab5d82eb455e9860a258a693a2fd": {
      "model_module": "@jupyter-widgets/controls",
      "model_module_version": "1.5.0",
      "model_name": "FloatSliderModel",
      "state": {
       "description": "225°",
       "layout": "IPY_MODEL_9fa07892c3184bdbbd41af94fc124520",
       "max": 1,
       "min": -1,
       "step": 0.01,
       "style": "IPY_MODEL_0cdc446759c04bc4a44de1645c34fdea"
      }
     },
     "a19ee35b86e84a6a97a5be06c51db430": {
      "model_module": "@jupyter-widgets/controls",
      "model_module_version": "1.5.0",
      "model_name": "FloatSliderModel",
      "state": {
       "description": "90°",
       "layout": "IPY_MODEL_300517ef27f149e2acf7736f4d068f10",
       "max": 1,
       "min": -1,
       "step": 0.01,
       "style": "IPY_MODEL_d76be58e240f49569809a35f60286c95"
      }
     },
     "a1c681d961ed4b7f938b869667feae4a": {
      "model_module": "@jupyter-widgets/controls",
      "model_module_version": "1.5.0",
      "model_name": "HBoxModel",
      "state": {
       "children": [
        "IPY_MODEL_126ec32ed3a6480e9b0b1435e2a501f9",
        "IPY_MODEL_f1531d2353aa44c58d3c3674b206d580",
        "IPY_MODEL_8e825faf49bf43eda1f032504798ce8e"
       ],
       "layout": "IPY_MODEL_9cb84b6f7e7e4d98a63145b8da104951"
      }
     },
     "a1ccb346bc024c0785147ea147643272": {
      "model_module": "@jupyter-widgets/controls",
      "model_module_version": "1.5.0",
      "model_name": "HBoxModel",
      "state": {
       "children": [
        "IPY_MODEL_e067eda40b1d4792b3d68c370bcb6b66",
        "IPY_MODEL_7c88a9fbe7744684b8093c2a5125c9b4",
        "IPY_MODEL_b2098f7edec0412f9ef2efbde97d332c",
        "IPY_MODEL_bcbe0ea258bb4b2da2898e7bd3733ba3"
       ],
       "layout": "IPY_MODEL_b7dfb6c8c4e44152b2e2703decbf94e8"
      }
     },
     "a1ef0a9abf954e50a964690cc5293eeb": {
      "model_module": "@jupyter-widgets/base",
      "model_module_version": "1.2.0",
      "model_name": "LayoutModel",
      "state": {
       "border": "solid 4px #222",
       "margin": "4px",
       "padding": "0"
      }
     },
     "a23649129a80479e845281e73843ff02": {
      "model_module": "@jupyter-widgets/base",
      "model_module_version": "1.2.0",
      "model_name": "LayoutModel",
      "state": {}
     },
     "a252a16c0b554d47a400d33f540d7407": {
      "model_module": "@jupyter-widgets/base",
      "model_module_version": "1.2.0",
      "model_name": "LayoutModel",
      "state": {}
     },
     "a297169e63554e579dd86fd9aa38ef51": {
      "model_module": "@jupyter-widgets/base",
      "model_module_version": "1.2.0",
      "model_name": "LayoutModel",
      "state": {
       "border": "solid 4px #222",
       "margin": "4px",
       "padding": "0"
      }
     },
     "a2b013f4c85a48febd13ff3fee00fb02": {
      "model_module": "@jupyter-widgets/base",
      "model_module_version": "1.2.0",
      "model_name": "LayoutModel",
      "state": {}
     },
     "a2becc7d892c4397a809067919e3a998": {
      "model_module": "@jupyter-widgets/base",
      "model_module_version": "1.2.0",
      "model_name": "LayoutModel",
      "state": {}
     },
     "a2bfb0b35b224a018bb547ebe1941e10": {
      "model_module": "@jupyter-widgets/controls",
      "model_module_version": "1.5.0",
      "model_name": "FloatSliderModel",
      "state": {
       "description": "225°",
       "layout": "IPY_MODEL_be47b009bc82462498296645eede1469",
       "max": 1,
       "min": -1,
       "step": 0.01,
       "style": "IPY_MODEL_d23ef91867ba4159b028bf0b2f310602"
      }
     },
     "a2c9aaad0a284abaa83a24cbe393cd98": {
      "model_module": "jupyter-matplotlib",
      "model_module_version": "^0.7.2",
      "model_name": "ToolbarModel",
      "state": {
       "layout": "IPY_MODEL_d2fab7e87e4948aa949454e5e2c3ac67",
       "toolitems": [
        [
         "Home",
         "Reset original view",
         "home",
         "home"
        ],
        [
         "Back",
         "Back to previous view",
         "arrow-left",
         "back"
        ],
        [
         "Forward",
         "Forward to next view",
         "arrow-right",
         "forward"
        ],
        [
         "Pan",
         "Pan axes with left mouse, zoom with right",
         "arrows",
         "pan"
        ],
        [
         "Zoom",
         "Zoom to rectangle",
         "square-o",
         "zoom"
        ],
        [
         "Download",
         "Download plot",
         "floppy-o",
         "save_figure"
        ]
       ]
      }
     },
     "a2d3c5e0e3bb4bb5a71cb98e8675e70d": {
      "model_module": "@jupyter-widgets/base",
      "model_module_version": "1.2.0",
      "model_name": "LayoutModel",
      "state": {}
     },
     "a2d5fbbd0f7a49dc8590c6dc17da2d8b": {
      "model_module": "@jupyter-widgets/controls",
      "model_module_version": "1.5.0",
      "model_name": "ButtonModel",
      "state": {
       "description": "Reset Hue Controls",
       "layout": "IPY_MODEL_9245dbb1d83b41319de99695ffe1234f",
       "style": "IPY_MODEL_3ee44950d3984dc7b8f23879a714b4a8"
      }
     },
     "a2d62b818c5644c8b01fb0de111f07fc": {
      "model_module": "@jupyter-widgets/base",
      "model_module_version": "1.2.0",
      "model_name": "LayoutModel",
      "state": {}
     },
     "a2eff3d8790246399ab85b3acfbc8b9a": {
      "model_module": "@jupyter-widgets/base",
      "model_module_version": "1.2.0",
      "model_name": "LayoutModel",
      "state": {}
     },
     "a2f233b36024463789cb0755778f1dc5": {
      "model_module": "@jupyter-widgets/base",
      "model_module_version": "1.2.0",
      "model_name": "LayoutModel",
      "state": {}
     },
     "a308633ae25a4c0cb4a7487de17674b9": {
      "model_module": "@jupyter-widgets/controls",
      "model_module_version": "1.5.0",
      "model_name": "FloatSliderModel",
      "state": {
       "description": "Protected Area Threshold",
       "layout": "IPY_MODEL_8096eb88db4d454e9f7330a30e7fa7b2",
       "max": 1,
       "step": 0.01,
       "style": "IPY_MODEL_31698c32ca48468aaeb6a1647b6c779e",
       "value": 0.7
      }
     },
     "a323919c7fe4486c86fb622ccfa568bd": {
      "model_module": "@jupyter-widgets/controls",
      "model_module_version": "1.5.0",
      "model_name": "HBoxModel",
      "state": {
       "children": [
        "IPY_MODEL_afafdd43e96344cf9a55e3c58bbf76f0",
        "IPY_MODEL_5dd2fe48c8d74a49b38028d2306ef2a4",
        "IPY_MODEL_2a5d8998bdc14fcface087180da43022",
        "IPY_MODEL_f4d31f93d35346b591aac9292bdd4206"
       ],
       "layout": "IPY_MODEL_ee2aa3e6720d47cf9eb93ea7ce7e2240"
      }
     },
     "a34630de97d54fa08aa36f5853277bbc": {
      "model_module": "@jupyter-widgets/base",
      "model_module_version": "1.2.0",
      "model_name": "LayoutModel",
      "state": {}
     },
     "a363520f9edc493ebb76e9f1b89c9bd9": {
      "model_module": "@jupyter-widgets/controls",
      "model_module_version": "1.5.0",
      "model_name": "FloatSliderModel",
      "state": {
       "description": "Compression Threshold",
       "layout": "IPY_MODEL_835b2cfe7ba345dca10a45c7bc14bec9",
       "max": 1,
       "step": 0.01,
       "style": "IPY_MODEL_33aa51e76cfa4a1eae95cc0ec63cef63",
       "value": 0.5
      }
     },
     "a3717324e5294710823d5c95851020cf": {
      "model_module": "jupyter-matplotlib",
      "model_module_version": "^0.7.2",
      "model_name": "MPLCanvasModel",
      "state": {
       "_figure_label": "Figure 26",
       "_height": 550,
       "_width": 1100,
       "header_visible": false,
       "layout": "IPY_MODEL_96e5c0e3a0d14e80a9ff9292e5879b42",
       "resizable": false,
       "toolbar": "IPY_MODEL_fb8306514e6145beb2980688d1736fcc",
       "toolbar_position": "left",
       "toolbar_visible": false
      }
     },
     "a38e3241a9c540eba8d1d83c40f73f1d": {
      "model_module": "@jupyter-widgets/base",
      "model_module_version": "1.2.0",
      "model_name": "LayoutModel",
      "state": {}
     },
     "a3b07445cf0e4001a140a801ef4843f9": {
      "model_module": "@jupyter-widgets/controls",
      "model_module_version": "1.5.0",
      "model_name": "DescriptionStyleModel",
      "state": {
       "description_width": ""
      }
     },
     "a3d1ea802de742bb8504287ba3e7368f": {
      "model_module": "@jupyter-widgets/base",
      "model_module_version": "1.2.0",
      "model_name": "LayoutModel",
      "state": {
       "align_items": "stretch",
       "display": "flex",
       "flex_flow": "column",
       "width": "1128px"
      }
     },
     "a3eb7c9792214054a7f04e386b53207a": {
      "model_module": "@jupyter-widgets/controls",
      "model_module_version": "1.5.0",
      "model_name": "VBoxModel",
      "state": {
       "children": [
        "IPY_MODEL_a5cdfc04ca174570b5ae758073a322c1",
        "IPY_MODEL_4a40e33dda9a49618c39a13e0910e334",
        "IPY_MODEL_8cad7f982f6f4f48a314238b74565c49"
       ],
       "layout": "IPY_MODEL_3ba02ad98d884b33a873217ebe2b8e23"
      }
     },
     "a406f4a0c07f44faa30b8569b938d8e2": {
      "model_module": "@jupyter-widgets/base",
      "model_module_version": "1.2.0",
      "model_name": "LayoutModel",
      "state": {}
     },
     "a41f8772aa6748f4965264ec8cd9f784": {
      "model_module": "@jupyter-widgets/base",
      "model_module_version": "1.2.0",
      "model_name": "LayoutModel",
      "state": {}
     },
     "a426aaa3e7924963b415124565ac2203": {
      "model_module": "@jupyter-widgets/controls",
      "model_module_version": "1.5.0",
      "model_name": "DescriptionStyleModel",
      "state": {
       "description_width": ""
      }
     },
     "a4357ae0be4f49e1b1b0d59f4723b991": {
      "model_module": "@jupyter-widgets/base",
      "model_module_version": "1.2.0",
      "model_name": "LayoutModel",
      "state": {
       "align_items": "stretch",
       "display": "flex",
       "flex_flow": "column",
       "width": "1128px"
      }
     },
     "a43ad0445ad642de81fcaebc2a8af268": {
      "model_module": "@jupyter-widgets/controls",
      "model_module_version": "1.5.0",
      "model_name": "HBoxModel",
      "state": {
       "children": [
        "IPY_MODEL_d2ed54c998ec43689e68d636034ea0c2",
        "IPY_MODEL_6696764f460a4e1c83f07d2d27d0ff52",
        "IPY_MODEL_7af8b5122b534a48b848284ee0755c8a",
        "IPY_MODEL_efb814be8b72450d97df19abe0c30b9c"
       ],
       "layout": "IPY_MODEL_044f3d9138a74a388d5314d7a57d3d5a"
      }
     },
     "a45806fe7a354d6081dc2574a750728f": {
      "model_module": "@jupyter-widgets/base",
      "model_module_version": "1.2.0",
      "model_name": "LayoutModel",
      "state": {}
     },
     "a45edd302ca249fa8a3beea61ba65b49": {
      "model_module": "@jupyter-widgets/controls",
      "model_module_version": "1.5.0",
      "model_name": "HBoxModel",
      "state": {
       "children": [
        "IPY_MODEL_d9dcbf2038ef464fbdc9359bc3db9cc7",
        "IPY_MODEL_65e43de5be4f47dd8636dea4b799bf1a",
        "IPY_MODEL_acd7bf0c4f4e4dbc9bdfebac29f57626"
       ],
       "layout": "IPY_MODEL_9a3cb2c8f2f445e78dcf96beb460ba12"
      }
     },
     "a470def425df4d40b380bda6d8aa8e50": {
      "model_module": "@jupyter-widgets/base",
      "model_module_version": "1.2.0",
      "model_name": "LayoutModel",
      "state": {}
     },
     "a477153c20914804ac391e4c8d98388e": {
      "model_module": "@jupyter-widgets/base",
      "model_module_version": "1.2.0",
      "model_name": "LayoutModel",
      "state": {}
     },
     "a48d9ba08ac84d83becae2719f3bbfab": {
      "model_module": "@jupyter-widgets/controls",
      "model_module_version": "1.5.0",
      "model_name": "SliderStyleModel",
      "state": {
       "description_width": ""
      }
     },
     "a499fddec44c41e6bbecaa99af5ca911": {
      "model_module": "@jupyter-widgets/controls",
      "model_module_version": "1.5.0",
      "model_name": "SliderStyleModel",
      "state": {
       "description_width": ""
      }
     },
     "a4b10a5ab56d417db89005c876b8e116": {
      "model_module": "@jupyter-widgets/base",
      "model_module_version": "1.2.0",
      "model_name": "LayoutModel",
      "state": {
       "border": "solid 4px #222",
       "margin": "4px",
       "padding": "0"
      }
     },
     "a4c84f51810f4bc7868b8b3e0b83a23a": {
      "model_module": "@jupyter-widgets/base",
      "model_module_version": "1.2.0",
      "model_name": "LayoutModel",
      "state": {}
     },
     "a4df914d73624390b94078bb1d2c9730": {
      "model_module": "@jupyter-widgets/base",
      "model_module_version": "1.2.0",
      "model_name": "LayoutModel",
      "state": {}
     },
     "a4fe6af400644bf18e5174f6fd9131db": {
      "model_module": "@jupyter-widgets/controls",
      "model_module_version": "1.5.0",
      "model_name": "FloatSliderModel",
      "state": {
       "description": "225°",
       "layout": "IPY_MODEL_cfe00aefcac041669c196f24a79a1ad5",
       "max": 1,
       "min": -1,
       "step": 0.01,
       "style": "IPY_MODEL_c49148231bba43f1bb4ebbffc068d80e"
      }
     },
     "a5101702ad514b898e58b2b617a4896b": {
      "model_module": "@jupyter-widgets/base",
      "model_module_version": "1.2.0",
      "model_name": "LayoutModel",
      "state": {}
     },
     "a531f7a44ba14014a0f62d10b410a530": {
      "model_module": "@jupyter-widgets/base",
      "model_module_version": "1.2.0",
      "model_name": "LayoutModel",
      "state": {}
     },
     "a561a55b79954141b2355f19c444e1f1": {
      "model_module": "@jupyter-widgets/base",
      "model_module_version": "1.2.0",
      "model_name": "LayoutModel",
      "state": {}
     },
     "a56afabd7cdd469586db6b8d56a01846": {
      "model_module": "@jupyter-widgets/controls",
      "model_module_version": "1.5.0",
      "model_name": "DescriptionStyleModel",
      "state": {
       "description_width": ""
      }
     },
     "a57112841b504e7fb7f43ab366b78257": {
      "model_module": "@jupyter-widgets/controls",
      "model_module_version": "1.5.0",
      "model_name": "ButtonModel",
      "state": {
       "description": "Save Figure",
       "layout": "IPY_MODEL_16b67e4f5b59474eb2698913f7557b2b",
       "style": "IPY_MODEL_d83b68272bff42eca30e62e9125d848b"
      }
     },
     "a585a32ceb8c40f18130afd0aa57d712": {
      "model_module": "@jupyter-widgets/controls",
      "model_module_version": "1.5.0",
      "model_name": "FloatSliderModel",
      "state": {
       "description": "Exposure",
       "layout": "IPY_MODEL_8e0bc6a9d37241a497b6250e89c26904",
       "max": 8,
       "min": -8,
       "step": 0.1,
       "style": "IPY_MODEL_edfe35f68fc14146a60207d9f5b5fb6b"
      }
     },
     "a5cdfc04ca174570b5ae758073a322c1": {
      "model_module": "@jupyter-widgets/controls",
      "model_module_version": "1.5.0",
      "model_name": "FloatSliderModel",
      "state": {
       "description": "135°",
       "layout": "IPY_MODEL_70b6d450ce5741ae9100e6ce0a2b5926",
       "max": 1,
       "min": -1,
       "step": 0.01,
       "style": "IPY_MODEL_5ab8dd51e9e044aeb5500f89101a2143"
      }
     },
     "a6110be9c8324b88b54546e52f9d55f9": {
      "model_module": "@jupyter-widgets/base",
      "model_module_version": "1.2.0",
      "model_name": "LayoutModel",
      "state": {}
     },
     "a63dea083a65428b99ed8434f2f294f7": {
      "model_module": "@jupyter-widgets/controls",
      "model_module_version": "1.5.0",
      "model_name": "SliderStyleModel",
      "state": {
       "description_width": ""
      }
     },
     "a642ec9d0e7647ddbd86225a2cd9a147": {
      "model_module": "@jupyter-widgets/controls",
      "model_module_version": "1.5.0",
      "model_name": "DropdownModel",
      "state": {
       "_options_labels": [
        "sRGB",
        "sRGB (ACES)",
        "Display P3",
        "Display P3 (ACES)"
       ],
       "description": "View Transform:",
       "index": 0,
       "layout": "IPY_MODEL_65d513cf4f8a46799d66e4655650d6fe",
       "style": "IPY_MODEL_b0b5842c791e43f0ae1dfded4a02ee18"
      }
     },
     "a6503df3d448470dae4c4d3127b52f00": {
      "model_module": "@jupyter-widgets/base",
      "model_module_version": "1.2.0",
      "model_name": "LayoutModel",
      "state": {}
     },
     "a6785d5f4a1149a09322a2bb9c38cfa6": {
      "model_module": "@jupyter-widgets/base",
      "model_module_version": "1.2.0",
      "model_name": "LayoutModel",
      "state": {}
     },
     "a67c29a248cd4893b5ced21bb7a65dc6": {
      "model_module": "@jupyter-widgets/base",
      "model_module_version": "1.2.0",
      "model_name": "LayoutModel",
      "state": {}
     },
     "a683281459a744f282cfb576cabd110f": {
      "model_module": "@jupyter-widgets/base",
      "model_module_version": "1.2.0",
      "model_name": "LayoutModel",
      "state": {}
     },
     "a6b27bf44a93426f826b4999a3d8a0b9": {
      "model_module": "@jupyter-widgets/base",
      "model_module_version": "1.2.0",
      "model_name": "LayoutModel",
      "state": {}
     },
     "a6b2c53940ee4a1a96475d68fd833f15": {
      "model_module": "@jupyter-widgets/base",
      "model_module_version": "1.2.0",
      "model_name": "LayoutModel",
      "state": {}
     },
     "a6c53dc66ba54664ab4c889ce4c3f85d": {
      "model_module": "@jupyter-widgets/controls",
      "model_module_version": "1.5.0",
      "model_name": "ButtonModel",
      "state": {
       "description": "Reset Exposure",
       "layout": "IPY_MODEL_7f0fa67533cf42eea4ab68f4578fd323",
       "style": "IPY_MODEL_539c2d489afc493e957e2d3be5f1833a"
      }
     },
     "a6cd1ffbf7fa4fabbc13476694bc5197": {
      "model_module": "@jupyter-widgets/controls",
      "model_module_version": "1.5.0",
      "model_name": "VBoxModel",
      "state": {
       "children": [
        "IPY_MODEL_79d6834f2dab434bb55ae181469eab10",
        "IPY_MODEL_f1aaba47715e471980a472c489938441",
        "IPY_MODEL_a4fe6af400644bf18e5174f6fd9131db"
       ],
       "layout": "IPY_MODEL_8a20af1610a0431ebc3d158e20220c2b"
      }
     },
     "a6e19b75a15544d9905d6d11bb8e3cc3": {
      "model_module": "@jupyter-widgets/controls",
      "model_module_version": "1.5.0",
      "model_name": "HBoxModel",
      "state": {
       "children": [
        "IPY_MODEL_8e7c42cdbcf341b4be1fe26bcc728d11",
        "IPY_MODEL_1875c6c3a7ec46a99bb12c96f6e75a73",
        "IPY_MODEL_1ead7af1f6c04bcc857bec83e5f1d193",
        "IPY_MODEL_31b79b1deaf34b32be2b19049282e9bd"
       ],
       "layout": "IPY_MODEL_7f9ff1f2658c48dd94d1ce57cd40c2b7"
      }
     },
     "a70247b170664265950f46e4dfd0ac2c": {
      "model_module": "@jupyter-widgets/base",
      "model_module_version": "1.2.0",
      "model_name": "LayoutModel",
      "state": {}
     },
     "a70a8dcb2c9a4b92bb8e6c2a62d52e6c": {
      "model_module": "@jupyter-widgets/base",
      "model_module_version": "1.2.0",
      "model_name": "LayoutModel",
      "state": {}
     },
     "a720eac557b94347a992243609612604": {
      "model_module": "@jupyter-widgets/base",
      "model_module_version": "1.2.0",
      "model_name": "LayoutModel",
      "state": {}
     },
     "a7405dae8b314b939549db37b5362c12": {
      "model_module": "@jupyter-widgets/base",
      "model_module_version": "1.2.0",
      "model_name": "LayoutModel",
      "state": {}
     },
     "a78a173d1c9747b5a87b0c2c6d90ecd0": {
      "model_module": "@jupyter-widgets/base",
      "model_module_version": "1.2.0",
      "model_name": "LayoutModel",
      "state": {}
     },
     "a79664e915e94654ac08c37dd5bbb68a": {
      "model_module": "jupyter-matplotlib",
      "model_module_version": "^0.7.2",
      "model_name": "MPLCanvasModel",
      "state": {
       "_figure_label": "Figure 3",
       "_height": 396,
       "_width": 1100,
       "header_visible": false,
       "layout": "IPY_MODEL_7e77293051854751a98069a8940e320c",
       "resizable": false,
       "toolbar": "IPY_MODEL_fdfde64f974d4606a6e8ed87264b9084",
       "toolbar_position": "left",
       "toolbar_visible": false
      }
     },
     "a799a8f7ec3046f682c57e25059bcf90": {
      "model_module": "@jupyter-widgets/controls",
      "model_module_version": "1.5.0",
      "model_name": "SliderStyleModel",
      "state": {
       "description_width": ""
      }
     },
     "a79de2ab830d46bea9362a5f694d7140": {
      "model_module": "@jupyter-widgets/base",
      "model_module_version": "1.2.0",
      "model_name": "LayoutModel",
      "state": {}
     },
     "a7de725353254aca9cf4623734eae015": {
      "model_module": "jupyter-matplotlib",
      "model_module_version": "^0.7.2",
      "model_name": "MPLCanvasModel",
      "state": {
       "_figure_label": "Figure 17",
       "_height": 430,
       "_width": 1099,
       "header_visible": false,
       "layout": "IPY_MODEL_07da4b3f0f6043ceb8fe6ecf661d4f95",
       "resizable": false,
       "toolbar": "IPY_MODEL_3165c33eec55417b8bf1f6173e349ecc",
       "toolbar_position": "left",
       "toolbar_visible": false
      }
     },
     "a7f4868a74164401adc23a1954bb2bf0": {
      "model_module": "@jupyter-widgets/base",
      "model_module_version": "1.2.0",
      "model_name": "LayoutModel",
      "state": {}
     },
     "a804446f41484967b286a56f903496cc": {
      "model_module": "@jupyter-widgets/controls",
      "model_module_version": "1.5.0",
      "model_name": "FloatSliderModel",
      "state": {
       "description": "270°",
       "layout": "IPY_MODEL_95cb1cf303b041e387ba4c77d1d94206",
       "max": 1,
       "min": -1,
       "step": 0.01,
       "style": "IPY_MODEL_4f2d4a49b5d84e2ca965e6ef34da894f"
      }
     },
     "a808ea68f3f4428ab24b885ef616be81": {
      "model_module": "@jupyter-widgets/controls",
      "model_module_version": "1.5.0",
      "model_name": "ButtonStyleModel",
      "state": {}
     },
     "a80908da76d149b78ca1206df017087e": {
      "model_module": "@jupyter-widgets/controls",
      "model_module_version": "1.5.0",
      "model_name": "SliderStyleModel",
      "state": {
       "description_width": ""
      }
     },
     "a820b41eb4604420a02ee0a7ed0d1d09": {
      "model_module": "@jupyter-widgets/base",
      "model_module_version": "1.2.0",
      "model_name": "LayoutModel",
      "state": {}
     },
     "a82c539d004c4a8caa3ca743bee73aa1": {
      "model_module": "@jupyter-widgets/controls",
      "model_module_version": "1.5.0",
      "model_name": "HBoxModel",
      "state": {
       "children": [
        "IPY_MODEL_2447cb03c2944da0b635650a7d085081",
        "IPY_MODEL_7f335addb56b4ec2beaca39243b82118",
        "IPY_MODEL_f311300af634466c9e84682f8d11bcf1"
       ],
       "layout": "IPY_MODEL_62f5239057c24a3d80b246199c7af46f"
      }
     },
     "a86224d64bac4797990b00037d232300": {
      "model_module": "@jupyter-widgets/base",
      "model_module_version": "1.2.0",
      "model_name": "LayoutModel",
      "state": {}
     },
     "a86927f1b01441a7a962290ba7d2b8da": {
      "model_module": "@jupyter-widgets/controls",
      "model_module_version": "1.5.0",
      "model_name": "ButtonStyleModel",
      "state": {}
     },
     "a87ce921f8ca45c3a994a93548885542": {
      "model_module": "@jupyter-widgets/controls",
      "model_module_version": "1.5.0",
      "model_name": "ButtonStyleModel",
      "state": {}
     },
     "a8b80d3ddf704adc81f4cef05676bcec": {
      "model_module": "@jupyter-widgets/controls",
      "model_module_version": "1.5.0",
      "model_name": "DescriptionStyleModel",
      "state": {
       "description_width": ""
      }
     },
     "a8d58c13421c41ada0f6a5c094bf63fe": {
      "model_module": "@jupyter-widgets/base",
      "model_module_version": "1.2.0",
      "model_name": "LayoutModel",
      "state": {}
     },
     "a8f737efcbe94b458f4eab105f42edaf": {
      "model_module": "@jupyter-widgets/base",
      "model_module_version": "1.2.0",
      "model_name": "LayoutModel",
      "state": {}
     },
     "a90098f567584ff88e76f8bb2b655e94": {
      "model_module": "@jupyter-widgets/controls",
      "model_module_version": "1.5.0",
      "model_name": "ButtonStyleModel",
      "state": {}
     },
     "a90f56c233b441208e43fa59c353e974": {
      "model_module": "@jupyter-widgets/base",
      "model_module_version": "1.2.0",
      "model_name": "LayoutModel",
      "state": {}
     },
     "a91391057b3b40b398d0470a59cb9915": {
      "model_module": "@jupyter-widgets/base",
      "model_module_version": "1.2.0",
      "model_name": "LayoutModel",
      "state": {}
     },
     "a93a7c220845432cacd406ff540e8b4f": {
      "model_module": "@jupyter-widgets/controls",
      "model_module_version": "1.5.0",
      "model_name": "FloatSliderModel",
      "state": {
       "description": "315°",
       "layout": "IPY_MODEL_5543803fa0114793a5dcf1c74e5190c7",
       "max": 1,
       "min": -1,
       "step": 0.01,
       "style": "IPY_MODEL_bb358a5565e94f7a8e1dce8c5c35fa54"
      }
     },
     "a94cf238ed5647d38aa43908092d0d81": {
      "model_module": "@jupyter-widgets/controls",
      "model_module_version": "1.5.0",
      "model_name": "HBoxModel",
      "state": {
       "children": [
        "IPY_MODEL_6ff0085ef2d3482299ba0035e512e3f5",
        "IPY_MODEL_de3d6236865445faa49460b25a4f6168",
        "IPY_MODEL_ceb2555c54a44984868c43dcecb4de3a"
       ],
       "layout": "IPY_MODEL_7aa01dd9ca38460db70ccbbc8fe5bd06"
      }
     },
     "a9521805e0aa42ce85b6650bcce69ce1": {
      "model_module": "@jupyter-widgets/controls",
      "model_module_version": "1.5.0",
      "model_name": "CheckboxModel",
      "state": {
       "description": "Show Out-of-Gamut",
       "disabled": false,
       "layout": "IPY_MODEL_883fadbb7cfc42caa428c7bbda240a18",
       "style": "IPY_MODEL_5ad4a23be7dd4bf3ae7f4533931d65c0",
       "value": false
      }
     },
     "a98321863ac140bf94444ce9a391cd44": {
      "model_module": "@jupyter-widgets/base",
      "model_module_version": "1.2.0",
      "model_name": "LayoutModel",
      "state": {}
     },
     "a99be6f83d40478ebae6cca7f2e1cf95": {
      "model_module": "@jupyter-widgets/controls",
      "model_module_version": "1.5.0",
      "model_name": "FloatSliderModel",
      "state": {
       "description": "0°",
       "layout": "IPY_MODEL_47ee002befe140348a123c8b6de8dbdc",
       "max": 1,
       "min": -1,
       "step": 0.01,
       "style": "IPY_MODEL_c7ae2896a8b5474b93ec73970005b478"
      }
     },
     "a9f93f1a09c144fc90b554bee82de0a7": {
      "model_module": "@jupyter-widgets/controls",
      "model_module_version": "1.5.0",
      "model_name": "FloatSliderModel",
      "state": {
       "description": "Protected Area Threshold",
       "layout": "IPY_MODEL_3fea339b9f4048caa6b4062c09bcb4df",
       "max": 1,
       "step": 0.01,
       "style": "IPY_MODEL_f9439727c5334bf487c7dc4f1ad38d5e",
       "value": 0.7
      }
     },
     "a9fb0a702179478ea461af082d61512c": {
      "model_module": "@jupyter-widgets/base",
      "model_module_version": "1.2.0",
      "model_name": "LayoutModel",
      "state": {}
     },
     "a9fcdd5687b645018f4e2cc5b161807d": {
      "model_module": "@jupyter-widgets/base",
      "model_module_version": "1.2.0",
      "model_name": "LayoutModel",
      "state": {}
     },
     "aa7cbafc021b46be9122454b12fe42e4": {
      "model_module": "@jupyter-widgets/controls",
      "model_module_version": "1.5.0",
      "model_name": "DescriptionStyleModel",
      "state": {
       "description_width": ""
      }
     },
     "aab42cc90fd74daa946ee6081467f323": {
      "model_module": "@jupyter-widgets/controls",
      "model_module_version": "1.5.0",
      "model_name": "DescriptionStyleModel",
      "state": {
       "description_width": ""
      }
     },
     "aabffdc3879b4e269e27fc464a1a6e8f": {
      "model_module": "@jupyter-widgets/base",
      "model_module_version": "1.2.0",
      "model_name": "LayoutModel",
      "state": {
       "align_items": "stretch",
       "display": "flex",
       "flex_flow": "column",
       "width": "1128px"
      }
     },
     "aaf4ccc49c424539b3329eddeac1fb02": {
      "model_module": "@jupyter-widgets/base",
      "model_module_version": "1.2.0",
      "model_name": "LayoutModel",
      "state": {}
     },
     "ab06c857cc674571b8277c460553b08c": {
      "model_module": "@jupyter-widgets/controls",
      "model_module_version": "1.5.0",
      "model_name": "VBoxModel",
      "state": {
       "children": [
        "IPY_MODEL_3dcb63f639ef485da4c695f27f427c20",
        "IPY_MODEL_4b830ec308a0419ea0aee5a2ec905a82",
        "IPY_MODEL_c955c3ea1a7c4a70b551692f0facc43f"
       ],
       "layout": "IPY_MODEL_8482b74d05ac48ac97918aca9cda1b92"
      }
     },
     "ab80acc7fe244ede80ddbae31d39db6a": {
      "model_module": "@jupyter-widgets/controls",
      "model_module_version": "1.5.0",
      "model_name": "SliderStyleModel",
      "state": {
       "description_width": ""
      }
     },
     "ab87c05d339042f5856d28e7595055d0": {
      "model_module": "@jupyter-widgets/base",
      "model_module_version": "1.2.0",
      "model_name": "LayoutModel",
      "state": {}
     },
     "ab9a5bba817740bb9c2397782ca53dbc": {
      "model_module": "@jupyter-widgets/base",
      "model_module_version": "1.2.0",
      "model_name": "LayoutModel",
      "state": {}
     },
     "abc068825dad4c24a1132a2cde8c980e": {
      "model_module": "@jupyter-widgets/base",
      "model_module_version": "1.2.0",
      "model_name": "LayoutModel",
      "state": {}
     },
     "abef49cc61004cd0a3c1d249c92e4ab6": {
      "model_module": "@jupyter-widgets/base",
      "model_module_version": "1.2.0",
      "model_name": "LayoutModel",
      "state": {}
     },
     "ac366c3031a54cc0b831c17a61a2e084": {
      "model_module": "@jupyter-widgets/base",
      "model_module_version": "1.2.0",
      "model_name": "LayoutModel",
      "state": {}
     },
     "ac3771f64b2445e287854a19497745e3": {
      "model_module": "jupyter-matplotlib",
      "model_module_version": "^0.7.2",
      "model_name": "MPLCanvasModel",
      "state": {
       "_figure_label": "Figure 12",
       "_height": 396,
       "_width": 1100,
       "header_visible": false,
       "layout": "IPY_MODEL_44c2e79aacf148ccba0369c8ed1c1d2e",
       "resizable": false,
       "toolbar": "IPY_MODEL_b105f3cf04614eefa9194421a6b1d0a0",
       "toolbar_position": "left",
       "toolbar_visible": false
      }
     },
     "ac43db1894bd416b8babb4277d5ef696": {
      "model_module": "@jupyter-widgets/base",
      "model_module_version": "1.2.0",
      "model_name": "LayoutModel",
      "state": {
       "border": "solid 4px #222",
       "margin": "4px",
       "padding": "0"
      }
     },
     "ac4c63a1e35444da87f82ba7d0de5300": {
      "model_module": "@jupyter-widgets/output",
      "model_module_version": "1.0.0",
      "model_name": "OutputModel",
      "state": {
       "layout": "IPY_MODEL_b8c5b0c717cd44578e4f2c046f9a639f",
       "outputs": [
        {
         "data": {
          "application/vnd.jupyter.widget-view+json": {
           "model_id": "3c31a1542cd0475d926875a4b2bb6cb2",
           "version_major": 2,
           "version_minor": 0
          },
          "text/plain": "Canvas(toolbar=Toolbar(toolitems=[('Home', 'Reset original view', 'home', 'home'), ('Back', 'Back to previous …"
         },
         "metadata": {},
         "output_type": "display_data"
        }
       ]
      }
     },
     "ac7da4da0578473f98b9d8e701dc3bfc": {
      "model_module": "@jupyter-widgets/controls",
      "model_module_version": "1.5.0",
      "model_name": "ButtonStyleModel",
      "state": {}
     },
     "ac86639080ac44d8a9d0e588db5711ca": {
      "model_module": "@jupyter-widgets/base",
      "model_module_version": "1.2.0",
      "model_name": "LayoutModel",
      "state": {}
     },
     "acac7cba2be34c54a8ac6852fe2342f4": {
      "model_module": "@jupyter-widgets/base",
      "model_module_version": "1.2.0",
      "model_name": "LayoutModel",
      "state": {}
     },
     "acc51a0eaeff48a981ef01f849d0ea7f": {
      "model_module": "@jupyter-widgets/base",
      "model_module_version": "1.2.0",
      "model_name": "LayoutModel",
      "state": {}
     },
     "acd7bf0c4f4e4dbc9bdfebac29f57626": {
      "model_module": "@jupyter-widgets/controls",
      "model_module_version": "1.5.0",
      "model_name": "FloatSliderModel",
      "state": {
       "description": "Compression Threshold",
       "layout": "IPY_MODEL_7470dd52b010416785d54840ed4a34c5",
       "max": 1,
       "step": 0.01,
       "style": "IPY_MODEL_be19a74463b34538aa3d29db1b6978b9",
       "value": 0.8
      }
     },
     "acf1e204c97543faaf3fe5c1e2ceb1d3": {
      "model_module": "@jupyter-widgets/controls",
      "model_module_version": "1.5.0",
      "model_name": "ButtonStyleModel",
      "state": {}
     },
     "acf752254cea49e186fd7300b5a7c16c": {
      "model_module": "@jupyter-widgets/controls",
      "model_module_version": "1.5.0",
      "model_name": "ButtonStyleModel",
      "state": {}
     },
     "ad1b8552956347a2a9e86d37ff80c8ac": {
      "model_module": "@jupyter-widgets/controls",
      "model_module_version": "1.5.0",
      "model_name": "HBoxModel",
      "state": {
       "children": [
        "IPY_MODEL_87c73750af11409eafdd557d74d68233",
        "IPY_MODEL_26571889e707460bb7ca0f6ece0ab8c7",
        "IPY_MODEL_771cd68035b04704864b5e3b879b0287"
       ],
       "layout": "IPY_MODEL_404ab902f62c4b28a65cca4ac5f3cfad"
      }
     },
     "ad406327872d44aa8511ba498908ac28": {
      "model_module": "@jupyter-widgets/controls",
      "model_module_version": "1.5.0",
      "model_name": "FloatSliderModel",
      "state": {
       "description": "135°",
       "layout": "IPY_MODEL_66f8de82e36f49cd85de2cd05fd75fd3",
       "max": 1,
       "min": -1,
       "step": 0.01,
       "style": "IPY_MODEL_7aa06994835b4d5c9fae2a72de2d271e"
      }
     },
     "ad52502e61074bd2980bdc05778a1cf4": {
      "model_module": "@jupyter-widgets/controls",
      "model_module_version": "1.5.0",
      "model_name": "SliderStyleModel",
      "state": {
       "description_width": ""
      }
     },
     "ad92505ceea149f789b42517eab535b3": {
      "model_module": "@jupyter-widgets/controls",
      "model_module_version": "1.5.0",
      "model_name": "FloatSliderModel",
      "state": {
       "description": "Compression Threshold",
       "layout": "IPY_MODEL_c5a07f704a0540f7a3785d2d9fdbbca5",
       "max": 1,
       "step": 0.01,
       "style": "IPY_MODEL_9dd3482d6c9b41b997f874837bb7ee8c",
       "value": 0.5
      }
     },
     "adbcfc829ef148fdab989aee01ab4ae5": {
      "model_module": "@jupyter-widgets/base",
      "model_module_version": "1.2.0",
      "model_name": "LayoutModel",
      "state": {
       "border": "solid 4px #222",
       "margin": "4px",
       "padding": "0"
      }
     },
     "add580186627492198807e7d8b70cd73": {
      "model_module": "jupyter-matplotlib",
      "model_module_version": "^0.7.2",
      "model_name": "MPLCanvasModel",
      "state": {
       "_figure_label": "Figure 11",
       "_height": 696,
       "_width": 1100,
       "header_visible": false,
       "layout": "IPY_MODEL_47a6a0746a4c442687f6d271ad4e0207",
       "resizable": false,
       "toolbar": "IPY_MODEL_2d8f237159a74443ac124622d4f99774",
       "toolbar_position": "left",
       "toolbar_visible": false
      }
     },
     "ae0457bc8bd24d9da3903d039b86435a": {
      "model_module": "@jupyter-widgets/controls",
      "model_module_version": "1.5.0",
      "model_name": "SliderStyleModel",
      "state": {
       "description_width": ""
      }
     },
     "ae060490e19840da86e0cd02171eeb75": {
      "model_module": "@jupyter-widgets/controls",
      "model_module_version": "1.5.0",
      "model_name": "ButtonModel",
      "state": {
       "description": "Reset Exposure",
       "layout": "IPY_MODEL_88dedaa9335a426591610a6a82fdb89f",
       "style": "IPY_MODEL_01a10368e45b4dd4ad1668705c86dc14"
      }
     },
     "ae17399cbdc14d0c83b88408b30196f1": {
      "model_module": "@jupyter-widgets/controls",
      "model_module_version": "1.5.0",
      "model_name": "ButtonModel",
      "state": {
       "description": "Save Figure",
       "layout": "IPY_MODEL_a34630de97d54fa08aa36f5853277bbc",
       "style": "IPY_MODEL_4997d4048f3e4cb6876f31c8375296a6"
      }
     },
     "ae6fccf7a1f741a6b38804cc9c12710b": {
      "model_module": "@jupyter-widgets/controls",
      "model_module_version": "1.5.0",
      "model_name": "HBoxModel",
      "state": {
       "children": [
        "IPY_MODEL_e9a1377e641d4acc91a4400c216b82fb",
        "IPY_MODEL_3023471dd71a47c0b7ce42cb881f5353",
        "IPY_MODEL_7eb4d66dc0284e5eb4702a98ee48524f",
        "IPY_MODEL_05b9b75759c34b36873dc5ad795450ee"
       ],
       "layout": "IPY_MODEL_6558e5e5695e480ea315e4d00a60ba10"
      }
     },
     "ae7461afd51c43529722a794e9005b8b": {
      "model_module": "@jupyter-widgets/base",
      "model_module_version": "1.2.0",
      "model_name": "LayoutModel",
      "state": {}
     },
     "ae88a8030c904993a31bca2977120a30": {
      "model_module": "@jupyter-widgets/base",
      "model_module_version": "1.2.0",
      "model_name": "LayoutModel",
      "state": {}
     },
     "ae96f202be9341e8bc53991937dea0b0": {
      "model_module": "@jupyter-widgets/base",
      "model_module_version": "1.2.0",
      "model_name": "LayoutModel",
      "state": {}
     },
     "af4a92b7477c44e8af4694eea1c20ca4": {
      "model_module": "@jupyter-widgets/controls",
      "model_module_version": "1.5.0",
      "model_name": "DescriptionStyleModel",
      "state": {
       "description_width": ""
      }
     },
     "af6725877d1b4812adb992f4516587b1": {
      "model_module": "@jupyter-widgets/base",
      "model_module_version": "1.2.0",
      "model_name": "LayoutModel",
      "state": {}
     },
     "af7750b98d7747b0b59fc903d1f76c25": {
      "model_module": "@jupyter-widgets/controls",
      "model_module_version": "1.5.0",
      "model_name": "SliderStyleModel",
      "state": {
       "description_width": ""
      }
     },
     "af7d4d469a7f4238bb6b3c64a56daa86": {
      "model_module": "@jupyter-widgets/base",
      "model_module_version": "1.2.0",
      "model_name": "LayoutModel",
      "state": {}
     },
     "afa22cbdc3f148f69e6b4bdfd4b83647": {
      "model_module": "@jupyter-widgets/base",
      "model_module_version": "1.2.0",
      "model_name": "LayoutModel",
      "state": {}
     },
     "afafdd43e96344cf9a55e3c58bbf76f0": {
      "model_module": "@jupyter-widgets/controls",
      "model_module_version": "1.5.0",
      "model_name": "DropdownModel",
      "state": {
       "_options_labels": [
        "sRGB",
        "sRGB (ACES)",
        "Display P3",
        "Display P3 (ACES)"
       ],
       "description": "View Transform:",
       "index": 0,
       "layout": "IPY_MODEL_43c6979a3ef143c6a6c574a6fe8064b2",
       "style": "IPY_MODEL_436957ce63df4858a0cdda4090031064"
      }
     },
     "afb77c4945134d0a9b88d4888e3464e4": {
      "model_module": "@jupyter-widgets/base",
      "model_module_version": "1.2.0",
      "model_name": "LayoutModel",
      "state": {}
     },
     "afd3497e192b43199c3a2d3d39696b94": {
      "model_module": "@jupyter-widgets/base",
      "model_module_version": "1.2.0",
      "model_name": "LayoutModel",
      "state": {}
     },
     "afd5cd16e2524b119f32b834c8fb7f61": {
      "model_module": "@jupyter-widgets/controls",
      "model_module_version": "1.5.0",
      "model_name": "FloatSliderModel",
      "state": {
       "description": "225°",
       "layout": "IPY_MODEL_75fa4d0123e642ed850e8ba9e94e02f6",
       "max": 1,
       "min": -1,
       "step": 0.01,
       "style": "IPY_MODEL_80e2845a0dd04b57b1a9b780832d151e"
      }
     },
     "b04d53407618462ba79d401d3fe39106": {
      "model_module": "@jupyter-widgets/controls",
      "model_module_version": "1.5.0",
      "model_name": "SliderStyleModel",
      "state": {
       "description_width": ""
      }
     },
     "b05546c0745547888ce514ccad2fd24f": {
      "model_module": "@jupyter-widgets/controls",
      "model_module_version": "1.5.0",
      "model_name": "FloatSliderModel",
      "state": {
       "description": "90°",
       "layout": "IPY_MODEL_73e0020d97c24ac6a068d11a63fba44e",
       "max": 1,
       "min": -1,
       "step": 0.01,
       "style": "IPY_MODEL_6ebce15bc4eb433e9af4560d91125681"
      }
     },
     "b085be24c681429eaa0dff8100f43e08": {
      "model_module": "@jupyter-widgets/base",
      "model_module_version": "1.2.0",
      "model_name": "LayoutModel",
      "state": {}
     },
     "b0b292f2f6884129b659fdb2a949dae9": {
      "model_module": "@jupyter-widgets/controls",
      "model_module_version": "1.5.0",
      "model_name": "CheckboxModel",
      "state": {
       "description": "Disable Medicina",
       "disabled": false,
       "layout": "IPY_MODEL_540c3e1f4e924ba89e92608903ef7236",
       "style": "IPY_MODEL_dcef434b8fad4d559d69c6db56345124",
       "value": true
      }
     },
     "b0b5842c791e43f0ae1dfded4a02ee18": {
      "model_module": "@jupyter-widgets/controls",
      "model_module_version": "1.5.0",
      "model_name": "DescriptionStyleModel",
      "state": {
       "description_width": ""
      }
     },
     "b0f5167a6488438b964e1aff0d010577": {
      "model_module": "@jupyter-widgets/controls",
      "model_module_version": "1.5.0",
      "model_name": "FloatSliderModel",
      "state": {
       "description": "Compression Threshold",
       "layout": "IPY_MODEL_76e81a35ef334ce39acf27636ac75071",
       "max": 1,
       "step": 0.01,
       "style": "IPY_MODEL_460fcb939f4543fdabab334fc72a39ef",
       "value": 0.8
      }
     },
     "b104ffb279754b649a82a6e3f6884f72": {
      "model_module": "@jupyter-widgets/base",
      "model_module_version": "1.2.0",
      "model_name": "LayoutModel",
      "state": {}
     },
     "b105f3cf04614eefa9194421a6b1d0a0": {
      "model_module": "jupyter-matplotlib",
      "model_module_version": "^0.7.2",
      "model_name": "ToolbarModel",
      "state": {
       "layout": "IPY_MODEL_44dd4024ef844703a156556e6c43fbdd",
       "toolitems": [
        [
         "Home",
         "Reset original view",
         "home",
         "home"
        ],
        [
         "Back",
         "Back to previous view",
         "arrow-left",
         "back"
        ],
        [
         "Forward",
         "Forward to next view",
         "arrow-right",
         "forward"
        ],
        [
         "Pan",
         "Pan axes with left mouse, zoom with right",
         "arrows",
         "pan"
        ],
        [
         "Zoom",
         "Zoom to rectangle",
         "square-o",
         "zoom"
        ],
        [
         "Download",
         "Download plot",
         "floppy-o",
         "save_figure"
        ]
       ]
      }
     },
     "b12d306aad3c4696b7802acd8b3aa77e": {
      "model_module": "@jupyter-widgets/base",
      "model_module_version": "1.2.0",
      "model_name": "LayoutModel",
      "state": {}
     },
     "b13237ba5c954524bac4b9083ef7dc2e": {
      "model_module": "@jupyter-widgets/controls",
      "model_module_version": "1.5.0",
      "model_name": "ButtonStyleModel",
      "state": {}
     },
     "b142d127162540f2a8509877455b42c0": {
      "model_module": "@jupyter-widgets/controls",
      "model_module_version": "1.5.0",
      "model_name": "VBoxModel",
      "state": {
       "children": [
        "IPY_MODEL_cf271b2fbaed4747b860f1e9f0be8758",
        "IPY_MODEL_1515f9c9191b48e885cc7e79de6e8f04"
       ],
       "layout": "IPY_MODEL_db31d6a33b7f4752b826e8ba5c9acd27"
      }
     },
     "b176366e75df482a828458b023db1dcd": {
      "model_module": "@jupyter-widgets/base",
      "model_module_version": "1.2.0",
      "model_name": "LayoutModel",
      "state": {}
     },
     "b17a678a4cec4fe0b2c77084d2415c41": {
      "model_module": "@jupyter-widgets/base",
      "model_module_version": "1.2.0",
      "model_name": "LayoutModel",
      "state": {}
     },
     "b1a52c449aac4c878840602fe4daf729": {
      "model_module": "@jupyter-widgets/controls",
      "model_module_version": "1.5.0",
      "model_name": "DescriptionStyleModel",
      "state": {
       "description_width": ""
      }
     },
     "b1aca8a275674d49a26b48a976f6620f": {
      "model_module": "@jupyter-widgets/base",
      "model_module_version": "1.2.0",
      "model_name": "LayoutModel",
      "state": {}
     },
     "b1b1087681f0484abb8252910677ff4e": {
      "model_module": "@jupyter-widgets/controls",
      "model_module_version": "1.5.0",
      "model_name": "HBoxModel",
      "state": {
       "children": [
        "IPY_MODEL_2184e7f7a889434988668e4a0b3cebfc",
        "IPY_MODEL_a308633ae25a4c0cb4a7487de17674b9"
       ],
       "layout": "IPY_MODEL_b176366e75df482a828458b023db1dcd"
      }
     },
     "b1c849890c2f4c518a9c6b82a7ed80b2": {
      "model_module": "jupyter-matplotlib",
      "model_module_version": "^0.7.2",
      "model_name": "MPLCanvasModel",
      "state": {
       "_figure_label": "Figure 13",
       "_height": 396,
       "_width": 1100,
       "header_visible": false,
       "layout": "IPY_MODEL_2fa0956bcdad4901ad893767787e8412",
       "resizable": false,
       "toolbar": "IPY_MODEL_84e5528b0aaf47c0b8f80dbde81e63d9",
       "toolbar_position": "left",
       "toolbar_visible": false
      }
     },
     "b1f3f84c9acc405d85c5a9a1e14b82da": {
      "model_module": "@jupyter-widgets/controls",
      "model_module_version": "1.5.0",
      "model_name": "ButtonModel",
      "state": {
       "description": "Export Image",
       "layout": "IPY_MODEL_8903677e033a470b9a469e347a88c1be",
       "style": "IPY_MODEL_737997bde1e04e80b039a19f58ded7e7"
      }
     },
     "b2098f7edec0412f9ef2efbde97d332c": {
      "model_module": "@jupyter-widgets/controls",
      "model_module_version": "1.5.0",
      "model_name": "VBoxModel",
      "state": {
       "children": [
        "IPY_MODEL_e87f26dfb2a14e7d959bf39829b7ed68",
        "IPY_MODEL_8695345d0e124686845afdffaeb73b5b",
        "IPY_MODEL_cb1c3546c8d54b5e91c776d9f08d26c8"
       ],
       "layout": "IPY_MODEL_2153354ea83d40e0b7e8353920bd4662"
      }
     },
     "b21b9c8263354baa9f99c8aa136db6ab": {
      "model_module": "@jupyter-widgets/controls",
      "model_module_version": "1.5.0",
      "model_name": "ButtonModel",
      "state": {
       "description": "Reset Exposure",
       "layout": "IPY_MODEL_f0fc72ec40ed42b8927e3961013d1d92",
       "style": "IPY_MODEL_a808ea68f3f4428ab24b885ef616be81"
      }
     },
     "b2239befc02b42e09cf8a2d656a46787": {
      "model_module": "@jupyter-widgets/base",
      "model_module_version": "1.2.0",
      "model_name": "LayoutModel",
      "state": {
       "border": "solid 4px #222",
       "margin": "4px",
       "padding": "0"
      }
     },
     "b22b13f4cc6a41e5846d80e941aa732b": {
      "model_module": "@jupyter-widgets/controls",
      "model_module_version": "1.5.0",
      "model_name": "ButtonModel",
      "state": {
       "description": "Reset Exposure",
       "layout": "IPY_MODEL_3155175cc2124c3283e0c8df2e562b8b",
       "style": "IPY_MODEL_ba67a2ba3a594d4bb186def2708b8c63"
      }
     },
     "b266a037b01046619ef929d4616c3822": {
      "model_module": "@jupyter-widgets/base",
      "model_module_version": "1.2.0",
      "model_name": "LayoutModel",
      "state": {}
     },
     "b26adcbf40fa4c3185ce6efffc37cb27": {
      "model_module": "jupyter-matplotlib",
      "model_module_version": "^0.7.2",
      "model_name": "MPLCanvasModel",
      "state": {
       "_figure_label": "Figure 30",
       "_height": 396,
       "_width": 1100,
       "header_visible": false,
       "layout": "IPY_MODEL_c7930d810aee47ce9f56765f44c60ceb",
       "resizable": false,
       "toolbar": "IPY_MODEL_5f6e26af00774224a2e0cde0879c7b58",
       "toolbar_position": "left",
       "toolbar_visible": false
      }
     },
     "b26faa9101654c6897623a61f97e9d04": {
      "model_module": "@jupyter-widgets/base",
      "model_module_version": "1.2.0",
      "model_name": "LayoutModel",
      "state": {}
     },
     "b276eb50e0b74172b0dd9fdea547a562": {
      "model_module": "@jupyter-widgets/controls",
      "model_module_version": "1.5.0",
      "model_name": "HBoxModel",
      "state": {
       "children": [
        "IPY_MODEL_7e924b8772d84c95a46009b0ec1c5410",
        "IPY_MODEL_129ecf1a73da4d37873ecca96f643145"
       ],
       "layout": "IPY_MODEL_d14a1b84e48743cc9e583b83de49df5b"
      }
     },
     "b28eb4f4039b4ab1aa0546b171c24225": {
      "model_module": "@jupyter-widgets/base",
      "model_module_version": "1.2.0",
      "model_name": "LayoutModel",
      "state": {}
     },
     "b299747947a94a05883b9abbf851c21a": {
      "model_module": "@jupyter-widgets/base",
      "model_module_version": "1.2.0",
      "model_name": "LayoutModel",
      "state": {}
     },
     "b2a50163e6d840b69a98f388cccad6a9": {
      "model_module": "@jupyter-widgets/controls",
      "model_module_version": "1.5.0",
      "model_name": "ButtonStyleModel",
      "state": {}
     },
     "b2bc0387cfb94ac8a0f6d6005da3e585": {
      "model_module": "@jupyter-widgets/base",
      "model_module_version": "1.2.0",
      "model_name": "LayoutModel",
      "state": {}
     },
     "b2f4826f260c4fd1a480727295c36a50": {
      "model_module": "@jupyter-widgets/base",
      "model_module_version": "1.2.0",
      "model_name": "LayoutModel",
      "state": {}
     },
     "b323b33a974a40bb8df2c0f75bf1d41a": {
      "model_module": "@jupyter-widgets/controls",
      "model_module_version": "1.5.0",
      "model_name": "BoxModel",
      "state": {
       "children": [
        "IPY_MODEL_63e38ab4a43e4e39ab5ca564946b59e5",
        "IPY_MODEL_9b78cf8fc20c43a8aa0bfc6fa131e8a9"
       ],
       "layout": "IPY_MODEL_2c68900a364642d395ca42af66faac62"
      }
     },
     "b33f3b06b41e4e018fe4ab2ab84c35e7": {
      "model_module": "@jupyter-widgets/base",
      "model_module_version": "1.2.0",
      "model_name": "LayoutModel",
      "state": {}
     },
     "b385c385148e48159d8e112ff8887b1a": {
      "model_module": "@jupyter-widgets/controls",
      "model_module_version": "1.5.0",
      "model_name": "SliderStyleModel",
      "state": {
       "description_width": ""
      }
     },
     "b38a7c7b919744d4b7ca997a61e7e8f2": {
      "model_module": "@jupyter-widgets/controls",
      "model_module_version": "1.5.0",
      "model_name": "CheckboxModel",
      "state": {
       "description": "Show Out-of-Gamut",
       "disabled": false,
       "layout": "IPY_MODEL_113ac2bed0d348d59502f1ce79cb9f87",
       "style": "IPY_MODEL_cd7f8feb089b482c93030fc0d8a4f15e",
       "value": false
      }
     },
     "b3970f3d6b7e4d6ba3a39bc42a3b23ca": {
      "model_module": "@jupyter-widgets/controls",
      "model_module_version": "1.5.0",
      "model_name": "ButtonModel",
      "state": {
       "description": "Reset Saturation Controls",
       "layout": "IPY_MODEL_b972083012994daa95df35773b59c79e",
       "style": "IPY_MODEL_1848154304eb44f799b9e099b741840e"
      }
     },
     "b3a37a99c5b34aa7b9425159541d1ce7": {
      "model_module": "@jupyter-widgets/controls",
      "model_module_version": "1.5.0",
      "model_name": "TabModel",
      "state": {
       "_titles": {
        "0": "Global Controls",
        "1": "Viewer Controls",
        "2": "Protected Area Controls",
        "3": "Saturation Controls",
        "4": "Hue Controls"
       },
       "children": [
        "IPY_MODEL_b6417f0aa2164638bce7bc08446fa01c",
        "IPY_MODEL_18ef6add3f8a414e89770285c56f6c06",
        "IPY_MODEL_b1b1087681f0484abb8252910677ff4e",
        "IPY_MODEL_4a77a5fd5bc647bab54f0e64abbb1e00",
        "IPY_MODEL_a1ccb346bc024c0785147ea147643272"
       ],
       "layout": "IPY_MODEL_e016f0b246454b2f8194c578422064bf"
      }
     },
     "b3b6db72803d462f95f675f8898e5082": {
      "model_module": "@jupyter-widgets/controls",
      "model_module_version": "1.5.0",
      "model_name": "DescriptionStyleModel",
      "state": {
       "description_width": ""
      }
     },
     "b3d878418ce749efb8450cff4b2ad8d2": {
      "model_module": "@jupyter-widgets/controls",
      "model_module_version": "1.5.0",
      "model_name": "HBoxModel",
      "state": {
       "children": [
        "IPY_MODEL_cf530f03bfb0490da729f48a2b356721",
        "IPY_MODEL_5448dfff25a0464c867ff115b1d2eb66",
        "IPY_MODEL_0b4239a6fcd248649f84b07d868538d2",
        "IPY_MODEL_d99f8e94b09d48dcb0eba65748368656"
       ],
       "layout": "IPY_MODEL_ef02a06da13a46d6b4295bd8a916bf19"
      }
     },
     "b3dae4f51fdd46e49ee176e1d99e0021": {
      "model_module": "@jupyter-widgets/base",
      "model_module_version": "1.2.0",
      "model_name": "LayoutModel",
      "state": {}
     },
     "b3dcc65a410d48a39e844cec2844889f": {
      "model_module": "@jupyter-widgets/controls",
      "model_module_version": "1.5.0",
      "model_name": "SliderStyleModel",
      "state": {
       "description_width": ""
      }
     },
     "b3ef151f6e3a471c87a0c8c73b64c939": {
      "model_module": "@jupyter-widgets/base",
      "model_module_version": "1.2.0",
      "model_name": "LayoutModel",
      "state": {}
     },
     "b488d1a5a2f94689886d36ce810f7721": {
      "model_module": "@jupyter-widgets/controls",
      "model_module_version": "1.5.0",
      "model_name": "ButtonStyleModel",
      "state": {}
     },
     "b4e8b4dd730b405d8270d6dbb2f8ded2": {
      "model_module": "@jupyter-widgets/controls",
      "model_module_version": "1.5.0",
      "model_name": "BoxModel",
      "state": {
       "children": [
        "IPY_MODEL_129b896284ab4167b6aeb14ef6135828",
        "IPY_MODEL_59d69ffed14146ddb0d829a13287147e"
       ],
       "layout": "IPY_MODEL_a4357ae0be4f49e1b1b0d59f4723b991"
      }
     },
     "b4e96e558dc847fba27984d921c14f7d": {
      "model_module": "@jupyter-widgets/controls",
      "model_module_version": "1.5.0",
      "model_name": "SliderStyleModel",
      "state": {
       "description_width": ""
      }
     },
     "b54d997c32df478a9418f6d7fff50033": {
      "model_module": "@jupyter-widgets/base",
      "model_module_version": "1.2.0",
      "model_name": "LayoutModel",
      "state": {}
     },
     "b57d5a9820fd4a6a88fe62bef18afc63": {
      "model_module": "@jupyter-widgets/controls",
      "model_module_version": "1.5.0",
      "model_name": "ButtonModel",
      "state": {
       "description": "Save Figure",
       "layout": "IPY_MODEL_02b7b0f5a953485aa78b729c3639a34b",
       "style": "IPY_MODEL_0d802d8c4435434c8be677003c6d157a"
      }
     },
     "b59eed5d89a0462fbdb07b7d3b8b3120": {
      "model_module": "@jupyter-widgets/controls",
      "model_module_version": "1.5.0",
      "model_name": "FloatSliderModel",
      "state": {
       "description": "Exposure",
       "layout": "IPY_MODEL_bb448a38fe8b43e88d3d4ee77c891ebe",
       "max": 8,
       "min": -8,
       "step": 0.1,
       "style": "IPY_MODEL_64631c3c744347cfab23667a4ec08fff"
      }
     },
     "b5b25836487844c1834525fd669b90d1": {
      "model_module": "@jupyter-widgets/controls",
      "model_module_version": "1.5.0",
      "model_name": "CheckboxModel",
      "state": {
       "description": "Disable Medicina",
       "disabled": false,
       "layout": "IPY_MODEL_382e831eda1742228bb856e5121d0fd3",
       "style": "IPY_MODEL_6b1102eb8a724731a8ff83e50943b4ce",
       "value": true
      }
     },
     "b5bd6e5b38964ee191562c38ee402762": {
      "model_module": "@jupyter-widgets/controls",
      "model_module_version": "1.5.0",
      "model_name": "ButtonStyleModel",
      "state": {}
     },
     "b5c2561925684919b1b941bc46af7e01": {
      "model_module": "@jupyter-widgets/controls",
      "model_module_version": "1.5.0",
      "model_name": "SliderStyleModel",
      "state": {
       "description_width": ""
      }
     },
     "b5f25cab4d504772b6f137d9af47416b": {
      "model_module": "@jupyter-widgets/controls",
      "model_module_version": "1.5.0",
      "model_name": "BoxModel",
      "state": {
       "children": [
        "IPY_MODEL_4f3f055083f2471fa3a532f2d4906d9c",
        "IPY_MODEL_d30b21a1f7c140d68ce12eb011b1b814"
       ],
       "layout": "IPY_MODEL_aabffdc3879b4e269e27fc464a1a6e8f"
      }
     },
     "b622f9245d654a52914239c415085c85": {
      "model_module": "@jupyter-widgets/base",
      "model_module_version": "1.2.0",
      "model_name": "LayoutModel",
      "state": {}
     },
     "b6417f0aa2164638bce7bc08446fa01c": {
      "model_module": "@jupyter-widgets/controls",
      "model_module_version": "1.5.0",
      "model_name": "HBoxModel",
      "state": {
       "children": [
        "IPY_MODEL_7fd8bc497721423799f208b4036ee916",
        "IPY_MODEL_0e3d6e5671de457e9339a97642dc28f5",
        "IPY_MODEL_ae17399cbdc14d0c83b88408b30196f1"
       ],
       "layout": "IPY_MODEL_fe84db0e712b4426a7bc3039ba5e11ce"
      }
     },
     "b64e5877ba87464389221457af9c255c": {
      "model_module": "@jupyter-widgets/controls",
      "model_module_version": "1.5.0",
      "model_name": "FloatSliderModel",
      "state": {
       "description": "225°",
       "layout": "IPY_MODEL_9bf1b42d14864122b3d815b07616ce4c",
       "max": 1,
       "min": -1,
       "step": 0.01,
       "style": "IPY_MODEL_7a3e1d7f4b2548758b59b4f704c29ec9"
      }
     },
     "b655fdd8c59b426f81558e668b7a6179": {
      "model_module": "@jupyter-widgets/base",
      "model_module_version": "1.2.0",
      "model_name": "LayoutModel",
      "state": {
       "border": "solid 4px #222",
       "margin": "4px",
       "padding": "0"
      }
     },
     "b664851cc66e4305a9836bf70e8222db": {
      "model_module": "@jupyter-widgets/base",
      "model_module_version": "1.2.0",
      "model_name": "LayoutModel",
      "state": {
       "border": "solid 4px #222",
       "margin": "4px",
       "padding": "0"
      }
     },
     "b6727fe8546e436c99cd3ff6ee67d9ff": {
      "model_module": "@jupyter-widgets/base",
      "model_module_version": "1.2.0",
      "model_name": "LayoutModel",
      "state": {
       "border": "solid 4px #222",
       "margin": "4px",
       "padding": "0"
      }
     },
     "b6a4be1674f146e091d9e0bf92846e04": {
      "model_module": "@jupyter-widgets/base",
      "model_module_version": "1.2.0",
      "model_name": "LayoutModel",
      "state": {}
     },
     "b6b2671aad5d46819fe7a734b96ea23d": {
      "model_module": "@jupyter-widgets/base",
      "model_module_version": "1.2.0",
      "model_name": "LayoutModel",
      "state": {
       "align_items": "stretch",
       "display": "flex",
       "flex_flow": "column",
       "width": "1128px"
      }
     },
     "b6cb72d54c944bdab009df188aa0660d": {
      "model_module": "@jupyter-widgets/controls",
      "model_module_version": "1.5.0",
      "model_name": "ButtonStyleModel",
      "state": {}
     },
     "b6dec94dbc984abeab50032e87f925d2": {
      "model_module": "@jupyter-widgets/controls",
      "model_module_version": "1.5.0",
      "model_name": "ButtonStyleModel",
      "state": {}
     },
     "b6fa600b13ce4baa8ed7b952f950ea75": {
      "model_module": "@jupyter-widgets/base",
      "model_module_version": "1.2.0",
      "model_name": "LayoutModel",
      "state": {}
     },
     "b6fd76db1ea7403ba64e27b56bf7b7a0": {
      "model_module": "@jupyter-widgets/controls",
      "model_module_version": "1.5.0",
      "model_name": "ButtonStyleModel",
      "state": {}
     },
     "b6fe205f8cbb42159c65ee46813df44b": {
      "model_module": "@jupyter-widgets/controls",
      "model_module_version": "1.5.0",
      "model_name": "ButtonModel",
      "state": {
       "description": "Reset Exposure",
       "layout": "IPY_MODEL_00198fa0458d4b30afaffcf92aeebdc8",
       "style": "IPY_MODEL_b13237ba5c954524bac4b9083ef7dc2e"
      }
     },
     "b72fc78adf374af9a20de18c4186f08b": {
      "model_module": "@jupyter-widgets/base",
      "model_module_version": "1.2.0",
      "model_name": "LayoutModel",
      "state": {}
     },
     "b733eee5d55c4d4780c524e60b948175": {
      "model_module": "@jupyter-widgets/controls",
      "model_module_version": "1.5.0",
      "model_name": "FloatSliderModel",
      "state": {
       "description": "135°",
       "layout": "IPY_MODEL_5966d830757a4296be1a334df40e6fa7",
       "max": 1,
       "min": -1,
       "step": 0.01,
       "style": "IPY_MODEL_4ab0b0b5d0554a37a3419172756f2e08"
      }
     },
     "b758754ba4594f3188af64e93047609b": {
      "model_module": "@jupyter-widgets/base",
      "model_module_version": "1.2.0",
      "model_name": "LayoutModel",
      "state": {}
     },
     "b77cfb5803484b4996a03810e074530a": {
      "model_module": "@jupyter-widgets/base",
      "model_module_version": "1.2.0",
      "model_name": "LayoutModel",
      "state": {
       "border": "solid 4px #222",
       "margin": "4px",
       "padding": "0"
      }
     },
     "b7a1a94cfc364729ba933ed2e8e117ca": {
      "model_module": "@jupyter-widgets/base",
      "model_module_version": "1.2.0",
      "model_name": "LayoutModel",
      "state": {}
     },
     "b7dfb6c8c4e44152b2e2703decbf94e8": {
      "model_module": "@jupyter-widgets/base",
      "model_module_version": "1.2.0",
      "model_name": "LayoutModel",
      "state": {}
     },
     "b7ebd439d5c54531af8f968940b2dd69": {
      "model_module": "@jupyter-widgets/controls",
      "model_module_version": "1.5.0",
      "model_name": "BoxModel",
      "state": {
       "children": [
        "IPY_MODEL_f03edd299e59474f83d394dc398360b5",
        "IPY_MODEL_8bbd06d6e34e46babcef38e8d953dcff"
       ],
       "layout": "IPY_MODEL_57cc6c31a3054df6b9ca121470f8b8db"
      }
     },
     "b7f4001e2110415493db50e600336b6f": {
      "model_module": "@jupyter-widgets/base",
      "model_module_version": "1.2.0",
      "model_name": "LayoutModel",
      "state": {}
     },
     "b82150c8746a48efb37537b7d0f758d9": {
      "model_module": "@jupyter-widgets/base",
      "model_module_version": "1.2.0",
      "model_name": "LayoutModel",
      "state": {}
     },
     "b86b7eb4552c4286b6d84e13fe6b5919": {
      "model_module": "@jupyter-widgets/base",
      "model_module_version": "1.2.0",
      "model_name": "LayoutModel",
      "state": {}
     },
     "b8b8f5ed832841c9b7a73a487fc6fa63": {
      "model_module": "@jupyter-widgets/controls",
      "model_module_version": "1.5.0",
      "model_name": "VBoxModel",
      "state": {
       "children": [
        "IPY_MODEL_63ea460eb87a4fffb23bb17e6360b25d"
       ],
       "layout": "IPY_MODEL_203bf2212c6149e7a1236bf1199bcfd4"
      }
     },
     "b8c5b0c717cd44578e4f2c046f9a639f": {
      "model_module": "@jupyter-widgets/base",
      "model_module_version": "1.2.0",
      "model_name": "LayoutModel",
      "state": {
       "border": "solid 4px #222",
       "margin": "4px",
       "padding": "0"
      }
     },
     "b8d1f563ca6a40b68bcfa0e67b764db4": {
      "model_module": "@jupyter-widgets/controls",
      "model_module_version": "1.5.0",
      "model_name": "SliderStyleModel",
      "state": {
       "description_width": ""
      }
     },
     "b9249ccb9ee942ed888ffbfe66892d22": {
      "model_module": "@jupyter-widgets/base",
      "model_module_version": "1.2.0",
      "model_name": "LayoutModel",
      "state": {}
     },
     "b933b1198e6049acb79fe5c9149c9a4c": {
      "model_module": "@jupyter-widgets/controls",
      "model_module_version": "1.5.0",
      "model_name": "SliderStyleModel",
      "state": {
       "description_width": ""
      }
     },
     "b9385882484d48419238e7511101a0f6": {
      "model_module": "@jupyter-widgets/base",
      "model_module_version": "1.2.0",
      "model_name": "LayoutModel",
      "state": {}
     },
     "b9650fb6636f44178cc0b01d85c41c87": {
      "model_module": "@jupyter-widgets/controls",
      "model_module_version": "1.5.0",
      "model_name": "ButtonModel",
      "state": {
       "description": "Export Image",
       "layout": "IPY_MODEL_32d97eef5e544d25a1d9cc6b8742d82c",
       "style": "IPY_MODEL_0b39c3071e9b4c5ea60510d5b8ff0e0f"
      }
     },
     "b972083012994daa95df35773b59c79e": {
      "model_module": "@jupyter-widgets/base",
      "model_module_version": "1.2.0",
      "model_name": "LayoutModel",
      "state": {}
     },
     "b97ce9988e23457bb249b5a32b334e08": {
      "model_module": "@jupyter-widgets/base",
      "model_module_version": "1.2.0",
      "model_name": "LayoutModel",
      "state": {
       "align_items": "stretch",
       "display": "flex",
       "flex_flow": "column",
       "width": "1128px"
      }
     },
     "b995007bd7c74f1092275097145282b4": {
      "model_module": "jupyter-matplotlib",
      "model_module_version": "^0.7.2",
      "model_name": "MPLCanvasModel",
      "state": {
       "_figure_label": "Figure 1",
       "_height": 458,
       "_width": 1100,
       "header_visible": false,
       "layout": "IPY_MODEL_0d46e8e61e0f497fb50fd84c5696b2c8",
       "resizable": false,
       "toolbar": "IPY_MODEL_bef03185b3114af0a0f50135420d74f6",
       "toolbar_position": "left",
       "toolbar_visible": false
      }
     },
     "b9d2b1d917ae4985922a7dc054c0a06e": {
      "model_module": "@jupyter-widgets/controls",
      "model_module_version": "1.5.0",
      "model_name": "FloatSliderModel",
      "state": {
       "description": "45°",
       "layout": "IPY_MODEL_a2b013f4c85a48febd13ff3fee00fb02",
       "max": 1,
       "min": -1,
       "step": 0.01,
       "style": "IPY_MODEL_ca3b913464384f19a60e29721354e5aa"
      }
     },
     "b9d357ff67e84beea9b9f85c96954e20": {
      "model_module": "@jupyter-widgets/base",
      "model_module_version": "1.2.0",
      "model_name": "LayoutModel",
      "state": {}
     },
     "b9e224ce6fa04c3b89b35b05d80da5cb": {
      "model_module": "@jupyter-widgets/base",
      "model_module_version": "1.2.0",
      "model_name": "LayoutModel",
      "state": {}
     },
     "ba0724b0c22340e5b938ed36ba4f8297": {
      "model_module": "@jupyter-widgets/base",
      "model_module_version": "1.2.0",
      "model_name": "LayoutModel",
      "state": {
       "border": "solid 4px #222",
       "margin": "4px",
       "padding": "0"
      }
     },
     "ba4fee25fd684aafa550ee7ea2c1f957": {
      "model_module": "jupyter-matplotlib",
      "model_module_version": "^0.7.2",
      "model_name": "ToolbarModel",
      "state": {
       "layout": "IPY_MODEL_fae74f95c63447b2b4e227dc989a6a53",
       "toolitems": [
        [
         "Home",
         "Reset original view",
         "home",
         "home"
        ],
        [
         "Back",
         "Back to previous view",
         "arrow-left",
         "back"
        ],
        [
         "Forward",
         "Forward to next view",
         "arrow-right",
         "forward"
        ],
        [
         "Pan",
         "Pan axes with left mouse, zoom with right",
         "arrows",
         "pan"
        ],
        [
         "Zoom",
         "Zoom to rectangle",
         "square-o",
         "zoom"
        ],
        [
         "Download",
         "Download plot",
         "floppy-o",
         "save_figure"
        ]
       ]
      }
     },
     "ba657ebcddfa4baa89d7131930fcefc6": {
      "model_module": "@jupyter-widgets/controls",
      "model_module_version": "1.5.0",
      "model_name": "DescriptionStyleModel",
      "state": {
       "description_width": ""
      }
     },
     "ba67a2ba3a594d4bb186def2708b8c63": {
      "model_module": "@jupyter-widgets/controls",
      "model_module_version": "1.5.0",
      "model_name": "ButtonStyleModel",
      "state": {}
     },
     "ba7eddb4c3f843a98d52b733a592cf47": {
      "model_module": "@jupyter-widgets/output",
      "model_module_version": "1.0.0",
      "model_name": "OutputModel",
      "state": {
       "layout": "IPY_MODEL_ea06a7a029ba490e8a6df1e1254dc6bb",
       "outputs": [
        {
         "data": {
          "application/vnd.jupyter.widget-view+json": {
           "model_id": "62dfbaa6c585408395af8054689b4281",
           "version_major": 2,
           "version_minor": 0
          },
          "text/plain": "Canvas(toolbar=Toolbar(toolitems=[('Home', 'Reset original view', 'home', 'home'), ('Back', 'Back to previous …"
         },
         "metadata": {},
         "output_type": "display_data"
        }
       ]
      }
     },
     "ba9ee038002b4dff89885799dd9accc7": {
      "model_module": "@jupyter-widgets/controls",
      "model_module_version": "1.5.0",
      "model_name": "TabModel",
      "state": {
       "_titles": {
        "0": "Global Controls",
        "1": "Viewer Controls",
        "2": "Protected Area Controls",
        "3": "Saturation Controls",
        "4": "Hue Controls"
       },
       "children": [
        "IPY_MODEL_8e8a61d15f0e47bfb583d0b0d89177b6",
        "IPY_MODEL_de99d3ec405e4f5f823b733bec81bfcc",
        "IPY_MODEL_4fb6c3c62db7425980c84abac494bf72",
        "IPY_MODEL_091a79b19e014591b5015a112370f7e8",
        "IPY_MODEL_132453e3d52e45e5a6d53b4cbe6a0c73"
       ],
       "layout": "IPY_MODEL_217a1a6931f04c0e957ba0912041540c"
      }
     },
     "babfcf6f4de8430d83fb76fb61beb16a": {
      "model_module": "@jupyter-widgets/base",
      "model_module_version": "1.2.0",
      "model_name": "LayoutModel",
      "state": {}
     },
     "bad4c44f8cf24d7383f131883373ad36": {
      "model_module": "@jupyter-widgets/controls",
      "model_module_version": "1.5.0",
      "model_name": "SliderStyleModel",
      "state": {
       "description_width": ""
      }
     },
     "bae0d5377faf4c8cb468b457d5cd8759": {
      "model_module": "@jupyter-widgets/base",
      "model_module_version": "1.2.0",
      "model_name": "LayoutModel",
      "state": {}
     },
     "bb0f34af2a6544e0a93d0e73209cc252": {
      "model_module": "@jupyter-widgets/base",
      "model_module_version": "1.2.0",
      "model_name": "LayoutModel",
      "state": {}
     },
     "bb13521c0bd54e04b109016bf6463545": {
      "model_module": "@jupyter-widgets/controls",
      "model_module_version": "1.5.0",
      "model_name": "ButtonModel",
      "state": {
       "description": "Save Figure",
       "layout": "IPY_MODEL_1a4d5d8c9b534698bf60fb6c436cf202",
       "style": "IPY_MODEL_10b373c3a69843a28966ad7b3a208980"
      }
     },
     "bb261fbf6b0e4359b3530901692c29a1": {
      "model_module": "@jupyter-widgets/controls",
      "model_module_version": "1.5.0",
      "model_name": "FloatSliderModel",
      "state": {
       "description": "Compression Threshold",
       "layout": "IPY_MODEL_4f4edfb3da194e57a1060a902d6f35af",
       "max": 1,
       "step": 0.01,
       "style": "IPY_MODEL_65b467ca8ed941418253ecaf54fc3fd7",
       "value": 0.8
      }
     },
     "bb358a5565e94f7a8e1dce8c5c35fa54": {
      "model_module": "@jupyter-widgets/controls",
      "model_module_version": "1.5.0",
      "model_name": "SliderStyleModel",
      "state": {
       "description_width": ""
      }
     },
     "bb448a38fe8b43e88d3d4ee77c891ebe": {
      "model_module": "@jupyter-widgets/base",
      "model_module_version": "1.2.0",
      "model_name": "LayoutModel",
      "state": {}
     },
     "bb49e9637ebd4a00ad67514e8a1e8fdc": {
      "model_module": "jupyter-matplotlib",
      "model_module_version": "^0.7.2",
      "model_name": "ToolbarModel",
      "state": {
       "layout": "IPY_MODEL_5efa19eadccf4944ab2d92104c1d56b8",
       "toolitems": [
        [
         "Home",
         "Reset original view",
         "home",
         "home"
        ],
        [
         "Back",
         "Back to previous view",
         "arrow-left",
         "back"
        ],
        [
         "Forward",
         "Forward to next view",
         "arrow-right",
         "forward"
        ],
        [
         "Pan",
         "Pan axes with left mouse, zoom with right",
         "arrows",
         "pan"
        ],
        [
         "Zoom",
         "Zoom to rectangle",
         "square-o",
         "zoom"
        ],
        [
         "Download",
         "Download plot",
         "floppy-o",
         "save_figure"
        ]
       ]
      }
     },
     "bb7668dc8a144eb0a73214feb883f8d4": {
      "model_module": "@jupyter-widgets/controls",
      "model_module_version": "1.5.0",
      "model_name": "SliderStyleModel",
      "state": {
       "description_width": ""
      }
     },
     "bb929b691250431f8b8c99644567781f": {
      "model_module": "@jupyter-widgets/controls",
      "model_module_version": "1.5.0",
      "model_name": "BoxModel",
      "state": {
       "children": [
        "IPY_MODEL_a07b53c919f348098109c2e2bff0e780",
        "IPY_MODEL_965cba7928ba41da878f685d3640f3d9"
       ],
       "layout": "IPY_MODEL_e975c511f5fd4610b15a46e44000f898"
      }
     },
     "bba54279aac64d7aaaf9b5d2a66f6616": {
      "model_module": "@jupyter-widgets/controls",
      "model_module_version": "1.5.0",
      "model_name": "DescriptionStyleModel",
      "state": {
       "description_width": ""
      }
     },
     "bbc6b3d97d8a4e799e1a3b121f87407c": {
      "model_module": "@jupyter-widgets/controls",
      "model_module_version": "1.5.0",
      "model_name": "VBoxModel",
      "state": {
       "children": [
        "IPY_MODEL_d3c5d6451b374701a3bfc3e59d1ab925",
        "IPY_MODEL_2d4d4142e0ba485d87bdd2354dbb31d5",
        "IPY_MODEL_a05f8f38650c4f7fa4a41e799df26c1a"
       ],
       "layout": "IPY_MODEL_809ccdc70da84d149b8fe12cce2dcf8d"
      }
     },
     "bbc9148934ae498885ca9921784768d6": {
      "model_module": "@jupyter-widgets/controls",
      "model_module_version": "1.5.0",
      "model_name": "DescriptionStyleModel",
      "state": {
       "description_width": ""
      }
     },
     "bbf172c74cab483e944e998082d3ca2a": {
      "model_module": "@jupyter-widgets/controls",
      "model_module_version": "1.5.0",
      "model_name": "FloatSliderModel",
      "state": {
       "description": "0°",
       "layout": "IPY_MODEL_ec4ab5bdddd243bdb810b49335b3173c",
       "max": 1,
       "min": -1,
       "step": 0.01,
       "style": "IPY_MODEL_27ab30a95afe4a2e8e40999f07e1fb71"
      }
     },
     "bc178a3328f8414b81ccf58ec37ed053": {
      "model_module": "@jupyter-widgets/base",
      "model_module_version": "1.2.0",
      "model_name": "LayoutModel",
      "state": {}
     },
     "bc1a4d231fd54bf4b7e98d31d6511d3a": {
      "model_module": "jupyter-matplotlib",
      "model_module_version": "^0.7.2",
      "model_name": "ToolbarModel",
      "state": {
       "layout": "IPY_MODEL_dbe919ce99af450fa54a96b600f2e96a",
       "toolitems": [
        [
         "Home",
         "Reset original view",
         "home",
         "home"
        ],
        [
         "Back",
         "Back to previous view",
         "arrow-left",
         "back"
        ],
        [
         "Forward",
         "Forward to next view",
         "arrow-right",
         "forward"
        ],
        [
         "Pan",
         "Pan axes with left mouse, zoom with right",
         "arrows",
         "pan"
        ],
        [
         "Zoom",
         "Zoom to rectangle",
         "square-o",
         "zoom"
        ],
        [
         "Download",
         "Download plot",
         "floppy-o",
         "save_figure"
        ]
       ]
      }
     },
     "bc5bbc42561f43e984bb96eac90fc5f9": {
      "model_module": "@jupyter-widgets/controls",
      "model_module_version": "1.5.0",
      "model_name": "FloatSliderModel",
      "state": {
       "description": "135°",
       "layout": "IPY_MODEL_1fdd067f9b004f6a97b913399df1f7c2",
       "max": 1,
       "min": -1,
       "step": 0.01,
       "style": "IPY_MODEL_e406c980ece740c08b50fb97ac6f2562"
      }
     },
     "bc7e48be52694ebca0158841b4268c53": {
      "model_module": "@jupyter-widgets/controls",
      "model_module_version": "1.5.0",
      "model_name": "DropdownModel",
      "state": {
       "_options_labels": [
        "sRGB",
        "sRGB (ACES)",
        "Display P3",
        "Display P3 (ACES)"
       ],
       "description": "View Transform:",
       "index": 0,
       "layout": "IPY_MODEL_0761728ee2fd4fa48fc3bdc33654b771",
       "style": "IPY_MODEL_273ad485940049f0bbf0a0141f82e2c0"
      }
     },
     "bc8b094bcefa4a5284364e87a9dfb2b2": {
      "model_module": "@jupyter-widgets/base",
      "model_module_version": "1.2.0",
      "model_name": "LayoutModel",
      "state": {}
     },
     "bc9001d769a044aeb09048768bc73057": {
      "model_module": "@jupyter-widgets/base",
      "model_module_version": "1.2.0",
      "model_name": "LayoutModel",
      "state": {}
     },
     "bc99c4ad5d7c47c3908d6f601d4966c8": {
      "model_module": "@jupyter-widgets/controls",
      "model_module_version": "1.5.0",
      "model_name": "FloatSliderModel",
      "state": {
       "description": "270°",
       "layout": "IPY_MODEL_544922cbcd1f469ab6524946997a4c54",
       "max": 1,
       "min": -1,
       "step": 0.01,
       "style": "IPY_MODEL_b3dcc65a410d48a39e844cec2844889f"
      }
     },
     "bca5e289f17e4a85a309bfae95ea0116": {
      "model_module": "@jupyter-widgets/controls",
      "model_module_version": "1.5.0",
      "model_name": "DropdownModel",
      "state": {
       "_options_labels": [
        "sRGB",
        "sRGB (ACES)",
        "Display P3",
        "Display P3 (ACES)"
       ],
       "description": "View Transform:",
       "index": 0,
       "layout": "IPY_MODEL_ac86639080ac44d8a9d0e588db5711ca",
       "style": "IPY_MODEL_53f07643408a48c2813141e0abf46c91"
      }
     },
     "bcabcce78915466ba5d507a2f46e65f7": {
      "model_module": "@jupyter-widgets/controls",
      "model_module_version": "1.5.0",
      "model_name": "SliderStyleModel",
      "state": {
       "description_width": ""
      }
     },
     "bcbe0ea258bb4b2da2898e7bd3733ba3": {
      "model_module": "@jupyter-widgets/controls",
      "model_module_version": "1.5.0",
      "model_name": "VBoxModel",
      "state": {
       "children": [
        "IPY_MODEL_6a4529499865476bbc854965b7f80446",
        "IPY_MODEL_0d51f60724714e60ba2ffd3d3c0be377"
       ],
       "layout": "IPY_MODEL_0038cf9a33204761a2036411d4ce62ed"
      }
     },
     "bccdc9e2bbaa4e2ca6c588c4f8b92c01": {
      "model_module": "@jupyter-widgets/controls",
      "model_module_version": "1.5.0",
      "model_name": "DescriptionStyleModel",
      "state": {
       "description_width": ""
      }
     },
     "bce7346bbf2849e19b2b7013a22b0a19": {
      "model_module": "@jupyter-widgets/controls",
      "model_module_version": "1.5.0",
      "model_name": "ButtonStyleModel",
      "state": {}
     },
     "bd41aab31e9241149d6eaabb45bec0a8": {
      "model_module": "@jupyter-widgets/base",
      "model_module_version": "1.2.0",
      "model_name": "LayoutModel",
      "state": {}
     },
     "bd5cb9edeaf349b895187923a0e69aba": {
      "model_module": "@jupyter-widgets/controls",
      "model_module_version": "1.5.0",
      "model_name": "CheckboxModel",
      "state": {
       "description": "Disable Medicina",
       "disabled": false,
       "layout": "IPY_MODEL_8436d86e6edb4bb49f41c5763ea56402",
       "style": "IPY_MODEL_b1a52c449aac4c878840602fe4daf729",
       "value": false
      }
     },
     "bdd62fc67c4a4c73b3981630ac4426b1": {
      "model_module": "@jupyter-widgets/controls",
      "model_module_version": "1.5.0",
      "model_name": "ButtonModel",
      "state": {
       "description": "Reset Saturation Controls",
       "layout": "IPY_MODEL_b54d997c32df478a9418f6d7fff50033",
       "style": "IPY_MODEL_220a7f9498f44dad89a2b0374a8b3e27"
      }
     },
     "be03961b03f24aedb84f0baf6ae25523": {
      "model_module": "@jupyter-widgets/base",
      "model_module_version": "1.2.0",
      "model_name": "LayoutModel",
      "state": {
       "border": "solid 4px #222",
       "margin": "4px",
       "padding": "0"
      }
     },
     "be19a74463b34538aa3d29db1b6978b9": {
      "model_module": "@jupyter-widgets/controls",
      "model_module_version": "1.5.0",
      "model_name": "SliderStyleModel",
      "state": {
       "description_width": ""
      }
     },
     "be3976d8794149c286805816233ce9df": {
      "model_module": "@jupyter-widgets/base",
      "model_module_version": "1.2.0",
      "model_name": "LayoutModel",
      "state": {
       "border": "solid 4px #222",
       "margin": "4px",
       "padding": "0"
      }
     },
     "be47b009bc82462498296645eede1469": {
      "model_module": "@jupyter-widgets/base",
      "model_module_version": "1.2.0",
      "model_name": "LayoutModel",
      "state": {}
     },
     "be5d9f2384ed473c9048a7a0068d6522": {
      "model_module": "@jupyter-widgets/controls",
      "model_module_version": "1.5.0",
      "model_name": "DropdownModel",
      "state": {
       "_options_labels": [
        "tanh",
        "atan",
        "simple"
       ],
       "description": "Compression Function:",
       "index": 0,
       "layout": "IPY_MODEL_228e9790b41646e5baa68b8c73d841b9",
       "style": "IPY_MODEL_783aa31e0ad1426faec018d706983ffa"
      }
     },
     "be69c99d3bc340aa85d6e20b1482291d": {
      "model_module": "@jupyter-widgets/controls",
      "model_module_version": "1.5.0",
      "model_name": "DropdownModel",
      "state": {
       "_options_labels": [
        "sRGB",
        "sRGB (ACES)",
        "Display P3",
        "Display P3 (ACES)"
       ],
       "description": "View Transform:",
       "index": 0,
       "layout": "IPY_MODEL_32377e75acf9458182646f52083d84b2",
       "style": "IPY_MODEL_9fa192f32bae4432b0687db251533b84"
      }
     },
     "be9a641e3b8142b9a1f9f0b4fa59a281": {
      "model_module": "@jupyter-widgets/controls",
      "model_module_version": "1.5.0",
      "model_name": "FloatSliderModel",
      "state": {
       "description": "Exposure",
       "layout": "IPY_MODEL_7b73f0ff06234f15ae7470308171a3d9",
       "max": 8,
       "min": -8,
       "step": 0.1,
       "style": "IPY_MODEL_3a88b64c15fd46509a63d5e706b736b1"
      }
     },
     "bed481eb1c6a4d1eb3098a051d9ea534": {
      "model_module": "@jupyter-widgets/controls",
      "model_module_version": "1.5.0",
      "model_name": "ButtonModel",
      "state": {
       "description": "Export Image",
       "layout": "IPY_MODEL_2a556814d20e44f49a497329fb895467",
       "style": "IPY_MODEL_130c88f4fbba4566a7eda40e95720c45"
      }
     },
     "bed67c406f114ce2bab5a16299da5259": {
      "model_module": "@jupyter-widgets/controls",
      "model_module_version": "1.5.0",
      "model_name": "ButtonModel",
      "state": {
       "description": "Export Image",
       "layout": "IPY_MODEL_6c178396276e4464917c3768eda52783",
       "style": "IPY_MODEL_fa721db1616e457598d4fb048ab3883b"
      }
     },
     "bef03185b3114af0a0f50135420d74f6": {
      "model_module": "jupyter-matplotlib",
      "model_module_version": "^0.7.2",
      "model_name": "ToolbarModel",
      "state": {
       "layout": "IPY_MODEL_4bde6a4f54ca4cc9bbcc7f02322753ec",
       "toolitems": [
        [
         "Home",
         "Reset original view",
         "home",
         "home"
        ],
        [
         "Back",
         "Back to previous view",
         "arrow-left",
         "back"
        ],
        [
         "Forward",
         "Forward to next view",
         "arrow-right",
         "forward"
        ],
        [
         "Pan",
         "Pan axes with left mouse, zoom with right",
         "arrows",
         "pan"
        ],
        [
         "Zoom",
         "Zoom to rectangle",
         "square-o",
         "zoom"
        ],
        [
         "Download",
         "Download plot",
         "floppy-o",
         "save_figure"
        ]
       ]
      }
     },
     "bef5815fecb84f94973906153df042b0": {
      "model_module": "@jupyter-widgets/controls",
      "model_module_version": "1.5.0",
      "model_name": "DropdownModel",
      "state": {
       "_options_labels": [
        "sRGB",
        "sRGB (ACES)",
        "Display P3",
        "Display P3 (ACES)"
       ],
       "description": "View Transform:",
       "index": 0,
       "layout": "IPY_MODEL_f9bbb0783f124fd78a7de75cce569bb0",
       "style": "IPY_MODEL_a56afabd7cdd469586db6b8d56a01846"
      }
     },
     "bf6fcc85d2db451d89f963760944a910": {
      "model_module": "@jupyter-widgets/base",
      "model_module_version": "1.2.0",
      "model_name": "LayoutModel",
      "state": {}
     },
     "bf8807aee5b543d4ae62dc736c2e58fa": {
      "model_module": "@jupyter-widgets/controls",
      "model_module_version": "1.5.0",
      "model_name": "SliderStyleModel",
      "state": {
       "description_width": ""
      }
     },
     "bf89a5e03f1f4d2abe6119df04464e47": {
      "model_module": "@jupyter-widgets/base",
      "model_module_version": "1.2.0",
      "model_name": "LayoutModel",
      "state": {}
     },
     "bf9a70156f6640b290efbe7bddc17740": {
      "model_module": "@jupyter-widgets/base",
      "model_module_version": "1.2.0",
      "model_name": "LayoutModel",
      "state": {}
     },
     "bfab6d7340cf45499e860976fb2659bb": {
      "model_module": "@jupyter-widgets/base",
      "model_module_version": "1.2.0",
      "model_name": "LayoutModel",
      "state": {}
     },
     "bfaf9dd83bf44526b92faa76bfd3f293": {
      "model_module": "@jupyter-widgets/controls",
      "model_module_version": "1.5.0",
      "model_name": "DropdownModel",
      "state": {
       "_options_labels": [
        "sRGB",
        "sRGB (ACES)",
        "Display P3",
        "Display P3 (ACES)"
       ],
       "description": "View Transform:",
       "index": 0,
       "layout": "IPY_MODEL_2e62a485afba42e396a64030d1a946b2",
       "style": "IPY_MODEL_e946e032601d4c43990d07537a8703a4"
      }
     },
     "bfbbbcf26d704e68b67b5d600c46409c": {
      "model_module": "@jupyter-widgets/controls",
      "model_module_version": "1.5.0",
      "model_name": "HBoxModel",
      "state": {
       "children": [
        "IPY_MODEL_fa1ef0eb741a4e439d06740c401476cc",
        "IPY_MODEL_de512f3245e04b409373ffc4f34ab2dc",
        "IPY_MODEL_c531a622344741389821568babeebbe9"
       ],
       "layout": "IPY_MODEL_19737c1d252c4efbb12f764790521736"
      }
     },
     "c03bcb75663c4867a6b2db2c1b32c17c": {
      "model_module": "@jupyter-widgets/base",
      "model_module_version": "1.2.0",
      "model_name": "LayoutModel",
      "state": {}
     },
     "c05b3ffa14d64d87be8b82eb72bd72a1": {
      "model_module": "@jupyter-widgets/controls",
      "model_module_version": "1.5.0",
      "model_name": "VBoxModel",
      "state": {
       "children": [
        "IPY_MODEL_885b362ad6a64caf9768a0ebcd891772",
        "IPY_MODEL_ef00c17ddce94b6b82a47586a6e64bbf",
        "IPY_MODEL_999014784ee84b6caf3e740c1643a4a1"
       ],
       "layout": "IPY_MODEL_3e4e720fbe98487abb29030e5525d6da"
      }
     },
     "c0905b67017d4829a66b1acf85bd3517": {
      "model_module": "@jupyter-widgets/controls",
      "model_module_version": "1.5.0",
      "model_name": "ButtonModel",
      "state": {
       "description": "Reset Exposure",
       "layout": "IPY_MODEL_6e876fb6995a4db199f5c813e3b1df23",
       "style": "IPY_MODEL_c2ff09ae21a24afbbf326b0ff6faf1ee"
      }
     },
     "c0a305a577f947ccbd9a2e18a3633183": {
      "model_module": "@jupyter-widgets/controls",
      "model_module_version": "1.5.0",
      "model_name": "ButtonStyleModel",
      "state": {}
     },
     "c0a864a828994c139b398dc21048cfab": {
      "model_module": "@jupyter-widgets/base",
      "model_module_version": "1.2.0",
      "model_name": "LayoutModel",
      "state": {}
     },
     "c0e088491c9c422f9b79f34506a08baf": {
      "model_module": "@jupyter-widgets/base",
      "model_module_version": "1.2.0",
      "model_name": "LayoutModel",
      "state": {}
     },
     "c0ea575f18a34be6810a16f2946b7d42": {
      "model_module": "@jupyter-widgets/base",
      "model_module_version": "1.2.0",
      "model_name": "LayoutModel",
      "state": {}
     },
     "c0fcbbcec465430283abf8f72b8575ce": {
      "model_module": "@jupyter-widgets/controls",
      "model_module_version": "1.5.0",
      "model_name": "ButtonStyleModel",
      "state": {}
     },
     "c123bea71261476db109cec8404fb4a6": {
      "model_module": "@jupyter-widgets/base",
      "model_module_version": "1.2.0",
      "model_name": "LayoutModel",
      "state": {}
     },
     "c12d51e8f4af46649296a0d441659b2f": {
      "model_module": "@jupyter-widgets/base",
      "model_module_version": "1.2.0",
      "model_name": "LayoutModel",
      "state": {}
     },
     "c156d77a12074aa680b891c155abc3da": {
      "model_module": "@jupyter-widgets/controls",
      "model_module_version": "1.5.0",
      "model_name": "HBoxModel",
      "state": {
       "children": [
        "IPY_MODEL_c74a08e654894a689d7105e4aa9d7947",
        "IPY_MODEL_2d5c313d20d54841a948d221aae24b74",
        "IPY_MODEL_a363520f9edc493ebb76e9f1b89c9bd9"
       ],
       "layout": "IPY_MODEL_d81a85350e674742b9286d3bdc14462c"
      }
     },
     "c157399778944559a81803e1093ee298": {
      "model_module": "@jupyter-widgets/base",
      "model_module_version": "1.2.0",
      "model_name": "LayoutModel",
      "state": {}
     },
     "c159b41200d449fc96cddc79fc46cb52": {
      "model_module": "@jupyter-widgets/controls",
      "model_module_version": "1.5.0",
      "model_name": "ButtonModel",
      "state": {
       "description": "Reset Hue Controls",
       "layout": "IPY_MODEL_f49344bd446845a0a70b66b0d7834292",
       "style": "IPY_MODEL_153347b859da4c4daab8b61ab7eda0aa"
      }
     },
     "c179b92b2b1247a0b988432eec152b86": {
      "model_module": "@jupyter-widgets/base",
      "model_module_version": "1.2.0",
      "model_name": "LayoutModel",
      "state": {}
     },
     "c19ab351ba9545868c000d5abfcd00b8": {
      "model_module": "@jupyter-widgets/controls",
      "model_module_version": "1.5.0",
      "model_name": "FloatSliderModel",
      "state": {
       "description": "45°",
       "layout": "IPY_MODEL_1fbb7564af644a218a3cb7e2757fed6d",
       "max": 1,
       "min": -1,
       "step": 0.01,
       "style": "IPY_MODEL_b8d1f563ca6a40b68bcfa0e67b764db4"
      }
     },
     "c1cccc5e0d1f4853884932a809973ded": {
      "model_module": "@jupyter-widgets/base",
      "model_module_version": "1.2.0",
      "model_name": "LayoutModel",
      "state": {}
     },
     "c1e84dbe11ff4a9ca5c425975971d408": {
      "model_module": "@jupyter-widgets/controls",
      "model_module_version": "1.5.0",
      "model_name": "CheckboxModel",
      "state": {
       "description": "Show Out-of-Gamut",
       "disabled": false,
       "layout": "IPY_MODEL_af6725877d1b4812adb992f4516587b1",
       "style": "IPY_MODEL_bba54279aac64d7aaaf9b5d2a66f6616",
       "value": false
      }
     },
     "c22245b54c324b57ac8d56e6dbcb982f": {
      "model_module": "@jupyter-widgets/controls",
      "model_module_version": "1.5.0",
      "model_name": "DropdownModel",
      "state": {
       "_options_labels": [
        "sRGB",
        "sRGB (ACES)",
        "Display P3",
        "Display P3 (ACES)"
       ],
       "description": "View Transform:",
       "index": 0,
       "layout": "IPY_MODEL_7bb5c000e3714e06b5a7bd5f2ba11fda",
       "style": "IPY_MODEL_7400a382c96f46038c517713c8919b22"
      }
     },
     "c24d1b4ba8fd4db39df042166e57f50c": {
      "model_module": "@jupyter-widgets/controls",
      "model_module_version": "1.5.0",
      "model_name": "ButtonModel",
      "state": {
       "description": "Reset Exposure",
       "layout": "IPY_MODEL_c49085fc178042d2b366d7019590b711",
       "style": "IPY_MODEL_85849b82f850490f985a6c65e4b97481"
      }
     },
     "c252cfea10ae4f839a79328582174117": {
      "model_module": "@jupyter-widgets/controls",
      "model_module_version": "1.5.0",
      "model_name": "HBoxModel",
      "state": {
       "children": [
        "IPY_MODEL_778e8e8c03a54e28b30e4d652ebca097",
        "IPY_MODEL_8c361591b2134c8480f92249e02e5a7f"
       ],
       "layout": "IPY_MODEL_09dd76a6c5c14055a40bd6f32d762a46"
      }
     },
     "c2542eb6c90a46e79189664fc5e7ddca": {
      "model_module": "@jupyter-widgets/controls",
      "model_module_version": "1.5.0",
      "model_name": "ButtonModel",
      "state": {
       "description": "Export Image",
       "layout": "IPY_MODEL_508eb2db22ef48508138cfc642987ccb",
       "style": "IPY_MODEL_9e0a23ced31f48fa8a09d3f7bb89fe00"
      }
     },
     "c28da4daecbe4f89ab6072e176c7c457": {
      "model_module": "@jupyter-widgets/controls",
      "model_module_version": "1.5.0",
      "model_name": "DescriptionStyleModel",
      "state": {
       "description_width": ""
      }
     },
     "c2900dd2641d4f3b8b1c26d9829fd222": {
      "model_module": "@jupyter-widgets/base",
      "model_module_version": "1.2.0",
      "model_name": "LayoutModel",
      "state": {}
     },
     "c290c1e59afd45fab1e3d847531e6a3f": {
      "model_module": "@jupyter-widgets/base",
      "model_module_version": "1.2.0",
      "model_name": "LayoutModel",
      "state": {}
     },
     "c2fde8e7edc04b8eb187c20cefbb741a": {
      "model_module": "@jupyter-widgets/base",
      "model_module_version": "1.2.0",
      "model_name": "LayoutModel",
      "state": {}
     },
     "c2ff09ae21a24afbbf326b0ff6faf1ee": {
      "model_module": "@jupyter-widgets/controls",
      "model_module_version": "1.5.0",
      "model_name": "ButtonStyleModel",
      "state": {}
     },
     "c3350bd316264d2899ee466ea148f533": {
      "model_module": "@jupyter-widgets/controls",
      "model_module_version": "1.5.0",
      "model_name": "HBoxModel",
      "state": {
       "children": [
        "IPY_MODEL_22048880f0874d60a868f269685234da",
        "IPY_MODEL_500dbef75f7a491fbb7972aa014341fd",
        "IPY_MODEL_6b7fc98eb77c4e4b946183117517b11c"
       ],
       "layout": "IPY_MODEL_5bc1aa08e4fa41f58007d00c959fb47e"
      }
     },
     "c361f88bf3c449eea9435676a3a635bd": {
      "model_module": "@jupyter-widgets/controls",
      "model_module_version": "1.5.0",
      "model_name": "DescriptionStyleModel",
      "state": {
       "description_width": ""
      }
     },
     "c36988528bb14609b44d070cf955059a": {
      "model_module": "@jupyter-widgets/controls",
      "model_module_version": "1.5.0",
      "model_name": "ButtonStyleModel",
      "state": {}
     },
     "c376af86df144688aa506948aa44ad4d": {
      "model_module": "@jupyter-widgets/base",
      "model_module_version": "1.2.0",
      "model_name": "LayoutModel",
      "state": {
       "align_items": "stretch",
       "display": "flex",
       "flex_flow": "column",
       "width": "1128px"
      }
     },
     "c3808184a3284e038a7c6623a689cde6": {
      "model_module": "@jupyter-widgets/controls",
      "model_module_version": "1.5.0",
      "model_name": "ButtonModel",
      "state": {
       "description": "Reset Saturation Controls",
       "layout": "IPY_MODEL_515741c02770484ab47f1b88e2f02033",
       "style": "IPY_MODEL_21fc0395595c4d098d81411e983420a7"
      }
     },
     "c399cd6668d244a28f4e820d0caf7de1": {
      "model_module": "@jupyter-widgets/controls",
      "model_module_version": "1.5.0",
      "model_name": "ButtonModel",
      "state": {
       "description": "Reset Exposure",
       "layout": "IPY_MODEL_9e6e43e5759349adba50500d970d7fe5",
       "style": "IPY_MODEL_5951f1900082482bb52fa8be7e54cbfe"
      }
     },
     "c3c6526f17ec496684ae31a1e3bf3e51": {
      "model_module": "@jupyter-widgets/base",
      "model_module_version": "1.2.0",
      "model_name": "LayoutModel",
      "state": {}
     },
     "c3ef5b1fb6344abba26426c7f59fee45": {
      "model_module": "@jupyter-widgets/controls",
      "model_module_version": "1.5.0",
      "model_name": "ButtonModel",
      "state": {
       "description": "Export Image",
       "layout": "IPY_MODEL_ebc965ccc9de4943acbaabb18936a097",
       "style": "IPY_MODEL_809ea9de8a164248bf760000a923b0f1"
      }
     },
     "c406906f3d474370b7421de8e55daf82": {
      "model_module": "@jupyter-widgets/controls",
      "model_module_version": "1.5.0",
      "model_name": "ButtonStyleModel",
      "state": {}
     },
     "c409836cfd234d5282255c316d5d2c26": {
      "model_module": "@jupyter-widgets/base",
      "model_module_version": "1.2.0",
      "model_name": "LayoutModel",
      "state": {}
     },
     "c43cdc3b39984da1865634cc76ad157c": {
      "model_module": "@jupyter-widgets/controls",
      "model_module_version": "1.5.0",
      "model_name": "TabModel",
      "state": {
       "_titles": {
        "0": "Global Controls",
        "1": "Viewer Controls",
        "2": "Protected Area Controls",
        "3": "Saturation Controls",
        "4": "Hue Controls"
       },
       "children": [
        "IPY_MODEL_168e19a8673c44dda6e7ee560c1635c2",
        "IPY_MODEL_5a98b027346d4c2fa87db88264af180d",
        "IPY_MODEL_9ad701a46d71429da788737a4e5d21b8",
        "IPY_MODEL_c9c7e0e1b7aa4820ad163a4bdb16cbc1",
        "IPY_MODEL_e939cffa5dc44712b71cd5a146001b1c"
       ],
       "layout": "IPY_MODEL_f4ce666291504e8bbfd489b827b6bc01"
      }
     },
     "c4474ab0da524c3192b8cb39ef66612e": {
      "model_module": "@jupyter-widgets/controls",
      "model_module_version": "1.5.0",
      "model_name": "HBoxModel",
      "state": {
       "children": [
        "IPY_MODEL_14900aa0aac8442283bfd24771ede448",
        "IPY_MODEL_093fe3b708954d64a8c6d1090c57713c",
        "IPY_MODEL_a3eb7c9792214054a7f04e386b53207a",
        "IPY_MODEL_836f91f1f6cb42d5b09ed04251470aad"
       ],
       "layout": "IPY_MODEL_cb38dfb4ec78449687d8c5b3d29b664d"
      }
     },
     "c4776f557a66414083c1b5a4a7efba1e": {
      "model_module": "@jupyter-widgets/controls",
      "model_module_version": "1.5.0",
      "model_name": "SliderStyleModel",
      "state": {
       "description_width": ""
      }
     },
     "c48535aa9ce34ab0a25012414f12f582": {
      "model_module": "@jupyter-widgets/base",
      "model_module_version": "1.2.0",
      "model_name": "LayoutModel",
      "state": {}
     },
     "c487bb9c75734523ba5b71399dcfea74": {
      "model_module": "@jupyter-widgets/base",
      "model_module_version": "1.2.0",
      "model_name": "LayoutModel",
      "state": {}
     },
     "c49085fc178042d2b366d7019590b711": {
      "model_module": "@jupyter-widgets/base",
      "model_module_version": "1.2.0",
      "model_name": "LayoutModel",
      "state": {}
     },
     "c49148231bba43f1bb4ebbffc068d80e": {
      "model_module": "@jupyter-widgets/controls",
      "model_module_version": "1.5.0",
      "model_name": "SliderStyleModel",
      "state": {
       "description_width": ""
      }
     },
     "c491d36825104ae9901e3dccf024a6a8": {
      "model_module": "@jupyter-widgets/base",
      "model_module_version": "1.2.0",
      "model_name": "LayoutModel",
      "state": {}
     },
     "c4b80d411e0045ab8380c36c2d5b3c48": {
      "model_module": "@jupyter-widgets/base",
      "model_module_version": "1.2.0",
      "model_name": "LayoutModel",
      "state": {
       "border": "solid 4px #222",
       "margin": "4px",
       "padding": "0"
      }
     },
     "c4d38379f8df4b79a9fda5f344efb29e": {
      "model_module": "@jupyter-widgets/base",
      "model_module_version": "1.2.0",
      "model_name": "LayoutModel",
      "state": {}
     },
     "c4f91620160f420b9a85d3643a5135a8": {
      "model_module": "@jupyter-widgets/controls",
      "model_module_version": "1.5.0",
      "model_name": "HBoxModel",
      "state": {
       "children": [
        "IPY_MODEL_bef5815fecb84f94973906153df042b0",
        "IPY_MODEL_8e873feece5f4b85b23447bf35cb915a",
        "IPY_MODEL_6d27119e685a4f55a56af9e5f994cb59",
        "IPY_MODEL_045810fcf17e4dc3b67848bda1ea7be1"
       ],
       "layout": "IPY_MODEL_e8933ccb9aa74bdeb716d51ef56e7028"
      }
     },
     "c523941b278b4777a0446df2dfab69ec": {
      "model_module": "@jupyter-widgets/base",
      "model_module_version": "1.2.0",
      "model_name": "LayoutModel",
      "state": {
       "border": "solid 4px #222",
       "margin": "4px",
       "padding": "0"
      }
     },
     "c52915bf3cbb490dbe60b0564a465039": {
      "model_module": "jupyter-matplotlib",
      "model_module_version": "^0.7.2",
      "model_name": "ToolbarModel",
      "state": {
       "layout": "IPY_MODEL_0105a5516e3a4997931dca57a09621cb",
       "toolitems": [
        [
         "Home",
         "Reset original view",
         "home",
         "home"
        ],
        [
         "Back",
         "Back to previous view",
         "arrow-left",
         "back"
        ],
        [
         "Forward",
         "Forward to next view",
         "arrow-right",
         "forward"
        ],
        [
         "Pan",
         "Pan axes with left mouse, zoom with right",
         "arrows",
         "pan"
        ],
        [
         "Zoom",
         "Zoom to rectangle",
         "square-o",
         "zoom"
        ],
        [
         "Download",
         "Download plot",
         "floppy-o",
         "save_figure"
        ]
       ]
      }
     },
     "c531a622344741389821568babeebbe9": {
      "model_module": "@jupyter-widgets/controls",
      "model_module_version": "1.5.0",
      "model_name": "ButtonModel",
      "state": {
       "description": "Save Figure",
       "layout": "IPY_MODEL_98ad38f6ff59465894fa2e743a2a9f41",
       "style": "IPY_MODEL_e97a848de4124decada2c34f53855469"
      }
     },
     "c58c729839f84cf1935f549ae2e8a8ec": {
      "model_module": "@jupyter-widgets/controls",
      "model_module_version": "1.5.0",
      "model_name": "HBoxModel",
      "state": {
       "children": [
        "IPY_MODEL_cc23968f9e16433b894a1e8cbbeefe4c",
        "IPY_MODEL_251396ea77734859b3ceafc0522fc53f",
        "IPY_MODEL_d39bf2d021f544c7a9725c217131f026"
       ],
       "layout": "IPY_MODEL_6143fcdd00c843628c3a241f1b62d0f0"
      }
     },
     "c58e25bd11fc4c91b1935c472611a240": {
      "model_module": "@jupyter-widgets/controls",
      "model_module_version": "1.5.0",
      "model_name": "HBoxModel",
      "state": {
       "children": [
        "IPY_MODEL_4ca34836997d4bbab9186386d61b0eb9",
        "IPY_MODEL_debd3e853ce54e309896fb4f47292862",
        "IPY_MODEL_7aa73038beb74b35b72e3b8af1e0c86f"
       ],
       "layout": "IPY_MODEL_c65e23e24cd846ce8cd68367ef8a1054"
      }
     },
     "c5a07f704a0540f7a3785d2d9fdbbca5": {
      "model_module": "@jupyter-widgets/base",
      "model_module_version": "1.2.0",
      "model_name": "LayoutModel",
      "state": {}
     },
     "c5d7845ad1a441f6b00278e87985c17f": {
      "model_module": "@jupyter-widgets/base",
      "model_module_version": "1.2.0",
      "model_name": "LayoutModel",
      "state": {}
     },
     "c5f71220c3a04f8db1e6d1159100ffa3": {
      "model_module": "@jupyter-widgets/controls",
      "model_module_version": "1.5.0",
      "model_name": "FloatSliderModel",
      "state": {
       "description": "180°",
       "layout": "IPY_MODEL_b622f9245d654a52914239c415085c85",
       "max": 1,
       "min": -1,
       "step": 0.01,
       "style": "IPY_MODEL_0542b32d8faa459893a0e748d7f762fa"
      }
     },
     "c5f86eacdc1e4759bd0aa316106b44ff": {
      "model_module": "@jupyter-widgets/base",
      "model_module_version": "1.2.0",
      "model_name": "LayoutModel",
      "state": {}
     },
     "c61948ac8d85491e947b993fe3504d31": {
      "model_module": "@jupyter-widgets/controls",
      "model_module_version": "1.5.0",
      "model_name": "SliderStyleModel",
      "state": {
       "description_width": ""
      }
     },
     "c65e23e24cd846ce8cd68367ef8a1054": {
      "model_module": "@jupyter-widgets/base",
      "model_module_version": "1.2.0",
      "model_name": "LayoutModel",
      "state": {}
     },
     "c676b2adf5b3444b8f34dc991c948359": {
      "model_module": "@jupyter-widgets/base",
      "model_module_version": "1.2.0",
      "model_name": "LayoutModel",
      "state": {}
     },
     "c6aa02a639a94f95a91aaff8c2fb304d": {
      "model_module": "@jupyter-widgets/base",
      "model_module_version": "1.2.0",
      "model_name": "LayoutModel",
      "state": {}
     },
     "c6d177a9646b483e940d58b0be0d17c6": {
      "model_module": "@jupyter-widgets/controls",
      "model_module_version": "1.5.0",
      "model_name": "FloatSliderModel",
      "state": {
       "description": "180°",
       "layout": "IPY_MODEL_f40541ea5c3c40679ad3b46af523ff41",
       "max": 1,
       "min": -1,
       "step": 0.01,
       "style": "IPY_MODEL_6805b7c0cd7d46b6a442d41d7097723f"
      }
     },
     "c6d5df7605054301bbe9df29cedae554": {
      "model_module": "@jupyter-widgets/controls",
      "model_module_version": "1.5.0",
      "model_name": "VBoxModel",
      "state": {
       "children": [
        "IPY_MODEL_d4d43c983c574dae869d97d47217cc09",
        "IPY_MODEL_c5f71220c3a04f8db1e6d1159100ffa3",
        "IPY_MODEL_a2bfb0b35b224a018bb547ebe1941e10"
       ],
       "layout": "IPY_MODEL_8d425ca2075f483e8c1b42ada8a1c3b3"
      }
     },
     "c6e19c6099724b1bb9692280fbb56862": {
      "model_module": "@jupyter-widgets/base",
      "model_module_version": "1.2.0",
      "model_name": "LayoutModel",
      "state": {
       "border": "solid 4px #222",
       "margin": "4px",
       "padding": "0"
      }
     },
     "c6f1134c804944deb185484ae8a31879": {
      "model_module": "@jupyter-widgets/base",
      "model_module_version": "1.2.0",
      "model_name": "LayoutModel",
      "state": {}
     },
     "c6f432f299f346d88cb5c5b18e34ee67": {
      "model_module": "@jupyter-widgets/controls",
      "model_module_version": "1.5.0",
      "model_name": "FloatSliderModel",
      "state": {
       "description": "Compression Threshold",
       "layout": "IPY_MODEL_bb0f34af2a6544e0a93d0e73209cc252",
       "max": 1,
       "step": 0.01,
       "style": "IPY_MODEL_e0387c67d8e744489bbeebabb133a16c",
       "value": 0.8
      }
     },
     "c721ce2afbef45e7aea1fcd2cef27bd6": {
      "model_module": "@jupyter-widgets/base",
      "model_module_version": "1.2.0",
      "model_name": "LayoutModel",
      "state": {}
     },
     "c7308e1bbf774fe59f56dd4a089fbc48": {
      "model_module": "@jupyter-widgets/base",
      "model_module_version": "1.2.0",
      "model_name": "LayoutModel",
      "state": {}
     },
     "c73543121e1b4ffabc2a91cf3e9b96e6": {
      "model_module": "@jupyter-widgets/controls",
      "model_module_version": "1.5.0",
      "model_name": "FloatSliderModel",
      "state": {
       "description": "Compression Threshold",
       "layout": "IPY_MODEL_9446ca44860d4aae9cb69d5673049b6c",
       "max": 1,
       "step": 0.01,
       "style": "IPY_MODEL_2f929b9b8bc846eab13bf876dbe075fd",
       "value": 0.8
      }
     },
     "c73a11c3e1b04b7eaa5f562c9af7e86b": {
      "model_module": "@jupyter-widgets/controls",
      "model_module_version": "1.5.0",
      "model_name": "CheckboxModel",
      "state": {
       "description": "Show Out-of-Gamut",
       "disabled": false,
       "layout": "IPY_MODEL_671ee16e0174492ebf6333c4552a1622",
       "style": "IPY_MODEL_9c76220ed9f040d5823fe0d7c249ed8a",
       "value": true
      }
     },
     "c74a08e654894a689d7105e4aa9d7947": {
      "model_module": "@jupyter-widgets/controls",
      "model_module_version": "1.5.0",
      "model_name": "ButtonModel",
      "state": {
       "description": "Reset Compression Controls",
       "layout": "IPY_MODEL_653496df182f43b19a36ebca34d11a6a",
       "style": "IPY_MODEL_81997847c6c4442ba0eb20126a67dccf"
      }
     },
     "c7930d810aee47ce9f56765f44c60ceb": {
      "model_module": "@jupyter-widgets/base",
      "model_module_version": "1.2.0",
      "model_name": "LayoutModel",
      "state": {}
     },
     "c7ae2896a8b5474b93ec73970005b478": {
      "model_module": "@jupyter-widgets/controls",
      "model_module_version": "1.5.0",
      "model_name": "SliderStyleModel",
      "state": {
       "description_width": ""
      }
     },
     "c7cef9f54d444b7daa6c6e68f8fe0944": {
      "model_module": "@jupyter-widgets/controls",
      "model_module_version": "1.5.0",
      "model_name": "DescriptionStyleModel",
      "state": {
       "description_width": ""
      }
     },
     "c7eebf7f67644bd092df9b9c574a1e5c": {
      "model_module": "@jupyter-widgets/base",
      "model_module_version": "1.2.0",
      "model_name": "LayoutModel",
      "state": {}
     },
     "c83db476a629413989d931c70ae34d08": {
      "model_module": "@jupyter-widgets/controls",
      "model_module_version": "1.5.0",
      "model_name": "ButtonStyleModel",
      "state": {}
     },
     "c85432c3c78b4435a3dd6cf401d4241d": {
      "model_module": "@jupyter-widgets/controls",
      "model_module_version": "1.5.0",
      "model_name": "FloatSliderModel",
      "state": {
       "description": "135°",
       "layout": "IPY_MODEL_bfab6d7340cf45499e860976fb2659bb",
       "max": 1,
       "min": -1,
       "step": 0.01,
       "style": "IPY_MODEL_ddedc9e8f8c340358515e7ac15099b2e"
      }
     },
     "c87339451a494364924a3278630cd8f5": {
      "model_module": "@jupyter-widgets/controls",
      "model_module_version": "1.5.0",
      "model_name": "FloatSliderModel",
      "state": {
       "description": "180°",
       "layout": "IPY_MODEL_4079025867d743f68584a610c1f1c7d6",
       "max": 1,
       "min": -1,
       "step": 0.01,
       "style": "IPY_MODEL_52b1e1d6ebe841019ab25b24d1910afa"
      }
     },
     "c8960cb31d0042d9accf1eddbcb20776": {
      "model_module": "@jupyter-widgets/base",
      "model_module_version": "1.2.0",
      "model_name": "LayoutModel",
      "state": {}
     },
     "c8d7578fb4bd42cab4c5df084b8186c7": {
      "model_module": "@jupyter-widgets/controls",
      "model_module_version": "1.5.0",
      "model_name": "VBoxModel",
      "state": {
       "children": [
        "IPY_MODEL_f10286ebd2064851acdaf6812e5d302a",
        "IPY_MODEL_d3e1cc043a414485836ba92eacfb2df0",
        "IPY_MODEL_54e48d8b62a8460191b34145c67c5801"
       ],
       "layout": "IPY_MODEL_57deda02d4dd417e908aade9906de45e"
      }
     },
     "c8fa1226651a4deda3aaf749c3cb87ad": {
      "model_module": "@jupyter-widgets/controls",
      "model_module_version": "1.5.0",
      "model_name": "HBoxModel",
      "state": {
       "children": [
        "IPY_MODEL_7bc9814dd6ce439f862aca8fd89621a8",
        "IPY_MODEL_be5d9f2384ed473c9048a7a0068d6522",
        "IPY_MODEL_03f38b59d38b4485901d87c70e54d875"
       ],
       "layout": "IPY_MODEL_f3ba6ec1490a4a348aea07884064c707"
      }
     },
     "c9000392c1214057b35e134cf4a56439": {
      "model_module": "@jupyter-widgets/base",
      "model_module_version": "1.2.0",
      "model_name": "LayoutModel",
      "state": {}
     },
     "c9523a8d6460496dbf3f11ca4bf1b677": {
      "model_module": "jupyter-matplotlib",
      "model_module_version": "^0.7.2",
      "model_name": "MPLCanvasModel",
      "state": {
       "_figure_label": "Figure 33",
       "_height": 396,
       "_width": 1100,
       "header_visible": false,
       "layout": "IPY_MODEL_55101fee43414706a282c356cb84a815",
       "resizable": false,
       "toolbar": "IPY_MODEL_06b18660ff054d60a901a70f0b801110",
       "toolbar_position": "left",
       "toolbar_visible": false
      }
     },
     "c955c3ea1a7c4a70b551692f0facc43f": {
      "model_module": "@jupyter-widgets/controls",
      "model_module_version": "1.5.0",
      "model_name": "FloatSliderModel",
      "state": {
       "description": "225°",
       "layout": "IPY_MODEL_209ca558cda94cfe860e3ff1e0dcacfc",
       "max": 1,
       "min": -1,
       "step": 0.01,
       "style": "IPY_MODEL_2e33effdff13435db170b3504e9e8b14"
      }
     },
     "c95ef856cfc640719ab93a6dca9cff57": {
      "model_module": "@jupyter-widgets/controls",
      "model_module_version": "1.5.0",
      "model_name": "SliderStyleModel",
      "state": {
       "description_width": ""
      }
     },
     "c962020cb32a454ba72f2d79e12efa09": {
      "model_module": "@jupyter-widgets/base",
      "model_module_version": "1.2.0",
      "model_name": "LayoutModel",
      "state": {}
     },
     "c96952a5b92140c2b8e5177547e4470b": {
      "model_module": "@jupyter-widgets/base",
      "model_module_version": "1.2.0",
      "model_name": "LayoutModel",
      "state": {}
     },
     "c9a8adda893c4684b47ded423f7e5346": {
      "model_module": "@jupyter-widgets/base",
      "model_module_version": "1.2.0",
      "model_name": "LayoutModel",
      "state": {}
     },
     "c9c7e0e1b7aa4820ad163a4bdb16cbc1": {
      "model_module": "@jupyter-widgets/controls",
      "model_module_version": "1.5.0",
      "model_name": "HBoxModel",
      "state": {
       "children": [
        "IPY_MODEL_57631dc761354a179dd374592e842be6",
        "IPY_MODEL_5b037eebc95a4dd8af0703f409e4eb24",
        "IPY_MODEL_daab942e5ded4785a450efc2930a21a7"
       ],
       "layout": "IPY_MODEL_52006f394caa41d1aca891571af76c8e"
      }
     },
     "ca09d29a48f34bd6b89eb1de25321c39": {
      "model_module": "@jupyter-widgets/controls",
      "model_module_version": "1.5.0",
      "model_name": "VBoxModel",
      "state": {
       "children": [
        "IPY_MODEL_92fdf2e09a8f49a1a7599f4c9bf39d9c",
        "IPY_MODEL_92ddc63f80914174b5d311297394873b"
       ],
       "layout": "IPY_MODEL_41c77cc592a141bb8ac73d273de52e0b"
      }
     },
     "ca3b913464384f19a60e29721354e5aa": {
      "model_module": "@jupyter-widgets/controls",
      "model_module_version": "1.5.0",
      "model_name": "SliderStyleModel",
      "state": {
       "description_width": ""
      }
     },
     "ca7d32015eb54f9ea847a7dba728826e": {
      "model_module": "@jupyter-widgets/controls",
      "model_module_version": "1.5.0",
      "model_name": "VBoxModel",
      "state": {
       "children": [
        "IPY_MODEL_8c2f6f2e860c4c4a854d3d740f98a158"
       ],
       "layout": "IPY_MODEL_766b59d6aa1347b6837dc72b1bdcc00c"
      }
     },
     "ca8397a4698243e6890bfd1af3c0a778": {
      "model_module": "@jupyter-widgets/controls",
      "model_module_version": "1.5.0",
      "model_name": "HBoxModel",
      "state": {
       "children": [
        "IPY_MODEL_8f9716e309c3414793a79ac7bb4dfc5f",
        "IPY_MODEL_7e5d2357ae12483ab5eda85974fef422",
        "IPY_MODEL_4eaf35703be3469c9859c093e4e60a38"
       ],
       "layout": "IPY_MODEL_0d677362c7bb4807bed2bd3c251a5805"
      }
     },
     "ca988d1c8a404629bc48f4ad8dbb75b4": {
      "model_module": "@jupyter-widgets/controls",
      "model_module_version": "1.5.0",
      "model_name": "ButtonStyleModel",
      "state": {}
     },
     "ca9dc8f9ee6f4e6094b6a83dd8a503c1": {
      "model_module": "@jupyter-widgets/controls",
      "model_module_version": "1.5.0",
      "model_name": "HBoxModel",
      "state": {
       "children": [
        "IPY_MODEL_5c7f713e82584281aea1288b2508c8cc",
        "IPY_MODEL_66121050702b472b8186c11984c656fc",
        "IPY_MODEL_ee4c0ff910c24294916a0aa32116a041",
        "IPY_MODEL_c1e84dbe11ff4a9ca5c425975971d408"
       ],
       "layout": "IPY_MODEL_a86224d64bac4797990b00037d232300"
      }
     },
     "cab548eb01f24ebba70fa8ca6f8208a5": {
      "model_module": "@jupyter-widgets/base",
      "model_module_version": "1.2.0",
      "model_name": "LayoutModel",
      "state": {}
     },
     "cac1314a8e8f496fa7c6eaf391b9b64a": {
      "model_module": "@jupyter-widgets/base",
      "model_module_version": "1.2.0",
      "model_name": "LayoutModel",
      "state": {}
     },
     "cb01d172155040c79ef4e2da6bd81cbd": {
      "model_module": "@jupyter-widgets/controls",
      "model_module_version": "1.5.0",
      "model_name": "ButtonModel",
      "state": {
       "description": "Save Figure",
       "layout": "IPY_MODEL_fe4a36732969490ab75c7d6776b51cfd",
       "style": "IPY_MODEL_17877dee195049ccb5fa81a3b5bd3b01"
      }
     },
     "cb1c3546c8d54b5e91c776d9f08d26c8": {
      "model_module": "@jupyter-widgets/controls",
      "model_module_version": "1.5.0",
      "model_name": "FloatSliderModel",
      "state": {
       "description": "225°",
       "layout": "IPY_MODEL_23259f5a7dca49b8a6cce57983134629",
       "max": 1,
       "min": -1,
       "step": 0.01,
       "style": "IPY_MODEL_38305e6bb5aa4f19b64cff314d1098db"
      }
     },
     "cb38dfb4ec78449687d8c5b3d29b664d": {
      "model_module": "@jupyter-widgets/base",
      "model_module_version": "1.2.0",
      "model_name": "LayoutModel",
      "state": {}
     },
     "cb3e1585226542d0a38d780b819b449b": {
      "model_module": "@jupyter-widgets/base",
      "model_module_version": "1.2.0",
      "model_name": "LayoutModel",
      "state": {}
     },
     "cb72104a7d634b3182fb9edf7c5d1846": {
      "model_module": "@jupyter-widgets/controls",
      "model_module_version": "1.5.0",
      "model_name": "DescriptionStyleModel",
      "state": {
       "description_width": ""
      }
     },
     "cbb1c9b8f9ac4f21b334929d4a3ae7ef": {
      "model_module": "@jupyter-widgets/controls",
      "model_module_version": "1.5.0",
      "model_name": "ButtonModel",
      "state": {
       "description": "Reset Exposure",
       "layout": "IPY_MODEL_c962020cb32a454ba72f2d79e12efa09",
       "style": "IPY_MODEL_f7d129d5d53a4b83bb5d8c718f541c9b"
      }
     },
     "cbc0528d4fdc488e84a5a171c38d0a61": {
      "model_module": "@jupyter-widgets/base",
      "model_module_version": "1.2.0",
      "model_name": "LayoutModel",
      "state": {}
     },
     "cbc0bcbf6fda4053955722087ccda117": {
      "model_module": "@jupyter-widgets/controls",
      "model_module_version": "1.5.0",
      "model_name": "SliderStyleModel",
      "state": {
       "description_width": ""
      }
     },
     "cc01c8c35cc34e3397748a8e7845adcd": {
      "model_module": "@jupyter-widgets/controls",
      "model_module_version": "1.5.0",
      "model_name": "FloatSliderModel",
      "state": {
       "description": "0°",
       "layout": "IPY_MODEL_926f9d58bbc145469c1d9ca98c0f12b8",
       "max": 1,
       "min": -1,
       "step": 0.01,
       "style": "IPY_MODEL_db7ddd45083f45d6965bce8e7a1e0735"
      }
     },
     "cc179deaf75d4bb591152b4b91abbea6": {
      "model_module": "@jupyter-widgets/controls",
      "model_module_version": "1.5.0",
      "model_name": "VBoxModel",
      "state": {
       "children": [
        "IPY_MODEL_a2d5fbbd0f7a49dc8590c6dc17da2d8b"
       ],
       "layout": "IPY_MODEL_1a5cceacfc8c433b82f8ccf2e3247d8c"
      }
     },
     "cc23968f9e16433b894a1e8cbbeefe4c": {
      "model_module": "@jupyter-widgets/controls",
      "model_module_version": "1.5.0",
      "model_name": "CheckboxModel",
      "state": {
       "description": "Disable Medicina",
       "disabled": false,
       "layout": "IPY_MODEL_4b3e1629ee9441ed934307ce121de67b",
       "style": "IPY_MODEL_59490df3d78c44d8b7cce9f978fe774d",
       "value": false
      }
     },
     "cc3a66a3c6e84296a305a5fd255321fb": {
      "model_module": "@jupyter-widgets/base",
      "model_module_version": "1.2.0",
      "model_name": "LayoutModel",
      "state": {}
     },
     "cc3d1eb031fe4f8cb16151a67564e98c": {
      "model_module": "@jupyter-widgets/base",
      "model_module_version": "1.2.0",
      "model_name": "LayoutModel",
      "state": {}
     },
     "cc5eeba410dd4599bb611217b6a19326": {
      "model_module": "@jupyter-widgets/base",
      "model_module_version": "1.2.0",
      "model_name": "LayoutModel",
      "state": {
       "align_items": "stretch",
       "display": "flex",
       "flex_flow": "column",
       "width": "1128px"
      }
     },
     "cc642064cc2f4f12ab4af45e71d27c95": {
      "model_module": "@jupyter-widgets/controls",
      "model_module_version": "1.5.0",
      "model_name": "BoxModel",
      "state": {
       "children": [
        "IPY_MODEL_736e091da3b5472a9e6cc3886c0cac1a",
        "IPY_MODEL_fd1023af1fcf478989827fbb56b8def6"
       ],
       "layout": "IPY_MODEL_b6b2671aad5d46819fe7a734b96ea23d"
      }
     },
     "cc8bde45830146aeb910bf119f5d5ad2": {
      "model_module": "@jupyter-widgets/base",
      "model_module_version": "1.2.0",
      "model_name": "LayoutModel",
      "state": {}
     },
     "cc8d060d813e4dcba8e0128fb0decaf4": {
      "model_module": "@jupyter-widgets/base",
      "model_module_version": "1.2.0",
      "model_name": "LayoutModel",
      "state": {}
     },
     "ccc2d065ae854e2dab675fd75deba5da": {
      "model_module": "@jupyter-widgets/base",
      "model_module_version": "1.2.0",
      "model_name": "LayoutModel",
      "state": {}
     },
     "ccd7dc504fd54b67b89abd61a4598e16": {
      "model_module": "@jupyter-widgets/controls",
      "model_module_version": "1.5.0",
      "model_name": "HBoxModel",
      "state": {
       "children": [
        "IPY_MODEL_00e34089eb184f65b746ea623be8ad8c",
        "IPY_MODEL_42b523bae3c249d2b4385fd5830cb697",
        "IPY_MODEL_e45de4a117f64ea4b5127941506b8b1a"
       ],
       "layout": "IPY_MODEL_1f4765f69c0d41eab034a29ef26970a1"
      }
     },
     "ccfc6652694a4b65adb462c42bac2c47": {
      "model_module": "@jupyter-widgets/controls",
      "model_module_version": "1.5.0",
      "model_name": "HBoxModel",
      "state": {
       "children": [
        "IPY_MODEL_41e7bfbfc98943b89895f7d0a9260f62",
        "IPY_MODEL_76cb4d26bd804891a512b59405d95166",
        "IPY_MODEL_fdb536b99f1746858d3946752fddca2a"
       ],
       "layout": "IPY_MODEL_9036ffa5028543ce9c2ab37c90311f20"
      }
     },
     "cd159779df704be5ada2a39ad009f2a1": {
      "model_module": "@jupyter-widgets/controls",
      "model_module_version": "1.5.0",
      "model_name": "SliderStyleModel",
      "state": {
       "description_width": ""
      }
     },
     "cd3d487c8c8840d4bb8c84427437555b": {
      "model_module": "@jupyter-widgets/base",
      "model_module_version": "1.2.0",
      "model_name": "LayoutModel",
      "state": {}
     },
     "cd5792079ae34377b51c53e6c77e11ab": {
      "model_module": "@jupyter-widgets/controls",
      "model_module_version": "1.5.0",
      "model_name": "ButtonModel",
      "state": {
       "description": "Reset Saturation Controls",
       "layout": "IPY_MODEL_a4df914d73624390b94078bb1d2c9730",
       "style": "IPY_MODEL_15438b9741384bdcbe75405a108a243b"
      }
     },
     "cd7f8feb089b482c93030fc0d8a4f15e": {
      "model_module": "@jupyter-widgets/controls",
      "model_module_version": "1.5.0",
      "model_name": "DescriptionStyleModel",
      "state": {
       "description_width": ""
      }
     },
     "cd92ee81320743539f147fa1b8837b8a": {
      "model_module": "@jupyter-widgets/controls",
      "model_module_version": "1.5.0",
      "model_name": "HBoxModel",
      "state": {
       "children": [
        "IPY_MODEL_0d2b3fd873a948cfa654dec916931b26",
        "IPY_MODEL_c3ef5b1fb6344abba26426c7f59fee45",
        "IPY_MODEL_b57d5a9820fd4a6a88fe62bef18afc63"
       ],
       "layout": "IPY_MODEL_16e2bdea7a344d0184e27e3de6cd5859"
      }
     },
     "cd95855434df4e5691c23fe3de6187db": {
      "model_module": "@jupyter-widgets/controls",
      "model_module_version": "1.5.0",
      "model_name": "VBoxModel",
      "state": {
       "children": [
        "IPY_MODEL_40c60845c31542679a98123e4810cd06",
        "IPY_MODEL_c6d177a9646b483e940d58b0be0d17c6",
        "IPY_MODEL_a188ab5d82eb455e9860a258a693a2fd"
       ],
       "layout": "IPY_MODEL_61a7364b64d74c56a2442dbf1f9abbfd"
      }
     },
     "cd967bca9be349d59666f38b384e402c": {
      "model_module": "@jupyter-widgets/base",
      "model_module_version": "1.2.0",
      "model_name": "LayoutModel",
      "state": {}
     },
     "cda22d670bf74fc9aae77a8259d5ac69": {
      "model_module": "@jupyter-widgets/controls",
      "model_module_version": "1.5.0",
      "model_name": "SliderStyleModel",
      "state": {
       "description_width": ""
      }
     },
     "cdb883ab4b5045548a4331b05a4e7b87": {
      "model_module": "@jupyter-widgets/base",
      "model_module_version": "1.2.0",
      "model_name": "LayoutModel",
      "state": {}
     },
     "ce21794a40ac4cf0ae7372cde0b1fe40": {
      "model_module": "@jupyter-widgets/controls",
      "model_module_version": "1.5.0",
      "model_name": "ButtonModel",
      "state": {
       "description": "Reset Protected Area",
       "layout": "IPY_MODEL_72779291178e40fa85c780b674478831",
       "style": "IPY_MODEL_5a32a29a1c274931bab82bbc7df69350"
      }
     },
     "ce67fd260a914e7a9070c7f9a7583c0c": {
      "model_module": "@jupyter-widgets/base",
      "model_module_version": "1.2.0",
      "model_name": "LayoutModel",
      "state": {}
     },
     "ceb2555c54a44984868c43dcecb4de3a": {
      "model_module": "@jupyter-widgets/controls",
      "model_module_version": "1.5.0",
      "model_name": "ButtonModel",
      "state": {
       "description": "Save Figure",
       "layout": "IPY_MODEL_6ca7a550d574420f8051a867b94598bf",
       "style": "IPY_MODEL_c83db476a629413989d931c70ae34d08"
      }
     },
     "cedd589c89354ef6834d55ec82df1a92": {
      "model_module": "@jupyter-widgets/controls",
      "model_module_version": "1.5.0",
      "model_name": "VBoxModel",
      "state": {
       "children": [
        "IPY_MODEL_bc5bbc42561f43e984bb96eac90fc5f9",
        "IPY_MODEL_0f1f7b3e1fed4e5ca017636db96a7f91",
        "IPY_MODEL_afd5cd16e2524b119f32b834c8fb7f61"
       ],
       "layout": "IPY_MODEL_6817ca8550484fd5ac85a695901acdd0"
      }
     },
     "cedfc1c66f6441ebbe367bf26f71a974": {
      "model_module": "@jupyter-widgets/controls",
      "model_module_version": "1.5.0",
      "model_name": "HBoxModel",
      "state": {
       "children": [
        "IPY_MODEL_b3970f3d6b7e4d6ba3a39bc42a3b23ca",
        "IPY_MODEL_d0cd3f14fbe34f1e9cda753c67d654b6",
        "IPY_MODEL_cf4e2aef30d04b0891f5d36a80e4f09f"
       ],
       "layout": "IPY_MODEL_f993a831bacf4d2fb2eec42429b5a2c3"
      }
     },
     "cee16ca9f835418eb5eb7493a8d73e87": {
      "model_module": "@jupyter-widgets/base",
      "model_module_version": "1.2.0",
      "model_name": "LayoutModel",
      "state": {}
     },
     "ceea0c24e2644a91925edf37502bd6fd": {
      "model_module": "@jupyter-widgets/controls",
      "model_module_version": "1.5.0",
      "model_name": "SliderStyleModel",
      "state": {
       "description_width": ""
      }
     },
     "ceef75fb4959462eb991b55b88108f06": {
      "model_module": "@jupyter-widgets/controls",
      "model_module_version": "1.5.0",
      "model_name": "DropdownModel",
      "state": {
       "_options_labels": [
        "tanh",
        "atan",
        "simple"
       ],
       "description": "Compression Function:",
       "index": 0,
       "layout": "IPY_MODEL_627d80038bac4e2ca7b7a388f1dd3a92",
       "style": "IPY_MODEL_e0ec7348eed046819c71e4769e3a56be"
      }
     },
     "cefcdaa2b8434652ba2ddc09a3a913e2": {
      "model_module": "@jupyter-widgets/controls",
      "model_module_version": "1.5.0",
      "model_name": "DropdownModel",
      "state": {
       "_options_labels": [
        "sRGB",
        "sRGB (ACES)",
        "Display P3",
        "Display P3 (ACES)"
       ],
       "description": "View Transform:",
       "index": 0,
       "layout": "IPY_MODEL_4b56a28f121d42598fe14d568857b6b0",
       "style": "IPY_MODEL_657353382651417ba236fe86867fb88b"
      }
     },
     "cf009646e051426ab6aeea1968a4ca89": {
      "model_module": "@jupyter-widgets/controls",
      "model_module_version": "1.5.0",
      "model_name": "FloatSliderModel",
      "state": {
       "description": "135°",
       "layout": "IPY_MODEL_21000ee0aac447daac7ed7ba39b41874",
       "max": 1,
       "min": -1,
       "step": 0.01,
       "style": "IPY_MODEL_05b04ec9b0a240579bb135db4d6181c3"
      }
     },
     "cf271b2fbaed4747b860f1e9f0be8758": {
      "model_module": "@jupyter-widgets/controls",
      "model_module_version": "1.5.0",
      "model_name": "FloatSliderModel",
      "state": {
       "description": "270°",
       "layout": "IPY_MODEL_b3ef151f6e3a471c87a0c8c73b64c939",
       "max": 1,
       "min": -1,
       "step": 0.01,
       "style": "IPY_MODEL_de339fbe31a34f38b12446cdd329c929"
      }
     },
     "cf4e2aef30d04b0891f5d36a80e4f09f": {
      "model_module": "@jupyter-widgets/controls",
      "model_module_version": "1.5.0",
      "model_name": "FloatSliderModel",
      "state": {
       "description": "Compression Threshold",
       "layout": "IPY_MODEL_a561a55b79954141b2355f19c444e1f1",
       "max": 1,
       "step": 0.01,
       "style": "IPY_MODEL_ad52502e61074bd2980bdc05778a1cf4",
       "value": 0.5
      }
     },
     "cf530f03bfb0490da729f48a2b356721": {
      "model_module": "@jupyter-widgets/controls",
      "model_module_version": "1.5.0",
      "model_name": "DropdownModel",
      "state": {
       "_options_labels": [
        "sRGB",
        "sRGB (ACES)",
        "Display P3",
        "Display P3 (ACES)"
       ],
       "description": "View Transform:",
       "index": 0,
       "layout": "IPY_MODEL_b33f3b06b41e4e018fe4ab2ab84c35e7",
       "style": "IPY_MODEL_78b143d5108043fdbb84694d3f861c32"
      }
     },
     "cf647b1e08f3405abbb25a6f12b03f11": {
      "model_module": "@jupyter-widgets/base",
      "model_module_version": "1.2.0",
      "model_name": "LayoutModel",
      "state": {}
     },
     "cf712c0204474fe6820a38450d4e91c1": {
      "model_module": "@jupyter-widgets/controls",
      "model_module_version": "1.5.0",
      "model_name": "FloatSliderModel",
      "state": {
       "description": "Protected Area Threshold",
       "layout": "IPY_MODEL_df949bda7a674409bc477369c0c2121d",
       "max": 1,
       "step": 0.01,
       "style": "IPY_MODEL_24dd13ebe8c9477ea533084f9e209604",
       "value": 0.5
      }
     },
     "cfe00aefcac041669c196f24a79a1ad5": {
      "model_module": "@jupyter-widgets/base",
      "model_module_version": "1.2.0",
      "model_name": "LayoutModel",
      "state": {}
     },
     "d060f8486a4247aa8b62083cfd751042": {
      "model_module": "@jupyter-widgets/base",
      "model_module_version": "1.2.0",
      "model_name": "LayoutModel",
      "state": {}
     },
     "d075efa61463466fb266269aa12ac40b": {
      "model_module": "@jupyter-widgets/base",
      "model_module_version": "1.2.0",
      "model_name": "LayoutModel",
      "state": {}
     },
     "d0a62074922f4685a9d8a6ef45e538de": {
      "model_module": "@jupyter-widgets/base",
      "model_module_version": "1.2.0",
      "model_name": "LayoutModel",
      "state": {}
     },
     "d0b6977a39474cc79385266e3b6000dc": {
      "model_module": "@jupyter-widgets/base",
      "model_module_version": "1.2.0",
      "model_name": "LayoutModel",
      "state": {}
     },
     "d0b9663c71524a35bc57ea85963a40be": {
      "model_module": "jupyter-matplotlib",
      "model_module_version": "^0.7.2",
      "model_name": "MPLCanvasModel",
      "state": {
       "_figure_label": "Figure 24",
       "_height": 440,
       "_width": 1100,
       "header_visible": false,
       "layout": "IPY_MODEL_102e2259ff1b466398750ee5cef0791f",
       "resizable": false,
       "toolbar": "IPY_MODEL_59425232a9c04c47872c8c16088b8bfb",
       "toolbar_position": "left",
       "toolbar_visible": false
      }
     },
     "d0c81077c17e4297bd1df9836bc0be57": {
      "model_module": "@jupyter-widgets/base",
      "model_module_version": "1.2.0",
      "model_name": "LayoutModel",
      "state": {}
     },
     "d0cd3f14fbe34f1e9cda753c67d654b6": {
      "model_module": "@jupyter-widgets/controls",
      "model_module_version": "1.5.0",
      "model_name": "DropdownModel",
      "state": {
       "_options_labels": [
        "tanh",
        "atan",
        "simple"
       ],
       "description": "Compression Function:",
       "index": 0,
       "layout": "IPY_MODEL_47a71cb92b2d4f61b9a4ffc24c2cafe0",
       "style": "IPY_MODEL_e9933ebb943a409faa83d788bccdbc26"
      }
     },
     "d0f319d4f21e481fbafaff9a7b7ca6cd": {
      "model_module": "@jupyter-widgets/controls",
      "model_module_version": "1.5.0",
      "model_name": "DescriptionStyleModel",
      "state": {
       "description_width": ""
      }
     },
     "d125d2daac594f62baf167cf271132d7": {
      "model_module": "@jupyter-widgets/controls",
      "model_module_version": "1.5.0",
      "model_name": "TabModel",
      "state": {
       "_titles": {
        "0": "Global Controls",
        "1": "Viewer Controls",
        "2": "Protected Area Controls",
        "3": "Saturation Controls",
        "4": "Hue Controls"
       },
       "children": [
        "IPY_MODEL_8f70df17f8cd46dbb321e4b896829c97",
        "IPY_MODEL_a43ad0445ad642de81fcaebc2a8af268",
        "IPY_MODEL_1175753b7a5c410fa9433684b003c7c4",
        "IPY_MODEL_e4c68c025c794cbbb07878f162794e1d",
        "IPY_MODEL_c4474ab0da524c3192b8cb39ef66612e"
       ],
       "layout": "IPY_MODEL_e0b25d62a28c431a9cf8c3f369e3c209"
      }
     },
     "d129192cc8df4931acad2cfb905fb5cd": {
      "model_module": "@jupyter-widgets/controls",
      "model_module_version": "1.5.0",
      "model_name": "CheckboxModel",
      "state": {
       "description": "Disable Medicina",
       "disabled": false,
       "layout": "IPY_MODEL_955b0ac00c394bc3988aee6552bde494",
       "style": "IPY_MODEL_aa7cbafc021b46be9122454b12fe42e4",
       "value": false
      }
     },
     "d12d066c3e8943a28a07ff713d718a1a": {
      "model_module": "@jupyter-widgets/base",
      "model_module_version": "1.2.0",
      "model_name": "LayoutModel",
      "state": {}
     },
     "d1436ab7e2d54fc090e9145dc02861e0": {
      "model_module": "@jupyter-widgets/controls",
      "model_module_version": "1.5.0",
      "model_name": "SliderStyleModel",
      "state": {
       "description_width": ""
      }
     },
     "d14a1b84e48743cc9e583b83de49df5b": {
      "model_module": "@jupyter-widgets/base",
      "model_module_version": "1.2.0",
      "model_name": "LayoutModel",
      "state": {}
     },
     "d14f5b34e86e462a8ff5ce99ac1bd6b1": {
      "model_module": "@jupyter-widgets/base",
      "model_module_version": "1.2.0",
      "model_name": "LayoutModel",
      "state": {}
     },
     "d17fe0777bc34eb9ad894553d2eb76c2": {
      "model_module": "@jupyter-widgets/controls",
      "model_module_version": "1.5.0",
      "model_name": "DropdownModel",
      "state": {
       "_options_labels": [
        "sRGB",
        "sRGB (ACES)",
        "Display P3",
        "Display P3 (ACES)"
       ],
       "description": "View Transform:",
       "index": 0,
       "layout": "IPY_MODEL_1854f7ae6f284c0bb88208fca4e6b0b7",
       "style": "IPY_MODEL_f802bc9be9924772acaa62a1cceaa9a0"
      }
     },
     "d1b3f16b2ca74b6eaf4cf34d7aa1e4b6": {
      "model_module": "@jupyter-widgets/controls",
      "model_module_version": "1.5.0",
      "model_name": "ButtonModel",
      "state": {
       "description": "Export Image",
       "layout": "IPY_MODEL_21e8b2c454294175b91efa88b6ae7993",
       "style": "IPY_MODEL_a86927f1b01441a7a962290ba7d2b8da"
      }
     },
     "d1c95ce9f9594fb780586dcf390aa047": {
      "model_module": "@jupyter-widgets/base",
      "model_module_version": "1.2.0",
      "model_name": "LayoutModel",
      "state": {}
     },
     "d1e0629ba569469ab9f211558e2a9331": {
      "model_module": "@jupyter-widgets/base",
      "model_module_version": "1.2.0",
      "model_name": "LayoutModel",
      "state": {}
     },
     "d1fad98901204d41999225fbedf94a5f": {
      "model_module": "@jupyter-widgets/base",
      "model_module_version": "1.2.0",
      "model_name": "LayoutModel",
      "state": {}
     },
     "d23ef91867ba4159b028bf0b2f310602": {
      "model_module": "@jupyter-widgets/controls",
      "model_module_version": "1.5.0",
      "model_name": "SliderStyleModel",
      "state": {
       "description_width": ""
      }
     },
     "d26c9975ee22422abab864d816737bd8": {
      "model_module": "@jupyter-widgets/controls",
      "model_module_version": "1.5.0",
      "model_name": "HBoxModel",
      "state": {
       "children": [
        "IPY_MODEL_db0f0711b9ad4ee498cc3e609e8c7e3a",
        "IPY_MODEL_2fbe659fd113467c93c9234e92f7a83f"
       ],
       "layout": "IPY_MODEL_3b17e31d5cc44dfc84a8c904e4d861dd"
      }
     },
     "d26d9e3f587d4f1f8f2a865954c0477c": {
      "model_module": "@jupyter-widgets/controls",
      "model_module_version": "1.5.0",
      "model_name": "FloatSliderModel",
      "state": {
       "description": "Protected Area Threshold",
       "layout": "IPY_MODEL_b86b7eb4552c4286b6d84e13fe6b5919",
       "max": 1,
       "step": 0.01,
       "style": "IPY_MODEL_41e4cb802b1742b1b3718b3e30761a26",
       "value": 0.7
      }
     },
     "d28d3ccdfc114e33a140e296f2bfc139": {
      "model_module": "@jupyter-widgets/base",
      "model_module_version": "1.2.0",
      "model_name": "LayoutModel",
      "state": {
       "border": "solid 4px #222",
       "margin": "4px",
       "padding": "0"
      }
     },
     "d2ed54c998ec43689e68d636034ea0c2": {
      "model_module": "@jupyter-widgets/controls",
      "model_module_version": "1.5.0",
      "model_name": "DropdownModel",
      "state": {
       "_options_labels": [
        "sRGB",
        "sRGB (ACES)",
        "Display P3",
        "Display P3 (ACES)"
       ],
       "description": "View Transform:",
       "index": 0,
       "layout": "IPY_MODEL_4685b13ac1d4434e918272052fb635f5",
       "style": "IPY_MODEL_1e82172dd36e4f2eb625248a2510a8ea"
      }
     },
     "d2fab7e87e4948aa949454e5e2c3ac67": {
      "model_module": "@jupyter-widgets/base",
      "model_module_version": "1.2.0",
      "model_name": "LayoutModel",
      "state": {}
     },
     "d30b21a1f7c140d68ce12eb011b1b814": {
      "model_module": "@jupyter-widgets/controls",
      "model_module_version": "1.5.0",
      "model_name": "TabModel",
      "state": {
       "_titles": {
        "0": "Global Controls",
        "1": "Viewer Controls",
        "2": "Protected Area Controls",
        "3": "Saturation Controls",
        "4": "Hue Controls"
       },
       "children": [
        "IPY_MODEL_ef88024faa88487fa8acb63ad8c66be6",
        "IPY_MODEL_fff7f24bcb38441cbea24a96ea71c9a2",
        "IPY_MODEL_03f06c068b7542b49bad4eda8fc6a4cb",
        "IPY_MODEL_2dfaf48ad49c45f9ba6883f8e367b6c8",
        "IPY_MODEL_ec2fbd5e629f4fa5958caac775fe6c7c"
       ],
       "layout": "IPY_MODEL_051a0f2195334a03bcdb5e3f3d0afaab"
      }
     },
     "d362714cde4c46e188160dd6b3bd15e2": {
      "model_module": "@jupyter-widgets/base",
      "model_module_version": "1.2.0",
      "model_name": "LayoutModel",
      "state": {}
     },
     "d385dc9ade7a431b85330a50390580c7": {
      "model_module": "@jupyter-widgets/controls",
      "model_module_version": "1.5.0",
      "model_name": "DescriptionStyleModel",
      "state": {
       "description_width": ""
      }
     },
     "d3892e5c72c7480283803217224a8f70": {
      "model_module": "@jupyter-widgets/controls",
      "model_module_version": "1.5.0",
      "model_name": "FloatSliderModel",
      "state": {
       "description": "Compression Threshold",
       "layout": "IPY_MODEL_0172c8bfe5824a9ba02414599bf64e04",
       "max": 1,
       "step": 0.01,
       "style": "IPY_MODEL_597ce20a4a0f4e53b10335b69acbe61d",
       "value": 0.8
      }
     },
     "d393b60e6fbf4f36b5ff2d6be43ebd00": {
      "model_module": "@jupyter-widgets/controls",
      "model_module_version": "1.5.0",
      "model_name": "HBoxModel",
      "state": {
       "children": [
        "IPY_MODEL_f8750db6bbbd4ce6a9cebb0e764ed116",
        "IPY_MODEL_a9f93f1a09c144fc90b554bee82de0a7"
       ],
       "layout": "IPY_MODEL_1d75800de3ce466587f2cb2244098e7a"
      }
     },
     "d39bf2d021f544c7a9725c217131f026": {
      "model_module": "@jupyter-widgets/controls",
      "model_module_version": "1.5.0",
      "model_name": "ButtonModel",
      "state": {
       "description": "Save Figure",
       "layout": "IPY_MODEL_4f5509f2944c4ee5874df1a4005dfd69",
       "style": "IPY_MODEL_7adbcf4df64d474ab5ee9a4d97b221b6"
      }
     },
     "d3c5d6451b374701a3bfc3e59d1ab925": {
      "model_module": "@jupyter-widgets/controls",
      "model_module_version": "1.5.0",
      "model_name": "FloatSliderModel",
      "state": {
       "description": "0°",
       "layout": "IPY_MODEL_570c6157712741d8a4ad09a5f291d8e6",
       "max": 1,
       "min": -1,
       "step": 0.01,
       "style": "IPY_MODEL_e02fea90e71a4d0781e27c7a1223689e"
      }
     },
     "d3e1cc043a414485836ba92eacfb2df0": {
      "model_module": "@jupyter-widgets/controls",
      "model_module_version": "1.5.0",
      "model_name": "FloatSliderModel",
      "state": {
       "description": "180°",
       "layout": "IPY_MODEL_d1fad98901204d41999225fbedf94a5f",
       "max": 1,
       "min": -1,
       "step": 0.01,
       "style": "IPY_MODEL_ab80acc7fe244ede80ddbae31d39db6a"
      }
     },
     "d401fd1a7a8c4e9cafd3646ea3fdba6f": {
      "model_module": "@jupyter-widgets/base",
      "model_module_version": "1.2.0",
      "model_name": "LayoutModel",
      "state": {}
     },
     "d445a96424e343e2b3520cb524e55a4d": {
      "model_module": "@jupyter-widgets/controls",
      "model_module_version": "1.5.0",
      "model_name": "SliderStyleModel",
      "state": {
       "description_width": ""
      }
     },
     "d4729fa8f1ad470691afcd366a88645e": {
      "model_module": "@jupyter-widgets/base",
      "model_module_version": "1.2.0",
      "model_name": "LayoutModel",
      "state": {}
     },
     "d48cef3b76ba4f1bbc4a30c4b5df2cf6": {
      "model_module": "@jupyter-widgets/controls",
      "model_module_version": "1.5.0",
      "model_name": "HBoxModel",
      "state": {
       "children": [
        "IPY_MODEL_96af92fcf61d414495de6331cf547c83",
        "IPY_MODEL_d9f16812c06347b5855a0a9f07984736"
       ],
       "layout": "IPY_MODEL_5dff7168b4af4b46a5b088b65a9b62a0"
      }
     },
     "d494b646be374aa681ea6b2f28a08ffe": {
      "model_module": "@jupyter-widgets/controls",
      "model_module_version": "1.5.0",
      "model_name": "FloatSliderModel",
      "state": {
       "description": "Compression Threshold",
       "layout": "IPY_MODEL_6e25690ca7804cf289f51eb7642cf4ae",
       "max": 1,
       "step": 0.01,
       "style": "IPY_MODEL_8f1e9f8af2b243a4abb5931b5ef6f0f6",
       "value": 0.8
      }
     },
     "d4ad0dda3d404d7b942d7dad3c2c1aab": {
      "model_module": "@jupyter-widgets/base",
      "model_module_version": "1.2.0",
      "model_name": "LayoutModel",
      "state": {}
     },
     "d4cf1739e5ad4767a9979ce2826ddee0": {
      "model_module": "@jupyter-widgets/controls",
      "model_module_version": "1.5.0",
      "model_name": "VBoxModel",
      "state": {
       "children": [
        "IPY_MODEL_8c94a1516bad48db9347d16c893c70cd"
       ],
       "layout": "IPY_MODEL_52f0e3256bba438996cc42141511ccb9"
      }
     },
     "d4d43c983c574dae869d97d47217cc09": {
      "model_module": "@jupyter-widgets/controls",
      "model_module_version": "1.5.0",
      "model_name": "FloatSliderModel",
      "state": {
       "description": "135°",
       "layout": "IPY_MODEL_21fbf747577347b4a070fcb68a609ae5",
       "max": 1,
       "min": -1,
       "step": 0.01,
       "style": "IPY_MODEL_278e5b692f1f4fb7a42536220261749d"
      }
     },
     "d4d91126f79a41a4a166822f8882749c": {
      "model_module": "@jupyter-widgets/base",
      "model_module_version": "1.2.0",
      "model_name": "LayoutModel",
      "state": {}
     },
     "d4e225512eb24e799138a4226a7b623e": {
      "model_module": "@jupyter-widgets/controls",
      "model_module_version": "1.5.0",
      "model_name": "FloatSliderModel",
      "state": {
       "description": "0°",
       "layout": "IPY_MODEL_0fe73b8eb12d4b4bab4204776b3f0d19",
       "max": 1,
       "min": -1,
       "step": 0.01,
       "style": "IPY_MODEL_01c8a871a67c4373a13e93e0febbdc76"
      }
     },
     "d5061ae945e54400b2ad2e1f817b1ec1": {
      "model_module": "@jupyter-widgets/base",
      "model_module_version": "1.2.0",
      "model_name": "LayoutModel",
      "state": {}
     },
     "d59ead09aa1c49cbbc703a3e248d31fc": {
      "model_module": "@jupyter-widgets/base",
      "model_module_version": "1.2.0",
      "model_name": "LayoutModel",
      "state": {}
     },
     "d5f7f3dbeafb4c4197423c4782bbb50c": {
      "model_module": "@jupyter-widgets/controls",
      "model_module_version": "1.5.0",
      "model_name": "SliderStyleModel",
      "state": {
       "description_width": ""
      }
     },
     "d62eb937ba074cec8810e2ac3280e1f7": {
      "model_module": "@jupyter-widgets/base",
      "model_module_version": "1.2.0",
      "model_name": "LayoutModel",
      "state": {}
     },
     "d66957992b594dd49909c810f2ec460a": {
      "model_module": "@jupyter-widgets/controls",
      "model_module_version": "1.5.0",
      "model_name": "FloatSliderModel",
      "state": {
       "description": "Exposure",
       "layout": "IPY_MODEL_e0b5ac23eb3c4940b90a53f2a2ede87c",
       "max": 8,
       "min": -8,
       "step": 0.1,
       "style": "IPY_MODEL_ae0457bc8bd24d9da3903d039b86435a"
      }
     },
     "d68a3a17311e41dbbc30d5244c40009e": {
      "model_module": "@jupyter-widgets/controls",
      "model_module_version": "1.5.0",
      "model_name": "ButtonStyleModel",
      "state": {}
     },
     "d6ed343f70c741a6a458b06ae93afd6b": {
      "model_module": "@jupyter-widgets/base",
      "model_module_version": "1.2.0",
      "model_name": "LayoutModel",
      "state": {}
     },
     "d6fc67bbf187466488c261a60dd011f5": {
      "model_module": "@jupyter-widgets/base",
      "model_module_version": "1.2.0",
      "model_name": "LayoutModel",
      "state": {}
     },
     "d72ab5028bbc4fc5a5010dcd465407e5": {
      "model_module": "@jupyter-widgets/base",
      "model_module_version": "1.2.0",
      "model_name": "LayoutModel",
      "state": {}
     },
     "d730a66a99944674aaec187ab8f7a416": {
      "model_module": "@jupyter-widgets/base",
      "model_module_version": "1.2.0",
      "model_name": "LayoutModel",
      "state": {}
     },
     "d747e87375634744a59c15ebd67ccc82": {
      "model_module": "@jupyter-widgets/base",
      "model_module_version": "1.2.0",
      "model_name": "LayoutModel",
      "state": {}
     },
     "d74d5b786e9f434db33772c756da1637": {
      "model_module": "@jupyter-widgets/controls",
      "model_module_version": "1.5.0",
      "model_name": "VBoxModel",
      "state": {
       "children": [
        "IPY_MODEL_7d911bd362f14f76aaf6e733f95464c0",
        "IPY_MODEL_f2c001a85b534031b4e552cb650af0d9",
        "IPY_MODEL_4167ee7a14af46fbb30e621678e3850f"
       ],
       "layout": "IPY_MODEL_a23649129a80479e845281e73843ff02"
      }
     },
     "d76be58e240f49569809a35f60286c95": {
      "model_module": "@jupyter-widgets/controls",
      "model_module_version": "1.5.0",
      "model_name": "SliderStyleModel",
      "state": {
       "description_width": ""
      }
     },
     "d770953d9da74bbf874abe8e17ae8fd0": {
      "model_module": "@jupyter-widgets/base",
      "model_module_version": "1.2.0",
      "model_name": "LayoutModel",
      "state": {
       "border": "solid 4px #222",
       "margin": "4px",
       "padding": "0"
      }
     },
     "d789398289bb4d12a3182bd1527b6396": {
      "model_module": "@jupyter-widgets/controls",
      "model_module_version": "1.5.0",
      "model_name": "CheckboxModel",
      "state": {
       "description": "Disable Medicina",
       "disabled": false,
       "layout": "IPY_MODEL_afa22cbdc3f148f69e6b4bdfd4b83647",
       "style": "IPY_MODEL_51836282536343078e61097b580ac062",
       "value": false
      }
     },
     "d78ba25163514b40afaccf042e2b2405": {
      "model_module": "@jupyter-widgets/base",
      "model_module_version": "1.2.0",
      "model_name": "LayoutModel",
      "state": {}
     },
     "d79bf112f2244212b10706bce61b42d5": {
      "model_module": "@jupyter-widgets/controls",
      "model_module_version": "1.5.0",
      "model_name": "HBoxModel",
      "state": {
       "children": [
        "IPY_MODEL_318c325726ad401da5525c190af704ad",
        "IPY_MODEL_734e1dde02b245fc9c5ca490943a7da8"
       ],
       "layout": "IPY_MODEL_04018c163fa6465c8cc3e288e98d5e26"
      }
     },
     "d7bc034a1c7b43b99c025770749ed4ed": {
      "model_module": "@jupyter-widgets/base",
      "model_module_version": "1.2.0",
      "model_name": "LayoutModel",
      "state": {}
     },
     "d80ab23c1ebc44c3a461babe322a2dd1": {
      "model_module": "@jupyter-widgets/base",
      "model_module_version": "1.2.0",
      "model_name": "LayoutModel",
      "state": {}
     },
     "d81a85350e674742b9286d3bdc14462c": {
      "model_module": "@jupyter-widgets/base",
      "model_module_version": "1.2.0",
      "model_name": "LayoutModel",
      "state": {}
     },
     "d82d20cec4ab4e5a946ce26453762f5c": {
      "model_module": "@jupyter-widgets/controls",
      "model_module_version": "1.5.0",
      "model_name": "CheckboxModel",
      "state": {
       "description": "Disable Medicina",
       "disabled": false,
       "layout": "IPY_MODEL_41de73a987c147efae227fbce9658136",
       "style": "IPY_MODEL_19e2a15ccb47446e9fc298ee1040555c",
       "value": false
      }
     },
     "d83b68272bff42eca30e62e9125d848b": {
      "model_module": "@jupyter-widgets/controls",
      "model_module_version": "1.5.0",
      "model_name": "ButtonStyleModel",
      "state": {}
     },
     "d8a79f886b4e4c1e84a77600dfb0f474": {
      "model_module": "@jupyter-widgets/controls",
      "model_module_version": "1.5.0",
      "model_name": "SliderStyleModel",
      "state": {
       "description_width": ""
      }
     },
     "d8b3544fd57b42b3ba8f2fe025047ba7": {
      "model_module": "@jupyter-widgets/base",
      "model_module_version": "1.2.0",
      "model_name": "LayoutModel",
      "state": {}
     },
     "d907a1a42eb74eea9d2540bb37a8e97b": {
      "model_module": "@jupyter-widgets/base",
      "model_module_version": "1.2.0",
      "model_name": "LayoutModel",
      "state": {}
     },
     "d91591d6e0d44a1db5466b36c555882d": {
      "model_module": "@jupyter-widgets/controls",
      "model_module_version": "1.5.0",
      "model_name": "FloatSliderModel",
      "state": {
       "description": "45°",
       "layout": "IPY_MODEL_bf89a5e03f1f4d2abe6119df04464e47",
       "max": 1,
       "min": -1,
       "step": 0.01,
       "style": "IPY_MODEL_a499fddec44c41e6bbecaa99af5ca911"
      }
     },
     "d9598c445da14307aa01965b0cac836b": {
      "model_module": "@jupyter-widgets/base",
      "model_module_version": "1.2.0",
      "model_name": "LayoutModel",
      "state": {}
     },
     "d96c573cbb2a4df1a1a8b007a8bee2ed": {
      "model_module": "@jupyter-widgets/controls",
      "model_module_version": "1.5.0",
      "model_name": "SliderStyleModel",
      "state": {
       "description_width": ""
      }
     },
     "d977ef0b7ee345429aa4cbce666ccbe6": {
      "model_module": "@jupyter-widgets/base",
      "model_module_version": "1.2.0",
      "model_name": "LayoutModel",
      "state": {}
     },
     "d98d6e14d41f4bbf961a83ae0e59ef8b": {
      "model_module": "@jupyter-widgets/base",
      "model_module_version": "1.2.0",
      "model_name": "LayoutModel",
      "state": {}
     },
     "d996a6d1e42c449e8b6eba21acb5e6c0": {
      "model_module": "@jupyter-widgets/controls",
      "model_module_version": "1.5.0",
      "model_name": "ButtonModel",
      "state": {
       "description": "Save Figure",
       "layout": "IPY_MODEL_8a8f6c8b45db4c6987218ea719feca07",
       "style": "IPY_MODEL_0599d55a81404ebc9b241be0b42d8dfb"
      }
     },
     "d99f8e94b09d48dcb0eba65748368656": {
      "model_module": "@jupyter-widgets/controls",
      "model_module_version": "1.5.0",
      "model_name": "CheckboxModel",
      "state": {
       "description": "Show Out-of-Gamut",
       "disabled": false,
       "layout": "IPY_MODEL_c0a864a828994c139b398dc21048cfab",
       "style": "IPY_MODEL_0347a3c2b52145ccb3a2a18c6d2aee80",
       "value": false
      }
     },
     "d9bd0d4500774d589f0b4bd4bdb4fd9c": {
      "model_module": "@jupyter-widgets/base",
      "model_module_version": "1.2.0",
      "model_name": "LayoutModel",
      "state": {}
     },
     "d9c1923a068642599cabf4e6dccdf8bf": {
      "model_module": "@jupyter-widgets/controls",
      "model_module_version": "1.5.0",
      "model_name": "HBoxModel",
      "state": {
       "children": [
        "IPY_MODEL_528455efd4d3444799e8fa2c9755ac50",
        "IPY_MODEL_9f65e9bea1e74051b37f23a1dbbbe00b",
        "IPY_MODEL_bb13521c0bd54e04b109016bf6463545"
       ],
       "layout": "IPY_MODEL_e50b13e88ade45ac89fd5c4e0c498783"
      }
     },
     "d9dcbf2038ef464fbdc9359bc3db9cc7": {
      "model_module": "@jupyter-widgets/controls",
      "model_module_version": "1.5.0",
      "model_name": "ButtonModel",
      "state": {
       "description": "Reset Compression Controls",
       "layout": "IPY_MODEL_50e230c9349b410a83648473d23dca70",
       "style": "IPY_MODEL_dec31a3773e945828d6bc2cfd7b9967c"
      }
     },
     "d9f16812c06347b5855a0a9f07984736": {
      "model_module": "@jupyter-widgets/controls",
      "model_module_version": "1.5.0",
      "model_name": "FloatSliderModel",
      "state": {
       "description": "Protected Area Threshold",
       "layout": "IPY_MODEL_4a59a4a42afb463ba791f4e568a51984",
       "max": 1,
       "step": 0.01,
       "style": "IPY_MODEL_eff4002a42074f86a078c5a3c4b312a1",
       "value": 0.7
      }
     },
     "d9f1c08d487a4df9be300aa467ef8e9f": {
      "model_module": "@jupyter-widgets/base",
      "model_module_version": "1.2.0",
      "model_name": "LayoutModel",
      "state": {}
     },
     "da030c11d8054bfaa5da0504ad29b77b": {
      "model_module": "jupyter-matplotlib",
      "model_module_version": "^0.7.2",
      "model_name": "ToolbarModel",
      "state": {
       "layout": "IPY_MODEL_56a67823a55d4ea0b172bd97ff75b058",
       "toolitems": [
        [
         "Home",
         "Reset original view",
         "home",
         "home"
        ],
        [
         "Back",
         "Back to previous view",
         "arrow-left",
         "back"
        ],
        [
         "Forward",
         "Forward to next view",
         "arrow-right",
         "forward"
        ],
        [
         "Pan",
         "Pan axes with left mouse, zoom with right",
         "arrows",
         "pan"
        ],
        [
         "Zoom",
         "Zoom to rectangle",
         "square-o",
         "zoom"
        ],
        [
         "Download",
         "Download plot",
         "floppy-o",
         "save_figure"
        ]
       ]
      }
     },
     "da0d877027504035ad4607cf2fba72d0": {
      "model_module": "@jupyter-widgets/controls",
      "model_module_version": "1.5.0",
      "model_name": "HBoxModel",
      "state": {
       "children": [
        "IPY_MODEL_b8b8f5ed832841c9b7a73a487fc6fa63",
        "IPY_MODEL_f59d616feae4471a859c33da1e4e0857",
        "IPY_MODEL_ea6a8931c5e24fdabe1f587b02c3f723",
        "IPY_MODEL_f80f1c9114d549eaa4f15c5014824afc"
       ],
       "layout": "IPY_MODEL_db1821ad854c42be9f3baecffd5a8035"
      }
     },
     "daab942e5ded4785a450efc2930a21a7": {
      "model_module": "@jupyter-widgets/controls",
      "model_module_version": "1.5.0",
      "model_name": "FloatSliderModel",
      "state": {
       "description": "Compression Threshold",
       "layout": "IPY_MODEL_79e443d05d864941aa4d718c9b0c2029",
       "max": 1,
       "step": 0.01,
       "style": "IPY_MODEL_f8ca462af54f401a8ac523d0f2162340",
       "value": 0.8
      }
     },
     "dad86ffb218b4bf593747c018c34753d": {
      "model_module": "@jupyter-widgets/base",
      "model_module_version": "1.2.0",
      "model_name": "LayoutModel",
      "state": {}
     },
     "db0b8cde1bf44a34a16122c163b5fd17": {
      "model_module": "@jupyter-widgets/controls",
      "model_module_version": "1.5.0",
      "model_name": "VBoxModel",
      "state": {
       "children": [
        "IPY_MODEL_4a5228c419604c839e868fd8cfa4a292",
        "IPY_MODEL_c19ab351ba9545868c000d5abfcd00b8",
        "IPY_MODEL_f228ef6c7ca045218d7540c9f41e104b"
       ],
       "layout": "IPY_MODEL_1e3f2f25869c49399c9b118f6f05273e"
      }
     },
     "db0f0711b9ad4ee498cc3e609e8c7e3a": {
      "model_module": "@jupyter-widgets/controls",
      "model_module_version": "1.5.0",
      "model_name": "ButtonModel",
      "state": {
       "description": "Reset Protected Area",
       "layout": "IPY_MODEL_95dfa0a7a9ba483fb9917903a23b7474",
       "style": "IPY_MODEL_6d399b6a93324c28b22109059b6701f9"
      }
     },
     "db1821ad854c42be9f3baecffd5a8035": {
      "model_module": "@jupyter-widgets/base",
      "model_module_version": "1.2.0",
      "model_name": "LayoutModel",
      "state": {}
     },
     "db31d6a33b7f4752b826e8ba5c9acd27": {
      "model_module": "@jupyter-widgets/base",
      "model_module_version": "1.2.0",
      "model_name": "LayoutModel",
      "state": {}
     },
     "db481828effe4e9b87438d9ee9f2d745": {
      "model_module": "@jupyter-widgets/controls",
      "model_module_version": "1.5.0",
      "model_name": "ButtonModel",
      "state": {
       "description": "Save Figure",
       "layout": "IPY_MODEL_babfcf6f4de8430d83fb76fb61beb16a",
       "style": "IPY_MODEL_e8d5584ec4d044fba7c10ebea7e37352"
      }
     },
     "db7ddd45083f45d6965bce8e7a1e0735": {
      "model_module": "@jupyter-widgets/controls",
      "model_module_version": "1.5.0",
      "model_name": "SliderStyleModel",
      "state": {
       "description_width": ""
      }
     },
     "db88b02fd0974e58a0d34e2991335108": {
      "model_module": "@jupyter-widgets/controls",
      "model_module_version": "1.5.0",
      "model_name": "ButtonStyleModel",
      "state": {}
     },
     "dbcabc032016486fbb0be10556ade621": {
      "model_module": "@jupyter-widgets/controls",
      "model_module_version": "1.5.0",
      "model_name": "ButtonModel",
      "state": {
       "description": "Reset Exposure",
       "layout": "IPY_MODEL_54a3f32e71f541d1b5a65badc16afe01",
       "style": "IPY_MODEL_68797a90f7774678ada23a835c3e9268"
      }
     },
     "dbcf29339470488099d81f302eb6f874": {
      "model_module": "@jupyter-widgets/controls",
      "model_module_version": "1.5.0",
      "model_name": "TabModel",
      "state": {
       "_titles": {
        "0": "Global Controls",
        "1": "Viewer Controls",
        "2": "Protected Area Controls",
        "3": "Saturation Controls",
        "4": "Hue Controls"
       },
       "children": [
        "IPY_MODEL_06dc5610568a44b2a4316f9869066208",
        "IPY_MODEL_ca9dc8f9ee6f4e6094b6a83dd8a503c1",
        "IPY_MODEL_9ff23a6f51d8422caf4bf50904ef9426",
        "IPY_MODEL_3794b85f123b41a18881025bf7d4a6f3",
        "IPY_MODEL_6e949d63092b4518a13f6d020c419415"
       ],
       "layout": "IPY_MODEL_1b1cd923a5284f4697c0fe1162efa312"
      }
     },
     "dbdb85f8faa54619979c6d7c4ae76b68": {
      "model_module": "@jupyter-widgets/base",
      "model_module_version": "1.2.0",
      "model_name": "LayoutModel",
      "state": {}
     },
     "dbe919ce99af450fa54a96b600f2e96a": {
      "model_module": "@jupyter-widgets/base",
      "model_module_version": "1.2.0",
      "model_name": "LayoutModel",
      "state": {}
     },
     "dbe9f5fc9b9d4c2888fdd3945c337a63": {
      "model_module": "@jupyter-widgets/controls",
      "model_module_version": "1.5.0",
      "model_name": "HBoxModel",
      "state": {
       "children": [
        "IPY_MODEL_17b5fb06a5c947a0873d2ab48b13b0f4",
        "IPY_MODEL_760e2ad006fa4b329184a7540586c37c",
        "IPY_MODEL_2545556d4a954944bb1928db36bec423",
        "IPY_MODEL_8cde6e8f287e4037bf08c028147475af"
       ],
       "layout": "IPY_MODEL_a4c84f51810f4bc7868b8b3e0b83a23a"
      }
     },
     "dc020f36a6764bf0aa6bd6b23c8ec941": {
      "model_module": "@jupyter-widgets/controls",
      "model_module_version": "1.5.0",
      "model_name": "FloatSliderModel",
      "state": {
       "description": "270°",
       "layout": "IPY_MODEL_d060f8486a4247aa8b62083cfd751042",
       "max": 1,
       "min": -1,
       "step": 0.01,
       "style": "IPY_MODEL_b5c2561925684919b1b941bc46af7e01"
      }
     },
     "dc3f4225d0c7455c9b4e1036513c838f": {
      "model_module": "@jupyter-widgets/base",
      "model_module_version": "1.2.0",
      "model_name": "LayoutModel",
      "state": {
       "border": "solid 4px #222",
       "margin": "4px",
       "padding": "0"
      }
     },
     "dc79725741b84bad8e33fa25c3b47fa8": {
      "model_module": "@jupyter-widgets/controls",
      "model_module_version": "1.5.0",
      "model_name": "TabModel",
      "state": {
       "_titles": {
        "0": "Global Controls",
        "1": "Viewer Controls",
        "2": "Compression Controls"
       },
       "children": [
        "IPY_MODEL_212baefbac1c4749a069a27162c3ad38",
        "IPY_MODEL_a6e19b75a15544d9905d6d11bb8e3cc3",
        "IPY_MODEL_55faf37923e64d91a1a68f27ad8cfa56"
       ],
       "layout": "IPY_MODEL_6fc81252709045e0bee752cd23b99594"
      }
     },
     "dc88148cb0bd4dd29a15e56ce669d8d1": {
      "model_module": "@jupyter-widgets/base",
      "model_module_version": "1.2.0",
      "model_name": "LayoutModel",
      "state": {}
     },
     "dc8b6ae12e6549fe95f96e3aa2147be1": {
      "model_module": "@jupyter-widgets/controls",
      "model_module_version": "1.5.0",
      "model_name": "ButtonModel",
      "state": {
       "description": "Export Image",
       "layout": "IPY_MODEL_fc14c029ad5544479112e5d86e00192f",
       "style": "IPY_MODEL_856b67b894404c819c55b1c6c6e3f461"
      }
     },
     "dcb58de6557b42639a2c7407d28eb640": {
      "model_module": "@jupyter-widgets/controls",
      "model_module_version": "1.5.0",
      "model_name": "SliderStyleModel",
      "state": {
       "description_width": ""
      }
     },
     "dcbf2fb30a03451ea8e0ccd4c0b9d124": {
      "model_module": "@jupyter-widgets/controls",
      "model_module_version": "1.5.0",
      "model_name": "DescriptionStyleModel",
      "state": {
       "description_width": ""
      }
     },
     "dcc4e05383fe4956a82d7a62b57ccf41": {
      "model_module": "@jupyter-widgets/base",
      "model_module_version": "1.2.0",
      "model_name": "LayoutModel",
      "state": {}
     },
     "dcc65496fb214a93b019bc15c455f28f": {
      "model_module": "@jupyter-widgets/controls",
      "model_module_version": "1.5.0",
      "model_name": "BoxModel",
      "state": {
       "children": [
        "IPY_MODEL_ff47a5b3720d4cdf9d71e5171451138f",
        "IPY_MODEL_54b7af18867e4a9286228d6774e167da"
       ],
       "layout": "IPY_MODEL_c376af86df144688aa506948aa44ad4d"
      }
     },
     "dce776b04a164a2d924031117d3bcc9b": {
      "model_module": "@jupyter-widgets/base",
      "model_module_version": "1.2.0",
      "model_name": "LayoutModel",
      "state": {}
     },
     "dcef434b8fad4d559d69c6db56345124": {
      "model_module": "@jupyter-widgets/controls",
      "model_module_version": "1.5.0",
      "model_name": "DescriptionStyleModel",
      "state": {
       "description_width": ""
      }
     },
     "dcf10f81ce354e1e9e7930010167a2af": {
      "model_module": "@jupyter-widgets/base",
      "model_module_version": "1.2.0",
      "model_name": "LayoutModel",
      "state": {}
     },
     "dd00cacad54d40398c52ab43c863f8c8": {
      "model_module": "@jupyter-widgets/controls",
      "model_module_version": "1.5.0",
      "model_name": "FloatSliderModel",
      "state": {
       "description": "90°",
       "layout": "IPY_MODEL_92b7dab7205e4499aa2235691959468c",
       "max": 1,
       "min": -1,
       "step": 0.01,
       "style": "IPY_MODEL_431f3fa261984524930323d2d493c61c"
      }
     },
     "dd0611ca87ff4548af3d47bcd1f8e69b": {
      "model_module": "@jupyter-widgets/controls",
      "model_module_version": "1.5.0",
      "model_name": "FloatSliderModel",
      "state": {
       "description": "315°",
       "layout": "IPY_MODEL_1598a7e7be774b529ed7077cf0444c7a",
       "max": 1,
       "min": -1,
       "step": 0.01,
       "style": "IPY_MODEL_fa3e6c0f07074b50a7960d55d4e12a4d"
      }
     },
     "dd5f327443714f78a1d2b49300f13246": {
      "model_module": "@jupyter-widgets/base",
      "model_module_version": "1.2.0",
      "model_name": "LayoutModel",
      "state": {}
     },
     "dd9a88a523134da2bdd414ac17ad3c3b": {
      "model_module": "@jupyter-widgets/controls",
      "model_module_version": "1.5.0",
      "model_name": "FloatSliderModel",
      "state": {
       "description": "315°",
       "layout": "IPY_MODEL_5332ff768b0b4e82b3172d7f1415f170",
       "max": 1,
       "min": -1,
       "step": 0.01,
       "style": "IPY_MODEL_00e09fe9ed844eabb8d43af62ae40219"
      }
     },
     "dda2f4c5b3154ef4837c9ca999e2472f": {
      "model_module": "@jupyter-widgets/controls",
      "model_module_version": "1.5.0",
      "model_name": "FloatSliderModel",
      "state": {
       "description": "225°",
       "layout": "IPY_MODEL_87a28b2b198e48c59811158ce38badaa",
       "max": 1,
       "min": -1,
       "step": 0.01,
       "style": "IPY_MODEL_63c05557f8864de4b4a36a233e3b1248"
      }
     },
     "ddb031897e81461aa2cb894c6352ec6e": {
      "model_module": "@jupyter-widgets/controls",
      "model_module_version": "1.5.0",
      "model_name": "SliderStyleModel",
      "state": {
       "description_width": ""
      }
     },
     "ddbb963907cd49c8971dd564e1d26ae2": {
      "model_module": "@jupyter-widgets/controls",
      "model_module_version": "1.5.0",
      "model_name": "ButtonStyleModel",
      "state": {}
     },
     "ddc62796766e48deb504392502a3dac8": {
      "model_module": "@jupyter-widgets/controls",
      "model_module_version": "1.5.0",
      "model_name": "ButtonModel",
      "state": {
       "description": "Reset Saturation Controls",
       "layout": "IPY_MODEL_47530f973815402b91195ae631e6df15",
       "style": "IPY_MODEL_c406906f3d474370b7421de8e55daf82"
      }
     },
     "ddc9907ab8614e5fa3793c261d5ac159": {
      "model_module": "@jupyter-widgets/base",
      "model_module_version": "1.2.0",
      "model_name": "LayoutModel",
      "state": {}
     },
     "ddde9b22ac924ea5938365242ff9acae": {
      "model_module": "@jupyter-widgets/controls",
      "model_module_version": "1.5.0",
      "model_name": "HBoxModel",
      "state": {
       "children": [
        "IPY_MODEL_cefcdaa2b8434652ba2ddc09a3a913e2",
        "IPY_MODEL_3fd14bab4bbc442bb4f522317b8917ce",
        "IPY_MODEL_96a53596e12746a3997eb306be4d7032",
        "IPY_MODEL_62eb5ff9d54e4ab88c25bc0f00bbea11"
       ],
       "layout": "IPY_MODEL_4727d493411d4a62a61ae2fc963d6296"
      }
     },
     "ddedc9e8f8c340358515e7ac15099b2e": {
      "model_module": "@jupyter-widgets/controls",
      "model_module_version": "1.5.0",
      "model_name": "SliderStyleModel",
      "state": {
       "description_width": ""
      }
     },
     "ddede828fce04a23acdbb8ea7eaeb7ca": {
      "model_module": "@jupyter-widgets/controls",
      "model_module_version": "1.5.0",
      "model_name": "HBoxModel",
      "state": {
       "children": [
        "IPY_MODEL_6485d7c1789e4ccda3e7d3c164fbc0dc",
        "IPY_MODEL_5b20d21dea8141989c20705daabb0e5f",
        "IPY_MODEL_fed207dfecf34dd9aef50cb540e80347"
       ],
       "layout": "IPY_MODEL_cb3e1585226542d0a38d780b819b449b"
      }
     },
     "de1f178543df4a6eb661bac442113ce3": {
      "model_module": "@jupyter-widgets/controls",
      "model_module_version": "1.5.0",
      "model_name": "SliderStyleModel",
      "state": {
       "description_width": ""
      }
     },
     "de339fbe31a34f38b12446cdd329c929": {
      "model_module": "@jupyter-widgets/controls",
      "model_module_version": "1.5.0",
      "model_name": "SliderStyleModel",
      "state": {
       "description_width": ""
      }
     },
     "de3d6236865445faa49460b25a4f6168": {
      "model_module": "@jupyter-widgets/controls",
      "model_module_version": "1.5.0",
      "model_name": "ButtonModel",
      "state": {
       "description": "Export Image",
       "layout": "IPY_MODEL_c487bb9c75734523ba5b71399dcfea74",
       "style": "IPY_MODEL_34420df35f504336a6ff6663802d2a61"
      }
     },
     "de512f3245e04b409373ffc4f34ab2dc": {
      "model_module": "@jupyter-widgets/controls",
      "model_module_version": "1.5.0",
      "model_name": "ButtonModel",
      "state": {
       "description": "Export Image",
       "layout": "IPY_MODEL_4aeb4a190a704aa4bed55269eea0efe3",
       "style": "IPY_MODEL_1d4debd2ca3741d7a0efec589a4dfd8f"
      }
     },
     "de57e23b5e5441c899a81472b8a667bb": {
      "model_module": "@jupyter-widgets/controls",
      "model_module_version": "1.5.0",
      "model_name": "DescriptionStyleModel",
      "state": {
       "description_width": ""
      }
     },
     "de99d3ec405e4f5f823b733bec81bfcc": {
      "model_module": "@jupyter-widgets/controls",
      "model_module_version": "1.5.0",
      "model_name": "HBoxModel",
      "state": {
       "children": [
        "IPY_MODEL_50806e4ce2c544a6878582e00f28c06f",
        "IPY_MODEL_b21b9c8263354baa9f99c8aa136db6ab",
        "IPY_MODEL_f7ad84ef16894f3da4446dfefdcbee11",
        "IPY_MODEL_e8049cbdcfe3424fbc6e059c49d0badc"
       ],
       "layout": "IPY_MODEL_bae0d5377faf4c8cb468b457d5cd8759"
      }
     },
     "de9a8299180d4fb19761024aac3f99e2": {
      "model_module": "@jupyter-widgets/controls",
      "model_module_version": "1.5.0",
      "model_name": "ButtonStyleModel",
      "state": {}
     },
     "debd3e853ce54e309896fb4f47292862": {
      "model_module": "@jupyter-widgets/controls",
      "model_module_version": "1.5.0",
      "model_name": "DropdownModel",
      "state": {
       "_options_labels": [
        "tanh",
        "atan",
        "simple"
       ],
       "description": "Compression Function:",
       "index": 0,
       "layout": "IPY_MODEL_d9598c445da14307aa01965b0cac836b",
       "style": "IPY_MODEL_a8b80d3ddf704adc81f4cef05676bcec"
      }
     },
     "debf1ba6a12f4558bc1c272c7593f301": {
      "model_module": "@jupyter-widgets/base",
      "model_module_version": "1.2.0",
      "model_name": "LayoutModel",
      "state": {}
     },
     "dec31a3773e945828d6bc2cfd7b9967c": {
      "model_module": "@jupyter-widgets/controls",
      "model_module_version": "1.5.0",
      "model_name": "ButtonStyleModel",
      "state": {}
     },
     "ded394ffd38b4d24b83af2fbc1df2369": {
      "model_module": "@jupyter-widgets/base",
      "model_module_version": "1.2.0",
      "model_name": "LayoutModel",
      "state": {}
     },
     "df077c0e2ca34bfd9bc0c63b9dbfc7e3": {
      "model_module": "@jupyter-widgets/controls",
      "model_module_version": "1.5.0",
      "model_name": "DropdownModel",
      "state": {
       "_options_labels": [
        "tanh",
        "atan",
        "simple"
       ],
       "description": "Compression Function:",
       "index": 0,
       "layout": "IPY_MODEL_995b01addc3c4a5095898bef72ec3a8c",
       "style": "IPY_MODEL_84f651ceb09540449ef877d99a815dc6"
      }
     },
     "df31a5b14739415c9273a7a2226e782b": {
      "model_module": "@jupyter-widgets/controls",
      "model_module_version": "1.5.0",
      "model_name": "CheckboxModel",
      "state": {
       "description": "Show Out-of-Gamut",
       "disabled": false,
       "layout": "IPY_MODEL_8dd54af98844469883e789024c786a3e",
       "style": "IPY_MODEL_fd37690cc3234f988fa54663addbcf0b",
       "value": false
      }
     },
     "df3cd6fd3cf94bd3a034455ae2909da4": {
      "model_module": "@jupyter-widgets/base",
      "model_module_version": "1.2.0",
      "model_name": "LayoutModel",
      "state": {}
     },
     "df433bbac3474b6dad24d184f22f0c20": {
      "model_module": "@jupyter-widgets/output",
      "model_module_version": "1.0.0",
      "model_name": "OutputModel",
      "state": {
       "layout": "IPY_MODEL_371833fd0a9d4d749e099966a77bb8bd",
       "outputs": [
        {
         "data": {
          "application/vnd.jupyter.widget-view+json": {
           "model_id": "d0b9663c71524a35bc57ea85963a40be",
           "version_major": 2,
           "version_minor": 0
          },
          "text/plain": "Canvas(toolbar=Toolbar(toolitems=[('Home', 'Reset original view', 'home', 'home'), ('Back', 'Back to previous …"
         },
         "metadata": {},
         "output_type": "display_data"
        }
       ]
      }
     },
     "df949bda7a674409bc477369c0c2121d": {
      "model_module": "@jupyter-widgets/base",
      "model_module_version": "1.2.0",
      "model_name": "LayoutModel",
      "state": {}
     },
     "dfeec2740c4a4ae79f2acfb8b575b0d3": {
      "model_module": "@jupyter-widgets/base",
      "model_module_version": "1.2.0",
      "model_name": "LayoutModel",
      "state": {}
     },
     "dfeff835365e4cc49dbbdf26d10bc9c6": {
      "model_module": "@jupyter-widgets/controls",
      "model_module_version": "1.5.0",
      "model_name": "ButtonStyleModel",
      "state": {}
     },
     "dff81c70e9904e35bd5f7f6f83e02533": {
      "model_module": "@jupyter-widgets/controls",
      "model_module_version": "1.5.0",
      "model_name": "VBoxModel",
      "state": {
       "children": [
        "IPY_MODEL_4384a9ffa6af4ab5816723251c8c169a"
       ],
       "layout": "IPY_MODEL_d9bd0d4500774d589f0b4bd4bdb4fd9c"
      }
     },
     "e0065b8e91ad45d8b58dbcf17b0f28d7": {
      "model_module": "@jupyter-widgets/base",
      "model_module_version": "1.2.0",
      "model_name": "LayoutModel",
      "state": {}
     },
     "e00a172ac27944a8978f456bf4f15013": {
      "model_module": "@jupyter-widgets/base",
      "model_module_version": "1.2.0",
      "model_name": "LayoutModel",
      "state": {}
     },
     "e016f0b246454b2f8194c578422064bf": {
      "model_module": "@jupyter-widgets/base",
      "model_module_version": "1.2.0",
      "model_name": "LayoutModel",
      "state": {
       "border": "solid 4px #222",
       "margin": "4px",
       "padding": "0"
      }
     },
     "e02fea90e71a4d0781e27c7a1223689e": {
      "model_module": "@jupyter-widgets/controls",
      "model_module_version": "1.5.0",
      "model_name": "SliderStyleModel",
      "state": {
       "description_width": ""
      }
     },
     "e0387c67d8e744489bbeebabb133a16c": {
      "model_module": "@jupyter-widgets/controls",
      "model_module_version": "1.5.0",
      "model_name": "SliderStyleModel",
      "state": {
       "description_width": ""
      }
     },
     "e04ce87b1afc48369c2661be7024e7e0": {
      "model_module": "@jupyter-widgets/base",
      "model_module_version": "1.2.0",
      "model_name": "LayoutModel",
      "state": {}
     },
     "e051c74381a543c28af303e190f45795": {
      "model_module": "@jupyter-widgets/base",
      "model_module_version": "1.2.0",
      "model_name": "LayoutModel",
      "state": {}
     },
     "e067eda40b1d4792b3d68c370bcb6b66": {
      "model_module": "@jupyter-widgets/controls",
      "model_module_version": "1.5.0",
      "model_name": "VBoxModel",
      "state": {
       "children": [
        "IPY_MODEL_c159b41200d449fc96cddc79fc46cb52"
       ],
       "layout": "IPY_MODEL_862a52a9777f4fec9b638d0e89160d12"
      }
     },
     "e06f284659b0430991c34e2d106d2282": {
      "model_module": "@jupyter-widgets/controls",
      "model_module_version": "1.5.0",
      "model_name": "HBoxModel",
      "state": {
       "children": [
        "IPY_MODEL_37eeb52743764f2ba0354cc2b8e0f343",
        "IPY_MODEL_2534df3f8dd047809897899221dfffdc",
        "IPY_MODEL_891ce072a8514b0fa3db9b6e269b7f51"
       ],
       "layout": "IPY_MODEL_b72fc78adf374af9a20de18c4186f08b"
      }
     },
     "e080c01b653e46598e07051f2af6d1a7": {
      "model_module": "@jupyter-widgets/base",
      "model_module_version": "1.2.0",
      "model_name": "LayoutModel",
      "state": {}
     },
     "e092b5a3922c41d7b21b56b93d78aa54": {
      "model_module": "@jupyter-widgets/controls",
      "model_module_version": "1.5.0",
      "model_name": "ButtonStyleModel",
      "state": {}
     },
     "e0992b06dcf64882834cce84b8511f96": {
      "model_module": "@jupyter-widgets/controls",
      "model_module_version": "1.5.0",
      "model_name": "SliderStyleModel",
      "state": {
       "description_width": ""
      }
     },
     "e0abeca693964488b03e423cc7b217bb": {
      "model_module": "@jupyter-widgets/controls",
      "model_module_version": "1.5.0",
      "model_name": "DescriptionStyleModel",
      "state": {
       "description_width": ""
      }
     },
     "e0b25d62a28c431a9cf8c3f369e3c209": {
      "model_module": "@jupyter-widgets/base",
      "model_module_version": "1.2.0",
      "model_name": "LayoutModel",
      "state": {
       "border": "solid 4px #222",
       "margin": "4px",
       "padding": "0"
      }
     },
     "e0b5ac23eb3c4940b90a53f2a2ede87c": {
      "model_module": "@jupyter-widgets/base",
      "model_module_version": "1.2.0",
      "model_name": "LayoutModel",
      "state": {}
     },
     "e0e3d8c9e11d4e5a85d5dd9bb041899e": {
      "model_module": "jupyter-matplotlib",
      "model_module_version": "^0.7.2",
      "model_name": "MPLCanvasModel",
      "state": {
       "_figure_label": "Figure 21",
       "_height": 550,
       "_width": 1100,
       "header_visible": false,
       "layout": "IPY_MODEL_b758754ba4594f3188af64e93047609b",
       "resizable": false,
       "toolbar": "IPY_MODEL_7a5d2400a4e34e7b9dc5cc14cf3d3cea",
       "toolbar_position": "left",
       "toolbar_visible": false
      }
     },
     "e0ec7348eed046819c71e4769e3a56be": {
      "model_module": "@jupyter-widgets/controls",
      "model_module_version": "1.5.0",
      "model_name": "DescriptionStyleModel",
      "state": {
       "description_width": ""
      }
     },
     "e12d1bc3cd70482c8ec658ecbb9be49a": {
      "model_module": "@jupyter-widgets/controls",
      "model_module_version": "1.5.0",
      "model_name": "ButtonStyleModel",
      "state": {}
     },
     "e17e636c59844389b0b2549f09e24923": {
      "model_module": "@jupyter-widgets/base",
      "model_module_version": "1.2.0",
      "model_name": "LayoutModel",
      "state": {}
     },
     "e187921d40634d2082de3aa15f0d4798": {
      "model_module": "@jupyter-widgets/controls",
      "model_module_version": "1.5.0",
      "model_name": "FloatSliderModel",
      "state": {
       "description": "225°",
       "layout": "IPY_MODEL_5f4c242914e340ad93a597ceae9916ec",
       "max": 1,
       "min": -1,
       "step": 0.01,
       "style": "IPY_MODEL_17e6cf65c15a43fd9bd6bdc103231036"
      }
     },
     "e19fff2a40ea4a918ebf51eaafc94112": {
      "model_module": "@jupyter-widgets/controls",
      "model_module_version": "1.5.0",
      "model_name": "CheckboxModel",
      "state": {
       "description": "Disable Medicina",
       "disabled": false,
       "layout": "IPY_MODEL_11c681b4ba8544ffab57cd28edce0f16",
       "style": "IPY_MODEL_e3c20f2edace46d9aa726bd2f7f985c6",
       "value": false
      }
     },
     "e1af114f36cd4f73b102680428d49861": {
      "model_module": "@jupyter-widgets/base",
      "model_module_version": "1.2.0",
      "model_name": "LayoutModel",
      "state": {}
     },
     "e1e6ad93515a4e7b8497f125337fc1c1": {
      "model_module": "@jupyter-widgets/base",
      "model_module_version": "1.2.0",
      "model_name": "LayoutModel",
      "state": {}
     },
     "e1fa8e6874a6434f85ba71348274a8d8": {
      "model_module": "@jupyter-widgets/base",
      "model_module_version": "1.2.0",
      "model_name": "LayoutModel",
      "state": {}
     },
     "e20edced8fbd4ad6a00315977f58df74": {
      "model_module": "@jupyter-widgets/controls",
      "model_module_version": "1.5.0",
      "model_name": "ButtonModel",
      "state": {
       "description": "Reset Exposure",
       "layout": "IPY_MODEL_5d46296e4d1545768b55bc3f34ffa383",
       "style": "IPY_MODEL_32948101139a4510b9f37ab30384537b"
      }
     },
     "e247baaf2e094dd7b41d81dc81e67a5e": {
      "model_module": "@jupyter-widgets/base",
      "model_module_version": "1.2.0",
      "model_name": "LayoutModel",
      "state": {}
     },
     "e27b894a23c94f7989100a6c50aaf6b9": {
      "model_module": "@jupyter-widgets/controls",
      "model_module_version": "1.5.0",
      "model_name": "SliderStyleModel",
      "state": {
       "description_width": ""
      }
     },
     "e292c620d33a4986aeaf6a0df3813a9f": {
      "model_module": "@jupyter-widgets/controls",
      "model_module_version": "1.5.0",
      "model_name": "HBoxModel",
      "state": {
       "children": [
        "IPY_MODEL_b0b292f2f6884129b659fdb2a949dae9",
        "IPY_MODEL_60e9efd1daa44a46997bea61de1ae371",
        "IPY_MODEL_6cef56f2ee62405eaeca95382aa222bb"
       ],
       "layout": "IPY_MODEL_b7a1a94cfc364729ba933ed2e8e117ca"
      }
     },
     "e29f1a9c7a624310ad4ad5e27202d263": {
      "model_module": "@jupyter-widgets/base",
      "model_module_version": "1.2.0",
      "model_name": "LayoutModel",
      "state": {}
     },
     "e2a2034d8dfa467d942718b525c356f0": {
      "model_module": "@jupyter-widgets/controls",
      "model_module_version": "1.5.0",
      "model_name": "ButtonStyleModel",
      "state": {}
     },
     "e2a4248929784f558c74536c073e1cbb": {
      "model_module": "@jupyter-widgets/controls",
      "model_module_version": "1.5.0",
      "model_name": "DescriptionStyleModel",
      "state": {
       "description_width": ""
      }
     },
     "e2b834b024944b5f87fc292fd1f3dcdf": {
      "model_module": "@jupyter-widgets/base",
      "model_module_version": "1.2.0",
      "model_name": "LayoutModel",
      "state": {
       "border": "solid 4px #222",
       "margin": "4px",
       "padding": "0"
      }
     },
     "e2ba6d29db024312a0d51bef16811865": {
      "model_module": "jupyter-matplotlib",
      "model_module_version": "^0.7.2",
      "model_name": "MPLCanvasModel",
      "state": {
       "_figure_label": "Figure 16",
       "_height": 430,
       "_width": 1099,
       "header_visible": false,
       "layout": "IPY_MODEL_41202282ace94c068bf3804299add18b",
       "resizable": false,
       "toolbar": "IPY_MODEL_2d2d6dd33f234d059555fbe19906cf88",
       "toolbar_position": "left",
       "toolbar_visible": false
      }
     },
     "e2bb00f94d1a4fd3a8d4ca7ac6df3e2e": {
      "model_module": "@jupyter-widgets/base",
      "model_module_version": "1.2.0",
      "model_name": "LayoutModel",
      "state": {}
     },
     "e2c3eca628b84ce7b15eb8d7a81a8b99": {
      "model_module": "jupyter-matplotlib",
      "model_module_version": "^0.7.2",
      "model_name": "MPLCanvasModel",
      "state": {
       "_figure_label": "Figure 31",
       "_height": 396,
       "_width": 1100,
       "header_visible": false,
       "layout": "IPY_MODEL_025f1e8612324b9484b4ed30007c21ba",
       "resizable": false,
       "toolbar": "IPY_MODEL_251391a3f33f44a0b33e02a3a5a5d74c",
       "toolbar_position": "left",
       "toolbar_visible": false
      }
     },
     "e30845292dee4af8bb4bcd14c95636f1": {
      "model_module": "@jupyter-widgets/controls",
      "model_module_version": "1.5.0",
      "model_name": "ButtonModel",
      "state": {
       "description": "Reset Protected Area",
       "layout": "IPY_MODEL_3096356990fc42ccbdfdde844dda85cb",
       "style": "IPY_MODEL_b6cb72d54c944bdab009df188aa0660d"
      }
     },
     "e33407efdfca42e88c4685043e865b8c": {
      "model_module": "@jupyter-widgets/base",
      "model_module_version": "1.2.0",
      "model_name": "LayoutModel",
      "state": {}
     },
     "e36a1b3a054247f191b7e4ae98acb80b": {
      "model_module": "@jupyter-widgets/controls",
      "model_module_version": "1.5.0",
      "model_name": "SliderStyleModel",
      "state": {
       "description_width": ""
      }
     },
     "e38dcacf6147485ba6d25fc589317093": {
      "model_module": "@jupyter-widgets/base",
      "model_module_version": "1.2.0",
      "model_name": "LayoutModel",
      "state": {}
     },
     "e3b87aa8a41e433f921f9142b8e50789": {
      "model_module": "@jupyter-widgets/base",
      "model_module_version": "1.2.0",
      "model_name": "LayoutModel",
      "state": {}
     },
     "e3c20f2edace46d9aa726bd2f7f985c6": {
      "model_module": "@jupyter-widgets/controls",
      "model_module_version": "1.5.0",
      "model_name": "DescriptionStyleModel",
      "state": {
       "description_width": ""
      }
     },
     "e406c980ece740c08b50fb97ac6f2562": {
      "model_module": "@jupyter-widgets/controls",
      "model_module_version": "1.5.0",
      "model_name": "SliderStyleModel",
      "state": {
       "description_width": ""
      }
     },
     "e40fcc28669d46cf99adf15fb7c28742": {
      "model_module": "@jupyter-widgets/base",
      "model_module_version": "1.2.0",
      "model_name": "LayoutModel",
      "state": {}
     },
     "e4167f4500cc46718d5f85e4a85ec961": {
      "model_module": "@jupyter-widgets/controls",
      "model_module_version": "1.5.0",
      "model_name": "FloatSliderModel",
      "state": {
       "description": "270°",
       "layout": "IPY_MODEL_7332f9a889af4f21a88c6bd1cda2f140",
       "max": 1,
       "min": -1,
       "step": 0.01,
       "style": "IPY_MODEL_1e3e66f30102409b981637639622d379"
      }
     },
     "e436b394f04647c2b6288097d5c1d951": {
      "model_module": "@jupyter-widgets/controls",
      "model_module_version": "1.5.0",
      "model_name": "ButtonStyleModel",
      "state": {}
     },
     "e45de4a117f64ea4b5127941506b8b1a": {
      "model_module": "@jupyter-widgets/controls",
      "model_module_version": "1.5.0",
      "model_name": "FloatSliderModel",
      "state": {
       "description": "Compression Threshold",
       "layout": "IPY_MODEL_b9e224ce6fa04c3b89b35b05d80da5cb",
       "max": 1,
       "step": 0.01,
       "style": "IPY_MODEL_7e2cc8ee70f54c439da9399d69bff6b8",
       "value": 0.8
      }
     },
     "e49c2e56891444ef8d00d038afd5f620": {
      "model_module": "@jupyter-widgets/controls",
      "model_module_version": "1.5.0",
      "model_name": "FloatSliderModel",
      "state": {
       "description": "Protected Area Threshold",
       "layout": "IPY_MODEL_a45806fe7a354d6081dc2574a750728f",
       "max": 1,
       "step": 0.01,
       "style": "IPY_MODEL_fdc8d0414f974c3d93679cc9062eed29",
       "value": 0.7
      }
     },
     "e49d6f0157824435b4c32f2307aa673f": {
      "model_module": "@jupyter-widgets/controls",
      "model_module_version": "1.5.0",
      "model_name": "SliderStyleModel",
      "state": {
       "description_width": ""
      }
     },
     "e4a464093dd640f1a201950e13abaedb": {
      "model_module": "@jupyter-widgets/controls",
      "model_module_version": "1.5.0",
      "model_name": "HBoxModel",
      "state": {
       "children": [
        "IPY_MODEL_496b809971b740548af187dcebe2b7da",
        "IPY_MODEL_7b018343fe894e59828dbbdc2981cf7d",
        "IPY_MODEL_ab06c857cc674571b8277c460553b08c",
        "IPY_MODEL_05329cbec4924e06a35de2b467bb5b0f"
       ],
       "layout": "IPY_MODEL_640a7e242c21459a992d8ad5a8e29147"
      }
     },
     "e4b2ba0d73f9431bbc6c583f01b06add": {
      "model_module": "@jupyter-widgets/output",
      "model_module_version": "1.0.0",
      "model_name": "OutputModel",
      "state": {
       "layout": "IPY_MODEL_3cb9f6c8385b49209a6a41c7d47184ff",
       "outputs": [
        {
         "data": {
          "application/vnd.jupyter.widget-view+json": {
           "model_id": "909cf75a51924700865134f6568cd6c8",
           "version_major": 2,
           "version_minor": 0
          },
          "text/plain": "Canvas(toolbar=Toolbar(toolitems=[('Home', 'Reset original view', 'home', 'home'), ('Back', 'Back to previous …"
         },
         "metadata": {},
         "output_type": "display_data"
        }
       ]
      }
     },
     "e4c68c025c794cbbb07878f162794e1d": {
      "model_module": "@jupyter-widgets/controls",
      "model_module_version": "1.5.0",
      "model_name": "HBoxModel",
      "state": {
       "children": [
        "IPY_MODEL_151845a17cff4b4c8c9e4ac40b15963b",
        "IPY_MODEL_75637bd22f77423296dea48815f15d43",
        "IPY_MODEL_819f3ccb90194c29b8c408661191f9c9"
       ],
       "layout": "IPY_MODEL_bf9a70156f6640b290efbe7bddc17740"
      }
     },
     "e4e532346ab74a8bbda2e93136bf6fec": {
      "model_module": "@jupyter-widgets/controls",
      "model_module_version": "1.5.0",
      "model_name": "SliderStyleModel",
      "state": {
       "description_width": ""
      }
     },
     "e50b13e88ade45ac89fd5c4e0c498783": {
      "model_module": "@jupyter-widgets/base",
      "model_module_version": "1.2.0",
      "model_name": "LayoutModel",
      "state": {}
     },
     "e55f515467e64631a327e3de88e222ad": {
      "model_module": "@jupyter-widgets/base",
      "model_module_version": "1.2.0",
      "model_name": "LayoutModel",
      "state": {}
     },
     "e58402640d2b42da8bbe0fadf3486414": {
      "model_module": "@jupyter-widgets/controls",
      "model_module_version": "1.5.0",
      "model_name": "SliderStyleModel",
      "state": {
       "description_width": ""
      }
     },
     "e58f681dc7674e538cc4ec96d744881e": {
      "model_module": "@jupyter-widgets/controls",
      "model_module_version": "1.5.0",
      "model_name": "DropdownModel",
      "state": {
       "_options_labels": [
        "tanh",
        "atan",
        "simple"
       ],
       "description": "Compression Function:",
       "index": 0,
       "layout": "IPY_MODEL_b104ffb279754b649a82a6e3f6884f72",
       "style": "IPY_MODEL_86b556af76084dbb8f268567999eb4ff"
      }
     },
     "e5b900e8f9d1418c8a2af943c1268d19": {
      "model_module": "@jupyter-widgets/base",
      "model_module_version": "1.2.0",
      "model_name": "LayoutModel",
      "state": {}
     },
     "e624f3b9112b49aabf570fee98b01215": {
      "model_module": "@jupyter-widgets/base",
      "model_module_version": "1.2.0",
      "model_name": "LayoutModel",
      "state": {}
     },
     "e62e03b4a55e4bceb0c8ccd8b3c2eb71": {
      "model_module": "@jupyter-widgets/base",
      "model_module_version": "1.2.0",
      "model_name": "LayoutModel",
      "state": {}
     },
     "e64fb5bd0e414fea9189844df78ea054": {
      "model_module": "@jupyter-widgets/controls",
      "model_module_version": "1.5.0",
      "model_name": "FloatSliderModel",
      "state": {
       "description": "Compression Threshold",
       "layout": "IPY_MODEL_d0a62074922f4685a9d8a6ef45e538de",
       "max": 1,
       "step": 0.01,
       "style": "IPY_MODEL_5c730e6b6b2442a29f9d744c388aad3a",
       "value": 0.8
      }
     },
     "e65760cac9154a5abb3ff9b1bd134596": {
      "model_module": "@jupyter-widgets/controls",
      "model_module_version": "1.5.0",
      "model_name": "SliderStyleModel",
      "state": {
       "description_width": ""
      }
     },
     "e6adac02068b403b8ef144fb133e0ffa": {
      "model_module": "@jupyter-widgets/base",
      "model_module_version": "1.2.0",
      "model_name": "LayoutModel",
      "state": {}
     },
     "e6be73df944b423388aac96938bc429a": {
      "model_module": "@jupyter-widgets/base",
      "model_module_version": "1.2.0",
      "model_name": "LayoutModel",
      "state": {}
     },
     "e7470b3112eb400194072764789213d8": {
      "model_module": "@jupyter-widgets/controls",
      "model_module_version": "1.5.0",
      "model_name": "FloatSliderModel",
      "state": {
       "description": "225°",
       "layout": "IPY_MODEL_12eeccded8ad4415830d2349ecd6a815",
       "max": 1,
       "min": -1,
       "step": 0.01,
       "style": "IPY_MODEL_686b860b4b794303937937230020eb01"
      }
     },
     "e74c269d20834b899bd2946bac2dc9e4": {
      "model_module": "@jupyter-widgets/controls",
      "model_module_version": "1.5.0",
      "model_name": "ButtonModel",
      "state": {
       "description": "Reset Saturation Controls",
       "layout": "IPY_MODEL_fcef077a1e404dff97993f34b86409f6",
       "style": "IPY_MODEL_0dbd7a2af52a4669a7c8defeb6273904"
      }
     },
     "e7567b910d5744b79d629be457a9724d": {
      "model_module": "@jupyter-widgets/controls",
      "model_module_version": "1.5.0",
      "model_name": "ButtonStyleModel",
      "state": {}
     },
     "e790f061ac5247d09d1eafdd23e114b0": {
      "model_module": "@jupyter-widgets/base",
      "model_module_version": "1.2.0",
      "model_name": "LayoutModel",
      "state": {}
     },
     "e8049cbdcfe3424fbc6e059c49d0badc": {
      "model_module": "@jupyter-widgets/controls",
      "model_module_version": "1.5.0",
      "model_name": "CheckboxModel",
      "state": {
       "description": "Show Out-of-Gamut",
       "disabled": false,
       "layout": "IPY_MODEL_1c0bf549fab347b4ab19f4febf2778c3",
       "style": "IPY_MODEL_0d110d75ab47467ba58955c821dff802",
       "value": false
      }
     },
     "e809b1183f29487c82de1e0020a905c8": {
      "model_module": "@jupyter-widgets/base",
      "model_module_version": "1.2.0",
      "model_name": "LayoutModel",
      "state": {}
     },
     "e81b8fbf00ae4e13bbbe4f1978608e2c": {
      "model_module": "@jupyter-widgets/base",
      "model_module_version": "1.2.0",
      "model_name": "LayoutModel",
      "state": {
       "border": "solid 4px #222",
       "margin": "4px",
       "padding": "0"
      }
     },
     "e87230abfa1446cf909fca5ed1014a56": {
      "model_module": "@jupyter-widgets/controls",
      "model_module_version": "1.5.0",
      "model_name": "CheckboxModel",
      "state": {
       "description": "Disable Medicina",
       "disabled": false,
       "layout": "IPY_MODEL_5123b30c429844dbb274b577681321a2",
       "style": "IPY_MODEL_ba657ebcddfa4baa89d7131930fcefc6",
       "value": false
      }
     },
     "e87f26dfb2a14e7d959bf39829b7ed68": {
      "model_module": "@jupyter-widgets/controls",
      "model_module_version": "1.5.0",
      "model_name": "FloatSliderModel",
      "state": {
       "description": "135°",
       "layout": "IPY_MODEL_cc8bde45830146aeb910bf119f5d5ad2",
       "max": 1,
       "min": -1,
       "step": 0.01,
       "style": "IPY_MODEL_22cab39f90aa45cca7d9b8fd63bf2d2c"
      }
     },
     "e8933ccb9aa74bdeb716d51ef56e7028": {
      "model_module": "@jupyter-widgets/base",
      "model_module_version": "1.2.0",
      "model_name": "LayoutModel",
      "state": {}
     },
     "e89a9a9d48c644aaa5ecd244ac43a969": {
      "model_module": "@jupyter-widgets/base",
      "model_module_version": "1.2.0",
      "model_name": "LayoutModel",
      "state": {}
     },
     "e8a4f1b14ed14f7d8b8112f3f31b16fd": {
      "model_module": "@jupyter-widgets/controls",
      "model_module_version": "1.5.0",
      "model_name": "ButtonStyleModel",
      "state": {}
     },
     "e8d5584ec4d044fba7c10ebea7e37352": {
      "model_module": "@jupyter-widgets/controls",
      "model_module_version": "1.5.0",
      "model_name": "ButtonStyleModel",
      "state": {}
     },
     "e900eae9de7c4be7bcc053e3eb3248e3": {
      "model_module": "@jupyter-widgets/controls",
      "model_module_version": "1.5.0",
      "model_name": "VBoxModel",
      "state": {
       "children": [
        "IPY_MODEL_3bbb8b91ce6b4e648addcd125a18b48e",
        "IPY_MODEL_4f1eb1e4cca948d9aa03dbe3d06dc392",
        "IPY_MODEL_0ded4114df2847e19b852edf7f32bea6"
       ],
       "layout": "IPY_MODEL_d1c95ce9f9594fb780586dcf390aa047"
      }
     },
     "e939cffa5dc44712b71cd5a146001b1c": {
      "model_module": "@jupyter-widgets/controls",
      "model_module_version": "1.5.0",
      "model_name": "HBoxModel",
      "state": {
       "children": [
        "IPY_MODEL_61ed7e928b3d4a1e943766e9b920da32",
        "IPY_MODEL_188290e4baa74d5da79db4b97d908a3f",
        "IPY_MODEL_a6cd1ffbf7fa4fabbc13476694bc5197",
        "IPY_MODEL_9ce15f489edd4f37a9bc8a9f441ef49b"
       ],
       "layout": "IPY_MODEL_844dcba8c6614f4abe39854311d71d39"
      }
     },
     "e946e032601d4c43990d07537a8703a4": {
      "model_module": "@jupyter-widgets/controls",
      "model_module_version": "1.5.0",
      "model_name": "DescriptionStyleModel",
      "state": {
       "description_width": ""
      }
     },
     "e9472ce33e834d13a0796f860d1b69a7": {
      "model_module": "@jupyter-widgets/controls",
      "model_module_version": "1.5.0",
      "model_name": "SliderStyleModel",
      "state": {
       "description_width": ""
      }
     },
     "e975c511f5fd4610b15a46e44000f898": {
      "model_module": "@jupyter-widgets/base",
      "model_module_version": "1.2.0",
      "model_name": "LayoutModel",
      "state": {
       "align_items": "stretch",
       "display": "flex",
       "flex_flow": "column",
       "width": "1128px"
      }
     },
     "e97a848de4124decada2c34f53855469": {
      "model_module": "@jupyter-widgets/controls",
      "model_module_version": "1.5.0",
      "model_name": "ButtonStyleModel",
      "state": {}
     },
     "e9804caed6434244bdad49ed5a5fd3af": {
      "model_module": "@jupyter-widgets/output",
      "model_module_version": "1.0.0",
      "model_name": "OutputModel",
      "state": {
       "layout": "IPY_MODEL_514d6ebd2f134f9a9fce9d8f174abdd4",
       "outputs": [
        {
         "data": {
          "application/vnd.jupyter.widget-view+json": {
           "model_id": "a3717324e5294710823d5c95851020cf",
           "version_major": 2,
           "version_minor": 0
          },
          "text/plain": "Canvas(toolbar=Toolbar(toolitems=[('Home', 'Reset original view', 'home', 'home'), ('Back', 'Back to previous …"
         },
         "metadata": {},
         "output_type": "display_data"
        }
       ]
      }
     },
     "e981f033b2914f6ea1dc62fba89e7c29": {
      "model_module": "jupyter-matplotlib",
      "model_module_version": "^0.7.2",
      "model_name": "MPLCanvasModel",
      "state": {
       "_figure_label": "Figure 32",
       "_height": 396,
       "_width": 1100,
       "header_visible": false,
       "layout": "IPY_MODEL_3c72345e4a874f4a93fafc6e27ac55b0",
       "resizable": false,
       "toolbar": "IPY_MODEL_02279ca36cea484eb381c5b66b1ab3bb",
       "toolbar_position": "left",
       "toolbar_visible": false
      }
     },
     "e98ec77ac37346e0ba90196d21c5e368": {
      "model_module": "@jupyter-widgets/base",
      "model_module_version": "1.2.0",
      "model_name": "LayoutModel",
      "state": {}
     },
     "e9933ebb943a409faa83d788bccdbc26": {
      "model_module": "@jupyter-widgets/controls",
      "model_module_version": "1.5.0",
      "model_name": "DescriptionStyleModel",
      "state": {
       "description_width": ""
      }
     },
     "e99b7d9d86004f7ba7910030a130c050": {
      "model_module": "@jupyter-widgets/base",
      "model_module_version": "1.2.0",
      "model_name": "LayoutModel",
      "state": {}
     },
     "e9a1377e641d4acc91a4400c216b82fb": {
      "model_module": "@jupyter-widgets/controls",
      "model_module_version": "1.5.0",
      "model_name": "DropdownModel",
      "state": {
       "_options_labels": [
        "sRGB",
        "sRGB (ACES)",
        "Display P3",
        "Display P3 (ACES)"
       ],
       "description": "View Transform:",
       "index": 0,
       "layout": "IPY_MODEL_571fac923dc74636b998b2f5bdfec551",
       "style": "IPY_MODEL_f4b2e44d1f6a4c66a4e1287750829f7c"
      }
     },
     "e9a5ca73b0b14911870a301e346c1d97": {
      "model_module": "@jupyter-widgets/controls",
      "model_module_version": "1.5.0",
      "model_name": "SliderStyleModel",
      "state": {
       "description_width": ""
      }
     },
     "e9baf1b3d59f4e8c9b49d5c1e2f0cf52": {
      "model_module": "@jupyter-widgets/base",
      "model_module_version": "1.2.0",
      "model_name": "LayoutModel",
      "state": {
       "border": "solid 4px #222",
       "margin": "4px",
       "padding": "0"
      }
     },
     "e9bc96ae5b824cba8aeaca4abd70acdf": {
      "model_module": "@jupyter-widgets/base",
      "model_module_version": "1.2.0",
      "model_name": "LayoutModel",
      "state": {}
     },
     "e9f118de89534d648b96731899dc2c8b": {
      "model_module": "@jupyter-widgets/controls",
      "model_module_version": "1.5.0",
      "model_name": "VBoxModel",
      "state": {
       "children": [
        "IPY_MODEL_4f0a9186db594584920c729d210e73af",
        "IPY_MODEL_20c77599081249249c7ba95d9df7ae31"
       ],
       "layout": "IPY_MODEL_a9fb0a702179478ea461af082d61512c"
      }
     },
     "ea06a7a029ba490e8a6df1e1254dc6bb": {
      "model_module": "@jupyter-widgets/base",
      "model_module_version": "1.2.0",
      "model_name": "LayoutModel",
      "state": {
       "border": "solid 4px #222",
       "margin": "4px",
       "padding": "0"
      }
     },
     "ea197b6d78c44915814a840568b782b6": {
      "model_module": "@jupyter-widgets/controls",
      "model_module_version": "1.5.0",
      "model_name": "FloatSliderModel",
      "state": {
       "description": "270°",
       "layout": "IPY_MODEL_907bf588a6c048ed8fdce6b71f7c9455",
       "max": 1,
       "min": -1,
       "step": 0.01,
       "style": "IPY_MODEL_975d71df0306410aad58f23a205835a2"
      }
     },
     "ea366e738545466a89090d9a021f847d": {
      "model_module": "@jupyter-widgets/controls",
      "model_module_version": "1.5.0",
      "model_name": "FloatSliderModel",
      "state": {
       "description": "0°",
       "layout": "IPY_MODEL_b17a678a4cec4fe0b2c77084d2415c41",
       "max": 1,
       "min": -1,
       "step": 0.01,
       "style": "IPY_MODEL_e36a1b3a054247f191b7e4ae98acb80b"
      }
     },
     "ea5342fbdd1846e7b27034a0ce81127d": {
      "model_module": "@jupyter-widgets/controls",
      "model_module_version": "1.5.0",
      "model_name": "HBoxModel",
      "state": {
       "children": [
        "IPY_MODEL_963f53dfab154187bda2f8222ddd0852",
        "IPY_MODEL_cf712c0204474fe6820a38450d4e91c1"
       ],
       "layout": "IPY_MODEL_acc51a0eaeff48a981ef01f849d0ea7f"
      }
     },
     "ea5b98b673974fc8a9c623d10e5c7ec2": {
      "model_module": "@jupyter-widgets/controls",
      "model_module_version": "1.5.0",
      "model_name": "FloatSliderModel",
      "state": {
       "description": "90°",
       "layout": "IPY_MODEL_a7f4868a74164401adc23a1954bb2bf0",
       "max": 1,
       "min": -1,
       "step": 0.01,
       "style": "IPY_MODEL_828b0415426648919cb97c58051216e4"
      }
     },
     "ea6a8931c5e24fdabe1f587b02c3f723": {
      "model_module": "@jupyter-widgets/controls",
      "model_module_version": "1.5.0",
      "model_name": "VBoxModel",
      "state": {
       "children": [
        "IPY_MODEL_5e3967011c3f4adb9b9cf0dda7030372",
        "IPY_MODEL_c87339451a494364924a3278630cd8f5",
        "IPY_MODEL_9e1b38f9a4534cf1b389f37893c6c890"
       ],
       "layout": "IPY_MODEL_ef618cb7e68e4d9399c3447a66c195a1"
      }
     },
     "ea7982fe4ac743758fe83a803875471d": {
      "model_module": "@jupyter-widgets/base",
      "model_module_version": "1.2.0",
      "model_name": "LayoutModel",
      "state": {}
     },
     "ea7c0bc424994457a78dad1767265d74": {
      "model_module": "@jupyter-widgets/base",
      "model_module_version": "1.2.0",
      "model_name": "LayoutModel",
      "state": {}
     },
     "eaa23143e8674e29adf2812ea1c5eb9e": {
      "model_module": "@jupyter-widgets/controls",
      "model_module_version": "1.5.0",
      "model_name": "ButtonModel",
      "state": {
       "description": "Reset Hue Controls",
       "layout": "IPY_MODEL_08d06b91ed1849d18c200c529c301652",
       "style": "IPY_MODEL_5b7a6e5cca4e4a16aede61a7e8b42032"
      }
     },
     "eaa6af5722614fe8aa5823a16bb4e24a": {
      "model_module": "@jupyter-widgets/base",
      "model_module_version": "1.2.0",
      "model_name": "LayoutModel",
      "state": {}
     },
     "eabc5e9b583e4698bc4f83b724f8f998": {
      "model_module": "@jupyter-widgets/base",
      "model_module_version": "1.2.0",
      "model_name": "LayoutModel",
      "state": {}
     },
     "eb00f87f3e83422683e8fcddd6d070b0": {
      "model_module": "@jupyter-widgets/controls",
      "model_module_version": "1.5.0",
      "model_name": "DropdownModel",
      "state": {
       "_options_labels": [
        "tanh",
        "atan",
        "simple"
       ],
       "description": "Compression Function:",
       "index": 0,
       "layout": "IPY_MODEL_e04ce87b1afc48369c2661be7024e7e0",
       "style": "IPY_MODEL_577d0647415d45ddaa2966b3c7be5ba8"
      }
     },
     "eb34929eed0745a0845bdbe561d073ac": {
      "model_module": "@jupyter-widgets/controls",
      "model_module_version": "1.5.0",
      "model_name": "ButtonModel",
      "state": {
       "description": "Reset Hue Controls",
       "layout": "IPY_MODEL_9d3d8d51f9a64276964b568ad790abaf",
       "style": "IPY_MODEL_98ac34d8b51f4d56a89ddb24b8b93a82"
      }
     },
     "eb95bfe06c954e7fb3b70346dffa07a7": {
      "model_module": "@jupyter-widgets/controls",
      "model_module_version": "1.5.0",
      "model_name": "ButtonModel",
      "state": {
       "description": "Save Figure",
       "layout": "IPY_MODEL_56cc4b433b0c4231a50120757b016d36",
       "style": "IPY_MODEL_e092b5a3922c41d7b21b56b93d78aa54"
      }
     },
     "ebb633669d814ce1bbb1326a62494f7e": {
      "model_module": "@jupyter-widgets/controls",
      "model_module_version": "1.5.0",
      "model_name": "DescriptionStyleModel",
      "state": {
       "description_width": ""
      }
     },
     "ebb8d99be03a4b82b7b5d87d2c590cfc": {
      "model_module": "@jupyter-widgets/base",
      "model_module_version": "1.2.0",
      "model_name": "LayoutModel",
      "state": {}
     },
     "ebc965ccc9de4943acbaabb18936a097": {
      "model_module": "@jupyter-widgets/base",
      "model_module_version": "1.2.0",
      "model_name": "LayoutModel",
      "state": {}
     },
     "ebe29df262d8460b9e2a465947ba490a": {
      "model_module": "@jupyter-widgets/base",
      "model_module_version": "1.2.0",
      "model_name": "LayoutModel",
      "state": {}
     },
     "ec0ee930ccdf4fd198e48544719ba3a0": {
      "model_module": "@jupyter-widgets/controls",
      "model_module_version": "1.5.0",
      "model_name": "SliderStyleModel",
      "state": {
       "description_width": ""
      }
     },
     "ec1069d8d8bd466588dae9a905fd9136": {
      "model_module": "@jupyter-widgets/base",
      "model_module_version": "1.2.0",
      "model_name": "LayoutModel",
      "state": {}
     },
     "ec2fbd5e629f4fa5958caac775fe6c7c": {
      "model_module": "@jupyter-widgets/controls",
      "model_module_version": "1.5.0",
      "model_name": "HBoxModel",
      "state": {
       "children": [
        "IPY_MODEL_cc179deaf75d4bb591152b4b91abbea6",
        "IPY_MODEL_0574b2a05c2846d7a96ad0487f4d8d4f",
        "IPY_MODEL_077e82fd72ea45a29d66864922b6d3e5",
        "IPY_MODEL_2e22bcf6979745468162c024a258aef0"
       ],
       "layout": "IPY_MODEL_26ccdbde658148c3bf67b7e058e21bfe"
      }
     },
     "ec43916991d44e6da6f183a30532bce0": {
      "model_module": "@jupyter-widgets/controls",
      "model_module_version": "1.5.0",
      "model_name": "ButtonModel",
      "state": {
       "description": "Save Figure",
       "layout": "IPY_MODEL_87af3ae0cb83405ab44cb75a61e59679",
       "style": "IPY_MODEL_94cdc39280ab48d3b02f6cda9e0825d3"
      }
     },
     "ec4467aa97ef447da97201132171463e": {
      "model_module": "@jupyter-widgets/controls",
      "model_module_version": "1.5.0",
      "model_name": "SliderStyleModel",
      "state": {
       "description_width": ""
      }
     },
     "ec4ab5bdddd243bdb810b49335b3173c": {
      "model_module": "@jupyter-widgets/base",
      "model_module_version": "1.2.0",
      "model_name": "LayoutModel",
      "state": {}
     },
     "ec55b066f46a41438c27b1fcc0153103": {
      "model_module": "@jupyter-widgets/base",
      "model_module_version": "1.2.0",
      "model_name": "LayoutModel",
      "state": {}
     },
     "ec68c0e939d648a989df69a9b8c8458e": {
      "model_module": "@jupyter-widgets/base",
      "model_module_version": "1.2.0",
      "model_name": "LayoutModel",
      "state": {}
     },
     "ec75d30a4a9f42188a91d09b13908e6f": {
      "model_module": "@jupyter-widgets/controls",
      "model_module_version": "1.5.0",
      "model_name": "DescriptionStyleModel",
      "state": {
       "description_width": ""
      }
     },
     "ec9223696f5341f0beb43c51aad7b584": {
      "model_module": "@jupyter-widgets/base",
      "model_module_version": "1.2.0",
      "model_name": "LayoutModel",
      "state": {}
     },
     "ecbd5ce3f6aa4abc9799064b2b180d27": {
      "model_module": "@jupyter-widgets/controls",
      "model_module_version": "1.5.0",
      "model_name": "ButtonStyleModel",
      "state": {}
     },
     "ecc79dca21d947c287b8cce59d9b8ce5": {
      "model_module": "@jupyter-widgets/controls",
      "model_module_version": "1.5.0",
      "model_name": "SliderStyleModel",
      "state": {
       "description_width": ""
      }
     },
     "ecd5c252acd7408f83d3e1a87d47b1ca": {
      "model_module": "@jupyter-widgets/base",
      "model_module_version": "1.2.0",
      "model_name": "LayoutModel",
      "state": {}
     },
     "ecf93640ca1a4cd9a933fc69f704e19b": {
      "model_module": "@jupyter-widgets/base",
      "model_module_version": "1.2.0",
      "model_name": "LayoutModel",
      "state": {}
     },
     "ed3472c0c4fa46c9937a45fd0965c5d9": {
      "model_module": "@jupyter-widgets/controls",
      "model_module_version": "1.5.0",
      "model_name": "FloatSliderModel",
      "state": {
       "description": "315°",
       "layout": "IPY_MODEL_ea7c0bc424994457a78dad1767265d74",
       "max": 1,
       "min": -1,
       "step": 0.01,
       "style": "IPY_MODEL_1acd290620014f8dab6c9b4b99b7082d"
      }
     },
     "ed5dfc4079ec44039416b273fd6214fc": {
      "model_module": "@jupyter-widgets/base",
      "model_module_version": "1.2.0",
      "model_name": "LayoutModel",
      "state": {}
     },
     "ed6d63517e8a4d509409166aa55fb386": {
      "model_module": "@jupyter-widgets/base",
      "model_module_version": "1.2.0",
      "model_name": "LayoutModel",
      "state": {}
     },
     "ed6da19652f04619ab62dc661d009611": {
      "model_module": "@jupyter-widgets/controls",
      "model_module_version": "1.5.0",
      "model_name": "CheckboxModel",
      "state": {
       "description": "Disable Medicina",
       "disabled": false,
       "layout": "IPY_MODEL_cc8d060d813e4dcba8e0128fb0decaf4",
       "style": "IPY_MODEL_2a148a4e9f7c46f0a21808d433279838",
       "value": false
      }
     },
     "ed744f7347b94759abf732d479ba87a5": {
      "model_module": "@jupyter-widgets/base",
      "model_module_version": "1.2.0",
      "model_name": "LayoutModel",
      "state": {}
     },
     "ed96c40b1e544bbd9dd8ad3ceb403ee0": {
      "model_module": "@jupyter-widgets/controls",
      "model_module_version": "1.5.0",
      "model_name": "HBoxModel",
      "state": {
       "children": [
        "IPY_MODEL_f58b480d6b2244d8903a483a7e619795",
        "IPY_MODEL_bbc6b3d97d8a4e799e1a3b121f87407c",
        "IPY_MODEL_09d906302a77479fa2aae75b27ac396e",
        "IPY_MODEL_7fc798ec46344d7a8289810a56153518"
       ],
       "layout": "IPY_MODEL_e080c01b653e46598e07051f2af6d1a7"
      }
     },
     "ed9c3742c53943b3b3b327fda5941fd1": {
      "model_module": "@jupyter-widgets/base",
      "model_module_version": "1.2.0",
      "model_name": "LayoutModel",
      "state": {}
     },
     "edac23b7b32840aba281f56c978ffee7": {
      "model_module": "@jupyter-widgets/base",
      "model_module_version": "1.2.0",
      "model_name": "LayoutModel",
      "state": {}
     },
     "edb1119524ae4ba6a01f6f7383a71e93": {
      "model_module": "@jupyter-widgets/controls",
      "model_module_version": "1.5.0",
      "model_name": "FloatSliderModel",
      "state": {
       "description": "270°",
       "layout": "IPY_MODEL_116be4affdca4da5b9c40f4cfcbb22c0",
       "max": 1,
       "min": -1,
       "step": 0.01,
       "style": "IPY_MODEL_5c61ab020c774d23b5c727015097a6e8"
      }
     },
     "edbcb51e836e4145ab347bf5a483a123": {
      "model_module": "@jupyter-widgets/base",
      "model_module_version": "1.2.0",
      "model_name": "LayoutModel",
      "state": {}
     },
     "edc4d7d3163948739c99edde018d0fd6": {
      "model_module": "@jupyter-widgets/base",
      "model_module_version": "1.2.0",
      "model_name": "LayoutModel",
      "state": {}
     },
     "edec75cc12844eb7a94a0777645b1997": {
      "model_module": "@jupyter-widgets/base",
      "model_module_version": "1.2.0",
      "model_name": "LayoutModel",
      "state": {}
     },
     "edfe35f68fc14146a60207d9f5b5fb6b": {
      "model_module": "@jupyter-widgets/controls",
      "model_module_version": "1.5.0",
      "model_name": "SliderStyleModel",
      "state": {
       "description_width": ""
      }
     },
     "ee010350b1f24e14b9158efbbdff300f": {
      "model_module": "@jupyter-widgets/base",
      "model_module_version": "1.2.0",
      "model_name": "LayoutModel",
      "state": {}
     },
     "ee2aa3e6720d47cf9eb93ea7ce7e2240": {
      "model_module": "@jupyter-widgets/base",
      "model_module_version": "1.2.0",
      "model_name": "LayoutModel",
      "state": {}
     },
     "ee4c0ff910c24294916a0aa32116a041": {
      "model_module": "@jupyter-widgets/controls",
      "model_module_version": "1.5.0",
      "model_name": "FloatSliderModel",
      "state": {
       "description": "Exposure",
       "layout": "IPY_MODEL_d9f1c08d487a4df9be300aa467ef8e9f",
       "max": 8,
       "min": -8,
       "step": 0.1,
       "style": "IPY_MODEL_a48d9ba08ac84d83becae2719f3bbfab"
      }
     },
     "ee53b67a0f9d4649989c61c2142108d2": {
      "model_module": "@jupyter-widgets/base",
      "model_module_version": "1.2.0",
      "model_name": "LayoutModel",
      "state": {}
     },
     "eed71932c01a4adf98dd1d957bc518d6": {
      "model_module": "@jupyter-widgets/controls",
      "model_module_version": "1.5.0",
      "model_name": "SliderStyleModel",
      "state": {
       "description_width": ""
      }
     },
     "eee73964ad1c4e76976ca3f2de1f66db": {
      "model_module": "@jupyter-widgets/controls",
      "model_module_version": "1.5.0",
      "model_name": "DescriptionStyleModel",
      "state": {
       "description_width": ""
      }
     },
     "ef00c17ddce94b6b82a47586a6e64bbf": {
      "model_module": "@jupyter-widgets/controls",
      "model_module_version": "1.5.0",
      "model_name": "FloatSliderModel",
      "state": {
       "description": "45°",
       "layout": "IPY_MODEL_230685841dde4c3e9988988307951f7f",
       "max": 1,
       "min": -1,
       "step": 0.01,
       "style": "IPY_MODEL_f588ac0b3baa45e59c47a590a61f35c6"
      }
     },
     "ef02a06da13a46d6b4295bd8a916bf19": {
      "model_module": "@jupyter-widgets/base",
      "model_module_version": "1.2.0",
      "model_name": "LayoutModel",
      "state": {}
     },
     "ef4ba2dfa70b4091a368a0c67835a114": {
      "model_module": "@jupyter-widgets/base",
      "model_module_version": "1.2.0",
      "model_name": "LayoutModel",
      "state": {}
     },
     "ef618cb7e68e4d9399c3447a66c195a1": {
      "model_module": "@jupyter-widgets/base",
      "model_module_version": "1.2.0",
      "model_name": "LayoutModel",
      "state": {}
     },
     "ef6df29baebc4f0eb26d830a2b744e09": {
      "model_module": "@jupyter-widgets/base",
      "model_module_version": "1.2.0",
      "model_name": "LayoutModel",
      "state": {}
     },
     "ef73706307824bbb9c1e938ce5d95968": {
      "model_module": "@jupyter-widgets/base",
      "model_module_version": "1.2.0",
      "model_name": "LayoutModel",
      "state": {}
     },
     "ef88024faa88487fa8acb63ad8c66be6": {
      "model_module": "@jupyter-widgets/controls",
      "model_module_version": "1.5.0",
      "model_name": "HBoxModel",
      "state": {
       "children": [
        "IPY_MODEL_e19fff2a40ea4a918ebf51eaafc94112",
        "IPY_MODEL_2ac7624f61854bf29a92bd85fc8a5112",
        "IPY_MODEL_0bc07d9cd4b841ad952fd8f3dbf09486"
       ],
       "layout": "IPY_MODEL_77bbfe4760c747cd9019e7ee2f07f67a"
      }
     },
     "efb814be8b72450d97df19abe0c30b9c": {
      "model_module": "@jupyter-widgets/controls",
      "model_module_version": "1.5.0",
      "model_name": "CheckboxModel",
      "state": {
       "description": "Show Out-of-Gamut",
       "disabled": false,
       "layout": "IPY_MODEL_308273fec20045a088178629570a80e2",
       "style": "IPY_MODEL_b3b6db72803d462f95f675f8898e5082",
       "value": false
      }
     },
     "efd9310d1bc5428c93bbd9ee17bfcc86": {
      "model_module": "@jupyter-widgets/controls",
      "model_module_version": "1.5.0",
      "model_name": "SliderStyleModel",
      "state": {
       "description_width": ""
      }
     },
     "eff4002a42074f86a078c5a3c4b312a1": {
      "model_module": "@jupyter-widgets/controls",
      "model_module_version": "1.5.0",
      "model_name": "SliderStyleModel",
      "state": {
       "description_width": ""
      }
     },
     "f0042a95ab31499db832a7c9b03059c4": {
      "model_module": "@jupyter-widgets/base",
      "model_module_version": "1.2.0",
      "model_name": "LayoutModel",
      "state": {}
     },
     "f012ff15810149b1bc06d3c2541d1cbb": {
      "model_module": "@jupyter-widgets/controls",
      "model_module_version": "1.5.0",
      "model_name": "ButtonModel",
      "state": {
       "description": "Reset Saturation Controls",
       "layout": "IPY_MODEL_c721ce2afbef45e7aea1fcd2cef27bd6",
       "style": "IPY_MODEL_01eba5091be84dc985cbdb430979e924"
      }
     },
     "f01c5e7dcc82443c883bd101a943606d": {
      "model_module": "@jupyter-widgets/base",
      "model_module_version": "1.2.0",
      "model_name": "LayoutModel",
      "state": {}
     },
     "f037b45fdc9c45599bcf8e4f5ac0dbdc": {
      "model_module": "@jupyter-widgets/controls",
      "model_module_version": "1.5.0",
      "model_name": "SliderStyleModel",
      "state": {
       "description_width": ""
      }
     },
     "f03edd299e59474f83d394dc398360b5": {
      "model_module": "@jupyter-widgets/output",
      "model_module_version": "1.0.0",
      "model_name": "OutputModel",
      "state": {
       "layout": "IPY_MODEL_e9baf1b3d59f4e8c9b49d5c1e2f0cf52",
       "outputs": [
        {
         "data": {
          "application/vnd.jupyter.widget-view+json": {
           "model_id": "1ab34557d8ef4900bc48c4ce0f5d17fb",
           "version_major": 2,
           "version_minor": 0
          },
          "text/plain": "Canvas(toolbar=Toolbar(toolitems=[('Home', 'Reset original view', 'home', 'home'), ('Back', 'Back to previous …"
         },
         "metadata": {},
         "output_type": "display_data"
        }
       ]
      }
     },
     "f04e040d56b943f7adf8658728af6c38": {
      "model_module": "@jupyter-widgets/base",
      "model_module_version": "1.2.0",
      "model_name": "LayoutModel",
      "state": {}
     },
     "f04f654ea58c4484af130479b75fcab0": {
      "model_module": "@jupyter-widgets/controls",
      "model_module_version": "1.5.0",
      "model_name": "VBoxModel",
      "state": {
       "children": [
        "IPY_MODEL_fe18af6104044858869cc3dfbc1d6c5f",
        "IPY_MODEL_3cf7568cb025483fb2ed0ff72faf632a",
        "IPY_MODEL_a1204f12f41b424296e36a1dbbdc70dd"
       ],
       "layout": "IPY_MODEL_78facb0d8beb43649925380e2225e98a"
      }
     },
     "f096dfcbceba4825800a4d9c10109da0": {
      "model_module": "@jupyter-widgets/controls",
      "model_module_version": "1.5.0",
      "model_name": "HBoxModel",
      "state": {
       "children": [
        "IPY_MODEL_cd5792079ae34377b51c53e6c77e11ab",
        "IPY_MODEL_8a042386a850406580ea779c57ad6ef0",
        "IPY_MODEL_5ddaefd03dc94c95adfdd415fb14260a"
       ],
       "layout": "IPY_MODEL_051311e98e944899a0e86d6e22e4a089"
      }
     },
     "f0a203aa355d4052bc82a3ad945e431f": {
      "model_module": "@jupyter-widgets/controls",
      "model_module_version": "1.5.0",
      "model_name": "ButtonStyleModel",
      "state": {}
     },
     "f0c042746a3f44d483d5f57114d2c096": {
      "model_module": "@jupyter-widgets/base",
      "model_module_version": "1.2.0",
      "model_name": "LayoutModel",
      "state": {}
     },
     "f0d11be78fd8466eb65035b0eb375a72": {
      "model_module": "@jupyter-widgets/controls",
      "model_module_version": "1.5.0",
      "model_name": "SliderStyleModel",
      "state": {
       "description_width": ""
      }
     },
     "f0d5ffeed67949a1b0fddd83a9872647": {
      "model_module": "@jupyter-widgets/base",
      "model_module_version": "1.2.0",
      "model_name": "LayoutModel",
      "state": {}
     },
     "f0fc72ec40ed42b8927e3961013d1d92": {
      "model_module": "@jupyter-widgets/base",
      "model_module_version": "1.2.0",
      "model_name": "LayoutModel",
      "state": {}
     },
     "f10286ebd2064851acdaf6812e5d302a": {
      "model_module": "@jupyter-widgets/controls",
      "model_module_version": "1.5.0",
      "model_name": "FloatSliderModel",
      "state": {
       "description": "135°",
       "layout": "IPY_MODEL_ebb8d99be03a4b82b7b5d87d2c590cfc",
       "max": 1,
       "min": -1,
       "step": 0.01,
       "style": "IPY_MODEL_8879b67bc0bf408a9237d6ce226435e0"
      }
     },
     "f10b9331b91d4e508b70b5bdf8f2242a": {
      "model_module": "@jupyter-widgets/controls",
      "model_module_version": "1.5.0",
      "model_name": "CheckboxModel",
      "state": {
       "description": "Show Out-of-Gamut",
       "disabled": false,
       "layout": "IPY_MODEL_d0b6977a39474cc79385266e3b6000dc",
       "style": "IPY_MODEL_3e54875c0b58428fbdbeb9b839d936fe",
       "value": false
      }
     },
     "f1531d2353aa44c58d3c3674b206d580": {
      "model_module": "@jupyter-widgets/controls",
      "model_module_version": "1.5.0",
      "model_name": "ButtonModel",
      "state": {
       "description": "Export Image",
       "layout": "IPY_MODEL_2bbe70c1c1ca4c26b3376e691fb2e29d",
       "style": "IPY_MODEL_828b36dbecfe4a598a5f8496909a280b"
      }
     },
     "f17fd5e234c34c0ea4a267d3195fef83": {
      "model_module": "@jupyter-widgets/controls",
      "model_module_version": "1.5.0",
      "model_name": "SliderStyleModel",
      "state": {
       "description_width": ""
      }
     },
     "f189ce074ff541bc85028e79558aff60": {
      "model_module": "@jupyter-widgets/controls",
      "model_module_version": "1.5.0",
      "model_name": "ButtonStyleModel",
      "state": {}
     },
     "f19c902f09ac4d74b78b8f283299bbe6": {
      "model_module": "@jupyter-widgets/controls",
      "model_module_version": "1.5.0",
      "model_name": "SliderStyleModel",
      "state": {
       "description_width": ""
      }
     },
     "f1aaba47715e471980a472c489938441": {
      "model_module": "@jupyter-widgets/controls",
      "model_module_version": "1.5.0",
      "model_name": "FloatSliderModel",
      "state": {
       "description": "180°",
       "layout": "IPY_MODEL_722d0406d4634698b0c8c4022bc0dc2c",
       "max": 1,
       "min": -1,
       "step": 0.01,
       "style": "IPY_MODEL_7e65b68350d94be6a26662f7b04286cf"
      }
     },
     "f1db111d67e0461cb32bf9659b987f2b": {
      "model_module": "@jupyter-widgets/base",
      "model_module_version": "1.2.0",
      "model_name": "LayoutModel",
      "state": {}
     },
     "f1e3fa0fdbb0400b9c07776c66984190": {
      "model_module": "@jupyter-widgets/base",
      "model_module_version": "1.2.0",
      "model_name": "LayoutModel",
      "state": {}
     },
     "f228ef6c7ca045218d7540c9f41e104b": {
      "model_module": "@jupyter-widgets/controls",
      "model_module_version": "1.5.0",
      "model_name": "FloatSliderModel",
      "state": {
       "description": "90°",
       "layout": "IPY_MODEL_c4d38379f8df4b79a9fda5f344efb29e",
       "max": 1,
       "min": -1,
       "step": 0.01,
       "style": "IPY_MODEL_e4e532346ab74a8bbda2e93136bf6fec"
      }
     },
     "f2433bfbdd024750a3a238772da72804": {
      "model_module": "@jupyter-widgets/base",
      "model_module_version": "1.2.0",
      "model_name": "LayoutModel",
      "state": {}
     },
     "f26703209e7142f6a42ad9f2ee4b993b": {
      "model_module": "@jupyter-widgets/controls",
      "model_module_version": "1.5.0",
      "model_name": "SliderStyleModel",
      "state": {
       "description_width": ""
      }
     },
     "f267827d6f40496b99c233a459be7793": {
      "model_module": "@jupyter-widgets/controls",
      "model_module_version": "1.5.0",
      "model_name": "SliderStyleModel",
      "state": {
       "description_width": ""
      }
     },
     "f283e83b62e24bfc8f1770f14a972992": {
      "model_module": "@jupyter-widgets/base",
      "model_module_version": "1.2.0",
      "model_name": "LayoutModel",
      "state": {}
     },
     "f295692d7af74e0ba620e3038a030638": {
      "model_module": "@jupyter-widgets/base",
      "model_module_version": "1.2.0",
      "model_name": "LayoutModel",
      "state": {}
     },
     "f29a65503322427e8914070c3c810f45": {
      "model_module": "@jupyter-widgets/controls",
      "model_module_version": "1.5.0",
      "model_name": "DescriptionStyleModel",
      "state": {
       "description_width": ""
      }
     },
     "f2c001a85b534031b4e552cb650af0d9": {
      "model_module": "@jupyter-widgets/controls",
      "model_module_version": "1.5.0",
      "model_name": "FloatSliderModel",
      "state": {
       "description": "45°",
       "layout": "IPY_MODEL_1c120bb628f0479689d60994d435d47a",
       "max": 1,
       "min": -1,
       "step": 0.01,
       "style": "IPY_MODEL_e27b894a23c94f7989100a6c50aaf6b9"
      }
     },
     "f2d4d84e967b46ca8c8aeded7d3ca2ab": {
      "model_module": "@jupyter-widgets/controls",
      "model_module_version": "1.5.0",
      "model_name": "ButtonStyleModel",
      "state": {}
     },
     "f305f72090ee4d048de55b16023ed0e4": {
      "model_module": "@jupyter-widgets/controls",
      "model_module_version": "1.5.0",
      "model_name": "ButtonModel",
      "state": {
       "description": "Reset Compression Controls",
       "layout": "IPY_MODEL_a252a16c0b554d47a400d33f540d7407",
       "style": "IPY_MODEL_db88b02fd0974e58a0d34e2991335108"
      }
     },
     "f30c534debb04242ad2201f8b622d688": {
      "model_module": "@jupyter-widgets/controls",
      "model_module_version": "1.5.0",
      "model_name": "ButtonStyleModel",
      "state": {}
     },
     "f311300af634466c9e84682f8d11bcf1": {
      "model_module": "@jupyter-widgets/controls",
      "model_module_version": "1.5.0",
      "model_name": "ButtonModel",
      "state": {
       "description": "Save Figure",
       "layout": "IPY_MODEL_69cbd6fe7eec46bc83a0d6fec4ee560c",
       "style": "IPY_MODEL_2680a67625d94ffdb693a945da2dc290"
      }
     },
     "f371a33dd2ab45c0bd8e5feeeea9e7f6": {
      "model_module": "@jupyter-widgets/controls",
      "model_module_version": "1.5.0",
      "model_name": "FloatSliderModel",
      "state": {
       "description": "45°",
       "layout": "IPY_MODEL_69a5adbdf2f14b41b24daad266c1144d",
       "max": 1,
       "min": -1,
       "step": 0.01,
       "style": "IPY_MODEL_71810c32c60a4b2bac3d95720fa99445"
      }
     },
     "f3a5e672308c4459bce0625da19d8cde": {
      "model_module": "@jupyter-widgets/base",
      "model_module_version": "1.2.0",
      "model_name": "LayoutModel",
      "state": {
       "border": "solid 4px #222",
       "margin": "4px",
       "padding": "0"
      }
     },
     "f3ba6ec1490a4a348aea07884064c707": {
      "model_module": "@jupyter-widgets/base",
      "model_module_version": "1.2.0",
      "model_name": "LayoutModel",
      "state": {}
     },
     "f3c813489d434d118ae55311b5a6646d": {
      "model_module": "@jupyter-widgets/base",
      "model_module_version": "1.2.0",
      "model_name": "LayoutModel",
      "state": {}
     },
     "f3c9452e3b31426d885abae5f44ff1f5": {
      "model_module": "@jupyter-widgets/base",
      "model_module_version": "1.2.0",
      "model_name": "LayoutModel",
      "state": {}
     },
     "f40541ea5c3c40679ad3b46af523ff41": {
      "model_module": "@jupyter-widgets/base",
      "model_module_version": "1.2.0",
      "model_name": "LayoutModel",
      "state": {}
     },
     "f43a0e25244d4cb881bbb4614423949a": {
      "model_module": "@jupyter-widgets/base",
      "model_module_version": "1.2.0",
      "model_name": "LayoutModel",
      "state": {}
     },
     "f45a173fcc20419e8ddeab757265b831": {
      "model_module": "@jupyter-widgets/controls",
      "model_module_version": "1.5.0",
      "model_name": "DescriptionStyleModel",
      "state": {
       "description_width": ""
      }
     },
     "f45b03903fad472db86c402631d44ed9": {
      "model_module": "@jupyter-widgets/controls",
      "model_module_version": "1.5.0",
      "model_name": "SliderStyleModel",
      "state": {
       "description_width": ""
      }
     },
     "f480905b6cd2433299e89547f174aeaf": {
      "model_module": "jupyter-matplotlib",
      "model_module_version": "^0.7.2",
      "model_name": "MPLCanvasModel",
      "state": {
       "_figure_label": "Figure 29",
       "_height": 550,
       "_width": 1100,
       "header_visible": false,
       "layout": "IPY_MODEL_844177b109b14b69bbfa525aaba39bdc",
       "resizable": false,
       "toolbar": "IPY_MODEL_738247c9298b4c5aa4d656ee198ce5ba",
       "toolbar_position": "left",
       "toolbar_visible": false
      }
     },
     "f489dd13d48d42ca8042860a14932c04": {
      "model_module": "@jupyter-widgets/controls",
      "model_module_version": "1.5.0",
      "model_name": "DropdownModel",
      "state": {
       "_options_labels": [
        "tanh",
        "atan",
        "simple"
       ],
       "description": "Compression Function:",
       "index": 0,
       "layout": "IPY_MODEL_c7308e1bbf774fe59f56dd4a089fbc48",
       "style": "IPY_MODEL_32031a5eafed4e5a94669f5bfe77583c"
      }
     },
     "f48fc938c66f41d78edfd7904fc9dfd8": {
      "model_module": "@jupyter-widgets/controls",
      "model_module_version": "1.5.0",
      "model_name": "TabModel",
      "state": {
       "_titles": {
        "0": "Global Controls",
        "1": "Viewer Controls",
        "2": "Protected Area Controls",
        "3": "Saturation Controls",
        "4": "Hue Controls"
       },
       "children": [
        "IPY_MODEL_ca8397a4698243e6890bfd1af3c0a778",
        "IPY_MODEL_a323919c7fe4486c86fb622ccfa568bd",
        "IPY_MODEL_d26c9975ee22422abab864d816737bd8",
        "IPY_MODEL_25b771fe62f74d8a90eca58f3b86f078",
        "IPY_MODEL_4326cc8d0b7d4becbeab20a467ea0109"
       ],
       "layout": "IPY_MODEL_1c4a802192864f3495b36d5e3827ce13"
      }
     },
     "f49344bd446845a0a70b66b0d7834292": {
      "model_module": "@jupyter-widgets/base",
      "model_module_version": "1.2.0",
      "model_name": "LayoutModel",
      "state": {}
     },
     "f4b2e44d1f6a4c66a4e1287750829f7c": {
      "model_module": "@jupyter-widgets/controls",
      "model_module_version": "1.5.0",
      "model_name": "DescriptionStyleModel",
      "state": {
       "description_width": ""
      }
     },
     "f4c32ee940fd4528a2d25bc36b16e358": {
      "model_module": "@jupyter-widgets/controls",
      "model_module_version": "1.5.0",
      "model_name": "SliderStyleModel",
      "state": {
       "description_width": ""
      }
     },
     "f4ce666291504e8bbfd489b827b6bc01": {
      "model_module": "@jupyter-widgets/base",
      "model_module_version": "1.2.0",
      "model_name": "LayoutModel",
      "state": {
       "border": "solid 4px #222",
       "margin": "4px",
       "padding": "0"
      }
     },
     "f4d31f93d35346b591aac9292bdd4206": {
      "model_module": "@jupyter-widgets/controls",
      "model_module_version": "1.5.0",
      "model_name": "CheckboxModel",
      "state": {
       "description": "Show Out-of-Gamut",
       "disabled": false,
       "layout": "IPY_MODEL_bc9001d769a044aeb09048768bc73057",
       "style": "IPY_MODEL_ebb633669d814ce1bbb1326a62494f7e",
       "value": false
      }
     },
     "f4d3cf2b8c9f4f089c6573ffaa80a34d": {
      "model_module": "@jupyter-widgets/base",
      "model_module_version": "1.2.0",
      "model_name": "LayoutModel",
      "state": {}
     },
     "f50f0ca60428426a8c6d3b88d28cc7a7": {
      "model_module": "@jupyter-widgets/controls",
      "model_module_version": "1.5.0",
      "model_name": "SliderStyleModel",
      "state": {
       "description_width": ""
      }
     },
     "f571f8daf7fc4d31a87af9af5272a0ea": {
      "model_module": "@jupyter-widgets/base",
      "model_module_version": "1.2.0",
      "model_name": "LayoutModel",
      "state": {}
     },
     "f588ac0b3baa45e59c47a590a61f35c6": {
      "model_module": "@jupyter-widgets/controls",
      "model_module_version": "1.5.0",
      "model_name": "SliderStyleModel",
      "state": {
       "description_width": ""
      }
     },
     "f58b480d6b2244d8903a483a7e619795": {
      "model_module": "@jupyter-widgets/controls",
      "model_module_version": "1.5.0",
      "model_name": "VBoxModel",
      "state": {
       "children": [
        "IPY_MODEL_16129ec7b73343d4987c58b4966197da"
       ],
       "layout": "IPY_MODEL_2fcccacaf5934379b79a1320da64c332"
      }
     },
     "f59d616feae4471a859c33da1e4e0857": {
      "model_module": "@jupyter-widgets/controls",
      "model_module_version": "1.5.0",
      "model_name": "VBoxModel",
      "state": {
       "children": [
        "IPY_MODEL_a99be6f83d40478ebae6cca7f2e1cf95",
        "IPY_MODEL_7585443a92fe4e5eb7a18006ab0d9abb",
        "IPY_MODEL_b05546c0745547888ce514ccad2fd24f"
       ],
       "layout": "IPY_MODEL_65a2fc6dcfa444a0bec609a0660eb74c"
      }
     },
     "f5b06adec838416bbecdd0bee793f374": {
      "model_module": "@jupyter-widgets/controls",
      "model_module_version": "1.5.0",
      "model_name": "ButtonStyleModel",
      "state": {}
     },
     "f5ee348149db43a7b78ba328790a5513": {
      "model_module": "@jupyter-widgets/controls",
      "model_module_version": "1.5.0",
      "model_name": "VBoxModel",
      "state": {
       "children": [
        "IPY_MODEL_51a4929bbc5544f4bf540fa75d9ecd39",
        "IPY_MODEL_b9d2b1d917ae4985922a7dc054c0a06e",
        "IPY_MODEL_73ca970cec9240609082f2f4ebd27bb0"
       ],
       "layout": "IPY_MODEL_a5101702ad514b898e58b2b617a4896b"
      }
     },
     "f5f2d790f5054005bb943855adba464f": {
      "model_module": "@jupyter-widgets/controls",
      "model_module_version": "1.5.0",
      "model_name": "VBoxModel",
      "state": {
       "children": [
        "IPY_MODEL_7994c7bec70841cd8e69e57408a00ea7",
        "IPY_MODEL_f7227de547af487ca813945286bb7fc6",
        "IPY_MODEL_9a3cc7b73a3e45bda4b9026485de722b"
       ],
       "layout": "IPY_MODEL_3cf60457795d4c04a0d4d5d50b280f92"
      }
     },
     "f620fb66edde4767bff5caa341018e1c": {
      "model_module": "@jupyter-widgets/controls",
      "model_module_version": "1.5.0",
      "model_name": "SliderStyleModel",
      "state": {
       "description_width": ""
      }
     },
     "f65e62ace5eb4cc6bae4aaf7350e0674": {
      "model_module": "jupyter-matplotlib",
      "model_module_version": "^0.7.2",
      "model_name": "MPLCanvasModel",
      "state": {
       "_figure_label": "Figure 19",
       "_height": 430,
       "_width": 1099,
       "header_visible": false,
       "layout": "IPY_MODEL_179490095dca47b3899f5197b063f658",
       "resizable": false,
       "toolbar": "IPY_MODEL_f7d4e85e4f124e3ebcf700f89267094a",
       "toolbar_position": "left",
       "toolbar_visible": false
      }
     },
     "f66a3ff3b08d438ca9e9c442f611e771": {
      "model_module": "@jupyter-widgets/controls",
      "model_module_version": "1.5.0",
      "model_name": "SliderStyleModel",
      "state": {
       "description_width": ""
      }
     },
     "f68b80c0004c4201ab37ac25e0cedd6a": {
      "model_module": "@jupyter-widgets/controls",
      "model_module_version": "1.5.0",
      "model_name": "DescriptionStyleModel",
      "state": {
       "description_width": ""
      }
     },
     "f68c33fa876c497ba8b8971bf3d92b66": {
      "model_module": "@jupyter-widgets/controls",
      "model_module_version": "1.5.0",
      "model_name": "DescriptionStyleModel",
      "state": {
       "description_width": ""
      }
     },
     "f6bcf51c8fd34440b387c275b3e27525": {
      "model_module": "@jupyter-widgets/base",
      "model_module_version": "1.2.0",
      "model_name": "LayoutModel",
      "state": {}
     },
     "f6c0066995fe4dcc87021079a3c4ce4f": {
      "model_module": "@jupyter-widgets/controls",
      "model_module_version": "1.5.0",
      "model_name": "SliderStyleModel",
      "state": {
       "description_width": ""
      }
     },
     "f6c97000cce84281897b09ae81d21441": {
      "model_module": "@jupyter-widgets/base",
      "model_module_version": "1.2.0",
      "model_name": "LayoutModel",
      "state": {}
     },
     "f6fe472f4af94a52bd97982d7aa1f64a": {
      "model_module": "jupyter-matplotlib",
      "model_module_version": "^0.7.2",
      "model_name": "ToolbarModel",
      "state": {
       "layout": "IPY_MODEL_a7405dae8b314b939549db37b5362c12",
       "toolitems": [
        [
         "Home",
         "Reset original view",
         "home",
         "home"
        ],
        [
         "Back",
         "Back to previous view",
         "arrow-left",
         "back"
        ],
        [
         "Forward",
         "Forward to next view",
         "arrow-right",
         "forward"
        ],
        [
         "Pan",
         "Pan axes with left mouse, zoom with right",
         "arrows",
         "pan"
        ],
        [
         "Zoom",
         "Zoom to rectangle",
         "square-o",
         "zoom"
        ],
        [
         "Download",
         "Download plot",
         "floppy-o",
         "save_figure"
        ]
       ]
      }
     },
     "f71a68b8ba744bd3be8619d2a7ce7b51": {
      "model_module": "@jupyter-widgets/controls",
      "model_module_version": "1.5.0",
      "model_name": "SliderStyleModel",
      "state": {
       "description_width": ""
      }
     },
     "f7227de547af487ca813945286bb7fc6": {
      "model_module": "@jupyter-widgets/controls",
      "model_module_version": "1.5.0",
      "model_name": "FloatSliderModel",
      "state": {
       "description": "45°",
       "layout": "IPY_MODEL_43279eda78b04a63aafd69496e664646",
       "max": 1,
       "min": -1,
       "step": 0.01,
       "style": "IPY_MODEL_4a249d2f434c47afa0bb983332f0e189"
      }
     },
     "f7504e2629884101a813075c73aa3637": {
      "model_module": "@jupyter-widgets/controls",
      "model_module_version": "1.5.0",
      "model_name": "ButtonStyleModel",
      "state": {}
     },
     "f7819491b6af4ecfbc5159069494ec8c": {
      "model_module": "@jupyter-widgets/controls",
      "model_module_version": "1.5.0",
      "model_name": "ButtonStyleModel",
      "state": {}
     },
     "f7ad84ef16894f3da4446dfefdcbee11": {
      "model_module": "@jupyter-widgets/controls",
      "model_module_version": "1.5.0",
      "model_name": "FloatSliderModel",
      "state": {
       "description": "Exposure",
       "layout": "IPY_MODEL_b9249ccb9ee942ed888ffbfe66892d22",
       "max": 8,
       "min": -8,
       "step": 0.1,
       "style": "IPY_MODEL_5a4969d6888f43f48f8d52acd0b1df1e"
      }
     },
     "f7c6c76e4eaf4bb89f910b36049371fb": {
      "model_module": "@jupyter-widgets/controls",
      "model_module_version": "1.5.0",
      "model_name": "ButtonStyleModel",
      "state": {}
     },
     "f7d129d5d53a4b83bb5d8c718f541c9b": {
      "model_module": "@jupyter-widgets/controls",
      "model_module_version": "1.5.0",
      "model_name": "ButtonStyleModel",
      "state": {}
     },
     "f7d4e85e4f124e3ebcf700f89267094a": {
      "model_module": "jupyter-matplotlib",
      "model_module_version": "^0.7.2",
      "model_name": "ToolbarModel",
      "state": {
       "layout": "IPY_MODEL_8b674e9e2bce417d9fa7939352a85ae3",
       "toolitems": [
        [
         "Home",
         "Reset original view",
         "home",
         "home"
        ],
        [
         "Back",
         "Back to previous view",
         "arrow-left",
         "back"
        ],
        [
         "Forward",
         "Forward to next view",
         "arrow-right",
         "forward"
        ],
        [
         "Pan",
         "Pan axes with left mouse, zoom with right",
         "arrows",
         "pan"
        ],
        [
         "Zoom",
         "Zoom to rectangle",
         "square-o",
         "zoom"
        ],
        [
         "Download",
         "Download plot",
         "floppy-o",
         "save_figure"
        ]
       ]
      }
     },
     "f802bc9be9924772acaa62a1cceaa9a0": {
      "model_module": "@jupyter-widgets/controls",
      "model_module_version": "1.5.0",
      "model_name": "DescriptionStyleModel",
      "state": {
       "description_width": ""
      }
     },
     "f80f1c9114d549eaa4f15c5014824afc": {
      "model_module": "@jupyter-widgets/controls",
      "model_module_version": "1.5.0",
      "model_name": "VBoxModel",
      "state": {
       "children": [
        "IPY_MODEL_a804446f41484967b286a56f903496cc",
        "IPY_MODEL_dd0611ca87ff4548af3d47bcd1f8e69b"
       ],
       "layout": "IPY_MODEL_faf4be93312c4f75bc81a71baec3c683"
      }
     },
     "f8750db6bbbd4ce6a9cebb0e764ed116": {
      "model_module": "@jupyter-widgets/controls",
      "model_module_version": "1.5.0",
      "model_name": "ButtonModel",
      "state": {
       "description": "Reset Protected Area",
       "layout": "IPY_MODEL_0d6a3db45aeb419cab1d1b5b2dfa4949",
       "style": "IPY_MODEL_92376f13b66d4f2aa12bf136cbfa36bb"
      }
     },
     "f890fb70e1174817a3198bed14b89bf4": {
      "model_module": "@jupyter-widgets/base",
      "model_module_version": "1.2.0",
      "model_name": "LayoutModel",
      "state": {}
     },
     "f8c42b81694b4be0aacf3cf9d15aae41": {
      "model_module": "@jupyter-widgets/output",
      "model_module_version": "1.0.0",
      "model_name": "OutputModel",
      "state": {
       "layout": "IPY_MODEL_21fce37c40144470a6f926c35ddf8b7c",
       "outputs": [
        {
         "data": {
          "application/vnd.jupyter.widget-view+json": {
           "model_id": "17b85e3eeefb4135a63b0879cab2a2fa",
           "version_major": 2,
           "version_minor": 0
          },
          "text/plain": "Canvas(toolbar=Toolbar(toolitems=[('Home', 'Reset original view', 'home', 'home'), ('Back', 'Back to previous …"
         },
         "metadata": {},
         "output_type": "display_data"
        }
       ]
      }
     },
     "f8ca462af54f401a8ac523d0f2162340": {
      "model_module": "@jupyter-widgets/controls",
      "model_module_version": "1.5.0",
      "model_name": "SliderStyleModel",
      "state": {
       "description_width": ""
      }
     },
     "f922667e289149ed9a98407a20568e92": {
      "model_module": "@jupyter-widgets/base",
      "model_module_version": "1.2.0",
      "model_name": "LayoutModel",
      "state": {}
     },
     "f9439727c5334bf487c7dc4f1ad38d5e": {
      "model_module": "@jupyter-widgets/controls",
      "model_module_version": "1.5.0",
      "model_name": "SliderStyleModel",
      "state": {
       "description_width": ""
      }
     },
     "f94ef228f3dc43108c0043b9928fcf42": {
      "model_module": "@jupyter-widgets/controls",
      "model_module_version": "1.5.0",
      "model_name": "DescriptionStyleModel",
      "state": {
       "description_width": ""
      }
     },
     "f977f78941a24382aa36a668cb718589": {
      "model_module": "@jupyter-widgets/controls",
      "model_module_version": "1.5.0",
      "model_name": "FloatSliderModel",
      "state": {
       "description": "Exposure",
       "layout": "IPY_MODEL_3f6ba7843c1849bc9c57223587704c57",
       "max": 8,
       "min": -8,
       "step": 0.1,
       "style": "IPY_MODEL_0fa8e180e03641d2be5c5a2a7cbd2664"
      }
     },
     "f993a831bacf4d2fb2eec42429b5a2c3": {
      "model_module": "@jupyter-widgets/base",
      "model_module_version": "1.2.0",
      "model_name": "LayoutModel",
      "state": {}
     },
     "f9b84c6f7c5f4f9c89454726c7f1dabe": {
      "model_module": "jupyter-matplotlib",
      "model_module_version": "^0.7.2",
      "model_name": "MPLCanvasModel",
      "state": {
       "_figure_label": "Figure 23",
       "_height": 396,
       "_width": 1100,
       "header_visible": false,
       "layout": "IPY_MODEL_5410f2cf10534190851d0e90e93e6690",
       "resizable": false,
       "toolbar": "IPY_MODEL_567a0c327c9a4c9197a2c6a39ad15224",
       "toolbar_position": "left",
       "toolbar_visible": false
      }
     },
     "f9bbb0783f124fd78a7de75cce569bb0": {
      "model_module": "@jupyter-widgets/base",
      "model_module_version": "1.2.0",
      "model_name": "LayoutModel",
      "state": {}
     },
     "f9c988dd575447379f937ce17e6eafac": {
      "model_module": "@jupyter-widgets/controls",
      "model_module_version": "1.5.0",
      "model_name": "FloatSliderModel",
      "state": {
       "description": "180°",
       "layout": "IPY_MODEL_4d3efb728d30463f96a616e7b3575939",
       "max": 1,
       "min": -1,
       "step": 0.01,
       "style": "IPY_MODEL_060c695c3afc44a4b624202b219e8328"
      }
     },
     "f9e1db4239e8416e9e9464df5cf0e00d": {
      "model_module": "@jupyter-widgets/controls",
      "model_module_version": "1.5.0",
      "model_name": "VBoxModel",
      "state": {
       "children": [
        "IPY_MODEL_08017c392f144022becf0870f01cd9b6"
       ],
       "layout": "IPY_MODEL_d977ef0b7ee345429aa4cbce666ccbe6"
      }
     },
     "fa0599eb072441b5a34672c479c1e11a": {
      "model_module": "@jupyter-widgets/controls",
      "model_module_version": "1.5.0",
      "model_name": "HBoxModel",
      "state": {
       "children": [
        "IPY_MODEL_ddc62796766e48deb504392502a3dac8",
        "IPY_MODEL_df077c0e2ca34bfd9bc0c63b9dbfc7e3",
        "IPY_MODEL_8d7e8f5cf65f4253aa0d108536087539"
       ],
       "layout": "IPY_MODEL_88e6a2ea039f4ccbb5b3da28896d1137"
      }
     },
     "fa1ef0eb741a4e439d06740c401476cc": {
      "model_module": "@jupyter-widgets/controls",
      "model_module_version": "1.5.0",
      "model_name": "CheckboxModel",
      "state": {
       "description": "Disable Medicina",
       "disabled": false,
       "layout": "IPY_MODEL_ccc2d065ae854e2dab675fd75deba5da",
       "style": "IPY_MODEL_9b57e41e18c943448444123ee5165625",
       "value": false
      }
     },
     "fa26df9ac990450fbbbb3e9145c7c69b": {
      "model_module": "@jupyter-widgets/base",
      "model_module_version": "1.2.0",
      "model_name": "LayoutModel",
      "state": {}
     },
     "fa3e6c0f07074b50a7960d55d4e12a4d": {
      "model_module": "@jupyter-widgets/controls",
      "model_module_version": "1.5.0",
      "model_name": "SliderStyleModel",
      "state": {
       "description_width": ""
      }
     },
     "fa721db1616e457598d4fb048ab3883b": {
      "model_module": "@jupyter-widgets/controls",
      "model_module_version": "1.5.0",
      "model_name": "ButtonStyleModel",
      "state": {}
     },
     "fab2242b0f6943a1b783f797da75a43b": {
      "model_module": "jupyter-matplotlib",
      "model_module_version": "^0.7.2",
      "model_name": "ToolbarModel",
      "state": {
       "layout": "IPY_MODEL_e38dcacf6147485ba6d25fc589317093",
       "toolitems": [
        [
         "Home",
         "Reset original view",
         "home",
         "home"
        ],
        [
         "Back",
         "Back to previous view",
         "arrow-left",
         "back"
        ],
        [
         "Forward",
         "Forward to next view",
         "arrow-right",
         "forward"
        ],
        [
         "Pan",
         "Pan axes with left mouse, zoom with right",
         "arrows",
         "pan"
        ],
        [
         "Zoom",
         "Zoom to rectangle",
         "square-o",
         "zoom"
        ],
        [
         "Download",
         "Download plot",
         "floppy-o",
         "save_figure"
        ]
       ]
      }
     },
     "fae74f95c63447b2b4e227dc989a6a53": {
      "model_module": "@jupyter-widgets/base",
      "model_module_version": "1.2.0",
      "model_name": "LayoutModel",
      "state": {}
     },
     "faf4be93312c4f75bc81a71baec3c683": {
      "model_module": "@jupyter-widgets/base",
      "model_module_version": "1.2.0",
      "model_name": "LayoutModel",
      "state": {}
     },
     "fb5a4721d40d4fad9f843646127c5416": {
      "model_module": "@jupyter-widgets/controls",
      "model_module_version": "1.5.0",
      "model_name": "SliderStyleModel",
      "state": {
       "description_width": ""
      }
     },
     "fb8306514e6145beb2980688d1736fcc": {
      "model_module": "jupyter-matplotlib",
      "model_module_version": "^0.7.2",
      "model_name": "ToolbarModel",
      "state": {
       "layout": "IPY_MODEL_f0042a95ab31499db832a7c9b03059c4",
       "toolitems": [
        [
         "Home",
         "Reset original view",
         "home",
         "home"
        ],
        [
         "Back",
         "Back to previous view",
         "arrow-left",
         "back"
        ],
        [
         "Forward",
         "Forward to next view",
         "arrow-right",
         "forward"
        ],
        [
         "Pan",
         "Pan axes with left mouse, zoom with right",
         "arrows",
         "pan"
        ],
        [
         "Zoom",
         "Zoom to rectangle",
         "square-o",
         "zoom"
        ],
        [
         "Download",
         "Download plot",
         "floppy-o",
         "save_figure"
        ]
       ]
      }
     },
     "fbc9329dec6540dc820c8d121d0ccc03": {
      "model_module": "@jupyter-widgets/controls",
      "model_module_version": "1.5.0",
      "model_name": "FloatSliderModel",
      "state": {
       "description": "90°",
       "layout": "IPY_MODEL_f0c042746a3f44d483d5f57114d2c096",
       "max": 1,
       "min": -1,
       "step": 0.01,
       "style": "IPY_MODEL_cda22d670bf74fc9aae77a8259d5ac69"
      }
     },
     "fbd246b46a8a41789a860618eb264766": {
      "model_module": "@jupyter-widgets/controls",
      "model_module_version": "1.5.0",
      "model_name": "SliderStyleModel",
      "state": {
       "description_width": ""
      }
     },
     "fc14c029ad5544479112e5d86e00192f": {
      "model_module": "@jupyter-widgets/base",
      "model_module_version": "1.2.0",
      "model_name": "LayoutModel",
      "state": {}
     },
     "fc2ee2ba7595443daefabd99462bca82": {
      "model_module": "@jupyter-widgets/base",
      "model_module_version": "1.2.0",
      "model_name": "LayoutModel",
      "state": {}
     },
     "fc31428939274d33ba333d76e5f62c90": {
      "model_module": "@jupyter-widgets/base",
      "model_module_version": "1.2.0",
      "model_name": "LayoutModel",
      "state": {}
     },
     "fc89b0d9fa8b44b19dd517440407ccc7": {
      "model_module": "@jupyter-widgets/controls",
      "model_module_version": "1.5.0",
      "model_name": "SliderStyleModel",
      "state": {
       "description_width": ""
      }
     },
     "fcb9b29b30be48f3b91d1a88330820e1": {
      "model_module": "@jupyter-widgets/base",
      "model_module_version": "1.2.0",
      "model_name": "LayoutModel",
      "state": {}
     },
     "fcde46f23bd641b5b8238ddf545de033": {
      "model_module": "@jupyter-widgets/controls",
      "model_module_version": "1.5.0",
      "model_name": "ButtonStyleModel",
      "state": {}
     },
     "fce26b72f8854bf5982fef1d082976b8": {
      "model_module": "@jupyter-widgets/base",
      "model_module_version": "1.2.0",
      "model_name": "LayoutModel",
      "state": {}
     },
     "fcef077a1e404dff97993f34b86409f6": {
      "model_module": "@jupyter-widgets/base",
      "model_module_version": "1.2.0",
      "model_name": "LayoutModel",
      "state": {}
     },
     "fd1023af1fcf478989827fbb56b8def6": {
      "model_module": "@jupyter-widgets/controls",
      "model_module_version": "1.5.0",
      "model_name": "TabModel",
      "state": {
       "_titles": {
        "0": "Global Controls",
        "1": "Viewer Controls",
        "2": "Protected Area Controls",
        "3": "Saturation Controls",
        "4": "Hue Controls"
       },
       "children": [
        "IPY_MODEL_ccfc6652694a4b65adb462c42bac2c47",
        "IPY_MODEL_33898dc1101543248d408a49dbf4dd57",
        "IPY_MODEL_ea5342fbdd1846e7b27034a0ce81127d",
        "IPY_MODEL_cedfc1c66f6441ebbe367bf26f71a974",
        "IPY_MODEL_836cffa790a84215ba4993ce7164b48b"
       ],
       "layout": "IPY_MODEL_c523941b278b4777a0446df2dfab69ec"
      }
     },
     "fd37690cc3234f988fa54663addbcf0b": {
      "model_module": "@jupyter-widgets/controls",
      "model_module_version": "1.5.0",
      "model_name": "DescriptionStyleModel",
      "state": {
       "description_width": ""
      }
     },
     "fd67c6c5e3e2433698e8088c48754684": {
      "model_module": "@jupyter-widgets/base",
      "model_module_version": "1.2.0",
      "model_name": "LayoutModel",
      "state": {}
     },
     "fd816bc76a76466d9a1ca5f52fcdbd7d": {
      "model_module": "@jupyter-widgets/controls",
      "model_module_version": "1.5.0",
      "model_name": "ButtonStyleModel",
      "state": {}
     },
     "fdac4dd1aeac4262bc5fdf30d1dca253": {
      "model_module": "@jupyter-widgets/base",
      "model_module_version": "1.2.0",
      "model_name": "LayoutModel",
      "state": {}
     },
     "fdb536b99f1746858d3946752fddca2a": {
      "model_module": "@jupyter-widgets/controls",
      "model_module_version": "1.5.0",
      "model_name": "ButtonModel",
      "state": {
       "description": "Save Figure",
       "layout": "IPY_MODEL_c1cccc5e0d1f4853884932a809973ded",
       "style": "IPY_MODEL_1b032bea858b45e7bddb7fe1b1f2216b"
      }
     },
     "fdc57c221447485e967f3d8e438b10c9": {
      "model_module": "@jupyter-widgets/controls",
      "model_module_version": "1.5.0",
      "model_name": "VBoxModel",
      "state": {
       "children": [
        "IPY_MODEL_0b40d277cd584dc09a76f52cc8116f30",
        "IPY_MODEL_1b5d49acdc1347608fb921a26c432178",
        "IPY_MODEL_6ca1dde373224d7381a216768b3ed51f"
       ],
       "layout": "IPY_MODEL_1199ba23f167498f94de3f8472073f26"
      }
     },
     "fdc8d0414f974c3d93679cc9062eed29": {
      "model_module": "@jupyter-widgets/controls",
      "model_module_version": "1.5.0",
      "model_name": "SliderStyleModel",
      "state": {
       "description_width": ""
      }
     },
     "fde711bd8a014974baefe39bf5ad07c2": {
      "model_module": "@jupyter-widgets/base",
      "model_module_version": "1.2.0",
      "model_name": "LayoutModel",
      "state": {}
     },
     "fdfde64f974d4606a6e8ed87264b9084": {
      "model_module": "jupyter-matplotlib",
      "model_module_version": "^0.7.2",
      "model_name": "ToolbarModel",
      "state": {
       "layout": "IPY_MODEL_36f7ea0686e5405eb2eb04553f0e2f2f",
       "toolitems": [
        [
         "Home",
         "Reset original view",
         "home",
         "home"
        ],
        [
         "Back",
         "Back to previous view",
         "arrow-left",
         "back"
        ],
        [
         "Forward",
         "Forward to next view",
         "arrow-right",
         "forward"
        ],
        [
         "Pan",
         "Pan axes with left mouse, zoom with right",
         "arrows",
         "pan"
        ],
        [
         "Zoom",
         "Zoom to rectangle",
         "square-o",
         "zoom"
        ],
        [
         "Download",
         "Download plot",
         "floppy-o",
         "save_figure"
        ]
       ]
      }
     },
     "fe178ea448d746c9b4cd52f8e3431ae4": {
      "model_module": "@jupyter-widgets/controls",
      "model_module_version": "1.5.0",
      "model_name": "ButtonStyleModel",
      "state": {}
     },
     "fe18af6104044858869cc3dfbc1d6c5f": {
      "model_module": "@jupyter-widgets/controls",
      "model_module_version": "1.5.0",
      "model_name": "FloatSliderModel",
      "state": {
       "description": "0°",
       "layout": "IPY_MODEL_d4d91126f79a41a4a166822f8882749c",
       "max": 1,
       "min": -1,
       "step": 0.01,
       "style": "IPY_MODEL_362b6cef410048da81e6ef43b6900c20"
      }
     },
     "fe1e149a68a04a3f987feab2948cbe1b": {
      "model_module": "@jupyter-widgets/base",
      "model_module_version": "1.2.0",
      "model_name": "LayoutModel",
      "state": {}
     },
     "fe2049b7616d49d9abbb7f534e7c66b5": {
      "model_module": "@jupyter-widgets/controls",
      "model_module_version": "1.5.0",
      "model_name": "CheckboxModel",
      "state": {
       "description": "Show Out-of-Gamut",
       "disabled": false,
       "layout": "IPY_MODEL_eaa6af5722614fe8aa5823a16bb4e24a",
       "style": "IPY_MODEL_eee73964ad1c4e76976ca3f2de1f66db",
       "value": false
      }
     },
     "fe4a36732969490ab75c7d6776b51cfd": {
      "model_module": "@jupyter-widgets/base",
      "model_module_version": "1.2.0",
      "model_name": "LayoutModel",
      "state": {}
     },
     "fe6939022bcf4181ba91b580d0ee738e": {
      "model_module": "@jupyter-widgets/base",
      "model_module_version": "1.2.0",
      "model_name": "LayoutModel",
      "state": {}
     },
     "fe6f430d9fca4814aabcc51cdae27cf4": {
      "model_module": "@jupyter-widgets/controls",
      "model_module_version": "1.5.0",
      "model_name": "ButtonStyleModel",
      "state": {}
     },
     "fe84db0e712b4426a7bc3039ba5e11ce": {
      "model_module": "@jupyter-widgets/base",
      "model_module_version": "1.2.0",
      "model_name": "LayoutModel",
      "state": {}
     },
     "fe9f1b5bde1f4951a692df960e69f48e": {
      "model_module": "@jupyter-widgets/controls",
      "model_module_version": "1.5.0",
      "model_name": "SliderStyleModel",
      "state": {
       "description_width": ""
      }
     },
     "fed207dfecf34dd9aef50cb540e80347": {
      "model_module": "@jupyter-widgets/controls",
      "model_module_version": "1.5.0",
      "model_name": "FloatSliderModel",
      "state": {
       "description": "Compression Threshold",
       "layout": "IPY_MODEL_456f117a358d4dbfac447e525d89e2ff",
       "max": 1,
       "step": 0.01,
       "style": "IPY_MODEL_976fdfd2590e402bbdc58a6ed657db1d",
       "value": 0.8
      }
     },
     "fed572f42de04490b6fa9435b85ce70d": {
      "model_module": "@jupyter-widgets/base",
      "model_module_version": "1.2.0",
      "model_name": "LayoutModel",
      "state": {}
     },
     "fef34b25d4304d3fb8106de648c407f7": {
      "model_module": "@jupyter-widgets/controls",
      "model_module_version": "1.5.0",
      "model_name": "DropdownModel",
      "state": {
       "_options_labels": [
        "tanh",
        "atan",
        "simple"
       ],
       "description": "Compression Function:",
       "index": 0,
       "layout": "IPY_MODEL_e809b1183f29487c82de1e0020a905c8",
       "style": "IPY_MODEL_1a25f5f93d574034873eddfa8fa2a0e9"
      }
     },
     "fef72376133b4dbabc066d70be4e2585": {
      "model_module": "@jupyter-widgets/base",
      "model_module_version": "1.2.0",
      "model_name": "LayoutModel",
      "state": {}
     },
     "ff0cd7f324754ad6925c3e33e74b23f9": {
      "model_module": "@jupyter-widgets/base",
      "model_module_version": "1.2.0",
      "model_name": "LayoutModel",
      "state": {}
     },
     "ff27898fd12a4aab9bdc3dc06a44201f": {
      "model_module": "@jupyter-widgets/base",
      "model_module_version": "1.2.0",
      "model_name": "LayoutModel",
      "state": {}
     },
     "ff46b12d03a44056ae4d859595e6e6c8": {
      "model_module": "@jupyter-widgets/controls",
      "model_module_version": "1.5.0",
      "model_name": "HBoxModel",
      "state": {
       "children": [
        "IPY_MODEL_2121ed9e6b0a4bdf8df5071a89ad1243",
        "IPY_MODEL_cbb1c9b8f9ac4f21b334929d4a3ae7ef",
        "IPY_MODEL_208246b3e92d4b49b4a34b54387aeefa",
        "IPY_MODEL_98bf84a9f1fc4d2885444312762efd16"
       ],
       "layout": "IPY_MODEL_a9fcdd5687b645018f4e2cc5b161807d"
      }
     },
     "ff47a5b3720d4cdf9d71e5171451138f": {
      "model_module": "@jupyter-widgets/output",
      "model_module_version": "1.0.0",
      "model_name": "OutputModel",
      "state": {
       "layout": "IPY_MODEL_0bdd90866dc44582b9c2133a741feca1",
       "outputs": [
        {
         "data": {
          "application/vnd.jupyter.widget-view+json": {
           "model_id": "f480905b6cd2433299e89547f174aeaf",
           "version_major": 2,
           "version_minor": 0
          },
          "text/plain": "Canvas(toolbar=Toolbar(toolitems=[('Home', 'Reset original view', 'home', 'home'), ('Back', 'Back to previous …"
         },
         "metadata": {},
         "output_type": "display_data"
        }
       ]
      }
     },
     "ff5dfa4aa33e483f9b476659f92c6b96": {
      "model_module": "@jupyter-widgets/base",
      "model_module_version": "1.2.0",
      "model_name": "LayoutModel",
      "state": {}
     },
     "ff7e8da92e2f419da2202792a8586855": {
      "model_module": "@jupyter-widgets/controls",
      "model_module_version": "1.5.0",
      "model_name": "ButtonStyleModel",
      "state": {}
     },
     "ff85666d2e664461ade88dbf5dfb1dc9": {
      "model_module": "@jupyter-widgets/base",
      "model_module_version": "1.2.0",
      "model_name": "LayoutModel",
      "state": {}
     },
     "ff90488fc05f4cfbbaed01d354272950": {
      "model_module": "@jupyter-widgets/base",
      "model_module_version": "1.2.0",
      "model_name": "LayoutModel",
      "state": {}
     },
     "ffaef469b2d744988ac785a062c05938": {
      "model_module": "@jupyter-widgets/controls",
      "model_module_version": "1.5.0",
      "model_name": "VBoxModel",
      "state": {
       "children": [
        "IPY_MODEL_60195a71dd51489d90a67e753276a0b3"
       ],
       "layout": "IPY_MODEL_fc2ee2ba7595443daefabd99462bca82"
      }
     },
     "fff7f24bcb38441cbea24a96ea71c9a2": {
      "model_module": "@jupyter-widgets/controls",
      "model_module_version": "1.5.0",
      "model_name": "HBoxModel",
      "state": {
       "children": [
        "IPY_MODEL_82eb1df0fd444982b7a788dfba39a1d0",
        "IPY_MODEL_577e5239f5524f30b6dcdd2902752308",
        "IPY_MODEL_3bdd656da6f8411ba96e7bab97e633fb",
        "IPY_MODEL_570b593efad1458681b7b671d1205887"
       ],
       "layout": "IPY_MODEL_a6785d5f4a1149a09322a2bb9c38cfa6"
      }
     },
     "fffb14bc22104151b97355feba02dc56": {
      "model_module": "@jupyter-widgets/controls",
      "model_module_version": "1.5.0",
      "model_name": "SliderStyleModel",
      "state": {
       "description_width": ""
      }
     }
    },
    "version_major": 2,
    "version_minor": 0
   }
  }
 },
 "nbformat": 4,
 "nbformat_minor": 4
}
