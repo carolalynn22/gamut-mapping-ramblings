{
 "cells": [
  {
   "cell_type": "markdown",
   "metadata": {
    "colab_type": "text",
    "id": "pRS6nhpu1R6y"
   },
   "source": [
    "# Gamut Mapping - Medicina 01"
   ]
  },
  {
   "cell_type": "markdown",
   "metadata": {},
   "source": [
    "## Introduction"
   ]
  },
  {
   "cell_type": "markdown",
   "metadata": {},
   "source": [
    "This notebook implements an interactive widget used to investigate various gamut models in the context for the [ACES VWG on Gamut Mapping](https://community.acescentral.com/c/aces-development-acesnext/vwg-aces-gamut-mapping-working-group/).\n",
    "\n",
    "It is assumed that the reader has some knowledge about image processing and colour management pipelines in the Media and Entertainment Industry. An introductory publication on the topic is [Cinematic Color: From Your Monitor to the Big Screen](https://cinematiccolor.org/) by Selan (2012).\n",
    "\n",
    "Because the imagery represents scene-referred exposure values, the gamut mapped images should ideally be exported and viewed with an appropriate *View Transform*, typically an *ACES RRT + sRGB ODT* transforms combination.\n",
    "\n",
    "\n",
    "Images courtesy of:\n",
    "\n",
    "- [Justin Holt](https://www.dropbox.com/sh/u6z2a0jboo4vno8/AAB-10qcflhpr0C5LWhs7Kq4a?dl=0)\n",
    "- [Thomas Mansencal](https://community.acescentral.com/t/spectral-images-generation-and-processing/)\n",
    "- [Fabian Matas](https://www.dropbox.com/sh/u6z2a0jboo4vno8/AAB-10qcflhpr0C5LWhs7Kq4a?dl=0)\n",
    "- [Carol Payne](https://www.dropbox.com/sh/u6z2a0jboo4vno8/AAB-10qcflhpr0C5LWhs7Kq4a?dl=0)\n",
    "- [Martin Smekal](https://community.acescentral.com/t/vfx-work-in-acescg-with-out-of-gamut-devices/2385)"
   ]
  },
  {
   "cell_type": "markdown",
   "metadata": {},
   "source": [
    "## Imports & Overall Settings"
   ]
  },
  {
   "cell_type": "code",
   "execution_count": 1,
   "metadata": {},
   "outputs": [],
   "source": [
    "%matplotlib widget"
   ]
  },
  {
   "cell_type": "code",
   "execution_count": 2,
   "metadata": {
    "colab": {
     "base_uri": "https://localhost:8080/",
     "height": 340
    },
    "colab_type": "code",
    "id": "OydMmtZRxd3c",
    "outputId": "297a43b9-f566-405d-e8bc-cfae56b50959"
   },
   "outputs": [
    {
     "name": "stdout",
     "output_type": "stream",
     "text": [
      "===============================================================================\n",
      "*                                                                             *\n",
      "*   Interpreter :                                                             *\n",
      "*       python : 3.7.6 (default, Dec 30 2019, 19:38:26)                       *\n",
      "*                [Clang 11.0.0 (clang-1100.0.33.16)]                          *\n",
      "*                                                                             *\n",
      "*   colour-science.org :                                                      *\n",
      "*       colour : v0.3.15-132-g8ed24e8e                                        *\n",
      "*                                                                             *\n",
      "*   Runtime :                                                                 *\n",
      "*       imageio : 2.8.0                                                       *\n",
      "*       matplotlib : 3.0.3                                                    *\n",
      "*       numpy : 1.18.4                                                        *\n",
      "*       scipy : 1.4.1                                                         *\n",
      "*       six : 1.14.0                                                          *\n",
      "*                                                                             *\n",
      "===============================================================================\n"
     ]
    }
   ],
   "source": [
    "from __future__ import division, unicode_literals\n",
    "\n",
    "import colour\n",
    "import ipympl.backend_nbagg\n",
    "import ipywidgets\n",
    "import matplotlib.gridspec as gridspec\n",
    "import matplotlib.patches as patches\n",
    "import matplotlib.pyplot as plt\n",
    "import numpy as np\n",
    "import os\n",
    "import scipy.interpolate\n",
    "from matplotlib.collections import PathCollection\n",
    "from matplotlib._layoutbox import plot_children\n",
    "\n",
    "DEFAULT_BOX_DECORATION_WIDTH = 4\n",
    "MPL_BOX_DECORATION_WIDTH = 28\n",
    "\n",
    "COLOUR_STYLE = colour.plotting.colour_style()\n",
    "COLOUR_STYLE.update({\n",
    "    'legend.framealpha':\n",
    "    colour.plotting.COLOUR_STYLE_CONSTANTS.opacity.low\n",
    "})\n",
    "\n",
    "plt.style.use(COLOUR_STYLE)\n",
    "\n",
    "plt.style.use('dark_background')\n",
    "\n",
    "colour.utilities.describe_environment()\n",
    "\n",
    "colour.utilities.filter_warnings(*[True] * 4);"
   ]
  },
  {
   "cell_type": "markdown",
   "metadata": {},
   "source": [
    "## Widgets Styling"
   ]
  },
  {
   "cell_type": "markdown",
   "metadata": {},
   "source": [
    "CSS style for various widgets to improve overall presentation."
   ]
  },
  {
   "cell_type": "code",
   "execution_count": 3,
   "metadata": {},
   "outputs": [
    {
     "data": {
      "text/html": [
       "<style>\n",
       ".widget-button {\n",
       "    margin-left: 10px;\n",
       "    margin-right: 10px;\n",
       "}\n",
       "</style>\n"
      ],
      "text/plain": [
       "<IPython.core.display.HTML object>"
      ]
     },
     "metadata": {},
     "output_type": "display_data"
    }
   ],
   "source": [
    "%%html\n",
    "<style>\n",
    ".widget-button {\n",
    "    margin-left: 10px;\n",
    "    margin-right: 10px;\n",
    "}\n",
    "</style>"
   ]
  },
  {
   "cell_type": "markdown",
   "metadata": {
    "colab_type": "text",
    "id": "5yCeFpnnp_wh"
   },
   "source": [
    "## Colour Wheel Generation"
   ]
  },
  {
   "cell_type": "markdown",
   "metadata": {},
   "source": [
    "Utility function responsible to produce a scene-referred colour wheel."
   ]
  },
  {
   "cell_type": "code",
   "execution_count": 4,
   "metadata": {
    "colab": {},
    "colab_type": "code",
    "id": "RshonIbOI4Ij"
   },
   "outputs": [],
   "source": [
    "def colour_wheel(samples=1024, clip_circle=False, method='Colour'):\n",
    "    xx, yy = np.meshgrid(\n",
    "        np.linspace(-1, 1, samples), np.linspace(-1, 1, samples))\n",
    "\n",
    "    S = np.sqrt(xx ** 2 + yy ** 2)    \n",
    "    H = (np.arctan2(xx, yy) + np.pi) / (np.pi * 2)\n",
    "\n",
    "    HSV = colour.utilities.tstack([H, S, np.ones(H.shape)])\n",
    "    RGB = colour.HSV_to_RGB(HSV)\n",
    "\n",
    "    if clip_circle == True:\n",
    "        RGB[S > 1] = 0\n",
    "        A = np.where(S > 1, 0, 1)\n",
    "    else:\n",
    "        A = np.ones(S.shape)\n",
    "\n",
    "    if method.lower()== 'matplotlib':\n",
    "        RGB = colour.utilities.orient(RGB, '90 CW')\n",
    "    elif method.lower()== 'nuke':\n",
    "        RGB = colour.utilities.orient(RGB, 'Flip')\n",
    "        RGB = colour.utilities.orient(RGB, '90 CW')\n",
    "\n",
    "    R, G, B = colour.utilities.tsplit(RGB)\n",
    "    \n",
    "    return colour.utilities.tstack([R, G, B, A])"
   ]
  },
  {
   "cell_type": "markdown",
   "metadata": {},
   "source": [
    "## Utility Functions & Objects"
   ]
  },
  {
   "cell_type": "markdown",
   "metadata": {},
   "source": [
    "Various random utility functions and objects."
   ]
  },
  {
   "cell_type": "code",
   "execution_count": 5,
   "metadata": {},
   "outputs": [],
   "source": [
    "def batch(sequence, count):\n",
    "    for i in range(0, len(sequence), count):\n",
    "        yield sequence[i:i + count]\n",
    "        \n",
    "\n",
    "def border_layout():\n",
    "    return ipywidgets.widgets.Layout(\n",
    "        border='solid {0}px #222'.format(4),\n",
    "        margin='{0}px'.format(DEFAULT_BOX_DECORATION_WIDTH),\n",
    "        padding='0')\n",
    "\n",
    "\n",
    "def adjust_exposure(a, EV):\n",
    "    a = colour.utilities.as_float_array(a)\n",
    "\n",
    "    return a * pow(2, EV)"
   ]
  },
  {
   "cell_type": "markdown",
   "metadata": {},
   "source": [
    "## Gamut Medicina Base Widget"
   ]
  },
  {
   "cell_type": "markdown",
   "metadata": {},
   "source": [
    "The `GamutMedicinaBaseWidget` base widget class is inherited by the concrete sub-classes implementing the various gamut mapping study models.\n",
    "\n",
    "At its core it is itself an `ipywidgets.widgets.Box` sub-class which outputs a [Matplotlib](http://matplotlib.org/) figure composed of three sub-plots:\n",
    "\n",
    "- **Reference Image**: Required, 1 cartesian `Axes`\n",
    "- **Colour Wheel**: Optional, 1 cartesian `Axes` and 1 polar `Axes`\n",
    "- **Chromaticity Diagram**: Optional, 1 cartesian `Axes`\n",
    "\n",
    "Trivial layout heuristic is implemented to support optionally enabling or disabling the **Colour Wheel** and **Chromaticity Diagram** sub-plots."
   ]
  },
  {
   "cell_type": "markdown",
   "metadata": {},
   "source": [
    "### Reference Image"
   ]
  },
  {
   "cell_type": "markdown",
   "metadata": {},
   "source": [
    "The **Reference Image** sub-plot is responsible for displaying the gamut mapped scene-referred imagery.\n",
    "\n",
    "*Note*\n",
    "\n",
    "> To improve the performance of the notebook, the *View Transform*, i.e. a S-Curve, converting the scene-referred imagery to output-referred values is omitted."
   ]
  },
  {
   "cell_type": "markdown",
   "metadata": {},
   "source": [
    "### Colour Wheel"
   ]
  },
  {
   "cell_type": "markdown",
   "metadata": {},
   "source": [
    "The **Colour Wheel** sub-plot is used to represent the controls for the gamut mapping study models adopting a cylindrical or conic working space.\n",
    "\n",
    "The colour wheel is drawn on a cartesian `Axes` on top of which is overlayed a polar `Axes` used to draw the control regions."
   ]
  },
  {
   "cell_type": "markdown",
   "metadata": {},
   "source": [
    "### Chromaticity Diagram"
   ]
  },
  {
   "cell_type": "markdown",
   "metadata": {},
   "source": [
    "The **Chromaticity Diagram** sub-plot is also used to represent the controls for the gamut mapping study models into the *Chromaticity Diagram 1976 UCS* based on the [CIE L\\*u\\*v\\*](https://fr.wikipedia.org/wiki/L*u*v*_CIE_1976) colourspace.\n",
    "\n",
    "It also features the following elements:\n",
    "\n",
    "- *RGB Working Space* gamut, i.e. *ACEScg/AP1*, large triangle\n",
    "- *RGB Display Space* gamut, i.e. *sRGB*, small triangle\n",
    "- Scatter of the decimated **Reference Image** data\n",
    "- Scatter of the ColorChecker Classic data, white scatter points\n"
   ]
  },
  {
   "cell_type": "code",
   "execution_count": 6,
   "metadata": {},
   "outputs": [
    {
     "data": {
      "application/vnd.jupyter.widget-view+json": {
       "model_id": "3d3c7851be3841e589e461c7288350d2",
       "version_major": 2,
       "version_minor": 0
      },
      "text/plain": [
       "GamutMedicinaBaseWidget(children=(Output(layout=Layout(border='solid 4px #222', margin='4px', padding='0')), T…"
      ]
     },
     "metadata": {},
     "output_type": "display_data"
    }
   ],
   "source": [
    "class GamutMedicinaBaseWidget(ipywidgets.widgets.Box):\n",
    "    def __init__(self,\n",
    "                 reference_image_path=None,\n",
    "                 working_space=colour.models.ACES_CG_COLOURSPACE,\n",
    "                 reference_space=colour.models.ACES_2065_1_COLOURSPACE,\n",
    "                 display_space=colour.models.sRGB_COLOURSPACE,\n",
    "                 colour_wheel_samples=256,\n",
    "                 image_decimation=10,\n",
    "                 reference_image_exposure=0,\n",
    "                 figure_size=(11, None),\n",
    "                 padding=0.005,\n",
    "                 spacing=0.005,\n",
    "                 show_labels=False,\n",
    "                 enable_colour_wheel=True,\n",
    "                 enable_chromaticity_diagram=True,\n",
    "                 debug_layout=False):\n",
    "        super().__init__()\n",
    "\n",
    "        self._reference_image_path = reference_image_path\n",
    "        self._working_space = working_space\n",
    "        self._reference_space = reference_space\n",
    "        self._display_space = display_space\n",
    "        self._colour_wheel_samples = colour_wheel_samples\n",
    "        self._image_decimation = image_decimation\n",
    "        self._reference_image_exposure = reference_image_exposure\n",
    "        self._figure_size = figure_size\n",
    "        self._padding = padding\n",
    "        self._spacing = spacing\n",
    "        self._show_labels = show_labels\n",
    "        self._enable_colour_wheel = enable_colour_wheel\n",
    "        self._enable_chromaticity_diagram = enable_chromaticity_diagram\n",
    "\n",
    "        self._enable = True\n",
    "\n",
    "        self._reference_image = None\n",
    "        self._reference_image_pre_working = None\n",
    "        self._reference_image_working = None\n",
    "        self._reference_image_mapped = None\n",
    "        self._reference_image_display = None\n",
    "\n",
    "        if self._enable_colour_wheel:\n",
    "            self._colour_wheel = None\n",
    "\n",
    "        if self._enable_chromaticity_diagram:\n",
    "            self._decimated_image_pre_working = None\n",
    "            self._decimated_image_working = None\n",
    "            self._decimated_image_display = None\n",
    "\n",
    "        self._colour_checker = None\n",
    "        self._colour_checker_uv = None\n",
    "\n",
    "        self._output = None\n",
    "        self._figure = None\n",
    "        self._grid_spec = None\n",
    "        self._reference_image_axes = None\n",
    "        self._reference_image_imshow = None\n",
    "\n",
    "        if self._enable_colour_wheel:\n",
    "            self._colour_wheel_cartersian_axes = None\n",
    "            self._colour_wheel_imshow = None\n",
    "            self._colour_wheel_polar_axes = None\n",
    "\n",
    "        if self._enable_chromaticity_diagram:\n",
    "            self._chromaticity_diagram_axes = None\n",
    "            self._scatter_offsets_i = None\n",
    "            self._scatter_facecolor_i = None\n",
    "\n",
    "        self._disable_medidicina_CheckBox = None\n",
    "        self._global_controls_HBox = None\n",
    "        self._controls_Tab = None\n",
    "\n",
    "        self.initialize_data()\n",
    "        self.initialize_axes()\n",
    "        self.initialise_widgets()\n",
    "        self.attach_callbacks()\n",
    "\n",
    "        if debug_layout:\n",
    "            plot_children(self._figure, self._figure._layoutbox, printit=False)\n",
    "\n",
    "    def initialize_data(self):\n",
    "        # *** Reference Image ***\n",
    "        self._reference_image = (colour.read_image(self._reference_image_path)\n",
    "                                 if self._reference_image_path is not None else\n",
    "                                 np.random.rand(540, 960, 3))\n",
    "        self._reference_image_path = (self._reference_image_path\n",
    "                                      if self._reference_image_path is not None\n",
    "                                      else 'Random.exr')\n",
    "        self._reference_image_pre_working = self.reference_space_to_working_space(\n",
    "            self._reference_image)\n",
    "        self._reference_image_working = self._reference_image_pre_working\n",
    "        self._reference_image_mapped =self._reference_image_pre_working\n",
    "        self._reference_image_display = self.working_space_to_display_space(\n",
    "            self._reference_image_working)\n",
    "\n",
    "        # *** Colour Wheel ***\n",
    "        if self._enable_colour_wheel:\n",
    "            self._colour_wheel = colour_wheel(\n",
    "                self._colour_wheel_samples,\n",
    "                method='Matplotlib')\n",
    "\n",
    "        # *** Decimated Image, i.e. Scatter ***\n",
    "        if self._enable_chromaticity_diagram:\n",
    "            self._decimated_image_pre_working = (\n",
    "                self._reference_image_working[::self._image_decimation, ::\n",
    "                                              self._image_decimation, :]).reshape(-1, 3)\n",
    "            self._decimated_image_working = self._decimated_image_pre_working\n",
    "            self._decimated_image_display = (\n",
    "                self.working_space_to_display_space(\n",
    "                    self._decimated_image_working))\n",
    "\n",
    "        # *** Colour Checker\n",
    "        colour_checker = colour.COLOURCHECKERS[\n",
    "            'ColorChecker24 - After November 2014']\n",
    "        colour_checker_data = colour.utilities.as_float_array(\n",
    "            list(colour_checker.data.values()))\n",
    "        self._colour_checker_uv = colour.xy_to_Luv_uv(\n",
    "            colour_checker_data[:, 0:2])\n",
    "\n",
    "    def initialize_axes(self):\n",
    "        self._output = ipywidgets.widgets.Output()\n",
    "\n",
    "        image_height, image_width, channels = self._reference_image.shape\n",
    "        if self._figure_size[-1] is None:\n",
    "            if self._enable_colour_wheel and self._enable_chromaticity_diagram:\n",
    "                width = image_height / 2 + image_width\n",
    "                height = image_height - self._padding * 100 - self._spacing * 100\n",
    "                # Unresolved fudge factor to ensure plots line up.\n",
    "                height -= int(height * 0.05)\n",
    "            elif self._enable_colour_wheel or self._enable_chromaticity_diagram:\n",
    "                width = image_height + image_width\n",
    "                height = image_height\n",
    "            else:\n",
    "                width = image_width\n",
    "                height = image_height\n",
    "            ratio = self._figure_size[0] * 100 / width\n",
    "            figure_size = (width / 100 * ratio, height / 100 * ratio)\n",
    "        else:\n",
    "            figure_size = self._figure_size\n",
    "\n",
    "        with self._output:\n",
    "            self._figure = plt.figure(\n",
    "                figsize=figure_size,\n",
    "                constrained_layout=True,\n",
    "                facecolor=[2 / 3 / 10] * 3)\n",
    "            self._figure.canvas.toolbar_visible = False\n",
    "            self._figure.canvas.header_visible = False\n",
    "            self._figure.canvas.footer_visible = True\n",
    "            self._figure.canvas.resizable = False\n",
    "            self._figure.tight_layout()\n",
    "\n",
    "        if self._enable_colour_wheel and self._enable_chromaticity_diagram:\n",
    "            rows = columns = 2\n",
    "            colour_wheel_indices = 0, 0\n",
    "            chromaticity_diagram_indices = 1, 0\n",
    "            reference_image_indices = slice(0, None, None), slice(\n",
    "                1, None, None)\n",
    "            width_ratios = [1, 2 * image_width / image_height]\n",
    "        elif not self._enable_colour_wheel and not self._enable_chromaticity_diagram:\n",
    "            rows = columns = 1\n",
    "            colour_wheel_indices = chromaticity_diagram_indices = None\n",
    "            reference_image_indices = 0, 0\n",
    "            width_ratios = [1]\n",
    "        else:\n",
    "            rows = 1\n",
    "            columns = 2\n",
    "            colour_wheel_indices = chromaticity_diagram_indices = 0, 0\n",
    "            reference_image_indices = 0, 1\n",
    "            width_ratios = [1, image_width / image_height]\n",
    "\n",
    "        self._grid_spec = gridspec.GridSpec(\n",
    "            ncols=columns,\n",
    "            nrows=rows,\n",
    "            figure=self._figure,\n",
    "            width_ratios=width_ratios,\n",
    "            wspace=self._spacing,\n",
    "            hspace=self._spacing)\n",
    "        self._figure.set_constrained_layout_pads(\n",
    "            w_pad=self._padding,\n",
    "            h_pad=self._padding)\n",
    "\n",
    "        # Colour Wheel Axes\n",
    "        if self._enable_colour_wheel:\n",
    "            self._colour_wheel_cartersian_axes = self._figure.add_subplot(\n",
    "                self._grid_spec[colour_wheel_indices[0], colour_wheel_indices[\n",
    "                    1]],\n",
    "                label='Cartesian Axes')\n",
    "            self._colour_wheel_cartersian_axes.axis('off')\n",
    "            circle = patches.Circle(\n",
    "                [0.5, 0.5], radius=0.5, transform=self._colour_wheel_cartersian_axes.transData)\n",
    "            self._colour_wheel_imshow = self._colour_wheel_cartersian_axes.imshow(\n",
    "                np.clip(self._colour_wheel, 0, 1), extent=[0, 1, 0, 1], clip_path=None)\n",
    "            self._colour_wheel_imshow.set_clip_path(circle)\n",
    "\n",
    "            self._colour_wheel_polar_axes = self._figure.add_subplot(\n",
    "                self._grid_spec[colour_wheel_indices[0], colour_wheel_indices[\n",
    "                    1]],\n",
    "                projection='polar',\n",
    "                label='Polar Axes')\n",
    "            self._colour_wheel_polar_axes.set_xlim(0, np.pi * 2)\n",
    "            self._colour_wheel_polar_axes.set_ylim(0, 1)\n",
    "            self._colour_wheel_polar_axes.patch.set_alpha(0)\n",
    "            self._colour_wheel_polar_axes.grid(alpha=0.15)\n",
    "            if not self._show_labels:\n",
    "                self._colour_wheel_polar_axes.set_xticklabels([])\n",
    "            self._colour_wheel_polar_axes.set_yticklabels([])\n",
    "\n",
    "        # Chromaticity Diagram Axes\n",
    "        if self._enable_chromaticity_diagram:\n",
    "            self._chromaticity_diagram_axes = self._figure.add_subplot(\n",
    "                self._grid_spec[chromaticity_diagram_indices[0],\n",
    "                                chromaticity_diagram_indices[1]])\n",
    "            self._chromaticity_diagram_axes.patch.set_alpha(0)\n",
    "            (colour.plotting.\n",
    "             plot_RGB_chromaticities_in_chromaticity_diagram_CIE1976UCS(\n",
    "                 self._decimated_image_working,\n",
    "                 colourspace=self._working_space,\n",
    "                 colourspaces=['sRGB'],\n",
    "                 axes=self._chromaticity_diagram_axes,\n",
    "                 standalone=False,\n",
    "                 transparent_background=False,\n",
    "                 spectral_locus_colours='RGB',\n",
    "                 spectral_locus_labels=[],\n",
    "                 diagram_opacity=0,\n",
    "                 scatter_kwargs={'s': 1},\n",
    "                 title=str(),\n",
    "                 x_label=str(),\n",
    "                 y_label=str(),\n",
    "                 legend=False))\n",
    "            self._chromaticity_diagram_axes.tick_params(\n",
    "                axis='y', which='both', direction='in')\n",
    "            self._chromaticity_diagram_axes.tick_params(\n",
    "                axis='x', which='both', direction='in')\n",
    "            self._chromaticity_diagram_axes.minorticks_off()\n",
    "            self._chromaticity_diagram_axes.grid(alpha=0.15)\n",
    "            for collection in self._chromaticity_diagram_axes.collections:\n",
    "                if isinstance(collection, PathCollection):\n",
    "                    self._scatter_path_collection = collection\n",
    "                    break\n",
    "            \n",
    "            if not self._show_labels:\n",
    "                self._chromaticity_diagram_axes.set_xticklabels([])\n",
    "                self._chromaticity_diagram_axes.set_yticklabels([])\n",
    "\n",
    "            self._scatter_offsets_i = self._scatter_path_collection.get_offsets(\n",
    "            )\n",
    "            self._scatter_facecolor_i = self._scatter_path_collection.get_facecolor(\n",
    "            )\n",
    "            self._chromaticity_diagram_axes.scatter(\n",
    "                self._colour_checker_uv[:, 0],\n",
    "                self._colour_checker_uv[:, 1],\n",
    "                c='white',\n",
    "                marker='D',\n",
    "                s=5)\n",
    "\n",
    "        # Reference Image Axes\n",
    "        self._reference_image_axes = self._figure.add_subplot(self._grid_spec[\n",
    "            reference_image_indices[0], reference_image_indices[1]])\n",
    "        self._reference_image_axes.set_xticks([])\n",
    "        self._reference_image_axes.set_yticks([])\n",
    "        self._reference_image_imshow = self._reference_image_axes.imshow(\n",
    "            self.working_space_to_display_space(self._reference_image_working))\n",
    "\n",
    "    def initialise_widgets(self):\n",
    "        # *** Widgets ***\n",
    "        self._disable_medidicina_CheckBox = (\n",
    "            ipywidgets.widgets.Checkbox(description='Disable Medicina'))\n",
    "        self._export_reference_image_Button = (\n",
    "            ipywidgets.widgets.Button(description=\"Export Image\"))\n",
    "        self._save_figure_image_Button = (\n",
    "            ipywidgets.widgets.Button(description=\"Save Figure\"))\n",
    "        self._reset_exposure_Button = (\n",
    "            ipywidgets.widgets.Button(description=\"Reset Exposure\"))\n",
    "        self._exposure_FloatSlider = (\n",
    "            ipywidgets.widgets.FloatSlider(\n",
    "                min=-8.0,\n",
    "                max=8.0,\n",
    "                step=0.1,\n",
    "                value=self._reference_image_exposure,\n",
    "                description='Exposure'))\n",
    "        \n",
    "        # *** Layout ***\n",
    "        self.layout.display = 'flex'\n",
    "        self.layout.flex_flow = 'column'\n",
    "        self.layout.align_items = 'stretch'\n",
    "        self.layout.width = '{0}px'.format(self._figure_size[0] * 100 +\n",
    "                                           MPL_BOX_DECORATION_WIDTH)\n",
    "\n",
    "        self._global_controls_HBox = ipywidgets.widgets.HBox([\n",
    "            self._disable_medidicina_CheckBox,\n",
    "            self._export_reference_image_Button,\n",
    "            self._save_figure_image_Button,\n",
    "            self._reset_exposure_Button,\n",
    "            self._exposure_FloatSlider,\n",
    "        ])\n",
    "\n",
    "        self._controls_Tab = ipywidgets.widgets.Tab(children=[\n",
    "            self._global_controls_HBox,\n",
    "        ])\n",
    "        self._controls_Tab.set_title(0, 'Global Controls')\n",
    "\n",
    "        self._controls_Tab.layout = border_layout()\n",
    "\n",
    "        self._output.layout = border_layout()\n",
    "        self.children = [self._output, self._controls_Tab]\n",
    "\n",
    "    def attach_callbacks(self):\n",
    "        self._disable_medidicina_CheckBox.observe(self.toggle_medidicina)\n",
    "        self._export_reference_image_Button.on_click(\n",
    "            self.export_reference_image)\n",
    "        self._save_figure_image_Button.on_click(self.save_figure)\n",
    "        self._reset_exposure_Button.on_click(self.reset_exposure)\n",
    "        self._exposure_FloatSlider.observe(\n",
    "            self.set_exposure, 'value')\n",
    "\n",
    "    def reference_space_to_working_space(self, RGB):\n",
    "        return colour.RGB_to_RGB(RGB, self._reference_space,\n",
    "                                 self._working_space)\n",
    "\n",
    "    def working_space_to_reference_space(self, RGB):\n",
    "        return colour.RGB_to_RGB(RGB, self._working_space,\n",
    "                                 self._reference_space)\n",
    "\n",
    "    def working_space_to_display_space(self,\n",
    "                                       RGB,\n",
    "                                       apply_encoding_cctf=True,\n",
    "                                       clip=True):\n",
    "        RGB = colour.RGB_to_RGB(\n",
    "            RGB,\n",
    "            self._working_space,\n",
    "            self._display_space,\n",
    "            apply_encoding_cctf=apply_encoding_cctf)\n",
    "\n",
    "        if clip:\n",
    "            return np.clip(RGB, 0, 1)\n",
    "        else:\n",
    "            return RGB\n",
    "\n",
    "    def update_scatter_plot(self, RGB):\n",
    "        if self._enable_chromaticity_diagram:\n",
    "            RGB = RGB[RGB[:, 1].argsort()]\n",
    "            XYZ = colour.RGB_to_XYZ(RGB, self._working_space.whitepoint,\n",
    "                                    self._working_space.whitepoint,\n",
    "                                    self._working_space.RGB_to_XYZ_matrix)\n",
    "            uv = colour.Luv_to_uv(\n",
    "                colour.XYZ_to_Luv(XYZ, self._working_space.whitepoint),\n",
    "                self._working_space.whitepoint)\n",
    "            self._scatter_path_collection.set_offsets(uv)\n",
    "            self._scatter_path_collection.set_facecolor(\n",
    "                self.working_space_to_display_space(RGB))\n",
    "\n",
    "    def toggle_medidicina(self, change):\n",
    "        if not change:\n",
    "            return\n",
    "\n",
    "        if change['name'] == 'value':\n",
    "            self._enable = not change['new']\n",
    "\n",
    "            self.update_widget(None)\n",
    "\n",
    "    def export_reference_image(self, change):\n",
    "        path = os.path.splitext(self._reference_image_path)[0]\n",
    "\n",
    "        colour.write_image(\n",
    "            self.working_space_to_reference_space(\n",
    "                self._reference_image_mapped), '{0}_{1}.exr'.format(\n",
    "                    path, self.__class__.__name__))\n",
    "\n",
    "    def save_figure(self, change):\n",
    "        path = os.path.splitext(self._reference_image_path)[0]\n",
    "        plt.savefig('{0}_{1}.png'.format(path, self.__class__.__name__),\n",
    "                   facecolor=[2 / 3 / 10] * 3, transparent=False, bbox_inches='tight')\n",
    "\n",
    "    def reset_exposure(self, change):\n",
    "        self._exposure_FloatSlider.value = 0\n",
    "        \n",
    "        self.set_exposure(0)\n",
    "\n",
    "    def set_exposure(self, change):\n",
    "        if not change:\n",
    "            return\n",
    "\n",
    "        if change['name'] == 'value':\n",
    "            EV = self._exposure_FloatSlider.value\n",
    "            self._reference_image_working = adjust_exposure(\n",
    "                self._reference_image_pre_working, EV)\n",
    "\n",
    "            if self._enable_chromaticity_diagram:\n",
    "                self._decimated_image_working = adjust_exposure(\n",
    "                self._decimated_image_pre_working, EV)\n",
    "            \n",
    "            self.update_widget(None)\n",
    "\n",
    "    def update_widget(self, change):\n",
    "        if not self._enable:\n",
    "            self._reference_image_imshow.set_data(self.working_space_to_display_space(\n",
    "                self._reference_image_working))\n",
    "        \n",
    "            if self._enable_chromaticity_diagram:\n",
    "                self.update_scatter_plot(self._decimated_image_working)\n",
    "\n",
    "            self._figure.canvas.draw_idle()\n",
    "\n",
    "\n",
    "GamutMedicinaBaseWidget()"
   ]
  },
  {
   "cell_type": "code",
   "execution_count": 7,
   "metadata": {},
   "outputs": [
    {
     "data": {
      "application/vnd.jupyter.widget-view+json": {
       "model_id": "ae651a4d398d472ca50ae5a0d99bf2ba",
       "version_major": 2,
       "version_minor": 0
      },
      "text/plain": [
       "GamutMedicinaBaseWidget(children=(Output(layout=Layout(border='solid 4px #222', margin='4px', padding='0')), T…"
      ]
     },
     "metadata": {},
     "output_type": "display_data"
    }
   ],
   "source": [
    "GamutMedicinaBaseWidget(enable_colour_wheel=False)"
   ]
  },
  {
   "cell_type": "code",
   "execution_count": 8,
   "metadata": {},
   "outputs": [
    {
     "data": {
      "application/vnd.jupyter.widget-view+json": {
       "model_id": "6df2d9b2c6734c8c85227bfe235be371",
       "version_major": 2,
       "version_minor": 0
      },
      "text/plain": [
       "GamutMedicinaBaseWidget(children=(Output(layout=Layout(border='solid 4px #222', margin='4px', padding='0')), T…"
      ]
     },
     "metadata": {},
     "output_type": "display_data"
    }
   ],
   "source": [
    "GamutMedicinaBaseWidget(enable_chromaticity_diagram=False)"
   ]
  },
  {
   "cell_type": "code",
   "execution_count": 9,
   "metadata": {},
   "outputs": [
    {
     "data": {
      "application/vnd.jupyter.widget-view+json": {
       "model_id": "c3eb47c8c8e14770bb71b9603af6ad3f",
       "version_major": 2,
       "version_minor": 0
      },
      "text/plain": [
       "GamutMedicinaBaseWidget(children=(Output(layout=Layout(border='solid 4px #222', margin='4px', padding='0')), T…"
      ]
     },
     "metadata": {},
     "output_type": "display_data"
    }
   ],
   "source": [
    "GamutMedicinaBaseWidget(\n",
    "    enable_colour_wheel=False, enable_chromaticity_diagram=False)"
   ]
  },
  {
   "cell_type": "markdown",
   "metadata": {},
   "source": [
    "## Compression & Blending Functions"
   ]
  },
  {
   "cell_type": "markdown",
   "metadata": {},
   "source": [
    "Gamut mapping commonly involves compressing data from a larger space to a smaller space.\n",
    "\n",
    "Three sigmoid compression functions are defined:\n",
    "\n",
    "- **tanh**, a function based on the *Hyperbolic Tangent*:\n",
    "$$a + b \\cdot tanh\\bigg(\\cfrac{x - a}{b}\\bigg)$$ where $a$ is the compression threshold, i.e. the point at which the function starts compressing the value $x$ and $b$ is the compression limit, i.e. the point at which the compression reaches the limit.\n",
    "- **atan**, a function based on the *Arc Tangent*:\n",
    "$$a + b \\cdot\\cfrac{2}{\\pi}\\cdot atan\\Bigg(\\cfrac{\\cfrac{\\pi}{2}\\cdot\\big(x - a\\big)}{b}\\Bigg)$$\n",
    "- **Simple**, a simple compression function:\n",
    "$$a + \\Bigg(\\cfrac{-1}{\\bigg(\\cfrac{x - a}{b} + 1\\bigg)} + 1 \\Bigg) \\cdot b$$"
   ]
  },
  {
   "cell_type": "code",
   "execution_count": 10,
   "metadata": {},
   "outputs": [],
   "source": [
    "def tanh_compression_function(x, a=0.8, b=1 - 0.8):\n",
    "    x = colour.utilities.as_float_array(x)\n",
    "\n",
    "    return np.where(x > a, a + b * np.tanh((x - a) / b), x)\n",
    "\n",
    "\n",
    "def atan_compression_function(x, a=0.8, b=1 - 0.8):\n",
    "    x = colour.utilities.as_float_array(x)\n",
    "\n",
    "    return np.where(x > a, a + b * 2 / np.pi * np.arctan(((np.pi / 2) * (x - a)) / b), x)\n",
    "\n",
    "\n",
    "def simple_compression_function(x, a=0.8, b=1 - 0.8):\n",
    "    x = colour.utilities.as_float_array(x)\n",
    "\n",
    "    return np.where(x > a, a + (-1 / ((x - a) / b + 1) + 1) * b, x)\n",
    "\n",
    "\n",
    "COMPRESSION_FUNCTIONS = {\n",
    "    'tanh' : tanh_compression_function,\n",
    "    'atan' : atan_compression_function,\n",
    "    'simple' : simple_compression_function,\n",
    "}\n",
    "\n",
    "\n",
    "def smoothstep(x, a=0, b=1):\n",
    "    i = np.clip((x - a) / (b - a), 0, 1)\n",
    "\n",
    "    return i**2 * (3 - 2 * i)\n",
    "\n",
    "\n",
    "def derivative(x, func, d=1e-7):\n",
    "    return (func(x + d) - func(x - d)) / (2 * d)"
   ]
  },
  {
   "cell_type": "code",
   "execution_count": 11,
   "metadata": {},
   "outputs": [
    {
     "data": {
      "application/vnd.jupyter.widget-view+json": {
       "model_id": "3d06bb52f90b4ce5bfaa97cdb952caa1",
       "version_major": 2,
       "version_minor": 0
      },
      "text/plain": [
       "Canvas(toolbar=Toolbar(toolitems=[('Home', 'Reset original view', 'home', 'home'), ('Back', 'Back to previous …"
      ]
     },
     "metadata": {},
     "output_type": "display_data"
    }
   ],
   "source": [
    "colour.plotting.plot_multi_functions(\n",
    "    {\n",
    "        'tanh': tanh_compression_function,\n",
    "        'd/dx(tanh)': lambda x: derivative(x, tanh_compression_function),\n",
    "        'atan': atan_compression_function,\n",
    "        'd/dx(atan)': lambda x: derivative(x, atan_compression_function),\n",
    "        'simple': simple_compression_function,\n",
    "        'd/dx(simple)': lambda x: derivative(x, simple_compression_function),\n",
    "    },\n",
    "    **{\n",
    "        'figure.figsize': (11, 11),\n",
    "        'bounding_box': (0.5, 1.75, 0, 1.25),\n",
    "        'samples':\n",
    "        np.linspace(0, 2, 1000),\n",
    "        'plot_kwargs': [\n",
    "            {\n",
    "                'c': 'r',\n",
    "                'linestyle': 'dashdot'\n",
    "            },\n",
    "            {\n",
    "                'c': 'r'\n",
    "            },\n",
    "            {\n",
    "                'c': 'g',\n",
    "                'linestyle': 'dashdot'\n",
    "            },\n",
    "            {\n",
    "                'c': 'g'\n",
    "            },\n",
    "            {\n",
    "                'c': 'b',\n",
    "                'linestyle': 'dashdot'\n",
    "            },\n",
    "            {\n",
    "                'c': 'b'\n",
    "            },\n",
    "        ]\n",
    "    },\n",
    ");"
   ]
  },
  {
   "cell_type": "markdown",
   "metadata": {},
   "source": [
    "## Mansencal and Scharfenberg (2020) - HSV Control Based Study Model"
   ]
  },
  {
   "cell_type": "markdown",
   "metadata": {},
   "source": [
    "*Mansencal and Scharfenberg (2020)* gamut mapping study model is built on top of the [HSV colourspace](https://en.wikipedia.org/wiki/HSL_and_HSV):\n",
    "\n",
    "- Scene-referred RGB exposure values are converted to HSV.\n",
    "- The saturation component $S$ is compressed with a cherry-picked compression function, e.g. $tanh$.\n",
    "- The hue component $H$ is warped according to user defined control values.\n",
    "- The HSV values are converted back to scene-referred RGB exposure values and then blended with the original scene-referred RGB exposure values function through a smoothstep function.\n",
    "\n",
    "The model offers good controls but might tend to exhibit excessive saturation of secondary colours, i.e. cyan, yellow and especially magenta.\n",
    "This can be tuned with the hue controls.\n",
    "\n",
    "More information is available on [ACEScentral](https://community.acescentral.com/t/gamut-mapping-in-cylindrical-and-conic-spaces/)."
   ]
  },
  {
   "cell_type": "code",
   "execution_count": 12,
   "metadata": {},
   "outputs": [
    {
     "data": {
      "application/vnd.jupyter.widget-view+json": {
       "model_id": "7f8c569911d64b3cae327cd733468206",
       "version_major": 2,
       "version_minor": 0
      },
      "text/plain": [
       "GamutMedicinaHSVControlWidget(children=(Output(layout=Layout(border='solid 4px #222', margin='4px', padding='0…"
      ]
     },
     "metadata": {},
     "output_type": "display_data"
    }
   ],
   "source": [
    "def medicina_HSV_control(RGB, H, S, V, H_x, H_y, S_c, S_m, C_f, HSV_to_RGB):\n",
    "    S_m = S_m[..., np.newaxis]\n",
    "\n",
    "    interpolator = scipy.interpolate.interp1d(H_x, H_y)\n",
    "\n",
    "    HSV_c = colour.utilities.tstack(\n",
    "        [interpolator(H) % 1, C_f(S, S_c, 1 - S_c), V])\n",
    "\n",
    "    return HSV_to_RGB(HSV_c) * S_m + RGB * (1 - S_m)\n",
    "\n",
    "\n",
    "class GamutMedicinaHSVControlWidget(GamutMedicinaBaseWidget):\n",
    "    def __init__(self,\n",
    "                 reference_image=None,\n",
    "                 hue_wedge=45,\n",
    "                 protected_area_threshold=0.7,\n",
    "                 compression_threshold=0.8,\n",
    "                 compression_function='tanh',\n",
    "                 RGB_to_HSV=colour.RGB_to_HSV,\n",
    "                 HSV_to_RGB=colour.HSV_to_RGB,\n",
    "                 *args,\n",
    "                 **kwargs):\n",
    "\n",
    "        self._hue_wedge = hue_wedge\n",
    "        self._protected_area_threshold = protected_area_threshold\n",
    "        self._compression_threshold = compression_threshold\n",
    "        self._compression_function = compression_function\n",
    "\n",
    "        self.RGB_to_HSV = RGB_to_HSV\n",
    "        self.HSV_to_RGB = HSV_to_RGB\n",
    "\n",
    "        super().__init__(reference_image, *args, **kwargs)\n",
    "\n",
    "        self._RGB_r = None\n",
    "        self._H_r = self._S_r = self._V_r = None\n",
    "        self._S_r_m = None\n",
    "\n",
    "        if self._enable_colour_wheel:\n",
    "            self._RGB_w = None\n",
    "            self._H_w = self._S_w = self._V_w = None\n",
    "            self._S_w_m = None\n",
    "\n",
    "        if self._enable_chromaticity_diagram:\n",
    "            self._RGB_d = None\n",
    "            self._H_d = self._S_d = self._V_d = None\n",
    "            self._S_d_m = None\n",
    "\n",
    "        self._angles = None\n",
    "        self._x_i = self._y_i = self._y_i = None\n",
    "\n",
    "        if self._enable_colour_wheel:\n",
    "            self._protected_area_threshold_colour_wheel_plot = None\n",
    "            self._compression_threshold_colour_wheel_plot = None\n",
    "            self._hue_controls_plot = None\n",
    "\n",
    "        if self._enable_chromaticity_diagram:\n",
    "            self._protected_area_threshold_chromaticity_diagram_plot = None\n",
    "            self._compression_threshold_chromaticity_diagram_plot = None\n",
    "\n",
    "        self._reset_protected_area_controls_Button = None\n",
    "        self._protected_area_threshold_FloatSlider = None\n",
    "        self._reset_compression_controls_Button = None\n",
    "        self._compression_threshold_FloatSlider = None\n",
    "        self._reset_hue_controls_Button = None\n",
    "        self._wedge_controls = None\n",
    "        self._protected_area_controls_HBox = None\n",
    "        self._saturation_controls_HBox = None\n",
    "        self._hue_controls_HBox = None\n",
    "\n",
    "        self.initialize_data()\n",
    "        self.initialize_axes()\n",
    "        self.initialise_widgets()\n",
    "        self.attach_callbacks()\n",
    "\n",
    "        self.update_widget(None)\n",
    "\n",
    "    def initialize_data(self):\n",
    "        super().initialize_data()\n",
    "\n",
    "        # *** Reference Image ***\n",
    "        self._RGB_r = self._reference_image_working\n",
    "        self._H_r, self._S_r, self._V_r = colour.utilities.tsplit(\n",
    "            self.RGB_to_HSV(self._reference_image_working))\n",
    "        self._S_r_m = smoothstep(self._S_r, self._protected_area_threshold,\n",
    "                                 self._compression_threshold)\n",
    "\n",
    "        # *** Colour Wheel ***\n",
    "        if self._enable_colour_wheel:\n",
    "            self._RGB_w = self._colour_wheel[..., 0:3]\n",
    "            self._H_w, self._S_w, self._V_w = colour.utilities.tsplit(\n",
    "                self.RGB_to_HSV(self._RGB_w))\n",
    "            self._S_w_m = smoothstep(self._S_w, self._protected_area_threshold,\n",
    "                                     self._compression_threshold)\n",
    "\n",
    "        # *** Decimated Image, i.e. Scatter ***\n",
    "        if self._enable_chromaticity_diagram:\n",
    "            self._RGB_d = self._decimated_image_working\n",
    "            self._H_d, self._S_d, self._V_d = colour.utilities.tsplit(\n",
    "                self.RGB_to_HSV(self._decimated_image_working))\n",
    "            self._S_d_m = smoothstep(self._S_d, self._protected_area_threshold,\n",
    "                                     self._compression_threshold)\n",
    "\n",
    "        # *** Angles ***\n",
    "        self._angles = np.arange(0, 360, self._hue_wedge) / 360\n",
    "\n",
    "        # *** Initial State ***\n",
    "        self._x_i = np.hstack([self._angles, 1])\n",
    "        self._y_i = self._angles\n",
    "        self._y_i = np.hstack([self._y_i, self._y_i[0] + 1])\n",
    "\n",
    "    def initialize_axes(self):\n",
    "        super().initialize_axes()\n",
    "\n",
    "        circumference = np.linspace(0, np.pi * 2, self._colour_wheel_samples)\n",
    "        # Colour Wheel Axes\n",
    "        if self._enable_colour_wheel:\n",
    "            self._protected_area_threshold_colour_wheel_plot = (\n",
    "                self._colour_wheel_polar_axes.plot(\n",
    "                    circumference,\n",
    "                    np.full(self._colour_wheel_samples,\n",
    "                            self._protected_area_threshold),\n",
    "                    linestyle='dotted',\n",
    "                    color='yellow')[0])\n",
    "            self._compression_threshold_colour_wheel_plot = (\n",
    "                self._colour_wheel_polar_axes.plot(\n",
    "                    circumference,\n",
    "                    np.full(self._colour_wheel_samples,\n",
    "                            self._compression_threshold),\n",
    "                    linestyle='dashdot',\n",
    "                    color='cyan')[0])\n",
    "\n",
    "            self._hue_controls_plot = (self._colour_wheel_polar_axes.plot(\n",
    "                self._y_i * np.pi * 2,\n",
    "                np.ones(self._y_i.shape),\n",
    "                'o-',\n",
    "                color='white')[0])\n",
    "\n",
    "        # Chromaticity Diagram Axes\n",
    "        if self._enable_chromaticity_diagram:\n",
    "            self._protected_area_threshold_chromaticity_diagram_plot = (\n",
    "                self._chromaticity_diagram_axes.plot(\n",
    "                    circumference,\n",
    "                    circumference,\n",
    "                    linestyle='dotted',\n",
    "                    color='yellow')[0])\n",
    "            self._compression_threshold_chromaticity_diagram_plot = (\n",
    "                self._chromaticity_diagram_axes.plot(\n",
    "                    circumference,\n",
    "                    circumference,\n",
    "                    linestyle='dashdot',\n",
    "                    color='cyan')[0])\n",
    "\n",
    "    def initialise_widgets(self):\n",
    "        super().initialise_widgets()\n",
    "\n",
    "        # *** Widgets ***\n",
    "        self._reset_protected_area_controls_Button = (\n",
    "            ipywidgets.widgets.Button(description=\"Reset Protected Area\"))\n",
    "        self._protected_area_threshold_FloatSlider = (\n",
    "            ipywidgets.widgets.FloatSlider(\n",
    "                min=0.0,\n",
    "                max=1.0,\n",
    "                step=0.01,\n",
    "                value=self._protected_area_threshold,\n",
    "                description='Protected Area Threshold'))\n",
    "\n",
    "        self._reset_compression_controls_Button = (\n",
    "            ipywidgets.widgets.Button(description=\"Reset Saturation Controls\"))\n",
    "        compression_functions = list(COMPRESSION_FUNCTIONS.keys())\n",
    "        self._compression_function_DropDown = ipywidgets.widgets.Dropdown(\n",
    "            options=compression_functions,\n",
    "            value=self._compression_function,\n",
    "            description='Compression Function:',\n",
    "        )\n",
    "        self._compression_threshold_FloatSlider = (\n",
    "            ipywidgets.widgets.FloatSlider(\n",
    "                min=0.0,\n",
    "                max=1.0,\n",
    "                step=0.01,\n",
    "                value=self._compression_threshold,\n",
    "                description='Compression Threshold'))\n",
    "\n",
    "        self._reset_hue_controls_Button = ipywidgets.widgets.Button(\n",
    "            description=\"Reset Hue Controls\")\n",
    "        self._wedge_controls = [\n",
    "            ipywidgets.widgets.FloatSlider(\n",
    "                min=-1,\n",
    "                max=1,\n",
    "                step=0.01,\n",
    "                value=0,\n",
    "                description='{0}°'.format(int(angle * 360)))\n",
    "            for angle in self._angles\n",
    "        ]\n",
    "\n",
    "        # *** Layout ***\n",
    "        self._protected_area_controls_HBox = ipywidgets.widgets.HBox([\n",
    "            self._reset_protected_area_controls_Button,\n",
    "            self._protected_area_threshold_FloatSlider,\n",
    "        ])\n",
    "\n",
    "        self._saturation_controls_HBox = ipywidgets.widgets.HBox([\n",
    "            self._reset_compression_controls_Button,\n",
    "            self._compression_function_DropDown,\n",
    "            self._compression_threshold_FloatSlider\n",
    "        ])\n",
    "\n",
    "        wedge_controls_batches = batch(self._wedge_controls, 3)\n",
    "        self._hue_controls_HBox = ipywidgets.widgets.HBox(\n",
    "            [ipywidgets.widgets.VBox([self._reset_hue_controls_Button])] + [\n",
    "                ipywidgets.widgets.VBox(wedge_controls)\n",
    "                for wedge_controls in wedge_controls_batches\n",
    "            ])\n",
    "\n",
    "        self._controls_Tab.children += (\n",
    "            self._protected_area_controls_HBox,\n",
    "            self._saturation_controls_HBox,\n",
    "            self._hue_controls_HBox,\n",
    "        )\n",
    "\n",
    "        self._controls_Tab.set_title(1, 'Protected Area Controls')\n",
    "        self._controls_Tab.set_title(2, 'Saturation Controls')\n",
    "        self._controls_Tab.set_title(3, 'Hue Controls')\n",
    "\n",
    "    def attach_callbacks(self):\n",
    "        super().attach_callbacks()\n",
    "\n",
    "        self._reset_protected_area_controls_Button.on_click(\n",
    "            self.reset_protected_area_controls)\n",
    "        self._protected_area_threshold_FloatSlider.observe(\n",
    "            self.update_protected_area_mask, 'value')\n",
    "\n",
    "        self._reset_compression_controls_Button.on_click(\n",
    "            self.reset_compression_controls)\n",
    "        self._compression_function_DropDown.observe(self.update_widget,\n",
    "                                                    'value')\n",
    "        self._compression_threshold_FloatSlider.observe(\n",
    "            self.update_widget, 'value')\n",
    "\n",
    "        self._reset_hue_controls_Button.on_click(self.reset_hue_controls)\n",
    "        for slider in self._wedge_controls:\n",
    "            slider.observe(self.update_widget, 'value')\n",
    "\n",
    "    def set_exposure(self, change):\n",
    "        if not change:\n",
    "            return\n",
    "\n",
    "        if change['name'] == 'value':\n",
    "            EV = self._exposure_FloatSlider.value\n",
    "\n",
    "            self._RGB_r = adjust_exposure(self._reference_image_pre_working,\n",
    "                                          EV)\n",
    "            self._H_r, self._S_r, self._V_r = colour.utilities.tsplit(\n",
    "                self.RGB_to_HSV(self._RGB_r))\n",
    "\n",
    "            if self._enable_chromaticity_diagram:\n",
    "                self._RGB_d = adjust_exposure(\n",
    "                    self._decimated_image_pre_working, EV)\n",
    "                self._H_d, self._S_d, self._V_d = colour.utilities.tsplit(\n",
    "                    self.RGB_to_HSV(self._RGB_d))\n",
    "\n",
    "            self.update_protected_area_mask({'name': 'value'})\n",
    "\n",
    "    def update_region_colour_wheel_plot(self, V_r, region_colour_wheel_plot):\n",
    "        if self._enable_colour_wheel:\n",
    "            region_colour_wheel_plot.set_ydata(\n",
    "                np.full(self._colour_wheel_samples, V_r))\n",
    "\n",
    "    def update_protected_area_threshold_colour_wheel_plot(self, U_r):\n",
    "        if self._enable_colour_wheel:\n",
    "            self.update_region_colour_wheel_plot(\n",
    "                U_r, self._protected_area_threshold_colour_wheel_plot)\n",
    "\n",
    "    def update_compression_threshold_colour_wheel_plot(self, S_c):\n",
    "        if self._enable_colour_wheel:\n",
    "            self.update_region_colour_wheel_plot(\n",
    "                S_c, self._compression_threshold_colour_wheel_plot)\n",
    "\n",
    "    def update_region_chromaticity_diagram_plot(\n",
    "            self, V_r, region_chromaticity_diagram_plot):\n",
    "        if self._enable_chromaticity_diagram:\n",
    "            HSV = colour.utilities.tstack([\n",
    "                np.linspace(0, 1, self._colour_wheel_samples),\n",
    "                np.full(self._colour_wheel_samples, V_r),\n",
    "                np.ones(self._colour_wheel_samples)\n",
    "            ])\n",
    "            uv = colour.Luv_to_uv(\n",
    "                colour.XYZ_to_Luv(\n",
    "                    colour.RGB_to_XYZ(\n",
    "                        self.HSV_to_RGB(HSV), self._working_space.whitepoint,\n",
    "                        self._working_space.whitepoint,\n",
    "                        self._working_space.RGB_to_XYZ_matrix),\n",
    "                    self._working_space.whitepoint))\n",
    "\n",
    "            region_chromaticity_diagram_plot.set_data(uv[:, 0], uv[:, 1])\n",
    "\n",
    "    def update_protected_area_threshold_chromaticity_diagram_plot(self, U_r):\n",
    "        if self._enable_chromaticity_diagram:\n",
    "            self.update_region_chromaticity_diagram_plot(\n",
    "                U_r, self._protected_area_threshold_chromaticity_diagram_plot)\n",
    "\n",
    "    def update_compression_threshold_chromaticity_diagram_plot(self, S_c):\n",
    "        if self._enable_chromaticity_diagram:\n",
    "            self.update_region_chromaticity_diagram_plot(\n",
    "                S_c, self._compression_threshold_chromaticity_diagram_plot)\n",
    "\n",
    "    def update_protected_area_mask(self, change):\n",
    "        if not change:\n",
    "            return\n",
    "\n",
    "        if change['name'] == 'value':\n",
    "            U_r = self._protected_area_threshold_FloatSlider.value\n",
    "            S_c = self._compression_threshold_FloatSlider.value\n",
    "\n",
    "            self._S_d_m = smoothstep(self._S_d, U_r, S_c)\n",
    "\n",
    "            if self._enable_colour_wheel:\n",
    "                self._S_w_m = smoothstep(self._S_w, U_r, S_c)\n",
    "\n",
    "            if self._enable_chromaticity_diagram:\n",
    "                self._S_r_m = smoothstep(self._S_r, U_r, S_c)\n",
    "\n",
    "        self.update_widget(None)\n",
    "\n",
    "    def wedge_control_to_hue_offset(self, value):\n",
    "        slider = self._wedge_controls[0]\n",
    "\n",
    "        return colour.utilities.linear_conversion(\n",
    "            value, [slider.min, slider.max],\n",
    "            [-self._hue_wedge / 360, self._hue_wedge / 360])\n",
    "\n",
    "    def reset_protected_area_controls(self, change):\n",
    "        self._protected_area_threshold_FloatSlider.value = (\n",
    "            self._protected_area_threshold)\n",
    "\n",
    "        self.update_protected_area_mask(None)\n",
    "\n",
    "    def reset_compression_controls(self, change):\n",
    "        self._compression_threshold_FloatSlider.value = (\n",
    "            self._compression_threshold)\n",
    "\n",
    "        self.update_widget(None)\n",
    "\n",
    "    def reset_hue_controls(self, change):\n",
    "        for slider in self._wedge_controls:\n",
    "            slider.value = 0\n",
    "\n",
    "        self.update_widget(None)\n",
    "\n",
    "    def update_reference_image_axes(self, S_c, H_y, C_f):\n",
    "        RGB_r = medicina_HSV_control(self._RGB_r, self._H_r, self._S_r,\n",
    "                                     self._V_r, self._x_i, H_y, S_c,\n",
    "                                     self._S_r_m, C_f, self.HSV_to_RGB)\n",
    "        self._reference_image_mapped = RGB_r\n",
    "        self._reference_image_imshow.set_data(\n",
    "            self.working_space_to_display_space(RGB_r))\n",
    "\n",
    "    def update_colour_wheel_axes(self, U_r, S_c, H_y, H_o, C_f):\n",
    "        if self._enable_colour_wheel:\n",
    "            R_w, G_w, B_w = colour.utilities.tsplit(\n",
    "                medicina_HSV_control(self._RGB_w, self._H_w, self._S_w,\n",
    "                                     self._V_w, self._x_i, H_y, S_c,\n",
    "                                     self._S_w_m, C_f, self.HSV_to_RGB))\n",
    "            self._colour_wheel_imshow.set_data(\n",
    "                np.clip(\n",
    "                    colour.tstack([R_w, G_w, B_w,\n",
    "                                   self._colour_wheel[..., -1]]), 0, 1))\n",
    "            self.update_protected_area_threshold_colour_wheel_plot(U_r)\n",
    "            self.update_compression_threshold_colour_wheel_plot(S_c)\n",
    "\n",
    "            H_x = H_o + self._angles\n",
    "            H_x = np.hstack([H_x, H_x[0]])\n",
    "            self._hue_controls_plot.set_xdata(H_x * np.pi * 2)\n",
    "\n",
    "    def update_chromaticity_diagram_axes(self, U_r, S_c, H_y, C_f):\n",
    "        if self._enable_chromaticity_diagram:\n",
    "            RGB_r_s = medicina_HSV_control(self._RGB_d, self._H_d, self._S_d,\n",
    "                                           self._V_d, self._x_i, H_y, S_c,\n",
    "                                           self._S_d_m, C_f, self.HSV_to_RGB)\n",
    "            self.update_scatter_plot(RGB_r_s)\n",
    "            self.update_protected_area_threshold_chromaticity_diagram_plot(U_r)\n",
    "            self.update_compression_threshold_chromaticity_diagram_plot(S_c)\n",
    "\n",
    "    def update_widget(self, change):\n",
    "        super().update_widget(change)\n",
    "\n",
    "        if self._enable:\n",
    "            U_r = self._protected_area_threshold_FloatSlider.value\n",
    "            S_c = self._compression_threshold_FloatSlider.value\n",
    "            C_f = COMPRESSION_FUNCTIONS[\n",
    "                self._compression_function_DropDown.value]\n",
    "\n",
    "            hue_offsets = np.array([\n",
    "                self.wedge_control_to_hue_offset(slider.value)\n",
    "                for slider in self._wedge_controls\n",
    "            ])\n",
    "\n",
    "            H_y = -hue_offsets + self._angles\n",
    "            H_y = np.hstack([H_y, H_y[0] + 1])\n",
    "\n",
    "            self.update_reference_image_axes(S_c, H_y, C_f)\n",
    "\n",
    "            if self._enable_colour_wheel:\n",
    "                self.update_colour_wheel_axes(U_r, S_c, H_y, hue_offsets, C_f)\n",
    "\n",
    "            if self._enable_chromaticity_diagram:\n",
    "                self.update_chromaticity_diagram_axes(U_r, S_c, H_y, C_f)\n",
    "\n",
    "            self._figure.canvas.draw_idle()\n",
    "\n",
    "\n",
    "GamutMedicinaHSVControlWidget(\n",
    "    '../resources/images/A009C002_190210_R0EI_Alexa_LogCWideGamut.exr')"
   ]
  },
  {
   "cell_type": "code",
   "execution_count": 13,
   "metadata": {},
   "outputs": [
    {
     "data": {
      "application/vnd.jupyter.widget-view+json": {
       "model_id": "57c68872681d4cda85214da7f9bb3364",
       "version_major": 2,
       "version_minor": 0
      },
      "text/plain": [
       "GamutMedicinaHSVControlWidget(children=(Output(layout=Layout(border='solid 4px #222', margin='4px', padding='0…"
      ]
     },
     "metadata": {},
     "output_type": "display_data"
    }
   ],
   "source": [
    "GamutMedicinaHSVControlWidget('../resources/images/A002_C029_06025K.exr')"
   ]
  },
  {
   "cell_type": "code",
   "execution_count": 14,
   "metadata": {},
   "outputs": [
    {
     "data": {
      "application/vnd.jupyter.widget-view+json": {
       "model_id": "6c733bb23cee470cb28ff874dbee8efc",
       "version_major": 2,
       "version_minor": 0
      },
      "text/plain": [
       "GamutMedicinaHSVControlWidget(children=(Output(layout=Layout(border='solid 4px #222', margin='4px', padding='0…"
      ]
     },
     "metadata": {},
     "output_type": "display_data"
    }
   ],
   "source": [
    "GamutMedicinaHSVControlWidget(\n",
    "    '../resources/images/Cornell_Box_Rigid_Spheres_190_Patch_Roughplastic_Point_Grey_Grasshopper_50S5C_RGB_W_A.exr')"
   ]
  },
  {
   "cell_type": "code",
   "execution_count": 15,
   "metadata": {},
   "outputs": [
    {
     "data": {
      "application/vnd.jupyter.widget-view+json": {
       "model_id": "6a82a794b8404b15b59f35c15dc74c44",
       "version_major": 2,
       "version_minor": 0
      },
      "text/plain": [
       "GamutMedicinaHSVControlWidget(children=(Output(layout=Layout(border='solid 4px #222', margin='4px', padding='0…"
      ]
     },
     "metadata": {},
     "output_type": "display_data"
    }
   ],
   "source": [
    "GamutMedicinaHSVControlWidget(\n",
    "    '../resources/images/5DMarkII_Spac-o-ween_001.exr',\n",
    "    enable_colour_wheel=False)"
   ]
  },
  {
   "cell_type": "code",
   "execution_count": 16,
   "metadata": {},
   "outputs": [
    {
     "data": {
      "application/vnd.jupyter.widget-view+json": {
       "model_id": "00ecde1b3b9e461a987c1568aaade9d3",
       "version_major": 2,
       "version_minor": 0
      },
      "text/plain": [
       "GamutMedicinaHSVControlWidget(children=(Output(layout=Layout(border='solid 4px #222', margin='4px', padding='0…"
      ]
     },
     "metadata": {},
     "output_type": "display_data"
    }
   ],
   "source": [
    "GamutMedicinaHSVControlWidget(\n",
    "    '../resources/images/Collage_01.exr',\n",
    "    enable_colour_wheel=False)"
   ]
  },
  {
   "cell_type": "markdown",
   "metadata": {},
   "source": [
    "## Smith (2020) - RGB Saturation Study Model"
   ]
  },
  {
   "cell_type": "markdown",
   "metadata": {},
   "source": [
    "*Smith (2020)* gamut mapping study model is directly operating in the RGB colourspace:\n",
    "\n",
    "- Like with the HSV colourspace, an achromatic axis is computed for the scene-referred RGB exposure values.\n",
    "- The pseudo-distance between the individual $R$, $G$ and $B$ components and the achromatic axis is compressed with a cherry-picked compression function, e.g. $tanh$.\n",
    "\n",
    "The model is extremely simple and elegant while offering good computational speed.\n",
    "\n",
    "More information is available on [ACEScentral](https://community.acescentral.com/t/rgb-saturation-gamut-mapping-approach-and-a-comp-vfx-perspective/)."
   ]
  },
  {
   "cell_type": "code",
   "execution_count": 17,
   "metadata": {},
   "outputs": [
    {
     "data": {
      "application/vnd.jupyter.widget-view+json": {
       "model_id": "7dabd01606a84bae92eb5d33f6e3c766",
       "version_major": 2,
       "version_minor": 0
      },
      "text/plain": [
       "GamutMedicinaRGBSaturationWidget(children=(Output(layout=Layout(border='solid 4px #222', margin='4px', padding…"
      ]
     },
     "metadata": {},
     "output_type": "display_data"
    }
   ],
   "source": [
    "def medicina_RGB_saturation(RGB, C_t, C_f):\n",
    "    C_t = 1 - C_t\n",
    "\n",
    "    L = np.max(RGB, axis=-1)[..., np.newaxis]\n",
    "\n",
    "    D = np.abs(RGB - L) / L\n",
    "\n",
    "    D_c = C_f(D, C_t, 1 - C_t)\n",
    "\n",
    "    RGB_c = L - D_c * L\n",
    "\n",
    "    return RGB_c\n",
    "\n",
    "\n",
    "class GamutMedicinaRGBSaturationWidget(GamutMedicinaBaseWidget):\n",
    "    def __init__(self,\n",
    "                 reference_image=None,\n",
    "                 compression_threshold=0.8,\n",
    "                 compression_function='tanh',\n",
    "                 *args,\n",
    "                 **kwargs):\n",
    "        self._compression_threshold = compression_threshold\n",
    "        self._compression_function = compression_function\n",
    "\n",
    "        kwargs['enable_colour_wheel'] = False\n",
    "\n",
    "        super().__init__(reference_image, *args, **kwargs)\n",
    "\n",
    "        self._RGB_w = None\n",
    "        self._RGB_r = None\n",
    "        self._RGB_d = None\n",
    "\n",
    "        self._compression_threshold_chromaticity_diagram_plot = None\n",
    "\n",
    "        self._reset_compression_controls_Button = None\n",
    "        self._compression_threshold_FloatSlider = None\n",
    "\n",
    "        self.initialize_data()\n",
    "        self.initialize_axes()\n",
    "        self.initialise_widgets()\n",
    "        self.attach_callbacks()\n",
    "\n",
    "        self.update_widget(None)\n",
    "\n",
    "    def initialize_data(self):\n",
    "        super().initialize_data()\n",
    "\n",
    "    def initialize_axes(self):\n",
    "        super().initialize_axes()\n",
    "\n",
    "    def initialise_widgets(self):\n",
    "        super().initialise_widgets()\n",
    "\n",
    "        # *** Widgets ***\n",
    "        self._reset_compression_controls_Button = (\n",
    "            ipywidgets.widgets.Button(\n",
    "                description=\"Reset Compression Controls\"))\n",
    "        compression_functions = list(COMPRESSION_FUNCTIONS.keys())\n",
    "        self._compression_function_DropDown = ipywidgets.widgets.Dropdown(\n",
    "            options=compression_functions,\n",
    "            value=self._compression_function,\n",
    "            description='Compression Function:',\n",
    "        )\n",
    "        self._compression_threshold_FloatSlider = (\n",
    "            ipywidgets.widgets.FloatSlider(\n",
    "                min=0.0,\n",
    "                max=1.0,\n",
    "                step=0.01,\n",
    "                value=self._compression_threshold,\n",
    "                description='Compression Threshold'))\n",
    "\n",
    "        # *** Layout ***\n",
    "        self._compression_controls_HBox = ipywidgets.widgets.HBox([\n",
    "            self._reset_compression_controls_Button,\n",
    "            self._compression_function_DropDown,\n",
    "            self._compression_threshold_FloatSlider,\n",
    "        ])\n",
    "\n",
    "        self._controls_Tab.children += (\n",
    "            self._compression_controls_HBox,\n",
    "        )\n",
    "\n",
    "        self._controls_Tab.set_title(1, 'Compression Controls')\n",
    "\n",
    "    def attach_callbacks(self):\n",
    "        super().attach_callbacks()\n",
    "\n",
    "        self._reset_compression_controls_Button.on_click(\n",
    "            self.reset_compression_controls)\n",
    "        self._compression_function_DropDown.observe(self.update_widget,\n",
    "                                                    'value')\n",
    "        self._compression_threshold_FloatSlider.observe(\n",
    "            self.update_widget, 'value')\n",
    "\n",
    "    def reset_compression_controls(self, change):\n",
    "        self._compression_threshold_FloatSlider.value = (\n",
    "            self._compression_threshold)\n",
    "\n",
    "        self.update_widget(None)\n",
    "\n",
    "    def update_reference_image_axes(self, C_t, C_f):\n",
    "        RGB_r = medicina_RGB_saturation(self._reference_image_working, C_t, C_f)\n",
    "        self._reference_image_mapped = RGB_r\n",
    "        self._reference_image_imshow.set_data(\n",
    "            self.working_space_to_display_space(RGB_r))\n",
    "\n",
    "    def update_chromaticity_diagram_axes(self, C_t, C_f):\n",
    "        RGB_r_s = medicina_RGB_saturation(self._decimated_image_working, C_t, C_f)\n",
    "        self.update_scatter_plot(RGB_r_s)\n",
    "\n",
    "    def update_widget(self, change):\n",
    "        super().update_widget(change)\n",
    "\n",
    "        if self._enable:\n",
    "            C_t = 1 - self._compression_threshold_FloatSlider.value\n",
    "            C_f = COMPRESSION_FUNCTIONS[\n",
    "                self._compression_function_DropDown.value]\n",
    "\n",
    "            self.update_reference_image_axes(C_t, C_f)\n",
    "            self.update_chromaticity_diagram_axes(C_t, C_f)\n",
    "\n",
    "            self._figure.canvas.draw_idle()\n",
    "\n",
    "\n",
    "GamutMedicinaRGBSaturationWidget(\n",
    "    '../resources/images/A009C002_190210_R0EI_Alexa_LogCWideGamut.exr')"
   ]
  },
  {
   "cell_type": "markdown",
   "metadata": {},
   "source": [
    "Note\n",
    "----\n",
    "\n",
    "> *Mansencal and Scharfenberg (2020)* gamut mapping study model twists the woodbard ceiling hues toward magenta in this example which is not pleasing but can be corrected with the Hue Controls. *Smith (2020)* gamut mapping study model is producing more appealing colours here."
   ]
  },
  {
   "cell_type": "code",
   "execution_count": 18,
   "metadata": {},
   "outputs": [
    {
     "data": {
      "application/vnd.jupyter.widget-view+json": {
       "model_id": "7dd02b69e5ae43c194ddb503d7ddefa5",
       "version_major": 2,
       "version_minor": 0
      },
      "text/plain": [
       "GamutMedicinaHSVControlWidget(children=(Output(layout=Layout(border='solid 4px #222', margin='4px', padding='0…"
      ]
     },
     "metadata": {},
     "output_type": "display_data"
    }
   ],
   "source": [
    "GamutMedicinaHSVControlWidget(\n",
    "    '../resources/images/A009C002_190210_R0EI_Alexa_LogCWideGamut.exr',\n",
    "    enable_colour_wheel=False)"
   ]
  },
  {
   "cell_type": "code",
   "execution_count": 19,
   "metadata": {},
   "outputs": [
    {
     "data": {
      "application/vnd.jupyter.widget-view+json": {
       "model_id": "406db9185d0c4b448838520919c3b6f0",
       "version_major": 2,
       "version_minor": 0
      },
      "text/plain": [
       "GamutMedicinaRGBSaturationWidget(children=(Output(layout=Layout(border='solid 4px #222', margin='4px', padding…"
      ]
     },
     "metadata": {},
     "output_type": "display_data"
    }
   ],
   "source": [
    "GamutMedicinaRGBSaturationWidget(\n",
    "    '../resources/images/Cornell_Box_Rigid_Spheres_190_Patch_Roughplastic_Point_Grey_Grasshopper_50S5C_RGB_W_A.exr')"
   ]
  },
  {
   "cell_type": "code",
   "execution_count": 20,
   "metadata": {},
   "outputs": [
    {
     "data": {
      "application/vnd.jupyter.widget-view+json": {
       "model_id": "1f153eafba734bb99f835b051766841f",
       "version_major": 2,
       "version_minor": 0
      },
      "text/plain": [
       "GamutMedicinaRGBSaturationWidget(children=(Output(layout=Layout(border='solid 4px #222', margin='4px', padding…"
      ]
     },
     "metadata": {},
     "output_type": "display_data"
    }
   ],
   "source": [
    "GamutMedicinaRGBSaturationWidget(\n",
    "    '../resources/images/5DMarkII_Spac-o-ween_001.exr')"
   ]
  },
  {
   "cell_type": "code",
   "execution_count": 21,
   "metadata": {},
   "outputs": [
    {
     "data": {
      "application/vnd.jupyter.widget-view+json": {
       "model_id": "d36a48ea966540dba212d4c6ee6fdd25",
       "version_major": 2,
       "version_minor": 0
      },
      "text/plain": [
       "GamutMedicinaRGBSaturationWidget(children=(Output(layout=Layout(border='solid 4px #222', margin='4px', padding…"
      ]
     },
     "metadata": {},
     "output_type": "display_data"
    }
   ],
   "source": [
    "GamutMedicinaRGBSaturationWidget(\n",
    "    '../resources/images/Collage_01.exr')"
   ]
  },
  {
   "cell_type": "markdown",
   "metadata": {},
   "source": [
    "## Compared Model Distortions"
   ]
  },
  {
   "cell_type": "markdown",
   "metadata": {},
   "source": [
    "Various model distortions comparisons.\n",
    "\n",
    "Note\n",
    "----\n",
    "\n",
    "> *Mansencal and Scharfenberg (2020)* gamut mapping study model tends to produce rounder surface area compared to that of *Smith (2020)*. Note also how the magenta area along the line of purples is much more compressed."
   ]
  },
  {
   "cell_type": "code",
   "execution_count": 22,
   "metadata": {},
   "outputs": [],
   "source": [
    "colour.write_image(\n",
    "    colour_wheel(clip_circle=False)[..., 0:3],\n",
    "    '../resources/images/Colour_Wheel.exr')"
   ]
  },
  {
   "cell_type": "code",
   "execution_count": 23,
   "metadata": {},
   "outputs": [
    {
     "data": {
      "application/vnd.jupyter.widget-view+json": {
       "model_id": "c9aa191eba364131a43428389e5258ed",
       "version_major": 2,
       "version_minor": 0
      },
      "text/plain": [
       "GamutMedicinaHSVControlWidget(children=(Output(layout=Layout(border='solid 4px #222', margin='4px', padding='0…"
      ]
     },
     "metadata": {},
     "output_type": "display_data"
    }
   ],
   "source": [
    "GamutMedicinaHSVControlWidget(\n",
    "    '../resources/images/Colour_Wheel.exr',\n",
    "    image_decimation=20,\n",
    "    protected_area_threshold=0.5,\n",
    "    compression_threshold=0.5,\n",
    "    enable_colour_wheel=False)"
   ]
  },
  {
   "cell_type": "code",
   "execution_count": 24,
   "metadata": {},
   "outputs": [
    {
     "data": {
      "application/vnd.jupyter.widget-view+json": {
       "model_id": "9786786aabdc46efa7b55b608ac9d099",
       "version_major": 2,
       "version_minor": 0
      },
      "text/plain": [
       "GamutMedicinaRGBSaturationWidget(children=(Output(layout=Layout(border='solid 4px #222', margin='4px', padding…"
      ]
     },
     "metadata": {},
     "output_type": "display_data"
    }
   ],
   "source": [
    "GamutMedicinaRGBSaturationWidget(\n",
    "    '../resources/images/Colour_Wheel.exr',\n",
    "    image_decimation=20,\n",
    "    compression_threshold=0.5)"
   ]
  }
 ],
 "metadata": {
  "colab": {
   "collapsed_sections": [],
   "name": "gamut_mapping_ramblings_01",
   "provenance": []
  },
  "kernelspec": {
   "display_name": "Python 3",
   "language": "python",
   "name": "python3"
  },
  "language_info": {
   "codemirror_mode": {
    "name": "ipython",
    "version": 3
   },
   "file_extension": ".py",
   "mimetype": "text/x-python",
   "name": "python",
   "nbconvert_exporter": "python",
   "pygments_lexer": "ipython3",
   "version": "3.7.6"
  },
  "widgets": {
   "application/vnd.jupyter.widget-state+json": {
    "state": {
     "0002499775e24ca78cbe316fb726a4f1": {
      "model_module": "@jupyter-widgets/base",
      "model_module_version": "1.2.0",
      "model_name": "LayoutModel",
      "state": {}
     },
     "001b5ab5e958470ab2cac031f5c1e420": {
      "model_module": "@jupyter-widgets/controls",
      "model_module_version": "1.5.0",
      "model_name": "DescriptionStyleModel",
      "state": {
       "description_width": ""
      }
     },
     "001c47173b4f4a299eb8af1a09eff6ae": {
      "model_module": "@jupyter-widgets/controls",
      "model_module_version": "1.5.0",
      "model_name": "DescriptionStyleModel",
      "state": {
       "description_width": ""
      }
     },
     "00222be73796483fbe04aa3171ab7e45": {
      "model_module": "@jupyter-widgets/base",
      "model_module_version": "1.2.0",
      "model_name": "LayoutModel",
      "state": {}
     },
     "004aced2248f4df489e60ef209a9a779": {
      "model_module": "@jupyter-widgets/base",
      "model_module_version": "1.2.0",
      "model_name": "LayoutModel",
      "state": {}
     },
     "005437bffc5e4fda8905749b9641817d": {
      "model_module": "@jupyter-widgets/base",
      "model_module_version": "1.2.0",
      "model_name": "LayoutModel",
      "state": {}
     },
     "00574cb554f347e4b1c823eb15ed5a56": {
      "model_module": "@jupyter-widgets/controls",
      "model_module_version": "1.5.0",
      "model_name": "SliderStyleModel",
      "state": {
       "description_width": ""
      }
     },
     "005e72c343d544d3b500024844998896": {
      "model_module": "@jupyter-widgets/controls",
      "model_module_version": "1.5.0",
      "model_name": "FloatSliderModel",
      "state": {
       "description": "Compression Threshold",
       "layout": "IPY_MODEL_f7adc9149224462da0da4f9566c29f9f",
       "max": 1,
       "step": 0.01,
       "style": "IPY_MODEL_eead4037170a45748e4fb84d8539bcd5",
       "value": 0.8
      }
     },
     "00870bd18973405baae010c953fe79f1": {
      "model_module": "@jupyter-widgets/controls",
      "model_module_version": "1.5.0",
      "model_name": "FloatSliderModel",
      "state": {
       "description": "180°",
       "layout": "IPY_MODEL_185bf8549e984de5b81a92519e38ca0d",
       "max": 1,
       "min": -1,
       "step": 0.01,
       "style": "IPY_MODEL_560fb794562b4f28842d027652a3bc74"
      }
     },
     "009d705293944a00b6a262a8e65b7ef0": {
      "model_module": "@jupyter-widgets/controls",
      "model_module_version": "1.5.0",
      "model_name": "ButtonStyleModel",
      "state": {}
     },
     "00e5bf8f8a93436ca3e2fe04b2f98f12": {
      "model_module": "@jupyter-widgets/controls",
      "model_module_version": "1.5.0",
      "model_name": "HBoxModel",
      "state": {
       "children": [
        "IPY_MODEL_e3eed87466a14d548a2b1bb67f2bbc55",
        "IPY_MODEL_bd6ef6d94d184fcab63d6c32f2441c37",
        "IPY_MODEL_6784006281ed4966a6a41097509a29f7"
       ],
       "layout": "IPY_MODEL_70ee0d12040545e2828fbf12d4109057"
      }
     },
     "00ecde1b3b9e461a987c1568aaade9d3": {
      "model_module": "@jupyter-widgets/controls",
      "model_module_version": "1.5.0",
      "model_name": "BoxModel",
      "state": {
       "children": [
        "IPY_MODEL_f71b018c4c3e41f196a269de8d12a583",
        "IPY_MODEL_cf95619244fe4f898c338ae632cc6ff4"
       ],
       "layout": "IPY_MODEL_c59f2c1bc33e455995d232deaf7db28f"
      }
     },
     "00f2072e03ed4a019ef2f7eb4f42b0b2": {
      "model_module": "jupyter-matplotlib",
      "model_module_version": "^0.7.2",
      "model_name": "ToolbarModel",
      "state": {
       "layout": "IPY_MODEL_ae74e8a5c2a64ab4be61fae6a9da2ad7",
       "toolitems": [
        [
         "Home",
         "Reset original view",
         "home",
         "home"
        ],
        [
         "Back",
         "Back to previous view",
         "arrow-left",
         "back"
        ],
        [
         "Forward",
         "Forward to next view",
         "arrow-right",
         "forward"
        ],
        [
         "Pan",
         "Pan axes with left mouse, zoom with right",
         "arrows",
         "pan"
        ],
        [
         "Zoom",
         "Zoom to rectangle",
         "square-o",
         "zoom"
        ],
        [
         "Download",
         "Download plot",
         "floppy-o",
         "save_figure"
        ]
       ]
      }
     },
     "0120969964a54500bc186488a08ab723": {
      "model_module": "@jupyter-widgets/base",
      "model_module_version": "1.2.0",
      "model_name": "LayoutModel",
      "state": {}
     },
     "013bfaa0ed75457e95d79d81c7b9ad1f": {
      "model_module": "@jupyter-widgets/base",
      "model_module_version": "1.2.0",
      "model_name": "LayoutModel",
      "state": {}
     },
     "01ae27d1466340bf83a1de08fcda26f7": {
      "model_module": "@jupyter-widgets/controls",
      "model_module_version": "1.5.0",
      "model_name": "HBoxModel",
      "state": {
       "children": [
        "IPY_MODEL_a9ae87634dbe473e81bcf383690fe5fd",
        "IPY_MODEL_d5c654b978fb4dc2bdf16a294d1b8624",
        "IPY_MODEL_ce584b6420864b44be9d67ccc12c13f9",
        "IPY_MODEL_fadd0260d14045b3a9885cdc430286b3"
       ],
       "layout": "IPY_MODEL_d183274b95a94c35a946496582ca59d9"
      }
     },
     "0265ec33fc7146738c9a20f76ca6d878": {
      "model_module": "@jupyter-widgets/controls",
      "model_module_version": "1.5.0",
      "model_name": "VBoxModel",
      "state": {
       "children": [
        "IPY_MODEL_94337eaa226a4ac4bfc9d81ac3d1a696"
       ],
       "layout": "IPY_MODEL_e4390e11244246088e810095fe97e0ba"
      }
     },
     "028fbe12c63940e4804147fc117203a6": {
      "model_module": "@jupyter-widgets/controls",
      "model_module_version": "1.5.0",
      "model_name": "HBoxModel",
      "state": {
       "children": [
        "IPY_MODEL_d60e4135514a43faba5195b51c76c2d6",
        "IPY_MODEL_8df1b671bafd4ed6961ee636583bb5d8",
        "IPY_MODEL_48d4318ffe78465bb162715ae345ff03"
       ],
       "layout": "IPY_MODEL_4327e62403ff45a4bd2d6678c769fbc4"
      }
     },
     "029a1bc823ac493a9d5dac55450c7d8c": {
      "model_module": "@jupyter-widgets/base",
      "model_module_version": "1.2.0",
      "model_name": "LayoutModel",
      "state": {}
     },
     "02d7ecb1e558470d891d2f6282408e91": {
      "model_module": "@jupyter-widgets/controls",
      "model_module_version": "1.5.0",
      "model_name": "SliderStyleModel",
      "state": {
       "description_width": ""
      }
     },
     "02dc2041b8f14b3c8580da9ecae33507": {
      "model_module": "@jupyter-widgets/base",
      "model_module_version": "1.2.0",
      "model_name": "LayoutModel",
      "state": {
       "border": "solid 4px #222",
       "margin": "4px",
       "padding": "0"
      }
     },
     "02f4e02161174593b160caa86867476a": {
      "model_module": "@jupyter-widgets/controls",
      "model_module_version": "1.5.0",
      "model_name": "SliderStyleModel",
      "state": {
       "description_width": ""
      }
     },
     "0311c38d4b424c13a14687f84ceb2609": {
      "model_module": "@jupyter-widgets/controls",
      "model_module_version": "1.5.0",
      "model_name": "FloatSliderModel",
      "state": {
       "description": "Compression Threshold",
       "layout": "IPY_MODEL_6b5107461f3c4362bf89a5e36e2b5b69",
       "max": 1,
       "step": 0.01,
       "style": "IPY_MODEL_2ae655cef50f40cb888f55a3a4b6f18e",
       "value": 0.5
      }
     },
     "033c85ec4ad24a85bc8841f50acad31b": {
      "model_module": "@jupyter-widgets/controls",
      "model_module_version": "1.5.0",
      "model_name": "SliderStyleModel",
      "state": {
       "description_width": ""
      }
     },
     "035781405b5f4aa090035c58f4ad2511": {
      "model_module": "@jupyter-widgets/controls",
      "model_module_version": "1.5.0",
      "model_name": "SliderStyleModel",
      "state": {
       "description_width": ""
      }
     },
     "035b4de69f5e45cb8e7c86a43b4336d5": {
      "model_module": "@jupyter-widgets/controls",
      "model_module_version": "1.5.0",
      "model_name": "TabModel",
      "state": {
       "_titles": {
        "0": "Global Controls",
        "1": "Protected Area Controls",
        "2": "Saturation Controls",
        "3": "Hue Controls"
       },
       "children": [
        "IPY_MODEL_9ac4f74123a342f8af8a32ebf59ddcd2",
        "IPY_MODEL_19c69a73a0474e9f887917cce9e6e62a",
        "IPY_MODEL_3ae704fb271e44f2abe6e8881b6e08ca",
        "IPY_MODEL_0921201d89f2483fb6cb2e0dc780642b"
       ],
       "layout": "IPY_MODEL_3d2695eb4e7f4f3580955883708c1abe"
      }
     },
     "035fdf7995f440ba8201bc2cfa015bbc": {
      "model_module": "@jupyter-widgets/base",
      "model_module_version": "1.2.0",
      "model_name": "LayoutModel",
      "state": {}
     },
     "03721328c97841379f69142a74d7d9b6": {
      "model_module": "@jupyter-widgets/base",
      "model_module_version": "1.2.0",
      "model_name": "LayoutModel",
      "state": {}
     },
     "03a131f27c7a4f18a97326e3f1fc24b5": {
      "model_module": "@jupyter-widgets/controls",
      "model_module_version": "1.5.0",
      "model_name": "HBoxModel",
      "state": {
       "children": [
        "IPY_MODEL_de66f35064f949978490b7fa8d60ef5b",
        "IPY_MODEL_6bb49929be7a406a9a381c76d2a480f6",
        "IPY_MODEL_aefce55c42014d889bddad64272e5c2e",
        "IPY_MODEL_03b06be2ad8246d29beb3468483b39eb",
        "IPY_MODEL_b30f59ffe00a49dc93a43711628ecb49"
       ],
       "layout": "IPY_MODEL_b361ff92c44448ae89cf2d9972f0d2df"
      }
     },
     "03ac46c6763a4a61a927fb5375a23767": {
      "model_module": "@jupyter-widgets/base",
      "model_module_version": "1.2.0",
      "model_name": "LayoutModel",
      "state": {}
     },
     "03b06be2ad8246d29beb3468483b39eb": {
      "model_module": "@jupyter-widgets/controls",
      "model_module_version": "1.5.0",
      "model_name": "ButtonModel",
      "state": {
       "description": "Reset Exposure",
       "layout": "IPY_MODEL_bb9884e1ce004ae0b37f4f6aaf3e4d51",
       "style": "IPY_MODEL_a8a7efd3920b4920ba3ca2e942d54c54"
      }
     },
     "03d4427f87104204ba9f711b62ccfe29": {
      "model_module": "@jupyter-widgets/base",
      "model_module_version": "1.2.0",
      "model_name": "LayoutModel",
      "state": {}
     },
     "03f26a878df14a258758d3702f2f91a3": {
      "model_module": "@jupyter-widgets/controls",
      "model_module_version": "1.5.0",
      "model_name": "HBoxModel",
      "state": {
       "children": [
        "IPY_MODEL_877f93d74ef9400fbb6937555bb3de03",
        "IPY_MODEL_f5347b0c0e494ecab321ab50b15cff34",
        "IPY_MODEL_3bb68b23c5724d88bc4c742512f577c5"
       ],
       "layout": "IPY_MODEL_762c4a9029284bf1a75c2020b0013f03"
      }
     },
     "03f822f225494827a681c6644ac80c2d": {
      "model_module": "@jupyter-widgets/base",
      "model_module_version": "1.2.0",
      "model_name": "LayoutModel",
      "state": {}
     },
     "043feec41b8d45949846329f8b1b6b5c": {
      "model_module": "@jupyter-widgets/controls",
      "model_module_version": "1.5.0",
      "model_name": "HBoxModel",
      "state": {
       "children": [
        "IPY_MODEL_ec7ecbe6391749dfbac579a61150a1f0",
        "IPY_MODEL_4827d8c1f0554ccbb8b552cbcfc24634"
       ],
       "layout": "IPY_MODEL_35c037b1c676471d8f4a6777b84fd4f8"
      }
     },
     "045fb5aa89214938b63e0cf4acea18f5": {
      "model_module": "@jupyter-widgets/base",
      "model_module_version": "1.2.0",
      "model_name": "LayoutModel",
      "state": {}
     },
     "0482d5d039714178820e2e58e0e828fc": {
      "model_module": "@jupyter-widgets/controls",
      "model_module_version": "1.5.0",
      "model_name": "HBoxModel",
      "state": {
       "children": [
        "IPY_MODEL_a1d9db04e4c64958a6c79db647aba09e",
        "IPY_MODEL_0cd4ad55c1fe458b968ea77a046ddd27"
       ],
       "layout": "IPY_MODEL_bff7e75828a34a0ca102eb56478224d9"
      }
     },
     "048650a5ab334f5192ad6fb19437d614": {
      "model_module": "@jupyter-widgets/controls",
      "model_module_version": "1.5.0",
      "model_name": "FloatSliderModel",
      "state": {
       "description": "135°",
       "layout": "IPY_MODEL_463f6d9dc79e46fe91ed4199294d3272",
       "max": 1,
       "min": -1,
       "step": 0.01,
       "style": "IPY_MODEL_59073e28a18245d4b2118d029df3c68b"
      }
     },
     "04ac7e6000b346b38a2988aaf0fe41e6": {
      "model_module": "@jupyter-widgets/controls",
      "model_module_version": "1.5.0",
      "model_name": "FloatSliderModel",
      "state": {
       "description": "45°",
       "layout": "IPY_MODEL_d8ef82fbf7a042818eb6d25149844bd4",
       "max": 1,
       "min": -1,
       "step": 0.01,
       "style": "IPY_MODEL_949359edc95a4e409661fc793f36a8b5"
      }
     },
     "0520a3f02cac426d9f61a4445e9a5e63": {
      "model_module": "@jupyter-widgets/controls",
      "model_module_version": "1.5.0",
      "model_name": "HBoxModel",
      "state": {
       "children": [
        "IPY_MODEL_939c0189bb304f538f21ab295b12b275",
        "IPY_MODEL_864bc32f12a3457baab81444db6d08e6",
        "IPY_MODEL_0ce39c733fb949f7b48ad5151601760a",
        "IPY_MODEL_1038aa5e7dee42d0a1f5bfbf101d0ff8"
       ],
       "layout": "IPY_MODEL_e57641fbf041469ab15b68e1d4c0dacc"
      }
     },
     "0525e7d069df4f5da65af4f332c09a72": {
      "model_module": "@jupyter-widgets/controls",
      "model_module_version": "1.5.0",
      "model_name": "VBoxModel",
      "state": {
       "children": [
        "IPY_MODEL_e533127c647e40f8a2f3658500b053b2"
       ],
       "layout": "IPY_MODEL_da425fd8f45f4aacbb04d02919e27fa9"
      }
     },
     "05a997e16a6843a5a15996b9b1597a97": {
      "model_module": "@jupyter-widgets/controls",
      "model_module_version": "1.5.0",
      "model_name": "ButtonModel",
      "state": {
       "description": "Reset Protected Area",
       "layout": "IPY_MODEL_4c986450ba6e4ccc8dbb0665b978e572",
       "style": "IPY_MODEL_3ab6619168bd4611b585e2754bb4f2bc"
      }
     },
     "05aabdf2858e4206908bae07136cd9d8": {
      "model_module": "@jupyter-widgets/controls",
      "model_module_version": "1.5.0",
      "model_name": "CheckboxModel",
      "state": {
       "description": "Disable Medicina",
       "disabled": false,
       "layout": "IPY_MODEL_029a1bc823ac493a9d5dac55450c7d8c",
       "style": "IPY_MODEL_4b43c7148f124c7bbe9ce6f4582afb6a",
       "value": false
      }
     },
     "05b7256b56db42c788440d580cc6699a": {
      "model_module": "@jupyter-widgets/controls",
      "model_module_version": "1.5.0",
      "model_name": "ButtonModel",
      "state": {
       "description": "Save Figure",
       "layout": "IPY_MODEL_7789be5daad842f591d272795c57fb9f",
       "style": "IPY_MODEL_bf7d1c6cc7e24c5ea9391fdf0a7a1057"
      }
     },
     "05d877fc527b41edb3d8cf0352b556f8": {
      "model_module": "@jupyter-widgets/base",
      "model_module_version": "1.2.0",
      "model_name": "LayoutModel",
      "state": {}
     },
     "06118f0364944c62967c2623c3a19f32": {
      "model_module": "@jupyter-widgets/controls",
      "model_module_version": "1.5.0",
      "model_name": "CheckboxModel",
      "state": {
       "description": "Disable Medicina",
       "disabled": false,
       "layout": "IPY_MODEL_aeccf52d5a554f0bbaf7edb48bd96c9d",
       "style": "IPY_MODEL_274676b552764eee9b0a287d5ad62bed",
       "value": false
      }
     },
     "063837e968d4466098184e863bd1c45e": {
      "model_module": "@jupyter-widgets/base",
      "model_module_version": "1.2.0",
      "model_name": "LayoutModel",
      "state": {}
     },
     "06435c21f6d0419aa9b098d32355719c": {
      "model_module": "@jupyter-widgets/controls",
      "model_module_version": "1.5.0",
      "model_name": "FloatSliderModel",
      "state": {
       "description": "225°",
       "layout": "IPY_MODEL_c6d5d766babb449dad10195a22fdae49",
       "max": 1,
       "min": -1,
       "step": 0.01,
       "style": "IPY_MODEL_a185b10959a547a1b5590452689329fb"
      }
     },
     "0645bcb3364d4a1683dd72f428cc09e0": {
      "model_module": "@jupyter-widgets/controls",
      "model_module_version": "1.5.0",
      "model_name": "ButtonModel",
      "state": {
       "description": "Reset Hue Controls",
       "layout": "IPY_MODEL_5f21461020024df780288921a0576503",
       "style": "IPY_MODEL_ac55347140a74ce79b77dc526dbd3659"
      }
     },
     "0653a5fa0d4341218af88e7976bcb390": {
      "model_module": "@jupyter-widgets/base",
      "model_module_version": "1.2.0",
      "model_name": "LayoutModel",
      "state": {}
     },
     "06b1ef34989d4910a3d947890b82578a": {
      "model_module": "@jupyter-widgets/base",
      "model_module_version": "1.2.0",
      "model_name": "LayoutModel",
      "state": {}
     },
     "07091ae7a34f4030bd7f72439465883a": {
      "model_module": "@jupyter-widgets/base",
      "model_module_version": "1.2.0",
      "model_name": "LayoutModel",
      "state": {}
     },
     "07233c37c6614621b4692c127b0502f0": {
      "model_module": "@jupyter-widgets/base",
      "model_module_version": "1.2.0",
      "model_name": "LayoutModel",
      "state": {
       "border": "solid 4px #222",
       "margin": "4px",
       "padding": "0"
      }
     },
     "072f9df095b44aad8b4d0acc84bb61ee": {
      "model_module": "@jupyter-widgets/controls",
      "model_module_version": "1.5.0",
      "model_name": "ButtonModel",
      "state": {
       "description": "Save Figure",
       "layout": "IPY_MODEL_91336bf9e6cf4636b51ff983cc43024d",
       "style": "IPY_MODEL_c55e767e21c34692917ae8dc1d2fcdc1"
      }
     },
     "0746c53a8fa142ed82c076dc45e4b791": {
      "model_module": "@jupyter-widgets/controls",
      "model_module_version": "1.5.0",
      "model_name": "HBoxModel",
      "state": {
       "children": [
        "IPY_MODEL_bce8c07c75f348e7b1eb2151f64b9114",
        "IPY_MODEL_7052aa5433e147869fcdc16a4a700c61",
        "IPY_MODEL_79d007ce38fe4d638a387adda799445f",
        "IPY_MODEL_1615515f6e3f416190e41107d135d62e",
        "IPY_MODEL_79a14305125f4bbc9fdd8f5996434a5f"
       ],
       "layout": "IPY_MODEL_e0d416540923423fbc36f144c6c1f858"
      }
     },
     "07bbb503a28f4f54b3874264c3252a07": {
      "model_module": "@jupyter-widgets/controls",
      "model_module_version": "1.5.0",
      "model_name": "FloatSliderModel",
      "state": {
       "description": "Compression Threshold",
       "layout": "IPY_MODEL_cd420360f3704474b832b1551c80ccec",
       "max": 1,
       "step": 0.01,
       "style": "IPY_MODEL_8639ee658d7c4c1da25ff89f9361c39a",
       "value": 0.8
      }
     },
     "07dc442a5f2c4eedaaa2336b89ca1bee": {
      "model_module": "@jupyter-widgets/base",
      "model_module_version": "1.2.0",
      "model_name": "LayoutModel",
      "state": {}
     },
     "0800c8622da547fda59b39802915be2d": {
      "model_module": "@jupyter-widgets/base",
      "model_module_version": "1.2.0",
      "model_name": "LayoutModel",
      "state": {}
     },
     "080543312361462fb6c7f3738f1ec674": {
      "model_module": "@jupyter-widgets/controls",
      "model_module_version": "1.5.0",
      "model_name": "SliderStyleModel",
      "state": {
       "description_width": ""
      }
     },
     "083714b8009c475b8352028a84fda30c": {
      "model_module": "@jupyter-widgets/controls",
      "model_module_version": "1.5.0",
      "model_name": "HBoxModel",
      "state": {
       "children": [
        "IPY_MODEL_c8fe04229cd8455d953c1fab969ec7e4",
        "IPY_MODEL_b50aaa54ad084a32b4129bced25a04d3",
        "IPY_MODEL_2dfff030d3ae4c76ae29c37a8fc52031",
        "IPY_MODEL_cca4c9b020a04cce9e2d97a3c18b3f63",
        "IPY_MODEL_0f62a8b10fcb4865bb223718156af66a"
       ],
       "layout": "IPY_MODEL_b30bbe549b5f4d688d79371419693f6d"
      }
     },
     "083877945c4d4fd9be12f246cf08aa76": {
      "model_module": "@jupyter-widgets/controls",
      "model_module_version": "1.5.0",
      "model_name": "TabModel",
      "state": {
       "_titles": {
        "0": "Global Controls",
        "1": "Protected Area Controls",
        "2": "Saturation Controls",
        "3": "Hue Controls"
       },
       "children": [
        "IPY_MODEL_d7fad748bd314f3fb7df2bb702cf496a",
        "IPY_MODEL_ee68b721ee904617b14c77455fafdb28",
        "IPY_MODEL_4510f7878e45411f9a5bf5ae7fc9d603",
        "IPY_MODEL_ccbdc62ba4974472b4fc56e26209bff1"
       ],
       "layout": "IPY_MODEL_90f94eb06f554ffd870a19d7094db5cd"
      }
     },
     "086b99a7d36a4788b2fb6b5d0a4e5c7c": {
      "model_module": "@jupyter-widgets/base",
      "model_module_version": "1.2.0",
      "model_name": "LayoutModel",
      "state": {}
     },
     "086c3aba394543d08a43f2bbc4f0f351": {
      "model_module": "@jupyter-widgets/controls",
      "model_module_version": "1.5.0",
      "model_name": "TabModel",
      "state": {
       "_titles": {
        "0": "Global Controls",
        "1": "Compression Controls"
       },
       "children": [
        "IPY_MODEL_03a131f27c7a4f18a97326e3f1fc24b5",
        "IPY_MODEL_028fbe12c63940e4804147fc117203a6"
       ],
       "layout": "IPY_MODEL_5716080bd9324b228dd4c1bccf34edfd"
      }
     },
     "08aed874b2fa42f3a2c8e190e3e98ee9": {
      "model_module": "@jupyter-widgets/base",
      "model_module_version": "1.2.0",
      "model_name": "LayoutModel",
      "state": {}
     },
     "08e06016b63f409ba7ebe6290c24bbd0": {
      "model_module": "@jupyter-widgets/controls",
      "model_module_version": "1.5.0",
      "model_name": "DescriptionStyleModel",
      "state": {
       "description_width": ""
      }
     },
     "08e440aa65bf46d1881063acee9b503b": {
      "model_module": "@jupyter-widgets/controls",
      "model_module_version": "1.5.0",
      "model_name": "ButtonStyleModel",
      "state": {}
     },
     "08ecbd5e5c774166b220ec0c5a478faf": {
      "model_module": "@jupyter-widgets/controls",
      "model_module_version": "1.5.0",
      "model_name": "SliderStyleModel",
      "state": {
       "description_width": ""
      }
     },
     "091b473296e74f9594df292f543f6e92": {
      "model_module": "@jupyter-widgets/base",
      "model_module_version": "1.2.0",
      "model_name": "LayoutModel",
      "state": {}
     },
     "0921201d89f2483fb6cb2e0dc780642b": {
      "model_module": "@jupyter-widgets/controls",
      "model_module_version": "1.5.0",
      "model_name": "HBoxModel",
      "state": {
       "children": [
        "IPY_MODEL_de262d0cfd2e4c618d791e0cf431aa30",
        "IPY_MODEL_799008cb4b9040fc96a78045ff5ec9cf",
        "IPY_MODEL_3ca3ddfdabee440da605e1f64627c27a",
        "IPY_MODEL_439d9218105e4ff6bea95b47afa05f5b"
       ],
       "layout": "IPY_MODEL_699b1ca0d9aa411da596322399b7e1ae"
      }
     },
     "09256f6cd13a44b38d05c016c268aff4": {
      "model_module": "@jupyter-widgets/base",
      "model_module_version": "1.2.0",
      "model_name": "LayoutModel",
      "state": {}
     },
     "09e71b603b56475587646eea6a7f24b3": {
      "model_module": "@jupyter-widgets/base",
      "model_module_version": "1.2.0",
      "model_name": "LayoutModel",
      "state": {
       "border": "solid 4px #222",
       "margin": "4px",
       "padding": "0"
      }
     },
     "09e79a359be7444e92c99b064c5f83aa": {
      "model_module": "@jupyter-widgets/controls",
      "model_module_version": "1.5.0",
      "model_name": "FloatSliderModel",
      "state": {
       "description": "315°",
       "layout": "IPY_MODEL_c486ebbdcd544658b131484f92bcf8c9",
       "max": 1,
       "min": -1,
       "step": 0.01,
       "style": "IPY_MODEL_53aca45e301848b4adf92a06ce024330"
      }
     },
     "09f8debc936f421b86fd655323fbbdda": {
      "model_module": "@jupyter-widgets/base",
      "model_module_version": "1.2.0",
      "model_name": "LayoutModel",
      "state": {}
     },
     "0a1371adbef045a2bfa5b94c51471934": {
      "model_module": "@jupyter-widgets/base",
      "model_module_version": "1.2.0",
      "model_name": "LayoutModel",
      "state": {}
     },
     "0a20ff032dce4d119944b432cdf3310b": {
      "model_module": "@jupyter-widgets/base",
      "model_module_version": "1.2.0",
      "model_name": "LayoutModel",
      "state": {
       "border": "solid 4px #222",
       "margin": "4px",
       "padding": "0"
      }
     },
     "0a3a5f32fb564145af4d04656334cf1e": {
      "model_module": "jupyter-matplotlib",
      "model_module_version": "^0.7.2",
      "model_name": "ToolbarModel",
      "state": {
       "layout": "IPY_MODEL_ead7fc6d4c664210bf2d87f94b32b1c5",
       "toolitems": [
        [
         "Home",
         "Reset original view",
         "home",
         "home"
        ],
        [
         "Back",
         "Back to previous view",
         "arrow-left",
         "back"
        ],
        [
         "Forward",
         "Forward to next view",
         "arrow-right",
         "forward"
        ],
        [
         "Pan",
         "Pan axes with left mouse, zoom with right",
         "arrows",
         "pan"
        ],
        [
         "Zoom",
         "Zoom to rectangle",
         "square-o",
         "zoom"
        ],
        [
         "Download",
         "Download plot",
         "floppy-o",
         "save_figure"
        ]
       ]
      }
     },
     "0a7dceefeae34d59a26efaa49e971a29": {
      "model_module": "@jupyter-widgets/base",
      "model_module_version": "1.2.0",
      "model_name": "LayoutModel",
      "state": {}
     },
     "0a8fb9559b4b44279859b6af4b982014": {
      "model_module": "@jupyter-widgets/base",
      "model_module_version": "1.2.0",
      "model_name": "LayoutModel",
      "state": {
       "border": "solid 4px #222",
       "margin": "4px",
       "padding": "0"
      }
     },
     "0a90c06e0a1a46ec82a4bdb06532d4d6": {
      "model_module": "@jupyter-widgets/base",
      "model_module_version": "1.2.0",
      "model_name": "LayoutModel",
      "state": {}
     },
     "0ad754433d734fbf8ac5a4541c2ac357": {
      "model_module": "@jupyter-widgets/base",
      "model_module_version": "1.2.0",
      "model_name": "LayoutModel",
      "state": {}
     },
     "0ae26ff5e8534cb9b6e6d0dc8286e53b": {
      "model_module": "@jupyter-widgets/base",
      "model_module_version": "1.2.0",
      "model_name": "LayoutModel",
      "state": {}
     },
     "0af4f837c6444874aa5d3420a361118d": {
      "model_module": "@jupyter-widgets/base",
      "model_module_version": "1.2.0",
      "model_name": "LayoutModel",
      "state": {}
     },
     "0af54d29f85e4da3a5805f5d06ef2de9": {
      "model_module": "@jupyter-widgets/base",
      "model_module_version": "1.2.0",
      "model_name": "LayoutModel",
      "state": {
       "border": "solid 4px #222",
       "margin": "4px",
       "padding": "0"
      }
     },
     "0b2868075bb549d6a7cc0c66c9a5c225": {
      "model_module": "@jupyter-widgets/base",
      "model_module_version": "1.2.0",
      "model_name": "LayoutModel",
      "state": {}
     },
     "0b3c731d48e3494ab4518031758c5200": {
      "model_module": "@jupyter-widgets/controls",
      "model_module_version": "1.5.0",
      "model_name": "ButtonStyleModel",
      "state": {}
     },
     "0b43596d8adb4b8eadd1bfee0b0a0959": {
      "model_module": "@jupyter-widgets/base",
      "model_module_version": "1.2.0",
      "model_name": "LayoutModel",
      "state": {
       "border": "solid 4px #222",
       "margin": "4px",
       "padding": "0"
      }
     },
     "0b59c0da00904a4ebf6b50ac37c4b885": {
      "model_module": "@jupyter-widgets/controls",
      "model_module_version": "1.5.0",
      "model_name": "ButtonModel",
      "state": {
       "description": "Reset Exposure",
       "layout": "IPY_MODEL_ea8426e381f3459f9edd7653d3199985",
       "style": "IPY_MODEL_f3b930a566394400a0186dbdfefe03e9"
      }
     },
     "0b5f1ef2001c423189160e000043c55b": {
      "model_module": "@jupyter-widgets/controls",
      "model_module_version": "1.5.0",
      "model_name": "ButtonStyleModel",
      "state": {}
     },
     "0b8e40eedaf6485cad0258ad6273faa8": {
      "model_module": "@jupyter-widgets/base",
      "model_module_version": "1.2.0",
      "model_name": "LayoutModel",
      "state": {}
     },
     "0bd21b8e1cae4d0c9139872b64a3ab47": {
      "model_module": "@jupyter-widgets/controls",
      "model_module_version": "1.5.0",
      "model_name": "FloatSliderModel",
      "state": {
       "description": "Protected Area Threshold",
       "layout": "IPY_MODEL_3e09144040d6467b819ba515bf3de53a",
       "max": 1,
       "step": 0.01,
       "style": "IPY_MODEL_641fd918010c4ded952ca671a7f3e3b2",
       "value": 0.5
      }
     },
     "0c13f0fd627a4cf18e19a05a2d491fe5": {
      "model_module": "@jupyter-widgets/base",
      "model_module_version": "1.2.0",
      "model_name": "LayoutModel",
      "state": {}
     },
     "0c34217e195f4bfbb4c565d1031c2a34": {
      "model_module": "@jupyter-widgets/base",
      "model_module_version": "1.2.0",
      "model_name": "LayoutModel",
      "state": {}
     },
     "0c48ed8013e74b3ab22cd06d5b988954": {
      "model_module": "@jupyter-widgets/base",
      "model_module_version": "1.2.0",
      "model_name": "LayoutModel",
      "state": {}
     },
     "0c835ad5fffe4b8c88ab22aea1258203": {
      "model_module": "@jupyter-widgets/controls",
      "model_module_version": "1.5.0",
      "model_name": "ButtonModel",
      "state": {
       "description": "Reset Hue Controls",
       "layout": "IPY_MODEL_c21f01adf3174451b987d21dc1d2d29e",
       "style": "IPY_MODEL_8f92d662aba64cbb90b07128e8bd63f3"
      }
     },
     "0ca96c045643493b9779a0538b40a29f": {
      "model_module": "jupyter-matplotlib",
      "model_module_version": "^0.7.2",
      "model_name": "MPLCanvasModel",
      "state": {
       "header_visible": false,
       "layout": "IPY_MODEL_68506121e8f94e308872ec890d448846",
       "resizable": false,
       "toolbar": "IPY_MODEL_4054e57122894a3fb848cbdd7e4106a1",
       "toolbar_position": "left",
       "toolbar_visible": false
      }
     },
     "0cac10e01c25441a8594140b432283e1": {
      "model_module": "@jupyter-widgets/controls",
      "model_module_version": "1.5.0",
      "model_name": "SliderStyleModel",
      "state": {
       "description_width": ""
      }
     },
     "0cbaaba082644dfebae7fe5c495833d8": {
      "model_module": "@jupyter-widgets/base",
      "model_module_version": "1.2.0",
      "model_name": "LayoutModel",
      "state": {}
     },
     "0cd4ad55c1fe458b968ea77a046ddd27": {
      "model_module": "@jupyter-widgets/controls",
      "model_module_version": "1.5.0",
      "model_name": "FloatSliderModel",
      "state": {
       "description": "Protected Area Threshold",
       "layout": "IPY_MODEL_8834fb481bce41e7bccf410f11d218e2",
       "max": 1,
       "step": 0.01,
       "style": "IPY_MODEL_46e9e4e66f8a49d3b31a019721def417",
       "value": 0.7
      }
     },
     "0ce39c733fb949f7b48ad5151601760a": {
      "model_module": "@jupyter-widgets/controls",
      "model_module_version": "1.5.0",
      "model_name": "VBoxModel",
      "state": {
       "children": [
        "IPY_MODEL_41711417236a4f36a7e6ccf15314ebe5",
        "IPY_MODEL_50031c6a339a4f5fac273bd1f0b3285f",
        "IPY_MODEL_10292071270b4545bd6f156c86dead3f"
       ],
       "layout": "IPY_MODEL_e494f0f8a1b14c40afd83c7bff5573ab"
      }
     },
     "0d1659b1caed4537b2768e12bc309ccb": {
      "model_module": "jupyter-matplotlib",
      "model_module_version": "^0.7.2",
      "model_name": "MPLCanvasModel",
      "state": {
       "_figure_label": "Figure 1",
       "_height": 458,
       "_width": 1100,
       "header_visible": false,
       "layout": "IPY_MODEL_d15bbb338d474444b216351e6ce57bd4",
       "resizable": false,
       "toolbar": "IPY_MODEL_4dbe8551c8a840149cf9fe4d3f8e7d6c",
       "toolbar_position": "left",
       "toolbar_visible": false
      }
     },
     "0d28248aea164518955dae6076e43e3c": {
      "model_module": "@jupyter-widgets/controls",
      "model_module_version": "1.5.0",
      "model_name": "SliderStyleModel",
      "state": {
       "description_width": ""
      }
     },
     "0d2fa36146fc427a9e310b97db84a4b6": {
      "model_module": "@jupyter-widgets/base",
      "model_module_version": "1.2.0",
      "model_name": "LayoutModel",
      "state": {}
     },
     "0d5dad82cfed44849bde0d29cf9b76c4": {
      "model_module": "@jupyter-widgets/base",
      "model_module_version": "1.2.0",
      "model_name": "LayoutModel",
      "state": {}
     },
     "0d74cb708fed4cc3a28189a67ec3bba8": {
      "model_module": "@jupyter-widgets/controls",
      "model_module_version": "1.5.0",
      "model_name": "ButtonModel",
      "state": {
       "description": "Reset Saturation Controls",
       "layout": "IPY_MODEL_16ba330d9d5d4c4e8c1c05371aa2b6fd",
       "style": "IPY_MODEL_3446cedb90fc462b80b1792dd9a9f429"
      }
     },
     "0d94df8ba50b4a058e3d76010b164171": {
      "model_module": "@jupyter-widgets/base",
      "model_module_version": "1.2.0",
      "model_name": "LayoutModel",
      "state": {
       "border": "solid 4px #222",
       "margin": "4px",
       "padding": "0"
      }
     },
     "0dba687114974cf1bcb8fc4065ec51e0": {
      "model_module": "@jupyter-widgets/base",
      "model_module_version": "1.2.0",
      "model_name": "LayoutModel",
      "state": {
       "border": "solid 4px #222",
       "margin": "4px",
       "padding": "0"
      }
     },
     "0dcae50fcd774941a8ef123add23f4b6": {
      "model_module": "@jupyter-widgets/controls",
      "model_module_version": "1.5.0",
      "model_name": "DropdownModel",
      "state": {
       "_options_labels": [
        "tanh",
        "atan",
        "simple"
       ],
       "description": "Compression Function:",
       "index": 0,
       "layout": "IPY_MODEL_f308c00415d14e04b5be9529eff23ad9",
       "style": "IPY_MODEL_abd377c47c184a8dab3579439b992577"
      }
     },
     "0dd10e32740f4f62a17fc1c8ab8ede7b": {
      "model_module": "@jupyter-widgets/base",
      "model_module_version": "1.2.0",
      "model_name": "LayoutModel",
      "state": {}
     },
     "0dfc76b2d3554027add584b20cedf50c": {
      "model_module": "@jupyter-widgets/base",
      "model_module_version": "1.2.0",
      "model_name": "LayoutModel",
      "state": {}
     },
     "0e027c9fab1b4635b178cbbb1fb1c648": {
      "model_module": "@jupyter-widgets/controls",
      "model_module_version": "1.5.0",
      "model_name": "HBoxModel",
      "state": {
       "children": [
        "IPY_MODEL_de863d2e10ab4ed8a308cf16ac55e051",
        "IPY_MODEL_d545c7b392bf4f7d8f8300eca62d177c",
        "IPY_MODEL_05b7256b56db42c788440d580cc6699a",
        "IPY_MODEL_235a69e1ca11487c8eb5f0eb93c7a68d",
        "IPY_MODEL_d8123852cb9a4be78ee102557695b18f"
       ],
       "layout": "IPY_MODEL_d3fd990369014201913e68d68d6b958c"
      }
     },
     "0e58c2a4eb1f4c0eb2455e4e270edd5f": {
      "model_module": "@jupyter-widgets/base",
      "model_module_version": "1.2.0",
      "model_name": "LayoutModel",
      "state": {}
     },
     "0e5d94bffa54437989271db06af8003d": {
      "model_module": "@jupyter-widgets/controls",
      "model_module_version": "1.5.0",
      "model_name": "VBoxModel",
      "state": {
       "children": [
        "IPY_MODEL_5f98bfc3036c49dfa0099686c49adb16",
        "IPY_MODEL_5ff074ba602f4c3d974ed5aaaf3da08d",
        "IPY_MODEL_b98dd6702f3c4bce8ca3767c18f2d10e"
       ],
       "layout": "IPY_MODEL_9348b4af0c504eb4b469a66f159aac78"
      }
     },
     "0e92c362e029428c9831325420364877": {
      "model_module": "@jupyter-widgets/controls",
      "model_module_version": "1.5.0",
      "model_name": "VBoxModel",
      "state": {
       "children": [
        "IPY_MODEL_048650a5ab334f5192ad6fb19437d614",
        "IPY_MODEL_871187495773497296f487ded6458d56",
        "IPY_MODEL_2eafcde19c4847788f6a5a30e770b42c"
       ],
       "layout": "IPY_MODEL_6a9163991f644c5686c524801a3de376"
      }
     },
     "0ee0e1535b6942c19d9b3d8e1d299c47": {
      "model_module": "@jupyter-widgets/controls",
      "model_module_version": "1.5.0",
      "model_name": "ButtonModel",
      "state": {
       "description": "Export Image",
       "layout": "IPY_MODEL_dfaf9b6177054c63ac5e861595bb3ac6",
       "style": "IPY_MODEL_eee0d31eb1ec4b5281e17e22626bbb37"
      }
     },
     "0f20baaa54f344018026b5240cd21a2a": {
      "model_module": "@jupyter-widgets/controls",
      "model_module_version": "1.5.0",
      "model_name": "DropdownModel",
      "state": {
       "_options_labels": [
        "tanh",
        "atan",
        "simple"
       ],
       "description": "Compression Function:",
       "index": 0,
       "layout": "IPY_MODEL_4dafa2f8f4a843e4966ec44d4f61404a",
       "style": "IPY_MODEL_392e48f7a36341c0bed76d3623ffc765"
      }
     },
     "0f37984337b4432390c516a61cf02eb1": {
      "model_module": "@jupyter-widgets/base",
      "model_module_version": "1.2.0",
      "model_name": "LayoutModel",
      "state": {}
     },
     "0f46c432051f45d1a0580d60715cdcb2": {
      "model_module": "@jupyter-widgets/controls",
      "model_module_version": "1.5.0",
      "model_name": "SliderStyleModel",
      "state": {
       "description_width": ""
      }
     },
     "0f62a8b10fcb4865bb223718156af66a": {
      "model_module": "@jupyter-widgets/controls",
      "model_module_version": "1.5.0",
      "model_name": "FloatSliderModel",
      "state": {
       "description": "Exposure",
       "layout": "IPY_MODEL_2e121607485245f69b4c00dceb30396d",
       "max": 8,
       "min": -8,
       "step": 0.1,
       "style": "IPY_MODEL_7cfaa72557094bbbac39e08527dfb870"
      }
     },
     "0fcb4554844e4a4e8856f2e63fce3f6a": {
      "model_module": "@jupyter-widgets/controls",
      "model_module_version": "1.5.0",
      "model_name": "SliderStyleModel",
      "state": {
       "description_width": ""
      }
     },
     "0fd4cf7504214cf78080138b6a6a9334": {
      "model_module": "jupyter-matplotlib",
      "model_module_version": "^0.7.2",
      "model_name": "MPLCanvasModel",
      "state": {
       "header_visible": false,
       "layout": "IPY_MODEL_0dfc76b2d3554027add584b20cedf50c",
       "resizable": false,
       "toolbar": "IPY_MODEL_c18353ec768b426093e26ff106546e86",
       "toolbar_position": "left",
       "toolbar_visible": false
      }
     },
     "0ffdfeb9c03d46d2a084d560c19e4794": {
      "model_module": "@jupyter-widgets/controls",
      "model_module_version": "1.5.0",
      "model_name": "SliderStyleModel",
      "state": {
       "description_width": ""
      }
     },
     "0fff57edc74e4427b9ad4b0ae313f186": {
      "model_module": "@jupyter-widgets/controls",
      "model_module_version": "1.5.0",
      "model_name": "FloatSliderModel",
      "state": {
       "description": "Compression Threshold",
       "layout": "IPY_MODEL_6b8ba21d42184fa9aaeac2a60b645e46",
       "max": 1,
       "step": 0.01,
       "style": "IPY_MODEL_312d249c135e4903912d65418868b6cf",
       "value": 0.8
      }
     },
     "101c3057e74f47f194de54c6108d7023": {
      "model_module": "@jupyter-widgets/controls",
      "model_module_version": "1.5.0",
      "model_name": "FloatSliderModel",
      "state": {
       "description": "315°",
       "layout": "IPY_MODEL_c42229dbea914f3caaf82983aed32c64",
       "max": 1,
       "min": -1,
       "step": 0.01,
       "style": "IPY_MODEL_7c0b42f742db4c9cab066d115b833bb9"
      }
     },
     "10292071270b4545bd6f156c86dead3f": {
      "model_module": "@jupyter-widgets/controls",
      "model_module_version": "1.5.0",
      "model_name": "FloatSliderModel",
      "state": {
       "description": "225°",
       "layout": "IPY_MODEL_cd3f1f22d13a4f69bec6e80743ec12b2",
       "max": 1,
       "min": -1,
       "step": 0.01,
       "style": "IPY_MODEL_fa7a3b1eee1a4c069f70be3f07923331"
      }
     },
     "1038aa5e7dee42d0a1f5bfbf101d0ff8": {
      "model_module": "@jupyter-widgets/controls",
      "model_module_version": "1.5.0",
      "model_name": "VBoxModel",
      "state": {
       "children": [
        "IPY_MODEL_9edd0971672044dbb19a8c76f8a4514e",
        "IPY_MODEL_35a83ba010e54131a4eb4f2411b728f9"
       ],
       "layout": "IPY_MODEL_644531b7002942b9b4832e0eecffa22f"
      }
     },
     "105c77d40ee14b0db6f245ed57c9d736": {
      "model_module": "@jupyter-widgets/base",
      "model_module_version": "1.2.0",
      "model_name": "LayoutModel",
      "state": {
       "border": "solid 4px #222",
       "margin": "4px",
       "padding": "0"
      }
     },
     "10b53e9589fd4770b83fee45fccc88ba": {
      "model_module": "@jupyter-widgets/base",
      "model_module_version": "1.2.0",
      "model_name": "LayoutModel",
      "state": {}
     },
     "10ec2720bb8245e3aae5d9639c987994": {
      "model_module": "@jupyter-widgets/controls",
      "model_module_version": "1.5.0",
      "model_name": "CheckboxModel",
      "state": {
       "description": "Disable Medicina",
       "disabled": false,
       "layout": "IPY_MODEL_711d31f9ec8c475083ba4f875e0f6cc4",
       "style": "IPY_MODEL_001b5ab5e958470ab2cac031f5c1e420",
       "value": false
      }
     },
     "11075577068943b99aec8efba0cd6983": {
      "model_module": "@jupyter-widgets/output",
      "model_module_version": "1.0.0",
      "model_name": "OutputModel",
      "state": {
       "layout": "IPY_MODEL_68452c168a3b4af3bc0a2f80ef78acc2",
       "outputs": [
        {
         "data": {
          "application/vnd.jupyter.widget-view+json": {
           "model_id": "0ca96c045643493b9779a0538b40a29f",
           "version_major": 2,
           "version_minor": 0
          },
          "text/plain": "Canvas(toolbar=Toolbar(toolitems=[('Home', 'Reset original view', 'home', 'home'), ('Back', 'Back to previous …"
         },
         "metadata": {},
         "output_type": "display_data"
        }
       ]
      }
     },
     "115696015fbb4b53b56023b920f3f19e": {
      "model_module": "@jupyter-widgets/controls",
      "model_module_version": "1.5.0",
      "model_name": "ButtonStyleModel",
      "state": {}
     },
     "115b408c83184adea7fdda9b6819e38e": {
      "model_module": "@jupyter-widgets/controls",
      "model_module_version": "1.5.0",
      "model_name": "ButtonStyleModel",
      "state": {}
     },
     "1172b3ce9ff04d9e969766caa500eacb": {
      "model_module": "@jupyter-widgets/base",
      "model_module_version": "1.2.0",
      "model_name": "LayoutModel",
      "state": {}
     },
     "1190e26d106e4bf0be3374a27628804c": {
      "model_module": "@jupyter-widgets/base",
      "model_module_version": "1.2.0",
      "model_name": "LayoutModel",
      "state": {
       "border": "solid 4px #222",
       "margin": "4px",
       "padding": "0"
      }
     },
     "11a9c8f47a4544c39ff74a508cc426f3": {
      "model_module": "@jupyter-widgets/base",
      "model_module_version": "1.2.0",
      "model_name": "LayoutModel",
      "state": {}
     },
     "1228908b274845a7af744b809011e16c": {
      "model_module": "jupyter-matplotlib",
      "model_module_version": "^0.7.2",
      "model_name": "ToolbarModel",
      "state": {
       "layout": "IPY_MODEL_29a570220a4d4d80874a606041bb8abe",
       "toolitems": [
        [
         "Home",
         "Reset original view",
         "home",
         "home"
        ],
        [
         "Back",
         "Back to previous view",
         "arrow-left",
         "back"
        ],
        [
         "Forward",
         "Forward to next view",
         "arrow-right",
         "forward"
        ],
        [
         "Pan",
         "Pan axes with left mouse, zoom with right",
         "arrows",
         "pan"
        ],
        [
         "Zoom",
         "Zoom to rectangle",
         "square-o",
         "zoom"
        ],
        [
         "Download",
         "Download plot",
         "floppy-o",
         "save_figure"
        ]
       ]
      }
     },
     "123c6c22d78b490e924b0b68c1243743": {
      "model_module": "@jupyter-widgets/base",
      "model_module_version": "1.2.0",
      "model_name": "LayoutModel",
      "state": {
       "border": "solid 4px #222",
       "margin": "4px",
       "padding": "0"
      }
     },
     "1259415b4dcc410485e7b5c63cc1bb41": {
      "model_module": "@jupyter-widgets/controls",
      "model_module_version": "1.5.0",
      "model_name": "DescriptionStyleModel",
      "state": {
       "description_width": ""
      }
     },
     "1295397619534c418cd6b412e21fae1d": {
      "model_module": "@jupyter-widgets/base",
      "model_module_version": "1.2.0",
      "model_name": "LayoutModel",
      "state": {}
     },
     "129880f4029240fba6da8a5edf893528": {
      "model_module": "@jupyter-widgets/base",
      "model_module_version": "1.2.0",
      "model_name": "LayoutModel",
      "state": {}
     },
     "12dd270985f44f79bce64804d731c5a7": {
      "model_module": "@jupyter-widgets/controls",
      "model_module_version": "1.5.0",
      "model_name": "FloatSliderModel",
      "state": {
       "description": "Protected Area Threshold",
       "layout": "IPY_MODEL_994c5503b96246d3a26b6b7d8f4b539b",
       "max": 1,
       "step": 0.01,
       "style": "IPY_MODEL_e213f7f0df92426592d273bf702a27a6",
       "value": 0.7
      }
     },
     "12e52fcedfb24c8ba70d1c2a9497769f": {
      "model_module": "@jupyter-widgets/controls",
      "model_module_version": "1.5.0",
      "model_name": "FloatSliderModel",
      "state": {
       "description": "270°",
       "layout": "IPY_MODEL_77a099b7c02a469b9436caf0da10d2ce",
       "max": 1,
       "min": -1,
       "step": 0.01,
       "style": "IPY_MODEL_6f977272f8624ba8a3fc79fcbc03d81d"
      }
     },
     "12edcdb66edd4a00a77352fff0998431": {
      "model_module": "@jupyter-widgets/controls",
      "model_module_version": "1.5.0",
      "model_name": "SliderStyleModel",
      "state": {
       "description_width": ""
      }
     },
     "13ad3c44ed1f491c9d6f1537c80e40e3": {
      "model_module": "@jupyter-widgets/controls",
      "model_module_version": "1.5.0",
      "model_name": "HBoxModel",
      "state": {
       "children": [
        "IPY_MODEL_f350c02900c44f358440ebdd525d1290",
        "IPY_MODEL_15d049a6f43f48ed9effc2ab5fce775e"
       ],
       "layout": "IPY_MODEL_592789ea4d8e4fd0bd609ef08a46fd9e"
      }
     },
     "1458991576e04141ba40db8be46995ca": {
      "model_module": "@jupyter-widgets/controls",
      "model_module_version": "1.5.0",
      "model_name": "ButtonStyleModel",
      "state": {}
     },
     "1467a2718ddf426aa3ae6cdc0f4347ba": {
      "model_module": "@jupyter-widgets/base",
      "model_module_version": "1.2.0",
      "model_name": "LayoutModel",
      "state": {}
     },
     "147a318fd3e54182a0fc3908384d71e8": {
      "model_module": "@jupyter-widgets/controls",
      "model_module_version": "1.5.0",
      "model_name": "ButtonModel",
      "state": {
       "description": "Save Figure",
       "layout": "IPY_MODEL_a88b97acd54c481d8771d054f19155bb",
       "style": "IPY_MODEL_4472c2867e1142f2ba41f50d61b4de43"
      }
     },
     "14a237aecde641e187aec6aef48db721": {
      "model_module": "@jupyter-widgets/base",
      "model_module_version": "1.2.0",
      "model_name": "LayoutModel",
      "state": {}
     },
     "151fadb20cf340b2b599fb8a16c72b96": {
      "model_module": "@jupyter-widgets/controls",
      "model_module_version": "1.5.0",
      "model_name": "ButtonModel",
      "state": {
       "description": "Reset Saturation Controls",
       "layout": "IPY_MODEL_f01b047291a0432daa659b8fedbd98a4",
       "style": "IPY_MODEL_a2d819a72df8441f95453f1cb154526a"
      }
     },
     "156569ca7b0e4afa86211dc250efba1b": {
      "model_module": "@jupyter-widgets/controls",
      "model_module_version": "1.5.0",
      "model_name": "ButtonModel",
      "state": {
       "description": "Export Image",
       "layout": "IPY_MODEL_e3eb40c3ae9040c1a93e871644245537",
       "style": "IPY_MODEL_0b3c731d48e3494ab4518031758c5200"
      }
     },
     "159fab35dcdf4c5fb2a0c474c4c92988": {
      "model_module": "@jupyter-widgets/controls",
      "model_module_version": "1.5.0",
      "model_name": "SliderStyleModel",
      "state": {
       "description_width": ""
      }
     },
     "15b08531f073426aad50874c9a80de24": {
      "model_module": "@jupyter-widgets/controls",
      "model_module_version": "1.5.0",
      "model_name": "ButtonModel",
      "state": {
       "description": "Save Figure",
       "layout": "IPY_MODEL_eb7e40cd2b2642f3885df66fd8695eb4",
       "style": "IPY_MODEL_fe10f7d0d4d74a44982dd7462a6cf136"
      }
     },
     "15d049a6f43f48ed9effc2ab5fce775e": {
      "model_module": "@jupyter-widgets/controls",
      "model_module_version": "1.5.0",
      "model_name": "FloatSliderModel",
      "state": {
       "description": "Protected Area Threshold",
       "layout": "IPY_MODEL_f5ccb3836e654fa6ae72dd24820d1fb1",
       "max": 1,
       "step": 0.01,
       "style": "IPY_MODEL_77420f6c8dba4d95ab84b01705e11c71",
       "value": 0.7
      }
     },
     "1603d0bbd1764871a2b205c67d80b0e3": {
      "model_module": "@jupyter-widgets/controls",
      "model_module_version": "1.5.0",
      "model_name": "SliderStyleModel",
      "state": {
       "description_width": ""
      }
     },
     "1604baa9aff04de39a6ee14d267444dc": {
      "model_module": "@jupyter-widgets/controls",
      "model_module_version": "1.5.0",
      "model_name": "ButtonStyleModel",
      "state": {}
     },
     "160bc311b58e45489326674a357d7ba7": {
      "model_module": "@jupyter-widgets/base",
      "model_module_version": "1.2.0",
      "model_name": "LayoutModel",
      "state": {}
     },
     "160fa217c7ce4ecda1eec8c1a631cc0b": {
      "model_module": "jupyter-matplotlib",
      "model_module_version": "^0.7.2",
      "model_name": "ToolbarModel",
      "state": {
       "layout": "IPY_MODEL_af9d6e9238324f0abcb04aebbc73d24d",
       "toolitems": [
        [
         "Home",
         "Reset original view",
         "home",
         "home"
        ],
        [
         "Back",
         "Back to previous view",
         "arrow-left",
         "back"
        ],
        [
         "Forward",
         "Forward to next view",
         "arrow-right",
         "forward"
        ],
        [
         "Pan",
         "Pan axes with left mouse, zoom with right",
         "arrows",
         "pan"
        ],
        [
         "Zoom",
         "Zoom to rectangle",
         "square-o",
         "zoom"
        ],
        [
         "Download",
         "Download plot",
         "floppy-o",
         "save_figure"
        ]
       ]
      }
     },
     "1615515f6e3f416190e41107d135d62e": {
      "model_module": "@jupyter-widgets/controls",
      "model_module_version": "1.5.0",
      "model_name": "ButtonModel",
      "state": {
       "description": "Reset Exposure",
       "layout": "IPY_MODEL_84b3f41dc9e04ac3b8e67c1dc269aa8b",
       "style": "IPY_MODEL_d407535f3d3142bab1adb9bb8ab14c90"
      }
     },
     "164dfb7ae4f6414c974108ca26328e94": {
      "model_module": "@jupyter-widgets/base",
      "model_module_version": "1.2.0",
      "model_name": "LayoutModel",
      "state": {}
     },
     "1659f440a6b04688976e9d64bfbab884": {
      "model_module": "@jupyter-widgets/controls",
      "model_module_version": "1.5.0",
      "model_name": "SliderStyleModel",
      "state": {
       "description_width": ""
      }
     },
     "166f0cd85dc3426e9f1eefaaad3d89f3": {
      "model_module": "@jupyter-widgets/controls",
      "model_module_version": "1.5.0",
      "model_name": "ButtonModel",
      "state": {
       "description": "Save Figure",
       "layout": "IPY_MODEL_0b8e40eedaf6485cad0258ad6273faa8",
       "style": "IPY_MODEL_6d07c457f5a24ba9ae0a7ddda376515a"
      }
     },
     "168428d419384ce88fab20be7f9fe6eb": {
      "model_module": "@jupyter-widgets/controls",
      "model_module_version": "1.5.0",
      "model_name": "ButtonModel",
      "state": {
       "description": "Reset Hue Controls",
       "layout": "IPY_MODEL_7b8fdb6b11064d8092e8c299df7e558a",
       "style": "IPY_MODEL_23bcb5375c5c42c3886d1eeb335498dc"
      }
     },
     "168d8d3a8b444949930eb26ab78da909": {
      "model_module": "@jupyter-widgets/base",
      "model_module_version": "1.2.0",
      "model_name": "LayoutModel",
      "state": {}
     },
     "16ba330d9d5d4c4e8c1c05371aa2b6fd": {
      "model_module": "@jupyter-widgets/base",
      "model_module_version": "1.2.0",
      "model_name": "LayoutModel",
      "state": {}
     },
     "16bf32c74b504b2f8ca2a666c4dfb63d": {
      "model_module": "@jupyter-widgets/controls",
      "model_module_version": "1.5.0",
      "model_name": "ButtonModel",
      "state": {
       "description": "Export Image",
       "layout": "IPY_MODEL_c9e047e2726f473e8c28486eebed1fdd",
       "style": "IPY_MODEL_24e9af77aaeb4d659708fd654db9b267"
      }
     },
     "16d2a1f13ecd47079c5e44e40be40655": {
      "model_module": "@jupyter-widgets/base",
      "model_module_version": "1.2.0",
      "model_name": "LayoutModel",
      "state": {
       "align_items": "stretch",
       "display": "flex",
       "flex_flow": "column",
       "width": "1128px"
      }
     },
     "17042270b197431cbb78dec9061f3b32": {
      "model_module": "@jupyter-widgets/base",
      "model_module_version": "1.2.0",
      "model_name": "LayoutModel",
      "state": {}
     },
     "1733d1b8fca54360a997ef5ac1b6f576": {
      "model_module": "@jupyter-widgets/controls",
      "model_module_version": "1.5.0",
      "model_name": "ButtonStyleModel",
      "state": {}
     },
     "1741168ca21143baa10142580b004bb5": {
      "model_module": "@jupyter-widgets/base",
      "model_module_version": "1.2.0",
      "model_name": "LayoutModel",
      "state": {}
     },
     "174a58a5b1d24aeebd22e2b5c116841a": {
      "model_module": "@jupyter-widgets/base",
      "model_module_version": "1.2.0",
      "model_name": "LayoutModel",
      "state": {}
     },
     "175603965e1542249b8c6f82c01fd71d": {
      "model_module": "@jupyter-widgets/base",
      "model_module_version": "1.2.0",
      "model_name": "LayoutModel",
      "state": {}
     },
     "1774ceccccff4ed39c89e5fcb18b1ee7": {
      "model_module": "@jupyter-widgets/controls",
      "model_module_version": "1.5.0",
      "model_name": "SliderStyleModel",
      "state": {
       "description_width": ""
      }
     },
     "17a929f2a5ec410e884eeca54e57829f": {
      "model_module": "@jupyter-widgets/base",
      "model_module_version": "1.2.0",
      "model_name": "LayoutModel",
      "state": {}
     },
     "180cbe63ba354bef8766e6866d8810da": {
      "model_module": "@jupyter-widgets/base",
      "model_module_version": "1.2.0",
      "model_name": "LayoutModel",
      "state": {}
     },
     "185213d93f9248ae8d9c1530d818f961": {
      "model_module": "@jupyter-widgets/base",
      "model_module_version": "1.2.0",
      "model_name": "LayoutModel",
      "state": {}
     },
     "185bf8549e984de5b81a92519e38ca0d": {
      "model_module": "@jupyter-widgets/base",
      "model_module_version": "1.2.0",
      "model_name": "LayoutModel",
      "state": {}
     },
     "188277362b604a9ea5fb3855cb633e47": {
      "model_module": "@jupyter-widgets/base",
      "model_module_version": "1.2.0",
      "model_name": "LayoutModel",
      "state": {}
     },
     "18df7938321c443cb76d3952cb4af475": {
      "model_module": "@jupyter-widgets/controls",
      "model_module_version": "1.5.0",
      "model_name": "DescriptionStyleModel",
      "state": {
       "description_width": ""
      }
     },
     "18e37e2b7dfb4755946653180c19dc27": {
      "model_module": "@jupyter-widgets/controls",
      "model_module_version": "1.5.0",
      "model_name": "ButtonStyleModel",
      "state": {}
     },
     "190f2212fd7b4510a79aa1862ea87eb1": {
      "model_module": "@jupyter-widgets/controls",
      "model_module_version": "1.5.0",
      "model_name": "ButtonStyleModel",
      "state": {}
     },
     "1910724df2dd4ae1a278cc3809f8b82e": {
      "model_module": "@jupyter-widgets/base",
      "model_module_version": "1.2.0",
      "model_name": "LayoutModel",
      "state": {}
     },
     "19126bd56b154946a31e17fb3d720280": {
      "model_module": "@jupyter-widgets/controls",
      "model_module_version": "1.5.0",
      "model_name": "ButtonStyleModel",
      "state": {}
     },
     "191ee6cccd0146aab261e00db8ecb747": {
      "model_module": "@jupyter-widgets/controls",
      "model_module_version": "1.5.0",
      "model_name": "FloatSliderModel",
      "state": {
       "description": "90°",
       "layout": "IPY_MODEL_24798d63823a484b90eabcdf4e9b8fbb",
       "max": 1,
       "min": -1,
       "step": 0.01,
       "style": "IPY_MODEL_252ebee3bbff48a181b61a6605e0a253"
      }
     },
     "192d78801b5c4dd7b7941aefbb1b7660": {
      "model_module": "@jupyter-widgets/output",
      "model_module_version": "1.0.0",
      "model_name": "OutputModel",
      "state": {
       "layout": "IPY_MODEL_23e2bfa74e2841338c3379b4923ee76f",
       "outputs": [
        {
         "data": {
          "application/vnd.jupyter.widget-view+json": {
           "model_id": "e2c71f6b3b754c92b30e4ac6c5fae878",
           "version_major": 2,
           "version_minor": 0
          },
          "text/plain": "Canvas(toolbar=Toolbar(toolitems=[('Home', 'Reset original view', 'home', 'home'), ('Back', 'Back to previous …"
         },
         "metadata": {},
         "output_type": "display_data"
        }
       ]
      }
     },
     "19a60b3d795b4eb7819b84c42004f4e2": {
      "model_module": "@jupyter-widgets/output",
      "model_module_version": "1.0.0",
      "model_name": "OutputModel",
      "state": {
       "layout": "IPY_MODEL_af963d501d814d0b9eba2203ef574d48",
       "outputs": [
        {
         "data": {
          "application/vnd.jupyter.widget-view+json": {
           "model_id": "5039d695969343ed98e4dab91acdbf66",
           "version_major": 2,
           "version_minor": 0
          },
          "text/plain": "Canvas(toolbar=Toolbar(toolitems=[('Home', 'Reset original view', 'home', 'home'), ('Back', 'Back to previous …"
         },
         "metadata": {},
         "output_type": "display_data"
        }
       ]
      }
     },
     "19c69a73a0474e9f887917cce9e6e62a": {
      "model_module": "@jupyter-widgets/controls",
      "model_module_version": "1.5.0",
      "model_name": "HBoxModel",
      "state": {
       "children": [
        "IPY_MODEL_d1e5bd087bfb45ae8f2ac2ee6ff8d7b4",
        "IPY_MODEL_68afd4e6bfc041469e8a5b4e8e983b32"
       ],
       "layout": "IPY_MODEL_5ff1a068faba4d5d9ff8a8b4dad9e4e2"
      }
     },
     "19cdded58ee94c5aaf9920ba6144beb1": {
      "model_module": "@jupyter-widgets/controls",
      "model_module_version": "1.5.0",
      "model_name": "ButtonStyleModel",
      "state": {}
     },
     "19da8ee79a934a59abc793a7b54cc730": {
      "model_module": "@jupyter-widgets/base",
      "model_module_version": "1.2.0",
      "model_name": "LayoutModel",
      "state": {}
     },
     "19dec521320d40e4a4428c70609b89f9": {
      "model_module": "@jupyter-widgets/controls",
      "model_module_version": "1.5.0",
      "model_name": "FloatSliderModel",
      "state": {
       "description": "315°",
       "layout": "IPY_MODEL_238847888c7c429b935ac419d5b868f1",
       "max": 1,
       "min": -1,
       "step": 0.01,
       "style": "IPY_MODEL_d102fd4595954112a577a922ed266a87"
      }
     },
     "19e1bdddbbd643029909922f0a87965d": {
      "model_module": "@jupyter-widgets/base",
      "model_module_version": "1.2.0",
      "model_name": "LayoutModel",
      "state": {}
     },
     "19f161ee77f746669db98f71b9145145": {
      "model_module": "@jupyter-widgets/controls",
      "model_module_version": "1.5.0",
      "model_name": "ButtonStyleModel",
      "state": {}
     },
     "1a01a0c43c014558894a2033697c97b0": {
      "model_module": "@jupyter-widgets/controls",
      "model_module_version": "1.5.0",
      "model_name": "FloatSliderModel",
      "state": {
       "description": "0°",
       "layout": "IPY_MODEL_0a1371adbef045a2bfa5b94c51471934",
       "max": 1,
       "min": -1,
       "step": 0.01,
       "style": "IPY_MODEL_91c41fba39244fc1ad38a63920d52833"
      }
     },
     "1a2d07c14a5a41dea5cbb76f93206333": {
      "model_module": "@jupyter-widgets/controls",
      "model_module_version": "1.5.0",
      "model_name": "SliderStyleModel",
      "state": {
       "description_width": ""
      }
     },
     "1a4a32ab947a40aa99dc745c78c5629a": {
      "model_module": "@jupyter-widgets/base",
      "model_module_version": "1.2.0",
      "model_name": "LayoutModel",
      "state": {
       "border": "solid 4px #222",
       "margin": "4px",
       "padding": "0"
      }
     },
     "1a5c628ed95b44748d17a1eb4b33018d": {
      "model_module": "@jupyter-widgets/controls",
      "model_module_version": "1.5.0",
      "model_name": "SliderStyleModel",
      "state": {
       "description_width": ""
      }
     },
     "1a78e45e073a441bb45e6d61bbfce700": {
      "model_module": "@jupyter-widgets/controls",
      "model_module_version": "1.5.0",
      "model_name": "ButtonStyleModel",
      "state": {}
     },
     "1a82c7ec145541b3a9769406ec759594": {
      "model_module": "@jupyter-widgets/controls",
      "model_module_version": "1.5.0",
      "model_name": "ButtonStyleModel",
      "state": {}
     },
     "1aaa032d54c4488ea3f447b12c5b9331": {
      "model_module": "@jupyter-widgets/base",
      "model_module_version": "1.2.0",
      "model_name": "LayoutModel",
      "state": {}
     },
     "1afb2d5453bf43aab0cdeb4743170199": {
      "model_module": "@jupyter-widgets/controls",
      "model_module_version": "1.5.0",
      "model_name": "ButtonModel",
      "state": {
       "description": "Reset Saturation Controls",
       "layout": "IPY_MODEL_53990cc415bd406f9d627cbdd8abb0d8",
       "style": "IPY_MODEL_d897ee921a1f40b9b58fdbe136f643ec"
      }
     },
     "1b1f3edd085b4dbf8d4ddd667dc3a6b1": {
      "model_module": "@jupyter-widgets/base",
      "model_module_version": "1.2.0",
      "model_name": "LayoutModel",
      "state": {
       "align_items": "stretch",
       "display": "flex",
       "flex_flow": "column",
       "width": "1128px"
      }
     },
     "1b82a33f4a87416badd0476f5391ffc4": {
      "model_module": "@jupyter-widgets/controls",
      "model_module_version": "1.5.0",
      "model_name": "FloatSliderModel",
      "state": {
       "description": "0°",
       "layout": "IPY_MODEL_d7a114f3570142d4a47e71946238b918",
       "max": 1,
       "min": -1,
       "step": 0.01,
       "style": "IPY_MODEL_6c4cea94af9849bdad2a27a0a4ccee7e"
      }
     },
     "1baa2e2c252f4571b347f5e00eb1d2c5": {
      "model_module": "@jupyter-widgets/base",
      "model_module_version": "1.2.0",
      "model_name": "LayoutModel",
      "state": {}
     },
     "1c52049ea61c4e7da62dfc23c15b5ee7": {
      "model_module": "@jupyter-widgets/base",
      "model_module_version": "1.2.0",
      "model_name": "LayoutModel",
      "state": {}
     },
     "1c5835f0df0047b7898584d6526ec3ed": {
      "model_module": "@jupyter-widgets/base",
      "model_module_version": "1.2.0",
      "model_name": "LayoutModel",
      "state": {}
     },
     "1c8cc2fbce014ebe94a030e9af6c3122": {
      "model_module": "@jupyter-widgets/base",
      "model_module_version": "1.2.0",
      "model_name": "LayoutModel",
      "state": {
       "border": "solid 4px #222",
       "margin": "4px",
       "padding": "0"
      }
     },
     "1ca1f846c31f44a5bf4f55bebdeb828a": {
      "model_module": "@jupyter-widgets/base",
      "model_module_version": "1.2.0",
      "model_name": "LayoutModel",
      "state": {}
     },
     "1ccb4446e9064029a3a13f446241df2e": {
      "model_module": "jupyter-matplotlib",
      "model_module_version": "^0.7.2",
      "model_name": "MPLCanvasModel",
      "state": {
       "header_visible": false,
       "layout": "IPY_MODEL_a687b829fc4242c68f633f878c2820fd",
       "resizable": false,
       "toolbar": "IPY_MODEL_8ceb3e0417054983ab2e0c19ed635a98",
       "toolbar_position": "left",
       "toolbar_visible": false
      }
     },
     "1d35154564c240aea6e6a8f7001c66d4": {
      "model_module": "@jupyter-widgets/base",
      "model_module_version": "1.2.0",
      "model_name": "LayoutModel",
      "state": {}
     },
     "1d6d7935e6414a82bd4f26ed34bd1b37": {
      "model_module": "@jupyter-widgets/controls",
      "model_module_version": "1.5.0",
      "model_name": "ButtonModel",
      "state": {
       "description": "Reset Hue Controls",
       "layout": "IPY_MODEL_30c58ca1b3f44a74a66be9c54f57c1ff",
       "style": "IPY_MODEL_eb1470a689eb45c28636878d9b3fcd19"
      }
     },
     "1dc70813453c4c7880b16d873e999bdd": {
      "model_module": "@jupyter-widgets/base",
      "model_module_version": "1.2.0",
      "model_name": "LayoutModel",
      "state": {}
     },
     "1df192ed10374730aaaecc589faaf30c": {
      "model_module": "@jupyter-widgets/controls",
      "model_module_version": "1.5.0",
      "model_name": "SliderStyleModel",
      "state": {
       "description_width": ""
      }
     },
     "1e498b83380141a291354957a89a28ba": {
      "model_module": "@jupyter-widgets/base",
      "model_module_version": "1.2.0",
      "model_name": "LayoutModel",
      "state": {}
     },
     "1e56339698dc432d94e75764af367497": {
      "model_module": "@jupyter-widgets/base",
      "model_module_version": "1.2.0",
      "model_name": "LayoutModel",
      "state": {}
     },
     "1e6d7c4915dd43d1a6f7c2fbcc2e41ac": {
      "model_module": "@jupyter-widgets/controls",
      "model_module_version": "1.5.0",
      "model_name": "ButtonModel",
      "state": {
       "description": "Export Image",
       "layout": "IPY_MODEL_604245959033458c9228e687c6bceb22",
       "style": "IPY_MODEL_70aab9af64f44c77b225cad998b763d9"
      }
     },
     "1ea24d8398234e42bef3ce0411e0a567": {
      "model_module": "@jupyter-widgets/controls",
      "model_module_version": "1.5.0",
      "model_name": "SliderStyleModel",
      "state": {
       "description_width": ""
      }
     },
     "1ed5a6abc99c4f598afdde267726bcc9": {
      "model_module": "@jupyter-widgets/base",
      "model_module_version": "1.2.0",
      "model_name": "LayoutModel",
      "state": {}
     },
     "1f153eafba734bb99f835b051766841f": {
      "model_module": "@jupyter-widgets/controls",
      "model_module_version": "1.5.0",
      "model_name": "BoxModel",
      "state": {
       "children": [
        "IPY_MODEL_fa21012509bc4f76b9c7ccf1c181027a",
        "IPY_MODEL_550c972c8a274ceeb3329fed6606fd8e"
       ],
       "layout": "IPY_MODEL_99ac95f015454a7dac988525a815d531"
      }
     },
     "1f2836bc762d4c96a28a78e10b4a3bd4": {
      "model_module": "@jupyter-widgets/base",
      "model_module_version": "1.2.0",
      "model_name": "LayoutModel",
      "state": {}
     },
     "1f30604ef8ec4976be812b248abadbf6": {
      "model_module": "@jupyter-widgets/controls",
      "model_module_version": "1.5.0",
      "model_name": "VBoxModel",
      "state": {
       "children": [
        "IPY_MODEL_e7a52eea71a8450a82572fefab8e82cd",
        "IPY_MODEL_663deea03c234685a7e4b42aaac99100",
        "IPY_MODEL_6402e83facc846e899e46be3d828de2c"
       ],
       "layout": "IPY_MODEL_cb1eb4bba1324caaae3a6b2097cd5192"
      }
     },
     "1f37500313a444318b87ec2253ba7fb3": {
      "model_module": "@jupyter-widgets/controls",
      "model_module_version": "1.5.0",
      "model_name": "ButtonModel",
      "state": {
       "description": "Save Figure",
       "layout": "IPY_MODEL_d34f775a1eb24b35a8b6ec4a9d12cb31",
       "style": "IPY_MODEL_f0899d299a6a48ad94023631e488d8c5"
      }
     },
     "1fa8f4b79f50464887bf2bdda887f8bc": {
      "model_module": "@jupyter-widgets/controls",
      "model_module_version": "1.5.0",
      "model_name": "ButtonStyleModel",
      "state": {}
     },
     "1fcb88b40af8419c8b71e35c2a3033ca": {
      "model_module": "@jupyter-widgets/base",
      "model_module_version": "1.2.0",
      "model_name": "LayoutModel",
      "state": {}
     },
     "1fe66502f81847af869b3d75b6a55387": {
      "model_module": "@jupyter-widgets/base",
      "model_module_version": "1.2.0",
      "model_name": "LayoutModel",
      "state": {}
     },
     "1ff6cd8c3fc545cabc2930be621f91cb": {
      "model_module": "@jupyter-widgets/controls",
      "model_module_version": "1.5.0",
      "model_name": "FloatSliderModel",
      "state": {
       "description": "0°",
       "layout": "IPY_MODEL_60d4f069b6e64ddd9fbc7612a473b1f0",
       "max": 1,
       "min": -1,
       "step": 0.01,
       "style": "IPY_MODEL_f9fd0ce62b2c45b5995e718e0ab2c0b7"
      }
     },
     "2010013de8f1481e9cbc9d4006abc1ae": {
      "model_module": "@jupyter-widgets/controls",
      "model_module_version": "1.5.0",
      "model_name": "SliderStyleModel",
      "state": {
       "description_width": ""
      }
     },
     "205ae66e1b194242856806ffe4c3e436": {
      "model_module": "@jupyter-widgets/controls",
      "model_module_version": "1.5.0",
      "model_name": "FloatSliderModel",
      "state": {
       "description": "315°",
       "layout": "IPY_MODEL_ceb02a6edaeb430cb7d9ed12cea92563",
       "max": 1,
       "min": -1,
       "step": 0.01,
       "style": "IPY_MODEL_eb103e6af42e4b20926e401af9f43de7"
      }
     },
     "205e61f47751413d891fb8a9067eddae": {
      "model_module": "@jupyter-widgets/base",
      "model_module_version": "1.2.0",
      "model_name": "LayoutModel",
      "state": {}
     },
     "20aba8130c4d4fcd83e70b8beb26065b": {
      "model_module": "@jupyter-widgets/controls",
      "model_module_version": "1.5.0",
      "model_name": "FloatSliderModel",
      "state": {
       "description": "225°",
       "layout": "IPY_MODEL_57f4ada0e66e4547bb2f3613fd43331c",
       "max": 1,
       "min": -1,
       "step": 0.01,
       "style": "IPY_MODEL_5930d371a83a450f8f5e7b94ea9572b0"
      }
     },
     "20d1ef864ad94622a3d155121e0b4767": {
      "model_module": "@jupyter-widgets/controls",
      "model_module_version": "1.5.0",
      "model_name": "HBoxModel",
      "state": {
       "children": [
        "IPY_MODEL_eacad6e00ecf4951bd8e3c3eba09d088",
        "IPY_MODEL_b99e848f195941f6baae24a8519a7048",
        "IPY_MODEL_f14c0bcefca7463e80fb236586e90e47",
        "IPY_MODEL_f44f68549bd442e794f2ab8619745366",
        "IPY_MODEL_3cd4d89c192f42a9b23f664eb36d30cd"
       ],
       "layout": "IPY_MODEL_b7e68e61549442d490893d4f1ac4be4d"
      }
     },
     "2135d9b2f9864db696a59b87e68c4899": {
      "model_module": "@jupyter-widgets/controls",
      "model_module_version": "1.5.0",
      "model_name": "ButtonModel",
      "state": {
       "description": "Reset Protected Area",
       "layout": "IPY_MODEL_826c48cf4698431e9c5b491c9917096c",
       "style": "IPY_MODEL_e61ab9688ede4d92812fcd482052a1b4"
      }
     },
     "2137456d1f9e4a6a8969c0934b342e5a": {
      "model_module": "@jupyter-widgets/controls",
      "model_module_version": "1.5.0",
      "model_name": "ButtonModel",
      "state": {
       "description": "Reset Hue Controls",
       "layout": "IPY_MODEL_4fbbdf51e08943f0b385d85cc12a3ca7",
       "style": "IPY_MODEL_b11432b164814150ababf1eab162cb1d"
      }
     },
     "213b63461aa24a8eae97fbbce9705908": {
      "model_module": "@jupyter-widgets/controls",
      "model_module_version": "1.5.0",
      "model_name": "HBoxModel",
      "state": {
       "children": [
        "IPY_MODEL_d32873b065f24544a13bcabf9d40d4ad",
        "IPY_MODEL_ad91760da15c4c12b88a9e710c116b4d",
        "IPY_MODEL_62eb39701df446f5b7d2f5e86d935460"
       ],
       "layout": "IPY_MODEL_2bca028050a945cabdcefe6e25461005"
      }
     },
     "215edfb4f2f440fdac24537bda3a93f4": {
      "model_module": "@jupyter-widgets/base",
      "model_module_version": "1.2.0",
      "model_name": "LayoutModel",
      "state": {}
     },
     "2173ea7b4b5a452081dfabc01c9d3f78": {
      "model_module": "@jupyter-widgets/base",
      "model_module_version": "1.2.0",
      "model_name": "LayoutModel",
      "state": {
       "align_items": "stretch",
       "display": "flex",
       "flex_flow": "column",
       "width": "1128px"
      }
     },
     "21aec09a4607464389a3d71fd7da309b": {
      "model_module": "@jupyter-widgets/base",
      "model_module_version": "1.2.0",
      "model_name": "LayoutModel",
      "state": {}
     },
     "21c4fe34773c4e578d5fcdd9ed562e60": {
      "model_module": "@jupyter-widgets/controls",
      "model_module_version": "1.5.0",
      "model_name": "SliderStyleModel",
      "state": {
       "description_width": ""
      }
     },
     "21d6c419a2784799b84aa569a384399b": {
      "model_module": "@jupyter-widgets/controls",
      "model_module_version": "1.5.0",
      "model_name": "VBoxModel",
      "state": {
       "children": [
        "IPY_MODEL_a1b7981a33d448209ac0109c28af3894",
        "IPY_MODEL_4ecee0688e794930b69d9fb0ae5601f9",
        "IPY_MODEL_40d06b63e2b8403dab2fa5fd0841d782"
       ],
       "layout": "IPY_MODEL_9cb8185db0d3459e90fff83f9b510352"
      }
     },
     "21d946ce3cff492eaf67e950f2e97f98": {
      "model_module": "@jupyter-widgets/base",
      "model_module_version": "1.2.0",
      "model_name": "LayoutModel",
      "state": {}
     },
     "21eaf20bba1c43dd8f023e369a5e97ea": {
      "model_module": "@jupyter-widgets/base",
      "model_module_version": "1.2.0",
      "model_name": "LayoutModel",
      "state": {}
     },
     "225b6e09b24447c492d98ec3e121922a": {
      "model_module": "@jupyter-widgets/base",
      "model_module_version": "1.2.0",
      "model_name": "LayoutModel",
      "state": {}
     },
     "2279078de922415492625bc2b59aa636": {
      "model_module": "@jupyter-widgets/controls",
      "model_module_version": "1.5.0",
      "model_name": "FloatSliderModel",
      "state": {
       "description": "270°",
       "layout": "IPY_MODEL_94e0e22178ad476dacd827077213368d",
       "max": 1,
       "min": -1,
       "step": 0.01,
       "style": "IPY_MODEL_606518e12ffd46cb93977870995ae9b7"
      }
     },
     "229f06897f5e45f6ab4d5604d12ff8dc": {
      "model_module": "@jupyter-widgets/base",
      "model_module_version": "1.2.0",
      "model_name": "LayoutModel",
      "state": {}
     },
     "22bdf2680d574a6e9f35c3c9afc4682d": {
      "model_module": "@jupyter-widgets/base",
      "model_module_version": "1.2.0",
      "model_name": "LayoutModel",
      "state": {}
     },
     "2342e614d87e48d4b466e78a2e09dc25": {
      "model_module": "@jupyter-widgets/controls",
      "model_module_version": "1.5.0",
      "model_name": "HBoxModel",
      "state": {
       "children": [
        "IPY_MODEL_b9d214c08abf4d41bb5df72a4a2c92e6",
        "IPY_MODEL_d25417f90d9445e3bd502c55141b3330",
        "IPY_MODEL_d365659adf984ea1b1accb5f09916fef",
        "IPY_MODEL_985173c0a20545d8916ed0225996c6ee"
       ],
       "layout": "IPY_MODEL_8d5bcf43d38c46d29ec1ece41fcac6c3"
      }
     },
     "235a69e1ca11487c8eb5f0eb93c7a68d": {
      "model_module": "@jupyter-widgets/controls",
      "model_module_version": "1.5.0",
      "model_name": "ButtonModel",
      "state": {
       "description": "Reset Exposure",
       "layout": "IPY_MODEL_7e97b60f25264d34bb9041239c1788cc",
       "style": "IPY_MODEL_bb7c5f52ff494b19863ca4715a0e7d5e"
      }
     },
     "238847888c7c429b935ac419d5b868f1": {
      "model_module": "@jupyter-widgets/base",
      "model_module_version": "1.2.0",
      "model_name": "LayoutModel",
      "state": {}
     },
     "23bcb5375c5c42c3886d1eeb335498dc": {
      "model_module": "@jupyter-widgets/controls",
      "model_module_version": "1.5.0",
      "model_name": "ButtonStyleModel",
      "state": {}
     },
     "23e2bfa74e2841338c3379b4923ee76f": {
      "model_module": "@jupyter-widgets/base",
      "model_module_version": "1.2.0",
      "model_name": "LayoutModel",
      "state": {
       "border": "solid 4px #222",
       "margin": "4px",
       "padding": "0"
      }
     },
     "23eb2797cb084f4698f61032ad8c507e": {
      "model_module": "@jupyter-widgets/controls",
      "model_module_version": "1.5.0",
      "model_name": "FloatSliderModel",
      "state": {
       "description": "Protected Area Threshold",
       "layout": "IPY_MODEL_60c800fcf99946a598254ea21b18b12c",
       "max": 1,
       "step": 0.01,
       "style": "IPY_MODEL_1ea24d8398234e42bef3ce0411e0a567",
       "value": 0.7
      }
     },
     "23ed538cd0594fae9f6271718abde3c7": {
      "model_module": "@jupyter-widgets/base",
      "model_module_version": "1.2.0",
      "model_name": "LayoutModel",
      "state": {}
     },
     "2437a541327040ea8e721451a639610e": {
      "model_module": "@jupyter-widgets/controls",
      "model_module_version": "1.5.0",
      "model_name": "HBoxModel",
      "state": {
       "children": [
        "IPY_MODEL_5d5fa71243ed433e899561bd02209ae4",
        "IPY_MODEL_29b972ce151f4cfe80547c2c0c4885cd",
        "IPY_MODEL_2d5db9a33f8243dfbb959fcac27234bc",
        "IPY_MODEL_b96de9a839514dba8ae51043831a46bc",
        "IPY_MODEL_b6dd12f59fc24c75a08282693b1f1cf0"
       ],
       "layout": "IPY_MODEL_0cbaaba082644dfebae7fe5c495833d8"
      }
     },
     "2456d24b21e04d13b3c5a074c39c1e10": {
      "model_module": "@jupyter-widgets/base",
      "model_module_version": "1.2.0",
      "model_name": "LayoutModel",
      "state": {}
     },
     "24798d63823a484b90eabcdf4e9b8fbb": {
      "model_module": "@jupyter-widgets/base",
      "model_module_version": "1.2.0",
      "model_name": "LayoutModel",
      "state": {}
     },
     "24858398f825488b813a849d9193675e": {
      "model_module": "@jupyter-widgets/controls",
      "model_module_version": "1.5.0",
      "model_name": "DescriptionStyleModel",
      "state": {
       "description_width": ""
      }
     },
     "24e9af77aaeb4d659708fd654db9b267": {
      "model_module": "@jupyter-widgets/controls",
      "model_module_version": "1.5.0",
      "model_name": "ButtonStyleModel",
      "state": {}
     },
     "24feb0bd58ea4cdb816a591377ea84c9": {
      "model_module": "@jupyter-widgets/controls",
      "model_module_version": "1.5.0",
      "model_name": "DropdownModel",
      "state": {
       "_options_labels": [
        "tanh",
        "atan",
        "simple"
       ],
       "description": "Compression Function:",
       "index": 0,
       "layout": "IPY_MODEL_56e4ec3b59594dd8bb0ccaa09dee1df6",
       "style": "IPY_MODEL_4c5246ddbfb74c338193c74c102dd8b1"
      }
     },
     "2523705939f640b794290ff502a5eb2c": {
      "model_module": "@jupyter-widgets/controls",
      "model_module_version": "1.5.0",
      "model_name": "SliderStyleModel",
      "state": {
       "description_width": ""
      }
     },
     "252ebee3bbff48a181b61a6605e0a253": {
      "model_module": "@jupyter-widgets/controls",
      "model_module_version": "1.5.0",
      "model_name": "SliderStyleModel",
      "state": {
       "description_width": ""
      }
     },
     "254be2889cc742a3b347fc44256cd3a7": {
      "model_module": "@jupyter-widgets/controls",
      "model_module_version": "1.5.0",
      "model_name": "FloatSliderModel",
      "state": {
       "description": "225°",
       "layout": "IPY_MODEL_3110351f1ba542e99c5b7725304cf85b",
       "max": 1,
       "min": -1,
       "step": 0.01,
       "style": "IPY_MODEL_0cac10e01c25441a8594140b432283e1"
      }
     },
     "25c50820ad934d78a5845cccdc95a0df": {
      "model_module": "@jupyter-widgets/base",
      "model_module_version": "1.2.0",
      "model_name": "LayoutModel",
      "state": {
       "border": "solid 4px #222",
       "margin": "4px",
       "padding": "0"
      }
     },
     "25e7e88e72e341c3b84f2e6350529b35": {
      "model_module": "@jupyter-widgets/base",
      "model_module_version": "1.2.0",
      "model_name": "LayoutModel",
      "state": {}
     },
     "26113f9060064e7f84e34756438f5cd6": {
      "model_module": "@jupyter-widgets/base",
      "model_module_version": "1.2.0",
      "model_name": "LayoutModel",
      "state": {}
     },
     "264ec0c1a5cc4abc8f59788996ca417b": {
      "model_module": "@jupyter-widgets/base",
      "model_module_version": "1.2.0",
      "model_name": "LayoutModel",
      "state": {}
     },
     "2702aca80db848d9a7d5a9f6f4cbfc33": {
      "model_module": "@jupyter-widgets/controls",
      "model_module_version": "1.5.0",
      "model_name": "SliderStyleModel",
      "state": {
       "description_width": ""
      }
     },
     "27109df33943463e873afb531fd541b9": {
      "model_module": "@jupyter-widgets/controls",
      "model_module_version": "1.5.0",
      "model_name": "DropdownModel",
      "state": {
       "_options_labels": [
        "tanh",
        "atan",
        "simple"
       ],
       "description": "Compression Function:",
       "index": 0,
       "layout": "IPY_MODEL_180cbe63ba354bef8766e6866d8810da",
       "style": "IPY_MODEL_e80eaca0f3f6401daad82d57f7aea0d3"
      }
     },
     "271a99e888f541e1ba3eda18173b6024": {
      "model_module": "@jupyter-widgets/base",
      "model_module_version": "1.2.0",
      "model_name": "LayoutModel",
      "state": {
       "border": "solid 4px #222",
       "margin": "4px",
       "padding": "0"
      }
     },
     "273f34b271bf42e2b6be3613ddb212fd": {
      "model_module": "@jupyter-widgets/output",
      "model_module_version": "1.0.0",
      "model_name": "OutputModel",
      "state": {
       "layout": "IPY_MODEL_574026e6616e4f6daf221a0f0e59e714",
       "outputs": [
        {
         "data": {
          "application/vnd.jupyter.widget-view+json": {
           "model_id": "6e7f991c40f7445a8700ef5b0803545d",
           "version_major": 2,
           "version_minor": 0
          },
          "text/plain": "Canvas(toolbar=Toolbar(toolitems=[('Home', 'Reset original view', 'home', 'home'), ('Back', 'Back to previous …"
         },
         "metadata": {},
         "output_type": "display_data"
        }
       ]
      }
     },
     "274676b552764eee9b0a287d5ad62bed": {
      "model_module": "@jupyter-widgets/controls",
      "model_module_version": "1.5.0",
      "model_name": "DescriptionStyleModel",
      "state": {
       "description_width": ""
      }
     },
     "2782682de93444ef878d0b5e29bf6fbd": {
      "model_module": "@jupyter-widgets/controls",
      "model_module_version": "1.5.0",
      "model_name": "SliderStyleModel",
      "state": {
       "description_width": ""
      }
     },
     "27bccfe15cb04d01ad94744747f694be": {
      "model_module": "@jupyter-widgets/base",
      "model_module_version": "1.2.0",
      "model_name": "LayoutModel",
      "state": {}
     },
     "27f35f9886b3486a80862e9862402e38": {
      "model_module": "@jupyter-widgets/controls",
      "model_module_version": "1.5.0",
      "model_name": "SliderStyleModel",
      "state": {
       "description_width": ""
      }
     },
     "28393afc4c664a67ad5d3bdb62fda0d7": {
      "model_module": "@jupyter-widgets/controls",
      "model_module_version": "1.5.0",
      "model_name": "ButtonStyleModel",
      "state": {}
     },
     "2849e1302af9458f8e1673a2b551b9ac": {
      "model_module": "@jupyter-widgets/controls",
      "model_module_version": "1.5.0",
      "model_name": "ButtonStyleModel",
      "state": {}
     },
     "2861b0f39da0495ab8ca04d1a7dfd72a": {
      "model_module": "@jupyter-widgets/base",
      "model_module_version": "1.2.0",
      "model_name": "LayoutModel",
      "state": {}
     },
     "2921d74dcb0b446597c9614f6c4fdb91": {
      "model_module": "@jupyter-widgets/controls",
      "model_module_version": "1.5.0",
      "model_name": "ButtonStyleModel",
      "state": {}
     },
     "292e533f914641f79e4f8be70ba0e778": {
      "model_module": "@jupyter-widgets/base",
      "model_module_version": "1.2.0",
      "model_name": "LayoutModel",
      "state": {
       "border": "solid 4px #222",
       "margin": "4px",
       "padding": "0"
      }
     },
     "29902e157a234339a3dd5ad49a1a80b5": {
      "model_module": "@jupyter-widgets/base",
      "model_module_version": "1.2.0",
      "model_name": "LayoutModel",
      "state": {}
     },
     "29965e0367834a7f88204ab7dee1426c": {
      "model_module": "@jupyter-widgets/controls",
      "model_module_version": "1.5.0",
      "model_name": "SliderStyleModel",
      "state": {
       "description_width": ""
      }
     },
     "29a570220a4d4d80874a606041bb8abe": {
      "model_module": "@jupyter-widgets/base",
      "model_module_version": "1.2.0",
      "model_name": "LayoutModel",
      "state": {}
     },
     "29b972ce151f4cfe80547c2c0c4885cd": {
      "model_module": "@jupyter-widgets/controls",
      "model_module_version": "1.5.0",
      "model_name": "ButtonModel",
      "state": {
       "description": "Export Image",
       "layout": "IPY_MODEL_1e56339698dc432d94e75764af367497",
       "style": "IPY_MODEL_0b5f1ef2001c423189160e000043c55b"
      }
     },
     "29dc376c2a0e457d92535ce38e5c2854": {
      "model_module": "@jupyter-widgets/base",
      "model_module_version": "1.2.0",
      "model_name": "LayoutModel",
      "state": {}
     },
     "29ed56351ece47148ccbfab180dbd8ce": {
      "model_module": "@jupyter-widgets/base",
      "model_module_version": "1.2.0",
      "model_name": "LayoutModel",
      "state": {}
     },
     "2a3317f91878425cb3f9885c3b90f976": {
      "model_module": "@jupyter-widgets/base",
      "model_module_version": "1.2.0",
      "model_name": "LayoutModel",
      "state": {}
     },
     "2a7238d18c1345a6b741ca130d35bc78": {
      "model_module": "@jupyter-widgets/controls",
      "model_module_version": "1.5.0",
      "model_name": "VBoxModel",
      "state": {
       "children": [
        "IPY_MODEL_6744ed23740645e4b406d8a93cd1c6eb",
        "IPY_MODEL_fe5023f3197e4feb9a75febaa97063fc",
        "IPY_MODEL_6cd1e678fd454fa39c8a2da5b9b0e8e2"
       ],
       "layout": "IPY_MODEL_58a1edd437a447b3b5946aba72654aa2"
      }
     },
     "2a7bbf1234ec47d0a758526338df307d": {
      "model_module": "@jupyter-widgets/base",
      "model_module_version": "1.2.0",
      "model_name": "LayoutModel",
      "state": {}
     },
     "2aa83fb3cf804e14b52a9696fbe52b37": {
      "model_module": "@jupyter-widgets/base",
      "model_module_version": "1.2.0",
      "model_name": "LayoutModel",
      "state": {
       "border": "solid 4px #222",
       "margin": "4px",
       "padding": "0"
      }
     },
     "2ad1a3775c6b4d50acafd7149421fadd": {
      "model_module": "@jupyter-widgets/base",
      "model_module_version": "1.2.0",
      "model_name": "LayoutModel",
      "state": {}
     },
     "2adaa521b2de4a688e141ae26c52c4be": {
      "model_module": "@jupyter-widgets/controls",
      "model_module_version": "1.5.0",
      "model_name": "FloatSliderModel",
      "state": {
       "description": "315°",
       "layout": "IPY_MODEL_e1a0bfd9a00b404598d4b6fada58f855",
       "max": 1,
       "min": -1,
       "step": 0.01,
       "style": "IPY_MODEL_62dbdd85ae334b43b5870e35ab2ae9d7"
      }
     },
     "2ae655cef50f40cb888f55a3a4b6f18e": {
      "model_module": "@jupyter-widgets/controls",
      "model_module_version": "1.5.0",
      "model_name": "SliderStyleModel",
      "state": {
       "description_width": ""
      }
     },
     "2b18bbadb295437797ae8ee006d7b3e8": {
      "model_module": "@jupyter-widgets/base",
      "model_module_version": "1.2.0",
      "model_name": "LayoutModel",
      "state": {}
     },
     "2b6f3755b0bb49e8aef8b91b81022324": {
      "model_module": "@jupyter-widgets/base",
      "model_module_version": "1.2.0",
      "model_name": "LayoutModel",
      "state": {}
     },
     "2bc6e9d5c0bb44ebbbf4af439855e3f7": {
      "model_module": "@jupyter-widgets/controls",
      "model_module_version": "1.5.0",
      "model_name": "HBoxModel",
      "state": {
       "children": [
        "IPY_MODEL_1afb2d5453bf43aab0cdeb4743170199",
        "IPY_MODEL_0f20baaa54f344018026b5240cd21a2a",
        "IPY_MODEL_f21ebc69c8aa48f08a7a00e0b86e2819"
       ],
       "layout": "IPY_MODEL_e113417b85f34c13946737209d86d0db"
      }
     },
     "2bca028050a945cabdcefe6e25461005": {
      "model_module": "@jupyter-widgets/base",
      "model_module_version": "1.2.0",
      "model_name": "LayoutModel",
      "state": {}
     },
     "2be704d6e42a4d3ea24cf6b063cc7872": {
      "model_module": "@jupyter-widgets/base",
      "model_module_version": "1.2.0",
      "model_name": "LayoutModel",
      "state": {}
     },
     "2bf6a755a5b14ee3b0225ea79dfa8eaf": {
      "model_module": "@jupyter-widgets/base",
      "model_module_version": "1.2.0",
      "model_name": "LayoutModel",
      "state": {}
     },
     "2c4a2cb8b0ab443692813eddef0184f0": {
      "model_module": "@jupyter-widgets/base",
      "model_module_version": "1.2.0",
      "model_name": "LayoutModel",
      "state": {}
     },
     "2c57b32714a549f194fdb78110bf2422": {
      "model_module": "@jupyter-widgets/controls",
      "model_module_version": "1.5.0",
      "model_name": "ButtonStyleModel",
      "state": {}
     },
     "2cade3dbb47846f1ad9ea37f0aef9584": {
      "model_module": "@jupyter-widgets/base",
      "model_module_version": "1.2.0",
      "model_name": "LayoutModel",
      "state": {}
     },
     "2cb1b18668334031b3caa87cf0b1bc37": {
      "model_module": "@jupyter-widgets/base",
      "model_module_version": "1.2.0",
      "model_name": "LayoutModel",
      "state": {}
     },
     "2cf80c828d8848f7924a24f8ef504c78": {
      "model_module": "@jupyter-widgets/controls",
      "model_module_version": "1.5.0",
      "model_name": "SliderStyleModel",
      "state": {
       "description_width": ""
      }
     },
     "2d3f312b752e41c8a6c7119b72a37d64": {
      "model_module": "@jupyter-widgets/controls",
      "model_module_version": "1.5.0",
      "model_name": "ButtonStyleModel",
      "state": {}
     },
     "2d5db9a33f8243dfbb959fcac27234bc": {
      "model_module": "@jupyter-widgets/controls",
      "model_module_version": "1.5.0",
      "model_name": "ButtonModel",
      "state": {
       "description": "Save Figure",
       "layout": "IPY_MODEL_1467a2718ddf426aa3ae6cdc0f4347ba",
       "style": "IPY_MODEL_1fa8f4b79f50464887bf2bdda887f8bc"
      }
     },
     "2d76ec5437a5420aae4d775d53421897": {
      "model_module": "@jupyter-widgets/controls",
      "model_module_version": "1.5.0",
      "model_name": "ButtonModel",
      "state": {
       "description": "Reset Hue Controls",
       "layout": "IPY_MODEL_b7e730412b1140a79c80b7f94c902691",
       "style": "IPY_MODEL_2ea163f91053421587bae486554131ad"
      }
     },
     "2dc844dc530b4d86becc9b12d8bec972": {
      "model_module": "@jupyter-widgets/controls",
      "model_module_version": "1.5.0",
      "model_name": "FloatSliderModel",
      "state": {
       "description": "0°",
       "layout": "IPY_MODEL_938509951e0b4dfcbbc1400ac57b34da",
       "max": 1,
       "min": -1,
       "step": 0.01,
       "style": "IPY_MODEL_2523705939f640b794290ff502a5eb2c"
      }
     },
     "2dd68de4c2b0456e91a86cacc4c881b4": {
      "model_module": "@jupyter-widgets/base",
      "model_module_version": "1.2.0",
      "model_name": "LayoutModel",
      "state": {}
     },
     "2dfff030d3ae4c76ae29c37a8fc52031": {
      "model_module": "@jupyter-widgets/controls",
      "model_module_version": "1.5.0",
      "model_name": "ButtonModel",
      "state": {
       "description": "Save Figure",
       "layout": "IPY_MODEL_f60e73ab5ead42a39a9168338ce6e911",
       "style": "IPY_MODEL_951dfcddf0714d45ae5f1ec64bcefc26"
      }
     },
     "2e041bd4aab0446fa4c81782e85c4ce4": {
      "model_module": "@jupyter-widgets/base",
      "model_module_version": "1.2.0",
      "model_name": "LayoutModel",
      "state": {}
     },
     "2e113ede355d40bfb00436076de7ecd8": {
      "model_module": "@jupyter-widgets/base",
      "model_module_version": "1.2.0",
      "model_name": "LayoutModel",
      "state": {}
     },
     "2e121607485245f69b4c00dceb30396d": {
      "model_module": "@jupyter-widgets/base",
      "model_module_version": "1.2.0",
      "model_name": "LayoutModel",
      "state": {}
     },
     "2e5cd21649c6465b94251858f38d1f89": {
      "model_module": "@jupyter-widgets/controls",
      "model_module_version": "1.5.0",
      "model_name": "VBoxModel",
      "state": {
       "children": [
        "IPY_MODEL_1ff6cd8c3fc545cabc2930be621f91cb",
        "IPY_MODEL_7c0757b6b66d42c5abfc0d80aecc146a",
        "IPY_MODEL_f0f945a3fe2b434c833d7c01f6c50aa7"
       ],
       "layout": "IPY_MODEL_03721328c97841379f69142a74d7d9b6"
      }
     },
     "2e681573aa0643b7925223325dd58d4e": {
      "model_module": "@jupyter-widgets/controls",
      "model_module_version": "1.5.0",
      "model_name": "FloatSliderModel",
      "state": {
       "description": "Compression Threshold",
       "layout": "IPY_MODEL_5aea873b68b1486eb0bb7ec0f8cdb6f9",
       "max": 1,
       "step": 0.01,
       "style": "IPY_MODEL_3e7b7cb8da2d48a0b167ff9109f628d3",
       "value": 0.5
      }
     },
     "2e854504b77c428eac46d65511c53af5": {
      "model_module": "@jupyter-widgets/output",
      "model_module_version": "1.0.0",
      "model_name": "OutputModel",
      "state": {
       "layout": "IPY_MODEL_6a3404ff282841c8be23f83819fe4485",
       "outputs": [
        {
         "data": {
          "application/vnd.jupyter.widget-view+json": {
           "model_id": "8d12560416cc438eb1b3de34c97711e3",
           "version_major": 2,
           "version_minor": 0
          },
          "text/plain": "Canvas(toolbar=Toolbar(toolitems=[('Home', 'Reset original view', 'home', 'home'), ('Back', 'Back to previous …"
         },
         "metadata": {},
         "output_type": "display_data"
        }
       ]
      }
     },
     "2e9e44943a3946d3b78ecf6956c6d836": {
      "model_module": "@jupyter-widgets/base",
      "model_module_version": "1.2.0",
      "model_name": "LayoutModel",
      "state": {}
     },
     "2ea163f91053421587bae486554131ad": {
      "model_module": "@jupyter-widgets/controls",
      "model_module_version": "1.5.0",
      "model_name": "ButtonStyleModel",
      "state": {}
     },
     "2eafcde19c4847788f6a5a30e770b42c": {
      "model_module": "@jupyter-widgets/controls",
      "model_module_version": "1.5.0",
      "model_name": "FloatSliderModel",
      "state": {
       "description": "225°",
       "layout": "IPY_MODEL_0c34217e195f4bfbb4c565d1031c2a34",
       "max": 1,
       "min": -1,
       "step": 0.01,
       "style": "IPY_MODEL_e67468301679482391da300f6ea742ea"
      }
     },
     "2f35546b67044e1b8e29a21a68afd0cb": {
      "model_module": "@jupyter-widgets/base",
      "model_module_version": "1.2.0",
      "model_name": "LayoutModel",
      "state": {}
     },
     "2f4553a901114ebb8bf340142a14958d": {
      "model_module": "@jupyter-widgets/base",
      "model_module_version": "1.2.0",
      "model_name": "LayoutModel",
      "state": {}
     },
     "2f5d5e7dd501420bb92dc78b70956c60": {
      "model_module": "@jupyter-widgets/controls",
      "model_module_version": "1.5.0",
      "model_name": "ButtonStyleModel",
      "state": {}
     },
     "2f74fbc6ac564539b916101afee4fb28": {
      "model_module": "@jupyter-widgets/base",
      "model_module_version": "1.2.0",
      "model_name": "LayoutModel",
      "state": {}
     },
     "2fbf58e4ef444c3191f35f6816de878d": {
      "model_module": "@jupyter-widgets/controls",
      "model_module_version": "1.5.0",
      "model_name": "SliderStyleModel",
      "state": {
       "description_width": ""
      }
     },
     "2fd72d8b77844735be2094f694b2eae2": {
      "model_module": "@jupyter-widgets/controls",
      "model_module_version": "1.5.0",
      "model_name": "SliderStyleModel",
      "state": {
       "description_width": ""
      }
     },
     "300b4507016e41809d8ed45475fc7059": {
      "model_module": "@jupyter-widgets/base",
      "model_module_version": "1.2.0",
      "model_name": "LayoutModel",
      "state": {}
     },
     "302b1e0ba6d34cb5ab8b1cadeae1d253": {
      "model_module": "@jupyter-widgets/base",
      "model_module_version": "1.2.0",
      "model_name": "LayoutModel",
      "state": {}
     },
     "30922592d68f4c5caa9d15c2089c7dc9": {
      "model_module": "@jupyter-widgets/controls",
      "model_module_version": "1.5.0",
      "model_name": "HBoxModel",
      "state": {
       "children": [
        "IPY_MODEL_b064bf82ef424872ab0304b6efd71fbe",
        "IPY_MODEL_93282bd08d9a47aaa34270bcdfd51a8e",
        "IPY_MODEL_1f30604ef8ec4976be812b248abadbf6",
        "IPY_MODEL_e8bdb978f76b4ab7ac01366350abcfb6"
       ],
       "layout": "IPY_MODEL_23ed538cd0594fae9f6271718abde3c7"
      }
     },
     "30af435298c4452f9848c87e43ee3b77": {
      "model_module": "@jupyter-widgets/controls",
      "model_module_version": "1.5.0",
      "model_name": "SliderStyleModel",
      "state": {
       "description_width": ""
      }
     },
     "30b57a2972554d4e9a7f5ff6377bbb1b": {
      "model_module": "@jupyter-widgets/base",
      "model_module_version": "1.2.0",
      "model_name": "LayoutModel",
      "state": {}
     },
     "30c58ca1b3f44a74a66be9c54f57c1ff": {
      "model_module": "@jupyter-widgets/base",
      "model_module_version": "1.2.0",
      "model_name": "LayoutModel",
      "state": {}
     },
     "30e0b35e6b2b4f8fa460d041d38971d5": {
      "model_module": "@jupyter-widgets/controls",
      "model_module_version": "1.5.0",
      "model_name": "CheckboxModel",
      "state": {
       "description": "Disable Medicina",
       "disabled": false,
       "layout": "IPY_MODEL_846efcc70af547bda7e79e8c93111c21",
       "style": "IPY_MODEL_6fccb83c5ea3404d983904dbef7011fa",
       "value": false
      }
     },
     "30f14d701f7b4ba1a5c7aa61b749c38f": {
      "model_module": "@jupyter-widgets/controls",
      "model_module_version": "1.5.0",
      "model_name": "ButtonStyleModel",
      "state": {}
     },
     "31076bb981834c9a8455ba68d8763423": {
      "model_module": "@jupyter-widgets/controls",
      "model_module_version": "1.5.0",
      "model_name": "ButtonStyleModel",
      "state": {}
     },
     "310b4c7f65b24644bfc6fd73b1221b36": {
      "model_module": "@jupyter-widgets/base",
      "model_module_version": "1.2.0",
      "model_name": "LayoutModel",
      "state": {}
     },
     "3110351f1ba542e99c5b7725304cf85b": {
      "model_module": "@jupyter-widgets/base",
      "model_module_version": "1.2.0",
      "model_name": "LayoutModel",
      "state": {}
     },
     "31104ea5dfd54c08aa246710070991e1": {
      "model_module": "@jupyter-widgets/controls",
      "model_module_version": "1.5.0",
      "model_name": "ButtonModel",
      "state": {
       "description": "Save Figure",
       "layout": "IPY_MODEL_e3806c1b7fde492bac35b70e29180919",
       "style": "IPY_MODEL_912f8b2bef554a58be930d9cfac63371"
      }
     },
     "311b2da5f4a74248ac41004fd1b73bb1": {
      "model_module": "@jupyter-widgets/base",
      "model_module_version": "1.2.0",
      "model_name": "LayoutModel",
      "state": {}
     },
     "312d249c135e4903912d65418868b6cf": {
      "model_module": "@jupyter-widgets/controls",
      "model_module_version": "1.5.0",
      "model_name": "SliderStyleModel",
      "state": {
       "description_width": ""
      }
     },
     "31307ff70f994db58692a5e20e55a0b5": {
      "model_module": "@jupyter-widgets/controls",
      "model_module_version": "1.5.0",
      "model_name": "FloatSliderModel",
      "state": {
       "description": "Exposure",
       "layout": "IPY_MODEL_6dbb7cbbdb1f4e618a88102c943318c8",
       "max": 8,
       "min": -8,
       "step": 0.1,
       "style": "IPY_MODEL_628aaff639fd44b5bf17bc15ca42fcb4"
      }
     },
     "31996a20f7df46e6be57bff1ed333a49": {
      "model_module": "@jupyter-widgets/base",
      "model_module_version": "1.2.0",
      "model_name": "LayoutModel",
      "state": {
       "align_items": "stretch",
       "display": "flex",
       "flex_flow": "column",
       "width": "1128px"
      }
     },
     "3199cfe2f9834c50aa8086581fcf0862": {
      "model_module": "@jupyter-widgets/controls",
      "model_module_version": "1.5.0",
      "model_name": "DescriptionStyleModel",
      "state": {
       "description_width": ""
      }
     },
     "31ba097e02c340ac91c4f85cf8e1138d": {
      "model_module": "@jupyter-widgets/controls",
      "model_module_version": "1.5.0",
      "model_name": "FloatSliderModel",
      "state": {
       "description": "90°",
       "layout": "IPY_MODEL_7164acabc736441fa46b2689de11d183",
       "max": 1,
       "min": -1,
       "step": 0.01,
       "style": "IPY_MODEL_330b70b020aa4bd798e3a7ff11ad91e8"
      }
     },
     "321612a588e84046a76cb1fdee804b30": {
      "model_module": "@jupyter-widgets/base",
      "model_module_version": "1.2.0",
      "model_name": "LayoutModel",
      "state": {
       "align_items": "stretch",
       "display": "flex",
       "flex_flow": "column",
       "width": "1128px"
      }
     },
     "32277e53c6cb472284146115e3cb3d7b": {
      "model_module": "@jupyter-widgets/base",
      "model_module_version": "1.2.0",
      "model_name": "LayoutModel",
      "state": {}
     },
     "32415403549c4d8c882afd4393e7e1c7": {
      "model_module": "@jupyter-widgets/controls",
      "model_module_version": "1.5.0",
      "model_name": "ButtonStyleModel",
      "state": {}
     },
     "328f826638d6422684de250194749c58": {
      "model_module": "@jupyter-widgets/base",
      "model_module_version": "1.2.0",
      "model_name": "LayoutModel",
      "state": {}
     },
     "3291dce5dab946558b47577ceaf528be": {
      "model_module": "@jupyter-widgets/base",
      "model_module_version": "1.2.0",
      "model_name": "LayoutModel",
      "state": {
       "border": "solid 4px #222",
       "margin": "4px",
       "padding": "0"
      }
     },
     "32ebe8cf497b433c825a1b644e8efa22": {
      "model_module": "@jupyter-widgets/base",
      "model_module_version": "1.2.0",
      "model_name": "LayoutModel",
      "state": {}
     },
     "330b70b020aa4bd798e3a7ff11ad91e8": {
      "model_module": "@jupyter-widgets/controls",
      "model_module_version": "1.5.0",
      "model_name": "SliderStyleModel",
      "state": {
       "description_width": ""
      }
     },
     "33129b90b86a4d4a9d4ccfd2e3b0dda0": {
      "model_module": "@jupyter-widgets/output",
      "model_module_version": "1.0.0",
      "model_name": "OutputModel",
      "state": {
       "layout": "IPY_MODEL_61b9c8af62624619ad7477494b713b4b",
       "outputs": [
        {
         "data": {
          "application/vnd.jupyter.widget-view+json": {
           "model_id": "6ae7b954826e4ae584cfb93f14d2f2dd",
           "version_major": 2,
           "version_minor": 0
          },
          "text/plain": "Canvas(toolbar=Toolbar(toolitems=[('Home', 'Reset original view', 'home', 'home'), ('Back', 'Back to previous …"
         },
         "metadata": {},
         "output_type": "display_data"
        }
       ]
      }
     },
     "332be527c30e4e6e8a956290e13f8045": {
      "model_module": "@jupyter-widgets/controls",
      "model_module_version": "1.5.0",
      "model_name": "VBoxModel",
      "state": {
       "children": [
        "IPY_MODEL_e02a89d5d9de4fc4b15dad564cebc084",
        "IPY_MODEL_ae820127c6ac4557a109a970c0790dd4",
        "IPY_MODEL_f3609abc86fd4ab081d54cdcc7127684"
       ],
       "layout": "IPY_MODEL_d53e9f95de464ce683b391ad89e72123"
      }
     },
     "33348ecc4e5a49c684e7a7b453411390": {
      "model_module": "@jupyter-widgets/controls",
      "model_module_version": "1.5.0",
      "model_name": "SliderStyleModel",
      "state": {
       "description_width": ""
      }
     },
     "3347eb990ebb43b8862605590b9326e2": {
      "model_module": "@jupyter-widgets/base",
      "model_module_version": "1.2.0",
      "model_name": "LayoutModel",
      "state": {}
     },
     "337aa1ff21de4b2489b00a208e8feaa2": {
      "model_module": "@jupyter-widgets/base",
      "model_module_version": "1.2.0",
      "model_name": "LayoutModel",
      "state": {}
     },
     "3394c09c39924a918d97af35fd0e399c": {
      "model_module": "@jupyter-widgets/base",
      "model_module_version": "1.2.0",
      "model_name": "LayoutModel",
      "state": {}
     },
     "339aa95ddcac4096b5863734d43d0786": {
      "model_module": "@jupyter-widgets/base",
      "model_module_version": "1.2.0",
      "model_name": "LayoutModel",
      "state": {}
     },
     "33b5eee6438440d5ac3f15b5024b4981": {
      "model_module": "@jupyter-widgets/controls",
      "model_module_version": "1.5.0",
      "model_name": "SliderStyleModel",
      "state": {
       "description_width": ""
      }
     },
     "33dbf0052cf64f49a42379a1d7d8e569": {
      "model_module": "@jupyter-widgets/controls",
      "model_module_version": "1.5.0",
      "model_name": "HBoxModel",
      "state": {
       "children": [
        "IPY_MODEL_6e7bc495f68648c4b93dbf91febbf443",
        "IPY_MODEL_7a28985c087243b8a10f9bf9e9c608b7",
        "IPY_MODEL_31104ea5dfd54c08aa246710070991e1",
        "IPY_MODEL_8e1119b425b74925b7224d2aeb9a0b99",
        "IPY_MODEL_a06405590fd04ecd98697ba6610cbc3f"
       ],
       "layout": "IPY_MODEL_9d94869e7a504069bbb6ee2c95638bb8"
      }
     },
     "34034fd387a841a1a73122e2c5c69638": {
      "model_module": "@jupyter-widgets/base",
      "model_module_version": "1.2.0",
      "model_name": "LayoutModel",
      "state": {}
     },
     "3446cedb90fc462b80b1792dd9a9f429": {
      "model_module": "@jupyter-widgets/controls",
      "model_module_version": "1.5.0",
      "model_name": "ButtonStyleModel",
      "state": {}
     },
     "3448d697005245dcbb75952c0a921592": {
      "model_module": "@jupyter-widgets/controls",
      "model_module_version": "1.5.0",
      "model_name": "ButtonStyleModel",
      "state": {}
     },
     "34a5d608677346df9c01fee8e115568b": {
      "model_module": "@jupyter-widgets/controls",
      "model_module_version": "1.5.0",
      "model_name": "DescriptionStyleModel",
      "state": {
       "description_width": ""
      }
     },
     "34cae2ea24494ede98fb5f659cdf88bd": {
      "model_module": "@jupyter-widgets/controls",
      "model_module_version": "1.5.0",
      "model_name": "ButtonModel",
      "state": {
       "description": "Save Figure",
       "layout": "IPY_MODEL_4ae85cbbb61b4bd09762f30551234802",
       "style": "IPY_MODEL_667a32c536ae46d6964ea28a545203b6"
      }
     },
     "34eefabd079d4c0f8f1dfa17e572a88c": {
      "model_module": "@jupyter-widgets/base",
      "model_module_version": "1.2.0",
      "model_name": "LayoutModel",
      "state": {}
     },
     "358dc6ad1c8443a3af67947ffbf8746a": {
      "model_module": "@jupyter-widgets/controls",
      "model_module_version": "1.5.0",
      "model_name": "SliderStyleModel",
      "state": {
       "description_width": ""
      }
     },
     "35a83ba010e54131a4eb4f2411b728f9": {
      "model_module": "@jupyter-widgets/controls",
      "model_module_version": "1.5.0",
      "model_name": "FloatSliderModel",
      "state": {
       "description": "315°",
       "layout": "IPY_MODEL_f4d673d63c5f4f71bdc2d97386148bed",
       "max": 1,
       "min": -1,
       "step": 0.01,
       "style": "IPY_MODEL_fc5f853989524bb49dfb184f50ae1149"
      }
     },
     "35abbc08d266433b8927f2a46ccf683a": {
      "model_module": "@jupyter-widgets/base",
      "model_module_version": "1.2.0",
      "model_name": "LayoutModel",
      "state": {}
     },
     "35c037b1c676471d8f4a6777b84fd4f8": {
      "model_module": "@jupyter-widgets/base",
      "model_module_version": "1.2.0",
      "model_name": "LayoutModel",
      "state": {}
     },
     "360843928bf14f73953609f772a5fb17": {
      "model_module": "@jupyter-widgets/controls",
      "model_module_version": "1.5.0",
      "model_name": "FloatSliderModel",
      "state": {
       "description": "Compression Threshold",
       "layout": "IPY_MODEL_b9e5f69ff86e40d7bd8939702d626cc8",
       "max": 1,
       "step": 0.01,
       "style": "IPY_MODEL_358dc6ad1c8443a3af67947ffbf8746a",
       "value": 0.8
      }
     },
     "364752d15c564e24b33743245e6761c9": {
      "model_module": "@jupyter-widgets/controls",
      "model_module_version": "1.5.0",
      "model_name": "DescriptionStyleModel",
      "state": {
       "description_width": ""
      }
     },
     "3666be98ab3f4329b7e5a22668d1f5b6": {
      "model_module": "@jupyter-widgets/controls",
      "model_module_version": "1.5.0",
      "model_name": "ButtonModel",
      "state": {
       "description": "Export Image",
       "layout": "IPY_MODEL_66cfe03094a442f38c1a1ef8202c41a6",
       "style": "IPY_MODEL_8bf8f756348e4d47bebad82de1c20f1b"
      }
     },
     "366d0c5d377c4b0781a5fc2d9d391cfc": {
      "model_module": "@jupyter-widgets/controls",
      "model_module_version": "1.5.0",
      "model_name": "CheckboxModel",
      "state": {
       "description": "Disable Medicina",
       "disabled": false,
       "layout": "IPY_MODEL_19da8ee79a934a59abc793a7b54cc730",
       "style": "IPY_MODEL_f950be3e5e924e348ca5d842c5358693",
       "value": false
      }
     },
     "36e344589fbc4594945e3dc7b9f60c29": {
      "model_module": "@jupyter-widgets/controls",
      "model_module_version": "1.5.0",
      "model_name": "ButtonStyleModel",
      "state": {}
     },
     "373b2a1a7fa44c2c8e685b314aa422f4": {
      "model_module": "@jupyter-widgets/controls",
      "model_module_version": "1.5.0",
      "model_name": "SliderStyleModel",
      "state": {
       "description_width": ""
      }
     },
     "375195253c91430c9fd53794a9f195db": {
      "model_module": "@jupyter-widgets/controls",
      "model_module_version": "1.5.0",
      "model_name": "SliderStyleModel",
      "state": {
       "description_width": ""
      }
     },
     "37ccd2c44f8b4fcf84c910014b671ff1": {
      "model_module": "@jupyter-widgets/controls",
      "model_module_version": "1.5.0",
      "model_name": "FloatSliderModel",
      "state": {
       "description": "270°",
       "layout": "IPY_MODEL_32277e53c6cb472284146115e3cb3d7b",
       "max": 1,
       "min": -1,
       "step": 0.01,
       "style": "IPY_MODEL_fbca987209a24957bfc9fff5e976a3ed"
      }
     },
     "37df6d5c469d4b8e872090521b9d8d24": {
      "model_module": "@jupyter-widgets/controls",
      "model_module_version": "1.5.0",
      "model_name": "SliderStyleModel",
      "state": {
       "description_width": ""
      }
     },
     "38277337cedc4206a4afd3ee1780d967": {
      "model_module": "@jupyter-widgets/base",
      "model_module_version": "1.2.0",
      "model_name": "LayoutModel",
      "state": {}
     },
     "38329f34b7334fa29b0c9957c1a6d36d": {
      "model_module": "@jupyter-widgets/base",
      "model_module_version": "1.2.0",
      "model_name": "LayoutModel",
      "state": {}
     },
     "38b6d9305f524dbb917a7df691537a14": {
      "model_module": "@jupyter-widgets/base",
      "model_module_version": "1.2.0",
      "model_name": "LayoutModel",
      "state": {}
     },
     "38c5499c76574428a55e4450768eb83f": {
      "model_module": "@jupyter-widgets/base",
      "model_module_version": "1.2.0",
      "model_name": "LayoutModel",
      "state": {}
     },
     "392e48f7a36341c0bed76d3623ffc765": {
      "model_module": "@jupyter-widgets/controls",
      "model_module_version": "1.5.0",
      "model_name": "DescriptionStyleModel",
      "state": {
       "description_width": ""
      }
     },
     "393bebf806574a0f9e250683048c186b": {
      "model_module": "@jupyter-widgets/base",
      "model_module_version": "1.2.0",
      "model_name": "LayoutModel",
      "state": {}
     },
     "396e4fcc36a04627a38a64d820906336": {
      "model_module": "@jupyter-widgets/controls",
      "model_module_version": "1.5.0",
      "model_name": "SliderStyleModel",
      "state": {
       "description_width": ""
      }
     },
     "39d95a36f01c4dff954e705616c1c91e": {
      "model_module": "@jupyter-widgets/controls",
      "model_module_version": "1.5.0",
      "model_name": "ButtonModel",
      "state": {
       "description": "Reset Saturation Controls",
       "layout": "IPY_MODEL_6a203ef5a88d47be9e1115ce0f7c3469",
       "style": "IPY_MODEL_bca1d28a67a34daaad59131ffbaa9ee7"
      }
     },
     "3a192bad44824cdbab12f05ec8e9bcf8": {
      "model_module": "@jupyter-widgets/controls",
      "model_module_version": "1.5.0",
      "model_name": "SliderStyleModel",
      "state": {
       "description_width": ""
      }
     },
     "3a33307f795f46e9bcd43338517b9704": {
      "model_module": "@jupyter-widgets/base",
      "model_module_version": "1.2.0",
      "model_name": "LayoutModel",
      "state": {}
     },
     "3a39e167b17c442bb1bc23261f6bf1d5": {
      "model_module": "@jupyter-widgets/controls",
      "model_module_version": "1.5.0",
      "model_name": "DescriptionStyleModel",
      "state": {
       "description_width": ""
      }
     },
     "3a59be37f37946f39ee1f85eb9bd326c": {
      "model_module": "@jupyter-widgets/controls",
      "model_module_version": "1.5.0",
      "model_name": "VBoxModel",
      "state": {
       "children": [
        "IPY_MODEL_b08626ba8cbd4e48be91ceaab5695d3e",
        "IPY_MODEL_09e79a359be7444e92c99b064c5f83aa"
       ],
       "layout": "IPY_MODEL_38c5499c76574428a55e4450768eb83f"
      }
     },
     "3a60162675914ff8becd0710a4c74a7d": {
      "model_module": "@jupyter-widgets/controls",
      "model_module_version": "1.5.0",
      "model_name": "SliderStyleModel",
      "state": {
       "description_width": ""
      }
     },
     "3a87f88fc7d94725a387cd7103fc9ca3": {
      "model_module": "@jupyter-widgets/controls",
      "model_module_version": "1.5.0",
      "model_name": "ButtonStyleModel",
      "state": {}
     },
     "3a9bf099b3a34f2ab13ddc882e4c66c4": {
      "model_module": "@jupyter-widgets/controls",
      "model_module_version": "1.5.0",
      "model_name": "SliderStyleModel",
      "state": {
       "description_width": ""
      }
     },
     "3ab6619168bd4611b585e2754bb4f2bc": {
      "model_module": "@jupyter-widgets/controls",
      "model_module_version": "1.5.0",
      "model_name": "ButtonStyleModel",
      "state": {}
     },
     "3ae704fb271e44f2abe6e8881b6e08ca": {
      "model_module": "@jupyter-widgets/controls",
      "model_module_version": "1.5.0",
      "model_name": "HBoxModel",
      "state": {
       "children": [
        "IPY_MODEL_151fadb20cf340b2b599fb8a16c72b96",
        "IPY_MODEL_e2d9d6dedfe0455f94c8cdcba0917897",
        "IPY_MODEL_df6b982324bd43ce90b37f45e00f8441"
       ],
       "layout": "IPY_MODEL_c4bd1cbbd9df4dc387d3a129dfe3288f"
      }
     },
     "3b0b1fb7d2cd4a2bae4f657679d05f95": {
      "model_module": "@jupyter-widgets/controls",
      "model_module_version": "1.5.0",
      "model_name": "VBoxModel",
      "state": {
       "children": [
        "IPY_MODEL_1b82a33f4a87416badd0476f5391ffc4",
        "IPY_MODEL_04ac7e6000b346b38a2988aaf0fe41e6",
        "IPY_MODEL_941297c9b3e34b59b35a02f44cd2741c"
       ],
       "layout": "IPY_MODEL_455dd888b1a240e5bb3a9b9f66fef2cb"
      }
     },
     "3b10c957623445ebbef50a3697b789b0": {
      "model_module": "@jupyter-widgets/base",
      "model_module_version": "1.2.0",
      "model_name": "LayoutModel",
      "state": {
       "border": "solid 4px #222",
       "margin": "4px",
       "padding": "0"
      }
     },
     "3b28af07d73a468dbc57bf36814ed9b2": {
      "model_module": "@jupyter-widgets/controls",
      "model_module_version": "1.5.0",
      "model_name": "FloatSliderModel",
      "state": {
       "description": "Exposure",
       "layout": "IPY_MODEL_d96f1ebaede4450fb3fed7303603bdc5",
       "max": 8,
       "min": -8,
       "step": 0.1,
       "style": "IPY_MODEL_418335351d274d05b69ed4646108bcb0"
      }
     },
     "3b358c50c0554bc29454f8f6f306d926": {
      "model_module": "@jupyter-widgets/controls",
      "model_module_version": "1.5.0",
      "model_name": "SliderStyleModel",
      "state": {
       "description_width": ""
      }
     },
     "3b9a992faa8f4a1d8e7471541a0089db": {
      "model_module": "@jupyter-widgets/base",
      "model_module_version": "1.2.0",
      "model_name": "LayoutModel",
      "state": {}
     },
     "3bb68b23c5724d88bc4c742512f577c5": {
      "model_module": "@jupyter-widgets/controls",
      "model_module_version": "1.5.0",
      "model_name": "FloatSliderModel",
      "state": {
       "description": "Compression Threshold",
       "layout": "IPY_MODEL_3cc066b6b12a41918d7147c405bc96e9",
       "max": 1,
       "step": 0.01,
       "style": "IPY_MODEL_b3384cfa8e4e4e8ba0c55257f88eaa3b",
       "value": 0.8
      }
     },
     "3bc7a5c4bf704c66b164fee8da22a7cc": {
      "model_module": "@jupyter-widgets/controls",
      "model_module_version": "1.5.0",
      "model_name": "ButtonModel",
      "state": {
       "description": "Reset Exposure",
       "layout": "IPY_MODEL_c4a9e83264a24c6087a150d523547666",
       "style": "IPY_MODEL_883a889059284ab6b8ae0b4ad4ac87bf"
      }
     },
     "3c14a1f44775465d9779387306422caf": {
      "model_module": "@jupyter-widgets/controls",
      "model_module_version": "1.5.0",
      "model_name": "ButtonModel",
      "state": {
       "description": "Reset Protected Area",
       "layout": "IPY_MODEL_44ca04f34f714f4383bd3062ab7840e8",
       "style": "IPY_MODEL_9a0b9cf01d4c4b08bb4bc38be27e4bc0"
      }
     },
     "3c358c8efa5642c2ba6d0ebf774368bf": {
      "model_module": "@jupyter-widgets/controls",
      "model_module_version": "1.5.0",
      "model_name": "ButtonStyleModel",
      "state": {}
     },
     "3c3d8243062e46b4a4ef8e0446521ddc": {
      "model_module": "@jupyter-widgets/base",
      "model_module_version": "1.2.0",
      "model_name": "LayoutModel",
      "state": {}
     },
     "3c72118fbcfb459e9c351a74fd114dba": {
      "model_module": "@jupyter-widgets/base",
      "model_module_version": "1.2.0",
      "model_name": "LayoutModel",
      "state": {}
     },
     "3ca3ddfdabee440da605e1f64627c27a": {
      "model_module": "@jupyter-widgets/controls",
      "model_module_version": "1.5.0",
      "model_name": "VBoxModel",
      "state": {
       "children": [
        "IPY_MODEL_c927305cc8cf42d99253a6013ba6ef48",
        "IPY_MODEL_ce9c656684974fdea4b85f5dcdf550f7",
        "IPY_MODEL_f9647210639045bdbdbff457444fa4f8"
       ],
       "layout": "IPY_MODEL_c2bcc0aa2bfe41b5926f077d3b4699e8"
      }
     },
     "3cc066b6b12a41918d7147c405bc96e9": {
      "model_module": "@jupyter-widgets/base",
      "model_module_version": "1.2.0",
      "model_name": "LayoutModel",
      "state": {}
     },
     "3cd4d89c192f42a9b23f664eb36d30cd": {
      "model_module": "@jupyter-widgets/controls",
      "model_module_version": "1.5.0",
      "model_name": "FloatSliderModel",
      "state": {
       "description": "Exposure",
       "layout": "IPY_MODEL_4c56c35af9a24e8c9299472b27307a55",
       "max": 8,
       "min": -8,
       "step": 0.1,
       "style": "IPY_MODEL_2fbf58e4ef444c3191f35f6816de878d"
      }
     },
     "3d06bb52f90b4ce5bfaa97cdb952caa1": {
      "model_module": "jupyter-matplotlib",
      "model_module_version": "^0.7.2",
      "model_name": "MPLCanvasModel",
      "state": {
       "_figure_label": "Figure 5",
       "_height": 1100,
       "_width": 1100,
       "layout": "IPY_MODEL_4541faf2d217409098b64f1f0e2e34c7",
       "toolbar": "IPY_MODEL_d057a43ee4ec454c952265c43590f04c",
       "toolbar_position": "left"
      }
     },
     "3d1586b45ab849a2ae008bbb7f816364": {
      "model_module": "@jupyter-widgets/controls",
      "model_module_version": "1.5.0",
      "model_name": "ButtonModel",
      "state": {
       "description": "Reset Exposure",
       "layout": "IPY_MODEL_ca8d75c4d80143798711e550b66b6e12",
       "style": "IPY_MODEL_d59d28125b324ea2ae85a2cbde60c452"
      }
     },
     "3d2695eb4e7f4f3580955883708c1abe": {
      "model_module": "@jupyter-widgets/base",
      "model_module_version": "1.2.0",
      "model_name": "LayoutModel",
      "state": {
       "border": "solid 4px #222",
       "margin": "4px",
       "padding": "0"
      }
     },
     "3d313ae2a4c545eab924100dd5b246c8": {
      "model_module": "@jupyter-widgets/controls",
      "model_module_version": "1.5.0",
      "model_name": "TabModel",
      "state": {
       "_titles": {
        "0": "Global Controls",
        "1": "Protected Area Controls",
        "2": "Saturation Controls",
        "3": "Hue Controls"
       },
       "children": [
        "IPY_MODEL_951543947b5a46f3b27898cf5dca3983",
        "IPY_MODEL_8d6f87b40e424e60a6c18d11797c4f9b",
        "IPY_MODEL_725a01e9828c4c0a9da607fde443c87f",
        "IPY_MODEL_8a8da57bbd6f482d8f3181bf932238e8"
       ],
       "layout": "IPY_MODEL_09e71b603b56475587646eea6a7f24b3"
      }
     },
     "3d3c7851be3841e589e461c7288350d2": {
      "model_module": "@jupyter-widgets/controls",
      "model_module_version": "1.5.0",
      "model_name": "BoxModel",
      "state": {
       "children": [
        "IPY_MODEL_559cb6023c86424f9d894ae611838ad5",
        "IPY_MODEL_c5f2f2287a5c4d18aaff1b4dd276fca6"
       ],
       "layout": "IPY_MODEL_7ad775b9ea5444be8f9fdaad2621676c"
      }
     },
     "3d43328d48a74da19dc6f266d2a98274": {
      "model_module": "@jupyter-widgets/controls",
      "model_module_version": "1.5.0",
      "model_name": "SliderStyleModel",
      "state": {
       "description_width": ""
      }
     },
     "3da96a8e7147427abf058ff2968408f7": {
      "model_module": "@jupyter-widgets/controls",
      "model_module_version": "1.5.0",
      "model_name": "ButtonModel",
      "state": {
       "description": "Reset Saturation Controls",
       "layout": "IPY_MODEL_c709d09fa2ae440b92495678e65faf69",
       "style": "IPY_MODEL_c16bb50641534a8ba30d61238efd5ca7"
      }
     },
     "3df4b353aacd4056a54ef63092f7fbbd": {
      "model_module": "@jupyter-widgets/controls",
      "model_module_version": "1.5.0",
      "model_name": "DescriptionStyleModel",
      "state": {
       "description_width": ""
      }
     },
     "3e09144040d6467b819ba515bf3de53a": {
      "model_module": "@jupyter-widgets/base",
      "model_module_version": "1.2.0",
      "model_name": "LayoutModel",
      "state": {}
     },
     "3e1ec1eeb7994cfdb8c4f9c4308dec5d": {
      "model_module": "@jupyter-widgets/base",
      "model_module_version": "1.2.0",
      "model_name": "LayoutModel",
      "state": {
       "border": "solid 4px #222",
       "margin": "4px",
       "padding": "0"
      }
     },
     "3e292c6980f344c38f13eea64230f159": {
      "model_module": "@jupyter-widgets/controls",
      "model_module_version": "1.5.0",
      "model_name": "ButtonModel",
      "state": {
       "description": "Reset Saturation Controls",
       "layout": "IPY_MODEL_e8aa3a01f41e4b5192295d562c58b105",
       "style": "IPY_MODEL_1604baa9aff04de39a6ee14d267444dc"
      }
     },
     "3e41df3f63bf4c25897a71e28bec3dfc": {
      "model_module": "@jupyter-widgets/controls",
      "model_module_version": "1.5.0",
      "model_name": "ButtonStyleModel",
      "state": {}
     },
     "3e484a220690433dbfd012303222d31d": {
      "model_module": "@jupyter-widgets/base",
      "model_module_version": "1.2.0",
      "model_name": "LayoutModel",
      "state": {}
     },
     "3e7b7cb8da2d48a0b167ff9109f628d3": {
      "model_module": "@jupyter-widgets/controls",
      "model_module_version": "1.5.0",
      "model_name": "SliderStyleModel",
      "state": {
       "description_width": ""
      }
     },
     "3e8179b097184b91b455a8830a8822c1": {
      "model_module": "@jupyter-widgets/controls",
      "model_module_version": "1.5.0",
      "model_name": "SliderStyleModel",
      "state": {
       "description_width": ""
      }
     },
     "3e86a6c0bbe64a5a9ee1c94c044ec782": {
      "model_module": "@jupyter-widgets/base",
      "model_module_version": "1.2.0",
      "model_name": "LayoutModel",
      "state": {}
     },
     "3eaa6ba46d28475590a282a138c17f53": {
      "model_module": "@jupyter-widgets/controls",
      "model_module_version": "1.5.0",
      "model_name": "ButtonStyleModel",
      "state": {}
     },
     "3ee6af2587fc46e693150498e0cb07d2": {
      "model_module": "@jupyter-widgets/base",
      "model_module_version": "1.2.0",
      "model_name": "LayoutModel",
      "state": {}
     },
     "3f0ffd4904a640a5ba93f8428aa09248": {
      "model_module": "@jupyter-widgets/controls",
      "model_module_version": "1.5.0",
      "model_name": "HBoxModel",
      "state": {
       "children": [
        "IPY_MODEL_85ec0e597d9949a3ae3353d27e00bcaf",
        "IPY_MODEL_5c9002a126134b10834f19840f9a86d4",
        "IPY_MODEL_2e681573aa0643b7925223325dd58d4e"
       ],
       "layout": "IPY_MODEL_ab24909b12be4ad1ac58150422615eeb"
      }
     },
     "3f4515f580db47d085f5feda1c461441": {
      "model_module": "@jupyter-widgets/controls",
      "model_module_version": "1.5.0",
      "model_name": "DescriptionStyleModel",
      "state": {
       "description_width": ""
      }
     },
     "3f99c0b4d28845e69851251d687436db": {
      "model_module": "jupyter-matplotlib",
      "model_module_version": "^0.7.2",
      "model_name": "ToolbarModel",
      "state": {
       "layout": "IPY_MODEL_a77e223b0f894bd3a44abe5878746bd6",
       "toolitems": [
        [
         "Home",
         "Reset original view",
         "home",
         "home"
        ],
        [
         "Back",
         "Back to previous view",
         "arrow-left",
         "back"
        ],
        [
         "Forward",
         "Forward to next view",
         "arrow-right",
         "forward"
        ],
        [
         "Pan",
         "Pan axes with left mouse, zoom with right",
         "arrows",
         "pan"
        ],
        [
         "Zoom",
         "Zoom to rectangle",
         "square-o",
         "zoom"
        ],
        [
         "Download",
         "Download plot",
         "floppy-o",
         "save_figure"
        ]
       ]
      }
     },
     "3fa23aa21d6a4b54b2016615035a17cc": {
      "model_module": "@jupyter-widgets/controls",
      "model_module_version": "1.5.0",
      "model_name": "FloatSliderModel",
      "state": {
       "description": "270°",
       "layout": "IPY_MODEL_1ed5a6abc99c4f598afdde267726bcc9",
       "max": 1,
       "min": -1,
       "step": 0.01,
       "style": "IPY_MODEL_9179777aa908410a890014449723b4b7"
      }
     },
     "3fcbec0c671a48a0b77114a0395fd7e0": {
      "model_module": "@jupyter-widgets/base",
      "model_module_version": "1.2.0",
      "model_name": "LayoutModel",
      "state": {}
     },
     "3ff81f0d46d143768eeabc60cc835dc8": {
      "model_module": "@jupyter-widgets/controls",
      "model_module_version": "1.5.0",
      "model_name": "DropdownModel",
      "state": {
       "_options_labels": [
        "tanh",
        "atan",
        "simple"
       ],
       "description": "Compression Function:",
       "index": 0,
       "layout": "IPY_MODEL_6806f5ebd7f941249c03310d6e1f76f6",
       "style": "IPY_MODEL_34a5d608677346df9c01fee8e115568b"
      }
     },
     "40088860a078489cab67c2b3b7a5c1e7": {
      "model_module": "@jupyter-widgets/base",
      "model_module_version": "1.2.0",
      "model_name": "LayoutModel",
      "state": {}
     },
     "4011d5dd0e4148a480b169e6a9e7ca4f": {
      "model_module": "@jupyter-widgets/base",
      "model_module_version": "1.2.0",
      "model_name": "LayoutModel",
      "state": {}
     },
     "4035362dba5b41f4add3c2b0cc4837c5": {
      "model_module": "@jupyter-widgets/controls",
      "model_module_version": "1.5.0",
      "model_name": "FloatSliderModel",
      "state": {
       "description": "Compression Threshold",
       "layout": "IPY_MODEL_fb9ab9ad4193496989fb975785cd5e10",
       "max": 1,
       "step": 0.01,
       "style": "IPY_MODEL_c81b721eaa05458d93d2b31bf3428b8a",
       "value": 0.5
      }
     },
     "4054e57122894a3fb848cbdd7e4106a1": {
      "model_module": "jupyter-matplotlib",
      "model_module_version": "^0.7.2",
      "model_name": "ToolbarModel",
      "state": {
       "layout": "IPY_MODEL_acc0fc01403a4925a0791e3f75c0a6ff",
       "toolitems": [
        [
         "Home",
         "Reset original view",
         "home",
         "home"
        ],
        [
         "Back",
         "Back to previous view",
         "arrow-left",
         "back"
        ],
        [
         "Forward",
         "Forward to next view",
         "arrow-right",
         "forward"
        ],
        [
         "Pan",
         "Pan axes with left mouse, zoom with right",
         "arrows",
         "pan"
        ],
        [
         "Zoom",
         "Zoom to rectangle",
         "square-o",
         "zoom"
        ],
        [
         "Download",
         "Download plot",
         "floppy-o",
         "save_figure"
        ]
       ]
      }
     },
     "406db9185d0c4b448838520919c3b6f0": {
      "model_module": "@jupyter-widgets/controls",
      "model_module_version": "1.5.0",
      "model_name": "BoxModel",
      "state": {
       "children": [
        "IPY_MODEL_8b559328a2db4dc4b8d0da497efb53c3",
        "IPY_MODEL_e97711857f12413f9d3b77fa865cc7f5"
       ],
       "layout": "IPY_MODEL_ff38f7fd34eb4998b58777f90068705b"
      }
     },
     "40bd142d3db540e787250d395e86a51e": {
      "model_module": "jupyter-matplotlib",
      "model_module_version": "^0.7.2",
      "model_name": "MPLCanvasModel",
      "state": {
       "header_visible": false,
       "layout": "IPY_MODEL_30b57a2972554d4e9a7f5ff6377bbb1b",
       "resizable": false,
       "toolbar": "IPY_MODEL_b146b77a69aa41f9ba133ed1b6abfeda",
       "toolbar_position": "left",
       "toolbar_visible": false
      }
     },
     "40d06b63e2b8403dab2fa5fd0841d782": {
      "model_module": "@jupyter-widgets/controls",
      "model_module_version": "1.5.0",
      "model_name": "FloatSliderModel",
      "state": {
       "description": "225°",
       "layout": "IPY_MODEL_e78cbf8de3b740b282bd52a58842eee7",
       "max": 1,
       "min": -1,
       "step": 0.01,
       "style": "IPY_MODEL_60f1127accf84f9ea14e2af0c6020553"
      }
     },
     "41512e6313e646aa99f25e3df7d9c7b1": {
      "model_module": "@jupyter-widgets/controls",
      "model_module_version": "1.5.0",
      "model_name": "DescriptionStyleModel",
      "state": {
       "description_width": ""
      }
     },
     "415411e7119d460284648301329b12f2": {
      "model_module": "@jupyter-widgets/controls",
      "model_module_version": "1.5.0",
      "model_name": "FloatSliderModel",
      "state": {
       "description": "45°",
       "layout": "IPY_MODEL_174a58a5b1d24aeebd22e2b5c116841a",
       "max": 1,
       "min": -1,
       "step": 0.01,
       "style": "IPY_MODEL_479fa3d6a38b44b0a218a448774479db"
      }
     },
     "41711417236a4f36a7e6ccf15314ebe5": {
      "model_module": "@jupyter-widgets/controls",
      "model_module_version": "1.5.0",
      "model_name": "FloatSliderModel",
      "state": {
       "description": "135°",
       "layout": "IPY_MODEL_f8fc5fb58e9f4855a87d21bc3e12df00",
       "max": 1,
       "min": -1,
       "step": 0.01,
       "style": "IPY_MODEL_bfe811878dd94f4d869816503a2e26f3"
      }
     },
     "41805344634a48249dde1123d892c938": {
      "model_module": "@jupyter-widgets/controls",
      "model_module_version": "1.5.0",
      "model_name": "ButtonModel",
      "state": {
       "description": "Reset Exposure",
       "layout": "IPY_MODEL_c4f511dca2f046fba30b2b9bbdb56435",
       "style": "IPY_MODEL_19126bd56b154946a31e17fb3d720280"
      }
     },
     "418335351d274d05b69ed4646108bcb0": {
      "model_module": "@jupyter-widgets/controls",
      "model_module_version": "1.5.0",
      "model_name": "SliderStyleModel",
      "state": {
       "description_width": ""
      }
     },
     "4193d31d56394ac197f62c6ddff50676": {
      "model_module": "@jupyter-widgets/base",
      "model_module_version": "1.2.0",
      "model_name": "LayoutModel",
      "state": {
       "border": "solid 4px #222",
       "margin": "4px",
       "padding": "0"
      }
     },
     "41f6346ca5124170bd554c2fb354606f": {
      "model_module": "@jupyter-widgets/controls",
      "model_module_version": "1.5.0",
      "model_name": "DescriptionStyleModel",
      "state": {
       "description_width": ""
      }
     },
     "4250adb1250540ecbc10b8e7b3673cf0": {
      "model_module": "@jupyter-widgets/controls",
      "model_module_version": "1.5.0",
      "model_name": "DescriptionStyleModel",
      "state": {
       "description_width": ""
      }
     },
     "427f25bd01d64a74a1f0492bf9b821c3": {
      "model_module": "@jupyter-widgets/base",
      "model_module_version": "1.2.0",
      "model_name": "LayoutModel",
      "state": {}
     },
     "4281dbd134694a1c9b04bdfb052edf66": {
      "model_module": "@jupyter-widgets/controls",
      "model_module_version": "1.5.0",
      "model_name": "FloatSliderModel",
      "state": {
       "description": "Exposure",
       "layout": "IPY_MODEL_0800c8622da547fda59b39802915be2d",
       "max": 8,
       "min": -8,
       "step": 0.1,
       "style": "IPY_MODEL_a503097252e94056bcd29e22c743c680"
      }
     },
     "42f98440e89b4737a4d78cc70e502682": {
      "model_module": "@jupyter-widgets/base",
      "model_module_version": "1.2.0",
      "model_name": "LayoutModel",
      "state": {}
     },
     "43148818b1ad4f9eb3804500626a1d14": {
      "model_module": "@jupyter-widgets/controls",
      "model_module_version": "1.5.0",
      "model_name": "FloatSliderModel",
      "state": {
       "description": "135°",
       "layout": "IPY_MODEL_a86644e9cac645d2ae0c3055bb16c0f7",
       "max": 1,
       "min": -1,
       "step": 0.01,
       "style": "IPY_MODEL_1774ceccccff4ed39c89e5fcb18b1ee7"
      }
     },
     "432442be653945eb9435d4a956208a0d": {
      "model_module": "@jupyter-widgets/base",
      "model_module_version": "1.2.0",
      "model_name": "LayoutModel",
      "state": {}
     },
     "4327e62403ff45a4bd2d6678c769fbc4": {
      "model_module": "@jupyter-widgets/base",
      "model_module_version": "1.2.0",
      "model_name": "LayoutModel",
      "state": {}
     },
     "432eb50f83f749c5bd5e607e73e6dda2": {
      "model_module": "@jupyter-widgets/base",
      "model_module_version": "1.2.0",
      "model_name": "LayoutModel",
      "state": {}
     },
     "433d71e28d6e441ca13585d63dd200a4": {
      "model_module": "@jupyter-widgets/controls",
      "model_module_version": "1.5.0",
      "model_name": "ButtonModel",
      "state": {
       "description": "Reset Hue Controls",
       "layout": "IPY_MODEL_94348b7f65224c85876aa6cac2e0695b",
       "style": "IPY_MODEL_ee422763a0c64130b3a0a0da3a74e966"
      }
     },
     "439ad560f75e4af28b12001cd1fc034d": {
      "model_module": "@jupyter-widgets/controls",
      "model_module_version": "1.5.0",
      "model_name": "ButtonModel",
      "state": {
       "description": "Reset Saturation Controls",
       "layout": "IPY_MODEL_160bc311b58e45489326674a357d7ba7",
       "style": "IPY_MODEL_2d3f312b752e41c8a6c7119b72a37d64"
      }
     },
     "439d9218105e4ff6bea95b47afa05f5b": {
      "model_module": "@jupyter-widgets/controls",
      "model_module_version": "1.5.0",
      "model_name": "VBoxModel",
      "state": {
       "children": [
        "IPY_MODEL_56c33a75d4be4402b44e9e2a7043bac7",
        "IPY_MODEL_a1765e09bd0c4ac2b6f5a822b3713415"
       ],
       "layout": "IPY_MODEL_03d4427f87104204ba9f711b62ccfe29"
      }
     },
     "43be5826ce8f4e4cb458e056873a8711": {
      "model_module": "@jupyter-widgets/controls",
      "model_module_version": "1.5.0",
      "model_name": "CheckboxModel",
      "state": {
       "description": "Disable Medicina",
       "disabled": false,
       "layout": "IPY_MODEL_8e26487452fa47a0a89c51dda747913e",
       "style": "IPY_MODEL_41512e6313e646aa99f25e3df7d9c7b1",
       "value": false
      }
     },
     "43fc0a3399fc45a4ab722215ad1130e3": {
      "model_module": "@jupyter-widgets/controls",
      "model_module_version": "1.5.0",
      "model_name": "SliderStyleModel",
      "state": {
       "description_width": ""
      }
     },
     "44406122f0084ac1b9e15dd51cc9dd9e": {
      "model_module": "@jupyter-widgets/controls",
      "model_module_version": "1.5.0",
      "model_name": "ButtonStyleModel",
      "state": {}
     },
     "4472c2867e1142f2ba41f50d61b4de43": {
      "model_module": "@jupyter-widgets/controls",
      "model_module_version": "1.5.0",
      "model_name": "ButtonStyleModel",
      "state": {}
     },
     "447b5ca579f34b3f8ddca0a6af5559c3": {
      "model_module": "@jupyter-widgets/controls",
      "model_module_version": "1.5.0",
      "model_name": "DropdownModel",
      "state": {
       "_options_labels": [
        "tanh",
        "atan",
        "simple"
       ],
       "description": "Compression Function:",
       "index": 0,
       "layout": "IPY_MODEL_25e7e88e72e341c3b84f2e6350529b35",
       "style": "IPY_MODEL_c7ad324ad7d849b7a8696c5f983ab2e1"
      }
     },
     "448e7751c63b472d8a3bdb0eee98b805": {
      "model_module": "@jupyter-widgets/controls",
      "model_module_version": "1.5.0",
      "model_name": "SliderStyleModel",
      "state": {
       "description_width": ""
      }
     },
     "44be9e8f6242433783e39af4c7694582": {
      "model_module": "@jupyter-widgets/base",
      "model_module_version": "1.2.0",
      "model_name": "LayoutModel",
      "state": {}
     },
     "44ca04f34f714f4383bd3062ab7840e8": {
      "model_module": "@jupyter-widgets/base",
      "model_module_version": "1.2.0",
      "model_name": "LayoutModel",
      "state": {}
     },
     "4510f7878e45411f9a5bf5ae7fc9d603": {
      "model_module": "@jupyter-widgets/controls",
      "model_module_version": "1.5.0",
      "model_name": "HBoxModel",
      "state": {
       "children": [
        "IPY_MODEL_8cb5f5ab670a4112bfaf4b48fdbf3d74",
        "IPY_MODEL_c555cc89b07f47baa2ba077e2896378a",
        "IPY_MODEL_8412a3bc52114850b86d02ce6c04fe22"
       ],
       "layout": "IPY_MODEL_ddcbefd69ae94efebfb67cbe83a18aeb"
      }
     },
     "4541faf2d217409098b64f1f0e2e34c7": {
      "model_module": "@jupyter-widgets/base",
      "model_module_version": "1.2.0",
      "model_name": "LayoutModel",
      "state": {}
     },
     "454814ebbb24426c87f7b8d31b849198": {
      "model_module": "@jupyter-widgets/controls",
      "model_module_version": "1.5.0",
      "model_name": "DropdownModel",
      "state": {
       "_options_labels": [
        "tanh",
        "atan",
        "simple"
       ],
       "description": "Compression Function:",
       "index": 0,
       "layout": "IPY_MODEL_6337957132fb4402ac2dba016ba8e6bd",
       "style": "IPY_MODEL_eb334d7388984be5acddf2ed8ee0e31f"
      }
     },
     "455dd888b1a240e5bb3a9b9f66fef2cb": {
      "model_module": "@jupyter-widgets/base",
      "model_module_version": "1.2.0",
      "model_name": "LayoutModel",
      "state": {}
     },
     "456e2c52a55e4cf4ab872a91a0554abd": {
      "model_module": "@jupyter-widgets/base",
      "model_module_version": "1.2.0",
      "model_name": "LayoutModel",
      "state": {}
     },
     "45c2ecb988b341be85b53590c05c36e2": {
      "model_module": "@jupyter-widgets/base",
      "model_module_version": "1.2.0",
      "model_name": "LayoutModel",
      "state": {}
     },
     "45e8b5cbcc5e4843a6cb5b15af9782f5": {
      "model_module": "@jupyter-widgets/base",
      "model_module_version": "1.2.0",
      "model_name": "LayoutModel",
      "state": {}
     },
     "46059e5c052f47558cc00fefc3c08001": {
      "model_module": "@jupyter-widgets/controls",
      "model_module_version": "1.5.0",
      "model_name": "FloatSliderModel",
      "state": {
       "description": "270°",
       "layout": "IPY_MODEL_ac3d6faf0f094ef28d186c24daec22dd",
       "max": 1,
       "min": -1,
       "step": 0.01,
       "style": "IPY_MODEL_d593c8aefeb0442ca02505771f05fb8c"
      }
     },
     "463f6d9dc79e46fe91ed4199294d3272": {
      "model_module": "@jupyter-widgets/base",
      "model_module_version": "1.2.0",
      "model_name": "LayoutModel",
      "state": {}
     },
     "4655aabc8c6746dd861e5a2e5344fa2f": {
      "model_module": "@jupyter-widgets/controls",
      "model_module_version": "1.5.0",
      "model_name": "HBoxModel",
      "state": {
       "children": [
        "IPY_MODEL_5764f696664842278203b6191e3aab08",
        "IPY_MODEL_ad7be3b461a642729415520d124703be",
        "IPY_MODEL_ff4ad6e662d04f5687440dff5dd5b387"
       ],
       "layout": "IPY_MODEL_0e58c2a4eb1f4c0eb2455e4e270edd5f"
      }
     },
     "465fb1c4206d4f3db24ba4a0290b11ed": {
      "model_module": "@jupyter-widgets/base",
      "model_module_version": "1.2.0",
      "model_name": "LayoutModel",
      "state": {}
     },
     "4679d47431db4179b26cbab0dc9c1383": {
      "model_module": "@jupyter-widgets/controls",
      "model_module_version": "1.5.0",
      "model_name": "FloatSliderModel",
      "state": {
       "description": "Exposure",
       "layout": "IPY_MODEL_ab62474297864fb2a551a65d8eebb283",
       "max": 8,
       "min": -8,
       "step": 0.1,
       "style": "IPY_MODEL_f939851b896844edbbf212b7b26621b6"
      }
     },
     "4689e8075ecf4123a4fc928c08525dc6": {
      "model_module": "jupyter-matplotlib",
      "model_module_version": "^0.7.2",
      "model_name": "ToolbarModel",
      "state": {
       "layout": "IPY_MODEL_6a1ecb8971fb4e3888760bf2111e770c",
       "toolitems": [
        [
         "Home",
         "Reset original view",
         "home",
         "home"
        ],
        [
         "Back",
         "Back to previous view",
         "arrow-left",
         "back"
        ],
        [
         "Forward",
         "Forward to next view",
         "arrow-right",
         "forward"
        ],
        [
         "Pan",
         "Pan axes with left mouse, zoom with right",
         "arrows",
         "pan"
        ],
        [
         "Zoom",
         "Zoom to rectangle",
         "square-o",
         "zoom"
        ],
        [
         "Download",
         "Download plot",
         "floppy-o",
         "save_figure"
        ]
       ]
      }
     },
     "46e9e4e66f8a49d3b31a019721def417": {
      "model_module": "@jupyter-widgets/controls",
      "model_module_version": "1.5.0",
      "model_name": "SliderStyleModel",
      "state": {
       "description_width": ""
      }
     },
     "47719cd1d2874cd1b46fe9ec08c9c2d1": {
      "model_module": "@jupyter-widgets/controls",
      "model_module_version": "1.5.0",
      "model_name": "ButtonModel",
      "state": {
       "description": "Reset Protected Area",
       "layout": "IPY_MODEL_6280a971c0b747cc83e2de50123ab109",
       "style": "IPY_MODEL_acff08c5530245f2801cb779fe0a50a8"
      }
     },
     "479fa3d6a38b44b0a218a448774479db": {
      "model_module": "@jupyter-widgets/controls",
      "model_module_version": "1.5.0",
      "model_name": "SliderStyleModel",
      "state": {
       "description_width": ""
      }
     },
     "47cf1d2c2bae4549b094f5e5a07f11c8": {
      "model_module": "@jupyter-widgets/controls",
      "model_module_version": "1.5.0",
      "model_name": "FloatSliderModel",
      "state": {
       "description": "225°",
       "layout": "IPY_MODEL_44be9e8f6242433783e39af4c7694582",
       "max": 1,
       "min": -1,
       "step": 0.01,
       "style": "IPY_MODEL_5ec44673a58e41819860e958960bc431"
      }
     },
     "47d25578a0a14da9a27fa113026dd242": {
      "model_module": "@jupyter-widgets/controls",
      "model_module_version": "1.5.0",
      "model_name": "SliderStyleModel",
      "state": {
       "description_width": ""
      }
     },
     "4827d8c1f0554ccbb8b552cbcfc24634": {
      "model_module": "@jupyter-widgets/controls",
      "model_module_version": "1.5.0",
      "model_name": "FloatSliderModel",
      "state": {
       "description": "Protected Area Threshold",
       "layout": "IPY_MODEL_927cb9956da84faba0a68f7e8ca7eebe",
       "max": 1,
       "step": 0.01,
       "style": "IPY_MODEL_6b55783dc77b4de4be903dfece1817a3",
       "value": 0.7
      }
     },
     "48ba49af499d4d44be9845d32a1040b8": {
      "model_module": "@jupyter-widgets/controls",
      "model_module_version": "1.5.0",
      "model_name": "SliderStyleModel",
      "state": {
       "description_width": ""
      }
     },
     "48d4318ffe78465bb162715ae345ff03": {
      "model_module": "@jupyter-widgets/controls",
      "model_module_version": "1.5.0",
      "model_name": "FloatSliderModel",
      "state": {
       "description": "Compression Threshold",
       "layout": "IPY_MODEL_cd65f292ddb0439f8f37bf1b0dfd2d33",
       "max": 1,
       "step": 0.01,
       "style": "IPY_MODEL_ceb8fa1618d846cb9535d85f04b635f5",
       "value": 0.8
      }
     },
     "4905353b8d3e4f92a2d73a0c7d69aac6": {
      "model_module": "@jupyter-widgets/controls",
      "model_module_version": "1.5.0",
      "model_name": "FloatSliderModel",
      "state": {
       "description": "Protected Area Threshold",
       "layout": "IPY_MODEL_a7641bfb450848f5b13fb01f4c776c26",
       "max": 1,
       "step": 0.01,
       "style": "IPY_MODEL_82e4c7a408894e7c8cf4246da60ff925",
       "value": 0.7
      }
     },
     "492439c7fbc24b65a370e4723e19827d": {
      "model_module": "@jupyter-widgets/controls",
      "model_module_version": "1.5.0",
      "model_name": "TabModel",
      "state": {
       "_titles": {
        "0": "Global Controls",
        "1": "Protected Area Controls",
        "2": "Saturation Controls",
        "3": "Hue Controls"
       },
       "children": [
        "IPY_MODEL_ef75d38ea8124e77aad3452dadf10399",
        "IPY_MODEL_e7e909bd700544f9977649cfb99b58aa",
        "IPY_MODEL_00e5bf8f8a93436ca3e2fe04b2f98f12",
        "IPY_MODEL_d7e5efacd3cf4a398bd2ee4b003b91d8"
       ],
       "layout": "IPY_MODEL_ffdd1502ee494b1ba9a08e0beae0e8ce"
      }
     },
     "492acf80db224f379da00cee7318f81d": {
      "model_module": "@jupyter-widgets/base",
      "model_module_version": "1.2.0",
      "model_name": "LayoutModel",
      "state": {}
     },
     "493e16c4c8df4f43825e155403a1e569": {
      "model_module": "@jupyter-widgets/base",
      "model_module_version": "1.2.0",
      "model_name": "LayoutModel",
      "state": {}
     },
     "49497580a4294d0e80007e25f4953fe5": {
      "model_module": "@jupyter-widgets/controls",
      "model_module_version": "1.5.0",
      "model_name": "FloatSliderModel",
      "state": {
       "description": "Exposure",
       "layout": "IPY_MODEL_0120969964a54500bc186488a08ab723",
       "max": 8,
       "min": -8,
       "step": 0.1,
       "style": "IPY_MODEL_4e27c6a83ed24ed8a81459a79569c8ab"
      }
     },
     "499905eb9f6644f2a7739f77311c01ad": {
      "model_module": "@jupyter-widgets/base",
      "model_module_version": "1.2.0",
      "model_name": "LayoutModel",
      "state": {}
     },
     "49c4208119364d6bba59c3750c7f10d9": {
      "model_module": "@jupyter-widgets/base",
      "model_module_version": "1.2.0",
      "model_name": "LayoutModel",
      "state": {}
     },
     "49c4be80c305440bba824472423667c0": {
      "model_module": "@jupyter-widgets/controls",
      "model_module_version": "1.5.0",
      "model_name": "ButtonModel",
      "state": {
       "description": "Export Image",
       "layout": "IPY_MODEL_c699e84e8c3b43afb3a12bd8150f82bc",
       "style": "IPY_MODEL_59340f80864b44c5a817d945475f6312"
      }
     },
     "49d33adb0ddb47d68acd578f306c0e6e": {
      "model_module": "@jupyter-widgets/base",
      "model_module_version": "1.2.0",
      "model_name": "LayoutModel",
      "state": {}
     },
     "4a639c8acc234fa7b4b6a310fb443fba": {
      "model_module": "@jupyter-widgets/base",
      "model_module_version": "1.2.0",
      "model_name": "LayoutModel",
      "state": {
       "align_items": "stretch",
       "display": "flex",
       "flex_flow": "column",
       "width": "1128px"
      }
     },
     "4ac2ba5e4a1544c99b5875049599ded3": {
      "model_module": "@jupyter-widgets/controls",
      "model_module_version": "1.5.0",
      "model_name": "VBoxModel",
      "state": {
       "children": [
        "IPY_MODEL_c03c8ec849544990a8c8aaa44fe56344",
        "IPY_MODEL_edb6eb16e29143d991dc1964871b0f40",
        "IPY_MODEL_b82e3f87b4d14e8db9e106732c7b2da0"
       ],
       "layout": "IPY_MODEL_45e8b5cbcc5e4843a6cb5b15af9782f5"
      }
     },
     "4ad7f3b3ab5a4229b9aaa47b8d4e76e3": {
      "model_module": "@jupyter-widgets/base",
      "model_module_version": "1.2.0",
      "model_name": "LayoutModel",
      "state": {}
     },
     "4ae85cbbb61b4bd09762f30551234802": {
      "model_module": "@jupyter-widgets/base",
      "model_module_version": "1.2.0",
      "model_name": "LayoutModel",
      "state": {}
     },
     "4b43c7148f124c7bbe9ce6f4582afb6a": {
      "model_module": "@jupyter-widgets/controls",
      "model_module_version": "1.5.0",
      "model_name": "DescriptionStyleModel",
      "state": {
       "description_width": ""
      }
     },
     "4b55f340966744328fc3bd8a684f7da9": {
      "model_module": "@jupyter-widgets/controls",
      "model_module_version": "1.5.0",
      "model_name": "HBoxModel",
      "state": {
       "children": [
        "IPY_MODEL_47719cd1d2874cd1b46fe9ec08c9c2d1",
        "IPY_MODEL_81ba264d0a434e3abd213d6337540c4f"
       ],
       "layout": "IPY_MODEL_54121ed38b1840b3afb900c5785f5a1e"
      }
     },
     "4b90a5480021440182fe835e027ce969": {
      "model_module": "@jupyter-widgets/base",
      "model_module_version": "1.2.0",
      "model_name": "LayoutModel",
      "state": {}
     },
     "4b9c289e11d842b18d7040fd40012a2c": {
      "model_module": "@jupyter-widgets/base",
      "model_module_version": "1.2.0",
      "model_name": "LayoutModel",
      "state": {}
     },
     "4bc1f1fbdfb2406eaa497a376b5b8161": {
      "model_module": "@jupyter-widgets/base",
      "model_module_version": "1.2.0",
      "model_name": "LayoutModel",
      "state": {}
     },
     "4bcde23bb3bb41269b2c15b4e8adc3b7": {
      "model_module": "@jupyter-widgets/base",
      "model_module_version": "1.2.0",
      "model_name": "LayoutModel",
      "state": {}
     },
     "4bf2ee225f5245a783d81b7525eb5343": {
      "model_module": "@jupyter-widgets/controls",
      "model_module_version": "1.5.0",
      "model_name": "FloatSliderModel",
      "state": {
       "description": "0°",
       "layout": "IPY_MODEL_3e484a220690433dbfd012303222d31d",
       "max": 1,
       "min": -1,
       "step": 0.01,
       "style": "IPY_MODEL_4ea03ae24e50436488d5eeda48472b84"
      }
     },
     "4c5246ddbfb74c338193c74c102dd8b1": {
      "model_module": "@jupyter-widgets/controls",
      "model_module_version": "1.5.0",
      "model_name": "DescriptionStyleModel",
      "state": {
       "description_width": ""
      }
     },
     "4c56c35af9a24e8c9299472b27307a55": {
      "model_module": "@jupyter-widgets/base",
      "model_module_version": "1.2.0",
      "model_name": "LayoutModel",
      "state": {}
     },
     "4c8ddd37d78f4e02803b7cb172431d2b": {
      "model_module": "jupyter-matplotlib",
      "model_module_version": "^0.7.2",
      "model_name": "MPLCanvasModel",
      "state": {
       "header_visible": false,
       "layout": "IPY_MODEL_091b473296e74f9594df292f543f6e92",
       "resizable": false,
       "toolbar": "IPY_MODEL_4f779ad4d33046e7bb04bf7d9e5d305a",
       "toolbar_position": "left",
       "toolbar_visible": false
      }
     },
     "4c986450ba6e4ccc8dbb0665b978e572": {
      "model_module": "@jupyter-widgets/base",
      "model_module_version": "1.2.0",
      "model_name": "LayoutModel",
      "state": {}
     },
     "4d12116e5c104c46849c45f2790115ea": {
      "model_module": "@jupyter-widgets/base",
      "model_module_version": "1.2.0",
      "model_name": "LayoutModel",
      "state": {}
     },
     "4d673d3fe6f6452e8c7f3ab547475971": {
      "model_module": "@jupyter-widgets/base",
      "model_module_version": "1.2.0",
      "model_name": "LayoutModel",
      "state": {}
     },
     "4d78771d6c1b4e55bb1107312c09bd98": {
      "model_module": "@jupyter-widgets/base",
      "model_module_version": "1.2.0",
      "model_name": "LayoutModel",
      "state": {}
     },
     "4d79768e2af247c782a406bb0b151e60": {
      "model_module": "jupyter-matplotlib",
      "model_module_version": "^0.7.2",
      "model_name": "ToolbarModel",
      "state": {
       "layout": "IPY_MODEL_56645920ab5642b0ac25986a9fa9f773",
       "toolitems": [
        [
         "Home",
         "Reset original view",
         "home",
         "home"
        ],
        [
         "Back",
         "Back to previous view",
         "arrow-left",
         "back"
        ],
        [
         "Forward",
         "Forward to next view",
         "arrow-right",
         "forward"
        ],
        [
         "Pan",
         "Pan axes with left mouse, zoom with right",
         "arrows",
         "pan"
        ],
        [
         "Zoom",
         "Zoom to rectangle",
         "square-o",
         "zoom"
        ],
        [
         "Download",
         "Download plot",
         "floppy-o",
         "save_figure"
        ]
       ]
      }
     },
     "4d9c1bdc3f284889ab445fc427f96487": {
      "model_module": "@jupyter-widgets/controls",
      "model_module_version": "1.5.0",
      "model_name": "SliderStyleModel",
      "state": {
       "description_width": ""
      }
     },
     "4d9c71c4d394448b80faef4aa6742bea": {
      "model_module": "@jupyter-widgets/base",
      "model_module_version": "1.2.0",
      "model_name": "LayoutModel",
      "state": {}
     },
     "4dafa2f8f4a843e4966ec44d4f61404a": {
      "model_module": "@jupyter-widgets/base",
      "model_module_version": "1.2.0",
      "model_name": "LayoutModel",
      "state": {}
     },
     "4dbe8551c8a840149cf9fe4d3f8e7d6c": {
      "model_module": "jupyter-matplotlib",
      "model_module_version": "^0.7.2",
      "model_name": "ToolbarModel",
      "state": {
       "layout": "IPY_MODEL_77420e80b4c44808b5822692db6067e0",
       "toolitems": [
        [
         "Home",
         "Reset original view",
         "home",
         "home"
        ],
        [
         "Back",
         "Back to previous view",
         "arrow-left",
         "back"
        ],
        [
         "Forward",
         "Forward to next view",
         "arrow-right",
         "forward"
        ],
        [
         "Pan",
         "Pan axes with left mouse, zoom with right",
         "arrows",
         "pan"
        ],
        [
         "Zoom",
         "Zoom to rectangle",
         "square-o",
         "zoom"
        ],
        [
         "Download",
         "Download plot",
         "floppy-o",
         "save_figure"
        ]
       ]
      }
     },
     "4e1a230344da480ca32283a39b487047": {
      "model_module": "@jupyter-widgets/base",
      "model_module_version": "1.2.0",
      "model_name": "LayoutModel",
      "state": {}
     },
     "4e27c6a83ed24ed8a81459a79569c8ab": {
      "model_module": "@jupyter-widgets/controls",
      "model_module_version": "1.5.0",
      "model_name": "SliderStyleModel",
      "state": {
       "description_width": ""
      }
     },
     "4e2eb1161d4a437ca27e81c708d15a3c": {
      "model_module": "jupyter-matplotlib",
      "model_module_version": "^0.7.2",
      "model_name": "ToolbarModel",
      "state": {
       "layout": "IPY_MODEL_7b8ee44980fc4c31a73c9e03f178fe6d",
       "toolitems": [
        [
         "Home",
         "Reset original view",
         "home",
         "home"
        ],
        [
         "Back",
         "Back to previous view",
         "arrow-left",
         "back"
        ],
        [
         "Forward",
         "Forward to next view",
         "arrow-right",
         "forward"
        ],
        [
         "Pan",
         "Pan axes with left mouse, zoom with right",
         "arrows",
         "pan"
        ],
        [
         "Zoom",
         "Zoom to rectangle",
         "square-o",
         "zoom"
        ],
        [
         "Download",
         "Download plot",
         "floppy-o",
         "save_figure"
        ]
       ]
      }
     },
     "4e31d84be7254acd86e50c4e49090407": {
      "model_module": "@jupyter-widgets/controls",
      "model_module_version": "1.5.0",
      "model_name": "FloatSliderModel",
      "state": {
       "description": "0°",
       "layout": "IPY_MODEL_1ca1f846c31f44a5bf4f55bebdeb828a",
       "max": 1,
       "min": -1,
       "step": 0.01,
       "style": "IPY_MODEL_2782682de93444ef878d0b5e29bf6fbd"
      }
     },
     "4e74a33a5dee4948a623d5d8870377de": {
      "model_module": "@jupyter-widgets/base",
      "model_module_version": "1.2.0",
      "model_name": "LayoutModel",
      "state": {}
     },
     "4ea03ae24e50436488d5eeda48472b84": {
      "model_module": "@jupyter-widgets/controls",
      "model_module_version": "1.5.0",
      "model_name": "SliderStyleModel",
      "state": {
       "description_width": ""
      }
     },
     "4ecee0688e794930b69d9fb0ae5601f9": {
      "model_module": "@jupyter-widgets/controls",
      "model_module_version": "1.5.0",
      "model_name": "FloatSliderModel",
      "state": {
       "description": "180°",
       "layout": "IPY_MODEL_afbbbd6569a44476a60dad60a140b72e",
       "max": 1,
       "min": -1,
       "step": 0.01,
       "style": "IPY_MODEL_90e093caee254792bd04e5cdfc613521"
      }
     },
     "4ed720e3a7144adb9640938033c93dc7": {
      "model_module": "@jupyter-widgets/controls",
      "model_module_version": "1.5.0",
      "model_name": "VBoxModel",
      "state": {
       "children": [
        "IPY_MODEL_cd643740157844698ad68413b2b05124",
        "IPY_MODEL_f3621d8c14764321a7aa22f30f87c7f4",
        "IPY_MODEL_f99155b767784a94a1ebde1f5767ddda"
       ],
       "layout": "IPY_MODEL_ddaf4c072fee4d35be3cd5212978c0f9"
      }
     },
     "4eefce60ce3846c1ab1f41ceee3d36e0": {
      "model_module": "@jupyter-widgets/base",
      "model_module_version": "1.2.0",
      "model_name": "LayoutModel",
      "state": {}
     },
     "4ef5a7a681c44ae7853826895b74c57a": {
      "model_module": "@jupyter-widgets/base",
      "model_module_version": "1.2.0",
      "model_name": "LayoutModel",
      "state": {}
     },
     "4f779ad4d33046e7bb04bf7d9e5d305a": {
      "model_module": "jupyter-matplotlib",
      "model_module_version": "^0.7.2",
      "model_name": "ToolbarModel",
      "state": {
       "layout": "IPY_MODEL_ee3bcb15fae94ff9a4bfe1894460dfc4",
       "toolitems": [
        [
         "Home",
         "Reset original view",
         "home",
         "home"
        ],
        [
         "Back",
         "Back to previous view",
         "arrow-left",
         "back"
        ],
        [
         "Forward",
         "Forward to next view",
         "arrow-right",
         "forward"
        ],
        [
         "Pan",
         "Pan axes with left mouse, zoom with right",
         "arrows",
         "pan"
        ],
        [
         "Zoom",
         "Zoom to rectangle",
         "square-o",
         "zoom"
        ],
        [
         "Download",
         "Download plot",
         "floppy-o",
         "save_figure"
        ]
       ]
      }
     },
     "4fbbdf51e08943f0b385d85cc12a3ca7": {
      "model_module": "@jupyter-widgets/base",
      "model_module_version": "1.2.0",
      "model_name": "LayoutModel",
      "state": {}
     },
     "4fce35bb74bb4807ab961eb049907dd7": {
      "model_module": "@jupyter-widgets/base",
      "model_module_version": "1.2.0",
      "model_name": "LayoutModel",
      "state": {}
     },
     "4fe35ce46c094fe7b26b9f453e186132": {
      "model_module": "@jupyter-widgets/base",
      "model_module_version": "1.2.0",
      "model_name": "LayoutModel",
      "state": {}
     },
     "4ff7eb94d4ee4f11b40104055a4b54ed": {
      "model_module": "@jupyter-widgets/base",
      "model_module_version": "1.2.0",
      "model_name": "LayoutModel",
      "state": {}
     },
     "4ff84f841cbe4a87a6763a2284b44f7b": {
      "model_module": "@jupyter-widgets/base",
      "model_module_version": "1.2.0",
      "model_name": "LayoutModel",
      "state": {}
     },
     "500045bbba284c7eb8a1da250998c5d6": {
      "model_module": "jupyter-matplotlib",
      "model_module_version": "^0.7.2",
      "model_name": "ToolbarModel",
      "state": {
       "layout": "IPY_MODEL_68991dd3efaf46c2b6801014010f5a15",
       "toolitems": [
        [
         "Home",
         "Reset original view",
         "home",
         "home"
        ],
        [
         "Back",
         "Back to previous view",
         "arrow-left",
         "back"
        ],
        [
         "Forward",
         "Forward to next view",
         "arrow-right",
         "forward"
        ],
        [
         "Pan",
         "Pan axes with left mouse, zoom with right",
         "arrows",
         "pan"
        ],
        [
         "Zoom",
         "Zoom to rectangle",
         "square-o",
         "zoom"
        ],
        [
         "Download",
         "Download plot",
         "floppy-o",
         "save_figure"
        ]
       ]
      }
     },
     "50031c6a339a4f5fac273bd1f0b3285f": {
      "model_module": "@jupyter-widgets/controls",
      "model_module_version": "1.5.0",
      "model_name": "FloatSliderModel",
      "state": {
       "description": "180°",
       "layout": "IPY_MODEL_3394c09c39924a918d97af35fd0e399c",
       "max": 1,
       "min": -1,
       "step": 0.01,
       "style": "IPY_MODEL_83ffef6a31ba4d51892a3de2f5de648e"
      }
     },
     "500b03c4eecb4da69b619e92173b15b8": {
      "model_module": "@jupyter-widgets/base",
      "model_module_version": "1.2.0",
      "model_name": "LayoutModel",
      "state": {
       "border": "solid 4px #222",
       "margin": "4px",
       "padding": "0"
      }
     },
     "50233495df0242e58d60a1c03156cb20": {
      "model_module": "@jupyter-widgets/base",
      "model_module_version": "1.2.0",
      "model_name": "LayoutModel",
      "state": {}
     },
     "5039d695969343ed98e4dab91acdbf66": {
      "model_module": "jupyter-matplotlib",
      "model_module_version": "^0.7.2",
      "model_name": "MPLCanvasModel",
      "state": {
       "header_visible": false,
       "layout": "IPY_MODEL_a4cd006ea3bc400e80c3bff16abb1483",
       "resizable": false,
       "toolbar": "IPY_MODEL_0a3a5f32fb564145af4d04656334cf1e",
       "toolbar_position": "left",
       "toolbar_visible": false
      }
     },
     "5091ad2b081e49dba65ae499c7d91cf8": {
      "model_module": "@jupyter-widgets/controls",
      "model_module_version": "1.5.0",
      "model_name": "FloatSliderModel",
      "state": {
       "description": "270°",
       "layout": "IPY_MODEL_809e6b1a63ed4e6a8d3d3faa9be66b26",
       "max": 1,
       "min": -1,
       "step": 0.01,
       "style": "IPY_MODEL_8720884d83ff445695f5d9d780bf9d34"
      }
     },
     "5096e272ae114f789a09daea6661bba4": {
      "model_module": "@jupyter-widgets/controls",
      "model_module_version": "1.5.0",
      "model_name": "SliderStyleModel",
      "state": {
       "description_width": ""
      }
     },
     "509d9055523d43fcaec0329ecf3b5414": {
      "model_module": "@jupyter-widgets/base",
      "model_module_version": "1.2.0",
      "model_name": "LayoutModel",
      "state": {}
     },
     "50c31493129c4a429b9b93fdd054f302": {
      "model_module": "@jupyter-widgets/controls",
      "model_module_version": "1.5.0",
      "model_name": "TabModel",
      "state": {
       "_titles": {
        "0": "Global Controls",
        "1": "Compression Controls"
       },
       "children": [
        "IPY_MODEL_e01307200eb04723ac45bb54ba83b015",
        "IPY_MODEL_cc2fad16477c436fa0cd7c97a043c3d8"
       ],
       "layout": "IPY_MODEL_0dba687114974cf1bcb8fc4065ec51e0"
      }
     },
     "50e5f5da1bcf48bfa495522d1b16ed4e": {
      "model_module": "@jupyter-widgets/controls",
      "model_module_version": "1.5.0",
      "model_name": "FloatSliderModel",
      "state": {
       "description": "Compression Threshold",
       "layout": "IPY_MODEL_3ee6af2587fc46e693150498e0cb07d2",
       "max": 1,
       "step": 0.01,
       "style": "IPY_MODEL_9a0cf1b21747430b81d65695079877bd",
       "value": 0.8
      }
     },
     "5151050f4e15488990406d70eee42c8f": {
      "model_module": "@jupyter-widgets/controls",
      "model_module_version": "1.5.0",
      "model_name": "FloatSliderModel",
      "state": {
       "description": "Exposure",
       "layout": "IPY_MODEL_19e1bdddbbd643029909922f0a87965d",
       "max": 8,
       "min": -8,
       "step": 0.1,
       "style": "IPY_MODEL_fe8206f9554645ba8e51c9a7b8c72c66"
      }
     },
     "516446be298a49798621542fc8da3b23": {
      "model_module": "@jupyter-widgets/base",
      "model_module_version": "1.2.0",
      "model_name": "LayoutModel",
      "state": {}
     },
     "5171e279ee6f44108b43a1345efc7fc4": {
      "model_module": "@jupyter-widgets/controls",
      "model_module_version": "1.5.0",
      "model_name": "DescriptionStyleModel",
      "state": {
       "description_width": ""
      }
     },
     "521cbe8e0ed8498c82eed73dafd9bb15": {
      "model_module": "@jupyter-widgets/controls",
      "model_module_version": "1.5.0",
      "model_name": "FloatSliderModel",
      "state": {
       "description": "315°",
       "layout": "IPY_MODEL_2b18bbadb295437797ae8ee006d7b3e8",
       "max": 1,
       "min": -1,
       "step": 0.01,
       "style": "IPY_MODEL_1659f440a6b04688976e9d64bfbab884"
      }
     },
     "522a86e4a63c420186ede9d71603c897": {
      "model_module": "@jupyter-widgets/controls",
      "model_module_version": "1.5.0",
      "model_name": "SliderStyleModel",
      "state": {
       "description_width": ""
      }
     },
     "523b9c865bb64b3f8f18aaf9cd92bbae": {
      "model_module": "@jupyter-widgets/controls",
      "model_module_version": "1.5.0",
      "model_name": "ButtonModel",
      "state": {
       "description": "Save Figure",
       "layout": "IPY_MODEL_72ce1c94f0b14ea791f14764e33be012",
       "style": "IPY_MODEL_ec4844217d0641b5984726e6ac54d5d1"
      }
     },
     "526285e3c56f4672b4d624bc31b7b55e": {
      "model_module": "@jupyter-widgets/controls",
      "model_module_version": "1.5.0",
      "model_name": "ButtonStyleModel",
      "state": {}
     },
     "528951ee859547c29fafab876ea5c3d8": {
      "model_module": "@jupyter-widgets/base",
      "model_module_version": "1.2.0",
      "model_name": "LayoutModel",
      "state": {}
     },
     "52a77f1130c6446582822ca37f49be32": {
      "model_module": "@jupyter-widgets/controls",
      "model_module_version": "1.5.0",
      "model_name": "DescriptionStyleModel",
      "state": {
       "description_width": ""
      }
     },
     "52d8f4af245541f7b95e86d3cf9e1b5f": {
      "model_module": "@jupyter-widgets/controls",
      "model_module_version": "1.5.0",
      "model_name": "HBoxModel",
      "state": {
       "children": [
        "IPY_MODEL_cb603a555e7943eca8010718c43e72dc",
        "IPY_MODEL_c7d657559d234e6faedb2dc257320072",
        "IPY_MODEL_166f0cd85dc3426e9f1eefaaad3d89f3",
        "IPY_MODEL_780e92f1cb57499cb03e065c6fbfb9a5",
        "IPY_MODEL_8c7e7a03518f435ab9f19bcb77a8d1e7"
       ],
       "layout": "IPY_MODEL_f0e877c2b55d4510a9aae9816537194c"
      }
     },
     "5308583a88114804bccf7c89a4d9feff": {
      "model_module": "@jupyter-widgets/base",
      "model_module_version": "1.2.0",
      "model_name": "LayoutModel",
      "state": {}
     },
     "5329a712a1cb49989980671e7c8d769c": {
      "model_module": "@jupyter-widgets/controls",
      "model_module_version": "1.5.0",
      "model_name": "ButtonModel",
      "state": {
       "description": "Reset Hue Controls",
       "layout": "IPY_MODEL_7870f0712f354e15af77812bed5cca6c",
       "style": "IPY_MODEL_1458991576e04141ba40db8be46995ca"
      }
     },
     "53990cc415bd406f9d627cbdd8abb0d8": {
      "model_module": "@jupyter-widgets/base",
      "model_module_version": "1.2.0",
      "model_name": "LayoutModel",
      "state": {}
     },
     "53aca45e301848b4adf92a06ce024330": {
      "model_module": "@jupyter-widgets/controls",
      "model_module_version": "1.5.0",
      "model_name": "SliderStyleModel",
      "state": {
       "description_width": ""
      }
     },
     "53b0bac11c784e8ba216441f5d700f3f": {
      "model_module": "@jupyter-widgets/base",
      "model_module_version": "1.2.0",
      "model_name": "LayoutModel",
      "state": {}
     },
     "53c2f3ed50034562a7f32b842c2af373": {
      "model_module": "@jupyter-widgets/base",
      "model_module_version": "1.2.0",
      "model_name": "LayoutModel",
      "state": {}
     },
     "54121ed38b1840b3afb900c5785f5a1e": {
      "model_module": "@jupyter-widgets/base",
      "model_module_version": "1.2.0",
      "model_name": "LayoutModel",
      "state": {}
     },
     "5432efe5ca084a8e81807652fe12c530": {
      "model_module": "@jupyter-widgets/controls",
      "model_module_version": "1.5.0",
      "model_name": "FloatSliderModel",
      "state": {
       "description": "225°",
       "layout": "IPY_MODEL_96d33284c5914425a047360d8089eda4",
       "max": 1,
       "min": -1,
       "step": 0.01,
       "style": "IPY_MODEL_6a68701695ac438782f3f5a609760aa1"
      }
     },
     "5475393a24634599adb382e3fbe5f6dd": {
      "model_module": "@jupyter-widgets/controls",
      "model_module_version": "1.5.0",
      "model_name": "CheckboxModel",
      "state": {
       "description": "Disable Medicina",
       "disabled": false,
       "layout": "IPY_MODEL_013bfaa0ed75457e95d79d81c7b9ad1f",
       "style": "IPY_MODEL_001c47173b4f4a299eb8af1a09eff6ae",
       "value": false
      }
     },
     "54bc28a9bc0a4546aecc4b4e4507e64d": {
      "model_module": "@jupyter-widgets/controls",
      "model_module_version": "1.5.0",
      "model_name": "SliderStyleModel",
      "state": {
       "description_width": ""
      }
     },
     "54c2fdc0d19743fe970cfb1fb4ad02d5": {
      "model_module": "@jupyter-widgets/controls",
      "model_module_version": "1.5.0",
      "model_name": "DescriptionStyleModel",
      "state": {
       "description_width": ""
      }
     },
     "54f829d92541485383720435e96779a7": {
      "model_module": "@jupyter-widgets/base",
      "model_module_version": "1.2.0",
      "model_name": "LayoutModel",
      "state": {}
     },
     "54f8e769c3d24d4a81c45efc31553eb8": {
      "model_module": "@jupyter-widgets/controls",
      "model_module_version": "1.5.0",
      "model_name": "SliderStyleModel",
      "state": {
       "description_width": ""
      }
     },
     "550c972c8a274ceeb3329fed6606fd8e": {
      "model_module": "@jupyter-widgets/controls",
      "model_module_version": "1.5.0",
      "model_name": "TabModel",
      "state": {
       "_titles": {
        "0": "Global Controls",
        "1": "Compression Controls"
       },
       "children": [
        "IPY_MODEL_b53852d491164b5a8e9e0631549a7a68",
        "IPY_MODEL_7b7efd67dc2d4535823d1552c3fc41a1"
       ],
       "layout": "IPY_MODEL_5c50d1294d144fd8afae4d3e728d4001"
      }
     },
     "5513ba0f743e4cbbade2f1fdd846e3d1": {
      "model_module": "@jupyter-widgets/base",
      "model_module_version": "1.2.0",
      "model_name": "LayoutModel",
      "state": {}
     },
     "554e858571ee41a4affd073a070d6b0d": {
      "model_module": "@jupyter-widgets/controls",
      "model_module_version": "1.5.0",
      "model_name": "SliderStyleModel",
      "state": {
       "description_width": ""
      }
     },
     "559cb6023c86424f9d894ae611838ad5": {
      "model_module": "@jupyter-widgets/output",
      "model_module_version": "1.0.0",
      "model_name": "OutputModel",
      "state": {
       "layout": "IPY_MODEL_271a99e888f541e1ba3eda18173b6024",
       "outputs": [
        {
         "data": {
          "application/vnd.jupyter.widget-view+json": {
           "model_id": "0d1659b1caed4537b2768e12bc309ccb",
           "version_major": 2,
           "version_minor": 0
          },
          "text/plain": "Canvas(toolbar=Toolbar(toolitems=[('Home', 'Reset original view', 'home', 'home'), ('Back', 'Back to previous …"
         },
         "metadata": {},
         "output_type": "display_data"
        }
       ]
      }
     },
     "560fb794562b4f28842d027652a3bc74": {
      "model_module": "@jupyter-widgets/controls",
      "model_module_version": "1.5.0",
      "model_name": "SliderStyleModel",
      "state": {
       "description_width": ""
      }
     },
     "56645920ab5642b0ac25986a9fa9f773": {
      "model_module": "@jupyter-widgets/base",
      "model_module_version": "1.2.0",
      "model_name": "LayoutModel",
      "state": {}
     },
     "5665ded3ddb84c61bf078d9c8bac4a96": {
      "model_module": "@jupyter-widgets/base",
      "model_module_version": "1.2.0",
      "model_name": "LayoutModel",
      "state": {}
     },
     "56728d32e7734b6faea2f7bae379a8fa": {
      "model_module": "@jupyter-widgets/controls",
      "model_module_version": "1.5.0",
      "model_name": "FloatSliderModel",
      "state": {
       "description": "45°",
       "layout": "IPY_MODEL_cea0a1d95504433281c46be8618dae28",
       "max": 1,
       "min": -1,
       "step": 0.01,
       "style": "IPY_MODEL_b01364f9b21c423a88293b8ab7864d9e"
      }
     },
     "567301b550a24f24897cd7244920ba96": {
      "model_module": "@jupyter-widgets/base",
      "model_module_version": "1.2.0",
      "model_name": "LayoutModel",
      "state": {}
     },
     "568ddb6121fb45ea8c9d634861ca4b41": {
      "model_module": "@jupyter-widgets/base",
      "model_module_version": "1.2.0",
      "model_name": "LayoutModel",
      "state": {}
     },
     "568f6f2a37fb4aa2919e1412d28b7234": {
      "model_module": "@jupyter-widgets/controls",
      "model_module_version": "1.5.0",
      "model_name": "VBoxModel",
      "state": {
       "children": [
        "IPY_MODEL_ffcbfa3e237144a28e3485e34f4bd367",
        "IPY_MODEL_415411e7119d460284648301329b12f2",
        "IPY_MODEL_847b481c6cac4e63a04af66bc3213aa1"
       ],
       "layout": "IPY_MODEL_493e16c4c8df4f43825e155403a1e569"
      }
     },
     "56c33a75d4be4402b44e9e2a7043bac7": {
      "model_module": "@jupyter-widgets/controls",
      "model_module_version": "1.5.0",
      "model_name": "FloatSliderModel",
      "state": {
       "description": "270°",
       "layout": "IPY_MODEL_11a9c8f47a4544c39ff74a508cc426f3",
       "max": 1,
       "min": -1,
       "step": 0.01,
       "style": "IPY_MODEL_fea242c04f92416eb8e7a1062d09b11c"
      }
     },
     "56c6d39c0fdd45d38a1a1a1182d366b6": {
      "model_module": "@jupyter-widgets/controls",
      "model_module_version": "1.5.0",
      "model_name": "FloatSliderModel",
      "state": {
       "description": "45°",
       "layout": "IPY_MODEL_0653a5fa0d4341218af88e7976bcb390",
       "max": 1,
       "min": -1,
       "step": 0.01,
       "style": "IPY_MODEL_1a5c628ed95b44748d17a1eb4b33018d"
      }
     },
     "56d6c6a2272a45ddba2e2416927f6145": {
      "model_module": "@jupyter-widgets/controls",
      "model_module_version": "1.5.0",
      "model_name": "ButtonStyleModel",
      "state": {}
     },
     "56e4ec3b59594dd8bb0ccaa09dee1df6": {
      "model_module": "@jupyter-widgets/base",
      "model_module_version": "1.2.0",
      "model_name": "LayoutModel",
      "state": {}
     },
     "5702685b32c4492fb5cd518321667432": {
      "model_module": "@jupyter-widgets/controls",
      "model_module_version": "1.5.0",
      "model_name": "ButtonStyleModel",
      "state": {}
     },
     "5716080bd9324b228dd4c1bccf34edfd": {
      "model_module": "@jupyter-widgets/base",
      "model_module_version": "1.2.0",
      "model_name": "LayoutModel",
      "state": {
       "border": "solid 4px #222",
       "margin": "4px",
       "padding": "0"
      }
     },
     "574026e6616e4f6daf221a0f0e59e714": {
      "model_module": "@jupyter-widgets/base",
      "model_module_version": "1.2.0",
      "model_name": "LayoutModel",
      "state": {
       "border": "solid 4px #222",
       "margin": "4px",
       "padding": "0"
      }
     },
     "5758043362c44d9096f4a7a814d6cd17": {
      "model_module": "@jupyter-widgets/controls",
      "model_module_version": "1.5.0",
      "model_name": "ButtonStyleModel",
      "state": {}
     },
     "5764f696664842278203b6191e3aab08": {
      "model_module": "@jupyter-widgets/controls",
      "model_module_version": "1.5.0",
      "model_name": "ButtonModel",
      "state": {
       "description": "Reset Compression Controls",
       "layout": "IPY_MODEL_d6f8491425d44bfabe9fa726414ac650",
       "style": "IPY_MODEL_d0d584c3afe643f6a6e452305867d691"
      }
     },
     "57795b0f15cb4e8a9b1171237e3546f2": {
      "model_module": "@jupyter-widgets/controls",
      "model_module_version": "1.5.0",
      "model_name": "ButtonStyleModel",
      "state": {}
     },
     "577d7f2f80184615a35855c870ee10e6": {
      "model_module": "@jupyter-widgets/controls",
      "model_module_version": "1.5.0",
      "model_name": "HBoxModel",
      "state": {
       "children": [
        "IPY_MODEL_f55e38ef05ab4bbc9660afd33477622c",
        "IPY_MODEL_156569ca7b0e4afa86211dc250efba1b",
        "IPY_MODEL_147a318fd3e54182a0fc3908384d71e8",
        "IPY_MODEL_79f605d548db4f998a227ff0ac4e379d",
        "IPY_MODEL_b95cfa4459ca406ea7aad6ecab067efe"
       ],
       "layout": "IPY_MODEL_499905eb9f6644f2a7739f77311c01ad"
      }
     },
     "577f9329fd5b4d0b8e7732c23c03adc4": {
      "model_module": "jupyter-matplotlib",
      "model_module_version": "^0.7.2",
      "model_name": "ToolbarModel",
      "state": {
       "layout": "IPY_MODEL_59cfda58255c45b5a484d644496f02ef",
       "toolitems": [
        [
         "Home",
         "Reset original view",
         "home",
         "home"
        ],
        [
         "Back",
         "Back to previous view",
         "arrow-left",
         "back"
        ],
        [
         "Forward",
         "Forward to next view",
         "arrow-right",
         "forward"
        ],
        [
         "Pan",
         "Pan axes with left mouse, zoom with right",
         "arrows",
         "pan"
        ],
        [
         "Zoom",
         "Zoom to rectangle",
         "square-o",
         "zoom"
        ],
        [
         "Download",
         "Download plot",
         "floppy-o",
         "save_figure"
        ]
       ]
      }
     },
     "5783a42672744f1d8dfd703972cc355e": {
      "model_module": "@jupyter-widgets/controls",
      "model_module_version": "1.5.0",
      "model_name": "TabModel",
      "state": {
       "_titles": {
        "0": "Global Controls",
        "1": "Protected Area Controls",
        "2": "Saturation Controls",
        "3": "Hue Controls"
       },
       "children": [
        "IPY_MODEL_33dbf0052cf64f49a42379a1d7d8e569",
        "IPY_MODEL_81fd93ee783f4d17a07980a1ea49c4a0",
        "IPY_MODEL_f4ba68e830e04757bfe0f39b3b54356b",
        "IPY_MODEL_c7a5d257ad78481ba6b03d120df9f369"
       ],
       "layout": "IPY_MODEL_d36cba50406a433894d5498b7c253c51"
      }
     },
     "57a01a6ce077427d8410aba8a5e970a6": {
      "model_module": "@jupyter-widgets/controls",
      "model_module_version": "1.5.0",
      "model_name": "ButtonModel",
      "state": {
       "description": "Export Image",
       "layout": "IPY_MODEL_2cade3dbb47846f1ad9ea37f0aef9584",
       "style": "IPY_MODEL_3a87f88fc7d94725a387cd7103fc9ca3"
      }
     },
     "57a3d1bf3e0247e085344032fd9f38df": {
      "model_module": "@jupyter-widgets/base",
      "model_module_version": "1.2.0",
      "model_name": "LayoutModel",
      "state": {}
     },
     "57c68872681d4cda85214da7f9bb3364": {
      "model_module": "@jupyter-widgets/controls",
      "model_module_version": "1.5.0",
      "model_name": "BoxModel",
      "state": {
       "children": [
        "IPY_MODEL_8f5a88c853c34ff0b2ee169ecd0ec27d",
        "IPY_MODEL_5783a42672744f1d8dfd703972cc355e"
       ],
       "layout": "IPY_MODEL_e198411d8f4d4aedb1baec5d3d30ebaa"
      }
     },
     "57e75f08e19a49ee811ffca05ea0d249": {
      "model_module": "@jupyter-widgets/controls",
      "model_module_version": "1.5.0",
      "model_name": "CheckboxModel",
      "state": {
       "description": "Disable Medicina",
       "disabled": false,
       "layout": "IPY_MODEL_bbc7c581b7e241ba9a649664d80513cd",
       "style": "IPY_MODEL_f610aebd3e5d4211a414423064c050c0",
       "value": false
      }
     },
     "57e9e514336549188115d84c60f111d3": {
      "model_module": "@jupyter-widgets/controls",
      "model_module_version": "1.5.0",
      "model_name": "TabModel",
      "state": {
       "_titles": {
        "0": "Global Controls",
        "1": "Compression Controls"
       },
       "children": [
        "IPY_MODEL_083714b8009c475b8352028a84fda30c",
        "IPY_MODEL_61d827b529224c7fb60329bdc1c085da"
       ],
       "layout": "IPY_MODEL_f525f6f559bf4d37b9c5400c4e9ceadb"
      }
     },
     "57f4ada0e66e4547bb2f3613fd43331c": {
      "model_module": "@jupyter-widgets/base",
      "model_module_version": "1.2.0",
      "model_name": "LayoutModel",
      "state": {}
     },
     "57f77ce3f0a0405fbac7ecee56f9f231": {
      "model_module": "@jupyter-widgets/controls",
      "model_module_version": "1.5.0",
      "model_name": "SliderStyleModel",
      "state": {
       "description_width": ""
      }
     },
     "5840a1970eb44d3caff463f7075f64ae": {
      "model_module": "@jupyter-widgets/base",
      "model_module_version": "1.2.0",
      "model_name": "LayoutModel",
      "state": {}
     },
     "5863c0ffce6848e0979a014162ec3f4a": {
      "model_module": "@jupyter-widgets/base",
      "model_module_version": "1.2.0",
      "model_name": "LayoutModel",
      "state": {}
     },
     "58a1edd437a447b3b5946aba72654aa2": {
      "model_module": "@jupyter-widgets/base",
      "model_module_version": "1.2.0",
      "model_name": "LayoutModel",
      "state": {}
     },
     "58a355a59f32405384cf2921e77d659f": {
      "model_module": "@jupyter-widgets/base",
      "model_module_version": "1.2.0",
      "model_name": "LayoutModel",
      "state": {}
     },
     "590388d8e5b7416b94cd6564040ed4b8": {
      "model_module": "jupyter-matplotlib",
      "model_module_version": "^0.7.2",
      "model_name": "MPLCanvasModel",
      "state": {
       "header_visible": false,
       "layout": "IPY_MODEL_215edfb4f2f440fdac24537bda3a93f4",
       "resizable": false,
       "toolbar": "IPY_MODEL_c7f75166cfa245a5803a41286893982f",
       "toolbar_position": "left",
       "toolbar_visible": false
      }
     },
     "59073e28a18245d4b2118d029df3c68b": {
      "model_module": "@jupyter-widgets/controls",
      "model_module_version": "1.5.0",
      "model_name": "SliderStyleModel",
      "state": {
       "description_width": ""
      }
     },
     "592096fec6ab4a58b3d06f3b8da5ba0a": {
      "model_module": "@jupyter-widgets/base",
      "model_module_version": "1.2.0",
      "model_name": "LayoutModel",
      "state": {
       "align_items": "stretch",
       "display": "flex",
       "flex_flow": "column",
       "width": "1128px"
      }
     },
     "592789ea4d8e4fd0bd609ef08a46fd9e": {
      "model_module": "@jupyter-widgets/base",
      "model_module_version": "1.2.0",
      "model_name": "LayoutModel",
      "state": {}
     },
     "5930d371a83a450f8f5e7b94ea9572b0": {
      "model_module": "@jupyter-widgets/controls",
      "model_module_version": "1.5.0",
      "model_name": "SliderStyleModel",
      "state": {
       "description_width": ""
      }
     },
     "59340f80864b44c5a817d945475f6312": {
      "model_module": "@jupyter-widgets/controls",
      "model_module_version": "1.5.0",
      "model_name": "ButtonStyleModel",
      "state": {}
     },
     "593be8324a7346ffbf14f680ba47667f": {
      "model_module": "@jupyter-widgets/base",
      "model_module_version": "1.2.0",
      "model_name": "LayoutModel",
      "state": {}
     },
     "593fc7f143b547619552a745b27e04cc": {
      "model_module": "@jupyter-widgets/controls",
      "model_module_version": "1.5.0",
      "model_name": "FloatSliderModel",
      "state": {
       "description": "45°",
       "layout": "IPY_MODEL_c735d4b5d4ea4434a75b55d6ef071ef7",
       "max": 1,
       "min": -1,
       "step": 0.01,
       "style": "IPY_MODEL_f68014df168944cca1310b382b3ec668"
      }
     },
     "593fff62744f416f9d266ef2922c8ca7": {
      "model_module": "@jupyter-widgets/base",
      "model_module_version": "1.2.0",
      "model_name": "LayoutModel",
      "state": {}
     },
     "5964c172bfd84c6bbe9a64efadae90e4": {
      "model_module": "@jupyter-widgets/controls",
      "model_module_version": "1.5.0",
      "model_name": "ButtonStyleModel",
      "state": {}
     },
     "599b2ca58a5d4db890b59915d86a3045": {
      "model_module": "@jupyter-widgets/controls",
      "model_module_version": "1.5.0",
      "model_name": "HBoxModel",
      "state": {
       "children": [
        "IPY_MODEL_dd45a0b3f6ae4fc2958ba15f5e5d9b39",
        "IPY_MODEL_454814ebbb24426c87f7b8d31b849198",
        "IPY_MODEL_86dffe22188d40cd8230e8f752515b10"
       ],
       "layout": "IPY_MODEL_129880f4029240fba6da8a5edf893528"
      }
     },
     "59cfda58255c45b5a484d644496f02ef": {
      "model_module": "@jupyter-widgets/base",
      "model_module_version": "1.2.0",
      "model_name": "LayoutModel",
      "state": {}
     },
     "59d06b950c4c43f1866b547cfaf014c4": {
      "model_module": "@jupyter-widgets/controls",
      "model_module_version": "1.5.0",
      "model_name": "ButtonModel",
      "state": {
       "description": "Reset Compression Controls",
       "layout": "IPY_MODEL_5d92a32a742d4e07866bccceb539de44",
       "style": "IPY_MODEL_1a78e45e073a441bb45e6d61bbfce700"
      }
     },
     "59d7ca34fade4dfa8f14daf765caf9c6": {
      "model_module": "@jupyter-widgets/base",
      "model_module_version": "1.2.0",
      "model_name": "LayoutModel",
      "state": {}
     },
     "59dfffc935f14531b2c05722c0e727dc": {
      "model_module": "@jupyter-widgets/base",
      "model_module_version": "1.2.0",
      "model_name": "LayoutModel",
      "state": {}
     },
     "5a1cb2d8d0794f9e827a0684027c1f2c": {
      "model_module": "@jupyter-widgets/controls",
      "model_module_version": "1.5.0",
      "model_name": "ButtonModel",
      "state": {
       "description": "Save Figure",
       "layout": "IPY_MODEL_bc8470d7edaf48b0bd37a3866d63a776",
       "style": "IPY_MODEL_cee37a313129429589d761988d653d30"
      }
     },
     "5a616d2d22314dd19fa5461566ebf947": {
      "model_module": "@jupyter-widgets/controls",
      "model_module_version": "1.5.0",
      "model_name": "ButtonModel",
      "state": {
       "description": "Reset Compression Controls",
       "layout": "IPY_MODEL_c2a89d9e19934b14a2ec6040ee3f89b8",
       "style": "IPY_MODEL_08e440aa65bf46d1881063acee9b503b"
      }
     },
     "5aea873b68b1486eb0bb7ec0f8cdb6f9": {
      "model_module": "@jupyter-widgets/base",
      "model_module_version": "1.2.0",
      "model_name": "LayoutModel",
      "state": {}
     },
     "5be12373db064839b92610cd58f9759e": {
      "model_module": "@jupyter-widgets/controls",
      "model_module_version": "1.5.0",
      "model_name": "VBoxModel",
      "state": {
       "children": [
        "IPY_MODEL_60cd9bfb1af74948bc9bf4156bd75ae0"
       ],
       "layout": "IPY_MODEL_88b69f8424844cebb15c58e7b2f3cf02"
      }
     },
     "5c163a6a9a0241778f85ff32f7fd6b00": {
      "model_module": "@jupyter-widgets/controls",
      "model_module_version": "1.5.0",
      "model_name": "ButtonStyleModel",
      "state": {}
     },
     "5c3e617cada9436381d9c193ae7dc739": {
      "model_module": "@jupyter-widgets/controls",
      "model_module_version": "1.5.0",
      "model_name": "ButtonStyleModel",
      "state": {}
     },
     "5c50d1294d144fd8afae4d3e728d4001": {
      "model_module": "@jupyter-widgets/base",
      "model_module_version": "1.2.0",
      "model_name": "LayoutModel",
      "state": {
       "border": "solid 4px #222",
       "margin": "4px",
       "padding": "0"
      }
     },
     "5c6932124dc245809ecd3167e9230300": {
      "model_module": "@jupyter-widgets/base",
      "model_module_version": "1.2.0",
      "model_name": "LayoutModel",
      "state": {}
     },
     "5c9002a126134b10834f19840f9a86d4": {
      "model_module": "@jupyter-widgets/controls",
      "model_module_version": "1.5.0",
      "model_name": "DropdownModel",
      "state": {
       "_options_labels": [
        "tanh",
        "atan",
        "simple"
       ],
       "description": "Compression Function:",
       "index": 0,
       "layout": "IPY_MODEL_2a7bbf1234ec47d0a758526338df307d",
       "style": "IPY_MODEL_fa5f206639664516b44c929f81420b7f"
      }
     },
     "5cc95b6124cf4fd0a1d13493319ad190": {
      "model_module": "@jupyter-widgets/base",
      "model_module_version": "1.2.0",
      "model_name": "LayoutModel",
      "state": {}
     },
     "5cc9aeb5538947ee8d5b183cb888bce1": {
      "model_module": "@jupyter-widgets/base",
      "model_module_version": "1.2.0",
      "model_name": "LayoutModel",
      "state": {}
     },
     "5d46ce7cdc28405d89aec5f503d5e28a": {
      "model_module": "@jupyter-widgets/controls",
      "model_module_version": "1.5.0",
      "model_name": "CheckboxModel",
      "state": {
       "description": "Disable Medicina",
       "disabled": false,
       "layout": "IPY_MODEL_b08bc86ebb38442e8701e4bb8f0f8fb8",
       "style": "IPY_MODEL_c6b9a7ed050a4bb0a4ff1ee06bbbb413",
       "value": false
      }
     },
     "5d5fa71243ed433e899561bd02209ae4": {
      "model_module": "@jupyter-widgets/controls",
      "model_module_version": "1.5.0",
      "model_name": "CheckboxModel",
      "state": {
       "description": "Disable Medicina",
       "disabled": false,
       "layout": "IPY_MODEL_bd91f05349a047f8bbc84cddcb95eb9a",
       "style": "IPY_MODEL_644d1d8fa90c480697a668d9978adbf8",
       "value": false
      }
     },
     "5d92a32a742d4e07866bccceb539de44": {
      "model_module": "@jupyter-widgets/base",
      "model_module_version": "1.2.0",
      "model_name": "LayoutModel",
      "state": {}
     },
     "5dcb894bbb5a4a6097a8a135d0d0ad5e": {
      "model_module": "@jupyter-widgets/base",
      "model_module_version": "1.2.0",
      "model_name": "LayoutModel",
      "state": {}
     },
     "5dd61e13d5c5435782d20046bd1ff592": {
      "model_module": "@jupyter-widgets/controls",
      "model_module_version": "1.5.0",
      "model_name": "FloatSliderModel",
      "state": {
       "description": "180°",
       "layout": "IPY_MODEL_ffcde38398ad4c61a17af4907aa2edb1",
       "max": 1,
       "min": -1,
       "step": 0.01,
       "style": "IPY_MODEL_d1d1c29df2a74723b955fa261db96a48"
      }
     },
     "5e149d8d9fa64bf18200630893e61e65": {
      "model_module": "@jupyter-widgets/controls",
      "model_module_version": "1.5.0",
      "model_name": "ButtonModel",
      "state": {
       "description": "Reset Protected Area",
       "layout": "IPY_MODEL_05d877fc527b41edb3d8cf0352b556f8",
       "style": "IPY_MODEL_e1952f09d0b14e4d848c614a20dfe0b4"
      }
     },
     "5e3020b57a094a3db59d4b693427911d": {
      "model_module": "@jupyter-widgets/base",
      "model_module_version": "1.2.0",
      "model_name": "LayoutModel",
      "state": {}
     },
     "5e560d0015034c778fe9e175d465c513": {
      "model_module": "@jupyter-widgets/base",
      "model_module_version": "1.2.0",
      "model_name": "LayoutModel",
      "state": {}
     },
     "5ea61a9b54ea45178ac1b28a6e738ca0": {
      "model_module": "@jupyter-widgets/controls",
      "model_module_version": "1.5.0",
      "model_name": "ButtonStyleModel",
      "state": {}
     },
     "5ebf1978c4084b48a80e4d2274ffb0c8": {
      "model_module": "@jupyter-widgets/base",
      "model_module_version": "1.2.0",
      "model_name": "LayoutModel",
      "state": {}
     },
     "5ec44673a58e41819860e958960bc431": {
      "model_module": "@jupyter-widgets/controls",
      "model_module_version": "1.5.0",
      "model_name": "SliderStyleModel",
      "state": {
       "description_width": ""
      }
     },
     "5ec4ee47b5d9417ba53c6d0e7fd512c8": {
      "model_module": "@jupyter-widgets/base",
      "model_module_version": "1.2.0",
      "model_name": "LayoutModel",
      "state": {}
     },
     "5ee906479f3b4529a8d0023d90514c26": {
      "model_module": "@jupyter-widgets/base",
      "model_module_version": "1.2.0",
      "model_name": "LayoutModel",
      "state": {}
     },
     "5f21461020024df780288921a0576503": {
      "model_module": "@jupyter-widgets/base",
      "model_module_version": "1.2.0",
      "model_name": "LayoutModel",
      "state": {}
     },
     "5f60afbf8ca1482abc5cf4c883efd311": {
      "model_module": "jupyter-matplotlib",
      "model_module_version": "^0.7.2",
      "model_name": "MPLCanvasModel",
      "state": {
       "header_visible": false,
       "layout": "IPY_MODEL_d590b6117bdd4a54af0acd4691e36e79",
       "resizable": false,
       "toolbar": "IPY_MODEL_ebe9cb60d27448b6ace9cfb9fba0e97e",
       "toolbar_position": "left",
       "toolbar_visible": false
      }
     },
     "5f829561467442da85d679bd4149b339": {
      "model_module": "@jupyter-widgets/controls",
      "model_module_version": "1.5.0",
      "model_name": "ButtonModel",
      "state": {
       "description": "Export Image",
       "layout": "IPY_MODEL_4e74a33a5dee4948a623d5d8870377de",
       "style": "IPY_MODEL_190f2212fd7b4510a79aa1862ea87eb1"
      }
     },
     "5f98bfc3036c49dfa0099686c49adb16": {
      "model_module": "@jupyter-widgets/controls",
      "model_module_version": "1.5.0",
      "model_name": "FloatSliderModel",
      "state": {
       "description": "135°",
       "layout": "IPY_MODEL_b86cfeeefac0451b94ad832bebb2f6d7",
       "max": 1,
       "min": -1,
       "step": 0.01,
       "style": "IPY_MODEL_6d9f9979f01c418b997f0efb5596a9e7"
      }
     },
     "5fc977f0b5f740cba7dcfe5651eb4adb": {
      "model_module": "@jupyter-widgets/controls",
      "model_module_version": "1.5.0",
      "model_name": "SliderStyleModel",
      "state": {
       "description_width": ""
      }
     },
     "5ff074ba602f4c3d974ed5aaaf3da08d": {
      "model_module": "@jupyter-widgets/controls",
      "model_module_version": "1.5.0",
      "model_name": "FloatSliderModel",
      "state": {
       "description": "180°",
       "layout": "IPY_MODEL_c92caaaf1a774195bc201534efffee98",
       "max": 1,
       "min": -1,
       "step": 0.01,
       "style": "IPY_MODEL_dbd1b91e507f4eb5a2723b8b83d5a4c2"
      }
     },
     "5ff1a068faba4d5d9ff8a8b4dad9e4e2": {
      "model_module": "@jupyter-widgets/base",
      "model_module_version": "1.2.0",
      "model_name": "LayoutModel",
      "state": {}
     },
     "5ffeb4f2acbb4723b317e34de73a2062": {
      "model_module": "@jupyter-widgets/controls",
      "model_module_version": "1.5.0",
      "model_name": "DropdownModel",
      "state": {
       "_options_labels": [
        "tanh",
        "atan",
        "simple"
       ],
       "description": "Compression Function:",
       "index": 0,
       "layout": "IPY_MODEL_c6b6577fe2394a5c843f72bb2e3a599e",
       "style": "IPY_MODEL_3a39e167b17c442bb1bc23261f6bf1d5"
      }
     },
     "5fff5a3cf77a4e059cd44928e0c458f2": {
      "model_module": "@jupyter-widgets/base",
      "model_module_version": "1.2.0",
      "model_name": "LayoutModel",
      "state": {}
     },
     "601b6c3163524483a1abab810df51c95": {
      "model_module": "@jupyter-widgets/controls",
      "model_module_version": "1.5.0",
      "model_name": "ButtonStyleModel",
      "state": {}
     },
     "604245959033458c9228e687c6bceb22": {
      "model_module": "@jupyter-widgets/base",
      "model_module_version": "1.2.0",
      "model_name": "LayoutModel",
      "state": {}
     },
     "606518e12ffd46cb93977870995ae9b7": {
      "model_module": "@jupyter-widgets/controls",
      "model_module_version": "1.5.0",
      "model_name": "SliderStyleModel",
      "state": {
       "description_width": ""
      }
     },
     "606f520965744c99988e3ded5f5bcfb2": {
      "model_module": "@jupyter-widgets/base",
      "model_module_version": "1.2.0",
      "model_name": "LayoutModel",
      "state": {}
     },
     "608ba87728f240db984566e1a7a67535": {
      "model_module": "@jupyter-widgets/base",
      "model_module_version": "1.2.0",
      "model_name": "LayoutModel",
      "state": {}
     },
     "60ba9fc2fd4142b9b7ff9c68eaf6ce13": {
      "model_module": "@jupyter-widgets/controls",
      "model_module_version": "1.5.0",
      "model_name": "FloatSliderModel",
      "state": {
       "description": "45°",
       "layout": "IPY_MODEL_07091ae7a34f4030bd7f72439465883a",
       "max": 1,
       "min": -1,
       "step": 0.01,
       "style": "IPY_MODEL_b577bf4df5dc4c26a84c15dfdb8403e4"
      }
     },
     "60c754995bb94f298d9987c8983ff12c": {
      "model_module": "@jupyter-widgets/base",
      "model_module_version": "1.2.0",
      "model_name": "LayoutModel",
      "state": {}
     },
     "60c800fcf99946a598254ea21b18b12c": {
      "model_module": "@jupyter-widgets/base",
      "model_module_version": "1.2.0",
      "model_name": "LayoutModel",
      "state": {}
     },
     "60cd9bfb1af74948bc9bf4156bd75ae0": {
      "model_module": "@jupyter-widgets/controls",
      "model_module_version": "1.5.0",
      "model_name": "ButtonModel",
      "state": {
       "description": "Reset Hue Controls",
       "layout": "IPY_MODEL_3347eb990ebb43b8862605590b9326e2",
       "style": "IPY_MODEL_887d332720384277aab6871ad6432ad7"
      }
     },
     "60d4f069b6e64ddd9fbc7612a473b1f0": {
      "model_module": "@jupyter-widgets/base",
      "model_module_version": "1.2.0",
      "model_name": "LayoutModel",
      "state": {}
     },
     "60f1127accf84f9ea14e2af0c6020553": {
      "model_module": "@jupyter-widgets/controls",
      "model_module_version": "1.5.0",
      "model_name": "SliderStyleModel",
      "state": {
       "description_width": ""
      }
     },
     "613132bf9ab940008be70d4bace2b8b7": {
      "model_module": "@jupyter-widgets/base",
      "model_module_version": "1.2.0",
      "model_name": "LayoutModel",
      "state": {}
     },
     "61b9c8af62624619ad7477494b713b4b": {
      "model_module": "@jupyter-widgets/base",
      "model_module_version": "1.2.0",
      "model_name": "LayoutModel",
      "state": {
       "border": "solid 4px #222",
       "margin": "4px",
       "padding": "0"
      }
     },
     "61d827b529224c7fb60329bdc1c085da": {
      "model_module": "@jupyter-widgets/controls",
      "model_module_version": "1.5.0",
      "model_name": "HBoxModel",
      "state": {
       "children": [
        "IPY_MODEL_59d06b950c4c43f1866b547cfaf014c4",
        "IPY_MODEL_3ff81f0d46d143768eeabc60cc835dc8",
        "IPY_MODEL_c1c5fded34fe436a9eaacbabfd197a17"
       ],
       "layout": "IPY_MODEL_6655b9ed24e14e73a89c15b0797962d3"
      }
     },
     "622fd69a8b0446fba287cab4e2200b6e": {
      "model_module": "@jupyter-widgets/controls",
      "model_module_version": "1.5.0",
      "model_name": "FloatSliderModel",
      "state": {
       "description": "270°",
       "layout": "IPY_MODEL_747372c8a42245799bb67fe767f4ddaf",
       "max": 1,
       "min": -1,
       "step": 0.01,
       "style": "IPY_MODEL_870aaa67d4854e37916c7404ef8216eb"
      }
     },
     "62447bb13b56445680ca7cb38eb77c61": {
      "model_module": "@jupyter-widgets/controls",
      "model_module_version": "1.5.0",
      "model_name": "DescriptionStyleModel",
      "state": {
       "description_width": ""
      }
     },
     "6280a971c0b747cc83e2de50123ab109": {
      "model_module": "@jupyter-widgets/base",
      "model_module_version": "1.2.0",
      "model_name": "LayoutModel",
      "state": {}
     },
     "628aaff639fd44b5bf17bc15ca42fcb4": {
      "model_module": "@jupyter-widgets/controls",
      "model_module_version": "1.5.0",
      "model_name": "SliderStyleModel",
      "state": {
       "description_width": ""
      }
     },
     "62b2afc6b895465fb5568862bce19c43": {
      "model_module": "@jupyter-widgets/controls",
      "model_module_version": "1.5.0",
      "model_name": "SliderStyleModel",
      "state": {
       "description_width": ""
      }
     },
     "62daf705f9ae45b5a9ae3b90f13538a4": {
      "model_module": "@jupyter-widgets/controls",
      "model_module_version": "1.5.0",
      "model_name": "ButtonModel",
      "state": {
       "description": "Reset Exposure",
       "layout": "IPY_MODEL_cc74ae0be327476eae8bcc436b0761b4",
       "style": "IPY_MODEL_3c358c8efa5642c2ba6d0ebf774368bf"
      }
     },
     "62dbdd85ae334b43b5870e35ab2ae9d7": {
      "model_module": "@jupyter-widgets/controls",
      "model_module_version": "1.5.0",
      "model_name": "SliderStyleModel",
      "state": {
       "description_width": ""
      }
     },
     "62eb39701df446f5b7d2f5e86d935460": {
      "model_module": "@jupyter-widgets/controls",
      "model_module_version": "1.5.0",
      "model_name": "FloatSliderModel",
      "state": {
       "description": "Compression Threshold",
       "layout": "IPY_MODEL_2f35546b67044e1b8e29a21a68afd0cb",
       "max": 1,
       "step": 0.01,
       "style": "IPY_MODEL_89cf54b3e97940cf8aaf3f2b2bd838d0",
       "value": 0.8
      }
     },
     "62fa801433a649f48aaa37d8f50a78d1": {
      "model_module": "@jupyter-widgets/controls",
      "model_module_version": "1.5.0",
      "model_name": "SliderStyleModel",
      "state": {
       "description_width": ""
      }
     },
     "632087887e5542d99428ccec50c984aa": {
      "model_module": "@jupyter-widgets/base",
      "model_module_version": "1.2.0",
      "model_name": "LayoutModel",
      "state": {}
     },
     "633208bde5544d0a86ae8d72315d17de": {
      "model_module": "@jupyter-widgets/controls",
      "model_module_version": "1.5.0",
      "model_name": "DescriptionStyleModel",
      "state": {
       "description_width": ""
      }
     },
     "6337957132fb4402ac2dba016ba8e6bd": {
      "model_module": "@jupyter-widgets/base",
      "model_module_version": "1.2.0",
      "model_name": "LayoutModel",
      "state": {}
     },
     "636257e9beb14017aeb5200a9eae2bc7": {
      "model_module": "@jupyter-widgets/controls",
      "model_module_version": "1.5.0",
      "model_name": "SliderStyleModel",
      "state": {
       "description_width": ""
      }
     },
     "636d70e3ae4d41019125bbc2a4ebccea": {
      "model_module": "@jupyter-widgets/base",
      "model_module_version": "1.2.0",
      "model_name": "LayoutModel",
      "state": {}
     },
     "63d768d685c945ada87c310c0b325cc3": {
      "model_module": "@jupyter-widgets/controls",
      "model_module_version": "1.5.0",
      "model_name": "ButtonModel",
      "state": {
       "description": "Export Image",
       "layout": "IPY_MODEL_1c5835f0df0047b7898584d6526ec3ed",
       "style": "IPY_MODEL_5c163a6a9a0241778f85ff32f7fd6b00"
      }
     },
     "6402e83facc846e899e46be3d828de2c": {
      "model_module": "@jupyter-widgets/controls",
      "model_module_version": "1.5.0",
      "model_name": "FloatSliderModel",
      "state": {
       "description": "225°",
       "layout": "IPY_MODEL_0b2868075bb549d6a7cc0c66c9a5c225",
       "max": 1,
       "min": -1,
       "step": 0.01,
       "style": "IPY_MODEL_0f46c432051f45d1a0580d60715cdcb2"
      }
     },
     "641fd918010c4ded952ca671a7f3e3b2": {
      "model_module": "@jupyter-widgets/controls",
      "model_module_version": "1.5.0",
      "model_name": "SliderStyleModel",
      "state": {
       "description_width": ""
      }
     },
     "644531b7002942b9b4832e0eecffa22f": {
      "model_module": "@jupyter-widgets/base",
      "model_module_version": "1.2.0",
      "model_name": "LayoutModel",
      "state": {}
     },
     "644d1d8fa90c480697a668d9978adbf8": {
      "model_module": "@jupyter-widgets/controls",
      "model_module_version": "1.5.0",
      "model_name": "DescriptionStyleModel",
      "state": {
       "description_width": ""
      }
     },
     "64531b578f064113a3b4540bb706f254": {
      "model_module": "@jupyter-widgets/controls",
      "model_module_version": "1.5.0",
      "model_name": "ButtonStyleModel",
      "state": {}
     },
     "648e716604454e4c92c511b6dd1a8b76": {
      "model_module": "@jupyter-widgets/controls",
      "model_module_version": "1.5.0",
      "model_name": "DescriptionStyleModel",
      "state": {
       "description_width": ""
      }
     },
     "649585702e114bb7a311aae4192a30a3": {
      "model_module": "@jupyter-widgets/controls",
      "model_module_version": "1.5.0",
      "model_name": "FloatSliderModel",
      "state": {
       "description": "315°",
       "layout": "IPY_MODEL_4ef5a7a681c44ae7853826895b74c57a",
       "max": 1,
       "min": -1,
       "step": 0.01,
       "style": "IPY_MODEL_1603d0bbd1764871a2b205c67d80b0e3"
      }
     },
     "64d3dfd9b88641f28fc730ece9f7c819": {
      "model_module": "@jupyter-widgets/base",
      "model_module_version": "1.2.0",
      "model_name": "LayoutModel",
      "state": {}
     },
     "64d971d6a9db4899aec1a7d28e29de52": {
      "model_module": "@jupyter-widgets/controls",
      "model_module_version": "1.5.0",
      "model_name": "ButtonStyleModel",
      "state": {}
     },
     "64e47eddad0f4455bf5c95eec01cb170": {
      "model_module": "@jupyter-widgets/controls",
      "model_module_version": "1.5.0",
      "model_name": "FloatSliderModel",
      "state": {
       "description": "0°",
       "layout": "IPY_MODEL_5ebf1978c4084b48a80e4d2274ffb0c8",
       "max": 1,
       "min": -1,
       "step": 0.01,
       "style": "IPY_MODEL_57f77ce3f0a0405fbac7ecee56f9f231"
      }
     },
     "64e774d3101a4dff8ad3c3ffe64f67f6": {
      "model_module": "@jupyter-widgets/base",
      "model_module_version": "1.2.0",
      "model_name": "LayoutModel",
      "state": {}
     },
     "6520c504174743c08aebdb1248c8e7ee": {
      "model_module": "@jupyter-widgets/controls",
      "model_module_version": "1.5.0",
      "model_name": "HBoxModel",
      "state": {
       "children": [
        "IPY_MODEL_30e0b35e6b2b4f8fa460d041d38971d5",
        "IPY_MODEL_3666be98ab3f4329b7e5a22668d1f5b6",
        "IPY_MODEL_dbc3608543c240a8afc9e0d19f8c5bba",
        "IPY_MODEL_62daf705f9ae45b5a9ae3b90f13538a4",
        "IPY_MODEL_9b58060b524a48b39b1dc97e40726429"
       ],
       "layout": "IPY_MODEL_188277362b604a9ea5fb3855cb633e47"
      }
     },
     "656908babe434992b5352fe6a14af315": {
      "model_module": "@jupyter-widgets/base",
      "model_module_version": "1.2.0",
      "model_name": "LayoutModel",
      "state": {}
     },
     "65a9b6edf1044ff7b92a03147728abe2": {
      "model_module": "@jupyter-widgets/base",
      "model_module_version": "1.2.0",
      "model_name": "LayoutModel",
      "state": {}
     },
     "65d91dd77d2d43938e49e4cd181bf4ee": {
      "model_module": "@jupyter-widgets/base",
      "model_module_version": "1.2.0",
      "model_name": "LayoutModel",
      "state": {}
     },
     "65dd26f91e424277a44bc8013e4d4b9e": {
      "model_module": "@jupyter-widgets/base",
      "model_module_version": "1.2.0",
      "model_name": "LayoutModel",
      "state": {}
     },
     "662ce6fe17454e6eab4465ff7b6e5a29": {
      "model_module": "@jupyter-widgets/controls",
      "model_module_version": "1.5.0",
      "model_name": "DescriptionStyleModel",
      "state": {
       "description_width": ""
      }
     },
     "663deea03c234685a7e4b42aaac99100": {
      "model_module": "@jupyter-widgets/controls",
      "model_module_version": "1.5.0",
      "model_name": "FloatSliderModel",
      "state": {
       "description": "180°",
       "layout": "IPY_MODEL_21d946ce3cff492eaf67e950f2e97f98",
       "max": 1,
       "min": -1,
       "step": 0.01,
       "style": "IPY_MODEL_02d7ecb1e558470d891d2f6282408e91"
      }
     },
     "6655b9ed24e14e73a89c15b0797962d3": {
      "model_module": "@jupyter-widgets/base",
      "model_module_version": "1.2.0",
      "model_name": "LayoutModel",
      "state": {}
     },
     "6668a6a803c54b069251934098b9a30a": {
      "model_module": "@jupyter-widgets/base",
      "model_module_version": "1.2.0",
      "model_name": "LayoutModel",
      "state": {}
     },
     "666956bd248146abbc3e09ee3fea5277": {
      "model_module": "@jupyter-widgets/base",
      "model_module_version": "1.2.0",
      "model_name": "LayoutModel",
      "state": {}
     },
     "667a32c536ae46d6964ea28a545203b6": {
      "model_module": "@jupyter-widgets/controls",
      "model_module_version": "1.5.0",
      "model_name": "ButtonStyleModel",
      "state": {}
     },
     "66835fadf68a4499b6692b7cbf8df8f7": {
      "model_module": "@jupyter-widgets/controls",
      "model_module_version": "1.5.0",
      "model_name": "FloatSliderModel",
      "state": {
       "description": "315°",
       "layout": "IPY_MODEL_632087887e5542d99428ccec50c984aa",
       "max": 1,
       "min": -1,
       "step": 0.01,
       "style": "IPY_MODEL_3b358c50c0554bc29454f8f6f306d926"
      }
     },
     "66964ab416494d4280db45936286f01b": {
      "model_module": "@jupyter-widgets/controls",
      "model_module_version": "1.5.0",
      "model_name": "ButtonModel",
      "state": {
       "description": "Reset Exposure",
       "layout": "IPY_MODEL_cfc0958a23ba4a6c94ee30bf1293f5ad",
       "style": "IPY_MODEL_2849e1302af9458f8e1673a2b551b9ac"
      }
     },
     "66b57183ffa44d24884dd720d771d3c5": {
      "model_module": "@jupyter-widgets/controls",
      "model_module_version": "1.5.0",
      "model_name": "SliderStyleModel",
      "state": {
       "description_width": ""
      }
     },
     "66c26f527e864f188989c58daabd75fc": {
      "model_module": "@jupyter-widgets/controls",
      "model_module_version": "1.5.0",
      "model_name": "ButtonModel",
      "state": {
       "description": "Export Image",
       "layout": "IPY_MODEL_5fff5a3cf77a4e059cd44928e0c458f2",
       "style": "IPY_MODEL_cdc969e336284869acafd2edb70724a0"
      }
     },
     "66cfe03094a442f38c1a1ef8202c41a6": {
      "model_module": "@jupyter-widgets/base",
      "model_module_version": "1.2.0",
      "model_name": "LayoutModel",
      "state": {}
     },
     "671015677cba4bafbed046d20b9235f5": {
      "model_module": "@jupyter-widgets/output",
      "model_module_version": "1.0.0",
      "model_name": "OutputModel",
      "state": {
       "layout": "IPY_MODEL_0a20ff032dce4d119944b432cdf3310b",
       "outputs": [
        {
         "data": {
          "application/vnd.jupyter.widget-view+json": {
           "model_id": "cf148ef884ab4adf98576197ec77ce65",
           "version_major": 2,
           "version_minor": 0
          },
          "text/plain": "Canvas(toolbar=Toolbar(toolitems=[('Home', 'Reset original view', 'home', 'home'), ('Back', 'Back to previous …"
         },
         "metadata": {},
         "output_type": "display_data"
        }
       ]
      }
     },
     "6744ed23740645e4b406d8a93cd1c6eb": {
      "model_module": "@jupyter-widgets/controls",
      "model_module_version": "1.5.0",
      "model_name": "FloatSliderModel",
      "state": {
       "description": "0°",
       "layout": "IPY_MODEL_4bcde23bb3bb41269b2c15b4e8adc3b7",
       "max": 1,
       "min": -1,
       "step": 0.01,
       "style": "IPY_MODEL_b4542eb49231461cb8454eec4abd51cc"
      }
     },
     "676382ea8e0646fc8eefc95d9c56997a": {
      "model_module": "@jupyter-widgets/output",
      "model_module_version": "1.0.0",
      "model_name": "OutputModel",
      "state": {
       "layout": "IPY_MODEL_87731e6937ba47bea53843563c288a13",
       "outputs": [
        {
         "data": {
          "application/vnd.jupyter.widget-view+json": {
           "model_id": "4c8ddd37d78f4e02803b7cb172431d2b",
           "version_major": 2,
           "version_minor": 0
          },
          "text/plain": "Canvas(toolbar=Toolbar(toolitems=[('Home', 'Reset original view', 'home', 'home'), ('Back', 'Back to previous …"
         },
         "metadata": {},
         "output_type": "display_data"
        }
       ]
      }
     },
     "67677eee1fb24abd83bdafd4da6e26e9": {
      "model_module": "@jupyter-widgets/controls",
      "model_module_version": "1.5.0",
      "model_name": "ButtonModel",
      "state": {
       "description": "Reset Protected Area",
       "layout": "IPY_MODEL_92258e8017664e0dac90d1ed03f51ff3",
       "style": "IPY_MODEL_19cdded58ee94c5aaf9920ba6144beb1"
      }
     },
     "6778d216662142c4a99128f5b0d1e11c": {
      "model_module": "@jupyter-widgets/base",
      "model_module_version": "1.2.0",
      "model_name": "LayoutModel",
      "state": {}
     },
     "6784006281ed4966a6a41097509a29f7": {
      "model_module": "@jupyter-widgets/controls",
      "model_module_version": "1.5.0",
      "model_name": "FloatSliderModel",
      "state": {
       "description": "Compression Threshold",
       "layout": "IPY_MODEL_60c754995bb94f298d9987c8983ff12c",
       "max": 1,
       "step": 0.01,
       "style": "IPY_MODEL_033c85ec4ad24a85bc8841f50acad31b",
       "value": 0.8
      }
     },
     "6793ecc1b77d4335910b359efbcbc9c7": {
      "model_module": "@jupyter-widgets/controls",
      "model_module_version": "1.5.0",
      "model_name": "ButtonModel",
      "state": {
       "description": "Reset Exposure",
       "layout": "IPY_MODEL_de109562d26242f58c56e21dde264abb",
       "style": "IPY_MODEL_e5f5423afc6d4257984568f8f2b5e302"
      }
     },
     "679404163b354568a501e89006ff5434": {
      "model_module": "@jupyter-widgets/base",
      "model_module_version": "1.2.0",
      "model_name": "LayoutModel",
      "state": {
       "border": "solid 4px #222",
       "margin": "4px",
       "padding": "0"
      }
     },
     "679d408db7574802a713c7ddee762122": {
      "model_module": "@jupyter-widgets/base",
      "model_module_version": "1.2.0",
      "model_name": "LayoutModel",
      "state": {}
     },
     "6806f5ebd7f941249c03310d6e1f76f6": {
      "model_module": "@jupyter-widgets/base",
      "model_module_version": "1.2.0",
      "model_name": "LayoutModel",
      "state": {}
     },
     "6817044acdc2429496bee8bd7f8d6a1e": {
      "model_module": "@jupyter-widgets/base",
      "model_module_version": "1.2.0",
      "model_name": "LayoutModel",
      "state": {}
     },
     "68452c168a3b4af3bc0a2f80ef78acc2": {
      "model_module": "@jupyter-widgets/base",
      "model_module_version": "1.2.0",
      "model_name": "LayoutModel",
      "state": {
       "border": "solid 4px #222",
       "margin": "4px",
       "padding": "0"
      }
     },
     "68506121e8f94e308872ec890d448846": {
      "model_module": "@jupyter-widgets/base",
      "model_module_version": "1.2.0",
      "model_name": "LayoutModel",
      "state": {}
     },
     "68991dd3efaf46c2b6801014010f5a15": {
      "model_module": "@jupyter-widgets/base",
      "model_module_version": "1.2.0",
      "model_name": "LayoutModel",
      "state": {}
     },
     "689b6a0ba7a5490ca71c47472192b841": {
      "model_module": "@jupyter-widgets/controls",
      "model_module_version": "1.5.0",
      "model_name": "FloatSliderModel",
      "state": {
       "description": "Exposure",
       "layout": "IPY_MODEL_5513ba0f743e4cbbade2f1fdd846e3d1",
       "max": 8,
       "min": -8,
       "step": 0.1,
       "style": "IPY_MODEL_fdf45b366fd9409d81c0f6bb60069078"
      }
     },
     "68afd4e6bfc041469e8a5b4e8e983b32": {
      "model_module": "@jupyter-widgets/controls",
      "model_module_version": "1.5.0",
      "model_name": "FloatSliderModel",
      "state": {
       "description": "Protected Area Threshold",
       "layout": "IPY_MODEL_0f37984337b4432390c516a61cf02eb1",
       "max": 1,
       "step": 0.01,
       "style": "IPY_MODEL_47d25578a0a14da9a27fa113026dd242",
       "value": 0.7
      }
     },
     "68c10a1eed6943faa400cc9d2b87710c": {
      "model_module": "@jupyter-widgets/base",
      "model_module_version": "1.2.0",
      "model_name": "LayoutModel",
      "state": {
       "border": "solid 4px #222",
       "margin": "4px",
       "padding": "0"
      }
     },
     "68d0e2915776460ea5890df83718bf3b": {
      "model_module": "@jupyter-widgets/base",
      "model_module_version": "1.2.0",
      "model_name": "LayoutModel",
      "state": {}
     },
     "69687438e92c408ab11be90683f6249d": {
      "model_module": "@jupyter-widgets/controls",
      "model_module_version": "1.5.0",
      "model_name": "VBoxModel",
      "state": {
       "children": [
        "IPY_MODEL_ff70d9dca71d434091ab04f2e41605c1"
       ],
       "layout": "IPY_MODEL_7a474be145b645f4a180475d730fb389"
      }
     },
     "6976d20951f8472aab57031ca5c90b2c": {
      "model_module": "@jupyter-widgets/base",
      "model_module_version": "1.2.0",
      "model_name": "LayoutModel",
      "state": {}
     },
     "699b1ca0d9aa411da596322399b7e1ae": {
      "model_module": "@jupyter-widgets/base",
      "model_module_version": "1.2.0",
      "model_name": "LayoutModel",
      "state": {}
     },
     "69b5042a166847b296acb4b0d988c58d": {
      "model_module": "jupyter-matplotlib",
      "model_module_version": "^0.7.2",
      "model_name": "MPLCanvasModel",
      "state": {
       "header_visible": false,
       "layout": "IPY_MODEL_899d45cdd34c4901b00c82f7d07cfb08",
       "resizable": false,
       "toolbar": "IPY_MODEL_f25fdb83a56e487fb2b99346fd840197",
       "toolbar_position": "left",
       "toolbar_visible": false
      }
     },
     "6a1ecb8971fb4e3888760bf2111e770c": {
      "model_module": "@jupyter-widgets/base",
      "model_module_version": "1.2.0",
      "model_name": "LayoutModel",
      "state": {}
     },
     "6a203ef5a88d47be9e1115ce0f7c3469": {
      "model_module": "@jupyter-widgets/base",
      "model_module_version": "1.2.0",
      "model_name": "LayoutModel",
      "state": {}
     },
     "6a3404ff282841c8be23f83819fe4485": {
      "model_module": "@jupyter-widgets/base",
      "model_module_version": "1.2.0",
      "model_name": "LayoutModel",
      "state": {
       "border": "solid 4px #222",
       "margin": "4px",
       "padding": "0"
      }
     },
     "6a373d70d7e2458bb53239a19a9d3007": {
      "model_module": "@jupyter-widgets/base",
      "model_module_version": "1.2.0",
      "model_name": "LayoutModel",
      "state": {}
     },
     "6a4c4b3417524a9b964c1a3cacb3f176": {
      "model_module": "@jupyter-widgets/controls",
      "model_module_version": "1.5.0",
      "model_name": "VBoxModel",
      "state": {
       "children": [
        "IPY_MODEL_168428d419384ce88fab20be7f9fe6eb"
       ],
       "layout": "IPY_MODEL_861a1246ae9044ab836c1a3b29a5f3a7"
      }
     },
     "6a68701695ac438782f3f5a609760aa1": {
      "model_module": "@jupyter-widgets/controls",
      "model_module_version": "1.5.0",
      "model_name": "SliderStyleModel",
      "state": {
       "description_width": ""
      }
     },
     "6a82a794b8404b15b59f35c15dc74c44": {
      "model_module": "@jupyter-widgets/controls",
      "model_module_version": "1.5.0",
      "model_name": "BoxModel",
      "state": {
       "children": [
        "IPY_MODEL_f159afc55e3b4d699d19e40d87ee4a1d",
        "IPY_MODEL_492439c7fbc24b65a370e4723e19827d"
       ],
       "layout": "IPY_MODEL_16d2a1f13ecd47079c5e44e40be40655"
      }
     },
     "6a9163991f644c5686c524801a3de376": {
      "model_module": "@jupyter-widgets/base",
      "model_module_version": "1.2.0",
      "model_name": "LayoutModel",
      "state": {}
     },
     "6a9bb4d2f73d40b28484ad61f539c78c": {
      "model_module": "@jupyter-widgets/controls",
      "model_module_version": "1.5.0",
      "model_name": "FloatSliderModel",
      "state": {
       "description": "0°",
       "layout": "IPY_MODEL_feee9af9ac57427e89e3e93f88fce283",
       "max": 1,
       "min": -1,
       "step": 0.01,
       "style": "IPY_MODEL_33b5eee6438440d5ac3f15b5024b4981"
      }
     },
     "6ae5d17b7095443daaa49c0932a04593": {
      "model_module": "@jupyter-widgets/controls",
      "model_module_version": "1.5.0",
      "model_name": "SliderStyleModel",
      "state": {
       "description_width": ""
      }
     },
     "6ae7b954826e4ae584cfb93f14d2f2dd": {
      "model_module": "jupyter-matplotlib",
      "model_module_version": "^0.7.2",
      "model_name": "MPLCanvasModel",
      "state": {
       "header_visible": false,
       "layout": "IPY_MODEL_c233577f59de455b9d9f4c1a2cd4e3e7",
       "resizable": false,
       "toolbar": "IPY_MODEL_8f40b11d067d4f4bb5eb8246641aa93f",
       "toolbar_position": "left",
       "toolbar_visible": false
      }
     },
     "6b1c0df51b8440a28308a87fc8f0b260": {
      "model_module": "@jupyter-widgets/base",
      "model_module_version": "1.2.0",
      "model_name": "LayoutModel",
      "state": {}
     },
     "6b2e44c125d94dd08a10ca57152d399f": {
      "model_module": "@jupyter-widgets/controls",
      "model_module_version": "1.5.0",
      "model_name": "DropdownModel",
      "state": {
       "_options_labels": [
        "tanh",
        "atan",
        "simple"
       ],
       "description": "Compression Function:",
       "index": 0,
       "layout": "IPY_MODEL_c674999f6cd6425594b593cf7725e429",
       "style": "IPY_MODEL_4250adb1250540ecbc10b8e7b3673cf0"
      }
     },
     "6b5107461f3c4362bf89a5e36e2b5b69": {
      "model_module": "@jupyter-widgets/base",
      "model_module_version": "1.2.0",
      "model_name": "LayoutModel",
      "state": {}
     },
     "6b55783dc77b4de4be903dfece1817a3": {
      "model_module": "@jupyter-widgets/controls",
      "model_module_version": "1.5.0",
      "model_name": "SliderStyleModel",
      "state": {
       "description_width": ""
      }
     },
     "6b8ba21d42184fa9aaeac2a60b645e46": {
      "model_module": "@jupyter-widgets/base",
      "model_module_version": "1.2.0",
      "model_name": "LayoutModel",
      "state": {}
     },
     "6bb49929be7a406a9a381c76d2a480f6": {
      "model_module": "@jupyter-widgets/controls",
      "model_module_version": "1.5.0",
      "model_name": "ButtonModel",
      "state": {
       "description": "Export Image",
       "layout": "IPY_MODEL_1fe66502f81847af869b3d75b6a55387",
       "style": "IPY_MODEL_1733d1b8fca54360a997ef5ac1b6f576"
      }
     },
     "6c0d2c62cfee4657b1bca8a4d4b53978": {
      "model_module": "@jupyter-widgets/controls",
      "model_module_version": "1.5.0",
      "model_name": "FloatSliderModel",
      "state": {
       "description": "315°",
       "layout": "IPY_MODEL_4ff7eb94d4ee4f11b40104055a4b54ed",
       "max": 1,
       "min": -1,
       "step": 0.01,
       "style": "IPY_MODEL_08ecbd5e5c774166b220ec0c5a478faf"
      }
     },
     "6c4cea94af9849bdad2a27a0a4ccee7e": {
      "model_module": "@jupyter-widgets/controls",
      "model_module_version": "1.5.0",
      "model_name": "SliderStyleModel",
      "state": {
       "description_width": ""
      }
     },
     "6c733bb23cee470cb28ff874dbee8efc": {
      "model_module": "@jupyter-widgets/controls",
      "model_module_version": "1.5.0",
      "model_name": "BoxModel",
      "state": {
       "children": [
        "IPY_MODEL_d3c3b5fc79124c9bb85cedf43a2291fa",
        "IPY_MODEL_db84286b336d417a923330697eb62951"
       ],
       "layout": "IPY_MODEL_4a639c8acc234fa7b4b6a310fb443fba"
      }
     },
     "6caa723a3bcf497682468feb4d7214ac": {
      "model_module": "@jupyter-widgets/controls",
      "model_module_version": "1.5.0",
      "model_name": "DropdownModel",
      "state": {
       "_options_labels": [
        "tanh",
        "atan",
        "simple"
       ],
       "description": "Compression Function:",
       "index": 0,
       "layout": "IPY_MODEL_5cc9aeb5538947ee8d5b183cb888bce1",
       "style": "IPY_MODEL_9b258548e99941a6ae97618c04d8d62a"
      }
     },
     "6cd180963d694dc49baa967673054cac": {
      "model_module": "@jupyter-widgets/controls",
      "model_module_version": "1.5.0",
      "model_name": "ButtonStyleModel",
      "state": {}
     },
     "6cd1e678fd454fa39c8a2da5b9b0e8e2": {
      "model_module": "@jupyter-widgets/controls",
      "model_module_version": "1.5.0",
      "model_name": "FloatSliderModel",
      "state": {
       "description": "90°",
       "layout": "IPY_MODEL_2e9e44943a3946d3b78ecf6956c6d836",
       "max": 1,
       "min": -1,
       "step": 0.01,
       "style": "IPY_MODEL_66b57183ffa44d24884dd720d771d3c5"
      }
     },
     "6d07c457f5a24ba9ae0a7ddda376515a": {
      "model_module": "@jupyter-widgets/controls",
      "model_module_version": "1.5.0",
      "model_name": "ButtonStyleModel",
      "state": {}
     },
     "6d26f13d37994e2ea3e2e4e079b2f9bb": {
      "model_module": "@jupyter-widgets/controls",
      "model_module_version": "1.5.0",
      "model_name": "ButtonStyleModel",
      "state": {}
     },
     "6d9f9979f01c418b997f0efb5596a9e7": {
      "model_module": "@jupyter-widgets/controls",
      "model_module_version": "1.5.0",
      "model_name": "SliderStyleModel",
      "state": {
       "description_width": ""
      }
     },
     "6dbb7cbbdb1f4e618a88102c943318c8": {
      "model_module": "@jupyter-widgets/base",
      "model_module_version": "1.2.0",
      "model_name": "LayoutModel",
      "state": {}
     },
     "6dd38bc22b4c4dbc80753cc48518aa04": {
      "model_module": "@jupyter-widgets/controls",
      "model_module_version": "1.5.0",
      "model_name": "HBoxModel",
      "state": {
       "children": [
        "IPY_MODEL_5a616d2d22314dd19fa5461566ebf947",
        "IPY_MODEL_27109df33943463e873afb531fd541b9",
        "IPY_MODEL_e5e26620cc10454fbc660c1bea768bc5"
       ],
       "layout": "IPY_MODEL_eb3d7035b3ca466ab40ad0f3aabdef5c"
      }
     },
     "6df2d9b2c6734c8c85227bfe235be371": {
      "model_module": "@jupyter-widgets/controls",
      "model_module_version": "1.5.0",
      "model_name": "BoxModel",
      "state": {
       "children": [
        "IPY_MODEL_2e854504b77c428eac46d65511c53af5",
        "IPY_MODEL_7738c5622b614381bb73373c5905ef4f"
       ],
       "layout": "IPY_MODEL_2173ea7b4b5a452081dfabc01c9d3f78"
      }
     },
     "6df388769a3d4a1590474ff20462806b": {
      "model_module": "@jupyter-widgets/output",
      "model_module_version": "1.0.0",
      "model_name": "OutputModel",
      "state": {
       "layout": "IPY_MODEL_0a8fb9559b4b44279859b6af4b982014",
       "outputs": [
        {
         "data": {
          "application/vnd.jupyter.widget-view+json": {
           "model_id": "dcb0bea18175443ca6eb019be7820b43",
           "version_major": 2,
           "version_minor": 0
          },
          "text/plain": "Canvas(toolbar=Toolbar(toolitems=[('Home', 'Reset original view', 'home', 'home'), ('Back', 'Back to previous …"
         },
         "metadata": {},
         "output_type": "display_data"
        }
       ]
      }
     },
     "6e0446df6b31417db0db35621d6dbbce": {
      "model_module": "@jupyter-widgets/controls",
      "model_module_version": "1.5.0",
      "model_name": "CheckboxModel",
      "state": {
       "description": "Disable Medicina",
       "disabled": false,
       "layout": "IPY_MODEL_4011d5dd0e4148a480b169e6a9e7ca4f",
       "style": "IPY_MODEL_9baa90a2dd174f0bb8e97ff8db9ed909",
       "value": false
      }
     },
     "6e0ab228adfe4ebb92432a0cee3edd2a": {
      "model_module": "@jupyter-widgets/controls",
      "model_module_version": "1.5.0",
      "model_name": "DescriptionStyleModel",
      "state": {
       "description_width": ""
      }
     },
     "6e38d64bdb434534bb8d6d9fb14d31df": {
      "model_module": "@jupyter-widgets/base",
      "model_module_version": "1.2.0",
      "model_name": "LayoutModel",
      "state": {}
     },
     "6e7bc495f68648c4b93dbf91febbf443": {
      "model_module": "@jupyter-widgets/controls",
      "model_module_version": "1.5.0",
      "model_name": "CheckboxModel",
      "state": {
       "description": "Disable Medicina",
       "disabled": false,
       "layout": "IPY_MODEL_1e498b83380141a291354957a89a28ba",
       "style": "IPY_MODEL_1259415b4dcc410485e7b5c63cc1bb41",
       "value": false
      }
     },
     "6e7f991c40f7445a8700ef5b0803545d": {
      "model_module": "jupyter-matplotlib",
      "model_module_version": "^0.7.2",
      "model_name": "MPLCanvasModel",
      "state": {
       "_figure_label": "Figure 6",
       "_height": 508,
       "_width": 1100,
       "header_visible": false,
       "layout": "IPY_MODEL_df028a83cb8d4261a5e9588c86e9c650",
       "resizable": false,
       "toolbar": "IPY_MODEL_afb55cfd3ebe48279c0563fcc50ae774",
       "toolbar_position": "left",
       "toolbar_visible": false
      }
     },
     "6eb43494f35046d39a7ce5a36799d436": {
      "model_module": "@jupyter-widgets/base",
      "model_module_version": "1.2.0",
      "model_name": "LayoutModel",
      "state": {}
     },
     "6ef05f2113c24b14a0327a520ba880ed": {
      "model_module": "@jupyter-widgets/base",
      "model_module_version": "1.2.0",
      "model_name": "LayoutModel",
      "state": {}
     },
     "6ef4cc5017284b99a426a4d8c44052cf": {
      "model_module": "@jupyter-widgets/controls",
      "model_module_version": "1.5.0",
      "model_name": "VBoxModel",
      "state": {
       "children": [
        "IPY_MODEL_7a7d9a740dc14a4fb5f800999c882019",
        "IPY_MODEL_c03ca69fded04256832ae1144057e2f4",
        "IPY_MODEL_254be2889cc742a3b347fc44256cd3a7"
       ],
       "layout": "IPY_MODEL_0d5dad82cfed44849bde0d29cf9b76c4"
      }
     },
     "6f12c75bf34043189664ddacd0082d05": {
      "model_module": "@jupyter-widgets/controls",
      "model_module_version": "1.5.0",
      "model_name": "SliderStyleModel",
      "state": {
       "description_width": ""
      }
     },
     "6f135de7d61a4d59ba5e5bd759e42077": {
      "model_module": "@jupyter-widgets/base",
      "model_module_version": "1.2.0",
      "model_name": "LayoutModel",
      "state": {}
     },
     "6f367756528b4a04baeb1335041123bc": {
      "model_module": "@jupyter-widgets/controls",
      "model_module_version": "1.5.0",
      "model_name": "FloatSliderModel",
      "state": {
       "description": "Exposure",
       "layout": "IPY_MODEL_d1b9bf3b8e0a4948b80b866ce478ccfe",
       "max": 8,
       "min": -8,
       "step": 0.1,
       "style": "IPY_MODEL_dc8d92b7888b49feaf2e58548123c4e2"
      }
     },
     "6f410dbd0fbc4f1da3cc1a702d45e2cd": {
      "model_module": "@jupyter-widgets/base",
      "model_module_version": "1.2.0",
      "model_name": "LayoutModel",
      "state": {}
     },
     "6f73ac907a8e42e6bbde5a18971f1ae5": {
      "model_module": "@jupyter-widgets/base",
      "model_module_version": "1.2.0",
      "model_name": "LayoutModel",
      "state": {}
     },
     "6f977272f8624ba8a3fc79fcbc03d81d": {
      "model_module": "@jupyter-widgets/controls",
      "model_module_version": "1.5.0",
      "model_name": "SliderStyleModel",
      "state": {
       "description_width": ""
      }
     },
     "6fccb83c5ea3404d983904dbef7011fa": {
      "model_module": "@jupyter-widgets/controls",
      "model_module_version": "1.5.0",
      "model_name": "DescriptionStyleModel",
      "state": {
       "description_width": ""
      }
     },
     "6fd490150500499e878b4de133962083": {
      "model_module": "@jupyter-widgets/base",
      "model_module_version": "1.2.0",
      "model_name": "LayoutModel",
      "state": {}
     },
     "7042a06f03634a90a815019ffef17482": {
      "model_module": "@jupyter-widgets/base",
      "model_module_version": "1.2.0",
      "model_name": "LayoutModel",
      "state": {}
     },
     "7052aa5433e147869fcdc16a4a700c61": {
      "model_module": "@jupyter-widgets/controls",
      "model_module_version": "1.5.0",
      "model_name": "ButtonModel",
      "state": {
       "description": "Export Image",
       "layout": "IPY_MODEL_c43bacb03c47476882378735ae542190",
       "style": "IPY_MODEL_e3229e303d1c48bbbcfa09c84c17abc4"
      }
     },
     "70833d79886147f7a35b97ef13601314": {
      "model_module": "@jupyter-widgets/base",
      "model_module_version": "1.2.0",
      "model_name": "LayoutModel",
      "state": {
       "border": "solid 4px #222",
       "margin": "4px",
       "padding": "0"
      }
     },
     "70aab9af64f44c77b225cad998b763d9": {
      "model_module": "@jupyter-widgets/controls",
      "model_module_version": "1.5.0",
      "model_name": "ButtonStyleModel",
      "state": {}
     },
     "70b0183d7be24364ae9c114800ec4a44": {
      "model_module": "@jupyter-widgets/controls",
      "model_module_version": "1.5.0",
      "model_name": "ButtonStyleModel",
      "state": {}
     },
     "70ee0d12040545e2828fbf12d4109057": {
      "model_module": "@jupyter-widgets/base",
      "model_module_version": "1.2.0",
      "model_name": "LayoutModel",
      "state": {}
     },
     "70f13980f1394ec095208a77ef9eb063": {
      "model_module": "@jupyter-widgets/controls",
      "model_module_version": "1.5.0",
      "model_name": "TabModel",
      "state": {
       "_titles": {
        "0": "Global Controls",
        "1": "Compression Controls"
       },
       "children": [
        "IPY_MODEL_577d7f2f80184615a35855c870ee10e6",
        "IPY_MODEL_fb673e6ebd024532ac2eec8aa4fcfe4b"
       ],
       "layout": "IPY_MODEL_973eb79c7de0425fb1ac0d182129e201"
      }
     },
     "711d31f9ec8c475083ba4f875e0f6cc4": {
      "model_module": "@jupyter-widgets/base",
      "model_module_version": "1.2.0",
      "model_name": "LayoutModel",
      "state": {}
     },
     "711f029d713e47209b30d0afd68e5215": {
      "model_module": "@jupyter-widgets/controls",
      "model_module_version": "1.5.0",
      "model_name": "FloatSliderModel",
      "state": {
       "description": "Compression Threshold",
       "layout": "IPY_MODEL_c8952d00f0574c59beb8e406aa25c0d9",
       "max": 1,
       "step": 0.01,
       "style": "IPY_MODEL_a05106a97f774375a013f28c70afed21",
       "value": 0.8
      }
     },
     "714da0b57afa415288b2a9772dc0af6d": {
      "model_module": "@jupyter-widgets/controls",
      "model_module_version": "1.5.0",
      "model_name": "HBoxModel",
      "state": {
       "children": [
        "IPY_MODEL_67677eee1fb24abd83bdafd4da6e26e9",
        "IPY_MODEL_8142e34d92df4794957313045c078218"
       ],
       "layout": "IPY_MODEL_1baa2e2c252f4571b347f5e00eb1d2c5"
      }
     },
     "7164acabc736441fa46b2689de11d183": {
      "model_module": "@jupyter-widgets/base",
      "model_module_version": "1.2.0",
      "model_name": "LayoutModel",
      "state": {}
     },
     "7181662861014aebaf6ce878bbd27d58": {
      "model_module": "@jupyter-widgets/controls",
      "model_module_version": "1.5.0",
      "model_name": "ButtonStyleModel",
      "state": {}
     },
     "719ef18367cf46659ba1e9d8ce497ace": {
      "model_module": "@jupyter-widgets/controls",
      "model_module_version": "1.5.0",
      "model_name": "ButtonModel",
      "state": {
       "description": "Reset Compression Controls",
       "layout": "IPY_MODEL_944db7f422c94b17bbcf3e3c2f3cd3ff",
       "style": "IPY_MODEL_18e37e2b7dfb4755946653180c19dc27"
      }
     },
     "71ff436b7dbe416fbdbf80ed8c4e2f0c": {
      "model_module": "@jupyter-widgets/controls",
      "model_module_version": "1.5.0",
      "model_name": "HBoxModel",
      "state": {
       "children": [
        "IPY_MODEL_719ef18367cf46659ba1e9d8ce497ace",
        "IPY_MODEL_763d17c8aa1a43a6ad7badae5baf3dd3",
        "IPY_MODEL_0311c38d4b424c13a14687f84ceb2609"
       ],
       "layout": "IPY_MODEL_78c9f9ee586a4544a3608e6512d4e985"
      }
     },
     "7208588c64b647e8b2e5d52b2fa20f46": {
      "model_module": "@jupyter-widgets/controls",
      "model_module_version": "1.5.0",
      "model_name": "FloatSliderModel",
      "state": {
       "description": "270°",
       "layout": "IPY_MODEL_2c4a2cb8b0ab443692813eddef0184f0",
       "max": 1,
       "min": -1,
       "step": 0.01,
       "style": "IPY_MODEL_0ffdfeb9c03d46d2a084d560c19e4794"
      }
     },
     "7239d13221224c89a4cad96e33931faa": {
      "model_module": "@jupyter-widgets/controls",
      "model_module_version": "1.5.0",
      "model_name": "ButtonModel",
      "state": {
       "description": "Reset Exposure",
       "layout": "IPY_MODEL_339aa95ddcac4096b5863734d43d0786",
       "style": "IPY_MODEL_bb3c6237c19f4a7f8e26aaf842d35727"
      }
     },
     "725a01e9828c4c0a9da607fde443c87f": {
      "model_module": "@jupyter-widgets/controls",
      "model_module_version": "1.5.0",
      "model_name": "HBoxModel",
      "state": {
       "children": [
        "IPY_MODEL_439ad560f75e4af28b12001cd1fc034d",
        "IPY_MODEL_e071945cd7494328a9a5124723dbaf58",
        "IPY_MODEL_360843928bf14f73953609f772a5fb17"
       ],
       "layout": "IPY_MODEL_4d12116e5c104c46849c45f2790115ea"
      }
     },
     "726ee6d23c9b42d9a2871563f2ba9be0": {
      "model_module": "@jupyter-widgets/base",
      "model_module_version": "1.2.0",
      "model_name": "LayoutModel",
      "state": {}
     },
     "727d51c42dfe4a4f9e9cdfc599e9a06e": {
      "model_module": "jupyter-matplotlib",
      "model_module_version": "^0.7.2",
      "model_name": "ToolbarModel",
      "state": {
       "layout": "IPY_MODEL_a03130f348154823b67c0bce2876cb94",
       "toolitems": [
        [
         "Home",
         "Reset original view",
         "home",
         "home"
        ],
        [
         "Back",
         "Back to previous view",
         "arrow-left",
         "back"
        ],
        [
         "Forward",
         "Forward to next view",
         "arrow-right",
         "forward"
        ],
        [
         "Pan",
         "Pan axes with left mouse, zoom with right",
         "arrows",
         "pan"
        ],
        [
         "Zoom",
         "Zoom to rectangle",
         "square-o",
         "zoom"
        ],
        [
         "Download",
         "Download plot",
         "floppy-o",
         "save_figure"
        ]
       ]
      }
     },
     "72c5d77da3c54b9ca1dd8724d19f4a9d": {
      "model_module": "@jupyter-widgets/controls",
      "model_module_version": "1.5.0",
      "model_name": "SliderStyleModel",
      "state": {
       "description_width": ""
      }
     },
     "72c91490fa4a4dde9d39c71a4a54ff10": {
      "model_module": "@jupyter-widgets/controls",
      "model_module_version": "1.5.0",
      "model_name": "FloatSliderModel",
      "state": {
       "description": "Exposure",
       "layout": "IPY_MODEL_821cc9731539496487e5a175f5e1cff1",
       "max": 8,
       "min": -8,
       "step": 0.1,
       "style": "IPY_MODEL_e36f1172d9a34d348cd1e24fa1861866"
      }
     },
     "72ce1c94f0b14ea791f14764e33be012": {
      "model_module": "@jupyter-widgets/base",
      "model_module_version": "1.2.0",
      "model_name": "LayoutModel",
      "state": {}
     },
     "72efbf00ba9d479cbedb2db91a56d4fd": {
      "model_module": "@jupyter-widgets/base",
      "model_module_version": "1.2.0",
      "model_name": "LayoutModel",
      "state": {}
     },
     "732e21b124794198b77521319cbacd02": {
      "model_module": "@jupyter-widgets/controls",
      "model_module_version": "1.5.0",
      "model_name": "SliderStyleModel",
      "state": {
       "description_width": ""
      }
     },
     "7345aa1472d14035be4215e941ba33b1": {
      "model_module": "@jupyter-widgets/base",
      "model_module_version": "1.2.0",
      "model_name": "LayoutModel",
      "state": {}
     },
     "73b1b409a6414c97a9fc53e1fea717cb": {
      "model_module": "@jupyter-widgets/base",
      "model_module_version": "1.2.0",
      "model_name": "LayoutModel",
      "state": {}
     },
     "73b6c83fe3e74e229bc6b2b9874d24d4": {
      "model_module": "jupyter-matplotlib",
      "model_module_version": "^0.7.2",
      "model_name": "MPLCanvasModel",
      "state": {
       "header_visible": false,
       "layout": "IPY_MODEL_567301b550a24f24897cd7244920ba96",
       "resizable": false,
       "toolbar": "IPY_MODEL_160fa217c7ce4ecda1eec8c1a631cc0b",
       "toolbar_position": "left",
       "toolbar_visible": false
      }
     },
     "73bc42570d444b2da1e314c13480a35f": {
      "model_module": "@jupyter-widgets/base",
      "model_module_version": "1.2.0",
      "model_name": "LayoutModel",
      "state": {}
     },
     "73d1c9dc9f84457e8ef31cf8e72203ea": {
      "model_module": "@jupyter-widgets/controls",
      "model_module_version": "1.5.0",
      "model_name": "HBoxModel",
      "state": {
       "children": [
        "IPY_MODEL_39d95a36f01c4dff954e705616c1c91e",
        "IPY_MODEL_447b5ca579f34b3f8ddca0a6af5559c3",
        "IPY_MODEL_d1e6f1a7b03048a9bf82ef2136a6bfb3"
       ],
       "layout": "IPY_MODEL_6668a6a803c54b069251934098b9a30a"
      }
     },
     "740b75ac2c3c48acaca35e9ff90b4b9d": {
      "model_module": "@jupyter-widgets/controls",
      "model_module_version": "1.5.0",
      "model_name": "TabModel",
      "state": {
       "_titles": {
        "0": "Global Controls",
        "1": "Compression Controls"
       },
       "children": [
        "IPY_MODEL_9cc3ea93a3c74cf480da20754d07a7eb",
        "IPY_MODEL_6dd38bc22b4c4dbc80753cc48518aa04"
       ],
       "layout": "IPY_MODEL_c0cdc7480dc44c89a635d6115d243670"
      }
     },
     "743853bb618642dcafe82832c1ce3c8a": {
      "model_module": "@jupyter-widgets/base",
      "model_module_version": "1.2.0",
      "model_name": "LayoutModel",
      "state": {}
     },
     "74639e9abf684a9faad78e6a846136d6": {
      "model_module": "@jupyter-widgets/controls",
      "model_module_version": "1.5.0",
      "model_name": "FloatSliderModel",
      "state": {
       "description": "45°",
       "layout": "IPY_MODEL_a4c4cfb71e094152a4d46ca2a641a268",
       "max": 1,
       "min": -1,
       "step": 0.01,
       "style": "IPY_MODEL_feef9d925ccc45e8b612f716daea475d"
      }
     },
     "747372c8a42245799bb67fe767f4ddaf": {
      "model_module": "@jupyter-widgets/base",
      "model_module_version": "1.2.0",
      "model_name": "LayoutModel",
      "state": {}
     },
     "762c4a9029284bf1a75c2020b0013f03": {
      "model_module": "@jupyter-widgets/base",
      "model_module_version": "1.2.0",
      "model_name": "LayoutModel",
      "state": {}
     },
     "763d17c8aa1a43a6ad7badae5baf3dd3": {
      "model_module": "@jupyter-widgets/controls",
      "model_module_version": "1.5.0",
      "model_name": "DropdownModel",
      "state": {
       "_options_labels": [
        "tanh",
        "atan",
        "simple"
       ],
       "description": "Compression Function:",
       "index": 0,
       "layout": "IPY_MODEL_593fff62744f416f9d266ef2922c8ca7",
       "style": "IPY_MODEL_18df7938321c443cb76d3952cb4af475"
      }
     },
     "767e3f65307f492688961249fb0bce4e": {
      "model_module": "@jupyter-widgets/controls",
      "model_module_version": "1.5.0",
      "model_name": "FloatSliderModel",
      "state": {
       "description": "Exposure",
       "layout": "IPY_MODEL_22bdf2680d574a6e9f35c3c9afc4682d",
       "max": 8,
       "min": -8,
       "step": 0.1,
       "style": "IPY_MODEL_d1732305415941c2aaa8bcafbd5b9cf3"
      }
     },
     "76996a995ceb4042b5b9882007297421": {
      "model_module": "@jupyter-widgets/base",
      "model_module_version": "1.2.0",
      "model_name": "LayoutModel",
      "state": {
       "border": "solid 4px #222",
       "margin": "4px",
       "padding": "0"
      }
     },
     "76e22f09cf97484eba8ff95d18ef1820": {
      "model_module": "@jupyter-widgets/controls",
      "model_module_version": "1.5.0",
      "model_name": "VBoxModel",
      "state": {
       "children": [
        "IPY_MODEL_433d71e28d6e441ca13585d63dd200a4"
       ],
       "layout": "IPY_MODEL_9bb616d454034746b2c304472a26b66d"
      }
     },
     "7738c5622b614381bb73373c5905ef4f": {
      "model_module": "@jupyter-widgets/controls",
      "model_module_version": "1.5.0",
      "model_name": "TabModel",
      "state": {
       "_titles": {
        "0": "Global Controls"
       },
       "children": [
        "IPY_MODEL_9ac55d810fdd42218b4a49cf267fdda2"
       ],
       "layout": "IPY_MODEL_1c8cc2fbce014ebe94a030e9af6c3122"
      }
     },
     "77420e80b4c44808b5822692db6067e0": {
      "model_module": "@jupyter-widgets/base",
      "model_module_version": "1.2.0",
      "model_name": "LayoutModel",
      "state": {}
     },
     "77420f6c8dba4d95ab84b01705e11c71": {
      "model_module": "@jupyter-widgets/controls",
      "model_module_version": "1.5.0",
      "model_name": "SliderStyleModel",
      "state": {
       "description_width": ""
      }
     },
     "77802ea56e01460ca84dbe678ee13224": {
      "model_module": "@jupyter-widgets/controls",
      "model_module_version": "1.5.0",
      "model_name": "FloatSliderModel",
      "state": {
       "description": "Protected Area Threshold",
       "layout": "IPY_MODEL_c7db6be2c9074a3085c5a4cf2fc5a22d",
       "max": 1,
       "step": 0.01,
       "style": "IPY_MODEL_3a192bad44824cdbab12f05ec8e9bcf8",
       "value": 0.7
      }
     },
     "7789be5daad842f591d272795c57fb9f": {
      "model_module": "@jupyter-widgets/base",
      "model_module_version": "1.2.0",
      "model_name": "LayoutModel",
      "state": {}
     },
     "77996130fdef4238b5dcfe47fcf27357": {
      "model_module": "@jupyter-widgets/controls",
      "model_module_version": "1.5.0",
      "model_name": "DescriptionStyleModel",
      "state": {
       "description_width": ""
      }
     },
     "77a099b7c02a469b9436caf0da10d2ce": {
      "model_module": "@jupyter-widgets/base",
      "model_module_version": "1.2.0",
      "model_name": "LayoutModel",
      "state": {}
     },
     "77cf3e3e82694f37bc1e3375bb5e7431": {
      "model_module": "@jupyter-widgets/base",
      "model_module_version": "1.2.0",
      "model_name": "LayoutModel",
      "state": {}
     },
     "77d66ebedbd347e881fa75e4d19fd58b": {
      "model_module": "@jupyter-widgets/controls",
      "model_module_version": "1.5.0",
      "model_name": "FloatSliderModel",
      "state": {
       "description": "90°",
       "layout": "IPY_MODEL_b7d23f7572474eb28838c84499727477",
       "max": 1,
       "min": -1,
       "step": 0.01,
       "style": "IPY_MODEL_adcb637865e747459a96c0778cd78249"
      }
     },
     "77f0e564db314c5dbe2ec7a939c07a34": {
      "model_module": "@jupyter-widgets/controls",
      "model_module_version": "1.5.0",
      "model_name": "ButtonStyleModel",
      "state": {}
     },
     "780e92f1cb57499cb03e065c6fbfb9a5": {
      "model_module": "@jupyter-widgets/controls",
      "model_module_version": "1.5.0",
      "model_name": "ButtonModel",
      "state": {
       "description": "Reset Exposure",
       "layout": "IPY_MODEL_bfc6e44f2e894e9c9d32c8a2306ed926",
       "style": "IPY_MODEL_601b6c3163524483a1abab810df51c95"
      }
     },
     "781c45a470dd435383c193ebe10469b3": {
      "model_module": "@jupyter-widgets/base",
      "model_module_version": "1.2.0",
      "model_name": "LayoutModel",
      "state": {}
     },
     "78636a5702814e34a6a543de85fff470": {
      "model_module": "@jupyter-widgets/controls",
      "model_module_version": "1.5.0",
      "model_name": "VBoxModel",
      "state": {
       "children": [
        "IPY_MODEL_1d6d7935e6414a82bd4f26ed34bd1b37"
       ],
       "layout": "IPY_MODEL_07dc442a5f2c4eedaaa2336b89ca1bee"
      }
     },
     "7870f0712f354e15af77812bed5cca6c": {
      "model_module": "@jupyter-widgets/base",
      "model_module_version": "1.2.0",
      "model_name": "LayoutModel",
      "state": {}
     },
     "78b59419daa74dda9a18c096f28be8e4": {
      "model_module": "@jupyter-widgets/base",
      "model_module_version": "1.2.0",
      "model_name": "LayoutModel",
      "state": {}
     },
     "78c9f9ee586a4544a3608e6512d4e985": {
      "model_module": "@jupyter-widgets/base",
      "model_module_version": "1.2.0",
      "model_name": "LayoutModel",
      "state": {}
     },
     "78d600a0e0a34be6bdab091adae08ea8": {
      "model_module": "@jupyter-widgets/controls",
      "model_module_version": "1.5.0",
      "model_name": "VBoxModel",
      "state": {
       "children": [
        "IPY_MODEL_9dceb8e3286c463097fc2558ad7bb642",
        "IPY_MODEL_00870bd18973405baae010c953fe79f1",
        "IPY_MODEL_b0bd45bafa1540529ec7d03b6897fd34"
       ],
       "layout": "IPY_MODEL_f067e92cd56545eb82cc9ebacc6d892e"
      }
     },
     "78d9692f799b461ab0a93c3e861128bc": {
      "model_module": "@jupyter-widgets/controls",
      "model_module_version": "1.5.0",
      "model_name": "FloatSliderModel",
      "state": {
       "description": "135°",
       "layout": "IPY_MODEL_035fdf7995f440ba8201bc2cfa015bbc",
       "max": 1,
       "min": -1,
       "step": 0.01,
       "style": "IPY_MODEL_080543312361462fb6c7f3738f1ec674"
      }
     },
     "78eb507185af430986dd3e755d9a7e47": {
      "model_module": "@jupyter-widgets/controls",
      "model_module_version": "1.5.0",
      "model_name": "CheckboxModel",
      "state": {
       "description": "Disable Medicina",
       "disabled": false,
       "layout": "IPY_MODEL_82ef4d7718ca49688c3c7996a74c5471",
       "style": "IPY_MODEL_633208bde5544d0a86ae8d72315d17de",
       "value": false
      }
     },
     "797979a9304247e3849a251f88143222": {
      "model_module": "@jupyter-widgets/controls",
      "model_module_version": "1.5.0",
      "model_name": "DescriptionStyleModel",
      "state": {
       "description_width": ""
      }
     },
     "799008cb4b9040fc96a78045ff5ec9cf": {
      "model_module": "@jupyter-widgets/controls",
      "model_module_version": "1.5.0",
      "model_name": "VBoxModel",
      "state": {
       "children": [
        "IPY_MODEL_9886ecc3da374b818239a376173665ae",
        "IPY_MODEL_56c6d39c0fdd45d38a1a1a1182d366b6",
        "IPY_MODEL_849c3899d7a349968f00112871d0404a"
       ],
       "layout": "IPY_MODEL_6e38d64bdb434534bb8d6d9fb14d31df"
      }
     },
     "79a14305125f4bbc9fdd8f5996434a5f": {
      "model_module": "@jupyter-widgets/controls",
      "model_module_version": "1.5.0",
      "model_name": "FloatSliderModel",
      "state": {
       "description": "Exposure",
       "layout": "IPY_MODEL_a4de3d476383492cb194b8d5841b5431",
       "max": 8,
       "min": -8,
       "step": 0.1,
       "style": "IPY_MODEL_4d9c1bdc3f284889ab445fc427f96487"
      }
     },
     "79d007ce38fe4d638a387adda799445f": {
      "model_module": "@jupyter-widgets/controls",
      "model_module_version": "1.5.0",
      "model_name": "ButtonModel",
      "state": {
       "description": "Save Figure",
       "layout": "IPY_MODEL_db7459f528d94d8e9f6239e85b42c383",
       "style": "IPY_MODEL_7181662861014aebaf6ce878bbd27d58"
      }
     },
     "79d78d68234840249c4ff52721ed33b3": {
      "model_module": "@jupyter-widgets/controls",
      "model_module_version": "1.5.0",
      "model_name": "SliderStyleModel",
      "state": {
       "description_width": ""
      }
     },
     "79f605d548db4f998a227ff0ac4e379d": {
      "model_module": "@jupyter-widgets/controls",
      "model_module_version": "1.5.0",
      "model_name": "ButtonModel",
      "state": {
       "description": "Reset Exposure",
       "layout": "IPY_MODEL_f98e1eb5b7044dd6b9a060a143280f25",
       "style": "IPY_MODEL_dc7f2cd0aa974da686b1410b1cd24fd4"
      }
     },
     "7a03a699386c463d905e323982e791a4": {
      "model_module": "jupyter-matplotlib",
      "model_module_version": "^0.7.2",
      "model_name": "MPLCanvasModel",
      "state": {
       "header_visible": false,
       "layout": "IPY_MODEL_5840a1970eb44d3caff463f7075f64ae",
       "resizable": false,
       "toolbar": "IPY_MODEL_00f2072e03ed4a019ef2f7eb4f42b0b2",
       "toolbar_position": "left",
       "toolbar_visible": false
      }
     },
     "7a080c81622d4cac849779108bcf9ad0": {
      "model_module": "@jupyter-widgets/controls",
      "model_module_version": "1.5.0",
      "model_name": "TabModel",
      "state": {
       "_titles": {
        "0": "Global Controls",
        "1": "Protected Area Controls",
        "2": "Saturation Controls",
        "3": "Hue Controls"
       },
       "children": [
        "IPY_MODEL_86363d7a55ad417d87f19d6e7fab2862",
        "IPY_MODEL_eab493cff6ec4a5380be81e46004cacc",
        "IPY_MODEL_3f0ffd4904a640a5ba93f8428aa09248",
        "IPY_MODEL_bf0bd477b80044b7b6907d5b83b280eb"
       ],
       "layout": "IPY_MODEL_e38d5b41644640abb8289dfb531583dd"
      }
     },
     "7a28985c087243b8a10f9bf9e9c608b7": {
      "model_module": "@jupyter-widgets/controls",
      "model_module_version": "1.5.0",
      "model_name": "ButtonModel",
      "state": {
       "description": "Export Image",
       "layout": "IPY_MODEL_0ad754433d734fbf8ac5a4541c2ac357",
       "style": "IPY_MODEL_e5296e74cf534e568c39873dd6b9a86c"
      }
     },
     "7a474be145b645f4a180475d730fb389": {
      "model_module": "@jupyter-widgets/base",
      "model_module_version": "1.2.0",
      "model_name": "LayoutModel",
      "state": {}
     },
     "7a7d9a740dc14a4fb5f800999c882019": {
      "model_module": "@jupyter-widgets/controls",
      "model_module_version": "1.5.0",
      "model_name": "FloatSliderModel",
      "state": {
       "description": "135°",
       "layout": "IPY_MODEL_1fcb88b40af8419c8b71e35c2a3033ca",
       "max": 1,
       "min": -1,
       "step": 0.01,
       "style": "IPY_MODEL_035781405b5f4aa090035c58f4ad2511"
      }
     },
     "7a910016aaf14ac1990d6df5ac1a173a": {
      "model_module": "@jupyter-widgets/controls",
      "model_module_version": "1.5.0",
      "model_name": "ButtonStyleModel",
      "state": {}
     },
     "7ab91f7bd14044d3b4e99edc2f66482d": {
      "model_module": "@jupyter-widgets/base",
      "model_module_version": "1.2.0",
      "model_name": "LayoutModel",
      "state": {}
     },
     "7ad775b9ea5444be8f9fdaad2621676c": {
      "model_module": "@jupyter-widgets/base",
      "model_module_version": "1.2.0",
      "model_name": "LayoutModel",
      "state": {
       "align_items": "stretch",
       "display": "flex",
       "flex_flow": "column",
       "width": "1128px"
      }
     },
     "7b006c326b0d4508a5df4356574b4875": {
      "model_module": "@jupyter-widgets/base",
      "model_module_version": "1.2.0",
      "model_name": "LayoutModel",
      "state": {}
     },
     "7b1b0f7f8750433bab34a45ce2f569ac": {
      "model_module": "@jupyter-widgets/controls",
      "model_module_version": "1.5.0",
      "model_name": "ButtonStyleModel",
      "state": {}
     },
     "7b23fbcaf43341c08a43cce3ac00aa58": {
      "model_module": "@jupyter-widgets/output",
      "model_module_version": "1.0.0",
      "model_name": "OutputModel",
      "state": {
       "layout": "IPY_MODEL_da68febe80ce4cfc8edea54a76d8c511",
       "outputs": [
        {
         "data": {
          "application/vnd.jupyter.widget-view+json": {
           "model_id": "9d67e8b8ee2a46c2b090375d944f1da0",
           "version_major": 2,
           "version_minor": 0
          },
          "text/plain": "Canvas(toolbar=Toolbar(toolitems=[('Home', 'Reset original view', 'home', 'home'), ('Back', 'Back to previous …"
         },
         "metadata": {},
         "output_type": "display_data"
        }
       ]
      }
     },
     "7b43e3fb65c547429a87705b17ce0225": {
      "model_module": "@jupyter-widgets/base",
      "model_module_version": "1.2.0",
      "model_name": "LayoutModel",
      "state": {
       "border": "solid 4px #222",
       "margin": "4px",
       "padding": "0"
      }
     },
     "7b7efd67dc2d4535823d1552c3fc41a1": {
      "model_module": "@jupyter-widgets/controls",
      "model_module_version": "1.5.0",
      "model_name": "HBoxModel",
      "state": {
       "children": [
        "IPY_MODEL_95a0ef1fb51948fbb7f2272707b524d4",
        "IPY_MODEL_6caa723a3bcf497682468feb4d7214ac",
        "IPY_MODEL_711f029d713e47209b30d0afd68e5215"
       ],
       "layout": "IPY_MODEL_df7851facae646f68ef2f26122aa8548"
      }
     },
     "7b8ee44980fc4c31a73c9e03f178fe6d": {
      "model_module": "@jupyter-widgets/base",
      "model_module_version": "1.2.0",
      "model_name": "LayoutModel",
      "state": {}
     },
     "7b8fdb6b11064d8092e8c299df7e558a": {
      "model_module": "@jupyter-widgets/base",
      "model_module_version": "1.2.0",
      "model_name": "LayoutModel",
      "state": {}
     },
     "7b96cd80b12245bd835b0966b416f6c6": {
      "model_module": "@jupyter-widgets/base",
      "model_module_version": "1.2.0",
      "model_name": "LayoutModel",
      "state": {}
     },
     "7c0757b6b66d42c5abfc0d80aecc146a": {
      "model_module": "@jupyter-widgets/controls",
      "model_module_version": "1.5.0",
      "model_name": "FloatSliderModel",
      "state": {
       "description": "45°",
       "layout": "IPY_MODEL_c45b8ee919cd4e3ab6c8d453b4b9a0f1",
       "max": 1,
       "min": -1,
       "step": 0.01,
       "style": "IPY_MODEL_6f12c75bf34043189664ddacd0082d05"
      }
     },
     "7c0b42f742db4c9cab066d115b833bb9": {
      "model_module": "@jupyter-widgets/controls",
      "model_module_version": "1.5.0",
      "model_name": "SliderStyleModel",
      "state": {
       "description_width": ""
      }
     },
     "7c43b30245a847dfaebaa0afabbfd5c9": {
      "model_module": "@jupyter-widgets/controls",
      "model_module_version": "1.5.0",
      "model_name": "ButtonStyleModel",
      "state": {}
     },
     "7cfaa72557094bbbac39e08527dfb870": {
      "model_module": "@jupyter-widgets/controls",
      "model_module_version": "1.5.0",
      "model_name": "SliderStyleModel",
      "state": {
       "description_width": ""
      }
     },
     "7d3ffcef49894ffcb2b820d94bf2615c": {
      "model_module": "@jupyter-widgets/output",
      "model_module_version": "1.0.0",
      "model_name": "OutputModel",
      "state": {
       "layout": "IPY_MODEL_1a4a32ab947a40aa99dc745c78c5629a",
       "outputs": [
        {
         "data": {
          "application/vnd.jupyter.widget-view+json": {
           "model_id": "7a03a699386c463d905e323982e791a4",
           "version_major": 2,
           "version_minor": 0
          },
          "text/plain": "Canvas(toolbar=Toolbar(toolitems=[('Home', 'Reset original view', 'home', 'home'), ('Back', 'Back to previous …"
         },
         "metadata": {},
         "output_type": "display_data"
        }
       ]
      }
     },
     "7d769a3895c948e7ab789a656eef21a5": {
      "model_module": "@jupyter-widgets/base",
      "model_module_version": "1.2.0",
      "model_name": "LayoutModel",
      "state": {}
     },
     "7d855f39b969408f82f4e680d06e0dfd": {
      "model_module": "@jupyter-widgets/controls",
      "model_module_version": "1.5.0",
      "model_name": "ButtonModel",
      "state": {
       "description": "Save Figure",
       "layout": "IPY_MODEL_8680fdbcea38497888ce9e33905f73ce",
       "style": "IPY_MODEL_3448d697005245dcbb75952c0a921592"
      }
     },
     "7dabd01606a84bae92eb5d33f6e3c766": {
      "model_module": "@jupyter-widgets/controls",
      "model_module_version": "1.5.0",
      "model_name": "BoxModel",
      "state": {
       "children": [
        "IPY_MODEL_6df388769a3d4a1590474ff20462806b",
        "IPY_MODEL_70f13980f1394ec095208a77ef9eb063"
       ],
       "layout": "IPY_MODEL_1b1f3edd085b4dbf8d4ddd667dc3a6b1"
      }
     },
     "7dd02b69e5ae43c194ddb503d7ddefa5": {
      "model_module": "@jupyter-widgets/controls",
      "model_module_version": "1.5.0",
      "model_name": "BoxModel",
      "state": {
       "children": [
        "IPY_MODEL_d2bd8981f92842588c47715024da8cd4",
        "IPY_MODEL_035b4de69f5e45cb8e7c86a43b4336d5"
       ],
       "layout": "IPY_MODEL_81bc12c992434761b1fc97897dbaee40"
      }
     },
     "7e0772f66a56499aaa238cce77a62441": {
      "model_module": "@jupyter-widgets/controls",
      "model_module_version": "1.5.0",
      "model_name": "TabModel",
      "state": {
       "_titles": {
        "0": "Global Controls",
        "1": "Compression Controls"
       },
       "children": [
        "IPY_MODEL_6520c504174743c08aebdb1248c8e7ee",
        "IPY_MODEL_8aebd45f2b9c4d538dc9ed8c04ad618b"
       ],
       "layout": "IPY_MODEL_0af54d29f85e4da3a5805f5d06ef2de9"
      }
     },
     "7e844076d17748fe9b83efbef0d30283": {
      "model_module": "@jupyter-widgets/base",
      "model_module_version": "1.2.0",
      "model_name": "LayoutModel",
      "state": {}
     },
     "7e9611f386c54159abd924cbb8b452dd": {
      "model_module": "@jupyter-widgets/controls",
      "model_module_version": "1.5.0",
      "model_name": "ButtonModel",
      "state": {
       "description": "Save Figure",
       "layout": "IPY_MODEL_ed84181bf2454d938de838c844f262ff",
       "style": "IPY_MODEL_d901eab74dc0488581ef60e953f3740d"
      }
     },
     "7e97b60f25264d34bb9041239c1788cc": {
      "model_module": "@jupyter-widgets/base",
      "model_module_version": "1.2.0",
      "model_name": "LayoutModel",
      "state": {}
     },
     "7ed2e2abbe2f44fd95646ac75ba696c4": {
      "model_module": "@jupyter-widgets/controls",
      "model_module_version": "1.5.0",
      "model_name": "TabModel",
      "state": {
       "_titles": {
        "0": "Global Controls",
        "1": "Protected Area Controls",
        "2": "Saturation Controls",
        "3": "Hue Controls"
       },
       "children": [
        "IPY_MODEL_20d1ef864ad94622a3d155121e0b4767",
        "IPY_MODEL_13ad3c44ed1f491c9d6f1537c80e40e3",
        "IPY_MODEL_c2a14b4bf2bf46dd8ef1af66f0b1ce3c",
        "IPY_MODEL_01ae27d1466340bf83a1de08fcda26f7"
       ],
       "layout": "IPY_MODEL_68c10a1eed6943faa400cc9d2b87710c"
      }
     },
     "7f1a827e947e4e9db7ac250723f133c9": {
      "model_module": "@jupyter-widgets/base",
      "model_module_version": "1.2.0",
      "model_name": "LayoutModel",
      "state": {
       "align_items": "stretch",
       "display": "flex",
       "flex_flow": "column",
       "width": "1128px"
      }
     },
     "7f3a81d9f1b34eec8946af4dfbd3fa7d": {
      "model_module": "@jupyter-widgets/controls",
      "model_module_version": "1.5.0",
      "model_name": "ButtonModel",
      "state": {
       "description": "Export Image",
       "layout": "IPY_MODEL_528951ee859547c29fafab876ea5c3d8",
       "style": "IPY_MODEL_fdf352fc2b61434888dd2d2147d0637d"
      }
     },
     "7f8c569911d64b3cae327cd733468206": {
      "model_module": "@jupyter-widgets/controls",
      "model_module_version": "1.5.0",
      "model_name": "BoxModel",
      "state": {
       "children": [
        "IPY_MODEL_82eeb94962b54682956e1e03f2a9ac58",
        "IPY_MODEL_7ed2e2abbe2f44fd95646ac75ba696c4"
       ],
       "layout": "IPY_MODEL_592096fec6ab4a58b3d06f3b8da5ba0a"
      }
     },
     "809e6b1a63ed4e6a8d3d3faa9be66b26": {
      "model_module": "@jupyter-widgets/base",
      "model_module_version": "1.2.0",
      "model_name": "LayoutModel",
      "state": {}
     },
     "80e517e50e834b81a8dc4480cd4091b7": {
      "model_module": "jupyter-matplotlib",
      "model_module_version": "^0.7.2",
      "model_name": "ToolbarModel",
      "state": {
       "layout": "IPY_MODEL_21eaf20bba1c43dd8f023e369a5e97ea",
       "toolitems": [
        [
         "Home",
         "Reset original view",
         "home",
         "home"
        ],
        [
         "Back",
         "Back to previous view",
         "arrow-left",
         "back"
        ],
        [
         "Forward",
         "Forward to next view",
         "arrow-right",
         "forward"
        ],
        [
         "Pan",
         "Pan axes with left mouse, zoom with right",
         "arrows",
         "pan"
        ],
        [
         "Zoom",
         "Zoom to rectangle",
         "square-o",
         "zoom"
        ],
        [
         "Download",
         "Download plot",
         "floppy-o",
         "save_figure"
        ]
       ]
      }
     },
     "80ff7745c99046bdb805110266f8a2fb": {
      "model_module": "jupyter-matplotlib",
      "model_module_version": "^0.7.2",
      "model_name": "MPLCanvasModel",
      "state": {
       "header_visible": false,
       "layout": "IPY_MODEL_f022c3b17d8a4118bc06eae1eb5da6ad",
       "resizable": false,
       "toolbar": "IPY_MODEL_4e2eb1161d4a437ca27e81c708d15a3c",
       "toolbar_position": "left",
       "toolbar_visible": false
      }
     },
     "811849a3a6ca43a38300f0c8de0b39fc": {
      "model_module": "@jupyter-widgets/base",
      "model_module_version": "1.2.0",
      "model_name": "LayoutModel",
      "state": {
       "border": "solid 4px #222",
       "margin": "4px",
       "padding": "0"
      }
     },
     "8121d5f44dde48cc965cf94d44946b06": {
      "model_module": "@jupyter-widgets/controls",
      "model_module_version": "1.5.0",
      "model_name": "FloatSliderModel",
      "state": {
       "description": "0°",
       "layout": "IPY_MODEL_0c48ed8013e74b3ab22cd06d5b988954",
       "max": 1,
       "min": -1,
       "step": 0.01,
       "style": "IPY_MODEL_159fab35dcdf4c5fb2a0c474c4c92988"
      }
     },
     "812bc0f20c5a47cdbdd310bae28df61e": {
      "model_module": "@jupyter-widgets/base",
      "model_module_version": "1.2.0",
      "model_name": "LayoutModel",
      "state": {}
     },
     "8142e34d92df4794957313045c078218": {
      "model_module": "@jupyter-widgets/controls",
      "model_module_version": "1.5.0",
      "model_name": "FloatSliderModel",
      "state": {
       "description": "Protected Area Threshold",
       "layout": "IPY_MODEL_0af4f837c6444874aa5d3420a361118d",
       "max": 1,
       "step": 0.01,
       "style": "IPY_MODEL_944098944840428fb577cfebe963204b",
       "value": 0.7
      }
     },
     "815e65ea18934911a318e49454b6bedf": {
      "model_module": "@jupyter-widgets/output",
      "model_module_version": "1.0.0",
      "model_name": "OutputModel",
      "state": {
       "layout": "IPY_MODEL_daacaadb23a54521863695a751546597",
       "outputs": [
        {
         "data": {
          "application/vnd.jupyter.widget-view+json": {
           "model_id": "5f60afbf8ca1482abc5cf4c883efd311",
           "version_major": 2,
           "version_minor": 0
          },
          "text/plain": "Canvas(toolbar=Toolbar(toolitems=[('Home', 'Reset original view', 'home', 'home'), ('Back', 'Back to previous …"
         },
         "metadata": {},
         "output_type": "display_data"
        }
       ]
      }
     },
     "81ba264d0a434e3abd213d6337540c4f": {
      "model_module": "@jupyter-widgets/controls",
      "model_module_version": "1.5.0",
      "model_name": "FloatSliderModel",
      "state": {
       "description": "Protected Area Threshold",
       "layout": "IPY_MODEL_229f06897f5e45f6ab4d5604d12ff8dc",
       "max": 1,
       "step": 0.01,
       "style": "IPY_MODEL_c10979c1a6e44efd8bb19d3fcafccfb6",
       "value": 0.7
      }
     },
     "81bc12c992434761b1fc97897dbaee40": {
      "model_module": "@jupyter-widgets/base",
      "model_module_version": "1.2.0",
      "model_name": "LayoutModel",
      "state": {
       "align_items": "stretch",
       "display": "flex",
       "flex_flow": "column",
       "width": "1128px"
      }
     },
     "81d851dc19d9448188388afd4e5041c3": {
      "model_module": "@jupyter-widgets/base",
      "model_module_version": "1.2.0",
      "model_name": "LayoutModel",
      "state": {}
     },
     "81fd93ee783f4d17a07980a1ea49c4a0": {
      "model_module": "@jupyter-widgets/controls",
      "model_module_version": "1.5.0",
      "model_name": "HBoxModel",
      "state": {
       "children": [
        "IPY_MODEL_2135d9b2f9864db696a59b87e68c4899",
        "IPY_MODEL_77802ea56e01460ca84dbe678ee13224"
       ],
       "layout": "IPY_MODEL_f29a9c1d7b194936af39357681c1a434"
      }
     },
     "82078d259337420f914e77d5e586b50a": {
      "model_module": "@jupyter-widgets/base",
      "model_module_version": "1.2.0",
      "model_name": "LayoutModel",
      "state": {}
     },
     "821cc9731539496487e5a175f5e1cff1": {
      "model_module": "@jupyter-widgets/base",
      "model_module_version": "1.2.0",
      "model_name": "LayoutModel",
      "state": {}
     },
     "826c48cf4698431e9c5b491c9917096c": {
      "model_module": "@jupyter-widgets/base",
      "model_module_version": "1.2.0",
      "model_name": "LayoutModel",
      "state": {}
     },
     "82e4c7a408894e7c8cf4246da60ff925": {
      "model_module": "@jupyter-widgets/controls",
      "model_module_version": "1.5.0",
      "model_name": "SliderStyleModel",
      "state": {
       "description_width": ""
      }
     },
     "82e832be7279475cb3db0f20bef0a593": {
      "model_module": "@jupyter-widgets/controls",
      "model_module_version": "1.5.0",
      "model_name": "ButtonModel",
      "state": {
       "description": "Export Image",
       "layout": "IPY_MODEL_6fd490150500499e878b4de133962083",
       "style": "IPY_MODEL_adf8db1f1b614727994ebbf948c22dd0"
      }
     },
     "82eeb94962b54682956e1e03f2a9ac58": {
      "model_module": "@jupyter-widgets/output",
      "model_module_version": "1.0.0",
      "model_name": "OutputModel",
      "state": {
       "layout": "IPY_MODEL_edc682a577ba4cde94582df4303692d5",
       "outputs": [
        {
         "data": {
          "application/vnd.jupyter.widget-view+json": {
           "model_id": "a7991cc3fee447039a7e36520d643f69",
           "version_major": 2,
           "version_minor": 0
          },
          "text/plain": "Canvas(toolbar=Toolbar(toolitems=[('Home', 'Reset original view', 'home', 'home'), ('Back', 'Back to previous …"
         },
         "metadata": {},
         "output_type": "display_data"
        }
       ]
      }
     },
     "82ef4d7718ca49688c3c7996a74c5471": {
      "model_module": "@jupyter-widgets/base",
      "model_module_version": "1.2.0",
      "model_name": "LayoutModel",
      "state": {}
     },
     "831257448404498e82f746af02bf7acb": {
      "model_module": "@jupyter-widgets/controls",
      "model_module_version": "1.5.0",
      "model_name": "HBoxModel",
      "state": {
       "children": [
        "IPY_MODEL_3da96a8e7147427abf058ff2968408f7",
        "IPY_MODEL_24feb0bd58ea4cdb816a591377ea84c9",
        "IPY_MODEL_005e72c343d544d3b500024844998896"
       ],
       "layout": "IPY_MODEL_606f520965744c99988e3ded5f5bcfb2"
      }
     },
     "832be7c1b4ed474eb69f6d4db3d6a218": {
      "model_module": "jupyter-matplotlib",
      "model_module_version": "^0.7.2",
      "model_name": "ToolbarModel",
      "state": {
       "layout": "IPY_MODEL_8ba4f0f78c7d46f093178961d99a87f1",
       "toolitems": [
        [
         "Home",
         "Reset original view",
         "home",
         "home"
        ],
        [
         "Back",
         "Back to previous view",
         "arrow-left",
         "back"
        ],
        [
         "Forward",
         "Forward to next view",
         "arrow-right",
         "forward"
        ],
        [
         "Pan",
         "Pan axes with left mouse, zoom with right",
         "arrows",
         "pan"
        ],
        [
         "Zoom",
         "Zoom to rectangle",
         "square-o",
         "zoom"
        ],
        [
         "Download",
         "Download plot",
         "floppy-o",
         "save_figure"
        ]
       ]
      }
     },
     "833aee6a2f68452fa3cbed498a2fd27d": {
      "model_module": "jupyter-matplotlib",
      "model_module_version": "^0.7.2",
      "model_name": "ToolbarModel",
      "state": {
       "layout": "IPY_MODEL_bd4f4cb42b3a484bbf15d8c37a197ee7",
       "toolitems": [
        [
         "Home",
         "Reset original view",
         "home",
         "home"
        ],
        [
         "Back",
         "Back to previous view",
         "arrow-left",
         "back"
        ],
        [
         "Forward",
         "Forward to next view",
         "arrow-right",
         "forward"
        ],
        [
         "Pan",
         "Pan axes with left mouse, zoom with right",
         "arrows",
         "pan"
        ],
        [
         "Zoom",
         "Zoom to rectangle",
         "square-o",
         "zoom"
        ],
        [
         "Download",
         "Download plot",
         "floppy-o",
         "save_figure"
        ]
       ]
      }
     },
     "8362cd5c7a394d0b8b3d0537a4acb36e": {
      "model_module": "@jupyter-widgets/controls",
      "model_module_version": "1.5.0",
      "model_name": "HBoxModel",
      "state": {
       "children": [
        "IPY_MODEL_06118f0364944c62967c2623c3a19f32",
        "IPY_MODEL_63d768d685c945ada87c310c0b325cc3",
        "IPY_MODEL_875b3d3e59d44d9a95dc29e318772338",
        "IPY_MODEL_968d8495a0844f9dba23662f492ae91d",
        "IPY_MODEL_c5a9b8766c064c41af92a4700fe68253"
       ],
       "layout": "IPY_MODEL_cd77ab9c5539496a81d2f7384c4c095b"
      }
     },
     "83bc3e8514a243aea007af2d8ed24173": {
      "model_module": "@jupyter-widgets/base",
      "model_module_version": "1.2.0",
      "model_name": "LayoutModel",
      "state": {}
     },
     "83c811ea0240446b9b7f61f95afdb059": {
      "model_module": "@jupyter-widgets/base",
      "model_module_version": "1.2.0",
      "model_name": "LayoutModel",
      "state": {
       "align_items": "stretch",
       "display": "flex",
       "flex_flow": "column",
       "width": "1128px"
      }
     },
     "83f85aa518c647c89f364dde551c2bf1": {
      "model_module": "@jupyter-widgets/controls",
      "model_module_version": "1.5.0",
      "model_name": "CheckboxModel",
      "state": {
       "description": "Disable Medicina",
       "disabled": false,
       "layout": "IPY_MODEL_6eb43494f35046d39a7ce5a36799d436",
       "style": "IPY_MODEL_cd34d55d0931444ba8d915cac35c4282",
       "value": false
      }
     },
     "83ffef6a31ba4d51892a3de2f5de648e": {
      "model_module": "@jupyter-widgets/controls",
      "model_module_version": "1.5.0",
      "model_name": "SliderStyleModel",
      "state": {
       "description_width": ""
      }
     },
     "8412a3bc52114850b86d02ce6c04fe22": {
      "model_module": "@jupyter-widgets/controls",
      "model_module_version": "1.5.0",
      "model_name": "FloatSliderModel",
      "state": {
       "description": "Compression Threshold",
       "layout": "IPY_MODEL_2a3317f91878425cb3f9885c3b90f976",
       "max": 1,
       "step": 0.01,
       "style": "IPY_MODEL_c27820b78979454094f3ee77c3723762",
       "value": 0.8
      }
     },
     "846efcc70af547bda7e79e8c93111c21": {
      "model_module": "@jupyter-widgets/base",
      "model_module_version": "1.2.0",
      "model_name": "LayoutModel",
      "state": {}
     },
     "847b481c6cac4e63a04af66bc3213aa1": {
      "model_module": "@jupyter-widgets/controls",
      "model_module_version": "1.5.0",
      "model_name": "FloatSliderModel",
      "state": {
       "description": "90°",
       "layout": "IPY_MODEL_21aec09a4607464389a3d71fd7da309b",
       "max": 1,
       "min": -1,
       "step": 0.01,
       "style": "IPY_MODEL_eefaacb0b0ed4fd78a5eb0c88552d238"
      }
     },
     "849c3899d7a349968f00112871d0404a": {
      "model_module": "@jupyter-widgets/controls",
      "model_module_version": "1.5.0",
      "model_name": "FloatSliderModel",
      "state": {
       "description": "90°",
       "layout": "IPY_MODEL_ed9b2ec539e24ab0a3a51cab82b4481e",
       "max": 1,
       "min": -1,
       "step": 0.01,
       "style": "IPY_MODEL_dc1e85b937a84c948e32e976d7e705d1"
      }
     },
     "84b3f41dc9e04ac3b8e67c1dc269aa8b": {
      "model_module": "@jupyter-widgets/base",
      "model_module_version": "1.2.0",
      "model_name": "LayoutModel",
      "state": {}
     },
     "84e067b462de4d7ca37c7496d0d672f3": {
      "model_module": "@jupyter-widgets/base",
      "model_module_version": "1.2.0",
      "model_name": "LayoutModel",
      "state": {}
     },
     "856b1e6f053944968e6fae14060a208f": {
      "model_module": "@jupyter-widgets/base",
      "model_module_version": "1.2.0",
      "model_name": "LayoutModel",
      "state": {}
     },
     "858a3467758e4cff8c3ad9b09f723624": {
      "model_module": "@jupyter-widgets/controls",
      "model_module_version": "1.5.0",
      "model_name": "ButtonModel",
      "state": {
       "description": "Reset Exposure",
       "layout": "IPY_MODEL_35abbc08d266433b8927f2a46ccf683a",
       "style": "IPY_MODEL_009d705293944a00b6a262a8e65b7ef0"
      }
     },
     "85b3035de43f428383adb5c5ecfb008a": {
      "model_module": "@jupyter-widgets/base",
      "model_module_version": "1.2.0",
      "model_name": "LayoutModel",
      "state": {}
     },
     "85ec0e597d9949a3ae3353d27e00bcaf": {
      "model_module": "@jupyter-widgets/controls",
      "model_module_version": "1.5.0",
      "model_name": "ButtonModel",
      "state": {
       "description": "Reset Saturation Controls",
       "layout": "IPY_MODEL_086b99a7d36a4788b2fb6b5d0a4e5c7c",
       "style": "IPY_MODEL_9bd1f053a1d641b5be652d6fa6d460f3"
      }
     },
     "861a1246ae9044ab836c1a3b29a5f3a7": {
      "model_module": "@jupyter-widgets/base",
      "model_module_version": "1.2.0",
      "model_name": "LayoutModel",
      "state": {}
     },
     "86363d7a55ad417d87f19d6e7fab2862": {
      "model_module": "@jupyter-widgets/controls",
      "model_module_version": "1.5.0",
      "model_name": "HBoxModel",
      "state": {
       "children": [
        "IPY_MODEL_6e0446df6b31417db0db35621d6dbbce",
        "IPY_MODEL_ff16c9b74cdf4e36b8ccaec5f440bbd0",
        "IPY_MODEL_ab29bea364a44b1287e4d754fcc49887",
        "IPY_MODEL_41805344634a48249dde1123d892c938",
        "IPY_MODEL_f679b5dbdd6a45788f103ff08efdcdcc"
       ],
       "layout": "IPY_MODEL_465fb1c4206d4f3db24ba4a0290b11ed"
      }
     },
     "8639ee658d7c4c1da25ff89f9361c39a": {
      "model_module": "@jupyter-widgets/controls",
      "model_module_version": "1.5.0",
      "model_name": "SliderStyleModel",
      "state": {
       "description_width": ""
      }
     },
     "864bc32f12a3457baab81444db6d08e6": {
      "model_module": "@jupyter-widgets/controls",
      "model_module_version": "1.5.0",
      "model_name": "VBoxModel",
      "state": {
       "children": [
        "IPY_MODEL_6a9bb4d2f73d40b28484ad61f539c78c",
        "IPY_MODEL_593fc7f143b547619552a745b27e04cc",
        "IPY_MODEL_77d66ebedbd347e881fa75e4d19fd58b"
       ],
       "layout": "IPY_MODEL_53b0bac11c784e8ba216441f5d700f3f"
      }
     },
     "8680fdbcea38497888ce9e33905f73ce": {
      "model_module": "@jupyter-widgets/base",
      "model_module_version": "1.2.0",
      "model_name": "LayoutModel",
      "state": {}
     },
     "86aaf96db67b4bc0b81f2747f075f270": {
      "model_module": "@jupyter-widgets/base",
      "model_module_version": "1.2.0",
      "model_name": "LayoutModel",
      "state": {}
     },
     "86dffe22188d40cd8230e8f752515b10": {
      "model_module": "@jupyter-widgets/controls",
      "model_module_version": "1.5.0",
      "model_name": "FloatSliderModel",
      "state": {
       "description": "Compression Threshold",
       "layout": "IPY_MODEL_9528391a74864b26bc15f0d6af4bf886",
       "max": 1,
       "step": 0.01,
       "style": "IPY_MODEL_de727216d05d4a6ea50438aa67f0a258",
       "value": 0.8
      }
     },
     "870aaa67d4854e37916c7404ef8216eb": {
      "model_module": "@jupyter-widgets/controls",
      "model_module_version": "1.5.0",
      "model_name": "SliderStyleModel",
      "state": {
       "description_width": ""
      }
     },
     "871187495773497296f487ded6458d56": {
      "model_module": "@jupyter-widgets/controls",
      "model_module_version": "1.5.0",
      "model_name": "FloatSliderModel",
      "state": {
       "description": "180°",
       "layout": "IPY_MODEL_9a9a8fa311944afaa7adea0f9e886859",
       "max": 1,
       "min": -1,
       "step": 0.01,
       "style": "IPY_MODEL_5fc977f0b5f740cba7dcfe5651eb4adb"
      }
     },
     "8720884d83ff445695f5d9d780bf9d34": {
      "model_module": "@jupyter-widgets/controls",
      "model_module_version": "1.5.0",
      "model_name": "SliderStyleModel",
      "state": {
       "description_width": ""
      }
     },
     "8735a70732f94ca5aef519a114193d89": {
      "model_module": "@jupyter-widgets/controls",
      "model_module_version": "1.5.0",
      "model_name": "ButtonStyleModel",
      "state": {}
     },
     "875b3d3e59d44d9a95dc29e318772338": {
      "model_module": "@jupyter-widgets/controls",
      "model_module_version": "1.5.0",
      "model_name": "ButtonModel",
      "state": {
       "description": "Save Figure",
       "layout": "IPY_MODEL_996c5956fc5645db88a2f99a96834e72",
       "style": "IPY_MODEL_5702685b32c4492fb5cd518321667432"
      }
     },
     "87731e6937ba47bea53843563c288a13": {
      "model_module": "@jupyter-widgets/base",
      "model_module_version": "1.2.0",
      "model_name": "LayoutModel",
      "state": {
       "border": "solid 4px #222",
       "margin": "4px",
       "padding": "0"
      }
     },
     "877f93d74ef9400fbb6937555bb3de03": {
      "model_module": "@jupyter-widgets/controls",
      "model_module_version": "1.5.0",
      "model_name": "ButtonModel",
      "state": {
       "description": "Reset Compression Controls",
       "layout": "IPY_MODEL_c4232725c273465ab6d6e384ff1dfcdc",
       "style": "IPY_MODEL_9b75ad35ea10429bb95b993443c5eda2"
      }
     },
     "8788b1fb941a48089a851ebb8f9550cb": {
      "model_module": "@jupyter-widgets/base",
      "model_module_version": "1.2.0",
      "model_name": "LayoutModel",
      "state": {}
     },
     "87e3f25b337f4ad49845b16b1cda29be": {
      "model_module": "@jupyter-widgets/base",
      "model_module_version": "1.2.0",
      "model_name": "LayoutModel",
      "state": {}
     },
     "88208853d8a241fc93c2b135ff8a9f93": {
      "model_module": "@jupyter-widgets/controls",
      "model_module_version": "1.5.0",
      "model_name": "HBoxModel",
      "state": {
       "children": [
        "IPY_MODEL_a76dd60888b24125979724d38d6db06b",
        "IPY_MODEL_66c26f527e864f188989c58daabd75fc",
        "IPY_MODEL_ca9982acc5954561b2ddcb879996f282",
        "IPY_MODEL_f2bfad109b564ee083b5879aeb70362b",
        "IPY_MODEL_72c91490fa4a4dde9d39c71a4a54ff10"
       ],
       "layout": "IPY_MODEL_ed46f79018254245ae5067bbbf850430"
      }
     },
     "8834fb481bce41e7bccf410f11d218e2": {
      "model_module": "@jupyter-widgets/base",
      "model_module_version": "1.2.0",
      "model_name": "LayoutModel",
      "state": {}
     },
     "883a889059284ab6b8ae0b4ad4ac87bf": {
      "model_module": "@jupyter-widgets/controls",
      "model_module_version": "1.5.0",
      "model_name": "ButtonStyleModel",
      "state": {}
     },
     "885b4f75fe6d4556b26601792b49a42a": {
      "model_module": "@jupyter-widgets/controls",
      "model_module_version": "1.5.0",
      "model_name": "VBoxModel",
      "state": {
       "children": [
        "IPY_MODEL_da6ddfa5b1a243a7a0d3319700ce8d0c",
        "IPY_MODEL_c92f8397e117408a9aee057b4568a5c0",
        "IPY_MODEL_31ba097e02c340ac91c4f85cf8e1138d"
       ],
       "layout": "IPY_MODEL_08aed874b2fa42f3a2c8e190e3e98ee9"
      }
     },
     "887d332720384277aab6871ad6432ad7": {
      "model_module": "@jupyter-widgets/controls",
      "model_module_version": "1.5.0",
      "model_name": "ButtonStyleModel",
      "state": {}
     },
     "88b69f8424844cebb15c58e7b2f3cf02": {
      "model_module": "@jupyter-widgets/base",
      "model_module_version": "1.2.0",
      "model_name": "LayoutModel",
      "state": {}
     },
     "8900733d0ba24c26899c259eafdc74f0": {
      "model_module": "@jupyter-widgets/controls",
      "model_module_version": "1.5.0",
      "model_name": "SliderStyleModel",
      "state": {
       "description_width": ""
      }
     },
     "8914ba779c13498897303973cc258e8e": {
      "model_module": "@jupyter-widgets/controls",
      "model_module_version": "1.5.0",
      "model_name": "HBoxModel",
      "state": {
       "children": [
        "IPY_MODEL_dfd6d9df301e4985860ff13aa8a67900",
        "IPY_MODEL_1e6d7c4915dd43d1a6f7c2fbcc2e41ac",
        "IPY_MODEL_7d855f39b969408f82f4e680d06e0dfd",
        "IPY_MODEL_eb9512ca11804a41b4746f0827005267",
        "IPY_MODEL_d080c8d0a6484143a3f0b6622a7fa2b9"
       ],
       "layout": "IPY_MODEL_9cbd5c8b9c9b49b58feae04d53ea938d"
      }
     },
     "894342dac4e44d7aad10076ce889e1bd": {
      "model_module": "@jupyter-widgets/controls",
      "model_module_version": "1.5.0",
      "model_name": "VBoxModel",
      "state": {
       "children": [
        "IPY_MODEL_2279078de922415492625bc2b59aa636",
        "IPY_MODEL_bfe347a0f6e9412aa629d9b383e274fd"
       ],
       "layout": "IPY_MODEL_8f130d91546e4b828c7d31383029b305"
      }
     },
     "89471cf4c7aa4656b813b0b6c0970bb6": {
      "model_module": "@jupyter-widgets/base",
      "model_module_version": "1.2.0",
      "model_name": "LayoutModel",
      "state": {}
     },
     "899d45cdd34c4901b00c82f7d07cfb08": {
      "model_module": "@jupyter-widgets/base",
      "model_module_version": "1.2.0",
      "model_name": "LayoutModel",
      "state": {}
     },
     "89ba262d16a048439d17c9819474f416": {
      "model_module": "@jupyter-widgets/base",
      "model_module_version": "1.2.0",
      "model_name": "LayoutModel",
      "state": {}
     },
     "89cf54b3e97940cf8aaf3f2b2bd838d0": {
      "model_module": "@jupyter-widgets/controls",
      "model_module_version": "1.5.0",
      "model_name": "SliderStyleModel",
      "state": {
       "description_width": ""
      }
     },
     "89dd6e6fe5d4435aaa4b19ce06437c54": {
      "model_module": "@jupyter-widgets/base",
      "model_module_version": "1.2.0",
      "model_name": "LayoutModel",
      "state": {
       "border": "solid 4px #222",
       "margin": "4px",
       "padding": "0"
      }
     },
     "89e2b79cbba34c4fad235e138ce2d999": {
      "model_module": "@jupyter-widgets/controls",
      "model_module_version": "1.5.0",
      "model_name": "ButtonModel",
      "state": {
       "description": "Save Figure",
       "layout": "IPY_MODEL_1dc70813453c4c7880b16d873e999bdd",
       "style": "IPY_MODEL_d700a6b7be0a4c39ae0acf54b02c4c82"
      }
     },
     "8a251ef8ba964f3593733e228d09d5de": {
      "model_module": "@jupyter-widgets/controls",
      "model_module_version": "1.5.0",
      "model_name": "TabModel",
      "state": {
       "_titles": {
        "0": "Global Controls"
       },
       "children": [
        "IPY_MODEL_88208853d8a241fc93c2b135ff8a9f93"
       ],
       "layout": "IPY_MODEL_3291dce5dab946558b47577ceaf528be"
      }
     },
     "8a8da57bbd6f482d8f3181bf932238e8": {
      "model_module": "@jupyter-widgets/controls",
      "model_module_version": "1.5.0",
      "model_name": "HBoxModel",
      "state": {
       "children": [
        "IPY_MODEL_0525e7d069df4f5da65af4f332c09a72",
        "IPY_MODEL_2e5cd21649c6465b94251858f38d1f89",
        "IPY_MODEL_332be527c30e4e6e8a956290e13f8045",
        "IPY_MODEL_894342dac4e44d7aad10076ce889e1bd"
       ],
       "layout": "IPY_MODEL_4ad7f3b3ab5a4229b9aaa47b8d4e76e3"
      }
     },
     "8aebd45f2b9c4d538dc9ed8c04ad618b": {
      "model_module": "@jupyter-widgets/controls",
      "model_module_version": "1.5.0",
      "model_name": "HBoxModel",
      "state": {
       "children": [
        "IPY_MODEL_e4b5b5d65e9c47a8977a971cb9251ed3",
        "IPY_MODEL_c8570a3aceaf42749ab2c51c6fd4b06e",
        "IPY_MODEL_4035362dba5b41f4add3c2b0cc4837c5"
       ],
       "layout": "IPY_MODEL_0002499775e24ca78cbe316fb726a4f1"
      }
     },
     "8b0f5979c0574471a5b237e4f01b0f6b": {
      "model_module": "@jupyter-widgets/controls",
      "model_module_version": "1.5.0",
      "model_name": "DescriptionStyleModel",
      "state": {
       "description_width": ""
      }
     },
     "8b559328a2db4dc4b8d0da497efb53c3": {
      "model_module": "@jupyter-widgets/output",
      "model_module_version": "1.0.0",
      "model_name": "OutputModel",
      "state": {
       "layout": "IPY_MODEL_105c77d40ee14b0db6f245ed57c9d736",
       "outputs": [
        {
         "data": {
          "application/vnd.jupyter.widget-view+json": {
           "model_id": "d921402dceba4e4e88eedc12206fb051",
           "version_major": 2,
           "version_minor": 0
          },
          "text/plain": "Canvas(toolbar=Toolbar(toolitems=[('Home', 'Reset original view', 'home', 'home'), ('Back', 'Back to previous …"
         },
         "metadata": {},
         "output_type": "display_data"
        }
       ]
      }
     },
     "8ba4f0f78c7d46f093178961d99a87f1": {
      "model_module": "@jupyter-widgets/base",
      "model_module_version": "1.2.0",
      "model_name": "LayoutModel",
      "state": {}
     },
     "8bbe61f951294e458834018841be0d0a": {
      "model_module": "@jupyter-widgets/controls",
      "model_module_version": "1.5.0",
      "model_name": "ButtonModel",
      "state": {
       "description": "Export Image",
       "layout": "IPY_MODEL_96df8ec89daf43b88df24913c3d99ecf",
       "style": "IPY_MODEL_64531b578f064113a3b4540bb706f254"
      }
     },
     "8bf8f756348e4d47bebad82de1c20f1b": {
      "model_module": "@jupyter-widgets/controls",
      "model_module_version": "1.5.0",
      "model_name": "ButtonStyleModel",
      "state": {}
     },
     "8bf90fbc1ba04427a30ed2e945ac306c": {
      "model_module": "@jupyter-widgets/base",
      "model_module_version": "1.2.0",
      "model_name": "LayoutModel",
      "state": {}
     },
     "8c04bf3c03b6471190fb662bb47b4270": {
      "model_module": "@jupyter-widgets/controls",
      "model_module_version": "1.5.0",
      "model_name": "SliderStyleModel",
      "state": {
       "description_width": ""
      }
     },
     "8c7e7a03518f435ab9f19bcb77a8d1e7": {
      "model_module": "@jupyter-widgets/controls",
      "model_module_version": "1.5.0",
      "model_name": "FloatSliderModel",
      "state": {
       "description": "Exposure",
       "layout": "IPY_MODEL_40088860a078489cab67c2b3b7a5c1e7",
       "max": 8,
       "min": -8,
       "step": 0.1,
       "style": "IPY_MODEL_396e4fcc36a04627a38a64d820906336"
      }
     },
     "8cb5f5ab670a4112bfaf4b48fdbf3d74": {
      "model_module": "@jupyter-widgets/controls",
      "model_module_version": "1.5.0",
      "model_name": "ButtonModel",
      "state": {
       "description": "Reset Saturation Controls",
       "layout": "IPY_MODEL_4b9c289e11d842b18d7040fd40012a2c",
       "style": "IPY_MODEL_44406122f0084ac1b9e15dd51cc9dd9e"
      }
     },
     "8cd4a653dcb6480985526c5b3f3e239e": {
      "model_module": "@jupyter-widgets/base",
      "model_module_version": "1.2.0",
      "model_name": "LayoutModel",
      "state": {}
     },
     "8ceb3e0417054983ab2e0c19ed635a98": {
      "model_module": "jupyter-matplotlib",
      "model_module_version": "^0.7.2",
      "model_name": "ToolbarModel",
      "state": {
       "layout": "IPY_MODEL_164dfb7ae4f6414c974108ca26328e94",
       "toolitems": [
        [
         "Home",
         "Reset original view",
         "home",
         "home"
        ],
        [
         "Back",
         "Back to previous view",
         "arrow-left",
         "back"
        ],
        [
         "Forward",
         "Forward to next view",
         "arrow-right",
         "forward"
        ],
        [
         "Pan",
         "Pan axes with left mouse, zoom with right",
         "arrows",
         "pan"
        ],
        [
         "Zoom",
         "Zoom to rectangle",
         "square-o",
         "zoom"
        ],
        [
         "Download",
         "Download plot",
         "floppy-o",
         "save_figure"
        ]
       ]
      }
     },
     "8d042917593544309f2f7b1ee422b28e": {
      "model_module": "@jupyter-widgets/controls",
      "model_module_version": "1.5.0",
      "model_name": "SliderStyleModel",
      "state": {
       "description_width": ""
      }
     },
     "8d12560416cc438eb1b3de34c97711e3": {
      "model_module": "jupyter-matplotlib",
      "model_module_version": "^0.7.2",
      "model_name": "MPLCanvasModel",
      "state": {
       "_figure_label": "Figure 3",
       "_height": 396,
       "_width": 1100,
       "header_visible": false,
       "layout": "IPY_MODEL_328f826638d6422684de250194749c58",
       "resizable": false,
       "toolbar": "IPY_MODEL_4689e8075ecf4123a4fc928c08525dc6",
       "toolbar_position": "left",
       "toolbar_visible": false
      }
     },
     "8d28393b2fa04cabadbcb1d58a29026e": {
      "model_module": "@jupyter-widgets/base",
      "model_module_version": "1.2.0",
      "model_name": "LayoutModel",
      "state": {}
     },
     "8d5bcf43d38c46d29ec1ece41fcac6c3": {
      "model_module": "@jupyter-widgets/base",
      "model_module_version": "1.2.0",
      "model_name": "LayoutModel",
      "state": {}
     },
     "8d5fcee8f40c4e269305d7af86e855f3": {
      "model_module": "@jupyter-widgets/base",
      "model_module_version": "1.2.0",
      "model_name": "LayoutModel",
      "state": {}
     },
     "8d6f87b40e424e60a6c18d11797c4f9b": {
      "model_module": "@jupyter-widgets/controls",
      "model_module_version": "1.5.0",
      "model_name": "HBoxModel",
      "state": {
       "children": [
        "IPY_MODEL_05a997e16a6843a5a15996b9b1597a97",
        "IPY_MODEL_12dd270985f44f79bce64804d731c5a7"
       ],
       "layout": "IPY_MODEL_09f8debc936f421b86fd655323fbbdda"
      }
     },
     "8d7f36a2c4f1417c8383144520184c54": {
      "model_module": "@jupyter-widgets/controls",
      "model_module_version": "1.5.0",
      "model_name": "FloatSliderModel",
      "state": {
       "description": "90°",
       "layout": "IPY_MODEL_b27a35a78f984ceb9f1ccd862cb3e0bc",
       "max": 1,
       "min": -1,
       "step": 0.01,
       "style": "IPY_MODEL_373b2a1a7fa44c2c8e685b314aa422f4"
      }
     },
     "8df1b671bafd4ed6961ee636583bb5d8": {
      "model_module": "@jupyter-widgets/controls",
      "model_module_version": "1.5.0",
      "model_name": "DropdownModel",
      "state": {
       "_options_labels": [
        "tanh",
        "atan",
        "simple"
       ],
       "description": "Compression Function:",
       "index": 0,
       "layout": "IPY_MODEL_72efbf00ba9d479cbedb2db91a56d4fd",
       "style": "IPY_MODEL_41f6346ca5124170bd554c2fb354606f"
      }
     },
     "8e1119b425b74925b7224d2aeb9a0b99": {
      "model_module": "@jupyter-widgets/controls",
      "model_module_version": "1.5.0",
      "model_name": "ButtonModel",
      "state": {
       "description": "Reset Exposure",
       "layout": "IPY_MODEL_14a237aecde641e187aec6aef48db721",
       "style": "IPY_MODEL_5c3e617cada9436381d9c193ae7dc739"
      }
     },
     "8e26487452fa47a0a89c51dda747913e": {
      "model_module": "@jupyter-widgets/base",
      "model_module_version": "1.2.0",
      "model_name": "LayoutModel",
      "state": {}
     },
     "8e35afdf255e41709ad6936dfeb3831d": {
      "model_module": "@jupyter-widgets/controls",
      "model_module_version": "1.5.0",
      "model_name": "SliderStyleModel",
      "state": {
       "description_width": ""
      }
     },
     "8e9db13ed03241f09ae75d24613b104c": {
      "model_module": "@jupyter-widgets/base",
      "model_module_version": "1.2.0",
      "model_name": "LayoutModel",
      "state": {}
     },
     "8f130d91546e4b828c7d31383029b305": {
      "model_module": "@jupyter-widgets/base",
      "model_module_version": "1.2.0",
      "model_name": "LayoutModel",
      "state": {}
     },
     "8f3d5d763474475eafbbd302438bf873": {
      "model_module": "@jupyter-widgets/controls",
      "model_module_version": "1.5.0",
      "model_name": "SliderStyleModel",
      "state": {
       "description_width": ""
      }
     },
     "8f40b11d067d4f4bb5eb8246641aa93f": {
      "model_module": "jupyter-matplotlib",
      "model_module_version": "^0.7.2",
      "model_name": "ToolbarModel",
      "state": {
       "layout": "IPY_MODEL_302b1e0ba6d34cb5ab8b1cadeae1d253",
       "toolitems": [
        [
         "Home",
         "Reset original view",
         "home",
         "home"
        ],
        [
         "Back",
         "Back to previous view",
         "arrow-left",
         "back"
        ],
        [
         "Forward",
         "Forward to next view",
         "arrow-right",
         "forward"
        ],
        [
         "Pan",
         "Pan axes with left mouse, zoom with right",
         "arrows",
         "pan"
        ],
        [
         "Zoom",
         "Zoom to rectangle",
         "square-o",
         "zoom"
        ],
        [
         "Download",
         "Download plot",
         "floppy-o",
         "save_figure"
        ]
       ]
      }
     },
     "8f5a88c853c34ff0b2ee169ecd0ec27d": {
      "model_module": "@jupyter-widgets/output",
      "model_module_version": "1.0.0",
      "model_name": "OutputModel",
      "state": {
       "layout": "IPY_MODEL_123c6c22d78b490e924b0b68c1243743",
       "outputs": [
        {
         "data": {
          "application/vnd.jupyter.widget-view+json": {
           "model_id": "db10643e58314f07a6b27548c7557b5e",
           "version_major": 2,
           "version_minor": 0
          },
          "text/plain": "Canvas(toolbar=Toolbar(toolitems=[('Home', 'Reset original view', 'home', 'home'), ('Back', 'Back to previous …"
         },
         "metadata": {},
         "output_type": "display_data"
        }
       ]
      }
     },
     "8f72625c9e36416badfa263a6ee94e90": {
      "model_module": "jupyter-matplotlib",
      "model_module_version": "^0.7.2",
      "model_name": "MPLCanvasModel",
      "state": {
       "header_visible": false,
       "layout": "IPY_MODEL_ad9b4b124ecf4d80a9de509c058501bd",
       "resizable": false,
       "toolbar": "IPY_MODEL_500045bbba284c7eb8a1da250998c5d6",
       "toolbar_position": "left",
       "toolbar_visible": false
      }
     },
     "8f92d662aba64cbb90b07128e8bd63f3": {
      "model_module": "@jupyter-widgets/controls",
      "model_module_version": "1.5.0",
      "model_name": "ButtonStyleModel",
      "state": {}
     },
     "8f9fb7c610504553ad9b6657e2578913": {
      "model_module": "@jupyter-widgets/base",
      "model_module_version": "1.2.0",
      "model_name": "LayoutModel",
      "state": {}
     },
     "8fd64f68b0d24b27afadedda659bdb49": {
      "model_module": "@jupyter-widgets/base",
      "model_module_version": "1.2.0",
      "model_name": "LayoutModel",
      "state": {}
     },
     "905ddb0c68f9490abbdc053283451333": {
      "model_module": "@jupyter-widgets/controls",
      "model_module_version": "1.5.0",
      "model_name": "ButtonModel",
      "state": {
       "description": "Reset Saturation Controls",
       "layout": "IPY_MODEL_3c3d8243062e46b4a4ef8e0446521ddc",
       "style": "IPY_MODEL_70b0183d7be24364ae9c114800ec4a44"
      }
     },
     "90c5c146fd7a47b19312e625582b36c0": {
      "model_module": "@jupyter-widgets/controls",
      "model_module_version": "1.5.0",
      "model_name": "VBoxModel",
      "state": {
       "children": [
        "IPY_MODEL_4e31d84be7254acd86e50c4e49090407",
        "IPY_MODEL_56728d32e7734b6faea2f7bae379a8fa",
        "IPY_MODEL_191ee6cccd0146aab261e00db8ecb747"
       ],
       "layout": "IPY_MODEL_2861b0f39da0495ab8ca04d1a7dfd72a"
      }
     },
     "90e093caee254792bd04e5cdfc613521": {
      "model_module": "@jupyter-widgets/controls",
      "model_module_version": "1.5.0",
      "model_name": "SliderStyleModel",
      "state": {
       "description_width": ""
      }
     },
     "90f94eb06f554ffd870a19d7094db5cd": {
      "model_module": "@jupyter-widgets/base",
      "model_module_version": "1.2.0",
      "model_name": "LayoutModel",
      "state": {
       "border": "solid 4px #222",
       "margin": "4px",
       "padding": "0"
      }
     },
     "912f8b2bef554a58be930d9cfac63371": {
      "model_module": "@jupyter-widgets/controls",
      "model_module_version": "1.5.0",
      "model_name": "ButtonStyleModel",
      "state": {}
     },
     "91336bf9e6cf4636b51ff983cc43024d": {
      "model_module": "@jupyter-widgets/base",
      "model_module_version": "1.2.0",
      "model_name": "LayoutModel",
      "state": {}
     },
     "9179777aa908410a890014449723b4b7": {
      "model_module": "@jupyter-widgets/controls",
      "model_module_version": "1.5.0",
      "model_name": "SliderStyleModel",
      "state": {
       "description_width": ""
      }
     },
     "91c41fba39244fc1ad38a63920d52833": {
      "model_module": "@jupyter-widgets/controls",
      "model_module_version": "1.5.0",
      "model_name": "SliderStyleModel",
      "state": {
       "description_width": ""
      }
     },
     "92258e8017664e0dac90d1ed03f51ff3": {
      "model_module": "@jupyter-widgets/base",
      "model_module_version": "1.2.0",
      "model_name": "LayoutModel",
      "state": {}
     },
     "927cb9956da84faba0a68f7e8ca7eebe": {
      "model_module": "@jupyter-widgets/base",
      "model_module_version": "1.2.0",
      "model_name": "LayoutModel",
      "state": {}
     },
     "92acd7fbfad749499e83793308214248": {
      "model_module": "@jupyter-widgets/base",
      "model_module_version": "1.2.0",
      "model_name": "LayoutModel",
      "state": {}
     },
     "92d00518df134cd1b3c794a5fe66338a": {
      "model_module": "@jupyter-widgets/base",
      "model_module_version": "1.2.0",
      "model_name": "LayoutModel",
      "state": {}
     },
     "93282bd08d9a47aaa34270bcdfd51a8e": {
      "model_module": "@jupyter-widgets/controls",
      "model_module_version": "1.5.0",
      "model_name": "VBoxModel",
      "state": {
       "children": [
        "IPY_MODEL_2dc844dc530b4d86becc9b12d8bec972",
        "IPY_MODEL_db37c15f305a43bfa5dafaa4b9c1a17c",
        "IPY_MODEL_f6e7318decba4095939e12b43e73f46f"
       ],
       "layout": "IPY_MODEL_427f25bd01d64a74a1f0492bf9b821c3"
      }
     },
     "9348b4af0c504eb4b469a66f159aac78": {
      "model_module": "@jupyter-widgets/base",
      "model_module_version": "1.2.0",
      "model_name": "LayoutModel",
      "state": {}
     },
     "938509951e0b4dfcbbc1400ac57b34da": {
      "model_module": "@jupyter-widgets/base",
      "model_module_version": "1.2.0",
      "model_name": "LayoutModel",
      "state": {}
     },
     "939c0189bb304f538f21ab295b12b275": {
      "model_module": "@jupyter-widgets/controls",
      "model_module_version": "1.5.0",
      "model_name": "VBoxModel",
      "state": {
       "children": [
        "IPY_MODEL_e7bb50514fa54c95823c87ed63d8e9af"
       ],
       "layout": "IPY_MODEL_38277337cedc4206a4afd3ee1780d967"
      }
     },
     "93b40241022645ed9fc4607092b93a2a": {
      "model_module": "jupyter-matplotlib",
      "model_module_version": "^0.7.2",
      "model_name": "MPLCanvasModel",
      "state": {
       "header_visible": false,
       "layout": "IPY_MODEL_cce9614bc6334fc0a07b444d412f6cdf",
       "resizable": false,
       "toolbar": "IPY_MODEL_ed0cb3041b5c4acbbcfdd77e5084b797",
       "toolbar_position": "left",
       "toolbar_visible": false
      }
     },
     "93b412ab2ea14ab8aec0cf95c012ee5d": {
      "model_module": "@jupyter-widgets/controls",
      "model_module_version": "1.5.0",
      "model_name": "SliderStyleModel",
      "state": {
       "description_width": ""
      }
     },
     "941297c9b3e34b59b35a02f44cd2741c": {
      "model_module": "@jupyter-widgets/controls",
      "model_module_version": "1.5.0",
      "model_name": "FloatSliderModel",
      "state": {
       "description": "90°",
       "layout": "IPY_MODEL_2456d24b21e04d13b3c5a074c39c1e10",
       "max": 1,
       "min": -1,
       "step": 0.01,
       "style": "IPY_MODEL_2702aca80db848d9a7d5a9f6f4cbfc33"
      }
     },
     "9418d0d89b4a4de7b1067053d2682f1e": {
      "model_module": "@jupyter-widgets/base",
      "model_module_version": "1.2.0",
      "model_name": "LayoutModel",
      "state": {}
     },
     "94337eaa226a4ac4bfc9d81ac3d1a696": {
      "model_module": "@jupyter-widgets/controls",
      "model_module_version": "1.5.0",
      "model_name": "ButtonModel",
      "state": {
       "description": "Reset Hue Controls",
       "layout": "IPY_MODEL_4d78771d6c1b4e55bb1107312c09bd98",
       "style": "IPY_MODEL_7b1b0f7f8750433bab34a45ce2f569ac"
      }
     },
     "94348b7f65224c85876aa6cac2e0695b": {
      "model_module": "@jupyter-widgets/base",
      "model_module_version": "1.2.0",
      "model_name": "LayoutModel",
      "state": {}
     },
     "944098944840428fb577cfebe963204b": {
      "model_module": "@jupyter-widgets/controls",
      "model_module_version": "1.5.0",
      "model_name": "SliderStyleModel",
      "state": {
       "description_width": ""
      }
     },
     "944db7f422c94b17bbcf3e3c2f3cd3ff": {
      "model_module": "@jupyter-widgets/base",
      "model_module_version": "1.2.0",
      "model_name": "LayoutModel",
      "state": {}
     },
     "948a20e53c3342eca0bb450e94c6b3b0": {
      "model_module": "@jupyter-widgets/controls",
      "model_module_version": "1.5.0",
      "model_name": "DescriptionStyleModel",
      "state": {
       "description_width": ""
      }
     },
     "949359edc95a4e409661fc793f36a8b5": {
      "model_module": "@jupyter-widgets/controls",
      "model_module_version": "1.5.0",
      "model_name": "SliderStyleModel",
      "state": {
       "description_width": ""
      }
     },
     "949ff5a854bf4455888c7ffe3c14c75c": {
      "model_module": "@jupyter-widgets/base",
      "model_module_version": "1.2.0",
      "model_name": "LayoutModel",
      "state": {}
     },
     "94e0e22178ad476dacd827077213368d": {
      "model_module": "@jupyter-widgets/base",
      "model_module_version": "1.2.0",
      "model_name": "LayoutModel",
      "state": {}
     },
     "94ef4481f6fa4497b0227b0b9dcf6bc5": {
      "model_module": "@jupyter-widgets/base",
      "model_module_version": "1.2.0",
      "model_name": "LayoutModel",
      "state": {}
     },
     "950332d7bc6149f0b4001350b2de0f22": {
      "model_module": "@jupyter-widgets/controls",
      "model_module_version": "1.5.0",
      "model_name": "ButtonModel",
      "state": {
       "description": "Reset Compression Controls",
       "layout": "IPY_MODEL_4d9c71c4d394448b80faef4aa6742bea",
       "style": "IPY_MODEL_2f5d5e7dd501420bb92dc78b70956c60"
      }
     },
     "9513c3c5b4104cf698a92618be5bb161": {
      "model_module": "@jupyter-widgets/controls",
      "model_module_version": "1.5.0",
      "model_name": "SliderStyleModel",
      "state": {
       "description_width": ""
      }
     },
     "951543947b5a46f3b27898cf5dca3983": {
      "model_module": "@jupyter-widgets/controls",
      "model_module_version": "1.5.0",
      "model_name": "HBoxModel",
      "state": {
       "children": [
        "IPY_MODEL_aed434a150fe41e3afbf6753ee0f34ad",
        "IPY_MODEL_49c4be80c305440bba824472423667c0",
        "IPY_MODEL_d6dff6b6d35e4048b655b9d0fa808913",
        "IPY_MODEL_7239d13221224c89a4cad96e33931faa",
        "IPY_MODEL_6f367756528b4a04baeb1335041123bc"
       ],
       "layout": "IPY_MODEL_636d70e3ae4d41019125bbc2a4ebccea"
      }
     },
     "951dfcddf0714d45ae5f1ec64bcefc26": {
      "model_module": "@jupyter-widgets/controls",
      "model_module_version": "1.5.0",
      "model_name": "ButtonStyleModel",
      "state": {}
     },
     "9528391a74864b26bc15f0d6af4bf886": {
      "model_module": "@jupyter-widgets/base",
      "model_module_version": "1.2.0",
      "model_name": "LayoutModel",
      "state": {}
     },
     "958c07fda5364e0f81cbbc1d0f04e440": {
      "model_module": "@jupyter-widgets/controls",
      "model_module_version": "1.5.0",
      "model_name": "SliderStyleModel",
      "state": {
       "description_width": ""
      }
     },
     "95a0ef1fb51948fbb7f2272707b524d4": {
      "model_module": "@jupyter-widgets/controls",
      "model_module_version": "1.5.0",
      "model_name": "ButtonModel",
      "state": {
       "description": "Reset Compression Controls",
       "layout": "IPY_MODEL_b4b606213a0c464ea20c951f8c931c31",
       "style": "IPY_MODEL_1a82c7ec145541b3a9769406ec759594"
      }
     },
     "95ba612c45d8458db6d213f10f903476": {
      "model_module": "@jupyter-widgets/base",
      "model_module_version": "1.2.0",
      "model_name": "LayoutModel",
      "state": {}
     },
     "95eefe08f62b4621a2e91e93b1a6a17c": {
      "model_module": "jupyter-matplotlib",
      "model_module_version": "^0.7.2",
      "model_name": "MPLCanvasModel",
      "state": {
       "header_visible": false,
       "layout": "IPY_MODEL_4eefce60ce3846c1ab1f41ceee3d36e0",
       "resizable": false,
       "toolbar": "IPY_MODEL_9995a635388f4a79a998091677437423",
       "toolbar_position": "left",
       "toolbar_visible": false
      }
     },
     "968d8495a0844f9dba23662f492ae91d": {
      "model_module": "@jupyter-widgets/controls",
      "model_module_version": "1.5.0",
      "model_name": "ButtonModel",
      "state": {
       "description": "Reset Exposure",
       "layout": "IPY_MODEL_2f4553a901114ebb8bf340142a14958d",
       "style": "IPY_MODEL_64d971d6a9db4899aec1a7d28e29de52"
      }
     },
     "96908bce60b24e5cbcc1a411cbcb5368": {
      "model_module": "@jupyter-widgets/controls",
      "model_module_version": "1.5.0",
      "model_name": "ButtonModel",
      "state": {
       "description": "Reset Protected Area",
       "layout": "IPY_MODEL_53c2f3ed50034562a7f32b842c2af373",
       "style": "IPY_MODEL_526285e3c56f4672b4d624bc31b7b55e"
      }
     },
     "96c3b5b67a974cb7aac722d468aa3263": {
      "model_module": "@jupyter-widgets/controls",
      "model_module_version": "1.5.0",
      "model_name": "DescriptionStyleModel",
      "state": {
       "description_width": ""
      }
     },
     "96d33284c5914425a047360d8089eda4": {
      "model_module": "@jupyter-widgets/base",
      "model_module_version": "1.2.0",
      "model_name": "LayoutModel",
      "state": {}
     },
     "96df8ec89daf43b88df24913c3d99ecf": {
      "model_module": "@jupyter-widgets/base",
      "model_module_version": "1.2.0",
      "model_name": "LayoutModel",
      "state": {}
     },
     "973eb79c7de0425fb1ac0d182129e201": {
      "model_module": "@jupyter-widgets/base",
      "model_module_version": "1.2.0",
      "model_name": "LayoutModel",
      "state": {
       "border": "solid 4px #222",
       "margin": "4px",
       "padding": "0"
      }
     },
     "9786786aabdc46efa7b55b608ac9d099": {
      "model_module": "@jupyter-widgets/controls",
      "model_module_version": "1.5.0",
      "model_name": "BoxModel",
      "state": {
       "children": [
        "IPY_MODEL_33129b90b86a4d4a9d4ccfd2e3b0dda0",
        "IPY_MODEL_7e0772f66a56499aaa238cce77a62441"
       ],
       "layout": "IPY_MODEL_d07cea1943974a6181971dd633fa8a6c"
      }
     },
     "978b3728140640cab7e9755dc8f79deb": {
      "model_module": "@jupyter-widgets/base",
      "model_module_version": "1.2.0",
      "model_name": "LayoutModel",
      "state": {}
     },
     "97eea147ba224cf3a4622ad319435b3f": {
      "model_module": "@jupyter-widgets/controls",
      "model_module_version": "1.5.0",
      "model_name": "FloatSliderModel",
      "state": {
       "description": "Exposure",
       "layout": "IPY_MODEL_cd48daf7bd4145cca76161b66c86d08c",
       "max": 8,
       "min": -8,
       "step": 0.1,
       "style": "IPY_MODEL_0fcb4554844e4a4e8856f2e63fce3f6a"
      }
     },
     "985173c0a20545d8916ed0225996c6ee": {
      "model_module": "@jupyter-widgets/controls",
      "model_module_version": "1.5.0",
      "model_name": "VBoxModel",
      "state": {
       "children": [
        "IPY_MODEL_7208588c64b647e8b2e5d52b2fa20f46",
        "IPY_MODEL_19dec521320d40e4a4428c70609b89f9"
       ],
       "layout": "IPY_MODEL_0a90c06e0a1a46ec82a4bdb06532d4d6"
      }
     },
     "9886ecc3da374b818239a376173665ae": {
      "model_module": "@jupyter-widgets/controls",
      "model_module_version": "1.5.0",
      "model_name": "FloatSliderModel",
      "state": {
       "description": "0°",
       "layout": "IPY_MODEL_db3d779ea9e64206954dc40b064e1915",
       "max": 1,
       "min": -1,
       "step": 0.01,
       "style": "IPY_MODEL_bc0eaaff8225497cb2a128253d6c8bce"
      }
     },
     "991f2ef3a4e34a3a8f338d5c79da985d": {
      "model_module": "@jupyter-widgets/base",
      "model_module_version": "1.2.0",
      "model_name": "LayoutModel",
      "state": {}
     },
     "992061d63100483689079aea2897ad89": {
      "model_module": "@jupyter-widgets/base",
      "model_module_version": "1.2.0",
      "model_name": "LayoutModel",
      "state": {}
     },
     "99212379fd994353bcf56329b796d42f": {
      "model_module": "@jupyter-widgets/base",
      "model_module_version": "1.2.0",
      "model_name": "LayoutModel",
      "state": {}
     },
     "992af892058e4e76a347f3a10ebd0976": {
      "model_module": "@jupyter-widgets/controls",
      "model_module_version": "1.5.0",
      "model_name": "ButtonModel",
      "state": {
       "description": "Reset Exposure",
       "layout": "IPY_MODEL_a448ebe38a464fdf89611b3276c6083e",
       "style": "IPY_MODEL_5964c172bfd84c6bbe9a64efadae90e4"
      }
     },
     "994c5503b96246d3a26b6b7d8f4b539b": {
      "model_module": "@jupyter-widgets/base",
      "model_module_version": "1.2.0",
      "model_name": "LayoutModel",
      "state": {}
     },
     "996c5956fc5645db88a2f99a96834e72": {
      "model_module": "@jupyter-widgets/base",
      "model_module_version": "1.2.0",
      "model_name": "LayoutModel",
      "state": {}
     },
     "9995a635388f4a79a998091677437423": {
      "model_module": "jupyter-matplotlib",
      "model_module_version": "^0.7.2",
      "model_name": "ToolbarModel",
      "state": {
       "layout": "IPY_MODEL_c721c7aafb334ab2b3710e7f88c27650",
       "toolitems": [
        [
         "Home",
         "Reset original view",
         "home",
         "home"
        ],
        [
         "Back",
         "Back to previous view",
         "arrow-left",
         "back"
        ],
        [
         "Forward",
         "Forward to next view",
         "arrow-right",
         "forward"
        ],
        [
         "Pan",
         "Pan axes with left mouse, zoom with right",
         "arrows",
         "pan"
        ],
        [
         "Zoom",
         "Zoom to rectangle",
         "square-o",
         "zoom"
        ],
        [
         "Download",
         "Download plot",
         "floppy-o",
         "save_figure"
        ]
       ]
      }
     },
     "99ac95f015454a7dac988525a815d531": {
      "model_module": "@jupyter-widgets/base",
      "model_module_version": "1.2.0",
      "model_name": "LayoutModel",
      "state": {
       "align_items": "stretch",
       "display": "flex",
       "flex_flow": "column",
       "width": "1128px"
      }
     },
     "9a0b9cf01d4c4b08bb4bc38be27e4bc0": {
      "model_module": "@jupyter-widgets/controls",
      "model_module_version": "1.5.0",
      "model_name": "ButtonStyleModel",
      "state": {}
     },
     "9a0cf1b21747430b81d65695079877bd": {
      "model_module": "@jupyter-widgets/controls",
      "model_module_version": "1.5.0",
      "model_name": "SliderStyleModel",
      "state": {
       "description_width": ""
      }
     },
     "9a8dafd944a24e9f8d4a4b53e22fc4b9": {
      "model_module": "@jupyter-widgets/base",
      "model_module_version": "1.2.0",
      "model_name": "LayoutModel",
      "state": {}
     },
     "9a9a8fa311944afaa7adea0f9e886859": {
      "model_module": "@jupyter-widgets/base",
      "model_module_version": "1.2.0",
      "model_name": "LayoutModel",
      "state": {}
     },
     "9ac4f74123a342f8af8a32ebf59ddcd2": {
      "model_module": "@jupyter-widgets/controls",
      "model_module_version": "1.5.0",
      "model_name": "HBoxModel",
      "state": {
       "children": [
        "IPY_MODEL_57e75f08e19a49ee811ffca05ea0d249",
        "IPY_MODEL_16bf32c74b504b2f8ca2a666c4dfb63d",
        "IPY_MODEL_15b08531f073426aad50874c9a80de24",
        "IPY_MODEL_3d1586b45ab849a2ae008bbb7f816364",
        "IPY_MODEL_3b28af07d73a468dbc57bf36814ed9b2"
       ],
       "layout": "IPY_MODEL_168d8d3a8b444949930eb26ab78da909"
      }
     },
     "9ac55d810fdd42218b4a49cf267fdda2": {
      "model_module": "@jupyter-widgets/controls",
      "model_module_version": "1.5.0",
      "model_name": "HBoxModel",
      "state": {
       "children": [
        "IPY_MODEL_a2f6d581ea1745a780aa1b5baa44f4df",
        "IPY_MODEL_c0b0af37de3b4cdca5ee6e94dbd3e683",
        "IPY_MODEL_523b9c865bb64b3f8f18aaf9cd92bbae",
        "IPY_MODEL_3bc7a5c4bf704c66b164fee8da22a7cc",
        "IPY_MODEL_689b6a0ba7a5490ca71c47472192b841"
       ],
       "layout": "IPY_MODEL_65dd26f91e424277a44bc8013e4d4b9e"
      }
     },
     "9b258548e99941a6ae97618c04d8d62a": {
      "model_module": "@jupyter-widgets/controls",
      "model_module_version": "1.5.0",
      "model_name": "DescriptionStyleModel",
      "state": {
       "description_width": ""
      }
     },
     "9b29f9085ebe4394b6d469f9b24ec9a2": {
      "model_module": "@jupyter-widgets/controls",
      "model_module_version": "1.5.0",
      "model_name": "ButtonStyleModel",
      "state": {}
     },
     "9b58060b524a48b39b1dc97e40726429": {
      "model_module": "@jupyter-widgets/controls",
      "model_module_version": "1.5.0",
      "model_name": "FloatSliderModel",
      "state": {
       "description": "Exposure",
       "layout": "IPY_MODEL_9a8dafd944a24e9f8d4a4b53e22fc4b9",
       "max": 8,
       "min": -8,
       "step": 0.1,
       "style": "IPY_MODEL_a0224e15fcee45bf8793c81dbdd6507b"
      }
     },
     "9b75ad35ea10429bb95b993443c5eda2": {
      "model_module": "@jupyter-widgets/controls",
      "model_module_version": "1.5.0",
      "model_name": "ButtonStyleModel",
      "state": {}
     },
     "9baa90a2dd174f0bb8e97ff8db9ed909": {
      "model_module": "@jupyter-widgets/controls",
      "model_module_version": "1.5.0",
      "model_name": "DescriptionStyleModel",
      "state": {
       "description_width": ""
      }
     },
     "9bb616d454034746b2c304472a26b66d": {
      "model_module": "@jupyter-widgets/base",
      "model_module_version": "1.2.0",
      "model_name": "LayoutModel",
      "state": {}
     },
     "9bd1f053a1d641b5be652d6fa6d460f3": {
      "model_module": "@jupyter-widgets/controls",
      "model_module_version": "1.5.0",
      "model_name": "ButtonStyleModel",
      "state": {}
     },
     "9be33d7d3cec4d5c8bb97edf6d1f0553": {
      "model_module": "@jupyter-widgets/base",
      "model_module_version": "1.2.0",
      "model_name": "LayoutModel",
      "state": {}
     },
     "9c1998b3ead94eeaadc9546c431e618c": {
      "model_module": "@jupyter-widgets/base",
      "model_module_version": "1.2.0",
      "model_name": "LayoutModel",
      "state": {}
     },
     "9c2805e759784e92877277d27da6f798": {
      "model_module": "@jupyter-widgets/base",
      "model_module_version": "1.2.0",
      "model_name": "LayoutModel",
      "state": {}
     },
     "9c287f928f3343f68b99ec53ea72e80e": {
      "model_module": "@jupyter-widgets/base",
      "model_module_version": "1.2.0",
      "model_name": "LayoutModel",
      "state": {}
     },
     "9cb8185db0d3459e90fff83f9b510352": {
      "model_module": "@jupyter-widgets/base",
      "model_module_version": "1.2.0",
      "model_name": "LayoutModel",
      "state": {}
     },
     "9cbd5c8b9c9b49b58feae04d53ea938d": {
      "model_module": "@jupyter-widgets/base",
      "model_module_version": "1.2.0",
      "model_name": "LayoutModel",
      "state": {}
     },
     "9cc3ea93a3c74cf480da20754d07a7eb": {
      "model_module": "@jupyter-widgets/controls",
      "model_module_version": "1.5.0",
      "model_name": "HBoxModel",
      "state": {
       "children": [
        "IPY_MODEL_a21479b3eaab443dafa45ac52fdd8c65",
        "IPY_MODEL_e94a336082ec4e0b875ffbf2a3080ce6",
        "IPY_MODEL_ddba257717de415ea65c3073067802c2",
        "IPY_MODEL_b6c207fd47b246638b9eec6483ceda4d",
        "IPY_MODEL_4679d47431db4179b26cbab0dc9c1383"
       ],
       "layout": "IPY_MODEL_9dabe72cffda42f18147e7287428951a"
      }
     },
     "9cd7c523467a4b0b88ff187c62b17642": {
      "model_module": "@jupyter-widgets/base",
      "model_module_version": "1.2.0",
      "model_name": "LayoutModel",
      "state": {}
     },
     "9cf26f72f50544a99b07306f0049b31e": {
      "model_module": "@jupyter-widgets/controls",
      "model_module_version": "1.5.0",
      "model_name": "VBoxModel",
      "state": {
       "children": [
        "IPY_MODEL_1a01a0c43c014558894a2033697c97b0",
        "IPY_MODEL_74639e9abf684a9faad78e6a846136d6",
        "IPY_MODEL_8d7f36a2c4f1417c8383144520184c54"
       ],
       "layout": "IPY_MODEL_1aaa032d54c4488ea3f447b12c5b9331"
      }
     },
     "9d67e8b8ee2a46c2b090375d944f1da0": {
      "model_module": "jupyter-matplotlib",
      "model_module_version": "^0.7.2",
      "model_name": "MPLCanvasModel",
      "state": {
       "header_visible": false,
       "layout": "IPY_MODEL_300b4507016e41809d8ed45475fc7059",
       "resizable": false,
       "toolbar": "IPY_MODEL_bdafb010b0314fcfa203818b90461ec8",
       "toolbar_position": "left",
       "toolbar_visible": false
      }
     },
     "9d94869e7a504069bbb6ee2c95638bb8": {
      "model_module": "@jupyter-widgets/base",
      "model_module_version": "1.2.0",
      "model_name": "LayoutModel",
      "state": {}
     },
     "9dabe72cffda42f18147e7287428951a": {
      "model_module": "@jupyter-widgets/base",
      "model_module_version": "1.2.0",
      "model_name": "LayoutModel",
      "state": {}
     },
     "9dceb8e3286c463097fc2558ad7bb642": {
      "model_module": "@jupyter-widgets/controls",
      "model_module_version": "1.5.0",
      "model_name": "FloatSliderModel",
      "state": {
       "description": "135°",
       "layout": "IPY_MODEL_da6e0440df394b0ca246b0fa2ddb9ff4",
       "max": 1,
       "min": -1,
       "step": 0.01,
       "style": "IPY_MODEL_f27dfdf5d8dc4100b3aba9b79899bd3a"
      }
     },
     "9dfe319a0d464220aecd08eef9ba3015": {
      "model_module": "@jupyter-widgets/base",
      "model_module_version": "1.2.0",
      "model_name": "LayoutModel",
      "state": {
       "border": "solid 4px #222",
       "margin": "4px",
       "padding": "0"
      }
     },
     "9e0d6c51503d4c59b1ffa01f885f6c3b": {
      "model_module": "@jupyter-widgets/controls",
      "model_module_version": "1.5.0",
      "model_name": "FloatSliderModel",
      "state": {
       "description": "180°",
       "layout": "IPY_MODEL_1172b3ce9ff04d9e969766caa500eacb",
       "max": 1,
       "min": -1,
       "step": 0.01,
       "style": "IPY_MODEL_37df6d5c469d4b8e872090521b9d8d24"
      }
     },
     "9e0fc15fb86b4f36ba2ff49fd757ec6a": {
      "model_module": "@jupyter-widgets/base",
      "model_module_version": "1.2.0",
      "model_name": "LayoutModel",
      "state": {}
     },
     "9e6f24e410b9417c974106b4fe843e9a": {
      "model_module": "@jupyter-widgets/base",
      "model_module_version": "1.2.0",
      "model_name": "LayoutModel",
      "state": {}
     },
     "9edd0971672044dbb19a8c76f8a4514e": {
      "model_module": "@jupyter-widgets/controls",
      "model_module_version": "1.5.0",
      "model_name": "FloatSliderModel",
      "state": {
       "description": "270°",
       "layout": "IPY_MODEL_004aced2248f4df489e60ef209a9a779",
       "max": 1,
       "min": -1,
       "step": 0.01,
       "style": "IPY_MODEL_448e7751c63b472d8a3bdb0eee98b805"
      }
     },
     "9fc1b84cc5614e1681d84a03e4924f9c": {
      "model_module": "@jupyter-widgets/controls",
      "model_module_version": "1.5.0",
      "model_name": "VBoxModel",
      "state": {
       "children": [
        "IPY_MODEL_78d9692f799b461ab0a93c3e861128bc",
        "IPY_MODEL_9e0d6c51503d4c59b1ffa01f885f6c3b",
        "IPY_MODEL_20aba8130c4d4fcd83e70b8beb26065b"
       ],
       "layout": "IPY_MODEL_a8573c61221349ef832c32521ae75f69"
      }
     },
     "9febb577e4864ec48fccf6febd5d418b": {
      "model_module": "@jupyter-widgets/controls",
      "model_module_version": "1.5.0",
      "model_name": "HBoxModel",
      "state": {
       "children": [
        "IPY_MODEL_5475393a24634599adb382e3fbe5f6dd",
        "IPY_MODEL_7f3a81d9f1b34eec8946af4dfbd3fa7d",
        "IPY_MODEL_e2a22b3e2c7148299d294c6e51f5d82a",
        "IPY_MODEL_992af892058e4e76a347f3a10ebd0976",
        "IPY_MODEL_767e3f65307f492688961249fb0bce4e"
       ],
       "layout": "IPY_MODEL_dc92fd1076894230b0ba418d79ac201e"
      }
     },
     "a0224e15fcee45bf8793c81dbdd6507b": {
      "model_module": "@jupyter-widgets/controls",
      "model_module_version": "1.5.0",
      "model_name": "SliderStyleModel",
      "state": {
       "description_width": ""
      }
     },
     "a03130f348154823b67c0bce2876cb94": {
      "model_module": "@jupyter-widgets/base",
      "model_module_version": "1.2.0",
      "model_name": "LayoutModel",
      "state": {}
     },
     "a05106a97f774375a013f28c70afed21": {
      "model_module": "@jupyter-widgets/controls",
      "model_module_version": "1.5.0",
      "model_name": "SliderStyleModel",
      "state": {
       "description_width": ""
      }
     },
     "a06405590fd04ecd98697ba6610cbc3f": {
      "model_module": "@jupyter-widgets/controls",
      "model_module_version": "1.5.0",
      "model_name": "FloatSliderModel",
      "state": {
       "description": "Exposure",
       "layout": "IPY_MODEL_85b3035de43f428383adb5c5ecfb008a",
       "max": 8,
       "min": -8,
       "step": 0.1,
       "style": "IPY_MODEL_732e21b124794198b77521319cbacd02"
      }
     },
     "a0e8e6eea15b4e09befec295d8158851": {
      "model_module": "@jupyter-widgets/base",
      "model_module_version": "1.2.0",
      "model_name": "LayoutModel",
      "state": {}
     },
     "a16d12aeb7e64938b412791c15546939": {
      "model_module": "@jupyter-widgets/base",
      "model_module_version": "1.2.0",
      "model_name": "LayoutModel",
      "state": {}
     },
     "a1765e09bd0c4ac2b6f5a822b3713415": {
      "model_module": "@jupyter-widgets/controls",
      "model_module_version": "1.5.0",
      "model_name": "FloatSliderModel",
      "state": {
       "description": "315°",
       "layout": "IPY_MODEL_1c52049ea61c4e7da62dfc23c15b5ee7",
       "max": 1,
       "min": -1,
       "step": 0.01,
       "style": "IPY_MODEL_5096e272ae114f789a09daea6661bba4"
      }
     },
     "a185b10959a547a1b5590452689329fb": {
      "model_module": "@jupyter-widgets/controls",
      "model_module_version": "1.5.0",
      "model_name": "SliderStyleModel",
      "state": {
       "description_width": ""
      }
     },
     "a19e72ca681849ffac74651aef86e70b": {
      "model_module": "@jupyter-widgets/base",
      "model_module_version": "1.2.0",
      "model_name": "LayoutModel",
      "state": {}
     },
     "a1b7981a33d448209ac0109c28af3894": {
      "model_module": "@jupyter-widgets/controls",
      "model_module_version": "1.5.0",
      "model_name": "FloatSliderModel",
      "state": {
       "description": "135°",
       "layout": "IPY_MODEL_45c2ecb988b341be85b53590c05c36e2",
       "max": 1,
       "min": -1,
       "step": 0.01,
       "style": "IPY_MODEL_e501266f3cbc4c9ba7d9ab3a093d460c"
      }
     },
     "a1d9db04e4c64958a6c79db647aba09e": {
      "model_module": "@jupyter-widgets/controls",
      "model_module_version": "1.5.0",
      "model_name": "ButtonModel",
      "state": {
       "description": "Reset Protected Area",
       "layout": "IPY_MODEL_337aa1ff21de4b2489b00a208e8feaa2",
       "style": "IPY_MODEL_3eaa6ba46d28475590a282a138c17f53"
      }
     },
     "a21479b3eaab443dafa45ac52fdd8c65": {
      "model_module": "@jupyter-widgets/controls",
      "model_module_version": "1.5.0",
      "model_name": "CheckboxModel",
      "state": {
       "description": "Disable Medicina",
       "disabled": false,
       "layout": "IPY_MODEL_29dc376c2a0e457d92535ce38e5c2854",
       "style": "IPY_MODEL_797979a9304247e3849a251f88143222",
       "value": false
      }
     },
     "a268e9fc03284adcb0e5270c8ed2c5b2": {
      "model_module": "@jupyter-widgets/controls",
      "model_module_version": "1.5.0",
      "model_name": "HBoxModel",
      "state": {
       "children": [
        "IPY_MODEL_6a4c4b3417524a9b964c1a3cacb3f176",
        "IPY_MODEL_568f6f2a37fb4aa2919e1412d28b7234",
        "IPY_MODEL_b56bf94d322c4dd5a633b8d74e09d3b8",
        "IPY_MODEL_f67676746f344dd29f15b998fd72db9a"
       ],
       "layout": "IPY_MODEL_b3ec9356a5c44df993c16270dad09dea"
      }
     },
     "a284b44bf3874dca9ee3c4af97ab4176": {
      "model_module": "@jupyter-widgets/base",
      "model_module_version": "1.2.0",
      "model_name": "LayoutModel",
      "state": {}
     },
     "a2ce71b704a344a18e8189662467c97d": {
      "model_module": "@jupyter-widgets/controls",
      "model_module_version": "1.5.0",
      "model_name": "ButtonModel",
      "state": {
       "description": "Export Image",
       "layout": "IPY_MODEL_95ba612c45d8458db6d213f10f903476",
       "style": "IPY_MODEL_2921d74dcb0b446597c9614f6c4fdb91"
      }
     },
     "a2d819a72df8441f95453f1cb154526a": {
      "model_module": "@jupyter-widgets/controls",
      "model_module_version": "1.5.0",
      "model_name": "ButtonStyleModel",
      "state": {}
     },
     "a2f6d581ea1745a780aa1b5baa44f4df": {
      "model_module": "@jupyter-widgets/controls",
      "model_module_version": "1.5.0",
      "model_name": "CheckboxModel",
      "state": {
       "description": "Disable Medicina",
       "disabled": false,
       "layout": "IPY_MODEL_9418d0d89b4a4de7b1067053d2682f1e",
       "style": "IPY_MODEL_a37743f851f24f26ad76633ecce669e9",
       "value": false
      }
     },
     "a37743f851f24f26ad76633ecce669e9": {
      "model_module": "@jupyter-widgets/controls",
      "model_module_version": "1.5.0",
      "model_name": "DescriptionStyleModel",
      "state": {
       "description_width": ""
      }
     },
     "a3b1a2c5feee476ba99b0baec0bde9ef": {
      "model_module": "@jupyter-widgets/base",
      "model_module_version": "1.2.0",
      "model_name": "LayoutModel",
      "state": {}
     },
     "a448ebe38a464fdf89611b3276c6083e": {
      "model_module": "@jupyter-widgets/base",
      "model_module_version": "1.2.0",
      "model_name": "LayoutModel",
      "state": {}
     },
     "a49c6150b536413f89f15dce0edf3fb0": {
      "model_module": "@jupyter-widgets/base",
      "model_module_version": "1.2.0",
      "model_name": "LayoutModel",
      "state": {}
     },
     "a4c4cfb71e094152a4d46ca2a641a268": {
      "model_module": "@jupyter-widgets/base",
      "model_module_version": "1.2.0",
      "model_name": "LayoutModel",
      "state": {}
     },
     "a4cd006ea3bc400e80c3bff16abb1483": {
      "model_module": "@jupyter-widgets/base",
      "model_module_version": "1.2.0",
      "model_name": "LayoutModel",
      "state": {}
     },
     "a4de3d476383492cb194b8d5841b5431": {
      "model_module": "@jupyter-widgets/base",
      "model_module_version": "1.2.0",
      "model_name": "LayoutModel",
      "state": {}
     },
     "a4ffe72b170241288142674bcfcf4396": {
      "model_module": "@jupyter-widgets/base",
      "model_module_version": "1.2.0",
      "model_name": "LayoutModel",
      "state": {}
     },
     "a503097252e94056bcd29e22c743c680": {
      "model_module": "@jupyter-widgets/controls",
      "model_module_version": "1.5.0",
      "model_name": "SliderStyleModel",
      "state": {
       "description_width": ""
      }
     },
     "a51d0084863b4472b327e09a90e16570": {
      "model_module": "@jupyter-widgets/controls",
      "model_module_version": "1.5.0",
      "model_name": "ButtonStyleModel",
      "state": {}
     },
     "a56993eb9f974af6ba9f393a8a65b02f": {
      "model_module": "@jupyter-widgets/base",
      "model_module_version": "1.2.0",
      "model_name": "LayoutModel",
      "state": {}
     },
     "a617ecf0ed5d465f8367febe1e68cb29": {
      "model_module": "@jupyter-widgets/controls",
      "model_module_version": "1.5.0",
      "model_name": "VBoxModel",
      "state": {
       "children": [
        "IPY_MODEL_37ccd2c44f8b4fcf84c910014b671ff1",
        "IPY_MODEL_6c0d2c62cfee4657b1bca8a4d4b53978"
       ],
       "layout": "IPY_MODEL_c669486c8bd14d6d9d9da39ef157457f"
      }
     },
     "a6642c6d74974ef8aa730126d20cd401": {
      "model_module": "@jupyter-widgets/controls",
      "model_module_version": "1.5.0",
      "model_name": "SliderStyleModel",
      "state": {
       "description_width": ""
      }
     },
     "a687b829fc4242c68f633f878c2820fd": {
      "model_module": "@jupyter-widgets/base",
      "model_module_version": "1.2.0",
      "model_name": "LayoutModel",
      "state": {}
     },
     "a7641bfb450848f5b13fb01f4c776c26": {
      "model_module": "@jupyter-widgets/base",
      "model_module_version": "1.2.0",
      "model_name": "LayoutModel",
      "state": {}
     },
     "a76dd60888b24125979724d38d6db06b": {
      "model_module": "@jupyter-widgets/controls",
      "model_module_version": "1.5.0",
      "model_name": "CheckboxModel",
      "state": {
       "description": "Disable Medicina",
       "disabled": false,
       "layout": "IPY_MODEL_5dcb894bbb5a4a6097a8a135d0d0ad5e",
       "style": "IPY_MODEL_52a77f1130c6446582822ca37f49be32",
       "value": false
      }
     },
     "a77e223b0f894bd3a44abe5878746bd6": {
      "model_module": "@jupyter-widgets/base",
      "model_module_version": "1.2.0",
      "model_name": "LayoutModel",
      "state": {}
     },
     "a7991cc3fee447039a7e36520d643f69": {
      "model_module": "jupyter-matplotlib",
      "model_module_version": "^0.7.2",
      "model_name": "MPLCanvasModel",
      "state": {
       "_figure_label": "Figure 7",
       "_height": 508,
       "_width": 1100,
       "header_visible": false,
       "layout": "IPY_MODEL_89ba262d16a048439d17c9819474f416",
       "resizable": false,
       "toolbar": "IPY_MODEL_727d51c42dfe4a4f9e9cdfc599e9a06e",
       "toolbar_position": "left",
       "toolbar_visible": false
      }
     },
     "a8076b1e1aba40f486b1decc4c7442bf": {
      "model_module": "@jupyter-widgets/base",
      "model_module_version": "1.2.0",
      "model_name": "LayoutModel",
      "state": {}
     },
     "a81ca5c2a1984a1fa90c469030945e19": {
      "model_module": "@jupyter-widgets/controls",
      "model_module_version": "1.5.0",
      "model_name": "SliderStyleModel",
      "state": {
       "description_width": ""
      }
     },
     "a84050b9703146b8bdae0b8c982a32f0": {
      "model_module": "@jupyter-widgets/controls",
      "model_module_version": "1.5.0",
      "model_name": "SliderStyleModel",
      "state": {
       "description_width": ""
      }
     },
     "a8573c61221349ef832c32521ae75f69": {
      "model_module": "@jupyter-widgets/base",
      "model_module_version": "1.2.0",
      "model_name": "LayoutModel",
      "state": {}
     },
     "a86644e9cac645d2ae0c3055bb16c0f7": {
      "model_module": "@jupyter-widgets/base",
      "model_module_version": "1.2.0",
      "model_name": "LayoutModel",
      "state": {}
     },
     "a88b97acd54c481d8771d054f19155bb": {
      "model_module": "@jupyter-widgets/base",
      "model_module_version": "1.2.0",
      "model_name": "LayoutModel",
      "state": {}
     },
     "a8a7efd3920b4920ba3ca2e942d54c54": {
      "model_module": "@jupyter-widgets/controls",
      "model_module_version": "1.5.0",
      "model_name": "ButtonStyleModel",
      "state": {}
     },
     "a8f2498c3d2f4fc7bf1f5babf452754b": {
      "model_module": "@jupyter-widgets/controls",
      "model_module_version": "1.5.0",
      "model_name": "ButtonModel",
      "state": {
       "description": "Reset Protected Area",
       "layout": "IPY_MODEL_1d35154564c240aea6e6a8f7001c66d4",
       "style": "IPY_MODEL_e8987fc66a274551af18eeb3d53ed980"
      }
     },
     "a9309eddee6846478670f4c6e7f32d9d": {
      "model_module": "@jupyter-widgets/base",
      "model_module_version": "1.2.0",
      "model_name": "LayoutModel",
      "state": {}
     },
     "a93ecd756313464e95e6413e7ebd83c0": {
      "model_module": "@jupyter-widgets/base",
      "model_module_version": "1.2.0",
      "model_name": "LayoutModel",
      "state": {}
     },
     "a95269072e2646c1b48242048cda5035": {
      "model_module": "@jupyter-widgets/base",
      "model_module_version": "1.2.0",
      "model_name": "LayoutModel",
      "state": {}
     },
     "a9ae87634dbe473e81bcf383690fe5fd": {
      "model_module": "@jupyter-widgets/controls",
      "model_module_version": "1.5.0",
      "model_name": "VBoxModel",
      "state": {
       "children": [
        "IPY_MODEL_0c835ad5fffe4b8c88ab22aea1258203"
       ],
       "layout": "IPY_MODEL_17042270b197431cbb78dec9061f3b32"
      }
     },
     "a9d34e6494b442788d3afab7f4201de5": {
      "model_module": "@jupyter-widgets/controls",
      "model_module_version": "1.5.0",
      "model_name": "FloatSliderModel",
      "state": {
       "description": "135°",
       "layout": "IPY_MODEL_0dd10e32740f4f62a17fc1c8ab8ede7b",
       "max": 1,
       "min": -1,
       "step": 0.01,
       "style": "IPY_MODEL_00574cb554f347e4b1c823eb15ed5a56"
      }
     },
     "aa18b49b08394f528b62f0d8238499ec": {
      "model_module": "@jupyter-widgets/controls",
      "model_module_version": "1.5.0",
      "model_name": "ButtonModel",
      "state": {
       "description": "Export Image",
       "layout": "IPY_MODEL_b40ab81c0d4648378de873dfe8255d74",
       "style": "IPY_MODEL_d24064a3a6cf491da8642a205f4978e2"
      }
     },
     "aaea3306b7c84a0fbc7beab8f76e5795": {
      "model_module": "@jupyter-widgets/controls",
      "model_module_version": "1.5.0",
      "model_name": "ButtonModel",
      "state": {
       "description": "Reset Exposure",
       "layout": "IPY_MODEL_456e2c52a55e4cf4ab872a91a0554abd",
       "style": "IPY_MODEL_3e41df3f63bf4c25897a71e28bec3dfc"
      }
     },
     "ab160f123a5040a2b52ecb3c2bcee740": {
      "model_module": "@jupyter-widgets/base",
      "model_module_version": "1.2.0",
      "model_name": "LayoutModel",
      "state": {}
     },
     "ab24909b12be4ad1ac58150422615eeb": {
      "model_module": "@jupyter-widgets/base",
      "model_module_version": "1.2.0",
      "model_name": "LayoutModel",
      "state": {}
     },
     "ab29bea364a44b1287e4d754fcc49887": {
      "model_module": "@jupyter-widgets/controls",
      "model_module_version": "1.5.0",
      "model_name": "ButtonModel",
      "state": {
       "description": "Save Figure",
       "layout": "IPY_MODEL_a19e72ca681849ffac74651aef86e70b",
       "style": "IPY_MODEL_d5a4507eeb1d40b1b67cb5976b581100"
      }
     },
     "ab62474297864fb2a551a65d8eebb283": {
      "model_module": "@jupyter-widgets/base",
      "model_module_version": "1.2.0",
      "model_name": "LayoutModel",
      "state": {}
     },
     "abcfcb93b5a8425784e13154e856abb9": {
      "model_module": "@jupyter-widgets/controls",
      "model_module_version": "1.5.0",
      "model_name": "FloatSliderModel",
      "state": {
       "description": "Protected Area Threshold",
       "layout": "IPY_MODEL_2e041bd4aab0446fa4c81782e85c4ce4",
       "max": 1,
       "step": 0.01,
       "style": "IPY_MODEL_958c07fda5364e0f81cbbc1d0f04e440",
       "value": 0.7
      }
     },
     "abd377c47c184a8dab3579439b992577": {
      "model_module": "@jupyter-widgets/controls",
      "model_module_version": "1.5.0",
      "model_name": "DescriptionStyleModel",
      "state": {
       "description_width": ""
      }
     },
     "ac0afdc7d337447a8639197af16cda48": {
      "model_module": "@jupyter-widgets/base",
      "model_module_version": "1.2.0",
      "model_name": "LayoutModel",
      "state": {}
     },
     "ac3d6faf0f094ef28d186c24daec22dd": {
      "model_module": "@jupyter-widgets/base",
      "model_module_version": "1.2.0",
      "model_name": "LayoutModel",
      "state": {}
     },
     "ac55347140a74ce79b77dc526dbd3659": {
      "model_module": "@jupyter-widgets/controls",
      "model_module_version": "1.5.0",
      "model_name": "ButtonStyleModel",
      "state": {}
     },
     "acaefe5660b64484853ad51eed6ced91": {
      "model_module": "@jupyter-widgets/base",
      "model_module_version": "1.2.0",
      "model_name": "LayoutModel",
      "state": {}
     },
     "acc0fc01403a4925a0791e3f75c0a6ff": {
      "model_module": "@jupyter-widgets/base",
      "model_module_version": "1.2.0",
      "model_name": "LayoutModel",
      "state": {}
     },
     "acc44171390a42dcaf597a336886a78e": {
      "model_module": "@jupyter-widgets/controls",
      "model_module_version": "1.5.0",
      "model_name": "VBoxModel",
      "state": {
       "children": [
        "IPY_MODEL_46059e5c052f47558cc00fefc3c08001",
        "IPY_MODEL_adafef9737014e598b7aaca939e90630"
       ],
       "layout": "IPY_MODEL_92acd7fbfad749499e83793308214248"
      }
     },
     "acff08c5530245f2801cb779fe0a50a8": {
      "model_module": "@jupyter-widgets/controls",
      "model_module_version": "1.5.0",
      "model_name": "ButtonStyleModel",
      "state": {}
     },
     "ad4fe7fd2ddb499d927b59d6e7bc69f4": {
      "model_module": "@jupyter-widgets/controls",
      "model_module_version": "1.5.0",
      "model_name": "FloatSliderModel",
      "state": {
       "description": "315°",
       "layout": "IPY_MODEL_64e774d3101a4dff8ad3c3ffe64f67f6",
       "max": 1,
       "min": -1,
       "step": 0.01,
       "style": "IPY_MODEL_d6c2d82ae9b44c7b8990217c6eadc9cd"
      }
     },
     "ad6deb503696429f8fb41a0dd7c6ccd9": {
      "model_module": "@jupyter-widgets/base",
      "model_module_version": "1.2.0",
      "model_name": "LayoutModel",
      "state": {}
     },
     "ad7be3b461a642729415520d124703be": {
      "model_module": "@jupyter-widgets/controls",
      "model_module_version": "1.5.0",
      "model_name": "DropdownModel",
      "state": {
       "_options_labels": [
        "tanh",
        "atan",
        "simple"
       ],
       "description": "Compression Function:",
       "index": 0,
       "layout": "IPY_MODEL_c842b8db84c14f4587c077233ab0454f",
       "style": "IPY_MODEL_3199cfe2f9834c50aa8086581fcf0862"
      }
     },
     "ad91760da15c4c12b88a9e710c116b4d": {
      "model_module": "@jupyter-widgets/controls",
      "model_module_version": "1.5.0",
      "model_name": "DropdownModel",
      "state": {
       "_options_labels": [
        "tanh",
        "atan",
        "simple"
       ],
       "description": "Compression Function:",
       "index": 0,
       "layout": "IPY_MODEL_2cb1b18668334031b3caa87cf0b1bc37",
       "style": "IPY_MODEL_54c2fdc0d19743fe970cfb1fb4ad02d5"
      }
     },
     "ad9b4b124ecf4d80a9de509c058501bd": {
      "model_module": "@jupyter-widgets/base",
      "model_module_version": "1.2.0",
      "model_name": "LayoutModel",
      "state": {}
     },
     "adafef9737014e598b7aaca939e90630": {
      "model_module": "@jupyter-widgets/controls",
      "model_module_version": "1.5.0",
      "model_name": "FloatSliderModel",
      "state": {
       "description": "315°",
       "layout": "IPY_MODEL_205e61f47751413d891fb8a9067eddae",
       "max": 1,
       "min": -1,
       "step": 0.01,
       "style": "IPY_MODEL_bcc6b8d7796e4269ab975530f280c522"
      }
     },
     "adcb637865e747459a96c0778cd78249": {
      "model_module": "@jupyter-widgets/controls",
      "model_module_version": "1.5.0",
      "model_name": "SliderStyleModel",
      "state": {
       "description_width": ""
      }
     },
     "adf8db1f1b614727994ebbf948c22dd0": {
      "model_module": "@jupyter-widgets/controls",
      "model_module_version": "1.5.0",
      "model_name": "ButtonStyleModel",
      "state": {}
     },
     "adfdec09e50e4889aa26cf7012f15cc2": {
      "model_module": "@jupyter-widgets/base",
      "model_module_version": "1.2.0",
      "model_name": "LayoutModel",
      "state": {}
     },
     "ae158fb3036346d093c9a4e7fefe9c88": {
      "model_module": "@jupyter-widgets/controls",
      "model_module_version": "1.5.0",
      "model_name": "SliderStyleModel",
      "state": {
       "description_width": ""
      }
     },
     "ae651a4d398d472ca50ae5a0d99bf2ba": {
      "model_module": "@jupyter-widgets/controls",
      "model_module_version": "1.5.0",
      "model_name": "BoxModel",
      "state": {
       "children": [
        "IPY_MODEL_671015677cba4bafbed046d20b9235f5",
        "IPY_MODEL_8a251ef8ba964f3593733e228d09d5de"
       ],
       "layout": "IPY_MODEL_31996a20f7df46e6be57bff1ed333a49"
      }
     },
     "ae74e8a5c2a64ab4be61fae6a9da2ad7": {
      "model_module": "@jupyter-widgets/base",
      "model_module_version": "1.2.0",
      "model_name": "LayoutModel",
      "state": {}
     },
     "ae820127c6ac4557a109a970c0790dd4": {
      "model_module": "@jupyter-widgets/controls",
      "model_module_version": "1.5.0",
      "model_name": "FloatSliderModel",
      "state": {
       "description": "180°",
       "layout": "IPY_MODEL_dd53557fa90a41a49996354cc9bc7351",
       "max": 1,
       "min": -1,
       "step": 0.01,
       "style": "IPY_MODEL_79d78d68234840249c4ff52721ed33b3"
      }
     },
     "aea8557af7234b4bbde23305a3d5f4f4": {
      "model_module": "@jupyter-widgets/controls",
      "model_module_version": "1.5.0",
      "model_name": "DescriptionStyleModel",
      "state": {
       "description_width": ""
      }
     },
     "aeccf52d5a554f0bbaf7edb48bd96c9d": {
      "model_module": "@jupyter-widgets/base",
      "model_module_version": "1.2.0",
      "model_name": "LayoutModel",
      "state": {}
     },
     "aed434a150fe41e3afbf6753ee0f34ad": {
      "model_module": "@jupyter-widgets/controls",
      "model_module_version": "1.5.0",
      "model_name": "CheckboxModel",
      "state": {
       "description": "Disable Medicina",
       "disabled": false,
       "layout": "IPY_MODEL_acaefe5660b64484853ad51eed6ced91",
       "style": "IPY_MODEL_08e06016b63f409ba7ebe6290c24bbd0",
       "value": false
      }
     },
     "aefce55c42014d889bddad64272e5c2e": {
      "model_module": "@jupyter-widgets/controls",
      "model_module_version": "1.5.0",
      "model_name": "ButtonModel",
      "state": {
       "description": "Save Figure",
       "layout": "IPY_MODEL_1741168ca21143baa10142580b004bb5",
       "style": "IPY_MODEL_d9cacb4cace04b9889a8ce0e15e50b1e"
      }
     },
     "af4f0a11c9554319ba4d641ced07b7c7": {
      "model_module": "@jupyter-widgets/base",
      "model_module_version": "1.2.0",
      "model_name": "LayoutModel",
      "state": {
       "border": "solid 4px #222",
       "margin": "4px",
       "padding": "0"
      }
     },
     "af963d501d814d0b9eba2203ef574d48": {
      "model_module": "@jupyter-widgets/base",
      "model_module_version": "1.2.0",
      "model_name": "LayoutModel",
      "state": {
       "border": "solid 4px #222",
       "margin": "4px",
       "padding": "0"
      }
     },
     "af9d6e9238324f0abcb04aebbc73d24d": {
      "model_module": "@jupyter-widgets/base",
      "model_module_version": "1.2.0",
      "model_name": "LayoutModel",
      "state": {}
     },
     "afb55cfd3ebe48279c0563fcc50ae774": {
      "model_module": "jupyter-matplotlib",
      "model_module_version": "^0.7.2",
      "model_name": "ToolbarModel",
      "state": {
       "layout": "IPY_MODEL_6f73ac907a8e42e6bbde5a18971f1ae5",
       "toolitems": [
        [
         "Home",
         "Reset original view",
         "home",
         "home"
        ],
        [
         "Back",
         "Back to previous view",
         "arrow-left",
         "back"
        ],
        [
         "Forward",
         "Forward to next view",
         "arrow-right",
         "forward"
        ],
        [
         "Pan",
         "Pan axes with left mouse, zoom with right",
         "arrows",
         "pan"
        ],
        [
         "Zoom",
         "Zoom to rectangle",
         "square-o",
         "zoom"
        ],
        [
         "Download",
         "Download plot",
         "floppy-o",
         "save_figure"
        ]
       ]
      }
     },
     "afbbbd6569a44476a60dad60a140b72e": {
      "model_module": "@jupyter-widgets/base",
      "model_module_version": "1.2.0",
      "model_name": "LayoutModel",
      "state": {}
     },
     "afbc3f54b9c74ab895eb36e129064a60": {
      "model_module": "@jupyter-widgets/controls",
      "model_module_version": "1.5.0",
      "model_name": "VBoxModel",
      "state": {
       "children": [
        "IPY_MODEL_2d76ec5437a5420aae4d775d53421897"
       ],
       "layout": "IPY_MODEL_509d9055523d43fcaec0329ecf3b5414"
      }
     },
     "b01364f9b21c423a88293b8ab7864d9e": {
      "model_module": "@jupyter-widgets/controls",
      "model_module_version": "1.5.0",
      "model_name": "SliderStyleModel",
      "state": {
       "description_width": ""
      }
     },
     "b0380721b0ba43a68f5cdf5966847bd0": {
      "model_module": "@jupyter-widgets/controls",
      "model_module_version": "1.5.0",
      "model_name": "HBoxModel",
      "state": {
       "children": [
        "IPY_MODEL_0d74cb708fed4cc3a28189a67ec3bba8",
        "IPY_MODEL_fd515abb0d964aa689ed1a9969cc548a",
        "IPY_MODEL_0fff57edc74e4427b9ad4b0ae313f186"
       ],
       "layout": "IPY_MODEL_9c287f928f3343f68b99ec53ea72e80e"
      }
     },
     "b064bf82ef424872ab0304b6efd71fbe": {
      "model_module": "@jupyter-widgets/controls",
      "model_module_version": "1.5.0",
      "model_name": "VBoxModel",
      "state": {
       "children": [
        "IPY_MODEL_0645bcb3364d4a1683dd72f428cc09e0"
       ],
       "layout": "IPY_MODEL_311b2da5f4a74248ac41004fd1b73bb1"
      }
     },
     "b08626ba8cbd4e48be91ceaab5695d3e": {
      "model_module": "@jupyter-widgets/controls",
      "model_module_version": "1.5.0",
      "model_name": "FloatSliderModel",
      "state": {
       "description": "270°",
       "layout": "IPY_MODEL_568ddb6121fb45ea8c9d634861ca4b41",
       "max": 1,
       "min": -1,
       "step": 0.01,
       "style": "IPY_MODEL_3a9bf099b3a34f2ab13ddc882e4c66c4"
      }
     },
     "b08bc86ebb38442e8701e4bb8f0f8fb8": {
      "model_module": "@jupyter-widgets/base",
      "model_module_version": "1.2.0",
      "model_name": "LayoutModel",
      "state": {}
     },
     "b09a97a220e24382a2764d67887c0bfa": {
      "model_module": "@jupyter-widgets/controls",
      "model_module_version": "1.5.0",
      "model_name": "FloatSliderModel",
      "state": {
       "description": "Protected Area Threshold",
       "layout": "IPY_MODEL_83bc3e8514a243aea007af2d8ed24173",
       "max": 1,
       "step": 0.01,
       "style": "IPY_MODEL_cecb93f0dcb44bbf805ceae876a5a8f4",
       "value": 0.7
      }
     },
     "b0bd45bafa1540529ec7d03b6897fd34": {
      "model_module": "@jupyter-widgets/controls",
      "model_module_version": "1.5.0",
      "model_name": "FloatSliderModel",
      "state": {
       "description": "225°",
       "layout": "IPY_MODEL_7d769a3895c948e7ab789a656eef21a5",
       "max": 1,
       "min": -1,
       "step": 0.01,
       "style": "IPY_MODEL_54f8e769c3d24d4a81c45efc31553eb8"
      }
     },
     "b1115af73ea14424bb5b156c7a9bdcd2": {
      "model_module": "@jupyter-widgets/output",
      "model_module_version": "1.0.0",
      "model_name": "OutputModel",
      "state": {
       "layout": "IPY_MODEL_679404163b354568a501e89006ff5434",
       "outputs": [
        {
         "data": {
          "application/vnd.jupyter.widget-view+json": {
           "model_id": "73b6c83fe3e74e229bc6b2b9874d24d4",
           "version_major": 2,
           "version_minor": 0
          },
          "text/plain": "Canvas(toolbar=Toolbar(toolitems=[('Home', 'Reset original view', 'home', 'home'), ('Back', 'Back to previous …"
         },
         "metadata": {},
         "output_type": "display_data"
        }
       ]
      }
     },
     "b11432b164814150ababf1eab162cb1d": {
      "model_module": "@jupyter-widgets/controls",
      "model_module_version": "1.5.0",
      "model_name": "ButtonStyleModel",
      "state": {}
     },
     "b14127925f944bbea3a4067765a1947e": {
      "model_module": "@jupyter-widgets/base",
      "model_module_version": "1.2.0",
      "model_name": "LayoutModel",
      "state": {}
     },
     "b146b77a69aa41f9ba133ed1b6abfeda": {
      "model_module": "jupyter-matplotlib",
      "model_module_version": "^0.7.2",
      "model_name": "ToolbarModel",
      "state": {
       "layout": "IPY_MODEL_54f829d92541485383720435e96779a7",
       "toolitems": [
        [
         "Home",
         "Reset original view",
         "home",
         "home"
        ],
        [
         "Back",
         "Back to previous view",
         "arrow-left",
         "back"
        ],
        [
         "Forward",
         "Forward to next view",
         "arrow-right",
         "forward"
        ],
        [
         "Pan",
         "Pan axes with left mouse, zoom with right",
         "arrows",
         "pan"
        ],
        [
         "Zoom",
         "Zoom to rectangle",
         "square-o",
         "zoom"
        ],
        [
         "Download",
         "Download plot",
         "floppy-o",
         "save_figure"
        ]
       ]
      }
     },
     "b1c3b14f5b414b449784534797c4431f": {
      "model_module": "@jupyter-widgets/controls",
      "model_module_version": "1.5.0",
      "model_name": "SliderStyleModel",
      "state": {
       "description_width": ""
      }
     },
     "b1fe2bf0c7c94c56b0a4afa04355c37a": {
      "model_module": "@jupyter-widgets/controls",
      "model_module_version": "1.5.0",
      "model_name": "ButtonStyleModel",
      "state": {}
     },
     "b2258eec5b4f44adb732c819a7cadff5": {
      "model_module": "@jupyter-widgets/controls",
      "model_module_version": "1.5.0",
      "model_name": "TabModel",
      "state": {
       "_titles": {
        "0": "Global Controls",
        "1": "Protected Area Controls",
        "2": "Saturation Controls",
        "3": "Hue Controls"
       },
       "children": [
        "IPY_MODEL_e030a167903b4af1a7f1ac5018f6de0a",
        "IPY_MODEL_4b55f340966744328fc3bd8a684f7da9",
        "IPY_MODEL_831257448404498e82f746af02bf7acb",
        "IPY_MODEL_2342e614d87e48d4b466e78a2e09dc25"
       ],
       "layout": "IPY_MODEL_fb944d5750734745bbffee6cc3b6774f"
      }
     },
     "b255f90f04e6497a85175378b78e519e": {
      "model_module": "@jupyter-widgets/controls",
      "model_module_version": "1.5.0",
      "model_name": "SliderStyleModel",
      "state": {
       "description_width": ""
      }
     },
     "b27a35a78f984ceb9f1ccd862cb3e0bc": {
      "model_module": "@jupyter-widgets/base",
      "model_module_version": "1.2.0",
      "model_name": "LayoutModel",
      "state": {}
     },
     "b2c5543b36d046408e01824e35348b57": {
      "model_module": "@jupyter-widgets/base",
      "model_module_version": "1.2.0",
      "model_name": "LayoutModel",
      "state": {}
     },
     "b30bbe549b5f4d688d79371419693f6d": {
      "model_module": "@jupyter-widgets/base",
      "model_module_version": "1.2.0",
      "model_name": "LayoutModel",
      "state": {}
     },
     "b30f59ffe00a49dc93a43711628ecb49": {
      "model_module": "@jupyter-widgets/controls",
      "model_module_version": "1.5.0",
      "model_name": "FloatSliderModel",
      "state": {
       "description": "Exposure",
       "layout": "IPY_MODEL_a3b1a2c5feee476ba99b0baec0bde9ef",
       "max": 8,
       "min": -8,
       "step": 0.1,
       "style": "IPY_MODEL_02f4e02161174593b160caa86867476a"
      }
     },
     "b3384cfa8e4e4e8ba0c55257f88eaa3b": {
      "model_module": "@jupyter-widgets/controls",
      "model_module_version": "1.5.0",
      "model_name": "SliderStyleModel",
      "state": {
       "description_width": ""
      }
     },
     "b361ff92c44448ae89cf2d9972f0d2df": {
      "model_module": "@jupyter-widgets/base",
      "model_module_version": "1.2.0",
      "model_name": "LayoutModel",
      "state": {}
     },
     "b3ec9356a5c44df993c16270dad09dea": {
      "model_module": "@jupyter-widgets/base",
      "model_module_version": "1.2.0",
      "model_name": "LayoutModel",
      "state": {}
     },
     "b3ef81245f7f42f2ae5bb30d55b5b7d0": {
      "model_module": "@jupyter-widgets/base",
      "model_module_version": "1.2.0",
      "model_name": "LayoutModel",
      "state": {}
     },
     "b40ab81c0d4648378de873dfe8255d74": {
      "model_module": "@jupyter-widgets/base",
      "model_module_version": "1.2.0",
      "model_name": "LayoutModel",
      "state": {}
     },
     "b4542eb49231461cb8454eec4abd51cc": {
      "model_module": "@jupyter-widgets/controls",
      "model_module_version": "1.5.0",
      "model_name": "SliderStyleModel",
      "state": {
       "description_width": ""
      }
     },
     "b4b46635d6bc424c9ca4b562be1c60c7": {
      "model_module": "@jupyter-widgets/base",
      "model_module_version": "1.2.0",
      "model_name": "LayoutModel",
      "state": {}
     },
     "b4b606213a0c464ea20c951f8c931c31": {
      "model_module": "@jupyter-widgets/base",
      "model_module_version": "1.2.0",
      "model_name": "LayoutModel",
      "state": {}
     },
     "b4fe1ecd16b04e7bb994697d9854d768": {
      "model_module": "@jupyter-widgets/controls",
      "model_module_version": "1.5.0",
      "model_name": "SliderStyleModel",
      "state": {
       "description_width": ""
      }
     },
     "b50aaa54ad084a32b4129bced25a04d3": {
      "model_module": "@jupyter-widgets/controls",
      "model_module_version": "1.5.0",
      "model_name": "ButtonModel",
      "state": {
       "description": "Export Image",
       "layout": "IPY_MODEL_679d408db7574802a713c7ddee762122",
       "style": "IPY_MODEL_32415403549c4d8c882afd4393e7e1c7"
      }
     },
     "b53852d491164b5a8e9e0631549a7a68": {
      "model_module": "@jupyter-widgets/controls",
      "model_module_version": "1.5.0",
      "model_name": "HBoxModel",
      "state": {
       "children": [
        "IPY_MODEL_05aabdf2858e4206908bae07136cd9d8",
        "IPY_MODEL_8bbe61f951294e458834018841be0d0a",
        "IPY_MODEL_d10ef0d4e168477c96b9145d5856e096",
        "IPY_MODEL_cde921d4b5374564ba267fb725ce197d",
        "IPY_MODEL_b980e9e78e414e1ba7b3b7f2f0362c44"
       ],
       "layout": "IPY_MODEL_fe695fa868c445f194d1817b903fdcb1"
      }
     },
     "b542569eab5b4ba2aa3be13a10638e91": {
      "model_module": "@jupyter-widgets/controls",
      "model_module_version": "1.5.0",
      "model_name": "FloatSliderModel",
      "state": {
       "description": "Compression Threshold",
       "layout": "IPY_MODEL_4fe35ce46c094fe7b26b9f453e186132",
       "max": 1,
       "step": 0.01,
       "style": "IPY_MODEL_9513c3c5b4104cf698a92618be5bb161",
       "value": 0.5
      }
     },
     "b56bf94d322c4dd5a633b8d74e09d3b8": {
      "model_module": "@jupyter-widgets/controls",
      "model_module_version": "1.5.0",
      "model_name": "VBoxModel",
      "state": {
       "children": [
        "IPY_MODEL_a9d34e6494b442788d3afab7f4201de5",
        "IPY_MODEL_c41ea6ea013a42ba9f4c94653f0d7ca9",
        "IPY_MODEL_47cf1d2c2bae4549b094f5e5a07f11c8"
       ],
       "layout": "IPY_MODEL_ac0afdc7d337447a8639197af16cda48"
      }
     },
     "b577bf4df5dc4c26a84c15dfdb8403e4": {
      "model_module": "@jupyter-widgets/controls",
      "model_module_version": "1.5.0",
      "model_name": "SliderStyleModel",
      "state": {
       "description_width": ""
      }
     },
     "b57c8cd7eb3f40b1a8588bdb5db41c5e": {
      "model_module": "@jupyter-widgets/base",
      "model_module_version": "1.2.0",
      "model_name": "LayoutModel",
      "state": {}
     },
     "b5c00e4610444940816f79b5eebf06ce": {
      "model_module": "@jupyter-widgets/controls",
      "model_module_version": "1.5.0",
      "model_name": "FloatSliderModel",
      "state": {
       "description": "135°",
       "layout": "IPY_MODEL_77cf3e3e82694f37bc1e3375bb5e7431",
       "max": 1,
       "min": -1,
       "step": 0.01,
       "style": "IPY_MODEL_8f3d5d763474475eafbbd302438bf873"
      }
     },
     "b5f340476fe14f498d1032ee1f05f9f7": {
      "model_module": "@jupyter-widgets/base",
      "model_module_version": "1.2.0",
      "model_name": "LayoutModel",
      "state": {}
     },
     "b6c207fd47b246638b9eec6483ceda4d": {
      "model_module": "@jupyter-widgets/controls",
      "model_module_version": "1.5.0",
      "model_name": "ButtonModel",
      "state": {
       "description": "Reset Exposure",
       "layout": "IPY_MODEL_d013eee5b2c14acc9ff6c95af2f1ac19",
       "style": "IPY_MODEL_f0353e511d4b4520a3d8ae75cba9b466"
      }
     },
     "b6dd12f59fc24c75a08282693b1f1cf0": {
      "model_module": "@jupyter-widgets/controls",
      "model_module_version": "1.5.0",
      "model_name": "FloatSliderModel",
      "state": {
       "description": "Exposure",
       "layout": "IPY_MODEL_68d0e2915776460ea5890df83718bf3b",
       "max": 8,
       "min": -8,
       "step": 0.1,
       "style": "IPY_MODEL_33348ecc4e5a49c684e7a7b453411390"
      }
     },
     "b7043a0b74904fd094e5d9d75a9e0396": {
      "model_module": "@jupyter-widgets/controls",
      "model_module_version": "1.5.0",
      "model_name": "ButtonModel",
      "state": {
       "description": "Reset Protected Area",
       "layout": "IPY_MODEL_59d7ca34fade4dfa8f14daf765caf9c6",
       "style": "IPY_MODEL_ce623ca2cedf4cd3acd03d2bda108b44"
      }
     },
     "b73451e7b9554e9c829e73e7f402b447": {
      "model_module": "@jupyter-widgets/controls",
      "model_module_version": "1.5.0",
      "model_name": "FloatSliderModel",
      "state": {
       "description": "90°",
       "layout": "IPY_MODEL_06b1ef34989d4910a3d947890b82578a",
       "max": 1,
       "min": -1,
       "step": 0.01,
       "style": "IPY_MODEL_554e858571ee41a4affd073a070d6b0d"
      }
     },
     "b79433997b8346ae8d6ebec046151c8d": {
      "model_module": "@jupyter-widgets/controls",
      "model_module_version": "1.5.0",
      "model_name": "ButtonStyleModel",
      "state": {}
     },
     "b7d23f7572474eb28838c84499727477": {
      "model_module": "@jupyter-widgets/base",
      "model_module_version": "1.2.0",
      "model_name": "LayoutModel",
      "state": {}
     },
     "b7e68e61549442d490893d4f1ac4be4d": {
      "model_module": "@jupyter-widgets/base",
      "model_module_version": "1.2.0",
      "model_name": "LayoutModel",
      "state": {}
     },
     "b7e730412b1140a79c80b7f94c902691": {
      "model_module": "@jupyter-widgets/base",
      "model_module_version": "1.2.0",
      "model_name": "LayoutModel",
      "state": {}
     },
     "b8033828223e49f7b8fe89d423722aa9": {
      "model_module": "@jupyter-widgets/controls",
      "model_module_version": "1.5.0",
      "model_name": "FloatSliderModel",
      "state": {
       "description": "Exposure",
       "layout": "IPY_MODEL_b5f340476fe14f498d1032ee1f05f9f7",
       "max": 8,
       "min": -8,
       "step": 0.1,
       "style": "IPY_MODEL_c05e5f7e44be47d590a6e302bfe2fc71"
      }
     },
     "b82823c47f954d229f5d9554852ede92": {
      "model_module": "@jupyter-widgets/base",
      "model_module_version": "1.2.0",
      "model_name": "LayoutModel",
      "state": {}
     },
     "b82e3f87b4d14e8db9e106732c7b2da0": {
      "model_module": "@jupyter-widgets/controls",
      "model_module_version": "1.5.0",
      "model_name": "FloatSliderModel",
      "state": {
       "description": "225°",
       "layout": "IPY_MODEL_ad6deb503696429f8fb41a0dd7c6ccd9",
       "max": 1,
       "min": -1,
       "step": 0.01,
       "style": "IPY_MODEL_cf07cf87e341480aae5d5ac3122893f8"
      }
     },
     "b85e23cee74b4f9f90720800c4e09255": {
      "model_module": "@jupyter-widgets/base",
      "model_module_version": "1.2.0",
      "model_name": "LayoutModel",
      "state": {}
     },
     "b860a0e4f16542f6ab2d203fd45b8d5b": {
      "model_module": "@jupyter-widgets/output",
      "model_module_version": "1.0.0",
      "model_name": "OutputModel",
      "state": {
       "layout": "IPY_MODEL_7b43e3fb65c547429a87705b17ce0225",
       "outputs": [
        {
         "data": {
          "application/vnd.jupyter.widget-view+json": {
           "model_id": "e3d96173d3464e81acab90c0628c36dc",
           "version_major": 2,
           "version_minor": 0
          },
          "text/plain": "Canvas(toolbar=Toolbar(toolitems=[('Home', 'Reset original view', 'home', 'home'), ('Back', 'Back to previous …"
         },
         "metadata": {},
         "output_type": "display_data"
        }
       ]
      }
     },
     "b86cfeeefac0451b94ad832bebb2f6d7": {
      "model_module": "@jupyter-widgets/base",
      "model_module_version": "1.2.0",
      "model_name": "LayoutModel",
      "state": {}
     },
     "b95cfa4459ca406ea7aad6ecab067efe": {
      "model_module": "@jupyter-widgets/controls",
      "model_module_version": "1.5.0",
      "model_name": "FloatSliderModel",
      "state": {
       "description": "Exposure",
       "layout": "IPY_MODEL_c2c45b967aed4d5c9a53c74028219613",
       "max": 8,
       "min": -8,
       "step": 0.1,
       "style": "IPY_MODEL_54bc28a9bc0a4546aecc4b4e4507e64d"
      }
     },
     "b96de9a839514dba8ae51043831a46bc": {
      "model_module": "@jupyter-widgets/controls",
      "model_module_version": "1.5.0",
      "model_name": "ButtonModel",
      "state": {
       "description": "Reset Exposure",
       "layout": "IPY_MODEL_ecd79dc8811740408aeb3f0b17e0681e",
       "style": "IPY_MODEL_f09e755166ee430c815323ccf09af0a5"
      }
     },
     "b980e9e78e414e1ba7b3b7f2f0362c44": {
      "model_module": "@jupyter-widgets/controls",
      "model_module_version": "1.5.0",
      "model_name": "FloatSliderModel",
      "state": {
       "description": "Exposure",
       "layout": "IPY_MODEL_4ff84f841cbe4a87a6763a2284b44f7b",
       "max": 8,
       "min": -8,
       "step": 0.1,
       "style": "IPY_MODEL_2fd72d8b77844735be2094f694b2eae2"
      }
     },
     "b98dd6702f3c4bce8ca3767c18f2d10e": {
      "model_module": "@jupyter-widgets/controls",
      "model_module_version": "1.5.0",
      "model_name": "FloatSliderModel",
      "state": {
       "description": "225°",
       "layout": "IPY_MODEL_8e9db13ed03241f09ae75d24613b104c",
       "max": 1,
       "min": -1,
       "step": 0.01,
       "style": "IPY_MODEL_e6addb002d9f45b6b570f014baa82bd5"
      }
     },
     "b99e848f195941f6baae24a8519a7048": {
      "model_module": "@jupyter-widgets/controls",
      "model_module_version": "1.5.0",
      "model_name": "ButtonModel",
      "state": {
       "description": "Export Image",
       "layout": "IPY_MODEL_ba303a5075374d9990628609d45c5edc",
       "style": "IPY_MODEL_6cd180963d694dc49baa967673054cac"
      }
     },
     "b9d214c08abf4d41bb5df72a4a2c92e6": {
      "model_module": "@jupyter-widgets/controls",
      "model_module_version": "1.5.0",
      "model_name": "VBoxModel",
      "state": {
       "children": [
        "IPY_MODEL_2137456d1f9e4a6a8969c0934b342e5a"
       ],
       "layout": "IPY_MODEL_1f2836bc762d4c96a28a78e10b4a3bd4"
      }
     },
     "b9e5f69ff86e40d7bd8939702d626cc8": {
      "model_module": "@jupyter-widgets/base",
      "model_module_version": "1.2.0",
      "model_name": "LayoutModel",
      "state": {}
     },
     "ba303a5075374d9990628609d45c5edc": {
      "model_module": "@jupyter-widgets/base",
      "model_module_version": "1.2.0",
      "model_name": "LayoutModel",
      "state": {}
     },
     "ba6620d939544f259b878279baee9775": {
      "model_module": "@jupyter-widgets/controls",
      "model_module_version": "1.5.0",
      "model_name": "ButtonModel",
      "state": {
       "description": "Export Image",
       "layout": "IPY_MODEL_492acf80db224f379da00cee7318f81d",
       "style": "IPY_MODEL_5758043362c44d9096f4a7a814d6cd17"
      }
     },
     "babddb88f0b844a8b5334d0f4598af4c": {
      "model_module": "@jupyter-widgets/controls",
      "model_module_version": "1.5.0",
      "model_name": "ButtonModel",
      "state": {
       "description": "Reset Saturation Controls",
       "layout": "IPY_MODEL_6b1c0df51b8440a28308a87fc8f0b260",
       "style": "IPY_MODEL_8735a70732f94ca5aef519a114193d89"
      }
     },
     "bb3c6237c19f4a7f8e26aaf842d35727": {
      "model_module": "@jupyter-widgets/controls",
      "model_module_version": "1.5.0",
      "model_name": "ButtonStyleModel",
      "state": {}
     },
     "bb7c5f52ff494b19863ca4715a0e7d5e": {
      "model_module": "@jupyter-widgets/controls",
      "model_module_version": "1.5.0",
      "model_name": "ButtonStyleModel",
      "state": {}
     },
     "bb849ac183cd4aaeaa635a282fad2a4d": {
      "model_module": "@jupyter-widgets/base",
      "model_module_version": "1.2.0",
      "model_name": "LayoutModel",
      "state": {}
     },
     "bb884810f33242e0a549cfc0d56c9ebb": {
      "model_module": "@jupyter-widgets/controls",
      "model_module_version": "1.5.0",
      "model_name": "FloatSliderModel",
      "state": {
       "description": "45°",
       "layout": "IPY_MODEL_c6ee702c67da45dc86ae893912f96e45",
       "max": 1,
       "min": -1,
       "step": 0.01,
       "style": "IPY_MODEL_b255f90f04e6497a85175378b78e519e"
      }
     },
     "bb9884e1ce004ae0b37f4f6aaf3e4d51": {
      "model_module": "@jupyter-widgets/base",
      "model_module_version": "1.2.0",
      "model_name": "LayoutModel",
      "state": {}
     },
     "bbc1bd26bee045e487bd807da045e9f6": {
      "model_module": "@jupyter-widgets/controls",
      "model_module_version": "1.5.0",
      "model_name": "ButtonStyleModel",
      "state": {}
     },
     "bbc7c581b7e241ba9a649664d80513cd": {
      "model_module": "@jupyter-widgets/base",
      "model_module_version": "1.2.0",
      "model_name": "LayoutModel",
      "state": {}
     },
     "bc0eaaff8225497cb2a128253d6c8bce": {
      "model_module": "@jupyter-widgets/controls",
      "model_module_version": "1.5.0",
      "model_name": "SliderStyleModel",
      "state": {
       "description_width": ""
      }
     },
     "bc8470d7edaf48b0bd37a3866d63a776": {
      "model_module": "@jupyter-widgets/base",
      "model_module_version": "1.2.0",
      "model_name": "LayoutModel",
      "state": {}
     },
     "bca1d28a67a34daaad59131ffbaa9ee7": {
      "model_module": "@jupyter-widgets/controls",
      "model_module_version": "1.5.0",
      "model_name": "ButtonStyleModel",
      "state": {}
     },
     "bcc6b8d7796e4269ab975530f280c522": {
      "model_module": "@jupyter-widgets/controls",
      "model_module_version": "1.5.0",
      "model_name": "SliderStyleModel",
      "state": {
       "description_width": ""
      }
     },
     "bce8c07c75f348e7b1eb2151f64b9114": {
      "model_module": "@jupyter-widgets/controls",
      "model_module_version": "1.5.0",
      "model_name": "CheckboxModel",
      "state": {
       "description": "Disable Medicina",
       "disabled": false,
       "layout": "IPY_MODEL_03ac46c6763a4a61a927fb5375a23767",
       "style": "IPY_MODEL_c83b4a0600c9466c97a6d8a1e192bfab",
       "value": false
      }
     },
     "bcec4326c1394610b874d1e231e9eb78": {
      "model_module": "@jupyter-widgets/controls",
      "model_module_version": "1.5.0",
      "model_name": "SliderStyleModel",
      "state": {
       "description_width": ""
      }
     },
     "bd4f4cb42b3a484bbf15d8c37a197ee7": {
      "model_module": "@jupyter-widgets/base",
      "model_module_version": "1.2.0",
      "model_name": "LayoutModel",
      "state": {}
     },
     "bd6ef6d94d184fcab63d6c32f2441c37": {
      "model_module": "@jupyter-widgets/controls",
      "model_module_version": "1.5.0",
      "model_name": "DropdownModel",
      "state": {
       "_options_labels": [
        "tanh",
        "atan",
        "simple"
       ],
       "description": "Compression Function:",
       "index": 0,
       "layout": "IPY_MODEL_0d2fa36146fc427a9e310b97db84a4b6",
       "style": "IPY_MODEL_3f4515f580db47d085f5feda1c461441"
      }
     },
     "bd91f05349a047f8bbc84cddcb95eb9a": {
      "model_module": "@jupyter-widgets/base",
      "model_module_version": "1.2.0",
      "model_name": "LayoutModel",
      "state": {}
     },
     "bd949a70129e498d9c61f809b5fb64a7": {
      "model_module": "@jupyter-widgets/controls",
      "model_module_version": "1.5.0",
      "model_name": "FloatSliderModel",
      "state": {
       "description": "Exposure",
       "layout": "IPY_MODEL_cc040c110aac4d368d63fdda36603ee5",
       "max": 8,
       "min": -8,
       "step": 0.1,
       "style": "IPY_MODEL_8900733d0ba24c26899c259eafdc74f0"
      }
     },
     "bdafb010b0314fcfa203818b90461ec8": {
      "model_module": "jupyter-matplotlib",
      "model_module_version": "^0.7.2",
      "model_name": "ToolbarModel",
      "state": {
       "layout": "IPY_MODEL_92d00518df134cd1b3c794a5fe66338a",
       "toolitems": [
        [
         "Home",
         "Reset original view",
         "home",
         "home"
        ],
        [
         "Back",
         "Back to previous view",
         "arrow-left",
         "back"
        ],
        [
         "Forward",
         "Forward to next view",
         "arrow-right",
         "forward"
        ],
        [
         "Pan",
         "Pan axes with left mouse, zoom with right",
         "arrows",
         "pan"
        ],
        [
         "Zoom",
         "Zoom to rectangle",
         "square-o",
         "zoom"
        ],
        [
         "Download",
         "Download plot",
         "floppy-o",
         "save_figure"
        ]
       ]
      }
     },
     "bde7822f3e4d4dbba3463b1528e2bff6": {
      "model_module": "@jupyter-widgets/controls",
      "model_module_version": "1.5.0",
      "model_name": "HBoxModel",
      "state": {
       "children": [
        "IPY_MODEL_5e149d8d9fa64bf18200630893e61e65",
        "IPY_MODEL_b09a97a220e24382a2764d67887c0bfa"
       ],
       "layout": "IPY_MODEL_d3b8629610fc4cddb42602741673ea7d"
      }
     },
     "be7a0267acea4ce8b0de66003170589f": {
      "model_module": "@jupyter-widgets/base",
      "model_module_version": "1.2.0",
      "model_name": "LayoutModel",
      "state": {}
     },
     "bf0bd477b80044b7b6907d5b83b280eb": {
      "model_module": "@jupyter-widgets/controls",
      "model_module_version": "1.5.0",
      "model_name": "HBoxModel",
      "state": {
       "children": [
        "IPY_MODEL_5be12373db064839b92610cd58f9759e",
        "IPY_MODEL_9cf26f72f50544a99b07306f0049b31e",
        "IPY_MODEL_78d600a0e0a34be6bdab091adae08ea8",
        "IPY_MODEL_cf9857bc309142afa704664768657a1f"
       ],
       "layout": "IPY_MODEL_da3d5dbd4c314be7a772e9ecb66d09d9"
      }
     },
     "bf4e5109883443059b15209343ddaa5f": {
      "model_module": "@jupyter-widgets/controls",
      "model_module_version": "1.5.0",
      "model_name": "HBoxModel",
      "state": {
       "children": [
        "IPY_MODEL_a8f2498c3d2f4fc7bf1f5babf452754b",
        "IPY_MODEL_e49d5d1042104e099a356a142f265439"
       ],
       "layout": "IPY_MODEL_f0c4a9773ec1479fb0ceebc063fb9319"
      }
     },
     "bf7d1c6cc7e24c5ea9391fdf0a7a1057": {
      "model_module": "@jupyter-widgets/controls",
      "model_module_version": "1.5.0",
      "model_name": "ButtonStyleModel",
      "state": {}
     },
     "bfc6e44f2e894e9c9d32c8a2306ed926": {
      "model_module": "@jupyter-widgets/base",
      "model_module_version": "1.2.0",
      "model_name": "LayoutModel",
      "state": {}
     },
     "bfe347a0f6e9412aa629d9b383e274fd": {
      "model_module": "@jupyter-widgets/controls",
      "model_module_version": "1.5.0",
      "model_name": "FloatSliderModel",
      "state": {
       "description": "315°",
       "layout": "IPY_MODEL_da0617860bf3417cacceb7a4cbb68000",
       "max": 1,
       "min": -1,
       "step": 0.01,
       "style": "IPY_MODEL_a6642c6d74974ef8aa730126d20cd401"
      }
     },
     "bfe811878dd94f4d869816503a2e26f3": {
      "model_module": "@jupyter-widgets/controls",
      "model_module_version": "1.5.0",
      "model_name": "SliderStyleModel",
      "state": {
       "description_width": ""
      }
     },
     "bff7e75828a34a0ca102eb56478224d9": {
      "model_module": "@jupyter-widgets/base",
      "model_module_version": "1.2.0",
      "model_name": "LayoutModel",
      "state": {}
     },
     "c03c8ec849544990a8c8aaa44fe56344": {
      "model_module": "@jupyter-widgets/controls",
      "model_module_version": "1.5.0",
      "model_name": "FloatSliderModel",
      "state": {
       "description": "135°",
       "layout": "IPY_MODEL_992061d63100483689079aea2897ad89",
       "max": 1,
       "min": -1,
       "step": 0.01,
       "style": "IPY_MODEL_fc31ad53ba51423f880d7a00c6b75173"
      }
     },
     "c03ca69fded04256832ae1144057e2f4": {
      "model_module": "@jupyter-widgets/controls",
      "model_module_version": "1.5.0",
      "model_name": "FloatSliderModel",
      "state": {
       "description": "180°",
       "layout": "IPY_MODEL_f8f46b4a386f4112ae54ff285cffa863",
       "max": 1,
       "min": -1,
       "step": 0.01,
       "style": "IPY_MODEL_48ba49af499d4d44be9845d32a1040b8"
      }
     },
     "c0430351c8dc461daa0ce07a2564b893": {
      "model_module": "@jupyter-widgets/base",
      "model_module_version": "1.2.0",
      "model_name": "LayoutModel",
      "state": {}
     },
     "c05e5f7e44be47d590a6e302bfe2fc71": {
      "model_module": "@jupyter-widgets/controls",
      "model_module_version": "1.5.0",
      "model_name": "SliderStyleModel",
      "state": {
       "description_width": ""
      }
     },
     "c0b0af37de3b4cdca5ee6e94dbd3e683": {
      "model_module": "@jupyter-widgets/controls",
      "model_module_version": "1.5.0",
      "model_name": "ButtonModel",
      "state": {
       "description": "Export Image",
       "layout": "IPY_MODEL_9e6f24e410b9417c974106b4fe843e9a",
       "style": "IPY_MODEL_9b29f9085ebe4394b6d469f9b24ec9a2"
      }
     },
     "c0cdc7480dc44c89a635d6115d243670": {
      "model_module": "@jupyter-widgets/base",
      "model_module_version": "1.2.0",
      "model_name": "LayoutModel",
      "state": {
       "border": "solid 4px #222",
       "margin": "4px",
       "padding": "0"
      }
     },
     "c10979c1a6e44efd8bb19d3fcafccfb6": {
      "model_module": "@jupyter-widgets/controls",
      "model_module_version": "1.5.0",
      "model_name": "SliderStyleModel",
      "state": {
       "description_width": ""
      }
     },
     "c16bb50641534a8ba30d61238efd5ca7": {
      "model_module": "@jupyter-widgets/controls",
      "model_module_version": "1.5.0",
      "model_name": "ButtonStyleModel",
      "state": {}
     },
     "c16e7707d521466797daaa4c7d95c0b1": {
      "model_module": "@jupyter-widgets/controls",
      "model_module_version": "1.5.0",
      "model_name": "ButtonStyleModel",
      "state": {}
     },
     "c18353ec768b426093e26ff106546e86": {
      "model_module": "jupyter-matplotlib",
      "model_module_version": "^0.7.2",
      "model_name": "ToolbarModel",
      "state": {
       "layout": "IPY_MODEL_a9309eddee6846478670f4c6e7f32d9d",
       "toolitems": [
        [
         "Home",
         "Reset original view",
         "home",
         "home"
        ],
        [
         "Back",
         "Back to previous view",
         "arrow-left",
         "back"
        ],
        [
         "Forward",
         "Forward to next view",
         "arrow-right",
         "forward"
        ],
        [
         "Pan",
         "Pan axes with left mouse, zoom with right",
         "arrows",
         "pan"
        ],
        [
         "Zoom",
         "Zoom to rectangle",
         "square-o",
         "zoom"
        ],
        [
         "Download",
         "Download plot",
         "floppy-o",
         "save_figure"
        ]
       ]
      }
     },
     "c1c5fded34fe436a9eaacbabfd197a17": {
      "model_module": "@jupyter-widgets/controls",
      "model_module_version": "1.5.0",
      "model_name": "FloatSliderModel",
      "state": {
       "description": "Compression Threshold",
       "layout": "IPY_MODEL_e8033599a29d4193a8be288b09db84fa",
       "max": 1,
       "step": 0.01,
       "style": "IPY_MODEL_8d042917593544309f2f7b1ee422b28e",
       "value": 0.8
      }
     },
     "c21f01adf3174451b987d21dc1d2d29e": {
      "model_module": "@jupyter-widgets/base",
      "model_module_version": "1.2.0",
      "model_name": "LayoutModel",
      "state": {}
     },
     "c233577f59de455b9d9f4c1a2cd4e3e7": {
      "model_module": "@jupyter-widgets/base",
      "model_module_version": "1.2.0",
      "model_name": "LayoutModel",
      "state": {}
     },
     "c262821a8d1a4b3080428af00b34bbdc": {
      "model_module": "@jupyter-widgets/base",
      "model_module_version": "1.2.0",
      "model_name": "LayoutModel",
      "state": {}
     },
     "c27820b78979454094f3ee77c3723762": {
      "model_module": "@jupyter-widgets/controls",
      "model_module_version": "1.5.0",
      "model_name": "SliderStyleModel",
      "state": {
       "description_width": ""
      }
     },
     "c28862a97a8241ab9c877413ba185b65": {
      "model_module": "@jupyter-widgets/controls",
      "model_module_version": "1.5.0",
      "model_name": "DescriptionStyleModel",
      "state": {
       "description_width": ""
      }
     },
     "c2a14b4bf2bf46dd8ef1af66f0b1ce3c": {
      "model_module": "@jupyter-widgets/controls",
      "model_module_version": "1.5.0",
      "model_name": "HBoxModel",
      "state": {
       "children": [
        "IPY_MODEL_babddb88f0b844a8b5334d0f4598af4c",
        "IPY_MODEL_5ffeb4f2acbb4723b317e34de73a2062",
        "IPY_MODEL_f8171eeab1fe4ab689e03e071145d63c"
       ],
       "layout": "IPY_MODEL_df523ef3388d403fa261b82e73bbe080"
      }
     },
     "c2a89d9e19934b14a2ec6040ee3f89b8": {
      "model_module": "@jupyter-widgets/base",
      "model_module_version": "1.2.0",
      "model_name": "LayoutModel",
      "state": {}
     },
     "c2bcc0aa2bfe41b5926f077d3b4699e8": {
      "model_module": "@jupyter-widgets/base",
      "model_module_version": "1.2.0",
      "model_name": "LayoutModel",
      "state": {}
     },
     "c2c45b967aed4d5c9a53c74028219613": {
      "model_module": "@jupyter-widgets/base",
      "model_module_version": "1.2.0",
      "model_name": "LayoutModel",
      "state": {}
     },
     "c30fd2f189c744568f401c5ab8531dd8": {
      "model_module": "@jupyter-widgets/controls",
      "model_module_version": "1.5.0",
      "model_name": "DropdownModel",
      "state": {
       "_options_labels": [
        "tanh",
        "atan",
        "simple"
       ],
       "description": "Compression Function:",
       "index": 0,
       "layout": "IPY_MODEL_cc3e5907850544bb88e0f3ce45a4bac8",
       "style": "IPY_MODEL_948a20e53c3342eca0bb450e94c6b3b0"
      }
     },
     "c3eb47c8c8e14770bb71b9603af6ad3f": {
      "model_module": "@jupyter-widgets/controls",
      "model_module_version": "1.5.0",
      "model_name": "BoxModel",
      "state": {
       "children": [
        "IPY_MODEL_b860a0e4f16542f6ab2d203fd45b8d5b",
        "IPY_MODEL_f3b2cc7d4af74eabaea22483cd7342bb"
       ],
       "layout": "IPY_MODEL_83c811ea0240446b9b7f61f95afdb059"
      }
     },
     "c40907cce5b74ec08128e29bb4403d3b": {
      "model_module": "@jupyter-widgets/controls",
      "model_module_version": "1.5.0",
      "model_name": "FloatSliderModel",
      "state": {
       "description": "90°",
       "layout": "IPY_MODEL_ec1a65c44612461ea791e46ef1ec8767",
       "max": 1,
       "min": -1,
       "step": 0.01,
       "style": "IPY_MODEL_2010013de8f1481e9cbc9d4006abc1ae"
      }
     },
     "c41ea6ea013a42ba9f4c94653f0d7ca9": {
      "model_module": "@jupyter-widgets/controls",
      "model_module_version": "1.5.0",
      "model_name": "FloatSliderModel",
      "state": {
       "description": "180°",
       "layout": "IPY_MODEL_9c1998b3ead94eeaadc9546c431e618c",
       "max": 1,
       "min": -1,
       "step": 0.01,
       "style": "IPY_MODEL_b4fe1ecd16b04e7bb994697d9854d768"
      }
     },
     "c42229dbea914f3caaf82983aed32c64": {
      "model_module": "@jupyter-widgets/base",
      "model_module_version": "1.2.0",
      "model_name": "LayoutModel",
      "state": {}
     },
     "c4232725c273465ab6d6e384ff1dfcdc": {
      "model_module": "@jupyter-widgets/base",
      "model_module_version": "1.2.0",
      "model_name": "LayoutModel",
      "state": {}
     },
     "c43bacb03c47476882378735ae542190": {
      "model_module": "@jupyter-widgets/base",
      "model_module_version": "1.2.0",
      "model_name": "LayoutModel",
      "state": {}
     },
     "c45b8ee919cd4e3ab6c8d453b4b9a0f1": {
      "model_module": "@jupyter-widgets/base",
      "model_module_version": "1.2.0",
      "model_name": "LayoutModel",
      "state": {}
     },
     "c462572bc3df47ae85f6564227e4010f": {
      "model_module": "@jupyter-widgets/controls",
      "model_module_version": "1.5.0",
      "model_name": "FloatSliderModel",
      "state": {
       "description": "Compression Threshold",
       "layout": "IPY_MODEL_b4b46635d6bc424c9ca4b562be1c60c7",
       "max": 1,
       "step": 0.01,
       "style": "IPY_MODEL_8e35afdf255e41709ad6936dfeb3831d",
       "value": 0.8
      }
     },
     "c484941cc21c4180aa7e98b187939e6f": {
      "model_module": "@jupyter-widgets/base",
      "model_module_version": "1.2.0",
      "model_name": "LayoutModel",
      "state": {
       "border": "solid 4px #222",
       "margin": "4px",
       "padding": "0"
      }
     },
     "c486ebbdcd544658b131484f92bcf8c9": {
      "model_module": "@jupyter-widgets/base",
      "model_module_version": "1.2.0",
      "model_name": "LayoutModel",
      "state": {}
     },
     "c4a9e83264a24c6087a150d523547666": {
      "model_module": "@jupyter-widgets/base",
      "model_module_version": "1.2.0",
      "model_name": "LayoutModel",
      "state": {}
     },
     "c4bd1cbbd9df4dc387d3a129dfe3288f": {
      "model_module": "@jupyter-widgets/base",
      "model_module_version": "1.2.0",
      "model_name": "LayoutModel",
      "state": {}
     },
     "c4df9226fe6e4474b1c534208182c25c": {
      "model_module": "@jupyter-widgets/base",
      "model_module_version": "1.2.0",
      "model_name": "LayoutModel",
      "state": {}
     },
     "c4f511dca2f046fba30b2b9bbdb56435": {
      "model_module": "@jupyter-widgets/base",
      "model_module_version": "1.2.0",
      "model_name": "LayoutModel",
      "state": {}
     },
     "c513309d54904b5e94fd23d96bf26db9": {
      "model_module": "@jupyter-widgets/base",
      "model_module_version": "1.2.0",
      "model_name": "LayoutModel",
      "state": {}
     },
     "c555cc89b07f47baa2ba077e2896378a": {
      "model_module": "@jupyter-widgets/controls",
      "model_module_version": "1.5.0",
      "model_name": "DropdownModel",
      "state": {
       "_options_labels": [
        "tanh",
        "atan",
        "simple"
       ],
       "description": "Compression Function:",
       "index": 0,
       "layout": "IPY_MODEL_7042a06f03634a90a815019ffef17482",
       "style": "IPY_MODEL_662ce6fe17454e6eab4465ff7b6e5a29"
      }
     },
     "c55e767e21c34692917ae8dc1d2fcdc1": {
      "model_module": "@jupyter-widgets/controls",
      "model_module_version": "1.5.0",
      "model_name": "ButtonStyleModel",
      "state": {}
     },
     "c59f2c1bc33e455995d232deaf7db28f": {
      "model_module": "@jupyter-widgets/base",
      "model_module_version": "1.2.0",
      "model_name": "LayoutModel",
      "state": {
       "align_items": "stretch",
       "display": "flex",
       "flex_flow": "column",
       "width": "1128px"
      }
     },
     "c5a9b8766c064c41af92a4700fe68253": {
      "model_module": "@jupyter-widgets/controls",
      "model_module_version": "1.5.0",
      "model_name": "FloatSliderModel",
      "state": {
       "description": "Exposure",
       "layout": "IPY_MODEL_3a33307f795f46e9bcd43338517b9704",
       "max": 8,
       "min": -8,
       "step": 0.1,
       "style": "IPY_MODEL_29965e0367834a7f88204ab7dee1426c"
      }
     },
     "c5f2f2287a5c4d18aaff1b4dd276fca6": {
      "model_module": "@jupyter-widgets/controls",
      "model_module_version": "1.5.0",
      "model_name": "TabModel",
      "state": {
       "_titles": {
        "0": "Global Controls"
       },
       "children": [
        "IPY_MODEL_52d8f4af245541f7b95e86d3cf9e1b5f"
       ],
       "layout": "IPY_MODEL_c484941cc21c4180aa7e98b187939e6f"
      }
     },
     "c613337fdd8649769ef05ffba989e1dd": {
      "model_module": "@jupyter-widgets/base",
      "model_module_version": "1.2.0",
      "model_name": "LayoutModel",
      "state": {}
     },
     "c61529823de64c928c084debf17ad8b2": {
      "model_module": "@jupyter-widgets/base",
      "model_module_version": "1.2.0",
      "model_name": "LayoutModel",
      "state": {}
     },
     "c61e200a6d004189b0ac72a0468e3eb4": {
      "model_module": "@jupyter-widgets/controls",
      "model_module_version": "1.5.0",
      "model_name": "ButtonStyleModel",
      "state": {}
     },
     "c669486c8bd14d6d9d9da39ef157457f": {
      "model_module": "@jupyter-widgets/base",
      "model_module_version": "1.2.0",
      "model_name": "LayoutModel",
      "state": {}
     },
     "c674999f6cd6425594b593cf7725e429": {
      "model_module": "@jupyter-widgets/base",
      "model_module_version": "1.2.0",
      "model_name": "LayoutModel",
      "state": {}
     },
     "c699e84e8c3b43afb3a12bd8150f82bc": {
      "model_module": "@jupyter-widgets/base",
      "model_module_version": "1.2.0",
      "model_name": "LayoutModel",
      "state": {}
     },
     "c6b6577fe2394a5c843f72bb2e3a599e": {
      "model_module": "@jupyter-widgets/base",
      "model_module_version": "1.2.0",
      "model_name": "LayoutModel",
      "state": {}
     },
     "c6b9a7ed050a4bb0a4ff1ee06bbbb413": {
      "model_module": "@jupyter-widgets/controls",
      "model_module_version": "1.5.0",
      "model_name": "DescriptionStyleModel",
      "state": {
       "description_width": ""
      }
     },
     "c6d3d7ae8e7d48fc94a3b433e676a0de": {
      "model_module": "@jupyter-widgets/controls",
      "model_module_version": "1.5.0",
      "model_name": "ButtonStyleModel",
      "state": {}
     },
     "c6d5d766babb449dad10195a22fdae49": {
      "model_module": "@jupyter-widgets/base",
      "model_module_version": "1.2.0",
      "model_name": "LayoutModel",
      "state": {}
     },
     "c6ee702c67da45dc86ae893912f96e45": {
      "model_module": "@jupyter-widgets/base",
      "model_module_version": "1.2.0",
      "model_name": "LayoutModel",
      "state": {}
     },
     "c6f41368af9644dda993bd9c693c36a7": {
      "model_module": "@jupyter-widgets/output",
      "model_module_version": "1.0.0",
      "model_name": "OutputModel",
      "state": {
       "layout": "IPY_MODEL_0d94df8ba50b4a058e3d76010b164171",
       "outputs": [
        {
         "data": {
          "application/vnd.jupyter.widget-view+json": {
           "model_id": "95eefe08f62b4621a2e91e93b1a6a17c",
           "version_major": 2,
           "version_minor": 0
          },
          "text/plain": "Canvas(toolbar=Toolbar(toolitems=[('Home', 'Reset original view', 'home', 'home'), ('Back', 'Back to previous …"
         },
         "metadata": {},
         "output_type": "display_data"
        }
       ]
      }
     },
     "c709d09fa2ae440b92495678e65faf69": {
      "model_module": "@jupyter-widgets/base",
      "model_module_version": "1.2.0",
      "model_name": "LayoutModel",
      "state": {}
     },
     "c721c7aafb334ab2b3710e7f88c27650": {
      "model_module": "@jupyter-widgets/base",
      "model_module_version": "1.2.0",
      "model_name": "LayoutModel",
      "state": {}
     },
     "c735d4b5d4ea4434a75b55d6ef071ef7": {
      "model_module": "@jupyter-widgets/base",
      "model_module_version": "1.2.0",
      "model_name": "LayoutModel",
      "state": {}
     },
     "c7a5d257ad78481ba6b03d120df9f369": {
      "model_module": "@jupyter-widgets/controls",
      "model_module_version": "1.5.0",
      "model_name": "HBoxModel",
      "state": {
       "children": [
        "IPY_MODEL_0265ec33fc7146738c9a20f76ca6d878",
        "IPY_MODEL_885b4f75fe6d4556b26601792b49a42a",
        "IPY_MODEL_9fc1b84cc5614e1681d84a03e4924f9c",
        "IPY_MODEL_f909908573d040879c0aded42bb1b206"
       ],
       "layout": "IPY_MODEL_393bebf806574a0f9e250683048c186b"
      }
     },
     "c7a7cbc17f8e409f9bce4a3ea4130bcc": {
      "model_module": "@jupyter-widgets/base",
      "model_module_version": "1.2.0",
      "model_name": "LayoutModel",
      "state": {}
     },
     "c7ad324ad7d849b7a8696c5f983ab2e1": {
      "model_module": "@jupyter-widgets/controls",
      "model_module_version": "1.5.0",
      "model_name": "DescriptionStyleModel",
      "state": {
       "description_width": ""
      }
     },
     "c7d657559d234e6faedb2dc257320072": {
      "model_module": "@jupyter-widgets/controls",
      "model_module_version": "1.5.0",
      "model_name": "ButtonModel",
      "state": {
       "description": "Export Image",
       "layout": "IPY_MODEL_d17859cf91e648ceae4c347da88a14e5",
       "style": "IPY_MODEL_f89b34808f3542c9828e6c63751aa891"
      }
     },
     "c7db6be2c9074a3085c5a4cf2fc5a22d": {
      "model_module": "@jupyter-widgets/base",
      "model_module_version": "1.2.0",
      "model_name": "LayoutModel",
      "state": {}
     },
     "c7f75166cfa245a5803a41286893982f": {
      "model_module": "jupyter-matplotlib",
      "model_module_version": "^0.7.2",
      "model_name": "ToolbarModel",
      "state": {
       "layout": "IPY_MODEL_d620398ea93344f8a64fadc2fadfd1eb",
       "toolitems": [
        [
         "Home",
         "Reset original view",
         "home",
         "home"
        ],
        [
         "Back",
         "Back to previous view",
         "arrow-left",
         "back"
        ],
        [
         "Forward",
         "Forward to next view",
         "arrow-right",
         "forward"
        ],
        [
         "Pan",
         "Pan axes with left mouse, zoom with right",
         "arrows",
         "pan"
        ],
        [
         "Zoom",
         "Zoom to rectangle",
         "square-o",
         "zoom"
        ],
        [
         "Download",
         "Download plot",
         "floppy-o",
         "save_figure"
        ]
       ]
      }
     },
     "c81b721eaa05458d93d2b31bf3428b8a": {
      "model_module": "@jupyter-widgets/controls",
      "model_module_version": "1.5.0",
      "model_name": "SliderStyleModel",
      "state": {
       "description_width": ""
      }
     },
     "c82994e1788d47119b053700242a1162": {
      "model_module": "@jupyter-widgets/controls",
      "model_module_version": "1.5.0",
      "model_name": "FloatSliderModel",
      "state": {
       "description": "270°",
       "layout": "IPY_MODEL_b3ef81245f7f42f2ae5bb30d55b5b7d0",
       "max": 1,
       "min": -1,
       "step": 0.01,
       "style": "IPY_MODEL_375195253c91430c9fd53794a9f195db"
      }
     },
     "c83b4a0600c9466c97a6d8a1e192bfab": {
      "model_module": "@jupyter-widgets/controls",
      "model_module_version": "1.5.0",
      "model_name": "DescriptionStyleModel",
      "state": {
       "description_width": ""
      }
     },
     "c842b8db84c14f4587c077233ab0454f": {
      "model_module": "@jupyter-widgets/base",
      "model_module_version": "1.2.0",
      "model_name": "LayoutModel",
      "state": {}
     },
     "c8570a3aceaf42749ab2c51c6fd4b06e": {
      "model_module": "@jupyter-widgets/controls",
      "model_module_version": "1.5.0",
      "model_name": "DropdownModel",
      "state": {
       "_options_labels": [
        "tanh",
        "atan",
        "simple"
       ],
       "description": "Compression Function:",
       "index": 0,
       "layout": "IPY_MODEL_185213d93f9248ae8d9c1530d818f961",
       "style": "IPY_MODEL_d609992e930342b4825b7fe2fe9d1d37"
      }
     },
     "c8952d00f0574c59beb8e406aa25c0d9": {
      "model_module": "@jupyter-widgets/base",
      "model_module_version": "1.2.0",
      "model_name": "LayoutModel",
      "state": {}
     },
     "c8fe04229cd8455d953c1fab969ec7e4": {
      "model_module": "@jupyter-widgets/controls",
      "model_module_version": "1.5.0",
      "model_name": "CheckboxModel",
      "state": {
       "description": "Disable Medicina",
       "disabled": false,
       "layout": "IPY_MODEL_58a355a59f32405384cf2921e77d659f",
       "style": "IPY_MODEL_5171e279ee6f44108b43a1345efc7fc4",
       "value": false
      }
     },
     "c913d5382634487aaeabcaff353f121a": {
      "model_module": "@jupyter-widgets/base",
      "model_module_version": "1.2.0",
      "model_name": "LayoutModel",
      "state": {
       "border": "solid 4px #222",
       "margin": "4px",
       "padding": "0"
      }
     },
     "c926fcb235594d80be0a0384a468fa19": {
      "model_module": "@jupyter-widgets/base",
      "model_module_version": "1.2.0",
      "model_name": "LayoutModel",
      "state": {}
     },
     "c927305cc8cf42d99253a6013ba6ef48": {
      "model_module": "@jupyter-widgets/controls",
      "model_module_version": "1.5.0",
      "model_name": "FloatSliderModel",
      "state": {
       "description": "135°",
       "layout": "IPY_MODEL_2dd68de4c2b0456e91a86cacc4c881b4",
       "max": 1,
       "min": -1,
       "step": 0.01,
       "style": "IPY_MODEL_636257e9beb14017aeb5200a9eae2bc7"
      }
     },
     "c92caaaf1a774195bc201534efffee98": {
      "model_module": "@jupyter-widgets/base",
      "model_module_version": "1.2.0",
      "model_name": "LayoutModel",
      "state": {}
     },
     "c92f8397e117408a9aee057b4568a5c0": {
      "model_module": "@jupyter-widgets/controls",
      "model_module_version": "1.5.0",
      "model_name": "FloatSliderModel",
      "state": {
       "description": "45°",
       "layout": "IPY_MODEL_65d91dd77d2d43938e49e4cd181bf4ee",
       "max": 1,
       "min": -1,
       "step": 0.01,
       "style": "IPY_MODEL_62b2afc6b895465fb5568862bce19c43"
      }
     },
     "c95df10d8b144b12af3ed853fb083b7d": {
      "model_module": "@jupyter-widgets/base",
      "model_module_version": "1.2.0",
      "model_name": "LayoutModel",
      "state": {}
     },
     "c9791527f9d3473ca13523626155b565": {
      "model_module": "@jupyter-widgets/controls",
      "model_module_version": "1.5.0",
      "model_name": "FloatSliderModel",
      "state": {
       "description": "270°",
       "layout": "IPY_MODEL_f03149991ea04aab96f67d07d3ab5f06",
       "max": 1,
       "min": -1,
       "step": 0.01,
       "style": "IPY_MODEL_522a86e4a63c420186ede9d71603c897"
      }
     },
     "c99bb4ce74564d9990038de326e7624d": {
      "model_module": "@jupyter-widgets/base",
      "model_module_version": "1.2.0",
      "model_name": "LayoutModel",
      "state": {}
     },
     "c9aa191eba364131a43428389e5258ed": {
      "model_module": "@jupyter-widgets/controls",
      "model_module_version": "1.5.0",
      "model_name": "BoxModel",
      "state": {
       "children": [
        "IPY_MODEL_e6c63493521d46c1ab7da5eb49310b02",
        "IPY_MODEL_df566a75811a403a80aaa6110babd428"
       ],
       "layout": "IPY_MODEL_321612a588e84046a76cb1fdee804b30"
      }
     },
     "c9d3e24f92ef4181939b934cb1915be2": {
      "model_module": "@jupyter-widgets/base",
      "model_module_version": "1.2.0",
      "model_name": "LayoutModel",
      "state": {}
     },
     "c9e047e2726f473e8c28486eebed1fdd": {
      "model_module": "@jupyter-widgets/base",
      "model_module_version": "1.2.0",
      "model_name": "LayoutModel",
      "state": {}
     },
     "c9edc6b8f914439e980af8bcac19cac0": {
      "model_module": "@jupyter-widgets/base",
      "model_module_version": "1.2.0",
      "model_name": "LayoutModel",
      "state": {}
     },
     "ca37f56f5ca74d418b61adb1fce3c618": {
      "model_module": "@jupyter-widgets/controls",
      "model_module_version": "1.5.0",
      "model_name": "ButtonModel",
      "state": {
       "description": "Save Figure",
       "layout": "IPY_MODEL_f5dd2e3b15fe483694b5a4f70f88dc2c",
       "style": "IPY_MODEL_c16e7707d521466797daaa4c7d95c0b1"
      }
     },
     "ca8d75c4d80143798711e550b66b6e12": {
      "model_module": "@jupyter-widgets/base",
      "model_module_version": "1.2.0",
      "model_name": "LayoutModel",
      "state": {}
     },
     "ca9982acc5954561b2ddcb879996f282": {
      "model_module": "@jupyter-widgets/controls",
      "model_module_version": "1.5.0",
      "model_name": "ButtonModel",
      "state": {
       "description": "Save Figure",
       "layout": "IPY_MODEL_dfb6c3439abe419881ddcad87f0e56f0",
       "style": "IPY_MODEL_28393afc4c664a67ad5d3bdb62fda0d7"
      }
     },
     "caa2e1c622e24b53a22147ea8a6c713e": {
      "model_module": "@jupyter-widgets/output",
      "model_module_version": "1.0.0",
      "model_name": "OutputModel",
      "state": {
       "layout": "IPY_MODEL_9dfe319a0d464220aecd08eef9ba3015",
       "outputs": [
        {
         "data": {
          "application/vnd.jupyter.widget-view+json": {
           "model_id": "ebf47efe8d624ebba2a78ecf693603e8",
           "version_major": 2,
           "version_minor": 0
          },
          "text/plain": "Canvas(toolbar=Toolbar(toolitems=[('Home', 'Reset original view', 'home', 'home'), ('Back', 'Back to previous …"
         },
         "metadata": {},
         "output_type": "display_data"
        }
       ]
      }
     },
     "cb1eb4bba1324caaae3a6b2097cd5192": {
      "model_module": "@jupyter-widgets/base",
      "model_module_version": "1.2.0",
      "model_name": "LayoutModel",
      "state": {}
     },
     "cb603a555e7943eca8010718c43e72dc": {
      "model_module": "@jupyter-widgets/controls",
      "model_module_version": "1.5.0",
      "model_name": "CheckboxModel",
      "state": {
       "description": "Disable Medicina",
       "disabled": false,
       "layout": "IPY_MODEL_f7eaafa9cee74c9d8ee5722a7ffa7cbc",
       "style": "IPY_MODEL_f3a517b0d8e74dd79a3db96d3236978c",
       "value": false
      }
     },
     "cb7b4d590d5742b880f1733eb3bd5e8e": {
      "model_module": "@jupyter-widgets/base",
      "model_module_version": "1.2.0",
      "model_name": "LayoutModel",
      "state": {}
     },
     "cbeb8030a5a9498b879a9ea9d5603ba9": {
      "model_module": "@jupyter-widgets/base",
      "model_module_version": "1.2.0",
      "model_name": "LayoutModel",
      "state": {}
     },
     "cc040c110aac4d368d63fdda36603ee5": {
      "model_module": "@jupyter-widgets/base",
      "model_module_version": "1.2.0",
      "model_name": "LayoutModel",
      "state": {}
     },
     "cc1c0eb818684aaf873671760ff624c9": {
      "model_module": "@jupyter-widgets/controls",
      "model_module_version": "1.5.0",
      "model_name": "ButtonStyleModel",
      "state": {}
     },
     "cc2fad16477c436fa0cd7c97a043c3d8": {
      "model_module": "@jupyter-widgets/controls",
      "model_module_version": "1.5.0",
      "model_name": "HBoxModel",
      "state": {
       "children": [
        "IPY_MODEL_950332d7bc6149f0b4001350b2de0f22",
        "IPY_MODEL_0dcae50fcd774941a8ef123add23f4b6",
        "IPY_MODEL_07bbb503a28f4f54b3874264c3252a07"
       ],
       "layout": "IPY_MODEL_29ed56351ece47148ccbfab180dbd8ce"
      }
     },
     "cc3e5907850544bb88e0f3ce45a4bac8": {
      "model_module": "@jupyter-widgets/base",
      "model_module_version": "1.2.0",
      "model_name": "LayoutModel",
      "state": {}
     },
     "cc74ae0be327476eae8bcc436b0761b4": {
      "model_module": "@jupyter-widgets/base",
      "model_module_version": "1.2.0",
      "model_name": "LayoutModel",
      "state": {}
     },
     "cca4c9b020a04cce9e2d97a3c18b3f63": {
      "model_module": "@jupyter-widgets/controls",
      "model_module_version": "1.5.0",
      "model_name": "ButtonModel",
      "state": {
       "description": "Reset Exposure",
       "layout": "IPY_MODEL_7ab91f7bd14044d3b4e99edc2f66482d",
       "style": "IPY_MODEL_d1c64f0116fc4abd9fe5813380c5ce7c"
      }
     },
     "ccbdc62ba4974472b4fc56e26209bff1": {
      "model_module": "@jupyter-widgets/controls",
      "model_module_version": "1.5.0",
      "model_name": "HBoxModel",
      "state": {
       "children": [
        "IPY_MODEL_78636a5702814e34a6a543de85fff470",
        "IPY_MODEL_3b0b1fb7d2cd4a2bae4f657679d05f95",
        "IPY_MODEL_0e92c362e029428c9831325420364877",
        "IPY_MODEL_a617ecf0ed5d465f8367febe1e68cb29"
       ],
       "layout": "IPY_MODEL_9be33d7d3cec4d5c8bb97edf6d1f0553"
      }
     },
     "cce9614bc6334fc0a07b444d412f6cdf": {
      "model_module": "@jupyter-widgets/base",
      "model_module_version": "1.2.0",
      "model_name": "LayoutModel",
      "state": {}
     },
     "cd0049307c404335b84d464dfeef69f9": {
      "model_module": "@jupyter-widgets/base",
      "model_module_version": "1.2.0",
      "model_name": "LayoutModel",
      "state": {}
     },
     "cd34d55d0931444ba8d915cac35c4282": {
      "model_module": "@jupyter-widgets/controls",
      "model_module_version": "1.5.0",
      "model_name": "DescriptionStyleModel",
      "state": {
       "description_width": ""
      }
     },
     "cd3f1f22d13a4f69bec6e80743ec12b2": {
      "model_module": "@jupyter-widgets/base",
      "model_module_version": "1.2.0",
      "model_name": "LayoutModel",
      "state": {}
     },
     "cd420360f3704474b832b1551c80ccec": {
      "model_module": "@jupyter-widgets/base",
      "model_module_version": "1.2.0",
      "model_name": "LayoutModel",
      "state": {}
     },
     "cd48daf7bd4145cca76161b66c86d08c": {
      "model_module": "@jupyter-widgets/base",
      "model_module_version": "1.2.0",
      "model_name": "LayoutModel",
      "state": {}
     },
     "cd5881eebb29422ca320ff4d0b9c3b5a": {
      "model_module": "@jupyter-widgets/controls",
      "model_module_version": "1.5.0",
      "model_name": "SliderStyleModel",
      "state": {
       "description_width": ""
      }
     },
     "cd643740157844698ad68413b2b05124": {
      "model_module": "@jupyter-widgets/controls",
      "model_module_version": "1.5.0",
      "model_name": "FloatSliderModel",
      "state": {
       "description": "0°",
       "layout": "IPY_MODEL_d7398c752d524c0895aaf3124f6acb88",
       "max": 1,
       "min": -1,
       "step": 0.01,
       "style": "IPY_MODEL_d0fc7aeace254a06b30aab44c05b22da"
      }
     },
     "cd65f292ddb0439f8f37bf1b0dfd2d33": {
      "model_module": "@jupyter-widgets/base",
      "model_module_version": "1.2.0",
      "model_name": "LayoutModel",
      "state": {}
     },
     "cd77ab9c5539496a81d2f7384c4c095b": {
      "model_module": "@jupyter-widgets/base",
      "model_module_version": "1.2.0",
      "model_name": "LayoutModel",
      "state": {}
     },
     "cdc969e336284869acafd2edb70724a0": {
      "model_module": "@jupyter-widgets/controls",
      "model_module_version": "1.5.0",
      "model_name": "ButtonStyleModel",
      "state": {}
     },
     "cde921d4b5374564ba267fb725ce197d": {
      "model_module": "@jupyter-widgets/controls",
      "model_module_version": "1.5.0",
      "model_name": "ButtonModel",
      "state": {
       "description": "Reset Exposure",
       "layout": "IPY_MODEL_2f74fbc6ac564539b916101afee4fb28",
       "style": "IPY_MODEL_d4dd897be81c430d9c27e6d3967c1804"
      }
     },
     "ce584b6420864b44be9d67ccc12c13f9": {
      "model_module": "@jupyter-widgets/controls",
      "model_module_version": "1.5.0",
      "model_name": "VBoxModel",
      "state": {
       "children": [
        "IPY_MODEL_b5c00e4610444940816f79b5eebf06ce",
        "IPY_MODEL_fe5d9f79680d4b1ab879d15c7fd326ed",
        "IPY_MODEL_5432efe5ca084a8e81807652fe12c530"
       ],
       "layout": "IPY_MODEL_84e067b462de4d7ca37c7496d0d672f3"
      }
     },
     "ce623ca2cedf4cd3acd03d2bda108b44": {
      "model_module": "@jupyter-widgets/controls",
      "model_module_version": "1.5.0",
      "model_name": "ButtonStyleModel",
      "state": {}
     },
     "ce69fe686f084a98824a6d29ab6ce7d6": {
      "model_module": "@jupyter-widgets/base",
      "model_module_version": "1.2.0",
      "model_name": "LayoutModel",
      "state": {}
     },
     "ce9c656684974fdea4b85f5dcdf550f7": {
      "model_module": "@jupyter-widgets/controls",
      "model_module_version": "1.5.0",
      "model_name": "FloatSliderModel",
      "state": {
       "description": "180°",
       "layout": "IPY_MODEL_f3ff1901663d454da659d966e4eb10ab",
       "max": 1,
       "min": -1,
       "step": 0.01,
       "style": "IPY_MODEL_dce6d8a28ecd41f999f859909f18d31f"
      }
     },
     "cea0a1d95504433281c46be8618dae28": {
      "model_module": "@jupyter-widgets/base",
      "model_module_version": "1.2.0",
      "model_name": "LayoutModel",
      "state": {}
     },
     "ceb02a6edaeb430cb7d9ed12cea92563": {
      "model_module": "@jupyter-widgets/base",
      "model_module_version": "1.2.0",
      "model_name": "LayoutModel",
      "state": {}
     },
     "ceb457ac01e5455ab069188a36cb08a9": {
      "model_module": "@jupyter-widgets/base",
      "model_module_version": "1.2.0",
      "model_name": "LayoutModel",
      "state": {}
     },
     "ceb8fa1618d846cb9535d85f04b635f5": {
      "model_module": "@jupyter-widgets/controls",
      "model_module_version": "1.5.0",
      "model_name": "SliderStyleModel",
      "state": {
       "description_width": ""
      }
     },
     "cecb93f0dcb44bbf805ceae876a5a8f4": {
      "model_module": "@jupyter-widgets/controls",
      "model_module_version": "1.5.0",
      "model_name": "SliderStyleModel",
      "state": {
       "description_width": ""
      }
     },
     "cee37a313129429589d761988d653d30": {
      "model_module": "@jupyter-widgets/controls",
      "model_module_version": "1.5.0",
      "model_name": "ButtonStyleModel",
      "state": {}
     },
     "cf07cf87e341480aae5d5ac3122893f8": {
      "model_module": "@jupyter-widgets/controls",
      "model_module_version": "1.5.0",
      "model_name": "SliderStyleModel",
      "state": {
       "description_width": ""
      }
     },
     "cf148ef884ab4adf98576197ec77ce65": {
      "model_module": "jupyter-matplotlib",
      "model_module_version": "^0.7.2",
      "model_name": "MPLCanvasModel",
      "state": {
       "_figure_label": "Figure 2",
       "_height": 396,
       "_width": 1100,
       "header_visible": false,
       "layout": "IPY_MODEL_949ff5a854bf4455888c7ffe3c14c75c",
       "resizable": false,
       "toolbar": "IPY_MODEL_577f9329fd5b4d0b8e7732c23c03adc4",
       "toolbar_position": "left",
       "toolbar_visible": false
      }
     },
     "cf5008b975f64402911752aedb607bea": {
      "model_module": "@jupyter-widgets/controls",
      "model_module_version": "1.5.0",
      "model_name": "HBoxModel",
      "state": {
       "children": [
        "IPY_MODEL_69687438e92c408ab11be90683f6249d",
        "IPY_MODEL_4ed720e3a7144adb9640938033c93dc7",
        "IPY_MODEL_0e5d94bffa54437989271db06af8003d",
        "IPY_MODEL_3a59be37f37946f39ee1f85eb9bd326c"
       ],
       "layout": "IPY_MODEL_78b59419daa74dda9a18c096f28be8e4"
      }
     },
     "cf95619244fe4f898c338ae632cc6ff4": {
      "model_module": "@jupyter-widgets/controls",
      "model_module_version": "1.5.0",
      "model_name": "TabModel",
      "state": {
       "_titles": {
        "0": "Global Controls",
        "1": "Protected Area Controls",
        "2": "Saturation Controls",
        "3": "Hue Controls"
       },
       "children": [
        "IPY_MODEL_fed7463e7ed4482b930eeb5a9b3fdf6a",
        "IPY_MODEL_714da0b57afa415288b2a9772dc0af6d",
        "IPY_MODEL_73d1c9dc9f84457e8ef31cf8e72203ea",
        "IPY_MODEL_0520a3f02cac426d9f61a4445e9a5e63"
       ],
       "layout": "IPY_MODEL_3e1ec1eeb7994cfdb8c4f9c4308dec5d"
      }
     },
     "cf9857bc309142afa704664768657a1f": {
      "model_module": "@jupyter-widgets/controls",
      "model_module_version": "1.5.0",
      "model_name": "VBoxModel",
      "state": {
       "children": [
        "IPY_MODEL_622fd69a8b0446fba287cab4e2200b6e",
        "IPY_MODEL_66835fadf68a4499b6692b7cbf8df8f7"
       ],
       "layout": "IPY_MODEL_ce69fe686f084a98824a6d29ab6ce7d6"
      }
     },
     "cf9b08d47bb64db09702f4c0f7d78089": {
      "model_module": "@jupyter-widgets/base",
      "model_module_version": "1.2.0",
      "model_name": "LayoutModel",
      "state": {}
     },
     "cfc0958a23ba4a6c94ee30bf1293f5ad": {
      "model_module": "@jupyter-widgets/base",
      "model_module_version": "1.2.0",
      "model_name": "LayoutModel",
      "state": {}
     },
     "d013eee5b2c14acc9ff6c95af2f1ac19": {
      "model_module": "@jupyter-widgets/base",
      "model_module_version": "1.2.0",
      "model_name": "LayoutModel",
      "state": {}
     },
     "d057a43ee4ec454c952265c43590f04c": {
      "model_module": "jupyter-matplotlib",
      "model_module_version": "^0.7.2",
      "model_name": "ToolbarModel",
      "state": {
       "layout": "IPY_MODEL_666956bd248146abbc3e09ee3fea5277",
       "toolitems": [
        [
         "Home",
         "Reset original view",
         "home",
         "home"
        ],
        [
         "Back",
         "Back to previous view",
         "arrow-left",
         "back"
        ],
        [
         "Forward",
         "Forward to next view",
         "arrow-right",
         "forward"
        ],
        [
         "Pan",
         "Pan axes with left mouse, zoom with right",
         "arrows",
         "pan"
        ],
        [
         "Zoom",
         "Zoom to rectangle",
         "square-o",
         "zoom"
        ],
        [
         "Download",
         "Download plot",
         "floppy-o",
         "save_figure"
        ]
       ]
      }
     },
     "d07cea1943974a6181971dd633fa8a6c": {
      "model_module": "@jupyter-widgets/base",
      "model_module_version": "1.2.0",
      "model_name": "LayoutModel",
      "state": {
       "align_items": "stretch",
       "display": "flex",
       "flex_flow": "column",
       "width": "1128px"
      }
     },
     "d080c8d0a6484143a3f0b6622a7fa2b9": {
      "model_module": "@jupyter-widgets/controls",
      "model_module_version": "1.5.0",
      "model_name": "FloatSliderModel",
      "state": {
       "description": "Exposure",
       "layout": "IPY_MODEL_6f410dbd0fbc4f1da3cc1a702d45e2cd",
       "max": 8,
       "min": -8,
       "step": 0.1,
       "style": "IPY_MODEL_72c5d77da3c54b9ca1dd8724d19f4a9d"
      }
     },
     "d0d584c3afe643f6a6e452305867d691": {
      "model_module": "@jupyter-widgets/controls",
      "model_module_version": "1.5.0",
      "model_name": "ButtonStyleModel",
      "state": {}
     },
     "d0fc7aeace254a06b30aab44c05b22da": {
      "model_module": "@jupyter-widgets/controls",
      "model_module_version": "1.5.0",
      "model_name": "SliderStyleModel",
      "state": {
       "description_width": ""
      }
     },
     "d102fd4595954112a577a922ed266a87": {
      "model_module": "@jupyter-widgets/controls",
      "model_module_version": "1.5.0",
      "model_name": "SliderStyleModel",
      "state": {
       "description_width": ""
      }
     },
     "d10ef0d4e168477c96b9145d5856e096": {
      "model_module": "@jupyter-widgets/controls",
      "model_module_version": "1.5.0",
      "model_name": "ButtonModel",
      "state": {
       "description": "Save Figure",
       "layout": "IPY_MODEL_49d33adb0ddb47d68acd578f306c0e6e",
       "style": "IPY_MODEL_115b408c83184adea7fdda9b6819e38e"
      }
     },
     "d15bbb338d474444b216351e6ce57bd4": {
      "model_module": "@jupyter-widgets/base",
      "model_module_version": "1.2.0",
      "model_name": "LayoutModel",
      "state": {}
     },
     "d1732305415941c2aaa8bcafbd5b9cf3": {
      "model_module": "@jupyter-widgets/controls",
      "model_module_version": "1.5.0",
      "model_name": "SliderStyleModel",
      "state": {
       "description_width": ""
      }
     },
     "d17859cf91e648ceae4c347da88a14e5": {
      "model_module": "@jupyter-widgets/base",
      "model_module_version": "1.2.0",
      "model_name": "LayoutModel",
      "state": {}
     },
     "d183274b95a94c35a946496582ca59d9": {
      "model_module": "@jupyter-widgets/base",
      "model_module_version": "1.2.0",
      "model_name": "LayoutModel",
      "state": {}
     },
     "d1b9bf3b8e0a4948b80b866ce478ccfe": {
      "model_module": "@jupyter-widgets/base",
      "model_module_version": "1.2.0",
      "model_name": "LayoutModel",
      "state": {}
     },
     "d1c64f0116fc4abd9fe5813380c5ce7c": {
      "model_module": "@jupyter-widgets/controls",
      "model_module_version": "1.5.0",
      "model_name": "ButtonStyleModel",
      "state": {}
     },
     "d1d1c29df2a74723b955fa261db96a48": {
      "model_module": "@jupyter-widgets/controls",
      "model_module_version": "1.5.0",
      "model_name": "SliderStyleModel",
      "state": {
       "description_width": ""
      }
     },
     "d1e5bd087bfb45ae8f2ac2ee6ff8d7b4": {
      "model_module": "@jupyter-widgets/controls",
      "model_module_version": "1.5.0",
      "model_name": "ButtonModel",
      "state": {
       "description": "Reset Protected Area",
       "layout": "IPY_MODEL_e0323d0593a345bca01384ee23d53068",
       "style": "IPY_MODEL_30f14d701f7b4ba1a5c7aa61b749c38f"
      }
     },
     "d1e6f1a7b03048a9bf82ef2136a6bfb3": {
      "model_module": "@jupyter-widgets/controls",
      "model_module_version": "1.5.0",
      "model_name": "FloatSliderModel",
      "state": {
       "description": "Compression Threshold",
       "layout": "IPY_MODEL_ebcb3a800c27426895cb555d93ede94d",
       "max": 1,
       "step": 0.01,
       "style": "IPY_MODEL_2cf80c828d8848f7924a24f8ef504c78",
       "value": 0.8
      }
     },
     "d24064a3a6cf491da8642a205f4978e2": {
      "model_module": "@jupyter-widgets/controls",
      "model_module_version": "1.5.0",
      "model_name": "ButtonStyleModel",
      "state": {}
     },
     "d242367bf9f14ed5a5e5ac1947edcf8c": {
      "model_module": "@jupyter-widgets/controls",
      "model_module_version": "1.5.0",
      "model_name": "ButtonModel",
      "state": {
       "description": "Reset Hue Controls",
       "layout": "IPY_MODEL_7e844076d17748fe9b83efbef0d30283",
       "style": "IPY_MODEL_e01c500496334a0b95b540a4fd9f576c"
      }
     },
     "d25417f90d9445e3bd502c55141b3330": {
      "model_module": "@jupyter-widgets/controls",
      "model_module_version": "1.5.0",
      "model_name": "VBoxModel",
      "state": {
       "children": [
        "IPY_MODEL_64e47eddad0f4455bf5c95eec01cb170",
        "IPY_MODEL_bb884810f33242e0a549cfc0d56c9ebb",
        "IPY_MODEL_c40907cce5b74ec08128e29bb4403d3b"
       ],
       "layout": "IPY_MODEL_8cd4a653dcb6480985526c5b3f3e239e"
      }
     },
     "d27a6bc667d543aeab3b8429d1bddada": {
      "model_module": "@jupyter-widgets/controls",
      "model_module_version": "1.5.0",
      "model_name": "SliderStyleModel",
      "state": {
       "description_width": ""
      }
     },
     "d28090177b9346439016132772b11218": {
      "model_module": "@jupyter-widgets/output",
      "model_module_version": "1.0.0",
      "model_name": "OutputModel",
      "state": {
       "layout": "IPY_MODEL_2aa83fb3cf804e14b52a9696fbe52b37",
       "outputs": [
        {
         "data": {
          "application/vnd.jupyter.widget-view+json": {
           "model_id": "0fd4cf7504214cf78080138b6a6a9334",
           "version_major": 2,
           "version_minor": 0
          },
          "text/plain": "Canvas(toolbar=Toolbar(toolitems=[('Home', 'Reset original view', 'home', 'home'), ('Back', 'Back to previous …"
         },
         "metadata": {},
         "output_type": "display_data"
        }
       ]
      }
     },
     "d2bd8981f92842588c47715024da8cd4": {
      "model_module": "@jupyter-widgets/output",
      "model_module_version": "1.0.0",
      "model_name": "OutputModel",
      "state": {
       "layout": "IPY_MODEL_af4f0a11c9554319ba4d641ced07b7c7",
       "outputs": [
        {
         "data": {
          "application/vnd.jupyter.widget-view+json": {
           "model_id": "8f72625c9e36416badfa263a6ee94e90",
           "version_major": 2,
           "version_minor": 0
          },
          "text/plain": "Canvas(toolbar=Toolbar(toolitems=[('Home', 'Reset original view', 'home', 'home'), ('Back', 'Back to previous …"
         },
         "metadata": {},
         "output_type": "display_data"
        }
       ]
      }
     },
     "d315286cde35433e81553d22a75b6a1e": {
      "model_module": "@jupyter-widgets/controls",
      "model_module_version": "1.5.0",
      "model_name": "HBoxModel",
      "state": {
       "children": [
        "IPY_MODEL_366d0c5d377c4b0781a5fc2d9d391cfc",
        "IPY_MODEL_fff56049fab9455daee410c41c5b515d",
        "IPY_MODEL_ca37f56f5ca74d418b61adb1fce3c618",
        "IPY_MODEL_858a3467758e4cff8c3ad9b09f723624",
        "IPY_MODEL_49497580a4294d0e80007e25f4953fe5"
       ],
       "layout": "IPY_MODEL_c99bb4ce74564d9990038de326e7624d"
      }
     },
     "d324284d60ca45f4a4b46e512d85233c": {
      "model_module": "@jupyter-widgets/controls",
      "model_module_version": "1.5.0",
      "model_name": "ButtonModel",
      "state": {
       "description": "Reset Compression Controls",
       "layout": "IPY_MODEL_fc027e304a184f17b8c30594fed706d6",
       "style": "IPY_MODEL_c61e200a6d004189b0ac72a0468e3eb4"
      }
     },
     "d32873b065f24544a13bcabf9d40d4ad": {
      "model_module": "@jupyter-widgets/controls",
      "model_module_version": "1.5.0",
      "model_name": "ButtonModel",
      "state": {
       "description": "Reset Saturation Controls",
       "layout": "IPY_MODEL_0ae26ff5e8534cb9b6e6d0dc8286e53b",
       "style": "IPY_MODEL_b79433997b8346ae8d6ebec046151c8d"
      }
     },
     "d34f775a1eb24b35a8b6ec4a9d12cb31": {
      "model_module": "@jupyter-widgets/base",
      "model_module_version": "1.2.0",
      "model_name": "LayoutModel",
      "state": {}
     },
     "d365659adf984ea1b1accb5f09916fef": {
      "model_module": "@jupyter-widgets/controls",
      "model_module_version": "1.5.0",
      "model_name": "VBoxModel",
      "state": {
       "children": [
        "IPY_MODEL_43148818b1ad4f9eb3804500626a1d14",
        "IPY_MODEL_5dd61e13d5c5435782d20046bd1ff592",
        "IPY_MODEL_06435c21f6d0419aa9b098d32355719c"
       ],
       "layout": "IPY_MODEL_5e560d0015034c778fe9e175d465c513"
      }
     },
     "d36a48ea966540dba212d4c6ee6fdd25": {
      "model_module": "@jupyter-widgets/controls",
      "model_module_version": "1.5.0",
      "model_name": "BoxModel",
      "state": {
       "children": [
        "IPY_MODEL_c6f41368af9644dda993bd9c693c36a7",
        "IPY_MODEL_086c3aba394543d08a43f2bbc4f0f351"
       ],
       "layout": "IPY_MODEL_7f1a827e947e4e9db7ac250723f133c9"
      }
     },
     "d36cba50406a433894d5498b7c253c51": {
      "model_module": "@jupyter-widgets/base",
      "model_module_version": "1.2.0",
      "model_name": "LayoutModel",
      "state": {
       "border": "solid 4px #222",
       "margin": "4px",
       "padding": "0"
      }
     },
     "d37cabdb242e49c59b8a210118e72bb2": {
      "model_module": "@jupyter-widgets/base",
      "model_module_version": "1.2.0",
      "model_name": "LayoutModel",
      "state": {}
     },
     "d3b8629610fc4cddb42602741673ea7d": {
      "model_module": "@jupyter-widgets/base",
      "model_module_version": "1.2.0",
      "model_name": "LayoutModel",
      "state": {}
     },
     "d3c3b5fc79124c9bb85cedf43a2291fa": {
      "model_module": "@jupyter-widgets/output",
      "model_module_version": "1.0.0",
      "model_name": "OutputModel",
      "state": {
       "layout": "IPY_MODEL_76996a995ceb4042b5b9882007297421",
       "outputs": [
        {
         "data": {
          "application/vnd.jupyter.widget-view+json": {
           "model_id": "69b5042a166847b296acb4b0d988c58d",
           "version_major": 2,
           "version_minor": 0
          },
          "text/plain": "Canvas(toolbar=Toolbar(toolitems=[('Home', 'Reset original view', 'home', 'home'), ('Back', 'Back to previous …"
         },
         "metadata": {},
         "output_type": "display_data"
        }
       ]
      }
     },
     "d3fd990369014201913e68d68d6b958c": {
      "model_module": "@jupyter-widgets/base",
      "model_module_version": "1.2.0",
      "model_name": "LayoutModel",
      "state": {}
     },
     "d407535f3d3142bab1adb9bb8ab14c90": {
      "model_module": "@jupyter-widgets/controls",
      "model_module_version": "1.5.0",
      "model_name": "ButtonStyleModel",
      "state": {}
     },
     "d42b4aee1b9c47569b52670cbfcc5abf": {
      "model_module": "@jupyter-widgets/controls",
      "model_module_version": "1.5.0",
      "model_name": "ButtonStyleModel",
      "state": {}
     },
     "d43e85aff4aa4e2aadb02a3828ed22de": {
      "model_module": "@jupyter-widgets/controls",
      "model_module_version": "1.5.0",
      "model_name": "TabModel",
      "state": {
       "_titles": {
        "0": "Global Controls",
        "1": "Compression Controls"
       },
       "children": [
        "IPY_MODEL_8914ba779c13498897303973cc258e8e",
        "IPY_MODEL_4655aabc8c6746dd861e5a2e5344fa2f"
       ],
       "layout": "IPY_MODEL_292e533f914641f79e4f8be70ba0e778"
      }
     },
     "d462d733577c49559536e551274379c4": {
      "model_module": "@jupyter-widgets/base",
      "model_module_version": "1.2.0",
      "model_name": "LayoutModel",
      "state": {}
     },
     "d4dd897be81c430d9c27e6d3967c1804": {
      "model_module": "@jupyter-widgets/controls",
      "model_module_version": "1.5.0",
      "model_name": "ButtonStyleModel",
      "state": {}
     },
     "d53e9f95de464ce683b391ad89e72123": {
      "model_module": "@jupyter-widgets/base",
      "model_module_version": "1.2.0",
      "model_name": "LayoutModel",
      "state": {}
     },
     "d545c7b392bf4f7d8f8300eca62d177c": {
      "model_module": "@jupyter-widgets/controls",
      "model_module_version": "1.5.0",
      "model_name": "ButtonModel",
      "state": {
       "description": "Export Image",
       "layout": "IPY_MODEL_87e3f25b337f4ad49845b16b1cda29be",
       "style": "IPY_MODEL_c6d3d7ae8e7d48fc94a3b433e676a0de"
      }
     },
     "d56b7be67e524afca4ed9cbbf5262539": {
      "model_module": "@jupyter-widgets/controls",
      "model_module_version": "1.5.0",
      "model_name": "VBoxModel",
      "state": {
       "children": [
        "IPY_MODEL_5329a712a1cb49989980671e7c8d769c"
       ],
       "layout": "IPY_MODEL_29902e157a234339a3dd5ad49a1a80b5"
      }
     },
     "d590b6117bdd4a54af0acd4691e36e79": {
      "model_module": "@jupyter-widgets/base",
      "model_module_version": "1.2.0",
      "model_name": "LayoutModel",
      "state": {}
     },
     "d593c8aefeb0442ca02505771f05fb8c": {
      "model_module": "@jupyter-widgets/controls",
      "model_module_version": "1.5.0",
      "model_name": "SliderStyleModel",
      "state": {
       "description_width": ""
      }
     },
     "d59d28125b324ea2ae85a2cbde60c452": {
      "model_module": "@jupyter-widgets/controls",
      "model_module_version": "1.5.0",
      "model_name": "ButtonStyleModel",
      "state": {}
     },
     "d5a4507eeb1d40b1b67cb5976b581100": {
      "model_module": "@jupyter-widgets/controls",
      "model_module_version": "1.5.0",
      "model_name": "ButtonStyleModel",
      "state": {}
     },
     "d5c654b978fb4dc2bdf16a294d1b8624": {
      "model_module": "@jupyter-widgets/controls",
      "model_module_version": "1.5.0",
      "model_name": "VBoxModel",
      "state": {
       "children": [
        "IPY_MODEL_8121d5f44dde48cc965cf94d44946b06",
        "IPY_MODEL_d9b01418cf734fb6953f58e1df7c0ed5",
        "IPY_MODEL_fa3f72623d0a4fdeb9b7b69ec386153e"
       ],
       "layout": "IPY_MODEL_e8febe94e7c8464aaa6ed36d436226e4"
      }
     },
     "d5dde2ac115a486a9258bf694286959a": {
      "model_module": "@jupyter-widgets/controls",
      "model_module_version": "1.5.0",
      "model_name": "HBoxModel",
      "state": {
       "children": [
        "IPY_MODEL_3e292c6980f344c38f13eea64230f159",
        "IPY_MODEL_c30fd2f189c744568f401c5ab8531dd8",
        "IPY_MODEL_b542569eab5b4ba2aa3be13a10638e91"
       ],
       "layout": "IPY_MODEL_26113f9060064e7f84e34756438f5cd6"
      }
     },
     "d609992e930342b4825b7fe2fe9d1d37": {
      "model_module": "@jupyter-widgets/controls",
      "model_module_version": "1.5.0",
      "model_name": "DescriptionStyleModel",
      "state": {
       "description_width": ""
      }
     },
     "d60e4135514a43faba5195b51c76c2d6": {
      "model_module": "@jupyter-widgets/controls",
      "model_module_version": "1.5.0",
      "model_name": "ButtonModel",
      "state": {
       "description": "Reset Compression Controls",
       "layout": "IPY_MODEL_c613337fdd8649769ef05ffba989e1dd",
       "style": "IPY_MODEL_a51d0084863b4472b327e09a90e16570"
      }
     },
     "d620398ea93344f8a64fadc2fadfd1eb": {
      "model_module": "@jupyter-widgets/base",
      "model_module_version": "1.2.0",
      "model_name": "LayoutModel",
      "state": {}
     },
     "d6259c4a75ab40c9a7eff663dcc9affc": {
      "model_module": "@jupyter-widgets/controls",
      "model_module_version": "1.5.0",
      "model_name": "HBoxModel",
      "state": {
       "children": [
        "IPY_MODEL_d56b7be67e524afca4ed9cbbf5262539",
        "IPY_MODEL_2a7238d18c1345a6b741ca130d35bc78",
        "IPY_MODEL_21d6c419a2784799b84aa569a384399b",
        "IPY_MODEL_e1b345acdaba4d7f8acfd6bc426e4e95"
       ],
       "layout": "IPY_MODEL_6f135de7d61a4d59ba5e5bd759e42077"
      }
     },
     "d638f6b768c545f0a73f429e92bf8b5a": {
      "model_module": "@jupyter-widgets/controls",
      "model_module_version": "1.5.0",
      "model_name": "HBoxModel",
      "state": {
       "children": [
        "IPY_MODEL_43be5826ce8f4e4cb458e056873a8711",
        "IPY_MODEL_ba6620d939544f259b878279baee9775",
        "IPY_MODEL_1f37500313a444318b87ec2253ba7fb3",
        "IPY_MODEL_0b59c0da00904a4ebf6b50ac37c4b885",
        "IPY_MODEL_31307ff70f994db58692a5e20e55a0b5"
       ],
       "layout": "IPY_MODEL_cb7b4d590d5742b880f1733eb3bd5e8e"
      }
     },
     "d64aa18120ec44db8a62491338c4d9f7": {
      "model_module": "@jupyter-widgets/controls",
      "model_module_version": "1.5.0",
      "model_name": "ButtonStyleModel",
      "state": {}
     },
     "d6600d484c2349e084be32369f2d9771": {
      "model_module": "@jupyter-widgets/controls",
      "model_module_version": "1.5.0",
      "model_name": "HBoxModel",
      "state": {
       "children": [
        "IPY_MODEL_10ec2720bb8245e3aae5d9639c987994",
        "IPY_MODEL_5f829561467442da85d679bd4149b339",
        "IPY_MODEL_34cae2ea24494ede98fb5f659cdf88bd",
        "IPY_MODEL_aaea3306b7c84a0fbc7beab8f76e5795",
        "IPY_MODEL_5151050f4e15488990406d70eee42c8f"
       ],
       "layout": "IPY_MODEL_09256f6cd13a44b38d05c016c268aff4"
      }
     },
     "d661f1ad15334130b48a9f3d04e88bef": {
      "model_module": "@jupyter-widgets/base",
      "model_module_version": "1.2.0",
      "model_name": "LayoutModel",
      "state": {}
     },
     "d6a207b2ff504955a5970fc0fe411b10": {
      "model_module": "@jupyter-widgets/controls",
      "model_module_version": "1.5.0",
      "model_name": "TabModel",
      "state": {
       "_titles": {
        "0": "Global Controls",
        "1": "Protected Area Controls",
        "2": "Saturation Controls",
        "3": "Hue Controls"
       },
       "children": [
        "IPY_MODEL_d315286cde35433e81553d22a75b6a1e",
        "IPY_MODEL_0482d5d039714178820e2e58e0e828fc",
        "IPY_MODEL_2bc6e9d5c0bb44ebbbf4af439855e3f7",
        "IPY_MODEL_fb38b5afd5e44c4689cddf302a1284b9"
       ],
       "layout": "IPY_MODEL_02dc2041b8f14b3c8580da9ecae33507"
      }
     },
     "d6c2d82ae9b44c7b8990217c6eadc9cd": {
      "model_module": "@jupyter-widgets/controls",
      "model_module_version": "1.5.0",
      "model_name": "SliderStyleModel",
      "state": {
       "description_width": ""
      }
     },
     "d6dff6b6d35e4048b655b9d0fa808913": {
      "model_module": "@jupyter-widgets/controls",
      "model_module_version": "1.5.0",
      "model_name": "ButtonModel",
      "state": {
       "description": "Save Figure",
       "layout": "IPY_MODEL_fe977ca6d8ee447395a20dbd4a8b8989",
       "style": "IPY_MODEL_77f0e564db314c5dbe2ec7a939c07a34"
      }
     },
     "d6f8491425d44bfabe9fa726414ac650": {
      "model_module": "@jupyter-widgets/base",
      "model_module_version": "1.2.0",
      "model_name": "LayoutModel",
      "state": {}
     },
     "d700a6b7be0a4c39ae0acf54b02c4c82": {
      "model_module": "@jupyter-widgets/controls",
      "model_module_version": "1.5.0",
      "model_name": "ButtonStyleModel",
      "state": {}
     },
     "d7398c752d524c0895aaf3124f6acb88": {
      "model_module": "@jupyter-widgets/base",
      "model_module_version": "1.2.0",
      "model_name": "LayoutModel",
      "state": {}
     },
     "d7a114f3570142d4a47e71946238b918": {
      "model_module": "@jupyter-widgets/base",
      "model_module_version": "1.2.0",
      "model_name": "LayoutModel",
      "state": {}
     },
     "d7e5efacd3cf4a398bd2ee4b003b91d8": {
      "model_module": "@jupyter-widgets/controls",
      "model_module_version": "1.5.0",
      "model_name": "HBoxModel",
      "state": {
       "children": [
        "IPY_MODEL_afbc3f54b9c74ab895eb36e129064a60",
        "IPY_MODEL_90c5c146fd7a47b19312e625582b36c0",
        "IPY_MODEL_6ef4cc5017284b99a426a4d8c44052cf",
        "IPY_MODEL_eca8f0bd04784b239c521828f2b71ed1"
       ],
       "layout": "IPY_MODEL_978b3728140640cab7e9755dc8f79deb"
      }
     },
     "d7fad748bd314f3fb7df2bb702cf496a": {
      "model_module": "@jupyter-widgets/controls",
      "model_module_version": "1.5.0",
      "model_name": "HBoxModel",
      "state": {
       "children": [
        "IPY_MODEL_5d46ce7cdc28405d89aec5f503d5e28a",
        "IPY_MODEL_82e832be7279475cb3db0f20bef0a593",
        "IPY_MODEL_5a1cb2d8d0794f9e827a0684027c1f2c",
        "IPY_MODEL_e2febbd9cf3f4657a8aea5367c4c3847",
        "IPY_MODEL_97eea147ba224cf3a4622ad319435b3f"
       ],
       "layout": "IPY_MODEL_0a7dceefeae34d59a26efaa49e971a29"
      }
     },
     "d8123852cb9a4be78ee102557695b18f": {
      "model_module": "@jupyter-widgets/controls",
      "model_module_version": "1.5.0",
      "model_name": "FloatSliderModel",
      "state": {
       "description": "Exposure",
       "layout": "IPY_MODEL_94ef4481f6fa4497b0227b0b9dcf6bc5",
       "max": 8,
       "min": -8,
       "step": 0.1,
       "style": "IPY_MODEL_ae158fb3036346d093c9a4e7fefe9c88"
      }
     },
     "d86f166a8a9749b5957b88af2d7222f4": {
      "model_module": "@jupyter-widgets/base",
      "model_module_version": "1.2.0",
      "model_name": "LayoutModel",
      "state": {}
     },
     "d8855b2b0f0c45c4862a85b06802c435": {
      "model_module": "@jupyter-widgets/base",
      "model_module_version": "1.2.0",
      "model_name": "LayoutModel",
      "state": {}
     },
     "d897ee921a1f40b9b58fdbe136f643ec": {
      "model_module": "@jupyter-widgets/controls",
      "model_module_version": "1.5.0",
      "model_name": "ButtonStyleModel",
      "state": {}
     },
     "d8ef82fbf7a042818eb6d25149844bd4": {
      "model_module": "@jupyter-widgets/base",
      "model_module_version": "1.2.0",
      "model_name": "LayoutModel",
      "state": {}
     },
     "d901eab74dc0488581ef60e953f3740d": {
      "model_module": "@jupyter-widgets/controls",
      "model_module_version": "1.5.0",
      "model_name": "ButtonStyleModel",
      "state": {}
     },
     "d921402dceba4e4e88eedc12206fb051": {
      "model_module": "jupyter-matplotlib",
      "model_module_version": "^0.7.2",
      "model_name": "MPLCanvasModel",
      "state": {
       "header_visible": false,
       "layout": "IPY_MODEL_ceb457ac01e5455ab069188a36cb08a9",
       "resizable": false,
       "toolbar": "IPY_MODEL_832be7c1b4ed474eb69f6d4db3d6a218",
       "toolbar_position": "left",
       "toolbar_visible": false
      }
     },
     "d96f1ebaede4450fb3fed7303603bdc5": {
      "model_module": "@jupyter-widgets/base",
      "model_module_version": "1.2.0",
      "model_name": "LayoutModel",
      "state": {}
     },
     "d9b01418cf734fb6953f58e1df7c0ed5": {
      "model_module": "@jupyter-widgets/controls",
      "model_module_version": "1.5.0",
      "model_name": "FloatSliderModel",
      "state": {
       "description": "45°",
       "layout": "IPY_MODEL_c4df9226fe6e4474b1c534208182c25c",
       "max": 1,
       "min": -1,
       "step": 0.01,
       "style": "IPY_MODEL_21c4fe34773c4e578d5fcdd9ed562e60"
      }
     },
     "d9b14b101f3145ba915dbd7cb25d11fa": {
      "model_module": "@jupyter-widgets/controls",
      "model_module_version": "1.5.0",
      "model_name": "ButtonModel",
      "state": {
       "description": "Reset Protected Area",
       "layout": "IPY_MODEL_175603965e1542249b8c6f82c01fd71d",
       "style": "IPY_MODEL_115696015fbb4b53b56023b920f3f19e"
      }
     },
     "d9cacb4cace04b9889a8ce0e15e50b1e": {
      "model_module": "@jupyter-widgets/controls",
      "model_module_version": "1.5.0",
      "model_name": "ButtonStyleModel",
      "state": {}
     },
     "da0617860bf3417cacceb7a4cbb68000": {
      "model_module": "@jupyter-widgets/base",
      "model_module_version": "1.2.0",
      "model_name": "LayoutModel",
      "state": {}
     },
     "da3d5dbd4c314be7a772e9ecb66d09d9": {
      "model_module": "@jupyter-widgets/base",
      "model_module_version": "1.2.0",
      "model_name": "LayoutModel",
      "state": {}
     },
     "da425fd8f45f4aacbb04d02919e27fa9": {
      "model_module": "@jupyter-widgets/base",
      "model_module_version": "1.2.0",
      "model_name": "LayoutModel",
      "state": {}
     },
     "da68febe80ce4cfc8edea54a76d8c511": {
      "model_module": "@jupyter-widgets/base",
      "model_module_version": "1.2.0",
      "model_name": "LayoutModel",
      "state": {
       "border": "solid 4px #222",
       "margin": "4px",
       "padding": "0"
      }
     },
     "da6ddfa5b1a243a7a0d3319700ce8d0c": {
      "model_module": "@jupyter-widgets/controls",
      "model_module_version": "1.5.0",
      "model_name": "FloatSliderModel",
      "state": {
       "description": "0°",
       "layout": "IPY_MODEL_e1901f8b4e974a69b03f33c136086d50",
       "max": 1,
       "min": -1,
       "step": 0.01,
       "style": "IPY_MODEL_1a2d07c14a5a41dea5cbb76f93206333"
      }
     },
     "da6e0440df394b0ca246b0fa2ddb9ff4": {
      "model_module": "@jupyter-widgets/base",
      "model_module_version": "1.2.0",
      "model_name": "LayoutModel",
      "state": {}
     },
     "daa744711c714e8f8f07157abfd3ea32": {
      "model_module": "@jupyter-widgets/controls",
      "model_module_version": "1.5.0",
      "model_name": "TabModel",
      "state": {
       "_titles": {
        "0": "Global Controls",
        "1": "Protected Area Controls",
        "2": "Saturation Controls",
        "3": "Hue Controls"
       },
       "children": [
        "IPY_MODEL_8362cd5c7a394d0b8b3d0537a4acb36e",
        "IPY_MODEL_bde7822f3e4d4dbba3463b1528e2bff6",
        "IPY_MODEL_599b2ca58a5d4db890b59915d86a3045",
        "IPY_MODEL_30922592d68f4c5caa9d15c2089c7dc9"
       ],
       "layout": "IPY_MODEL_07233c37c6614621b4692c127b0502f0"
      }
     },
     "daacaadb23a54521863695a751546597": {
      "model_module": "@jupyter-widgets/base",
      "model_module_version": "1.2.0",
      "model_name": "LayoutModel",
      "state": {
       "border": "solid 4px #222",
       "margin": "4px",
       "padding": "0"
      }
     },
     "db10643e58314f07a6b27548c7557b5e": {
      "model_module": "jupyter-matplotlib",
      "model_module_version": "^0.7.2",
      "model_name": "MPLCanvasModel",
      "state": {
       "header_visible": false,
       "layout": "IPY_MODEL_991f2ef3a4e34a3a8f338d5c79da985d",
       "resizable": false,
       "toolbar": "IPY_MODEL_3f99c0b4d28845e69851251d687436db",
       "toolbar_position": "left",
       "toolbar_visible": false
      }
     },
     "db37c15f305a43bfa5dafaa4b9c1a17c": {
      "model_module": "@jupyter-widgets/controls",
      "model_module_version": "1.5.0",
      "model_name": "FloatSliderModel",
      "state": {
       "description": "45°",
       "layout": "IPY_MODEL_50233495df0242e58d60a1c03156cb20",
       "max": 1,
       "min": -1,
       "step": 0.01,
       "style": "IPY_MODEL_bcec4326c1394610b874d1e231e9eb78"
      }
     },
     "db3d779ea9e64206954dc40b064e1915": {
      "model_module": "@jupyter-widgets/base",
      "model_module_version": "1.2.0",
      "model_name": "LayoutModel",
      "state": {}
     },
     "db7459f528d94d8e9f6239e85b42c383": {
      "model_module": "@jupyter-widgets/base",
      "model_module_version": "1.2.0",
      "model_name": "LayoutModel",
      "state": {}
     },
     "db84286b336d417a923330697eb62951": {
      "model_module": "@jupyter-widgets/controls",
      "model_module_version": "1.5.0",
      "model_name": "TabModel",
      "state": {
       "_titles": {
        "0": "Global Controls",
        "1": "Protected Area Controls",
        "2": "Saturation Controls",
        "3": "Hue Controls"
       },
       "children": [
        "IPY_MODEL_0746c53a8fa142ed82c076dc45e4b791",
        "IPY_MODEL_043feec41b8d45949846329f8b1b6b5c",
        "IPY_MODEL_213b63461aa24a8eae97fbbce9705908",
        "IPY_MODEL_d6259c4a75ab40c9a7eff663dcc9affc"
       ],
       "layout": "IPY_MODEL_4193d31d56394ac197f62c6ddff50676"
      }
     },
     "dbc2fe045548457fa4555ba95bd16561": {
      "model_module": "@jupyter-widgets/controls",
      "model_module_version": "1.5.0",
      "model_name": "ButtonModel",
      "state": {
       "description": "Reset Exposure",
       "layout": "IPY_MODEL_b85e23cee74b4f9f90720800c4e09255",
       "style": "IPY_MODEL_57795b0f15cb4e8a9b1171237e3546f2"
      }
     },
     "dbc3608543c240a8afc9e0d19f8c5bba": {
      "model_module": "@jupyter-widgets/controls",
      "model_module_version": "1.5.0",
      "model_name": "ButtonModel",
      "state": {
       "description": "Save Figure",
       "layout": "IPY_MODEL_6a373d70d7e2458bb53239a19a9d3007",
       "style": "IPY_MODEL_d42b4aee1b9c47569b52670cbfcc5abf"
      }
     },
     "dbd1b91e507f4eb5a2723b8b83d5a4c2": {
      "model_module": "@jupyter-widgets/controls",
      "model_module_version": "1.5.0",
      "model_name": "SliderStyleModel",
      "state": {
       "description_width": ""
      }
     },
     "dbe666982af64433bb042f8ac5800411": {
      "model_module": "@jupyter-widgets/base",
      "model_module_version": "1.2.0",
      "model_name": "LayoutModel",
      "state": {}
     },
     "dc1e85b937a84c948e32e976d7e705d1": {
      "model_module": "@jupyter-widgets/controls",
      "model_module_version": "1.5.0",
      "model_name": "SliderStyleModel",
      "state": {
       "description_width": ""
      }
     },
     "dc2061150d814a45bb100dd6a290479b": {
      "model_module": "@jupyter-widgets/controls",
      "model_module_version": "1.5.0",
      "model_name": "ButtonStyleModel",
      "state": {}
     },
     "dc7f2cd0aa974da686b1410b1cd24fd4": {
      "model_module": "@jupyter-widgets/controls",
      "model_module_version": "1.5.0",
      "model_name": "ButtonStyleModel",
      "state": {}
     },
     "dc8d92b7888b49feaf2e58548123c4e2": {
      "model_module": "@jupyter-widgets/controls",
      "model_module_version": "1.5.0",
      "model_name": "SliderStyleModel",
      "state": {
       "description_width": ""
      }
     },
     "dc92fd1076894230b0ba418d79ac201e": {
      "model_module": "@jupyter-widgets/base",
      "model_module_version": "1.2.0",
      "model_name": "LayoutModel",
      "state": {}
     },
     "dcb0bea18175443ca6eb019be7820b43": {
      "model_module": "jupyter-matplotlib",
      "model_module_version": "^0.7.2",
      "model_name": "MPLCanvasModel",
      "state": {
       "header_visible": false,
       "layout": "IPY_MODEL_c0430351c8dc461daa0ce07a2564b893",
       "resizable": false,
       "toolbar": "IPY_MODEL_1228908b274845a7af744b809011e16c",
       "toolbar_position": "left",
       "toolbar_visible": false
      }
     },
     "dce6d8a28ecd41f999f859909f18d31f": {
      "model_module": "@jupyter-widgets/controls",
      "model_module_version": "1.5.0",
      "model_name": "SliderStyleModel",
      "state": {
       "description_width": ""
      }
     },
     "dd1597def6824ffe9b774c08015b7502": {
      "model_module": "@jupyter-widgets/base",
      "model_module_version": "1.2.0",
      "model_name": "LayoutModel",
      "state": {}
     },
     "dd45a0b3f6ae4fc2958ba15f5e5d9b39": {
      "model_module": "@jupyter-widgets/controls",
      "model_module_version": "1.5.0",
      "model_name": "ButtonModel",
      "state": {
       "description": "Reset Saturation Controls",
       "layout": "IPY_MODEL_eaa8c087475b436fa4e97fed57ee7cea",
       "style": "IPY_MODEL_36e344589fbc4594945e3dc7b9f60c29"
      }
     },
     "dd53557fa90a41a49996354cc9bc7351": {
      "model_module": "@jupyter-widgets/base",
      "model_module_version": "1.2.0",
      "model_name": "LayoutModel",
      "state": {}
     },
     "ddaf4c072fee4d35be3cd5212978c0f9": {
      "model_module": "@jupyter-widgets/base",
      "model_module_version": "1.2.0",
      "model_name": "LayoutModel",
      "state": {}
     },
     "ddba257717de415ea65c3073067802c2": {
      "model_module": "@jupyter-widgets/controls",
      "model_module_version": "1.5.0",
      "model_name": "ButtonModel",
      "state": {
       "description": "Save Figure",
       "layout": "IPY_MODEL_ec1f0904d5e24d30a03e474fd7ae7439",
       "style": "IPY_MODEL_2c57b32714a549f194fdb78110bf2422"
      }
     },
     "ddcbefd69ae94efebfb67cbe83a18aeb": {
      "model_module": "@jupyter-widgets/base",
      "model_module_version": "1.2.0",
      "model_name": "LayoutModel",
      "state": {}
     },
     "de00f9f4e5e0434faca13ae771fe39ea": {
      "model_module": "@jupyter-widgets/controls",
      "model_module_version": "1.5.0",
      "model_name": "FloatSliderModel",
      "state": {
       "description": "270°",
       "layout": "IPY_MODEL_a4ffe72b170241288142674bcfcf4396",
       "max": 1,
       "min": -1,
       "step": 0.01,
       "style": "IPY_MODEL_f808a5bba7d346309d2d875176cacfed"
      }
     },
     "de109562d26242f58c56e21dde264abb": {
      "model_module": "@jupyter-widgets/base",
      "model_module_version": "1.2.0",
      "model_name": "LayoutModel",
      "state": {}
     },
     "de262d0cfd2e4c618d791e0cf431aa30": {
      "model_module": "@jupyter-widgets/controls",
      "model_module_version": "1.5.0",
      "model_name": "VBoxModel",
      "state": {
       "children": [
        "IPY_MODEL_d242367bf9f14ed5a5e5ac1947edcf8c"
       ],
       "layout": "IPY_MODEL_27bccfe15cb04d01ad94744747f694be"
      }
     },
     "de340adfac05426bb8d470a339e3ceae": {
      "model_module": "@jupyter-widgets/base",
      "model_module_version": "1.2.0",
      "model_name": "LayoutModel",
      "state": {}
     },
     "de66f35064f949978490b7fa8d60ef5b": {
      "model_module": "@jupyter-widgets/controls",
      "model_module_version": "1.5.0",
      "model_name": "CheckboxModel",
      "state": {
       "description": "Disable Medicina",
       "disabled": false,
       "layout": "IPY_MODEL_432442be653945eb9435d4a956208a0d",
       "style": "IPY_MODEL_8b0f5979c0574471a5b237e4f01b0f6b",
       "value": false
      }
     },
     "de7127b7225c4913928b459c5d96abc1": {
      "model_module": "@jupyter-widgets/output",
      "model_module_version": "1.0.0",
      "model_name": "OutputModel",
      "state": {
       "layout": "IPY_MODEL_500b03c4eecb4da69b619e92173b15b8",
       "outputs": [
        {
         "data": {
          "application/vnd.jupyter.widget-view+json": {
           "model_id": "80ff7745c99046bdb805110266f8a2fb",
           "version_major": 2,
           "version_minor": 0
          },
          "text/plain": "Canvas(toolbar=Toolbar(toolitems=[('Home', 'Reset original view', 'home', 'home'), ('Back', 'Back to previous …"
         },
         "metadata": {},
         "output_type": "display_data"
        }
       ]
      }
     },
     "de727216d05d4a6ea50438aa67f0a258": {
      "model_module": "@jupyter-widgets/controls",
      "model_module_version": "1.5.0",
      "model_name": "SliderStyleModel",
      "state": {
       "description_width": ""
      }
     },
     "de863d2e10ab4ed8a308cf16ac55e051": {
      "model_module": "@jupyter-widgets/controls",
      "model_module_version": "1.5.0",
      "model_name": "CheckboxModel",
      "state": {
       "description": "Disable Medicina",
       "disabled": false,
       "layout": "IPY_MODEL_81d851dc19d9448188388afd4e5041c3",
       "style": "IPY_MODEL_24858398f825488b813a849d9193675e",
       "value": false
      }
     },
     "df028a83cb8d4261a5e9588c86e9c650": {
      "model_module": "@jupyter-widgets/base",
      "model_module_version": "1.2.0",
      "model_name": "LayoutModel",
      "state": {}
     },
     "df523ef3388d403fa261b82e73bbe080": {
      "model_module": "@jupyter-widgets/base",
      "model_module_version": "1.2.0",
      "model_name": "LayoutModel",
      "state": {}
     },
     "df566a75811a403a80aaa6110babd428": {
      "model_module": "@jupyter-widgets/controls",
      "model_module_version": "1.5.0",
      "model_name": "TabModel",
      "state": {
       "_titles": {
        "0": "Global Controls",
        "1": "Protected Area Controls",
        "2": "Saturation Controls",
        "3": "Hue Controls"
       },
       "children": [
        "IPY_MODEL_d638f6b768c545f0a73f429e92bf8b5a",
        "IPY_MODEL_bf4e5109883443059b15209343ddaa5f",
        "IPY_MODEL_d5dde2ac115a486a9258bf694286959a",
        "IPY_MODEL_cf5008b975f64402911752aedb607bea"
       ],
       "layout": "IPY_MODEL_1190e26d106e4bf0be3374a27628804c"
      }
     },
     "df6b982324bd43ce90b37f45e00f8441": {
      "model_module": "@jupyter-widgets/controls",
      "model_module_version": "1.5.0",
      "model_name": "FloatSliderModel",
      "state": {
       "description": "Compression Threshold",
       "layout": "IPY_MODEL_5ec4ee47b5d9417ba53c6d0e7fd512c8",
       "max": 1,
       "step": 0.01,
       "style": "IPY_MODEL_93b412ab2ea14ab8aec0cf95c012ee5d",
       "value": 0.8
      }
     },
     "df7851facae646f68ef2f26122aa8548": {
      "model_module": "@jupyter-widgets/base",
      "model_module_version": "1.2.0",
      "model_name": "LayoutModel",
      "state": {}
     },
     "df794cb1c56b408aa5767b648a310d75": {
      "model_module": "@jupyter-widgets/base",
      "model_module_version": "1.2.0",
      "model_name": "LayoutModel",
      "state": {}
     },
     "dfaf9b6177054c63ac5e861595bb3ac6": {
      "model_module": "@jupyter-widgets/base",
      "model_module_version": "1.2.0",
      "model_name": "LayoutModel",
      "state": {}
     },
     "dfb6c3439abe419881ddcad87f0e56f0": {
      "model_module": "@jupyter-widgets/base",
      "model_module_version": "1.2.0",
      "model_name": "LayoutModel",
      "state": {}
     },
     "dfd6d9df301e4985860ff13aa8a67900": {
      "model_module": "@jupyter-widgets/controls",
      "model_module_version": "1.5.0",
      "model_name": "CheckboxModel",
      "state": {
       "description": "Disable Medicina",
       "disabled": false,
       "layout": "IPY_MODEL_8bf90fbc1ba04427a30ed2e945ac306c",
       "style": "IPY_MODEL_96c3b5b67a974cb7aac722d468aa3263",
       "value": false
      }
     },
     "dfe0eabbd26d41a980b5df3443d7f960": {
      "model_module": "@jupyter-widgets/controls",
      "model_module_version": "1.5.0",
      "model_name": "ButtonStyleModel",
      "state": {}
     },
     "e00061f099594a9998fcb288598b2196": {
      "model_module": "@jupyter-widgets/controls",
      "model_module_version": "1.5.0",
      "model_name": "TabModel",
      "state": {
       "_titles": {
        "0": "Global Controls",
        "1": "Compression Controls"
       },
       "children": [
        "IPY_MODEL_0e027c9fab1b4635b178cbbb1fb1c648",
        "IPY_MODEL_71ff436b7dbe416fbdbf80ed8c4e2f0c"
       ],
       "layout": "IPY_MODEL_70833d79886147f7a35b97ef13601314"
      }
     },
     "e01307200eb04723ac45bb54ba83b015": {
      "model_module": "@jupyter-widgets/controls",
      "model_module_version": "1.5.0",
      "model_name": "HBoxModel",
      "state": {
       "children": [
        "IPY_MODEL_78eb507185af430986dd3e755d9a7e47",
        "IPY_MODEL_aa18b49b08394f528b62f0d8238499ec",
        "IPY_MODEL_eb4b4b2297484311b595c242d1e73eff",
        "IPY_MODEL_dbc2fe045548457fa4555ba95bd16561",
        "IPY_MODEL_bd949a70129e498d9c61f809b5fb64a7"
       ],
       "layout": "IPY_MODEL_34eefabd079d4c0f8f1dfa17e572a88c"
      }
     },
     "e01c500496334a0b95b540a4fd9f576c": {
      "model_module": "@jupyter-widgets/controls",
      "model_module_version": "1.5.0",
      "model_name": "ButtonStyleModel",
      "state": {}
     },
     "e02a89d5d9de4fc4b15dad564cebc084": {
      "model_module": "@jupyter-widgets/controls",
      "model_module_version": "1.5.0",
      "model_name": "FloatSliderModel",
      "state": {
       "description": "135°",
       "layout": "IPY_MODEL_8788b1fb941a48089a851ebb8f9550cb",
       "max": 1,
       "min": -1,
       "step": 0.01,
       "style": "IPY_MODEL_3a60162675914ff8becd0710a4c74a7d"
      }
     },
     "e030a167903b4af1a7f1ac5018f6de0a": {
      "model_module": "@jupyter-widgets/controls",
      "model_module_version": "1.5.0",
      "model_name": "HBoxModel",
      "state": {
       "children": [
        "IPY_MODEL_f645405835da4cbab4bba78c6911a318",
        "IPY_MODEL_57a01a6ce077427d8410aba8a5e970a6",
        "IPY_MODEL_7e9611f386c54159abd924cbb8b452dd",
        "IPY_MODEL_66964ab416494d4280db45936286f01b",
        "IPY_MODEL_f0b0ac029c184271b456ffe1db2b43c6"
       ],
       "layout": "IPY_MODEL_49c4208119364d6bba59c3750c7f10d9"
      }
     },
     "e0323d0593a345bca01384ee23d53068": {
      "model_module": "@jupyter-widgets/base",
      "model_module_version": "1.2.0",
      "model_name": "LayoutModel",
      "state": {}
     },
     "e071945cd7494328a9a5124723dbaf58": {
      "model_module": "@jupyter-widgets/controls",
      "model_module_version": "1.5.0",
      "model_name": "DropdownModel",
      "state": {
       "_options_labels": [
        "tanh",
        "atan",
        "simple"
       ],
       "description": "Compression Function:",
       "index": 0,
       "layout": "IPY_MODEL_5665ded3ddb84c61bf078d9c8bac4a96",
       "style": "IPY_MODEL_648e716604454e4c92c511b6dd1a8b76"
      }
     },
     "e0d416540923423fbc36f144c6c1f858": {
      "model_module": "@jupyter-widgets/base",
      "model_module_version": "1.2.0",
      "model_name": "LayoutModel",
      "state": {}
     },
     "e113417b85f34c13946737209d86d0db": {
      "model_module": "@jupyter-widgets/base",
      "model_module_version": "1.2.0",
      "model_name": "LayoutModel",
      "state": {}
     },
     "e14482f869724c44a16a7c489341f1d9": {
      "model_module": "@jupyter-widgets/base",
      "model_module_version": "1.2.0",
      "model_name": "LayoutModel",
      "state": {}
     },
     "e16c60b17ef94662905c6f1611553760": {
      "model_module": "@jupyter-widgets/controls",
      "model_module_version": "1.5.0",
      "model_name": "ButtonStyleModel",
      "state": {}
     },
     "e1901f8b4e974a69b03f33c136086d50": {
      "model_module": "@jupyter-widgets/base",
      "model_module_version": "1.2.0",
      "model_name": "LayoutModel",
      "state": {}
     },
     "e1952f09d0b14e4d848c614a20dfe0b4": {
      "model_module": "@jupyter-widgets/controls",
      "model_module_version": "1.5.0",
      "model_name": "ButtonStyleModel",
      "state": {}
     },
     "e198411d8f4d4aedb1baec5d3d30ebaa": {
      "model_module": "@jupyter-widgets/base",
      "model_module_version": "1.2.0",
      "model_name": "LayoutModel",
      "state": {
       "align_items": "stretch",
       "display": "flex",
       "flex_flow": "column",
       "width": "1128px"
      }
     },
     "e1a0bfd9a00b404598d4b6fada58f855": {
      "model_module": "@jupyter-widgets/base",
      "model_module_version": "1.2.0",
      "model_name": "LayoutModel",
      "state": {}
     },
     "e1b345acdaba4d7f8acfd6bc426e4e95": {
      "model_module": "@jupyter-widgets/controls",
      "model_module_version": "1.5.0",
      "model_name": "VBoxModel",
      "state": {
       "children": [
        "IPY_MODEL_12e52fcedfb24c8ba70d1c2a9497769f",
        "IPY_MODEL_2adaa521b2de4a688e141ae26c52c4be"
       ],
       "layout": "IPY_MODEL_fa3d7886a5cb4c84950812c557ac8076"
      }
     },
     "e213f7f0df92426592d273bf702a27a6": {
      "model_module": "@jupyter-widgets/controls",
      "model_module_version": "1.5.0",
      "model_name": "SliderStyleModel",
      "state": {
       "description_width": ""
      }
     },
     "e299e44901b44a118f6d8685f9500615": {
      "model_module": "@jupyter-widgets/base",
      "model_module_version": "1.2.0",
      "model_name": "LayoutModel",
      "state": {}
     },
     "e29ae1275f5b432db3178b9f8bd2752e": {
      "model_module": "@jupyter-widgets/controls",
      "model_module_version": "1.5.0",
      "model_name": "HBoxModel",
      "state": {
       "children": [
        "IPY_MODEL_3c14a1f44775465d9779387306422caf",
        "IPY_MODEL_4905353b8d3e4f92a2d73a0c7d69aac6"
       ],
       "layout": "IPY_MODEL_5cc95b6124cf4fd0a1d13493319ad190"
      }
     },
     "e2a22b3e2c7148299d294c6e51f5d82a": {
      "model_module": "@jupyter-widgets/controls",
      "model_module_version": "1.5.0",
      "model_name": "ButtonModel",
      "state": {
       "description": "Save Figure",
       "layout": "IPY_MODEL_d37cabdb242e49c59b8a210118e72bb2",
       "style": "IPY_MODEL_5ea61a9b54ea45178ac1b28a6e738ca0"
      }
     },
     "e2c71f6b3b754c92b30e4ac6c5fae878": {
      "model_module": "jupyter-matplotlib",
      "model_module_version": "^0.7.2",
      "model_name": "MPLCanvasModel",
      "state": {
       "header_visible": false,
       "layout": "IPY_MODEL_c513309d54904b5e94fd23d96bf26db9",
       "resizable": false,
       "toolbar": "IPY_MODEL_4d79768e2af247c782a406bb0b151e60",
       "toolbar_position": "left",
       "toolbar_visible": false
      }
     },
     "e2d34f7a63dc4db680b9f056ccfaeee3": {
      "model_module": "@jupyter-widgets/base",
      "model_module_version": "1.2.0",
      "model_name": "LayoutModel",
      "state": {}
     },
     "e2d9d6dedfe0455f94c8cdcba0917897": {
      "model_module": "@jupyter-widgets/controls",
      "model_module_version": "1.5.0",
      "model_name": "DropdownModel",
      "state": {
       "_options_labels": [
        "tanh",
        "atan",
        "simple"
       ],
       "description": "Compression Function:",
       "index": 0,
       "layout": "IPY_MODEL_5863c0ffce6848e0979a014162ec3f4a",
       "style": "IPY_MODEL_364752d15c564e24b33743245e6761c9"
      }
     },
     "e2febbd9cf3f4657a8aea5367c4c3847": {
      "model_module": "@jupyter-widgets/controls",
      "model_module_version": "1.5.0",
      "model_name": "ButtonModel",
      "state": {
       "description": "Reset Exposure",
       "layout": "IPY_MODEL_6ef05f2113c24b14a0327a520ba880ed",
       "style": "IPY_MODEL_bbc1bd26bee045e487bd807da045e9f6"
      }
     },
     "e3229e303d1c48bbbcfa09c84c17abc4": {
      "model_module": "@jupyter-widgets/controls",
      "model_module_version": "1.5.0",
      "model_name": "ButtonStyleModel",
      "state": {}
     },
     "e36f1172d9a34d348cd1e24fa1861866": {
      "model_module": "@jupyter-widgets/controls",
      "model_module_version": "1.5.0",
      "model_name": "SliderStyleModel",
      "state": {
       "description_width": ""
      }
     },
     "e3806c1b7fde492bac35b70e29180919": {
      "model_module": "@jupyter-widgets/base",
      "model_module_version": "1.2.0",
      "model_name": "LayoutModel",
      "state": {}
     },
     "e38d5b41644640abb8289dfb531583dd": {
      "model_module": "@jupyter-widgets/base",
      "model_module_version": "1.2.0",
      "model_name": "LayoutModel",
      "state": {
       "border": "solid 4px #222",
       "margin": "4px",
       "padding": "0"
      }
     },
     "e3d96173d3464e81acab90c0628c36dc": {
      "model_module": "jupyter-matplotlib",
      "model_module_version": "^0.7.2",
      "model_name": "MPLCanvasModel",
      "state": {
       "_figure_label": "Figure 4",
       "_height": 618,
       "_width": 1099,
       "header_visible": false,
       "layout": "IPY_MODEL_7b96cd80b12245bd835b0966b416f6c6",
       "resizable": false,
       "toolbar": "IPY_MODEL_833aee6a2f68452fa3cbed498a2fd27d",
       "toolbar_position": "left",
       "toolbar_visible": false
      }
     },
     "e3eb40c3ae9040c1a93e871644245537": {
      "model_module": "@jupyter-widgets/base",
      "model_module_version": "1.2.0",
      "model_name": "LayoutModel",
      "state": {}
     },
     "e3eed87466a14d548a2b1bb67f2bbc55": {
      "model_module": "@jupyter-widgets/controls",
      "model_module_version": "1.5.0",
      "model_name": "ButtonModel",
      "state": {
       "description": "Reset Saturation Controls",
       "layout": "IPY_MODEL_656908babe434992b5352fe6a14af315",
       "style": "IPY_MODEL_7a910016aaf14ac1990d6df5ac1a173a"
      }
     },
     "e4390e11244246088e810095fe97e0ba": {
      "model_module": "@jupyter-widgets/base",
      "model_module_version": "1.2.0",
      "model_name": "LayoutModel",
      "state": {}
     },
     "e494f0f8a1b14c40afd83c7bff5573ab": {
      "model_module": "@jupyter-widgets/base",
      "model_module_version": "1.2.0",
      "model_name": "LayoutModel",
      "state": {}
     },
     "e49d5d1042104e099a356a142f265439": {
      "model_module": "@jupyter-widgets/controls",
      "model_module_version": "1.5.0",
      "model_name": "FloatSliderModel",
      "state": {
       "description": "Protected Area Threshold",
       "layout": "IPY_MODEL_3b9a992faa8f4a1d8e7471541a0089db",
       "max": 1,
       "step": 0.01,
       "style": "IPY_MODEL_8c04bf3c03b6471190fb662bb47b4270",
       "value": 0.5
      }
     },
     "e4b5b5d65e9c47a8977a971cb9251ed3": {
      "model_module": "@jupyter-widgets/controls",
      "model_module_version": "1.5.0",
      "model_name": "ButtonModel",
      "state": {
       "description": "Reset Compression Controls",
       "layout": "IPY_MODEL_3c72118fbcfb459e9c351a74fd114dba",
       "style": "IPY_MODEL_e16c60b17ef94662905c6f1611553760"
      }
     },
     "e4c158dfbd3649519afd649a6ad4d033": {
      "model_module": "@jupyter-widgets/base",
      "model_module_version": "1.2.0",
      "model_name": "LayoutModel",
      "state": {}
     },
     "e501266f3cbc4c9ba7d9ab3a093d460c": {
      "model_module": "@jupyter-widgets/controls",
      "model_module_version": "1.5.0",
      "model_name": "SliderStyleModel",
      "state": {
       "description_width": ""
      }
     },
     "e5296e74cf534e568c39873dd6b9a86c": {
      "model_module": "@jupyter-widgets/controls",
      "model_module_version": "1.5.0",
      "model_name": "ButtonStyleModel",
      "state": {}
     },
     "e533127c647e40f8a2f3658500b053b2": {
      "model_module": "@jupyter-widgets/controls",
      "model_module_version": "1.5.0",
      "model_name": "ButtonModel",
      "state": {
       "description": "Reset Hue Controls",
       "layout": "IPY_MODEL_c9edc6b8f914439e980af8bcac19cac0",
       "style": "IPY_MODEL_dc2061150d814a45bb100dd6a290479b"
      }
     },
     "e57641fbf041469ab15b68e1d4c0dacc": {
      "model_module": "@jupyter-widgets/base",
      "model_module_version": "1.2.0",
      "model_name": "LayoutModel",
      "state": {}
     },
     "e5e26620cc10454fbc660c1bea768bc5": {
      "model_module": "@jupyter-widgets/controls",
      "model_module_version": "1.5.0",
      "model_name": "FloatSliderModel",
      "state": {
       "description": "Compression Threshold",
       "layout": "IPY_MODEL_f29e587ff9324cddb778fa8d9ccf20a9",
       "max": 1,
       "step": 0.01,
       "style": "IPY_MODEL_e905220fdf1a4418b569c818d5740264",
       "value": 0.8
      }
     },
     "e5f5423afc6d4257984568f8f2b5e302": {
      "model_module": "@jupyter-widgets/controls",
      "model_module_version": "1.5.0",
      "model_name": "ButtonStyleModel",
      "state": {}
     },
     "e61ab9688ede4d92812fcd482052a1b4": {
      "model_module": "@jupyter-widgets/controls",
      "model_module_version": "1.5.0",
      "model_name": "ButtonStyleModel",
      "state": {}
     },
     "e67468301679482391da300f6ea742ea": {
      "model_module": "@jupyter-widgets/controls",
      "model_module_version": "1.5.0",
      "model_name": "SliderStyleModel",
      "state": {
       "description_width": ""
      }
     },
     "e6addb002d9f45b6b570f014baa82bd5": {
      "model_module": "@jupyter-widgets/controls",
      "model_module_version": "1.5.0",
      "model_name": "SliderStyleModel",
      "state": {
       "description_width": ""
      }
     },
     "e6c3b47f30a348b79fe43406ec6d437d": {
      "model_module": "@jupyter-widgets/controls",
      "model_module_version": "1.5.0",
      "model_name": "SliderStyleModel",
      "state": {
       "description_width": ""
      }
     },
     "e6c63493521d46c1ab7da5eb49310b02": {
      "model_module": "@jupyter-widgets/output",
      "model_module_version": "1.0.0",
      "model_name": "OutputModel",
      "state": {
       "layout": "IPY_MODEL_89dd6e6fe5d4435aaa4b19ce06437c54",
       "outputs": [
        {
         "data": {
          "application/vnd.jupyter.widget-view+json": {
           "model_id": "40bd142d3db540e787250d395e86a51e",
           "version_major": 2,
           "version_minor": 0
          },
          "text/plain": "Canvas(toolbar=Toolbar(toolitems=[('Home', 'Reset original view', 'home', 'home'), ('Back', 'Back to previous …"
         },
         "metadata": {},
         "output_type": "display_data"
        }
       ]
      }
     },
     "e72150522d25492198940f5595501c18": {
      "model_module": "@jupyter-widgets/base",
      "model_module_version": "1.2.0",
      "model_name": "LayoutModel",
      "state": {}
     },
     "e78cbf8de3b740b282bd52a58842eee7": {
      "model_module": "@jupyter-widgets/base",
      "model_module_version": "1.2.0",
      "model_name": "LayoutModel",
      "state": {}
     },
     "e7a52eea71a8450a82572fefab8e82cd": {
      "model_module": "@jupyter-widgets/controls",
      "model_module_version": "1.5.0",
      "model_name": "FloatSliderModel",
      "state": {
       "description": "135°",
       "layout": "IPY_MODEL_c926fcb235594d80be0a0384a468fa19",
       "max": 1,
       "min": -1,
       "step": 0.01,
       "style": "IPY_MODEL_0d28248aea164518955dae6076e43e3c"
      }
     },
     "e7bb50514fa54c95823c87ed63d8e9af": {
      "model_module": "@jupyter-widgets/controls",
      "model_module_version": "1.5.0",
      "model_name": "ButtonModel",
      "state": {
       "description": "Reset Hue Controls",
       "layout": "IPY_MODEL_a284b44bf3874dca9ee3c4af97ab4176",
       "style": "IPY_MODEL_f123fb73df5149f19756f048d1c4242c"
      }
     },
     "e7e909bd700544f9977649cfb99b58aa": {
      "model_module": "@jupyter-widgets/controls",
      "model_module_version": "1.5.0",
      "model_name": "HBoxModel",
      "state": {
       "children": [
        "IPY_MODEL_d9b14b101f3145ba915dbd7cb25d11fa",
        "IPY_MODEL_abcfcb93b5a8425784e13154e856abb9"
       ],
       "layout": "IPY_MODEL_34034fd387a841a1a73122e2c5c69638"
      }
     },
     "e8033599a29d4193a8be288b09db84fa": {
      "model_module": "@jupyter-widgets/base",
      "model_module_version": "1.2.0",
      "model_name": "LayoutModel",
      "state": {}
     },
     "e80eaca0f3f6401daad82d57f7aea0d3": {
      "model_module": "@jupyter-widgets/controls",
      "model_module_version": "1.5.0",
      "model_name": "DescriptionStyleModel",
      "state": {
       "description_width": ""
      }
     },
     "e8987fc66a274551af18eeb3d53ed980": {
      "model_module": "@jupyter-widgets/controls",
      "model_module_version": "1.5.0",
      "model_name": "ButtonStyleModel",
      "state": {}
     },
     "e8a94b76079e4abd9e1a570fdc546113": {
      "model_module": "@jupyter-widgets/base",
      "model_module_version": "1.2.0",
      "model_name": "LayoutModel",
      "state": {}
     },
     "e8aa3a01f41e4b5192295d562c58b105": {
      "model_module": "@jupyter-widgets/base",
      "model_module_version": "1.2.0",
      "model_name": "LayoutModel",
      "state": {}
     },
     "e8bdb978f76b4ab7ac01366350abcfb6": {
      "model_module": "@jupyter-widgets/controls",
      "model_module_version": "1.5.0",
      "model_name": "VBoxModel",
      "state": {
       "children": [
        "IPY_MODEL_5091ad2b081e49dba65ae499c7d91cf8",
        "IPY_MODEL_649585702e114bb7a311aae4192a30a3"
       ],
       "layout": "IPY_MODEL_7345aa1472d14035be4215e941ba33b1"
      }
     },
     "e8febe94e7c8464aaa6ed36d436226e4": {
      "model_module": "@jupyter-widgets/base",
      "model_module_version": "1.2.0",
      "model_name": "LayoutModel",
      "state": {}
     },
     "e905220fdf1a4418b569c818d5740264": {
      "model_module": "@jupyter-widgets/controls",
      "model_module_version": "1.5.0",
      "model_name": "SliderStyleModel",
      "state": {
       "description_width": ""
      }
     },
     "e94a336082ec4e0b875ffbf2a3080ce6": {
      "model_module": "@jupyter-widgets/controls",
      "model_module_version": "1.5.0",
      "model_name": "ButtonModel",
      "state": {
       "description": "Export Image",
       "layout": "IPY_MODEL_d86f166a8a9749b5957b88af2d7222f4",
       "style": "IPY_MODEL_fd3f72002bea41d7a731206531ffc40f"
      }
     },
     "e97711857f12413f9d3b77fa865cc7f5": {
      "model_module": "@jupyter-widgets/controls",
      "model_module_version": "1.5.0",
      "model_name": "TabModel",
      "state": {
       "_titles": {
        "0": "Global Controls",
        "1": "Compression Controls"
       },
       "children": [
        "IPY_MODEL_9febb577e4864ec48fccf6febd5d418b",
        "IPY_MODEL_03f26a878df14a258758d3702f2f91a3"
       ],
       "layout": "IPY_MODEL_fc8dc672725a4c3188b2e71310eddb65"
      }
     },
     "ea4f7e7093d84ea08fddc4f850cc2941": {
      "model_module": "@jupyter-widgets/controls",
      "model_module_version": "1.5.0",
      "model_name": "ButtonModel",
      "state": {
       "description": "Reset Exposure",
       "layout": "IPY_MODEL_be7a0267acea4ce8b0de66003170589f",
       "style": "IPY_MODEL_19f161ee77f746669db98f71b9145145"
      }
     },
     "ea8426e381f3459f9edd7653d3199985": {
      "model_module": "@jupyter-widgets/base",
      "model_module_version": "1.2.0",
      "model_name": "LayoutModel",
      "state": {}
     },
     "eaa8c087475b436fa4e97fed57ee7cea": {
      "model_module": "@jupyter-widgets/base",
      "model_module_version": "1.2.0",
      "model_name": "LayoutModel",
      "state": {}
     },
     "eab493cff6ec4a5380be81e46004cacc": {
      "model_module": "@jupyter-widgets/controls",
      "model_module_version": "1.5.0",
      "model_name": "HBoxModel",
      "state": {
       "children": [
        "IPY_MODEL_96908bce60b24e5cbcc1a411cbcb5368",
        "IPY_MODEL_0bd21b8e1cae4d0c9139872b64a3ab47"
       ],
       "layout": "IPY_MODEL_82078d259337420f914e77d5e586b50a"
      }
     },
     "eacad6e00ecf4951bd8e3c3eba09d088": {
      "model_module": "@jupyter-widgets/controls",
      "model_module_version": "1.5.0",
      "model_name": "CheckboxModel",
      "state": {
       "description": "Disable Medicina",
       "disabled": false,
       "layout": "IPY_MODEL_adfdec09e50e4889aa26cf7012f15cc2",
       "style": "IPY_MODEL_62447bb13b56445680ca7cb38eb77c61",
       "value": false
      }
     },
     "ead7fc6d4c664210bf2d87f94b32b1c5": {
      "model_module": "@jupyter-widgets/base",
      "model_module_version": "1.2.0",
      "model_name": "LayoutModel",
      "state": {}
     },
     "eb103e6af42e4b20926e401af9f43de7": {
      "model_module": "@jupyter-widgets/controls",
      "model_module_version": "1.5.0",
      "model_name": "SliderStyleModel",
      "state": {
       "description_width": ""
      }
     },
     "eb1470a689eb45c28636878d9b3fcd19": {
      "model_module": "@jupyter-widgets/controls",
      "model_module_version": "1.5.0",
      "model_name": "ButtonStyleModel",
      "state": {}
     },
     "eb334d7388984be5acddf2ed8ee0e31f": {
      "model_module": "@jupyter-widgets/controls",
      "model_module_version": "1.5.0",
      "model_name": "DescriptionStyleModel",
      "state": {
       "description_width": ""
      }
     },
     "eb3d7035b3ca466ab40ad0f3aabdef5c": {
      "model_module": "@jupyter-widgets/base",
      "model_module_version": "1.2.0",
      "model_name": "LayoutModel",
      "state": {}
     },
     "eb4b4b2297484311b595c242d1e73eff": {
      "model_module": "@jupyter-widgets/controls",
      "model_module_version": "1.5.0",
      "model_name": "ButtonModel",
      "state": {
       "description": "Save Figure",
       "layout": "IPY_MODEL_593be8324a7346ffbf14f680ba47667f",
       "style": "IPY_MODEL_dfe0eabbd26d41a980b5df3443d7f960"
      }
     },
     "eb7e40cd2b2642f3885df66fd8695eb4": {
      "model_module": "@jupyter-widgets/base",
      "model_module_version": "1.2.0",
      "model_name": "LayoutModel",
      "state": {}
     },
     "eb9512ca11804a41b4746f0827005267": {
      "model_module": "@jupyter-widgets/controls",
      "model_module_version": "1.5.0",
      "model_name": "ButtonModel",
      "state": {
       "description": "Reset Exposure",
       "layout": "IPY_MODEL_57a3d1bf3e0247e085344032fd9f38df",
       "style": "IPY_MODEL_b1fe2bf0c7c94c56b0a4afa04355c37a"
      }
     },
     "ebb50ceee19e451ca4d6ae00ecece35e": {
      "model_module": "@jupyter-widgets/base",
      "model_module_version": "1.2.0",
      "model_name": "LayoutModel",
      "state": {}
     },
     "ebcb3a800c27426895cb555d93ede94d": {
      "model_module": "@jupyter-widgets/base",
      "model_module_version": "1.2.0",
      "model_name": "LayoutModel",
      "state": {}
     },
     "ebe9cb60d27448b6ace9cfb9fba0e97e": {
      "model_module": "jupyter-matplotlib",
      "model_module_version": "^0.7.2",
      "model_name": "ToolbarModel",
      "state": {
       "layout": "IPY_MODEL_9c2805e759784e92877277d27da6f798",
       "toolitems": [
        [
         "Home",
         "Reset original view",
         "home",
         "home"
        ],
        [
         "Back",
         "Back to previous view",
         "arrow-left",
         "back"
        ],
        [
         "Forward",
         "Forward to next view",
         "arrow-right",
         "forward"
        ],
        [
         "Pan",
         "Pan axes with left mouse, zoom with right",
         "arrows",
         "pan"
        ],
        [
         "Zoom",
         "Zoom to rectangle",
         "square-o",
         "zoom"
        ],
        [
         "Download",
         "Download plot",
         "floppy-o",
         "save_figure"
        ]
       ]
      }
     },
     "ebf47efe8d624ebba2a78ecf693603e8": {
      "model_module": "jupyter-matplotlib",
      "model_module_version": "^0.7.2",
      "model_name": "MPLCanvasModel",
      "state": {
       "header_visible": false,
       "layout": "IPY_MODEL_4e1a230344da480ca32283a39b487047",
       "resizable": false,
       "toolbar": "IPY_MODEL_80e517e50e834b81a8dc4480cd4091b7",
       "toolbar_position": "left",
       "toolbar_visible": false
      }
     },
     "ec1a65c44612461ea791e46ef1ec8767": {
      "model_module": "@jupyter-widgets/base",
      "model_module_version": "1.2.0",
      "model_name": "LayoutModel",
      "state": {}
     },
     "ec1f0904d5e24d30a03e474fd7ae7439": {
      "model_module": "@jupyter-widgets/base",
      "model_module_version": "1.2.0",
      "model_name": "LayoutModel",
      "state": {}
     },
     "ec4844217d0641b5984726e6ac54d5d1": {
      "model_module": "@jupyter-widgets/controls",
      "model_module_version": "1.5.0",
      "model_name": "ButtonStyleModel",
      "state": {}
     },
     "ec7ecbe6391749dfbac579a61150a1f0": {
      "model_module": "@jupyter-widgets/controls",
      "model_module_version": "1.5.0",
      "model_name": "ButtonModel",
      "state": {
       "description": "Reset Protected Area",
       "layout": "IPY_MODEL_bb849ac183cd4aaeaa635a282fad2a4d",
       "style": "IPY_MODEL_d64aa18120ec44db8a62491338c4d9f7"
      }
     },
     "eca8f0bd04784b239c521828f2b71ed1": {
      "model_module": "@jupyter-widgets/controls",
      "model_module_version": "1.5.0",
      "model_name": "VBoxModel",
      "state": {
       "children": [
        "IPY_MODEL_de00f9f4e5e0434faca13ae771fe39ea",
        "IPY_MODEL_ad4fe7fd2ddb499d927b59d6e7bc69f4"
       ],
       "layout": "IPY_MODEL_e14482f869724c44a16a7c489341f1d9"
      }
     },
     "ecd79dc8811740408aeb3f0b17e0681e": {
      "model_module": "@jupyter-widgets/base",
      "model_module_version": "1.2.0",
      "model_name": "LayoutModel",
      "state": {}
     },
     "ed0cb3041b5c4acbbcfdd77e5084b797": {
      "model_module": "jupyter-matplotlib",
      "model_module_version": "^0.7.2",
      "model_name": "ToolbarModel",
      "state": {
       "layout": "IPY_MODEL_b57c8cd7eb3f40b1a8588bdb5db41c5e",
       "toolitems": [
        [
         "Home",
         "Reset original view",
         "home",
         "home"
        ],
        [
         "Back",
         "Back to previous view",
         "arrow-left",
         "back"
        ],
        [
         "Forward",
         "Forward to next view",
         "arrow-right",
         "forward"
        ],
        [
         "Pan",
         "Pan axes with left mouse, zoom with right",
         "arrows",
         "pan"
        ],
        [
         "Zoom",
         "Zoom to rectangle",
         "square-o",
         "zoom"
        ],
        [
         "Download",
         "Download plot",
         "floppy-o",
         "save_figure"
        ]
       ]
      }
     },
     "ed46f79018254245ae5067bbbf850430": {
      "model_module": "@jupyter-widgets/base",
      "model_module_version": "1.2.0",
      "model_name": "LayoutModel",
      "state": {}
     },
     "ed7cce5c144244fea85ac1d886b9c8c9": {
      "model_module": "@jupyter-widgets/controls",
      "model_module_version": "1.5.0",
      "model_name": "ButtonStyleModel",
      "state": {}
     },
     "ed84181bf2454d938de838c844f262ff": {
      "model_module": "@jupyter-widgets/base",
      "model_module_version": "1.2.0",
      "model_name": "LayoutModel",
      "state": {}
     },
     "ed9b2ec539e24ab0a3a51cab82b4481e": {
      "model_module": "@jupyter-widgets/base",
      "model_module_version": "1.2.0",
      "model_name": "LayoutModel",
      "state": {}
     },
     "edb6eb16e29143d991dc1964871b0f40": {
      "model_module": "@jupyter-widgets/controls",
      "model_module_version": "1.5.0",
      "model_name": "FloatSliderModel",
      "state": {
       "description": "180°",
       "layout": "IPY_MODEL_c262821a8d1a4b3080428af00b34bbdc",
       "max": 1,
       "min": -1,
       "step": 0.01,
       "style": "IPY_MODEL_62fa801433a649f48aaa37d8f50a78d1"
      }
     },
     "edc682a577ba4cde94582df4303692d5": {
      "model_module": "@jupyter-widgets/base",
      "model_module_version": "1.2.0",
      "model_name": "LayoutModel",
      "state": {
       "border": "solid 4px #222",
       "margin": "4px",
       "padding": "0"
      }
     },
     "ee3bcb15fae94ff9a4bfe1894460dfc4": {
      "model_module": "@jupyter-widgets/base",
      "model_module_version": "1.2.0",
      "model_name": "LayoutModel",
      "state": {}
     },
     "ee422763a0c64130b3a0a0da3a74e966": {
      "model_module": "@jupyter-widgets/controls",
      "model_module_version": "1.5.0",
      "model_name": "ButtonStyleModel",
      "state": {}
     },
     "ee68b721ee904617b14c77455fafdb28": {
      "model_module": "@jupyter-widgets/controls",
      "model_module_version": "1.5.0",
      "model_name": "HBoxModel",
      "state": {
       "children": [
        "IPY_MODEL_b7043a0b74904fd094e5d9d75a9e0396",
        "IPY_MODEL_23eb2797cb084f4698f61032ad8c507e"
       ],
       "layout": "IPY_MODEL_cf9b08d47bb64db09702f4c0f7d78089"
      }
     },
     "eead4037170a45748e4fb84d8539bcd5": {
      "model_module": "@jupyter-widgets/controls",
      "model_module_version": "1.5.0",
      "model_name": "SliderStyleModel",
      "state": {
       "description_width": ""
      }
     },
     "eee0d31eb1ec4b5281e17e22626bbb37": {
      "model_module": "@jupyter-widgets/controls",
      "model_module_version": "1.5.0",
      "model_name": "ButtonStyleModel",
      "state": {}
     },
     "eefaacb0b0ed4fd78a5eb0c88552d238": {
      "model_module": "@jupyter-widgets/controls",
      "model_module_version": "1.5.0",
      "model_name": "SliderStyleModel",
      "state": {
       "description_width": ""
      }
     },
     "ef75d38ea8124e77aad3452dadf10399": {
      "model_module": "@jupyter-widgets/controls",
      "model_module_version": "1.5.0",
      "model_name": "HBoxModel",
      "state": {
       "children": [
        "IPY_MODEL_fc76dc56fdc149f5b1fe984cb5c30d5e",
        "IPY_MODEL_a2ce71b704a344a18e8189662467c97d",
        "IPY_MODEL_072f9df095b44aad8b4d0acc84bb61ee",
        "IPY_MODEL_6793ecc1b77d4335910b359efbcbc9c7",
        "IPY_MODEL_4281dbd134694a1c9b04bdfb052edf66"
       ],
       "layout": "IPY_MODEL_3e86a6c0bbe64a5a9ee1c94c044ec782"
      }
     },
     "f01b047291a0432daa659b8fedbd98a4": {
      "model_module": "@jupyter-widgets/base",
      "model_module_version": "1.2.0",
      "model_name": "LayoutModel",
      "state": {}
     },
     "f022c3b17d8a4118bc06eae1eb5da6ad": {
      "model_module": "@jupyter-widgets/base",
      "model_module_version": "1.2.0",
      "model_name": "LayoutModel",
      "state": {}
     },
     "f03149991ea04aab96f67d07d3ab5f06": {
      "model_module": "@jupyter-widgets/base",
      "model_module_version": "1.2.0",
      "model_name": "LayoutModel",
      "state": {}
     },
     "f0353e511d4b4520a3d8ae75cba9b466": {
      "model_module": "@jupyter-widgets/controls",
      "model_module_version": "1.5.0",
      "model_name": "ButtonStyleModel",
      "state": {}
     },
     "f067e92cd56545eb82cc9ebacc6d892e": {
      "model_module": "@jupyter-widgets/base",
      "model_module_version": "1.2.0",
      "model_name": "LayoutModel",
      "state": {}
     },
     "f0899d299a6a48ad94023631e488d8c5": {
      "model_module": "@jupyter-widgets/controls",
      "model_module_version": "1.5.0",
      "model_name": "ButtonStyleModel",
      "state": {}
     },
     "f09e755166ee430c815323ccf09af0a5": {
      "model_module": "@jupyter-widgets/controls",
      "model_module_version": "1.5.0",
      "model_name": "ButtonStyleModel",
      "state": {}
     },
     "f0b0ac029c184271b456ffe1db2b43c6": {
      "model_module": "@jupyter-widgets/controls",
      "model_module_version": "1.5.0",
      "model_name": "FloatSliderModel",
      "state": {
       "description": "Exposure",
       "layout": "IPY_MODEL_b14127925f944bbea3a4067765a1947e",
       "max": 8,
       "min": -8,
       "step": 0.1,
       "style": "IPY_MODEL_a84050b9703146b8bdae0b8c982a32f0"
      }
     },
     "f0b85d595f8a47e992c34826628f3e51": {
      "model_module": "@jupyter-widgets/controls",
      "model_module_version": "1.5.0",
      "model_name": "VBoxModel",
      "state": {
       "children": [
        "IPY_MODEL_4bf2ee225f5245a783d81b7525eb5343",
        "IPY_MODEL_60ba9fc2fd4142b9b7ff9c68eaf6ce13",
        "IPY_MODEL_b73451e7b9554e9c829e73e7f402b447"
       ],
       "layout": "IPY_MODEL_781c45a470dd435383c193ebe10469b3"
      }
     },
     "f0c4a9773ec1479fb0ceebc063fb9319": {
      "model_module": "@jupyter-widgets/base",
      "model_module_version": "1.2.0",
      "model_name": "LayoutModel",
      "state": {}
     },
     "f0e877c2b55d4510a9aae9816537194c": {
      "model_module": "@jupyter-widgets/base",
      "model_module_version": "1.2.0",
      "model_name": "LayoutModel",
      "state": {}
     },
     "f0f945a3fe2b434c833d7c01f6c50aa7": {
      "model_module": "@jupyter-widgets/controls",
      "model_module_version": "1.5.0",
      "model_name": "FloatSliderModel",
      "state": {
       "description": "90°",
       "layout": "IPY_MODEL_743853bb618642dcafe82832c1ce3c8a",
       "max": 1,
       "min": -1,
       "step": 0.01,
       "style": "IPY_MODEL_6ae5d17b7095443daaa49c0932a04593"
      }
     },
     "f123fb73df5149f19756f048d1c4242c": {
      "model_module": "@jupyter-widgets/controls",
      "model_module_version": "1.5.0",
      "model_name": "ButtonStyleModel",
      "state": {}
     },
     "f14c0bcefca7463e80fb236586e90e47": {
      "model_module": "@jupyter-widgets/controls",
      "model_module_version": "1.5.0",
      "model_name": "ButtonModel",
      "state": {
       "description": "Save Figure",
       "layout": "IPY_MODEL_f8b417c519be4f47990e62f8694cec8e",
       "style": "IPY_MODEL_cc1c0eb818684aaf873671760ff624c9"
      }
     },
     "f159afc55e3b4d699d19e40d87ee4a1d": {
      "model_module": "@jupyter-widgets/output",
      "model_module_version": "1.0.0",
      "model_name": "OutputModel",
      "state": {
       "layout": "IPY_MODEL_c913d5382634487aaeabcaff353f121a",
       "outputs": [
        {
         "data": {
          "application/vnd.jupyter.widget-view+json": {
           "model_id": "590388d8e5b7416b94cd6564040ed4b8",
           "version_major": 2,
           "version_minor": 0
          },
          "text/plain": "Canvas(toolbar=Toolbar(toolitems=[('Home', 'Reset original view', 'home', 'home'), ('Back', 'Back to previous …"
         },
         "metadata": {},
         "output_type": "display_data"
        }
       ]
      }
     },
     "f2141b79a33b41a59939a80dc788587d": {
      "model_module": "@jupyter-widgets/controls",
      "model_module_version": "1.5.0",
      "model_name": "DescriptionStyleModel",
      "state": {
       "description_width": ""
      }
     },
     "f21ebc69c8aa48f08a7a00e0b86e2819": {
      "model_module": "@jupyter-widgets/controls",
      "model_module_version": "1.5.0",
      "model_name": "FloatSliderModel",
      "state": {
       "description": "Compression Threshold",
       "layout": "IPY_MODEL_1295397619534c418cd6b412e21fae1d",
       "max": 1,
       "step": 0.01,
       "style": "IPY_MODEL_1df192ed10374730aaaecc589faaf30c",
       "value": 0.8
      }
     },
     "f25b87d082ba4325a6a8b8ed424f006f": {
      "model_module": "@jupyter-widgets/base",
      "model_module_version": "1.2.0",
      "model_name": "LayoutModel",
      "state": {}
     },
     "f25fdb83a56e487fb2b99346fd840197": {
      "model_module": "jupyter-matplotlib",
      "model_module_version": "^0.7.2",
      "model_name": "ToolbarModel",
      "state": {
       "layout": "IPY_MODEL_2be704d6e42a4d3ea24cf6b063cc7872",
       "toolitems": [
        [
         "Home",
         "Reset original view",
         "home",
         "home"
        ],
        [
         "Back",
         "Back to previous view",
         "arrow-left",
         "back"
        ],
        [
         "Forward",
         "Forward to next view",
         "arrow-right",
         "forward"
        ],
        [
         "Pan",
         "Pan axes with left mouse, zoom with right",
         "arrows",
         "pan"
        ],
        [
         "Zoom",
         "Zoom to rectangle",
         "square-o",
         "zoom"
        ],
        [
         "Download",
         "Download plot",
         "floppy-o",
         "save_figure"
        ]
       ]
      }
     },
     "f27dfdf5d8dc4100b3aba9b79899bd3a": {
      "model_module": "@jupyter-widgets/controls",
      "model_module_version": "1.5.0",
      "model_name": "SliderStyleModel",
      "state": {
       "description_width": ""
      }
     },
     "f29a9c1d7b194936af39357681c1a434": {
      "model_module": "@jupyter-widgets/base",
      "model_module_version": "1.2.0",
      "model_name": "LayoutModel",
      "state": {}
     },
     "f29e587ff9324cddb778fa8d9ccf20a9": {
      "model_module": "@jupyter-widgets/base",
      "model_module_version": "1.2.0",
      "model_name": "LayoutModel",
      "state": {}
     },
     "f2bfad109b564ee083b5879aeb70362b": {
      "model_module": "@jupyter-widgets/controls",
      "model_module_version": "1.5.0",
      "model_name": "ButtonModel",
      "state": {
       "description": "Reset Exposure",
       "layout": "IPY_MODEL_d462d733577c49559536e551274379c4",
       "style": "IPY_MODEL_fc020e77390d4446b2efbbb2d957a9b3"
      }
     },
     "f308c00415d14e04b5be9529eff23ad9": {
      "model_module": "@jupyter-widgets/base",
      "model_module_version": "1.2.0",
      "model_name": "LayoutModel",
      "state": {}
     },
     "f350c02900c44f358440ebdd525d1290": {
      "model_module": "@jupyter-widgets/controls",
      "model_module_version": "1.5.0",
      "model_name": "ButtonModel",
      "state": {
       "description": "Reset Protected Area",
       "layout": "IPY_MODEL_ebb50ceee19e451ca4d6ae00ecece35e",
       "style": "IPY_MODEL_31076bb981834c9a8455ba68d8763423"
      }
     },
     "f3609abc86fd4ab081d54cdcc7127684": {
      "model_module": "@jupyter-widgets/controls",
      "model_module_version": "1.5.0",
      "model_name": "FloatSliderModel",
      "state": {
       "description": "225°",
       "layout": "IPY_MODEL_73b1b409a6414c97a9fc53e1fea717cb",
       "max": 1,
       "min": -1,
       "step": 0.01,
       "style": "IPY_MODEL_43fc0a3399fc45a4ab722215ad1130e3"
      }
     },
     "f3621d8c14764321a7aa22f30f87c7f4": {
      "model_module": "@jupyter-widgets/controls",
      "model_module_version": "1.5.0",
      "model_name": "FloatSliderModel",
      "state": {
       "description": "45°",
       "layout": "IPY_MODEL_8fd64f68b0d24b27afadedda659bdb49",
       "max": 1,
       "min": -1,
       "step": 0.01,
       "style": "IPY_MODEL_a81ca5c2a1984a1fa90c469030945e19"
      }
     },
     "f3a517b0d8e74dd79a3db96d3236978c": {
      "model_module": "@jupyter-widgets/controls",
      "model_module_version": "1.5.0",
      "model_name": "DescriptionStyleModel",
      "state": {
       "description_width": ""
      }
     },
     "f3b2cc7d4af74eabaea22483cd7342bb": {
      "model_module": "@jupyter-widgets/controls",
      "model_module_version": "1.5.0",
      "model_name": "TabModel",
      "state": {
       "_titles": {
        "0": "Global Controls"
       },
       "children": [
        "IPY_MODEL_d6600d484c2349e084be32369f2d9771"
       ],
       "layout": "IPY_MODEL_25c50820ad934d78a5845cccdc95a0df"
      }
     },
     "f3b930a566394400a0186dbdfefe03e9": {
      "model_module": "@jupyter-widgets/controls",
      "model_module_version": "1.5.0",
      "model_name": "ButtonStyleModel",
      "state": {}
     },
     "f3e9b784a5084c3fb5c9043b8ad48ae5": {
      "model_module": "@jupyter-widgets/base",
      "model_module_version": "1.2.0",
      "model_name": "LayoutModel",
      "state": {}
     },
     "f3ff1901663d454da659d966e4eb10ab": {
      "model_module": "@jupyter-widgets/base",
      "model_module_version": "1.2.0",
      "model_name": "LayoutModel",
      "state": {}
     },
     "f44f68549bd442e794f2ab8619745366": {
      "model_module": "@jupyter-widgets/controls",
      "model_module_version": "1.5.0",
      "model_name": "ButtonModel",
      "state": {
       "description": "Reset Exposure",
       "layout": "IPY_MODEL_4bc1f1fbdfb2406eaa497a376b5b8161",
       "style": "IPY_MODEL_56d6c6a2272a45ddba2e2416927f6145"
      }
     },
     "f4ba68e830e04757bfe0f39b3b54356b": {
      "model_module": "@jupyter-widgets/controls",
      "model_module_version": "1.5.0",
      "model_name": "HBoxModel",
      "state": {
       "children": [
        "IPY_MODEL_905ddb0c68f9490abbdc053283451333",
        "IPY_MODEL_6b2e44c125d94dd08a10ca57152d399f",
        "IPY_MODEL_50e5f5da1bcf48bfa495522d1b16ed4e"
       ],
       "layout": "IPY_MODEL_5ee906479f3b4529a8d0023d90514c26"
      }
     },
     "f4d673d63c5f4f71bdc2d97386148bed": {
      "model_module": "@jupyter-widgets/base",
      "model_module_version": "1.2.0",
      "model_name": "LayoutModel",
      "state": {}
     },
     "f525f6f559bf4d37b9c5400c4e9ceadb": {
      "model_module": "@jupyter-widgets/base",
      "model_module_version": "1.2.0",
      "model_name": "LayoutModel",
      "state": {
       "border": "solid 4px #222",
       "margin": "4px",
       "padding": "0"
      }
     },
     "f5347b0c0e494ecab321ab50b15cff34": {
      "model_module": "@jupyter-widgets/controls",
      "model_module_version": "1.5.0",
      "model_name": "DropdownModel",
      "state": {
       "_options_labels": [
        "tanh",
        "atan",
        "simple"
       ],
       "description": "Compression Function:",
       "index": 0,
       "layout": "IPY_MODEL_e8a94b76079e4abd9e1a570fdc546113",
       "style": "IPY_MODEL_6e0ab228adfe4ebb92432a0cee3edd2a"
      }
     },
     "f55e38ef05ab4bbc9660afd33477622c": {
      "model_module": "@jupyter-widgets/controls",
      "model_module_version": "1.5.0",
      "model_name": "CheckboxModel",
      "state": {
       "description": "Disable Medicina",
       "disabled": false,
       "layout": "IPY_MODEL_856b1e6f053944968e6fae14060a208f",
       "style": "IPY_MODEL_c28862a97a8241ab9c877413ba185b65",
       "value": false
      }
     },
     "f5ccb3836e654fa6ae72dd24820d1fb1": {
      "model_module": "@jupyter-widgets/base",
      "model_module_version": "1.2.0",
      "model_name": "LayoutModel",
      "state": {}
     },
     "f5dd2e3b15fe483694b5a4f70f88dc2c": {
      "model_module": "@jupyter-widgets/base",
      "model_module_version": "1.2.0",
      "model_name": "LayoutModel",
      "state": {}
     },
     "f60e73ab5ead42a39a9168338ce6e911": {
      "model_module": "@jupyter-widgets/base",
      "model_module_version": "1.2.0",
      "model_name": "LayoutModel",
      "state": {}
     },
     "f610aebd3e5d4211a414423064c050c0": {
      "model_module": "@jupyter-widgets/controls",
      "model_module_version": "1.5.0",
      "model_name": "DescriptionStyleModel",
      "state": {
       "description_width": ""
      }
     },
     "f645405835da4cbab4bba78c6911a318": {
      "model_module": "@jupyter-widgets/controls",
      "model_module_version": "1.5.0",
      "model_name": "CheckboxModel",
      "state": {
       "description": "Disable Medicina",
       "disabled": false,
       "layout": "IPY_MODEL_225b6e09b24447c492d98ec3e121922a",
       "style": "IPY_MODEL_f2141b79a33b41a59939a80dc788587d",
       "value": false
      }
     },
     "f67676746f344dd29f15b998fd72db9a": {
      "model_module": "@jupyter-widgets/controls",
      "model_module_version": "1.5.0",
      "model_name": "VBoxModel",
      "state": {
       "children": [
        "IPY_MODEL_c82994e1788d47119b053700242a1162",
        "IPY_MODEL_205ae66e1b194242856806ffe4c3e436"
       ],
       "layout": "IPY_MODEL_005437bffc5e4fda8905749b9641817d"
      }
     },
     "f679b5dbdd6a45788f103ff08efdcdcc": {
      "model_module": "@jupyter-widgets/controls",
      "model_module_version": "1.5.0",
      "model_name": "FloatSliderModel",
      "state": {
       "description": "Exposure",
       "layout": "IPY_MODEL_613132bf9ab940008be70d4bace2b8b7",
       "max": 8,
       "min": -8,
       "step": 0.1,
       "style": "IPY_MODEL_cd5881eebb29422ca320ff4d0b9c3b5a"
      }
     },
     "f68014df168944cca1310b382b3ec668": {
      "model_module": "@jupyter-widgets/controls",
      "model_module_version": "1.5.0",
      "model_name": "SliderStyleModel",
      "state": {
       "description_width": ""
      }
     },
     "f6e7318decba4095939e12b43e73f46f": {
      "model_module": "@jupyter-widgets/controls",
      "model_module_version": "1.5.0",
      "model_name": "FloatSliderModel",
      "state": {
       "description": "90°",
       "layout": "IPY_MODEL_38329f34b7334fa29b0c9957c1a6d36d",
       "max": 1,
       "min": -1,
       "step": 0.01,
       "style": "IPY_MODEL_12edcdb66edd4a00a77352fff0998431"
      }
     },
     "f71b018c4c3e41f196a269de8d12a583": {
      "model_module": "@jupyter-widgets/output",
      "model_module_version": "1.0.0",
      "model_name": "OutputModel",
      "state": {
       "layout": "IPY_MODEL_811849a3a6ca43a38300f0c8de0b39fc",
       "outputs": [
        {
         "data": {
          "application/vnd.jupyter.widget-view+json": {
           "model_id": "93b40241022645ed9fc4607092b93a2a",
           "version_major": 2,
           "version_minor": 0
          },
          "text/plain": "Canvas(toolbar=Toolbar(toolitems=[('Home', 'Reset original view', 'home', 'home'), ('Back', 'Back to previous …"
         },
         "metadata": {},
         "output_type": "display_data"
        }
       ]
      }
     },
     "f7a0b3159ec9437eb429c010cbf96523": {
      "model_module": "@jupyter-widgets/base",
      "model_module_version": "1.2.0",
      "model_name": "LayoutModel",
      "state": {}
     },
     "f7adc9149224462da0da4f9566c29f9f": {
      "model_module": "@jupyter-widgets/base",
      "model_module_version": "1.2.0",
      "model_name": "LayoutModel",
      "state": {}
     },
     "f7eaafa9cee74c9d8ee5722a7ffa7cbc": {
      "model_module": "@jupyter-widgets/base",
      "model_module_version": "1.2.0",
      "model_name": "LayoutModel",
      "state": {}
     },
     "f808a5bba7d346309d2d875176cacfed": {
      "model_module": "@jupyter-widgets/controls",
      "model_module_version": "1.5.0",
      "model_name": "SliderStyleModel",
      "state": {
       "description_width": ""
      }
     },
     "f8171eeab1fe4ab689e03e071145d63c": {
      "model_module": "@jupyter-widgets/controls",
      "model_module_version": "1.5.0",
      "model_name": "FloatSliderModel",
      "state": {
       "description": "Compression Threshold",
       "layout": "IPY_MODEL_a56993eb9f974af6ba9f393a8a65b02f",
       "max": 1,
       "step": 0.01,
       "style": "IPY_MODEL_f817406388764bb69d51c6f5e44a0651",
       "value": 0.8
      }
     },
     "f817406388764bb69d51c6f5e44a0651": {
      "model_module": "@jupyter-widgets/controls",
      "model_module_version": "1.5.0",
      "model_name": "SliderStyleModel",
      "state": {
       "description_width": ""
      }
     },
     "f81a190f2598423eb63e8a93cf4f8745": {
      "model_module": "@jupyter-widgets/controls",
      "model_module_version": "1.5.0",
      "model_name": "TabModel",
      "state": {
       "_titles": {
        "0": "Global Controls",
        "1": "Protected Area Controls",
        "2": "Saturation Controls",
        "3": "Hue Controls"
       },
       "children": [
        "IPY_MODEL_2437a541327040ea8e721451a639610e",
        "IPY_MODEL_e29ae1275f5b432db3178b9f8bd2752e",
        "IPY_MODEL_b0380721b0ba43a68f5cdf5966847bd0",
        "IPY_MODEL_a268e9fc03284adcb0e5270c8ed2c5b2"
       ],
       "layout": "IPY_MODEL_3b10c957623445ebbef50a3697b789b0"
      }
     },
     "f89b34808f3542c9828e6c63751aa891": {
      "model_module": "@jupyter-widgets/controls",
      "model_module_version": "1.5.0",
      "model_name": "ButtonStyleModel",
      "state": {}
     },
     "f8b417c519be4f47990e62f8694cec8e": {
      "model_module": "@jupyter-widgets/base",
      "model_module_version": "1.2.0",
      "model_name": "LayoutModel",
      "state": {}
     },
     "f8f46b4a386f4112ae54ff285cffa863": {
      "model_module": "@jupyter-widgets/base",
      "model_module_version": "1.2.0",
      "model_name": "LayoutModel",
      "state": {}
     },
     "f8fc5fb58e9f4855a87d21bc3e12df00": {
      "model_module": "@jupyter-widgets/base",
      "model_module_version": "1.2.0",
      "model_name": "LayoutModel",
      "state": {}
     },
     "f909908573d040879c0aded42bb1b206": {
      "model_module": "@jupyter-widgets/controls",
      "model_module_version": "1.5.0",
      "model_name": "VBoxModel",
      "state": {
       "children": [
        "IPY_MODEL_c9791527f9d3473ca13523626155b565",
        "IPY_MODEL_101c3057e74f47f194de54c6108d7023"
       ],
       "layout": "IPY_MODEL_a93ecd756313464e95e6413e7ebd83c0"
      }
     },
     "f939851b896844edbbf212b7b26621b6": {
      "model_module": "@jupyter-widgets/controls",
      "model_module_version": "1.5.0",
      "model_name": "SliderStyleModel",
      "state": {
       "description_width": ""
      }
     },
     "f950be3e5e924e348ca5d842c5358693": {
      "model_module": "@jupyter-widgets/controls",
      "model_module_version": "1.5.0",
      "model_name": "DescriptionStyleModel",
      "state": {
       "description_width": ""
      }
     },
     "f9647210639045bdbdbff457444fa4f8": {
      "model_module": "@jupyter-widgets/controls",
      "model_module_version": "1.5.0",
      "model_name": "FloatSliderModel",
      "state": {
       "description": "225°",
       "layout": "IPY_MODEL_c95df10d8b144b12af3ed853fb083b7d",
       "max": 1,
       "min": -1,
       "step": 0.01,
       "style": "IPY_MODEL_b1c3b14f5b414b449784534797c4431f"
      }
     },
     "f98e1eb5b7044dd6b9a060a143280f25": {
      "model_module": "@jupyter-widgets/base",
      "model_module_version": "1.2.0",
      "model_name": "LayoutModel",
      "state": {}
     },
     "f99155b767784a94a1ebde1f5767ddda": {
      "model_module": "@jupyter-widgets/controls",
      "model_module_version": "1.5.0",
      "model_name": "FloatSliderModel",
      "state": {
       "description": "90°",
       "layout": "IPY_MODEL_8f9fb7c610504553ad9b6657e2578913",
       "max": 1,
       "min": -1,
       "step": 0.01,
       "style": "IPY_MODEL_3d43328d48a74da19dc6f266d2a98274"
      }
     },
     "f9fd0ce62b2c45b5995e718e0ab2c0b7": {
      "model_module": "@jupyter-widgets/controls",
      "model_module_version": "1.5.0",
      "model_name": "SliderStyleModel",
      "state": {
       "description_width": ""
      }
     },
     "fa21012509bc4f76b9c7ccf1c181027a": {
      "model_module": "@jupyter-widgets/output",
      "model_module_version": "1.0.0",
      "model_name": "OutputModel",
      "state": {
       "layout": "IPY_MODEL_0b43596d8adb4b8eadd1bfee0b0a0959",
       "outputs": [
        {
         "data": {
          "application/vnd.jupyter.widget-view+json": {
           "model_id": "1ccb4446e9064029a3a13f446241df2e",
           "version_major": 2,
           "version_minor": 0
          },
          "text/plain": "Canvas(toolbar=Toolbar(toolitems=[('Home', 'Reset original view', 'home', 'home'), ('Back', 'Back to previous …"
         },
         "metadata": {},
         "output_type": "display_data"
        }
       ]
      }
     },
     "fa3d7886a5cb4c84950812c557ac8076": {
      "model_module": "@jupyter-widgets/base",
      "model_module_version": "1.2.0",
      "model_name": "LayoutModel",
      "state": {}
     },
     "fa3f72623d0a4fdeb9b7b69ec386153e": {
      "model_module": "@jupyter-widgets/controls",
      "model_module_version": "1.5.0",
      "model_name": "FloatSliderModel",
      "state": {
       "description": "90°",
       "layout": "IPY_MODEL_063837e968d4466098184e863bd1c45e",
       "max": 1,
       "min": -1,
       "step": 0.01,
       "style": "IPY_MODEL_e6c3b47f30a348b79fe43406ec6d437d"
      }
     },
     "fa5f206639664516b44c929f81420b7f": {
      "model_module": "@jupyter-widgets/controls",
      "model_module_version": "1.5.0",
      "model_name": "DescriptionStyleModel",
      "state": {
       "description_width": ""
      }
     },
     "fa7a3b1eee1a4c069f70be3f07923331": {
      "model_module": "@jupyter-widgets/controls",
      "model_module_version": "1.5.0",
      "model_name": "SliderStyleModel",
      "state": {
       "description_width": ""
      }
     },
     "fadd0260d14045b3a9885cdc430286b3": {
      "model_module": "@jupyter-widgets/controls",
      "model_module_version": "1.5.0",
      "model_name": "VBoxModel",
      "state": {
       "children": [
        "IPY_MODEL_3fa23aa21d6a4b54b2016615035a17cc",
        "IPY_MODEL_521cbe8e0ed8498c82eed73dafd9bb15"
       ],
       "layout": "IPY_MODEL_cd0049307c404335b84d464dfeef69f9"
      }
     },
     "fb38b5afd5e44c4689cddf302a1284b9": {
      "model_module": "@jupyter-widgets/controls",
      "model_module_version": "1.5.0",
      "model_name": "HBoxModel",
      "state": {
       "children": [
        "IPY_MODEL_76e22f09cf97484eba8ff95d18ef1820",
        "IPY_MODEL_f0b85d595f8a47e992c34826628f3e51",
        "IPY_MODEL_4ac2ba5e4a1544c99b5875049599ded3",
        "IPY_MODEL_acc44171390a42dcaf597a336886a78e"
       ],
       "layout": "IPY_MODEL_86aaf96db67b4bc0b81f2747f075f270"
      }
     },
     "fb673e6ebd024532ac2eec8aa4fcfe4b": {
      "model_module": "@jupyter-widgets/controls",
      "model_module_version": "1.5.0",
      "model_name": "HBoxModel",
      "state": {
       "children": [
        "IPY_MODEL_d324284d60ca45f4a4b46e512d85233c",
        "IPY_MODEL_fcbc5df720a84b1499b0a306e5af8daf",
        "IPY_MODEL_c462572bc3df47ae85f6564227e4010f"
       ],
       "layout": "IPY_MODEL_2bf6a755a5b14ee3b0225ea79dfa8eaf"
      }
     },
     "fb944d5750734745bbffee6cc3b6774f": {
      "model_module": "@jupyter-widgets/base",
      "model_module_version": "1.2.0",
      "model_name": "LayoutModel",
      "state": {
       "border": "solid 4px #222",
       "margin": "4px",
       "padding": "0"
      }
     },
     "fb9ab9ad4193496989fb975785cd5e10": {
      "model_module": "@jupyter-widgets/base",
      "model_module_version": "1.2.0",
      "model_name": "LayoutModel",
      "state": {}
     },
     "fbca987209a24957bfc9fff5e976a3ed": {
      "model_module": "@jupyter-widgets/controls",
      "model_module_version": "1.5.0",
      "model_name": "SliderStyleModel",
      "state": {
       "description_width": ""
      }
     },
     "fc020e77390d4446b2efbbb2d957a9b3": {
      "model_module": "@jupyter-widgets/controls",
      "model_module_version": "1.5.0",
      "model_name": "ButtonStyleModel",
      "state": {}
     },
     "fc027e304a184f17b8c30594fed706d6": {
      "model_module": "@jupyter-widgets/base",
      "model_module_version": "1.2.0",
      "model_name": "LayoutModel",
      "state": {}
     },
     "fc31ad53ba51423f880d7a00c6b75173": {
      "model_module": "@jupyter-widgets/controls",
      "model_module_version": "1.5.0",
      "model_name": "SliderStyleModel",
      "state": {
       "description_width": ""
      }
     },
     "fc5f853989524bb49dfb184f50ae1149": {
      "model_module": "@jupyter-widgets/controls",
      "model_module_version": "1.5.0",
      "model_name": "SliderStyleModel",
      "state": {
       "description_width": ""
      }
     },
     "fc76dc56fdc149f5b1fe984cb5c30d5e": {
      "model_module": "@jupyter-widgets/controls",
      "model_module_version": "1.5.0",
      "model_name": "CheckboxModel",
      "state": {
       "description": "Disable Medicina",
       "disabled": false,
       "layout": "IPY_MODEL_5e3020b57a094a3db59d4b693427911d",
       "style": "IPY_MODEL_3df4b353aacd4056a54ef63092f7fbbd",
       "value": false
      }
     },
     "fc8dc672725a4c3188b2e71310eddb65": {
      "model_module": "@jupyter-widgets/base",
      "model_module_version": "1.2.0",
      "model_name": "LayoutModel",
      "state": {
       "border": "solid 4px #222",
       "margin": "4px",
       "padding": "0"
      }
     },
     "fcbc5df720a84b1499b0a306e5af8daf": {
      "model_module": "@jupyter-widgets/controls",
      "model_module_version": "1.5.0",
      "model_name": "DropdownModel",
      "state": {
       "_options_labels": [
        "tanh",
        "atan",
        "simple"
       ],
       "description": "Compression Function:",
       "index": 0,
       "layout": "IPY_MODEL_e2d34f7a63dc4db680b9f056ccfaeee3",
       "style": "IPY_MODEL_77996130fdef4238b5dcfe47fcf27357"
      }
     },
     "fd32d68e34064d5f8a896e5a86128c04": {
      "model_module": "@jupyter-widgets/base",
      "model_module_version": "1.2.0",
      "model_name": "LayoutModel",
      "state": {}
     },
     "fd3f72002bea41d7a731206531ffc40f": {
      "model_module": "@jupyter-widgets/controls",
      "model_module_version": "1.5.0",
      "model_name": "ButtonStyleModel",
      "state": {}
     },
     "fd515abb0d964aa689ed1a9969cc548a": {
      "model_module": "@jupyter-widgets/controls",
      "model_module_version": "1.5.0",
      "model_name": "DropdownModel",
      "state": {
       "_options_labels": [
        "tanh",
        "atan",
        "simple"
       ],
       "description": "Compression Function:",
       "index": 0,
       "layout": "IPY_MODEL_8d5fcee8f40c4e269305d7af86e855f3",
       "style": "IPY_MODEL_aea8557af7234b4bbde23305a3d5f4f4"
      }
     },
     "fdf352fc2b61434888dd2d2147d0637d": {
      "model_module": "@jupyter-widgets/controls",
      "model_module_version": "1.5.0",
      "model_name": "ButtonStyleModel",
      "state": {}
     },
     "fdf45b366fd9409d81c0f6bb60069078": {
      "model_module": "@jupyter-widgets/controls",
      "model_module_version": "1.5.0",
      "model_name": "SliderStyleModel",
      "state": {
       "description_width": ""
      }
     },
     "fe10f7d0d4d74a44982dd7462a6cf136": {
      "model_module": "@jupyter-widgets/controls",
      "model_module_version": "1.5.0",
      "model_name": "ButtonStyleModel",
      "state": {}
     },
     "fe5023f3197e4feb9a75febaa97063fc": {
      "model_module": "@jupyter-widgets/controls",
      "model_module_version": "1.5.0",
      "model_name": "FloatSliderModel",
      "state": {
       "description": "45°",
       "layout": "IPY_MODEL_3fcbec0c671a48a0b77114a0395fd7e0",
       "max": 1,
       "min": -1,
       "step": 0.01,
       "style": "IPY_MODEL_3e8179b097184b91b455a8830a8822c1"
      }
     },
     "fe5d9f79680d4b1ab879d15c7fd326ed": {
      "model_module": "@jupyter-widgets/controls",
      "model_module_version": "1.5.0",
      "model_name": "FloatSliderModel",
      "state": {
       "description": "180°",
       "layout": "IPY_MODEL_cbeb8030a5a9498b879a9ea9d5603ba9",
       "max": 1,
       "min": -1,
       "step": 0.01,
       "style": "IPY_MODEL_d27a6bc667d543aeab3b8429d1bddada"
      }
     },
     "fe695fa868c445f194d1817b903fdcb1": {
      "model_module": "@jupyter-widgets/base",
      "model_module_version": "1.2.0",
      "model_name": "LayoutModel",
      "state": {}
     },
     "fe8206f9554645ba8e51c9a7b8c72c66": {
      "model_module": "@jupyter-widgets/controls",
      "model_module_version": "1.5.0",
      "model_name": "SliderStyleModel",
      "state": {
       "description_width": ""
      }
     },
     "fe977ca6d8ee447395a20dbd4a8b8989": {
      "model_module": "@jupyter-widgets/base",
      "model_module_version": "1.2.0",
      "model_name": "LayoutModel",
      "state": {}
     },
     "fea242c04f92416eb8e7a1062d09b11c": {
      "model_module": "@jupyter-widgets/controls",
      "model_module_version": "1.5.0",
      "model_name": "SliderStyleModel",
      "state": {
       "description_width": ""
      }
     },
     "fed7463e7ed4482b930eeb5a9b3fdf6a": {
      "model_module": "@jupyter-widgets/controls",
      "model_module_version": "1.5.0",
      "model_name": "HBoxModel",
      "state": {
       "children": [
        "IPY_MODEL_83f85aa518c647c89f364dde551c2bf1",
        "IPY_MODEL_0ee0e1535b6942c19d9b3d8e1d299c47",
        "IPY_MODEL_89e2b79cbba34c4fad235e138ce2d999",
        "IPY_MODEL_ea4f7e7093d84ea08fddc4f850cc2941",
        "IPY_MODEL_b8033828223e49f7b8fe89d423722aa9"
       ],
       "layout": "IPY_MODEL_045fb5aa89214938b63e0cf4acea18f5"
      }
     },
     "feee9af9ac57427e89e3e93f88fce283": {
      "model_module": "@jupyter-widgets/base",
      "model_module_version": "1.2.0",
      "model_name": "LayoutModel",
      "state": {}
     },
     "feef9d925ccc45e8b612f716daea475d": {
      "model_module": "@jupyter-widgets/controls",
      "model_module_version": "1.5.0",
      "model_name": "SliderStyleModel",
      "state": {
       "description_width": ""
      }
     },
     "ff16c9b74cdf4e36b8ccaec5f440bbd0": {
      "model_module": "@jupyter-widgets/controls",
      "model_module_version": "1.5.0",
      "model_name": "ButtonModel",
      "state": {
       "description": "Export Image",
       "layout": "IPY_MODEL_e4c158dfbd3649519afd649a6ad4d033",
       "style": "IPY_MODEL_7c43b30245a847dfaebaa0afabbfd5c9"
      }
     },
     "ff38f7fd34eb4998b58777f90068705b": {
      "model_module": "@jupyter-widgets/base",
      "model_module_version": "1.2.0",
      "model_name": "LayoutModel",
      "state": {
       "align_items": "stretch",
       "display": "flex",
       "flex_flow": "column",
       "width": "1128px"
      }
     },
     "ff4ad6e662d04f5687440dff5dd5b387": {
      "model_module": "@jupyter-widgets/controls",
      "model_module_version": "1.5.0",
      "model_name": "FloatSliderModel",
      "state": {
       "description": "Compression Threshold",
       "layout": "IPY_MODEL_64d3dfd9b88641f28fc730ece9f7c819",
       "max": 1,
       "step": 0.01,
       "style": "IPY_MODEL_27f35f9886b3486a80862e9862402e38",
       "value": 0.8
      }
     },
     "ff70d9dca71d434091ab04f2e41605c1": {
      "model_module": "@jupyter-widgets/controls",
      "model_module_version": "1.5.0",
      "model_name": "ButtonModel",
      "state": {
       "description": "Reset Hue Controls",
       "layout": "IPY_MODEL_4b90a5480021440182fe835e027ce969",
       "style": "IPY_MODEL_6d26f13d37994e2ea3e2e4e079b2f9bb"
      }
     },
     "ffcbfa3e237144a28e3485e34f4bd367": {
      "model_module": "@jupyter-widgets/controls",
      "model_module_version": "1.5.0",
      "model_name": "FloatSliderModel",
      "state": {
       "description": "0°",
       "layout": "IPY_MODEL_7b006c326b0d4508a5df4356574b4875",
       "max": 1,
       "min": -1,
       "step": 0.01,
       "style": "IPY_MODEL_30af435298c4452f9848c87e43ee3b77"
      }
     },
     "ffcde38398ad4c61a17af4907aa2edb1": {
      "model_module": "@jupyter-widgets/base",
      "model_module_version": "1.2.0",
      "model_name": "LayoutModel",
      "state": {}
     },
     "ffdd1502ee494b1ba9a08e0beae0e8ce": {
      "model_module": "@jupyter-widgets/base",
      "model_module_version": "1.2.0",
      "model_name": "LayoutModel",
      "state": {
       "border": "solid 4px #222",
       "margin": "4px",
       "padding": "0"
      }
     },
     "fff56049fab9455daee410c41c5b515d": {
      "model_module": "@jupyter-widgets/controls",
      "model_module_version": "1.5.0",
      "model_name": "ButtonModel",
      "state": {
       "description": "Export Image",
       "layout": "IPY_MODEL_10b53e9589fd4770b83fee45fccc88ba",
       "style": "IPY_MODEL_ed7cce5c144244fea85ac1d886b9c8c9"
      }
     }
    },
    "version_major": 2,
    "version_minor": 0
   }
  }
 },
 "nbformat": 4,
 "nbformat_minor": 4
}
