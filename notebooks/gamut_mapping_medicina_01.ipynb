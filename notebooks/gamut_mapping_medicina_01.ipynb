{
 "cells": [
  {
   "cell_type": "markdown",
   "metadata": {
    "colab_type": "text",
    "id": "pRS6nhpu1R6y"
   },
   "source": [
    "# Gamut Mapping - Medicina 01"
   ]
  },
  {
   "cell_type": "markdown",
   "metadata": {},
   "source": [
    "## Introduction"
   ]
  },
  {
   "cell_type": "markdown",
   "metadata": {},
   "source": [
    "This notebook implements an interactive widget used to investigate various gamut models in the context for the [ACES VWG on Gamut Mapping](https://community.acescentral.com/c/aces-development-acesnext/vwg-aces-gamut-mapping-working-group/).\n",
    "\n",
    "It is assumed that the reader has some knowledge about image processing and colour management pipelines in the Media and Entertainment Industry. An introductory publication on the topic is [Cinematic Color: From Your Monitor to the Big Screen](https://cinematiccolor.org/) by Selan (2012).\n",
    "\n",
    "Because the imagery represents scene-referred exposure values, the gamut mapped images should ideally be exported and viewed with an appropriate *View Transform*, typically an *ACES RRT + sRGB ODT* transforms combination.\n",
    "\n",
    "\n",
    "Images courtesy of:\n",
    "\n",
    "- [Justin Holt](https://www.dropbox.com/sh/u6z2a0jboo4vno8/AAB-10qcflhpr0C5LWhs7Kq4a?dl=0)\n",
    "- [Thomas Mansencal](https://community.acescentral.com/t/spectral-images-generation-and-processing/)\n",
    "- [Fabian Matas](https://www.dropbox.com/sh/u6z2a0jboo4vno8/AAB-10qcflhpr0C5LWhs7Kq4a?dl=0)\n",
    "- [Carol Payne](https://www.dropbox.com/sh/u6z2a0jboo4vno8/AAB-10qcflhpr0C5LWhs7Kq4a?dl=0)\n",
    "- [Martin Smekal](https://community.acescentral.com/t/vfx-work-in-acescg-with-out-of-gamut-devices/2385)"
   ]
  },
  {
   "cell_type": "markdown",
   "metadata": {},
   "source": [
    "## Imports & Overall Settings"
   ]
  },
  {
   "cell_type": "code",
   "execution_count": 1,
   "metadata": {},
   "outputs": [],
   "source": [
    "%matplotlib widget"
   ]
  },
  {
   "cell_type": "code",
   "execution_count": 2,
   "metadata": {
    "colab": {
     "base_uri": "https://localhost:8080/",
     "height": 340
    },
    "colab_type": "code",
    "id": "OydMmtZRxd3c",
    "outputId": "297a43b9-f566-405d-e8bc-cfae56b50959"
   },
   "outputs": [
    {
     "name": "stdout",
     "output_type": "stream",
     "text": [
      "===============================================================================\n",
      "*                                                                             *\n",
      "*   Interpreter :                                                             *\n",
      "*       python : 3.7.6 (default, Dec 30 2019, 19:38:26)                       *\n",
      "*                [Clang 11.0.0 (clang-1100.0.33.16)]                          *\n",
      "*                                                                             *\n",
      "*   colour-science.org :                                                      *\n",
      "*       colour : v0.3.15-132-g8ed24e8e                                        *\n",
      "*                                                                             *\n",
      "*   Runtime :                                                                 *\n",
      "*       imageio : 2.8.0                                                       *\n",
      "*       matplotlib : 3.0.3                                                    *\n",
      "*       numpy : 1.18.4                                                        *\n",
      "*       scipy : 1.4.1                                                         *\n",
      "*       six : 1.14.0                                                          *\n",
      "*                                                                             *\n",
      "===============================================================================\n"
     ]
    }
   ],
   "source": [
    "from __future__ import division, unicode_literals\n",
    "\n",
    "import colour\n",
    "import ipympl.backend_nbagg\n",
    "import ipywidgets\n",
    "import matplotlib.gridspec as gridspec\n",
    "import matplotlib.patches as patches\n",
    "import matplotlib.pyplot as plt\n",
    "import numpy as np\n",
    "import os\n",
    "import scipy.interpolate\n",
    "from matplotlib.collections import PathCollection\n",
    "from matplotlib._layoutbox import plot_children\n",
    "\n",
    "DEFAULT_BOX_DECORATION_WIDTH = 4\n",
    "MPL_BOX_DECORATION_WIDTH = 28\n",
    "\n",
    "COLOUR_STYLE = colour.plotting.colour_style()\n",
    "COLOUR_STYLE.update({\n",
    "    'legend.framealpha':\n",
    "    colour.plotting.COLOUR_STYLE_CONSTANTS.opacity.low\n",
    "})\n",
    "\n",
    "plt.style.use(COLOUR_STYLE)\n",
    "\n",
    "plt.style.use('dark_background')\n",
    "\n",
    "colour.utilities.describe_environment()\n",
    "\n",
    "colour.utilities.filter_warnings(*[True] * 4);"
   ]
  },
  {
   "cell_type": "markdown",
   "metadata": {},
   "source": [
    "## Widgets Styling"
   ]
  },
  {
   "cell_type": "markdown",
   "metadata": {},
   "source": [
    "CSS style for various widgets to improve overall presentation."
   ]
  },
  {
   "cell_type": "code",
   "execution_count": 3,
   "metadata": {},
   "outputs": [
    {
     "data": {
      "text/html": [
       "<style>\n",
       ".widget-button {\n",
       "    margin-left: 10px;\n",
       "    margin-right: 10px;\n",
       "}\n",
       "</style>\n"
      ],
      "text/plain": [
       "<IPython.core.display.HTML object>"
      ]
     },
     "metadata": {},
     "output_type": "display_data"
    }
   ],
   "source": [
    "%%html\n",
    "<style>\n",
    ".widget-button {\n",
    "    margin-left: 10px;\n",
    "    margin-right: 10px;\n",
    "}\n",
    "</style>"
   ]
  },
  {
   "cell_type": "markdown",
   "metadata": {
    "colab_type": "text",
    "id": "5yCeFpnnp_wh"
   },
   "source": [
    "## Colour Wheel Generation"
   ]
  },
  {
   "cell_type": "markdown",
   "metadata": {},
   "source": [
    "Utility function responsible to produce a scene-referred colour wheel."
   ]
  },
  {
   "cell_type": "code",
   "execution_count": 4,
   "metadata": {
    "colab": {},
    "colab_type": "code",
    "id": "RshonIbOI4Ij"
   },
   "outputs": [],
   "source": [
    "def colour_wheel(samples=1024, clip_circle=False, method='Colour'):\n",
    "    xx, yy = np.meshgrid(\n",
    "        np.linspace(-1, 1, samples), np.linspace(-1, 1, samples))\n",
    "\n",
    "    S = np.sqrt(xx ** 2 + yy ** 2)    \n",
    "    H = (np.arctan2(xx, yy) + np.pi) / (np.pi * 2)\n",
    "\n",
    "    HSV = colour.utilities.tstack([H, S, np.ones(H.shape)])\n",
    "    RGB = colour.HSV_to_RGB(HSV)\n",
    "\n",
    "    if clip_circle == True:\n",
    "        RGB[S > 1] = 0\n",
    "        A = np.where(S > 1, 0, 1)\n",
    "    else:\n",
    "        A = np.ones(S.shape)\n",
    "\n",
    "    if method.lower()== 'matplotlib':\n",
    "        RGB = colour.utilities.orient(RGB, '90 CW')\n",
    "    elif method.lower()== 'nuke':\n",
    "        RGB = colour.utilities.orient(RGB, 'Flip')\n",
    "        RGB = colour.utilities.orient(RGB, '90 CW')\n",
    "\n",
    "    R, G, B = colour.utilities.tsplit(RGB)\n",
    "    \n",
    "    return colour.utilities.tstack([R, G, B, A])"
   ]
  },
  {
   "cell_type": "markdown",
   "metadata": {},
   "source": [
    "## Utility Functions & Objects"
   ]
  },
  {
   "cell_type": "markdown",
   "metadata": {},
   "source": [
    "Various random utility functions and objects."
   ]
  },
  {
   "cell_type": "code",
   "execution_count": 5,
   "metadata": {},
   "outputs": [],
   "source": [
    "def batch(sequence, count):\n",
    "    for i in range(0, len(sequence), count):\n",
    "        yield sequence[i:i + count]\n",
    "        \n",
    "\n",
    "def border_layout():\n",
    "    return ipywidgets.widgets.Layout(\n",
    "        border='solid {0}px #222'.format(4),\n",
    "        margin='{0}px'.format(DEFAULT_BOX_DECORATION_WIDTH),\n",
    "        padding='0')\n",
    "\n",
    "\n",
    "def adjust_exposure(a, EV):\n",
    "    a = colour.utilities.as_float_array(a)\n",
    "\n",
    "    return a * pow(2, EV)"
   ]
  },
  {
   "cell_type": "markdown",
   "metadata": {},
   "source": [
    "## Gamut Medicina Base Widget"
   ]
  },
  {
   "cell_type": "markdown",
   "metadata": {},
   "source": [
    "The `GamutMedicinaBaseWidget` base widget class is inherited by the concrete sub-classes implementing the various gamut mapping study models.\n",
    "\n",
    "At its core it is itself an `ipywidgets.widgets.Box` sub-class which outputs a [Matplotlib](http://matplotlib.org/) figure composed of three sub-plots:\n",
    "\n",
    "- **Reference Image**: Required, 1 cartesian `Axes`\n",
    "- **Colour Wheel**: Optional, 1 cartesian `Axes` and 1 polar `Axes`\n",
    "- **Chromaticity Diagram**: Optional, 1 cartesian `Axes`\n",
    "\n",
    "Trivial layout heuristic is implemented to support optionally enabling or disabling the **Colour Wheel** and **Chromaticity Diagram** sub-plots."
   ]
  },
  {
   "cell_type": "markdown",
   "metadata": {},
   "source": [
    "### Reference Image"
   ]
  },
  {
   "cell_type": "markdown",
   "metadata": {},
   "source": [
    "The **Reference Image** sub-plot is responsible for displaying the gamut mapped scene-referred imagery.\n",
    "\n",
    "*Note*\n",
    "\n",
    "> To improve the performance of the notebook, the *View Transform*, i.e. a S-Curve, converting the scene-referred imagery to output-referred values is omitted."
   ]
  },
  {
   "cell_type": "markdown",
   "metadata": {},
   "source": [
    "### Colour Wheel"
   ]
  },
  {
   "cell_type": "markdown",
   "metadata": {},
   "source": [
    "The **Colour Wheel** sub-plot is used to represent the controls for the gamut mapping study models adopting a cylindrical or conic working space.\n",
    "\n",
    "The colour wheel is drawn on a cartesian `Axes` on top of which is overlayed a polar `Axes` used to draw the control regions."
   ]
  },
  {
   "cell_type": "markdown",
   "metadata": {},
   "source": [
    "### Chromaticity Diagram"
   ]
  },
  {
   "cell_type": "markdown",
   "metadata": {},
   "source": [
    "The **Chromaticity Diagram** sub-plot is also used to represent the controls for the gamut mapping study models into the *Chromaticity Diagram 1976 UCS* based on the [CIE L\\*u\\*v\\*](https://fr.wikipedia.org/wiki/L*u*v*_CIE_1976) colourspace.\n",
    "\n",
    "It also features the following elements:\n",
    "\n",
    "- *RGB Working Space* gamut, i.e. *ACEScg/AP1*, large triangle\n",
    "- *RGB Display Space* gamut, i.e. *sRGB*, small triangle\n",
    "- Scatter of the decimated **Reference Image** data\n",
    "- Scatter of the ColorChecker Classic data, white scatter points\n"
   ]
  },
  {
   "cell_type": "code",
   "execution_count": 6,
   "metadata": {},
   "outputs": [
    {
     "data": {
      "application/vnd.jupyter.widget-view+json": {
       "model_id": "43927616b1944a69b120b2d28f1d39f0",
       "version_major": 2,
       "version_minor": 0
      },
      "text/plain": [
       "GamutMedicinaBaseWidget(children=(Output(layout=Layout(border='solid 4px #222', margin='4px', padding='0')), T…"
      ]
     },
     "metadata": {},
     "output_type": "display_data"
    }
   ],
   "source": [
    "class GamutMedicinaBaseWidget(ipywidgets.widgets.Box):\n",
    "    def __init__(self,\n",
    "                 reference_image_path=None,\n",
    "                 working_space=colour.models.ACES_CG_COLOURSPACE,\n",
    "                 reference_space=colour.models.ACES_2065_1_COLOURSPACE,\n",
    "                 display_space=colour.models.sRGB_COLOURSPACE,\n",
    "                 colour_wheel_samples=256,\n",
    "                 image_decimation=10,\n",
    "                 reference_image_exposure=0,\n",
    "                 figure_size=(11, None),\n",
    "                 padding=0.005,\n",
    "                 spacing=0.005,\n",
    "                 show_labels=False,\n",
    "                 enable_colour_wheel=True,\n",
    "                 enable_chromaticity_diagram=True,\n",
    "                 debug_layout=False):\n",
    "        super().__init__()\n",
    "\n",
    "        self._reference_image_path = reference_image_path\n",
    "        self._working_space = working_space\n",
    "        self._reference_space = reference_space\n",
    "        self._display_space = display_space\n",
    "        self._colour_wheel_samples = colour_wheel_samples\n",
    "        self._image_decimation = image_decimation\n",
    "        self._reference_image_exposure = reference_image_exposure\n",
    "        self._figure_size = figure_size\n",
    "        self._padding = padding\n",
    "        self._spacing = spacing\n",
    "        self._show_labels = show_labels\n",
    "        self._enable_colour_wheel = enable_colour_wheel\n",
    "        self._enable_chromaticity_diagram = enable_chromaticity_diagram\n",
    "\n",
    "        self._enable = True\n",
    "\n",
    "        self._reference_image = None\n",
    "        self._reference_image_pre_working = None\n",
    "        self._reference_image_working = None\n",
    "        self._reference_image_mapped = None\n",
    "        self._reference_image_display = None\n",
    "\n",
    "        if self._enable_colour_wheel:\n",
    "            self._colour_wheel = None\n",
    "\n",
    "        if self._enable_chromaticity_diagram:\n",
    "            self._decimated_image_pre_working = None\n",
    "            self._decimated_image_working = None\n",
    "            self._decimated_image_display = None\n",
    "\n",
    "        self._colour_checker = None\n",
    "        self._colour_checker_uv = None\n",
    "\n",
    "        self._output = None\n",
    "        self._figure = None\n",
    "        self._grid_spec = None\n",
    "        self._reference_image_axes = None\n",
    "        self._reference_image_imshow = None\n",
    "\n",
    "        if self._enable_colour_wheel:\n",
    "            self._colour_wheel_cartersian_axes = None\n",
    "            self._colour_wheel_imshow = None\n",
    "            self._colour_wheel_polar_axes = None\n",
    "\n",
    "        if self._enable_chromaticity_diagram:\n",
    "            self._chromaticity_diagram_axes = None\n",
    "            self._scatter_offsets_i = None\n",
    "            self._scatter_facecolor_i = None\n",
    "\n",
    "        self._disable_medidicina_CheckBox = None\n",
    "        self._global_controls_HBox = None\n",
    "        self._controls_Tab = None\n",
    "\n",
    "        self.initialize_data()\n",
    "        self.initialize_axes()\n",
    "        self.initialise_widgets()\n",
    "        self.attach_callbacks()\n",
    "\n",
    "        if debug_layout:\n",
    "            plot_children(self._figure, self._figure._layoutbox, printit=False)\n",
    "\n",
    "    def initialize_data(self):\n",
    "        # *** Reference Image ***\n",
    "        self._reference_image = (colour.read_image(self._reference_image_path)\n",
    "                                 if self._reference_image_path is not None else\n",
    "                                 np.random.rand(540, 960, 3))\n",
    "        self._reference_image_path = (self._reference_image_path\n",
    "                                      if self._reference_image_path is not None\n",
    "                                      else 'Random.exr')\n",
    "        self._reference_image_pre_working = self.reference_space_to_working_space(\n",
    "            self._reference_image)\n",
    "        self._reference_image_working = self._reference_image_pre_working\n",
    "        self._reference_image_mapped = self._reference_image_pre_working\n",
    "        self._reference_image_display = self.working_space_to_display_space(\n",
    "            self._reference_image_working)\n",
    "\n",
    "        # *** Colour Wheel ***\n",
    "        if self._enable_colour_wheel:\n",
    "            self._colour_wheel = colour_wheel(\n",
    "                self._colour_wheel_samples, method='Matplotlib')\n",
    "\n",
    "        # *** Decimated Image, i.e. Scatter ***\n",
    "        if self._enable_chromaticity_diagram:\n",
    "            self._decimated_image_pre_working = (\n",
    "                self._reference_image_working[::self._image_decimation, ::self.\n",
    "                                              _image_decimation, :]).reshape(\n",
    "                                                  -1, 3)\n",
    "            self._decimated_image_working = self._decimated_image_pre_working\n",
    "            self._decimated_image_display = (\n",
    "                self.working_space_to_display_space(\n",
    "                    self._decimated_image_working))\n",
    "\n",
    "        # *** Colour Checker\n",
    "        colour_checker = colour.COLOURCHECKERS[\n",
    "            'ColorChecker24 - After November 2014']\n",
    "        colour_checker_data = colour.utilities.as_float_array(\n",
    "            list(colour_checker.data.values()))\n",
    "        self._colour_checker_uv = colour.xy_to_Luv_uv(\n",
    "            colour_checker_data[:, 0:2])\n",
    "\n",
    "    def initialize_axes(self):\n",
    "        self._output = ipywidgets.widgets.Output()\n",
    "\n",
    "        image_height, image_width, channels = self._reference_image.shape\n",
    "        if self._figure_size[-1] is None:\n",
    "            if self._enable_colour_wheel and self._enable_chromaticity_diagram:\n",
    "                width = image_height / 2 + image_width\n",
    "                height = image_height - self._padding * 100 - self._spacing * 100\n",
    "                # Unresolved fudge factor to ensure plots line up.\n",
    "                height -= int(height * 0.05)\n",
    "            elif self._enable_colour_wheel or self._enable_chromaticity_diagram:\n",
    "                width = image_height + image_width\n",
    "                height = image_height\n",
    "            else:\n",
    "                width = image_width\n",
    "                height = image_height\n",
    "            ratio = self._figure_size[0] * 100 / width\n",
    "            figure_size = (width / 100 * ratio, height / 100 * ratio)\n",
    "        else:\n",
    "            figure_size = self._figure_size\n",
    "\n",
    "        with self._output:\n",
    "            self._figure = plt.figure(\n",
    "                figsize=figure_size,\n",
    "                constrained_layout=True,\n",
    "                facecolor=[2 / 3 / 10] * 3)\n",
    "            self._figure.canvas.toolbar_visible = False\n",
    "            self._figure.canvas.header_visible = False\n",
    "            self._figure.canvas.footer_visible = True\n",
    "            self._figure.canvas.resizable = False\n",
    "            self._figure.tight_layout()\n",
    "\n",
    "        if self._enable_colour_wheel and self._enable_chromaticity_diagram:\n",
    "            rows = columns = 2\n",
    "            colour_wheel_indices = 0, 0\n",
    "            chromaticity_diagram_indices = 1, 0\n",
    "            reference_image_indices = slice(0, None, None), slice(\n",
    "                1, None, None)\n",
    "            width_ratios = [1, 2 * image_width / image_height]\n",
    "        elif not self._enable_colour_wheel and not self._enable_chromaticity_diagram:\n",
    "            rows = columns = 1\n",
    "            colour_wheel_indices = chromaticity_diagram_indices = None\n",
    "            reference_image_indices = 0, 0\n",
    "            width_ratios = [1]\n",
    "        else:\n",
    "            rows = 1\n",
    "            columns = 2\n",
    "            colour_wheel_indices = chromaticity_diagram_indices = 0, 0\n",
    "            reference_image_indices = 0, 1\n",
    "            width_ratios = [1, image_width / image_height]\n",
    "\n",
    "        self._grid_spec = gridspec.GridSpec(\n",
    "            ncols=columns,\n",
    "            nrows=rows,\n",
    "            figure=self._figure,\n",
    "            width_ratios=width_ratios,\n",
    "            wspace=self._spacing,\n",
    "            hspace=self._spacing)\n",
    "        self._figure.set_constrained_layout_pads(\n",
    "            w_pad=self._padding, h_pad=self._padding)\n",
    "\n",
    "        # Colour Wheel Axes\n",
    "        if self._enable_colour_wheel:\n",
    "            self._colour_wheel_cartersian_axes = self._figure.add_subplot(\n",
    "                self._grid_spec[colour_wheel_indices[0], colour_wheel_indices[\n",
    "                    1]],\n",
    "                label='Cartesian Axes')\n",
    "            self._colour_wheel_cartersian_axes.axis('off')\n",
    "            circle = patches.Circle(\n",
    "                [0.5, 0.5],\n",
    "                radius=0.5,\n",
    "                transform=self._colour_wheel_cartersian_axes.transData)\n",
    "            self._colour_wheel_imshow = self._colour_wheel_cartersian_axes.imshow(\n",
    "                np.clip(self._colour_wheel, 0, 1),\n",
    "                extent=[0, 1, 0, 1],\n",
    "                clip_path=None)\n",
    "            self._colour_wheel_imshow.set_clip_path(circle)\n",
    "\n",
    "            self._colour_wheel_polar_axes = self._figure.add_subplot(\n",
    "                self._grid_spec[colour_wheel_indices[0], colour_wheel_indices[\n",
    "                    1]],\n",
    "                projection='polar',\n",
    "                label='Polar Axes')\n",
    "            self._colour_wheel_polar_axes.set_xlim(0, np.pi * 2)\n",
    "            self._colour_wheel_polar_axes.set_ylim(0, 1)\n",
    "            self._colour_wheel_polar_axes.patch.set_alpha(0)\n",
    "            self._colour_wheel_polar_axes.grid(alpha=0.15)\n",
    "            if not self._show_labels:\n",
    "                self._colour_wheel_polar_axes.set_xticklabels([])\n",
    "            self._colour_wheel_polar_axes.set_yticklabels([])\n",
    "\n",
    "        # Chromaticity Diagram Axes\n",
    "        if self._enable_chromaticity_diagram:\n",
    "            self._chromaticity_diagram_axes = self._figure.add_subplot(\n",
    "                self._grid_spec[chromaticity_diagram_indices[0],\n",
    "                                chromaticity_diagram_indices[1]])\n",
    "            self._chromaticity_diagram_axes.patch.set_alpha(0)\n",
    "            (colour.plotting.\n",
    "             plot_RGB_chromaticities_in_chromaticity_diagram_CIE1976UCS(\n",
    "                 self._decimated_image_working,\n",
    "                 colourspace=self._working_space,\n",
    "                 colourspaces=['sRGB'],\n",
    "                 axes=self._chromaticity_diagram_axes,\n",
    "                 standalone=False,\n",
    "                 transparent_background=False,\n",
    "                 spectral_locus_colours='RGB',\n",
    "                 spectral_locus_labels=[],\n",
    "                 diagram_opacity=0,\n",
    "                 scatter_kwargs={'s': 1},\n",
    "                 title=str(),\n",
    "                 x_label=str(),\n",
    "                 y_label=str(),\n",
    "                 legend=False))\n",
    "            self._chromaticity_diagram_axes.tick_params(\n",
    "                axis='y', which='both', direction='in')\n",
    "            self._chromaticity_diagram_axes.tick_params(\n",
    "                axis='x', which='both', direction='in')\n",
    "            self._chromaticity_diagram_axes.minorticks_off()\n",
    "            self._chromaticity_diagram_axes.grid(alpha=0.15)\n",
    "            for collection in self._chromaticity_diagram_axes.collections:\n",
    "                if isinstance(collection, PathCollection):\n",
    "                    self._scatter_path_collection = collection\n",
    "                    break\n",
    "\n",
    "            if not self._show_labels:\n",
    "                self._chromaticity_diagram_axes.set_xticklabels([])\n",
    "                self._chromaticity_diagram_axes.set_yticklabels([])\n",
    "\n",
    "            self._scatter_offsets_i = self._scatter_path_collection.get_offsets(\n",
    "            )\n",
    "            self._scatter_facecolor_i = self._scatter_path_collection.get_facecolor(\n",
    "            )\n",
    "            self._chromaticity_diagram_axes.scatter(\n",
    "                self._colour_checker_uv[:, 0],\n",
    "                self._colour_checker_uv[:, 1],\n",
    "                c='white',\n",
    "                marker='D',\n",
    "                s=5)\n",
    "\n",
    "        # Reference Image Axes\n",
    "        self._reference_image_axes = self._figure.add_subplot(self._grid_spec[\n",
    "            reference_image_indices[0], reference_image_indices[1]])\n",
    "        self._reference_image_axes.set_xticks([])\n",
    "        self._reference_image_axes.set_yticks([])\n",
    "        self._reference_image_imshow = self._reference_image_axes.imshow(\n",
    "            self.working_space_to_display_space(self._reference_image_working))\n",
    "\n",
    "    def initialise_widgets(self):\n",
    "        # *** Widgets ***\n",
    "        self._disable_medidicina_CheckBox = (\n",
    "            ipywidgets.widgets.Checkbox(description='Disable Medicina'))\n",
    "        self._export_reference_image_Button = (\n",
    "            ipywidgets.widgets.Button(description=\"Export Image\"))\n",
    "        self._save_figure_image_Button = (\n",
    "            ipywidgets.widgets.Button(description=\"Save Figure\"))\n",
    "        self._show_out_of_gamut_CheckBox = (\n",
    "            ipywidgets.widgets.Checkbox(description='Show Out-of-Gamut'))\n",
    "        self._reset_exposure_Button = (\n",
    "            ipywidgets.widgets.Button(description=\"Reset Exposure\"))\n",
    "        self._exposure_FloatSlider = (ipywidgets.widgets.FloatSlider(\n",
    "            min=-8.0,\n",
    "            max=8.0,\n",
    "            step=0.1,\n",
    "            value=self._reference_image_exposure,\n",
    "            description='Exposure'))\n",
    "\n",
    "        # *** Layout ***\n",
    "        self.layout.display = 'flex'\n",
    "        self.layout.flex_flow = 'column'\n",
    "        self.layout.align_items = 'stretch'\n",
    "        self.layout.width = '{0}px'.format(self._figure_size[0] * 100 +\n",
    "                                           MPL_BOX_DECORATION_WIDTH)\n",
    "\n",
    "        self._global_controls_HBox = ipywidgets.widgets.HBox([\n",
    "            self._disable_medidicina_CheckBox,\n",
    "            self._export_reference_image_Button,\n",
    "            self._save_figure_image_Button,\n",
    "        ])\n",
    "\n",
    "        self._viewer_controls_HBox = ipywidgets.widgets.HBox([\n",
    "            self._show_out_of_gamut_CheckBox,\n",
    "            self._reset_exposure_Button,\n",
    "            self._exposure_FloatSlider,\n",
    "        ])\n",
    "\n",
    "        self._controls_Tab = ipywidgets.widgets.Tab(children=[\n",
    "            self._global_controls_HBox,\n",
    "            self._viewer_controls_HBox,\n",
    "        ])\n",
    "        self._controls_Tab.set_title(0, 'Global Controls')\n",
    "        self._controls_Tab.set_title(1, 'Viewer Controls')\n",
    "\n",
    "        self._controls_Tab.layout = border_layout()\n",
    "\n",
    "        self._output.layout = border_layout()\n",
    "        self.children = [self._output, self._controls_Tab]\n",
    "\n",
    "    def attach_callbacks(self):\n",
    "        self._disable_medidicina_CheckBox.observe(self.toggle_medidicina)\n",
    "        self._export_reference_image_Button.on_click(\n",
    "            self.export_reference_image)\n",
    "        self._save_figure_image_Button.on_click(self.save_figure)\n",
    "        self._show_out_of_gamut_CheckBox.observe(self.toggle_out_of_gamut)\n",
    "        self._reset_exposure_Button.on_click(self.reset_exposure)\n",
    "        self._exposure_FloatSlider.observe(self.set_exposure, 'value')\n",
    "\n",
    "    def reference_space_to_working_space(self, RGB):\n",
    "        return colour.RGB_to_RGB(RGB, self._reference_space,\n",
    "                                 self._working_space)\n",
    "\n",
    "    def working_space_to_reference_space(self, RGB):\n",
    "        return colour.RGB_to_RGB(RGB, self._working_space,\n",
    "                                 self._reference_space)\n",
    "\n",
    "    def working_space_to_display_space(self,\n",
    "                                       RGB,\n",
    "                                       apply_encoding_cctf=True,\n",
    "                                       clip=True,\n",
    "                                       show_out_of_gamut=False):\n",
    "        RGB = np.copy(RGB)\n",
    "\n",
    "        if show_out_of_gamut:\n",
    "            RGB[RGB > 0] = 0\n",
    "            RGB[RGB < 0] = 1\n",
    "\n",
    "        RGB = colour.RGB_to_RGB(\n",
    "            RGB,\n",
    "            self._working_space,\n",
    "            self._display_space,\n",
    "            apply_encoding_cctf=apply_encoding_cctf)\n",
    "\n",
    "        if clip:\n",
    "            return np.clip(RGB, 0, 1)\n",
    "        else:\n",
    "            return RGB\n",
    "\n",
    "    def update_scatter_plot(self, RGB):\n",
    "        if self._enable_chromaticity_diagram:\n",
    "            RGB = RGB[RGB[:, 1].argsort()]\n",
    "            XYZ = colour.RGB_to_XYZ(RGB, self._working_space.whitepoint,\n",
    "                                    self._working_space.whitepoint,\n",
    "                                    self._working_space.RGB_to_XYZ_matrix)\n",
    "            uv = colour.Luv_to_uv(\n",
    "                colour.XYZ_to_Luv(XYZ, self._working_space.whitepoint),\n",
    "                self._working_space.whitepoint)\n",
    "            self._scatter_path_collection.set_offsets(uv)\n",
    "            self._scatter_path_collection.set_facecolor(\n",
    "                self.working_space_to_display_space(\n",
    "                    RGB,\n",
    "                    show_out_of_gamut=self._show_out_of_gamut_CheckBox.value))\n",
    "\n",
    "    def toggle_medidicina(self, change):\n",
    "        if not change:\n",
    "            return\n",
    "\n",
    "        if change['name'] == 'value':\n",
    "            self._enable = not change['new']\n",
    "\n",
    "            self.update_widget(None)\n",
    "\n",
    "    def export_reference_image(self, change):\n",
    "        path = os.path.splitext(self._reference_image_path)[0]\n",
    "\n",
    "        colour.write_image(\n",
    "            self.working_space_to_reference_space(\n",
    "                self._reference_image_mapped), '{0}_{1}.exr'.format(\n",
    "                    path, self.__class__.__name__))\n",
    "\n",
    "    def save_figure(self, change):\n",
    "        path = os.path.splitext(self._reference_image_path)[0]\n",
    "        plt.savefig(\n",
    "            '{0}_{1}.png'.format(path, self.__class__.__name__),\n",
    "            facecolor=[2 / 3 / 10] * 3,\n",
    "            transparent=False,\n",
    "            bbox_inches='tight')\n",
    "\n",
    "    def reset_exposure(self, change):\n",
    "        self._exposure_FloatSlider.value = 0\n",
    "\n",
    "        self.set_exposure(0)\n",
    "\n",
    "    def toggle_out_of_gamut(self, change):\n",
    "        if not change:\n",
    "            return\n",
    "\n",
    "        if change['name'] == 'value':\n",
    "            self.update_widget(None)\n",
    "\n",
    "    def set_exposure(self, change):\n",
    "        if not change:\n",
    "            return\n",
    "\n",
    "        if change['name'] == 'value':\n",
    "            EV = self._exposure_FloatSlider.value\n",
    "            self._reference_image_working = adjust_exposure(\n",
    "                self._reference_image_pre_working, EV)\n",
    "\n",
    "            if self._enable_chromaticity_diagram:\n",
    "                self._decimated_image_working = adjust_exposure(\n",
    "                    self._decimated_image_pre_working, EV)\n",
    "\n",
    "            self.update_widget(None)\n",
    "\n",
    "    def update_widget(self, change):\n",
    "        if (not self._enable\n",
    "                or self.__class__.__name__ == 'GamutMedicinaBaseWidget'):\n",
    "            self._reference_image_imshow.set_data(\n",
    "                self.working_space_to_display_space(\n",
    "                    self._reference_image_working,\n",
    "                    show_out_of_gamut=self._show_out_of_gamut_CheckBox.value))\n",
    "\n",
    "            if self._enable_chromaticity_diagram:\n",
    "                self.update_scatter_plot(self._decimated_image_working)\n",
    "\n",
    "            self._figure.canvas.draw_idle()\n",
    "\n",
    "\n",
    "GamutMedicinaBaseWidget()"
   ]
  },
  {
   "cell_type": "code",
   "execution_count": 7,
   "metadata": {},
   "outputs": [
    {
     "data": {
      "application/vnd.jupyter.widget-view+json": {
       "model_id": "3a0d790f3b5342de89f947bdc4275aa6",
       "version_major": 2,
       "version_minor": 0
      },
      "text/plain": [
       "GamutMedicinaBaseWidget(children=(Output(layout=Layout(border='solid 4px #222', margin='4px', padding='0')), T…"
      ]
     },
     "metadata": {},
     "output_type": "display_data"
    }
   ],
   "source": [
    "GamutMedicinaBaseWidget(enable_colour_wheel=False)"
   ]
  },
  {
   "cell_type": "code",
   "execution_count": 8,
   "metadata": {},
   "outputs": [
    {
     "data": {
      "application/vnd.jupyter.widget-view+json": {
       "model_id": "80cd8537224f4270bddd43d11f76e4be",
       "version_major": 2,
       "version_minor": 0
      },
      "text/plain": [
       "GamutMedicinaBaseWidget(children=(Output(layout=Layout(border='solid 4px #222', margin='4px', padding='0')), T…"
      ]
     },
     "metadata": {},
     "output_type": "display_data"
    }
   ],
   "source": [
    "GamutMedicinaBaseWidget(enable_chromaticity_diagram=False)"
   ]
  },
  {
   "cell_type": "code",
   "execution_count": 9,
   "metadata": {},
   "outputs": [
    {
     "data": {
      "application/vnd.jupyter.widget-view+json": {
       "model_id": "7289b4332f024ca390b45d4cd61692fb",
       "version_major": 2,
       "version_minor": 0
      },
      "text/plain": [
       "GamutMedicinaBaseWidget(children=(Output(layout=Layout(border='solid 4px #222', margin='4px', padding='0')), T…"
      ]
     },
     "metadata": {},
     "output_type": "display_data"
    }
   ],
   "source": [
    "GamutMedicinaBaseWidget(\n",
    "    enable_colour_wheel=False, enable_chromaticity_diagram=False)"
   ]
  },
  {
   "cell_type": "markdown",
   "metadata": {},
   "source": [
    "## Compression & Blending Functions"
   ]
  },
  {
   "cell_type": "markdown",
   "metadata": {},
   "source": [
    "Gamut mapping commonly involves compressing data from a larger space to a smaller space.\n",
    "\n",
    "Three sigmoid compression functions are defined:\n",
    "\n",
    "- **tanh**, a function based on the *Hyperbolic Tangent*:\n",
    "$$a + b \\cdot tanh\\bigg(\\cfrac{x - a}{b}\\bigg)$$ where $a$ is the compression threshold, i.e. the point at which the function starts compressing the value $x$ and $b$ is the compression limit, i.e. the point at which the compression reaches the limit.\n",
    "- **atan**, a function based on the *Arc Tangent*:\n",
    "$$a + b \\cdot\\cfrac{2}{\\pi}\\cdot atan\\Bigg(\\cfrac{\\cfrac{\\pi}{2}\\cdot\\big(x - a\\big)}{b}\\Bigg)$$\n",
    "- **Simple**, a simple compression function:\n",
    "$$a + \\Bigg(\\cfrac{-1}{\\bigg(\\cfrac{x - a}{b} + 1\\bigg)} + 1 \\Bigg) \\cdot b$$"
   ]
  },
  {
   "cell_type": "code",
   "execution_count": 10,
   "metadata": {},
   "outputs": [],
   "source": [
    "def tanh_compression_function(x, a=0.8, b=1 - 0.8):\n",
    "    x = colour.utilities.as_float_array(x)\n",
    "\n",
    "    return np.where(x > a, a + b * np.tanh((x - a) / b), x)\n",
    "\n",
    "\n",
    "def atan_compression_function(x, a=0.8, b=1 - 0.8):\n",
    "    x = colour.utilities.as_float_array(x)\n",
    "\n",
    "    return np.where(x > a, a + b * 2 / np.pi * np.arctan(((np.pi / 2) * (x - a)) / b), x)\n",
    "\n",
    "\n",
    "def simple_compression_function(x, a=0.8, b=1 - 0.8):\n",
    "    x = colour.utilities.as_float_array(x)\n",
    "\n",
    "    return np.where(x > a, a + (-1 / ((x - a) / b + 1) + 1) * b, x)\n",
    "\n",
    "\n",
    "COMPRESSION_FUNCTIONS = {\n",
    "    'tanh' : tanh_compression_function,\n",
    "    'atan' : atan_compression_function,\n",
    "    'simple' : simple_compression_function,\n",
    "}\n",
    "\n",
    "\n",
    "def smoothstep(x, a=0, b=1):\n",
    "    i = np.clip((x - a) / (b - a), 0, 1)\n",
    "\n",
    "    return i**2 * (3 - 2 * i)\n",
    "\n",
    "\n",
    "def derivative(x, func, d=1e-7):\n",
    "    return (func(x + d) - func(x - d)) / (2 * d)"
   ]
  },
  {
   "cell_type": "code",
   "execution_count": 11,
   "metadata": {},
   "outputs": [
    {
     "data": {
      "application/vnd.jupyter.widget-view+json": {
       "model_id": "f07b0af406e441e9acc325885fb85168",
       "version_major": 2,
       "version_minor": 0
      },
      "text/plain": [
       "Canvas(toolbar=Toolbar(toolitems=[('Home', 'Reset original view', 'home', 'home'), ('Back', 'Back to previous …"
      ]
     },
     "metadata": {},
     "output_type": "display_data"
    }
   ],
   "source": [
    "colour.plotting.plot_multi_functions(\n",
    "    {\n",
    "        'tanh': tanh_compression_function,\n",
    "        'd/dx(tanh)': lambda x: derivative(x, tanh_compression_function),\n",
    "        'atan': atan_compression_function,\n",
    "        'd/dx(atan)': lambda x: derivative(x, atan_compression_function),\n",
    "        'simple': simple_compression_function,\n",
    "        'd/dx(simple)': lambda x: derivative(x, simple_compression_function),\n",
    "    },\n",
    "    **{\n",
    "        'figure.figsize': (11, 11),\n",
    "        'bounding_box': (0.5, 1.75, 0, 1.25),\n",
    "        'samples':\n",
    "        np.linspace(0, 2, 1000),\n",
    "        'plot_kwargs': [\n",
    "            {\n",
    "                'c': 'r',\n",
    "                'linestyle': 'dashdot'\n",
    "            },\n",
    "            {\n",
    "                'c': 'r'\n",
    "            },\n",
    "            {\n",
    "                'c': 'g',\n",
    "                'linestyle': 'dashdot'\n",
    "            },\n",
    "            {\n",
    "                'c': 'g'\n",
    "            },\n",
    "            {\n",
    "                'c': 'b',\n",
    "                'linestyle': 'dashdot'\n",
    "            },\n",
    "            {\n",
    "                'c': 'b'\n",
    "            },\n",
    "        ]\n",
    "    },\n",
    ");"
   ]
  },
  {
   "cell_type": "markdown",
   "metadata": {},
   "source": [
    "## Mansencal and Scharfenberg (2020) - HSV Control Based Study Model"
   ]
  },
  {
   "cell_type": "markdown",
   "metadata": {},
   "source": [
    "*Mansencal and Scharfenberg (2020)* gamut mapping study model is built on top of the [HSV colourspace](https://en.wikipedia.org/wiki/HSL_and_HSV):\n",
    "\n",
    "- Scene-referred RGB exposure values are converted to HSV.\n",
    "- The saturation component $S$ is compressed with a cherry-picked compression function, e.g. $tanh$.\n",
    "- The hue component $H$ is warped according to user defined control values.\n",
    "- The HSV values are converted back to scene-referred RGB exposure values and then blended with the original scene-referred RGB exposure values function through a smoothstep function.\n",
    "\n",
    "The model offers good controls but might tend to exhibit excessive saturation of secondary colours, i.e. cyan, yellow and especially magenta.\n",
    "This can be tuned with the hue controls.\n",
    "\n",
    "More information is available on [ACEScentral](https://community.acescentral.com/t/gamut-mapping-in-cylindrical-and-conic-spaces/)."
   ]
  },
  {
   "cell_type": "code",
   "execution_count": 12,
   "metadata": {},
   "outputs": [
    {
     "data": {
      "application/vnd.jupyter.widget-view+json": {
       "model_id": "dd1048213c2f4c40856eeb07ed7ccfbb",
       "version_major": 2,
       "version_minor": 0
      },
      "text/plain": [
       "GamutMedicinaHSVControlWidget(children=(Output(layout=Layout(border='solid 4px #222', margin='4px', padding='0…"
      ]
     },
     "metadata": {},
     "output_type": "display_data"
    }
   ],
   "source": [
    "def medicina_HSV_control(RGB, H, S, V, H_x, H_y, S_c, S_m, C_f, HSV_to_RGB):\n",
    "    S_m = S_m[..., np.newaxis]\n",
    "\n",
    "    interpolator = scipy.interpolate.interp1d(H_x, H_y)\n",
    "\n",
    "    HSV_c = colour.utilities.tstack(\n",
    "        [interpolator(H) % 1, C_f(S, S_c, 1 - S_c), V])\n",
    "\n",
    "    return HSV_to_RGB(HSV_c) * S_m + RGB * (1 - S_m)\n",
    "\n",
    "\n",
    "class GamutMedicinaHSVControlWidget(GamutMedicinaBaseWidget):\n",
    "    def __init__(self,\n",
    "                 reference_image=None,\n",
    "                 hue_wedge=45,\n",
    "                 protected_area_threshold=0.7,\n",
    "                 compression_threshold=0.8,\n",
    "                 compression_function='tanh',\n",
    "                 RGB_to_HSV=colour.RGB_to_HSV,\n",
    "                 HSV_to_RGB=colour.HSV_to_RGB,\n",
    "                 *args,\n",
    "                 **kwargs):\n",
    "\n",
    "        self._hue_wedge = hue_wedge\n",
    "        self._protected_area_threshold = protected_area_threshold\n",
    "        self._compression_threshold = compression_threshold\n",
    "        self._compression_function = compression_function\n",
    "\n",
    "        self.RGB_to_HSV = RGB_to_HSV\n",
    "        self.HSV_to_RGB = HSV_to_RGB\n",
    "\n",
    "        super().__init__(reference_image, *args, **kwargs)\n",
    "\n",
    "        self._RGB_r = None\n",
    "        self._H_r = self._S_r = self._V_r = None\n",
    "        self._S_r_m = None\n",
    "\n",
    "        if self._enable_colour_wheel:\n",
    "            self._RGB_w = None\n",
    "            self._H_w = self._S_w = self._V_w = None\n",
    "            self._S_w_m = None\n",
    "\n",
    "        if self._enable_chromaticity_diagram:\n",
    "            self._RGB_d = None\n",
    "            self._H_d = self._S_d = self._V_d = None\n",
    "            self._S_d_m = None\n",
    "\n",
    "        self._angles = None\n",
    "        self._x_i = self._y_i = self._y_i = None\n",
    "\n",
    "        if self._enable_colour_wheel:\n",
    "            self._protected_area_threshold_colour_wheel_plot = None\n",
    "            self._compression_threshold_colour_wheel_plot = None\n",
    "            self._hue_controls_plot = None\n",
    "\n",
    "        if self._enable_chromaticity_diagram:\n",
    "            self._protected_area_threshold_chromaticity_diagram_plot = None\n",
    "            self._compression_threshold_chromaticity_diagram_plot = None\n",
    "\n",
    "        self._reset_protected_area_controls_Button = None\n",
    "        self._protected_area_threshold_FloatSlider = None\n",
    "        self._reset_compression_controls_Button = None\n",
    "        self._compression_threshold_FloatSlider = None\n",
    "        self._reset_hue_controls_Button = None\n",
    "        self._wedge_controls = None\n",
    "        self._protected_area_controls_HBox = None\n",
    "        self._saturation_controls_HBox = None\n",
    "        self._hue_controls_HBox = None\n",
    "\n",
    "        self.initialize_data()\n",
    "        self.initialize_axes()\n",
    "        self.initialise_widgets()\n",
    "        self.attach_callbacks()\n",
    "\n",
    "        self.update_widget(None)\n",
    "\n",
    "    def initialize_data(self):\n",
    "        super().initialize_data()\n",
    "\n",
    "        # *** Reference Image ***\n",
    "        self._RGB_r = self._reference_image_working\n",
    "        self._H_r, self._S_r, self._V_r = colour.utilities.tsplit(\n",
    "            self.RGB_to_HSV(self._reference_image_working))\n",
    "        self._S_r_m = smoothstep(self._S_r, self._protected_area_threshold,\n",
    "                                 self._compression_threshold)\n",
    "\n",
    "        # *** Colour Wheel ***\n",
    "        if self._enable_colour_wheel:\n",
    "            self._RGB_w = self._colour_wheel[..., 0:3]\n",
    "            self._H_w, self._S_w, self._V_w = colour.utilities.tsplit(\n",
    "                self.RGB_to_HSV(self._RGB_w))\n",
    "            self._S_w_m = smoothstep(self._S_w, self._protected_area_threshold,\n",
    "                                     self._compression_threshold)\n",
    "\n",
    "        # *** Decimated Image, i.e. Scatter ***\n",
    "        if self._enable_chromaticity_diagram:\n",
    "            self._RGB_d = self._decimated_image_working\n",
    "            self._H_d, self._S_d, self._V_d = colour.utilities.tsplit(\n",
    "                self.RGB_to_HSV(self._decimated_image_working))\n",
    "            self._S_d_m = smoothstep(self._S_d, self._protected_area_threshold,\n",
    "                                     self._compression_threshold)\n",
    "\n",
    "        # *** Angles ***\n",
    "        self._angles = np.arange(0, 360, self._hue_wedge) / 360\n",
    "\n",
    "        # *** Initial State ***\n",
    "        self._x_i = np.hstack([self._angles, 1])\n",
    "        self._y_i = self._angles\n",
    "        self._y_i = np.hstack([self._y_i, self._y_i[0] + 1])\n",
    "\n",
    "    def initialize_axes(self):\n",
    "        super().initialize_axes()\n",
    "\n",
    "        circumference = np.linspace(0, np.pi * 2, self._colour_wheel_samples)\n",
    "        # Colour Wheel Axes\n",
    "        if self._enable_colour_wheel:\n",
    "            self._protected_area_threshold_colour_wheel_plot = (\n",
    "                self._colour_wheel_polar_axes.plot(\n",
    "                    circumference,\n",
    "                    np.full(self._colour_wheel_samples,\n",
    "                            self._protected_area_threshold),\n",
    "                    linestyle='dotted',\n",
    "                    color='yellow')[0])\n",
    "            self._compression_threshold_colour_wheel_plot = (\n",
    "                self._colour_wheel_polar_axes.plot(\n",
    "                    circumference,\n",
    "                    np.full(self._colour_wheel_samples,\n",
    "                            self._compression_threshold),\n",
    "                    linestyle='dashdot',\n",
    "                    color='cyan')[0])\n",
    "\n",
    "            self._hue_controls_plot = (self._colour_wheel_polar_axes.plot(\n",
    "                self._y_i * np.pi * 2,\n",
    "                np.ones(self._y_i.shape),\n",
    "                'o-',\n",
    "                color='white')[0])\n",
    "\n",
    "        # Chromaticity Diagram Axes\n",
    "        if self._enable_chromaticity_diagram:\n",
    "            self._protected_area_threshold_chromaticity_diagram_plot = (\n",
    "                self._chromaticity_diagram_axes.plot(\n",
    "                    circumference,\n",
    "                    circumference,\n",
    "                    linestyle='dotted',\n",
    "                    color='yellow')[0])\n",
    "            self._compression_threshold_chromaticity_diagram_plot = (\n",
    "                self._chromaticity_diagram_axes.plot(\n",
    "                    circumference,\n",
    "                    circumference,\n",
    "                    linestyle='dashdot',\n",
    "                    color='cyan')[0])\n",
    "\n",
    "    def initialise_widgets(self):\n",
    "        super().initialise_widgets()\n",
    "\n",
    "        # *** Widgets ***\n",
    "        self._reset_protected_area_controls_Button = (\n",
    "            ipywidgets.widgets.Button(description=\"Reset Protected Area\"))\n",
    "        self._protected_area_threshold_FloatSlider = (\n",
    "            ipywidgets.widgets.FloatSlider(\n",
    "                min=0.0,\n",
    "                max=1.0,\n",
    "                step=0.01,\n",
    "                value=self._protected_area_threshold,\n",
    "                description='Protected Area Threshold'))\n",
    "\n",
    "        self._reset_compression_controls_Button = (\n",
    "            ipywidgets.widgets.Button(description=\"Reset Saturation Controls\"))\n",
    "        compression_functions = list(COMPRESSION_FUNCTIONS.keys())\n",
    "        self._compression_function_DropDown = ipywidgets.widgets.Dropdown(\n",
    "            options=compression_functions,\n",
    "            value=self._compression_function,\n",
    "            description='Compression Function:',\n",
    "        )\n",
    "        self._compression_threshold_FloatSlider = (\n",
    "            ipywidgets.widgets.FloatSlider(\n",
    "                min=0.0,\n",
    "                max=1.0,\n",
    "                step=0.01,\n",
    "                value=self._compression_threshold,\n",
    "                description='Compression Threshold'))\n",
    "\n",
    "        self._reset_hue_controls_Button = ipywidgets.widgets.Button(\n",
    "            description=\"Reset Hue Controls\")\n",
    "        self._wedge_controls = [\n",
    "            ipywidgets.widgets.FloatSlider(\n",
    "                min=-1,\n",
    "                max=1,\n",
    "                step=0.01,\n",
    "                value=0,\n",
    "                description='{0}°'.format(int(angle * 360)))\n",
    "            for angle in self._angles\n",
    "        ]\n",
    "\n",
    "        # *** Layout ***\n",
    "        self._protected_area_controls_HBox = ipywidgets.widgets.HBox([\n",
    "            self._reset_protected_area_controls_Button,\n",
    "            self._protected_area_threshold_FloatSlider,\n",
    "        ])\n",
    "\n",
    "        self._saturation_controls_HBox = ipywidgets.widgets.HBox([\n",
    "            self._reset_compression_controls_Button,\n",
    "            self._compression_function_DropDown,\n",
    "            self._compression_threshold_FloatSlider\n",
    "        ])\n",
    "\n",
    "        wedge_controls_batches = batch(self._wedge_controls, 3)\n",
    "        self._hue_controls_HBox = ipywidgets.widgets.HBox(\n",
    "            [ipywidgets.widgets.VBox([self._reset_hue_controls_Button])] + [\n",
    "                ipywidgets.widgets.VBox(wedge_controls)\n",
    "                for wedge_controls in wedge_controls_batches\n",
    "            ])\n",
    "\n",
    "        self._controls_Tab.children += (\n",
    "            self._protected_area_controls_HBox,\n",
    "            self._saturation_controls_HBox,\n",
    "            self._hue_controls_HBox,\n",
    "        )\n",
    "\n",
    "        self._controls_Tab.set_title(2, 'Protected Area Controls')\n",
    "        self._controls_Tab.set_title(3, 'Saturation Controls')\n",
    "        self._controls_Tab.set_title(4, 'Hue Controls')\n",
    "\n",
    "    def attach_callbacks(self):\n",
    "        super().attach_callbacks()\n",
    "\n",
    "        self._reset_protected_area_controls_Button.on_click(\n",
    "            self.reset_protected_area_controls)\n",
    "        self._protected_area_threshold_FloatSlider.observe(\n",
    "            self.update_protected_area_mask, 'value')\n",
    "\n",
    "        self._reset_compression_controls_Button.on_click(\n",
    "            self.reset_compression_controls)\n",
    "        self._compression_function_DropDown.observe(self.update_widget,\n",
    "                                                    'value')\n",
    "        self._compression_threshold_FloatSlider.observe(\n",
    "            self.update_widget, 'value')\n",
    "\n",
    "        self._reset_hue_controls_Button.on_click(self.reset_hue_controls)\n",
    "        for slider in self._wedge_controls:\n",
    "            slider.observe(self.update_widget, 'value')\n",
    "\n",
    "    def set_exposure(self, change):\n",
    "        if not change:\n",
    "            return\n",
    "\n",
    "        if change['name'] == 'value':\n",
    "            EV = self._exposure_FloatSlider.value\n",
    "\n",
    "            self._RGB_r = adjust_exposure(self._reference_image_pre_working,\n",
    "                                          EV)\n",
    "            self._H_r, self._S_r, self._V_r = colour.utilities.tsplit(\n",
    "                self.RGB_to_HSV(self._RGB_r))\n",
    "\n",
    "            if self._enable_chromaticity_diagram:\n",
    "                self._RGB_d = adjust_exposure(\n",
    "                    self._decimated_image_pre_working, EV)\n",
    "                self._H_d, self._S_d, self._V_d = colour.utilities.tsplit(\n",
    "                    self.RGB_to_HSV(self._RGB_d))\n",
    "\n",
    "            self.update_protected_area_mask({'name': 'value'})\n",
    "\n",
    "    def update_region_colour_wheel_plot(self, V_r, region_colour_wheel_plot):\n",
    "        if self._enable_colour_wheel:\n",
    "            region_colour_wheel_plot.set_ydata(\n",
    "                np.full(self._colour_wheel_samples, V_r))\n",
    "\n",
    "    def update_protected_area_threshold_colour_wheel_plot(self, U_r):\n",
    "        if self._enable_colour_wheel:\n",
    "            self.update_region_colour_wheel_plot(\n",
    "                U_r, self._protected_area_threshold_colour_wheel_plot)\n",
    "\n",
    "    def update_compression_threshold_colour_wheel_plot(self, S_c):\n",
    "        if self._enable_colour_wheel:\n",
    "            self.update_region_colour_wheel_plot(\n",
    "                S_c, self._compression_threshold_colour_wheel_plot)\n",
    "\n",
    "    def update_region_chromaticity_diagram_plot(\n",
    "            self, V_r, region_chromaticity_diagram_plot):\n",
    "        if self._enable_chromaticity_diagram:\n",
    "            HSV = colour.utilities.tstack([\n",
    "                np.linspace(0, 1, self._colour_wheel_samples),\n",
    "                np.full(self._colour_wheel_samples, V_r),\n",
    "                np.ones(self._colour_wheel_samples)\n",
    "            ])\n",
    "            uv = colour.Luv_to_uv(\n",
    "                colour.XYZ_to_Luv(\n",
    "                    colour.RGB_to_XYZ(\n",
    "                        self.HSV_to_RGB(HSV), self._working_space.whitepoint,\n",
    "                        self._working_space.whitepoint,\n",
    "                        self._working_space.RGB_to_XYZ_matrix),\n",
    "                    self._working_space.whitepoint))\n",
    "\n",
    "            region_chromaticity_diagram_plot.set_data(uv[:, 0], uv[:, 1])\n",
    "\n",
    "    def update_protected_area_threshold_chromaticity_diagram_plot(self, U_r):\n",
    "        if self._enable_chromaticity_diagram:\n",
    "            self.update_region_chromaticity_diagram_plot(\n",
    "                U_r, self._protected_area_threshold_chromaticity_diagram_plot)\n",
    "\n",
    "    def update_compression_threshold_chromaticity_diagram_plot(self, S_c):\n",
    "        if self._enable_chromaticity_diagram:\n",
    "            self.update_region_chromaticity_diagram_plot(\n",
    "                S_c, self._compression_threshold_chromaticity_diagram_plot)\n",
    "\n",
    "    def update_protected_area_mask(self, change):\n",
    "        if not change:\n",
    "            return\n",
    "\n",
    "        if change['name'] == 'value':\n",
    "            U_r = self._protected_area_threshold_FloatSlider.value\n",
    "            S_c = self._compression_threshold_FloatSlider.value\n",
    "\n",
    "            self._S_d_m = smoothstep(self._S_d, U_r, S_c)\n",
    "\n",
    "            if self._enable_colour_wheel:\n",
    "                self._S_w_m = smoothstep(self._S_w, U_r, S_c)\n",
    "\n",
    "            if self._enable_chromaticity_diagram:\n",
    "                self._S_r_m = smoothstep(self._S_r, U_r, S_c)\n",
    "\n",
    "        self.update_widget(None)\n",
    "\n",
    "    def wedge_control_to_hue_offset(self, value):\n",
    "        slider = self._wedge_controls[0]\n",
    "\n",
    "        return colour.utilities.linear_conversion(\n",
    "            value, [slider.min, slider.max],\n",
    "            [-self._hue_wedge / 360, self._hue_wedge / 360])\n",
    "\n",
    "    def reset_protected_area_controls(self, change):\n",
    "        self._protected_area_threshold_FloatSlider.value = (\n",
    "            self._protected_area_threshold)\n",
    "\n",
    "        self.update_protected_area_mask(None)\n",
    "\n",
    "    def reset_compression_controls(self, change):\n",
    "        self._compression_threshold_FloatSlider.value = (\n",
    "            self._compression_threshold)\n",
    "\n",
    "        self.update_widget(None)\n",
    "\n",
    "    def reset_hue_controls(self, change):\n",
    "        for slider in self._wedge_controls:\n",
    "            slider.value = 0\n",
    "\n",
    "        self.update_widget(None)\n",
    "\n",
    "    def update_reference_image_axes(self, S_c, H_y, C_f, show_out_of_gamut):\n",
    "        RGB_r = medicina_HSV_control(self._RGB_r, self._H_r, self._S_r,\n",
    "                                     self._V_r, self._x_i, H_y, S_c,\n",
    "                                     self._S_r_m, C_f, self.HSV_to_RGB)\n",
    "        self._reference_image_mapped = RGB_r\n",
    "        self._reference_image_imshow.set_data(\n",
    "            self.working_space_to_display_space(\n",
    "                RGB_r, show_out_of_gamut=show_out_of_gamut))\n",
    "\n",
    "    def update_colour_wheel_axes(self, U_r, S_c, H_y, H_o, C_f):\n",
    "        if self._enable_colour_wheel:\n",
    "            R_w, G_w, B_w = colour.utilities.tsplit(\n",
    "                medicina_HSV_control(self._RGB_w, self._H_w, self._S_w,\n",
    "                                     self._V_w, self._x_i, H_y, S_c,\n",
    "                                     self._S_w_m, C_f, self.HSV_to_RGB))\n",
    "            self._colour_wheel_imshow.set_data(\n",
    "                np.clip(\n",
    "                    colour.tstack([R_w, G_w, B_w,\n",
    "                                   self._colour_wheel[..., -1]]), 0, 1))\n",
    "            self.update_protected_area_threshold_colour_wheel_plot(U_r)\n",
    "            self.update_compression_threshold_colour_wheel_plot(S_c)\n",
    "\n",
    "            H_x = H_o + self._angles\n",
    "            H_x = np.hstack([H_x, H_x[0]])\n",
    "            self._hue_controls_plot.set_xdata(H_x * np.pi * 2)\n",
    "\n",
    "    def update_chromaticity_diagram_axes(self, U_r, S_c, H_y, C_f):\n",
    "        if self._enable_chromaticity_diagram:\n",
    "            RGB_r_s = medicina_HSV_control(self._RGB_d, self._H_d, self._S_d,\n",
    "                                           self._V_d, self._x_i, H_y, S_c,\n",
    "                                           self._S_d_m, C_f, self.HSV_to_RGB)\n",
    "            self.update_scatter_plot(RGB_r_s)\n",
    "            self.update_protected_area_threshold_chromaticity_diagram_plot(U_r)\n",
    "            self.update_compression_threshold_chromaticity_diagram_plot(S_c)\n",
    "\n",
    "    def update_widget(self, change):\n",
    "        super().update_widget(change)\n",
    "\n",
    "        if self._enable:\n",
    "            U_r = self._protected_area_threshold_FloatSlider.value\n",
    "            S_c = self._compression_threshold_FloatSlider.value\n",
    "            C_f = COMPRESSION_FUNCTIONS[\n",
    "                self._compression_function_DropDown.value]\n",
    "            show_out_of_gamut = self._show_out_of_gamut_CheckBox.value\n",
    "\n",
    "            hue_offsets = np.array([\n",
    "                self.wedge_control_to_hue_offset(slider.value)\n",
    "                for slider in self._wedge_controls\n",
    "            ])\n",
    "\n",
    "            H_y = -hue_offsets + self._angles\n",
    "            H_y = np.hstack([H_y, H_y[0] + 1])\n",
    "\n",
    "            self.update_reference_image_axes(S_c, H_y, C_f, show_out_of_gamut)\n",
    "\n",
    "            if self._enable_colour_wheel:\n",
    "                self.update_colour_wheel_axes(U_r, S_c, H_y, hue_offsets, C_f)\n",
    "\n",
    "            if self._enable_chromaticity_diagram:\n",
    "                self.update_chromaticity_diagram_axes(U_r, S_c, H_y, C_f)\n",
    "\n",
    "            self._figure.canvas.draw_idle()\n",
    "\n",
    "\n",
    "GamutMedicinaHSVControlWidget(\n",
    "    '../resources/images/A009C002_190210_R0EI_Alexa_LogCWideGamut.exr')"
   ]
  },
  {
   "cell_type": "code",
   "execution_count": 13,
   "metadata": {},
   "outputs": [
    {
     "data": {
      "application/vnd.jupyter.widget-view+json": {
       "model_id": "154b73d2ad5d4d5ab9d8ed5a1c02bd8a",
       "version_major": 2,
       "version_minor": 0
      },
      "text/plain": [
       "GamutMedicinaHSVControlWidget(children=(Output(layout=Layout(border='solid 4px #222', margin='4px', padding='0…"
      ]
     },
     "metadata": {},
     "output_type": "display_data"
    }
   ],
   "source": [
    "GamutMedicinaHSVControlWidget('../resources/images/A002_C029_06025K.exr')"
   ]
  },
  {
   "cell_type": "code",
   "execution_count": 14,
   "metadata": {},
   "outputs": [
    {
     "data": {
      "application/vnd.jupyter.widget-view+json": {
       "model_id": "f0efecf4b4c745a9a92342b1f570dc1f",
       "version_major": 2,
       "version_minor": 0
      },
      "text/plain": [
       "GamutMedicinaHSVControlWidget(children=(Output(layout=Layout(border='solid 4px #222', margin='4px', padding='0…"
      ]
     },
     "metadata": {},
     "output_type": "display_data"
    }
   ],
   "source": [
    "GamutMedicinaHSVControlWidget(\n",
    "    '../resources/images/Cornell_Box_Rigid_Spheres_190_Patch_Roughplastic_Point_Grey_Grasshopper_50S5C_RGB_W_A.exr')"
   ]
  },
  {
   "cell_type": "code",
   "execution_count": 15,
   "metadata": {},
   "outputs": [
    {
     "data": {
      "application/vnd.jupyter.widget-view+json": {
       "model_id": "09d0212944c848179c2c463949e9cd3e",
       "version_major": 2,
       "version_minor": 0
      },
      "text/plain": [
       "GamutMedicinaHSVControlWidget(children=(Output(layout=Layout(border='solid 4px #222', margin='4px', padding='0…"
      ]
     },
     "metadata": {},
     "output_type": "display_data"
    }
   ],
   "source": [
    "GamutMedicinaHSVControlWidget(\n",
    "    '../resources/images/5DMarkII_Spac-o-ween_001.exr',\n",
    "    enable_colour_wheel=False)"
   ]
  },
  {
   "cell_type": "code",
   "execution_count": 16,
   "metadata": {},
   "outputs": [
    {
     "data": {
      "application/vnd.jupyter.widget-view+json": {
       "model_id": "c9105c9ea2304f29a719d7052f9fd9bf",
       "version_major": 2,
       "version_minor": 0
      },
      "text/plain": [
       "GamutMedicinaHSVControlWidget(children=(Output(layout=Layout(border='solid 4px #222', margin='4px', padding='0…"
      ]
     },
     "metadata": {},
     "output_type": "display_data"
    }
   ],
   "source": [
    "GamutMedicinaHSVControlWidget(\n",
    "    '../resources/images/Collage_01.exr',\n",
    "    enable_colour_wheel=False)"
   ]
  },
  {
   "cell_type": "markdown",
   "metadata": {},
   "source": [
    "## Smith (2020) - RGB Saturation Study Model"
   ]
  },
  {
   "cell_type": "markdown",
   "metadata": {},
   "source": [
    "*Smith (2020)* gamut mapping study model is directly operating in the RGB colourspace:\n",
    "\n",
    "- Like with the HSV colourspace, an achromatic axis is computed for the scene-referred RGB exposure values.\n",
    "- The pseudo-distance between the individual $R$, $G$ and $B$ components and the achromatic axis is compressed with a cherry-picked compression function, e.g. $tanh$.\n",
    "\n",
    "The model is extremely simple and elegant while offering good computational speed.\n",
    "\n",
    "More information is available on [ACEScentral](https://community.acescentral.com/t/rgb-saturation-gamut-mapping-approach-and-a-comp-vfx-perspective/)."
   ]
  },
  {
   "cell_type": "code",
   "execution_count": 17,
   "metadata": {},
   "outputs": [
    {
     "data": {
      "application/vnd.jupyter.widget-view+json": {
       "model_id": "fd780460dcf64681bbe44980d569a049",
       "version_major": 2,
       "version_minor": 0
      },
      "text/plain": [
       "GamutMedicinaRGBSaturationWidget(children=(Output(layout=Layout(border='solid 4px #222', margin='4px', padding…"
      ]
     },
     "metadata": {},
     "output_type": "display_data"
    }
   ],
   "source": [
    "def medicina_RGB_saturation(RGB, C_t, C_f):\n",
    "    C_t = 1 - C_t\n",
    "\n",
    "    L = np.max(RGB, axis=-1)[..., np.newaxis]\n",
    "\n",
    "    D = np.abs(RGB - L) / L\n",
    "\n",
    "    D_c = C_f(D, C_t, 1 - C_t)\n",
    "\n",
    "    RGB_c = L - D_c * L\n",
    "\n",
    "    return RGB_c\n",
    "\n",
    "\n",
    "class GamutMedicinaRGBSaturationWidget(GamutMedicinaBaseWidget):\n",
    "    def __init__(self,\n",
    "                 reference_image=None,\n",
    "                 compression_threshold=0.8,\n",
    "                 compression_function='tanh',\n",
    "                 *args,\n",
    "                 **kwargs):\n",
    "        self._compression_threshold = compression_threshold\n",
    "        self._compression_function = compression_function\n",
    "\n",
    "        kwargs['enable_colour_wheel'] = False\n",
    "\n",
    "        super().__init__(reference_image, *args, **kwargs)\n",
    "\n",
    "        self._RGB_w = None\n",
    "        self._RGB_r = None\n",
    "        self._RGB_d = None\n",
    "\n",
    "        self._compression_threshold_chromaticity_diagram_plot = None\n",
    "\n",
    "        self._reset_compression_controls_Button = None\n",
    "        self._compression_threshold_FloatSlider = None\n",
    "\n",
    "        self.initialize_data()\n",
    "        self.initialize_axes()\n",
    "        self.initialise_widgets()\n",
    "        self.attach_callbacks()\n",
    "\n",
    "        self.update_widget(None)\n",
    "\n",
    "    def initialize_data(self):\n",
    "        super().initialize_data()\n",
    "\n",
    "    def initialize_axes(self):\n",
    "        super().initialize_axes()\n",
    "\n",
    "    def initialise_widgets(self):\n",
    "        super().initialise_widgets()\n",
    "\n",
    "        # *** Widgets ***\n",
    "        self._reset_compression_controls_Button = (ipywidgets.widgets.Button(\n",
    "            description=\"Reset Compression Controls\"))\n",
    "        compression_functions = list(COMPRESSION_FUNCTIONS.keys())\n",
    "        self._compression_function_DropDown = ipywidgets.widgets.Dropdown(\n",
    "            options=compression_functions,\n",
    "            value=self._compression_function,\n",
    "            description='Compression Function:',\n",
    "        )\n",
    "        self._compression_threshold_FloatSlider = (\n",
    "            ipywidgets.widgets.FloatSlider(\n",
    "                min=0.0,\n",
    "                max=1.0,\n",
    "                step=0.01,\n",
    "                value=self._compression_threshold,\n",
    "                description='Compression Threshold'))\n",
    "\n",
    "        # *** Layout ***\n",
    "        self._compression_controls_HBox = ipywidgets.widgets.HBox([\n",
    "            self._reset_compression_controls_Button,\n",
    "            self._compression_function_DropDown,\n",
    "            self._compression_threshold_FloatSlider,\n",
    "        ])\n",
    "\n",
    "        self._controls_Tab.children += (self._compression_controls_HBox, )\n",
    "\n",
    "        self._controls_Tab.set_title(2, 'Compression Controls')\n",
    "\n",
    "    def attach_callbacks(self):\n",
    "        super().attach_callbacks()\n",
    "\n",
    "        self._reset_compression_controls_Button.on_click(\n",
    "            self.reset_compression_controls)\n",
    "        self._compression_function_DropDown.observe(self.update_widget,\n",
    "                                                    'value')\n",
    "        self._compression_threshold_FloatSlider.observe(\n",
    "            self.update_widget, 'value')\n",
    "\n",
    "    def reset_compression_controls(self, change):\n",
    "        self._compression_threshold_FloatSlider.value = (\n",
    "            self._compression_threshold)\n",
    "\n",
    "        self.update_widget(None)\n",
    "\n",
    "    def update_reference_image_axes(self, C_t, C_f, show_out_of_gamut):\n",
    "        RGB_r = medicina_RGB_saturation(self._reference_image_working, C_t,\n",
    "                                        C_f)\n",
    "        self._reference_image_mapped = RGB_r\n",
    "        self._reference_image_imshow.set_data(\n",
    "            self.working_space_to_display_space(\n",
    "                RGB_r, show_out_of_gamut=show_out_of_gamut))\n",
    "\n",
    "    def update_chromaticity_diagram_axes(self, C_t, C_f):\n",
    "        RGB_r_s = medicina_RGB_saturation(self._decimated_image_working, C_t,\n",
    "                                          C_f)\n",
    "        self.update_scatter_plot(RGB_r_s)\n",
    "\n",
    "    def update_widget(self, change):\n",
    "        super().update_widget(change)\n",
    "\n",
    "        if self._enable:\n",
    "            C_t = 1 - self._compression_threshold_FloatSlider.value\n",
    "            C_f = COMPRESSION_FUNCTIONS[\n",
    "                self._compression_function_DropDown.value]\n",
    "            show_out_of_gamut = self._show_out_of_gamut_CheckBox.value\n",
    "\n",
    "            self.update_reference_image_axes(C_t, C_f, show_out_of_gamut)\n",
    "            self.update_chromaticity_diagram_axes(C_t, C_f)\n",
    "\n",
    "            self._figure.canvas.draw_idle()\n",
    "\n",
    "\n",
    "GamutMedicinaRGBSaturationWidget(\n",
    "    '../resources/images/A009C002_190210_R0EI_Alexa_LogCWideGamut.exr')\n"
   ]
  },
  {
   "cell_type": "markdown",
   "metadata": {},
   "source": [
    "Note\n",
    "----\n",
    "\n",
    "> *Mansencal and Scharfenberg (2020)* gamut mapping study model twists the woodbard ceiling hues toward magenta in this example which is not pleasing but can be corrected with the Hue Controls. *Smith (2020)* gamut mapping study model is producing more appealing colours here."
   ]
  },
  {
   "cell_type": "code",
   "execution_count": 18,
   "metadata": {},
   "outputs": [
    {
     "data": {
      "application/vnd.jupyter.widget-view+json": {
       "model_id": "cd925450dc034f3bb902bed17e90093e",
       "version_major": 2,
       "version_minor": 0
      },
      "text/plain": [
       "GamutMedicinaHSVControlWidget(children=(Output(layout=Layout(border='solid 4px #222', margin='4px', padding='0…"
      ]
     },
     "metadata": {},
     "output_type": "display_data"
    }
   ],
   "source": [
    "GamutMedicinaHSVControlWidget(\n",
    "    '../resources/images/A009C002_190210_R0EI_Alexa_LogCWideGamut.exr',\n",
    "    enable_colour_wheel=False)"
   ]
  },
  {
   "cell_type": "code",
   "execution_count": 19,
   "metadata": {},
   "outputs": [
    {
     "data": {
      "application/vnd.jupyter.widget-view+json": {
       "model_id": "395b2c12c6814a99a160547d6033287f",
       "version_major": 2,
       "version_minor": 0
      },
      "text/plain": [
       "GamutMedicinaRGBSaturationWidget(children=(Output(layout=Layout(border='solid 4px #222', margin='4px', padding…"
      ]
     },
     "metadata": {},
     "output_type": "display_data"
    }
   ],
   "source": [
    "GamutMedicinaRGBSaturationWidget(\n",
    "    '../resources/images/Cornell_Box_Rigid_Spheres_190_Patch_Roughplastic_Point_Grey_Grasshopper_50S5C_RGB_W_A.exr')"
   ]
  },
  {
   "cell_type": "code",
   "execution_count": 20,
   "metadata": {},
   "outputs": [
    {
     "data": {
      "application/vnd.jupyter.widget-view+json": {
       "model_id": "c6083dd7885e4846b74e33e809ee45c0",
       "version_major": 2,
       "version_minor": 0
      },
      "text/plain": [
       "GamutMedicinaRGBSaturationWidget(children=(Output(layout=Layout(border='solid 4px #222', margin='4px', padding…"
      ]
     },
     "metadata": {},
     "output_type": "display_data"
    }
   ],
   "source": [
    "GamutMedicinaRGBSaturationWidget(\n",
    "    '../resources/images/5DMarkII_Spac-o-ween_001.exr')"
   ]
  },
  {
   "cell_type": "code",
   "execution_count": 21,
   "metadata": {},
   "outputs": [
    {
     "data": {
      "application/vnd.jupyter.widget-view+json": {
       "model_id": "b1f921f9daae4b51b9f121298358099d",
       "version_major": 2,
       "version_minor": 0
      },
      "text/plain": [
       "GamutMedicinaRGBSaturationWidget(children=(Output(layout=Layout(border='solid 4px #222', margin='4px', padding…"
      ]
     },
     "metadata": {},
     "output_type": "display_data"
    }
   ],
   "source": [
    "GamutMedicinaRGBSaturationWidget(\n",
    "    '../resources/images/Collage_01.exr')"
   ]
  },
  {
   "cell_type": "markdown",
   "metadata": {},
   "source": [
    "## Compared Model Distortions"
   ]
  },
  {
   "cell_type": "markdown",
   "metadata": {},
   "source": [
    "Various model distortions comparisons.\n",
    "\n",
    "Note\n",
    "----\n",
    "\n",
    "> *Mansencal and Scharfenberg (2020)* gamut mapping study model tends to produce rounder surface area compared to that of *Smith (2020)*. Note also how the magenta area along the line of purples is much more compressed."
   ]
  },
  {
   "cell_type": "code",
   "execution_count": 22,
   "metadata": {},
   "outputs": [],
   "source": [
    "colour.write_image(\n",
    "    colour_wheel(clip_circle=False)[..., 0:3],\n",
    "    '../resources/images/Colour_Wheel.exr')"
   ]
  },
  {
   "cell_type": "code",
   "execution_count": 23,
   "metadata": {},
   "outputs": [
    {
     "data": {
      "application/vnd.jupyter.widget-view+json": {
       "model_id": "53ce18bd690f42a1a59a83ea2a4968ae",
       "version_major": 2,
       "version_minor": 0
      },
      "text/plain": [
       "GamutMedicinaHSVControlWidget(children=(Output(layout=Layout(border='solid 4px #222', margin='4px', padding='0…"
      ]
     },
     "metadata": {},
     "output_type": "display_data"
    }
   ],
   "source": [
    "GamutMedicinaHSVControlWidget(\n",
    "    '../resources/images/Colour_Wheel.exr',\n",
    "    image_decimation=20,\n",
    "    protected_area_threshold=0.5,\n",
    "    compression_threshold=0.5,\n",
    "    enable_colour_wheel=False)"
   ]
  },
  {
   "cell_type": "code",
   "execution_count": 24,
   "metadata": {},
   "outputs": [
    {
     "data": {
      "application/vnd.jupyter.widget-view+json": {
       "model_id": "8d613c27bae048168680c4f132a3ae59",
       "version_major": 2,
       "version_minor": 0
      },
      "text/plain": [
       "GamutMedicinaRGBSaturationWidget(children=(Output(layout=Layout(border='solid 4px #222', margin='4px', padding…"
      ]
     },
     "metadata": {},
     "output_type": "display_data"
    }
   ],
   "source": [
    "GamutMedicinaRGBSaturationWidget(\n",
    "    '../resources/images/Colour_Wheel.exr',\n",
    "    image_decimation=20,\n",
    "    compression_threshold=0.5)"
   ]
  }
 ],
 "metadata": {
  "colab": {
   "collapsed_sections": [],
   "name": "gamut_mapping_ramblings_01",
   "provenance": []
  },
  "kernelspec": {
   "display_name": "Python 3",
   "language": "python",
   "name": "python3"
  },
  "language_info": {
   "codemirror_mode": {
    "name": "ipython",
    "version": 3
   },
   "file_extension": ".py",
   "mimetype": "text/x-python",
   "name": "python",
   "nbconvert_exporter": "python",
   "pygments_lexer": "ipython3",
   "version": "3.7.6"
  },
  "widgets": {
   "application/vnd.jupyter.widget-state+json": {
    "state": {
     "003f1b8b139546a5946f08fd860aaa1f": {
      "model_module": "@jupyter-widgets/controls",
      "model_module_version": "1.5.0",
      "model_name": "SliderStyleModel",
      "state": {
       "description_width": ""
      }
     },
     "0076336e3d894ccbbe98129693d95520": {
      "model_module": "@jupyter-widgets/controls",
      "model_module_version": "1.5.0",
      "model_name": "VBoxModel",
      "state": {
       "children": [
        "IPY_MODEL_71be410720fe4cbe80d5a6c31d184e6b",
        "IPY_MODEL_e095e1799c794a9683a4819cca93daa9",
        "IPY_MODEL_78a69e117e4648a1880a031a7f340087"
       ],
       "layout": "IPY_MODEL_6c939d096d0b4acb95ccb40c2e8db319"
      }
     },
     "00d850e2c2e048ff9a452f3dd0305d68": {
      "model_module": "@jupyter-widgets/controls",
      "model_module_version": "1.5.0",
      "model_name": "DescriptionStyleModel",
      "state": {
       "description_width": ""
      }
     },
     "00ef0e2f603749e88f1aa576f40079b2": {
      "model_module": "@jupyter-widgets/base",
      "model_module_version": "1.2.0",
      "model_name": "LayoutModel",
      "state": {}
     },
     "010714dd6de244ecb90982c66b2c7d5c": {
      "model_module": "@jupyter-widgets/controls",
      "model_module_version": "1.5.0",
      "model_name": "ButtonStyleModel",
      "state": {}
     },
     "010cd36ee2d14ac89ccca7553d4ef188": {
      "model_module": "@jupyter-widgets/controls",
      "model_module_version": "1.5.0",
      "model_name": "ButtonModel",
      "state": {
       "description": "Reset Saturation Controls",
       "layout": "IPY_MODEL_2464f1c373d044b0b58a5675d84d7fee",
       "style": "IPY_MODEL_380913e775a7427f8777e02ddcda433b"
      }
     },
     "014b9a34e47e4af38ba95f08267ab033": {
      "model_module": "@jupyter-widgets/controls",
      "model_module_version": "1.5.0",
      "model_name": "SliderStyleModel",
      "state": {
       "description_width": ""
      }
     },
     "015ee2c2dbaa4deeb4858969f48f3787": {
      "model_module": "@jupyter-widgets/controls",
      "model_module_version": "1.5.0",
      "model_name": "ButtonModel",
      "state": {
       "description": "Export Image",
       "layout": "IPY_MODEL_82cd51da27a3471dae30df3cf2e15459",
       "style": "IPY_MODEL_6bf34ce5a85b4bfca1b075ef360813bf"
      }
     },
     "0165feb6046e4d359f5cfa3c14356e00": {
      "model_module": "@jupyter-widgets/controls",
      "model_module_version": "1.5.0",
      "model_name": "HBoxModel",
      "state": {
       "children": [
        "IPY_MODEL_201d7a813854451ab38655bb5408931b",
        "IPY_MODEL_be792a1c174148078e35035d863a4d94",
        "IPY_MODEL_b1d49a5240af4c199bb35710e59c0bd4"
       ],
       "layout": "IPY_MODEL_02bc85695da74e6099dc7e85640dad57"
      }
     },
     "0178309c2a3048cf8549f82783ed433c": {
      "model_module": "@jupyter-widgets/controls",
      "model_module_version": "1.5.0",
      "model_name": "SliderStyleModel",
      "state": {
       "description_width": ""
      }
     },
     "01a4be9f7f3c4a26bd703c7addd3c357": {
      "model_module": "@jupyter-widgets/controls",
      "model_module_version": "1.5.0",
      "model_name": "VBoxModel",
      "state": {
       "children": [
        "IPY_MODEL_cc55de4803904e25a71ce188d85c8cf6",
        "IPY_MODEL_c3e8f865cf9f413a9fa50136980d9bb7",
        "IPY_MODEL_70628a79c3ab459e99c0699baf028ce4"
       ],
       "layout": "IPY_MODEL_f88b3c86e6ba4acb8dca8f183061b3ed"
      }
     },
     "01c22dd943a14b939ecd8c4ab75f0959": {
      "model_module": "@jupyter-widgets/controls",
      "model_module_version": "1.5.0",
      "model_name": "ButtonModel",
      "state": {
       "description": "Export Image",
       "layout": "IPY_MODEL_7f4683f3e92d41ab96e7f56982517258",
       "style": "IPY_MODEL_ddf08c17af684b4a9b965dd56d599cef"
      }
     },
     "01e30c0ad1af4f26afcd643313d3bf5e": {
      "model_module": "@jupyter-widgets/base",
      "model_module_version": "1.2.0",
      "model_name": "LayoutModel",
      "state": {}
     },
     "01e99d9ce47f448199e606707faf851e": {
      "model_module": "jupyter-matplotlib",
      "model_module_version": "^0.7.2",
      "model_name": "MPLCanvasModel",
      "state": {
       "_figure_label": "Figure 26",
       "_height": 550,
       "_width": 1100,
       "header_visible": false,
       "layout": "IPY_MODEL_af41ae09e1414e2aa9c24495ce674822",
       "resizable": false,
       "toolbar": "IPY_MODEL_3b0c016c504e48acb887a2fb9341af6c",
       "toolbar_position": "left",
       "toolbar_visible": false
      }
     },
     "02457256d0dd41f1ad8dc8289e1d0024": {
      "model_module": "@jupyter-widgets/base",
      "model_module_version": "1.2.0",
      "model_name": "LayoutModel",
      "state": {}
     },
     "0296813155394f5588ac77aa6dd5a257": {
      "model_module": "@jupyter-widgets/controls",
      "model_module_version": "1.5.0",
      "model_name": "FloatSliderModel",
      "state": {
       "description": "270°",
       "layout": "IPY_MODEL_2f22fa4b6b994f599d64fd8a60882ce1",
       "max": 1,
       "min": -1,
       "step": 0.01,
       "style": "IPY_MODEL_7d095b2665cb45eeb2d914f24ab428c3"
      }
     },
     "02bc85695da74e6099dc7e85640dad57": {
      "model_module": "@jupyter-widgets/base",
      "model_module_version": "1.2.0",
      "model_name": "LayoutModel",
      "state": {}
     },
     "02beb7bad0ce4317bc58e008ca83b3ee": {
      "model_module": "@jupyter-widgets/controls",
      "model_module_version": "1.5.0",
      "model_name": "ButtonModel",
      "state": {
       "description": "Reset Saturation Controls",
       "layout": "IPY_MODEL_3dc33d46081548c89643bb6b24b9b0ce",
       "style": "IPY_MODEL_584bbe62c3854f169e1bfce732a47d7e"
      }
     },
     "02ea979d50c743188b41719c21af0e57": {
      "model_module": "@jupyter-widgets/base",
      "model_module_version": "1.2.0",
      "model_name": "LayoutModel",
      "state": {}
     },
     "02f23e498968493b909c4cb5b42b21b0": {
      "model_module": "@jupyter-widgets/base",
      "model_module_version": "1.2.0",
      "model_name": "LayoutModel",
      "state": {}
     },
     "031e337df0404abc8db0bac66ceab1ba": {
      "model_module": "@jupyter-widgets/controls",
      "model_module_version": "1.5.0",
      "model_name": "ButtonStyleModel",
      "state": {}
     },
     "0328527b9ae34d0c83874d001373c3cb": {
      "model_module": "@jupyter-widgets/controls",
      "model_module_version": "1.5.0",
      "model_name": "SliderStyleModel",
      "state": {
       "description_width": ""
      }
     },
     "038c40ecef5e4138ba7ba1f3440fb5b6": {
      "model_module": "@jupyter-widgets/base",
      "model_module_version": "1.2.0",
      "model_name": "LayoutModel",
      "state": {}
     },
     "038d9e02f1e14d0086b12ad52ef8b1e9": {
      "model_module": "@jupyter-widgets/controls",
      "model_module_version": "1.5.0",
      "model_name": "ButtonStyleModel",
      "state": {}
     },
     "0398c2f9510d40059307e0f61d32de42": {
      "model_module": "@jupyter-widgets/controls",
      "model_module_version": "1.5.0",
      "model_name": "ButtonModel",
      "state": {
       "description": "Save Figure",
       "layout": "IPY_MODEL_99b5d561b58d422a8a0fd8e4c3da4a36",
       "style": "IPY_MODEL_72bf1f7b470f43a8ad674148340d7eb0"
      }
     },
     "03cb58002ae74ee4a2ddbdf695d1831e": {
      "model_module": "@jupyter-widgets/controls",
      "model_module_version": "1.5.0",
      "model_name": "ButtonStyleModel",
      "state": {}
     },
     "03cd2d746a544a83bfde660f7a8e9068": {
      "model_module": "@jupyter-widgets/controls",
      "model_module_version": "1.5.0",
      "model_name": "ButtonStyleModel",
      "state": {}
     },
     "03fdbdcd79ea4645a2ea8406aa6c203a": {
      "model_module": "@jupyter-widgets/base",
      "model_module_version": "1.2.0",
      "model_name": "LayoutModel",
      "state": {}
     },
     "042267f4c7a3491db3b87f40326e7fbc": {
      "model_module": "@jupyter-widgets/controls",
      "model_module_version": "1.5.0",
      "model_name": "DescriptionStyleModel",
      "state": {
       "description_width": ""
      }
     },
     "042a104b8d2d40fbbee3c4633aae7d3b": {
      "model_module": "@jupyter-widgets/base",
      "model_module_version": "1.2.0",
      "model_name": "LayoutModel",
      "state": {}
     },
     "04378d45695140b281287693352375e2": {
      "model_module": "@jupyter-widgets/base",
      "model_module_version": "1.2.0",
      "model_name": "LayoutModel",
      "state": {}
     },
     "043c894d574449039ba9eeb35225b92c": {
      "model_module": "@jupyter-widgets/base",
      "model_module_version": "1.2.0",
      "model_name": "LayoutModel",
      "state": {}
     },
     "0559a68736eb471cb70e916cf8ea586c": {
      "model_module": "@jupyter-widgets/base",
      "model_module_version": "1.2.0",
      "model_name": "LayoutModel",
      "state": {}
     },
     "055ce3ae10844ca08d448ce2b5f8b132": {
      "model_module": "@jupyter-widgets/base",
      "model_module_version": "1.2.0",
      "model_name": "LayoutModel",
      "state": {}
     },
     "0561907bccd4415084038add3988280f": {
      "model_module": "@jupyter-widgets/controls",
      "model_module_version": "1.5.0",
      "model_name": "CheckboxModel",
      "state": {
       "description": "Disable Medicina",
       "disabled": false,
       "layout": "IPY_MODEL_dbfe32cbb59e4e23b8e0ccbdc881d57a",
       "style": "IPY_MODEL_12f543313e5a463eb9ec93c163f92a77",
       "value": false
      }
     },
     "05c15151512c4aca90534ebbb1e6fa43": {
      "model_module": "@jupyter-widgets/controls",
      "model_module_version": "1.5.0",
      "model_name": "HBoxModel",
      "state": {
       "children": [
        "IPY_MODEL_90f4fe9ce28d486f85c21c1ff32d7e3e",
        "IPY_MODEL_0f3f20949dc040d4896e8313c97ff840",
        "IPY_MODEL_de6501244954411585951f147f6a0dea",
        "IPY_MODEL_a28ba278acdb49808fe7c374258883e5"
       ],
       "layout": "IPY_MODEL_cbcddccb54d24ab89ae88b1f0e0dcb12"
      }
     },
     "06094f662b744c8abb31ea7aaae2ad33": {
      "model_module": "@jupyter-widgets/controls",
      "model_module_version": "1.5.0",
      "model_name": "FloatSliderModel",
      "state": {
       "description": "180°",
       "layout": "IPY_MODEL_6d8aa82bc3ac4f07b776aa379074fe11",
       "max": 1,
       "min": -1,
       "step": 0.01,
       "style": "IPY_MODEL_56d5a08d72654de5960eb4b1230e21e8"
      }
     },
     "062bb4f614c1404fbbeefce2b81f26cb": {
      "model_module": "@jupyter-widgets/base",
      "model_module_version": "1.2.0",
      "model_name": "LayoutModel",
      "state": {}
     },
     "06d6dcffaa8849639bb6db29a2b9fe44": {
      "model_module": "@jupyter-widgets/controls",
      "model_module_version": "1.5.0",
      "model_name": "ButtonStyleModel",
      "state": {}
     },
     "06ee4e69f34143a7a3e127ac7b258a3a": {
      "model_module": "@jupyter-widgets/controls",
      "model_module_version": "1.5.0",
      "model_name": "FloatSliderModel",
      "state": {
       "description": "135°",
       "layout": "IPY_MODEL_68a614adfbe641829d3e9d0650396a84",
       "max": 1,
       "min": -1,
       "step": 0.01,
       "style": "IPY_MODEL_003f1b8b139546a5946f08fd860aaa1f"
      }
     },
     "06fd9ff8829c451cb10764d7029ca9de": {
      "model_module": "@jupyter-widgets/base",
      "model_module_version": "1.2.0",
      "model_name": "LayoutModel",
      "state": {}
     },
     "070e7be3d7de4200b1eaad543c92e414": {
      "model_module": "jupyter-matplotlib",
      "model_module_version": "^0.7.2",
      "model_name": "ToolbarModel",
      "state": {
       "layout": "IPY_MODEL_33dbf19cc278412ba2c6e8fe7b476028",
       "toolitems": [
        [
         "Home",
         "Reset original view",
         "home",
         "home"
        ],
        [
         "Back",
         "Back to previous view",
         "arrow-left",
         "back"
        ],
        [
         "Forward",
         "Forward to next view",
         "arrow-right",
         "forward"
        ],
        [
         "Pan",
         "Pan axes with left mouse, zoom with right",
         "arrows",
         "pan"
        ],
        [
         "Zoom",
         "Zoom to rectangle",
         "square-o",
         "zoom"
        ],
        [
         "Download",
         "Download plot",
         "floppy-o",
         "save_figure"
        ]
       ]
      }
     },
     "07233da44b044c388ca270fdc122fa9f": {
      "model_module": "@jupyter-widgets/controls",
      "model_module_version": "1.5.0",
      "model_name": "HBoxModel",
      "state": {
       "children": [
        "IPY_MODEL_c0c5112675814ca49187387466eefaaa",
        "IPY_MODEL_e5bfe6cc10ba4ef685e5f620f222434a",
        "IPY_MODEL_65c048584a944b02a68c6980d80619dc"
       ],
       "layout": "IPY_MODEL_3f7403cac05f45e49fe70c6375d551e6"
      }
     },
     "07326e951ba348bba6c772b6cf366415": {
      "model_module": "@jupyter-widgets/base",
      "model_module_version": "1.2.0",
      "model_name": "LayoutModel",
      "state": {}
     },
     "0740a4216bee466f8f7d73504ca77f84": {
      "model_module": "@jupyter-widgets/controls",
      "model_module_version": "1.5.0",
      "model_name": "ButtonModel",
      "state": {
       "description": "Save Figure",
       "layout": "IPY_MODEL_e527e9f8aa8b439e98e34203a6edf05c",
       "style": "IPY_MODEL_e7ee6d040a8e4954a4073be24611b6a6"
      }
     },
     "07615a4168194228a596ee9cb33aa7e0": {
      "model_module": "@jupyter-widgets/base",
      "model_module_version": "1.2.0",
      "model_name": "LayoutModel",
      "state": {
       "border": "solid 4px #222",
       "margin": "4px",
       "padding": "0"
      }
     },
     "077b940996c5456abc02c702af7a2105": {
      "model_module": "@jupyter-widgets/controls",
      "model_module_version": "1.5.0",
      "model_name": "HBoxModel",
      "state": {
       "children": [
        "IPY_MODEL_6f330f5a8f054c1580bb82c259b138f0",
        "IPY_MODEL_015ee2c2dbaa4deeb4858969f48f3787",
        "IPY_MODEL_34d777e0700149069eddd407b945b814"
       ],
       "layout": "IPY_MODEL_58ce3d8ec4b141e1977b0e275ea748b6"
      }
     },
     "07b1b193eb0141c0ac75ac60bd0479f7": {
      "model_module": "@jupyter-widgets/base",
      "model_module_version": "1.2.0",
      "model_name": "LayoutModel",
      "state": {}
     },
     "07b962bd727042df915f6dcec0151182": {
      "model_module": "@jupyter-widgets/controls",
      "model_module_version": "1.5.0",
      "model_name": "FloatSliderModel",
      "state": {
       "description": "315°",
       "layout": "IPY_MODEL_d8013b2a4919475fa01040d5dc669304",
       "max": 1,
       "min": -1,
       "step": 0.01,
       "style": "IPY_MODEL_cc4f277d6a014a99825a4f859bb53c04"
      }
     },
     "07d4921581ce4a13b328677e827a5315": {
      "model_module": "@jupyter-widgets/controls",
      "model_module_version": "1.5.0",
      "model_name": "DescriptionStyleModel",
      "state": {
       "description_width": ""
      }
     },
     "07d5f0035f5543e7aa4ec10e70411a9f": {
      "model_module": "@jupyter-widgets/controls",
      "model_module_version": "1.5.0",
      "model_name": "FloatSliderModel",
      "state": {
       "description": "Compression Threshold",
       "layout": "IPY_MODEL_b1aeb647e0cd473fb27891a486fee10d",
       "max": 1,
       "step": 0.01,
       "style": "IPY_MODEL_ac72672a62974dc19d3be6251f3b8ec5",
       "value": 0.8
      }
     },
     "07d857631e7c4c0290f9efbc5a7d2cd7": {
      "model_module": "@jupyter-widgets/controls",
      "model_module_version": "1.5.0",
      "model_name": "ButtonModel",
      "state": {
       "description": "Reset Compression Controls",
       "layout": "IPY_MODEL_f7f01453809c41f98e8cd9a0cc4a068f",
       "style": "IPY_MODEL_b06b68f904464f098a9956effc6ee399"
      }
     },
     "07dbb395c14241178188209fffbaf5ee": {
      "model_module": "@jupyter-widgets/base",
      "model_module_version": "1.2.0",
      "model_name": "LayoutModel",
      "state": {}
     },
     "07f77f93485847dfbdd94cd014040e24": {
      "model_module": "@jupyter-widgets/base",
      "model_module_version": "1.2.0",
      "model_name": "LayoutModel",
      "state": {}
     },
     "082a5db9fe904a77a2889d122eb2d27f": {
      "model_module": "@jupyter-widgets/controls",
      "model_module_version": "1.5.0",
      "model_name": "ButtonStyleModel",
      "state": {}
     },
     "0843691ede3a47499b6bc21348dfaff3": {
      "model_module": "@jupyter-widgets/controls",
      "model_module_version": "1.5.0",
      "model_name": "HBoxModel",
      "state": {
       "children": [
        "IPY_MODEL_0dff57907a734774ada6f6acb92e0af8",
        "IPY_MODEL_df6b1022549a4fff85b66c0ce6b59d6d",
        "IPY_MODEL_96eb415b1be64c9283613a068d79781e"
       ],
       "layout": "IPY_MODEL_ba9f4d05c8b247bea3a6b0e194df4127"
      }
     },
     "0876add1ba5e4c5192e6cf30455fc4e9": {
      "model_module": "@jupyter-widgets/base",
      "model_module_version": "1.2.0",
      "model_name": "LayoutModel",
      "state": {}
     },
     "08ee213dd3364db1a03fee68f35dce75": {
      "model_module": "@jupyter-widgets/controls",
      "model_module_version": "1.5.0",
      "model_name": "FloatSliderModel",
      "state": {
       "description": "270°",
       "layout": "IPY_MODEL_52777e1addde4082859eec00f015da9c",
       "max": 1,
       "min": -1,
       "step": 0.01,
       "style": "IPY_MODEL_7b73931c072442a18b2a88823dbf0479"
      }
     },
     "08fa7ab891d64ad58332231e32c96b85": {
      "model_module": "@jupyter-widgets/base",
      "model_module_version": "1.2.0",
      "model_name": "LayoutModel",
      "state": {}
     },
     "09c319a5367948b59829ae82ed8f4669": {
      "model_module": "@jupyter-widgets/controls",
      "model_module_version": "1.5.0",
      "model_name": "FloatSliderModel",
      "state": {
       "description": "270°",
       "layout": "IPY_MODEL_7c64dad8fd9d46fca9f3a92c93e538b1",
       "max": 1,
       "min": -1,
       "step": 0.01,
       "style": "IPY_MODEL_606d146a32ad44f5add705aad83dd7e3"
      }
     },
     "09d0212944c848179c2c463949e9cd3e": {
      "model_module": "@jupyter-widgets/controls",
      "model_module_version": "1.5.0",
      "model_name": "BoxModel",
      "state": {
       "children": [
        "IPY_MODEL_20bc7755d37f479d88fb1c26b1efbb00",
        "IPY_MODEL_92a8d6c80f984068b924660c1895b81d"
       ],
       "layout": "IPY_MODEL_ff7ad09d4a7f45fe89524057c0ed8a6c"
      }
     },
     "09d1762b6237457195040fbd212e6d0f": {
      "model_module": "@jupyter-widgets/controls",
      "model_module_version": "1.5.0",
      "model_name": "ButtonStyleModel",
      "state": {}
     },
     "0b19d27862b3489aa2e4cd4e4a42aa96": {
      "model_module": "@jupyter-widgets/controls",
      "model_module_version": "1.5.0",
      "model_name": "SliderStyleModel",
      "state": {
       "description_width": ""
      }
     },
     "0b254f151c004a5389ef132c3a558b57": {
      "model_module": "@jupyter-widgets/base",
      "model_module_version": "1.2.0",
      "model_name": "LayoutModel",
      "state": {
       "border": "solid 4px #222",
       "margin": "4px",
       "padding": "0"
      }
     },
     "0b4338c3dd2e43df868e9d85509b0aef": {
      "model_module": "@jupyter-widgets/base",
      "model_module_version": "1.2.0",
      "model_name": "LayoutModel",
      "state": {}
     },
     "0b696618c1b644cfb40d3e9037863761": {
      "model_module": "@jupyter-widgets/output",
      "model_module_version": "1.0.0",
      "model_name": "OutputModel",
      "state": {
       "layout": "IPY_MODEL_ae25a1ddcd6d40319ace2fe2f36d97cc",
       "outputs": [
        {
         "data": {
          "application/vnd.jupyter.widget-view+json": {
           "model_id": "7b9974db3f5f4eb4a396e8b36f383cde",
           "version_major": 2,
           "version_minor": 0
          },
          "text/plain": "Canvas(toolbar=Toolbar(toolitems=[('Home', 'Reset original view', 'home', 'home'), ('Back', 'Back to previous …"
         },
         "metadata": {},
         "output_type": "display_data"
        }
       ]
      }
     },
     "0b88d85480ef4f6d93f8a1cd3c99307c": {
      "model_module": "@jupyter-widgets/controls",
      "model_module_version": "1.5.0",
      "model_name": "SliderStyleModel",
      "state": {
       "description_width": ""
      }
     },
     "0bd55b6e8761494eabfa8df6b9ebca5f": {
      "model_module": "@jupyter-widgets/base",
      "model_module_version": "1.2.0",
      "model_name": "LayoutModel",
      "state": {}
     },
     "0bd9beacff33419b9c8828450f24d2b0": {
      "model_module": "@jupyter-widgets/controls",
      "model_module_version": "1.5.0",
      "model_name": "FloatSliderModel",
      "state": {
       "description": "225°",
       "layout": "IPY_MODEL_1f8225bdd87a4c1284910b36746739cf",
       "max": 1,
       "min": -1,
       "step": 0.01,
       "style": "IPY_MODEL_a59816417e474689ae36d269478d9c7c"
      }
     },
     "0c613e0d862e4f5080fe3b256b12395c": {
      "model_module": "@jupyter-widgets/controls",
      "model_module_version": "1.5.0",
      "model_name": "ButtonStyleModel",
      "state": {}
     },
     "0c9089a6319043e695ba987f36fffc9e": {
      "model_module": "@jupyter-widgets/controls",
      "model_module_version": "1.5.0",
      "model_name": "VBoxModel",
      "state": {
       "children": [
        "IPY_MODEL_a4b9da6b7d184d8596ac292c48807d8e",
        "IPY_MODEL_3a892822a33b4833a30640344a42de3b"
       ],
       "layout": "IPY_MODEL_f563722475d14f828afc5ffe56c237ef"
      }
     },
     "0cb2a04cb1b2447e915be0e0bc9f9ea8": {
      "model_module": "@jupyter-widgets/controls",
      "model_module_version": "1.5.0",
      "model_name": "FloatSliderModel",
      "state": {
       "description": "Exposure",
       "layout": "IPY_MODEL_56939542df89401b98e36f50c545c4dc",
       "max": 8,
       "min": -8,
       "step": 0.1,
       "style": "IPY_MODEL_803c800d81ac49b28c528ce0254e5a9c"
      }
     },
     "0ccbbb479f7340dd845423166ec03a91": {
      "model_module": "@jupyter-widgets/base",
      "model_module_version": "1.2.0",
      "model_name": "LayoutModel",
      "state": {}
     },
     "0d5209936f0e4193bdd93a2a51e4b4ef": {
      "model_module": "@jupyter-widgets/controls",
      "model_module_version": "1.5.0",
      "model_name": "TabModel",
      "state": {
       "_titles": {
        "0": "Global Controls",
        "1": "Viewer Controls",
        "2": "Protected Area Controls",
        "3": "Saturation Controls",
        "4": "Hue Controls"
       },
       "children": [
        "IPY_MODEL_159d9363eeda430ca6b9d39a2718ecbf",
        "IPY_MODEL_f87c1c2421d644129225b19b56cf1c95",
        "IPY_MODEL_fadc6e59b33f4aecb6781dbddb0bcd66",
        "IPY_MODEL_617f914514724452ad57119f1856fac4",
        "IPY_MODEL_0f1175b6f68b4b39be2d22b590e57a21"
       ],
       "layout": "IPY_MODEL_4b9a6533a2a749a69129c483cd02e6c7"
      }
     },
     "0dc991b7a83c45f0a16fd9caac1a3ed7": {
      "model_module": "@jupyter-widgets/controls",
      "model_module_version": "1.5.0",
      "model_name": "DropdownModel",
      "state": {
       "_options_labels": [
        "tanh",
        "atan",
        "simple"
       ],
       "description": "Compression Function:",
       "index": 0,
       "layout": "IPY_MODEL_be449e63b6e84c378b5634c6bd99ffca",
       "style": "IPY_MODEL_95d2bcccbc5b46c6937c494ee8553b5b"
      }
     },
     "0dff57907a734774ada6f6acb92e0af8": {
      "model_module": "@jupyter-widgets/controls",
      "model_module_version": "1.5.0",
      "model_name": "ButtonModel",
      "state": {
       "description": "Reset Saturation Controls",
       "layout": "IPY_MODEL_e476a4e0ee564656a22d678526a974ad",
       "style": "IPY_MODEL_9fc9159d56524709a9f56c9636b528e4"
      }
     },
     "0e12e905b77c490db20c117cf5d4738a": {
      "model_module": "@jupyter-widgets/controls",
      "model_module_version": "1.5.0",
      "model_name": "ButtonModel",
      "state": {
       "description": "Save Figure",
       "layout": "IPY_MODEL_201573f176024413a31f012336fb4907",
       "style": "IPY_MODEL_e6ca434084d34d2e9b3de78003274b3d"
      }
     },
     "0e5f90fbeb334d579b77fc176a490c28": {
      "model_module": "@jupyter-widgets/controls",
      "model_module_version": "1.5.0",
      "model_name": "HBoxModel",
      "state": {
       "children": [
        "IPY_MODEL_50da8d9b2cb44241ad85bd00928d8a4b",
        "IPY_MODEL_6029e84d94d54615a0e4cbf7f2b1752d",
        "IPY_MODEL_3c4da4880b3d429dbfe171c0ad2a4a3f"
       ],
       "layout": "IPY_MODEL_01e30c0ad1af4f26afcd643313d3bf5e"
      }
     },
     "0eb42fc506b6461e9e856a8934f4e201": {
      "model_module": "@jupyter-widgets/base",
      "model_module_version": "1.2.0",
      "model_name": "LayoutModel",
      "state": {
       "border": "solid 4px #222",
       "margin": "4px",
       "padding": "0"
      }
     },
     "0edc6297a4674b48a2e2d6bbdb5efd60": {
      "model_module": "@jupyter-widgets/base",
      "model_module_version": "1.2.0",
      "model_name": "LayoutModel",
      "state": {}
     },
     "0eeb8ab3dbc74c1d818567f86874582d": {
      "model_module": "@jupyter-widgets/base",
      "model_module_version": "1.2.0",
      "model_name": "LayoutModel",
      "state": {}
     },
     "0eeea26e22054a77a11c9515773b6ad5": {
      "model_module": "@jupyter-widgets/controls",
      "model_module_version": "1.5.0",
      "model_name": "SliderStyleModel",
      "state": {
       "description_width": ""
      }
     },
     "0f0c06ea734940d980e0a8cf09a733f7": {
      "model_module": "@jupyter-widgets/controls",
      "model_module_version": "1.5.0",
      "model_name": "DropdownModel",
      "state": {
       "_options_labels": [
        "tanh",
        "atan",
        "simple"
       ],
       "description": "Compression Function:",
       "index": 0,
       "layout": "IPY_MODEL_c2acebb3ca9e435482056a3f2493edba",
       "style": "IPY_MODEL_2a28fa4b9fe24ee99ed83e3737569c00"
      }
     },
     "0f1175b6f68b4b39be2d22b590e57a21": {
      "model_module": "@jupyter-widgets/controls",
      "model_module_version": "1.5.0",
      "model_name": "HBoxModel",
      "state": {
       "children": [
        "IPY_MODEL_d89d5261b1ef4b30ab8f0b6687fe131f",
        "IPY_MODEL_c2c26f946cb5473891c382f9e5eb1e43",
        "IPY_MODEL_6e7382ebeb0342f3b7b2b65aeeb1fa34",
        "IPY_MODEL_16dc697d2a0d4b1891e35598da496b33"
       ],
       "layout": "IPY_MODEL_99fb151f852b40a49ce8119ab3c2c96f"
      }
     },
     "0f3f20949dc040d4896e8313c97ff840": {
      "model_module": "@jupyter-widgets/controls",
      "model_module_version": "1.5.0",
      "model_name": "VBoxModel",
      "state": {
       "children": [
        "IPY_MODEL_8f30302c75a54be6891c24c5b5a1a7a9",
        "IPY_MODEL_5d64ee2925ba43709fc5586ea8292e79",
        "IPY_MODEL_57d7731d8a194ade819d00c5b2b34220"
       ],
       "layout": "IPY_MODEL_3e8390e62928407f88507e73ce2a340c"
      }
     },
     "0f6c2879f56c4110a2da9af8b226ad3a": {
      "model_module": "@jupyter-widgets/base",
      "model_module_version": "1.2.0",
      "model_name": "LayoutModel",
      "state": {}
     },
     "0f70bfb368594022924c96710bcf1833": {
      "model_module": "@jupyter-widgets/controls",
      "model_module_version": "1.5.0",
      "model_name": "CheckboxModel",
      "state": {
       "description": "Show Out-of-Gamut",
       "disabled": false,
       "layout": "IPY_MODEL_7eb6cd9ac44a4c228ba01beb044b04c1",
       "style": "IPY_MODEL_f9b35c8b2b894e50ae7fc91030ae9d1c",
       "value": false
      }
     },
     "0f8c1c993bf8428ca7376e674e767d76": {
      "model_module": "@jupyter-widgets/base",
      "model_module_version": "1.2.0",
      "model_name": "LayoutModel",
      "state": {}
     },
     "0f8d2954766a4efd97a564d7c4c3e9c9": {
      "model_module": "@jupyter-widgets/controls",
      "model_module_version": "1.5.0",
      "model_name": "SliderStyleModel",
      "state": {
       "description_width": ""
      }
     },
     "0f95a168ff8b4136b87cebeb1302db36": {
      "model_module": "@jupyter-widgets/controls",
      "model_module_version": "1.5.0",
      "model_name": "SliderStyleModel",
      "state": {
       "description_width": ""
      }
     },
     "0fb3500078784faf86704ab619ac6ca9": {
      "model_module": "@jupyter-widgets/controls",
      "model_module_version": "1.5.0",
      "model_name": "FloatSliderModel",
      "state": {
       "description": "225°",
       "layout": "IPY_MODEL_97750c65cf3443e7b5efbd7100eb1372",
       "max": 1,
       "min": -1,
       "step": 0.01,
       "style": "IPY_MODEL_4d8530ee64684f508cd3d273610f499e"
      }
     },
     "0fc4b1dbd2084dd88bfc63c76b8ca3a6": {
      "model_module": "@jupyter-widgets/base",
      "model_module_version": "1.2.0",
      "model_name": "LayoutModel",
      "state": {}
     },
     "1047273dd9c44952a58c3609e7cb29b4": {
      "model_module": "@jupyter-widgets/controls",
      "model_module_version": "1.5.0",
      "model_name": "FloatSliderModel",
      "state": {
       "description": "180°",
       "layout": "IPY_MODEL_5028836523784687b7528ce17433a8a3",
       "max": 1,
       "min": -1,
       "step": 0.01,
       "style": "IPY_MODEL_229218c7345844ac87569e4e0044f116"
      }
     },
     "106b018169204a2fb3c4c97e4818d387": {
      "model_module": "@jupyter-widgets/output",
      "model_module_version": "1.0.0",
      "model_name": "OutputModel",
      "state": {
       "layout": "IPY_MODEL_5292c11c17744cc48990c7872af012c1",
       "outputs": [
        {
         "data": {
          "application/vnd.jupyter.widget-view+json": {
           "model_id": "3baed8c48f2c4dfea0a9a98b555d9ca8",
           "version_major": 2,
           "version_minor": 0
          },
          "text/plain": "Canvas(toolbar=Toolbar(toolitems=[('Home', 'Reset original view', 'home', 'home'), ('Back', 'Back to previous …"
         },
         "metadata": {},
         "output_type": "display_data"
        }
       ]
      }
     },
     "107402634ba345dbbfa39cd75c8f138f": {
      "model_module": "@jupyter-widgets/base",
      "model_module_version": "1.2.0",
      "model_name": "LayoutModel",
      "state": {}
     },
     "10808a6e467b4ca892f03ce0fccacac5": {
      "model_module": "@jupyter-widgets/controls",
      "model_module_version": "1.5.0",
      "model_name": "DescriptionStyleModel",
      "state": {
       "description_width": ""
      }
     },
     "10ae24a5c7b848e0acfd7f1c261bac8f": {
      "model_module": "@jupyter-widgets/controls",
      "model_module_version": "1.5.0",
      "model_name": "ButtonModel",
      "state": {
       "description": "Reset Exposure",
       "layout": "IPY_MODEL_49dc2ea895704727899c7f8f49cfad3c",
       "style": "IPY_MODEL_8ea0a6171f344714a15a9830db793861"
      }
     },
     "10c12705842741a9ba1032a230413b3b": {
      "model_module": "@jupyter-widgets/controls",
      "model_module_version": "1.5.0",
      "model_name": "SliderStyleModel",
      "state": {
       "description_width": ""
      }
     },
     "10cb63a9ba084e25a612ea5b183cf615": {
      "model_module": "@jupyter-widgets/base",
      "model_module_version": "1.2.0",
      "model_name": "LayoutModel",
      "state": {}
     },
     "10d1c8a7c0964b33bd2cbc3f8375bad4": {
      "model_module": "@jupyter-widgets/base",
      "model_module_version": "1.2.0",
      "model_name": "LayoutModel",
      "state": {}
     },
     "10dfcf0f5e2e4189bdc303ad304e3d5a": {
      "model_module": "@jupyter-widgets/base",
      "model_module_version": "1.2.0",
      "model_name": "LayoutModel",
      "state": {
       "border": "solid 4px #222",
       "margin": "4px",
       "padding": "0"
      }
     },
     "10ef7fa182f34cb5af2b173df61200c3": {
      "model_module": "@jupyter-widgets/base",
      "model_module_version": "1.2.0",
      "model_name": "LayoutModel",
      "state": {
       "align_items": "stretch",
       "display": "flex",
       "flex_flow": "column",
       "width": "1128px"
      }
     },
     "11c75783b1e1441a9f998714d5b24909": {
      "model_module": "@jupyter-widgets/controls",
      "model_module_version": "1.5.0",
      "model_name": "HBoxModel",
      "state": {
       "children": [
        "IPY_MODEL_72c35ce7ebc54d919e5c2fd92bfa127e",
        "IPY_MODEL_714c2a025c3a4a45bb1a48eab6907155",
        "IPY_MODEL_9938dc619bb94c548cdff0f985016bad"
       ],
       "layout": "IPY_MODEL_d154e143c5114c6aa1328aea7c2bb5c7"
      }
     },
     "11e2eab05930449e97cdc55aa9634cab": {
      "model_module": "@jupyter-widgets/base",
      "model_module_version": "1.2.0",
      "model_name": "LayoutModel",
      "state": {}
     },
     "11e439bf018d4ba98f594e0b0775e771": {
      "model_module": "@jupyter-widgets/controls",
      "model_module_version": "1.5.0",
      "model_name": "ButtonModel",
      "state": {
       "description": "Reset Exposure",
       "layout": "IPY_MODEL_f53917c7e92c40df9b5bd62682c2053c",
       "style": "IPY_MODEL_65b2b95ac3b14749a662ac5430def4e9"
      }
     },
     "122b67fd5869430e9b6fde5b140e194f": {
      "model_module": "@jupyter-widgets/controls",
      "model_module_version": "1.5.0",
      "model_name": "HBoxModel",
      "state": {
       "children": [
        "IPY_MODEL_dfaf08639ee142c0bee10949197911a3",
        "IPY_MODEL_e8b3b661d8a64b67b2a076bcdfc36044",
        "IPY_MODEL_a8d8e528df544671b36017d025544c4e"
       ],
       "layout": "IPY_MODEL_0f6c2879f56c4110a2da9af8b226ad3a"
      }
     },
     "122f605603a94e73a0a49379c8a3f1ff": {
      "model_module": "@jupyter-widgets/controls",
      "model_module_version": "1.5.0",
      "model_name": "SliderStyleModel",
      "state": {
       "description_width": ""
      }
     },
     "123389c1711c4865b8b056a2bb08c188": {
      "model_module": "@jupyter-widgets/controls",
      "model_module_version": "1.5.0",
      "model_name": "SliderStyleModel",
      "state": {
       "description_width": ""
      }
     },
     "1235ac49d20348cd96451adcdc8621de": {
      "model_module": "@jupyter-widgets/controls",
      "model_module_version": "1.5.0",
      "model_name": "CheckboxModel",
      "state": {
       "description": "Show Out-of-Gamut",
       "disabled": false,
       "layout": "IPY_MODEL_bc6bdb727efa44bb92dfd66adabb5890",
       "style": "IPY_MODEL_23d6a60c618e47759ac242b22319afe5",
       "value": false
      }
     },
     "123d6e3b5aba4140961553fab83822e1": {
      "model_module": "@jupyter-widgets/base",
      "model_module_version": "1.2.0",
      "model_name": "LayoutModel",
      "state": {}
     },
     "124159d1af4a404bb5b4e5d9704e5476": {
      "model_module": "@jupyter-widgets/controls",
      "model_module_version": "1.5.0",
      "model_name": "ButtonStyleModel",
      "state": {}
     },
     "12526583b8c14459bb9b15d709a3d1c5": {
      "model_module": "@jupyter-widgets/controls",
      "model_module_version": "1.5.0",
      "model_name": "SliderStyleModel",
      "state": {
       "description_width": ""
      }
     },
     "12b877971e584a769d252f8332c9a901": {
      "model_module": "jupyter-matplotlib",
      "model_module_version": "^0.7.2",
      "model_name": "MPLCanvasModel",
      "state": {
       "_figure_label": "Figure 23",
       "_height": 396,
       "_width": 1100,
       "header_visible": false,
       "layout": "IPY_MODEL_33dbfc108c884774a7c929b9545395df",
       "resizable": false,
       "toolbar": "IPY_MODEL_2c7049a1ad1f4826b248a4eaeb416ef3",
       "toolbar_position": "left",
       "toolbar_visible": false
      }
     },
     "12cb9507632b4448a7fbb093f3c7d4c8": {
      "model_module": "@jupyter-widgets/controls",
      "model_module_version": "1.5.0",
      "model_name": "ButtonStyleModel",
      "state": {}
     },
     "12d1c56bb2ea43b5990111979801dfbf": {
      "model_module": "@jupyter-widgets/base",
      "model_module_version": "1.2.0",
      "model_name": "LayoutModel",
      "state": {}
     },
     "12d2671dc9d74d7096d56680d037de02": {
      "model_module": "@jupyter-widgets/controls",
      "model_module_version": "1.5.0",
      "model_name": "CheckboxModel",
      "state": {
       "description": "Disable Medicina",
       "disabled": false,
       "layout": "IPY_MODEL_23145894a82946d59112777e7791410c",
       "style": "IPY_MODEL_de78575cab39424a968d1a4bac19e3d6",
       "value": false
      }
     },
     "12f543313e5a463eb9ec93c163f92a77": {
      "model_module": "@jupyter-widgets/controls",
      "model_module_version": "1.5.0",
      "model_name": "DescriptionStyleModel",
      "state": {
       "description_width": ""
      }
     },
     "1304fc1fe4eb4390aa241edecfaaafe0": {
      "model_module": "@jupyter-widgets/controls",
      "model_module_version": "1.5.0",
      "model_name": "FloatSliderModel",
      "state": {
       "description": "225°",
       "layout": "IPY_MODEL_484fc0cf2fff451380483d7541c722b9",
       "max": 1,
       "min": -1,
       "step": 0.01,
       "style": "IPY_MODEL_1c3ce4bbce894c2dbbbe67700c30a6c1"
      }
     },
     "13313d47fbb54ec999ed1b47a2dec3d8": {
      "model_module": "@jupyter-widgets/controls",
      "model_module_version": "1.5.0",
      "model_name": "ButtonModel",
      "state": {
       "description": "Reset Exposure",
       "layout": "IPY_MODEL_8b0c6fb4b4b9415fb79fbf42907349a9",
       "style": "IPY_MODEL_9074f0253f464c268afd0dbf098f3de8"
      }
     },
     "13d6c07ff9e6426a9e3d87e0edea53a7": {
      "model_module": "@jupyter-widgets/controls",
      "model_module_version": "1.5.0",
      "model_name": "ButtonStyleModel",
      "state": {}
     },
     "13dc5f53c503445987c8131c6aa6c390": {
      "model_module": "@jupyter-widgets/controls",
      "model_module_version": "1.5.0",
      "model_name": "ButtonStyleModel",
      "state": {}
     },
     "13eac6e8417341e2bd0d3593beafda9f": {
      "model_module": "jupyter-matplotlib",
      "model_module_version": "^0.7.2",
      "model_name": "ToolbarModel",
      "state": {
       "layout": "IPY_MODEL_04378d45695140b281287693352375e2",
       "toolitems": [
        [
         "Home",
         "Reset original view",
         "home",
         "home"
        ],
        [
         "Back",
         "Back to previous view",
         "arrow-left",
         "back"
        ],
        [
         "Forward",
         "Forward to next view",
         "arrow-right",
         "forward"
        ],
        [
         "Pan",
         "Pan axes with left mouse, zoom with right",
         "arrows",
         "pan"
        ],
        [
         "Zoom",
         "Zoom to rectangle",
         "square-o",
         "zoom"
        ],
        [
         "Download",
         "Download plot",
         "floppy-o",
         "save_figure"
        ]
       ]
      }
     },
     "141330c4eb5a486fa6b3c9a10f246622": {
      "model_module": "@jupyter-widgets/controls",
      "model_module_version": "1.5.0",
      "model_name": "ButtonStyleModel",
      "state": {}
     },
     "1438c8e1b09f49ff8d6b2541d7d378cf": {
      "model_module": "@jupyter-widgets/base",
      "model_module_version": "1.2.0",
      "model_name": "LayoutModel",
      "state": {}
     },
     "1453035b6cca462888f007b2c8bd04b8": {
      "model_module": "@jupyter-widgets/controls",
      "model_module_version": "1.5.0",
      "model_name": "DropdownModel",
      "state": {
       "_options_labels": [
        "tanh",
        "atan",
        "simple"
       ],
       "description": "Compression Function:",
       "index": 0,
       "layout": "IPY_MODEL_2872c87a67df49fc9ec13a67db79974a",
       "style": "IPY_MODEL_042267f4c7a3491db3b87f40326e7fbc"
      }
     },
     "1457fae4f88f4c418b3799277914a8c7": {
      "model_module": "@jupyter-widgets/base",
      "model_module_version": "1.2.0",
      "model_name": "LayoutModel",
      "state": {}
     },
     "1463c0a7d7014e53af34f120f2166c7c": {
      "model_module": "@jupyter-widgets/controls",
      "model_module_version": "1.5.0",
      "model_name": "SliderStyleModel",
      "state": {
       "description_width": ""
      }
     },
     "146aa59cd4b7484e986662ba46cb1218": {
      "model_module": "@jupyter-widgets/controls",
      "model_module_version": "1.5.0",
      "model_name": "ButtonStyleModel",
      "state": {}
     },
     "14d561cbab974b5083174b3974033ce6": {
      "model_module": "@jupyter-widgets/base",
      "model_module_version": "1.2.0",
      "model_name": "LayoutModel",
      "state": {
       "border": "solid 4px #222",
       "margin": "4px",
       "padding": "0"
      }
     },
     "14e338f1da6f4c0d885f55e3dd87cff0": {
      "model_module": "@jupyter-widgets/base",
      "model_module_version": "1.2.0",
      "model_name": "LayoutModel",
      "state": {}
     },
     "153e4426f4714d55939e4280fa663ab3": {
      "model_module": "@jupyter-widgets/controls",
      "model_module_version": "1.5.0",
      "model_name": "ButtonStyleModel",
      "state": {}
     },
     "154b73d2ad5d4d5ab9d8ed5a1c02bd8a": {
      "model_module": "@jupyter-widgets/controls",
      "model_module_version": "1.5.0",
      "model_name": "BoxModel",
      "state": {
       "children": [
        "IPY_MODEL_b5155934760846989018be6f3fc7024d",
        "IPY_MODEL_2dcb66f53382480484540f6e3e4d674c"
       ],
       "layout": "IPY_MODEL_ff6e45dcfb824af4a9bd773e9523ca57"
      }
     },
     "154ef16b5e1141dbb38f9d105823c8bb": {
      "model_module": "@jupyter-widgets/controls",
      "model_module_version": "1.5.0",
      "model_name": "SliderStyleModel",
      "state": {
       "description_width": ""
      }
     },
     "156d60e917014dad807cf8d4c7a4d4f1": {
      "model_module": "@jupyter-widgets/controls",
      "model_module_version": "1.5.0",
      "model_name": "CheckboxModel",
      "state": {
       "description": "Show Out-of-Gamut",
       "disabled": false,
       "layout": "IPY_MODEL_33d74f6ae6464e13802cdda162e3d017",
       "style": "IPY_MODEL_463bb3430bd44513b105c961c5788dcd",
       "value": false
      }
     },
     "157f49c97d3b423db1ed822393b7a9aa": {
      "model_module": "@jupyter-widgets/base",
      "model_module_version": "1.2.0",
      "model_name": "LayoutModel",
      "state": {}
     },
     "159091d664de4c2aa2cc33321ad23a67": {
      "model_module": "@jupyter-widgets/controls",
      "model_module_version": "1.5.0",
      "model_name": "ButtonModel",
      "state": {
       "description": "Reset Exposure",
       "layout": "IPY_MODEL_7580f48c8e984aee8cb9a75365e03a9e",
       "style": "IPY_MODEL_d96bb8e88ef14bd99fea87a0d1150e63"
      }
     },
     "159d9363eeda430ca6b9d39a2718ecbf": {
      "model_module": "@jupyter-widgets/controls",
      "model_module_version": "1.5.0",
      "model_name": "HBoxModel",
      "state": {
       "children": [
        "IPY_MODEL_9c1048bda8f24c2ab3abe06dd19f3846",
        "IPY_MODEL_6a925c67a00344eaa5de899af0c79003",
        "IPY_MODEL_72b612f80a844b50a020425d20517847"
       ],
       "layout": "IPY_MODEL_46f4d01d9f1f4e2284d28f05304a5ab4"
      }
     },
     "161acaf8ade84464a93efdd27a791b27": {
      "model_module": "@jupyter-widgets/controls",
      "model_module_version": "1.5.0",
      "model_name": "ButtonModel",
      "state": {
       "description": "Reset Protected Area",
       "layout": "IPY_MODEL_93e21c140bd14588ac23fa0eb785c4fa",
       "style": "IPY_MODEL_71d1da53de1d41dfae66afd619b08b86"
      }
     },
     "16271ff457b442a098ef633e5b72f828": {
      "model_module": "@jupyter-widgets/controls",
      "model_module_version": "1.5.0",
      "model_name": "VBoxModel",
      "state": {
       "children": [
        "IPY_MODEL_d67f6b412ced407cb5d90073bffad1b0",
        "IPY_MODEL_9f4b579b7c2d44079718177cf03f7dd7",
        "IPY_MODEL_f5aa254694e94aac846e6d85b2e3ec9b"
       ],
       "layout": "IPY_MODEL_fe8918222347486189a76804236327be"
      }
     },
     "163bfc2ac2e3480a87e42bf369739e8d": {
      "model_module": "@jupyter-widgets/controls",
      "model_module_version": "1.5.0",
      "model_name": "ButtonStyleModel",
      "state": {}
     },
     "166f5263371d471ba27cf6ce76785e0a": {
      "model_module": "@jupyter-widgets/base",
      "model_module_version": "1.2.0",
      "model_name": "LayoutModel",
      "state": {}
     },
     "16dc697d2a0d4b1891e35598da496b33": {
      "model_module": "@jupyter-widgets/controls",
      "model_module_version": "1.5.0",
      "model_name": "VBoxModel",
      "state": {
       "children": [
        "IPY_MODEL_f8e43a1bc7ed4be2a0e6f7fa467d72fb",
        "IPY_MODEL_8b465d6f00ee4b8faef435bbc94a1eef"
       ],
       "layout": "IPY_MODEL_b1c6a2237d1242b1a959b242f7ea7a1f"
      }
     },
     "16f63aa77b2f4573b4e3fb57cdd692e8": {
      "model_module": "@jupyter-widgets/controls",
      "model_module_version": "1.5.0",
      "model_name": "DescriptionStyleModel",
      "state": {
       "description_width": ""
      }
     },
     "171163fa6c0842eeaf88d684f9cfebf4": {
      "model_module": "@jupyter-widgets/controls",
      "model_module_version": "1.5.0",
      "model_name": "ButtonStyleModel",
      "state": {}
     },
     "17170612f7064bbe948f77dc31bc4a7f": {
      "model_module": "@jupyter-widgets/base",
      "model_module_version": "1.2.0",
      "model_name": "LayoutModel",
      "state": {}
     },
     "177fd710bd9a470eab125d67351682db": {
      "model_module": "@jupyter-widgets/controls",
      "model_module_version": "1.5.0",
      "model_name": "FloatSliderModel",
      "state": {
       "description": "Protected Area Threshold",
       "layout": "IPY_MODEL_c0913620d1d64adfa579bc2dde740251",
       "max": 1,
       "step": 0.01,
       "style": "IPY_MODEL_ef1423f69df3439c9189f2b1b10d0629",
       "value": 0.7
      }
     },
     "1791712028ea477daf679e0fc153155e": {
      "model_module": "@jupyter-widgets/controls",
      "model_module_version": "1.5.0",
      "model_name": "FloatSliderModel",
      "state": {
       "description": "Protected Area Threshold",
       "layout": "IPY_MODEL_9d6268ca03924a4ca8c73ee2fc3caa6e",
       "max": 1,
       "step": 0.01,
       "style": "IPY_MODEL_f835fe96559f45e795a380c35607b1f5",
       "value": 0.7
      }
     },
     "17ebd3a52b03422d814c14443a727ab6": {
      "model_module": "@jupyter-widgets/controls",
      "model_module_version": "1.5.0",
      "model_name": "ButtonModel",
      "state": {
       "description": "Export Image",
       "layout": "IPY_MODEL_d2875c44001c47d0b687b503ad2c9b07",
       "style": "IPY_MODEL_1c32308774f04744b56672384e372b15"
      }
     },
     "186946cc34ad4fd3bcf751eea33217d7": {
      "model_module": "@jupyter-widgets/base",
      "model_module_version": "1.2.0",
      "model_name": "LayoutModel",
      "state": {}
     },
     "1873d3ff943b44038a77cd74c0908e8a": {
      "model_module": "@jupyter-widgets/controls",
      "model_module_version": "1.5.0",
      "model_name": "FloatSliderModel",
      "state": {
       "description": "Exposure",
       "layout": "IPY_MODEL_7c3920adc33c44c8b7ed152bda729724",
       "max": 8,
       "min": -8,
       "step": 0.1,
       "style": "IPY_MODEL_6a2d0a149a934959839530fff9d40cd8"
      }
     },
     "188c6aa1ff7145d4bb16a2746a4089f3": {
      "model_module": "@jupyter-widgets/controls",
      "model_module_version": "1.5.0",
      "model_name": "SliderStyleModel",
      "state": {
       "description_width": ""
      }
     },
     "18d882b498f748dfa526c8ea927fee2d": {
      "model_module": "@jupyter-widgets/controls",
      "model_module_version": "1.5.0",
      "model_name": "FloatSliderModel",
      "state": {
       "description": "0°",
       "layout": "IPY_MODEL_0559a68736eb471cb70e916cf8ea586c",
       "max": 1,
       "min": -1,
       "step": 0.01,
       "style": "IPY_MODEL_be84f1d80c044755ae55faf61f6d2b1c"
      }
     },
     "18d967c9503f46a583db6ce12bc6c1e3": {
      "model_module": "@jupyter-widgets/controls",
      "model_module_version": "1.5.0",
      "model_name": "SliderStyleModel",
      "state": {
       "description_width": ""
      }
     },
     "19049ffe91e74d41b207c32be9da2800": {
      "model_module": "@jupyter-widgets/base",
      "model_module_version": "1.2.0",
      "model_name": "LayoutModel",
      "state": {}
     },
     "190ec019783d4e5cb2dd7ab8bec386e0": {
      "model_module": "@jupyter-widgets/controls",
      "model_module_version": "1.5.0",
      "model_name": "FloatSliderModel",
      "state": {
       "description": "45°",
       "layout": "IPY_MODEL_31f5d8ed35c04bb1bceff1196e13c48f",
       "max": 1,
       "min": -1,
       "step": 0.01,
       "style": "IPY_MODEL_1efdfe1b1e664be09be91896c1efcb91"
      }
     },
     "19170f81bfb94d28a9f6df659e11c88e": {
      "model_module": "@jupyter-widgets/controls",
      "model_module_version": "1.5.0",
      "model_name": "FloatSliderModel",
      "state": {
       "description": "90°",
       "layout": "IPY_MODEL_81438a45810248f7a995c0ab308fae2f",
       "max": 1,
       "min": -1,
       "step": 0.01,
       "style": "IPY_MODEL_9bbb62c40bd2469b9b0990a4ce60f425"
      }
     },
     "1937ad467e3c4205ae872ad799a30090": {
      "model_module": "@jupyter-widgets/controls",
      "model_module_version": "1.5.0",
      "model_name": "HBoxModel",
      "state": {
       "children": [
        "IPY_MODEL_7a148489852b4ecfb39d7141a2673454",
        "IPY_MODEL_6c830beabae74b97b9b5fbc891bf0ac7",
        "IPY_MODEL_ecf278d23a4e4c538bb3efdb85010a1a"
       ],
       "layout": "IPY_MODEL_e58b066bda7a40d9864e57abcec2eb43"
      }
     },
     "193bfefa8ae445539feb7d49620cfc72": {
      "model_module": "@jupyter-widgets/controls",
      "model_module_version": "1.5.0",
      "model_name": "HBoxModel",
      "state": {
       "children": [
        "IPY_MODEL_c518a623b90141028390622611b24e91",
        "IPY_MODEL_d0103a8997b340ba98f65f10db24e782",
        "IPY_MODEL_f79356b8475f45b0b46beaa2621de4b4"
       ],
       "layout": "IPY_MODEL_f3bef9008fbe4be191ff91ba4fefa0f7"
      }
     },
     "1977b73b24674e98b10f13fa0457cf54": {
      "model_module": "@jupyter-widgets/base",
      "model_module_version": "1.2.0",
      "model_name": "LayoutModel",
      "state": {}
     },
     "19a33e03cc4246da9e0807e38417ee5a": {
      "model_module": "@jupyter-widgets/base",
      "model_module_version": "1.2.0",
      "model_name": "LayoutModel",
      "state": {
       "border": "solid 4px #222",
       "margin": "4px",
       "padding": "0"
      }
     },
     "19b0beb0cea048918fbb85724594e334": {
      "model_module": "@jupyter-widgets/controls",
      "model_module_version": "1.5.0",
      "model_name": "SliderStyleModel",
      "state": {
       "description_width": ""
      }
     },
     "19b8b881fbd1411a9a0472e6e43da302": {
      "model_module": "@jupyter-widgets/controls",
      "model_module_version": "1.5.0",
      "model_name": "FloatSliderModel",
      "state": {
       "description": "Compression Threshold",
       "layout": "IPY_MODEL_9935ae328be04fa1a9442ab8129912dc",
       "max": 1,
       "step": 0.01,
       "style": "IPY_MODEL_3706519c0ee14d6f9f72a37504039c2f",
       "value": 0.5
      }
     },
     "19c17a97dd164f339276389def62a5fc": {
      "model_module": "@jupyter-widgets/controls",
      "model_module_version": "1.5.0",
      "model_name": "SliderStyleModel",
      "state": {
       "description_width": ""
      }
     },
     "19ed0e7d60334c2f881516b267f82ece": {
      "model_module": "@jupyter-widgets/controls",
      "model_module_version": "1.5.0",
      "model_name": "FloatSliderModel",
      "state": {
       "description": "135°",
       "layout": "IPY_MODEL_9f8aaa710f1d451682bd395defdd133d",
       "max": 1,
       "min": -1,
       "step": 0.01,
       "style": "IPY_MODEL_2e60ccfb83bd4b35a5dfa333e2446c9f"
      }
     },
     "19ffdbbc2768453a994ab2ef91f9c25b": {
      "model_module": "@jupyter-widgets/controls",
      "model_module_version": "1.5.0",
      "model_name": "HBoxModel",
      "state": {
       "children": [
        "IPY_MODEL_0f70bfb368594022924c96710bcf1833",
        "IPY_MODEL_c18f33b273814a11b574cb1609d8089c",
        "IPY_MODEL_8c2149e5c6284ca08c4a925ec728e93f"
       ],
       "layout": "IPY_MODEL_ad130452e313462cba3cec9d43d78ad0"
      }
     },
     "1a05ee6abcdc4350a59f092a470a745e": {
      "model_module": "@jupyter-widgets/controls",
      "model_module_version": "1.5.0",
      "model_name": "SliderStyleModel",
      "state": {
       "description_width": ""
      }
     },
     "1a17f44085dd4266a5d01456ffd1c5d6": {
      "model_module": "@jupyter-widgets/base",
      "model_module_version": "1.2.0",
      "model_name": "LayoutModel",
      "state": {}
     },
     "1a6344077aa54f29a0a4087233c158c8": {
      "model_module": "@jupyter-widgets/controls",
      "model_module_version": "1.5.0",
      "model_name": "ButtonStyleModel",
      "state": {}
     },
     "1aa4a5223c4d4012bc7fbec108718a81": {
      "model_module": "@jupyter-widgets/controls",
      "model_module_version": "1.5.0",
      "model_name": "SliderStyleModel",
      "state": {
       "description_width": ""
      }
     },
     "1aa8f61009c64b4a971dc0fe094b5a4f": {
      "model_module": "@jupyter-widgets/controls",
      "model_module_version": "1.5.0",
      "model_name": "FloatSliderModel",
      "state": {
       "description": "Compression Threshold",
       "layout": "IPY_MODEL_a354640f452b4e8eab54d5c29378190d",
       "max": 1,
       "step": 0.01,
       "style": "IPY_MODEL_66e6ecc8924841a0bd840775ea4afc65",
       "value": 0.8
      }
     },
     "1aea1c5ae7ef4ab98de41efe383e7efc": {
      "model_module": "@jupyter-widgets/controls",
      "model_module_version": "1.5.0",
      "model_name": "ButtonStyleModel",
      "state": {}
     },
     "1afc873a36ff4a7ca9f9510cdc4f68b1": {
      "model_module": "@jupyter-widgets/controls",
      "model_module_version": "1.5.0",
      "model_name": "VBoxModel",
      "state": {
       "children": [
        "IPY_MODEL_e79cd6377d2b4748a1209b6d01a3ccf5"
       ],
       "layout": "IPY_MODEL_3169cc53f8e449c5b31e0680f22684b7"
      }
     },
     "1b008b23dae04e3fb9e148b79142c590": {
      "model_module": "@jupyter-widgets/base",
      "model_module_version": "1.2.0",
      "model_name": "LayoutModel",
      "state": {}
     },
     "1b01c6688cb24966b696fada95616b3a": {
      "model_module": "@jupyter-widgets/base",
      "model_module_version": "1.2.0",
      "model_name": "LayoutModel",
      "state": {}
     },
     "1b0d0a1467d4495cacfe533fe05d24d8": {
      "model_module": "@jupyter-widgets/base",
      "model_module_version": "1.2.0",
      "model_name": "LayoutModel",
      "state": {}
     },
     "1b88ff9ce19340f88bcf206160c8acb6": {
      "model_module": "@jupyter-widgets/base",
      "model_module_version": "1.2.0",
      "model_name": "LayoutModel",
      "state": {}
     },
     "1bd3271ebad64839beae546921a92c8b": {
      "model_module": "@jupyter-widgets/base",
      "model_module_version": "1.2.0",
      "model_name": "LayoutModel",
      "state": {}
     },
     "1be8b4116b774d51b0a6bef757ddc962": {
      "model_module": "@jupyter-widgets/controls",
      "model_module_version": "1.5.0",
      "model_name": "HBoxModel",
      "state": {
       "children": [
        "IPY_MODEL_39d672b8ffc74232a105cbab349fcbd8",
        "IPY_MODEL_9df213e4e25d4e2da032bbee7c2f1260",
        "IPY_MODEL_feccdbc11efc47c88e70b93a2b9fcf0c"
       ],
       "layout": "IPY_MODEL_da396cf0bc544b8c97140d35ac9090e5"
      }
     },
     "1c05095e7e9d41418faac030328eb3c4": {
      "model_module": "@jupyter-widgets/base",
      "model_module_version": "1.2.0",
      "model_name": "LayoutModel",
      "state": {}
     },
     "1c32308774f04744b56672384e372b15": {
      "model_module": "@jupyter-widgets/controls",
      "model_module_version": "1.5.0",
      "model_name": "ButtonStyleModel",
      "state": {}
     },
     "1c3ce4bbce894c2dbbbe67700c30a6c1": {
      "model_module": "@jupyter-widgets/controls",
      "model_module_version": "1.5.0",
      "model_name": "SliderStyleModel",
      "state": {
       "description_width": ""
      }
     },
     "1c8895502731439a8fad95749aa2fdda": {
      "model_module": "@jupyter-widgets/controls",
      "model_module_version": "1.5.0",
      "model_name": "CheckboxModel",
      "state": {
       "description": "Show Out-of-Gamut",
       "disabled": false,
       "layout": "IPY_MODEL_c18ba142343341ee9603614a8babccc2",
       "style": "IPY_MODEL_2d8eded8ea5443089ee01a3525dc642d",
       "value": false
      }
     },
     "1ce4563fcc284b779a16eb770b49ce87": {
      "model_module": "@jupyter-widgets/controls",
      "model_module_version": "1.5.0",
      "model_name": "ButtonModel",
      "state": {
       "description": "Reset Hue Controls",
       "layout": "IPY_MODEL_498892f5b02a4f1a81bac77c4a1f99c7",
       "style": "IPY_MODEL_5a35517df87f4be2b12b352d47f1c81b"
      }
     },
     "1cf7b4215787440f979184401eec9d69": {
      "model_module": "@jupyter-widgets/controls",
      "model_module_version": "1.5.0",
      "model_name": "SliderStyleModel",
      "state": {
       "description_width": ""
      }
     },
     "1d3e3e67d3f54779aaf004c1e825e5c9": {
      "model_module": "@jupyter-widgets/controls",
      "model_module_version": "1.5.0",
      "model_name": "ButtonStyleModel",
      "state": {}
     },
     "1d5c19897bd34bedbe47124ae895407c": {
      "model_module": "@jupyter-widgets/controls",
      "model_module_version": "1.5.0",
      "model_name": "FloatSliderModel",
      "state": {
       "description": "Compression Threshold",
       "layout": "IPY_MODEL_64dbc01176a447928e872380e5fe0890",
       "max": 1,
       "step": 0.01,
       "style": "IPY_MODEL_88cc20fd5e33476fb53674512ead98e0",
       "value": 0.8
      }
     },
     "1d7e7cded5b746db9a7a8a76ea4807bc": {
      "model_module": "@jupyter-widgets/controls",
      "model_module_version": "1.5.0",
      "model_name": "HBoxModel",
      "state": {
       "children": [
        "IPY_MODEL_0561907bccd4415084038add3988280f",
        "IPY_MODEL_2647ad93115d4b5792d664a20121f6b4",
        "IPY_MODEL_88e8b289ad1e4cc1bb4f535bd22a33f1"
       ],
       "layout": "IPY_MODEL_3cdd594502644d5cb265c2be122630fc"
      }
     },
     "1d8d6290ba4b4be99ae63f407d805f70": {
      "model_module": "@jupyter-widgets/controls",
      "model_module_version": "1.5.0",
      "model_name": "ButtonModel",
      "state": {
       "description": "Reset Hue Controls",
       "layout": "IPY_MODEL_35ef39e6659845e09409ae46ce04418f",
       "style": "IPY_MODEL_f96cad46e57a4f10ae1107c686aabe8f"
      }
     },
     "1de5dcbe0801416a81d694f5bebd4950": {
      "model_module": "@jupyter-widgets/controls",
      "model_module_version": "1.5.0",
      "model_name": "HBoxModel",
      "state": {
       "children": [
        "IPY_MODEL_415a7d731c1b49b3b6a17d179f61f205",
        "IPY_MODEL_7277360dd1a64fe5a5989c444eb9784c",
        "IPY_MODEL_ba0711eb648b44708b78e84ea6a803fa"
       ],
       "layout": "IPY_MODEL_2362422d012e4fad98f890992354dcbd"
      }
     },
     "1e0d6940e1244f91ac2402eef446019a": {
      "model_module": "@jupyter-widgets/base",
      "model_module_version": "1.2.0",
      "model_name": "LayoutModel",
      "state": {}
     },
     "1e10c56a64f645e094a2d590487fde71": {
      "model_module": "@jupyter-widgets/base",
      "model_module_version": "1.2.0",
      "model_name": "LayoutModel",
      "state": {}
     },
     "1e34a468dd2948f6abadd07ac0ddd2db": {
      "model_module": "@jupyter-widgets/base",
      "model_module_version": "1.2.0",
      "model_name": "LayoutModel",
      "state": {}
     },
     "1efdfe1b1e664be09be91896c1efcb91": {
      "model_module": "@jupyter-widgets/controls",
      "model_module_version": "1.5.0",
      "model_name": "SliderStyleModel",
      "state": {
       "description_width": ""
      }
     },
     "1f064c62cf5c4218b821c6035d20906a": {
      "model_module": "@jupyter-widgets/base",
      "model_module_version": "1.2.0",
      "model_name": "LayoutModel",
      "state": {}
     },
     "1f81acf34a244cad9232cde796f6e746": {
      "model_module": "@jupyter-widgets/base",
      "model_module_version": "1.2.0",
      "model_name": "LayoutModel",
      "state": {}
     },
     "1f8225bdd87a4c1284910b36746739cf": {
      "model_module": "@jupyter-widgets/base",
      "model_module_version": "1.2.0",
      "model_name": "LayoutModel",
      "state": {}
     },
     "1f8a973cefd44ce2b310ef481466a6ba": {
      "model_module": "@jupyter-widgets/controls",
      "model_module_version": "1.5.0",
      "model_name": "VBoxModel",
      "state": {
       "children": [
        "IPY_MODEL_6b2f4bab7ebc45628495d7cf874e4a5f",
        "IPY_MODEL_54113e36cc6c42daa30d08797937b9e1"
       ],
       "layout": "IPY_MODEL_e5feef11fd7e42119a6ea24559e28731"
      }
     },
     "1f9ec467c74e419e84d5c4c9d7a7d49b": {
      "model_module": "@jupyter-widgets/controls",
      "model_module_version": "1.5.0",
      "model_name": "DescriptionStyleModel",
      "state": {
       "description_width": ""
      }
     },
     "1fb743730ff5434f8dcbb3ad810bfec4": {
      "model_module": "@jupyter-widgets/controls",
      "model_module_version": "1.5.0",
      "model_name": "FloatSliderModel",
      "state": {
       "description": "Exposure",
       "layout": "IPY_MODEL_889d1a425dc14d1d9f5f8f72f36d6c40",
       "max": 8,
       "min": -8,
       "step": 0.1,
       "style": "IPY_MODEL_6d62242a423e4086b298aade848261f1"
      }
     },
     "1fde657356364b26833b7965d5559c2d": {
      "model_module": "@jupyter-widgets/base",
      "model_module_version": "1.2.0",
      "model_name": "LayoutModel",
      "state": {}
     },
     "1ff3907921f24eb196b6d2223de4e9d9": {
      "model_module": "@jupyter-widgets/base",
      "model_module_version": "1.2.0",
      "model_name": "LayoutModel",
      "state": {}
     },
     "20143ad7dcc44f048754465eec60d87b": {
      "model_module": "@jupyter-widgets/base",
      "model_module_version": "1.2.0",
      "model_name": "LayoutModel",
      "state": {}
     },
     "201573f176024413a31f012336fb4907": {
      "model_module": "@jupyter-widgets/base",
      "model_module_version": "1.2.0",
      "model_name": "LayoutModel",
      "state": {}
     },
     "201d7a813854451ab38655bb5408931b": {
      "model_module": "@jupyter-widgets/controls",
      "model_module_version": "1.5.0",
      "model_name": "ButtonModel",
      "state": {
       "description": "Reset Compression Controls",
       "layout": "IPY_MODEL_f3a52f062e444ef79da25baceb75470d",
       "style": "IPY_MODEL_42504bc5593b4e0b8a657c7f961c1a00"
      }
     },
     "204a695e10e6474db2d51d21ea3ce37f": {
      "model_module": "@jupyter-widgets/base",
      "model_module_version": "1.2.0",
      "model_name": "LayoutModel",
      "state": {}
     },
     "209166998be34f1496bc6b1fb5738980": {
      "model_module": "@jupyter-widgets/controls",
      "model_module_version": "1.5.0",
      "model_name": "ButtonStyleModel",
      "state": {}
     },
     "20bc7755d37f479d88fb1c26b1efbb00": {
      "model_module": "@jupyter-widgets/output",
      "model_module_version": "1.0.0",
      "model_name": "OutputModel",
      "state": {
       "layout": "IPY_MODEL_fc776592e22a4789adddd90f22f21c35",
       "outputs": [
        {
         "data": {
          "application/vnd.jupyter.widget-view+json": {
           "model_id": "38d606e0710549f7b40d819ba9ad9810",
           "version_major": 2,
           "version_minor": 0
          },
          "text/plain": "Canvas(toolbar=Toolbar(toolitems=[('Home', 'Reset original view', 'home', 'home'), ('Back', 'Back to previous …"
         },
         "metadata": {},
         "output_type": "display_data"
        }
       ]
      }
     },
     "20c638df44154e8ab5282f415031b10d": {
      "model_module": "@jupyter-widgets/controls",
      "model_module_version": "1.5.0",
      "model_name": "ButtonModel",
      "state": {
       "description": "Save Figure",
       "layout": "IPY_MODEL_4eb622fd9da741e186d038819a68ca06",
       "style": "IPY_MODEL_262e56e9843846d3ad8bf49dfa001262"
      }
     },
     "20cfbce1c2f84f6c88bb5418e65a9e4c": {
      "model_module": "@jupyter-widgets/controls",
      "model_module_version": "1.5.0",
      "model_name": "ButtonModel",
      "state": {
       "description": "Export Image",
       "layout": "IPY_MODEL_9ae1469044764f73ab415c9be98c6b4f",
       "style": "IPY_MODEL_e3c1adb31472480d81e4d0559a564944"
      }
     },
     "20e37330172e4806ad6ce397d17e180e": {
      "model_module": "@jupyter-widgets/controls",
      "model_module_version": "1.5.0",
      "model_name": "HBoxModel",
      "state": {
       "children": [
        "IPY_MODEL_fe05b0365ce84e12bb2e8a761367544f",
        "IPY_MODEL_20cfbce1c2f84f6c88bb5418e65a9e4c",
        "IPY_MODEL_a12c6e6866c34901bf0b3bcece20dcd4"
       ],
       "layout": "IPY_MODEL_c227c84e2e984a0bb5db614ed4d3f3b9"
      }
     },
     "20f5bf85cef241f9a9ccce9f97258bab": {
      "model_module": "@jupyter-widgets/controls",
      "model_module_version": "1.5.0",
      "model_name": "HBoxModel",
      "state": {
       "children": [
        "IPY_MODEL_07d857631e7c4c0290f9efbc5a7d2cd7",
        "IPY_MODEL_5805f48a03504346890e1fec8034e11a",
        "IPY_MODEL_c4ce4ce56c67432eb6199387cc024725"
       ],
       "layout": "IPY_MODEL_d9522e82800e4e01955ee649c10ca209"
      }
     },
     "210d9e771aae45988f70a657a8cf07e1": {
      "model_module": "@jupyter-widgets/base",
      "model_module_version": "1.2.0",
      "model_name": "LayoutModel",
      "state": {}
     },
     "212d2434761a4fbd8e19651395fb3619": {
      "model_module": "@jupyter-widgets/base",
      "model_module_version": "1.2.0",
      "model_name": "LayoutModel",
      "state": {}
     },
     "2153e5ca496945b787aceea89d7d7b00": {
      "model_module": "@jupyter-widgets/controls",
      "model_module_version": "1.5.0",
      "model_name": "TabModel",
      "state": {
       "_titles": {
        "0": "Global Controls",
        "1": "Viewer Controls",
        "2": "Compression Controls"
       },
       "children": [
        "IPY_MODEL_9a7160f65d7a428883d8f305e4454822",
        "IPY_MODEL_350f347a389442aaa4e4f4f781886bc3",
        "IPY_MODEL_1de5dcbe0801416a81d694f5bebd4950"
       ],
       "layout": "IPY_MODEL_19a33e03cc4246da9e0807e38417ee5a"
      }
     },
     "217d007c4cd0433b9fff156ce849b7e8": {
      "model_module": "@jupyter-widgets/controls",
      "model_module_version": "1.5.0",
      "model_name": "HBoxModel",
      "state": {
       "children": [
        "IPY_MODEL_dd11f7e0dc9d45898f9a6b894ca304dc",
        "IPY_MODEL_820f9d196fcf4197b4d6d04c61b28934"
       ],
       "layout": "IPY_MODEL_5f7365efcbdc4475950d6b76dfcb37aa"
      }
     },
     "21bb2f48026b4e3c84c062e3eddc605f": {
      "model_module": "@jupyter-widgets/controls",
      "model_module_version": "1.5.0",
      "model_name": "SliderStyleModel",
      "state": {
       "description_width": ""
      }
     },
     "221c4290b67846e0b6ead3b8d80c2e60": {
      "model_module": "@jupyter-widgets/base",
      "model_module_version": "1.2.0",
      "model_name": "LayoutModel",
      "state": {}
     },
     "2239f767ff134ebd994c0e0b57490c88": {
      "model_module": "@jupyter-widgets/base",
      "model_module_version": "1.2.0",
      "model_name": "LayoutModel",
      "state": {
       "align_items": "stretch",
       "display": "flex",
       "flex_flow": "column",
       "width": "1128px"
      }
     },
     "22475c27653a4af99e7aa4f8de0051e4": {
      "model_module": "@jupyter-widgets/base",
      "model_module_version": "1.2.0",
      "model_name": "LayoutModel",
      "state": {
       "border": "solid 4px #222",
       "margin": "4px",
       "padding": "0"
      }
     },
     "229218c7345844ac87569e4e0044f116": {
      "model_module": "@jupyter-widgets/controls",
      "model_module_version": "1.5.0",
      "model_name": "SliderStyleModel",
      "state": {
       "description_width": ""
      }
     },
     "22b514431c0744f59b739ba5520dbd16": {
      "model_module": "@jupyter-widgets/controls",
      "model_module_version": "1.5.0",
      "model_name": "DescriptionStyleModel",
      "state": {
       "description_width": ""
      }
     },
     "23145894a82946d59112777e7791410c": {
      "model_module": "@jupyter-widgets/base",
      "model_module_version": "1.2.0",
      "model_name": "LayoutModel",
      "state": {}
     },
     "2362422d012e4fad98f890992354dcbd": {
      "model_module": "@jupyter-widgets/base",
      "model_module_version": "1.2.0",
      "model_name": "LayoutModel",
      "state": {}
     },
     "2370661e1178471c9764108a462c82ea": {
      "model_module": "@jupyter-widgets/controls",
      "model_module_version": "1.5.0",
      "model_name": "ButtonStyleModel",
      "state": {}
     },
     "2374198ccdab444f813511186d1f9343": {
      "model_module": "@jupyter-widgets/controls",
      "model_module_version": "1.5.0",
      "model_name": "ButtonStyleModel",
      "state": {}
     },
     "238e6d85578f4cd28e902e183eb3f843": {
      "model_module": "@jupyter-widgets/base",
      "model_module_version": "1.2.0",
      "model_name": "LayoutModel",
      "state": {}
     },
     "23b4d79c29ae429280a0c34cc01995a5": {
      "model_module": "@jupyter-widgets/controls",
      "model_module_version": "1.5.0",
      "model_name": "SliderStyleModel",
      "state": {
       "description_width": ""
      }
     },
     "23c514d8bcd84969924815d4bdc748f2": {
      "model_module": "@jupyter-widgets/controls",
      "model_module_version": "1.5.0",
      "model_name": "ButtonModel",
      "state": {
       "description": "Reset Saturation Controls",
       "layout": "IPY_MODEL_c9e58f7099b24c08a166d09f4b2c4fb7",
       "style": "IPY_MODEL_1d3e3e67d3f54779aaf004c1e825e5c9"
      }
     },
     "23d6a60c618e47759ac242b22319afe5": {
      "model_module": "@jupyter-widgets/controls",
      "model_module_version": "1.5.0",
      "model_name": "DescriptionStyleModel",
      "state": {
       "description_width": ""
      }
     },
     "23ea396a1c084ef8b01abfbf2df63fc4": {
      "model_module": "jupyter-matplotlib",
      "model_module_version": "^0.7.2",
      "model_name": "ToolbarModel",
      "state": {
       "layout": "IPY_MODEL_3e19dc6791884b99903a42aa3f372fd5",
       "toolitems": [
        [
         "Home",
         "Reset original view",
         "home",
         "home"
        ],
        [
         "Back",
         "Back to previous view",
         "arrow-left",
         "back"
        ],
        [
         "Forward",
         "Forward to next view",
         "arrow-right",
         "forward"
        ],
        [
         "Pan",
         "Pan axes with left mouse, zoom with right",
         "arrows",
         "pan"
        ],
        [
         "Zoom",
         "Zoom to rectangle",
         "square-o",
         "zoom"
        ],
        [
         "Download",
         "Download plot",
         "floppy-o",
         "save_figure"
        ]
       ]
      }
     },
     "23fda023be7c49808979bec8cfd09834": {
      "model_module": "@jupyter-widgets/base",
      "model_module_version": "1.2.0",
      "model_name": "LayoutModel",
      "state": {}
     },
     "2445afa32ca543d2bde5d77c2f6d6111": {
      "model_module": "@jupyter-widgets/controls",
      "model_module_version": "1.5.0",
      "model_name": "ButtonStyleModel",
      "state": {}
     },
     "2464f1c373d044b0b58a5675d84d7fee": {
      "model_module": "@jupyter-widgets/base",
      "model_module_version": "1.2.0",
      "model_name": "LayoutModel",
      "state": {}
     },
     "247e20ec93fe40e6b8ff1e8f99937bf6": {
      "model_module": "@jupyter-widgets/controls",
      "model_module_version": "1.5.0",
      "model_name": "SliderStyleModel",
      "state": {
       "description_width": ""
      }
     },
     "24e0d7d1b0be456a9fc9eb906fde8197": {
      "model_module": "@jupyter-widgets/controls",
      "model_module_version": "1.5.0",
      "model_name": "FloatSliderModel",
      "state": {
       "description": "Exposure",
       "layout": "IPY_MODEL_8bbef9aef1c74921a8f9e3be120dd188",
       "max": 8,
       "min": -8,
       "step": 0.1,
       "style": "IPY_MODEL_b938da3738a94faabf9eadf61e28e466"
      }
     },
     "25150a363e15484d9c43c8975f90a07a": {
      "model_module": "@jupyter-widgets/controls",
      "model_module_version": "1.5.0",
      "model_name": "ButtonStyleModel",
      "state": {}
     },
     "2568fadb46374e30a0e93f6744263d71": {
      "model_module": "@jupyter-widgets/base",
      "model_module_version": "1.2.0",
      "model_name": "LayoutModel",
      "state": {}
     },
     "258178fab0a743c3a20eac95a31a6f98": {
      "model_module": "@jupyter-widgets/controls",
      "model_module_version": "1.5.0",
      "model_name": "ButtonStyleModel",
      "state": {}
     },
     "258c7c9b33a44c429e5202066fc4ab22": {
      "model_module": "@jupyter-widgets/controls",
      "model_module_version": "1.5.0",
      "model_name": "CheckboxModel",
      "state": {
       "description": "Show Out-of-Gamut",
       "disabled": false,
       "layout": "IPY_MODEL_70d8995997264fbe96d2254b64356268",
       "style": "IPY_MODEL_be14f951b687425d85e674c7b67acb08",
       "value": false
      }
     },
     "25a6055d75e9450d838fd1459c093bd7": {
      "model_module": "@jupyter-widgets/base",
      "model_module_version": "1.2.0",
      "model_name": "LayoutModel",
      "state": {
       "border": "solid 4px #222",
       "margin": "4px",
       "padding": "0"
      }
     },
     "25a6152baa7e4d36bb5499dfb6ec124d": {
      "model_module": "@jupyter-widgets/base",
      "model_module_version": "1.2.0",
      "model_name": "LayoutModel",
      "state": {}
     },
     "25a75f7a184340cfa2b4c91d4a11d22a": {
      "model_module": "@jupyter-widgets/controls",
      "model_module_version": "1.5.0",
      "model_name": "HBoxModel",
      "state": {
       "children": [
        "IPY_MODEL_d8b4d930f2244c4085202dadc6876cc8",
        "IPY_MODEL_2c1abfe40b574764ab6b8505455f6322",
        "IPY_MODEL_532851348eb34e22a94a9cc4d99ab6b7"
       ],
       "layout": "IPY_MODEL_cca372a56c6e400f825955042ee55ce1"
      }
     },
     "262e56e9843846d3ad8bf49dfa001262": {
      "model_module": "@jupyter-widgets/controls",
      "model_module_version": "1.5.0",
      "model_name": "ButtonStyleModel",
      "state": {}
     },
     "2633d2885fdd4832a724bc136dbd01ee": {
      "model_module": "@jupyter-widgets/controls",
      "model_module_version": "1.5.0",
      "model_name": "SliderStyleModel",
      "state": {
       "description_width": ""
      }
     },
     "2647ad93115d4b5792d664a20121f6b4": {
      "model_module": "@jupyter-widgets/controls",
      "model_module_version": "1.5.0",
      "model_name": "ButtonModel",
      "state": {
       "description": "Export Image",
       "layout": "IPY_MODEL_6008504e966d4e29a9d0d77cd658d3a9",
       "style": "IPY_MODEL_6854fb2d8b104ea9ad5c2131295fea63"
      }
     },
     "266fa3f8129949c5a15806e0b705b946": {
      "model_module": "@jupyter-widgets/base",
      "model_module_version": "1.2.0",
      "model_name": "LayoutModel",
      "state": {}
     },
     "26a19812b05544fabb8d9698c4af63db": {
      "model_module": "@jupyter-widgets/controls",
      "model_module_version": "1.5.0",
      "model_name": "FloatSliderModel",
      "state": {
       "description": "45°",
       "layout": "IPY_MODEL_2fd296442fb1425c84171edf65d639d4",
       "max": 1,
       "min": -1,
       "step": 0.01,
       "style": "IPY_MODEL_b4981744b6d3443ba0c1d7cd8b11ad60"
      }
     },
     "26a6232c6a134e51a57ee5fc01c1f0e0": {
      "model_module": "@jupyter-widgets/controls",
      "model_module_version": "1.5.0",
      "model_name": "VBoxModel",
      "state": {
       "children": [
        "IPY_MODEL_f0542e5e4bb54f15879945f0bf8fee95",
        "IPY_MODEL_ca1a355ef0cd42b78c8638287d7efd0b",
        "IPY_MODEL_7b9145250fb84cbc8c4e518b26f522e0"
       ],
       "layout": "IPY_MODEL_f96c1e67412b45b8a9a05dcd716b5d97"
      }
     },
     "26aa159b5a6247d29cc6e7bfe1c0b279": {
      "model_module": "@jupyter-widgets/controls",
      "model_module_version": "1.5.0",
      "model_name": "FloatSliderModel",
      "state": {
       "description": "315°",
       "layout": "IPY_MODEL_cbf9d2dc22f743b5b228039277adad13",
       "max": 1,
       "min": -1,
       "step": 0.01,
       "style": "IPY_MODEL_36c21ad595864ebebfae92e06d77cd89"
      }
     },
     "26b0865047c246beac468be5cb413841": {
      "model_module": "@jupyter-widgets/base",
      "model_module_version": "1.2.0",
      "model_name": "LayoutModel",
      "state": {}
     },
     "26bd6ece502e459eb6a96da59b7fb3a5": {
      "model_module": "@jupyter-widgets/controls",
      "model_module_version": "1.5.0",
      "model_name": "DescriptionStyleModel",
      "state": {
       "description_width": ""
      }
     },
     "270f53f6519149228b365b76cf09679f": {
      "model_module": "@jupyter-widgets/base",
      "model_module_version": "1.2.0",
      "model_name": "LayoutModel",
      "state": {}
     },
     "2728712282e349549675d75874b13e29": {
      "model_module": "@jupyter-widgets/controls",
      "model_module_version": "1.5.0",
      "model_name": "ButtonStyleModel",
      "state": {}
     },
     "2771f70d89324330af91fb3cde770ead": {
      "model_module": "@jupyter-widgets/controls",
      "model_module_version": "1.5.0",
      "model_name": "SliderStyleModel",
      "state": {
       "description_width": ""
      }
     },
     "279028c8ab0b45fa95f4d39a39066de8": {
      "model_module": "@jupyter-widgets/controls",
      "model_module_version": "1.5.0",
      "model_name": "FloatSliderModel",
      "state": {
       "description": "90°",
       "layout": "IPY_MODEL_87b84609d98349fab6c8f62d3b7e74d4",
       "max": 1,
       "min": -1,
       "step": 0.01,
       "style": "IPY_MODEL_0b88d85480ef4f6d93f8a1cd3c99307c"
      }
     },
     "28043b6bd233461c9d95996fb51d43bd": {
      "model_module": "@jupyter-widgets/base",
      "model_module_version": "1.2.0",
      "model_name": "LayoutModel",
      "state": {}
     },
     "2856168afa8b49bcb4ce6363343de641": {
      "model_module": "@jupyter-widgets/base",
      "model_module_version": "1.2.0",
      "model_name": "LayoutModel",
      "state": {}
     },
     "2872c87a67df49fc9ec13a67db79974a": {
      "model_module": "@jupyter-widgets/base",
      "model_module_version": "1.2.0",
      "model_name": "LayoutModel",
      "state": {}
     },
     "2882354c353642258a91abf3f6a07de9": {
      "model_module": "@jupyter-widgets/base",
      "model_module_version": "1.2.0",
      "model_name": "LayoutModel",
      "state": {
       "align_items": "stretch",
       "display": "flex",
       "flex_flow": "column",
       "width": "1128px"
      }
     },
     "289af8f60e3c4013a566a63148f24aa7": {
      "model_module": "@jupyter-widgets/controls",
      "model_module_version": "1.5.0",
      "model_name": "FloatSliderModel",
      "state": {
       "description": "Compression Threshold",
       "layout": "IPY_MODEL_c7f898d16dcc4b209d440a334f3dd295",
       "max": 1,
       "step": 0.01,
       "style": "IPY_MODEL_3dae6bb7e2d048368095135661ecbb43",
       "value": 0.8
      }
     },
     "28abdfb3a57a4e53ad23d8d6ad7b87c3": {
      "model_module": "@jupyter-widgets/controls",
      "model_module_version": "1.5.0",
      "model_name": "CheckboxModel",
      "state": {
       "description": "Show Out-of-Gamut",
       "disabled": false,
       "layout": "IPY_MODEL_6ed50279627547729da9387d95e9da11",
       "style": "IPY_MODEL_d009a805d1444f308154ab752bd21216",
       "value": false
      }
     },
     "28b4200c666543ddb9d6929007732915": {
      "model_module": "@jupyter-widgets/base",
      "model_module_version": "1.2.0",
      "model_name": "LayoutModel",
      "state": {}
     },
     "297d618cd03a49f0a1ca03d6d47ec81c": {
      "model_module": "@jupyter-widgets/output",
      "model_module_version": "1.0.0",
      "model_name": "OutputModel",
      "state": {
       "layout": "IPY_MODEL_3cbaefa925c9469ead79c68930275b5b",
       "outputs": [
        {
         "data": {
          "application/vnd.jupyter.widget-view+json": {
           "model_id": "d4fa975c0e9140b4b578238b505c0bc3",
           "version_major": 2,
           "version_minor": 0
          },
          "text/plain": "Canvas(toolbar=Toolbar(toolitems=[('Home', 'Reset original view', 'home', 'home'), ('Back', 'Back to previous …"
         },
         "metadata": {},
         "output_type": "display_data"
        }
       ]
      }
     },
     "29b448043b83424e922f1bc277fc117f": {
      "model_module": "@jupyter-widgets/controls",
      "model_module_version": "1.5.0",
      "model_name": "CheckboxModel",
      "state": {
       "description": "Show Out-of-Gamut",
       "disabled": false,
       "layout": "IPY_MODEL_a268f58b6d7244d08da9c5de9cbaf7c4",
       "style": "IPY_MODEL_510ffd21c04749b3be8d88d01bed024c",
       "value": false
      }
     },
     "29c44558fd204e41b2e17f47465d98a3": {
      "model_module": "jupyter-matplotlib",
      "model_module_version": "^0.7.2",
      "model_name": "MPLCanvasModel",
      "state": {
       "_figure_label": "Figure 28",
       "_height": 550,
       "_width": 1100,
       "header_visible": false,
       "layout": "IPY_MODEL_1977b73b24674e98b10f13fa0457cf54",
       "resizable": false,
       "toolbar": "IPY_MODEL_070e7be3d7de4200b1eaad543c92e414",
       "toolbar_position": "left",
       "toolbar_visible": false
      }
     },
     "29ffe1baed59492b985081a268959357": {
      "model_module": "@jupyter-widgets/controls",
      "model_module_version": "1.5.0",
      "model_name": "ButtonStyleModel",
      "state": {}
     },
     "2a025d86f5434b8e8b1e463ed61b4445": {
      "model_module": "@jupyter-widgets/base",
      "model_module_version": "1.2.0",
      "model_name": "LayoutModel",
      "state": {}
     },
     "2a102d4651004e0ba890cb8aeca62a39": {
      "model_module": "@jupyter-widgets/controls",
      "model_module_version": "1.5.0",
      "model_name": "VBoxModel",
      "state": {
       "children": [
        "IPY_MODEL_c70f699d42ac421e97a8b0403b8703b4",
        "IPY_MODEL_26aa159b5a6247d29cc6e7bfe1c0b279"
       ],
       "layout": "IPY_MODEL_b821c0256550431d8ae43b025752f216"
      }
     },
     "2a15b7e0fbf84072aa4e8b1ab1fabbf0": {
      "model_module": "@jupyter-widgets/base",
      "model_module_version": "1.2.0",
      "model_name": "LayoutModel",
      "state": {}
     },
     "2a28fa4b9fe24ee99ed83e3737569c00": {
      "model_module": "@jupyter-widgets/controls",
      "model_module_version": "1.5.0",
      "model_name": "DescriptionStyleModel",
      "state": {
       "description_width": ""
      }
     },
     "2a7ad1d05e3747dd80eb870e6306baff": {
      "model_module": "@jupyter-widgets/base",
      "model_module_version": "1.2.0",
      "model_name": "LayoutModel",
      "state": {}
     },
     "2a7eb4391ec94fbc8bbf13ec39f2ad40": {
      "model_module": "@jupyter-widgets/controls",
      "model_module_version": "1.5.0",
      "model_name": "ButtonStyleModel",
      "state": {}
     },
     "2ae9919c77774359b908900f700d9611": {
      "model_module": "@jupyter-widgets/base",
      "model_module_version": "1.2.0",
      "model_name": "LayoutModel",
      "state": {}
     },
     "2b8a852375d749ebabc9aabe4bb6b5c2": {
      "model_module": "@jupyter-widgets/controls",
      "model_module_version": "1.5.0",
      "model_name": "DescriptionStyleModel",
      "state": {
       "description_width": ""
      }
     },
     "2bc95c601ab244519e1b01ebb751bb5c": {
      "model_module": "@jupyter-widgets/controls",
      "model_module_version": "1.5.0",
      "model_name": "HBoxModel",
      "state": {
       "children": [
        "IPY_MODEL_23c514d8bcd84969924815d4bdc748f2",
        "IPY_MODEL_1453035b6cca462888f007b2c8bd04b8",
        "IPY_MODEL_cc410422ce1c48b98e43f088e69ea8a8"
       ],
       "layout": "IPY_MODEL_91bb89546f364ea59bbc8c594b3b3090"
      }
     },
     "2bd1a02359804846aa361f064249bde8": {
      "model_module": "@jupyter-widgets/base",
      "model_module_version": "1.2.0",
      "model_name": "LayoutModel",
      "state": {}
     },
     "2be36ce679594079ae3429903be0d8e0": {
      "model_module": "@jupyter-widgets/base",
      "model_module_version": "1.2.0",
      "model_name": "LayoutModel",
      "state": {
       "border": "solid 4px #222",
       "margin": "4px",
       "padding": "0"
      }
     },
     "2c1abfe40b574764ab6b8505455f6322": {
      "model_module": "@jupyter-widgets/controls",
      "model_module_version": "1.5.0",
      "model_name": "ButtonModel",
      "state": {
       "description": "Export Image",
       "layout": "IPY_MODEL_c56e552840cc446f8a8eb90bd245c18a",
       "style": "IPY_MODEL_785d42c0d86f40678daeed5a025abb14"
      }
     },
     "2c6f71bd9d424c35bf131142974a6d1f": {
      "model_module": "@jupyter-widgets/controls",
      "model_module_version": "1.5.0",
      "model_name": "TabModel",
      "state": {
       "_titles": {
        "0": "Global Controls",
        "1": "Viewer Controls",
        "2": "Protected Area Controls",
        "3": "Saturation Controls",
        "4": "Hue Controls"
       },
       "children": [
        "IPY_MODEL_2ef336041ac047c89a3cb34f53344ea4",
        "IPY_MODEL_a9b3f1491d5846d5a056ead14dc6c9db",
        "IPY_MODEL_b459462d774f49a4a8e21ea54e436b7a",
        "IPY_MODEL_85dcad787ff24cf5b73d8c3b3f515a36",
        "IPY_MODEL_e6963e4cb1c440089c2184b309d2f03e"
       ],
       "layout": "IPY_MODEL_53c9d506263b4bc5a1c553e2c7cdd3cb"
      }
     },
     "2c7049a1ad1f4826b248a4eaeb416ef3": {
      "model_module": "jupyter-matplotlib",
      "model_module_version": "^0.7.2",
      "model_name": "ToolbarModel",
      "state": {
       "layout": "IPY_MODEL_d6801faea8ae4031b7619b780c58569f",
       "toolitems": [
        [
         "Home",
         "Reset original view",
         "home",
         "home"
        ],
        [
         "Back",
         "Back to previous view",
         "arrow-left",
         "back"
        ],
        [
         "Forward",
         "Forward to next view",
         "arrow-right",
         "forward"
        ],
        [
         "Pan",
         "Pan axes with left mouse, zoom with right",
         "arrows",
         "pan"
        ],
        [
         "Zoom",
         "Zoom to rectangle",
         "square-o",
         "zoom"
        ],
        [
         "Download",
         "Download plot",
         "floppy-o",
         "save_figure"
        ]
       ]
      }
     },
     "2c9abd4ad5364b3fbff872ca7d7a1b70": {
      "model_module": "@jupyter-widgets/base",
      "model_module_version": "1.2.0",
      "model_name": "LayoutModel",
      "state": {}
     },
     "2cd4e75a224f4fb2b460e873ae91bca2": {
      "model_module": "@jupyter-widgets/base",
      "model_module_version": "1.2.0",
      "model_name": "LayoutModel",
      "state": {}
     },
     "2d14a445ce76405b8d75fd933ad704ae": {
      "model_module": "@jupyter-widgets/controls",
      "model_module_version": "1.5.0",
      "model_name": "SliderStyleModel",
      "state": {
       "description_width": ""
      }
     },
     "2d8eded8ea5443089ee01a3525dc642d": {
      "model_module": "@jupyter-widgets/controls",
      "model_module_version": "1.5.0",
      "model_name": "DescriptionStyleModel",
      "state": {
       "description_width": ""
      }
     },
     "2da53d89725f4ccb99bfbd0df93d5a08": {
      "model_module": "@jupyter-widgets/output",
      "model_module_version": "1.0.0",
      "model_name": "OutputModel",
      "state": {
       "layout": "IPY_MODEL_c002bda0368948598b209e280cb15a21",
       "outputs": [
        {
         "data": {
          "application/vnd.jupyter.widget-view+json": {
           "model_id": "3de0bf597b114990996aed3f65a75788",
           "version_major": 2,
           "version_minor": 0
          },
          "text/plain": "Canvas(toolbar=Toolbar(toolitems=[('Home', 'Reset original view', 'home', 'home'), ('Back', 'Back to previous …"
         },
         "metadata": {},
         "output_type": "display_data"
        }
       ]
      }
     },
     "2dcb66f53382480484540f6e3e4d674c": {
      "model_module": "@jupyter-widgets/controls",
      "model_module_version": "1.5.0",
      "model_name": "TabModel",
      "state": {
       "_titles": {
        "0": "Global Controls",
        "1": "Viewer Controls",
        "2": "Protected Area Controls",
        "3": "Saturation Controls",
        "4": "Hue Controls"
       },
       "children": [
        "IPY_MODEL_625c13f160c240e58ea2eb8b28b873ae",
        "IPY_MODEL_9620cb444bca4bfe903af8dcfb6008af",
        "IPY_MODEL_b3986d3908ff4824bce6cebe03208e61",
        "IPY_MODEL_b8743894f97b44f39170fdab28f4bc92",
        "IPY_MODEL_33397f461395491e83ca8954f28f10c3"
       ],
       "layout": "IPY_MODEL_cbd85a4a528c43d99a1619d46266328c"
      }
     },
     "2dd22797a16b414482bfd95dc53f29d3": {
      "model_module": "@jupyter-widgets/base",
      "model_module_version": "1.2.0",
      "model_name": "LayoutModel",
      "state": {}
     },
     "2df01a2ca7b54a88b79a728f5de3d48f": {
      "model_module": "@jupyter-widgets/controls",
      "model_module_version": "1.5.0",
      "model_name": "FloatSliderModel",
      "state": {
       "description": "90°",
       "layout": "IPY_MODEL_936aee146d0a4c73ba9c24d6e0b9e713",
       "max": 1,
       "min": -1,
       "step": 0.01,
       "style": "IPY_MODEL_951b22924e754218bcfd21c161f87eb9"
      }
     },
     "2df86764e83a4831ac2a00b70701caa9": {
      "model_module": "@jupyter-widgets/base",
      "model_module_version": "1.2.0",
      "model_name": "LayoutModel",
      "state": {}
     },
     "2e33906967e345849cd2cbad4c5cc4fc": {
      "model_module": "jupyter-matplotlib",
      "model_module_version": "^0.7.2",
      "model_name": "ToolbarModel",
      "state": {
       "layout": "IPY_MODEL_107402634ba345dbbfa39cd75c8f138f",
       "toolitems": [
        [
         "Home",
         "Reset original view",
         "home",
         "home"
        ],
        [
         "Back",
         "Back to previous view",
         "arrow-left",
         "back"
        ],
        [
         "Forward",
         "Forward to next view",
         "arrow-right",
         "forward"
        ],
        [
         "Pan",
         "Pan axes with left mouse, zoom with right",
         "arrows",
         "pan"
        ],
        [
         "Zoom",
         "Zoom to rectangle",
         "square-o",
         "zoom"
        ],
        [
         "Download",
         "Download plot",
         "floppy-o",
         "save_figure"
        ]
       ]
      }
     },
     "2e5f8bb25b4a40d48e8a0d155a051bef": {
      "model_module": "@jupyter-widgets/controls",
      "model_module_version": "1.5.0",
      "model_name": "CheckboxModel",
      "state": {
       "description": "Show Out-of-Gamut",
       "disabled": false,
       "layout": "IPY_MODEL_d9ea4c3df8154671a525fa498cabb7a1",
       "style": "IPY_MODEL_84fc20564a1f4630a9d4166702999956",
       "value": false
      }
     },
     "2e60ccfb83bd4b35a5dfa333e2446c9f": {
      "model_module": "@jupyter-widgets/controls",
      "model_module_version": "1.5.0",
      "model_name": "SliderStyleModel",
      "state": {
       "description_width": ""
      }
     },
     "2e63b1f0950343009250731e539dfa68": {
      "model_module": "@jupyter-widgets/base",
      "model_module_version": "1.2.0",
      "model_name": "LayoutModel",
      "state": {}
     },
     "2e6767945ae14dc79cb07243f26083f7": {
      "model_module": "@jupyter-widgets/controls",
      "model_module_version": "1.5.0",
      "model_name": "VBoxModel",
      "state": {
       "children": [
        "IPY_MODEL_06ee4e69f34143a7a3e127ac7b258a3a",
        "IPY_MODEL_bf8d877d75b64adaafc65462154a173a",
        "IPY_MODEL_554fae0d040f4473b65e22868a3d7925"
       ],
       "layout": "IPY_MODEL_961c0e2359194298b198e445f1cda5e9"
      }
     },
     "2ead3a72e0624104aa81eddfac98d49a": {
      "model_module": "@jupyter-widgets/controls",
      "model_module_version": "1.5.0",
      "model_name": "SliderStyleModel",
      "state": {
       "description_width": ""
      }
     },
     "2ef336041ac047c89a3cb34f53344ea4": {
      "model_module": "@jupyter-widgets/controls",
      "model_module_version": "1.5.0",
      "model_name": "HBoxModel",
      "state": {
       "children": [
        "IPY_MODEL_fe9dc860eb7c44419565e0fac70ab635",
        "IPY_MODEL_d5558421235a4677a662f57b500cfc7c",
        "IPY_MODEL_c49290b3859b42db93bbd3a5bca81448"
       ],
       "layout": "IPY_MODEL_2bd1a02359804846aa361f064249bde8"
      }
     },
     "2f22fa4b6b994f599d64fd8a60882ce1": {
      "model_module": "@jupyter-widgets/base",
      "model_module_version": "1.2.0",
      "model_name": "LayoutModel",
      "state": {}
     },
     "2f4300a2ed4549db804c9e9a9d9d1e07": {
      "model_module": "@jupyter-widgets/controls",
      "model_module_version": "1.5.0",
      "model_name": "TabModel",
      "state": {
       "_titles": {
        "0": "Global Controls",
        "1": "Viewer Controls"
       },
       "children": [
        "IPY_MODEL_c03136c68b1444618a6bff2721ce2c30",
        "IPY_MODEL_7a34ce3f5e4f48779fb3ebff90b9d945"
       ],
       "layout": "IPY_MODEL_a53065855688404888c0b2ea5cd7498b"
      }
     },
     "2f56f8333b9043698550efa088ab4f58": {
      "model_module": "@jupyter-widgets/controls",
      "model_module_version": "1.5.0",
      "model_name": "SliderStyleModel",
      "state": {
       "description_width": ""
      }
     },
     "2f6560cb5c454de2a0d68360eb4eb4eb": {
      "model_module": "@jupyter-widgets/controls",
      "model_module_version": "1.5.0",
      "model_name": "ButtonStyleModel",
      "state": {}
     },
     "2fd296442fb1425c84171edf65d639d4": {
      "model_module": "@jupyter-widgets/base",
      "model_module_version": "1.2.0",
      "model_name": "LayoutModel",
      "state": {}
     },
     "2fd6f01295664f3785806ed214b25428": {
      "model_module": "@jupyter-widgets/controls",
      "model_module_version": "1.5.0",
      "model_name": "ButtonModel",
      "state": {
       "description": "Reset Saturation Controls",
       "layout": "IPY_MODEL_204a695e10e6474db2d51d21ea3ce37f",
       "style": "IPY_MODEL_09d1762b6237457195040fbd212e6d0f"
      }
     },
     "30363da287744071800f82fe78b37d0d": {
      "model_module": "@jupyter-widgets/controls",
      "model_module_version": "1.5.0",
      "model_name": "TabModel",
      "state": {
       "_titles": {
        "0": "Global Controls",
        "1": "Viewer Controls",
        "2": "Compression Controls"
       },
       "children": [
        "IPY_MODEL_9d46621691004874a4e05ccd74d9c27a",
        "IPY_MODEL_0e5f90fbeb334d579b77fc176a490c28",
        "IPY_MODEL_5d5e77c0bdfa47408f2946fed87ba218"
       ],
       "layout": "IPY_MODEL_40c7872b0d724c5fbacfc22d46c08073"
      }
     },
     "30625c3f0d0a48848f8d37096b909255": {
      "model_module": "@jupyter-widgets/controls",
      "model_module_version": "1.5.0",
      "model_name": "DescriptionStyleModel",
      "state": {
       "description_width": ""
      }
     },
     "30b4229cf7d949a7a5b95de396a9dec3": {
      "model_module": "@jupyter-widgets/controls",
      "model_module_version": "1.5.0",
      "model_name": "CheckboxModel",
      "state": {
       "description": "Disable Medicina",
       "disabled": false,
       "layout": "IPY_MODEL_7225304565284763b99b5d8e0699ab55",
       "style": "IPY_MODEL_a9d74becca604422855e1d632494f9c3",
       "value": false
      }
     },
     "30d853128118488ab2275a0d93abfead": {
      "model_module": "@jupyter-widgets/controls",
      "model_module_version": "1.5.0",
      "model_name": "SliderStyleModel",
      "state": {
       "description_width": ""
      }
     },
     "3120e6839447445dad7252378a5f90ae": {
      "model_module": "@jupyter-widgets/base",
      "model_module_version": "1.2.0",
      "model_name": "LayoutModel",
      "state": {}
     },
     "3169cc53f8e449c5b31e0680f22684b7": {
      "model_module": "@jupyter-widgets/base",
      "model_module_version": "1.2.0",
      "model_name": "LayoutModel",
      "state": {}
     },
     "31892c59f14b4e5086d4a5c02150d105": {
      "model_module": "@jupyter-widgets/base",
      "model_module_version": "1.2.0",
      "model_name": "LayoutModel",
      "state": {}
     },
     "31f5d8ed35c04bb1bceff1196e13c48f": {
      "model_module": "@jupyter-widgets/base",
      "model_module_version": "1.2.0",
      "model_name": "LayoutModel",
      "state": {}
     },
     "3222b3a3c03942c5b5c59741e4591e1a": {
      "model_module": "@jupyter-widgets/controls",
      "model_module_version": "1.5.0",
      "model_name": "HBoxModel",
      "state": {
       "children": [
        "IPY_MODEL_aa00b2dc73c84b42a620353eb79feb6c",
        "IPY_MODEL_fb8050b1581a4e129ec539108878d331"
       ],
       "layout": "IPY_MODEL_76bbad6175194f929aafc3f7cf2b7eff"
      }
     },
     "323b1adf37bc4b26a83c11547fa472ad": {
      "model_module": "@jupyter-widgets/controls",
      "model_module_version": "1.5.0",
      "model_name": "FloatSliderModel",
      "state": {
       "description": "Compression Threshold",
       "layout": "IPY_MODEL_a24c3662470f4f4f8ca0d6988aeb7d0f",
       "max": 1,
       "step": 0.01,
       "style": "IPY_MODEL_78ae49ad431b4c3694fc27ad363aba96",
       "value": 0.8
      }
     },
     "32789e6ced774b388271eaf58bdfd9d8": {
      "model_module": "@jupyter-widgets/controls",
      "model_module_version": "1.5.0",
      "model_name": "VBoxModel",
      "state": {
       "children": [
        "IPY_MODEL_c152a435e86e4d5b9afcd319404c1950"
       ],
       "layout": "IPY_MODEL_af7b7b217778491f89b189785ee010db"
      }
     },
     "32cd6bdc359046e4a7a5b2dd238f7af4": {
      "model_module": "@jupyter-widgets/base",
      "model_module_version": "1.2.0",
      "model_name": "LayoutModel",
      "state": {}
     },
     "32e0d7d45fa042af8546075f5e1e9155": {
      "model_module": "@jupyter-widgets/controls",
      "model_module_version": "1.5.0",
      "model_name": "FloatSliderModel",
      "state": {
       "description": "0°",
       "layout": "IPY_MODEL_7cbb10a770314b948695ac42ff6918e6",
       "max": 1,
       "min": -1,
       "step": 0.01,
       "style": "IPY_MODEL_1aa4a5223c4d4012bc7fbec108718a81"
      }
     },
     "32e7673fbb464fab956413af35a828ed": {
      "model_module": "@jupyter-widgets/base",
      "model_module_version": "1.2.0",
      "model_name": "LayoutModel",
      "state": {}
     },
     "32fb726f1ead461ebe2fd9a653a4f1be": {
      "model_module": "@jupyter-widgets/controls",
      "model_module_version": "1.5.0",
      "model_name": "ButtonModel",
      "state": {
       "description": "Export Image",
       "layout": "IPY_MODEL_e92d6b36c92b48ec96fb7d6df9529bfd",
       "style": "IPY_MODEL_eb8a688207534955ba97a4723afcddeb"
      }
     },
     "331e04d515ce41b4887ff832fec743a4": {
      "model_module": "@jupyter-widgets/base",
      "model_module_version": "1.2.0",
      "model_name": "LayoutModel",
      "state": {}
     },
     "33397f461395491e83ca8954f28f10c3": {
      "model_module": "@jupyter-widgets/controls",
      "model_module_version": "1.5.0",
      "model_name": "HBoxModel",
      "state": {
       "children": [
        "IPY_MODEL_8dbe07ef82e04e4cbcc5ca2d2379f52b",
        "IPY_MODEL_9d71766b8e39499090115fab87977e74",
        "IPY_MODEL_2e6767945ae14dc79cb07243f26083f7",
        "IPY_MODEL_9c0b04d5d71741f5a9ee869459934139"
       ],
       "layout": "IPY_MODEL_b343ef12825e4383b6632d27e1d18c3f"
      }
     },
     "33d0c3e7b2814952b7c1b0a6d0e70b80": {
      "model_module": "@jupyter-widgets/controls",
      "model_module_version": "1.5.0",
      "model_name": "ButtonModel",
      "state": {
       "description": "Reset Protected Area",
       "layout": "IPY_MODEL_a063d6ee56ed43a9ac9433764dff16df",
       "style": "IPY_MODEL_74b69b867bc940c48b8929ae06fc974c"
      }
     },
     "33d74f6ae6464e13802cdda162e3d017": {
      "model_module": "@jupyter-widgets/base",
      "model_module_version": "1.2.0",
      "model_name": "LayoutModel",
      "state": {}
     },
     "33dbf19cc278412ba2c6e8fe7b476028": {
      "model_module": "@jupyter-widgets/base",
      "model_module_version": "1.2.0",
      "model_name": "LayoutModel",
      "state": {}
     },
     "33dbfc108c884774a7c929b9545395df": {
      "model_module": "@jupyter-widgets/base",
      "model_module_version": "1.2.0",
      "model_name": "LayoutModel",
      "state": {}
     },
     "33dcf92d757d43329b0afe3d21c439b2": {
      "model_module": "@jupyter-widgets/controls",
      "model_module_version": "1.5.0",
      "model_name": "ButtonStyleModel",
      "state": {}
     },
     "3408270f99a6422bb25a1ee52fbb30c9": {
      "model_module": "@jupyter-widgets/controls",
      "model_module_version": "1.5.0",
      "model_name": "ButtonStyleModel",
      "state": {}
     },
     "34115f2ae0fd4a4cb9220efb4ce3a81f": {
      "model_module": "@jupyter-widgets/base",
      "model_module_version": "1.2.0",
      "model_name": "LayoutModel",
      "state": {}
     },
     "3426b93f62134eafaebeb9827659e8ad": {
      "model_module": "@jupyter-widgets/controls",
      "model_module_version": "1.5.0",
      "model_name": "SliderStyleModel",
      "state": {
       "description_width": ""
      }
     },
     "345601828b0149e3a76f3bce76066ead": {
      "model_module": "@jupyter-widgets/controls",
      "model_module_version": "1.5.0",
      "model_name": "VBoxModel",
      "state": {
       "children": [
        "IPY_MODEL_f29caf6265a04449a2c541ebfb5a566c"
       ],
       "layout": "IPY_MODEL_f853ad6cea8b44968aeeaba22a62e4a1"
      }
     },
     "3463e6a52367413ca0e2821e59d6c70b": {
      "model_module": "@jupyter-widgets/controls",
      "model_module_version": "1.5.0",
      "model_name": "SliderStyleModel",
      "state": {
       "description_width": ""
      }
     },
     "3474f7be2e704231a809d1d998596fdc": {
      "model_module": "@jupyter-widgets/base",
      "model_module_version": "1.2.0",
      "model_name": "LayoutModel",
      "state": {}
     },
     "34a291cfeea74ea58964c2534a96b96e": {
      "model_module": "jupyter-matplotlib",
      "model_module_version": "^0.7.2",
      "model_name": "ToolbarModel",
      "state": {
       "layout": "IPY_MODEL_4bc24c25396a4aa7a3824468932e38f2",
       "toolitems": [
        [
         "Home",
         "Reset original view",
         "home",
         "home"
        ],
        [
         "Back",
         "Back to previous view",
         "arrow-left",
         "back"
        ],
        [
         "Forward",
         "Forward to next view",
         "arrow-right",
         "forward"
        ],
        [
         "Pan",
         "Pan axes with left mouse, zoom with right",
         "arrows",
         "pan"
        ],
        [
         "Zoom",
         "Zoom to rectangle",
         "square-o",
         "zoom"
        ],
        [
         "Download",
         "Download plot",
         "floppy-o",
         "save_figure"
        ]
       ]
      }
     },
     "34b9a4845f3840218ebd48b57e24b58d": {
      "model_module": "@jupyter-widgets/controls",
      "model_module_version": "1.5.0",
      "model_name": "TabModel",
      "state": {
       "_titles": {
        "0": "Global Controls",
        "1": "Viewer Controls",
        "2": "Protected Area Controls",
        "3": "Saturation Controls",
        "4": "Hue Controls"
       },
       "children": [
        "IPY_MODEL_7e5b3726dd534d589bbf1ee1985c80d2",
        "IPY_MODEL_193bfefa8ae445539feb7d49620cfc72",
        "IPY_MODEL_51484440296d40188715d26a224bd90d",
        "IPY_MODEL_e85da4c5c4c84d61a6ac466fca5fcb85",
        "IPY_MODEL_eb167cb628e94a7ab7db2296eefaf573"
       ],
       "layout": "IPY_MODEL_14d561cbab974b5083174b3974033ce6"
      }
     },
     "34d777e0700149069eddd407b945b814": {
      "model_module": "@jupyter-widgets/controls",
      "model_module_version": "1.5.0",
      "model_name": "ButtonModel",
      "state": {
       "description": "Save Figure",
       "layout": "IPY_MODEL_0b4338c3dd2e43df868e9d85509b0aef",
       "style": "IPY_MODEL_5522fda796e74f71ba6ed1e8fd3ad681"
      }
     },
     "350f347a389442aaa4e4f4f781886bc3": {
      "model_module": "@jupyter-widgets/controls",
      "model_module_version": "1.5.0",
      "model_name": "HBoxModel",
      "state": {
       "children": [
        "IPY_MODEL_8a0bd3f1379c4392b1e2284f79e25aad",
        "IPY_MODEL_58c343ba92aa45ff953f5723fc168491",
        "IPY_MODEL_634c3458f2164fcdb2b3ca2ce116e79f"
       ],
       "layout": "IPY_MODEL_02ea979d50c743188b41719c21af0e57"
      }
     },
     "35211e2071c84f20ad812503b7d5d673": {
      "model_module": "@jupyter-widgets/base",
      "model_module_version": "1.2.0",
      "model_name": "LayoutModel",
      "state": {}
     },
     "3560df8308324978bc8a99a6eee1c1f9": {
      "model_module": "@jupyter-widgets/output",
      "model_module_version": "1.0.0",
      "model_name": "OutputModel",
      "state": {
       "layout": "IPY_MODEL_b527a6f9fe2b444fb9cf4c481fe4e72d",
       "outputs": [
        {
         "data": {
          "application/vnd.jupyter.widget-view+json": {
           "model_id": "7674fff100504193af84a1d832fc9ec5",
           "version_major": 2,
           "version_minor": 0
          },
          "text/plain": "Canvas(toolbar=Toolbar(toolitems=[('Home', 'Reset original view', 'home', 'home'), ('Back', 'Back to previous …"
         },
         "metadata": {},
         "output_type": "display_data"
        }
       ]
      }
     },
     "356ba97649a34f408721df9029f57088": {
      "model_module": "@jupyter-widgets/controls",
      "model_module_version": "1.5.0",
      "model_name": "HBoxModel",
      "state": {
       "children": [
        "IPY_MODEL_bd8beaf43ad24066941270c283303d45",
        "IPY_MODEL_7044c36e280a4ab7a4f8b0628f819ddb",
        "IPY_MODEL_979f8adc01544cc6bd82a0befa1bbdf9",
        "IPY_MODEL_4334840c1d814e36989023b0f005e5f9"
       ],
       "layout": "IPY_MODEL_2568fadb46374e30a0e93f6744263d71"
      }
     },
     "3596f86321364b70b4b9e7a3d16e36d2": {
      "model_module": "@jupyter-widgets/controls",
      "model_module_version": "1.5.0",
      "model_name": "HBoxModel",
      "state": {
       "children": [
        "IPY_MODEL_28abdfb3a57a4e53ad23d8d6ad7b87c3",
        "IPY_MODEL_e4209bbd5e7a43118d54eb4ccc78f329",
        "IPY_MODEL_0cb2a04cb1b2447e915be0e0bc9f9ea8"
       ],
       "layout": "IPY_MODEL_67a7511cc31b4fa49147ad56cb7a79d0"
      }
     },
     "35a76486d9334bf494a77edcc875cc10": {
      "model_module": "@jupyter-widgets/base",
      "model_module_version": "1.2.0",
      "model_name": "LayoutModel",
      "state": {}
     },
     "35ef39e6659845e09409ae46ce04418f": {
      "model_module": "@jupyter-widgets/base",
      "model_module_version": "1.2.0",
      "model_name": "LayoutModel",
      "state": {}
     },
     "36139771223b4699b12949961c1e4faf": {
      "model_module": "@jupyter-widgets/controls",
      "model_module_version": "1.5.0",
      "model_name": "ButtonModel",
      "state": {
       "description": "Reset Hue Controls",
       "layout": "IPY_MODEL_f4b4a0ed7e9a42388f7ec5da3dd3210b",
       "style": "IPY_MODEL_2a7eb4391ec94fbc8bbf13ec39f2ad40"
      }
     },
     "36399bb579ba4e09a4c87ff6a1094bbf": {
      "model_module": "@jupyter-widgets/controls",
      "model_module_version": "1.5.0",
      "model_name": "FloatSliderModel",
      "state": {
       "description": "Protected Area Threshold",
       "layout": "IPY_MODEL_3ed1a629a62d48d6b846a7896470cfd6",
       "max": 1,
       "step": 0.01,
       "style": "IPY_MODEL_bc942a5505e74180851e800830932c53",
       "value": 0.7
      }
     },
     "36686d2bcda746599e0f55e76f8f690c": {
      "model_module": "@jupyter-widgets/controls",
      "model_module_version": "1.5.0",
      "model_name": "CheckboxModel",
      "state": {
       "description": "Show Out-of-Gamut",
       "disabled": false,
       "layout": "IPY_MODEL_90ae3589a5104813acfe4d86a9960784",
       "style": "IPY_MODEL_30625c3f0d0a48848f8d37096b909255",
       "value": false
      }
     },
     "36727a24ff754395b1aec9e23fe9edab": {
      "model_module": "@jupyter-widgets/controls",
      "model_module_version": "1.5.0",
      "model_name": "VBoxModel",
      "state": {
       "children": [
        "IPY_MODEL_0296813155394f5588ac77aa6dd5a257",
        "IPY_MODEL_aa9153c8c7ed4252b498deb98ca23ddf"
       ],
       "layout": "IPY_MODEL_5d761b37603544128ccb6d5836193bac"
      }
     },
     "3675793c5861459c981d2dcf0728c614": {
      "model_module": "@jupyter-widgets/controls",
      "model_module_version": "1.5.0",
      "model_name": "FloatSliderModel",
      "state": {
       "description": "Exposure",
       "layout": "IPY_MODEL_49841b8b809a4c838603c170c906caf4",
       "max": 8,
       "min": -8,
       "step": 0.1,
       "style": "IPY_MODEL_c4742956e541416b8c093a963daee3ec"
      }
     },
     "368ad87e8bb940fbb252db2c0f6852e4": {
      "model_module": "jupyter-matplotlib",
      "model_module_version": "^0.7.2",
      "model_name": "ToolbarModel",
      "state": {
       "layout": "IPY_MODEL_ed379561ac804febbca48e88e0bdb0f2",
       "toolitems": [
        [
         "Home",
         "Reset original view",
         "home",
         "home"
        ],
        [
         "Back",
         "Back to previous view",
         "arrow-left",
         "back"
        ],
        [
         "Forward",
         "Forward to next view",
         "arrow-right",
         "forward"
        ],
        [
         "Pan",
         "Pan axes with left mouse, zoom with right",
         "arrows",
         "pan"
        ],
        [
         "Zoom",
         "Zoom to rectangle",
         "square-o",
         "zoom"
        ],
        [
         "Download",
         "Download plot",
         "floppy-o",
         "save_figure"
        ]
       ]
      }
     },
     "36a48f2bfe1e4f6b9b5f891409782e24": {
      "model_module": "@jupyter-widgets/controls",
      "model_module_version": "1.5.0",
      "model_name": "ButtonModel",
      "state": {
       "description": "Reset Protected Area",
       "layout": "IPY_MODEL_fc036055ea884f2ca72f9de1c33eb22e",
       "style": "IPY_MODEL_e4d21acbee264156bf40cac15637b37e"
      }
     },
     "36c21ad595864ebebfae92e06d77cd89": {
      "model_module": "@jupyter-widgets/controls",
      "model_module_version": "1.5.0",
      "model_name": "SliderStyleModel",
      "state": {
       "description_width": ""
      }
     },
     "3706519c0ee14d6f9f72a37504039c2f": {
      "model_module": "@jupyter-widgets/controls",
      "model_module_version": "1.5.0",
      "model_name": "SliderStyleModel",
      "state": {
       "description_width": ""
      }
     },
     "3735a304928e46349beee38dec81ad43": {
      "model_module": "@jupyter-widgets/base",
      "model_module_version": "1.2.0",
      "model_name": "LayoutModel",
      "state": {}
     },
     "37799b8389c242a68f46fc70dc80aa92": {
      "model_module": "jupyter-matplotlib",
      "model_module_version": "^0.7.2",
      "model_name": "ToolbarModel",
      "state": {
       "layout": "IPY_MODEL_99b65042d6384436b57399b4939c078e",
       "toolitems": [
        [
         "Home",
         "Reset original view",
         "home",
         "home"
        ],
        [
         "Back",
         "Back to previous view",
         "arrow-left",
         "back"
        ],
        [
         "Forward",
         "Forward to next view",
         "arrow-right",
         "forward"
        ],
        [
         "Pan",
         "Pan axes with left mouse, zoom with right",
         "arrows",
         "pan"
        ],
        [
         "Zoom",
         "Zoom to rectangle",
         "square-o",
         "zoom"
        ],
        [
         "Download",
         "Download plot",
         "floppy-o",
         "save_figure"
        ]
       ]
      }
     },
     "378238383fa4460bb946444a02fecc4f": {
      "model_module": "@jupyter-widgets/controls",
      "model_module_version": "1.5.0",
      "model_name": "FloatSliderModel",
      "state": {
       "description": "Exposure",
       "layout": "IPY_MODEL_866a3a1a7c7e4666876c8779d28fdb66",
       "max": 8,
       "min": -8,
       "step": 0.1,
       "style": "IPY_MODEL_b095812efffe483cbe051386fe339f79"
      }
     },
     "37c15614c8b246f6ae9ac545efbb4228": {
      "model_module": "@jupyter-widgets/base",
      "model_module_version": "1.2.0",
      "model_name": "LayoutModel",
      "state": {}
     },
     "37e1750792b848d1919d4f77708d8bca": {
      "model_module": "@jupyter-widgets/base",
      "model_module_version": "1.2.0",
      "model_name": "LayoutModel",
      "state": {}
     },
     "37effa02012e46c0ae3fc88f06c986f6": {
      "model_module": "@jupyter-widgets/controls",
      "model_module_version": "1.5.0",
      "model_name": "FloatSliderModel",
      "state": {
       "description": "315°",
       "layout": "IPY_MODEL_b100e14751464be5955fd7d24838e82b",
       "max": 1,
       "min": -1,
       "step": 0.01,
       "style": "IPY_MODEL_bc45026980b441b6b0080bdec60c7a80"
      }
     },
     "380913e775a7427f8777e02ddcda433b": {
      "model_module": "@jupyter-widgets/controls",
      "model_module_version": "1.5.0",
      "model_name": "ButtonStyleModel",
      "state": {}
     },
     "3831f411a97d47c38c1e02a37cad85b0": {
      "model_module": "@jupyter-widgets/base",
      "model_module_version": "1.2.0",
      "model_name": "LayoutModel",
      "state": {}
     },
     "38389907e9c2475980e896ed188bb3dd": {
      "model_module": "@jupyter-widgets/base",
      "model_module_version": "1.2.0",
      "model_name": "LayoutModel",
      "state": {}
     },
     "3844493626d9450c9c7007004f6eed03": {
      "model_module": "@jupyter-widgets/controls",
      "model_module_version": "1.5.0",
      "model_name": "TabModel",
      "state": {
       "_titles": {
        "0": "Global Controls",
        "1": "Viewer Controls",
        "2": "Compression Controls"
       },
       "children": [
        "IPY_MODEL_464dd235c9cc4b358d3077fd0cb74ac2",
        "IPY_MODEL_494747f25ec949059120daf03ada621a",
        "IPY_MODEL_ad7c27ef0cab4465b9df88d0c0631e58"
       ],
       "layout": "IPY_MODEL_5cf307f36258494da17d9c7b1540a516"
      }
     },
     "3868995f877a49dd95a3e7c6e496684b": {
      "model_module": "@jupyter-widgets/base",
      "model_module_version": "1.2.0",
      "model_name": "LayoutModel",
      "state": {}
     },
     "3889774f554349e7adfc81807521a2e3": {
      "model_module": "@jupyter-widgets/base",
      "model_module_version": "1.2.0",
      "model_name": "LayoutModel",
      "state": {}
     },
     "38a869e30a164a8290fba7f89239a004": {
      "model_module": "@jupyter-widgets/base",
      "model_module_version": "1.2.0",
      "model_name": "LayoutModel",
      "state": {}
     },
     "38aa019b07d24a52aadcb7ccf31f830a": {
      "model_module": "jupyter-matplotlib",
      "model_module_version": "^0.7.2",
      "model_name": "ToolbarModel",
      "state": {
       "layout": "IPY_MODEL_4747dee469d94cb28941202930b322dc",
       "toolitems": [
        [
         "Home",
         "Reset original view",
         "home",
         "home"
        ],
        [
         "Back",
         "Back to previous view",
         "arrow-left",
         "back"
        ],
        [
         "Forward",
         "Forward to next view",
         "arrow-right",
         "forward"
        ],
        [
         "Pan",
         "Pan axes with left mouse, zoom with right",
         "arrows",
         "pan"
        ],
        [
         "Zoom",
         "Zoom to rectangle",
         "square-o",
         "zoom"
        ],
        [
         "Download",
         "Download plot",
         "floppy-o",
         "save_figure"
        ]
       ]
      }
     },
     "38d606e0710549f7b40d819ba9ad9810": {
      "model_module": "jupyter-matplotlib",
      "model_module_version": "^0.7.2",
      "model_name": "MPLCanvasModel",
      "state": {
       "_figure_label": "Figure 13",
       "_height": 396,
       "_width": 1100,
       "header_visible": false,
       "layout": "IPY_MODEL_5646aa8f2c2b43cb98d1a7352040c256",
       "resizable": false,
       "toolbar": "IPY_MODEL_ec3b403402e34ec3b2f137e8b51bbc26",
       "toolbar_position": "left",
       "toolbar_visible": false
      }
     },
     "38dabaa41d7b44e2b834d87c21e61470": {
      "model_module": "@jupyter-widgets/base",
      "model_module_version": "1.2.0",
      "model_name": "LayoutModel",
      "state": {}
     },
     "38eb44aacfdd4f44aa4930aea2297c0a": {
      "model_module": "@jupyter-widgets/controls",
      "model_module_version": "1.5.0",
      "model_name": "FloatSliderModel",
      "state": {
       "description": "135°",
       "layout": "IPY_MODEL_25a6152baa7e4d36bb5499dfb6ec124d",
       "max": 1,
       "min": -1,
       "step": 0.01,
       "style": "IPY_MODEL_d94c7020552d492cb8e5ac7959b1cfbc"
      }
     },
     "390414e3ec134cd69840fbe74a0e9328": {
      "model_module": "@jupyter-widgets/base",
      "model_module_version": "1.2.0",
      "model_name": "LayoutModel",
      "state": {}
     },
     "3909b50a527b43aab7c0cd486709f992": {
      "model_module": "@jupyter-widgets/base",
      "model_module_version": "1.2.0",
      "model_name": "LayoutModel",
      "state": {}
     },
     "3945d584907a46199a681b6be00d34a1": {
      "model_module": "@jupyter-widgets/controls",
      "model_module_version": "1.5.0",
      "model_name": "SliderStyleModel",
      "state": {
       "description_width": ""
      }
     },
     "395b2c12c6814a99a160547d6033287f": {
      "model_module": "@jupyter-widgets/controls",
      "model_module_version": "1.5.0",
      "model_name": "BoxModel",
      "state": {
       "children": [
        "IPY_MODEL_297d618cd03a49f0a1ca03d6d47ec81c",
        "IPY_MODEL_afba2c1f59914c30ad0a1fd209f92eda"
       ],
       "layout": "IPY_MODEL_8271e98d66d844828b57a54286f33146"
      }
     },
     "396cad030cb44a30a5f373295d983d91": {
      "model_module": "@jupyter-widgets/output",
      "model_module_version": "1.0.0",
      "model_name": "OutputModel",
      "state": {
       "layout": "IPY_MODEL_81d075ada0f2495b8477d6597f40e6a9",
       "outputs": [
        {
         "data": {
          "application/vnd.jupyter.widget-view+json": {
           "model_id": "d998883fcef84673ace76f2c4cc07439",
           "version_major": 2,
           "version_minor": 0
          },
          "text/plain": "Canvas(toolbar=Toolbar(toolitems=[('Home', 'Reset original view', 'home', 'home'), ('Back', 'Back to previous …"
         },
         "metadata": {},
         "output_type": "display_data"
        }
       ]
      }
     },
     "399f918e13b74e1690780d480c8a45d6": {
      "model_module": "@jupyter-widgets/base",
      "model_module_version": "1.2.0",
      "model_name": "LayoutModel",
      "state": {}
     },
     "39c088ffb79243c39f139a6c7893eaf6": {
      "model_module": "@jupyter-widgets/base",
      "model_module_version": "1.2.0",
      "model_name": "LayoutModel",
      "state": {}
     },
     "39d672b8ffc74232a105cbab349fcbd8": {
      "model_module": "@jupyter-widgets/controls",
      "model_module_version": "1.5.0",
      "model_name": "ButtonModel",
      "state": {
       "description": "Reset Saturation Controls",
       "layout": "IPY_MODEL_a222145be0c747e49d364b9aeba6380c",
       "style": "IPY_MODEL_ba2f694999c94dd0be68fb31427d3e57"
      }
     },
     "39ef219108cb4e9d80b67c49870a82c9": {
      "model_module": "@jupyter-widgets/base",
      "model_module_version": "1.2.0",
      "model_name": "LayoutModel",
      "state": {}
     },
     "3a0d790f3b5342de89f947bdc4275aa6": {
      "model_module": "@jupyter-widgets/controls",
      "model_module_version": "1.5.0",
      "model_name": "BoxModel",
      "state": {
       "children": [
        "IPY_MODEL_684ecf03088b4b70bc473eabb9f4b88e",
        "IPY_MODEL_45fc0ac3104949d98261d984a85dc825"
       ],
       "layout": "IPY_MODEL_48dbed354c164ad4be2aeda0394785e0"
      }
     },
     "3a56abe3bf3f4d3db75fdba82b0e575a": {
      "model_module": "@jupyter-widgets/controls",
      "model_module_version": "1.5.0",
      "model_name": "TabModel",
      "state": {
       "_titles": {
        "0": "Global Controls",
        "1": "Viewer Controls",
        "2": "Compression Controls"
       },
       "children": [
        "IPY_MODEL_e57d32286d7c434084e808fcdd8e97c6",
        "IPY_MODEL_c8a6427c24ae4140a13a9e3cec60d40b",
        "IPY_MODEL_0165feb6046e4d359f5cfa3c14356e00"
       ],
       "layout": "IPY_MODEL_76d092f34f5246fc96f316cf26680318"
      }
     },
     "3a892822a33b4833a30640344a42de3b": {
      "model_module": "@jupyter-widgets/controls",
      "model_module_version": "1.5.0",
      "model_name": "FloatSliderModel",
      "state": {
       "description": "315°",
       "layout": "IPY_MODEL_9e0e10c079c645798776e0c8607e3f56",
       "max": 1,
       "min": -1,
       "step": 0.01,
       "style": "IPY_MODEL_46297f31ebd647b88ece7b6e7f722fee"
      }
     },
     "3a8cf377c6454343b0a9bc467bbe622c": {
      "model_module": "@jupyter-widgets/controls",
      "model_module_version": "1.5.0",
      "model_name": "FloatSliderModel",
      "state": {
       "description": "135°",
       "layout": "IPY_MODEL_e33a186b0f5d43319377ca5687ba996d",
       "max": 1,
       "min": -1,
       "step": 0.01,
       "style": "IPY_MODEL_89516c26508447159760b9b8f14f061e"
      }
     },
     "3aa9632e2333464e982498f4c18c424f": {
      "model_module": "@jupyter-widgets/output",
      "model_module_version": "1.0.0",
      "model_name": "OutputModel",
      "state": {
       "layout": "IPY_MODEL_83e29e4ab1f043f19694aa9292c2c42e",
       "outputs": [
        {
         "data": {
          "application/vnd.jupyter.widget-view+json": {
           "model_id": "53f859c58601400abaf413712ec61b44",
           "version_major": 2,
           "version_minor": 0
          },
          "text/plain": "Canvas(toolbar=Toolbar(toolitems=[('Home', 'Reset original view', 'home', 'home'), ('Back', 'Back to previous …"
         },
         "metadata": {},
         "output_type": "display_data"
        }
       ]
      }
     },
     "3b0c016c504e48acb887a2fb9341af6c": {
      "model_module": "jupyter-matplotlib",
      "model_module_version": "^0.7.2",
      "model_name": "ToolbarModel",
      "state": {
       "layout": "IPY_MODEL_e22599c7ce9e4af8ba84c201ebe369e4",
       "toolitems": [
        [
         "Home",
         "Reset original view",
         "home",
         "home"
        ],
        [
         "Back",
         "Back to previous view",
         "arrow-left",
         "back"
        ],
        [
         "Forward",
         "Forward to next view",
         "arrow-right",
         "forward"
        ],
        [
         "Pan",
         "Pan axes with left mouse, zoom with right",
         "arrows",
         "pan"
        ],
        [
         "Zoom",
         "Zoom to rectangle",
         "square-o",
         "zoom"
        ],
        [
         "Download",
         "Download plot",
         "floppy-o",
         "save_figure"
        ]
       ]
      }
     },
     "3b13f8795acf419ebe62414b4f212744": {
      "model_module": "@jupyter-widgets/controls",
      "model_module_version": "1.5.0",
      "model_name": "FloatSliderModel",
      "state": {
       "description": "270°",
       "layout": "IPY_MODEL_e93b00c24f2145b5a6754bf0a5885c2e",
       "max": 1,
       "min": -1,
       "step": 0.01,
       "style": "IPY_MODEL_9eacd5b260694a33a8e5499ff8b04efc"
      }
     },
     "3b9c177579164a00a3811b6f6639c6a9": {
      "model_module": "@jupyter-widgets/controls",
      "model_module_version": "1.5.0",
      "model_name": "FloatSliderModel",
      "state": {
       "description": "Exposure",
       "layout": "IPY_MODEL_954f030175424f52b6c278a84e7f711d",
       "max": 8,
       "min": -8,
       "step": 0.1,
       "style": "IPY_MODEL_bf3eeff541514e4e89b1ae3238f4d934"
      }
     },
     "3baed8c48f2c4dfea0a9a98b555d9ca8": {
      "model_module": "jupyter-matplotlib",
      "model_module_version": "^0.7.2",
      "model_name": "MPLCanvasModel",
      "state": {
       "_figure_label": "Figure 3",
       "_height": 396,
       "_width": 1100,
       "header_visible": false,
       "layout": "IPY_MODEL_062bb4f614c1404fbbeefce2b81f26cb",
       "resizable": false,
       "toolbar": "IPY_MODEL_13eac6e8417341e2bd0d3593beafda9f",
       "toolbar_position": "left",
       "toolbar_visible": false
      }
     },
     "3bc48127f4354b6d9fbc417d5b0912db": {
      "model_module": "@jupyter-widgets/controls",
      "model_module_version": "1.5.0",
      "model_name": "CheckboxModel",
      "state": {
       "description": "Show Out-of-Gamut",
       "disabled": false,
       "layout": "IPY_MODEL_19049ffe91e74d41b207c32be9da2800",
       "style": "IPY_MODEL_16f63aa77b2f4573b4e3fb57cdd692e8",
       "value": false
      }
     },
     "3bd28272541141128cbf72978ec153ab": {
      "model_module": "@jupyter-widgets/base",
      "model_module_version": "1.2.0",
      "model_name": "LayoutModel",
      "state": {}
     },
     "3bf28b1e9dbf4f5e8b108170ded0c74d": {
      "model_module": "@jupyter-widgets/base",
      "model_module_version": "1.2.0",
      "model_name": "LayoutModel",
      "state": {}
     },
     "3bfa524e8d794a209fbc697bbd53933a": {
      "model_module": "@jupyter-widgets/controls",
      "model_module_version": "1.5.0",
      "model_name": "HBoxModel",
      "state": {
       "children": [
        "IPY_MODEL_bb2a5d2f4ae34aee80aead19e5fcb644",
        "IPY_MODEL_535b0ecec7e0489196c82b8b9445a662",
        "IPY_MODEL_16271ff457b442a098ef633e5b72f828",
        "IPY_MODEL_6a6e2a899d724188aff02609daa4e9a3"
       ],
       "layout": "IPY_MODEL_78c52ad995c84f41a25c777fe25d31d5"
      }
     },
     "3c4da4880b3d429dbfe171c0ad2a4a3f": {
      "model_module": "@jupyter-widgets/controls",
      "model_module_version": "1.5.0",
      "model_name": "FloatSliderModel",
      "state": {
       "description": "Exposure",
       "layout": "IPY_MODEL_e2a67db7fe23426fa0408b7137027c67",
       "max": 8,
       "min": -8,
       "step": 0.1,
       "style": "IPY_MODEL_55259669c8cf492ea21b00e057958554"
      }
     },
     "3c6c0206798343b7b21a13dce6e38ec6": {
      "model_module": "@jupyter-widgets/controls",
      "model_module_version": "1.5.0",
      "model_name": "FloatSliderModel",
      "state": {
       "description": "180°",
       "layout": "IPY_MODEL_a265abca54ed455b9be5d17cbdd913cc",
       "max": 1,
       "min": -1,
       "step": 0.01,
       "style": "IPY_MODEL_f5ca7d54aef2448dbb4c7580190ceada"
      }
     },
     "3c6c21bfe727452bba5f50a6a2bbefa5": {
      "model_module": "@jupyter-widgets/base",
      "model_module_version": "1.2.0",
      "model_name": "LayoutModel",
      "state": {}
     },
     "3ca633338401408dbd40524e54d9601c": {
      "model_module": "@jupyter-widgets/base",
      "model_module_version": "1.2.0",
      "model_name": "LayoutModel",
      "state": {}
     },
     "3cbaefa925c9469ead79c68930275b5b": {
      "model_module": "@jupyter-widgets/base",
      "model_module_version": "1.2.0",
      "model_name": "LayoutModel",
      "state": {
       "border": "solid 4px #222",
       "margin": "4px",
       "padding": "0"
      }
     },
     "3cdd594502644d5cb265c2be122630fc": {
      "model_module": "@jupyter-widgets/base",
      "model_module_version": "1.2.0",
      "model_name": "LayoutModel",
      "state": {}
     },
     "3cf5fbd46b604abaa0facf80bb301684": {
      "model_module": "@jupyter-widgets/base",
      "model_module_version": "1.2.0",
      "model_name": "LayoutModel",
      "state": {}
     },
     "3d1aa9540bef4859bcb9e070930feccd": {
      "model_module": "@jupyter-widgets/controls",
      "model_module_version": "1.5.0",
      "model_name": "FloatSliderModel",
      "state": {
       "description": "315°",
       "layout": "IPY_MODEL_ac865cb897ef4c5a95b9f648764f1923",
       "max": 1,
       "min": -1,
       "step": 0.01,
       "style": "IPY_MODEL_10c12705842741a9ba1032a230413b3b"
      }
     },
     "3da538727b3f412eb88ff723dfd7740e": {
      "model_module": "@jupyter-widgets/controls",
      "model_module_version": "1.5.0",
      "model_name": "ButtonModel",
      "state": {
       "description": "Save Figure",
       "layout": "IPY_MODEL_4fd864c45e4843a98aa1f89d83af73b5",
       "style": "IPY_MODEL_ab3a217c4b2e49c6997708c398a14f9f"
      }
     },
     "3daa2b475ae1473692a342cd8b72a576": {
      "model_module": "@jupyter-widgets/controls",
      "model_module_version": "1.5.0",
      "model_name": "SliderStyleModel",
      "state": {
       "description_width": ""
      }
     },
     "3dae6bb7e2d048368095135661ecbb43": {
      "model_module": "@jupyter-widgets/controls",
      "model_module_version": "1.5.0",
      "model_name": "SliderStyleModel",
      "state": {
       "description_width": ""
      }
     },
     "3dc33d46081548c89643bb6b24b9b0ce": {
      "model_module": "@jupyter-widgets/base",
      "model_module_version": "1.2.0",
      "model_name": "LayoutModel",
      "state": {}
     },
     "3de0bf597b114990996aed3f65a75788": {
      "model_module": "jupyter-matplotlib",
      "model_module_version": "^0.7.2",
      "model_name": "MPLCanvasModel",
      "state": {
       "_figure_label": "Figure 12",
       "_height": 396,
       "_width": 1100,
       "header_visible": false,
       "layout": "IPY_MODEL_266fa3f8129949c5a15806e0b705b946",
       "resizable": false,
       "toolbar": "IPY_MODEL_eb3d0500d86b44efa0239fb22e1ca026",
       "toolbar_position": "left",
       "toolbar_visible": false
      }
     },
     "3de4de0899dc49b5b777ad5f5b3bd4e4": {
      "model_module": "jupyter-matplotlib",
      "model_module_version": "^0.7.2",
      "model_name": "ToolbarModel",
      "state": {
       "layout": "IPY_MODEL_d5da0e98dd6d4095b9099c50749a7936",
       "toolitems": [
        [
         "Home",
         "Reset original view",
         "home",
         "home"
        ],
        [
         "Back",
         "Back to previous view",
         "arrow-left",
         "back"
        ],
        [
         "Forward",
         "Forward to next view",
         "arrow-right",
         "forward"
        ],
        [
         "Pan",
         "Pan axes with left mouse, zoom with right",
         "arrows",
         "pan"
        ],
        [
         "Zoom",
         "Zoom to rectangle",
         "square-o",
         "zoom"
        ],
        [
         "Download",
         "Download plot",
         "floppy-o",
         "save_figure"
        ]
       ]
      }
     },
     "3e19dc6791884b99903a42aa3f372fd5": {
      "model_module": "@jupyter-widgets/base",
      "model_module_version": "1.2.0",
      "model_name": "LayoutModel",
      "state": {}
     },
     "3e7b1af8c0334127add1738675c511e6": {
      "model_module": "@jupyter-widgets/base",
      "model_module_version": "1.2.0",
      "model_name": "LayoutModel",
      "state": {}
     },
     "3e8390e62928407f88507e73ce2a340c": {
      "model_module": "@jupyter-widgets/base",
      "model_module_version": "1.2.0",
      "model_name": "LayoutModel",
      "state": {}
     },
     "3ea973d02d234262aa9dfa2511b03452": {
      "model_module": "@jupyter-widgets/controls",
      "model_module_version": "1.5.0",
      "model_name": "DropdownModel",
      "state": {
       "_options_labels": [
        "tanh",
        "atan",
        "simple"
       ],
       "description": "Compression Function:",
       "index": 0,
       "layout": "IPY_MODEL_84bfc015ed6042af87427160442240cf",
       "style": "IPY_MODEL_4c29555e4b7f4bcc8a8037883bca521e"
      }
     },
     "3ed1a629a62d48d6b846a7896470cfd6": {
      "model_module": "@jupyter-widgets/base",
      "model_module_version": "1.2.0",
      "model_name": "LayoutModel",
      "state": {}
     },
     "3ede012a5f37457eb1e2aa6c897811fb": {
      "model_module": "@jupyter-widgets/base",
      "model_module_version": "1.2.0",
      "model_name": "LayoutModel",
      "state": {}
     },
     "3ef9d1f4fd954a41b2df71ec41acaf40": {
      "model_module": "@jupyter-widgets/base",
      "model_module_version": "1.2.0",
      "model_name": "LayoutModel",
      "state": {}
     },
     "3f0cf6865ee44ff4bed6283085559ca2": {
      "model_module": "@jupyter-widgets/controls",
      "model_module_version": "1.5.0",
      "model_name": "DropdownModel",
      "state": {
       "_options_labels": [
        "tanh",
        "atan",
        "simple"
       ],
       "description": "Compression Function:",
       "index": 0,
       "layout": "IPY_MODEL_e52bada04ee6438e9ac3ece681d86cfa",
       "style": "IPY_MODEL_07d4921581ce4a13b328677e827a5315"
      }
     },
     "3f1d2725dd2e47b2906a61158ff75054": {
      "model_module": "jupyter-matplotlib",
      "model_module_version": "^0.7.2",
      "model_name": "ToolbarModel",
      "state": {
       "layout": "IPY_MODEL_59f9f21b20984283a62a5b1aa16b617a",
       "toolitems": [
        [
         "Home",
         "Reset original view",
         "home",
         "home"
        ],
        [
         "Back",
         "Back to previous view",
         "arrow-left",
         "back"
        ],
        [
         "Forward",
         "Forward to next view",
         "arrow-right",
         "forward"
        ],
        [
         "Pan",
         "Pan axes with left mouse, zoom with right",
         "arrows",
         "pan"
        ],
        [
         "Zoom",
         "Zoom to rectangle",
         "square-o",
         "zoom"
        ],
        [
         "Download",
         "Download plot",
         "floppy-o",
         "save_figure"
        ]
       ]
      }
     },
     "3f288affa4a747708308dec00abf79f3": {
      "model_module": "@jupyter-widgets/controls",
      "model_module_version": "1.5.0",
      "model_name": "SliderStyleModel",
      "state": {
       "description_width": ""
      }
     },
     "3f2eb551730243a0994e036f57d489f2": {
      "model_module": "@jupyter-widgets/base",
      "model_module_version": "1.2.0",
      "model_name": "LayoutModel",
      "state": {}
     },
     "3f6d371f448b45a8940fc36c8d92adb0": {
      "model_module": "@jupyter-widgets/controls",
      "model_module_version": "1.5.0",
      "model_name": "FloatSliderModel",
      "state": {
       "description": "Exposure",
       "layout": "IPY_MODEL_81d8e17d93b64025bf609ac4ba5dd8b8",
       "max": 8,
       "min": -8,
       "step": 0.1,
       "style": "IPY_MODEL_9296595a9e6f4ca6a5f034f7e0cd1c82"
      }
     },
     "3f7403cac05f45e49fe70c6375d551e6": {
      "model_module": "@jupyter-widgets/base",
      "model_module_version": "1.2.0",
      "model_name": "LayoutModel",
      "state": {}
     },
     "3f7674f9c8774036ae9e40029e45c340": {
      "model_module": "@jupyter-widgets/controls",
      "model_module_version": "1.5.0",
      "model_name": "ButtonModel",
      "state": {
       "description": "Reset Exposure",
       "layout": "IPY_MODEL_210d9e771aae45988f70a657a8cf07e1",
       "style": "IPY_MODEL_42f71c3ef3d3419ca71754feef8db808"
      }
     },
     "3fbf346672164b0784360b79fdb0f6a8": {
      "model_module": "@jupyter-widgets/controls",
      "model_module_version": "1.5.0",
      "model_name": "SliderStyleModel",
      "state": {
       "description_width": ""
      }
     },
     "3ff5cd50dd7f4886a3da8a7cb2838ab2": {
      "model_module": "@jupyter-widgets/base",
      "model_module_version": "1.2.0",
      "model_name": "LayoutModel",
      "state": {}
     },
     "4040f1af26d440c89341424f6ea1d0e0": {
      "model_module": "@jupyter-widgets/controls",
      "model_module_version": "1.5.0",
      "model_name": "CheckboxModel",
      "state": {
       "description": "Disable Medicina",
       "disabled": false,
       "layout": "IPY_MODEL_dddc2d6d68044a0cb106294b65bdcdb8",
       "style": "IPY_MODEL_9e9630e7707f421080eccf479529ede3",
       "value": false
      }
     },
     "4044c066cecd4e54b4aae1bbc0dc81d5": {
      "model_module": "@jupyter-widgets/controls",
      "model_module_version": "1.5.0",
      "model_name": "ButtonModel",
      "state": {
       "description": "Reset Compression Controls",
       "layout": "IPY_MODEL_c5c35886a4c64677b18689aed4395f36",
       "style": "IPY_MODEL_846630cf65fa44658f22b4623de1d2b5"
      }
     },
     "40588893f672464685e9dc3fb4ea65b4": {
      "model_module": "@jupyter-widgets/controls",
      "model_module_version": "1.5.0",
      "model_name": "SliderStyleModel",
      "state": {
       "description_width": ""
      }
     },
     "40a9a58e3f9b49199d02576c358a6aad": {
      "model_module": "@jupyter-widgets/base",
      "model_module_version": "1.2.0",
      "model_name": "LayoutModel",
      "state": {}
     },
     "40be6e28b346412cbc6f73766eba1a98": {
      "model_module": "@jupyter-widgets/base",
      "model_module_version": "1.2.0",
      "model_name": "LayoutModel",
      "state": {
       "border": "solid 4px #222",
       "margin": "4px",
       "padding": "0"
      }
     },
     "40c7872b0d724c5fbacfc22d46c08073": {
      "model_module": "@jupyter-widgets/base",
      "model_module_version": "1.2.0",
      "model_name": "LayoutModel",
      "state": {
       "border": "solid 4px #222",
       "margin": "4px",
       "padding": "0"
      }
     },
     "413777797d7145809b3ab60afbdd91d1": {
      "model_module": "@jupyter-widgets/base",
      "model_module_version": "1.2.0",
      "model_name": "LayoutModel",
      "state": {}
     },
     "415170e0fb954a20a573d683ebf3201d": {
      "model_module": "@jupyter-widgets/base",
      "model_module_version": "1.2.0",
      "model_name": "LayoutModel",
      "state": {}
     },
     "415a7d731c1b49b3b6a17d179f61f205": {
      "model_module": "@jupyter-widgets/controls",
      "model_module_version": "1.5.0",
      "model_name": "ButtonModel",
      "state": {
       "description": "Reset Compression Controls",
       "layout": "IPY_MODEL_8b97f014671043c98f7a82bb1c95ebd9",
       "style": "IPY_MODEL_d35d566107c94c77ae53ed0aee69f63e"
      }
     },
     "416b1ba7b9f14461b92f572552aac525": {
      "model_module": "@jupyter-widgets/base",
      "model_module_version": "1.2.0",
      "model_name": "LayoutModel",
      "state": {
       "border": "solid 4px #222",
       "margin": "4px",
       "padding": "0"
      }
     },
     "4189d719ea6a45a59c0dd9cf550e62b8": {
      "model_module": "@jupyter-widgets/base",
      "model_module_version": "1.2.0",
      "model_name": "LayoutModel",
      "state": {}
     },
     "4190fc3f14854101ba214718f3231cb8": {
      "model_module": "@jupyter-widgets/output",
      "model_module_version": "1.0.0",
      "model_name": "OutputModel",
      "state": {
       "layout": "IPY_MODEL_5257dede667949628f4a2340b061b68f",
       "outputs": [
        {
         "data": {
          "application/vnd.jupyter.widget-view+json": {
           "model_id": "29c44558fd204e41b2e17f47465d98a3",
           "version_major": 2,
           "version_minor": 0
          },
          "text/plain": "Canvas(toolbar=Toolbar(toolitems=[('Home', 'Reset original view', 'home', 'home'), ('Back', 'Back to previous …"
         },
         "metadata": {},
         "output_type": "display_data"
        }
       ]
      }
     },
     "41a178eb85a3475cbf95e3074341b313": {
      "model_module": "@jupyter-widgets/base",
      "model_module_version": "1.2.0",
      "model_name": "LayoutModel",
      "state": {}
     },
     "41a84825c4f64e1d9f06d0a7bc30b422": {
      "model_module": "@jupyter-widgets/base",
      "model_module_version": "1.2.0",
      "model_name": "LayoutModel",
      "state": {}
     },
     "42504bc5593b4e0b8a657c7f961c1a00": {
      "model_module": "@jupyter-widgets/controls",
      "model_module_version": "1.5.0",
      "model_name": "ButtonStyleModel",
      "state": {}
     },
     "429d8bdad5af4c6496b9a2b0b35aad1b": {
      "model_module": "@jupyter-widgets/base",
      "model_module_version": "1.2.0",
      "model_name": "LayoutModel",
      "state": {
       "border": "solid 4px #222",
       "margin": "4px",
       "padding": "0"
      }
     },
     "42a9553a29174836bd4bb808d8689524": {
      "model_module": "@jupyter-widgets/controls",
      "model_module_version": "1.5.0",
      "model_name": "ButtonModel",
      "state": {
       "description": "Reset Saturation Controls",
       "layout": "IPY_MODEL_c25965f888964b129006089736d4d0f0",
       "style": "IPY_MODEL_d29abe37c9d146729d64327e01879ac6"
      }
     },
     "42ca3fbfebe2403aa1512e1a630d5758": {
      "model_module": "@jupyter-widgets/base",
      "model_module_version": "1.2.0",
      "model_name": "LayoutModel",
      "state": {}
     },
     "42e454a5fe544c44bb26ceec82d48720": {
      "model_module": "@jupyter-widgets/controls",
      "model_module_version": "1.5.0",
      "model_name": "ButtonModel",
      "state": {
       "description": "Export Image",
       "layout": "IPY_MODEL_ff99ef6cd32f4c27b8f2134ffa0ba37a",
       "style": "IPY_MODEL_e22fed25fbbf4f87b416587a4a50a60c"
      }
     },
     "42f71c3ef3d3419ca71754feef8db808": {
      "model_module": "@jupyter-widgets/controls",
      "model_module_version": "1.5.0",
      "model_name": "ButtonStyleModel",
      "state": {}
     },
     "4334840c1d814e36989023b0f005e5f9": {
      "model_module": "@jupyter-widgets/controls",
      "model_module_version": "1.5.0",
      "model_name": "VBoxModel",
      "state": {
       "children": [
        "IPY_MODEL_b234310ea1f24999aef3c56d6804871d",
        "IPY_MODEL_f5b7671a560a4e9dab2107d269eea30e"
       ],
       "layout": "IPY_MODEL_6eb8fc6fa111494dabb51e4e6abc4198"
      }
     },
     "4358b3841cc7456b8c323ea2b6d35901": {
      "model_module": "jupyter-matplotlib",
      "model_module_version": "^0.7.2",
      "model_name": "ToolbarModel",
      "state": {
       "layout": "IPY_MODEL_02457256d0dd41f1ad8dc8289e1d0024",
       "toolitems": [
        [
         "Home",
         "Reset original view",
         "home",
         "home"
        ],
        [
         "Back",
         "Back to previous view",
         "arrow-left",
         "back"
        ],
        [
         "Forward",
         "Forward to next view",
         "arrow-right",
         "forward"
        ],
        [
         "Pan",
         "Pan axes with left mouse, zoom with right",
         "arrows",
         "pan"
        ],
        [
         "Zoom",
         "Zoom to rectangle",
         "square-o",
         "zoom"
        ],
        [
         "Download",
         "Download plot",
         "floppy-o",
         "save_figure"
        ]
       ]
      }
     },
     "43927616b1944a69b120b2d28f1d39f0": {
      "model_module": "@jupyter-widgets/controls",
      "model_module_version": "1.5.0",
      "model_name": "BoxModel",
      "state": {
       "children": [
        "IPY_MODEL_e84b07c5b5e94b199659298e2f5a5a61",
        "IPY_MODEL_724af167e72841919613ee2067401404"
       ],
       "layout": "IPY_MODEL_e54105d183f74e4f86f3c7864213e1bf"
      }
     },
     "43e03d80266a40a884f18e444256416c": {
      "model_module": "@jupyter-widgets/controls",
      "model_module_version": "1.5.0",
      "model_name": "ButtonStyleModel",
      "state": {}
     },
     "444287fb5d6c4bff96d47509d9cf8895": {
      "model_module": "@jupyter-widgets/controls",
      "model_module_version": "1.5.0",
      "model_name": "ButtonModel",
      "state": {
       "description": "Reset Hue Controls",
       "layout": "IPY_MODEL_eefca8efb01f4475b379e54ae05ec5d3",
       "style": "IPY_MODEL_8841bcbf3a5144b4bbeb608abcbc8458"
      }
     },
     "44684356f7884e1082f503b38698d63b": {
      "model_module": "@jupyter-widgets/controls",
      "model_module_version": "1.5.0",
      "model_name": "HBoxModel",
      "state": {
       "children": [
        "IPY_MODEL_f93dd22110274f74a89458ca2d5f180d",
        "IPY_MODEL_01a4be9f7f3c4a26bd703c7addd3c357",
        "IPY_MODEL_929e040eaa284df4a51bc8ad22709102",
        "IPY_MODEL_0c9089a6319043e695ba987f36fffc9e"
       ],
       "layout": "IPY_MODEL_8f53605dc82d46c89e4ea335ab7dbcfb"
      }
     },
     "447d573f9c624ce9a16deaf2ab110ccd": {
      "model_module": "@jupyter-widgets/controls",
      "model_module_version": "1.5.0",
      "model_name": "ButtonModel",
      "state": {
       "description": "Save Figure",
       "layout": "IPY_MODEL_fd5ae10baaf7422da9e05378a0a45424",
       "style": "IPY_MODEL_4d237981668b4f82bcd4f62a56daa57f"
      }
     },
     "448a7d6a265040e29e83ad9b3c745fb2": {
      "model_module": "@jupyter-widgets/controls",
      "model_module_version": "1.5.0",
      "model_name": "SliderStyleModel",
      "state": {
       "description_width": ""
      }
     },
     "44d9d4e46b9841579b6dd4f5ce1a1d1d": {
      "model_module": "@jupyter-widgets/base",
      "model_module_version": "1.2.0",
      "model_name": "LayoutModel",
      "state": {}
     },
     "44eb3e2cea5c4967b00dd9cf0874eba9": {
      "model_module": "@jupyter-widgets/controls",
      "model_module_version": "1.5.0",
      "model_name": "ButtonStyleModel",
      "state": {}
     },
     "44f2d656519c4a23ad4486346af92270": {
      "model_module": "@jupyter-widgets/controls",
      "model_module_version": "1.5.0",
      "model_name": "CheckboxModel",
      "state": {
       "description": "Show Out-of-Gamut",
       "disabled": false,
       "layout": "IPY_MODEL_3831f411a97d47c38c1e02a37cad85b0",
       "style": "IPY_MODEL_be6bd6b36c2c4507a02880b0ed0736aa",
       "value": false
      }
     },
     "4524694402f74382ae8ac0debe936e97": {
      "model_module": "@jupyter-widgets/controls",
      "model_module_version": "1.5.0",
      "model_name": "SliderStyleModel",
      "state": {
       "description_width": ""
      }
     },
     "4543bb774dd840a4bc223471bb1ccac9": {
      "model_module": "@jupyter-widgets/controls",
      "model_module_version": "1.5.0",
      "model_name": "VBoxModel",
      "state": {
       "children": [
        "IPY_MODEL_d8aadb341ecb46279f1877e7658c1700",
        "IPY_MODEL_37effa02012e46c0ae3fc88f06c986f6"
       ],
       "layout": "IPY_MODEL_0fc4b1dbd2084dd88bfc63c76b8ca3a6"
      }
     },
     "455e3813123d429a83ca357ea394e37f": {
      "model_module": "@jupyter-widgets/base",
      "model_module_version": "1.2.0",
      "model_name": "LayoutModel",
      "state": {}
     },
     "459387efcda5417a9d866d4a437bcbce": {
      "model_module": "@jupyter-widgets/base",
      "model_module_version": "1.2.0",
      "model_name": "LayoutModel",
      "state": {
       "border": "solid 4px #222",
       "margin": "4px",
       "padding": "0"
      }
     },
     "459e03ddae4d447b833bcdce14d3195e": {
      "model_module": "@jupyter-widgets/controls",
      "model_module_version": "1.5.0",
      "model_name": "FloatSliderModel",
      "state": {
       "description": "Exposure",
       "layout": "IPY_MODEL_5d55f7187d0641178731da9d44982cc9",
       "max": 8,
       "min": -8,
       "step": 0.1,
       "style": "IPY_MODEL_18d967c9503f46a583db6ce12bc6c1e3"
      }
     },
     "45d6153b0c4e4c40ace6851e9a233a33": {
      "model_module": "@jupyter-widgets/base",
      "model_module_version": "1.2.0",
      "model_name": "LayoutModel",
      "state": {
       "border": "solid 4px #222",
       "margin": "4px",
       "padding": "0"
      }
     },
     "45eab4772125460283a8c675f159fa35": {
      "model_module": "@jupyter-widgets/controls",
      "model_module_version": "1.5.0",
      "model_name": "FloatSliderModel",
      "state": {
       "description": "Exposure",
       "layout": "IPY_MODEL_2dd22797a16b414482bfd95dc53f29d3",
       "max": 8,
       "min": -8,
       "step": 0.1,
       "style": "IPY_MODEL_9be839456900482b90c5eed62125be2b"
      }
     },
     "45f4172432c1441fa9e557c917b11a34": {
      "model_module": "@jupyter-widgets/base",
      "model_module_version": "1.2.0",
      "model_name": "LayoutModel",
      "state": {}
     },
     "45fc0ac3104949d98261d984a85dc825": {
      "model_module": "@jupyter-widgets/controls",
      "model_module_version": "1.5.0",
      "model_name": "TabModel",
      "state": {
       "_titles": {
        "0": "Global Controls",
        "1": "Viewer Controls"
       },
       "children": [
        "IPY_MODEL_07233da44b044c388ca270fdc122fa9f",
        "IPY_MODEL_19ffdbbc2768453a994ab2ef91f9c25b"
       ],
       "layout": "IPY_MODEL_90d6d0e9b8614909ac519fd0202f0c17"
      }
     },
     "46297f31ebd647b88ece7b6e7f722fee": {
      "model_module": "@jupyter-widgets/controls",
      "model_module_version": "1.5.0",
      "model_name": "SliderStyleModel",
      "state": {
       "description_width": ""
      }
     },
     "463bb3430bd44513b105c961c5788dcd": {
      "model_module": "@jupyter-widgets/controls",
      "model_module_version": "1.5.0",
      "model_name": "DescriptionStyleModel",
      "state": {
       "description_width": ""
      }
     },
     "464dd235c9cc4b358d3077fd0cb74ac2": {
      "model_module": "@jupyter-widgets/controls",
      "model_module_version": "1.5.0",
      "model_name": "HBoxModel",
      "state": {
       "children": [
        "IPY_MODEL_ce15faa8740a441cb66af497275884f7",
        "IPY_MODEL_80d06e44fe724513b638d8be9e53b69b",
        "IPY_MODEL_8cb60e458adf439ab378a50429fbed6a"
       ],
       "layout": "IPY_MODEL_59e3a197e9c44cdb84229db877e85194"
      }
     },
     "46a10895cc5f4b3f8f925e3125f9674c": {
      "model_module": "@jupyter-widgets/controls",
      "model_module_version": "1.5.0",
      "model_name": "ButtonStyleModel",
      "state": {}
     },
     "46a59b5b0fde4a1c9fe1568058cc4e32": {
      "model_module": "@jupyter-widgets/base",
      "model_module_version": "1.2.0",
      "model_name": "LayoutModel",
      "state": {}
     },
     "46aa9f2473b94e729b486b99513fa0e5": {
      "model_module": "@jupyter-widgets/base",
      "model_module_version": "1.2.0",
      "model_name": "LayoutModel",
      "state": {}
     },
     "46f13d37f5ae4797bc1b5ff9cfba01b8": {
      "model_module": "jupyter-matplotlib",
      "model_module_version": "^0.7.2",
      "model_name": "MPLCanvasModel",
      "state": {
       "_figure_label": "Figure 14",
       "_height": 440,
       "_width": 1100,
       "header_visible": false,
       "layout": "IPY_MODEL_c9c09153bd9f42e1a949837c2ccc3401",
       "resizable": false,
       "toolbar": "IPY_MODEL_37799b8389c242a68f46fc70dc80aa92",
       "toolbar_position": "left",
       "toolbar_visible": false
      }
     },
     "46f4d01d9f1f4e2284d28f05304a5ab4": {
      "model_module": "@jupyter-widgets/base",
      "model_module_version": "1.2.0",
      "model_name": "LayoutModel",
      "state": {}
     },
     "4712918a92d04d4c8a7d80c74c90d964": {
      "model_module": "@jupyter-widgets/controls",
      "model_module_version": "1.5.0",
      "model_name": "ButtonModel",
      "state": {
       "description": "Save Figure",
       "layout": "IPY_MODEL_97aa3e33810a400f86e81dfab95efc98",
       "style": "IPY_MODEL_e7e73f0e990347378c1006e5ebab05e1"
      }
     },
     "4723bdfd00e340deb85e4327c2f8a3d8": {
      "model_module": "@jupyter-widgets/controls",
      "model_module_version": "1.5.0",
      "model_name": "FloatSliderModel",
      "state": {
       "description": "90°",
       "layout": "IPY_MODEL_d1aae990b16640ac909bf13b69b2c7f2",
       "max": 1,
       "min": -1,
       "step": 0.01,
       "style": "IPY_MODEL_cd54ff306e4244bf86a86b3dba282cca"
      }
     },
     "4747dee469d94cb28941202930b322dc": {
      "model_module": "@jupyter-widgets/base",
      "model_module_version": "1.2.0",
      "model_name": "LayoutModel",
      "state": {}
     },
     "47731d6c52214947bf18c50d642826f3": {
      "model_module": "@jupyter-widgets/base",
      "model_module_version": "1.2.0",
      "model_name": "LayoutModel",
      "state": {}
     },
     "477d83f3d92f4988850c1f0795012843": {
      "model_module": "@jupyter-widgets/controls",
      "model_module_version": "1.5.0",
      "model_name": "ButtonModel",
      "state": {
       "description": "Reset Hue Controls",
       "layout": "IPY_MODEL_47731d6c52214947bf18c50d642826f3",
       "style": "IPY_MODEL_171163fa6c0842eeaf88d684f9cfebf4"
      }
     },
     "4788976fd6854e90b9bcedfb940e25d7": {
      "model_module": "@jupyter-widgets/base",
      "model_module_version": "1.2.0",
      "model_name": "LayoutModel",
      "state": {}
     },
     "478a8dd3d3d64c5b8ab65731510be842": {
      "model_module": "jupyter-matplotlib",
      "model_module_version": "^0.7.2",
      "model_name": "MPLCanvasModel",
      "state": {
       "_figure_label": "Figure 4",
       "_height": 618,
       "_width": 1099,
       "header_visible": false,
       "layout": "IPY_MODEL_3889774f554349e7adfc81807521a2e3",
       "resizable": false,
       "toolbar": "IPY_MODEL_a0aaa104d99f458b93078df8004882fd",
       "toolbar_position": "left",
       "toolbar_visible": false
      }
     },
     "479796be60bc47a591c1b01249378251": {
      "model_module": "@jupyter-widgets/controls",
      "model_module_version": "1.5.0",
      "model_name": "FloatSliderModel",
      "state": {
       "description": "Exposure",
       "layout": "IPY_MODEL_1ff3907921f24eb196b6d2223de4e9d9",
       "max": 8,
       "min": -8,
       "step": 0.1,
       "style": "IPY_MODEL_72545c23e12b4a4caa1f2efae4254c3b"
      }
     },
     "48395b13b57c45fdaefe2c4bd4263d9f": {
      "model_module": "@jupyter-widgets/controls",
      "model_module_version": "1.5.0",
      "model_name": "FloatSliderModel",
      "state": {
       "description": "Exposure",
       "layout": "IPY_MODEL_b51ad5f673594c5988250d6991e98f42",
       "max": 8,
       "min": -8,
       "step": 0.1,
       "style": "IPY_MODEL_2771f70d89324330af91fb3cde770ead"
      }
     },
     "4841d58f607045dfa6681fe5a7276ef5": {
      "model_module": "@jupyter-widgets/controls",
      "model_module_version": "1.5.0",
      "model_name": "ButtonStyleModel",
      "state": {}
     },
     "484c9b5e7c8b4f8aacc4ba4dcee9bf6e": {
      "model_module": "@jupyter-widgets/controls",
      "model_module_version": "1.5.0",
      "model_name": "VBoxModel",
      "state": {
       "children": [
        "IPY_MODEL_19ed0e7d60334c2f881516b267f82ece",
        "IPY_MODEL_3c6c0206798343b7b21a13dce6e38ec6",
        "IPY_MODEL_1304fc1fe4eb4390aa241edecfaaafe0"
       ],
       "layout": "IPY_MODEL_7acc478fc91f4038ae75f783880d0604"
      }
     },
     "484fc0cf2fff451380483d7541c722b9": {
      "model_module": "@jupyter-widgets/base",
      "model_module_version": "1.2.0",
      "model_name": "LayoutModel",
      "state": {}
     },
     "485bc8bc1a9640f1981b3be499657a5c": {
      "model_module": "@jupyter-widgets/controls",
      "model_module_version": "1.5.0",
      "model_name": "ButtonModel",
      "state": {
       "description": "Save Figure",
       "layout": "IPY_MODEL_b31aaca6cc034bb994ebb66908cf27cf",
       "style": "IPY_MODEL_258178fab0a743c3a20eac95a31a6f98"
      }
     },
     "489b48c3dea949c4b01c6c22489bff38": {
      "model_module": "@jupyter-widgets/output",
      "model_module_version": "1.0.0",
      "model_name": "OutputModel",
      "state": {
       "layout": "IPY_MODEL_7d1e375a22ff4d95a99c027494282cf1",
       "outputs": [
        {
         "data": {
          "application/vnd.jupyter.widget-view+json": {
           "model_id": "e6a3074dc2ad4d99868d4c89be533bcc",
           "version_major": 2,
           "version_minor": 0
          },
          "text/plain": "Canvas(toolbar=Toolbar(toolitems=[('Home', 'Reset original view', 'home', 'home'), ('Back', 'Back to previous …"
         },
         "metadata": {},
         "output_type": "display_data"
        }
       ]
      }
     },
     "48a33847f8654dcda59c175bedd30f3c": {
      "model_module": "@jupyter-widgets/controls",
      "model_module_version": "1.5.0",
      "model_name": "CheckboxModel",
      "state": {
       "description": "Disable Medicina",
       "disabled": false,
       "layout": "IPY_MODEL_4189d719ea6a45a59c0dd9cf550e62b8",
       "style": "IPY_MODEL_1f9ec467c74e419e84d5c4c9d7a7d49b",
       "value": false
      }
     },
     "48d7d6830fc244b8b9409383caa1bae6": {
      "model_module": "@jupyter-widgets/controls",
      "model_module_version": "1.5.0",
      "model_name": "FloatSliderModel",
      "state": {
       "description": "270°",
       "layout": "IPY_MODEL_e7fd6aada3e54675b9ceec6cd33001f7",
       "max": 1,
       "min": -1,
       "step": 0.01,
       "style": "IPY_MODEL_448a7d6a265040e29e83ad9b3c745fb2"
      }
     },
     "48dbed354c164ad4be2aeda0394785e0": {
      "model_module": "@jupyter-widgets/base",
      "model_module_version": "1.2.0",
      "model_name": "LayoutModel",
      "state": {
       "align_items": "stretch",
       "display": "flex",
       "flex_flow": "column",
       "width": "1128px"
      }
     },
     "493a92a932c54b7182827b1a3c0400d3": {
      "model_module": "@jupyter-widgets/base",
      "model_module_version": "1.2.0",
      "model_name": "LayoutModel",
      "state": {}
     },
     "494747f25ec949059120daf03ada621a": {
      "model_module": "@jupyter-widgets/controls",
      "model_module_version": "1.5.0",
      "model_name": "HBoxModel",
      "state": {
       "children": [
        "IPY_MODEL_830e98545475495bbf93943508b3ede7",
        "IPY_MODEL_eff5a6def2ac4b10bf015f91ed4f3cd6",
        "IPY_MODEL_a5eaf902b4a842c7a81c5d52f8a70f0e"
       ],
       "layout": "IPY_MODEL_1c05095e7e9d41418faac030328eb3c4"
      }
     },
     "494f70076c5148b3b372b8cd39ce9159": {
      "model_module": "@jupyter-widgets/controls",
      "model_module_version": "1.5.0",
      "model_name": "SliderStyleModel",
      "state": {
       "description_width": ""
      }
     },
     "497646eaf75b4c7a9305bbdec5e36d99": {
      "model_module": "@jupyter-widgets/base",
      "model_module_version": "1.2.0",
      "model_name": "LayoutModel",
      "state": {}
     },
     "49841b8b809a4c838603c170c906caf4": {
      "model_module": "@jupyter-widgets/base",
      "model_module_version": "1.2.0",
      "model_name": "LayoutModel",
      "state": {}
     },
     "498892f5b02a4f1a81bac77c4a1f99c7": {
      "model_module": "@jupyter-widgets/base",
      "model_module_version": "1.2.0",
      "model_name": "LayoutModel",
      "state": {}
     },
     "49dc2ea895704727899c7f8f49cfad3c": {
      "model_module": "@jupyter-widgets/base",
      "model_module_version": "1.2.0",
      "model_name": "LayoutModel",
      "state": {}
     },
     "4a10e4c0eacd46ccb93b3b5a112c605d": {
      "model_module": "@jupyter-widgets/base",
      "model_module_version": "1.2.0",
      "model_name": "LayoutModel",
      "state": {}
     },
     "4a5b127a8afc451a897aab3952692bce": {
      "model_module": "@jupyter-widgets/base",
      "model_module_version": "1.2.0",
      "model_name": "LayoutModel",
      "state": {}
     },
     "4a88986c714d4610b6642b8cd2f1a57b": {
      "model_module": "@jupyter-widgets/base",
      "model_module_version": "1.2.0",
      "model_name": "LayoutModel",
      "state": {}
     },
     "4a89b7821d4248afa62fbbcd0b63afcc": {
      "model_module": "@jupyter-widgets/base",
      "model_module_version": "1.2.0",
      "model_name": "LayoutModel",
      "state": {}
     },
     "4a8e31ee3b434e46a467e1888f16a146": {
      "model_module": "@jupyter-widgets/controls",
      "model_module_version": "1.5.0",
      "model_name": "SliderStyleModel",
      "state": {
       "description_width": ""
      }
     },
     "4aaf8a393423436bbeef12a598b679b2": {
      "model_module": "@jupyter-widgets/controls",
      "model_module_version": "1.5.0",
      "model_name": "HBoxModel",
      "state": {
       "children": [
        "IPY_MODEL_010cd36ee2d14ac89ccca7553d4ef188",
        "IPY_MODEL_3ea973d02d234262aa9dfa2511b03452",
        "IPY_MODEL_e53fc9c489d64f4099701a77e767f4f3"
       ],
       "layout": "IPY_MODEL_8798c28b240245ebb8d3017db644b110"
      }
     },
     "4ac63fb2f13a4e49b675edfadae8ffc4": {
      "model_module": "@jupyter-widgets/controls",
      "model_module_version": "1.5.0",
      "model_name": "SliderStyleModel",
      "state": {
       "description_width": ""
      }
     },
     "4acd70b47e7c498a9fc725b2c9424dff": {
      "model_module": "@jupyter-widgets/base",
      "model_module_version": "1.2.0",
      "model_name": "LayoutModel",
      "state": {}
     },
     "4b075c811f7345cd8ec04ee7b79aa483": {
      "model_module": "@jupyter-widgets/base",
      "model_module_version": "1.2.0",
      "model_name": "LayoutModel",
      "state": {}
     },
     "4b0a339129734f378b20d6ea626731ac": {
      "model_module": "@jupyter-widgets/base",
      "model_module_version": "1.2.0",
      "model_name": "LayoutModel",
      "state": {}
     },
     "4b22cdca43494e218fd71da8ee2422f2": {
      "model_module": "@jupyter-widgets/base",
      "model_module_version": "1.2.0",
      "model_name": "LayoutModel",
      "state": {}
     },
     "4b76ba283ec7434c978059f198aa6620": {
      "model_module": "@jupyter-widgets/base",
      "model_module_version": "1.2.0",
      "model_name": "LayoutModel",
      "state": {
       "border": "solid 4px #222",
       "margin": "4px",
       "padding": "0"
      }
     },
     "4b8f7c6e4a2d4c97a8a5cd7a8d0cb987": {
      "model_module": "@jupyter-widgets/base",
      "model_module_version": "1.2.0",
      "model_name": "LayoutModel",
      "state": {}
     },
     "4b9a6533a2a749a69129c483cd02e6c7": {
      "model_module": "@jupyter-widgets/base",
      "model_module_version": "1.2.0",
      "model_name": "LayoutModel",
      "state": {
       "border": "solid 4px #222",
       "margin": "4px",
       "padding": "0"
      }
     },
     "4baea33bf8d64e6eade71b9f0bed34e2": {
      "model_module": "@jupyter-widgets/controls",
      "model_module_version": "1.5.0",
      "model_name": "DescriptionStyleModel",
      "state": {
       "description_width": ""
      }
     },
     "4bb6a2ce9d404e00a1b12703ab4f065a": {
      "model_module": "@jupyter-widgets/controls",
      "model_module_version": "1.5.0",
      "model_name": "ButtonModel",
      "state": {
       "description": "Reset Exposure",
       "layout": "IPY_MODEL_cb16e45c7ddd4cee892d1b210d651a99",
       "style": "IPY_MODEL_031e337df0404abc8db0bac66ceab1ba"
      }
     },
     "4bc24c25396a4aa7a3824468932e38f2": {
      "model_module": "@jupyter-widgets/base",
      "model_module_version": "1.2.0",
      "model_name": "LayoutModel",
      "state": {}
     },
     "4be8c1bf10424401a78fd8b5dc40284c": {
      "model_module": "@jupyter-widgets/base",
      "model_module_version": "1.2.0",
      "model_name": "LayoutModel",
      "state": {}
     },
     "4c29555e4b7f4bcc8a8037883bca521e": {
      "model_module": "@jupyter-widgets/controls",
      "model_module_version": "1.5.0",
      "model_name": "DescriptionStyleModel",
      "state": {
       "description_width": ""
      }
     },
     "4c3333e0e74b4b0e9560edaf60875098": {
      "model_module": "@jupyter-widgets/base",
      "model_module_version": "1.2.0",
      "model_name": "LayoutModel",
      "state": {}
     },
     "4c42740341a945f6986550de315b6623": {
      "model_module": "@jupyter-widgets/base",
      "model_module_version": "1.2.0",
      "model_name": "LayoutModel",
      "state": {}
     },
     "4c79ed9c87b04848af99b11e065777c0": {
      "model_module": "@jupyter-widgets/controls",
      "model_module_version": "1.5.0",
      "model_name": "DescriptionStyleModel",
      "state": {
       "description_width": ""
      }
     },
     "4cbe9f609d4f480c98e13867e4382150": {
      "model_module": "@jupyter-widgets/base",
      "model_module_version": "1.2.0",
      "model_name": "LayoutModel",
      "state": {
       "border": "solid 4px #222",
       "margin": "4px",
       "padding": "0"
      }
     },
     "4cea95da30dd4f3a8b2e21817cadf340": {
      "model_module": "@jupyter-widgets/base",
      "model_module_version": "1.2.0",
      "model_name": "LayoutModel",
      "state": {}
     },
     "4ceb3dd227bf4236a151b2dd668c9abc": {
      "model_module": "@jupyter-widgets/controls",
      "model_module_version": "1.5.0",
      "model_name": "SliderStyleModel",
      "state": {
       "description_width": ""
      }
     },
     "4cfddf8f79ad43a1b28c46fd19a1be7c": {
      "model_module": "@jupyter-widgets/base",
      "model_module_version": "1.2.0",
      "model_name": "LayoutModel",
      "state": {}
     },
     "4d237981668b4f82bcd4f62a56daa57f": {
      "model_module": "@jupyter-widgets/controls",
      "model_module_version": "1.5.0",
      "model_name": "ButtonStyleModel",
      "state": {}
     },
     "4d2a274304ce4dc3b8eae4b11f1c1ff8": {
      "model_module": "@jupyter-widgets/controls",
      "model_module_version": "1.5.0",
      "model_name": "HBoxModel",
      "state": {
       "children": [
        "IPY_MODEL_e32ad893d377470b83a86ed4ac88517e",
        "IPY_MODEL_f94075f89805412abb66a56ff12cac90",
        "IPY_MODEL_0740a4216bee466f8f7d73504ca77f84"
       ],
       "layout": "IPY_MODEL_5d41a39d35fa488d9d263e5447f51ed7"
      }
     },
     "4d450380a9ce4d438939049c0e54f4c3": {
      "model_module": "@jupyter-widgets/controls",
      "model_module_version": "1.5.0",
      "model_name": "ButtonModel",
      "state": {
       "description": "Reset Exposure",
       "layout": "IPY_MODEL_52e2f3486eb24a06b3a40a8c55614e91",
       "style": "IPY_MODEL_0c613e0d862e4f5080fe3b256b12395c"
      }
     },
     "4d8530ee64684f508cd3d273610f499e": {
      "model_module": "@jupyter-widgets/controls",
      "model_module_version": "1.5.0",
      "model_name": "SliderStyleModel",
      "state": {
       "description_width": ""
      }
     },
     "4d8bdeffac1547399b5b7fba9a096296": {
      "model_module": "@jupyter-widgets/controls",
      "model_module_version": "1.5.0",
      "model_name": "SliderStyleModel",
      "state": {
       "description_width": ""
      }
     },
     "4d8be69c1fe7445bb4f1068d67134a55": {
      "model_module": "@jupyter-widgets/controls",
      "model_module_version": "1.5.0",
      "model_name": "ButtonModel",
      "state": {
       "description": "Reset Saturation Controls",
       "layout": "IPY_MODEL_53ad5dc088514c5b9acbd093aaec5330",
       "style": "IPY_MODEL_43e03d80266a40a884f18e444256416c"
      }
     },
     "4d915eb8c41d4b5a95d0a39fd47e4d7a": {
      "model_module": "@jupyter-widgets/controls",
      "model_module_version": "1.5.0",
      "model_name": "ButtonModel",
      "state": {
       "description": "Reset Hue Controls",
       "layout": "IPY_MODEL_1457fae4f88f4c418b3799277914a8c7",
       "style": "IPY_MODEL_cb4807ee6f8d4d0fb57871a4aa1de727"
      }
     },
     "4d9385127d554da2b8cf335bbefa435b": {
      "model_module": "@jupyter-widgets/base",
      "model_module_version": "1.2.0",
      "model_name": "LayoutModel",
      "state": {}
     },
     "4dbed68f34f8469caadfb40d43eba856": {
      "model_module": "@jupyter-widgets/controls",
      "model_module_version": "1.5.0",
      "model_name": "DescriptionStyleModel",
      "state": {
       "description_width": ""
      }
     },
     "4dc26382b4c04506a81f9c4b57fabb9c": {
      "model_module": "@jupyter-widgets/controls",
      "model_module_version": "1.5.0",
      "model_name": "SliderStyleModel",
      "state": {
       "description_width": ""
      }
     },
     "4dd6026f6616410f835b140110e8fc9c": {
      "model_module": "@jupyter-widgets/base",
      "model_module_version": "1.2.0",
      "model_name": "LayoutModel",
      "state": {}
     },
     "4dd626a8bae447e2b175dc9ce434a485": {
      "model_module": "@jupyter-widgets/controls",
      "model_module_version": "1.5.0",
      "model_name": "ButtonStyleModel",
      "state": {}
     },
     "4e36e4591a164e5caa44e01a709e49e8": {
      "model_module": "@jupyter-widgets/controls",
      "model_module_version": "1.5.0",
      "model_name": "SliderStyleModel",
      "state": {
       "description_width": ""
      }
     },
     "4ea48e20b830495489d5688535696b36": {
      "model_module": "@jupyter-widgets/base",
      "model_module_version": "1.2.0",
      "model_name": "LayoutModel",
      "state": {}
     },
     "4ea63e608daf4fe0b3d2b1917d642aad": {
      "model_module": "@jupyter-widgets/controls",
      "model_module_version": "1.5.0",
      "model_name": "SliderStyleModel",
      "state": {
       "description_width": ""
      }
     },
     "4eb622fd9da741e186d038819a68ca06": {
      "model_module": "@jupyter-widgets/base",
      "model_module_version": "1.2.0",
      "model_name": "LayoutModel",
      "state": {}
     },
     "4ed30c542e734ea1b7910101586b7a07": {
      "model_module": "@jupyter-widgets/controls",
      "model_module_version": "1.5.0",
      "model_name": "HBoxModel",
      "state": {
       "children": [
        "IPY_MODEL_5401b19f63984e688a5c8e7a69f39114",
        "IPY_MODEL_c6c29e5d986a40b2873a398caafa0049"
       ],
       "layout": "IPY_MODEL_809a1f76a6b643679f12fc68a20a46fc"
      }
     },
     "4f135e0c5afe49ad94ccbf31824f103c": {
      "model_module": "@jupyter-widgets/base",
      "model_module_version": "1.2.0",
      "model_name": "LayoutModel",
      "state": {}
     },
     "4f276470782d4955be44e6f36325a358": {
      "model_module": "@jupyter-widgets/output",
      "model_module_version": "1.0.0",
      "model_name": "OutputModel",
      "state": {
       "layout": "IPY_MODEL_429d8bdad5af4c6496b9a2b0b35aad1b",
       "outputs": [
        {
         "data": {
          "application/vnd.jupyter.widget-view+json": {
           "model_id": "f990e5e215904f318369a160f248cc37",
           "version_major": 2,
           "version_minor": 0
          },
          "text/plain": "Canvas(toolbar=Toolbar(toolitems=[('Home', 'Reset original view', 'home', 'home'), ('Back', 'Back to previous …"
         },
         "metadata": {},
         "output_type": "display_data"
        }
       ]
      }
     },
     "4f577b879746489e86a58011198f5645": {
      "model_module": "@jupyter-widgets/controls",
      "model_module_version": "1.5.0",
      "model_name": "CheckboxModel",
      "state": {
       "description": "Show Out-of-Gamut",
       "disabled": false,
       "layout": "IPY_MODEL_46a59b5b0fde4a1c9fe1568058cc4e32",
       "style": "IPY_MODEL_91691e97fbbc4fdd84d864b91fdc1430",
       "value": false
      }
     },
     "4f7703509bce439ea31006ecf2caa490": {
      "model_module": "@jupyter-widgets/controls",
      "model_module_version": "1.5.0",
      "model_name": "ButtonStyleModel",
      "state": {}
     },
     "4fa6a930839b4d629ac632c0e6aebcad": {
      "model_module": "@jupyter-widgets/controls",
      "model_module_version": "1.5.0",
      "model_name": "SliderStyleModel",
      "state": {
       "description_width": ""
      }
     },
     "4fc18c4f003549e39c42040a22fe785a": {
      "model_module": "@jupyter-widgets/controls",
      "model_module_version": "1.5.0",
      "model_name": "HBoxModel",
      "state": {
       "children": [
        "IPY_MODEL_4f577b879746489e86a58011198f5645",
        "IPY_MODEL_97cb3e4190f9478bad7b865483136e69",
        "IPY_MODEL_fd3af379bda345f0af530f7d46c1c09c"
       ],
       "layout": "IPY_MODEL_b970ba8d3f9847429e827c79af33ed47"
      }
     },
     "4fd864c45e4843a98aa1f89d83af73b5": {
      "model_module": "@jupyter-widgets/base",
      "model_module_version": "1.2.0",
      "model_name": "LayoutModel",
      "state": {}
     },
     "5028836523784687b7528ce17433a8a3": {
      "model_module": "@jupyter-widgets/base",
      "model_module_version": "1.2.0",
      "model_name": "LayoutModel",
      "state": {}
     },
     "50297713b8a346199018d97f94fc9746": {
      "model_module": "@jupyter-widgets/base",
      "model_module_version": "1.2.0",
      "model_name": "LayoutModel",
      "state": {}
     },
     "507b9904e7f2466794c0b4dbdfc80991": {
      "model_module": "@jupyter-widgets/controls",
      "model_module_version": "1.5.0",
      "model_name": "ButtonStyleModel",
      "state": {}
     },
     "50c078cfe1a941ba8f9820fa839f85c4": {
      "model_module": "@jupyter-widgets/base",
      "model_module_version": "1.2.0",
      "model_name": "LayoutModel",
      "state": {}
     },
     "50c20b39c1784875aedc1370e1fe6f35": {
      "model_module": "@jupyter-widgets/base",
      "model_module_version": "1.2.0",
      "model_name": "LayoutModel",
      "state": {
       "border": "solid 4px #222",
       "margin": "4px",
       "padding": "0"
      }
     },
     "50c2cee308904f69971b6f12048cc14c": {
      "model_module": "@jupyter-widgets/base",
      "model_module_version": "1.2.0",
      "model_name": "LayoutModel",
      "state": {}
     },
     "50da8d9b2cb44241ad85bd00928d8a4b": {
      "model_module": "@jupyter-widgets/controls",
      "model_module_version": "1.5.0",
      "model_name": "CheckboxModel",
      "state": {
       "description": "Show Out-of-Gamut",
       "disabled": false,
       "layout": "IPY_MODEL_af3e0c4446f34efe8c380f6691c3df2e",
       "style": "IPY_MODEL_c532463d885e4254b138494cc8fcc368",
       "value": false
      }
     },
     "50dd2a8d62c34cb7b67b50bfef05936c": {
      "model_module": "@jupyter-widgets/base",
      "model_module_version": "1.2.0",
      "model_name": "LayoutModel",
      "state": {}
     },
     "510ffd21c04749b3be8d88d01bed024c": {
      "model_module": "@jupyter-widgets/controls",
      "model_module_version": "1.5.0",
      "model_name": "DescriptionStyleModel",
      "state": {
       "description_width": ""
      }
     },
     "51484440296d40188715d26a224bd90d": {
      "model_module": "@jupyter-widgets/controls",
      "model_module_version": "1.5.0",
      "model_name": "HBoxModel",
      "state": {
       "children": [
        "IPY_MODEL_844b8d5040774e438ec233901a6f4641",
        "IPY_MODEL_96a41d224fea4e34a0b133685783538c"
       ],
       "layout": "IPY_MODEL_b297c5fa977a4a36a82209438440a539"
      }
     },
     "51528fe2fe8a415480c81bfb71e20428": {
      "model_module": "@jupyter-widgets/base",
      "model_module_version": "1.2.0",
      "model_name": "LayoutModel",
      "state": {}
     },
     "5154ada6a96e451ca87696fe22a6874c": {
      "model_module": "@jupyter-widgets/base",
      "model_module_version": "1.2.0",
      "model_name": "LayoutModel",
      "state": {}
     },
     "516b4d220f2c441db87836ffa3ac933d": {
      "model_module": "@jupyter-widgets/base",
      "model_module_version": "1.2.0",
      "model_name": "LayoutModel",
      "state": {}
     },
     "519bb90238494d6b96af29b44e4ed748": {
      "model_module": "@jupyter-widgets/base",
      "model_module_version": "1.2.0",
      "model_name": "LayoutModel",
      "state": {}
     },
     "52564d1875ab40bf841e4c4655b2bb9b": {
      "model_module": "@jupyter-widgets/base",
      "model_module_version": "1.2.0",
      "model_name": "LayoutModel",
      "state": {}
     },
     "5257dede667949628f4a2340b061b68f": {
      "model_module": "@jupyter-widgets/base",
      "model_module_version": "1.2.0",
      "model_name": "LayoutModel",
      "state": {
       "border": "solid 4px #222",
       "margin": "4px",
       "padding": "0"
      }
     },
     "52777e1addde4082859eec00f015da9c": {
      "model_module": "@jupyter-widgets/base",
      "model_module_version": "1.2.0",
      "model_name": "LayoutModel",
      "state": {}
     },
     "5286e6cb4531481ba42cca323e2b1bd8": {
      "model_module": "@jupyter-widgets/controls",
      "model_module_version": "1.5.0",
      "model_name": "FloatSliderModel",
      "state": {
       "description": "90°",
       "layout": "IPY_MODEL_a4ddc383c0a04c4ca716288cc6ec95c0",
       "max": 1,
       "min": -1,
       "step": 0.01,
       "style": "IPY_MODEL_ccebb00173fa41bb8c6e7b2c12e9a8c9"
      }
     },
     "5292c11c17744cc48990c7872af012c1": {
      "model_module": "@jupyter-widgets/base",
      "model_module_version": "1.2.0",
      "model_name": "LayoutModel",
      "state": {
       "border": "solid 4px #222",
       "margin": "4px",
       "padding": "0"
      }
     },
     "52a74eaa0bd6492d9ae5fc77f2b0b60b": {
      "model_module": "@jupyter-widgets/base",
      "model_module_version": "1.2.0",
      "model_name": "LayoutModel",
      "state": {}
     },
     "52b2049c22174523969a52f56e640244": {
      "model_module": "@jupyter-widgets/controls",
      "model_module_version": "1.5.0",
      "model_name": "FloatSliderModel",
      "state": {
       "description": "Protected Area Threshold",
       "layout": "IPY_MODEL_66bbd033a6374723b434156f5d8f6dc2",
       "max": 1,
       "step": 0.01,
       "style": "IPY_MODEL_b4a52ebc10f449c4b3a868e967149697",
       "value": 0.7
      }
     },
     "52e2f3486eb24a06b3a40a8c55614e91": {
      "model_module": "@jupyter-widgets/base",
      "model_module_version": "1.2.0",
      "model_name": "LayoutModel",
      "state": {}
     },
     "530127fc15e84a73a8385e9754fe38df": {
      "model_module": "@jupyter-widgets/controls",
      "model_module_version": "1.5.0",
      "model_name": "DropdownModel",
      "state": {
       "_options_labels": [
        "tanh",
        "atan",
        "simple"
       ],
       "description": "Compression Function:",
       "index": 0,
       "layout": "IPY_MODEL_756d5c3580874c308e1a8021d5c96d4e",
       "style": "IPY_MODEL_6082a7c135c04d51959e0f7d493edd76"
      }
     },
     "532851348eb34e22a94a9cc4d99ab6b7": {
      "model_module": "@jupyter-widgets/controls",
      "model_module_version": "1.5.0",
      "model_name": "ButtonModel",
      "state": {
       "description": "Save Figure",
       "layout": "IPY_MODEL_af8a81d278c5438a9b71149a1cc6474a",
       "style": "IPY_MODEL_a8040993554a45a6b74a1a63fa737697"
      }
     },
     "532d4b91e6e94ad68648a438b2f6fe47": {
      "model_module": "@jupyter-widgets/controls",
      "model_module_version": "1.5.0",
      "model_name": "VBoxModel",
      "state": {
       "children": [
        "IPY_MODEL_e2961b03e16c40998099c025a6b36ca4",
        "IPY_MODEL_cf33dce0d62346daad2cf7cc203863be",
        "IPY_MODEL_808b2101456a43bf84e1d9d9e752f293"
       ],
       "layout": "IPY_MODEL_77d9c22060d1493c8dc0974a9f512929"
      }
     },
     "5349112187f34da685cf87cae708f414": {
      "model_module": "@jupyter-widgets/base",
      "model_module_version": "1.2.0",
      "model_name": "LayoutModel",
      "state": {}
     },
     "535b0ecec7e0489196c82b8b9445a662": {
      "model_module": "@jupyter-widgets/controls",
      "model_module_version": "1.5.0",
      "model_name": "VBoxModel",
      "state": {
       "children": [
        "IPY_MODEL_637010b2618e4f31b5d449e43d5071e2",
        "IPY_MODEL_6eddc7feb61c446d8c3138de262bf8eb",
        "IPY_MODEL_2df01a2ca7b54a88b79a728f5de3d48f"
       ],
       "layout": "IPY_MODEL_fbd5290be1c04de1a75b25d4a1f71f33"
      }
     },
     "5362fdf4f8d147e685c6c0d741a44ce7": {
      "model_module": "@jupyter-widgets/controls",
      "model_module_version": "1.5.0",
      "model_name": "FloatSliderModel",
      "state": {
       "description": "180°",
       "layout": "IPY_MODEL_497646eaf75b4c7a9305bbdec5e36d99",
       "max": 1,
       "min": -1,
       "step": 0.01,
       "style": "IPY_MODEL_d8766c9ed1754897a7ce13134ea2fade"
      }
     },
     "53a11ead19c0436788ddb003b2d29dba": {
      "model_module": "@jupyter-widgets/controls",
      "model_module_version": "1.5.0",
      "model_name": "TabModel",
      "state": {
       "_titles": {
        "0": "Global Controls",
        "1": "Viewer Controls",
        "2": "Protected Area Controls",
        "3": "Saturation Controls",
        "4": "Hue Controls"
       },
       "children": [
        "IPY_MODEL_077b940996c5456abc02c702af7a2105",
        "IPY_MODEL_f06a97294923482aa2fc7adf9fd593ba",
        "IPY_MODEL_4ed30c542e734ea1b7910101586b7a07",
        "IPY_MODEL_1be8b4116b774d51b0a6bef757ddc962",
        "IPY_MODEL_f6e11c16ab9b49618062bda00a1c29ec"
       ],
       "layout": "IPY_MODEL_be414793753b45a6aa3502011937cc33"
      }
     },
     "53ad5dc088514c5b9acbd093aaec5330": {
      "model_module": "@jupyter-widgets/base",
      "model_module_version": "1.2.0",
      "model_name": "LayoutModel",
      "state": {}
     },
     "53c9d506263b4bc5a1c553e2c7cdd3cb": {
      "model_module": "@jupyter-widgets/base",
      "model_module_version": "1.2.0",
      "model_name": "LayoutModel",
      "state": {
       "border": "solid 4px #222",
       "margin": "4px",
       "padding": "0"
      }
     },
     "53ce18bd690f42a1a59a83ea2a4968ae": {
      "model_module": "@jupyter-widgets/controls",
      "model_module_version": "1.5.0",
      "model_name": "BoxModel",
      "state": {
       "children": [
        "IPY_MODEL_3aa9632e2333464e982498f4c18c424f",
        "IPY_MODEL_ae72b133ffa94269a46808083424f09e"
       ],
       "layout": "IPY_MODEL_ae74b854730b44acb59413d212a8f705"
      }
     },
     "53f859c58601400abaf413712ec61b44": {
      "model_module": "jupyter-matplotlib",
      "model_module_version": "^0.7.2",
      "model_name": "MPLCanvasModel",
      "state": {
       "_figure_label": "Figure 27",
       "_height": 550,
       "_width": 1100,
       "header_visible": false,
       "layout": "IPY_MODEL_d13f4e4f9b244ebd97741d1a1b3fdcb5",
       "resizable": false,
       "toolbar": "IPY_MODEL_8f8e9848678545648aa1ee19bf38d77f",
       "toolbar_position": "left",
       "toolbar_visible": false
      }
     },
     "5401b19f63984e688a5c8e7a69f39114": {
      "model_module": "@jupyter-widgets/controls",
      "model_module_version": "1.5.0",
      "model_name": "ButtonModel",
      "state": {
       "description": "Reset Protected Area",
       "layout": "IPY_MODEL_6f340d6bf3e44b329c148cf583ded075",
       "style": "IPY_MODEL_ef0408b912694a548d82f4cba8a19b67"
      }
     },
     "54113e36cc6c42daa30d08797937b9e1": {
      "model_module": "@jupyter-widgets/controls",
      "model_module_version": "1.5.0",
      "model_name": "FloatSliderModel",
      "state": {
       "description": "315°",
       "layout": "IPY_MODEL_fb83d07df5c64a908993f1efa6036321",
       "max": 1,
       "min": -1,
       "step": 0.01,
       "style": "IPY_MODEL_f28702468d8e457d9b420974d0b7c21f"
      }
     },
     "542670701bc34aba990d03908ef7197e": {
      "model_module": "jupyter-matplotlib",
      "model_module_version": "^0.7.2",
      "model_name": "MPLCanvasModel",
      "state": {
       "_figure_label": "Figure 18",
       "_height": 430,
       "_width": 1099,
       "header_visible": false,
       "layout": "IPY_MODEL_c66bd766827a4340bb8728825140286f",
       "resizable": false,
       "toolbar": "IPY_MODEL_5a2d786cbece459ca31fa9fc6b68d807",
       "toolbar_position": "left",
       "toolbar_visible": false
      }
     },
     "542c04a2ab304b988d5b9cf2b4ef441a": {
      "model_module": "@jupyter-widgets/output",
      "model_module_version": "1.0.0",
      "model_name": "OutputModel",
      "state": {
       "layout": "IPY_MODEL_9bada5e07c784f2c8bb824c49afb8bfa",
       "outputs": [
        {
         "data": {
          "application/vnd.jupyter.widget-view+json": {
           "model_id": "7e7be1d5fce64b408a61024e1a67d5cb",
           "version_major": 2,
           "version_minor": 0
          },
          "text/plain": "Canvas(toolbar=Toolbar(toolitems=[('Home', 'Reset original view', 'home', 'home'), ('Back', 'Back to previous …"
         },
         "metadata": {},
         "output_type": "display_data"
        }
       ]
      }
     },
     "54635824ea854f4f9b884c1b5308ddbf": {
      "model_module": "@jupyter-widgets/controls",
      "model_module_version": "1.5.0",
      "model_name": "ButtonStyleModel",
      "state": {}
     },
     "54d28a95d2b84857bc48ae7cab4fecce": {
      "model_module": "@jupyter-widgets/controls",
      "model_module_version": "1.5.0",
      "model_name": "FloatSliderModel",
      "state": {
       "description": "180°",
       "layout": "IPY_MODEL_3c6c21bfe727452bba5f50a6a2bbefa5",
       "max": 1,
       "min": -1,
       "step": 0.01,
       "style": "IPY_MODEL_188c6aa1ff7145d4bb16a2746a4089f3"
      }
     },
     "5502359a2ff54e0b9542f6e156ac7a9c": {
      "model_module": "@jupyter-widgets/base",
      "model_module_version": "1.2.0",
      "model_name": "LayoutModel",
      "state": {}
     },
     "5522fda796e74f71ba6ed1e8fd3ad681": {
      "model_module": "@jupyter-widgets/controls",
      "model_module_version": "1.5.0",
      "model_name": "ButtonStyleModel",
      "state": {}
     },
     "55259669c8cf492ea21b00e057958554": {
      "model_module": "@jupyter-widgets/controls",
      "model_module_version": "1.5.0",
      "model_name": "SliderStyleModel",
      "state": {
       "description_width": ""
      }
     },
     "554fae0d040f4473b65e22868a3d7925": {
      "model_module": "@jupyter-widgets/controls",
      "model_module_version": "1.5.0",
      "model_name": "FloatSliderModel",
      "state": {
       "description": "225°",
       "layout": "IPY_MODEL_d05a96699e9242899069798d4ae7fd88",
       "max": 1,
       "min": -1,
       "step": 0.01,
       "style": "IPY_MODEL_6ea432632bc94d89a5055802a52a249f"
      }
     },
     "5597a21231e343d98ba66182f499bd73": {
      "model_module": "jupyter-matplotlib",
      "model_module_version": "^0.7.2",
      "model_name": "MPLCanvasModel",
      "state": {
       "_figure_label": "Figure 6",
       "_height": 508,
       "_width": 1100,
       "header_visible": false,
       "layout": "IPY_MODEL_c0bd29f010c44b21b6c2b3ad0da60a0e",
       "resizable": false,
       "toolbar": "IPY_MODEL_87cc55383e04479cb86a2ad75c3a927c",
       "toolbar_position": "left",
       "toolbar_visible": false
      }
     },
     "55f172899a3b4e8993fba7f6e3706e5e": {
      "model_module": "@jupyter-widgets/base",
      "model_module_version": "1.2.0",
      "model_name": "LayoutModel",
      "state": {}
     },
     "563cabb2cf8c40fe972458e2ad32577c": {
      "model_module": "@jupyter-widgets/base",
      "model_module_version": "1.2.0",
      "model_name": "LayoutModel",
      "state": {}
     },
     "5646aa8f2c2b43cb98d1a7352040c256": {
      "model_module": "@jupyter-widgets/base",
      "model_module_version": "1.2.0",
      "model_name": "LayoutModel",
      "state": {}
     },
     "565d77fc33374c7488949bd34e301874": {
      "model_module": "@jupyter-widgets/controls",
      "model_module_version": "1.5.0",
      "model_name": "HBoxModel",
      "state": {
       "children": [
        "IPY_MODEL_258c7c9b33a44c429e5202066fc4ab22",
        "IPY_MODEL_97eb06353ecd438db645bd9df72954cb",
        "IPY_MODEL_f738164ea4dc4eb2a4c3e290624dcd4f"
       ],
       "layout": "IPY_MODEL_d0702ee6e1824f43821d6979a14fd1e2"
      }
     },
     "56939542df89401b98e36f50c545c4dc": {
      "model_module": "@jupyter-widgets/base",
      "model_module_version": "1.2.0",
      "model_name": "LayoutModel",
      "state": {}
     },
     "56b922f458d74d52909963ebd5480743": {
      "model_module": "@jupyter-widgets/controls",
      "model_module_version": "1.5.0",
      "model_name": "SliderStyleModel",
      "state": {
       "description_width": ""
      }
     },
     "56c9885f332e4c299aa2c59b6195b673": {
      "model_module": "@jupyter-widgets/controls",
      "model_module_version": "1.5.0",
      "model_name": "ButtonModel",
      "state": {
       "description": "Reset Exposure",
       "layout": "IPY_MODEL_d1f324c27118457f8e43da2949976d4a",
       "style": "IPY_MODEL_f7ea0601e3424b9a91734adc0fb76fc6"
      }
     },
     "56d5a08d72654de5960eb4b1230e21e8": {
      "model_module": "@jupyter-widgets/controls",
      "model_module_version": "1.5.0",
      "model_name": "SliderStyleModel",
      "state": {
       "description_width": ""
      }
     },
     "56db4cf84aa6469fb950c58c8ef87c77": {
      "model_module": "@jupyter-widgets/base",
      "model_module_version": "1.2.0",
      "model_name": "LayoutModel",
      "state": {}
     },
     "56ee143385f843ed84667a7211a03d5a": {
      "model_module": "@jupyter-widgets/base",
      "model_module_version": "1.2.0",
      "model_name": "LayoutModel",
      "state": {}
     },
     "5750eae024064d709b93d46c9fe89cf0": {
      "model_module": "@jupyter-widgets/base",
      "model_module_version": "1.2.0",
      "model_name": "LayoutModel",
      "state": {}
     },
     "57d7731d8a194ade819d00c5b2b34220": {
      "model_module": "@jupyter-widgets/controls",
      "model_module_version": "1.5.0",
      "model_name": "FloatSliderModel",
      "state": {
       "description": "90°",
       "layout": "IPY_MODEL_3ef9d1f4fd954a41b2df71ec41acaf40",
       "max": 1,
       "min": -1,
       "step": 0.01,
       "style": "IPY_MODEL_b2463585d5e74301afd1b99967af1ffc"
      }
     },
     "57d93cdcf0d54c4e88c1559624473c6d": {
      "model_module": "@jupyter-widgets/controls",
      "model_module_version": "1.5.0",
      "model_name": "DescriptionStyleModel",
      "state": {
       "description_width": ""
      }
     },
     "5805f48a03504346890e1fec8034e11a": {
      "model_module": "@jupyter-widgets/controls",
      "model_module_version": "1.5.0",
      "model_name": "DropdownModel",
      "state": {
       "_options_labels": [
        "tanh",
        "atan",
        "simple"
       ],
       "description": "Compression Function:",
       "index": 0,
       "layout": "IPY_MODEL_e69718b76910475d9d42d32e307f41bf",
       "style": "IPY_MODEL_9f1322eeb81e458aa59e0ee228021a92"
      }
     },
     "581431757bf344cfbf753c7aa743c855": {
      "model_module": "jupyter-matplotlib",
      "model_module_version": "^0.7.2",
      "model_name": "MPLCanvasModel",
      "state": {
       "_figure_label": "Figure 1",
       "_height": 458,
       "_width": 1100,
       "header_visible": false,
       "layout": "IPY_MODEL_b489fd1f684242c88593a00acd006e1f",
       "resizable": false,
       "toolbar": "IPY_MODEL_3f1d2725dd2e47b2906a61158ff75054",
       "toolbar_position": "left",
       "toolbar_visible": false
      }
     },
     "58207212837646bc834c464de0b3f95a": {
      "model_module": "@jupyter-widgets/controls",
      "model_module_version": "1.5.0",
      "model_name": "ButtonStyleModel",
      "state": {}
     },
     "584bbe62c3854f169e1bfce732a47d7e": {
      "model_module": "@jupyter-widgets/controls",
      "model_module_version": "1.5.0",
      "model_name": "ButtonStyleModel",
      "state": {}
     },
     "5861fdc74eb44c64bc2ef7bfd0d523ba": {
      "model_module": "@jupyter-widgets/base",
      "model_module_version": "1.2.0",
      "model_name": "LayoutModel",
      "state": {}
     },
     "58844c838940422fb76e7e108cd85b98": {
      "model_module": "@jupyter-widgets/controls",
      "model_module_version": "1.5.0",
      "model_name": "TabModel",
      "state": {
       "_titles": {
        "0": "Global Controls",
        "1": "Viewer Controls",
        "2": "Compression Controls"
       },
       "children": [
        "IPY_MODEL_122b67fd5869430e9b6fde5b140e194f",
        "IPY_MODEL_d42c9b971b81400880af13bc15eaecf2",
        "IPY_MODEL_5b4d0118b1634606b450e2d2c23ecacf"
       ],
       "layout": "IPY_MODEL_a4f1b38ef9484c3a9e417f3f546f51e4"
      }
     },
     "58b853f696134d54b54189427aded7f3": {
      "model_module": "@jupyter-widgets/base",
      "model_module_version": "1.2.0",
      "model_name": "LayoutModel",
      "state": {}
     },
     "58c343ba92aa45ff953f5723fc168491": {
      "model_module": "@jupyter-widgets/controls",
      "model_module_version": "1.5.0",
      "model_name": "ButtonModel",
      "state": {
       "description": "Reset Exposure",
       "layout": "IPY_MODEL_166f5263371d471ba27cf6ce76785e0a",
       "style": "IPY_MODEL_5c4c4e515eca4058ad16968a455eefe4"
      }
     },
     "58ce3d8ec4b141e1977b0e275ea748b6": {
      "model_module": "@jupyter-widgets/base",
      "model_module_version": "1.2.0",
      "model_name": "LayoutModel",
      "state": {}
     },
     "58e160f191d449e598250996299ff97a": {
      "model_module": "@jupyter-widgets/controls",
      "model_module_version": "1.5.0",
      "model_name": "VBoxModel",
      "state": {
       "children": [
        "IPY_MODEL_09c319a5367948b59829ae82ed8f4669",
        "IPY_MODEL_ed18a9757fe442fbae7830306f70f7ad"
       ],
       "layout": "IPY_MODEL_78985c341118487d8be49c6829dd7e7b"
      }
     },
     "592aadca98db46da98ded0a20274005c": {
      "model_module": "@jupyter-widgets/base",
      "model_module_version": "1.2.0",
      "model_name": "LayoutModel",
      "state": {}
     },
     "592cc78d036e42bdb061bbcb46f62d05": {
      "model_module": "@jupyter-widgets/controls",
      "model_module_version": "1.5.0",
      "model_name": "FloatSliderModel",
      "state": {
       "description": "90°",
       "layout": "IPY_MODEL_f98d4bc370df4b318c82aaf537c81717",
       "max": 1,
       "min": -1,
       "step": 0.01,
       "style": "IPY_MODEL_6c3bc33b6ea340b7b16f9d36cde8d505"
      }
     },
     "593e037e82674422be111eded933f5c7": {
      "model_module": "@jupyter-widgets/base",
      "model_module_version": "1.2.0",
      "model_name": "LayoutModel",
      "state": {
       "border": "solid 4px #222",
       "margin": "4px",
       "padding": "0"
      }
     },
     "5975541a0dd14448acb2ceafa1b86c39": {
      "model_module": "@jupyter-widgets/controls",
      "model_module_version": "1.5.0",
      "model_name": "DropdownModel",
      "state": {
       "_options_labels": [
        "tanh",
        "atan",
        "simple"
       ],
       "description": "Compression Function:",
       "index": 0,
       "layout": "IPY_MODEL_665524887cee49bc88e39d35332b5333",
       "style": "IPY_MODEL_78e1bba0a4f54a17884c2f2c825e153a"
      }
     },
     "5986f5f9e84f4336ac748b0d4e2f4507": {
      "model_module": "@jupyter-widgets/base",
      "model_module_version": "1.2.0",
      "model_name": "LayoutModel",
      "state": {}
     },
     "59e3a197e9c44cdb84229db877e85194": {
      "model_module": "@jupyter-widgets/base",
      "model_module_version": "1.2.0",
      "model_name": "LayoutModel",
      "state": {}
     },
     "59f9f21b20984283a62a5b1aa16b617a": {
      "model_module": "@jupyter-widgets/base",
      "model_module_version": "1.2.0",
      "model_name": "LayoutModel",
      "state": {}
     },
     "5a09da00e55741fbabec9b7ffe8af61d": {
      "model_module": "@jupyter-widgets/controls",
      "model_module_version": "1.5.0",
      "model_name": "HBoxModel",
      "state": {
       "children": [
        "IPY_MODEL_7ac1d505ebc542b894ec8ebc90ec30de",
        "IPY_MODEL_6f136838cd41470ba8cda99a8f61c6d7",
        "IPY_MODEL_0398c2f9510d40059307e0f61d32de42"
       ],
       "layout": "IPY_MODEL_51528fe2fe8a415480c81bfb71e20428"
      }
     },
     "5a26531830534aa38050dc8186cf1849": {
      "model_module": "@jupyter-widgets/base",
      "model_module_version": "1.2.0",
      "model_name": "LayoutModel",
      "state": {}
     },
     "5a2d786cbece459ca31fa9fc6b68d807": {
      "model_module": "jupyter-matplotlib",
      "model_module_version": "^0.7.2",
      "model_name": "ToolbarModel",
      "state": {
       "layout": "IPY_MODEL_42ca3fbfebe2403aa1512e1a630d5758",
       "toolitems": [
        [
         "Home",
         "Reset original view",
         "home",
         "home"
        ],
        [
         "Back",
         "Back to previous view",
         "arrow-left",
         "back"
        ],
        [
         "Forward",
         "Forward to next view",
         "arrow-right",
         "forward"
        ],
        [
         "Pan",
         "Pan axes with left mouse, zoom with right",
         "arrows",
         "pan"
        ],
        [
         "Zoom",
         "Zoom to rectangle",
         "square-o",
         "zoom"
        ],
        [
         "Download",
         "Download plot",
         "floppy-o",
         "save_figure"
        ]
       ]
      }
     },
     "5a35517df87f4be2b12b352d47f1c81b": {
      "model_module": "@jupyter-widgets/controls",
      "model_module_version": "1.5.0",
      "model_name": "ButtonStyleModel",
      "state": {}
     },
     "5a65e91a77574854b3f75ad4e5a3d001": {
      "model_module": "@jupyter-widgets/base",
      "model_module_version": "1.2.0",
      "model_name": "LayoutModel",
      "state": {}
     },
     "5a6786d0e2d1401cac0e8809008b7087": {
      "model_module": "@jupyter-widgets/controls",
      "model_module_version": "1.5.0",
      "model_name": "TabModel",
      "state": {
       "_titles": {
        "0": "Global Controls",
        "1": "Viewer Controls",
        "2": "Protected Area Controls",
        "3": "Saturation Controls",
        "4": "Hue Controls"
       },
       "children": [
        "IPY_MODEL_1d7e7cded5b746db9a7a8a76ea4807bc",
        "IPY_MODEL_6cd2a51b22434d2a903d888d85c80ec4",
        "IPY_MODEL_9d53375ce33e4df7bd80913b66d30456",
        "IPY_MODEL_4aaf8a393423436bbeef12a598b679b2",
        "IPY_MODEL_6c39594fd8454c37b7efad3666b455cb"
       ],
       "layout": "IPY_MODEL_25a6055d75e9450d838fd1459c093bd7"
      }
     },
     "5a773d2953014fba8628667563ed81a4": {
      "model_module": "@jupyter-widgets/controls",
      "model_module_version": "1.5.0",
      "model_name": "ButtonStyleModel",
      "state": {}
     },
     "5a7a6160f1c2408aa7c90ea41bbc0d66": {
      "model_module": "@jupyter-widgets/base",
      "model_module_version": "1.2.0",
      "model_name": "LayoutModel",
      "state": {}
     },
     "5a7ee08a3403483888a2515028475b97": {
      "model_module": "@jupyter-widgets/base",
      "model_module_version": "1.2.0",
      "model_name": "LayoutModel",
      "state": {}
     },
     "5a8da35e72c4466f90a905ce10fecf5a": {
      "model_module": "@jupyter-widgets/controls",
      "model_module_version": "1.5.0",
      "model_name": "CheckboxModel",
      "state": {
       "description": "Show Out-of-Gamut",
       "disabled": false,
       "layout": "IPY_MODEL_3bd28272541141128cbf72978ec153ab",
       "style": "IPY_MODEL_4baea33bf8d64e6eade71b9f0bed34e2",
       "value": false
      }
     },
     "5a99ed06bd27493a91e96e829b414fbf": {
      "model_module": "@jupyter-widgets/controls",
      "model_module_version": "1.5.0",
      "model_name": "ButtonModel",
      "state": {
       "description": "Save Figure",
       "layout": "IPY_MODEL_50dd2a8d62c34cb7b67b50bfef05936c",
       "style": "IPY_MODEL_507b9904e7f2466794c0b4dbdfc80991"
      }
     },
     "5ac0def64d8f43a08bdcfeb966e415dd": {
      "model_module": "@jupyter-widgets/controls",
      "model_module_version": "1.5.0",
      "model_name": "ButtonModel",
      "state": {
       "description": "Reset Compression Controls",
       "layout": "IPY_MODEL_2a025d86f5434b8e8b1e463ed61b4445",
       "style": "IPY_MODEL_8e523b61bfda42669e5fe75e0cf1896f"
      }
     },
     "5ac1f7e355bf4cfc8d1a574d04800b70": {
      "model_module": "@jupyter-widgets/base",
      "model_module_version": "1.2.0",
      "model_name": "LayoutModel",
      "state": {}
     },
     "5acc7b88490a4595b340040aba81c0a2": {
      "model_module": "@jupyter-widgets/output",
      "model_module_version": "1.0.0",
      "model_name": "OutputModel",
      "state": {
       "layout": "IPY_MODEL_40be6e28b346412cbc6f73766eba1a98",
       "outputs": [
        {
         "data": {
          "application/vnd.jupyter.widget-view+json": {
           "model_id": "46f13d37f5ae4797bc1b5ff9cfba01b8",
           "version_major": 2,
           "version_minor": 0
          },
          "text/plain": "Canvas(toolbar=Toolbar(toolitems=[('Home', 'Reset original view', 'home', 'home'), ('Back', 'Back to previous …"
         },
         "metadata": {},
         "output_type": "display_data"
        }
       ]
      }
     },
     "5af18b1f16aa409caff1ac07361be1cd": {
      "model_module": "@jupyter-widgets/controls",
      "model_module_version": "1.5.0",
      "model_name": "SliderStyleModel",
      "state": {
       "description_width": ""
      }
     },
     "5b2efdd401cb44ae9427150bd30a9377": {
      "model_module": "@jupyter-widgets/controls",
      "model_module_version": "1.5.0",
      "model_name": "SliderStyleModel",
      "state": {
       "description_width": ""
      }
     },
     "5b4793dd809746e6b4d3e8cc1e1523ec": {
      "model_module": "@jupyter-widgets/base",
      "model_module_version": "1.2.0",
      "model_name": "LayoutModel",
      "state": {}
     },
     "5b4d0118b1634606b450e2d2c23ecacf": {
      "model_module": "@jupyter-widgets/controls",
      "model_module_version": "1.5.0",
      "model_name": "HBoxModel",
      "state": {
       "children": [
        "IPY_MODEL_5ac0def64d8f43a08bdcfeb966e415dd",
        "IPY_MODEL_0dc991b7a83c45f0a16fd9caac1a3ed7",
        "IPY_MODEL_289af8f60e3c4013a566a63148f24aa7"
       ],
       "layout": "IPY_MODEL_d20a91db99894b9bbb520c1d79486acd"
      }
     },
     "5beff93fadc9440484d136f91113eda2": {
      "model_module": "@jupyter-widgets/controls",
      "model_module_version": "1.5.0",
      "model_name": "ButtonModel",
      "state": {
       "description": "Reset Compression Controls",
       "layout": "IPY_MODEL_b931c3047b5545079949fee3375f1728",
       "style": "IPY_MODEL_46a10895cc5f4b3f8f925e3125f9674c"
      }
     },
     "5bf1628357674ae48d5e5baa0fc2ee24": {
      "model_module": "@jupyter-widgets/controls",
      "model_module_version": "1.5.0",
      "model_name": "HBoxModel",
      "state": {
       "children": [
        "IPY_MODEL_64631a1a23df481e83983b7f996a65a4",
        "IPY_MODEL_e1aff159ebbf4af9a58f7de7267a9fed",
        "IPY_MODEL_3da538727b3f412eb88ff723dfd7740e"
       ],
       "layout": "IPY_MODEL_07f77f93485847dfbdd94cd014040e24"
      }
     },
     "5c4a1ca8cd6a442e83ff590816dfb9b7": {
      "model_module": "@jupyter-widgets/controls",
      "model_module_version": "1.5.0",
      "model_name": "SliderStyleModel",
      "state": {
       "description_width": ""
      }
     },
     "5c4bbdab4a154296bdb85ca2c66ea9b8": {
      "model_module": "@jupyter-widgets/controls",
      "model_module_version": "1.5.0",
      "model_name": "VBoxModel",
      "state": {
       "children": [
        "IPY_MODEL_6e22f61a7f6943608572e909d432a8de",
        "IPY_MODEL_97756053d76048188b8b719d31ad0f36",
        "IPY_MODEL_5286e6cb4531481ba42cca323e2b1bd8"
       ],
       "layout": "IPY_MODEL_5861fdc74eb44c64bc2ef7bfd0d523ba"
      }
     },
     "5c4c4e515eca4058ad16968a455eefe4": {
      "model_module": "@jupyter-widgets/controls",
      "model_module_version": "1.5.0",
      "model_name": "ButtonStyleModel",
      "state": {}
     },
     "5cad809290c642afa31e10b82730775d": {
      "model_module": "@jupyter-widgets/controls",
      "model_module_version": "1.5.0",
      "model_name": "TabModel",
      "state": {
       "_titles": {
        "0": "Global Controls",
        "1": "Viewer Controls",
        "2": "Protected Area Controls",
        "3": "Saturation Controls",
        "4": "Hue Controls"
       },
       "children": [
        "IPY_MODEL_11c75783b1e1441a9f998714d5b24909",
        "IPY_MODEL_c28a024143214e7b88b4891afebbda92",
        "IPY_MODEL_b3ebc9fed21947cb87df203c52be3514",
        "IPY_MODEL_0843691ede3a47499b6bc21348dfaff3",
        "IPY_MODEL_fb11cb2a7f804b36860c6e190c16a79b"
       ],
       "layout": "IPY_MODEL_2be36ce679594079ae3429903be0d8e0"
      }
     },
     "5cdc2b05574a451887eee06050707586": {
      "model_module": "@jupyter-widgets/controls",
      "model_module_version": "1.5.0",
      "model_name": "ButtonStyleModel",
      "state": {}
     },
     "5ce1be19535f48018a9b1ab2db928b5b": {
      "model_module": "@jupyter-widgets/base",
      "model_module_version": "1.2.0",
      "model_name": "LayoutModel",
      "state": {}
     },
     "5ced18a491be44c6ab49d69ece5f96dc": {
      "model_module": "@jupyter-widgets/output",
      "model_module_version": "1.0.0",
      "model_name": "OutputModel",
      "state": {
       "layout": "IPY_MODEL_761b1aea11eb4e69bd2b05049093cab4",
       "outputs": [
        {
         "data": {
          "application/vnd.jupyter.widget-view+json": {
           "model_id": "69ee909032dd435b83b77a72db6eb2c1",
           "version_major": 2,
           "version_minor": 0
          },
          "text/plain": "Canvas(toolbar=Toolbar(toolitems=[('Home', 'Reset original view', 'home', 'home'), ('Back', 'Back to previous …"
         },
         "metadata": {},
         "output_type": "display_data"
        }
       ]
      }
     },
     "5cf307f36258494da17d9c7b1540a516": {
      "model_module": "@jupyter-widgets/base",
      "model_module_version": "1.2.0",
      "model_name": "LayoutModel",
      "state": {
       "border": "solid 4px #222",
       "margin": "4px",
       "padding": "0"
      }
     },
     "5d41a39d35fa488d9d263e5447f51ed7": {
      "model_module": "@jupyter-widgets/base",
      "model_module_version": "1.2.0",
      "model_name": "LayoutModel",
      "state": {}
     },
     "5d55f7187d0641178731da9d44982cc9": {
      "model_module": "@jupyter-widgets/base",
      "model_module_version": "1.2.0",
      "model_name": "LayoutModel",
      "state": {}
     },
     "5d5e77c0bdfa47408f2946fed87ba218": {
      "model_module": "@jupyter-widgets/controls",
      "model_module_version": "1.5.0",
      "model_name": "HBoxModel",
      "state": {
       "children": [
        "IPY_MODEL_4044c066cecd4e54b4aae1bbc0dc81d5",
        "IPY_MODEL_e6f463e4129d4f43a7a931845975286e",
        "IPY_MODEL_e8446648769742bab42a1f39f0b37ad6"
       ],
       "layout": "IPY_MODEL_5502359a2ff54e0b9542f6e156ac7a9c"
      }
     },
     "5d64ee2925ba43709fc5586ea8292e79": {
      "model_module": "@jupyter-widgets/controls",
      "model_module_version": "1.5.0",
      "model_name": "FloatSliderModel",
      "state": {
       "description": "45°",
       "layout": "IPY_MODEL_c0641ddba5b342a1be1f60885809d625",
       "max": 1,
       "min": -1,
       "step": 0.01,
       "style": "IPY_MODEL_f821f0ef43b341dd892dc1584f880741"
      }
     },
     "5d761b37603544128ccb6d5836193bac": {
      "model_module": "@jupyter-widgets/base",
      "model_module_version": "1.2.0",
      "model_name": "LayoutModel",
      "state": {}
     },
     "5d93b39f5077470f9da34b31491b3b71": {
      "model_module": "@jupyter-widgets/controls",
      "model_module_version": "1.5.0",
      "model_name": "VBoxModel",
      "state": {
       "children": [
        "IPY_MODEL_8bb5e623a3064275aa405411518cc5d5"
       ],
       "layout": "IPY_MODEL_1b0d0a1467d4495cacfe533fe05d24d8"
      }
     },
     "5dae6b14d49e42948e97abee0594c956": {
      "model_module": "@jupyter-widgets/base",
      "model_module_version": "1.2.0",
      "model_name": "LayoutModel",
      "state": {}
     },
     "5ddc4930077e42de99d90fcc817f1ecc": {
      "model_module": "@jupyter-widgets/controls",
      "model_module_version": "1.5.0",
      "model_name": "DropdownModel",
      "state": {
       "_options_labels": [
        "tanh",
        "atan",
        "simple"
       ],
       "description": "Compression Function:",
       "index": 0,
       "layout": "IPY_MODEL_fe681b259b654cbbb0fa2c5a0dc24764",
       "style": "IPY_MODEL_9a591d4503c14c55b826c8f3551aaed4"
      }
     },
     "5e08cafbbb7549b38993903326504067": {
      "model_module": "@jupyter-widgets/base",
      "model_module_version": "1.2.0",
      "model_name": "LayoutModel",
      "state": {}
     },
     "5e65d7c5a41f48dcb01813d1595fe477": {
      "model_module": "@jupyter-widgets/controls",
      "model_module_version": "1.5.0",
      "model_name": "HBoxModel",
      "state": {
       "children": [
        "IPY_MODEL_02beb7bad0ce4317bc58e008ca83b3ee",
        "IPY_MODEL_3f0cf6865ee44ff4bed6283085559ca2",
        "IPY_MODEL_be82b64f21e640bbb4589ae30e09b528"
       ],
       "layout": "IPY_MODEL_80d08bae4b5840fb8cdcef09d94a7e9d"
      }
     },
     "5e88b053c2ba41039e904bc227480e62": {
      "model_module": "@jupyter-widgets/controls",
      "model_module_version": "1.5.0",
      "model_name": "ButtonModel",
      "state": {
       "description": "Save Figure",
       "layout": "IPY_MODEL_212d2434761a4fbd8e19651395fb3619",
       "style": "IPY_MODEL_df06e3a9ee7940ec8e5ca87cbf551ea6"
      }
     },
     "5e902d875ba34cea9b5ea1fe2dd47482": {
      "model_module": "@jupyter-widgets/base",
      "model_module_version": "1.2.0",
      "model_name": "LayoutModel",
      "state": {}
     },
     "5e9ef7b0036c455c87f027e9d0b1a888": {
      "model_module": "@jupyter-widgets/controls",
      "model_module_version": "1.5.0",
      "model_name": "HBoxModel",
      "state": {
       "children": [
        "IPY_MODEL_681258933dfd411aa983ee6a6849a43c",
        "IPY_MODEL_0f0c06ea734940d980e0a8cf09a733f7",
        "IPY_MODEL_f76b9beace104421a38e3844520174bd"
       ],
       "layout": "IPY_MODEL_10cb63a9ba084e25a612ea5b183cf615"
      }
     },
     "5ea9c7165ef9494ea02fa71591e018f0": {
      "model_module": "@jupyter-widgets/controls",
      "model_module_version": "1.5.0",
      "model_name": "SliderStyleModel",
      "state": {
       "description_width": ""
      }
     },
     "5ecea639f57a47fc9aaa359cf1f8a4a4": {
      "model_module": "@jupyter-widgets/base",
      "model_module_version": "1.2.0",
      "model_name": "LayoutModel",
      "state": {}
     },
     "5eeeb7a9520d4f868d4f8b9e2056af5b": {
      "model_module": "@jupyter-widgets/base",
      "model_module_version": "1.2.0",
      "model_name": "LayoutModel",
      "state": {}
     },
     "5f0c2085fff74492af92d3a6cb09081d": {
      "model_module": "@jupyter-widgets/controls",
      "model_module_version": "1.5.0",
      "model_name": "FloatSliderModel",
      "state": {
       "description": "Compression Threshold",
       "layout": "IPY_MODEL_f917e7ec8a3747fcb29e7c27863e13bf",
       "max": 1,
       "step": 0.01,
       "style": "IPY_MODEL_d404f417fae445709ed1db7db4af394e",
       "value": 0.8
      }
     },
     "5f4f462d12d1414bbacfd1c1e504dd57": {
      "model_module": "@jupyter-widgets/base",
      "model_module_version": "1.2.0",
      "model_name": "LayoutModel",
      "state": {}
     },
     "5f7365efcbdc4475950d6b76dfcb37aa": {
      "model_module": "@jupyter-widgets/base",
      "model_module_version": "1.2.0",
      "model_name": "LayoutModel",
      "state": {}
     },
     "6008504e966d4e29a9d0d77cd658d3a9": {
      "model_module": "@jupyter-widgets/base",
      "model_module_version": "1.2.0",
      "model_name": "LayoutModel",
      "state": {}
     },
     "6029e84d94d54615a0e4cbf7f2b1752d": {
      "model_module": "@jupyter-widgets/controls",
      "model_module_version": "1.5.0",
      "model_name": "ButtonModel",
      "state": {
       "description": "Reset Exposure",
       "layout": "IPY_MODEL_56ee143385f843ed84667a7211a03d5a",
       "style": "IPY_MODEL_b3e6095707eb4c7f8af3945ff2c75d0c"
      }
     },
     "604667c9463042668a5a449ef0a689d9": {
      "model_module": "@jupyter-widgets/controls",
      "model_module_version": "1.5.0",
      "model_name": "SliderStyleModel",
      "state": {
       "description_width": ""
      }
     },
     "6050c820e2e24b50978075b5964727ec": {
      "model_module": "@jupyter-widgets/base",
      "model_module_version": "1.2.0",
      "model_name": "LayoutModel",
      "state": {}
     },
     "606358ea7ff14e6ead511974f8687ede": {
      "model_module": "@jupyter-widgets/controls",
      "model_module_version": "1.5.0",
      "model_name": "FloatSliderModel",
      "state": {
       "description": "Exposure",
       "layout": "IPY_MODEL_270f53f6519149228b365b76cf09679f",
       "max": 8,
       "min": -8,
       "step": 0.1,
       "style": "IPY_MODEL_5ea9c7165ef9494ea02fa71591e018f0"
      }
     },
     "606d146a32ad44f5add705aad83dd7e3": {
      "model_module": "@jupyter-widgets/controls",
      "model_module_version": "1.5.0",
      "model_name": "SliderStyleModel",
      "state": {
       "description_width": ""
      }
     },
     "607a24e63d7d402aafdfadf0010f2849": {
      "model_module": "@jupyter-widgets/controls",
      "model_module_version": "1.5.0",
      "model_name": "SliderStyleModel",
      "state": {
       "description_width": ""
      }
     },
     "6082a7c135c04d51959e0f7d493edd76": {
      "model_module": "@jupyter-widgets/controls",
      "model_module_version": "1.5.0",
      "model_name": "DescriptionStyleModel",
      "state": {
       "description_width": ""
      }
     },
     "6084adbb594f46ddb0b742170b88b6b3": {
      "model_module": "@jupyter-widgets/controls",
      "model_module_version": "1.5.0",
      "model_name": "DescriptionStyleModel",
      "state": {
       "description_width": ""
      }
     },
     "60ce65f0d11c4857b7bf7a858069a150": {
      "model_module": "@jupyter-widgets/base",
      "model_module_version": "1.2.0",
      "model_name": "LayoutModel",
      "state": {}
     },
     "60e9715a6f414eaf81c2aa142d155379": {
      "model_module": "@jupyter-widgets/controls",
      "model_module_version": "1.5.0",
      "model_name": "ButtonModel",
      "state": {
       "description": "Save Figure",
       "layout": "IPY_MODEL_7efce97637454cb38d65f8a92abb71ab",
       "style": "IPY_MODEL_c353084b76224fedab6ef6ba8f5fecca"
      }
     },
     "617f914514724452ad57119f1856fac4": {
      "model_module": "@jupyter-widgets/controls",
      "model_module_version": "1.5.0",
      "model_name": "HBoxModel",
      "state": {
       "children": [
        "IPY_MODEL_a1e6a8a1900b4a49a9c5fc14a14b5077",
        "IPY_MODEL_760690fe45f446df96db22004ad3ce9b",
        "IPY_MODEL_6df9da918b7f4787b90b111f0d505bf7"
       ],
       "layout": "IPY_MODEL_38dabaa41d7b44e2b834d87c21e61470"
      }
     },
     "61b65c39882e4fb185649a9f1173899a": {
      "model_module": "@jupyter-widgets/controls",
      "model_module_version": "1.5.0",
      "model_name": "ButtonModel",
      "state": {
       "description": "Save Figure",
       "layout": "IPY_MODEL_8a34d19792d84b7191721468d105e377",
       "style": "IPY_MODEL_163bfc2ac2e3480a87e42bf369739e8d"
      }
     },
     "61bfb08ffa924183a20b849fe454cc69": {
      "model_module": "@jupyter-widgets/controls",
      "model_module_version": "1.5.0",
      "model_name": "SliderStyleModel",
      "state": {
       "description_width": ""
      }
     },
     "61df91d8f26e42fc9e8b7b8d7e039cca": {
      "model_module": "@jupyter-widgets/base",
      "model_module_version": "1.2.0",
      "model_name": "LayoutModel",
      "state": {}
     },
     "6223201374b34bca8208a9a0e3a90e30": {
      "model_module": "@jupyter-widgets/base",
      "model_module_version": "1.2.0",
      "model_name": "LayoutModel",
      "state": {}
     },
     "625a5c3740454814ba285ffd18d18704": {
      "model_module": "@jupyter-widgets/controls",
      "model_module_version": "1.5.0",
      "model_name": "SliderStyleModel",
      "state": {
       "description_width": ""
      }
     },
     "625c13f160c240e58ea2eb8b28b873ae": {
      "model_module": "@jupyter-widgets/controls",
      "model_module_version": "1.5.0",
      "model_name": "HBoxModel",
      "state": {
       "children": [
        "IPY_MODEL_12d2671dc9d74d7096d56680d037de02",
        "IPY_MODEL_7bf8a2a18602408697f6419f7048ca23",
        "IPY_MODEL_60e9715a6f414eaf81c2aa142d155379"
       ],
       "layout": "IPY_MODEL_17170612f7064bbe948f77dc31bc4a7f"
      }
     },
     "62976d65c6484c6aaa08b944e5d76953": {
      "model_module": "@jupyter-widgets/base",
      "model_module_version": "1.2.0",
      "model_name": "LayoutModel",
      "state": {}
     },
     "62b5e7847c7543a18c20a8e165010fae": {
      "model_module": "@jupyter-widgets/controls",
      "model_module_version": "1.5.0",
      "model_name": "SliderStyleModel",
      "state": {
       "description_width": ""
      }
     },
     "62d692fb9e8741cf95626a49de964c98": {
      "model_module": "@jupyter-widgets/base",
      "model_module_version": "1.2.0",
      "model_name": "LayoutModel",
      "state": {}
     },
     "63075dad89884d91b2211bf8ee7fb70d": {
      "model_module": "@jupyter-widgets/controls",
      "model_module_version": "1.5.0",
      "model_name": "DropdownModel",
      "state": {
       "_options_labels": [
        "tanh",
        "atan",
        "simple"
       ],
       "description": "Compression Function:",
       "index": 0,
       "layout": "IPY_MODEL_4b0a339129734f378b20d6ea626731ac",
       "style": "IPY_MODEL_7af23aeaa31a47c290792def57ffce90"
      }
     },
     "63321934ec164e6dadcfac8678e303df": {
      "model_module": "@jupyter-widgets/controls",
      "model_module_version": "1.5.0",
      "model_name": "TabModel",
      "state": {
       "_titles": {
        "0": "Global Controls",
        "1": "Viewer Controls",
        "2": "Protected Area Controls",
        "3": "Saturation Controls",
        "4": "Hue Controls"
       },
       "children": [
        "IPY_MODEL_be6c9498fd2c4ec5b32d2b84de9fded0",
        "IPY_MODEL_565d77fc33374c7488949bd34e301874",
        "IPY_MODEL_217d007c4cd0433b9fff156ce849b7e8",
        "IPY_MODEL_d9f13f3c3f4d4279ba25cc52d7fb9971",
        "IPY_MODEL_3bfa524e8d794a209fbc697bbd53933a"
       ],
       "layout": "IPY_MODEL_0b254f151c004a5389ef132c3a558b57"
      }
     },
     "633cf272a65d4ad39940a89e772b1c21": {
      "model_module": "@jupyter-widgets/controls",
      "model_module_version": "1.5.0",
      "model_name": "FloatSliderModel",
      "state": {
       "description": "225°",
       "layout": "IPY_MODEL_b7fdf2783d8146f0859f32a75443fe24",
       "max": 1,
       "min": -1,
       "step": 0.01,
       "style": "IPY_MODEL_4ceb3dd227bf4236a151b2dd668c9abc"
      }
     },
     "634c3458f2164fcdb2b3ca2ce116e79f": {
      "model_module": "@jupyter-widgets/controls",
      "model_module_version": "1.5.0",
      "model_name": "FloatSliderModel",
      "state": {
       "description": "Exposure",
       "layout": "IPY_MODEL_5e08cafbbb7549b38993903326504067",
       "max": 8,
       "min": -8,
       "step": 0.1,
       "style": "IPY_MODEL_bbcc69781fc147f9b0a85792bc809ded"
      }
     },
     "637010b2618e4f31b5d449e43d5071e2": {
      "model_module": "@jupyter-widgets/controls",
      "model_module_version": "1.5.0",
      "model_name": "FloatSliderModel",
      "state": {
       "description": "0°",
       "layout": "IPY_MODEL_ae9e67f81fa14dc6ae70f0546d907d07",
       "max": 1,
       "min": -1,
       "step": 0.01,
       "style": "IPY_MODEL_738e0b99e2514bd5a1ae8e1d9f9262af"
      }
     },
     "639beff4bf5b48bda1423b01b4c74dd6": {
      "model_module": "@jupyter-widgets/base",
      "model_module_version": "1.2.0",
      "model_name": "LayoutModel",
      "state": {}
     },
     "63a44738df574114ad1c004a61972bf0": {
      "model_module": "@jupyter-widgets/controls",
      "model_module_version": "1.5.0",
      "model_name": "DescriptionStyleModel",
      "state": {
       "description_width": ""
      }
     },
     "63acf57caa764e6db608a6b3c6aa2c97": {
      "model_module": "@jupyter-widgets/controls",
      "model_module_version": "1.5.0",
      "model_name": "ButtonStyleModel",
      "state": {}
     },
     "63c8b94ff6c7439382824e76403fdff6": {
      "model_module": "@jupyter-widgets/base",
      "model_module_version": "1.2.0",
      "model_name": "LayoutModel",
      "state": {
       "align_items": "stretch",
       "display": "flex",
       "flex_flow": "column",
       "width": "1128px"
      }
     },
     "64129d5742b342bbbbaabd1fc0099213": {
      "model_module": "@jupyter-widgets/base",
      "model_module_version": "1.2.0",
      "model_name": "LayoutModel",
      "state": {}
     },
     "642c036d46f04269894dc5b000cfd97a": {
      "model_module": "@jupyter-widgets/controls",
      "model_module_version": "1.5.0",
      "model_name": "VBoxModel",
      "state": {
       "children": [
        "IPY_MODEL_fb1f2e7192584ad6afbbce1688037a08",
        "IPY_MODEL_5362fdf4f8d147e685c6c0d741a44ce7",
        "IPY_MODEL_633cf272a65d4ad39940a89e772b1c21"
       ],
       "layout": "IPY_MODEL_ac90872ff0ef4db88c8ab647d6344ca9"
      }
     },
     "64631a1a23df481e83983b7f996a65a4": {
      "model_module": "@jupyter-widgets/controls",
      "model_module_version": "1.5.0",
      "model_name": "CheckboxModel",
      "state": {
       "description": "Disable Medicina",
       "disabled": false,
       "layout": "IPY_MODEL_bcd739d08bf64b5493971e6913c7678d",
       "style": "IPY_MODEL_b5033becc5ce416d9ca032a58c084ffd",
       "value": false
      }
     },
     "647a26377e2f419ea6ad3c3297603bbb": {
      "model_module": "@jupyter-widgets/controls",
      "model_module_version": "1.5.0",
      "model_name": "HBoxModel",
      "state": {
       "children": [
        "IPY_MODEL_1c8895502731439a8fad95749aa2fdda",
        "IPY_MODEL_e33a7597f5d24d008931bc0db93eab83",
        "IPY_MODEL_378238383fa4460bb946444a02fecc4f"
       ],
       "layout": "IPY_MODEL_717fbcc407174707beed891883f562be"
      }
     },
     "6485b6bb1205461f88f3afc60bd48a5c": {
      "model_module": "@jupyter-widgets/base",
      "model_module_version": "1.2.0",
      "model_name": "LayoutModel",
      "state": {}
     },
     "648cf566daad44618d18b9f98075f3e7": {
      "model_module": "@jupyter-widgets/base",
      "model_module_version": "1.2.0",
      "model_name": "LayoutModel",
      "state": {}
     },
     "64a1d21413234d93bd4ca1365a8123ea": {
      "model_module": "@jupyter-widgets/base",
      "model_module_version": "1.2.0",
      "model_name": "LayoutModel",
      "state": {}
     },
     "64c7868c17c5454dad0e83341f17186b": {
      "model_module": "@jupyter-widgets/controls",
      "model_module_version": "1.5.0",
      "model_name": "ButtonModel",
      "state": {
       "description": "Reset Exposure",
       "layout": "IPY_MODEL_6a4a32a2381f4db199787ecc1483c429",
       "style": "IPY_MODEL_8d0a9858998b425198c881d64a5cf5b8"
      }
     },
     "64dbc01176a447928e872380e5fe0890": {
      "model_module": "@jupyter-widgets/base",
      "model_module_version": "1.2.0",
      "model_name": "LayoutModel",
      "state": {}
     },
     "6543a55a90f340f2bf3566030cc8c46e": {
      "model_module": "@jupyter-widgets/controls",
      "model_module_version": "1.5.0",
      "model_name": "ButtonModel",
      "state": {
       "description": "Reset Saturation Controls",
       "layout": "IPY_MODEL_d8fd2571badc416a80b195959124fbe8",
       "style": "IPY_MODEL_f9fc9f748ef9481e9fdb46400e4d5c8e"
      }
     },
     "655cb3b352224cd9a285b6061974f57f": {
      "model_module": "@jupyter-widgets/controls",
      "model_module_version": "1.5.0",
      "model_name": "SliderStyleModel",
      "state": {
       "description_width": ""
      }
     },
     "656372b4e14c41a69c9be1949493c48d": {
      "model_module": "@jupyter-widgets/controls",
      "model_module_version": "1.5.0",
      "model_name": "SliderStyleModel",
      "state": {
       "description_width": ""
      }
     },
     "6577904a5c81480594ede4af4e25701b": {
      "model_module": "@jupyter-widgets/base",
      "model_module_version": "1.2.0",
      "model_name": "LayoutModel",
      "state": {}
     },
     "65b2b95ac3b14749a662ac5430def4e9": {
      "model_module": "@jupyter-widgets/controls",
      "model_module_version": "1.5.0",
      "model_name": "ButtonStyleModel",
      "state": {}
     },
     "65c048584a944b02a68c6980d80619dc": {
      "model_module": "@jupyter-widgets/controls",
      "model_module_version": "1.5.0",
      "model_name": "ButtonModel",
      "state": {
       "description": "Save Figure",
       "layout": "IPY_MODEL_c06ea671543f40b8a0e47a229c22ba64",
       "style": "IPY_MODEL_153e4426f4714d55939e4280fa663ab3"
      }
     },
     "65c9b64de9404f88bbf222b5b066f5c3": {
      "model_module": "@jupyter-widgets/base",
      "model_module_version": "1.2.0",
      "model_name": "LayoutModel",
      "state": {}
     },
     "65e513bbb5144c93a1197ceb9e68cad5": {
      "model_module": "@jupyter-widgets/controls",
      "model_module_version": "1.5.0",
      "model_name": "DescriptionStyleModel",
      "state": {
       "description_width": ""
      }
     },
     "65e872fec9ea44bca6503ec0f8dfb509": {
      "model_module": "@jupyter-widgets/base",
      "model_module_version": "1.2.0",
      "model_name": "LayoutModel",
      "state": {}
     },
     "665524887cee49bc88e39d35332b5333": {
      "model_module": "@jupyter-widgets/base",
      "model_module_version": "1.2.0",
      "model_name": "LayoutModel",
      "state": {}
     },
     "66a1c7afdb1746d08f5415723d30bd29": {
      "model_module": "@jupyter-widgets/base",
      "model_module_version": "1.2.0",
      "model_name": "LayoutModel",
      "state": {}
     },
     "66bbd033a6374723b434156f5d8f6dc2": {
      "model_module": "@jupyter-widgets/base",
      "model_module_version": "1.2.0",
      "model_name": "LayoutModel",
      "state": {}
     },
     "66c8e7937c9a46538848002d42265b82": {
      "model_module": "@jupyter-widgets/controls",
      "model_module_version": "1.5.0",
      "model_name": "FloatSliderModel",
      "state": {
       "description": "Compression Threshold",
       "layout": "IPY_MODEL_1fde657356364b26833b7965d5559c2d",
       "max": 1,
       "step": 0.01,
       "style": "IPY_MODEL_b79611cd34534c80b461137fb25c3933",
       "value": 0.5
      }
     },
     "66cbc8147ff04e76a384b534650ee0e9": {
      "model_module": "@jupyter-widgets/controls",
      "model_module_version": "1.5.0",
      "model_name": "DescriptionStyleModel",
      "state": {
       "description_width": ""
      }
     },
     "66e6ecc8924841a0bd840775ea4afc65": {
      "model_module": "@jupyter-widgets/controls",
      "model_module_version": "1.5.0",
      "model_name": "SliderStyleModel",
      "state": {
       "description_width": ""
      }
     },
     "6710b3fa720a464fa2c84c28adaabdd0": {
      "model_module": "@jupyter-widgets/base",
      "model_module_version": "1.2.0",
      "model_name": "LayoutModel",
      "state": {
       "border": "solid 4px #222",
       "margin": "4px",
       "padding": "0"
      }
     },
     "67111c9340f84a1e96cdfb0645d75247": {
      "model_module": "@jupyter-widgets/base",
      "model_module_version": "1.2.0",
      "model_name": "LayoutModel",
      "state": {}
     },
     "6711bcd3bf7847dda4cfccf8573eca8e": {
      "model_module": "@jupyter-widgets/controls",
      "model_module_version": "1.5.0",
      "model_name": "HBoxModel",
      "state": {
       "children": [
        "IPY_MODEL_e2e1d4eba78848ca9cfce8c49fafca7b",
        "IPY_MODEL_532d4b91e6e94ad68648a438b2f6fe47",
        "IPY_MODEL_8c55e9a045714aeca8a3defbfb50b664",
        "IPY_MODEL_db4fc0b30cfb4ac9a513624c89a7553f"
       ],
       "layout": "IPY_MODEL_ae3ec8ee0a854a5fbaa0a12e2fed1186"
      }
     },
     "673b132805dc430089d10b20382a553c": {
      "model_module": "@jupyter-widgets/base",
      "model_module_version": "1.2.0",
      "model_name": "LayoutModel",
      "state": {}
     },
     "67467f6937ff4b408f19881add89b5f3": {
      "model_module": "@jupyter-widgets/base",
      "model_module_version": "1.2.0",
      "model_name": "LayoutModel",
      "state": {}
     },
     "6777f5d05917400480e088d803bfa136": {
      "model_module": "@jupyter-widgets/base",
      "model_module_version": "1.2.0",
      "model_name": "LayoutModel",
      "state": {}
     },
     "67a7511cc31b4fa49147ad56cb7a79d0": {
      "model_module": "@jupyter-widgets/base",
      "model_module_version": "1.2.0",
      "model_name": "LayoutModel",
      "state": {}
     },
     "67de70da6a6142b798067eabd096402f": {
      "model_module": "@jupyter-widgets/controls",
      "model_module_version": "1.5.0",
      "model_name": "FloatSliderModel",
      "state": {
       "description": "Compression Threshold",
       "layout": "IPY_MODEL_08fa7ab891d64ad58332231e32c96b85",
       "max": 1,
       "step": 0.01,
       "style": "IPY_MODEL_3945d584907a46199a681b6be00d34a1",
       "value": 0.8
      }
     },
     "67e5ca8f3d714f6a8908432ec0e7809a": {
      "model_module": "@jupyter-widgets/base",
      "model_module_version": "1.2.0",
      "model_name": "LayoutModel",
      "state": {}
     },
     "67f4046aaa174d46becc59d72fd36d56": {
      "model_module": "@jupyter-widgets/controls",
      "model_module_version": "1.5.0",
      "model_name": "ButtonModel",
      "state": {
       "description": "Export Image",
       "layout": "IPY_MODEL_4b8f7c6e4a2d4c97a8a5cd7a8d0cb987",
       "style": "IPY_MODEL_6f62d0421b9b42c08b04a48a74c7a542"
      }
     },
     "67f44bf3962a4d3983f844e03df1c2f1": {
      "model_module": "@jupyter-widgets/base",
      "model_module_version": "1.2.0",
      "model_name": "LayoutModel",
      "state": {}
     },
     "6802ddaeeddc4bc5a03939f2d2c8b0c0": {
      "model_module": "@jupyter-widgets/controls",
      "model_module_version": "1.5.0",
      "model_name": "SliderStyleModel",
      "state": {
       "description_width": ""
      }
     },
     "681258933dfd411aa983ee6a6849a43c": {
      "model_module": "@jupyter-widgets/controls",
      "model_module_version": "1.5.0",
      "model_name": "ButtonModel",
      "state": {
       "description": "Reset Saturation Controls",
       "layout": "IPY_MODEL_8d3827d177654b32b4416280914e6b5a",
       "style": "IPY_MODEL_44eb3e2cea5c4967b00dd9cf0874eba9"
      }
     },
     "684ecf03088b4b70bc473eabb9f4b88e": {
      "model_module": "@jupyter-widgets/output",
      "model_module_version": "1.0.0",
      "model_name": "OutputModel",
      "state": {
       "layout": "IPY_MODEL_45d6153b0c4e4c40ace6851e9a233a33",
       "outputs": [
        {
         "data": {
          "application/vnd.jupyter.widget-view+json": {
           "model_id": "87928a7ca34749c6a5006aee81c701bb",
           "version_major": 2,
           "version_minor": 0
          },
          "text/plain": "Canvas(toolbar=Toolbar(toolitems=[('Home', 'Reset original view', 'home', 'home'), ('Back', 'Back to previous …"
         },
         "metadata": {},
         "output_type": "display_data"
        }
       ]
      }
     },
     "6854fb2d8b104ea9ad5c2131295fea63": {
      "model_module": "@jupyter-widgets/controls",
      "model_module_version": "1.5.0",
      "model_name": "ButtonStyleModel",
      "state": {}
     },
     "68a614adfbe641829d3e9d0650396a84": {
      "model_module": "@jupyter-widgets/base",
      "model_module_version": "1.2.0",
      "model_name": "LayoutModel",
      "state": {}
     },
     "68dd0cfc050b46e98c21002e329051b1": {
      "model_module": "@jupyter-widgets/controls",
      "model_module_version": "1.5.0",
      "model_name": "FloatSliderModel",
      "state": {
       "description": "225°",
       "layout": "IPY_MODEL_043c894d574449039ba9eeb35225b92c",
       "max": 1,
       "min": -1,
       "step": 0.01,
       "style": "IPY_MODEL_96f4e9ff905b47e58edb415e4e759b87"
      }
     },
     "699841c0207248c0a8b21ac0ac7d02fb": {
      "model_module": "@jupyter-widgets/controls",
      "model_module_version": "1.5.0",
      "model_name": "ButtonStyleModel",
      "state": {}
     },
     "69ee909032dd435b83b77a72db6eb2c1": {
      "model_module": "jupyter-matplotlib",
      "model_module_version": "^0.7.2",
      "model_name": "MPLCanvasModel",
      "state": {
       "_figure_label": "Figure 22",
       "_height": 396,
       "_width": 1100,
       "header_visible": false,
       "layout": "IPY_MODEL_a468742cb81d4fc096e593d6f42710fe",
       "resizable": false,
       "toolbar": "IPY_MODEL_833787af5f2748f8bbc780f9be0e01c1",
       "toolbar_position": "left",
       "toolbar_visible": false
      }
     },
     "6a031a0b97bd44b38a03838a9558c741": {
      "model_module": "@jupyter-widgets/controls",
      "model_module_version": "1.5.0",
      "model_name": "SliderStyleModel",
      "state": {
       "description_width": ""
      }
     },
     "6a2d0a149a934959839530fff9d40cd8": {
      "model_module": "@jupyter-widgets/controls",
      "model_module_version": "1.5.0",
      "model_name": "SliderStyleModel",
      "state": {
       "description_width": ""
      }
     },
     "6a4a32a2381f4db199787ecc1483c429": {
      "model_module": "@jupyter-widgets/base",
      "model_module_version": "1.2.0",
      "model_name": "LayoutModel",
      "state": {}
     },
     "6a5254e966d04e16a8558d742c495a1a": {
      "model_module": "jupyter-matplotlib",
      "model_module_version": "^0.7.2",
      "model_name": "MPLCanvasModel",
      "state": {
       "_figure_label": "Figure 9",
       "_height": 458,
       "_width": 1099,
       "header_visible": false,
       "layout": "IPY_MODEL_76a018bd3a574d3490d4bab0ffa09509",
       "resizable": false,
       "toolbar": "IPY_MODEL_94a923957f59492cbe9b0d6845ae7431",
       "toolbar_position": "left",
       "toolbar_visible": false
      }
     },
     "6a6e2a899d724188aff02609daa4e9a3": {
      "model_module": "@jupyter-widgets/controls",
      "model_module_version": "1.5.0",
      "model_name": "VBoxModel",
      "state": {
       "children": [
        "IPY_MODEL_868742a385e04d2c87e2e02252fc0661",
        "IPY_MODEL_07b962bd727042df915f6dcec0151182"
       ],
       "layout": "IPY_MODEL_8b6c788f4e2f49b4ac195cf1be3c5794"
      }
     },
     "6a7c92895111407dbf56d260265a4817": {
      "model_module": "jupyter-matplotlib",
      "model_module_version": "^0.7.2",
      "model_name": "ToolbarModel",
      "state": {
       "layout": "IPY_MODEL_55f172899a3b4e8993fba7f6e3706e5e",
       "toolitems": [
        [
         "Home",
         "Reset original view",
         "home",
         "home"
        ],
        [
         "Back",
         "Back to previous view",
         "arrow-left",
         "back"
        ],
        [
         "Forward",
         "Forward to next view",
         "arrow-right",
         "forward"
        ],
        [
         "Pan",
         "Pan axes with left mouse, zoom with right",
         "arrows",
         "pan"
        ],
        [
         "Zoom",
         "Zoom to rectangle",
         "square-o",
         "zoom"
        ],
        [
         "Download",
         "Download plot",
         "floppy-o",
         "save_figure"
        ]
       ]
      }
     },
     "6a925c67a00344eaa5de899af0c79003": {
      "model_module": "@jupyter-widgets/controls",
      "model_module_version": "1.5.0",
      "model_name": "ButtonModel",
      "state": {
       "description": "Export Image",
       "layout": "IPY_MODEL_a72ec06d5e8d44918cebef18d63718a3",
       "style": "IPY_MODEL_df18138a1a874f389bb365bb70f05df3"
      }
     },
     "6aa3ee5eba474637ae5902c54b8e652f": {
      "model_module": "@jupyter-widgets/base",
      "model_module_version": "1.2.0",
      "model_name": "LayoutModel",
      "state": {}
     },
     "6ac4ddea74c548b9b52ae4e4d0959cd1": {
      "model_module": "@jupyter-widgets/base",
      "model_module_version": "1.2.0",
      "model_name": "LayoutModel",
      "state": {}
     },
     "6af77ff7bc574da589f745a347b223c0": {
      "model_module": "jupyter-matplotlib",
      "model_module_version": "^0.7.2",
      "model_name": "ToolbarModel",
      "state": {
       "layout": "IPY_MODEL_d86dc44e5e8247ce939914bfb3ef03d0",
       "toolitems": [
        [
         "Home",
         "Reset original view",
         "home",
         "home"
        ],
        [
         "Back",
         "Back to previous view",
         "arrow-left",
         "back"
        ],
        [
         "Forward",
         "Forward to next view",
         "arrow-right",
         "forward"
        ],
        [
         "Pan",
         "Pan axes with left mouse, zoom with right",
         "arrows",
         "pan"
        ],
        [
         "Zoom",
         "Zoom to rectangle",
         "square-o",
         "zoom"
        ],
        [
         "Download",
         "Download plot",
         "floppy-o",
         "save_figure"
        ]
       ]
      }
     },
     "6b2f4bab7ebc45628495d7cf874e4a5f": {
      "model_module": "@jupyter-widgets/controls",
      "model_module_version": "1.5.0",
      "model_name": "FloatSliderModel",
      "state": {
       "description": "270°",
       "layout": "IPY_MODEL_8585fc2510de47799b1599ab1417b39b",
       "max": 1,
       "min": -1,
       "step": 0.01,
       "style": "IPY_MODEL_d470bb25478249a089737b48549c57b2"
      }
     },
     "6b3521f955c4404298a556161d26a147": {
      "model_module": "@jupyter-widgets/controls",
      "model_module_version": "1.5.0",
      "model_name": "FloatSliderModel",
      "state": {
       "description": "Exposure",
       "layout": "IPY_MODEL_eb2e1baf32a1414ba47cf92dd4393d56",
       "max": 8,
       "min": -8,
       "step": 0.1,
       "style": "IPY_MODEL_2ead3a72e0624104aa81eddfac98d49a"
      }
     },
     "6b40b50cf4524bd98fabc8c65c2a73fc": {
      "model_module": "@jupyter-widgets/base",
      "model_module_version": "1.2.0",
      "model_name": "LayoutModel",
      "state": {}
     },
     "6b5cb96a84a14906b9ae31e66b08a304": {
      "model_module": "@jupyter-widgets/controls",
      "model_module_version": "1.5.0",
      "model_name": "DescriptionStyleModel",
      "state": {
       "description_width": ""
      }
     },
     "6b8da38226fa4a7485050ce97e1b42a6": {
      "model_module": "@jupyter-widgets/controls",
      "model_module_version": "1.5.0",
      "model_name": "ButtonModel",
      "state": {
       "description": "Save Figure",
       "layout": "IPY_MODEL_b302d31cb7644dc6a390df4f848a962c",
       "style": "IPY_MODEL_2374198ccdab444f813511186d1f9343"
      }
     },
     "6ba72de682a04103aa81e8a19c58d5a2": {
      "model_module": "@jupyter-widgets/base",
      "model_module_version": "1.2.0",
      "model_name": "LayoutModel",
      "state": {}
     },
     "6bf1f0533d374e35b3cf6a0277ac065b": {
      "model_module": "@jupyter-widgets/base",
      "model_module_version": "1.2.0",
      "model_name": "LayoutModel",
      "state": {}
     },
     "6bf34ce5a85b4bfca1b075ef360813bf": {
      "model_module": "@jupyter-widgets/controls",
      "model_module_version": "1.5.0",
      "model_name": "ButtonStyleModel",
      "state": {}
     },
     "6c166ce91afa4a38a3ef9081cea09bf2": {
      "model_module": "@jupyter-widgets/controls",
      "model_module_version": "1.5.0",
      "model_name": "SliderStyleModel",
      "state": {
       "description_width": ""
      }
     },
     "6c2c07552f13442b82723b3b48464431": {
      "model_module": "@jupyter-widgets/base",
      "model_module_version": "1.2.0",
      "model_name": "LayoutModel",
      "state": {}
     },
     "6c39594fd8454c37b7efad3666b455cb": {
      "model_module": "@jupyter-widgets/controls",
      "model_module_version": "1.5.0",
      "model_name": "HBoxModel",
      "state": {
       "children": [
        "IPY_MODEL_e07f5772244f45b99a1a942d300e1536",
        "IPY_MODEL_f5c679a5185146bc99477d369bd5d373",
        "IPY_MODEL_7ba6e9007a284ae09d1c58718e57a323",
        "IPY_MODEL_2a102d4651004e0ba890cb8aeca62a39"
       ],
       "layout": "IPY_MODEL_f93f59aca38b44938c464a6f03058aa9"
      }
     },
     "6c3bc33b6ea340b7b16f9d36cde8d505": {
      "model_module": "@jupyter-widgets/controls",
      "model_module_version": "1.5.0",
      "model_name": "SliderStyleModel",
      "state": {
       "description_width": ""
      }
     },
     "6c830beabae74b97b9b5fbc891bf0ac7": {
      "model_module": "@jupyter-widgets/controls",
      "model_module_version": "1.5.0",
      "model_name": "ButtonModel",
      "state": {
       "description": "Reset Exposure",
       "layout": "IPY_MODEL_00ef0e2f603749e88f1aa576f40079b2",
       "style": "IPY_MODEL_06d6dcffaa8849639bb6db29a2b9fe44"
      }
     },
     "6c90aef343ec4e5c8d3a581f58534cba": {
      "model_module": "@jupyter-widgets/controls",
      "model_module_version": "1.5.0",
      "model_name": "FloatSliderModel",
      "state": {
       "description": "Protected Area Threshold",
       "layout": "IPY_MODEL_34115f2ae0fd4a4cb9220efb4ce3a81f",
       "max": 1,
       "step": 0.01,
       "style": "IPY_MODEL_494f70076c5148b3b372b8cd39ce9159",
       "value": 0.7
      }
     },
     "6c939d096d0b4acb95ccb40c2e8db319": {
      "model_module": "@jupyter-widgets/base",
      "model_module_version": "1.2.0",
      "model_name": "LayoutModel",
      "state": {}
     },
     "6cd2a51b22434d2a903d888d85c80ec4": {
      "model_module": "@jupyter-widgets/controls",
      "model_module_version": "1.5.0",
      "model_name": "HBoxModel",
      "state": {
       "children": [
        "IPY_MODEL_1235ac49d20348cd96451adcdc8621de",
        "IPY_MODEL_9b1e633559be4dc4ab44860adb3988fe",
        "IPY_MODEL_1873d3ff943b44038a77cd74c0908e8a"
       ],
       "layout": "IPY_MODEL_399f918e13b74e1690780d480c8a45d6"
      }
     },
     "6d33280c52414d36b55abfbe7b24ad84": {
      "model_module": "@jupyter-widgets/base",
      "model_module_version": "1.2.0",
      "model_name": "LayoutModel",
      "state": {}
     },
     "6d62242a423e4086b298aade848261f1": {
      "model_module": "@jupyter-widgets/controls",
      "model_module_version": "1.5.0",
      "model_name": "SliderStyleModel",
      "state": {
       "description_width": ""
      }
     },
     "6d74cc5ec2c04ebaa5374b269453f717": {
      "model_module": "@jupyter-widgets/controls",
      "model_module_version": "1.5.0",
      "model_name": "FloatSliderModel",
      "state": {
       "description": "270°",
       "layout": "IPY_MODEL_7dd67cad9ee34b9b97441f1424e12d81",
       "max": 1,
       "min": -1,
       "step": 0.01,
       "style": "IPY_MODEL_3463e6a52367413ca0e2821e59d6c70b"
      }
     },
     "6d8aa82bc3ac4f07b776aa379074fe11": {
      "model_module": "@jupyter-widgets/base",
      "model_module_version": "1.2.0",
      "model_name": "LayoutModel",
      "state": {}
     },
     "6d9d2b1150d4451fad927e5bfc030faf": {
      "model_module": "@jupyter-widgets/controls",
      "model_module_version": "1.5.0",
      "model_name": "SliderStyleModel",
      "state": {
       "description_width": ""
      }
     },
     "6da475428abd4e8dad00c378902f932e": {
      "model_module": "@jupyter-widgets/controls",
      "model_module_version": "1.5.0",
      "model_name": "HBoxModel",
      "state": {
       "children": [
        "IPY_MODEL_d0aa24a8a9064f868708dbf77236f872",
        "IPY_MODEL_c51c7b6dd407471995f1d7eb99596af2",
        "IPY_MODEL_479796be60bc47a591c1b01249378251"
       ],
       "layout": "IPY_MODEL_83ed485df4b545629d2c0b1051d5ed13"
      }
     },
     "6dcef2838df649c69e0d05c6486e67b0": {
      "model_module": "@jupyter-widgets/controls",
      "model_module_version": "1.5.0",
      "model_name": "CheckboxModel",
      "state": {
       "description": "Disable Medicina",
       "disabled": false,
       "layout": "IPY_MODEL_3735a304928e46349beee38dec81ad43",
       "style": "IPY_MODEL_a92e80d3408c4f998ec436340ee058e0",
       "value": false
      }
     },
     "6dd34d9f0cc04fa9836ac555b1ad8352": {
      "model_module": "@jupyter-widgets/base",
      "model_module_version": "1.2.0",
      "model_name": "LayoutModel",
      "state": {}
     },
     "6df9da918b7f4787b90b111f0d505bf7": {
      "model_module": "@jupyter-widgets/controls",
      "model_module_version": "1.5.0",
      "model_name": "FloatSliderModel",
      "state": {
       "description": "Compression Threshold",
       "layout": "IPY_MODEL_1438c8e1b09f49ff8d6b2541d7d378cf",
       "max": 1,
       "step": 0.01,
       "style": "IPY_MODEL_607a24e63d7d402aafdfadf0010f2849",
       "value": 0.8
      }
     },
     "6e22f61a7f6943608572e909d432a8de": {
      "model_module": "@jupyter-widgets/controls",
      "model_module_version": "1.5.0",
      "model_name": "FloatSliderModel",
      "state": {
       "description": "0°",
       "layout": "IPY_MODEL_7e7df5b77a0a46d1826492e9d4918b6d",
       "max": 1,
       "min": -1,
       "step": 0.01,
       "style": "IPY_MODEL_2633d2885fdd4832a724bc136dbd01ee"
      }
     },
     "6e3060dd074e47ffbcafa84d435f2811": {
      "model_module": "@jupyter-widgets/controls",
      "model_module_version": "1.5.0",
      "model_name": "FloatSliderModel",
      "state": {
       "description": "180°",
       "layout": "IPY_MODEL_07b1b193eb0141c0ac75ac60bd0479f7",
       "max": 1,
       "min": -1,
       "step": 0.01,
       "style": "IPY_MODEL_c278ce05508147edae8f7173e160578b"
      }
     },
     "6e5de97424614814877329015e4b7df4": {
      "model_module": "@jupyter-widgets/base",
      "model_module_version": "1.2.0",
      "model_name": "LayoutModel",
      "state": {}
     },
     "6e7382ebeb0342f3b7b2b65aeeb1fa34": {
      "model_module": "@jupyter-widgets/controls",
      "model_module_version": "1.5.0",
      "model_name": "VBoxModel",
      "state": {
       "children": [
        "IPY_MODEL_38eb44aacfdd4f44aa4930aea2297c0a",
        "IPY_MODEL_aa83016230d44267be540ba9c0cd1bee",
        "IPY_MODEL_cad50de9f2c34280924de2baf3b350a4"
       ],
       "layout": "IPY_MODEL_99bf06bb4cac4d25a8d24ccc0696acff"
      }
     },
     "6ea432632bc94d89a5055802a52a249f": {
      "model_module": "@jupyter-widgets/controls",
      "model_module_version": "1.5.0",
      "model_name": "SliderStyleModel",
      "state": {
       "description_width": ""
      }
     },
     "6eb8fc6fa111494dabb51e4e6abc4198": {
      "model_module": "@jupyter-widgets/base",
      "model_module_version": "1.2.0",
      "model_name": "LayoutModel",
      "state": {}
     },
     "6ed50279627547729da9387d95e9da11": {
      "model_module": "@jupyter-widgets/base",
      "model_module_version": "1.2.0",
      "model_name": "LayoutModel",
      "state": {}
     },
     "6eddc7feb61c446d8c3138de262bf8eb": {
      "model_module": "@jupyter-widgets/controls",
      "model_module_version": "1.5.0",
      "model_name": "FloatSliderModel",
      "state": {
       "description": "45°",
       "layout": "IPY_MODEL_8ebc790a5fa349ac96a3cb1f0153093c",
       "max": 1,
       "min": -1,
       "step": 0.01,
       "style": "IPY_MODEL_88ba9d68188648d5a90715d19091e6a7"
      }
     },
     "6ee8db4fcfff4794a2414bf607afa9dd": {
      "model_module": "@jupyter-widgets/controls",
      "model_module_version": "1.5.0",
      "model_name": "VBoxModel",
      "state": {
       "children": [
        "IPY_MODEL_b61c6f5ddbb940618ca2a543727a522d",
        "IPY_MODEL_6f79b8dc4ab743ed91ff7790ae14db4c",
        "IPY_MODEL_ad25e02648d64c1b9154b41fafa7c0ba"
       ],
       "layout": "IPY_MODEL_7855f532216e40f1a9cf258574bc51ef"
      }
     },
     "6f136838cd41470ba8cda99a8f61c6d7": {
      "model_module": "@jupyter-widgets/controls",
      "model_module_version": "1.5.0",
      "model_name": "ButtonModel",
      "state": {
       "description": "Export Image",
       "layout": "IPY_MODEL_85662698ecfd4254815811398cbd16f3",
       "style": "IPY_MODEL_ba9c15dbd1594bfdaca946865a175732"
      }
     },
     "6f1b9c1e14204358b283fb0872f37997": {
      "model_module": "@jupyter-widgets/controls",
      "model_module_version": "1.5.0",
      "model_name": "CheckboxModel",
      "state": {
       "description": "Disable Medicina",
       "disabled": false,
       "layout": "IPY_MODEL_67e5ca8f3d714f6a8908432ec0e7809a",
       "style": "IPY_MODEL_e0dcab89746b497bb4b10d59fe5c322f",
       "value": false
      }
     },
     "6f330f5a8f054c1580bb82c259b138f0": {
      "model_module": "@jupyter-widgets/controls",
      "model_module_version": "1.5.0",
      "model_name": "CheckboxModel",
      "state": {
       "description": "Disable Medicina",
       "disabled": false,
       "layout": "IPY_MODEL_945366b6268f4258ba39a8ca86c142be",
       "style": "IPY_MODEL_a0eae81fd6e341a0abccb2857a2dd341",
       "value": false
      }
     },
     "6f340d6bf3e44b329c148cf583ded075": {
      "model_module": "@jupyter-widgets/base",
      "model_module_version": "1.2.0",
      "model_name": "LayoutModel",
      "state": {}
     },
     "6f46ad6d62354c65bc633aa118607ca1": {
      "model_module": "@jupyter-widgets/base",
      "model_module_version": "1.2.0",
      "model_name": "LayoutModel",
      "state": {}
     },
     "6f4da0437b79469686adc7773ccc7de8": {
      "model_module": "@jupyter-widgets/controls",
      "model_module_version": "1.5.0",
      "model_name": "ButtonStyleModel",
      "state": {}
     },
     "6f5979e10f8442fb9b042bbd72c260d3": {
      "model_module": "@jupyter-widgets/controls",
      "model_module_version": "1.5.0",
      "model_name": "DescriptionStyleModel",
      "state": {
       "description_width": ""
      }
     },
     "6f62d0421b9b42c08b04a48a74c7a542": {
      "model_module": "@jupyter-widgets/controls",
      "model_module_version": "1.5.0",
      "model_name": "ButtonStyleModel",
      "state": {}
     },
     "6f79b8dc4ab743ed91ff7790ae14db4c": {
      "model_module": "@jupyter-widgets/controls",
      "model_module_version": "1.5.0",
      "model_name": "FloatSliderModel",
      "state": {
       "description": "45°",
       "layout": "IPY_MODEL_4a10e4c0eacd46ccb93b3b5a112c605d",
       "max": 1,
       "min": -1,
       "step": 0.01,
       "style": "IPY_MODEL_dab0e2ddb1464626b83c5f68d332d5ec"
      }
     },
     "6fbb8412dd0d461f9bc1d454b113c703": {
      "model_module": "@jupyter-widgets/controls",
      "model_module_version": "1.5.0",
      "model_name": "SliderStyleModel",
      "state": {
       "description_width": ""
      }
     },
     "6febd9e1b6084cb8af089e81d59aab69": {
      "model_module": "@jupyter-widgets/controls",
      "model_module_version": "1.5.0",
      "model_name": "SliderStyleModel",
      "state": {
       "description_width": ""
      }
     },
     "6ff7cdb309274989b729847ae3387468": {
      "model_module": "@jupyter-widgets/base",
      "model_module_version": "1.2.0",
      "model_name": "LayoutModel",
      "state": {}
     },
     "7044c36e280a4ab7a4f8b0628f819ddb": {
      "model_module": "@jupyter-widgets/controls",
      "model_module_version": "1.5.0",
      "model_name": "VBoxModel",
      "state": {
       "children": [
        "IPY_MODEL_18d882b498f748dfa526c8ea927fee2d",
        "IPY_MODEL_d1139eac29af4616b30cd1abdc6cdcff",
        "IPY_MODEL_592cc78d036e42bdb061bbcb46f62d05"
       ],
       "layout": "IPY_MODEL_26b0865047c246beac468be5cb413841"
      }
     },
     "705d12ba24414bae8ac94df7cd88d819": {
      "model_module": "@jupyter-widgets/base",
      "model_module_version": "1.2.0",
      "model_name": "LayoutModel",
      "state": {}
     },
     "70628a79c3ab459e99c0699baf028ce4": {
      "model_module": "@jupyter-widgets/controls",
      "model_module_version": "1.5.0",
      "model_name": "FloatSliderModel",
      "state": {
       "description": "90°",
       "layout": "IPY_MODEL_e5404fecb4294954b51d43cbc9b5290f",
       "max": 1,
       "min": -1,
       "step": 0.01,
       "style": "IPY_MODEL_8e8d0ea3e0484c1ab1a8172bee909fda"
      }
     },
     "70d8995997264fbe96d2254b64356268": {
      "model_module": "@jupyter-widgets/base",
      "model_module_version": "1.2.0",
      "model_name": "LayoutModel",
      "state": {}
     },
     "711cf6b9e33b431382f269f4674fde9a": {
      "model_module": "@jupyter-widgets/controls",
      "model_module_version": "1.5.0",
      "model_name": "FloatSliderModel",
      "state": {
       "description": "0°",
       "layout": "IPY_MODEL_5a7a6160f1c2408aa7c90ea41bbc0d66",
       "max": 1,
       "min": -1,
       "step": 0.01,
       "style": "IPY_MODEL_b10cb0186ed3493fbcc11203bd8b1934"
      }
     },
     "714c2a025c3a4a45bb1a48eab6907155": {
      "model_module": "@jupyter-widgets/controls",
      "model_module_version": "1.5.0",
      "model_name": "ButtonModel",
      "state": {
       "description": "Export Image",
       "layout": "IPY_MODEL_3868995f877a49dd95a3e7c6e496684b",
       "style": "IPY_MODEL_e61ca14a53034063b9ca832547a7e615"
      }
     },
     "7167f911e1d24b309cc5b53168a23890": {
      "model_module": "@jupyter-widgets/controls",
      "model_module_version": "1.5.0",
      "model_name": "SliderStyleModel",
      "state": {
       "description_width": ""
      }
     },
     "717fbcc407174707beed891883f562be": {
      "model_module": "@jupyter-widgets/base",
      "model_module_version": "1.2.0",
      "model_name": "LayoutModel",
      "state": {}
     },
     "71be410720fe4cbe80d5a6c31d184e6b": {
      "model_module": "@jupyter-widgets/controls",
      "model_module_version": "1.5.0",
      "model_name": "FloatSliderModel",
      "state": {
       "description": "135°",
       "layout": "IPY_MODEL_dc6c30f962ec4994b421d9215dfa1082",
       "max": 1,
       "min": -1,
       "step": 0.01,
       "style": "IPY_MODEL_247e20ec93fe40e6b8ff1e8f99937bf6"
      }
     },
     "71d1da53de1d41dfae66afd619b08b86": {
      "model_module": "@jupyter-widgets/controls",
      "model_module_version": "1.5.0",
      "model_name": "ButtonStyleModel",
      "state": {}
     },
     "71d5b15f2576466ebe0b69a157f167b7": {
      "model_module": "@jupyter-widgets/controls",
      "model_module_version": "1.5.0",
      "model_name": "HBoxModel",
      "state": {
       "children": [
        "IPY_MODEL_5beff93fadc9440484d136f91113eda2",
        "IPY_MODEL_d2995fc46d0c4fa7898bd376a314fbc8",
        "IPY_MODEL_67de70da6a6142b798067eabd096402f"
       ],
       "layout": "IPY_MODEL_28043b6bd233461c9d95996fb51d43bd"
      }
     },
     "71db74b27f7e44279d20a7beb31979af": {
      "model_module": "@jupyter-widgets/controls",
      "model_module_version": "1.5.0",
      "model_name": "ButtonStyleModel",
      "state": {}
     },
     "7225304565284763b99b5d8e0699ab55": {
      "model_module": "@jupyter-widgets/base",
      "model_module_version": "1.2.0",
      "model_name": "LayoutModel",
      "state": {}
     },
     "724af167e72841919613ee2067401404": {
      "model_module": "@jupyter-widgets/controls",
      "model_module_version": "1.5.0",
      "model_name": "TabModel",
      "state": {
       "_titles": {
        "0": "Global Controls",
        "1": "Viewer Controls"
       },
       "children": [
        "IPY_MODEL_20e37330172e4806ad6ce397d17e180e",
        "IPY_MODEL_d9638b97cee647bdba1320f8e7bdc434"
       ],
       "layout": "IPY_MODEL_c57a4a44f4394787a188a85a7bc302d9"
      }
     },
     "72545c23e12b4a4caa1f2efae4254c3b": {
      "model_module": "@jupyter-widgets/controls",
      "model_module_version": "1.5.0",
      "model_name": "SliderStyleModel",
      "state": {
       "description_width": ""
      }
     },
     "72675e1e03e04996b072622048ce9ffc": {
      "model_module": "@jupyter-widgets/controls",
      "model_module_version": "1.5.0",
      "model_name": "VBoxModel",
      "state": {
       "children": [
        "IPY_MODEL_3a8cf377c6454343b0a9bc467bbe622c",
        "IPY_MODEL_1047273dd9c44952a58c3609e7cb29b4",
        "IPY_MODEL_75d0267a69b1479fb4d5422e92c776e4"
       ],
       "layout": "IPY_MODEL_9653dafe687f4854a1b1e73fb3743aa6"
      }
     },
     "7277360dd1a64fe5a5989c444eb9784c": {
      "model_module": "@jupyter-widgets/controls",
      "model_module_version": "1.5.0",
      "model_name": "DropdownModel",
      "state": {
       "_options_labels": [
        "tanh",
        "atan",
        "simple"
       ],
       "description": "Compression Function:",
       "index": 0,
       "layout": "IPY_MODEL_8c6a9a1aa54c4710b3e734e442c40627",
       "style": "IPY_MODEL_65e513bbb5144c93a1197ceb9e68cad5"
      }
     },
     "7289b4332f024ca390b45d4cd61692fb": {
      "model_module": "@jupyter-widgets/controls",
      "model_module_version": "1.5.0",
      "model_name": "BoxModel",
      "state": {
       "children": [
        "IPY_MODEL_cecc0ae79cf649eaba5cf9516be64978",
        "IPY_MODEL_2f4300a2ed4549db804c9e9a9d9d1e07"
       ],
       "layout": "IPY_MODEL_2882354c353642258a91abf3f6a07de9"
      }
     },
     "72a4609c9cdb4da99d75b008e3dc935a": {
      "model_module": "@jupyter-widgets/controls",
      "model_module_version": "1.5.0",
      "model_name": "ButtonModel",
      "state": {
       "description": "Save Figure",
       "layout": "IPY_MODEL_958cf4a6af354db2b9a4123f5cdb551a",
       "style": "IPY_MODEL_209166998be34f1496bc6b1fb5738980"
      }
     },
     "72b612f80a844b50a020425d20517847": {
      "model_module": "@jupyter-widgets/controls",
      "model_module_version": "1.5.0",
      "model_name": "ButtonModel",
      "state": {
       "description": "Save Figure",
       "layout": "IPY_MODEL_1bd3271ebad64839beae546921a92c8b",
       "style": "IPY_MODEL_a881d89cdeb042fb882c5617e6d7d108"
      }
     },
     "72bf1f7b470f43a8ad674148340d7eb0": {
      "model_module": "@jupyter-widgets/controls",
      "model_module_version": "1.5.0",
      "model_name": "ButtonStyleModel",
      "state": {}
     },
     "72c35ce7ebc54d919e5c2fd92bfa127e": {
      "model_module": "@jupyter-widgets/controls",
      "model_module_version": "1.5.0",
      "model_name": "CheckboxModel",
      "state": {
       "description": "Disable Medicina",
       "disabled": false,
       "layout": "IPY_MODEL_feec31f134334e1d85d2a487d496ad81",
       "style": "IPY_MODEL_6f5979e10f8442fb9b042bbd72c260d3",
       "value": false
      }
     },
     "72d6c328876745b8a5636c69dc54a9c8": {
      "model_module": "@jupyter-widgets/controls",
      "model_module_version": "1.5.0",
      "model_name": "ButtonModel",
      "state": {
       "description": "Export Image",
       "layout": "IPY_MODEL_f4b4c5c4ea154729a9e17ef4f6894d9c",
       "style": "IPY_MODEL_2728712282e349549675d75874b13e29"
      }
     },
     "72ed36e5d51e4d5db4ba32dd4e57ce28": {
      "model_module": "@jupyter-widgets/base",
      "model_module_version": "1.2.0",
      "model_name": "LayoutModel",
      "state": {}
     },
     "738e0b99e2514bd5a1ae8e1d9f9262af": {
      "model_module": "@jupyter-widgets/controls",
      "model_module_version": "1.5.0",
      "model_name": "SliderStyleModel",
      "state": {
       "description_width": ""
      }
     },
     "73d7ce3d8aad480caf81b50b573ad529": {
      "model_module": "@jupyter-widgets/controls",
      "model_module_version": "1.5.0",
      "model_name": "ButtonModel",
      "state": {
       "description": "Export Image",
       "layout": "IPY_MODEL_bb78266ac3104f3f92880ed160844a5c",
       "style": "IPY_MODEL_13dc5f53c503445987c8131c6aa6c390"
      }
     },
     "740c64b87e0149b0be1cb271bf6c2b1f": {
      "model_module": "@jupyter-widgets/base",
      "model_module_version": "1.2.0",
      "model_name": "LayoutModel",
      "state": {}
     },
     "740dbc644189445689a384d89fbbbba0": {
      "model_module": "@jupyter-widgets/controls",
      "model_module_version": "1.5.0",
      "model_name": "FloatSliderModel",
      "state": {
       "description": "225°",
       "layout": "IPY_MODEL_fe8f80bd14a74a17a0c70151f9fac0b1",
       "max": 1,
       "min": -1,
       "step": 0.01,
       "style": "IPY_MODEL_be46ce4567424aad9c65e1fa5d4488db"
      }
     },
     "7439d3da032d430fb0b5e519662f330e": {
      "model_module": "@jupyter-widgets/base",
      "model_module_version": "1.2.0",
      "model_name": "LayoutModel",
      "state": {}
     },
     "74b597c5db694f0e85f468a755965ac7": {
      "model_module": "@jupyter-widgets/base",
      "model_module_version": "1.2.0",
      "model_name": "LayoutModel",
      "state": {}
     },
     "74b69b867bc940c48b8929ae06fc974c": {
      "model_module": "@jupyter-widgets/controls",
      "model_module_version": "1.5.0",
      "model_name": "ButtonStyleModel",
      "state": {}
     },
     "74c8407da10f4ca0b4f9f5f03d43a3da": {
      "model_module": "@jupyter-widgets/controls",
      "model_module_version": "1.5.0",
      "model_name": "HBoxModel",
      "state": {
       "children": [
        "IPY_MODEL_161acaf8ade84464a93efdd27a791b27",
        "IPY_MODEL_8f05b3b4e6e8413f92dd88694ffac7d4"
       ],
       "layout": "IPY_MODEL_7e188d15309840bca50b07d9c2a6cb56"
      }
     },
     "750f5d991d7c48dda83aba7eac281947": {
      "model_module": "@jupyter-widgets/base",
      "model_module_version": "1.2.0",
      "model_name": "LayoutModel",
      "state": {}
     },
     "752bdcf1be394b6e9945313ce4f74f8b": {
      "model_module": "@jupyter-widgets/base",
      "model_module_version": "1.2.0",
      "model_name": "LayoutModel",
      "state": {}
     },
     "756d5c3580874c308e1a8021d5c96d4e": {
      "model_module": "@jupyter-widgets/base",
      "model_module_version": "1.2.0",
      "model_name": "LayoutModel",
      "state": {}
     },
     "7580f48c8e984aee8cb9a75365e03a9e": {
      "model_module": "@jupyter-widgets/base",
      "model_module_version": "1.2.0",
      "model_name": "LayoutModel",
      "state": {}
     },
     "758aeab751a940df8403574d11320b8f": {
      "model_module": "@jupyter-widgets/base",
      "model_module_version": "1.2.0",
      "model_name": "LayoutModel",
      "state": {}
     },
     "75d0267a69b1479fb4d5422e92c776e4": {
      "model_module": "@jupyter-widgets/controls",
      "model_module_version": "1.5.0",
      "model_name": "FloatSliderModel",
      "state": {
       "description": "225°",
       "layout": "IPY_MODEL_dbc15ee781e441cf9092580ab695aa27",
       "max": 1,
       "min": -1,
       "step": 0.01,
       "style": "IPY_MODEL_4e36e4591a164e5caa44e01a709e49e8"
      }
     },
     "760690fe45f446df96db22004ad3ce9b": {
      "model_module": "@jupyter-widgets/controls",
      "model_module_version": "1.5.0",
      "model_name": "DropdownModel",
      "state": {
       "_options_labels": [
        "tanh",
        "atan",
        "simple"
       ],
       "description": "Compression Function:",
       "index": 0,
       "layout": "IPY_MODEL_86198e4f638e4a00a427a661d8c6fb6a",
       "style": "IPY_MODEL_22b514431c0744f59b739ba5520dbd16"
      }
     },
     "760f8d960c1848f388e3b2782a17da08": {
      "model_module": "jupyter-matplotlib",
      "model_module_version": "^0.7.2",
      "model_name": "ToolbarModel",
      "state": {
       "layout": "IPY_MODEL_413777797d7145809b3ab60afbdd91d1",
       "toolitems": [
        [
         "Home",
         "Reset original view",
         "home",
         "home"
        ],
        [
         "Back",
         "Back to previous view",
         "arrow-left",
         "back"
        ],
        [
         "Forward",
         "Forward to next view",
         "arrow-right",
         "forward"
        ],
        [
         "Pan",
         "Pan axes with left mouse, zoom with right",
         "arrows",
         "pan"
        ],
        [
         "Zoom",
         "Zoom to rectangle",
         "square-o",
         "zoom"
        ],
        [
         "Download",
         "Download plot",
         "floppy-o",
         "save_figure"
        ]
       ]
      }
     },
     "761b1aea11eb4e69bd2b05049093cab4": {
      "model_module": "@jupyter-widgets/base",
      "model_module_version": "1.2.0",
      "model_name": "LayoutModel",
      "state": {
       "border": "solid 4px #222",
       "margin": "4px",
       "padding": "0"
      }
     },
     "7674fff100504193af84a1d832fc9ec5": {
      "model_module": "jupyter-matplotlib",
      "model_module_version": "^0.7.2",
      "model_name": "MPLCanvasModel",
      "state": {
       "_figure_label": "Figure 10",
       "_height": 696,
       "_width": 1100,
       "header_visible": false,
       "layout": "IPY_MODEL_055ce3ae10844ca08d448ce2b5f8b132",
       "resizable": false,
       "toolbar": "IPY_MODEL_ab4d5e3ff2d9407782c1ab4e04ecb3be",
       "toolbar_position": "left",
       "toolbar_visible": false
      }
     },
     "769aef1c1624453093358adee048f274": {
      "model_module": "@jupyter-widgets/controls",
      "model_module_version": "1.5.0",
      "model_name": "HBoxModel",
      "state": {
       "children": [
        "IPY_MODEL_d0e54f23420449a899476bd19ba140ba",
        "IPY_MODEL_7c0e3c0fa3d1400cabed19c1967c4835",
        "IPY_MODEL_4712918a92d04d4c8a7d80c74c90d964"
       ],
       "layout": "IPY_MODEL_28b4200c666543ddb9d6929007732915"
      }
     },
     "76a018bd3a574d3490d4bab0ffa09509": {
      "model_module": "@jupyter-widgets/base",
      "model_module_version": "1.2.0",
      "model_name": "LayoutModel",
      "state": {}
     },
     "76bbad6175194f929aafc3f7cf2b7eff": {
      "model_module": "@jupyter-widgets/base",
      "model_module_version": "1.2.0",
      "model_name": "LayoutModel",
      "state": {}
     },
     "76d092f34f5246fc96f316cf26680318": {
      "model_module": "@jupyter-widgets/base",
      "model_module_version": "1.2.0",
      "model_name": "LayoutModel",
      "state": {
       "border": "solid 4px #222",
       "margin": "4px",
       "padding": "0"
      }
     },
     "76f9b8435d9f4a08b9dddafe60824591": {
      "model_module": "@jupyter-widgets/controls",
      "model_module_version": "1.5.0",
      "model_name": "FloatSliderModel",
      "state": {
       "description": "135°",
       "layout": "IPY_MODEL_92c777553fe44153b947265bfc659348",
       "max": 1,
       "min": -1,
       "step": 0.01,
       "style": "IPY_MODEL_9d814e1e46404754838e18ce5efb7d16"
      }
     },
     "770c00c29c894cde94fefb58cf835b17": {
      "model_module": "@jupyter-widgets/base",
      "model_module_version": "1.2.0",
      "model_name": "LayoutModel",
      "state": {}
     },
     "775974490b344bb1996cae0df6b64f9b": {
      "model_module": "@jupyter-widgets/base",
      "model_module_version": "1.2.0",
      "model_name": "LayoutModel",
      "state": {}
     },
     "779a0fa26c7a4717ac97e2cdc912edb8": {
      "model_module": "@jupyter-widgets/controls",
      "model_module_version": "1.5.0",
      "model_name": "SliderStyleModel",
      "state": {
       "description_width": ""
      }
     },
     "77a3790d4cef417e97f2b637285282ab": {
      "model_module": "@jupyter-widgets/controls",
      "model_module_version": "1.5.0",
      "model_name": "ButtonModel",
      "state": {
       "description": "Reset Protected Area",
       "layout": "IPY_MODEL_bf499cedc55240b4a34301d9f3d46df1",
       "style": "IPY_MODEL_84f5dc0dac5e4c068f72bef231d01b69"
      }
     },
     "77b92c4363ad4fb688efe89dbfa6ac33": {
      "model_module": "@jupyter-widgets/controls",
      "model_module_version": "1.5.0",
      "model_name": "ButtonStyleModel",
      "state": {}
     },
     "77d40bdf477c4928b3dba28ab95213b0": {
      "model_module": "@jupyter-widgets/base",
      "model_module_version": "1.2.0",
      "model_name": "LayoutModel",
      "state": {}
     },
     "77d9c22060d1493c8dc0974a9f512929": {
      "model_module": "@jupyter-widgets/base",
      "model_module_version": "1.2.0",
      "model_name": "LayoutModel",
      "state": {}
     },
     "7855f532216e40f1a9cf258574bc51ef": {
      "model_module": "@jupyter-widgets/base",
      "model_module_version": "1.2.0",
      "model_name": "LayoutModel",
      "state": {}
     },
     "785d42c0d86f40678daeed5a025abb14": {
      "model_module": "@jupyter-widgets/controls",
      "model_module_version": "1.5.0",
      "model_name": "ButtonStyleModel",
      "state": {}
     },
     "786747af3b364350a927023834dee15c": {
      "model_module": "@jupyter-widgets/controls",
      "model_module_version": "1.5.0",
      "model_name": "ButtonStyleModel",
      "state": {}
     },
     "78985c341118487d8be49c6829dd7e7b": {
      "model_module": "@jupyter-widgets/base",
      "model_module_version": "1.2.0",
      "model_name": "LayoutModel",
      "state": {}
     },
     "789b7f4b04184662a2425252e99bcbc6": {
      "model_module": "@jupyter-widgets/base",
      "model_module_version": "1.2.0",
      "model_name": "LayoutModel",
      "state": {}
     },
     "78a69e117e4648a1880a031a7f340087": {
      "model_module": "@jupyter-widgets/controls",
      "model_module_version": "1.5.0",
      "model_name": "FloatSliderModel",
      "state": {
       "description": "225°",
       "layout": "IPY_MODEL_e60197a41c834de8acf42a274f12dc4f",
       "max": 1,
       "min": -1,
       "step": 0.01,
       "style": "IPY_MODEL_8400e342e10f430984cecafc182826ba"
      }
     },
     "78ae49ad431b4c3694fc27ad363aba96": {
      "model_module": "@jupyter-widgets/controls",
      "model_module_version": "1.5.0",
      "model_name": "SliderStyleModel",
      "state": {
       "description_width": ""
      }
     },
     "78c52ad995c84f41a25c777fe25d31d5": {
      "model_module": "@jupyter-widgets/base",
      "model_module_version": "1.2.0",
      "model_name": "LayoutModel",
      "state": {}
     },
     "78e1bba0a4f54a17884c2f2c825e153a": {
      "model_module": "@jupyter-widgets/controls",
      "model_module_version": "1.5.0",
      "model_name": "DescriptionStyleModel",
      "state": {
       "description_width": ""
      }
     },
     "794429a556a14678a9aecff281d1f886": {
      "model_module": "@jupyter-widgets/base",
      "model_module_version": "1.2.0",
      "model_name": "LayoutModel",
      "state": {}
     },
     "7960ca6526aa482b8bc311d5611ae98d": {
      "model_module": "@jupyter-widgets/base",
      "model_module_version": "1.2.0",
      "model_name": "LayoutModel",
      "state": {}
     },
     "7990143287964458a223e9336e83bd89": {
      "model_module": "@jupyter-widgets/base",
      "model_module_version": "1.2.0",
      "model_name": "LayoutModel",
      "state": {}
     },
     "799d18cf92ce421b9def9c68b03620fb": {
      "model_module": "@jupyter-widgets/base",
      "model_module_version": "1.2.0",
      "model_name": "LayoutModel",
      "state": {}
     },
     "79db8fb4ba7844459966d98047965107": {
      "model_module": "@jupyter-widgets/controls",
      "model_module_version": "1.5.0",
      "model_name": "DescriptionStyleModel",
      "state": {
       "description_width": ""
      }
     },
     "7a021d0dde2842f88f6873ba741e14d1": {
      "model_module": "@jupyter-widgets/base",
      "model_module_version": "1.2.0",
      "model_name": "LayoutModel",
      "state": {}
     },
     "7a148489852b4ecfb39d7141a2673454": {
      "model_module": "@jupyter-widgets/controls",
      "model_module_version": "1.5.0",
      "model_name": "CheckboxModel",
      "state": {
       "description": "Show Out-of-Gamut",
       "disabled": false,
       "layout": "IPY_MODEL_8b988a08cd1d4f6f81a9cce44bf01084",
       "style": "IPY_MODEL_66cbc8147ff04e76a384b534650ee0e9",
       "value": false
      }
     },
     "7a1e2a45048d4f968a965b0b4e0dcdcd": {
      "model_module": "@jupyter-widgets/base",
      "model_module_version": "1.2.0",
      "model_name": "LayoutModel",
      "state": {}
     },
     "7a24be45da8c4988ac6ff8a023129aaf": {
      "model_module": "@jupyter-widgets/controls",
      "model_module_version": "1.5.0",
      "model_name": "ButtonModel",
      "state": {
       "description": "Reset Compression Controls",
       "layout": "IPY_MODEL_9c5207e7127f4dc09b01ee9e3417af03",
       "style": "IPY_MODEL_c1226bd934d04ae481a91637b7a10578"
      }
     },
     "7a34ce3f5e4f48779fb3ebff90b9d945": {
      "model_module": "@jupyter-widgets/controls",
      "model_module_version": "1.5.0",
      "model_name": "HBoxModel",
      "state": {
       "children": [
        "IPY_MODEL_f61dd265b2794ef888d5ace231d95006",
        "IPY_MODEL_bafbdc604d2e4fbe904d79910ae27215",
        "IPY_MODEL_1fb743730ff5434f8dcbb3ad810bfec4"
       ],
       "layout": "IPY_MODEL_8642c09321aa4dbebc1bc505e6e5ee80"
      }
     },
     "7a62ed0c0857447f8c84bdc3b01af1b7": {
      "model_module": "@jupyter-widgets/controls",
      "model_module_version": "1.5.0",
      "model_name": "CheckboxModel",
      "state": {
       "description": "Disable Medicina",
       "disabled": false,
       "layout": "IPY_MODEL_f69ccac65a924777b149887bc2e48642",
       "style": "IPY_MODEL_eaa1f146108a40979a011b52cb4328ed",
       "value": false
      }
     },
     "7ac1d505ebc542b894ec8ebc90ec30de": {
      "model_module": "@jupyter-widgets/controls",
      "model_module_version": "1.5.0",
      "model_name": "CheckboxModel",
      "state": {
       "description": "Disable Medicina",
       "disabled": false,
       "layout": "IPY_MODEL_45f4172432c1441fa9e557c917b11a34",
       "style": "IPY_MODEL_d366ba674d9d449cbf56cc60da0b82a0",
       "value": false
      }
     },
     "7acc478fc91f4038ae75f783880d0604": {
      "model_module": "@jupyter-widgets/base",
      "model_module_version": "1.2.0",
      "model_name": "LayoutModel",
      "state": {}
     },
     "7adba07c307942799c85b7df27f9985f": {
      "model_module": "@jupyter-widgets/controls",
      "model_module_version": "1.5.0",
      "model_name": "FloatSliderModel",
      "state": {
       "description": "Exposure",
       "layout": "IPY_MODEL_c0b936fae8bd414aa78d97399d0c7ff3",
       "max": 8,
       "min": -8,
       "step": 0.1,
       "style": "IPY_MODEL_a2f359c7805f493c9692b0b8fa1122a4"
      }
     },
     "7af23aeaa31a47c290792def57ffce90": {
      "model_module": "@jupyter-widgets/controls",
      "model_module_version": "1.5.0",
      "model_name": "DescriptionStyleModel",
      "state": {
       "description_width": ""
      }
     },
     "7b07d4110d794344b1d6235ea82a258d": {
      "model_module": "@jupyter-widgets/controls",
      "model_module_version": "1.5.0",
      "model_name": "CheckboxModel",
      "state": {
       "description": "Disable Medicina",
       "disabled": false,
       "layout": "IPY_MODEL_c0fc597fdff740069e2956d8ece548ee",
       "style": "IPY_MODEL_e1fc741564404cb297f17aa188800fbb",
       "value": false
      }
     },
     "7b164b6ea71b47c1ac44f8776aabbbe0": {
      "model_module": "@jupyter-widgets/base",
      "model_module_version": "1.2.0",
      "model_name": "LayoutModel",
      "state": {}
     },
     "7b2a7cdf411142a5b84462f4835b0cc6": {
      "model_module": "@jupyter-widgets/output",
      "model_module_version": "1.0.0",
      "model_name": "OutputModel",
      "state": {
       "layout": "IPY_MODEL_d83e710f7ecc4612a78fa1e7c5dd4589",
       "outputs": [
        {
         "data": {
          "application/vnd.jupyter.widget-view+json": {
           "model_id": "5597a21231e343d98ba66182f499bd73",
           "version_major": 2,
           "version_minor": 0
          },
          "text/plain": "Canvas(toolbar=Toolbar(toolitems=[('Home', 'Reset original view', 'home', 'home'), ('Back', 'Back to previous …"
         },
         "metadata": {},
         "output_type": "display_data"
        }
       ]
      }
     },
     "7b73931c072442a18b2a88823dbf0479": {
      "model_module": "@jupyter-widgets/controls",
      "model_module_version": "1.5.0",
      "model_name": "SliderStyleModel",
      "state": {
       "description_width": ""
      }
     },
     "7b7959c4e9a2448491a872224702f82a": {
      "model_module": "@jupyter-widgets/controls",
      "model_module_version": "1.5.0",
      "model_name": "SliderStyleModel",
      "state": {
       "description_width": ""
      }
     },
     "7b9145250fb84cbc8c4e518b26f522e0": {
      "model_module": "@jupyter-widgets/controls",
      "model_module_version": "1.5.0",
      "model_name": "FloatSliderModel",
      "state": {
       "description": "225°",
       "layout": "IPY_MODEL_e0d20b2961d643dcb1593e6873a2c6e9",
       "max": 1,
       "min": -1,
       "step": 0.01,
       "style": "IPY_MODEL_4a8e31ee3b434e46a467e1888f16a146"
      }
     },
     "7b9974db3f5f4eb4a396e8b36f383cde": {
      "model_module": "jupyter-matplotlib",
      "model_module_version": "^0.7.2",
      "model_name": "MPLCanvasModel",
      "state": {
       "_figure_label": "Figure 19",
       "_height": 430,
       "_width": 1099,
       "header_visible": false,
       "layout": "IPY_MODEL_b41f47539f1941cbbc1a97698eb9ee8b",
       "resizable": false,
       "toolbar": "IPY_MODEL_2e33906967e345849cd2cbad4c5cc4fc",
       "toolbar_position": "left",
       "toolbar_visible": false
      }
     },
     "7ba6e9007a284ae09d1c58718e57a323": {
      "model_module": "@jupyter-widgets/controls",
      "model_module_version": "1.5.0",
      "model_name": "VBoxModel",
      "state": {
       "children": [
        "IPY_MODEL_76f9b8435d9f4a08b9dddafe60824591",
        "IPY_MODEL_891105b4ffd24ac29663b0172e6a4c44",
        "IPY_MODEL_68dd0cfc050b46e98c21002e329051b1"
       ],
       "layout": "IPY_MODEL_ca05f8e751dd4cbcb411f311609f035f"
      }
     },
     "7bc8dc5accf749ff81e85df1e3defd41": {
      "model_module": "@jupyter-widgets/base",
      "model_module_version": "1.2.0",
      "model_name": "LayoutModel",
      "state": {}
     },
     "7bef2cf867f24ed8ad2cfbc59643283a": {
      "model_module": "@jupyter-widgets/controls",
      "model_module_version": "1.5.0",
      "model_name": "DescriptionStyleModel",
      "state": {
       "description_width": ""
      }
     },
     "7bf8a2a18602408697f6419f7048ca23": {
      "model_module": "@jupyter-widgets/controls",
      "model_module_version": "1.5.0",
      "model_name": "ButtonModel",
      "state": {
       "description": "Export Image",
       "layout": "IPY_MODEL_e5bcac68adf94b6da050094b511260e2",
       "style": "IPY_MODEL_2370661e1178471c9764108a462c82ea"
      }
     },
     "7c0e3c0fa3d1400cabed19c1967c4835": {
      "model_module": "@jupyter-widgets/controls",
      "model_module_version": "1.5.0",
      "model_name": "ButtonModel",
      "state": {
       "description": "Export Image",
       "layout": "IPY_MODEL_65c9b64de9404f88bbf222b5b066f5c3",
       "style": "IPY_MODEL_7c2f2f4493c74d4cac8eeb99282c69d2"
      }
     },
     "7c2f2f4493c74d4cac8eeb99282c69d2": {
      "model_module": "@jupyter-widgets/controls",
      "model_module_version": "1.5.0",
      "model_name": "ButtonStyleModel",
      "state": {}
     },
     "7c3920adc33c44c8b7ed152bda729724": {
      "model_module": "@jupyter-widgets/base",
      "model_module_version": "1.2.0",
      "model_name": "LayoutModel",
      "state": {}
     },
     "7c3f349c9bc04b34afe97980692211b1": {
      "model_module": "@jupyter-widgets/controls",
      "model_module_version": "1.5.0",
      "model_name": "ButtonStyleModel",
      "state": {}
     },
     "7c50aac6a5e44af2862e0a6250583d79": {
      "model_module": "@jupyter-widgets/controls",
      "model_module_version": "1.5.0",
      "model_name": "HBoxModel",
      "state": {
       "children": [
        "IPY_MODEL_4040f1af26d440c89341424f6ea1d0e0",
        "IPY_MODEL_b9120db9700549f5965cfbb655d7ed39",
        "IPY_MODEL_8fb8c1259d2d43a58bedb82683cde14e"
       ],
       "layout": "IPY_MODEL_2ae9919c77774359b908900f700d9611"
      }
     },
     "7c61b75cd1d148448dad7abbd824d186": {
      "model_module": "@jupyter-widgets/controls",
      "model_module_version": "1.5.0",
      "model_name": "DescriptionStyleModel",
      "state": {
       "description_width": ""
      }
     },
     "7c64dad8fd9d46fca9f3a92c93e538b1": {
      "model_module": "@jupyter-widgets/base",
      "model_module_version": "1.2.0",
      "model_name": "LayoutModel",
      "state": {}
     },
     "7c9b98995ba44a4aa5f10ccbdf31d713": {
      "model_module": "@jupyter-widgets/controls",
      "model_module_version": "1.5.0",
      "model_name": "DescriptionStyleModel",
      "state": {
       "description_width": ""
      }
     },
     "7ca192aeb4504800a3f34aa2c96b218f": {
      "model_module": "@jupyter-widgets/base",
      "model_module_version": "1.2.0",
      "model_name": "LayoutModel",
      "state": {}
     },
     "7cbb10a770314b948695ac42ff6918e6": {
      "model_module": "@jupyter-widgets/base",
      "model_module_version": "1.2.0",
      "model_name": "LayoutModel",
      "state": {}
     },
     "7d095b2665cb45eeb2d914f24ab428c3": {
      "model_module": "@jupyter-widgets/controls",
      "model_module_version": "1.5.0",
      "model_name": "SliderStyleModel",
      "state": {
       "description_width": ""
      }
     },
     "7d0985047fcc4a4b9683412b5d8dca22": {
      "model_module": "@jupyter-widgets/controls",
      "model_module_version": "1.5.0",
      "model_name": "FloatSliderModel",
      "state": {
       "description": "Exposure",
       "layout": "IPY_MODEL_20143ad7dcc44f048754465eec60d87b",
       "max": 8,
       "min": -8,
       "step": 0.1,
       "style": "IPY_MODEL_8a4c4fffe96440888dcba473777b837f"
      }
     },
     "7d1e375a22ff4d95a99c027494282cf1": {
      "model_module": "@jupyter-widgets/base",
      "model_module_version": "1.2.0",
      "model_name": "LayoutModel",
      "state": {
       "border": "solid 4px #222",
       "margin": "4px",
       "padding": "0"
      }
     },
     "7d879eecd8bf4379bde9d61e870497ba": {
      "model_module": "@jupyter-widgets/controls",
      "model_module_version": "1.5.0",
      "model_name": "HBoxModel",
      "state": {
       "children": [
        "IPY_MODEL_f4f756f0377d43d480bcc0ff600ca6ec",
        "IPY_MODEL_bf3b0c10dddd47269dd4bd0b9e82a95e",
        "IPY_MODEL_3b9c177579164a00a3811b6f6639c6a9"
       ],
       "layout": "IPY_MODEL_a59f870a28e844ca8f9f7ddc30a3d463"
      }
     },
     "7d89347962eb4345a20626a2b8eb6321": {
      "model_module": "@jupyter-widgets/base",
      "model_module_version": "1.2.0",
      "model_name": "LayoutModel",
      "state": {}
     },
     "7db96b9434e746868b174242f7d5013e": {
      "model_module": "@jupyter-widgets/controls",
      "model_module_version": "1.5.0",
      "model_name": "SliderStyleModel",
      "state": {
       "description_width": ""
      }
     },
     "7dcf2dcee9ea41a5a170b3d01b35d3b0": {
      "model_module": "@jupyter-widgets/controls",
      "model_module_version": "1.5.0",
      "model_name": "HBoxModel",
      "state": {
       "children": [
        "IPY_MODEL_8d3a7650d2b24360bb9cf8cdab16d2ff",
        "IPY_MODEL_4bb6a2ce9d404e00a1b12703ab4f065a",
        "IPY_MODEL_3675793c5861459c981d2dcf0728c614"
       ],
       "layout": "IPY_MODEL_db7ed755793648bbb139ccf217968239"
      }
     },
     "7dd63f9d2df846f29755095c073f16bd": {
      "model_module": "@jupyter-widgets/controls",
      "model_module_version": "1.5.0",
      "model_name": "SliderStyleModel",
      "state": {
       "description_width": ""
      }
     },
     "7dd67cad9ee34b9b97441f1424e12d81": {
      "model_module": "@jupyter-widgets/base",
      "model_module_version": "1.2.0",
      "model_name": "LayoutModel",
      "state": {}
     },
     "7e188d15309840bca50b07d9c2a6cb56": {
      "model_module": "@jupyter-widgets/base",
      "model_module_version": "1.2.0",
      "model_name": "LayoutModel",
      "state": {}
     },
     "7e4b343488444d0097566476862dc547": {
      "model_module": "@jupyter-widgets/base",
      "model_module_version": "1.2.0",
      "model_name": "LayoutModel",
      "state": {}
     },
     "7e5b3726dd534d589bbf1ee1985c80d2": {
      "model_module": "@jupyter-widgets/controls",
      "model_module_version": "1.5.0",
      "model_name": "HBoxModel",
      "state": {
       "children": [
        "IPY_MODEL_a221404d6d714f3092d782b42005adea",
        "IPY_MODEL_32fb726f1ead461ebe2fd9a653a4f1be",
        "IPY_MODEL_20c638df44154e8ab5282f415031b10d"
       ],
       "layout": "IPY_MODEL_32cd6bdc359046e4a7a5b2dd238f7af4"
      }
     },
     "7e7be1d5fce64b408a61024e1a67d5cb": {
      "model_module": "jupyter-matplotlib",
      "model_module_version": "^0.7.2",
      "model_name": "MPLCanvasModel",
      "state": {
       "_figure_label": "Figure 29",
       "_height": 550,
       "_width": 1100,
       "header_visible": false,
       "layout": "IPY_MODEL_3e7b1af8c0334127add1738675c511e6",
       "resizable": false,
       "toolbar": "IPY_MODEL_912a44d952594e718f980c5c5af32347",
       "toolbar_position": "left",
       "toolbar_visible": false
      }
     },
     "7e7df5b77a0a46d1826492e9d4918b6d": {
      "model_module": "@jupyter-widgets/base",
      "model_module_version": "1.2.0",
      "model_name": "LayoutModel",
      "state": {}
     },
     "7eaae55066ff4e0a9622c216b455174d": {
      "model_module": "@jupyter-widgets/controls",
      "model_module_version": "1.5.0",
      "model_name": "VBoxModel",
      "state": {
       "children": [
        "IPY_MODEL_32e0d7d45fa042af8546075f5e1e9155",
        "IPY_MODEL_9a768415e817430a949da108cbac4515",
        "IPY_MODEL_4723bdfd00e340deb85e4327c2f8a3d8"
       ],
       "layout": "IPY_MODEL_65e872fec9ea44bca6503ec0f8dfb509"
      }
     },
     "7eb6cd9ac44a4c228ba01beb044b04c1": {
      "model_module": "@jupyter-widgets/base",
      "model_module_version": "1.2.0",
      "model_name": "LayoutModel",
      "state": {}
     },
     "7ed6c97fe640422a9439ab364ff0e0b5": {
      "model_module": "@jupyter-widgets/controls",
      "model_module_version": "1.5.0",
      "model_name": "ButtonStyleModel",
      "state": {}
     },
     "7ed8a336daf44401bbbe198ff363586f": {
      "model_module": "@jupyter-widgets/controls",
      "model_module_version": "1.5.0",
      "model_name": "FloatSliderModel",
      "state": {
       "description": "135°",
       "layout": "IPY_MODEL_6223201374b34bca8208a9a0e3a90e30",
       "max": 1,
       "min": -1,
       "step": 0.01,
       "style": "IPY_MODEL_62b5e7847c7543a18c20a8e165010fae"
      }
     },
     "7efce97637454cb38d65f8a92abb71ab": {
      "model_module": "@jupyter-widgets/base",
      "model_module_version": "1.2.0",
      "model_name": "LayoutModel",
      "state": {}
     },
     "7f4683f3e92d41ab96e7f56982517258": {
      "model_module": "@jupyter-widgets/base",
      "model_module_version": "1.2.0",
      "model_name": "LayoutModel",
      "state": {}
     },
     "7f5bac4c7fe7451f8cefa30b494e2326": {
      "model_module": "@jupyter-widgets/base",
      "model_module_version": "1.2.0",
      "model_name": "LayoutModel",
      "state": {}
     },
     "7f719dc004694b9fbaeaafe4e5c833f5": {
      "model_module": "@jupyter-widgets/controls",
      "model_module_version": "1.5.0",
      "model_name": "SliderStyleModel",
      "state": {
       "description_width": ""
      }
     },
     "7f874d8915ff4857bf8fdebfd2cb2938": {
      "model_module": "@jupyter-widgets/controls",
      "model_module_version": "1.5.0",
      "model_name": "ButtonModel",
      "state": {
       "description": "Reset Hue Controls",
       "layout": "IPY_MODEL_d2fec084b26844bc8246920419047168",
       "style": "IPY_MODEL_71db74b27f7e44279d20a7beb31979af"
      }
     },
     "7f89d6807aa74543a45589155cf7c80a": {
      "model_module": "@jupyter-widgets/controls",
      "model_module_version": "1.5.0",
      "model_name": "DescriptionStyleModel",
      "state": {
       "description_width": ""
      }
     },
     "7fbde0c893104b138a835dc09ac45d82": {
      "model_module": "@jupyter-widgets/controls",
      "model_module_version": "1.5.0",
      "model_name": "HBoxModel",
      "state": {
       "children": [
        "IPY_MODEL_d6a7b85ff21443f1aee00b080a17901d",
        "IPY_MODEL_17ebd3a52b03422d814c14443a727ab6",
        "IPY_MODEL_dbbd1f41a02f4490ae7faff0ea4b2168"
       ],
       "layout": "IPY_MODEL_12d1c56bb2ea43b5990111979801dfbf"
      }
     },
     "8023b76b172f44f1a1b29265ff45be99": {
      "model_module": "@jupyter-widgets/base",
      "model_module_version": "1.2.0",
      "model_name": "LayoutModel",
      "state": {}
     },
     "80298c3d43eb4992943df55205f67c5f": {
      "model_module": "@jupyter-widgets/base",
      "model_module_version": "1.2.0",
      "model_name": "LayoutModel",
      "state": {}
     },
     "803c800d81ac49b28c528ce0254e5a9c": {
      "model_module": "@jupyter-widgets/controls",
      "model_module_version": "1.5.0",
      "model_name": "SliderStyleModel",
      "state": {
       "description_width": ""
      }
     },
     "805e95063e87478d993233656f2400a5": {
      "model_module": "@jupyter-widgets/base",
      "model_module_version": "1.2.0",
      "model_name": "LayoutModel",
      "state": {}
     },
     "8081afba85fa461098058d1fdd94fcbc": {
      "model_module": "@jupyter-widgets/base",
      "model_module_version": "1.2.0",
      "model_name": "LayoutModel",
      "state": {}
     },
     "808b2101456a43bf84e1d9d9e752f293": {
      "model_module": "@jupyter-widgets/controls",
      "model_module_version": "1.5.0",
      "model_name": "FloatSliderModel",
      "state": {
       "description": "90°",
       "layout": "IPY_MODEL_e646212fcf5a4822b00204330cba249d",
       "max": 1,
       "min": -1,
       "step": 0.01,
       "style": "IPY_MODEL_ea8cefcaa342494a8fcc09021d3d2881"
      }
     },
     "809a1f76a6b643679f12fc68a20a46fc": {
      "model_module": "@jupyter-widgets/base",
      "model_module_version": "1.2.0",
      "model_name": "LayoutModel",
      "state": {}
     },
     "809d3c7ce1b14b44985d8d13d268f5e0": {
      "model_module": "@jupyter-widgets/controls",
      "model_module_version": "1.5.0",
      "model_name": "ButtonModel",
      "state": {
       "description": "Reset Compression Controls",
       "layout": "IPY_MODEL_35a76486d9334bf494a77edcc875cc10",
       "style": "IPY_MODEL_6f4da0437b79469686adc7773ccc7de8"
      }
     },
     "80a40e63ebb44c59b24319a248284256": {
      "model_module": "@jupyter-widgets/base",
      "model_module_version": "1.2.0",
      "model_name": "LayoutModel",
      "state": {}
     },
     "80cd8537224f4270bddd43d11f76e4be": {
      "model_module": "@jupyter-widgets/controls",
      "model_module_version": "1.5.0",
      "model_name": "BoxModel",
      "state": {
       "children": [
        "IPY_MODEL_106b018169204a2fb3c4c97e4818d387",
        "IPY_MODEL_c6b39570e58a415c9c0c03e5d82ba0b0"
       ],
       "layout": "IPY_MODEL_972facdc46144e13aa2ab3d04f3f7c16"
      }
     },
     "80d06e44fe724513b638d8be9e53b69b": {
      "model_module": "@jupyter-widgets/controls",
      "model_module_version": "1.5.0",
      "model_name": "ButtonModel",
      "state": {
       "description": "Export Image",
       "layout": "IPY_MODEL_cd80bd84e02f42c697ca05f59ff1649e",
       "style": "IPY_MODEL_1a6344077aa54f29a0a4087233c158c8"
      }
     },
     "80d08bae4b5840fb8cdcef09d94a7e9d": {
      "model_module": "@jupyter-widgets/base",
      "model_module_version": "1.2.0",
      "model_name": "LayoutModel",
      "state": {}
     },
     "8112f30e04494ce7bdf94f1bc1a641ab": {
      "model_module": "@jupyter-widgets/base",
      "model_module_version": "1.2.0",
      "model_name": "LayoutModel",
      "state": {}
     },
     "81438a45810248f7a995c0ab308fae2f": {
      "model_module": "@jupyter-widgets/base",
      "model_module_version": "1.2.0",
      "model_name": "LayoutModel",
      "state": {}
     },
     "8145e48b4454406c9ddb5d41420e9d66": {
      "model_module": "@jupyter-widgets/controls",
      "model_module_version": "1.5.0",
      "model_name": "DescriptionStyleModel",
      "state": {
       "description_width": ""
      }
     },
     "81d075ada0f2495b8477d6597f40e6a9": {
      "model_module": "@jupyter-widgets/base",
      "model_module_version": "1.2.0",
      "model_name": "LayoutModel",
      "state": {
       "border": "solid 4px #222",
       "margin": "4px",
       "padding": "0"
      }
     },
     "81d621c1517a4bd3aaa071985b422028": {
      "model_module": "@jupyter-widgets/controls",
      "model_module_version": "1.5.0",
      "model_name": "FloatSliderModel",
      "state": {
       "description": "Protected Area Threshold",
       "layout": "IPY_MODEL_1e0d6940e1244f91ac2402eef446019a",
       "max": 1,
       "step": 0.01,
       "style": "IPY_MODEL_857b2eb7c7fb47ee9bdb77f1d230ba86",
       "value": 0.5
      }
     },
     "81d8e17d93b64025bf609ac4ba5dd8b8": {
      "model_module": "@jupyter-widgets/base",
      "model_module_version": "1.2.0",
      "model_name": "LayoutModel",
      "state": {}
     },
     "820f9d196fcf4197b4d6d04c61b28934": {
      "model_module": "@jupyter-widgets/controls",
      "model_module_version": "1.5.0",
      "model_name": "FloatSliderModel",
      "state": {
       "description": "Protected Area Threshold",
       "layout": "IPY_MODEL_f0f14f55266a48be9243883746d3bd82",
       "max": 1,
       "step": 0.01,
       "style": "IPY_MODEL_87fa75d1a7c449458a767b980f1ba29e",
       "value": 0.7
      }
     },
     "8271e98d66d844828b57a54286f33146": {
      "model_module": "@jupyter-widgets/base",
      "model_module_version": "1.2.0",
      "model_name": "LayoutModel",
      "state": {
       "align_items": "stretch",
       "display": "flex",
       "flex_flow": "column",
       "width": "1128px"
      }
     },
     "82cd51da27a3471dae30df3cf2e15459": {
      "model_module": "@jupyter-widgets/base",
      "model_module_version": "1.2.0",
      "model_name": "LayoutModel",
      "state": {}
     },
     "82fd17f22d0441ae97201f9733aa2f08": {
      "model_module": "@jupyter-widgets/controls",
      "model_module_version": "1.5.0",
      "model_name": "SliderStyleModel",
      "state": {
       "description_width": ""
      }
     },
     "830e98545475495bbf93943508b3ede7": {
      "model_module": "@jupyter-widgets/controls",
      "model_module_version": "1.5.0",
      "model_name": "CheckboxModel",
      "state": {
       "description": "Show Out-of-Gamut",
       "disabled": false,
       "layout": "IPY_MODEL_799d18cf92ce421b9def9c68b03620fb",
       "style": "IPY_MODEL_7c9b98995ba44a4aa5f10ccbdf31d713",
       "value": false
      }
     },
     "8320e12bac6f46a480a155255d5ca91e": {
      "model_module": "@jupyter-widgets/controls",
      "model_module_version": "1.5.0",
      "model_name": "TabModel",
      "state": {
       "_titles": {
        "0": "Global Controls",
        "1": "Viewer Controls",
        "2": "Protected Area Controls",
        "3": "Saturation Controls",
        "4": "Hue Controls"
       },
       "children": [
        "IPY_MODEL_7fbde0c893104b138a835dc09ac45d82",
        "IPY_MODEL_7d879eecd8bf4379bde9d61e870497ba",
        "IPY_MODEL_884cf207f45e4f3bafdeb48ae1ec76d8",
        "IPY_MODEL_ee238a36fa0b4281a787fe7a25b99509",
        "IPY_MODEL_6711bcd3bf7847dda4cfccf8573eca8e"
       ],
       "layout": "IPY_MODEL_4b76ba283ec7434c978059f198aa6620"
      }
     },
     "8335b316e80740b0a7e65b3dc3fedf15": {
      "model_module": "@jupyter-widgets/base",
      "model_module_version": "1.2.0",
      "model_name": "LayoutModel",
      "state": {}
     },
     "833787af5f2748f8bbc780f9be0e01c1": {
      "model_module": "jupyter-matplotlib",
      "model_module_version": "^0.7.2",
      "model_name": "ToolbarModel",
      "state": {
       "layout": "IPY_MODEL_740c64b87e0149b0be1cb271bf6c2b1f",
       "toolitems": [
        [
         "Home",
         "Reset original view",
         "home",
         "home"
        ],
        [
         "Back",
         "Back to previous view",
         "arrow-left",
         "back"
        ],
        [
         "Forward",
         "Forward to next view",
         "arrow-right",
         "forward"
        ],
        [
         "Pan",
         "Pan axes with left mouse, zoom with right",
         "arrows",
         "pan"
        ],
        [
         "Zoom",
         "Zoom to rectangle",
         "square-o",
         "zoom"
        ],
        [
         "Download",
         "Download plot",
         "floppy-o",
         "save_figure"
        ]
       ]
      }
     },
     "833a92653ddd49c388b3700e2fc5d1b3": {
      "model_module": "@jupyter-widgets/base",
      "model_module_version": "1.2.0",
      "model_name": "LayoutModel",
      "state": {}
     },
     "8357a971fe044b768178ec0dc34f9be4": {
      "model_module": "@jupyter-widgets/controls",
      "model_module_version": "1.5.0",
      "model_name": "TabModel",
      "state": {
       "_titles": {
        "0": "Global Controls",
        "1": "Viewer Controls",
        "2": "Protected Area Controls",
        "3": "Saturation Controls",
        "4": "Hue Controls"
       },
       "children": [
        "IPY_MODEL_4d2a274304ce4dc3b8eae4b11f1c1ff8",
        "IPY_MODEL_e0ffbf90a2764b10b2779b5785b61b3f",
        "IPY_MODEL_3222b3a3c03942c5b5c59741e4591e1a",
        "IPY_MODEL_2bc95c601ab244519e1b01ebb751bb5c",
        "IPY_MODEL_af82f4d2ae9b4e4196f81162dc18a7e3"
       ],
       "layout": "IPY_MODEL_10dfcf0f5e2e4189bdc303ad304e3d5a"
      }
     },
     "83b5e2864e864da5b0d5ad49960e4b4b": {
      "model_module": "@jupyter-widgets/controls",
      "model_module_version": "1.5.0",
      "model_name": "ButtonStyleModel",
      "state": {}
     },
     "83e29e4ab1f043f19694aa9292c2c42e": {
      "model_module": "@jupyter-widgets/base",
      "model_module_version": "1.2.0",
      "model_name": "LayoutModel",
      "state": {
       "border": "solid 4px #222",
       "margin": "4px",
       "padding": "0"
      }
     },
     "83ed485df4b545629d2c0b1051d5ed13": {
      "model_module": "@jupyter-widgets/base",
      "model_module_version": "1.2.0",
      "model_name": "LayoutModel",
      "state": {}
     },
     "83ee642732114df0ac6bd426b74a9307": {
      "model_module": "@jupyter-widgets/controls",
      "model_module_version": "1.5.0",
      "model_name": "CheckboxModel",
      "state": {
       "description": "Disable Medicina",
       "disabled": false,
       "layout": "IPY_MODEL_af2454808f47446cb4f5519af4cb3412",
       "style": "IPY_MODEL_ae011002438949e1980c219191b5e6d4",
       "value": false
      }
     },
     "8400e342e10f430984cecafc182826ba": {
      "model_module": "@jupyter-widgets/controls",
      "model_module_version": "1.5.0",
      "model_name": "SliderStyleModel",
      "state": {
       "description_width": ""
      }
     },
     "844b8d5040774e438ec233901a6f4641": {
      "model_module": "@jupyter-widgets/controls",
      "model_module_version": "1.5.0",
      "model_name": "ButtonModel",
      "state": {
       "description": "Reset Protected Area",
       "layout": "IPY_MODEL_c674033cd8d34bc99b7e8334dcb88e23",
       "style": "IPY_MODEL_ff542318c0ae43aa876e1b329920250b"
      }
     },
     "8452145358f64a2d95e7857ce337752f": {
      "model_module": "@jupyter-widgets/base",
      "model_module_version": "1.2.0",
      "model_name": "LayoutModel",
      "state": {}
     },
     "8455c0ae71cc41f5b3eb9efe551b6aa2": {
      "model_module": "@jupyter-widgets/base",
      "model_module_version": "1.2.0",
      "model_name": "LayoutModel",
      "state": {}
     },
     "846630cf65fa44658f22b4623de1d2b5": {
      "model_module": "@jupyter-widgets/controls",
      "model_module_version": "1.5.0",
      "model_name": "ButtonStyleModel",
      "state": {}
     },
     "847a963c83f24b33a29eab7e1a1ab851": {
      "model_module": "@jupyter-widgets/controls",
      "model_module_version": "1.5.0",
      "model_name": "ButtonStyleModel",
      "state": {}
     },
     "84b54bf6bb234c7fb74722e19eb7df1d": {
      "model_module": "@jupyter-widgets/controls",
      "model_module_version": "1.5.0",
      "model_name": "ButtonModel",
      "state": {
       "description": "Reset Exposure",
       "layout": "IPY_MODEL_e37cf598e7e54174b4b523f5a6c752c3",
       "style": "IPY_MODEL_3408270f99a6422bb25a1ee52fbb30c9"
      }
     },
     "84bfc015ed6042af87427160442240cf": {
      "model_module": "@jupyter-widgets/base",
      "model_module_version": "1.2.0",
      "model_name": "LayoutModel",
      "state": {}
     },
     "84cee4b2145e46cbb0e58f978ffd230d": {
      "model_module": "@jupyter-widgets/controls",
      "model_module_version": "1.5.0",
      "model_name": "HBoxModel",
      "state": {
       "children": [
        "IPY_MODEL_87e1e9a81403487aa4ea9dbb76cae5e7",
        "IPY_MODEL_3f7674f9c8774036ae9e40029e45c340",
        "IPY_MODEL_45eab4772125460283a8c675f159fa35"
       ],
       "layout": "IPY_MODEL_9399864626174d30b5d123e03cb89590"
      }
     },
     "84f5dc0dac5e4c068f72bef231d01b69": {
      "model_module": "@jupyter-widgets/controls",
      "model_module_version": "1.5.0",
      "model_name": "ButtonStyleModel",
      "state": {}
     },
     "84fc20564a1f4630a9d4166702999956": {
      "model_module": "@jupyter-widgets/controls",
      "model_module_version": "1.5.0",
      "model_name": "DescriptionStyleModel",
      "state": {
       "description_width": ""
      }
     },
     "851f48981f14470a861df617ef6bea3c": {
      "model_module": "@jupyter-widgets/controls",
      "model_module_version": "1.5.0",
      "model_name": "SliderStyleModel",
      "state": {
       "description_width": ""
      }
     },
     "856168b51e5c46639987d73b8f0c4b17": {
      "model_module": "@jupyter-widgets/base",
      "model_module_version": "1.2.0",
      "model_name": "LayoutModel",
      "state": {}
     },
     "85662698ecfd4254815811398cbd16f3": {
      "model_module": "@jupyter-widgets/base",
      "model_module_version": "1.2.0",
      "model_name": "LayoutModel",
      "state": {}
     },
     "857b2eb7c7fb47ee9bdb77f1d230ba86": {
      "model_module": "@jupyter-widgets/controls",
      "model_module_version": "1.5.0",
      "model_name": "SliderStyleModel",
      "state": {
       "description_width": ""
      }
     },
     "8585fc2510de47799b1599ab1417b39b": {
      "model_module": "@jupyter-widgets/base",
      "model_module_version": "1.2.0",
      "model_name": "LayoutModel",
      "state": {}
     },
     "85dcad787ff24cf5b73d8c3b3f515a36": {
      "model_module": "@jupyter-widgets/controls",
      "model_module_version": "1.5.0",
      "model_name": "HBoxModel",
      "state": {
       "children": [
        "IPY_MODEL_fac0e9629a844151a17e203aa650e819",
        "IPY_MODEL_9468e606045e4660946a0aab25f164e6",
        "IPY_MODEL_1d5c19897bd34bedbe47124ae895407c"
       ],
       "layout": "IPY_MODEL_493a92a932c54b7182827b1a3c0400d3"
      }
     },
     "86198e4f638e4a00a427a661d8c6fb6a": {
      "model_module": "@jupyter-widgets/base",
      "model_module_version": "1.2.0",
      "model_name": "LayoutModel",
      "state": {}
     },
     "863bc382d2f14d9092fa67e5c70db006": {
      "model_module": "@jupyter-widgets/controls",
      "model_module_version": "1.5.0",
      "model_name": "ButtonModel",
      "state": {
       "description": "Export Image",
       "layout": "IPY_MODEL_d1ddf1bc4c4e416080b40dc260c5e5c4",
       "style": "IPY_MODEL_847a963c83f24b33a29eab7e1a1ab851"
      }
     },
     "8642c09321aa4dbebc1bc505e6e5ee80": {
      "model_module": "@jupyter-widgets/base",
      "model_module_version": "1.2.0",
      "model_name": "LayoutModel",
      "state": {}
     },
     "866a3a1a7c7e4666876c8779d28fdb66": {
      "model_module": "@jupyter-widgets/base",
      "model_module_version": "1.2.0",
      "model_name": "LayoutModel",
      "state": {}
     },
     "868742a385e04d2c87e2e02252fc0661": {
      "model_module": "@jupyter-widgets/controls",
      "model_module_version": "1.5.0",
      "model_name": "FloatSliderModel",
      "state": {
       "description": "270°",
       "layout": "IPY_MODEL_cbbd005864584ea0bd6e2e509ebadc61",
       "max": 1,
       "min": -1,
       "step": 0.01,
       "style": "IPY_MODEL_4dc26382b4c04506a81f9c4b57fabb9c"
      }
     },
     "868f2f20281644efabf712b39f3475dc": {
      "model_module": "@jupyter-widgets/base",
      "model_module_version": "1.2.0",
      "model_name": "LayoutModel",
      "state": {}
     },
     "870047873a31453a9c4038cb3935d843": {
      "model_module": "@jupyter-widgets/base",
      "model_module_version": "1.2.0",
      "model_name": "LayoutModel",
      "state": {}
     },
     "87055c9604c34c70b465a07db536c9f2": {
      "model_module": "@jupyter-widgets/base",
      "model_module_version": "1.2.0",
      "model_name": "LayoutModel",
      "state": {}
     },
     "8728c71a9683453f9ae4d1fd6fe50dc2": {
      "model_module": "@jupyter-widgets/base",
      "model_module_version": "1.2.0",
      "model_name": "LayoutModel",
      "state": {}
     },
     "875b01fcb4b9436c94dd3c557cf67672": {
      "model_module": "@jupyter-widgets/controls",
      "model_module_version": "1.5.0",
      "model_name": "SliderStyleModel",
      "state": {
       "description_width": ""
      }
     },
     "8773e17cde4944b69959c999fcd77c23": {
      "model_module": "@jupyter-widgets/controls",
      "model_module_version": "1.5.0",
      "model_name": "FloatSliderModel",
      "state": {
       "description": "270°",
       "layout": "IPY_MODEL_8ea6437679274a7880cf2a736b4590be",
       "max": 1,
       "min": -1,
       "step": 0.01,
       "style": "IPY_MODEL_82fd17f22d0441ae97201f9733aa2f08"
      }
     },
     "87928a7ca34749c6a5006aee81c701bb": {
      "model_module": "jupyter-matplotlib",
      "model_module_version": "^0.7.2",
      "model_name": "MPLCanvasModel",
      "state": {
       "_figure_label": "Figure 2",
       "_height": 396,
       "_width": 1100,
       "header_visible": false,
       "layout": "IPY_MODEL_a5130ed0b2a6462286559200d80f4c6a",
       "resizable": false,
       "toolbar": "IPY_MODEL_a65dea13fb07415f9ab252800fcf26c6",
       "toolbar_position": "left",
       "toolbar_visible": false
      }
     },
     "8798c28b240245ebb8d3017db644b110": {
      "model_module": "@jupyter-widgets/base",
      "model_module_version": "1.2.0",
      "model_name": "LayoutModel",
      "state": {}
     },
     "87b84609d98349fab6c8f62d3b7e74d4": {
      "model_module": "@jupyter-widgets/base",
      "model_module_version": "1.2.0",
      "model_name": "LayoutModel",
      "state": {}
     },
     "87cc55383e04479cb86a2ad75c3a927c": {
      "model_module": "jupyter-matplotlib",
      "model_module_version": "^0.7.2",
      "model_name": "ToolbarModel",
      "state": {
       "layout": "IPY_MODEL_937e384f2b8b472d9a54275cc6c7b2e6",
       "toolitems": [
        [
         "Home",
         "Reset original view",
         "home",
         "home"
        ],
        [
         "Back",
         "Back to previous view",
         "arrow-left",
         "back"
        ],
        [
         "Forward",
         "Forward to next view",
         "arrow-right",
         "forward"
        ],
        [
         "Pan",
         "Pan axes with left mouse, zoom with right",
         "arrows",
         "pan"
        ],
        [
         "Zoom",
         "Zoom to rectangle",
         "square-o",
         "zoom"
        ],
        [
         "Download",
         "Download plot",
         "floppy-o",
         "save_figure"
        ]
       ]
      }
     },
     "87e1e9a81403487aa4ea9dbb76cae5e7": {
      "model_module": "@jupyter-widgets/controls",
      "model_module_version": "1.5.0",
      "model_name": "CheckboxModel",
      "state": {
       "description": "Show Out-of-Gamut",
       "disabled": false,
       "layout": "IPY_MODEL_6577904a5c81480594ede4af4e25701b",
       "style": "IPY_MODEL_7f89d6807aa74543a45589155cf7c80a",
       "value": false
      }
     },
     "87fa75d1a7c449458a767b980f1ba29e": {
      "model_module": "@jupyter-widgets/controls",
      "model_module_version": "1.5.0",
      "model_name": "SliderStyleModel",
      "state": {
       "description_width": ""
      }
     },
     "8841bcbf3a5144b4bbeb608abcbc8458": {
      "model_module": "@jupyter-widgets/controls",
      "model_module_version": "1.5.0",
      "model_name": "ButtonStyleModel",
      "state": {}
     },
     "884cf207f45e4f3bafdeb48ae1ec76d8": {
      "model_module": "@jupyter-widgets/controls",
      "model_module_version": "1.5.0",
      "model_name": "HBoxModel",
      "state": {
       "children": [
        "IPY_MODEL_b0ab91db258f48de9ca31fe95e9e5745",
        "IPY_MODEL_c827bec7e45745798b40989c0fcfc1ed"
       ],
       "layout": "IPY_MODEL_a0c55e7fe1644ea2a5f4278ab02e9609"
      }
     },
     "886b6b1c9bc94d4cab1018e6a3188b4c": {
      "model_module": "@jupyter-widgets/base",
      "model_module_version": "1.2.0",
      "model_name": "LayoutModel",
      "state": {
       "align_items": "stretch",
       "display": "flex",
       "flex_flow": "column",
       "width": "1128px"
      }
     },
     "88791783514245829932ebd9f27bc589": {
      "model_module": "@jupyter-widgets/controls",
      "model_module_version": "1.5.0",
      "model_name": "HBoxModel",
      "state": {
       "children": [
        "IPY_MODEL_f4ce892fd1024c53839135382d9dcc89",
        "IPY_MODEL_4d450380a9ce4d438939049c0e54f4c3",
        "IPY_MODEL_7adba07c307942799c85b7df27f9985f"
       ],
       "layout": "IPY_MODEL_0edc6297a4674b48a2e2d6bbdb5efd60"
      }
     },
     "88935cc11faf4e3cb43d7e927642d8fd": {
      "model_module": "@jupyter-widgets/controls",
      "model_module_version": "1.5.0",
      "model_name": "ButtonModel",
      "state": {
       "description": "Export Image",
       "layout": "IPY_MODEL_6b40b50cf4524bd98fabc8c65c2a73fc",
       "style": "IPY_MODEL_f827b4d8fcb5407cb8fe13337b9fc3dd"
      }
     },
     "889d1a425dc14d1d9f5f8f72f36d6c40": {
      "model_module": "@jupyter-widgets/base",
      "model_module_version": "1.2.0",
      "model_name": "LayoutModel",
      "state": {}
     },
     "88a95afe74ec4ee6b006177bb870ce43": {
      "model_module": "@jupyter-widgets/base",
      "model_module_version": "1.2.0",
      "model_name": "LayoutModel",
      "state": {}
     },
     "88ba9d68188648d5a90715d19091e6a7": {
      "model_module": "@jupyter-widgets/controls",
      "model_module_version": "1.5.0",
      "model_name": "SliderStyleModel",
      "state": {
       "description_width": ""
      }
     },
     "88cc20fd5e33476fb53674512ead98e0": {
      "model_module": "@jupyter-widgets/controls",
      "model_module_version": "1.5.0",
      "model_name": "SliderStyleModel",
      "state": {
       "description_width": ""
      }
     },
     "88dfccb4369d4774be96fe4f8e10c9e1": {
      "model_module": "@jupyter-widgets/controls",
      "model_module_version": "1.5.0",
      "model_name": "ButtonModel",
      "state": {
       "description": "Export Image",
       "layout": "IPY_MODEL_92df92111e6a40ab9204f60bd3353d0a",
       "style": "IPY_MODEL_2445afa32ca543d2bde5d77c2f6d6111"
      }
     },
     "88e8b289ad1e4cc1bb4f535bd22a33f1": {
      "model_module": "@jupyter-widgets/controls",
      "model_module_version": "1.5.0",
      "model_name": "ButtonModel",
      "state": {
       "description": "Save Figure",
       "layout": "IPY_MODEL_ae4201e505c64ed384d28234e96cc632",
       "style": "IPY_MODEL_aac9db9f434f412387f9f0a4e40e9b44"
      }
     },
     "891105b4ffd24ac29663b0172e6a4c44": {
      "model_module": "@jupyter-widgets/controls",
      "model_module_version": "1.5.0",
      "model_name": "FloatSliderModel",
      "state": {
       "description": "180°",
       "layout": "IPY_MODEL_dd20a2006ce24d4d94955284256a92e4",
       "max": 1,
       "min": -1,
       "step": 0.01,
       "style": "IPY_MODEL_19b0beb0cea048918fbb85724594e334"
      }
     },
     "891bf0ef5eff441fb7b113bf468bd383": {
      "model_module": "@jupyter-widgets/controls",
      "model_module_version": "1.5.0",
      "model_name": "DescriptionStyleModel",
      "state": {
       "description_width": ""
      }
     },
     "89516c26508447159760b9b8f14f061e": {
      "model_module": "@jupyter-widgets/controls",
      "model_module_version": "1.5.0",
      "model_name": "SliderStyleModel",
      "state": {
       "description_width": ""
      }
     },
     "8960f8da0b1b4e23993fb538d29f4f63": {
      "model_module": "@jupyter-widgets/controls",
      "model_module_version": "1.5.0",
      "model_name": "SliderStyleModel",
      "state": {
       "description_width": ""
      }
     },
     "8a0bd3f1379c4392b1e2284f79e25aad": {
      "model_module": "@jupyter-widgets/controls",
      "model_module_version": "1.5.0",
      "model_name": "CheckboxModel",
      "state": {
       "description": "Show Out-of-Gamut",
       "disabled": false,
       "layout": "IPY_MODEL_9c3d70fb02f8469c9faf0879fa3ee9ce",
       "style": "IPY_MODEL_abfae61a62604c0595038c967fa0acae",
       "value": false
      }
     },
     "8a32b17aff6a459f956706f5eb4eccf8": {
      "model_module": "@jupyter-widgets/controls",
      "model_module_version": "1.5.0",
      "model_name": "ButtonModel",
      "state": {
       "description": "Save Figure",
       "layout": "IPY_MODEL_eb661fd8f5af4b60a26da0910c3fc511",
       "style": "IPY_MODEL_4dd626a8bae447e2b175dc9ce434a485"
      }
     },
     "8a34d19792d84b7191721468d105e377": {
      "model_module": "@jupyter-widgets/base",
      "model_module_version": "1.2.0",
      "model_name": "LayoutModel",
      "state": {}
     },
     "8a4c4fffe96440888dcba473777b837f": {
      "model_module": "@jupyter-widgets/controls",
      "model_module_version": "1.5.0",
      "model_name": "SliderStyleModel",
      "state": {
       "description_width": ""
      }
     },
     "8a7161772fc2406c928964fad3c8a083": {
      "model_module": "@jupyter-widgets/controls",
      "model_module_version": "1.5.0",
      "model_name": "SliderStyleModel",
      "state": {
       "description_width": ""
      }
     },
     "8ab5bcc05bed42c4b899f2dd4322c307": {
      "model_module": "@jupyter-widgets/base",
      "model_module_version": "1.2.0",
      "model_name": "LayoutModel",
      "state": {}
     },
     "8ad2cbd63f7349588cc1c8310c7a3b87": {
      "model_module": "@jupyter-widgets/controls",
      "model_module_version": "1.5.0",
      "model_name": "FloatSliderModel",
      "state": {
       "description": "315°",
       "layout": "IPY_MODEL_f11cb571d34746e0a0d8377db1d060e2",
       "max": 1,
       "min": -1,
       "step": 0.01,
       "style": "IPY_MODEL_dd6dafa3d66f47489bdac2857caad52d"
      }
     },
     "8b01d542907743ca95bf9ababf4b94d8": {
      "model_module": "@jupyter-widgets/base",
      "model_module_version": "1.2.0",
      "model_name": "LayoutModel",
      "state": {}
     },
     "8b0c6fb4b4b9415fb79fbf42907349a9": {
      "model_module": "@jupyter-widgets/base",
      "model_module_version": "1.2.0",
      "model_name": "LayoutModel",
      "state": {}
     },
     "8b3afbbc82084e56857dca4e68e3c844": {
      "model_module": "@jupyter-widgets/base",
      "model_module_version": "1.2.0",
      "model_name": "LayoutModel",
      "state": {}
     },
     "8b465d6f00ee4b8faef435bbc94a1eef": {
      "model_module": "@jupyter-widgets/controls",
      "model_module_version": "1.5.0",
      "model_name": "FloatSliderModel",
      "state": {
       "description": "315°",
       "layout": "IPY_MODEL_bc9ba2f60a054466b35d5b0117a37592",
       "max": 1,
       "min": -1,
       "step": 0.01,
       "style": "IPY_MODEL_656372b4e14c41a69c9be1949493c48d"
      }
     },
     "8b4b9463112248fb833ec60e6258133c": {
      "model_module": "@jupyter-widgets/base",
      "model_module_version": "1.2.0",
      "model_name": "LayoutModel",
      "state": {}
     },
     "8b6c788f4e2f49b4ac195cf1be3c5794": {
      "model_module": "@jupyter-widgets/base",
      "model_module_version": "1.2.0",
      "model_name": "LayoutModel",
      "state": {}
     },
     "8b97f014671043c98f7a82bb1c95ebd9": {
      "model_module": "@jupyter-widgets/base",
      "model_module_version": "1.2.0",
      "model_name": "LayoutModel",
      "state": {}
     },
     "8b988a08cd1d4f6f81a9cce44bf01084": {
      "model_module": "@jupyter-widgets/base",
      "model_module_version": "1.2.0",
      "model_name": "LayoutModel",
      "state": {}
     },
     "8bb5e623a3064275aa405411518cc5d5": {
      "model_module": "@jupyter-widgets/controls",
      "model_module_version": "1.5.0",
      "model_name": "ButtonModel",
      "state": {
       "description": "Reset Hue Controls",
       "layout": "IPY_MODEL_8081afba85fa461098058d1fdd94fcbc",
       "style": "IPY_MODEL_9f76c169bebf4caa918c1bc8e017eb6a"
      }
     },
     "8bbef9aef1c74921a8f9e3be120dd188": {
      "model_module": "@jupyter-widgets/base",
      "model_module_version": "1.2.0",
      "model_name": "LayoutModel",
      "state": {}
     },
     "8bce03df5b824e1d9d37e2a6aab5001f": {
      "model_module": "@jupyter-widgets/controls",
      "model_module_version": "1.5.0",
      "model_name": "ButtonStyleModel",
      "state": {}
     },
     "8c2149e5c6284ca08c4a925ec728e93f": {
      "model_module": "@jupyter-widgets/controls",
      "model_module_version": "1.5.0",
      "model_name": "FloatSliderModel",
      "state": {
       "description": "Exposure",
       "layout": "IPY_MODEL_fb0090c6af28423ba0c368c09760f105",
       "max": 8,
       "min": -8,
       "step": 0.1,
       "style": "IPY_MODEL_3fbf346672164b0784360b79fdb0f6a8"
      }
     },
     "8c55e9a045714aeca8a3defbfb50b664": {
      "model_module": "@jupyter-widgets/controls",
      "model_module_version": "1.5.0",
      "model_name": "VBoxModel",
      "state": {
       "children": [
        "IPY_MODEL_a4e49a2b0a6445f282ad179039aac353",
        "IPY_MODEL_6e3060dd074e47ffbcafa84d435f2811",
        "IPY_MODEL_0fb3500078784faf86704ab619ac6ca9"
       ],
       "layout": "IPY_MODEL_5a26531830534aa38050dc8186cf1849"
      }
     },
     "8c6a9a1aa54c4710b3e734e442c40627": {
      "model_module": "@jupyter-widgets/base",
      "model_module_version": "1.2.0",
      "model_name": "LayoutModel",
      "state": {}
     },
     "8cb60e458adf439ab378a50429fbed6a": {
      "model_module": "@jupyter-widgets/controls",
      "model_module_version": "1.5.0",
      "model_name": "ButtonModel",
      "state": {
       "description": "Save Figure",
       "layout": "IPY_MODEL_805e95063e87478d993233656f2400a5",
       "style": "IPY_MODEL_146aa59cd4b7484e986662ba46cb1218"
      }
     },
     "8d0a9858998b425198c881d64a5cf5b8": {
      "model_module": "@jupyter-widgets/controls",
      "model_module_version": "1.5.0",
      "model_name": "ButtonStyleModel",
      "state": {}
     },
     "8d2968718e46448b9c88eec4b22f866b": {
      "model_module": "@jupyter-widgets/base",
      "model_module_version": "1.2.0",
      "model_name": "LayoutModel",
      "state": {
       "border": "solid 4px #222",
       "margin": "4px",
       "padding": "0"
      }
     },
     "8d3827d177654b32b4416280914e6b5a": {
      "model_module": "@jupyter-widgets/base",
      "model_module_version": "1.2.0",
      "model_name": "LayoutModel",
      "state": {}
     },
     "8d3a7650d2b24360bb9cf8cdab16d2ff": {
      "model_module": "@jupyter-widgets/controls",
      "model_module_version": "1.5.0",
      "model_name": "CheckboxModel",
      "state": {
       "description": "Show Out-of-Gamut",
       "disabled": false,
       "layout": "IPY_MODEL_e0d2196b7c274aadb91344d99d90e074",
       "style": "IPY_MODEL_4c79ed9c87b04848af99b11e065777c0",
       "value": false
      }
     },
     "8d613c27bae048168680c4f132a3ae59": {
      "model_module": "@jupyter-widgets/controls",
      "model_module_version": "1.5.0",
      "model_name": "BoxModel",
      "state": {
       "children": [
        "IPY_MODEL_542c04a2ab304b988d5b9cf2b4ef441a",
        "IPY_MODEL_b54b9fb1e9264279b2d035ac4ce8400e"
       ],
       "layout": "IPY_MODEL_c06e2a1662f940e7a9075bbe778c85ee"
      }
     },
     "8dbe07ef82e04e4cbcc5ca2d2379f52b": {
      "model_module": "@jupyter-widgets/controls",
      "model_module_version": "1.5.0",
      "model_name": "VBoxModel",
      "state": {
       "children": [
        "IPY_MODEL_a45cce25825344a9b1453beaeda06a0c"
       ],
       "layout": "IPY_MODEL_aa43f0826d124c0494a85e895a2a23c7"
      }
     },
     "8e0dcee1175640bf9c7fa664355a4c8b": {
      "model_module": "@jupyter-widgets/controls",
      "model_module_version": "1.5.0",
      "model_name": "HBoxModel",
      "state": {
       "children": [
        "IPY_MODEL_d97510adaff54004bec0e3e58d970862",
        "IPY_MODEL_52b2049c22174523969a52f56e640244"
       ],
       "layout": "IPY_MODEL_c2a94ef02b3b48fe89b4c5b096f73c60"
      }
     },
     "8e11072ec65144488c08a242d0058304": {
      "model_module": "@jupyter-widgets/base",
      "model_module_version": "1.2.0",
      "model_name": "LayoutModel",
      "state": {}
     },
     "8e2dacedb0f14e6b89eedee31e392bf4": {
      "model_module": "@jupyter-widgets/controls",
      "model_module_version": "1.5.0",
      "model_name": "HBoxModel",
      "state": {
       "children": [
        "IPY_MODEL_156d60e917014dad807cf8d4c7a4d4f1",
        "IPY_MODEL_aec330f61d0543718447ea00be76fced",
        "IPY_MODEL_8e903bf47ae140f4b888c5e5bb34c845"
       ],
       "layout": "IPY_MODEL_1a17f44085dd4266a5d01456ffd1c5d6"
      }
     },
     "8e523b61bfda42669e5fe75e0cf1896f": {
      "model_module": "@jupyter-widgets/controls",
      "model_module_version": "1.5.0",
      "model_name": "ButtonStyleModel",
      "state": {}
     },
     "8e8d0ea3e0484c1ab1a8172bee909fda": {
      "model_module": "@jupyter-widgets/controls",
      "model_module_version": "1.5.0",
      "model_name": "SliderStyleModel",
      "state": {
       "description_width": ""
      }
     },
     "8e903bf47ae140f4b888c5e5bb34c845": {
      "model_module": "@jupyter-widgets/controls",
      "model_module_version": "1.5.0",
      "model_name": "FloatSliderModel",
      "state": {
       "description": "Exposure",
       "layout": "IPY_MODEL_2e63b1f0950343009250731e539dfa68",
       "max": 8,
       "min": -8,
       "step": 0.1,
       "style": "IPY_MODEL_e2544fcdf519492599181abc5f0842b7"
      }
     },
     "8e9b0a827e014262bdcde32ace107a37": {
      "model_module": "@jupyter-widgets/base",
      "model_module_version": "1.2.0",
      "model_name": "LayoutModel",
      "state": {}
     },
     "8ea0a6171f344714a15a9830db793861": {
      "model_module": "@jupyter-widgets/controls",
      "model_module_version": "1.5.0",
      "model_name": "ButtonStyleModel",
      "state": {}
     },
     "8ea6437679274a7880cf2a736b4590be": {
      "model_module": "@jupyter-widgets/base",
      "model_module_version": "1.2.0",
      "model_name": "LayoutModel",
      "state": {}
     },
     "8eaaade0bc9e469fab9d83499cf21d9a": {
      "model_module": "@jupyter-widgets/base",
      "model_module_version": "1.2.0",
      "model_name": "LayoutModel",
      "state": {}
     },
     "8ebc790a5fa349ac96a3cb1f0153093c": {
      "model_module": "@jupyter-widgets/base",
      "model_module_version": "1.2.0",
      "model_name": "LayoutModel",
      "state": {}
     },
     "8f05b3b4e6e8413f92dd88694ffac7d4": {
      "model_module": "@jupyter-widgets/controls",
      "model_module_version": "1.5.0",
      "model_name": "FloatSliderModel",
      "state": {
       "description": "Protected Area Threshold",
       "layout": "IPY_MODEL_7a021d0dde2842f88f6873ba741e14d1",
       "max": 1,
       "step": 0.01,
       "style": "IPY_MODEL_6802ddaeeddc4bc5a03939f2d2c8b0c0",
       "value": 0.5
      }
     },
     "8f30302c75a54be6891c24c5b5a1a7a9": {
      "model_module": "@jupyter-widgets/controls",
      "model_module_version": "1.5.0",
      "model_name": "FloatSliderModel",
      "state": {
       "description": "0°",
       "layout": "IPY_MODEL_d4db5729978346ada8792fc36b1e0b37",
       "max": 1,
       "min": -1,
       "step": 0.01,
       "style": "IPY_MODEL_3426b93f62134eafaebeb9827659e8ad"
      }
     },
     "8f53605dc82d46c89e4ea335ab7dbcfb": {
      "model_module": "@jupyter-widgets/base",
      "model_module_version": "1.2.0",
      "model_name": "LayoutModel",
      "state": {}
     },
     "8f8e9848678545648aa1ee19bf38d77f": {
      "model_module": "jupyter-matplotlib",
      "model_module_version": "^0.7.2",
      "model_name": "ToolbarModel",
      "state": {
       "layout": "IPY_MODEL_88a95afe74ec4ee6b006177bb870ce43",
       "toolitems": [
        [
         "Home",
         "Reset original view",
         "home",
         "home"
        ],
        [
         "Back",
         "Back to previous view",
         "arrow-left",
         "back"
        ],
        [
         "Forward",
         "Forward to next view",
         "arrow-right",
         "forward"
        ],
        [
         "Pan",
         "Pan axes with left mouse, zoom with right",
         "arrows",
         "pan"
        ],
        [
         "Zoom",
         "Zoom to rectangle",
         "square-o",
         "zoom"
        ],
        [
         "Download",
         "Download plot",
         "floppy-o",
         "save_figure"
        ]
       ]
      }
     },
     "8fa0aafe5279484faccd156d49672074": {
      "model_module": "@jupyter-widgets/base",
      "model_module_version": "1.2.0",
      "model_name": "LayoutModel",
      "state": {}
     },
     "8fb8c1259d2d43a58bedb82683cde14e": {
      "model_module": "@jupyter-widgets/controls",
      "model_module_version": "1.5.0",
      "model_name": "ButtonModel",
      "state": {
       "description": "Save Figure",
       "layout": "IPY_MODEL_37c15614c8b246f6ae9ac545efbb4228",
       "style": "IPY_MODEL_786747af3b364350a927023834dee15c"
      }
     },
     "900163b66bec4d0581a4315b221dca84": {
      "model_module": "@jupyter-widgets/controls",
      "model_module_version": "1.5.0",
      "model_name": "TabModel",
      "state": {
       "_titles": {
        "0": "Global Controls",
        "1": "Viewer Controls",
        "2": "Protected Area Controls",
        "3": "Saturation Controls",
        "4": "Hue Controls"
       },
       "children": [
        "IPY_MODEL_f5500ba4399e40d4a98c75d28fc105e3",
        "IPY_MODEL_84cee4b2145e46cbb0e58f978ffd230d",
        "IPY_MODEL_74c8407da10f4ca0b4f9f5f03d43a3da",
        "IPY_MODEL_5e9ef7b0036c455c87f027e9d0b1a888",
        "IPY_MODEL_356ba97649a34f408721df9029f57088"
       ],
       "layout": "IPY_MODEL_9927032a66704b50987e03dc0bc331f1"
      }
     },
     "900e5dfdb0c24cc8aa718bd236020a91": {
      "model_module": "@jupyter-widgets/base",
      "model_module_version": "1.2.0",
      "model_name": "LayoutModel",
      "state": {
       "border": "solid 4px #222",
       "margin": "4px",
       "padding": "0"
      }
     },
     "9074f0253f464c268afd0dbf098f3de8": {
      "model_module": "@jupyter-widgets/controls",
      "model_module_version": "1.5.0",
      "model_name": "ButtonStyleModel",
      "state": {}
     },
     "90a31399503c452dae261c67bc9bb910": {
      "model_module": "@jupyter-widgets/base",
      "model_module_version": "1.2.0",
      "model_name": "LayoutModel",
      "state": {}
     },
     "90ae3589a5104813acfe4d86a9960784": {
      "model_module": "@jupyter-widgets/base",
      "model_module_version": "1.2.0",
      "model_name": "LayoutModel",
      "state": {}
     },
     "90d6d0e9b8614909ac519fd0202f0c17": {
      "model_module": "@jupyter-widgets/base",
      "model_module_version": "1.2.0",
      "model_name": "LayoutModel",
      "state": {
       "border": "solid 4px #222",
       "margin": "4px",
       "padding": "0"
      }
     },
     "90f4fe9ce28d486f85c21c1ff32d7e3e": {
      "model_module": "@jupyter-widgets/controls",
      "model_module_version": "1.5.0",
      "model_name": "VBoxModel",
      "state": {
       "children": [
        "IPY_MODEL_36139771223b4699b12949961c1e4faf"
       ],
       "layout": "IPY_MODEL_f57625937c1d4d998b83bb5e01691d99"
      }
     },
     "91025a0697a7482f8dc325acf85674c0": {
      "model_module": "@jupyter-widgets/base",
      "model_module_version": "1.2.0",
      "model_name": "LayoutModel",
      "state": {
       "align_items": "stretch",
       "display": "flex",
       "flex_flow": "column",
       "width": "1128px"
      }
     },
     "912a44d952594e718f980c5c5af32347": {
      "model_module": "jupyter-matplotlib",
      "model_module_version": "^0.7.2",
      "model_name": "ToolbarModel",
      "state": {
       "layout": "IPY_MODEL_b5cf07aa19574426a5d9fd79214ca694",
       "toolitems": [
        [
         "Home",
         "Reset original view",
         "home",
         "home"
        ],
        [
         "Back",
         "Back to previous view",
         "arrow-left",
         "back"
        ],
        [
         "Forward",
         "Forward to next view",
         "arrow-right",
         "forward"
        ],
        [
         "Pan",
         "Pan axes with left mouse, zoom with right",
         "arrows",
         "pan"
        ],
        [
         "Zoom",
         "Zoom to rectangle",
         "square-o",
         "zoom"
        ],
        [
         "Download",
         "Download plot",
         "floppy-o",
         "save_figure"
        ]
       ]
      }
     },
     "91691e97fbbc4fdd84d864b91fdc1430": {
      "model_module": "@jupyter-widgets/controls",
      "model_module_version": "1.5.0",
      "model_name": "DescriptionStyleModel",
      "state": {
       "description_width": ""
      }
     },
     "91ada420ba0a4f2185ae178f8ccdd921": {
      "model_module": "@jupyter-widgets/base",
      "model_module_version": "1.2.0",
      "model_name": "LayoutModel",
      "state": {}
     },
     "91bb89546f364ea59bbc8c594b3b3090": {
      "model_module": "@jupyter-widgets/base",
      "model_module_version": "1.2.0",
      "model_name": "LayoutModel",
      "state": {}
     },
     "9230bccf473847e58ea342207d4385fa": {
      "model_module": "@jupyter-widgets/base",
      "model_module_version": "1.2.0",
      "model_name": "LayoutModel",
      "state": {}
     },
     "924b481424d747e1907d1691df9cff18": {
      "model_module": "@jupyter-widgets/base",
      "model_module_version": "1.2.0",
      "model_name": "LayoutModel",
      "state": {}
     },
     "92950e05664b465f87064350cdcb5dd5": {
      "model_module": "@jupyter-widgets/base",
      "model_module_version": "1.2.0",
      "model_name": "LayoutModel",
      "state": {
       "border": "solid 4px #222",
       "margin": "4px",
       "padding": "0"
      }
     },
     "9296595a9e6f4ca6a5f034f7e0cd1c82": {
      "model_module": "@jupyter-widgets/controls",
      "model_module_version": "1.5.0",
      "model_name": "SliderStyleModel",
      "state": {
       "description_width": ""
      }
     },
     "929e040eaa284df4a51bc8ad22709102": {
      "model_module": "@jupyter-widgets/controls",
      "model_module_version": "1.5.0",
      "model_name": "VBoxModel",
      "state": {
       "children": [
        "IPY_MODEL_9af274c208084cec96b7d47c77b458ab",
        "IPY_MODEL_06094f662b744c8abb31ea7aaae2ad33",
        "IPY_MODEL_f4d2e5bd15ff4098b8c58e0f0ae250e7"
       ],
       "layout": "IPY_MODEL_32e7673fbb464fab956413af35a828ed"
      }
     },
     "92a661c8a6af4377872f04bc8cf5dba0": {
      "model_module": "@jupyter-widgets/base",
      "model_module_version": "1.2.0",
      "model_name": "LayoutModel",
      "state": {}
     },
     "92a8d6c80f984068b924660c1895b81d": {
      "model_module": "@jupyter-widgets/controls",
      "model_module_version": "1.5.0",
      "model_name": "TabModel",
      "state": {
       "_titles": {
        "0": "Global Controls",
        "1": "Viewer Controls",
        "2": "Protected Area Controls",
        "3": "Saturation Controls",
        "4": "Hue Controls"
       },
       "children": [
        "IPY_MODEL_ba1c0f893ec14408b1fa5332826467b1",
        "IPY_MODEL_3596f86321364b70b4b9e7a3d16e36d2",
        "IPY_MODEL_8e0dcee1175640bf9c7fa664355a4c8b",
        "IPY_MODEL_5e65d7c5a41f48dcb01813d1595fe477",
        "IPY_MODEL_44684356f7884e1082f503b38698d63b"
       ],
       "layout": "IPY_MODEL_593e037e82674422be111eded933f5c7"
      }
     },
     "92c777553fe44153b947265bfc659348": {
      "model_module": "@jupyter-widgets/base",
      "model_module_version": "1.2.0",
      "model_name": "LayoutModel",
      "state": {}
     },
     "92df92111e6a40ab9204f60bd3353d0a": {
      "model_module": "@jupyter-widgets/base",
      "model_module_version": "1.2.0",
      "model_name": "LayoutModel",
      "state": {}
     },
     "931c3516e72c4ec79bfc20e11600ccd9": {
      "model_module": "@jupyter-widgets/controls",
      "model_module_version": "1.5.0",
      "model_name": "ButtonModel",
      "state": {
       "description": "Reset Protected Area",
       "layout": "IPY_MODEL_46aa9f2473b94e729b486b99513fa0e5",
       "style": "IPY_MODEL_03cd2d746a544a83bfde660f7a8e9068"
      }
     },
     "936aee146d0a4c73ba9c24d6e0b9e713": {
      "model_module": "@jupyter-widgets/base",
      "model_module_version": "1.2.0",
      "model_name": "LayoutModel",
      "state": {}
     },
     "937e384f2b8b472d9a54275cc6c7b2e6": {
      "model_module": "@jupyter-widgets/base",
      "model_module_version": "1.2.0",
      "model_name": "LayoutModel",
      "state": {}
     },
     "938ce6001333431c98ea398f9a4807f3": {
      "model_module": "@jupyter-widgets/base",
      "model_module_version": "1.2.0",
      "model_name": "LayoutModel",
      "state": {}
     },
     "9399864626174d30b5d123e03cb89590": {
      "model_module": "@jupyter-widgets/base",
      "model_module_version": "1.2.0",
      "model_name": "LayoutModel",
      "state": {}
     },
     "93e21c140bd14588ac23fa0eb785c4fa": {
      "model_module": "@jupyter-widgets/base",
      "model_module_version": "1.2.0",
      "model_name": "LayoutModel",
      "state": {}
     },
     "93f2477c622545469180f59ee5feee28": {
      "model_module": "@jupyter-widgets/controls",
      "model_module_version": "1.5.0",
      "model_name": "CheckboxModel",
      "state": {
       "description": "Show Out-of-Gamut",
       "disabled": false,
       "layout": "IPY_MODEL_67111c9340f84a1e96cdfb0645d75247",
       "style": "IPY_MODEL_6b5cb96a84a14906b9ae31e66b08a304",
       "value": false
      }
     },
     "942d4e412f9445cba737d0d67bd08e21": {
      "model_module": "@jupyter-widgets/controls",
      "model_module_version": "1.5.0",
      "model_name": "FloatSliderModel",
      "state": {
       "description": "0°",
       "layout": "IPY_MODEL_80a40e63ebb44c59b24319a248284256",
       "max": 1,
       "min": -1,
       "step": 0.01,
       "style": "IPY_MODEL_7f719dc004694b9fbaeaafe4e5c833f5"
      }
     },
     "945088a6b7564c88b1226d03d81926ce": {
      "model_module": "@jupyter-widgets/base",
      "model_module_version": "1.2.0",
      "model_name": "LayoutModel",
      "state": {}
     },
     "945366b6268f4258ba39a8ca86c142be": {
      "model_module": "@jupyter-widgets/base",
      "model_module_version": "1.2.0",
      "model_name": "LayoutModel",
      "state": {}
     },
     "9468e606045e4660946a0aab25f164e6": {
      "model_module": "@jupyter-widgets/controls",
      "model_module_version": "1.5.0",
      "model_name": "DropdownModel",
      "state": {
       "_options_labels": [
        "tanh",
        "atan",
        "simple"
       ],
       "description": "Compression Function:",
       "index": 0,
       "layout": "IPY_MODEL_e6f3065f3fab4ef092dda7583969bdc5",
       "style": "IPY_MODEL_f096e1dcb75243a696f1f353e797342b"
      }
     },
     "94a923957f59492cbe9b0d6845ae7431": {
      "model_module": "jupyter-matplotlib",
      "model_module_version": "^0.7.2",
      "model_name": "ToolbarModel",
      "state": {
       "layout": "IPY_MODEL_2c9abd4ad5364b3fbff872ca7d7a1b70",
       "toolitems": [
        [
         "Home",
         "Reset original view",
         "home",
         "home"
        ],
        [
         "Back",
         "Back to previous view",
         "arrow-left",
         "back"
        ],
        [
         "Forward",
         "Forward to next view",
         "arrow-right",
         "forward"
        ],
        [
         "Pan",
         "Pan axes with left mouse, zoom with right",
         "arrows",
         "pan"
        ],
        [
         "Zoom",
         "Zoom to rectangle",
         "square-o",
         "zoom"
        ],
        [
         "Download",
         "Download plot",
         "floppy-o",
         "save_figure"
        ]
       ]
      }
     },
     "94f1e14316f143498bd4ae40ae1b5832": {
      "model_module": "@jupyter-widgets/controls",
      "model_module_version": "1.5.0",
      "model_name": "ButtonStyleModel",
      "state": {}
     },
     "94f7139ec96a490aac08fc37a4f66b21": {
      "model_module": "@jupyter-widgets/base",
      "model_module_version": "1.2.0",
      "model_name": "LayoutModel",
      "state": {
       "border": "solid 4px #222",
       "margin": "4px",
       "padding": "0"
      }
     },
     "951b22924e754218bcfd21c161f87eb9": {
      "model_module": "@jupyter-widgets/controls",
      "model_module_version": "1.5.0",
      "model_name": "SliderStyleModel",
      "state": {
       "description_width": ""
      }
     },
     "954f030175424f52b6c278a84e7f711d": {
      "model_module": "@jupyter-widgets/base",
      "model_module_version": "1.2.0",
      "model_name": "LayoutModel",
      "state": {}
     },
     "956cd832511b47c98e4ab485d94a5065": {
      "model_module": "@jupyter-widgets/base",
      "model_module_version": "1.2.0",
      "model_name": "LayoutModel",
      "state": {}
     },
     "958cf4a6af354db2b9a4123f5cdb551a": {
      "model_module": "@jupyter-widgets/base",
      "model_module_version": "1.2.0",
      "model_name": "LayoutModel",
      "state": {}
     },
     "95d2bcccbc5b46c6937c494ee8553b5b": {
      "model_module": "@jupyter-widgets/controls",
      "model_module_version": "1.5.0",
      "model_name": "DescriptionStyleModel",
      "state": {
       "description_width": ""
      }
     },
     "961c0e2359194298b198e445f1cda5e9": {
      "model_module": "@jupyter-widgets/base",
      "model_module_version": "1.2.0",
      "model_name": "LayoutModel",
      "state": {}
     },
     "9620cb444bca4bfe903af8dcfb6008af": {
      "model_module": "@jupyter-widgets/controls",
      "model_module_version": "1.5.0",
      "model_name": "HBoxModel",
      "state": {
       "children": [
        "IPY_MODEL_cdd869380eae4f37b0eb7023e3ca25a1",
        "IPY_MODEL_a738e9e2d7f84059bdde26373531d7e6",
        "IPY_MODEL_7d0985047fcc4a4b9683412b5d8dca22"
       ],
       "layout": "IPY_MODEL_994e8c7ab9fb4fe09c59a85e0c11d27e"
      }
     },
     "9653dafe687f4854a1b1e73fb3743aa6": {
      "model_module": "@jupyter-widgets/base",
      "model_module_version": "1.2.0",
      "model_name": "LayoutModel",
      "state": {}
     },
     "96a41d224fea4e34a0b133685783538c": {
      "model_module": "@jupyter-widgets/controls",
      "model_module_version": "1.5.0",
      "model_name": "FloatSliderModel",
      "state": {
       "description": "Protected Area Threshold",
       "layout": "IPY_MODEL_4ea48e20b830495489d5688535696b36",
       "max": 1,
       "step": 0.01,
       "style": "IPY_MODEL_6d9d2b1150d4451fad927e5bfc030faf",
       "value": 0.7
      }
     },
     "96a5c98194d9468097ec962857daa544": {
      "model_module": "@jupyter-widgets/base",
      "model_module_version": "1.2.0",
      "model_name": "LayoutModel",
      "state": {
       "align_items": "stretch",
       "display": "flex",
       "flex_flow": "column",
       "width": "1128px"
      }
     },
     "96a9d0e64bb94c1cbca79886d45a1ce9": {
      "model_module": "@jupyter-widgets/base",
      "model_module_version": "1.2.0",
      "model_name": "LayoutModel",
      "state": {}
     },
     "96eb415b1be64c9283613a068d79781e": {
      "model_module": "@jupyter-widgets/controls",
      "model_module_version": "1.5.0",
      "model_name": "FloatSliderModel",
      "state": {
       "description": "Compression Threshold",
       "layout": "IPY_MODEL_f26457d67c914e6183cdd7a66de34801",
       "max": 1,
       "step": 0.01,
       "style": "IPY_MODEL_4ea63e608daf4fe0b3d2b1917d642aad",
       "value": 0.8
      }
     },
     "96f4e9ff905b47e58edb415e4e759b87": {
      "model_module": "@jupyter-widgets/controls",
      "model_module_version": "1.5.0",
      "model_name": "SliderStyleModel",
      "state": {
       "description_width": ""
      }
     },
     "96f5e3974b0d4e949992e3c68b2dc0f1": {
      "model_module": "@jupyter-widgets/controls",
      "model_module_version": "1.5.0",
      "model_name": "CheckboxModel",
      "state": {
       "description": "Disable Medicina",
       "disabled": false,
       "layout": "IPY_MODEL_4dd6026f6616410f835b140110e8fc9c",
       "style": "IPY_MODEL_ee24aad55f1247c5a95d0835a1ec5362",
       "value": false
      }
     },
     "972facdc46144e13aa2ab3d04f3f7c16": {
      "model_module": "@jupyter-widgets/base",
      "model_module_version": "1.2.0",
      "model_name": "LayoutModel",
      "state": {
       "align_items": "stretch",
       "display": "flex",
       "flex_flow": "column",
       "width": "1128px"
      }
     },
     "9751874566a340198736cf24d5c766a5": {
      "model_module": "@jupyter-widgets/controls",
      "model_module_version": "1.5.0",
      "model_name": "TabModel",
      "state": {
       "_titles": {
        "0": "Global Controls",
        "1": "Viewer Controls",
        "2": "Protected Area Controls",
        "3": "Saturation Controls",
        "4": "Hue Controls"
       },
       "children": [
        "IPY_MODEL_25a75f7a184340cfa2b4c91d4a11d22a",
        "IPY_MODEL_7dcf2dcee9ea41a5a170b3d01b35d3b0",
        "IPY_MODEL_df311f45b1d44f61a29beeed29f4b11e",
        "IPY_MODEL_b52e8a6fedcc46dc90328d9d511fdd15",
        "IPY_MODEL_05c15151512c4aca90534ebbb1e6fa43"
       ],
       "layout": "IPY_MODEL_a0d1fc56397d413099f40ca5221059d4"
      }
     },
     "97750c65cf3443e7b5efbd7100eb1372": {
      "model_module": "@jupyter-widgets/base",
      "model_module_version": "1.2.0",
      "model_name": "LayoutModel",
      "state": {}
     },
     "97756053d76048188b8b719d31ad0f36": {
      "model_module": "@jupyter-widgets/controls",
      "model_module_version": "1.5.0",
      "model_name": "FloatSliderModel",
      "state": {
       "description": "45°",
       "layout": "IPY_MODEL_f862aa5b9d9a452f9ed2a69204133901",
       "max": 1,
       "min": -1,
       "step": 0.01,
       "style": "IPY_MODEL_6c166ce91afa4a38a3ef9081cea09bf2"
      }
     },
     "97963dbfb7894f408a388e3c65e69c96": {
      "model_module": "@jupyter-widgets/controls",
      "model_module_version": "1.5.0",
      "model_name": "FloatSliderModel",
      "state": {
       "description": "0°",
       "layout": "IPY_MODEL_d7fb8db95ff948b0bdafe9c4ffa44918",
       "max": 1,
       "min": -1,
       "step": 0.01,
       "style": "IPY_MODEL_9f1a61f3ec44488a8c927dfd5cb5199e"
      }
     },
     "979f8adc01544cc6bd82a0befa1bbdf9": {
      "model_module": "@jupyter-widgets/controls",
      "model_module_version": "1.5.0",
      "model_name": "VBoxModel",
      "state": {
       "children": [
        "IPY_MODEL_bf413cb91c43415aacd3df0d57ce6bd1",
        "IPY_MODEL_f4c01287ad79490bbf2507f0a64dbda7",
        "IPY_MODEL_0bd9beacff33419b9c8828450f24d2b0"
       ],
       "layout": "IPY_MODEL_945088a6b7564c88b1226d03d81926ce"
      }
     },
     "97aa3e33810a400f86e81dfab95efc98": {
      "model_module": "@jupyter-widgets/base",
      "model_module_version": "1.2.0",
      "model_name": "LayoutModel",
      "state": {}
     },
     "97cb3e4190f9478bad7b865483136e69": {
      "model_module": "@jupyter-widgets/controls",
      "model_module_version": "1.5.0",
      "model_name": "ButtonModel",
      "state": {
       "description": "Reset Exposure",
       "layout": "IPY_MODEL_5f4f462d12d1414bbacfd1c1e504dd57",
       "style": "IPY_MODEL_7c3f349c9bc04b34afe97980692211b1"
      }
     },
     "97eb06353ecd438db645bd9df72954cb": {
      "model_module": "@jupyter-widgets/controls",
      "model_module_version": "1.5.0",
      "model_name": "ButtonModel",
      "state": {
       "description": "Reset Exposure",
       "layout": "IPY_MODEL_2a7ad1d05e3747dd80eb870e6306baff",
       "style": "IPY_MODEL_b40dd3b0df9f4759867868b8f40959e5"
      }
     },
     "9863a548fe4446648dcd3412666b7405": {
      "model_module": "@jupyter-widgets/controls",
      "model_module_version": "1.5.0",
      "model_name": "SliderStyleModel",
      "state": {
       "description_width": ""
      }
     },
     "98a6935c78c446d7a1880f4f9645336f": {
      "model_module": "@jupyter-widgets/base",
      "model_module_version": "1.2.0",
      "model_name": "LayoutModel",
      "state": {}
     },
     "9927032a66704b50987e03dc0bc331f1": {
      "model_module": "@jupyter-widgets/base",
      "model_module_version": "1.2.0",
      "model_name": "LayoutModel",
      "state": {
       "border": "solid 4px #222",
       "margin": "4px",
       "padding": "0"
      }
     },
     "9935ae328be04fa1a9442ab8129912dc": {
      "model_module": "@jupyter-widgets/base",
      "model_module_version": "1.2.0",
      "model_name": "LayoutModel",
      "state": {}
     },
     "9938dc619bb94c548cdff0f985016bad": {
      "model_module": "@jupyter-widgets/controls",
      "model_module_version": "1.5.0",
      "model_name": "ButtonModel",
      "state": {
       "description": "Save Figure",
       "layout": "IPY_MODEL_c1da060d079f4ac0ada4498b22e9215a",
       "style": "IPY_MODEL_58207212837646bc834c464de0b3f95a"
      }
     },
     "994e8c7ab9fb4fe09c59a85e0c11d27e": {
      "model_module": "@jupyter-widgets/base",
      "model_module_version": "1.2.0",
      "model_name": "LayoutModel",
      "state": {}
     },
     "995417261da744a39f68886be9dff850": {
      "model_module": "@jupyter-widgets/output",
      "model_module_version": "1.0.0",
      "model_name": "OutputModel",
      "state": {
       "layout": "IPY_MODEL_a45e836197444c49abf3cd380e0d0351",
       "outputs": [
        {
         "data": {
          "application/vnd.jupyter.widget-view+json": {
           "model_id": "b72f2fd7f7a94d50a44c883b9f67a04c",
           "version_major": 2,
           "version_minor": 0
          },
          "text/plain": "Canvas(toolbar=Toolbar(toolitems=[('Home', 'Reset original view', 'home', 'home'), ('Back', 'Back to previous …"
         },
         "metadata": {},
         "output_type": "display_data"
        }
       ]
      }
     },
     "995578aa72fc45f0bd06c28e93f49c26": {
      "model_module": "@jupyter-widgets/controls",
      "model_module_version": "1.5.0",
      "model_name": "FloatSliderModel",
      "state": {
       "description": "0°",
       "layout": "IPY_MODEL_3ff5cd50dd7f4886a3da8a7cb2838ab2",
       "max": 1,
       "min": -1,
       "step": 0.01,
       "style": "IPY_MODEL_23b4d79c29ae429280a0c34cc01995a5"
      }
     },
     "998f3b566adc4249a11eda46952fb06d": {
      "model_module": "@jupyter-widgets/controls",
      "model_module_version": "1.5.0",
      "model_name": "DescriptionStyleModel",
      "state": {
       "description_width": ""
      }
     },
     "999536bdc96c48539d2aa1e35198e11a": {
      "model_module": "@jupyter-widgets/controls",
      "model_module_version": "1.5.0",
      "model_name": "TabModel",
      "state": {
       "_titles": {
        "0": "Global Controls",
        "1": "Viewer Controls",
        "2": "Compression Controls"
       },
       "children": [
        "IPY_MODEL_5bf1628357674ae48d5e5baa0fc2ee24",
        "IPY_MODEL_8e2dacedb0f14e6b89eedee31e392bf4",
        "IPY_MODEL_20f5bf85cef241f9a9ccce9f97258bab"
       ],
       "layout": "IPY_MODEL_900e5dfdb0c24cc8aa718bd236020a91"
      }
     },
     "99b5d561b58d422a8a0fd8e4c3da4a36": {
      "model_module": "@jupyter-widgets/base",
      "model_module_version": "1.2.0",
      "model_name": "LayoutModel",
      "state": {}
     },
     "99b65042d6384436b57399b4939c078e": {
      "model_module": "@jupyter-widgets/base",
      "model_module_version": "1.2.0",
      "model_name": "LayoutModel",
      "state": {}
     },
     "99bf06bb4cac4d25a8d24ccc0696acff": {
      "model_module": "@jupyter-widgets/base",
      "model_module_version": "1.2.0",
      "model_name": "LayoutModel",
      "state": {}
     },
     "99ea562c9ce3426bba6ac4b0291a04b4": {
      "model_module": "@jupyter-widgets/controls",
      "model_module_version": "1.5.0",
      "model_name": "ButtonStyleModel",
      "state": {}
     },
     "99fb151f852b40a49ce8119ab3c2c96f": {
      "model_module": "@jupyter-widgets/base",
      "model_module_version": "1.2.0",
      "model_name": "LayoutModel",
      "state": {}
     },
     "9a27607fac164796a5ae4ec0e90445ea": {
      "model_module": "@jupyter-widgets/output",
      "model_module_version": "1.0.0",
      "model_name": "OutputModel",
      "state": {
       "layout": "IPY_MODEL_4cbe9f609d4f480c98e13867e4382150",
       "outputs": [
        {
         "data": {
          "application/vnd.jupyter.widget-view+json": {
           "model_id": "d2a7c3bebcd5428c89a793fdcf86b30b",
           "version_major": 2,
           "version_minor": 0
          },
          "text/plain": "Canvas(toolbar=Toolbar(toolitems=[('Home', 'Reset original view', 'home', 'home'), ('Back', 'Back to previous …"
         },
         "metadata": {},
         "output_type": "display_data"
        }
       ]
      }
     },
     "9a591d4503c14c55b826c8f3551aaed4": {
      "model_module": "@jupyter-widgets/controls",
      "model_module_version": "1.5.0",
      "model_name": "DescriptionStyleModel",
      "state": {
       "description_width": ""
      }
     },
     "9a7160f65d7a428883d8f305e4454822": {
      "model_module": "@jupyter-widgets/controls",
      "model_module_version": "1.5.0",
      "model_name": "HBoxModel",
      "state": {
       "children": [
        "IPY_MODEL_c0ea10f93738417ca35f11b440d43360",
        "IPY_MODEL_01c22dd943a14b939ecd8c4ab75f0959",
        "IPY_MODEL_5e88b053c2ba41039e904bc227480e62"
       ],
       "layout": "IPY_MODEL_8728c71a9683453f9ae4d1fd6fe50dc2"
      }
     },
     "9a768415e817430a949da108cbac4515": {
      "model_module": "@jupyter-widgets/controls",
      "model_module_version": "1.5.0",
      "model_name": "FloatSliderModel",
      "state": {
       "description": "45°",
       "layout": "IPY_MODEL_038c40ecef5e4138ba7ba1f3440fb5b6",
       "max": 1,
       "min": -1,
       "step": 0.01,
       "style": "IPY_MODEL_5af18b1f16aa409caff1ac07361be1cd"
      }
     },
     "9ae1469044764f73ab415c9be98c6b4f": {
      "model_module": "@jupyter-widgets/base",
      "model_module_version": "1.2.0",
      "model_name": "LayoutModel",
      "state": {}
     },
     "9af274c208084cec96b7d47c77b458ab": {
      "model_module": "@jupyter-widgets/controls",
      "model_module_version": "1.5.0",
      "model_name": "FloatSliderModel",
      "state": {
       "description": "135°",
       "layout": "IPY_MODEL_5b4793dd809746e6b4d3e8cc1e1523ec",
       "max": 1,
       "min": -1,
       "step": 0.01,
       "style": "IPY_MODEL_4ac63fb2f13a4e49b675edfadae8ffc4"
      }
     },
     "9b1e633559be4dc4ab44860adb3988fe": {
      "model_module": "@jupyter-widgets/controls",
      "model_module_version": "1.5.0",
      "model_name": "ButtonModel",
      "state": {
       "description": "Reset Exposure",
       "layout": "IPY_MODEL_2df86764e83a4831ac2a00b70701caa9",
       "style": "IPY_MODEL_ffa0628aad344ef5a93a76c97ea1b1d9"
      }
     },
     "9b437a09b1674ce1b5ba8d69eca93a8d": {
      "model_module": "jupyter-matplotlib",
      "model_module_version": "^0.7.2",
      "model_name": "MPLCanvasModel",
      "state": {
       "_figure_label": "Figure 24",
       "_height": 440,
       "_width": 1100,
       "header_visible": false,
       "layout": "IPY_MODEL_52a74eaa0bd6492d9ae5fc77f2b0b60b",
       "resizable": false,
       "toolbar": "IPY_MODEL_4358b3841cc7456b8c323ea2b6d35901",
       "toolbar_position": "left",
       "toolbar_visible": false
      }
     },
     "9b87be3554bc4bb3aa0f17523c4f2100": {
      "model_module": "@jupyter-widgets/base",
      "model_module_version": "1.2.0",
      "model_name": "LayoutModel",
      "state": {}
     },
     "9bada5e07c784f2c8bb824c49afb8bfa": {
      "model_module": "@jupyter-widgets/base",
      "model_module_version": "1.2.0",
      "model_name": "LayoutModel",
      "state": {
       "border": "solid 4px #222",
       "margin": "4px",
       "padding": "0"
      }
     },
     "9bbb62c40bd2469b9b0990a4ce60f425": {
      "model_module": "@jupyter-widgets/controls",
      "model_module_version": "1.5.0",
      "model_name": "SliderStyleModel",
      "state": {
       "description_width": ""
      }
     },
     "9be839456900482b90c5eed62125be2b": {
      "model_module": "@jupyter-widgets/controls",
      "model_module_version": "1.5.0",
      "model_name": "SliderStyleModel",
      "state": {
       "description_width": ""
      }
     },
     "9bf5f098c73a44ec9197d9a1c470c497": {
      "model_module": "@jupyter-widgets/controls",
      "model_module_version": "1.5.0",
      "model_name": "HBoxModel",
      "state": {
       "children": [
        "IPY_MODEL_f709d246be674aa29f85b77eee71a2de",
        "IPY_MODEL_63075dad89884d91b2211bf8ee7fb70d",
        "IPY_MODEL_07d5f0035f5543e7aa4ec10e70411a9f"
       ],
       "layout": "IPY_MODEL_7e4b343488444d0097566476862dc547"
      }
     },
     "9c0b04d5d71741f5a9ee869459934139": {
      "model_module": "@jupyter-widgets/controls",
      "model_module_version": "1.5.0",
      "model_name": "VBoxModel",
      "state": {
       "children": [
        "IPY_MODEL_8773e17cde4944b69959c999fcd77c23",
        "IPY_MODEL_ceecbb9e8d084757acc339480ddcb0c1"
       ],
       "layout": "IPY_MODEL_ef8c5e6a933e4c25be7a046c655b252d"
      }
     },
     "9c1048bda8f24c2ab3abe06dd19f3846": {
      "model_module": "@jupyter-widgets/controls",
      "model_module_version": "1.5.0",
      "model_name": "CheckboxModel",
      "state": {
       "description": "Disable Medicina",
       "disabled": false,
       "layout": "IPY_MODEL_beabb047e9544542bbe64ed8cd27131d",
       "style": "IPY_MODEL_7bef2cf867f24ed8ad2cfbc59643283a",
       "value": false
      }
     },
     "9c11b50b529f4f6cb7844b1f613a5937": {
      "model_module": "@jupyter-widgets/base",
      "model_module_version": "1.2.0",
      "model_name": "LayoutModel",
      "state": {}
     },
     "9c3d70fb02f8469c9faf0879fa3ee9ce": {
      "model_module": "@jupyter-widgets/base",
      "model_module_version": "1.2.0",
      "model_name": "LayoutModel",
      "state": {}
     },
     "9c5207e7127f4dc09b01ee9e3417af03": {
      "model_module": "@jupyter-widgets/base",
      "model_module_version": "1.2.0",
      "model_name": "LayoutModel",
      "state": {}
     },
     "9c5a6a3626984888ac86232685b3ef62": {
      "model_module": "@jupyter-widgets/base",
      "model_module_version": "1.2.0",
      "model_name": "LayoutModel",
      "state": {}
     },
     "9c74ca90325e47dfb0397e8cf11079b3": {
      "model_module": "@jupyter-widgets/base",
      "model_module_version": "1.2.0",
      "model_name": "LayoutModel",
      "state": {}
     },
     "9ce9dee9dc3f452a9a2546cbff3c1dce": {
      "model_module": "@jupyter-widgets/controls",
      "model_module_version": "1.5.0",
      "model_name": "ButtonStyleModel",
      "state": {}
     },
     "9d46621691004874a4e05ccd74d9c27a": {
      "model_module": "@jupyter-widgets/controls",
      "model_module_version": "1.5.0",
      "model_name": "HBoxModel",
      "state": {
       "children": [
        "IPY_MODEL_6f1b9c1e14204358b283fb0872f37997",
        "IPY_MODEL_be664948a20c45ce963e66f25900afee",
        "IPY_MODEL_61b65c39882e4fb185649a9f1173899a"
       ],
       "layout": "IPY_MODEL_77d40bdf477c4928b3dba28ab95213b0"
      }
     },
     "9d53375ce33e4df7bd80913b66d30456": {
      "model_module": "@jupyter-widgets/controls",
      "model_module_version": "1.5.0",
      "model_name": "HBoxModel",
      "state": {
       "children": [
        "IPY_MODEL_c9a7b2d9e6cc4d4195739b339bf01b54",
        "IPY_MODEL_6c90aef343ec4e5c8d3a581f58534cba"
       ],
       "layout": "IPY_MODEL_6bf1f0533d374e35b3cf6a0277ac065b"
      }
     },
     "9d6268ca03924a4ca8c73ee2fc3caa6e": {
      "model_module": "@jupyter-widgets/base",
      "model_module_version": "1.2.0",
      "model_name": "LayoutModel",
      "state": {}
     },
     "9d71766b8e39499090115fab87977e74": {
      "model_module": "@jupyter-widgets/controls",
      "model_module_version": "1.5.0",
      "model_name": "VBoxModel",
      "state": {
       "children": [
        "IPY_MODEL_995578aa72fc45f0bd06c28e93f49c26",
        "IPY_MODEL_ae8141cc74304499ba8d3b1715615143",
        "IPY_MODEL_de995c24bc0547118236af9e175bb70a"
       ],
       "layout": "IPY_MODEL_7960ca6526aa482b8bc311d5611ae98d"
      }
     },
     "9d814e1e46404754838e18ce5efb7d16": {
      "model_module": "@jupyter-widgets/controls",
      "model_module_version": "1.5.0",
      "model_name": "SliderStyleModel",
      "state": {
       "description_width": ""
      }
     },
     "9d8435d3ac934c94a7702ada06daa3c9": {
      "model_module": "@jupyter-widgets/base",
      "model_module_version": "1.2.0",
      "model_name": "LayoutModel",
      "state": {}
     },
     "9da26fa764764bebb409d36d76e989a1": {
      "model_module": "@jupyter-widgets/base",
      "model_module_version": "1.2.0",
      "model_name": "LayoutModel",
      "state": {}
     },
     "9ddccd141c05458d8f3f7470c04c10f3": {
      "model_module": "@jupyter-widgets/base",
      "model_module_version": "1.2.0",
      "model_name": "LayoutModel",
      "state": {}
     },
     "9df213e4e25d4e2da032bbee7c2f1260": {
      "model_module": "@jupyter-widgets/controls",
      "model_module_version": "1.5.0",
      "model_name": "DropdownModel",
      "state": {
       "_options_labels": [
        "tanh",
        "atan",
        "simple"
       ],
       "description": "Compression Function:",
       "index": 0,
       "layout": "IPY_MODEL_5eeeb7a9520d4f868d4f8b9e2056af5b",
       "style": "IPY_MODEL_6084adbb594f46ddb0b742170b88b6b3"
      }
     },
     "9e0e10c079c645798776e0c8607e3f56": {
      "model_module": "@jupyter-widgets/base",
      "model_module_version": "1.2.0",
      "model_name": "LayoutModel",
      "state": {}
     },
     "9e11176f0314406fb5c16a5dffd8477b": {
      "model_module": "@jupyter-widgets/base",
      "model_module_version": "1.2.0",
      "model_name": "LayoutModel",
      "state": {}
     },
     "9e9630e7707f421080eccf479529ede3": {
      "model_module": "@jupyter-widgets/controls",
      "model_module_version": "1.5.0",
      "model_name": "DescriptionStyleModel",
      "state": {
       "description_width": ""
      }
     },
     "9eacd5b260694a33a8e5499ff8b04efc": {
      "model_module": "@jupyter-widgets/controls",
      "model_module_version": "1.5.0",
      "model_name": "SliderStyleModel",
      "state": {
       "description_width": ""
      }
     },
     "9f1322eeb81e458aa59e0ee228021a92": {
      "model_module": "@jupyter-widgets/controls",
      "model_module_version": "1.5.0",
      "model_name": "DescriptionStyleModel",
      "state": {
       "description_width": ""
      }
     },
     "9f1a61f3ec44488a8c927dfd5cb5199e": {
      "model_module": "@jupyter-widgets/controls",
      "model_module_version": "1.5.0",
      "model_name": "SliderStyleModel",
      "state": {
       "description_width": ""
      }
     },
     "9f4b579b7c2d44079718177cf03f7dd7": {
      "model_module": "@jupyter-widgets/controls",
      "model_module_version": "1.5.0",
      "model_name": "FloatSliderModel",
      "state": {
       "description": "180°",
       "layout": "IPY_MODEL_752bdcf1be394b6e9945313ce4f74f8b",
       "max": 1,
       "min": -1,
       "step": 0.01,
       "style": "IPY_MODEL_bcd8fecc84054ad0ba9656d8a064f70c"
      }
     },
     "9f76c169bebf4caa918c1bc8e017eb6a": {
      "model_module": "@jupyter-widgets/controls",
      "model_module_version": "1.5.0",
      "model_name": "ButtonStyleModel",
      "state": {}
     },
     "9f8aaa710f1d451682bd395defdd133d": {
      "model_module": "@jupyter-widgets/base",
      "model_module_version": "1.2.0",
      "model_name": "LayoutModel",
      "state": {}
     },
     "9f97b37989434f029154cc91ee290f78": {
      "model_module": "@jupyter-widgets/controls",
      "model_module_version": "1.5.0",
      "model_name": "DescriptionStyleModel",
      "state": {
       "description_width": ""
      }
     },
     "9fc9159d56524709a9f56c9636b528e4": {
      "model_module": "@jupyter-widgets/controls",
      "model_module_version": "1.5.0",
      "model_name": "ButtonStyleModel",
      "state": {}
     },
     "a00b084f610d4e7d9efbf845dae8038b": {
      "model_module": "@jupyter-widgets/controls",
      "model_module_version": "1.5.0",
      "model_name": "CheckboxModel",
      "state": {
       "description": "Show Out-of-Gamut",
       "disabled": false,
       "layout": "IPY_MODEL_d360e52631404e31b330654bb1954fc9",
       "style": "IPY_MODEL_c559e613fd18410fa0be7b6f26126696",
       "value": false
      }
     },
     "a063d6ee56ed43a9ac9433764dff16df": {
      "model_module": "@jupyter-widgets/base",
      "model_module_version": "1.2.0",
      "model_name": "LayoutModel",
      "state": {}
     },
     "a088c2fa6e874e0aadb6fadedecc81ca": {
      "model_module": "@jupyter-widgets/controls",
      "model_module_version": "1.5.0",
      "model_name": "DescriptionStyleModel",
      "state": {
       "description_width": ""
      }
     },
     "a0aaa104d99f458b93078df8004882fd": {
      "model_module": "jupyter-matplotlib",
      "model_module_version": "^0.7.2",
      "model_name": "ToolbarModel",
      "state": {
       "layout": "IPY_MODEL_a586c33fdaa8465699cbb84a16e42fbc",
       "toolitems": [
        [
         "Home",
         "Reset original view",
         "home",
         "home"
        ],
        [
         "Back",
         "Back to previous view",
         "arrow-left",
         "back"
        ],
        [
         "Forward",
         "Forward to next view",
         "arrow-right",
         "forward"
        ],
        [
         "Pan",
         "Pan axes with left mouse, zoom with right",
         "arrows",
         "pan"
        ],
        [
         "Zoom",
         "Zoom to rectangle",
         "square-o",
         "zoom"
        ],
        [
         "Download",
         "Download plot",
         "floppy-o",
         "save_figure"
        ]
       ]
      }
     },
     "a0b98ebd9af14f15b1af6f80ad4ea1da": {
      "model_module": "@jupyter-widgets/base",
      "model_module_version": "1.2.0",
      "model_name": "LayoutModel",
      "state": {}
     },
     "a0c55e7fe1644ea2a5f4278ab02e9609": {
      "model_module": "@jupyter-widgets/base",
      "model_module_version": "1.2.0",
      "model_name": "LayoutModel",
      "state": {}
     },
     "a0d1fc56397d413099f40ca5221059d4": {
      "model_module": "@jupyter-widgets/base",
      "model_module_version": "1.2.0",
      "model_name": "LayoutModel",
      "state": {
       "border": "solid 4px #222",
       "margin": "4px",
       "padding": "0"
      }
     },
     "a0eae81fd6e341a0abccb2857a2dd341": {
      "model_module": "@jupyter-widgets/controls",
      "model_module_version": "1.5.0",
      "model_name": "DescriptionStyleModel",
      "state": {
       "description_width": ""
      }
     },
     "a12c6e6866c34901bf0b3bcece20dcd4": {
      "model_module": "@jupyter-widgets/controls",
      "model_module_version": "1.5.0",
      "model_name": "ButtonModel",
      "state": {
       "description": "Save Figure",
       "layout": "IPY_MODEL_924b481424d747e1907d1691df9cff18",
       "style": "IPY_MODEL_e5aa60d0fe2c4c448993040aaeb0ce52"
      }
     },
     "a1c502b04271468db24d274466fc510e": {
      "model_module": "@jupyter-widgets/base",
      "model_module_version": "1.2.0",
      "model_name": "LayoutModel",
      "state": {}
     },
     "a1e6a8a1900b4a49a9c5fc14a14b5077": {
      "model_module": "@jupyter-widgets/controls",
      "model_module_version": "1.5.0",
      "model_name": "ButtonModel",
      "state": {
       "description": "Reset Saturation Controls",
       "layout": "IPY_MODEL_90a31399503c452dae261c67bc9bb910",
       "style": "IPY_MODEL_54635824ea854f4f9b884c1b5308ddbf"
      }
     },
     "a221404d6d714f3092d782b42005adea": {
      "model_module": "@jupyter-widgets/controls",
      "model_module_version": "1.5.0",
      "model_name": "CheckboxModel",
      "state": {
       "description": "Disable Medicina",
       "disabled": false,
       "layout": "IPY_MODEL_6aa3ee5eba474637ae5902c54b8e652f",
       "style": "IPY_MODEL_de0cb4c72c27462382f36df919b6c8d1",
       "value": false
      }
     },
     "a222145be0c747e49d364b9aeba6380c": {
      "model_module": "@jupyter-widgets/base",
      "model_module_version": "1.2.0",
      "model_name": "LayoutModel",
      "state": {}
     },
     "a2309daf6c9944e48fa8c2cd03523bf1": {
      "model_module": "@jupyter-widgets/base",
      "model_module_version": "1.2.0",
      "model_name": "LayoutModel",
      "state": {}
     },
     "a24c3662470f4f4f8ca0d6988aeb7d0f": {
      "model_module": "@jupyter-widgets/base",
      "model_module_version": "1.2.0",
      "model_name": "LayoutModel",
      "state": {}
     },
     "a265abca54ed455b9be5d17cbdd913cc": {
      "model_module": "@jupyter-widgets/base",
      "model_module_version": "1.2.0",
      "model_name": "LayoutModel",
      "state": {}
     },
     "a268f58b6d7244d08da9c5de9cbaf7c4": {
      "model_module": "@jupyter-widgets/base",
      "model_module_version": "1.2.0",
      "model_name": "LayoutModel",
      "state": {}
     },
     "a28ba278acdb49808fe7c374258883e5": {
      "model_module": "@jupyter-widgets/controls",
      "model_module_version": "1.5.0",
      "model_name": "VBoxModel",
      "state": {
       "children": [
        "IPY_MODEL_6d74cc5ec2c04ebaa5374b269453f717",
        "IPY_MODEL_c3fa19e1d13f48d2b9c0479ca8bd5f0e"
       ],
       "layout": "IPY_MODEL_62d692fb9e8741cf95626a49de964c98"
      }
     },
     "a2bff8a1dbc948009b6773e1adb56364": {
      "model_module": "@jupyter-widgets/controls",
      "model_module_version": "1.5.0",
      "model_name": "DescriptionStyleModel",
      "state": {
       "description_width": ""
      }
     },
     "a2e35b7ae4c6497498e9ec86846d1ad5": {
      "model_module": "@jupyter-widgets/base",
      "model_module_version": "1.2.0",
      "model_name": "LayoutModel",
      "state": {}
     },
     "a2e635d701c848b6a3a5b00012d935d0": {
      "model_module": "@jupyter-widgets/base",
      "model_module_version": "1.2.0",
      "model_name": "LayoutModel",
      "state": {}
     },
     "a2f359c7805f493c9692b0b8fa1122a4": {
      "model_module": "@jupyter-widgets/controls",
      "model_module_version": "1.5.0",
      "model_name": "SliderStyleModel",
      "state": {
       "description_width": ""
      }
     },
     "a30aedd9d06345e6a4fea09bb874c370": {
      "model_module": "@jupyter-widgets/controls",
      "model_module_version": "1.5.0",
      "model_name": "DescriptionStyleModel",
      "state": {
       "description_width": ""
      }
     },
     "a354640f452b4e8eab54d5c29378190d": {
      "model_module": "@jupyter-widgets/base",
      "model_module_version": "1.2.0",
      "model_name": "LayoutModel",
      "state": {}
     },
     "a3c60328a27b4473b4db5de3cc3f779c": {
      "model_module": "@jupyter-widgets/base",
      "model_module_version": "1.2.0",
      "model_name": "LayoutModel",
      "state": {}
     },
     "a4177db1231f42909434ab1be7f2180e": {
      "model_module": "@jupyter-widgets/controls",
      "model_module_version": "1.5.0",
      "model_name": "DescriptionStyleModel",
      "state": {
       "description_width": ""
      }
     },
     "a4183700068b47c7a6cc355db84a6b8d": {
      "model_module": "@jupyter-widgets/base",
      "model_module_version": "1.2.0",
      "model_name": "LayoutModel",
      "state": {}
     },
     "a43f17b065f749d8b0dc2e7c86a16355": {
      "model_module": "@jupyter-widgets/base",
      "model_module_version": "1.2.0",
      "model_name": "LayoutModel",
      "state": {}
     },
     "a45cce25825344a9b1453beaeda06a0c": {
      "model_module": "@jupyter-widgets/controls",
      "model_module_version": "1.5.0",
      "model_name": "ButtonModel",
      "state": {
       "description": "Reset Hue Controls",
       "layout": "IPY_MODEL_4b075c811f7345cd8ec04ee7b79aa483",
       "style": "IPY_MODEL_83b5e2864e864da5b0d5ad49960e4b4b"
      }
     },
     "a45e836197444c49abf3cd380e0d0351": {
      "model_module": "@jupyter-widgets/base",
      "model_module_version": "1.2.0",
      "model_name": "LayoutModel",
      "state": {
       "border": "solid 4px #222",
       "margin": "4px",
       "padding": "0"
      }
     },
     "a468742cb81d4fc096e593d6f42710fe": {
      "model_module": "@jupyter-widgets/base",
      "model_module_version": "1.2.0",
      "model_name": "LayoutModel",
      "state": {}
     },
     "a4b9da6b7d184d8596ac292c48807d8e": {
      "model_module": "@jupyter-widgets/controls",
      "model_module_version": "1.5.0",
      "model_name": "FloatSliderModel",
      "state": {
       "description": "270°",
       "layout": "IPY_MODEL_31892c59f14b4e5086d4a5c02150d105",
       "max": 1,
       "min": -1,
       "step": 0.01,
       "style": "IPY_MODEL_a8f1901274c34864a1ff950795ebf46e"
      }
     },
     "a4ddc383c0a04c4ca716288cc6ec95c0": {
      "model_module": "@jupyter-widgets/base",
      "model_module_version": "1.2.0",
      "model_name": "LayoutModel",
      "state": {}
     },
     "a4e49a2b0a6445f282ad179039aac353": {
      "model_module": "@jupyter-widgets/controls",
      "model_module_version": "1.5.0",
      "model_name": "FloatSliderModel",
      "state": {
       "description": "135°",
       "layout": "IPY_MODEL_11e2eab05930449e97cdc55aa9634cab",
       "max": 1,
       "min": -1,
       "step": 0.01,
       "style": "IPY_MODEL_4524694402f74382ae8ac0debe936e97"
      }
     },
     "a4f1b38ef9484c3a9e417f3f546f51e4": {
      "model_module": "@jupyter-widgets/base",
      "model_module_version": "1.2.0",
      "model_name": "LayoutModel",
      "state": {
       "border": "solid 4px #222",
       "margin": "4px",
       "padding": "0"
      }
     },
     "a4f71877e9a245978f9049fa767cacad": {
      "model_module": "@jupyter-widgets/controls",
      "model_module_version": "1.5.0",
      "model_name": "SliderStyleModel",
      "state": {
       "description_width": ""
      }
     },
     "a5130ed0b2a6462286559200d80f4c6a": {
      "model_module": "@jupyter-widgets/base",
      "model_module_version": "1.2.0",
      "model_name": "LayoutModel",
      "state": {}
     },
     "a52fba3fe8604d488d15e788d5f3f9a1": {
      "model_module": "@jupyter-widgets/controls",
      "model_module_version": "1.5.0",
      "model_name": "SliderStyleModel",
      "state": {
       "description_width": ""
      }
     },
     "a53065855688404888c0b2ea5cd7498b": {
      "model_module": "@jupyter-widgets/base",
      "model_module_version": "1.2.0",
      "model_name": "LayoutModel",
      "state": {
       "border": "solid 4px #222",
       "margin": "4px",
       "padding": "0"
      }
     },
     "a586c33fdaa8465699cbb84a16e42fbc": {
      "model_module": "@jupyter-widgets/base",
      "model_module_version": "1.2.0",
      "model_name": "LayoutModel",
      "state": {}
     },
     "a59816417e474689ae36d269478d9c7c": {
      "model_module": "@jupyter-widgets/controls",
      "model_module_version": "1.5.0",
      "model_name": "SliderStyleModel",
      "state": {
       "description_width": ""
      }
     },
     "a59f870a28e844ca8f9f7ddc30a3d463": {
      "model_module": "@jupyter-widgets/base",
      "model_module_version": "1.2.0",
      "model_name": "LayoutModel",
      "state": {}
     },
     "a5eaf902b4a842c7a81c5d52f8a70f0e": {
      "model_module": "@jupyter-widgets/controls",
      "model_module_version": "1.5.0",
      "model_name": "FloatSliderModel",
      "state": {
       "description": "Exposure",
       "layout": "IPY_MODEL_a1c502b04271468db24d274466fc510e",
       "max": 8,
       "min": -8,
       "step": 0.1,
       "style": "IPY_MODEL_0eeea26e22054a77a11c9515773b6ad5"
      }
     },
     "a5f04ffe34264ae4b51d5850e4951315": {
      "model_module": "@jupyter-widgets/controls",
      "model_module_version": "1.5.0",
      "model_name": "SliderStyleModel",
      "state": {
       "description_width": ""
      }
     },
     "a65dea13fb07415f9ab252800fcf26c6": {
      "model_module": "jupyter-matplotlib",
      "model_module_version": "^0.7.2",
      "model_name": "ToolbarModel",
      "state": {
       "layout": "IPY_MODEL_9e11176f0314406fb5c16a5dffd8477b",
       "toolitems": [
        [
         "Home",
         "Reset original view",
         "home",
         "home"
        ],
        [
         "Back",
         "Back to previous view",
         "arrow-left",
         "back"
        ],
        [
         "Forward",
         "Forward to next view",
         "arrow-right",
         "forward"
        ],
        [
         "Pan",
         "Pan axes with left mouse, zoom with right",
         "arrows",
         "pan"
        ],
        [
         "Zoom",
         "Zoom to rectangle",
         "square-o",
         "zoom"
        ],
        [
         "Download",
         "Download plot",
         "floppy-o",
         "save_figure"
        ]
       ]
      }
     },
     "a66d7a5045ea46b2ab163639f2808c9a": {
      "model_module": "@jupyter-widgets/controls",
      "model_module_version": "1.5.0",
      "model_name": "HBoxModel",
      "state": {
       "children": [
        "IPY_MODEL_f2cbe1184e6a4973940e254295497821",
        "IPY_MODEL_5c4bbdab4a154296bdb85ca2c66ea9b8",
        "IPY_MODEL_0076336e3d894ccbbe98129693d95520",
        "IPY_MODEL_ca6acfa88688469b85e67bdcfec56818"
       ],
       "layout": "IPY_MODEL_8335b316e80740b0a7e65b3dc3fedf15"
      }
     },
     "a688733dbfbc4be3a5b4cb2c9864299f": {
      "model_module": "@jupyter-widgets/base",
      "model_module_version": "1.2.0",
      "model_name": "LayoutModel",
      "state": {
       "border": "solid 4px #222",
       "margin": "4px",
       "padding": "0"
      }
     },
     "a6c985d1c433410682b876553f05e102": {
      "model_module": "@jupyter-widgets/base",
      "model_module_version": "1.2.0",
      "model_name": "LayoutModel",
      "state": {
       "border": "solid 4px #222",
       "margin": "4px",
       "padding": "0"
      }
     },
     "a6e5b30e8a014227a7e15e9aea294941": {
      "model_module": "@jupyter-widgets/base",
      "model_module_version": "1.2.0",
      "model_name": "LayoutModel",
      "state": {}
     },
     "a72ec06d5e8d44918cebef18d63718a3": {
      "model_module": "@jupyter-widgets/base",
      "model_module_version": "1.2.0",
      "model_name": "LayoutModel",
      "state": {}
     },
     "a738e9e2d7f84059bdde26373531d7e6": {
      "model_module": "@jupyter-widgets/controls",
      "model_module_version": "1.5.0",
      "model_name": "ButtonModel",
      "state": {
       "description": "Reset Exposure",
       "layout": "IPY_MODEL_9c11b50b529f4f6cb7844b1f613a5937",
       "style": "IPY_MODEL_010714dd6de244ecb90982c66b2c7d5c"
      }
     },
     "a7c8290942ac44fea7e91e2eb06e6c29": {
      "model_module": "@jupyter-widgets/base",
      "model_module_version": "1.2.0",
      "model_name": "LayoutModel",
      "state": {}
     },
     "a7f71d467c42464cbe3a555f1e8c91be": {
      "model_module": "@jupyter-widgets/controls",
      "model_module_version": "1.5.0",
      "model_name": "SliderStyleModel",
      "state": {
       "description_width": ""
      }
     },
     "a8040993554a45a6b74a1a63fa737697": {
      "model_module": "@jupyter-widgets/controls",
      "model_module_version": "1.5.0",
      "model_name": "ButtonStyleModel",
      "state": {}
     },
     "a82b022c622f4d80ba9326f2d7b0a427": {
      "model_module": "@jupyter-widgets/controls",
      "model_module_version": "1.5.0",
      "model_name": "FloatSliderModel",
      "state": {
       "description": "90°",
       "layout": "IPY_MODEL_3ede012a5f37457eb1e2aa6c897811fb",
       "max": 1,
       "min": -1,
       "step": 0.01,
       "style": "IPY_MODEL_851f48981f14470a861df617ef6bea3c"
      }
     },
     "a881d89cdeb042fb882c5617e6d7d108": {
      "model_module": "@jupyter-widgets/controls",
      "model_module_version": "1.5.0",
      "model_name": "ButtonStyleModel",
      "state": {}
     },
     "a8bb90d6032d45b980a774226713811b": {
      "model_module": "@jupyter-widgets/controls",
      "model_module_version": "1.5.0",
      "model_name": "SliderStyleModel",
      "state": {
       "description_width": ""
      }
     },
     "a8d8e528df544671b36017d025544c4e": {
      "model_module": "@jupyter-widgets/controls",
      "model_module_version": "1.5.0",
      "model_name": "ButtonModel",
      "state": {
       "description": "Save Figure",
       "layout": "IPY_MODEL_afb9907dfaec4530a107eddedecd8512",
       "style": "IPY_MODEL_8bce03df5b824e1d9d37e2a6aab5001f"
      }
     },
     "a8f1901274c34864a1ff950795ebf46e": {
      "model_module": "@jupyter-widgets/controls",
      "model_module_version": "1.5.0",
      "model_name": "SliderStyleModel",
      "state": {
       "description_width": ""
      }
     },
     "a92e80d3408c4f998ec436340ee058e0": {
      "model_module": "@jupyter-widgets/controls",
      "model_module_version": "1.5.0",
      "model_name": "DescriptionStyleModel",
      "state": {
       "description_width": ""
      }
     },
     "a948597ec74446c89adfa44563a1f441": {
      "model_module": "@jupyter-widgets/base",
      "model_module_version": "1.2.0",
      "model_name": "LayoutModel",
      "state": {
       "border": "solid 4px #222",
       "margin": "4px",
       "padding": "0"
      }
     },
     "a9b3f1491d5846d5a056ead14dc6c9db": {
      "model_module": "@jupyter-widgets/controls",
      "model_module_version": "1.5.0",
      "model_name": "HBoxModel",
      "state": {
       "children": [
        "IPY_MODEL_36686d2bcda746599e0f55e76f8f690c",
        "IPY_MODEL_d10d78996d35413795e4c8cdc432d9f0",
        "IPY_MODEL_6b3521f955c4404298a556161d26a147"
       ],
       "layout": "IPY_MODEL_3cf5fbd46b604abaa0facf80bb301684"
      }
     },
     "a9d74becca604422855e1d632494f9c3": {
      "model_module": "@jupyter-widgets/controls",
      "model_module_version": "1.5.0",
      "model_name": "DescriptionStyleModel",
      "state": {
       "description_width": ""
      }
     },
     "aa00b2dc73c84b42a620353eb79feb6c": {
      "model_module": "@jupyter-widgets/controls",
      "model_module_version": "1.5.0",
      "model_name": "ButtonModel",
      "state": {
       "description": "Reset Protected Area",
       "layout": "IPY_MODEL_60ce65f0d11c4857b7bf7a858069a150",
       "style": "IPY_MODEL_5a773d2953014fba8628667563ed81a4"
      }
     },
     "aa43f0826d124c0494a85e895a2a23c7": {
      "model_module": "@jupyter-widgets/base",
      "model_module_version": "1.2.0",
      "model_name": "LayoutModel",
      "state": {}
     },
     "aa5b3a60c5dc46b3b1b586013eb95680": {
      "model_module": "@jupyter-widgets/controls",
      "model_module_version": "1.5.0",
      "model_name": "SliderStyleModel",
      "state": {
       "description_width": ""
      }
     },
     "aa7084f44b944909adad33aece090512": {
      "model_module": "@jupyter-widgets/base",
      "model_module_version": "1.2.0",
      "model_name": "LayoutModel",
      "state": {}
     },
     "aa83016230d44267be540ba9c0cd1bee": {
      "model_module": "@jupyter-widgets/controls",
      "model_module_version": "1.5.0",
      "model_name": "FloatSliderModel",
      "state": {
       "description": "180°",
       "layout": "IPY_MODEL_789b7f4b04184662a2425252e99bcbc6",
       "max": 1,
       "min": -1,
       "step": 0.01,
       "style": "IPY_MODEL_0178309c2a3048cf8549f82783ed433c"
      }
     },
     "aa9153c8c7ed4252b498deb98ca23ddf": {
      "model_module": "@jupyter-widgets/controls",
      "model_module_version": "1.5.0",
      "model_name": "FloatSliderModel",
      "state": {
       "description": "315°",
       "layout": "IPY_MODEL_c3c4003b0f7c438892b5400f69b410a0",
       "max": 1,
       "min": -1,
       "step": 0.01,
       "style": "IPY_MODEL_c6e588b101204c028b216d9f0741cfa4"
      }
     },
     "aaa8f7ec26e24e16b08e3d846ae55bbf": {
      "model_module": "@jupyter-widgets/base",
      "model_module_version": "1.2.0",
      "model_name": "LayoutModel",
      "state": {}
     },
     "aac9db9f434f412387f9f0a4e40e9b44": {
      "model_module": "@jupyter-widgets/controls",
      "model_module_version": "1.5.0",
      "model_name": "ButtonStyleModel",
      "state": {}
     },
     "ab01546af6ff476c929e6d0701c4a1a3": {
      "model_module": "@jupyter-widgets/controls",
      "model_module_version": "1.5.0",
      "model_name": "DescriptionStyleModel",
      "state": {
       "description_width": ""
      }
     },
     "ab3a217c4b2e49c6997708c398a14f9f": {
      "model_module": "@jupyter-widgets/controls",
      "model_module_version": "1.5.0",
      "model_name": "ButtonStyleModel",
      "state": {}
     },
     "ab4d5e3ff2d9407782c1ab4e04ecb3be": {
      "model_module": "jupyter-matplotlib",
      "model_module_version": "^0.7.2",
      "model_name": "ToolbarModel",
      "state": {
       "layout": "IPY_MODEL_b8e4374ed14e4499b4261f3cf4c95326",
       "toolitems": [
        [
         "Home",
         "Reset original view",
         "home",
         "home"
        ],
        [
         "Back",
         "Back to previous view",
         "arrow-left",
         "back"
        ],
        [
         "Forward",
         "Forward to next view",
         "arrow-right",
         "forward"
        ],
        [
         "Pan",
         "Pan axes with left mouse, zoom with right",
         "arrows",
         "pan"
        ],
        [
         "Zoom",
         "Zoom to rectangle",
         "square-o",
         "zoom"
        ],
        [
         "Download",
         "Download plot",
         "floppy-o",
         "save_figure"
        ]
       ]
      }
     },
     "ab5d5659780f46fca35881b7e5c5111f": {
      "model_module": "@jupyter-widgets/controls",
      "model_module_version": "1.5.0",
      "model_name": "ButtonModel",
      "state": {
       "description": "Reset Protected Area",
       "layout": "IPY_MODEL_7b164b6ea71b47c1ac44f8776aabbbe0",
       "style": "IPY_MODEL_9ce9dee9dc3f452a9a2546cbff3c1dce"
      }
     },
     "abd3647321b6418fbcb9ab6844f63590": {
      "model_module": "@jupyter-widgets/controls",
      "model_module_version": "1.5.0",
      "model_name": "FloatSliderModel",
      "state": {
       "description": "45°",
       "layout": "IPY_MODEL_ff431d9f6b0c47539cde771e1ba0d6ce",
       "max": 1,
       "min": -1,
       "step": 0.01,
       "style": "IPY_MODEL_122f605603a94e73a0a49379c8a3f1ff"
      }
     },
     "abfae61a62604c0595038c967fa0acae": {
      "model_module": "@jupyter-widgets/controls",
      "model_module_version": "1.5.0",
      "model_name": "DescriptionStyleModel",
      "state": {
       "description_width": ""
      }
     },
     "ac50475de84143eab1e79430c4762442": {
      "model_module": "@jupyter-widgets/base",
      "model_module_version": "1.2.0",
      "model_name": "LayoutModel",
      "state": {}
     },
     "ac603555c07c4f4aa90e4cdc7e2db1d1": {
      "model_module": "@jupyter-widgets/base",
      "model_module_version": "1.2.0",
      "model_name": "LayoutModel",
      "state": {}
     },
     "ac6d0ee7068d40debb96db176f34f4e5": {
      "model_module": "@jupyter-widgets/base",
      "model_module_version": "1.2.0",
      "model_name": "LayoutModel",
      "state": {}
     },
     "ac72672a62974dc19d3be6251f3b8ec5": {
      "model_module": "@jupyter-widgets/controls",
      "model_module_version": "1.5.0",
      "model_name": "SliderStyleModel",
      "state": {
       "description_width": ""
      }
     },
     "ac865cb897ef4c5a95b9f648764f1923": {
      "model_module": "@jupyter-widgets/base",
      "model_module_version": "1.2.0",
      "model_name": "LayoutModel",
      "state": {}
     },
     "ac90872ff0ef4db88c8ab647d6344ca9": {
      "model_module": "@jupyter-widgets/base",
      "model_module_version": "1.2.0",
      "model_name": "LayoutModel",
      "state": {}
     },
     "aca22a2b264342549baf1cd4bb501e80": {
      "model_module": "@jupyter-widgets/controls",
      "model_module_version": "1.5.0",
      "model_name": "DropdownModel",
      "state": {
       "_options_labels": [
        "tanh",
        "atan",
        "simple"
       ],
       "description": "Compression Function:",
       "index": 0,
       "layout": "IPY_MODEL_98a6935c78c446d7a1880f4f9645336f",
       "style": "IPY_MODEL_7c61b75cd1d148448dad7abbd824d186"
      }
     },
     "ace28562b0064dbfbc8874d063358ed1": {
      "model_module": "@jupyter-widgets/controls",
      "model_module_version": "1.5.0",
      "model_name": "ButtonStyleModel",
      "state": {}
     },
     "ad130452e313462cba3cec9d43d78ad0": {
      "model_module": "@jupyter-widgets/base",
      "model_module_version": "1.2.0",
      "model_name": "LayoutModel",
      "state": {}
     },
     "ad25e02648d64c1b9154b41fafa7c0ba": {
      "model_module": "@jupyter-widgets/controls",
      "model_module_version": "1.5.0",
      "model_name": "FloatSliderModel",
      "state": {
       "description": "90°",
       "layout": "IPY_MODEL_96a9d0e64bb94c1cbca79886d45a1ce9",
       "max": 1,
       "min": -1,
       "step": 0.01,
       "style": "IPY_MODEL_56b922f458d74d52909963ebd5480743"
      }
     },
     "ad7c27ef0cab4465b9df88d0c0631e58": {
      "model_module": "@jupyter-widgets/controls",
      "model_module_version": "1.5.0",
      "model_name": "HBoxModel",
      "state": {
       "children": [
        "IPY_MODEL_7a24be45da8c4988ac6ff8a023129aaf",
        "IPY_MODEL_5975541a0dd14448acb2ceafa1b86c39",
        "IPY_MODEL_b8887a544fbe46348ae3e5e4d8db435c"
       ],
       "layout": "IPY_MODEL_50297713b8a346199018d97f94fc9746"
      }
     },
     "ae011002438949e1980c219191b5e6d4": {
      "model_module": "@jupyter-widgets/controls",
      "model_module_version": "1.5.0",
      "model_name": "DescriptionStyleModel",
      "state": {
       "description_width": ""
      }
     },
     "ae25a1ddcd6d40319ace2fe2f36d97cc": {
      "model_module": "@jupyter-widgets/base",
      "model_module_version": "1.2.0",
      "model_name": "LayoutModel",
      "state": {
       "border": "solid 4px #222",
       "margin": "4px",
       "padding": "0"
      }
     },
     "ae26db09908c488e9c3f6342f3365e7c": {
      "model_module": "@jupyter-widgets/base",
      "model_module_version": "1.2.0",
      "model_name": "LayoutModel",
      "state": {}
     },
     "ae3ec8ee0a854a5fbaa0a12e2fed1186": {
      "model_module": "@jupyter-widgets/base",
      "model_module_version": "1.2.0",
      "model_name": "LayoutModel",
      "state": {}
     },
     "ae41d7b33f304b46979056e131a1815e": {
      "model_module": "@jupyter-widgets/output",
      "model_module_version": "1.0.0",
      "model_name": "OutputModel",
      "state": {
       "layout": "IPY_MODEL_94f7139ec96a490aac08fc37a4f66b21",
       "outputs": [
        {
         "data": {
          "application/vnd.jupyter.widget-view+json": {
           "model_id": "dc8c73a818fe4a5f8e48aa05db40f32b",
           "version_major": 2,
           "version_minor": 0
          },
          "text/plain": "Canvas(toolbar=Toolbar(toolitems=[('Home', 'Reset original view', 'home', 'home'), ('Back', 'Back to previous …"
         },
         "metadata": {},
         "output_type": "display_data"
        }
       ]
      }
     },
     "ae4201e505c64ed384d28234e96cc632": {
      "model_module": "@jupyter-widgets/base",
      "model_module_version": "1.2.0",
      "model_name": "LayoutModel",
      "state": {}
     },
     "ae72b133ffa94269a46808083424f09e": {
      "model_module": "@jupyter-widgets/controls",
      "model_module_version": "1.5.0",
      "model_name": "TabModel",
      "state": {
       "_titles": {
        "0": "Global Controls",
        "1": "Viewer Controls",
        "2": "Protected Area Controls",
        "3": "Saturation Controls",
        "4": "Hue Controls"
       },
       "children": [
        "IPY_MODEL_5a09da00e55741fbabec9b7ffe8af61d",
        "IPY_MODEL_dccb6b4f222b4cd08eb5bc8dd8ca7bfa",
        "IPY_MODEL_e06a2b45fde947e8a761a5988f39826d",
        "IPY_MODEL_d40142b4ecd74d5a986752c0041fcff0",
        "IPY_MODEL_a66d7a5045ea46b2ab163639f2808c9a"
       ],
       "layout": "IPY_MODEL_a6c985d1c433410682b876553f05e102"
      }
     },
     "ae74b854730b44acb59413d212a8f705": {
      "model_module": "@jupyter-widgets/base",
      "model_module_version": "1.2.0",
      "model_name": "LayoutModel",
      "state": {
       "align_items": "stretch",
       "display": "flex",
       "flex_flow": "column",
       "width": "1128px"
      }
     },
     "ae8141cc74304499ba8d3b1715615143": {
      "model_module": "@jupyter-widgets/controls",
      "model_module_version": "1.5.0",
      "model_name": "FloatSliderModel",
      "state": {
       "description": "45°",
       "layout": "IPY_MODEL_4be8c1bf10424401a78fd8b5dc40284c",
       "max": 1,
       "min": -1,
       "step": 0.01,
       "style": "IPY_MODEL_1463c0a7d7014e53af34f120f2166c7c"
      }
     },
     "ae9e67f81fa14dc6ae70f0546d907d07": {
      "model_module": "@jupyter-widgets/base",
      "model_module_version": "1.2.0",
      "model_name": "LayoutModel",
      "state": {}
     },
     "aebe7fe3ea0542eda312c46f669c7776": {
      "model_module": "@jupyter-widgets/controls",
      "model_module_version": "1.5.0",
      "model_name": "VBoxModel",
      "state": {
       "children": [
        "IPY_MODEL_08ee213dd3364db1a03fee68f35dce75",
        "IPY_MODEL_3d1aa9540bef4859bcb9e070930feccd"
       ],
       "layout": "IPY_MODEL_dad8d2a2ff55488e9da922e1076a1217"
      }
     },
     "aec330f61d0543718447ea00be76fced": {
      "model_module": "@jupyter-widgets/controls",
      "model_module_version": "1.5.0",
      "model_name": "ButtonModel",
      "state": {
       "description": "Reset Exposure",
       "layout": "IPY_MODEL_3909b50a527b43aab7c0cd486709f992",
       "style": "IPY_MODEL_25150a363e15484d9c43c8975f90a07a"
      }
     },
     "aeee1d6c74034c588b69e5a43de79817": {
      "model_module": "@jupyter-widgets/controls",
      "model_module_version": "1.5.0",
      "model_name": "DescriptionStyleModel",
      "state": {
       "description_width": ""
      }
     },
     "af2454808f47446cb4f5519af4cb3412": {
      "model_module": "@jupyter-widgets/base",
      "model_module_version": "1.2.0",
      "model_name": "LayoutModel",
      "state": {}
     },
     "af3e0c4446f34efe8c380f6691c3df2e": {
      "model_module": "@jupyter-widgets/base",
      "model_module_version": "1.2.0",
      "model_name": "LayoutModel",
      "state": {}
     },
     "af41ae09e1414e2aa9c24495ce674822": {
      "model_module": "@jupyter-widgets/base",
      "model_module_version": "1.2.0",
      "model_name": "LayoutModel",
      "state": {}
     },
     "af7b7b217778491f89b189785ee010db": {
      "model_module": "@jupyter-widgets/base",
      "model_module_version": "1.2.0",
      "model_name": "LayoutModel",
      "state": {}
     },
     "af82f4d2ae9b4e4196f81162dc18a7e3": {
      "model_module": "@jupyter-widgets/controls",
      "model_module_version": "1.5.0",
      "model_name": "HBoxModel",
      "state": {
       "children": [
        "IPY_MODEL_1afc873a36ff4a7ca9f9510cdc4f68b1",
        "IPY_MODEL_7eaae55066ff4e0a9622c216b455174d",
        "IPY_MODEL_72675e1e03e04996b072622048ce9ffc",
        "IPY_MODEL_58e160f191d449e598250996299ff97a"
       ],
       "layout": "IPY_MODEL_4d9385127d554da2b8cf335bbefa435b"
      }
     },
     "af8a81d278c5438a9b71149a1cc6474a": {
      "model_module": "@jupyter-widgets/base",
      "model_module_version": "1.2.0",
      "model_name": "LayoutModel",
      "state": {}
     },
     "afb3107e6b584bd1b95c63f73036235e": {
      "model_module": "@jupyter-widgets/controls",
      "model_module_version": "1.5.0",
      "model_name": "SliderStyleModel",
      "state": {
       "description_width": ""
      }
     },
     "afb9907dfaec4530a107eddedecd8512": {
      "model_module": "@jupyter-widgets/base",
      "model_module_version": "1.2.0",
      "model_name": "LayoutModel",
      "state": {}
     },
     "afba2c1f59914c30ad0a1fd209f92eda": {
      "model_module": "@jupyter-widgets/controls",
      "model_module_version": "1.5.0",
      "model_name": "TabModel",
      "state": {
       "_titles": {
        "0": "Global Controls",
        "1": "Viewer Controls",
        "2": "Compression Controls"
       },
       "children": [
        "IPY_MODEL_b873c619938d4f3e8e23cba46b713794",
        "IPY_MODEL_88791783514245829932ebd9f27bc589",
        "IPY_MODEL_71d5b15f2576466ebe0b69a157f167b7"
       ],
       "layout": "IPY_MODEL_6710b3fa720a464fa2c84c28adaabdd0"
      }
     },
     "b02a0b52b7af4ca3a004889c30d2b859": {
      "model_module": "@jupyter-widgets/base",
      "model_module_version": "1.2.0",
      "model_name": "LayoutModel",
      "state": {}
     },
     "b06b68f904464f098a9956effc6ee399": {
      "model_module": "@jupyter-widgets/controls",
      "model_module_version": "1.5.0",
      "model_name": "ButtonStyleModel",
      "state": {}
     },
     "b095812efffe483cbe051386fe339f79": {
      "model_module": "@jupyter-widgets/controls",
      "model_module_version": "1.5.0",
      "model_name": "SliderStyleModel",
      "state": {
       "description_width": ""
      }
     },
     "b0ab91db258f48de9ca31fe95e9e5745": {
      "model_module": "@jupyter-widgets/controls",
      "model_module_version": "1.5.0",
      "model_name": "ButtonModel",
      "state": {
       "description": "Reset Protected Area",
       "layout": "IPY_MODEL_dba0da28652949acbe000fc724825c84",
       "style": "IPY_MODEL_141330c4eb5a486fa6b3c9a10f246622"
      }
     },
     "b0cff5e506a5431c8a933004d9720ee7": {
      "model_module": "@jupyter-widgets/controls",
      "model_module_version": "1.5.0",
      "model_name": "FloatSliderModel",
      "state": {
       "description": "135°",
       "layout": "IPY_MODEL_ac603555c07c4f4aa90e4cdc7e2db1d1",
       "max": 1,
       "min": -1,
       "step": 0.01,
       "style": "IPY_MODEL_d05f88737b3140c3819bc60a72aaaacc"
      }
     },
     "b100e14751464be5955fd7d24838e82b": {
      "model_module": "@jupyter-widgets/base",
      "model_module_version": "1.2.0",
      "model_name": "LayoutModel",
      "state": {}
     },
     "b10cb0186ed3493fbcc11203bd8b1934": {
      "model_module": "@jupyter-widgets/controls",
      "model_module_version": "1.5.0",
      "model_name": "SliderStyleModel",
      "state": {
       "description_width": ""
      }
     },
     "b10f692db34a43be961217ee3ed63e50": {
      "model_module": "@jupyter-widgets/base",
      "model_module_version": "1.2.0",
      "model_name": "LayoutModel",
      "state": {}
     },
     "b113f7feacbf432aa0736f848925618b": {
      "model_module": "@jupyter-widgets/base",
      "model_module_version": "1.2.0",
      "model_name": "LayoutModel",
      "state": {}
     },
     "b17fe796acaf4b6caa07a60a5f156031": {
      "model_module": "@jupyter-widgets/base",
      "model_module_version": "1.2.0",
      "model_name": "LayoutModel",
      "state": {}
     },
     "b19022ef04774260a0e2b1f7901052ff": {
      "model_module": "@jupyter-widgets/base",
      "model_module_version": "1.2.0",
      "model_name": "LayoutModel",
      "state": {}
     },
     "b1aeb647e0cd473fb27891a486fee10d": {
      "model_module": "@jupyter-widgets/base",
      "model_module_version": "1.2.0",
      "model_name": "LayoutModel",
      "state": {}
     },
     "b1c6a2237d1242b1a959b242f7ea7a1f": {
      "model_module": "@jupyter-widgets/base",
      "model_module_version": "1.2.0",
      "model_name": "LayoutModel",
      "state": {}
     },
     "b1d49a5240af4c199bb35710e59c0bd4": {
      "model_module": "@jupyter-widgets/controls",
      "model_module_version": "1.5.0",
      "model_name": "FloatSliderModel",
      "state": {
       "description": "Compression Threshold",
       "layout": "IPY_MODEL_c1779979a098451697ceadf3b8765d0b",
       "max": 1,
       "step": 0.01,
       "style": "IPY_MODEL_154ef16b5e1141dbb38f9d105823c8bb",
       "value": 0.8
      }
     },
     "b1eff3eac48b4f36951287daa43d2a2b": {
      "model_module": "@jupyter-widgets/controls",
      "model_module_version": "1.5.0",
      "model_name": "SliderStyleModel",
      "state": {
       "description_width": ""
      }
     },
     "b1f921f9daae4b51b9f121298358099d": {
      "model_module": "@jupyter-widgets/controls",
      "model_module_version": "1.5.0",
      "model_name": "BoxModel",
      "state": {
       "children": [
        "IPY_MODEL_e237fe8ab0454c43af587b3b27cc8ff8",
        "IPY_MODEL_999536bdc96c48539d2aa1e35198e11a"
       ],
       "layout": "IPY_MODEL_c0725cf0812146daa970d055c2722914"
      }
     },
     "b234310ea1f24999aef3c56d6804871d": {
      "model_module": "@jupyter-widgets/controls",
      "model_module_version": "1.5.0",
      "model_name": "FloatSliderModel",
      "state": {
       "description": "270°",
       "layout": "IPY_MODEL_c056f0b98cbf425b96cce3831e5d3e7c",
       "max": 1,
       "min": -1,
       "step": 0.01,
       "style": "IPY_MODEL_9863a548fe4446648dcd3412666b7405"
      }
     },
     "b2463585d5e74301afd1b99967af1ffc": {
      "model_module": "@jupyter-widgets/controls",
      "model_module_version": "1.5.0",
      "model_name": "SliderStyleModel",
      "state": {
       "description_width": ""
      }
     },
     "b28d908d8ed04165babb39308c1039d2": {
      "model_module": "@jupyter-widgets/controls",
      "model_module_version": "1.5.0",
      "model_name": "ButtonStyleModel",
      "state": {}
     },
     "b297c5fa977a4a36a82209438440a539": {
      "model_module": "@jupyter-widgets/base",
      "model_module_version": "1.2.0",
      "model_name": "LayoutModel",
      "state": {}
     },
     "b2d55d5df2e04f5fb732d57f9f97d6cd": {
      "model_module": "@jupyter-widgets/controls",
      "model_module_version": "1.5.0",
      "model_name": "ButtonModel",
      "state": {
       "description": "Reset Exposure",
       "layout": "IPY_MODEL_f277656a0b8c4de8899c0b6e32ffa02b",
       "style": "IPY_MODEL_13d6c07ff9e6426a9e3d87e0edea53a7"
      }
     },
     "b302d31cb7644dc6a390df4f848a962c": {
      "model_module": "@jupyter-widgets/base",
      "model_module_version": "1.2.0",
      "model_name": "LayoutModel",
      "state": {}
     },
     "b31aaca6cc034bb994ebb66908cf27cf": {
      "model_module": "@jupyter-widgets/base",
      "model_module_version": "1.2.0",
      "model_name": "LayoutModel",
      "state": {}
     },
     "b31f07c70fc346c39e9790fcd6a3009a": {
      "model_module": "@jupyter-widgets/controls",
      "model_module_version": "1.5.0",
      "model_name": "ButtonModel",
      "state": {
       "description": "Reset Hue Controls",
       "layout": "IPY_MODEL_5ecea639f57a47fc9aaa359cf1f8a4a4",
       "style": "IPY_MODEL_1aea1c5ae7ef4ab98de41efe383e7efc"
      }
     },
     "b3224e3bf5444d58b202d2a613f6ca78": {
      "model_module": "@jupyter-widgets/base",
      "model_module_version": "1.2.0",
      "model_name": "LayoutModel",
      "state": {}
     },
     "b343ef12825e4383b6632d27e1d18c3f": {
      "model_module": "@jupyter-widgets/base",
      "model_module_version": "1.2.0",
      "model_name": "LayoutModel",
      "state": {}
     },
     "b34508340e454d18a2253007f7340de1": {
      "model_module": "@jupyter-widgets/base",
      "model_module_version": "1.2.0",
      "model_name": "LayoutModel",
      "state": {}
     },
     "b39666db1da34f51850f8bde7054765f": {
      "model_module": "@jupyter-widgets/controls",
      "model_module_version": "1.5.0",
      "model_name": "ButtonModel",
      "state": {
       "description": "Reset Saturation Controls",
       "layout": "IPY_MODEL_f906a30305a64400868d779638b84105",
       "style": "IPY_MODEL_12cb9507632b4448a7fbb093f3c7d4c8"
      }
     },
     "b3986d3908ff4824bce6cebe03208e61": {
      "model_module": "@jupyter-widgets/controls",
      "model_module_version": "1.5.0",
      "model_name": "HBoxModel",
      "state": {
       "children": [
        "IPY_MODEL_c1dcb6aac295498399c0c1eda89c3854",
        "IPY_MODEL_36399bb579ba4e09a4c87ff6a1094bbf"
       ],
       "layout": "IPY_MODEL_856168b51e5c46639987d73b8f0c4b17"
      }
     },
     "b3e6095707eb4c7f8af3945ff2c75d0c": {
      "model_module": "@jupyter-widgets/controls",
      "model_module_version": "1.5.0",
      "model_name": "ButtonStyleModel",
      "state": {}
     },
     "b3ebc9fed21947cb87df203c52be3514": {
      "model_module": "@jupyter-widgets/controls",
      "model_module_version": "1.5.0",
      "model_name": "HBoxModel",
      "state": {
       "children": [
        "IPY_MODEL_ab5d5659780f46fca35881b7e5c5111f",
        "IPY_MODEL_177fd710bd9a470eab125d67351682db"
       ],
       "layout": "IPY_MODEL_a2e35b7ae4c6497498e9ec86846d1ad5"
      }
     },
     "b4056669bde046a587f1ed7c1bd87925": {
      "model_module": "@jupyter-widgets/controls",
      "model_module_version": "1.5.0",
      "model_name": "DescriptionStyleModel",
      "state": {
       "description_width": ""
      }
     },
     "b40dd3b0df9f4759867868b8f40959e5": {
      "model_module": "@jupyter-widgets/controls",
      "model_module_version": "1.5.0",
      "model_name": "ButtonStyleModel",
      "state": {}
     },
     "b41f47539f1941cbbc1a97698eb9ee8b": {
      "model_module": "@jupyter-widgets/base",
      "model_module_version": "1.2.0",
      "model_name": "LayoutModel",
      "state": {}
     },
     "b459462d774f49a4a8e21ea54e436b7a": {
      "model_module": "@jupyter-widgets/controls",
      "model_module_version": "1.5.0",
      "model_name": "HBoxModel",
      "state": {
       "children": [
        "IPY_MODEL_931c3516e72c4ec79bfc20e11600ccd9",
        "IPY_MODEL_1791712028ea477daf679e0fc153155e"
       ],
       "layout": "IPY_MODEL_a43f17b065f749d8b0dc2e7c86a16355"
      }
     },
     "b489fd1f684242c88593a00acd006e1f": {
      "model_module": "@jupyter-widgets/base",
      "model_module_version": "1.2.0",
      "model_name": "LayoutModel",
      "state": {}
     },
     "b4981744b6d3443ba0c1d7cd8b11ad60": {
      "model_module": "@jupyter-widgets/controls",
      "model_module_version": "1.5.0",
      "model_name": "SliderStyleModel",
      "state": {
       "description_width": ""
      }
     },
     "b4a52ebc10f449c4b3a868e967149697": {
      "model_module": "@jupyter-widgets/controls",
      "model_module_version": "1.5.0",
      "model_name": "SliderStyleModel",
      "state": {
       "description_width": ""
      }
     },
     "b50017f707e44b9db8d063487c9231ff": {
      "model_module": "@jupyter-widgets/controls",
      "model_module_version": "1.5.0",
      "model_name": "DropdownModel",
      "state": {
       "_options_labels": [
        "tanh",
        "atan",
        "simple"
       ],
       "description": "Compression Function:",
       "index": 0,
       "layout": "IPY_MODEL_4cfddf8f79ad43a1b28c46fd19a1be7c",
       "style": "IPY_MODEL_891bf0ef5eff441fb7b113bf468bd383"
      }
     },
     "b5033becc5ce416d9ca032a58c084ffd": {
      "model_module": "@jupyter-widgets/controls",
      "model_module_version": "1.5.0",
      "model_name": "DescriptionStyleModel",
      "state": {
       "description_width": ""
      }
     },
     "b5155934760846989018be6f3fc7024d": {
      "model_module": "@jupyter-widgets/output",
      "model_module_version": "1.0.0",
      "model_name": "OutputModel",
      "state": {
       "layout": "IPY_MODEL_ca22d5220a804086b35d346ff750bcc2",
       "outputs": [
        {
         "data": {
          "application/vnd.jupyter.widget-view+json": {
           "model_id": "6a5254e966d04e16a8558d742c495a1a",
           "version_major": 2,
           "version_minor": 0
          },
          "text/plain": "Canvas(toolbar=Toolbar(toolitems=[('Home', 'Reset original view', 'home', 'home'), ('Back', 'Back to previous …"
         },
         "metadata": {},
         "output_type": "display_data"
        }
       ]
      }
     },
     "b51ad5f673594c5988250d6991e98f42": {
      "model_module": "@jupyter-widgets/base",
      "model_module_version": "1.2.0",
      "model_name": "LayoutModel",
      "state": {}
     },
     "b527a6f9fe2b444fb9cf4c481fe4e72d": {
      "model_module": "@jupyter-widgets/base",
      "model_module_version": "1.2.0",
      "model_name": "LayoutModel",
      "state": {
       "border": "solid 4px #222",
       "margin": "4px",
       "padding": "0"
      }
     },
     "b52e8a6fedcc46dc90328d9d511fdd15": {
      "model_module": "@jupyter-widgets/controls",
      "model_module_version": "1.5.0",
      "model_name": "HBoxModel",
      "state": {
       "children": [
        "IPY_MODEL_b39666db1da34f51850f8bde7054765f",
        "IPY_MODEL_b50017f707e44b9db8d063487c9231ff",
        "IPY_MODEL_de7d402f39544ca394b1676a06b5edee"
       ],
       "layout": "IPY_MODEL_c274763af5284bc7862c5fcbd2d7624c"
      }
     },
     "b54b9fb1e9264279b2d035ac4ce8400e": {
      "model_module": "@jupyter-widgets/controls",
      "model_module_version": "1.5.0",
      "model_name": "TabModel",
      "state": {
       "_titles": {
        "0": "Global Controls",
        "1": "Viewer Controls",
        "2": "Compression Controls"
       },
       "children": [
        "IPY_MODEL_f0d6766218034d1baa71c23a592e1239",
        "IPY_MODEL_4fc18c4f003549e39c42040a22fe785a",
        "IPY_MODEL_b5c4d9fd90ec47489ebcbf33c1a7de46"
       ],
       "layout": "IPY_MODEL_416b1ba7b9f14461b92f572552aac525"
      }
     },
     "b553ebb5e9cc48159daca96f599f0f68": {
      "model_module": "@jupyter-widgets/base",
      "model_module_version": "1.2.0",
      "model_name": "LayoutModel",
      "state": {}
     },
     "b5c4d9fd90ec47489ebcbf33c1a7de46": {
      "model_module": "@jupyter-widgets/controls",
      "model_module_version": "1.5.0",
      "model_name": "HBoxModel",
      "state": {
       "children": [
        "IPY_MODEL_c7a72dbbcc87472094eb00543a59ce2f",
        "IPY_MODEL_dcf43d388c674ee3a617e52b01b37ed6",
        "IPY_MODEL_d8bd5fe6d9dd478daa5035b635987fbb"
       ],
       "layout": "IPY_MODEL_6ba72de682a04103aa81e8a19c58d5a2"
      }
     },
     "b5cf07aa19574426a5d9fd79214ca694": {
      "model_module": "@jupyter-widgets/base",
      "model_module_version": "1.2.0",
      "model_name": "LayoutModel",
      "state": {}
     },
     "b5eb0617a59f476c99571ff83bf075bf": {
      "model_module": "@jupyter-widgets/base",
      "model_module_version": "1.2.0",
      "model_name": "LayoutModel",
      "state": {}
     },
     "b61c6f5ddbb940618ca2a543727a522d": {
      "model_module": "@jupyter-widgets/controls",
      "model_module_version": "1.5.0",
      "model_name": "FloatSliderModel",
      "state": {
       "description": "0°",
       "layout": "IPY_MODEL_5ac1f7e355bf4cfc8d1a574d04800b70",
       "max": 1,
       "min": -1,
       "step": 0.01,
       "style": "IPY_MODEL_8a7161772fc2406c928964fad3c8a083"
      }
     },
     "b6276204e2cd4007b05a75a6885b7d78": {
      "model_module": "@jupyter-widgets/controls",
      "model_module_version": "1.5.0",
      "model_name": "SliderStyleModel",
      "state": {
       "description_width": ""
      }
     },
     "b635340285c446afaec05e55f2f5ee14": {
      "model_module": "@jupyter-widgets/controls",
      "model_module_version": "1.5.0",
      "model_name": "SliderStyleModel",
      "state": {
       "description_width": ""
      }
     },
     "b72f2fd7f7a94d50a44c883b9f67a04c": {
      "model_module": "jupyter-matplotlib",
      "model_module_version": "^0.7.2",
      "model_name": "MPLCanvasModel",
      "state": {
       "_figure_label": "Figure 8",
       "_height": 458,
       "_width": 1099,
       "header_visible": false,
       "layout": "IPY_MODEL_b10f692db34a43be961217ee3ed63e50",
       "resizable": false,
       "toolbar": "IPY_MODEL_6af77ff7bc574da589f745a347b223c0",
       "toolbar_position": "left",
       "toolbar_visible": false
      }
     },
     "b750c28923db48b7be36dc4bfc6216a2": {
      "model_module": "@jupyter-widgets/output",
      "model_module_version": "1.0.0",
      "model_name": "OutputModel",
      "state": {
       "layout": "IPY_MODEL_0eb42fc506b6461e9e856a8934f4e201",
       "outputs": [
        {
         "data": {
          "application/vnd.jupyter.widget-view+json": {
           "model_id": "9b437a09b1674ce1b5ba8d69eca93a8d",
           "version_major": 2,
           "version_minor": 0
          },
          "text/plain": "Canvas(toolbar=Toolbar(toolitems=[('Home', 'Reset original view', 'home', 'home'), ('Back', 'Back to previous …"
         },
         "metadata": {},
         "output_type": "display_data"
        }
       ]
      }
     },
     "b79611cd34534c80b461137fb25c3933": {
      "model_module": "@jupyter-widgets/controls",
      "model_module_version": "1.5.0",
      "model_name": "SliderStyleModel",
      "state": {
       "description_width": ""
      }
     },
     "b7c84bde37dc4560a5b506f4f44a86f4": {
      "model_module": "@jupyter-widgets/base",
      "model_module_version": "1.2.0",
      "model_name": "LayoutModel",
      "state": {}
     },
     "b7fdf2783d8146f0859f32a75443fe24": {
      "model_module": "@jupyter-widgets/base",
      "model_module_version": "1.2.0",
      "model_name": "LayoutModel",
      "state": {}
     },
     "b821c0256550431d8ae43b025752f216": {
      "model_module": "@jupyter-widgets/base",
      "model_module_version": "1.2.0",
      "model_name": "LayoutModel",
      "state": {}
     },
     "b873c619938d4f3e8e23cba46b713794": {
      "model_module": "@jupyter-widgets/controls",
      "model_module_version": "1.5.0",
      "model_name": "HBoxModel",
      "state": {
       "children": [
        "IPY_MODEL_6dcef2838df649c69e0d05c6486e67b0",
        "IPY_MODEL_72d6c328876745b8a5636c69dc54a9c8",
        "IPY_MODEL_72a4609c9cdb4da99d75b008e3dc935a"
       ],
       "layout": "IPY_MODEL_92a661c8a6af4377872f04bc8cf5dba0"
      }
     },
     "b8743894f97b44f39170fdab28f4bc92": {
      "model_module": "@jupyter-widgets/controls",
      "model_module_version": "1.5.0",
      "model_name": "HBoxModel",
      "state": {
       "children": [
        "IPY_MODEL_42a9553a29174836bd4bb808d8689524",
        "IPY_MODEL_de632b85eb25483d8364b8ec36364828",
        "IPY_MODEL_323b1adf37bc4b26a83c11547fa472ad"
       ],
       "layout": "IPY_MODEL_80298c3d43eb4992943df55205f67c5f"
      }
     },
     "b8887a544fbe46348ae3e5e4d8db435c": {
      "model_module": "@jupyter-widgets/controls",
      "model_module_version": "1.5.0",
      "model_name": "FloatSliderModel",
      "state": {
       "description": "Compression Threshold",
       "layout": "IPY_MODEL_ca66f2094b9044228f578f09c7faafb6",
       "max": 1,
       "step": 0.01,
       "style": "IPY_MODEL_ebb638462ee44dab8673a1a00b19b7c6",
       "value": 0.8
      }
     },
     "b8bc90db01234aafab1785f9bf1f463c": {
      "model_module": "@jupyter-widgets/controls",
      "model_module_version": "1.5.0",
      "model_name": "DescriptionStyleModel",
      "state": {
       "description_width": ""
      }
     },
     "b8dc344693804b4384785857192f6c99": {
      "model_module": "@jupyter-widgets/base",
      "model_module_version": "1.2.0",
      "model_name": "LayoutModel",
      "state": {}
     },
     "b8e4374ed14e4499b4261f3cf4c95326": {
      "model_module": "@jupyter-widgets/base",
      "model_module_version": "1.2.0",
      "model_name": "LayoutModel",
      "state": {}
     },
     "b9120db9700549f5965cfbb655d7ed39": {
      "model_module": "@jupyter-widgets/controls",
      "model_module_version": "1.5.0",
      "model_name": "ButtonModel",
      "state": {
       "description": "Export Image",
       "layout": "IPY_MODEL_b5eb0617a59f476c99571ff83bf075bf",
       "style": "IPY_MODEL_d375582ee38d4214b4886dd6ce344162"
      }
     },
     "b931c3047b5545079949fee3375f1728": {
      "model_module": "@jupyter-widgets/base",
      "model_module_version": "1.2.0",
      "model_name": "LayoutModel",
      "state": {}
     },
     "b938da3738a94faabf9eadf61e28e466": {
      "model_module": "@jupyter-widgets/controls",
      "model_module_version": "1.5.0",
      "model_name": "SliderStyleModel",
      "state": {
       "description_width": ""
      }
     },
     "b970ba8d3f9847429e827c79af33ed47": {
      "model_module": "@jupyter-widgets/base",
      "model_module_version": "1.2.0",
      "model_name": "LayoutModel",
      "state": {}
     },
     "b9c049b71d8d4f15921993ec6db66bf0": {
      "model_module": "@jupyter-widgets/controls",
      "model_module_version": "1.5.0",
      "model_name": "ButtonStyleModel",
      "state": {}
     },
     "ba0711eb648b44708b78e84ea6a803fa": {
      "model_module": "@jupyter-widgets/controls",
      "model_module_version": "1.5.0",
      "model_name": "FloatSliderModel",
      "state": {
       "description": "Compression Threshold",
       "layout": "IPY_MODEL_516b4d220f2c441db87836ffa3ac933d",
       "max": 1,
       "step": 0.01,
       "style": "IPY_MODEL_875b01fcb4b9436c94dd3c557cf67672",
       "value": 0.8
      }
     },
     "ba1c0f893ec14408b1fa5332826467b1": {
      "model_module": "@jupyter-widgets/controls",
      "model_module_version": "1.5.0",
      "model_name": "HBoxModel",
      "state": {
       "children": [
        "IPY_MODEL_bb0cdfc970c44bfcb065e29b47ac814c",
        "IPY_MODEL_67f4046aaa174d46becc59d72fd36d56",
        "IPY_MODEL_6b8da38226fa4a7485050ce97e1b42a6"
       ],
       "layout": "IPY_MODEL_d6932bb511cf4d49b3d41da36296892a"
      }
     },
     "ba2f694999c94dd0be68fb31427d3e57": {
      "model_module": "@jupyter-widgets/controls",
      "model_module_version": "1.5.0",
      "model_name": "ButtonStyleModel",
      "state": {}
     },
     "ba9c15dbd1594bfdaca946865a175732": {
      "model_module": "@jupyter-widgets/controls",
      "model_module_version": "1.5.0",
      "model_name": "ButtonStyleModel",
      "state": {}
     },
     "ba9f4d05c8b247bea3a6b0e194df4127": {
      "model_module": "@jupyter-widgets/base",
      "model_module_version": "1.2.0",
      "model_name": "LayoutModel",
      "state": {}
     },
     "babfc852ba18451eaad46ac0cd43b56d": {
      "model_module": "@jupyter-widgets/base",
      "model_module_version": "1.2.0",
      "model_name": "LayoutModel",
      "state": {}
     },
     "bafbdc604d2e4fbe904d79910ae27215": {
      "model_module": "@jupyter-widgets/controls",
      "model_module_version": "1.5.0",
      "model_name": "ButtonModel",
      "state": {
       "description": "Reset Exposure",
       "layout": "IPY_MODEL_8112f30e04494ce7bdf94f1bc1a641ab",
       "style": "IPY_MODEL_99ea562c9ce3426bba6ac4b0291a04b4"
      }
     },
     "bb0cdfc970c44bfcb065e29b47ac814c": {
      "model_module": "@jupyter-widgets/controls",
      "model_module_version": "1.5.0",
      "model_name": "CheckboxModel",
      "state": {
       "description": "Disable Medicina",
       "disabled": false,
       "layout": "IPY_MODEL_705d12ba24414bae8ac94df7cd88d819",
       "style": "IPY_MODEL_ab01546af6ff476c929e6d0701c4a1a3",
       "value": false
      }
     },
     "bb0db4ec6c4d477e98da0b92b910b742": {
      "model_module": "@jupyter-widgets/base",
      "model_module_version": "1.2.0",
      "model_name": "LayoutModel",
      "state": {}
     },
     "bb2a5d2f4ae34aee80aead19e5fcb644": {
      "model_module": "@jupyter-widgets/controls",
      "model_module_version": "1.5.0",
      "model_name": "VBoxModel",
      "state": {
       "children": [
        "IPY_MODEL_1d8d6290ba4b4be99ae63f407d805f70"
       ],
       "layout": "IPY_MODEL_23fda023be7c49808979bec8cfd09834"
      }
     },
     "bb55d0b48a2e438c8c7021449fff1b0f": {
      "model_module": "@jupyter-widgets/base",
      "model_module_version": "1.2.0",
      "model_name": "LayoutModel",
      "state": {}
     },
     "bb78266ac3104f3f92880ed160844a5c": {
      "model_module": "@jupyter-widgets/base",
      "model_module_version": "1.2.0",
      "model_name": "LayoutModel",
      "state": {}
     },
     "bb8ff37dbfd64b229b5c6c3c93a9c0ec": {
      "model_module": "@jupyter-widgets/controls",
      "model_module_version": "1.5.0",
      "model_name": "ButtonStyleModel",
      "state": {}
     },
     "bbac5ec646bb4e2ea382b53006558279": {
      "model_module": "@jupyter-widgets/base",
      "model_module_version": "1.2.0",
      "model_name": "LayoutModel",
      "state": {}
     },
     "bbcc69781fc147f9b0a85792bc809ded": {
      "model_module": "@jupyter-widgets/controls",
      "model_module_version": "1.5.0",
      "model_name": "SliderStyleModel",
      "state": {
       "description_width": ""
      }
     },
     "bbebcb747bb3496a90e6a298852502f3": {
      "model_module": "@jupyter-widgets/base",
      "model_module_version": "1.2.0",
      "model_name": "LayoutModel",
      "state": {}
     },
     "bc45026980b441b6b0080bdec60c7a80": {
      "model_module": "@jupyter-widgets/controls",
      "model_module_version": "1.5.0",
      "model_name": "SliderStyleModel",
      "state": {
       "description_width": ""
      }
     },
     "bc6bdb727efa44bb92dfd66adabb5890": {
      "model_module": "@jupyter-widgets/base",
      "model_module_version": "1.2.0",
      "model_name": "LayoutModel",
      "state": {}
     },
     "bc942a5505e74180851e800830932c53": {
      "model_module": "@jupyter-widgets/controls",
      "model_module_version": "1.5.0",
      "model_name": "SliderStyleModel",
      "state": {
       "description_width": ""
      }
     },
     "bc9ba2f60a054466b35d5b0117a37592": {
      "model_module": "@jupyter-widgets/base",
      "model_module_version": "1.2.0",
      "model_name": "LayoutModel",
      "state": {}
     },
     "bcd739d08bf64b5493971e6913c7678d": {
      "model_module": "@jupyter-widgets/base",
      "model_module_version": "1.2.0",
      "model_name": "LayoutModel",
      "state": {}
     },
     "bcd8fecc84054ad0ba9656d8a064f70c": {
      "model_module": "@jupyter-widgets/controls",
      "model_module_version": "1.5.0",
      "model_name": "SliderStyleModel",
      "state": {
       "description_width": ""
      }
     },
     "bd21ee2448324b6c83fe69e30c300463": {
      "model_module": "@jupyter-widgets/base",
      "model_module_version": "1.2.0",
      "model_name": "LayoutModel",
      "state": {}
     },
     "bd8beaf43ad24066941270c283303d45": {
      "model_module": "@jupyter-widgets/controls",
      "model_module_version": "1.5.0",
      "model_name": "VBoxModel",
      "state": {
       "children": [
        "IPY_MODEL_4d915eb8c41d4b5a95d0a39fd47e4d7a"
       ],
       "layout": "IPY_MODEL_10d1c8a7c0964b33bd2cbc3f8375bad4"
      }
     },
     "bdf44f2602ab4763828c871876a39968": {
      "model_module": "@jupyter-widgets/controls",
      "model_module_version": "1.5.0",
      "model_name": "FloatSliderModel",
      "state": {
       "description": "Protected Area Threshold",
       "layout": "IPY_MODEL_592aadca98db46da98ded0a20274005c",
       "max": 1,
       "step": 0.01,
       "style": "IPY_MODEL_5b2efdd401cb44ae9427150bd30a9377",
       "value": 0.7
      }
     },
     "be14f951b687425d85e674c7b67acb08": {
      "model_module": "@jupyter-widgets/controls",
      "model_module_version": "1.5.0",
      "model_name": "DescriptionStyleModel",
      "state": {
       "description_width": ""
      }
     },
     "be414793753b45a6aa3502011937cc33": {
      "model_module": "@jupyter-widgets/base",
      "model_module_version": "1.2.0",
      "model_name": "LayoutModel",
      "state": {
       "border": "solid 4px #222",
       "margin": "4px",
       "padding": "0"
      }
     },
     "be449e63b6e84c378b5634c6bd99ffca": {
      "model_module": "@jupyter-widgets/base",
      "model_module_version": "1.2.0",
      "model_name": "LayoutModel",
      "state": {}
     },
     "be46ce4567424aad9c65e1fa5d4488db": {
      "model_module": "@jupyter-widgets/controls",
      "model_module_version": "1.5.0",
      "model_name": "SliderStyleModel",
      "state": {
       "description_width": ""
      }
     },
     "be664948a20c45ce963e66f25900afee": {
      "model_module": "@jupyter-widgets/controls",
      "model_module_version": "1.5.0",
      "model_name": "ButtonModel",
      "state": {
       "description": "Export Image",
       "layout": "IPY_MODEL_a6e5b30e8a014227a7e15e9aea294941",
       "style": "IPY_MODEL_94f1e14316f143498bd4ae40ae1b5832"
      }
     },
     "be6bd6b36c2c4507a02880b0ed0736aa": {
      "model_module": "@jupyter-widgets/controls",
      "model_module_version": "1.5.0",
      "model_name": "DescriptionStyleModel",
      "state": {
       "description_width": ""
      }
     },
     "be6c9498fd2c4ec5b32d2b84de9fded0": {
      "model_module": "@jupyter-widgets/controls",
      "model_module_version": "1.5.0",
      "model_name": "HBoxModel",
      "state": {
       "children": [
        "IPY_MODEL_7b07d4110d794344b1d6235ea82a258d",
        "IPY_MODEL_e7fd3f62b4b849faa6baafaadd041772",
        "IPY_MODEL_0e12e905b77c490db20c117cf5d4738a"
       ],
       "layout": "IPY_MODEL_0bd55b6e8761494eabfa8df6b9ebca5f"
      }
     },
     "be792a1c174148078e35035d863a4d94": {
      "model_module": "@jupyter-widgets/controls",
      "model_module_version": "1.5.0",
      "model_name": "DropdownModel",
      "state": {
       "_options_labels": [
        "tanh",
        "atan",
        "simple"
       ],
       "description": "Compression Function:",
       "index": 0,
       "layout": "IPY_MODEL_b17fe796acaf4b6caa07a60a5f156031",
       "style": "IPY_MODEL_4dbed68f34f8469caadfb40d43eba856"
      }
     },
     "be82b64f21e640bbb4589ae30e09b528": {
      "model_module": "@jupyter-widgets/controls",
      "model_module_version": "1.5.0",
      "model_name": "FloatSliderModel",
      "state": {
       "description": "Compression Threshold",
       "layout": "IPY_MODEL_cf93ff10fc264c0caf0ddada770e7ae8",
       "max": 1,
       "step": 0.01,
       "style": "IPY_MODEL_2f56f8333b9043698550efa088ab4f58",
       "value": 0.8
      }
     },
     "be84f1d80c044755ae55faf61f6d2b1c": {
      "model_module": "@jupyter-widgets/controls",
      "model_module_version": "1.5.0",
      "model_name": "SliderStyleModel",
      "state": {
       "description_width": ""
      }
     },
     "beabb047e9544542bbe64ed8cd27131d": {
      "model_module": "@jupyter-widgets/base",
      "model_module_version": "1.2.0",
      "model_name": "LayoutModel",
      "state": {}
     },
     "bf3b0c10dddd47269dd4bd0b9e82a95e": {
      "model_module": "@jupyter-widgets/controls",
      "model_module_version": "1.5.0",
      "model_name": "ButtonModel",
      "state": {
       "description": "Reset Exposure",
       "layout": "IPY_MODEL_8fa0aafe5279484faccd156d49672074",
       "style": "IPY_MODEL_f1771c46be324a9a858514374beaa9ee"
      }
     },
     "bf3eeff541514e4e89b1ae3238f4d934": {
      "model_module": "@jupyter-widgets/controls",
      "model_module_version": "1.5.0",
      "model_name": "SliderStyleModel",
      "state": {
       "description_width": ""
      }
     },
     "bf413cb91c43415aacd3df0d57ce6bd1": {
      "model_module": "@jupyter-widgets/controls",
      "model_module_version": "1.5.0",
      "model_name": "FloatSliderModel",
      "state": {
       "description": "135°",
       "layout": "IPY_MODEL_7f5bac4c7fe7451f8cefa30b494e2326",
       "max": 1,
       "min": -1,
       "step": 0.01,
       "style": "IPY_MODEL_6febd9e1b6084cb8af089e81d59aab69"
      }
     },
     "bf499cedc55240b4a34301d9f3d46df1": {
      "model_module": "@jupyter-widgets/base",
      "model_module_version": "1.2.0",
      "model_name": "LayoutModel",
      "state": {}
     },
     "bf8d877d75b64adaafc65462154a173a": {
      "model_module": "@jupyter-widgets/controls",
      "model_module_version": "1.5.0",
      "model_name": "FloatSliderModel",
      "state": {
       "description": "180°",
       "layout": "IPY_MODEL_6f46ad6d62354c65bc633aa118607ca1",
       "max": 1,
       "min": -1,
       "step": 0.01,
       "style": "IPY_MODEL_7dd63f9d2df846f29755095c073f16bd"
      }
     },
     "c002bda0368948598b209e280cb15a21": {
      "model_module": "@jupyter-widgets/base",
      "model_module_version": "1.2.0",
      "model_name": "LayoutModel",
      "state": {
       "border": "solid 4px #222",
       "margin": "4px",
       "padding": "0"
      }
     },
     "c03136c68b1444618a6bff2721ce2c30": {
      "model_module": "@jupyter-widgets/controls",
      "model_module_version": "1.5.0",
      "model_name": "HBoxModel",
      "state": {
       "children": [
        "IPY_MODEL_30b4229cf7d949a7a5b95de396a9dec3",
        "IPY_MODEL_42e454a5fe544c44bb26ceec82d48720",
        "IPY_MODEL_5a99ed06bd27493a91e96e829b414fbf"
       ],
       "layout": "IPY_MODEL_ac6d0ee7068d40debb96db176f34f4e5"
      }
     },
     "c056f0b98cbf425b96cce3831e5d3e7c": {
      "model_module": "@jupyter-widgets/base",
      "model_module_version": "1.2.0",
      "model_name": "LayoutModel",
      "state": {}
     },
     "c0641ddba5b342a1be1f60885809d625": {
      "model_module": "@jupyter-widgets/base",
      "model_module_version": "1.2.0",
      "model_name": "LayoutModel",
      "state": {}
     },
     "c06e2a1662f940e7a9075bbe778c85ee": {
      "model_module": "@jupyter-widgets/base",
      "model_module_version": "1.2.0",
      "model_name": "LayoutModel",
      "state": {
       "align_items": "stretch",
       "display": "flex",
       "flex_flow": "column",
       "width": "1128px"
      }
     },
     "c06ea671543f40b8a0e47a229c22ba64": {
      "model_module": "@jupyter-widgets/base",
      "model_module_version": "1.2.0",
      "model_name": "LayoutModel",
      "state": {}
     },
     "c0725cf0812146daa970d055c2722914": {
      "model_module": "@jupyter-widgets/base",
      "model_module_version": "1.2.0",
      "model_name": "LayoutModel",
      "state": {
       "align_items": "stretch",
       "display": "flex",
       "flex_flow": "column",
       "width": "1128px"
      }
     },
     "c0913620d1d64adfa579bc2dde740251": {
      "model_module": "@jupyter-widgets/base",
      "model_module_version": "1.2.0",
      "model_name": "LayoutModel",
      "state": {}
     },
     "c0b936fae8bd414aa78d97399d0c7ff3": {
      "model_module": "@jupyter-widgets/base",
      "model_module_version": "1.2.0",
      "model_name": "LayoutModel",
      "state": {}
     },
     "c0bd29f010c44b21b6c2b3ad0da60a0e": {
      "model_module": "@jupyter-widgets/base",
      "model_module_version": "1.2.0",
      "model_name": "LayoutModel",
      "state": {}
     },
     "c0c5112675814ca49187387466eefaaa": {
      "model_module": "@jupyter-widgets/controls",
      "model_module_version": "1.5.0",
      "model_name": "CheckboxModel",
      "state": {
       "description": "Disable Medicina",
       "disabled": false,
       "layout": "IPY_MODEL_7990143287964458a223e9336e83bd89",
       "style": "IPY_MODEL_9f97b37989434f029154cc91ee290f78",
       "value": false
      }
     },
     "c0ea10f93738417ca35f11b440d43360": {
      "model_module": "@jupyter-widgets/controls",
      "model_module_version": "1.5.0",
      "model_name": "CheckboxModel",
      "state": {
       "description": "Disable Medicina",
       "disabled": false,
       "layout": "IPY_MODEL_750f5d991d7c48dda83aba7eac281947",
       "style": "IPY_MODEL_10808a6e467b4ca892f03ce0fccacac5",
       "value": false
      }
     },
     "c0fc597fdff740069e2956d8ece548ee": {
      "model_module": "@jupyter-widgets/base",
      "model_module_version": "1.2.0",
      "model_name": "LayoutModel",
      "state": {}
     },
     "c1226bd934d04ae481a91637b7a10578": {
      "model_module": "@jupyter-widgets/controls",
      "model_module_version": "1.5.0",
      "model_name": "ButtonStyleModel",
      "state": {}
     },
     "c152a435e86e4d5b9afcd319404c1950": {
      "model_module": "@jupyter-widgets/controls",
      "model_module_version": "1.5.0",
      "model_name": "ButtonModel",
      "state": {
       "description": "Reset Hue Controls",
       "layout": "IPY_MODEL_3ca633338401408dbd40524e54d9601c",
       "style": "IPY_MODEL_bb8ff37dbfd64b229b5c6c3c93a9c0ec"
      }
     },
     "c168aa9e7bcd41aabc43aa87224a27e3": {
      "model_module": "@jupyter-widgets/base",
      "model_module_version": "1.2.0",
      "model_name": "LayoutModel",
      "state": {}
     },
     "c16fa32db83e44a8b078547b0806cc4d": {
      "model_module": "@jupyter-widgets/output",
      "model_module_version": "1.0.0",
      "model_name": "OutputModel",
      "state": {
       "layout": "IPY_MODEL_a688733dbfbc4be3a5b4cb2c9864299f",
       "outputs": [
        {
         "data": {
          "application/vnd.jupyter.widget-view+json": {
           "model_id": "12b877971e584a769d252f8332c9a901",
           "version_major": 2,
           "version_minor": 0
          },
          "text/plain": "Canvas(toolbar=Toolbar(toolitems=[('Home', 'Reset original view', 'home', 'home'), ('Back', 'Back to previous …"
         },
         "metadata": {},
         "output_type": "display_data"
        }
       ]
      }
     },
     "c1779979a098451697ceadf3b8765d0b": {
      "model_module": "@jupyter-widgets/base",
      "model_module_version": "1.2.0",
      "model_name": "LayoutModel",
      "state": {}
     },
     "c18ba142343341ee9603614a8babccc2": {
      "model_module": "@jupyter-widgets/base",
      "model_module_version": "1.2.0",
      "model_name": "LayoutModel",
      "state": {}
     },
     "c18f33b273814a11b574cb1609d8089c": {
      "model_module": "@jupyter-widgets/controls",
      "model_module_version": "1.5.0",
      "model_name": "ButtonModel",
      "state": {
       "description": "Reset Exposure",
       "layout": "IPY_MODEL_f8a2cd7b42564ed2a0ee39ff6caf6de0",
       "style": "IPY_MODEL_77b92c4363ad4fb688efe89dbfa6ac33"
      }
     },
     "c1da060d079f4ac0ada4498b22e9215a": {
      "model_module": "@jupyter-widgets/base",
      "model_module_version": "1.2.0",
      "model_name": "LayoutModel",
      "state": {}
     },
     "c1dcb6aac295498399c0c1eda89c3854": {
      "model_module": "@jupyter-widgets/controls",
      "model_module_version": "1.5.0",
      "model_name": "ButtonModel",
      "state": {
       "description": "Reset Protected Area",
       "layout": "IPY_MODEL_5dae6b14d49e42948e97abee0594c956",
       "style": "IPY_MODEL_fe5cc6b48edc4c73bb2e30461547df18"
      }
     },
     "c20969b8def145d18731c8f62ae78497": {
      "model_module": "@jupyter-widgets/controls",
      "model_module_version": "1.5.0",
      "model_name": "ButtonStyleModel",
      "state": {}
     },
     "c227c84e2e984a0bb5db614ed4d3f3b9": {
      "model_module": "@jupyter-widgets/base",
      "model_module_version": "1.2.0",
      "model_name": "LayoutModel",
      "state": {}
     },
     "c25965f888964b129006089736d4d0f0": {
      "model_module": "@jupyter-widgets/base",
      "model_module_version": "1.2.0",
      "model_name": "LayoutModel",
      "state": {}
     },
     "c274763af5284bc7862c5fcbd2d7624c": {
      "model_module": "@jupyter-widgets/base",
      "model_module_version": "1.2.0",
      "model_name": "LayoutModel",
      "state": {}
     },
     "c278ce05508147edae8f7173e160578b": {
      "model_module": "@jupyter-widgets/controls",
      "model_module_version": "1.5.0",
      "model_name": "SliderStyleModel",
      "state": {
       "description_width": ""
      }
     },
     "c28a024143214e7b88b4891afebbda92": {
      "model_module": "@jupyter-widgets/controls",
      "model_module_version": "1.5.0",
      "model_name": "HBoxModel",
      "state": {
       "children": [
        "IPY_MODEL_5a8da35e72c4466f90a905ce10fecf5a",
        "IPY_MODEL_10ae24a5c7b848e0acfd7f1c261bac8f",
        "IPY_MODEL_d5233db066e341c0b61da282fcea3b5a"
       ],
       "layout": "IPY_MODEL_aa7084f44b944909adad33aece090512"
      }
     },
     "c2a143d25ea247b19b73aba0fcfdd2c2": {
      "model_module": "@jupyter-widgets/controls",
      "model_module_version": "1.5.0",
      "model_name": "DescriptionStyleModel",
      "state": {
       "description_width": ""
      }
     },
     "c2a94ef02b3b48fe89b4c5b096f73c60": {
      "model_module": "@jupyter-widgets/base",
      "model_module_version": "1.2.0",
      "model_name": "LayoutModel",
      "state": {}
     },
     "c2acebb3ca9e435482056a3f2493edba": {
      "model_module": "@jupyter-widgets/base",
      "model_module_version": "1.2.0",
      "model_name": "LayoutModel",
      "state": {}
     },
     "c2b7b5ebe10c466aad3b48bbfeb5ffda": {
      "model_module": "@jupyter-widgets/controls",
      "model_module_version": "1.5.0",
      "model_name": "DescriptionStyleModel",
      "state": {
       "description_width": ""
      }
     },
     "c2c26f946cb5473891c382f9e5eb1e43": {
      "model_module": "@jupyter-widgets/controls",
      "model_module_version": "1.5.0",
      "model_name": "VBoxModel",
      "state": {
       "children": [
        "IPY_MODEL_ff990eb5926c4d399099fdd30467f773",
        "IPY_MODEL_d3466dc3a5ba4744a1a9f48f8458d12a",
        "IPY_MODEL_279028c8ab0b45fa95f4d39a39066de8"
       ],
       "layout": "IPY_MODEL_cf93ccbad0b345088b65d0abb7f2a412"
      }
     },
     "c350d9ee976b41cca0aed5b6a71a3fb9": {
      "model_module": "@jupyter-widgets/controls",
      "model_module_version": "1.5.0",
      "model_name": "VBoxModel",
      "state": {
       "children": [
        "IPY_MODEL_7ed8a336daf44401bbbe198ff363586f",
        "IPY_MODEL_fb2237342cd240959ae9867d6b25e90f",
        "IPY_MODEL_740dbc644189445689a384d89fbbbba0"
       ],
       "layout": "IPY_MODEL_d4b5fcb187ec4a04b60f96b818529641"
      }
     },
     "c353084b76224fedab6ef6ba8f5fecca": {
      "model_module": "@jupyter-widgets/controls",
      "model_module_version": "1.5.0",
      "model_name": "ButtonStyleModel",
      "state": {}
     },
     "c3c4003b0f7c438892b5400f69b410a0": {
      "model_module": "@jupyter-widgets/base",
      "model_module_version": "1.2.0",
      "model_name": "LayoutModel",
      "state": {}
     },
     "c3e8f865cf9f413a9fa50136980d9bb7": {
      "model_module": "@jupyter-widgets/controls",
      "model_module_version": "1.5.0",
      "model_name": "FloatSliderModel",
      "state": {
       "description": "45°",
       "layout": "IPY_MODEL_2a15b7e0fbf84072aa4e8b1ab1fabbf0",
       "max": 1,
       "min": -1,
       "step": 0.01,
       "style": "IPY_MODEL_4fa6a930839b4d629ac632c0e6aebcad"
      }
     },
     "c3fa19e1d13f48d2b9c0479ca8bd5f0e": {
      "model_module": "@jupyter-widgets/controls",
      "model_module_version": "1.5.0",
      "model_name": "FloatSliderModel",
      "state": {
       "description": "315°",
       "layout": "IPY_MODEL_331e04d515ce41b4887ff832fec743a4",
       "max": 1,
       "min": -1,
       "step": 0.01,
       "style": "IPY_MODEL_0f8d2954766a4efd97a564d7c4c3e9c9"
      }
     },
     "c43192045e164020aee6df56825e51db": {
      "model_module": "@jupyter-widgets/controls",
      "model_module_version": "1.5.0",
      "model_name": "ButtonStyleModel",
      "state": {}
     },
     "c4742956e541416b8c093a963daee3ec": {
      "model_module": "@jupyter-widgets/controls",
      "model_module_version": "1.5.0",
      "model_name": "SliderStyleModel",
      "state": {
       "description_width": ""
      }
     },
     "c48876cf0cf44aa1a70b07bf73fd339b": {
      "model_module": "@jupyter-widgets/base",
      "model_module_version": "1.2.0",
      "model_name": "LayoutModel",
      "state": {}
     },
     "c49221bee7d942ea95bbc601832ae3b7": {
      "model_module": "@jupyter-widgets/controls",
      "model_module_version": "1.5.0",
      "model_name": "HBoxModel",
      "state": {
       "children": [
        "IPY_MODEL_83ee642732114df0ac6bd426b74a9307",
        "IPY_MODEL_863bc382d2f14d9092fa67e5c70db006",
        "IPY_MODEL_dc2fa39adb1f43478f874680e38afbdb"
       ],
       "layout": "IPY_MODEL_37e1750792b848d1919d4f77708d8bca"
      }
     },
     "c49290b3859b42db93bbd3a5bca81448": {
      "model_module": "@jupyter-widgets/controls",
      "model_module_version": "1.5.0",
      "model_name": "ButtonModel",
      "state": {
       "description": "Save Figure",
       "layout": "IPY_MODEL_b8dc344693804b4384785857192f6c99",
       "style": "IPY_MODEL_699841c0207248c0a8b21ac0ac7d02fb"
      }
     },
     "c4ce4ce56c67432eb6199387cc024725": {
      "model_module": "@jupyter-widgets/controls",
      "model_module_version": "1.5.0",
      "model_name": "FloatSliderModel",
      "state": {
       "description": "Compression Threshold",
       "layout": "IPY_MODEL_d2b45071befa4ff093b9f989fe5bf5f2",
       "max": 1,
       "step": 0.01,
       "style": "IPY_MODEL_8960f8da0b1b4e23993fb538d29f4f63",
       "value": 0.8
      }
     },
     "c518a623b90141028390622611b24e91": {
      "model_module": "@jupyter-widgets/controls",
      "model_module_version": "1.5.0",
      "model_name": "CheckboxModel",
      "state": {
       "description": "Show Out-of-Gamut",
       "disabled": false,
       "layout": "IPY_MODEL_042a104b8d2d40fbbee3c4633aae7d3b",
       "style": "IPY_MODEL_57d93cdcf0d54c4e88c1559624473c6d",
       "value": false
      }
     },
     "c51c7b6dd407471995f1d7eb99596af2": {
      "model_module": "@jupyter-widgets/controls",
      "model_module_version": "1.5.0",
      "model_name": "ButtonModel",
      "state": {
       "description": "Reset Exposure",
       "layout": "IPY_MODEL_41a178eb85a3475cbf95e3074341b313",
       "style": "IPY_MODEL_4f7703509bce439ea31006ecf2caa490"
      }
     },
     "c532463d885e4254b138494cc8fcc368": {
      "model_module": "@jupyter-widgets/controls",
      "model_module_version": "1.5.0",
      "model_name": "DescriptionStyleModel",
      "state": {
       "description_width": ""
      }
     },
     "c559e613fd18410fa0be7b6f26126696": {
      "model_module": "@jupyter-widgets/controls",
      "model_module_version": "1.5.0",
      "model_name": "DescriptionStyleModel",
      "state": {
       "description_width": ""
      }
     },
     "c56e552840cc446f8a8eb90bd245c18a": {
      "model_module": "@jupyter-widgets/base",
      "model_module_version": "1.2.0",
      "model_name": "LayoutModel",
      "state": {}
     },
     "c57a4a44f4394787a188a85a7bc302d9": {
      "model_module": "@jupyter-widgets/base",
      "model_module_version": "1.2.0",
      "model_name": "LayoutModel",
      "state": {
       "border": "solid 4px #222",
       "margin": "4px",
       "padding": "0"
      }
     },
     "c5a90235c06f4e2b8c849b2d72e9b9f1": {
      "model_module": "@jupyter-widgets/controls",
      "model_module_version": "1.5.0",
      "model_name": "ButtonStyleModel",
      "state": {}
     },
     "c5c35886a4c64677b18689aed4395f36": {
      "model_module": "@jupyter-widgets/base",
      "model_module_version": "1.2.0",
      "model_name": "LayoutModel",
      "state": {}
     },
     "c6083dd7885e4846b74e33e809ee45c0": {
      "model_module": "@jupyter-widgets/controls",
      "model_module_version": "1.5.0",
      "model_name": "BoxModel",
      "state": {
       "children": [
        "IPY_MODEL_c16fa32db83e44a8b078547b0806cc4d",
        "IPY_MODEL_2153e5ca496945b787aceea89d7d7b00"
       ],
       "layout": "IPY_MODEL_10ef7fa182f34cb5af2b173df61200c3"
      }
     },
     "c66bd766827a4340bb8728825140286f": {
      "model_module": "@jupyter-widgets/base",
      "model_module_version": "1.2.0",
      "model_name": "LayoutModel",
      "state": {}
     },
     "c674033cd8d34bc99b7e8334dcb88e23": {
      "model_module": "@jupyter-widgets/base",
      "model_module_version": "1.2.0",
      "model_name": "LayoutModel",
      "state": {}
     },
     "c697469c96d6495f95f50e0ff7cda6e6": {
      "model_module": "@jupyter-widgets/controls",
      "model_module_version": "1.5.0",
      "model_name": "FloatSliderModel",
      "state": {
       "description": "315°",
       "layout": "IPY_MODEL_9da26fa764764bebb409d36d76e989a1",
       "max": 1,
       "min": -1,
       "step": 0.01,
       "style": "IPY_MODEL_da65471a02194cb8aee0a4834e2c475b"
      }
     },
     "c6b39570e58a415c9c0c03e5d82ba0b0": {
      "model_module": "@jupyter-widgets/controls",
      "model_module_version": "1.5.0",
      "model_name": "TabModel",
      "state": {
       "_titles": {
        "0": "Global Controls",
        "1": "Viewer Controls"
       },
       "children": [
        "IPY_MODEL_c49221bee7d942ea95bbc601832ae3b7",
        "IPY_MODEL_1937ad467e3c4205ae872ad799a30090"
       ],
       "layout": "IPY_MODEL_a948597ec74446c89adfa44563a1f441"
      }
     },
     "c6c29e5d986a40b2873a398caafa0049": {
      "model_module": "@jupyter-widgets/controls",
      "model_module_version": "1.5.0",
      "model_name": "FloatSliderModel",
      "state": {
       "description": "Protected Area Threshold",
       "layout": "IPY_MODEL_6dd34d9f0cc04fa9836ac555b1ad8352",
       "max": 1,
       "step": 0.01,
       "style": "IPY_MODEL_a7f71d467c42464cbe3a555f1e8c91be",
       "value": 0.7
      }
     },
     "c6e588b101204c028b216d9f0741cfa4": {
      "model_module": "@jupyter-widgets/controls",
      "model_module_version": "1.5.0",
      "model_name": "SliderStyleModel",
      "state": {
       "description_width": ""
      }
     },
     "c70f699d42ac421e97a8b0403b8703b4": {
      "model_module": "@jupyter-widgets/controls",
      "model_module_version": "1.5.0",
      "model_name": "FloatSliderModel",
      "state": {
       "description": "270°",
       "layout": "IPY_MODEL_91ada420ba0a4f2185ae178f8ccdd921",
       "max": 1,
       "min": -1,
       "step": 0.01,
       "style": "IPY_MODEL_ef15657366d3446484bf128cf1c196ab"
      }
     },
     "c7a72dbbcc87472094eb00543a59ce2f": {
      "model_module": "@jupyter-widgets/controls",
      "model_module_version": "1.5.0",
      "model_name": "ButtonModel",
      "state": {
       "description": "Reset Compression Controls",
       "layout": "IPY_MODEL_5ce1be19535f48018a9b1ab2db928b5b",
       "style": "IPY_MODEL_c43192045e164020aee6df56825e51db"
      }
     },
     "c7e03095932e408ca35b091b4938e362": {
      "model_module": "@jupyter-widgets/base",
      "model_module_version": "1.2.0",
      "model_name": "LayoutModel",
      "state": {}
     },
     "c7f898d16dcc4b209d440a334f3dd295": {
      "model_module": "@jupyter-widgets/base",
      "model_module_version": "1.2.0",
      "model_name": "LayoutModel",
      "state": {}
     },
     "c827bec7e45745798b40989c0fcfc1ed": {
      "model_module": "@jupyter-widgets/controls",
      "model_module_version": "1.5.0",
      "model_name": "FloatSliderModel",
      "state": {
       "description": "Protected Area Threshold",
       "layout": "IPY_MODEL_d9be7a2abfb04dbbaf8cf41dcb10bd76",
       "max": 1,
       "step": 0.01,
       "style": "IPY_MODEL_3daa2b475ae1473692a342cd8b72a576",
       "value": 0.7
      }
     },
     "c88c5344c2ae401ea4bb6c6a24e39671": {
      "model_module": "@jupyter-widgets/controls",
      "model_module_version": "1.5.0",
      "model_name": "SliderStyleModel",
      "state": {
       "description_width": ""
      }
     },
     "c8a2560757ac464ca5e52d2aebbf6646": {
      "model_module": "@jupyter-widgets/base",
      "model_module_version": "1.2.0",
      "model_name": "LayoutModel",
      "state": {}
     },
     "c8a6427c24ae4140a13a9e3cec60d40b": {
      "model_module": "@jupyter-widgets/controls",
      "model_module_version": "1.5.0",
      "model_name": "HBoxModel",
      "state": {
       "children": [
        "IPY_MODEL_a00b084f610d4e7d9efbf845dae8038b",
        "IPY_MODEL_b2d55d5df2e04f5fb732d57f9f97d6cd",
        "IPY_MODEL_606358ea7ff14e6ead511974f8687ede"
       ],
       "layout": "IPY_MODEL_faf60843e6ab44fe8f668e06fab2c91c"
      }
     },
     "c90451ccc3ee4f37ab2481fddce54854": {
      "model_module": "@jupyter-widgets/base",
      "model_module_version": "1.2.0",
      "model_name": "LayoutModel",
      "state": {}
     },
     "c9105c9ea2304f29a719d7052f9fd9bf": {
      "model_module": "@jupyter-widgets/controls",
      "model_module_version": "1.5.0",
      "model_name": "BoxModel",
      "state": {
       "children": [
        "IPY_MODEL_ae41d7b33f304b46979056e131a1815e",
        "IPY_MODEL_2c6f71bd9d424c35bf131142974a6d1f"
       ],
       "layout": "IPY_MODEL_63c8b94ff6c7439382824e76403fdff6"
      }
     },
     "c936c29888e04d409a0dbbe09824c395": {
      "model_module": "@jupyter-widgets/base",
      "model_module_version": "1.2.0",
      "model_name": "LayoutModel",
      "state": {}
     },
     "c9a7b2d9e6cc4d4195739b339bf01b54": {
      "model_module": "@jupyter-widgets/controls",
      "model_module_version": "1.5.0",
      "model_name": "ButtonModel",
      "state": {
       "description": "Reset Protected Area",
       "layout": "IPY_MODEL_e04b5191f91348d780a89a4712122201",
       "style": "IPY_MODEL_cf3747503a654683b8ab95a7105ddcf3"
      }
     },
     "c9c09153bd9f42e1a949837c2ccc3401": {
      "model_module": "@jupyter-widgets/base",
      "model_module_version": "1.2.0",
      "model_name": "LayoutModel",
      "state": {}
     },
     "c9e58f7099b24c08a166d09f4b2c4fb7": {
      "model_module": "@jupyter-widgets/base",
      "model_module_version": "1.2.0",
      "model_name": "LayoutModel",
      "state": {}
     },
     "c9fa2929ba9d4681a1d0fad7e1b18a89": {
      "model_module": "@jupyter-widgets/base",
      "model_module_version": "1.2.0",
      "model_name": "LayoutModel",
      "state": {}
     },
     "ca05f8e751dd4cbcb411f311609f035f": {
      "model_module": "@jupyter-widgets/base",
      "model_module_version": "1.2.0",
      "model_name": "LayoutModel",
      "state": {}
     },
     "ca1a355ef0cd42b78c8638287d7efd0b": {
      "model_module": "@jupyter-widgets/controls",
      "model_module_version": "1.5.0",
      "model_name": "FloatSliderModel",
      "state": {
       "description": "180°",
       "layout": "IPY_MODEL_1f81acf34a244cad9232cde796f6e746",
       "max": 1,
       "min": -1,
       "step": 0.01,
       "style": "IPY_MODEL_f965ace2420340208d82f091cb47308f"
      }
     },
     "ca22d5220a804086b35d346ff750bcc2": {
      "model_module": "@jupyter-widgets/base",
      "model_module_version": "1.2.0",
      "model_name": "LayoutModel",
      "state": {
       "border": "solid 4px #222",
       "margin": "4px",
       "padding": "0"
      }
     },
     "ca4aeeb5e13944efa1b2a58be4e36486": {
      "model_module": "@jupyter-widgets/controls",
      "model_module_version": "1.5.0",
      "model_name": "TabModel",
      "state": {
       "_titles": {
        "0": "Global Controls",
        "1": "Viewer Controls",
        "2": "Compression Controls"
       },
       "children": [
        "IPY_MODEL_769aef1c1624453093358adee048f274",
        "IPY_MODEL_647a26377e2f419ea6ad3c3297603bbb",
        "IPY_MODEL_f3024629d9904f8dbe4164aa030d2e8e"
       ],
       "layout": "IPY_MODEL_e6382b29517640ea96acc48f82143712"
      }
     },
     "ca66f2094b9044228f578f09c7faafb6": {
      "model_module": "@jupyter-widgets/base",
      "model_module_version": "1.2.0",
      "model_name": "LayoutModel",
      "state": {}
     },
     "ca6acfa88688469b85e67bdcfec56818": {
      "model_module": "@jupyter-widgets/controls",
      "model_module_version": "1.5.0",
      "model_name": "VBoxModel",
      "state": {
       "children": [
        "IPY_MODEL_3b13f8795acf419ebe62414b4f212744",
        "IPY_MODEL_8ad2cbd63f7349588cc1c8310c7a3b87"
       ],
       "layout": "IPY_MODEL_ed4e9a63cb59499fa321b393ec537faf"
      }
     },
     "cad50de9f2c34280924de2baf3b350a4": {
      "model_module": "@jupyter-widgets/controls",
      "model_module_version": "1.5.0",
      "model_name": "FloatSliderModel",
      "state": {
       "description": "225°",
       "layout": "IPY_MODEL_8b4b9463112248fb833ec60e6258133c",
       "max": 1,
       "min": -1,
       "step": 0.01,
       "style": "IPY_MODEL_40588893f672464685e9dc3fb4ea65b4"
      }
     },
     "cafc3de5be404d128b340fe8a1e2339e": {
      "model_module": "@jupyter-widgets/output",
      "model_module_version": "1.0.0",
      "model_name": "OutputModel",
      "state": {
       "layout": "IPY_MODEL_22475c27653a4af99e7aa4f8de0051e4",
       "outputs": [
        {
         "data": {
          "application/vnd.jupyter.widget-view+json": {
           "model_id": "542670701bc34aba990d03908ef7197e",
           "version_major": 2,
           "version_minor": 0
          },
          "text/plain": "Canvas(toolbar=Toolbar(toolitems=[('Home', 'Reset original view', 'home', 'home'), ('Back', 'Back to previous …"
         },
         "metadata": {},
         "output_type": "display_data"
        }
       ]
      }
     },
     "cb16e45c7ddd4cee892d1b210d651a99": {
      "model_module": "@jupyter-widgets/base",
      "model_module_version": "1.2.0",
      "model_name": "LayoutModel",
      "state": {}
     },
     "cb4807ee6f8d4d0fb57871a4aa1de727": {
      "model_module": "@jupyter-widgets/controls",
      "model_module_version": "1.5.0",
      "model_name": "ButtonStyleModel",
      "state": {}
     },
     "cb4a63eeb6bc4bdd908b74973a16e48c": {
      "model_module": "@jupyter-widgets/base",
      "model_module_version": "1.2.0",
      "model_name": "LayoutModel",
      "state": {}
     },
     "cb596a5ed7a247008d8978755efdef20": {
      "model_module": "@jupyter-widgets/controls",
      "model_module_version": "1.5.0",
      "model_name": "FloatSliderModel",
      "state": {
       "description": "Exposure",
       "layout": "IPY_MODEL_7a1e2a45048d4f968a965b0b4e0dcdcd",
       "max": 8,
       "min": -8,
       "step": 0.1,
       "style": "IPY_MODEL_625a5c3740454814ba285ffd18d18704"
      }
     },
     "cbbd005864584ea0bd6e2e509ebadc61": {
      "model_module": "@jupyter-widgets/base",
      "model_module_version": "1.2.0",
      "model_name": "LayoutModel",
      "state": {}
     },
     "cbcddccb54d24ab89ae88b1f0e0dcb12": {
      "model_module": "@jupyter-widgets/base",
      "model_module_version": "1.2.0",
      "model_name": "LayoutModel",
      "state": {}
     },
     "cbd85a4a528c43d99a1619d46266328c": {
      "model_module": "@jupyter-widgets/base",
      "model_module_version": "1.2.0",
      "model_name": "LayoutModel",
      "state": {
       "border": "solid 4px #222",
       "margin": "4px",
       "padding": "0"
      }
     },
     "cbf9d2dc22f743b5b228039277adad13": {
      "model_module": "@jupyter-widgets/base",
      "model_module_version": "1.2.0",
      "model_name": "LayoutModel",
      "state": {}
     },
     "cc2c61c695f34fcea53dd1eec8599b7d": {
      "model_module": "@jupyter-widgets/base",
      "model_module_version": "1.2.0",
      "model_name": "LayoutModel",
      "state": {}
     },
     "cc410422ce1c48b98e43f088e69ea8a8": {
      "model_module": "@jupyter-widgets/controls",
      "model_module_version": "1.5.0",
      "model_name": "FloatSliderModel",
      "state": {
       "description": "Compression Threshold",
       "layout": "IPY_MODEL_4b22cdca43494e218fd71da8ee2422f2",
       "max": 1,
       "step": 0.01,
       "style": "IPY_MODEL_c88c5344c2ae401ea4bb6c6a24e39671",
       "value": 0.8
      }
     },
     "cc4f277d6a014a99825a4f859bb53c04": {
      "model_module": "@jupyter-widgets/controls",
      "model_module_version": "1.5.0",
      "model_name": "SliderStyleModel",
      "state": {
       "description_width": ""
      }
     },
     "cc55de4803904e25a71ce188d85c8cf6": {
      "model_module": "@jupyter-widgets/controls",
      "model_module_version": "1.5.0",
      "model_name": "FloatSliderModel",
      "state": {
       "description": "0°",
       "layout": "IPY_MODEL_6485b6bb1205461f88f3afc60bd48a5c",
       "max": 1,
       "min": -1,
       "step": 0.01,
       "style": "IPY_MODEL_7b7959c4e9a2448491a872224702f82a"
      }
     },
     "cca372a56c6e400f825955042ee55ce1": {
      "model_module": "@jupyter-widgets/base",
      "model_module_version": "1.2.0",
      "model_name": "LayoutModel",
      "state": {}
     },
     "ccebb00173fa41bb8c6e7b2c12e9a8c9": {
      "model_module": "@jupyter-widgets/controls",
      "model_module_version": "1.5.0",
      "model_name": "SliderStyleModel",
      "state": {
       "description_width": ""
      }
     },
     "cd54ff306e4244bf86a86b3dba282cca": {
      "model_module": "@jupyter-widgets/controls",
      "model_module_version": "1.5.0",
      "model_name": "SliderStyleModel",
      "state": {
       "description_width": ""
      }
     },
     "cd59b16cd65e44eaad89d126be168f85": {
      "model_module": "@jupyter-widgets/output",
      "model_module_version": "1.0.0",
      "model_name": "OutputModel",
      "state": {
       "layout": "IPY_MODEL_459387efcda5417a9d866d4a437bcbce",
       "outputs": [
        {
         "data": {
          "application/vnd.jupyter.widget-view+json": {
           "model_id": "01e99d9ce47f448199e606707faf851e",
           "version_major": 2,
           "version_minor": 0
          },
          "text/plain": "Canvas(toolbar=Toolbar(toolitems=[('Home', 'Reset original view', 'home', 'home'), ('Back', 'Back to previous …"
         },
         "metadata": {},
         "output_type": "display_data"
        }
       ]
      }
     },
     "cd5c48d46f1d407ca6f4e0786ab487db": {
      "model_module": "@jupyter-widgets/base",
      "model_module_version": "1.2.0",
      "model_name": "LayoutModel",
      "state": {}
     },
     "cd80bd84e02f42c697ca05f59ff1649e": {
      "model_module": "@jupyter-widgets/base",
      "model_module_version": "1.2.0",
      "model_name": "LayoutModel",
      "state": {}
     },
     "cd8bb05bc0b544dbb11a9ac2dfd1c7f2": {
      "model_module": "@jupyter-widgets/base",
      "model_module_version": "1.2.0",
      "model_name": "LayoutModel",
      "state": {}
     },
     "cd925450dc034f3bb902bed17e90093e": {
      "model_module": "@jupyter-widgets/controls",
      "model_module_version": "1.5.0",
      "model_name": "BoxModel",
      "state": {
       "children": [
        "IPY_MODEL_0b696618c1b644cfb40d3e9037863761",
        "IPY_MODEL_9751874566a340198736cf24d5c766a5"
       ],
       "layout": "IPY_MODEL_886b6b1c9bc94d4cab1018e6a3188b4c"
      }
     },
     "cdd83d6b3d014f938320f19c727d4580": {
      "model_module": "@jupyter-widgets/controls",
      "model_module_version": "1.5.0",
      "model_name": "SliderStyleModel",
      "state": {
       "description_width": ""
      }
     },
     "cdd869380eae4f37b0eb7023e3ca25a1": {
      "model_module": "@jupyter-widgets/controls",
      "model_module_version": "1.5.0",
      "model_name": "CheckboxModel",
      "state": {
       "description": "Show Out-of-Gamut",
       "disabled": false,
       "layout": "IPY_MODEL_2cd4e75a224f4fb2b460e873ae91bca2",
       "style": "IPY_MODEL_26bd6ece502e459eb6a96da59b7fb3a5",
       "value": false
      }
     },
     "ce15faa8740a441cb66af497275884f7": {
      "model_module": "@jupyter-widgets/controls",
      "model_module_version": "1.5.0",
      "model_name": "CheckboxModel",
      "state": {
       "description": "Disable Medicina",
       "disabled": false,
       "layout": "IPY_MODEL_a0b98ebd9af14f15b1af6f80ad4ea1da",
       "style": "IPY_MODEL_b8bc90db01234aafab1785f9bf1f463c",
       "value": false
      }
     },
     "ce7cf70fd8a344809fc01e3cd4ad01e4": {
      "model_module": "@jupyter-widgets/base",
      "model_module_version": "1.2.0",
      "model_name": "LayoutModel",
      "state": {}
     },
     "cecc0ae79cf649eaba5cf9516be64978": {
      "model_module": "@jupyter-widgets/output",
      "model_module_version": "1.0.0",
      "model_name": "OutputModel",
      "state": {
       "layout": "IPY_MODEL_07615a4168194228a596ee9cb33aa7e0",
       "outputs": [
        {
         "data": {
          "application/vnd.jupyter.widget-view+json": {
           "model_id": "478a8dd3d3d64c5b8ab65731510be842",
           "version_major": 2,
           "version_minor": 0
          },
          "text/plain": "Canvas(toolbar=Toolbar(toolitems=[('Home', 'Reset original view', 'home', 'home'), ('Back', 'Back to previous …"
         },
         "metadata": {},
         "output_type": "display_data"
        }
       ]
      }
     },
     "ceecbb9e8d084757acc339480ddcb0c1": {
      "model_module": "@jupyter-widgets/controls",
      "model_module_version": "1.5.0",
      "model_name": "FloatSliderModel",
      "state": {
       "description": "315°",
       "layout": "IPY_MODEL_ae26db09908c488e9c3f6342f3365e7c",
       "max": 1,
       "min": -1,
       "step": 0.01,
       "style": "IPY_MODEL_f31d79fa43fe4043b74e5e090d896907"
      }
     },
     "cf33dce0d62346daad2cf7cc203863be": {
      "model_module": "@jupyter-widgets/controls",
      "model_module_version": "1.5.0",
      "model_name": "FloatSliderModel",
      "state": {
       "description": "45°",
       "layout": "IPY_MODEL_d7074e1c1bd84c11be9c6a6a29798430",
       "max": 1,
       "min": -1,
       "step": 0.01,
       "style": "IPY_MODEL_779a0fa26c7a4717ac97e2cdc912edb8"
      }
     },
     "cf3747503a654683b8ab95a7105ddcf3": {
      "model_module": "@jupyter-widgets/controls",
      "model_module_version": "1.5.0",
      "model_name": "ButtonStyleModel",
      "state": {}
     },
     "cf93ccbad0b345088b65d0abb7f2a412": {
      "model_module": "@jupyter-widgets/base",
      "model_module_version": "1.2.0",
      "model_name": "LayoutModel",
      "state": {}
     },
     "cf93ff10fc264c0caf0ddada770e7ae8": {
      "model_module": "@jupyter-widgets/base",
      "model_module_version": "1.2.0",
      "model_name": "LayoutModel",
      "state": {}
     },
     "d009a805d1444f308154ab752bd21216": {
      "model_module": "@jupyter-widgets/controls",
      "model_module_version": "1.5.0",
      "model_name": "DescriptionStyleModel",
      "state": {
       "description_width": ""
      }
     },
     "d0103a8997b340ba98f65f10db24e782": {
      "model_module": "@jupyter-widgets/controls",
      "model_module_version": "1.5.0",
      "model_name": "ButtonModel",
      "state": {
       "description": "Reset Exposure",
       "layout": "IPY_MODEL_a2309daf6c9944e48fa8c2cd03523bf1",
       "style": "IPY_MODEL_dd9dc1dc8f53425d9d5172ee25faccb3"
      }
     },
     "d05a96699e9242899069798d4ae7fd88": {
      "model_module": "@jupyter-widgets/base",
      "model_module_version": "1.2.0",
      "model_name": "LayoutModel",
      "state": {}
     },
     "d05f88737b3140c3819bc60a72aaaacc": {
      "model_module": "@jupyter-widgets/controls",
      "model_module_version": "1.5.0",
      "model_name": "SliderStyleModel",
      "state": {
       "description_width": ""
      }
     },
     "d0702ee6e1824f43821d6979a14fd1e2": {
      "model_module": "@jupyter-widgets/base",
      "model_module_version": "1.2.0",
      "model_name": "LayoutModel",
      "state": {}
     },
     "d07ceae0849a420b91a7f0b0e1dde9e8": {
      "model_module": "@jupyter-widgets/controls",
      "model_module_version": "1.5.0",
      "model_name": "ButtonStyleModel",
      "state": {}
     },
     "d0aa24a8a9064f868708dbf77236f872": {
      "model_module": "@jupyter-widgets/controls",
      "model_module_version": "1.5.0",
      "model_name": "CheckboxModel",
      "state": {
       "description": "Show Out-of-Gamut",
       "disabled": false,
       "layout": "IPY_MODEL_14e338f1da6f4c0d885f55e3dd87cff0",
       "style": "IPY_MODEL_c2b7b5ebe10c466aad3b48bbfeb5ffda",
       "value": false
      }
     },
     "d0e54f23420449a899476bd19ba140ba": {
      "model_module": "@jupyter-widgets/controls",
      "model_module_version": "1.5.0",
      "model_name": "CheckboxModel",
      "state": {
       "description": "Disable Medicina",
       "disabled": false,
       "layout": "IPY_MODEL_b113f7feacbf432aa0736f848925618b",
       "style": "IPY_MODEL_f79429d7a69b4ae39fee6b4a99ea91f2",
       "value": false
      }
     },
     "d10ab5fc3d864e8a904cf6684148b671": {
      "model_module": "@jupyter-widgets/base",
      "model_module_version": "1.2.0",
      "model_name": "LayoutModel",
      "state": {}
     },
     "d10d78996d35413795e4c8cdc432d9f0": {
      "model_module": "@jupyter-widgets/controls",
      "model_module_version": "1.5.0",
      "model_name": "ButtonModel",
      "state": {
       "description": "Reset Exposure",
       "layout": "IPY_MODEL_40a9a58e3f9b49199d02576c358a6aad",
       "style": "IPY_MODEL_b9c049b71d8d4f15921993ec6db66bf0"
      }
     },
     "d1139eac29af4616b30cd1abdc6cdcff": {
      "model_module": "@jupyter-widgets/controls",
      "model_module_version": "1.5.0",
      "model_name": "FloatSliderModel",
      "state": {
       "description": "45°",
       "layout": "IPY_MODEL_6050c820e2e24b50978075b5964727ec",
       "max": 1,
       "min": -1,
       "step": 0.01,
       "style": "IPY_MODEL_d6fb08f3c21f4b10ac595183ab4add5d"
      }
     },
     "d13f4e4f9b244ebd97741d1a1b3fdcb5": {
      "model_module": "@jupyter-widgets/base",
      "model_module_version": "1.2.0",
      "model_name": "LayoutModel",
      "state": {}
     },
     "d154e143c5114c6aa1328aea7c2bb5c7": {
      "model_module": "@jupyter-widgets/base",
      "model_module_version": "1.2.0",
      "model_name": "LayoutModel",
      "state": {}
     },
     "d19cd76a3d3b4aaca1e50b24aa49a52a": {
      "model_module": "@jupyter-widgets/controls",
      "model_module_version": "1.5.0",
      "model_name": "FloatSliderModel",
      "state": {
       "description": "225°",
       "layout": "IPY_MODEL_a4183700068b47c7a6cc355db84a6b8d",
       "max": 1,
       "min": -1,
       "step": 0.01,
       "style": "IPY_MODEL_a52fba3fe8604d488d15e788d5f3f9a1"
      }
     },
     "d1aae990b16640ac909bf13b69b2c7f2": {
      "model_module": "@jupyter-widgets/base",
      "model_module_version": "1.2.0",
      "model_name": "LayoutModel",
      "state": {}
     },
     "d1ddf1bc4c4e416080b40dc260c5e5c4": {
      "model_module": "@jupyter-widgets/base",
      "model_module_version": "1.2.0",
      "model_name": "LayoutModel",
      "state": {}
     },
     "d1f324c27118457f8e43da2949976d4a": {
      "model_module": "@jupyter-widgets/base",
      "model_module_version": "1.2.0",
      "model_name": "LayoutModel",
      "state": {}
     },
     "d20a91db99894b9bbb520c1d79486acd": {
      "model_module": "@jupyter-widgets/base",
      "model_module_version": "1.2.0",
      "model_name": "LayoutModel",
      "state": {}
     },
     "d2875c44001c47d0b687b503ad2c9b07": {
      "model_module": "@jupyter-widgets/base",
      "model_module_version": "1.2.0",
      "model_name": "LayoutModel",
      "state": {}
     },
     "d2995fc46d0c4fa7898bd376a314fbc8": {
      "model_module": "@jupyter-widgets/controls",
      "model_module_version": "1.5.0",
      "model_name": "DropdownModel",
      "state": {
       "_options_labels": [
        "tanh",
        "atan",
        "simple"
       ],
       "description": "Compression Function:",
       "index": 0,
       "layout": "IPY_MODEL_ac50475de84143eab1e79430c4762442",
       "style": "IPY_MODEL_63a44738df574114ad1c004a61972bf0"
      }
     },
     "d29abe37c9d146729d64327e01879ac6": {
      "model_module": "@jupyter-widgets/controls",
      "model_module_version": "1.5.0",
      "model_name": "ButtonStyleModel",
      "state": {}
     },
     "d2a7c3bebcd5428c89a793fdcf86b30b": {
      "model_module": "jupyter-matplotlib",
      "model_module_version": "^0.7.2",
      "model_name": "MPLCanvasModel",
      "state": {
       "_figure_label": "Figure 7",
       "_height": 508,
       "_width": 1100,
       "header_visible": false,
       "layout": "IPY_MODEL_9ddccd141c05458d8f3f7470c04c10f3",
       "resizable": false,
       "toolbar": "IPY_MODEL_fbd4fa4c5c1f41a8a7dc38e0bec0f2fb",
       "toolbar_position": "left",
       "toolbar_visible": false
      }
     },
     "d2b45071befa4ff093b9f989fe5bf5f2": {
      "model_module": "@jupyter-widgets/base",
      "model_module_version": "1.2.0",
      "model_name": "LayoutModel",
      "state": {}
     },
     "d2fec084b26844bc8246920419047168": {
      "model_module": "@jupyter-widgets/base",
      "model_module_version": "1.2.0",
      "model_name": "LayoutModel",
      "state": {}
     },
     "d3466dc3a5ba4744a1a9f48f8458d12a": {
      "model_module": "@jupyter-widgets/controls",
      "model_module_version": "1.5.0",
      "model_name": "FloatSliderModel",
      "state": {
       "description": "45°",
       "layout": "IPY_MODEL_4cea95da30dd4f3a8b2e21817cadf340",
       "max": 1,
       "min": -1,
       "step": 0.01,
       "style": "IPY_MODEL_3f288affa4a747708308dec00abf79f3"
      }
     },
     "d35d566107c94c77ae53ed0aee69f63e": {
      "model_module": "@jupyter-widgets/controls",
      "model_module_version": "1.5.0",
      "model_name": "ButtonStyleModel",
      "state": {}
     },
     "d360e52631404e31b330654bb1954fc9": {
      "model_module": "@jupyter-widgets/base",
      "model_module_version": "1.2.0",
      "model_name": "LayoutModel",
      "state": {}
     },
     "d366ba674d9d449cbf56cc60da0b82a0": {
      "model_module": "@jupyter-widgets/controls",
      "model_module_version": "1.5.0",
      "model_name": "DescriptionStyleModel",
      "state": {
       "description_width": ""
      }
     },
     "d375582ee38d4214b4886dd6ce344162": {
      "model_module": "@jupyter-widgets/controls",
      "model_module_version": "1.5.0",
      "model_name": "ButtonStyleModel",
      "state": {}
     },
     "d40142b4ecd74d5a986752c0041fcff0": {
      "model_module": "@jupyter-widgets/controls",
      "model_module_version": "1.5.0",
      "model_name": "HBoxModel",
      "state": {
       "children": [
        "IPY_MODEL_4d8be69c1fe7445bb4f1068d67134a55",
        "IPY_MODEL_f00ca642d9d04453a327b4400d3c5595",
        "IPY_MODEL_66c8e7937c9a46538848002d42265b82"
       ],
       "layout": "IPY_MODEL_41a84825c4f64e1d9f06d0a7bc30b422"
      }
     },
     "d404f417fae445709ed1db7db4af394e": {
      "model_module": "@jupyter-widgets/controls",
      "model_module_version": "1.5.0",
      "model_name": "SliderStyleModel",
      "state": {
       "description_width": ""
      }
     },
     "d42c9b971b81400880af13bc15eaecf2": {
      "model_module": "@jupyter-widgets/controls",
      "model_module_version": "1.5.0",
      "model_name": "HBoxModel",
      "state": {
       "children": [
        "IPY_MODEL_3bc48127f4354b6d9fbc417d5b0912db",
        "IPY_MODEL_64c7868c17c5454dad0e83341f17186b",
        "IPY_MODEL_cb596a5ed7a247008d8978755efdef20"
       ],
       "layout": "IPY_MODEL_52564d1875ab40bf841e4c4655b2bb9b"
      }
     },
     "d470bb25478249a089737b48549c57b2": {
      "model_module": "@jupyter-widgets/controls",
      "model_module_version": "1.5.0",
      "model_name": "SliderStyleModel",
      "state": {
       "description_width": ""
      }
     },
     "d4b5fcb187ec4a04b60f96b818529641": {
      "model_module": "@jupyter-widgets/base",
      "model_module_version": "1.2.0",
      "model_name": "LayoutModel",
      "state": {}
     },
     "d4db5729978346ada8792fc36b1e0b37": {
      "model_module": "@jupyter-widgets/base",
      "model_module_version": "1.2.0",
      "model_name": "LayoutModel",
      "state": {}
     },
     "d4e1d909373f4a88b79fafe3430eb88a": {
      "model_module": "@jupyter-widgets/base",
      "model_module_version": "1.2.0",
      "model_name": "LayoutModel",
      "state": {}
     },
     "d4fa975c0e9140b4b578238b505c0bc3": {
      "model_module": "jupyter-matplotlib",
      "model_module_version": "^0.7.2",
      "model_name": "MPLCanvasModel",
      "state": {
       "_figure_label": "Figure 21",
       "_height": 550,
       "_width": 1100,
       "header_visible": false,
       "layout": "IPY_MODEL_c9fa2929ba9d4681a1d0fad7e1b18a89",
       "resizable": false,
       "toolbar": "IPY_MODEL_34a291cfeea74ea58964c2534a96b96e",
       "toolbar_position": "left",
       "toolbar_visible": false
      }
     },
     "d5233db066e341c0b61da282fcea3b5a": {
      "model_module": "@jupyter-widgets/controls",
      "model_module_version": "1.5.0",
      "model_name": "FloatSliderModel",
      "state": {
       "description": "Exposure",
       "layout": "IPY_MODEL_8b01d542907743ca95bf9ababf4b94d8",
       "max": 8,
       "min": -8,
       "step": 0.1,
       "style": "IPY_MODEL_655cb3b352224cd9a285b6061974f57f"
      }
     },
     "d5558421235a4677a662f57b500cfc7c": {
      "model_module": "@jupyter-widgets/controls",
      "model_module_version": "1.5.0",
      "model_name": "ButtonModel",
      "state": {
       "description": "Export Image",
       "layout": "IPY_MODEL_1b01c6688cb24966b696fada95616b3a",
       "style": "IPY_MODEL_63acf57caa764e6db608a6b3c6aa2c97"
      }
     },
     "d56896ff2ce84df098051de909709959": {
      "model_module": "@jupyter-widgets/controls",
      "model_module_version": "1.5.0",
      "model_name": "FloatSliderModel",
      "state": {
       "description": "0°",
       "layout": "IPY_MODEL_6ff7cdb309274989b729847ae3387468",
       "max": 1,
       "min": -1,
       "step": 0.01,
       "style": "IPY_MODEL_d80facc2d52d4e91889a2488abbce423"
      }
     },
     "d58714a226ab4ffca3222ddc569e7f2a": {
      "model_module": "@jupyter-widgets/base",
      "model_module_version": "1.2.0",
      "model_name": "LayoutModel",
      "state": {}
     },
     "d5da0e98dd6d4095b9099c50749a7936": {
      "model_module": "@jupyter-widgets/base",
      "model_module_version": "1.2.0",
      "model_name": "LayoutModel",
      "state": {}
     },
     "d6230f4537d74bc084f957c9968790b1": {
      "model_module": "@jupyter-widgets/base",
      "model_module_version": "1.2.0",
      "model_name": "LayoutModel",
      "state": {
       "border": "solid 4px #222",
       "margin": "4px",
       "padding": "0"
      }
     },
     "d627c93124ca4b17905422d45cc45482": {
      "model_module": "@jupyter-widgets/base",
      "model_module_version": "1.2.0",
      "model_name": "LayoutModel",
      "state": {}
     },
     "d6393686bc0944d1a1471265c8114ec1": {
      "model_module": "@jupyter-widgets/base",
      "model_module_version": "1.2.0",
      "model_name": "LayoutModel",
      "state": {}
     },
     "d67f6b412ced407cb5d90073bffad1b0": {
      "model_module": "@jupyter-widgets/controls",
      "model_module_version": "1.5.0",
      "model_name": "FloatSliderModel",
      "state": {
       "description": "135°",
       "layout": "IPY_MODEL_563cabb2cf8c40fe972458e2ad32577c",
       "max": 1,
       "min": -1,
       "step": 0.01,
       "style": "IPY_MODEL_f5da5b56e44a48eeaa4e6bac7e8b11cc"
      }
     },
     "d6801faea8ae4031b7619b780c58569f": {
      "model_module": "@jupyter-widgets/base",
      "model_module_version": "1.2.0",
      "model_name": "LayoutModel",
      "state": {}
     },
     "d6932bb511cf4d49b3d41da36296892a": {
      "model_module": "@jupyter-widgets/base",
      "model_module_version": "1.2.0",
      "model_name": "LayoutModel",
      "state": {}
     },
     "d699c0de853745c9b30c395824b516cb": {
      "model_module": "@jupyter-widgets/controls",
      "model_module_version": "1.5.0",
      "model_name": "VBoxModel",
      "state": {
       "children": [
        "IPY_MODEL_b31f07c70fc346c39e9790fcd6a3009a"
       ],
       "layout": "IPY_MODEL_5750eae024064d709b93d46c9fe89cf0"
      }
     },
     "d6a7b85ff21443f1aee00b080a17901d": {
      "model_module": "@jupyter-widgets/controls",
      "model_module_version": "1.5.0",
      "model_name": "CheckboxModel",
      "state": {
       "description": "Disable Medicina",
       "disabled": false,
       "layout": "IPY_MODEL_ec2e5385e26a4d4485c20c5dfed22fd5",
       "style": "IPY_MODEL_a088c2fa6e874e0aadb6fadedecc81ca",
       "value": false
      }
     },
     "d6fb08f3c21f4b10ac595183ab4add5d": {
      "model_module": "@jupyter-widgets/controls",
      "model_module_version": "1.5.0",
      "model_name": "SliderStyleModel",
      "state": {
       "description_width": ""
      }
     },
     "d7074e1c1bd84c11be9c6a6a29798430": {
      "model_module": "@jupyter-widgets/base",
      "model_module_version": "1.2.0",
      "model_name": "LayoutModel",
      "state": {}
     },
     "d73759f854b2478ab5dd18fc1690991a": {
      "model_module": "@jupyter-widgets/base",
      "model_module_version": "1.2.0",
      "model_name": "LayoutModel",
      "state": {}
     },
     "d7436d4f06fc4e20af31d472db59a8cc": {
      "model_module": "@jupyter-widgets/controls",
      "model_module_version": "1.5.0",
      "model_name": "FloatSliderModel",
      "state": {
       "description": "Compression Threshold",
       "layout": "IPY_MODEL_221c4290b67846e0b6ead3b8d80c2e60",
       "max": 1,
       "step": 0.01,
       "style": "IPY_MODEL_1a05ee6abcdc4350a59f092a470a745e",
       "value": 0.8
      }
     },
     "d7c74f325a5841d5bd8e0341e2cd2051": {
      "model_module": "@jupyter-widgets/controls",
      "model_module_version": "1.5.0",
      "model_name": "DescriptionStyleModel",
      "state": {
       "description_width": ""
      }
     },
     "d7fb8db95ff948b0bdafe9c4ffa44918": {
      "model_module": "@jupyter-widgets/base",
      "model_module_version": "1.2.0",
      "model_name": "LayoutModel",
      "state": {}
     },
     "d8013b2a4919475fa01040d5dc669304": {
      "model_module": "@jupyter-widgets/base",
      "model_module_version": "1.2.0",
      "model_name": "LayoutModel",
      "state": {}
     },
     "d80facc2d52d4e91889a2488abbce423": {
      "model_module": "@jupyter-widgets/controls",
      "model_module_version": "1.5.0",
      "model_name": "SliderStyleModel",
      "state": {
       "description_width": ""
      }
     },
     "d83e710f7ecc4612a78fa1e7c5dd4589": {
      "model_module": "@jupyter-widgets/base",
      "model_module_version": "1.2.0",
      "model_name": "LayoutModel",
      "state": {
       "border": "solid 4px #222",
       "margin": "4px",
       "padding": "0"
      }
     },
     "d86dc44e5e8247ce939914bfb3ef03d0": {
      "model_module": "@jupyter-widgets/base",
      "model_module_version": "1.2.0",
      "model_name": "LayoutModel",
      "state": {}
     },
     "d8766c9ed1754897a7ce13134ea2fade": {
      "model_module": "@jupyter-widgets/controls",
      "model_module_version": "1.5.0",
      "model_name": "SliderStyleModel",
      "state": {
       "description_width": ""
      }
     },
     "d89d5261b1ef4b30ab8f0b6687fe131f": {
      "model_module": "@jupyter-widgets/controls",
      "model_module_version": "1.5.0",
      "model_name": "VBoxModel",
      "state": {
       "children": [
        "IPY_MODEL_1ce4563fcc284b779a16eb770b49ce87"
       ],
       "layout": "IPY_MODEL_d10ab5fc3d864e8a904cf6684148b671"
      }
     },
     "d8aadb341ecb46279f1877e7658c1700": {
      "model_module": "@jupyter-widgets/controls",
      "model_module_version": "1.5.0",
      "model_name": "FloatSliderModel",
      "state": {
       "description": "270°",
       "layout": "IPY_MODEL_186946cc34ad4fd3bcf751eea33217d7",
       "max": 1,
       "min": -1,
       "step": 0.01,
       "style": "IPY_MODEL_0328527b9ae34d0c83874d001373c3cb"
      }
     },
     "d8b4d930f2244c4085202dadc6876cc8": {
      "model_module": "@jupyter-widgets/controls",
      "model_module_version": "1.5.0",
      "model_name": "CheckboxModel",
      "state": {
       "description": "Disable Medicina",
       "disabled": false,
       "layout": "IPY_MODEL_1b88ff9ce19340f88bcf206160c8acb6",
       "style": "IPY_MODEL_79db8fb4ba7844459966d98047965107",
       "value": false
      }
     },
     "d8bd5fe6d9dd478daa5035b635987fbb": {
      "model_module": "@jupyter-widgets/controls",
      "model_module_version": "1.5.0",
      "model_name": "FloatSliderModel",
      "state": {
       "description": "Compression Threshold",
       "layout": "IPY_MODEL_4acd70b47e7c498a9fc725b2c9424dff",
       "max": 1,
       "step": 0.01,
       "style": "IPY_MODEL_604667c9463042668a5a449ef0a689d9",
       "value": 0.5
      }
     },
     "d8fd2571badc416a80b195959124fbe8": {
      "model_module": "@jupyter-widgets/base",
      "model_module_version": "1.2.0",
      "model_name": "LayoutModel",
      "state": {}
     },
     "d9271d151ef1404e9640bce3e21e1a2d": {
      "model_module": "@jupyter-widgets/base",
      "model_module_version": "1.2.0",
      "model_name": "LayoutModel",
      "state": {}
     },
     "d94c7020552d492cb8e5ac7959b1cfbc": {
      "model_module": "@jupyter-widgets/controls",
      "model_module_version": "1.5.0",
      "model_name": "SliderStyleModel",
      "state": {
       "description_width": ""
      }
     },
     "d9522e82800e4e01955ee649c10ca209": {
      "model_module": "@jupyter-widgets/base",
      "model_module_version": "1.2.0",
      "model_name": "LayoutModel",
      "state": {}
     },
     "d9638b97cee647bdba1320f8e7bdc434": {
      "model_module": "@jupyter-widgets/controls",
      "model_module_version": "1.5.0",
      "model_name": "HBoxModel",
      "state": {
       "children": [
        "IPY_MODEL_93f2477c622545469180f59ee5feee28",
        "IPY_MODEL_13313d47fbb54ec999ed1b47a2dec3d8",
        "IPY_MODEL_459e03ddae4d447b833bcdce14d3195e"
       ],
       "layout": "IPY_MODEL_72ed36e5d51e4d5db4ba32dd4e57ce28"
      }
     },
     "d96bb8e88ef14bd99fea87a0d1150e63": {
      "model_module": "@jupyter-widgets/controls",
      "model_module_version": "1.5.0",
      "model_name": "ButtonStyleModel",
      "state": {}
     },
     "d97510adaff54004bec0e3e58d970862": {
      "model_module": "@jupyter-widgets/controls",
      "model_module_version": "1.5.0",
      "model_name": "ButtonModel",
      "state": {
       "description": "Reset Protected Area",
       "layout": "IPY_MODEL_df5d2c3d270841ff82761a9aa7a83d63",
       "style": "IPY_MODEL_29ffe1baed59492b985081a268959357"
      }
     },
     "d998883fcef84673ace76f2c4cc07439": {
      "model_module": "jupyter-matplotlib",
      "model_module_version": "^0.7.2",
      "model_name": "MPLCanvasModel",
      "state": {
       "_figure_label": "Figure 16",
       "_height": 430,
       "_width": 1099,
       "header_visible": false,
       "layout": "IPY_MODEL_938ce6001333431c98ea398f9a4807f3",
       "resizable": false,
       "toolbar": "IPY_MODEL_f066b5e5638f41d78bbcc220d4c08a33",
       "toolbar_position": "left",
       "toolbar_visible": false
      }
     },
     "d9be7a2abfb04dbbaf8cf41dcb10bd76": {
      "model_module": "@jupyter-widgets/base",
      "model_module_version": "1.2.0",
      "model_name": "LayoutModel",
      "state": {}
     },
     "d9ea4c3df8154671a525fa498cabb7a1": {
      "model_module": "@jupyter-widgets/base",
      "model_module_version": "1.2.0",
      "model_name": "LayoutModel",
      "state": {}
     },
     "d9f13f3c3f4d4279ba25cc52d7fb9971": {
      "model_module": "@jupyter-widgets/controls",
      "model_module_version": "1.5.0",
      "model_name": "HBoxModel",
      "state": {
       "children": [
        "IPY_MODEL_6543a55a90f340f2bf3566030cc8c46e",
        "IPY_MODEL_df8ff15898df475c89d52081e5e49011",
        "IPY_MODEL_d7436d4f06fc4e20af31d472db59a8cc"
       ],
       "layout": "IPY_MODEL_d4e1d909373f4a88b79fafe3430eb88a"
      }
     },
     "da396cf0bc544b8c97140d35ac9090e5": {
      "model_module": "@jupyter-widgets/base",
      "model_module_version": "1.2.0",
      "model_name": "LayoutModel",
      "state": {}
     },
     "da65471a02194cb8aee0a4834e2c475b": {
      "model_module": "@jupyter-widgets/controls",
      "model_module_version": "1.5.0",
      "model_name": "SliderStyleModel",
      "state": {
       "description_width": ""
      }
     },
     "dab0e2ddb1464626b83c5f68d332d5ec": {
      "model_module": "@jupyter-widgets/controls",
      "model_module_version": "1.5.0",
      "model_name": "SliderStyleModel",
      "state": {
       "description_width": ""
      }
     },
     "dad8d2a2ff55488e9da922e1076a1217": {
      "model_module": "@jupyter-widgets/base",
      "model_module_version": "1.2.0",
      "model_name": "LayoutModel",
      "state": {}
     },
     "db05bd53bd40400e8505e93131286a9f": {
      "model_module": "@jupyter-widgets/base",
      "model_module_version": "1.2.0",
      "model_name": "LayoutModel",
      "state": {}
     },
     "db1056d9427a4784b1d7d11509eeae1e": {
      "model_module": "@jupyter-widgets/controls",
      "model_module_version": "1.5.0",
      "model_name": "VBoxModel",
      "state": {
       "children": [
        "IPY_MODEL_d56896ff2ce84df098051de909709959",
        "IPY_MODEL_190ec019783d4e5cb2dd7ab8bec386e0",
        "IPY_MODEL_a82b022c622f4d80ba9326f2d7b0a427"
       ],
       "layout": "IPY_MODEL_e8d17f6fcb874c2fa814d205eb7aa3e0"
      }
     },
     "db4fc0b30cfb4ac9a513624c89a7553f": {
      "model_module": "@jupyter-widgets/controls",
      "model_module_version": "1.5.0",
      "model_name": "VBoxModel",
      "state": {
       "children": [
        "IPY_MODEL_48d7d6830fc244b8b9409383caa1bae6",
        "IPY_MODEL_c697469c96d6495f95f50e0ff7cda6e6"
       ],
       "layout": "IPY_MODEL_cd8bb05bc0b544dbb11a9ac2dfd1c7f2"
      }
     },
     "db7ecf67d3f140e0b9b1f5d368d149cd": {
      "model_module": "@jupyter-widgets/base",
      "model_module_version": "1.2.0",
      "model_name": "LayoutModel",
      "state": {}
     },
     "db7ed755793648bbb139ccf217968239": {
      "model_module": "@jupyter-widgets/base",
      "model_module_version": "1.2.0",
      "model_name": "LayoutModel",
      "state": {}
     },
     "dba0da28652949acbe000fc724825c84": {
      "model_module": "@jupyter-widgets/base",
      "model_module_version": "1.2.0",
      "model_name": "LayoutModel",
      "state": {}
     },
     "dbbd1f41a02f4490ae7faff0ea4b2168": {
      "model_module": "@jupyter-widgets/controls",
      "model_module_version": "1.5.0",
      "model_name": "ButtonModel",
      "state": {
       "description": "Save Figure",
       "layout": "IPY_MODEL_7ca192aeb4504800a3f34aa2c96b218f",
       "style": "IPY_MODEL_d07ceae0849a420b91a7f0b0e1dde9e8"
      }
     },
     "dbc15ee781e441cf9092580ab695aa27": {
      "model_module": "@jupyter-widgets/base",
      "model_module_version": "1.2.0",
      "model_name": "LayoutModel",
      "state": {}
     },
     "dbfe32cbb59e4e23b8e0ccbdc881d57a": {
      "model_module": "@jupyter-widgets/base",
      "model_module_version": "1.2.0",
      "model_name": "LayoutModel",
      "state": {}
     },
     "dc2fa39adb1f43478f874680e38afbdb": {
      "model_module": "@jupyter-widgets/controls",
      "model_module_version": "1.5.0",
      "model_name": "ButtonModel",
      "state": {
       "description": "Save Figure",
       "layout": "IPY_MODEL_b34508340e454d18a2253007f7340de1",
       "style": "IPY_MODEL_082a5db9fe904a77a2889d122eb2d27f"
      }
     },
     "dc6c30f962ec4994b421d9215dfa1082": {
      "model_module": "@jupyter-widgets/base",
      "model_module_version": "1.2.0",
      "model_name": "LayoutModel",
      "state": {}
     },
     "dc8c73a818fe4a5f8e48aa05db40f32b": {
      "model_module": "jupyter-matplotlib",
      "model_module_version": "^0.7.2",
      "model_name": "MPLCanvasModel",
      "state": {
       "_figure_label": "Figure 15",
       "_height": 440,
       "_width": 1100,
       "header_visible": false,
       "layout": "IPY_MODEL_64129d5742b342bbbbaabd1fc0099213",
       "resizable": false,
       "toolbar": "IPY_MODEL_760f8d960c1848f388e3b2782a17da08",
       "toolbar_position": "left",
       "toolbar_visible": false
      }
     },
     "dccb6b4f222b4cd08eb5bc8dd8ca7bfa": {
      "model_module": "@jupyter-widgets/controls",
      "model_module_version": "1.5.0",
      "model_name": "HBoxModel",
      "state": {
       "children": [
        "IPY_MODEL_2e5f8bb25b4a40d48e8a0d155a051bef",
        "IPY_MODEL_56c9885f332e4c299aa2c59b6195b673",
        "IPY_MODEL_48395b13b57c45fdaefe2c4bd4263d9f"
       ],
       "layout": "IPY_MODEL_6ac4ddea74c548b9b52ae4e4d0959cd1"
      }
     },
     "dcf43d388c674ee3a617e52b01b37ed6": {
      "model_module": "@jupyter-widgets/controls",
      "model_module_version": "1.5.0",
      "model_name": "DropdownModel",
      "state": {
       "_options_labels": [
        "tanh",
        "atan",
        "simple"
       ],
       "description": "Compression Function:",
       "index": 0,
       "layout": "IPY_MODEL_44d9d4e46b9841579b6dd4f5ce1a1d1d",
       "style": "IPY_MODEL_a4177db1231f42909434ab1be7f2180e"
      }
     },
     "dd1048213c2f4c40856eeb07ed7ccfbb": {
      "model_module": "@jupyter-widgets/controls",
      "model_module_version": "1.5.0",
      "model_name": "BoxModel",
      "state": {
       "children": [
        "IPY_MODEL_9a27607fac164796a5ae4ec0e90445ea",
        "IPY_MODEL_8357a971fe044b768178ec0dc34f9be4"
       ],
       "layout": "IPY_MODEL_96a5c98194d9468097ec962857daa544"
      }
     },
     "dd11f7e0dc9d45898f9a6b894ca304dc": {
      "model_module": "@jupyter-widgets/controls",
      "model_module_version": "1.5.0",
      "model_name": "ButtonModel",
      "state": {
       "description": "Reset Protected Area",
       "layout": "IPY_MODEL_673b132805dc430089d10b20382a553c",
       "style": "IPY_MODEL_e53d166d0e1d4b978b6f0d9c413c881f"
      }
     },
     "dd20a2006ce24d4d94955284256a92e4": {
      "model_module": "@jupyter-widgets/base",
      "model_module_version": "1.2.0",
      "model_name": "LayoutModel",
      "state": {}
     },
     "dd459fb201114abe8a06b7abc3b31070": {
      "model_module": "@jupyter-widgets/controls",
      "model_module_version": "1.5.0",
      "model_name": "DescriptionStyleModel",
      "state": {
       "description_width": ""
      }
     },
     "dd6dafa3d66f47489bdac2857caad52d": {
      "model_module": "@jupyter-widgets/controls",
      "model_module_version": "1.5.0",
      "model_name": "SliderStyleModel",
      "state": {
       "description_width": ""
      }
     },
     "dd9dc1dc8f53425d9d5172ee25faccb3": {
      "model_module": "@jupyter-widgets/controls",
      "model_module_version": "1.5.0",
      "model_name": "ButtonStyleModel",
      "state": {}
     },
     "dddc2d6d68044a0cb106294b65bdcdb8": {
      "model_module": "@jupyter-widgets/base",
      "model_module_version": "1.2.0",
      "model_name": "LayoutModel",
      "state": {}
     },
     "ddf08c17af684b4a9b965dd56d599cef": {
      "model_module": "@jupyter-widgets/controls",
      "model_module_version": "1.5.0",
      "model_name": "ButtonStyleModel",
      "state": {}
     },
     "de0cb4c72c27462382f36df919b6c8d1": {
      "model_module": "@jupyter-widgets/controls",
      "model_module_version": "1.5.0",
      "model_name": "DescriptionStyleModel",
      "state": {
       "description_width": ""
      }
     },
     "de632b85eb25483d8364b8ec36364828": {
      "model_module": "@jupyter-widgets/controls",
      "model_module_version": "1.5.0",
      "model_name": "DropdownModel",
      "state": {
       "_options_labels": [
        "tanh",
        "atan",
        "simple"
       ],
       "description": "Compression Function:",
       "index": 0,
       "layout": "IPY_MODEL_39c088ffb79243c39f139a6c7893eaf6",
       "style": "IPY_MODEL_8145e48b4454406c9ddb5d41420e9d66"
      }
     },
     "de6501244954411585951f147f6a0dea": {
      "model_module": "@jupyter-widgets/controls",
      "model_module_version": "1.5.0",
      "model_name": "VBoxModel",
      "state": {
       "children": [
        "IPY_MODEL_b0cff5e506a5431c8a933004d9720ee7",
        "IPY_MODEL_54d28a95d2b84857bc48ae7cab4fecce",
        "IPY_MODEL_d19cd76a3d3b4aaca1e50b24aa49a52a"
       ],
       "layout": "IPY_MODEL_67467f6937ff4b408f19881add89b5f3"
      }
     },
     "de66f4d985274c30854a11a49ff47bca": {
      "model_module": "@jupyter-widgets/base",
      "model_module_version": "1.2.0",
      "model_name": "LayoutModel",
      "state": {}
     },
     "de78575cab39424a968d1a4bac19e3d6": {
      "model_module": "@jupyter-widgets/controls",
      "model_module_version": "1.5.0",
      "model_name": "DescriptionStyleModel",
      "state": {
       "description_width": ""
      }
     },
     "de7d402f39544ca394b1676a06b5edee": {
      "model_module": "@jupyter-widgets/controls",
      "model_module_version": "1.5.0",
      "model_name": "FloatSliderModel",
      "state": {
       "description": "Compression Threshold",
       "layout": "IPY_MODEL_56db4cf84aa6469fb950c58c8ef87c77",
       "max": 1,
       "step": 0.01,
       "style": "IPY_MODEL_7167f911e1d24b309cc5b53168a23890",
       "value": 0.8
      }
     },
     "de995c24bc0547118236af9e175bb70a": {
      "model_module": "@jupyter-widgets/controls",
      "model_module_version": "1.5.0",
      "model_name": "FloatSliderModel",
      "state": {
       "description": "90°",
       "layout": "IPY_MODEL_833a92653ddd49c388b3700e2fc5d1b3",
       "max": 1,
       "min": -1,
       "step": 0.01,
       "style": "IPY_MODEL_30d853128118488ab2275a0d93abfead"
      }
     },
     "df06e3a9ee7940ec8e5ca87cbf551ea6": {
      "model_module": "@jupyter-widgets/controls",
      "model_module_version": "1.5.0",
      "model_name": "ButtonStyleModel",
      "state": {}
     },
     "df0f3acddd7a4739a0f751e5894cc48b": {
      "model_module": "@jupyter-widgets/controls",
      "model_module_version": "1.5.0",
      "model_name": "TabModel",
      "state": {
       "_titles": {
        "0": "Global Controls",
        "1": "Viewer Controls",
        "2": "Compression Controls"
       },
       "children": [
        "IPY_MODEL_7c50aac6a5e44af2862e0a6250583d79",
        "IPY_MODEL_6da475428abd4e8dad00c378902f932e",
        "IPY_MODEL_9bf5f098c73a44ec9197d9a1c470c497"
       ],
       "layout": "IPY_MODEL_92950e05664b465f87064350cdcb5dd5"
      }
     },
     "df18138a1a874f389bb365bb70f05df3": {
      "model_module": "@jupyter-widgets/controls",
      "model_module_version": "1.5.0",
      "model_name": "ButtonStyleModel",
      "state": {}
     },
     "df311f45b1d44f61a29beeed29f4b11e": {
      "model_module": "@jupyter-widgets/controls",
      "model_module_version": "1.5.0",
      "model_name": "HBoxModel",
      "state": {
       "children": [
        "IPY_MODEL_77a3790d4cef417e97f2b637285282ab",
        "IPY_MODEL_bdf44f2602ab4763828c871876a39968"
       ],
       "layout": "IPY_MODEL_62976d65c6484c6aaa08b944e5d76953"
      }
     },
     "df5d2c3d270841ff82761a9aa7a83d63": {
      "model_module": "@jupyter-widgets/base",
      "model_module_version": "1.2.0",
      "model_name": "LayoutModel",
      "state": {}
     },
     "df6b1022549a4fff85b66c0ce6b59d6d": {
      "model_module": "@jupyter-widgets/controls",
      "model_module_version": "1.5.0",
      "model_name": "DropdownModel",
      "state": {
       "_options_labels": [
        "tanh",
        "atan",
        "simple"
       ],
       "description": "Compression Function:",
       "index": 0,
       "layout": "IPY_MODEL_868f2f20281644efabf712b39f3475dc",
       "style": "IPY_MODEL_d7c74f325a5841d5bd8e0341e2cd2051"
      }
     },
     "df8ff15898df475c89d52081e5e49011": {
      "model_module": "@jupyter-widgets/controls",
      "model_module_version": "1.5.0",
      "model_name": "DropdownModel",
      "state": {
       "_options_labels": [
        "tanh",
        "atan",
        "simple"
       ],
       "description": "Compression Function:",
       "index": 0,
       "layout": "IPY_MODEL_ef6fce4d4ceb4111a0931d95d49669ef",
       "style": "IPY_MODEL_00d850e2c2e048ff9a452f3dd0305d68"
      }
     },
     "dfaf08639ee142c0bee10949197911a3": {
      "model_module": "@jupyter-widgets/controls",
      "model_module_version": "1.5.0",
      "model_name": "CheckboxModel",
      "state": {
       "description": "Disable Medicina",
       "disabled": false,
       "layout": "IPY_MODEL_8eaaade0bc9e469fab9d83499cf21d9a",
       "style": "IPY_MODEL_998f3b566adc4249a11eda46952fb06d",
       "value": false
      }
     },
     "dffa64c345914baabaefc78a542b15b5": {
      "model_module": "@jupyter-widgets/base",
      "model_module_version": "1.2.0",
      "model_name": "LayoutModel",
      "state": {}
     },
     "e04b5191f91348d780a89a4712122201": {
      "model_module": "@jupyter-widgets/base",
      "model_module_version": "1.2.0",
      "model_name": "LayoutModel",
      "state": {}
     },
     "e06a2b45fde947e8a761a5988f39826d": {
      "model_module": "@jupyter-widgets/controls",
      "model_module_version": "1.5.0",
      "model_name": "HBoxModel",
      "state": {
       "children": [
        "IPY_MODEL_33d0c3e7b2814952b7c1b0a6d0e70b80",
        "IPY_MODEL_81d621c1517a4bd3aaa071985b422028"
       ],
       "layout": "IPY_MODEL_f058bde5919c4211ae47c2eb297929b8"
      }
     },
     "e07f5772244f45b99a1a942d300e1536": {
      "model_module": "@jupyter-widgets/controls",
      "model_module_version": "1.5.0",
      "model_name": "VBoxModel",
      "state": {
       "children": [
        "IPY_MODEL_444287fb5d6c4bff96d47509d9cf8895"
       ],
       "layout": "IPY_MODEL_9c5a6a3626984888ac86232685b3ef62"
      }
     },
     "e095e1799c794a9683a4819cca93daa9": {
      "model_module": "@jupyter-widgets/controls",
      "model_module_version": "1.5.0",
      "model_name": "FloatSliderModel",
      "state": {
       "description": "180°",
       "layout": "IPY_MODEL_c8a2560757ac464ca5e52d2aebbf6646",
       "max": 1,
       "min": -1,
       "step": 0.01,
       "style": "IPY_MODEL_014b9a34e47e4af38ba95f08267ab033"
      }
     },
     "e0d20b2961d643dcb1593e6873a2c6e9": {
      "model_module": "@jupyter-widgets/base",
      "model_module_version": "1.2.0",
      "model_name": "LayoutModel",
      "state": {}
     },
     "e0d2196b7c274aadb91344d99d90e074": {
      "model_module": "@jupyter-widgets/base",
      "model_module_version": "1.2.0",
      "model_name": "LayoutModel",
      "state": {}
     },
     "e0dcab89746b497bb4b10d59fe5c322f": {
      "model_module": "@jupyter-widgets/controls",
      "model_module_version": "1.5.0",
      "model_name": "DescriptionStyleModel",
      "state": {
       "description_width": ""
      }
     },
     "e0ffbf90a2764b10b2779b5785b61b3f": {
      "model_module": "@jupyter-widgets/controls",
      "model_module_version": "1.5.0",
      "model_name": "HBoxModel",
      "state": {
       "children": [
        "IPY_MODEL_44f2d656519c4a23ad4486346af92270",
        "IPY_MODEL_159091d664de4c2aa2cc33321ad23a67",
        "IPY_MODEL_3f6d371f448b45a8940fc36c8d92adb0"
       ],
       "layout": "IPY_MODEL_7439d3da032d430fb0b5e519662f330e"
      }
     },
     "e1353d61647c4d9095d72b145e2ea6e3": {
      "model_module": "@jupyter-widgets/controls",
      "model_module_version": "1.5.0",
      "model_name": "SliderStyleModel",
      "state": {
       "description_width": ""
      }
     },
     "e17ef6954cb04364bb4e5d32bafcd6d2": {
      "model_module": "@jupyter-widgets/base",
      "model_module_version": "1.2.0",
      "model_name": "LayoutModel",
      "state": {}
     },
     "e1aff159ebbf4af9a58f7de7267a9fed": {
      "model_module": "@jupyter-widgets/controls",
      "model_module_version": "1.5.0",
      "model_name": "ButtonModel",
      "state": {
       "description": "Export Image",
       "layout": "IPY_MODEL_a2e635d701c848b6a3a5b00012d935d0",
       "style": "IPY_MODEL_c5a90235c06f4e2b8c849b2d72e9b9f1"
      }
     },
     "e1fc741564404cb297f17aa188800fbb": {
      "model_module": "@jupyter-widgets/controls",
      "model_module_version": "1.5.0",
      "model_name": "DescriptionStyleModel",
      "state": {
       "description_width": ""
      }
     },
     "e22599c7ce9e4af8ba84c201ebe369e4": {
      "model_module": "@jupyter-widgets/base",
      "model_module_version": "1.2.0",
      "model_name": "LayoutModel",
      "state": {}
     },
     "e22fed25fbbf4f87b416587a4a50a60c": {
      "model_module": "@jupyter-widgets/controls",
      "model_module_version": "1.5.0",
      "model_name": "ButtonStyleModel",
      "state": {}
     },
     "e237fe8ab0454c43af587b3b27cc8ff8": {
      "model_module": "@jupyter-widgets/output",
      "model_module_version": "1.0.0",
      "model_name": "OutputModel",
      "state": {
       "layout": "IPY_MODEL_d6230f4537d74bc084f957c9968790b1",
       "outputs": [
        {
         "data": {
          "application/vnd.jupyter.widget-view+json": {
           "model_id": "e9207e3cf3924fe08be6af37f1c7fbe9",
           "version_major": 2,
           "version_minor": 0
          },
          "text/plain": "Canvas(toolbar=Toolbar(toolitems=[('Home', 'Reset original view', 'home', 'home'), ('Back', 'Back to previous …"
         },
         "metadata": {},
         "output_type": "display_data"
        }
       ]
      }
     },
     "e2544fcdf519492599181abc5f0842b7": {
      "model_module": "@jupyter-widgets/controls",
      "model_module_version": "1.5.0",
      "model_name": "SliderStyleModel",
      "state": {
       "description_width": ""
      }
     },
     "e2961b03e16c40998099c025a6b36ca4": {
      "model_module": "@jupyter-widgets/controls",
      "model_module_version": "1.5.0",
      "model_name": "FloatSliderModel",
      "state": {
       "description": "0°",
       "layout": "IPY_MODEL_7d89347962eb4345a20626a2b8eb6321",
       "max": 1,
       "min": -1,
       "step": 0.01,
       "style": "IPY_MODEL_123389c1711c4865b8b056a2bb08c188"
      }
     },
     "e2a67db7fe23426fa0408b7137027c67": {
      "model_module": "@jupyter-widgets/base",
      "model_module_version": "1.2.0",
      "model_name": "LayoutModel",
      "state": {}
     },
     "e2e1d4eba78848ca9cfce8c49fafca7b": {
      "model_module": "@jupyter-widgets/controls",
      "model_module_version": "1.5.0",
      "model_name": "VBoxModel",
      "state": {
       "children": [
        "IPY_MODEL_7f874d8915ff4857bf8fdebfd2cb2938"
       ],
       "layout": "IPY_MODEL_b02a0b52b7af4ca3a004889c30d2b859"
      }
     },
     "e31eb203b43b4ec196e7eacb8d0c001d": {
      "model_module": "@jupyter-widgets/output",
      "model_module_version": "1.0.0",
      "model_name": "OutputModel",
      "state": {
       "layout": "IPY_MODEL_8d2968718e46448b9c88eec4b22f866b",
       "outputs": [
        {
         "data": {
          "application/vnd.jupyter.widget-view+json": {
           "model_id": "e3920107154d4e1091c33adda992c43f",
           "version_major": 2,
           "version_minor": 0
          },
          "text/plain": "Canvas(toolbar=Toolbar(toolitems=[('Home', 'Reset original view', 'home', 'home'), ('Back', 'Back to previous …"
         },
         "metadata": {},
         "output_type": "display_data"
        }
       ]
      }
     },
     "e326545863fa43fcbfc9498a9a1a04a4": {
      "model_module": "@jupyter-widgets/base",
      "model_module_version": "1.2.0",
      "model_name": "LayoutModel",
      "state": {}
     },
     "e32ad893d377470b83a86ed4ac88517e": {
      "model_module": "@jupyter-widgets/controls",
      "model_module_version": "1.5.0",
      "model_name": "CheckboxModel",
      "state": {
       "description": "Disable Medicina",
       "disabled": false,
       "layout": "IPY_MODEL_6e5de97424614814877329015e4b7df4",
       "style": "IPY_MODEL_ee5273b68ab142799d01e51fdd62dbe4",
       "value": false
      }
     },
     "e33a186b0f5d43319377ca5687ba996d": {
      "model_module": "@jupyter-widgets/base",
      "model_module_version": "1.2.0",
      "model_name": "LayoutModel",
      "state": {}
     },
     "e33a7597f5d24d008931bc0db93eab83": {
      "model_module": "@jupyter-widgets/controls",
      "model_module_version": "1.5.0",
      "model_name": "ButtonModel",
      "state": {
       "description": "Reset Exposure",
       "layout": "IPY_MODEL_0876add1ba5e4c5192e6cf30455fc4e9",
       "style": "IPY_MODEL_ace28562b0064dbfbc8874d063358ed1"
      }
     },
     "e37cf598e7e54174b4b523f5a6c752c3": {
      "model_module": "@jupyter-widgets/base",
      "model_module_version": "1.2.0",
      "model_name": "LayoutModel",
      "state": {}
     },
     "e3920107154d4e1091c33adda992c43f": {
      "model_module": "jupyter-matplotlib",
      "model_module_version": "^0.7.2",
      "model_name": "MPLCanvasModel",
      "state": {
       "_figure_label": "Figure 17",
       "_height": 430,
       "_width": 1099,
       "header_visible": false,
       "layout": "IPY_MODEL_455e3813123d429a83ca357ea394e37f",
       "resizable": false,
       "toolbar": "IPY_MODEL_368ad87e8bb940fbb252db2c0f6852e4",
       "toolbar_position": "left",
       "toolbar_visible": false
      }
     },
     "e3c1adb31472480d81e4d0559a564944": {
      "model_module": "@jupyter-widgets/controls",
      "model_module_version": "1.5.0",
      "model_name": "ButtonStyleModel",
      "state": {}
     },
     "e3e94d62e0bd4fecbdcaf94b94a3f335": {
      "model_module": "@jupyter-widgets/base",
      "model_module_version": "1.2.0",
      "model_name": "LayoutModel",
      "state": {}
     },
     "e4209bbd5e7a43118d54eb4ccc78f329": {
      "model_module": "@jupyter-widgets/controls",
      "model_module_version": "1.5.0",
      "model_name": "ButtonModel",
      "state": {
       "description": "Reset Exposure",
       "layout": "IPY_MODEL_519bb90238494d6b96af29b44e4ed748",
       "style": "IPY_MODEL_2f6560cb5c454de2a0d68360eb4eb4eb"
      }
     },
     "e468da94bb8441c28cf10ff966d33619": {
      "model_module": "@jupyter-widgets/base",
      "model_module_version": "1.2.0",
      "model_name": "LayoutModel",
      "state": {}
     },
     "e476a4e0ee564656a22d678526a974ad": {
      "model_module": "@jupyter-widgets/base",
      "model_module_version": "1.2.0",
      "model_name": "LayoutModel",
      "state": {}
     },
     "e4d21acbee264156bf40cac15637b37e": {
      "model_module": "@jupyter-widgets/controls",
      "model_module_version": "1.5.0",
      "model_name": "ButtonStyleModel",
      "state": {}
     },
     "e527e9f8aa8b439e98e34203a6edf05c": {
      "model_module": "@jupyter-widgets/base",
      "model_module_version": "1.2.0",
      "model_name": "LayoutModel",
      "state": {}
     },
     "e52bada04ee6438e9ac3ece681d86cfa": {
      "model_module": "@jupyter-widgets/base",
      "model_module_version": "1.2.0",
      "model_name": "LayoutModel",
      "state": {}
     },
     "e53d166d0e1d4b978b6f0d9c413c881f": {
      "model_module": "@jupyter-widgets/controls",
      "model_module_version": "1.5.0",
      "model_name": "ButtonStyleModel",
      "state": {}
     },
     "e53fc9c489d64f4099701a77e767f4f3": {
      "model_module": "@jupyter-widgets/controls",
      "model_module_version": "1.5.0",
      "model_name": "FloatSliderModel",
      "state": {
       "description": "Compression Threshold",
       "layout": "IPY_MODEL_fc1af5fc89f74b7dbe620cf23db66e00",
       "max": 1,
       "step": 0.01,
       "style": "IPY_MODEL_a5f04ffe34264ae4b51d5850e4951315",
       "value": 0.8
      }
     },
     "e5404fecb4294954b51d43cbc9b5290f": {
      "model_module": "@jupyter-widgets/base",
      "model_module_version": "1.2.0",
      "model_name": "LayoutModel",
      "state": {}
     },
     "e54105d183f74e4f86f3c7864213e1bf": {
      "model_module": "@jupyter-widgets/base",
      "model_module_version": "1.2.0",
      "model_name": "LayoutModel",
      "state": {
       "align_items": "stretch",
       "display": "flex",
       "flex_flow": "column",
       "width": "1128px"
      }
     },
     "e57d32286d7c434084e808fcdd8e97c6": {
      "model_module": "@jupyter-widgets/controls",
      "model_module_version": "1.5.0",
      "model_name": "HBoxModel",
      "state": {
       "children": [
        "IPY_MODEL_48a33847f8654dcda59c175bedd30f3c",
        "IPY_MODEL_88dfccb4369d4774be96fe4f8e10c9e1",
        "IPY_MODEL_485bc8bc1a9640f1981b3be499657a5c"
       ],
       "layout": "IPY_MODEL_4a5b127a8afc451a897aab3952692bce"
      }
     },
     "e58b066bda7a40d9864e57abcec2eb43": {
      "model_module": "@jupyter-widgets/base",
      "model_module_version": "1.2.0",
      "model_name": "LayoutModel",
      "state": {}
     },
     "e5aa60d0fe2c4c448993040aaeb0ce52": {
      "model_module": "@jupyter-widgets/controls",
      "model_module_version": "1.5.0",
      "model_name": "ButtonStyleModel",
      "state": {}
     },
     "e5bcac68adf94b6da050094b511260e2": {
      "model_module": "@jupyter-widgets/base",
      "model_module_version": "1.2.0",
      "model_name": "LayoutModel",
      "state": {}
     },
     "e5bfe6cc10ba4ef685e5f620f222434a": {
      "model_module": "@jupyter-widgets/controls",
      "model_module_version": "1.5.0",
      "model_name": "ButtonModel",
      "state": {
       "description": "Export Image",
       "layout": "IPY_MODEL_4788976fd6854e90b9bcedfb940e25d7",
       "style": "IPY_MODEL_fce946cdc0ad4f4188f02225ad959f97"
      }
     },
     "e5feef11fd7e42119a6ea24559e28731": {
      "model_module": "@jupyter-widgets/base",
      "model_module_version": "1.2.0",
      "model_name": "LayoutModel",
      "state": {}
     },
     "e60197a41c834de8acf42a274f12dc4f": {
      "model_module": "@jupyter-widgets/base",
      "model_module_version": "1.2.0",
      "model_name": "LayoutModel",
      "state": {}
     },
     "e612b287161f4a2686ac58d5952e2441": {
      "model_module": "@jupyter-widgets/controls",
      "model_module_version": "1.5.0",
      "model_name": "VBoxModel",
      "state": {
       "children": [
        "IPY_MODEL_711cf6b9e33b431382f269f4674fde9a",
        "IPY_MODEL_26a19812b05544fabb8d9698c4af63db",
        "IPY_MODEL_19170f81bfb94d28a9f6df659e11c88e"
       ],
       "layout": "IPY_MODEL_9d8435d3ac934c94a7702ada06daa3c9"
      }
     },
     "e61ca14a53034063b9ca832547a7e615": {
      "model_module": "@jupyter-widgets/controls",
      "model_module_version": "1.5.0",
      "model_name": "ButtonStyleModel",
      "state": {}
     },
     "e6382b29517640ea96acc48f82143712": {
      "model_module": "@jupyter-widgets/base",
      "model_module_version": "1.2.0",
      "model_name": "LayoutModel",
      "state": {
       "border": "solid 4px #222",
       "margin": "4px",
       "padding": "0"
      }
     },
     "e646212fcf5a4822b00204330cba249d": {
      "model_module": "@jupyter-widgets/base",
      "model_module_version": "1.2.0",
      "model_name": "LayoutModel",
      "state": {}
     },
     "e6963e4cb1c440089c2184b309d2f03e": {
      "model_module": "@jupyter-widgets/controls",
      "model_module_version": "1.5.0",
      "model_name": "HBoxModel",
      "state": {
       "children": [
        "IPY_MODEL_32789e6ced774b388271eaf58bdfd9d8",
        "IPY_MODEL_db1056d9427a4784b1d7d11509eeae1e",
        "IPY_MODEL_642c036d46f04269894dc5b000cfd97a",
        "IPY_MODEL_1f8a973cefd44ce2b310ef481466a6ba"
       ],
       "layout": "IPY_MODEL_8e9b0a827e014262bdcde32ace107a37"
      }
     },
     "e69718b76910475d9d42d32e307f41bf": {
      "model_module": "@jupyter-widgets/base",
      "model_module_version": "1.2.0",
      "model_name": "LayoutModel",
      "state": {}
     },
     "e6a3074dc2ad4d99868d4c89be533bcc": {
      "model_module": "jupyter-matplotlib",
      "model_module_version": "^0.7.2",
      "model_name": "MPLCanvasModel",
      "state": {
       "_figure_label": "Figure 11",
       "_height": 696,
       "_width": 1100,
       "header_visible": false,
       "layout": "IPY_MODEL_67f44bf3962a4d3983f844e03df1c2f1",
       "resizable": false,
       "toolbar": "IPY_MODEL_23ea396a1c084ef8b01abfbf2df63fc4",
       "toolbar_position": "left",
       "toolbar_visible": false
      }
     },
     "e6ca434084d34d2e9b3de78003274b3d": {
      "model_module": "@jupyter-widgets/controls",
      "model_module_version": "1.5.0",
      "model_name": "ButtonStyleModel",
      "state": {}
     },
     "e6efad0b295e418295daf8de80ce7bff": {
      "model_module": "@jupyter-widgets/base",
      "model_module_version": "1.2.0",
      "model_name": "LayoutModel",
      "state": {}
     },
     "e6f3065f3fab4ef092dda7583969bdc5": {
      "model_module": "@jupyter-widgets/base",
      "model_module_version": "1.2.0",
      "model_name": "LayoutModel",
      "state": {}
     },
     "e6f463e4129d4f43a7a931845975286e": {
      "model_module": "@jupyter-widgets/controls",
      "model_module_version": "1.5.0",
      "model_name": "DropdownModel",
      "state": {
       "_options_labels": [
        "tanh",
        "atan",
        "simple"
       ],
       "description": "Compression Function:",
       "index": 0,
       "layout": "IPY_MODEL_f96d53d993ff4b049e4fb6c120cf61f7",
       "style": "IPY_MODEL_b4056669bde046a587f1ed7c1bd87925"
      }
     },
     "e79cd6377d2b4748a1209b6d01a3ccf5": {
      "model_module": "@jupyter-widgets/controls",
      "model_module_version": "1.5.0",
      "model_name": "ButtonModel",
      "state": {
       "description": "Reset Hue Controls",
       "layout": "IPY_MODEL_03fdbdcd79ea4645a2ea8406aa6c203a",
       "style": "IPY_MODEL_33dcf92d757d43329b0afe3d21c439b2"
      }
     },
     "e7e73f0e990347378c1006e5ebab05e1": {
      "model_module": "@jupyter-widgets/controls",
      "model_module_version": "1.5.0",
      "model_name": "ButtonStyleModel",
      "state": {}
     },
     "e7ee6d040a8e4954a4073be24611b6a6": {
      "model_module": "@jupyter-widgets/controls",
      "model_module_version": "1.5.0",
      "model_name": "ButtonStyleModel",
      "state": {}
     },
     "e7fd3f62b4b849faa6baafaadd041772": {
      "model_module": "@jupyter-widgets/controls",
      "model_module_version": "1.5.0",
      "model_name": "ButtonModel",
      "state": {
       "description": "Export Image",
       "layout": "IPY_MODEL_b3224e3bf5444d58b202d2a613f6ca78",
       "style": "IPY_MODEL_124159d1af4a404bb5b4e5d9704e5476"
      }
     },
     "e7fd6aada3e54675b9ceec6cd33001f7": {
      "model_module": "@jupyter-widgets/base",
      "model_module_version": "1.2.0",
      "model_name": "LayoutModel",
      "state": {}
     },
     "e8446648769742bab42a1f39f0b37ad6": {
      "model_module": "@jupyter-widgets/controls",
      "model_module_version": "1.5.0",
      "model_name": "FloatSliderModel",
      "state": {
       "description": "Compression Threshold",
       "layout": "IPY_MODEL_e17ef6954cb04364bb4e5d32bafcd6d2",
       "max": 1,
       "step": 0.01,
       "style": "IPY_MODEL_21bb2f48026b4e3c84c062e3eddc605f",
       "value": 0.8
      }
     },
     "e84b07c5b5e94b199659298e2f5a5a61": {
      "model_module": "@jupyter-widgets/output",
      "model_module_version": "1.0.0",
      "model_name": "OutputModel",
      "state": {
       "layout": "IPY_MODEL_50c20b39c1784875aedc1370e1fe6f35",
       "outputs": [
        {
         "data": {
          "application/vnd.jupyter.widget-view+json": {
           "model_id": "581431757bf344cfbf753c7aa743c855",
           "version_major": 2,
           "version_minor": 0
          },
          "text/plain": "Canvas(toolbar=Toolbar(toolitems=[('Home', 'Reset original view', 'home', 'home'), ('Back', 'Back to previous …"
         },
         "metadata": {},
         "output_type": "display_data"
        }
       ]
      }
     },
     "e85da4c5c4c84d61a6ac466fca5fcb85": {
      "model_module": "@jupyter-widgets/controls",
      "model_module_version": "1.5.0",
      "model_name": "HBoxModel",
      "state": {
       "children": [
        "IPY_MODEL_2fd6f01295664f3785806ed214b25428",
        "IPY_MODEL_530127fc15e84a73a8385e9754fe38df",
        "IPY_MODEL_5f0c2085fff74492af92d3a6cb09081d"
       ],
       "layout": "IPY_MODEL_e6efad0b295e418295daf8de80ce7bff"
      }
     },
     "e876a4a7175f4209b336232eaadaf79c": {
      "model_module": "@jupyter-widgets/base",
      "model_module_version": "1.2.0",
      "model_name": "LayoutModel",
      "state": {}
     },
     "e8b3b661d8a64b67b2a076bcdfc36044": {
      "model_module": "@jupyter-widgets/controls",
      "model_module_version": "1.5.0",
      "model_name": "ButtonModel",
      "state": {
       "description": "Export Image",
       "layout": "IPY_MODEL_61df91d8f26e42fc9e8b7b8d7e039cca",
       "style": "IPY_MODEL_038d9e02f1e14d0086b12ad52ef8b1e9"
      }
     },
     "e8b69a703d10459b89bad08fca54be39": {
      "model_module": "@jupyter-widgets/base",
      "model_module_version": "1.2.0",
      "model_name": "LayoutModel",
      "state": {}
     },
     "e8d17f6fcb874c2fa814d205eb7aa3e0": {
      "model_module": "@jupyter-widgets/base",
      "model_module_version": "1.2.0",
      "model_name": "LayoutModel",
      "state": {}
     },
     "e90b372fe3524ee8b4b3442b31f4bac6": {
      "model_module": "@jupyter-widgets/base",
      "model_module_version": "1.2.0",
      "model_name": "LayoutModel",
      "state": {}
     },
     "e9207e3cf3924fe08be6af37f1c7fbe9": {
      "model_module": "jupyter-matplotlib",
      "model_module_version": "^0.7.2",
      "model_name": "MPLCanvasModel",
      "state": {
       "_figure_label": "Figure 25",
       "_height": 440,
       "_width": 1100,
       "header_visible": false,
       "layout": "IPY_MODEL_775974490b344bb1996cae0df6b64f9b",
       "resizable": false,
       "toolbar": "IPY_MODEL_38aa019b07d24a52aadcb7ccf31f830a",
       "toolbar_position": "left",
       "toolbar_visible": false
      }
     },
     "e92d6b36c92b48ec96fb7d6df9529bfd": {
      "model_module": "@jupyter-widgets/base",
      "model_module_version": "1.2.0",
      "model_name": "LayoutModel",
      "state": {}
     },
     "e93b00c24f2145b5a6754bf0a5885c2e": {
      "model_module": "@jupyter-widgets/base",
      "model_module_version": "1.2.0",
      "model_name": "LayoutModel",
      "state": {}
     },
     "ea8cefcaa342494a8fcc09021d3d2881": {
      "model_module": "@jupyter-widgets/controls",
      "model_module_version": "1.5.0",
      "model_name": "SliderStyleModel",
      "state": {
       "description_width": ""
      }
     },
     "ea9206e02889488c83e454f615e91fa3": {
      "model_module": "@jupyter-widgets/controls",
      "model_module_version": "1.5.0",
      "model_name": "ButtonModel",
      "state": {
       "description": "Reset Hue Controls",
       "layout": "IPY_MODEL_8455c0ae71cc41f5b3eb9efe551b6aa2",
       "style": "IPY_MODEL_c20969b8def145d18731c8f62ae78497"
      }
     },
     "eaa1f146108a40979a011b52cb4328ed": {
      "model_module": "@jupyter-widgets/controls",
      "model_module_version": "1.5.0",
      "model_name": "DescriptionStyleModel",
      "state": {
       "description_width": ""
      }
     },
     "eadd2f3646d948fea05452250c4af359": {
      "model_module": "@jupyter-widgets/controls",
      "model_module_version": "1.5.0",
      "model_name": "FloatSliderModel",
      "state": {
       "description": "Exposure",
       "layout": "IPY_MODEL_5154ada6a96e451ca87696fe22a6874c",
       "max": 8,
       "min": -8,
       "step": 0.1,
       "style": "IPY_MODEL_7db96b9434e746868b174242f7d5013e"
      }
     },
     "eb167cb628e94a7ab7db2296eefaf573": {
      "model_module": "@jupyter-widgets/controls",
      "model_module_version": "1.5.0",
      "model_name": "HBoxModel",
      "state": {
       "children": [
        "IPY_MODEL_345601828b0149e3a76f3bce76066ead",
        "IPY_MODEL_f4177ec92513462995862500915d98ee",
        "IPY_MODEL_484c9b5e7c8b4f8aacc4ba4dcee9bf6e",
        "IPY_MODEL_aebe7fe3ea0542eda312c46f669c7776"
       ],
       "layout": "IPY_MODEL_39ef219108cb4e9d80b67c49870a82c9"
      }
     },
     "eb2e1baf32a1414ba47cf92dd4393d56": {
      "model_module": "@jupyter-widgets/base",
      "model_module_version": "1.2.0",
      "model_name": "LayoutModel",
      "state": {}
     },
     "eb3d0500d86b44efa0239fb22e1ca026": {
      "model_module": "jupyter-matplotlib",
      "model_module_version": "^0.7.2",
      "model_name": "ToolbarModel",
      "state": {
       "layout": "IPY_MODEL_6777f5d05917400480e088d803bfa136",
       "toolitems": [
        [
         "Home",
         "Reset original view",
         "home",
         "home"
        ],
        [
         "Back",
         "Back to previous view",
         "arrow-left",
         "back"
        ],
        [
         "Forward",
         "Forward to next view",
         "arrow-right",
         "forward"
        ],
        [
         "Pan",
         "Pan axes with left mouse, zoom with right",
         "arrows",
         "pan"
        ],
        [
         "Zoom",
         "Zoom to rectangle",
         "square-o",
         "zoom"
        ],
        [
         "Download",
         "Download plot",
         "floppy-o",
         "save_figure"
        ]
       ]
      }
     },
     "eb5f009fe07b49a5ba28f6eefaaa829e": {
      "model_module": "@jupyter-widgets/base",
      "model_module_version": "1.2.0",
      "model_name": "LayoutModel",
      "state": {}
     },
     "eb661fd8f5af4b60a26da0910c3fc511": {
      "model_module": "@jupyter-widgets/base",
      "model_module_version": "1.2.0",
      "model_name": "LayoutModel",
      "state": {}
     },
     "eb8a688207534955ba97a4723afcddeb": {
      "model_module": "@jupyter-widgets/controls",
      "model_module_version": "1.5.0",
      "model_name": "ButtonStyleModel",
      "state": {}
     },
     "ebb638462ee44dab8673a1a00b19b7c6": {
      "model_module": "@jupyter-widgets/controls",
      "model_module_version": "1.5.0",
      "model_name": "SliderStyleModel",
      "state": {
       "description_width": ""
      }
     },
     "ec2e5385e26a4d4485c20c5dfed22fd5": {
      "model_module": "@jupyter-widgets/base",
      "model_module_version": "1.2.0",
      "model_name": "LayoutModel",
      "state": {}
     },
     "ec3b403402e34ec3b2f137e8b51bbc26": {
      "model_module": "jupyter-matplotlib",
      "model_module_version": "^0.7.2",
      "model_name": "ToolbarModel",
      "state": {
       "layout": "IPY_MODEL_64a1d21413234d93bd4ca1365a8123ea",
       "toolitems": [
        [
         "Home",
         "Reset original view",
         "home",
         "home"
        ],
        [
         "Back",
         "Back to previous view",
         "arrow-left",
         "back"
        ],
        [
         "Forward",
         "Forward to next view",
         "arrow-right",
         "forward"
        ],
        [
         "Pan",
         "Pan axes with left mouse, zoom with right",
         "arrows",
         "pan"
        ],
        [
         "Zoom",
         "Zoom to rectangle",
         "square-o",
         "zoom"
        ],
        [
         "Download",
         "Download plot",
         "floppy-o",
         "save_figure"
        ]
       ]
      }
     },
     "ec930ad5345e4a2caf0bca81eceb8b3d": {
      "model_module": "@jupyter-widgets/controls",
      "model_module_version": "1.5.0",
      "model_name": "ButtonStyleModel",
      "state": {}
     },
     "ecf278d23a4e4c538bb3efdb85010a1a": {
      "model_module": "@jupyter-widgets/controls",
      "model_module_version": "1.5.0",
      "model_name": "FloatSliderModel",
      "state": {
       "description": "Exposure",
       "layout": "IPY_MODEL_58b853f696134d54b54189427aded7f3",
       "max": 8,
       "min": -8,
       "step": 0.1,
       "style": "IPY_MODEL_a4f71877e9a245978f9049fa767cacad"
      }
     },
     "ed18a9757fe442fbae7830306f70f7ad": {
      "model_module": "@jupyter-widgets/controls",
      "model_module_version": "1.5.0",
      "model_name": "FloatSliderModel",
      "state": {
       "description": "315°",
       "layout": "IPY_MODEL_5e902d875ba34cea9b5ea1fe2dd47482",
       "max": 1,
       "min": -1,
       "step": 0.01,
       "style": "IPY_MODEL_12526583b8c14459bb9b15d709a3d1c5"
      }
     },
     "ed379561ac804febbca48e88e0bdb0f2": {
      "model_module": "@jupyter-widgets/base",
      "model_module_version": "1.2.0",
      "model_name": "LayoutModel",
      "state": {}
     },
     "ed47953cfcc044f0b2ba011666a6421f": {
      "model_module": "@jupyter-widgets/base",
      "model_module_version": "1.2.0",
      "model_name": "LayoutModel",
      "state": {}
     },
     "ed4e9a63cb59499fa321b393ec537faf": {
      "model_module": "@jupyter-widgets/base",
      "model_module_version": "1.2.0",
      "model_name": "LayoutModel",
      "state": {}
     },
     "ee238a36fa0b4281a787fe7a25b99509": {
      "model_module": "@jupyter-widgets/controls",
      "model_module_version": "1.5.0",
      "model_name": "HBoxModel",
      "state": {
       "children": [
        "IPY_MODEL_fd72a18301974531912bdefd215c5cd3",
        "IPY_MODEL_5ddc4930077e42de99d90fcc817f1ecc",
        "IPY_MODEL_1aa8f61009c64b4a971dc0fe094b5a4f"
       ],
       "layout": "IPY_MODEL_fd4a68758f474f3895e7acf28f22bda8"
      }
     },
     "ee24aad55f1247c5a95d0835a1ec5362": {
      "model_module": "@jupyter-widgets/controls",
      "model_module_version": "1.5.0",
      "model_name": "DescriptionStyleModel",
      "state": {
       "description_width": ""
      }
     },
     "ee5273b68ab142799d01e51fdd62dbe4": {
      "model_module": "@jupyter-widgets/controls",
      "model_module_version": "1.5.0",
      "model_name": "DescriptionStyleModel",
      "state": {
       "description_width": ""
      }
     },
     "eefca8efb01f4475b379e54ae05ec5d3": {
      "model_module": "@jupyter-widgets/base",
      "model_module_version": "1.2.0",
      "model_name": "LayoutModel",
      "state": {}
     },
     "ef0408b912694a548d82f4cba8a19b67": {
      "model_module": "@jupyter-widgets/controls",
      "model_module_version": "1.5.0",
      "model_name": "ButtonStyleModel",
      "state": {}
     },
     "ef1423f69df3439c9189f2b1b10d0629": {
      "model_module": "@jupyter-widgets/controls",
      "model_module_version": "1.5.0",
      "model_name": "SliderStyleModel",
      "state": {
       "description_width": ""
      }
     },
     "ef15657366d3446484bf128cf1c196ab": {
      "model_module": "@jupyter-widgets/controls",
      "model_module_version": "1.5.0",
      "model_name": "SliderStyleModel",
      "state": {
       "description_width": ""
      }
     },
     "ef1f30093238409bb57c2212a2265c44": {
      "model_module": "@jupyter-widgets/controls",
      "model_module_version": "1.5.0",
      "model_name": "FloatSliderModel",
      "state": {
       "description": "90°",
       "layout": "IPY_MODEL_d6393686bc0944d1a1471265c8114ec1",
       "max": 1,
       "min": -1,
       "step": 0.01,
       "style": "IPY_MODEL_b1eff3eac48b4f36951287daa43d2a2b"
      }
     },
     "ef6fce4d4ceb4111a0931d95d49669ef": {
      "model_module": "@jupyter-widgets/base",
      "model_module_version": "1.2.0",
      "model_name": "LayoutModel",
      "state": {}
     },
     "ef8c5e6a933e4c25be7a046c655b252d": {
      "model_module": "@jupyter-widgets/base",
      "model_module_version": "1.2.0",
      "model_name": "LayoutModel",
      "state": {}
     },
     "eff5a6def2ac4b10bf015f91ed4f3cd6": {
      "model_module": "@jupyter-widgets/controls",
      "model_module_version": "1.5.0",
      "model_name": "ButtonModel",
      "state": {
       "description": "Reset Exposure",
       "layout": "IPY_MODEL_3bf28b1e9dbf4f5e8b108170ded0c74d",
       "style": "IPY_MODEL_03cb58002ae74ee4a2ddbdf695d1831e"
      }
     },
     "f00ca642d9d04453a327b4400d3c5595": {
      "model_module": "@jupyter-widgets/controls",
      "model_module_version": "1.5.0",
      "model_name": "DropdownModel",
      "state": {
       "_options_labels": [
        "tanh",
        "atan",
        "simple"
       ],
       "description": "Compression Function:",
       "index": 0,
       "layout": "IPY_MODEL_9c74ca90325e47dfb0397e8cf11079b3",
       "style": "IPY_MODEL_fdcefcc5a4554760b445444dc1a5380a"
      }
     },
     "f0542e5e4bb54f15879945f0bf8fee95": {
      "model_module": "@jupyter-widgets/controls",
      "model_module_version": "1.5.0",
      "model_name": "FloatSliderModel",
      "state": {
       "description": "135°",
       "layout": "IPY_MODEL_e90b372fe3524ee8b4b3442b31f4bac6",
       "max": 1,
       "min": -1,
       "step": 0.01,
       "style": "IPY_MODEL_6fbb8412dd0d461f9bc1d454b113c703"
      }
     },
     "f058bde5919c4211ae47c2eb297929b8": {
      "model_module": "@jupyter-widgets/base",
      "model_module_version": "1.2.0",
      "model_name": "LayoutModel",
      "state": {}
     },
     "f066b5e5638f41d78bbcc220d4c08a33": {
      "model_module": "jupyter-matplotlib",
      "model_module_version": "^0.7.2",
      "model_name": "ToolbarModel",
      "state": {
       "layout": "IPY_MODEL_123d6e3b5aba4140961553fab83822e1",
       "toolitems": [
        [
         "Home",
         "Reset original view",
         "home",
         "home"
        ],
        [
         "Back",
         "Back to previous view",
         "arrow-left",
         "back"
        ],
        [
         "Forward",
         "Forward to next view",
         "arrow-right",
         "forward"
        ],
        [
         "Pan",
         "Pan axes with left mouse, zoom with right",
         "arrows",
         "pan"
        ],
        [
         "Zoom",
         "Zoom to rectangle",
         "square-o",
         "zoom"
        ],
        [
         "Download",
         "Download plot",
         "floppy-o",
         "save_figure"
        ]
       ]
      }
     },
     "f06a97294923482aa2fc7adf9fd593ba": {
      "model_module": "@jupyter-widgets/controls",
      "model_module_version": "1.5.0",
      "model_name": "HBoxModel",
      "state": {
       "children": [
        "IPY_MODEL_f2c486770af64a7188ced36e975fc8f1",
        "IPY_MODEL_11e439bf018d4ba98f594e0b0775e771",
        "IPY_MODEL_eadd2f3646d948fea05452250c4af359"
       ],
       "layout": "IPY_MODEL_5986f5f9e84f4336ac748b0d4e2f4507"
      }
     },
     "f07b0af406e441e9acc325885fb85168": {
      "model_module": "jupyter-matplotlib",
      "model_module_version": "^0.7.2",
      "model_name": "MPLCanvasModel",
      "state": {
       "_figure_label": "Figure 5",
       "_height": 1100,
       "_width": 1100,
       "layout": "IPY_MODEL_390414e3ec134cd69840fbe74a0e9328",
       "toolbar": "IPY_MODEL_3de4de0899dc49b5b777ad5f5b3bd4e4",
       "toolbar_position": "left"
      }
     },
     "f07f7c0221d04e349c44c39b6d6790b7": {
      "model_module": "@jupyter-widgets/controls",
      "model_module_version": "1.5.0",
      "model_name": "FloatSliderModel",
      "state": {
       "description": "90°",
       "layout": "IPY_MODEL_8b3afbbc82084e56857dca4e68e3c844",
       "max": 1,
       "min": -1,
       "step": 0.01,
       "style": "IPY_MODEL_0b19d27862b3489aa2e4cd4e4a42aa96"
      }
     },
     "f096e1dcb75243a696f1f353e797342b": {
      "model_module": "@jupyter-widgets/controls",
      "model_module_version": "1.5.0",
      "model_name": "DescriptionStyleModel",
      "state": {
       "description_width": ""
      }
     },
     "f0d6766218034d1baa71c23a592e1239": {
      "model_module": "@jupyter-widgets/controls",
      "model_module_version": "1.5.0",
      "model_name": "HBoxModel",
      "state": {
       "children": [
        "IPY_MODEL_7a62ed0c0857447f8c84bdc3b01af1b7",
        "IPY_MODEL_88935cc11faf4e3cb43d7e927642d8fd",
        "IPY_MODEL_8a32b17aff6a459f956706f5eb4eccf8"
       ],
       "layout": "IPY_MODEL_f8f442dcc5f54527b16cef2b768847fc"
      }
     },
     "f0efecf4b4c745a9a92342b1f570dc1f": {
      "model_module": "@jupyter-widgets/controls",
      "model_module_version": "1.5.0",
      "model_name": "BoxModel",
      "state": {
       "children": [
        "IPY_MODEL_489b48c3dea949c4b01c6c22489bff38",
        "IPY_MODEL_8320e12bac6f46a480a155255d5ca91e"
       ],
       "layout": "IPY_MODEL_2239f767ff134ebd994c0e0b57490c88"
      }
     },
     "f0f14f55266a48be9243883746d3bd82": {
      "model_module": "@jupyter-widgets/base",
      "model_module_version": "1.2.0",
      "model_name": "LayoutModel",
      "state": {}
     },
     "f11cb571d34746e0a0d8377db1d060e2": {
      "model_module": "@jupyter-widgets/base",
      "model_module_version": "1.2.0",
      "model_name": "LayoutModel",
      "state": {}
     },
     "f1771c46be324a9a858514374beaa9ee": {
      "model_module": "@jupyter-widgets/controls",
      "model_module_version": "1.5.0",
      "model_name": "ButtonStyleModel",
      "state": {}
     },
     "f22080141eca443e810e1ed29f532a73": {
      "model_module": "@jupyter-widgets/base",
      "model_module_version": "1.2.0",
      "model_name": "LayoutModel",
      "state": {}
     },
     "f26457d67c914e6183cdd7a66de34801": {
      "model_module": "@jupyter-widgets/base",
      "model_module_version": "1.2.0",
      "model_name": "LayoutModel",
      "state": {}
     },
     "f277656a0b8c4de8899c0b6e32ffa02b": {
      "model_module": "@jupyter-widgets/base",
      "model_module_version": "1.2.0",
      "model_name": "LayoutModel",
      "state": {}
     },
     "f28702468d8e457d9b420974d0b7c21f": {
      "model_module": "@jupyter-widgets/controls",
      "model_module_version": "1.5.0",
      "model_name": "SliderStyleModel",
      "state": {
       "description_width": ""
      }
     },
     "f29caf6265a04449a2c541ebfb5a566c": {
      "model_module": "@jupyter-widgets/controls",
      "model_module_version": "1.5.0",
      "model_name": "ButtonModel",
      "state": {
       "description": "Reset Hue Controls",
       "layout": "IPY_MODEL_770c00c29c894cde94fefb58cf835b17",
       "style": "IPY_MODEL_5cdc2b05574a451887eee06050707586"
      }
     },
     "f2c486770af64a7188ced36e975fc8f1": {
      "model_module": "@jupyter-widgets/controls",
      "model_module_version": "1.5.0",
      "model_name": "CheckboxModel",
      "state": {
       "description": "Show Out-of-Gamut",
       "disabled": false,
       "layout": "IPY_MODEL_bb0db4ec6c4d477e98da0b92b910b742",
       "style": "IPY_MODEL_c2a143d25ea247b19b73aba0fcfdd2c2",
       "value": false
      }
     },
     "f2cbe1184e6a4973940e254295497821": {
      "model_module": "@jupyter-widgets/controls",
      "model_module_version": "1.5.0",
      "model_name": "VBoxModel",
      "state": {
       "children": [
        "IPY_MODEL_ea9206e02889488c83e454f615e91fa3"
       ],
       "layout": "IPY_MODEL_07dbb395c14241178188209fffbaf5ee"
      }
     },
     "f3024629d9904f8dbe4164aa030d2e8e": {
      "model_module": "@jupyter-widgets/controls",
      "model_module_version": "1.5.0",
      "model_name": "HBoxModel",
      "state": {
       "children": [
        "IPY_MODEL_809d3c7ce1b14b44985d8d13d268f5e0",
        "IPY_MODEL_aca22a2b264342549baf1cd4bb501e80",
        "IPY_MODEL_19b8b881fbd1411a9a0472e6e43da302"
       ],
       "layout": "IPY_MODEL_5a65e91a77574854b3f75ad4e5a3d001"
      }
     },
     "f31d79fa43fe4043b74e5e090d896907": {
      "model_module": "@jupyter-widgets/controls",
      "model_module_version": "1.5.0",
      "model_name": "SliderStyleModel",
      "state": {
       "description_width": ""
      }
     },
     "f3a52f062e444ef79da25baceb75470d": {
      "model_module": "@jupyter-widgets/base",
      "model_module_version": "1.2.0",
      "model_name": "LayoutModel",
      "state": {}
     },
     "f3bef9008fbe4be191ff91ba4fefa0f7": {
      "model_module": "@jupyter-widgets/base",
      "model_module_version": "1.2.0",
      "model_name": "LayoutModel",
      "state": {}
     },
     "f4177ec92513462995862500915d98ee": {
      "model_module": "@jupyter-widgets/controls",
      "model_module_version": "1.5.0",
      "model_name": "VBoxModel",
      "state": {
       "children": [
        "IPY_MODEL_97963dbfb7894f408a388e3c65e69c96",
        "IPY_MODEL_abd3647321b6418fbcb9ab6844f63590",
        "IPY_MODEL_f07f7c0221d04e349c44c39b6d6790b7"
       ],
       "layout": "IPY_MODEL_1e34a468dd2948f6abadd07ac0ddd2db"
      }
     },
     "f4473a5a81ef4371bd78f54cac9462da": {
      "model_module": "@jupyter-widgets/base",
      "model_module_version": "1.2.0",
      "model_name": "LayoutModel",
      "state": {}
     },
     "f4b2d8fd0eb54e1da867b49dc643b67d": {
      "model_module": "@jupyter-widgets/base",
      "model_module_version": "1.2.0",
      "model_name": "LayoutModel",
      "state": {}
     },
     "f4b4a0ed7e9a42388f7ec5da3dd3210b": {
      "model_module": "@jupyter-widgets/base",
      "model_module_version": "1.2.0",
      "model_name": "LayoutModel",
      "state": {}
     },
     "f4b4c5c4ea154729a9e17ef4f6894d9c": {
      "model_module": "@jupyter-widgets/base",
      "model_module_version": "1.2.0",
      "model_name": "LayoutModel",
      "state": {}
     },
     "f4c01287ad79490bbf2507f0a64dbda7": {
      "model_module": "@jupyter-widgets/controls",
      "model_module_version": "1.5.0",
      "model_name": "FloatSliderModel",
      "state": {
       "description": "180°",
       "layout": "IPY_MODEL_648cf566daad44618d18b9f98075f3e7",
       "max": 1,
       "min": -1,
       "step": 0.01,
       "style": "IPY_MODEL_cdd83d6b3d014f938320f19c727d4580"
      }
     },
     "f4ce892fd1024c53839135382d9dcc89": {
      "model_module": "@jupyter-widgets/controls",
      "model_module_version": "1.5.0",
      "model_name": "CheckboxModel",
      "state": {
       "description": "Show Out-of-Gamut",
       "disabled": false,
       "layout": "IPY_MODEL_35211e2071c84f20ad812503b7d5d673",
       "style": "IPY_MODEL_aeee1d6c74034c588b69e5a43de79817",
       "value": false
      }
     },
     "f4d2e5bd15ff4098b8c58e0f0ae250e7": {
      "model_module": "@jupyter-widgets/controls",
      "model_module_version": "1.5.0",
      "model_name": "FloatSliderModel",
      "state": {
       "description": "225°",
       "layout": "IPY_MODEL_a3c60328a27b4473b4db5de3cc3f779c",
       "max": 1,
       "min": -1,
       "step": 0.01,
       "style": "IPY_MODEL_19c17a97dd164f339276389def62a5fc"
      }
     },
     "f4f756f0377d43d480bcc0ff600ca6ec": {
      "model_module": "@jupyter-widgets/controls",
      "model_module_version": "1.5.0",
      "model_name": "CheckboxModel",
      "state": {
       "description": "Show Out-of-Gamut",
       "disabled": false,
       "layout": "IPY_MODEL_f22080141eca443e810e1ed29f532a73",
       "style": "IPY_MODEL_2b8a852375d749ebabc9aabe4bb6b5c2",
       "value": false
      }
     },
     "f53917c7e92c40df9b5bd62682c2053c": {
      "model_module": "@jupyter-widgets/base",
      "model_module_version": "1.2.0",
      "model_name": "LayoutModel",
      "state": {}
     },
     "f5500ba4399e40d4a98c75d28fc105e3": {
      "model_module": "@jupyter-widgets/controls",
      "model_module_version": "1.5.0",
      "model_name": "HBoxModel",
      "state": {
       "children": [
        "IPY_MODEL_96f5e3974b0d4e949992e3c68b2dc0f1",
        "IPY_MODEL_73d7ce3d8aad480caf81b50b573ad529",
        "IPY_MODEL_447d573f9c624ce9a16deaf2ab110ccd"
       ],
       "layout": "IPY_MODEL_f4473a5a81ef4371bd78f54cac9462da"
      }
     },
     "f563722475d14f828afc5ffe56c237ef": {
      "model_module": "@jupyter-widgets/base",
      "model_module_version": "1.2.0",
      "model_name": "LayoutModel",
      "state": {}
     },
     "f5754176c97d46d4b5308cf28570365b": {
      "model_module": "@jupyter-widgets/controls",
      "model_module_version": "1.5.0",
      "model_name": "SliderStyleModel",
      "state": {
       "description_width": ""
      }
     },
     "f57625937c1d4d998b83bb5e01691d99": {
      "model_module": "@jupyter-widgets/base",
      "model_module_version": "1.2.0",
      "model_name": "LayoutModel",
      "state": {}
     },
     "f5aa254694e94aac846e6d85b2e3ec9b": {
      "model_module": "@jupyter-widgets/controls",
      "model_module_version": "1.5.0",
      "model_name": "FloatSliderModel",
      "state": {
       "description": "225°",
       "layout": "IPY_MODEL_c90451ccc3ee4f37ab2481fddce54854",
       "max": 1,
       "min": -1,
       "step": 0.01,
       "style": "IPY_MODEL_aa5b3a60c5dc46b3b1b586013eb95680"
      }
     },
     "f5b7671a560a4e9dab2107d269eea30e": {
      "model_module": "@jupyter-widgets/controls",
      "model_module_version": "1.5.0",
      "model_name": "FloatSliderModel",
      "state": {
       "description": "315°",
       "layout": "IPY_MODEL_bb55d0b48a2e438c8c7021449fff1b0f",
       "max": 1,
       "min": -1,
       "step": 0.01,
       "style": "IPY_MODEL_61bfb08ffa924183a20b849fe454cc69"
      }
     },
     "f5c679a5185146bc99477d369bd5d373": {
      "model_module": "@jupyter-widgets/controls",
      "model_module_version": "1.5.0",
      "model_name": "VBoxModel",
      "state": {
       "children": [
        "IPY_MODEL_942d4e412f9445cba737d0d67bd08e21",
        "IPY_MODEL_fbbcd38b28d141d5a0b8427c49962e0d",
        "IPY_MODEL_ef1f30093238409bb57c2212a2265c44"
       ],
       "layout": "IPY_MODEL_e3e94d62e0bd4fecbdcaf94b94a3f335"
      }
     },
     "f5ca7d54aef2448dbb4c7580190ceada": {
      "model_module": "@jupyter-widgets/controls",
      "model_module_version": "1.5.0",
      "model_name": "SliderStyleModel",
      "state": {
       "description_width": ""
      }
     },
     "f5da5b56e44a48eeaa4e6bac7e8b11cc": {
      "model_module": "@jupyter-widgets/controls",
      "model_module_version": "1.5.0",
      "model_name": "SliderStyleModel",
      "state": {
       "description_width": ""
      }
     },
     "f61dd265b2794ef888d5ace231d95006": {
      "model_module": "@jupyter-widgets/controls",
      "model_module_version": "1.5.0",
      "model_name": "CheckboxModel",
      "state": {
       "description": "Show Out-of-Gamut",
       "disabled": false,
       "layout": "IPY_MODEL_50c078cfe1a941ba8f9820fa839f85c4",
       "style": "IPY_MODEL_a30aedd9d06345e6a4fea09bb874c370",
       "value": false
      }
     },
     "f697328fc32642159e40a6be50beee98": {
      "model_module": "@jupyter-widgets/controls",
      "model_module_version": "1.5.0",
      "model_name": "FloatSliderModel",
      "state": {
       "description": "Protected Area Threshold",
       "layout": "IPY_MODEL_7bc8dc5accf749ff81e85df1e3defd41",
       "max": 1,
       "step": 0.01,
       "style": "IPY_MODEL_afb3107e6b584bd1b95c63f73036235e",
       "value": 0.7
      }
     },
     "f69ccac65a924777b149887bc2e48642": {
      "model_module": "@jupyter-widgets/base",
      "model_module_version": "1.2.0",
      "model_name": "LayoutModel",
      "state": {}
     },
     "f6e11c16ab9b49618062bda00a1c29ec": {
      "model_module": "@jupyter-widgets/controls",
      "model_module_version": "1.5.0",
      "model_name": "HBoxModel",
      "state": {
       "children": [
        "IPY_MODEL_5d93b39f5077470f9da34b31491b3b71",
        "IPY_MODEL_6ee8db4fcfff4794a2414bf607afa9dd",
        "IPY_MODEL_26a6232c6a134e51a57ee5fc01c1f0e0",
        "IPY_MODEL_4543bb774dd840a4bc223471bb1ccac9"
       ],
       "layout": "IPY_MODEL_cd5c48d46f1d407ca6f4e0786ab487db"
      }
     },
     "f709d246be674aa29f85b77eee71a2de": {
      "model_module": "@jupyter-widgets/controls",
      "model_module_version": "1.5.0",
      "model_name": "ButtonModel",
      "state": {
       "description": "Reset Compression Controls",
       "layout": "IPY_MODEL_9b87be3554bc4bb3aa0f17523c4f2100",
       "style": "IPY_MODEL_7ed6c97fe640422a9439ab364ff0e0b5"
      }
     },
     "f738164ea4dc4eb2a4c3e290624dcd4f": {
      "model_module": "@jupyter-widgets/controls",
      "model_module_version": "1.5.0",
      "model_name": "FloatSliderModel",
      "state": {
       "description": "Exposure",
       "layout": "IPY_MODEL_ff7f05db9e0e4b9ba961a11bf400d375",
       "max": 8,
       "min": -8,
       "step": 0.1,
       "style": "IPY_MODEL_f5754176c97d46d4b5308cf28570365b"
      }
     },
     "f76b9beace104421a38e3844520174bd": {
      "model_module": "@jupyter-widgets/controls",
      "model_module_version": "1.5.0",
      "model_name": "FloatSliderModel",
      "state": {
       "description": "Compression Threshold",
       "layout": "IPY_MODEL_4c42740341a945f6986550de315b6623",
       "max": 1,
       "step": 0.01,
       "style": "IPY_MODEL_a8bb90d6032d45b980a774226713811b",
       "value": 0.5
      }
     },
     "f79356b8475f45b0b46beaa2621de4b4": {
      "model_module": "@jupyter-widgets/controls",
      "model_module_version": "1.5.0",
      "model_name": "FloatSliderModel",
      "state": {
       "description": "Exposure",
       "layout": "IPY_MODEL_ed47953cfcc044f0b2ba011666a6421f",
       "max": 8,
       "min": -8,
       "step": 0.1,
       "style": "IPY_MODEL_2d14a445ce76405b8d75fd933ad704ae"
      }
     },
     "f79429d7a69b4ae39fee6b4a99ea91f2": {
      "model_module": "@jupyter-widgets/controls",
      "model_module_version": "1.5.0",
      "model_name": "DescriptionStyleModel",
      "state": {
       "description_width": ""
      }
     },
     "f7ea0601e3424b9a91734adc0fb76fc6": {
      "model_module": "@jupyter-widgets/controls",
      "model_module_version": "1.5.0",
      "model_name": "ButtonStyleModel",
      "state": {}
     },
     "f7f01453809c41f98e8cd9a0cc4a068f": {
      "model_module": "@jupyter-widgets/base",
      "model_module_version": "1.2.0",
      "model_name": "LayoutModel",
      "state": {}
     },
     "f821f0ef43b341dd892dc1584f880741": {
      "model_module": "@jupyter-widgets/controls",
      "model_module_version": "1.5.0",
      "model_name": "SliderStyleModel",
      "state": {
       "description_width": ""
      }
     },
     "f827b4d8fcb5407cb8fe13337b9fc3dd": {
      "model_module": "@jupyter-widgets/controls",
      "model_module_version": "1.5.0",
      "model_name": "ButtonStyleModel",
      "state": {}
     },
     "f835fe96559f45e795a380c35607b1f5": {
      "model_module": "@jupyter-widgets/controls",
      "model_module_version": "1.5.0",
      "model_name": "SliderStyleModel",
      "state": {
       "description_width": ""
      }
     },
     "f853ad6cea8b44968aeeaba22a62e4a1": {
      "model_module": "@jupyter-widgets/base",
      "model_module_version": "1.2.0",
      "model_name": "LayoutModel",
      "state": {}
     },
     "f862aa5b9d9a452f9ed2a69204133901": {
      "model_module": "@jupyter-widgets/base",
      "model_module_version": "1.2.0",
      "model_name": "LayoutModel",
      "state": {}
     },
     "f87c1c2421d644129225b19b56cf1c95": {
      "model_module": "@jupyter-widgets/controls",
      "model_module_version": "1.5.0",
      "model_name": "HBoxModel",
      "state": {
       "children": [
        "IPY_MODEL_29b448043b83424e922f1bc277fc117f",
        "IPY_MODEL_84b54bf6bb234c7fb74722e19eb7df1d",
        "IPY_MODEL_24e0d7d1b0be456a9fc9eb906fde8197"
       ],
       "layout": "IPY_MODEL_ce7cf70fd8a344809fc01e3cd4ad01e4"
      }
     },
     "f88b3c86e6ba4acb8dca8f183061b3ed": {
      "model_module": "@jupyter-widgets/base",
      "model_module_version": "1.2.0",
      "model_name": "LayoutModel",
      "state": {}
     },
     "f8a2cd7b42564ed2a0ee39ff6caf6de0": {
      "model_module": "@jupyter-widgets/base",
      "model_module_version": "1.2.0",
      "model_name": "LayoutModel",
      "state": {}
     },
     "f8e43a1bc7ed4be2a0e6f7fa467d72fb": {
      "model_module": "@jupyter-widgets/controls",
      "model_module_version": "1.5.0",
      "model_name": "FloatSliderModel",
      "state": {
       "description": "270°",
       "layout": "IPY_MODEL_c48876cf0cf44aa1a70b07bf73fd339b",
       "max": 1,
       "min": -1,
       "step": 0.01,
       "style": "IPY_MODEL_b635340285c446afaec05e55f2f5ee14"
      }
     },
     "f8f442dcc5f54527b16cef2b768847fc": {
      "model_module": "@jupyter-widgets/base",
      "model_module_version": "1.2.0",
      "model_name": "LayoutModel",
      "state": {}
     },
     "f8f5404691a845dbbc020d1de8c86dd8": {
      "model_module": "@jupyter-widgets/base",
      "model_module_version": "1.2.0",
      "model_name": "LayoutModel",
      "state": {}
     },
     "f906a30305a64400868d779638b84105": {
      "model_module": "@jupyter-widgets/base",
      "model_module_version": "1.2.0",
      "model_name": "LayoutModel",
      "state": {}
     },
     "f917e7ec8a3747fcb29e7c27863e13bf": {
      "model_module": "@jupyter-widgets/base",
      "model_module_version": "1.2.0",
      "model_name": "LayoutModel",
      "state": {}
     },
     "f93dd22110274f74a89458ca2d5f180d": {
      "model_module": "@jupyter-widgets/controls",
      "model_module_version": "1.5.0",
      "model_name": "VBoxModel",
      "state": {
       "children": [
        "IPY_MODEL_477d83f3d92f4988850c1f0795012843"
       ],
       "layout": "IPY_MODEL_de66f4d985274c30854a11a49ff47bca"
      }
     },
     "f93f59aca38b44938c464a6f03058aa9": {
      "model_module": "@jupyter-widgets/base",
      "model_module_version": "1.2.0",
      "model_name": "LayoutModel",
      "state": {}
     },
     "f94075f89805412abb66a56ff12cac90": {
      "model_module": "@jupyter-widgets/controls",
      "model_module_version": "1.5.0",
      "model_name": "ButtonModel",
      "state": {
       "description": "Export Image",
       "layout": "IPY_MODEL_e468da94bb8441c28cf10ff966d33619",
       "style": "IPY_MODEL_4841d58f607045dfa6681fe5a7276ef5"
      }
     },
     "f965ace2420340208d82f091cb47308f": {
      "model_module": "@jupyter-widgets/controls",
      "model_module_version": "1.5.0",
      "model_name": "SliderStyleModel",
      "state": {
       "description_width": ""
      }
     },
     "f96c1e67412b45b8a9a05dcd716b5d97": {
      "model_module": "@jupyter-widgets/base",
      "model_module_version": "1.2.0",
      "model_name": "LayoutModel",
      "state": {}
     },
     "f96cad46e57a4f10ae1107c686aabe8f": {
      "model_module": "@jupyter-widgets/controls",
      "model_module_version": "1.5.0",
      "model_name": "ButtonStyleModel",
      "state": {}
     },
     "f96d53d993ff4b049e4fb6c120cf61f7": {
      "model_module": "@jupyter-widgets/base",
      "model_module_version": "1.2.0",
      "model_name": "LayoutModel",
      "state": {}
     },
     "f98d4bc370df4b318c82aaf537c81717": {
      "model_module": "@jupyter-widgets/base",
      "model_module_version": "1.2.0",
      "model_name": "LayoutModel",
      "state": {}
     },
     "f990e5e215904f318369a160f248cc37": {
      "model_module": "jupyter-matplotlib",
      "model_module_version": "^0.7.2",
      "model_name": "MPLCanvasModel",
      "state": {
       "_figure_label": "Figure 20",
       "_height": 550,
       "_width": 1100,
       "header_visible": false,
       "layout": "IPY_MODEL_38389907e9c2475980e896ed188bb3dd",
       "resizable": false,
       "toolbar": "IPY_MODEL_6a7c92895111407dbf56d260265a4817",
       "toolbar_position": "left",
       "toolbar_visible": false
      }
     },
     "f9b35c8b2b894e50ae7fc91030ae9d1c": {
      "model_module": "@jupyter-widgets/controls",
      "model_module_version": "1.5.0",
      "model_name": "DescriptionStyleModel",
      "state": {
       "description_width": ""
      }
     },
     "f9fc9f748ef9481e9fdb46400e4d5c8e": {
      "model_module": "@jupyter-widgets/controls",
      "model_module_version": "1.5.0",
      "model_name": "ButtonStyleModel",
      "state": {}
     },
     "fa0f1b94eb9343a4b5dd90524eaf995c": {
      "model_module": "@jupyter-widgets/base",
      "model_module_version": "1.2.0",
      "model_name": "LayoutModel",
      "state": {}
     },
     "fac0e9629a844151a17e203aa650e819": {
      "model_module": "@jupyter-widgets/controls",
      "model_module_version": "1.5.0",
      "model_name": "ButtonModel",
      "state": {
       "description": "Reset Saturation Controls",
       "layout": "IPY_MODEL_0f8c1c993bf8428ca7376e674e767d76",
       "style": "IPY_MODEL_ec930ad5345e4a2caf0bca81eceb8b3d"
      }
     },
     "fac7e47324e649a299c099f575a71da0": {
      "model_module": "@jupyter-widgets/base",
      "model_module_version": "1.2.0",
      "model_name": "LayoutModel",
      "state": {}
     },
     "fadc6e59b33f4aecb6781dbddb0bcd66": {
      "model_module": "@jupyter-widgets/controls",
      "model_module_version": "1.5.0",
      "model_name": "HBoxModel",
      "state": {
       "children": [
        "IPY_MODEL_36a48f2bfe1e4f6b9b5f891409782e24",
        "IPY_MODEL_f697328fc32642159e40a6be50beee98"
       ],
       "layout": "IPY_MODEL_4a89b7821d4248afa62fbbcd0b63afcc"
      }
     },
     "faf60843e6ab44fe8f668e06fab2c91c": {
      "model_module": "@jupyter-widgets/base",
      "model_module_version": "1.2.0",
      "model_name": "LayoutModel",
      "state": {}
     },
     "fb0090c6af28423ba0c368c09760f105": {
      "model_module": "@jupyter-widgets/base",
      "model_module_version": "1.2.0",
      "model_name": "LayoutModel",
      "state": {}
     },
     "fb11cb2a7f804b36860c6e190c16a79b": {
      "model_module": "@jupyter-widgets/controls",
      "model_module_version": "1.5.0",
      "model_name": "HBoxModel",
      "state": {
       "children": [
        "IPY_MODEL_d699c0de853745c9b30c395824b516cb",
        "IPY_MODEL_e612b287161f4a2686ac58d5952e2441",
        "IPY_MODEL_c350d9ee976b41cca0aed5b6a71a3fb9",
        "IPY_MODEL_36727a24ff754395b1aec9e23fe9edab"
       ],
       "layout": "IPY_MODEL_ffd46c086a6e4eb09bf331919ed991d5"
      }
     },
     "fb1f2e7192584ad6afbbce1688037a08": {
      "model_module": "@jupyter-widgets/controls",
      "model_module_version": "1.5.0",
      "model_name": "FloatSliderModel",
      "state": {
       "description": "135°",
       "layout": "IPY_MODEL_4f135e0c5afe49ad94ccbf31824f103c",
       "max": 1,
       "min": -1,
       "step": 0.01,
       "style": "IPY_MODEL_5c4a1ca8cd6a442e83ff590816dfb9b7"
      }
     },
     "fb2237342cd240959ae9867d6b25e90f": {
      "model_module": "@jupyter-widgets/controls",
      "model_module_version": "1.5.0",
      "model_name": "FloatSliderModel",
      "state": {
       "description": "180°",
       "layout": "IPY_MODEL_d627c93124ca4b17905422d45cc45482",
       "max": 1,
       "min": -1,
       "step": 0.01,
       "style": "IPY_MODEL_4d8bdeffac1547399b5b7fba9a096296"
      }
     },
     "fb8050b1581a4e129ec539108878d331": {
      "model_module": "@jupyter-widgets/controls",
      "model_module_version": "1.5.0",
      "model_name": "FloatSliderModel",
      "state": {
       "description": "Protected Area Threshold",
       "layout": "IPY_MODEL_e876a4a7175f4209b336232eaadaf79c",
       "max": 1,
       "step": 0.01,
       "style": "IPY_MODEL_e1353d61647c4d9095d72b145e2ea6e3",
       "value": 0.7
      }
     },
     "fb83d07df5c64a908993f1efa6036321": {
      "model_module": "@jupyter-widgets/base",
      "model_module_version": "1.2.0",
      "model_name": "LayoutModel",
      "state": {}
     },
     "fbbcd38b28d141d5a0b8427c49962e0d": {
      "model_module": "@jupyter-widgets/controls",
      "model_module_version": "1.5.0",
      "model_name": "FloatSliderModel",
      "state": {
       "description": "45°",
       "layout": "IPY_MODEL_dffa64c345914baabaefc78a542b15b5",
       "max": 1,
       "min": -1,
       "step": 0.01,
       "style": "IPY_MODEL_1cf7b4215787440f979184401eec9d69"
      }
     },
     "fbd4fa4c5c1f41a8a7dc38e0bec0f2fb": {
      "model_module": "jupyter-matplotlib",
      "model_module_version": "^0.7.2",
      "model_name": "ToolbarModel",
      "state": {
       "layout": "IPY_MODEL_b19022ef04774260a0e2b1f7901052ff",
       "toolitems": [
        [
         "Home",
         "Reset original view",
         "home",
         "home"
        ],
        [
         "Back",
         "Back to previous view",
         "arrow-left",
         "back"
        ],
        [
         "Forward",
         "Forward to next view",
         "arrow-right",
         "forward"
        ],
        [
         "Pan",
         "Pan axes with left mouse, zoom with right",
         "arrows",
         "pan"
        ],
        [
         "Zoom",
         "Zoom to rectangle",
         "square-o",
         "zoom"
        ],
        [
         "Download",
         "Download plot",
         "floppy-o",
         "save_figure"
        ]
       ]
      }
     },
     "fbd5290be1c04de1a75b25d4a1f71f33": {
      "model_module": "@jupyter-widgets/base",
      "model_module_version": "1.2.0",
      "model_name": "LayoutModel",
      "state": {}
     },
     "fc036055ea884f2ca72f9de1c33eb22e": {
      "model_module": "@jupyter-widgets/base",
      "model_module_version": "1.2.0",
      "model_name": "LayoutModel",
      "state": {}
     },
     "fc1af5fc89f74b7dbe620cf23db66e00": {
      "model_module": "@jupyter-widgets/base",
      "model_module_version": "1.2.0",
      "model_name": "LayoutModel",
      "state": {}
     },
     "fc776592e22a4789adddd90f22f21c35": {
      "model_module": "@jupyter-widgets/base",
      "model_module_version": "1.2.0",
      "model_name": "LayoutModel",
      "state": {
       "border": "solid 4px #222",
       "margin": "4px",
       "padding": "0"
      }
     },
     "fce2db4840334123ac83ac89ef61df21": {
      "model_module": "@jupyter-widgets/base",
      "model_module_version": "1.2.0",
      "model_name": "LayoutModel",
      "state": {}
     },
     "fce946cdc0ad4f4188f02225ad959f97": {
      "model_module": "@jupyter-widgets/controls",
      "model_module_version": "1.5.0",
      "model_name": "ButtonStyleModel",
      "state": {}
     },
     "fd3af379bda345f0af530f7d46c1c09c": {
      "model_module": "@jupyter-widgets/controls",
      "model_module_version": "1.5.0",
      "model_name": "FloatSliderModel",
      "state": {
       "description": "Exposure",
       "layout": "IPY_MODEL_4a88986c714d4610b6642b8cd2f1a57b",
       "max": 8,
       "min": -8,
       "step": 0.1,
       "style": "IPY_MODEL_6a031a0b97bd44b38a03838a9558c741"
      }
     },
     "fd4a68758f474f3895e7acf28f22bda8": {
      "model_module": "@jupyter-widgets/base",
      "model_module_version": "1.2.0",
      "model_name": "LayoutModel",
      "state": {}
     },
     "fd5ae10baaf7422da9e05378a0a45424": {
      "model_module": "@jupyter-widgets/base",
      "model_module_version": "1.2.0",
      "model_name": "LayoutModel",
      "state": {}
     },
     "fd72a18301974531912bdefd215c5cd3": {
      "model_module": "@jupyter-widgets/controls",
      "model_module_version": "1.5.0",
      "model_name": "ButtonModel",
      "state": {
       "description": "Reset Saturation Controls",
       "layout": "IPY_MODEL_6c2c07552f13442b82723b3b48464431",
       "style": "IPY_MODEL_b28d908d8ed04165babb39308c1039d2"
      }
     },
     "fd780460dcf64681bbe44980d569a049": {
      "model_module": "@jupyter-widgets/controls",
      "model_module_version": "1.5.0",
      "model_name": "BoxModel",
      "state": {
       "children": [
        "IPY_MODEL_e31eb203b43b4ec196e7eacb8d0c001d",
        "IPY_MODEL_30363da287744071800f82fe78b37d0d"
       ],
       "layout": "IPY_MODEL_91025a0697a7482f8dc325acf85674c0"
      }
     },
     "fdcefcc5a4554760b445444dc1a5380a": {
      "model_module": "@jupyter-widgets/controls",
      "model_module_version": "1.5.0",
      "model_name": "DescriptionStyleModel",
      "state": {
       "description_width": ""
      }
     },
     "fe05b0365ce84e12bb2e8a761367544f": {
      "model_module": "@jupyter-widgets/controls",
      "model_module_version": "1.5.0",
      "model_name": "CheckboxModel",
      "state": {
       "description": "Disable Medicina",
       "disabled": false,
       "layout": "IPY_MODEL_1b008b23dae04e3fb9e148b79142c590",
       "style": "IPY_MODEL_a2bff8a1dbc948009b6773e1adb56364",
       "value": false
      }
     },
     "fe5cc6b48edc4c73bb2e30461547df18": {
      "model_module": "@jupyter-widgets/controls",
      "model_module_version": "1.5.0",
      "model_name": "ButtonStyleModel",
      "state": {}
     },
     "fe681b259b654cbbb0fa2c5a0dc24764": {
      "model_module": "@jupyter-widgets/base",
      "model_module_version": "1.2.0",
      "model_name": "LayoutModel",
      "state": {}
     },
     "fe8918222347486189a76804236327be": {
      "model_module": "@jupyter-widgets/base",
      "model_module_version": "1.2.0",
      "model_name": "LayoutModel",
      "state": {}
     },
     "fe8f80bd14a74a17a0c70151f9fac0b1": {
      "model_module": "@jupyter-widgets/base",
      "model_module_version": "1.2.0",
      "model_name": "LayoutModel",
      "state": {}
     },
     "fe9dc860eb7c44419565e0fac70ab635": {
      "model_module": "@jupyter-widgets/controls",
      "model_module_version": "1.5.0",
      "model_name": "CheckboxModel",
      "state": {
       "description": "Disable Medicina",
       "disabled": false,
       "layout": "IPY_MODEL_66a1c7afdb1746d08f5415723d30bd29",
       "style": "IPY_MODEL_dd459fb201114abe8a06b7abc3b31070",
       "value": false
      }
     },
     "feccdbc11efc47c88e70b93a2b9fcf0c": {
      "model_module": "@jupyter-widgets/controls",
      "model_module_version": "1.5.0",
      "model_name": "FloatSliderModel",
      "state": {
       "description": "Compression Threshold",
       "layout": "IPY_MODEL_3474f7be2e704231a809d1d998596fdc",
       "max": 1,
       "step": 0.01,
       "style": "IPY_MODEL_b6276204e2cd4007b05a75a6885b7d78",
       "value": 0.8
      }
     },
     "feec31f134334e1d85d2a487d496ad81": {
      "model_module": "@jupyter-widgets/base",
      "model_module_version": "1.2.0",
      "model_name": "LayoutModel",
      "state": {}
     },
     "ff431d9f6b0c47539cde771e1ba0d6ce": {
      "model_module": "@jupyter-widgets/base",
      "model_module_version": "1.2.0",
      "model_name": "LayoutModel",
      "state": {}
     },
     "ff542318c0ae43aa876e1b329920250b": {
      "model_module": "@jupyter-widgets/controls",
      "model_module_version": "1.5.0",
      "model_name": "ButtonStyleModel",
      "state": {}
     },
     "ff6e45dcfb824af4a9bd773e9523ca57": {
      "model_module": "@jupyter-widgets/base",
      "model_module_version": "1.2.0",
      "model_name": "LayoutModel",
      "state": {
       "align_items": "stretch",
       "display": "flex",
       "flex_flow": "column",
       "width": "1128px"
      }
     },
     "ff7ad09d4a7f45fe89524057c0ed8a6c": {
      "model_module": "@jupyter-widgets/base",
      "model_module_version": "1.2.0",
      "model_name": "LayoutModel",
      "state": {
       "align_items": "stretch",
       "display": "flex",
       "flex_flow": "column",
       "width": "1128px"
      }
     },
     "ff7f05db9e0e4b9ba961a11bf400d375": {
      "model_module": "@jupyter-widgets/base",
      "model_module_version": "1.2.0",
      "model_name": "LayoutModel",
      "state": {}
     },
     "ff990eb5926c4d399099fdd30467f773": {
      "model_module": "@jupyter-widgets/controls",
      "model_module_version": "1.5.0",
      "model_name": "FloatSliderModel",
      "state": {
       "description": "0°",
       "layout": "IPY_MODEL_d73759f854b2478ab5dd18fc1690991a",
       "max": 1,
       "min": -1,
       "step": 0.01,
       "style": "IPY_MODEL_0f95a168ff8b4136b87cebeb1302db36"
      }
     },
     "ff99ef6cd32f4c27b8f2134ffa0ba37a": {
      "model_module": "@jupyter-widgets/base",
      "model_module_version": "1.2.0",
      "model_name": "LayoutModel",
      "state": {}
     },
     "ffa0628aad344ef5a93a76c97ea1b1d9": {
      "model_module": "@jupyter-widgets/controls",
      "model_module_version": "1.5.0",
      "model_name": "ButtonStyleModel",
      "state": {}
     },
     "ffd46c086a6e4eb09bf331919ed991d5": {
      "model_module": "@jupyter-widgets/base",
      "model_module_version": "1.2.0",
      "model_name": "LayoutModel",
      "state": {}
     }
    },
    "version_major": 2,
    "version_minor": 0
   }
  }
 },
 "nbformat": 4,
 "nbformat_minor": 4
}
