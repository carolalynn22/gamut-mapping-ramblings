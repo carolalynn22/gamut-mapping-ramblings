{
 "cells": [
  {
   "cell_type": "markdown",
   "metadata": {
    "colab_type": "text",
    "id": "pRS6nhpu1R6y"
   },
   "source": [
    "# Gamut Mapping - Medicina 01"
   ]
  },
  {
   "cell_type": "markdown",
   "metadata": {},
   "source": [
    "## Introduction"
   ]
  },
  {
   "cell_type": "markdown",
   "metadata": {},
   "source": [
    "This notebook implements an interactive widget used to investigate various gamut models in the context for the [ACES VWG on Gamut Mapping](https://community.acescentral.com/c/aces-development-acesnext/vwg-aces-gamut-mapping-working-group/).\n",
    "\n",
    "It is assumed that the reader has some knowledge about image processing and colour management pipelines in the Media and Entertainment Industry. An introductory publication on the topic is [Cinematic Color: From Your Monitor to the Big Screen](https://cinematiccolor.org/) by Selan (2012).\n",
    "\n",
    "Because the imagery represents scene-referred exposure values, the gamut mapped images should ideally be exported and viewed with an appropriate *View Transform*, typically an *ACES RRT + sRGB ODT* transform combination.\n",
    "\n",
    "\n",
    "Images courtesy of:\n",
    "\n",
    "- [Thomas Mansencal](https://community.acescentral.com/t/spectral-images-generation-and-processing/)\n",
    "- [Carol Payne](https://www.dropbox.com/sh/u6z2a0jboo4vno8/AAB-10qcflhpr0C5LWhs7Kq4a?dl=0)\n",
    "- [Martin Smekal](https://community.acescentral.com/t/vfx-work-in-acescg-with-out-of-gamut-devices/2385)"
   ]
  },
  {
   "cell_type": "markdown",
   "metadata": {},
   "source": [
    "## Imports & Overall Settings"
   ]
  },
  {
   "cell_type": "code",
   "execution_count": 1,
   "metadata": {},
   "outputs": [],
   "source": [
    "%matplotlib widget"
   ]
  },
  {
   "cell_type": "code",
   "execution_count": 2,
   "metadata": {
    "colab": {
     "base_uri": "https://localhost:8080/",
     "height": 340
    },
    "colab_type": "code",
    "id": "OydMmtZRxd3c",
    "outputId": "297a43b9-f566-405d-e8bc-cfae56b50959"
   },
   "outputs": [
    {
     "name": "stdout",
     "output_type": "stream",
     "text": [
      "===============================================================================\n",
      "*                                                                             *\n",
      "*   Interpreter :                                                             *\n",
      "*       python : 3.7.6 (default, Dec 30 2019, 19:38:26)                       *\n",
      "*                [Clang 11.0.0 (clang-1100.0.33.16)]                          *\n",
      "*                                                                             *\n",
      "*   colour-science.org :                                                      *\n",
      "*       colour : v0.3.15-132-g8ed24e8e                                        *\n",
      "*                                                                             *\n",
      "*   Runtime :                                                                 *\n",
      "*       imageio : 2.8.0                                                       *\n",
      "*       matplotlib : 3.0.3                                                    *\n",
      "*       numpy : 1.18.4                                                        *\n",
      "*       scipy : 1.4.1                                                         *\n",
      "*       six : 1.14.0                                                          *\n",
      "*                                                                             *\n",
      "===============================================================================\n"
     ]
    }
   ],
   "source": [
    "from __future__ import division, unicode_literals\n",
    "\n",
    "import colour\n",
    "import ipympl.backend_nbagg\n",
    "import ipywidgets\n",
    "import matplotlib.gridspec as gridspec\n",
    "import matplotlib.patches as patches\n",
    "import matplotlib.pyplot as plt\n",
    "import numpy as np\n",
    "import os\n",
    "import scipy.interpolate\n",
    "from matplotlib.collections import PathCollection\n",
    "from matplotlib._layoutbox import plot_children\n",
    "\n",
    "DEFAULT_BOX_DECORATION_WIDTH = 4\n",
    "MPL_BOX_DECORATION_WIDTH = 28\n",
    "\n",
    "COLOUR_STYLE = colour.plotting.colour_style()\n",
    "COLOUR_STYLE.update({\n",
    "    'legend.framealpha':\n",
    "    colour.plotting.COLOUR_STYLE_CONSTANTS.opacity.low\n",
    "})\n",
    "\n",
    "plt.style.use(COLOUR_STYLE)\n",
    "\n",
    "plt.style.use('dark_background')\n",
    "\n",
    "colour.utilities.describe_environment()\n",
    "\n",
    "colour.utilities.filter_warnings(*[True] * 4);"
   ]
  },
  {
   "cell_type": "markdown",
   "metadata": {},
   "source": [
    "## Widgets Styling"
   ]
  },
  {
   "cell_type": "markdown",
   "metadata": {},
   "source": [
    "CSS style for various widgets to improve overall presentation."
   ]
  },
  {
   "cell_type": "code",
   "execution_count": 3,
   "metadata": {},
   "outputs": [
    {
     "data": {
      "text/html": [
       "<style>\n",
       ".widget-button {\n",
       "    margin-left: 10px;\n",
       "    margin-right: 10px;\n",
       "}\n",
       "</style>\n"
      ],
      "text/plain": [
       "<IPython.core.display.HTML object>"
      ]
     },
     "metadata": {},
     "output_type": "display_data"
    }
   ],
   "source": [
    "%%html\n",
    "<style>\n",
    ".widget-button {\n",
    "    margin-left: 10px;\n",
    "    margin-right: 10px;\n",
    "}\n",
    "</style>"
   ]
  },
  {
   "cell_type": "markdown",
   "metadata": {
    "colab_type": "text",
    "id": "5yCeFpnnp_wh"
   },
   "source": [
    "## Colour Wheel Generation"
   ]
  },
  {
   "cell_type": "markdown",
   "metadata": {},
   "source": [
    "Utility function responsible to produce a scene-referred colour wheel."
   ]
  },
  {
   "cell_type": "code",
   "execution_count": 4,
   "metadata": {
    "colab": {},
    "colab_type": "code",
    "id": "RshonIbOI4Ij"
   },
   "outputs": [],
   "source": [
    "def colour_wheel(samples=1024, clip_circle=False, method='Colour'):\n",
    "    xx, yy = np.meshgrid(\n",
    "        np.linspace(-1, 1, samples), np.linspace(-1, 1, samples))\n",
    "\n",
    "    S = np.sqrt(xx ** 2 + yy ** 2)    \n",
    "    H = (np.arctan2(xx, yy) + np.pi) / (np.pi * 2)\n",
    "\n",
    "    HSV = colour.utilities.tstack([H, S, np.ones(H.shape)])\n",
    "    RGB = colour.HSV_to_RGB(HSV)\n",
    "\n",
    "    if clip_circle == True:\n",
    "        RGB[S > 1] = 0\n",
    "        A = np.where(S > 1, 0, 1)\n",
    "    else:\n",
    "        A = np.ones(S.shape)\n",
    "\n",
    "    if method.lower()== 'matplotlib':\n",
    "        RGB = colour.utilities.orient(RGB, '90 CW')\n",
    "    elif method.lower()== 'nuke':\n",
    "        RGB = colour.utilities.orient(RGB, 'Flip')\n",
    "        RGB = colour.utilities.orient(RGB, '90 CW')\n",
    "\n",
    "    R, G, B = colour.utilities.tsplit(RGB)\n",
    "    \n",
    "    return colour.utilities.tstack([R, G, B, A])"
   ]
  },
  {
   "cell_type": "markdown",
   "metadata": {},
   "source": [
    "## Utility Functions & Objects"
   ]
  },
  {
   "cell_type": "markdown",
   "metadata": {},
   "source": [
    "Various random utility functions and objects."
   ]
  },
  {
   "cell_type": "code",
   "execution_count": 5,
   "metadata": {},
   "outputs": [],
   "source": [
    "def batch(sequence, count):\n",
    "    for i in range(0, len(sequence), count):\n",
    "        yield sequence[i:i + count]\n",
    "        \n",
    "\n",
    "def border_layout():\n",
    "    return ipywidgets.widgets.Layout(\n",
    "        border='solid {0}px #222'.format(4),\n",
    "        margin='{0}px'.format(DEFAULT_BOX_DECORATION_WIDTH),\n",
    "        padding='0')\n",
    "\n",
    "\n",
    "def adjust_exposure(a, EV):\n",
    "    a = colour.utilities.as_float_array(a)\n",
    "\n",
    "    return a * pow(2, EV)"
   ]
  },
  {
   "cell_type": "markdown",
   "metadata": {},
   "source": [
    "## Gamut Medicina Base Widget"
   ]
  },
  {
   "cell_type": "markdown",
   "metadata": {},
   "source": [
    "The `GamutMedicinaBaseWidget` base widget class is inherited by the concrete sub-classes implementing the various gamut mapping study models.\n",
    "\n",
    "At its core it is itself an `ipywidgets.widgets.Box` sub-class which outputs a [Matplotlib](http://matplotlib.org/) figure composed of three sub-plots:\n",
    "\n",
    "- **Reference Image**: Required, 1 cartesian `Axes`\n",
    "- **Colour Wheel**: Optional, 1 cartesian `Axes` and 1 polar `Axes`\n",
    "- **Chromaticity Diagram**: Optional, 1 cartesian `Axes`\n",
    "\n",
    "Trivial layout heuristic is implemented to support optionally enabling or disabling the **Colour Wheel** and **Chromaticity Diagram** sub-plots."
   ]
  },
  {
   "cell_type": "markdown",
   "metadata": {},
   "source": [
    "### Reference Image"
   ]
  },
  {
   "cell_type": "markdown",
   "metadata": {},
   "source": [
    "The **Reference Image** sub-plot is responsible for displaying the gamut mapped scene-referred imagery.\n",
    "\n",
    "*Note*\n",
    "\n",
    "> To improve the performance of the notebook, the *View Transform*, i.e. a S-Curve, converting the scene-referred imagery to output-referred values is omitted."
   ]
  },
  {
   "cell_type": "markdown",
   "metadata": {},
   "source": [
    "### Colour Wheel"
   ]
  },
  {
   "cell_type": "markdown",
   "metadata": {},
   "source": [
    "The **Colour Wheel** sub-plot is used to represent the controls for the gamut mapping study models adopting a cylindrical or conic working space.\n",
    "\n",
    "The colour wheel is drawn on a cartesian `Axes` on top of which is overlayed a polar `Axes` used to draw the control regions."
   ]
  },
  {
   "cell_type": "markdown",
   "metadata": {},
   "source": [
    "### Chromaticity Diagram"
   ]
  },
  {
   "cell_type": "markdown",
   "metadata": {},
   "source": [
    "The **Chromaticity Diagram** sub-plot is also used to represent the controls for the gamut mapping study models into the *Chromaticity Diagram 1976 UCS* based on the [CIE L\\*u\\*v\\*](https://fr.wikipedia.org/wiki/L*u*v*_CIE_1976) colourspace.\n",
    "\n",
    "It also features the following elements:\n",
    "\n",
    "- *RGB Working Space* gamut, i.e. *ACEScg/AP1*, large triangle\n",
    "- *RGB Display Space* gamut, i.e. *sRGB*, small triangle\n",
    "- Scatter of the decimated **Reference Image** data\n",
    "- Scatter of the ColorChecker Classic data, white scatter points\n"
   ]
  },
  {
   "cell_type": "code",
   "execution_count": 6,
   "metadata": {},
   "outputs": [
    {
     "data": {
      "application/vnd.jupyter.widget-view+json": {
       "model_id": "8be34f7865904490adb0fd0f465b482d",
       "version_major": 2,
       "version_minor": 0
      },
      "text/plain": [
       "GamutMedicinaBaseWidget(children=(Output(layout=Layout(border='solid 4px #222', margin='4px', padding='0')), T…"
      ]
     },
     "metadata": {},
     "output_type": "display_data"
    }
   ],
   "source": [
    "class GamutMedicinaBaseWidget(ipywidgets.widgets.Box):\n",
    "    def __init__(self,\n",
    "                 reference_image_path=None,\n",
    "                 working_space=colour.models.ACES_CG_COLOURSPACE,\n",
    "                 reference_space=colour.models.ACES_2065_1_COLOURSPACE,\n",
    "                 display_space=colour.models.sRGB_COLOURSPACE,\n",
    "                 colour_wheel_samples=256,\n",
    "                 image_decimation=10,\n",
    "                 reference_image_exposure=0,\n",
    "                 figure_size=(11, None),\n",
    "                 padding=0.005,\n",
    "                 spacing=0.005,\n",
    "                 show_labels=False,\n",
    "                 enable_colour_wheel=True,\n",
    "                 enable_chromaticity_diagram=True,\n",
    "                 debug_layout=False):\n",
    "        super().__init__()\n",
    "\n",
    "        self._reference_image_path = reference_image_path\n",
    "        self._working_space = working_space\n",
    "        self._reference_space = reference_space\n",
    "        self._display_space = display_space\n",
    "        self._colour_wheel_samples = colour_wheel_samples\n",
    "        self._image_decimation = image_decimation\n",
    "        self._reference_image_exposure = reference_image_exposure\n",
    "        self._figure_size = figure_size\n",
    "        self._padding = padding\n",
    "        self._spacing = spacing\n",
    "        self._show_labels = show_labels\n",
    "        self._enable_colour_wheel = enable_colour_wheel\n",
    "        self._enable_chromaticity_diagram = enable_chromaticity_diagram\n",
    "\n",
    "        self._enable = True\n",
    "\n",
    "        self._reference_image = None\n",
    "        self._reference_image_pre_working = None\n",
    "        self._reference_image_working = None\n",
    "        self._reference_image_mapped = None\n",
    "        self._reference_image_display = None\n",
    "\n",
    "        if self._enable_colour_wheel:\n",
    "            self._colour_wheel = None\n",
    "\n",
    "        if self._enable_chromaticity_diagram:\n",
    "            self._decimated_image_pre_working = None\n",
    "            self._decimated_image_working = None\n",
    "            self._decimated_image_display = None\n",
    "\n",
    "        self._colour_checker = None\n",
    "        self._colour_checker_uv = None\n",
    "\n",
    "        self._output = None\n",
    "        self._figure = None\n",
    "        self._grid_spec = None\n",
    "        self._reference_image_axes = None\n",
    "        self._reference_image_imshow = None\n",
    "\n",
    "        if self._enable_colour_wheel:\n",
    "            self._colour_wheel_cartersian_axes = None\n",
    "            self._colour_wheel_imshow = None\n",
    "            self._colour_wheel_polar_axes = None\n",
    "\n",
    "        if self._enable_chromaticity_diagram:\n",
    "            self._chromaticity_diagram_axes = None\n",
    "            self._scatter_offsets_i = None\n",
    "            self._scatter_facecolor_i = None\n",
    "\n",
    "        self._disable_medidicina_CheckBox = None\n",
    "        self._global_controls_HBox = None\n",
    "        self._controls_Tab = None\n",
    "\n",
    "        self.initialize_data()\n",
    "        self.initialize_axes()\n",
    "        self.initialise_widgets()\n",
    "        self.attach_callbacks()\n",
    "\n",
    "        if debug_layout:\n",
    "            plot_children(self._figure, self._figure._layoutbox, printit=False)\n",
    "\n",
    "    def initialize_data(self):\n",
    "        # *** Reference Image ***\n",
    "        self._reference_image = (colour.read_image(self._reference_image_path)\n",
    "                                 if self._reference_image_path is not None else\n",
    "                                 np.random.rand(540, 960, 3))\n",
    "        self._reference_image_path = (self._reference_image_path\n",
    "                                      if self._reference_image_path is not None\n",
    "                                      else 'Random.exr')\n",
    "        self._reference_image_pre_working = self.reference_space_to_working_space(\n",
    "            self._reference_image)\n",
    "        self._reference_image_working = self._reference_image_pre_working\n",
    "        self._reference_image_mapped =self._reference_image_pre_working\n",
    "        self._reference_image_display = self.working_space_to_display_space(\n",
    "            self._reference_image_working)\n",
    "\n",
    "        # *** Colour Wheel ***\n",
    "        if self._enable_colour_wheel:\n",
    "            self._colour_wheel = colour_wheel(\n",
    "                self._colour_wheel_samples,\n",
    "                method='Matplotlib')\n",
    "\n",
    "        # *** Decimated Image, i.e. Scatter ***\n",
    "        if self._enable_chromaticity_diagram:\n",
    "            self._decimated_image_pre_working = (\n",
    "                self._reference_image_working[::self._image_decimation, ::\n",
    "                                              self._image_decimation, :]).reshape(-1, 3)\n",
    "            self._decimated_image_working = self._decimated_image_pre_working\n",
    "            self._decimated_image_display = (\n",
    "                self.working_space_to_display_space(\n",
    "                    self._decimated_image_working))\n",
    "\n",
    "        # *** Colour Checker\n",
    "        colour_checker = colour.COLOURCHECKERS[\n",
    "            'ColorChecker24 - After November 2014']\n",
    "        colour_checker_data = colour.utilities.as_float_array(\n",
    "            list(colour_checker.data.values()))\n",
    "        self._colour_checker_uv = colour.xy_to_Luv_uv(\n",
    "            colour_checker_data[:, 0:2])\n",
    "\n",
    "    def initialize_axes(self):\n",
    "        self._output = ipywidgets.widgets.Output()\n",
    "\n",
    "        image_height, image_width, channels = self._reference_image.shape\n",
    "        if self._figure_size[-1] is None:\n",
    "            if self._enable_colour_wheel and self._enable_chromaticity_diagram:\n",
    "                width = image_height / 2 + image_width\n",
    "                height = image_height - self._padding * 100 - self._spacing * 100\n",
    "                # Unresolved fudge factor to ensure plots line up.\n",
    "                height -= int(height * 0.05)\n",
    "            elif self._enable_colour_wheel or self._enable_chromaticity_diagram:\n",
    "                width = image_height + image_width\n",
    "                height = image_height\n",
    "            else:\n",
    "                width = image_width\n",
    "                height = image_height\n",
    "            ratio = self._figure_size[0] * 100 / width\n",
    "            figure_size = (width / 100 * ratio, height / 100 * ratio)\n",
    "        else:\n",
    "            figure_size = self._figure_size\n",
    "\n",
    "        with self._output:\n",
    "            self._figure = plt.figure(\n",
    "                figsize=figure_size,\n",
    "                constrained_layout=True,\n",
    "                facecolor=[2 / 3 / 10] * 3)\n",
    "            self._figure.canvas.toolbar_visible = False\n",
    "            self._figure.canvas.header_visible = False\n",
    "            self._figure.canvas.footer_visible = True\n",
    "            self._figure.canvas.resizable = False\n",
    "            self._figure.tight_layout()\n",
    "\n",
    "        if self._enable_colour_wheel and self._enable_chromaticity_diagram:\n",
    "            rows = columns = 2\n",
    "            colour_wheel_indices = 0, 0\n",
    "            chromaticity_diagram_indices = 1, 0\n",
    "            reference_image_indices = slice(0, None, None), slice(\n",
    "                1, None, None)\n",
    "            width_ratios = [1, 2 * image_width / image_height]\n",
    "        elif not self._enable_colour_wheel and not self._enable_chromaticity_diagram:\n",
    "            rows = columns = 1\n",
    "            colour_wheel_indices = chromaticity_diagram_indices = None\n",
    "            reference_image_indices = 0, 0\n",
    "            width_ratios = [1]\n",
    "        else:\n",
    "            rows = 1\n",
    "            columns = 2\n",
    "            colour_wheel_indices = chromaticity_diagram_indices = 0, 0\n",
    "            reference_image_indices = 0, 1\n",
    "            width_ratios = [1, image_width / image_height]\n",
    "\n",
    "        self._grid_spec = gridspec.GridSpec(\n",
    "            ncols=columns,\n",
    "            nrows=rows,\n",
    "            figure=self._figure,\n",
    "            width_ratios=width_ratios,\n",
    "            wspace=self._spacing,\n",
    "            hspace=self._spacing)\n",
    "        self._figure.set_constrained_layout_pads(\n",
    "            w_pad=self._padding,\n",
    "            h_pad=self._padding)\n",
    "\n",
    "        # Colour Wheel Axes\n",
    "        if self._enable_colour_wheel:\n",
    "            self._colour_wheel_cartersian_axes = self._figure.add_subplot(\n",
    "                self._grid_spec[colour_wheel_indices[0], colour_wheel_indices[\n",
    "                    1]],\n",
    "                label='Cartesian Axes')\n",
    "            self._colour_wheel_cartersian_axes.axis('off')\n",
    "            circle = patches.Circle(\n",
    "                [0.5, 0.5], radius=0.5, transform=self._colour_wheel_cartersian_axes.transData)\n",
    "            self._colour_wheel_imshow = self._colour_wheel_cartersian_axes.imshow(\n",
    "                np.clip(self._colour_wheel, 0, 1), extent=[0, 1, 0, 1], clip_path=None)\n",
    "            self._colour_wheel_imshow.set_clip_path(circle)\n",
    "\n",
    "            self._colour_wheel_polar_axes = self._figure.add_subplot(\n",
    "                self._grid_spec[colour_wheel_indices[0], colour_wheel_indices[\n",
    "                    1]],\n",
    "                projection='polar',\n",
    "                label='Polar Axes')\n",
    "            self._colour_wheel_polar_axes.set_xlim(0, np.pi * 2)\n",
    "            self._colour_wheel_polar_axes.set_ylim(0, 1)\n",
    "            self._colour_wheel_polar_axes.patch.set_alpha(0)\n",
    "            self._colour_wheel_polar_axes.grid(alpha=0.15)\n",
    "            if not self._show_labels:\n",
    "                self._colour_wheel_polar_axes.set_xticklabels([])\n",
    "            self._colour_wheel_polar_axes.set_yticklabels([])\n",
    "\n",
    "        # Chromaticity Diagram Axes\n",
    "        if self._enable_chromaticity_diagram:\n",
    "            self._chromaticity_diagram_axes = self._figure.add_subplot(\n",
    "                self._grid_spec[chromaticity_diagram_indices[0],\n",
    "                                chromaticity_diagram_indices[1]])\n",
    "            self._chromaticity_diagram_axes.patch.set_alpha(0)\n",
    "            (colour.plotting.\n",
    "             plot_RGB_chromaticities_in_chromaticity_diagram_CIE1976UCS(\n",
    "                 self._decimated_image_working,\n",
    "                 colourspace=self._working_space,\n",
    "                 colourspaces=['sRGB'],\n",
    "                 axes=self._chromaticity_diagram_axes,\n",
    "                 standalone=False,\n",
    "                 transparent_background=False,\n",
    "                 spectral_locus_colours='RGB',\n",
    "                 spectral_locus_labels=[],\n",
    "                 diagram_opacity=0,\n",
    "                 scatter_kwargs={'s': 1},\n",
    "                 title=str(),\n",
    "                 x_label=str(),\n",
    "                 y_label=str(),\n",
    "                 legend=False))\n",
    "            self._chromaticity_diagram_axes.tick_params(\n",
    "                axis='y', which='both', direction='in')\n",
    "            self._chromaticity_diagram_axes.tick_params(\n",
    "                axis='x', which='both', direction='in')\n",
    "            self._chromaticity_diagram_axes.minorticks_off()\n",
    "            self._chromaticity_diagram_axes.grid(alpha=0.15)\n",
    "            for collection in self._chromaticity_diagram_axes.collections:\n",
    "                if isinstance(collection, PathCollection):\n",
    "                    self._scatter_path_collection = collection\n",
    "                    break\n",
    "            \n",
    "            if not self._show_labels:\n",
    "                self._chromaticity_diagram_axes.set_xticklabels([])\n",
    "                self._chromaticity_diagram_axes.set_yticklabels([])\n",
    "\n",
    "            self._scatter_offsets_i = self._scatter_path_collection.get_offsets(\n",
    "            )\n",
    "            self._scatter_facecolor_i = self._scatter_path_collection.get_facecolor(\n",
    "            )\n",
    "            self._chromaticity_diagram_axes.scatter(\n",
    "                self._colour_checker_uv[:, 0],\n",
    "                self._colour_checker_uv[:, 1],\n",
    "                c='white',\n",
    "                marker='D',\n",
    "                s=5)\n",
    "\n",
    "        # Reference Image Axes\n",
    "        self._reference_image_axes = self._figure.add_subplot(self._grid_spec[\n",
    "            reference_image_indices[0], reference_image_indices[1]])\n",
    "        self._reference_image_axes.set_xticks([])\n",
    "        self._reference_image_axes.set_yticks([])\n",
    "        self._reference_image_imshow = self._reference_image_axes.imshow(\n",
    "            self.working_space_to_display_space(self._reference_image_working))\n",
    "\n",
    "    def initialise_widgets(self):\n",
    "        # *** Widgets ***\n",
    "        self._disable_medidicina_CheckBox = (\n",
    "            ipywidgets.widgets.Checkbox(description='Disable Medicina'))\n",
    "        self._export_reference_image_Button = (\n",
    "            ipywidgets.widgets.Button(description=\"Export Image\"))\n",
    "        self._save_figure_image_Button = (\n",
    "            ipywidgets.widgets.Button(description=\"Save Figure\"))\n",
    "        self._exposure_FloatSlider = (\n",
    "            ipywidgets.widgets.FloatSlider(\n",
    "                min=-8.0,\n",
    "                max=8.0,\n",
    "                step=0.1,\n",
    "                value=self._reference_image_exposure,\n",
    "                description='Exposure'))\n",
    "        \n",
    "        # *** Layout ***\n",
    "        self.layout.display = 'flex'\n",
    "        self.layout.flex_flow = 'column'\n",
    "        self.layout.align_items = 'stretch'\n",
    "        self.layout.width = '{0}px'.format(self._figure_size[0] * 100 +\n",
    "                                           MPL_BOX_DECORATION_WIDTH)\n",
    "\n",
    "        self._global_controls_HBox = ipywidgets.widgets.HBox([\n",
    "            self._disable_medidicina_CheckBox,\n",
    "            self._export_reference_image_Button,\n",
    "            self._save_figure_image_Button,\n",
    "            self._exposure_FloatSlider,\n",
    "        ])\n",
    "\n",
    "        self._controls_Tab = ipywidgets.widgets.Tab(children=[\n",
    "            self._global_controls_HBox,\n",
    "        ])\n",
    "        self._controls_Tab.set_title(0, 'Global Controls')\n",
    "\n",
    "        self._controls_Tab.layout = border_layout()\n",
    "\n",
    "        self._output.layout = border_layout()\n",
    "        self.children = [self._output, self._controls_Tab]\n",
    "\n",
    "    def attach_callbacks(self):\n",
    "        self._disable_medidicina_CheckBox.observe(self.toggle_medidicina)\n",
    "        self._export_reference_image_Button.on_click(\n",
    "            self.export_reference_image)\n",
    "        self._save_figure_image_Button.on_click(self.save_figure)\n",
    "        self._exposure_FloatSlider.observe(\n",
    "            self.set_exposure, 'value')\n",
    "\n",
    "    def reference_space_to_working_space(self, RGB):\n",
    "        return colour.RGB_to_RGB(RGB, self._reference_space,\n",
    "                                 self._working_space)\n",
    "\n",
    "    def working_space_to_reference_space(self, RGB):\n",
    "        return colour.RGB_to_RGB(RGB, self._working_space,\n",
    "                                 self._reference_space)\n",
    "\n",
    "    def working_space_to_display_space(self,\n",
    "                                       RGB,\n",
    "                                       apply_encoding_cctf=True,\n",
    "                                       clip=True):\n",
    "        RGB = colour.RGB_to_RGB(\n",
    "            RGB,\n",
    "            self._working_space,\n",
    "            self._display_space,\n",
    "            apply_encoding_cctf=apply_encoding_cctf)\n",
    "\n",
    "        if clip:\n",
    "            return np.clip(RGB, 0, 1)\n",
    "        else:\n",
    "            return RGB\n",
    "\n",
    "    def update_scatter_plot(self, RGB):\n",
    "        if self._enable_chromaticity_diagram:\n",
    "            RGB = RGB[RGB[:, 1].argsort()]\n",
    "            XYZ = colour.RGB_to_XYZ(RGB, self._working_space.whitepoint,\n",
    "                                    self._working_space.whitepoint,\n",
    "                                    self._working_space.RGB_to_XYZ_matrix)\n",
    "            uv = colour.Luv_to_uv(\n",
    "                colour.XYZ_to_Luv(XYZ, self._working_space.whitepoint),\n",
    "                self._working_space.whitepoint)\n",
    "            self._scatter_path_collection.set_offsets(uv)\n",
    "            self._scatter_path_collection.set_facecolor(\n",
    "                self.working_space_to_display_space(RGB))\n",
    "\n",
    "    def toggle_medidicina(self, change):\n",
    "        if not change:\n",
    "            return\n",
    "\n",
    "        if change['name'] == 'value':\n",
    "            self._enable = not change['new']\n",
    "\n",
    "            self.update_widget(None)\n",
    "\n",
    "    def export_reference_image(self, change):\n",
    "        path = os.path.splitext(self._reference_image_path)[0]\n",
    "\n",
    "        colour.write_image(\n",
    "            self.working_space_to_reference_space(\n",
    "                self._reference_image_mapped), '{0}_{1}.exr'.format(\n",
    "                    path, self.__class__.__name__))\n",
    "\n",
    "    def save_figure(self, change):\n",
    "        path = os.path.splitext(self._reference_image_path)[0]\n",
    "        plt.savefig('{0}_{1}.png'.format(path, self.__class__.__name__),\n",
    "                   facecolor=[2 / 3 / 10] * 3, transparent=False, bbox_inches='tight')\n",
    "\n",
    "    def set_exposure(self, change):\n",
    "        if not change:\n",
    "            return\n",
    "\n",
    "        if change['name'] == 'value':\n",
    "            EV = self._exposure_FloatSlider.value\n",
    "            self._reference_image_working = adjust_exposure(\n",
    "                self._reference_image_pre_working, EV)\n",
    "\n",
    "            if self._enable_chromaticity_diagram:\n",
    "                self._decimated_image_working = adjust_exposure(\n",
    "                self._decimated_image_pre_working, EV)\n",
    "            \n",
    "            self.update_widget(None)\n",
    "\n",
    "    def update_widget(self, change):\n",
    "        if not self._enable:\n",
    "            self._reference_image_imshow.set_data(self.working_space_to_display_space(\n",
    "                self._reference_image_working))\n",
    "        \n",
    "            if self._enable_chromaticity_diagram:\n",
    "                self.update_scatter_plot(self._decimated_image_working)\n",
    "\n",
    "            self._figure.canvas.draw_idle()\n",
    "\n",
    "\n",
    "GamutMedicinaBaseWidget()"
   ]
  },
  {
   "cell_type": "code",
   "execution_count": 7,
   "metadata": {},
   "outputs": [
    {
     "data": {
      "application/vnd.jupyter.widget-view+json": {
       "model_id": "fb6205aa0271497e945512e9d312886d",
       "version_major": 2,
       "version_minor": 0
      },
      "text/plain": [
       "GamutMedicinaBaseWidget(children=(Output(layout=Layout(border='solid 4px #222', margin='4px', padding='0')), T…"
      ]
     },
     "metadata": {},
     "output_type": "display_data"
    }
   ],
   "source": [
    "GamutMedicinaBaseWidget(enable_colour_wheel=False)"
   ]
  },
  {
   "cell_type": "code",
   "execution_count": 8,
   "metadata": {},
   "outputs": [
    {
     "data": {
      "application/vnd.jupyter.widget-view+json": {
       "model_id": "a6345c7f18704ec693c8833b5d38b91a",
       "version_major": 2,
       "version_minor": 0
      },
      "text/plain": [
       "GamutMedicinaBaseWidget(children=(Output(layout=Layout(border='solid 4px #222', margin='4px', padding='0')), T…"
      ]
     },
     "metadata": {},
     "output_type": "display_data"
    }
   ],
   "source": [
    "GamutMedicinaBaseWidget(enable_chromaticity_diagram=False)"
   ]
  },
  {
   "cell_type": "code",
   "execution_count": 9,
   "metadata": {},
   "outputs": [
    {
     "data": {
      "application/vnd.jupyter.widget-view+json": {
       "model_id": "4cc24ab077e34879af4939553bde322e",
       "version_major": 2,
       "version_minor": 0
      },
      "text/plain": [
       "GamutMedicinaBaseWidget(children=(Output(layout=Layout(border='solid 4px #222', margin='4px', padding='0')), T…"
      ]
     },
     "metadata": {},
     "output_type": "display_data"
    }
   ],
   "source": [
    "GamutMedicinaBaseWidget(\n",
    "    enable_colour_wheel=False, enable_chromaticity_diagram=False)"
   ]
  },
  {
   "cell_type": "markdown",
   "metadata": {},
   "source": [
    "## Compression & Blending Functions"
   ]
  },
  {
   "cell_type": "markdown",
   "metadata": {},
   "source": [
    "Gamut mapping commonly involves compressing data from a larger space to a smaller space.\n",
    "\n",
    "Two compression functions are defined:\n",
    "\n",
    "- **Hyperbolic Tangent** (tanh), a function based on the *Hyperbolic Tangent*:\n",
    "\n",
    "$$a + b \\cdot tanh\\bigg(\\cfrac{x - a}{b}\\bigg)$$ where $a$ is the compression threshold, i.e. where the function starts compressing the value $x$ and $b$ is the compression limit, i.e. where the compression has reached its limit.\n",
    "\n",
    "- **Simple** (simple), a function based on the *Hyperbolic Tangent*:\n",
    "\n",
    "$$a + \\Bigg(\\cfrac{-1}{\\bigg(\\cfrac{x - a}{b} + 1\\bigg)} + 1 \\Bigg) \\cdot b$$"
   ]
  },
  {
   "cell_type": "code",
   "execution_count": 10,
   "metadata": {},
   "outputs": [],
   "source": [
    "def tanh_compression_function(x, a=0.8, b=1 - 0.8):\n",
    "    x = colour.utilities.as_float_array(x)\n",
    "\n",
    "    return np.where(x > a, a + b * np.tanh((x - a) / b), x)\n",
    "\n",
    "\n",
    "def simple_compression_function(x, a=0.8, b=1 - 0.8):\n",
    "    x = colour.utilities.as_float_array(x)\n",
    "\n",
    "    return np.where(x > a, a + (-1 / ((x - a) / b + 1) + 1) * b, x)\n",
    "\n",
    "\n",
    "COMPRESSION_FUNCTIONS = {\n",
    "    'tanh' : tanh_compression_function,\n",
    "    'simple' : simple_compression_function,\n",
    "}\n",
    "\n",
    "\n",
    "def smoothstep(x, a=0, b=1):\n",
    "    i = np.clip((x - a) / (b - a), 0, 1)\n",
    "\n",
    "    return i**2 * (3 - 2 * i)\n",
    "\n",
    "\n",
    "def derivative(x, func, d=1e-7):\n",
    "    return (func(x + d) - func(x - d)) / (2 * d)"
   ]
  },
  {
   "cell_type": "code",
   "execution_count": 11,
   "metadata": {},
   "outputs": [
    {
     "data": {
      "application/vnd.jupyter.widget-view+json": {
       "model_id": "8413e00cebfb4821bd9539dc87464343",
       "version_major": 2,
       "version_minor": 0
      },
      "text/plain": [
       "Canvas(toolbar=Toolbar(toolitems=[('Home', 'Reset original view', 'home', 'home'), ('Back', 'Back to previous …"
      ]
     },
     "metadata": {},
     "output_type": "display_data"
    }
   ],
   "source": [
    "colour.plotting.plot_multi_functions(\n",
    "    {\n",
    "        'tanh': tanh_compression_function,\n",
    "        'd/dx(tanh)': lambda x: derivative(x, tanh_compression_function),\n",
    "        'simple': simple_compression_function,\n",
    "        'd/dx(simple)': lambda x: derivative(x, simple_compression_function),\n",
    "    },\n",
    "    **{\n",
    "        'figure.figsize': (11, 11),\n",
    "        'samples':\n",
    "        np.linspace(0, 2, 1000),\n",
    "        'plot_kwargs': [\n",
    "            {\n",
    "                'c': 'r',\n",
    "                'linestyle': 'dashdot'\n",
    "            },\n",
    "            {\n",
    "                'c': 'r'\n",
    "            },\n",
    "            {\n",
    "                'c': 'g',\n",
    "                'linestyle': 'dashdot'\n",
    "            },\n",
    "            {\n",
    "                'c': 'g'\n",
    "            },\n",
    "        ]\n",
    "    },\n",
    ");"
   ]
  },
  {
   "cell_type": "markdown",
   "metadata": {},
   "source": [
    "## Mansencal and Scharfenberg (2020) - HSV Control Based Study Model"
   ]
  },
  {
   "cell_type": "markdown",
   "metadata": {},
   "source": [
    "*Mansencal and Scharfenberg (2020)* gamut mapping study model is built on top of the [HSV colourspace](https://en.wikipedia.org/wiki/HSL_and_HSV):\n",
    "\n",
    "- Scene-referred RGB exposure values are converted to HSV.\n",
    "- The saturation component $S$ is compressed with a cherry-picked compression function, e.g. $tanh$.\n",
    "- The hue component $H$ is warped according to user defined control values.\n",
    "- The HSV values are converted back to scene-referred RGB exposure values and then blended with the original scene-referred RGB exposure values function through a smoothstep function.\n",
    "\n",
    "The model offers good controls but might tend to exhibit excessive saturation of secondary colours, i.e. cyan, yellow and especially magenta.\n",
    "This can be tuned with the hue controls.\n",
    "\n",
    "More information is available on [ACEScentral](https://community.acescentral.com/t/gamut-mapping-in-cylindrical-and-conic-spaces/)."
   ]
  },
  {
   "cell_type": "code",
   "execution_count": 12,
   "metadata": {},
   "outputs": [
    {
     "data": {
      "application/vnd.jupyter.widget-view+json": {
       "model_id": "d1d1ae2511144a55980d80661cecad1d",
       "version_major": 2,
       "version_minor": 0
      },
      "text/plain": [
       "GamutMedicinaHSVControlWidget(children=(Output(layout=Layout(border='solid 4px #222', margin='4px', padding='0…"
      ]
     },
     "metadata": {},
     "output_type": "display_data"
    }
   ],
   "source": [
    "def medicina_HSV_control(RGB, H, S, V, H_x, H_y, S_c, S_m, C_f, HSV_to_RGB):\n",
    "    S_m = S_m[..., np.newaxis]\n",
    "\n",
    "    interpolator = scipy.interpolate.interp1d(H_x, H_y)\n",
    "\n",
    "    HSV_c = colour.utilities.tstack(\n",
    "        [interpolator(H) % 1, C_f(S, S_c, 1 - S_c), V])\n",
    "\n",
    "    return HSV_to_RGB(HSV_c) * S_m + RGB * (1 - S_m)\n",
    "\n",
    "\n",
    "class GamutMedicinaHSVControlWidget(GamutMedicinaBaseWidget):\n",
    "    def __init__(self,\n",
    "                 reference_image=None,\n",
    "                 hue_wedge=45,\n",
    "                 protected_area_threshold=0.7,\n",
    "                 compression_threshold=0.8,\n",
    "                 compression_function='tanh',\n",
    "                 RGB_to_HSV=colour.RGB_to_HSV,\n",
    "                 HSV_to_RGB=colour.HSV_to_RGB,\n",
    "                 *args,\n",
    "                 **kwargs):\n",
    "\n",
    "        self._hue_wedge = hue_wedge\n",
    "        self._protected_area_threshold = protected_area_threshold\n",
    "        self._compression_threshold = compression_threshold\n",
    "        self._compression_function = compression_function\n",
    "\n",
    "        self.RGB_to_HSV = RGB_to_HSV\n",
    "        self.HSV_to_RGB = HSV_to_RGB\n",
    "\n",
    "        super().__init__(reference_image, *args, **kwargs)\n",
    "\n",
    "        self._RGB_r = None\n",
    "        self._H_r = self._S_r = self._V_r = None\n",
    "        self._S_r_m = None\n",
    "\n",
    "        if self._enable_colour_wheel:\n",
    "            self._RGB_w = None\n",
    "            self._H_w = self._S_w = self._V_w = None\n",
    "            self._S_w_m = None\n",
    "\n",
    "        if self._enable_chromaticity_diagram:\n",
    "            self._RGB_d = None\n",
    "            self._H_d = self._S_d = self._V_d = None\n",
    "            self._S_d_m = None\n",
    "\n",
    "        self._angles = None\n",
    "        self._x_i = self._y_i = self._y_i = None\n",
    "\n",
    "        if self._enable_colour_wheel:\n",
    "            self._protected_area_threshold_colour_wheel_plot = None\n",
    "            self._compression_threshold_colour_wheel_plot = None\n",
    "            self._hue_controls_plot = None\n",
    "\n",
    "        if self._enable_chromaticity_diagram:\n",
    "            self._protected_area_threshold_chromaticity_diagram_plot = None\n",
    "            self._compression_threshold_chromaticity_diagram_plot = None\n",
    "\n",
    "        self._reset_protected_area_controls_Button = None\n",
    "        self._protected_area_threshold_FloatSlider = None\n",
    "        self._reset_compression_controls_Button = None\n",
    "        self._compression_threshold_FloatSlider = None\n",
    "        self._reset_hue_controls_Button = None\n",
    "        self._wedge_controls = None\n",
    "        self._protected_area_controls_HBox = None\n",
    "        self._saturation_controls_HBox = None\n",
    "        self._hue_controls_HBox = None\n",
    "\n",
    "        self.initialize_data()\n",
    "        self.initialize_axes()\n",
    "        self.initialise_widgets()\n",
    "        self.attach_callbacks()\n",
    "\n",
    "        self.update_widget(None)\n",
    "\n",
    "    def initialize_data(self):\n",
    "        super().initialize_data()\n",
    "\n",
    "        # *** Reference Image ***\n",
    "        self._RGB_r = self._reference_image_working\n",
    "        self._H_r, self._S_r, self._V_r = colour.utilities.tsplit(\n",
    "            self.RGB_to_HSV(self._reference_image_working))\n",
    "        self._S_r_m = smoothstep(self._S_r, self._protected_area_threshold,\n",
    "                                 self._compression_threshold)\n",
    "\n",
    "        # *** Colour Wheel ***\n",
    "        if self._enable_colour_wheel:\n",
    "            self._RGB_w = self._colour_wheel[..., 0:3]\n",
    "            self._H_w, self._S_w, self._V_w = colour.utilities.tsplit(\n",
    "                self.RGB_to_HSV(self._RGB_w))\n",
    "            self._S_w_m = smoothstep(self._S_w, self._protected_area_threshold,\n",
    "                                     self._compression_threshold)\n",
    "\n",
    "        # *** Decimated Image, i.e. Scatter ***\n",
    "        if self._enable_chromaticity_diagram:\n",
    "            self._RGB_d = self._decimated_image_working\n",
    "            self._H_d, self._S_d, self._V_d = colour.utilities.tsplit(\n",
    "                self.RGB_to_HSV(self._decimated_image_working))\n",
    "            self._S_d_m = smoothstep(self._S_d, self._protected_area_threshold,\n",
    "                                     self._compression_threshold)\n",
    "\n",
    "        # *** Angles ***\n",
    "        self._angles = np.arange(0, 360, self._hue_wedge) / 360\n",
    "\n",
    "        # *** Initial State ***\n",
    "        self._x_i = np.hstack([self._angles, 1])\n",
    "        self._y_i = self._angles\n",
    "        self._y_i = np.hstack([self._y_i, self._y_i[0] + 1])\n",
    "\n",
    "    def initialize_axes(self):\n",
    "        super().initialize_axes()\n",
    "\n",
    "        circumference = np.linspace(0, np.pi * 2, self._colour_wheel_samples)\n",
    "        # Colour Wheel Axes\n",
    "        if self._enable_colour_wheel:\n",
    "            self._protected_area_threshold_colour_wheel_plot = (\n",
    "                self._colour_wheel_polar_axes.plot(\n",
    "                    circumference,\n",
    "                    np.full(self._colour_wheel_samples,\n",
    "                            self._protected_area_threshold),\n",
    "                    linestyle='dotted',\n",
    "                    color='yellow')[0])\n",
    "            self._compression_threshold_colour_wheel_plot = (\n",
    "                self._colour_wheel_polar_axes.plot(\n",
    "                    circumference,\n",
    "                    np.full(self._colour_wheel_samples,\n",
    "                            self._compression_threshold),\n",
    "                    linestyle='dashdot',\n",
    "                    color='cyan')[0])\n",
    "\n",
    "            self._hue_controls_plot = (self._colour_wheel_polar_axes.plot(\n",
    "                self._y_i * np.pi * 2,\n",
    "                np.ones(self._y_i.shape),\n",
    "                'o-',\n",
    "                color='white')[0])\n",
    "\n",
    "        # Chromaticity Diagram Axes\n",
    "        if self._enable_chromaticity_diagram:\n",
    "            self._protected_area_threshold_chromaticity_diagram_plot = (\n",
    "                self._chromaticity_diagram_axes.plot(\n",
    "                    circumference,\n",
    "                    circumference,\n",
    "                    linestyle='dotted',\n",
    "                    color='yellow')[0])\n",
    "            self._compression_threshold_chromaticity_diagram_plot = (\n",
    "                self._chromaticity_diagram_axes.plot(\n",
    "                    circumference,\n",
    "                    circumference,\n",
    "                    linestyle='dashdot',\n",
    "                    color='cyan')[0])\n",
    "\n",
    "    def initialise_widgets(self):\n",
    "        super().initialise_widgets()\n",
    "\n",
    "        # *** Widgets ***\n",
    "        self._reset_protected_area_controls_Button = (\n",
    "            ipywidgets.widgets.Button(description=\"Reset Protected Area\"))\n",
    "        self._protected_area_threshold_FloatSlider = (\n",
    "            ipywidgets.widgets.FloatSlider(\n",
    "                min=0.0,\n",
    "                max=1.0,\n",
    "                step=0.01,\n",
    "                value=self._protected_area_threshold,\n",
    "                description='Protected Area Threshold'))\n",
    "\n",
    "        self._reset_compression_controls_Button = (\n",
    "            ipywidgets.widgets.Button(description=\"Reset Saturation Controls\"))\n",
    "        compression_functions = list(COMPRESSION_FUNCTIONS.keys())\n",
    "        self._compression_function_DropDown = ipywidgets.widgets.Dropdown(\n",
    "            options=compression_functions,\n",
    "            value=self._compression_function,\n",
    "            description='Compression Function:',\n",
    "        )\n",
    "        self._compression_threshold_FloatSlider = (\n",
    "            ipywidgets.widgets.FloatSlider(\n",
    "                min=0.0,\n",
    "                max=1.0,\n",
    "                step=0.01,\n",
    "                value=self._compression_threshold,\n",
    "                description='Compression Threshold'))\n",
    "\n",
    "        self._reset_hue_controls_Button = ipywidgets.widgets.Button(\n",
    "            description=\"Reset Hue Controls\")\n",
    "        self._wedge_controls = [\n",
    "            ipywidgets.widgets.FloatSlider(\n",
    "                min=-1,\n",
    "                max=1,\n",
    "                step=0.01,\n",
    "                value=0,\n",
    "                description='{0}°'.format(int(angle * 360)))\n",
    "            for angle in self._angles\n",
    "        ]\n",
    "\n",
    "        # *** Layout ***\n",
    "        self._protected_area_controls_HBox = ipywidgets.widgets.HBox([\n",
    "            self._reset_protected_area_controls_Button,\n",
    "            self._protected_area_threshold_FloatSlider,\n",
    "        ])\n",
    "\n",
    "        self._saturation_controls_HBox = ipywidgets.widgets.HBox([\n",
    "            self._reset_compression_controls_Button,\n",
    "            self._compression_function_DropDown,\n",
    "            self._compression_threshold_FloatSlider\n",
    "        ])\n",
    "\n",
    "        wedge_controls_batches = batch(self._wedge_controls, 3)\n",
    "        self._hue_controls_HBox = ipywidgets.widgets.HBox(\n",
    "            [ipywidgets.widgets.VBox([self._reset_hue_controls_Button])] + [\n",
    "                ipywidgets.widgets.VBox(wedge_controls)\n",
    "                for wedge_controls in wedge_controls_batches\n",
    "            ])\n",
    "\n",
    "        self._controls_Tab.children += (\n",
    "            self._protected_area_controls_HBox,\n",
    "            self._saturation_controls_HBox,\n",
    "            self._hue_controls_HBox,\n",
    "        )\n",
    "\n",
    "        self._controls_Tab.set_title(1, 'Protected Area Controls')\n",
    "        self._controls_Tab.set_title(2, 'Saturation Controls')\n",
    "        self._controls_Tab.set_title(3, 'Hue Controls')\n",
    "\n",
    "    def attach_callbacks(self):\n",
    "        super().attach_callbacks()\n",
    "\n",
    "        self._reset_protected_area_controls_Button.on_click(\n",
    "            self.reset_protected_area_controls)\n",
    "        self._protected_area_threshold_FloatSlider.observe(\n",
    "            self.update_protected_area_mask, 'value')\n",
    "\n",
    "        self._reset_compression_controls_Button.on_click(\n",
    "            self.reset_compression_controls)\n",
    "        self._compression_function_DropDown.observe(self.update_widget,\n",
    "                                                    'value')\n",
    "        self._compression_threshold_FloatSlider.observe(\n",
    "            self.update_widget, 'value')\n",
    "\n",
    "        self._reset_hue_controls_Button.on_click(self.reset_hue_controls)\n",
    "        for slider in self._wedge_controls:\n",
    "            slider.observe(self.update_widget, 'value')\n",
    "\n",
    "    def set_exposure(self, change):\n",
    "        if not change:\n",
    "            return\n",
    "\n",
    "        if change['name'] == 'value':\n",
    "            EV = self._exposure_FloatSlider.value\n",
    "\n",
    "            self._RGB_r = adjust_exposure(self._reference_image_pre_working,\n",
    "                                          EV)\n",
    "            self._H_r, self._S_r, self._V_r = colour.utilities.tsplit(\n",
    "                self.RGB_to_HSV(self._RGB_r))\n",
    "\n",
    "            if self._enable_chromaticity_diagram:\n",
    "                self._RGB_d = adjust_exposure(\n",
    "                    self._decimated_image_pre_working, EV)\n",
    "                self._H_d, self._S_d, self._V_d = colour.utilities.tsplit(\n",
    "                    self.RGB_to_HSV(self._RGB_d))\n",
    "\n",
    "            self.update_protected_area_mask({'name': 'value'})\n",
    "\n",
    "    def update_region_colour_wheel_plot(self, V_r, region_colour_wheel_plot):\n",
    "        if self._enable_colour_wheel:\n",
    "            region_colour_wheel_plot.set_ydata(\n",
    "                np.full(self._colour_wheel_samples, V_r))\n",
    "\n",
    "    def update_protected_area_threshold_colour_wheel_plot(self, U_r):\n",
    "        if self._enable_colour_wheel:\n",
    "            self.update_region_colour_wheel_plot(\n",
    "                U_r, self._protected_area_threshold_colour_wheel_plot)\n",
    "\n",
    "    def update_compression_threshold_colour_wheel_plot(self, S_c):\n",
    "        if self._enable_colour_wheel:\n",
    "            self.update_region_colour_wheel_plot(\n",
    "                S_c, self._compression_threshold_colour_wheel_plot)\n",
    "\n",
    "    def update_region_chromaticity_diagram_plot(\n",
    "            self, V_r, region_chromaticity_diagram_plot):\n",
    "        if self._enable_chromaticity_diagram:\n",
    "            HSV = colour.utilities.tstack([\n",
    "                np.linspace(0, 1, self._colour_wheel_samples),\n",
    "                np.full(self._colour_wheel_samples, V_r),\n",
    "                np.ones(self._colour_wheel_samples)\n",
    "            ])\n",
    "            uv = colour.Luv_to_uv(\n",
    "                colour.XYZ_to_Luv(\n",
    "                    colour.RGB_to_XYZ(\n",
    "                        self.HSV_to_RGB(HSV), self._working_space.whitepoint,\n",
    "                        self._working_space.whitepoint,\n",
    "                        self._working_space.RGB_to_XYZ_matrix),\n",
    "                    self._working_space.whitepoint))\n",
    "\n",
    "            region_chromaticity_diagram_plot.set_data(uv[:, 0], uv[:, 1])\n",
    "\n",
    "    def update_protected_area_threshold_chromaticity_diagram_plot(self, U_r):\n",
    "        if self._enable_chromaticity_diagram:\n",
    "            self.update_region_chromaticity_diagram_plot(\n",
    "                U_r, self._protected_area_threshold_chromaticity_diagram_plot)\n",
    "\n",
    "    def update_compression_threshold_chromaticity_diagram_plot(self, S_c):\n",
    "        if self._enable_chromaticity_diagram:\n",
    "            self.update_region_chromaticity_diagram_plot(\n",
    "                S_c, self._compression_threshold_chromaticity_diagram_plot)\n",
    "\n",
    "    def update_protected_area_mask(self, change):\n",
    "        if not change:\n",
    "            return\n",
    "\n",
    "        if change['name'] == 'value':\n",
    "            U_r = self._protected_area_threshold_FloatSlider.value\n",
    "            S_c = self._compression_threshold_FloatSlider.value\n",
    "\n",
    "            self._S_d_m = smoothstep(self._S_d, U_r, S_c)\n",
    "\n",
    "            if self._enable_colour_wheel:\n",
    "                self._S_w_m = smoothstep(self._S_w, U_r, S_c)\n",
    "\n",
    "            if self._enable_chromaticity_diagram:\n",
    "                self._S_r_m = smoothstep(self._S_r, U_r, S_c)\n",
    "\n",
    "        self.update_widget(None)\n",
    "\n",
    "    def wedge_control_to_hue_offset(self, value):\n",
    "        slider = self._wedge_controls[0]\n",
    "\n",
    "        return colour.utilities.linear_conversion(\n",
    "            value, [slider.min, slider.max],\n",
    "            [-self._hue_wedge / 360, self._hue_wedge / 360])\n",
    "\n",
    "    def reset_protected_area_controls(self, change):\n",
    "        self._protected_area_threshold_FloatSlider.value = (\n",
    "            self._protected_area_threshold)\n",
    "\n",
    "        self.update_protected_area_mask(None)\n",
    "\n",
    "    def reset_compression_controls(self, change):\n",
    "        self._compression_threshold_FloatSlider.value = (\n",
    "            self._compression_threshold)\n",
    "\n",
    "        self.update_widget(None)\n",
    "\n",
    "    def reset_hue_controls(self, change):\n",
    "        for slider in self._wedge_controls:\n",
    "            slider.value = 0\n",
    "\n",
    "        self.update_widget(None)\n",
    "\n",
    "    def update_reference_image_axes(self, S_c, H_y, C_f):\n",
    "        RGB_r = medicina_HSV_control(self._RGB_r, self._H_r, self._S_r,\n",
    "                                     self._V_r, self._x_i, H_y, S_c,\n",
    "                                     self._S_r_m, C_f, self.HSV_to_RGB)\n",
    "        self._reference_image_mapped = RGB_r\n",
    "        self._reference_image_imshow.set_data(\n",
    "            self.working_space_to_display_space(RGB_r))\n",
    "\n",
    "    def update_colour_wheel_axes(self, U_r, S_c, H_y, H_o, C_f):\n",
    "        if self._enable_colour_wheel:\n",
    "            R_w, G_w, B_w = colour.utilities.tsplit(\n",
    "                medicina_HSV_control(self._RGB_w, self._H_w, self._S_w,\n",
    "                                     self._V_w, self._x_i, H_y, S_c,\n",
    "                                     self._S_w_m, C_f, self.HSV_to_RGB))\n",
    "            self._colour_wheel_imshow.set_data(\n",
    "                np.clip(\n",
    "                    colour.tstack([R_w, G_w, B_w,\n",
    "                                   self._colour_wheel[..., -1]]), 0, 1))\n",
    "            self.update_protected_area_threshold_colour_wheel_plot(U_r)\n",
    "            self.update_compression_threshold_colour_wheel_plot(S_c)\n",
    "\n",
    "            H_x = H_o + self._angles\n",
    "            H_x = np.hstack([H_x, H_x[0]])\n",
    "            self._hue_controls_plot.set_xdata(H_x * np.pi * 2)\n",
    "\n",
    "    def update_chromaticity_diagram_axes(self, U_r, S_c, H_y, C_f):\n",
    "        if self._enable_chromaticity_diagram:\n",
    "            RGB_r_s = medicina_HSV_control(self._RGB_d, self._H_d, self._S_d,\n",
    "                                           self._V_d, self._x_i, H_y, S_c,\n",
    "                                           self._S_d_m, C_f, self.HSV_to_RGB)\n",
    "            self.update_scatter_plot(RGB_r_s)\n",
    "            self.update_protected_area_threshold_chromaticity_diagram_plot(U_r)\n",
    "            self.update_compression_threshold_chromaticity_diagram_plot(S_c)\n",
    "\n",
    "    def update_widget(self, change):\n",
    "        super().update_widget(change)\n",
    "\n",
    "        if self._enable:\n",
    "            U_r = self._protected_area_threshold_FloatSlider.value\n",
    "            S_c = self._compression_threshold_FloatSlider.value\n",
    "            C_f = COMPRESSION_FUNCTIONS[\n",
    "                self._compression_function_DropDown.value]\n",
    "\n",
    "            hue_offsets = np.array([\n",
    "                self.wedge_control_to_hue_offset(slider.value)\n",
    "                for slider in self._wedge_controls\n",
    "            ])\n",
    "\n",
    "            H_y = -hue_offsets + self._angles\n",
    "            H_y = np.hstack([H_y, H_y[0] + 1])\n",
    "\n",
    "            self.update_reference_image_axes(S_c, H_y, C_f)\n",
    "\n",
    "            if self._enable_colour_wheel:\n",
    "                self.update_colour_wheel_axes(U_r, S_c, H_y, hue_offsets, C_f)\n",
    "\n",
    "            if self._enable_chromaticity_diagram:\n",
    "                self.update_chromaticity_diagram_axes(U_r, S_c, H_y, C_f)\n",
    "\n",
    "            self._figure.canvas.draw_idle()\n",
    "\n",
    "\n",
    "GamutMedicinaHSVControlWidget(\n",
    "    '../resources/images/A009C002_190210_R0EI_Alexa_LogCWideGamut.exr')"
   ]
  },
  {
   "cell_type": "code",
   "execution_count": 13,
   "metadata": {},
   "outputs": [
    {
     "data": {
      "application/vnd.jupyter.widget-view+json": {
       "model_id": "56090b2bd2a64284a6073e65d4da5f49",
       "version_major": 2,
       "version_minor": 0
      },
      "text/plain": [
       "GamutMedicinaHSVControlWidget(children=(Output(layout=Layout(border='solid 4px #222', margin='4px', padding='0…"
      ]
     },
     "metadata": {},
     "output_type": "display_data"
    }
   ],
   "source": [
    "GamutMedicinaHSVControlWidget('../resources/images/A002_C029_06025K.exr')"
   ]
  },
  {
   "cell_type": "code",
   "execution_count": 14,
   "metadata": {},
   "outputs": [
    {
     "data": {
      "application/vnd.jupyter.widget-view+json": {
       "model_id": "3d97cb00433c49f1bbec6091c411f58e",
       "version_major": 2,
       "version_minor": 0
      },
      "text/plain": [
       "GamutMedicinaHSVControlWidget(children=(Output(layout=Layout(border='solid 4px #222', margin='4px', padding='0…"
      ]
     },
     "metadata": {},
     "output_type": "display_data"
    }
   ],
   "source": [
    "GamutMedicinaHSVControlWidget(\n",
    "    '../resources/images/Cornell_Box_Rigid_Spheres_190_Patch_Roughplastic_Point_Grey_Grasshopper_50S5C_RGB_W.exr')"
   ]
  },
  {
   "cell_type": "code",
   "execution_count": 15,
   "metadata": {},
   "outputs": [
    {
     "data": {
      "application/vnd.jupyter.widget-view+json": {
       "model_id": "3ab761d5261b433e932d43d91e47eb0b",
       "version_major": 2,
       "version_minor": 0
      },
      "text/plain": [
       "GamutMedicinaHSVControlWidget(children=(Output(layout=Layout(border='solid 4px #222', margin='4px', padding='0…"
      ]
     },
     "metadata": {},
     "output_type": "display_data"
    }
   ],
   "source": [
    "GamutMedicinaHSVControlWidget(\n",
    "    '../resources/images/Cornell_Box_Rigid_Spheres_190_Patch_Roughplastic_Point_Grey_Grasshopper_50S5C_RGB_W.exr',\n",
    "    enable_colour_wheel=False)"
   ]
  },
  {
   "cell_type": "markdown",
   "metadata": {},
   "source": [
    "## Smith (2020) - RGB Saturation Study Model"
   ]
  },
  {
   "cell_type": "markdown",
   "metadata": {},
   "source": [
    "*Smith (2020)* gamut mapping study model is directly operating in the RGB colourspace:\n",
    "\n",
    "- Like with the HSV colourspace, an achromatic axis is computed for the scene-referred RGB exposure values.\n",
    "- The distance from the individual $R$, $G$ and $B$ to the achromatic axis is compressed with a cherry-picked compression function, e.g. $tanh$.\n",
    "\n",
    "The model is extremely simple and elegant while offering good computational speed.\n",
    "\n",
    "More information is available on [ACEScentral](https://community.acescentral.com/t/rgb-saturation-gamut-mapping-approach-and-a-comp-vfx-perspective/)."
   ]
  },
  {
   "cell_type": "code",
   "execution_count": 16,
   "metadata": {},
   "outputs": [
    {
     "data": {
      "application/vnd.jupyter.widget-view+json": {
       "model_id": "a1a2051c2348436ea02d02231aec7cea",
       "version_major": 2,
       "version_minor": 0
      },
      "text/plain": [
       "GamutMedicinaRGBSaturationWidget(children=(Output(layout=Layout(border='solid 4px #222', margin='4px', padding…"
      ]
     },
     "metadata": {},
     "output_type": "display_data"
    }
   ],
   "source": [
    "def medicina_RGB_saturation(RGB, C_t, C_f):\n",
    "    C_t = 1 - C_t\n",
    "\n",
    "    L = np.max(RGB, axis=-1)[..., np.newaxis]\n",
    "\n",
    "    D = np.abs(RGB - L) / L\n",
    "\n",
    "    D_c = C_f(D, C_t, 1 - C_t)\n",
    "\n",
    "    RGB_c = L - D_c * L\n",
    "\n",
    "    return RGB_c\n",
    "\n",
    "\n",
    "class GamutMedicinaRGBSaturationWidget(GamutMedicinaBaseWidget):\n",
    "    def __init__(self,\n",
    "                 reference_image=None,\n",
    "                 compression_threshold=0.8,\n",
    "                 compression_function='tanh',\n",
    "                 *args,\n",
    "                 **kwargs):\n",
    "        self._compression_threshold = compression_threshold\n",
    "        self._compression_function = compression_function\n",
    "\n",
    "        kwargs['enable_colour_wheel'] = False\n",
    "\n",
    "        super().__init__(reference_image, *args, **kwargs)\n",
    "\n",
    "        self._RGB_w = None\n",
    "        self._RGB_r = None\n",
    "        self._RGB_d = None\n",
    "\n",
    "        self._compression_threshold_chromaticity_diagram_plot = None\n",
    "\n",
    "        self._reset_compression_controls_Button = None\n",
    "        self._compression_threshold_FloatSlider = None\n",
    "\n",
    "        self.initialize_data()\n",
    "        self.initialize_axes()\n",
    "        self.initialise_widgets()\n",
    "        self.attach_callbacks()\n",
    "\n",
    "        self.update_widget(None)\n",
    "\n",
    "    def initialize_data(self):\n",
    "        super().initialize_data()\n",
    "\n",
    "    def initialize_axes(self):\n",
    "        super().initialize_axes()\n",
    "\n",
    "    def initialise_widgets(self):\n",
    "        super().initialise_widgets()\n",
    "\n",
    "        # *** Widgets ***\n",
    "        self._reset_compression_controls_Button = (\n",
    "            ipywidgets.widgets.Button(\n",
    "                description=\"Reset Compression Controls\"))\n",
    "        compression_functions = list(COMPRESSION_FUNCTIONS.keys())\n",
    "        self._compression_function_DropDown = ipywidgets.widgets.Dropdown(\n",
    "            options=compression_functions,\n",
    "            value=self._compression_function,\n",
    "            description='Compression Function:',\n",
    "        )\n",
    "        self._compression_threshold_FloatSlider = (\n",
    "            ipywidgets.widgets.FloatSlider(\n",
    "                min=0.0,\n",
    "                max=1.0,\n",
    "                step=0.01,\n",
    "                value=self._compression_threshold,\n",
    "                description='Compression Threshold'))\n",
    "\n",
    "        # *** Layout ***\n",
    "        self._compression_controls_HBox = ipywidgets.widgets.HBox([\n",
    "            self._reset_compression_controls_Button,\n",
    "            self._compression_function_DropDown,\n",
    "            self._compression_threshold_FloatSlider,\n",
    "        ])\n",
    "\n",
    "        self._controls_Tab.children += (\n",
    "            self._compression_controls_HBox,\n",
    "        )\n",
    "\n",
    "        self._controls_Tab.set_title(1, 'Compression Controls')\n",
    "\n",
    "    def attach_callbacks(self):\n",
    "        super().attach_callbacks()\n",
    "\n",
    "        self._reset_compression_controls_Button.on_click(\n",
    "            self.reset_compression_controls)\n",
    "        self._compression_function_DropDown.observe(self.update_widget,\n",
    "                                                    'value')\n",
    "        self._compression_threshold_FloatSlider.observe(\n",
    "            self.update_widget, 'value')\n",
    "\n",
    "    def reset_compression_controls(self, change):\n",
    "        self._compression_threshold_FloatSlider.value = (\n",
    "            self._compression_threshold)\n",
    "\n",
    "        self.update_widget(None)\n",
    "\n",
    "    def update_reference_image_axes(self, C_t, C_f):\n",
    "        RGB_r = medicina_RGB_saturation(self._reference_image_working, C_t, C_f)\n",
    "        self._reference_image_mapped = RGB_r\n",
    "        self._reference_image_imshow.set_data(\n",
    "            self.working_space_to_display_space(RGB_r))\n",
    "\n",
    "    def update_chromaticity_diagram_axes(self, C_t, C_f):\n",
    "        RGB_r_s = medicina_RGB_saturation(self._decimated_image_working, C_t, C_f)\n",
    "        self.update_scatter_plot(RGB_r_s)\n",
    "\n",
    "    def update_widget(self, change):\n",
    "        super().update_widget(change)\n",
    "\n",
    "        if self._enable:\n",
    "            C_t = 1 - self._compression_threshold_FloatSlider.value\n",
    "            C_f = COMPRESSION_FUNCTIONS[\n",
    "                self._compression_function_DropDown.value]\n",
    "\n",
    "            self.update_reference_image_axes(C_t, C_f)\n",
    "            self.update_chromaticity_diagram_axes(C_t, C_f)\n",
    "\n",
    "            self._figure.canvas.draw_idle()\n",
    "\n",
    "\n",
    "GamutMedicinaRGBSaturationWidget(\n",
    "    '../resources/images/A009C002_190210_R0EI_Alexa_LogCWideGamut.exr')"
   ]
  },
  {
   "cell_type": "code",
   "execution_count": 17,
   "metadata": {},
   "outputs": [
    {
     "data": {
      "application/vnd.jupyter.widget-view+json": {
       "model_id": "5a0ddb4c1c134f0493a1ec8854252116",
       "version_major": 2,
       "version_minor": 0
      },
      "text/plain": [
       "GamutMedicinaHSVControlWidget(children=(Output(layout=Layout(border='solid 4px #222', margin='4px', padding='0…"
      ]
     },
     "metadata": {},
     "output_type": "display_data"
    }
   ],
   "source": [
    "GamutMedicinaHSVControlWidget(\n",
    "    '../resources/images/A009C002_190210_R0EI_Alexa_LogCWideGamut.exr',\n",
    "    enable_colour_wheel=False)"
   ]
  },
  {
   "cell_type": "code",
   "execution_count": 18,
   "metadata": {},
   "outputs": [
    {
     "data": {
      "application/vnd.jupyter.widget-view+json": {
       "model_id": "a196b1e81d7f4ee89f67aad161a67f27",
       "version_major": 2,
       "version_minor": 0
      },
      "text/plain": [
       "GamutMedicinaRGBSaturationWidget(children=(Output(layout=Layout(border='solid 4px #222', margin='4px', padding…"
      ]
     },
     "metadata": {},
     "output_type": "display_data"
    }
   ],
   "source": [
    "GamutMedicinaRGBSaturationWidget(\n",
    "    '../resources/images/Carol Payne - J001_C001_08178N_001.exr')"
   ]
  },
  {
   "cell_type": "code",
   "execution_count": 19,
   "metadata": {},
   "outputs": [
    {
     "data": {
      "application/vnd.jupyter.widget-view+json": {
       "model_id": "534528bad6ef4fa1b0fd6a40ac36c7c6",
       "version_major": 2,
       "version_minor": 0
      },
      "text/plain": [
       "GamutMedicinaRGBSaturationWidget(children=(Output(layout=Layout(border='solid 4px #222', margin='4px', padding…"
      ]
     },
     "metadata": {},
     "output_type": "display_data"
    }
   ],
   "source": [
    "GamutMedicinaRGBSaturationWidget(\n",
    "    '../resources/images/Cornell_Box_Rigid_Spheres_190_Patch_Roughplastic_Point_Grey_Grasshopper_50S5C_RGB_W.exr')"
   ]
  },
  {
   "cell_type": "markdown",
   "metadata": {},
   "source": [
    "## Compared Model Distortions"
   ]
  },
  {
   "cell_type": "markdown",
   "metadata": {},
   "source": [
    "Various model distortions comparisons."
   ]
  },
  {
   "cell_type": "code",
   "execution_count": 20,
   "metadata": {},
   "outputs": [],
   "source": [
    "colour.write_image(\n",
    "    colour_wheel(clip_circle=False)[..., 0:3],\n",
    "    '../resources/images/Colour_Wheel.exr')"
   ]
  },
  {
   "cell_type": "code",
   "execution_count": 21,
   "metadata": {},
   "outputs": [
    {
     "data": {
      "application/vnd.jupyter.widget-view+json": {
       "model_id": "da9797906fa44244b57b520d8ee804d8",
       "version_major": 2,
       "version_minor": 0
      },
      "text/plain": [
       "GamutMedicinaHSVControlWidget(children=(Output(layout=Layout(border='solid 4px #222', margin='4px', padding='0…"
      ]
     },
     "metadata": {},
     "output_type": "display_data"
    }
   ],
   "source": [
    "GamutMedicinaHSVControlWidget(\n",
    "    '../resources/images/Colour_Wheel.exr',\n",
    "    image_decimation=20,\n",
    "    protected_area_threshold=0.5,\n",
    "    compression_threshold=0.5,\n",
    "    enable_colour_wheel=False)"
   ]
  },
  {
   "cell_type": "code",
   "execution_count": 22,
   "metadata": {},
   "outputs": [
    {
     "data": {
      "application/vnd.jupyter.widget-view+json": {
       "model_id": "b7db09ea071c4d379ee4970ed536d0d6",
       "version_major": 2,
       "version_minor": 0
      },
      "text/plain": [
       "GamutMedicinaRGBSaturationWidget(children=(Output(layout=Layout(border='solid 4px #222', margin='4px', padding…"
      ]
     },
     "metadata": {},
     "output_type": "display_data"
    }
   ],
   "source": [
    "GamutMedicinaRGBSaturationWidget(\n",
    "    '../resources/images/Colour_Wheel.exr',\n",
    "    image_decimation=20,\n",
    "    compression_threshold=0.5)"
   ]
  }
 ],
 "metadata": {
  "colab": {
   "collapsed_sections": [],
   "name": "gamut_mapping_ramblings_01",
   "provenance": []
  },
  "kernelspec": {
   "display_name": "Python 3",
   "language": "python",
   "name": "python3"
  },
  "language_info": {
   "codemirror_mode": {
    "name": "ipython",
    "version": 3
   },
   "file_extension": ".py",
   "mimetype": "text/x-python",
   "name": "python",
   "nbconvert_exporter": "python",
   "pygments_lexer": "ipython3",
   "version": "3.7.6"
  },
  "widgets": {
   "application/vnd.jupyter.widget-state+json": {
    "state": {
     "003a29a3c13141048f53634c66298577": {
      "model_module": "@jupyter-widgets/base",
      "model_module_version": "1.2.0",
      "model_name": "LayoutModel",
      "state": {}
     },
     "003c400ab62245d9879bfa4e5fdccaca": {
      "model_module": "@jupyter-widgets/base",
      "model_module_version": "1.2.0",
      "model_name": "LayoutModel",
      "state": {}
     },
     "00666af8ba3642398de6843a33f4aac8": {
      "model_module": "@jupyter-widgets/controls",
      "model_module_version": "1.5.0",
      "model_name": "HBoxModel",
      "state": {
       "children": [
        "IPY_MODEL_1fa73cf7af2e4891a29301fe16fc1b0a",
        "IPY_MODEL_e0795a88f1f84e82b7f7f3eaeb82e84e"
       ],
       "layout": "IPY_MODEL_62870424d0de47278ad84ff88d62c256"
      }
     },
     "0139400eaf3f4077ad5b5ba4c10f7c82": {
      "model_module": "@jupyter-widgets/base",
      "model_module_version": "1.2.0",
      "model_name": "LayoutModel",
      "state": {}
     },
     "014be1ebbd114a79acd76de7d37b984f": {
      "model_module": "@jupyter-widgets/base",
      "model_module_version": "1.2.0",
      "model_name": "LayoutModel",
      "state": {}
     },
     "015e26f05d4e49229a73790d43102c2f": {
      "model_module": "@jupyter-widgets/controls",
      "model_module_version": "1.5.0",
      "model_name": "SliderStyleModel",
      "state": {
       "description_width": ""
      }
     },
     "015ed8a675ab42b480d30686b612bb7f": {
      "model_module": "@jupyter-widgets/base",
      "model_module_version": "1.2.0",
      "model_name": "LayoutModel",
      "state": {}
     },
     "0199be01f9464d50805eaad70fb89c6f": {
      "model_module": "@jupyter-widgets/base",
      "model_module_version": "1.2.0",
      "model_name": "LayoutModel",
      "state": {}
     },
     "01c9aac8764c4c6fa92a6ee629004637": {
      "model_module": "@jupyter-widgets/base",
      "model_module_version": "1.2.0",
      "model_name": "LayoutModel",
      "state": {}
     },
     "0206a6560068499a919be0cb31cc0a0d": {
      "model_module": "jupyter-matplotlib",
      "model_module_version": "^0.7.2",
      "model_name": "ToolbarModel",
      "state": {
       "layout": "IPY_MODEL_f5b4b5a6554043ca9f659cb4674f7410",
       "toolitems": [
        [
         "Home",
         "Reset original view",
         "home",
         "home"
        ],
        [
         "Back",
         "Back to previous view",
         "arrow-left",
         "back"
        ],
        [
         "Forward",
         "Forward to next view",
         "arrow-right",
         "forward"
        ],
        [
         "Pan",
         "Pan axes with left mouse, zoom with right",
         "arrows",
         "pan"
        ],
        [
         "Zoom",
         "Zoom to rectangle",
         "square-o",
         "zoom"
        ],
        [
         "Download",
         "Download plot",
         "floppy-o",
         "save_figure"
        ]
       ]
      }
     },
     "020d48eeb2434d05926291f590dfb488": {
      "model_module": "@jupyter-widgets/controls",
      "model_module_version": "1.5.0",
      "model_name": "ButtonStyleModel",
      "state": {}
     },
     "025bcad15a3e47329646cc91c32c8453": {
      "model_module": "@jupyter-widgets/base",
      "model_module_version": "1.2.0",
      "model_name": "LayoutModel",
      "state": {}
     },
     "0289f9e2c4e44fd48661c95fd57c805c": {
      "model_module": "@jupyter-widgets/controls",
      "model_module_version": "1.5.0",
      "model_name": "SliderStyleModel",
      "state": {
       "description_width": ""
      }
     },
     "029e385616544c2ba07c68ae98a067b4": {
      "model_module": "@jupyter-widgets/output",
      "model_module_version": "1.0.0",
      "model_name": "OutputModel",
      "state": {
       "layout": "IPY_MODEL_d3ebc35d8c854e3cb44f66e0ec5729f9",
       "outputs": [
        {
         "data": {
          "application/vnd.jupyter.widget-view+json": {
           "model_id": "976149cdb52d4ac0bbb4c952ca051680",
           "version_major": 2,
           "version_minor": 0
          },
          "text/plain": "Canvas(toolbar=Toolbar(toolitems=[('Home', 'Reset original view', 'home', 'home'), ('Back', 'Back to previous …"
         },
         "metadata": {},
         "output_type": "display_data"
        }
       ]
      }
     },
     "02a291ebb60e44739a28cbf936db0a8f": {
      "model_module": "@jupyter-widgets/controls",
      "model_module_version": "1.5.0",
      "model_name": "ButtonModel",
      "state": {
       "description": "Reset Hue Controls",
       "layout": "IPY_MODEL_6cc3d2857b544c829a2ea2a3f2c944b4",
       "style": "IPY_MODEL_3014c5323ed74ca8bca824576fe1cc1c"
      }
     },
     "02e6262b6cf745ea8b62a49b7c2b8337": {
      "model_module": "@jupyter-widgets/base",
      "model_module_version": "1.2.0",
      "model_name": "LayoutModel",
      "state": {}
     },
     "02f0cb9564b24f369e83b1a3e36e248e": {
      "model_module": "@jupyter-widgets/controls",
      "model_module_version": "1.5.0",
      "model_name": "CheckboxModel",
      "state": {
       "description": "Disable Medicina",
       "disabled": false,
       "layout": "IPY_MODEL_b5402deccafe4d1ba211d1689632a816",
       "style": "IPY_MODEL_7b54fcf5a7a4404cb23d187a49a00143",
       "value": false
      }
     },
     "030a725afcd74a57b7e371603e7062d2": {
      "model_module": "jupyter-matplotlib",
      "model_module_version": "^0.7.2",
      "model_name": "ToolbarModel",
      "state": {
       "layout": "IPY_MODEL_58545a769f3649de8186899b31601463",
       "toolitems": [
        [
         "Home",
         "Reset original view",
         "home",
         "home"
        ],
        [
         "Back",
         "Back to previous view",
         "arrow-left",
         "back"
        ],
        [
         "Forward",
         "Forward to next view",
         "arrow-right",
         "forward"
        ],
        [
         "Pan",
         "Pan axes with left mouse, zoom with right",
         "arrows",
         "pan"
        ],
        [
         "Zoom",
         "Zoom to rectangle",
         "square-o",
         "zoom"
        ],
        [
         "Download",
         "Download plot",
         "floppy-o",
         "save_figure"
        ]
       ]
      }
     },
     "031a660b8d294f01b46b14de56495202": {
      "model_module": "@jupyter-widgets/base",
      "model_module_version": "1.2.0",
      "model_name": "LayoutModel",
      "state": {}
     },
     "0378c8043ae04b41b63cac2d057f08ae": {
      "model_module": "@jupyter-widgets/controls",
      "model_module_version": "1.5.0",
      "model_name": "FloatSliderModel",
      "state": {
       "description": "Exposure",
       "layout": "IPY_MODEL_3388637cc1334fe9ae4fdc0421ad9a93",
       "max": 8,
       "min": -8,
       "step": 0.1,
       "style": "IPY_MODEL_24a6cc8aeb4b432ea4a460ed8a8daa94"
      }
     },
     "037cf68238e84f7681e3b2e147c8bcd8": {
      "model_module": "@jupyter-widgets/base",
      "model_module_version": "1.2.0",
      "model_name": "LayoutModel",
      "state": {}
     },
     "03eaea05605e4829b517dc1975cf45a4": {
      "model_module": "@jupyter-widgets/base",
      "model_module_version": "1.2.0",
      "model_name": "LayoutModel",
      "state": {}
     },
     "0416ecc1390e4eba9bf8bce4430e1fd9": {
      "model_module": "@jupyter-widgets/base",
      "model_module_version": "1.2.0",
      "model_name": "LayoutModel",
      "state": {}
     },
     "042ae7082c5c42b79efd70f78c79e1b3": {
      "model_module": "@jupyter-widgets/controls",
      "model_module_version": "1.5.0",
      "model_name": "ButtonModel",
      "state": {
       "description": "Reset Saturation Controls",
       "layout": "IPY_MODEL_cabfc878eede4029b04d980253baefc4",
       "style": "IPY_MODEL_462e70c111304ff383a5e3eed42026d9"
      }
     },
     "04a01efa7c6c4fe19b561c35cd5d6940": {
      "model_module": "@jupyter-widgets/base",
      "model_module_version": "1.2.0",
      "model_name": "LayoutModel",
      "state": {
       "border": "solid 4px #222",
       "margin": "4px",
       "padding": "0"
      }
     },
     "04cf53b656424aa78012d01e624e166b": {
      "model_module": "@jupyter-widgets/controls",
      "model_module_version": "1.5.0",
      "model_name": "FloatSliderModel",
      "state": {
       "description": "Compression Threshold",
       "layout": "IPY_MODEL_e591eb8bf57849088f7fe89bced512b6",
       "max": 1,
       "step": 0.01,
       "style": "IPY_MODEL_1b9de85ddbf1443882f3dbe4e28f1552",
       "value": 0.8
      }
     },
     "04e5fc677904407fb8b227d50565f2de": {
      "model_module": "@jupyter-widgets/base",
      "model_module_version": "1.2.0",
      "model_name": "LayoutModel",
      "state": {}
     },
     "04f2a5b568904b129f612a58dd78cb80": {
      "model_module": "@jupyter-widgets/base",
      "model_module_version": "1.2.0",
      "model_name": "LayoutModel",
      "state": {}
     },
     "056695d4db9a481bae60a3aee2478e08": {
      "model_module": "@jupyter-widgets/base",
      "model_module_version": "1.2.0",
      "model_name": "LayoutModel",
      "state": {}
     },
     "05993486e3c34de8a522b422292763c6": {
      "model_module": "@jupyter-widgets/base",
      "model_module_version": "1.2.0",
      "model_name": "LayoutModel",
      "state": {}
     },
     "05e3540e7d1e45e5b4471393418d4b9d": {
      "model_module": "@jupyter-widgets/base",
      "model_module_version": "1.2.0",
      "model_name": "LayoutModel",
      "state": {}
     },
     "05fd555db7e8484ca875873efae46dfd": {
      "model_module": "@jupyter-widgets/controls",
      "model_module_version": "1.5.0",
      "model_name": "HBoxModel",
      "state": {
       "children": [
        "IPY_MODEL_65d3363bd04848c6a336788982bfd3fa",
        "IPY_MODEL_1aac96818ea9457b8faadd9053b05f7a",
        "IPY_MODEL_0a7620974f1b438b883ee18ec070ce44",
        "IPY_MODEL_3aee785986564699a00467fa2eeb5396"
       ],
       "layout": "IPY_MODEL_4921dacab34649968d75b6f41ceaab75"
      }
     },
     "060454db61aa4cefac9f8305d556b69b": {
      "model_module": "@jupyter-widgets/controls",
      "model_module_version": "1.5.0",
      "model_name": "ButtonModel",
      "state": {
       "description": "Export Image",
       "layout": "IPY_MODEL_06c7a5199ca74ae395fd8a49c382943f",
       "style": "IPY_MODEL_fdf547bb7dc14587b3cb8552e96bc656"
      }
     },
     "0618e2fb6cd34d2884320bf8c5557368": {
      "model_module": "@jupyter-widgets/controls",
      "model_module_version": "1.5.0",
      "model_name": "VBoxModel",
      "state": {
       "children": [
        "IPY_MODEL_9efd5f702c824f7eaeea1e3f7157a1aa",
        "IPY_MODEL_4f785bab1ff645adab1ea9124424e04a",
        "IPY_MODEL_e3e94b2d27604c18a1184e6a7603fe60"
       ],
       "layout": "IPY_MODEL_7b6af913970b41f9a1dcaf42bdd3eded"
      }
     },
     "062b32a85adc48eb92e659173b4438e2": {
      "model_module": "@jupyter-widgets/controls",
      "model_module_version": "1.5.0",
      "model_name": "SliderStyleModel",
      "state": {
       "description_width": ""
      }
     },
     "06620da6b5024993a3e6d31229dd429b": {
      "model_module": "@jupyter-widgets/controls",
      "model_module_version": "1.5.0",
      "model_name": "SliderStyleModel",
      "state": {
       "description_width": ""
      }
     },
     "06624df3e94a485c8dff02ccb0ea8aab": {
      "model_module": "@jupyter-widgets/base",
      "model_module_version": "1.2.0",
      "model_name": "LayoutModel",
      "state": {}
     },
     "06780f4f4c2349ceae9f672260c9e009": {
      "model_module": "@jupyter-widgets/controls",
      "model_module_version": "1.5.0",
      "model_name": "ButtonStyleModel",
      "state": {}
     },
     "068be0fedff847cab7bbb36d2e20940d": {
      "model_module": "@jupyter-widgets/base",
      "model_module_version": "1.2.0",
      "model_name": "LayoutModel",
      "state": {}
     },
     "06948616f9424831816b820f0c707f0a": {
      "model_module": "@jupyter-widgets/controls",
      "model_module_version": "1.5.0",
      "model_name": "SliderStyleModel",
      "state": {
       "description_width": ""
      }
     },
     "06adb5d6a2fb412eba8989e8ed236f97": {
      "model_module": "@jupyter-widgets/base",
      "model_module_version": "1.2.0",
      "model_name": "LayoutModel",
      "state": {}
     },
     "06c573fc0c2e49409dc86243cf96f592": {
      "model_module": "@jupyter-widgets/controls",
      "model_module_version": "1.5.0",
      "model_name": "FloatSliderModel",
      "state": {
       "description": "270°",
       "layout": "IPY_MODEL_41a4c9d7f8c54b30b8ce5400d98ef5ff",
       "max": 1,
       "min": -1,
       "step": 0.01,
       "style": "IPY_MODEL_25036f80c38b437cb16232b998987a77"
      }
     },
     "06c7a5199ca74ae395fd8a49c382943f": {
      "model_module": "@jupyter-widgets/base",
      "model_module_version": "1.2.0",
      "model_name": "LayoutModel",
      "state": {}
     },
     "06f89578115f49ad909546842c3c2c11": {
      "model_module": "@jupyter-widgets/controls",
      "model_module_version": "1.5.0",
      "model_name": "DescriptionStyleModel",
      "state": {
       "description_width": ""
      }
     },
     "0720f5e94d794051a9b13428381e9784": {
      "model_module": "@jupyter-widgets/controls",
      "model_module_version": "1.5.0",
      "model_name": "FloatSliderModel",
      "state": {
       "description": "225°",
       "layout": "IPY_MODEL_82350c6437c6469ba8961b0f2d63036d",
       "max": 1,
       "min": -1,
       "step": 0.01,
       "style": "IPY_MODEL_7170793007ed44e59129c369df8f9ff7"
      }
     },
     "07477295b5a34c348fb64a80f48f97dc": {
      "model_module": "@jupyter-widgets/controls",
      "model_module_version": "1.5.0",
      "model_name": "SliderStyleModel",
      "state": {
       "description_width": ""
      }
     },
     "0747e2d2de6d43339847bee90f14ada4": {
      "model_module": "@jupyter-widgets/controls",
      "model_module_version": "1.5.0",
      "model_name": "FloatSliderModel",
      "state": {
       "description": "0°",
       "layout": "IPY_MODEL_037cf68238e84f7681e3b2e147c8bcd8",
       "max": 1,
       "min": -1,
       "step": 0.01,
       "style": "IPY_MODEL_7462f304ca564b9b86a085edcddf74e8"
      }
     },
     "0759760725834012a7bbb58404687f61": {
      "model_module": "@jupyter-widgets/base",
      "model_module_version": "1.2.0",
      "model_name": "LayoutModel",
      "state": {}
     },
     "07a2f20ca3204fe5a752a69a3dbb8aa2": {
      "model_module": "@jupyter-widgets/base",
      "model_module_version": "1.2.0",
      "model_name": "LayoutModel",
      "state": {}
     },
     "07c385be277940acaac0b34ffee900dc": {
      "model_module": "@jupyter-widgets/controls",
      "model_module_version": "1.5.0",
      "model_name": "SliderStyleModel",
      "state": {
       "description_width": ""
      }
     },
     "07d9b40d02034cda94e49c1cb2d4fa9e": {
      "model_module": "@jupyter-widgets/base",
      "model_module_version": "1.2.0",
      "model_name": "LayoutModel",
      "state": {}
     },
     "07da3358c3b44ea0bbb2660d73b784e9": {
      "model_module": "@jupyter-widgets/controls",
      "model_module_version": "1.5.0",
      "model_name": "ButtonModel",
      "state": {
       "description": "Reset Saturation Controls",
       "layout": "IPY_MODEL_f8f5f67b3b64459b8f91eca25f3f7850",
       "style": "IPY_MODEL_b4fb7adcd96246c1a39afca717b538f6"
      }
     },
     "07e9510605044077bed65866dce7d667": {
      "model_module": "@jupyter-widgets/base",
      "model_module_version": "1.2.0",
      "model_name": "LayoutModel",
      "state": {}
     },
     "0856e6677b9044fc8395970b05f3ae52": {
      "model_module": "@jupyter-widgets/base",
      "model_module_version": "1.2.0",
      "model_name": "LayoutModel",
      "state": {}
     },
     "086309656faf4c3180d43fd2c7ca4f66": {
      "model_module": "@jupyter-widgets/base",
      "model_module_version": "1.2.0",
      "model_name": "LayoutModel",
      "state": {}
     },
     "0866d23763ca44a2853b0f539b11da8b": {
      "model_module": "@jupyter-widgets/base",
      "model_module_version": "1.2.0",
      "model_name": "LayoutModel",
      "state": {}
     },
     "08b58fe5597041928d4c1906648c99ab": {
      "model_module": "@jupyter-widgets/base",
      "model_module_version": "1.2.0",
      "model_name": "LayoutModel",
      "state": {}
     },
     "0977a6eeed0e4dd39a9f47cac5acbee6": {
      "model_module": "@jupyter-widgets/base",
      "model_module_version": "1.2.0",
      "model_name": "LayoutModel",
      "state": {
       "border": "solid 4px #222",
       "margin": "4px",
       "padding": "0"
      }
     },
     "09d653a96dc446bc9c94c6b7216bc650": {
      "model_module": "@jupyter-widgets/base",
      "model_module_version": "1.2.0",
      "model_name": "LayoutModel",
      "state": {}
     },
     "09e8c7c2455049499443aa95ab0536fb": {
      "model_module": "@jupyter-widgets/controls",
      "model_module_version": "1.5.0",
      "model_name": "SliderStyleModel",
      "state": {
       "description_width": ""
      }
     },
     "0a06faf99eba463f80b8220949f58253": {
      "model_module": "@jupyter-widgets/base",
      "model_module_version": "1.2.0",
      "model_name": "LayoutModel",
      "state": {}
     },
     "0a36ecf1f1574a098da8f6a117b7b152": {
      "model_module": "jupyter-matplotlib",
      "model_module_version": "^0.7.2",
      "model_name": "MPLCanvasModel",
      "state": {
       "_figure_label": "Figure 18",
       "_height": 396,
       "_width": 1100,
       "header_visible": false,
       "layout": "IPY_MODEL_e7d6e3dd447d46bf88144834431a93a6",
       "resizable": false,
       "toolbar": "IPY_MODEL_7176e8e55c1444b188173eb088d832d0",
       "toolbar_position": "left",
       "toolbar_visible": false
      }
     },
     "0a402c2b2f01484dad8b449e27603479": {
      "model_module": "@jupyter-widgets/base",
      "model_module_version": "1.2.0",
      "model_name": "LayoutModel",
      "state": {}
     },
     "0a4300ffa04a4f4bb1f43d107a4e0509": {
      "model_module": "@jupyter-widgets/output",
      "model_module_version": "1.0.0",
      "model_name": "OutputModel",
      "state": {
       "layout": "IPY_MODEL_f6101cfbc09a48c0a1f822c9bfa19cab",
       "outputs": [
        {
         "data": {
          "application/vnd.jupyter.widget-view+json": {
           "model_id": "0ec104d76eb545eebb8506742f0f84d9",
           "version_major": 2,
           "version_minor": 0
          },
          "text/plain": "Canvas(toolbar=Toolbar(toolitems=[('Home', 'Reset original view', 'home', 'home'), ('Back', 'Back to previous …"
         },
         "metadata": {},
         "output_type": "display_data"
        }
       ]
      }
     },
     "0a4b9a70005b4d6ba9985f9777540cf3": {
      "model_module": "@jupyter-widgets/controls",
      "model_module_version": "1.5.0",
      "model_name": "TabModel",
      "state": {
       "_titles": {
        "0": "Global Controls",
        "1": "Protected Area Controls",
        "2": "Saturation Controls",
        "3": "Hue Controls"
       },
       "children": [
        "IPY_MODEL_2e1ec6d6eb604ab59b60f89abfac775f",
        "IPY_MODEL_26cf9ea16ed848fda91a31e4ea743d48",
        "IPY_MODEL_1a7c5513a3ef4a74a6486479ea0eb9f6",
        "IPY_MODEL_2de195999e204a5db029bf8f02166834"
       ],
       "layout": "IPY_MODEL_e5a272b04e1d48e8926dd2f496cad2b7"
      }
     },
     "0a5d3c8c445a4519bdff68cd0fa71595": {
      "model_module": "@jupyter-widgets/controls",
      "model_module_version": "1.5.0",
      "model_name": "DescriptionStyleModel",
      "state": {
       "description_width": ""
      }
     },
     "0a6087de5e8e45e4aa806344aad748e4": {
      "model_module": "@jupyter-widgets/controls",
      "model_module_version": "1.5.0",
      "model_name": "SliderStyleModel",
      "state": {
       "description_width": ""
      }
     },
     "0a6d09cd826b4510b85393115add615f": {
      "model_module": "@jupyter-widgets/base",
      "model_module_version": "1.2.0",
      "model_name": "LayoutModel",
      "state": {}
     },
     "0a710036d2724b8380d837820e3d15f4": {
      "model_module": "@jupyter-widgets/controls",
      "model_module_version": "1.5.0",
      "model_name": "TabModel",
      "state": {
       "_titles": {
        "0": "Global Controls",
        "1": "Compression Controls"
       },
       "children": [
        "IPY_MODEL_5a99f40598394c0395029ac08f88ee3b",
        "IPY_MODEL_140c4813c28843ecb5de4f5035eb70f5"
       ],
       "layout": "IPY_MODEL_0977a6eeed0e4dd39a9f47cac5acbee6"
      }
     },
     "0a7620974f1b438b883ee18ec070ce44": {
      "model_module": "@jupyter-widgets/controls",
      "model_module_version": "1.5.0",
      "model_name": "VBoxModel",
      "state": {
       "children": [
        "IPY_MODEL_1233209a027b4107914a5d46e78e529c",
        "IPY_MODEL_f30b9702bd88495980605d44ed2d91b8",
        "IPY_MODEL_e52a84b795d74e72bf227f54d8381881"
       ],
       "layout": "IPY_MODEL_31d2cafcb71e434ca13c33a3ab6e4d0b"
      }
     },
     "0a8c897cd4cd43e784bd6d726a0ffb37": {
      "model_module": "@jupyter-widgets/base",
      "model_module_version": "1.2.0",
      "model_name": "LayoutModel",
      "state": {}
     },
     "0ae79b8830924e38b1b1749da89eb052": {
      "model_module": "@jupyter-widgets/controls",
      "model_module_version": "1.5.0",
      "model_name": "ButtonModel",
      "state": {
       "description": "Reset Compression Controls",
       "layout": "IPY_MODEL_1f272e3f1977465e8bf1baa2118416f4",
       "style": "IPY_MODEL_6f45e89d96f547cfaa3df84d5825b868"
      }
     },
     "0aec628477794290a45ba0c73c6bc2a1": {
      "model_module": "jupyter-matplotlib",
      "model_module_version": "^0.7.2",
      "model_name": "ToolbarModel",
      "state": {
       "layout": "IPY_MODEL_ab4f3e2f903e418198d64d6dee51d183",
       "toolitems": [
        [
         "Home",
         "Reset original view",
         "home",
         "home"
        ],
        [
         "Back",
         "Back to previous view",
         "arrow-left",
         "back"
        ],
        [
         "Forward",
         "Forward to next view",
         "arrow-right",
         "forward"
        ],
        [
         "Pan",
         "Pan axes with left mouse, zoom with right",
         "arrows",
         "pan"
        ],
        [
         "Zoom",
         "Zoom to rectangle",
         "square-o",
         "zoom"
        ],
        [
         "Download",
         "Download plot",
         "floppy-o",
         "save_figure"
        ]
       ]
      }
     },
     "0b46823d3f2a4a2b8b46467a74c97dbb": {
      "model_module": "@jupyter-widgets/controls",
      "model_module_version": "1.5.0",
      "model_name": "ButtonModel",
      "state": {
       "description": "Save Figure",
       "layout": "IPY_MODEL_9d8fd91f884843aaadb7fffb2c7d8073",
       "style": "IPY_MODEL_c6f041b1a3b44e55aea3fb057240e96c"
      }
     },
     "0b80d7b0c0be4c428532a2be1c408934": {
      "model_module": "@jupyter-widgets/controls",
      "model_module_version": "1.5.0",
      "model_name": "FloatSliderModel",
      "state": {
       "description": "Exposure",
       "layout": "IPY_MODEL_40cf805821df4e1291f92caa30c4cc61",
       "max": 8,
       "min": -8,
       "step": 0.1,
       "style": "IPY_MODEL_8d3a7f057c7d4939b707db50b93d2457"
      }
     },
     "0bfe494e6f1f41e7a8318006725bf32e": {
      "model_module": "@jupyter-widgets/base",
      "model_module_version": "1.2.0",
      "model_name": "LayoutModel",
      "state": {}
     },
     "0c59940c32df4df3bd077cace19d0786": {
      "model_module": "@jupyter-widgets/controls",
      "model_module_version": "1.5.0",
      "model_name": "DropdownModel",
      "state": {
       "_options_labels": [
        "tanh",
        "simple"
       ],
       "description": "Compression Function:",
       "index": 0,
       "layout": "IPY_MODEL_94486d82fb2d4678b22b86ab9129e6c9",
       "style": "IPY_MODEL_5d21f92ab9d04bc39c2a5db38add250f"
      }
     },
     "0c67b74fa5d445dc82946b6099807086": {
      "model_module": "@jupyter-widgets/base",
      "model_module_version": "1.2.0",
      "model_name": "LayoutModel",
      "state": {}
     },
     "0ca18432aac5487d9a920c5af75ff3e5": {
      "model_module": "@jupyter-widgets/base",
      "model_module_version": "1.2.0",
      "model_name": "LayoutModel",
      "state": {}
     },
     "0cd7d51cb4a6418cb309bf708cc27e6e": {
      "model_module": "@jupyter-widgets/controls",
      "model_module_version": "1.5.0",
      "model_name": "ButtonModel",
      "state": {
       "description": "Reset Compression Controls",
       "layout": "IPY_MODEL_448329a1ee6447619b425bd163559fdf",
       "style": "IPY_MODEL_c486e748c0fe45b7b48db968eaa1821e"
      }
     },
     "0ce23dc2a9c947579d4b3b4051da3b34": {
      "model_module": "@jupyter-widgets/controls",
      "model_module_version": "1.5.0",
      "model_name": "TabModel",
      "state": {
       "_titles": {
        "0": "Global Controls",
        "1": "Compression Controls"
       },
       "children": [
        "IPY_MODEL_917f2f88085c4fd293ca21e2fd321ba6",
        "IPY_MODEL_0f9f9377bff045d7ba80b4e43e05e6ac"
       ],
       "layout": "IPY_MODEL_78365b7eba0b4135bed119d01ef64ff9"
      }
     },
     "0d0467f4a81c405fabbd00c15d38d393": {
      "model_module": "@jupyter-widgets/base",
      "model_module_version": "1.2.0",
      "model_name": "LayoutModel",
      "state": {}
     },
     "0d2cbaac5ece4ec0ae6ea63f06d400da": {
      "model_module": "@jupyter-widgets/base",
      "model_module_version": "1.2.0",
      "model_name": "LayoutModel",
      "state": {}
     },
     "0d4e944b5f1744a0b5c727bba068b195": {
      "model_module": "@jupyter-widgets/controls",
      "model_module_version": "1.5.0",
      "model_name": "SliderStyleModel",
      "state": {
       "description_width": ""
      }
     },
     "0d58e23abb8d49aea913a190cad169c6": {
      "model_module": "jupyter-matplotlib",
      "model_module_version": "^0.7.2",
      "model_name": "MPLCanvasModel",
      "state": {
       "_figure_label": "Figure 16",
       "_height": 430,
       "_width": 1099,
       "header_visible": false,
       "layout": "IPY_MODEL_dc5c83a6824d4da488a83d2394c133bc",
       "resizable": false,
       "toolbar": "IPY_MODEL_407a0297f6684ed5b01e33e9801245b3",
       "toolbar_position": "left",
       "toolbar_visible": false
      }
     },
     "0d8f4bb031d1493187634b3ff176aee2": {
      "model_module": "@jupyter-widgets/controls",
      "model_module_version": "1.5.0",
      "model_name": "SliderStyleModel",
      "state": {
       "description_width": ""
      }
     },
     "0d93a251994c40e9b1fa6e16303ce178": {
      "model_module": "@jupyter-widgets/controls",
      "model_module_version": "1.5.0",
      "model_name": "FloatSliderModel",
      "state": {
       "description": "90°",
       "layout": "IPY_MODEL_8e6a86dbd232485589ad65734776a5fd",
       "max": 1,
       "min": -1,
       "step": 0.01,
       "style": "IPY_MODEL_935896b758d440f2bab23b577a246be7"
      }
     },
     "0dda996cefb94a68952ef124df6a7f67": {
      "model_module": "@jupyter-widgets/controls",
      "model_module_version": "1.5.0",
      "model_name": "DescriptionStyleModel",
      "state": {
       "description_width": ""
      }
     },
     "0e9639895551452c9d3e6116b26b9c08": {
      "model_module": "@jupyter-widgets/controls",
      "model_module_version": "1.5.0",
      "model_name": "SliderStyleModel",
      "state": {
       "description_width": ""
      }
     },
     "0ec104d76eb545eebb8506742f0f84d9": {
      "model_module": "jupyter-matplotlib",
      "model_module_version": "^0.7.2",
      "model_name": "MPLCanvasModel",
      "state": {
       "_figure_label": "Figure 22",
       "_height": 550,
       "_width": 1100,
       "header_visible": false,
       "layout": "IPY_MODEL_4eedaa77d7a84189af5b8c3d424073bc",
       "resizable": false,
       "toolbar": "IPY_MODEL_b9a5482ad5464283ae07dd40d8424be7",
       "toolbar_position": "left",
       "toolbar_visible": false
      }
     },
     "0edac989b6564734ab4d376d2933be03": {
      "model_module": "@jupyter-widgets/controls",
      "model_module_version": "1.5.0",
      "model_name": "FloatSliderModel",
      "state": {
       "description": "135°",
       "layout": "IPY_MODEL_54f0e9afe5124decb27b9799bb730454",
       "max": 1,
       "min": -1,
       "step": 0.01,
       "style": "IPY_MODEL_3b22c1e7f3cd4d7d9119aa8511df64b4"
      }
     },
     "0eebe99cdb3b461b9a32e9116c501758": {
      "model_module": "@jupyter-widgets/base",
      "model_module_version": "1.2.0",
      "model_name": "LayoutModel",
      "state": {
       "border": "solid 4px #222",
       "margin": "4px",
       "padding": "0"
      }
     },
     "0eec53c783c94e4caea6c5bc30e2030c": {
      "model_module": "@jupyter-widgets/output",
      "model_module_version": "1.0.0",
      "model_name": "OutputModel",
      "state": {
       "layout": "IPY_MODEL_802c99809750478f82d79819ca066a0c",
       "outputs": [
        {
         "data": {
          "application/vnd.jupyter.widget-view+json": {
           "model_id": "8786826d341649dabcb0811e3b3c02eb",
           "version_major": 2,
           "version_minor": 0
          },
          "text/plain": "Canvas(toolbar=Toolbar(toolitems=[('Home', 'Reset original view', 'home', 'home'), ('Back', 'Back to previous …"
         },
         "metadata": {},
         "output_type": "display_data"
        }
       ]
      }
     },
     "0ef520e6ae8542c5943ff6b786a6bca1": {
      "model_module": "@jupyter-widgets/controls",
      "model_module_version": "1.5.0",
      "model_name": "SliderStyleModel",
      "state": {
       "description_width": ""
      }
     },
     "0f0df3c422f94572b38bb808fe53cfa1": {
      "model_module": "@jupyter-widgets/base",
      "model_module_version": "1.2.0",
      "model_name": "LayoutModel",
      "state": {}
     },
     "0f4f229ca2e14940b8a7d42263c3e422": {
      "model_module": "@jupyter-widgets/base",
      "model_module_version": "1.2.0",
      "model_name": "LayoutModel",
      "state": {
       "border": "solid 4px #222",
       "margin": "4px",
       "padding": "0"
      }
     },
     "0f7a73676ea84946983edb558a8e6f83": {
      "model_module": "@jupyter-widgets/base",
      "model_module_version": "1.2.0",
      "model_name": "LayoutModel",
      "state": {}
     },
     "0f99fa85a30b4e46a071749b8795ceac": {
      "model_module": "@jupyter-widgets/controls",
      "model_module_version": "1.5.0",
      "model_name": "HBoxModel",
      "state": {
       "children": [
        "IPY_MODEL_f84cee10d9ea46e5b259ef688db90c20",
        "IPY_MODEL_a70104dc83314e01b7b3d854eab0ac1d",
        "IPY_MODEL_2844d6e650d84a4da2143438064308d3"
       ],
       "layout": "IPY_MODEL_f2b8db3330534521a33ee56ca9f329d6"
      }
     },
     "0f9f9377bff045d7ba80b4e43e05e6ac": {
      "model_module": "@jupyter-widgets/controls",
      "model_module_version": "1.5.0",
      "model_name": "HBoxModel",
      "state": {
       "children": [
        "IPY_MODEL_0ae79b8830924e38b1b1749da89eb052",
        "IPY_MODEL_912065c7d9be408cb6e84262ea548c40",
        "IPY_MODEL_d828084b77d14d15af93662cdae01e94"
       ],
       "layout": "IPY_MODEL_53046444bddb460580bd9f4b68e3227f"
      }
     },
     "0fe432b67a4745bd8e49ea4dc2feb374": {
      "model_module": "@jupyter-widgets/controls",
      "model_module_version": "1.5.0",
      "model_name": "HBoxModel",
      "state": {
       "children": [
        "IPY_MODEL_ebf8653afb164735ab2e088989afed66",
        "IPY_MODEL_21fcf357b1384112b6310ba1daba2c1e",
        "IPY_MODEL_718d25207c114352959f858e659fcc2d",
        "IPY_MODEL_7ab75aa63b564c509b41e7346437c682"
       ],
       "layout": "IPY_MODEL_6fc3c3190f3b45e7a243a2e23e839431"
      }
     },
     "0ff6b07c8e1d4b43978872226cefb736": {
      "model_module": "@jupyter-widgets/controls",
      "model_module_version": "1.5.0",
      "model_name": "SliderStyleModel",
      "state": {
       "description_width": ""
      }
     },
     "100d0d12803b43c7987f01322cf377fb": {
      "model_module": "@jupyter-widgets/controls",
      "model_module_version": "1.5.0",
      "model_name": "DescriptionStyleModel",
      "state": {
       "description_width": ""
      }
     },
     "109abc21fcc6486191533d7d88f32a04": {
      "model_module": "@jupyter-widgets/base",
      "model_module_version": "1.2.0",
      "model_name": "LayoutModel",
      "state": {}
     },
     "10f3393e57fe44b5afc7a0d5619bd817": {
      "model_module": "@jupyter-widgets/controls",
      "model_module_version": "1.5.0",
      "model_name": "ButtonStyleModel",
      "state": {}
     },
     "111072491a304c0c8156629878f71073": {
      "model_module": "@jupyter-widgets/base",
      "model_module_version": "1.2.0",
      "model_name": "LayoutModel",
      "state": {}
     },
     "111e7da586eb4fb6873b19ce42e61f39": {
      "model_module": "@jupyter-widgets/controls",
      "model_module_version": "1.5.0",
      "model_name": "ButtonStyleModel",
      "state": {}
     },
     "115cf926c5454fd18ff326a2c014432d": {
      "model_module": "@jupyter-widgets/base",
      "model_module_version": "1.2.0",
      "model_name": "LayoutModel",
      "state": {}
     },
     "11650d42cddc4b48bc5b9c33e737c73d": {
      "model_module": "@jupyter-widgets/controls",
      "model_module_version": "1.5.0",
      "model_name": "SliderStyleModel",
      "state": {
       "description_width": ""
      }
     },
     "119247f3bd1c4326918fa166ca75acc4": {
      "model_module": "@jupyter-widgets/base",
      "model_module_version": "1.2.0",
      "model_name": "LayoutModel",
      "state": {}
     },
     "11a0ade1416d496c94f02c0409ea041b": {
      "model_module": "@jupyter-widgets/controls",
      "model_module_version": "1.5.0",
      "model_name": "VBoxModel",
      "state": {
       "children": [
        "IPY_MODEL_a0b5dbe0c2914a91a4ac13a5b5478524",
        "IPY_MODEL_4e1188758f974ad983cb89c05b60612f",
        "IPY_MODEL_19ec2c0fa7a2465084745c8bf89d434b"
       ],
       "layout": "IPY_MODEL_b823725874f44026bf6763b1e6accf9a"
      }
     },
     "11db58f101ab4b5b8f23a81d50980982": {
      "model_module": "@jupyter-widgets/base",
      "model_module_version": "1.2.0",
      "model_name": "LayoutModel",
      "state": {}
     },
     "12103ea97a9c46d5ad5745c0ba104f12": {
      "model_module": "@jupyter-widgets/output",
      "model_module_version": "1.0.0",
      "model_name": "OutputModel",
      "state": {
       "layout": "IPY_MODEL_89b9534ef8dc4ad9be8ec0355ea05c58",
       "outputs": [
        {
         "data": {
          "application/vnd.jupyter.widget-view+json": {
           "model_id": "b0b21c1a09074e17b864cc396a5ed64f",
           "version_major": 2,
           "version_minor": 0
          },
          "text/plain": "Canvas(toolbar=Toolbar(toolitems=[('Home', 'Reset original view', 'home', 'home'), ('Back', 'Back to previous …"
         },
         "metadata": {},
         "output_type": "display_data"
        }
       ]
      }
     },
     "1233209a027b4107914a5d46e78e529c": {
      "model_module": "@jupyter-widgets/controls",
      "model_module_version": "1.5.0",
      "model_name": "FloatSliderModel",
      "state": {
       "description": "135°",
       "layout": "IPY_MODEL_b9d593a02b3247f997ce17b3d100ebf7",
       "max": 1,
       "min": -1,
       "step": 0.01,
       "style": "IPY_MODEL_824958a79b904a8cb30f01ac8fb5d9fe"
      }
     },
     "130a0d73beb14d48a913c58022f4a786": {
      "model_module": "@jupyter-widgets/base",
      "model_module_version": "1.2.0",
      "model_name": "LayoutModel",
      "state": {}
     },
     "138170dbbb6b413f83d64756ee1b856a": {
      "model_module": "@jupyter-widgets/controls",
      "model_module_version": "1.5.0",
      "model_name": "FloatSliderModel",
      "state": {
       "description": "180°",
       "layout": "IPY_MODEL_e248d3b40caa48feb3b49daf6cf553c6",
       "max": 1,
       "min": -1,
       "step": 0.01,
       "style": "IPY_MODEL_612d24d20e244891ad28a640d31f367f"
      }
     },
     "13820c4f6e7c4189a78e22ec4cbfd4f5": {
      "model_module": "@jupyter-widgets/controls",
      "model_module_version": "1.5.0",
      "model_name": "SliderStyleModel",
      "state": {
       "description_width": ""
      }
     },
     "1388142745114682ac44f85b9c775d8b": {
      "model_module": "@jupyter-widgets/controls",
      "model_module_version": "1.5.0",
      "model_name": "SliderStyleModel",
      "state": {
       "description_width": ""
      }
     },
     "140c4813c28843ecb5de4f5035eb70f5": {
      "model_module": "@jupyter-widgets/controls",
      "model_module_version": "1.5.0",
      "model_name": "HBoxModel",
      "state": {
       "children": [
        "IPY_MODEL_ebe1d8e460cf4792b04277ca8afca53f",
        "IPY_MODEL_d345883a17fc49ff86a5903d0af4ac02",
        "IPY_MODEL_2974b7b4bf284e97ae933f8992344fe1"
       ],
       "layout": "IPY_MODEL_e2eed231694345d899632d7562525dc7"
      }
     },
     "142f8aaaca7b4bcab733205bb9c6f513": {
      "model_module": "@jupyter-widgets/controls",
      "model_module_version": "1.5.0",
      "model_name": "SliderStyleModel",
      "state": {
       "description_width": ""
      }
     },
     "14425892df3d4e28b2569e7067865908": {
      "model_module": "@jupyter-widgets/controls",
      "model_module_version": "1.5.0",
      "model_name": "SliderStyleModel",
      "state": {
       "description_width": ""
      }
     },
     "14d8a9e1f3ed4d9da2a4d79bef3ce45a": {
      "model_module": "@jupyter-widgets/base",
      "model_module_version": "1.2.0",
      "model_name": "LayoutModel",
      "state": {}
     },
     "1534f4a220254162809671e42a1f53bf": {
      "model_module": "@jupyter-widgets/controls",
      "model_module_version": "1.5.0",
      "model_name": "HBoxModel",
      "state": {
       "children": [
        "IPY_MODEL_a1d1a10fba3d41479c2019ed7402f721",
        "IPY_MODEL_d3348af644c3451d9c917792ddfbb261"
       ],
       "layout": "IPY_MODEL_85a6a7856d114cf18d15696248c80aab"
      }
     },
     "155800dc06204b858391f99b5aebe1c1": {
      "model_module": "@jupyter-widgets/base",
      "model_module_version": "1.2.0",
      "model_name": "LayoutModel",
      "state": {}
     },
     "15aa37a625ce434cbac8514cec629e68": {
      "model_module": "@jupyter-widgets/controls",
      "model_module_version": "1.5.0",
      "model_name": "FloatSliderModel",
      "state": {
       "description": "270°",
       "layout": "IPY_MODEL_b900d147e682448bb8030b15922363e3",
       "max": 1,
       "min": -1,
       "step": 0.01,
       "style": "IPY_MODEL_6eb5635730f04a0fa035aaba5ba5723b"
      }
     },
     "15aa3c3d34b9469e9acfd9a26f05d741": {
      "model_module": "@jupyter-widgets/base",
      "model_module_version": "1.2.0",
      "model_name": "LayoutModel",
      "state": {
       "border": "solid 4px #222",
       "margin": "4px",
       "padding": "0"
      }
     },
     "15ee2071e30c4f52bb759f4c297ab45e": {
      "model_module": "@jupyter-widgets/controls",
      "model_module_version": "1.5.0",
      "model_name": "SliderStyleModel",
      "state": {
       "description_width": ""
      }
     },
     "1601dbbee4a94c969fcc502baa935f92": {
      "model_module": "@jupyter-widgets/controls",
      "model_module_version": "1.5.0",
      "model_name": "FloatSliderModel",
      "state": {
       "description": "Compression Threshold",
       "layout": "IPY_MODEL_65b6a75beb424296b2951ec925d6fd61",
       "max": 1,
       "step": 0.01,
       "style": "IPY_MODEL_706ae08576b146e58504664fdef7907b",
       "value": 0.8
      }
     },
     "1657c87f03b14731b51412782f41128f": {
      "model_module": "@jupyter-widgets/controls",
      "model_module_version": "1.5.0",
      "model_name": "TabModel",
      "state": {
       "_titles": {
        "0": "Global Controls",
        "1": "Protected Area Controls",
        "2": "Saturation Controls",
        "3": "Hue Controls"
       },
       "children": [
        "IPY_MODEL_9b537d00c24f44f4b5a581adf11f3cbe",
        "IPY_MODEL_b3247f8ad9924d098a198b49897e3915",
        "IPY_MODEL_8ab21afe2f574d098b6ffdc6bce9b777",
        "IPY_MODEL_05fd555db7e8484ca875873efae46dfd"
       ],
       "layout": "IPY_MODEL_f3a1fee463b644e5bca2937a6aba63a0"
      }
     },
     "169d0af3ba3242818e153aad86cf0219": {
      "model_module": "@jupyter-widgets/controls",
      "model_module_version": "1.5.0",
      "model_name": "HBoxModel",
      "state": {
       "children": [
        "IPY_MODEL_7877b6b57872415189eab48eb46ba706",
        "IPY_MODEL_be19f786cdbc4a3c8389c74215294eb3",
        "IPY_MODEL_2f219dec6afe43fa89f1fc66670def73",
        "IPY_MODEL_f24257d73c8240b194397d9a053cbe0d"
       ],
       "layout": "IPY_MODEL_7b38bdf932a74e76bb8c0084c39cee10"
      }
     },
     "16c898c9da1046dea1cd3012012c54d4": {
      "model_module": "@jupyter-widgets/controls",
      "model_module_version": "1.5.0",
      "model_name": "TabModel",
      "state": {
       "_titles": {
        "0": "Global Controls",
        "1": "Compression Controls"
       },
       "children": [
        "IPY_MODEL_650742dda47a4857b78536db723e4803",
        "IPY_MODEL_62cce2644db048e8a7496ee3761cc515"
       ],
       "layout": "IPY_MODEL_6c9c1e503eb24be8bf2d860c0e438442"
      }
     },
     "16cdaf5e78094bde939314704a39fb6f": {
      "model_module": "@jupyter-widgets/base",
      "model_module_version": "1.2.0",
      "model_name": "LayoutModel",
      "state": {
       "border": "solid 4px #222",
       "margin": "4px",
       "padding": "0"
      }
     },
     "174adecb877349f2a1f5a9e6f66e61f0": {
      "model_module": "@jupyter-widgets/controls",
      "model_module_version": "1.5.0",
      "model_name": "FloatSliderModel",
      "state": {
       "description": "180°",
       "layout": "IPY_MODEL_6e52e475f46949e9843b2fe544eb9073",
       "max": 1,
       "min": -1,
       "step": 0.01,
       "style": "IPY_MODEL_522a6d2f7f1141459f8409d56c73584e"
      }
     },
     "175ecb9d64384f6e8f64eec24f813812": {
      "model_module": "@jupyter-widgets/controls",
      "model_module_version": "1.5.0",
      "model_name": "SliderStyleModel",
      "state": {
       "description_width": ""
      }
     },
     "178d9b3279d145e3b4385c4fd3f83aa8": {
      "model_module": "@jupyter-widgets/controls",
      "model_module_version": "1.5.0",
      "model_name": "SliderStyleModel",
      "state": {
       "description_width": ""
      }
     },
     "17ab6157aa73464ca0966d88d3918726": {
      "model_module": "@jupyter-widgets/base",
      "model_module_version": "1.2.0",
      "model_name": "LayoutModel",
      "state": {}
     },
     "17acbc3fba9f401698250fc4c337e554": {
      "model_module": "@jupyter-widgets/controls",
      "model_module_version": "1.5.0",
      "model_name": "SliderStyleModel",
      "state": {
       "description_width": ""
      }
     },
     "17c1098bf5f84660aaa3b9d96ae07a66": {
      "model_module": "@jupyter-widgets/base",
      "model_module_version": "1.2.0",
      "model_name": "LayoutModel",
      "state": {}
     },
     "17f452aa676840c0b8c7c9118423cdbc": {
      "model_module": "@jupyter-widgets/controls",
      "model_module_version": "1.5.0",
      "model_name": "FloatSliderModel",
      "state": {
       "description": "Compression Threshold",
       "layout": "IPY_MODEL_edfeaab91ba842e390fbddc430a2f6bd",
       "max": 1,
       "step": 0.01,
       "style": "IPY_MODEL_b7360a42876846199a9751d29de96dbc",
       "value": 0.8
      }
     },
     "185f3c8a3c2849ae81e549ca4bccd276": {
      "model_module": "@jupyter-widgets/base",
      "model_module_version": "1.2.0",
      "model_name": "LayoutModel",
      "state": {}
     },
     "1898c151f5b44ad597e4787cfd208fdc": {
      "model_module": "@jupyter-widgets/controls",
      "model_module_version": "1.5.0",
      "model_name": "ButtonStyleModel",
      "state": {}
     },
     "18d8b41464ad416ba759b9a3fbd28e80": {
      "model_module": "@jupyter-widgets/base",
      "model_module_version": "1.2.0",
      "model_name": "LayoutModel",
      "state": {}
     },
     "190ec95ce8284c85916d94d4ffe32e0c": {
      "model_module": "@jupyter-widgets/controls",
      "model_module_version": "1.5.0",
      "model_name": "FloatSliderModel",
      "state": {
       "description": "90°",
       "layout": "IPY_MODEL_9d60346b6c15404d961d08ab06b3df6e",
       "max": 1,
       "min": -1,
       "step": 0.01,
       "style": "IPY_MODEL_09e8c7c2455049499443aa95ab0536fb"
      }
     },
     "1932823da3944b44becaaea05aae3ad3": {
      "model_module": "@jupyter-widgets/base",
      "model_module_version": "1.2.0",
      "model_name": "LayoutModel",
      "state": {}
     },
     "194b1ab0f858484199786bba5f756caf": {
      "model_module": "@jupyter-widgets/base",
      "model_module_version": "1.2.0",
      "model_name": "LayoutModel",
      "state": {}
     },
     "19b35a9a1d02440b886a807a59263078": {
      "model_module": "@jupyter-widgets/base",
      "model_module_version": "1.2.0",
      "model_name": "LayoutModel",
      "state": {}
     },
     "19cb8e2008714a96a4a2843ccf233549": {
      "model_module": "@jupyter-widgets/controls",
      "model_module_version": "1.5.0",
      "model_name": "CheckboxModel",
      "state": {
       "description": "Disable Medicina",
       "disabled": false,
       "layout": "IPY_MODEL_1fb15464896044faae876ffe6da728c4",
       "style": "IPY_MODEL_1ee90ffb5d764e38a18bd743fcee1300",
       "value": false
      }
     },
     "19ec2c0fa7a2465084745c8bf89d434b": {
      "model_module": "@jupyter-widgets/controls",
      "model_module_version": "1.5.0",
      "model_name": "FloatSliderModel",
      "state": {
       "description": "90°",
       "layout": "IPY_MODEL_c2a25c17b2ea46f493693b460faacd2e",
       "max": 1,
       "min": -1,
       "step": 0.01,
       "style": "IPY_MODEL_7f02b03caf96482f970c8ecf18866b87"
      }
     },
     "1a6c785821734910aea8d4b0b2b9fcbc": {
      "model_module": "@jupyter-widgets/base",
      "model_module_version": "1.2.0",
      "model_name": "LayoutModel",
      "state": {}
     },
     "1a7c5513a3ef4a74a6486479ea0eb9f6": {
      "model_module": "@jupyter-widgets/controls",
      "model_module_version": "1.5.0",
      "model_name": "HBoxModel",
      "state": {
       "children": [
        "IPY_MODEL_de65c3650b6f415fbf6015fbecbfe241",
        "IPY_MODEL_7780df509297401aa86f54df215c0664",
        "IPY_MODEL_1601dbbee4a94c969fcc502baa935f92"
       ],
       "layout": "IPY_MODEL_6f4ff46174924d3296652aafe1bc7cdd"
      }
     },
     "1a93f62a199645edbe34a63e100f82c5": {
      "model_module": "@jupyter-widgets/controls",
      "model_module_version": "1.5.0",
      "model_name": "FloatSliderModel",
      "state": {
       "description": "315°",
       "layout": "IPY_MODEL_2f88cd2e616648cc9c7f09a8368c3e8d",
       "max": 1,
       "min": -1,
       "step": 0.01,
       "style": "IPY_MODEL_59b6d519b7de4f4db83f5cf68cf8b2af"
      }
     },
     "1aac96818ea9457b8faadd9053b05f7a": {
      "model_module": "@jupyter-widgets/controls",
      "model_module_version": "1.5.0",
      "model_name": "VBoxModel",
      "state": {
       "children": [
        "IPY_MODEL_b15dfeb101cf407cb273e3b63fce305b",
        "IPY_MODEL_d57bb3db0a204697a81759601e378f13",
        "IPY_MODEL_190ec95ce8284c85916d94d4ffe32e0c"
       ],
       "layout": "IPY_MODEL_b1172a0237384593b51af10a3fe2c3b2"
      }
     },
     "1acfa4d4f3f648eeb1fa3fe1698f5cb3": {
      "model_module": "@jupyter-widgets/controls",
      "model_module_version": "1.5.0",
      "model_name": "FloatSliderModel",
      "state": {
       "description": "315°",
       "layout": "IPY_MODEL_40ce2517a71047ef9c24ab1e50c118b7",
       "max": 1,
       "min": -1,
       "step": 0.01,
       "style": "IPY_MODEL_88d097ac1092470ba34ca8507462fffe"
      }
     },
     "1ae63d0a00dc4c569d14b2b5397d1504": {
      "model_module": "@jupyter-widgets/base",
      "model_module_version": "1.2.0",
      "model_name": "LayoutModel",
      "state": {}
     },
     "1aed1914db294b5eb287fc67a5c6da1d": {
      "model_module": "@jupyter-widgets/base",
      "model_module_version": "1.2.0",
      "model_name": "LayoutModel",
      "state": {}
     },
     "1b085c8e51b1495bb8082ca5e93c49ea": {
      "model_module": "@jupyter-widgets/base",
      "model_module_version": "1.2.0",
      "model_name": "LayoutModel",
      "state": {}
     },
     "1b19c008e8c64aed8d886b5cadd8ffa0": {
      "model_module": "@jupyter-widgets/base",
      "model_module_version": "1.2.0",
      "model_name": "LayoutModel",
      "state": {}
     },
     "1b3318738b47416c9d89ba74c1803a75": {
      "model_module": "@jupyter-widgets/base",
      "model_module_version": "1.2.0",
      "model_name": "LayoutModel",
      "state": {}
     },
     "1b43aeb717494a87ad3d80381b7e7498": {
      "model_module": "@jupyter-widgets/controls",
      "model_module_version": "1.5.0",
      "model_name": "ButtonModel",
      "state": {
       "description": "Reset Saturation Controls",
       "layout": "IPY_MODEL_3db55e9b82c44009ba06fbe95384226b",
       "style": "IPY_MODEL_47924b79551b48b987748fcaa07206ee"
      }
     },
     "1b725cc1e2d44b5c8b3bef13fb007d24": {
      "model_module": "@jupyter-widgets/base",
      "model_module_version": "1.2.0",
      "model_name": "LayoutModel",
      "state": {}
     },
     "1b9de85ddbf1443882f3dbe4e28f1552": {
      "model_module": "@jupyter-widgets/controls",
      "model_module_version": "1.5.0",
      "model_name": "SliderStyleModel",
      "state": {
       "description_width": ""
      }
     },
     "1bca98dcd7274fc5812ff75982493bab": {
      "model_module": "@jupyter-widgets/base",
      "model_module_version": "1.2.0",
      "model_name": "LayoutModel",
      "state": {}
     },
     "1bcb50f5e0d54bf18bad1fa755015d67": {
      "model_module": "@jupyter-widgets/controls",
      "model_module_version": "1.5.0",
      "model_name": "HBoxModel",
      "state": {
       "children": [
        "IPY_MODEL_9b7885130d104c6cb2eff124b7254df3",
        "IPY_MODEL_060454db61aa4cefac9f8305d556b69b",
        "IPY_MODEL_ed9a84ad293e4a11aa6b4b624463bcf6",
        "IPY_MODEL_a813b208e84342deb25c9c09268cce2b"
       ],
       "layout": "IPY_MODEL_7b1e8ca5bf284c6daec25dc25ee48d98"
      }
     },
     "1be671f8c20c416bb1af26623c9b3579": {
      "model_module": "jupyter-matplotlib",
      "model_module_version": "^0.7.2",
      "model_name": "MPLCanvasModel",
      "state": {
       "_figure_label": "Figure 9",
       "_height": 458,
       "_width": 1099,
       "header_visible": false,
       "layout": "IPY_MODEL_7e9052fd508e420498bd3b0c07430049",
       "resizable": false,
       "toolbar": "IPY_MODEL_2c8ecab7df644c5ba15ad722a2e973bc",
       "toolbar_position": "left",
       "toolbar_visible": false
      }
     },
     "1bf2b102691544c7ba4e7a40e8284b99": {
      "model_module": "@jupyter-widgets/base",
      "model_module_version": "1.2.0",
      "model_name": "LayoutModel",
      "state": {}
     },
     "1c249bfd33fc45daa311257e2168ef3e": {
      "model_module": "@jupyter-widgets/controls",
      "model_module_version": "1.5.0",
      "model_name": "SliderStyleModel",
      "state": {
       "description_width": ""
      }
     },
     "1c3171c3fc0c46d5bdd38f4b7270dd0f": {
      "model_module": "@jupyter-widgets/controls",
      "model_module_version": "1.5.0",
      "model_name": "HBoxModel",
      "state": {
       "children": [
        "IPY_MODEL_779f62768d2a42ac85a49d1897bfbf29",
        "IPY_MODEL_224d2091189541ef9d2000dabe243cf3",
        "IPY_MODEL_a64bc49f74d84ae4b4686fec0f700a06",
        "IPY_MODEL_b2c9ddfd9100494290b3a9a0740c6f23"
       ],
       "layout": "IPY_MODEL_04e5fc677904407fb8b227d50565f2de"
      }
     },
     "1cc60aaeb79d41dfbedc652354ce6192": {
      "model_module": "@jupyter-widgets/controls",
      "model_module_version": "1.5.0",
      "model_name": "SliderStyleModel",
      "state": {
       "description_width": ""
      }
     },
     "1cf6d05812014cdca96a201b6d777d55": {
      "model_module": "@jupyter-widgets/controls",
      "model_module_version": "1.5.0",
      "model_name": "SliderStyleModel",
      "state": {
       "description_width": ""
      }
     },
     "1d29f00fa281494eb6327aaa68821692": {
      "model_module": "@jupyter-widgets/base",
      "model_module_version": "1.2.0",
      "model_name": "LayoutModel",
      "state": {}
     },
     "1d9d38b1b2da40f9bfe61856fea28cf1": {
      "model_module": "@jupyter-widgets/controls",
      "model_module_version": "1.5.0",
      "model_name": "ButtonModel",
      "state": {
       "description": "Save Figure",
       "layout": "IPY_MODEL_e37058f3d9f6458b9cb49a1124e69d7c",
       "style": "IPY_MODEL_8ec7aba187ef40308eb73888f7025930"
      }
     },
     "1dc1d31931a74ef4bfabe3d7296eca37": {
      "model_module": "@jupyter-widgets/base",
      "model_module_version": "1.2.0",
      "model_name": "LayoutModel",
      "state": {}
     },
     "1dce44463e964ea8bf88436274a61d5f": {
      "model_module": "@jupyter-widgets/controls",
      "model_module_version": "1.5.0",
      "model_name": "ButtonModel",
      "state": {
       "description": "Export Image",
       "layout": "IPY_MODEL_109abc21fcc6486191533d7d88f32a04",
       "style": "IPY_MODEL_3c1c00f3425a4191afe4ad064d07b084"
      }
     },
     "1df1c80f188e48bc9fef3221da6c616d": {
      "model_module": "@jupyter-widgets/base",
      "model_module_version": "1.2.0",
      "model_name": "LayoutModel",
      "state": {}
     },
     "1e5e4b1fc0404eafb672aced48deb96e": {
      "model_module": "@jupyter-widgets/output",
      "model_module_version": "1.0.0",
      "model_name": "OutputModel",
      "state": {
       "layout": "IPY_MODEL_5705b11d17c147f18e1d3eb52cfdce9c",
       "outputs": [
        {
         "data": {
          "application/vnd.jupyter.widget-view+json": {
           "model_id": "7ba1a3b779b64101abf715f5cf1ef6a8",
           "version_major": 2,
           "version_minor": 0
          },
          "text/plain": "Canvas(toolbar=Toolbar(toolitems=[('Home', 'Reset original view', 'home', 'home'), ('Back', 'Back to previous …"
         },
         "metadata": {},
         "output_type": "display_data"
        }
       ]
      }
     },
     "1ed0e60effdf4e3590d838911a415339": {
      "model_module": "@jupyter-widgets/base",
      "model_module_version": "1.2.0",
      "model_name": "LayoutModel",
      "state": {}
     },
     "1ee90ffb5d764e38a18bd743fcee1300": {
      "model_module": "@jupyter-widgets/controls",
      "model_module_version": "1.5.0",
      "model_name": "DescriptionStyleModel",
      "state": {
       "description_width": ""
      }
     },
     "1f272e3f1977465e8bf1baa2118416f4": {
      "model_module": "@jupyter-widgets/base",
      "model_module_version": "1.2.0",
      "model_name": "LayoutModel",
      "state": {}
     },
     "1f2ba7027f5943e9b368999b6205f0be": {
      "model_module": "@jupyter-widgets/controls",
      "model_module_version": "1.5.0",
      "model_name": "SliderStyleModel",
      "state": {
       "description_width": ""
      }
     },
     "1fa73cf7af2e4891a29301fe16fc1b0a": {
      "model_module": "@jupyter-widgets/controls",
      "model_module_version": "1.5.0",
      "model_name": "ButtonModel",
      "state": {
       "description": "Reset Protected Area",
       "layout": "IPY_MODEL_f891e9c8bed04a3287093c7932bfd89f",
       "style": "IPY_MODEL_3726620035c942139503937f480a0765"
      }
     },
     "1fac460555c24c3486be6f34eb152e26": {
      "model_module": "@jupyter-widgets/controls",
      "model_module_version": "1.5.0",
      "model_name": "HBoxModel",
      "state": {
       "children": [
        "IPY_MODEL_22250213b3cf4164a152610f099afb64",
        "IPY_MODEL_60f75aa5e3ff496ca5a5d96bffedbdfc",
        "IPY_MODEL_354d294b7b634f99a3ac04542e837b5b",
        "IPY_MODEL_9e3774b377f941dda10814fdb27ae7a6"
       ],
       "layout": "IPY_MODEL_99e2f4a17f68405ba22194c7be0038b6"
      }
     },
     "1fb15464896044faae876ffe6da728c4": {
      "model_module": "@jupyter-widgets/base",
      "model_module_version": "1.2.0",
      "model_name": "LayoutModel",
      "state": {}
     },
     "1ffa905d66e6444c80b589057fe5fb66": {
      "model_module": "@jupyter-widgets/controls",
      "model_module_version": "1.5.0",
      "model_name": "SliderStyleModel",
      "state": {
       "description_width": ""
      }
     },
     "20087b6122ac4e89b1a9bd746d9cafbe": {
      "model_module": "jupyter-matplotlib",
      "model_module_version": "^0.7.2",
      "model_name": "ToolbarModel",
      "state": {
       "layout": "IPY_MODEL_fec41f3413b74b148679284f181de9f9",
       "toolitems": [
        [
         "Home",
         "Reset original view",
         "home",
         "home"
        ],
        [
         "Back",
         "Back to previous view",
         "arrow-left",
         "back"
        ],
        [
         "Forward",
         "Forward to next view",
         "arrow-right",
         "forward"
        ],
        [
         "Pan",
         "Pan axes with left mouse, zoom with right",
         "arrows",
         "pan"
        ],
        [
         "Zoom",
         "Zoom to rectangle",
         "square-o",
         "zoom"
        ],
        [
         "Download",
         "Download plot",
         "floppy-o",
         "save_figure"
        ]
       ]
      }
     },
     "201a7917c64648fa99e884d76844d7f7": {
      "model_module": "@jupyter-widgets/base",
      "model_module_version": "1.2.0",
      "model_name": "LayoutModel",
      "state": {}
     },
     "2038ab0abf55404e840365376b3f370f": {
      "model_module": "@jupyter-widgets/controls",
      "model_module_version": "1.5.0",
      "model_name": "FloatSliderModel",
      "state": {
       "description": "90°",
       "layout": "IPY_MODEL_e44abaa04d1346f9aa97865e14ec7da1",
       "max": 1,
       "min": -1,
       "step": 0.01,
       "style": "IPY_MODEL_14425892df3d4e28b2569e7067865908"
      }
     },
     "205fb20ccc7b412a955952978a6fce4b": {
      "model_module": "@jupyter-widgets/controls",
      "model_module_version": "1.5.0",
      "model_name": "SliderStyleModel",
      "state": {
       "description_width": ""
      }
     },
     "20801357a23a46a6b5591a32825c749f": {
      "model_module": "@jupyter-widgets/base",
      "model_module_version": "1.2.0",
      "model_name": "LayoutModel",
      "state": {}
     },
     "20a9bae962ad416dbd49960b709c430b": {
      "model_module": "@jupyter-widgets/base",
      "model_module_version": "1.2.0",
      "model_name": "LayoutModel",
      "state": {}
     },
     "20b096161e964efa99fbf5690cbe4d57": {
      "model_module": "@jupyter-widgets/controls",
      "model_module_version": "1.5.0",
      "model_name": "DescriptionStyleModel",
      "state": {
       "description_width": ""
      }
     },
     "20c6be1854e447d98abef75de399127b": {
      "model_module": "@jupyter-widgets/controls",
      "model_module_version": "1.5.0",
      "model_name": "FloatSliderModel",
      "state": {
       "description": "Compression Threshold",
       "layout": "IPY_MODEL_b3ccb10d6b74483799b079be470fad72",
       "max": 1,
       "step": 0.01,
       "style": "IPY_MODEL_2fc3917ec00c4eb0b16a28798d7eebfa",
       "value": 0.5
      }
     },
     "2136010a26704edba2b7b2d9e163dc5f": {
      "model_module": "@jupyter-widgets/controls",
      "model_module_version": "1.5.0",
      "model_name": "VBoxModel",
      "state": {
       "children": [
        "IPY_MODEL_06c573fc0c2e49409dc86243cf96f592",
        "IPY_MODEL_a599db79f916413faf7afa0c60fd93b9"
       ],
       "layout": "IPY_MODEL_397b20d4c90449cf8f5fce798c13dc1c"
      }
     },
     "216b8b6ad7164213b465811fcca77edc": {
      "model_module": "@jupyter-widgets/controls",
      "model_module_version": "1.5.0",
      "model_name": "SliderStyleModel",
      "state": {
       "description_width": ""
      }
     },
     "21dbba141d054d6e9dba70baf1372754": {
      "model_module": "@jupyter-widgets/controls",
      "model_module_version": "1.5.0",
      "model_name": "FloatSliderModel",
      "state": {
       "description": "225°",
       "layout": "IPY_MODEL_69a455dbb7274fa8aee27356aca47d9f",
       "max": 1,
       "min": -1,
       "step": 0.01,
       "style": "IPY_MODEL_7d6a38d8ac07432cb0d002d7849a0b26"
      }
     },
     "21fcf357b1384112b6310ba1daba2c1e": {
      "model_module": "@jupyter-widgets/controls",
      "model_module_version": "1.5.0",
      "model_name": "ButtonModel",
      "state": {
       "description": "Export Image",
       "layout": "IPY_MODEL_f9917162e9014751bf7b1adfd721e201",
       "style": "IPY_MODEL_8228130ddbac43b88061e519e0b00df7"
      }
     },
     "220b58ccbb9c41268ee733884a7a951d": {
      "model_module": "@jupyter-widgets/base",
      "model_module_version": "1.2.0",
      "model_name": "LayoutModel",
      "state": {}
     },
     "222453e6ea7d470ead7a6d0b3d621fa2": {
      "model_module": "@jupyter-widgets/controls",
      "model_module_version": "1.5.0",
      "model_name": "DescriptionStyleModel",
      "state": {
       "description_width": ""
      }
     },
     "22250213b3cf4164a152610f099afb64": {
      "model_module": "@jupyter-widgets/controls",
      "model_module_version": "1.5.0",
      "model_name": "VBoxModel",
      "state": {
       "children": [
        "IPY_MODEL_538a20d9d52f4872bedf6cf353573c1d"
       ],
       "layout": "IPY_MODEL_e984ecc3b42c4ca3986bd0b7cf163e80"
      }
     },
     "224d2091189541ef9d2000dabe243cf3": {
      "model_module": "@jupyter-widgets/controls",
      "model_module_version": "1.5.0",
      "model_name": "VBoxModel",
      "state": {
       "children": [
        "IPY_MODEL_700200efe0e44f6fb2729dce4c15e97b",
        "IPY_MODEL_2f0b5ab407dc42f89442b7b3318fc0c0",
        "IPY_MODEL_2038ab0abf55404e840365376b3f370f"
       ],
       "layout": "IPY_MODEL_334bbd5c03d14264b9cf3c9e5a081369"
      }
     },
     "226874cc05624e5e8ac9f94786753da7": {
      "model_module": "@jupyter-widgets/base",
      "model_module_version": "1.2.0",
      "model_name": "LayoutModel",
      "state": {}
     },
     "22db4c0f3a71472fa4e16e1ba8f423b9": {
      "model_module": "@jupyter-widgets/controls",
      "model_module_version": "1.5.0",
      "model_name": "CheckboxModel",
      "state": {
       "description": "Disable Medicina",
       "disabled": false,
       "layout": "IPY_MODEL_2bf085a9f720403e87e3e08a8e845c87",
       "style": "IPY_MODEL_dff892be6a68420c896952120cb76a83",
       "value": false
      }
     },
     "22e03eea0a794e22b1b4584fae0f6394": {
      "model_module": "@jupyter-widgets/controls",
      "model_module_version": "1.5.0",
      "model_name": "SliderStyleModel",
      "state": {
       "description_width": ""
      }
     },
     "2349d4f3c0bc431aa0e5cb2f4886f70c": {
      "model_module": "@jupyter-widgets/controls",
      "model_module_version": "1.5.0",
      "model_name": "FloatSliderModel",
      "state": {
       "description": "315°",
       "layout": "IPY_MODEL_601a7599e3894c19b6148bf5e90d28cf",
       "max": 1,
       "min": -1,
       "step": 0.01,
       "style": "IPY_MODEL_68ff32e96f294902962f6e06d0318ee2"
      }
     },
     "23b46b71959f4664a94af9971e5b439d": {
      "model_module": "@jupyter-widgets/base",
      "model_module_version": "1.2.0",
      "model_name": "LayoutModel",
      "state": {}
     },
     "241f03c3d40e480a9e5fd24637d67350": {
      "model_module": "@jupyter-widgets/base",
      "model_module_version": "1.2.0",
      "model_name": "LayoutModel",
      "state": {}
     },
     "24a6cc8aeb4b432ea4a460ed8a8daa94": {
      "model_module": "@jupyter-widgets/controls",
      "model_module_version": "1.5.0",
      "model_name": "SliderStyleModel",
      "state": {
       "description_width": ""
      }
     },
     "24c54011a02e467faef8040c68c6cb73": {
      "model_module": "@jupyter-widgets/controls",
      "model_module_version": "1.5.0",
      "model_name": "FloatSliderModel",
      "state": {
       "description": "135°",
       "layout": "IPY_MODEL_056695d4db9a481bae60a3aee2478e08",
       "max": 1,
       "min": -1,
       "step": 0.01,
       "style": "IPY_MODEL_c035725810104197873368abc00adda5"
      }
     },
     "24d168391667427580d86857784f1d89": {
      "model_module": "@jupyter-widgets/controls",
      "model_module_version": "1.5.0",
      "model_name": "ButtonModel",
      "state": {
       "description": "Export Image",
       "layout": "IPY_MODEL_7cdef34dea4e4247a543519560f0ff3a",
       "style": "IPY_MODEL_cb8849c287ca466d958664530824b225"
      }
     },
     "24e4ef3f79304c32b915f5cdc94845b2": {
      "model_module": "@jupyter-widgets/output",
      "model_module_version": "1.0.0",
      "model_name": "OutputModel",
      "state": {
       "layout": "IPY_MODEL_c36d2b53ebb8478cbc20cfb7e28d776d",
       "outputs": [
        {
         "data": {
          "application/vnd.jupyter.widget-view+json": {
           "model_id": "25dbf54f07274c579b057ab257c258a0",
           "version_major": 2,
           "version_minor": 0
          },
          "text/plain": "Canvas(toolbar=Toolbar(toolitems=[('Home', 'Reset original view', 'home', 'home'), ('Back', 'Back to previous …"
         },
         "metadata": {},
         "output_type": "display_data"
        }
       ]
      }
     },
     "25036f80c38b437cb16232b998987a77": {
      "model_module": "@jupyter-widgets/controls",
      "model_module_version": "1.5.0",
      "model_name": "SliderStyleModel",
      "state": {
       "description_width": ""
      }
     },
     "250da7317a1643a0b202c0bb7d667abb": {
      "model_module": "@jupyter-widgets/controls",
      "model_module_version": "1.5.0",
      "model_name": "ButtonStyleModel",
      "state": {}
     },
     "256cf11238c14fa6b03231832500b64a": {
      "model_module": "@jupyter-widgets/controls",
      "model_module_version": "1.5.0",
      "model_name": "ButtonStyleModel",
      "state": {}
     },
     "257a8f42ba334cc1b4bbbbef2c5610ee": {
      "model_module": "@jupyter-widgets/base",
      "model_module_version": "1.2.0",
      "model_name": "LayoutModel",
      "state": {}
     },
     "25dbf54f07274c579b057ab257c258a0": {
      "model_module": "jupyter-matplotlib",
      "model_module_version": "^0.7.2",
      "model_name": "MPLCanvasModel",
      "state": {
       "_figure_label": "Figure 6",
       "_height": 508,
       "_width": 1100,
       "header_visible": false,
       "layout": "IPY_MODEL_7399dcb4ab714b6f80b2844e5a714e2a",
       "resizable": false,
       "toolbar": "IPY_MODEL_a37fc2d73fe94634a1de84d1ac6de75e",
       "toolbar_position": "left",
       "toolbar_visible": false
      }
     },
     "25ee5adc54ed456eaa7d605e89e2d28b": {
      "model_module": "@jupyter-widgets/base",
      "model_module_version": "1.2.0",
      "model_name": "LayoutModel",
      "state": {}
     },
     "26cf9ea16ed848fda91a31e4ea743d48": {
      "model_module": "@jupyter-widgets/controls",
      "model_module_version": "1.5.0",
      "model_name": "HBoxModel",
      "state": {
       "children": [
        "IPY_MODEL_742de32d1d544d61aa3c6cf6fe930005",
        "IPY_MODEL_3a4f7b6ede604dffb350b7734355fe60"
       ],
       "layout": "IPY_MODEL_f70a4d22e01e430bb7610589a9a0529c"
      }
     },
     "2728cdc7f08849779a3807b802f27a84": {
      "model_module": "@jupyter-widgets/controls",
      "model_module_version": "1.5.0",
      "model_name": "ButtonModel",
      "state": {
       "description": "Reset Compression Controls",
       "layout": "IPY_MODEL_a9a96f6d6d254ce8bc98e6fb7847e655",
       "style": "IPY_MODEL_9af1c84974604c3987524440240004aa"
      }
     },
     "2742f62d5b1e4764b3614cd8408cb097": {
      "model_module": "@jupyter-widgets/base",
      "model_module_version": "1.2.0",
      "model_name": "LayoutModel",
      "state": {}
     },
     "2765968360cf41eab19770fbe57798e3": {
      "model_module": "@jupyter-widgets/base",
      "model_module_version": "1.2.0",
      "model_name": "LayoutModel",
      "state": {}
     },
     "2770f9d8f3cd43378cecd6a9bfba5c81": {
      "model_module": "@jupyter-widgets/base",
      "model_module_version": "1.2.0",
      "model_name": "LayoutModel",
      "state": {}
     },
     "2844d6e650d84a4da2143438064308d3": {
      "model_module": "@jupyter-widgets/controls",
      "model_module_version": "1.5.0",
      "model_name": "FloatSliderModel",
      "state": {
       "description": "Compression Threshold",
       "layout": "IPY_MODEL_c4b91183fbb34dc1a31a41719c858138",
       "max": 1,
       "step": 0.01,
       "style": "IPY_MODEL_da13be2ae1e7461facf25b815848f3a6",
       "value": 0.8
      }
     },
     "288edba7635740f29cea45eabd058ecd": {
      "model_module": "@jupyter-widgets/controls",
      "model_module_version": "1.5.0",
      "model_name": "HBoxModel",
      "state": {
       "children": [
        "IPY_MODEL_c820432b657049acbd5f071fe1ee4e68",
        "IPY_MODEL_7a7ade181f324e0ba4c30fdb3afef538",
        "IPY_MODEL_5232d1040fec4f478bf5b62387020649"
       ],
       "layout": "IPY_MODEL_dfa76d89a99942c5a0bb07822b8b23dc"
      }
     },
     "28dd4f09ea0744b39af99333c4e0572f": {
      "model_module": "@jupyter-widgets/base",
      "model_module_version": "1.2.0",
      "model_name": "LayoutModel",
      "state": {}
     },
     "291340445656496997ff712b1a4447fe": {
      "model_module": "@jupyter-widgets/controls",
      "model_module_version": "1.5.0",
      "model_name": "HBoxModel",
      "state": {
       "children": [
        "IPY_MODEL_da0c48e2362d4c3ba5afc42867ed0bf7",
        "IPY_MODEL_0618e2fb6cd34d2884320bf8c5557368",
        "IPY_MODEL_89b3db7df08d4aae994019e8c2089bde",
        "IPY_MODEL_b4a58cbafa5d4af79b775ef651559d14"
       ],
       "layout": "IPY_MODEL_257a8f42ba334cc1b4bbbbef2c5610ee"
      }
     },
     "2928784a88884493aa1365681b26ddf2": {
      "model_module": "@jupyter-widgets/controls",
      "model_module_version": "1.5.0",
      "model_name": "CheckboxModel",
      "state": {
       "description": "Disable Medicina",
       "disabled": false,
       "layout": "IPY_MODEL_9626514b0102454098f734c4c914991e",
       "style": "IPY_MODEL_a1c1fc7521864067aa8f0ece71bcbac8",
       "value": false
      }
     },
     "2974b7b4bf284e97ae933f8992344fe1": {
      "model_module": "@jupyter-widgets/controls",
      "model_module_version": "1.5.0",
      "model_name": "FloatSliderModel",
      "state": {
       "description": "Compression Threshold",
       "layout": "IPY_MODEL_d8af3512c7ef4bf0841d74e991b0ebf7",
       "max": 1,
       "step": 0.01,
       "style": "IPY_MODEL_0e9639895551452c9d3e6116b26b9c08",
       "value": 0.8
      }
     },
     "29773ef445204a0caa379748fb612338": {
      "model_module": "@jupyter-widgets/base",
      "model_module_version": "1.2.0",
      "model_name": "LayoutModel",
      "state": {}
     },
     "2991959fce6f4e4b91070590d74e5bf1": {
      "model_module": "@jupyter-widgets/base",
      "model_module_version": "1.2.0",
      "model_name": "LayoutModel",
      "state": {}
     },
     "29935bd27d65400a9135eef55bddb1d2": {
      "model_module": "@jupyter-widgets/controls",
      "model_module_version": "1.5.0",
      "model_name": "FloatSliderModel",
      "state": {
       "description": "90°",
       "layout": "IPY_MODEL_370a8f8992984b648e50a3238e10ae44",
       "max": 1,
       "min": -1,
       "step": 0.01,
       "style": "IPY_MODEL_750c0e9cc55342f281283577be321e01"
      }
     },
     "29a95745b2274142b902bfcf6c1fa7c4": {
      "model_module": "@jupyter-widgets/base",
      "model_module_version": "1.2.0",
      "model_name": "LayoutModel",
      "state": {}
     },
     "29f2d60cd467480fa102588b4c697993": {
      "model_module": "@jupyter-widgets/base",
      "model_module_version": "1.2.0",
      "model_name": "LayoutModel",
      "state": {}
     },
     "29f711a2e7cc4f0e8d0e7069df88ee91": {
      "model_module": "@jupyter-widgets/base",
      "model_module_version": "1.2.0",
      "model_name": "LayoutModel",
      "state": {}
     },
     "2a191932c49349678d357ba596bd839b": {
      "model_module": "@jupyter-widgets/base",
      "model_module_version": "1.2.0",
      "model_name": "LayoutModel",
      "state": {}
     },
     "2a749c5c103f4d859b132eac69b4f1aa": {
      "model_module": "@jupyter-widgets/controls",
      "model_module_version": "1.5.0",
      "model_name": "FloatSliderModel",
      "state": {
       "description": "135°",
       "layout": "IPY_MODEL_5406392cff3a48f1a2b72cb5b7a9ea65",
       "max": 1,
       "min": -1,
       "step": 0.01,
       "style": "IPY_MODEL_458b02d873ac4c0aa19449e464954eb3"
      }
     },
     "2a75f0bb2f7f41d690f2b9c01a63af85": {
      "model_module": "@jupyter-widgets/base",
      "model_module_version": "1.2.0",
      "model_name": "LayoutModel",
      "state": {}
     },
     "2aa2683918444b71894f599a8e80a481": {
      "model_module": "@jupyter-widgets/controls",
      "model_module_version": "1.5.0",
      "model_name": "FloatSliderModel",
      "state": {
       "description": "225°",
       "layout": "IPY_MODEL_0c67b74fa5d445dc82946b6099807086",
       "max": 1,
       "min": -1,
       "step": 0.01,
       "style": "IPY_MODEL_8220a1799ea34718b0030059544626a8"
      }
     },
     "2aa41e9a293b45e9a44256533dd5fc53": {
      "model_module": "@jupyter-widgets/controls",
      "model_module_version": "1.5.0",
      "model_name": "TabModel",
      "state": {
       "_titles": {
        "0": "Global Controls",
        "1": "Protected Area Controls",
        "2": "Saturation Controls",
        "3": "Hue Controls"
       },
       "children": [
        "IPY_MODEL_3c06d75bab224654a0a4e39d81bcef15",
        "IPY_MODEL_dcb03c698579447faf88a536827454b9",
        "IPY_MODEL_bf490acb46564d109d417b7980e9476b",
        "IPY_MODEL_291340445656496997ff712b1a4447fe"
       ],
       "layout": "IPY_MODEL_16cdaf5e78094bde939314704a39fb6f"
      }
     },
     "2aaac0d53de04052b7d2c59e521ae302": {
      "model_module": "@jupyter-widgets/base",
      "model_module_version": "1.2.0",
      "model_name": "LayoutModel",
      "state": {}
     },
     "2b0b0a86bd314c73aabf5479ec4789c3": {
      "model_module": "jupyter-matplotlib",
      "model_module_version": "^0.7.2",
      "model_name": "ToolbarModel",
      "state": {
       "layout": "IPY_MODEL_898793927ba84e32b073f6c66831c972",
       "toolitems": [
        [
         "Home",
         "Reset original view",
         "home",
         "home"
        ],
        [
         "Back",
         "Back to previous view",
         "arrow-left",
         "back"
        ],
        [
         "Forward",
         "Forward to next view",
         "arrow-right",
         "forward"
        ],
        [
         "Pan",
         "Pan axes with left mouse, zoom with right",
         "arrows",
         "pan"
        ],
        [
         "Zoom",
         "Zoom to rectangle",
         "square-o",
         "zoom"
        ],
        [
         "Download",
         "Download plot",
         "floppy-o",
         "save_figure"
        ]
       ]
      }
     },
     "2b19d51a25c14ced9e2be6168e4d1f0c": {
      "model_module": "@jupyter-widgets/base",
      "model_module_version": "1.2.0",
      "model_name": "LayoutModel",
      "state": {}
     },
     "2b61a7bd91e14158b0e5f3fd1c2b2191": {
      "model_module": "@jupyter-widgets/base",
      "model_module_version": "1.2.0",
      "model_name": "LayoutModel",
      "state": {}
     },
     "2bc38d9361c24798ac1d1a421efa6df3": {
      "model_module": "@jupyter-widgets/base",
      "model_module_version": "1.2.0",
      "model_name": "LayoutModel",
      "state": {}
     },
     "2bd6b08a2ceb4d0495afc27fa1e97e6c": {
      "model_module": "@jupyter-widgets/controls",
      "model_module_version": "1.5.0",
      "model_name": "ButtonModel",
      "state": {
       "description": "Reset Compression Controls",
       "layout": "IPY_MODEL_18d8b41464ad416ba759b9a3fbd28e80",
       "style": "IPY_MODEL_e5448e9ef22e429080193108d84b63e4"
      }
     },
     "2bf085a9f720403e87e3e08a8e845c87": {
      "model_module": "@jupyter-widgets/base",
      "model_module_version": "1.2.0",
      "model_name": "LayoutModel",
      "state": {}
     },
     "2bfebfe43b7244d4ad3bdba5ee8f2ef4": {
      "model_module": "@jupyter-widgets/controls",
      "model_module_version": "1.5.0",
      "model_name": "DescriptionStyleModel",
      "state": {
       "description_width": ""
      }
     },
     "2c25bc2977ec4db3be777cdace5c31bc": {
      "model_module": "@jupyter-widgets/controls",
      "model_module_version": "1.5.0",
      "model_name": "CheckboxModel",
      "state": {
       "description": "Disable Medicina",
       "disabled": false,
       "layout": "IPY_MODEL_b6a720b3680741bea32e88388d49e5cf",
       "style": "IPY_MODEL_b29e484afe744a27bc9f270b0d7cfe2c",
       "value": false
      }
     },
     "2c8ecab7df644c5ba15ad722a2e973bc": {
      "model_module": "jupyter-matplotlib",
      "model_module_version": "^0.7.2",
      "model_name": "ToolbarModel",
      "state": {
       "layout": "IPY_MODEL_1b085c8e51b1495bb8082ca5e93c49ea",
       "toolitems": [
        [
         "Home",
         "Reset original view",
         "home",
         "home"
        ],
        [
         "Back",
         "Back to previous view",
         "arrow-left",
         "back"
        ],
        [
         "Forward",
         "Forward to next view",
         "arrow-right",
         "forward"
        ],
        [
         "Pan",
         "Pan axes with left mouse, zoom with right",
         "arrows",
         "pan"
        ],
        [
         "Zoom",
         "Zoom to rectangle",
         "square-o",
         "zoom"
        ],
        [
         "Download",
         "Download plot",
         "floppy-o",
         "save_figure"
        ]
       ]
      }
     },
     "2d9c9b083b4745a19e4f545b0ad95ec9": {
      "model_module": "@jupyter-widgets/controls",
      "model_module_version": "1.5.0",
      "model_name": "FloatSliderModel",
      "state": {
       "description": "270°",
       "layout": "IPY_MODEL_96fdb736308c4fae9889ada32610c15c",
       "max": 1,
       "min": -1,
       "step": 0.01,
       "style": "IPY_MODEL_81174a46d1464fb0940a154b751f6541"
      }
     },
     "2d9f6739b85f4aaeb55030bf07104e69": {
      "model_module": "@jupyter-widgets/controls",
      "model_module_version": "1.5.0",
      "model_name": "ButtonStyleModel",
      "state": {}
     },
     "2da79f2401704bb280ebce19f9eceb5c": {
      "model_module": "@jupyter-widgets/base",
      "model_module_version": "1.2.0",
      "model_name": "LayoutModel",
      "state": {}
     },
     "2de195999e204a5db029bf8f02166834": {
      "model_module": "@jupyter-widgets/controls",
      "model_module_version": "1.5.0",
      "model_name": "HBoxModel",
      "state": {
       "children": [
        "IPY_MODEL_c56c254b093e492e9f1871865e4e1312",
        "IPY_MODEL_3b84b67f975743d19203d235025b2bfb",
        "IPY_MODEL_5e216a569e5647a1bf334aa9d5105d51",
        "IPY_MODEL_6ef1b4c7a16444bd9c2d83310636d2f7"
       ],
       "layout": "IPY_MODEL_2765968360cf41eab19770fbe57798e3"
      }
     },
     "2de1b656453f488a8038e9c8abfc2322": {
      "model_module": "@jupyter-widgets/controls",
      "model_module_version": "1.5.0",
      "model_name": "FloatSliderModel",
      "state": {
       "description": "315°",
       "layout": "IPY_MODEL_1b19c008e8c64aed8d886b5cadd8ffa0",
       "max": 1,
       "min": -1,
       "step": 0.01,
       "style": "IPY_MODEL_7119a14ef0f44389a4130426f41774f6"
      }
     },
     "2e1005c817fe465c86a372b050975339": {
      "model_module": "@jupyter-widgets/controls",
      "model_module_version": "1.5.0",
      "model_name": "FloatSliderModel",
      "state": {
       "description": "270°",
       "layout": "IPY_MODEL_29f711a2e7cc4f0e8d0e7069df88ee91",
       "max": 1,
       "min": -1,
       "step": 0.01,
       "style": "IPY_MODEL_9ccc589b24ea48b99c30e3869362d83c"
      }
     },
     "2e1ec6d6eb604ab59b60f89abfac775f": {
      "model_module": "@jupyter-widgets/controls",
      "model_module_version": "1.5.0",
      "model_name": "HBoxModel",
      "state": {
       "children": [
        "IPY_MODEL_5481fff686574b28a36e6e7b0de76708",
        "IPY_MODEL_24d168391667427580d86857784f1d89",
        "IPY_MODEL_8fcf3b12568947a696406e5f2619d2d8",
        "IPY_MODEL_a31a3071d55646b088249ccc0c3d12ba"
       ],
       "layout": "IPY_MODEL_8da0303f03f1401d87110d227c937393"
      }
     },
     "2ecefed00adb48a7a1d79cb8de87ed0d": {
      "model_module": "@jupyter-widgets/output",
      "model_module_version": "1.0.0",
      "model_name": "OutputModel",
      "state": {
       "layout": "IPY_MODEL_60e2150c09524c019a1472af75c0120b",
       "outputs": [
        {
         "data": {
          "application/vnd.jupyter.widget-view+json": {
           "model_id": "1be671f8c20c416bb1af26623c9b3579",
           "version_major": 2,
           "version_minor": 0
          },
          "text/plain": "Canvas(toolbar=Toolbar(toolitems=[('Home', 'Reset original view', 'home', 'home'), ('Back', 'Back to previous …"
         },
         "metadata": {},
         "output_type": "display_data"
        }
       ]
      }
     },
     "2ed0e743edc14d61870b74cdee03dc23": {
      "model_module": "@jupyter-widgets/controls",
      "model_module_version": "1.5.0",
      "model_name": "FloatSliderModel",
      "state": {
       "description": "135°",
       "layout": "IPY_MODEL_0bfe494e6f1f41e7a8318006725bf32e",
       "max": 1,
       "min": -1,
       "step": 0.01,
       "style": "IPY_MODEL_0d8f4bb031d1493187634b3ff176aee2"
      }
     },
     "2f0b5ab407dc42f89442b7b3318fc0c0": {
      "model_module": "@jupyter-widgets/controls",
      "model_module_version": "1.5.0",
      "model_name": "FloatSliderModel",
      "state": {
       "description": "45°",
       "layout": "IPY_MODEL_bb09b7ffe9a34a0b93294a51c7c085d2",
       "max": 1,
       "min": -1,
       "step": 0.01,
       "style": "IPY_MODEL_a5fabbf3f6e64966b3094f36196c8571"
      }
     },
     "2f219dec6afe43fa89f1fc66670def73": {
      "model_module": "@jupyter-widgets/controls",
      "model_module_version": "1.5.0",
      "model_name": "VBoxModel",
      "state": {
       "children": [
        "IPY_MODEL_0edac989b6564734ab4d376d2933be03",
        "IPY_MODEL_555c7fc84ff94213a15016a1bb9e317c",
        "IPY_MODEL_2aa2683918444b71894f599a8e80a481"
       ],
       "layout": "IPY_MODEL_871fd3a0b894438db47c77ab5fa54833"
      }
     },
     "2f25097cc2e54aafba9fbded4616308c": {
      "model_module": "@jupyter-widgets/controls",
      "model_module_version": "1.5.0",
      "model_name": "ButtonStyleModel",
      "state": {}
     },
     "2f7cc399cf7e43de95344fbd1d81a869": {
      "model_module": "@jupyter-widgets/controls",
      "model_module_version": "1.5.0",
      "model_name": "DescriptionStyleModel",
      "state": {
       "description_width": ""
      }
     },
     "2f88cd2e616648cc9c7f09a8368c3e8d": {
      "model_module": "@jupyter-widgets/base",
      "model_module_version": "1.2.0",
      "model_name": "LayoutModel",
      "state": {}
     },
     "2fc3917ec00c4eb0b16a28798d7eebfa": {
      "model_module": "@jupyter-widgets/controls",
      "model_module_version": "1.5.0",
      "model_name": "SliderStyleModel",
      "state": {
       "description_width": ""
      }
     },
     "2ff1eb672b3f4674ab90ded728ada4e1": {
      "model_module": "@jupyter-widgets/controls",
      "model_module_version": "1.5.0",
      "model_name": "ButtonStyleModel",
      "state": {}
     },
     "3014c5323ed74ca8bca824576fe1cc1c": {
      "model_module": "@jupyter-widgets/controls",
      "model_module_version": "1.5.0",
      "model_name": "ButtonStyleModel",
      "state": {}
     },
     "304aec6a8ffc4c918646fd9b7a0abfe5": {
      "model_module": "@jupyter-widgets/base",
      "model_module_version": "1.2.0",
      "model_name": "LayoutModel",
      "state": {}
     },
     "307653fca055472fb0199a52ea6b873a": {
      "model_module": "@jupyter-widgets/controls",
      "model_module_version": "1.5.0",
      "model_name": "ButtonStyleModel",
      "state": {}
     },
     "308f54284aa74de0b1620055cabb05cb": {
      "model_module": "@jupyter-widgets/controls",
      "model_module_version": "1.5.0",
      "model_name": "CheckboxModel",
      "state": {
       "description": "Disable Medicina",
       "disabled": false,
       "layout": "IPY_MODEL_8333cef493804b6e91507d9b205d61bf",
       "style": "IPY_MODEL_eca68db36c5c4d809a96db93553a4ce4",
       "value": false
      }
     },
     "30a356d7c08c403aaa14f370d442311f": {
      "model_module": "@jupyter-widgets/controls",
      "model_module_version": "1.5.0",
      "model_name": "DescriptionStyleModel",
      "state": {
       "description_width": ""
      }
     },
     "30b32197a8ac417d9ddb7eb8ee95afc4": {
      "model_module": "@jupyter-widgets/base",
      "model_module_version": "1.2.0",
      "model_name": "LayoutModel",
      "state": {}
     },
     "30c2f534021d476fa20cbdd925651fc7": {
      "model_module": "@jupyter-widgets/output",
      "model_module_version": "1.0.0",
      "model_name": "OutputModel",
      "state": {
       "layout": "IPY_MODEL_adc7aa9573a04b34b91f5ec4bb939b6e",
       "outputs": [
        {
         "data": {
          "application/vnd.jupyter.widget-view+json": {
           "model_id": "8954ed03345b40a6a306bbd2f74abeac",
           "version_major": 2,
           "version_minor": 0
          },
          "text/plain": "Canvas(toolbar=Toolbar(toolitems=[('Home', 'Reset original view', 'home', 'home'), ('Back', 'Back to previous …"
         },
         "metadata": {},
         "output_type": "display_data"
        }
       ]
      }
     },
     "31704f6ceb28404abe1848beacb8a1e2": {
      "model_module": "@jupyter-widgets/base",
      "model_module_version": "1.2.0",
      "model_name": "LayoutModel",
      "state": {}
     },
     "31994bf2dccb403ca2e262e0c8a83684": {
      "model_module": "@jupyter-widgets/controls",
      "model_module_version": "1.5.0",
      "model_name": "SliderStyleModel",
      "state": {
       "description_width": ""
      }
     },
     "319cf0bdbc0645feabdb8d4ed089dfdc": {
      "model_module": "@jupyter-widgets/controls",
      "model_module_version": "1.5.0",
      "model_name": "ButtonModel",
      "state": {
       "description": "Save Figure",
       "layout": "IPY_MODEL_503839b9cd2644b1b67771fc1855f13a",
       "style": "IPY_MODEL_4b4e020bc8e34b78b7ec457607f60a35"
      }
     },
     "31d2cafcb71e434ca13c33a3ab6e4d0b": {
      "model_module": "@jupyter-widgets/base",
      "model_module_version": "1.2.0",
      "model_name": "LayoutModel",
      "state": {}
     },
     "321265d66e1144fd9e71d8158e3c3e82": {
      "model_module": "@jupyter-widgets/controls",
      "model_module_version": "1.5.0",
      "model_name": "ButtonModel",
      "state": {
       "description": "Save Figure",
       "layout": "IPY_MODEL_9262ab1ce0a44493b5109ea8bc8b3ae9",
       "style": "IPY_MODEL_e03397b65c154a6b97ec4dd40f4d3fbe"
      }
     },
     "325a94513d0a4f8cb01314ad0bb8fffe": {
      "model_module": "@jupyter-widgets/controls",
      "model_module_version": "1.5.0",
      "model_name": "ButtonStyleModel",
      "state": {}
     },
     "325ae30fbb0a4544a203b1231dee6e82": {
      "model_module": "@jupyter-widgets/controls",
      "model_module_version": "1.5.0",
      "model_name": "SliderStyleModel",
      "state": {
       "description_width": ""
      }
     },
     "3266672c0d494699bfb8ff917d2a7646": {
      "model_module": "@jupyter-widgets/controls",
      "model_module_version": "1.5.0",
      "model_name": "ButtonModel",
      "state": {
       "description": "Export Image",
       "layout": "IPY_MODEL_8807b1772b3242c8a49c46bcb6f2cec2",
       "style": "IPY_MODEL_d95f99a1e5094f2a905ddd4d08ad57c0"
      }
     },
     "32a3d108cd2a436c938669eafe5d61d6": {
      "model_module": "@jupyter-widgets/base",
      "model_module_version": "1.2.0",
      "model_name": "LayoutModel",
      "state": {}
     },
     "32ac64d2d2584d60b5dbc8f887d6b834": {
      "model_module": "@jupyter-widgets/controls",
      "model_module_version": "1.5.0",
      "model_name": "FloatSliderModel",
      "state": {
       "description": "Compression Threshold",
       "layout": "IPY_MODEL_4f960710097d451493515c0748477de2",
       "max": 1,
       "step": 0.01,
       "style": "IPY_MODEL_bf1c0690a13747b6b8bf138d474e8dae",
       "value": 0.8
      }
     },
     "32d764e17bbb40c39c25273720bcf53e": {
      "model_module": "@jupyter-widgets/controls",
      "model_module_version": "1.5.0",
      "model_name": "ButtonStyleModel",
      "state": {}
     },
     "32de0de9071243dc875392cf9f977429": {
      "model_module": "@jupyter-widgets/controls",
      "model_module_version": "1.5.0",
      "model_name": "SliderStyleModel",
      "state": {
       "description_width": ""
      }
     },
     "32e8fb1bf95c49ffbc4288e499b333ef": {
      "model_module": "@jupyter-widgets/controls",
      "model_module_version": "1.5.0",
      "model_name": "FloatSliderModel",
      "state": {
       "description": "Compression Threshold",
       "layout": "IPY_MODEL_53292965655544debe7d176ba1d01056",
       "max": 1,
       "step": 0.01,
       "style": "IPY_MODEL_1c249bfd33fc45daa311257e2168ef3e",
       "value": 0.8
      }
     },
     "33323e6307814c70bd1b84010d825fc4": {
      "model_module": "@jupyter-widgets/controls",
      "model_module_version": "1.5.0",
      "model_name": "FloatSliderModel",
      "state": {
       "description": "Compression Threshold",
       "layout": "IPY_MODEL_fd302e6199ce49538925b775b400fd60",
       "max": 1,
       "step": 0.01,
       "style": "IPY_MODEL_b1c4677d41f14edcbd2c8d99c4e0b36a",
       "value": 0.8
      }
     },
     "334bbd5c03d14264b9cf3c9e5a081369": {
      "model_module": "@jupyter-widgets/base",
      "model_module_version": "1.2.0",
      "model_name": "LayoutModel",
      "state": {}
     },
     "3388637cc1334fe9ae4fdc0421ad9a93": {
      "model_module": "@jupyter-widgets/base",
      "model_module_version": "1.2.0",
      "model_name": "LayoutModel",
      "state": {}
     },
     "33a57b33ee074c049e0d3a65eb8c2da6": {
      "model_module": "@jupyter-widgets/base",
      "model_module_version": "1.2.0",
      "model_name": "LayoutModel",
      "state": {}
     },
     "340d9c55412648dabb07f779e47e9930": {
      "model_module": "@jupyter-widgets/controls",
      "model_module_version": "1.5.0",
      "model_name": "FloatSliderModel",
      "state": {
       "description": "135°",
       "layout": "IPY_MODEL_5f07b2fa3b69442ea1ae0cdb80be7ef5",
       "max": 1,
       "min": -1,
       "step": 0.01,
       "style": "IPY_MODEL_be34778094ed45aeb9176dc33fd3b0a0"
      }
     },
     "341f12a0af1142cda65746804521f793": {
      "model_module": "@jupyter-widgets/controls",
      "model_module_version": "1.5.0",
      "model_name": "SliderStyleModel",
      "state": {
       "description_width": ""
      }
     },
     "349d7182b4034aae94b2be9f34730133": {
      "model_module": "@jupyter-widgets/base",
      "model_module_version": "1.2.0",
      "model_name": "LayoutModel",
      "state": {}
     },
     "34e308f1d5944118bd2b9be23b90a393": {
      "model_module": "@jupyter-widgets/controls",
      "model_module_version": "1.5.0",
      "model_name": "SliderStyleModel",
      "state": {
       "description_width": ""
      }
     },
     "350f31bcb32349d69d63f64881af738a": {
      "model_module": "@jupyter-widgets/controls",
      "model_module_version": "1.5.0",
      "model_name": "DescriptionStyleModel",
      "state": {
       "description_width": ""
      }
     },
     "35220df51f394dd7a06f7f99ff475125": {
      "model_module": "@jupyter-widgets/controls",
      "model_module_version": "1.5.0",
      "model_name": "ButtonStyleModel",
      "state": {}
     },
     "352fbb95cefa47459dfa52be00fb05b4": {
      "model_module": "@jupyter-widgets/base",
      "model_module_version": "1.2.0",
      "model_name": "LayoutModel",
      "state": {}
     },
     "353e8cb4bd7546128741cccb7b440136": {
      "model_module": "@jupyter-widgets/base",
      "model_module_version": "1.2.0",
      "model_name": "LayoutModel",
      "state": {}
     },
     "354d294b7b634f99a3ac04542e837b5b": {
      "model_module": "@jupyter-widgets/controls",
      "model_module_version": "1.5.0",
      "model_name": "VBoxModel",
      "state": {
       "children": [
        "IPY_MODEL_d2595a7c75cd488bad46b32f5ec21126",
        "IPY_MODEL_c49246be495247f1acb6a2137d60bd73",
        "IPY_MODEL_cfc286f09b54446d80224e2b3a03c224"
       ],
       "layout": "IPY_MODEL_87fd2b8bde5d46f78929d02129ab0344"
      }
     },
     "35675cc860524113bd1c8cc8667a925d": {
      "model_module": "jupyter-matplotlib",
      "model_module_version": "^0.7.2",
      "model_name": "ToolbarModel",
      "state": {
       "layout": "IPY_MODEL_c9f303f45b6b400598814ad13e6b6bec",
       "toolitems": [
        [
         "Home",
         "Reset original view",
         "home",
         "home"
        ],
        [
         "Back",
         "Back to previous view",
         "arrow-left",
         "back"
        ],
        [
         "Forward",
         "Forward to next view",
         "arrow-right",
         "forward"
        ],
        [
         "Pan",
         "Pan axes with left mouse, zoom with right",
         "arrows",
         "pan"
        ],
        [
         "Zoom",
         "Zoom to rectangle",
         "square-o",
         "zoom"
        ],
        [
         "Download",
         "Download plot",
         "floppy-o",
         "save_figure"
        ]
       ]
      }
     },
     "3570fd161bf3461594ac62ed380930e2": {
      "model_module": "@jupyter-widgets/controls",
      "model_module_version": "1.5.0",
      "model_name": "ButtonModel",
      "state": {
       "description": "Save Figure",
       "layout": "IPY_MODEL_9916b699644141bf9814e57e4f61ef3e",
       "style": "IPY_MODEL_b35046a999bb4accb5753d372d2e3be0"
      }
     },
     "363e3f4d02ed499fab85a631b8698aa6": {
      "model_module": "@jupyter-widgets/controls",
      "model_module_version": "1.5.0",
      "model_name": "DropdownModel",
      "state": {
       "_options_labels": [
        "tanh",
        "simple"
       ],
       "description": "Compression Function:",
       "index": 0,
       "layout": "IPY_MODEL_4c23576e52674b15b64563b5dbfd4905",
       "style": "IPY_MODEL_9b25eb4f708b4d64b93f7cd05768e747"
      }
     },
     "370a8f8992984b648e50a3238e10ae44": {
      "model_module": "@jupyter-widgets/base",
      "model_module_version": "1.2.0",
      "model_name": "LayoutModel",
      "state": {}
     },
     "3726620035c942139503937f480a0765": {
      "model_module": "@jupyter-widgets/controls",
      "model_module_version": "1.5.0",
      "model_name": "ButtonStyleModel",
      "state": {}
     },
     "3730a097740a4102af7e0c5dd8017bda": {
      "model_module": "@jupyter-widgets/controls",
      "model_module_version": "1.5.0",
      "model_name": "DescriptionStyleModel",
      "state": {
       "description_width": ""
      }
     },
     "374abe572d9d48dab008446d46d20c40": {
      "model_module": "@jupyter-widgets/controls",
      "model_module_version": "1.5.0",
      "model_name": "SliderStyleModel",
      "state": {
       "description_width": ""
      }
     },
     "379a930ad1074d279373bbd9260194a3": {
      "model_module": "@jupyter-widgets/controls",
      "model_module_version": "1.5.0",
      "model_name": "ButtonStyleModel",
      "state": {}
     },
     "38300ce01e914c54825ac113e79a1626": {
      "model_module": "@jupyter-widgets/controls",
      "model_module_version": "1.5.0",
      "model_name": "SliderStyleModel",
      "state": {
       "description_width": ""
      }
     },
     "383687e5ed0e48d7aafb465e7507a7f1": {
      "model_module": "@jupyter-widgets/base",
      "model_module_version": "1.2.0",
      "model_name": "LayoutModel",
      "state": {}
     },
     "38dc3e0c73c84b8c85f6f728a9a23b08": {
      "model_module": "@jupyter-widgets/base",
      "model_module_version": "1.2.0",
      "model_name": "LayoutModel",
      "state": {}
     },
     "3901f7281aff45c8bb0289656a0e12a1": {
      "model_module": "@jupyter-widgets/base",
      "model_module_version": "1.2.0",
      "model_name": "LayoutModel",
      "state": {}
     },
     "39705db63fc844468d71bf00cf79c662": {
      "model_module": "@jupyter-widgets/base",
      "model_module_version": "1.2.0",
      "model_name": "LayoutModel",
      "state": {}
     },
     "397b20d4c90449cf8f5fce798c13dc1c": {
      "model_module": "@jupyter-widgets/base",
      "model_module_version": "1.2.0",
      "model_name": "LayoutModel",
      "state": {}
     },
     "39fdf5af09a34566b5ae2157f0a65184": {
      "model_module": "@jupyter-widgets/controls",
      "model_module_version": "1.5.0",
      "model_name": "SliderStyleModel",
      "state": {
       "description_width": ""
      }
     },
     "3a25d4fb1b79457e9d3806ce21e87b8b": {
      "model_module": "@jupyter-widgets/controls",
      "model_module_version": "1.5.0",
      "model_name": "ButtonStyleModel",
      "state": {}
     },
     "3a4f7b6ede604dffb350b7734355fe60": {
      "model_module": "@jupyter-widgets/controls",
      "model_module_version": "1.5.0",
      "model_name": "FloatSliderModel",
      "state": {
       "description": "Protected Area Threshold",
       "layout": "IPY_MODEL_c4de26c7e7e54ff0a679e7b40630f723",
       "max": 1,
       "step": 0.01,
       "style": "IPY_MODEL_1f2ba7027f5943e9b368999b6205f0be",
       "value": 0.7
      }
     },
     "3ab58fa9e5c04843bddccbb6fd4bbc28": {
      "model_module": "@jupyter-widgets/controls",
      "model_module_version": "1.5.0",
      "model_name": "SliderStyleModel",
      "state": {
       "description_width": ""
      }
     },
     "3ab761d5261b433e932d43d91e47eb0b": {
      "model_module": "@jupyter-widgets/controls",
      "model_module_version": "1.5.0",
      "model_name": "BoxModel",
      "state": {
       "children": [
        "IPY_MODEL_d7854fff3362497fb9ff6dd6df6b9458",
        "IPY_MODEL_cfa21ed97f504332abcd47abf2605f5f"
       ],
       "layout": "IPY_MODEL_668f96604102455584903df5ac12c7be"
      }
     },
     "3aee785986564699a00467fa2eeb5396": {
      "model_module": "@jupyter-widgets/controls",
      "model_module_version": "1.5.0",
      "model_name": "VBoxModel",
      "state": {
       "children": [
        "IPY_MODEL_899bf2e2698b48f0ad9a301c80575aa8",
        "IPY_MODEL_abbca8919581476ea0487b4a92e4006e"
       ],
       "layout": "IPY_MODEL_ceee2efab0fa403e838057c0551c9a7e"
      }
     },
     "3b22c1e7f3cd4d7d9119aa8511df64b4": {
      "model_module": "@jupyter-widgets/controls",
      "model_module_version": "1.5.0",
      "model_name": "SliderStyleModel",
      "state": {
       "description_width": ""
      }
     },
     "3b84b67f975743d19203d235025b2bfb": {
      "model_module": "@jupyter-widgets/controls",
      "model_module_version": "1.5.0",
      "model_name": "VBoxModel",
      "state": {
       "children": [
        "IPY_MODEL_f503aa1885364f5e82745207532752cc",
        "IPY_MODEL_639f6253ad48478394a5f7060adf7c3c",
        "IPY_MODEL_cf6d959a8a2d41328c1b538e3b1f7b54"
       ],
       "layout": "IPY_MODEL_015ed8a675ab42b480d30686b612bb7f"
      }
     },
     "3b8816bca26646908d82fd72f7ad795a": {
      "model_module": "@jupyter-widgets/base",
      "model_module_version": "1.2.0",
      "model_name": "LayoutModel",
      "state": {}
     },
     "3c06d75bab224654a0a4e39d81bcef15": {
      "model_module": "@jupyter-widgets/controls",
      "model_module_version": "1.5.0",
      "model_name": "HBoxModel",
      "state": {
       "children": [
        "IPY_MODEL_02f0cb9564b24f369e83b1a3e36e248e",
        "IPY_MODEL_6a2cd2965c444ce7a3bfaf60cb7aa46c",
        "IPY_MODEL_5200bde44678431c923902231e57fe04",
        "IPY_MODEL_0378c8043ae04b41b63cac2d057f08ae"
       ],
       "layout": "IPY_MODEL_b88e473742414fada6c0b3542c54b50a"
      }
     },
     "3c1c00f3425a4191afe4ad064d07b084": {
      "model_module": "@jupyter-widgets/controls",
      "model_module_version": "1.5.0",
      "model_name": "ButtonStyleModel",
      "state": {}
     },
     "3c3bb886c8764f199dc58b805a22f282": {
      "model_module": "@jupyter-widgets/controls",
      "model_module_version": "1.5.0",
      "model_name": "ButtonStyleModel",
      "state": {}
     },
     "3c4743384c3545e480d63c990caf4fa0": {
      "model_module": "@jupyter-widgets/controls",
      "model_module_version": "1.5.0",
      "model_name": "FloatSliderModel",
      "state": {
       "description": "Exposure",
       "layout": "IPY_MODEL_45b6d4a4997f408ba040a2c6ce77fa8b",
       "max": 8,
       "min": -8,
       "step": 0.1,
       "style": "IPY_MODEL_7986d32435b24a519189da1b5e74c580"
      }
     },
     "3c741d96433a46eab8911c712d228db0": {
      "model_module": "@jupyter-widgets/controls",
      "model_module_version": "1.5.0",
      "model_name": "FloatSliderModel",
      "state": {
       "description": "Exposure",
       "layout": "IPY_MODEL_06adb5d6a2fb412eba8989e8ed236f97",
       "max": 8,
       "min": -8,
       "step": 0.1,
       "style": "IPY_MODEL_98b759be6a20441995190e827a5c0482"
      }
     },
     "3caae19611aa4660aa7f00700b4098a2": {
      "model_module": "@jupyter-widgets/controls",
      "model_module_version": "1.5.0",
      "model_name": "FloatSliderModel",
      "state": {
       "description": "315°",
       "layout": "IPY_MODEL_17ab6157aa73464ca0966d88d3918726",
       "max": 1,
       "min": -1,
       "step": 0.01,
       "style": "IPY_MODEL_4303ecd714e54e718744924b43c9bf3b"
      }
     },
     "3cf20a0924084c48aa823c6a3c65e805": {
      "model_module": "@jupyter-widgets/controls",
      "model_module_version": "1.5.0",
      "model_name": "FloatSliderModel",
      "state": {
       "description": "Exposure",
       "layout": "IPY_MODEL_6a0ac5a5afb1496bb626f690c767c92a",
       "max": 8,
       "min": -8,
       "step": 0.1,
       "style": "IPY_MODEL_f3a193bcac0844169a5edc491f636a1e"
      }
     },
     "3d0f0209169b499ba00499e2a012d5e0": {
      "model_module": "@jupyter-widgets/base",
      "model_module_version": "1.2.0",
      "model_name": "LayoutModel",
      "state": {}
     },
     "3d1ea831e1ea47ea906c1d732167f169": {
      "model_module": "@jupyter-widgets/controls",
      "model_module_version": "1.5.0",
      "model_name": "DescriptionStyleModel",
      "state": {
       "description_width": ""
      }
     },
     "3d29001169f745eab37423aca84c7b6f": {
      "model_module": "@jupyter-widgets/base",
      "model_module_version": "1.2.0",
      "model_name": "LayoutModel",
      "state": {}
     },
     "3d408e4f6b394e65ac076173634a2fb0": {
      "model_module": "@jupyter-widgets/base",
      "model_module_version": "1.2.0",
      "model_name": "LayoutModel",
      "state": {}
     },
     "3d543af5bcc14770b4055afbe06ce51c": {
      "model_module": "@jupyter-widgets/controls",
      "model_module_version": "1.5.0",
      "model_name": "FloatSliderModel",
      "state": {
       "description": "135°",
       "layout": "IPY_MODEL_ff62c130ded64e638331f23f73b5f12f",
       "max": 1,
       "min": -1,
       "step": 0.01,
       "style": "IPY_MODEL_9814046aaecb4431bb762e7b992418b5"
      }
     },
     "3d7743cc7dc0448ea42ce29f378232e6": {
      "model_module": "@jupyter-widgets/base",
      "model_module_version": "1.2.0",
      "model_name": "LayoutModel",
      "state": {}
     },
     "3d97cb00433c49f1bbec6091c411f58e": {
      "model_module": "@jupyter-widgets/controls",
      "model_module_version": "1.5.0",
      "model_name": "BoxModel",
      "state": {
       "children": [
        "IPY_MODEL_0eec53c783c94e4caea6c5bc30e2030c",
        "IPY_MODEL_fca4f93e80ba4a48b7bcae70dcac42a7"
       ],
       "layout": "IPY_MODEL_d516843f1d804a33aedc8c409d11efce"
      }
     },
     "3db55e9b82c44009ba06fbe95384226b": {
      "model_module": "@jupyter-widgets/base",
      "model_module_version": "1.2.0",
      "model_name": "LayoutModel",
      "state": {}
     },
     "3e3717cf478f4818aac1d15769c3a757": {
      "model_module": "@jupyter-widgets/controls",
      "model_module_version": "1.5.0",
      "model_name": "SliderStyleModel",
      "state": {
       "description_width": ""
      }
     },
     "3e46eae7f60542109978ff5bb6ed6259": {
      "model_module": "@jupyter-widgets/controls",
      "model_module_version": "1.5.0",
      "model_name": "SliderStyleModel",
      "state": {
       "description_width": ""
      }
     },
     "3e47cd9ab1064c06b502213204602df8": {
      "model_module": "@jupyter-widgets/base",
      "model_module_version": "1.2.0",
      "model_name": "LayoutModel",
      "state": {}
     },
     "3e84e22efbed4d45a06e375452360da3": {
      "model_module": "@jupyter-widgets/controls",
      "model_module_version": "1.5.0",
      "model_name": "HBoxModel",
      "state": {
       "children": [
        "IPY_MODEL_c072da486c164366af1cde57cf89641c",
        "IPY_MODEL_5eb3bef1d2034ce194039171757960f6",
        "IPY_MODEL_319cf0bdbc0645feabdb8d4ed089dfdc",
        "IPY_MODEL_406a18253ee146b6b06ed5a1d66f8fe8"
       ],
       "layout": "IPY_MODEL_3e47cd9ab1064c06b502213204602df8"
      }
     },
     "3e90e3aa65b9425989a6d8d0f226c1f7": {
      "model_module": "@jupyter-widgets/controls",
      "model_module_version": "1.5.0",
      "model_name": "SliderStyleModel",
      "state": {
       "description_width": ""
      }
     },
     "400b6cfe1cdd479398f5a3bbd2413eb2": {
      "model_module": "@jupyter-widgets/controls",
      "model_module_version": "1.5.0",
      "model_name": "ButtonStyleModel",
      "state": {}
     },
     "406a18253ee146b6b06ed5a1d66f8fe8": {
      "model_module": "@jupyter-widgets/controls",
      "model_module_version": "1.5.0",
      "model_name": "FloatSliderModel",
      "state": {
       "description": "Exposure",
       "layout": "IPY_MODEL_568b9164c1cf4477bb52ca6806796df3",
       "max": 8,
       "min": -8,
       "step": 0.1,
       "style": "IPY_MODEL_9e90fcebd64d4f90b6fab08fa0e14ec2"
      }
     },
     "407a0297f6684ed5b01e33e9801245b3": {
      "model_module": "jupyter-matplotlib",
      "model_module_version": "^0.7.2",
      "model_name": "ToolbarModel",
      "state": {
       "layout": "IPY_MODEL_a7953b9c82074c7a87609aa948ff398e",
       "toolitems": [
        [
         "Home",
         "Reset original view",
         "home",
         "home"
        ],
        [
         "Back",
         "Back to previous view",
         "arrow-left",
         "back"
        ],
        [
         "Forward",
         "Forward to next view",
         "arrow-right",
         "forward"
        ],
        [
         "Pan",
         "Pan axes with left mouse, zoom with right",
         "arrows",
         "pan"
        ],
        [
         "Zoom",
         "Zoom to rectangle",
         "square-o",
         "zoom"
        ],
        [
         "Download",
         "Download plot",
         "floppy-o",
         "save_figure"
        ]
       ]
      }
     },
     "40a6e3a004bb4633a06f626b57321412": {
      "model_module": "@jupyter-widgets/base",
      "model_module_version": "1.2.0",
      "model_name": "LayoutModel",
      "state": {}
     },
     "40ce2517a71047ef9c24ab1e50c118b7": {
      "model_module": "@jupyter-widgets/base",
      "model_module_version": "1.2.0",
      "model_name": "LayoutModel",
      "state": {}
     },
     "40cf805821df4e1291f92caa30c4cc61": {
      "model_module": "@jupyter-widgets/base",
      "model_module_version": "1.2.0",
      "model_name": "LayoutModel",
      "state": {}
     },
     "4115cbf4a8db4db2be7e2f0dad5c1d4f": {
      "model_module": "@jupyter-widgets/controls",
      "model_module_version": "1.5.0",
      "model_name": "SliderStyleModel",
      "state": {
       "description_width": ""
      }
     },
     "4173aac296ca44f6b2a4e770d613174d": {
      "model_module": "@jupyter-widgets/controls",
      "model_module_version": "1.5.0",
      "model_name": "SliderStyleModel",
      "state": {
       "description_width": ""
      }
     },
     "41a2c80fed8f4332a65fe39d59ac8f59": {
      "model_module": "@jupyter-widgets/controls",
      "model_module_version": "1.5.0",
      "model_name": "SliderStyleModel",
      "state": {
       "description_width": ""
      }
     },
     "41a4c9d7f8c54b30b8ce5400d98ef5ff": {
      "model_module": "@jupyter-widgets/base",
      "model_module_version": "1.2.0",
      "model_name": "LayoutModel",
      "state": {}
     },
     "41edff9415bc41d0878cd39442f09ce7": {
      "model_module": "@jupyter-widgets/base",
      "model_module_version": "1.2.0",
      "model_name": "LayoutModel",
      "state": {}
     },
     "41ff69070b1c4f6e87b7f29cd8d48b52": {
      "model_module": "@jupyter-widgets/controls",
      "model_module_version": "1.5.0",
      "model_name": "ButtonModel",
      "state": {
       "description": "Export Image",
       "layout": "IPY_MODEL_c1f7163fd927473887c63dec8d82cb92",
       "style": "IPY_MODEL_ca836dde664f437aa5ddac359d4ae8d2"
      }
     },
     "42a3005c6c854663977cb8337c0c0e3c": {
      "model_module": "@jupyter-widgets/controls",
      "model_module_version": "1.5.0",
      "model_name": "SliderStyleModel",
      "state": {
       "description_width": ""
      }
     },
     "4303ecd714e54e718744924b43c9bf3b": {
      "model_module": "@jupyter-widgets/controls",
      "model_module_version": "1.5.0",
      "model_name": "SliderStyleModel",
      "state": {
       "description_width": ""
      }
     },
     "4309a3df8ca2454c97cc634e2b34f45e": {
      "model_module": "@jupyter-widgets/controls",
      "model_module_version": "1.5.0",
      "model_name": "SliderStyleModel",
      "state": {
       "description_width": ""
      }
     },
     "4310c9b255824df3a764320de0bc55f0": {
      "model_module": "@jupyter-widgets/controls",
      "model_module_version": "1.5.0",
      "model_name": "HBoxModel",
      "state": {
       "children": [
        "IPY_MODEL_d636fb037b5f40b6b63720f07de8a9e8",
        "IPY_MODEL_e58962ba1c65495ba090ef537be73ea6"
       ],
       "layout": "IPY_MODEL_0199be01f9464d50805eaad70fb89c6f"
      }
     },
     "448329a1ee6447619b425bd163559fdf": {
      "model_module": "@jupyter-widgets/base",
      "model_module_version": "1.2.0",
      "model_name": "LayoutModel",
      "state": {}
     },
     "44a694ec433447ac9dfa96abd3a8517f": {
      "model_module": "@jupyter-widgets/base",
      "model_module_version": "1.2.0",
      "model_name": "LayoutModel",
      "state": {}
     },
     "44c51fe836b14a6a931c39753ca0d152": {
      "model_module": "@jupyter-widgets/base",
      "model_module_version": "1.2.0",
      "model_name": "LayoutModel",
      "state": {
       "border": "solid 4px #222",
       "margin": "4px",
       "padding": "0"
      }
     },
     "45152a3c6d334a7aa4a26b9bd23baf04": {
      "model_module": "@jupyter-widgets/base",
      "model_module_version": "1.2.0",
      "model_name": "LayoutModel",
      "state": {}
     },
     "45265460606d447aaefb2dae07c49f86": {
      "model_module": "@jupyter-widgets/base",
      "model_module_version": "1.2.0",
      "model_name": "LayoutModel",
      "state": {}
     },
     "458b02d873ac4c0aa19449e464954eb3": {
      "model_module": "@jupyter-widgets/controls",
      "model_module_version": "1.5.0",
      "model_name": "SliderStyleModel",
      "state": {
       "description_width": ""
      }
     },
     "45b46433dfd644cebb696fc80b11bc86": {
      "model_module": "@jupyter-widgets/controls",
      "model_module_version": "1.5.0",
      "model_name": "DropdownModel",
      "state": {
       "_options_labels": [
        "tanh",
        "simple"
       ],
       "description": "Compression Function:",
       "index": 0,
       "layout": "IPY_MODEL_775267f60bc84d7594f9d2b36194d3b2",
       "style": "IPY_MODEL_97bd133160cd411a976f7fd77a031dbd"
      }
     },
     "45b6d4a4997f408ba040a2c6ce77fa8b": {
      "model_module": "@jupyter-widgets/base",
      "model_module_version": "1.2.0",
      "model_name": "LayoutModel",
      "state": {}
     },
     "460ba08d4cbf4f28a0d78768072ec186": {
      "model_module": "@jupyter-widgets/controls",
      "model_module_version": "1.5.0",
      "model_name": "SliderStyleModel",
      "state": {
       "description_width": ""
      }
     },
     "462e70c111304ff383a5e3eed42026d9": {
      "model_module": "@jupyter-widgets/controls",
      "model_module_version": "1.5.0",
      "model_name": "ButtonStyleModel",
      "state": {}
     },
     "463b920672e4436f9018e0a29b59b247": {
      "model_module": "@jupyter-widgets/controls",
      "model_module_version": "1.5.0",
      "model_name": "HBoxModel",
      "state": {
       "children": [
        "IPY_MODEL_fcd85cfb24e8414f990462af0e60c45f",
        "IPY_MODEL_e38d093bd2e94ef1a9a053ea98fd221b",
        "IPY_MODEL_48e4c28e88894a4784a6f520d9781cfc",
        "IPY_MODEL_ecf81890d72743a4bf5d529ac620bd54"
       ],
       "layout": "IPY_MODEL_47a274339f6b48cca1e7b160e5af2017"
      }
     },
     "4644d6e08ffb43588143946cb5b10575": {
      "model_module": "@jupyter-widgets/controls",
      "model_module_version": "1.5.0",
      "model_name": "FloatSliderModel",
      "state": {
       "description": "45°",
       "layout": "IPY_MODEL_d2af9bea51d74ca4af4b78175526eba1",
       "max": 1,
       "min": -1,
       "step": 0.01,
       "style": "IPY_MODEL_3ab58fa9e5c04843bddccbb6fd4bbc28"
      }
     },
     "467c6bc1f9254a46b595b9b342229343": {
      "model_module": "jupyter-matplotlib",
      "model_module_version": "^0.7.2",
      "model_name": "ToolbarModel",
      "state": {
       "layout": "IPY_MODEL_9fc8f43b2da943499586836f2ad004f0",
       "toolitems": [
        [
         "Home",
         "Reset original view",
         "home",
         "home"
        ],
        [
         "Back",
         "Back to previous view",
         "arrow-left",
         "back"
        ],
        [
         "Forward",
         "Forward to next view",
         "arrow-right",
         "forward"
        ],
        [
         "Pan",
         "Pan axes with left mouse, zoom with right",
         "arrows",
         "pan"
        ],
        [
         "Zoom",
         "Zoom to rectangle",
         "square-o",
         "zoom"
        ],
        [
         "Download",
         "Download plot",
         "floppy-o",
         "save_figure"
        ]
       ]
      }
     },
     "467e3da901b54d4b8db388e211013182": {
      "model_module": "jupyter-matplotlib",
      "model_module_version": "^0.7.2",
      "model_name": "ToolbarModel",
      "state": {
       "layout": "IPY_MODEL_b501a7c2cb9c416282a87caba05f9994",
       "toolitems": [
        [
         "Home",
         "Reset original view",
         "home",
         "home"
        ],
        [
         "Back",
         "Back to previous view",
         "arrow-left",
         "back"
        ],
        [
         "Forward",
         "Forward to next view",
         "arrow-right",
         "forward"
        ],
        [
         "Pan",
         "Pan axes with left mouse, zoom with right",
         "arrows",
         "pan"
        ],
        [
         "Zoom",
         "Zoom to rectangle",
         "square-o",
         "zoom"
        ],
        [
         "Download",
         "Download plot",
         "floppy-o",
         "save_figure"
        ]
       ]
      }
     },
     "4698a3bde8824093af7f2886c1f0db96": {
      "model_module": "@jupyter-widgets/base",
      "model_module_version": "1.2.0",
      "model_name": "LayoutModel",
      "state": {}
     },
     "46de5c0f82f44c28b312ea252a87ad82": {
      "model_module": "@jupyter-widgets/base",
      "model_module_version": "1.2.0",
      "model_name": "LayoutModel",
      "state": {
       "border": "solid 4px #222",
       "margin": "4px",
       "padding": "0"
      }
     },
     "46e706c3916d4182b0bd463def54afd6": {
      "model_module": "@jupyter-widgets/base",
      "model_module_version": "1.2.0",
      "model_name": "LayoutModel",
      "state": {}
     },
     "46f93793579348ba9adc87b78b6440ab": {
      "model_module": "@jupyter-widgets/base",
      "model_module_version": "1.2.0",
      "model_name": "LayoutModel",
      "state": {}
     },
     "471a306ca7344d6298db90596c734004": {
      "model_module": "@jupyter-widgets/base",
      "model_module_version": "1.2.0",
      "model_name": "LayoutModel",
      "state": {}
     },
     "47791c9514ca43ca83763314b4e57f75": {
      "model_module": "@jupyter-widgets/controls",
      "model_module_version": "1.5.0",
      "model_name": "HBoxModel",
      "state": {
       "children": [
        "IPY_MODEL_70ea15dc622743fa83f3f3c2cd73b311",
        "IPY_MODEL_c2eb0acfa31e446f86519549fc77b498",
        "IPY_MODEL_17f452aa676840c0b8c7c9118423cdbc"
       ],
       "layout": "IPY_MODEL_c5fdf375a0e14b139e82c163acba1290"
      }
     },
     "47924b79551b48b987748fcaa07206ee": {
      "model_module": "@jupyter-widgets/controls",
      "model_module_version": "1.5.0",
      "model_name": "ButtonStyleModel",
      "state": {}
     },
     "47a274339f6b48cca1e7b160e5af2017": {
      "model_module": "@jupyter-widgets/base",
      "model_module_version": "1.2.0",
      "model_name": "LayoutModel",
      "state": {}
     },
     "47c43889afb945329e9e4e165bdab832": {
      "model_module": "@jupyter-widgets/controls",
      "model_module_version": "1.5.0",
      "model_name": "FloatSliderModel",
      "state": {
       "description": "Exposure",
       "layout": "IPY_MODEL_fedbb2648f1342f5b39fdeeb30749e6c",
       "max": 8,
       "min": -8,
       "step": 0.1,
       "style": "IPY_MODEL_94f72e9247ee4a0d90cac6ce87523acc"
      }
     },
     "47ef5c806a174c858d015bebcc40fb36": {
      "model_module": "@jupyter-widgets/base",
      "model_module_version": "1.2.0",
      "model_name": "LayoutModel",
      "state": {}
     },
     "480d0adafff448149999b31f70fd375c": {
      "model_module": "@jupyter-widgets/controls",
      "model_module_version": "1.5.0",
      "model_name": "SliderStyleModel",
      "state": {
       "description_width": ""
      }
     },
     "481f54e0abfd42718646c3b0ee9788ca": {
      "model_module": "@jupyter-widgets/controls",
      "model_module_version": "1.5.0",
      "model_name": "DropdownModel",
      "state": {
       "_options_labels": [
        "tanh",
        "simple"
       ],
       "description": "Compression Function:",
       "index": 0,
       "layout": "IPY_MODEL_185f3c8a3c2849ae81e549ca4bccd276",
       "style": "IPY_MODEL_aaa45f5d960849f8b66344cf35f5ad23"
      }
     },
     "4832a11998f943319efc86bfb66316bc": {
      "model_module": "@jupyter-widgets/controls",
      "model_module_version": "1.5.0",
      "model_name": "ButtonStyleModel",
      "state": {}
     },
     "4832d7c8904e4c8cae06fe665c9c07f0": {
      "model_module": "@jupyter-widgets/base",
      "model_module_version": "1.2.0",
      "model_name": "LayoutModel",
      "state": {}
     },
     "48775cf2c9d541e691cf4d7408d4d47b": {
      "model_module": "@jupyter-widgets/base",
      "model_module_version": "1.2.0",
      "model_name": "LayoutModel",
      "state": {}
     },
     "4899fa39beaa41ab89d6e6528c62dfdb": {
      "model_module": "@jupyter-widgets/base",
      "model_module_version": "1.2.0",
      "model_name": "LayoutModel",
      "state": {}
     },
     "489e243e860c4f5d87c2706902280616": {
      "model_module": "jupyter-matplotlib",
      "model_module_version": "^0.7.2",
      "model_name": "ToolbarModel",
      "state": {
       "layout": "IPY_MODEL_7d2d7f3ba6da4ebd848099d343da25e2",
       "toolitems": [
        [
         "Home",
         "Reset original view",
         "home",
         "home"
        ],
        [
         "Back",
         "Back to previous view",
         "arrow-left",
         "back"
        ],
        [
         "Forward",
         "Forward to next view",
         "arrow-right",
         "forward"
        ],
        [
         "Pan",
         "Pan axes with left mouse, zoom with right",
         "arrows",
         "pan"
        ],
        [
         "Zoom",
         "Zoom to rectangle",
         "square-o",
         "zoom"
        ],
        [
         "Download",
         "Download plot",
         "floppy-o",
         "save_figure"
        ]
       ]
      }
     },
     "48b2a7f3c75246588792d82b52b4e798": {
      "model_module": "@jupyter-widgets/controls",
      "model_module_version": "1.5.0",
      "model_name": "SliderStyleModel",
      "state": {
       "description_width": ""
      }
     },
     "48d939da7b9a41f9b6b70834fd721153": {
      "model_module": "@jupyter-widgets/controls",
      "model_module_version": "1.5.0",
      "model_name": "DescriptionStyleModel",
      "state": {
       "description_width": ""
      }
     },
     "48e4c28e88894a4784a6f520d9781cfc": {
      "model_module": "@jupyter-widgets/controls",
      "model_module_version": "1.5.0",
      "model_name": "VBoxModel",
      "state": {
       "children": [
        "IPY_MODEL_3d543af5bcc14770b4055afbe06ce51c",
        "IPY_MODEL_5f0d708745c447ce8165b65314556661",
        "IPY_MODEL_21dbba141d054d6e9dba70baf1372754"
       ],
       "layout": "IPY_MODEL_3d0f0209169b499ba00499e2a012d5e0"
      }
     },
     "4917a16878774fc2b2be768d008bf3e6": {
      "model_module": "jupyter-matplotlib",
      "model_module_version": "^0.7.2",
      "model_name": "MPLCanvasModel",
      "state": {
       "_figure_label": "Figure 10",
       "_height": 696,
       "_width": 1100,
       "header_visible": false,
       "layout": "IPY_MODEL_a1131d90275d471187c2bf6988cb0dc3",
       "resizable": false,
       "toolbar": "IPY_MODEL_acd09a223961436ab2825400b2d0ec3d",
       "toolbar_position": "left",
       "toolbar_visible": false
      }
     },
     "4921dacab34649968d75b6f41ceaab75": {
      "model_module": "@jupyter-widgets/base",
      "model_module_version": "1.2.0",
      "model_name": "LayoutModel",
      "state": {}
     },
     "4944167b11804e0ea79d93a68cbd269d": {
      "model_module": "@jupyter-widgets/controls",
      "model_module_version": "1.5.0",
      "model_name": "SliderStyleModel",
      "state": {
       "description_width": ""
      }
     },
     "497f4a43ed524b62bd185fe0c84960ed": {
      "model_module": "@jupyter-widgets/controls",
      "model_module_version": "1.5.0",
      "model_name": "FloatSliderModel",
      "state": {
       "description": "180°",
       "layout": "IPY_MODEL_736749a31941404bb131deb5d56299cf",
       "max": 1,
       "min": -1,
       "step": 0.01,
       "style": "IPY_MODEL_7bceee117ea44ed582755db98e0f3359"
      }
     },
     "499a0ed1c5ac48e3879ec3cdf9cfcde2": {
      "model_module": "@jupyter-widgets/controls",
      "model_module_version": "1.5.0",
      "model_name": "ButtonModel",
      "state": {
       "description": "Export Image",
       "layout": "IPY_MODEL_d08dc36fafef465bb69b15c12b7e6881",
       "style": "IPY_MODEL_ce6f786c65684955b7dc711756e1606e"
      }
     },
     "49a01540448146b5b4e8df0667a532fc": {
      "model_module": "@jupyter-widgets/base",
      "model_module_version": "1.2.0",
      "model_name": "LayoutModel",
      "state": {}
     },
     "49c3b2c4fbf5456d80ed0f16414cc172": {
      "model_module": "@jupyter-widgets/controls",
      "model_module_version": "1.5.0",
      "model_name": "ButtonStyleModel",
      "state": {}
     },
     "49dd3f70c05240bd8e608573afb3575d": {
      "model_module": "@jupyter-widgets/controls",
      "model_module_version": "1.5.0",
      "model_name": "CheckboxModel",
      "state": {
       "description": "Disable Medicina",
       "disabled": false,
       "layout": "IPY_MODEL_67156c502b2a49348064073b0d994e1e",
       "style": "IPY_MODEL_3d1ea831e1ea47ea906c1d732167f169",
       "value": false
      }
     },
     "4a48101d1b664229a706213c5dad86ad": {
      "model_module": "@jupyter-widgets/controls",
      "model_module_version": "1.5.0",
      "model_name": "SliderStyleModel",
      "state": {
       "description_width": ""
      }
     },
     "4a4fd19cb5854379914a65abaca2bf3b": {
      "model_module": "@jupyter-widgets/controls",
      "model_module_version": "1.5.0",
      "model_name": "HBoxModel",
      "state": {
       "children": [
        "IPY_MODEL_cc5da4511d2a409d9efad4453c35a242",
        "IPY_MODEL_c8637456cae94b4a8aaf7bb56680ba4b",
        "IPY_MODEL_321265d66e1144fd9e71d8158e3c3e82",
        "IPY_MODEL_c0175488d6d54ed0963ec5b898c44f4e"
       ],
       "layout": "IPY_MODEL_d78f25fcb4bb46e6baaaf6ecb81d7ccb"
      }
     },
     "4a7f154477674de9bf38c3e0dda1e65e": {
      "model_module": "@jupyter-widgets/controls",
      "model_module_version": "1.5.0",
      "model_name": "CheckboxModel",
      "state": {
       "description": "Disable Medicina",
       "disabled": false,
       "layout": "IPY_MODEL_fec3022b3ce242258c4d9a135c8efdad",
       "style": "IPY_MODEL_9b30af7dc2134456b6b141f9da6487f2",
       "value": false
      }
     },
     "4a80958352bd4b4bad37535a6cc60588": {
      "model_module": "@jupyter-widgets/base",
      "model_module_version": "1.2.0",
      "model_name": "LayoutModel",
      "state": {}
     },
     "4a84a219155d4702b9f8b042914fef94": {
      "model_module": "@jupyter-widgets/controls",
      "model_module_version": "1.5.0",
      "model_name": "ButtonModel",
      "state": {
       "description": "Export Image",
       "layout": "IPY_MODEL_4698a3bde8824093af7f2886c1f0db96",
       "style": "IPY_MODEL_85e3ee20e0774bf4a56035d8da175eba"
      }
     },
     "4a876132f50741fc955465b02eec0792": {
      "model_module": "@jupyter-widgets/controls",
      "model_module_version": "1.5.0",
      "model_name": "ButtonModel",
      "state": {
       "description": "Export Image",
       "layout": "IPY_MODEL_17c1098bf5f84660aaa3b9d96ae07a66",
       "style": "IPY_MODEL_eca6b431b484449499de7e59b176eee5"
      }
     },
     "4a99645b28c4482e9975fff289dfc062": {
      "model_module": "@jupyter-widgets/controls",
      "model_module_version": "1.5.0",
      "model_name": "FloatSliderModel",
      "state": {
       "description": "Exposure",
       "layout": "IPY_MODEL_2991959fce6f4e4b91070590d74e5bf1",
       "max": 8,
       "min": -8,
       "step": 0.1,
       "style": "IPY_MODEL_480d0adafff448149999b31f70fd375c"
      }
     },
     "4ab9194981614d62a35c7b3b43c10088": {
      "model_module": "@jupyter-widgets/base",
      "model_module_version": "1.2.0",
      "model_name": "LayoutModel",
      "state": {}
     },
     "4b4e020bc8e34b78b7ec457607f60a35": {
      "model_module": "@jupyter-widgets/controls",
      "model_module_version": "1.5.0",
      "model_name": "ButtonStyleModel",
      "state": {}
     },
     "4bc2218bf4aa40159d3c9d5f64e41e91": {
      "model_module": "@jupyter-widgets/base",
      "model_module_version": "1.2.0",
      "model_name": "LayoutModel",
      "state": {}
     },
     "4c0ed76f459d4e6686808f628c6a0f7b": {
      "model_module": "@jupyter-widgets/controls",
      "model_module_version": "1.5.0",
      "model_name": "VBoxModel",
      "state": {
       "children": [
        "IPY_MODEL_608f49e6c5394d169c65a0ed468133a5"
       ],
       "layout": "IPY_MODEL_dcf782705df74277bd56c21af263b2fc"
      }
     },
     "4c23576e52674b15b64563b5dbfd4905": {
      "model_module": "@jupyter-widgets/base",
      "model_module_version": "1.2.0",
      "model_name": "LayoutModel",
      "state": {}
     },
     "4c547bda934143c3b74aff3d42fbc9eb": {
      "model_module": "@jupyter-widgets/base",
      "model_module_version": "1.2.0",
      "model_name": "LayoutModel",
      "state": {}
     },
     "4cc24ab077e34879af4939553bde322e": {
      "model_module": "@jupyter-widgets/controls",
      "model_module_version": "1.5.0",
      "model_name": "BoxModel",
      "state": {
       "children": [
        "IPY_MODEL_db2bb42dc95c4114997765b3cacf6b9c",
        "IPY_MODEL_50cf3832d86c43a99ac82019e9f144ee"
       ],
       "layout": "IPY_MODEL_f1b570acc4054c38a5b1be278b5ea449"
      }
     },
     "4d1433b19b7e439aa18470ae32612c62": {
      "model_module": "@jupyter-widgets/controls",
      "model_module_version": "1.5.0",
      "model_name": "SliderStyleModel",
      "state": {
       "description_width": ""
      }
     },
     "4d9c12e59136411a8cc85afda97cb347": {
      "model_module": "@jupyter-widgets/controls",
      "model_module_version": "1.5.0",
      "model_name": "SliderStyleModel",
      "state": {
       "description_width": ""
      }
     },
     "4dbf57153e0240c4adf68a4e5454f89d": {
      "model_module": "@jupyter-widgets/controls",
      "model_module_version": "1.5.0",
      "model_name": "HBoxModel",
      "state": {
       "children": [
        "IPY_MODEL_1b43aeb717494a87ad3d80381b7e7498",
        "IPY_MODEL_363e3f4d02ed499fab85a631b8698aa6",
        "IPY_MODEL_de2b3561095e4af5a25c4c1a59092bf1"
       ],
       "layout": "IPY_MODEL_2bc38d9361c24798ac1d1a421efa6df3"
      }
     },
     "4dc033ddf60340b9b31529891271f603": {
      "model_module": "jupyter-matplotlib",
      "model_module_version": "^0.7.2",
      "model_name": "MPLCanvasModel",
      "state": {
       "_figure_label": "Figure 8",
       "_height": 458,
       "_width": 1099,
       "header_visible": false,
       "layout": "IPY_MODEL_7bbe9cc33c9546a591001e37f658b255",
       "resizable": false,
       "toolbar": "IPY_MODEL_0206a6560068499a919be0cb31cc0a0d",
       "toolbar_position": "left",
       "toolbar_visible": false
      }
     },
     "4e1188758f974ad983cb89c05b60612f": {
      "model_module": "@jupyter-widgets/controls",
      "model_module_version": "1.5.0",
      "model_name": "FloatSliderModel",
      "state": {
       "description": "45°",
       "layout": "IPY_MODEL_b7a6cddd91314a028f29310b43c2aaa2",
       "max": 1,
       "min": -1,
       "step": 0.01,
       "style": "IPY_MODEL_b8950c496bc54f4992d4f00530991202"
      }
     },
     "4e33a1e442be4f128fe18668decd35c2": {
      "model_module": "@jupyter-widgets/controls",
      "model_module_version": "1.5.0",
      "model_name": "FloatSliderModel",
      "state": {
       "description": "Exposure",
       "layout": "IPY_MODEL_0a06faf99eba463f80b8220949f58253",
       "max": 8,
       "min": -8,
       "step": 0.1,
       "style": "IPY_MODEL_c4a3160868a14fc5a468fd489785762f"
      }
     },
     "4e85102622ee4da488eae12987484e26": {
      "model_module": "@jupyter-widgets/base",
      "model_module_version": "1.2.0",
      "model_name": "LayoutModel",
      "state": {}
     },
     "4ebed5ab2be14941b54becdfbb865294": {
      "model_module": "@jupyter-widgets/base",
      "model_module_version": "1.2.0",
      "model_name": "LayoutModel",
      "state": {}
     },
     "4ec28e1f8e804c3eb02fccad795b5de2": {
      "model_module": "@jupyter-widgets/controls",
      "model_module_version": "1.5.0",
      "model_name": "HBoxModel",
      "state": {
       "children": [
        "IPY_MODEL_ff71bee6106642dba48b152a01d6b8bb",
        "IPY_MODEL_e9e9d0545bc3499da7bdb32b4e41eb2d"
       ],
       "layout": "IPY_MODEL_cd59e30ebb66498181815a1c122988fb"
      }
     },
     "4eedaa77d7a84189af5b8c3d424073bc": {
      "model_module": "@jupyter-widgets/base",
      "model_module_version": "1.2.0",
      "model_name": "LayoutModel",
      "state": {}
     },
     "4ef7f7c2897a4be1970621cfc5b1dc99": {
      "model_module": "@jupyter-widgets/controls",
      "model_module_version": "1.5.0",
      "model_name": "TabModel",
      "state": {
       "_titles": {
        "0": "Global Controls",
        "1": "Protected Area Controls",
        "2": "Saturation Controls",
        "3": "Hue Controls"
       },
       "children": [
        "IPY_MODEL_9c5dd97e6b624864b2a5d8a41b06b6f4",
        "IPY_MODEL_7e8129f14a2c497e886218634af602c6",
        "IPY_MODEL_ed56385ced5b4d308df676f711b6ba96",
        "IPY_MODEL_c88b8ca3abb34c7d8ae9937f5f4bf699"
       ],
       "layout": "IPY_MODEL_8cfd94f0920b445897e6181627da278c"
      }
     },
     "4f0635ae5e2642a38783e790943385fd": {
      "model_module": "@jupyter-widgets/base",
      "model_module_version": "1.2.0",
      "model_name": "LayoutModel",
      "state": {}
     },
     "4f526c85642d4ef59c30e6663abbd458": {
      "model_module": "@jupyter-widgets/base",
      "model_module_version": "1.2.0",
      "model_name": "LayoutModel",
      "state": {}
     },
     "4f5c0627e491417ebf1531614e0c3b7b": {
      "model_module": "@jupyter-widgets/base",
      "model_module_version": "1.2.0",
      "model_name": "LayoutModel",
      "state": {}
     },
     "4f785bab1ff645adab1ea9124424e04a": {
      "model_module": "@jupyter-widgets/controls",
      "model_module_version": "1.5.0",
      "model_name": "FloatSliderModel",
      "state": {
       "description": "45°",
       "layout": "IPY_MODEL_f6bc947a5659471998ea67b26ce1802f",
       "max": 1,
       "min": -1,
       "step": 0.01,
       "style": "IPY_MODEL_07477295b5a34c348fb64a80f48f97dc"
      }
     },
     "4f7dd9902caa485e82c47e368f49a40c": {
      "model_module": "@jupyter-widgets/base",
      "model_module_version": "1.2.0",
      "model_name": "LayoutModel",
      "state": {}
     },
     "4f960710097d451493515c0748477de2": {
      "model_module": "@jupyter-widgets/base",
      "model_module_version": "1.2.0",
      "model_name": "LayoutModel",
      "state": {}
     },
     "503839b9cd2644b1b67771fc1855f13a": {
      "model_module": "@jupyter-widgets/base",
      "model_module_version": "1.2.0",
      "model_name": "LayoutModel",
      "state": {}
     },
     "50a0893b47ab4a2f9500a0c001b47415": {
      "model_module": "@jupyter-widgets/base",
      "model_module_version": "1.2.0",
      "model_name": "LayoutModel",
      "state": {}
     },
     "50af638967d44aef899d5d8936bc7ce9": {
      "model_module": "@jupyter-widgets/base",
      "model_module_version": "1.2.0",
      "model_name": "LayoutModel",
      "state": {
       "align_items": "stretch",
       "display": "flex",
       "flex_flow": "column",
       "width": "1128px"
      }
     },
     "50cf3832d86c43a99ac82019e9f144ee": {
      "model_module": "@jupyter-widgets/controls",
      "model_module_version": "1.5.0",
      "model_name": "TabModel",
      "state": {
       "_titles": {
        "0": "Global Controls"
       },
       "children": [
        "IPY_MODEL_6b236975f27f4b24a9b240da6bd93793"
       ],
       "layout": "IPY_MODEL_d9b5b5825e0c4ce1bc1b3e28c37c8eab"
      }
     },
     "50ea7f0c467542788468c1bd3876b22a": {
      "model_module": "@jupyter-widgets/base",
      "model_module_version": "1.2.0",
      "model_name": "LayoutModel",
      "state": {}
     },
     "5152aa4817bb48eba2dfcbc8f05ad90e": {
      "model_module": "@jupyter-widgets/controls",
      "model_module_version": "1.5.0",
      "model_name": "SliderStyleModel",
      "state": {
       "description_width": ""
      }
     },
     "516b8cd90d1e47228815a23c7030ffd6": {
      "model_module": "@jupyter-widgets/controls",
      "model_module_version": "1.5.0",
      "model_name": "ButtonModel",
      "state": {
       "description": "Reset Hue Controls",
       "layout": "IPY_MODEL_a10b64f9b06940b3aa0b4256bed93599",
       "style": "IPY_MODEL_c6a63393869744b48fa501b59a222b44"
      }
     },
     "517ac1bf95944b78b67497bc48ac1ec6": {
      "model_module": "@jupyter-widgets/controls",
      "model_module_version": "1.5.0",
      "model_name": "FloatSliderModel",
      "state": {
       "description": "Protected Area Threshold",
       "layout": "IPY_MODEL_51956628db2b4bd889593985acbe01b9",
       "max": 1,
       "step": 0.01,
       "style": "IPY_MODEL_41a2c80fed8f4332a65fe39d59ac8f59",
       "value": 0.7
      }
     },
     "51956628db2b4bd889593985acbe01b9": {
      "model_module": "@jupyter-widgets/base",
      "model_module_version": "1.2.0",
      "model_name": "LayoutModel",
      "state": {}
     },
     "5200bde44678431c923902231e57fe04": {
      "model_module": "@jupyter-widgets/controls",
      "model_module_version": "1.5.0",
      "model_name": "ButtonModel",
      "state": {
       "description": "Save Figure",
       "layout": "IPY_MODEL_a15bc33e86aa4aef8de943b1edb049dc",
       "style": "IPY_MODEL_f7cf7a9bc9574a6088fd5e9e89fcd0c1"
      }
     },
     "522a6d2f7f1141459f8409d56c73584e": {
      "model_module": "@jupyter-widgets/controls",
      "model_module_version": "1.5.0",
      "model_name": "SliderStyleModel",
      "state": {
       "description_width": ""
      }
     },
     "5232d1040fec4f478bf5b62387020649": {
      "model_module": "@jupyter-widgets/controls",
      "model_module_version": "1.5.0",
      "model_name": "FloatSliderModel",
      "state": {
       "description": "Compression Threshold",
       "layout": "IPY_MODEL_6fd24d1177014525a0bc1e766169090f",
       "max": 1,
       "step": 0.01,
       "style": "IPY_MODEL_015e26f05d4e49229a73790d43102c2f",
       "value": 0.8
      }
     },
     "52990b02272c4305a29ebc6dc7b4d663": {
      "model_module": "@jupyter-widgets/controls",
      "model_module_version": "1.5.0",
      "model_name": "FloatSliderModel",
      "state": {
       "description": "225°",
       "layout": "IPY_MODEL_8d79740691f041199d8dfd46cfcd8702",
       "max": 1,
       "min": -1,
       "step": 0.01,
       "style": "IPY_MODEL_ba8c20081d8047219b40189d661ec33a"
      }
     },
     "52f7676b85a84ac3b50ccaa8b5fe4d64": {
      "model_module": "@jupyter-widgets/controls",
      "model_module_version": "1.5.0",
      "model_name": "CheckboxModel",
      "state": {
       "description": "Disable Medicina",
       "disabled": false,
       "layout": "IPY_MODEL_25ee5adc54ed456eaa7d605e89e2d28b",
       "style": "IPY_MODEL_bab928e8bef5455e8c7c2b673ccd071e",
       "value": false
      }
     },
     "52fecdbcccfb48059ba907ef56edbec5": {
      "model_module": "@jupyter-widgets/controls",
      "model_module_version": "1.5.0",
      "model_name": "FloatSliderModel",
      "state": {
       "description": "45°",
       "layout": "IPY_MODEL_9fb1ccc01d6642568b5fe2d6d0a7844c",
       "max": 1,
       "min": -1,
       "step": 0.01,
       "style": "IPY_MODEL_935fe53266914bb9996eb827d623b64e"
      }
     },
     "53046444bddb460580bd9f4b68e3227f": {
      "model_module": "@jupyter-widgets/base",
      "model_module_version": "1.2.0",
      "model_name": "LayoutModel",
      "state": {}
     },
     "53292965655544debe7d176ba1d01056": {
      "model_module": "@jupyter-widgets/base",
      "model_module_version": "1.2.0",
      "model_name": "LayoutModel",
      "state": {}
     },
     "534528bad6ef4fa1b0fd6a40ac36c7c6": {
      "model_module": "@jupyter-widgets/controls",
      "model_module_version": "1.5.0",
      "model_name": "BoxModel",
      "state": {
       "children": [
        "IPY_MODEL_86a51fbabde94c3facdbde75d6945c74",
        "IPY_MODEL_0a710036d2724b8380d837820e3d15f4"
       ],
       "layout": "IPY_MODEL_9e35b13d62b640a09b8a7334276567f4"
      }
     },
     "535d3e2b4c574ee4a461c010a7dcac55": {
      "model_module": "@jupyter-widgets/base",
      "model_module_version": "1.2.0",
      "model_name": "LayoutModel",
      "state": {}
     },
     "538a20d9d52f4872bedf6cf353573c1d": {
      "model_module": "@jupyter-widgets/controls",
      "model_module_version": "1.5.0",
      "model_name": "ButtonModel",
      "state": {
       "description": "Reset Hue Controls",
       "layout": "IPY_MODEL_622762f060754b93bf30e72f45535324",
       "style": "IPY_MODEL_49c3b2c4fbf5456d80ed0f16414cc172"
      }
     },
     "538b0966fd6f46338e9d2ebf0071c059": {
      "model_module": "@jupyter-widgets/base",
      "model_module_version": "1.2.0",
      "model_name": "LayoutModel",
      "state": {}
     },
     "53babffba61c412c8ad9f45088736aa8": {
      "model_module": "@jupyter-widgets/base",
      "model_module_version": "1.2.0",
      "model_name": "LayoutModel",
      "state": {}
     },
     "53ecc5ef724a439cb5c026afe25e90cf": {
      "model_module": "jupyter-matplotlib",
      "model_module_version": "^0.7.2",
      "model_name": "MPLCanvasModel",
      "state": {
       "_figure_label": "Figure 20",
       "_height": 550,
       "_width": 1100,
       "header_visible": false,
       "layout": "IPY_MODEL_e5d875e8b8184fc6bc41fc9e762114c2",
       "resizable": false,
       "toolbar": "IPY_MODEL_b18ac62126734337996f2b4f211df225",
       "toolbar_position": "left",
       "toolbar_visible": false
      }
     },
     "5406392cff3a48f1a2b72cb5b7a9ea65": {
      "model_module": "@jupyter-widgets/base",
      "model_module_version": "1.2.0",
      "model_name": "LayoutModel",
      "state": {}
     },
     "5481fff686574b28a36e6e7b0de76708": {
      "model_module": "@jupyter-widgets/controls",
      "model_module_version": "1.5.0",
      "model_name": "CheckboxModel",
      "state": {
       "description": "Disable Medicina",
       "disabled": false,
       "layout": "IPY_MODEL_29f2d60cd467480fa102588b4c697993",
       "style": "IPY_MODEL_20b096161e964efa99fbf5690cbe4d57",
       "value": false
      }
     },
     "54f0e9afe5124decb27b9799bb730454": {
      "model_module": "@jupyter-widgets/base",
      "model_module_version": "1.2.0",
      "model_name": "LayoutModel",
      "state": {}
     },
     "555c7fc84ff94213a15016a1bb9e317c": {
      "model_module": "@jupyter-widgets/controls",
      "model_module_version": "1.5.0",
      "model_name": "FloatSliderModel",
      "state": {
       "description": "180°",
       "layout": "IPY_MODEL_7a8b1b0f050245ba96338f992e5efb5d",
       "max": 1,
       "min": -1,
       "step": 0.01,
       "style": "IPY_MODEL_97187d999f404d13afd380446bbd95c3"
      }
     },
     "5577be85767b407497cca4465b284c1d": {
      "model_module": "@jupyter-widgets/output",
      "model_module_version": "1.0.0",
      "model_name": "OutputModel",
      "state": {
       "layout": "IPY_MODEL_46de5c0f82f44c28b312ea252a87ad82",
       "outputs": [
        {
         "data": {
          "application/vnd.jupyter.widget-view+json": {
           "model_id": "c93c37bb090741acb7dcd32225206222",
           "version_major": 2,
           "version_minor": 0
          },
          "text/plain": "Canvas(toolbar=Toolbar(toolitems=[('Home', 'Reset original view', 'home', 'home'), ('Back', 'Back to previous …"
         },
         "metadata": {},
         "output_type": "display_data"
        }
       ]
      }
     },
     "557a58a867eb47d09ec80fa249bef40a": {
      "model_module": "@jupyter-widgets/controls",
      "model_module_version": "1.5.0",
      "model_name": "ButtonStyleModel",
      "state": {}
     },
     "557af4d331264331aaef603d6608d0da": {
      "model_module": "@jupyter-widgets/base",
      "model_module_version": "1.2.0",
      "model_name": "LayoutModel",
      "state": {}
     },
     "55b77d6c9bd04c668b626cb681a41966": {
      "model_module": "@jupyter-widgets/controls",
      "model_module_version": "1.5.0",
      "model_name": "VBoxModel",
      "state": {
       "children": [
        "IPY_MODEL_d4288b8e123642ba88145dfab6abfa36",
        "IPY_MODEL_174adecb877349f2a1f5a9e6f66e61f0",
        "IPY_MODEL_b18ab70abe464db4b7aac9f3d75a9977"
       ],
       "layout": "IPY_MODEL_a6e3601d260046a39528e4a58116555b"
      }
     },
     "55e65933b74840568a8379322ebcf473": {
      "model_module": "@jupyter-widgets/base",
      "model_module_version": "1.2.0",
      "model_name": "LayoutModel",
      "state": {}
     },
     "56090b2bd2a64284a6073e65d4da5f49": {
      "model_module": "@jupyter-widgets/controls",
      "model_module_version": "1.5.0",
      "model_name": "BoxModel",
      "state": {
       "children": [
        "IPY_MODEL_2ecefed00adb48a7a1d79cb8de87ed0d",
        "IPY_MODEL_d4aa16e1229e40de9d95d77c5d2d3c8b"
       ],
       "layout": "IPY_MODEL_6c7de25018d8491f9851f168fc864a73"
      }
     },
     "5621e8b41ec545a282f5e993ffa4d449": {
      "model_module": "@jupyter-widgets/controls",
      "model_module_version": "1.5.0",
      "model_name": "ButtonModel",
      "state": {
       "description": "Export Image",
       "layout": "IPY_MODEL_e3853e1405af4c9ca6fcc09fc7f8c4dd",
       "style": "IPY_MODEL_f4b837dc53f248d38b7ca0ea09363d66"
      }
     },
     "567a9fee4a5b4806bb156b2cb2b39d70": {
      "model_module": "@jupyter-widgets/base",
      "model_module_version": "1.2.0",
      "model_name": "LayoutModel",
      "state": {}
     },
     "568a0a25b48b4988b7f7a1acae97a538": {
      "model_module": "@jupyter-widgets/controls",
      "model_module_version": "1.5.0",
      "model_name": "ButtonModel",
      "state": {
       "description": "Save Figure",
       "layout": "IPY_MODEL_81aeef609c454454bc2c8ba9c29ca67d",
       "style": "IPY_MODEL_a1c389295c5d4784bca0d7ba258c3d2f"
      }
     },
     "568b9164c1cf4477bb52ca6806796df3": {
      "model_module": "@jupyter-widgets/base",
      "model_module_version": "1.2.0",
      "model_name": "LayoutModel",
      "state": {}
     },
     "56b064723a0d407c825c59ab20439c2c": {
      "model_module": "@jupyter-widgets/controls",
      "model_module_version": "1.5.0",
      "model_name": "ButtonStyleModel",
      "state": {}
     },
     "56ce190365684e1ca9578716f52c3319": {
      "model_module": "@jupyter-widgets/base",
      "model_module_version": "1.2.0",
      "model_name": "LayoutModel",
      "state": {}
     },
     "56f574c9572741f3a21e225df08f1bcc": {
      "model_module": "@jupyter-widgets/controls",
      "model_module_version": "1.5.0",
      "model_name": "SliderStyleModel",
      "state": {
       "description_width": ""
      }
     },
     "5705b11d17c147f18e1d3eb52cfdce9c": {
      "model_module": "@jupyter-widgets/base",
      "model_module_version": "1.2.0",
      "model_name": "LayoutModel",
      "state": {
       "border": "solid 4px #222",
       "margin": "4px",
       "padding": "0"
      }
     },
     "57807f57d7b744e5858f86730932de1b": {
      "model_module": "@jupyter-widgets/output",
      "model_module_version": "1.0.0",
      "model_name": "OutputModel",
      "state": {
       "layout": "IPY_MODEL_6f5b98bca85c49c69d24587d2afff73f",
       "outputs": [
        {
         "data": {
          "application/vnd.jupyter.widget-view+json": {
           "model_id": "4917a16878774fc2b2be768d008bf3e6",
           "version_major": 2,
           "version_minor": 0
          },
          "text/plain": "Canvas(toolbar=Toolbar(toolitems=[('Home', 'Reset original view', 'home', 'home'), ('Back', 'Back to previous …"
         },
         "metadata": {},
         "output_type": "display_data"
        }
       ]
      }
     },
     "57845829098a48a48e4dd89ee4ddd8c3": {
      "model_module": "@jupyter-widgets/controls",
      "model_module_version": "1.5.0",
      "model_name": "ButtonModel",
      "state": {
       "description": "Export Image",
       "layout": "IPY_MODEL_dd928061ee0646a7a23851a3c22cb542",
       "style": "IPY_MODEL_2ff1eb672b3f4674ab90ded728ada4e1"
      }
     },
     "57cb7a909eef47d4836e70d82213620a": {
      "model_module": "@jupyter-widgets/base",
      "model_module_version": "1.2.0",
      "model_name": "LayoutModel",
      "state": {}
     },
     "57e08a917a0441d2a635cbd35b3112e3": {
      "model_module": "@jupyter-widgets/base",
      "model_module_version": "1.2.0",
      "model_name": "LayoutModel",
      "state": {}
     },
     "57e4bb9364b848808d59684c05bed57d": {
      "model_module": "@jupyter-widgets/controls",
      "model_module_version": "1.5.0",
      "model_name": "HBoxModel",
      "state": {
       "children": [
        "IPY_MODEL_de90b099cc194430bec339cd2401aff0",
        "IPY_MODEL_7c44a986c4234744bbe3580fbaee7db1",
        "IPY_MODEL_7bec25188d854599a21f62a501798b99",
        "IPY_MODEL_91132e6a30cf42068323d1a2edb62738"
       ],
       "layout": "IPY_MODEL_b16d2c2c9e744a4bb84f1fd8e49e31aa"
      }
     },
     "582049db5d57422dac7b29eed0193df1": {
      "model_module": "@jupyter-widgets/controls",
      "model_module_version": "1.5.0",
      "model_name": "SliderStyleModel",
      "state": {
       "description_width": ""
      }
     },
     "58545a769f3649de8186899b31601463": {
      "model_module": "@jupyter-widgets/base",
      "model_module_version": "1.2.0",
      "model_name": "LayoutModel",
      "state": {}
     },
     "589b58be9754425882c41638f00057cc": {
      "model_module": "@jupyter-widgets/controls",
      "model_module_version": "1.5.0",
      "model_name": "SliderStyleModel",
      "state": {
       "description_width": ""
      }
     },
     "592a6c2feadb48be94498a9a65f418c4": {
      "model_module": "@jupyter-widgets/base",
      "model_module_version": "1.2.0",
      "model_name": "LayoutModel",
      "state": {}
     },
     "592c58e1767c4d2494440fb668363204": {
      "model_module": "@jupyter-widgets/controls",
      "model_module_version": "1.5.0",
      "model_name": "SliderStyleModel",
      "state": {
       "description_width": ""
      }
     },
     "59b6d519b7de4f4db83f5cf68cf8b2af": {
      "model_module": "@jupyter-widgets/controls",
      "model_module_version": "1.5.0",
      "model_name": "SliderStyleModel",
      "state": {
       "description_width": ""
      }
     },
     "5a0ddb4c1c134f0493a1ec8854252116": {
      "model_module": "@jupyter-widgets/controls",
      "model_module_version": "1.5.0",
      "model_name": "BoxModel",
      "state": {
       "children": [
        "IPY_MODEL_30c2f534021d476fa20cbdd925651fc7",
        "IPY_MODEL_79a6f76314f34c17b79510743d8a8431"
       ],
       "layout": "IPY_MODEL_6d1d43b3a412499eaf53823bc6d37450"
      }
     },
     "5a99f40598394c0395029ac08f88ee3b": {
      "model_module": "@jupyter-widgets/controls",
      "model_module_version": "1.5.0",
      "model_name": "HBoxModel",
      "state": {
       "children": [
        "IPY_MODEL_308f54284aa74de0b1620055cabb05cb",
        "IPY_MODEL_98dd941a3fc44e17af1a99a5d607cb6e",
        "IPY_MODEL_f964f447845e45c39afb9a7890ebf20f",
        "IPY_MODEL_3c4743384c3545e480d63c990caf4fa0"
       ],
       "layout": "IPY_MODEL_df6d22eb8784496188bc0a508b8fbf85"
      }
     },
     "5aa5ec19c1c5442299812ee044a9be66": {
      "model_module": "@jupyter-widgets/base",
      "model_module_version": "1.2.0",
      "model_name": "LayoutModel",
      "state": {}
     },
     "5aa74334f6984bd5bc8c58a4572c6968": {
      "model_module": "@jupyter-widgets/controls",
      "model_module_version": "1.5.0",
      "model_name": "SliderStyleModel",
      "state": {
       "description_width": ""
      }
     },
     "5ab6ef2f393e452e95d5c873e17b1f36": {
      "model_module": "@jupyter-widgets/controls",
      "model_module_version": "1.5.0",
      "model_name": "HBoxModel",
      "state": {
       "children": [
        "IPY_MODEL_e25bb58254f2422db82e5e9dd0b7a20f",
        "IPY_MODEL_bf1cbcfe42cd4717b188de342757dff0",
        "IPY_MODEL_acc36c8fc1664543ad75928fa25e60fd",
        "IPY_MODEL_6c5bdcc77d09429eb06f6b85c0db483c"
       ],
       "layout": "IPY_MODEL_79dcbcdecbb14bee937cf1505b8eb865"
      }
     },
     "5aff00e8108f43f6902cdf04ec2f3318": {
      "model_module": "jupyter-matplotlib",
      "model_module_version": "^0.7.2",
      "model_name": "MPLCanvasModel",
      "state": {
       "_figure_label": "Figure 2",
       "_height": 396,
       "_width": 1100,
       "header_visible": false,
       "layout": "IPY_MODEL_6dc1bdd2ffad43c3a225301e3b1fc2c9",
       "resizable": false,
       "toolbar": "IPY_MODEL_0aec628477794290a45ba0c73c6bc2a1",
       "toolbar_position": "left",
       "toolbar_visible": false
      }
     },
     "5b5625e9b6b34120b5e9489c96cb2a85": {
      "model_module": "@jupyter-widgets/controls",
      "model_module_version": "1.5.0",
      "model_name": "VBoxModel",
      "state": {
       "children": [
        "IPY_MODEL_9f214f08a7484e93a2c879179c8ae4c0",
        "IPY_MODEL_b353b342660048f7a3592e2c521d1950",
        "IPY_MODEL_0d93a251994c40e9b1fa6e16303ce178"
       ],
       "layout": "IPY_MODEL_57e08a917a0441d2a635cbd35b3112e3"
      }
     },
     "5c2874bcdefa4710830377c5cba9ca37": {
      "model_module": "@jupyter-widgets/base",
      "model_module_version": "1.2.0",
      "model_name": "LayoutModel",
      "state": {}
     },
     "5cb4950b552d4f46b97739ab68515856": {
      "model_module": "jupyter-matplotlib",
      "model_module_version": "^0.7.2",
      "model_name": "ToolbarModel",
      "state": {
       "layout": "IPY_MODEL_f624884c59df4dc9982ac9ac7464e0ce",
       "toolitems": [
        [
         "Home",
         "Reset original view",
         "home",
         "home"
        ],
        [
         "Back",
         "Back to previous view",
         "arrow-left",
         "back"
        ],
        [
         "Forward",
         "Forward to next view",
         "arrow-right",
         "forward"
        ],
        [
         "Pan",
         "Pan axes with left mouse, zoom with right",
         "arrows",
         "pan"
        ],
        [
         "Zoom",
         "Zoom to rectangle",
         "square-o",
         "zoom"
        ],
        [
         "Download",
         "Download plot",
         "floppy-o",
         "save_figure"
        ]
       ]
      }
     },
     "5cc3cd8ae2f848968ec0d8b2d7f001d1": {
      "model_module": "@jupyter-widgets/controls",
      "model_module_version": "1.5.0",
      "model_name": "TabModel",
      "state": {
       "_titles": {
        "0": "Global Controls",
        "1": "Compression Controls"
       },
       "children": [
        "IPY_MODEL_fc8bf5accda84eaa88e81766c7023f37",
        "IPY_MODEL_a632d71fa6d14e089c2b93dd5b01c527"
       ],
       "layout": "IPY_MODEL_986a735ef2624ef08f8afad999b6f693"
      }
     },
     "5d01e78d0e974bd59c116cd8c1284c3d": {
      "model_module": "@jupyter-widgets/controls",
      "model_module_version": "1.5.0",
      "model_name": "FloatSliderModel",
      "state": {
       "description": "90°",
       "layout": "IPY_MODEL_99363ccc0f1442f99cec350b98f26893",
       "max": 1,
       "min": -1,
       "step": 0.01,
       "style": "IPY_MODEL_589b58be9754425882c41638f00057cc"
      }
     },
     "5d21f92ab9d04bc39c2a5db38add250f": {
      "model_module": "@jupyter-widgets/controls",
      "model_module_version": "1.5.0",
      "model_name": "DescriptionStyleModel",
      "state": {
       "description_width": ""
      }
     },
     "5d3211cc841546c7a734033047d5006a": {
      "model_module": "@jupyter-widgets/controls",
      "model_module_version": "1.5.0",
      "model_name": "HBoxModel",
      "state": {
       "children": [
        "IPY_MODEL_ce7a0830aaf44aba87d08f7b1fd80186",
        "IPY_MODEL_bb92d609854e49c596038e8e9b966770",
        "IPY_MODEL_20c6be1854e447d98abef75de399127b"
       ],
       "layout": "IPY_MODEL_bdce1f41fa09438cb80c8c2eba509338"
      }
     },
     "5d5f450aa636475abd5b0778d2e4e295": {
      "model_module": "@jupyter-widgets/controls",
      "model_module_version": "1.5.0",
      "model_name": "ButtonStyleModel",
      "state": {}
     },
     "5d8f07ecd7d6468190207c95eb506949": {
      "model_module": "@jupyter-widgets/controls",
      "model_module_version": "1.5.0",
      "model_name": "SliderStyleModel",
      "state": {
       "description_width": ""
      }
     },
     "5d99edd57e2b4727a2a2544ca9093fa9": {
      "model_module": "@jupyter-widgets/controls",
      "model_module_version": "1.5.0",
      "model_name": "ButtonModel",
      "state": {
       "description": "Export Image",
       "layout": "IPY_MODEL_87bd56b34f9041b9aa67a36a9faa17fd",
       "style": "IPY_MODEL_fb0d976a6d4a467db73ac11ad414a959"
      }
     },
     "5dc9069c1dea400e84e6bc50f38c17e5": {
      "model_module": "@jupyter-widgets/base",
      "model_module_version": "1.2.0",
      "model_name": "LayoutModel",
      "state": {}
     },
     "5ddd75323abe4696a07cf2dd573fd485": {
      "model_module": "@jupyter-widgets/base",
      "model_module_version": "1.2.0",
      "model_name": "LayoutModel",
      "state": {}
     },
     "5e216a569e5647a1bf334aa9d5105d51": {
      "model_module": "@jupyter-widgets/controls",
      "model_module_version": "1.5.0",
      "model_name": "VBoxModel",
      "state": {
       "children": [
        "IPY_MODEL_c9440e714ff74afca8b998fc8fa40695",
        "IPY_MODEL_97207e0dd8f14e0f844eeb60919509b8",
        "IPY_MODEL_60a5612ee3e5410091c32bafd4daa217"
       ],
       "layout": "IPY_MODEL_91d31f88e59442de9e9458bcde341bb6"
      }
     },
     "5e4858a6cab545e6952797ca20912b74": {
      "model_module": "@jupyter-widgets/controls",
      "model_module_version": "1.5.0",
      "model_name": "ButtonStyleModel",
      "state": {}
     },
     "5e79ef074caa4c848bdc286884732021": {
      "model_module": "@jupyter-widgets/controls",
      "model_module_version": "1.5.0",
      "model_name": "ButtonModel",
      "state": {
       "description": "Export Image",
       "layout": "IPY_MODEL_9b3c471589714e6c9e26b5122efd86b8",
       "style": "IPY_MODEL_307653fca055472fb0199a52ea6b873a"
      }
     },
     "5eabc2c5571544c18358e0ba83b95a96": {
      "model_module": "jupyter-matplotlib",
      "model_module_version": "^0.7.2",
      "model_name": "MPLCanvasModel",
      "state": {
       "_figure_label": "Figure 23",
       "_height": 550,
       "_width": 1100,
       "header_visible": false,
       "layout": "IPY_MODEL_7b1b02b7f93f40c9920767bb25e3b80b",
       "resizable": false,
       "toolbar": "IPY_MODEL_5cb4950b552d4f46b97739ab68515856",
       "toolbar_position": "left",
       "toolbar_visible": false
      }
     },
     "5eb3bef1d2034ce194039171757960f6": {
      "model_module": "@jupyter-widgets/controls",
      "model_module_version": "1.5.0",
      "model_name": "ButtonModel",
      "state": {
       "description": "Export Image",
       "layout": "IPY_MODEL_ab83507836f44608b68a3a125ce48e1e",
       "style": "IPY_MODEL_dae645540e5a4f21bdb97839759842e7"
      }
     },
     "5f07b2fa3b69442ea1ae0cdb80be7ef5": {
      "model_module": "@jupyter-widgets/base",
      "model_module_version": "1.2.0",
      "model_name": "LayoutModel",
      "state": {}
     },
     "5f0d708745c447ce8165b65314556661": {
      "model_module": "@jupyter-widgets/controls",
      "model_module_version": "1.5.0",
      "model_name": "FloatSliderModel",
      "state": {
       "description": "180°",
       "layout": "IPY_MODEL_9fb0be23ffcc450bb4b922212d63f0d6",
       "max": 1,
       "min": -1,
       "step": 0.01,
       "style": "IPY_MODEL_953360ab013b46c3a36b82db20512f65"
      }
     },
     "5f70503db3f8431da7e9fe2785e4b894": {
      "model_module": "@jupyter-widgets/base",
      "model_module_version": "1.2.0",
      "model_name": "LayoutModel",
      "state": {}
     },
     "5fc5c46e5562490d8e3638ebded3c643": {
      "model_module": "@jupyter-widgets/base",
      "model_module_version": "1.2.0",
      "model_name": "LayoutModel",
      "state": {}
     },
     "5fe4b8a0b9414561ab84bb22e2de15ea": {
      "model_module": "@jupyter-widgets/controls",
      "model_module_version": "1.5.0",
      "model_name": "ButtonModel",
      "state": {
       "description": "Export Image",
       "layout": "IPY_MODEL_5aa5ec19c1c5442299812ee044a9be66",
       "style": "IPY_MODEL_ba43e44d28d34f3ea88e5181ab0e95bf"
      }
     },
     "601a7599e3894c19b6148bf5e90d28cf": {
      "model_module": "@jupyter-widgets/base",
      "model_module_version": "1.2.0",
      "model_name": "LayoutModel",
      "state": {}
     },
     "6020fd3eb52d46d995723511a85db553": {
      "model_module": "@jupyter-widgets/base",
      "model_module_version": "1.2.0",
      "model_name": "LayoutModel",
      "state": {}
     },
     "602c3e69b4d64624af48cb42589bbfad": {
      "model_module": "@jupyter-widgets/controls",
      "model_module_version": "1.5.0",
      "model_name": "HBoxModel",
      "state": {
       "children": [
        "IPY_MODEL_e9de0083ecef4f538e1789cd625e8f2d",
        "IPY_MODEL_499a0ed1c5ac48e3879ec3cdf9cfcde2",
        "IPY_MODEL_9c0cdcd8bdf349be9b4f5a691f35b36c",
        "IPY_MODEL_784f654088b5445f974431a213b87d80"
       ],
       "layout": "IPY_MODEL_f7a59a09b1354f34a2f16062d155478e"
      }
     },
     "60677e4face1440496ab594c257c6cf0": {
      "model_module": "@jupyter-widgets/base",
      "model_module_version": "1.2.0",
      "model_name": "LayoutModel",
      "state": {}
     },
     "60685dc2db054556843e5c4049147b5f": {
      "model_module": "@jupyter-widgets/controls",
      "model_module_version": "1.5.0",
      "model_name": "FloatSliderModel",
      "state": {
       "description": "0°",
       "layout": "IPY_MODEL_4899fa39beaa41ab89d6e6528c62dfdb",
       "max": 1,
       "min": -1,
       "step": 0.01,
       "style": "IPY_MODEL_e4107f3aac854aed9f03fa1ea99f8491"
      }
     },
     "608f49e6c5394d169c65a0ed468133a5": {
      "model_module": "@jupyter-widgets/controls",
      "model_module_version": "1.5.0",
      "model_name": "ButtonModel",
      "state": {
       "description": "Reset Hue Controls",
       "layout": "IPY_MODEL_95922884d2544468aebe9847f908345e",
       "style": "IPY_MODEL_256cf11238c14fa6b03231832500b64a"
      }
     },
     "609aa7aa5a5a4b70a5343aa84cf24170": {
      "model_module": "@jupyter-widgets/base",
      "model_module_version": "1.2.0",
      "model_name": "LayoutModel",
      "state": {}
     },
     "60a0bf16c23344bab0194ef2b1702828": {
      "model_module": "@jupyter-widgets/base",
      "model_module_version": "1.2.0",
      "model_name": "LayoutModel",
      "state": {}
     },
     "60a5612ee3e5410091c32bafd4daa217": {
      "model_module": "@jupyter-widgets/controls",
      "model_module_version": "1.5.0",
      "model_name": "FloatSliderModel",
      "state": {
       "description": "225°",
       "layout": "IPY_MODEL_086309656faf4c3180d43fd2c7ca4f66",
       "max": 1,
       "min": -1,
       "step": 0.01,
       "style": "IPY_MODEL_64940114f3d546ada4e7427707e755ed"
      }
     },
     "60e2150c09524c019a1472af75c0120b": {
      "model_module": "@jupyter-widgets/base",
      "model_module_version": "1.2.0",
      "model_name": "LayoutModel",
      "state": {
       "border": "solid 4px #222",
       "margin": "4px",
       "padding": "0"
      }
     },
     "60f75aa5e3ff496ca5a5d96bffedbdfc": {
      "model_module": "@jupyter-widgets/controls",
      "model_module_version": "1.5.0",
      "model_name": "VBoxModel",
      "state": {
       "children": [
        "IPY_MODEL_892c2076171248ebb0352c199a057f6a",
        "IPY_MODEL_52fecdbcccfb48059ba907ef56edbec5",
        "IPY_MODEL_29935bd27d65400a9135eef55bddb1d2"
       ],
       "layout": "IPY_MODEL_912822467b474d6382e09d44fc6d05fd"
      }
     },
     "60f8e892644543fdbd3e302c08065e93": {
      "model_module": "@jupyter-widgets/base",
      "model_module_version": "1.2.0",
      "model_name": "LayoutModel",
      "state": {}
     },
     "610f3fb8ecad42c085dddd52004675a2": {
      "model_module": "@jupyter-widgets/base",
      "model_module_version": "1.2.0",
      "model_name": "LayoutModel",
      "state": {}
     },
     "6123a3f1707c446ea363ec7e6f418420": {
      "model_module": "@jupyter-widgets/controls",
      "model_module_version": "1.5.0",
      "model_name": "FloatSliderModel",
      "state": {
       "description": "Compression Threshold",
       "layout": "IPY_MODEL_f87e95f2025e43da8a59740ecc292c26",
       "max": 1,
       "step": 0.01,
       "style": "IPY_MODEL_dc462b81d4d1467cbbabf96eeb8cad4c",
       "value": 0.8
      }
     },
     "612d24d20e244891ad28a640d31f367f": {
      "model_module": "@jupyter-widgets/controls",
      "model_module_version": "1.5.0",
      "model_name": "SliderStyleModel",
      "state": {
       "description_width": ""
      }
     },
     "6218bb440d934f39bda05e3cf027b8d4": {
      "model_module": "@jupyter-widgets/controls",
      "model_module_version": "1.5.0",
      "model_name": "ButtonModel",
      "state": {
       "description": "Reset Protected Area",
       "layout": "IPY_MODEL_9f271dab63c3458fb066b91531795bfc",
       "style": "IPY_MODEL_f521827a2be647028dec60c98105a8f8"
      }
     },
     "622762f060754b93bf30e72f45535324": {
      "model_module": "@jupyter-widgets/base",
      "model_module_version": "1.2.0",
      "model_name": "LayoutModel",
      "state": {}
     },
     "622f1d0f91dd4eeb9ef314888937520b": {
      "model_module": "@jupyter-widgets/base",
      "model_module_version": "1.2.0",
      "model_name": "LayoutModel",
      "state": {}
     },
     "62870424d0de47278ad84ff88d62c256": {
      "model_module": "@jupyter-widgets/base",
      "model_module_version": "1.2.0",
      "model_name": "LayoutModel",
      "state": {}
     },
     "62ac3e98f5f54ab9879dd7fe2a349283": {
      "model_module": "@jupyter-widgets/controls",
      "model_module_version": "1.5.0",
      "model_name": "FloatSliderModel",
      "state": {
       "description": "135°",
       "layout": "IPY_MODEL_8a48c71badd046aea7bf4bd510d4b2d1",
       "max": 1,
       "min": -1,
       "step": 0.01,
       "style": "IPY_MODEL_97fb4f59ff4f4808adabdf25e3f4b629"
      }
     },
     "62cce2644db048e8a7496ee3761cc515": {
      "model_module": "@jupyter-widgets/controls",
      "model_module_version": "1.5.0",
      "model_name": "HBoxModel",
      "state": {
       "children": [
        "IPY_MODEL_2728cdc7f08849779a3807b802f27a84",
        "IPY_MODEL_6ca09d85e1cd47b0986c0deb211c8d3c",
        "IPY_MODEL_04cf53b656424aa78012d01e624e166b"
       ],
       "layout": "IPY_MODEL_6e4af3969bbb47479cf6ccd39831b900"
      }
     },
     "63067dcbebd44bcf9533645dc3525b42": {
      "model_module": "@jupyter-widgets/controls",
      "model_module_version": "1.5.0",
      "model_name": "FloatSliderModel",
      "state": {
       "description": "180°",
       "layout": "IPY_MODEL_610f3fb8ecad42c085dddd52004675a2",
       "max": 1,
       "min": -1,
       "step": 0.01,
       "style": "IPY_MODEL_95ae64fd991944569812ee1174a032eb"
      }
     },
     "639f6253ad48478394a5f7060adf7c3c": {
      "model_module": "@jupyter-widgets/controls",
      "model_module_version": "1.5.0",
      "model_name": "FloatSliderModel",
      "state": {
       "description": "45°",
       "layout": "IPY_MODEL_4ab9194981614d62a35c7b3b43c10088",
       "max": 1,
       "min": -1,
       "step": 0.01,
       "style": "IPY_MODEL_178d9b3279d145e3b4385c4fd3f83aa8"
      }
     },
     "63e6d2276ba24cac8148f7614bcab19c": {
      "model_module": "@jupyter-widgets/base",
      "model_module_version": "1.2.0",
      "model_name": "LayoutModel",
      "state": {}
     },
     "63e9acfb06344f459d544c52146acf88": {
      "model_module": "@jupyter-widgets/base",
      "model_module_version": "1.2.0",
      "model_name": "LayoutModel",
      "state": {}
     },
     "64919914249f449f874f29d325bee760": {
      "model_module": "@jupyter-widgets/controls",
      "model_module_version": "1.5.0",
      "model_name": "DescriptionStyleModel",
      "state": {
       "description_width": ""
      }
     },
     "64940114f3d546ada4e7427707e755ed": {
      "model_module": "@jupyter-widgets/controls",
      "model_module_version": "1.5.0",
      "model_name": "SliderStyleModel",
      "state": {
       "description_width": ""
      }
     },
     "649be9926e694ddf91092dda3e18a010": {
      "model_module": "@jupyter-widgets/controls",
      "model_module_version": "1.5.0",
      "model_name": "FloatSliderModel",
      "state": {
       "description": "315°",
       "layout": "IPY_MODEL_f9dfdf6a9a6b4219905292140ad5bf67",
       "max": 1,
       "min": -1,
       "step": 0.01,
       "style": "IPY_MODEL_34e308f1d5944118bd2b9be23b90a393"
      }
     },
     "650742dda47a4857b78536db723e4803": {
      "model_module": "@jupyter-widgets/controls",
      "model_module_version": "1.5.0",
      "model_name": "HBoxModel",
      "state": {
       "children": [
        "IPY_MODEL_e85cbe619c294641826ae86e2025627f",
        "IPY_MODEL_5fe4b8a0b9414561ab84bb22e2de15ea",
        "IPY_MODEL_fa16b4dd9f7e474e9740bdc4af20a8f6",
        "IPY_MODEL_98cfb8aebe274886b3b8ab4085a7d5e3"
       ],
       "layout": "IPY_MODEL_e6939f760f7d4975b57faf16907b5f06"
      }
     },
     "654b0ab1bb1f4410b9c111ffc50f1ce4": {
      "model_module": "@jupyter-widgets/base",
      "model_module_version": "1.2.0",
      "model_name": "LayoutModel",
      "state": {}
     },
     "656417a708c84778a2568a21f7c2e7bb": {
      "model_module": "@jupyter-widgets/base",
      "model_module_version": "1.2.0",
      "model_name": "LayoutModel",
      "state": {}
     },
     "65b6a75beb424296b2951ec925d6fd61": {
      "model_module": "@jupyter-widgets/base",
      "model_module_version": "1.2.0",
      "model_name": "LayoutModel",
      "state": {}
     },
     "65d3363bd04848c6a336788982bfd3fa": {
      "model_module": "@jupyter-widgets/controls",
      "model_module_version": "1.5.0",
      "model_name": "VBoxModel",
      "state": {
       "children": [
        "IPY_MODEL_f886a512db2c4c9895111330b30dd336"
       ],
       "layout": "IPY_MODEL_75eefe5e2d4642b1bea7cccf80130c43"
      }
     },
     "66611c8879084745a24837da53017ec3": {
      "model_module": "@jupyter-widgets/controls",
      "model_module_version": "1.5.0",
      "model_name": "SliderStyleModel",
      "state": {
       "description_width": ""
      }
     },
     "668f96604102455584903df5ac12c7be": {
      "model_module": "@jupyter-widgets/base",
      "model_module_version": "1.2.0",
      "model_name": "LayoutModel",
      "state": {
       "align_items": "stretch",
       "display": "flex",
       "flex_flow": "column",
       "width": "1128px"
      }
     },
     "67156c502b2a49348064073b0d994e1e": {
      "model_module": "@jupyter-widgets/base",
      "model_module_version": "1.2.0",
      "model_name": "LayoutModel",
      "state": {}
     },
     "6757d7a887e1482fa95b4e0a7333f0f0": {
      "model_module": "@jupyter-widgets/base",
      "model_module_version": "1.2.0",
      "model_name": "LayoutModel",
      "state": {}
     },
     "67dd1a8c1d05461db2c586df82121313": {
      "model_module": "@jupyter-widgets/controls",
      "model_module_version": "1.5.0",
      "model_name": "DropdownModel",
      "state": {
       "_options_labels": [
        "tanh",
        "simple"
       ],
       "description": "Compression Function:",
       "index": 0,
       "layout": "IPY_MODEL_304aec6a8ffc4c918646fd9b7a0abfe5",
       "style": "IPY_MODEL_0a5d3c8c445a4519bdff68cd0fa71595"
      }
     },
     "688d4f810e434ef288fbc42bedab53d8": {
      "model_module": "@jupyter-widgets/base",
      "model_module_version": "1.2.0",
      "model_name": "LayoutModel",
      "state": {}
     },
     "68928494b5c94f7091200f293560a148": {
      "model_module": "@jupyter-widgets/controls",
      "model_module_version": "1.5.0",
      "model_name": "SliderStyleModel",
      "state": {
       "description_width": ""
      }
     },
     "68ff32e96f294902962f6e06d0318ee2": {
      "model_module": "@jupyter-widgets/controls",
      "model_module_version": "1.5.0",
      "model_name": "SliderStyleModel",
      "state": {
       "description_width": ""
      }
     },
     "691debb4172343fa8108a643785d5654": {
      "model_module": "@jupyter-widgets/base",
      "model_module_version": "1.2.0",
      "model_name": "LayoutModel",
      "state": {
       "border": "solid 4px #222",
       "margin": "4px",
       "padding": "0"
      }
     },
     "698c1765676c44c686534204e33d40e8": {
      "model_module": "@jupyter-widgets/base",
      "model_module_version": "1.2.0",
      "model_name": "LayoutModel",
      "state": {}
     },
     "698dffb3046640459b1cd248e4ec3991": {
      "model_module": "@jupyter-widgets/controls",
      "model_module_version": "1.5.0",
      "model_name": "FloatSliderModel",
      "state": {
       "description": "Compression Threshold",
       "layout": "IPY_MODEL_8579b6d5f4ec44bcb907e6889c29ab5c",
       "max": 1,
       "step": 0.01,
       "style": "IPY_MODEL_4d1433b19b7e439aa18470ae32612c62",
       "value": 0.8
      }
     },
     "69a455dbb7274fa8aee27356aca47d9f": {
      "model_module": "@jupyter-widgets/base",
      "model_module_version": "1.2.0",
      "model_name": "LayoutModel",
      "state": {}
     },
     "69a46e3db0f748c68f0d6d91ff5a6151": {
      "model_module": "@jupyter-widgets/output",
      "model_module_version": "1.0.0",
      "model_name": "OutputModel",
      "state": {
       "layout": "IPY_MODEL_929a5e242ed74a67a9a73329e3b12b69",
       "outputs": [
        {
         "data": {
          "application/vnd.jupyter.widget-view+json": {
           "model_id": "0a36ecf1f1574a098da8f6a117b7b152",
           "version_major": 2,
           "version_minor": 0
          },
          "text/plain": "Canvas(toolbar=Toolbar(toolitems=[('Home', 'Reset original view', 'home', 'home'), ('Back', 'Back to previous …"
         },
         "metadata": {},
         "output_type": "display_data"
        }
       ]
      }
     },
     "69c9d6b695b4429bae17757c7056004d": {
      "model_module": "@jupyter-widgets/base",
      "model_module_version": "1.2.0",
      "model_name": "LayoutModel",
      "state": {}
     },
     "6a000404d93c4956aa5b37b8c9752c37": {
      "model_module": "@jupyter-widgets/controls",
      "model_module_version": "1.5.0",
      "model_name": "SliderStyleModel",
      "state": {
       "description_width": ""
      }
     },
     "6a0ac5a5afb1496bb626f690c767c92a": {
      "model_module": "@jupyter-widgets/base",
      "model_module_version": "1.2.0",
      "model_name": "LayoutModel",
      "state": {}
     },
     "6a2cd2965c444ce7a3bfaf60cb7aa46c": {
      "model_module": "@jupyter-widgets/controls",
      "model_module_version": "1.5.0",
      "model_name": "ButtonModel",
      "state": {
       "description": "Export Image",
       "layout": "IPY_MODEL_20a9bae962ad416dbd49960b709c430b",
       "style": "IPY_MODEL_ad72400ab5074f9fbed07a7391c59a67"
      }
     },
     "6a37b1a41ec244699001ca388e6d8124": {
      "model_module": "@jupyter-widgets/controls",
      "model_module_version": "1.5.0",
      "model_name": "ButtonModel",
      "state": {
       "description": "Save Figure",
       "layout": "IPY_MODEL_be7db891b7fd46a1a82534bb00358fe2",
       "style": "IPY_MODEL_b08c2d3402d542f6b49e50a035e86232"
      }
     },
     "6a453fb74e3b4ace8546bb9eb3b99929": {
      "model_module": "@jupyter-widgets/controls",
      "model_module_version": "1.5.0",
      "model_name": "HBoxModel",
      "state": {
       "children": [
        "IPY_MODEL_2928784a88884493aa1365681b26ddf2",
        "IPY_MODEL_41ff69070b1c4f6e87b7f29cd8d48b52",
        "IPY_MODEL_6a37b1a41ec244699001ca388e6d8124",
        "IPY_MODEL_92e3c28bd34b43faa50d616c688029bc"
       ],
       "layout": "IPY_MODEL_1ed0e60effdf4e3590d838911a415339"
      }
     },
     "6a73f5218f134407968466ab86132f2f": {
      "model_module": "@jupyter-widgets/base",
      "model_module_version": "1.2.0",
      "model_name": "LayoutModel",
      "state": {}
     },
     "6aaa3a50be7a451b980241327b2ca3bb": {
      "model_module": "@jupyter-widgets/controls",
      "model_module_version": "1.5.0",
      "model_name": "HBoxModel",
      "state": {
       "children": [
        "IPY_MODEL_7c64ae45df004271b667103fdd43a649",
        "IPY_MODEL_0c59940c32df4df3bd077cace19d0786",
        "IPY_MODEL_6123a3f1707c446ea363ec7e6f418420"
       ],
       "layout": "IPY_MODEL_5fc5c46e5562490d8e3638ebded3c643"
      }
     },
     "6aec96640f7f447d9d715bccf68fbfde": {
      "model_module": "@jupyter-widgets/controls",
      "model_module_version": "1.5.0",
      "model_name": "ButtonStyleModel",
      "state": {}
     },
     "6b030a4b11a34f6bab15bda4740edc87": {
      "model_module": "@jupyter-widgets/base",
      "model_module_version": "1.2.0",
      "model_name": "LayoutModel",
      "state": {}
     },
     "6b236975f27f4b24a9b240da6bd93793": {
      "model_module": "@jupyter-widgets/controls",
      "model_module_version": "1.5.0",
      "model_name": "HBoxModel",
      "state": {
       "children": [
        "IPY_MODEL_4a7f154477674de9bf38c3e0dda1e65e",
        "IPY_MODEL_6d8375745424414e995b3711bfa98f75",
        "IPY_MODEL_568a0a25b48b4988b7f7a1acae97a538",
        "IPY_MODEL_3c741d96433a46eab8911c712d228db0"
       ],
       "layout": "IPY_MODEL_916c5546bd3d4738b7e4ac8a1e381316"
      }
     },
     "6b23e9fd9e21499abe52d1eaf09d1d77": {
      "model_module": "jupyter-matplotlib",
      "model_module_version": "^0.7.2",
      "model_name": "MPLCanvasModel",
      "state": {
       "_figure_label": "Figure 12",
       "_height": 550,
       "_width": 1100,
       "header_visible": false,
       "layout": "IPY_MODEL_1932823da3944b44becaaea05aae3ad3",
       "resizable": false,
       "toolbar": "IPY_MODEL_2b0b0a86bd314c73aabf5479ec4789c3",
       "toolbar_position": "left",
       "toolbar_visible": false
      }
     },
     "6b3be7e328f346a4a42637a2120d7df5": {
      "model_module": "@jupyter-widgets/controls",
      "model_module_version": "1.5.0",
      "model_name": "ButtonModel",
      "state": {
       "description": "Save Figure",
       "layout": "IPY_MODEL_a75e86a3ffeb46588e72f1aaf8d91367",
       "style": "IPY_MODEL_762c5e3ba2774dff9ac0d2f5a10474a5"
      }
     },
     "6b5503c9b5a344aca3cecbf6e9b1b3f0": {
      "model_module": "jupyter-matplotlib",
      "model_module_version": "^0.7.2",
      "model_name": "ToolbarModel",
      "state": {
       "layout": "IPY_MODEL_f2fb3e1ae8e34f4897ac01a7942f06d9",
       "toolitems": [
        [
         "Home",
         "Reset original view",
         "home",
         "home"
        ],
        [
         "Back",
         "Back to previous view",
         "arrow-left",
         "back"
        ],
        [
         "Forward",
         "Forward to next view",
         "arrow-right",
         "forward"
        ],
        [
         "Pan",
         "Pan axes with left mouse, zoom with right",
         "arrows",
         "pan"
        ],
        [
         "Zoom",
         "Zoom to rectangle",
         "square-o",
         "zoom"
        ],
        [
         "Download",
         "Download plot",
         "floppy-o",
         "save_figure"
        ]
       ]
      }
     },
     "6b79d219af314f03ac0425a7d72ef981": {
      "model_module": "@jupyter-widgets/base",
      "model_module_version": "1.2.0",
      "model_name": "LayoutModel",
      "state": {
       "border": "solid 4px #222",
       "margin": "4px",
       "padding": "0"
      }
     },
     "6bf639ae55574b27a554100e6256b98d": {
      "model_module": "@jupyter-widgets/base",
      "model_module_version": "1.2.0",
      "model_name": "LayoutModel",
      "state": {}
     },
     "6c5bdcc77d09429eb06f6b85c0db483c": {
      "model_module": "@jupyter-widgets/controls",
      "model_module_version": "1.5.0",
      "model_name": "FloatSliderModel",
      "state": {
       "description": "Exposure",
       "layout": "IPY_MODEL_654b0ab1bb1f4410b9c111ffc50f1ce4",
       "max": 8,
       "min": -8,
       "step": 0.1,
       "style": "IPY_MODEL_1ffa905d66e6444c80b589057fe5fb66"
      }
     },
     "6c5ff51387204dc1a3456d9c582ad25a": {
      "model_module": "jupyter-matplotlib",
      "model_module_version": "^0.7.2",
      "model_name": "ToolbarModel",
      "state": {
       "layout": "IPY_MODEL_08b58fe5597041928d4c1906648c99ab",
       "toolitems": [
        [
         "Home",
         "Reset original view",
         "home",
         "home"
        ],
        [
         "Back",
         "Back to previous view",
         "arrow-left",
         "back"
        ],
        [
         "Forward",
         "Forward to next view",
         "arrow-right",
         "forward"
        ],
        [
         "Pan",
         "Pan axes with left mouse, zoom with right",
         "arrows",
         "pan"
        ],
        [
         "Zoom",
         "Zoom to rectangle",
         "square-o",
         "zoom"
        ],
        [
         "Download",
         "Download plot",
         "floppy-o",
         "save_figure"
        ]
       ]
      }
     },
     "6c7de25018d8491f9851f168fc864a73": {
      "model_module": "@jupyter-widgets/base",
      "model_module_version": "1.2.0",
      "model_name": "LayoutModel",
      "state": {
       "align_items": "stretch",
       "display": "flex",
       "flex_flow": "column",
       "width": "1128px"
      }
     },
     "6c843563153646a5891389240cf570c3": {
      "model_module": "@jupyter-widgets/controls",
      "model_module_version": "1.5.0",
      "model_name": "ButtonModel",
      "state": {
       "description": "Save Figure",
       "layout": "IPY_MODEL_74809e7261a54df6b8861c5974c8d52d",
       "style": "IPY_MODEL_b480d88cfb504f7c9c48d3347c4d95dc"
      }
     },
     "6c9c1e503eb24be8bf2d860c0e438442": {
      "model_module": "@jupyter-widgets/base",
      "model_module_version": "1.2.0",
      "model_name": "LayoutModel",
      "state": {
       "border": "solid 4px #222",
       "margin": "4px",
       "padding": "0"
      }
     },
     "6ca09d85e1cd47b0986c0deb211c8d3c": {
      "model_module": "@jupyter-widgets/controls",
      "model_module_version": "1.5.0",
      "model_name": "DropdownModel",
      "state": {
       "_options_labels": [
        "tanh",
        "simple"
       ],
       "description": "Compression Function:",
       "index": 0,
       "layout": "IPY_MODEL_6da72baaa8924163a414c8f855331749",
       "style": "IPY_MODEL_ab88db4d68e0489b8c2a61c353764ace"
      }
     },
     "6cb883c145544b519fa25221597f1fc0": {
      "model_module": "@jupyter-widgets/base",
      "model_module_version": "1.2.0",
      "model_name": "LayoutModel",
      "state": {}
     },
     "6cc3d2857b544c829a2ea2a3f2c944b4": {
      "model_module": "@jupyter-widgets/base",
      "model_module_version": "1.2.0",
      "model_name": "LayoutModel",
      "state": {}
     },
     "6cc44fd3fa1f4c60abb8246c021750ce": {
      "model_module": "@jupyter-widgets/controls",
      "model_module_version": "1.5.0",
      "model_name": "TabModel",
      "state": {
       "_titles": {
        "0": "Global Controls",
        "1": "Protected Area Controls",
        "2": "Saturation Controls",
        "3": "Hue Controls"
       },
       "children": [
        "IPY_MODEL_dbc0d92075324cf89db8a1cd70e56ad4",
        "IPY_MODEL_00666af8ba3642398de6843a33f4aac8",
        "IPY_MODEL_6aaa3a50be7a451b980241327b2ca3bb",
        "IPY_MODEL_169d0af3ba3242818e153aad86cf0219"
       ],
       "layout": "IPY_MODEL_15aa3c3d34b9469e9acfd9a26f05d741"
      }
     },
     "6ce7b9eb92f44a3784945b0854369e99": {
      "model_module": "@jupyter-widgets/controls",
      "model_module_version": "1.5.0",
      "model_name": "ButtonModel",
      "state": {
       "description": "Reset Saturation Controls",
       "layout": "IPY_MODEL_9359f54cd9a84cc999c50588135cef2d",
       "style": "IPY_MODEL_e446dfee10614ef58d977a43fcd5cb18"
      }
     },
     "6d1d43b3a412499eaf53823bc6d37450": {
      "model_module": "@jupyter-widgets/base",
      "model_module_version": "1.2.0",
      "model_name": "LayoutModel",
      "state": {
       "align_items": "stretch",
       "display": "flex",
       "flex_flow": "column",
       "width": "1128px"
      }
     },
     "6d8375745424414e995b3711bfa98f75": {
      "model_module": "@jupyter-widgets/controls",
      "model_module_version": "1.5.0",
      "model_name": "ButtonModel",
      "state": {
       "description": "Export Image",
       "layout": "IPY_MODEL_9c164a3ee5d5453586e7f335548be73f",
       "style": "IPY_MODEL_6aec96640f7f447d9d715bccf68fbfde"
      }
     },
     "6da72baaa8924163a414c8f855331749": {
      "model_module": "@jupyter-widgets/base",
      "model_module_version": "1.2.0",
      "model_name": "LayoutModel",
      "state": {}
     },
     "6dabdac0dd9446efb414888f74d5ff74": {
      "model_module": "@jupyter-widgets/base",
      "model_module_version": "1.2.0",
      "model_name": "LayoutModel",
      "state": {}
     },
     "6dc1bdd2ffad43c3a225301e3b1fc2c9": {
      "model_module": "@jupyter-widgets/base",
      "model_module_version": "1.2.0",
      "model_name": "LayoutModel",
      "state": {}
     },
     "6df0fbc8400440128596b09db89130fd": {
      "model_module": "@jupyter-widgets/controls",
      "model_module_version": "1.5.0",
      "model_name": "TabModel",
      "state": {
       "_titles": {
        "0": "Global Controls",
        "1": "Compression Controls"
       },
       "children": [
        "IPY_MODEL_602c3e69b4d64624af48cb42589bbfad",
        "IPY_MODEL_5d3211cc841546c7a734033047d5006a"
       ],
       "layout": "IPY_MODEL_bcafcd82102143ee932091405aa61266"
      }
     },
     "6e1b7cf4e8104ee0b02abd4ed8a35432": {
      "model_module": "@jupyter-widgets/base",
      "model_module_version": "1.2.0",
      "model_name": "LayoutModel",
      "state": {}
     },
     "6e2d8a8055c54e30a81932a626d27847": {
      "model_module": "@jupyter-widgets/controls",
      "model_module_version": "1.5.0",
      "model_name": "FloatSliderModel",
      "state": {
       "description": "270°",
       "layout": "IPY_MODEL_845744972764402bb0ba2fbaf45e0333",
       "max": 1,
       "min": -1,
       "step": 0.01,
       "style": "IPY_MODEL_1388142745114682ac44f85b9c775d8b"
      }
     },
     "6e4af3969bbb47479cf6ccd39831b900": {
      "model_module": "@jupyter-widgets/base",
      "model_module_version": "1.2.0",
      "model_name": "LayoutModel",
      "state": {}
     },
     "6e523e84c1ef487c9c48fc8e189d1701": {
      "model_module": "@jupyter-widgets/controls",
      "model_module_version": "1.5.0",
      "model_name": "TabModel",
      "state": {
       "_titles": {
        "0": "Global Controls"
       },
       "children": [
        "IPY_MODEL_b9a3db37d4b14a2193a6e3aff246c5a7"
       ],
       "layout": "IPY_MODEL_f842d24b7f4e4ce1b7bd76b3f60a83a9"
      }
     },
     "6e52e475f46949e9843b2fe544eb9073": {
      "model_module": "@jupyter-widgets/base",
      "model_module_version": "1.2.0",
      "model_name": "LayoutModel",
      "state": {}
     },
     "6e539d1c986a4a86ab358ad727e9eb3c": {
      "model_module": "@jupyter-widgets/controls",
      "model_module_version": "1.5.0",
      "model_name": "HBoxModel",
      "state": {
       "children": [
        "IPY_MODEL_f2df8e797d984c34a9e07431eaa8df7a",
        "IPY_MODEL_aac4bc5ffa9045aab5ccf011425c7cd8"
       ],
       "layout": "IPY_MODEL_d26aa0609af747ec8b27bbe89036b90e"
      }
     },
     "6e5d77e6079c47dca63ab925b7bffe1d": {
      "model_module": "@jupyter-widgets/controls",
      "model_module_version": "1.5.0",
      "model_name": "DescriptionStyleModel",
      "state": {
       "description_width": ""
      }
     },
     "6e63b8bf3aa14f5d805cc7db0295dba3": {
      "model_module": "@jupyter-widgets/base",
      "model_module_version": "1.2.0",
      "model_name": "LayoutModel",
      "state": {}
     },
     "6ea3e1510d384ce3a37febe58bcb75b8": {
      "model_module": "@jupyter-widgets/base",
      "model_module_version": "1.2.0",
      "model_name": "LayoutModel",
      "state": {}
     },
     "6eb5635730f04a0fa035aaba5ba5723b": {
      "model_module": "@jupyter-widgets/controls",
      "model_module_version": "1.5.0",
      "model_name": "SliderStyleModel",
      "state": {
       "description_width": ""
      }
     },
     "6eb917309d3a4a78aabc07bcd5b027ca": {
      "model_module": "@jupyter-widgets/controls",
      "model_module_version": "1.5.0",
      "model_name": "ButtonModel",
      "state": {
       "description": "Reset Protected Area",
       "layout": "IPY_MODEL_226874cc05624e5e8ac9f94786753da7",
       "style": "IPY_MODEL_8a1add2e37374837ba5bf142104e9713"
      }
     },
     "6ecee7663a27439aae95fd93137d28f1": {
      "model_module": "@jupyter-widgets/controls",
      "model_module_version": "1.5.0",
      "model_name": "HBoxModel",
      "state": {
       "children": [
        "IPY_MODEL_4c0ed76f459d4e6686808f628c6a0f7b",
        "IPY_MODEL_5b5625e9b6b34120b5e9489c96cb2a85",
        "IPY_MODEL_a245fb3a443a4143a19c450a7f213fd1",
        "IPY_MODEL_c4c679b7af2c4553bf28ab40b020f0c9"
       ],
       "layout": "IPY_MODEL_115cf926c5454fd18ff326a2c014432d"
      }
     },
     "6ee9198506bb40a28f141a7c0a0b4499": {
      "model_module": "@jupyter-widgets/controls",
      "model_module_version": "1.5.0",
      "model_name": "ButtonStyleModel",
      "state": {}
     },
     "6ef1b4c7a16444bd9c2d83310636d2f7": {
      "model_module": "@jupyter-widgets/controls",
      "model_module_version": "1.5.0",
      "model_name": "VBoxModel",
      "state": {
       "children": [
        "IPY_MODEL_e3e26d51846542c99926016c6ab66384",
        "IPY_MODEL_2de1b656453f488a8038e9c8abfc2322"
       ],
       "layout": "IPY_MODEL_eb779b5c5c434dbaab235240dd53d92b"
      }
     },
     "6f31735a6c264f149400639da8fd20c2": {
      "model_module": "@jupyter-widgets/controls",
      "model_module_version": "1.5.0",
      "model_name": "ButtonModel",
      "state": {
       "description": "Reset Hue Controls",
       "layout": "IPY_MODEL_0f0df3c422f94572b38bb808fe53cfa1",
       "style": "IPY_MODEL_7eec0604069149adae09865750248c73"
      }
     },
     "6f3eb18a88164c7bbebf5b40c648d6cf": {
      "model_module": "@jupyter-widgets/base",
      "model_module_version": "1.2.0",
      "model_name": "LayoutModel",
      "state": {}
     },
     "6f45e89d96f547cfaa3df84d5825b868": {
      "model_module": "@jupyter-widgets/controls",
      "model_module_version": "1.5.0",
      "model_name": "ButtonStyleModel",
      "state": {}
     },
     "6f4f231f80cf4d9185ef073826406d30": {
      "model_module": "@jupyter-widgets/output",
      "model_module_version": "1.0.0",
      "model_name": "OutputModel",
      "state": {
       "layout": "IPY_MODEL_a0237de5be74487fbca170766b764c83",
       "outputs": [
        {
         "data": {
          "application/vnd.jupyter.widget-view+json": {
           "model_id": "a23b8f60f3044323a588ece938dabb15",
           "version_major": 2,
           "version_minor": 0
          },
          "text/plain": "Canvas(toolbar=Toolbar(toolitems=[('Home', 'Reset original view', 'home', 'home'), ('Back', 'Back to previous …"
         },
         "metadata": {},
         "output_type": "display_data"
        }
       ]
      }
     },
     "6f4ff46174924d3296652aafe1bc7cdd": {
      "model_module": "@jupyter-widgets/base",
      "model_module_version": "1.2.0",
      "model_name": "LayoutModel",
      "state": {}
     },
     "6f56628368e54e7d91721097d2d3c4f6": {
      "model_module": "@jupyter-widgets/controls",
      "model_module_version": "1.5.0",
      "model_name": "SliderStyleModel",
      "state": {
       "description_width": ""
      }
     },
     "6f5b98bca85c49c69d24587d2afff73f": {
      "model_module": "@jupyter-widgets/base",
      "model_module_version": "1.2.0",
      "model_name": "LayoutModel",
      "state": {
       "border": "solid 4px #222",
       "margin": "4px",
       "padding": "0"
      }
     },
     "6fc3c3190f3b45e7a243a2e23e839431": {
      "model_module": "@jupyter-widgets/base",
      "model_module_version": "1.2.0",
      "model_name": "LayoutModel",
      "state": {}
     },
     "6fd24d1177014525a0bc1e766169090f": {
      "model_module": "@jupyter-widgets/base",
      "model_module_version": "1.2.0",
      "model_name": "LayoutModel",
      "state": {}
     },
     "6fdf5fff0ecc4c94973031a6703f0135": {
      "model_module": "@jupyter-widgets/controls",
      "model_module_version": "1.5.0",
      "model_name": "VBoxModel",
      "state": {
       "children": [
        "IPY_MODEL_969e77ebdace40cdbe2b83819de9dde9",
        "IPY_MODEL_1acfa4d4f3f648eeb1fa3fe1698f5cb3"
       ],
       "layout": "IPY_MODEL_0ca18432aac5487d9a920c5af75ff3e5"
      }
     },
     "700200efe0e44f6fb2729dce4c15e97b": {
      "model_module": "@jupyter-widgets/controls",
      "model_module_version": "1.5.0",
      "model_name": "FloatSliderModel",
      "state": {
       "description": "0°",
       "layout": "IPY_MODEL_538b0966fd6f46338e9d2ebf0071c059",
       "max": 1,
       "min": -1,
       "step": 0.01,
       "style": "IPY_MODEL_f647afbefb8a42faad17324502c80118"
      }
     },
     "701259bf699f4a01936d4df4f6af89c6": {
      "model_module": "@jupyter-widgets/controls",
      "model_module_version": "1.5.0",
      "model_name": "HBoxModel",
      "state": {
       "children": [
        "IPY_MODEL_52f7676b85a84ac3b50ccaa8b5fe4d64",
        "IPY_MODEL_a48644fadc3e4d0cb56313ddb8196ead",
        "IPY_MODEL_6b3be7e328f346a4a42637a2120d7df5",
        "IPY_MODEL_0b80d7b0c0be4c428532a2be1c408934"
       ],
       "layout": "IPY_MODEL_e05bc69f7ab242e38912cade0d9b9317"
      }
     },
     "7031f164f2f0475ea87fc9684e43d2ac": {
      "model_module": "@jupyter-widgets/base",
      "model_module_version": "1.2.0",
      "model_name": "LayoutModel",
      "state": {}
     },
     "70374149d7d1472e856193d27f5dde81": {
      "model_module": "@jupyter-widgets/controls",
      "model_module_version": "1.5.0",
      "model_name": "TabModel",
      "state": {
       "_titles": {
        "0": "Global Controls",
        "1": "Compression Controls"
       },
       "children": [
        "IPY_MODEL_affa351cba4c4b74b3e3c056b3d3636a",
        "IPY_MODEL_0f99fa85a30b4e46a071749b8795ceac"
       ],
       "layout": "IPY_MODEL_71cf337c505547c1b805abfb7ebf3493"
      }
     },
     "70594eae2adc4691b99e4642a447330d": {
      "model_module": "@jupyter-widgets/base",
      "model_module_version": "1.2.0",
      "model_name": "LayoutModel",
      "state": {}
     },
     "706ae08576b146e58504664fdef7907b": {
      "model_module": "@jupyter-widgets/controls",
      "model_module_version": "1.5.0",
      "model_name": "SliderStyleModel",
      "state": {
       "description_width": ""
      }
     },
     "70ea15dc622743fa83f3f3c2cd73b311": {
      "model_module": "@jupyter-widgets/controls",
      "model_module_version": "1.5.0",
      "model_name": "ButtonModel",
      "state": {
       "description": "Reset Saturation Controls",
       "layout": "IPY_MODEL_bd7c3b31c8784af39af7f14bf4f35083",
       "style": "IPY_MODEL_2d9f6739b85f4aaeb55030bf07104e69"
      }
     },
     "70f69e0cd5f04581932a77c707829cbf": {
      "model_module": "@jupyter-widgets/base",
      "model_module_version": "1.2.0",
      "model_name": "LayoutModel",
      "state": {}
     },
     "7119a14ef0f44389a4130426f41774f6": {
      "model_module": "@jupyter-widgets/controls",
      "model_module_version": "1.5.0",
      "model_name": "SliderStyleModel",
      "state": {
       "description_width": ""
      }
     },
     "71486dcaebb44fab88f85d36fc94a89c": {
      "model_module": "@jupyter-widgets/controls",
      "model_module_version": "1.5.0",
      "model_name": "ButtonStyleModel",
      "state": {}
     },
     "7170793007ed44e59129c369df8f9ff7": {
      "model_module": "@jupyter-widgets/controls",
      "model_module_version": "1.5.0",
      "model_name": "SliderStyleModel",
      "state": {
       "description_width": ""
      }
     },
     "7176e8e55c1444b188173eb088d832d0": {
      "model_module": "jupyter-matplotlib",
      "model_module_version": "^0.7.2",
      "model_name": "ToolbarModel",
      "state": {
       "layout": "IPY_MODEL_23b46b71959f4664a94af9971e5b439d",
       "toolitems": [
        [
         "Home",
         "Reset original view",
         "home",
         "home"
        ],
        [
         "Back",
         "Back to previous view",
         "arrow-left",
         "back"
        ],
        [
         "Forward",
         "Forward to next view",
         "arrow-right",
         "forward"
        ],
        [
         "Pan",
         "Pan axes with left mouse, zoom with right",
         "arrows",
         "pan"
        ],
        [
         "Zoom",
         "Zoom to rectangle",
         "square-o",
         "zoom"
        ],
        [
         "Download",
         "Download plot",
         "floppy-o",
         "save_figure"
        ]
       ]
      }
     },
     "718d25207c114352959f858e659fcc2d": {
      "model_module": "@jupyter-widgets/controls",
      "model_module_version": "1.5.0",
      "model_name": "ButtonModel",
      "state": {
       "description": "Save Figure",
       "layout": "IPY_MODEL_7508b1b57bcb41f9a508233951dbe715",
       "style": "IPY_MODEL_e6995d71b66b4354bbe5f28ed59aebd6"
      }
     },
     "71b6cf7e04734e41ac4763b5e7331c2d": {
      "model_module": "@jupyter-widgets/base",
      "model_module_version": "1.2.0",
      "model_name": "LayoutModel",
      "state": {}
     },
     "71cf337c505547c1b805abfb7ebf3493": {
      "model_module": "@jupyter-widgets/base",
      "model_module_version": "1.2.0",
      "model_name": "LayoutModel",
      "state": {
       "border": "solid 4px #222",
       "margin": "4px",
       "padding": "0"
      }
     },
     "729da4b1d2984d3ebbc9a08d1796499a": {
      "model_module": "@jupyter-widgets/base",
      "model_module_version": "1.2.0",
      "model_name": "LayoutModel",
      "state": {}
     },
     "72b5799201454f99be45c1f4f929404b": {
      "model_module": "@jupyter-widgets/controls",
      "model_module_version": "1.5.0",
      "model_name": "ButtonModel",
      "state": {
       "description": "Reset Saturation Controls",
       "layout": "IPY_MODEL_41edff9415bc41d0878cd39442f09ce7",
       "style": "IPY_MODEL_10f3393e57fe44b5afc7a0d5619bd817"
      }
     },
     "72b83a961b844b488c0e53abef39f9bd": {
      "model_module": "@jupyter-widgets/base",
      "model_module_version": "1.2.0",
      "model_name": "LayoutModel",
      "state": {}
     },
     "72ec9ea4507f46a18f9719adcba6bde1": {
      "model_module": "@jupyter-widgets/controls",
      "model_module_version": "1.5.0",
      "model_name": "FloatSliderModel",
      "state": {
       "description": "Exposure",
       "layout": "IPY_MODEL_af39f8a304804da6b874f6d56576b297",
       "max": 8,
       "min": -8,
       "step": 0.1,
       "style": "IPY_MODEL_abd58454054a4a52860de0c540c9a84a"
      }
     },
     "736749a31941404bb131deb5d56299cf": {
      "model_module": "@jupyter-widgets/base",
      "model_module_version": "1.2.0",
      "model_name": "LayoutModel",
      "state": {}
     },
     "7369554f715d4e5596430fa60c9359d0": {
      "model_module": "@jupyter-widgets/controls",
      "model_module_version": "1.5.0",
      "model_name": "FloatSliderModel",
      "state": {
       "description": "Exposure",
       "layout": "IPY_MODEL_003a29a3c13141048f53634c66298577",
       "max": 8,
       "min": -8,
       "step": 0.1,
       "style": "IPY_MODEL_e26a4f9fb67d48d9bc7bc4d7d3bc4d9f"
      }
     },
     "737e02cb22fc49278fccf197b60b3501": {
      "model_module": "@jupyter-widgets/controls",
      "model_module_version": "1.5.0",
      "model_name": "VBoxModel",
      "state": {
       "children": [
        "IPY_MODEL_f2feb8ccd9434e8ca96207556244bdea",
        "IPY_MODEL_63067dcbebd44bcf9533645dc3525b42",
        "IPY_MODEL_52990b02272c4305a29ebc6dc7b4d663"
       ],
       "layout": "IPY_MODEL_9c77873b5e134e1bb3fa63fa16f34710"
      }
     },
     "7399dcb4ab714b6f80b2844e5a714e2a": {
      "model_module": "@jupyter-widgets/base",
      "model_module_version": "1.2.0",
      "model_name": "LayoutModel",
      "state": {}
     },
     "742de32d1d544d61aa3c6cf6fe930005": {
      "model_module": "@jupyter-widgets/controls",
      "model_module_version": "1.5.0",
      "model_name": "ButtonModel",
      "state": {
       "description": "Reset Protected Area",
       "layout": "IPY_MODEL_5c2874bcdefa4710830377c5cba9ca37",
       "style": "IPY_MODEL_379a930ad1074d279373bbd9260194a3"
      }
     },
     "7462f304ca564b9b86a085edcddf74e8": {
      "model_module": "@jupyter-widgets/controls",
      "model_module_version": "1.5.0",
      "model_name": "SliderStyleModel",
      "state": {
       "description_width": ""
      }
     },
     "747252e177344603bb97eb21a658efa4": {
      "model_module": "@jupyter-widgets/controls",
      "model_module_version": "1.5.0",
      "model_name": "TabModel",
      "state": {
       "_titles": {
        "0": "Global Controls",
        "1": "Compression Controls"
       },
       "children": [
        "IPY_MODEL_6a453fb74e3b4ace8546bb9eb3b99929",
        "IPY_MODEL_288edba7635740f29cea45eabd058ecd"
       ],
       "layout": "IPY_MODEL_d3276a9774324e889c7b111e6af67496"
      }
     },
     "74809e7261a54df6b8861c5974c8d52d": {
      "model_module": "@jupyter-widgets/base",
      "model_module_version": "1.2.0",
      "model_name": "LayoutModel",
      "state": {}
     },
     "7508b1b57bcb41f9a508233951dbe715": {
      "model_module": "@jupyter-widgets/base",
      "model_module_version": "1.2.0",
      "model_name": "LayoutModel",
      "state": {}
     },
     "750c0e9cc55342f281283577be321e01": {
      "model_module": "@jupyter-widgets/controls",
      "model_module_version": "1.5.0",
      "model_name": "SliderStyleModel",
      "state": {
       "description_width": ""
      }
     },
     "7523693c200945debf9e473788805ea9": {
      "model_module": "@jupyter-widgets/controls",
      "model_module_version": "1.5.0",
      "model_name": "DescriptionStyleModel",
      "state": {
       "description_width": ""
      }
     },
     "75563394a2f945ffaf2e48985c000ce8": {
      "model_module": "@jupyter-widgets/controls",
      "model_module_version": "1.5.0",
      "model_name": "SliderStyleModel",
      "state": {
       "description_width": ""
      }
     },
     "7576c324f5cf4bef90acf2a9326b932b": {
      "model_module": "@jupyter-widgets/controls",
      "model_module_version": "1.5.0",
      "model_name": "SliderStyleModel",
      "state": {
       "description_width": ""
      }
     },
     "75bb0283aab545a292a6a2b6cf0d1000": {
      "model_module": "@jupyter-widgets/controls",
      "model_module_version": "1.5.0",
      "model_name": "ButtonStyleModel",
      "state": {}
     },
     "75eefe5e2d4642b1bea7cccf80130c43": {
      "model_module": "@jupyter-widgets/base",
      "model_module_version": "1.2.0",
      "model_name": "LayoutModel",
      "state": {}
     },
     "762c5e3ba2774dff9ac0d2f5a10474a5": {
      "model_module": "@jupyter-widgets/controls",
      "model_module_version": "1.5.0",
      "model_name": "ButtonStyleModel",
      "state": {}
     },
     "76b5b63cd88a4311861100860f1cdd90": {
      "model_module": "@jupyter-widgets/base",
      "model_module_version": "1.2.0",
      "model_name": "LayoutModel",
      "state": {
       "border": "solid 4px #222",
       "margin": "4px",
       "padding": "0"
      }
     },
     "7718de78a8a9480c8b8ab7188e95a7d8": {
      "model_module": "@jupyter-widgets/base",
      "model_module_version": "1.2.0",
      "model_name": "LayoutModel",
      "state": {}
     },
     "7725bb10741848569e40c5dab7d84689": {
      "model_module": "@jupyter-widgets/controls",
      "model_module_version": "1.5.0",
      "model_name": "CheckboxModel",
      "state": {
       "description": "Disable Medicina",
       "disabled": false,
       "layout": "IPY_MODEL_94979f74961b430884d7cfb003c8de18",
       "style": "IPY_MODEL_819466237eea4b9a8b6c4b6770b24f8a",
       "value": false
      }
     },
     "7735891da2fe49be8ce14a3b56248f03": {
      "model_module": "@jupyter-widgets/controls",
      "model_module_version": "1.5.0",
      "model_name": "ButtonModel",
      "state": {
       "description": "Reset Protected Area",
       "layout": "IPY_MODEL_2742f62d5b1e4764b3614cd8408cb097",
       "style": "IPY_MODEL_3c3bb886c8764f199dc58b805a22f282"
      }
     },
     "775267f60bc84d7594f9d2b36194d3b2": {
      "model_module": "@jupyter-widgets/base",
      "model_module_version": "1.2.0",
      "model_name": "LayoutModel",
      "state": {}
     },
     "77677bd9611c49e58f0421d195c9b460": {
      "model_module": "@jupyter-widgets/controls",
      "model_module_version": "1.5.0",
      "model_name": "ButtonModel",
      "state": {
       "description": "Reset Protected Area",
       "layout": "IPY_MODEL_c0fbabbf4b874cff9132b198a64f8c0d",
       "style": "IPY_MODEL_92b9b247d1ca40feb4d6db2730e455b0"
      }
     },
     "777e9123dcb841b58cb05ec46121bfce": {
      "model_module": "@jupyter-widgets/controls",
      "model_module_version": "1.5.0",
      "model_name": "SliderStyleModel",
      "state": {
       "description_width": ""
      }
     },
     "7780df509297401aa86f54df215c0664": {
      "model_module": "@jupyter-widgets/controls",
      "model_module_version": "1.5.0",
      "model_name": "DropdownModel",
      "state": {
       "_options_labels": [
        "tanh",
        "simple"
       ],
       "description": "Compression Function:",
       "index": 0,
       "layout": "IPY_MODEL_4f0635ae5e2642a38783e790943385fd",
       "style": "IPY_MODEL_d5abd03259524a43a91aee497eb43b27"
      }
     },
     "779c86f7a4ea459593e6f0446c01b76d": {
      "model_module": "@jupyter-widgets/base",
      "model_module_version": "1.2.0",
      "model_name": "LayoutModel",
      "state": {}
     },
     "779f62768d2a42ac85a49d1897bfbf29": {
      "model_module": "@jupyter-widgets/controls",
      "model_module_version": "1.5.0",
      "model_name": "VBoxModel",
      "state": {
       "children": [
        "IPY_MODEL_516b8cd90d1e47228815a23c7030ffd6"
       ],
       "layout": "IPY_MODEL_e1f11ab1c03147ccb34e27b8d55805dc"
      }
     },
     "7800957f2b744af48f10635cb61fa0bc": {
      "model_module": "@jupyter-widgets/controls",
      "model_module_version": "1.5.0",
      "model_name": "DropdownModel",
      "state": {
       "_options_labels": [
        "tanh",
        "simple"
       ],
       "description": "Compression Function:",
       "index": 0,
       "layout": "IPY_MODEL_46e706c3916d4182b0bd463def54afd6",
       "style": "IPY_MODEL_6e5d77e6079c47dca63ab925b7bffe1d"
      }
     },
     "78087cd8e7ad45c6bf47c4dc4f06563e": {
      "model_module": "@jupyter-widgets/base",
      "model_module_version": "1.2.0",
      "model_name": "LayoutModel",
      "state": {}
     },
     "78365b7eba0b4135bed119d01ef64ff9": {
      "model_module": "@jupyter-widgets/base",
      "model_module_version": "1.2.0",
      "model_name": "LayoutModel",
      "state": {
       "border": "solid 4px #222",
       "margin": "4px",
       "padding": "0"
      }
     },
     "784f654088b5445f974431a213b87d80": {
      "model_module": "@jupyter-widgets/controls",
      "model_module_version": "1.5.0",
      "model_name": "FloatSliderModel",
      "state": {
       "description": "Exposure",
       "layout": "IPY_MODEL_7b2d4f86d7fe4820a5455216231b2143",
       "max": 8,
       "min": -8,
       "step": 0.1,
       "style": "IPY_MODEL_68928494b5c94f7091200f293560a148"
      }
     },
     "7877b6b57872415189eab48eb46ba706": {
      "model_module": "@jupyter-widgets/controls",
      "model_module_version": "1.5.0",
      "model_name": "VBoxModel",
      "state": {
       "children": [
        "IPY_MODEL_a35f8c479c8e46a58dae8294a51d865e"
       ],
       "layout": "IPY_MODEL_9798a80050e945158ab57be0e3f51041"
      }
     },
     "79279f08c5454a00a7b801cc5a77a53f": {
      "model_module": "@jupyter-widgets/controls",
      "model_module_version": "1.5.0",
      "model_name": "HBoxModel",
      "state": {
       "children": [
        "IPY_MODEL_8163b96b3c7742e7ba47a999045c59a8",
        "IPY_MODEL_efbbca7ac10d48728e6d12b45ebcf8bd"
       ],
       "layout": "IPY_MODEL_a3ebaddb480a412b9d4ef8a45b2a8868"
      }
     },
     "7986d32435b24a519189da1b5e74c580": {
      "model_module": "@jupyter-widgets/controls",
      "model_module_version": "1.5.0",
      "model_name": "SliderStyleModel",
      "state": {
       "description_width": ""
      }
     },
     "79a6f76314f34c17b79510743d8a8431": {
      "model_module": "@jupyter-widgets/controls",
      "model_module_version": "1.5.0",
      "model_name": "TabModel",
      "state": {
       "_titles": {
        "0": "Global Controls",
        "1": "Protected Area Controls",
        "2": "Saturation Controls",
        "3": "Hue Controls"
       },
       "children": [
        "IPY_MODEL_701259bf699f4a01936d4df4f6af89c6",
        "IPY_MODEL_7cf7acf8aab54870b488d20abea6c5d3",
        "IPY_MODEL_4dbf57153e0240c4adf68a4e5454f89d",
        "IPY_MODEL_d71d4e86e8594009837009a6b3a6d4bb"
       ],
       "layout": "IPY_MODEL_a4d03d50d4574ab281b9fda4b615e630"
      }
     },
     "79b21657fa44477289aa54bba3578848": {
      "model_module": "@jupyter-widgets/controls",
      "model_module_version": "1.5.0",
      "model_name": "FloatSliderModel",
      "state": {
       "description": "45°",
       "layout": "IPY_MODEL_b904b60bc8214e9ab92e9ec793b835a2",
       "max": 1,
       "min": -1,
       "step": 0.01,
       "style": "IPY_MODEL_17acbc3fba9f401698250fc4c337e554"
      }
     },
     "79dcbcdecbb14bee937cf1505b8eb865": {
      "model_module": "@jupyter-widgets/base",
      "model_module_version": "1.2.0",
      "model_name": "LayoutModel",
      "state": {}
     },
     "7a06aa7db1ef46a2aba3bf3c0a0ce4f8": {
      "model_module": "@jupyter-widgets/base",
      "model_module_version": "1.2.0",
      "model_name": "LayoutModel",
      "state": {}
     },
     "7a7ade181f324e0ba4c30fdb3afef538": {
      "model_module": "@jupyter-widgets/controls",
      "model_module_version": "1.5.0",
      "model_name": "DropdownModel",
      "state": {
       "_options_labels": [
        "tanh",
        "simple"
       ],
       "description": "Compression Function:",
       "index": 0,
       "layout": "IPY_MODEL_f6e5d02302114ee7b88a016d3297e2b7",
       "style": "IPY_MODEL_d98d4faa31c2429489685158e751547f"
      }
     },
     "7a8b1b0f050245ba96338f992e5efb5d": {
      "model_module": "@jupyter-widgets/base",
      "model_module_version": "1.2.0",
      "model_name": "LayoutModel",
      "state": {}
     },
     "7ab75aa63b564c509b41e7346437c682": {
      "model_module": "@jupyter-widgets/controls",
      "model_module_version": "1.5.0",
      "model_name": "FloatSliderModel",
      "state": {
       "description": "Exposure",
       "layout": "IPY_MODEL_f0d89fa98a3e4429a6d40e359d9ea12e",
       "max": 8,
       "min": -8,
       "step": 0.1,
       "style": "IPY_MODEL_5d8f07ecd7d6468190207c95eb506949"
      }
     },
     "7b1b02b7f93f40c9920767bb25e3b80b": {
      "model_module": "@jupyter-widgets/base",
      "model_module_version": "1.2.0",
      "model_name": "LayoutModel",
      "state": {}
     },
     "7b1e8ca5bf284c6daec25dc25ee48d98": {
      "model_module": "@jupyter-widgets/base",
      "model_module_version": "1.2.0",
      "model_name": "LayoutModel",
      "state": {}
     },
     "7b2d4f86d7fe4820a5455216231b2143": {
      "model_module": "@jupyter-widgets/base",
      "model_module_version": "1.2.0",
      "model_name": "LayoutModel",
      "state": {}
     },
     "7b38bdf932a74e76bb8c0084c39cee10": {
      "model_module": "@jupyter-widgets/base",
      "model_module_version": "1.2.0",
      "model_name": "LayoutModel",
      "state": {}
     },
     "7b54fcf5a7a4404cb23d187a49a00143": {
      "model_module": "@jupyter-widgets/controls",
      "model_module_version": "1.5.0",
      "model_name": "DescriptionStyleModel",
      "state": {
       "description_width": ""
      }
     },
     "7b6af913970b41f9a1dcaf42bdd3eded": {
      "model_module": "@jupyter-widgets/base",
      "model_module_version": "1.2.0",
      "model_name": "LayoutModel",
      "state": {}
     },
     "7b7f901f043f4239bd599f8623534e44": {
      "model_module": "@jupyter-widgets/controls",
      "model_module_version": "1.5.0",
      "model_name": "DescriptionStyleModel",
      "state": {
       "description_width": ""
      }
     },
     "7ba1a3b779b64101abf715f5cf1ef6a8": {
      "model_module": "jupyter-matplotlib",
      "model_module_version": "^0.7.2",
      "model_name": "MPLCanvasModel",
      "state": {
       "_figure_label": "Figure 15",
       "_height": 430,
       "_image_mode": "diff",
       "_width": 1099,
       "header_visible": false,
       "layout": "IPY_MODEL_e7a35093033e47c59043dfeba8a5707a",
       "resizable": false,
       "toolbar": "IPY_MODEL_20087b6122ac4e89b1a9bd746d9cafbe",
       "toolbar_position": "left",
       "toolbar_visible": false
      }
     },
     "7bbe9cc33c9546a591001e37f658b255": {
      "model_module": "@jupyter-widgets/base",
      "model_module_version": "1.2.0",
      "model_name": "LayoutModel",
      "state": {}
     },
     "7bceee117ea44ed582755db98e0f3359": {
      "model_module": "@jupyter-widgets/controls",
      "model_module_version": "1.5.0",
      "model_name": "SliderStyleModel",
      "state": {
       "description_width": ""
      }
     },
     "7be991ff10294647bd117f04c1cb1ebf": {
      "model_module": "@jupyter-widgets/base",
      "model_module_version": "1.2.0",
      "model_name": "LayoutModel",
      "state": {
       "align_items": "stretch",
       "display": "flex",
       "flex_flow": "column",
       "width": "1128px"
      }
     },
     "7bec25188d854599a21f62a501798b99": {
      "model_module": "@jupyter-widgets/controls",
      "model_module_version": "1.5.0",
      "model_name": "VBoxModel",
      "state": {
       "children": [
        "IPY_MODEL_62ac3e98f5f54ab9879dd7fe2a349283",
        "IPY_MODEL_ab205266c0fd4978b2334567a4709f5c",
        "IPY_MODEL_0720f5e94d794051a9b13428381e9784"
       ],
       "layout": "IPY_MODEL_80ce989fcd7a456a8c6eb594ca632c1b"
      }
     },
     "7bfc4097bfaf4e1eac84ecf791fa2d74": {
      "model_module": "@jupyter-widgets/controls",
      "model_module_version": "1.5.0",
      "model_name": "FloatSliderModel",
      "state": {
       "description": "180°",
       "layout": "IPY_MODEL_ae38c9e1e1d341c083053485f1f8639d",
       "max": 1,
       "min": -1,
       "step": 0.01,
       "style": "IPY_MODEL_15ee2071e30c4f52bb759f4c297ab45e"
      }
     },
     "7c125e1ea3704fb59b6e3d8f1d1a58c6": {
      "model_module": "@jupyter-widgets/output",
      "model_module_version": "1.0.0",
      "model_name": "OutputModel",
      "state": {
       "layout": "IPY_MODEL_e165a3f0fb8c4a8089eb81d5e310740b",
       "outputs": [
        {
         "data": {
          "application/vnd.jupyter.widget-view+json": {
           "model_id": "5aff00e8108f43f6902cdf04ec2f3318",
           "version_major": 2,
           "version_minor": 0
          },
          "text/plain": "Canvas(toolbar=Toolbar(toolitems=[('Home', 'Reset original view', 'home', 'home'), ('Back', 'Back to previous …"
         },
         "metadata": {},
         "output_type": "display_data"
        }
       ]
      }
     },
     "7c44a986c4234744bbe3580fbaee7db1": {
      "model_module": "@jupyter-widgets/controls",
      "model_module_version": "1.5.0",
      "model_name": "VBoxModel",
      "state": {
       "children": [
        "IPY_MODEL_b8f694aee36d42a48461388e6fe9edbc",
        "IPY_MODEL_4644d6e08ffb43588143946cb5b10575",
        "IPY_MODEL_95face0f2f5248d6883fcfe3ddad81bd"
       ],
       "layout": "IPY_MODEL_1b725cc1e2d44b5c8b3bef13fb007d24"
      }
     },
     "7c64ae45df004271b667103fdd43a649": {
      "model_module": "@jupyter-widgets/controls",
      "model_module_version": "1.5.0",
      "model_name": "ButtonModel",
      "state": {
       "description": "Reset Saturation Controls",
       "layout": "IPY_MODEL_698c1765676c44c686534204e33d40e8",
       "style": "IPY_MODEL_111e7da586eb4fb6873b19ce42e61f39"
      }
     },
     "7c9c21c440e647e884a42ce66824672a": {
      "model_module": "@jupyter-widgets/controls",
      "model_module_version": "1.5.0",
      "model_name": "ButtonModel",
      "state": {
       "description": "Save Figure",
       "layout": "IPY_MODEL_a6e560932b164467aad982ed6b308d96",
       "style": "IPY_MODEL_e302d2815f3c4807b550cdbf66857094"
      }
     },
     "7cdef34dea4e4247a543519560f0ff3a": {
      "model_module": "@jupyter-widgets/base",
      "model_module_version": "1.2.0",
      "model_name": "LayoutModel",
      "state": {}
     },
     "7cf7acf8aab54870b488d20abea6c5d3": {
      "model_module": "@jupyter-widgets/controls",
      "model_module_version": "1.5.0",
      "model_name": "HBoxModel",
      "state": {
       "children": [
        "IPY_MODEL_6218bb440d934f39bda05e3cf027b8d4",
        "IPY_MODEL_517ac1bf95944b78b67497bc48ac1ec6"
       ],
       "layout": "IPY_MODEL_02e6262b6cf745ea8b62a49b7c2b8337"
      }
     },
     "7d22cf378951417b8186bb3cf82a6235": {
      "model_module": "@jupyter-widgets/base",
      "model_module_version": "1.2.0",
      "model_name": "LayoutModel",
      "state": {}
     },
     "7d2d7f3ba6da4ebd848099d343da25e2": {
      "model_module": "@jupyter-widgets/base",
      "model_module_version": "1.2.0",
      "model_name": "LayoutModel",
      "state": {}
     },
     "7d5038e214924bc8a23d69728cc17749": {
      "model_module": "@jupyter-widgets/base",
      "model_module_version": "1.2.0",
      "model_name": "LayoutModel",
      "state": {}
     },
     "7d6a38d8ac07432cb0d002d7849a0b26": {
      "model_module": "@jupyter-widgets/controls",
      "model_module_version": "1.5.0",
      "model_name": "SliderStyleModel",
      "state": {
       "description_width": ""
      }
     },
     "7d98ec24d9f2480096d3732b4c9655e5": {
      "model_module": "@jupyter-widgets/controls",
      "model_module_version": "1.5.0",
      "model_name": "SliderStyleModel",
      "state": {
       "description_width": ""
      }
     },
     "7ddcad48986e42e0a59100acab06a173": {
      "model_module": "jupyter-matplotlib",
      "model_module_version": "^0.7.2",
      "model_name": "MPLCanvasModel",
      "state": {
       "_figure_label": "Figure 3",
       "_height": 396,
       "_width": 1100,
       "header_visible": false,
       "layout": "IPY_MODEL_46f93793579348ba9adc87b78b6440ab",
       "resizable": false,
       "toolbar": "IPY_MODEL_ce9a22172c844a8980e334b546fbc31a",
       "toolbar_position": "left",
       "toolbar_visible": false
      }
     },
     "7e8129f14a2c497e886218634af602c6": {
      "model_module": "@jupyter-widgets/controls",
      "model_module_version": "1.5.0",
      "model_name": "HBoxModel",
      "state": {
       "children": [
        "IPY_MODEL_7735891da2fe49be8ce14a3b56248f03",
        "IPY_MODEL_c8bf2bd9b631431fba20a572461b08f4"
       ],
       "layout": "IPY_MODEL_946e086bbcd14289a4aa33f40a7499c5"
      }
     },
     "7e9052fd508e420498bd3b0c07430049": {
      "model_module": "@jupyter-widgets/base",
      "model_module_version": "1.2.0",
      "model_name": "LayoutModel",
      "state": {}
     },
     "7eec0604069149adae09865750248c73": {
      "model_module": "@jupyter-widgets/controls",
      "model_module_version": "1.5.0",
      "model_name": "ButtonStyleModel",
      "state": {}
     },
     "7f02b03caf96482f970c8ecf18866b87": {
      "model_module": "@jupyter-widgets/controls",
      "model_module_version": "1.5.0",
      "model_name": "SliderStyleModel",
      "state": {
       "description_width": ""
      }
     },
     "7f2ac4eed9c84e979df1b50a91de0a65": {
      "model_module": "@jupyter-widgets/controls",
      "model_module_version": "1.5.0",
      "model_name": "ButtonStyleModel",
      "state": {}
     },
     "7f4b3f0d51b7447997eaf586d6703e6f": {
      "model_module": "jupyter-matplotlib",
      "model_module_version": "^0.7.2",
      "model_name": "MPLCanvasModel",
      "state": {
       "_figure_label": "Figure 13",
       "_height": 550,
       "_width": 1100,
       "header_visible": false,
       "layout": "IPY_MODEL_8bb77788094344dbb091d5da23239745",
       "resizable": false,
       "toolbar": "IPY_MODEL_fbd32feac5ca49299e6221f164ed9714",
       "toolbar_position": "left",
       "toolbar_visible": false
      }
     },
     "7f74c803c8ee4ac7aabbfe05c82d3a54": {
      "model_module": "@jupyter-widgets/base",
      "model_module_version": "1.2.0",
      "model_name": "LayoutModel",
      "state": {}
     },
     "7f7ac4330c364b2fa03dcfb60f14a215": {
      "model_module": "@jupyter-widgets/controls",
      "model_module_version": "1.5.0",
      "model_name": "HBoxModel",
      "state": {
       "children": [
        "IPY_MODEL_0cd7d51cb4a6418cb309bf708cc27e6e",
        "IPY_MODEL_8413f8221b184484a45c3e56cc2290a0",
        "IPY_MODEL_33323e6307814c70bd1b84010d825fc4"
       ],
       "layout": "IPY_MODEL_ceb3076e66a04f8fb2db208fadb8e0a3"
      }
     },
     "7f7e1a2751e84b6f85e2cce7ab4f4082": {
      "model_module": "@jupyter-widgets/base",
      "model_module_version": "1.2.0",
      "model_name": "LayoutModel",
      "state": {
       "border": "solid 4px #222",
       "margin": "4px",
       "padding": "0"
      }
     },
     "7fa35024441f4f38b955cca13cff7cb2": {
      "model_module": "@jupyter-widgets/controls",
      "model_module_version": "1.5.0",
      "model_name": "DropdownModel",
      "state": {
       "_options_labels": [
        "tanh",
        "simple"
       ],
       "description": "Compression Function:",
       "index": 0,
       "layout": "IPY_MODEL_8feec7bd514b425db1d3a59581a785c4",
       "style": "IPY_MODEL_9625a1cbb0544564b30eb1949c5b8a17"
      }
     },
     "802c99809750478f82d79819ca066a0c": {
      "model_module": "@jupyter-widgets/base",
      "model_module_version": "1.2.0",
      "model_name": "LayoutModel",
      "state": {
       "border": "solid 4px #222",
       "margin": "4px",
       "padding": "0"
      }
     },
     "8091bf4b9c764796ba6a1be924b23ac3": {
      "model_module": "@jupyter-widgets/base",
      "model_module_version": "1.2.0",
      "model_name": "LayoutModel",
      "state": {}
     },
     "80cccadea9e54065937497eb4e48a556": {
      "model_module": "@jupyter-widgets/output",
      "model_module_version": "1.0.0",
      "model_name": "OutputModel",
      "state": {
       "layout": "IPY_MODEL_eb2c5a5ff7e84467ab040afb04030628",
       "outputs": [
        {
         "data": {
          "application/vnd.jupyter.widget-view+json": {
           "model_id": "53ecc5ef724a439cb5c026afe25e90cf",
           "version_major": 2,
           "version_minor": 0
          },
          "text/plain": "Canvas(toolbar=Toolbar(toolitems=[('Home', 'Reset original view', 'home', 'home'), ('Back', 'Back to previous …"
         },
         "metadata": {},
         "output_type": "display_data"
        }
       ]
      }
     },
     "80ce989fcd7a456a8c6eb594ca632c1b": {
      "model_module": "@jupyter-widgets/base",
      "model_module_version": "1.2.0",
      "model_name": "LayoutModel",
      "state": {}
     },
     "81174a46d1464fb0940a154b751f6541": {
      "model_module": "@jupyter-widgets/controls",
      "model_module_version": "1.5.0",
      "model_name": "SliderStyleModel",
      "state": {
       "description_width": ""
      }
     },
     "8163b96b3c7742e7ba47a999045c59a8": {
      "model_module": "@jupyter-widgets/controls",
      "model_module_version": "1.5.0",
      "model_name": "ButtonModel",
      "state": {
       "description": "Reset Protected Area",
       "layout": "IPY_MODEL_28dd4f09ea0744b39af99333c4e0572f",
       "style": "IPY_MODEL_7f2ac4eed9c84e979df1b50a91de0a65"
      }
     },
     "819466237eea4b9a8b6c4b6770b24f8a": {
      "model_module": "@jupyter-widgets/controls",
      "model_module_version": "1.5.0",
      "model_name": "DescriptionStyleModel",
      "state": {
       "description_width": ""
      }
     },
     "81aeef609c454454bc2c8ba9c29ca67d": {
      "model_module": "@jupyter-widgets/base",
      "model_module_version": "1.2.0",
      "model_name": "LayoutModel",
      "state": {}
     },
     "81bda519273b479595af8e201f4ac57f": {
      "model_module": "@jupyter-widgets/base",
      "model_module_version": "1.2.0",
      "model_name": "LayoutModel",
      "state": {
       "border": "solid 4px #222",
       "margin": "4px",
       "padding": "0"
      }
     },
     "8206768ffc9547b492ba4670ff684b08": {
      "model_module": "@jupyter-widgets/output",
      "model_module_version": "1.0.0",
      "model_name": "OutputModel",
      "state": {
       "layout": "IPY_MODEL_76b5b63cd88a4311861100860f1cdd90",
       "outputs": [
        {
         "data": {
          "application/vnd.jupyter.widget-view+json": {
           "model_id": "bf4df5d5fe8b4eaba1f32efee7a5f298",
           "version_major": 2,
           "version_minor": 0
          },
          "text/plain": "Canvas(toolbar=Toolbar(toolitems=[('Home', 'Reset original view', 'home', 'home'), ('Back', 'Back to previous …"
         },
         "metadata": {},
         "output_type": "display_data"
        }
       ]
      }
     },
     "8220a1799ea34718b0030059544626a8": {
      "model_module": "@jupyter-widgets/controls",
      "model_module_version": "1.5.0",
      "model_name": "SliderStyleModel",
      "state": {
       "description_width": ""
      }
     },
     "8228130ddbac43b88061e519e0b00df7": {
      "model_module": "@jupyter-widgets/controls",
      "model_module_version": "1.5.0",
      "model_name": "ButtonStyleModel",
      "state": {}
     },
     "82350c6437c6469ba8961b0f2d63036d": {
      "model_module": "@jupyter-widgets/base",
      "model_module_version": "1.2.0",
      "model_name": "LayoutModel",
      "state": {}
     },
     "824958a79b904a8cb30f01ac8fb5d9fe": {
      "model_module": "@jupyter-widgets/controls",
      "model_module_version": "1.5.0",
      "model_name": "SliderStyleModel",
      "state": {
       "description_width": ""
      }
     },
     "825dbdb1fba94dd7b0c56422a51f261e": {
      "model_module": "@jupyter-widgets/controls",
      "model_module_version": "1.5.0",
      "model_name": "FloatSliderModel",
      "state": {
       "description": "315°",
       "layout": "IPY_MODEL_031a660b8d294f01b46b14de56495202",
       "max": 1,
       "min": -1,
       "step": 0.01,
       "style": "IPY_MODEL_142f8aaaca7b4bcab733205bb9c6f513"
      }
     },
     "82b85047b81542ad9f33e5e6c2915594": {
      "model_module": "@jupyter-widgets/controls",
      "model_module_version": "1.5.0",
      "model_name": "TabModel",
      "state": {
       "_titles": {
        "0": "Global Controls",
        "1": "Protected Area Controls",
        "2": "Saturation Controls",
        "3": "Hue Controls"
       },
       "children": [
        "IPY_MODEL_5ab6ef2f393e452e95d5c873e17b1f36",
        "IPY_MODEL_6e539d1c986a4a86ab358ad727e9eb3c",
        "IPY_MODEL_ed76f14e8da74078a7d275ef86a22433",
        "IPY_MODEL_463b920672e4436f9018e0a29b59b247"
       ],
       "layout": "IPY_MODEL_81bda519273b479595af8e201f4ac57f"
      }
     },
     "82d0dca1ce48448c8b209604c180f097": {
      "model_module": "@jupyter-widgets/controls",
      "model_module_version": "1.5.0",
      "model_name": "FloatSliderModel",
      "state": {
       "description": "Exposure",
       "layout": "IPY_MODEL_9dc35b6297ac41a5b469517ddfe7ec23",
       "max": 8,
       "min": -8,
       "step": 0.1,
       "style": "IPY_MODEL_b8431c6afbe045029c8c887ee54d7974"
      }
     },
     "82d2349063134013bb72dd9f490d9777": {
      "model_module": "@jupyter-widgets/controls",
      "model_module_version": "1.5.0",
      "model_name": "FloatSliderModel",
      "state": {
       "description": "Exposure",
       "layout": "IPY_MODEL_0f7a73676ea84946983edb558a8e6f83",
       "max": 8,
       "min": -8,
       "step": 0.1,
       "style": "IPY_MODEL_d57e2ee3786f47f68cda44eda3be437f"
      }
     },
     "82ec0b837ac94b15934c9cc519010dd0": {
      "model_module": "@jupyter-widgets/controls",
      "model_module_version": "1.5.0",
      "model_name": "TabModel",
      "state": {
       "_titles": {
        "0": "Global Controls",
        "1": "Compression Controls"
       },
       "children": [
        "IPY_MODEL_990b078b3fad4364a2c1d9096ab0a383",
        "IPY_MODEL_7f7ac4330c364b2fa03dcfb60f14a215"
       ],
       "layout": "IPY_MODEL_04a01efa7c6c4fe19b561c35cd5d6940"
      }
     },
     "8333cef493804b6e91507d9b205d61bf": {
      "model_module": "@jupyter-widgets/base",
      "model_module_version": "1.2.0",
      "model_name": "LayoutModel",
      "state": {}
     },
     "83f0ce38055b4409a01446f3546169ef": {
      "model_module": "@jupyter-widgets/controls",
      "model_module_version": "1.5.0",
      "model_name": "SliderStyleModel",
      "state": {
       "description_width": ""
      }
     },
     "840036ca304b4f24b3e423287d1341a2": {
      "model_module": "@jupyter-widgets/controls",
      "model_module_version": "1.5.0",
      "model_name": "ButtonModel",
      "state": {
       "description": "Reset Hue Controls",
       "layout": "IPY_MODEL_45265460606d447aaefb2dae07c49f86",
       "style": "IPY_MODEL_1898c151f5b44ad597e4787cfd208fdc"
      }
     },
     "8413e00cebfb4821bd9539dc87464343": {
      "model_module": "jupyter-matplotlib",
      "model_module_version": "^0.7.2",
      "model_name": "MPLCanvasModel",
      "state": {
       "_figure_label": "Figure 5",
       "_height": 1100,
       "_width": 1100,
       "layout": "IPY_MODEL_70594eae2adc4691b99e4642a447330d",
       "toolbar": "IPY_MODEL_489e243e860c4f5d87c2706902280616",
       "toolbar_position": "left"
      }
     },
     "8413f8221b184484a45c3e56cc2290a0": {
      "model_module": "@jupyter-widgets/controls",
      "model_module_version": "1.5.0",
      "model_name": "DropdownModel",
      "state": {
       "_options_labels": [
        "tanh",
        "simple"
       ],
       "description": "Compression Function:",
       "index": 0,
       "layout": "IPY_MODEL_6ea3e1510d384ce3a37febe58bcb75b8",
       "style": "IPY_MODEL_fce22aba7ca4497fbfe32437d1659ef0"
      }
     },
     "845744972764402bb0ba2fbaf45e0333": {
      "model_module": "@jupyter-widgets/base",
      "model_module_version": "1.2.0",
      "model_name": "LayoutModel",
      "state": {}
     },
     "8478bc946ce843c6a8c8f35b356d72f7": {
      "model_module": "@jupyter-widgets/controls",
      "model_module_version": "1.5.0",
      "model_name": "DescriptionStyleModel",
      "state": {
       "description_width": ""
      }
     },
     "84b40bfa36a14e9a9ccb3cf8936f7fa6": {
      "model_module": "@jupyter-widgets/controls",
      "model_module_version": "1.5.0",
      "model_name": "ButtonStyleModel",
      "state": {}
     },
     "85225473a63c42abb41e01c4683914a1": {
      "model_module": "@jupyter-widgets/base",
      "model_module_version": "1.2.0",
      "model_name": "LayoutModel",
      "state": {
       "align_items": "stretch",
       "display": "flex",
       "flex_flow": "column",
       "width": "1128px"
      }
     },
     "8544e9cf24b54f9e8775ec9aba1cb4b5": {
      "model_module": "@jupyter-widgets/controls",
      "model_module_version": "1.5.0",
      "model_name": "FloatSliderModel",
      "state": {
       "description": "225°",
       "layout": "IPY_MODEL_9e4050c977ba4375bbd64b08257b5349",
       "max": 1,
       "min": -1,
       "step": 0.01,
       "style": "IPY_MODEL_ab843b0452e441e18c1d1949866c8605"
      }
     },
     "8579b6d5f4ec44bcb907e6889c29ab5c": {
      "model_module": "@jupyter-widgets/base",
      "model_module_version": "1.2.0",
      "model_name": "LayoutModel",
      "state": {}
     },
     "85a6a7856d114cf18d15696248c80aab": {
      "model_module": "@jupyter-widgets/base",
      "model_module_version": "1.2.0",
      "model_name": "LayoutModel",
      "state": {}
     },
     "85e3ee20e0774bf4a56035d8da175eba": {
      "model_module": "@jupyter-widgets/controls",
      "model_module_version": "1.5.0",
      "model_name": "ButtonStyleModel",
      "state": {}
     },
     "865a12482d4440b7a07904b65a9ec1b3": {
      "model_module": "@jupyter-widgets/controls",
      "model_module_version": "1.5.0",
      "model_name": "ButtonModel",
      "state": {
       "description": "Reset Protected Area",
       "layout": "IPY_MODEL_6dabdac0dd9446efb414888f74d5ff74",
       "style": "IPY_MODEL_06780f4f4c2349ceae9f672260c9e009"
      }
     },
     "8691183050f94757971627b91bf6b2fb": {
      "model_module": "@jupyter-widgets/base",
      "model_module_version": "1.2.0",
      "model_name": "LayoutModel",
      "state": {}
     },
     "869ab257efff4506971535e22f44d9bd": {
      "model_module": "jupyter-matplotlib",
      "model_module_version": "^0.7.2",
      "model_name": "ToolbarModel",
      "state": {
       "layout": "IPY_MODEL_f969c8fb706d4b6aa693731df99f08af",
       "toolitems": [
        [
         "Home",
         "Reset original view",
         "home",
         "home"
        ],
        [
         "Back",
         "Back to previous view",
         "arrow-left",
         "back"
        ],
        [
         "Forward",
         "Forward to next view",
         "arrow-right",
         "forward"
        ],
        [
         "Pan",
         "Pan axes with left mouse, zoom with right",
         "arrows",
         "pan"
        ],
        [
         "Zoom",
         "Zoom to rectangle",
         "square-o",
         "zoom"
        ],
        [
         "Download",
         "Download plot",
         "floppy-o",
         "save_figure"
        ]
       ]
      }
     },
     "86a51fbabde94c3facdbde75d6945c74": {
      "model_module": "@jupyter-widgets/output",
      "model_module_version": "1.0.0",
      "model_name": "OutputModel",
      "state": {
       "layout": "IPY_MODEL_9e5af6acd23545abb28e0b6363aabccf",
       "outputs": [
        {
         "data": {
          "application/vnd.jupyter.widget-view+json": {
           "model_id": "93804585f78f4b8f99c9740a1e3f8275",
           "version_major": 2,
           "version_minor": 0
          },
          "text/plain": "Canvas(toolbar=Toolbar(toolitems=[('Home', 'Reset original view', 'home', 'home'), ('Back', 'Back to previous …"
         },
         "metadata": {},
         "output_type": "display_data"
        }
       ]
      }
     },
     "86e0c9a112894b22a76ad348f7316e85": {
      "model_module": "@jupyter-widgets/base",
      "model_module_version": "1.2.0",
      "model_name": "LayoutModel",
      "state": {}
     },
     "86e57c6bc0dd4a8fbafa264161935e9a": {
      "model_module": "@jupyter-widgets/controls",
      "model_module_version": "1.5.0",
      "model_name": "DropdownModel",
      "state": {
       "_options_labels": [
        "tanh",
        "simple"
       ],
       "description": "Compression Function:",
       "index": 0,
       "layout": "IPY_MODEL_33a57b33ee074c049e0d3a65eb8c2da6",
       "style": "IPY_MODEL_d195f0f3f97241d78a307e6404a40465"
      }
     },
     "871fd3a0b894438db47c77ab5fa54833": {
      "model_module": "@jupyter-widgets/base",
      "model_module_version": "1.2.0",
      "model_name": "LayoutModel",
      "state": {}
     },
     "8786826d341649dabcb0811e3b3c02eb": {
      "model_module": "jupyter-matplotlib",
      "model_module_version": "^0.7.2",
      "model_name": "MPLCanvasModel",
      "state": {
       "_figure_label": "Figure 11",
       "_height": 696,
       "_image_mode": "diff",
       "_width": 1100,
       "header_visible": false,
       "layout": "IPY_MODEL_2b19d51a25c14ced9e2be6168e4d1f0c",
       "resizable": false,
       "toolbar": "IPY_MODEL_869ab257efff4506971535e22f44d9bd",
       "toolbar_position": "left",
       "toolbar_visible": false
      }
     },
     "87bd56b34f9041b9aa67a36a9faa17fd": {
      "model_module": "@jupyter-widgets/base",
      "model_module_version": "1.2.0",
      "model_name": "LayoutModel",
      "state": {}
     },
     "87fd2b8bde5d46f78929d02129ab0344": {
      "model_module": "@jupyter-widgets/base",
      "model_module_version": "1.2.0",
      "model_name": "LayoutModel",
      "state": {}
     },
     "8807b1772b3242c8a49c46bcb6f2cec2": {
      "model_module": "@jupyter-widgets/base",
      "model_module_version": "1.2.0",
      "model_name": "LayoutModel",
      "state": {}
     },
     "88819af6fd414aa6ab28bef6dbef46c2": {
      "model_module": "@jupyter-widgets/base",
      "model_module_version": "1.2.0",
      "model_name": "LayoutModel",
      "state": {}
     },
     "88a2cad9062a495c814e0a875a1daf87": {
      "model_module": "@jupyter-widgets/controls",
      "model_module_version": "1.5.0",
      "model_name": "FloatSliderModel",
      "state": {
       "description": "45°",
       "layout": "IPY_MODEL_0866d23763ca44a2853b0f539b11da8b",
       "max": 1,
       "min": -1,
       "step": 0.01,
       "style": "IPY_MODEL_b6da0d824f2d4043872ed5e20d0da31b"
      }
     },
     "88b4a92cdda246ecb715c67afeba6998": {
      "model_module": "@jupyter-widgets/controls",
      "model_module_version": "1.5.0",
      "model_name": "VBoxModel",
      "state": {
       "children": [
        "IPY_MODEL_15aa37a625ce434cbac8514cec629e68",
        "IPY_MODEL_3caae19611aa4660aa7f00700b4098a2"
       ],
       "layout": "IPY_MODEL_c491ab39fa1b4804a8678b555623bdf5"
      }
     },
     "88d097ac1092470ba34ca8507462fffe": {
      "model_module": "@jupyter-widgets/controls",
      "model_module_version": "1.5.0",
      "model_name": "SliderStyleModel",
      "state": {
       "description_width": ""
      }
     },
     "8927456898a8402ca971a4e3f0b52edd": {
      "model_module": "@jupyter-widgets/base",
      "model_module_version": "1.2.0",
      "model_name": "LayoutModel",
      "state": {}
     },
     "892c2076171248ebb0352c199a057f6a": {
      "model_module": "@jupyter-widgets/controls",
      "model_module_version": "1.5.0",
      "model_name": "FloatSliderModel",
      "state": {
       "description": "0°",
       "layout": "IPY_MODEL_3901f7281aff45c8bb0289656a0e12a1",
       "max": 1,
       "min": -1,
       "step": 0.01,
       "style": "IPY_MODEL_11650d42cddc4b48bc5b9c33e737c73d"
      }
     },
     "8954ed03345b40a6a306bbd2f74abeac": {
      "model_module": "jupyter-matplotlib",
      "model_module_version": "^0.7.2",
      "model_name": "MPLCanvasModel",
      "state": {
       "_figure_label": "Figure 17",
       "_height": 430,
       "_width": 1099,
       "header_visible": false,
       "layout": "IPY_MODEL_567a9fee4a5b4806bb156b2cb2b39d70",
       "resizable": false,
       "toolbar": "IPY_MODEL_030a725afcd74a57b7e371603e7062d2",
       "toolbar_position": "left",
       "toolbar_visible": false
      }
     },
     "898793927ba84e32b073f6c66831c972": {
      "model_module": "@jupyter-widgets/base",
      "model_module_version": "1.2.0",
      "model_name": "LayoutModel",
      "state": {}
     },
     "899bf2e2698b48f0ad9a301c80575aa8": {
      "model_module": "@jupyter-widgets/controls",
      "model_module_version": "1.5.0",
      "model_name": "FloatSliderModel",
      "state": {
       "description": "270°",
       "layout": "IPY_MODEL_998e8b6fc4d5419c92840b3a5c3867ca",
       "max": 1,
       "min": -1,
       "step": 0.01,
       "style": "IPY_MODEL_c2168a6118ec4ca0aea7a290e38fdd86"
      }
     },
     "89b3db7df08d4aae994019e8c2089bde": {
      "model_module": "@jupyter-widgets/controls",
      "model_module_version": "1.5.0",
      "model_name": "VBoxModel",
      "state": {
       "children": [
        "IPY_MODEL_340d9c55412648dabb07f779e47e9930",
        "IPY_MODEL_497f4a43ed524b62bd185fe0c84960ed",
        "IPY_MODEL_8544e9cf24b54f9e8775ec9aba1cb4b5"
       ],
       "layout": "IPY_MODEL_03eaea05605e4829b517dc1975cf45a4"
      }
     },
     "89b9534ef8dc4ad9be8ec0355ea05c58": {
      "model_module": "@jupyter-widgets/base",
      "model_module_version": "1.2.0",
      "model_name": "LayoutModel",
      "state": {
       "border": "solid 4px #222",
       "margin": "4px",
       "padding": "0"
      }
     },
     "8a1add2e37374837ba5bf142104e9713": {
      "model_module": "@jupyter-widgets/controls",
      "model_module_version": "1.5.0",
      "model_name": "ButtonStyleModel",
      "state": {}
     },
     "8a48c71badd046aea7bf4bd510d4b2d1": {
      "model_module": "@jupyter-widgets/base",
      "model_module_version": "1.2.0",
      "model_name": "LayoutModel",
      "state": {}
     },
     "8ab21afe2f574d098b6ffdc6bce9b777": {
      "model_module": "@jupyter-widgets/controls",
      "model_module_version": "1.5.0",
      "model_name": "HBoxModel",
      "state": {
       "children": [
        "IPY_MODEL_07da3358c3b44ea0bbb2660d73b784e9",
        "IPY_MODEL_86e57c6bc0dd4a8fbafa264161935e9a",
        "IPY_MODEL_946c83f56013490eae7d6b23aff339ce"
       ],
       "layout": "IPY_MODEL_dd9975e79622452d87b420bcb79073d3"
      }
     },
     "8ac0406a1fef47759259301047967e40": {
      "model_module": "@jupyter-widgets/base",
      "model_module_version": "1.2.0",
      "model_name": "LayoutModel",
      "state": {}
     },
     "8b3a7c618dab44f6bb2bfb0c470bf501": {
      "model_module": "@jupyter-widgets/base",
      "model_module_version": "1.2.0",
      "model_name": "LayoutModel",
      "state": {}
     },
     "8b4069bbaa80461ba0ebee88d6b3f344": {
      "model_module": "@jupyter-widgets/controls",
      "model_module_version": "1.5.0",
      "model_name": "FloatSliderModel",
      "state": {
       "description": "Compression Threshold",
       "layout": "IPY_MODEL_2b61a7bd91e14158b0e5f3fd1c2b2191",
       "max": 1,
       "step": 0.01,
       "style": "IPY_MODEL_07c385be277940acaac0b34ffee900dc",
       "value": 0.8
      }
     },
     "8b606a2d242f4b8881ae97c2c90f0e76": {
      "model_module": "@jupyter-widgets/base",
      "model_module_version": "1.2.0",
      "model_name": "LayoutModel",
      "state": {}
     },
     "8bb77788094344dbb091d5da23239745": {
      "model_module": "@jupyter-widgets/base",
      "model_module_version": "1.2.0",
      "model_name": "LayoutModel",
      "state": {}
     },
     "8bd5dd1e0e414ebba9663f5e72539011": {
      "model_module": "@jupyter-widgets/base",
      "model_module_version": "1.2.0",
      "model_name": "LayoutModel",
      "state": {}
     },
     "8be34f7865904490adb0fd0f465b482d": {
      "model_module": "@jupyter-widgets/controls",
      "model_module_version": "1.5.0",
      "model_name": "BoxModel",
      "state": {
       "children": [
        "IPY_MODEL_8206768ffc9547b492ba4670ff684b08",
        "IPY_MODEL_9fc20e1eba644da59c44d3cd87c9718c"
       ],
       "layout": "IPY_MODEL_7be991ff10294647bd117f04c1cb1ebf"
      }
     },
     "8c2ef20bb53948b5a2191ab478cd562f": {
      "model_module": "@jupyter-widgets/base",
      "model_module_version": "1.2.0",
      "model_name": "LayoutModel",
      "state": {}
     },
     "8cc0eae170c74c52876b0ec516805e9b": {
      "model_module": "@jupyter-widgets/base",
      "model_module_version": "1.2.0",
      "model_name": "LayoutModel",
      "state": {
       "border": "solid 4px #222",
       "margin": "4px",
       "padding": "0"
      }
     },
     "8cfd94f0920b445897e6181627da278c": {
      "model_module": "@jupyter-widgets/base",
      "model_module_version": "1.2.0",
      "model_name": "LayoutModel",
      "state": {
       "border": "solid 4px #222",
       "margin": "4px",
       "padding": "0"
      }
     },
     "8d0f0561cbc94dbf9f3d6e7ca15ffe7c": {
      "model_module": "@jupyter-widgets/controls",
      "model_module_version": "1.5.0",
      "model_name": "VBoxModel",
      "state": {
       "children": [
        "IPY_MODEL_840036ca304b4f24b3e423287d1341a2"
       ],
       "layout": "IPY_MODEL_130a0d73beb14d48a913c58022f4a786"
      }
     },
     "8d3a7f057c7d4939b707db50b93d2457": {
      "model_module": "@jupyter-widgets/controls",
      "model_module_version": "1.5.0",
      "model_name": "SliderStyleModel",
      "state": {
       "description_width": ""
      }
     },
     "8d54f430b9a64387bdf79bc914470e2e": {
      "model_module": "@jupyter-widgets/base",
      "model_module_version": "1.2.0",
      "model_name": "LayoutModel",
      "state": {}
     },
     "8d79740691f041199d8dfd46cfcd8702": {
      "model_module": "@jupyter-widgets/base",
      "model_module_version": "1.2.0",
      "model_name": "LayoutModel",
      "state": {}
     },
     "8da0303f03f1401d87110d227c937393": {
      "model_module": "@jupyter-widgets/base",
      "model_module_version": "1.2.0",
      "model_name": "LayoutModel",
      "state": {}
     },
     "8dffa98fc462440986da90a4933002a2": {
      "model_module": "@jupyter-widgets/controls",
      "model_module_version": "1.5.0",
      "model_name": "FloatSliderModel",
      "state": {
       "description": "Protected Area Threshold",
       "layout": "IPY_MODEL_d569674993ce4b7eb7359d42df1c30d8",
       "max": 1,
       "step": 0.01,
       "style": "IPY_MODEL_e81d9f5e52514f35af433a508698226a",
       "value": 0.5
      }
     },
     "8e6a86dbd232485589ad65734776a5fd": {
      "model_module": "@jupyter-widgets/base",
      "model_module_version": "1.2.0",
      "model_name": "LayoutModel",
      "state": {}
     },
     "8ec7aba187ef40308eb73888f7025930": {
      "model_module": "@jupyter-widgets/controls",
      "model_module_version": "1.5.0",
      "model_name": "ButtonStyleModel",
      "state": {}
     },
     "8ed0b8367c6e427e946ec174b983489d": {
      "model_module": "@jupyter-widgets/controls",
      "model_module_version": "1.5.0",
      "model_name": "DescriptionStyleModel",
      "state": {
       "description_width": ""
      }
     },
     "8f82cfa29ec34c8a84f2d800e3be0f0b": {
      "model_module": "@jupyter-widgets/base",
      "model_module_version": "1.2.0",
      "model_name": "LayoutModel",
      "state": {}
     },
     "8fa3591ad1b64809a6e75798e396dfa8": {
      "model_module": "@jupyter-widgets/base",
      "model_module_version": "1.2.0",
      "model_name": "LayoutModel",
      "state": {
       "align_items": "stretch",
       "display": "flex",
       "flex_flow": "column",
       "width": "1128px"
      }
     },
     "8fa43420eb6047a092f332ce11ebdd4a": {
      "model_module": "@jupyter-widgets/base",
      "model_module_version": "1.2.0",
      "model_name": "LayoutModel",
      "state": {}
     },
     "8fa68fb14963466ea1e9eff3a0710e2d": {
      "model_module": "@jupyter-widgets/base",
      "model_module_version": "1.2.0",
      "model_name": "LayoutModel",
      "state": {
       "align_items": "stretch",
       "display": "flex",
       "flex_flow": "column",
       "width": "1128px"
      }
     },
     "8fcf3b12568947a696406e5f2619d2d8": {
      "model_module": "@jupyter-widgets/controls",
      "model_module_version": "1.5.0",
      "model_name": "ButtonModel",
      "state": {
       "description": "Save Figure",
       "layout": "IPY_MODEL_3d408e4f6b394e65ac076173634a2fb0",
       "style": "IPY_MODEL_b57371607c6d4b79b21276d5afc05cd5"
      }
     },
     "8feec7bd514b425db1d3a59581a785c4": {
      "model_module": "@jupyter-widgets/base",
      "model_module_version": "1.2.0",
      "model_name": "LayoutModel",
      "state": {}
     },
     "901bb553570045fb8599e0dadfb7cf63": {
      "model_module": "@jupyter-widgets/controls",
      "model_module_version": "1.5.0",
      "model_name": "FloatSliderModel",
      "state": {
       "description": "270°",
       "layout": "IPY_MODEL_8d54f430b9a64387bdf79bc914470e2e",
       "max": 1,
       "min": -1,
       "step": 0.01,
       "style": "IPY_MODEL_d1cf369a1b684514bbb94b7b35f6f989"
      }
     },
     "9022ae17f4cd4e97a06578d0f6e3f324": {
      "model_module": "@jupyter-widgets/base",
      "model_module_version": "1.2.0",
      "model_name": "LayoutModel",
      "state": {}
     },
     "908feecf8ef84ba48c06c971f3364801": {
      "model_module": "@jupyter-widgets/controls",
      "model_module_version": "1.5.0",
      "model_name": "TabModel",
      "state": {
       "_titles": {
        "0": "Global Controls",
        "1": "Protected Area Controls",
        "2": "Saturation Controls",
        "3": "Hue Controls"
       },
       "children": [
        "IPY_MODEL_1bcb50f5e0d54bf18bad1fa755015d67",
        "IPY_MODEL_79279f08c5454a00a7b801cc5a77a53f",
        "IPY_MODEL_47791c9514ca43ca83763314b4e57f75",
        "IPY_MODEL_1fac460555c24c3486be6f34eb152e26"
       ],
       "layout": "IPY_MODEL_9b79ea30f551400dab4f5cd6c97602cb"
      }
     },
     "90987c05922546e495f988223821692c": {
      "model_module": "@jupyter-widgets/base",
      "model_module_version": "1.2.0",
      "model_name": "LayoutModel",
      "state": {}
     },
     "90e319bb111f45c6803ad3b9fdec6c23": {
      "model_module": "@jupyter-widgets/base",
      "model_module_version": "1.2.0",
      "model_name": "LayoutModel",
      "state": {}
     },
     "91132e6a30cf42068323d1a2edb62738": {
      "model_module": "@jupyter-widgets/controls",
      "model_module_version": "1.5.0",
      "model_name": "VBoxModel",
      "state": {
       "children": [
        "IPY_MODEL_2d9c9b083b4745a19e4f545b0ad95ec9",
        "IPY_MODEL_2349d4f3c0bc431aa0e5cb2f4886f70c"
       ],
       "layout": "IPY_MODEL_4e85102622ee4da488eae12987484e26"
      }
     },
     "912065c7d9be408cb6e84262ea548c40": {
      "model_module": "@jupyter-widgets/controls",
      "model_module_version": "1.5.0",
      "model_name": "DropdownModel",
      "state": {
       "_options_labels": [
        "tanh",
        "simple"
       ],
       "description": "Compression Function:",
       "index": 0,
       "layout": "IPY_MODEL_4832d7c8904e4c8cae06fe665c9c07f0",
       "style": "IPY_MODEL_7523693c200945debf9e473788805ea9"
      }
     },
     "912822467b474d6382e09d44fc6d05fd": {
      "model_module": "@jupyter-widgets/base",
      "model_module_version": "1.2.0",
      "model_name": "LayoutModel",
      "state": {}
     },
     "916c5546bd3d4738b7e4ac8a1e381316": {
      "model_module": "@jupyter-widgets/base",
      "model_module_version": "1.2.0",
      "model_name": "LayoutModel",
      "state": {}
     },
     "917f2f88085c4fd293ca21e2fd321ba6": {
      "model_module": "@jupyter-widgets/controls",
      "model_module_version": "1.5.0",
      "model_name": "HBoxModel",
      "state": {
       "children": [
        "IPY_MODEL_19cb8e2008714a96a4a2843ccf233549",
        "IPY_MODEL_1dce44463e964ea8bf88436274a61d5f",
        "IPY_MODEL_cc31f09e5d894d879304fc5efb6784cf",
        "IPY_MODEL_3cf20a0924084c48aa823c6a3c65e805"
       ],
       "layout": "IPY_MODEL_bb14fc9072954d659e1d9df3f9288bc5"
      }
     },
     "91c22d0a8a0c43a58c6f3614fe538216": {
      "model_module": "@jupyter-widgets/controls",
      "model_module_version": "1.5.0",
      "model_name": "HBoxModel",
      "state": {
       "children": [
        "IPY_MODEL_ca665afa773a4e05be5879cb756691fa",
        "IPY_MODEL_481f54e0abfd42718646c3b0ee9788ca",
        "IPY_MODEL_32e8fb1bf95c49ffbc4288e499b333ef"
       ],
       "layout": "IPY_MODEL_60a0bf16c23344bab0194ef2b1702828"
      }
     },
     "91d31f88e59442de9e9458bcde341bb6": {
      "model_module": "@jupyter-widgets/base",
      "model_module_version": "1.2.0",
      "model_name": "LayoutModel",
      "state": {}
     },
     "9262ab1ce0a44493b5109ea8bc8b3ae9": {
      "model_module": "@jupyter-widgets/base",
      "model_module_version": "1.2.0",
      "model_name": "LayoutModel",
      "state": {}
     },
     "929a5e242ed74a67a9a73329e3b12b69": {
      "model_module": "@jupyter-widgets/base",
      "model_module_version": "1.2.0",
      "model_name": "LayoutModel",
      "state": {
       "border": "solid 4px #222",
       "margin": "4px",
       "padding": "0"
      }
     },
     "92b9b247d1ca40feb4d6db2730e455b0": {
      "model_module": "@jupyter-widgets/controls",
      "model_module_version": "1.5.0",
      "model_name": "ButtonStyleModel",
      "state": {}
     },
     "92e3c28bd34b43faa50d616c688029bc": {
      "model_module": "@jupyter-widgets/controls",
      "model_module_version": "1.5.0",
      "model_name": "FloatSliderModel",
      "state": {
       "description": "Exposure",
       "layout": "IPY_MODEL_b45b76be32ad43f09fa75fa06ce9b6db",
       "max": 8,
       "min": -8,
       "step": 0.1,
       "style": "IPY_MODEL_31994bf2dccb403ca2e262e0c8a83684"
      }
     },
     "92fcf203408949f2a8b16a2572cb77fb": {
      "model_module": "@jupyter-widgets/base",
      "model_module_version": "1.2.0",
      "model_name": "LayoutModel",
      "state": {}
     },
     "93103d24ed374861bd6af29a5cf89b13": {
      "model_module": "@jupyter-widgets/controls",
      "model_module_version": "1.5.0",
      "model_name": "CheckboxModel",
      "state": {
       "description": "Disable Medicina",
       "disabled": false,
       "layout": "IPY_MODEL_bfc99db313704e559c5e19eb0137e1f3",
       "style": "IPY_MODEL_7b7f901f043f4239bd599f8623534e44",
       "value": false
      }
     },
     "935896b758d440f2bab23b577a246be7": {
      "model_module": "@jupyter-widgets/controls",
      "model_module_version": "1.5.0",
      "model_name": "SliderStyleModel",
      "state": {
       "description_width": ""
      }
     },
     "9359f54cd9a84cc999c50588135cef2d": {
      "model_module": "@jupyter-widgets/base",
      "model_module_version": "1.2.0",
      "model_name": "LayoutModel",
      "state": {}
     },
     "935fe53266914bb9996eb827d623b64e": {
      "model_module": "@jupyter-widgets/controls",
      "model_module_version": "1.5.0",
      "model_name": "SliderStyleModel",
      "state": {
       "description_width": ""
      }
     },
     "93804585f78f4b8f99c9740a1e3f8275": {
      "model_module": "jupyter-matplotlib",
      "model_module_version": "^0.7.2",
      "model_name": "MPLCanvasModel",
      "state": {
       "_figure_label": "Figure 21",
       "_height": 550,
       "_image_mode": "diff",
       "_width": 1100,
       "header_visible": false,
       "layout": "IPY_MODEL_5f70503db3f8431da7e9fe2785e4b894",
       "resizable": false,
       "toolbar": "IPY_MODEL_c629be735c5b4b03903994ccb5f011a2",
       "toolbar_position": "left",
       "toolbar_visible": false
      }
     },
     "93dc859ded2b43d3a50b365481774948": {
      "model_module": "@jupyter-widgets/controls",
      "model_module_version": "1.5.0",
      "model_name": "ButtonModel",
      "state": {
       "description": "Save Figure",
       "layout": "IPY_MODEL_1b3318738b47416c9d89ba74c1803a75",
       "style": "IPY_MODEL_e003759827f94a828b73ec3a7dd29234"
      }
     },
     "94486d82fb2d4678b22b86ab9129e6c9": {
      "model_module": "@jupyter-widgets/base",
      "model_module_version": "1.2.0",
      "model_name": "LayoutModel",
      "state": {}
     },
     "946c83f56013490eae7d6b23aff339ce": {
      "model_module": "@jupyter-widgets/controls",
      "model_module_version": "1.5.0",
      "model_name": "FloatSliderModel",
      "state": {
       "description": "Compression Threshold",
       "layout": "IPY_MODEL_f266f8f4185640c681b90b332d117c9b",
       "max": 1,
       "step": 0.01,
       "style": "IPY_MODEL_7d98ec24d9f2480096d3732b4c9655e5",
       "value": 0.5
      }
     },
     "946e086bbcd14289a4aa33f40a7499c5": {
      "model_module": "@jupyter-widgets/base",
      "model_module_version": "1.2.0",
      "model_name": "LayoutModel",
      "state": {}
     },
     "94979f74961b430884d7cfb003c8de18": {
      "model_module": "@jupyter-widgets/base",
      "model_module_version": "1.2.0",
      "model_name": "LayoutModel",
      "state": {}
     },
     "94acc1ddb79d4405810566cdc4460b04": {
      "model_module": "@jupyter-widgets/controls",
      "model_module_version": "1.5.0",
      "model_name": "DropdownModel",
      "state": {
       "_options_labels": [
        "tanh",
        "simple"
       ],
       "description": "Compression Function:",
       "index": 0,
       "layout": "IPY_MODEL_f2927ae08d5e4784999fdd90fea9be0e",
       "style": "IPY_MODEL_222453e6ea7d470ead7a6d0b3d621fa2"
      }
     },
     "94c06fdfd0ba44b6ad2165d152585c9a": {
      "model_module": "@jupyter-widgets/controls",
      "model_module_version": "1.5.0",
      "model_name": "ButtonStyleModel",
      "state": {}
     },
     "94f72e9247ee4a0d90cac6ce87523acc": {
      "model_module": "@jupyter-widgets/controls",
      "model_module_version": "1.5.0",
      "model_name": "SliderStyleModel",
      "state": {
       "description_width": ""
      }
     },
     "95136b29499b43b3855def1a10f2ce64": {
      "model_module": "@jupyter-widgets/base",
      "model_module_version": "1.2.0",
      "model_name": "LayoutModel",
      "state": {}
     },
     "9513db4ee1fc4fc788735767e8c1ad35": {
      "model_module": "@jupyter-widgets/controls",
      "model_module_version": "1.5.0",
      "model_name": "SliderStyleModel",
      "state": {
       "description_width": ""
      }
     },
     "951771c5af70477b9c8b76faedb3f882": {
      "model_module": "@jupyter-widgets/base",
      "model_module_version": "1.2.0",
      "model_name": "LayoutModel",
      "state": {
       "border": "solid 4px #222",
       "margin": "4px",
       "padding": "0"
      }
     },
     "952d7d344f6f46f6a07e42019fa840b7": {
      "model_module": "@jupyter-widgets/base",
      "model_module_version": "1.2.0",
      "model_name": "LayoutModel",
      "state": {
       "align_items": "stretch",
       "display": "flex",
       "flex_flow": "column",
       "width": "1128px"
      }
     },
     "953360ab013b46c3a36b82db20512f65": {
      "model_module": "@jupyter-widgets/controls",
      "model_module_version": "1.5.0",
      "model_name": "SliderStyleModel",
      "state": {
       "description_width": ""
      }
     },
     "9554918f8cdd406b95217ca3318b0b5e": {
      "model_module": "@jupyter-widgets/base",
      "model_module_version": "1.2.0",
      "model_name": "LayoutModel",
      "state": {}
     },
     "956957a89e204b78b3db245bc24056e0": {
      "model_module": "@jupyter-widgets/controls",
      "model_module_version": "1.5.0",
      "model_name": "ButtonStyleModel",
      "state": {}
     },
     "95922884d2544468aebe9847f908345e": {
      "model_module": "@jupyter-widgets/base",
      "model_module_version": "1.2.0",
      "model_name": "LayoutModel",
      "state": {}
     },
     "95ae64fd991944569812ee1174a032eb": {
      "model_module": "@jupyter-widgets/controls",
      "model_module_version": "1.5.0",
      "model_name": "SliderStyleModel",
      "state": {
       "description_width": ""
      }
     },
     "95d1beea5f204c36baa80012f038e79f": {
      "model_module": "@jupyter-widgets/output",
      "model_module_version": "1.0.0",
      "model_name": "OutputModel",
      "state": {
       "layout": "IPY_MODEL_951771c5af70477b9c8b76faedb3f882",
       "outputs": [
        {
         "data": {
          "application/vnd.jupyter.widget-view+json": {
           "model_id": "4dc033ddf60340b9b31529891271f603",
           "version_major": 2,
           "version_minor": 0
          },
          "text/plain": "Canvas(toolbar=Toolbar(toolitems=[('Home', 'Reset original view', 'home', 'home'), ('Back', 'Back to previous …"
         },
         "metadata": {},
         "output_type": "display_data"
        }
       ]
      }
     },
     "95face0f2f5248d6883fcfe3ddad81bd": {
      "model_module": "@jupyter-widgets/controls",
      "model_module_version": "1.5.0",
      "model_name": "FloatSliderModel",
      "state": {
       "description": "90°",
       "layout": "IPY_MODEL_a44b091be7ed4740a659acc5221d99da",
       "max": 1,
       "min": -1,
       "step": 0.01,
       "style": "IPY_MODEL_4115cbf4a8db4db2be7e2f0dad5c1d4f"
      }
     },
     "9625a1cbb0544564b30eb1949c5b8a17": {
      "model_module": "@jupyter-widgets/controls",
      "model_module_version": "1.5.0",
      "model_name": "DescriptionStyleModel",
      "state": {
       "description_width": ""
      }
     },
     "9626514b0102454098f734c4c914991e": {
      "model_module": "@jupyter-widgets/base",
      "model_module_version": "1.2.0",
      "model_name": "LayoutModel",
      "state": {}
     },
     "966dac0f6a88427c9d001cf91d297d0c": {
      "model_module": "@jupyter-widgets/base",
      "model_module_version": "1.2.0",
      "model_name": "LayoutModel",
      "state": {}
     },
     "969e77ebdace40cdbe2b83819de9dde9": {
      "model_module": "@jupyter-widgets/controls",
      "model_module_version": "1.5.0",
      "model_name": "FloatSliderModel",
      "state": {
       "description": "270°",
       "layout": "IPY_MODEL_f6abe1a532c2476fa0102b322987e322",
       "max": 1,
       "min": -1,
       "step": 0.01,
       "style": "IPY_MODEL_39fdf5af09a34566b5ae2157f0a65184"
      }
     },
     "96f83c04071f4f71be475a7885307261": {
      "model_module": "@jupyter-widgets/controls",
      "model_module_version": "1.5.0",
      "model_name": "FloatSliderModel",
      "state": {
       "description": "Compression Threshold",
       "layout": "IPY_MODEL_966dac0f6a88427c9d001cf91d297d0c",
       "max": 1,
       "step": 0.01,
       "style": "IPY_MODEL_3e46eae7f60542109978ff5bb6ed6259",
       "value": 0.8
      }
     },
     "96fdb736308c4fae9889ada32610c15c": {
      "model_module": "@jupyter-widgets/base",
      "model_module_version": "1.2.0",
      "model_name": "LayoutModel",
      "state": {}
     },
     "970c2de7c3d0465c8bdda2ac100d84b1": {
      "model_module": "@jupyter-widgets/controls",
      "model_module_version": "1.5.0",
      "model_name": "ButtonStyleModel",
      "state": {}
     },
     "97187d999f404d13afd380446bbd95c3": {
      "model_module": "@jupyter-widgets/controls",
      "model_module_version": "1.5.0",
      "model_name": "SliderStyleModel",
      "state": {
       "description_width": ""
      }
     },
     "97207e0dd8f14e0f844eeb60919509b8": {
      "model_module": "@jupyter-widgets/controls",
      "model_module_version": "1.5.0",
      "model_name": "FloatSliderModel",
      "state": {
       "description": "180°",
       "layout": "IPY_MODEL_4f7dd9902caa485e82c47e368f49a40c",
       "max": 1,
       "min": -1,
       "step": 0.01,
       "style": "IPY_MODEL_3e90e3aa65b9425989a6d8d0f226c1f7"
      }
     },
     "976149cdb52d4ac0bbb4c952ca051680": {
      "model_module": "jupyter-matplotlib",
      "model_module_version": "^0.7.2",
      "model_name": "MPLCanvasModel",
      "state": {
       "_figure_label": "Figure 14",
       "_height": 430,
       "_width": 1099,
       "header_visible": false,
       "layout": "IPY_MODEL_6e63b8bf3aa14f5d805cc7db0295dba3",
       "resizable": false,
       "toolbar": "IPY_MODEL_467e3da901b54d4b8db388e211013182",
       "toolbar_position": "left",
       "toolbar_visible": false
      }
     },
     "9798a80050e945158ab57be0e3f51041": {
      "model_module": "@jupyter-widgets/base",
      "model_module_version": "1.2.0",
      "model_name": "LayoutModel",
      "state": {}
     },
     "97bd133160cd411a976f7fd77a031dbd": {
      "model_module": "@jupyter-widgets/controls",
      "model_module_version": "1.5.0",
      "model_name": "DescriptionStyleModel",
      "state": {
       "description_width": ""
      }
     },
     "97cbbfb644054bf78f6f60f13f12aca9": {
      "model_module": "@jupyter-widgets/controls",
      "model_module_version": "1.5.0",
      "model_name": "FloatSliderModel",
      "state": {
       "description": "225°",
       "layout": "IPY_MODEL_50ea7f0c467542788468c1bd3876b22a",
       "max": 1,
       "min": -1,
       "step": 0.01,
       "style": "IPY_MODEL_9513db4ee1fc4fc788735767e8c1ad35"
      }
     },
     "97fb4f59ff4f4808adabdf25e3f4b629": {
      "model_module": "@jupyter-widgets/controls",
      "model_module_version": "1.5.0",
      "model_name": "SliderStyleModel",
      "state": {
       "description_width": ""
      }
     },
     "9814046aaecb4431bb762e7b992418b5": {
      "model_module": "@jupyter-widgets/controls",
      "model_module_version": "1.5.0",
      "model_name": "SliderStyleModel",
      "state": {
       "description_width": ""
      }
     },
     "982881472b8948d3a1b8ab999ed7dcce": {
      "model_module": "@jupyter-widgets/controls",
      "model_module_version": "1.5.0",
      "model_name": "HBoxModel",
      "state": {
       "children": [
        "IPY_MODEL_72b5799201454f99be45c1f4f929404b",
        "IPY_MODEL_7fa35024441f4f38b955cca13cff7cb2",
        "IPY_MODEL_32ac64d2d2584d60b5dbc8f887d6b834"
       ],
       "layout": "IPY_MODEL_f2b719aa7ccf41d79e86b59c84aa6d36"
      }
     },
     "986a735ef2624ef08f8afad999b6f693": {
      "model_module": "@jupyter-widgets/base",
      "model_module_version": "1.2.0",
      "model_name": "LayoutModel",
      "state": {
       "border": "solid 4px #222",
       "margin": "4px",
       "padding": "0"
      }
     },
     "98b759be6a20441995190e827a5c0482": {
      "model_module": "@jupyter-widgets/controls",
      "model_module_version": "1.5.0",
      "model_name": "SliderStyleModel",
      "state": {
       "description_width": ""
      }
     },
     "98cfb8aebe274886b3b8ab4085a7d5e3": {
      "model_module": "@jupyter-widgets/controls",
      "model_module_version": "1.5.0",
      "model_name": "FloatSliderModel",
      "state": {
       "description": "Exposure",
       "layout": "IPY_MODEL_d9b89335a9b946f28292886a36bd5621",
       "max": 8,
       "min": -8,
       "step": 0.1,
       "style": "IPY_MODEL_0ff6b07c8e1d4b43978872226cefb736"
      }
     },
     "98dd941a3fc44e17af1a99a5d607cb6e": {
      "model_module": "@jupyter-widgets/controls",
      "model_module_version": "1.5.0",
      "model_name": "ButtonModel",
      "state": {
       "description": "Export Image",
       "layout": "IPY_MODEL_3d29001169f745eab37423aca84c7b6f",
       "style": "IPY_MODEL_3a25d4fb1b79457e9d3806ce21e87b8b"
      }
     },
     "990b078b3fad4364a2c1d9096ab0a383": {
      "model_module": "@jupyter-widgets/controls",
      "model_module_version": "1.5.0",
      "model_name": "HBoxModel",
      "state": {
       "children": [
        "IPY_MODEL_22db4c0f3a71472fa4e16e1ba8f423b9",
        "IPY_MODEL_d9d5825bd0bf4091ba017eb51baedb7b",
        "IPY_MODEL_cf43c8902d89467788a35f0dee387244",
        "IPY_MODEL_e781063d127a46bf9ebf02665b67bdbe"
       ],
       "layout": "IPY_MODEL_557af4d331264331aaef603d6608d0da"
      }
     },
     "9916b699644141bf9814e57e4f61ef3e": {
      "model_module": "@jupyter-widgets/base",
      "model_module_version": "1.2.0",
      "model_name": "LayoutModel",
      "state": {}
     },
     "99363ccc0f1442f99cec350b98f26893": {
      "model_module": "@jupyter-widgets/base",
      "model_module_version": "1.2.0",
      "model_name": "LayoutModel",
      "state": {}
     },
     "998e8b6fc4d5419c92840b3a5c3867ca": {
      "model_module": "@jupyter-widgets/base",
      "model_module_version": "1.2.0",
      "model_name": "LayoutModel",
      "state": {}
     },
     "9992fe93ea1b41499b78384683f07a7e": {
      "model_module": "@jupyter-widgets/base",
      "model_module_version": "1.2.0",
      "model_name": "LayoutModel",
      "state": {}
     },
     "99be6be085d04bd1b141e3cc2c256a03": {
      "model_module": "@jupyter-widgets/controls",
      "model_module_version": "1.5.0",
      "model_name": "ButtonStyleModel",
      "state": {}
     },
     "99e2f4a17f68405ba22194c7be0038b6": {
      "model_module": "@jupyter-widgets/base",
      "model_module_version": "1.2.0",
      "model_name": "LayoutModel",
      "state": {}
     },
     "9a692e56c16f4423839ff678b610d677": {
      "model_module": "@jupyter-widgets/controls",
      "model_module_version": "1.5.0",
      "model_name": "VBoxModel",
      "state": {
       "children": [
        "IPY_MODEL_f1d29248d8344faebedd44f24fc1b112",
        "IPY_MODEL_f995c82d47fd4f419c7d251440811143",
        "IPY_MODEL_ff92d71cf6b84a79b4831326abcd07b0"
       ],
       "layout": "IPY_MODEL_40a6e3a004bb4633a06f626b57321412"
      }
     },
     "9a93d1d44cd742f0b20747dd0fb86700": {
      "model_module": "@jupyter-widgets/controls",
      "model_module_version": "1.5.0",
      "model_name": "FloatSliderModel",
      "state": {
       "description": "90°",
       "layout": "IPY_MODEL_119247f3bd1c4326918fa166ca75acc4",
       "max": 1,
       "min": -1,
       "step": 0.01,
       "style": "IPY_MODEL_0a6087de5e8e45e4aa806344aad748e4"
      }
     },
     "9aec8435c9fe4500a7027b82cebc7a1a": {
      "model_module": "@jupyter-widgets/base",
      "model_module_version": "1.2.0",
      "model_name": "LayoutModel",
      "state": {
       "border": "solid 4px #222",
       "margin": "4px",
       "padding": "0"
      }
     },
     "9aeec65fe0d64f00ad5d9e029d298835": {
      "model_module": "@jupyter-widgets/controls",
      "model_module_version": "1.5.0",
      "model_name": "FloatSliderModel",
      "state": {
       "description": "Compression Threshold",
       "layout": "IPY_MODEL_8691183050f94757971627b91bf6b2fb",
       "max": 1,
       "step": 0.01,
       "style": "IPY_MODEL_d2db3673023f4b5eb9b66f5e37a1bff2",
       "value": 0.5
      }
     },
     "9af1c84974604c3987524440240004aa": {
      "model_module": "@jupyter-widgets/controls",
      "model_module_version": "1.5.0",
      "model_name": "ButtonStyleModel",
      "state": {}
     },
     "9b0ec6d5cff949ee85d2f7145095cd86": {
      "model_module": "@jupyter-widgets/base",
      "model_module_version": "1.2.0",
      "model_name": "LayoutModel",
      "state": {}
     },
     "9b25eb4f708b4d64b93f7cd05768e747": {
      "model_module": "@jupyter-widgets/controls",
      "model_module_version": "1.5.0",
      "model_name": "DescriptionStyleModel",
      "state": {
       "description_width": ""
      }
     },
     "9b30af7dc2134456b6b141f9da6487f2": {
      "model_module": "@jupyter-widgets/controls",
      "model_module_version": "1.5.0",
      "model_name": "DescriptionStyleModel",
      "state": {
       "description_width": ""
      }
     },
     "9b3c471589714e6c9e26b5122efd86b8": {
      "model_module": "@jupyter-widgets/base",
      "model_module_version": "1.2.0",
      "model_name": "LayoutModel",
      "state": {}
     },
     "9b50948109bd4809a1ec784ad5b62215": {
      "model_module": "@jupyter-widgets/base",
      "model_module_version": "1.2.0",
      "model_name": "LayoutModel",
      "state": {}
     },
     "9b537d00c24f44f4b5a581adf11f3cbe": {
      "model_module": "@jupyter-widgets/controls",
      "model_module_version": "1.5.0",
      "model_name": "HBoxModel",
      "state": {
       "children": [
        "IPY_MODEL_93103d24ed374861bd6af29a5cf89b13",
        "IPY_MODEL_b4a0fe4794d84aa8a6f4c227d7a4c051",
        "IPY_MODEL_7c9c21c440e647e884a42ce66824672a",
        "IPY_MODEL_4a99645b28c4482e9975fff289dfc062"
       ],
       "layout": "IPY_MODEL_bba33394d97148c89b014f60367d8d54"
      }
     },
     "9b7885130d104c6cb2eff124b7254df3": {
      "model_module": "@jupyter-widgets/controls",
      "model_module_version": "1.5.0",
      "model_name": "CheckboxModel",
      "state": {
       "description": "Disable Medicina",
       "disabled": false,
       "layout": "IPY_MODEL_ca1eb7192da944dc971264ed22fa1a51",
       "style": "IPY_MODEL_a80c130a5a3240e1920b325b2dc5e4ba",
       "value": false
      }
     },
     "9b79ea30f551400dab4f5cd6c97602cb": {
      "model_module": "@jupyter-widgets/base",
      "model_module_version": "1.2.0",
      "model_name": "LayoutModel",
      "state": {
       "border": "solid 4px #222",
       "margin": "4px",
       "padding": "0"
      }
     },
     "9c0cdcd8bdf349be9b4f5a691f35b36c": {
      "model_module": "@jupyter-widgets/controls",
      "model_module_version": "1.5.0",
      "model_name": "ButtonModel",
      "state": {
       "description": "Save Figure",
       "layout": "IPY_MODEL_e94e1b7dd0f743b5abfb2592100c85ce",
       "style": "IPY_MODEL_71486dcaebb44fab88f85d36fc94a89c"
      }
     },
     "9c164a3ee5d5453586e7f335548be73f": {
      "model_module": "@jupyter-widgets/base",
      "model_module_version": "1.2.0",
      "model_name": "LayoutModel",
      "state": {}
     },
     "9c5dd97e6b624864b2a5d8a41b06b6f4": {
      "model_module": "@jupyter-widgets/controls",
      "model_module_version": "1.5.0",
      "model_name": "HBoxModel",
      "state": {
       "children": [
        "IPY_MODEL_49dd3f70c05240bd8e608573afb3575d",
        "IPY_MODEL_5e79ef074caa4c848bdc286884732021",
        "IPY_MODEL_93dc859ded2b43d3a50b365481774948",
        "IPY_MODEL_82d2349063134013bb72dd9f490d9777"
       ],
       "layout": "IPY_MODEL_95136b29499b43b3855def1a10f2ce64"
      }
     },
     "9c77873b5e134e1bb3fa63fa16f34710": {
      "model_module": "@jupyter-widgets/base",
      "model_module_version": "1.2.0",
      "model_name": "LayoutModel",
      "state": {}
     },
     "9c8068ece1a54625b552e87d6e1828f2": {
      "model_module": "@jupyter-widgets/controls",
      "model_module_version": "1.5.0",
      "model_name": "CheckboxModel",
      "state": {
       "description": "Disable Medicina",
       "disabled": false,
       "layout": "IPY_MODEL_0d0467f4a81c405fabbd00c15d38d393",
       "style": "IPY_MODEL_0dda996cefb94a68952ef124df6a7f67",
       "value": false
      }
     },
     "9c92c1799f7843bda100f02c6521d527": {
      "model_module": "@jupyter-widgets/controls",
      "model_module_version": "1.5.0",
      "model_name": "ButtonStyleModel",
      "state": {}
     },
     "9ccc589b24ea48b99c30e3869362d83c": {
      "model_module": "@jupyter-widgets/controls",
      "model_module_version": "1.5.0",
      "model_name": "SliderStyleModel",
      "state": {
       "description_width": ""
      }
     },
     "9d4a81f2e18343db8818d8b0c6073d06": {
      "model_module": "@jupyter-widgets/base",
      "model_module_version": "1.2.0",
      "model_name": "LayoutModel",
      "state": {}
     },
     "9d60346b6c15404d961d08ab06b3df6e": {
      "model_module": "@jupyter-widgets/base",
      "model_module_version": "1.2.0",
      "model_name": "LayoutModel",
      "state": {}
     },
     "9d606858fc1e4e83a9060652d9a3b023": {
      "model_module": "@jupyter-widgets/base",
      "model_module_version": "1.2.0",
      "model_name": "LayoutModel",
      "state": {}
     },
     "9d8fd91f884843aaadb7fffb2c7d8073": {
      "model_module": "@jupyter-widgets/base",
      "model_module_version": "1.2.0",
      "model_name": "LayoutModel",
      "state": {}
     },
     "9dc35b6297ac41a5b469517ddfe7ec23": {
      "model_module": "@jupyter-widgets/base",
      "model_module_version": "1.2.0",
      "model_name": "LayoutModel",
      "state": {}
     },
     "9e29052a84f14b7ca52fb3c38ca5dfa3": {
      "model_module": "@jupyter-widgets/base",
      "model_module_version": "1.2.0",
      "model_name": "LayoutModel",
      "state": {}
     },
     "9e35b13d62b640a09b8a7334276567f4": {
      "model_module": "@jupyter-widgets/base",
      "model_module_version": "1.2.0",
      "model_name": "LayoutModel",
      "state": {
       "align_items": "stretch",
       "display": "flex",
       "flex_flow": "column",
       "width": "1128px"
      }
     },
     "9e3774b377f941dda10814fdb27ae7a6": {
      "model_module": "@jupyter-widgets/controls",
      "model_module_version": "1.5.0",
      "model_name": "VBoxModel",
      "state": {
       "children": [
        "IPY_MODEL_901bb553570045fb8599e0dadfb7cf63",
        "IPY_MODEL_1a93f62a199645edbe34a63e100f82c5"
       ],
       "layout": "IPY_MODEL_3b8816bca26646908d82fd72f7ad795a"
      }
     },
     "9e4050c977ba4375bbd64b08257b5349": {
      "model_module": "@jupyter-widgets/base",
      "model_module_version": "1.2.0",
      "model_name": "LayoutModel",
      "state": {}
     },
     "9e5af6acd23545abb28e0b6363aabccf": {
      "model_module": "@jupyter-widgets/base",
      "model_module_version": "1.2.0",
      "model_name": "LayoutModel",
      "state": {
       "border": "solid 4px #222",
       "margin": "4px",
       "padding": "0"
      }
     },
     "9e79efcf84f644bbac0b400cdf07a525": {
      "model_module": "@jupyter-widgets/controls",
      "model_module_version": "1.5.0",
      "model_name": "SliderStyleModel",
      "state": {
       "description_width": ""
      }
     },
     "9e90fcebd64d4f90b6fab08fa0e14ec2": {
      "model_module": "@jupyter-widgets/controls",
      "model_module_version": "1.5.0",
      "model_name": "SliderStyleModel",
      "state": {
       "description_width": ""
      }
     },
     "9efd5f702c824f7eaeea1e3f7157a1aa": {
      "model_module": "@jupyter-widgets/controls",
      "model_module_version": "1.5.0",
      "model_name": "FloatSliderModel",
      "state": {
       "description": "0°",
       "layout": "IPY_MODEL_8b606a2d242f4b8881ae97c2c90f0e76",
       "max": 1,
       "min": -1,
       "step": 0.01,
       "style": "IPY_MODEL_4944167b11804e0ea79d93a68cbd269d"
      }
     },
     "9f1f1945e42148919bb0a53434f906a0": {
      "model_module": "@jupyter-widgets/base",
      "model_module_version": "1.2.0",
      "model_name": "LayoutModel",
      "state": {}
     },
     "9f214f08a7484e93a2c879179c8ae4c0": {
      "model_module": "@jupyter-widgets/controls",
      "model_module_version": "1.5.0",
      "model_name": "FloatSliderModel",
      "state": {
       "description": "0°",
       "layout": "IPY_MODEL_609aa7aa5a5a4b70a5343aa84cf24170",
       "max": 1,
       "min": -1,
       "step": 0.01,
       "style": "IPY_MODEL_0289f9e2c4e44fd48661c95fd57c805c"
      }
     },
     "9f271dab63c3458fb066b91531795bfc": {
      "model_module": "@jupyter-widgets/base",
      "model_module_version": "1.2.0",
      "model_name": "LayoutModel",
      "state": {}
     },
     "9f410911bb304c059af079894961aab1": {
      "model_module": "@jupyter-widgets/controls",
      "model_module_version": "1.5.0",
      "model_name": "DescriptionStyleModel",
      "state": {
       "description_width": ""
      }
     },
     "9fb0be23ffcc450bb4b922212d63f0d6": {
      "model_module": "@jupyter-widgets/base",
      "model_module_version": "1.2.0",
      "model_name": "LayoutModel",
      "state": {}
     },
     "9fb1ccc01d6642568b5fe2d6d0a7844c": {
      "model_module": "@jupyter-widgets/base",
      "model_module_version": "1.2.0",
      "model_name": "LayoutModel",
      "state": {}
     },
     "9fc20e1eba644da59c44d3cd87c9718c": {
      "model_module": "@jupyter-widgets/controls",
      "model_module_version": "1.5.0",
      "model_name": "TabModel",
      "state": {
       "_titles": {
        "0": "Global Controls"
       },
       "children": [
        "IPY_MODEL_f860cd68624741a0bba69828e202b5b6"
       ],
       "layout": "IPY_MODEL_0f4f229ca2e14940b8a7d42263c3e422"
      }
     },
     "9fc8f43b2da943499586836f2ad004f0": {
      "model_module": "@jupyter-widgets/base",
      "model_module_version": "1.2.0",
      "model_name": "LayoutModel",
      "state": {}
     },
     "a0237de5be74487fbca170766b764c83": {
      "model_module": "@jupyter-widgets/base",
      "model_module_version": "1.2.0",
      "model_name": "LayoutModel",
      "state": {
       "border": "solid 4px #222",
       "margin": "4px",
       "padding": "0"
      }
     },
     "a0b5dbe0c2914a91a4ac13a5b5478524": {
      "model_module": "@jupyter-widgets/controls",
      "model_module_version": "1.5.0",
      "model_name": "FloatSliderModel",
      "state": {
       "description": "0°",
       "layout": "IPY_MODEL_4ebed5ab2be14941b54becdfbb865294",
       "max": 1,
       "min": -1,
       "step": 0.01,
       "style": "IPY_MODEL_fb5101cb2b3646049961ded40d3c4219"
      }
     },
     "a0f68652b3c548be9e0f59ce0b715dfc": {
      "model_module": "@jupyter-widgets/base",
      "model_module_version": "1.2.0",
      "model_name": "LayoutModel",
      "state": {}
     },
     "a10b64f9b06940b3aa0b4256bed93599": {
      "model_module": "@jupyter-widgets/base",
      "model_module_version": "1.2.0",
      "model_name": "LayoutModel",
      "state": {}
     },
     "a1131d90275d471187c2bf6988cb0dc3": {
      "model_module": "@jupyter-widgets/base",
      "model_module_version": "1.2.0",
      "model_name": "LayoutModel",
      "state": {}
     },
     "a15097b0940c4115b32db47197c1f494": {
      "model_module": "@jupyter-widgets/controls",
      "model_module_version": "1.5.0",
      "model_name": "ButtonStyleModel",
      "state": {}
     },
     "a15bc33e86aa4aef8de943b1edb049dc": {
      "model_module": "@jupyter-widgets/base",
      "model_module_version": "1.2.0",
      "model_name": "LayoutModel",
      "state": {}
     },
     "a196b1e81d7f4ee89f67aad161a67f27": {
      "model_module": "@jupyter-widgets/controls",
      "model_module_version": "1.5.0",
      "model_name": "BoxModel",
      "state": {
       "children": [
        "IPY_MODEL_6f4f231f80cf4d9185ef073826406d30",
        "IPY_MODEL_70374149d7d1472e856193d27f5dde81"
       ],
       "layout": "IPY_MODEL_952d7d344f6f46f6a07e42019fa840b7"
      }
     },
     "a1a2051c2348436ea02d02231aec7cea": {
      "model_module": "@jupyter-widgets/controls",
      "model_module_version": "1.5.0",
      "model_name": "BoxModel",
      "state": {
       "children": [
        "IPY_MODEL_1e5e4b1fc0404eafb672aced48deb96e",
        "IPY_MODEL_0ce23dc2a9c947579d4b3b4051da3b34"
       ],
       "layout": "IPY_MODEL_50af638967d44aef899d5d8936bc7ce9"
      }
     },
     "a1a9661b442a46659f3ad2cea71bdac8": {
      "model_module": "@jupyter-widgets/base",
      "model_module_version": "1.2.0",
      "model_name": "LayoutModel",
      "state": {}
     },
     "a1c1fc7521864067aa8f0ece71bcbac8": {
      "model_module": "@jupyter-widgets/controls",
      "model_module_version": "1.5.0",
      "model_name": "DescriptionStyleModel",
      "state": {
       "description_width": ""
      }
     },
     "a1c389295c5d4784bca0d7ba258c3d2f": {
      "model_module": "@jupyter-widgets/controls",
      "model_module_version": "1.5.0",
      "model_name": "ButtonStyleModel",
      "state": {}
     },
     "a1d1a10fba3d41479c2019ed7402f721": {
      "model_module": "@jupyter-widgets/controls",
      "model_module_version": "1.5.0",
      "model_name": "ButtonModel",
      "state": {
       "description": "Reset Protected Area",
       "layout": "IPY_MODEL_6e1b7cf4e8104ee0b02abd4ed8a35432",
       "style": "IPY_MODEL_56b064723a0d407c825c59ab20439c2c"
      }
     },
     "a23b8f60f3044323a588ece938dabb15": {
      "model_module": "jupyter-matplotlib",
      "model_module_version": "^0.7.2",
      "model_name": "MPLCanvasModel",
      "state": {
       "_figure_label": "Figure 19",
       "_height": 396,
       "_image_mode": "diff",
       "_message": "x= y=",
       "_width": 1100,
       "header_visible": false,
       "layout": "IPY_MODEL_352fbb95cefa47459dfa52be00fb05b4",
       "resizable": false,
       "toolbar": "IPY_MODEL_35675cc860524113bd1c8cc8667a925d",
       "toolbar_position": "left",
       "toolbar_visible": false
      }
     },
     "a245fb3a443a4143a19c450a7f213fd1": {
      "model_module": "@jupyter-widgets/controls",
      "model_module_version": "1.5.0",
      "model_name": "VBoxModel",
      "state": {
       "children": [
        "IPY_MODEL_24c54011a02e467faef8040c68c6cb73",
        "IPY_MODEL_7bfc4097bfaf4e1eac84ecf791fa2d74",
        "IPY_MODEL_e1ace5b592584fe08905ae3e8228fbf2"
       ],
       "layout": "IPY_MODEL_d6b7b3a6858d43e7bd64a2a6a7fa086d"
      }
     },
     "a31a3071d55646b088249ccc0c3d12ba": {
      "model_module": "@jupyter-widgets/controls",
      "model_module_version": "1.5.0",
      "model_name": "FloatSliderModel",
      "state": {
       "description": "Exposure",
       "layout": "IPY_MODEL_90e319bb111f45c6803ad3b9fdec6c23",
       "max": 8,
       "min": -8,
       "step": 0.1,
       "style": "IPY_MODEL_e4761e7c91574e7fb7de6ca04562a02e"
      }
     },
     "a35f8c479c8e46a58dae8294a51d865e": {
      "model_module": "@jupyter-widgets/controls",
      "model_module_version": "1.5.0",
      "model_name": "ButtonModel",
      "state": {
       "description": "Reset Hue Controls",
       "layout": "IPY_MODEL_8927456898a8402ca971a4e3f0b52edd",
       "style": "IPY_MODEL_325a94513d0a4f8cb01314ad0bb8fffe"
      }
     },
     "a37fc2d73fe94634a1de84d1ac6de75e": {
      "model_module": "jupyter-matplotlib",
      "model_module_version": "^0.7.2",
      "model_name": "ToolbarModel",
      "state": {
       "layout": "IPY_MODEL_d3ba593d6d5a48298d9180b85c0e0e94",
       "toolitems": [
        [
         "Home",
         "Reset original view",
         "home",
         "home"
        ],
        [
         "Back",
         "Back to previous view",
         "arrow-left",
         "back"
        ],
        [
         "Forward",
         "Forward to next view",
         "arrow-right",
         "forward"
        ],
        [
         "Pan",
         "Pan axes with left mouse, zoom with right",
         "arrows",
         "pan"
        ],
        [
         "Zoom",
         "Zoom to rectangle",
         "square-o",
         "zoom"
        ],
        [
         "Download",
         "Download plot",
         "floppy-o",
         "save_figure"
        ]
       ]
      }
     },
     "a3ebaddb480a412b9d4ef8a45b2a8868": {
      "model_module": "@jupyter-widgets/base",
      "model_module_version": "1.2.0",
      "model_name": "LayoutModel",
      "state": {}
     },
     "a44b091be7ed4740a659acc5221d99da": {
      "model_module": "@jupyter-widgets/base",
      "model_module_version": "1.2.0",
      "model_name": "LayoutModel",
      "state": {}
     },
     "a48644fadc3e4d0cb56313ddb8196ead": {
      "model_module": "@jupyter-widgets/controls",
      "model_module_version": "1.5.0",
      "model_name": "ButtonModel",
      "state": {
       "description": "Export Image",
       "layout": "IPY_MODEL_241f03c3d40e480a9e5fd24637d67350",
       "style": "IPY_MODEL_2f25097cc2e54aafba9fbded4616308c"
      }
     },
     "a4aeb215bb3a43058bc838d16a2ea68b": {
      "model_module": "@jupyter-widgets/controls",
      "model_module_version": "1.5.0",
      "model_name": "HBoxModel",
      "state": {
       "children": [
        "IPY_MODEL_6eb917309d3a4a78aabc07bcd5b027ca",
        "IPY_MODEL_d10dba092ab741a5a487022c58c82b29"
       ],
       "layout": "IPY_MODEL_19b35a9a1d02440b886a807a59263078"
      }
     },
     "a4d03d50d4574ab281b9fda4b615e630": {
      "model_module": "@jupyter-widgets/base",
      "model_module_version": "1.2.0",
      "model_name": "LayoutModel",
      "state": {
       "border": "solid 4px #222",
       "margin": "4px",
       "padding": "0"
      }
     },
     "a596c97a506b46a79ce5e7911f7ea045": {
      "model_module": "@jupyter-widgets/base",
      "model_module_version": "1.2.0",
      "model_name": "LayoutModel",
      "state": {}
     },
     "a599db79f916413faf7afa0c60fd93b9": {
      "model_module": "@jupyter-widgets/controls",
      "model_module_version": "1.5.0",
      "model_name": "FloatSliderModel",
      "state": {
       "description": "315°",
       "layout": "IPY_MODEL_cb19532c0c084bf8ad217fcf393c7724",
       "max": 1,
       "min": -1,
       "step": 0.01,
       "style": "IPY_MODEL_66611c8879084745a24837da53017ec3"
      }
     },
     "a5a5b0ae817142198e78fd35a9a78f56": {
      "model_module": "@jupyter-widgets/controls",
      "model_module_version": "1.5.0",
      "model_name": "ButtonStyleModel",
      "state": {}
     },
     "a5b7cc38ead04774b8039ae82b44804b": {
      "model_module": "@jupyter-widgets/output",
      "model_module_version": "1.0.0",
      "model_name": "OutputModel",
      "state": {
       "layout": "IPY_MODEL_7f7e1a2751e84b6f85e2cce7ab4f4082",
       "outputs": [
        {
         "data": {
          "application/vnd.jupyter.widget-view+json": {
           "model_id": "6b23e9fd9e21499abe52d1eaf09d1d77",
           "version_major": 2,
           "version_minor": 0
          },
          "text/plain": "Canvas(toolbar=Toolbar(toolitems=[('Home', 'Reset original view', 'home', 'home'), ('Back', 'Back to previous …"
         },
         "metadata": {},
         "output_type": "display_data"
        }
       ]
      }
     },
     "a5fabbf3f6e64966b3094f36196c8571": {
      "model_module": "@jupyter-widgets/controls",
      "model_module_version": "1.5.0",
      "model_name": "SliderStyleModel",
      "state": {
       "description_width": ""
      }
     },
     "a632d71fa6d14e089c2b93dd5b01c527": {
      "model_module": "@jupyter-widgets/controls",
      "model_module_version": "1.5.0",
      "model_name": "HBoxModel",
      "state": {
       "children": [
        "IPY_MODEL_2bd6b08a2ceb4d0495afc27fa1e97e6c",
        "IPY_MODEL_45b46433dfd644cebb696fc80b11bc86",
        "IPY_MODEL_ea3849afa6454727aa34fe139abdb9d3"
       ],
       "layout": "IPY_MODEL_ff4daa4e2b994f488855ecaa533361e0"
      }
     },
     "a6345c7f18704ec693c8833b5d38b91a": {
      "model_module": "@jupyter-widgets/controls",
      "model_module_version": "1.5.0",
      "model_name": "BoxModel",
      "state": {
       "children": [
        "IPY_MODEL_ac447b6bb006459a88d82e41f975a022",
        "IPY_MODEL_df57032f71684d6faa5871e67c6a3437"
       ],
       "layout": "IPY_MODEL_8fa68fb14963466ea1e9eff3a0710e2d"
      }
     },
     "a64bc49f74d84ae4b4686fec0f700a06": {
      "model_module": "@jupyter-widgets/controls",
      "model_module_version": "1.5.0",
      "model_name": "VBoxModel",
      "state": {
       "children": [
        "IPY_MODEL_2ed0e743edc14d61870b74cdee03dc23",
        "IPY_MODEL_138170dbbb6b413f83d64756ee1b856a",
        "IPY_MODEL_fbe3e32654cc428a8ef8410b4d0314d9"
       ],
       "layout": "IPY_MODEL_9d606858fc1e4e83a9060652d9a3b023"
      }
     },
     "a6793dce97244805817bff97d67c7d0c": {
      "model_module": "@jupyter-widgets/base",
      "model_module_version": "1.2.0",
      "model_name": "LayoutModel",
      "state": {}
     },
     "a6e3601d260046a39528e4a58116555b": {
      "model_module": "@jupyter-widgets/base",
      "model_module_version": "1.2.0",
      "model_name": "LayoutModel",
      "state": {}
     },
     "a6e560932b164467aad982ed6b308d96": {
      "model_module": "@jupyter-widgets/base",
      "model_module_version": "1.2.0",
      "model_name": "LayoutModel",
      "state": {}
     },
     "a70104dc83314e01b7b3d854eab0ac1d": {
      "model_module": "@jupyter-widgets/controls",
      "model_module_version": "1.5.0",
      "model_name": "DropdownModel",
      "state": {
       "_options_labels": [
        "tanh",
        "simple"
       ],
       "description": "Compression Function:",
       "index": 0,
       "layout": "IPY_MODEL_7a06aa7db1ef46a2aba3bf3c0a0ce4f8",
       "style": "IPY_MODEL_9f410911bb304c059af079894961aab1"
      }
     },
     "a73c642ddcb14a7ba54f96f615e44c88": {
      "model_module": "@jupyter-widgets/output",
      "model_module_version": "1.0.0",
      "model_name": "OutputModel",
      "state": {
       "layout": "IPY_MODEL_c73ba4b51b9f40ffb0e0a7c82dacb41c",
       "outputs": [
        {
         "data": {
          "application/vnd.jupyter.widget-view+json": {
           "model_id": "5eabc2c5571544c18358e0ba83b95a96",
           "version_major": 2,
           "version_minor": 0
          },
          "text/plain": "Canvas(toolbar=Toolbar(toolitems=[('Home', 'Reset original view', 'home', 'home'), ('Back', 'Back to previous …"
         },
         "metadata": {},
         "output_type": "display_data"
        }
       ]
      }
     },
     "a75e86a3ffeb46588e72f1aaf8d91367": {
      "model_module": "@jupyter-widgets/base",
      "model_module_version": "1.2.0",
      "model_name": "LayoutModel",
      "state": {}
     },
     "a77090b1e32f4236bd89ee1cbc3601af": {
      "model_module": "@jupyter-widgets/base",
      "model_module_version": "1.2.0",
      "model_name": "LayoutModel",
      "state": {}
     },
     "a7953b9c82074c7a87609aa948ff398e": {
      "model_module": "@jupyter-widgets/base",
      "model_module_version": "1.2.0",
      "model_name": "LayoutModel",
      "state": {}
     },
     "a7b09c91e29043deb3f33601b539a32c": {
      "model_module": "@jupyter-widgets/controls",
      "model_module_version": "1.5.0",
      "model_name": "HBoxModel",
      "state": {
       "children": [
        "IPY_MODEL_a9441373abc045baaaba16f1f48a8772",
        "IPY_MODEL_9a692e56c16f4423839ff678b610d677",
        "IPY_MODEL_737e02cb22fc49278fccf197b60b3501",
        "IPY_MODEL_6fdf5fff0ecc4c94973031a6703f0135"
       ],
       "layout": "IPY_MODEL_c6915f27dd6e4ff59f64b21711f40637"
      }
     },
     "a80c130a5a3240e1920b325b2dc5e4ba": {
      "model_module": "@jupyter-widgets/controls",
      "model_module_version": "1.5.0",
      "model_name": "DescriptionStyleModel",
      "state": {
       "description_width": ""
      }
     },
     "a813b208e84342deb25c9c09268cce2b": {
      "model_module": "@jupyter-widgets/controls",
      "model_module_version": "1.5.0",
      "model_name": "FloatSliderModel",
      "state": {
       "description": "Exposure",
       "layout": "IPY_MODEL_48775cf2c9d541e691cf4d7408d4d47b",
       "max": 8,
       "min": -8,
       "step": 0.1,
       "style": "IPY_MODEL_22e03eea0a794e22b1b4584fae0f6394"
      }
     },
     "a8a946fd421e48a096458e4f2d5392d0": {
      "model_module": "@jupyter-widgets/controls",
      "model_module_version": "1.5.0",
      "model_name": "DescriptionStyleModel",
      "state": {
       "description_width": ""
      }
     },
     "a8b2cdc2ce6147bca0c376a958cee7b4": {
      "model_module": "@jupyter-widgets/base",
      "model_module_version": "1.2.0",
      "model_name": "LayoutModel",
      "state": {}
     },
     "a9441373abc045baaaba16f1f48a8772": {
      "model_module": "@jupyter-widgets/controls",
      "model_module_version": "1.5.0",
      "model_name": "VBoxModel",
      "state": {
       "children": [
        "IPY_MODEL_c4d242c354714d4ea2188f5ac578abb8"
       ],
       "layout": "IPY_MODEL_f8679e23acd442a3aa33fb8437b0d8e4"
      }
     },
     "a94ff87a42af479aa80006080c0ca168": {
      "model_module": "@jupyter-widgets/controls",
      "model_module_version": "1.5.0",
      "model_name": "CheckboxModel",
      "state": {
       "description": "Disable Medicina",
       "disabled": false,
       "layout": "IPY_MODEL_86e0c9a112894b22a76ad348f7316e85",
       "style": "IPY_MODEL_ea72f8029fb443f3b23be9baf18d731f",
       "value": false
      }
     },
     "a997b71186fa46f48f718cdb367c7e6a": {
      "model_module": "@jupyter-widgets/base",
      "model_module_version": "1.2.0",
      "model_name": "LayoutModel",
      "state": {}
     },
     "a9a96f6d6d254ce8bc98e6fb7847e655": {
      "model_module": "@jupyter-widgets/base",
      "model_module_version": "1.2.0",
      "model_name": "LayoutModel",
      "state": {}
     },
     "aa1f6a5070c449d7aa31d262b2741504": {
      "model_module": "@jupyter-widgets/controls",
      "model_module_version": "1.5.0",
      "model_name": "SliderStyleModel",
      "state": {
       "description_width": ""
      }
     },
     "aa50e162756d4e40a07ef375da646397": {
      "model_module": "@jupyter-widgets/base",
      "model_module_version": "1.2.0",
      "model_name": "LayoutModel",
      "state": {}
     },
     "aaa45f5d960849f8b66344cf35f5ad23": {
      "model_module": "@jupyter-widgets/controls",
      "model_module_version": "1.5.0",
      "model_name": "DescriptionStyleModel",
      "state": {
       "description_width": ""
      }
     },
     "aac4bc5ffa9045aab5ccf011425c7cd8": {
      "model_module": "@jupyter-widgets/controls",
      "model_module_version": "1.5.0",
      "model_name": "FloatSliderModel",
      "state": {
       "description": "Protected Area Threshold",
       "layout": "IPY_MODEL_b18689258c5a4cbcbcb9dd28a6e93eb5",
       "max": 1,
       "step": 0.01,
       "style": "IPY_MODEL_5aa74334f6984bd5bc8c58a4572c6968",
       "value": 0.5
      }
     },
     "ab11679c474344f6a0db6cd4cb04789f": {
      "model_module": "@jupyter-widgets/base",
      "model_module_version": "1.2.0",
      "model_name": "LayoutModel",
      "state": {}
     },
     "ab205266c0fd4978b2334567a4709f5c": {
      "model_module": "@jupyter-widgets/controls",
      "model_module_version": "1.5.0",
      "model_name": "FloatSliderModel",
      "state": {
       "description": "180°",
       "layout": "IPY_MODEL_abd0b4a57673450c905d3d0bfee592c5",
       "max": 1,
       "min": -1,
       "step": 0.01,
       "style": "IPY_MODEL_1cc60aaeb79d41dfbedc652354ce6192"
      }
     },
     "ab4f3e2f903e418198d64d6dee51d183": {
      "model_module": "@jupyter-widgets/base",
      "model_module_version": "1.2.0",
      "model_name": "LayoutModel",
      "state": {}
     },
     "ab72e692b81e4db988ed06af1124d458": {
      "model_module": "@jupyter-widgets/base",
      "model_module_version": "1.2.0",
      "model_name": "LayoutModel",
      "state": {}
     },
     "ab773ed1ab724ae7813b755b41b0bf5e": {
      "model_module": "@jupyter-widgets/base",
      "model_module_version": "1.2.0",
      "model_name": "LayoutModel",
      "state": {}
     },
     "ab83507836f44608b68a3a125ce48e1e": {
      "model_module": "@jupyter-widgets/base",
      "model_module_version": "1.2.0",
      "model_name": "LayoutModel",
      "state": {}
     },
     "ab843b0452e441e18c1d1949866c8605": {
      "model_module": "@jupyter-widgets/controls",
      "model_module_version": "1.5.0",
      "model_name": "SliderStyleModel",
      "state": {
       "description_width": ""
      }
     },
     "ab88db4d68e0489b8c2a61c353764ace": {
      "model_module": "@jupyter-widgets/controls",
      "model_module_version": "1.5.0",
      "model_name": "DescriptionStyleModel",
      "state": {
       "description_width": ""
      }
     },
     "abbca8919581476ea0487b4a92e4006e": {
      "model_module": "@jupyter-widgets/controls",
      "model_module_version": "1.5.0",
      "model_name": "FloatSliderModel",
      "state": {
       "description": "315°",
       "layout": "IPY_MODEL_71b6cf7e04734e41ac4763b5e7331c2d",
       "max": 1,
       "min": -1,
       "step": 0.01,
       "style": "IPY_MODEL_06620da6b5024993a3e6d31229dd429b"
      }
     },
     "abd0b4a57673450c905d3d0bfee592c5": {
      "model_module": "@jupyter-widgets/base",
      "model_module_version": "1.2.0",
      "model_name": "LayoutModel",
      "state": {}
     },
     "abd58454054a4a52860de0c540c9a84a": {
      "model_module": "@jupyter-widgets/controls",
      "model_module_version": "1.5.0",
      "model_name": "SliderStyleModel",
      "state": {
       "description_width": ""
      }
     },
     "abd6f943e79d45e6bd780cd919fef2d8": {
      "model_module": "@jupyter-widgets/controls",
      "model_module_version": "1.5.0",
      "model_name": "SliderStyleModel",
      "state": {
       "description_width": ""
      }
     },
     "ac447b6bb006459a88d82e41f975a022": {
      "model_module": "@jupyter-widgets/output",
      "model_module_version": "1.0.0",
      "model_name": "OutputModel",
      "state": {
       "layout": "IPY_MODEL_bf956edce5bc4df6be2afffe613d838e",
       "outputs": [
        {
         "data": {
          "application/vnd.jupyter.widget-view+json": {
           "model_id": "7ddcad48986e42e0a59100acab06a173",
           "version_major": 2,
           "version_minor": 0
          },
          "text/plain": "Canvas(toolbar=Toolbar(toolitems=[('Home', 'Reset original view', 'home', 'home'), ('Back', 'Back to previous …"
         },
         "metadata": {},
         "output_type": "display_data"
        }
       ]
      }
     },
     "ac5efd8598464a05a15cc329f2cfd589": {
      "model_module": "@jupyter-widgets/controls",
      "model_module_version": "1.5.0",
      "model_name": "ButtonStyleModel",
      "state": {}
     },
     "ac758e8c92e0497293552ee23b29265a": {
      "model_module": "@jupyter-widgets/controls",
      "model_module_version": "1.5.0",
      "model_name": "SliderStyleModel",
      "state": {
       "description_width": ""
      }
     },
     "acc36c8fc1664543ad75928fa25e60fd": {
      "model_module": "@jupyter-widgets/controls",
      "model_module_version": "1.5.0",
      "model_name": "ButtonModel",
      "state": {
       "description": "Save Figure",
       "layout": "IPY_MODEL_f07669f6895d4ee0969b03eb01f07eee",
       "style": "IPY_MODEL_4832a11998f943319efc86bfb66316bc"
      }
     },
     "acd09a223961436ab2825400b2d0ec3d": {
      "model_module": "jupyter-matplotlib",
      "model_module_version": "^0.7.2",
      "model_name": "ToolbarModel",
      "state": {
       "layout": "IPY_MODEL_d64fae42669e453fa1aa592f13749ec9",
       "toolitems": [
        [
         "Home",
         "Reset original view",
         "home",
         "home"
        ],
        [
         "Back",
         "Back to previous view",
         "arrow-left",
         "back"
        ],
        [
         "Forward",
         "Forward to next view",
         "arrow-right",
         "forward"
        ],
        [
         "Pan",
         "Pan axes with left mouse, zoom with right",
         "arrows",
         "pan"
        ],
        [
         "Zoom",
         "Zoom to rectangle",
         "square-o",
         "zoom"
        ],
        [
         "Download",
         "Download plot",
         "floppy-o",
         "save_figure"
        ]
       ]
      }
     },
     "ad0c7298d6af4724bec27bfae927ff40": {
      "model_module": "@jupyter-widgets/base",
      "model_module_version": "1.2.0",
      "model_name": "LayoutModel",
      "state": {}
     },
     "ad61d65e0db941d9ba63bb29d069be39": {
      "model_module": "@jupyter-widgets/controls",
      "model_module_version": "1.5.0",
      "model_name": "SliderStyleModel",
      "state": {
       "description_width": ""
      }
     },
     "ad72400ab5074f9fbed07a7391c59a67": {
      "model_module": "@jupyter-widgets/controls",
      "model_module_version": "1.5.0",
      "model_name": "ButtonStyleModel",
      "state": {}
     },
     "adc7aa9573a04b34b91f5ec4bb939b6e": {
      "model_module": "@jupyter-widgets/base",
      "model_module_version": "1.2.0",
      "model_name": "LayoutModel",
      "state": {
       "border": "solid 4px #222",
       "margin": "4px",
       "padding": "0"
      }
     },
     "ae38c9e1e1d341c083053485f1f8639d": {
      "model_module": "@jupyter-widgets/base",
      "model_module_version": "1.2.0",
      "model_name": "LayoutModel",
      "state": {}
     },
     "af258ddfcd984907a7bbcbabb9ca0fae": {
      "model_module": "@jupyter-widgets/base",
      "model_module_version": "1.2.0",
      "model_name": "LayoutModel",
      "state": {}
     },
     "af39f8a304804da6b874f6d56576b297": {
      "model_module": "@jupyter-widgets/base",
      "model_module_version": "1.2.0",
      "model_name": "LayoutModel",
      "state": {}
     },
     "af450175f0584fd2a7016a153f115b0f": {
      "model_module": "@jupyter-widgets/controls",
      "model_module_version": "1.5.0",
      "model_name": "FloatSliderModel",
      "state": {
       "description": "315°",
       "layout": "IPY_MODEL_38dc3e0c73c84b8c85f6f728a9a23b08",
       "max": 1,
       "min": -1,
       "step": 0.01,
       "style": "IPY_MODEL_b3c45ac919e64dd8960f880f447174db"
      }
     },
     "af5306c03e43468ea7d016dadefb1a03": {
      "model_module": "@jupyter-widgets/base",
      "model_module_version": "1.2.0",
      "model_name": "LayoutModel",
      "state": {}
     },
     "af64dc4d4615429184fbdd884b480bf6": {
      "model_module": "@jupyter-widgets/base",
      "model_module_version": "1.2.0",
      "model_name": "LayoutModel",
      "state": {}
     },
     "af6a2b6fb5fa4f28acf5376e06286cb8": {
      "model_module": "@jupyter-widgets/base",
      "model_module_version": "1.2.0",
      "model_name": "LayoutModel",
      "state": {}
     },
     "af720af13b244028964b2b603a2621ec": {
      "model_module": "@jupyter-widgets/controls",
      "model_module_version": "1.5.0",
      "model_name": "HBoxModel",
      "state": {
       "children": [
        "IPY_MODEL_7725bb10741848569e40c5dab7d84689",
        "IPY_MODEL_57845829098a48a48e4dd89ee4ddd8c3",
        "IPY_MODEL_3570fd161bf3461594ac62ed380930e2",
        "IPY_MODEL_4e33a1e442be4f128fe18668decd35c2"
       ],
       "layout": "IPY_MODEL_04f2a5b568904b129f612a58dd78cb80"
      }
     },
     "affa351cba4c4b74b3e3c056b3d3636a": {
      "model_module": "@jupyter-widgets/controls",
      "model_module_version": "1.5.0",
      "model_name": "HBoxModel",
      "state": {
       "children": [
        "IPY_MODEL_c7deebb75b2b4b2e9f8725163e161a59",
        "IPY_MODEL_5d99edd57e2b4727a2a2544ca9093fa9",
        "IPY_MODEL_6c843563153646a5891389240cf570c3",
        "IPY_MODEL_7369554f715d4e5596430fa60c9359d0"
       ],
       "layout": "IPY_MODEL_af64dc4d4615429184fbdd884b480bf6"
      }
     },
     "b02b6e0f42af453f961045a58c874531": {
      "model_module": "@jupyter-widgets/base",
      "model_module_version": "1.2.0",
      "model_name": "LayoutModel",
      "state": {}
     },
     "b08c2d3402d542f6b49e50a035e86232": {
      "model_module": "@jupyter-widgets/controls",
      "model_module_version": "1.5.0",
      "model_name": "ButtonStyleModel",
      "state": {}
     },
     "b0b21c1a09074e17b864cc396a5ed64f": {
      "model_module": "jupyter-matplotlib",
      "model_module_version": "^0.7.2",
      "model_name": "MPLCanvasModel",
      "state": {
       "_figure_label": "Figure 24",
       "_height": 550,
       "_width": 1100,
       "header_visible": false,
       "layout": "IPY_MODEL_bd81e6f2a0074497bee7542046b5546a",
       "resizable": false,
       "toolbar": "IPY_MODEL_efb3a7baedec47b991c463a24a7c3e6f",
       "toolbar_position": "left",
       "toolbar_visible": false
      }
     },
     "b0f545ac47a34d599ae4ab15594eee45": {
      "model_module": "@jupyter-widgets/controls",
      "model_module_version": "1.5.0",
      "model_name": "FloatSliderModel",
      "state": {
       "description": "Exposure",
       "layout": "IPY_MODEL_c9ee8e8ef5cd40d59fec2e3e2b63bcb1",
       "max": 8,
       "min": -8,
       "step": 0.1,
       "style": "IPY_MODEL_cffc91f3dfef4a42a8635b8c75b997ef"
      }
     },
     "b1172a0237384593b51af10a3fe2c3b2": {
      "model_module": "@jupyter-widgets/base",
      "model_module_version": "1.2.0",
      "model_name": "LayoutModel",
      "state": {}
     },
     "b15dfeb101cf407cb273e3b63fce305b": {
      "model_module": "@jupyter-widgets/controls",
      "model_module_version": "1.5.0",
      "model_name": "FloatSliderModel",
      "state": {
       "description": "0°",
       "layout": "IPY_MODEL_c6006c17a106459cbf35cb731d275f84",
       "max": 1,
       "min": -1,
       "step": 0.01,
       "style": "IPY_MODEL_abd6f943e79d45e6bd780cd919fef2d8"
      }
     },
     "b16d2c2c9e744a4bb84f1fd8e49e31aa": {
      "model_module": "@jupyter-widgets/base",
      "model_module_version": "1.2.0",
      "model_name": "LayoutModel",
      "state": {}
     },
     "b18689258c5a4cbcbcb9dd28a6e93eb5": {
      "model_module": "@jupyter-widgets/base",
      "model_module_version": "1.2.0",
      "model_name": "LayoutModel",
      "state": {}
     },
     "b18ab70abe464db4b7aac9f3d75a9977": {
      "model_module": "@jupyter-widgets/controls",
      "model_module_version": "1.5.0",
      "model_name": "FloatSliderModel",
      "state": {
       "description": "225°",
       "layout": "IPY_MODEL_49a01540448146b5b4e8df0667a532fc",
       "max": 1,
       "min": -1,
       "step": 0.01,
       "style": "IPY_MODEL_460ba08d4cbf4f28a0d78768072ec186"
      }
     },
     "b18ac62126734337996f2b4f211df225": {
      "model_module": "jupyter-matplotlib",
      "model_module_version": "^0.7.2",
      "model_name": "ToolbarModel",
      "state": {
       "layout": "IPY_MODEL_29a95745b2274142b902bfcf6c1fa7c4",
       "toolitems": [
        [
         "Home",
         "Reset original view",
         "home",
         "home"
        ],
        [
         "Back",
         "Back to previous view",
         "arrow-left",
         "back"
        ],
        [
         "Forward",
         "Forward to next view",
         "arrow-right",
         "forward"
        ],
        [
         "Pan",
         "Pan axes with left mouse, zoom with right",
         "arrows",
         "pan"
        ],
        [
         "Zoom",
         "Zoom to rectangle",
         "square-o",
         "zoom"
        ],
        [
         "Download",
         "Download plot",
         "floppy-o",
         "save_figure"
        ]
       ]
      }
     },
     "b18ff6a1e3314ab9abf10e9d946d5c83": {
      "model_module": "@jupyter-widgets/controls",
      "model_module_version": "1.5.0",
      "model_name": "FloatSliderModel",
      "state": {
       "description": "Exposure",
       "layout": "IPY_MODEL_a77090b1e32f4236bd89ee1cbc3601af",
       "max": 8,
       "min": -8,
       "step": 0.1,
       "style": "IPY_MODEL_216b8b6ad7164213b465811fcca77edc"
      }
     },
     "b1c4677d41f14edcbd2c8d99c4e0b36a": {
      "model_module": "@jupyter-widgets/controls",
      "model_module_version": "1.5.0",
      "model_name": "SliderStyleModel",
      "state": {
       "description_width": ""
      }
     },
     "b29e484afe744a27bc9f270b0d7cfe2c": {
      "model_module": "@jupyter-widgets/controls",
      "model_module_version": "1.5.0",
      "model_name": "DescriptionStyleModel",
      "state": {
       "description_width": ""
      }
     },
     "b29fd2833cd940c69a0884cf02a1e280": {
      "model_module": "@jupyter-widgets/controls",
      "model_module_version": "1.5.0",
      "model_name": "FloatSliderModel",
      "state": {
       "description": "315°",
       "layout": "IPY_MODEL_60f8e892644543fdbd3e302c08065e93",
       "max": 1,
       "min": -1,
       "step": 0.01,
       "style": "IPY_MODEL_f1580e122cdc408d933ff44df11550ae"
      }
     },
     "b2c9ddfd9100494290b3a9a0740c6f23": {
      "model_module": "@jupyter-widgets/controls",
      "model_module_version": "1.5.0",
      "model_name": "VBoxModel",
      "state": {
       "children": [
        "IPY_MODEL_6e2d8a8055c54e30a81932a626d27847",
        "IPY_MODEL_af450175f0584fd2a7016a153f115b0f"
       ],
       "layout": "IPY_MODEL_220b58ccbb9c41268ee733884a7a951d"
      }
     },
     "b3247f8ad9924d098a198b49897e3915": {
      "model_module": "@jupyter-widgets/controls",
      "model_module_version": "1.5.0",
      "model_name": "HBoxModel",
      "state": {
       "children": [
        "IPY_MODEL_77677bd9611c49e58f0421d195c9b460",
        "IPY_MODEL_8dffa98fc462440986da90a4933002a2"
       ],
       "layout": "IPY_MODEL_eeb8d33a1d274386b6be49e4ba9afe80"
      }
     },
     "b35046a999bb4accb5753d372d2e3be0": {
      "model_module": "@jupyter-widgets/controls",
      "model_module_version": "1.5.0",
      "model_name": "ButtonStyleModel",
      "state": {}
     },
     "b353b342660048f7a3592e2c521d1950": {
      "model_module": "@jupyter-widgets/controls",
      "model_module_version": "1.5.0",
      "model_name": "FloatSliderModel",
      "state": {
       "description": "45°",
       "layout": "IPY_MODEL_ea0c947044b7405c9fcd9520102e3a8c",
       "max": 1,
       "min": -1,
       "step": 0.01,
       "style": "IPY_MODEL_e3db93ad6b324bf594c0057abec5aba1"
      }
     },
     "b3aefd1e77e4435880c3d5013e476c91": {
      "model_module": "jupyter-matplotlib",
      "model_module_version": "^0.7.2",
      "model_name": "MPLCanvasModel",
      "state": {
       "_figure_label": "Figure 7",
       "_height": 508,
       "_width": 1100,
       "header_visible": false,
       "layout": "IPY_MODEL_5ddd75323abe4696a07cf2dd573fd485",
       "resizable": false,
       "toolbar": "IPY_MODEL_c69eb9ec1a1f49a3b401b99bf05d2105",
       "toolbar_position": "left",
       "toolbar_visible": false
      }
     },
     "b3c45ac919e64dd8960f880f447174db": {
      "model_module": "@jupyter-widgets/controls",
      "model_module_version": "1.5.0",
      "model_name": "SliderStyleModel",
      "state": {
       "description_width": ""
      }
     },
     "b3ccb10d6b74483799b079be470fad72": {
      "model_module": "@jupyter-widgets/base",
      "model_module_version": "1.2.0",
      "model_name": "LayoutModel",
      "state": {}
     },
     "b406aadb162044aa844d868e1194ac1f": {
      "model_module": "@jupyter-widgets/controls",
      "model_module_version": "1.5.0",
      "model_name": "HBoxModel",
      "state": {
       "children": [
        "IPY_MODEL_2c25bc2977ec4db3be777cdace5c31bc",
        "IPY_MODEL_d21bc12d055e49ada524f25c62946970",
        "IPY_MODEL_0b46823d3f2a4a2b8b46467a74c97dbb",
        "IPY_MODEL_b18ff6a1e3314ab9abf10e9d946d5c83"
       ],
       "layout": "IPY_MODEL_a997b71186fa46f48f718cdb367c7e6a"
      }
     },
     "b45b76be32ad43f09fa75fa06ce9b6db": {
      "model_module": "@jupyter-widgets/base",
      "model_module_version": "1.2.0",
      "model_name": "LayoutModel",
      "state": {}
     },
     "b480d88cfb504f7c9c48d3347c4d95dc": {
      "model_module": "@jupyter-widgets/controls",
      "model_module_version": "1.5.0",
      "model_name": "ButtonStyleModel",
      "state": {}
     },
     "b4a0fe4794d84aa8a6f4c227d7a4c051": {
      "model_module": "@jupyter-widgets/controls",
      "model_module_version": "1.5.0",
      "model_name": "ButtonModel",
      "state": {
       "description": "Export Image",
       "layout": "IPY_MODEL_6cb883c145544b519fa25221597f1fc0",
       "style": "IPY_MODEL_250da7317a1643a0b202c0bb7d667abb"
      }
     },
     "b4a58cbafa5d4af79b775ef651559d14": {
      "model_module": "@jupyter-widgets/controls",
      "model_module_version": "1.5.0",
      "model_name": "VBoxModel",
      "state": {
       "children": [
        "IPY_MODEL_2e1005c817fe465c86a372b050975339",
        "IPY_MODEL_649be9926e694ddf91092dda3e18a010"
       ],
       "layout": "IPY_MODEL_9022ae17f4cd4e97a06578d0f6e3f324"
      }
     },
     "b4fb7adcd96246c1a39afca717b538f6": {
      "model_module": "@jupyter-widgets/controls",
      "model_module_version": "1.5.0",
      "model_name": "ButtonStyleModel",
      "state": {}
     },
     "b501a7c2cb9c416282a87caba05f9994": {
      "model_module": "@jupyter-widgets/base",
      "model_module_version": "1.2.0",
      "model_name": "LayoutModel",
      "state": {}
     },
     "b5402deccafe4d1ba211d1689632a816": {
      "model_module": "@jupyter-widgets/base",
      "model_module_version": "1.2.0",
      "model_name": "LayoutModel",
      "state": {}
     },
     "b564f21eb0f54afaa4c68c35c0142d57": {
      "model_module": "@jupyter-widgets/base",
      "model_module_version": "1.2.0",
      "model_name": "LayoutModel",
      "state": {}
     },
     "b57371607c6d4b79b21276d5afc05cd5": {
      "model_module": "@jupyter-widgets/controls",
      "model_module_version": "1.5.0",
      "model_name": "ButtonStyleModel",
      "state": {}
     },
     "b5e066b4fb8e4a4bba711b340184abff": {
      "model_module": "@jupyter-widgets/controls",
      "model_module_version": "1.5.0",
      "model_name": "ButtonStyleModel",
      "state": {}
     },
     "b6a720b3680741bea32e88388d49e5cf": {
      "model_module": "@jupyter-widgets/base",
      "model_module_version": "1.2.0",
      "model_name": "LayoutModel",
      "state": {}
     },
     "b6da0d824f2d4043872ed5e20d0da31b": {
      "model_module": "@jupyter-widgets/controls",
      "model_module_version": "1.5.0",
      "model_name": "SliderStyleModel",
      "state": {
       "description_width": ""
      }
     },
     "b7360a42876846199a9751d29de96dbc": {
      "model_module": "@jupyter-widgets/controls",
      "model_module_version": "1.5.0",
      "model_name": "SliderStyleModel",
      "state": {
       "description_width": ""
      }
     },
     "b77db6b0e4b74c62953b778abbcc9d99": {
      "model_module": "@jupyter-widgets/base",
      "model_module_version": "1.2.0",
      "model_name": "LayoutModel",
      "state": {}
     },
     "b79ffd29394c4734ad7e5c4a3eb55136": {
      "model_module": "@jupyter-widgets/controls",
      "model_module_version": "1.5.0",
      "model_name": "VBoxModel",
      "state": {
       "children": [
        "IPY_MODEL_2a749c5c103f4d859b132eac69b4f1aa",
        "IPY_MODEL_c9e755bfeb5a46ba8a05557513f54a33",
        "IPY_MODEL_97cbbfb644054bf78f6f60f13f12aca9"
       ],
       "layout": "IPY_MODEL_8091bf4b9c764796ba6a1be924b23ac3"
      }
     },
     "b7a6cddd91314a028f29310b43c2aaa2": {
      "model_module": "@jupyter-widgets/base",
      "model_module_version": "1.2.0",
      "model_name": "LayoutModel",
      "state": {}
     },
     "b7db09ea071c4d379ee4970ed536d0d6": {
      "model_module": "@jupyter-widgets/controls",
      "model_module_version": "1.5.0",
      "model_name": "BoxModel",
      "state": {
       "children": [
        "IPY_MODEL_5577be85767b407497cca4465b284c1d",
        "IPY_MODEL_5cc3cd8ae2f848968ec0d8b2d7f001d1"
       ],
       "layout": "IPY_MODEL_85225473a63c42abb41e01c4683914a1"
      }
     },
     "b7e36c7dd17549e291ddaa8167c7bb46": {
      "model_module": "@jupyter-widgets/base",
      "model_module_version": "1.2.0",
      "model_name": "LayoutModel",
      "state": {}
     },
     "b822844b6b284d8c8bf4b7ca268fb1ce": {
      "model_module": "@jupyter-widgets/base",
      "model_module_version": "1.2.0",
      "model_name": "LayoutModel",
      "state": {}
     },
     "b823725874f44026bf6763b1e6accf9a": {
      "model_module": "@jupyter-widgets/base",
      "model_module_version": "1.2.0",
      "model_name": "LayoutModel",
      "state": {}
     },
     "b8431c6afbe045029c8c887ee54d7974": {
      "model_module": "@jupyter-widgets/controls",
      "model_module_version": "1.5.0",
      "model_name": "SliderStyleModel",
      "state": {
       "description_width": ""
      }
     },
     "b88e473742414fada6c0b3542c54b50a": {
      "model_module": "@jupyter-widgets/base",
      "model_module_version": "1.2.0",
      "model_name": "LayoutModel",
      "state": {}
     },
     "b8950c496bc54f4992d4f00530991202": {
      "model_module": "@jupyter-widgets/controls",
      "model_module_version": "1.5.0",
      "model_name": "SliderStyleModel",
      "state": {
       "description_width": ""
      }
     },
     "b899a63e63a245d59ad27646cd532048": {
      "model_module": "@jupyter-widgets/controls",
      "model_module_version": "1.5.0",
      "model_name": "FloatSliderModel",
      "state": {
       "description": "0°",
       "layout": "IPY_MODEL_6b030a4b11a34f6bab15bda4740edc87",
       "max": 1,
       "min": -1,
       "step": 0.01,
       "style": "IPY_MODEL_0ef520e6ae8542c5943ff6b786a6bca1"
      }
     },
     "b8f694aee36d42a48461388e6fe9edbc": {
      "model_module": "@jupyter-widgets/controls",
      "model_module_version": "1.5.0",
      "model_name": "FloatSliderModel",
      "state": {
       "description": "0°",
       "layout": "IPY_MODEL_e4df2c36f32643e69d9057e0ee6b1207",
       "max": 1,
       "min": -1,
       "step": 0.01,
       "style": "IPY_MODEL_f4ad03feb221404b86635051cfce0e97"
      }
     },
     "b900d147e682448bb8030b15922363e3": {
      "model_module": "@jupyter-widgets/base",
      "model_module_version": "1.2.0",
      "model_name": "LayoutModel",
      "state": {}
     },
     "b904b60bc8214e9ab92e9ec793b835a2": {
      "model_module": "@jupyter-widgets/base",
      "model_module_version": "1.2.0",
      "model_name": "LayoutModel",
      "state": {}
     },
     "b9077b3a953445f38104263db25fb2f3": {
      "model_module": "@jupyter-widgets/controls",
      "model_module_version": "1.5.0",
      "model_name": "ButtonModel",
      "state": {
       "description": "Reset Saturation Controls",
       "layout": "IPY_MODEL_0139400eaf3f4077ad5b5ba4c10f7c82",
       "style": "IPY_MODEL_5d5f450aa636475abd5b0778d2e4e295"
      }
     },
     "b9a3db37d4b14a2193a6e3aff246c5a7": {
      "model_module": "@jupyter-widgets/controls",
      "model_module_version": "1.5.0",
      "model_name": "HBoxModel",
      "state": {
       "children": [
        "IPY_MODEL_a94ff87a42af479aa80006080c0ca168",
        "IPY_MODEL_4a84a219155d4702b9f8b042914fef94",
        "IPY_MODEL_e134da3aa92a43a294736e36e190600d",
        "IPY_MODEL_b0f545ac47a34d599ae4ab15594eee45"
       ],
       "layout": "IPY_MODEL_6020fd3eb52d46d995723511a85db553"
      }
     },
     "b9a5482ad5464283ae07dd40d8424be7": {
      "model_module": "jupyter-matplotlib",
      "model_module_version": "^0.7.2",
      "model_name": "ToolbarModel",
      "state": {
       "layout": "IPY_MODEL_feb97b8a12ae40aeb5d56187cc43fa0d",
       "toolitems": [
        [
         "Home",
         "Reset original view",
         "home",
         "home"
        ],
        [
         "Back",
         "Back to previous view",
         "arrow-left",
         "back"
        ],
        [
         "Forward",
         "Forward to next view",
         "arrow-right",
         "forward"
        ],
        [
         "Pan",
         "Pan axes with left mouse, zoom with right",
         "arrows",
         "pan"
        ],
        [
         "Zoom",
         "Zoom to rectangle",
         "square-o",
         "zoom"
        ],
        [
         "Download",
         "Download plot",
         "floppy-o",
         "save_figure"
        ]
       ]
      }
     },
     "b9bbe2c87dae4dba8c6085c5b0afcb3b": {
      "model_module": "@jupyter-widgets/base",
      "model_module_version": "1.2.0",
      "model_name": "LayoutModel",
      "state": {}
     },
     "b9d593a02b3247f997ce17b3d100ebf7": {
      "model_module": "@jupyter-widgets/base",
      "model_module_version": "1.2.0",
      "model_name": "LayoutModel",
      "state": {}
     },
     "ba43e44d28d34f3ea88e5181ab0e95bf": {
      "model_module": "@jupyter-widgets/controls",
      "model_module_version": "1.5.0",
      "model_name": "ButtonStyleModel",
      "state": {}
     },
     "ba6248dae76f4946a8ff0de2139c0300": {
      "model_module": "@jupyter-widgets/base",
      "model_module_version": "1.2.0",
      "model_name": "LayoutModel",
      "state": {}
     },
     "ba8c20081d8047219b40189d661ec33a": {
      "model_module": "@jupyter-widgets/controls",
      "model_module_version": "1.5.0",
      "model_name": "SliderStyleModel",
      "state": {
       "description_width": ""
      }
     },
     "bab928e8bef5455e8c7c2b673ccd071e": {
      "model_module": "@jupyter-widgets/controls",
      "model_module_version": "1.5.0",
      "model_name": "DescriptionStyleModel",
      "state": {
       "description_width": ""
      }
     },
     "baf471f227e74bceb1b88228f9071712": {
      "model_module": "@jupyter-widgets/base",
      "model_module_version": "1.2.0",
      "model_name": "LayoutModel",
      "state": {
       "border": "solid 4px #222",
       "margin": "4px",
       "padding": "0"
      }
     },
     "bb09b7ffe9a34a0b93294a51c7c085d2": {
      "model_module": "@jupyter-widgets/base",
      "model_module_version": "1.2.0",
      "model_name": "LayoutModel",
      "state": {}
     },
     "bb0ab37738934684b315d2ffd5552a16": {
      "model_module": "@jupyter-widgets/controls",
      "model_module_version": "1.5.0",
      "model_name": "FloatSliderModel",
      "state": {
       "description": "45°",
       "layout": "IPY_MODEL_ce77f779496f4243938e293c1d71218e",
       "max": 1,
       "min": -1,
       "step": 0.01,
       "style": "IPY_MODEL_aa1f6a5070c449d7aa31d262b2741504"
      }
     },
     "bb14fc9072954d659e1d9df3f9288bc5": {
      "model_module": "@jupyter-widgets/base",
      "model_module_version": "1.2.0",
      "model_name": "LayoutModel",
      "state": {}
     },
     "bb677e44165443c28ef28004e10b0134": {
      "model_module": "@jupyter-widgets/controls",
      "model_module_version": "1.5.0",
      "model_name": "ButtonStyleModel",
      "state": {}
     },
     "bb92d609854e49c596038e8e9b966770": {
      "model_module": "@jupyter-widgets/controls",
      "model_module_version": "1.5.0",
      "model_name": "DropdownModel",
      "state": {
       "_options_labels": [
        "tanh",
        "simple"
       ],
       "description": "Compression Function:",
       "index": 0,
       "layout": "IPY_MODEL_fc432e9edd84453bb2df66bd2de22509",
       "style": "IPY_MODEL_8478bc946ce843c6a8c8f35b356d72f7"
      }
     },
     "bb9ff2132d3a4d23a6ae54a803b6021f": {
      "model_module": "@jupyter-widgets/controls",
      "model_module_version": "1.5.0",
      "model_name": "ButtonModel",
      "state": {
       "description": "Reset Hue Controls",
       "layout": "IPY_MODEL_1bca98dcd7274fc5812ff75982493bab",
       "style": "IPY_MODEL_decf63753174498a989244cc7b68c02b"
      }
     },
     "bba33394d97148c89b014f60367d8d54": {
      "model_module": "@jupyter-widgets/base",
      "model_module_version": "1.2.0",
      "model_name": "LayoutModel",
      "state": {}
     },
     "bc6602d2aab24779aacf0b261913765c": {
      "model_module": "@jupyter-widgets/controls",
      "model_module_version": "1.5.0",
      "model_name": "ButtonModel",
      "state": {
       "description": "Save Figure",
       "layout": "IPY_MODEL_aa50e162756d4e40a07ef375da646397",
       "style": "IPY_MODEL_75bb0283aab545a292a6a2b6cf0d1000"
      }
     },
     "bcafcd82102143ee932091405aa61266": {
      "model_module": "@jupyter-widgets/base",
      "model_module_version": "1.2.0",
      "model_name": "LayoutModel",
      "state": {
       "border": "solid 4px #222",
       "margin": "4px",
       "padding": "0"
      }
     },
     "bd0714d0344d484aaafd587daa874da1": {
      "model_module": "@jupyter-widgets/base",
      "model_module_version": "1.2.0",
      "model_name": "LayoutModel",
      "state": {}
     },
     "bd7c3b31c8784af39af7f14bf4f35083": {
      "model_module": "@jupyter-widgets/base",
      "model_module_version": "1.2.0",
      "model_name": "LayoutModel",
      "state": {}
     },
     "bd81e6f2a0074497bee7542046b5546a": {
      "model_module": "@jupyter-widgets/base",
      "model_module_version": "1.2.0",
      "model_name": "LayoutModel",
      "state": {}
     },
     "bdce1f41fa09438cb80c8c2eba509338": {
      "model_module": "@jupyter-widgets/base",
      "model_module_version": "1.2.0",
      "model_name": "LayoutModel",
      "state": {}
     },
     "be19f786cdbc4a3c8389c74215294eb3": {
      "model_module": "@jupyter-widgets/controls",
      "model_module_version": "1.5.0",
      "model_name": "VBoxModel",
      "state": {
       "children": [
        "IPY_MODEL_0747e2d2de6d43339847bee90f14ada4",
        "IPY_MODEL_79b21657fa44477289aa54bba3578848",
        "IPY_MODEL_f8bba68281fb43f3a9595e3cc6670747"
       ],
       "layout": "IPY_MODEL_60677e4face1440496ab594c257c6cf0"
      }
     },
     "be34778094ed45aeb9176dc33fd3b0a0": {
      "model_module": "@jupyter-widgets/controls",
      "model_module_version": "1.5.0",
      "model_name": "SliderStyleModel",
      "state": {
       "description_width": ""
      }
     },
     "be7db891b7fd46a1a82534bb00358fe2": {
      "model_module": "@jupyter-widgets/base",
      "model_module_version": "1.2.0",
      "model_name": "LayoutModel",
      "state": {}
     },
     "bf1c0690a13747b6b8bf138d474e8dae": {
      "model_module": "@jupyter-widgets/controls",
      "model_module_version": "1.5.0",
      "model_name": "SliderStyleModel",
      "state": {
       "description_width": ""
      }
     },
     "bf1cbcfe42cd4717b188de342757dff0": {
      "model_module": "@jupyter-widgets/controls",
      "model_module_version": "1.5.0",
      "model_name": "ButtonModel",
      "state": {
       "description": "Export Image",
       "layout": "IPY_MODEL_6757d7a887e1482fa95b4e0a7333f0f0",
       "style": "IPY_MODEL_e057dfb0806049ecaf44c4e2c84683aa"
      }
     },
     "bf490acb46564d109d417b7980e9476b": {
      "model_module": "@jupyter-widgets/controls",
      "model_module_version": "1.5.0",
      "model_name": "HBoxModel",
      "state": {
       "children": [
        "IPY_MODEL_b9077b3a953445f38104263db25fb2f3",
        "IPY_MODEL_7800957f2b744af48f10635cb61fa0bc",
        "IPY_MODEL_d757a3b2c6da451e9e46c46afdc12bb1"
       ],
       "layout": "IPY_MODEL_f966e14872f34b1b8ee12f8f00cec40d"
      }
     },
     "bf4df5d5fe8b4eaba1f32efee7a5f298": {
      "model_module": "jupyter-matplotlib",
      "model_module_version": "^0.7.2",
      "model_name": "MPLCanvasModel",
      "state": {
       "_figure_label": "Figure 1",
       "_height": 458,
       "_width": 1100,
       "header_visible": false,
       "layout": "IPY_MODEL_53babffba61c412c8ad9f45088736aa8",
       "resizable": false,
       "toolbar": "IPY_MODEL_6c5ff51387204dc1a3456d9c582ad25a",
       "toolbar_position": "left",
       "toolbar_visible": false
      }
     },
     "bf874eb562eb4894a7909a36ea82f97d": {
      "model_module": "@jupyter-widgets/controls",
      "model_module_version": "1.5.0",
      "model_name": "ButtonStyleModel",
      "state": {}
     },
     "bf956edce5bc4df6be2afffe613d838e": {
      "model_module": "@jupyter-widgets/base",
      "model_module_version": "1.2.0",
      "model_name": "LayoutModel",
      "state": {
       "border": "solid 4px #222",
       "margin": "4px",
       "padding": "0"
      }
     },
     "bfa73c4e06e548c593e15dbc9d9d47ad": {
      "model_module": "@jupyter-widgets/base",
      "model_module_version": "1.2.0",
      "model_name": "LayoutModel",
      "state": {}
     },
     "bfc99db313704e559c5e19eb0137e1f3": {
      "model_module": "@jupyter-widgets/base",
      "model_module_version": "1.2.0",
      "model_name": "LayoutModel",
      "state": {}
     },
     "bfd88b295cd84273956d28134047a544": {
      "model_module": "@jupyter-widgets/base",
      "model_module_version": "1.2.0",
      "model_name": "LayoutModel",
      "state": {}
     },
     "c0175488d6d54ed0963ec5b898c44f4e": {
      "model_module": "@jupyter-widgets/controls",
      "model_module_version": "1.5.0",
      "model_name": "FloatSliderModel",
      "state": {
       "description": "Exposure",
       "layout": "IPY_MODEL_d76d37242f9f45ab97e40c80a671cfda",
       "max": 8,
       "min": -8,
       "step": 0.1,
       "style": "IPY_MODEL_48b2a7f3c75246588792d82b52b4e798"
      }
     },
     "c035725810104197873368abc00adda5": {
      "model_module": "@jupyter-widgets/controls",
      "model_module_version": "1.5.0",
      "model_name": "SliderStyleModel",
      "state": {
       "description_width": ""
      }
     },
     "c072da486c164366af1cde57cf89641c": {
      "model_module": "@jupyter-widgets/controls",
      "model_module_version": "1.5.0",
      "model_name": "CheckboxModel",
      "state": {
       "description": "Disable Medicina",
       "disabled": false,
       "layout": "IPY_MODEL_d7beceed41094f21b3204541b4940a06",
       "style": "IPY_MODEL_64919914249f449f874f29d325bee760",
       "value": false
      }
     },
     "c0a7898f3e37400a9a4968a711f5becd": {
      "model_module": "@jupyter-widgets/controls",
      "model_module_version": "1.5.0",
      "model_name": "SliderStyleModel",
      "state": {
       "description_width": ""
      }
     },
     "c0fbabbf4b874cff9132b198a64f8c0d": {
      "model_module": "@jupyter-widgets/base",
      "model_module_version": "1.2.0",
      "model_name": "LayoutModel",
      "state": {}
     },
     "c13628f2572940bbbdf932b047053fc1": {
      "model_module": "@jupyter-widgets/base",
      "model_module_version": "1.2.0",
      "model_name": "LayoutModel",
      "state": {
       "border": "solid 4px #222",
       "margin": "4px",
       "padding": "0"
      }
     },
     "c1f7163fd927473887c63dec8d82cb92": {
      "model_module": "@jupyter-widgets/base",
      "model_module_version": "1.2.0",
      "model_name": "LayoutModel",
      "state": {}
     },
     "c2168a6118ec4ca0aea7a290e38fdd86": {
      "model_module": "@jupyter-widgets/controls",
      "model_module_version": "1.5.0",
      "model_name": "SliderStyleModel",
      "state": {
       "description_width": ""
      }
     },
     "c2a25c17b2ea46f493693b460faacd2e": {
      "model_module": "@jupyter-widgets/base",
      "model_module_version": "1.2.0",
      "model_name": "LayoutModel",
      "state": {}
     },
     "c2eb0acfa31e446f86519549fc77b498": {
      "model_module": "@jupyter-widgets/controls",
      "model_module_version": "1.5.0",
      "model_name": "DropdownModel",
      "state": {
       "_options_labels": [
        "tanh",
        "simple"
       ],
       "description": "Compression Function:",
       "index": 0,
       "layout": "IPY_MODEL_7d5038e214924bc8a23d69728cc17749",
       "style": "IPY_MODEL_2bfebfe43b7244d4ad3bdba5ee8f2ef4"
      }
     },
     "c36d2b53ebb8478cbc20cfb7e28d776d": {
      "model_module": "@jupyter-widgets/base",
      "model_module_version": "1.2.0",
      "model_name": "LayoutModel",
      "state": {
       "border": "solid 4px #222",
       "margin": "4px",
       "padding": "0"
      }
     },
     "c37f37a6629c4834918c467e29d30d63": {
      "model_module": "@jupyter-widgets/base",
      "model_module_version": "1.2.0",
      "model_name": "LayoutModel",
      "state": {}
     },
     "c405b118bf1a45b6bfcca791ecdf221c": {
      "model_module": "@jupyter-widgets/base",
      "model_module_version": "1.2.0",
      "model_name": "LayoutModel",
      "state": {}
     },
     "c44eafd5ee9e49559348e8620f01d1b4": {
      "model_module": "@jupyter-widgets/controls",
      "model_module_version": "1.5.0",
      "model_name": "VBoxModel",
      "state": {
       "children": [
        "IPY_MODEL_d8345377b41643beb97be0e2180d3ceb"
       ],
       "layout": "IPY_MODEL_20801357a23a46a6b5591a32825c749f"
      }
     },
     "c486e748c0fe45b7b48db968eaa1821e": {
      "model_module": "@jupyter-widgets/controls",
      "model_module_version": "1.5.0",
      "model_name": "ButtonStyleModel",
      "state": {}
     },
     "c491ab39fa1b4804a8678b555623bdf5": {
      "model_module": "@jupyter-widgets/base",
      "model_module_version": "1.2.0",
      "model_name": "LayoutModel",
      "state": {}
     },
     "c49246be495247f1acb6a2137d60bd73": {
      "model_module": "@jupyter-widgets/controls",
      "model_module_version": "1.5.0",
      "model_name": "FloatSliderModel",
      "state": {
       "description": "180°",
       "layout": "IPY_MODEL_c96e5f913172480e8d251500d8296dbe",
       "max": 1,
       "min": -1,
       "step": 0.01,
       "style": "IPY_MODEL_205fb20ccc7b412a955952978a6fce4b"
      }
     },
     "c4a3160868a14fc5a468fd489785762f": {
      "model_module": "@jupyter-widgets/controls",
      "model_module_version": "1.5.0",
      "model_name": "SliderStyleModel",
      "state": {
       "description_width": ""
      }
     },
     "c4b91183fbb34dc1a31a41719c858138": {
      "model_module": "@jupyter-widgets/base",
      "model_module_version": "1.2.0",
      "model_name": "LayoutModel",
      "state": {}
     },
     "c4c679b7af2c4553bf28ab40b020f0c9": {
      "model_module": "@jupyter-widgets/controls",
      "model_module_version": "1.5.0",
      "model_name": "VBoxModel",
      "state": {
       "children": [
        "IPY_MODEL_f5139fd1bc51435393a5c03b951892b1",
        "IPY_MODEL_e3eef1bb655f4a888997172a9d1c0444"
       ],
       "layout": "IPY_MODEL_39705db63fc844468d71bf00cf79c662"
      }
     },
     "c4d242c354714d4ea2188f5ac578abb8": {
      "model_module": "@jupyter-widgets/controls",
      "model_module_version": "1.5.0",
      "model_name": "ButtonModel",
      "state": {
       "description": "Reset Hue Controls",
       "layout": "IPY_MODEL_a1a9661b442a46659f3ad2cea71bdac8",
       "style": "IPY_MODEL_020d48eeb2434d05926291f590dfb488"
      }
     },
     "c4de26c7e7e54ff0a679e7b40630f723": {
      "model_module": "@jupyter-widgets/base",
      "model_module_version": "1.2.0",
      "model_name": "LayoutModel",
      "state": {}
     },
     "c5367c035aba4d17a5f683ef602c49dc": {
      "model_module": "@jupyter-widgets/base",
      "model_module_version": "1.2.0",
      "model_name": "LayoutModel",
      "state": {}
     },
     "c56c254b093e492e9f1871865e4e1312": {
      "model_module": "@jupyter-widgets/controls",
      "model_module_version": "1.5.0",
      "model_name": "VBoxModel",
      "state": {
       "children": [
        "IPY_MODEL_02a291ebb60e44739a28cbf936db0a8f"
       ],
       "layout": "IPY_MODEL_1d29f00fa281494eb6327aaa68821692"
      }
     },
     "c5fdf375a0e14b139e82c163acba1290": {
      "model_module": "@jupyter-widgets/base",
      "model_module_version": "1.2.0",
      "model_name": "LayoutModel",
      "state": {}
     },
     "c6006c17a106459cbf35cb731d275f84": {
      "model_module": "@jupyter-widgets/base",
      "model_module_version": "1.2.0",
      "model_name": "LayoutModel",
      "state": {}
     },
     "c629be735c5b4b03903994ccb5f011a2": {
      "model_module": "jupyter-matplotlib",
      "model_module_version": "^0.7.2",
      "model_name": "ToolbarModel",
      "state": {
       "layout": "IPY_MODEL_6bf639ae55574b27a554100e6256b98d",
       "toolitems": [
        [
         "Home",
         "Reset original view",
         "home",
         "home"
        ],
        [
         "Back",
         "Back to previous view",
         "arrow-left",
         "back"
        ],
        [
         "Forward",
         "Forward to next view",
         "arrow-right",
         "forward"
        ],
        [
         "Pan",
         "Pan axes with left mouse, zoom with right",
         "arrows",
         "pan"
        ],
        [
         "Zoom",
         "Zoom to rectangle",
         "square-o",
         "zoom"
        ],
        [
         "Download",
         "Download plot",
         "floppy-o",
         "save_figure"
        ]
       ]
      }
     },
     "c6915f27dd6e4ff59f64b21711f40637": {
      "model_module": "@jupyter-widgets/base",
      "model_module_version": "1.2.0",
      "model_name": "LayoutModel",
      "state": {}
     },
     "c69eb9ec1a1f49a3b401b99bf05d2105": {
      "model_module": "jupyter-matplotlib",
      "model_module_version": "^0.7.2",
      "model_name": "ToolbarModel",
      "state": {
       "layout": "IPY_MODEL_ab773ed1ab724ae7813b755b41b0bf5e",
       "toolitems": [
        [
         "Home",
         "Reset original view",
         "home",
         "home"
        ],
        [
         "Back",
         "Back to previous view",
         "arrow-left",
         "back"
        ],
        [
         "Forward",
         "Forward to next view",
         "arrow-right",
         "forward"
        ],
        [
         "Pan",
         "Pan axes with left mouse, zoom with right",
         "arrows",
         "pan"
        ],
        [
         "Zoom",
         "Zoom to rectangle",
         "square-o",
         "zoom"
        ],
        [
         "Download",
         "Download plot",
         "floppy-o",
         "save_figure"
        ]
       ]
      }
     },
     "c6a63393869744b48fa501b59a222b44": {
      "model_module": "@jupyter-widgets/controls",
      "model_module_version": "1.5.0",
      "model_name": "ButtonStyleModel",
      "state": {}
     },
     "c6ee7b3a40924d488082a1b60c970453": {
      "model_module": "@jupyter-widgets/base",
      "model_module_version": "1.2.0",
      "model_name": "LayoutModel",
      "state": {}
     },
     "c6f041b1a3b44e55aea3fb057240e96c": {
      "model_module": "@jupyter-widgets/controls",
      "model_module_version": "1.5.0",
      "model_name": "ButtonStyleModel",
      "state": {}
     },
     "c73ba4b51b9f40ffb0e0a7c82dacb41c": {
      "model_module": "@jupyter-widgets/base",
      "model_module_version": "1.2.0",
      "model_name": "LayoutModel",
      "state": {
       "border": "solid 4px #222",
       "margin": "4px",
       "padding": "0"
      }
     },
     "c7deebb75b2b4b2e9f8725163e161a59": {
      "model_module": "@jupyter-widgets/controls",
      "model_module_version": "1.5.0",
      "model_name": "CheckboxModel",
      "state": {
       "description": "Disable Medicina",
       "disabled": false,
       "layout": "IPY_MODEL_df13f6575f5146fd90878ba81558a2d2",
       "style": "IPY_MODEL_2f7cc399cf7e43de95344fbd1d81a869",
       "value": false
      }
     },
     "c820432b657049acbd5f071fe1ee4e68": {
      "model_module": "@jupyter-widgets/controls",
      "model_module_version": "1.5.0",
      "model_name": "ButtonModel",
      "state": {
       "description": "Reset Compression Controls",
       "layout": "IPY_MODEL_56ce190365684e1ca9578716f52c3319",
       "style": "IPY_MODEL_94c06fdfd0ba44b6ad2165d152585c9a"
      }
     },
     "c8637456cae94b4a8aaf7bb56680ba4b": {
      "model_module": "@jupyter-widgets/controls",
      "model_module_version": "1.5.0",
      "model_name": "ButtonModel",
      "state": {
       "description": "Export Image",
       "layout": "IPY_MODEL_1df1c80f188e48bc9fef3221da6c616d",
       "style": "IPY_MODEL_9c92c1799f7843bda100f02c6521d527"
      }
     },
     "c87845410e754d0595dbbc9fcd3acb27": {
      "model_module": "@jupyter-widgets/controls",
      "model_module_version": "1.5.0",
      "model_name": "CheckboxModel",
      "state": {
       "description": "Disable Medicina",
       "disabled": false,
       "layout": "IPY_MODEL_07e9510605044077bed65866dce7d667",
       "style": "IPY_MODEL_e56b91f135e84af9b1f32e11d750bbc2",
       "value": false
      }
     },
     "c88b8ca3abb34c7d8ae9937f5f4bf699": {
      "model_module": "@jupyter-widgets/controls",
      "model_module_version": "1.5.0",
      "model_name": "HBoxModel",
      "state": {
       "children": [
        "IPY_MODEL_8d0f0561cbc94dbf9f3d6e7ca15ffe7c",
        "IPY_MODEL_f4e1a3f3905c4ffc91445d3d7c181c08",
        "IPY_MODEL_b79ffd29394c4734ad7e5c4a3eb55136",
        "IPY_MODEL_88b4a92cdda246ecb715c67afeba6998"
       ],
       "layout": "IPY_MODEL_11db58f101ab4b5b8f23a81d50980982"
      }
     },
     "c8bf2bd9b631431fba20a572461b08f4": {
      "model_module": "@jupyter-widgets/controls",
      "model_module_version": "1.5.0",
      "model_name": "FloatSliderModel",
      "state": {
       "description": "Protected Area Threshold",
       "layout": "IPY_MODEL_003c400ab62245d9879bfa4e5fdccaca",
       "max": 1,
       "step": 0.01,
       "style": "IPY_MODEL_4173aac296ca44f6b2a4e770d613174d",
       "value": 0.7
      }
     },
     "c8f7ee2f11fe41a9b1e627557d603d4f": {
      "model_module": "@jupyter-widgets/base",
      "model_module_version": "1.2.0",
      "model_name": "LayoutModel",
      "state": {}
     },
     "c93c37bb090741acb7dcd32225206222": {
      "model_module": "jupyter-matplotlib",
      "model_module_version": "^0.7.2",
      "model_name": "MPLCanvasModel",
      "state": {
       "_figure_label": "Figure 25",
       "_height": 550,
       "_image_mode": "diff",
       "_message": "x= y=",
       "_width": 1100,
       "header_visible": false,
       "layout": "IPY_MODEL_1dc1d31931a74ef4bfabe3d7296eca37",
       "resizable": false,
       "toolbar": "IPY_MODEL_6b5503c9b5a344aca3cecbf6e9b1b3f0",
       "toolbar_position": "left",
       "toolbar_visible": false
      }
     },
     "c9440e714ff74afca8b998fc8fa40695": {
      "model_module": "@jupyter-widgets/controls",
      "model_module_version": "1.5.0",
      "model_name": "FloatSliderModel",
      "state": {
       "description": "135°",
       "layout": "IPY_MODEL_caa3a0f8bc6e4521a6779650ca020924",
       "max": 1,
       "min": -1,
       "step": 0.01,
       "style": "IPY_MODEL_6a000404d93c4956aa5b37b8c9752c37"
      }
     },
     "c96e5f913172480e8d251500d8296dbe": {
      "model_module": "@jupyter-widgets/base",
      "model_module_version": "1.2.0",
      "model_name": "LayoutModel",
      "state": {}
     },
     "c97adaa39d694722879e496710b8c85e": {
      "model_module": "@jupyter-widgets/controls",
      "model_module_version": "1.5.0",
      "model_name": "ButtonStyleModel",
      "state": {}
     },
     "c9e755bfeb5a46ba8a05557513f54a33": {
      "model_module": "@jupyter-widgets/controls",
      "model_module_version": "1.5.0",
      "model_name": "FloatSliderModel",
      "state": {
       "description": "180°",
       "layout": "IPY_MODEL_9d4a81f2e18343db8818d8b0c6073d06",
       "max": 1,
       "min": -1,
       "step": 0.01,
       "style": "IPY_MODEL_38300ce01e914c54825ac113e79a1626"
      }
     },
     "c9ee8e8ef5cd40d59fec2e3e2b63bcb1": {
      "model_module": "@jupyter-widgets/base",
      "model_module_version": "1.2.0",
      "model_name": "LayoutModel",
      "state": {}
     },
     "c9f303f45b6b400598814ad13e6b6bec": {
      "model_module": "@jupyter-widgets/base",
      "model_module_version": "1.2.0",
      "model_name": "LayoutModel",
      "state": {}
     },
     "ca1eb7192da944dc971264ed22fa1a51": {
      "model_module": "@jupyter-widgets/base",
      "model_module_version": "1.2.0",
      "model_name": "LayoutModel",
      "state": {}
     },
     "ca665afa773a4e05be5879cb756691fa": {
      "model_module": "@jupyter-widgets/controls",
      "model_module_version": "1.5.0",
      "model_name": "ButtonModel",
      "state": {
       "description": "Reset Saturation Controls",
       "layout": "IPY_MODEL_30b32197a8ac417d9ddb7eb8ee95afc4",
       "style": "IPY_MODEL_5e4858a6cab545e6952797ca20912b74"
      }
     },
     "ca836dde664f437aa5ddac359d4ae8d2": {
      "model_module": "@jupyter-widgets/controls",
      "model_module_version": "1.5.0",
      "model_name": "ButtonStyleModel",
      "state": {}
     },
     "caa3a0f8bc6e4521a6779650ca020924": {
      "model_module": "@jupyter-widgets/base",
      "model_module_version": "1.2.0",
      "model_name": "LayoutModel",
      "state": {}
     },
     "cabfc878eede4029b04d980253baefc4": {
      "model_module": "@jupyter-widgets/base",
      "model_module_version": "1.2.0",
      "model_name": "LayoutModel",
      "state": {}
     },
     "cb19532c0c084bf8ad217fcf393c7724": {
      "model_module": "@jupyter-widgets/base",
      "model_module_version": "1.2.0",
      "model_name": "LayoutModel",
      "state": {}
     },
     "cb8849c287ca466d958664530824b225": {
      "model_module": "@jupyter-widgets/controls",
      "model_module_version": "1.5.0",
      "model_name": "ButtonStyleModel",
      "state": {}
     },
     "cc2c288cd1c6418b9ed282c7c3aaf34e": {
      "model_module": "@jupyter-widgets/base",
      "model_module_version": "1.2.0",
      "model_name": "LayoutModel",
      "state": {}
     },
     "cc31f09e5d894d879304fc5efb6784cf": {
      "model_module": "@jupyter-widgets/controls",
      "model_module_version": "1.5.0",
      "model_name": "ButtonModel",
      "state": {
       "description": "Save Figure",
       "layout": "IPY_MODEL_90987c05922546e495f988223821692c",
       "style": "IPY_MODEL_ac5efd8598464a05a15cc329f2cfd589"
      }
     },
     "cc5da4511d2a409d9efad4453c35a242": {
      "model_module": "@jupyter-widgets/controls",
      "model_module_version": "1.5.0",
      "model_name": "CheckboxModel",
      "state": {
       "description": "Disable Medicina",
       "disabled": false,
       "layout": "IPY_MODEL_535d3e2b4c574ee4a461c010a7dcac55",
       "style": "IPY_MODEL_100d0d12803b43c7987f01322cf377fb",
       "value": false
      }
     },
     "ccb540a3f7d94abb9c733e16c6ef17a3": {
      "model_module": "@jupyter-widgets/controls",
      "model_module_version": "1.5.0",
      "model_name": "ButtonModel",
      "state": {
       "description": "Save Figure",
       "layout": "IPY_MODEL_92fcf203408949f2a8b16a2572cb77fb",
       "style": "IPY_MODEL_eeb1a347a2684f3ab62555cd70b3bef8"
      }
     },
     "cd4e6b89510f44f695891cdf9fc8da85": {
      "model_module": "@jupyter-widgets/controls",
      "model_module_version": "1.5.0",
      "model_name": "DropdownModel",
      "state": {
       "_options_labels": [
        "tanh",
        "simple"
       ],
       "description": "Compression Function:",
       "index": 0,
       "layout": "IPY_MODEL_ab11679c474344f6a0db6cd4cb04789f",
       "style": "IPY_MODEL_350f31bcb32349d69d63f64881af738a"
      }
     },
     "cd59e30ebb66498181815a1c122988fb": {
      "model_module": "@jupyter-widgets/base",
      "model_module_version": "1.2.0",
      "model_name": "LayoutModel",
      "state": {}
     },
     "ce6f786c65684955b7dc711756e1606e": {
      "model_module": "@jupyter-widgets/controls",
      "model_module_version": "1.5.0",
      "model_name": "ButtonStyleModel",
      "state": {}
     },
     "ce77f779496f4243938e293c1d71218e": {
      "model_module": "@jupyter-widgets/base",
      "model_module_version": "1.2.0",
      "model_name": "LayoutModel",
      "state": {}
     },
     "ce7a0830aaf44aba87d08f7b1fd80186": {
      "model_module": "@jupyter-widgets/controls",
      "model_module_version": "1.5.0",
      "model_name": "ButtonModel",
      "state": {
       "description": "Reset Compression Controls",
       "layout": "IPY_MODEL_32a3d108cd2a436c938669eafe5d61d6",
       "style": "IPY_MODEL_956957a89e204b78b3db245bc24056e0"
      }
     },
     "ce9a22172c844a8980e334b546fbc31a": {
      "model_module": "jupyter-matplotlib",
      "model_module_version": "^0.7.2",
      "model_name": "ToolbarModel",
      "state": {
       "layout": "IPY_MODEL_dbd3b7222fa743a4aa56378bc2fdc845",
       "toolitems": [
        [
         "Home",
         "Reset original view",
         "home",
         "home"
        ],
        [
         "Back",
         "Back to previous view",
         "arrow-left",
         "back"
        ],
        [
         "Forward",
         "Forward to next view",
         "arrow-right",
         "forward"
        ],
        [
         "Pan",
         "Pan axes with left mouse, zoom with right",
         "arrows",
         "pan"
        ],
        [
         "Zoom",
         "Zoom to rectangle",
         "square-o",
         "zoom"
        ],
        [
         "Download",
         "Download plot",
         "floppy-o",
         "save_figure"
        ]
       ]
      }
     },
     "ceb3076e66a04f8fb2db208fadb8e0a3": {
      "model_module": "@jupyter-widgets/base",
      "model_module_version": "1.2.0",
      "model_name": "LayoutModel",
      "state": {}
     },
     "ceee2efab0fa403e838057c0551c9a7e": {
      "model_module": "@jupyter-widgets/base",
      "model_module_version": "1.2.0",
      "model_name": "LayoutModel",
      "state": {}
     },
     "cf22b0af6976401c9962f275145b03a0": {
      "model_module": "@jupyter-widgets/controls",
      "model_module_version": "1.5.0",
      "model_name": "ButtonModel",
      "state": {
       "description": "Reset Saturation Controls",
       "layout": "IPY_MODEL_4f526c85642d4ef59c30e6663abbd458",
       "style": "IPY_MODEL_99be6be085d04bd1b141e3cc2c256a03"
      }
     },
     "cf43c8902d89467788a35f0dee387244": {
      "model_module": "@jupyter-widgets/controls",
      "model_module_version": "1.5.0",
      "model_name": "ButtonModel",
      "state": {
       "description": "Save Figure",
       "layout": "IPY_MODEL_0a6d09cd826b4510b85393115add615f",
       "style": "IPY_MODEL_b5e066b4fb8e4a4bba711b340184abff"
      }
     },
     "cf6d959a8a2d41328c1b538e3b1f7b54": {
      "model_module": "@jupyter-widgets/controls",
      "model_module_version": "1.5.0",
      "model_name": "FloatSliderModel",
      "state": {
       "description": "90°",
       "layout": "IPY_MODEL_2770f9d8f3cd43378cecd6a9bfba5c81",
       "max": 1,
       "min": -1,
       "step": 0.01,
       "style": "IPY_MODEL_592c58e1767c4d2494440fb668363204"
      }
     },
     "cfa21ed97f504332abcd47abf2605f5f": {
      "model_module": "@jupyter-widgets/controls",
      "model_module_version": "1.5.0",
      "model_name": "TabModel",
      "state": {
       "_titles": {
        "0": "Global Controls",
        "1": "Protected Area Controls",
        "2": "Saturation Controls",
        "3": "Hue Controls"
       },
       "children": [
        "IPY_MODEL_4a4fd19cb5854379914a65abaca2bf3b",
        "IPY_MODEL_4ec28e1f8e804c3eb02fccad795b5de2",
        "IPY_MODEL_d6941dde296344149fa7496da5c068c1",
        "IPY_MODEL_1c3171c3fc0c46d5bdd38f4b7270dd0f"
       ],
       "layout": "IPY_MODEL_8cc0eae170c74c52876b0ec516805e9b"
      }
     },
     "cfc286f09b54446d80224e2b3a03c224": {
      "model_module": "@jupyter-widgets/controls",
      "model_module_version": "1.5.0",
      "model_name": "FloatSliderModel",
      "state": {
       "description": "225°",
       "layout": "IPY_MODEL_55e65933b74840568a8379322ebcf473",
       "max": 1,
       "min": -1,
       "step": 0.01,
       "style": "IPY_MODEL_42a3005c6c854663977cb8337c0c0e3c"
      }
     },
     "cffc91f3dfef4a42a8635b8c75b997ef": {
      "model_module": "@jupyter-widgets/controls",
      "model_module_version": "1.5.0",
      "model_name": "SliderStyleModel",
      "state": {
       "description_width": ""
      }
     },
     "d08dc36fafef465bb69b15c12b7e6881": {
      "model_module": "@jupyter-widgets/base",
      "model_module_version": "1.2.0",
      "model_name": "LayoutModel",
      "state": {}
     },
     "d10dba092ab741a5a487022c58c82b29": {
      "model_module": "@jupyter-widgets/controls",
      "model_module_version": "1.5.0",
      "model_name": "FloatSliderModel",
      "state": {
       "description": "Protected Area Threshold",
       "layout": "IPY_MODEL_068be0fedff847cab7bbb36d2e20940d",
       "max": 1,
       "step": 0.01,
       "style": "IPY_MODEL_0d4e944b5f1744a0b5c727bba068b195",
       "value": 0.7
      }
     },
     "d195f0f3f97241d78a307e6404a40465": {
      "model_module": "@jupyter-widgets/controls",
      "model_module_version": "1.5.0",
      "model_name": "DescriptionStyleModel",
      "state": {
       "description_width": ""
      }
     },
     "d1cf369a1b684514bbb94b7b35f6f989": {
      "model_module": "@jupyter-widgets/controls",
      "model_module_version": "1.5.0",
      "model_name": "SliderStyleModel",
      "state": {
       "description_width": ""
      }
     },
     "d1d1ae2511144a55980d80661cecad1d": {
      "model_module": "@jupyter-widgets/controls",
      "model_module_version": "1.5.0",
      "model_name": "BoxModel",
      "state": {
       "children": [
        "IPY_MODEL_f246e84fecea48098bd6e588cb79c88c",
        "IPY_MODEL_4ef7f7c2897a4be1970621cfc5b1dc99"
       ],
       "layout": "IPY_MODEL_d881f4e1063c45748b94af196c487968"
      }
     },
     "d1ddf26e23d14baca8d39b6bf479ef5d": {
      "model_module": "@jupyter-widgets/controls",
      "model_module_version": "1.5.0",
      "model_name": "ButtonModel",
      "state": {
       "description": "Reset Saturation Controls",
       "layout": "IPY_MODEL_da7cdbeffb7741b2812235a91b156c7e",
       "style": "IPY_MODEL_a15097b0940c4115b32db47197c1f494"
      }
     },
     "d21bc12d055e49ada524f25c62946970": {
      "model_module": "@jupyter-widgets/controls",
      "model_module_version": "1.5.0",
      "model_name": "ButtonModel",
      "state": {
       "description": "Export Image",
       "layout": "IPY_MODEL_31704f6ceb28404abe1848beacb8a1e2",
       "style": "IPY_MODEL_35220df51f394dd7a06f7f99ff475125"
      }
     },
     "d232f6f522d045489e75191e957080f8": {
      "model_module": "@jupyter-widgets/base",
      "model_module_version": "1.2.0",
      "model_name": "LayoutModel",
      "state": {}
     },
     "d2595a7c75cd488bad46b32f5ec21126": {
      "model_module": "@jupyter-widgets/controls",
      "model_module_version": "1.5.0",
      "model_name": "FloatSliderModel",
      "state": {
       "description": "135°",
       "layout": "IPY_MODEL_729da4b1d2984d3ebbc9a08d1796499a",
       "max": 1,
       "min": -1,
       "step": 0.01,
       "style": "IPY_MODEL_75563394a2f945ffaf2e48985c000ce8"
      }
     },
     "d26aa0609af747ec8b27bbe89036b90e": {
      "model_module": "@jupyter-widgets/base",
      "model_module_version": "1.2.0",
      "model_name": "LayoutModel",
      "state": {}
     },
     "d27ca3aa0ed74bdba8ff01b1883ea40e": {
      "model_module": "@jupyter-widgets/base",
      "model_module_version": "1.2.0",
      "model_name": "LayoutModel",
      "state": {}
     },
     "d2af9bea51d74ca4af4b78175526eba1": {
      "model_module": "@jupyter-widgets/base",
      "model_module_version": "1.2.0",
      "model_name": "LayoutModel",
      "state": {}
     },
     "d2db3673023f4b5eb9b66f5e37a1bff2": {
      "model_module": "@jupyter-widgets/controls",
      "model_module_version": "1.5.0",
      "model_name": "SliderStyleModel",
      "state": {
       "description_width": ""
      }
     },
     "d310e78006b7411b9492a0dadce2bc8d": {
      "model_module": "@jupyter-widgets/base",
      "model_module_version": "1.2.0",
      "model_name": "LayoutModel",
      "state": {}
     },
     "d3276a9774324e889c7b111e6af67496": {
      "model_module": "@jupyter-widgets/base",
      "model_module_version": "1.2.0",
      "model_name": "LayoutModel",
      "state": {
       "border": "solid 4px #222",
       "margin": "4px",
       "padding": "0"
      }
     },
     "d3348af644c3451d9c917792ddfbb261": {
      "model_module": "@jupyter-widgets/controls",
      "model_module_version": "1.5.0",
      "model_name": "FloatSliderModel",
      "state": {
       "description": "Protected Area Threshold",
       "layout": "IPY_MODEL_a6793dce97244805817bff97d67c7d0c",
       "max": 1,
       "step": 0.01,
       "style": "IPY_MODEL_56f574c9572741f3a21e225df08f1bcc",
       "value": 0.7
      }
     },
     "d345883a17fc49ff86a5903d0af4ac02": {
      "model_module": "@jupyter-widgets/controls",
      "model_module_version": "1.5.0",
      "model_name": "DropdownModel",
      "state": {
       "_options_labels": [
        "tanh",
        "simple"
       ],
       "description": "Compression Function:",
       "index": 0,
       "layout": "IPY_MODEL_688d4f810e434ef288fbc42bedab53d8",
       "style": "IPY_MODEL_8ed0b8367c6e427e946ec174b983489d"
      }
     },
     "d3ba593d6d5a48298d9180b85c0e0e94": {
      "model_module": "@jupyter-widgets/base",
      "model_module_version": "1.2.0",
      "model_name": "LayoutModel",
      "state": {}
     },
     "d3ebc35d8c854e3cb44f66e0ec5729f9": {
      "model_module": "@jupyter-widgets/base",
      "model_module_version": "1.2.0",
      "model_name": "LayoutModel",
      "state": {
       "border": "solid 4px #222",
       "margin": "4px",
       "padding": "0"
      }
     },
     "d4288b8e123642ba88145dfab6abfa36": {
      "model_module": "@jupyter-widgets/controls",
      "model_module_version": "1.5.0",
      "model_name": "FloatSliderModel",
      "state": {
       "description": "135°",
       "layout": "IPY_MODEL_ab72e692b81e4db988ed06af1124d458",
       "max": 1,
       "min": -1,
       "step": 0.01,
       "style": "IPY_MODEL_325ae30fbb0a4544a203b1231dee6e82"
      }
     },
     "d4aa16e1229e40de9d95d77c5d2d3c8b": {
      "model_module": "@jupyter-widgets/controls",
      "model_module_version": "1.5.0",
      "model_name": "TabModel",
      "state": {
       "_titles": {
        "0": "Global Controls",
        "1": "Protected Area Controls",
        "2": "Saturation Controls",
        "3": "Hue Controls"
       },
       "children": [
        "IPY_MODEL_af720af13b244028964b2b603a2621ec",
        "IPY_MODEL_4310c9b255824df3a764320de0bc55f0",
        "IPY_MODEL_91c22d0a8a0c43a58c6f3614fe538216",
        "IPY_MODEL_6ecee7663a27439aae95fd93137d28f1"
       ],
       "layout": "IPY_MODEL_44c51fe836b14a6a931c39753ca0d152"
      }
     },
     "d516843f1d804a33aedc8c409d11efce": {
      "model_module": "@jupyter-widgets/base",
      "model_module_version": "1.2.0",
      "model_name": "LayoutModel",
      "state": {
       "align_items": "stretch",
       "display": "flex",
       "flex_flow": "column",
       "width": "1128px"
      }
     },
     "d5333383b6c8440382cd24da1fb731ff": {
      "model_module": "@jupyter-widgets/controls",
      "model_module_version": "1.5.0",
      "model_name": "DropdownModel",
      "state": {
       "_options_labels": [
        "tanh",
        "simple"
       ],
       "description": "Compression Function:",
       "index": 0,
       "layout": "IPY_MODEL_7718de78a8a9480c8b8ab7188e95a7d8",
       "style": "IPY_MODEL_06f89578115f49ad909546842c3c2c11"
      }
     },
     "d569674993ce4b7eb7359d42df1c30d8": {
      "model_module": "@jupyter-widgets/base",
      "model_module_version": "1.2.0",
      "model_name": "LayoutModel",
      "state": {}
     },
     "d56f16cd644d434bb8929b399a1b0118": {
      "model_module": "@jupyter-widgets/controls",
      "model_module_version": "1.5.0",
      "model_name": "SliderStyleModel",
      "state": {
       "description_width": ""
      }
     },
     "d57bb3db0a204697a81759601e378f13": {
      "model_module": "@jupyter-widgets/controls",
      "model_module_version": "1.5.0",
      "model_name": "FloatSliderModel",
      "state": {
       "description": "45°",
       "layout": "IPY_MODEL_07a2f20ca3204fe5a752a69a3dbb8aa2",
       "max": 1,
       "min": -1,
       "step": 0.01,
       "style": "IPY_MODEL_c0a7898f3e37400a9a4968a711f5becd"
      }
     },
     "d57e2ee3786f47f68cda44eda3be437f": {
      "model_module": "@jupyter-widgets/controls",
      "model_module_version": "1.5.0",
      "model_name": "SliderStyleModel",
      "state": {
       "description_width": ""
      }
     },
     "d5abd03259524a43a91aee497eb43b27": {
      "model_module": "@jupyter-widgets/controls",
      "model_module_version": "1.5.0",
      "model_name": "DescriptionStyleModel",
      "state": {
       "description_width": ""
      }
     },
     "d636fb037b5f40b6b63720f07de8a9e8": {
      "model_module": "@jupyter-widgets/controls",
      "model_module_version": "1.5.0",
      "model_name": "ButtonModel",
      "state": {
       "description": "Reset Protected Area",
       "layout": "IPY_MODEL_ea961e5450eb462eb7eb555d5e9aa226",
       "style": "IPY_MODEL_970c2de7c3d0465c8bdda2ac100d84b1"
      }
     },
     "d64fae42669e453fa1aa592f13749ec9": {
      "model_module": "@jupyter-widgets/base",
      "model_module_version": "1.2.0",
      "model_name": "LayoutModel",
      "state": {}
     },
     "d6941dde296344149fa7496da5c068c1": {
      "model_module": "@jupyter-widgets/controls",
      "model_module_version": "1.5.0",
      "model_name": "HBoxModel",
      "state": {
       "children": [
        "IPY_MODEL_042ae7082c5c42b79efd70f78c79e1b3",
        "IPY_MODEL_67dd1a8c1d05461db2c586df82121313",
        "IPY_MODEL_96f83c04071f4f71be475a7885307261"
       ],
       "layout": "IPY_MODEL_57cb7a909eef47d4836e70d82213620a"
      }
     },
     "d6b7b3a6858d43e7bd64a2a6a7fa086d": {
      "model_module": "@jupyter-widgets/base",
      "model_module_version": "1.2.0",
      "model_name": "LayoutModel",
      "state": {}
     },
     "d71d4e86e8594009837009a6b3a6d4bb": {
      "model_module": "@jupyter-widgets/controls",
      "model_module_version": "1.5.0",
      "model_name": "HBoxModel",
      "state": {
       "children": [
        "IPY_MODEL_c44eafd5ee9e49559348e8620f01d1b4",
        "IPY_MODEL_11a0ade1416d496c94f02c0409ea041b",
        "IPY_MODEL_55b77d6c9bd04c668b626cb681a41966",
        "IPY_MODEL_2136010a26704edba2b7b2d9e163dc5f"
       ],
       "layout": "IPY_MODEL_6a73f5218f134407968466ab86132f2f"
      }
     },
     "d757a3b2c6da451e9e46c46afdc12bb1": {
      "model_module": "@jupyter-widgets/controls",
      "model_module_version": "1.5.0",
      "model_name": "FloatSliderModel",
      "state": {
       "description": "Compression Threshold",
       "layout": "IPY_MODEL_45152a3c6d334a7aa4a26b9bd23baf04",
       "max": 1,
       "step": 0.01,
       "style": "IPY_MODEL_062b32a85adc48eb92e659173b4438e2",
       "value": 0.8
      }
     },
     "d76d37242f9f45ab97e40c80a671cfda": {
      "model_module": "@jupyter-widgets/base",
      "model_module_version": "1.2.0",
      "model_name": "LayoutModel",
      "state": {}
     },
     "d7854fff3362497fb9ff6dd6df6b9458": {
      "model_module": "@jupyter-widgets/output",
      "model_module_version": "1.0.0",
      "model_name": "OutputModel",
      "state": {
       "layout": "IPY_MODEL_6b79d219af314f03ac0425a7d72ef981",
       "outputs": [
        {
         "data": {
          "application/vnd.jupyter.widget-view+json": {
           "model_id": "7f4b3f0d51b7447997eaf586d6703e6f",
           "version_major": 2,
           "version_minor": 0
          },
          "text/plain": "Canvas(toolbar=Toolbar(toolitems=[('Home', 'Reset original view', 'home', 'home'), ('Back', 'Back to previous …"
         },
         "metadata": {},
         "output_type": "display_data"
        }
       ]
      }
     },
     "d78f25fcb4bb46e6baaaf6ecb81d7ccb": {
      "model_module": "@jupyter-widgets/base",
      "model_module_version": "1.2.0",
      "model_name": "LayoutModel",
      "state": {}
     },
     "d7beceed41094f21b3204541b4940a06": {
      "model_module": "@jupyter-widgets/base",
      "model_module_version": "1.2.0",
      "model_name": "LayoutModel",
      "state": {}
     },
     "d828084b77d14d15af93662cdae01e94": {
      "model_module": "@jupyter-widgets/controls",
      "model_module_version": "1.5.0",
      "model_name": "FloatSliderModel",
      "state": {
       "description": "Compression Threshold",
       "layout": "IPY_MODEL_63e6d2276ba24cac8148f7614bcab19c",
       "max": 1,
       "step": 0.01,
       "style": "IPY_MODEL_f4cb2d4b368044b2ae76775bde438c49",
       "value": 0.8
      }
     },
     "d8345377b41643beb97be0e2180d3ceb": {
      "model_module": "@jupyter-widgets/controls",
      "model_module_version": "1.5.0",
      "model_name": "ButtonModel",
      "state": {
       "description": "Reset Hue Controls",
       "layout": "IPY_MODEL_9992fe93ea1b41499b78384683f07a7e",
       "style": "IPY_MODEL_bf874eb562eb4894a7909a36ea82f97d"
      }
     },
     "d881f4e1063c45748b94af196c487968": {
      "model_module": "@jupyter-widgets/base",
      "model_module_version": "1.2.0",
      "model_name": "LayoutModel",
      "state": {
       "align_items": "stretch",
       "display": "flex",
       "flex_flow": "column",
       "width": "1128px"
      }
     },
     "d8af3512c7ef4bf0841d74e991b0ebf7": {
      "model_module": "@jupyter-widgets/base",
      "model_module_version": "1.2.0",
      "model_name": "LayoutModel",
      "state": {}
     },
     "d95f99a1e5094f2a905ddd4d08ad57c0": {
      "model_module": "@jupyter-widgets/controls",
      "model_module_version": "1.5.0",
      "model_name": "ButtonStyleModel",
      "state": {}
     },
     "d98d4faa31c2429489685158e751547f": {
      "model_module": "@jupyter-widgets/controls",
      "model_module_version": "1.5.0",
      "model_name": "DescriptionStyleModel",
      "state": {
       "description_width": ""
      }
     },
     "d9b5b5825e0c4ce1bc1b3e28c37c8eab": {
      "model_module": "@jupyter-widgets/base",
      "model_module_version": "1.2.0",
      "model_name": "LayoutModel",
      "state": {
       "border": "solid 4px #222",
       "margin": "4px",
       "padding": "0"
      }
     },
     "d9b89335a9b946f28292886a36bd5621": {
      "model_module": "@jupyter-widgets/base",
      "model_module_version": "1.2.0",
      "model_name": "LayoutModel",
      "state": {}
     },
     "d9d5825bd0bf4091ba017eb51baedb7b": {
      "model_module": "@jupyter-widgets/controls",
      "model_module_version": "1.5.0",
      "model_name": "ButtonModel",
      "state": {
       "description": "Export Image",
       "layout": "IPY_MODEL_194b1ab0f858484199786bba5f756caf",
       "style": "IPY_MODEL_bb677e44165443c28ef28004e10b0134"
      }
     },
     "da0c48e2362d4c3ba5afc42867ed0bf7": {
      "model_module": "@jupyter-widgets/controls",
      "model_module_version": "1.5.0",
      "model_name": "VBoxModel",
      "state": {
       "children": [
        "IPY_MODEL_6f31735a6c264f149400639da8fd20c2"
       ],
       "layout": "IPY_MODEL_f0359778093b413590a527f927f11123"
      }
     },
     "da13be2ae1e7461facf25b815848f3a6": {
      "model_module": "@jupyter-widgets/controls",
      "model_module_version": "1.5.0",
      "model_name": "SliderStyleModel",
      "state": {
       "description_width": ""
      }
     },
     "da2e415c88184e12b2d0bec46d91916c": {
      "model_module": "@jupyter-widgets/base",
      "model_module_version": "1.2.0",
      "model_name": "LayoutModel",
      "state": {}
     },
     "da7cdbeffb7741b2812235a91b156c7e": {
      "model_module": "@jupyter-widgets/base",
      "model_module_version": "1.2.0",
      "model_name": "LayoutModel",
      "state": {}
     },
     "da9797906fa44244b57b520d8ee804d8": {
      "model_module": "@jupyter-widgets/controls",
      "model_module_version": "1.5.0",
      "model_name": "BoxModel",
      "state": {
       "children": [
        "IPY_MODEL_a73c642ddcb14a7ba54f96f615e44c88",
        "IPY_MODEL_1657c87f03b14731b51412782f41128f"
       ],
       "layout": "IPY_MODEL_8fa3591ad1b64809a6e75798e396dfa8"
      }
     },
     "dae645540e5a4f21bdb97839759842e7": {
      "model_module": "@jupyter-widgets/controls",
      "model_module_version": "1.5.0",
      "model_name": "ButtonStyleModel",
      "state": {}
     },
     "db1d1c67fd2047119ca8d409b470f96f": {
      "model_module": "@jupyter-widgets/base",
      "model_module_version": "1.2.0",
      "model_name": "LayoutModel",
      "state": {}
     },
     "db2bb42dc95c4114997765b3cacf6b9c": {
      "model_module": "@jupyter-widgets/output",
      "model_module_version": "1.0.0",
      "model_name": "OutputModel",
      "state": {
       "layout": "IPY_MODEL_691debb4172343fa8108a643785d5654",
       "outputs": [
        {
         "data": {
          "application/vnd.jupyter.widget-view+json": {
           "model_id": "fdcaed7d0cdf4809adf027142763e97a",
           "version_major": 2,
           "version_minor": 0
          },
          "text/plain": "Canvas(toolbar=Toolbar(toolitems=[('Home', 'Reset original view', 'home', 'home'), ('Back', 'Back to previous …"
         },
         "metadata": {},
         "output_type": "display_data"
        }
       ]
      }
     },
     "dbc0d92075324cf89db8a1cd70e56ad4": {
      "model_module": "@jupyter-widgets/controls",
      "model_module_version": "1.5.0",
      "model_name": "HBoxModel",
      "state": {
       "children": [
        "IPY_MODEL_c87845410e754d0595dbbc9fcd3acb27",
        "IPY_MODEL_5621e8b41ec545a282f5e993ffa4d449",
        "IPY_MODEL_bc6602d2aab24779aacf0b261913765c",
        "IPY_MODEL_72ec9ea4507f46a18f9719adcba6bde1"
       ],
       "layout": "IPY_MODEL_b7e36c7dd17549e291ddaa8167c7bb46"
      }
     },
     "dbd3b7222fa743a4aa56378bc2fdc845": {
      "model_module": "@jupyter-widgets/base",
      "model_module_version": "1.2.0",
      "model_name": "LayoutModel",
      "state": {}
     },
     "dc462b81d4d1467cbbabf96eeb8cad4c": {
      "model_module": "@jupyter-widgets/controls",
      "model_module_version": "1.5.0",
      "model_name": "SliderStyleModel",
      "state": {
       "description_width": ""
      }
     },
     "dc5c83a6824d4da488a83d2394c133bc": {
      "model_module": "@jupyter-widgets/base",
      "model_module_version": "1.2.0",
      "model_name": "LayoutModel",
      "state": {}
     },
     "dcb03c698579447faf88a536827454b9": {
      "model_module": "@jupyter-widgets/controls",
      "model_module_version": "1.5.0",
      "model_name": "HBoxModel",
      "state": {
       "children": [
        "IPY_MODEL_865a12482d4440b7a07904b65a9ec1b3",
        "IPY_MODEL_fbebe6cdd9834b0eae460964f0d6d2ad"
       ],
       "layout": "IPY_MODEL_8bd5dd1e0e414ebba9663f5e72539011"
      }
     },
     "dcf782705df74277bd56c21af263b2fc": {
      "model_module": "@jupyter-widgets/base",
      "model_module_version": "1.2.0",
      "model_name": "LayoutModel",
      "state": {}
     },
     "dd570655dd3a4223a767994201f2ddc0": {
      "model_module": "@jupyter-widgets/base",
      "model_module_version": "1.2.0",
      "model_name": "LayoutModel",
      "state": {}
     },
     "dd928061ee0646a7a23851a3c22cb542": {
      "model_module": "@jupyter-widgets/base",
      "model_module_version": "1.2.0",
      "model_name": "LayoutModel",
      "state": {}
     },
     "dd9975e79622452d87b420bcb79073d3": {
      "model_module": "@jupyter-widgets/base",
      "model_module_version": "1.2.0",
      "model_name": "LayoutModel",
      "state": {}
     },
     "de2b3561095e4af5a25c4c1a59092bf1": {
      "model_module": "@jupyter-widgets/controls",
      "model_module_version": "1.5.0",
      "model_name": "FloatSliderModel",
      "state": {
       "description": "Compression Threshold",
       "layout": "IPY_MODEL_383687e5ed0e48d7aafb465e7507a7f1",
       "max": 1,
       "step": 0.01,
       "style": "IPY_MODEL_ef3185f7812c44028c363a2113ab58a7",
       "value": 0.8
      }
     },
     "de65c3650b6f415fbf6015fbecbfe241": {
      "model_module": "@jupyter-widgets/controls",
      "model_module_version": "1.5.0",
      "model_name": "ButtonModel",
      "state": {
       "description": "Reset Saturation Controls",
       "layout": "IPY_MODEL_656417a708c84778a2568a21f7c2e7bb",
       "style": "IPY_MODEL_c97adaa39d694722879e496710b8c85e"
      }
     },
     "de90b099cc194430bec339cd2401aff0": {
      "model_module": "@jupyter-widgets/controls",
      "model_module_version": "1.5.0",
      "model_name": "VBoxModel",
      "state": {
       "children": [
        "IPY_MODEL_e8bd37a94d564251b491fe3227e2ade6"
       ],
       "layout": "IPY_MODEL_a8b2cdc2ce6147bca0c376a958cee7b4"
      }
     },
     "decf63753174498a989244cc7b68c02b": {
      "model_module": "@jupyter-widgets/controls",
      "model_module_version": "1.5.0",
      "model_name": "ButtonStyleModel",
      "state": {}
     },
     "df13f6575f5146fd90878ba81558a2d2": {
      "model_module": "@jupyter-widgets/base",
      "model_module_version": "1.2.0",
      "model_name": "LayoutModel",
      "state": {}
     },
     "df57032f71684d6faa5871e67c6a3437": {
      "model_module": "@jupyter-widgets/controls",
      "model_module_version": "1.5.0",
      "model_name": "TabModel",
      "state": {
       "_titles": {
        "0": "Global Controls"
       },
       "children": [
        "IPY_MODEL_b406aadb162044aa844d868e1194ac1f"
       ],
       "layout": "IPY_MODEL_9aec8435c9fe4500a7027b82cebc7a1a"
      }
     },
     "df6d22eb8784496188bc0a508b8fbf85": {
      "model_module": "@jupyter-widgets/base",
      "model_module_version": "1.2.0",
      "model_name": "LayoutModel",
      "state": {}
     },
     "dfa76d89a99942c5a0bb07822b8b23dc": {
      "model_module": "@jupyter-widgets/base",
      "model_module_version": "1.2.0",
      "model_name": "LayoutModel",
      "state": {}
     },
     "dff892be6a68420c896952120cb76a83": {
      "model_module": "@jupyter-widgets/controls",
      "model_module_version": "1.5.0",
      "model_name": "DescriptionStyleModel",
      "state": {
       "description_width": ""
      }
     },
     "e003759827f94a828b73ec3a7dd29234": {
      "model_module": "@jupyter-widgets/controls",
      "model_module_version": "1.5.0",
      "model_name": "ButtonStyleModel",
      "state": {}
     },
     "e03397b65c154a6b97ec4dd40f4d3fbe": {
      "model_module": "@jupyter-widgets/controls",
      "model_module_version": "1.5.0",
      "model_name": "ButtonStyleModel",
      "state": {}
     },
     "e057dfb0806049ecaf44c4e2c84683aa": {
      "model_module": "@jupyter-widgets/controls",
      "model_module_version": "1.5.0",
      "model_name": "ButtonStyleModel",
      "state": {}
     },
     "e05bc69f7ab242e38912cade0d9b9317": {
      "model_module": "@jupyter-widgets/base",
      "model_module_version": "1.2.0",
      "model_name": "LayoutModel",
      "state": {}
     },
     "e0795a88f1f84e82b7f7f3eaeb82e84e": {
      "model_module": "@jupyter-widgets/controls",
      "model_module_version": "1.5.0",
      "model_name": "FloatSliderModel",
      "state": {
       "description": "Protected Area Threshold",
       "layout": "IPY_MODEL_78087cd8e7ad45c6bf47c4dc4f06563e",
       "max": 1,
       "step": 0.01,
       "style": "IPY_MODEL_ad61d65e0db941d9ba63bb29d069be39",
       "value": 0.7
      }
     },
     "e134da3aa92a43a294736e36e190600d": {
      "model_module": "@jupyter-widgets/controls",
      "model_module_version": "1.5.0",
      "model_name": "ButtonModel",
      "state": {
       "description": "Save Figure",
       "layout": "IPY_MODEL_4c547bda934143c3b74aff3d42fbc9eb",
       "style": "IPY_MODEL_400b6cfe1cdd479398f5a3bbd2413eb2"
      }
     },
     "e152a91d04ae41c3ba35bb7fd4b2dddb": {
      "model_module": "@jupyter-widgets/base",
      "model_module_version": "1.2.0",
      "model_name": "LayoutModel",
      "state": {}
     },
     "e165a3f0fb8c4a8089eb81d5e310740b": {
      "model_module": "@jupyter-widgets/base",
      "model_module_version": "1.2.0",
      "model_name": "LayoutModel",
      "state": {
       "border": "solid 4px #222",
       "margin": "4px",
       "padding": "0"
      }
     },
     "e1ace5b592584fe08905ae3e8228fbf2": {
      "model_module": "@jupyter-widgets/controls",
      "model_module_version": "1.5.0",
      "model_name": "FloatSliderModel",
      "state": {
       "description": "225°",
       "layout": "IPY_MODEL_af5306c03e43468ea7d016dadefb1a03",
       "max": 1,
       "min": -1,
       "step": 0.01,
       "style": "IPY_MODEL_777e9123dcb841b58cb05ec46121bfce"
      }
     },
     "e1e0b29249af4186b7a8c3fe0926289a": {
      "model_module": "@jupyter-widgets/base",
      "model_module_version": "1.2.0",
      "model_name": "LayoutModel",
      "state": {}
     },
     "e1f11ab1c03147ccb34e27b8d55805dc": {
      "model_module": "@jupyter-widgets/base",
      "model_module_version": "1.2.0",
      "model_name": "LayoutModel",
      "state": {}
     },
     "e248d3b40caa48feb3b49daf6cf553c6": {
      "model_module": "@jupyter-widgets/base",
      "model_module_version": "1.2.0",
      "model_name": "LayoutModel",
      "state": {}
     },
     "e25bb58254f2422db82e5e9dd0b7a20f": {
      "model_module": "@jupyter-widgets/controls",
      "model_module_version": "1.5.0",
      "model_name": "CheckboxModel",
      "state": {
       "description": "Disable Medicina",
       "disabled": false,
       "layout": "IPY_MODEL_07d9b40d02034cda94e49c1cb2d4fa9e",
       "style": "IPY_MODEL_30a356d7c08c403aaa14f370d442311f",
       "value": false
      }
     },
     "e26a4f9fb67d48d9bc7bc4d7d3bc4d9f": {
      "model_module": "@jupyter-widgets/controls",
      "model_module_version": "1.5.0",
      "model_name": "SliderStyleModel",
      "state": {
       "description_width": ""
      }
     },
     "e2c2b0ffebd0486c9ce6b086544b885a": {
      "model_module": "@jupyter-widgets/controls",
      "model_module_version": "1.5.0",
      "model_name": "ButtonStyleModel",
      "state": {}
     },
     "e2eed231694345d899632d7562525dc7": {
      "model_module": "@jupyter-widgets/base",
      "model_module_version": "1.2.0",
      "model_name": "LayoutModel",
      "state": {}
     },
     "e302d2815f3c4807b550cdbf66857094": {
      "model_module": "@jupyter-widgets/controls",
      "model_module_version": "1.5.0",
      "model_name": "ButtonStyleModel",
      "state": {}
     },
     "e37058f3d9f6458b9cb49a1124e69d7c": {
      "model_module": "@jupyter-widgets/base",
      "model_module_version": "1.2.0",
      "model_name": "LayoutModel",
      "state": {}
     },
     "e3853e1405af4c9ca6fcc09fc7f8c4dd": {
      "model_module": "@jupyter-widgets/base",
      "model_module_version": "1.2.0",
      "model_name": "LayoutModel",
      "state": {}
     },
     "e38d093bd2e94ef1a9a053ea98fd221b": {
      "model_module": "@jupyter-widgets/controls",
      "model_module_version": "1.5.0",
      "model_name": "VBoxModel",
      "state": {
       "children": [
        "IPY_MODEL_60685dc2db054556843e5c4049147b5f",
        "IPY_MODEL_bb0ab37738934684b315d2ffd5552a16",
        "IPY_MODEL_9a93d1d44cd742f0b20747dd0fb86700"
       ],
       "layout": "IPY_MODEL_c37f37a6629c4834918c467e29d30d63"
      }
     },
     "e3db93ad6b324bf594c0057abec5aba1": {
      "model_module": "@jupyter-widgets/controls",
      "model_module_version": "1.5.0",
      "model_name": "SliderStyleModel",
      "state": {
       "description_width": ""
      }
     },
     "e3e26d51846542c99926016c6ab66384": {
      "model_module": "@jupyter-widgets/controls",
      "model_module_version": "1.5.0",
      "model_name": "FloatSliderModel",
      "state": {
       "description": "270°",
       "layout": "IPY_MODEL_1a6c785821734910aea8d4b0b2b9fcbc",
       "max": 1,
       "min": -1,
       "step": 0.01,
       "style": "IPY_MODEL_4d9c12e59136411a8cc85afda97cb347"
      }
     },
     "e3e94b2d27604c18a1184e6a7603fe60": {
      "model_module": "@jupyter-widgets/controls",
      "model_module_version": "1.5.0",
      "model_name": "FloatSliderModel",
      "state": {
       "description": "90°",
       "layout": "IPY_MODEL_e4be043530444a74a79624f0b427db71",
       "max": 1,
       "min": -1,
       "step": 0.01,
       "style": "IPY_MODEL_1cf6d05812014cdca96a201b6d777d55"
      }
     },
     "e3eef1bb655f4a888997172a9d1c0444": {
      "model_module": "@jupyter-widgets/controls",
      "model_module_version": "1.5.0",
      "model_name": "FloatSliderModel",
      "state": {
       "description": "315°",
       "layout": "IPY_MODEL_9f1f1945e42148919bb0a53434f906a0",
       "max": 1,
       "min": -1,
       "step": 0.01,
       "style": "IPY_MODEL_9e79efcf84f644bbac0b400cdf07a525"
      }
     },
     "e4107f3aac854aed9f03fa1ea99f8491": {
      "model_module": "@jupyter-widgets/controls",
      "model_module_version": "1.5.0",
      "model_name": "SliderStyleModel",
      "state": {
       "description_width": ""
      }
     },
     "e446dfee10614ef58d977a43fcd5cb18": {
      "model_module": "@jupyter-widgets/controls",
      "model_module_version": "1.5.0",
      "model_name": "ButtonStyleModel",
      "state": {}
     },
     "e44abaa04d1346f9aa97865e14ec7da1": {
      "model_module": "@jupyter-widgets/base",
      "model_module_version": "1.2.0",
      "model_name": "LayoutModel",
      "state": {}
     },
     "e4761e7c91574e7fb7de6ca04562a02e": {
      "model_module": "@jupyter-widgets/controls",
      "model_module_version": "1.5.0",
      "model_name": "SliderStyleModel",
      "state": {
       "description_width": ""
      }
     },
     "e4be043530444a74a79624f0b427db71": {
      "model_module": "@jupyter-widgets/base",
      "model_module_version": "1.2.0",
      "model_name": "LayoutModel",
      "state": {}
     },
     "e4df2c36f32643e69d9057e0ee6b1207": {
      "model_module": "@jupyter-widgets/base",
      "model_module_version": "1.2.0",
      "model_name": "LayoutModel",
      "state": {}
     },
     "e52a84b795d74e72bf227f54d8381881": {
      "model_module": "@jupyter-widgets/controls",
      "model_module_version": "1.5.0",
      "model_name": "FloatSliderModel",
      "state": {
       "description": "225°",
       "layout": "IPY_MODEL_d232f6f522d045489e75191e957080f8",
       "max": 1,
       "min": -1,
       "step": 0.01,
       "style": "IPY_MODEL_341f12a0af1142cda65746804521f793"
      }
     },
     "e5448e9ef22e429080193108d84b63e4": {
      "model_module": "@jupyter-widgets/controls",
      "model_module_version": "1.5.0",
      "model_name": "ButtonStyleModel",
      "state": {}
     },
     "e55c3ed821e14aa9a41c776eaeb17da8": {
      "model_module": "@jupyter-widgets/controls",
      "model_module_version": "1.5.0",
      "model_name": "HBoxModel",
      "state": {
       "children": [
        "IPY_MODEL_d1ddf26e23d14baca8d39b6bf479ef5d",
        "IPY_MODEL_94acc1ddb79d4405810566cdc4460b04",
        "IPY_MODEL_698dffb3046640459b1cd248e4ec3991"
       ],
       "layout": "IPY_MODEL_cc2c288cd1c6418b9ed282c7c3aaf34e"
      }
     },
     "e56b91f135e84af9b1f32e11d750bbc2": {
      "model_module": "@jupyter-widgets/controls",
      "model_module_version": "1.5.0",
      "model_name": "DescriptionStyleModel",
      "state": {
       "description_width": ""
      }
     },
     "e58962ba1c65495ba090ef537be73ea6": {
      "model_module": "@jupyter-widgets/controls",
      "model_module_version": "1.5.0",
      "model_name": "FloatSliderModel",
      "state": {
       "description": "Protected Area Threshold",
       "layout": "IPY_MODEL_44a694ec433447ac9dfa96abd3a8517f",
       "max": 1,
       "step": 0.01,
       "style": "IPY_MODEL_582049db5d57422dac7b29eed0193df1",
       "value": 0.7
      }
     },
     "e591eb8bf57849088f7fe89bced512b6": {
      "model_module": "@jupyter-widgets/base",
      "model_module_version": "1.2.0",
      "model_name": "LayoutModel",
      "state": {}
     },
     "e5a272b04e1d48e8926dd2f496cad2b7": {
      "model_module": "@jupyter-widgets/base",
      "model_module_version": "1.2.0",
      "model_name": "LayoutModel",
      "state": {
       "border": "solid 4px #222",
       "margin": "4px",
       "padding": "0"
      }
     },
     "e5d875e8b8184fc6bc41fc9e762114c2": {
      "model_module": "@jupyter-widgets/base",
      "model_module_version": "1.2.0",
      "model_name": "LayoutModel",
      "state": {}
     },
     "e6939f760f7d4975b57faf16907b5f06": {
      "model_module": "@jupyter-widgets/base",
      "model_module_version": "1.2.0",
      "model_name": "LayoutModel",
      "state": {}
     },
     "e6995d71b66b4354bbe5f28ed59aebd6": {
      "model_module": "@jupyter-widgets/controls",
      "model_module_version": "1.5.0",
      "model_name": "ButtonStyleModel",
      "state": {}
     },
     "e781063d127a46bf9ebf02665b67bdbe": {
      "model_module": "@jupyter-widgets/controls",
      "model_module_version": "1.5.0",
      "model_name": "FloatSliderModel",
      "state": {
       "description": "Exposure",
       "layout": "IPY_MODEL_db1d1c67fd2047119ca8d409b470f96f",
       "max": 8,
       "min": -8,
       "step": 0.1,
       "style": "IPY_MODEL_3e3717cf478f4818aac1d15769c3a757"
      }
     },
     "e7a35093033e47c59043dfeba8a5707a": {
      "model_module": "@jupyter-widgets/base",
      "model_module_version": "1.2.0",
      "model_name": "LayoutModel",
      "state": {}
     },
     "e7d6e3dd447d46bf88144834431a93a6": {
      "model_module": "@jupyter-widgets/base",
      "model_module_version": "1.2.0",
      "model_name": "LayoutModel",
      "state": {}
     },
     "e81d9f5e52514f35af433a508698226a": {
      "model_module": "@jupyter-widgets/controls",
      "model_module_version": "1.5.0",
      "model_name": "SliderStyleModel",
      "state": {
       "description_width": ""
      }
     },
     "e85cbe619c294641826ae86e2025627f": {
      "model_module": "@jupyter-widgets/controls",
      "model_module_version": "1.5.0",
      "model_name": "CheckboxModel",
      "state": {
       "description": "Disable Medicina",
       "disabled": false,
       "layout": "IPY_MODEL_0d2cbaac5ece4ec0ae6ea63f06d400da",
       "style": "IPY_MODEL_a8a946fd421e48a096458e4f2d5392d0",
       "value": false
      }
     },
     "e8bd37a94d564251b491fe3227e2ade6": {
      "model_module": "@jupyter-widgets/controls",
      "model_module_version": "1.5.0",
      "model_name": "ButtonModel",
      "state": {
       "description": "Reset Hue Controls",
       "layout": "IPY_MODEL_88819af6fd414aa6ab28bef6dbef46c2",
       "style": "IPY_MODEL_ef6e82e162bc4ba79e67ecf4d98dee7f"
      }
     },
     "e8f7e0724263489a9ffa7d26fd1b655a": {
      "model_module": "@jupyter-widgets/base",
      "model_module_version": "1.2.0",
      "model_name": "LayoutModel",
      "state": {
       "border": "solid 4px #222",
       "margin": "4px",
       "padding": "0"
      }
     },
     "e94e1b7dd0f743b5abfb2592100c85ce": {
      "model_module": "@jupyter-widgets/base",
      "model_module_version": "1.2.0",
      "model_name": "LayoutModel",
      "state": {}
     },
     "e984ecc3b42c4ca3986bd0b7cf163e80": {
      "model_module": "@jupyter-widgets/base",
      "model_module_version": "1.2.0",
      "model_name": "LayoutModel",
      "state": {}
     },
     "e9de0083ecef4f538e1789cd625e8f2d": {
      "model_module": "@jupyter-widgets/controls",
      "model_module_version": "1.5.0",
      "model_name": "CheckboxModel",
      "state": {
       "description": "Disable Medicina",
       "disabled": false,
       "layout": "IPY_MODEL_b564f21eb0f54afaa4c68c35c0142d57",
       "style": "IPY_MODEL_3730a097740a4102af7e0c5dd8017bda",
       "value": false
      }
     },
     "e9e9d0545bc3499da7bdb32b4e41eb2d": {
      "model_module": "@jupyter-widgets/controls",
      "model_module_version": "1.5.0",
      "model_name": "FloatSliderModel",
      "state": {
       "description": "Protected Area Threshold",
       "layout": "IPY_MODEL_8ac0406a1fef47759259301047967e40",
       "max": 1,
       "step": 0.01,
       "style": "IPY_MODEL_32de0de9071243dc875392cf9f977429",
       "value": 0.7
      }
     },
     "ea0480f711e34d76b04068ee3723be9a": {
      "model_module": "@jupyter-widgets/controls",
      "model_module_version": "1.5.0",
      "model_name": "FloatSliderModel",
      "state": {
       "description": "270°",
       "layout": "IPY_MODEL_0416ecc1390e4eba9bf8bce4430e1fd9",
       "max": 1,
       "min": -1,
       "step": 0.01,
       "style": "IPY_MODEL_7576c324f5cf4bef90acf2a9326b932b"
      }
     },
     "ea0c947044b7405c9fcd9520102e3a8c": {
      "model_module": "@jupyter-widgets/base",
      "model_module_version": "1.2.0",
      "model_name": "LayoutModel",
      "state": {}
     },
     "ea3849afa6454727aa34fe139abdb9d3": {
      "model_module": "@jupyter-widgets/controls",
      "model_module_version": "1.5.0",
      "model_name": "FloatSliderModel",
      "state": {
       "description": "Compression Threshold",
       "layout": "IPY_MODEL_7d22cf378951417b8186bb3cf82a6235",
       "max": 1,
       "step": 0.01,
       "style": "IPY_MODEL_ac758e8c92e0497293552ee23b29265a",
       "value": 0.5
      }
     },
     "ea415210227343ed8fa23622ce6c4ad3": {
      "model_module": "@jupyter-widgets/base",
      "model_module_version": "1.2.0",
      "model_name": "LayoutModel",
      "state": {}
     },
     "ea72f8029fb443f3b23be9baf18d731f": {
      "model_module": "@jupyter-widgets/controls",
      "model_module_version": "1.5.0",
      "model_name": "DescriptionStyleModel",
      "state": {
       "description_width": ""
      }
     },
     "ea961e5450eb462eb7eb555d5e9aa226": {
      "model_module": "@jupyter-widgets/base",
      "model_module_version": "1.2.0",
      "model_name": "LayoutModel",
      "state": {}
     },
     "eb2c5a5ff7e84467ab040afb04030628": {
      "model_module": "@jupyter-widgets/base",
      "model_module_version": "1.2.0",
      "model_name": "LayoutModel",
      "state": {
       "border": "solid 4px #222",
       "margin": "4px",
       "padding": "0"
      }
     },
     "eb2de139b246445d930df5e770db498e": {
      "model_module": "@jupyter-widgets/controls",
      "model_module_version": "1.5.0",
      "model_name": "SliderStyleModel",
      "state": {
       "description_width": ""
      }
     },
     "eb779b5c5c434dbaab235240dd53d92b": {
      "model_module": "@jupyter-widgets/base",
      "model_module_version": "1.2.0",
      "model_name": "LayoutModel",
      "state": {}
     },
     "ebe1d8e460cf4792b04277ca8afca53f": {
      "model_module": "@jupyter-widgets/controls",
      "model_module_version": "1.5.0",
      "model_name": "ButtonModel",
      "state": {
       "description": "Reset Compression Controls",
       "layout": "IPY_MODEL_025bcad15a3e47329646cc91c32c8453",
       "style": "IPY_MODEL_f294b9545a0b4392987f3d4beef5a368"
      }
     },
     "ebf8653afb164735ab2e088989afed66": {
      "model_module": "@jupyter-widgets/controls",
      "model_module_version": "1.5.0",
      "model_name": "CheckboxModel",
      "state": {
       "description": "Disable Medicina",
       "disabled": false,
       "layout": "IPY_MODEL_69c9d6b695b4429bae17757c7056004d",
       "style": "IPY_MODEL_f89b0372cac6484a8bfa3c4fe5fbc093",
       "value": false
      }
     },
     "ec75ef06ab754317b11e82d6495aa59b": {
      "model_module": "@jupyter-widgets/controls",
      "model_module_version": "1.5.0",
      "model_name": "FloatSliderModel",
      "state": {
       "description": "270°",
       "layout": "IPY_MODEL_ff04d811074548709e8efd26d80ca0f5",
       "max": 1,
       "min": -1,
       "step": 0.01,
       "style": "IPY_MODEL_eb2de139b246445d930df5e770db498e"
      }
     },
     "eca68db36c5c4d809a96db93553a4ce4": {
      "model_module": "@jupyter-widgets/controls",
      "model_module_version": "1.5.0",
      "model_name": "DescriptionStyleModel",
      "state": {
       "description_width": ""
      }
     },
     "eca6b431b484449499de7e59b176eee5": {
      "model_module": "@jupyter-widgets/controls",
      "model_module_version": "1.5.0",
      "model_name": "ButtonStyleModel",
      "state": {}
     },
     "ecb77703fa714445ba213e6346ed0ce7": {
      "model_module": "@jupyter-widgets/base",
      "model_module_version": "1.2.0",
      "model_name": "LayoutModel",
      "state": {
       "align_items": "stretch",
       "display": "flex",
       "flex_flow": "column",
       "width": "1128px"
      }
     },
     "ecf81890d72743a4bf5d529ac620bd54": {
      "model_module": "@jupyter-widgets/controls",
      "model_module_version": "1.5.0",
      "model_name": "VBoxModel",
      "state": {
       "children": [
        "IPY_MODEL_ea0480f711e34d76b04068ee3723be9a",
        "IPY_MODEL_825dbdb1fba94dd7b0c56422a51f261e"
       ],
       "layout": "IPY_MODEL_dd570655dd3a4223a767994201f2ddc0"
      }
     },
     "ed56385ced5b4d308df676f711b6ba96": {
      "model_module": "@jupyter-widgets/controls",
      "model_module_version": "1.5.0",
      "model_name": "HBoxModel",
      "state": {
       "children": [
        "IPY_MODEL_cf22b0af6976401c9962f275145b03a0",
        "IPY_MODEL_d5333383b6c8440382cd24da1fb731ff",
        "IPY_MODEL_8b4069bbaa80461ba0ebee88d6b3f344"
       ],
       "layout": "IPY_MODEL_7031f164f2f0475ea87fc9684e43d2ac"
      }
     },
     "ed76f14e8da74078a7d275ef86a22433": {
      "model_module": "@jupyter-widgets/controls",
      "model_module_version": "1.5.0",
      "model_name": "HBoxModel",
      "state": {
       "children": [
        "IPY_MODEL_6ce7b9eb92f44a3784945b0854369e99",
        "IPY_MODEL_cd4e6b89510f44f695891cdf9fc8da85",
        "IPY_MODEL_9aeec65fe0d64f00ad5d9e029d298835"
       ],
       "layout": "IPY_MODEL_09d653a96dc446bc9c94c6b7216bc650"
      }
     },
     "ed9791055e7746609efc47b272cfa1b0": {
      "model_module": "@jupyter-widgets/base",
      "model_module_version": "1.2.0",
      "model_name": "LayoutModel",
      "state": {}
     },
     "ed9a84ad293e4a11aa6b4b624463bcf6": {
      "model_module": "@jupyter-widgets/controls",
      "model_module_version": "1.5.0",
      "model_name": "ButtonModel",
      "state": {
       "description": "Save Figure",
       "layout": "IPY_MODEL_0856e6677b9044fc8395970b05f3ae52",
       "style": "IPY_MODEL_557a58a867eb47d09ec80fa249bef40a"
      }
     },
     "edac6651ff3b4f39926d105ce79904e8": {
      "model_module": "@jupyter-widgets/output",
      "model_module_version": "1.0.0",
      "model_name": "OutputModel",
      "state": {
       "layout": "IPY_MODEL_c13628f2572940bbbdf932b047053fc1",
       "outputs": [
        {
         "data": {
          "application/vnd.jupyter.widget-view+json": {
           "model_id": "0d58e23abb8d49aea913a190cad169c6",
           "version_major": 2,
           "version_minor": 0
          },
          "text/plain": "Canvas(toolbar=Toolbar(toolitems=[('Home', 'Reset original view', 'home', 'home'), ('Back', 'Back to previous …"
         },
         "metadata": {},
         "output_type": "display_data"
        }
       ]
      }
     },
     "edfeaab91ba842e390fbddc430a2f6bd": {
      "model_module": "@jupyter-widgets/base",
      "model_module_version": "1.2.0",
      "model_name": "LayoutModel",
      "state": {}
     },
     "eeb1a347a2684f3ab62555cd70b3bef8": {
      "model_module": "@jupyter-widgets/controls",
      "model_module_version": "1.5.0",
      "model_name": "ButtonStyleModel",
      "state": {}
     },
     "eeb8d33a1d274386b6be49e4ba9afe80": {
      "model_module": "@jupyter-widgets/base",
      "model_module_version": "1.2.0",
      "model_name": "LayoutModel",
      "state": {}
     },
     "eec67e6e2d744186815735cd90988490": {
      "model_module": "@jupyter-widgets/controls",
      "model_module_version": "1.5.0",
      "model_name": "CheckboxModel",
      "state": {
       "description": "Disable Medicina",
       "disabled": false,
       "layout": "IPY_MODEL_349d7182b4034aae94b2be9f34730133",
       "style": "IPY_MODEL_48d939da7b9a41f9b6b70834fd721153",
       "value": false
      }
     },
     "ef3185f7812c44028c363a2113ab58a7": {
      "model_module": "@jupyter-widgets/controls",
      "model_module_version": "1.5.0",
      "model_name": "SliderStyleModel",
      "state": {
       "description_width": ""
      }
     },
     "ef6e82e162bc4ba79e67ecf4d98dee7f": {
      "model_module": "@jupyter-widgets/controls",
      "model_module_version": "1.5.0",
      "model_name": "ButtonStyleModel",
      "state": {}
     },
     "efb3a7baedec47b991c463a24a7c3e6f": {
      "model_module": "jupyter-matplotlib",
      "model_module_version": "^0.7.2",
      "model_name": "ToolbarModel",
      "state": {
       "layout": "IPY_MODEL_8c2ef20bb53948b5a2191ab478cd562f",
       "toolitems": [
        [
         "Home",
         "Reset original view",
         "home",
         "home"
        ],
        [
         "Back",
         "Back to previous view",
         "arrow-left",
         "back"
        ],
        [
         "Forward",
         "Forward to next view",
         "arrow-right",
         "forward"
        ],
        [
         "Pan",
         "Pan axes with left mouse, zoom with right",
         "arrows",
         "pan"
        ],
        [
         "Zoom",
         "Zoom to rectangle",
         "square-o",
         "zoom"
        ],
        [
         "Download",
         "Download plot",
         "floppy-o",
         "save_figure"
        ]
       ]
      }
     },
     "efbbca7ac10d48728e6d12b45ebcf8bd": {
      "model_module": "@jupyter-widgets/controls",
      "model_module_version": "1.5.0",
      "model_name": "FloatSliderModel",
      "state": {
       "description": "Protected Area Threshold",
       "layout": "IPY_MODEL_bfa73c4e06e548c593e15dbc9d9d47ad",
       "max": 1,
       "step": 0.01,
       "style": "IPY_MODEL_d56f16cd644d434bb8929b399a1b0118",
       "value": 0.7
      }
     },
     "efe57b1a4dcd498d9b189e640676fe21": {
      "model_module": "@jupyter-widgets/base",
      "model_module_version": "1.2.0",
      "model_name": "LayoutModel",
      "state": {}
     },
     "f0359778093b413590a527f927f11123": {
      "model_module": "@jupyter-widgets/base",
      "model_module_version": "1.2.0",
      "model_name": "LayoutModel",
      "state": {}
     },
     "f07669f6895d4ee0969b03eb01f07eee": {
      "model_module": "@jupyter-widgets/base",
      "model_module_version": "1.2.0",
      "model_name": "LayoutModel",
      "state": {}
     },
     "f0d89fa98a3e4429a6d40e359d9ea12e": {
      "model_module": "@jupyter-widgets/base",
      "model_module_version": "1.2.0",
      "model_name": "LayoutModel",
      "state": {}
     },
     "f1580e122cdc408d933ff44df11550ae": {
      "model_module": "@jupyter-widgets/controls",
      "model_module_version": "1.5.0",
      "model_name": "SliderStyleModel",
      "state": {
       "description_width": ""
      }
     },
     "f1b570acc4054c38a5b1be278b5ea449": {
      "model_module": "@jupyter-widgets/base",
      "model_module_version": "1.2.0",
      "model_name": "LayoutModel",
      "state": {
       "align_items": "stretch",
       "display": "flex",
       "flex_flow": "column",
       "width": "1128px"
      }
     },
     "f1d29248d8344faebedd44f24fc1b112": {
      "model_module": "@jupyter-widgets/controls",
      "model_module_version": "1.5.0",
      "model_name": "FloatSliderModel",
      "state": {
       "description": "0°",
       "layout": "IPY_MODEL_05e3540e7d1e45e5b4471393418d4b9d",
       "max": 1,
       "min": -1,
       "step": 0.01,
       "style": "IPY_MODEL_6f56628368e54e7d91721097d2d3c4f6"
      }
     },
     "f24257d73c8240b194397d9a053cbe0d": {
      "model_module": "@jupyter-widgets/controls",
      "model_module_version": "1.5.0",
      "model_name": "VBoxModel",
      "state": {
       "children": [
        "IPY_MODEL_ec75ef06ab754317b11e82d6495aa59b",
        "IPY_MODEL_b29fd2833cd940c69a0884cf02a1e280"
       ],
       "layout": "IPY_MODEL_f74729ac8cc54a93b85ab16f0d84fb36"
      }
     },
     "f246e84fecea48098bd6e588cb79c88c": {
      "model_module": "@jupyter-widgets/output",
      "model_module_version": "1.0.0",
      "model_name": "OutputModel",
      "state": {
       "layout": "IPY_MODEL_e8f7e0724263489a9ffa7d26fd1b655a",
       "outputs": [
        {
         "data": {
          "application/vnd.jupyter.widget-view+json": {
           "model_id": "b3aefd1e77e4435880c3d5013e476c91",
           "version_major": 2,
           "version_minor": 0
          },
          "text/plain": "Canvas(toolbar=Toolbar(toolitems=[('Home', 'Reset original view', 'home', 'home'), ('Back', 'Back to previous …"
         },
         "metadata": {},
         "output_type": "display_data"
        }
       ]
      }
     },
     "f266f8f4185640c681b90b332d117c9b": {
      "model_module": "@jupyter-widgets/base",
      "model_module_version": "1.2.0",
      "model_name": "LayoutModel",
      "state": {}
     },
     "f2927ae08d5e4784999fdd90fea9be0e": {
      "model_module": "@jupyter-widgets/base",
      "model_module_version": "1.2.0",
      "model_name": "LayoutModel",
      "state": {}
     },
     "f294b9545a0b4392987f3d4beef5a368": {
      "model_module": "@jupyter-widgets/controls",
      "model_module_version": "1.5.0",
      "model_name": "ButtonStyleModel",
      "state": {}
     },
     "f2b719aa7ccf41d79e86b59c84aa6d36": {
      "model_module": "@jupyter-widgets/base",
      "model_module_version": "1.2.0",
      "model_name": "LayoutModel",
      "state": {}
     },
     "f2b8db3330534521a33ee56ca9f329d6": {
      "model_module": "@jupyter-widgets/base",
      "model_module_version": "1.2.0",
      "model_name": "LayoutModel",
      "state": {}
     },
     "f2df8e797d984c34a9e07431eaa8df7a": {
      "model_module": "@jupyter-widgets/controls",
      "model_module_version": "1.5.0",
      "model_name": "ButtonModel",
      "state": {
       "description": "Reset Protected Area",
       "layout": "IPY_MODEL_ed9791055e7746609efc47b272cfa1b0",
       "style": "IPY_MODEL_84b40bfa36a14e9a9ccb3cf8936f7fa6"
      }
     },
     "f2fb3e1ae8e34f4897ac01a7942f06d9": {
      "model_module": "@jupyter-widgets/base",
      "model_module_version": "1.2.0",
      "model_name": "LayoutModel",
      "state": {}
     },
     "f2feb8ccd9434e8ca96207556244bdea": {
      "model_module": "@jupyter-widgets/controls",
      "model_module_version": "1.5.0",
      "model_name": "FloatSliderModel",
      "state": {
       "description": "135°",
       "layout": "IPY_MODEL_2a75f0bb2f7f41d690f2b9c01a63af85",
       "max": 1,
       "min": -1,
       "step": 0.01,
       "style": "IPY_MODEL_175ecb9d64384f6e8f64eec24f813812"
      }
     },
     "f30b9702bd88495980605d44ed2d91b8": {
      "model_module": "@jupyter-widgets/controls",
      "model_module_version": "1.5.0",
      "model_name": "FloatSliderModel",
      "state": {
       "description": "180°",
       "layout": "IPY_MODEL_4bc2218bf4aa40159d3c9d5f64e41e91",
       "max": 1,
       "min": -1,
       "step": 0.01,
       "style": "IPY_MODEL_13820c4f6e7c4189a78e22ec4cbfd4f5"
      }
     },
     "f3a193bcac0844169a5edc491f636a1e": {
      "model_module": "@jupyter-widgets/controls",
      "model_module_version": "1.5.0",
      "model_name": "SliderStyleModel",
      "state": {
       "description_width": ""
      }
     },
     "f3a1fee463b644e5bca2937a6aba63a0": {
      "model_module": "@jupyter-widgets/base",
      "model_module_version": "1.2.0",
      "model_name": "LayoutModel",
      "state": {
       "border": "solid 4px #222",
       "margin": "4px",
       "padding": "0"
      }
     },
     "f3e78e416ccb4478930cd60c23c74012": {
      "model_module": "@jupyter-widgets/controls",
      "model_module_version": "1.5.0",
      "model_name": "ButtonStyleModel",
      "state": {}
     },
     "f43aafebc49449eb9253e99bc562b941": {
      "model_module": "@jupyter-widgets/base",
      "model_module_version": "1.2.0",
      "model_name": "LayoutModel",
      "state": {}
     },
     "f4ad03feb221404b86635051cfce0e97": {
      "model_module": "@jupyter-widgets/controls",
      "model_module_version": "1.5.0",
      "model_name": "SliderStyleModel",
      "state": {
       "description_width": ""
      }
     },
     "f4b837dc53f248d38b7ca0ea09363d66": {
      "model_module": "@jupyter-widgets/controls",
      "model_module_version": "1.5.0",
      "model_name": "ButtonStyleModel",
      "state": {}
     },
     "f4cb2d4b368044b2ae76775bde438c49": {
      "model_module": "@jupyter-widgets/controls",
      "model_module_version": "1.5.0",
      "model_name": "SliderStyleModel",
      "state": {
       "description_width": ""
      }
     },
     "f4e1a3f3905c4ffc91445d3d7c181c08": {
      "model_module": "@jupyter-widgets/controls",
      "model_module_version": "1.5.0",
      "model_name": "VBoxModel",
      "state": {
       "children": [
        "IPY_MODEL_b899a63e63a245d59ad27646cd532048",
        "IPY_MODEL_88a2cad9062a495c814e0a875a1daf87",
        "IPY_MODEL_5d01e78d0e974bd59c116cd8c1284c3d"
       ],
       "layout": "IPY_MODEL_592a6c2feadb48be94498a9a65f418c4"
      }
     },
     "f503aa1885364f5e82745207532752cc": {
      "model_module": "@jupyter-widgets/controls",
      "model_module_version": "1.5.0",
      "model_name": "FloatSliderModel",
      "state": {
       "description": "0°",
       "layout": "IPY_MODEL_8b3a7c618dab44f6bb2bfb0c470bf501",
       "max": 1,
       "min": -1,
       "step": 0.01,
       "style": "IPY_MODEL_374abe572d9d48dab008446d46d20c40"
      }
     },
     "f5139fd1bc51435393a5c03b951892b1": {
      "model_module": "@jupyter-widgets/controls",
      "model_module_version": "1.5.0",
      "model_name": "FloatSliderModel",
      "state": {
       "description": "270°",
       "layout": "IPY_MODEL_af258ddfcd984907a7bbcbabb9ca0fae",
       "max": 1,
       "min": -1,
       "step": 0.01,
       "style": "IPY_MODEL_f9e276fcfa2647e78ec6dad6be2d0915"
      }
     },
     "f521827a2be647028dec60c98105a8f8": {
      "model_module": "@jupyter-widgets/controls",
      "model_module_version": "1.5.0",
      "model_name": "ButtonStyleModel",
      "state": {}
     },
     "f5b4b5a6554043ca9f659cb4674f7410": {
      "model_module": "@jupyter-widgets/base",
      "model_module_version": "1.2.0",
      "model_name": "LayoutModel",
      "state": {}
     },
     "f6101cfbc09a48c0a1f822c9bfa19cab": {
      "model_module": "@jupyter-widgets/base",
      "model_module_version": "1.2.0",
      "model_name": "LayoutModel",
      "state": {
       "border": "solid 4px #222",
       "margin": "4px",
       "padding": "0"
      }
     },
     "f624884c59df4dc9982ac9ac7464e0ce": {
      "model_module": "@jupyter-widgets/base",
      "model_module_version": "1.2.0",
      "model_name": "LayoutModel",
      "state": {}
     },
     "f647afbefb8a42faad17324502c80118": {
      "model_module": "@jupyter-widgets/controls",
      "model_module_version": "1.5.0",
      "model_name": "SliderStyleModel",
      "state": {
       "description_width": ""
      }
     },
     "f6abe1a532c2476fa0102b322987e322": {
      "model_module": "@jupyter-widgets/base",
      "model_module_version": "1.2.0",
      "model_name": "LayoutModel",
      "state": {}
     },
     "f6bc947a5659471998ea67b26ce1802f": {
      "model_module": "@jupyter-widgets/base",
      "model_module_version": "1.2.0",
      "model_name": "LayoutModel",
      "state": {}
     },
     "f6e5d02302114ee7b88a016d3297e2b7": {
      "model_module": "@jupyter-widgets/base",
      "model_module_version": "1.2.0",
      "model_name": "LayoutModel",
      "state": {}
     },
     "f70a4d22e01e430bb7610589a9a0529c": {
      "model_module": "@jupyter-widgets/base",
      "model_module_version": "1.2.0",
      "model_name": "LayoutModel",
      "state": {}
     },
     "f74729ac8cc54a93b85ab16f0d84fb36": {
      "model_module": "@jupyter-widgets/base",
      "model_module_version": "1.2.0",
      "model_name": "LayoutModel",
      "state": {}
     },
     "f7a59a09b1354f34a2f16062d155478e": {
      "model_module": "@jupyter-widgets/base",
      "model_module_version": "1.2.0",
      "model_name": "LayoutModel",
      "state": {}
     },
     "f7cf7a9bc9574a6088fd5e9e89fcd0c1": {
      "model_module": "@jupyter-widgets/controls",
      "model_module_version": "1.5.0",
      "model_name": "ButtonStyleModel",
      "state": {}
     },
     "f842d24b7f4e4ce1b7bd76b3f60a83a9": {
      "model_module": "@jupyter-widgets/base",
      "model_module_version": "1.2.0",
      "model_name": "LayoutModel",
      "state": {
       "border": "solid 4px #222",
       "margin": "4px",
       "padding": "0"
      }
     },
     "f84cee10d9ea46e5b259ef688db90c20": {
      "model_module": "@jupyter-widgets/controls",
      "model_module_version": "1.5.0",
      "model_name": "ButtonModel",
      "state": {
       "description": "Reset Compression Controls",
       "layout": "IPY_MODEL_14d8a9e1f3ed4d9da2a4d79bef3ce45a",
       "style": "IPY_MODEL_32d764e17bbb40c39c25273720bcf53e"
      }
     },
     "f860cd68624741a0bba69828e202b5b6": {
      "model_module": "@jupyter-widgets/controls",
      "model_module_version": "1.5.0",
      "model_name": "HBoxModel",
      "state": {
       "children": [
        "IPY_MODEL_eec67e6e2d744186815735cd90988490",
        "IPY_MODEL_3266672c0d494699bfb8ff917d2a7646",
        "IPY_MODEL_ccb540a3f7d94abb9c733e16c6ef17a3",
        "IPY_MODEL_47c43889afb945329e9e4e165bdab832"
       ],
       "layout": "IPY_MODEL_01c9aac8764c4c6fa92a6ee629004637"
      }
     },
     "f8679e23acd442a3aa33fb8437b0d8e4": {
      "model_module": "@jupyter-widgets/base",
      "model_module_version": "1.2.0",
      "model_name": "LayoutModel",
      "state": {}
     },
     "f87e95f2025e43da8a59740ecc292c26": {
      "model_module": "@jupyter-widgets/base",
      "model_module_version": "1.2.0",
      "model_name": "LayoutModel",
      "state": {}
     },
     "f886a512db2c4c9895111330b30dd336": {
      "model_module": "@jupyter-widgets/controls",
      "model_module_version": "1.5.0",
      "model_name": "ButtonModel",
      "state": {
       "description": "Reset Hue Controls",
       "layout": "IPY_MODEL_4a80958352bd4b4bad37535a6cc60588",
       "style": "IPY_MODEL_f3e78e416ccb4478930cd60c23c74012"
      }
     },
     "f891e9c8bed04a3287093c7932bfd89f": {
      "model_module": "@jupyter-widgets/base",
      "model_module_version": "1.2.0",
      "model_name": "LayoutModel",
      "state": {}
     },
     "f89b0372cac6484a8bfa3c4fe5fbc093": {
      "model_module": "@jupyter-widgets/controls",
      "model_module_version": "1.5.0",
      "model_name": "DescriptionStyleModel",
      "state": {
       "description_width": ""
      }
     },
     "f8bba68281fb43f3a9595e3cc6670747": {
      "model_module": "@jupyter-widgets/controls",
      "model_module_version": "1.5.0",
      "model_name": "FloatSliderModel",
      "state": {
       "description": "90°",
       "layout": "IPY_MODEL_1ae63d0a00dc4c569d14b2b5397d1504",
       "max": 1,
       "min": -1,
       "step": 0.01,
       "style": "IPY_MODEL_06948616f9424831816b820f0c707f0a"
      }
     },
     "f8f5f67b3b64459b8f91eca25f3f7850": {
      "model_module": "@jupyter-widgets/base",
      "model_module_version": "1.2.0",
      "model_name": "LayoutModel",
      "state": {}
     },
     "f964f447845e45c39afb9a7890ebf20f": {
      "model_module": "@jupyter-widgets/controls",
      "model_module_version": "1.5.0",
      "model_name": "ButtonModel",
      "state": {
       "description": "Save Figure",
       "layout": "IPY_MODEL_ad0c7298d6af4724bec27bfae927ff40",
       "style": "IPY_MODEL_a5a5b0ae817142198e78fd35a9a78f56"
      }
     },
     "f966e14872f34b1b8ee12f8f00cec40d": {
      "model_module": "@jupyter-widgets/base",
      "model_module_version": "1.2.0",
      "model_name": "LayoutModel",
      "state": {}
     },
     "f969c8fb706d4b6aa693731df99f08af": {
      "model_module": "@jupyter-widgets/base",
      "model_module_version": "1.2.0",
      "model_name": "LayoutModel",
      "state": {}
     },
     "f9917162e9014751bf7b1adfd721e201": {
      "model_module": "@jupyter-widgets/base",
      "model_module_version": "1.2.0",
      "model_name": "LayoutModel",
      "state": {}
     },
     "f995c82d47fd4f419c7d251440811143": {
      "model_module": "@jupyter-widgets/controls",
      "model_module_version": "1.5.0",
      "model_name": "FloatSliderModel",
      "state": {
       "description": "45°",
       "layout": "IPY_MODEL_5dc9069c1dea400e84e6bc50f38c17e5",
       "max": 1,
       "min": -1,
       "step": 0.01,
       "style": "IPY_MODEL_83f0ce38055b4409a01446f3546169ef"
      }
     },
     "f9dfdf6a9a6b4219905292140ad5bf67": {
      "model_module": "@jupyter-widgets/base",
      "model_module_version": "1.2.0",
      "model_name": "LayoutModel",
      "state": {}
     },
     "f9e276fcfa2647e78ec6dad6be2d0915": {
      "model_module": "@jupyter-widgets/controls",
      "model_module_version": "1.5.0",
      "model_name": "SliderStyleModel",
      "state": {
       "description_width": ""
      }
     },
     "fa16b4dd9f7e474e9740bdc4af20a8f6": {
      "model_module": "@jupyter-widgets/controls",
      "model_module_version": "1.5.0",
      "model_name": "ButtonModel",
      "state": {
       "description": "Save Figure",
       "layout": "IPY_MODEL_e152a91d04ae41c3ba35bb7fd4b2dddb",
       "style": "IPY_MODEL_e2c2b0ffebd0486c9ce6b086544b885a"
      }
     },
     "fa95c25222dd463baf89975290bd5c09": {
      "model_module": "@jupyter-widgets/controls",
      "model_module_version": "1.5.0",
      "model_name": "TabModel",
      "state": {
       "_titles": {
        "0": "Global Controls",
        "1": "Protected Area Controls",
        "2": "Saturation Controls",
        "3": "Hue Controls"
       },
       "children": [
        "IPY_MODEL_3e84e22efbed4d45a06e375452360da3",
        "IPY_MODEL_1534f4a220254162809671e42a1f53bf",
        "IPY_MODEL_e55c3ed821e14aa9a41c776eaeb17da8",
        "IPY_MODEL_a7b09c91e29043deb3f33601b539a32c"
       ],
       "layout": "IPY_MODEL_baf471f227e74bceb1b88228f9071712"
      }
     },
     "fb0d976a6d4a467db73ac11ad414a959": {
      "model_module": "@jupyter-widgets/controls",
      "model_module_version": "1.5.0",
      "model_name": "ButtonStyleModel",
      "state": {}
     },
     "fb5101cb2b3646049961ded40d3c4219": {
      "model_module": "@jupyter-widgets/controls",
      "model_module_version": "1.5.0",
      "model_name": "SliderStyleModel",
      "state": {
       "description_width": ""
      }
     },
     "fb6205aa0271497e945512e9d312886d": {
      "model_module": "@jupyter-widgets/controls",
      "model_module_version": "1.5.0",
      "model_name": "BoxModel",
      "state": {
       "children": [
        "IPY_MODEL_7c125e1ea3704fb59b6e3d8f1d1a58c6",
        "IPY_MODEL_6e523e84c1ef487c9c48fc8e189d1701"
       ],
       "layout": "IPY_MODEL_ecb77703fa714445ba213e6346ed0ce7"
      }
     },
     "fbd32feac5ca49299e6221f164ed9714": {
      "model_module": "jupyter-matplotlib",
      "model_module_version": "^0.7.2",
      "model_name": "ToolbarModel",
      "state": {
       "layout": "IPY_MODEL_014be1ebbd114a79acd76de7d37b984f",
       "toolitems": [
        [
         "Home",
         "Reset original view",
         "home",
         "home"
        ],
        [
         "Back",
         "Back to previous view",
         "arrow-left",
         "back"
        ],
        [
         "Forward",
         "Forward to next view",
         "arrow-right",
         "forward"
        ],
        [
         "Pan",
         "Pan axes with left mouse, zoom with right",
         "arrows",
         "pan"
        ],
        [
         "Zoom",
         "Zoom to rectangle",
         "square-o",
         "zoom"
        ],
        [
         "Download",
         "Download plot",
         "floppy-o",
         "save_figure"
        ]
       ]
      }
     },
     "fbe3e32654cc428a8ef8410b4d0314d9": {
      "model_module": "@jupyter-widgets/controls",
      "model_module_version": "1.5.0",
      "model_name": "FloatSliderModel",
      "state": {
       "description": "225°",
       "layout": "IPY_MODEL_111072491a304c0c8156629878f71073",
       "max": 1,
       "min": -1,
       "step": 0.01,
       "style": "IPY_MODEL_4309a3df8ca2454c97cc634e2b34f45e"
      }
     },
     "fbebe6cdd9834b0eae460964f0d6d2ad": {
      "model_module": "@jupyter-widgets/controls",
      "model_module_version": "1.5.0",
      "model_name": "FloatSliderModel",
      "state": {
       "description": "Protected Area Threshold",
       "layout": "IPY_MODEL_155800dc06204b858391f99b5aebe1c1",
       "max": 1,
       "step": 0.01,
       "style": "IPY_MODEL_5152aa4817bb48eba2dfcbc8f05ad90e",
       "value": 0.7
      }
     },
     "fc432e9edd84453bb2df66bd2de22509": {
      "model_module": "@jupyter-widgets/base",
      "model_module_version": "1.2.0",
      "model_name": "LayoutModel",
      "state": {}
     },
     "fc8bf5accda84eaa88e81766c7023f37": {
      "model_module": "@jupyter-widgets/controls",
      "model_module_version": "1.5.0",
      "model_name": "HBoxModel",
      "state": {
       "children": [
        "IPY_MODEL_9c8068ece1a54625b552e87d6e1828f2",
        "IPY_MODEL_4a876132f50741fc955465b02eec0792",
        "IPY_MODEL_1d9d38b1b2da40f9bfe61856fea28cf1",
        "IPY_MODEL_82d0dca1ce48448c8b209604c180f097"
       ],
       "layout": "IPY_MODEL_63e9acfb06344f459d544c52146acf88"
      }
     },
     "fca4f93e80ba4a48b7bcae70dcac42a7": {
      "model_module": "@jupyter-widgets/controls",
      "model_module_version": "1.5.0",
      "model_name": "TabModel",
      "state": {
       "_titles": {
        "0": "Global Controls",
        "1": "Protected Area Controls",
        "2": "Saturation Controls",
        "3": "Hue Controls"
       },
       "children": [
        "IPY_MODEL_0fe432b67a4745bd8e49ea4dc2feb374",
        "IPY_MODEL_a4aeb215bb3a43058bc838d16a2ea68b",
        "IPY_MODEL_982881472b8948d3a1b8ab999ed7dcce",
        "IPY_MODEL_57e4bb9364b848808d59684c05bed57d"
       ],
       "layout": "IPY_MODEL_0eebe99cdb3b461b9a32e9116c501758"
      }
     },
     "fcd85cfb24e8414f990462af0e60c45f": {
      "model_module": "@jupyter-widgets/controls",
      "model_module_version": "1.5.0",
      "model_name": "VBoxModel",
      "state": {
       "children": [
        "IPY_MODEL_bb9ff2132d3a4d23a6ae54a803b6021f"
       ],
       "layout": "IPY_MODEL_353e8cb4bd7546128741cccb7b440136"
      }
     },
     "fce22aba7ca4497fbfe32437d1659ef0": {
      "model_module": "@jupyter-widgets/controls",
      "model_module_version": "1.5.0",
      "model_name": "DescriptionStyleModel",
      "state": {
       "description_width": ""
      }
     },
     "fd302e6199ce49538925b775b400fd60": {
      "model_module": "@jupyter-widgets/base",
      "model_module_version": "1.2.0",
      "model_name": "LayoutModel",
      "state": {}
     },
     "fdbc1583e05a46318de0e4bff0b422a4": {
      "model_module": "@jupyter-widgets/base",
      "model_module_version": "1.2.0",
      "model_name": "LayoutModel",
      "state": {}
     },
     "fdcaed7d0cdf4809adf027142763e97a": {
      "model_module": "jupyter-matplotlib",
      "model_module_version": "^0.7.2",
      "model_name": "MPLCanvasModel",
      "state": {
       "_figure_label": "Figure 4",
       "_height": 618,
       "_width": 1099,
       "header_visible": false,
       "layout": "IPY_MODEL_b02b6e0f42af453f961045a58c874531",
       "resizable": false,
       "toolbar": "IPY_MODEL_467c6bc1f9254a46b595b9b342229343",
       "toolbar_position": "left",
       "toolbar_visible": false
      }
     },
     "fdf547bb7dc14587b3cb8552e96bc656": {
      "model_module": "@jupyter-widgets/controls",
      "model_module_version": "1.5.0",
      "model_name": "ButtonStyleModel",
      "state": {}
     },
     "feb97b8a12ae40aeb5d56187cc43fa0d": {
      "model_module": "@jupyter-widgets/base",
      "model_module_version": "1.2.0",
      "model_name": "LayoutModel",
      "state": {}
     },
     "fec3022b3ce242258c4d9a135c8efdad": {
      "model_module": "@jupyter-widgets/base",
      "model_module_version": "1.2.0",
      "model_name": "LayoutModel",
      "state": {}
     },
     "fec41f3413b74b148679284f181de9f9": {
      "model_module": "@jupyter-widgets/base",
      "model_module_version": "1.2.0",
      "model_name": "LayoutModel",
      "state": {}
     },
     "fedbb2648f1342f5b39fdeeb30749e6c": {
      "model_module": "@jupyter-widgets/base",
      "model_module_version": "1.2.0",
      "model_name": "LayoutModel",
      "state": {}
     },
     "ff04d811074548709e8efd26d80ca0f5": {
      "model_module": "@jupyter-widgets/base",
      "model_module_version": "1.2.0",
      "model_name": "LayoutModel",
      "state": {}
     },
     "ff4daa4e2b994f488855ecaa533361e0": {
      "model_module": "@jupyter-widgets/base",
      "model_module_version": "1.2.0",
      "model_name": "LayoutModel",
      "state": {}
     },
     "ff62c130ded64e638331f23f73b5f12f": {
      "model_module": "@jupyter-widgets/base",
      "model_module_version": "1.2.0",
      "model_name": "LayoutModel",
      "state": {}
     },
     "ff71bee6106642dba48b152a01d6b8bb": {
      "model_module": "@jupyter-widgets/controls",
      "model_module_version": "1.5.0",
      "model_name": "ButtonModel",
      "state": {
       "description": "Reset Protected Area",
       "layout": "IPY_MODEL_05993486e3c34de8a522b422292763c6",
       "style": "IPY_MODEL_6ee9198506bb40a28f141a7c0a0b4499"
      }
     },
     "ff92d71cf6b84a79b4831326abcd07b0": {
      "model_module": "@jupyter-widgets/controls",
      "model_module_version": "1.5.0",
      "model_name": "FloatSliderModel",
      "state": {
       "description": "90°",
       "layout": "IPY_MODEL_bfd88b295cd84273956d28134047a544",
       "max": 1,
       "min": -1,
       "step": 0.01,
       "style": "IPY_MODEL_4a48101d1b664229a706213c5dad86ad"
      }
     }
    },
    "version_major": 2,
    "version_minor": 0
   }
  }
 },
 "nbformat": 4,
 "nbformat_minor": 4
}
