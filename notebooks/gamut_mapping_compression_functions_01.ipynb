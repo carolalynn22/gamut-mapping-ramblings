{
 "cells": [
  {
   "cell_type": "markdown",
   "metadata": {
    "colab_type": "text",
    "id": "pRS6nhpu1R6y"
   },
   "source": [
    "# Gamut Mapping - Compression Functions 01"
   ]
  },
  {
   "cell_type": "code",
   "execution_count": 1,
   "metadata": {},
   "outputs": [],
   "source": [
    "%matplotlib widget"
   ]
  },
  {
   "cell_type": "code",
   "execution_count": 2,
   "metadata": {
    "colab": {
     "base_uri": "https://localhost:8080/",
     "height": 340
    },
    "colab_type": "code",
    "id": "OydMmtZRxd3c",
    "outputId": "297a43b9-f566-405d-e8bc-cfae56b50959"
   },
   "outputs": [
    {
     "name": "stdout",
     "output_type": "stream",
     "text": [
      "===============================================================================\n",
      "*                                                                             *\n",
      "*   Interpreter :                                                             *\n",
      "*       python : 3.7.6 (default, Dec 30 2019, 19:38:26)                       *\n",
      "*                [Clang 11.0.0 (clang-1100.0.33.16)]                          *\n",
      "*                                                                             *\n",
      "*   colour-science.org :                                                      *\n",
      "*       colour : v0.3.15-132-g8ed24e8e                                        *\n",
      "*                                                                             *\n",
      "*   Runtime :                                                                 *\n",
      "*       imageio : 2.8.0                                                       *\n",
      "*       matplotlib : 3.0.3                                                    *\n",
      "*       numpy : 1.18.4                                                        *\n",
      "*       scipy : 1.4.1                                                         *\n",
      "*       six : 1.14.0                                                          *\n",
      "*                                                                             *\n",
      "===============================================================================\n"
     ]
    }
   ],
   "source": [
    "from __future__ import division, unicode_literals\n",
    "\n",
    "import colour\n",
    "import matplotlib.pyplot as plt\n",
    "import numpy as np\n",
    "import os\n",
    "from scipy.optimize import fsolve\n",
    "\n",
    "COLOUR_STYLE = colour.plotting.colour_style()\n",
    "COLOUR_STYLE.update({\n",
    "    'figure.figsize': (11, 11),\n",
    "    'legend.framealpha':\n",
    "    colour.plotting.COLOUR_STYLE_CONSTANTS.opacity.low\n",
    "})\n",
    "\n",
    "plt.style.use(COLOUR_STYLE)\n",
    "\n",
    "plt.style.use('dark_background')\n",
    "\n",
    "colour.utilities.describe_environment()\n",
    "\n",
    "colour.utilities.filter_warnings(*[True] * 4);"
   ]
  },
  {
   "cell_type": "markdown",
   "metadata": {},
   "source": [
    "## Compression & Utility Functions"
   ]
  },
  {
   "cell_type": "code",
   "execution_count": 3,
   "metadata": {
    "colab": {},
    "colab_type": "code",
    "id": "RshonIbOI4Ij"
   },
   "outputs": [],
   "source": [
    "def tanh_compression_function(x, a=0.8, b=1 - 0.8):\n",
    "    x = colour.utilities.as_float_array(x)\n",
    "\n",
    "    return np.where(x > a, (a + b * np.tanh((x - a) / b)), x)\n",
    "\n",
    "\n",
    "def atan_compression_function(x, a=0.8, b=1 - 0.8):\n",
    "    x = colour.utilities.as_float_array(x)\n",
    "\n",
    "    return np.where(x > a, a + b * 2 / np.pi * np.arctan(((np.pi / 2) * (x - a)) / b), x)\n",
    "\n",
    "\n",
    "def simple_compression_function(x, a=0.8, b=1 - 0.8):\n",
    "    x = colour.utilities.as_float_array(x)\n",
    "\n",
    "    return np.where(x > a, a + (-1 / ((x - a) / b + 1) + 1) * b, x)\n",
    "\n",
    "\n",
    "def derivative(x, func, d=1e-7):\n",
    "    return (func(x + d) - func(x - d)) / (2 * d)\n"
   ]
  },
  {
   "cell_type": "code",
   "execution_count": 4,
   "metadata": {},
   "outputs": [
    {
     "data": {
      "application/vnd.jupyter.widget-view+json": {
       "model_id": "2b308d2eb0af46088af0942ed25426fc",
       "version_major": 2,
       "version_minor": 0
      },
      "text/plain": [
       "Canvas(toolbar=Toolbar(toolitems=[('Home', 'Reset original view', 'home', 'home'), ('Back', 'Back to previous …"
      ]
     },
     "metadata": {},
     "output_type": "display_data"
    }
   ],
   "source": [
    "colour.plotting.plot_multi_functions(\n",
    "    {\n",
    "        'tanh': tanh_compression_function,\n",
    "        'd/dx(tanh)': lambda x: derivative(x, tanh_compression_function),\n",
    "        'atan': atan_compression_function,\n",
    "        'd/dx(atan)': lambda x: derivative(x, atan_compression_function),\n",
    "        'simple': simple_compression_function,\n",
    "        'd/dx(simple)': lambda x: derivative(x, simple_compression_function),\n",
    "    },\n",
    "    **{\n",
    "        'figure.figsize': (11, 11),\n",
    "        'bounding_box': (0.5, 1.75, 0, 1.25),\n",
    "        'samples':\n",
    "        np.linspace(0, 2, 1000),\n",
    "        'plot_kwargs': [\n",
    "            {\n",
    "                'c': 'r',\n",
    "                'linestyle': 'dashdot'\n",
    "            },\n",
    "            {\n",
    "                'c': 'r'\n",
    "            },\n",
    "            {\n",
    "                'c': 'g',\n",
    "                'linestyle': 'dashdot'\n",
    "            },\n",
    "            {\n",
    "                'c': 'g'\n",
    "            },\n",
    "            {\n",
    "                'c': 'b',\n",
    "                'linestyle': 'dashdot'\n",
    "            },\n",
    "            {\n",
    "                'c': 'b'\n",
    "            },\n",
    "        ]\n",
    "    },\n",
    ");"
   ]
  },
  {
   "cell_type": "markdown",
   "metadata": {},
   "source": [
    "## Solving Intersection with Y = 1"
   ]
  },
  {
   "cell_type": "code",
   "execution_count": 5,
   "metadata": {},
   "outputs": [
    {
     "data": {
      "application/vnd.jupyter.widget-view+json": {
       "model_id": "444b6201127a401283c81573e1c28c86",
       "version_major": 2,
       "version_minor": 0
      },
      "text/plain": [
       "Canvas(toolbar=Toolbar(toolitems=[('Home', 'Reset original view', 'home', 'home'), ('Back', 'Back to previous …"
      ]
     },
     "metadata": {},
     "output_type": "display_data"
    }
   ],
   "source": [
    "X, A, I = 1.2, 0.8, 1\n",
    "\n",
    "figure, axes = colour.plotting.plot_multi_functions(\n",
    "    {\n",
    "        'tanh': lambda x: tanh_compression_function(\n",
    "            x, A, fsolve(lambda x: tanh_compression_function(X, A, x) - I, 0.5)),\n",
    "        'simple': lambda x: simple_compression_function(\n",
    "            x, A, fsolve(lambda x: simple_compression_function(X, A, x) - I, 0.5)),\n",
    "    },\n",
    "    **{\n",
    "        'standalone': False,\n",
    "        'samples':\n",
    "        np.linspace(0, 2, 1000),\n",
    "        'plot_kwargs': [\n",
    "            {\n",
    "                'c': 'r',\n",
    "            },\n",
    "            {\n",
    "                'c': 'g',\n",
    "            },\n",
    "        ]\n",
    "    },\n",
    ")\n",
    "\n",
    "axes.scatter(X, I, c='b', s=50, zorder=4);"
   ]
  }
 ],
 "metadata": {
  "colab": {
   "collapsed_sections": [],
   "name": "gamut_mapping_ramblings_01",
   "provenance": []
  },
  "kernelspec": {
   "display_name": "Python 3",
   "language": "python",
   "name": "python3"
  },
  "language_info": {
   "codemirror_mode": {
    "name": "ipython",
    "version": 3
   },
   "file_extension": ".py",
   "mimetype": "text/x-python",
   "name": "python",
   "nbconvert_exporter": "python",
   "pygments_lexer": "ipython3",
   "version": "3.7.6"
  },
  "widgets": {
   "application/vnd.jupyter.widget-state+json": {
    "state": {
     "217e7e5a1d0a411997597f13adc46eca": {
      "model_module": "jupyter-matplotlib",
      "model_module_version": "^0.7.2",
      "model_name": "ToolbarModel",
      "state": {
       "layout": "IPY_MODEL_2cb16958ab6d4e61928e27e9c88eec68",
       "toolitems": [
        [
         "Home",
         "Reset original view",
         "home",
         "home"
        ],
        [
         "Back",
         "Back to previous view",
         "arrow-left",
         "back"
        ],
        [
         "Forward",
         "Forward to next view",
         "arrow-right",
         "forward"
        ],
        [
         "Pan",
         "Pan axes with left mouse, zoom with right",
         "arrows",
         "pan"
        ],
        [
         "Zoom",
         "Zoom to rectangle",
         "square-o",
         "zoom"
        ],
        [
         "Download",
         "Download plot",
         "floppy-o",
         "save_figure"
        ]
       ]
      }
     },
     "28637477d2d04d79a224290e62fec408": {
      "model_module": "@jupyter-widgets/base",
      "model_module_version": "1.2.0",
      "model_name": "LayoutModel",
      "state": {}
     },
     "2b308d2eb0af46088af0942ed25426fc": {
      "model_module": "jupyter-matplotlib",
      "model_module_version": "^0.7.2",
      "model_name": "MPLCanvasModel",
      "state": {
       "_figure_label": "Figure 1",
       "_height": 1100,
       "_width": 1100,
       "layout": "IPY_MODEL_33319f20fc8d46a1ac5220985be3756b",
       "toolbar": "IPY_MODEL_f703e5ca0e4f4c26967b8299c72dbf4f",
       "toolbar_position": "left"
      }
     },
     "2cb16958ab6d4e61928e27e9c88eec68": {
      "model_module": "@jupyter-widgets/base",
      "model_module_version": "1.2.0",
      "model_name": "LayoutModel",
      "state": {}
     },
     "33319f20fc8d46a1ac5220985be3756b": {
      "model_module": "@jupyter-widgets/base",
      "model_module_version": "1.2.0",
      "model_name": "LayoutModel",
      "state": {}
     },
     "444b6201127a401283c81573e1c28c86": {
      "model_module": "jupyter-matplotlib",
      "model_module_version": "^0.7.2",
      "model_name": "MPLCanvasModel",
      "state": {
       "_figure_label": "Figure 2",
       "_height": 1100,
       "_width": 1100,
       "layout": "IPY_MODEL_28637477d2d04d79a224290e62fec408",
       "toolbar": "IPY_MODEL_217e7e5a1d0a411997597f13adc46eca",
       "toolbar_position": "left"
      }
     },
     "60faa83a3b9d48fbaece2f4967fe6e57": {
      "model_module": "@jupyter-widgets/base",
      "model_module_version": "1.2.0",
      "model_name": "LayoutModel",
      "state": {}
     },
     "f703e5ca0e4f4c26967b8299c72dbf4f": {
      "model_module": "jupyter-matplotlib",
      "model_module_version": "^0.7.2",
      "model_name": "ToolbarModel",
      "state": {
       "layout": "IPY_MODEL_60faa83a3b9d48fbaece2f4967fe6e57",
       "toolitems": [
        [
         "Home",
         "Reset original view",
         "home",
         "home"
        ],
        [
         "Back",
         "Back to previous view",
         "arrow-left",
         "back"
        ],
        [
         "Forward",
         "Forward to next view",
         "arrow-right",
         "forward"
        ],
        [
         "Pan",
         "Pan axes with left mouse, zoom with right",
         "arrows",
         "pan"
        ],
        [
         "Zoom",
         "Zoom to rectangle",
         "square-o",
         "zoom"
        ],
        [
         "Download",
         "Download plot",
         "floppy-o",
         "save_figure"
        ]
       ]
      }
     }
    },
    "version_major": 2,
    "version_minor": 0
   }
  }
 },
 "nbformat": 4,
 "nbformat_minor": 4
}
