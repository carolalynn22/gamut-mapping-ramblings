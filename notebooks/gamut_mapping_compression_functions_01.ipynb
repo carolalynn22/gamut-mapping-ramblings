{
 "cells": [
  {
   "cell_type": "markdown",
   "metadata": {
    "colab_type": "text",
    "id": "pRS6nhpu1R6y"
   },
   "source": [
    "# Gamut Mapping - Compression Functions 01"
   ]
  },
  {
   "cell_type": "code",
   "execution_count": 1,
   "metadata": {},
   "outputs": [],
   "source": [
    "%matplotlib widget"
   ]
  },
  {
   "cell_type": "code",
   "execution_count": 2,
   "metadata": {
    "colab": {
     "base_uri": "https://localhost:8080/",
     "height": 340
    },
    "colab_type": "code",
    "id": "OydMmtZRxd3c",
    "outputId": "297a43b9-f566-405d-e8bc-cfae56b50959"
   },
   "outputs": [
    {
     "name": "stdout",
     "output_type": "stream",
     "text": [
      "===============================================================================\n",
      "*                                                                             *\n",
      "*   Interpreter :                                                             *\n",
      "*       python : 3.7.6 (default, Dec 30 2019, 19:38:26)                       *\n",
      "*                [Clang 11.0.0 (clang-1100.0.33.16)]                          *\n",
      "*                                                                             *\n",
      "*   colour-science.org :                                                      *\n",
      "*       colour : v0.3.15-141-g3bebd7e9                                        *\n",
      "*                                                                             *\n",
      "*   Runtime :                                                                 *\n",
      "*       imageio : 2.8.0                                                       *\n",
      "*       matplotlib : 3.0.3                                                    *\n",
      "*       numpy : 1.18.4                                                        *\n",
      "*       scipy : 1.4.1                                                         *\n",
      "*       six : 1.14.0                                                          *\n",
      "*                                                                             *\n",
      "===============================================================================\n"
     ]
    }
   ],
   "source": [
    "from __future__ import division, unicode_literals\n",
    "\n",
    "import colour\n",
    "import matplotlib.pyplot as plt\n",
    "import numpy as np\n",
    "import os\n",
    "import scipy\n",
    "\n",
    "COLOUR_STYLE = colour.plotting.colour_style()\n",
    "COLOUR_STYLE.update({\n",
    "    'figure.figsize': (11, 11),\n",
    "    'legend.framealpha':\n",
    "    colour.plotting.COLOUR_STYLE_CONSTANTS.opacity.low\n",
    "})\n",
    "\n",
    "plt.style.use(COLOUR_STYLE)\n",
    "\n",
    "plt.style.use('dark_background')\n",
    "\n",
    "colour.utilities.describe_environment()\n",
    "\n",
    "colour.utilities.filter_warnings(*[True] * 4);"
   ]
  },
  {
   "cell_type": "markdown",
   "metadata": {},
   "source": [
    "## Compression & Utility Functions"
   ]
  },
  {
   "cell_type": "code",
   "execution_count": 3,
   "metadata": {
    "colab": {},
    "colab_type": "code",
    "id": "RshonIbOI4Ij"
   },
   "outputs": [],
   "source": [
    "def tanh_compression_function(x, a=0.8, b=1 - 0.8):\n",
    "    x = colour.utilities.as_float_array(x)\n",
    "\n",
    "    return np.where(x > a, a + b * np.tanh((x - a) / b), x)\n",
    "\n",
    "\n",
    "def atan_compression_function(x, a=0.8, b=1 - 0.8):\n",
    "    x = colour.utilities.as_float_array(x)\n",
    "\n",
    "    return np.where(x > a, a + b * 2 / np.pi * np.arctan(((np.pi / 2) * (x - a)) / b), x)\n",
    "\n",
    "\n",
    "def power_compression_function(x, a=0.8, b=1 - 0.8, p=2.0):\n",
    "    x = colour.utilities.as_float_array(x)\n",
    "\n",
    "    return np.where(x > a, a + (((x - a) / b) / np.power(1 + np.power((x - a) / b, p), 1.0/p)) * b, x)\n",
    "\n",
    "\n",
    "def simple_compression_function(x, a=0.8, b=1 - 0.8):\n",
    "    x = colour.utilities.as_float_array(x)\n",
    "\n",
    "    return np.where(x > a, a + (-1 / ((x - a) / b + 1) + 1) * b, x)\n",
    "\n",
    "\n",
    "def derivative(x, func, d=1e-7):\n",
    "    return (func(x + d) - func(x - d)) / (2 * d)\n"
   ]
  },
  {
   "cell_type": "code",
   "execution_count": 4,
   "metadata": {},
   "outputs": [
    {
     "data": {
      "application/vnd.jupyter.widget-view+json": {
       "model_id": "ec62041dbc1b4fa1968fe8f0116534f8",
       "version_major": 2,
       "version_minor": 0
      },
      "text/plain": [
       "Canvas(toolbar=Toolbar(toolitems=[('Home', 'Reset original view', 'home', 'home'), ('Back', 'Back to previous …"
      ]
     },
     "metadata": {},
     "output_type": "display_data"
    }
   ],
   "source": [
    "colour.plotting.plot_multi_functions(\n",
    "    {\n",
    "        'tanh': tanh_compression_function,\n",
    "        'd/dx(tanh)': lambda x: derivative(x, tanh_compression_function),\n",
    "        'atan': atan_compression_function,\n",
    "        'd/dx(atan)': lambda x: derivative(x, atan_compression_function),\n",
    "        'power': power_compression_function,\n",
    "        'd/dx(power)': lambda x: derivative(x, power_compression_function),\n",
    "        'simple': simple_compression_function,\n",
    "        'd/dx(simple)': lambda x: derivative(x, simple_compression_function),\n",
    "    },\n",
    "    **{\n",
    "        'figure.figsize': (11, 11),\n",
    "        'bounding_box': (0.5, 1.75, 0, 1.25),\n",
    "        'samples':\n",
    "        np.linspace(0, 2, 1000),\n",
    "        'plot_kwargs': [\n",
    "            {\n",
    "                'c': 'r',\n",
    "                'linestyle': 'dashdot'\n",
    "            },\n",
    "            {\n",
    "                'c': 'r'\n",
    "            },\n",
    "            {\n",
    "                'c': 'g',\n",
    "                'linestyle': 'dashdot'\n",
    "            },\n",
    "            {\n",
    "                'c': 'g'\n",
    "            },\n",
    "            {\n",
    "                'c': 'b',\n",
    "                'linestyle': 'dashdot'\n",
    "            },\n",
    "            {\n",
    "                'c': 'b'\n",
    "            },\n",
    "            {\n",
    "                'c': 'y',\n",
    "                'linestyle': 'dashdot'\n",
    "            },\n",
    "            {\n",
    "                'c': 'y'\n",
    "            },\n",
    "        ]\n",
    "    },\n",
    ");"
   ]
  },
  {
   "cell_type": "markdown",
   "metadata": {},
   "source": [
    "## TANH - Power Fitting"
   ]
  },
  {
   "cell_type": "code",
   "execution_count": 5,
   "metadata": {},
   "outputs": [
    {
     "name": "stdout",
     "output_type": "stream",
     "text": [
      "[ 0.65953861  0.34051662  4.6993435 ]\n",
      "7.53150995846e-08\n"
     ]
    },
    {
     "data": {
      "application/vnd.jupyter.widget-view+json": {
       "model_id": "906062bed9f244d1892820a200f3e4c2",
       "version_major": 2,
       "version_minor": 0
      },
      "text/plain": [
       "Canvas(toolbar=Toolbar(toolitems=[('Home', 'Reset original view', 'home', 'home'), ('Back', 'Back to previous …"
      ]
     },
     "metadata": {},
     "output_type": "display_data"
    }
   ],
   "source": [
    "SAMPLES = np.linspace(0, 8, 1000)\n",
    "TANH_SAMPLES = tanh_compression_function(SAMPLES)\n",
    "\n",
    "POPT, PCOV = scipy.optimize.curve_fit(\n",
    "    power_compression_function, SAMPLES, TANH_SAMPLES, maxfev=50000)\n",
    "\n",
    "print(POPT)\n",
    "print(\n",
    "    colour.utilities.metric_mse(TANH_SAMPLES,\n",
    "                                power_compression_function(SAMPLES, *POPT)))\n",
    "\n",
    "colour.plotting.artist()\n",
    "plt.plot(SAMPLES, TANH_SAMPLES, 'r', label='tanh')\n",
    "plt.plot(SAMPLES, power_compression_function(SAMPLES, *POPT), 'g', label='power')\n",
    "plt.legend()\n",
    "plt.show()"
   ]
  },
  {
   "cell_type": "markdown",
   "metadata": {},
   "source": [
    "## ATAN - Power Fitting"
   ]
  },
  {
   "cell_type": "code",
   "execution_count": 6,
   "metadata": {},
   "outputs": [
    {
     "name": "stdout",
     "output_type": "stream",
     "text": [
      "[ 0.83715264  0.16187046  1.18238345]\n",
      "9.2282913999e-08\n"
     ]
    },
    {
     "data": {
      "application/vnd.jupyter.widget-view+json": {
       "model_id": "c323d4940f444fc392aa7e131e2d658a",
       "version_major": 2,
       "version_minor": 0
      },
      "text/plain": [
       "Canvas(toolbar=Toolbar(toolitems=[('Home', 'Reset original view', 'home', 'home'), ('Back', 'Back to previous …"
      ]
     },
     "metadata": {},
     "output_type": "display_data"
    }
   ],
   "source": [
    "ATAN_SAMPLES = atan_compression_function(SAMPLES)\n",
    "\n",
    "POPT, PCOV = scipy.optimize.curve_fit(\n",
    "    power_compression_function, SAMPLES, ATAN_SAMPLES, maxfev=50000)\n",
    "\n",
    "print(POPT)\n",
    "print(\n",
    "    colour.utilities.metric_mse(ATAN_SAMPLES,\n",
    "                                power_compression_function(SAMPLES, *POPT)))\n",
    "\n",
    "colour.plotting.artist()\n",
    "plt.plot(SAMPLES, ATAN_SAMPLES, 'r', label='atan')\n",
    "plt.plot(SAMPLES, power_compression_function(SAMPLES, *POPT), 'g', label='power')\n",
    "plt.legend()\n",
    "plt.show()"
   ]
  },
  {
   "cell_type": "markdown",
   "metadata": {},
   "source": [
    "## Solving Intersection with Y = 1"
   ]
  },
  {
   "cell_type": "code",
   "execution_count": 7,
   "metadata": {},
   "outputs": [
    {
     "data": {
      "application/vnd.jupyter.widget-view+json": {
       "model_id": "f1e84e0006c64a139d748773fd8be653",
       "version_major": 2,
       "version_minor": 0
      },
      "text/plain": [
       "Canvas(toolbar=Toolbar(toolitems=[('Home', 'Reset original view', 'home', 'home'), ('Back', 'Back to previous …"
      ]
     },
     "metadata": {},
     "output_type": "display_data"
    }
   ],
   "source": [
    "X, A, I = 1.2, 0.8, 1\n",
    "\n",
    "figure, axes = colour.plotting.plot_multi_functions(\n",
    "    {\n",
    "        'tanh': lambda x: tanh_compression_function(\n",
    "            x, A, scipy.optimize.fsolve(\n",
    "                lambda x: tanh_compression_function(X, A, x) - I, 0.5)),\n",
    "        'simple': lambda x: simple_compression_function(\n",
    "            x, A, scipy.optimize.fsolve(\n",
    "                lambda x: simple_compression_function(X, A, x) - I, 0.5)),\n",
    "    },\n",
    "    **{\n",
    "        'standalone': False,\n",
    "        'bounding_box': [0, 2, 0, 2],\n",
    "        'samples':\n",
    "        np.linspace(0, 2, 1000),\n",
    "        'plot_kwargs': [\n",
    "            {\n",
    "                'c': 'r',\n",
    "            },\n",
    "            {\n",
    "                'c': 'g',\n",
    "            },\n",
    "        ]\n",
    "    },\n",
    ")\n",
    "\n",
    "axes.scatter(X, I, c='b', s=50, zorder=4);"
   ]
  },
  {
   "cell_type": "markdown",
   "metadata": {},
   "source": [
    "## Maximum Representable Value"
   ]
  },
  {
   "cell_type": "code",
   "execution_count": 8,
   "metadata": {},
   "outputs": [
    {
     "name": "stdout",
     "output_type": "stream",
     "text": [
      "[1, 1.0009766, 1.0019531, 1.0029297, 1.0039062, 1.0048828, 1.0058594, 1.0068359, 1.0078125, 1.0087891]\n"
     ]
    }
   ],
   "source": [
    "HFD = [1]\n",
    "\n",
    "while True:\n",
    "    HFD.append(np.nextafter(HFD[-1], +np.inf, dtype=np.float16))\n",
    "    if HFD[-1] > 65504:\n",
    "        break\n",
    "\n",
    "print(HFD[:10])"
   ]
  },
  {
   "cell_type": "code",
   "execution_count": 9,
   "metadata": {},
   "outputs": [
    {
     "name": "stdout",
     "output_type": "stream",
     "text": [
      "[ Threshold 0.0 ]\n",
      "tanh 6.58594\n",
      "atan 7376.0\n",
      "simple 23168.0\n",
      "\n",
      "\n",
      "[ Threshold 0.1 ]\n",
      "tanh 6.02734\n",
      "atan 6636.0\n",
      "simple 14744.0\n",
      "\n",
      "\n",
      "[ Threshold 0.2 ]\n",
      "tanh 5.46875\n",
      "atan 5900.0\n",
      "simple 13104.0\n",
      "\n",
      "\n",
      "[ Threshold 0.3 ]\n",
      "tanh 4.91016\n",
      "atan 3650.0\n",
      "simple 8108.0\n",
      "\n",
      "\n",
      "[ Threshold 0.4 ]\n",
      "tanh 4.35156\n",
      "atan 3130.0\n",
      "simple 6952.0\n",
      "\n",
      "\n",
      "[ Threshold 0.5 ]\n",
      "tanh 3.61914\n",
      "atan 1844.0\n",
      "simple 5792.0\n",
      "\n",
      "\n",
      "[ Threshold 0.6 ]\n",
      "tanh 3.0957\n",
      "atan 1476.0\n",
      "simple 3278.0\n",
      "\n",
      "\n",
      "[ Threshold 0.7 ]\n",
      "tanh 2.57227\n",
      "atan 783.0\n",
      "simple 1738.0\n",
      "\n",
      "\n",
      "[ Threshold 0.8 ]\n",
      "tanh 1.97852\n",
      "atan 369.5\n",
      "simple 820.0\n",
      "\n",
      "\n",
      "[ Threshold 0.9 ]\n",
      "tanh 1.48926\n",
      "atan 93.0625\n",
      "simple 205.625\n",
      "\n",
      "\n",
      "[ Threshold 1.0 ]\n",
      "tanh 1\n",
      "atan 1\n",
      "simple 1\n",
      "\n",
      "\n"
     ]
    }
   ],
   "source": [
    "for t in np.linspace(0, 1, 11):\n",
    "    print(f'[ Threshold {np.around(t, 1)} ]')\n",
    "    for func in (tanh_compression_function, atan_compression_function, simple_compression_function):\n",
    "        print(func.__name__.split('_')[0],\n",
    "              HFD[np.argmax((func(HFD[:-1], t, 1 - t) - func(HFD[1:], t, 1 - t)).astype(np.float16))])\n",
    "    print('\\n')"
   ]
  }
 ],
 "metadata": {
  "colab": {
   "collapsed_sections": [],
   "name": "gamut_mapping_ramblings_01",
   "provenance": []
  },
  "kernelspec": {
   "display_name": "Python 3",
   "language": "python",
   "name": "python3"
  },
  "language_info": {
   "codemirror_mode": {
    "name": "ipython",
    "version": 3
   },
   "file_extension": ".py",
   "mimetype": "text/x-python",
   "name": "python",
   "nbconvert_exporter": "python",
   "pygments_lexer": "ipython3",
   "version": "3.7.6"
  },
  "widgets": {
   "application/vnd.jupyter.widget-state+json": {
    "state": {},
    "version_major": 2,
    "version_minor": 0
   }
  }
 },
 "nbformat": 4,
 "nbformat_minor": 4
}
