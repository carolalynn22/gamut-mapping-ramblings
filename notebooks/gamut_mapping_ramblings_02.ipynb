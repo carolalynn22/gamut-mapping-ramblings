{
 "cells": [
  {
   "cell_type": "markdown",
   "metadata": {
    "colab_type": "text",
    "id": "pRS6nhpu1R6y"
   },
   "source": [
    "# Gamut Mapping - RGB & HSV Gamut Mapping Study Models Fitting"
   ]
  },
  {
   "cell_type": "code",
   "execution_count": 1,
   "metadata": {},
   "outputs": [],
   "source": [
    "%matplotlib widget"
   ]
  },
  {
   "cell_type": "code",
   "execution_count": 2,
   "metadata": {
    "colab": {
     "base_uri": "https://localhost:8080/",
     "height": 340
    },
    "colab_type": "code",
    "id": "OydMmtZRxd3c",
    "outputId": "297a43b9-f566-405d-e8bc-cfae56b50959"
   },
   "outputs": [
    {
     "name": "stdout",
     "output_type": "stream",
     "text": [
      "===============================================================================\n",
      "*                                                                             *\n",
      "*   Interpreter :                                                             *\n",
      "*       python : 3.7.6 (default, Dec 30 2019, 19:38:26)                       *\n",
      "*                [Clang 11.0.0 (clang-1100.0.33.16)]                          *\n",
      "*                                                                             *\n",
      "*   colour-science.org :                                                      *\n",
      "*       colour : v0.3.15-141-g3bebd7e9                                        *\n",
      "*                                                                             *\n",
      "*   Runtime :                                                                 *\n",
      "*       imageio : 2.8.0                                                       *\n",
      "*       matplotlib : 3.0.3                                                    *\n",
      "*       numpy : 1.18.4                                                        *\n",
      "*       scipy : 1.4.1                                                         *\n",
      "*       six : 1.14.0                                                          *\n",
      "*                                                                             *\n",
      "===============================================================================\n"
     ]
    }
   ],
   "source": [
    "from __future__ import division, unicode_literals\n",
    "\n",
    "import colour\n",
    "import matplotlib.pyplot as plt\n",
    "import numpy as np\n",
    "import os\n",
    "import scipy.interpolate\n",
    "import scipy.optimize\n",
    "from functools import reduce\n",
    "\n",
    "COLOUR_STYLE = colour.plotting.colour_style()\n",
    "COLOUR_STYLE.update({\n",
    "    'figure.figsize': (10.24, 5.12),\n",
    "    'legend.framealpha':\n",
    "    colour.plotting.COLOUR_STYLE_CONSTANTS.opacity.low\n",
    "})\n",
    "\n",
    "plt.style.use(COLOUR_STYLE)\n",
    "\n",
    "plt.style.use('dark_background')\n",
    "\n",
    "colour.utilities.describe_environment()\n",
    "\n",
    "colour.utilities.filter_warnings(*[True] * 4);"
   ]
  },
  {
   "cell_type": "markdown",
   "metadata": {
    "colab_type": "text",
    "id": "5yCeFpnnp_wh"
   },
   "source": [
    "## Colour Wheel & Colour Stripe Generation"
   ]
  },
  {
   "cell_type": "code",
   "execution_count": 3,
   "metadata": {
    "colab": {},
    "colab_type": "code",
    "id": "RshonIbOI4Ij"
   },
   "outputs": [],
   "source": [
    "def colour_stripe(S=1, samples=360):\n",
    "    H = np.linspace(0, 1, samples)\n",
    "\n",
    "    HSV = colour.utilities.tstack([H, np.ones(samples) * S, np.ones(samples)])\n",
    "    RGB = colour.HSV_to_RGB(HSV)\n",
    " \n",
    "    return RGB[np.newaxis, ...]\n",
    "\n",
    "\n",
    "def colour_wheel(samples=1024, clip_circle=True, method='Colour'):\n",
    "    xx, yy = np.meshgrid(\n",
    "        np.linspace(-1, 1, samples), np.linspace(-1, 1, samples))\n",
    "\n",
    "    S = np.sqrt(xx ** 2 + yy ** 2)    \n",
    "    H = (np.arctan2(xx, yy) + np.pi) / (np.pi * 2)\n",
    "\n",
    "    HSV = colour.utilities.tstack([H, S, np.ones(H.shape)])\n",
    "    RGB = colour.HSV_to_RGB(HSV)\n",
    "\n",
    "    if clip_circle == True:\n",
    "        RGB[S > 1] = 0\n",
    "        A = np.where(S > 1, 0, 1)\n",
    "    else:\n",
    "        A = np.ones(S.shape)\n",
    "\n",
    "    if method.lower()== 'matplotlib':\n",
    "        RGB = colour.utilities.orient(RGB, '90 CW')\n",
    "    elif method.lower()== 'nuke':\n",
    "        RGB = colour.utilities.orient(RGB, 'Flip')\n",
    "        RGB = colour.utilities.orient(RGB, '90 CW')\n",
    "\n",
    "    R, G, B = colour.utilities.tsplit(RGB)\n",
    "    \n",
    "    return colour.utilities.tstack([R, G, B, A])"
   ]
  },
  {
   "cell_type": "code",
   "execution_count": 4,
   "metadata": {
    "colab": {
     "base_uri": "https://localhost:8080/",
     "height": 726
    },
    "colab_type": "code",
    "id": "154RGuYrmMNa",
    "outputId": "45ce8789-a351-4ca8-d6d0-88db89531df2"
   },
   "outputs": [
    {
     "data": {
      "application/vnd.jupyter.widget-view+json": {
       "model_id": "6be4665e097540fb811611cfbcb95e85",
       "version_major": 2,
       "version_minor": 0
      },
      "text/plain": [
       "Canvas(toolbar=Toolbar(toolitems=[('Home', 'Reset original view', 'home', 'home'), ('Back', 'Back to previous …"
      ]
     },
     "metadata": {},
     "output_type": "display_data"
    },
    {
     "data": {
      "application/vnd.jupyter.widget-view+json": {
       "model_id": "bf74c1699a9c4df2bbf075d28df778f1",
       "version_major": 2,
       "version_minor": 0
      },
      "text/plain": [
       "Canvas(toolbar=Toolbar(toolitems=[('Home', 'Reset original view', 'home', 'home'), ('Back', 'Back to previous …"
      ]
     },
     "metadata": {},
     "output_type": "display_data"
    }
   ],
   "source": [
    "COLOUR_STRIPE = colour_stripe();\n",
    "\n",
    "COLOUR_WHEEL = colour_wheel(360, clip_circle=False)[..., 0:3]\n",
    "\n",
    "colour.plotting.plot_image(np.resize(COLOUR_STRIPE, [36, 360, 3]));\n",
    "\n",
    "with plt.style.context({'figure.figsize': (10.24, 10.24)}):\n",
    "\n",
    "    colour.plotting.plot_image(COLOUR_WHEEL);"
   ]
  },
  {
   "cell_type": "markdown",
   "metadata": {},
   "source": [
    "## Compression Function"
   ]
  },
  {
   "cell_type": "code",
   "execution_count": 5,
   "metadata": {},
   "outputs": [],
   "source": [
    "def tanh_compression_function(x, a=0.8, b=1 - 0.8):\n",
    "    x = colour.utilities.as_float_array(x)\n",
    "\n",
    "    return np.where(x > a, a + b * np.tanh((x - a) / b), x)"
   ]
  },
  {
   "cell_type": "markdown",
   "metadata": {},
   "source": [
    "## Gamut Mapping Study Models Difference"
   ]
  },
  {
   "cell_type": "code",
   "execution_count": 6,
   "metadata": {},
   "outputs": [],
   "source": [
    "SAMPLES = np.linspace(0, 1, 360)\n",
    "THRESHOLDS = [0, 0.5, 0.9]\n",
    "\n",
    "\n",
    "def hue_offset(x, a, b, c):\n",
    "    return np.sin(x * a + b) * c\n",
    "\n",
    "\n",
    "def medicina_HSV_control(\n",
    "        a=(np.pi * 6, np.pi, np.pi / 180),\n",
    "        RGB=COLOUR_STRIPE,\n",
    "        S_c=0,\n",
    "        C_f=tanh_compression_function):\n",
    "    H, S, V = colour.utilities.tsplit(colour.RGB_to_HSV(RGB))\n",
    "\n",
    "    HSV = colour.utilities.tstack([(H + hue_offset(SAMPLES, *a)) % 1,\n",
    "                                   C_f(S, S_c, 1 - S_c), V])\n",
    "\n",
    "    return colour.HSV_to_RGB(HSV)\n",
    "\n",
    "\n",
    "def medicina_RGB_saturation(RGB=COLOUR_STRIPE,\n",
    "                            C_t=0,\n",
    "                            C_f=tanh_compression_function):\n",
    "    L = np.max(RGB, axis=-1)[..., np.newaxis]\n",
    "\n",
    "    D = np.abs(RGB - L) / L\n",
    "\n",
    "    D_c = C_f(D, C_t, 1 - C_t)\n",
    "\n",
    "    RGB_c = L - D_c * L\n",
    "\n",
    "    return RGB_c\n",
    "\n",
    "\n",
    "RGB_S = medicina_RGB_saturation()"
   ]
  },
  {
   "cell_type": "code",
   "execution_count": 7,
   "metadata": {},
   "outputs": [
    {
     "data": {
      "application/vnd.jupyter.widget-view+json": {
       "model_id": "84e2c508fc6041ce901ef35d8829dae8",
       "version_major": 2,
       "version_minor": 0
      },
      "text/plain": [
       "Canvas(toolbar=Toolbar(toolitems=[('Home', 'Reset original view', 'home', 'home'), ('Back', 'Back to previous …"
      ]
     },
     "metadata": {},
     "output_type": "display_data"
    }
   ],
   "source": [
    "colour.plotting.plot_image(np.resize(medicina_HSV_control(), [36, 360, 3]));"
   ]
  },
  {
   "cell_type": "code",
   "execution_count": 8,
   "metadata": {},
   "outputs": [
    {
     "data": {
      "application/vnd.jupyter.widget-view+json": {
       "model_id": "6ff6c61462a04869be3317844bbb6401",
       "version_major": 2,
       "version_minor": 0
      },
      "text/plain": [
       "Canvas(toolbar=Toolbar(toolitems=[('Home', 'Reset original view', 'home', 'home'), ('Back', 'Back to previous …"
      ]
     },
     "metadata": {},
     "output_type": "display_data"
    }
   ],
   "source": [
    "colour.plotting.plot_image(np.resize(RGB_S, [36, 360, 3]));"
   ]
  },
  {
   "cell_type": "code",
   "execution_count": 9,
   "metadata": {},
   "outputs": [
    {
     "data": {
      "application/vnd.jupyter.widget-view+json": {
       "model_id": "e05491df1d264c6b90532ebfab871442",
       "version_major": 2,
       "version_minor": 0
      },
      "text/plain": [
       "Canvas(toolbar=Toolbar(toolitems=[('Home', 'Reset original view', 'home', 'home'), ('Back', 'Back to previous …"
      ]
     },
     "metadata": {},
     "output_type": "display_data"
    }
   ],
   "source": [
    "colour.plotting.plot_image(\n",
    "    np.resize(\n",
    "        np.abs(medicina_HSV_control([0, 0, 0]) - RGB_S) * 5, [36, 360, 3]));"
   ]
  },
  {
   "cell_type": "markdown",
   "metadata": {},
   "source": [
    "## Optimisation & Curve Fitting"
   ]
  },
  {
   "cell_type": "markdown",
   "metadata": {},
   "source": [
    "After some initial tests, it seemed like the closest function to minimize the error was a triangle or sine wave: https://community.acescentral.com/t/gamut-mapping-in-cylindrical-and-conic-spaces/2870/10?u=thomas_mansencal\n",
    "\n",
    "$\\sin\\bigg(x \\cdot \\pi \\cdot 6 + \\pi\\bigg) * \\cfrac{\\pi}{\\approx180}$\n",
    "\n",
    "is almost the best fitting function for the maximum saturation case, the rounded 180 value just happens to be convenient here but the actual value is slightly lower."
   ]
  },
  {
   "cell_type": "code",
   "execution_count": 10,
   "metadata": {},
   "outputs": [],
   "source": [
    "SATURATION_SAMPLES = np.linspace(0, 8, 200)\n",
    "STRIPES = np.vstack([colour_stripe(a) for a in SATURATION_SAMPLES])\n",
    "\n",
    "PARAMETERS = []\n",
    "for threshold in THRESHOLDS:\n",
    "    i = 0\n",
    "\n",
    "    def objective_function(abc):\n",
    "        stripe = STRIPES[i]\n",
    "        return np.sum(\n",
    "            np.abs(\n",
    "                medicina_HSV_control(abc, stripe, S_c=threshold) -\n",
    "                medicina_RGB_saturation(stripe, C_t=threshold)))\n",
    "\n",
    "    parameters = []\n",
    "    for i in range(len(STRIPES)):\n",
    "        parameters.append(\n",
    "            scipy.optimize.minimize(objective_function,\n",
    "                                    (np.pi * 6, np.pi, np.pi / 180)))\n",
    "\n",
    "    PARAMETERS.append(parameters)"
   ]
  },
  {
   "cell_type": "code",
   "execution_count": 11,
   "metadata": {},
   "outputs": [
    {
     "data": {
      "application/vnd.jupyter.widget-view+json": {
       "model_id": "f93dd84e11ac4f1fa80b4e0efaff6435",
       "version_major": 2,
       "version_minor": 0
      },
      "text/plain": [
       "Canvas(toolbar=Toolbar(toolitems=[('Home', 'Reset original view', 'home', 'home'), ('Back', 'Back to previous …"
      ]
     },
     "metadata": {},
     "output_type": "display_data"
    },
    {
     "data": {
      "application/vnd.jupyter.widget-view+json": {
       "model_id": "af34a9e835ce424594a84946dd21351d",
       "version_major": 2,
       "version_minor": 0
      },
      "text/plain": [
       "Canvas(toolbar=Toolbar(toolitems=[('Home', 'Reset original view', 'home', 'home'), ('Back', 'Back to previous …"
      ]
     },
     "metadata": {},
     "output_type": "display_data"
    },
    {
     "data": {
      "application/vnd.jupyter.widget-view+json": {
       "model_id": "33189267c907416a9b476d68e8057867",
       "version_major": 2,
       "version_minor": 0
      },
      "text/plain": [
       "Canvas(toolbar=Toolbar(toolitems=[('Home', 'Reset original view', 'home', 'home'), ('Back', 'Back to previous …"
      ]
     },
     "metadata": {},
     "output_type": "display_data"
    }
   ],
   "source": [
    "for parameters in PARAMETERS:\n",
    "    with plt.style.context({'figure.figsize': (10.24, 10.24)}):\n",
    "        colour.plotting.artist()\n",
    "\n",
    "        for parameter in parameters[1::5]:\n",
    "            plt.plot(\n",
    "                SAMPLES,\n",
    "                np.sin(\n",
    "                    np.linspace(0, 1, len(SAMPLES)) * parameter.x[0] +\n",
    "                    parameter.x[1]) * parameter.x[2])\n",
    "\n",
    "        for i in np.arange(0, 360 + 60, 60) / 360:\n",
    "            plt.axvline(i, c='r')"
   ]
  },
  {
   "cell_type": "code",
   "execution_count": 12,
   "metadata": {},
   "outputs": [
    {
     "data": {
      "application/vnd.jupyter.widget-view+json": {
       "model_id": "2fc247b8733f410ba9350ecf510b11da",
       "version_major": 2,
       "version_minor": 0
      },
      "text/plain": [
       "Canvas(toolbar=Toolbar(toolitems=[('Home', 'Reset original view', 'home', 'home'), ('Back', 'Back to previous …"
      ]
     },
     "metadata": {},
     "output_type": "display_data"
    },
    {
     "data": {
      "application/vnd.jupyter.widget-view+json": {
       "model_id": "6e296afaaa69464d8a64fb47bd7c1505",
       "version_major": 2,
       "version_minor": 0
      },
      "text/plain": [
       "Canvas(toolbar=Toolbar(toolitems=[('Home', 'Reset original view', 'home', 'home'), ('Back', 'Back to previous …"
      ]
     },
     "metadata": {},
     "output_type": "display_data"
    },
    {
     "data": {
      "application/vnd.jupyter.widget-view+json": {
       "model_id": "cab209f260eb432d84d48e77f54590ef",
       "version_major": 2,
       "version_minor": 0
      },
      "text/plain": [
       "Canvas(toolbar=Toolbar(toolitems=[('Home', 'Reset original view', 'home', 'home'), ('Back', 'Back to previous …"
      ]
     },
     "metadata": {},
     "output_type": "display_data"
    }
   ],
   "source": [
    "with plt.style.context({'figure.figsize': (10.24, 10.24)}):\n",
    "    colour.plotting.artist()\n",
    "\n",
    "    for parameters in PARAMETERS:\n",
    "            plt.plot(SATURATION_SAMPLES, [parameter.x[0] for parameter in parameters])\n",
    "\n",
    "with plt.style.context({'figure.figsize': (10.24, 10.24)}):\n",
    "    colour.plotting.artist()\n",
    "\n",
    "    for parameters in PARAMETERS:\n",
    "            plt.plot(SATURATION_SAMPLES, [parameter.x[1] for parameter in parameters])\n",
    "\n",
    "with plt.style.context({'figure.figsize': (10.24, 10.24)}):\n",
    "    colour.plotting.artist()\n",
    "\n",
    "    for parameters in PARAMETERS:\n",
    "            plt.plot(SATURATION_SAMPLES, [parameter.x[2] for parameter in parameters])"
   ]
  },
  {
   "cell_type": "code",
   "execution_count": 13,
   "metadata": {},
   "outputs": [],
   "source": [
    "def curve_segment(x, m_lnA, m_B, m_offsetX, m_offsetY, m_scaleX=1, m_scaleY=1):\n",
    "    x0 = (x - m_offsetX) * m_scaleX\n",
    "    y0 = np.exp(m_lnA + m_B * np.log(x0))\n",
    "\n",
    "    return np.where(x > 0, y0 * m_scaleY + m_offsetY, 0)\n",
    "\n",
    "\n",
    "def solve_A_B(x0, y0, m):\n",
    "    B = (m * x0) / y0\n",
    "    lnA = np.log(y0) - B * np.log(x0)\n",
    "\n",
    "    return lnA, B\n",
    "\n",
    "\n",
    "def as_slope_intercept(x0, x1, y0, y1):\n",
    "    dx = (x1 - x0)\n",
    "    dy = (y1 - y0)\n",
    "\n",
    "    m = 1 if dx == 0 else dy / dx\n",
    "    b = y0 - x0 * m\n",
    "\n",
    "    return m, b\n",
    "\n",
    "\n",
    "def eval_derivative_linear_gamma(m, b, g, x):\n",
    "    return g * m * np.power(m * x + b, g - 1.0)\n",
    "\n",
    "\n",
    "def curve(x, g, m_x0, m_y0, m_x1, m_y1, m_overshoot_x, m_overshoot_y):\n",
    "    m_x1 = max(m_x0, m_x1)\n",
    "    m_y1 = max(m_y0, m_y1)\n",
    "\n",
    "    m_overshoot_x = max(m_x1 - 1, m_overshoot_x)\n",
    "    m_overshoot_y = max(m_y1 - 1, m_overshoot_y)\n",
    "\n",
    "    m, b = as_slope_intercept(m_x0, m_x1, m_y0, m_y1)\n",
    "\n",
    "    linear_segment = curve_segment(x, g * np.log(m), g, -(b / m), 0)\n",
    "\n",
    "    toe_M = eval_derivative_linear_gamma(m, b, g, m_x0)\n",
    "    shoulder_M = eval_derivative_linear_gamma(m, b, g, m_x1)\n",
    "\n",
    "    m_y0 = np.power(m_y0, g)\n",
    "    m_y1 = np.power(m_y1, g)\n",
    "    m_overshoot_y = np.power(1 + m_overshoot_y, g) - 1\n",
    "\n",
    "    A_t, B_t = solve_A_B(m_x0, m_y0, toe_M)\n",
    "    toe_segment = curve_segment(x, A_t, B_t, 0, 0)\n",
    "\n",
    "    x0 = (1 + m_overshoot_x) - m_x1\n",
    "    y0 = (1 + m_overshoot_y) - m_y1\n",
    "    A_s, B_s = solve_A_B(x0, y0, shoulder_M)\n",
    "    shoulder_segment = curve_segment(x, A_s, B_s, 1 + m_overshoot_x,\n",
    "                                     1 + m_overshoot_y, -1, -1)\n",
    "\n",
    "    y = np.select(\n",
    "        [\n",
    "            x < m_x0,\n",
    "            np.logical_and(x > m_x0, x < m_x1),\n",
    "            np.logical_and(x > m_x1, x < m_overshoot_x + 1),\n",
    "            x > m_overshoot_x + 1,\n",
    "        ],\n",
    "        [\n",
    "            toe_segment, linear_segment, shoulder_segment,\n",
    "            np.nanmax(shoulder_segment, )\n",
    "        ],\n",
    "    )\n",
    "\n",
    "    return y"
   ]
  },
  {
   "cell_type": "code",
   "execution_count": 14,
   "metadata": {},
   "outputs": [
    {
     "name": "stdout",
     "output_type": "stream",
     "text": [
      "[ 1.25        0.41828126  0.01        1.56583187  0.06968826  8.\n",
      " -0.86023655]\n",
      "1.24955653779e-07\n"
     ]
    },
    {
     "data": {
      "application/vnd.jupyter.widget-view+json": {
       "model_id": "722e0aacf76b4e879222bccd6ac551f2",
       "version_major": 2,
       "version_minor": 0
      },
      "text/plain": [
       "Canvas(toolbar=Toolbar(toolitems=[('Home', 'Reset original view', 'home', 'home'), ('Back', 'Back to previous …"
      ]
     },
     "metadata": {},
     "output_type": "display_data"
    },
    {
     "name": "stdout",
     "output_type": "stream",
     "text": [
      "[ 1.01979549  0.95474635  0.01        1.47723114  0.04121946  5.43908318\n",
      " -0.91030243]\n",
      "3.49777070594e-07\n"
     ]
    },
    {
     "data": {
      "application/vnd.jupyter.widget-view+json": {
       "model_id": "dd3df99bb18c4e2c82ff794d0cc9eb1a",
       "version_major": 2,
       "version_minor": 0
      },
      "text/plain": [
       "Canvas(toolbar=Toolbar(toolitems=[('Home', 'Reset original view', 'home', 'home'), ('Back', 'Back to previous …"
      ]
     },
     "metadata": {},
     "output_type": "display_data"
    },
    {
     "name": "stdout",
     "output_type": "stream",
     "text": [
      "[ 1.22100573  0.99352605  0.00541947  1.22818909  0.04039225  3.14674915\n",
      " -0.86669221]\n",
      "5.63774296283e-07\n"
     ]
    },
    {
     "data": {
      "application/vnd.jupyter.widget-view+json": {
       "model_id": "7e0882c2cb824290a7cc425a1ba0a0a1",
       "version_major": 2,
       "version_minor": 0
      },
      "text/plain": [
       "Canvas(toolbar=Toolbar(toolitems=[('Home', 'Reset original view', 'home', 'home'), ('Back', 'Back to previous …"
      ]
     },
     "metadata": {},
     "output_type": "display_data"
    }
   ],
   "source": [
    "POPTS = []\n",
    "for parameters in PARAMETERS:\n",
    "    offset_r = [parameter.x[2] for parameter in parameters]\n",
    "\n",
    "    offset_r[0] = 0\n",
    "\n",
    "    popt, pcov = scipy.optimize.curve_fit(\n",
    "        curve,\n",
    "        SATURATION_SAMPLES,\n",
    "        offset_r,\n",
    "        bounds=np.transpose([\n",
    "            (.75, 1.25),\n",
    "            (0, 1.5),\n",
    "            (0.005, 0.01),\n",
    "            (0, 2.5),\n",
    "            (0.01, 0.2),\n",
    "            (1, 8),\n",
    "            (-1, -0.7),\n",
    "        ]),\n",
    "        maxfev=50000)\n",
    "    \n",
    "    POPTS.append(popt)\n",
    "    print(popt)\n",
    "    print(\n",
    "        colour.utilities.metric_mse(offset_r, curve(SATURATION_SAMPLES,\n",
    "                                                    *popt)))\n",
    "\n",
    "    with plt.style.context({'figure.figsize': (10.24, 10.24)}):\n",
    "        colour.plotting.artist()\n",
    "\n",
    "        plt.plot(SATURATION_SAMPLES, offset_r)\n",
    "        plt.plot(SATURATION_SAMPLES, curve(SATURATION_SAMPLES, *popt), 'o')"
   ]
  },
  {
   "cell_type": "code",
   "execution_count": 15,
   "metadata": {},
   "outputs": [
    {
     "name": "stdout",
     "output_type": "stream",
     "text": [
      "[[  1.25000000e+00   1.01979549e+00   1.22100573e+00]\n",
      " [  4.18281263e-01   9.54746350e-01   9.93526049e-01]\n",
      " [  1.00000000e-02   1.00000000e-02   5.41946590e-03]\n",
      " [  1.56583187e+00   1.47723114e+00   1.22818909e+00]\n",
      " [  6.96882649e-02   4.12194631e-02   4.03922518e-02]\n",
      " [  8.00000000e+00   5.43908318e+00   3.14674915e+00]\n",
      " [ -8.60236546e-01  -9.10302426e-01  -8.66692207e-01]]\n"
     ]
    },
    {
     "data": {
      "application/vnd.jupyter.widget-view+json": {
       "model_id": "a38146190dcc4e5e86b7d069f412dfeb",
       "version_major": 2,
       "version_minor": 0
      },
      "text/plain": [
       "Canvas(toolbar=Toolbar(toolitems=[('Home', 'Reset original view', 'home', 'home'), ('Back', 'Back to previous …"
      ]
     },
     "metadata": {},
     "output_type": "display_data"
    }
   ],
   "source": [
    "print(np.transpose(POPTS))\n",
    "\n",
    "with plt.style.context({'figure.figsize': (10.24, 10.24)}):\n",
    "    colour.plotting.artist()\n",
    "    for popt in POPTS:\n",
    "        plt.plot(SATURATION_SAMPLES, curve(SATURATION_SAMPLES, *popt))"
   ]
  },
  {
   "cell_type": "code",
   "execution_count": 16,
   "metadata": {},
   "outputs": [
    {
     "data": {
      "application/vnd.jupyter.widget-view+json": {
       "model_id": "230cc379662240e4a8291ab7377fe698",
       "version_major": 2,
       "version_minor": 0
      },
      "text/plain": [
       "Canvas(toolbar=Toolbar(toolitems=[('Home', 'Reset original view', 'home', 'home'), ('Back', 'Back to previous …"
      ]
     },
     "metadata": {},
     "output_type": "display_data"
    },
    {
     "data": {
      "application/vnd.jupyter.widget-view+json": {
       "model_id": "8b603eeff3934e6181e2817d7eb0d7dc",
       "version_major": 2,
       "version_minor": 0
      },
      "text/plain": [
       "Canvas(toolbar=Toolbar(toolitems=[('Home', 'Reset original view', 'home', 'home'), ('Back', 'Back to previous …"
      ]
     },
     "metadata": {},
     "output_type": "display_data"
    }
   ],
   "source": [
    "def hue_offset_extended(x, S, g, m_x0, m_y0, m_x1, m_y1, m_overshoot_x, m_overshoot_y):\n",
    "    return np.sin(x * np.pi * 6 + np.pi) * curve(S, g, m_x0, m_y0, m_x1, m_y1, m_overshoot_x, m_overshoot_y)\n",
    "\n",
    "\n",
    "def medicina_HSV_control_extended(a=POPTS[0],\n",
    "                                  RGB=COLOUR_STRIPE,\n",
    "                                  S_c=0,\n",
    "                                  C_f=tanh_compression_function):\n",
    "    H, S, V = colour.utilities.tsplit(colour.RGB_to_HSV(RGB))\n",
    "\n",
    "    HSV = colour.utilities.tstack(\n",
    "        [(H + hue_offset_extended(H, S, *a)) % 1,\n",
    "          C_f(S, S_c, 1 - S_c), V])\n",
    "\n",
    "    return colour.HSV_to_RGB(HSV)\n",
    "\n",
    "\n",
    "with plt.style.context({'figure.figsize': (10.24, 10.24)}):\n",
    "#     colour.plotting.plot_image(STRIPES);\n",
    "\n",
    "    colour.plotting.plot_image(\n",
    "            np.abs(\n",
    "                medicina_HSV_control([0, 0, 0], RGB=STRIPES) -\n",
    "                medicina_RGB_saturation(STRIPES)) * 5);\n",
    "\n",
    "    colour.plotting.plot_image(\n",
    "            np.abs(\n",
    "                medicina_HSV_control_extended(RGB=STRIPES) -\n",
    "                medicina_RGB_saturation(STRIPES)) * 5);"
   ]
  },
  {
   "cell_type": "code",
   "execution_count": 17,
   "metadata": {},
   "outputs": [
    {
     "data": {
      "application/vnd.jupyter.widget-view+json": {
       "model_id": "d52b6f1310d54c4ca127cd46850243e1",
       "version_major": 2,
       "version_minor": 0
      },
      "text/plain": [
       "Canvas(toolbar=Toolbar(toolitems=[('Home', 'Reset original view', 'home', 'home'), ('Back', 'Back to previous …"
      ]
     },
     "metadata": {},
     "output_type": "display_data"
    },
    {
     "data": {
      "application/vnd.jupyter.widget-view+json": {
       "model_id": "5889453512534f6fbb288f8a29a1b571",
       "version_major": 2,
       "version_minor": 0
      },
      "text/plain": [
       "Canvas(toolbar=Toolbar(toolitems=[('Home', 'Reset original view', 'home', 'home'), ('Back', 'Back to previous …"
      ]
     },
     "metadata": {},
     "output_type": "display_data"
    }
   ],
   "source": [
    "with plt.style.context({'figure.figsize': (10.24, 10.24)}):\n",
    "    colour.plotting.plot_image(\n",
    "        np.abs(\n",
    "            medicina_HSV_control([0, 0, 0], RGB=COLOUR_WHEEL) -\n",
    "            medicina_RGB_saturation(COLOUR_WHEEL)) * 5)\n",
    "\n",
    "    colour.plotting.plot_image(\n",
    "        np.abs(\n",
    "            medicina_HSV_control_extended(RGB=COLOUR_WHEEL) -\n",
    "            medicina_RGB_saturation(COLOUR_WHEEL)) * 5)"
   ]
  }
 ],
 "metadata": {
  "colab": {
   "collapsed_sections": [],
   "name": "gamut_mapping_ramblings_01",
   "provenance": []
  },
  "kernelspec": {
   "display_name": "Python 3",
   "language": "python",
   "name": "python3"
  },
  "language_info": {
   "codemirror_mode": {
    "name": "ipython",
    "version": 3
   },
   "file_extension": ".py",
   "mimetype": "text/x-python",
   "name": "python",
   "nbconvert_exporter": "python",
   "pygments_lexer": "ipython3",
   "version": "3.7.6"
  },
  "widgets": {
   "application/vnd.jupyter.widget-state+json": {
    "state": {},
    "version_major": 2,
    "version_minor": 0
   }
  }
 },
 "nbformat": 4,
 "nbformat_minor": 4
}
