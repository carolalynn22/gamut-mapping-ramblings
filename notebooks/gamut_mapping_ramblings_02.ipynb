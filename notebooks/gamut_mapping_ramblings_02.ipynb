{
 "cells": [
  {
   "cell_type": "markdown",
   "metadata": {
    "colab_type": "text",
    "id": "pRS6nhpu1R6y"
   },
   "source": [
    "# Gamut Mapping - RGB & HSV Gamut Mapping Study Models Fitting"
   ]
  },
  {
   "cell_type": "code",
   "execution_count": 1,
   "metadata": {},
   "outputs": [],
   "source": [
    "%matplotlib widget"
   ]
  },
  {
   "cell_type": "code",
   "execution_count": 2,
   "metadata": {
    "colab": {
     "base_uri": "https://localhost:8080/",
     "height": 340
    },
    "colab_type": "code",
    "id": "OydMmtZRxd3c",
    "outputId": "297a43b9-f566-405d-e8bc-cfae56b50959"
   },
   "outputs": [
    {
     "name": "stdout",
     "output_type": "stream",
     "text": [
      "===============================================================================\n",
      "*                                                                             *\n",
      "*   Interpreter :                                                             *\n",
      "*       python : 3.7.6 (default, Dec 30 2019, 19:38:26)                       *\n",
      "*                [Clang 11.0.0 (clang-1100.0.33.16)]                          *\n",
      "*                                                                             *\n",
      "*   colour-science.org :                                                      *\n",
      "*       colour : v0.3.15-141-g3bebd7e9                                        *\n",
      "*                                                                             *\n",
      "*   Runtime :                                                                 *\n",
      "*       imageio : 2.8.0                                                       *\n",
      "*       matplotlib : 3.0.3                                                    *\n",
      "*       numpy : 1.18.4                                                        *\n",
      "*       scipy : 1.4.1                                                         *\n",
      "*       six : 1.14.0                                                          *\n",
      "*                                                                             *\n",
      "===============================================================================\n"
     ]
    }
   ],
   "source": [
    "from __future__ import division, unicode_literals\n",
    "\n",
    "import colour\n",
    "import matplotlib.pyplot as plt\n",
    "import numpy as np\n",
    "import os\n",
    "import scipy.interpolate\n",
    "import scipy.optimize\n",
    "from functools import reduce\n",
    "\n",
    "COLOUR_STYLE = colour.plotting.colour_style()\n",
    "COLOUR_STYLE.update({\n",
    "    'figure.figsize': (10.24, 5.12),\n",
    "    'legend.framealpha':\n",
    "    colour.plotting.COLOUR_STYLE_CONSTANTS.opacity.low\n",
    "})\n",
    "\n",
    "plt.style.use(COLOUR_STYLE)\n",
    "\n",
    "plt.style.use('dark_background')\n",
    "\n",
    "colour.utilities.describe_environment()\n",
    "\n",
    "colour.utilities.filter_warnings(*[True] * 4);"
   ]
  },
  {
   "cell_type": "markdown",
   "metadata": {
    "colab_type": "text",
    "id": "5yCeFpnnp_wh"
   },
   "source": [
    "## Colour Wheel & Colour Stripe Generation"
   ]
  },
  {
   "cell_type": "code",
   "execution_count": 3,
   "metadata": {
    "colab": {},
    "colab_type": "code",
    "id": "RshonIbOI4Ij"
   },
   "outputs": [],
   "source": [
    "def colour_stripe(S=1, samples=360):\n",
    "    H = np.linspace(0, 1, samples)\n",
    "\n",
    "    HSV = colour.utilities.tstack([H, np.ones(samples) * S, np.ones(samples)])\n",
    "    RGB = colour.HSV_to_RGB(HSV)\n",
    " \n",
    "    return RGB[np.newaxis, ...]\n",
    "\n",
    "\n",
    "def colour_wheel(samples=1024, clip_circle=True, method='Colour'):\n",
    "    xx, yy = np.meshgrid(\n",
    "        np.linspace(-1, 1, samples), np.linspace(-1, 1, samples))\n",
    "\n",
    "    S = np.sqrt(xx ** 2 + yy ** 2)    \n",
    "    H = (np.arctan2(xx, yy) + np.pi) / (np.pi * 2)\n",
    "\n",
    "    HSV = colour.utilities.tstack([H, S, np.ones(H.shape)])\n",
    "    RGB = colour.HSV_to_RGB(HSV)\n",
    "\n",
    "    if clip_circle == True:\n",
    "        RGB[S > 1] = 0\n",
    "        A = np.where(S > 1, 0, 1)\n",
    "    else:\n",
    "        A = np.ones(S.shape)\n",
    "\n",
    "    if method.lower()== 'matplotlib':\n",
    "        RGB = colour.utilities.orient(RGB, '90 CW')\n",
    "    elif method.lower()== 'nuke':\n",
    "        RGB = colour.utilities.orient(RGB, 'Flip')\n",
    "        RGB = colour.utilities.orient(RGB, '90 CW')\n",
    "\n",
    "    R, G, B = colour.utilities.tsplit(RGB)\n",
    "    \n",
    "    return colour.utilities.tstack([R, G, B, A])"
   ]
  },
  {
   "cell_type": "code",
   "execution_count": 4,
   "metadata": {
    "colab": {
     "base_uri": "https://localhost:8080/",
     "height": 726
    },
    "colab_type": "code",
    "id": "154RGuYrmMNa",
    "outputId": "45ce8789-a351-4ca8-d6d0-88db89531df2"
   },
   "outputs": [
    {
     "data": {
      "application/vnd.jupyter.widget-view+json": {
       "model_id": "774473a1fd8044669e9f128f8b334004",
       "version_major": 2,
       "version_minor": 0
      },
      "text/plain": [
       "Canvas(toolbar=Toolbar(toolitems=[('Home', 'Reset original view', 'home', 'home'), ('Back', 'Back to previous …"
      ]
     },
     "metadata": {},
     "output_type": "display_data"
    },
    {
     "data": {
      "application/vnd.jupyter.widget-view+json": {
       "model_id": "f0b7c8f8d0ed4520812785b8d99aa502",
       "version_major": 2,
       "version_minor": 0
      },
      "text/plain": [
       "Canvas(toolbar=Toolbar(toolitems=[('Home', 'Reset original view', 'home', 'home'), ('Back', 'Back to previous …"
      ]
     },
     "metadata": {},
     "output_type": "display_data"
    }
   ],
   "source": [
    "COLOUR_STRIPE = colour_stripe();\n",
    "\n",
    "COLOUR_WHEEL = colour_wheel(360, clip_circle=False)[..., 0:3]\n",
    "\n",
    "colour.plotting.plot_image(np.resize(COLOUR_STRIPE, [36, 360, 3]));\n",
    "\n",
    "with plt.style.context({'figure.figsize': (10.24, 10.24)}):\n",
    "\n",
    "    colour.plotting.plot_image(COLOUR_WHEEL);"
   ]
  },
  {
   "cell_type": "markdown",
   "metadata": {},
   "source": [
    "## Compression Function"
   ]
  },
  {
   "cell_type": "code",
   "execution_count": 5,
   "metadata": {},
   "outputs": [],
   "source": [
    "def tanh_compression_function(x, a=0.8, b=1 - 0.8):\n",
    "    x = colour.utilities.as_float_array(x)\n",
    "\n",
    "    return np.where(x > a, a + b * np.tanh((x - a) / b), x)"
   ]
  },
  {
   "cell_type": "markdown",
   "metadata": {},
   "source": [
    "## Gamut Mapping Study Models Difference"
   ]
  },
  {
   "cell_type": "code",
   "execution_count": 6,
   "metadata": {},
   "outputs": [],
   "source": [
    "SAMPLES = np.linspace(0, 1, 360)\n",
    "THRESHOLDS = np.linspace(0, 1, 11)\n",
    "\n",
    "\n",
    "def hue_offset(x, a, b, c):\n",
    "    return np.sin(x * a + b) * c\n",
    "\n",
    "\n",
    "def medicina_HSV_control(\n",
    "        a=(np.pi * 6, np.pi, np.pi / 180),\n",
    "        RGB=COLOUR_STRIPE,\n",
    "        S_c=0,\n",
    "        C_f=tanh_compression_function):\n",
    "    H, S, V = colour.utilities.tsplit(colour.RGB_to_HSV(RGB))\n",
    "\n",
    "    HSV = colour.utilities.tstack([(H + hue_offset(SAMPLES, *a)) % 1,\n",
    "                                   C_f(S, S_c, 1 - S_c), V])\n",
    "\n",
    "    return colour.HSV_to_RGB(HSV)\n",
    "\n",
    "\n",
    "def medicina_RGB_saturation(RGB=COLOUR_STRIPE,\n",
    "                            C_t=0,\n",
    "                            C_f=tanh_compression_function):\n",
    "    L = np.max(RGB, axis=-1)[..., np.newaxis]\n",
    "\n",
    "    D = np.abs(RGB - L) / L\n",
    "\n",
    "    D_c = C_f(D, C_t, 1 - C_t)\n",
    "\n",
    "    RGB_c = L - D_c * L\n",
    "\n",
    "    return RGB_c\n",
    "\n",
    "\n",
    "RGB_S = medicina_RGB_saturation()"
   ]
  },
  {
   "cell_type": "code",
   "execution_count": 7,
   "metadata": {},
   "outputs": [
    {
     "data": {
      "application/vnd.jupyter.widget-view+json": {
       "model_id": "64fc291c6ad7447b8586d6591061a9fc",
       "version_major": 2,
       "version_minor": 0
      },
      "text/plain": [
       "Canvas(toolbar=Toolbar(toolitems=[('Home', 'Reset original view', 'home', 'home'), ('Back', 'Back to previous …"
      ]
     },
     "metadata": {},
     "output_type": "display_data"
    }
   ],
   "source": [
    "colour.plotting.plot_image(np.resize(medicina_HSV_control(), [36, 360, 3]));"
   ]
  },
  {
   "cell_type": "code",
   "execution_count": 8,
   "metadata": {},
   "outputs": [
    {
     "data": {
      "application/vnd.jupyter.widget-view+json": {
       "model_id": "4a7980383933473297f4f914948084c3",
       "version_major": 2,
       "version_minor": 0
      },
      "text/plain": [
       "Canvas(toolbar=Toolbar(toolitems=[('Home', 'Reset original view', 'home', 'home'), ('Back', 'Back to previous …"
      ]
     },
     "metadata": {},
     "output_type": "display_data"
    }
   ],
   "source": [
    "colour.plotting.plot_image(np.resize(RGB_S, [36, 360, 3]));"
   ]
  },
  {
   "cell_type": "code",
   "execution_count": 9,
   "metadata": {},
   "outputs": [
    {
     "data": {
      "application/vnd.jupyter.widget-view+json": {
       "model_id": "5e86351def5349f69260282c0dbb0c6b",
       "version_major": 2,
       "version_minor": 0
      },
      "text/plain": [
       "Canvas(toolbar=Toolbar(toolitems=[('Home', 'Reset original view', 'home', 'home'), ('Back', 'Back to previous …"
      ]
     },
     "metadata": {},
     "output_type": "display_data"
    }
   ],
   "source": [
    "colour.plotting.plot_image(\n",
    "    np.resize(\n",
    "        np.abs(medicina_HSV_control([0, 0, 0]) - RGB_S) * 5, [36, 360, 3]));"
   ]
  },
  {
   "cell_type": "markdown",
   "metadata": {},
   "source": [
    "## Optimisation & Curve Fitting"
   ]
  },
  {
   "cell_type": "markdown",
   "metadata": {},
   "source": [
    "After some initial tests, it seemed like the closest function to minimize the error was a triangle or sine wave: https://community.acescentral.com/t/gamut-mapping-in-cylindrical-and-conic-spaces/2870/10?u=thomas_mansencal\n",
    "\n",
    "$\\sin\\bigg(x \\cdot \\pi \\cdot 6 + \\pi\\bigg) * \\cfrac{\\pi}{\\approx180}$\n",
    "\n",
    "is almost the best fitting function for the maximum saturation case, the rounded 180 value just happens to be convenient here but the actual value is slightly lower."
   ]
  },
  {
   "cell_type": "code",
   "execution_count": 10,
   "metadata": {},
   "outputs": [],
   "source": [
    "SATURATION_SAMPLES = np.linspace(0, 6, 1000)\n",
    "STRIPES = np.vstack([colour_stripe(a) for a in SATURATION_SAMPLES])\n",
    "\n",
    "PARAMETERS = []\n",
    "for threshold in THRESHOLDS:\n",
    "    i = 0\n",
    "\n",
    "    def objective_function(abc):\n",
    "        stripe = STRIPES[i]\n",
    "        return np.sum(\n",
    "            np.abs(\n",
    "                medicina_HSV_control(abc, stripe, S_c=threshold) -\n",
    "                medicina_RGB_saturation(stripe, C_t=threshold)))\n",
    "\n",
    "    parameters = []\n",
    "    for i in range(len(STRIPES)):\n",
    "        parameters.append(\n",
    "            scipy.optimize.minimize(objective_function,\n",
    "                                    (np.pi * 6, np.pi, np.pi / 180)))\n",
    "\n",
    "    PARAMETERS.append(parameters)"
   ]
  },
  {
   "cell_type": "code",
   "execution_count": 11,
   "metadata": {},
   "outputs": [
    {
     "data": {
      "application/vnd.jupyter.widget-view+json": {
       "model_id": "c85e841c29b94dcf9d32b85c8c19c655",
       "version_major": 2,
       "version_minor": 0
      },
      "text/plain": [
       "Canvas(toolbar=Toolbar(toolitems=[('Home', 'Reset original view', 'home', 'home'), ('Back', 'Back to previous …"
      ]
     },
     "metadata": {},
     "output_type": "display_data"
    },
    {
     "data": {
      "application/vnd.jupyter.widget-view+json": {
       "model_id": "a0af4249cfd04d66b31b24e8080b6cf0",
       "version_major": 2,
       "version_minor": 0
      },
      "text/plain": [
       "Canvas(toolbar=Toolbar(toolitems=[('Home', 'Reset original view', 'home', 'home'), ('Back', 'Back to previous …"
      ]
     },
     "metadata": {},
     "output_type": "display_data"
    },
    {
     "data": {
      "application/vnd.jupyter.widget-view+json": {
       "model_id": "d331579775b845b3ad90be8175ccb73e",
       "version_major": 2,
       "version_minor": 0
      },
      "text/plain": [
       "Canvas(toolbar=Toolbar(toolitems=[('Home', 'Reset original view', 'home', 'home'), ('Back', 'Back to previous …"
      ]
     },
     "metadata": {},
     "output_type": "display_data"
    },
    {
     "data": {
      "application/vnd.jupyter.widget-view+json": {
       "model_id": "2181b195d75640838a0ec9ef10e6a416",
       "version_major": 2,
       "version_minor": 0
      },
      "text/plain": [
       "Canvas(toolbar=Toolbar(toolitems=[('Home', 'Reset original view', 'home', 'home'), ('Back', 'Back to previous …"
      ]
     },
     "metadata": {},
     "output_type": "display_data"
    },
    {
     "data": {
      "application/vnd.jupyter.widget-view+json": {
       "model_id": "e38cf3f092bc426a85067085d8bfd76a",
       "version_major": 2,
       "version_minor": 0
      },
      "text/plain": [
       "Canvas(toolbar=Toolbar(toolitems=[('Home', 'Reset original view', 'home', 'home'), ('Back', 'Back to previous …"
      ]
     },
     "metadata": {},
     "output_type": "display_data"
    },
    {
     "data": {
      "application/vnd.jupyter.widget-view+json": {
       "model_id": "65dcc63cd252414ebfca4b8a3faf7d35",
       "version_major": 2,
       "version_minor": 0
      },
      "text/plain": [
       "Canvas(toolbar=Toolbar(toolitems=[('Home', 'Reset original view', 'home', 'home'), ('Back', 'Back to previous …"
      ]
     },
     "metadata": {},
     "output_type": "display_data"
    },
    {
     "data": {
      "application/vnd.jupyter.widget-view+json": {
       "model_id": "e6b658a7769e4c839ebdeed88f6434ea",
       "version_major": 2,
       "version_minor": 0
      },
      "text/plain": [
       "Canvas(toolbar=Toolbar(toolitems=[('Home', 'Reset original view', 'home', 'home'), ('Back', 'Back to previous …"
      ]
     },
     "metadata": {},
     "output_type": "display_data"
    },
    {
     "data": {
      "application/vnd.jupyter.widget-view+json": {
       "model_id": "2b1dc060cb3b44ccb435ceaef77056b9",
       "version_major": 2,
       "version_minor": 0
      },
      "text/plain": [
       "Canvas(toolbar=Toolbar(toolitems=[('Home', 'Reset original view', 'home', 'home'), ('Back', 'Back to previous …"
      ]
     },
     "metadata": {},
     "output_type": "display_data"
    },
    {
     "data": {
      "application/vnd.jupyter.widget-view+json": {
       "model_id": "d0712010575547f0bd6df8196469ebf6",
       "version_major": 2,
       "version_minor": 0
      },
      "text/plain": [
       "Canvas(toolbar=Toolbar(toolitems=[('Home', 'Reset original view', 'home', 'home'), ('Back', 'Back to previous …"
      ]
     },
     "metadata": {},
     "output_type": "display_data"
    },
    {
     "data": {
      "application/vnd.jupyter.widget-view+json": {
       "model_id": "50e1f7b0e1054923bd4eca72464aa1bb",
       "version_major": 2,
       "version_minor": 0
      },
      "text/plain": [
       "Canvas(toolbar=Toolbar(toolitems=[('Home', 'Reset original view', 'home', 'home'), ('Back', 'Back to previous …"
      ]
     },
     "metadata": {},
     "output_type": "display_data"
    },
    {
     "data": {
      "application/vnd.jupyter.widget-view+json": {
       "model_id": "ae183085f98943a4baf7ab55b78d4da2",
       "version_major": 2,
       "version_minor": 0
      },
      "text/plain": [
       "Canvas(toolbar=Toolbar(toolitems=[('Home', 'Reset original view', 'home', 'home'), ('Back', 'Back to previous …"
      ]
     },
     "metadata": {},
     "output_type": "display_data"
    }
   ],
   "source": [
    "for parameters in PARAMETERS:\n",
    "    with plt.style.context({'figure.figsize': (10.24, 10.24)}):\n",
    "        colour.plotting.artist()\n",
    "\n",
    "        for parameter in parameters[1::5]:\n",
    "            plt.plot(\n",
    "                SAMPLES,\n",
    "                np.sin(\n",
    "                    np.linspace(0, 1, len(SAMPLES)) * parameter.x[0] +\n",
    "                    parameter.x[1]) * parameter.x[2])\n",
    "\n",
    "        for i in np.arange(0, 360 + 60, 60) / 360:\n",
    "            plt.axvline(i, c='r')"
   ]
  },
  {
   "cell_type": "code",
   "execution_count": 12,
   "metadata": {},
   "outputs": [
    {
     "data": {
      "application/vnd.jupyter.widget-view+json": {
       "model_id": "e22ddeb6466547c680324619c234fb86",
       "version_major": 2,
       "version_minor": 0
      },
      "text/plain": [
       "Canvas(toolbar=Toolbar(toolitems=[('Home', 'Reset original view', 'home', 'home'), ('Back', 'Back to previous …"
      ]
     },
     "metadata": {},
     "output_type": "display_data"
    },
    {
     "data": {
      "application/vnd.jupyter.widget-view+json": {
       "model_id": "83c952f1a3984f28ad15d59b8b996476",
       "version_major": 2,
       "version_minor": 0
      },
      "text/plain": [
       "Canvas(toolbar=Toolbar(toolitems=[('Home', 'Reset original view', 'home', 'home'), ('Back', 'Back to previous …"
      ]
     },
     "metadata": {},
     "output_type": "display_data"
    },
    {
     "data": {
      "application/vnd.jupyter.widget-view+json": {
       "model_id": "f2da8902943e4f9aad9093ba279a7f71",
       "version_major": 2,
       "version_minor": 0
      },
      "text/plain": [
       "Canvas(toolbar=Toolbar(toolitems=[('Home', 'Reset original view', 'home', 'home'), ('Back', 'Back to previous …"
      ]
     },
     "metadata": {},
     "output_type": "display_data"
    }
   ],
   "source": [
    "with plt.style.context({'figure.figsize': (10.24, 10.24)}):\n",
    "    colour.plotting.artist()\n",
    "\n",
    "    Y = []\n",
    "    for parameters in PARAMETERS:\n",
    "        y = [parameter.x[0] for parameter in parameters]\n",
    "        Y.append(y)\n",
    "        plt.plot(SATURATION_SAMPLES, y)\n",
    "\n",
    "    plt.plot(SATURATION_SAMPLES, np.mean(Y, axis=0))\n",
    "\n",
    "with plt.style.context({'figure.figsize': (10.24, 10.24)}):\n",
    "    colour.plotting.artist()\n",
    "\n",
    "    Y = []\n",
    "    for parameters in PARAMETERS:\n",
    "        y = [parameter.x[1] for parameter in parameters]\n",
    "        Y.append(y)\n",
    "        plt.plot(SATURATION_SAMPLES, y)\n",
    "\n",
    "    plt.plot(SATURATION_SAMPLES, np.mean(Y, axis=0))\n",
    "\n",
    "with plt.style.context({'figure.figsize': (10.24, 10.24)}):\n",
    "    colour.plotting.artist()\n",
    "\n",
    "    Y = []\n",
    "    for parameters in PARAMETERS:\n",
    "        y = [parameter.x[2] for parameter in parameters]\n",
    "        Y.append(y)\n",
    "        plt.plot(SATURATION_SAMPLES, y)\n",
    "\n",
    "    plt.plot(SATURATION_SAMPLES, np.mean(Y, axis=0))"
   ]
  },
  {
   "cell_type": "code",
   "execution_count": 13,
   "metadata": {},
   "outputs": [],
   "source": [
    "def curve_segment(x, m_lnA, m_B, m_offsetX, m_offsetY, m_scaleX=1, m_scaleY=1):\n",
    "    x0 = (x - m_offsetX) * m_scaleX\n",
    "    y0 = np.exp(m_lnA + m_B * np.log(x0))\n",
    "\n",
    "    return np.where(x > 0, y0 * m_scaleY + m_offsetY, 0)\n",
    "\n",
    "\n",
    "def solve_A_B(x0, y0, m):\n",
    "    B = (m * x0) / y0\n",
    "    lnA = np.log(y0) - B * np.log(x0)\n",
    "\n",
    "    return lnA, B\n",
    "\n",
    "\n",
    "def as_slope_intercept(x0, x1, y0, y1):\n",
    "    dx = (x1 - x0)\n",
    "    dy = (y1 - y0)\n",
    "\n",
    "    m = 1 if dx == 0 else dy / dx\n",
    "    b = y0 - x0 * m\n",
    "\n",
    "    return m, b\n",
    "\n",
    "\n",
    "def eval_derivative_linear_gamma(m, b, g, x):\n",
    "    return g * m * np.power(m * x + b, g - 1.0)\n",
    "\n",
    "\n",
    "def curve(x, g, m_x0, m_y0, m_x1, m_y1, m_overshoot_x, m_overshoot_y):\n",
    "    m_x1 = max(m_x0, m_x1)\n",
    "    m_y1 = max(m_y0, m_y1)\n",
    "\n",
    "    m_overshoot_x = max(m_x1 - 1, m_overshoot_x)\n",
    "    m_overshoot_y = max(m_y1 - 1, m_overshoot_y)\n",
    "\n",
    "    m, b = as_slope_intercept(m_x0, m_x1, m_y0, m_y1)\n",
    "\n",
    "    linear_segment = curve_segment(x, g * np.log(m), g, -(b / m), 0)\n",
    "\n",
    "    toe_M = eval_derivative_linear_gamma(m, b, g, m_x0)\n",
    "    shoulder_M = eval_derivative_linear_gamma(m, b, g, m_x1)\n",
    "\n",
    "    m_y0 = np.power(m_y0, g)\n",
    "    m_y1 = np.power(m_y1, g)\n",
    "    m_overshoot_y = np.power(1 + m_overshoot_y, g) - 1\n",
    "\n",
    "    A_t, B_t = solve_A_B(m_x0, m_y0, toe_M)\n",
    "    toe_segment = curve_segment(x, A_t, B_t, 0, 0)\n",
    "\n",
    "    x0 = (1 + m_overshoot_x) - m_x1\n",
    "    y0 = (1 + m_overshoot_y) - m_y1\n",
    "    A_s, B_s = solve_A_B(x0, y0, shoulder_M)\n",
    "    shoulder_segment = curve_segment(x, A_s, B_s, 1 + m_overshoot_x,\n",
    "                                     1 + m_overshoot_y, -1, -1)\n",
    "\n",
    "    y = np.select(\n",
    "        [\n",
    "            x < m_x0,\n",
    "            np.logical_and(x > m_x0, x < m_x1),\n",
    "            np.logical_and(x > m_x1, x < m_overshoot_x + 1),\n",
    "            x > m_overshoot_x + 1,\n",
    "        ],\n",
    "        [\n",
    "            toe_segment, linear_segment, shoulder_segment,\n",
    "            np.nanmax(shoulder_segment, )\n",
    "        ],\n",
    "    )\n",
    "\n",
    "    return y"
   ]
  },
  {
   "cell_type": "code",
   "execution_count": 14,
   "metadata": {},
   "outputs": [
    {
     "name": "stdout",
     "output_type": "stream",
     "text": [
      "[ 1.25        0.41626444  0.01        1.58193972  0.07034612  6.74799486\n",
      " -0.86147516]\n",
      "6.52722876151e-08\n"
     ]
    },
    {
     "data": {
      "application/vnd.jupyter.widget-view+json": {
       "model_id": "7e7666a8aeb649359d637aef25afa5f0",
       "version_major": 2,
       "version_minor": 0
      },
      "text/plain": [
       "Canvas(toolbar=Toolbar(toolitems=[('Home', 'Reset original view', 'home', 'home'), ('Back', 'Back to previous …"
      ]
     },
     "metadata": {},
     "output_type": "display_data"
    },
    {
     "name": "stdout",
     "output_type": "stream",
     "text": [
      "[ 1.23196544  0.49499588  0.01        1.58690781  0.07047502  8.\n",
      " -0.86468617]\n",
      "5.60705844344e-08\n"
     ]
    },
    {
     "data": {
      "application/vnd.jupyter.widget-view+json": {
       "model_id": "a8f698deb05542b8babc73d31009c8a9",
       "version_major": 2,
       "version_minor": 0
      },
      "text/plain": [
       "Canvas(toolbar=Toolbar(toolitems=[('Home', 'Reset original view', 'home', 'home'), ('Back', 'Back to previous …"
      ]
     },
     "metadata": {},
     "output_type": "display_data"
    },
    {
     "name": "stdout",
     "output_type": "stream",
     "text": [
      "[ 0.98754417  0.82454861  0.01        1.70290469  0.04227618  8.\n",
      " -0.9174735 ]\n",
      "8.91600502213e-08\n"
     ]
    },
    {
     "data": {
      "application/vnd.jupyter.widget-view+json": {
       "model_id": "172008c8e408467d9c085923b9642ae8",
       "version_major": 2,
       "version_minor": 0
      },
      "text/plain": [
       "Canvas(toolbar=Toolbar(toolitems=[('Home', 'Reset original view', 'home', 'home'), ('Back', 'Back to previous …"
      ]
     },
     "metadata": {},
     "output_type": "display_data"
    },
    {
     "name": "stdout",
     "output_type": "stream",
     "text": [
      "[  8.80740568e-01   9.19812122e-01   6.78627892e-03   1.77421862e+00\n",
      "   3.22460617e-02   8.00000000e+00  -9.39074650e-01]\n",
      "1.14412228872e-07\n"
     ]
    },
    {
     "data": {
      "application/vnd.jupyter.widget-view+json": {
       "model_id": "5dbf23189b884a4da0a9012a2f25064f",
       "version_major": 2,
       "version_minor": 0
      },
      "text/plain": [
       "Canvas(toolbar=Toolbar(toolitems=[('Home', 'Reset original view', 'home', 'home'), ('Back', 'Back to previous …"
      ]
     },
     "metadata": {},
     "output_type": "display_data"
    },
    {
     "name": "stdout",
     "output_type": "stream",
     "text": [
      "[  8.09315238e-01   9.98286068e-01   5.00000000e-03   1.80535561e+00\n",
      "   2.58351234e-02   8.00000000e+00  -9.52311302e-01]\n",
      "1.98639418716e-07\n"
     ]
    },
    {
     "data": {
      "application/vnd.jupyter.widget-view+json": {
       "model_id": "b04b19849f5f4b5ca19a54863f805f69",
       "version_major": 2,
       "version_minor": 0
      },
      "text/plain": [
       "Canvas(toolbar=Toolbar(toolitems=[('Home', 'Reset original view', 'home', 'home'), ('Back', 'Back to previous …"
      ]
     },
     "metadata": {},
     "output_type": "display_data"
    },
    {
     "name": "stdout",
     "output_type": "stream",
     "text": [
      "[ 1.02131057  0.95410491  0.01        1.44223325  0.03944126  4.24767123\n",
      " -0.91043581]\n",
      "2.91828875524e-07\n"
     ]
    },
    {
     "data": {
      "application/vnd.jupyter.widget-view+json": {
       "model_id": "10e2fc3ec98c4684b812fb0d1d290d4a",
       "version_major": 2,
       "version_minor": 0
      },
      "text/plain": [
       "Canvas(toolbar=Toolbar(toolitems=[('Home', 'Reset original view', 'home', 'home'), ('Back', 'Back to previous …"
      ]
     },
     "metadata": {},
     "output_type": "display_data"
    },
    {
     "name": "stdout",
     "output_type": "stream",
     "text": [
      "[ 1.25        0.87723785  0.01        1.32228206  0.05965214  3.42727846\n",
      " -0.86072789]\n",
      "3.66990054162e-07\n"
     ]
    },
    {
     "data": {
      "application/vnd.jupyter.widget-view+json": {
       "model_id": "b150c8195f2348febd7894f870d69505",
       "version_major": 2,
       "version_minor": 0
      },
      "text/plain": [
       "Canvas(toolbar=Toolbar(toolitems=[('Home', 'Reset original view', 'home', 'home'), ('Back', 'Back to previous …"
      ]
     },
     "metadata": {},
     "output_type": "display_data"
    },
    {
     "name": "stdout",
     "output_type": "stream",
     "text": [
      "[ 1.25        0.93574143  0.01        1.30104842  0.05589208  3.03966746\n",
      " -0.86079578]\n",
      "4.72107237324e-07\n"
     ]
    },
    {
     "data": {
      "application/vnd.jupyter.widget-view+json": {
       "model_id": "4597575a3e1d41b89e0a654a23dc9130",
       "version_major": 2,
       "version_minor": 0
      },
      "text/plain": [
       "Canvas(toolbar=Toolbar(toolitems=[('Home', 'Reset original view', 'home', 'home'), ('Back', 'Back to previous …"
      ]
     },
     "metadata": {},
     "output_type": "display_data"
    },
    {
     "name": "stdout",
     "output_type": "stream",
     "text": [
      "[ 1.25        0.98259237  0.01        1.268878    0.05027711  2.92178681\n",
      " -0.86071507]\n",
      "5.41095384846e-07\n"
     ]
    },
    {
     "data": {
      "application/vnd.jupyter.widget-view+json": {
       "model_id": "9ba6e02e3c5e4bc184b3ae24a3addeb4",
       "version_major": 2,
       "version_minor": 0
      },
      "text/plain": [
       "Canvas(toolbar=Toolbar(toolitems=[('Home', 'Reset original view', 'home', 'home'), ('Back', 'Back to previous …"
      ]
     },
     "metadata": {},
     "output_type": "display_data"
    },
    {
     "name": "stdout",
     "output_type": "stream",
     "text": [
      "[ 1.25        0.99148582  0.0058457   1.20440129  0.04007337  2.85010775\n",
      " -0.86081143]\n",
      "5.56326098493e-07\n"
     ]
    },
    {
     "data": {
      "application/vnd.jupyter.widget-view+json": {
       "model_id": "cb2907fc7245418abb17c053f70dab8b",
       "version_major": 2,
       "version_minor": 0
      },
      "text/plain": [
       "Canvas(toolbar=Toolbar(toolitems=[('Home', 'Reset original view', 'home', 'home'), ('Back', 'Back to previous …"
      ]
     },
     "metadata": {},
     "output_type": "display_data"
    },
    {
     "name": "stdout",
     "output_type": "stream",
     "text": [
      "[ 1.24040768  1.01190014  0.005       1.12758554  0.0263703   2.7926987\n",
      " -0.86295332]\n",
      "5.54941644138e-07\n"
     ]
    },
    {
     "data": {
      "application/vnd.jupyter.widget-view+json": {
       "model_id": "8eb08685914d43c58ac81d02787f4dc1",
       "version_major": 2,
       "version_minor": 0
      },
      "text/plain": [
       "Canvas(toolbar=Toolbar(toolitems=[('Home', 'Reset original view', 'home', 'home'), ('Back', 'Back to previous …"
      ]
     },
     "metadata": {},
     "output_type": "display_data"
    }
   ],
   "source": [
    "POPTS = []\n",
    "for parameters in PARAMETERS:\n",
    "    offset_r = [parameter.x[2] for parameter in parameters]\n",
    "\n",
    "    offset_r[0] = 0\n",
    "\n",
    "    popt, pcov = scipy.optimize.curve_fit(\n",
    "        curve,\n",
    "        SATURATION_SAMPLES,\n",
    "        offset_r,\n",
    "        bounds=np.transpose([\n",
    "            (.75, 1.25),\n",
    "            (0, 1.5),\n",
    "            (0.005, 0.01),\n",
    "            (0, 2.5),\n",
    "            (0.01, 0.2),\n",
    "            (1, 8),\n",
    "            (-1, -0.7),\n",
    "        ]),\n",
    "        maxfev=50000)\n",
    "    \n",
    "    POPTS.append(popt)\n",
    "    print(popt)\n",
    "    print(\n",
    "        colour.utilities.metric_mse(offset_r, curve(SATURATION_SAMPLES,\n",
    "                                                    *popt)))\n",
    "\n",
    "    with plt.style.context({'figure.figsize': (10.24, 10.24)}):\n",
    "        colour.plotting.artist()\n",
    "\n",
    "        plt.plot(SATURATION_SAMPLES, offset_r)\n",
    "        plt.plot(SATURATION_SAMPLES, curve(SATURATION_SAMPLES, *popt), 'o')"
   ]
  },
  {
   "cell_type": "code",
   "execution_count": 15,
   "metadata": {},
   "outputs": [
    {
     "name": "stdout",
     "output_type": "stream",
     "text": [
      "[[  1.25000000e+00   1.23196544e+00   9.87544167e-01   8.80740568e-01\n",
      "    8.09315238e-01   1.02131057e+00   1.25000000e+00   1.25000000e+00\n",
      "    1.25000000e+00   1.25000000e+00   1.24040768e+00]\n",
      " [  4.16264437e-01   4.94995883e-01   8.24548611e-01   9.19812122e-01\n",
      "    9.98286068e-01   9.54104909e-01   8.77237849e-01   9.35741428e-01\n",
      "    9.82592366e-01   9.91485822e-01   1.01190014e+00]\n",
      " [  1.00000000e-02   1.00000000e-02   1.00000000e-02   6.78627892e-03\n",
      "    5.00000000e-03   1.00000000e-02   1.00000000e-02   1.00000000e-02\n",
      "    1.00000000e-02   5.84570423e-03   5.00000000e-03]\n",
      " [  1.58193972e+00   1.58690781e+00   1.70290469e+00   1.77421862e+00\n",
      "    1.80535561e+00   1.44223325e+00   1.32228206e+00   1.30104842e+00\n",
      "    1.26887800e+00   1.20440129e+00   1.12758554e+00]\n",
      " [  7.03461170e-02   7.04750224e-02   4.22761797e-02   3.22460617e-02\n",
      "    2.58351234e-02   3.94412589e-02   5.96521364e-02   5.58920751e-02\n",
      "    5.02771085e-02   4.00733713e-02   2.63702971e-02]\n",
      " [  6.74799486e+00   8.00000000e+00   8.00000000e+00   8.00000000e+00\n",
      "    8.00000000e+00   4.24767123e+00   3.42727846e+00   3.03966746e+00\n",
      "    2.92178681e+00   2.85010775e+00   2.79269870e+00]\n",
      " [ -8.61475159e-01  -8.64686165e-01  -9.17473503e-01  -9.39074650e-01\n",
      "   -9.52311302e-01  -9.10435810e-01  -8.60727889e-01  -8.60795784e-01\n",
      "   -8.60715073e-01  -8.60811430e-01  -8.62953324e-01]]\n"
     ]
    },
    {
     "data": {
      "application/vnd.jupyter.widget-view+json": {
       "model_id": "dc5ff9ba610545fcb4301c525b968968",
       "version_major": 2,
       "version_minor": 0
      },
      "text/plain": [
       "Canvas(toolbar=Toolbar(toolitems=[('Home', 'Reset original view', 'home', 'home'), ('Back', 'Back to previous …"
      ]
     },
     "metadata": {},
     "output_type": "display_data"
    },
    {
     "data": {
      "application/vnd.jupyter.widget-view+json": {
       "model_id": "ba4f68e0115b41f9af3557346b88eef3",
       "version_major": 2,
       "version_minor": 0
      },
      "text/plain": [
       "Canvas(toolbar=Toolbar(toolitems=[('Home', 'Reset original view', 'home', 'home'), ('Back', 'Back to previous …"
      ]
     },
     "metadata": {},
     "output_type": "display_data"
    },
    {
     "data": {
      "application/vnd.jupyter.widget-view+json": {
       "model_id": "a03ae37ec7774e589fd0c4030a415532",
       "version_major": 2,
       "version_minor": 0
      },
      "text/plain": [
       "Canvas(toolbar=Toolbar(toolitems=[('Home', 'Reset original view', 'home', 'home'), ('Back', 'Back to previous …"
      ]
     },
     "metadata": {},
     "output_type": "display_data"
    },
    {
     "data": {
      "application/vnd.jupyter.widget-view+json": {
       "model_id": "aa5d132ea0cd4a7e9bd3c9f7a0dfcc4a",
       "version_major": 2,
       "version_minor": 0
      },
      "text/plain": [
       "Canvas(toolbar=Toolbar(toolitems=[('Home', 'Reset original view', 'home', 'home'), ('Back', 'Back to previous …"
      ]
     },
     "metadata": {},
     "output_type": "display_data"
    },
    {
     "data": {
      "application/vnd.jupyter.widget-view+json": {
       "model_id": "2defe02b21c145d0b0ce4cf269040b7e",
       "version_major": 2,
       "version_minor": 0
      },
      "text/plain": [
       "Canvas(toolbar=Toolbar(toolitems=[('Home', 'Reset original view', 'home', 'home'), ('Back', 'Back to previous …"
      ]
     },
     "metadata": {},
     "output_type": "display_data"
    },
    {
     "data": {
      "application/vnd.jupyter.widget-view+json": {
       "model_id": "2ec436ac0d20423a9f79ec5857ab0e0f",
       "version_major": 2,
       "version_minor": 0
      },
      "text/plain": [
       "Canvas(toolbar=Toolbar(toolitems=[('Home', 'Reset original view', 'home', 'home'), ('Back', 'Back to previous …"
      ]
     },
     "metadata": {},
     "output_type": "display_data"
    },
    {
     "data": {
      "application/vnd.jupyter.widget-view+json": {
       "model_id": "a629b034a0a3443c87c2889a93e596c4",
       "version_major": 2,
       "version_minor": 0
      },
      "text/plain": [
       "Canvas(toolbar=Toolbar(toolitems=[('Home', 'Reset original view', 'home', 'home'), ('Back', 'Back to previous …"
      ]
     },
     "metadata": {},
     "output_type": "display_data"
    },
    {
     "data": {
      "application/vnd.jupyter.widget-view+json": {
       "model_id": "79510c1f0ba845d8b67527bffaa2bc32",
       "version_major": 2,
       "version_minor": 0
      },
      "text/plain": [
       "Canvas(toolbar=Toolbar(toolitems=[('Home', 'Reset original view', 'home', 'home'), ('Back', 'Back to previous …"
      ]
     },
     "metadata": {},
     "output_type": "display_data"
    }
   ],
   "source": [
    "print(np.transpose(POPTS))\n",
    "\n",
    "with plt.style.context({'figure.figsize': (10.24, 10.24)}):\n",
    "    colour.plotting.artist()\n",
    "    \n",
    "    for popt in POPTS:\n",
    "        plt.plot(SATURATION_SAMPLES, curve(SATURATION_SAMPLES, *popt))\n",
    "        \n",
    "\n",
    "for popt in np.transpose(POPTS):\n",
    "    with plt.style.context({'figure.figsize': (10.24, 10.24)}):\n",
    "        colour.plotting.artist()\n",
    "        \n",
    "        plt.plot(popt)"
   ]
  },
  {
   "cell_type": "code",
   "execution_count": 16,
   "metadata": {},
   "outputs": [
    {
     "data": {
      "application/vnd.jupyter.widget-view+json": {
       "model_id": "f3d5cc947d19460bab25ced311aacfbd",
       "version_major": 2,
       "version_minor": 0
      },
      "text/plain": [
       "Canvas(toolbar=Toolbar(toolitems=[('Home', 'Reset original view', 'home', 'home'), ('Back', 'Back to previous …"
      ]
     },
     "metadata": {},
     "output_type": "display_data"
    },
    {
     "data": {
      "application/vnd.jupyter.widget-view+json": {
       "model_id": "03a9ade6187d4fbfac4da4213b9bc048",
       "version_major": 2,
       "version_minor": 0
      },
      "text/plain": [
       "Canvas(toolbar=Toolbar(toolitems=[('Home', 'Reset original view', 'home', 'home'), ('Back', 'Back to previous …"
      ]
     },
     "metadata": {},
     "output_type": "display_data"
    }
   ],
   "source": [
    "def hue_offset_extended(x, S, g, m_x0, m_y0, m_x1, m_y1, m_overshoot_x, m_overshoot_y):\n",
    "    return np.sin(x * np.pi * 6 + np.pi) * curve(S, g, m_x0, m_y0, m_x1, m_y1, m_overshoot_x, m_overshoot_y)\n",
    "\n",
    "\n",
    "def medicina_HSV_control_extended(a=POPTS[0],\n",
    "                                  RGB=COLOUR_STRIPE,\n",
    "                                  S_c=0,\n",
    "                                  C_f=tanh_compression_function):\n",
    "    H, S, V = colour.utilities.tsplit(colour.RGB_to_HSV(RGB))\n",
    "\n",
    "    HSV = colour.utilities.tstack(\n",
    "        [(H + hue_offset_extended(H, S, *a)) % 1,\n",
    "          C_f(S, S_c, 1 - S_c), V])\n",
    "\n",
    "    return colour.HSV_to_RGB(HSV)\n",
    "\n",
    "\n",
    "with plt.style.context({'figure.figsize': (10.24, 10.24)}):\n",
    "    # colour.plotting.plot_image(STRIPES);\n",
    "\n",
    "    colour.plotting.plot_image(\n",
    "            np.abs(\n",
    "                medicina_HSV_control([0, 0, 0], RGB=STRIPES) -\n",
    "                medicina_RGB_saturation(STRIPES)) * 5);\n",
    "\n",
    "    colour.plotting.plot_image(\n",
    "            np.abs(\n",
    "                medicina_HSV_control_extended(RGB=STRIPES) -\n",
    "                medicina_RGB_saturation(STRIPES)) * 5);"
   ]
  },
  {
   "cell_type": "code",
   "execution_count": 17,
   "metadata": {},
   "outputs": [
    {
     "data": {
      "application/vnd.jupyter.widget-view+json": {
       "model_id": "901947fb1e0a486aa009208f55fe239f",
       "version_major": 2,
       "version_minor": 0
      },
      "text/plain": [
       "Canvas(toolbar=Toolbar(toolitems=[('Home', 'Reset original view', 'home', 'home'), ('Back', 'Back to previous …"
      ]
     },
     "metadata": {},
     "output_type": "display_data"
    },
    {
     "data": {
      "application/vnd.jupyter.widget-view+json": {
       "model_id": "c62152a2721745229c18a2843d957b35",
       "version_major": 2,
       "version_minor": 0
      },
      "text/plain": [
       "Canvas(toolbar=Toolbar(toolitems=[('Home', 'Reset original view', 'home', 'home'), ('Back', 'Back to previous …"
      ]
     },
     "metadata": {},
     "output_type": "display_data"
    }
   ],
   "source": [
    "with plt.style.context({'figure.figsize': (10.24, 10.24)}):\n",
    "    colour.plotting.plot_image(\n",
    "        np.abs(\n",
    "            medicina_HSV_control([0, 0, 0], RGB=COLOUR_WHEEL) -\n",
    "            medicina_RGB_saturation(COLOUR_WHEEL)) * 5)\n",
    "\n",
    "    colour.plotting.plot_image(\n",
    "        np.abs(\n",
    "            medicina_HSV_control_extended(RGB=COLOUR_WHEEL) -\n",
    "            medicina_RGB_saturation(COLOUR_WHEEL)) * 5)"
   ]
  }
 ],
 "metadata": {
  "colab": {
   "collapsed_sections": [],
   "name": "gamut_mapping_ramblings_01",
   "provenance": []
  },
  "kernelspec": {
   "display_name": "Python 3",
   "language": "python",
   "name": "python3"
  },
  "language_info": {
   "codemirror_mode": {
    "name": "ipython",
    "version": 3
   },
   "file_extension": ".py",
   "mimetype": "text/x-python",
   "name": "python",
   "nbconvert_exporter": "python",
   "pygments_lexer": "ipython3",
   "version": "3.7.6"
  },
  "widgets": {
   "application/vnd.jupyter.widget-state+json": {
    "state": {},
    "version_major": 2,
    "version_minor": 0
   }
  }
 },
 "nbformat": 4,
 "nbformat_minor": 4
}
