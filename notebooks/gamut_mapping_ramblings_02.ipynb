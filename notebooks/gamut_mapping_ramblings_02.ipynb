{
 "cells": [
  {
   "cell_type": "markdown",
   "metadata": {
    "colab_type": "text",
    "id": "pRS6nhpu1R6y"
   },
   "source": [
    "# Gamut Mapping - RGB & HSV Gamut Mapping Study Models Fitting"
   ]
  },
  {
   "cell_type": "code",
   "execution_count": 1,
   "metadata": {},
   "outputs": [],
   "source": [
    "%matplotlib widget"
   ]
  },
  {
   "cell_type": "code",
   "execution_count": 2,
   "metadata": {
    "colab": {
     "base_uri": "https://localhost:8080/",
     "height": 340
    },
    "colab_type": "code",
    "id": "OydMmtZRxd3c",
    "outputId": "297a43b9-f566-405d-e8bc-cfae56b50959"
   },
   "outputs": [
    {
     "name": "stdout",
     "output_type": "stream",
     "text": [
      "===============================================================================\n",
      "*                                                                             *\n",
      "*   Interpreter :                                                             *\n",
      "*       python : 3.7.6 (default, Dec 30 2019, 19:38:26)                       *\n",
      "*                [Clang 11.0.0 (clang-1100.0.33.16)]                          *\n",
      "*                                                                             *\n",
      "*   colour-science.org :                                                      *\n",
      "*       colour : v0.3.15-141-g3bebd7e9                                        *\n",
      "*                                                                             *\n",
      "*   Runtime :                                                                 *\n",
      "*       imageio : 2.8.0                                                       *\n",
      "*       matplotlib : 3.0.3                                                    *\n",
      "*       numpy : 1.18.4                                                        *\n",
      "*       scipy : 1.4.1                                                         *\n",
      "*       six : 1.14.0                                                          *\n",
      "*                                                                             *\n",
      "===============================================================================\n"
     ]
    }
   ],
   "source": [
    "from __future__ import division, unicode_literals\n",
    "\n",
    "import colour\n",
    "import matplotlib.pyplot as plt\n",
    "import numpy as np\n",
    "import os\n",
    "import scipy.interpolate\n",
    "import scipy.optimize\n",
    "from functools import reduce\n",
    "\n",
    "COLOUR_STYLE = colour.plotting.colour_style()\n",
    "COLOUR_STYLE.update({\n",
    "    'figure.figsize': (10.24, 5.12),\n",
    "    'legend.framealpha':\n",
    "    colour.plotting.COLOUR_STYLE_CONSTANTS.opacity.low\n",
    "})\n",
    "\n",
    "plt.style.use(COLOUR_STYLE)\n",
    "\n",
    "plt.style.use('dark_background')\n",
    "\n",
    "colour.utilities.describe_environment()\n",
    "\n",
    "colour.utilities.filter_warnings(*[True] * 4);"
   ]
  },
  {
   "cell_type": "markdown",
   "metadata": {
    "colab_type": "text",
    "id": "5yCeFpnnp_wh"
   },
   "source": [
    "## Colour Wheel & Colour Stripe Generation"
   ]
  },
  {
   "cell_type": "code",
   "execution_count": 3,
   "metadata": {
    "colab": {},
    "colab_type": "code",
    "id": "RshonIbOI4Ij"
   },
   "outputs": [],
   "source": [
    "def colour_stripe(S=1, samples=360):\n",
    "    H = np.linspace(0, 1, samples)\n",
    "\n",
    "    HSV = colour.utilities.tstack([H, np.ones(samples) * S, np.ones(samples)])\n",
    "    RGB = colour.HSV_to_RGB(HSV)\n",
    " \n",
    "    return RGB[np.newaxis, ...]\n",
    "\n",
    "\n",
    "def colour_wheel(samples=1024, clip_circle=True, method='Colour'):\n",
    "    xx, yy = np.meshgrid(\n",
    "        np.linspace(-1, 1, samples), np.linspace(-1, 1, samples))\n",
    "\n",
    "    S = np.sqrt(xx ** 2 + yy ** 2)    \n",
    "    H = (np.arctan2(xx, yy) + np.pi) / (np.pi * 2)\n",
    "\n",
    "    HSV = colour.utilities.tstack([H, S, np.ones(H.shape)])\n",
    "    RGB = colour.HSV_to_RGB(HSV)\n",
    "\n",
    "    if clip_circle == True:\n",
    "        RGB[S > 1] = 0\n",
    "        A = np.where(S > 1, 0, 1)\n",
    "    else:\n",
    "        A = np.ones(S.shape)\n",
    "\n",
    "    if method.lower()== 'matplotlib':\n",
    "        RGB = colour.utilities.orient(RGB, '90 CW')\n",
    "    elif method.lower()== 'nuke':\n",
    "        RGB = colour.utilities.orient(RGB, 'Flip')\n",
    "        RGB = colour.utilities.orient(RGB, '90 CW')\n",
    "\n",
    "    R, G, B = colour.utilities.tsplit(RGB)\n",
    "    \n",
    "    return colour.utilities.tstack([R, G, B, A])"
   ]
  },
  {
   "cell_type": "code",
   "execution_count": 4,
   "metadata": {
    "colab": {
     "base_uri": "https://localhost:8080/",
     "height": 726
    },
    "colab_type": "code",
    "id": "154RGuYrmMNa",
    "outputId": "45ce8789-a351-4ca8-d6d0-88db89531df2"
   },
   "outputs": [
    {
     "data": {
      "application/vnd.jupyter.widget-view+json": {
       "model_id": "3d2ac7d114c14188825f2f93e68e2f0d",
       "version_major": 2,
       "version_minor": 0
      },
      "text/plain": [
       "Canvas(toolbar=Toolbar(toolitems=[('Home', 'Reset original view', 'home', 'home'), ('Back', 'Back to previous …"
      ]
     },
     "metadata": {},
     "output_type": "display_data"
    },
    {
     "data": {
      "application/vnd.jupyter.widget-view+json": {
       "model_id": "2dc21106f85f49aca3199be32b460b33",
       "version_major": 2,
       "version_minor": 0
      },
      "text/plain": [
       "Canvas(toolbar=Toolbar(toolitems=[('Home', 'Reset original view', 'home', 'home'), ('Back', 'Back to previous …"
      ]
     },
     "metadata": {},
     "output_type": "display_data"
    }
   ],
   "source": [
    "COLOUR_STRIPE = colour_stripe();\n",
    "\n",
    "COLOUR_WHEEL = colour_wheel(360, clip_circle=False)[..., 0:3]\n",
    "\n",
    "colour.plotting.plot_image(np.resize(COLOUR_STRIPE, [36, 360, 3]));\n",
    "\n",
    "with plt.style.context({'figure.figsize': (10.24, 10.24)}):\n",
    "\n",
    "    colour.plotting.plot_image(COLOUR_WHEEL);"
   ]
  },
  {
   "cell_type": "markdown",
   "metadata": {},
   "source": [
    "## Compression Function"
   ]
  },
  {
   "cell_type": "code",
   "execution_count": 5,
   "metadata": {},
   "outputs": [],
   "source": [
    "def tanh_compression_function(x, a=0.8, b=1 - 0.8):\n",
    "    x = colour.utilities.as_float_array(x)\n",
    "\n",
    "    return np.where(x > a, a + b * np.tanh((x - a) / b), x)"
   ]
  },
  {
   "cell_type": "markdown",
   "metadata": {},
   "source": [
    "## Gamut Mapping Study Models Difference"
   ]
  },
  {
   "cell_type": "code",
   "execution_count": 6,
   "metadata": {},
   "outputs": [],
   "source": [
    "SAMPLES = np.linspace(0, 1, 360)\n",
    "THRESHOLDS = np.linspace(0, 1, 21)\n",
    "\n",
    "\n",
    "def hue_offset(x, a, b, c):\n",
    "    return np.sin(x * a + b) * c\n",
    "\n",
    "\n",
    "def medicina_HSV_control(\n",
    "        a=(np.pi * 6, np.pi, np.pi / 180),\n",
    "        RGB=COLOUR_STRIPE,\n",
    "        S_c=0,\n",
    "        C_f=tanh_compression_function):\n",
    "    H, S, V = colour.utilities.tsplit(colour.RGB_to_HSV(RGB))\n",
    "\n",
    "    HSV = colour.utilities.tstack([(H + hue_offset(SAMPLES, *a)) % 1,\n",
    "                                   C_f(S, S_c, 1 - S_c), V])\n",
    "\n",
    "    return colour.HSV_to_RGB(HSV)\n",
    "\n",
    "\n",
    "def medicina_RGB_saturation(RGB=COLOUR_STRIPE,\n",
    "                            C_t=0,\n",
    "                            C_f=tanh_compression_function):\n",
    "    L = np.max(RGB, axis=-1)[..., np.newaxis]\n",
    "\n",
    "    D = np.abs(RGB - L) / L\n",
    "\n",
    "    D_c = C_f(D, C_t, 1 - C_t)\n",
    "\n",
    "    RGB_c = L - D_c * L\n",
    "\n",
    "    return RGB_c\n",
    "\n",
    "\n",
    "RGB_S = medicina_RGB_saturation()"
   ]
  },
  {
   "cell_type": "code",
   "execution_count": 7,
   "metadata": {},
   "outputs": [
    {
     "data": {
      "application/vnd.jupyter.widget-view+json": {
       "model_id": "48e1e74663564391a693e247156c4dcd",
       "version_major": 2,
       "version_minor": 0
      },
      "text/plain": [
       "Canvas(toolbar=Toolbar(toolitems=[('Home', 'Reset original view', 'home', 'home'), ('Back', 'Back to previous …"
      ]
     },
     "metadata": {},
     "output_type": "display_data"
    }
   ],
   "source": [
    "colour.plotting.plot_image(np.resize(medicina_HSV_control(), [36, 360, 3]));"
   ]
  },
  {
   "cell_type": "code",
   "execution_count": 8,
   "metadata": {},
   "outputs": [
    {
     "data": {
      "application/vnd.jupyter.widget-view+json": {
       "model_id": "8b1a7b0f21974187ac4a06968a99a6a7",
       "version_major": 2,
       "version_minor": 0
      },
      "text/plain": [
       "Canvas(toolbar=Toolbar(toolitems=[('Home', 'Reset original view', 'home', 'home'), ('Back', 'Back to previous …"
      ]
     },
     "metadata": {},
     "output_type": "display_data"
    }
   ],
   "source": [
    "colour.plotting.plot_image(np.resize(RGB_S, [36, 360, 3]));"
   ]
  },
  {
   "cell_type": "code",
   "execution_count": 9,
   "metadata": {},
   "outputs": [
    {
     "data": {
      "application/vnd.jupyter.widget-view+json": {
       "model_id": "24e8c686e20245bebb5150a559fb366e",
       "version_major": 2,
       "version_minor": 0
      },
      "text/plain": [
       "Canvas(toolbar=Toolbar(toolitems=[('Home', 'Reset original view', 'home', 'home'), ('Back', 'Back to previous …"
      ]
     },
     "metadata": {},
     "output_type": "display_data"
    }
   ],
   "source": [
    "colour.plotting.plot_image(\n",
    "    np.resize(\n",
    "        np.abs(medicina_HSV_control([0, 0, 0]) - RGB_S) * 5, [36, 360, 3]));"
   ]
  },
  {
   "cell_type": "markdown",
   "metadata": {},
   "source": [
    "## Optimisation & Curve Fitting"
   ]
  },
  {
   "cell_type": "markdown",
   "metadata": {},
   "source": [
    "After some initial tests, it seemed like the closest function to minimize the error was a triangle or sine wave: https://community.acescentral.com/t/gamut-mapping-in-cylindrical-and-conic-spaces/2870/10?u=thomas_mansencal\n",
    "\n",
    "$\\sin\\bigg(x \\cdot \\pi \\cdot 6 + \\pi\\bigg) * \\cfrac{\\pi}{\\approx180}$\n",
    "\n",
    "is almost the best fitting function for the maximum saturation case, the rounded 180 value just happens to be convenient here but the actual value is slightly lower."
   ]
  },
  {
   "cell_type": "code",
   "execution_count": 10,
   "metadata": {},
   "outputs": [],
   "source": [
    "SATURATION_SAMPLES = np.linspace(0, 6, 1000)\n",
    "STRIPES = np.vstack([colour_stripe(a) for a in SATURATION_SAMPLES])\n",
    "\n",
    "PARAMETERS = []\n",
    "for threshold in THRESHOLDS:\n",
    "    i = 0\n",
    "\n",
    "    def objective_function(abc):\n",
    "        stripe = STRIPES[i]\n",
    "        return np.sum(\n",
    "            np.abs(\n",
    "                medicina_HSV_control(abc, stripe, S_c=threshold) -\n",
    "                medicina_RGB_saturation(stripe, C_t=threshold)))\n",
    "\n",
    "    parameters = []\n",
    "    for i in range(len(STRIPES)):\n",
    "        parameters.append(\n",
    "            scipy.optimize.minimize(objective_function,\n",
    "                                    (np.pi * 6, np.pi, np.pi / 180)))\n",
    "\n",
    "    PARAMETERS.append(parameters)"
   ]
  },
  {
   "cell_type": "code",
   "execution_count": 11,
   "metadata": {},
   "outputs": [
    {
     "data": {
      "application/vnd.jupyter.widget-view+json": {
       "model_id": "e1c922d1836342e2bf0450d8bab6af55",
       "version_major": 2,
       "version_minor": 0
      },
      "text/plain": [
       "Canvas(toolbar=Toolbar(toolitems=[('Home', 'Reset original view', 'home', 'home'), ('Back', 'Back to previous …"
      ]
     },
     "metadata": {},
     "output_type": "display_data"
    },
    {
     "data": {
      "application/vnd.jupyter.widget-view+json": {
       "model_id": "0a359cb9ebf7438db4344e7709190afe",
       "version_major": 2,
       "version_minor": 0
      },
      "text/plain": [
       "Canvas(toolbar=Toolbar(toolitems=[('Home', 'Reset original view', 'home', 'home'), ('Back', 'Back to previous …"
      ]
     },
     "metadata": {},
     "output_type": "display_data"
    },
    {
     "data": {
      "application/vnd.jupyter.widget-view+json": {
       "model_id": "8cd3ad519bb34974b180643eacf287c7",
       "version_major": 2,
       "version_minor": 0
      },
      "text/plain": [
       "Canvas(toolbar=Toolbar(toolitems=[('Home', 'Reset original view', 'home', 'home'), ('Back', 'Back to previous …"
      ]
     },
     "metadata": {},
     "output_type": "display_data"
    },
    {
     "data": {
      "application/vnd.jupyter.widget-view+json": {
       "model_id": "ada5ad5ab0ba44d9a67c7f8fa2720794",
       "version_major": 2,
       "version_minor": 0
      },
      "text/plain": [
       "Canvas(toolbar=Toolbar(toolitems=[('Home', 'Reset original view', 'home', 'home'), ('Back', 'Back to previous …"
      ]
     },
     "metadata": {},
     "output_type": "display_data"
    },
    {
     "data": {
      "application/vnd.jupyter.widget-view+json": {
       "model_id": "25460ec98b374ba8a44c0a092b816afd",
       "version_major": 2,
       "version_minor": 0
      },
      "text/plain": [
       "Canvas(toolbar=Toolbar(toolitems=[('Home', 'Reset original view', 'home', 'home'), ('Back', 'Back to previous …"
      ]
     },
     "metadata": {},
     "output_type": "display_data"
    },
    {
     "data": {
      "application/vnd.jupyter.widget-view+json": {
       "model_id": "ac08e3b361634a54bcbeda720eb41dd9",
       "version_major": 2,
       "version_minor": 0
      },
      "text/plain": [
       "Canvas(toolbar=Toolbar(toolitems=[('Home', 'Reset original view', 'home', 'home'), ('Back', 'Back to previous …"
      ]
     },
     "metadata": {},
     "output_type": "display_data"
    },
    {
     "data": {
      "application/vnd.jupyter.widget-view+json": {
       "model_id": "7b58f8d4e40246a681c14e25574aabbd",
       "version_major": 2,
       "version_minor": 0
      },
      "text/plain": [
       "Canvas(toolbar=Toolbar(toolitems=[('Home', 'Reset original view', 'home', 'home'), ('Back', 'Back to previous …"
      ]
     },
     "metadata": {},
     "output_type": "display_data"
    },
    {
     "data": {
      "application/vnd.jupyter.widget-view+json": {
       "model_id": "34dd5fa8d2ae426f9db7b558d41ea34e",
       "version_major": 2,
       "version_minor": 0
      },
      "text/plain": [
       "Canvas(toolbar=Toolbar(toolitems=[('Home', 'Reset original view', 'home', 'home'), ('Back', 'Back to previous …"
      ]
     },
     "metadata": {},
     "output_type": "display_data"
    },
    {
     "data": {
      "application/vnd.jupyter.widget-view+json": {
       "model_id": "b9d8a3b408c248bc9185545bf972fa4b",
       "version_major": 2,
       "version_minor": 0
      },
      "text/plain": [
       "Canvas(toolbar=Toolbar(toolitems=[('Home', 'Reset original view', 'home', 'home'), ('Back', 'Back to previous …"
      ]
     },
     "metadata": {},
     "output_type": "display_data"
    },
    {
     "data": {
      "application/vnd.jupyter.widget-view+json": {
       "model_id": "18be74fc37de4e13b7010ee5c839355b",
       "version_major": 2,
       "version_minor": 0
      },
      "text/plain": [
       "Canvas(toolbar=Toolbar(toolitems=[('Home', 'Reset original view', 'home', 'home'), ('Back', 'Back to previous …"
      ]
     },
     "metadata": {},
     "output_type": "display_data"
    },
    {
     "data": {
      "application/vnd.jupyter.widget-view+json": {
       "model_id": "51101f356a6049c189717e9d815eaf41",
       "version_major": 2,
       "version_minor": 0
      },
      "text/plain": [
       "Canvas(toolbar=Toolbar(toolitems=[('Home', 'Reset original view', 'home', 'home'), ('Back', 'Back to previous …"
      ]
     },
     "metadata": {},
     "output_type": "display_data"
    },
    {
     "data": {
      "application/vnd.jupyter.widget-view+json": {
       "model_id": "a45cfb9982e44763bc9de50f5fbcd68c",
       "version_major": 2,
       "version_minor": 0
      },
      "text/plain": [
       "Canvas(toolbar=Toolbar(toolitems=[('Home', 'Reset original view', 'home', 'home'), ('Back', 'Back to previous …"
      ]
     },
     "metadata": {},
     "output_type": "display_data"
    },
    {
     "data": {
      "application/vnd.jupyter.widget-view+json": {
       "model_id": "ab160808018648498690feed7e340656",
       "version_major": 2,
       "version_minor": 0
      },
      "text/plain": [
       "Canvas(toolbar=Toolbar(toolitems=[('Home', 'Reset original view', 'home', 'home'), ('Back', 'Back to previous …"
      ]
     },
     "metadata": {},
     "output_type": "display_data"
    },
    {
     "data": {
      "application/vnd.jupyter.widget-view+json": {
       "model_id": "4c528fed07cc47b9b42d01dd2ae6a2d4",
       "version_major": 2,
       "version_minor": 0
      },
      "text/plain": [
       "Canvas(toolbar=Toolbar(toolitems=[('Home', 'Reset original view', 'home', 'home'), ('Back', 'Back to previous …"
      ]
     },
     "metadata": {},
     "output_type": "display_data"
    },
    {
     "data": {
      "application/vnd.jupyter.widget-view+json": {
       "model_id": "89e7c5bc3b4d457ab62749218a74005c",
       "version_major": 2,
       "version_minor": 0
      },
      "text/plain": [
       "Canvas(toolbar=Toolbar(toolitems=[('Home', 'Reset original view', 'home', 'home'), ('Back', 'Back to previous …"
      ]
     },
     "metadata": {},
     "output_type": "display_data"
    },
    {
     "data": {
      "application/vnd.jupyter.widget-view+json": {
       "model_id": "96134cb86d41487abf519ec28c2b20d1",
       "version_major": 2,
       "version_minor": 0
      },
      "text/plain": [
       "Canvas(toolbar=Toolbar(toolitems=[('Home', 'Reset original view', 'home', 'home'), ('Back', 'Back to previous …"
      ]
     },
     "metadata": {},
     "output_type": "display_data"
    },
    {
     "data": {
      "application/vnd.jupyter.widget-view+json": {
       "model_id": "76ad4691df2642a7b0c3a44cfe1184b3",
       "version_major": 2,
       "version_minor": 0
      },
      "text/plain": [
       "Canvas(toolbar=Toolbar(toolitems=[('Home', 'Reset original view', 'home', 'home'), ('Back', 'Back to previous …"
      ]
     },
     "metadata": {},
     "output_type": "display_data"
    },
    {
     "data": {
      "application/vnd.jupyter.widget-view+json": {
       "model_id": "1ab9aebe0d7c4b8c9b49d736c6fb0c04",
       "version_major": 2,
       "version_minor": 0
      },
      "text/plain": [
       "Canvas(toolbar=Toolbar(toolitems=[('Home', 'Reset original view', 'home', 'home'), ('Back', 'Back to previous …"
      ]
     },
     "metadata": {},
     "output_type": "display_data"
    },
    {
     "data": {
      "application/vnd.jupyter.widget-view+json": {
       "model_id": "ef921f4330464cb698b5bcfa5674ad2e",
       "version_major": 2,
       "version_minor": 0
      },
      "text/plain": [
       "Canvas(toolbar=Toolbar(toolitems=[('Home', 'Reset original view', 'home', 'home'), ('Back', 'Back to previous …"
      ]
     },
     "metadata": {},
     "output_type": "display_data"
    },
    {
     "data": {
      "application/vnd.jupyter.widget-view+json": {
       "model_id": "9d8c5931cb7f41509824f637c4389e3d",
       "version_major": 2,
       "version_minor": 0
      },
      "text/plain": [
       "Canvas(toolbar=Toolbar(toolitems=[('Home', 'Reset original view', 'home', 'home'), ('Back', 'Back to previous …"
      ]
     },
     "metadata": {},
     "output_type": "display_data"
    },
    {
     "data": {
      "application/vnd.jupyter.widget-view+json": {
       "model_id": "12c54c13aefc42e8b95349d31b98559c",
       "version_major": 2,
       "version_minor": 0
      },
      "text/plain": [
       "Canvas(toolbar=Toolbar(toolitems=[('Home', 'Reset original view', 'home', 'home'), ('Back', 'Back to previous …"
      ]
     },
     "metadata": {},
     "output_type": "display_data"
    }
   ],
   "source": [
    "for parameters in PARAMETERS:\n",
    "    with plt.style.context({'figure.figsize': (10.24, 10.24)}):\n",
    "        colour.plotting.artist()\n",
    "\n",
    "        for parameter in parameters[1::5]:\n",
    "            plt.plot(\n",
    "                SAMPLES,\n",
    "                np.sin(\n",
    "                    np.linspace(0, 1, len(SAMPLES)) * parameter.x[0] +\n",
    "                    parameter.x[1]) * parameter.x[2])\n",
    "\n",
    "        for i in np.arange(0, 360 + 60, 60) / 360:\n",
    "            plt.axvline(i, c='r')"
   ]
  },
  {
   "cell_type": "code",
   "execution_count": 12,
   "metadata": {},
   "outputs": [
    {
     "data": {
      "application/vnd.jupyter.widget-view+json": {
       "model_id": "bfb639ee195f40a28e41805dec17f976",
       "version_major": 2,
       "version_minor": 0
      },
      "text/plain": [
       "Canvas(toolbar=Toolbar(toolitems=[('Home', 'Reset original view', 'home', 'home'), ('Back', 'Back to previous …"
      ]
     },
     "metadata": {},
     "output_type": "display_data"
    },
    {
     "data": {
      "application/vnd.jupyter.widget-view+json": {
       "model_id": "47ab801a219b41d893786213a4a30458",
       "version_major": 2,
       "version_minor": 0
      },
      "text/plain": [
       "Canvas(toolbar=Toolbar(toolitems=[('Home', 'Reset original view', 'home', 'home'), ('Back', 'Back to previous …"
      ]
     },
     "metadata": {},
     "output_type": "display_data"
    },
    {
     "data": {
      "application/vnd.jupyter.widget-view+json": {
       "model_id": "a33c5dc8a0fd4cb19a461ea1054a8827",
       "version_major": 2,
       "version_minor": 0
      },
      "text/plain": [
       "Canvas(toolbar=Toolbar(toolitems=[('Home', 'Reset original view', 'home', 'home'), ('Back', 'Back to previous …"
      ]
     },
     "metadata": {},
     "output_type": "display_data"
    }
   ],
   "source": [
    "with plt.style.context({'figure.figsize': (10.24, 10.24)}):\n",
    "    colour.plotting.artist()\n",
    "\n",
    "    Y = []\n",
    "    for parameters in PARAMETERS:\n",
    "        y = [parameter.x[0] for parameter in parameters]\n",
    "        Y.append(y)\n",
    "        plt.plot(SATURATION_SAMPLES, y)\n",
    "\n",
    "    plt.plot(SATURATION_SAMPLES, np.mean(Y, axis=0))\n",
    "\n",
    "with plt.style.context({'figure.figsize': (10.24, 10.24)}):\n",
    "    colour.plotting.artist()\n",
    "\n",
    "    Y = []\n",
    "    for parameters in PARAMETERS:\n",
    "        y = [parameter.x[1] for parameter in parameters]\n",
    "        Y.append(y)\n",
    "        plt.plot(SATURATION_SAMPLES, y)\n",
    "\n",
    "    plt.plot(SATURATION_SAMPLES, np.mean(Y, axis=0))\n",
    "\n",
    "with plt.style.context({'figure.figsize': (10.24, 10.24)}):\n",
    "    colour.plotting.artist()\n",
    "\n",
    "    Y = []\n",
    "    for parameters in PARAMETERS:\n",
    "        y = [parameter.x[2] for parameter in parameters]\n",
    "        Y.append(y)\n",
    "        plt.plot(SATURATION_SAMPLES, y)\n",
    "\n",
    "    plt.plot(SATURATION_SAMPLES, np.mean(Y, axis=0))"
   ]
  },
  {
   "cell_type": "code",
   "execution_count": 13,
   "metadata": {},
   "outputs": [],
   "source": [
    "def curve_segment(x, m_lnA, m_B, m_offsetX, m_offsetY, m_scaleX=1, m_scaleY=1):\n",
    "    x0 = (x - m_offsetX) * m_scaleX\n",
    "    y0 = np.exp(m_lnA + m_B * np.log(x0))\n",
    "\n",
    "    return np.where(x > 0, y0 * m_scaleY + m_offsetY, 0)\n",
    "\n",
    "\n",
    "def solve_A_B(x0, y0, m):\n",
    "    B = (m * x0) / y0\n",
    "    lnA = np.log(y0) - B * np.log(x0)\n",
    "\n",
    "    return lnA, B\n",
    "\n",
    "\n",
    "def as_slope_intercept(x0, x1, y0, y1):\n",
    "    dx = (x1 - x0)\n",
    "    dy = (y1 - y0)\n",
    "\n",
    "    m = 1 if dx == 0 else dy / dx\n",
    "    b = y0 - x0 * m\n",
    "\n",
    "    return m, b\n",
    "\n",
    "\n",
    "def eval_derivative_linear_gamma(m, b, g, x):\n",
    "    return g * m * np.power(m * x + b, g - 1.0)\n",
    "\n",
    "\n",
    "def curve(x, g, m_x0, m_y0, m_x1, m_y1, m_overshoot_x, m_overshoot_y):\n",
    "    m_x1 = max(m_x0, m_x1)\n",
    "    m_y1 = max(m_y0, m_y1)\n",
    "\n",
    "    m_overshoot_x = max(m_x1 - 1, m_overshoot_x)\n",
    "    m_overshoot_y = max(m_y1 - 1, m_overshoot_y)\n",
    "\n",
    "    m, b = as_slope_intercept(m_x0, m_x1, m_y0, m_y1)\n",
    "\n",
    "    linear_segment = curve_segment(x, g * np.log(m), g, -(b / m), 0)\n",
    "\n",
    "    toe_M = eval_derivative_linear_gamma(m, b, g, m_x0)\n",
    "    shoulder_M = eval_derivative_linear_gamma(m, b, g, m_x1)\n",
    "\n",
    "    m_y0 = np.power(m_y0, g)\n",
    "    m_y1 = np.power(m_y1, g)\n",
    "    m_overshoot_y = np.power(1 + m_overshoot_y, g) - 1\n",
    "\n",
    "    A_t, B_t = solve_A_B(m_x0, m_y0, toe_M)\n",
    "    toe_segment = curve_segment(x, A_t, B_t, 0, 0)\n",
    "\n",
    "    x0 = (1 + m_overshoot_x) - m_x1\n",
    "    y0 = (1 + m_overshoot_y) - m_y1\n",
    "    A_s, B_s = solve_A_B(x0, y0, shoulder_M)\n",
    "    shoulder_segment = curve_segment(x, A_s, B_s, 1 + m_overshoot_x,\n",
    "                                     1 + m_overshoot_y, -1, -1)\n",
    "\n",
    "    y = np.select(\n",
    "        [\n",
    "            x < m_x0,\n",
    "            np.logical_and(x > m_x0, x < m_x1),\n",
    "            np.logical_and(x > m_x1, x < m_overshoot_x + 1),\n",
    "            x > m_overshoot_x + 1,\n",
    "        ],\n",
    "        [\n",
    "            toe_segment, linear_segment, shoulder_segment,\n",
    "            np.nanmax(shoulder_segment, )\n",
    "        ],\n",
    "    )\n",
    "\n",
    "    return y\n",
    "\n",
    "\n",
    "partial_curve = lambda x, m_x0, m_y0, m_x1, m_y1, m_overshoot_x: curve(\n",
    "    x, 1.25, m_x0, m_y0, m_x1, m_y1, m_overshoot_x, -0.86)"
   ]
  },
  {
   "cell_type": "code",
   "execution_count": 14,
   "metadata": {},
   "outputs": [
    {
     "name": "stdout",
     "output_type": "stream",
     "text": [
      "[ 0.42061353  0.01        1.54999165  0.06898502  8.        ]\n",
      "1.42190622496e-07\n"
     ]
    },
    {
     "data": {
      "application/vnd.jupyter.widget-view+json": {
       "model_id": "1aeb7f48a1e04aa191f99b95373503f1",
       "version_major": 2,
       "version_minor": 0
      },
      "text/plain": [
       "Canvas(toolbar=Toolbar(toolitems=[('Home', 'Reset original view', 'home', 'home'), ('Back', 'Back to previous …"
      ]
     },
     "metadata": {},
     "output_type": "display_data"
    },
    {
     "name": "stdout",
     "output_type": "stream",
     "text": [
      "[ 0.44945874  0.01        1.5458702   0.06998316  8.        ]\n",
      "1.09070593989e-07\n"
     ]
    },
    {
     "data": {
      "application/vnd.jupyter.widget-view+json": {
       "model_id": "37ad8ac5dbf247cf88488d4c88570262",
       "version_major": 2,
       "version_minor": 0
      },
      "text/plain": [
       "Canvas(toolbar=Toolbar(toolitems=[('Home', 'Reset original view', 'home', 'home'), ('Back', 'Back to previous …"
      ]
     },
     "metadata": {},
     "output_type": "display_data"
    },
    {
     "name": "stdout",
     "output_type": "stream",
     "text": [
      "[ 0.48519176  0.01        1.52243267  0.07        8.        ]\n",
      "1.09009430496e-07\n"
     ]
    },
    {
     "data": {
      "application/vnd.jupyter.widget-view+json": {
       "model_id": "8cea3c0602a943b9b6ca13e3cd072bcc",
       "version_major": 2,
       "version_minor": 0
      },
      "text/plain": [
       "Canvas(toolbar=Toolbar(toolitems=[('Home', 'Reset original view', 'home', 'home'), ('Back', 'Back to previous …"
      ]
     },
     "metadata": {},
     "output_type": "display_data"
    },
    {
     "name": "stdout",
     "output_type": "stream",
     "text": [
      "[ 0.52366926  0.01        1.50167967  0.07        8.        ]\n",
      "1.26675732511e-07\n"
     ]
    },
    {
     "data": {
      "application/vnd.jupyter.widget-view+json": {
       "model_id": "6767588783d44adc9767c0dc9f82f1ad",
       "version_major": 2,
       "version_minor": 0
      },
      "text/plain": [
       "Canvas(toolbar=Toolbar(toolitems=[('Home', 'Reset original view', 'home', 'home'), ('Back', 'Back to previous …"
      ]
     },
     "metadata": {},
     "output_type": "display_data"
    },
    {
     "name": "stdout",
     "output_type": "stream",
     "text": [
      "[ 0.56434332  0.00999995  1.48373347  0.07        7.99999982]\n",
      "1.45074066025e-07\n"
     ]
    },
    {
     "data": {
      "application/vnd.jupyter.widget-view+json": {
       "model_id": "717190ebeb4d4e78849cfc8f06a7e245",
       "version_major": 2,
       "version_minor": 0
      },
      "text/plain": [
       "Canvas(toolbar=Toolbar(toolitems=[('Home', 'Reset original view', 'home', 'home'), ('Back', 'Back to previous …"
      ]
     },
     "metadata": {},
     "output_type": "display_data"
    },
    {
     "name": "stdout",
     "output_type": "stream",
     "text": [
      "[ 0.60537668  0.01        1.46864029  0.07        7.99999998]\n",
      "1.7212552568e-07\n"
     ]
    },
    {
     "data": {
      "application/vnd.jupyter.widget-view+json": {
       "model_id": "6a14a4188dfb4443928c7e7ff499eea7",
       "version_major": 2,
       "version_minor": 0
      },
      "text/plain": [
       "Canvas(toolbar=Toolbar(toolitems=[('Home', 'Reset original view', 'home', 'home'), ('Back', 'Back to previous …"
      ]
     },
     "metadata": {},
     "output_type": "display_data"
    },
    {
     "name": "stdout",
     "output_type": "stream",
     "text": [
      "[ 0.64671961  0.01        1.45617162  0.07        7.99999934]\n",
      "2.09304074727e-07\n"
     ]
    },
    {
     "data": {
      "application/vnd.jupyter.widget-view+json": {
       "model_id": "0f0572d959ab4c73b2f93965a2bd8989",
       "version_major": 2,
       "version_minor": 0
      },
      "text/plain": [
       "Canvas(toolbar=Toolbar(toolitems=[('Home', 'Reset original view', 'home', 'home'), ('Back', 'Back to previous …"
      ]
     },
     "metadata": {},
     "output_type": "display_data"
    },
    {
     "name": "stdout",
     "output_type": "stream",
     "text": [
      "[ 0.68741166  0.01        1.44643813  0.07        7.82343878]\n",
      "2.46155681451e-07\n"
     ]
    },
    {
     "data": {
      "application/vnd.jupyter.widget-view+json": {
       "model_id": "ecd2143b06b341f38c0dcf80926fb691",
       "version_major": 2,
       "version_minor": 0
      },
      "text/plain": [
       "Canvas(toolbar=Toolbar(toolitems=[('Home', 'Reset original view', 'home', 'home'), ('Back', 'Back to previous …"
      ]
     },
     "metadata": {},
     "output_type": "display_data"
    },
    {
     "name": "stdout",
     "output_type": "stream",
     "text": [
      "[ 0.72482095  0.01        1.43992726  0.07        7.1004392 ]\n",
      "2.88384615063e-07\n"
     ]
    },
    {
     "data": {
      "application/vnd.jupyter.widget-view+json": {
       "model_id": "9d53d8c58ca84062b1993cdc379c3378",
       "version_major": 2,
       "version_minor": 0
      },
      "text/plain": [
       "Canvas(toolbar=Toolbar(toolitems=[('Home', 'Reset original view', 'home', 'home'), ('Back', 'Back to previous …"
      ]
     },
     "metadata": {},
     "output_type": "display_data"
    },
    {
     "name": "stdout",
     "output_type": "stream",
     "text": [
      "[ 0.76234831  0.01        1.43489649  0.07        6.68609959]\n",
      "3.36669927761e-07\n"
     ]
    },
    {
     "data": {
      "application/vnd.jupyter.widget-view+json": {
       "model_id": "30c8b411097740ab83578a101e2463cb",
       "version_major": 2,
       "version_minor": 0
      },
      "text/plain": [
       "Canvas(toolbar=Toolbar(toolitems=[('Home', 'Reset original view', 'home', 'home'), ('Back', 'Back to previous …"
      ]
     },
     "metadata": {},
     "output_type": "display_data"
    },
    {
     "name": "stdout",
     "output_type": "stream",
     "text": [
      "[ 0.80276365  0.01        1.4049472   0.06781388  5.72450101]\n",
      "3.73510140288e-07\n"
     ]
    },
    {
     "data": {
      "application/vnd.jupyter.widget-view+json": {
       "model_id": "1753be4c4f9b49baa0c04e116169ec57",
       "version_major": 2,
       "version_minor": 0
      },
      "text/plain": [
       "Canvas(toolbar=Toolbar(toolitems=[('Home', 'Reset original view', 'home', 'home'), ('Back', 'Back to previous …"
      ]
     },
     "metadata": {},
     "output_type": "display_data"
    },
    {
     "name": "stdout",
     "output_type": "stream",
     "text": [
      "[ 0.84116659  0.01        1.37700835  0.06534461  4.9520251 ]\n",
      "4.13324960727e-07\n"
     ]
    },
    {
     "data": {
      "application/vnd.jupyter.widget-view+json": {
       "model_id": "d7d80711a5054d1fa3c816e18a32d22a",
       "version_major": 2,
       "version_minor": 0
      },
      "text/plain": [
       "Canvas(toolbar=Toolbar(toolitems=[('Home', 'Reset original view', 'home', 'home'), ('Back', 'Back to previous …"
      ]
     },
     "metadata": {},
     "output_type": "display_data"
    },
    {
     "name": "stdout",
     "output_type": "stream",
     "text": [
      "[ 0.87598059  0.01        1.35949114  0.06340935  4.47022722]\n",
      "4.61922699931e-07\n"
     ]
    },
    {
     "data": {
      "application/vnd.jupyter.widget-view+json": {
       "model_id": "f8d57bea2f7a409dbc229be198432f3c",
       "version_major": 2,
       "version_minor": 0
      },
      "text/plain": [
       "Canvas(toolbar=Toolbar(toolitems=[('Home', 'Reset original view', 'home', 'home'), ('Back', 'Back to previous …"
      ]
     },
     "metadata": {},
     "output_type": "display_data"
    },
    {
     "name": "stdout",
     "output_type": "stream",
     "text": [
      "[ 0.90722179  0.01        1.34585395  0.06154288  4.09369171]\n",
      "5.40456895135e-07\n"
     ]
    },
    {
     "data": {
      "application/vnd.jupyter.widget-view+json": {
       "model_id": "8f8cdcf192ef4993a1721879d8e44be6",
       "version_major": 2,
       "version_minor": 0
      },
      "text/plain": [
       "Canvas(toolbar=Toolbar(toolitems=[('Home', 'Reset original view', 'home', 'home'), ('Back', 'Back to previous …"
      ]
     },
     "metadata": {},
     "output_type": "display_data"
    },
    {
     "name": "stdout",
     "output_type": "stream",
     "text": [
      "[ 0.93505552  0.01        1.3349579   0.05973808  3.86429275]\n",
      "6.08983092254e-07\n"
     ]
    },
    {
     "data": {
      "application/vnd.jupyter.widget-view+json": {
       "model_id": "ec198632bba24e04acabf61fbd5a82d0",
       "version_major": 2,
       "version_minor": 0
      },
      "text/plain": [
       "Canvas(toolbar=Toolbar(toolitems=[('Home', 'Reset original view', 'home', 'home'), ('Back', 'Back to previous …"
      ]
     },
     "metadata": {},
     "output_type": "display_data"
    },
    {
     "name": "stdout",
     "output_type": "stream",
     "text": [
      "[ 0.9597615   0.01        1.32039375  0.05735936  3.68399045]\n",
      "6.48792207631e-07\n"
     ]
    },
    {
     "data": {
      "application/vnd.jupyter.widget-view+json": {
       "model_id": "cf7540340461416e847340a9b163d019",
       "version_major": 2,
       "version_minor": 0
      },
      "text/plain": [
       "Canvas(toolbar=Toolbar(toolitems=[('Home', 'Reset original view', 'home', 'home'), ('Back', 'Back to previous …"
      ]
     },
     "metadata": {},
     "output_type": "display_data"
    },
    {
     "name": "stdout",
     "output_type": "stream",
     "text": [
      "[ 0.98184951  0.01        1.29826872  0.05396549  3.54693685]\n",
      "6.59052628576e-07\n"
     ]
    },
    {
     "data": {
      "application/vnd.jupyter.widget-view+json": {
       "model_id": "f9b5d422e0964074809f933bc4ffa0cd",
       "version_major": 2,
       "version_minor": 0
      },
      "text/plain": [
       "Canvas(toolbar=Toolbar(toolitems=[('Home', 'Reset original view', 'home', 'home'), ('Back', 'Back to previous …"
      ]
     },
     "metadata": {},
     "output_type": "display_data"
    },
    {
     "name": "stdout",
     "output_type": "stream",
     "text": [
      "[ 0.98974935  0.00842324  1.27120533  0.04986844  3.49201012]\n",
      "6.72251300356e-07\n"
     ]
    },
    {
     "data": {
      "application/vnd.jupyter.widget-view+json": {
       "model_id": "517c679d4c144e26aa2c42d87b03268e",
       "version_major": 2,
       "version_minor": 0
      },
      "text/plain": [
       "Canvas(toolbar=Toolbar(toolitems=[('Home', 'Reset original view', 'home', 'home'), ('Back', 'Back to previous …"
      ]
     },
     "metadata": {},
     "output_type": "display_data"
    },
    {
     "name": "stdout",
     "output_type": "stream",
     "text": [
      "[ 0.98202054  0.005       1.25        0.04645707  3.53152081]\n",
      "7.13640898116e-07\n"
     ]
    },
    {
     "data": {
      "application/vnd.jupyter.widget-view+json": {
       "model_id": "f8179faea55742a7ba0df7b8268ea708",
       "version_major": 2,
       "version_minor": 0
      },
      "text/plain": [
       "Canvas(toolbar=Toolbar(toolitems=[('Home', 'Reset original view', 'home', 'home'), ('Back', 'Back to previous …"
      ]
     },
     "metadata": {},
     "output_type": "display_data"
    },
    {
     "name": "stdout",
     "output_type": "stream",
     "text": [
      "[ 0.98948904  0.005       1.25        0.04603146  3.67331023]\n",
      "7.32129649302e-07\n"
     ]
    },
    {
     "data": {
      "application/vnd.jupyter.widget-view+json": {
       "model_id": "916849cbf88e4b6ca5998c4c43356596",
       "version_major": 2,
       "version_minor": 0
      },
      "text/plain": [
       "Canvas(toolbar=Toolbar(toolitems=[('Home', 'Reset original view', 'home', 'home'), ('Back', 'Back to previous …"
      ]
     },
     "metadata": {},
     "output_type": "display_data"
    },
    {
     "name": "stdout",
     "output_type": "stream",
     "text": [
      "[ 0.99201562  0.005       1.25        0.04588997  3.72672641]\n",
      "7.46385075602e-07\n"
     ]
    },
    {
     "data": {
      "application/vnd.jupyter.widget-view+json": {
       "model_id": "b6d39bf014ac44298065f13edbaf5f60",
       "version_major": 2,
       "version_minor": 0
      },
      "text/plain": [
       "Canvas(toolbar=Toolbar(toolitems=[('Home', 'Reset original view', 'home', 'home'), ('Back', 'Back to previous …"
      ]
     },
     "metadata": {},
     "output_type": "display_data"
    }
   ],
   "source": [
    "POPTS = []\n",
    "for parameters in PARAMETERS:\n",
    "    offset_r = [parameter.x[2] for parameter in parameters]\n",
    "\n",
    "    offset_r[0] = 0\n",
    "\n",
    "    popt, pcov = scipy.optimize.curve_fit(\n",
    "        partial_curve,\n",
    "        SATURATION_SAMPLES,\n",
    "        offset_r,\n",
    "        bounds=np.transpose([\n",
    "            (0.4, 1),\n",
    "            (0.005, 0.01),\n",
    "            (1.25, 1.55),\n",
    "            (0.04, 0.07),\n",
    "            (1, 8),\n",
    "        ]),\n",
    "        maxfev=50000)\n",
    "    \n",
    "    POPTS.append(popt)\n",
    "    print(popt)\n",
    "    print(\n",
    "        colour.utilities.metric_mse(offset_r, partial_curve(SATURATION_SAMPLES,\n",
    "                                                    *popt)))\n",
    "\n",
    "    with plt.style.context({'figure.figsize': (10.24, 10.24)}):\n",
    "        colour.plotting.artist()\n",
    "\n",
    "        plt.plot(SATURATION_SAMPLES, offset_r)\n",
    "        plt.plot(SATURATION_SAMPLES, partial_curve(SATURATION_SAMPLES, *popt), 'o')"
   ]
  },
  {
   "cell_type": "code",
   "execution_count": 15,
   "metadata": {},
   "outputs": [
    {
     "name": "stdout",
     "output_type": "stream",
     "text": [
      "[[  4.20613529e-01   4.49458739e-01   4.85191758e-01   5.23669259e-01\n",
      "    5.64343322e-01   6.05376678e-01   6.46719612e-01   6.87411661e-01\n",
      "    7.24820949e-01   7.62348310e-01   8.02763652e-01   8.41166592e-01\n",
      "    8.75980594e-01   9.07221789e-01   9.35055515e-01   9.59761498e-01\n",
      "    9.81849512e-01   9.89749348e-01   9.82020536e-01   9.89489039e-01\n",
      "    9.92015624e-01]\n",
      " [  9.99999990e-03   9.99999980e-03   1.00000000e-02   1.00000000e-02\n",
      "    9.99995100e-03   9.99999975e-03   9.99999976e-03   1.00000000e-02\n",
      "    1.00000000e-02   1.00000000e-02   1.00000000e-02   1.00000000e-02\n",
      "    1.00000000e-02   1.00000000e-02   1.00000000e-02   1.00000000e-02\n",
      "    1.00000000e-02   8.42324260e-03   5.00000000e-03   5.00000000e-03\n",
      "    5.00000000e-03]\n",
      " [  1.54999165e+00   1.54587020e+00   1.52243267e+00   1.50167967e+00\n",
      "    1.48373347e+00   1.46864029e+00   1.45617162e+00   1.44643813e+00\n",
      "    1.43992726e+00   1.43489649e+00   1.40494720e+00   1.37700835e+00\n",
      "    1.35949114e+00   1.34585395e+00   1.33495790e+00   1.32039375e+00\n",
      "    1.29826872e+00   1.27120533e+00   1.25000000e+00   1.25000000e+00\n",
      "    1.25000000e+00]\n",
      " [  6.89850195e-02   6.99831636e-02   6.99999997e-02   7.00000000e-02\n",
      "    6.99999981e-02   7.00000000e-02   7.00000000e-02   7.00000000e-02\n",
      "    7.00000000e-02   7.00000000e-02   6.78138820e-02   6.53446084e-02\n",
      "    6.34093458e-02   6.15428803e-02   5.97380787e-02   5.73593644e-02\n",
      "    5.39654921e-02   4.98684367e-02   4.64570696e-02   4.60314614e-02\n",
      "    4.58899651e-02]\n",
      " [  8.00000000e+00   8.00000000e+00   8.00000000e+00   8.00000000e+00\n",
      "    7.99999982e+00   7.99999998e+00   7.99999934e+00   7.82343878e+00\n",
      "    7.10043920e+00   6.68609959e+00   5.72450101e+00   4.95202510e+00\n",
      "    4.47022722e+00   4.09369171e+00   3.86429275e+00   3.68399045e+00\n",
      "    3.54693685e+00   3.49201012e+00   3.53152081e+00   3.67331023e+00\n",
      "    3.72672641e+00]]\n"
     ]
    },
    {
     "data": {
      "application/vnd.jupyter.widget-view+json": {
       "model_id": "b162f52e406546f28992f2654c80ddf3",
       "version_major": 2,
       "version_minor": 0
      },
      "text/plain": [
       "Canvas(toolbar=Toolbar(toolitems=[('Home', 'Reset original view', 'home', 'home'), ('Back', 'Back to previous …"
      ]
     },
     "metadata": {},
     "output_type": "display_data"
    },
    {
     "data": {
      "application/vnd.jupyter.widget-view+json": {
       "model_id": "156fda7852ed4754abce32c6a1129549",
       "version_major": 2,
       "version_minor": 0
      },
      "text/plain": [
       "Canvas(toolbar=Toolbar(toolitems=[('Home', 'Reset original view', 'home', 'home'), ('Back', 'Back to previous …"
      ]
     },
     "metadata": {},
     "output_type": "display_data"
    },
    {
     "data": {
      "application/vnd.jupyter.widget-view+json": {
       "model_id": "8a96440e5af34599b7fee0fa55ed91d0",
       "version_major": 2,
       "version_minor": 0
      },
      "text/plain": [
       "Canvas(toolbar=Toolbar(toolitems=[('Home', 'Reset original view', 'home', 'home'), ('Back', 'Back to previous …"
      ]
     },
     "metadata": {},
     "output_type": "display_data"
    },
    {
     "data": {
      "application/vnd.jupyter.widget-view+json": {
       "model_id": "465a643e32934df4b59bbfbe74774500",
       "version_major": 2,
       "version_minor": 0
      },
      "text/plain": [
       "Canvas(toolbar=Toolbar(toolitems=[('Home', 'Reset original view', 'home', 'home'), ('Back', 'Back to previous …"
      ]
     },
     "metadata": {},
     "output_type": "display_data"
    },
    {
     "data": {
      "application/vnd.jupyter.widget-view+json": {
       "model_id": "d72a4aed5580405db960bdd6d6e24647",
       "version_major": 2,
       "version_minor": 0
      },
      "text/plain": [
       "Canvas(toolbar=Toolbar(toolitems=[('Home', 'Reset original view', 'home', 'home'), ('Back', 'Back to previous …"
      ]
     },
     "metadata": {},
     "output_type": "display_data"
    },
    {
     "data": {
      "application/vnd.jupyter.widget-view+json": {
       "model_id": "6d6bb6123f7944fb9a0789af8ed4e0fc",
       "version_major": 2,
       "version_minor": 0
      },
      "text/plain": [
       "Canvas(toolbar=Toolbar(toolitems=[('Home', 'Reset original view', 'home', 'home'), ('Back', 'Back to previous …"
      ]
     },
     "metadata": {},
     "output_type": "display_data"
    }
   ],
   "source": [
    "print(np.transpose(POPTS))\n",
    "\n",
    "with plt.style.context({'figure.figsize': (10.24, 10.24)}):\n",
    "    colour.plotting.artist()\n",
    "    \n",
    "    for popt in POPTS:\n",
    "        plt.plot(SATURATION_SAMPLES, partial_curve(SATURATION_SAMPLES, *popt))\n",
    "        \n",
    "\n",
    "for popt in np.transpose(POPTS):\n",
    "    with plt.style.context({'figure.figsize': (10.24, 10.24)}):\n",
    "        colour.plotting.artist()\n",
    "        \n",
    "        plt.plot(popt)"
   ]
  },
  {
   "cell_type": "code",
   "execution_count": 16,
   "metadata": {},
   "outputs": [
    {
     "data": {
      "application/vnd.jupyter.widget-view+json": {
       "model_id": "67836d55a45d4805b87f495c86e2f69b",
       "version_major": 2,
       "version_minor": 0
      },
      "text/plain": [
       "Canvas(toolbar=Toolbar(toolitems=[('Home', 'Reset original view', 'home', 'home'), ('Back', 'Back to previous …"
      ]
     },
     "metadata": {},
     "output_type": "display_data"
    }
   ],
   "source": [
    "with plt.style.context({'figure.figsize': (10.24, 10.24)}):\n",
    "    colour.plotting.artist()\n",
    "    \n",
    "    plt.plot(SATURATION_SAMPLES, partial_curve(SATURATION_SAMPLES, *POPTS[0]))\n",
    "    plt.plot(SATURATION_SAMPLES, partial_curve(SATURATION_SAMPLES, *POPTS[len(POPTS) // 2]))    \n",
    "    plt.plot(SATURATION_SAMPLES, partial_curve(SATURATION_SAMPLES, *POPTS[-1]))\n",
    "    plt.plot(SATURATION_SAMPLES, partial_curve(SATURATION_SAMPLES, *((POPTS[0] + POPTS[-1]) / 2)), '--')\n"
   ]
  },
  {
   "cell_type": "code",
   "execution_count": 17,
   "metadata": {},
   "outputs": [
    {
     "data": {
      "application/vnd.jupyter.widget-view+json": {
       "model_id": "a88fcab962144ec3ae88ec509424b779",
       "version_major": 2,
       "version_minor": 0
      },
      "text/plain": [
       "Canvas(toolbar=Toolbar(toolitems=[('Home', 'Reset original view', 'home', 'home'), ('Back', 'Back to previous …"
      ]
     },
     "metadata": {},
     "output_type": "display_data"
    },
    {
     "data": {
      "application/vnd.jupyter.widget-view+json": {
       "model_id": "7147440f917e47bc9bd861e645e173d9",
       "version_major": 2,
       "version_minor": 0
      },
      "text/plain": [
       "Canvas(toolbar=Toolbar(toolitems=[('Home', 'Reset original view', 'home', 'home'), ('Back', 'Back to previous …"
      ]
     },
     "metadata": {},
     "output_type": "display_data"
    }
   ],
   "source": [
    "def hue_offset_extended(x, S, m_x0, m_y0, m_x1, m_y1, m_overshoot_x):\n",
    "    return np.sin(x * np.pi * 6 + np.pi) * partial_curve(S, m_x0, m_y0, m_x1, m_y1, m_overshoot_x)\n",
    "\n",
    "\n",
    "def medicina_HSV_control_extended(a=POPTS[0],\n",
    "                                  RGB=COLOUR_STRIPE,\n",
    "                                  S_c=0,\n",
    "                                  C_f=tanh_compression_function):\n",
    "    H, S, V = colour.utilities.tsplit(colour.RGB_to_HSV(RGB))\n",
    "\n",
    "    HSV = colour.utilities.tstack(\n",
    "        [(H + hue_offset_extended(H, S, *a)) % 1,\n",
    "          C_f(S, S_c, 1 - S_c), V])\n",
    "\n",
    "    return colour.HSV_to_RGB(HSV)\n",
    "\n",
    "\n",
    "with plt.style.context({'figure.figsize': (10.24, 10.24)}):\n",
    "    # colour.plotting.plot_image(STRIPES);\n",
    "\n",
    "    colour.plotting.plot_image(\n",
    "            np.abs(\n",
    "                medicina_HSV_control([0, 0, 0], RGB=STRIPES) -\n",
    "                medicina_RGB_saturation(STRIPES)) * 5);\n",
    "\n",
    "    colour.plotting.plot_image(\n",
    "            np.abs(\n",
    "                medicina_HSV_control_extended(RGB=STRIPES) -\n",
    "                medicina_RGB_saturation(STRIPES)) * 5);"
   ]
  },
  {
   "cell_type": "code",
   "execution_count": 18,
   "metadata": {},
   "outputs": [
    {
     "data": {
      "application/vnd.jupyter.widget-view+json": {
       "model_id": "cfd2e8f07c2d444fabe28301c9a4a9a0",
       "version_major": 2,
       "version_minor": 0
      },
      "text/plain": [
       "Canvas(toolbar=Toolbar(toolitems=[('Home', 'Reset original view', 'home', 'home'), ('Back', 'Back to previous …"
      ]
     },
     "metadata": {},
     "output_type": "display_data"
    },
    {
     "data": {
      "application/vnd.jupyter.widget-view+json": {
       "model_id": "de04514028834e56ae4a51da7d6242b9",
       "version_major": 2,
       "version_minor": 0
      },
      "text/plain": [
       "Canvas(toolbar=Toolbar(toolitems=[('Home', 'Reset original view', 'home', 'home'), ('Back', 'Back to previous …"
      ]
     },
     "metadata": {},
     "output_type": "display_data"
    }
   ],
   "source": [
    "with plt.style.context({'figure.figsize': (10.24, 10.24)}):\n",
    "    colour.plotting.plot_image(\n",
    "        np.abs(\n",
    "            medicina_HSV_control([0, 0, 0], RGB=COLOUR_WHEEL) -\n",
    "            medicina_RGB_saturation(COLOUR_WHEEL)) * 5)\n",
    "\n",
    "    colour.plotting.plot_image(\n",
    "        np.abs(\n",
    "            medicina_HSV_control_extended(RGB=COLOUR_WHEEL) -\n",
    "            medicina_RGB_saturation(COLOUR_WHEEL)) * 5)"
   ]
  }
 ],
 "metadata": {
  "colab": {
   "collapsed_sections": [],
   "name": "gamut_mapping_ramblings_01",
   "provenance": []
  },
  "kernelspec": {
   "display_name": "Python 3",
   "language": "python",
   "name": "python3"
  },
  "language_info": {
   "codemirror_mode": {
    "name": "ipython",
    "version": 3
   },
   "file_extension": ".py",
   "mimetype": "text/x-python",
   "name": "python",
   "nbconvert_exporter": "python",
   "pygments_lexer": "ipython3",
   "version": "3.7.6"
  },
  "widgets": {
   "application/vnd.jupyter.widget-state+json": {
    "state": {},
    "version_major": 2,
    "version_minor": 0
   }
  }
 },
 "nbformat": 4,
 "nbformat_minor": 4
}
