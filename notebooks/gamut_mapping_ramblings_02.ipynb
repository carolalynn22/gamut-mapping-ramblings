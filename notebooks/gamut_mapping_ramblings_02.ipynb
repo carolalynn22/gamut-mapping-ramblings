{
 "cells": [
  {
   "cell_type": "markdown",
   "metadata": {
    "colab_type": "text",
    "id": "pRS6nhpu1R6y"
   },
   "source": [
    "# Gamut Mapping - Ramblings 02"
   ]
  },
  {
   "cell_type": "code",
   "execution_count": 1,
   "metadata": {},
   "outputs": [],
   "source": [
    "%matplotlib widget"
   ]
  },
  {
   "cell_type": "code",
   "execution_count": 2,
   "metadata": {
    "colab": {
     "base_uri": "https://localhost:8080/",
     "height": 340
    },
    "colab_type": "code",
    "id": "OydMmtZRxd3c",
    "outputId": "297a43b9-f566-405d-e8bc-cfae56b50959"
   },
   "outputs": [
    {
     "name": "stdout",
     "output_type": "stream",
     "text": [
      "===============================================================================\n",
      "*                                                                             *\n",
      "*   Interpreter :                                                             *\n",
      "*       python : 3.7.6 (default, Dec 30 2019, 19:38:26)                       *\n",
      "*                [Clang 11.0.0 (clang-1100.0.33.16)]                          *\n",
      "*                                                                             *\n",
      "*   colour-science.org :                                                      *\n",
      "*       colour : v0.3.15-141-g3bebd7e9                                        *\n",
      "*                                                                             *\n",
      "*   Runtime :                                                                 *\n",
      "*       imageio : 2.8.0                                                       *\n",
      "*       matplotlib : 3.0.3                                                    *\n",
      "*       numpy : 1.18.4                                                        *\n",
      "*       scipy : 1.4.1                                                         *\n",
      "*       six : 1.14.0                                                          *\n",
      "*                                                                             *\n",
      "===============================================================================\n"
     ]
    }
   ],
   "source": [
    "from __future__ import division, unicode_literals\n",
    "\n",
    "import colour\n",
    "import matplotlib.pyplot as plt\n",
    "import numpy as np\n",
    "import os\n",
    "import scipy.optimize\n",
    "from functools import reduce\n",
    "\n",
    "COLOUR_STYLE = colour.plotting.colour_style()\n",
    "COLOUR_STYLE.update({\n",
    "    'figure.figsize': (10.24, 10.24),\n",
    "    'legend.framealpha':\n",
    "    colour.plotting.COLOUR_STYLE_CONSTANTS.opacity.low\n",
    "})\n",
    "\n",
    "plt.style.use(COLOUR_STYLE)\n",
    "\n",
    "plt.style.use('dark_background')\n",
    "\n",
    "colour.utilities.describe_environment()\n",
    "\n",
    "colour.utilities.filter_warnings(*[True] * 4);"
   ]
  },
  {
   "cell_type": "markdown",
   "metadata": {
    "colab_type": "text",
    "id": "5yCeFpnnp_wh"
   },
   "source": [
    "## Colour Stripe Generation"
   ]
  },
  {
   "cell_type": "code",
   "execution_count": 3,
   "metadata": {
    "colab": {},
    "colab_type": "code",
    "id": "RshonIbOI4Ij"
   },
   "outputs": [],
   "source": [
    "def colour_stripe(samples=360):\n",
    "    H = np.linspace(0, 1, samples)\n",
    "\n",
    "    HSV = colour.utilities.tstack([H, np.ones(samples), np.ones(samples)])\n",
    "    RGB = colour.HSV_to_RGB(HSV)\n",
    " \n",
    "    return RGB[np.newaxis, ...]"
   ]
  },
  {
   "cell_type": "code",
   "execution_count": 4,
   "metadata": {
    "colab": {
     "base_uri": "https://localhost:8080/",
     "height": 726
    },
    "colab_type": "code",
    "id": "154RGuYrmMNa",
    "outputId": "45ce8789-a351-4ca8-d6d0-88db89531df2"
   },
   "outputs": [
    {
     "data": {
      "application/vnd.jupyter.widget-view+json": {
       "model_id": "5eedcb01f60a447b946051f6be19f43c",
       "version_major": 2,
       "version_minor": 0
      },
      "text/plain": [
       "Canvas(toolbar=Toolbar(toolitems=[('Home', 'Reset original view', 'home', 'home'), ('Back', 'Back to previous …"
      ]
     },
     "metadata": {},
     "output_type": "display_data"
    }
   ],
   "source": [
    "COLOUR_STRIPE = colour_stripe();\n",
    "\n",
    "colour.plotting.plot_image(np.resize(COLOUR_STRIPE, [360, 360, 3]));"
   ]
  },
  {
   "cell_type": "markdown",
   "metadata": {},
   "source": [
    "## Compression Function"
   ]
  },
  {
   "cell_type": "code",
   "execution_count": 5,
   "metadata": {},
   "outputs": [],
   "source": [
    "def tanh_compression_function(x, a=0.8, b=1 - 0.8):\n",
    "    x = colour.utilities.as_float_array(x)\n",
    "\n",
    "    return np.where(x > a, (a + b * np.tanh((x - a) / b)), x)"
   ]
  },
  {
   "cell_type": "markdown",
   "metadata": {},
   "source": [
    "## Comparison"
   ]
  },
  {
   "cell_type": "code",
   "execution_count": 6,
   "metadata": {},
   "outputs": [],
   "source": [
    "SAMPLES = np.linspace(0, 1, 360)\n",
    "\n",
    "\n",
    "def sine_wave(x, a, b, c):\n",
    "    return np.sin(x * a + b) * c\n",
    "\n",
    "\n",
    "def medicina_HSV_control(p=(np.pi * 6, np.pi, np.pi / 180), RGB=COLOUR_STRIPE, S_c=0, C_f=tanh_compression_function):    \n",
    "    H, S, V = colour.utilities.tsplit(colour.RGB_to_HSV(RGB))\n",
    "\n",
    "    HSV = colour.utilities.tstack(\n",
    "        [(H + sine_wave(SAMPLES, *p))  % 1, C_f(S, S_c, 1 - S_c), V])\n",
    "\n",
    "    return colour.HSV_to_RGB(HSV)\n",
    "\n",
    "\n",
    "def medicina_RGB_saturation(RGB=COLOUR_STRIPE, C_t=1, C_f=tanh_compression_function):\n",
    "    C_t = 1 - C_t\n",
    "\n",
    "    L = np.max(RGB, axis=-1)[..., np.newaxis]\n",
    "\n",
    "    D = np.abs(RGB - L) / L\n",
    "\n",
    "    D_c = C_f(D, C_t, 1 - C_t)\n",
    "\n",
    "    RGB_c = L - D_c * L\n",
    "\n",
    "    return RGB_c\n",
    "\n",
    "RGB_S = medicina_RGB_saturation()"
   ]
  },
  {
   "cell_type": "code",
   "execution_count": 7,
   "metadata": {},
   "outputs": [
    {
     "data": {
      "application/vnd.jupyter.widget-view+json": {
       "model_id": "faf91c30f95e49b0a41915f3dba07464",
       "version_major": 2,
       "version_minor": 0
      },
      "text/plain": [
       "Canvas(toolbar=Toolbar(toolitems=[('Home', 'Reset original view', 'home', 'home'), ('Back', 'Back to previous …"
      ]
     },
     "metadata": {},
     "output_type": "display_data"
    }
   ],
   "source": [
    "colour.plotting.plot_image(np.resize(medicina_HSV_control(), [360, 360, 3]));"
   ]
  },
  {
   "cell_type": "code",
   "execution_count": 8,
   "metadata": {},
   "outputs": [
    {
     "data": {
      "application/vnd.jupyter.widget-view+json": {
       "model_id": "b352cd44e6514584b1929bd6c31e3177",
       "version_major": 2,
       "version_minor": 0
      },
      "text/plain": [
       "Canvas(toolbar=Toolbar(toolitems=[('Home', 'Reset original view', 'home', 'home'), ('Back', 'Back to previous …"
      ]
     },
     "metadata": {},
     "output_type": "display_data"
    }
   ],
   "source": [
    "colour.plotting.plot_image(np.resize(RGB_S, [360, 360, 3]));"
   ]
  },
  {
   "cell_type": "code",
   "execution_count": 9,
   "metadata": {},
   "outputs": [
    {
     "data": {
      "application/vnd.jupyter.widget-view+json": {
       "model_id": "d23c78f395c5474181d0e5381effe926",
       "version_major": 2,
       "version_minor": 0
      },
      "text/plain": [
       "Canvas(toolbar=Toolbar(toolitems=[('Home', 'Reset original view', 'home', 'home'), ('Back', 'Back to previous …"
      ]
     },
     "metadata": {},
     "output_type": "display_data"
    }
   ],
   "source": [
    "colour.plotting.plot_image(np.resize(np.abs(medicina_HSV_control([0, 0, 0]) - RGB_S) * 5, [360, 360, 3]));"
   ]
  },
  {
   "cell_type": "markdown",
   "metadata": {},
   "source": [
    "## Optimisation"
   ]
  },
  {
   "cell_type": "markdown",
   "metadata": {},
   "source": [
    "After some initial tests, it seemed like the closest function to minimize the error was a triangle or sine wave: https://community.acescentral.com/t/gamut-mapping-in-cylindrical-and-conic-spaces/2870/10?u=thomas_mansencal\n",
    "\n",
    "$\\sin\\bigg(x * \\cfrac{\\pi}{6} + \\pi\\bigg) * \\cfrac{\\pi}{\\approx180})$\n",
    "\n",
    "is almost the best fitting function for this case, the rounded 180 just happens to be convenient here but the proper value is a bit lower."
   ]
  },
  {
   "cell_type": "code",
   "execution_count": 10,
   "metadata": {},
   "outputs": [
    {
     "name": "stdout",
     "output_type": "stream",
     "text": [
      "1 [  1.88495534e+01   3.14159238e+00   1.78428337e-02]\n",
      "2 [  1.87968462e+01   3.14659566e+00   1.78300564e-02]\n",
      "3 [  1.87753957e+01   3.16257721e+00   1.78425503e-02]\n",
      "4 [  1.87570641e+01   3.18879125e+00   1.78187652e-02]\n",
      "5 [  1.87635405e+01   3.18574666e+00   1.78591109e-02]\n",
      "6 [  1.87599644e+01   3.18744775e+00   1.78556345e-02]\n",
      "7 [  1.87575026e+01   3.18770622e+00   1.78469763e-02]\n",
      "8 [  1.87582791e+01   3.18733477e+00   1.78409797e-02]\n",
      "9 [  1.87601454e+01   3.18654866e+00   1.78406727e-02]\n",
      "10 [  1.87606339e+01   3.18583575e+00   1.78431776e-02]\n",
      "11 [  1.87600548e+01   3.18632147e+00   1.78458363e-02]\n",
      "12 [  1.87601760e+01   3.18629586e+00   1.78470703e-02]\n",
      "13 [  1.87602769e+01   3.18626075e+00   1.78470910e-02]\n",
      "14 [  1.87603255e+01   3.18622424e+00   1.78469970e-02]\n",
      "15 [  1.87603343e+01   3.18619542e+00   1.78465309e-02]\n",
      "16 [  1.87603340e+01   3.18619489e+00   1.78461796e-02]\n",
      "17 [  1.87603265e+01   3.18620548e+00   1.78462106e-02]\n",
      "18 [  1.87603266e+01   3.18620585e+00   1.78462050e-02]\n",
      "19 [  1.87603271e+01   3.18620569e+00   1.78462035e-02]\n",
      "20 [  1.87603295e+01   3.18620466e+00   1.78462009e-02]\n",
      "21 [  1.87603347e+01   3.18620230e+00   1.78461978e-02]\n",
      "22 [  1.87603379e+01   3.18620078e+00   1.78461965e-02]\n"
     ]
    }
   ],
   "source": [
    "def objective_function(abc):\n",
    "    return np.sum(np.abs(medicina_HSV_control(abc) - RGB_S))\n",
    "\n",
    "\n",
    "I = 1\n",
    "def callback(*args):\n",
    "    global I\n",
    "    print(I, args[0][:10])\n",
    "    I += 1\n",
    "\n",
    "    \n",
    "P = scipy.optimize.minimize(objective_function, (np.pi * 6, np.pi, np.pi / 180), callback=callback)"
   ]
  },
  {
   "cell_type": "code",
   "execution_count": 11,
   "metadata": {},
   "outputs": [
    {
     "data": {
      "text/plain": [
       "      fun: 1.0626386489805904\n",
       " hess_inv: array([[  2.48114583e-03,  -1.09487416e-03,  -7.41781161e-07],\n",
       "       [ -1.09487416e-03,   5.11710721e-04,   3.01742917e-07],\n",
       "       [ -7.41781161e-07,   3.01742917e-07,   4.71380077e-10]])\n",
       "      jac: array([-0.01250617, -0.00483122, -1.91527011])\n",
       "  message: 'Desired error not necessarily achieved due to precision loss.'\n",
       "     nfev: 692\n",
       "      nit: 22\n",
       "     njev: 136\n",
       "   status: 2\n",
       "  success: False\n",
       "        x: array([  1.87603379e+01,   3.18620078e+00,   1.78461965e-02])"
      ]
     },
     "execution_count": 11,
     "metadata": {},
     "output_type": "execute_result"
    }
   ],
   "source": [
    "P"
   ]
  },
  {
   "cell_type": "code",
   "execution_count": 12,
   "metadata": {},
   "outputs": [
    {
     "data": {
      "application/vnd.jupyter.widget-view+json": {
       "model_id": "dafb3249df1d47ca86a159c9c322e8d8",
       "version_major": 2,
       "version_minor": 0
      },
      "text/plain": [
       "Canvas(toolbar=Toolbar(toolitems=[('Home', 'Reset original view', 'home', 'home'), ('Back', 'Back to previous …"
      ]
     },
     "metadata": {},
     "output_type": "display_data"
    }
   ],
   "source": [
    "colour.plotting.artist()\n",
    "plt.plot(SAMPLES, np.sin(np.linspace(0, 1, len(SAMPLES)) * P.x[0] + P.x[1]) * P.x[2])\n",
    "for i in np.arange(0, 360 + 60, 60) / 360:\n",
    "    plt.axvline(i, c='r')"
   ]
  },
  {
   "cell_type": "code",
   "execution_count": 13,
   "metadata": {},
   "outputs": [
    {
     "name": "stdout",
     "output_type": "stream",
     "text": [
      "0.00788311318698\n",
      "0.00808130330299\n"
     ]
    },
    {
     "data": {
      "application/vnd.jupyter.widget-view+json": {
       "model_id": "c70bcbb4e567483d9ebcf76b937217c3",
       "version_major": 2,
       "version_minor": 0
      },
      "text/plain": [
       "Canvas(toolbar=Toolbar(toolitems=[('Home', 'Reset original view', 'home', 'home'), ('Back', 'Back to previous …"
      ]
     },
     "metadata": {},
     "output_type": "display_data"
    }
   ],
   "source": [
    "print(np.max(np.abs(medicina_HSV_control() - RGB_S)))\n",
    "print(np.max(np.abs(medicina_HSV_control(P.x) - RGB_S)))\n",
    "\n",
    "\n",
    "colour.plotting.plot_image(np.resize(np.abs(medicina_HSV_control(P.x) - RGB_S) * 5, [360, 360, 3]));"
   ]
  }
 ],
 "metadata": {
  "colab": {
   "collapsed_sections": [],
   "name": "gamut_mapping_ramblings_01",
   "provenance": []
  },
  "kernelspec": {
   "display_name": "Python 3",
   "language": "python",
   "name": "python3"
  },
  "language_info": {
   "codemirror_mode": {
    "name": "ipython",
    "version": 3
   },
   "file_extension": ".py",
   "mimetype": "text/x-python",
   "name": "python",
   "nbconvert_exporter": "python",
   "pygments_lexer": "ipython3",
   "version": "3.7.6"
  },
  "widgets": {
   "application/vnd.jupyter.widget-state+json": {
    "state": {},
    "version_major": 2,
    "version_minor": 0
   }
  }
 },
 "nbformat": 4,
 "nbformat_minor": 4
}
