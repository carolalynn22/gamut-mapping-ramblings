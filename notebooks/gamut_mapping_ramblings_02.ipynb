{
 "cells": [
  {
   "cell_type": "markdown",
   "metadata": {
    "colab_type": "text",
    "id": "pRS6nhpu1R6y"
   },
   "source": [
    "# Gamut Mapping - Ramblings 02"
   ]
  },
  {
   "cell_type": "code",
   "execution_count": 1,
   "metadata": {},
   "outputs": [],
   "source": [
    "%matplotlib widget"
   ]
  },
  {
   "cell_type": "code",
   "execution_count": 2,
   "metadata": {
    "colab": {
     "base_uri": "https://localhost:8080/",
     "height": 340
    },
    "colab_type": "code",
    "id": "OydMmtZRxd3c",
    "outputId": "297a43b9-f566-405d-e8bc-cfae56b50959"
   },
   "outputs": [
    {
     "name": "stdout",
     "output_type": "stream",
     "text": [
      "===============================================================================\n",
      "*                                                                             *\n",
      "*   Interpreter :                                                             *\n",
      "*       python : 3.7.6 (default, Dec 30 2019, 19:38:26)                       *\n",
      "*                [Clang 11.0.0 (clang-1100.0.33.16)]                          *\n",
      "*                                                                             *\n",
      "*   colour-science.org :                                                      *\n",
      "*       colour : v0.3.15-141-g3bebd7e9                                        *\n",
      "*                                                                             *\n",
      "*   Runtime :                                                                 *\n",
      "*       imageio : 2.8.0                                                       *\n",
      "*       matplotlib : 3.0.3                                                    *\n",
      "*       numpy : 1.18.4                                                        *\n",
      "*       scipy : 1.4.1                                                         *\n",
      "*       six : 1.14.0                                                          *\n",
      "*                                                                             *\n",
      "===============================================================================\n"
     ]
    }
   ],
   "source": [
    "from __future__ import division, unicode_literals\n",
    "\n",
    "import colour\n",
    "import matplotlib.pyplot as plt\n",
    "import numpy as np\n",
    "import os\n",
    "import scipy.optimize\n",
    "from functools import reduce\n",
    "\n",
    "COLOUR_STYLE = colour.plotting.colour_style()\n",
    "COLOUR_STYLE.update({\n",
    "    'figure.figsize': (10.24, 10.24),\n",
    "    'legend.framealpha':\n",
    "    colour.plotting.COLOUR_STYLE_CONSTANTS.opacity.low\n",
    "})\n",
    "\n",
    "plt.style.use(COLOUR_STYLE)\n",
    "\n",
    "plt.style.use('dark_background')\n",
    "\n",
    "colour.utilities.describe_environment()\n",
    "\n",
    "colour.utilities.filter_warnings(*[True] * 4);"
   ]
  },
  {
   "cell_type": "markdown",
   "metadata": {
    "colab_type": "text",
    "id": "5yCeFpnnp_wh"
   },
   "source": [
    "## Colour Stripe Generation"
   ]
  },
  {
   "cell_type": "code",
   "execution_count": 3,
   "metadata": {
    "colab": {},
    "colab_type": "code",
    "id": "RshonIbOI4Ij"
   },
   "outputs": [],
   "source": [
    "def colour_stripe(samples=360):\n",
    "    H = np.linspace(0, 1, samples)\n",
    "\n",
    "    HSV = colour.utilities.tstack([H, np.ones(samples) * 0.1, np.ones(samples)])\n",
    "    RGB = colour.HSV_to_RGB(HSV)\n",
    " \n",
    "    return RGB[np.newaxis, ...]"
   ]
  },
  {
   "cell_type": "code",
   "execution_count": 4,
   "metadata": {
    "colab": {
     "base_uri": "https://localhost:8080/",
     "height": 726
    },
    "colab_type": "code",
    "id": "154RGuYrmMNa",
    "outputId": "45ce8789-a351-4ca8-d6d0-88db89531df2"
   },
   "outputs": [
    {
     "data": {
      "application/vnd.jupyter.widget-view+json": {
       "model_id": "de571c7035144c34936ae3cd131a65e1",
       "version_major": 2,
       "version_minor": 0
      },
      "text/plain": [
       "Canvas(toolbar=Toolbar(toolitems=[('Home', 'Reset original view', 'home', 'home'), ('Back', 'Back to previous …"
      ]
     },
     "metadata": {},
     "output_type": "display_data"
    }
   ],
   "source": [
    "COLOUR_STRIPE = colour_stripe();\n",
    "\n",
    "colour.plotting.plot_image(np.resize(COLOUR_STRIPE, [360, 360, 3]));"
   ]
  },
  {
   "cell_type": "markdown",
   "metadata": {},
   "source": [
    "## Compression Function"
   ]
  },
  {
   "cell_type": "code",
   "execution_count": 5,
   "metadata": {},
   "outputs": [],
   "source": [
    "def tanh_compression_function(x, a=0.8, b=1 - 0.8):\n",
    "    x = colour.utilities.as_float_array(x)\n",
    "\n",
    "    return np.where(x > a, (a + b * np.tanh((x - a) / b)), x)"
   ]
  },
  {
   "cell_type": "markdown",
   "metadata": {},
   "source": [
    "## Comparison"
   ]
  },
  {
   "cell_type": "code",
   "execution_count": 6,
   "metadata": {},
   "outputs": [],
   "source": [
    "SAMPLES = np.linspace(0, 1, 360)\n",
    "\n",
    "\n",
    "def sine_wave(x, a, b, c):\n",
    "    return np.sin(x * a + b) * c\n",
    "\n",
    "\n",
    "def medicina_HSV_control(p=(np.pi * 6, np.pi, np.pi / 180), RGB=COLOUR_STRIPE, S_c=0, C_f=tanh_compression_function):    \n",
    "    H, S, V = colour.utilities.tsplit(colour.RGB_to_HSV(RGB))\n",
    "\n",
    "    HSV = colour.utilities.tstack(\n",
    "        [(H + sine_wave(SAMPLES, *p))  % 1, C_f(S, S_c, 1 - S_c), V])\n",
    "\n",
    "    return colour.HSV_to_RGB(HSV)\n",
    "\n",
    "\n",
    "def medicina_RGB_saturation(RGB=COLOUR_STRIPE, C_t=1, C_f=tanh_compression_function):\n",
    "    C_t = 1 - C_t\n",
    "\n",
    "    L = np.max(RGB, axis=-1)[..., np.newaxis]\n",
    "\n",
    "    D = np.abs(RGB - L) / L\n",
    "\n",
    "    D_c = C_f(D, C_t, 1 - C_t)\n",
    "\n",
    "    RGB_c = L - D_c * L\n",
    "\n",
    "    return RGB_c\n",
    "\n",
    "RGB_S = medicina_RGB_saturation()"
   ]
  },
  {
   "cell_type": "code",
   "execution_count": 7,
   "metadata": {},
   "outputs": [
    {
     "data": {
      "application/vnd.jupyter.widget-view+json": {
       "model_id": "c15e9022f287420eb441da842e90c42c",
       "version_major": 2,
       "version_minor": 0
      },
      "text/plain": [
       "Canvas(toolbar=Toolbar(toolitems=[('Home', 'Reset original view', 'home', 'home'), ('Back', 'Back to previous …"
      ]
     },
     "metadata": {},
     "output_type": "display_data"
    }
   ],
   "source": [
    "colour.plotting.plot_image(np.resize(medicina_HSV_control(), [360, 360, 3]));"
   ]
  },
  {
   "cell_type": "code",
   "execution_count": 8,
   "metadata": {},
   "outputs": [
    {
     "data": {
      "application/vnd.jupyter.widget-view+json": {
       "model_id": "bbb3ace3682e4780a223e34bfbc9d4fb",
       "version_major": 2,
       "version_minor": 0
      },
      "text/plain": [
       "Canvas(toolbar=Toolbar(toolitems=[('Home', 'Reset original view', 'home', 'home'), ('Back', 'Back to previous …"
      ]
     },
     "metadata": {},
     "output_type": "display_data"
    }
   ],
   "source": [
    "colour.plotting.plot_image(np.resize(RGB_S, [360, 360, 3]));"
   ]
  },
  {
   "cell_type": "code",
   "execution_count": 9,
   "metadata": {},
   "outputs": [
    {
     "data": {
      "application/vnd.jupyter.widget-view+json": {
       "model_id": "8a7bb23df09f4584be83864e074adf9b",
       "version_major": 2,
       "version_minor": 0
      },
      "text/plain": [
       "Canvas(toolbar=Toolbar(toolitems=[('Home', 'Reset original view', 'home', 'home'), ('Back', 'Back to previous …"
      ]
     },
     "metadata": {},
     "output_type": "display_data"
    }
   ],
   "source": [
    "colour.plotting.plot_image(np.resize(np.abs(medicina_HSV_control([0, 0, 0]) - RGB_S) * 5, [360, 360, 3]));"
   ]
  },
  {
   "cell_type": "markdown",
   "metadata": {},
   "source": [
    "## Optimisation"
   ]
  },
  {
   "cell_type": "markdown",
   "metadata": {},
   "source": [
    "After some initial tests, it seemed like the closest function to minimize the error was a triangle or sine wave: https://community.acescentral.com/t/gamut-mapping-in-cylindrical-and-conic-spaces/2870/10?u=thomas_mansencal\n",
    "\n",
    "$\\sin\\bigg(x \\cdot \\pi \\cdot 6 + \\pi\\bigg) * \\cfrac{\\pi}{\\approx180}$\n",
    "\n",
    "is almost the best fitting function for this case, the rounded 180 just happens to be convenient here but the proper value is a bit lower."
   ]
  },
  {
   "cell_type": "code",
   "execution_count": 10,
   "metadata": {},
   "outputs": [
    {
     "name": "stdout",
     "output_type": "stream",
     "text": [
      "1 [  1.88495706e+01   3.14159002e+00   2.33152982e-04]\n",
      "2 [  1.88494518e+01   3.14161035e+00   2.16193127e-04]\n",
      "3 [  1.88473238e+01   3.14161992e+00   2.04776638e-04]\n",
      "4 [  1.88458403e+01   3.14161467e+00   2.08286054e-04]\n",
      "5 [  1.88335846e+01   3.14159124e+00   2.08841520e-04]\n",
      "6 [  1.88089644e+01   3.14320272e+00   2.08851152e-04]\n",
      "7 [  1.87889600e+01   3.14710192e+00   2.08644792e-04]\n",
      "8 [  1.87506788e+01   3.15676733e+00   2.08857361e-04]\n",
      "9 [  1.87330109e+01   3.16606204e+00   2.09020782e-04]\n",
      "10 [  1.87138011e+01   3.18097114e+00   2.09232951e-04]\n",
      "11 [  1.86803937e+01   3.21214832e+00   2.09074508e-04]\n",
      "12 [  1.86553859e+01   3.23652649e+00   2.09048112e-04]\n",
      "13 [  1.86593343e+01   3.23547217e+00   2.09196037e-04]\n",
      "14 [  1.86603827e+01   3.23486540e+00   2.09256701e-04]\n",
      "15 [  1.86611743e+01   3.23440224e+00   2.09279354e-04]\n",
      "16 [  1.86624630e+01   3.23363892e+00   2.09278507e-04]\n",
      "17 [  1.86626527e+01   3.23386962e+00   2.09257098e-04]\n",
      "18 [  1.86636585e+01   3.23364845e+00   2.09248875e-04]\n",
      "19 [  1.86647992e+01   3.23371335e+00   2.09244467e-04]\n",
      "20 [  1.86653666e+01   3.23371579e+00   2.09242010e-04]\n"
     ]
    }
   ],
   "source": [
    "def objective_function(abc):\n",
    "    return np.sum(np.abs(medicina_HSV_control(abc) - RGB_S))\n",
    "\n",
    "\n",
    "I = 1\n",
    "def callback(*args):\n",
    "    global I\n",
    "    print(I, args[0][:10])\n",
    "    I += 1\n",
    "\n",
    "    \n",
    "P = scipy.optimize.minimize(objective_function, (np.pi * 6, np.pi, np.pi / 180), callback=callback)"
   ]
  },
  {
   "cell_type": "code",
   "execution_count": 11,
   "metadata": {},
   "outputs": [
    {
     "data": {
      "text/plain": [
       "      fun: 0.0034695445150292326\n",
       " hess_inv: array([[  1.31925509e+01,  -2.06802781e-01,  -4.99047609e-05],\n",
       "       [ -2.06802781e-01,   2.51683377e-01,  -6.01824562e-06],\n",
       "       [ -4.99047609e-05,  -6.01824562e-06,   9.81249095e-09]])\n",
       "      jac: array([  9.70065594e-06,   4.56795096e-05,  -4.83787395e-01])\n",
       "  message: 'Desired error not necessarily achieved due to precision loss.'\n",
       "     nfev: 902\n",
       "      nit: 20\n",
       "     njev: 178\n",
       "   status: 2\n",
       "  success: False\n",
       "        x: array([  1.86653666e+01,   3.23371579e+00,   2.09242010e-04])"
      ]
     },
     "execution_count": 11,
     "metadata": {},
     "output_type": "execute_result"
    }
   ],
   "source": [
    "P"
   ]
  },
  {
   "cell_type": "code",
   "execution_count": 12,
   "metadata": {},
   "outputs": [
    {
     "data": {
      "application/vnd.jupyter.widget-view+json": {
       "model_id": "9c2f2d58f5ac4273aae82c4e073bdc05",
       "version_major": 2,
       "version_minor": 0
      },
      "text/plain": [
       "Canvas(toolbar=Toolbar(toolitems=[('Home', 'Reset original view', 'home', 'home'), ('Back', 'Back to previous …"
      ]
     },
     "metadata": {},
     "output_type": "display_data"
    }
   ],
   "source": [
    "colour.plotting.artist()\n",
    "plt.plot(SAMPLES, np.sin(np.linspace(0, 1, len(SAMPLES)) * P.x[0] + P.x[1]) * P.x[2])\n",
    "for i in np.arange(0, 360 + 60, 60) / 360:\n",
    "    plt.axvline(i, c='r')"
   ]
  },
  {
   "cell_type": "code",
   "execution_count": 13,
   "metadata": {},
   "outputs": [
    {
     "name": "stdout",
     "output_type": "stream",
     "text": [
      "0.0103128461949\n",
      "2.57702575792e-05\n"
     ]
    },
    {
     "data": {
      "application/vnd.jupyter.widget-view+json": {
       "model_id": "4078e4a57efd424fad8fdad6d8d9b137",
       "version_major": 2,
       "version_minor": 0
      },
      "text/plain": [
       "Canvas(toolbar=Toolbar(toolitems=[('Home', 'Reset original view', 'home', 'home'), ('Back', 'Back to previous …"
      ]
     },
     "metadata": {},
     "output_type": "display_data"
    }
   ],
   "source": [
    "print(np.max(np.abs(medicina_HSV_control() - RGB_S)))\n",
    "print(np.max(np.abs(medicina_HSV_control(P.x) - RGB_S)))\n",
    "\n",
    "\n",
    "colour.plotting.plot_image(np.resize(np.abs(medicina_HSV_control(P.x) - RGB_S) * 5, [360, 360, 3]));"
   ]
  }
 ],
 "metadata": {
  "colab": {
   "collapsed_sections": [],
   "name": "gamut_mapping_ramblings_01",
   "provenance": []
  },
  "kernelspec": {
   "display_name": "Python 3",
   "language": "python",
   "name": "python3"
  },
  "language_info": {
   "codemirror_mode": {
    "name": "ipython",
    "version": 3
   },
   "file_extension": ".py",
   "mimetype": "text/x-python",
   "name": "python",
   "nbconvert_exporter": "python",
   "pygments_lexer": "ipython3",
   "version": "3.7.6"
  },
  "widgets": {
   "application/vnd.jupyter.widget-state+json": {
    "state": {},
    "version_major": 2,
    "version_minor": 0
   }
  }
 },
 "nbformat": 4,
 "nbformat_minor": 4
}
